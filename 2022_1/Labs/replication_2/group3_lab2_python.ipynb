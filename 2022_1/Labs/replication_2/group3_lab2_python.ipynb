{
 "cells": [
  {
   "cell_type": "markdown",
   "id": "765e0701",
   "metadata": {},
   "source": [
    "## Group3 - Replication_1\n",
    "#### Members\n",
    "1. Andrea Ulloa (20172597)\n",
    "2. Ana Angulo (20171627)\n",
    "3. Angela Coapaza (20171636) \n",
    "\n"
   ]
  },
  {
   "cell_type": "markdown",
   "id": "1c40650b",
   "metadata": {},
   "source": [
    "# Data"
   ]
  },
  {
   "cell_type": "markdown",
   "id": "1df568e9",
   "metadata": {},
   "source": [
    "We consider the same subsample of the U.S. Current Population Survey (2015). Let us load the data set.\n",
    "\n",
    "***Variable description***\n",
    "\n",
    "- occ : occupational classification\n",
    "- ind : industry classification\n",
    "- lwage : log hourly wage\n",
    "- sex : gender (1 female) (0 male)\n",
    "- shs : some high school\n",
    "- hsg : High school graduated\n",
    "- scl : Some College\n",
    "- clg: College Graduate\n",
    "- ad: Advanced Degree\n",
    "- ne: Northeast\n",
    "- mw: Midwest\n",
    "- so: South\n",
    "- we: West\n",
    "- exp1: experience"
   ]
  },
  {
   "cell_type": "code",
   "execution_count": 1,
   "id": "fbb22bcb",
   "metadata": {},
   "outputs": [
    {
     "name": "stdout",
     "output_type": "stream",
     "text": [
      "Requirement already satisfied: pyreadr in c:\\users\\ana\\anaconda3\\lib\\site-packages (0.4.4)\n",
      "Requirement already satisfied: pandas>=1.2.0 in c:\\users\\ana\\anaconda3\\lib\\site-packages (from pyreadr) (1.3.4)\n",
      "Requirement already satisfied: numpy>=1.17.3 in c:\\users\\ana\\anaconda3\\lib\\site-packages (from pandas>=1.2.0->pyreadr) (1.20.3)\n",
      "Requirement already satisfied: python-dateutil>=2.7.3 in c:\\users\\ana\\anaconda3\\lib\\site-packages (from pandas>=1.2.0->pyreadr) (2.8.2)\n",
      "Requirement already satisfied: pytz>=2017.3 in c:\\users\\ana\\anaconda3\\lib\\site-packages (from pandas>=1.2.0->pyreadr) (2021.3)\n",
      "Requirement already satisfied: six>=1.5 in c:\\users\\ana\\anaconda3\\lib\\site-packages (from python-dateutil>=2.7.3->pandas>=1.2.0->pyreadr) (1.16.0)\n",
      "Note: you may need to restart the kernel to use updated packages.\n"
     ]
    }
   ],
   "source": [
    "pip install pyreadr "
   ]
  },
  {
   "cell_type": "code",
   "execution_count": 1,
   "id": "169ef77c",
   "metadata": {},
   "outputs": [],
   "source": [
    "# Import relevant packages\n",
    "import pandas as pd\n",
    "import numpy as np\n",
    "import statsmodels.api as sm\n",
    "import statsmodels.formula.api as smf"
   ]
  },
  {
   "cell_type": "code",
   "execution_count": 2,
   "id": "84f6f6db",
   "metadata": {},
   "outputs": [
    {
     "data": {
      "text/plain": [
       "(5150, 21)"
      ]
     },
     "execution_count": 2,
     "metadata": {},
     "output_type": "execute_result"
    }
   ],
   "source": [
    "# Extracting the data\n",
    "total_data  = pd.read_csv(r'../../data/wage2015_subsample_inference.csv')\n",
    "total_data['occ']=pd.Categorical(total_data.occ)\n",
    "total_data['occ2']=pd.Categorical(total_data.occ2)\n",
    "total_data['ind']=pd.Categorical(total_data.ind)\n",
    "total_data['ind2']=pd.Categorical(total_data.ind2)\n",
    "\n",
    "#Determining the dimension of our data set.\n",
    "total_data.shape\n",
    "# There are 5150 obs and 21 features"
   ]
  },
  {
   "cell_type": "markdown",
   "id": "9020142c",
   "metadata": {},
   "source": [
    "Focus on the subset of college-educated workers (scl, clg variables). Thus, we will filter the observations that are at least one year old or have finished college."
   ]
  },
  {
   "cell_type": "code",
   "execution_count": 3,
   "id": "718d08f2",
   "metadata": {},
   "outputs": [
    {
     "name": "stdout",
     "output_type": "stream",
     "text": [
      "0.0    5030\n",
      "1.0     120\n",
      "Name: shs, dtype: int64\n",
      "0.0    3894\n",
      "1.0    1256\n",
      "Name: hsg, dtype: int64\n"
     ]
    }
   ],
   "source": [
    "print(total_data['shs'].value_counts()) \n",
    "print(total_data['hsg'].value_counts()) \n",
    "# In our new base we should have 3068 observations"
   ]
  },
  {
   "cell_type": "code",
   "execution_count": 4,
   "id": "8126a16e",
   "metadata": {},
   "outputs": [
    {
     "data": {
      "text/html": [
       "<div>\n",
       "<style scoped>\n",
       "    .dataframe tbody tr th:only-of-type {\n",
       "        vertical-align: middle;\n",
       "    }\n",
       "\n",
       "    .dataframe tbody tr th {\n",
       "        vertical-align: top;\n",
       "    }\n",
       "\n",
       "    .dataframe thead th {\n",
       "        text-align: right;\n",
       "    }\n",
       "</style>\n",
       "<table border=\"1\" class=\"dataframe\">\n",
       "  <thead>\n",
       "    <tr style=\"text-align: right;\">\n",
       "      <th></th>\n",
       "      <th>rownames</th>\n",
       "      <th>wage</th>\n",
       "      <th>lwage</th>\n",
       "      <th>sex</th>\n",
       "      <th>shs</th>\n",
       "      <th>hsg</th>\n",
       "      <th>scl</th>\n",
       "      <th>clg</th>\n",
       "      <th>ad</th>\n",
       "      <th>mw</th>\n",
       "      <th>...</th>\n",
       "      <th>we</th>\n",
       "      <th>ne</th>\n",
       "      <th>exp1</th>\n",
       "      <th>exp2</th>\n",
       "      <th>exp3</th>\n",
       "      <th>exp4</th>\n",
       "      <th>occ</th>\n",
       "      <th>occ2</th>\n",
       "      <th>ind</th>\n",
       "      <th>ind2</th>\n",
       "    </tr>\n",
       "  </thead>\n",
       "  <tbody>\n",
       "    <tr>\n",
       "      <th>2</th>\n",
       "      <td>15</td>\n",
       "      <td>11.057692</td>\n",
       "      <td>2.403126</td>\n",
       "      <td>0.0</td>\n",
       "      <td>0.0</td>\n",
       "      <td>1.0</td>\n",
       "      <td>0.0</td>\n",
       "      <td>0.0</td>\n",
       "      <td>0.0</td>\n",
       "      <td>0.0</td>\n",
       "      <td>...</td>\n",
       "      <td>0.0</td>\n",
       "      <td>1.0</td>\n",
       "      <td>18.0</td>\n",
       "      <td>3.24</td>\n",
       "      <td>5.832</td>\n",
       "      <td>10.4976</td>\n",
       "      <td>6260.0</td>\n",
       "      <td>19</td>\n",
       "      <td>770.0</td>\n",
       "      <td>4</td>\n",
       "    </tr>\n",
       "    <tr>\n",
       "      <th>6</th>\n",
       "      <td>43</td>\n",
       "      <td>19.230769</td>\n",
       "      <td>2.956512</td>\n",
       "      <td>1.0</td>\n",
       "      <td>0.0</td>\n",
       "      <td>1.0</td>\n",
       "      <td>0.0</td>\n",
       "      <td>0.0</td>\n",
       "      <td>0.0</td>\n",
       "      <td>0.0</td>\n",
       "      <td>...</td>\n",
       "      <td>0.0</td>\n",
       "      <td>1.0</td>\n",
       "      <td>42.0</td>\n",
       "      <td>17.64</td>\n",
       "      <td>74.088</td>\n",
       "      <td>311.1696</td>\n",
       "      <td>5120.0</td>\n",
       "      <td>17</td>\n",
       "      <td>7280.0</td>\n",
       "      <td>14</td>\n",
       "    </tr>\n",
       "    <tr>\n",
       "      <th>7</th>\n",
       "      <td>44</td>\n",
       "      <td>19.230769</td>\n",
       "      <td>2.956512</td>\n",
       "      <td>0.0</td>\n",
       "      <td>0.0</td>\n",
       "      <td>1.0</td>\n",
       "      <td>0.0</td>\n",
       "      <td>0.0</td>\n",
       "      <td>0.0</td>\n",
       "      <td>0.0</td>\n",
       "      <td>...</td>\n",
       "      <td>0.0</td>\n",
       "      <td>1.0</td>\n",
       "      <td>37.0</td>\n",
       "      <td>13.69</td>\n",
       "      <td>50.653</td>\n",
       "      <td>187.4161</td>\n",
       "      <td>5240.0</td>\n",
       "      <td>17</td>\n",
       "      <td>5680.0</td>\n",
       "      <td>9</td>\n",
       "    </tr>\n",
       "    <tr>\n",
       "      <th>8</th>\n",
       "      <td>47</td>\n",
       "      <td>12.000000</td>\n",
       "      <td>2.484907</td>\n",
       "      <td>1.0</td>\n",
       "      <td>0.0</td>\n",
       "      <td>1.0</td>\n",
       "      <td>0.0</td>\n",
       "      <td>0.0</td>\n",
       "      <td>0.0</td>\n",
       "      <td>0.0</td>\n",
       "      <td>...</td>\n",
       "      <td>0.0</td>\n",
       "      <td>1.0</td>\n",
       "      <td>31.0</td>\n",
       "      <td>9.61</td>\n",
       "      <td>29.791</td>\n",
       "      <td>92.3521</td>\n",
       "      <td>4040.0</td>\n",
       "      <td>13</td>\n",
       "      <td>8590.0</td>\n",
       "      <td>19</td>\n",
       "    </tr>\n",
       "    <tr>\n",
       "      <th>10</th>\n",
       "      <td>73</td>\n",
       "      <td>17.307692</td>\n",
       "      <td>2.851151</td>\n",
       "      <td>1.0</td>\n",
       "      <td>0.0</td>\n",
       "      <td>1.0</td>\n",
       "      <td>0.0</td>\n",
       "      <td>0.0</td>\n",
       "      <td>0.0</td>\n",
       "      <td>0.0</td>\n",
       "      <td>...</td>\n",
       "      <td>0.0</td>\n",
       "      <td>1.0</td>\n",
       "      <td>7.0</td>\n",
       "      <td>0.49</td>\n",
       "      <td>0.343</td>\n",
       "      <td>0.2401</td>\n",
       "      <td>4020.0</td>\n",
       "      <td>13</td>\n",
       "      <td>8270.0</td>\n",
       "      <td>18</td>\n",
       "    </tr>\n",
       "    <tr>\n",
       "      <th>...</th>\n",
       "      <td>...</td>\n",
       "      <td>...</td>\n",
       "      <td>...</td>\n",
       "      <td>...</td>\n",
       "      <td>...</td>\n",
       "      <td>...</td>\n",
       "      <td>...</td>\n",
       "      <td>...</td>\n",
       "      <td>...</td>\n",
       "      <td>...</td>\n",
       "      <td>...</td>\n",
       "      <td>...</td>\n",
       "      <td>...</td>\n",
       "      <td>...</td>\n",
       "      <td>...</td>\n",
       "      <td>...</td>\n",
       "      <td>...</td>\n",
       "      <td>...</td>\n",
       "      <td>...</td>\n",
       "      <td>...</td>\n",
       "      <td>...</td>\n",
       "    </tr>\n",
       "    <tr>\n",
       "      <th>5135</th>\n",
       "      <td>32580</td>\n",
       "      <td>12.980769</td>\n",
       "      <td>2.563469</td>\n",
       "      <td>0.0</td>\n",
       "      <td>0.0</td>\n",
       "      <td>1.0</td>\n",
       "      <td>0.0</td>\n",
       "      <td>0.0</td>\n",
       "      <td>0.0</td>\n",
       "      <td>0.0</td>\n",
       "      <td>...</td>\n",
       "      <td>1.0</td>\n",
       "      <td>0.0</td>\n",
       "      <td>15.0</td>\n",
       "      <td>2.25</td>\n",
       "      <td>3.375</td>\n",
       "      <td>5.0625</td>\n",
       "      <td>2010.0</td>\n",
       "      <td>6</td>\n",
       "      <td>9370.0</td>\n",
       "      <td>22</td>\n",
       "    </tr>\n",
       "    <tr>\n",
       "      <th>5137</th>\n",
       "      <td>32590</td>\n",
       "      <td>13.461538</td>\n",
       "      <td>2.599837</td>\n",
       "      <td>1.0</td>\n",
       "      <td>0.0</td>\n",
       "      <td>1.0</td>\n",
       "      <td>0.0</td>\n",
       "      <td>0.0</td>\n",
       "      <td>0.0</td>\n",
       "      <td>0.0</td>\n",
       "      <td>...</td>\n",
       "      <td>1.0</td>\n",
       "      <td>0.0</td>\n",
       "      <td>8.0</td>\n",
       "      <td>0.64</td>\n",
       "      <td>0.512</td>\n",
       "      <td>0.4096</td>\n",
       "      <td>4720.0</td>\n",
       "      <td>16</td>\n",
       "      <td>8590.0</td>\n",
       "      <td>19</td>\n",
       "    </tr>\n",
       "    <tr>\n",
       "      <th>5141</th>\n",
       "      <td>32599</td>\n",
       "      <td>22.596154</td>\n",
       "      <td>3.117780</td>\n",
       "      <td>0.0</td>\n",
       "      <td>0.0</td>\n",
       "      <td>1.0</td>\n",
       "      <td>0.0</td>\n",
       "      <td>0.0</td>\n",
       "      <td>0.0</td>\n",
       "      <td>0.0</td>\n",
       "      <td>...</td>\n",
       "      <td>1.0</td>\n",
       "      <td>0.0</td>\n",
       "      <td>15.0</td>\n",
       "      <td>2.25</td>\n",
       "      <td>3.375</td>\n",
       "      <td>5.0625</td>\n",
       "      <td>9620.0</td>\n",
       "      <td>22</td>\n",
       "      <td>5390.0</td>\n",
       "      <td>9</td>\n",
       "    </tr>\n",
       "    <tr>\n",
       "      <th>5142</th>\n",
       "      <td>32603</td>\n",
       "      <td>16.826923</td>\n",
       "      <td>2.822980</td>\n",
       "      <td>0.0</td>\n",
       "      <td>0.0</td>\n",
       "      <td>1.0</td>\n",
       "      <td>0.0</td>\n",
       "      <td>0.0</td>\n",
       "      <td>0.0</td>\n",
       "      <td>0.0</td>\n",
       "      <td>...</td>\n",
       "      <td>1.0</td>\n",
       "      <td>0.0</td>\n",
       "      <td>11.0</td>\n",
       "      <td>1.21</td>\n",
       "      <td>1.331</td>\n",
       "      <td>1.4641</td>\n",
       "      <td>7150.0</td>\n",
       "      <td>20</td>\n",
       "      <td>8770.0</td>\n",
       "      <td>21</td>\n",
       "    </tr>\n",
       "    <tr>\n",
       "      <th>5148</th>\n",
       "      <td>32631</td>\n",
       "      <td>32.967033</td>\n",
       "      <td>3.495508</td>\n",
       "      <td>0.0</td>\n",
       "      <td>0.0</td>\n",
       "      <td>1.0</td>\n",
       "      <td>0.0</td>\n",
       "      <td>0.0</td>\n",
       "      <td>0.0</td>\n",
       "      <td>0.0</td>\n",
       "      <td>...</td>\n",
       "      <td>1.0</td>\n",
       "      <td>0.0</td>\n",
       "      <td>10.0</td>\n",
       "      <td>1.00</td>\n",
       "      <td>1.000</td>\n",
       "      <td>1.0000</td>\n",
       "      <td>2920.0</td>\n",
       "      <td>9</td>\n",
       "      <td>6570.0</td>\n",
       "      <td>11</td>\n",
       "    </tr>\n",
       "  </tbody>\n",
       "</table>\n",
       "<p>1376 rows × 21 columns</p>\n",
       "</div>"
      ],
      "text/plain": [
       "      rownames       wage     lwage  sex  shs  hsg  scl  clg   ad   mw  ...  \\\n",
       "2           15  11.057692  2.403126  0.0  0.0  1.0  0.0  0.0  0.0  0.0  ...   \n",
       "6           43  19.230769  2.956512  1.0  0.0  1.0  0.0  0.0  0.0  0.0  ...   \n",
       "7           44  19.230769  2.956512  0.0  0.0  1.0  0.0  0.0  0.0  0.0  ...   \n",
       "8           47  12.000000  2.484907  1.0  0.0  1.0  0.0  0.0  0.0  0.0  ...   \n",
       "10          73  17.307692  2.851151  1.0  0.0  1.0  0.0  0.0  0.0  0.0  ...   \n",
       "...        ...        ...       ...  ...  ...  ...  ...  ...  ...  ...  ...   \n",
       "5135     32580  12.980769  2.563469  0.0  0.0  1.0  0.0  0.0  0.0  0.0  ...   \n",
       "5137     32590  13.461538  2.599837  1.0  0.0  1.0  0.0  0.0  0.0  0.0  ...   \n",
       "5141     32599  22.596154  3.117780  0.0  0.0  1.0  0.0  0.0  0.0  0.0  ...   \n",
       "5142     32603  16.826923  2.822980  0.0  0.0  1.0  0.0  0.0  0.0  0.0  ...   \n",
       "5148     32631  32.967033  3.495508  0.0  0.0  1.0  0.0  0.0  0.0  0.0  ...   \n",
       "\n",
       "       we   ne  exp1   exp2    exp3      exp4     occ occ2     ind ind2  \n",
       "2     0.0  1.0  18.0   3.24   5.832   10.4976  6260.0   19   770.0    4  \n",
       "6     0.0  1.0  42.0  17.64  74.088  311.1696  5120.0   17  7280.0   14  \n",
       "7     0.0  1.0  37.0  13.69  50.653  187.4161  5240.0   17  5680.0    9  \n",
       "8     0.0  1.0  31.0   9.61  29.791   92.3521  4040.0   13  8590.0   19  \n",
       "10    0.0  1.0   7.0   0.49   0.343    0.2401  4020.0   13  8270.0   18  \n",
       "...   ...  ...   ...    ...     ...       ...     ...  ...     ...  ...  \n",
       "5135  1.0  0.0  15.0   2.25   3.375    5.0625  2010.0    6  9370.0   22  \n",
       "5137  1.0  0.0   8.0   0.64   0.512    0.4096  4720.0   16  8590.0   19  \n",
       "5141  1.0  0.0  15.0   2.25   3.375    5.0625  9620.0   22  5390.0    9  \n",
       "5142  1.0  0.0  11.0   1.21   1.331    1.4641  7150.0   20  8770.0   21  \n",
       "5148  1.0  0.0  10.0   1.00   1.000    1.0000  2920.0    9  6570.0   11  \n",
       "\n",
       "[1376 rows x 21 columns]"
      ]
     },
     "execution_count": 4,
     "metadata": {},
     "output_type": "execute_result"
    }
   ],
   "source": [
    "data = total_data[(total_data['shs'] == 1) | (total_data['hsg'] == 1)]\n",
    "data"
   ]
  },
  {
   "cell_type": "markdown",
   "id": "39680a33",
   "metadata": {},
   "source": [
    "### Describing the main variables "
   ]
  },
  {
   "cell_type": "markdown",
   "id": "423b39a0",
   "metadata": {},
   "source": [
    "Let's go to **describe the main variables** that we will use later to obtain the causal effect of sex on income: \n",
    "\n",
    "wage, log-wage, sex, some college, college graduate, avdanced degree, experience"
   ]
  },
  {
   "cell_type": "code",
   "execution_count": 5,
   "id": "7fec0b41",
   "metadata": {
    "scrolled": true
   },
   "outputs": [
    {
     "data": {
      "text/html": [
       "<div>\n",
       "<style scoped>\n",
       "    .dataframe tbody tr th:only-of-type {\n",
       "        vertical-align: middle;\n",
       "    }\n",
       "\n",
       "    .dataframe tbody tr th {\n",
       "        vertical-align: top;\n",
       "    }\n",
       "\n",
       "    .dataframe thead th {\n",
       "        text-align: right;\n",
       "    }\n",
       "</style>\n",
       "<table border=\"1\" class=\"dataframe\">\n",
       "  <thead>\n",
       "    <tr style=\"text-align: right;\">\n",
       "      <th></th>\n",
       "      <th>rownames</th>\n",
       "      <th>wage</th>\n",
       "      <th>lwage</th>\n",
       "      <th>sex</th>\n",
       "      <th>shs</th>\n",
       "      <th>hsg</th>\n",
       "      <th>scl</th>\n",
       "      <th>clg</th>\n",
       "      <th>ad</th>\n",
       "      <th>mw</th>\n",
       "      <th>so</th>\n",
       "      <th>we</th>\n",
       "      <th>ne</th>\n",
       "      <th>exp1</th>\n",
       "      <th>exp2</th>\n",
       "      <th>exp3</th>\n",
       "      <th>exp4</th>\n",
       "    </tr>\n",
       "  </thead>\n",
       "  <tbody>\n",
       "    <tr>\n",
       "      <th>count</th>\n",
       "      <td>1376.000000</td>\n",
       "      <td>1376.000000</td>\n",
       "      <td>1376.000000</td>\n",
       "      <td>1376.000000</td>\n",
       "      <td>1376.000000</td>\n",
       "      <td>1376.000000</td>\n",
       "      <td>1376.0</td>\n",
       "      <td>1376.0</td>\n",
       "      <td>1376.0</td>\n",
       "      <td>1376.000000</td>\n",
       "      <td>1376.000000</td>\n",
       "      <td>1376.000000</td>\n",
       "      <td>1376.000000</td>\n",
       "      <td>1376.000000</td>\n",
       "      <td>1376.000000</td>\n",
       "      <td>1376.000000</td>\n",
       "      <td>1376.000000</td>\n",
       "    </tr>\n",
       "    <tr>\n",
       "      <th>mean</th>\n",
       "      <td>15324.329215</td>\n",
       "      <td>17.854354</td>\n",
       "      <td>2.718562</td>\n",
       "      <td>0.321948</td>\n",
       "      <td>0.087209</td>\n",
       "      <td>0.912791</td>\n",
       "      <td>0.0</td>\n",
       "      <td>0.0</td>\n",
       "      <td>0.0</td>\n",
       "      <td>0.286337</td>\n",
       "      <td>0.291424</td>\n",
       "      <td>0.198401</td>\n",
       "      <td>0.223837</td>\n",
       "      <td>17.190044</td>\n",
       "      <td>4.029529</td>\n",
       "      <td>11.434386</td>\n",
       "      <td>36.158301</td>\n",
       "    </tr>\n",
       "    <tr>\n",
       "      <th>std</th>\n",
       "      <td>9558.392920</td>\n",
       "      <td>22.153617</td>\n",
       "      <td>0.504167</td>\n",
       "      <td>0.467393</td>\n",
       "      <td>0.282244</td>\n",
       "      <td>0.282244</td>\n",
       "      <td>0.0</td>\n",
       "      <td>0.0</td>\n",
       "      <td>0.0</td>\n",
       "      <td>0.452213</td>\n",
       "      <td>0.454584</td>\n",
       "      <td>0.398941</td>\n",
       "      <td>0.416966</td>\n",
       "      <td>10.369836</td>\n",
       "      <td>4.464939</td>\n",
       "      <td>17.304596</td>\n",
       "      <td>67.243707</td>\n",
       "    </tr>\n",
       "    <tr>\n",
       "      <th>min</th>\n",
       "      <td>15.000000</td>\n",
       "      <td>3.365385</td>\n",
       "      <td>1.213542</td>\n",
       "      <td>0.000000</td>\n",
       "      <td>0.000000</td>\n",
       "      <td>0.000000</td>\n",
       "      <td>0.0</td>\n",
       "      <td>0.0</td>\n",
       "      <td>0.0</td>\n",
       "      <td>0.000000</td>\n",
       "      <td>0.000000</td>\n",
       "      <td>0.000000</td>\n",
       "      <td>0.000000</td>\n",
       "      <td>5.000000</td>\n",
       "      <td>0.250000</td>\n",
       "      <td>0.125000</td>\n",
       "      <td>0.062500</td>\n",
       "    </tr>\n",
       "    <tr>\n",
       "      <th>25%</th>\n",
       "      <td>6968.000000</td>\n",
       "      <td>10.989011</td>\n",
       "      <td>2.396896</td>\n",
       "      <td>0.000000</td>\n",
       "      <td>0.000000</td>\n",
       "      <td>1.000000</td>\n",
       "      <td>0.0</td>\n",
       "      <td>0.0</td>\n",
       "      <td>0.0</td>\n",
       "      <td>0.000000</td>\n",
       "      <td>0.000000</td>\n",
       "      <td>0.000000</td>\n",
       "      <td>0.000000</td>\n",
       "      <td>9.000000</td>\n",
       "      <td>0.810000</td>\n",
       "      <td>0.729000</td>\n",
       "      <td>0.656100</td>\n",
       "    </tr>\n",
       "    <tr>\n",
       "      <th>50%</th>\n",
       "      <td>14436.000000</td>\n",
       "      <td>14.615385</td>\n",
       "      <td>2.682075</td>\n",
       "      <td>0.000000</td>\n",
       "      <td>0.000000</td>\n",
       "      <td>1.000000</td>\n",
       "      <td>0.0</td>\n",
       "      <td>0.0</td>\n",
       "      <td>0.0</td>\n",
       "      <td>0.000000</td>\n",
       "      <td>0.000000</td>\n",
       "      <td>0.000000</td>\n",
       "      <td>0.000000</td>\n",
       "      <td>14.000000</td>\n",
       "      <td>1.960000</td>\n",
       "      <td>2.744000</td>\n",
       "      <td>3.841600</td>\n",
       "    </tr>\n",
       "    <tr>\n",
       "      <th>75%</th>\n",
       "      <td>23460.500000</td>\n",
       "      <td>20.097115</td>\n",
       "      <td>3.000573</td>\n",
       "      <td>1.000000</td>\n",
       "      <td>0.000000</td>\n",
       "      <td>1.000000</td>\n",
       "      <td>0.0</td>\n",
       "      <td>0.0</td>\n",
       "      <td>0.0</td>\n",
       "      <td>1.000000</td>\n",
       "      <td>1.000000</td>\n",
       "      <td>0.000000</td>\n",
       "      <td>0.000000</td>\n",
       "      <td>25.000000</td>\n",
       "      <td>6.250000</td>\n",
       "      <td>15.625000</td>\n",
       "      <td>39.062500</td>\n",
       "    </tr>\n",
       "    <tr>\n",
       "      <th>max</th>\n",
       "      <td>32631.000000</td>\n",
       "      <td>528.845673</td>\n",
       "      <td>6.270697</td>\n",
       "      <td>1.000000</td>\n",
       "      <td>1.000000</td>\n",
       "      <td>1.000000</td>\n",
       "      <td>0.0</td>\n",
       "      <td>0.0</td>\n",
       "      <td>0.0</td>\n",
       "      <td>1.000000</td>\n",
       "      <td>1.000000</td>\n",
       "      <td>1.000000</td>\n",
       "      <td>1.000000</td>\n",
       "      <td>47.000000</td>\n",
       "      <td>22.090000</td>\n",
       "      <td>103.823000</td>\n",
       "      <td>487.968100</td>\n",
       "    </tr>\n",
       "  </tbody>\n",
       "</table>\n",
       "</div>"
      ],
      "text/plain": [
       "           rownames         wage        lwage          sex          shs  \\\n",
       "count   1376.000000  1376.000000  1376.000000  1376.000000  1376.000000   \n",
       "mean   15324.329215    17.854354     2.718562     0.321948     0.087209   \n",
       "std     9558.392920    22.153617     0.504167     0.467393     0.282244   \n",
       "min       15.000000     3.365385     1.213542     0.000000     0.000000   \n",
       "25%     6968.000000    10.989011     2.396896     0.000000     0.000000   \n",
       "50%    14436.000000    14.615385     2.682075     0.000000     0.000000   \n",
       "75%    23460.500000    20.097115     3.000573     1.000000     0.000000   \n",
       "max    32631.000000   528.845673     6.270697     1.000000     1.000000   \n",
       "\n",
       "               hsg     scl     clg      ad           mw           so  \\\n",
       "count  1376.000000  1376.0  1376.0  1376.0  1376.000000  1376.000000   \n",
       "mean      0.912791     0.0     0.0     0.0     0.286337     0.291424   \n",
       "std       0.282244     0.0     0.0     0.0     0.452213     0.454584   \n",
       "min       0.000000     0.0     0.0     0.0     0.000000     0.000000   \n",
       "25%       1.000000     0.0     0.0     0.0     0.000000     0.000000   \n",
       "50%       1.000000     0.0     0.0     0.0     0.000000     0.000000   \n",
       "75%       1.000000     0.0     0.0     0.0     1.000000     1.000000   \n",
       "max       1.000000     0.0     0.0     0.0     1.000000     1.000000   \n",
       "\n",
       "                we           ne         exp1         exp2         exp3  \\\n",
       "count  1376.000000  1376.000000  1376.000000  1376.000000  1376.000000   \n",
       "mean      0.198401     0.223837    17.190044     4.029529    11.434386   \n",
       "std       0.398941     0.416966    10.369836     4.464939    17.304596   \n",
       "min       0.000000     0.000000     5.000000     0.250000     0.125000   \n",
       "25%       0.000000     0.000000     9.000000     0.810000     0.729000   \n",
       "50%       0.000000     0.000000    14.000000     1.960000     2.744000   \n",
       "75%       0.000000     0.000000    25.000000     6.250000    15.625000   \n",
       "max       1.000000     1.000000    47.000000    22.090000   103.823000   \n",
       "\n",
       "              exp4  \n",
       "count  1376.000000  \n",
       "mean     36.158301  \n",
       "std      67.243707  \n",
       "min       0.062500  \n",
       "25%       0.656100  \n",
       "50%       3.841600  \n",
       "75%      39.062500  \n",
       "max     487.968100  "
      ]
     },
     "execution_count": 5,
     "metadata": {},
     "output_type": "execute_result"
    }
   ],
   "source": [
    "data.describe()\n",
    "#\"lwage\",\"sex\",\"scl\",\"clg\",\"ne\",\"mw\",\"so\",\"we\",\"exp1\" - to regression\n",
    "#\"wage, lwage\",\"sex\",\"scl\",\"clg\",\"ne\",\"mw\",\"so\",\"we\",\"exp1\" - to describe"
   ]
  },
  {
   "cell_type": "code",
   "execution_count": 6,
   "id": "2c781b58",
   "metadata": {},
   "outputs": [
    {
     "name": "stderr",
     "output_type": "stream",
     "text": [
      "C:\\Users\\ANA\\AppData\\Local\\Temp/ipykernel_15812/2382442191.py:2: SettingWithCopyWarning: \n",
      "A value is trying to be set on a copy of a slice from a DataFrame.\n",
      "Try using .loc[row_indexer,col_indexer] = value instead\n",
      "\n",
      "See the caveats in the documentation: https://pandas.pydata.org/pandas-docs/stable/user_guide/indexing.html#returning-a-view-versus-a-copy\n",
      "  data['sexo']=\"female\"\n",
      "C:\\Users\\ANA\\anaconda3\\lib\\site-packages\\pandas\\core\\indexing.py:1817: SettingWithCopyWarning: \n",
      "A value is trying to be set on a copy of a slice from a DataFrame.\n",
      "Try using .loc[row_indexer,col_indexer] = value instead\n",
      "\n",
      "See the caveats in the documentation: https://pandas.pydata.org/pandas-docs/stable/user_guide/indexing.html#returning-a-view-versus-a-copy\n",
      "  self._setitem_single_column(loc, value, pi)\n"
     ]
    },
    {
     "data": {
      "text/html": [
       "<div>\n",
       "<style scoped>\n",
       "    .dataframe tbody tr th:only-of-type {\n",
       "        vertical-align: middle;\n",
       "    }\n",
       "\n",
       "    .dataframe tbody tr th {\n",
       "        vertical-align: top;\n",
       "    }\n",
       "\n",
       "    .dataframe thead th {\n",
       "        text-align: right;\n",
       "    }\n",
       "</style>\n",
       "<table border=\"1\" class=\"dataframe\">\n",
       "  <thead>\n",
       "    <tr style=\"text-align: right;\">\n",
       "      <th></th>\n",
       "      <th>rownames</th>\n",
       "      <th>wage</th>\n",
       "      <th>lwage</th>\n",
       "      <th>sex</th>\n",
       "      <th>shs</th>\n",
       "      <th>hsg</th>\n",
       "      <th>scl</th>\n",
       "      <th>clg</th>\n",
       "      <th>ad</th>\n",
       "      <th>mw</th>\n",
       "      <th>...</th>\n",
       "      <th>ne</th>\n",
       "      <th>exp1</th>\n",
       "      <th>exp2</th>\n",
       "      <th>exp3</th>\n",
       "      <th>exp4</th>\n",
       "      <th>occ</th>\n",
       "      <th>occ2</th>\n",
       "      <th>ind</th>\n",
       "      <th>ind2</th>\n",
       "      <th>sexo</th>\n",
       "    </tr>\n",
       "  </thead>\n",
       "  <tbody>\n",
       "    <tr>\n",
       "      <th>2</th>\n",
       "      <td>15</td>\n",
       "      <td>11.057692</td>\n",
       "      <td>2.403126</td>\n",
       "      <td>0.0</td>\n",
       "      <td>0.0</td>\n",
       "      <td>1.0</td>\n",
       "      <td>0.0</td>\n",
       "      <td>0.0</td>\n",
       "      <td>0.0</td>\n",
       "      <td>0.0</td>\n",
       "      <td>...</td>\n",
       "      <td>1.0</td>\n",
       "      <td>18.0</td>\n",
       "      <td>3.24</td>\n",
       "      <td>5.832</td>\n",
       "      <td>10.4976</td>\n",
       "      <td>6260.0</td>\n",
       "      <td>19</td>\n",
       "      <td>770.0</td>\n",
       "      <td>4</td>\n",
       "      <td>male</td>\n",
       "    </tr>\n",
       "    <tr>\n",
       "      <th>6</th>\n",
       "      <td>43</td>\n",
       "      <td>19.230769</td>\n",
       "      <td>2.956512</td>\n",
       "      <td>1.0</td>\n",
       "      <td>0.0</td>\n",
       "      <td>1.0</td>\n",
       "      <td>0.0</td>\n",
       "      <td>0.0</td>\n",
       "      <td>0.0</td>\n",
       "      <td>0.0</td>\n",
       "      <td>...</td>\n",
       "      <td>1.0</td>\n",
       "      <td>42.0</td>\n",
       "      <td>17.64</td>\n",
       "      <td>74.088</td>\n",
       "      <td>311.1696</td>\n",
       "      <td>5120.0</td>\n",
       "      <td>17</td>\n",
       "      <td>7280.0</td>\n",
       "      <td>14</td>\n",
       "      <td>female</td>\n",
       "    </tr>\n",
       "    <tr>\n",
       "      <th>7</th>\n",
       "      <td>44</td>\n",
       "      <td>19.230769</td>\n",
       "      <td>2.956512</td>\n",
       "      <td>0.0</td>\n",
       "      <td>0.0</td>\n",
       "      <td>1.0</td>\n",
       "      <td>0.0</td>\n",
       "      <td>0.0</td>\n",
       "      <td>0.0</td>\n",
       "      <td>0.0</td>\n",
       "      <td>...</td>\n",
       "      <td>1.0</td>\n",
       "      <td>37.0</td>\n",
       "      <td>13.69</td>\n",
       "      <td>50.653</td>\n",
       "      <td>187.4161</td>\n",
       "      <td>5240.0</td>\n",
       "      <td>17</td>\n",
       "      <td>5680.0</td>\n",
       "      <td>9</td>\n",
       "      <td>male</td>\n",
       "    </tr>\n",
       "    <tr>\n",
       "      <th>8</th>\n",
       "      <td>47</td>\n",
       "      <td>12.000000</td>\n",
       "      <td>2.484907</td>\n",
       "      <td>1.0</td>\n",
       "      <td>0.0</td>\n",
       "      <td>1.0</td>\n",
       "      <td>0.0</td>\n",
       "      <td>0.0</td>\n",
       "      <td>0.0</td>\n",
       "      <td>0.0</td>\n",
       "      <td>...</td>\n",
       "      <td>1.0</td>\n",
       "      <td>31.0</td>\n",
       "      <td>9.61</td>\n",
       "      <td>29.791</td>\n",
       "      <td>92.3521</td>\n",
       "      <td>4040.0</td>\n",
       "      <td>13</td>\n",
       "      <td>8590.0</td>\n",
       "      <td>19</td>\n",
       "      <td>female</td>\n",
       "    </tr>\n",
       "    <tr>\n",
       "      <th>10</th>\n",
       "      <td>73</td>\n",
       "      <td>17.307692</td>\n",
       "      <td>2.851151</td>\n",
       "      <td>1.0</td>\n",
       "      <td>0.0</td>\n",
       "      <td>1.0</td>\n",
       "      <td>0.0</td>\n",
       "      <td>0.0</td>\n",
       "      <td>0.0</td>\n",
       "      <td>0.0</td>\n",
       "      <td>...</td>\n",
       "      <td>1.0</td>\n",
       "      <td>7.0</td>\n",
       "      <td>0.49</td>\n",
       "      <td>0.343</td>\n",
       "      <td>0.2401</td>\n",
       "      <td>4020.0</td>\n",
       "      <td>13</td>\n",
       "      <td>8270.0</td>\n",
       "      <td>18</td>\n",
       "      <td>female</td>\n",
       "    </tr>\n",
       "  </tbody>\n",
       "</table>\n",
       "<p>5 rows × 22 columns</p>\n",
       "</div>"
      ],
      "text/plain": [
       "    rownames       wage     lwage  sex  shs  hsg  scl  clg   ad   mw  ...  \\\n",
       "2         15  11.057692  2.403126  0.0  0.0  1.0  0.0  0.0  0.0  0.0  ...   \n",
       "6         43  19.230769  2.956512  1.0  0.0  1.0  0.0  0.0  0.0  0.0  ...   \n",
       "7         44  19.230769  2.956512  0.0  0.0  1.0  0.0  0.0  0.0  0.0  ...   \n",
       "8         47  12.000000  2.484907  1.0  0.0  1.0  0.0  0.0  0.0  0.0  ...   \n",
       "10        73  17.307692  2.851151  1.0  0.0  1.0  0.0  0.0  0.0  0.0  ...   \n",
       "\n",
       "     ne  exp1   exp2    exp3      exp4     occ  occ2     ind ind2    sexo  \n",
       "2   1.0  18.0   3.24   5.832   10.4976  6260.0    19   770.0    4    male  \n",
       "6   1.0  42.0  17.64  74.088  311.1696  5120.0    17  7280.0   14  female  \n",
       "7   1.0  37.0  13.69  50.653  187.4161  5240.0    17  5680.0    9    male  \n",
       "8   1.0  31.0   9.61  29.791   92.3521  4040.0    13  8590.0   19  female  \n",
       "10  1.0   7.0   0.49   0.343    0.2401  4020.0    13  8270.0   18  female  \n",
       "\n",
       "[5 rows x 22 columns]"
      ]
     },
     "execution_count": 6,
     "metadata": {},
     "output_type": "execute_result"
    }
   ],
   "source": [
    "#Creando una variable string para los graficos\n",
    "data['sexo']=\"female\"\n",
    "data.loc[data[ 'sex' ] == 0,'sexo'] = \"male\"\n",
    "data.head()"
   ]
  },
  {
   "cell_type": "code",
   "execution_count": 7,
   "id": "a6e299bd",
   "metadata": {},
   "outputs": [
    {
     "name": "stderr",
     "output_type": "stream",
     "text": [
      "C:\\Users\\ANA\\AppData\\Local\\Temp/ipykernel_15812/3052232993.py:1: SettingWithCopyWarning: \n",
      "A value is trying to be set on a copy of a slice from a DataFrame.\n",
      "Try using .loc[row_indexer,col_indexer] = value instead\n",
      "\n",
      "See the caveats in the documentation: https://pandas.pydata.org/pandas-docs/stable/user_guide/indexing.html#returning-a-view-versus-a-copy\n",
      "  data['place']=\"South\"\n",
      "C:\\Users\\ANA\\anaconda3\\lib\\site-packages\\pandas\\core\\indexing.py:1817: SettingWithCopyWarning: \n",
      "A value is trying to be set on a copy of a slice from a DataFrame.\n",
      "Try using .loc[row_indexer,col_indexer] = value instead\n",
      "\n",
      "See the caveats in the documentation: https://pandas.pydata.org/pandas-docs/stable/user_guide/indexing.html#returning-a-view-versus-a-copy\n",
      "  self._setitem_single_column(loc, value, pi)\n"
     ]
    },
    {
     "data": {
      "text/html": [
       "<div>\n",
       "<style scoped>\n",
       "    .dataframe tbody tr th:only-of-type {\n",
       "        vertical-align: middle;\n",
       "    }\n",
       "\n",
       "    .dataframe tbody tr th {\n",
       "        vertical-align: top;\n",
       "    }\n",
       "\n",
       "    .dataframe thead th {\n",
       "        text-align: right;\n",
       "    }\n",
       "</style>\n",
       "<table border=\"1\" class=\"dataframe\">\n",
       "  <thead>\n",
       "    <tr style=\"text-align: right;\">\n",
       "      <th></th>\n",
       "      <th>rownames</th>\n",
       "      <th>wage</th>\n",
       "      <th>lwage</th>\n",
       "      <th>sex</th>\n",
       "      <th>shs</th>\n",
       "      <th>hsg</th>\n",
       "      <th>scl</th>\n",
       "      <th>clg</th>\n",
       "      <th>ad</th>\n",
       "      <th>mw</th>\n",
       "      <th>...</th>\n",
       "      <th>exp1</th>\n",
       "      <th>exp2</th>\n",
       "      <th>exp3</th>\n",
       "      <th>exp4</th>\n",
       "      <th>occ</th>\n",
       "      <th>occ2</th>\n",
       "      <th>ind</th>\n",
       "      <th>ind2</th>\n",
       "      <th>sexo</th>\n",
       "      <th>place</th>\n",
       "    </tr>\n",
       "  </thead>\n",
       "  <tbody>\n",
       "    <tr>\n",
       "      <th>2</th>\n",
       "      <td>15</td>\n",
       "      <td>11.057692</td>\n",
       "      <td>2.403126</td>\n",
       "      <td>0.0</td>\n",
       "      <td>0.0</td>\n",
       "      <td>1.0</td>\n",
       "      <td>0.0</td>\n",
       "      <td>0.0</td>\n",
       "      <td>0.0</td>\n",
       "      <td>0.0</td>\n",
       "      <td>...</td>\n",
       "      <td>18.0</td>\n",
       "      <td>3.24</td>\n",
       "      <td>5.832</td>\n",
       "      <td>10.4976</td>\n",
       "      <td>6260.0</td>\n",
       "      <td>19</td>\n",
       "      <td>770.0</td>\n",
       "      <td>4</td>\n",
       "      <td>male</td>\n",
       "      <td>Northeast</td>\n",
       "    </tr>\n",
       "    <tr>\n",
       "      <th>6</th>\n",
       "      <td>43</td>\n",
       "      <td>19.230769</td>\n",
       "      <td>2.956512</td>\n",
       "      <td>1.0</td>\n",
       "      <td>0.0</td>\n",
       "      <td>1.0</td>\n",
       "      <td>0.0</td>\n",
       "      <td>0.0</td>\n",
       "      <td>0.0</td>\n",
       "      <td>0.0</td>\n",
       "      <td>...</td>\n",
       "      <td>42.0</td>\n",
       "      <td>17.64</td>\n",
       "      <td>74.088</td>\n",
       "      <td>311.1696</td>\n",
       "      <td>5120.0</td>\n",
       "      <td>17</td>\n",
       "      <td>7280.0</td>\n",
       "      <td>14</td>\n",
       "      <td>female</td>\n",
       "      <td>Northeast</td>\n",
       "    </tr>\n",
       "    <tr>\n",
       "      <th>7</th>\n",
       "      <td>44</td>\n",
       "      <td>19.230769</td>\n",
       "      <td>2.956512</td>\n",
       "      <td>0.0</td>\n",
       "      <td>0.0</td>\n",
       "      <td>1.0</td>\n",
       "      <td>0.0</td>\n",
       "      <td>0.0</td>\n",
       "      <td>0.0</td>\n",
       "      <td>0.0</td>\n",
       "      <td>...</td>\n",
       "      <td>37.0</td>\n",
       "      <td>13.69</td>\n",
       "      <td>50.653</td>\n",
       "      <td>187.4161</td>\n",
       "      <td>5240.0</td>\n",
       "      <td>17</td>\n",
       "      <td>5680.0</td>\n",
       "      <td>9</td>\n",
       "      <td>male</td>\n",
       "      <td>Northeast</td>\n",
       "    </tr>\n",
       "    <tr>\n",
       "      <th>8</th>\n",
       "      <td>47</td>\n",
       "      <td>12.000000</td>\n",
       "      <td>2.484907</td>\n",
       "      <td>1.0</td>\n",
       "      <td>0.0</td>\n",
       "      <td>1.0</td>\n",
       "      <td>0.0</td>\n",
       "      <td>0.0</td>\n",
       "      <td>0.0</td>\n",
       "      <td>0.0</td>\n",
       "      <td>...</td>\n",
       "      <td>31.0</td>\n",
       "      <td>9.61</td>\n",
       "      <td>29.791</td>\n",
       "      <td>92.3521</td>\n",
       "      <td>4040.0</td>\n",
       "      <td>13</td>\n",
       "      <td>8590.0</td>\n",
       "      <td>19</td>\n",
       "      <td>female</td>\n",
       "      <td>Northeast</td>\n",
       "    </tr>\n",
       "    <tr>\n",
       "      <th>10</th>\n",
       "      <td>73</td>\n",
       "      <td>17.307692</td>\n",
       "      <td>2.851151</td>\n",
       "      <td>1.0</td>\n",
       "      <td>0.0</td>\n",
       "      <td>1.0</td>\n",
       "      <td>0.0</td>\n",
       "      <td>0.0</td>\n",
       "      <td>0.0</td>\n",
       "      <td>0.0</td>\n",
       "      <td>...</td>\n",
       "      <td>7.0</td>\n",
       "      <td>0.49</td>\n",
       "      <td>0.343</td>\n",
       "      <td>0.2401</td>\n",
       "      <td>4020.0</td>\n",
       "      <td>13</td>\n",
       "      <td>8270.0</td>\n",
       "      <td>18</td>\n",
       "      <td>female</td>\n",
       "      <td>Northeast</td>\n",
       "    </tr>\n",
       "    <tr>\n",
       "      <th>...</th>\n",
       "      <td>...</td>\n",
       "      <td>...</td>\n",
       "      <td>...</td>\n",
       "      <td>...</td>\n",
       "      <td>...</td>\n",
       "      <td>...</td>\n",
       "      <td>...</td>\n",
       "      <td>...</td>\n",
       "      <td>...</td>\n",
       "      <td>...</td>\n",
       "      <td>...</td>\n",
       "      <td>...</td>\n",
       "      <td>...</td>\n",
       "      <td>...</td>\n",
       "      <td>...</td>\n",
       "      <td>...</td>\n",
       "      <td>...</td>\n",
       "      <td>...</td>\n",
       "      <td>...</td>\n",
       "      <td>...</td>\n",
       "      <td>...</td>\n",
       "    </tr>\n",
       "    <tr>\n",
       "      <th>5135</th>\n",
       "      <td>32580</td>\n",
       "      <td>12.980769</td>\n",
       "      <td>2.563469</td>\n",
       "      <td>0.0</td>\n",
       "      <td>0.0</td>\n",
       "      <td>1.0</td>\n",
       "      <td>0.0</td>\n",
       "      <td>0.0</td>\n",
       "      <td>0.0</td>\n",
       "      <td>0.0</td>\n",
       "      <td>...</td>\n",
       "      <td>15.0</td>\n",
       "      <td>2.25</td>\n",
       "      <td>3.375</td>\n",
       "      <td>5.0625</td>\n",
       "      <td>2010.0</td>\n",
       "      <td>6</td>\n",
       "      <td>9370.0</td>\n",
       "      <td>22</td>\n",
       "      <td>male</td>\n",
       "      <td>West</td>\n",
       "    </tr>\n",
       "    <tr>\n",
       "      <th>5137</th>\n",
       "      <td>32590</td>\n",
       "      <td>13.461538</td>\n",
       "      <td>2.599837</td>\n",
       "      <td>1.0</td>\n",
       "      <td>0.0</td>\n",
       "      <td>1.0</td>\n",
       "      <td>0.0</td>\n",
       "      <td>0.0</td>\n",
       "      <td>0.0</td>\n",
       "      <td>0.0</td>\n",
       "      <td>...</td>\n",
       "      <td>8.0</td>\n",
       "      <td>0.64</td>\n",
       "      <td>0.512</td>\n",
       "      <td>0.4096</td>\n",
       "      <td>4720.0</td>\n",
       "      <td>16</td>\n",
       "      <td>8590.0</td>\n",
       "      <td>19</td>\n",
       "      <td>female</td>\n",
       "      <td>West</td>\n",
       "    </tr>\n",
       "    <tr>\n",
       "      <th>5141</th>\n",
       "      <td>32599</td>\n",
       "      <td>22.596154</td>\n",
       "      <td>3.117780</td>\n",
       "      <td>0.0</td>\n",
       "      <td>0.0</td>\n",
       "      <td>1.0</td>\n",
       "      <td>0.0</td>\n",
       "      <td>0.0</td>\n",
       "      <td>0.0</td>\n",
       "      <td>0.0</td>\n",
       "      <td>...</td>\n",
       "      <td>15.0</td>\n",
       "      <td>2.25</td>\n",
       "      <td>3.375</td>\n",
       "      <td>5.0625</td>\n",
       "      <td>9620.0</td>\n",
       "      <td>22</td>\n",
       "      <td>5390.0</td>\n",
       "      <td>9</td>\n",
       "      <td>male</td>\n",
       "      <td>West</td>\n",
       "    </tr>\n",
       "    <tr>\n",
       "      <th>5142</th>\n",
       "      <td>32603</td>\n",
       "      <td>16.826923</td>\n",
       "      <td>2.822980</td>\n",
       "      <td>0.0</td>\n",
       "      <td>0.0</td>\n",
       "      <td>1.0</td>\n",
       "      <td>0.0</td>\n",
       "      <td>0.0</td>\n",
       "      <td>0.0</td>\n",
       "      <td>0.0</td>\n",
       "      <td>...</td>\n",
       "      <td>11.0</td>\n",
       "      <td>1.21</td>\n",
       "      <td>1.331</td>\n",
       "      <td>1.4641</td>\n",
       "      <td>7150.0</td>\n",
       "      <td>20</td>\n",
       "      <td>8770.0</td>\n",
       "      <td>21</td>\n",
       "      <td>male</td>\n",
       "      <td>West</td>\n",
       "    </tr>\n",
       "    <tr>\n",
       "      <th>5148</th>\n",
       "      <td>32631</td>\n",
       "      <td>32.967033</td>\n",
       "      <td>3.495508</td>\n",
       "      <td>0.0</td>\n",
       "      <td>0.0</td>\n",
       "      <td>1.0</td>\n",
       "      <td>0.0</td>\n",
       "      <td>0.0</td>\n",
       "      <td>0.0</td>\n",
       "      <td>0.0</td>\n",
       "      <td>...</td>\n",
       "      <td>10.0</td>\n",
       "      <td>1.00</td>\n",
       "      <td>1.000</td>\n",
       "      <td>1.0000</td>\n",
       "      <td>2920.0</td>\n",
       "      <td>9</td>\n",
       "      <td>6570.0</td>\n",
       "      <td>11</td>\n",
       "      <td>male</td>\n",
       "      <td>West</td>\n",
       "    </tr>\n",
       "  </tbody>\n",
       "</table>\n",
       "<p>1376 rows × 23 columns</p>\n",
       "</div>"
      ],
      "text/plain": [
       "      rownames       wage     lwage  sex  shs  hsg  scl  clg   ad   mw  ...  \\\n",
       "2           15  11.057692  2.403126  0.0  0.0  1.0  0.0  0.0  0.0  0.0  ...   \n",
       "6           43  19.230769  2.956512  1.0  0.0  1.0  0.0  0.0  0.0  0.0  ...   \n",
       "7           44  19.230769  2.956512  0.0  0.0  1.0  0.0  0.0  0.0  0.0  ...   \n",
       "8           47  12.000000  2.484907  1.0  0.0  1.0  0.0  0.0  0.0  0.0  ...   \n",
       "10          73  17.307692  2.851151  1.0  0.0  1.0  0.0  0.0  0.0  0.0  ...   \n",
       "...        ...        ...       ...  ...  ...  ...  ...  ...  ...  ...  ...   \n",
       "5135     32580  12.980769  2.563469  0.0  0.0  1.0  0.0  0.0  0.0  0.0  ...   \n",
       "5137     32590  13.461538  2.599837  1.0  0.0  1.0  0.0  0.0  0.0  0.0  ...   \n",
       "5141     32599  22.596154  3.117780  0.0  0.0  1.0  0.0  0.0  0.0  0.0  ...   \n",
       "5142     32603  16.826923  2.822980  0.0  0.0  1.0  0.0  0.0  0.0  0.0  ...   \n",
       "5148     32631  32.967033  3.495508  0.0  0.0  1.0  0.0  0.0  0.0  0.0  ...   \n",
       "\n",
       "      exp1   exp2    exp3      exp4     occ  occ2     ind ind2    sexo  \\\n",
       "2     18.0   3.24   5.832   10.4976  6260.0    19   770.0    4    male   \n",
       "6     42.0  17.64  74.088  311.1696  5120.0    17  7280.0   14  female   \n",
       "7     37.0  13.69  50.653  187.4161  5240.0    17  5680.0    9    male   \n",
       "8     31.0   9.61  29.791   92.3521  4040.0    13  8590.0   19  female   \n",
       "10     7.0   0.49   0.343    0.2401  4020.0    13  8270.0   18  female   \n",
       "...    ...    ...     ...       ...     ...   ...     ...  ...     ...   \n",
       "5135  15.0   2.25   3.375    5.0625  2010.0     6  9370.0   22    male   \n",
       "5137   8.0   0.64   0.512    0.4096  4720.0    16  8590.0   19  female   \n",
       "5141  15.0   2.25   3.375    5.0625  9620.0    22  5390.0    9    male   \n",
       "5142  11.0   1.21   1.331    1.4641  7150.0    20  8770.0   21    male   \n",
       "5148  10.0   1.00   1.000    1.0000  2920.0     9  6570.0   11    male   \n",
       "\n",
       "          place  \n",
       "2     Northeast  \n",
       "6     Northeast  \n",
       "7     Northeast  \n",
       "8     Northeast  \n",
       "10    Northeast  \n",
       "...         ...  \n",
       "5135       West  \n",
       "5137       West  \n",
       "5141       West  \n",
       "5142       West  \n",
       "5148       West  \n",
       "\n",
       "[1376 rows x 23 columns]"
      ]
     },
     "execution_count": 7,
     "metadata": {},
     "output_type": "execute_result"
    }
   ],
   "source": [
    "data['place']=\"South\"\n",
    "\n",
    "data.loc[data[ 'ne' ] == 1,'place'] = \"Northeast\"\n",
    "data.loc[data[ 'mw' ] == 1,'place'] = \"Midwest\"\n",
    "data.loc[data[ 'we' ] == 1,'place'] = \"West\"\n",
    "data"
   ]
  },
  {
   "cell_type": "code",
   "execution_count": 8,
   "id": "a4e4b1f5",
   "metadata": {},
   "outputs": [
    {
     "name": "stderr",
     "output_type": "stream",
     "text": [
      "C:\\Users\\ANA\\AppData\\Local\\Temp/ipykernel_15812/552887200.py:1: SettingWithCopyWarning: \n",
      "A value is trying to be set on a copy of a slice from a DataFrame.\n",
      "Try using .loc[row_indexer,col_indexer] = value instead\n",
      "\n",
      "See the caveats in the documentation: https://pandas.pydata.org/pandas-docs/stable/user_guide/indexing.html#returning-a-view-versus-a-copy\n",
      "  data['shs']=\"some high school\"\n",
      "C:\\Users\\ANA\\anaconda3\\lib\\site-packages\\pandas\\core\\indexing.py:1684: SettingWithCopyWarning: \n",
      "A value is trying to be set on a copy of a slice from a DataFrame.\n",
      "Try using .loc[row_indexer,col_indexer] = value instead\n",
      "\n",
      "See the caveats in the documentation: https://pandas.pydata.org/pandas-docs/stable/user_guide/indexing.html#returning-a-view-versus-a-copy\n",
      "  self.obj[key] = infer_fill_value(value)\n",
      "C:\\Users\\ANA\\anaconda3\\lib\\site-packages\\pandas\\core\\indexing.py:1817: SettingWithCopyWarning: \n",
      "A value is trying to be set on a copy of a slice from a DataFrame.\n",
      "Try using .loc[row_indexer,col_indexer] = value instead\n",
      "\n",
      "See the caveats in the documentation: https://pandas.pydata.org/pandas-docs/stable/user_guide/indexing.html#returning-a-view-versus-a-copy\n",
      "  self._setitem_single_column(loc, value, pi)\n"
     ]
    },
    {
     "data": {
      "text/html": [
       "<div>\n",
       "<style scoped>\n",
       "    .dataframe tbody tr th:only-of-type {\n",
       "        vertical-align: middle;\n",
       "    }\n",
       "\n",
       "    .dataframe tbody tr th {\n",
       "        vertical-align: top;\n",
       "    }\n",
       "\n",
       "    .dataframe thead th {\n",
       "        text-align: right;\n",
       "    }\n",
       "</style>\n",
       "<table border=\"1\" class=\"dataframe\">\n",
       "  <thead>\n",
       "    <tr style=\"text-align: right;\">\n",
       "      <th></th>\n",
       "      <th>rownames</th>\n",
       "      <th>wage</th>\n",
       "      <th>lwage</th>\n",
       "      <th>sex</th>\n",
       "      <th>shs</th>\n",
       "      <th>hsg</th>\n",
       "      <th>scl</th>\n",
       "      <th>clg</th>\n",
       "      <th>ad</th>\n",
       "      <th>mw</th>\n",
       "      <th>...</th>\n",
       "      <th>exp2</th>\n",
       "      <th>exp3</th>\n",
       "      <th>exp4</th>\n",
       "      <th>occ</th>\n",
       "      <th>occ2</th>\n",
       "      <th>ind</th>\n",
       "      <th>ind2</th>\n",
       "      <th>sexo</th>\n",
       "      <th>place</th>\n",
       "      <th>educ</th>\n",
       "    </tr>\n",
       "  </thead>\n",
       "  <tbody>\n",
       "    <tr>\n",
       "      <th>2</th>\n",
       "      <td>15</td>\n",
       "      <td>11.057692</td>\n",
       "      <td>2.403126</td>\n",
       "      <td>0.0</td>\n",
       "      <td>some high school</td>\n",
       "      <td>1.0</td>\n",
       "      <td>0.0</td>\n",
       "      <td>0.0</td>\n",
       "      <td>0.0</td>\n",
       "      <td>0.0</td>\n",
       "      <td>...</td>\n",
       "      <td>3.24</td>\n",
       "      <td>5.832</td>\n",
       "      <td>10.4976</td>\n",
       "      <td>6260.0</td>\n",
       "      <td>19</td>\n",
       "      <td>770.0</td>\n",
       "      <td>4</td>\n",
       "      <td>male</td>\n",
       "      <td>Northeast</td>\n",
       "      <td>NaN</td>\n",
       "    </tr>\n",
       "    <tr>\n",
       "      <th>6</th>\n",
       "      <td>43</td>\n",
       "      <td>19.230769</td>\n",
       "      <td>2.956512</td>\n",
       "      <td>1.0</td>\n",
       "      <td>some high school</td>\n",
       "      <td>1.0</td>\n",
       "      <td>0.0</td>\n",
       "      <td>0.0</td>\n",
       "      <td>0.0</td>\n",
       "      <td>0.0</td>\n",
       "      <td>...</td>\n",
       "      <td>17.64</td>\n",
       "      <td>74.088</td>\n",
       "      <td>311.1696</td>\n",
       "      <td>5120.0</td>\n",
       "      <td>17</td>\n",
       "      <td>7280.0</td>\n",
       "      <td>14</td>\n",
       "      <td>female</td>\n",
       "      <td>Northeast</td>\n",
       "      <td>NaN</td>\n",
       "    </tr>\n",
       "    <tr>\n",
       "      <th>7</th>\n",
       "      <td>44</td>\n",
       "      <td>19.230769</td>\n",
       "      <td>2.956512</td>\n",
       "      <td>0.0</td>\n",
       "      <td>some high school</td>\n",
       "      <td>1.0</td>\n",
       "      <td>0.0</td>\n",
       "      <td>0.0</td>\n",
       "      <td>0.0</td>\n",
       "      <td>0.0</td>\n",
       "      <td>...</td>\n",
       "      <td>13.69</td>\n",
       "      <td>50.653</td>\n",
       "      <td>187.4161</td>\n",
       "      <td>5240.0</td>\n",
       "      <td>17</td>\n",
       "      <td>5680.0</td>\n",
       "      <td>9</td>\n",
       "      <td>male</td>\n",
       "      <td>Northeast</td>\n",
       "      <td>NaN</td>\n",
       "    </tr>\n",
       "    <tr>\n",
       "      <th>8</th>\n",
       "      <td>47</td>\n",
       "      <td>12.000000</td>\n",
       "      <td>2.484907</td>\n",
       "      <td>1.0</td>\n",
       "      <td>some high school</td>\n",
       "      <td>1.0</td>\n",
       "      <td>0.0</td>\n",
       "      <td>0.0</td>\n",
       "      <td>0.0</td>\n",
       "      <td>0.0</td>\n",
       "      <td>...</td>\n",
       "      <td>9.61</td>\n",
       "      <td>29.791</td>\n",
       "      <td>92.3521</td>\n",
       "      <td>4040.0</td>\n",
       "      <td>13</td>\n",
       "      <td>8590.0</td>\n",
       "      <td>19</td>\n",
       "      <td>female</td>\n",
       "      <td>Northeast</td>\n",
       "      <td>NaN</td>\n",
       "    </tr>\n",
       "    <tr>\n",
       "      <th>10</th>\n",
       "      <td>73</td>\n",
       "      <td>17.307692</td>\n",
       "      <td>2.851151</td>\n",
       "      <td>1.0</td>\n",
       "      <td>some high school</td>\n",
       "      <td>1.0</td>\n",
       "      <td>0.0</td>\n",
       "      <td>0.0</td>\n",
       "      <td>0.0</td>\n",
       "      <td>0.0</td>\n",
       "      <td>...</td>\n",
       "      <td>0.49</td>\n",
       "      <td>0.343</td>\n",
       "      <td>0.2401</td>\n",
       "      <td>4020.0</td>\n",
       "      <td>13</td>\n",
       "      <td>8270.0</td>\n",
       "      <td>18</td>\n",
       "      <td>female</td>\n",
       "      <td>Northeast</td>\n",
       "      <td>NaN</td>\n",
       "    </tr>\n",
       "  </tbody>\n",
       "</table>\n",
       "<p>5 rows × 24 columns</p>\n",
       "</div>"
      ],
      "text/plain": [
       "    rownames       wage     lwage  sex               shs  hsg  scl  clg   ad  \\\n",
       "2         15  11.057692  2.403126  0.0  some high school  1.0  0.0  0.0  0.0   \n",
       "6         43  19.230769  2.956512  1.0  some high school  1.0  0.0  0.0  0.0   \n",
       "7         44  19.230769  2.956512  0.0  some high school  1.0  0.0  0.0  0.0   \n",
       "8         47  12.000000  2.484907  1.0  some high school  1.0  0.0  0.0  0.0   \n",
       "10        73  17.307692  2.851151  1.0  some high school  1.0  0.0  0.0  0.0   \n",
       "\n",
       "     mw  ...   exp2    exp3      exp4     occ  occ2     ind  ind2    sexo  \\\n",
       "2   0.0  ...   3.24   5.832   10.4976  6260.0    19   770.0     4    male   \n",
       "6   0.0  ...  17.64  74.088  311.1696  5120.0    17  7280.0    14  female   \n",
       "7   0.0  ...  13.69  50.653  187.4161  5240.0    17  5680.0     9    male   \n",
       "8   0.0  ...   9.61  29.791   92.3521  4040.0    13  8590.0    19  female   \n",
       "10  0.0  ...   0.49   0.343    0.2401  4020.0    13  8270.0    18  female   \n",
       "\n",
       "        place educ  \n",
       "2   Northeast  NaN  \n",
       "6   Northeast  NaN  \n",
       "7   Northeast  NaN  \n",
       "8   Northeast  NaN  \n",
       "10  Northeast  NaN  \n",
       "\n",
       "[5 rows x 24 columns]"
      ]
     },
     "execution_count": 8,
     "metadata": {},
     "output_type": "execute_result"
    }
   ],
   "source": [
    "data['shs']=\"some high school\"\n",
    "\n",
    "data.loc[data[ 'hsg' ] == 0,'educ'] = \"High school graduate\"\n",
    "data.head()"
   ]
  },
  {
   "cell_type": "code",
   "execution_count": 9,
   "id": "71fd18cd",
   "metadata": {},
   "outputs": [],
   "source": [
    "#pip install matplotlib\n",
    "import matplotlib.pyplot as plt\n",
    "import seaborn as sns\n",
    "\n"
   ]
  },
  {
   "cell_type": "markdown",
   "id": "da43de80",
   "metadata": {},
   "source": [
    "#### Wage and lwage"
   ]
  },
  {
   "cell_type": "markdown",
   "id": "fabccd96",
   "metadata": {},
   "source": [
    "The following graph shows the hourly wage density. As can be seen, the distribution has a large tail to the right (positive asymmetric distribution), that is, there are unusually high values. While most observations are concentrated in values less than 100."
   ]
  },
  {
   "cell_type": "code",
   "execution_count": 10,
   "id": "3e59df4e",
   "metadata": {},
   "outputs": [
    {
     "name": "stderr",
     "output_type": "stream",
     "text": [
      "C:\\Users\\ANA\\anaconda3\\lib\\site-packages\\seaborn\\distributions.py:2619: FutureWarning: `distplot` is a deprecated function and will be removed in a future version. Please adapt your code to use either `displot` (a figure-level function with similar flexibility) or `histplot` (an axes-level function for histograms).\n",
      "  warnings.warn(msg, FutureWarning)\n"
     ]
    },
    {
     "data": {
      "text/plain": [
       "<AxesSubplot:xlabel='wage', ylabel='Density'>"
      ]
     },
     "execution_count": 10,
     "metadata": {},
     "output_type": "execute_result"
    },
    {
     "data": {
      "image/png": "[encoded data removed]",
      "text/plain": [
       "<Figure size 432x288 with 1 Axes>"
      ]
     },
     "metadata": {
      "needs_background": "light"
     },
     "output_type": "display_data"
    }
   ],
   "source": [
    "from seaborn import distplot\n",
    "\n",
    "distplot(data.wage, color='purple')"
   ]
  },
  {
   "cell_type": "markdown",
   "id": "08359698",
   "metadata": {},
   "source": [
    "Due to the problem of outlayers, the variable of the logarithm of wages is created. This corrects the asymmetry presented by the original data."
   ]
  },
  {
   "cell_type": "code",
   "execution_count": 11,
   "id": "b3a0a1d8",
   "metadata": {},
   "outputs": [
    {
     "name": "stderr",
     "output_type": "stream",
     "text": [
      "C:\\Users\\ANA\\anaconda3\\lib\\site-packages\\seaborn\\distributions.py:2619: FutureWarning: `distplot` is a deprecated function and will be removed in a future version. Please adapt your code to use either `displot` (a figure-level function with similar flexibility) or `histplot` (an axes-level function for histograms).\n",
      "  warnings.warn(msg, FutureWarning)\n"
     ]
    },
    {
     "data": {
      "text/plain": [
       "<AxesSubplot:xlabel='lwage', ylabel='Density'>"
      ]
     },
     "execution_count": 11,
     "metadata": {},
     "output_type": "execute_result"
    },
    {
     "data": {
      "image/png": "[encoded data removed]",
      "text/plain": [
       "<Figure size 432x288 with 1 Axes>"
      ]
     },
     "metadata": {
      "needs_background": "light"
     },
     "output_type": "display_data"
    }
   ],
   "source": [
    "from seaborn import distplot\n",
    "\n",
    "distplot(data.lwage,color='purple')"
   ]
  },
  {
   "cell_type": "markdown",
   "id": "663cf3e0",
   "metadata": {},
   "source": [
    "#### lwage and sex by grade"
   ]
  },
  {
   "cell_type": "code",
   "execution_count": 12,
   "id": "a685bfa8",
   "metadata": {},
   "outputs": [
    {
     "data": {
      "text/plain": [
       "<seaborn.axisgrid.FacetGrid at 0x149ebd7a820>"
      ]
     },
     "execution_count": 12,
     "metadata": {},
     "output_type": "execute_result"
    },
    {
     "data": {
      "image/png": "[encoded data removed]",
      "text/plain": [
       "<Figure size 360x360 with 1 Axes>"
      ]
     },
     "metadata": {
      "needs_background": "light"
     },
     "output_type": "display_data"
    }
   ],
   "source": [
    "g = sns.relplot(data=data,  x=\"sex\", y=\"lwage\", col=\"educ\", color='blue')\n",
    "g.set_axis_labels(\"Sex (1:female)\", \"Log(wage)\")"
   ]
  },
  {
   "cell_type": "markdown",
   "id": "62a15545",
   "metadata": {},
   "source": [
    "This graph shows that in the group of university graduates, there are some (few) who earn a higher salary than women. It can also be seen that there is less income variability among women than among men. On the other hand, in the group of some college we observe that there are unusually high observations in both the men's and women's groups, with a man being the one with the highest salary. It's interesting that among the unusual values there are people who have not yet finished university, but have higher incomes than those who did finish university."
   ]
  },
  {
   "cell_type": "code",
   "execution_count": 13,
   "id": "a27d2a36",
   "metadata": {},
   "outputs": [
    {
     "data": {
      "text/plain": [
       "Text(0, 0.5, ' ')"
      ]
     },
     "execution_count": 13,
     "metadata": {},
     "output_type": "execute_result"
    },
    {
     "data": {
      "image/png": "[encoded data removed]",
      "text/plain": [
       "<Figure size 504x288 with 1 Axes>"
      ]
     },
     "metadata": {},
     "output_type": "display_data"
    }
   ],
   "source": [
    "# The numbers of men and women in our sample.\n",
    "\n",
    "sns.set( style=\"whitegrid\" )\n",
    "\n",
    "\n",
    "fig, ax = plt.subplots( figsize=(7,4) )\n",
    "\n",
    "x = sns.countplot( x=\"sexo\", data=data )\n",
    "\n",
    "sns.despine()\n",
    "plt.title('Number of men and women with high school education')\n",
    "plt.xlabel(' ')\n",
    "plt.ylabel(' ')"
   ]
  },
  {
   "cell_type": "markdown",
   "id": "1ffdf9b2",
   "metadata": {},
   "source": [
    "As we can see, there are more men with high school degrees than women in our sample of unmarried workers."
   ]
  },
  {
   "cell_type": "code",
   "execution_count": 14,
   "id": "30707130",
   "metadata": {},
   "outputs": [],
   "source": [
    "# How many women have some college compared to men?\n",
    "# How many women have completed college compared to men?\n",
    "\n",
    "data_scl = data[data['shs']==1]\n",
    "data_clg = data[data['hsg']==1]"
   ]
  },
  {
   "cell_type": "code",
   "execution_count": 15,
   "id": "378d15a5",
   "metadata": {},
   "outputs": [
    {
     "data": {
      "image/png": "[encoded data removed]",
      "text/plain": [
       "<Figure size 720x432 with 1 Axes>"
      ]
     },
     "metadata": {},
     "output_type": "display_data"
    }
   ],
   "source": [
    "base2 = data_clg.groupby([ 'sex' ]).count()\n",
    "\n",
    "labels=['Female', 'Male']\n",
    "plt.figure(figsize=(10, 6))\n",
    "\n",
    "ax = plt.pie(base2['lwage'], labels=labels,\n",
    "        autopct='%1.1f%%', pctdistance=0.85, colors=['#c2c2f0','#66b3ff'])\n",
    "  \n",
    "# centroid size and color\n",
    "\n",
    "center_circle = plt.Circle((0, 0), 0.50, fc='white')\n",
    "fig = plt.gcf()\n",
    "\n",
    "fig.gca().add_artist(center_circle)\n",
    "  \n",
    "plt.title('Distribution of college degree by sex')\n",
    "\n",
    "# Adding notes\n",
    "\n",
    "txt=\"Own elaboration - CPS(2015)\"  \n",
    "plt.figtext(0.2, 0.01, txt, wrap=True, horizontalalignment='right', fontsize=10)\n",
    "\n",
    "plt.show()"
   ]
  },
  {
   "cell_type": "markdown",
   "id": "9c92fd54",
   "metadata": {},
   "source": [
    "In both subsamples we can observe the percentage is always lower than that of men (as happens in the total sample). However, in the college degree group, the representation of women increases."
   ]
  },
  {
   "cell_type": "markdown",
   "id": "4b0b8d8e",
   "metadata": {},
   "source": [
    "#### lwage and place of residence"
   ]
  },
  {
   "cell_type": "code",
   "execution_count": 16,
   "id": "c998344b",
   "metadata": {},
   "outputs": [
    {
     "data": {
      "text/plain": [
       "<AxesSubplot:xlabel='place', ylabel='Count'>"
      ]
     },
     "execution_count": 16,
     "metadata": {},
     "output_type": "execute_result"
    },
    {
     "data": {
      "image/png": "[encoded data removed]",
      "text/plain": [
       "<Figure size 432x288 with 1 Axes>"
      ]
     },
     "metadata": {},
     "output_type": "display_data"
    }
   ],
   "source": [
    "#f, axs = plt.subplots(1, 1, figsize=(8, 4), gridspec_kw=dict(width_ratios=[4, 3]))\n",
    "#sns.scatterplot(data=data, x=\"exp1\", y=\"lwage\", hue=\"sexo\", ax=axs[0])\n",
    "sns.histplot(data=data, x=\"place\", hue=\"place\", shrink=.8, alpha=.8, legend=False)\n",
    "#f.tight_layout()\n",
    "\n",
    "# The number of college-educated workers is higher in the midwest and south\n",
    "# where there are fewer is in the west"
   ]
  },
  {
   "cell_type": "code",
   "execution_count": 17,
   "id": "3b5c2a8e",
   "metadata": {},
   "outputs": [
    {
     "data": {
      "text/plain": [
       "<seaborn.axisgrid.FacetGrid at 0x149ecf1ba60>"
      ]
     },
     "execution_count": 17,
     "metadata": {},
     "output_type": "execute_result"
    },
    {
     "data": {
      "image/png": "[encoded data removed]",
      "text/plain": [
       "<Figure size 1527.47x360 with 4 Axes>"
      ]
     },
     "metadata": {},
     "output_type": "display_data"
    }
   ],
   "source": [
    "sns.displot(data=data, x=\"lwage\", hue=\"place\", col=\"place\",bins=30)"
   ]
  },
  {
   "cell_type": "markdown",
   "id": "40b9e890",
   "metadata": {},
   "source": [
    "The previous graph shows the distribution of the logarithm of salaries by place. We can see that the male observation with the highest income lives in the west."
   ]
  },
  {
   "cell_type": "markdown",
   "id": "7bdf1c65",
   "metadata": {},
   "source": [
    "#### Experience, Sex and lwage"
   ]
  },
  {
   "cell_type": "code",
   "execution_count": 18,
   "id": "5dedb336",
   "metadata": {},
   "outputs": [
    {
     "data": {
      "text/plain": [
       "<seaborn.axisgrid.FacetGrid at 0x149eceeb550>"
      ]
     },
     "execution_count": 18,
     "metadata": {},
     "output_type": "execute_result"
    },
    {
     "data": {
      "image/png": "[encoded data removed]",
      "text/plain": [
       "<Figure size 432.85x360 with 1 Axes>"
      ]
     },
     "metadata": {},
     "output_type": "display_data"
    }
   ],
   "source": [
    "sns.displot(data=data, x=\"exp1\", hue=\"sexo\", multiple=\"stack\")"
   ]
  },
  {
   "cell_type": "markdown",
   "id": "65863c31",
   "metadata": {},
   "source": [
    "There is a greater number of people with experience between 0 and 10 years. After 10 years, the population with a lot of experience is reduced. It can be seen that both women and men are roughly equally represented in each experience group, but it seems that generally men slightly outnumber women."
   ]
  },
  {
   "cell_type": "code",
   "execution_count": 19,
   "id": "53ab0dd1",
   "metadata": {},
   "outputs": [
    {
     "data": {
      "text/plain": [
       "<matplotlib.lines._AxLine at 0x149ecee45b0>"
      ]
     },
     "execution_count": 19,
     "metadata": {},
     "output_type": "execute_result"
    },
    {
     "data": {
      "image/png": "[encoded data removed]",
      "text/plain": [
       "<Figure size 360x360 with 1 Axes>"
      ]
     },
     "metadata": {},
     "output_type": "display_data"
    }
   ],
   "source": [
    "# This \n",
    "g = sns.relplot(data=data, x=\"exp1\", y=\"lwage\")\n",
    "g.ax.axline(xy1=(10, 2), slope=.2, color=\"b\", dashes=(5, 2))"
   ]
  },
  {
   "cell_type": "markdown",
   "id": "e52fc71a",
   "metadata": {},
   "source": [
    "This scatter plot does not tell us much about the relationship between experience and salary. We can see that the relationship is positive within this college-educated group, but that relationship is basically made up of unusual observations. It is interesting that for those between 10 and 30 years old, the relationship of more experience plus salary per hour is fulfilled, but after 30 years of experience, salaries are reduced."
   ]
  },
  {
   "cell_type": "code",
   "execution_count": 20,
   "id": "a1b64c9c",
   "metadata": {},
   "outputs": [],
   "source": [
    "#base = data_scl.groupby([ 'sexo' ]).count()\n",
    "#base"
   ]
  },
  {
   "cell_type": "code",
   "execution_count": 21,
   "id": "f183acd0",
   "metadata": {},
   "outputs": [],
   "source": [
    "# plot pie\n",
    "\n",
    "#base = data_scl.groupby('sexo').size()\n",
    "\n",
    "#base.plot(kind='pie', subplots=True, figsize=(8, 8), autopct='%.2f %%', colors= ['#c2c2f0','#66b3ff'])\n",
    "#plt.title(\"Distribución de los some college por sexo\")\n",
    "#plt.ylabel(\"\")\n",
    "#plt.show()\n",
    "\n"
   ]
  },
  {
   "cell_type": "code",
   "execution_count": 22,
   "id": "c772bb51",
   "metadata": {},
   "outputs": [],
   "source": [
    "# hacer un scatter plot con años de experiencia e ingresos\n"
   ]
  },
  {
   "cell_type": "markdown",
   "id": "d59ed4eb",
   "metadata": {},
   "source": [
    "# Prediction"
   ]
  },
  {
   "cell_type": "markdown",
   "id": "a09390be",
   "metadata": {},
   "source": [
    "### An Inferencial Problem: The College-Educated Wage Gap\n",
    "Using the data from the March Supplement of the U.S. Current Population Survey (2015) , in  this lab, we are going to focus in  payments of the college-educated workers and answer the following inference question:\n",
    "\n",
    "What is the difference in predicted wages between workers with some high school education (shs) versus high school graduate workers(clg)?\n",
    "\n",
    "To predict the High School-Educated Wage Gap, we consider the following log-linear regression model:\n",
    "\n",
    "\\begin{align}\n",
    "\\log(Y) &= \\beta'X + \\epsilon\\\\\n",
    "\\end{align}\n",
    "\n",
    "With this, we will:\n",
    "\n",
    "- Predict wages using various characteristics of workers.\n",
    "\n",
    "- Assess the predictive performance using the (adjusted) sample MSE, the (adjusted) sample $R^2$. the out-of-sample MSE and $R^2$\n",
    "\n",
    "\n",
    "We employ two different specifications for prediction:\n",
    "\n",
    "1. Basic Model:  consists of a set of raw regressors (e.g. gender, experience, education indicators, occupation and industry indicators, regional indicators). That is, $sex + exp1 + shs + hsg+ scl + clg + mw + so + we + occ2+ ind2$.\n",
    "2. Flexible Model:  consists of all raw regressors from the basic model (excepto for sex) plus transformations  squared. That is $(exp1+exp2+exp3+exp4+shs+hsg+occ2+ind2+mw+so+we)^2$"
   ]
  },
  {
   "cell_type": "code",
   "execution_count": 23,
   "id": "15b0ca57",
   "metadata": {},
   "outputs": [],
   "source": [
    "# Import packages for OLS regression\n",
    "import statsmodels.api as sm\n",
    "import statsmodels.formula.api as smf"
   ]
  },
  {
   "cell_type": "code",
   "execution_count": 24,
   "id": "431eed86",
   "metadata": {},
   "outputs": [
    {
     "data": {
      "text/html": [
       "<div>\n",
       "<style scoped>\n",
       "    .dataframe tbody tr th:only-of-type {\n",
       "        vertical-align: middle;\n",
       "    }\n",
       "\n",
       "    .dataframe tbody tr th {\n",
       "        vertical-align: top;\n",
       "    }\n",
       "\n",
       "    .dataframe thead th {\n",
       "        text-align: right;\n",
       "    }\n",
       "</style>\n",
       "<table border=\"1\" class=\"dataframe\">\n",
       "  <thead>\n",
       "    <tr style=\"text-align: right;\">\n",
       "      <th></th>\n",
       "      <th>rownames</th>\n",
       "      <th>sex</th>\n",
       "      <th>shs</th>\n",
       "      <th>hsg</th>\n",
       "      <th>scl</th>\n",
       "      <th>clg</th>\n",
       "      <th>ad</th>\n",
       "      <th>mw</th>\n",
       "      <th>so</th>\n",
       "      <th>we</th>\n",
       "      <th>...</th>\n",
       "      <th>exp2</th>\n",
       "      <th>exp3</th>\n",
       "      <th>exp4</th>\n",
       "      <th>occ</th>\n",
       "      <th>occ2</th>\n",
       "      <th>ind</th>\n",
       "      <th>ind2</th>\n",
       "      <th>sexo</th>\n",
       "      <th>place</th>\n",
       "      <th>educ</th>\n",
       "    </tr>\n",
       "  </thead>\n",
       "  <tbody>\n",
       "    <tr>\n",
       "      <th>2</th>\n",
       "      <td>15</td>\n",
       "      <td>0.0</td>\n",
       "      <td>some high school</td>\n",
       "      <td>1.0</td>\n",
       "      <td>0.0</td>\n",
       "      <td>0.0</td>\n",
       "      <td>0.0</td>\n",
       "      <td>0.0</td>\n",
       "      <td>0.0</td>\n",
       "      <td>0.0</td>\n",
       "      <td>...</td>\n",
       "      <td>3.24</td>\n",
       "      <td>5.832</td>\n",
       "      <td>10.4976</td>\n",
       "      <td>6260.0</td>\n",
       "      <td>19</td>\n",
       "      <td>770.0</td>\n",
       "      <td>4</td>\n",
       "      <td>male</td>\n",
       "      <td>Northeast</td>\n",
       "      <td>NaN</td>\n",
       "    </tr>\n",
       "    <tr>\n",
       "      <th>6</th>\n",
       "      <td>43</td>\n",
       "      <td>1.0</td>\n",
       "      <td>some high school</td>\n",
       "      <td>1.0</td>\n",
       "      <td>0.0</td>\n",
       "      <td>0.0</td>\n",
       "      <td>0.0</td>\n",
       "      <td>0.0</td>\n",
       "      <td>0.0</td>\n",
       "      <td>0.0</td>\n",
       "      <td>...</td>\n",
       "      <td>17.64</td>\n",
       "      <td>74.088</td>\n",
       "      <td>311.1696</td>\n",
       "      <td>5120.0</td>\n",
       "      <td>17</td>\n",
       "      <td>7280.0</td>\n",
       "      <td>14</td>\n",
       "      <td>female</td>\n",
       "      <td>Northeast</td>\n",
       "      <td>NaN</td>\n",
       "    </tr>\n",
       "    <tr>\n",
       "      <th>7</th>\n",
       "      <td>44</td>\n",
       "      <td>0.0</td>\n",
       "      <td>some high school</td>\n",
       "      <td>1.0</td>\n",
       "      <td>0.0</td>\n",
       "      <td>0.0</td>\n",
       "      <td>0.0</td>\n",
       "      <td>0.0</td>\n",
       "      <td>0.0</td>\n",
       "      <td>0.0</td>\n",
       "      <td>...</td>\n",
       "      <td>13.69</td>\n",
       "      <td>50.653</td>\n",
       "      <td>187.4161</td>\n",
       "      <td>5240.0</td>\n",
       "      <td>17</td>\n",
       "      <td>5680.0</td>\n",
       "      <td>9</td>\n",
       "      <td>male</td>\n",
       "      <td>Northeast</td>\n",
       "      <td>NaN</td>\n",
       "    </tr>\n",
       "    <tr>\n",
       "      <th>8</th>\n",
       "      <td>47</td>\n",
       "      <td>1.0</td>\n",
       "      <td>some high school</td>\n",
       "      <td>1.0</td>\n",
       "      <td>0.0</td>\n",
       "      <td>0.0</td>\n",
       "      <td>0.0</td>\n",
       "      <td>0.0</td>\n",
       "      <td>0.0</td>\n",
       "      <td>0.0</td>\n",
       "      <td>...</td>\n",
       "      <td>9.61</td>\n",
       "      <td>29.791</td>\n",
       "      <td>92.3521</td>\n",
       "      <td>4040.0</td>\n",
       "      <td>13</td>\n",
       "      <td>8590.0</td>\n",
       "      <td>19</td>\n",
       "      <td>female</td>\n",
       "      <td>Northeast</td>\n",
       "      <td>NaN</td>\n",
       "    </tr>\n",
       "    <tr>\n",
       "      <th>10</th>\n",
       "      <td>73</td>\n",
       "      <td>1.0</td>\n",
       "      <td>some high school</td>\n",
       "      <td>1.0</td>\n",
       "      <td>0.0</td>\n",
       "      <td>0.0</td>\n",
       "      <td>0.0</td>\n",
       "      <td>0.0</td>\n",
       "      <td>0.0</td>\n",
       "      <td>0.0</td>\n",
       "      <td>...</td>\n",
       "      <td>0.49</td>\n",
       "      <td>0.343</td>\n",
       "      <td>0.2401</td>\n",
       "      <td>4020.0</td>\n",
       "      <td>13</td>\n",
       "      <td>8270.0</td>\n",
       "      <td>18</td>\n",
       "      <td>female</td>\n",
       "      <td>Northeast</td>\n",
       "      <td>NaN</td>\n",
       "    </tr>\n",
       "    <tr>\n",
       "      <th>...</th>\n",
       "      <td>...</td>\n",
       "      <td>...</td>\n",
       "      <td>...</td>\n",
       "      <td>...</td>\n",
       "      <td>...</td>\n",
       "      <td>...</td>\n",
       "      <td>...</td>\n",
       "      <td>...</td>\n",
       "      <td>...</td>\n",
       "      <td>...</td>\n",
       "      <td>...</td>\n",
       "      <td>...</td>\n",
       "      <td>...</td>\n",
       "      <td>...</td>\n",
       "      <td>...</td>\n",
       "      <td>...</td>\n",
       "      <td>...</td>\n",
       "      <td>...</td>\n",
       "      <td>...</td>\n",
       "      <td>...</td>\n",
       "      <td>...</td>\n",
       "    </tr>\n",
       "    <tr>\n",
       "      <th>5135</th>\n",
       "      <td>32580</td>\n",
       "      <td>0.0</td>\n",
       "      <td>some high school</td>\n",
       "      <td>1.0</td>\n",
       "      <td>0.0</td>\n",
       "      <td>0.0</td>\n",
       "      <td>0.0</td>\n",
       "      <td>0.0</td>\n",
       "      <td>0.0</td>\n",
       "      <td>1.0</td>\n",
       "      <td>...</td>\n",
       "      <td>2.25</td>\n",
       "      <td>3.375</td>\n",
       "      <td>5.0625</td>\n",
       "      <td>2010.0</td>\n",
       "      <td>6</td>\n",
       "      <td>9370.0</td>\n",
       "      <td>22</td>\n",
       "      <td>male</td>\n",
       "      <td>West</td>\n",
       "      <td>NaN</td>\n",
       "    </tr>\n",
       "    <tr>\n",
       "      <th>5137</th>\n",
       "      <td>32590</td>\n",
       "      <td>1.0</td>\n",
       "      <td>some high school</td>\n",
       "      <td>1.0</td>\n",
       "      <td>0.0</td>\n",
       "      <td>0.0</td>\n",
       "      <td>0.0</td>\n",
       "      <td>0.0</td>\n",
       "      <td>0.0</td>\n",
       "      <td>1.0</td>\n",
       "      <td>...</td>\n",
       "      <td>0.64</td>\n",
       "      <td>0.512</td>\n",
       "      <td>0.4096</td>\n",
       "      <td>4720.0</td>\n",
       "      <td>16</td>\n",
       "      <td>8590.0</td>\n",
       "      <td>19</td>\n",
       "      <td>female</td>\n",
       "      <td>West</td>\n",
       "      <td>NaN</td>\n",
       "    </tr>\n",
       "    <tr>\n",
       "      <th>5141</th>\n",
       "      <td>32599</td>\n",
       "      <td>0.0</td>\n",
       "      <td>some high school</td>\n",
       "      <td>1.0</td>\n",
       "      <td>0.0</td>\n",
       "      <td>0.0</td>\n",
       "      <td>0.0</td>\n",
       "      <td>0.0</td>\n",
       "      <td>0.0</td>\n",
       "      <td>1.0</td>\n",
       "      <td>...</td>\n",
       "      <td>2.25</td>\n",
       "      <td>3.375</td>\n",
       "      <td>5.0625</td>\n",
       "      <td>9620.0</td>\n",
       "      <td>22</td>\n",
       "      <td>5390.0</td>\n",
       "      <td>9</td>\n",
       "      <td>male</td>\n",
       "      <td>West</td>\n",
       "      <td>NaN</td>\n",
       "    </tr>\n",
       "    <tr>\n",
       "      <th>5142</th>\n",
       "      <td>32603</td>\n",
       "      <td>0.0</td>\n",
       "      <td>some high school</td>\n",
       "      <td>1.0</td>\n",
       "      <td>0.0</td>\n",
       "      <td>0.0</td>\n",
       "      <td>0.0</td>\n",
       "      <td>0.0</td>\n",
       "      <td>0.0</td>\n",
       "      <td>1.0</td>\n",
       "      <td>...</td>\n",
       "      <td>1.21</td>\n",
       "      <td>1.331</td>\n",
       "      <td>1.4641</td>\n",
       "      <td>7150.0</td>\n",
       "      <td>20</td>\n",
       "      <td>8770.0</td>\n",
       "      <td>21</td>\n",
       "      <td>male</td>\n",
       "      <td>West</td>\n",
       "      <td>NaN</td>\n",
       "    </tr>\n",
       "    <tr>\n",
       "      <th>5148</th>\n",
       "      <td>32631</td>\n",
       "      <td>0.0</td>\n",
       "      <td>some high school</td>\n",
       "      <td>1.0</td>\n",
       "      <td>0.0</td>\n",
       "      <td>0.0</td>\n",
       "      <td>0.0</td>\n",
       "      <td>0.0</td>\n",
       "      <td>0.0</td>\n",
       "      <td>1.0</td>\n",
       "      <td>...</td>\n",
       "      <td>1.00</td>\n",
       "      <td>1.000</td>\n",
       "      <td>1.0000</td>\n",
       "      <td>2920.0</td>\n",
       "      <td>9</td>\n",
       "      <td>6570.0</td>\n",
       "      <td>11</td>\n",
       "      <td>male</td>\n",
       "      <td>West</td>\n",
       "      <td>NaN</td>\n",
       "    </tr>\n",
       "  </tbody>\n",
       "</table>\n",
       "<p>1376 rows × 22 columns</p>\n",
       "</div>"
      ],
      "text/plain": [
       "      rownames  sex               shs  hsg  scl  clg   ad   mw   so   we  ...  \\\n",
       "2           15  0.0  some high school  1.0  0.0  0.0  0.0  0.0  0.0  0.0  ...   \n",
       "6           43  1.0  some high school  1.0  0.0  0.0  0.0  0.0  0.0  0.0  ...   \n",
       "7           44  0.0  some high school  1.0  0.0  0.0  0.0  0.0  0.0  0.0  ...   \n",
       "8           47  1.0  some high school  1.0  0.0  0.0  0.0  0.0  0.0  0.0  ...   \n",
       "10          73  1.0  some high school  1.0  0.0  0.0  0.0  0.0  0.0  0.0  ...   \n",
       "...        ...  ...               ...  ...  ...  ...  ...  ...  ...  ...  ...   \n",
       "5135     32580  0.0  some high school  1.0  0.0  0.0  0.0  0.0  0.0  1.0  ...   \n",
       "5137     32590  1.0  some high school  1.0  0.0  0.0  0.0  0.0  0.0  1.0  ...   \n",
       "5141     32599  0.0  some high school  1.0  0.0  0.0  0.0  0.0  0.0  1.0  ...   \n",
       "5142     32603  0.0  some high school  1.0  0.0  0.0  0.0  0.0  0.0  1.0  ...   \n",
       "5148     32631  0.0  some high school  1.0  0.0  0.0  0.0  0.0  0.0  1.0  ...   \n",
       "\n",
       "       exp2    exp3      exp4     occ  occ2     ind ind2    sexo      place  \\\n",
       "2      3.24   5.832   10.4976  6260.0    19   770.0    4    male  Northeast   \n",
       "6     17.64  74.088  311.1696  5120.0    17  7280.0   14  female  Northeast   \n",
       "7     13.69  50.653  187.4161  5240.0    17  5680.0    9    male  Northeast   \n",
       "8      9.61  29.791   92.3521  4040.0    13  8590.0   19  female  Northeast   \n",
       "10     0.49   0.343    0.2401  4020.0    13  8270.0   18  female  Northeast   \n",
       "...     ...     ...       ...     ...   ...     ...  ...     ...        ...   \n",
       "5135   2.25   3.375    5.0625  2010.0     6  9370.0   22    male       West   \n",
       "5137   0.64   0.512    0.4096  4720.0    16  8590.0   19  female       West   \n",
       "5141   2.25   3.375    5.0625  9620.0    22  5390.0    9    male       West   \n",
       "5142   1.21   1.331    1.4641  7150.0    20  8770.0   21    male       West   \n",
       "5148   1.00   1.000    1.0000  2920.0     9  6570.0   11    male       West   \n",
       "\n",
       "     educ  \n",
       "2     NaN  \n",
       "6     NaN  \n",
       "7     NaN  \n",
       "8     NaN  \n",
       "10    NaN  \n",
       "...   ...  \n",
       "5135  NaN  \n",
       "5137  NaN  \n",
       "5141  NaN  \n",
       "5142  NaN  \n",
       "5148  NaN  \n",
       "\n",
       "[1376 rows x 22 columns]"
      ]
     },
     "execution_count": 24,
     "metadata": {},
     "output_type": "execute_result"
    }
   ],
   "source": [
    "Y = np.log2(data['wage']) \n",
    "n = len(Y)\n",
    "z = data.loc[:, ~data.columns.isin(['wage', 'lwage','Unnamed: 0'])]\n",
    "z  "
   ]
  },
  {
   "cell_type": "code",
   "execution_count": 25,
   "id": "48c2edd8",
   "metadata": {},
   "outputs": [
    {
     "name": "stdout",
     "output_type": "stream",
     "text": [
      "Number of observation: 1376 \n",
      "\n",
      "Number of raw regressors: 22\n"
     ]
    }
   ],
   "source": [
    "p = z.shape[1] #number of regressors\n",
    "\n",
    "print(\"Number of observation:\", n, '\\n')\n",
    "print( \"Number of raw regressors:\", p)"
   ]
  },
  {
   "cell_type": "code",
   "execution_count": 26,
   "id": "03630896",
   "metadata": {},
   "outputs": [
    {
     "name": "stderr",
     "output_type": "stream",
     "text": [
      "C:\\Users\\ANA\\AppData\\Local\\Temp/ipykernel_15812/2538188399.py:2: FutureWarning: Dropping of nuisance columns in DataFrame reductions (with 'numeric_only=None') is deprecated; in a future version this will raise TypeError.  Select only valid columns before calling the reduction.\n",
      "  table = Z_subset.mean(axis=0)\n"
     ]
    },
    {
     "data": {
      "text/plain": [
       "lwage     2.718562\n",
       "sex       0.321948\n",
       "hsg       0.912791\n",
       "scl       0.000000\n",
       "clg       0.000000\n",
       "ad        0.000000\n",
       "mw        0.286337\n",
       "so        0.291424\n",
       "we        0.198401\n",
       "ne        0.223837\n",
       "exp1     17.190044\n",
       "dtype: float64"
      ]
     },
     "execution_count": 26,
     "metadata": {},
     "output_type": "execute_result"
    }
   ],
   "source": [
    "Z_subset = data.loc[:, data.columns.isin([\"lwage\",\"sex\",\"shs\",\"hsg\",\"scl\",\"clg\",\"ad\",\"mw\",\"so\",\"we\",\"ne\",\"exp1\"])]\n",
    "table = Z_subset.mean(axis=0)\n",
    "table"
   ]
  },
  {
   "cell_type": "code",
   "execution_count": 27,
   "id": "b1c403dc",
   "metadata": {},
   "outputs": [
    {
     "name": "stdout",
     "output_type": "stream",
     "text": [
      "                            OLS Regression Results                            \n",
      "==============================================================================\n",
      "Dep. Variable:                  lwage   R-squared:                       0.180\n",
      "Model:                            OLS   Adj. R-squared:                  0.151\n",
      "Method:                 Least Squares   F-statistic:                     6.212\n",
      "Date:                Sat, 16 Apr 2022   Prob (F-statistic):           9.07e-33\n",
      "Time:                        13:45:40   Log-Likelihood:                -872.87\n",
      "No. Observations:                1376   AIC:                             1842.\n",
      "Df Residuals:                    1328   BIC:                             2093.\n",
      "Df Model:                          47                                         \n",
      "Covariance Type:            nonrobust                                         \n",
      "==============================================================================\n",
      "                 coef    std err          t      P>|t|      [0.025      0.975]\n",
      "------------------------------------------------------------------------------\n",
      "Intercept      2.7519      0.145     19.026      0.000       2.468       3.036\n",
      "occ2[T.2]     -0.1961      0.136     -1.443      0.149      -0.463       0.070\n",
      "occ2[T.3]     -0.0086      0.161     -0.053      0.957      -0.324       0.307\n",
      "occ2[T.4]      0.0005      0.141      0.004      0.997      -0.277       0.278\n",
      "occ2[T.5]      0.2615      0.279      0.937      0.349      -0.286       0.809\n",
      "occ2[T.6]     -0.3510      0.177     -1.981      0.048      -0.699      -0.003\n",
      "occ2[T.7]     -0.1900      0.240     -0.791      0.429      -0.661       0.281\n",
      "occ2[T.8]     -0.6617      0.154     -4.292      0.000      -0.964      -0.359\n",
      "occ2[T.9]     -0.3013      0.136     -2.209      0.027      -0.569      -0.034\n",
      "occ2[T.10]    -0.0576      0.121     -0.477      0.633      -0.295       0.179\n",
      "occ2[T.11]    -0.4177      0.111     -3.762      0.000      -0.636      -0.200\n",
      "occ2[T.12]    -0.4664      0.126     -3.709      0.000      -0.713      -0.220\n",
      "occ2[T.13]    -0.4220      0.077     -5.483      0.000      -0.573      -0.271\n",
      "occ2[T.14]    -0.5528      0.076     -7.250      0.000      -0.702      -0.403\n",
      "occ2[T.15]    -0.4748      0.096     -4.949      0.000      -0.663      -0.287\n",
      "occ2[T.16]    -0.2382      0.071     -3.376      0.001      -0.377      -0.100\n",
      "occ2[T.17]    -0.3529      0.062     -5.681      0.000      -0.475      -0.231\n",
      "occ2[T.18]    -0.3976      0.338     -1.175      0.240      -1.062       0.266\n",
      "occ2[T.19]    -0.1182      0.085     -1.396      0.163      -0.284       0.048\n",
      "occ2[T.20]    -0.1054      0.076     -1.394      0.163      -0.254       0.043\n",
      "occ2[T.21]    -0.1737      0.068     -2.540      0.011      -0.308      -0.040\n",
      "occ2[T.22]    -0.3480      0.069     -5.033      0.000      -0.484      -0.212\n",
      "ind2[T.3]      0.1743      0.167      1.044      0.297      -0.153       0.502\n",
      "ind2[T.4]      0.0504      0.130      0.387      0.699      -0.205       0.306\n",
      "ind2[T.5]      0.0585      0.138      0.423      0.672      -0.213       0.330\n",
      "ind2[T.6]      0.0348      0.133      0.262      0.793      -0.226       0.295\n",
      "ind2[T.7]      0.2380      0.159      1.501      0.134      -0.073       0.549\n",
      "ind2[T.8]      0.0922      0.167      0.552      0.581      -0.236       0.420\n",
      "ind2[T.9]      0.0929      0.131      0.710      0.478      -0.164       0.349\n",
      "ind2[T.10]     0.2399      0.140      1.712      0.087      -0.035       0.515\n",
      "ind2[T.11]     0.4339      0.162      2.676      0.008       0.116       0.752\n",
      "ind2[T.12]     0.2720      0.154      1.767      0.078      -0.030       0.574\n",
      "ind2[T.13]     0.2245      0.168      1.340      0.181      -0.104       0.553\n",
      "ind2[T.14]     0.1810      0.149      1.216      0.224      -0.111       0.473\n",
      "ind2[T.15]     0.0757      0.322      0.235      0.814      -0.556       0.707\n",
      "ind2[T.16]     0.0681      0.138      0.493      0.622      -0.203       0.339\n",
      "ind2[T.17]     0.2778      0.157      1.768      0.077      -0.030       0.586\n",
      "ind2[T.18]     0.0906      0.139      0.651      0.515      -0.182       0.363\n",
      "ind2[T.19]    -0.0151      0.184     -0.082      0.935      -0.376       0.345\n",
      "ind2[T.20]    -0.0378      0.141     -0.269      0.788      -0.314       0.238\n",
      "ind2[T.21]    -0.0283      0.139     -0.204      0.839      -0.301       0.244\n",
      "ind2[T.22]     0.2788      0.147      1.898      0.058      -0.009       0.567\n",
      "sex           -0.0733      0.031     -2.331      0.020      -0.135      -0.012\n",
      "exp1           0.0076      0.001      6.052      0.000       0.005       0.010\n",
      "hsg            0.0811      0.045      1.783      0.075      -0.008       0.170\n",
      "scl         6.101e-17   8.65e-16      0.071      0.944   -1.64e-15    1.76e-15\n",
      "clg        -2.664e-17   1.52e-16     -0.175      0.861   -3.25e-16    2.72e-16\n",
      "mw            -0.0432      0.036     -1.193      0.233      -0.114       0.028\n",
      "so            -0.1092      0.036     -3.042      0.002      -0.180      -0.039\n",
      "we             0.0130      0.040      0.328      0.743      -0.065       0.091\n",
      "==============================================================================\n",
      "Omnibus:                      279.300   Durbin-Watson:                   1.927\n",
      "Prob(Omnibus):                  0.000   Jarque-Bera (JB):             1904.090\n",
      "Skew:                           0.761   Prob(JB):                         0.00\n",
      "Kurtosis:                       8.558   Cond. No.                     1.17e+16\n",
      "==============================================================================\n",
      "\n",
      "Notes:\n",
      "[1] Standard Errors assume that the covariance matrix of the errors is correctly specified.\n",
      "[2] The smallest eigenvalue is 4.08e-27. This might indicate that there are\n",
      "strong multicollinearity problems or that the design matrix is singular.\n",
      "Number of regressors in the basic model: 50\n"
     ]
    },
    {
     "data": {
      "text/html": [
       "<div>\n",
       "<style scoped>\n",
       "    .dataframe tbody tr th:only-of-type {\n",
       "        vertical-align: middle;\n",
       "    }\n",
       "\n",
       "    .dataframe tbody tr th {\n",
       "        vertical-align: top;\n",
       "    }\n",
       "\n",
       "    .dataframe thead th {\n",
       "        text-align: right;\n",
       "    }\n",
       "</style>\n",
       "<table border=\"1\" class=\"dataframe\">\n",
       "  <thead>\n",
       "    <tr style=\"text-align: right;\">\n",
       "      <th></th>\n",
       "      <th>0</th>\n",
       "      <th>1</th>\n",
       "    </tr>\n",
       "  </thead>\n",
       "  <tbody>\n",
       "    <tr>\n",
       "      <th>sex</th>\n",
       "      <td>-0.134993</td>\n",
       "      <td>-0.011626</td>\n",
       "    </tr>\n",
       "  </tbody>\n",
       "</table>\n",
       "</div>"
      ],
      "text/plain": [
       "            0         1\n",
       "sex -0.134993 -0.011626"
      ]
     },
     "execution_count": 27,
     "metadata": {},
     "output_type": "execute_result"
    }
   ],
   "source": [
    "# 1. basic model \n",
    "basic = 'lwage ~ sex + exp1 + shs + hsg+ scl + clg + mw + so + we + occ2+ ind2'\n",
    "basic_results = smf.ols(basic , data=data).fit()\n",
    "print(basic_results.summary()) # estimated coefficients\n",
    "print( \"Number of regressors in the basic model:\",len(basic_results.params))\n",
    "\n",
    "df_basic=basic_results.conf_int( alpha=0.05 ).loc[['sex']]\n",
    "df_basic"
   ]
  },
  {
   "cell_type": "code",
   "execution_count": 28,
   "id": "667f1aa9",
   "metadata": {
    "scrolled": false
   },
   "outputs": [
    {
     "name": "stdout",
     "output_type": "stream",
     "text": [
      "Number of regressors in the basic model: 928\n"
     ]
    },
    {
     "data": {
      "text/html": [
       "<div>\n",
       "<style scoped>\n",
       "    .dataframe tbody tr th:only-of-type {\n",
       "        vertical-align: middle;\n",
       "    }\n",
       "\n",
       "    .dataframe tbody tr th {\n",
       "        vertical-align: top;\n",
       "    }\n",
       "\n",
       "    .dataframe thead th {\n",
       "        text-align: right;\n",
       "    }\n",
       "</style>\n",
       "<table border=\"1\" class=\"dataframe\">\n",
       "  <thead>\n",
       "    <tr style=\"text-align: right;\">\n",
       "      <th></th>\n",
       "      <th>0</th>\n",
       "      <th>1</th>\n",
       "    </tr>\n",
       "  </thead>\n",
       "  <tbody>\n",
       "    <tr>\n",
       "      <th>sex</th>\n",
       "      <td>-0.163552</td>\n",
       "      <td>-0.013107</td>\n",
       "    </tr>\n",
       "  </tbody>\n",
       "</table>\n",
       "</div>"
      ],
      "text/plain": [
       "            0         1\n",
       "sex -0.163552 -0.013107"
      ]
     },
     "execution_count": 28,
     "metadata": {},
     "output_type": "execute_result"
    }
   ],
   "source": [
    "# 2. flexible model\n",
    "flex = 'lwage ~ sex + (exp1+exp2+exp3+exp4+shs+hsg+scl+clg+occ2+ind2+mw+so+we)**2'\n",
    "flex_results_0 = smf.ols(flex , data=data)\n",
    "flex_results = smf.ols(flex , data=data).fit()\n",
    "#print(flex_results.summary()) # estimated coefficients\n",
    "print( \"Number of regressors in the basic model:\",len(flex_results.params))\n",
    "\n",
    "df_flex=flex_results.conf_int( alpha=0.05 ).loc[['sex']]\n",
    "df_flex"
   ]
  },
  {
   "cell_type": "markdown",
   "id": "48ae1253",
   "metadata": {},
   "source": [
    "### Coefplots"
   ]
  },
  {
   "cell_type": "code",
   "execution_count": 29,
   "id": "d114eccf",
   "metadata": {},
   "outputs": [
    {
     "data": {
      "text/html": [
       "<div>\n",
       "<style scoped>\n",
       "    .dataframe tbody tr th:only-of-type {\n",
       "        vertical-align: middle;\n",
       "    }\n",
       "\n",
       "    .dataframe tbody tr th {\n",
       "        vertical-align: top;\n",
       "    }\n",
       "\n",
       "    .dataframe thead th {\n",
       "        text-align: right;\n",
       "    }\n",
       "</style>\n",
       "<table border=\"1\" class=\"dataframe\">\n",
       "  <thead>\n",
       "    <tr style=\"text-align: right;\">\n",
       "      <th></th>\n",
       "      <th>Type_model</th>\n",
       "      <th>Parameters</th>\n",
       "    </tr>\n",
       "  </thead>\n",
       "  <tbody>\n",
       "    <tr>\n",
       "      <th>0</th>\n",
       "      <td>basic</td>\n",
       "      <td>-0.0733</td>\n",
       "    </tr>\n",
       "    <tr>\n",
       "      <th>1</th>\n",
       "      <td>flex</td>\n",
       "      <td>-0.0883</td>\n",
       "    </tr>\n",
       "  </tbody>\n",
       "</table>\n",
       "</div>"
      ],
      "text/plain": [
       "  Type_model  Parameters\n",
       "0      basic     -0.0733\n",
       "1       flex     -0.0883"
      ]
     },
     "execution_count": 29,
     "metadata": {},
     "output_type": "execute_result"
    }
   ],
   "source": [
    "param ={'basic':-0.0733,'flex':-0.0883}\n",
    "pd_param=pd.DataFrame([[key, param[key]] for key in param.keys()], columns=['Type_model','Parameters'])\n",
    "pd_param"
   ]
  },
  {
   "cell_type": "code",
   "execution_count": 30,
   "id": "eac98790",
   "metadata": {},
   "outputs": [
    {
     "data": {
      "text/html": [
       "<div>\n",
       "<style scoped>\n",
       "    .dataframe tbody tr th:only-of-type {\n",
       "        vertical-align: middle;\n",
       "    }\n",
       "\n",
       "    .dataframe tbody tr th {\n",
       "        vertical-align: top;\n",
       "    }\n",
       "\n",
       "    .dataframe thead th {\n",
       "        text-align: right;\n",
       "    }\n",
       "</style>\n",
       "<table border=\"1\" class=\"dataframe\">\n",
       "  <thead>\n",
       "    <tr style=\"text-align: right;\">\n",
       "      <th></th>\n",
       "      <th>index</th>\n",
       "      <th>0</th>\n",
       "      <th>1</th>\n",
       "    </tr>\n",
       "  </thead>\n",
       "  <tbody>\n",
       "    <tr>\n",
       "      <th>0</th>\n",
       "      <td>sex</td>\n",
       "      <td>-0.134993</td>\n",
       "      <td>-0.011626</td>\n",
       "    </tr>\n",
       "    <tr>\n",
       "      <th>1</th>\n",
       "      <td>sex</td>\n",
       "      <td>-0.163552</td>\n",
       "      <td>-0.013107</td>\n",
       "    </tr>\n",
       "  </tbody>\n",
       "</table>\n",
       "</div>"
      ],
      "text/plain": [
       "  index         0         1\n",
       "0   sex -0.134993 -0.011626\n",
       "1   sex -0.163552 -0.013107"
      ]
     },
     "execution_count": 30,
     "metadata": {},
     "output_type": "execute_result"
    }
   ],
   "source": [
    "df_append=pd.concat([df_basic,df_flex]).reset_index()\n",
    "df_append"
   ]
  },
  {
   "cell_type": "code",
   "execution_count": 31,
   "id": "0109762e",
   "metadata": {},
   "outputs": [
    {
     "data": {
      "text/plain": [
       "array([0.06169303, 0.07525159])"
      ]
     },
     "execution_count": 31,
     "metadata": {},
     "output_type": "execute_result"
    }
   ],
   "source": [
    "err_series = pd_param['Parameters'][:]-df_append[0]\n",
    "err_series.values\n"
   ]
  },
  {
   "cell_type": "code",
   "execution_count": 32,
   "id": "20d488f7",
   "metadata": {},
   "outputs": [
    {
     "data": {
      "text/plain": [
       "array(['basic', 'flex'], dtype=object)"
      ]
     },
     "execution_count": 32,
     "metadata": {},
     "output_type": "execute_result"
    }
   ],
   "source": [
    "r = pd_param['Parameters']\n",
    "r\n",
    "pd_param['Type_model'].values"
   ]
  },
  {
   "cell_type": "code",
   "execution_count": 33,
   "id": "9751d062",
   "metadata": {},
   "outputs": [
    {
     "data": {
      "text/html": [
       "<div>\n",
       "<style scoped>\n",
       "    .dataframe tbody tr th:only-of-type {\n",
       "        vertical-align: middle;\n",
       "    }\n",
       "\n",
       "    .dataframe tbody tr th {\n",
       "        vertical-align: top;\n",
       "    }\n",
       "\n",
       "    .dataframe thead th {\n",
       "        text-align: right;\n",
       "    }\n",
       "</style>\n",
       "<table border=\"1\" class=\"dataframe\">\n",
       "  <thead>\n",
       "    <tr style=\"text-align: right;\">\n",
       "      <th></th>\n",
       "      <th>coef</th>\n",
       "      <th>err</th>\n",
       "      <th>varname</th>\n",
       "    </tr>\n",
       "  </thead>\n",
       "  <tbody>\n",
       "    <tr>\n",
       "      <th>0</th>\n",
       "      <td>-0.0733</td>\n",
       "      <td>0.061693</td>\n",
       "      <td>basic</td>\n",
       "    </tr>\n",
       "    <tr>\n",
       "      <th>1</th>\n",
       "      <td>-0.0883</td>\n",
       "      <td>0.075252</td>\n",
       "      <td>flex</td>\n",
       "    </tr>\n",
       "  </tbody>\n",
       "</table>\n",
       "</div>"
      ],
      "text/plain": [
       "     coef       err varname\n",
       "0 -0.0733  0.061693   basic\n",
       "1 -0.0883  0.075252    flex"
      ]
     },
     "execution_count": 33,
     "metadata": {},
     "output_type": "execute_result"
    }
   ],
   "source": [
    "coef_df = pd.DataFrame({'coef': pd_param['Parameters'].values,\n",
    "                        'err': err_series.values,\n",
    "                        'varname': pd_param['Type_model'].values\n",
    "                       })\n",
    "coef_df\n"
   ]
  },
  {
   "cell_type": "code",
   "execution_count": 34,
   "id": "3ebfcf60",
   "metadata": {},
   "outputs": [
    {
     "name": "stderr",
     "output_type": "stream",
     "text": [
      "C:\\Users\\ANA\\AppData\\Local\\Temp/ipykernel_15812/3806334349.py:7: FutureWarning: The pandas.np module is deprecated and will be removed from pandas in a future version. Import numpy directly instead\n",
      "  ax.scatter(x=pd.np.arange(coef_df.shape[0]),\n"
     ]
    },
    {
     "data": {
      "image/png": "[encoded data removed]",
      "text/plain": [
       "<Figure size 576x360 with 1 Axes>"
      ]
     },
     "metadata": {},
     "output_type": "display_data"
    }
   ],
   "source": [
    "fig, ax = plt.subplots(figsize=(8, 5))\n",
    "coef_df.plot(x='varname', y='coef', kind='bar', \n",
    "             ax=ax, color='none', \n",
    "             yerr='err', legend=False)\n",
    "ax.set_ylabel('')\n",
    "ax.set_xlabel('')\n",
    "ax.scatter(x=pd.np.arange(coef_df.shape[0]), \n",
    "           marker='s', s=120, \n",
    "           y=coef_df['coef'], color='black')\n",
    "ax.axhline(y=0, linestyle='--', color='black', linewidth=4)\n",
    "ax.xaxis.set_ticks_position('none')\n",
    "_ = ax.set_xticklabels(['Basic','Flexible'], \n",
    "                       rotation=0, fontsize=16)\n"
   ]
  },
  {
   "cell_type": "markdown",
   "id": "989329b7",
   "metadata": {},
   "source": [
    "# Try lasso next"
   ]
  },
  {
   "cell_type": "code",
   "execution_count": 35,
   "id": "3bd565d6",
   "metadata": {},
   "outputs": [],
   "source": [
    "# Import relevant packages for lasso \n",
    "from sklearn.linear_model import LassoCV\n",
    "from sklearn import linear_model\n",
    "from sklearn.preprocessing import PolynomialFeatures\n",
    "from sklearn.metrics import mean_squared_error  #MSE"
   ]
  },
  {
   "cell_type": "code",
   "execution_count": 36,
   "id": "1aedcc80",
   "metadata": {},
   "outputs": [
    {
     "data": {
      "text/plain": [
       "(1376, 928)"
      ]
     },
     "execution_count": 36,
     "metadata": {},
     "output_type": "execute_result"
    }
   ],
   "source": [
    "# Get exogenous variables from flexible model\n",
    "X = flex_results_0.exog #bc skitlearn cannot produce them in the regression\n",
    "X.shape # the subsample data of the people who didnt go to college"
   ]
  },
  {
   "cell_type": "code",
   "execution_count": 37,
   "id": "61e98733",
   "metadata": {},
   "outputs": [
    {
     "data": {
      "text/plain": [
       "(1376,)"
      ]
     },
     "execution_count": 37,
     "metadata": {},
     "output_type": "execute_result"
    }
   ],
   "source": [
    "# Set endogenous variable\n",
    "lwage = data[\"lwage\"]\n",
    "lwage.shape"
   ]
  },
  {
   "cell_type": "code",
   "execution_count": 38,
   "id": "dbfd3d52",
   "metadata": {},
   "outputs": [],
   "source": [
    "# (lambda penalty value)\n",
    "\n",
    "alpha=0.1"
   ]
  },
  {
   "cell_type": "code",
   "execution_count": 39,
   "id": "9b98e400",
   "metadata": {},
   "outputs": [
    {
     "name": "stdout",
     "output_type": "stream",
     "text": [
      "Lasso Regression: R^2 score 0.13271492777145588\n"
     ]
    },
    {
     "name": "stderr",
     "output_type": "stream",
     "text": [
      "C:\\Users\\ANA\\anaconda3\\lib\\site-packages\\sklearn\\linear_model\\_coordinate_descent.py:530: ConvergenceWarning: Objective did not converge. You might want to increase the number of iterations. Duality gap: 70.09358067198997, tolerance: 0.0349503284207476\n",
      "  model = cd_fast.enet_coordinate_descent(\n"
     ]
    }
   ],
   "source": [
    "# Set penalty value = 0.1\n",
    "#reg = linear_model.Lasso(alpha=0.1/np.log(len(lwage)))\n",
    "\n",
    "reg = linear_model.Lasso(alpha = alpha)\n",
    "\n",
    "# LASSO regression for flexible model\n",
    "\n",
    "lwage_lasso_fitted = reg.fit(X, lwage).predict( X )\n",
    "\n",
    "# coefficients \n",
    "reg.coef_\n",
    "print('Lasso Regression: R^2 score', reg.score(X, lwage))"
   ]
  },
  {
   "cell_type": "code",
   "execution_count": 40,
   "id": "adcd5c50",
   "metadata": {},
   "outputs": [
    {
     "data": {
      "text/plain": [
       "array([2.82045944, 3.08162988, 2.83790948, ..., 2.73397764, 2.70741033,\n",
       "       2.69495047])"
      ]
     },
     "execution_count": 40,
     "metadata": {},
     "output_type": "execute_result"
    }
   ],
   "source": [
    "# Check predicted values\n",
    "lwage_lasso_fitted"
   ]
  },
  {
   "cell_type": "markdown",
   "id": "b846cb6b",
   "metadata": {},
   "source": [
    "Now, we can evaluate the performance of both models based on the (adjusted) $R^2_{sample}$ and the (adjusted) $MSE_{sample}$:"
   ]
  },
  {
   "cell_type": "code",
   "execution_count": 41,
   "id": "508e6628",
   "metadata": {},
   "outputs": [],
   "source": [
    "# Basic Model\n",
    "basic = 'lwage ~ sex + exp1 + shs + hsg+ scl + clg + mw + so + we + occ2+ ind2'\n",
    "basic_results = smf.ols(basic , data=data).fit()\n",
    "\n",
    "# Flexible model \n",
    "flex = 'lwage ~ sex + shs+hsg+scl+clg+occ2+ind2+mw+so+we + (exp1+exp2+exp3+exp4)*(shs+hsg+scl+clg+occ2+ind2+mw+so+we)'\n",
    "flex_results = smf.ols(flex , data=data).fit()"
   ]
  },
  {
   "cell_type": "code",
   "execution_count": 42,
   "id": "ee5ba60f",
   "metadata": {},
   "outputs": [
    {
     "name": "stdout",
     "output_type": "stream",
     "text": [
      "R-squared for the basic model:  0.18023814876721034 \n",
      "\n",
      "adjusted R-squared for the basic model:  0.15122549288773657 \n",
      "\n",
      "R-squared for the flexible model:  0.31019404037443443 \n",
      "\n",
      "adjusted R-squared for the flexible model:  0.1773779752947504 \n",
      "\n",
      "R-squared for LASSO:  0.13271492777145588 \n",
      "\n",
      "adjusted R-squared for LASSO:  -1.6678232087567078 \n",
      "\n"
     ]
    }
   ],
   "source": [
    "# Assess the predictive performance\n",
    "R2_1 = basic_results.rsquared\n",
    "print(\"R-squared for the basic model: \", R2_1, \"\\n\")\n",
    "R2_adj1 = basic_results.rsquared_adj\n",
    "print(\"adjusted R-squared for the basic model: \", R2_adj1, \"\\n\")\n",
    "\n",
    "\n",
    "R2_2 = flex_results.rsquared\n",
    "print(\"R-squared for the flexible model: \", R2_2, \"\\n\")\n",
    "R2_adj2 = flex_results.rsquared_adj\n",
    "print(\"adjusted R-squared for the flexible model: \", R2_adj2, \"\\n\")\n",
    "\n",
    "R2_L = reg.score(flex_results_0.exog, lwage)\n",
    "print(\"R-squared for LASSO: \", R2_L, \"\\n\")\n",
    "R2_adjL = 1 - (1-R2_L)*(len(lwage)-1)/(len(lwage)-X.shape[1]-1)  # one more for intercetp\n",
    "print(\"adjusted R-squared for LASSO: \", R2_adjL, \"\\n\")"
   ]
  },
  {
   "cell_type": "code",
   "execution_count": 43,
   "id": "6c868998",
   "metadata": {},
   "outputs": [
    {
     "name": "stdout",
     "output_type": "stream",
     "text": [
      "MSE for the basic model:  0.20821908377460796 \n",
      "\n",
      "adjusted MSE for the basic model:  0.21607048210698385 \n",
      "\n",
      "MSE for the flexible model:  0.17521035490917466 \n",
      "\n",
      "adjusted MSE for the flexible model:  0.212413610885484 \n",
      "\n",
      "MSE for the LASSO model:  0.22028995718604233 \n",
      "\n",
      "adjusted MSE for LASSO model:  0.6766048684999872 \n",
      "\n"
     ]
    }
   ],
   "source": [
    "# calculating the MSE\n",
    "MSE1 =  np.mean(basic_results.resid**2)\n",
    "print(\"MSE for the basic model: \", MSE1, \"\\n\")\n",
    "p1 = len(basic_results.params) # number of regressors\n",
    "n = len(lwage)\n",
    "MSE_adj1  = (n/(n-p1))*MSE1\n",
    "print(\"adjusted MSE for the basic model: \", MSE_adj1, \"\\n\")\n",
    "\n",
    "MSE2 =  np.mean(flex_results.resid**2)\n",
    "print(\"MSE for the flexible model: \", MSE2, \"\\n\")\n",
    "p2 = len(flex_results.params) # number of regressors\n",
    "n = len(lwage)\n",
    "MSE_adj2  = (n/(n-p2))*MSE2\n",
    "print(\"adjusted MSE for the flexible model: \", MSE_adj2, \"\\n\")\n",
    "\n",
    "\n",
    "MSEL = mean_squared_error(lwage, lwage_lasso_fitted)\n",
    "print(\"MSE for the LASSO model: \", MSEL, \"\\n\")\n",
    "pL = reg.coef_.shape[0] # number of regressors\n",
    "n = len(lwage)\n",
    "MSE_adjL  = (n/(n-pL))*MSEL\n",
    "print(\"adjusted MSE for LASSO model: \", MSE_adjL, \"\\n\")"
   ]
  },
  {
   "cell_type": "code",
   "execution_count": 44,
   "id": "dcfa6671",
   "metadata": {},
   "outputs": [
    {
     "name": "stdout",
     "output_type": "stream",
     "text": [
      "Requirement already satisfied: array_to_latex in c:\\users\\ana\\appdata\\roaming\\python\\python39\\site-packages (0.82)\n",
      "Requirement already satisfied: pandas in c:\\users\\ana\\anaconda3\\lib\\site-packages (from array_to_latex) (1.3.4)\n",
      "Requirement already satisfied: clipboard in c:\\users\\ana\\appdata\\roaming\\python\\python39\\site-packages (from array_to_latex) (0.0.4)\n",
      "Requirement already satisfied: numpy in c:\\users\\ana\\anaconda3\\lib\\site-packages (from array_to_latex) (1.20.3)\n",
      "Requirement already satisfied: pyperclip>=1.3 in c:\\users\\ana\\appdata\\roaming\\python\\python39\\site-packages (from clipboard->array_to_latex) (1.8.2)\n",
      "Requirement already satisfied: python-dateutil>=2.7.3 in c:\\users\\ana\\anaconda3\\lib\\site-packages (from pandas->array_to_latex) (2.8.2)\n",
      "Requirement already satisfied: pytz>=2017.3 in c:\\users\\ana\\anaconda3\\lib\\site-packages (from pandas->array_to_latex) (2021.3)\n",
      "Requirement already satisfied: six>=1.5 in c:\\users\\ana\\anaconda3\\lib\\site-packages (from python-dateutil>=2.7.3->pandas->array_to_latex) (1.16.0)\n",
      "Note: you may need to restart the kernel to use updated packages.\n"
     ]
    }
   ],
   "source": [
    "pip install --user array_to_latex"
   ]
  },
  {
   "cell_type": "code",
   "execution_count": 45,
   "id": "d74d9587",
   "metadata": {},
   "outputs": [
    {
     "data": {
      "text/plain": [
       "array([[ 5.00000000e+01,  1.80238149e-01,  2.08219084e-01,\n",
       "         1.51225493e-01,  2.16070482e-01],\n",
       "       [ 2.41000000e+02,  3.10194040e-01,  1.75210355e-01,\n",
       "         1.77377975e-01,  2.12413611e-01],\n",
       "       [ 9.28000000e+02,  1.32714928e-01,  2.20289957e-01,\n",
       "        -1.66782321e+00,  6.76604868e-01]])"
      ]
     },
     "execution_count": 45,
     "metadata": {},
     "output_type": "execute_result"
    }
   ],
   "source": [
    "# Package for latex table \n",
    "import array_to_latex as a2l\n",
    "\n",
    "table = np.zeros((3, 5))\n",
    "table[0,0:5] = [p1, R2_1, MSE1, R2_adj1, MSE_adj1]\n",
    "table[1,0:5] = [p2, R2_2, MSE2, R2_adj2, MSE_adj2]\n",
    "table[2,0:5] = [pL, R2_L, MSEL, R2_adjL, MSE_adjL]\n",
    "table"
   ]
  },
  {
   "cell_type": "code",
   "execution_count": 46,
   "id": "e79f37b7",
   "metadata": {},
   "outputs": [
    {
     "data": {
      "text/html": [
       "<div>\n",
       "<style scoped>\n",
       "    .dataframe tbody tr th:only-of-type {\n",
       "        vertical-align: middle;\n",
       "    }\n",
       "\n",
       "    .dataframe tbody tr th {\n",
       "        vertical-align: top;\n",
       "    }\n",
       "\n",
       "    .dataframe thead th {\n",
       "        text-align: right;\n",
       "    }\n",
       "</style>\n",
       "<table border=\"1\" class=\"dataframe\">\n",
       "  <thead>\n",
       "    <tr style=\"text-align: right;\">\n",
       "      <th></th>\n",
       "      <th>p</th>\n",
       "      <th>$R^2_{sample}$</th>\n",
       "      <th>$MSE_{sample}$</th>\n",
       "      <th>$R^2_{adjusted}$</th>\n",
       "      <th>$MSE_{adjusted}$</th>\n",
       "    </tr>\n",
       "  </thead>\n",
       "  <tbody>\n",
       "    <tr>\n",
       "      <th>basic reg</th>\n",
       "      <td>50.0</td>\n",
       "      <td>0.180238</td>\n",
       "      <td>0.208219</td>\n",
       "      <td>0.151225</td>\n",
       "      <td>0.216070</td>\n",
       "    </tr>\n",
       "    <tr>\n",
       "      <th>flexible reg</th>\n",
       "      <td>241.0</td>\n",
       "      <td>0.310194</td>\n",
       "      <td>0.175210</td>\n",
       "      <td>0.177378</td>\n",
       "      <td>0.212414</td>\n",
       "    </tr>\n",
       "    <tr>\n",
       "      <th>lasso flex</th>\n",
       "      <td>928.0</td>\n",
       "      <td>0.132715</td>\n",
       "      <td>0.220290</td>\n",
       "      <td>-1.667823</td>\n",
       "      <td>0.676605</td>\n",
       "    </tr>\n",
       "  </tbody>\n",
       "</table>\n",
       "</div>"
      ],
      "text/plain": [
       "                  p  $R^2_{sample}$  $MSE_{sample}$  $R^2_{adjusted}$  \\\n",
       "basic reg      50.0        0.180238        0.208219          0.151225   \n",
       "flexible reg  241.0        0.310194        0.175210          0.177378   \n",
       "lasso flex    928.0        0.132715        0.220290         -1.667823   \n",
       "\n",
       "              $MSE_{adjusted}$  \n",
       "basic reg             0.216070  \n",
       "flexible reg          0.212414  \n",
       "lasso flex            0.676605  "
      ]
     },
     "execution_count": 46,
     "metadata": {},
     "output_type": "execute_result"
    }
   ],
   "source": [
    "table = pd.DataFrame(table, columns = [\"p\",\"$R^2_{sample}$\",\"$MSE_{sample}$\",\"$R^2_{adjusted}$\", \"$MSE_{adjusted}$\"], \\\n",
    "                      index = [\"basic reg\",\"flexible reg\", \"lasso flex\"])\n",
    "table"
   ]
  },
  {
   "cell_type": "markdown",
   "id": "151845d5",
   "metadata": {},
   "source": [
    "Considering all measures above, the flexible model performs slightly better than the basic model. \n",
    "\n",
    "One procedure to circumvent this issue is to use **data splitting** that is described and applied in the following."
   ]
  },
  {
   "cell_type": "markdown",
   "id": "6166bd8b",
   "metadata": {},
   "source": [
    "## Data Splitting\n",
    "\n",
    "Measure the prediction quality of the two models via data splitting:\n",
    "\n",
    "- Randomly split the data into one training sample and one testing sample. Here we just use a simple method (stratified splitting is a more sophisticated version of splitting that we can consider).\n",
    "- Use the training sample for estimating the parameters of the Basic Model and the Flexible Model.\n",
    "- Use the testing sample for evaluation. Predict the $\\mathtt{wage}$  of every observation in the testing sample based on the estimated parameters in the training sample.\n",
    "- Calculate the Mean Squared Prediction Error $MSE_{test}$ based on the testing sample for both prediction models. "
   ]
  },
  {
   "cell_type": "code",
   "execution_count": 47,
   "id": "56aaaeb3",
   "metadata": {},
   "outputs": [
    {
     "name": "stderr",
     "output_type": "stream",
     "text": [
      "C:\\Users\\ANA\\AppData\\Local\\Temp/ipykernel_15812/493912399.py:9: SettingWithCopyWarning: \n",
      "A value is trying to be set on a copy of a slice from a DataFrame.\n",
      "Try using .loc[row_indexer,col_indexer] = value instead\n",
      "\n",
      "See the caveats in the documentation: https://pandas.pydata.org/pandas-docs/stable/user_guide/indexing.html#returning-a-view-versus-a-copy\n",
      "  data[\"random\"] = random\n"
     ]
    },
    {
     "data": {
      "text/plain": [
       "array([ 684,  559, 1216, ..., 1294,  573, 1367])"
      ]
     },
     "execution_count": 47,
     "metadata": {},
     "output_type": "execute_result"
    }
   ],
   "source": [
    "# Import relevant packages for splitting data\n",
    "import random\n",
    "import math\n",
    "\n",
    "# Set Seed\n",
    "# to make the results replicable (generating random numbers)\n",
    "np.random.seed(0)\n",
    "random = np.random.randint(0,n, size=math.floor(n))\n",
    "data[\"random\"] = random\n",
    "random    # the array does not change "
   ]
  },
  {
   "cell_type": "code",
   "execution_count": 48,
   "id": "e578d54a",
   "metadata": {
    "scrolled": true
   },
   "outputs": [
    {
     "data": {
      "text/html": [
       "<div>\n",
       "<style scoped>\n",
       "    .dataframe tbody tr th:only-of-type {\n",
       "        vertical-align: middle;\n",
       "    }\n",
       "\n",
       "    .dataframe tbody tr th {\n",
       "        vertical-align: top;\n",
       "    }\n",
       "\n",
       "    .dataframe thead th {\n",
       "        text-align: right;\n",
       "    }\n",
       "</style>\n",
       "<table border=\"1\" class=\"dataframe\">\n",
       "  <thead>\n",
       "    <tr style=\"text-align: right;\">\n",
       "      <th></th>\n",
       "      <th>rownames</th>\n",
       "      <th>wage</th>\n",
       "      <th>lwage</th>\n",
       "      <th>sex</th>\n",
       "      <th>shs</th>\n",
       "      <th>hsg</th>\n",
       "      <th>scl</th>\n",
       "      <th>clg</th>\n",
       "      <th>ad</th>\n",
       "      <th>mw</th>\n",
       "      <th>...</th>\n",
       "      <th>exp3</th>\n",
       "      <th>exp4</th>\n",
       "      <th>occ</th>\n",
       "      <th>occ2</th>\n",
       "      <th>ind</th>\n",
       "      <th>ind2</th>\n",
       "      <th>sexo</th>\n",
       "      <th>place</th>\n",
       "      <th>educ</th>\n",
       "      <th>random</th>\n",
       "    </tr>\n",
       "  </thead>\n",
       "  <tbody>\n",
       "    <tr>\n",
       "      <th>1641</th>\n",
       "      <td>9262</td>\n",
       "      <td>9.134615</td>\n",
       "      <td>2.212071</td>\n",
       "      <td>0.0</td>\n",
       "      <td>some high school</td>\n",
       "      <td>1.0</td>\n",
       "      <td>0.0</td>\n",
       "      <td>0.0</td>\n",
       "      <td>0.0</td>\n",
       "      <td>1.0</td>\n",
       "      <td>...</td>\n",
       "      <td>0.125</td>\n",
       "      <td>0.0625</td>\n",
       "      <td>9360.0</td>\n",
       "      <td>22</td>\n",
       "      <td>5090.0</td>\n",
       "      <td>9</td>\n",
       "      <td>male</td>\n",
       "      <td>Midwest</td>\n",
       "      <td>NaN</td>\n",
       "      <td>0</td>\n",
       "    </tr>\n",
       "    <tr>\n",
       "      <th>2438</th>\n",
       "      <td>14134</td>\n",
       "      <td>24.038462</td>\n",
       "      <td>3.179655</td>\n",
       "      <td>0.0</td>\n",
       "      <td>some high school</td>\n",
       "      <td>1.0</td>\n",
       "      <td>0.0</td>\n",
       "      <td>0.0</td>\n",
       "      <td>0.0</td>\n",
       "      <td>1.0</td>\n",
       "      <td>...</td>\n",
       "      <td>1.331</td>\n",
       "      <td>1.4641</td>\n",
       "      <td>4250.0</td>\n",
       "      <td>14</td>\n",
       "      <td>7770.0</td>\n",
       "      <td>16</td>\n",
       "      <td>male</td>\n",
       "      <td>Midwest</td>\n",
       "      <td>NaN</td>\n",
       "      <td>0</td>\n",
       "    </tr>\n",
       "    <tr>\n",
       "      <th>1559</th>\n",
       "      <td>8689</td>\n",
       "      <td>12.980769</td>\n",
       "      <td>2.563469</td>\n",
       "      <td>1.0</td>\n",
       "      <td>some high school</td>\n",
       "      <td>1.0</td>\n",
       "      <td>0.0</td>\n",
       "      <td>0.0</td>\n",
       "      <td>0.0</td>\n",
       "      <td>1.0</td>\n",
       "      <td>...</td>\n",
       "      <td>4.913</td>\n",
       "      <td>8.3521</td>\n",
       "      <td>5620.0</td>\n",
       "      <td>17</td>\n",
       "      <td>5380.0</td>\n",
       "      <td>9</td>\n",
       "      <td>female</td>\n",
       "      <td>Midwest</td>\n",
       "      <td>NaN</td>\n",
       "      <td>3</td>\n",
       "    </tr>\n",
       "    <tr>\n",
       "      <th>1983</th>\n",
       "      <td>11486</td>\n",
       "      <td>12.980769</td>\n",
       "      <td>2.563469</td>\n",
       "      <td>0.0</td>\n",
       "      <td>some high school</td>\n",
       "      <td>1.0</td>\n",
       "      <td>0.0</td>\n",
       "      <td>0.0</td>\n",
       "      <td>0.0</td>\n",
       "      <td>1.0</td>\n",
       "      <td>...</td>\n",
       "      <td>0.343</td>\n",
       "      <td>0.2401</td>\n",
       "      <td>4760.0</td>\n",
       "      <td>16</td>\n",
       "      <td>5790.0</td>\n",
       "      <td>9</td>\n",
       "      <td>male</td>\n",
       "      <td>Midwest</td>\n",
       "      <td>NaN</td>\n",
       "      <td>3</td>\n",
       "    </tr>\n",
       "    <tr>\n",
       "      <th>3478</th>\n",
       "      <td>20866</td>\n",
       "      <td>34.615385</td>\n",
       "      <td>3.544298</td>\n",
       "      <td>0.0</td>\n",
       "      <td>some high school</td>\n",
       "      <td>1.0</td>\n",
       "      <td>0.0</td>\n",
       "      <td>0.0</td>\n",
       "      <td>0.0</td>\n",
       "      <td>0.0</td>\n",
       "      <td>...</td>\n",
       "      <td>0.125</td>\n",
       "      <td>0.0625</td>\n",
       "      <td>220.0</td>\n",
       "      <td>1</td>\n",
       "      <td>770.0</td>\n",
       "      <td>4</td>\n",
       "      <td>male</td>\n",
       "      <td>South</td>\n",
       "      <td>NaN</td>\n",
       "      <td>3</td>\n",
       "    </tr>\n",
       "  </tbody>\n",
       "</table>\n",
       "<p>5 rows × 25 columns</p>\n",
       "</div>"
      ],
      "text/plain": [
       "      rownames       wage     lwage  sex               shs  hsg  scl  clg  \\\n",
       "1641      9262   9.134615  2.212071  0.0  some high school  1.0  0.0  0.0   \n",
       "2438     14134  24.038462  3.179655  0.0  some high school  1.0  0.0  0.0   \n",
       "1559      8689  12.980769  2.563469  1.0  some high school  1.0  0.0  0.0   \n",
       "1983     11486  12.980769  2.563469  0.0  some high school  1.0  0.0  0.0   \n",
       "3478     20866  34.615385  3.544298  0.0  some high school  1.0  0.0  0.0   \n",
       "\n",
       "       ad   mw  ...   exp3    exp4     occ  occ2     ind  ind2    sexo  \\\n",
       "1641  0.0  1.0  ...  0.125  0.0625  9360.0    22  5090.0     9    male   \n",
       "2438  0.0  1.0  ...  1.331  1.4641  4250.0    14  7770.0    16    male   \n",
       "1559  0.0  1.0  ...  4.913  8.3521  5620.0    17  5380.0     9  female   \n",
       "1983  0.0  1.0  ...  0.343  0.2401  4760.0    16  5790.0     9    male   \n",
       "3478  0.0  0.0  ...  0.125  0.0625   220.0     1   770.0     4    male   \n",
       "\n",
       "        place educ random  \n",
       "1641  Midwest  NaN      0  \n",
       "2438  Midwest  NaN      0  \n",
       "1559  Midwest  NaN      3  \n",
       "1983  Midwest  NaN      3  \n",
       "3478    South  NaN      3  \n",
       "\n",
       "[5 rows x 25 columns]"
      ]
     },
     "execution_count": 48,
     "metadata": {},
     "output_type": "execute_result"
    }
   ],
   "source": [
    "data_2 = data.sort_values(by=['random'])\n",
    "data_2.head()"
   ]
  },
  {
   "cell_type": "code",
   "execution_count": 49,
   "id": "b2cc50d6",
   "metadata": {},
   "outputs": [
    {
     "name": "stdout",
     "output_type": "stream",
     "text": [
      "(1100, 25)\n",
      "(276, 25)\n"
     ]
    }
   ],
   "source": [
    "# Create training and testing sample \n",
    "train = data_2[ : math.floor(n*4/5)]    # training sample\n",
    "test =  data_2[ math.floor(n*4/5) : ]   # testing sample\n",
    "print(train.shape)\n",
    "print(test.shape)"
   ]
  },
  {
   "cell_type": "code",
   "execution_count": 50,
   "id": "0a6523a4",
   "metadata": {},
   "outputs": [],
   "source": [
    "# Basic Model\n",
    "basic = 'lwage ~ sex + exp1 + shs + hsg+ scl + clg + mw + so + we + occ2+ ind2'\n",
    "basic_results = smf.ols(basic , data=data).fit()\n",
    "\n",
    "# Flexible model \n",
    "flex = 'lwage ~ sex + shs+hsg+scl+clg+occ2+ind2+mw+so+we + (exp1+exp2+exp3+exp4)*(shs+hsg+scl+clg+occ2+ind2+mw+so+we)'\n",
    "flex_results = smf.ols(flex , data=data).fit()"
   ]
  },
  {
   "cell_type": "code",
   "execution_count": 51,
   "id": "989e7ec0",
   "metadata": {},
   "outputs": [
    {
     "name": "stdout",
     "output_type": "stream",
     "text": [
      "                            OLS Regression Results                            \n",
      "==============================================================================\n",
      "Dep. Variable:                  lwage   R-squared:                       0.190\n",
      "Model:                            OLS   Adj. R-squared:                  0.154\n",
      "Method:                 Least Squares   F-statistic:                     5.265\n",
      "Date:                Sat, 16 Apr 2022   Prob (F-statistic):           2.13e-25\n",
      "Time:                        13:49:08   Log-Likelihood:                -711.67\n",
      "No. Observations:                1100   AIC:                             1519.\n",
      "Df Residuals:                    1052   BIC:                             1759.\n",
      "Df Model:                          47                                         \n",
      "Covariance Type:            nonrobust                                         \n",
      "==============================================================================\n",
      "                 coef    std err          t      P>|t|      [0.025      0.975]\n",
      "------------------------------------------------------------------------------\n",
      "Intercept      2.8380      0.156     18.139      0.000       2.531       3.145\n",
      "occ2[T.2]     -0.3711      0.176     -2.105      0.036      -0.717      -0.025\n",
      "occ2[T.3]      0.0948      0.195      0.485      0.628      -0.289       0.478\n",
      "occ2[T.4]     -0.0715      0.165     -0.434      0.664      -0.395       0.252\n",
      "occ2[T.5]      0.1890      0.287      0.659      0.510      -0.374       0.752\n",
      "occ2[T.6]     -0.3575      0.227     -1.577      0.115      -0.802       0.087\n",
      "occ2[T.7]     -0.5013      0.283     -1.774      0.076      -1.056       0.053\n",
      "occ2[T.8]     -0.7408      0.173     -4.278      0.000      -1.080      -0.401\n",
      "occ2[T.9]     -0.4071      0.145     -2.817      0.005      -0.691      -0.124\n",
      "occ2[T.10]    -0.0413      0.137     -0.302      0.763      -0.310       0.227\n",
      "occ2[T.11]    -0.4882      0.127     -3.854      0.000      -0.737      -0.240\n",
      "occ2[T.12]    -0.4935      0.149     -3.302      0.001      -0.787      -0.200\n",
      "occ2[T.13]    -0.4890      0.090     -5.424      0.000      -0.666      -0.312\n",
      "occ2[T.14]    -0.6015      0.088     -6.857      0.000      -0.774      -0.429\n",
      "occ2[T.15]    -0.4594      0.112     -4.112      0.000      -0.679      -0.240\n",
      "occ2[T.16]    -0.3054      0.081     -3.765      0.000      -0.465      -0.146\n",
      "occ2[T.17]    -0.4155      0.071     -5.831      0.000      -0.555      -0.276\n",
      "occ2[T.18]    -0.4911      0.348     -1.413      0.158      -1.173       0.191\n",
      "occ2[T.19]    -0.1635      0.094     -1.734      0.083      -0.348       0.021\n",
      "occ2[T.20]    -0.1332      0.087     -1.534      0.125      -0.303       0.037\n",
      "occ2[T.21]    -0.2550      0.079     -3.248      0.001      -0.409      -0.101\n",
      "occ2[T.22]    -0.4083      0.080     -5.115      0.000      -0.565      -0.252\n",
      "ind2[T.3]      0.1542      0.179      0.863      0.388      -0.196       0.505\n",
      "ind2[T.4]      0.0532      0.138      0.386      0.700      -0.218       0.324\n",
      "ind2[T.5]      0.0849      0.149      0.569      0.569      -0.208       0.378\n",
      "ind2[T.6]      0.0506      0.142      0.357      0.721      -0.227       0.329\n",
      "ind2[T.7]      0.2405      0.167      1.440      0.150      -0.087       0.568\n",
      "ind2[T.8]      0.1111      0.181      0.613      0.540      -0.244       0.467\n",
      "ind2[T.9]      0.1376      0.140      0.983      0.326      -0.137       0.412\n",
      "ind2[T.10]     0.2305      0.151      1.529      0.126      -0.065       0.526\n",
      "ind2[T.11]     0.4533      0.174      2.612      0.009       0.113       0.794\n",
      "ind2[T.12]     0.2661      0.172      1.546      0.122      -0.072       0.604\n",
      "ind2[T.13]     0.2671      0.185      1.441      0.150      -0.097       0.631\n",
      "ind2[T.14]     0.2205      0.160      1.375      0.169      -0.094       0.535\n",
      "ind2[T.15]     0.1897      0.348      0.546      0.585      -0.492       0.872\n",
      "ind2[T.16]     0.0307      0.149      0.206      0.837      -0.261       0.323\n",
      "ind2[T.17]     0.2685      0.170      1.582      0.114      -0.064       0.601\n",
      "ind2[T.18]     0.1253      0.149      0.839      0.402      -0.168       0.418\n",
      "ind2[T.19]    -0.0962      0.200     -0.482      0.630      -0.488       0.296\n",
      "ind2[T.20]    -0.0263      0.152     -0.173      0.863      -0.324       0.272\n",
      "ind2[T.21]    -0.0450      0.149     -0.301      0.763      -0.338       0.248\n",
      "ind2[T.22]     0.3286      0.161      2.042      0.041       0.013       0.644\n",
      "sex           -0.0708      0.036     -1.973      0.049      -0.141      -0.000\n",
      "exp1           0.0076      0.001      5.322      0.000       0.005       0.010\n",
      "hsg            0.0272      0.051      0.531      0.596      -0.073       0.128\n",
      "scl        -1.001e-16   5.57e-17     -1.798      0.073   -2.09e-16    9.17e-18\n",
      "clg        -6.947e-18   1.39e-17     -0.499      0.618   -3.43e-17    2.04e-17\n",
      "mw            -0.0105      0.041     -0.258      0.797      -0.091       0.070\n",
      "so            -0.1055      0.040     -2.606      0.009      -0.185      -0.026\n",
      "we             0.0563      0.045      1.259      0.208      -0.031       0.144\n",
      "==============================================================================\n",
      "Omnibus:                      247.972   Durbin-Watson:                   2.084\n",
      "Prob(Omnibus):                  0.000   Jarque-Bera (JB):             1600.069\n",
      "Skew:                           0.872   Prob(JB):                         0.00\n",
      "Kurtosis:                       8.645   Cond. No.                     1.17e+16\n",
      "==============================================================================\n",
      "\n",
      "Notes:\n",
      "[1] Standard Errors assume that the covariance matrix of the errors is correctly specified.\n",
      "[2] The smallest eigenvalue is 3.28e-27. This might indicate that there are\n",
      "strong multicollinearity problems or that the design matrix is singular.\n"
     ]
    }
   ],
   "source": [
    "# basic model\n",
    "# estimating the parameters in the training sample\n",
    "basic_results = smf.ols(basic , data=train).fit()\n",
    "print(basic_results.summary())"
   ]
  },
  {
   "cell_type": "code",
   "execution_count": 52,
   "id": "350b4c5c",
   "metadata": {},
   "outputs": [],
   "source": [
    "lwage_test = test[\"lwage\"].values\n",
    "#test"
   ]
  },
  {
   "cell_type": "code",
   "execution_count": 53,
   "id": "c7704574",
   "metadata": {},
   "outputs": [
    {
     "name": "stderr",
     "output_type": "stream",
     "text": [
      "C:\\Users\\ANA\\anaconda3\\lib\\site-packages\\statsmodels\\tsa\\tsatools.py:142: FutureWarning: In a future version of pandas all arguments of concat except for the argument 'objs' will be keyword-only\n",
      "  x = pd.concat(x[::order], 1)\n"
     ]
    }
   ],
   "source": [
    "# calculating the out-of-sample MSE\n",
    "test = sm.add_constant(test)   #add constant \n",
    "\n",
    "lwage_pred =  basic_results.predict(test) # predict out of sample\n",
    "#print(lwage_pred)"
   ]
  },
  {
   "cell_type": "code",
   "execution_count": 54,
   "id": "bb12f223",
   "metadata": {},
   "outputs": [
    {
     "name": "stdout",
     "output_type": "stream",
     "text": [
      "Test MSE for the basic model:  0.19987102511489763  \n",
      "Test R2 for the basic model:  0.04156410192334481\n"
     ]
    }
   ],
   "source": [
    "MSE_test1 = np.sum((lwage_test-lwage_pred)**2)/len(lwage_test)\n",
    "R2_test1  = 1 - MSE_test1/np.var(lwage_test)\n",
    "\n",
    "print(\"Test MSE for the basic model: \", MSE_test1, \" \")\n",
    "print(\"Test R2 for the basic model: \", R2_test1)"
   ]
  },
  {
   "cell_type": "markdown",
   "id": "15681adb",
   "metadata": {},
   "source": [
    "In the basic model, the $MSE_{test}$ is quite closed to the $MSE_{sample}$."
   ]
  },
  {
   "cell_type": "code",
   "execution_count": 56,
   "id": "4fa4525b",
   "metadata": {},
   "outputs": [
    {
     "name": "stdout",
     "output_type": "stream",
     "text": [
      "Test MSE for the flexible model:  144.64134533300265  \n",
      "Test R2 for the flexible model:  -692.594569966105\n"
     ]
    }
   ],
   "source": [
    "# Flexible model\n",
    "# estimating the parameters in the training sample\n",
    "flex_results = smf.ols(flex , data=train).fit()\n",
    "\n",
    "# calculating the out-of-sample MSE\n",
    "lwage_flex_pred =  flex_results.predict(test) # predict out of sample\n",
    "lwage_test = test[\"lwage\"].values\n",
    "\n",
    "MSE_test2 = np.sum((lwage_test-lwage_flex_pred)**2)/len(lwage_test)\n",
    "R2_test2  = 1 - MSE_test2/np.var(lwage_test)\n",
    "\n",
    "print(\"Test MSE for the flexible model: \", MSE_test2, \" \")\n",
    "print(\"Test R2 for the flexible model: \", R2_test2)"
   ]
  },
  {
   "cell_type": "markdown",
   "id": "104aee85",
   "metadata": {},
   "source": [
    "In the flexible model, the discrepancy between the $MSE_{test}$ and the $MSE_{sample}$ is not large.\n",
    "\n",
    "It is worth to notice that the $MSE_{test}$ vary across different data splits. Hence, it is a good idea average the out-of-sample MSE over different data splits to get valid results.\n",
    "\n",
    "Nevertheless, we observe that, based on the out-of-sample $MSE$, the basic model using ols regression performs is about as well (or slightly better) than the flexible model. \n",
    "\n",
    "\n",
    "Next, let us use lasso regression in the flexible model instead of ols regression. Lasso (*least absolute shrinkage and selection operator*) is a penalized regression method that can be used to reduce the complexity of a regression model when the number of regressors $p$ is relatively large in relation to $n$. \n",
    "\n",
    "Note that the out-of-sample $MSE$ on the test sample can be computed for any other black-box prediction method as well. Thus, let us finally compare the performance of lasso regression in the flexible model to ols regression."
   ]
  },
  {
   "cell_type": "code",
   "execution_count": 57,
   "id": "81d7c6da",
   "metadata": {},
   "outputs": [
    {
     "name": "stdout",
     "output_type": "stream",
     "text": [
      "(1100, 241)\n",
      "(1100,)\n"
     ]
    }
   ],
   "source": [
    "# flexible model using lasso\n",
    "# get exogenous variables from training data used in flex model\n",
    "flex_results_0 = smf.ols(flex , data=train)\n",
    "X_train = flex_results_0.exog\n",
    "print(X_train.shape)\n",
    "\n",
    "# Get endogenous variable \n",
    "lwage_train = train[\"lwage\"]\n",
    "print(lwage_train.shape)"
   ]
  },
  {
   "cell_type": "code",
   "execution_count": 58,
   "id": "64d9935d",
   "metadata": {},
   "outputs": [
    {
     "name": "stdout",
     "output_type": "stream",
     "text": [
      "(276, 241)\n",
      "(276,)\n"
     ]
    }
   ],
   "source": [
    "# flexible model using lasso\n",
    "# get exogenous variables from testing data used in flex model\n",
    "flex_results_1 = smf.ols(flex , data=test)\n",
    "X_test = flex_results_1.exog\n",
    "print(X_test.shape)\n",
    "\n",
    "# Get endogenous variable \n",
    "lwage_test = test[\"lwage\"]\n",
    "print(lwage_test.shape)"
   ]
  },
  {
   "cell_type": "code",
   "execution_count": 59,
   "id": "ae837c0c",
   "metadata": {
    "scrolled": true
   },
   "outputs": [
    {
     "name": "stdout",
     "output_type": "stream",
     "text": [
      "Test MSE for the flexible model:  0.19367119049793172  \n",
      "Test R2 for the flexible model:  0.0712939942657822\n"
     ]
    }
   ],
   "source": [
    "# calculating the out-of-sample MSE\n",
    "reg = linear_model.Lasso(alpha=0.1)\n",
    "lwage_lasso_fitted = reg.fit(X_train, lwage_train).predict( X_test )\n",
    "\n",
    "MSE_lasso = np.sum((lwage_test-lwage_lasso_fitted)**2)/len(lwage_test)\n",
    "R2_lasso  = 1 - MSE_lasso/np.var(lwage_test)\n",
    "\n",
    "print(\"Test MSE for the flexible model: \", MSE_lasso, \" \")\n",
    "print(\"Test R2 for the flexible model: \", R2_lasso)"
   ]
  },
  {
   "cell_type": "code",
   "execution_count": 60,
   "id": "9f867f1b",
   "metadata": {},
   "outputs": [
    {
     "data": {
      "text/html": [
       "<div>\n",
       "<style scoped>\n",
       "    .dataframe tbody tr th:only-of-type {\n",
       "        vertical-align: middle;\n",
       "    }\n",
       "\n",
       "    .dataframe tbody tr th {\n",
       "        vertical-align: top;\n",
       "    }\n",
       "\n",
       "    .dataframe thead th {\n",
       "        text-align: right;\n",
       "    }\n",
       "</style>\n",
       "<table border=\"1\" class=\"dataframe\">\n",
       "  <thead>\n",
       "    <tr style=\"text-align: right;\">\n",
       "      <th></th>\n",
       "      <th>$MSE_{test}$</th>\n",
       "      <th>$R^2_{test}$</th>\n",
       "    </tr>\n",
       "  </thead>\n",
       "  <tbody>\n",
       "    <tr>\n",
       "      <th>basic reg</th>\n",
       "      <td>0.199871</td>\n",
       "      <td>0.041564</td>\n",
       "    </tr>\n",
       "    <tr>\n",
       "      <th>flexible reg</th>\n",
       "      <td>144.641345</td>\n",
       "      <td>-692.594570</td>\n",
       "    </tr>\n",
       "    <tr>\n",
       "      <th>lasso regression</th>\n",
       "      <td>0.193671</td>\n",
       "      <td>0.071294</td>\n",
       "    </tr>\n",
       "  </tbody>\n",
       "</table>\n",
       "</div>"
      ],
      "text/plain": [
       "                  $MSE_{test}$  $R^2_{test}$\n",
       "basic reg             0.199871      0.041564\n",
       "flexible reg        144.641345   -692.594570\n",
       "lasso regression      0.193671      0.071294"
      ]
     },
     "execution_count": 60,
     "metadata": {},
     "output_type": "execute_result"
    }
   ],
   "source": [
    "# Package for latex table \n",
    "import array_to_latex as a2l\n",
    "\n",
    "table2 = np.zeros((3, 2))\n",
    "table2[0,0] = MSE_test1\n",
    "table2[1,0] = MSE_test2\n",
    "table2[2,0] = MSE_lasso\n",
    "table2[0,1] = R2_test1\n",
    "table2[1,1] = R2_test2\n",
    "table2[2,1] = R2_lasso\n",
    "\n",
    "table2 = pd.DataFrame(table2, columns = [\"$MSE_{test}$\", \"$R^2_{test}$\"], \\\n",
    "                      index = [\"basic reg\",\"flexible reg\",\"lasso regression\"])\n",
    "table2"
   ]
  },
  {
   "cell_type": "code",
   "execution_count": 61,
   "id": "91df3749",
   "metadata": {},
   "outputs": [
    {
     "name": "stdout",
     "output_type": "stream",
     "text": [
      "\\begin{tabular}{lrr}\n",
      "\\toprule\n",
      "{} &  \\$MSE\\_\\{test\\}\\$ &  \\$R\\textasciicircum 2\\_\\{test\\}\\$ \\\\\n",
      "\\midrule\n",
      "basic reg        &      0.199871 &      0.041564 \\\\\n",
      "flexible reg     &    144.641345 &   -692.594570 \\\\\n",
      "lasso regression &      0.193671 &      0.071294 \\\\\n",
      "\\bottomrule\n",
      "\\end{tabular}\n",
      "\n"
     ]
    }
   ],
   "source": [
    "table2.to_latex\n",
    "print(table2.to_latex())"
   ]
  },
  {
   "cell_type": "markdown",
   "id": "92da2120",
   "metadata": {},
   "source": [
    "# Two cases of Partialling-Out using lasso."
   ]
  },
  {
   "cell_type": "markdown",
   "id": "06bdad39",
   "metadata": {},
   "source": [
    "### Case 1: Matrix W = 'exp1 + shs + hsg+ scl + clg + mw + so + we + occ2+ ind2'"
   ]
  },
  {
   "cell_type": "code",
   "execution_count": 62,
   "id": "f947df75",
   "metadata": {},
   "outputs": [],
   "source": [
    "# import packages\n",
    "import statsmodels.api as sm\n",
    "import statsmodels.formula.api as smf"
   ]
  },
  {
   "cell_type": "code",
   "execution_count": 63,
   "id": "3274550f",
   "metadata": {},
   "outputs": [],
   "source": [
    "# model for Y\n",
    "flex_y = 'lwage ~  exp1 + shs + hsg+ scl + clg + mw + so + we + occ2+ ind2'\n",
    "\n",
    "# model for D\n",
    "flex_d = 'sex ~ exp1 + shs + hsg+ scl + clg + mw + so + we + occ2+ ind2'"
   ]
  },
  {
   "cell_type": "code",
   "execution_count": 64,
   "id": "fca1bddd",
   "metadata": {},
   "outputs": [],
   "source": [
    "from sklearn import linear_model\n",
    "# flex_y\n",
    "\n",
    "#define the lasso model\n",
    "lasso_model = linear_model.Lasso( alpha = 0.5 )\n",
    "\n",
    "#extract the covariable to use\n",
    "flex_y_covariables = smf.ols(formula = flex_y, data = data)\n",
    "\n",
    "#fit hte model and predict the value of the outcome\n",
    "Y_lasso_fitted = lasso_model.fit( flex_y_covariables.exog, data[[ 'lwage' ]] ).predict( flex_y_covariables.exog )\n",
    "\n",
    "#save the residuals\n",
    "t_Y = data[[ 'lwage' ]] - Y_lasso_fitted.reshape( Y_lasso_fitted.size, 1)"
   ]
  },
  {
   "cell_type": "code",
   "execution_count": 65,
   "id": "7893df86",
   "metadata": {},
   "outputs": [],
   "source": [
    "# extraflex_d\n",
    "\n",
    "#extract the covariable to use\n",
    "flex_d_covariables = smf.ols( flex_d, data=data)\n",
    "\n",
    "#fit hte model and predict the value of the outcome\n",
    "D_lasso_fitted = lasso_model.fit( flex_d_covariables.exog, data[[ 'sex' ]] ).predict( flex_d_covariables.exog )\n",
    "\n",
    "#save the residuals\n",
    "t_D = data[[ 'sex' ]] - D_lasso_fitted.reshape( D_lasso_fitted.size, 1)"
   ]
  },
  {
   "cell_type": "code",
   "execution_count": 66,
   "id": "1d32200a",
   "metadata": {},
   "outputs": [
    {
     "name": "stdout",
     "output_type": "stream",
     "text": [
      "Coefficient for D via partialling-out using lasso -0.12148020376235968\n"
     ]
    }
   ],
   "source": [
    "#create a data frame with the residuals of both the regressions\n",
    "data_res = pd.DataFrame( np.hstack(( t_Y , t_D )) , columns = [ 't_Y', 't_D' ] )\n",
    "\n",
    "# regression of the residuals Y on D after partialling-out the effect of W\n",
    "partial_lasso_fit = smf.ols( formula = 't_Y ~ t_D' , data = data_res ).fit()\n",
    "partial_lasso_est = partial_lasso_fit.summary2().tables[1]['Coef.']['t_D']\n",
    "\n",
    "print( f\"Coefficient for D via partialling-out using lasso {partial_lasso_est}\" )\n",
    "\n",
    "# standard error\n",
    "HCV_coefs = partial_lasso_fit.cov_HC0\n",
    "partial_lasso_se = np.power( HCV_coefs.diagonal() , 0.5)[1]"
   ]
  },
  {
   "cell_type": "markdown",
   "id": "3ec5593d",
   "metadata": {},
   "source": [
    "The use of the lasso for partialling-out the basic regressions shows us that the gender gap is of $12.14\\%$ , which is different from the $7\\%$ gap found int the basic regression using OLS. This can be explained by the fact that lasso supresses some of the regressors but not all of them, and because partialling out controls for the covariates in the both regressions.\n",
    "\n",
    "Next we try \"extra\" flexible model, where we take interactions of all controls, giving us about 1000 controls."
   ]
  },
  {
   "cell_type": "markdown",
   "id": "b241cdf6",
   "metadata": {},
   "source": [
    "### Case 2: Partialling-Out using lasso 2 : Matrix W = (exp1+exp2+exp3+exp4+shs+hsg+occ2+ind2+mw+so+we)**2'"
   ]
  },
  {
   "cell_type": "code",
   "execution_count": 67,
   "id": "f20207ec",
   "metadata": {},
   "outputs": [],
   "source": [
    "# model for Y\n",
    "flex_y = 'lwage ~  X'\n",
    "\n",
    "# model for D\n",
    "flex_d = 'sex ~ X'"
   ]
  },
  {
   "cell_type": "code",
   "execution_count": 68,
   "id": "1d6956ae",
   "metadata": {},
   "outputs": [],
   "source": [
    "from sklearn import linear_model\n",
    "# flex_y\n",
    "\n",
    "#define the lasso model\n",
    "lasso_model = linear_model.Lasso( alpha = 0.5 )\n",
    "\n",
    "#extract the covariable to use\n",
    "flex_y_covariables = smf.ols(formula = flex_y, data = data)\n",
    "\n",
    "#fit hte model and predict the value of the outcome\n",
    "Y_lasso_fitted = lasso_model.fit( flex_y_covariables.exog, data[[ 'lwage' ]] ).predict( flex_y_covariables.exog )\n",
    "\n",
    "#save the residuals\n",
    "t_Y = data[[ 'lwage' ]] -  Y_lasso_fitted.reshape( Y_lasso_fitted.size, 1) "
   ]
  },
  {
   "cell_type": "code",
   "execution_count": 69,
   "id": "96dbb242",
   "metadata": {},
   "outputs": [],
   "source": [
    "# extraflex_d\n",
    "\n",
    "#extract the covariable to use\n",
    "flex_d_covariables = smf.ols( flex_d, data=data)\n",
    "\n",
    "#fit hte model and predict the value of the outcome\n",
    "D_lasso_fitted = lasso_model.fit( flex_d_covariables.exog, data[[ 'sex' ]] ).predict( flex_d_covariables.exog )\n",
    "\n",
    "#save the residuals\n",
    "t_D = data[[ 'sex' ]] - D_lasso_fitted.reshape( D_lasso_fitted.size, 1)"
   ]
  },
  {
   "cell_type": "code",
   "execution_count": 70,
   "id": "d59bbb21",
   "metadata": {},
   "outputs": [
    {
     "name": "stdout",
     "output_type": "stream",
     "text": [
      "Coefficient for D via partialling-out using lasso -0.1139320522136372\n"
     ]
    }
   ],
   "source": [
    "#create a data frame with the residuals of both the regressions\n",
    "data_res = pd.DataFrame( np.hstack(( t_Y , t_D )) , columns = [ 't_Y', 't_D' ] )\n",
    "\n",
    "# regression of the residuals Y on D after partialling-out the effect of W\n",
    "partial_lasso_fit = smf.ols( formula = 't_Y ~ t_D' , data = data_res ).fit()\n",
    "partial_lasso_est = partial_lasso_fit.summary2().tables[1]['Coef.']['t_D']\n",
    "\n",
    "print( f\"Coefficient for D via partialling-out using lasso {partial_lasso_est}\" )\n",
    "\n",
    "# standard error\n",
    "HCV_coefs = partial_lasso_fit.cov_HC0\n",
    "partial_lasso_se = np.power( HCV_coefs.diagonal() , 0.5)[1]"
   ]
  },
  {
   "cell_type": "markdown",
   "id": "d96bdde8",
   "metadata": {},
   "source": [
    "The use of the lasso for partialling-out the basic regressions shows us that the gender gap is of $11.4\\%$ , which is different from the $7\\%$ gap found int the basic regression using OLS but pretty similar to the $ found on the basic regression model with partialling-out. Above the possible reasons already mentioned, in this flexible model we have more regressors but also controlled by the penalty value ."
   ]
  }
 ],
 "metadata": {
  "kernelspec": {
   "display_name": "Python 3 (ipykernel)",
   "language": "python",
   "name": "python3"
  },
  "language_info": {
   "codemirror_mode": {
    "name": "ipython",
    "version": 3
   },
   "file_extension": ".py",
   "mimetype": "text/x-python",
   "name": "python",
   "nbconvert_exporter": "python",
   "pygments_lexer": "ipython3",
   "version": "3.9.12"
  }
 },
 "nbformat": 4,
 "nbformat_minor": 5
}
