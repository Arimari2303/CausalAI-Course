{
 "cells": [
  {
   "cell_type": "markdown",
   "id": "6225b2e4",
   "metadata": {},
   "source": [
    "## 1.0The Bootstrap\n",
    "\n",
    "In this lab, we analyze the Pennsylvania re-employment bonus experiment, which was previously studied in \"Sequential testing of duration data: the case of the Pennsylvania ‘reemployment bonus’ experiment\" (Bilias, 2000), among others. These experiments were conducted in the 1980s by the U.S. Department of Labor to test the incentive effects of alternative compensation schemes for unemployment insurance (UI). In these experiments, UI claimants were randomly assigned either to a control group or one of five treatment groups. Actually, there are six treatment groups in the experiments. Here we focus on treatment group 4, but feel free to explore other treatment groups. In the control group the current rules of the UI applied. Individuals in the treatment groups were offered a cash bonus if they found a job within some pre-specified period of time (qualification period), provided that the job was retained for a specified duration. The treatments differed in the level of the bonus, the length of the qualification period, and whether the bonus was declining over time in the qualification period; see http://qed.econ.queensu.ca/jae/2000-v15.6/bilias/readme.b.txt for further details on data."
   ]
  },
  {
   "cell_type": "code",
   "execution_count": 25,
   "id": "fe24058e",
   "metadata": {
    "scrolled": true
   },
   "outputs": [],
   "source": [
    "using LinearAlgebra, GLM, DataFrames, Statistics, Random, Distributions, \n",
    "DataStructures, NamedArrays, PrettyTables, StatsModels, Combinatorics, CSV, RData \n",
    "\n",
    "import CodecBzip2\n",
    "using FilePaths"
   ]
  },
  {
   "cell_type": "code",
   "execution_count": 26,
   "id": "5fce5560",
   "metadata": {},
   "outputs": [],
   "source": [
    "using GLM, StatsModels\n",
    "using DataTables\n",
    "using DelimitedFiles, DataFrames, Lasso\n",
    "using FilePaths\n",
    "using StatsModels, Combinatorics\n",
    "using CategoricalArrays\n",
    "using StatsBase, Statistics\n",
    "using TypedTables\n",
    "using MacroTools\n",
    "using NamedArrays\n",
    "using PrettyTables # Dataframe or Datatable to latex\n",
    "using TexTables # pretty regression table and tex outcome"
   ]
  },
  {
   "cell_type": "code",
   "execution_count": 37,
   "id": "6b2067c8",
   "metadata": {},
   "outputs": [
    {
     "data": {
      "text/plain": [
       "5099"
      ]
     },
     "execution_count": 37,
     "metadata": {},
     "output_type": "execute_result"
    }
   ],
   "source": [
    "# Loading data\n",
    "\n",
    "mat, head = readdlm(\"../../../data/penn_jae.dat\", header=true, Float64)\n",
    "mat\n",
    "df =DataFrame(mat, vec(head))\n",
    "describe(df)\n",
    "\n",
    "#dimenntions of dataframe \n",
    "\n",
    "a = size(df,1)\n",
    "b =  size(df,2)\n",
    "\n",
    "# Filter control group and just treatment group number 4\n",
    "\n",
    "penn = filter(row -> row[:tg] in [4,0], df)\n",
    "\n",
    "# Treatment group n°4\n",
    "replace!(penn.tg, 4 => 1)\n",
    "\n",
    "rename!(penn, \"tg\" => \"T4\")\n",
    "\n",
    "\n",
    "# from float to string\n",
    "penn[!,:dep] = string.(penn[!,:dep]) \n",
    "\n",
    "# dep varaible in categorical format \n",
    "penn[!,:dep] = categorical(penn[!,:dep])\n",
    "\n",
    "describe(penn)# Importing .Rdata file\n",
    "\n",
    "n = size(penn)[1]"
   ]
  },
  {
   "cell_type": "code",
   "execution_count": 43,
   "id": "90707e18",
   "metadata": {},
   "outputs": [
    {
     "data": {
      "text/plain": [
       "boot_fn (generic function with 1 method)"
      ]
     },
     "execution_count": 43,
     "metadata": {},
     "output_type": "execute_result"
    }
   ],
   "source": [
    "function boot_fn(data,index)\n",
    "            ols_1 = lm(@formula(log(inuidur1) ~ T4 + female+black+othrace+dep+q2+q3+q4+q5+q6+agelt35+agegt54+durable+lusd+husd), data[index,:])\n",
    "            intercept = GLM.coeftable(ols_1).cols[1][1]\n",
    "            coef_1 = GLM.coeftable(ols_1).cols[1][2]\n",
    "            coef_2 = GLM.coeftable(ols_1).cols[1][3]\n",
    "            coef_3 = GLM.coeftable(ols_1).cols[1][4]\n",
    "            return [intercept, coef_1, coef_2, coef_3]\n",
    "end"
   ]
  },
  {
   "cell_type": "code",
   "execution_count": 46,
   "id": "54805ee3",
   "metadata": {},
   "outputs": [
    {
     "data": {
      "text/plain": [
       "boot_2 (generic function with 1 method)"
      ]
     },
     "execution_count": 46,
     "metadata": {},
     "output_type": "execute_result"
    }
   ],
   "source": [
    "function boot_2(data,func,R)\n",
    "            intercept = []\n",
    "            coeff_1 = []\n",
    "            coeff_2 = []\n",
    "            coeff_3 = []\n",
    "    \n",
    "            for i in 1:R\n",
    "                append!(intercept,func(data,sample([1:n;], n, replace = true))[1])\n",
    "                append!(coeff_1,func(data,sample([1:n;], n, replace = true))[2])\n",
    "                append!(coeff_2,func(data,sample([1:n;], n, replace = true))[3])\n",
    "                append!(coeff_3,func(data,sample([1:n;], n, replace = true))[4])\n",
    "            end\n",
    "    \n",
    "        table = NamedArray(zeros(3, 3))\n",
    "\n",
    "        #table[1,2] = mean(intercept)\n",
    "        #table[1,3] = std(intercept, corrected=true)\n",
    "        table[1,2] = mean(coeff_1)\n",
    "        table[1,3] = std(coeff_1, corrected=true)\n",
    "        table[2,2] = mean(coeff_2)\n",
    "        table[2,3] = std(coeff_2, corrected=true)\n",
    "        table[3,2] = mean(coeff_3)\n",
    "        table[3,3] = std(coeff_3, corrected=true)\n",
    "        T = DataFrame(table, [ :\"Variable\", :\"Coefficient (boostrap)\", :\"Standar error (boostrap)\"]) \n",
    "        T[!,:Variable] = string.(T[!,:Variable]) \n",
    "\n",
    "        T[1,1] = \"T4\"\n",
    "        T[2,1] = \"Female\"\n",
    "        T[3,1] = \"Black\"\n",
    "\n",
    "        \n",
    "        bootstrap_statistics = Dict{String,Any}(\"Table\" => T)\n",
    "    return bootstrap_statistics\n",
    "end"
   ]
  },
  {
   "cell_type": "code",
   "execution_count": 47,
   "id": "59eb30f0",
   "metadata": {},
   "outputs": [
    {
     "data": {
      "text/html": [
       "<div class=\"data-frame\"><p>3 rows × 3 columns</p><table class=\"data-frame\"><thead><tr><th></th><th>Variable</th><th>Coefficient (boostrap)</th><th>Standar error (boostrap)</th></tr><tr><th></th><th title=\"String\">String</th><th title=\"Float64\">Float64</th><th title=\"Float64\">Float64</th></tr></thead><tbody><tr><th>1</th><td>T4</td><td>-0.0732922</td><td>0.0355541</td></tr><tr><th>2</th><td>Female</td><td>0.124125</td><td>0.034041</td></tr><tr><th>3</th><td>Black</td><td>-0.292912</td><td>0.0576301</td></tr></tbody></table></div>"
      ],
      "text/latex": [
       "\\begin{tabular}{r|ccc}\n",
       "\t& Variable & Coefficient (boostrap) & Standar error (boostrap)\\\\\n",
       "\t\\hline\n",
       "\t& String & Float64 & Float64\\\\\n",
       "\t\\hline\n",
       "\t1 & T4 & -0.0732922 & 0.0355541 \\\\\n",
       "\t2 & Female & 0.124125 & 0.034041 \\\\\n",
       "\t3 & Black & -0.292912 & 0.0576301 \\\\\n",
       "\\end{tabular}\n"
      ],
      "text/plain": [
       "\u001b[1m3×3 DataFrame\u001b[0m\n",
       "\u001b[1m Row \u001b[0m│\u001b[1m Variable \u001b[0m\u001b[1m Coefficient (boostrap) \u001b[0m\u001b[1m Standar error (boostrap) \u001b[0m\n",
       "\u001b[1m     \u001b[0m│\u001b[90m String   \u001b[0m\u001b[90m Float64                \u001b[0m\u001b[90m Float64                  \u001b[0m\n",
       "─────┼────────────────────────────────────────────────────────────\n",
       "   1 │ T4                    -0.0732922                 0.0355541\n",
       "   2 │ Female                 0.124125                  0.034041\n",
       "   3 │ Black                 -0.292912                  0.0576301"
      ]
     },
     "execution_count": 47,
     "metadata": {},
     "output_type": "execute_result"
    }
   ],
   "source": [
    "boot_2(penn,boot_fn,1000)[\"Table\"]"
   ]
  },
  {
   "cell_type": "markdown",
   "id": "2017a6ba",
   "metadata": {},
   "source": [
    "## 2.0 Comparative model"
   ]
  },
  {
   "cell_type": "code",
   "execution_count": 48,
   "id": "57dbd44c",
   "metadata": {},
   "outputs": [
    {
     "data": {
      "text/html": [
       "<div class=\"data-frame\"><p>29,217 rows × 23 columns (omitted printing of 15 columns)</p><table class=\"data-frame\"><thead><tr><th></th><th>year</th><th>lnw</th><th>female</th><th>widowed</th><th>divorced</th><th>separated</th><th>nevermarried</th><th>hsd08</th></tr><tr><th></th><th title=\"Float64\">Float64</th><th title=\"Float64\">Float64</th><th title=\"Float64\">Float64</th><th title=\"Float64\">Float64</th><th title=\"Float64\">Float64</th><th title=\"Float64\">Float64</th><th title=\"Float64\">Float64</th><th title=\"Float64\">Float64</th></tr></thead><tbody><tr><th>1</th><td>2012.0</td><td>1.90954</td><td>1.0</td><td>0.0</td><td>0.0</td><td>0.0</td><td>0.0</td><td>0.0</td></tr><tr><th>2</th><td>2012.0</td><td>1.36577</td><td>1.0</td><td>0.0</td><td>0.0</td><td>0.0</td><td>0.0</td><td>0.0</td></tr><tr><th>3</th><td>2012.0</td><td>2.54022</td><td>0.0</td><td>0.0</td><td>0.0</td><td>0.0</td><td>0.0</td><td>0.0</td></tr><tr><th>4</th><td>2012.0</td><td>1.80109</td><td>1.0</td><td>0.0</td><td>0.0</td><td>0.0</td><td>0.0</td><td>0.0</td></tr><tr><th>5</th><td>2012.0</td><td>3.3499</td><td>0.0</td><td>0.0</td><td>0.0</td><td>0.0</td><td>0.0</td><td>0.0</td></tr><tr><th>6</th><td>2012.0</td><td>2.00283</td><td>0.0</td><td>0.0</td><td>0.0</td><td>0.0</td><td>0.0</td><td>0.0</td></tr><tr><th>7</th><td>2012.0</td><td>2.45609</td><td>0.0</td><td>0.0</td><td>0.0</td><td>0.0</td><td>1.0</td><td>0.0</td></tr><tr><th>8</th><td>2012.0</td><td>3.57305</td><td>0.0</td><td>0.0</td><td>0.0</td><td>0.0</td><td>0.0</td><td>0.0</td></tr><tr><th>9</th><td>2012.0</td><td>2.51366</td><td>0.0</td><td>0.0</td><td>0.0</td><td>0.0</td><td>0.0</td><td>0.0</td></tr><tr><th>10</th><td>2012.0</td><td>0.289633</td><td>1.0</td><td>0.0</td><td>0.0</td><td>0.0</td><td>0.0</td><td>0.0</td></tr><tr><th>11</th><td>2012.0</td><td>2.49424</td><td>0.0</td><td>0.0</td><td>0.0</td><td>0.0</td><td>0.0</td><td>0.0</td></tr><tr><th>12</th><td>2012.0</td><td>3.31116</td><td>1.0</td><td>0.0</td><td>0.0</td><td>0.0</td><td>0.0</td><td>0.0</td></tr><tr><th>13</th><td>2012.0</td><td>2.57819</td><td>0.0</td><td>0.0</td><td>0.0</td><td>0.0</td><td>0.0</td><td>0.0</td></tr><tr><th>14</th><td>2012.0</td><td>2.5514</td><td>0.0</td><td>0.0</td><td>0.0</td><td>0.0</td><td>1.0</td><td>0.0</td></tr><tr><th>15</th><td>2012.0</td><td>3.14226</td><td>1.0</td><td>0.0</td><td>1.0</td><td>0.0</td><td>0.0</td><td>0.0</td></tr><tr><th>16</th><td>2012.0</td><td>1.75389</td><td>0.0</td><td>0.0</td><td>0.0</td><td>0.0</td><td>1.0</td><td>0.0</td></tr><tr><th>17</th><td>2012.0</td><td>2.05892</td><td>0.0</td><td>0.0</td><td>0.0</td><td>0.0</td><td>0.0</td><td>0.0</td></tr><tr><th>18</th><td>2012.0</td><td>2.52323</td><td>0.0</td><td>0.0</td><td>0.0</td><td>0.0</td><td>1.0</td><td>0.0</td></tr><tr><th>19</th><td>2012.0</td><td>2.42792</td><td>0.0</td><td>0.0</td><td>0.0</td><td>0.0</td><td>0.0</td><td>0.0</td></tr><tr><th>20</th><td>2012.0</td><td>2.91912</td><td>1.0</td><td>0.0</td><td>0.0</td><td>0.0</td><td>1.0</td><td>0.0</td></tr><tr><th>21</th><td>2012.0</td><td>2.43361</td><td>0.0</td><td>0.0</td><td>0.0</td><td>0.0</td><td>0.0</td><td>0.0</td></tr><tr><th>22</th><td>2012.0</td><td>2.65676</td><td>1.0</td><td>0.0</td><td>0.0</td><td>0.0</td><td>0.0</td><td>0.0</td></tr><tr><th>23</th><td>2012.0</td><td>2.82039</td><td>0.0</td><td>0.0</td><td>0.0</td><td>0.0</td><td>0.0</td><td>0.0</td></tr><tr><th>24</th><td>2012.0</td><td>2.43361</td><td>0.0</td><td>0.0</td><td>0.0</td><td>0.0</td><td>1.0</td><td>0.0</td></tr><tr><th>25</th><td>2012.0</td><td>2.05094</td><td>1.0</td><td>0.0</td><td>0.0</td><td>0.0</td><td>1.0</td><td>0.0</td></tr><tr><th>26</th><td>2012.0</td><td>3.37343</td><td>0.0</td><td>0.0</td><td>0.0</td><td>0.0</td><td>0.0</td><td>0.0</td></tr><tr><th>27</th><td>2012.0</td><td>3.00506</td><td>0.0</td><td>0.0</td><td>0.0</td><td>0.0</td><td>0.0</td><td>0.0</td></tr><tr><th>28</th><td>2012.0</td><td>2.23294</td><td>1.0</td><td>0.0</td><td>0.0</td><td>0.0</td><td>0.0</td><td>0.0</td></tr><tr><th>29</th><td>2012.0</td><td>2.52323</td><td>1.0</td><td>0.0</td><td>0.0</td><td>0.0</td><td>0.0</td><td>0.0</td></tr><tr><th>30</th><td>2012.0</td><td>2.49424</td><td>0.0</td><td>0.0</td><td>0.0</td><td>0.0</td><td>0.0</td><td>0.0</td></tr><tr><th>&vellip;</th><td>&vellip;</td><td>&vellip;</td><td>&vellip;</td><td>&vellip;</td><td>&vellip;</td><td>&vellip;</td><td>&vellip;</td><td>&vellip;</td></tr></tbody></table></div>"
      ],
      "text/latex": [
       "\\begin{tabular}{r|ccccccccc}\n",
       "\t& year & lnw & female & widowed & divorced & separated & nevermarried & hsd08 & \\\\\n",
       "\t\\hline\n",
       "\t& Float64 & Float64 & Float64 & Float64 & Float64 & Float64 & Float64 & Float64 & \\\\\n",
       "\t\\hline\n",
       "\t1 & 2012.0 & 1.90954 & 1.0 & 0.0 & 0.0 & 0.0 & 0.0 & 0.0 & $\\dots$ \\\\\n",
       "\t2 & 2012.0 & 1.36577 & 1.0 & 0.0 & 0.0 & 0.0 & 0.0 & 0.0 & $\\dots$ \\\\\n",
       "\t3 & 2012.0 & 2.54022 & 0.0 & 0.0 & 0.0 & 0.0 & 0.0 & 0.0 & $\\dots$ \\\\\n",
       "\t4 & 2012.0 & 1.80109 & 1.0 & 0.0 & 0.0 & 0.0 & 0.0 & 0.0 & $\\dots$ \\\\\n",
       "\t5 & 2012.0 & 3.3499 & 0.0 & 0.0 & 0.0 & 0.0 & 0.0 & 0.0 & $\\dots$ \\\\\n",
       "\t6 & 2012.0 & 2.00283 & 0.0 & 0.0 & 0.0 & 0.0 & 0.0 & 0.0 & $\\dots$ \\\\\n",
       "\t7 & 2012.0 & 2.45609 & 0.0 & 0.0 & 0.0 & 0.0 & 1.0 & 0.0 & $\\dots$ \\\\\n",
       "\t8 & 2012.0 & 3.57305 & 0.0 & 0.0 & 0.0 & 0.0 & 0.0 & 0.0 & $\\dots$ \\\\\n",
       "\t9 & 2012.0 & 2.51366 & 0.0 & 0.0 & 0.0 & 0.0 & 0.0 & 0.0 & $\\dots$ \\\\\n",
       "\t10 & 2012.0 & 0.289633 & 1.0 & 0.0 & 0.0 & 0.0 & 0.0 & 0.0 & $\\dots$ \\\\\n",
       "\t11 & 2012.0 & 2.49424 & 0.0 & 0.0 & 0.0 & 0.0 & 0.0 & 0.0 & $\\dots$ \\\\\n",
       "\t12 & 2012.0 & 3.31116 & 1.0 & 0.0 & 0.0 & 0.0 & 0.0 & 0.0 & $\\dots$ \\\\\n",
       "\t13 & 2012.0 & 2.57819 & 0.0 & 0.0 & 0.0 & 0.0 & 0.0 & 0.0 & $\\dots$ \\\\\n",
       "\t14 & 2012.0 & 2.5514 & 0.0 & 0.0 & 0.0 & 0.0 & 1.0 & 0.0 & $\\dots$ \\\\\n",
       "\t15 & 2012.0 & 3.14226 & 1.0 & 0.0 & 1.0 & 0.0 & 0.0 & 0.0 & $\\dots$ \\\\\n",
       "\t16 & 2012.0 & 1.75389 & 0.0 & 0.0 & 0.0 & 0.0 & 1.0 & 0.0 & $\\dots$ \\\\\n",
       "\t17 & 2012.0 & 2.05892 & 0.0 & 0.0 & 0.0 & 0.0 & 0.0 & 0.0 & $\\dots$ \\\\\n",
       "\t18 & 2012.0 & 2.52323 & 0.0 & 0.0 & 0.0 & 0.0 & 1.0 & 0.0 & $\\dots$ \\\\\n",
       "\t19 & 2012.0 & 2.42792 & 0.0 & 0.0 & 0.0 & 0.0 & 0.0 & 0.0 & $\\dots$ \\\\\n",
       "\t20 & 2012.0 & 2.91912 & 1.0 & 0.0 & 0.0 & 0.0 & 1.0 & 0.0 & $\\dots$ \\\\\n",
       "\t21 & 2012.0 & 2.43361 & 0.0 & 0.0 & 0.0 & 0.0 & 0.0 & 0.0 & $\\dots$ \\\\\n",
       "\t22 & 2012.0 & 2.65676 & 1.0 & 0.0 & 0.0 & 0.0 & 0.0 & 0.0 & $\\dots$ \\\\\n",
       "\t23 & 2012.0 & 2.82039 & 0.0 & 0.0 & 0.0 & 0.0 & 0.0 & 0.0 & $\\dots$ \\\\\n",
       "\t24 & 2012.0 & 2.43361 & 0.0 & 0.0 & 0.0 & 0.0 & 1.0 & 0.0 & $\\dots$ \\\\\n",
       "\t25 & 2012.0 & 2.05094 & 1.0 & 0.0 & 0.0 & 0.0 & 1.0 & 0.0 & $\\dots$ \\\\\n",
       "\t26 & 2012.0 & 3.37343 & 0.0 & 0.0 & 0.0 & 0.0 & 0.0 & 0.0 & $\\dots$ \\\\\n",
       "\t27 & 2012.0 & 3.00506 & 0.0 & 0.0 & 0.0 & 0.0 & 0.0 & 0.0 & $\\dots$ \\\\\n",
       "\t28 & 2012.0 & 2.23294 & 1.0 & 0.0 & 0.0 & 0.0 & 0.0 & 0.0 & $\\dots$ \\\\\n",
       "\t29 & 2012.0 & 2.52323 & 1.0 & 0.0 & 0.0 & 0.0 & 0.0 & 0.0 & $\\dots$ \\\\\n",
       "\t30 & 2012.0 & 2.49424 & 0.0 & 0.0 & 0.0 & 0.0 & 0.0 & 0.0 & $\\dots$ \\\\\n",
       "\t$\\dots$ & $\\dots$ & $\\dots$ & $\\dots$ & $\\dots$ & $\\dots$ & $\\dots$ & $\\dots$ & $\\dots$ &  \\\\\n",
       "\\end{tabular}\n"
      ],
      "text/plain": [
       "\u001b[1m29217×23 DataFrame\u001b[0m\n",
       "\u001b[1m   Row \u001b[0m│\u001b[1m year    \u001b[0m\u001b[1m lnw      \u001b[0m\u001b[1m female  \u001b[0m\u001b[1m widowed \u001b[0m\u001b[1m divorced \u001b[0m\u001b[1m separated \u001b[0m\u001b[1m nevermarrie\u001b[0m ⋯\n",
       "\u001b[1m       \u001b[0m│\u001b[90m Float64 \u001b[0m\u001b[90m Float64  \u001b[0m\u001b[90m Float64 \u001b[0m\u001b[90m Float64 \u001b[0m\u001b[90m Float64  \u001b[0m\u001b[90m Float64   \u001b[0m\u001b[90m Float64    \u001b[0m ⋯\n",
       "───────┼────────────────────────────────────────────────────────────────────────\n",
       "     1 │  2012.0  1.90954       1.0      0.0       0.0        0.0           0. ⋯\n",
       "     2 │  2012.0  1.36577       1.0      0.0       0.0        0.0           0.\n",
       "     3 │  2012.0  2.54022       0.0      0.0       0.0        0.0           0.\n",
       "     4 │  2012.0  1.80109       1.0      0.0       0.0        0.0           0.\n",
       "     5 │  2012.0  3.3499        0.0      0.0       0.0        0.0           0. ⋯\n",
       "     6 │  2012.0  2.00283       0.0      0.0       0.0        0.0           0.\n",
       "     7 │  2012.0  2.45609       0.0      0.0       0.0        0.0           1.\n",
       "     8 │  2012.0  3.57305       0.0      0.0       0.0        0.0           0.\n",
       "     9 │  2012.0  2.51366       0.0      0.0       0.0        0.0           0. ⋯\n",
       "    10 │  2012.0  0.289633      1.0      0.0       0.0        0.0           0.\n",
       "    11 │  2012.0  2.49424       0.0      0.0       0.0        0.0           0.\n",
       "   ⋮   │    ⋮        ⋮         ⋮        ⋮        ⋮          ⋮           ⋮      ⋱\n",
       " 29208 │  2012.0  2.91912       1.0      0.0       0.0        0.0           1.\n",
       " 29209 │  2012.0  2.5514        1.0      0.0       0.0        0.0           1. ⋯\n",
       " 29210 │  2012.0  3.28537       0.0      0.0       0.0        0.0           0.\n",
       " 29211 │  2012.0  3.3746        0.0      0.0       0.0        0.0           0.\n",
       " 29212 │  2012.0  2.70555       1.0      0.0       0.0        0.0           0.\n",
       " 29213 │  2012.0  3.97851       0.0      0.0       0.0        0.0           1. ⋯\n",
       " 29214 │  2012.0  3.14226       1.0      0.0       0.0        0.0           1.\n",
       " 29215 │  2012.0  2.72562       1.0      0.0       0.0        0.0           0.\n",
       " 29216 │  2012.0  3.14226       0.0      0.0       0.0        0.0           0.\n",
       " 29217 │  2012.0  2.43361       1.0      0.0       0.0        0.0           0. ⋯\n",
       "\u001b[36m                                               17 columns and 29196 rows omitted\u001b[0m"
      ]
     },
     "execution_count": 48,
     "metadata": {},
     "output_type": "execute_result"
    }
   ],
   "source": [
    "cps2012 = load(\"../../../data/cps2012.RData\")\n",
    "data = cps2012[\"data\"]"
   ]
  },
  {
   "cell_type": "code",
   "execution_count": 49,
   "id": "fc87b3a4",
   "metadata": {},
   "outputs": [
    {
     "data": {
      "text/plain": [
       "TaskLocalRNG()"
      ]
     },
     "execution_count": 49,
     "metadata": {},
     "output_type": "execute_result"
    }
   ],
   "source": [
    "Random.seed!(1234)"
   ]
  },
  {
   "cell_type": "code",
   "execution_count": 50,
   "id": "05ca9684",
   "metadata": {},
   "outputs": [
    {
     "data": {
      "text/html": [
       "<div class=\"data-frame\"><p>7,305 rows × 23 columns (omitted printing of 15 columns)</p><table class=\"data-frame\"><thead><tr><th></th><th>year</th><th>lnw</th><th>female</th><th>widowed</th><th>divorced</th><th>separated</th><th>nevermarried</th><th>hsd08</th></tr><tr><th></th><th title=\"Float64\">Float64</th><th title=\"Float64\">Float64</th><th title=\"Float64\">Float64</th><th title=\"Float64\">Float64</th><th title=\"Float64\">Float64</th><th title=\"Float64\">Float64</th><th title=\"Float64\">Float64</th><th title=\"Float64\">Float64</th></tr></thead><tbody><tr><th>1</th><td>2012.0</td><td>1.90954</td><td>1.0</td><td>0.0</td><td>0.0</td><td>0.0</td><td>0.0</td><td>0.0</td></tr><tr><th>2</th><td>2012.0</td><td>2.00283</td><td>0.0</td><td>0.0</td><td>0.0</td><td>0.0</td><td>0.0</td><td>0.0</td></tr><tr><th>3</th><td>2012.0</td><td>0.289633</td><td>1.0</td><td>0.0</td><td>0.0</td><td>0.0</td><td>0.0</td><td>0.0</td></tr><tr><th>4</th><td>2012.0</td><td>3.14226</td><td>1.0</td><td>0.0</td><td>1.0</td><td>0.0</td><td>0.0</td><td>0.0</td></tr><tr><th>5</th><td>2012.0</td><td>1.75389</td><td>0.0</td><td>0.0</td><td>0.0</td><td>0.0</td><td>1.0</td><td>0.0</td></tr><tr><th>6</th><td>2012.0</td><td>2.05892</td><td>0.0</td><td>0.0</td><td>0.0</td><td>0.0</td><td>0.0</td><td>0.0</td></tr><tr><th>7</th><td>2012.0</td><td>2.42792</td><td>0.0</td><td>0.0</td><td>0.0</td><td>0.0</td><td>0.0</td><td>0.0</td></tr><tr><th>8</th><td>2012.0</td><td>3.37343</td><td>0.0</td><td>0.0</td><td>0.0</td><td>0.0</td><td>0.0</td><td>0.0</td></tr><tr><th>9</th><td>2012.0</td><td>2.52323</td><td>1.0</td><td>0.0</td><td>0.0</td><td>0.0</td><td>0.0</td><td>0.0</td></tr><tr><th>10</th><td>2012.0</td><td>1.8693</td><td>1.0</td><td>0.0</td><td>0.0</td><td>0.0</td><td>0.0</td><td>0.0</td></tr><tr><th>11</th><td>2012.0</td><td>2.43361</td><td>0.0</td><td>0.0</td><td>0.0</td><td>0.0</td><td>0.0</td><td>0.0</td></tr><tr><th>12</th><td>2012.0</td><td>2.70555</td><td>0.0</td><td>0.0</td><td>0.0</td><td>0.0</td><td>0.0</td><td>0.0</td></tr><tr><th>13</th><td>2012.0</td><td>2.43361</td><td>0.0</td><td>0.0</td><td>0.0</td><td>0.0</td><td>0.0</td><td>0.0</td></tr><tr><th>14</th><td>2012.0</td><td>1.69666</td><td>0.0</td><td>0.0</td><td>0.0</td><td>0.0</td><td>1.0</td><td>0.0</td></tr><tr><th>15</th><td>2012.0</td><td>2.26371</td><td>1.0</td><td>0.0</td><td>1.0</td><td>0.0</td><td>0.0</td><td>0.0</td></tr><tr><th>16</th><td>2012.0</td><td>2.78779</td><td>1.0</td><td>0.0</td><td>0.0</td><td>0.0</td><td>0.0</td><td>0.0</td></tr><tr><th>17</th><td>2012.0</td><td>2.65676</td><td>1.0</td><td>0.0</td><td>0.0</td><td>0.0</td><td>0.0</td><td>0.0</td></tr><tr><th>18</th><td>2012.0</td><td>2.83111</td><td>0.0</td><td>0.0</td><td>0.0</td><td>0.0</td><td>0.0</td><td>0.0</td></tr><tr><th>19</th><td>2012.0</td><td>2.05892</td><td>1.0</td><td>0.0</td><td>0.0</td><td>0.0</td><td>0.0</td><td>0.0</td></tr><tr><th>20</th><td>2012.0</td><td>2.97521</td><td>1.0</td><td>0.0</td><td>0.0</td><td>0.0</td><td>1.0</td><td>0.0</td></tr><tr><th>21</th><td>2012.0</td><td>2.1829</td><td>1.0</td><td>0.0</td><td>0.0</td><td>0.0</td><td>1.0</td><td>0.0</td></tr><tr><th>22</th><td>2012.0</td><td>3.4189</td><td>0.0</td><td>0.0</td><td>0.0</td><td>0.0</td><td>0.0</td><td>0.0</td></tr><tr><th>23</th><td>2012.0</td><td>2.83908</td><td>0.0</td><td>0.0</td><td>0.0</td><td>0.0</td><td>1.0</td><td>0.0</td></tr><tr><th>24</th><td>2012.0</td><td>2.95686</td><td>0.0</td><td>0.0</td><td>0.0</td><td>0.0</td><td>0.0</td><td>0.0</td></tr><tr><th>25</th><td>2012.0</td><td>2.87545</td><td>1.0</td><td>0.0</td><td>0.0</td><td>0.0</td><td>1.0</td><td>0.0</td></tr><tr><th>26</th><td>2012.0</td><td>2.53897</td><td>0.0</td><td>0.0</td><td>0.0</td><td>0.0</td><td>0.0</td><td>0.0</td></tr><tr><th>27</th><td>2012.0</td><td>2.36907</td><td>1.0</td><td>0.0</td><td>0.0</td><td>0.0</td><td>1.0</td><td>0.0</td></tr><tr><th>28</th><td>2012.0</td><td>1.96361</td><td>1.0</td><td>0.0</td><td>0.0</td><td>0.0</td><td>0.0</td><td>0.0</td></tr><tr><th>29</th><td>2012.0</td><td>2.65676</td><td>0.0</td><td>0.0</td><td>0.0</td><td>0.0</td><td>0.0</td><td>0.0</td></tr><tr><th>30</th><td>2012.0</td><td>2.36907</td><td>0.0</td><td>0.0</td><td>0.0</td><td>0.0</td><td>1.0</td><td>0.0</td></tr><tr><th>&vellip;</th><td>&vellip;</td><td>&vellip;</td><td>&vellip;</td><td>&vellip;</td><td>&vellip;</td><td>&vellip;</td><td>&vellip;</td><td>&vellip;</td></tr></tbody></table></div>"
      ],
      "text/latex": [
       "\\begin{tabular}{r|ccccccccc}\n",
       "\t& year & lnw & female & widowed & divorced & separated & nevermarried & hsd08 & \\\\\n",
       "\t\\hline\n",
       "\t& Float64 & Float64 & Float64 & Float64 & Float64 & Float64 & Float64 & Float64 & \\\\\n",
       "\t\\hline\n",
       "\t1 & 2012.0 & 1.90954 & 1.0 & 0.0 & 0.0 & 0.0 & 0.0 & 0.0 & $\\dots$ \\\\\n",
       "\t2 & 2012.0 & 2.00283 & 0.0 & 0.0 & 0.0 & 0.0 & 0.0 & 0.0 & $\\dots$ \\\\\n",
       "\t3 & 2012.0 & 0.289633 & 1.0 & 0.0 & 0.0 & 0.0 & 0.0 & 0.0 & $\\dots$ \\\\\n",
       "\t4 & 2012.0 & 3.14226 & 1.0 & 0.0 & 1.0 & 0.0 & 0.0 & 0.0 & $\\dots$ \\\\\n",
       "\t5 & 2012.0 & 1.75389 & 0.0 & 0.0 & 0.0 & 0.0 & 1.0 & 0.0 & $\\dots$ \\\\\n",
       "\t6 & 2012.0 & 2.05892 & 0.0 & 0.0 & 0.0 & 0.0 & 0.0 & 0.0 & $\\dots$ \\\\\n",
       "\t7 & 2012.0 & 2.42792 & 0.0 & 0.0 & 0.0 & 0.0 & 0.0 & 0.0 & $\\dots$ \\\\\n",
       "\t8 & 2012.0 & 3.37343 & 0.0 & 0.0 & 0.0 & 0.0 & 0.0 & 0.0 & $\\dots$ \\\\\n",
       "\t9 & 2012.0 & 2.52323 & 1.0 & 0.0 & 0.0 & 0.0 & 0.0 & 0.0 & $\\dots$ \\\\\n",
       "\t10 & 2012.0 & 1.8693 & 1.0 & 0.0 & 0.0 & 0.0 & 0.0 & 0.0 & $\\dots$ \\\\\n",
       "\t11 & 2012.0 & 2.43361 & 0.0 & 0.0 & 0.0 & 0.0 & 0.0 & 0.0 & $\\dots$ \\\\\n",
       "\t12 & 2012.0 & 2.70555 & 0.0 & 0.0 & 0.0 & 0.0 & 0.0 & 0.0 & $\\dots$ \\\\\n",
       "\t13 & 2012.0 & 2.43361 & 0.0 & 0.0 & 0.0 & 0.0 & 0.0 & 0.0 & $\\dots$ \\\\\n",
       "\t14 & 2012.0 & 1.69666 & 0.0 & 0.0 & 0.0 & 0.0 & 1.0 & 0.0 & $\\dots$ \\\\\n",
       "\t15 & 2012.0 & 2.26371 & 1.0 & 0.0 & 1.0 & 0.0 & 0.0 & 0.0 & $\\dots$ \\\\\n",
       "\t16 & 2012.0 & 2.78779 & 1.0 & 0.0 & 0.0 & 0.0 & 0.0 & 0.0 & $\\dots$ \\\\\n",
       "\t17 & 2012.0 & 2.65676 & 1.0 & 0.0 & 0.0 & 0.0 & 0.0 & 0.0 & $\\dots$ \\\\\n",
       "\t18 & 2012.0 & 2.83111 & 0.0 & 0.0 & 0.0 & 0.0 & 0.0 & 0.0 & $\\dots$ \\\\\n",
       "\t19 & 2012.0 & 2.05892 & 1.0 & 0.0 & 0.0 & 0.0 & 0.0 & 0.0 & $\\dots$ \\\\\n",
       "\t20 & 2012.0 & 2.97521 & 1.0 & 0.0 & 0.0 & 0.0 & 1.0 & 0.0 & $\\dots$ \\\\\n",
       "\t21 & 2012.0 & 2.1829 & 1.0 & 0.0 & 0.0 & 0.0 & 1.0 & 0.0 & $\\dots$ \\\\\n",
       "\t22 & 2012.0 & 3.4189 & 0.0 & 0.0 & 0.0 & 0.0 & 0.0 & 0.0 & $\\dots$ \\\\\n",
       "\t23 & 2012.0 & 2.83908 & 0.0 & 0.0 & 0.0 & 0.0 & 1.0 & 0.0 & $\\dots$ \\\\\n",
       "\t24 & 2012.0 & 2.95686 & 0.0 & 0.0 & 0.0 & 0.0 & 0.0 & 0.0 & $\\dots$ \\\\\n",
       "\t25 & 2012.0 & 2.87545 & 1.0 & 0.0 & 0.0 & 0.0 & 1.0 & 0.0 & $\\dots$ \\\\\n",
       "\t26 & 2012.0 & 2.53897 & 0.0 & 0.0 & 0.0 & 0.0 & 0.0 & 0.0 & $\\dots$ \\\\\n",
       "\t27 & 2012.0 & 2.36907 & 1.0 & 0.0 & 0.0 & 0.0 & 1.0 & 0.0 & $\\dots$ \\\\\n",
       "\t28 & 2012.0 & 1.96361 & 1.0 & 0.0 & 0.0 & 0.0 & 0.0 & 0.0 & $\\dots$ \\\\\n",
       "\t29 & 2012.0 & 2.65676 & 0.0 & 0.0 & 0.0 & 0.0 & 0.0 & 0.0 & $\\dots$ \\\\\n",
       "\t30 & 2012.0 & 2.36907 & 0.0 & 0.0 & 0.0 & 0.0 & 1.0 & 0.0 & $\\dots$ \\\\\n",
       "\t$\\dots$ & $\\dots$ & $\\dots$ & $\\dots$ & $\\dots$ & $\\dots$ & $\\dots$ & $\\dots$ & $\\dots$ &  \\\\\n",
       "\\end{tabular}\n"
      ],
      "text/plain": [
       "\u001b[1m7305×23 DataFrame\u001b[0m\n",
       "\u001b[1m  Row \u001b[0m│\u001b[1m year    \u001b[0m\u001b[1m lnw      \u001b[0m\u001b[1m female  \u001b[0m\u001b[1m widowed \u001b[0m\u001b[1m divorced \u001b[0m\u001b[1m separated \u001b[0m\u001b[1m nevermarried\u001b[0m ⋯\n",
       "\u001b[1m      \u001b[0m│\u001b[90m Float64 \u001b[0m\u001b[90m Float64  \u001b[0m\u001b[90m Float64 \u001b[0m\u001b[90m Float64 \u001b[0m\u001b[90m Float64  \u001b[0m\u001b[90m Float64   \u001b[0m\u001b[90m Float64     \u001b[0m ⋯\n",
       "──────┼─────────────────────────────────────────────────────────────────────────\n",
       "    1 │  2012.0  1.90954       1.0      0.0       0.0        0.0           0.0 ⋯\n",
       "    2 │  2012.0  2.00283       0.0      0.0       0.0        0.0           0.0\n",
       "    3 │  2012.0  0.289633      1.0      0.0       0.0        0.0           0.0\n",
       "    4 │  2012.0  3.14226       1.0      0.0       1.0        0.0           0.0\n",
       "    5 │  2012.0  1.75389       0.0      0.0       0.0        0.0           1.0 ⋯\n",
       "    6 │  2012.0  2.05892       0.0      0.0       0.0        0.0           0.0\n",
       "    7 │  2012.0  2.42792       0.0      0.0       0.0        0.0           0.0\n",
       "    8 │  2012.0  3.37343       0.0      0.0       0.0        0.0           0.0\n",
       "    9 │  2012.0  2.52323       1.0      0.0       0.0        0.0           0.0 ⋯\n",
       "   10 │  2012.0  1.8693        1.0      0.0       0.0        0.0           0.0\n",
       "   11 │  2012.0  2.43361       0.0      0.0       0.0        0.0           0.0\n",
       "  ⋮   │    ⋮        ⋮         ⋮        ⋮        ⋮          ⋮           ⋮       ⋱\n",
       " 7296 │  2012.0  3.28537       1.0      0.0       0.0        0.0           0.0\n",
       " 7297 │  2012.0  2.50261       1.0      0.0       0.0        0.0           0.0 ⋯\n",
       " 7298 │  2012.0  3.53223       0.0      0.0       0.0        0.0           0.0\n",
       " 7299 │  2012.0  2.52323       1.0      0.0       0.0        0.0           0.0\n",
       " 7300 │  2012.0  3.06222       1.0      0.0       0.0        0.0           0.0\n",
       " 7301 │  2012.0  2.93817       0.0      0.0       0.0        1.0           0.0 ⋯\n",
       " 7302 │  2012.0  3.14226       1.0      0.0       0.0        0.0           0.0\n",
       " 7303 │  2012.0  3.57105       0.0      0.0       0.0        0.0           0.0\n",
       " 7304 │  2012.0  3.14226       1.0      0.0       0.0        0.0           1.0\n",
       " 7305 │  2012.0  3.14226       0.0      0.0       0.0        0.0           0.0 ⋯\n",
       "\u001b[36m                                                16 columns and 7284 rows omitted\u001b[0m"
      ]
     },
     "execution_count": 50,
     "metadata": {},
     "output_type": "execute_result"
    }
   ],
   "source": [
    "training = sample( collect(1:nrow( data ) ), trunc(Int, 3 * nrow( data ) / 4 ),  replace= false )\n",
    "\n",
    "data_train = data[ vec(training), : ]\n",
    "data_test = data[ Not(training), : ]"
   ]
  },
  {
   "cell_type": "markdown",
   "id": "b55f3955",
   "metadata": {
    "papermill": {
     "duration": 0.038774,
     "end_time": "2021-02-13T18:19:45.217757",
     "exception": false,
     "start_time": "2021-02-13T18:19:45.178983",
     "status": "completed"
    },
    "tags": []
   },
   "source": [
    "We construct the two different model matrices $X_{basic}$ and $X_{flex}$ for both the training and the test sample:"
   ]
  },
  {
   "cell_type": "code",
   "execution_count": 55,
   "id": "ab507fba",
   "metadata": {},
   "outputs": [
    {
     "data": {
      "text/plain": [
       "FormulaTerm\n",
       "Response:\n",
       "  lnw(unknown)\n",
       "Predictors:\n",
       "  female(unknown)\n",
       "  female(unknown) & widowed(unknown)\n",
       "  female(unknown) & divorced(unknown)\n",
       "  female(unknown) & separated(unknown)\n",
       "  female(unknown) & nevermarried(unknown)\n",
       "  female(unknown) & hsd08(unknown)\n",
       "  female(unknown) & hsd911(unknown)\n",
       "  female(unknown) & hsg(unknown)\n",
       "  female(unknown) & cg(unknown)\n",
       "  female(unknown) & ad(unknown)\n",
       "  female(unknown) & mw(unknown)\n",
       "  female(unknown) & so(unknown)\n",
       "  female(unknown) & we(unknown)\n",
       "  female(unknown) & exp1(unknown)\n",
       "  female(unknown) & exp2(unknown)\n",
       "  female(unknown) & exp3(unknown)"
      ]
     },
     "execution_count": 55,
     "metadata": {},
     "output_type": "execute_result"
    }
   ],
   "source": [
    "formula_basic = @formula(lnw ~ female + female&(widowed + divorced + separated + nevermarried +\n",
    "hsd08 + hsd911 + hsg + cg + ad + mw + so + we + exp1 + exp2 + exp3) )"
   ]
  },
  {
   "cell_type": "code",
   "execution_count": 58,
   "id": "bbfd0e2f",
   "metadata": {},
   "outputs": [],
   "source": [
    "    # couples variables combinations \n",
    "    combinations_upto(x, n) = Iterators.flatten(combinations(x, i) for i in 1:n)\n",
    "\n",
    "    # combinations without same couple\n",
    "    expand_exp(args, deg::ConstantTerm) =\n",
    "        tuple(((&)(terms...) for terms in combinations_upto(args, deg.n))...)\n",
    "\n",
    "    StatsModels.apply_schema(t::FunctionTerm{typeof(^)}, sch::StatsModels.Schema, ctx::Type) =\n",
    "        apply_schema.(expand_exp(t.args_parsed...), Ref(sch), ctx)"
   ]
  },
  {
   "cell_type": "code",
   "execution_count": 60,
   "id": "4b2932e1",
   "metadata": {},
   "outputs": [
    {
     "data": {
      "text/plain": [
       "FormulaTerm\n",
       "Response:\n",
       "  lnw(continuous)\n",
       "Predictors:\n",
       "  female(continuous)\n",
       "  widowed(continuous)\n",
       "  divorced(continuous)\n",
       "  separated(continuous)\n",
       "  nevermarried(continuous)\n",
       "  hsd08(continuous)\n",
       "  hsd911(continuous)\n",
       "  hsg(continuous)\n",
       "  cg(continuous)\n",
       "  ad(continuous)\n",
       "  mw(continuous)\n",
       "  so(continuous)\n",
       "  we(continuous)\n",
       "  exp1(continuous)\n",
       "  exp2(continuous)\n",
       "  exp3(continuous)\n",
       "  widowed(continuous) & divorced(continuous)\n",
       "  widowed(continuous) & separated(continuous)\n",
       "  widowed(continuous) & nevermarried(continuous)\n",
       "  widowed(continuous) & hsd08(continuous)\n",
       "  widowed(continuous) & hsd911(continuous)\n",
       "  widowed(continuous) & hsg(continuous)\n",
       "  widowed(continuous) & cg(continuous)\n",
       "  widowed(continuous) & ad(continuous)\n",
       "  widowed(continuous) & mw(continuous)\n",
       "  widowed(continuous) & so(continuous)\n",
       "  widowed(continuous) & we(continuous)\n",
       "  widowed(continuous) & exp1(continuous)\n",
       "  widowed(continuous) & exp2(continuous)\n",
       "  widowed(continuous) & exp3(continuous)\n",
       "  divorced(continuous) & separated(continuous)\n",
       "  divorced(continuous) & nevermarried(continuous)\n",
       "  divorced(continuous) & hsd08(continuous)\n",
       "  divorced(continuous) & hsd911(continuous)\n",
       "  divorced(continuous) & hsg(continuous)\n",
       "  divorced(continuous) & cg(continuous)\n",
       "  divorced(continuous) & ad(continuous)\n",
       "  divorced(continuous) & mw(continuous)\n",
       "  divorced(continuous) & so(continuous)\n",
       "  divorced(continuous) & we(continuous)\n",
       "  divorced(continuous) & exp1(continuous)\n",
       "  divorced(continuous) & exp2(continuous)\n",
       "  divorced(continuous) & exp3(continuous)\n",
       "  separated(continuous) & nevermarried(continuous)\n",
       "  separated(continuous) & hsd08(continuous)\n",
       "  separated(continuous) & hsd911(continuous)\n",
       "  separated(continuous) & hsg(continuous)\n",
       "  separated(continuous) & cg(continuous)\n",
       "  separated(continuous) & ad(continuous)\n",
       "  separated(continuous) & mw(continuous)\n",
       "  separated(continuous) & so(continuous)\n",
       "  separated(continuous) & we(continuous)\n",
       "  separated(continuous) & exp1(continuous)\n",
       "  separated(continuous) & exp2(continuous)\n",
       "  separated(continuous) & exp3(continuous)\n",
       "  nevermarried(continuous) & hsd08(continuous)\n",
       "  nevermarried(continuous) & hsd911(continuous)\n",
       "  nevermarried(continuous) & hsg(continuous)\n",
       "  nevermarried(continuous) & cg(continuous)\n",
       "  nevermarried(continuous) & ad(continuous)\n",
       "  nevermarried(continuous) & mw(continuous)\n",
       "  nevermarried(continuous) & so(continuous)\n",
       "  nevermarried(continuous) & we(continuous)\n",
       "  nevermarried(continuous) & exp1(continuous)\n",
       "  nevermarried(continuous) & exp2(continuous)\n",
       "  nevermarried(continuous) & exp3(continuous)\n",
       "  hsd08(continuous) & hsd911(continuous)\n",
       "  hsd08(continuous) & hsg(continuous)\n",
       "  hsd08(continuous) & cg(continuous)\n",
       "  hsd08(continuous) & ad(continuous)\n",
       "  hsd08(continuous) & mw(continuous)\n",
       "  hsd08(continuous) & so(continuous)\n",
       "  hsd08(continuous) & we(continuous)\n",
       "  hsd08(continuous) & exp1(continuous)\n",
       "  hsd08(continuous) & exp2(continuous)\n",
       "  hsd08(continuous) & exp3(continuous)\n",
       "  hsd911(continuous) & hsg(continuous)\n",
       "  hsd911(continuous) & cg(continuous)\n",
       "  hsd911(continuous) & ad(continuous)\n",
       "  hsd911(continuous) & mw(continuous)\n",
       "  hsd911(continuous) & so(continuous)\n",
       "  hsd911(continuous) & we(continuous)\n",
       "  hsd911(continuous) & exp1(continuous)\n",
       "  hsd911(continuous) & exp2(continuous)\n",
       "  hsd911(continuous) & exp3(continuous)\n",
       "  hsg(continuous) & cg(continuous)\n",
       "  hsg(continuous) & ad(continuous)\n",
       "  hsg(continuous) & mw(continuous)\n",
       "  hsg(continuous) & so(continuous)\n",
       "  hsg(continuous) & we(continuous)\n",
       "  hsg(continuous) & exp1(continuous)\n",
       "  hsg(continuous) & exp2(continuous)\n",
       "  hsg(continuous) & exp3(continuous)\n",
       "  cg(continuous) & ad(continuous)\n",
       "  cg(continuous) & mw(continuous)\n",
       "  cg(continuous) & so(continuous)\n",
       "  cg(continuous) & we(continuous)\n",
       "  cg(continuous) & exp1(continuous)\n",
       "  cg(continuous) & exp2(continuous)\n",
       "  cg(continuous) & exp3(continuous)\n",
       "  ad(continuous) & mw(continuous)\n",
       "  ad(continuous) & so(continuous)\n",
       "  ad(continuous) & we(continuous)\n",
       "  ad(continuous) & exp1(continuous)\n",
       "  ad(continuous) & exp2(continuous)\n",
       "  ad(continuous) & exp3(continuous)\n",
       "  mw(continuous) & so(continuous)\n",
       "  mw(continuous) & we(continuous)\n",
       "  mw(continuous) & exp1(continuous)\n",
       "  mw(continuous) & exp2(continuous)\n",
       "  mw(continuous) & exp3(continuous)\n",
       "  so(continuous) & we(continuous)\n",
       "  so(continuous) & exp1(continuous)\n",
       "  so(continuous) & exp2(continuous)\n",
       "  so(continuous) & exp3(continuous)\n",
       "  we(continuous) & exp1(continuous)\n",
       "  we(continuous) & exp2(continuous)\n",
       "  we(continuous) & exp3(continuous)\n",
       "  exp1(continuous) & exp2(continuous)\n",
       "  exp1(continuous) & exp3(continuous)\n",
       "  exp2(continuous) & exp3(continuous)\n",
       "  female(continuous) & widowed(continuous)\n",
       "  female(continuous) & divorced(continuous)\n",
       "  female(continuous) & separated(continuous)\n",
       "  female(continuous) & nevermarried(continuous)\n",
       "  female(continuous) & hsd08(continuous)\n",
       "  female(continuous) & hsd911(continuous)\n",
       "  female(continuous) & hsg(continuous)\n",
       "  female(continuous) & cg(continuous)\n",
       "  female(continuous) & ad(continuous)\n",
       "  female(continuous) & mw(continuous)\n",
       "  female(continuous) & so(continuous)\n",
       "  female(continuous) & we(continuous)\n",
       "  female(continuous) & exp1(continuous)\n",
       "  female(continuous) & exp2(continuous)\n",
       "  female(continuous) & exp3(continuous)"
      ]
     },
     "execution_count": 60,
     "metadata": {},
     "output_type": "execute_result"
    }
   ],
   "source": [
    "formula_flex = @formula(lnw ~ female + female&(widowed + divorced + separated + nevermarried +\n",
    "hsd08 + hsd911 + hsg + cg + ad + mw + so + we + exp1 + exp2 + exp3) + (widowed +\n",
    "divorced + separated + nevermarried + hsd08 + hsd911 + hsg + cg + ad + mw + so +\n",
    "we + exp1 + exp2 + exp3)^2)\n",
    "\n",
    "formula_flex = apply_schema(formula_flex, schema(formula_flex, data))"
   ]
  },
  {
   "cell_type": "code",
   "execution_count": 61,
   "id": "1da6da49",
   "metadata": {},
   "outputs": [
    {
     "data": {
      "text/plain": [
       "17"
      ]
     },
     "execution_count": 61,
     "metadata": {},
     "output_type": "execute_result"
    }
   ],
   "source": [
    "model_X_basic_train = ModelMatrix(ModelFrame(formula_basic,data_train)).m\n",
    "model_X_basic_test = ModelMatrix(ModelFrame(formula_basic,data_test)).m\n",
    "p_basic = size(model_X_basic_test)[2]"
   ]
  },
  {
   "cell_type": "code",
   "execution_count": 73,
   "id": "5fc56aee",
   "metadata": {},
   "outputs": [
    {
     "data": {
      "text/plain": [
       "137"
      ]
     },
     "execution_count": 73,
     "metadata": {},
     "output_type": "execute_result"
    }
   ],
   "source": [
    "model_X_flex_train = ModelMatrix(ModelFrame(formula_flex,data_train)).m\n",
    "model_X_flex_test = ModelMatrix(ModelFrame(formula_flex,data_test)).m\n",
    "p_flex = size(model_X_flex_test)[2]"
   ]
  },
  {
   "cell_type": "code",
   "execution_count": 63,
   "id": "5460b711",
   "metadata": {},
   "outputs": [
    {
     "data": {
      "text/html": [
       "<div class=\"data-frame\"><p>7,305 rows × 1 columns</p><table class=\"data-frame\"><thead><tr><th></th><th>lnw</th></tr><tr><th></th><th title=\"Float64\">Float64</th></tr></thead><tbody><tr><th>1</th><td>1.90954</td></tr><tr><th>2</th><td>2.00283</td></tr><tr><th>3</th><td>0.289633</td></tr><tr><th>4</th><td>3.14226</td></tr><tr><th>5</th><td>1.75389</td></tr><tr><th>6</th><td>2.05892</td></tr><tr><th>7</th><td>2.42792</td></tr><tr><th>8</th><td>3.37343</td></tr><tr><th>9</th><td>2.52323</td></tr><tr><th>10</th><td>1.8693</td></tr><tr><th>11</th><td>2.43361</td></tr><tr><th>12</th><td>2.70555</td></tr><tr><th>13</th><td>2.43361</td></tr><tr><th>14</th><td>1.69666</td></tr><tr><th>15</th><td>2.26371</td></tr><tr><th>16</th><td>2.78779</td></tr><tr><th>17</th><td>2.65676</td></tr><tr><th>18</th><td>2.83111</td></tr><tr><th>19</th><td>2.05892</td></tr><tr><th>20</th><td>2.97521</td></tr><tr><th>21</th><td>2.1829</td></tr><tr><th>22</th><td>3.4189</td></tr><tr><th>23</th><td>2.83908</td></tr><tr><th>24</th><td>2.95686</td></tr><tr><th>25</th><td>2.87545</td></tr><tr><th>26</th><td>2.53897</td></tr><tr><th>27</th><td>2.36907</td></tr><tr><th>28</th><td>1.96361</td></tr><tr><th>29</th><td>2.65676</td></tr><tr><th>30</th><td>2.36907</td></tr><tr><th>&vellip;</th><td>&vellip;</td></tr></tbody></table></div>"
      ],
      "text/latex": [
       "\\begin{tabular}{r|c}\n",
       "\t& lnw\\\\\n",
       "\t\\hline\n",
       "\t& Float64\\\\\n",
       "\t\\hline\n",
       "\t1 & 1.90954 \\\\\n",
       "\t2 & 2.00283 \\\\\n",
       "\t3 & 0.289633 \\\\\n",
       "\t4 & 3.14226 \\\\\n",
       "\t5 & 1.75389 \\\\\n",
       "\t6 & 2.05892 \\\\\n",
       "\t7 & 2.42792 \\\\\n",
       "\t8 & 3.37343 \\\\\n",
       "\t9 & 2.52323 \\\\\n",
       "\t10 & 1.8693 \\\\\n",
       "\t11 & 2.43361 \\\\\n",
       "\t12 & 2.70555 \\\\\n",
       "\t13 & 2.43361 \\\\\n",
       "\t14 & 1.69666 \\\\\n",
       "\t15 & 2.26371 \\\\\n",
       "\t16 & 2.78779 \\\\\n",
       "\t17 & 2.65676 \\\\\n",
       "\t18 & 2.83111 \\\\\n",
       "\t19 & 2.05892 \\\\\n",
       "\t20 & 2.97521 \\\\\n",
       "\t21 & 2.1829 \\\\\n",
       "\t22 & 3.4189 \\\\\n",
       "\t23 & 2.83908 \\\\\n",
       "\t24 & 2.95686 \\\\\n",
       "\t25 & 2.87545 \\\\\n",
       "\t26 & 2.53897 \\\\\n",
       "\t27 & 2.36907 \\\\\n",
       "\t28 & 1.96361 \\\\\n",
       "\t29 & 2.65676 \\\\\n",
       "\t30 & 2.36907 \\\\\n",
       "\t$\\dots$ & $\\dots$ \\\\\n",
       "\\end{tabular}\n"
      ],
      "text/plain": [
       "\u001b[1m7305×1 DataFrame\u001b[0m\n",
       "\u001b[1m  Row \u001b[0m│\u001b[1m lnw      \u001b[0m\n",
       "\u001b[1m      \u001b[0m│\u001b[90m Float64  \u001b[0m\n",
       "──────┼──────────\n",
       "    1 │ 1.90954\n",
       "    2 │ 2.00283\n",
       "    3 │ 0.289633\n",
       "    4 │ 3.14226\n",
       "    5 │ 1.75389\n",
       "    6 │ 2.05892\n",
       "    7 │ 2.42792\n",
       "    8 │ 3.37343\n",
       "    9 │ 2.52323\n",
       "   10 │ 1.8693\n",
       "   11 │ 2.43361\n",
       "  ⋮   │    ⋮\n",
       " 7296 │ 3.28537\n",
       " 7297 │ 2.50261\n",
       " 7298 │ 3.53223\n",
       " 7299 │ 2.52323\n",
       " 7300 │ 3.06222\n",
       " 7301 │ 2.93817\n",
       " 7302 │ 3.14226\n",
       " 7303 │ 3.57105\n",
       " 7304 │ 3.14226\n",
       " 7305 │ 3.14226\n",
       "\u001b[36m7284 rows omitted\u001b[0m"
      ]
     },
     "execution_count": 63,
     "metadata": {},
     "output_type": "execute_result"
    }
   ],
   "source": [
    "Y_train = data_train[!, [\"lnw\"]] # Dataframe format\n",
    "Y_test = data_test[ !,  [\"lnw\"]]"
   ]
  },
  {
   "cell_type": "code",
   "execution_count": 64,
   "id": "ae1fc0ed",
   "metadata": {},
   "outputs": [
    {
     "data": {
      "text/plain": [
       "137"
      ]
     },
     "execution_count": 64,
     "metadata": {},
     "output_type": "execute_result"
    }
   ],
   "source": [
    "p_basic\n",
    "p_flex"
   ]
  },
  {
   "cell_type": "markdown",
   "id": "d4a2a72d",
   "metadata": {
    "papermill": {
     "duration": 0.037704,
     "end_time": "2021-02-13T18:19:45.622370",
     "exception": false,
     "start_time": "2021-02-13T18:19:45.584666",
     "status": "completed"
    },
    "tags": []
   },
   "source": [
    "As known from our first lab, the basic model consists of $10$ regressors and the flexible model of $246$ regressors. Let us fit our models to the training sample using the two different model specifications. We are starting by running a simple ols regression. "
   ]
  },
  {
   "cell_type": "markdown",
   "id": "bbe9590d",
   "metadata": {
    "papermill": {
     "duration": 0.038763,
     "end_time": "2021-02-13T18:19:45.699126",
     "exception": false,
     "start_time": "2021-02-13T18:19:45.660363",
     "status": "completed"
    },
    "tags": []
   },
   "source": [
    "### OLS"
   ]
  },
  {
   "cell_type": "markdown",
   "id": "7512b618",
   "metadata": {
    "papermill": {
     "duration": 0.039458,
     "end_time": "2021-02-13T18:19:45.779460",
     "exception": false,
     "start_time": "2021-02-13T18:19:45.740002",
     "status": "completed"
    },
    "tags": []
   },
   "source": [
    "We fit the basic model to our training data by running an ols regression and compute the mean squared error on the test sample."
   ]
  },
  {
   "cell_type": "code",
   "execution_count": 66,
   "id": "ff74580c",
   "metadata": {},
   "outputs": [
    {
     "data": {
      "text/plain": [
       "StatsModels.TableRegressionModel{LinearModel{GLM.LmResp{Vector{Float64}}, GLM.DensePredChol{Float64, CholeskyPivoted{Float64, Matrix{Float64}}}}, Matrix{Float64}}\n",
       "\n",
       "lnw ~ 1 + female + female & widowed + female & divorced + female & separated + female & nevermarried + female & hsd08 + female & hsd911 + female & hsg + female & cg + female & ad + female & mw + female & so + female & we + female & exp1 + female & exp2 + female & exp3\n",
       "\n",
       "Coefficients:\n",
       "───────────────────────────────────────────────────────────────────────────────────────────\n",
       "                             Coef.  Std. Error       t  Pr(>|t|)     Lower 95%    Upper 95%\n",
       "───────────────────────────────────────────────────────────────────────────────────────────\n",
       "(Intercept)             2.90357     0.00555009  523.16    <1e-99   2.89269       2.91445\n",
       "female                 -0.653932    0.0462527   -14.14    <1e-44  -0.74459      -0.563273\n",
       "female & widowed       -0.122183    0.0559409    -2.18    0.0290  -0.231831     -0.0125352\n",
       "female & divorced      -0.00861192  0.0184577    -0.47    0.6408  -0.0447904     0.0275665\n",
       "female & separated     -0.0633865   0.0465157    -1.36    0.1730  -0.154561      0.0277877\n",
       "female & nevermarried  -0.0455332   0.0190765    -2.39    0.0170  -0.0829246    -0.00814175\n",
       "female & hsd08         -0.659333    0.131819     -5.00    <1e-06  -0.917708     -0.400959\n",
       "female & hsd911        -0.48939     0.0542022    -9.03    <1e-18  -0.59563      -0.38315\n",
       "female & hsg           -0.187436    0.0183309   -10.23    <1e-23  -0.223366     -0.151506\n",
       "female & cg             0.37049     0.017015     21.77    <1e-99   0.337139      0.40384\n",
       "female & ad             0.587005    0.0200976    29.21    <1e-99   0.547612      0.626398\n",
       "female & mw            -0.107545    0.0179625    -5.99    <1e-08  -0.142753     -0.0723373\n",
       "female & so            -0.0681831   0.0181626    -3.75    0.0002  -0.103783     -0.0325831\n",
       "female & we            -0.0159293   0.0201338    -0.79    0.4289  -0.0553931     0.0235344\n",
       "female & exp1           0.0377324   0.00850748    4.44    <1e-05   0.0210571     0.0544077\n",
       "female & exp2          -0.139588    0.0513685    -2.72    0.0066  -0.240274     -0.0389017\n",
       "female & exp3           0.0189548   0.00924921    2.05    0.0404   0.000825661   0.0370839\n",
       "───────────────────────────────────────────────────────────────────────────────────────────"
      ]
     },
     "execution_count": 66,
     "metadata": {},
     "output_type": "execute_result"
    }
   ],
   "source": [
    "fit_lm_basic = lm(formula_basic, data_train)"
   ]
  },
  {
   "cell_type": "code",
   "execution_count": 82,
   "id": "9e8dfa15",
   "metadata": {},
   "outputs": [
    {
     "data": {
      "text/plain": [
       "1-element Vector{Float64}:\n",
       " 0.1186694346581677"
      ]
     },
     "execution_count": 82,
     "metadata": {},
     "output_type": "execute_result"
    }
   ],
   "source": [
    "# Compute the Out-Of-Sample Performance\n",
    "yhat_lm_basic = GLM.predict( fit_lm_basic , data_test )\n",
    "res_lm_basic = ( Y_test[!,1] - yhat_lm_basic ).^ 2\n",
    "\n",
    "matrix_ones = ones( size(res_lm_basic)[1] ,1 )\n",
    "mean_residuals = lm(  matrix_ones, res_lm_basic )   # first argument (X), secind argument (Y)\n",
    "MSE_lm_basic = [ coef( mean_residuals ) , stderror( mean_residuals ) ]\n",
    "MSE_lm_basic  \n",
    "R2_lm_basic = 1 .- ( MSE_lm_basic[1] / var( Y_test[!,1] ) )"
   ]
  },
  {
   "cell_type": "code",
   "execution_count": 83,
   "id": "7074a46a",
   "metadata": {},
   "outputs": [
    {
     "data": {
      "text/plain": [
       "1-element Vector{Float64}:\n",
       " 0.2487068543236849"
      ]
     },
     "execution_count": 83,
     "metadata": {},
     "output_type": "execute_result"
    }
   ],
   "source": [
    "# ols (flexible model)\n",
    "fit_lm_flex = lm( formula_flex, data_train ) \n",
    "yhat_lm_flex = GLM.predict( fit_lm_flex, data_test)\n",
    "\n",
    "res_lm_flex = ( Y_test[!,1] - yhat_lm_flex ) .^ 2\n",
    "mean_residuals = lm(  matrix_ones, res_lm_flex )\n",
    "MSE_lm_flex = [ coef( mean_residuals ) , stderror( mean_residuals ) ]\n",
    "\n",
    "R2_lm_flex = 1 .- ( MSE_lm_flex[1] / var( Y_test[!,1] ) )"
   ]
  },
  {
   "cell_type": "markdown",
   "id": "c9dc2e94",
   "metadata": {
    "papermill": {
     "duration": 0.051953,
     "end_time": "2021-02-13T18:19:46.853182",
     "exception": false,
     "start_time": "2021-02-13T18:19:46.801229",
     "status": "completed"
    },
    "tags": []
   },
   "source": [
    "We observe that ols regression works better for the basic model with smaller $p/n$ ratio. We are proceeding by running lasso regressions and its versions."
   ]
  },
  {
   "cell_type": "markdown",
   "id": "ae946aef",
   "metadata": {
    "papermill": {
     "duration": 0.042521,
     "end_time": "2021-02-13T18:19:46.935859",
     "exception": false,
     "start_time": "2021-02-13T18:19:46.893338",
     "status": "completed"
    },
    "tags": []
   },
   "source": [
    "### Lasso, Ridge and Elastic Net\n"
   ]
  },
  {
   "cell_type": "markdown",
   "id": "887bbe60",
   "metadata": {
    "papermill": {
     "duration": 0.040161,
     "end_time": "2021-02-13T18:19:47.015626",
     "exception": false,
     "start_time": "2021-02-13T18:19:46.975465",
     "status": "completed"
    },
    "tags": []
   },
   "source": [
    "Considering the basic model, we run a lasso/post-lasso regression first and then we compute the measures for the out-of-sample performance. Note that applying the package *hdm* and the function *rlasso* we rely on a theoretical based choice of the penalty level $\\lambda$ in the lasso regression."
   ]
  },
  {
   "cell_type": "code",
   "execution_count": 86,
   "id": "4f6eabe9",
   "metadata": {},
   "outputs": [],
   "source": [
    "# load HDM package\n",
    "\n",
    "include(\"hdmjl/hdmjl.jl\")"
   ]
  },
  {
   "cell_type": "code",
   "execution_count": 87,
   "id": "06a62904",
   "metadata": {
    "scrolled": false
   },
   "outputs": [
    {
     "data": {
      "text/html": [
       "<div class=\"data-frame\"><p>21,912 rows × 17 columns (omitted printing of 11 columns)</p><table class=\"data-frame\"><thead><tr><th></th><th>(Intercept)</th><th>female</th><th>female &amp; widowed</th><th>female &amp; divorced</th><th>female &amp; separated</th><th>female &amp; nevermarried</th></tr><tr><th></th><th title=\"Float64\">Float64</th><th title=\"Float64\">Float64</th><th title=\"Float64\">Float64</th><th title=\"Float64\">Float64</th><th title=\"Float64\">Float64</th><th title=\"Float64\">Float64</th></tr></thead><tbody><tr><th>1</th><td>1.0</td><td>1.0</td><td>0.0</td><td>0.0</td><td>0.0</td><td>0.0</td></tr><tr><th>2</th><td>1.0</td><td>0.0</td><td>0.0</td><td>0.0</td><td>0.0</td><td>0.0</td></tr><tr><th>3</th><td>1.0</td><td>0.0</td><td>0.0</td><td>0.0</td><td>0.0</td><td>0.0</td></tr><tr><th>4</th><td>1.0</td><td>1.0</td><td>0.0</td><td>0.0</td><td>0.0</td><td>0.0</td></tr><tr><th>5</th><td>1.0</td><td>1.0</td><td>0.0</td><td>0.0</td><td>0.0</td><td>0.0</td></tr><tr><th>6</th><td>1.0</td><td>1.0</td><td>0.0</td><td>0.0</td><td>0.0</td><td>0.0</td></tr><tr><th>7</th><td>1.0</td><td>0.0</td><td>0.0</td><td>0.0</td><td>0.0</td><td>0.0</td></tr><tr><th>8</th><td>1.0</td><td>1.0</td><td>1.0</td><td>0.0</td><td>0.0</td><td>0.0</td></tr><tr><th>9</th><td>1.0</td><td>1.0</td><td>0.0</td><td>0.0</td><td>0.0</td><td>0.0</td></tr><tr><th>10</th><td>1.0</td><td>0.0</td><td>0.0</td><td>0.0</td><td>0.0</td><td>0.0</td></tr><tr><th>11</th><td>1.0</td><td>1.0</td><td>0.0</td><td>0.0</td><td>0.0</td><td>1.0</td></tr><tr><th>12</th><td>1.0</td><td>0.0</td><td>0.0</td><td>0.0</td><td>0.0</td><td>0.0</td></tr><tr><th>13</th><td>1.0</td><td>0.0</td><td>0.0</td><td>0.0</td><td>0.0</td><td>0.0</td></tr><tr><th>14</th><td>1.0</td><td>1.0</td><td>0.0</td><td>1.0</td><td>0.0</td><td>0.0</td></tr><tr><th>15</th><td>1.0</td><td>1.0</td><td>0.0</td><td>1.0</td><td>0.0</td><td>0.0</td></tr><tr><th>16</th><td>1.0</td><td>0.0</td><td>0.0</td><td>0.0</td><td>0.0</td><td>0.0</td></tr><tr><th>17</th><td>1.0</td><td>1.0</td><td>0.0</td><td>1.0</td><td>0.0</td><td>0.0</td></tr><tr><th>18</th><td>1.0</td><td>1.0</td><td>0.0</td><td>0.0</td><td>0.0</td><td>0.0</td></tr><tr><th>19</th><td>1.0</td><td>1.0</td><td>0.0</td><td>1.0</td><td>0.0</td><td>0.0</td></tr><tr><th>20</th><td>1.0</td><td>0.0</td><td>0.0</td><td>0.0</td><td>0.0</td><td>0.0</td></tr><tr><th>21</th><td>1.0</td><td>0.0</td><td>0.0</td><td>0.0</td><td>0.0</td><td>0.0</td></tr><tr><th>22</th><td>1.0</td><td>0.0</td><td>0.0</td><td>0.0</td><td>0.0</td><td>0.0</td></tr><tr><th>23</th><td>1.0</td><td>1.0</td><td>0.0</td><td>0.0</td><td>0.0</td><td>0.0</td></tr><tr><th>24</th><td>1.0</td><td>1.0</td><td>0.0</td><td>0.0</td><td>0.0</td><td>0.0</td></tr><tr><th>25</th><td>1.0</td><td>1.0</td><td>0.0</td><td>1.0</td><td>0.0</td><td>0.0</td></tr><tr><th>26</th><td>1.0</td><td>1.0</td><td>0.0</td><td>0.0</td><td>0.0</td><td>0.0</td></tr><tr><th>27</th><td>1.0</td><td>0.0</td><td>0.0</td><td>0.0</td><td>0.0</td><td>0.0</td></tr><tr><th>28</th><td>1.0</td><td>1.0</td><td>0.0</td><td>0.0</td><td>0.0</td><td>0.0</td></tr><tr><th>29</th><td>1.0</td><td>1.0</td><td>0.0</td><td>0.0</td><td>0.0</td><td>0.0</td></tr><tr><th>30</th><td>1.0</td><td>0.0</td><td>0.0</td><td>0.0</td><td>0.0</td><td>0.0</td></tr><tr><th>&vellip;</th><td>&vellip;</td><td>&vellip;</td><td>&vellip;</td><td>&vellip;</td><td>&vellip;</td><td>&vellip;</td></tr></tbody></table></div>"
      ],
      "text/latex": [
       "\\begin{tabular}{r|ccccccc}\n",
       "\t& (Intercept) & female & female \\& widowed & female \\& divorced & female \\& separated & female \\& nevermarried & \\\\\n",
       "\t\\hline\n",
       "\t& Float64 & Float64 & Float64 & Float64 & Float64 & Float64 & \\\\\n",
       "\t\\hline\n",
       "\t1 & 1.0 & 1.0 & 0.0 & 0.0 & 0.0 & 0.0 & $\\dots$ \\\\\n",
       "\t2 & 1.0 & 0.0 & 0.0 & 0.0 & 0.0 & 0.0 & $\\dots$ \\\\\n",
       "\t3 & 1.0 & 0.0 & 0.0 & 0.0 & 0.0 & 0.0 & $\\dots$ \\\\\n",
       "\t4 & 1.0 & 1.0 & 0.0 & 0.0 & 0.0 & 0.0 & $\\dots$ \\\\\n",
       "\t5 & 1.0 & 1.0 & 0.0 & 0.0 & 0.0 & 0.0 & $\\dots$ \\\\\n",
       "\t6 & 1.0 & 1.0 & 0.0 & 0.0 & 0.0 & 0.0 & $\\dots$ \\\\\n",
       "\t7 & 1.0 & 0.0 & 0.0 & 0.0 & 0.0 & 0.0 & $\\dots$ \\\\\n",
       "\t8 & 1.0 & 1.0 & 1.0 & 0.0 & 0.0 & 0.0 & $\\dots$ \\\\\n",
       "\t9 & 1.0 & 1.0 & 0.0 & 0.0 & 0.0 & 0.0 & $\\dots$ \\\\\n",
       "\t10 & 1.0 & 0.0 & 0.0 & 0.0 & 0.0 & 0.0 & $\\dots$ \\\\\n",
       "\t11 & 1.0 & 1.0 & 0.0 & 0.0 & 0.0 & 1.0 & $\\dots$ \\\\\n",
       "\t12 & 1.0 & 0.0 & 0.0 & 0.0 & 0.0 & 0.0 & $\\dots$ \\\\\n",
       "\t13 & 1.0 & 0.0 & 0.0 & 0.0 & 0.0 & 0.0 & $\\dots$ \\\\\n",
       "\t14 & 1.0 & 1.0 & 0.0 & 1.0 & 0.0 & 0.0 & $\\dots$ \\\\\n",
       "\t15 & 1.0 & 1.0 & 0.0 & 1.0 & 0.0 & 0.0 & $\\dots$ \\\\\n",
       "\t16 & 1.0 & 0.0 & 0.0 & 0.0 & 0.0 & 0.0 & $\\dots$ \\\\\n",
       "\t17 & 1.0 & 1.0 & 0.0 & 1.0 & 0.0 & 0.0 & $\\dots$ \\\\\n",
       "\t18 & 1.0 & 1.0 & 0.0 & 0.0 & 0.0 & 0.0 & $\\dots$ \\\\\n",
       "\t19 & 1.0 & 1.0 & 0.0 & 1.0 & 0.0 & 0.0 & $\\dots$ \\\\\n",
       "\t20 & 1.0 & 0.0 & 0.0 & 0.0 & 0.0 & 0.0 & $\\dots$ \\\\\n",
       "\t21 & 1.0 & 0.0 & 0.0 & 0.0 & 0.0 & 0.0 & $\\dots$ \\\\\n",
       "\t22 & 1.0 & 0.0 & 0.0 & 0.0 & 0.0 & 0.0 & $\\dots$ \\\\\n",
       "\t23 & 1.0 & 1.0 & 0.0 & 0.0 & 0.0 & 0.0 & $\\dots$ \\\\\n",
       "\t24 & 1.0 & 1.0 & 0.0 & 0.0 & 0.0 & 0.0 & $\\dots$ \\\\\n",
       "\t25 & 1.0 & 1.0 & 0.0 & 1.0 & 0.0 & 0.0 & $\\dots$ \\\\\n",
       "\t26 & 1.0 & 1.0 & 0.0 & 0.0 & 0.0 & 0.0 & $\\dots$ \\\\\n",
       "\t27 & 1.0 & 0.0 & 0.0 & 0.0 & 0.0 & 0.0 & $\\dots$ \\\\\n",
       "\t28 & 1.0 & 1.0 & 0.0 & 0.0 & 0.0 & 0.0 & $\\dots$ \\\\\n",
       "\t29 & 1.0 & 1.0 & 0.0 & 0.0 & 0.0 & 0.0 & $\\dots$ \\\\\n",
       "\t30 & 1.0 & 0.0 & 0.0 & 0.0 & 0.0 & 0.0 & $\\dots$ \\\\\n",
       "\t$\\dots$ & $\\dots$ & $\\dots$ & $\\dots$ & $\\dots$ & $\\dots$ & $\\dots$ &  \\\\\n",
       "\\end{tabular}\n"
      ],
      "text/plain": [
       "\u001b[1m21912×17 DataFrame\u001b[0m\n",
       "\u001b[1m   Row \u001b[0m│\u001b[1m (Intercept) \u001b[0m\u001b[1m female  \u001b[0m\u001b[1m female & widowed \u001b[0m\u001b[1m female & divorced \u001b[0m\u001b[1m female & s\u001b[0m ⋯\n",
       "\u001b[1m       \u001b[0m│\u001b[90m Float64     \u001b[0m\u001b[90m Float64 \u001b[0m\u001b[90m Float64          \u001b[0m\u001b[90m Float64           \u001b[0m\u001b[90m Float64   \u001b[0m ⋯\n",
       "───────┼────────────────────────────────────────────────────────────────────────\n",
       "     1 │         1.0      1.0               0.0                0.0             ⋯\n",
       "     2 │         1.0      0.0               0.0                0.0\n",
       "     3 │         1.0      0.0               0.0                0.0\n",
       "     4 │         1.0      1.0               0.0                0.0\n",
       "     5 │         1.0      1.0               0.0                0.0             ⋯\n",
       "     6 │         1.0      1.0               0.0                0.0\n",
       "     7 │         1.0      0.0               0.0                0.0\n",
       "     8 │         1.0      1.0               1.0                0.0\n",
       "     9 │         1.0      1.0               0.0                0.0             ⋯\n",
       "    10 │         1.0      0.0               0.0                0.0\n",
       "    11 │         1.0      1.0               0.0                0.0\n",
       "   ⋮   │      ⋮          ⋮            ⋮                  ⋮                  ⋮  ⋱\n",
       " 21903 │         1.0      0.0               0.0                0.0\n",
       " 21904 │         1.0      1.0               0.0                0.0             ⋯\n",
       " 21905 │         1.0      1.0               0.0                0.0\n",
       " 21906 │         1.0      1.0               0.0                0.0\n",
       " 21907 │         1.0      0.0               0.0                0.0\n",
       " 21908 │         1.0      1.0               0.0                0.0             ⋯\n",
       " 21909 │         1.0      1.0               0.0                0.0\n",
       " 21910 │         1.0      1.0               0.0                0.0\n",
       " 21911 │         1.0      1.0               0.0                0.0\n",
       " 21912 │         1.0      1.0               0.0                0.0             ⋯\n",
       "\u001b[36m                                               13 columns and 21891 rows omitted\u001b[0m"
      ]
     },
     "execution_count": 87,
     "metadata": {},
     "output_type": "execute_result"
    }
   ],
   "source": [
    "names_col1 = Symbol.(coefnames(fit_lm_basic))\n",
    "X1 = DataFrame(model_X_basic_train, names_col1 )"
   ]
  },
  {
   "cell_type": "code",
   "execution_count": 88,
   "id": "f4896d6d",
   "metadata": {},
   "outputs": [
    {
     "data": {
      "text/plain": [
       "1-element Vector{Float64}:\n",
       " 0.11206746334526163"
      ]
     },
     "execution_count": 88,
     "metadata": {},
     "output_type": "execute_result"
    }
   ],
   "source": [
    "# basic model \n",
    "# not post - lasso (HDM)\n",
    "# first false for Not post lasso, second false for not intercetp\n",
    "\n",
    "\n",
    "rlasso_basic  = rlasso_arg( X1, Y_train, nothing, false, false, true, false, false, \n",
    "                    nothing, 1.1, nothing, 5000, 15, 10^(-5), -Inf, true, Inf, true )\n",
    "\n",
    "fit_rlasso_basic = rlasso(rlasso_basic)\n",
    "\n",
    "\n",
    "# post - lasso (HDM)\n",
    "rlasso_basic_post  = rlasso_arg( X1, Y_train, nothing, true, false, true, false, false, \n",
    "                    nothing, 1.1, nothing, 5000, 15, 10^(-5), -Inf, true, Inf, true )\n",
    "\n",
    "fit_rlasso_basic_post = rlasso(rlasso_basic_post)\n",
    "\n",
    "yhat_rlasso = model_X_basic_test*fit_rlasso_basic[\"coefficients\"] \n",
    "yhat_rlasso_post = model_X_basic_test*fit_rlasso_basic_post[\"coefficients\"] \n",
    "\n",
    "\n",
    "res_rlasso_basic = ( Y_test[!,1] - yhat_rlasso ).^ 2\n",
    "matrix_ones = ones( size(res_rlasso_basic)[1] ,1 )\n",
    "mean_residuals = lm(  matrix_ones, res_rlasso_basic )  \n",
    "MSE_rlasso_basic = [ coef( mean_residuals ) , stderror( mean_residuals ) ]\n",
    "R2_rlasso_basic = 1 .- ( MSE_rlasso_basic[1] / var(Y_test[!,1]) ) \n",
    "\n",
    "res_rlasso_basic_post = ( Y_test[!,1] - yhat_rlasso_post ).^ 2\n",
    "matrix_ones = ones( size(res_rlasso_basic_post)[1] ,1 )\n",
    "mean_residuals = lm(  matrix_ones, res_rlasso_basic_post )  \n",
    "MSE_rlasso_basic_post = [ coef( mean_residuals ) , stderror( mean_residuals ) ]\n",
    "R2_rlasso_basic_post = 1 .- ( MSE_rlasso_basic_post[1] / var(Y_test[!,1]) ) \n"
   ]
  },
  {
   "cell_type": "markdown",
   "id": "b35330d0",
   "metadata": {},
   "source": [
    "## Flexible Model "
   ]
  },
  {
   "cell_type": "code",
   "execution_count": 89,
   "id": "8f324e88",
   "metadata": {},
   "outputs": [
    {
     "data": {
      "text/html": [
       "<div class=\"data-frame\"><p>21,912 rows × 137 columns (omitted printing of 129 columns)</p><table class=\"data-frame\"><thead><tr><th></th><th>(Intercept)</th><th>female</th><th>widowed</th><th>divorced</th><th>separated</th><th>nevermarried</th><th>hsd08</th><th>hsd911</th></tr><tr><th></th><th title=\"Float64\">Float64</th><th title=\"Float64\">Float64</th><th title=\"Float64\">Float64</th><th title=\"Float64\">Float64</th><th title=\"Float64\">Float64</th><th title=\"Float64\">Float64</th><th title=\"Float64\">Float64</th><th title=\"Float64\">Float64</th></tr></thead><tbody><tr><th>1</th><td>1.0</td><td>1.0</td><td>0.0</td><td>0.0</td><td>0.0</td><td>0.0</td><td>0.0</td><td>0.0</td></tr><tr><th>2</th><td>1.0</td><td>0.0</td><td>0.0</td><td>0.0</td><td>0.0</td><td>0.0</td><td>0.0</td><td>0.0</td></tr><tr><th>3</th><td>1.0</td><td>0.0</td><td>0.0</td><td>0.0</td><td>0.0</td><td>0.0</td><td>0.0</td><td>0.0</td></tr><tr><th>4</th><td>1.0</td><td>1.0</td><td>0.0</td><td>0.0</td><td>0.0</td><td>0.0</td><td>0.0</td><td>0.0</td></tr><tr><th>5</th><td>1.0</td><td>1.0</td><td>0.0</td><td>0.0</td><td>0.0</td><td>0.0</td><td>0.0</td><td>0.0</td></tr><tr><th>6</th><td>1.0</td><td>1.0</td><td>0.0</td><td>0.0</td><td>0.0</td><td>0.0</td><td>0.0</td><td>0.0</td></tr><tr><th>7</th><td>1.0</td><td>0.0</td><td>0.0</td><td>0.0</td><td>0.0</td><td>0.0</td><td>0.0</td><td>0.0</td></tr><tr><th>8</th><td>1.0</td><td>1.0</td><td>1.0</td><td>0.0</td><td>0.0</td><td>0.0</td><td>0.0</td><td>0.0</td></tr><tr><th>9</th><td>1.0</td><td>1.0</td><td>0.0</td><td>0.0</td><td>0.0</td><td>0.0</td><td>0.0</td><td>0.0</td></tr><tr><th>10</th><td>1.0</td><td>0.0</td><td>0.0</td><td>0.0</td><td>0.0</td><td>0.0</td><td>0.0</td><td>0.0</td></tr><tr><th>11</th><td>1.0</td><td>1.0</td><td>0.0</td><td>0.0</td><td>0.0</td><td>1.0</td><td>0.0</td><td>0.0</td></tr><tr><th>12</th><td>1.0</td><td>0.0</td><td>0.0</td><td>0.0</td><td>0.0</td><td>0.0</td><td>0.0</td><td>0.0</td></tr><tr><th>13</th><td>1.0</td><td>0.0</td><td>0.0</td><td>0.0</td><td>0.0</td><td>0.0</td><td>0.0</td><td>0.0</td></tr><tr><th>14</th><td>1.0</td><td>1.0</td><td>0.0</td><td>1.0</td><td>0.0</td><td>0.0</td><td>0.0</td><td>0.0</td></tr><tr><th>15</th><td>1.0</td><td>1.0</td><td>0.0</td><td>1.0</td><td>0.0</td><td>0.0</td><td>0.0</td><td>0.0</td></tr><tr><th>16</th><td>1.0</td><td>0.0</td><td>0.0</td><td>0.0</td><td>0.0</td><td>0.0</td><td>0.0</td><td>0.0</td></tr><tr><th>17</th><td>1.0</td><td>1.0</td><td>0.0</td><td>1.0</td><td>0.0</td><td>0.0</td><td>0.0</td><td>0.0</td></tr><tr><th>18</th><td>1.0</td><td>1.0</td><td>0.0</td><td>0.0</td><td>0.0</td><td>0.0</td><td>0.0</td><td>0.0</td></tr><tr><th>19</th><td>1.0</td><td>1.0</td><td>0.0</td><td>1.0</td><td>0.0</td><td>0.0</td><td>0.0</td><td>0.0</td></tr><tr><th>20</th><td>1.0</td><td>0.0</td><td>0.0</td><td>0.0</td><td>0.0</td><td>0.0</td><td>0.0</td><td>0.0</td></tr><tr><th>21</th><td>1.0</td><td>0.0</td><td>0.0</td><td>0.0</td><td>0.0</td><td>0.0</td><td>0.0</td><td>0.0</td></tr><tr><th>22</th><td>1.0</td><td>0.0</td><td>0.0</td><td>0.0</td><td>0.0</td><td>1.0</td><td>0.0</td><td>0.0</td></tr><tr><th>23</th><td>1.0</td><td>1.0</td><td>0.0</td><td>0.0</td><td>0.0</td><td>0.0</td><td>0.0</td><td>0.0</td></tr><tr><th>24</th><td>1.0</td><td>1.0</td><td>0.0</td><td>0.0</td><td>0.0</td><td>0.0</td><td>0.0</td><td>0.0</td></tr><tr><th>25</th><td>1.0</td><td>1.0</td><td>0.0</td><td>1.0</td><td>0.0</td><td>0.0</td><td>0.0</td><td>0.0</td></tr><tr><th>26</th><td>1.0</td><td>1.0</td><td>0.0</td><td>0.0</td><td>0.0</td><td>0.0</td><td>0.0</td><td>0.0</td></tr><tr><th>27</th><td>1.0</td><td>0.0</td><td>0.0</td><td>1.0</td><td>0.0</td><td>0.0</td><td>0.0</td><td>0.0</td></tr><tr><th>28</th><td>1.0</td><td>1.0</td><td>0.0</td><td>0.0</td><td>0.0</td><td>0.0</td><td>0.0</td><td>0.0</td></tr><tr><th>29</th><td>1.0</td><td>1.0</td><td>0.0</td><td>0.0</td><td>0.0</td><td>0.0</td><td>0.0</td><td>0.0</td></tr><tr><th>30</th><td>1.0</td><td>0.0</td><td>0.0</td><td>0.0</td><td>0.0</td><td>1.0</td><td>0.0</td><td>0.0</td></tr><tr><th>&vellip;</th><td>&vellip;</td><td>&vellip;</td><td>&vellip;</td><td>&vellip;</td><td>&vellip;</td><td>&vellip;</td><td>&vellip;</td><td>&vellip;</td></tr></tbody></table></div>"
      ],
      "text/latex": [
       "\\begin{tabular}{r|ccccccccc}\n",
       "\t& (Intercept) & female & widowed & divorced & separated & nevermarried & hsd08 & hsd911 & \\\\\n",
       "\t\\hline\n",
       "\t& Float64 & Float64 & Float64 & Float64 & Float64 & Float64 & Float64 & Float64 & \\\\\n",
       "\t\\hline\n",
       "\t1 & 1.0 & 1.0 & 0.0 & 0.0 & 0.0 & 0.0 & 0.0 & 0.0 & $\\dots$ \\\\\n",
       "\t2 & 1.0 & 0.0 & 0.0 & 0.0 & 0.0 & 0.0 & 0.0 & 0.0 & $\\dots$ \\\\\n",
       "\t3 & 1.0 & 0.0 & 0.0 & 0.0 & 0.0 & 0.0 & 0.0 & 0.0 & $\\dots$ \\\\\n",
       "\t4 & 1.0 & 1.0 & 0.0 & 0.0 & 0.0 & 0.0 & 0.0 & 0.0 & $\\dots$ \\\\\n",
       "\t5 & 1.0 & 1.0 & 0.0 & 0.0 & 0.0 & 0.0 & 0.0 & 0.0 & $\\dots$ \\\\\n",
       "\t6 & 1.0 & 1.0 & 0.0 & 0.0 & 0.0 & 0.0 & 0.0 & 0.0 & $\\dots$ \\\\\n",
       "\t7 & 1.0 & 0.0 & 0.0 & 0.0 & 0.0 & 0.0 & 0.0 & 0.0 & $\\dots$ \\\\\n",
       "\t8 & 1.0 & 1.0 & 1.0 & 0.0 & 0.0 & 0.0 & 0.0 & 0.0 & $\\dots$ \\\\\n",
       "\t9 & 1.0 & 1.0 & 0.0 & 0.0 & 0.0 & 0.0 & 0.0 & 0.0 & $\\dots$ \\\\\n",
       "\t10 & 1.0 & 0.0 & 0.0 & 0.0 & 0.0 & 0.0 & 0.0 & 0.0 & $\\dots$ \\\\\n",
       "\t11 & 1.0 & 1.0 & 0.0 & 0.0 & 0.0 & 1.0 & 0.0 & 0.0 & $\\dots$ \\\\\n",
       "\t12 & 1.0 & 0.0 & 0.0 & 0.0 & 0.0 & 0.0 & 0.0 & 0.0 & $\\dots$ \\\\\n",
       "\t13 & 1.0 & 0.0 & 0.0 & 0.0 & 0.0 & 0.0 & 0.0 & 0.0 & $\\dots$ \\\\\n",
       "\t14 & 1.0 & 1.0 & 0.0 & 1.0 & 0.0 & 0.0 & 0.0 & 0.0 & $\\dots$ \\\\\n",
       "\t15 & 1.0 & 1.0 & 0.0 & 1.0 & 0.0 & 0.0 & 0.0 & 0.0 & $\\dots$ \\\\\n",
       "\t16 & 1.0 & 0.0 & 0.0 & 0.0 & 0.0 & 0.0 & 0.0 & 0.0 & $\\dots$ \\\\\n",
       "\t17 & 1.0 & 1.0 & 0.0 & 1.0 & 0.0 & 0.0 & 0.0 & 0.0 & $\\dots$ \\\\\n",
       "\t18 & 1.0 & 1.0 & 0.0 & 0.0 & 0.0 & 0.0 & 0.0 & 0.0 & $\\dots$ \\\\\n",
       "\t19 & 1.0 & 1.0 & 0.0 & 1.0 & 0.0 & 0.0 & 0.0 & 0.0 & $\\dots$ \\\\\n",
       "\t20 & 1.0 & 0.0 & 0.0 & 0.0 & 0.0 & 0.0 & 0.0 & 0.0 & $\\dots$ \\\\\n",
       "\t21 & 1.0 & 0.0 & 0.0 & 0.0 & 0.0 & 0.0 & 0.0 & 0.0 & $\\dots$ \\\\\n",
       "\t22 & 1.0 & 0.0 & 0.0 & 0.0 & 0.0 & 1.0 & 0.0 & 0.0 & $\\dots$ \\\\\n",
       "\t23 & 1.0 & 1.0 & 0.0 & 0.0 & 0.0 & 0.0 & 0.0 & 0.0 & $\\dots$ \\\\\n",
       "\t24 & 1.0 & 1.0 & 0.0 & 0.0 & 0.0 & 0.0 & 0.0 & 0.0 & $\\dots$ \\\\\n",
       "\t25 & 1.0 & 1.0 & 0.0 & 1.0 & 0.0 & 0.0 & 0.0 & 0.0 & $\\dots$ \\\\\n",
       "\t26 & 1.0 & 1.0 & 0.0 & 0.0 & 0.0 & 0.0 & 0.0 & 0.0 & $\\dots$ \\\\\n",
       "\t27 & 1.0 & 0.0 & 0.0 & 1.0 & 0.0 & 0.0 & 0.0 & 0.0 & $\\dots$ \\\\\n",
       "\t28 & 1.0 & 1.0 & 0.0 & 0.0 & 0.0 & 0.0 & 0.0 & 0.0 & $\\dots$ \\\\\n",
       "\t29 & 1.0 & 1.0 & 0.0 & 0.0 & 0.0 & 0.0 & 0.0 & 0.0 & $\\dots$ \\\\\n",
       "\t30 & 1.0 & 0.0 & 0.0 & 0.0 & 0.0 & 1.0 & 0.0 & 0.0 & $\\dots$ \\\\\n",
       "\t$\\dots$ & $\\dots$ & $\\dots$ & $\\dots$ & $\\dots$ & $\\dots$ & $\\dots$ & $\\dots$ & $\\dots$ &  \\\\\n",
       "\\end{tabular}\n"
      ],
      "text/plain": [
       "\u001b[1m21912×137 DataFrame\u001b[0m\n",
       "\u001b[1m   Row \u001b[0m│\u001b[1m (Intercept) \u001b[0m\u001b[1m female  \u001b[0m\u001b[1m widowed \u001b[0m\u001b[1m divorced \u001b[0m\u001b[1m separated \u001b[0m\u001b[1m nevermarried \u001b[0m\u001b[1m hsd\u001b[0m ⋯\n",
       "\u001b[1m       \u001b[0m│\u001b[90m Float64     \u001b[0m\u001b[90m Float64 \u001b[0m\u001b[90m Float64 \u001b[0m\u001b[90m Float64  \u001b[0m\u001b[90m Float64   \u001b[0m\u001b[90m Float64      \u001b[0m\u001b[90m Flo\u001b[0m ⋯\n",
       "───────┼────────────────────────────────────────────────────────────────────────\n",
       "     1 │         1.0      1.0      0.0       0.0        0.0           0.0      ⋯\n",
       "     2 │         1.0      0.0      0.0       0.0        0.0           0.0\n",
       "     3 │         1.0      0.0      0.0       0.0        0.0           0.0\n",
       "     4 │         1.0      1.0      0.0       0.0        0.0           0.0\n",
       "     5 │         1.0      1.0      0.0       0.0        0.0           0.0      ⋯\n",
       "     6 │         1.0      1.0      0.0       0.0        0.0           0.0\n",
       "     7 │         1.0      0.0      0.0       0.0        0.0           0.0\n",
       "     8 │         1.0      1.0      1.0       0.0        0.0           0.0\n",
       "     9 │         1.0      1.0      0.0       0.0        0.0           0.0      ⋯\n",
       "    10 │         1.0      0.0      0.0       0.0        0.0           0.0\n",
       "    11 │         1.0      1.0      0.0       0.0        0.0           1.0\n",
       "   ⋮   │      ⋮          ⋮        ⋮        ⋮          ⋮           ⋮            ⋱\n",
       " 21903 │         1.0      0.0      0.0       0.0        0.0           0.0\n",
       " 21904 │         1.0      1.0      0.0       0.0        0.0           0.0      ⋯\n",
       " 21905 │         1.0      1.0      0.0       0.0        0.0           0.0\n",
       " 21906 │         1.0      1.0      0.0       0.0        0.0           0.0\n",
       " 21907 │         1.0      0.0      0.0       0.0        0.0           0.0\n",
       " 21908 │         1.0      1.0      0.0       0.0        0.0           0.0      ⋯\n",
       " 21909 │         1.0      1.0      0.0       0.0        0.0           1.0\n",
       " 21910 │         1.0      1.0      0.0       0.0        0.0           0.0\n",
       " 21911 │         1.0      1.0      0.0       0.0        0.0           0.0\n",
       " 21912 │         1.0      1.0      0.0       0.0        0.0           0.0      ⋯\n",
       "\u001b[36m                                              131 columns and 21891 rows omitted\u001b[0m"
      ]
     },
     "execution_count": 89,
     "metadata": {},
     "output_type": "execute_result"
    }
   ],
   "source": [
    "names_col2 = Symbol.(coefnames(fit_lm_flex))\n",
    "X2 = DataFrame(model_X_flex_train, names_col2 )"
   ]
  },
  {
   "cell_type": "code",
   "execution_count": 90,
   "id": "46222b6c",
   "metadata": {},
   "outputs": [
    {
     "data": {
      "text/plain": [
       "1-element Vector{Float64}:\n",
       " 0.2429304764005944"
      ]
     },
     "execution_count": 90,
     "metadata": {},
     "output_type": "execute_result"
    }
   ],
   "source": [
    "# Flex - model\n",
    "# Not post - lasso (HDM)\n",
    "\n",
    "\n",
    "rlasso_flex  = rlasso_arg( X2, Y_train, nothing, false, false, true, false, false, \n",
    "                    nothing, 1.1, nothing, 5000, 15, 10^(-5), -Inf, true, Inf, true )\n",
    "\n",
    "fit_rlasso_flex = rlasso(rlasso_flex)\n",
    "\n",
    "\n",
    "# post - lasso (HDM)\n",
    "rlasso_flex_post  = rlasso_arg( X2, Y_train, nothing, true, false, true, false, false, \n",
    "                    nothing, 1.1, nothing, 5000, 15, 10^(-5), -Inf, true, Inf, true )\n",
    "\n",
    "fit_rlasso_flex_post = rlasso(rlasso_flex_post)\n",
    "\n",
    "yhat_rlasso_flex = model_X_flex_test*fit_rlasso_flex[\"coefficients\"] \n",
    "yhat_rlasso_flex_post = model_X_flex_test*fit_rlasso_flex_post[\"coefficients\"] \n",
    "\n",
    "\n",
    "res_rlasso_flex = ( Y_test[!,1] - yhat_rlasso_flex ).^ 2\n",
    "matrix_ones = ones( size(res_rlasso_flex)[1] ,1 )\n",
    "mean_residuals = lm(  matrix_ones, res_rlasso_flex )  \n",
    "MSE_rlasso_flex = [ coef( mean_residuals ) , stderror( mean_residuals ) ]\n",
    "R2_rlasso_flex = 1 .- ( MSE_rlasso_flex[1] / var(Y_test[!,1]) ) \n",
    "\n",
    "res_rlasso_flex_post = ( Y_test[!,1] - yhat_rlasso_flex_post ).^ 2\n",
    "matrix_ones = ones( size(res_rlasso_flex_post)[1] ,1 )\n",
    "mean_residuals = lm(  matrix_ones, res_rlasso_flex_post )  \n",
    "MSE_rlasso_flex_post = [ coef( mean_residuals ) , stderror( mean_residuals ) ]\n",
    "R2_rlasso_flex_post = 1 .- ( MSE_rlasso_flex_post[1] / var(Y_test[!,1]) ) \n"
   ]
  },
  {
   "cell_type": "markdown",
   "id": "43e64c27",
   "metadata": {
    "papermill": {
     "duration": 0.049543,
     "end_time": "2021-02-13T18:19:47.757271",
     "exception": false,
     "start_time": "2021-02-13T18:19:47.707728",
     "status": "completed"
    },
    "tags": []
   },
   "source": [
    "Now, we repeat the same procedure for the flexible model."
   ]
  },
  {
   "cell_type": "markdown",
   "id": "817a6b4f",
   "metadata": {
    "papermill": {
     "duration": 0.04206,
     "end_time": "2021-02-13T18:19:51.353816",
     "exception": false,
     "start_time": "2021-02-13T18:19:51.311756",
     "status": "completed"
    },
    "tags": []
   },
   "source": [
    "It is worth to notice that lasso regression works better for the more complex model."
   ]
  },
  {
   "cell_type": "markdown",
   "id": "01d258e7",
   "metadata": {
    "papermill": {
     "duration": 0.041452,
     "end_time": "2021-02-13T18:19:51.436401",
     "exception": false,
     "start_time": "2021-02-13T18:19:51.394949",
     "status": "completed"
    },
    "tags": []
   },
   "source": [
    "In contrast to a theoretical based choice of the tuning parameter $\\lambda$ in the lasso regression, we can also use cross-validation to determine the penalty level by applying the package *glmnet* and the function cv.glmnet. In this context, we also run a ridge and a elastic net regression by adjusting the parameter *alpha*."
   ]
  },
  {
   "cell_type": "code",
   "execution_count": 91,
   "id": "75c2c6f4",
   "metadata": {},
   "outputs": [
    {
     "name": "stderr",
     "output_type": "stream",
     "text": [
      "WARNING: using GLMNet.predict in module Main conflicts with an existing identifier.\n",
      "WARNING: using GLMNet.coef in module Main conflicts with an existing identifier.\n"
     ]
    }
   ],
   "source": [
    "#import Pkg; Pkg.add(\"GLMNet\")\n",
    "using GLMNet"
   ]
  },
  {
   "cell_type": "code",
   "execution_count": 93,
   "id": "538008a2",
   "metadata": {},
   "outputs": [
    {
     "data": {
      "text/plain": [
       "1-element Vector{Float64}:\n",
       " 0.11790348189933608"
      ]
     },
     "execution_count": 93,
     "metadata": {},
     "output_type": "execute_result"
    }
   ],
   "source": [
    "fit_lasso_cv   = GLMNet.glmnetcv(model_X_basic_train, Y_train[!,1], alpha=1)\n",
    "fit_ridge   = GLMNet.glmnetcv(model_X_basic_train, Y_train[!,1], alpha=0)\n",
    "fit_elnet   = GLMNet.glmnetcv(model_X_basic_train, Y_train[!,1], alpha= 0.5)\n",
    "\n",
    "yhat_lasso_cv    = GLMNet.predict(fit_lasso_cv,  model_X_basic_test)\n",
    "yhat_ridge   = GLMNet.predict(fit_ridge,  model_X_basic_test)\n",
    "yhat_elnet   = GLMNet.predict(fit_elnet,  model_X_basic_test)\n",
    "\n",
    "res_lasso_cv = ( Y_test[!,1] - yhat_lasso_cv ) .^ 2\n",
    "mean_residuals = lm(  matrix_ones, res_lasso_cv )\n",
    "MSE_lasso_cv = [ coef( mean_residuals ) , stderror( mean_residuals ) ]\n",
    "\n",
    "res_ridge = ( Y_test[!,1] - yhat_ridge ) .^ 2\n",
    "mean_residuals = lm(  matrix_ones, res_ridge )\n",
    "MSE_ridge = [ coef( mean_residuals ) , stderror( mean_residuals ) ]\n",
    "\n",
    "res_elnet = ( Y_test[!,1] - yhat_elnet ) .^ 2\n",
    "mean_residuals = lm(  matrix_ones, res_elnet )\n",
    "MSE_elnet = [ coef( mean_residuals ) , stderror( mean_residuals ) ]\n",
    "\n",
    "R2_lasso_cv = 1 .- ( MSE_lasso_cv[1] / var( Y_test[!,1] ) )\n",
    "R2_ridge = 1 .- ( MSE_ridge[1] / var( Y_test[!,1] ) )\n",
    "R2_elnet = 1 .- ( MSE_elnet[1] / var( Y_test[!,1] ) )\n"
   ]
  },
  {
   "cell_type": "markdown",
   "id": "9c6b7e41",
   "metadata": {
    "papermill": {
     "duration": 0.042613,
     "end_time": "2021-02-13T18:19:53.812553",
     "exception": false,
     "start_time": "2021-02-13T18:19:53.769940",
     "status": "completed"
    },
    "tags": []
   },
   "source": [
    "Note that the following calculations for the flexible model need some computation time."
   ]
  },
  {
   "cell_type": "code",
   "execution_count": 94,
   "id": "514be972",
   "metadata": {},
   "outputs": [
    {
     "data": {
      "text/plain": [
       "0.25038274567453134"
      ]
     },
     "execution_count": 94,
     "metadata": {},
     "output_type": "execute_result"
    }
   ],
   "source": [
    "fit_lasso_cv_flex   = GLMNet.glmnetcv(model_X_flex_train, Y_train[!,1], alpha=1)\n",
    "fit_ridge_flex   = GLMNet.glmnetcv(model_X_flex_train, Y_train[!,1], alpha=0)\n",
    "fit_elnet_flex   = GLMNet.glmnetcv(model_X_flex_train, Y_train[!,1], alpha= 0.5)\n",
    "\n",
    "yhat_lasso_cv_flex    = GLMNet.predict(fit_lasso_cv_flex,  model_X_flex_test)\n",
    "yhat_ridge_flex   = GLMNet.predict(fit_ridge_flex,  model_X_flex_test)\n",
    "yhat_elnet_flex   = GLMNet.predict(fit_elnet_flex,  model_X_flex_test)\n",
    "\n",
    "res_lasso_cv_flex = ( Y_test[!,1] - yhat_lasso_cv_flex ) .^ 2\n",
    "mean_residuals = lm(  matrix_ones, res_lasso_cv_flex )\n",
    "MSE_lasso_cv_flex = [ coef( mean_residuals ) , stderror( mean_residuals ) ]\n",
    "\n",
    "res_ridge_flex = ( Y_test[!,1] - yhat_ridge_flex ) .^ 2\n",
    "mean_residuals = lm(  matrix_ones, res_ridge_flex )\n",
    "MSE_ridge_flex = [ coef( mean_residuals ) , stderror( mean_residuals ) ]\n",
    "\n",
    "res_elnet_flex = ( Y_test[!,1] - yhat_elnet_flex ) .^ 2\n",
    "mean_residuals = lm(  matrix_ones, res_elnet_flex )\n",
    "MSE_elnet_flex = [ coef( mean_residuals ) , stderror( mean_residuals ) ]\n",
    "\n",
    "R2_lasso_cv_flex = ( 1 .- ( MSE_lasso_cv_flex[1] / var( Y_test[!,1] ) ) )[1]\n",
    "R2_ridge_flex = ( 1 .- ( MSE_ridge_flex[1] / var( Y_test[!,1] ) ) )[1]\n",
    "R2_elnet_flex = ( 1 .- ( MSE_elnet_flex[1] / var( Y_test[!,1] ) ) )[1]\n"
   ]
  },
  {
   "cell_type": "markdown",
   "id": "85ba790c",
   "metadata": {
    "papermill": {
     "duration": 0.04263,
     "end_time": "2021-02-13T18:20:07.529566",
     "exception": false,
     "start_time": "2021-02-13T18:20:07.486936",
     "status": "completed"
    },
    "tags": []
   },
   "source": [
    "The performance of the lasso regression with cross-validated penalty is quite similar to the performance of lasso using a theoretical based choice of the tuning parameter."
   ]
  },
  {
   "cell_type": "markdown",
   "id": "a7ae70d3",
   "metadata": {
    "papermill": {
     "duration": 0.042859,
     "end_time": "2021-02-13T18:20:07.614751",
     "exception": false,
     "start_time": "2021-02-13T18:20:07.571892",
     "status": "completed"
    },
    "tags": []
   },
   "source": [
    "## Non-linear models"
   ]
  },
  {
   "cell_type": "markdown",
   "id": "be607cb3",
   "metadata": {
    "papermill": {
     "duration": 0.042125,
     "end_time": "2021-02-13T18:20:07.699092",
     "exception": false,
     "start_time": "2021-02-13T18:20:07.656967",
     "status": "completed"
    },
    "tags": []
   },
   "source": [
    "Besides linear regression models, we consider nonlinear regression models to build a predictive model. We are applying regression trees, random forests, boosted trees and neural nets to estimate the regression function $g(X)$. First, we load the relevant libraries"
   ]
  },
  {
   "cell_type": "code",
   "execution_count": 34,
   "id": "46fa030c",
   "metadata": {},
   "outputs": [],
   "source": [
    "#import Pkg; Pkg.add( \"ScikitLearn\" )\n",
    "\n",
    "#import Pkg; Pkg.add(\"DecisionTree\")"
   ]
  },
  {
   "cell_type": "markdown",
   "id": "9b799fd2",
   "metadata": {},
   "source": [
    "Lathe has no model for random forest regression"
   ]
  },
  {
   "cell_type": "code",
   "execution_count": 95,
   "id": "164868a2",
   "metadata": {},
   "outputs": [
    {
     "name": "stderr",
     "output_type": "stream",
     "text": [
      "WARNING: using DecisionTree.predict in module Main conflicts with an existing identifier.\n"
     ]
    }
   ],
   "source": [
    "using ScikitLearn, DecisionTree"
   ]
  },
  {
   "cell_type": "markdown",
   "id": "3488bdf8",
   "metadata": {},
   "source": [
    "## Using build_tree\n",
    "\n",
    "#### model = build_tree(labels, features,   n_subfeatures,   max_depth,   min_samples_leaf,  min_samples_split,  min_purity_increase)"
   ]
  },
  {
   "cell_type": "code",
   "execution_count": 96,
   "id": "68c2c0ed",
   "metadata": {
    "scrolled": true
   },
   "outputs": [
    {
     "data": {
      "text/plain": [
       "Decision Tree\n",
       "Leaves: 890\n",
       "Depth:  22"
      ]
     },
     "execution_count": 96,
     "metadata": {},
     "output_type": "execute_result"
    }
   ],
   "source": [
    "model = build_tree(Y_train[!,1], model_X_basic_train)"
   ]
  },
  {
   "cell_type": "code",
   "execution_count": 149,
   "id": "99369c5f",
   "metadata": {
    "scrolled": false
   },
   "outputs": [
    {
     "data": {
      "text/plain": [
       "Decision Tree\n",
       "Leaves: 32\n",
       "Depth:  11"
      ]
     },
     "execution_count": 149,
     "metadata": {},
     "output_type": "execute_result"
    }
   ],
   "source": [
    "#Prune tree\n",
    "\n",
    "model = build_tree(Y_train[!,1], model_X_basic_train, 0, 11,1,2,0.006)\n",
    "\n",
    "#n_subfeatures = 0\n",
    "#max_depth = 11\n",
    "# min_samples_leaf = 1\n",
    "# min_samples_split = 2\n",
    "# min_purity_increase = 0.006"
   ]
  },
  {
   "cell_type": "markdown",
   "id": "64ae9110",
   "metadata": {},
   "source": [
    "https://github.com/bensadeghi/DecisionTree.jl\n",
    "\n",
    "https://docs.juliahub.com/DecisionTree/pEDeB/0.10.5/"
   ]
  },
  {
   "cell_type": "markdown",
   "id": "2dcdfb10",
   "metadata": {
    "papermill": {
     "duration": 0.04206,
     "end_time": "2021-02-13T18:19:51.353816",
     "exception": false,
     "start_time": "2021-02-13T18:19:51.311756",
     "status": "completed"
    },
    "tags": []
   },
   "source": [
    "It is worth to notice that lasso regression works better for the more complex model."
   ]
  },
  {
   "cell_type": "markdown",
   "id": "7dddbe6b",
   "metadata": {
    "papermill": {
     "duration": 0.041452,
     "end_time": "2021-02-13T18:19:51.436401",
     "exception": false,
     "start_time": "2021-02-13T18:19:51.394949",
     "status": "completed"
    },
    "tags": []
   },
   "source": [
    "In contrast to a theoretical based choice of the tuning parameter $\\lambda$ in the lasso regression, we can also use cross-validation to determine the penalty level by applying the package *glmnet* and the function cv.glmnet. In this context, we also run a ridge and a elastic net regression by adjusting the parameter *alpha*."
   ]
  },
  {
   "cell_type": "code",
   "execution_count": 150,
   "id": "a3d4709f",
   "metadata": {},
   "outputs": [
    {
     "data": {
      "text/plain": [
       "7305-element Vector{Float64}:\n",
       " 2.5029087408669666\n",
       " 2.903619152514961\n",
       " 2.5029087408669666\n",
       " 2.5029087408669666\n",
       " 2.903619152514961\n",
       " 2.903619152514961\n",
       " 2.903619152514961\n",
       " 2.903619152514961\n",
       " 2.897098822800502\n",
       " 2.5029087408669666\n",
       " 2.903619152514961\n",
       " 2.903619152514961\n",
       " 2.903619152514961\n",
       " ⋮\n",
       " 2.903619152514961\n",
       " 2.903619152514961\n",
       " 2.5029087408669666\n",
       " 2.63628306919746\n",
       " 2.903619152514961\n",
       " 2.5029087408669666\n",
       " 2.890112781324435\n",
       " 2.903619152514961\n",
       " 3.0957540599253988\n",
       " 2.903619152514961\n",
       " 3.0957540599253988\n",
       " 2.903619152514961"
      ]
     },
     "execution_count": 150,
     "metadata": {},
     "output_type": "execute_result"
    }
   ],
   "source": [
    "y_hat_tree = apply_tree(model, model_X_basic_test)"
   ]
  },
  {
   "cell_type": "code",
   "execution_count": 151,
   "id": "6091a884",
   "metadata": {
    "scrolled": true
   },
   "outputs": [
    {
     "name": "stdout",
     "output_type": "stream",
     "text": [
      "R^2 using Prune - tree:0.04803104423131266"
     ]
    }
   ],
   "source": [
    "res_tree = ( Y_test[!,1] - y_hat_tree ) .^ 2\n",
    "mean_residuals = lm(  matrix_ones, res_tree )\n",
    "MSE_prune_tree = [ coef( mean_residuals ) , stderror( mean_residuals ) ]\n",
    "\n",
    "R2_prune_tree = ( 1 .- ( MSE_tree[1] / var( Y_test[!,1] ) ) )[1]\n",
    "\n",
    "print(\"R^2 using Prune - tree:\", R2_tree)"
   ]
  },
  {
   "cell_type": "markdown",
   "id": "20407a84",
   "metadata": {
    "papermill": {
     "duration": 0.052403,
     "end_time": "2021-02-13T18:21:08.603976",
     "exception": false,
     "start_time": "2021-02-13T18:21:08.551573",
     "status": "completed"
    },
    "tags": []
   },
   "source": [
    "## Results"
   ]
  },
  {
   "cell_type": "code",
   "execution_count": 152,
   "id": "b8a4612c",
   "metadata": {},
   "outputs": [
    {
     "data": {
      "text/html": [
       "<!DOCTYPE html>\n",
       "<html>\n",
       "<meta charset=\"UTF-8\">\n",
       "<style>\n",
       "  table, td, th {\n",
       "      border-collapse: collapse;\n",
       "      font-family: sans-serif;\n",
       "  }\n",
       "\n",
       "  td, th {\n",
       "      border-bottom: 0;\n",
       "      padding: 4px\n",
       "  }\n",
       "\n",
       "  tr:nth-child(odd) {\n",
       "      background: #eee;\n",
       "  }\n",
       "\n",
       "  tr:nth-child(even) {\n",
       "      background: #fff;\n",
       "  }\n",
       "\n",
       "  tr.header {\n",
       "      background: navy !important;\n",
       "      color: white;\n",
       "      font-weight: bold;\n",
       "  }\n",
       "\n",
       "  tr.subheader {\n",
       "      background: lightgray !important;\n",
       "      color: black;\n",
       "  }\n",
       "\n",
       "  tr.headerLastRow {\n",
       "      border-bottom: 2px solid black;\n",
       "  }\n",
       "\n",
       "  th.rowNumber, td.rowNumber {\n",
       "      text-align: right;\n",
       "  }\n",
       "\n",
       "</style>\n",
       "<body>\n",
       "<table>\n",
       "  <thead>\n",
       "    <tr class = \"header headerLastRow\">\n",
       "      <th style = \"text-align: center;\">Model</th>\n",
       "      <th style = \"text-align: center;\">MSE</th>\n",
       "      <th style = \"text-align: center;\">S.E. for MSE</th>\n",
       "      <th style = \"text-align: center;\">R-squared</th>\n",
       "    </tr>\n",
       "  </thead>\n",
       "  <tbody>\n",
       "    <tr>\n",
       "      <td style = \"text-align: center;\">Least Squares (basic)</td>\n",
       "      <td style = \"text-align: center;\">0.3952</td>\n",
       "      <td style = \"text-align: center;\">0.0232</td>\n",
       "      <td style = \"text-align: center;\">0.1187</td>\n",
       "    </tr>\n",
       "    <tr>\n",
       "      <td style = \"text-align: center;\">Least Squares (flexible)</td>\n",
       "      <td style = \"text-align: center;\">0.3369</td>\n",
       "      <td style = \"text-align: center;\">0.0234</td>\n",
       "      <td style = \"text-align: center;\">0.2487</td>\n",
       "    </tr>\n",
       "    <tr>\n",
       "      <td style = \"text-align: center;\">Lasso</td>\n",
       "      <td style = \"text-align: center;\">0.4028</td>\n",
       "      <td style = \"text-align: center;\">0.0233</td>\n",
       "      <td style = \"text-align: center;\">0.1016</td>\n",
       "    </tr>\n",
       "    <tr>\n",
       "      <td style = \"text-align: center;\">Post-Lasso</td>\n",
       "      <td style = \"text-align: center;\">0.3982</td>\n",
       "      <td style = \"text-align: center;\">0.0231</td>\n",
       "      <td style = \"text-align: center;\">0.1121</td>\n",
       "    </tr>\n",
       "    <tr>\n",
       "      <td style = \"text-align: center;\">Lasso (flexible)</td>\n",
       "      <td style = \"text-align: center;\">0.3465</td>\n",
       "      <td style = \"text-align: center;\">0.0231</td>\n",
       "      <td style = \"text-align: center;\">0.2272</td>\n",
       "    </tr>\n",
       "    <tr>\n",
       "      <td style = \"text-align: center;\">Post-Lasso (flexible)</td>\n",
       "      <td style = \"text-align: center;\">0.3395</td>\n",
       "      <td style = \"text-align: center;\">0.0231</td>\n",
       "      <td style = \"text-align: center;\">0.2429</td>\n",
       "    </tr>\n",
       "    <tr>\n",
       "      <td style = \"text-align: center;\">Cross-Validated lasso</td>\n",
       "      <td style = \"text-align: center;\">0.3955</td>\n",
       "      <td style = \"text-align: center;\">0.0232</td>\n",
       "      <td style = \"text-align: center;\">0.118</td>\n",
       "    </tr>\n",
       "    <tr>\n",
       "      <td style = \"text-align: center;\">Cross-Validated ridge</td>\n",
       "      <td style = \"text-align: center;\">0.3965</td>\n",
       "      <td style = \"text-align: center;\">0.0232</td>\n",
       "      <td style = \"text-align: center;\">0.1158</td>\n",
       "    </tr>\n",
       "    <tr>\n",
       "      <td style = \"text-align: center;\">Cross-Validated elnet</td>\n",
       "      <td style = \"text-align: center;\">0.3955</td>\n",
       "      <td style = \"text-align: center;\">0.0232</td>\n",
       "      <td style = \"text-align: center;\">0.1179</td>\n",
       "    </tr>\n",
       "    <tr>\n",
       "      <td style = \"text-align: center;\">Cross-Validated lasso (flexible)</td>\n",
       "      <td style = \"text-align: center;\">0.3362</td>\n",
       "      <td style = \"text-align: center;\">0.0233</td>\n",
       "      <td style = \"text-align: center;\">0.2503</td>\n",
       "    </tr>\n",
       "    <tr>\n",
       "      <td style = \"text-align: center;\">Cross-Validated ridge (flexible)</td>\n",
       "      <td style = \"text-align: center;\">0.3365</td>\n",
       "      <td style = \"text-align: center;\">0.0232</td>\n",
       "      <td style = \"text-align: center;\">0.2497</td>\n",
       "    </tr>\n",
       "    <tr>\n",
       "      <td style = \"text-align: center;\">Cross-Validated elnet (flexible)</td>\n",
       "      <td style = \"text-align: center;\">0.3361</td>\n",
       "      <td style = \"text-align: center;\">0.0233</td>\n",
       "      <td style = \"text-align: center;\">0.2504</td>\n",
       "    </tr>\n",
       "    <tr>\n",
       "      <td style = \"text-align: center;\">Pruned Tree</td>\n",
       "      <td style = \"text-align: center;\">0.3982</td>\n",
       "      <td style = \"text-align: center;\">0.0231</td>\n",
       "      <td style = \"text-align: center;\">0.048</td>\n",
       "    </tr>\n",
       "  </tbody>\n",
       "</table>\n",
       "</body>\n",
       "</html>\n"
      ]
     },
     "metadata": {},
     "output_type": "display_data"
    }
   ],
   "source": [
    "table = NamedArray(zeros(13, 4))\n",
    "\n",
    "table[1,2:3] = [MSE_lm_basic[1][1], MSE_lm_basic[2][1]]\n",
    "table[2,2:3] = [MSE_lm_flex[1][1], MSE_lm_flex[2][1]]\n",
    "table[3,2:3] = [MSE_rlasso_basic[1][1], MSE_rlasso_basic[2][1]]\n",
    "table[4,2:3] = [MSE_rlasso_basic_post[1][1], MSE_rlasso_basic_post[2][1]]\n",
    "table[5,2:3] = [MSE_rlasso_flex[1][1], MSE_rlasso_flex[2][1]]\n",
    "table[6,2:3] = [MSE_rlasso_flex_post[1][1], MSE_rlasso_flex_post[2][1]]\n",
    "table[7,2:3] = [MSE_lasso_cv[1][1], MSE_lasso_cv[2][1]]\n",
    "table[8,2:3] = [MSE_ridge[1][1], MSE_ridge[2][1]]\n",
    "table[9,2:3] = [MSE_elnet[1][1], MSE_elnet[2][1]]\n",
    "table[10,2:3] = [MSE_lasso_cv_flex[1][1], MSE_lasso_cv_flex[2][1]]\n",
    "table[11,2:3] = [MSE_ridge_flex[1][1], MSE_ridge_flex[2][1]]\n",
    "table[12,2:3] = [MSE_elnet_flex[1][1], MSE_elnet_flex[2][1]]\n",
    "table[13,2:3] = [MSE_prune_tree[1][1], MSE_prune_tree[2][1]]\n",
    "\n",
    "table[1,4] = R2_lm_basic[1]\n",
    "table[2,4] = R2_lm_flex[1]\n",
    "table[3,4] = R2_rlasso_basic[1]\n",
    "table[4,4] = R2_rlasso_basic_post[1]\n",
    "table[5,4] = R2_rlasso_flex[1]\n",
    "table[6,4] = R2_rlasso_flex_post[1]\n",
    "table[7,4] = R2_lasso_cv[1]\n",
    "table[8,4] = R2_ridge[1]\n",
    "table[9,4] = R2_elnet[1]\n",
    "table[10,4] = R2_lasso_cv_flex[1]\n",
    "table[11,4] = R2_ridge_flex[1]\n",
    "table[12,4] = R2_elnet_flex[1]\n",
    "table[13,4] = R2_prune_tree[1]\n",
    "\n",
    "T = DataFrame(table, [ :\"Model\",:\"MSE\", :\"S.E. for MSE\", :\"R-squared\"]) \n",
    "T[!,:Model] = string.(T[!,:Model]) \n",
    "\n",
    "T[1,1] = \"Least Squares (basic)\"\n",
    "T[2,1] = \"Least Squares (flexible)\"\n",
    "T[3,1] = \"Lasso\"\n",
    "T[4,1] = \"Post-Lasso\"\n",
    "T[5,1] = \"Lasso (flexible)\"\n",
    "T[6,1] = \"Post-Lasso (flexible)\"\n",
    "T[7,1] = \"Cross-Validated lasso\"\n",
    "T[8,1] = \"Cross-Validated ridge\"\n",
    "T[9,1] = \"Cross-Validated elnet\"\n",
    "T[10,1] = \"Cross-Validated lasso (flexible)\"\n",
    "T[11,1] = \"Cross-Validated ridge (flexible)\"\n",
    "T[12,1] = \"Cross-Validated elnet (flexible)\"\n",
    "T[13,1] = \"Pruned Tree\"\n",
    "\n",
    "header = ([\"Model\", \"MSE\", \"S.E. for MSE\", \"R-squared\"])\n",
    "\n",
    "pretty_table(T; backend = Val(:html), header = header, formatters=ft_round(4), alignment=:c)"
   ]
  }
 ],
 "metadata": {
  "kernelspec": {
   "display_name": "Julia 1.7.3",
   "language": "julia",
   "name": "julia-1.7"
  },
  "language_info": {
   "file_extension": ".jl",
   "mimetype": "application/julia",
   "name": "julia",
   "version": "1.7.3"
  }
 },
 "nbformat": 4,
 "nbformat_minor": 5
}
