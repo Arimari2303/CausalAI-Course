{
 "cells": [
  {
   "cell_type": "markdown",
   "id": "95d5750a",
   "metadata": {},
   "source": [
    "## 1.0 Boostrap\n",
    "\n",
    "In this lab, we analyze the Pennsylvania re-employment bonus experiment, which was previously studied in \"Sequential testing of duration data: the case of the Pennsylvania ‘reemployment bonus’ experiment\" (Bilias, 2000), among others. These experiments were conducted in the 1980s by the U.S. Department of Labor to test the incentive effects of alternative compensation schemes for unemployment insurance (UI). In these experiments, UI claimants were randomly assigned either to a control group or one of five treatment groups. Actually, there are six treatment groups in the experiments. Here we focus on treatment group 4, but feel free to explore other treatment groups. In the control group the current rules of the UI applied. Individuals in the treatment groups were offered a cash bonus if they found a job within some pre-specified period of time (qualification period), provided that the job was retained for a specified duration. The treatments differed in the level of the bonus, the length of the qualification period, and whether the bonus was declining over time in the qualification period; see http://qed.econ.queensu.ca/jae/2000-v15.6/bilias/readme.b.txt for further details on data."
   ]
  },
  {
   "cell_type": "code",
   "execution_count": 1,
   "id": "3c5abe3e",
   "metadata": {
    "scrolled": true
   },
   "outputs": [
    {
     "name": "stderr",
     "output_type": "stream",
     "text": [
      "Loading required package: zoo\n",
      "\n",
      "\n",
      "Attaching package: 'zoo'\n",
      "\n",
      "\n",
      "The following objects are masked from 'package:base':\n",
      "\n",
      "    as.Date, as.Date.numeric\n",
      "\n",
      "\n"
     ]
    }
   ],
   "source": [
    "library(boot) # to get boostrap \n",
    "library(lmtest)\n",
    "library(sandwich)"
   ]
  },
  {
   "cell_type": "code",
   "execution_count": 58,
   "id": "fe5ec7f5",
   "metadata": {},
   "outputs": [
    {
     "name": "stderr",
     "output_type": "stream",
     "text": [
      "The following object is masked _by_ .GlobalEnv:\n",
      "\n",
      "    T4\n",
      "\n",
      "\n",
      "The following objects are masked from Penn (pos = 3):\n",
      "\n",
      "    abdt, agegt54, agelt35, black, dep, durable, female, hispanic,\n",
      "    husd, inuidur1, inuidur2, lusd, muld, nondurable, othrace, q1, q2,\n",
      "    q3, q4, q5, q6, recall, T4, tg\n",
      "\n",
      "\n",
      "The following objects are masked from Penn (pos = 4):\n",
      "\n",
      "    abdt, agegt54, agelt35, black, dep, durable, female, hispanic,\n",
      "    husd, inuidur1, inuidur2, lusd, muld, nondurable, othrace, q1, q2,\n",
      "    q3, q4, q5, q6, recall, tg\n",
      "\n",
      "\n",
      "The following objects are masked from Penn (pos = 5):\n",
      "\n",
      "    abdt, agegt54, agelt35, black, dep, durable, female, hispanic,\n",
      "    husd, inuidur1, inuidur2, lusd, muld, nondurable, othrace, q1, q2,\n",
      "    q3, q4, q5, q6, recall, tg\n",
      "\n",
      "\n"
     ]
    }
   ],
   "source": [
    "## loading the data\n",
    "Penn <- as.data.frame(read.table(\"../../../data/penn_jae.dat\", header=T ))\n",
    "n <- dim(Penn)[1]\n",
    "p_1 <- dim(Penn)[2]\n",
    "Penn<- subset(Penn, tg==4 | tg==0)\n",
    "Penn$T4 <- tg\n",
    "attach(Penn)"
   ]
  },
  {
   "cell_type": "code",
   "execution_count": 59,
   "id": "d1ead4d9",
   "metadata": {},
   "outputs": [],
   "source": [
    "Penn$T4 <- replace(T4, T4 == 4, 1)"
   ]
  },
  {
   "cell_type": "code",
   "execution_count": 60,
   "id": "918a8f1b",
   "metadata": {},
   "outputs": [
    {
     "data": {
      "text/html": [
       "<table class=\"dataframe\">\n",
       "<caption>A data.frame: 6 × 24</caption>\n",
       "<thead>\n",
       "\t<tr><th></th><th scope=col>abdt</th><th scope=col>tg</th><th scope=col>inuidur1</th><th scope=col>inuidur2</th><th scope=col>female</th><th scope=col>black</th><th scope=col>hispanic</th><th scope=col>othrace</th><th scope=col>dep</th><th scope=col>q1</th><th scope=col>⋯</th><th scope=col>q6</th><th scope=col>recall</th><th scope=col>agelt35</th><th scope=col>agegt54</th><th scope=col>durable</th><th scope=col>nondurable</th><th scope=col>lusd</th><th scope=col>husd</th><th scope=col>muld</th><th scope=col>T4</th></tr>\n",
       "\t<tr><th></th><th scope=col>&lt;int&gt;</th><th scope=col>&lt;int&gt;</th><th scope=col>&lt;int&gt;</th><th scope=col>&lt;int&gt;</th><th scope=col>&lt;int&gt;</th><th scope=col>&lt;int&gt;</th><th scope=col>&lt;int&gt;</th><th scope=col>&lt;int&gt;</th><th scope=col>&lt;int&gt;</th><th scope=col>&lt;int&gt;</th><th scope=col>⋯</th><th scope=col>&lt;int&gt;</th><th scope=col>&lt;int&gt;</th><th scope=col>&lt;int&gt;</th><th scope=col>&lt;int&gt;</th><th scope=col>&lt;int&gt;</th><th scope=col>&lt;int&gt;</th><th scope=col>&lt;int&gt;</th><th scope=col>&lt;int&gt;</th><th scope=col>&lt;int&gt;</th><th scope=col>&lt;dbl&gt;</th></tr>\n",
       "</thead>\n",
       "<tbody>\n",
       "\t<tr><th scope=row>1</th><td>10824</td><td>0</td><td>18</td><td>18</td><td>0</td><td>0</td><td>0</td><td>0</td><td>2</td><td>0</td><td>⋯</td><td>0</td><td>0</td><td>0</td><td>0</td><td>0</td><td>0</td><td>0</td><td>1</td><td>0</td><td>0</td></tr>\n",
       "\t<tr><th scope=row>4</th><td>10824</td><td>0</td><td> 1</td><td> 1</td><td>0</td><td>0</td><td>0</td><td>0</td><td>0</td><td>0</td><td>⋯</td><td>0</td><td>0</td><td>0</td><td>0</td><td>0</td><td>0</td><td>1</td><td>0</td><td>0</td><td>0</td></tr>\n",
       "\t<tr><th scope=row>5</th><td>10747</td><td>0</td><td>27</td><td>27</td><td>0</td><td>0</td><td>0</td><td>0</td><td>0</td><td>0</td><td>⋯</td><td>0</td><td>0</td><td>0</td><td>0</td><td>0</td><td>0</td><td>1</td><td>0</td><td>0</td><td>0</td></tr>\n",
       "\t<tr><th scope=row>12</th><td>10607</td><td>4</td><td> 9</td><td> 9</td><td>0</td><td>0</td><td>0</td><td>0</td><td>0</td><td>0</td><td>⋯</td><td>0</td><td>0</td><td>1</td><td>0</td><td>0</td><td>0</td><td>0</td><td>0</td><td>1</td><td>1</td></tr>\n",
       "\t<tr><th scope=row>13</th><td>10831</td><td>0</td><td>27</td><td>27</td><td>0</td><td>0</td><td>0</td><td>0</td><td>1</td><td>0</td><td>⋯</td><td>0</td><td>0</td><td>0</td><td>1</td><td>1</td><td>0</td><td>1</td><td>0</td><td>0</td><td>0</td></tr>\n",
       "\t<tr><th scope=row>14</th><td>10845</td><td>0</td><td>27</td><td>27</td><td>1</td><td>0</td><td>0</td><td>0</td><td>0</td><td>0</td><td>⋯</td><td>0</td><td>0</td><td>0</td><td>1</td><td>0</td><td>0</td><td>1</td><td>0</td><td>0</td><td>0</td></tr>\n",
       "</tbody>\n",
       "</table>\n"
      ],
      "text/latex": [
       "A data.frame: 6 × 24\n",
       "\\begin{tabular}{r|lllllllllllllllllllll}\n",
       "  & abdt & tg & inuidur1 & inuidur2 & female & black & hispanic & othrace & dep & q1 & ⋯ & q6 & recall & agelt35 & agegt54 & durable & nondurable & lusd & husd & muld & T4\\\\\n",
       "  & <int> & <int> & <int> & <int> & <int> & <int> & <int> & <int> & <int> & <int> & ⋯ & <int> & <int> & <int> & <int> & <int> & <int> & <int> & <int> & <int> & <dbl>\\\\\n",
       "\\hline\n",
       "\t1 & 10824 & 0 & 18 & 18 & 0 & 0 & 0 & 0 & 2 & 0 & ⋯ & 0 & 0 & 0 & 0 & 0 & 0 & 0 & 1 & 0 & 0\\\\\n",
       "\t4 & 10824 & 0 &  1 &  1 & 0 & 0 & 0 & 0 & 0 & 0 & ⋯ & 0 & 0 & 0 & 0 & 0 & 0 & 1 & 0 & 0 & 0\\\\\n",
       "\t5 & 10747 & 0 & 27 & 27 & 0 & 0 & 0 & 0 & 0 & 0 & ⋯ & 0 & 0 & 0 & 0 & 0 & 0 & 1 & 0 & 0 & 0\\\\\n",
       "\t12 & 10607 & 4 &  9 &  9 & 0 & 0 & 0 & 0 & 0 & 0 & ⋯ & 0 & 0 & 1 & 0 & 0 & 0 & 0 & 0 & 1 & 1\\\\\n",
       "\t13 & 10831 & 0 & 27 & 27 & 0 & 0 & 0 & 0 & 1 & 0 & ⋯ & 0 & 0 & 0 & 1 & 1 & 0 & 1 & 0 & 0 & 0\\\\\n",
       "\t14 & 10845 & 0 & 27 & 27 & 1 & 0 & 0 & 0 & 0 & 0 & ⋯ & 0 & 0 & 0 & 1 & 0 & 0 & 1 & 0 & 0 & 0\\\\\n",
       "\\end{tabular}\n"
      ],
      "text/markdown": [
       "\n",
       "A data.frame: 6 × 24\n",
       "\n",
       "| <!--/--> | abdt &lt;int&gt; | tg &lt;int&gt; | inuidur1 &lt;int&gt; | inuidur2 &lt;int&gt; | female &lt;int&gt; | black &lt;int&gt; | hispanic &lt;int&gt; | othrace &lt;int&gt; | dep &lt;int&gt; | q1 &lt;int&gt; | ⋯ ⋯ | q6 &lt;int&gt; | recall &lt;int&gt; | agelt35 &lt;int&gt; | agegt54 &lt;int&gt; | durable &lt;int&gt; | nondurable &lt;int&gt; | lusd &lt;int&gt; | husd &lt;int&gt; | muld &lt;int&gt; | T4 &lt;dbl&gt; |\n",
       "|---|---|---|---|---|---|---|---|---|---|---|---|---|---|---|---|---|---|---|---|---|---|\n",
       "| 1 | 10824 | 0 | 18 | 18 | 0 | 0 | 0 | 0 | 2 | 0 | ⋯ | 0 | 0 | 0 | 0 | 0 | 0 | 0 | 1 | 0 | 0 |\n",
       "| 4 | 10824 | 0 |  1 |  1 | 0 | 0 | 0 | 0 | 0 | 0 | ⋯ | 0 | 0 | 0 | 0 | 0 | 0 | 1 | 0 | 0 | 0 |\n",
       "| 5 | 10747 | 0 | 27 | 27 | 0 | 0 | 0 | 0 | 0 | 0 | ⋯ | 0 | 0 | 0 | 0 | 0 | 0 | 1 | 0 | 0 | 0 |\n",
       "| 12 | 10607 | 4 |  9 |  9 | 0 | 0 | 0 | 0 | 0 | 0 | ⋯ | 0 | 0 | 1 | 0 | 0 | 0 | 0 | 0 | 1 | 1 |\n",
       "| 13 | 10831 | 0 | 27 | 27 | 0 | 0 | 0 | 0 | 1 | 0 | ⋯ | 0 | 0 | 0 | 1 | 1 | 0 | 1 | 0 | 0 | 0 |\n",
       "| 14 | 10845 | 0 | 27 | 27 | 1 | 0 | 0 | 0 | 0 | 0 | ⋯ | 0 | 0 | 0 | 1 | 0 | 0 | 1 | 0 | 0 | 0 |\n",
       "\n"
      ],
      "text/plain": [
       "   abdt  tg inuidur1 inuidur2 female black hispanic othrace dep q1 ⋯ q6 recall\n",
       "1  10824 0  18       18       0      0     0        0       2   0  ⋯ 0  0     \n",
       "4  10824 0   1        1       0      0     0        0       0   0  ⋯ 0  0     \n",
       "5  10747 0  27       27       0      0     0        0       0   0  ⋯ 0  0     \n",
       "12 10607 4   9        9       0      0     0        0       0   0  ⋯ 0  0     \n",
       "13 10831 0  27       27       0      0     0        0       1   0  ⋯ 0  0     \n",
       "14 10845 0  27       27       1      0     0        0       0   0  ⋯ 0  0     \n",
       "   agelt35 agegt54 durable nondurable lusd husd muld T4\n",
       "1  0       0       0       0          0    1    0    0 \n",
       "4  0       0       0       0          1    0    0    0 \n",
       "5  0       0       0       0          1    0    0    0 \n",
       "12 1       0       0       0          0    0    1    1 \n",
       "13 0       1       1       0          1    0    0    0 \n",
       "14 0       1       0       0          1    0    0    0 "
      ]
     },
     "metadata": {},
     "output_type": "display_data"
    }
   ],
   "source": [
    "head(Penn)"
   ]
  },
  {
   "cell_type": "code",
   "execution_count": 61,
   "id": "0a5a5177",
   "metadata": {},
   "outputs": [],
   "source": [
    "boot.fn <- function(data, index)\n",
    "  coef(lm(log(inuidur1) ~ T4+female+black+othrace+factor(dep)+q2+q3+q4+q5+q6+agelt35+agegt54+durable+lusd+husd, data = data, subset = index))"
   ]
  },
  {
   "cell_type": "code",
   "execution_count": 62,
   "id": "dcdde176",
   "metadata": {},
   "outputs": [
    {
     "data": {
      "text/plain": [
       "\n",
       "ORDINARY NONPARAMETRIC BOOTSTRAP\n",
       "\n",
       "\n",
       "Call:\n",
       "boot(data = Penn, statistic = boot.fn, R = 1000)\n",
       "\n",
       "\n",
       "Bootstrap Statistics :\n",
       "         original        bias    std. error\n",
       "t1*   2.178462326  1.158480e-03  0.15440645\n",
       "t2*  -0.071692484 -3.524273e-04  0.03557456\n",
       "t3*   0.126368328  8.394803e-04  0.03516956\n",
       "t4*  -0.293767980  5.101116e-04  0.06033968\n",
       "t5*  -0.472445058 -5.488755e-03  0.24363226\n",
       "t6*   0.029866899  7.606843e-04  0.05553680\n",
       "t7*   0.096186517 -1.161955e-03  0.04527565\n",
       "t8*   0.073678072 -1.130668e-03  0.15201926\n",
       "t9*  -0.038506537 -4.256760e-04  0.14967519\n",
       "t10* -0.054949195 -8.952685e-04  0.15070895\n",
       "t11* -0.144177912 -1.587659e-03  0.14981234\n",
       "t12*  0.003361318 -3.816678e-03  0.16107836\n",
       "t13* -0.162772168  1.778627e-03  0.03822653\n",
       "t14*  0.229666708  2.239486e-04  0.05818025\n",
       "t15*  0.126557359  1.210092e-05  0.04855636\n",
       "t16* -0.175352572 -6.636363e-04  0.04096754\n",
       "t17* -0.105224727 -7.223598e-04  0.04517278"
      ]
     },
     "metadata": {},
     "output_type": "display_data"
    }
   ],
   "source": [
    "set.seed(1)\n",
    "reg_lineal = boot(Penn, boot.fn, 1000)\n",
    "reg_lineal"
   ]
  },
  {
   "cell_type": "markdown",
   "id": "1911eaed",
   "metadata": {},
   "source": [
    "## 2.0 Comparative models "
   ]
  },
  {
   "cell_type": "code",
   "execution_count": 49,
   "id": "9a676272",
   "metadata": {},
   "outputs": [],
   "source": [
    "library(hdm)"
   ]
  },
  {
   "cell_type": "code",
   "execution_count": 50,
   "id": "18778540",
   "metadata": {},
   "outputs": [],
   "source": [
    "data(cps2012)\n",
    "\n",
    "data <- cps2012"
   ]
  },
  {
   "cell_type": "code",
   "execution_count": 51,
   "id": "9da127ac",
   "metadata": {},
   "outputs": [
    {
     "name": "stdout",
     "output_type": "stream",
     "text": [
      "'data.frame':\t29217 obs. of  23 variables:\n",
      " $ year        : num  2012 2012 2012 2012 2012 ...\n",
      " $ lnw         : num  1.91 1.37 2.54 1.8 3.35 ...\n",
      " $ female      : num  1 1 0 1 0 0 0 0 0 1 ...\n",
      " $ widowed     : num  0 0 0 0 0 0 0 0 0 0 ...\n",
      " $ divorced    : num  0 0 0 0 0 0 0 0 0 0 ...\n",
      " $ separated   : num  0 0 0 0 0 0 0 0 0 0 ...\n",
      " $ nevermarried: num  0 0 0 0 0 0 1 0 0 0 ...\n",
      " $ hsd08       : num  0 0 0 0 0 0 0 0 0 0 ...\n",
      " $ hsd911      : num  0 1 0 0 0 0 0 0 0 0 ...\n",
      " $ hsg         : num  0 0 1 1 0 1 1 0 0 0 ...\n",
      " $ cg          : num  0 0 0 0 1 0 0 0 1 0 ...\n",
      " $ ad          : num  0 0 0 0 0 0 0 0 0 0 ...\n",
      " $ mw          : num  0 0 0 0 0 0 0 0 0 0 ...\n",
      " $ so          : num  0 0 0 0 0 0 0 0 0 0 ...\n",
      " $ we          : num  0 0 0 0 0 0 0 0 0 0 ...\n",
      " $ exp1        : num  22 30 19 14 15 23 33 23.5 15 15.5 ...\n",
      " $ exp2        : num  4.84 9 3.61 1.96 2.25 ...\n",
      " $ exp3        : num  10.65 27 6.86 2.74 3.38 ...\n",
      " $ exp4        : num  23.43 81 13.03 3.84 5.06 ...\n",
      " $ weight      : num  569 626 264 257 257 ...\n",
      " $ married     : logi  TRUE TRUE TRUE TRUE TRUE TRUE ...\n",
      " $ ne          : logi  TRUE TRUE TRUE TRUE TRUE TRUE ...\n",
      " $ sc          : logi  TRUE FALSE FALSE FALSE FALSE FALSE ...\n"
     ]
    }
   ],
   "source": [
    "str(cps2012) # info from dataframe"
   ]
  },
  {
   "cell_type": "code",
   "execution_count": 52,
   "id": "a364dabb",
   "metadata": {
    "execution": {
     "iopub.execute_input": "2021-02-13T18:19:45.123907Z",
     "iopub.status.busy": "2021-02-13T18:19:45.122054Z",
     "iopub.status.idle": "2021-02-13T18:19:45.142976Z",
     "shell.execute_reply": "2021-02-13T18:19:45.141825Z"
    },
    "papermill": {
     "duration": 0.062188,
     "end_time": "2021-02-13T18:19:45.143118",
     "exception": false,
     "start_time": "2021-02-13T18:19:45.080930",
     "status": "completed"
    },
    "tags": []
   },
   "outputs": [],
   "source": [
    "set.seed(1234)\n",
    "\n",
    "training <- sample(nrow(data), nrow(data)*(3/4), replace=FALSE)\n",
    "\n",
    "data_train <- data[training,]\n",
    "data_test <- data[-training,]"
   ]
  },
  {
   "cell_type": "markdown",
   "id": "7596b321",
   "metadata": {
    "papermill": {
     "duration": 0.038774,
     "end_time": "2021-02-13T18:19:45.217757",
     "exception": false,
     "start_time": "2021-02-13T18:19:45.178983",
     "status": "completed"
    },
    "tags": []
   },
   "source": [
    "We construct the two different model matrices $X_{basic}$ and $X_{flex}$ for both the training and the test sample:"
   ]
  },
  {
   "cell_type": "code",
   "execution_count": 53,
   "id": "4c12e551",
   "metadata": {
    "execution": {
     "iopub.execute_input": "2021-02-13T18:19:45.294943Z",
     "iopub.status.busy": "2021-02-13T18:19:45.293619Z",
     "iopub.status.idle": "2021-02-13T18:19:45.347808Z",
     "shell.execute_reply": "2021-02-13T18:19:45.346525Z"
    },
    "papermill": {
     "duration": 0.094135,
     "end_time": "2021-02-13T18:19:45.347955",
     "exception": false,
     "start_time": "2021-02-13T18:19:45.253820",
     "status": "completed"
    },
    "tags": []
   },
   "outputs": [],
   "source": [
    "X_basic <-  \"female + female:(widowed + divorced + separated + nevermarried +\n",
    "hsd08 + hsd911 + hsg + cg + ad + mw + so + we + exp1 + exp2 + exp3)\"\n",
    "\n",
    "X_flex <- \"female + female:(widowed + divorced + separated + nevermarried +\n",
    "hsd08 + hsd911 + hsg + cg + ad + mw + so + we + exp1 + exp2 + exp3) + (widowed +\n",
    "divorced + separated + nevermarried + hsd08 + hsd911 + hsg + cg + ad + mw + so +\n",
    "we + exp1 + exp2 + exp3)^2\"\n",
    "\n",
    "formula_basic <- as.formula(paste(\"lnw\", \"~\", X_basic))\n",
    "formula_flex <- as.formula(paste(\"lnw\", \"~\", X_flex))\n",
    "\n",
    "model_X_basic_train <- model.matrix(formula_basic,data_train)\n",
    "model_X_basic_test <- model.matrix(formula_basic,data_test)\n",
    "\n",
    "model_X_flex_train <- model.matrix(formula_flex,data_train)\n",
    "model_X_flex_test <- model.matrix(formula_flex,data_test)\n",
    "\n",
    "model_X_basic_train <- model_X_basic_train[ , which(apply(model_X_basic_train, 2, var) != 0)]\n",
    "model_X_basic_test <- model_X_basic_test[ , which(apply(model_X_basic_test, 2, var) != 0)]\n",
    "model_X_flex_train <- model_X_flex_train[ , which(apply(model_X_flex_train, 2, var) != 0)]\n",
    "model_X_flex_test <- model_X_flex_test[ , which(apply(model_X_flex_test, 2, var) != 0)]# exclude all constant variables\n",
    "\n",
    "p_basic <- dim(model_X_basic_train)[2]\n",
    "p_flex <- dim(model_X_flex_train)[2]"
   ]
  },
  {
   "cell_type": "code",
   "execution_count": 54,
   "id": "d0b670a4",
   "metadata": {
    "execution": {
     "iopub.execute_input": "2021-02-13T18:19:45.427620Z",
     "iopub.status.busy": "2021-02-13T18:19:45.425988Z",
     "iopub.status.idle": "2021-02-13T18:19:45.445227Z",
     "shell.execute_reply": "2021-02-13T18:19:45.443481Z"
    },
    "papermill": {
     "duration": 0.060969,
     "end_time": "2021-02-13T18:19:45.445389",
     "exception": false,
     "start_time": "2021-02-13T18:19:45.384420",
     "status": "completed"
    },
    "tags": []
   },
   "outputs": [],
   "source": [
    "Y_train <- data_train$lnw\n",
    "Y_test <- data_test$lnw"
   ]
  },
  {
   "cell_type": "code",
   "execution_count": 55,
   "id": "f47ab218",
   "metadata": {
    "execution": {
     "iopub.execute_input": "2021-02-13T18:19:45.525496Z",
     "iopub.status.busy": "2021-02-13T18:19:45.523623Z",
     "iopub.status.idle": "2021-02-13T18:19:45.545044Z",
     "shell.execute_reply": "2021-02-13T18:19:45.543332Z"
    },
    "papermill": {
     "duration": 0.062723,
     "end_time": "2021-02-13T18:19:45.545189",
     "exception": false,
     "start_time": "2021-02-13T18:19:45.482466",
     "status": "completed"
    },
    "tags": []
   },
   "outputs": [
    {
     "data": {
      "text/html": [
       "16"
      ],
      "text/latex": [
       "16"
      ],
      "text/markdown": [
       "16"
      ],
      "text/plain": [
       "[1] 16"
      ]
     },
     "metadata": {},
     "output_type": "display_data"
    },
    {
     "data": {
      "text/html": [
       "116"
      ],
      "text/latex": [
       "116"
      ],
      "text/markdown": [
       "116"
      ],
      "text/plain": [
       "[1] 116"
      ]
     },
     "metadata": {},
     "output_type": "display_data"
    }
   ],
   "source": [
    "p_basic\n",
    "p_flex"
   ]
  },
  {
   "cell_type": "markdown",
   "id": "0872ec67",
   "metadata": {
    "papermill": {
     "duration": 0.038763,
     "end_time": "2021-02-13T18:19:45.699126",
     "exception": false,
     "start_time": "2021-02-13T18:19:45.660363",
     "status": "completed"
    },
    "tags": []
   },
   "source": [
    "### 2.1 OLS"
   ]
  },
  {
   "cell_type": "markdown",
   "id": "1dc34e6d",
   "metadata": {
    "papermill": {
     "duration": 0.039458,
     "end_time": "2021-02-13T18:19:45.779460",
     "exception": false,
     "start_time": "2021-02-13T18:19:45.740002",
     "status": "completed"
    },
    "tags": []
   },
   "source": [
    "We fit the basic model to our training data by running an ols regression and compute the mean squared error on the test sample."
   ]
  },
  {
   "cell_type": "code",
   "execution_count": 56,
   "id": "2ffe5769",
   "metadata": {
    "execution": {
     "iopub.execute_input": "2021-02-13T18:19:45.861949Z",
     "iopub.status.busy": "2021-02-13T18:19:45.860219Z",
     "iopub.status.idle": "2021-02-13T18:19:45.887011Z",
     "shell.execute_reply": "2021-02-13T18:19:45.885343Z"
    },
    "papermill": {
     "duration": 0.069537,
     "end_time": "2021-02-13T18:19:45.887169",
     "exception": false,
     "start_time": "2021-02-13T18:19:45.817632",
     "status": "completed"
    },
    "tags": []
   },
   "outputs": [
    {
     "data": {
      "text/plain": [
       "\n",
       "Call:\n",
       "lm(formula = formula_basic, data = data_train)\n",
       "\n",
       "Coefficients:\n",
       "        (Intercept)               female       female:widowed  \n",
       "            2.91033             -0.71193             -0.10023  \n",
       "    female:divorced     female:separated  female:nevermarried  \n",
       "           -0.01400             -0.08382             -0.02270  \n",
       "       female:hsd08        female:hsd911           female:hsg  \n",
       "           -0.74701             -0.51944             -0.17263  \n",
       "          female:cg            female:ad            female:mw  \n",
       "            0.36295              0.60386             -0.10492  \n",
       "          female:so            female:we          female:exp1  \n",
       "           -0.05738             -0.01726              0.04753  \n",
       "        female:exp2          female:exp3  \n",
       "           -0.20025              0.02943  \n"
      ]
     },
     "metadata": {},
     "output_type": "display_data"
    }
   ],
   "source": [
    "# ols (basic model)\n",
    "fit.lm.basic <- lm(formula_basic, data_train)\n",
    "fit.lm.basic"
   ]
  },
  {
   "cell_type": "code",
   "execution_count": 57,
   "id": "a23212ab",
   "metadata": {
    "execution": {
     "iopub.execute_input": "2021-02-13T18:19:45.968754Z",
     "iopub.status.busy": "2021-02-13T18:19:45.967421Z",
     "iopub.status.idle": "2021-02-13T18:19:45.999647Z",
     "shell.execute_reply": "2021-02-13T18:19:45.997473Z"
    },
    "papermill": {
     "duration": 0.074423,
     "end_time": "2021-02-13T18:19:45.999870",
     "exception": false,
     "start_time": "2021-02-13T18:19:45.925447",
     "status": "completed"
    },
    "tags": []
   },
   "outputs": [],
   "source": [
    "# Compute the Out-Of-Sample Performance\n",
    "yhat.lm.basic <- predict(fit.lm.basic, newdata=data_test)\n",
    "MSE.lm.basic <- summary(lm((Y_test-yhat.lm.basic)^2~1))$coef[1:2]\n",
    "R2.lm.basic <- 1-MSE.lm.basic[1]/var(Y_test)  "
   ]
  },
  {
   "cell_type": "code",
   "execution_count": 58,
   "id": "a2d6c88c",
   "metadata": {
    "execution": {
     "iopub.execute_input": "2021-02-13T18:19:46.576417Z",
     "iopub.status.busy": "2021-02-13T18:19:46.575228Z",
     "iopub.status.idle": "2021-02-13T18:19:46.730486Z",
     "shell.execute_reply": "2021-02-13T18:19:46.728575Z"
    },
    "papermill": {
     "duration": 0.198636,
     "end_time": "2021-02-13T18:19:46.730717",
     "exception": false,
     "start_time": "2021-02-13T18:19:46.532081",
     "status": "completed"
    },
    "tags": []
   },
   "outputs": [],
   "source": [
    "# ols (flexible model)\n",
    "fit.lm.flex <- lm(formula_flex, data_train) \n",
    "\n",
    "# Compute the Out-Of-Sample Performance\n",
    "options(warn=-1)\n",
    "\n",
    "yhat.lm.flex <- predict(fit.lm.flex, newdata=data_test)\n",
    "MSE.lm.flex <- summary(lm((Y_test-yhat.lm.flex)^2~1))$coef[1:2]\n",
    "\n",
    "R2.lm.flex <- 1-MSE.lm.flex[1]/var(Y_test)"
   ]
  },
  {
   "cell_type": "markdown",
   "id": "f7c82873",
   "metadata": {
    "papermill": {
     "duration": 0.051953,
     "end_time": "2021-02-13T18:19:46.853182",
     "exception": false,
     "start_time": "2021-02-13T18:19:46.801229",
     "status": "completed"
    },
    "tags": []
   },
   "source": [
    "We observe that ols regression works better for the basic model with smaller $p/n$ ratio. We are proceeding by running lasso regressions and its versions."
   ]
  },
  {
   "cell_type": "markdown",
   "id": "eb26a51c",
   "metadata": {
    "papermill": {
     "duration": 0.042521,
     "end_time": "2021-02-13T18:19:46.935859",
     "exception": false,
     "start_time": "2021-02-13T18:19:46.893338",
     "status": "completed"
    },
    "tags": []
   },
   "source": [
    "### 2.2 Lasso, Ridge and Elastic Net\n"
   ]
  },
  {
   "cell_type": "markdown",
   "id": "5fcf5e2b",
   "metadata": {
    "papermill": {
     "duration": 0.040161,
     "end_time": "2021-02-13T18:19:47.015626",
     "exception": false,
     "start_time": "2021-02-13T18:19:46.975465",
     "status": "completed"
    },
    "tags": []
   },
   "source": [
    "Considering the basic model, we run a lasso/post-lasso regression first and then we compute the measures for the out-of-sample performance. Note that applying the package *hdm* and the function *rlasso* we rely on a theoretical based choice of the penalty level $\\lambda$ in the lasso regression."
   ]
  },
  {
   "cell_type": "code",
   "execution_count": 59,
   "id": "a374bb20",
   "metadata": {
    "execution": {
     "iopub.execute_input": "2021-02-13T18:19:47.107560Z",
     "iopub.status.busy": "2021-02-13T18:19:47.102422Z",
     "iopub.status.idle": "2021-02-13T18:19:47.634039Z",
     "shell.execute_reply": "2021-02-13T18:19:47.630516Z"
    },
    "papermill": {
     "duration": 0.577781,
     "end_time": "2021-02-13T18:19:47.634269",
     "exception": false,
     "start_time": "2021-02-13T18:19:47.056488",
     "status": "completed"
    },
    "tags": []
   },
   "outputs": [],
   "source": [
    "# lasso and versions\n",
    "library(hdm) \n",
    "fit.rlasso  <- rlasso(formula_basic, data_train, post=FALSE)\n",
    "fit.rlasso.post <- rlasso(formula_basic, data_train, post=TRUE)\n",
    "\n",
    "yhat.rlasso   <- predict(fit.rlasso, newdata=data_test)\n",
    "yhat.rlasso.post   <- predict(fit.rlasso.post, newdata=data_test)\n",
    "\n",
    "MSE.lasso <- summary(lm((Y_test-yhat.rlasso)^2~1))$coef[1:2]\n",
    "MSE.lasso.post <- summary(lm((Y_test-yhat.rlasso.post)^2~1))$coef[1:2]\n",
    "\n",
    "R2.lasso <- 1-MSE.lasso[1]/var(Y_test)\n",
    "R2.lasso.post <- 1-MSE.lasso.post[1]/var(Y_test)"
   ]
  },
  {
   "cell_type": "markdown",
   "id": "e35289eb",
   "metadata": {
    "papermill": {
     "duration": 0.049543,
     "end_time": "2021-02-13T18:19:47.757271",
     "exception": false,
     "start_time": "2021-02-13T18:19:47.707728",
     "status": "completed"
    },
    "tags": []
   },
   "source": [
    "Now, we repeat the same procedure for the flexible model."
   ]
  },
  {
   "cell_type": "code",
   "execution_count": 60,
   "id": "416f3129",
   "metadata": {},
   "outputs": [],
   "source": [
    "fit.rlasso.flex  <- rlasso(formula_flex, data_train, post=FALSE)\n",
    "fit.rlasso.post.flex <- rlasso(formula_flex, data_train, post=TRUE)\n",
    "yhat.rlasso.flex   <- predict(fit.rlasso.flex, newdata=data_test)\n",
    "yhat.rlasso.post.flex   <- predict(fit.rlasso.post.flex, newdata=data_test)"
   ]
  },
  {
   "cell_type": "code",
   "execution_count": 61,
   "id": "29042045",
   "metadata": {
    "execution": {
     "iopub.execute_input": "2021-02-13T18:19:47.845841Z",
     "iopub.status.busy": "2021-02-13T18:19:47.845003Z",
     "iopub.status.idle": "2021-02-13T18:19:51.228723Z",
     "shell.execute_reply": "2021-02-13T18:19:51.217927Z"
    },
    "papermill": {
     "duration": 3.430649,
     "end_time": "2021-02-13T18:19:51.229007",
     "exception": false,
     "start_time": "2021-02-13T18:19:47.798358",
     "status": "completed"
    },
    "tags": []
   },
   "outputs": [],
   "source": [
    "fit.rlasso.flex  <- rlasso(formula_flex, data_train, post=FALSE)\n",
    "fit.rlasso.post.flex <- rlasso(formula_flex, data_train, post=TRUE)\n",
    "yhat.rlasso.flex   <- predict(fit.rlasso.flex, newdata=data_test)\n",
    "yhat.rlasso.post.flex   <- predict(fit.rlasso.post.flex, newdata=data_test)\n",
    "\n",
    "MSE.lasso.flex <- summary(lm((Y_test-yhat.rlasso.flex)^2~1))$coef[1:2]\n",
    "MSE.lasso.post.flex <- summary(lm((Y_test-yhat.rlasso.post.flex)^2~1))$coef[1:2]\n",
    "\n",
    "R2.lasso.flex <- 1-MSE.lasso.flex[1]/var(Y_test)\n",
    "R2.lasso.post.flex <- 1-MSE.lasso.post.flex[1]/var(Y_test) "
   ]
  },
  {
   "cell_type": "markdown",
   "id": "366a60e8",
   "metadata": {
    "papermill": {
     "duration": 0.04206,
     "end_time": "2021-02-13T18:19:51.353816",
     "exception": false,
     "start_time": "2021-02-13T18:19:51.311756",
     "status": "completed"
    },
    "tags": []
   },
   "source": [
    "It is worth to notice that lasso regression works better for the more complex model."
   ]
  },
  {
   "cell_type": "markdown",
   "id": "c2845e7c",
   "metadata": {
    "papermill": {
     "duration": 0.041452,
     "end_time": "2021-02-13T18:19:51.436401",
     "exception": false,
     "start_time": "2021-02-13T18:19:51.394949",
     "status": "completed"
    },
    "tags": []
   },
   "source": [
    "In contrast to a theoretical based choice of the tuning parameter $\\lambda$ in the lasso regression, we can also use cross-validation to determine the penalty level by applying the package *glmnet* and the function cv.glmnet. In this context, we also run a ridge and a elastic net regression by adjusting the parameter *alpha*."
   ]
  },
  {
   "cell_type": "code",
   "execution_count": 62,
   "id": "1397df65",
   "metadata": {
    "execution": {
     "iopub.execute_input": "2021-02-13T18:19:51.552849Z",
     "iopub.status.busy": "2021-02-13T18:19:51.551162Z",
     "iopub.status.idle": "2021-02-13T18:19:53.725572Z",
     "shell.execute_reply": "2021-02-13T18:19:53.724293Z"
    },
    "papermill": {
     "duration": 2.248453,
     "end_time": "2021-02-13T18:19:53.725885",
     "exception": false,
     "start_time": "2021-02-13T18:19:51.477432",
     "status": "completed"
    },
    "tags": []
   },
   "outputs": [
    {
     "name": "stderr",
     "output_type": "stream",
     "text": [
      "Loading required package: Matrix\n",
      "\n",
      "Loaded glmnet 4.1-4\n",
      "\n"
     ]
    },
    {
     "name": "stdout",
     "output_type": "stream",
     "text": [
      "R^2 using cross-validation for lasso, ridge and elastic net in the basic model: 0.08193926 0.09136083 0.08870976"
     ]
    }
   ],
   "source": [
    "library(glmnet)\n",
    "fit.lasso.cv   <- cv.glmnet(model_X_basic_train, Y_train, family=\"gaussian\", alpha=1)\n",
    "fit.ridge   <- cv.glmnet(model_X_basic_train, Y_train, family=\"gaussian\", alpha=0)\n",
    "fit.elnet   <- cv.glmnet(model_X_basic_train, Y_train, family=\"gaussian\", alpha=.5)\n",
    "\n",
    "yhat.lasso.cv    <- predict(fit.lasso.cv, newx = model_X_basic_test)\n",
    "yhat.ridge   <- predict(fit.ridge, newx = model_X_basic_test)\n",
    "yhat.elnet   <- predict(fit.elnet, newx = model_X_basic_test)\n",
    "\n",
    "MSE.lasso.cv <- summary(lm((Y_test-yhat.lasso.cv)^2~1))$coef[1:2]\n",
    "MSE.ridge <- summary(lm((Y_test-yhat.ridge)^2~1))$coef[1:2]\n",
    "MSE.elnet <- summary(lm((Y_test-yhat.elnet)^2~1))$coef[1:2]\n",
    "\n",
    "R2.lasso.cv <- 1-MSE.lasso.cv[1]/var(Y_test)\n",
    "R2.ridge <- 1-MSE.ridge[1]/var(Y_test)\n",
    "R2.elnet <- 1-MSE.elnet[1]/var(Y_test)\n"
   ]
  },
  {
   "cell_type": "markdown",
   "id": "a16030dc",
   "metadata": {
    "papermill": {
     "duration": 0.042613,
     "end_time": "2021-02-13T18:19:53.812553",
     "exception": false,
     "start_time": "2021-02-13T18:19:53.769940",
     "status": "completed"
    },
    "tags": []
   },
   "source": [
    "Note that the following calculations for the flexible model need some computation time."
   ]
  },
  {
   "cell_type": "code",
   "execution_count": 65,
   "id": "2eedf069",
   "metadata": {
    "execution": {
     "iopub.execute_input": "2021-02-13T18:19:53.902028Z",
     "iopub.status.busy": "2021-02-13T18:19:53.900666Z",
     "iopub.status.idle": "2021-02-13T18:20:07.442822Z",
     "shell.execute_reply": "2021-02-13T18:20:07.441296Z"
    },
    "papermill": {
     "duration": 13.588391,
     "end_time": "2021-02-13T18:20:07.443188",
     "exception": false,
     "start_time": "2021-02-13T18:19:53.854797",
     "status": "completed"
    },
    "tags": []
   },
   "outputs": [],
   "source": [
    "fit.lasso.cv.flex   <- cv.glmnet(model_X_flex_train, Y_train, family=\"gaussian\", alpha=1)\n",
    "fit.ridge.flex   <- cv.glmnet(model_X_flex_train, Y_train, family=\"gaussian\", alpha=0)\n",
    "fit.elnet.flex   <- cv.glmnet(model_X_flex_train, Y_train, family=\"gaussian\", alpha=.5)\n",
    "\n",
    "yhat.lasso.cv.flex    <- predict(fit.lasso.cv.flex , newx = model_X_flex_test)\n",
    "yhat.ridge.flex    <- predict(fit.ridge.flex , newx = model_X_flex_test)\n",
    "yhat.elnet.flex    <- predict(fit.elnet.flex , newx = model_X_flex_test)\n",
    "\n",
    "MSE.lasso.cv.flex  <- summary(lm((Y_test-yhat.lasso.cv.flex )^2~1))$coef[1:2]\n",
    "MSE.ridge.flex  <- summary(lm((Y_test-yhat.ridge.flex )^2~1))$coef[1:2]\n",
    "MSE.elnet.flex  <- summary(lm((Y_test-yhat.elnet.flex )^2~1))$coef[1:2]\n",
    "\n",
    "R2.lasso.cv.flex  <- 1-MSE.lasso.cv.flex [1]/var(Y_test)\n",
    "R2.ridge.flex  <- 1-MSE.ridge.flex [1]/var(Y_test)\n",
    "R2.elnet.flex  <- 1-MSE.elnet.flex [1]/var(Y_test)\n",
    "\n"
   ]
  },
  {
   "cell_type": "markdown",
   "id": "27cfff2f",
   "metadata": {
    "papermill": {
     "duration": 0.04263,
     "end_time": "2021-02-13T18:20:07.529566",
     "exception": false,
     "start_time": "2021-02-13T18:20:07.486936",
     "status": "completed"
    },
    "tags": []
   },
   "source": [
    "The performance of the lasso regression with cross-validated penalty is quite similar to the performance of lasso using a theoretical based choice of the tuning parameter."
   ]
  },
  {
   "cell_type": "markdown",
   "id": "a68f2e20",
   "metadata": {
    "papermill": {
     "duration": 0.042859,
     "end_time": "2021-02-13T18:20:07.614751",
     "exception": false,
     "start_time": "2021-02-13T18:20:07.571892",
     "status": "completed"
    },
    "tags": []
   },
   "source": [
    "## Non-linear models"
   ]
  },
  {
   "cell_type": "markdown",
   "id": "65d02793",
   "metadata": {
    "papermill": {
     "duration": 0.042125,
     "end_time": "2021-02-13T18:20:07.699092",
     "exception": false,
     "start_time": "2021-02-13T18:20:07.656967",
     "status": "completed"
    },
    "tags": []
   },
   "source": [
    "Besides linear regression models, we consider nonlinear regression models to build a predictive model. We are applying regression trees, random forests, boosted trees and neural nets to estimate the regression function $g(X)$. First, we load the relevant libraries"
   ]
  },
  {
   "cell_type": "code",
   "execution_count": 66,
   "id": "fbb4051e",
   "metadata": {
    "execution": {
     "iopub.execute_input": "2021-02-13T18:20:07.790700Z",
     "iopub.status.busy": "2021-02-13T18:20:07.789477Z",
     "iopub.status.idle": "2021-02-13T18:20:08.087479Z",
     "shell.execute_reply": "2021-02-13T18:20:08.086103Z"
    },
    "papermill": {
     "duration": 0.345105,
     "end_time": "2021-02-13T18:20:08.087641",
     "exception": false,
     "start_time": "2021-02-13T18:20:07.742536",
     "status": "completed"
    },
    "tags": []
   },
   "outputs": [
    {
     "name": "stderr",
     "output_type": "stream",
     "text": [
      "randomForest 4.7-1.1\n",
      "\n",
      "Type rfNews() to see new features/changes/bug fixes.\n",
      "\n",
      "Loaded gbm 2.1.8\n",
      "\n"
     ]
    }
   ],
   "source": [
    "library(randomForest)\n",
    "library(rpart)\n",
    "library(nnet)\n",
    "library(gbm)\n",
    "library(rpart.plot)\n",
    "library(keras)"
   ]
  },
  {
   "cell_type": "code",
   "execution_count": 3,
   "id": "5a282dec",
   "metadata": {},
   "outputs": [],
   "source": [
    "#install.packages(\"randomForest\")\n",
    "#install.packages(\"gbm\")\n",
    "#install.packages(\"keras\")"
   ]
  },
  {
   "cell_type": "markdown",
   "id": "1fdcacd9",
   "metadata": {
    "papermill": {
     "duration": 0.043418,
     "end_time": "2021-02-13T18:20:08.174622",
     "exception": false,
     "start_time": "2021-02-13T18:20:08.131204",
     "status": "completed"
    },
    "tags": []
   },
   "source": [
    "and we illustrate the application of regression trees."
   ]
  },
  {
   "cell_type": "markdown",
   "id": "6ed235f0",
   "metadata": {
    "papermill": {
     "duration": 0.043267,
     "end_time": "2021-02-13T18:20:08.261600",
     "exception": false,
     "start_time": "2021-02-13T18:20:08.218333",
     "status": "completed"
    },
    "tags": []
   },
   "source": [
    "### Regression Trees"
   ]
  },
  {
   "cell_type": "code",
   "execution_count": 72,
   "id": "e0dd66e3",
   "metadata": {},
   "outputs": [],
   "source": [
    "X_basic <-  \"female + widowed + divorced + separated + nevermarried +\n",
    "hsd08 + hsd911 + hsg + cg + ad + mw + so + we + exp1 + exp2 + exp3\"\n",
    "\n",
    "formula_basic <- as.formula(paste(\"lnw\", \"~\", X_basic))"
   ]
  },
  {
   "cell_type": "code",
   "execution_count": 73,
   "id": "556be887",
   "metadata": {},
   "outputs": [],
   "source": [
    "# Add penalization to prune tree\n",
    "\n",
    "fit.trees <- rpart(formula_basic, data_train, cp = 0.001)"
   ]
  },
  {
   "cell_type": "code",
   "execution_count": 74,
   "id": "5301946a",
   "metadata": {},
   "outputs": [
    {
     "data": {
      "image/png": "[encoded data removed]",
      "text/plain": [
       "plot without title"
      ]
     },
     "metadata": {
      "image/png": {
       "height": 420,
       "width": 420
      }
     },
     "output_type": "display_data"
    }
   ],
   "source": [
    "plotcp(fit.trees)"
   ]
  },
  {
   "cell_type": "code",
   "execution_count": 75,
   "id": "b7b6fa37",
   "metadata": {
    "scrolled": true
   },
   "outputs": [
    {
     "data": {
      "text/html": [
       "<table class=\"dataframe\">\n",
       "<caption>A matrix: 21 × 5 of type dbl</caption>\n",
       "<thead>\n",
       "\t<tr><th></th><th scope=col>CP</th><th scope=col>nsplit</th><th scope=col>rel error</th><th scope=col>xerror</th><th scope=col>xstd</th></tr>\n",
       "</thead>\n",
       "<tbody>\n",
       "\t<tr><th scope=row>1</th><td>0.081430568</td><td> 0</td><td>1.0000000</td><td>1.0002037</td><td>0.02439782</td></tr>\n",
       "\t<tr><th scope=row>2</th><td>0.066583565</td><td> 1</td><td>0.9185694</td><td>0.9189609</td><td>0.02396618</td></tr>\n",
       "\t<tr><th scope=row>3</th><td>0.023898064</td><td> 2</td><td>0.8519859</td><td>0.8523982</td><td>0.02370871</td></tr>\n",
       "\t<tr><th scope=row>4</th><td>0.012678659</td><td> 3</td><td>0.8280878</td><td>0.8285399</td><td>0.02356942</td></tr>\n",
       "\t<tr><th scope=row>5</th><td>0.010605052</td><td> 4</td><td>0.8154091</td><td>0.8161512</td><td>0.02367272</td></tr>\n",
       "\t<tr><th scope=row>6</th><td>0.009387934</td><td> 5</td><td>0.8048041</td><td>0.8070745</td><td>0.02375306</td></tr>\n",
       "\t<tr><th scope=row>7</th><td>0.007983296</td><td> 6</td><td>0.7954162</td><td>0.7962691</td><td>0.02362839</td></tr>\n",
       "\t<tr><th scope=row>8</th><td>0.004177217</td><td> 7</td><td>0.7874329</td><td>0.7883533</td><td>0.02355229</td></tr>\n",
       "\t<tr><th scope=row>9</th><td>0.002648821</td><td> 8</td><td>0.7832556</td><td>0.7852669</td><td>0.02353560</td></tr>\n",
       "\t<tr><th scope=row>10</th><td>0.002615364</td><td>10</td><td>0.7779580</td><td>0.7837859</td><td>0.02358478</td></tr>\n",
       "\t<tr><th scope=row>11</th><td>0.002601857</td><td>11</td><td>0.7753426</td><td>0.7832582</td><td>0.02358505</td></tr>\n",
       "\t<tr><th scope=row>12</th><td>0.001756100</td><td>12</td><td>0.7727408</td><td>0.7757270</td><td>0.02357004</td></tr>\n",
       "\t<tr><th scope=row>13</th><td>0.001541961</td><td>13</td><td>0.7709847</td><td>0.7741296</td><td>0.02361103</td></tr>\n",
       "\t<tr><th scope=row>14</th><td>0.001440929</td><td>14</td><td>0.7694427</td><td>0.7743840</td><td>0.02363337</td></tr>\n",
       "\t<tr><th scope=row>15</th><td>0.001421361</td><td>15</td><td>0.7680018</td><td>0.7733792</td><td>0.02362976</td></tr>\n",
       "\t<tr><th scope=row>16</th><td>0.001347171</td><td>16</td><td>0.7665804</td><td>0.7733528</td><td>0.02363633</td></tr>\n",
       "\t<tr><th scope=row>17</th><td>0.001245009</td><td>18</td><td>0.7638861</td><td>0.7717888</td><td>0.02363014</td></tr>\n",
       "\t<tr><th scope=row>18</th><td>0.001213494</td><td>19</td><td>0.7626411</td><td>0.7708861</td><td>0.02366402</td></tr>\n",
       "\t<tr><th scope=row>19</th><td>0.001171251</td><td>20</td><td>0.7614276</td><td>0.7707893</td><td>0.02366443</td></tr>\n",
       "\t<tr><th scope=row>20</th><td>0.001103153</td><td>21</td><td>0.7602563</td><td>0.7702826</td><td>0.02368302</td></tr>\n",
       "\t<tr><th scope=row>21</th><td>0.001000000</td><td>22</td><td>0.7591532</td><td>0.7686402</td><td>0.02364646</td></tr>\n",
       "</tbody>\n",
       "</table>\n"
      ],
      "text/latex": [
       "A matrix: 21 × 5 of type dbl\n",
       "\\begin{tabular}{r|lllll}\n",
       "  & CP & nsplit & rel error & xerror & xstd\\\\\n",
       "\\hline\n",
       "\t1 & 0.081430568 &  0 & 1.0000000 & 1.0002037 & 0.02439782\\\\\n",
       "\t2 & 0.066583565 &  1 & 0.9185694 & 0.9189609 & 0.02396618\\\\\n",
       "\t3 & 0.023898064 &  2 & 0.8519859 & 0.8523982 & 0.02370871\\\\\n",
       "\t4 & 0.012678659 &  3 & 0.8280878 & 0.8285399 & 0.02356942\\\\\n",
       "\t5 & 0.010605052 &  4 & 0.8154091 & 0.8161512 & 0.02367272\\\\\n",
       "\t6 & 0.009387934 &  5 & 0.8048041 & 0.8070745 & 0.02375306\\\\\n",
       "\t7 & 0.007983296 &  6 & 0.7954162 & 0.7962691 & 0.02362839\\\\\n",
       "\t8 & 0.004177217 &  7 & 0.7874329 & 0.7883533 & 0.02355229\\\\\n",
       "\t9 & 0.002648821 &  8 & 0.7832556 & 0.7852669 & 0.02353560\\\\\n",
       "\t10 & 0.002615364 & 10 & 0.7779580 & 0.7837859 & 0.02358478\\\\\n",
       "\t11 & 0.002601857 & 11 & 0.7753426 & 0.7832582 & 0.02358505\\\\\n",
       "\t12 & 0.001756100 & 12 & 0.7727408 & 0.7757270 & 0.02357004\\\\\n",
       "\t13 & 0.001541961 & 13 & 0.7709847 & 0.7741296 & 0.02361103\\\\\n",
       "\t14 & 0.001440929 & 14 & 0.7694427 & 0.7743840 & 0.02363337\\\\\n",
       "\t15 & 0.001421361 & 15 & 0.7680018 & 0.7733792 & 0.02362976\\\\\n",
       "\t16 & 0.001347171 & 16 & 0.7665804 & 0.7733528 & 0.02363633\\\\\n",
       "\t17 & 0.001245009 & 18 & 0.7638861 & 0.7717888 & 0.02363014\\\\\n",
       "\t18 & 0.001213494 & 19 & 0.7626411 & 0.7708861 & 0.02366402\\\\\n",
       "\t19 & 0.001171251 & 20 & 0.7614276 & 0.7707893 & 0.02366443\\\\\n",
       "\t20 & 0.001103153 & 21 & 0.7602563 & 0.7702826 & 0.02368302\\\\\n",
       "\t21 & 0.001000000 & 22 & 0.7591532 & 0.7686402 & 0.02364646\\\\\n",
       "\\end{tabular}\n"
      ],
      "text/markdown": [
       "\n",
       "A matrix: 21 × 5 of type dbl\n",
       "\n",
       "| <!--/--> | CP | nsplit | rel error | xerror | xstd |\n",
       "|---|---|---|---|---|---|\n",
       "| 1 | 0.081430568 |  0 | 1.0000000 | 1.0002037 | 0.02439782 |\n",
       "| 2 | 0.066583565 |  1 | 0.9185694 | 0.9189609 | 0.02396618 |\n",
       "| 3 | 0.023898064 |  2 | 0.8519859 | 0.8523982 | 0.02370871 |\n",
       "| 4 | 0.012678659 |  3 | 0.8280878 | 0.8285399 | 0.02356942 |\n",
       "| 5 | 0.010605052 |  4 | 0.8154091 | 0.8161512 | 0.02367272 |\n",
       "| 6 | 0.009387934 |  5 | 0.8048041 | 0.8070745 | 0.02375306 |\n",
       "| 7 | 0.007983296 |  6 | 0.7954162 | 0.7962691 | 0.02362839 |\n",
       "| 8 | 0.004177217 |  7 | 0.7874329 | 0.7883533 | 0.02355229 |\n",
       "| 9 | 0.002648821 |  8 | 0.7832556 | 0.7852669 | 0.02353560 |\n",
       "| 10 | 0.002615364 | 10 | 0.7779580 | 0.7837859 | 0.02358478 |\n",
       "| 11 | 0.002601857 | 11 | 0.7753426 | 0.7832582 | 0.02358505 |\n",
       "| 12 | 0.001756100 | 12 | 0.7727408 | 0.7757270 | 0.02357004 |\n",
       "| 13 | 0.001541961 | 13 | 0.7709847 | 0.7741296 | 0.02361103 |\n",
       "| 14 | 0.001440929 | 14 | 0.7694427 | 0.7743840 | 0.02363337 |\n",
       "| 15 | 0.001421361 | 15 | 0.7680018 | 0.7733792 | 0.02362976 |\n",
       "| 16 | 0.001347171 | 16 | 0.7665804 | 0.7733528 | 0.02363633 |\n",
       "| 17 | 0.001245009 | 18 | 0.7638861 | 0.7717888 | 0.02363014 |\n",
       "| 18 | 0.001213494 | 19 | 0.7626411 | 0.7708861 | 0.02366402 |\n",
       "| 19 | 0.001171251 | 20 | 0.7614276 | 0.7707893 | 0.02366443 |\n",
       "| 20 | 0.001103153 | 21 | 0.7602563 | 0.7702826 | 0.02368302 |\n",
       "| 21 | 0.001000000 | 22 | 0.7591532 | 0.7686402 | 0.02364646 |\n",
       "\n"
      ],
      "text/plain": [
       "   CP          nsplit rel error xerror    xstd      \n",
       "1  0.081430568  0     1.0000000 1.0002037 0.02439782\n",
       "2  0.066583565  1     0.9185694 0.9189609 0.02396618\n",
       "3  0.023898064  2     0.8519859 0.8523982 0.02370871\n",
       "4  0.012678659  3     0.8280878 0.8285399 0.02356942\n",
       "5  0.010605052  4     0.8154091 0.8161512 0.02367272\n",
       "6  0.009387934  5     0.8048041 0.8070745 0.02375306\n",
       "7  0.007983296  6     0.7954162 0.7962691 0.02362839\n",
       "8  0.004177217  7     0.7874329 0.7883533 0.02355229\n",
       "9  0.002648821  8     0.7832556 0.7852669 0.02353560\n",
       "10 0.002615364 10     0.7779580 0.7837859 0.02358478\n",
       "11 0.002601857 11     0.7753426 0.7832582 0.02358505\n",
       "12 0.001756100 12     0.7727408 0.7757270 0.02357004\n",
       "13 0.001541961 13     0.7709847 0.7741296 0.02361103\n",
       "14 0.001440929 14     0.7694427 0.7743840 0.02363337\n",
       "15 0.001421361 15     0.7680018 0.7733792 0.02362976\n",
       "16 0.001347171 16     0.7665804 0.7733528 0.02363633\n",
       "17 0.001245009 18     0.7638861 0.7717888 0.02363014\n",
       "18 0.001213494 19     0.7626411 0.7708861 0.02366402\n",
       "19 0.001171251 20     0.7614276 0.7707893 0.02366443\n",
       "20 0.001103153 21     0.7602563 0.7702826 0.02368302\n",
       "21 0.001000000 22     0.7591532 0.7686402 0.02364646"
      ]
     },
     "metadata": {},
     "output_type": "display_data"
    }
   ],
   "source": [
    "fit.trees$cptable"
   ]
  },
  {
   "cell_type": "code",
   "execution_count": 76,
   "id": "a77fd88b",
   "metadata": {},
   "outputs": [
    {
     "data": {
      "text/html": [
       "<strong>21:</strong> 21"
      ],
      "text/latex": [
       "\\textbf{21:} 21"
      ],
      "text/markdown": [
       "**21:** 21"
      ],
      "text/plain": [
       "21 \n",
       "21 "
      ]
     },
     "metadata": {},
     "output_type": "display_data"
    }
   ],
   "source": [
    "which.min(fit.trees$cptable[,\"xerror\"])"
   ]
  },
  {
   "cell_type": "code",
   "execution_count": 77,
   "id": "29d3745d",
   "metadata": {
    "execution": {
     "iopub.execute_input": "2021-02-13T18:20:10.427847Z",
     "iopub.status.busy": "2021-02-13T18:20:10.426526Z",
     "iopub.status.idle": "2021-02-13T18:20:10.445546Z",
     "shell.execute_reply": "2021-02-13T18:20:10.443834Z"
    },
    "papermill": {
     "duration": 0.070106,
     "end_time": "2021-02-13T18:20:10.445828",
     "exception": false,
     "start_time": "2021-02-13T18:20:10.375722",
     "status": "completed"
    },
    "scrolled": true,
    "tags": []
   },
   "outputs": [
    {
     "data": {
      "text/html": [
       "0.001"
      ],
      "text/latex": [
       "0.001"
      ],
      "text/markdown": [
       "0.001"
      ],
      "text/plain": [
       "[1] 0.001"
      ]
     },
     "metadata": {},
     "output_type": "display_data"
    }
   ],
   "source": [
    "bestcp<- fit.trees$cptable[which.min(fit.trees$cptable[,\"xerror\"]),\"CP\"]\n",
    "bestcp"
   ]
  },
  {
   "cell_type": "markdown",
   "id": "353dbaa8",
   "metadata": {
    "papermill": {
     "duration": 0.047157,
     "end_time": "2021-02-13T18:20:10.540327",
     "exception": false,
     "start_time": "2021-02-13T18:20:10.493170",
     "status": "completed"
    },
    "tags": []
   },
   "source": [
    "Now, we can prune the tree and visualize the prediction rule."
   ]
  },
  {
   "cell_type": "code",
   "execution_count": 78,
   "id": "5eae319b",
   "metadata": {
    "execution": {
     "iopub.execute_input": "2021-02-13T18:20:10.642192Z",
     "iopub.status.busy": "2021-02-13T18:20:10.640249Z",
     "iopub.status.idle": "2021-02-13T18:20:11.131307Z",
     "shell.execute_reply": "2021-02-13T18:20:11.130922Z"
    },
    "papermill": {
     "duration": 0.543483,
     "end_time": "2021-02-13T18:20:11.131455",
     "exception": false,
     "start_time": "2021-02-13T18:20:10.587972",
     "status": "completed"
    },
    "tags": []
   },
   "outputs": [
    {
     "data": {
      "image/png": "[encoded data removed]",
      "text/plain": [
       "plot without title"
      ]
     },
     "metadata": {
      "image/png": {
       "height": 420,
       "width": 420
      }
     },
     "output_type": "display_data"
    }
   ],
   "source": [
    "fit.prunedtree <- prune(fit.trees, cp=bestcp)\n",
    "\n",
    "\n",
    "plot1 <- rpart.plot(fit.prunedtree,leaf.round=1, space=1, yspace=1.5, split.space=1, shadow.col = \"gray\", type =4,\n",
    "          branch = 1, box.palette=\"GnBu\", cex = 0.7)\n"
   ]
  },
  {
   "cell_type": "code",
   "execution_count": 79,
   "id": "71e3dd8d",
   "metadata": {},
   "outputs": [
    {
     "data": {
      "image/png": "[encoded data removed]",
      "text/plain": [
       "plot without title"
      ]
     },
     "metadata": {
      "image/png": {
       "height": 420,
       "width": 420
      }
     },
     "output_type": "display_data"
    }
   ],
   "source": [
    "fit.prunedtree <- prune(fit.trees, cp=bestcp)\n",
    "plot1 <- rpart.plot(fit.prunedtree,type =3, fallen = TRUE, leaf.round=1, extra = 100, branch = 0.1, box.palette=\"RdBu\",cex = 0.7)"
   ]
  },
  {
   "cell_type": "code",
   "execution_count": 80,
   "id": "71f1f26f",
   "metadata": {
    "execution": {
     "iopub.execute_input": "2021-02-13T18:20:11.440337Z",
     "iopub.status.busy": "2021-02-13T18:20:11.438623Z",
     "iopub.status.idle": "2021-02-13T18:20:11.463531Z",
     "shell.execute_reply": "2021-02-13T18:20:11.461981Z"
    },
    "papermill": {
     "duration": 0.079534,
     "end_time": "2021-02-13T18:20:11.463701",
     "exception": false,
     "start_time": "2021-02-13T18:20:11.384167",
     "status": "completed"
    },
    "tags": []
   },
   "outputs": [
    {
     "name": "stdout",
     "output_type": "stream",
     "text": [
      "R^2 of the pruned tree: 0.2135014"
     ]
    }
   ],
   "source": [
    "yhat.pt <- predict(fit.prunedtree,newdata=data_test)\n",
    "\n",
    "MSE.pt <- summary(lm((Y_test-yhat.pt)^2~1))$coef[1:2]\n",
    "R2.pt  <- 1-MSE.pt[1]/var(Y_test)\n",
    "\n",
    "# R^2 of the pruned tree\n",
    "cat(\"R^2 of the pruned tree:\",R2.pt)"
   ]
  },
  {
   "cell_type": "markdown",
   "id": "49fff2d1",
   "metadata": {
    "papermill": {
     "duration": 0.052403,
     "end_time": "2021-02-13T18:21:08.603976",
     "exception": false,
     "start_time": "2021-02-13T18:21:08.551573",
     "status": "completed"
    },
    "tags": []
   },
   "source": [
    "## Results"
   ]
  },
  {
   "cell_type": "code",
   "execution_count": 81,
   "id": "c4464c85",
   "metadata": {
    "execution": {
     "iopub.execute_input": "2021-02-13T18:21:08.713334Z",
     "iopub.status.busy": "2021-02-13T18:21:08.711841Z",
     "iopub.status.idle": "2021-02-13T18:21:08.823320Z",
     "shell.execute_reply": "2021-02-13T18:21:08.822357Z"
    },
    "papermill": {
     "duration": 0.167847,
     "end_time": "2021-02-13T18:21:08.823485",
     "exception": false,
     "start_time": "2021-02-13T18:21:08.655638",
     "status": "completed"
    },
    "tags": []
   },
   "outputs": [
    {
     "name": "stdout",
     "output_type": "stream",
     "text": [
      "% latex table generated in R 4.2.0 by xtable 1.8-4 package\n",
      "% Thu Jul  7 18:00:21 2022\n",
      "\\begin{table}[ht]\n",
      "\\centering\n",
      "\\begin{tabular}{rrrr}\n",
      "  \\hline\n",
      " & MSE & S.E. for MSE & R-squared \\\\ \n",
      "  \\hline\n",
      "Least Squares (basic) & 0.395 & 0.021 & 0.110 \\\\ \n",
      "  Least Squares (flexible) & 0.342 & 0.022 & 0.229 \\\\ \n",
      "  Lasso & 0.397 & 0.021 & 0.106 \\\\ \n",
      "  Post-Lasso & 0.398 & 0.021 & 0.104 \\\\ \n",
      "  Lasso (flexible) & 0.343 & 0.022 & 0.227 \\\\ \n",
      "  Post-Lasso (flexible) & 0.344 & 0.022 & 0.225 \\\\ \n",
      "  Cross-Validated lasso & 0.408 & 0.022 & 0.082 \\\\ \n",
      "  Cross-Validated ridge & 0.403 & 0.021 & 0.091 \\\\ \n",
      "  Cross-Validated elnet & 0.405 & 0.022 & 0.089 \\\\ \n",
      "  Cross-Validated lasso (flexible) & 0.350 & 0.022 & 0.211 \\\\ \n",
      "  Cross-Validated ridge (flexible) & 0.350 & 0.022 & 0.212 \\\\ \n",
      "  Cross-Validated elnet (flexible) & 0.348 & 0.022 & 0.217 \\\\ \n",
      "  Pruned Tree & 0.349 & 0.022 & 0.214 \\\\ \n",
      "   \\hline\n",
      "\\end{tabular}\n",
      "\\end{table}\n"
     ]
    },
    {
     "data": {
      "text/html": [
       "<table class=\"dataframe\">\n",
       "<caption>A xtable: 13 × 3</caption>\n",
       "<thead>\n",
       "\t<tr><th></th><th scope=col>MSE</th><th scope=col>S.E. for MSE</th><th scope=col>R-squared</th></tr>\n",
       "\t<tr><th></th><th scope=col>&lt;dbl&gt;</th><th scope=col>&lt;dbl&gt;</th><th scope=col>&lt;dbl&gt;</th></tr>\n",
       "</thead>\n",
       "<tbody>\n",
       "\t<tr><th scope=row>Least Squares (basic)</th><td>0.3949444</td><td>0.02139802</td><td>0.11027552</td></tr>\n",
       "\t<tr><th scope=row>Least Squares (flexible)</th><td>0.3423686</td><td>0.02190621</td><td>0.22871739</td></tr>\n",
       "\t<tr><th scope=row>Lasso</th><td>0.3967288</td><td>0.02138493</td><td>0.10625575</td></tr>\n",
       "\t<tr><th scope=row>Post-Lasso</th><td>0.3976201</td><td>0.02136825</td><td>0.10424775</td></tr>\n",
       "\t<tr><th scope=row>Lasso (flexible)</th><td>0.3430529</td><td>0.02178983</td><td>0.22717587</td></tr>\n",
       "\t<tr><th scope=row>Post-Lasso (flexible)</th><td>0.3442185</td><td>0.02183370</td><td>0.22455004</td></tr>\n",
       "\t<tr><th scope=row>Cross-Validated lasso</th><td>0.4075228</td><td>0.02155850</td><td>0.08193926</td></tr>\n",
       "\t<tr><th scope=row>Cross-Validated ridge</th><td>0.4033406</td><td>0.02146692</td><td>0.09136083</td></tr>\n",
       "\t<tr><th scope=row>Cross-Validated elnet</th><td>0.4045174</td><td>0.02152162</td><td>0.08870976</td></tr>\n",
       "\t<tr><th scope=row>Cross-Validated lasso (flexible)</th><td>0.3503695</td><td>0.02173351</td><td>0.21069319</td></tr>\n",
       "\t<tr><th scope=row>Cross-Validated ridge (flexible)</th><td>0.3498578</td><td>0.02172000</td><td>0.21184601</td></tr>\n",
       "\t<tr><th scope=row>Cross-Validated elnet (flexible)</th><td>0.3475426</td><td>0.02171994</td><td>0.21706151</td></tr>\n",
       "\t<tr><th scope=row>Pruned Tree</th><td>0.3491230</td><td>0.02221324</td><td>0.21350136</td></tr>\n",
       "</tbody>\n",
       "</table>\n"
      ],
      "text/latex": [
       "A xtable: 13 × 3\n",
       "\\begin{tabular}{r|lll}\n",
       "  & MSE & S.E. for MSE & R-squared\\\\\n",
       "  & <dbl> & <dbl> & <dbl>\\\\\n",
       "\\hline\n",
       "\tLeast Squares (basic) & 0.3949444 & 0.02139802 & 0.11027552\\\\\n",
       "\tLeast Squares (flexible) & 0.3423686 & 0.02190621 & 0.22871739\\\\\n",
       "\tLasso & 0.3967288 & 0.02138493 & 0.10625575\\\\\n",
       "\tPost-Lasso & 0.3976201 & 0.02136825 & 0.10424775\\\\\n",
       "\tLasso (flexible) & 0.3430529 & 0.02178983 & 0.22717587\\\\\n",
       "\tPost-Lasso (flexible) & 0.3442185 & 0.02183370 & 0.22455004\\\\\n",
       "\tCross-Validated lasso & 0.4075228 & 0.02155850 & 0.08193926\\\\\n",
       "\tCross-Validated ridge & 0.4033406 & 0.02146692 & 0.09136083\\\\\n",
       "\tCross-Validated elnet & 0.4045174 & 0.02152162 & 0.08870976\\\\\n",
       "\tCross-Validated lasso (flexible) & 0.3503695 & 0.02173351 & 0.21069319\\\\\n",
       "\tCross-Validated ridge (flexible) & 0.3498578 & 0.02172000 & 0.21184601\\\\\n",
       "\tCross-Validated elnet (flexible) & 0.3475426 & 0.02171994 & 0.21706151\\\\\n",
       "\tPruned Tree & 0.3491230 & 0.02221324 & 0.21350136\\\\\n",
       "\\end{tabular}\n"
      ],
      "text/markdown": [
       "\n",
       "A xtable: 13 × 3\n",
       "\n",
       "| <!--/--> | MSE &lt;dbl&gt; | S.E. for MSE &lt;dbl&gt; | R-squared &lt;dbl&gt; |\n",
       "|---|---|---|---|\n",
       "| Least Squares (basic) | 0.3949444 | 0.02139802 | 0.11027552 |\n",
       "| Least Squares (flexible) | 0.3423686 | 0.02190621 | 0.22871739 |\n",
       "| Lasso | 0.3967288 | 0.02138493 | 0.10625575 |\n",
       "| Post-Lasso | 0.3976201 | 0.02136825 | 0.10424775 |\n",
       "| Lasso (flexible) | 0.3430529 | 0.02178983 | 0.22717587 |\n",
       "| Post-Lasso (flexible) | 0.3442185 | 0.02183370 | 0.22455004 |\n",
       "| Cross-Validated lasso | 0.4075228 | 0.02155850 | 0.08193926 |\n",
       "| Cross-Validated ridge | 0.4033406 | 0.02146692 | 0.09136083 |\n",
       "| Cross-Validated elnet | 0.4045174 | 0.02152162 | 0.08870976 |\n",
       "| Cross-Validated lasso (flexible) | 0.3503695 | 0.02173351 | 0.21069319 |\n",
       "| Cross-Validated ridge (flexible) | 0.3498578 | 0.02172000 | 0.21184601 |\n",
       "| Cross-Validated elnet (flexible) | 0.3475426 | 0.02171994 | 0.21706151 |\n",
       "| Pruned Tree | 0.3491230 | 0.02221324 | 0.21350136 |\n",
       "\n"
      ],
      "text/plain": [
       "                                 MSE       S.E. for MSE R-squared \n",
       "Least Squares (basic)            0.3949444 0.02139802   0.11027552\n",
       "Least Squares (flexible)         0.3423686 0.02190621   0.22871739\n",
       "Lasso                            0.3967288 0.02138493   0.10625575\n",
       "Post-Lasso                       0.3976201 0.02136825   0.10424775\n",
       "Lasso (flexible)                 0.3430529 0.02178983   0.22717587\n",
       "Post-Lasso (flexible)            0.3442185 0.02183370   0.22455004\n",
       "Cross-Validated lasso            0.4075228 0.02155850   0.08193926\n",
       "Cross-Validated ridge            0.4033406 0.02146692   0.09136083\n",
       "Cross-Validated elnet            0.4045174 0.02152162   0.08870976\n",
       "Cross-Validated lasso (flexible) 0.3503695 0.02173351   0.21069319\n",
       "Cross-Validated ridge (flexible) 0.3498578 0.02172000   0.21184601\n",
       "Cross-Validated elnet (flexible) 0.3475426 0.02171994   0.21706151\n",
       "Pruned Tree                      0.3491230 0.02221324   0.21350136"
      ]
     },
     "metadata": {},
     "output_type": "display_data"
    }
   ],
   "source": [
    "library(xtable)\n",
    "table<- matrix(0, 13, 3)\n",
    "table[1,1:2]   <- MSE.lm.basic\n",
    "table[2,1:2]   <- MSE.lm.flex\n",
    "table[3,1:2]   <- MSE.lasso\n",
    "table[4,1:2]   <- MSE.lasso.post\n",
    "table[5,1:2]   <- MSE.lasso.flex\n",
    "table[6,1:2]   <- MSE.lasso.post.flex\n",
    "table[7,1:2]   <- MSE.lasso.cv\n",
    "table[8,1:2]   <- MSE.ridge\n",
    "table[9,1:2]   <- MSE.elnet\n",
    "table[10,1:2]   <- MSE.lasso.cv.flex\n",
    "table[11,1:2]  <- MSE.ridge.flex\n",
    "table[12,1:2]  <- MSE.elnet.flex\n",
    "table[13,1:2]  <- MSE.pt\n",
    "\n",
    "\n",
    "\n",
    "table[1,3]   <- R2.lm.basic\n",
    "table[2,3]   <- R2.lm.flex\n",
    "table[3,3]   <- R2.lasso\n",
    "table[4,3]   <- R2.lasso.post\n",
    "table[5,3]   <- R2.lasso.flex\n",
    "table[6,3]   <- R2.lasso.post.flex\n",
    "table[7,3]   <- R2.lasso.cv\n",
    "table[8,3]   <- R2.ridge\n",
    "table[9,3]   <- R2.elnet\n",
    "table[10,3]   <- R2.lasso.cv.flex\n",
    "table[11,3]  <- R2.ridge.flex\n",
    "table[12,3]  <- R2.elnet.flex\n",
    "table[13,3]  <- R2.pt\n",
    "\n",
    "\n",
    "\n",
    "\n",
    "colnames(table)<- c(\"MSE\", \"S.E. for MSE\", \"R-squared\")\n",
    "rownames(table)<- c(\"Least Squares (basic)\",\"Least Squares (flexible)\", \"Lasso\", \"Post-Lasso\",\"Lasso (flexible)\",\"Post-Lasso (flexible)\", \n",
    "                    \"Cross-Validated lasso\", \"Cross-Validated ridge\",\"Cross-Validated elnet\",\"Cross-Validated lasso (flexible)\",\"Cross-Validated ridge (flexible)\",\n",
    "                    \"Cross-Validated elnet (flexible)\", \"Pruned Tree\")\n",
    "tab <- xtable(table, digits =3)\n",
    "print(tab,type=\"latex\") # set type=\"latex\" for printing table in LaTeX\n",
    "tab"
   ]
  },
  {
   "cell_type": "code",
   "execution_count": null,
   "id": "1c7ce437",
   "metadata": {},
   "outputs": [],
   "source": []
  },
  {
   "cell_type": "code",
   "execution_count": null,
   "id": "10858046",
   "metadata": {},
   "outputs": [],
   "source": []
  }
 ],
 "metadata": {
  "kernelspec": {
   "display_name": "R",
   "language": "R",
   "name": "ir"
  },
  "language_info": {
   "codemirror_mode": "r",
   "file_extension": ".r",
   "mimetype": "text/x-r-source",
   "name": "R",
   "pygments_lexer": "r",
   "version": "4.2.0"
  }
 },
 "nbformat": 4,
 "nbformat_minor": 5
}
