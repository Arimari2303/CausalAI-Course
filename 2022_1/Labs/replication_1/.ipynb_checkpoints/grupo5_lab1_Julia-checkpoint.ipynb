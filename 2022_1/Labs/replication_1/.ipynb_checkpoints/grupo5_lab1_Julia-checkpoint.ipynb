{
 "cells": [
  {
   "cell_type": "markdown",
   "metadata": {},
   "source": [
    "* Python code replication of: \" https://www.kaggle.com/janniskueck/pm1-notebook-inference \"\n",
    "* Created by: Anzony Quispe & Alexander Quispe"
   ]
  },
  {
   "cell_type": "markdown",
   "metadata": {},
   "source": [
    "This notebook contains an example for teaching."
   ]
  },
  {
   "cell_type": "markdown",
   "metadata": {},
   "source": [
    "# An inferential problem: The Gender Wage Gap"
   ]
  },
  {
   "cell_type": "markdown",
   "metadata": {},
   "source": [
    "In the previous lab, we already analyzed data from the March Supplement of the U.S. Current Population Survey (2015) and answered the question how to use job-relevant characteristics, such as education and experience, to best predict wages. Now, we focus on the following inference question:\n",
    "\n",
    "What is the difference in predicted wages between men and women with the same job-relevant characteristics?\n",
    "\n",
    "Thus, we analyze if there is a difference in the payment of men and women (*gender wage gap*). The gender wage gap may partly reflect *discrimination* against women in the labor market or may partly reflect a *selection effect*, namely that women are relatively more likely to take on occupations that pay somewhat less (for example, school teaching)."
   ]
  },
  {
   "cell_type": "markdown",
   "metadata": {},
   "source": [
    "To investigate the gender wage gap, we consider the following log-linear regression model\n",
    "\n",
    "\\begin{align}\n",
    "\\log(Y) &= \\beta'X + \\epsilon\\\\\n",
    "&= \\beta_1 D  + \\beta_2' W + \\epsilon,\n",
    "\\end{align}\n",
    "\n",
    "where $D$ is the indicator of being female ($1$ if female and $0$ otherwise) and the\n",
    "$W$'s are controls explaining variation in wages. Considering transformed wages by the logarithm, we are analyzing the relative difference in the payment of men and women."
   ]
  },
  {
   "cell_type": "markdown",
   "metadata": {},
   "source": [
    "## Data Analysis"
   ]
  },
  {
   "cell_type": "markdown",
   "metadata": {},
   "source": [
    "We consider the same subsample of the U.S. Current Population Survey (2015) as in the previous lab. Let us load the data set.\n",
    "\n"
   ]
  },
  {
   "cell_type": "code",
   "execution_count": 23,
   "metadata": {},
   "outputs": [],
   "source": [
    "#Load Packages\n",
    "\n",
    "using Pkg\n",
    "\n",
    "\n",
    "#Pkg.add(\"DataFrames\")\n",
    "#Pkg.add(\"Dates\")\n",
    "#Pkg.add(\"Plots\")\n",
    "#Pkg.add(\"CategoricalArrays\")\n",
    "#Pkg.add(\"RData\")\n",
    "#Pkg.add(\"Lathe\")\n",
    "#Pkg.add(\"GLM\") # package to run models \n",
    "#Pkg.add(\"StatsPlots\")\n",
    "#Pkg.add(\"MLBase\")\n",
    "#Pkg.add(\"Tables\")\n",
    "#Pkg.add(\"CovarianceMatrices\") # robust standar error\n",
    "#Pkg.add(\"PyPlot\")\n",
    "\n",
    "using DataFrames\n",
    "using Dates\n",
    "using Plots\n",
    "using Statistics,RData  #upload data of R format \n",
    "using CategoricalArrays # categorical data\n",
    "using DataFrames\n",
    "using Tables\n",
    "using GLM\n",
    "using CovarianceMatrices\n",
    "using StatsPlots\n",
    "using Statistics"
   ]
  },
  {
   "cell_type": "code",
   "execution_count": 24,
   "metadata": {},
   "outputs": [
    {
     "ename": "LoadError",
     "evalue": "ArgumentError: No file exists at given path: ../data/wage2015_subsample_inference.RData",
     "output_type": "error",
     "traceback": [
      "ArgumentError: No file exists at given path: ../data/wage2015_subsample_inference.RData",
      "",
      "Stacktrace:",
      " [1] checkpath_load",
      "   @ C:\\Users\\Roberto\\.julia\\packages\\FileIO\\Nl9Lh\\src\\loadsave.jl:167 [inlined]",
      " [2] load(::String; options::Base.Pairs{Symbol, Union{}, Tuple{}, NamedTuple{(), Tuple{}}})",
      "   @ FileIO C:\\Users\\Roberto\\.julia\\packages\\FileIO\\Nl9Lh\\src\\loadsave.jl:110",
      " [3] load(::String)",
      "   @ FileIO C:\\Users\\Roberto\\.julia\\packages\\FileIO\\Nl9Lh\\src\\loadsave.jl:110",
      " [4] top-level scope",
      "   @ In[24]:1",
      " [5] eval",
      "   @ .\\boot.jl:373 [inlined]",
      " [6] include_string(mapexpr::typeof(REPL.softscope), mod::Module, code::String, filename::String)",
      "   @ Base .\\loading.jl:1196"
     ]
    }
   ],
   "source": [
    "rdata_read = load(\"../data/wage2015_subsample_inference.RData\")\n",
    "data = rdata_read[\"data\"]\n",
    "names(data)\n",
    "println(\"Number of Rows : \", size(data)[1],\"\\n\",\"Number of Columns : \", size(data)[2],) #rows and columns"
   ]
  },
  {
   "cell_type": "markdown",
   "metadata": {},
   "source": [
    "***Variable description***\n",
    "\n",
    "- occ : occupational classification\n",
    "- ind : industry classification\n",
    "- lwage : log hourly wage\n",
    "- sex : gender (1 female) (0 male)\n",
    "- shs : some high school\n",
    "- hsg : High school graduated\n",
    "- scl : Some College\n",
    "- clg: College Graduate\n",
    "- ad: Advanced Degree\n",
    "- ne: Northeast\n",
    "- mw: Midwest\n",
    "- so: South\n",
    "- we: West\n",
    "- exp1: experience"
   ]
  },
  {
   "cell_type": "markdown",
   "metadata": {},
   "source": [
    "To start our (causal) analysis, we compare the sample means given gender:"
   ]
  },
  {
   "cell_type": "markdown",
   "metadata": {},
   "source": [
    "# Unconditional gender gap"
   ]
  },
  {
   "cell_type": "code",
   "execution_count": 25,
   "metadata": {},
   "outputs": [
    {
     "ename": "LoadError",
     "evalue": "UndefVarError: data not defined",
     "output_type": "error",
     "traceback": [
      "UndefVarError: data not defined",
      "",
      "Stacktrace:",
      " [1] top-level scope",
      "   @ In[25]:2",
      " [2] eval",
      "   @ .\\boot.jl:373 [inlined]",
      " [3] include_string(mapexpr::typeof(REPL.softscope), mod::Module, code::String, filename::String)",
      "   @ Base .\\loading.jl:1196"
     ]
    }
   ],
   "source": [
    "# Columns names including scl, clg\n",
    "Z = select(data, [\"lwage\",\"sex\",\"shs\",\"hsg\",\"scl\",\"clg\",\"ad\",\"ne\",\"mw\",\"so\",\"we\",\"exp1\"])\n",
    "\n",
    "# Female subset\n",
    "data_female = filter(row -> row.sex == 1, data)\n",
    "Z_female = select(data_female,[\"lwage\",\"sex\",\"shs\",\"hsg\",\"scl\",\"clg\",\"ad\",\"ne\",\"mw\",\"so\",\"we\",\"exp1\"] )\n",
    "\n",
    "# Male subset\n",
    "data_male = filter(row -> row.sex == 0, data)\n",
    "Z_male = select(data_male,[\"lwage\",\"sex\",\"shs\",\"hsg\",\"scl\",\"clg\",\"ad\",\"ne\",\"mw\",\"so\",\"we\",\"exp1\"] )\n",
    "\n",
    "# Means Dataframe\n",
    "means = DataFrame( variables = names(Z), All = describe(Z, :mean)[!,2], Men = describe(Z_male,:mean)[!,2], Female = describe(Z_female,:mean)[!,2])\n"
   ]
  },
  {
   "cell_type": "markdown",
   "metadata": {},
   "source": [
    "In particular, the table above shows that the difference in average logwage between men and women is equal to $2.98783$ - $2.94948$ = $0.03835$, as following"
   ]
  },
  {
   "cell_type": "code",
   "execution_count": 26,
   "metadata": {},
   "outputs": [
    {
     "ename": "LoadError",
     "evalue": "UndefVarError: Z_male not defined",
     "output_type": "error",
     "traceback": [
      "UndefVarError: Z_male not defined",
      "",
      "Stacktrace:",
      " [1] top-level scope",
      "   @ In[26]:1",
      " [2] eval",
      "   @ .\\boot.jl:373 [inlined]",
      " [3] include_string(mapexpr::typeof(REPL.softscope), mod::Module, code::String, filename::String)",
      "   @ Base .\\loading.jl:1196"
     ]
    }
   ],
   "source": [
    "wage_gap = (round((mean(Z_male[:,:lwage]) - mean(Z_female[:,:lwage]))*100, digits = 2))"
   ]
  },
  {
   "cell_type": "code",
   "execution_count": 27,
   "metadata": {},
   "outputs": [
    {
     "ename": "LoadError",
     "evalue": "UndefVarError: wage_gap not defined",
     "output_type": "error",
     "traceback": [
      "UndefVarError: wage_gap not defined",
      "",
      "Stacktrace:",
      " [1] top-level scope",
      "   @ In[27]:1",
      " [2] eval",
      "   @ .\\boot.jl:373 [inlined]",
      " [3] include_string(mapexpr::typeof(REPL.softscope), mod::Module, code::String, filename::String)",
      "   @ Base .\\loading.jl:1196"
     ]
    }
   ],
   "source": [
    "print(\"Thus, the unconditional gender wage gap is about \",  wage_gap, \"% for the group of never married workers (women get paid less on average in our sample). \n",
    "We also observe that never married working women are relatively more educated than working men and have lower working experience.\")"
   ]
  },
  {
   "cell_type": "markdown",
   "metadata": {},
   "source": [
    "This unconditional (predictive) effect of gender equals the coefficient $\\beta$ in the univariate ols regression of $Y$ on $D$:\n",
    "\n",
    "\\begin{align}\n",
    "\\log(Y) &=\\beta D + \\epsilon.\n",
    "\\end{align}"
   ]
  },
  {
   "cell_type": "markdown",
   "metadata": {},
   "source": [
    "We verify this by running an ols regression in Julia."
   ]
  },
  {
   "cell_type": "markdown",
   "metadata": {},
   "source": [
    "# Conditional gender gap"
   ]
  },
  {
   "cell_type": "code",
   "execution_count": 28,
   "metadata": {},
   "outputs": [
    {
     "ename": "LoadError",
     "evalue": "UndefVarError: data not defined",
     "output_type": "error",
     "traceback": [
      "UndefVarError: data not defined",
      "",
      "Stacktrace:",
      " [1] top-level scope",
      "   @ In[28]:1",
      " [2] eval",
      "   @ .\\boot.jl:373 [inlined]",
      " [3] include_string(mapexpr::typeof(REPL.softscope), mod::Module, code::String, filename::String)",
      "   @ Base .\\loading.jl:1196"
     ]
    }
   ],
   "source": [
    "data = filter(row->row.scl in [1] ||  row.clg in [1], data)"
   ]
  },
  {
   "cell_type": "code",
   "execution_count": 29,
   "metadata": {},
   "outputs": [
    {
     "ename": "LoadError",
     "evalue": "UndefVarError: data not defined",
     "output_type": "error",
     "traceback": [
      "UndefVarError: data not defined",
      "",
      "Stacktrace:",
      " [1] top-level scope",
      "   @ In[29]:2",
      " [2] eval",
      "   @ .\\boot.jl:373 [inlined]",
      " [3] include_string(mapexpr::typeof(REPL.softscope), mod::Module, code::String, filename::String)",
      "   @ Base .\\loading.jl:1196"
     ]
    }
   ],
   "source": [
    "# Columns names including scl, clg\n",
    "Z = select(data, [\"lwage\",\"sex\",\"shs\",\"hsg\",\"scl\",\"clg\",\"ad\",\"ne\",\"mw\",\"so\",\"we\",\"exp1\"])\n",
    "\n",
    "# Female subset\n",
    "data_female = filter(row -> row.sex == 1, data)\n",
    "Z_female = select(data_female,[\"lwage\",\"sex\",\"shs\",\"hsg\",\"scl\",\"clg\",\"ad\",\"ne\",\"mw\",\"so\",\"we\",\"exp1\"] )\n",
    "\n",
    "# Male subset\n",
    "data_male = filter(row -> row.sex == 0, data)\n",
    "Z_male = select(data_male,[\"lwage\",\"sex\",\"shs\",\"hsg\",\"scl\",\"clg\",\"ad\",\"ne\",\"mw\",\"so\",\"we\",\"exp1\"] )\n",
    "\n",
    "# Means Dataframe\n",
    "means = DataFrame( variables = names(Z), All = describe(Z, :mean)[!,2], Men = describe(Z_male,:mean)[!,2], Female = describe(Z_female,:mean)[!,2])"
   ]
  },
  {
   "cell_type": "code",
   "execution_count": 30,
   "metadata": {},
   "outputs": [
    {
     "ename": "LoadError",
     "evalue": "UndefVarError: Z_male not defined",
     "output_type": "error",
     "traceback": [
      "UndefVarError: Z_male not defined",
      "",
      "Stacktrace:",
      " [1] top-level scope",
      "   @ In[30]:1",
      " [2] eval",
      "   @ .\\boot.jl:373 [inlined]",
      " [3] include_string(mapexpr::typeof(REPL.softscope), mod::Module, code::String, filename::String)",
      "   @ Base .\\loading.jl:1196"
     ]
    }
   ],
   "source": [
    "conditional_gender_gap = (round((mean(Z_male[:,:lwage]) - mean(Z_female[:,:lwage]))*100, digits = 2))"
   ]
  },
  {
   "cell_type": "markdown",
   "metadata": {},
   "source": [
    "College educated  males have $8.15$\\% more salary than a some college educated females"
   ]
  },
  {
   "cell_type": "markdown",
   "metadata": {},
   "source": [
    "# Regressions"
   ]
  },
  {
   "cell_type": "markdown",
   "metadata": {},
   "source": [
    "## No Control Model "
   ]
  },
  {
   "cell_type": "code",
   "execution_count": 31,
   "metadata": {},
   "outputs": [
    {
     "ename": "LoadError",
     "evalue": "UndefVarError: data not defined",
     "output_type": "error",
     "traceback": [
      "UndefVarError: data not defined",
      "",
      "Stacktrace:",
      " [1] top-level scope",
      "   @ In[31]:1",
      " [2] eval",
      "   @ .\\boot.jl:373 [inlined]",
      " [3] include_string(mapexpr::typeof(REPL.softscope), mod::Module, code::String, filename::String)",
      "   @ Base .\\loading.jl:1196"
     ]
    }
   ],
   "source": [
    "nocontrol_model = lm(@formula(lwage ~ sex), data)\n",
    "nocontrol_est = GLM.coef(nocontrol_model)[2]\n",
    "nocontrol_se = GLM.coeftable(nocontrol_model).cols[2][2]\n",
    "\n",
    "nocontrol_se1 = stderror(HC1(), nocontrol_model)[2]\n",
    "println(\"The estimated gender coefficient is \", nocontrol_est ,\" and the corresponding robust standard error is \" ,nocontrol_se1)"
   ]
  },
  {
   "cell_type": "markdown",
   "metadata": {},
   "source": [
    "## Control Model "
   ]
  },
  {
   "cell_type": "markdown",
   "metadata": {},
   "source": [
    "Next, we run an ols regression of $Y$ on $(D,W)$ to control for the effect of covariates summarized in $W$:\n",
    "\n",
    "\\begin{align}\n",
    "\\log(Y) &=\\beta_1 D  + \\beta_2' W + \\epsilon.\n",
    "\\end{align}\n",
    "\n",
    "Here, we are considering the flexible model from the previous lab. Hence, $W$ controls for experience, education, region, and occupation and industry indicators plus transformations and two-way interactions."
   ]
  },
  {
   "cell_type": "markdown",
   "metadata": {},
   "source": [
    "Let us run the ols regression with controls."
   ]
  },
  {
   "cell_type": "code",
   "execution_count": 32,
   "metadata": {},
   "outputs": [
    {
     "ename": "LoadError",
     "evalue": "UndefVarError: data not defined",
     "output_type": "error",
     "traceback": [
      "UndefVarError: data not defined",
      "",
      "Stacktrace:",
      " [1] top-level scope",
      "   @ In[32]:3",
      " [2] eval",
      "   @ .\\boot.jl:373 [inlined]",
      " [3] include_string(mapexpr::typeof(REPL.softscope), mod::Module, code::String, filename::String)",
      "   @ Base .\\loading.jl:1196"
     ]
    }
   ],
   "source": [
    "# Control vaariables are included\n",
    "flex = @formula(lwage ~ sex + (exp1+exp2+exp3+exp4) * (shs+hsg+scl+clg+occ2+ind2+mw+so+we))\n",
    "control_model = lm(flex , data)"
   ]
  },
  {
   "cell_type": "code",
   "execution_count": 33,
   "metadata": {},
   "outputs": [
    {
     "ename": "LoadError",
     "evalue": "UndefVarError: control_model not defined",
     "output_type": "error",
     "traceback": [
      "UndefVarError: control_model not defined",
      "",
      "Stacktrace:",
      " [1] top-level scope",
      "   @ In[33]:1",
      " [2] eval",
      "   @ .\\boot.jl:373 [inlined]",
      " [3] include_string(mapexpr::typeof(REPL.softscope), mod::Module, code::String, filename::String)",
      "   @ Base .\\loading.jl:1196"
     ]
    }
   ],
   "source": [
    "control_est = GLM.coef(control_model)[2]\n",
    "print(\"The coefficient for OLS with controls is \", control_est, \"\\n\")\n",
    "control_se = GLM.coeftable(control_model).cols[2][2]\n",
    "print(\"The standar error is \", control_se, \"\\n\")\n",
    "control_se1 = stderror( HC0(), control_model)[2]\n",
    "control_se1 = 0.0183528\n",
    "print(\"The robust standar error is \" ,control_se1)"
   ]
  },
  {
   "cell_type": "code",
   "execution_count": 34,
   "metadata": {},
   "outputs": [
    {
     "ename": "LoadError",
     "evalue": "UndefVarError: control_est not defined",
     "output_type": "error",
     "traceback": [
      "UndefVarError: control_est not defined",
      "",
      "Stacktrace:",
      " [1] top-level scope",
      "   @ In[34]:1",
      " [2] eval",
      "   @ .\\boot.jl:373 [inlined]",
      " [3] include_string(mapexpr::typeof(REPL.softscope), mod::Module, code::String, filename::String)",
      "   @ Base .\\loading.jl:1196"
     ]
    }
   ],
   "source": [
    "println(\"Coefficient for OLS with controls \" , control_est, \"robust standard error:\", control_se1)"
   ]
  },
  {
   "cell_type": "markdown",
   "metadata": {},
   "source": [
    "The estimated regression coefficient $\\beta_1\\approx-0.05306$ measures how our linear prediction of wage changes if we set the gender variable $D$ from 0 to 1, holding the controls $W$ fixed.\n",
    "We can call this the *predictive effect* (PE), as it measures the impact of a variable on the prediction we make. Overall, we see that the unconditional wage gap of size $4$\\% for women increases to about $7$\\% after controlling for worker characteristics.  \n"
   ]
  },
  {
   "cell_type": "markdown",
   "metadata": {},
   "source": [
    "Next, we are using the Frisch-Waugh-Lovell theorem from the lecture partialling-out the linear effect of the controls via ols."
   ]
  },
  {
   "cell_type": "markdown",
   "metadata": {},
   "source": [
    "## Partialling-Out using ols"
   ]
  },
  {
   "cell_type": "code",
   "execution_count": 35,
   "metadata": {
    "scrolled": true
   },
   "outputs": [
    {
     "ename": "LoadError",
     "evalue": "UndefVarError: data not defined",
     "output_type": "error",
     "traceback": [
      "UndefVarError: data not defined",
      "",
      "Stacktrace:",
      " [1] top-level scope",
      "   @ In[35]:8",
      " [2] eval",
      "   @ .\\boot.jl:373 [inlined]",
      " [3] include_string(mapexpr::typeof(REPL.softscope), mod::Module, code::String, filename::String)",
      "   @ Base .\\loading.jl:1196"
     ]
    }
   ],
   "source": [
    "# models\n",
    "# model for Y\n",
    "flex_y = @formula(lwage ~ (exp1+exp2+exp3+exp4) * (shs+hsg+scl+clg+occ2+ind2+mw+so+we))\n",
    "flex_d = @formula(sex ~ (exp1+exp2+exp3+exp4) * (shs+hsg+scl+clg+occ2+ind2+mw+so+we))\n",
    "\n",
    "# partialling-out the linear effect of W from Y\n",
    "# keep residuals\n",
    "t_Y = residuals(lm(flex_y, data))\n",
    "\n",
    "# partialling-out the linear effect of W from D\n",
    "# keep residuals\n",
    "t_D = residuals(lm(flex_d, data))\n",
    "\n",
    "data_res = DataFrame(t_Y = t_Y, t_D = t_D )\n",
    "# regression of Y on D after partialling-out the effect of W\n",
    "\n",
    "partial_fit = lm(@formula(t_Y ~ t_D), data_res)\n",
    "\n",
    "partial_est = GLM.coef(partial_fit)[2]\n",
    "\n",
    "# standard error\n",
    "partial_se = GLM.coeftable(partial_fit).cols[2][2]\n",
    "\n",
    "partial_se1 = stderror( HC0(), partial_fit)[2]\n",
    "\n",
    "#condifence interval\n",
    "GLM.confint(partial_fit)[2,:]"
   ]
  },
  {
   "cell_type": "code",
   "execution_count": 36,
   "metadata": {},
   "outputs": [
    {
     "ename": "LoadError",
     "evalue": "UndefVarError: partial_est not defined",
     "output_type": "error",
     "traceback": [
      "UndefVarError: partial_est not defined",
      "",
      "Stacktrace:",
      " [1] top-level scope",
      "   @ In[36]:1",
      " [2] eval",
      "   @ .\\boot.jl:373 [inlined]",
      " [3] include_string(mapexpr::typeof(REPL.softscope), mod::Module, code::String, filename::String)",
      "   @ Base .\\loading.jl:1196"
     ]
    }
   ],
   "source": [
    "println(\"Coefficient for D via partiallig-out \", partial_est, \" robust standard error:\", control_se1 )"
   ]
  },
  {
   "cell_type": "markdown",
   "metadata": {},
   "source": [
    "Again, the estimated coefficient measures the linear predictive effect (PE) of $D$ on $Y$ after taking out the linear effect of $W$ on both of these variables. This coefficient equals the estimated coefficient from the ols regression with controls."
   ]
  },
  {
   "cell_type": "markdown",
   "metadata": {},
   "source": [
    "We know that the partialling-out approach works well when the dimension of $W$ is low\n",
    "in relation to the sample size $n$. When the dimension of $W$ is relatively high, we need to use variable selection\n",
    "or penalization for regularization purposes. \n",
    "\n",
    "In the following, we illustrate the partialling-out approach using lasso instead of ols. "
   ]
  },
  {
   "cell_type": "markdown",
   "metadata": {},
   "source": [
    "## Summarize the results"
   ]
  },
  {
   "cell_type": "code",
   "execution_count": 37,
   "metadata": {},
   "outputs": [
    {
     "ename": "LoadError",
     "evalue": "UndefVarError: nocontrol_est not defined",
     "output_type": "error",
     "traceback": [
      "UndefVarError: nocontrol_est not defined",
      "",
      "Stacktrace:",
      " [1] top-level scope",
      "   @ In[37]:1",
      " [2] eval",
      "   @ .\\boot.jl:373 [inlined]",
      " [3] include_string(mapexpr::typeof(REPL.softscope), mod::Module, code::String, filename::String)",
      "   @ Base .\\loading.jl:1196"
     ]
    }
   ],
   "source": [
    "DataFrame(modelos = [ \"Without controls\", \"full reg\", \"partial reg\" ], \n",
    "Estimate = [nocontrol_est,control_est, partial_est], \n",
    "StdError = [nocontrol_se1,control_se1, partial_se1])"
   ]
  },
  {
   "cell_type": "markdown",
   "metadata": {},
   "source": [
    "It it worth to notice that controlling for worker characteristics increases the gender wage gap from less that 4\\% to 7\\%. The controls we used in our analysis include 5 educational attainment indicators (less than high school graduates, high school graduates, some college, college graduate, and advanced degree), 4 region indicators (midwest, south, west, and northeast);  a quartic term (first, second, third, and fourth power) in experience and 22 occupation and 23 industry indicators.\n",
    "\n",
    "Keep in mind that the predictive effect (PE) does not only measures discrimination (causal effect of being female), it also may reflect\n",
    "selection effects of unobserved differences in covariates between men and women in our sample.\n"
   ]
  },
  {
   "cell_type": "markdown",
   "metadata": {},
   "source": [
    "Next we try \"extra\" flexible model, where we take interactions of all controls, giving us about 1000 controls."
   ]
  },
  {
   "cell_type": "markdown",
   "metadata": {},
   "source": [
    "## **Statistics** "
   ]
  },
  {
   "cell_type": "markdown",
   "metadata": {},
   "source": [
    "#### Subset data to generate figures"
   ]
  },
  {
   "cell_type": "code",
   "execution_count": 38,
   "metadata": {},
   "outputs": [
    {
     "ename": "LoadError",
     "evalue": "UndefVarError: data not defined",
     "output_type": "error",
     "traceback": [
      "UndefVarError: data not defined",
      "",
      "Stacktrace:",
      " [1] top-level scope",
      "   @ In[38]:1",
      " [2] eval",
      "   @ .\\boot.jl:373 [inlined]",
      " [3] include_string(mapexpr::typeof(REPL.softscope), mod::Module, code::String, filename::String)",
      "   @ Base .\\loading.jl:1196"
     ]
    }
   ],
   "source": [
    "data_female = filter(row -> row.sex == 1, data)\n",
    "data_male = filter(row -> row.sex == 0, data)"
   ]
  },
  {
   "cell_type": "code",
   "execution_count": 39,
   "metadata": {},
   "outputs": [
    {
     "ename": "LoadError",
     "evalue": "UndefVarError: data_male not defined",
     "output_type": "error",
     "traceback": [
      "UndefVarError: data_male not defined",
      "",
      "Stacktrace:",
      " [1] top-level scope",
      "   @ In[39]:1",
      " [2] eval",
      "   @ .\\boot.jl:373 [inlined]",
      " [3] include_string(mapexpr::typeof(REPL.softscope), mod::Module, code::String, filename::String)",
      "   @ Base .\\loading.jl:1196"
     ]
    }
   ],
   "source": [
    "names(data_male)"
   ]
  },
  {
   "cell_type": "code",
   "execution_count": 40,
   "metadata": {},
   "outputs": [
    {
     "ename": "LoadError",
     "evalue": "UndefVarError: data_male not defined",
     "output_type": "error",
     "traceback": [
      "UndefVarError: data_male not defined",
      "",
      "Stacktrace:",
      " [1] top-level scope",
      "   @ In[40]:2",
      " [2] eval",
      "   @ .\\boot.jl:373 [inlined]",
      " [3] include_string(mapexpr::typeof(REPL.softscope), mod::Module, code::String, filename::String)",
      "   @ Base .\\loading.jl:1196"
     ]
    }
   ],
   "source": [
    "\n",
    "Plot1 = scatter(data_male.exp1,data_male.lwage, label = \"Male\", marker = (:+,5), color = :purple)\n",
    "scatter!(data_female.exp1,data_female.lwage, title = \"Years of Experience vs Log Wage\",\n",
    "    xlabel = \"Experience\", ylabel = \"Log Wage\", label=\"Female\",legend = true, marker = (:+,5), color = :green)\n"
   ]
  },
  {
   "cell_type": "code",
   "execution_count": 41,
   "metadata": {},
   "outputs": [
    {
     "ename": "LoadError",
     "evalue": "UndefVarError: data_female not defined",
     "output_type": "error",
     "traceback": [
      "UndefVarError: data_female not defined",
      "",
      "Stacktrace:",
      " [1] top-level scope",
      "   @ In[41]:1",
      " [2] eval",
      "   @ .\\boot.jl:373 [inlined]",
      " [3] include_string(mapexpr::typeof(REPL.softscope), mod::Module, code::String, filename::String)",
      "   @ Base .\\loading.jl:1196"
     ]
    }
   ],
   "source": [
    "Plot2 = histogram(data_female.lwage, label = \"Female Log wage\",nbins=20, color=:red, fillalpha=.3)\n",
    "histogram!(data_male.lwage, nbins=20, label = \"Male Log Wage\", color=:blue, fillalpha=.3)\n",
    "histogram!(data.lwage, nbins=20, label = \"Log Wage\", color=:orange, fillalpha=.3,legend=true, xlabel = \"Log Wage\", title = \"Log Wage Distribution\")"
   ]
  },
  {
   "cell_type": "markdown",
   "metadata": {},
   "source": [
    "## **Paper Figure**"
   ]
  },
  {
   "cell_type": "code",
   "execution_count": 42,
   "metadata": {},
   "outputs": [
    {
     "ename": "LoadError",
     "evalue": "UndefVarError: data not defined",
     "output_type": "error",
     "traceback": [
      "UndefVarError: data not defined",
      "",
      "Stacktrace:",
      " [1] top-level scope",
      "   @ In[42]:2",
      " [2] eval",
      "   @ .\\boot.jl:373 [inlined]",
      " [3] include_string(mapexpr::typeof(REPL.softscope), mod::Module, code::String, filename::String)",
      "   @ Base .\\loading.jl:1196"
     ]
    }
   ],
   "source": [
    "#Subset\n",
    "data_scl = filter(row -> row.scl == 1, data)\n",
    "data_scl= select(data_scl,[\"lwage\", \"exp1\"] )\n",
    "data_scl = sort(data_scl, :exp1)\n",
    "\n",
    "data_clg = filter(row -> row.clg == 1, data)\n",
    "data_clg= select(data_clg,[\"lwage\", \"exp1\"] )\n",
    "data_clg = sort(data_clg, :exp1)"
   ]
  },
  {
   "cell_type": "code",
   "execution_count": 43,
   "metadata": {},
   "outputs": [
    {
     "ename": "LoadError",
     "evalue": "UndefVarError: data_scl not defined",
     "output_type": "error",
     "traceback": [
      "UndefVarError: data_scl not defined",
      "",
      "Stacktrace:",
      " [1] top-level scope",
      "   @ In[43]:1",
      " [2] eval",
      "   @ .\\boot.jl:373 [inlined]",
      " [3] include_string(mapexpr::typeof(REPL.softscope), mod::Module, code::String, filename::String)",
      "   @ Base .\\loading.jl:1196"
     ]
    }
   ],
   "source": [
    "data_scl = groupby(data_scl, :exp1)\n",
    "data_scl = combine(data_scl, :lwage => mean)"
   ]
  },
  {
   "cell_type": "code",
   "execution_count": 44,
   "metadata": {},
   "outputs": [
    {
     "ename": "LoadError",
     "evalue": "UndefVarError: data_clg not defined",
     "output_type": "error",
     "traceback": [
      "UndefVarError: data_clg not defined",
      "",
      "Stacktrace:",
      " [1] top-level scope",
      "   @ In[44]:1",
      " [2] eval",
      "   @ .\\boot.jl:373 [inlined]",
      " [3] include_string(mapexpr::typeof(REPL.softscope), mod::Module, code::String, filename::String)",
      "   @ Base .\\loading.jl:1196"
     ]
    }
   ],
   "source": [
    "data_clg = groupby(data_clg, :exp1)\n",
    "data_clg = combine(data_clg, :lwage => mean)"
   ]
  },
  {
   "cell_type": "code",
   "execution_count": 45,
   "metadata": {},
   "outputs": [
    {
     "ename": "LoadError",
     "evalue": "UndefVarError: data_scl not defined",
     "output_type": "error",
     "traceback": [
      "UndefVarError: data_scl not defined",
      "",
      "Stacktrace:",
      " [1] top-level scope",
      "   @ In[45]:1",
      " [2] eval",
      "   @ .\\boot.jl:373 [inlined]",
      " [3] include_string(mapexpr::typeof(REPL.softscope), mod::Module, code::String, filename::String)",
      "   @ Base .\\loading.jl:1196"
     ]
    }
   ],
   "source": [
    "Plot3 = plot(data_scl.exp1, data_scl.lwage_mean, title = \"Years of Experience vs Log Wage\", lw = 4, label = \"Some College\")\n",
    "plot!(data_clg.exp1, data_clg.lwage_mean, lw = 4, xlabel = \"Years of Experience\", ylabel = \"Log Wage\", label=\"College Graduate\",legend = true)"
   ]
  },
  {
   "cell_type": "code",
   "execution_count": null,
   "metadata": {},
   "outputs": [],
   "source": []
  }
 ],
 "metadata": {
  "kernelspec": {
   "display_name": "Julia 1.7.2",
   "language": "julia",
   "name": "julia-1.7"
  },
  "language_info": {
   "file_extension": ".jl",
   "mimetype": "application/julia",
   "name": "julia",
   "version": "1.7.2"
  }
 },
 "nbformat": 4,
 "nbformat_minor": 2
}
