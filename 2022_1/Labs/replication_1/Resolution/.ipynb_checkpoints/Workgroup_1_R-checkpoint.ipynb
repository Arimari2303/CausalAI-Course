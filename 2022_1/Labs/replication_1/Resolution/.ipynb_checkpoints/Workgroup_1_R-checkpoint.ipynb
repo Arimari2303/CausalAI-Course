{
 "cells": [
  {
   "cell_type": "markdown",
   "id": "01a5018d",
   "metadata": {},
   "source": [
    "## An inferential problem: The Gender Wage Gap"
   ]
  },
  {
   "cell_type": "code",
   "execution_count": 2,
   "id": "ab1e6642",
   "metadata": {},
   "outputs": [
    {
     "name": "stderr",
     "output_type": "stream",
     "text": [
      "Warning message:\n",
      "\"package 'dplyr' was built under R version 3.6.3\"\n",
      "Attaching package: 'dplyr'\n",
      "\n",
      "The following objects are masked from 'package:stats':\n",
      "\n",
      "    filter, lag\n",
      "\n",
      "The following objects are masked from 'package:base':\n",
      "\n",
      "    intersect, setdiff, setequal, union\n",
      "\n"
     ]
    }
   ],
   "source": [
    "library('dplyr') # filter dataset"
   ]
  },
  {
   "cell_type": "code",
   "execution_count": 3,
   "id": "b0c31b9d",
   "metadata": {},
   "outputs": [
    {
     "data": {
      "text/html": [
       "<ol class=list-inline>\n",
       "\t<li>5150</li>\n",
       "\t<li>20</li>\n",
       "</ol>\n"
      ],
      "text/latex": [
       "\\begin{enumerate*}\n",
       "\\item 5150\n",
       "\\item 20\n",
       "\\end{enumerate*}\n"
      ],
      "text/markdown": [
       "1. 5150\n",
       "2. 20\n",
       "\n",
       "\n"
      ],
      "text/plain": [
       "[1] 5150   20"
      ]
     },
     "metadata": {},
     "output_type": "display_data"
    }
   ],
   "source": [
    "load(\"../../../data/wage2015_subsample_inference.Rdata\")\n",
    "dim(data)"
   ]
  },
  {
   "cell_type": "code",
   "execution_count": 4,
   "id": "a3bcd10c",
   "metadata": {},
   "outputs": [
    {
     "data": {
      "text/html": [
       "<table>\n",
       "<thead><tr><th></th><th scope=col>wage</th><th scope=col>lwage</th><th scope=col>sex</th><th scope=col>shs</th><th scope=col>hsg</th><th scope=col>scl</th><th scope=col>clg</th><th scope=col>ad</th><th scope=col>mw</th><th scope=col>so</th><th scope=col>we</th><th scope=col>ne</th><th scope=col>exp1</th><th scope=col>exp2</th><th scope=col>exp3</th><th scope=col>exp4</th><th scope=col>occ</th><th scope=col>occ2</th><th scope=col>ind</th><th scope=col>ind2</th></tr></thead>\n",
       "<tbody>\n",
       "\t<tr><th scope=row>10</th><td> 9.615385</td><td>2.263364 </td><td>1        </td><td>0        </td><td>0        </td><td>0        </td><td>1        </td><td>0        </td><td>0        </td><td>0        </td><td>0        </td><td>1        </td><td> 7       </td><td>0.49     </td><td> 0.343   </td><td> 0.2401  </td><td>3600     </td><td>11       </td><td>8370     </td><td>18       </td></tr>\n",
       "\t<tr><th scope=row>12</th><td>48.076923</td><td>3.872802 </td><td>0        </td><td>0        </td><td>0        </td><td>0        </td><td>1        </td><td>0        </td><td>0        </td><td>0        </td><td>0        </td><td>1        </td><td>31       </td><td>9.61     </td><td>29.791   </td><td>92.3521  </td><td>3050     </td><td>10       </td><td>5070     </td><td>9        </td></tr>\n",
       "\t<tr><th scope=row>15</th><td>11.057692</td><td>2.403126 </td><td>0        </td><td>0        </td><td>1        </td><td>0        </td><td>0        </td><td>0        </td><td>0        </td><td>0        </td><td>0        </td><td>1        </td><td>18       </td><td>3.24     </td><td> 5.832   </td><td>10.4976  </td><td>6260     </td><td>19       </td><td>770      </td><td>4        </td></tr>\n",
       "\t<tr><th scope=row>18</th><td>13.942308</td><td>2.634928 </td><td>1        </td><td>0        </td><td>0        </td><td>0        </td><td>0        </td><td>1        </td><td>0        </td><td>0        </td><td>0        </td><td>1        </td><td>25       </td><td>6.25     </td><td>15.625   </td><td>39.0625  </td><td>420      </td><td>1        </td><td>6990     </td><td>12       </td></tr>\n",
       "\t<tr><th scope=row>19</th><td>28.846154</td><td>3.361977 </td><td>1        </td><td>0        </td><td>0        </td><td>0        </td><td>1        </td><td>0        </td><td>0        </td><td>0        </td><td>0        </td><td>1        </td><td>22       </td><td>4.84     </td><td>10.648   </td><td>23.4256  </td><td>2015     </td><td>6        </td><td>9470     </td><td>22       </td></tr>\n",
       "\t<tr><th scope=row>30</th><td>11.730769</td><td>2.462215 </td><td>1        </td><td>0        </td><td>0        </td><td>0        </td><td>1        </td><td>0        </td><td>0        </td><td>0        </td><td>0        </td><td>1        </td><td> 1       </td><td>0.01     </td><td> 0.001   </td><td> 0.0001  </td><td>1650     </td><td>5        </td><td>7460     </td><td>14       </td></tr>\n",
       "</tbody>\n",
       "</table>\n"
      ],
      "text/latex": [
       "\\begin{tabular}{r|llllllllllllllllllll}\n",
       "  & wage & lwage & sex & shs & hsg & scl & clg & ad & mw & so & we & ne & exp1 & exp2 & exp3 & exp4 & occ & occ2 & ind & ind2\\\\\n",
       "\\hline\n",
       "\t10 &  9.615385 & 2.263364  & 1         & 0         & 0         & 0         & 1         & 0         & 0         & 0         & 0         & 1         &  7        & 0.49      &  0.343    &  0.2401   & 3600      & 11        & 8370      & 18       \\\\\n",
       "\t12 & 48.076923 & 3.872802  & 0         & 0         & 0         & 0         & 1         & 0         & 0         & 0         & 0         & 1         & 31        & 9.61      & 29.791    & 92.3521   & 3050      & 10        & 5070      & 9        \\\\\n",
       "\t15 & 11.057692 & 2.403126  & 0         & 0         & 1         & 0         & 0         & 0         & 0         & 0         & 0         & 1         & 18        & 3.24      &  5.832    & 10.4976   & 6260      & 19        & 770       & 4        \\\\\n",
       "\t18 & 13.942308 & 2.634928  & 1         & 0         & 0         & 0         & 0         & 1         & 0         & 0         & 0         & 1         & 25        & 6.25      & 15.625    & 39.0625   & 420       & 1         & 6990      & 12       \\\\\n",
       "\t19 & 28.846154 & 3.361977  & 1         & 0         & 0         & 0         & 1         & 0         & 0         & 0         & 0         & 1         & 22        & 4.84      & 10.648    & 23.4256   & 2015      & 6         & 9470      & 22       \\\\\n",
       "\t30 & 11.730769 & 2.462215  & 1         & 0         & 0         & 0         & 1         & 0         & 0         & 0         & 0         & 1         &  1        & 0.01      &  0.001    &  0.0001   & 1650      & 5         & 7460      & 14       \\\\\n",
       "\\end{tabular}\n"
      ],
      "text/markdown": [
       "\n",
       "| <!--/--> | wage | lwage | sex | shs | hsg | scl | clg | ad | mw | so | we | ne | exp1 | exp2 | exp3 | exp4 | occ | occ2 | ind | ind2 |\n",
       "|---|---|---|---|---|---|---|---|---|---|---|---|---|---|---|---|---|---|---|---|---|\n",
       "| 10 |  9.615385 | 2.263364  | 1         | 0         | 0         | 0         | 1         | 0         | 0         | 0         | 0         | 1         |  7        | 0.49      |  0.343    |  0.2401   | 3600      | 11        | 8370      | 18        |\n",
       "| 12 | 48.076923 | 3.872802  | 0         | 0         | 0         | 0         | 1         | 0         | 0         | 0         | 0         | 1         | 31        | 9.61      | 29.791    | 92.3521   | 3050      | 10        | 5070      | 9         |\n",
       "| 15 | 11.057692 | 2.403126  | 0         | 0         | 1         | 0         | 0         | 0         | 0         | 0         | 0         | 1         | 18        | 3.24      |  5.832    | 10.4976   | 6260      | 19        | 770       | 4         |\n",
       "| 18 | 13.942308 | 2.634928  | 1         | 0         | 0         | 0         | 0         | 1         | 0         | 0         | 0         | 1         | 25        | 6.25      | 15.625    | 39.0625   | 420       | 1         | 6990      | 12        |\n",
       "| 19 | 28.846154 | 3.361977  | 1         | 0         | 0         | 0         | 1         | 0         | 0         | 0         | 0         | 1         | 22        | 4.84      | 10.648    | 23.4256   | 2015      | 6         | 9470      | 22        |\n",
       "| 30 | 11.730769 | 2.462215  | 1         | 0         | 0         | 0         | 1         | 0         | 0         | 0         | 0         | 1         |  1        | 0.01      |  0.001    |  0.0001   | 1650      | 5         | 7460      | 14        |\n",
       "\n"
      ],
      "text/plain": [
       "   wage      lwage    sex shs hsg scl clg ad mw so we ne exp1 exp2 exp3  \n",
       "10  9.615385 2.263364 1   0   0   0   1   0  0  0  0  1   7   0.49  0.343\n",
       "12 48.076923 3.872802 0   0   0   0   1   0  0  0  0  1  31   9.61 29.791\n",
       "15 11.057692 2.403126 0   0   1   0   0   0  0  0  0  1  18   3.24  5.832\n",
       "18 13.942308 2.634928 1   0   0   0   0   1  0  0  0  1  25   6.25 15.625\n",
       "19 28.846154 3.361977 1   0   0   0   1   0  0  0  0  1  22   4.84 10.648\n",
       "30 11.730769 2.462215 1   0   0   0   1   0  0  0  0  1   1   0.01  0.001\n",
       "   exp4    occ  occ2 ind  ind2\n",
       "10  0.2401 3600 11   8370 18  \n",
       "12 92.3521 3050 10   5070 9   \n",
       "15 10.4976 6260 19   770  4   \n",
       "18 39.0625 420  1    6990 12  \n",
       "19 23.4256 2015 6    9470 22  \n",
       "30  0.0001 1650 5    7460 14  "
      ]
     },
     "metadata": {},
     "output_type": "display_data"
    }
   ],
   "source": [
    "head(data)"
   ]
  },
  {
   "cell_type": "code",
   "execution_count": 5,
   "id": "9a773506",
   "metadata": {
    "scrolled": true
   },
   "outputs": [
    {
     "data": {
      "text/html": [
       "<ol class=list-inline>\n",
       "\t<li>3068</li>\n",
       "\t<li>20</li>\n",
       "</ol>\n"
      ],
      "text/latex": [
       "\\begin{enumerate*}\n",
       "\\item 3068\n",
       "\\item 20\n",
       "\\end{enumerate*}\n"
      ],
      "text/markdown": [
       "1. 3068\n",
       "2. 20\n",
       "\n",
       "\n"
      ],
      "text/plain": [
       "[1] 3068   20"
      ]
     },
     "metadata": {},
     "output_type": "display_data"
    }
   ],
   "source": [
    "# Focus on the subset of college-educated workers\n",
    "\n",
    "data <- data %>% filter(scl==1 | clg ==1)\n",
    "dim(data)\n",
    "\n",
    "attach(data) "
   ]
  },
  {
   "cell_type": "code",
   "execution_count": 6,
   "id": "d5d70a9e",
   "metadata": {},
   "outputs": [
    {
     "data": {
      "text/html": [
       "0"
      ],
      "text/latex": [
       "0"
      ],
      "text/markdown": [
       "0"
      ],
      "text/plain": [
       "[1] 0"
      ]
     },
     "metadata": {},
     "output_type": "display_data"
    },
    {
     "data": {
      "text/html": [
       "0"
      ],
      "text/latex": [
       "0"
      ],
      "text/markdown": [
       "0"
      ],
      "text/plain": [
       "[1] 0"
      ]
     },
     "metadata": {},
     "output_type": "display_data"
    }
   ],
   "source": [
    "# cheking focus ollege-educated workers\n",
    "\n",
    "unique(data$shs)\n",
    "unique(data$ad)"
   ]
  },
  {
   "cell_type": "code",
   "execution_count": 7,
   "id": "8f89c208",
   "metadata": {},
   "outputs": [],
   "source": [
    "#install.packages('ggplot2')\n",
    "\n",
    "library(ggplot2)"
   ]
  },
  {
   "cell_type": "code",
   "execution_count": 8,
   "id": "9f58e360",
   "metadata": {},
   "outputs": [],
   "source": [
    "data <- data %>% mutate(gender = ifelse(sex == 1 , \"Women\", \"Men\"))"
   ]
  },
  {
   "cell_type": "markdown",
   "id": "c95b7f0a",
   "metadata": {},
   "source": [
    "### 1.0 Main statistics "
   ]
  },
  {
   "cell_type": "code",
   "execution_count": 9,
   "id": "e5bc4f43",
   "metadata": {},
   "outputs": [
    {
     "data": {
      "image/png": "[encoded data removed]",
      "text/plain": [
       "plot without title"
      ]
     },
     "metadata": {},
     "output_type": "display_data"
    }
   ],
   "source": [
    "data %>% filter(scl == 1) %>%\n",
    "ggplot(aes(x=lwage, fill = gender , colour=gender)) +\n",
    "  geom_density(alpha=0.3) +\n",
    "ggtitle(\"Log-wage density (Some - College) \") + theme(text=element_text(size =10), plot.title = element_text(hjust = 0.5)) +\n",
    "labs(x = \"\", \n",
    "     y = \"Density\")"
   ]
  },
  {
   "cell_type": "code",
   "execution_count": 10,
   "id": "09ac43fc",
   "metadata": {
    "scrolled": true
   },
   "outputs": [
    {
     "data": {
      "image/png": "[encoded data removed]",
      "text/plain": [
       "plot without title"
      ]
     },
     "metadata": {},
     "output_type": "display_data"
    }
   ],
   "source": [
    "data %>% filter(clg == 1) %>%\n",
    "ggplot(aes(x=lwage, fill = gender , colour=gender)) +\n",
    "  geom_density(alpha=0.3) +\n",
    "ggtitle(\"Log-wage density (College graduated)\") + theme(text=element_text(size =10), plot.title = element_text(hjust = 0.5)) +\n",
    "labs(x = \"\", \n",
    "     y = \"Density\")"
   ]
  },
  {
   "cell_type": "code",
   "execution_count": 11,
   "id": "e412761e",
   "metadata": {},
   "outputs": [
    {
     "data": {
      "image/png": "[encoded data removed]",
      "text/plain": [
       "plot without title"
      ]
     },
     "metadata": {},
     "output_type": "display_data"
    }
   ],
   "source": [
    "options(repr.plot.width = 5, repr.plot.height =4) \n",
    "\n",
    "data %>% mutate(total = sum(clg)) %>%\n",
    "        group_by(gender) %>% \n",
    "                    summarise(clg_total = sum(clg), total = mean(total)) %>% \n",
    "        mutate(var1 = (clg_total/total)*100 )  %>%\n",
    "        ggplot(aes(x=\"\", y=var1, fill=gender)) +\n",
    "          geom_bar(stat=\"identity\", width=1) +\n",
    "          coord_polar(\"y\", start=0) +\n",
    "          theme_void() +\n",
    "        geom_text(aes(label = paste0(round(var1,2), \"%\")), position = position_stack(vjust=0.5)) + \n",
    "            labs(title = \"Percent of graduated College by gender\") + theme(text=element_text(size =10), plot.title = element_text(hjust = 0.5))"
   ]
  },
  {
   "cell_type": "code",
   "execution_count": 12,
   "id": "e9999c7f",
   "metadata": {},
   "outputs": [
    {
     "data": {
      "image/png": "[encoded data removed]",
      "text/plain": [
       "plot without title"
      ]
     },
     "metadata": {},
     "output_type": "display_data"
    }
   ],
   "source": [
    "options(repr.plot.width = 5, repr.plot.height =4) \n",
    "\n",
    "data %>% mutate(total = sum(scl)) %>%\n",
    "        group_by(gender) %>% \n",
    "                    summarise(clg_total = sum(scl), total = mean(total)) %>% \n",
    "        mutate(var1 = (clg_total/total)*100 )  %>%\n",
    "        ggplot(aes(x=\"\", y=var1, fill=gender)) +\n",
    "          geom_bar(stat=\"identity\", width=1) +\n",
    "          coord_polar(\"y\", start=0) +\n",
    "          theme_void() +\n",
    "        geom_text(aes(label = paste0(round(var1,2), \"%\")), position = position_stack(vjust=0.5)) + \n",
    "            labs(title = \"Percent of some College by gender\") + theme(text=element_text(size =10), plot.title = element_text(hjust = 0.5))"
   ]
  },
  {
   "cell_type": "code",
   "execution_count": 13,
   "id": "df481faa",
   "metadata": {},
   "outputs": [
    {
     "data": {
      "text/html": [
       "<table>\n",
       "<thead><tr><th></th><th scope=col>All</th><th scope=col>Men</th><th scope=col>Women</th></tr></thead>\n",
       "<tbody>\n",
       "\t<tr><th scope=row>Log Wage</th><td> 3.0000223</td><td> 3.0384121</td><td> 2.9569035</td></tr>\n",
       "\t<tr><th scope=row>Sex</th><td> 0.4709909</td><td> 0.0000000</td><td> 1.0000000</td></tr>\n",
       "\t<tr><th scope=row>Less then High School</th><td> 0.0000000</td><td> 0.0000000</td><td> 0.0000000</td></tr>\n",
       "\t<tr><th scope=row>High School Graduate</th><td> 0.0000000</td><td> 0.0000000</td><td> 0.0000000</td></tr>\n",
       "\t<tr><th scope=row>Some College</th><td> 0.4667536</td><td> 0.4818238</td><td> 0.4498270</td></tr>\n",
       "\t<tr><th scope=row>Gollage Graduate</th><td> 0.5332464</td><td> 0.5181762</td><td> 0.5501730</td></tr>\n",
       "\t<tr><th scope=row>Advanced Degree</th><td> 0.0000000</td><td> 0.0000000</td><td> 0.0000000</td></tr>\n",
       "\t<tr><th scope=row>Northeast</th><td> 0.2659713</td><td> 0.2612446</td><td> 0.2712803</td></tr>\n",
       "\t<tr><th scope=row>Midwest</th><td> 0.2858540</td><td> 0.2908195</td><td> 0.2802768</td></tr>\n",
       "\t<tr><th scope=row>South</th><td> 0.2216428</td><td> 0.2285890</td><td> 0.2138408</td></tr>\n",
       "\t<tr><th scope=row>West</th><td> 0.2265319</td><td> 0.2193469</td><td> 0.2346021</td></tr>\n",
       "\t<tr><th scope=row>Experience</th><td>12.7009452</td><td>12.4331485</td><td>13.0017301</td></tr>\n",
       "</tbody>\n",
       "</table>\n"
      ],
      "text/latex": [
       "\\begin{tabular}{r|lll}\n",
       "  & All & Men & Women\\\\\n",
       "\\hline\n",
       "\tLog Wage &  3.0000223 &  3.0384121 &  2.9569035\\\\\n",
       "\tSex &  0.4709909 &  0.0000000 &  1.0000000\\\\\n",
       "\tLess then High School &  0.0000000 &  0.0000000 &  0.0000000\\\\\n",
       "\tHigh School Graduate &  0.0000000 &  0.0000000 &  0.0000000\\\\\n",
       "\tSome College &  0.4667536 &  0.4818238 &  0.4498270\\\\\n",
       "\tGollage Graduate &  0.5332464 &  0.5181762 &  0.5501730\\\\\n",
       "\tAdvanced Degree &  0.0000000 &  0.0000000 &  0.0000000\\\\\n",
       "\tNortheast &  0.2659713 &  0.2612446 &  0.2712803\\\\\n",
       "\tMidwest &  0.2858540 &  0.2908195 &  0.2802768\\\\\n",
       "\tSouth &  0.2216428 &  0.2285890 &  0.2138408\\\\\n",
       "\tWest &  0.2265319 &  0.2193469 &  0.2346021\\\\\n",
       "\tExperience & 12.7009452 & 12.4331485 & 13.0017301\\\\\n",
       "\\end{tabular}\n"
      ],
      "text/markdown": [
       "\n",
       "| <!--/--> | All | Men | Women |\n",
       "|---|---|---|---|\n",
       "| Log Wage |  3.0000223 |  3.0384121 |  2.9569035 |\n",
       "| Sex |  0.4709909 |  0.0000000 |  1.0000000 |\n",
       "| Less then High School |  0.0000000 |  0.0000000 |  0.0000000 |\n",
       "| High School Graduate |  0.0000000 |  0.0000000 |  0.0000000 |\n",
       "| Some College |  0.4667536 |  0.4818238 |  0.4498270 |\n",
       "| Gollage Graduate |  0.5332464 |  0.5181762 |  0.5501730 |\n",
       "| Advanced Degree |  0.0000000 |  0.0000000 |  0.0000000 |\n",
       "| Northeast |  0.2659713 |  0.2612446 |  0.2712803 |\n",
       "| Midwest |  0.2858540 |  0.2908195 |  0.2802768 |\n",
       "| South |  0.2216428 |  0.2285890 |  0.2138408 |\n",
       "| West |  0.2265319 |  0.2193469 |  0.2346021 |\n",
       "| Experience | 12.7009452 | 12.4331485 | 13.0017301 |\n",
       "\n"
      ],
      "text/plain": [
       "                      All        Men        Women     \n",
       "Log Wage               3.0000223  3.0384121  2.9569035\n",
       "Sex                    0.4709909  0.0000000  1.0000000\n",
       "Less then High School  0.0000000  0.0000000  0.0000000\n",
       "High School Graduate   0.0000000  0.0000000  0.0000000\n",
       "Some College           0.4667536  0.4818238  0.4498270\n",
       "Gollage Graduate       0.5332464  0.5181762  0.5501730\n",
       "Advanced Degree        0.0000000  0.0000000  0.0000000\n",
       "Northeast              0.2659713  0.2612446  0.2712803\n",
       "Midwest                0.2858540  0.2908195  0.2802768\n",
       "South                  0.2216428  0.2285890  0.2138408\n",
       "West                   0.2265319  0.2193469  0.2346021\n",
       "Experience            12.7009452 12.4331485 13.0017301"
      ]
     },
     "metadata": {},
     "output_type": "display_data"
    }
   ],
   "source": [
    "library(xtable)\n",
    "\n",
    "Z <- data[which(colnames(data) %in% c(\"lwage\",\"sex\",\"shs\",\"hsg\",\"scl\",\"clg\",\"ad\",\"ne\",\"mw\",\"so\",\"we\",\"exp1\"))]\n",
    "\n",
    "data_female <- data[data$sex==1,]\n",
    "Z_female <- data_female[which(colnames(data) %in% c(\"lwage\",\"sex\",\"shs\",\"hsg\",\"scl\",\"clg\",\"ad\",\"ne\",\"mw\",\"so\",\"we\",\"exp1\"))]\n",
    "\n",
    "\n",
    "data_male <- data[data$sex==0,]\n",
    "Z_male <- data_male[which(colnames(data) %in% c(\"lwage\",\"sex\",\"shs\",\"hsg\",\"scl\",\"clg\",\"ad\",\"ne\",\"mw\",\"so\",\"we\",\"exp1\"))]\n",
    "\n",
    "table <- matrix(0, 12, 3)\n",
    "table[1:12,1]   <- as.numeric(lapply(Z,mean))\n",
    "table[1:12,2]   <- as.numeric(lapply(Z_male,mean))\n",
    "table[1:12,3]   <- as.numeric(lapply(Z_female,mean))\n",
    "rownames(table) <- c(\"Log Wage\",\"Sex\",\"Less then High School\",\"High School Graduate\",\"Some College\",\"Gollage Graduate\",\"Advanced Degree\", \"Northeast\",\"Midwest\",\"South\",\"West\",\"Experience\")\n",
    "colnames(table) <- c(\"All\",\"Men\",\"Women\")\n",
    "tab<- xtable(table, digits = 4)\n",
    "tab"
   ]
  },
  {
   "cell_type": "code",
   "execution_count": 14,
   "id": "61e3b7d1",
   "metadata": {
    "scrolled": true
   },
   "outputs": [
    {
     "data": {
      "text/html": [
       "-0.0815085550873591"
      ],
      "text/latex": [
       "-0.0815085550873591"
      ],
      "text/markdown": [
       "-0.0815085550873591"
      ],
      "text/plain": [
       "[1] -0.08150856"
      ]
     },
     "metadata": {},
     "output_type": "display_data"
    }
   ],
   "source": [
    "mean(data_female$lwage)-mean(data_male$lwage)"
   ]
  },
  {
   "cell_type": "markdown",
   "id": "d8f0e6ca",
   "metadata": {},
   "source": [
    "Thus, the unconditional gender wage gap is about $8,1$\\% for the group of never married workers (women get paid less on average in our sample). We also observe that never married working women are relatively more educated than working men and have lower working experience."
   ]
  },
  {
   "cell_type": "code",
   "execution_count": 15,
   "id": "f40ab034",
   "metadata": {},
   "outputs": [
    {
     "name": "stdout",
     "output_type": "stream",
     "text": [
      "\n",
      "  There is a binary version available but the source version is later:\n",
      "         binary source needs_compilation\n",
      "sandwich  3.0-0  3.0-1             FALSE\n",
      "\n"
     ]
    },
    {
     "name": "stderr",
     "output_type": "stream",
     "text": [
      "installing the source package 'sandwich'\n",
      "\n"
     ]
    }
   ],
   "source": [
    "install.packages('sandwich')"
   ]
  },
  {
   "cell_type": "markdown",
   "id": "0425a9e0",
   "metadata": {},
   "source": [
    "This unconditional (predictive) effect of gender equals the coefficient $\\beta$ in the univariate ols regression of $Y$ on $D$:\n",
    "\n",
    "\\begin{align}\n",
    "\\log(Y) &=\\beta D + \\epsilon.\n",
    "\\end{align}"
   ]
  },
  {
   "cell_type": "code",
   "execution_count": 16,
   "id": "e8cf57ed",
   "metadata": {},
   "outputs": [
    {
     "name": "stdout",
     "output_type": "stream",
     "text": [
      "The estimated gender coefficient is -0.08150856  and the corresponding robust standard error is 0.01957965"
     ]
    }
   ],
   "source": [
    "library(sandwich)\n",
    "\n",
    "nocontrol.fit <- lm(lwage ~ sex)\n",
    "nocontrol.est <- summary(nocontrol.fit)$coef[\"sex\",1]\n",
    "HCV.coefs <- vcovHC(nocontrol.fit, type = 'HC');\n",
    "nocontrol.se <- sqrt(diag(HCV.coefs))[2] # Estimated std errors\n",
    "\n",
    "# print unconditional effect of gender and the corresponding standard error\n",
    "cat (\"The estimated gender coefficient is\",nocontrol.est,\" and the corresponding robust standard error is\",nocontrol.se) \n"
   ]
  },
  {
   "cell_type": "markdown",
   "id": "4dc04ad1",
   "metadata": {},
   "source": [
    "Next, we run an ols regression of $Y$ on $(D,W)$ to control for the effect of covariates summarized in $W$:\n",
    "\n",
    "\\begin{align}\n",
    "\\log(Y) &=\\beta_1 D  + \\beta_2' W + \\epsilon.\n",
    "\\end{align}\n",
    "\n",
    "Here, we are considering the flexible model from the previous lab. Hence, $W$ controls for experience, education, region, and occupation and industry indicators plus transformations and two-way interactions."
   ]
  },
  {
   "cell_type": "code",
   "execution_count": 17,
   "id": "40456484",
   "metadata": {},
   "outputs": [
    {
     "name": "stdout",
     "output_type": "stream",
     "text": [
      "The estimated gender coefficient is -0.05306234  and the corresponding robust standard error is 0.01835285"
     ]
    }
   ],
   "source": [
    "# Ols regression with controls\n",
    "\n",
    "flex <- lwage ~ sex + (exp1+exp2+exp3+exp4)*(clg+occ2+ind2+mw+so+we)\n",
    "\n",
    "#   Note that ()*() operation in formula objects in R creates a formula of the sort:\n",
    "#  (exp1+exp2+exp3+exp4)+ (shs+hsg+scl+clg+occ2+ind2+mw+so+we) +  (exp1+exp2+exp3+exp4)*(shs+hsg+scl+clg+occ2+ind2+mw+so+we)\n",
    "#  This is not intuitive at all, but that's what it does.\n",
    "\n",
    "control.fit <- lm(flex, data=data)\n",
    "control.est <- summary(control.fit)$coef[2,1]\n",
    "\n",
    "\n",
    "HCV.coefs <- vcovHC(control.fit, type = 'HC');\n",
    "control.se <- sqrt(diag(HCV.coefs))[2] # Estimated std errors\n",
    "\n",
    "cat (\"The estimated gender coefficient is\",control.est,\" and the corresponding robust standard error is\",control.se) "
   ]
  },
  {
   "cell_type": "markdown",
   "id": "b98cfcb1",
   "metadata": {},
   "source": [
    "The estimated regression coefficient $\\beta_1\\approx-0.0530$ measures how our linear prediction of wage changes if we set the gender variable $D$ from 0 to 1, holding the controls $W$ fixed.\n",
    "We can call this the *predictive effect* (PE), as it measures the impact of a variable on the prediction we make. Overall, we see that the unconditional wage gap of size $8.1$\\% for women decreases to about $5.3$\\% after controlling for worker characteristics.  \n"
   ]
  },
  {
   "cell_type": "code",
   "execution_count": 18,
   "id": "94901d3c",
   "metadata": {},
   "outputs": [
    {
     "name": "stdout",
     "output_type": "stream",
     "text": [
      "Coefficient for D via partialling-out -0.05306234"
     ]
    },
    {
     "data": {
      "text/html": [
       "<dl class=dl-horizontal>\n",
       "\t<dt>2.5 %</dt>\n",
       "\t\t<dd>-0.0895706989969286</dd>\n",
       "\t<dt>97.5 %</dt>\n",
       "\t\t<dd>-0.0165539817185753</dd>\n",
       "</dl>\n"
      ],
      "text/latex": [
       "\\begin{description*}\n",
       "\\item[2.5 \\textbackslash{}\\%] -0.0895706989969286\n",
       "\\item[97.5 \\textbackslash{}\\%] -0.0165539817185753\n",
       "\\end{description*}\n"
      ],
      "text/markdown": [
       "2.5 %\n",
       ":   -0.089570698996928697.5 %\n",
       ":   -0.0165539817185753\n",
       "\n"
      ],
      "text/plain": [
       "      2.5 %      97.5 % \n",
       "-0.08957070 -0.01655398 "
      ]
     },
     "metadata": {},
     "output_type": "display_data"
    }
   ],
   "source": [
    "# Partialling-Out using ols\n",
    "\n",
    "# models\n",
    "flex.y <- lwage ~  (exp1+exp2+exp3+exp4)*(clg+occ2+ind2+mw+so+we) # model for Y\n",
    "flex.d <- sex ~ (exp1+exp2+exp3+exp4)*(clg+occ2+ind2+mw+so+we) # model for D\n",
    "\n",
    "# partialling-out the linear effect of W from Y\n",
    "t.Y <- lm(flex.y, data=data)$res\n",
    "# partialling-out the linear effect of W from D\n",
    "t.D <- lm(flex.d, data=data)$res\n",
    "\n",
    "# regression of Y on D after partialling-out the effect of W\n",
    "partial.fit <- lm(t.Y~t.D)\n",
    "partial.est <- summary(partial.fit)$coef[2,1]\n",
    "\n",
    "cat(\"Coefficient for D via partialling-out\", partial.est)\n",
    "\n",
    "# standard error\n",
    "HCV.coefs <- vcovHC(partial.fit, type = 'HC')\n",
    "partial.se <- sqrt(diag(HCV.coefs))[2]\n",
    "\n",
    "# confidence interval\n",
    "confint(partial.fit)[2,]"
   ]
  },
  {
   "cell_type": "markdown",
   "id": "e3014975",
   "metadata": {},
   "source": [
    "Again, the estimated coefficient measures the linear predictive effect (PE) of $D$ on $Y$ after taking out the linear effect of $W$ on both of these variables. This coefficient equals the estimated coefficient from the ols regression with controls.\n",
    "\n",
    "We know that the partialling-out approach works well when the dimension of $W$ is low\n",
    "in relation to the sample size $n$. When the dimension of $W$ is relatively high, we need to use variable selection\n",
    "or penalization for regularization purposes. \n",
    "\n",
    "In the following, we illustrate the partialling-out approach using lasso instead of ols."
   ]
  },
  {
   "cell_type": "code",
   "execution_count": 19,
   "id": "f39c8c25",
   "metadata": {},
   "outputs": [
    {
     "name": "stderr",
     "output_type": "stream",
     "text": [
      "Warning message:\n",
      "\"package 'lmtest' was built under R version 3.6.3\"Loading required package: zoo\n",
      "\n",
      "Attaching package: 'zoo'\n",
      "\n",
      "The following objects are masked from 'package:base':\n",
      "\n",
      "    as.Date, as.Date.numeric\n",
      "\n"
     ]
    }
   ],
   "source": [
    "#install.packages('lmtest')\n",
    "\n",
    "library(lmtest)"
   ]
  },
  {
   "cell_type": "code",
   "execution_count": 20,
   "id": "810856a0",
   "metadata": {
    "scrolled": true
   },
   "outputs": [
    {
     "data": {
      "text/html": [
       "<table>\n",
       "<thead><tr><th></th><th scope=col>Estimate</th><th scope=col>se</th><th scope=col>lower_bound</th><th scope=col>upper_bound</th></tr></thead>\n",
       "<tbody>\n",
       "\t<tr><th scope=row>OLS</th><td>-0.08150856</td><td>0.01957965 </td><td>-0.11988396</td><td>-0.04313315</td></tr>\n",
       "\t<tr><th scope=row>OLS with control</th><td>-0.05306234</td><td>0.01835285 </td><td>-0.08903326</td><td>-0.01709142</td></tr>\n",
       "\t<tr><th scope=row>Partialling out approach</th><td>-0.05306234</td><td>0.01835285 </td><td>-0.08903326</td><td>-0.01709142</td></tr>\n",
       "</tbody>\n",
       "</table>\n"
      ],
      "text/latex": [
       "\\begin{tabular}{r|llll}\n",
       "  & Estimate & se & lower\\_bound & upper\\_bound\\\\\n",
       "\\hline\n",
       "\tOLS & -0.08150856 & 0.01957965  & -0.11988396 & -0.04313315\\\\\n",
       "\tOLS with control & -0.05306234 & 0.01835285  & -0.08903326 & -0.01709142\\\\\n",
       "\tPartialling out approach & -0.05306234 & 0.01835285  & -0.08903326 & -0.01709142\\\\\n",
       "\\end{tabular}\n"
      ],
      "text/markdown": [
       "\n",
       "| <!--/--> | Estimate | se | lower_bound | upper_bound |\n",
       "|---|---|---|---|---|\n",
       "| OLS | -0.08150856 | 0.01957965  | -0.11988396 | -0.04313315 |\n",
       "| OLS with control | -0.05306234 | 0.01835285  | -0.08903326 | -0.01709142 |\n",
       "| Partialling out approach | -0.05306234 | 0.01835285  | -0.08903326 | -0.01709142 |\n",
       "\n"
      ],
      "text/plain": [
       "                         Estimate    se         lower_bound upper_bound\n",
       "OLS                      -0.08150856 0.01957965 -0.11988396 -0.04313315\n",
       "OLS with control         -0.05306234 0.01835285 -0.08903326 -0.01709142\n",
       "Partialling out approach -0.05306234 0.01835285 -0.08903326 -0.01709142"
      ]
     },
     "metadata": {},
     "output_type": "display_data"
    }
   ],
   "source": [
    "table<- matrix(0, 3, 4)\n",
    "table[1,1]<- nocontrol.est  \n",
    "table[1,2]<- nocontrol.se   \n",
    "table[2,1]<- control.est\n",
    "table[2,2]<- control.se    \n",
    "table[3,1]<- partial.est  \n",
    "table[3,2]<- partial.se \n",
    "table[1,3]<- coefci(nocontrol.fit, df = Inf, vcov. = vcovHC, type = \"HC\")[2,1] \n",
    "table[1,4]<- coefci(nocontrol.fit, df = Inf, vcov. = vcovHC, type = \"HC\")[2,2] \n",
    "table[2,3]<- coefci(control.fit, df = Inf, vcov. = vcovHC, type = \"HC\")[2,1] \n",
    "table[2,4]<- coefci(control.fit, df = Inf, vcov. = vcovHC, type = \"HC\")[2,2] \n",
    "table[3,3]<- coefci(partial.fit, df = Inf, vcov. = vcovHC, type = \"HC\")[2,1] \n",
    "table[3,4]<- coefci(partial.fit, df = Inf, vcov. = vcovHC, type = \"HC\")[2,2] \n",
    "\n",
    "colnames(table)<- c(\"Estimate\",\"se\",\"lower_bound\",\"upper_bound\")\n",
    "rownames(table)<- c(\"OLS\", \"OLS with control\", \"Partialling out approach\")\n",
    "tab<- xtable(table)\n",
    "tab"
   ]
  },
  {
   "cell_type": "code",
   "execution_count": 21,
   "id": "0cd1d84d",
   "metadata": {
    "scrolled": false
   },
   "outputs": [
    {
     "data": {
      "image/png": "[encoded data removed]",
      "text/plain": [
       "plot without title"
      ]
     },
     "metadata": {},
     "output_type": "display_data"
    }
   ],
   "source": [
    "options(repr.plot.width = 5, repr.plot.height =4)  # plot size \n",
    "\n",
    "ggplot(tab, aes(x=rownames(tab), y=Estimate)) +\n",
    "    geom_point(size=1.5) + \n",
    "    geom_errorbar(aes(ymin=lower_bound, ymax=upper_bound) , width = 0.1,color=\"blue\", linetype=\"dashed\") + \n",
    "  labs(x=\"Linear Models\", y=\"\") + ggtitle(\"Confindece interval at 5% confidence level\") +\n",
    "  theme_bw()  + theme(text=element_text(size =8), plot.title = element_text(hjust = 0.5))"
   ]
  },
  {
   "cell_type": "markdown",
   "id": "b91a7bb9",
   "metadata": {},
   "source": [
    "# Graph: Experience profile and log-wage"
   ]
  },
  {
   "cell_type": "markdown",
   "id": "f85b62ab",
   "metadata": {},
   "source": [
    "The task is to replicate the Figure 11.10 from Lemieux (2006) considering that \"you will have only two plotted lines for this college-educated workers\". It means we have to plot using the subset of the original data.\n",
    "\n",
    "A first way is to collapse the data to plot the mean of log-wages for each year of experience. To do so, we first estimate the logwage by a quafratic and quartic expressions, and then we clean the data to plot."
   ]
  },
  {
   "cell_type": "code",
   "execution_count": 22,
   "id": "7147bfa1",
   "metadata": {},
   "outputs": [],
   "source": [
    "data <- data %>% filter(clg == 1)"
   ]
  },
  {
   "cell_type": "code",
   "execution_count": 23,
   "id": "f3ff4ce9",
   "metadata": {},
   "outputs": [],
   "source": [
    "quartic   <- lwage ~  exp1+exp2+exp3+exp4\n",
    "quadratic <- lwage ~  exp1+exp2\n",
    "\n",
    "# quartic\n",
    "quartic_pred <- predict(lm(quartic, data=data))\n",
    "\n",
    "# quadratic\n",
    "quadratic_pred <- predict(lm(quadratic, data=data))\n",
    "\n",
    "# adding predictions\n",
    "z_clg <- data %>% mutate(lwage_quartic = quartic_pred)\n",
    "z_clg <- z_clg %>% mutate(lwage_quadratic = quadratic_pred)\n",
    "\n"
   ]
  },
  {
   "cell_type": "code",
   "execution_count": 24,
   "id": "eddf9f95",
   "metadata": {},
   "outputs": [
    {
     "data": {
      "text/html": [
       "<ol class=list-inline>\n",
       "\t<li>'exp1'</li>\n",
       "\t<li>'clg'</li>\n",
       "\t<li>'lwage'</li>\n",
       "\t<li>'lwage_quartic'</li>\n",
       "\t<li>'lwage_quadratic'</li>\n",
       "</ol>\n"
      ],
      "text/latex": [
       "\\begin{enumerate*}\n",
       "\\item 'exp1'\n",
       "\\item 'clg'\n",
       "\\item 'lwage'\n",
       "\\item 'lwage\\_quartic'\n",
       "\\item 'lwage\\_quadratic'\n",
       "\\end{enumerate*}\n"
      ],
      "text/markdown": [
       "1. 'exp1'\n",
       "2. 'clg'\n",
       "3. 'lwage'\n",
       "4. 'lwage_quartic'\n",
       "5. 'lwage_quadratic'\n",
       "\n",
       "\n"
      ],
      "text/plain": [
       "[1] \"exp1\"            \"clg\"             \"lwage\"           \"lwage_quartic\"  \n",
       "[5] \"lwage_quadratic\""
      ]
     },
     "metadata": {},
     "output_type": "display_data"
    }
   ],
   "source": [
    "# cleaning data to plot\n",
    "graph_2 <- z_clg %>% group_by(exp1, clg) %>% \n",
    "  summarise_at(vars(lwage, lwage_quartic, lwage_quadratic), mean)\n",
    "names(graph_2)"
   ]
  },
  {
   "cell_type": "code",
   "execution_count": 25,
   "id": "e1cd130f",
   "metadata": {},
   "outputs": [
    {
     "data": {
      "image/png": "[encoded data removed]",
      "text/plain": [
       "plot without title"
      ]
     },
     "metadata": {},
     "output_type": "display_data"
    }
   ],
   "source": [
    "options(repr.plot.width = 7, repr.plot.height =4) \n",
    "\n",
    "\n",
    "ggplot(NULL,aes(exp1,lwage)) +\n",
    "stat_summary_bin(data=z_clg, fun='mean', bins=20, color='black', size=1.5, geom='point') +\n",
    "geom_line(data=z_clg, aes(x=exp1, y=lwage_quadratic, colour=\"darkblue\")) + \n",
    "geom_line(data=z_clg, aes(x=exp1, y=lwage_quartic, colour=\"red\")) +\n",
    "labs(x = \"years of potential experience\", \n",
    "     y = \"Log-wage\", \n",
    "     title = \"Experience profiles and log-wage for college-educated workers\") +\n",
    "theme(legend.key.height = unit(1, 'cm')) +\n",
    "scale_color_identity(name = \"Legend\", labels = c(\"Quadratic fit\", \"Quartic fit\"),\n",
    "                     guide = \"legend\")+\n",
    "  theme_bw() + theme(text=element_text(size =8), plot.title = element_text(hjust = 0.5))"
   ]
  },
  {
   "cell_type": "markdown",
   "id": "e4b73c8f",
   "metadata": {},
   "source": [
    "It is clear that the relation between experiencie and log-wage fits better to the quartic prediction."
   ]
  }
 ],
 "metadata": {
  "kernelspec": {
   "display_name": "R",
   "language": "R",
   "name": "ir"
  },
  "language_info": {
   "codemirror_mode": "r",
   "file_extension": ".r",
   "mimetype": "text/x-r-source",
   "name": "R",
   "pygments_lexer": "r",
   "version": "4.2.0"
  }
 },
 "nbformat": 4,
 "nbformat_minor": 5
}
