{
 "cells": [
  {
   "cell_type": "markdown",
   "metadata": {},
   "source": [
    "# Lab 3: \"Analyzing RCT data with Precision Adjustment\""
   ]
  },
  {
   "cell_type": "markdown",
   "metadata": {},
   "source": [
    "# Group 5"
   ]
  },
  {
   "cell_type": "markdown",
   "metadata": {},
   "source": [
    "Members:\n",
    "1. Claudia Vivas\n",
    "2. Claudio Cabrera\n",
    "3. Michael Medina\n",
    "4. Edmar Quispe\n",
    "5. Mirian"
   ]
  },
  {
   "cell_type": "markdown",
   "metadata": {},
   "source": [
    "# *QUESTION 1*"
   ]
  },
  {
   "cell_type": "markdown",
   "metadata": {},
   "source": [
    "### 1.1 Multiconilearity\n",
    "\n",
    "We talk about multicollinearity when independent variables of some linear regresion have a high correlation between each one. The results could be biased to the analysis, so the model has a problem. Two cases arise form multicollinearity: Perfect Multicolinearity and Imperfect Multicollinearity. In the first case, it happens when two or more regressors X have a linear and exact relationship between each one , which breaks one of the linear regresion's assumption.\n",
    "\n",
    "$$\n",
    "PUBINV = \\beta_1 + \\beta_2 GDP + \\beta_3 PUBSPEND + \\beta_4 OPEN + \\beta_5 PIV + \\beta_6 PUBSAV + \\varepsilon_i\n",
    "$$\n",
    "\n",
    "Where:\n",
    "\n",
    "*PUBINV*: Public investment\n",
    "\n",
    "*GDP*: Gross Domestic Product\n",
    "\n",
    "*PUBSPEND*: Public spending\n",
    "\n",
    "*OPEN*: Degree of openness\n",
    "\n",
    "*PIV*: Private investment\n",
    "\n",
    "*PUBSAV*: Public savings\n",
    "\n",
    "\n",
    "+ Perfect multicollinearity exists when we express: $ PUBSAV = GDP - PUBSPEND $\n",
    "+ In this case, it will not be possible to measure the effect of public savings (PUBSAV) since it is calculated as a combination of GDP and public expenditure (PUBSPEND)."
   ]
  },
  {
   "cell_type": "markdown",
   "metadata": {},
   "source": [
    "### 1.2 Create a 10x10 matrix following the next :\n",
    "+ 9 vectors (columns) follow a normal distribution.\n",
    "+ The 10th vector is a linear combination of tree vectors.\n",
    "+ Feel free to choose any functional form for the linear combination.\n",
    "+ Try to find the inverse of this matrix and show what is the output you get.\n",
    "+ Explain why you get different results."
   ]
  },
  {
   "cell_type": "code",
   "execution_count": 16,
   "metadata": {},
   "outputs": [
    {
     "data": {
      "text/html": [
       "<table>\n",
       "<tbody>\n",
       "\t<tr><td> 0.90</td><td> 1.01</td><td> 0.36</td><td> 0.12</td><td>-0.27</td><td> 1.69</td><td>-1.34</td><td>-0.14</td><td>-1.02</td></tr>\n",
       "\t<tr><td>-1.17</td><td>-0.19</td><td> 0.38</td><td> 0.83</td><td> 0.81</td><td> 1.00</td><td>-1.29</td><td> 1.33</td><td> 1.87</td></tr>\n",
       "\t<tr><td>-0.90</td><td>-0.98</td><td> 1.11</td><td>-1.56</td><td>-1.12</td><td> 0.19</td><td>-0.31</td><td> 0.44</td><td> 1.08</td></tr>\n",
       "\t<tr><td>-1.44</td><td> 0.09</td><td> 1.21</td><td>-0.22</td><td>-1.43</td><td> 1.24</td><td> 0.16</td><td> 0.07</td><td>-1.07</td></tr>\n",
       "\t<tr><td>-0.33</td><td>-0.05</td><td>-0.35</td><td>-0.82</td><td> 0.06</td><td> 0.31</td><td>-0.83</td><td> 1.30</td><td>-2.20</td></tr>\n",
       "\t<tr><td>-2.90</td><td>-0.08</td><td>-0.86</td><td> 1.08</td><td>-0.79</td><td> 0.64</td><td>-0.02</td><td>-0.21</td><td> 0.53</td></tr>\n",
       "\t<tr><td>-1.06</td><td>-0.65</td><td> 0.65</td><td> 1.08</td><td> 0.34</td><td> 0.02</td><td>-1.14</td><td> 1.02</td><td> 1.34</td></tr>\n",
       "\t<tr><td> 0.28</td><td>-0.95</td><td> 0.33</td><td> 0.14</td><td>-0.26</td><td> 1.18</td><td> 1.07</td><td> 1.37</td><td> 1.39</td></tr>\n",
       "\t<tr><td> 0.75</td><td> 1.02</td><td>-0.52</td><td> 0.16</td><td>-1.30</td><td>-0.45</td><td> 2.31</td><td> 1.48</td><td> 2.75</td></tr>\n",
       "\t<tr><td> 0.24</td><td> 0.86</td><td>-0.24</td><td>-0.17</td><td> 0.37</td><td> 0.42</td><td> 0.42</td><td> 0.89</td><td>-0.05</td></tr>\n",
       "</tbody>\n",
       "</table>\n"
      ],
      "text/latex": [
       "\\begin{tabular}{lllllllll}\n",
       "\t  0.90 &  1.01 &  0.36 &  0.12 & -0.27 &  1.69 & -1.34 & -0.14 & -1.02\\\\\n",
       "\t -1.17 & -0.19 &  0.38 &  0.83 &  0.81 &  1.00 & -1.29 &  1.33 &  1.87\\\\\n",
       "\t -0.90 & -0.98 &  1.11 & -1.56 & -1.12 &  0.19 & -0.31 &  0.44 &  1.08\\\\\n",
       "\t -1.44 &  0.09 &  1.21 & -0.22 & -1.43 &  1.24 &  0.16 &  0.07 & -1.07\\\\\n",
       "\t -0.33 & -0.05 & -0.35 & -0.82 &  0.06 &  0.31 & -0.83 &  1.30 & -2.20\\\\\n",
       "\t -2.90 & -0.08 & -0.86 &  1.08 & -0.79 &  0.64 & -0.02 & -0.21 &  0.53\\\\\n",
       "\t -1.06 & -0.65 &  0.65 &  1.08 &  0.34 &  0.02 & -1.14 &  1.02 &  1.34\\\\\n",
       "\t  0.28 & -0.95 &  0.33 &  0.14 & -0.26 &  1.18 &  1.07 &  1.37 &  1.39\\\\\n",
       "\t  0.75 &  1.02 & -0.52 &  0.16 & -1.30 & -0.45 &  2.31 &  1.48 &  2.75\\\\\n",
       "\t  0.24 &  0.86 & -0.24 & -0.17 &  0.37 &  0.42 &  0.42 &  0.89 & -0.05\\\\\n",
       "\\end{tabular}\n"
      ],
      "text/markdown": [
       "\n",
       "|  0.90 |  1.01 |  0.36 |  0.12 | -0.27 |  1.69 | -1.34 | -0.14 | -1.02 |\n",
       "| -1.17 | -0.19 |  0.38 |  0.83 |  0.81 |  1.00 | -1.29 |  1.33 |  1.87 |\n",
       "| -0.90 | -0.98 |  1.11 | -1.56 | -1.12 |  0.19 | -0.31 |  0.44 |  1.08 |\n",
       "| -1.44 |  0.09 |  1.21 | -0.22 | -1.43 |  1.24 |  0.16 |  0.07 | -1.07 |\n",
       "| -0.33 | -0.05 | -0.35 | -0.82 |  0.06 |  0.31 | -0.83 |  1.30 | -2.20 |\n",
       "| -2.90 | -0.08 | -0.86 |  1.08 | -0.79 |  0.64 | -0.02 | -0.21 |  0.53 |\n",
       "| -1.06 | -0.65 |  0.65 |  1.08 |  0.34 |  0.02 | -1.14 |  1.02 |  1.34 |\n",
       "|  0.28 | -0.95 |  0.33 |  0.14 | -0.26 |  1.18 |  1.07 |  1.37 |  1.39 |\n",
       "|  0.75 |  1.02 | -0.52 |  0.16 | -1.30 | -0.45 |  2.31 |  1.48 |  2.75 |\n",
       "|  0.24 |  0.86 | -0.24 | -0.17 |  0.37 |  0.42 |  0.42 |  0.89 | -0.05 |\n",
       "\n"
      ],
      "text/plain": [
       "      [,1]  [,2]  [,3]  [,4]  [,5]  [,6]  [,7]  [,8]  [,9] \n",
       " [1,]  0.90  1.01  0.36  0.12 -0.27  1.69 -1.34 -0.14 -1.02\n",
       " [2,] -1.17 -0.19  0.38  0.83  0.81  1.00 -1.29  1.33  1.87\n",
       " [3,] -0.90 -0.98  1.11 -1.56 -1.12  0.19 -0.31  0.44  1.08\n",
       " [4,] -1.44  0.09  1.21 -0.22 -1.43  1.24  0.16  0.07 -1.07\n",
       " [5,] -0.33 -0.05 -0.35 -0.82  0.06  0.31 -0.83  1.30 -2.20\n",
       " [6,] -2.90 -0.08 -0.86  1.08 -0.79  0.64 -0.02 -0.21  0.53\n",
       " [7,] -1.06 -0.65  0.65  1.08  0.34  0.02 -1.14  1.02  1.34\n",
       " [8,]  0.28 -0.95  0.33  0.14 -0.26  1.18  1.07  1.37  1.39\n",
       " [9,]  0.75  1.02 -0.52  0.16 -1.30 -0.45  2.31  1.48  2.75\n",
       "[10,]  0.24  0.86 -0.24 -0.17  0.37  0.42  0.42  0.89 -0.05"
      ]
     },
     "metadata": {},
     "output_type": "display_data"
    }
   ],
   "source": [
    "# Creating Matrix\n",
    "set.seed(2022)\n",
    "data <- round(rnorm(10 * 9),2) \n",
    "x1 <- matrix(data, nrow = 10, ncol = 9) \n",
    "x1"
   ]
  },
  {
   "cell_type": "code",
   "execution_count": 17,
   "metadata": {},
   "outputs": [
    {
     "data": {
      "text/html": [
       "<ol class=list-inline>\n",
       "\t<li>-2.55</li>\n",
       "\t<li>7.99</li>\n",
       "\t<li>-9.9</li>\n",
       "\t<li>-15.38</li>\n",
       "\t<li>-1.99</li>\n",
       "\t<li>-9.48</li>\n",
       "\t<li>3.34</li>\n",
       "\t<li>-0.67</li>\n",
       "\t<li>-8.2</li>\n",
       "\t<li>3.52</li>\n",
       "</ol>\n"
      ],
      "text/latex": [
       "\\begin{enumerate*}\n",
       "\\item -2.55\n",
       "\\item 7.99\n",
       "\\item -9.9\n",
       "\\item -15.38\n",
       "\\item -1.99\n",
       "\\item -9.48\n",
       "\\item 3.34\n",
       "\\item -0.67\n",
       "\\item -8.2\n",
       "\\item 3.52\n",
       "\\end{enumerate*}\n"
      ],
      "text/markdown": [
       "1. -2.55\n",
       "2. 7.99\n",
       "3. -9.9\n",
       "4. -15.38\n",
       "5. -1.99\n",
       "6. -9.48\n",
       "7. 3.34\n",
       "8. -0.67\n",
       "9. -8.2\n",
       "10. 3.52\n",
       "\n",
       "\n"
      ],
      "text/plain": [
       " [1]  -2.55   7.99  -9.90 -15.38  -1.99  -9.48   3.34  -0.67  -8.20   3.52"
      ]
     },
     "metadata": {},
     "output_type": "display_data"
    }
   ],
   "source": [
    "x10 <- x1[,1] + x1[,9] + 9*x1[,5] # We generate the numbers to complete column 10\n",
    "x10"
   ]
  },
  {
   "cell_type": "code",
   "execution_count": 18,
   "metadata": {},
   "outputs": [
    {
     "data": {
      "text/html": [
       "<table>\n",
       "<thead><tr><th scope=col></th><th scope=col></th><th scope=col></th><th scope=col></th><th scope=col></th><th scope=col></th><th scope=col></th><th scope=col></th><th scope=col></th><th scope=col>x10</th></tr></thead>\n",
       "<tbody>\n",
       "\t<tr><td> 0.90 </td><td> 1.01 </td><td> 0.36 </td><td> 0.12 </td><td>-0.27 </td><td> 1.69 </td><td>-1.34 </td><td>-0.14 </td><td>-1.02 </td><td> -2.55</td></tr>\n",
       "\t<tr><td>-1.17 </td><td>-0.19 </td><td> 0.38 </td><td> 0.83 </td><td> 0.81 </td><td> 1.00 </td><td>-1.29 </td><td> 1.33 </td><td> 1.87 </td><td>  7.99</td></tr>\n",
       "\t<tr><td>-0.90 </td><td>-0.98 </td><td> 1.11 </td><td>-1.56 </td><td>-1.12 </td><td> 0.19 </td><td>-0.31 </td><td> 0.44 </td><td> 1.08 </td><td> -9.90</td></tr>\n",
       "\t<tr><td>-1.44 </td><td> 0.09 </td><td> 1.21 </td><td>-0.22 </td><td>-1.43 </td><td> 1.24 </td><td> 0.16 </td><td> 0.07 </td><td>-1.07 </td><td>-15.38</td></tr>\n",
       "\t<tr><td>-0.33 </td><td>-0.05 </td><td>-0.35 </td><td>-0.82 </td><td> 0.06 </td><td> 0.31 </td><td>-0.83 </td><td> 1.30 </td><td>-2.20 </td><td> -1.99</td></tr>\n",
       "\t<tr><td>-2.90 </td><td>-0.08 </td><td>-0.86 </td><td> 1.08 </td><td>-0.79 </td><td> 0.64 </td><td>-0.02 </td><td>-0.21 </td><td> 0.53 </td><td> -9.48</td></tr>\n",
       "\t<tr><td>-1.06 </td><td>-0.65 </td><td> 0.65 </td><td> 1.08 </td><td> 0.34 </td><td> 0.02 </td><td>-1.14 </td><td> 1.02 </td><td> 1.34 </td><td>  3.34</td></tr>\n",
       "\t<tr><td> 0.28 </td><td>-0.95 </td><td> 0.33 </td><td> 0.14 </td><td>-0.26 </td><td> 1.18 </td><td> 1.07 </td><td> 1.37 </td><td> 1.39 </td><td> -0.67</td></tr>\n",
       "\t<tr><td> 0.75 </td><td> 1.02 </td><td>-0.52 </td><td> 0.16 </td><td>-1.30 </td><td>-0.45 </td><td> 2.31 </td><td> 1.48 </td><td> 2.75 </td><td> -8.20</td></tr>\n",
       "\t<tr><td> 0.24 </td><td> 0.86 </td><td>-0.24 </td><td>-0.17 </td><td> 0.37 </td><td> 0.42 </td><td> 0.42 </td><td> 0.89 </td><td>-0.05 </td><td>  3.52</td></tr>\n",
       "</tbody>\n",
       "</table>\n"
      ],
      "text/latex": [
       "\\begin{tabular}{llllllllll}\n",
       "  &  &  &  &  &  &  &  &  & x10\\\\\n",
       "\\hline\n",
       "\t  0.90  &  1.01  &  0.36  &  0.12  & -0.27  &  1.69  & -1.34  & -0.14  & -1.02  &  -2.55\\\\\n",
       "\t -1.17  & -0.19  &  0.38  &  0.83  &  0.81  &  1.00  & -1.29  &  1.33  &  1.87  &   7.99\\\\\n",
       "\t -0.90  & -0.98  &  1.11  & -1.56  & -1.12  &  0.19  & -0.31  &  0.44  &  1.08  &  -9.90\\\\\n",
       "\t -1.44  &  0.09  &  1.21  & -0.22  & -1.43  &  1.24  &  0.16  &  0.07  & -1.07  & -15.38\\\\\n",
       "\t -0.33  & -0.05  & -0.35  & -0.82  &  0.06  &  0.31  & -0.83  &  1.30  & -2.20  &  -1.99\\\\\n",
       "\t -2.90  & -0.08  & -0.86  &  1.08  & -0.79  &  0.64  & -0.02  & -0.21  &  0.53  &  -9.48\\\\\n",
       "\t -1.06  & -0.65  &  0.65  &  1.08  &  0.34  &  0.02  & -1.14  &  1.02  &  1.34  &   3.34\\\\\n",
       "\t  0.28  & -0.95  &  0.33  &  0.14  & -0.26  &  1.18  &  1.07  &  1.37  &  1.39  &  -0.67\\\\\n",
       "\t  0.75  &  1.02  & -0.52  &  0.16  & -1.30  & -0.45  &  2.31  &  1.48  &  2.75  &  -8.20\\\\\n",
       "\t  0.24  &  0.86  & -0.24  & -0.17  &  0.37  &  0.42  &  0.42  &  0.89  & -0.05  &   3.52\\\\\n",
       "\\end{tabular}\n"
      ],
      "text/markdown": [
       "\n",
       "|  |  |  |  |  |  |  |  |  | x10 |\n",
       "|---|---|---|---|---|---|---|---|---|---|\n",
       "|  0.90  |  1.01  |  0.36  |  0.12  | -0.27  |  1.69  | -1.34  | -0.14  | -1.02  |  -2.55 |\n",
       "| -1.17  | -0.19  |  0.38  |  0.83  |  0.81  |  1.00  | -1.29  |  1.33  |  1.87  |   7.99 |\n",
       "| -0.90  | -0.98  |  1.11  | -1.56  | -1.12  |  0.19  | -0.31  |  0.44  |  1.08  |  -9.90 |\n",
       "| -1.44  |  0.09  |  1.21  | -0.22  | -1.43  |  1.24  |  0.16  |  0.07  | -1.07  | -15.38 |\n",
       "| -0.33  | -0.05  | -0.35  | -0.82  |  0.06  |  0.31  | -0.83  |  1.30  | -2.20  |  -1.99 |\n",
       "| -2.90  | -0.08  | -0.86  |  1.08  | -0.79  |  0.64  | -0.02  | -0.21  |  0.53  |  -9.48 |\n",
       "| -1.06  | -0.65  |  0.65  |  1.08  |  0.34  |  0.02  | -1.14  |  1.02  |  1.34  |   3.34 |\n",
       "|  0.28  | -0.95  |  0.33  |  0.14  | -0.26  |  1.18  |  1.07  |  1.37  |  1.39  |  -0.67 |\n",
       "|  0.75  |  1.02  | -0.52  |  0.16  | -1.30  | -0.45  |  2.31  |  1.48  |  2.75  |  -8.20 |\n",
       "|  0.24  |  0.86  | -0.24  | -0.17  |  0.37  |  0.42  |  0.42  |  0.89  | -0.05  |   3.52 |\n",
       "\n"
      ],
      "text/plain": [
       "                                                            x10   \n",
       " [1,]  0.90  1.01  0.36  0.12 -0.27  1.69 -1.34 -0.14 -1.02  -2.55\n",
       " [2,] -1.17 -0.19  0.38  0.83  0.81  1.00 -1.29  1.33  1.87   7.99\n",
       " [3,] -0.90 -0.98  1.11 -1.56 -1.12  0.19 -0.31  0.44  1.08  -9.90\n",
       " [4,] -1.44  0.09  1.21 -0.22 -1.43  1.24  0.16  0.07 -1.07 -15.38\n",
       " [5,] -0.33 -0.05 -0.35 -0.82  0.06  0.31 -0.83  1.30 -2.20  -1.99\n",
       " [6,] -2.90 -0.08 -0.86  1.08 -0.79  0.64 -0.02 -0.21  0.53  -9.48\n",
       " [7,] -1.06 -0.65  0.65  1.08  0.34  0.02 -1.14  1.02  1.34   3.34\n",
       " [8,]  0.28 -0.95  0.33  0.14 -0.26  1.18  1.07  1.37  1.39  -0.67\n",
       " [9,]  0.75  1.02 -0.52  0.16 -1.30 -0.45  2.31  1.48  2.75  -8.20\n",
       "[10,]  0.24  0.86 -0.24 -0.17  0.37  0.42  0.42  0.89 -0.05   3.52"
      ]
     },
     "metadata": {},
     "output_type": "display_data"
    }
   ],
   "source": [
    "matrix <- cbind(x1, x10) # We add column 10 to the matrix\n",
    "matrix"
   ]
  },
  {
   "cell_type": "code",
   "execution_count": 19,
   "metadata": {},
   "outputs": [
    {
     "data": {
      "text/html": [
       "<table>\n",
       "<thead><tr><th></th><th scope=col>columna_1</th><th scope=col>columna_2</th><th scope=col>columna_3</th><th scope=col>columna_4</th><th scope=col>columna_5</th><th scope=col>columna_6</th><th scope=col>columna_7</th><th scope=col>columna_8</th><th scope=col>columna_9</th><th scope=col>columna_10</th></tr></thead>\n",
       "<tbody>\n",
       "\t<tr><th scope=row>fila_1</th><td> 0.90 </td><td> 1.01 </td><td> 0.36 </td><td> 0.12 </td><td>-0.27 </td><td> 1.69 </td><td>-1.34 </td><td>-0.14 </td><td>-1.02 </td><td> -2.55</td></tr>\n",
       "\t<tr><th scope=row>fila_2</th><td>-1.17 </td><td>-0.19 </td><td> 0.38 </td><td> 0.83 </td><td> 0.81 </td><td> 1.00 </td><td>-1.29 </td><td> 1.33 </td><td> 1.87 </td><td>  7.99</td></tr>\n",
       "\t<tr><th scope=row>fila_3</th><td>-0.90 </td><td>-0.98 </td><td> 1.11 </td><td>-1.56 </td><td>-1.12 </td><td> 0.19 </td><td>-0.31 </td><td> 0.44 </td><td> 1.08 </td><td> -9.90</td></tr>\n",
       "\t<tr><th scope=row>fila_4</th><td>-1.44 </td><td> 0.09 </td><td> 1.21 </td><td>-0.22 </td><td>-1.43 </td><td> 1.24 </td><td> 0.16 </td><td> 0.07 </td><td>-1.07 </td><td>-15.38</td></tr>\n",
       "\t<tr><th scope=row>fila_5</th><td>-0.33 </td><td>-0.05 </td><td>-0.35 </td><td>-0.82 </td><td> 0.06 </td><td> 0.31 </td><td>-0.83 </td><td> 1.30 </td><td>-2.20 </td><td> -1.99</td></tr>\n",
       "\t<tr><th scope=row>fila_6</th><td>-2.90 </td><td>-0.08 </td><td>-0.86 </td><td> 1.08 </td><td>-0.79 </td><td> 0.64 </td><td>-0.02 </td><td>-0.21 </td><td> 0.53 </td><td> -9.48</td></tr>\n",
       "\t<tr><th scope=row>fila_7</th><td>-1.06 </td><td>-0.65 </td><td> 0.65 </td><td> 1.08 </td><td> 0.34 </td><td> 0.02 </td><td>-1.14 </td><td> 1.02 </td><td> 1.34 </td><td>  3.34</td></tr>\n",
       "\t<tr><th scope=row>fila_8</th><td> 0.28 </td><td>-0.95 </td><td> 0.33 </td><td> 0.14 </td><td>-0.26 </td><td> 1.18 </td><td> 1.07 </td><td> 1.37 </td><td> 1.39 </td><td> -0.67</td></tr>\n",
       "\t<tr><th scope=row>fila_9</th><td> 0.75 </td><td> 1.02 </td><td>-0.52 </td><td> 0.16 </td><td>-1.30 </td><td>-0.45 </td><td> 2.31 </td><td> 1.48 </td><td> 2.75 </td><td> -8.20</td></tr>\n",
       "\t<tr><th scope=row>fila_10</th><td> 0.24 </td><td> 0.86 </td><td>-0.24 </td><td>-0.17 </td><td> 0.37 </td><td> 0.42 </td><td> 0.42 </td><td> 0.89 </td><td>-0.05 </td><td>  3.52</td></tr>\n",
       "</tbody>\n",
       "</table>\n"
      ],
      "text/latex": [
       "\\begin{tabular}{r|llllllllll}\n",
       "  & columna\\_1 & columna\\_2 & columna\\_3 & columna\\_4 & columna\\_5 & columna\\_6 & columna\\_7 & columna\\_8 & columna\\_9 & columna\\_10\\\\\n",
       "\\hline\n",
       "\tfila\\_1 &  0.90  &  1.01  &  0.36  &  0.12  & -0.27  &  1.69  & -1.34  & -0.14  & -1.02  &  -2.55\\\\\n",
       "\tfila\\_2 & -1.17  & -0.19  &  0.38  &  0.83  &  0.81  &  1.00  & -1.29  &  1.33  &  1.87  &   7.99\\\\\n",
       "\tfila\\_3 & -0.90  & -0.98  &  1.11  & -1.56  & -1.12  &  0.19  & -0.31  &  0.44  &  1.08  &  -9.90\\\\\n",
       "\tfila\\_4 & -1.44  &  0.09  &  1.21  & -0.22  & -1.43  &  1.24  &  0.16  &  0.07  & -1.07  & -15.38\\\\\n",
       "\tfila\\_5 & -0.33  & -0.05  & -0.35  & -0.82  &  0.06  &  0.31  & -0.83  &  1.30  & -2.20  &  -1.99\\\\\n",
       "\tfila\\_6 & -2.90  & -0.08  & -0.86  &  1.08  & -0.79  &  0.64  & -0.02  & -0.21  &  0.53  &  -9.48\\\\\n",
       "\tfila\\_7 & -1.06  & -0.65  &  0.65  &  1.08  &  0.34  &  0.02  & -1.14  &  1.02  &  1.34  &   3.34\\\\\n",
       "\tfila\\_8 &  0.28  & -0.95  &  0.33  &  0.14  & -0.26  &  1.18  &  1.07  &  1.37  &  1.39  &  -0.67\\\\\n",
       "\tfila\\_9 &  0.75  &  1.02  & -0.52  &  0.16  & -1.30  & -0.45  &  2.31  &  1.48  &  2.75  &  -8.20\\\\\n",
       "\tfila\\_10 &  0.24  &  0.86  & -0.24  & -0.17  &  0.37  &  0.42  &  0.42  &  0.89  & -0.05  &   3.52\\\\\n",
       "\\end{tabular}\n"
      ],
      "text/markdown": [
       "\n",
       "| <!--/--> | columna_1 | columna_2 | columna_3 | columna_4 | columna_5 | columna_6 | columna_7 | columna_8 | columna_9 | columna_10 |\n",
       "|---|---|---|---|---|---|---|---|---|---|---|\n",
       "| fila_1 |  0.90  |  1.01  |  0.36  |  0.12  | -0.27  |  1.69  | -1.34  | -0.14  | -1.02  |  -2.55 |\n",
       "| fila_2 | -1.17  | -0.19  |  0.38  |  0.83  |  0.81  |  1.00  | -1.29  |  1.33  |  1.87  |   7.99 |\n",
       "| fila_3 | -0.90  | -0.98  |  1.11  | -1.56  | -1.12  |  0.19  | -0.31  |  0.44  |  1.08  |  -9.90 |\n",
       "| fila_4 | -1.44  |  0.09  |  1.21  | -0.22  | -1.43  |  1.24  |  0.16  |  0.07  | -1.07  | -15.38 |\n",
       "| fila_5 | -0.33  | -0.05  | -0.35  | -0.82  |  0.06  |  0.31  | -0.83  |  1.30  | -2.20  |  -1.99 |\n",
       "| fila_6 | -2.90  | -0.08  | -0.86  |  1.08  | -0.79  |  0.64  | -0.02  | -0.21  |  0.53  |  -9.48 |\n",
       "| fila_7 | -1.06  | -0.65  |  0.65  |  1.08  |  0.34  |  0.02  | -1.14  |  1.02  |  1.34  |   3.34 |\n",
       "| fila_8 |  0.28  | -0.95  |  0.33  |  0.14  | -0.26  |  1.18  |  1.07  |  1.37  |  1.39  |  -0.67 |\n",
       "| fila_9 |  0.75  |  1.02  | -0.52  |  0.16  | -1.30  | -0.45  |  2.31  |  1.48  |  2.75  |  -8.20 |\n",
       "| fila_10 |  0.24  |  0.86  | -0.24  | -0.17  |  0.37  |  0.42  |  0.42  |  0.89  | -0.05  |   3.52 |\n",
       "\n"
      ],
      "text/plain": [
       "        columna_1 columna_2 columna_3 columna_4 columna_5 columna_6 columna_7\n",
       "fila_1   0.90      1.01      0.36      0.12     -0.27      1.69     -1.34    \n",
       "fila_2  -1.17     -0.19      0.38      0.83      0.81      1.00     -1.29    \n",
       "fila_3  -0.90     -0.98      1.11     -1.56     -1.12      0.19     -0.31    \n",
       "fila_4  -1.44      0.09      1.21     -0.22     -1.43      1.24      0.16    \n",
       "fila_5  -0.33     -0.05     -0.35     -0.82      0.06      0.31     -0.83    \n",
       "fila_6  -2.90     -0.08     -0.86      1.08     -0.79      0.64     -0.02    \n",
       "fila_7  -1.06     -0.65      0.65      1.08      0.34      0.02     -1.14    \n",
       "fila_8   0.28     -0.95      0.33      0.14     -0.26      1.18      1.07    \n",
       "fila_9   0.75      1.02     -0.52      0.16     -1.30     -0.45      2.31    \n",
       "fila_10  0.24      0.86     -0.24     -0.17      0.37      0.42      0.42    \n",
       "        columna_8 columna_9 columna_10\n",
       "fila_1  -0.14     -1.02      -2.55    \n",
       "fila_2   1.33      1.87       7.99    \n",
       "fila_3   0.44      1.08      -9.90    \n",
       "fila_4   0.07     -1.07     -15.38    \n",
       "fila_5   1.30     -2.20      -1.99    \n",
       "fila_6  -0.21      0.53      -9.48    \n",
       "fila_7   1.02      1.34       3.34    \n",
       "fila_8   1.37      1.39      -0.67    \n",
       "fila_9   1.48      2.75      -8.20    \n",
       "fila_10  0.89     -0.05       3.52    "
      ]
     },
     "metadata": {},
     "output_type": "display_data"
    }
   ],
   "source": [
    "# Renaming rows and columns\n",
    "rownames(matrix) <- paste('fila', 1:10, sep = '_') \n",
    "colnames(matrix) <- paste('columna', 1:10, sep = '_')   \n",
    "matrix"
   ]
  },
  {
   "cell_type": "code",
   "execution_count": 14,
   "metadata": {},
   "outputs": [
    {
     "ename": "ERROR",
     "evalue": "Error in solve.default(matrix): sistema es computacionalmente singular: número de condición recíproco = 4.23487e-18\n",
     "output_type": "error",
     "traceback": [
      "Error in solve.default(matrix): sistema es computacionalmente singular: número de condición recíproco = 4.23487e-18\nTraceback:\n",
      "1. solve.default(matrix)"
     ]
    }
   ],
   "source": [
    "inv_matrix <- solve.default (matrix)\n",
    "inv_matrix"
   ]
  },
  {
   "cell_type": "markdown",
   "metadata": {},
   "source": [
    "#### Comentaries:\n",
    "If we tried to inverse matrix of \"data\", R shows us an error message because vector 10 is a linear combination of columns 1, 5 y 9."
   ]
  },
  {
   "cell_type": "markdown",
   "metadata": {},
   "source": [
    "# QUESTION 2"
   ]
  },
  {
   "cell_type": "markdown",
   "metadata": {},
   "source": [
    "### Replicate the results of the script analyzing_rct_reemployment_experiment both in Python and R. Follow the next instructions:\n",
    "\n",
    "- Focus on the Treatment group 2\n",
    "- Plot two histograms for treatment and control group to see the distribution of the outcome variable inuidur1\n",
    "- Run all specifications:\n",
    "    1. classical 2-sample approach, no adjustment (CL)\n",
    "    2. classical linear regression adjustment (CRA)\n",
    "    3. interactive regression adjustment (IRA)\n",
    "    4. interactive regression adjustment (IRA) using Lasso\n",
    "- Using the **3. interactive regression adjustment (IRA)** plot the coefficients of the next variables\n",
    "    1. T2*female\n",
    "    2. T2*black\n",
    "    3. T2*agelt35\n",
    "    4. T2*factor(dep)1"
   ]
  },
  {
   "cell_type": "markdown",
   "metadata": {
    "papermill": {
     "duration": 0.011347,
     "end_time": "2021-02-20T13:42:41.213041",
     "exception": false,
     "start_time": "2021-02-20T13:42:41.201694",
     "status": "completed"
    },
    "tags": []
   },
   "source": [
    "## Data\n",
    "\n",
    "In this lab, we analyze the Pennsylvania re-employment bonus experiment, which was previously studied in \"Sequential testing of duration data: the case of the Pennsylvania ‘reemployment bonus’ experiment\" (Bilias, 2000), among others. These experiments were conducted in the 1980s by the U.S. Department of Labor to test the incentive effects of alternative compensation schemes for unemployment insurance (UI). In these experiments, UI claimants were randomly assigned either to a control group or one of five treatment groups. Actually, there are six treatment groups in the experiments. Here we focus on treatment group 4, but feel free to explore other treatment groups. In the control group the current rules of the UI applied. Individuals in the treatment groups were offered a cash bonus if they found a job within some pre-specified period of time (qualification period), provided that the job was retained for a specified duration. The treatments differed in the level of the bonus, the length of the qualification period, and whether the bonus was declining over time in the qualification period; see http://qed.econ.queensu.ca/jae/2000-v15.6/bilias/readme.b.txt for further details on data. \n",
    "  "
   ]
  },
  {
   "cell_type": "markdown",
   "metadata": {},
   "source": [
    "### 2.1 We focus on the second treatment group"
   ]
  },
  {
   "cell_type": "code",
   "execution_count": 5,
   "metadata": {},
   "outputs": [
    {
     "name": "stderr",
     "output_type": "stream",
     "text": [
      "Warning message in file(file, \"rt\"):\n",
      "\"no fue posible abrir el archivo '/../data/penn_jae.dat': No such file or directory\""
     ]
    },
    {
     "ename": "ERROR",
     "evalue": "Error in file(file, \"rt\"): no se puede abrir la conexión\n",
     "output_type": "error",
     "traceback": [
      "Error in file(file, \"rt\"): no se puede abrir la conexión\nTraceback:\n",
      "1. as.data.frame(read.table(\"/../data/penn_jae.dat\", header = T))",
      "2. read.table(\"/../data/penn_jae.dat\", header = T)",
      "3. file(file, \"rt\")"
     ]
    }
   ],
   "source": [
    "## loading the data\n",
    "Penn <- as.data.frame(read.table('../../../data/penn_jae.dat', header=T ))\n",
    "n <- dim(Penn)[1]  \n",
    "p_1 <- dim(Penn)[2] \n",
    "Penn<- subset(Penn, tg==2 | tg==0) \n",
    "attach(Penn)"
   ]
  },
  {
   "cell_type": "code",
   "execution_count": 2,
   "metadata": {
    "scrolled": true
   },
   "outputs": [
    {
     "data": {
      "text/plain": [
       "      abdt             tg            inuidur1        inuidur2    \n",
       " Min.   :10404   Min.   :0.0000   Min.   : 1.00   Min.   : 0.00  \n",
       " 1st Qu.:10600   1st Qu.:0.0000   1st Qu.: 3.00   1st Qu.: 2.00  \n",
       " Median :10698   Median :0.0000   Median :11.00   Median :10.00  \n",
       " Mean   :10696   Mean   :0.8398   Mean   :13.03   Mean   :12.25  \n",
       " 3rd Qu.:10796   3rd Qu.:2.0000   3rd Qu.:25.00   3rd Qu.:23.00  \n",
       " Max.   :10880   Max.   :2.0000   Max.   :52.00   Max.   :52.00  \n",
       "     female           black           hispanic          othrace        \n",
       " Min.   :0.0000   Min.   :0.0000   Min.   :0.00000   Min.   :0.000000  \n",
       " 1st Qu.:0.0000   1st Qu.:0.0000   1st Qu.:0.00000   1st Qu.:0.000000  \n",
       " Median :0.0000   Median :0.0000   Median :0.00000   Median :0.000000  \n",
       " Mean   :0.4007   Mean   :0.1188   Mean   :0.03632   Mean   :0.005189  \n",
       " 3rd Qu.:1.0000   3rd Qu.:0.0000   3rd Qu.:0.00000   3rd Qu.:0.000000  \n",
       " Max.   :1.0000   Max.   :1.0000   Max.   :1.00000   Max.   :1.000000  \n",
       "      dep               q1                q2               q3        \n",
       " Min.   :0.0000   Min.   :0.00000   Min.   :0.0000   Min.   :0.0000  \n",
       " 1st Qu.:0.0000   1st Qu.:0.00000   1st Qu.:0.0000   1st Qu.:0.0000  \n",
       " Median :0.0000   Median :0.00000   Median :0.0000   Median :0.0000  \n",
       " Mean   :0.4379   Mean   :0.01263   Mean   :0.2001   Mean   :0.2356  \n",
       " 3rd Qu.:1.0000   3rd Qu.:0.00000   3rd Qu.:0.0000   3rd Qu.:0.0000  \n",
       " Max.   :2.0000   Max.   :1.00000   Max.   :1.0000   Max.   :1.0000  \n",
       "       q4               q5               q6             recall      \n",
       " Min.   :0.0000   Min.   :0.0000   Min.   :0.0000   Min.   :0.0000  \n",
       " 1st Qu.:0.0000   1st Qu.:0.0000   1st Qu.:0.0000   1st Qu.:0.0000  \n",
       " Median :0.0000   Median :0.0000   Median :0.0000   Median :0.0000  \n",
       " Mean   :0.2233   Mean   :0.2632   Mean   :0.0652   Mean   :0.1062  \n",
       " 3rd Qu.:0.0000   3rd Qu.:1.0000   3rd Qu.:0.0000   3rd Qu.:0.0000  \n",
       " Max.   :1.0000   Max.   :1.0000   Max.   :1.0000   Max.   :1.0000  \n",
       "    agelt35          agegt54         durable         nondurable    \n",
       " Min.   :0.0000   Min.   :0.000   Min.   :0.0000   Min.   :0.0000  \n",
       " 1st Qu.:0.0000   1st Qu.:0.000   1st Qu.:0.0000   1st Qu.:0.0000  \n",
       " Median :1.0000   Median :0.000   Median :0.0000   Median :0.0000  \n",
       " Mean   :0.5401   Mean   :0.106   Mean   :0.1496   Mean   :0.1091  \n",
       " 3rd Qu.:1.0000   3rd Qu.:0.000   3rd Qu.:0.0000   3rd Qu.:0.0000  \n",
       " Max.   :1.0000   Max.   :1.000   Max.   :1.0000   Max.   :1.0000  \n",
       "      lusd             husd             muld       \n",
       " Min.   :0.0000   Min.   :0.0000   Min.   :0.0000  \n",
       " 1st Qu.:0.0000   1st Qu.:0.0000   1st Qu.:0.0000  \n",
       " Median :0.0000   Median :0.0000   Median :0.0000  \n",
       " Mean   :0.2622   Mean   :0.2221   Mean   :0.4403  \n",
       " 3rd Qu.:1.0000   3rd Qu.:0.0000   3rd Qu.:1.0000  \n",
       " Max.   :1.0000   Max.   :1.0000   Max.   :1.0000  "
      ]
     },
     "metadata": {},
     "output_type": "display_data"
    }
   ],
   "source": [
    "summary(Penn)"
   ]
  },
  {
   "cell_type": "code",
   "execution_count": 148,
   "metadata": {
    "execution": {
     "iopub.execute_input": "2021-02-20T13:42:41.560613Z",
     "iopub.status.busy": "2021-02-20T13:42:41.531063Z",
     "iopub.status.idle": "2021-02-20T13:42:41.580817Z",
     "shell.execute_reply": "2021-02-20T13:42:41.579312Z"
    },
    "papermill": {
     "duration": 0.065266,
     "end_time": "2021-02-20T13:42:41.580972",
     "exception": false,
     "start_time": "2021-02-20T13:42:41.515706",
     "status": "completed"
    },
    "tags": []
   },
   "outputs": [
    {
     "data": {
      "text/plain": [
       "   Mode   FALSE    TRUE \n",
       "logical    3354    2428 "
      ]
     },
     "metadata": {},
     "output_type": "display_data"
    }
   ],
   "source": [
    "T2<- (tg==2) \n",
    "summary(T2)"
   ]
  },
  {
   "cell_type": "code",
   "execution_count": 149,
   "metadata": {
    "execution": {
     "iopub.execute_input": "2021-02-20T13:42:41.611073Z",
     "iopub.status.busy": "2021-02-20T13:42:41.609253Z",
     "iopub.status.idle": "2021-02-20T13:42:41.646504Z",
     "shell.execute_reply": "2021-02-20T13:42:41.645094Z"
    },
    "papermill": {
     "duration": 0.053285,
     "end_time": "2021-02-20T13:42:41.646704",
     "exception": false,
     "start_time": "2021-02-20T13:42:41.593419",
     "status": "completed"
    },
    "tags": []
   },
   "outputs": [
    {
     "data": {
      "text/html": [
       "<table>\n",
       "<thead><tr><th></th><th scope=col>abdt</th><th scope=col>tg</th><th scope=col>inuidur1</th><th scope=col>inuidur2</th><th scope=col>female</th><th scope=col>black</th><th scope=col>hispanic</th><th scope=col>othrace</th><th scope=col>dep</th><th scope=col>q1</th><th scope=col>...</th><th scope=col>q5</th><th scope=col>q6</th><th scope=col>recall</th><th scope=col>agelt35</th><th scope=col>agegt54</th><th scope=col>durable</th><th scope=col>nondurable</th><th scope=col>lusd</th><th scope=col>husd</th><th scope=col>muld</th></tr></thead>\n",
       "<tbody>\n",
       "\t<tr><th scope=row>1</th><td>10824</td><td>0    </td><td>18   </td><td>18   </td><td>0    </td><td>0    </td><td>0    </td><td>0    </td><td>2    </td><td>0    </td><td>...  </td><td>1    </td><td>0    </td><td>0    </td><td>0    </td><td>0    </td><td>0    </td><td>0    </td><td>0    </td><td>1    </td><td>0    </td></tr>\n",
       "\t<tr><th scope=row>2</th><td>10635</td><td>2    </td><td> 7   </td><td> 3   </td><td>0    </td><td>0    </td><td>0    </td><td>0    </td><td>0    </td><td>0    </td><td>...  </td><td>0    </td><td>0    </td><td>0    </td><td>1    </td><td>0    </td><td>0    </td><td>0    </td><td>1    </td><td>0    </td><td>0    </td></tr>\n",
       "\t<tr><th scope=row>4</th><td>10824</td><td>0    </td><td> 1   </td><td> 1   </td><td>0    </td><td>0    </td><td>0    </td><td>0    </td><td>0    </td><td>0    </td><td>...  </td><td>1    </td><td>0    </td><td>0    </td><td>0    </td><td>0    </td><td>0    </td><td>0    </td><td>1    </td><td>0    </td><td>0    </td></tr>\n",
       "\t<tr><th scope=row>5</th><td>10747</td><td>0    </td><td>27   </td><td>27   </td><td>0    </td><td>0    </td><td>0    </td><td>0    </td><td>0    </td><td>0    </td><td>...  </td><td>0    </td><td>0    </td><td>0    </td><td>0    </td><td>0    </td><td>0    </td><td>0    </td><td>1    </td><td>0    </td><td>0    </td></tr>\n",
       "\t<tr><th scope=row>10</th><td>10754</td><td>2    </td><td>20   </td><td>20   </td><td>1    </td><td>0    </td><td>0    </td><td>0    </td><td>0    </td><td>0    </td><td>...  </td><td>0    </td><td>0    </td><td>0    </td><td>0    </td><td>0    </td><td>0    </td><td>0    </td><td>0    </td><td>0    </td><td>1    </td></tr>\n",
       "\t<tr><th scope=row>13</th><td>10831</td><td>0    </td><td>27   </td><td>27   </td><td>0    </td><td>0    </td><td>0    </td><td>0    </td><td>1    </td><td>0    </td><td>...  </td><td>1    </td><td>0    </td><td>0    </td><td>0    </td><td>1    </td><td>1    </td><td>0    </td><td>1    </td><td>0    </td><td>0    </td></tr>\n",
       "</tbody>\n",
       "</table>\n"
      ],
      "text/latex": [
       "\\begin{tabular}{r|lllllllllllllllllllllll}\n",
       "  & abdt & tg & inuidur1 & inuidur2 & female & black & hispanic & othrace & dep & q1 & ... & q5 & q6 & recall & agelt35 & agegt54 & durable & nondurable & lusd & husd & muld\\\\\n",
       "\\hline\n",
       "\t1 & 10824 & 0     & 18    & 18    & 0     & 0     & 0     & 0     & 2     & 0     & ...   & 1     & 0     & 0     & 0     & 0     & 0     & 0     & 0     & 1     & 0    \\\\\n",
       "\t2 & 10635 & 2     &  7    &  3    & 0     & 0     & 0     & 0     & 0     & 0     & ...   & 0     & 0     & 0     & 1     & 0     & 0     & 0     & 1     & 0     & 0    \\\\\n",
       "\t4 & 10824 & 0     &  1    &  1    & 0     & 0     & 0     & 0     & 0     & 0     & ...   & 1     & 0     & 0     & 0     & 0     & 0     & 0     & 1     & 0     & 0    \\\\\n",
       "\t5 & 10747 & 0     & 27    & 27    & 0     & 0     & 0     & 0     & 0     & 0     & ...   & 0     & 0     & 0     & 0     & 0     & 0     & 0     & 1     & 0     & 0    \\\\\n",
       "\t10 & 10754 & 2     & 20    & 20    & 1     & 0     & 0     & 0     & 0     & 0     & ...   & 0     & 0     & 0     & 0     & 0     & 0     & 0     & 0     & 0     & 1    \\\\\n",
       "\t13 & 10831 & 0     & 27    & 27    & 0     & 0     & 0     & 0     & 1     & 0     & ...   & 1     & 0     & 0     & 0     & 1     & 1     & 0     & 1     & 0     & 0    \\\\\n",
       "\\end{tabular}\n"
      ],
      "text/markdown": [
       "\n",
       "| <!--/--> | abdt | tg | inuidur1 | inuidur2 | female | black | hispanic | othrace | dep | q1 | ... | q5 | q6 | recall | agelt35 | agegt54 | durable | nondurable | lusd | husd | muld |\n",
       "|---|---|---|---|---|---|---|---|---|---|---|---|---|---|---|---|---|---|---|---|---|---|\n",
       "| 1 | 10824 | 0     | 18    | 18    | 0     | 0     | 0     | 0     | 2     | 0     | ...   | 1     | 0     | 0     | 0     | 0     | 0     | 0     | 0     | 1     | 0     |\n",
       "| 2 | 10635 | 2     |  7    |  3    | 0     | 0     | 0     | 0     | 0     | 0     | ...   | 0     | 0     | 0     | 1     | 0     | 0     | 0     | 1     | 0     | 0     |\n",
       "| 4 | 10824 | 0     |  1    |  1    | 0     | 0     | 0     | 0     | 0     | 0     | ...   | 1     | 0     | 0     | 0     | 0     | 0     | 0     | 1     | 0     | 0     |\n",
       "| 5 | 10747 | 0     | 27    | 27    | 0     | 0     | 0     | 0     | 0     | 0     | ...   | 0     | 0     | 0     | 0     | 0     | 0     | 0     | 1     | 0     | 0     |\n",
       "| 10 | 10754 | 2     | 20    | 20    | 1     | 0     | 0     | 0     | 0     | 0     | ...   | 0     | 0     | 0     | 0     | 0     | 0     | 0     | 0     | 0     | 1     |\n",
       "| 13 | 10831 | 0     | 27    | 27    | 0     | 0     | 0     | 0     | 1     | 0     | ...   | 1     | 0     | 0     | 0     | 1     | 1     | 0     | 1     | 0     | 0     |\n",
       "\n"
      ],
      "text/plain": [
       "   abdt  tg inuidur1 inuidur2 female black hispanic othrace dep q1 ... q5 q6\n",
       "1  10824 0  18       18       0      0     0        0       2   0  ... 1  0 \n",
       "2  10635 2   7        3       0      0     0        0       0   0  ... 0  0 \n",
       "4  10824 0   1        1       0      0     0        0       0   0  ... 1  0 \n",
       "5  10747 0  27       27       0      0     0        0       0   0  ... 0  0 \n",
       "10 10754 2  20       20       1      0     0        0       0   0  ... 0  0 \n",
       "13 10831 0  27       27       0      0     0        0       1   0  ... 1  0 \n",
       "   recall agelt35 agegt54 durable nondurable lusd husd muld\n",
       "1  0      0       0       0       0          0    1    0   \n",
       "2  0      1       0       0       0          1    0    0   \n",
       "4  0      0       0       0       0          1    0    0   \n",
       "5  0      0       0       0       0          1    0    0   \n",
       "10 0      0       0       0       0          0    0    1   \n",
       "13 0      0       1       1       0          1    0    0   "
      ]
     },
     "metadata": {},
     "output_type": "display_data"
    }
   ],
   "source": [
    "head(Penn)"
   ]
  },
  {
   "cell_type": "code",
   "execution_count": 150,
   "metadata": {},
   "outputs": [
    {
     "data": {
      "text/html": [
       "<ol class=list-inline>\n",
       "\t<li>5782</li>\n",
       "\t<li>23</li>\n",
       "</ol>\n"
      ],
      "text/latex": [
       "\\begin{enumerate*}\n",
       "\\item 5782\n",
       "\\item 23\n",
       "\\end{enumerate*}\n"
      ],
      "text/markdown": [
       "1. 5782\n",
       "2. 23\n",
       "\n",
       "\n"
      ],
      "text/plain": [
       "[1] 5782   23"
      ]
     },
     "metadata": {},
     "output_type": "display_data"
    }
   ],
   "source": [
    "dim(Penn)"
   ]
  },
  {
   "cell_type": "code",
   "execution_count": 151,
   "metadata": {},
   "outputs": [
    {
     "data": {
      "text/html": [
       "<ol class=list-inline>\n",
       "\t<li>'abdt'</li>\n",
       "\t<li>'tg'</li>\n",
       "\t<li>'inuidur1'</li>\n",
       "\t<li>'inuidur2'</li>\n",
       "\t<li>'female'</li>\n",
       "\t<li>'black'</li>\n",
       "\t<li>'hispanic'</li>\n",
       "\t<li>'othrace'</li>\n",
       "\t<li>'dep'</li>\n",
       "\t<li>'q1'</li>\n",
       "\t<li>'q2'</li>\n",
       "\t<li>'q3'</li>\n",
       "\t<li>'q4'</li>\n",
       "\t<li>'q5'</li>\n",
       "\t<li>'q6'</li>\n",
       "\t<li>'recall'</li>\n",
       "\t<li>'agelt35'</li>\n",
       "\t<li>'agegt54'</li>\n",
       "\t<li>'durable'</li>\n",
       "\t<li>'nondurable'</li>\n",
       "\t<li>'lusd'</li>\n",
       "\t<li>'husd'</li>\n",
       "\t<li>'muld'</li>\n",
       "</ol>\n"
      ],
      "text/latex": [
       "\\begin{enumerate*}\n",
       "\\item 'abdt'\n",
       "\\item 'tg'\n",
       "\\item 'inuidur1'\n",
       "\\item 'inuidur2'\n",
       "\\item 'female'\n",
       "\\item 'black'\n",
       "\\item 'hispanic'\n",
       "\\item 'othrace'\n",
       "\\item 'dep'\n",
       "\\item 'q1'\n",
       "\\item 'q2'\n",
       "\\item 'q3'\n",
       "\\item 'q4'\n",
       "\\item 'q5'\n",
       "\\item 'q6'\n",
       "\\item 'recall'\n",
       "\\item 'agelt35'\n",
       "\\item 'agegt54'\n",
       "\\item 'durable'\n",
       "\\item 'nondurable'\n",
       "\\item 'lusd'\n",
       "\\item 'husd'\n",
       "\\item 'muld'\n",
       "\\end{enumerate*}\n"
      ],
      "text/markdown": [
       "1. 'abdt'\n",
       "2. 'tg'\n",
       "3. 'inuidur1'\n",
       "4. 'inuidur2'\n",
       "5. 'female'\n",
       "6. 'black'\n",
       "7. 'hispanic'\n",
       "8. 'othrace'\n",
       "9. 'dep'\n",
       "10. 'q1'\n",
       "11. 'q2'\n",
       "12. 'q3'\n",
       "13. 'q4'\n",
       "14. 'q5'\n",
       "15. 'q6'\n",
       "16. 'recall'\n",
       "17. 'agelt35'\n",
       "18. 'agegt54'\n",
       "19. 'durable'\n",
       "20. 'nondurable'\n",
       "21. 'lusd'\n",
       "22. 'husd'\n",
       "23. 'muld'\n",
       "\n",
       "\n"
      ],
      "text/plain": [
       " [1] \"abdt\"       \"tg\"         \"inuidur1\"   \"inuidur2\"   \"female\"    \n",
       " [6] \"black\"      \"hispanic\"   \"othrace\"    \"dep\"        \"q1\"        \n",
       "[11] \"q2\"         \"q3\"         \"q4\"         \"q5\"         \"q6\"        \n",
       "[16] \"recall\"     \"agelt35\"    \"agegt54\"    \"durable\"    \"nondurable\"\n",
       "[21] \"lusd\"       \"husd\"       \"muld\"      "
      ]
     },
     "metadata": {},
     "output_type": "display_data"
    }
   ],
   "source": [
    "names(Penn)"
   ]
  },
  {
   "cell_type": "markdown",
   "metadata": {},
   "source": [
    "### 2.2 We generated two histograms to see the distribution of the outcome for the treatment and control groups."
   ]
  },
  {
   "cell_type": "markdown",
   "metadata": {},
   "source": [
    "### Control Group"
   ]
  },
  {
   "cell_type": "code",
   "execution_count": 140,
   "metadata": {},
   "outputs": [],
   "source": [
    "control <-subset(Penn, tg == 0)"
   ]
  },
  {
   "cell_type": "code",
   "execution_count": 141,
   "metadata": {},
   "outputs": [
    {
     "data": {
      "text/html": [
       "<ol class=list-inline>\n",
       "\t<li>3354</li>\n",
       "\t<li>23</li>\n",
       "</ol>\n"
      ],
      "text/latex": [
       "\\begin{enumerate*}\n",
       "\\item 3354\n",
       "\\item 23\n",
       "\\end{enumerate*}\n"
      ],
      "text/markdown": [
       "1. 3354\n",
       "2. 23\n",
       "\n",
       "\n"
      ],
      "text/plain": [
       "[1] 3354   23"
      ]
     },
     "metadata": {},
     "output_type": "display_data"
    }
   ],
   "source": [
    "dim(control)"
   ]
  },
  {
   "cell_type": "code",
   "execution_count": 142,
   "metadata": {},
   "outputs": [
    {
     "data": {
      "image/png": "[encoded data removed]",
      "text/plain": [
       "Plot with title \"Control group histogram\""
      ]
     },
     "metadata": {},
     "output_type": "display_data"
    }
   ],
   "source": [
    "outcome_c <- control$inuidur1\n",
    "hist(outcome_c, main='Control group histogram', xlab='Weeks', freq = FALSE,col = '#1C86EE', breaks = 25)\n",
    "lines(density(outcome_c), lwd = 2, col = 'red')"
   ]
  },
  {
   "cell_type": "markdown",
   "metadata": {},
   "source": [
    "### Treatment group"
   ]
  },
  {
   "cell_type": "code",
   "execution_count": 143,
   "metadata": {},
   "outputs": [],
   "source": [
    "treatment <-subset(Penn, tg == 2)"
   ]
  },
  {
   "cell_type": "code",
   "execution_count": 144,
   "metadata": {},
   "outputs": [
    {
     "data": {
      "text/html": [
       "<ol class=list-inline>\n",
       "\t<li>2428</li>\n",
       "\t<li>23</li>\n",
       "</ol>\n"
      ],
      "text/latex": [
       "\\begin{enumerate*}\n",
       "\\item 2428\n",
       "\\item 23\n",
       "\\end{enumerate*}\n"
      ],
      "text/markdown": [
       "1. 2428\n",
       "2. 23\n",
       "\n",
       "\n"
      ],
      "text/plain": [
       "[1] 2428   23"
      ]
     },
     "metadata": {},
     "output_type": "display_data"
    }
   ],
   "source": [
    "dim(treatment)"
   ]
  },
  {
   "cell_type": "code",
   "execution_count": 145,
   "metadata": {},
   "outputs": [
    {
     "data": {
      "image/png": "[encoded data removed]",
      "text/plain": [
       "Plot with title \"Treatment group histogram\""
      ]
     },
     "metadata": {},
     "output_type": "display_data"
    }
   ],
   "source": [
    "outcome_t <- treatment$inuidur1\n",
    "hist(outcome_t, main='Treatment group histogram', xlab='Weeks', freq = FALSE,col = 'turquoise3', breaks = 25)\n",
    "lines(density(outcome_t), lwd = 2, col = 'red1')"
   ]
  },
  {
   "cell_type": "markdown",
   "metadata": {},
   "source": [
    "The distribution of the $inuidur1$ variable is quite similar for the treatment and control groups.  This means that the treatment did not have a differential effect on unemployment, this could be explained by the external influence of the covariates.  "
   ]
  },
  {
   "cell_type": "markdown",
   "metadata": {
    "papermill": {
     "duration": 0.012846,
     "end_time": "2021-02-20T13:42:41.672662",
     "exception": false,
     "start_time": "2021-02-20T13:42:41.659816",
     "status": "completed"
    },
    "tags": []
   },
   "source": [
    "### 2.3 Model \n",
    "To evaluate the impact of the treatments on unemployment duration, we consider the linear regression model:\n",
    "\n",
    "$$\n",
    "Y =  D \\beta_1 + W'\\beta_2 + \\varepsilon, \\quad E \\varepsilon (D,W')' = 0,\n",
    "$$\n",
    "\n",
    "where $Y$ is  the  log of duration of unemployment, $D$ is a treatment  indicators,  and $W$ is a set of controls including age group dummies, gender, race, number of dependents, quarter of the experiment, location within the state, existence of recall expectations, and type of occupation.   Here $\\beta_1$ is the ATE, if the RCT assumptions hold rigorously.\n",
    "\n",
    "\n",
    "We also consider interactive regression model:\n",
    "\n",
    "$$\n",
    "Y =  D \\alpha_1 + D W' \\alpha_2 + W'\\beta_2 + \\varepsilon, \\quad E \\varepsilon (D,W', DW')' = 0,\n",
    "$$\n",
    "where $W$'s are demeaned (apart from the intercept), so that $\\alpha_1$ is the ATE, if the RCT assumptions hold rigorously."
   ]
  },
  {
   "cell_type": "markdown",
   "metadata": {
    "papermill": {
     "duration": 0.012735,
     "end_time": "2021-02-20T13:42:41.698676",
     "exception": false,
     "start_time": "2021-02-20T13:42:41.685941",
     "status": "completed"
    },
    "tags": []
   },
   "source": [
    "Under RCT, the projection coefficient $\\beta_1$ has\n",
    "the interpretation of the causal effect of the treatment on\n",
    "the average outcome. We thus refer to $\\beta_1$ as the average\n",
    "treatment effect (ATE). Note that the covariates, here are\n",
    "independent of the treatment $D$, so we can identify $\\beta_1$ by\n",
    "just linear regression of $Y$ on $D$, without adding covariates.\n",
    "However we do add covariates in an effort to improve the\n",
    "precision of our estimates of the average treatment effect."
   ]
  },
  {
   "cell_type": "markdown",
   "metadata": {},
   "source": [
    "#### 2.3.1 classical 2-sample approach, no adjustment (CL)"
   ]
  },
  {
   "cell_type": "code",
   "execution_count": null,
   "metadata": {},
   "outputs": [],
   "source": []
  },
  {
   "cell_type": "markdown",
   "metadata": {},
   "source": [
    "#### 2.3.2 classical linear regression adjustment (CRA)"
   ]
  },
  {
   "cell_type": "code",
   "execution_count": null,
   "metadata": {},
   "outputs": [],
   "source": []
  },
  {
   "cell_type": "markdown",
   "metadata": {},
   "source": [
    "#### 2.3.3 interactive regression adjustment (IRA)"
   ]
  },
  {
   "cell_type": "code",
   "execution_count": null,
   "metadata": {},
   "outputs": [],
   "source": []
  },
  {
   "cell_type": "markdown",
   "metadata": {},
   "source": [
    "#### 2.3.4 interactive regression adjustment (IRA) using Lasso"
   ]
  },
  {
   "cell_type": "code",
   "execution_count": null,
   "metadata": {},
   "outputs": [],
   "source": []
  },
  {
   "cell_type": "markdown",
   "metadata": {},
   "source": [
    "### 2.4 Using the 3. interactive regression adjustment (IRA) plot the coefficients of the next variables\n",
    "#### 2.4.1 T2*female"
   ]
  },
  {
   "cell_type": "code",
   "execution_count": null,
   "metadata": {},
   "outputs": [],
   "source": []
  },
  {
   "cell_type": "markdown",
   "metadata": {},
   "source": [
    "#### 2.4.2 T2*black"
   ]
  },
  {
   "cell_type": "code",
   "execution_count": null,
   "metadata": {},
   "outputs": [],
   "source": []
  },
  {
   "cell_type": "markdown",
   "metadata": {},
   "source": [
    "#### 2.4.3 T2*agelt35"
   ]
  },
  {
   "cell_type": "code",
   "execution_count": null,
   "metadata": {},
   "outputs": [],
   "source": []
  },
  {
   "cell_type": "markdown",
   "metadata": {},
   "source": [
    "#### 2.4.4 T2*factor(dep)1"
   ]
  },
  {
   "cell_type": "code",
   "execution_count": null,
   "metadata": {},
   "outputs": [],
   "source": []
  }
 ],
 "metadata": {
  "kernelspec": {
   "display_name": "R",
   "language": "R",
   "name": "ir"
  },
  "language_info": {
   "codemirror_mode": "r",
   "file_extension": ".r",
   "mimetype": "text/x-r-source",
   "name": "R",
   "pygments_lexer": "r",
   "version": "3.6.1"
  },
  "papermill": {
   "default_parameters": {},
   "duration": 7.178818,
   "end_time": "2021-02-20T13:42:45.473549",
   "environment_variables": {},
   "exception": null,
   "input_path": "__notebook__.ipynb",
   "output_path": "__notebook__.ipynb",
   "parameters": {},
   "start_time": "2021-02-20T13:42:38.294731",
   "version": "2.2.2"
  }
 },
 "nbformat": 4,
 "nbformat_minor": 4
}
