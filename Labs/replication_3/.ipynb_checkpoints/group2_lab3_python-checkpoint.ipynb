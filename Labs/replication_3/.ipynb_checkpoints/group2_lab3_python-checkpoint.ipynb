{
 "cells": [
  {
   "cell_type": "markdown",
   "id": "56f329c4",
   "metadata": {},
   "source": [
    "# POTENCIAL OUTCOMES AND RCTs\n",
    "### INTEGRANTS:\n",
    "- Diego\n",
    "- Alvaro\n",
    "- Luis"
   ]
  },
  {
   "cell_type": "markdown",
   "id": "c110671c",
   "metadata": {},
   "source": [
    "# Multicollinearity"
   ]
  },
  {
   "cell_type": "markdown",
   "id": "fae31735",
   "metadata": {},
   "source": [
    "DESCRIBE MULTICOLLINEARITY AND EXAMPLES"
   ]
  },
  {
   "cell_type": "code",
   "execution_count": null,
   "id": "773bfd95",
   "metadata": {},
   "outputs": [],
   "source": []
  },
  {
   "cell_type": "code",
   "execution_count": null,
   "id": "cd65a529",
   "metadata": {},
   "outputs": [],
   "source": [
    "#Import packages\n",
    "import pandas as pd\n",
    "import numpy as np\n",
    "import random"
   ]
  },
  {
   "cell_type": "code",
   "execution_count": null,
   "id": "2334c866",
   "metadata": {},
   "outputs": [],
   "source": [
    "random.seed(23)\n",
    "\n",
    "#Create 9 normal random vectors\n",
    "x1 = np.random.normal(0,1,10)\n",
    "x2 = np.random.normal(0,1,10)\n",
    "x3 = np.random.normal(0,1,10)\n",
    "x4 = np.random.normal(0,1,10)\n",
    "x5 = np.random.normal(0,1,10)\n",
    "x6 = np.random.normal(0,1,10)\n",
    "x7 = np.random.normal(0,1,10)\n",
    "x8 = np.random.normal(0,1,10)\n",
    "x9 = np.random.normal(0,1,10)\n",
    "\n",
    "#Create 10th vector: linear combination of 3 vectors\n",
    "x10 = 3*x1 + 1.2*x8 - 0.5*x5\n",
    "\n",
    "#Create a matrix 10x10 B\n",
    "A = np.vstack((x1,x2,x3,x4,x5,x6,x7,x8,x9,x10)) \n",
    "B = np.transpose(A)\n",
    "print(B)"
   ]
  },
  {
   "cell_type": "code",
   "execution_count": null,
   "id": "d0678fea",
   "metadata": {},
   "outputs": [],
   "source": [
    "#Calculate inverse matrix of B\n",
    "C = np.linalg.inv(B)\n",
    "print(C)\n",
    "print(\"\\nThe determinant of the matrix is: \",np.linalg.det(B))"
   ]
  },
  {
   "cell_type": "markdown",
   "id": "e1e23816",
   "metadata": {},
   "source": [
    "The determinant of matrix B (with a linear combination 10th column) is almost zero. That's means one of the columns is a linear combination of others columns."
   ]
  },
  {
   "cell_type": "markdown",
   "id": "17c35ae3",
   "metadata": {},
   "source": [
    "# Analyzing RCT data with Precision Adjustment"
   ]
  },
  {
   "cell_type": "code",
   "execution_count": null,
   "id": "87488831",
   "metadata": {},
   "outputs": [],
   "source": [
    "#!pip install pyreadr\n",
    "#!pip install matplotlib\n",
    "#!pip install seaborn\n",
    "import pyreadr\n",
    "import matplotlib.pyplot as plt\n",
    "import seaborn as sns"
   ]
  },
  {
   "cell_type": "code",
   "execution_count": null,
   "id": "157604ea",
   "metadata": {},
   "outputs": [],
   "source": [
    "## loading the data\n",
    "Penn = pd.read_csv(\"../../data/penn_jae.dat\" , sep='\\s', engine='python')\n",
    "n = Penn.shape[0]\n",
    "p_1 = Penn.shape[1]\n",
    "Penn = Penn[ (Penn['tg'] == 2) | (Penn['tg'] == 0) ]"
   ]
  },
  {
   "cell_type": "code",
   "execution_count": null,
   "id": "98c23e9f",
   "metadata": {},
   "outputs": [],
   "source": [
    "Penn.shape"
   ]
  },
  {
   "cell_type": "code",
   "execution_count": null,
   "id": "67eb0c0b",
   "metadata": {},
   "outputs": [],
   "source": [
    "Penn.columns\n",
    "Penn.info()"
   ]
  },
  {
   "cell_type": "code",
   "execution_count": null,
   "id": "c176303f",
   "metadata": {},
   "outputs": [],
   "source": [
    "# Dependent variable\n",
    "Penn['T2'] = (Penn[['tg']]==2).astype(int)\n",
    "\n",
    "# Create category variable\n",
    "Penn['dep'] = Penn['dep'].astype( 'category' )\n",
    "Penn.head()"
   ]
  },
  {
   "cell_type": "code",
   "execution_count": null,
   "id": "99185f9a",
   "metadata": {},
   "outputs": [],
   "source": [
    "Penn['dep'].unique()"
   ]
  },
  {
   "cell_type": "code",
   "execution_count": null,
   "id": "33eb36da",
   "metadata": {
    "scrolled": true
   },
   "outputs": [],
   "source": [
    "Penn.info()"
   ]
  },
  {
   "cell_type": "markdown",
   "id": "40fced43",
   "metadata": {},
   "source": [
    "### Plot histogram: treatment vs control"
   ]
  },
  {
   "cell_type": "code",
   "execution_count": null,
   "id": "ba951ac3",
   "metadata": {},
   "outputs": [],
   "source": [
    "#Plot histogram: treatment group\n",
    "fig, ax = plt.subplots()\n",
    "sns.histplot(Penn[(Penn['T2'] == 1)].inuidur1,stat=\"percent\",bins=30,kde=True)"
   ]
  },
  {
   "cell_type": "code",
   "execution_count": null,
   "id": "6e0ddca4",
   "metadata": {},
   "outputs": [],
   "source": [
    "#Plot histogram: control group\n",
    "fig, ax = plt.subplots()\n",
    "sns.histplot(Penn[(Penn['T2'] == 0)].inuidur1,stat=\"percent\",bins=30,kde=True)"
   ]
  },
  {
   "cell_type": "markdown",
   "id": "f2115455",
   "metadata": {},
   "source": [
    "### Specifications"
   ]
  },
  {
   "cell_type": "code",
   "execution_count": null,
   "id": "a11994ce",
   "metadata": {},
   "outputs": [],
   "source": [
    "import statsmodels.api as sm\n",
    "import statsmodels.formula.api as smf\n",
    "import patsy\n",
    "import numpy as np"
   ]
  },
  {
   "cell_type": "code",
   "execution_count": null,
   "id": "83d7e13c",
   "metadata": {},
   "outputs": [],
   "source": [
    "# take log of inuidur1\n",
    "Penn[\"log_inuidur1\"] = np.log( Penn[\"inuidur1\"] ) \n",
    "log_inuidur1 = pd.DataFrame(np.log( Penn[\"inuidur1\"] ) ).reset_index( drop = True )"
   ]
  },
  {
   "cell_type": "markdown",
   "id": "c61c553d",
   "metadata": {},
   "source": [
    "#### 1. Classical 2-sample approach, no adjustment (CL)"
   ]
  },
  {
   "cell_type": "code",
   "execution_count": null,
   "id": "ece41f46",
   "metadata": {},
   "outputs": [],
   "source": [
    "# no adjustment (2-sample approach)\n",
    "formula_cl = 'log_inuidur1 ~ T4'\n",
    "\n",
    "ols_cl = smf.ols( formula = formula_cl, data = Penn ).fit().get_robustcov_results(cov_type = \"HC1\")\n",
    "print(ols_cl.summary())"
   ]
  },
  {
   "cell_type": "code",
   "execution_count": null,
   "id": "a2ddad66",
   "metadata": {},
   "outputs": [],
   "source": []
  },
  {
   "cell_type": "markdown",
   "id": "9975f3b2",
   "metadata": {},
   "source": [
    "#### 2. Classical linear regression adjustment (CRA)"
   ]
  },
  {
   "cell_type": "code",
   "execution_count": null,
   "id": "9d9ca6d5",
   "metadata": {},
   "outputs": [],
   "source": []
  },
  {
   "cell_type": "markdown",
   "id": "4fb8a40a",
   "metadata": {},
   "source": [
    "#### 3. Interactive regression adjustment (IRA)"
   ]
  },
  {
   "cell_type": "code",
   "execution_count": null,
   "id": "c01b67a0",
   "metadata": {},
   "outputs": [],
   "source": []
  },
  {
   "cell_type": "markdown",
   "id": "f5774fd2",
   "metadata": {},
   "source": [
    "#### 4. Interactive regression adjustment (IRA) using Lasso."
   ]
  },
  {
   "cell_type": "code",
   "execution_count": null,
   "id": "3089128e",
   "metadata": {},
   "outputs": [],
   "source": []
  }
 ],
 "metadata": {
  "kernelspec": {
   "display_name": "Python 3 (ipykernel)",
   "language": "python",
   "name": "python3"
  },
  "language_info": {
   "codemirror_mode": {
    "name": "ipython",
    "version": 3
   },
   "file_extension": ".py",
   "mimetype": "text/x-python",
   "name": "python",
   "nbconvert_exporter": "python",
   "pygments_lexer": "ipython3",
   "version": "3.9.11"
  }
 },
 "nbformat": 4,
 "nbformat_minor": 5
}
