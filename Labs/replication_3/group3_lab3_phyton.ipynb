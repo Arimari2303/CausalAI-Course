{
 "cells": [
  {
   "cell_type": "markdown",
   "id": "762d511c",
   "metadata": {},
   "source": [
    "1. Multicollinearity"
   ]
  },
  {
   "cell_type": "markdown",
   "id": "b16bc516",
   "metadata": {},
   "source": [
    "Create Matrix X"
   ]
  },
  {
   "cell_type": "code",
   "execution_count": 9,
   "id": "c6a5898d",
   "metadata": {},
   "outputs": [],
   "source": [
    "import numpy as np\n",
    "from numpy import random as rd\n",
    "from numpy.linalg import det, inv\n",
    "import pandas as pd"
   ]
  },
  {
   "cell_type": "code",
   "execution_count": 27,
   "id": "46e38bc9",
   "metadata": {},
   "outputs": [],
   "source": [
    "np.random.seed(12345676)\n",
    "n = 10   ####\n",
    "\n",
    "#Create a matrix 10x10 \n",
    "\n",
    "A = np.zeros((10,10))"
   ]
  },
  {
   "cell_type": "code",
   "execution_count": 28,
   "id": "db4b8a07",
   "metadata": {},
   "outputs": [],
   "source": [
    "##### 9 vectors (columns) follow a normal distribution.\n",
    "\n",
    "for i in range(A.shape[0] -1): #####shape[0] gives number of rows and -1 eliminates 1 row\n",
    " A[:, i] = np.random.normal(0, 1, 10)   "
   ]
  },
  {
   "cell_type": "code",
   "execution_count": 29,
   "id": "f63cef4d",
   "metadata": {},
   "outputs": [],
   "source": [
    "#####The 10th vector is a linear combination of tree vectors.\n",
    "A[:, 9] = A[:, 1] + A[:, 2]+ A[:, 3]"
   ]
  },
  {
   "cell_type": "code",
   "execution_count": 39,
   "id": "8b20ed3e",
   "metadata": {},
   "outputs": [
    {
     "name": "stdout",
     "output_type": "stream",
     "text": [
      "[[-1.32053415e-01  1.76275928e-01 -2.37616999e-01  1.02436989e+00\n",
      "  -1.33979831e-01 -1.19597287e+00 -3.26102761e-01  6.81508377e-01\n",
      "  -9.21057208e-02 -3.11491632e+00]\n",
      " [-2.37192537e+15  7.75324009e+13  2.67964671e+15 -3.12586833e+15\n",
      "  -2.50501911e+15  2.10985352e+15 -1.06200405e+15 -2.98183156e+15\n",
      "  -7.68742327e+14  8.08039833e+15]\n",
      " [-2.37192537e+15  7.75324009e+13  2.67964671e+15 -3.12586833e+15\n",
      "  -2.50501911e+15  2.10985352e+15 -1.06200405e+15 -2.98183156e+15\n",
      "  -7.68742327e+14  8.08039833e+15]\n",
      " [-2.37192537e+15  7.75324009e+13  2.67964671e+15 -3.12586833e+15\n",
      "  -2.50501911e+15  2.10985352e+15 -1.06200405e+15 -2.98183156e+15\n",
      "  -7.68742327e+14  8.08039833e+15]\n",
      " [ 4.73287186e-02  3.22574270e-01  2.31682942e-01 -1.99000574e-01\n",
      "  -2.29989792e-01  5.24331002e-01  7.02758149e-02 -9.41737371e-02\n",
      "   1.12791690e-01  1.15297474e+00]\n",
      " [-4.61339012e-01  7.41915368e-02  2.61834594e-01 -8.83665952e-01\n",
      "  -8.77158528e-01  6.68417441e-01 -3.45469535e-01 -8.71689254e-01\n",
      "  -5.03934910e-01  1.81279989e+00]\n",
      " [-2.77718269e-01 -2.21444940e-01 -3.78334549e-01  5.73535067e-01\n",
      "  -2.54017643e-02 -1.33095385e+00 -8.04672869e-01  4.68206959e-01\n",
      "  -7.34698081e-01 -2.39106069e+00]\n",
      " [-6.38181094e-02 -4.48724577e-03  4.17013375e-01 -7.03078446e-01\n",
      "  -4.91762765e-01  1.10614582e+00  1.27864839e-01 -6.68772901e-01\n",
      "   2.47986029e-01  2.80789072e+00]\n",
      " [-7.82846640e-01  2.35841634e-01  5.15695376e-01 -9.75682748e-01\n",
      "  -5.00282325e-01  8.40018194e-01 -3.64385584e-01 -1.16737895e+00\n",
      "  -5.12405599e-01  2.32089806e+00]\n",
      " [ 2.37192537e+15 -7.75324009e+13 -2.67964671e+15  3.12586833e+15\n",
      "   2.50501911e+15 -2.10985352e+15  1.06200405e+15  2.98183156e+15\n",
      "   7.68742327e+14 -8.08039833e+15]]\n"
     ]
    }
   ],
   "source": [
    "#####Try to find the inverse of this matrix and show what is the output you get in both R and Python.\n",
    "A_inversa = np.linalg.inv(A)\n",
    "print(A_inversa)"
   ]
  },
  {
   "cell_type": "code",
   "execution_count": null,
   "id": "08340013",
   "metadata": {},
   "outputs": [],
   "source": [
    "#Explain why you get different results.\n",
    "\n",
    "##Since column 10 is a linear combination of three other columns of the matrix, then we conclude that our matrix is singular. Furthermore, we know that a singular matrix has no determinant, so we cannot obtain its inverse."
   ]
  }
 ],
 "metadata": {
  "kernelspec": {
   "display_name": "Python 3 (ipykernel)",
   "language": "python",
   "name": "python3"
  },
  "language_info": {
   "codemirror_mode": {
    "name": "ipython",
    "version": 3
   },
   "file_extension": ".py",
   "mimetype": "text/x-python",
   "name": "python",
   "nbconvert_exporter": "python",
   "pygments_lexer": "ipython3",
   "version": "3.9.7"
  }
 },
 "nbformat": 4,
 "nbformat_minor": 5
}
