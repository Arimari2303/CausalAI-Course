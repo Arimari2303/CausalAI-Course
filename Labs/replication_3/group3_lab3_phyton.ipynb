{
 "cells": [
  {
   "cell_type": "markdown",
   "id": "762d511c",
   "metadata": {},
   "source": [
    "## 1. Multicollinearity"
   ]
  },
  {
   "cell_type": "markdown",
   "id": "b16bc516",
   "metadata": {},
   "source": [
    "Create Matrix X"
   ]
  },
  {
   "cell_type": "code",
   "execution_count": 208,
   "id": "c6a5898d",
   "metadata": {},
   "outputs": [],
   "source": [
    "import numpy as np\n",
    "from numpy import random as rd\n",
    "from numpy.linalg import det, inv\n",
    "import pandas as pd\n",
    "import pandas as pd\n",
    "import pyreadr"
   ]
  },
  {
   "cell_type": "code",
   "execution_count": 209,
   "id": "46e38bc9",
   "metadata": {},
   "outputs": [],
   "source": [
    "np.random.seed(12345676)\n",
    "n = 10   ####\n",
    "\n",
    "#Create a matrix 10x10 \n",
    "\n",
    "A = np.zeros((10,10))"
   ]
  },
  {
   "cell_type": "code",
   "execution_count": 210,
   "id": "db4b8a07",
   "metadata": {},
   "outputs": [],
   "source": [
    "##### 9 vectors (columns) follow a normal distribution.\n",
    "\n",
    "for i in range(A.shape[0] -1): #####shape[0] gives number of rows and -1 eliminates 1 row\n",
    " A[:, i] = np.random.normal(0, 1, 10)   "
   ]
  },
  {
   "cell_type": "code",
   "execution_count": 211,
   "id": "f63cef4d",
   "metadata": {},
   "outputs": [],
   "source": [
    "#####The 10th vector is a linear combination of tree vectors.\n",
    "A[:, 9] = A[:, 1] + A[:, 2]+ A[:, 3]"
   ]
  },
  {
   "cell_type": "code",
   "execution_count": 212,
   "id": "8b20ed3e",
   "metadata": {},
   "outputs": [
    {
     "name": "stdout",
     "output_type": "stream",
     "text": [
      "[[-1.32053415e-01  1.76275928e-01 -2.37616999e-01  1.02436989e+00\n",
      "  -1.33979831e-01 -1.19597287e+00 -3.26102761e-01  6.81508377e-01\n",
      "  -9.21057208e-02 -3.11491632e+00]\n",
      " [-2.37192537e+15  7.75324009e+13  2.67964671e+15 -3.12586833e+15\n",
      "  -2.50501911e+15  2.10985352e+15 -1.06200405e+15 -2.98183156e+15\n",
      "  -7.68742327e+14  8.08039833e+15]\n",
      " [-2.37192537e+15  7.75324009e+13  2.67964671e+15 -3.12586833e+15\n",
      "  -2.50501911e+15  2.10985352e+15 -1.06200405e+15 -2.98183156e+15\n",
      "  -7.68742327e+14  8.08039833e+15]\n",
      " [-2.37192537e+15  7.75324009e+13  2.67964671e+15 -3.12586833e+15\n",
      "  -2.50501911e+15  2.10985352e+15 -1.06200405e+15 -2.98183156e+15\n",
      "  -7.68742327e+14  8.08039833e+15]\n",
      " [ 4.73287186e-02  3.22574270e-01  2.31682942e-01 -1.99000574e-01\n",
      "  -2.29989792e-01  5.24331002e-01  7.02758149e-02 -9.41737371e-02\n",
      "   1.12791690e-01  1.15297474e+00]\n",
      " [-4.61339012e-01  7.41915368e-02  2.61834594e-01 -8.83665952e-01\n",
      "  -8.77158528e-01  6.68417441e-01 -3.45469535e-01 -8.71689254e-01\n",
      "  -5.03934910e-01  1.81279989e+00]\n",
      " [-2.77718269e-01 -2.21444940e-01 -3.78334549e-01  5.73535067e-01\n",
      "  -2.54017643e-02 -1.33095385e+00 -8.04672869e-01  4.68206959e-01\n",
      "  -7.34698081e-01 -2.39106069e+00]\n",
      " [-6.38181094e-02 -4.48724577e-03  4.17013375e-01 -7.03078446e-01\n",
      "  -4.91762765e-01  1.10614582e+00  1.27864839e-01 -6.68772901e-01\n",
      "   2.47986029e-01  2.80789072e+00]\n",
      " [-7.82846640e-01  2.35841634e-01  5.15695376e-01 -9.75682748e-01\n",
      "  -5.00282325e-01  8.40018194e-01 -3.64385584e-01 -1.16737895e+00\n",
      "  -5.12405599e-01  2.32089806e+00]\n",
      " [ 2.37192537e+15 -7.75324009e+13 -2.67964671e+15  3.12586833e+15\n",
      "   2.50501911e+15 -2.10985352e+15  1.06200405e+15  2.98183156e+15\n",
      "   7.68742327e+14 -8.08039833e+15]]\n"
     ]
    }
   ],
   "source": [
    "#####Try to find the inverse of this matrix and show what is the output you get in both R and Python.\n",
    "A_inversa = np.linalg.inv(A)\n",
    "print(A_inversa)"
   ]
  },
  {
   "cell_type": "markdown",
   "id": "919b96fd",
   "metadata": {},
   "source": [
    "# Explain why you get different results.\n",
    "\n",
    "Since column 10 is a linear combination of three other columns of the matrix, then we conclude that our matrix is singular. Furthermore, we know that a singular matrix has no determinant, so we cannot obtain its inverse."
   ]
  },
  {
   "cell_type": "markdown",
   "id": "163b54e3",
   "metadata": {},
   "source": [
    "## 2. Analyzing RCT data with Precision Adjustment"
   ]
  },
  {
   "cell_type": "markdown",
   "id": "d1ec5aa8",
   "metadata": {},
   "source": [
    "## Data\n",
    "\n",
    "In this lab, we analyze the Pennsylvania re-employment bonus experiment, which was previously studied in \"Sequential testing of duration data: the case of the Pennsylvania ‘reemployment bonus’ experiment\" (Bilias, 2000), among others. These experiments were conducted in the 1980s by the U.S. Department of Labor to test the incentive effects of alternative compensation schemes for unemployment insurance (UI). In these experiments, UI claimants were randomly assigned either to a control group or one of five treatment groups. Actually, there are six treatment groups in the experiments. Here we focus on treatment group 4, but feel free to explore other treatment groups. In the control group the current rules of the UI applied. Individuals in the treatment groups were offered a cash bonus if they found a job within some pre-specified period of time (qualification period), provided that the job was retained for a specified duration. The treatments differed in the level of the bonus, the length of the qualification period, and whether the bonus was declining over time in the qualification period; see http://qed.econ.queensu.ca/jae/2000-v15.6/bilias/readme.b.txt for further details on data. \n",
    "  "
   ]
  },
  {
   "cell_type": "code",
   "execution_count": 213,
   "id": "55112dcc",
   "metadata": {},
   "outputs": [
    {
     "name": "stdout",
     "output_type": "stream",
     "text": [
      "Requirement already satisfied: pyreadr in c:\\users\\acoap\\estadistica\\lib\\site-packages (0.4.2)\n",
      "Requirement already satisfied: pandas>0.24.0 in c:\\users\\acoap\\estadistica\\lib\\site-packages (from pyreadr) (1.3.4)\n",
      "Requirement already satisfied: numpy>=1.17.3 in c:\\users\\acoap\\estadistica\\lib\\site-packages (from pandas>0.24.0->pyreadr) (1.20.3)\n",
      "Requirement already satisfied: python-dateutil>=2.7.3 in c:\\users\\acoap\\estadistica\\lib\\site-packages (from pandas>0.24.0->pyreadr) (2.8.2)\n",
      "Requirement already satisfied: pytz>=2017.3 in c:\\users\\acoap\\estadistica\\lib\\site-packages (from pandas>0.24.0->pyreadr) (2021.3)\n",
      "Requirement already satisfied: six>=1.5 in c:\\users\\acoap\\estadistica\\lib\\site-packages (from python-dateutil>=2.7.3->pandas>0.24.0->pyreadr) (1.16.0)\n"
     ]
    }
   ],
   "source": [
    "!pip install pyreadr"
   ]
  },
  {
   "cell_type": "code",
   "execution_count": 214,
   "id": "6016916f",
   "metadata": {},
   "outputs": [],
   "source": [
    "import pandas as pd\n",
    "import pyreadr\n",
    "import matplotlib.pyplot as plt\n",
    "import seaborn as sns"
   ]
  },
  {
   "cell_type": "code",
   "execution_count": 215,
   "id": "103bef79",
   "metadata": {},
   "outputs": [],
   "source": [
    "## loading the data\n",
    "Penn = pd.read_csv(\"../../data/penn_jae.dat\" , sep='\\s', engine='python')\n",
    "n = Penn.shape[0]\n",
    "p_1 = Penn.shape[1]\n",
    "\n",
    "##Focus on the Treatment group 2\n",
    "Penn = Penn[ (Penn['tg'] == 2) | (Penn['tg'] == 0) ]"
   ]
  },
  {
   "cell_type": "code",
   "execution_count": 216,
   "id": "ed327f2e",
   "metadata": {},
   "outputs": [
    {
     "data": {
      "text/plain": [
       "(5782, 24)"
      ]
     },
     "execution_count": 216,
     "metadata": {},
     "output_type": "execute_result"
    }
   ],
   "source": [
    "Penn.shape"
   ]
  },
  {
   "cell_type": "code",
   "execution_count": 217,
   "id": "3c3fea86",
   "metadata": {},
   "outputs": [
    {
     "data": {
      "text/html": [
       "<div>\n",
       "<style scoped>\n",
       "    .dataframe tbody tr th:only-of-type {\n",
       "        vertical-align: middle;\n",
       "    }\n",
       "\n",
       "    .dataframe tbody tr th {\n",
       "        vertical-align: top;\n",
       "    }\n",
       "\n",
       "    .dataframe thead th {\n",
       "        text-align: right;\n",
       "    }\n",
       "</style>\n",
       "<table border=\"1\" class=\"dataframe\">\n",
       "  <thead>\n",
       "    <tr style=\"text-align: right;\">\n",
       "      <th></th>\n",
       "      <th>abdt</th>\n",
       "      <th>tg</th>\n",
       "      <th>inuidur1</th>\n",
       "      <th>inuidur2</th>\n",
       "      <th>female</th>\n",
       "      <th>black</th>\n",
       "      <th>hispanic</th>\n",
       "      <th>othrace</th>\n",
       "      <th>dep</th>\n",
       "      <th>q1</th>\n",
       "      <th>...</th>\n",
       "      <th>q5</th>\n",
       "      <th>q6</th>\n",
       "      <th>recall</th>\n",
       "      <th>agelt35</th>\n",
       "      <th>agegt54</th>\n",
       "      <th>durable</th>\n",
       "      <th>nondurable</th>\n",
       "      <th>lusd</th>\n",
       "      <th>husd</th>\n",
       "      <th>muld</th>\n",
       "    </tr>\n",
       "  </thead>\n",
       "  <tbody>\n",
       "    <tr>\n",
       "      <th>0</th>\n",
       "      <td>10824</td>\n",
       "      <td>0</td>\n",
       "      <td>18</td>\n",
       "      <td>18</td>\n",
       "      <td>0</td>\n",
       "      <td>0</td>\n",
       "      <td>0</td>\n",
       "      <td>0</td>\n",
       "      <td>2</td>\n",
       "      <td>0</td>\n",
       "      <td>...</td>\n",
       "      <td>0</td>\n",
       "      <td>0</td>\n",
       "      <td>0</td>\n",
       "      <td>0</td>\n",
       "      <td>0</td>\n",
       "      <td>0</td>\n",
       "      <td>0</td>\n",
       "      <td>1</td>\n",
       "      <td>0</td>\n",
       "      <td>NaN</td>\n",
       "    </tr>\n",
       "    <tr>\n",
       "      <th>1</th>\n",
       "      <td>10635</td>\n",
       "      <td>2</td>\n",
       "      <td>7</td>\n",
       "      <td>3</td>\n",
       "      <td>0</td>\n",
       "      <td>0</td>\n",
       "      <td>0</td>\n",
       "      <td>0</td>\n",
       "      <td>0</td>\n",
       "      <td>0</td>\n",
       "      <td>...</td>\n",
       "      <td>0</td>\n",
       "      <td>0</td>\n",
       "      <td>1</td>\n",
       "      <td>0</td>\n",
       "      <td>0</td>\n",
       "      <td>0</td>\n",
       "      <td>1</td>\n",
       "      <td>0</td>\n",
       "      <td>0</td>\n",
       "      <td>NaN</td>\n",
       "    </tr>\n",
       "    <tr>\n",
       "      <th>3</th>\n",
       "      <td>10824</td>\n",
       "      <td>0</td>\n",
       "      <td>1</td>\n",
       "      <td>1</td>\n",
       "      <td>0</td>\n",
       "      <td>0</td>\n",
       "      <td>0</td>\n",
       "      <td>0</td>\n",
       "      <td>0</td>\n",
       "      <td>0</td>\n",
       "      <td>...</td>\n",
       "      <td>0</td>\n",
       "      <td>0</td>\n",
       "      <td>0</td>\n",
       "      <td>0</td>\n",
       "      <td>0</td>\n",
       "      <td>0</td>\n",
       "      <td>1</td>\n",
       "      <td>0</td>\n",
       "      <td>0</td>\n",
       "      <td>NaN</td>\n",
       "    </tr>\n",
       "    <tr>\n",
       "      <th>4</th>\n",
       "      <td>10747</td>\n",
       "      <td>0</td>\n",
       "      <td>27</td>\n",
       "      <td>27</td>\n",
       "      <td>0</td>\n",
       "      <td>0</td>\n",
       "      <td>0</td>\n",
       "      <td>0</td>\n",
       "      <td>0</td>\n",
       "      <td>0</td>\n",
       "      <td>...</td>\n",
       "      <td>0</td>\n",
       "      <td>0</td>\n",
       "      <td>0</td>\n",
       "      <td>0</td>\n",
       "      <td>0</td>\n",
       "      <td>0</td>\n",
       "      <td>1</td>\n",
       "      <td>0</td>\n",
       "      <td>0</td>\n",
       "      <td>NaN</td>\n",
       "    </tr>\n",
       "    <tr>\n",
       "      <th>9</th>\n",
       "      <td>10754</td>\n",
       "      <td>2</td>\n",
       "      <td>20</td>\n",
       "      <td>20</td>\n",
       "      <td>1</td>\n",
       "      <td>0</td>\n",
       "      <td>0</td>\n",
       "      <td>0</td>\n",
       "      <td>0</td>\n",
       "      <td>0</td>\n",
       "      <td>...</td>\n",
       "      <td>0</td>\n",
       "      <td>0</td>\n",
       "      <td>0</td>\n",
       "      <td>0</td>\n",
       "      <td>0</td>\n",
       "      <td>0</td>\n",
       "      <td>0</td>\n",
       "      <td>0</td>\n",
       "      <td>1</td>\n",
       "      <td>NaN</td>\n",
       "    </tr>\n",
       "  </tbody>\n",
       "</table>\n",
       "<p>5 rows × 24 columns</p>\n",
       "</div>"
      ],
      "text/plain": [
       "    abdt  tg  inuidur1  inuidur2  female  black  hispanic  othrace  dep  q1  \\\n",
       "0  10824   0        18        18       0      0         0        0    2   0   \n",
       "1  10635   2         7         3       0      0         0        0    0   0   \n",
       "3  10824   0         1         1       0      0         0        0    0   0   \n",
       "4  10747   0        27        27       0      0         0        0    0   0   \n",
       "9  10754   2        20        20       1      0         0        0    0   0   \n",
       "\n",
       "   ...  q5  q6  recall  agelt35  agegt54  durable  nondurable  lusd  husd  \\\n",
       "0  ...   0   0       0        0        0        0           0     1     0   \n",
       "1  ...   0   0       1        0        0        0           1     0     0   \n",
       "3  ...   0   0       0        0        0        0           1     0     0   \n",
       "4  ...   0   0       0        0        0        0           1     0     0   \n",
       "9  ...   0   0       0        0        0        0           0     0     1   \n",
       "\n",
       "   muld  \n",
       "0   NaN  \n",
       "1   NaN  \n",
       "3   NaN  \n",
       "4   NaN  \n",
       "9   NaN  \n",
       "\n",
       "[5 rows x 24 columns]"
      ]
     },
     "execution_count": 217,
     "metadata": {},
     "output_type": "execute_result"
    }
   ],
   "source": [
    "Penn.head()"
   ]
  },
  {
   "cell_type": "code",
   "execution_count": 218,
   "id": "97b2a71e",
   "metadata": {},
   "outputs": [
    {
     "name": "stdout",
     "output_type": "stream",
     "text": [
      "<class 'pandas.core.frame.DataFrame'>\n",
      "Int64Index: 5782 entries, 0 to 13911\n",
      "Data columns (total 24 columns):\n",
      " #   Column       Non-Null Count  Dtype  \n",
      "---  ------       --------------  -----  \n",
      " 0   abdt         5782 non-null   int64  \n",
      " 1   tg           5782 non-null   int64  \n",
      " 2   inuidur1     5782 non-null   int64  \n",
      " 3   inuidur2     5782 non-null   int64  \n",
      " 4   female       5782 non-null   int64  \n",
      " 5   black        5782 non-null   int64  \n",
      " 6   hispanic     5782 non-null   int64  \n",
      " 7   othrace      5782 non-null   int64  \n",
      " 8   dep          5782 non-null   int64  \n",
      " 9   q1           5782 non-null   int64  \n",
      " 10  q2           5782 non-null   int64  \n",
      " 11  q3           5782 non-null   int64  \n",
      " 12  q4           5782 non-null   int64  \n",
      " 13  Unnamed: 13  5782 non-null   int64  \n",
      " 14  q5           5782 non-null   int64  \n",
      " 15  q6           5782 non-null   int64  \n",
      " 16  recall       5782 non-null   int64  \n",
      " 17  agelt35      5782 non-null   int64  \n",
      " 18  agegt54      5782 non-null   int64  \n",
      " 19  durable      5782 non-null   int64  \n",
      " 20  nondurable   5782 non-null   int64  \n",
      " 21  lusd         5782 non-null   int64  \n",
      " 22  husd         5782 non-null   int64  \n",
      " 23  muld         0 non-null      float64\n",
      "dtypes: float64(1), int64(23)\n",
      "memory usage: 1.1 MB\n"
     ]
    }
   ],
   "source": [
    "#this columns were not dropped out :  Unnamed: 13, recall\n",
    "Penn.columns\n",
    "Penn.info()"
   ]
  },
  {
   "cell_type": "code",
   "execution_count": 219,
   "id": "b924876f",
   "metadata": {},
   "outputs": [
    {
     "name": "stderr",
     "output_type": "stream",
     "text": [
      "C:\\Users\\acoap\\Estadistica\\lib\\site-packages\\seaborn\\distributions.py:2619: FutureWarning: `distplot` is a deprecated function and will be removed in a future version. Please adapt your code to use either `displot` (a figure-level function with similar flexibility) or `histplot` (an axes-level function for histograms).\n",
      "  warnings.warn(msg, FutureWarning)\n"
     ]
    },
    {
     "data": {
      "text/plain": [
       "<AxesSubplot:xlabel='inuidur1', ylabel='Density'>"
      ]
     },
     "execution_count": 219,
     "metadata": {},
     "output_type": "execute_result"
    },
    {
     "data": {
      "image/png": "[encoded data removed]",
      "text/plain": [
       "<Figure size 576x360 with 1 Axes>"
      ]
     },
     "metadata": {
      "needs_background": "light"
     },
     "output_type": "display_data"
    }
   ],
   "source": [
    "#Plotting the inuidur1 variable for the tg=2 group\n",
    "fig, ax = plt.subplots(figsize=(8, 5))\n",
    "\n",
    "sns.distplot(Penn[(Penn['tg'] == 2)].inuidur1, color='purple')\n"
   ]
  },
  {
   "cell_type": "code",
   "execution_count": 220,
   "id": "36dac397",
   "metadata": {},
   "outputs": [
    {
     "name": "stderr",
     "output_type": "stream",
     "text": [
      "C:\\Users\\acoap\\Estadistica\\lib\\site-packages\\seaborn\\distributions.py:2619: FutureWarning: `distplot` is a deprecated function and will be removed in a future version. Please adapt your code to use either `displot` (a figure-level function with similar flexibility) or `histplot` (an axes-level function for histograms).\n",
      "  warnings.warn(msg, FutureWarning)\n"
     ]
    },
    {
     "data": {
      "text/plain": [
       "<AxesSubplot:xlabel='inuidur1', ylabel='Density'>"
      ]
     },
     "execution_count": 220,
     "metadata": {},
     "output_type": "execute_result"
    },
    {
     "data": {
      "image/png": "[encoded data removed]",
      "text/plain": [
       "<Figure size 576x360 with 1 Axes>"
      ]
     },
     "metadata": {
      "needs_background": "light"
     },
     "output_type": "display_data"
    }
   ],
   "source": [
    "#Plotting the inuidur1 variable for the tg=0 group\n",
    "fig, ax = plt.subplots(figsize=(8, 5))\n",
    "\n",
    "sns.distplot(Penn[(Penn['tg'] == 0)].inuidur1, color='purple')"
   ]
  },
  {
   "cell_type": "markdown",
   "id": "9778c67d",
   "metadata": {},
   "source": [
    "It can be seen that the distribution of the control group and the treatment group is similar."
   ]
  },
  {
   "cell_type": "code",
   "execution_count": 221,
   "id": "2aaf8bf9",
   "metadata": {},
   "outputs": [
    {
     "data": {
      "text/html": [
       "<div>\n",
       "<style scoped>\n",
       "    .dataframe tbody tr th:only-of-type {\n",
       "        vertical-align: middle;\n",
       "    }\n",
       "\n",
       "    .dataframe tbody tr th {\n",
       "        vertical-align: top;\n",
       "    }\n",
       "\n",
       "    .dataframe thead th {\n",
       "        text-align: right;\n",
       "    }\n",
       "</style>\n",
       "<table border=\"1\" class=\"dataframe\">\n",
       "  <thead>\n",
       "    <tr style=\"text-align: right;\">\n",
       "      <th></th>\n",
       "      <th>abdt</th>\n",
       "      <th>tg</th>\n",
       "      <th>inuidur1</th>\n",
       "      <th>inuidur2</th>\n",
       "      <th>female</th>\n",
       "      <th>black</th>\n",
       "      <th>hispanic</th>\n",
       "      <th>othrace</th>\n",
       "      <th>dep</th>\n",
       "      <th>q1</th>\n",
       "      <th>...</th>\n",
       "      <th>q6</th>\n",
       "      <th>recall</th>\n",
       "      <th>agelt35</th>\n",
       "      <th>agegt54</th>\n",
       "      <th>durable</th>\n",
       "      <th>nondurable</th>\n",
       "      <th>lusd</th>\n",
       "      <th>husd</th>\n",
       "      <th>muld</th>\n",
       "      <th>T2</th>\n",
       "    </tr>\n",
       "  </thead>\n",
       "  <tbody>\n",
       "    <tr>\n",
       "      <th>0</th>\n",
       "      <td>10824</td>\n",
       "      <td>0</td>\n",
       "      <td>18</td>\n",
       "      <td>18</td>\n",
       "      <td>0</td>\n",
       "      <td>0</td>\n",
       "      <td>0</td>\n",
       "      <td>0</td>\n",
       "      <td>2</td>\n",
       "      <td>0</td>\n",
       "      <td>...</td>\n",
       "      <td>0</td>\n",
       "      <td>0</td>\n",
       "      <td>0</td>\n",
       "      <td>0</td>\n",
       "      <td>0</td>\n",
       "      <td>0</td>\n",
       "      <td>1</td>\n",
       "      <td>0</td>\n",
       "      <td>NaN</td>\n",
       "      <td>0</td>\n",
       "    </tr>\n",
       "    <tr>\n",
       "      <th>1</th>\n",
       "      <td>10635</td>\n",
       "      <td>2</td>\n",
       "      <td>7</td>\n",
       "      <td>3</td>\n",
       "      <td>0</td>\n",
       "      <td>0</td>\n",
       "      <td>0</td>\n",
       "      <td>0</td>\n",
       "      <td>0</td>\n",
       "      <td>0</td>\n",
       "      <td>...</td>\n",
       "      <td>0</td>\n",
       "      <td>1</td>\n",
       "      <td>0</td>\n",
       "      <td>0</td>\n",
       "      <td>0</td>\n",
       "      <td>1</td>\n",
       "      <td>0</td>\n",
       "      <td>0</td>\n",
       "      <td>NaN</td>\n",
       "      <td>1</td>\n",
       "    </tr>\n",
       "    <tr>\n",
       "      <th>3</th>\n",
       "      <td>10824</td>\n",
       "      <td>0</td>\n",
       "      <td>1</td>\n",
       "      <td>1</td>\n",
       "      <td>0</td>\n",
       "      <td>0</td>\n",
       "      <td>0</td>\n",
       "      <td>0</td>\n",
       "      <td>0</td>\n",
       "      <td>0</td>\n",
       "      <td>...</td>\n",
       "      <td>0</td>\n",
       "      <td>0</td>\n",
       "      <td>0</td>\n",
       "      <td>0</td>\n",
       "      <td>0</td>\n",
       "      <td>1</td>\n",
       "      <td>0</td>\n",
       "      <td>0</td>\n",
       "      <td>NaN</td>\n",
       "      <td>0</td>\n",
       "    </tr>\n",
       "    <tr>\n",
       "      <th>4</th>\n",
       "      <td>10747</td>\n",
       "      <td>0</td>\n",
       "      <td>27</td>\n",
       "      <td>27</td>\n",
       "      <td>0</td>\n",
       "      <td>0</td>\n",
       "      <td>0</td>\n",
       "      <td>0</td>\n",
       "      <td>0</td>\n",
       "      <td>0</td>\n",
       "      <td>...</td>\n",
       "      <td>0</td>\n",
       "      <td>0</td>\n",
       "      <td>0</td>\n",
       "      <td>0</td>\n",
       "      <td>0</td>\n",
       "      <td>1</td>\n",
       "      <td>0</td>\n",
       "      <td>0</td>\n",
       "      <td>NaN</td>\n",
       "      <td>0</td>\n",
       "    </tr>\n",
       "    <tr>\n",
       "      <th>9</th>\n",
       "      <td>10754</td>\n",
       "      <td>2</td>\n",
       "      <td>20</td>\n",
       "      <td>20</td>\n",
       "      <td>1</td>\n",
       "      <td>0</td>\n",
       "      <td>0</td>\n",
       "      <td>0</td>\n",
       "      <td>0</td>\n",
       "      <td>0</td>\n",
       "      <td>...</td>\n",
       "      <td>0</td>\n",
       "      <td>0</td>\n",
       "      <td>0</td>\n",
       "      <td>0</td>\n",
       "      <td>0</td>\n",
       "      <td>0</td>\n",
       "      <td>0</td>\n",
       "      <td>1</td>\n",
       "      <td>NaN</td>\n",
       "      <td>1</td>\n",
       "    </tr>\n",
       "  </tbody>\n",
       "</table>\n",
       "<p>5 rows × 25 columns</p>\n",
       "</div>"
      ],
      "text/plain": [
       "    abdt  tg  inuidur1  inuidur2  female  black  hispanic  othrace dep  q1  \\\n",
       "0  10824   0        18        18       0      0         0        0   2   0   \n",
       "1  10635   2         7         3       0      0         0        0   0   0   \n",
       "3  10824   0         1         1       0      0         0        0   0   0   \n",
       "4  10747   0        27        27       0      0         0        0   0   0   \n",
       "9  10754   2        20        20       1      0         0        0   0   0   \n",
       "\n",
       "   ...  q6  recall  agelt35  agegt54  durable  nondurable  lusd  husd  muld  \\\n",
       "0  ...   0       0        0        0        0           0     1     0   NaN   \n",
       "1  ...   0       1        0        0        0           1     0     0   NaN   \n",
       "3  ...   0       0        0        0        0           1     0     0   NaN   \n",
       "4  ...   0       0        0        0        0           1     0     0   NaN   \n",
       "9  ...   0       0        0        0        0           0     0     1   NaN   \n",
       "\n",
       "   T2  \n",
       "0   0  \n",
       "1   1  \n",
       "3   0  \n",
       "4   0  \n",
       "9   1  \n",
       "\n",
       "[5 rows x 25 columns]"
      ]
     },
     "execution_count": 221,
     "metadata": {},
     "output_type": "execute_result"
    }
   ],
   "source": [
    "# Dependent variable\n",
    "Penn['T2'] = (Penn[['tg']]==2).astype(int)\n",
    "\n",
    "# Create category variable\n",
    "Penn['dep'] = Penn['dep'].astype( 'category' )\n",
    "Penn.head()"
   ]
  },
  {
   "cell_type": "code",
   "execution_count": 222,
   "id": "e2de8fe6",
   "metadata": {},
   "outputs": [
    {
     "data": {
      "text/plain": [
       "[2, 0, 1]\n",
       "Categories (3, int64): [0, 1, 2]"
      ]
     },
     "execution_count": 222,
     "metadata": {},
     "output_type": "execute_result"
    }
   ],
   "source": [
    "Penn['dep'].unique()"
   ]
  },
  {
   "cell_type": "markdown",
   "id": "c92bb6fc",
   "metadata": {},
   "source": [
    "### Model \n",
    "To evaluate the impact of the treatments on unemployment duration, we consider the linear regression model:\n",
    "\n",
    "$$\n",
    "Y =  D \\beta_1 + W'\\beta_2 + \\varepsilon, \\quad E \\varepsilon (D,W')' = 0,\n",
    "$$\n",
    "\n",
    "where $Y$ is  the  log of duration of unemployment, $D$ is a treatment  indicators,  and $W$ is a set of controls including age group dummies, gender, race, number of dependents, quarter of the experiment, location within the state, existence of recall expectations, and type of occupation.   Here $\\beta_1$ is the ATE, if the RCT assumptions hold rigorously.\n",
    "\n",
    "\n",
    "We also consider interactive regression model:\n",
    "\n",
    "$$\n",
    "Y =  D \\alpha_1 + D W' \\alpha_2 + W'\\beta_2 + \\varepsilon, \\quad E \\varepsilon (D,W', DW')' = 0,\n",
    "$$\n",
    "where $W$'s are demeaned (apart from the intercept), so that $\\alpha_1$ is the ATE, if the RCT assumptions hold rigorously."
   ]
  },
  {
   "cell_type": "markdown",
   "id": "d2bdf5b1",
   "metadata": {},
   "source": [
    "Under RCT, the projection coefficient $\\beta_1$ has\n",
    "the interpretation of the causal effect of the treatment on\n",
    "the average outcome. We thus refer to $\\beta_1$ as the average\n",
    "treatment effect (ATE). Note that the covariates, here are\n",
    "independent of the treatment $D$, so we can identify $\\beta_1$ by\n",
    "just linear regression of $Y$ on $D$, without adding covariates.\n",
    "However we do add covariates in an effort to improve the\n",
    "precision of our estimates of the average treatment effect."
   ]
  },
  {
   "cell_type": "markdown",
   "id": "a6795035",
   "metadata": {},
   "source": [
    "- Run all specifications:\n",
    "    * classical 2-sample approach, no adjustment (CL)\n",
    "    * classical linear regression adjustment (CRA)\n",
    "    * interactive regression adjustment (IRA)\n",
    "    * interactive regression adjustment (IRA) using Lasso"
   ]
  },
  {
   "cell_type": "markdown",
   "id": "fef5ea39",
   "metadata": {},
   "source": [
    "# Carry out covariate balance check"
   ]
  },
  {
   "cell_type": "markdown",
   "id": "0f0956a5",
   "metadata": {},
   "source": [
    "This is done using \"lm_robust\" command which unlike \"lm\" in the base command automatically does the correct Eicher-Huber-White standard errors, instead othe classical non-robus formula based on the homoscdedasticity command."
   ]
  },
  {
   "cell_type": "code",
   "execution_count": 223,
   "id": "e390b004",
   "metadata": {},
   "outputs": [],
   "source": [
    "import statsmodels.api as sm\n",
    "import statsmodels.formula.api as smf\n",
    "import patsy\n",
    "import numpy as np"
   ]
  },
  {
   "cell_type": "code",
   "execution_count": 224,
   "id": "52ffd394",
   "metadata": {},
   "outputs": [],
   "source": [
    "## Regress  on all covariates"
   ]
  },
  {
   "cell_type": "code",
   "execution_count": 225,
   "id": "dd384bbc",
   "metadata": {},
   "outputs": [],
   "source": [
    "y = Penn[['T2']].reset_index( drop = True )"
   ]
  },
  {
   "cell_type": "code",
   "execution_count": 226,
   "id": "27355a81",
   "metadata": {},
   "outputs": [],
   "source": [
    "# Get data from R\n",
    "result = pyreadr.read_r('../../data/m_reg.RData')\n",
    "X_vars = result['X1']"
   ]
  },
  {
   "cell_type": "code",
   "execution_count": 227,
   "id": "1b5677c8",
   "metadata": {},
   "outputs": [
    {
     "name": "stdout",
     "output_type": "stream",
     "text": [
      "                            OLS Regression Results                            \n",
      "==============================================================================\n",
      "Dep. Variable:                     T2   R-squared:                       0.019\n",
      "Model:                            OLS   Adj. R-squared:                  0.000\n",
      "Method:                 Least Squares   F-statistic:                     4.748\n",
      "Date:                Fri, 29 Apr 2022   Prob (F-statistic):           5.79e-51\n",
      "Time:                        01:19:30   Log-Likelihood:                -4065.8\n",
      "No. Observations:                5782   AIC:                             8352.\n",
      "Df Residuals:                    5672   BIC:                             9084.\n",
      "Df Model:                         109                                         \n",
      "Covariance Type:                  HC1                                         \n",
      "=======================================================================================\n",
      "                          coef    std err          t      P>|t|      [0.025      0.975]\n",
      "---------------------------------------------------------------------------------------\n",
      "Intercept               0.5090      0.032     15.741      0.000       0.446       0.572\n",
      "C(dep)[T.1]             0.0747      0.057      1.307      0.191      -0.037       0.187\n",
      "C(dep)[T.2]             0.0381      0.049      0.773      0.440      -0.058       0.135\n",
      "female                 -0.0182      0.036     -0.511      0.609      -0.088       0.052\n",
      "female:C(dep)[T.1]     -0.0185      0.045     -0.413      0.680      -0.106       0.069\n",
      "female:C(dep)[T.2]      0.0158      0.040      0.396      0.692      -0.062       0.094\n",
      "black                  -0.0108      0.068     -0.159      0.873      -0.144       0.122\n",
      "black:C(dep)[T.1]      -0.0020      0.067     -0.031      0.976      -0.132       0.128\n",
      "black:C(dep)[T.2]      -0.0110      0.063     -0.175      0.861      -0.134       0.112\n",
      "othrace                -0.1295      0.250     -0.519      0.604      -0.619       0.360\n",
      "othrace:C(dep)[T.1]     0.6118      0.232      2.636      0.008       0.157       1.067\n",
      "othrace:C(dep)[T.2]    -0.1486      0.269     -0.552      0.581      -0.676       0.379\n",
      "q2                     -0.0788      0.045     -1.767      0.077      -0.166       0.009\n",
      "C(dep)[T.1]:q2          0.0431      0.062      0.696      0.486      -0.078       0.164\n",
      "C(dep)[T.2]:q2          0.0090      0.053      0.170      0.865      -0.095       0.113\n",
      "q3                     -0.1042      0.042     -2.501      0.012      -0.186      -0.023\n",
      "C(dep)[T.1]:q3         -0.0303      0.058     -0.519      0.604      -0.145       0.084\n",
      "C(dep)[T.2]:q3          0.0386      0.052      0.737      0.461      -0.064       0.141\n",
      "q4                     -0.0646      0.042     -1.522      0.128      -0.148       0.019\n",
      "C(dep)[T.1]:q4         -0.0482      0.058     -0.829      0.407      -0.162       0.066\n",
      "C(dep)[T.2]:q4         -0.0112      0.054     -0.208      0.835      -0.117       0.094\n",
      "q5                     -0.1248      0.061     -2.031      0.042      -0.245      -0.004\n",
      "C(dep)[T.1]:q5         -0.0347      0.089     -0.388      0.698      -0.210       0.141\n",
      "C(dep)[T.2]:q5          0.0339      0.076      0.449      0.653      -0.114       0.182\n",
      "q6                     -0.0296      0.082     -0.360      0.719      -0.191       0.132\n",
      "C(dep)[T.1]:q6         -0.0186      0.069     -0.270      0.787      -0.154       0.117\n",
      "C(dep)[T.2]:q6          0.0447      0.060      0.745      0.456      -0.073       0.162\n",
      "agelt35                -0.0553      0.059     -0.930      0.353      -0.172       0.061\n",
      "C(dep)[T.1]:agelt35    -0.0869      0.061     -1.436      0.151      -0.206       0.032\n",
      "C(dep)[T.2]:agelt35    -0.1097      0.154     -0.713      0.476      -0.411       0.192\n",
      "agegt54                -0.0555      0.047     -1.173      0.241      -0.148       0.037\n",
      "C(dep)[T.1]:agegt54    -0.0006      0.058     -0.011      0.991      -0.115       0.114\n",
      "C(dep)[T.2]:agegt54    -0.1089      0.051     -2.127      0.033      -0.209      -0.009\n",
      "durable                -0.1152      0.060     -1.914      0.056      -0.233       0.003\n",
      "C(dep)[T.1]:durable    -0.0628      0.071     -0.880      0.379      -0.203       0.077\n",
      "C(dep)[T.2]:durable    -0.1011      0.059     -1.699      0.089      -0.218       0.016\n",
      "lusd                   -0.0655      0.042     -1.543      0.123      -0.149       0.018\n",
      "C(dep)[T.1]:lusd       -0.0247      0.055     -0.446      0.656      -0.133       0.084\n",
      "C(dep)[T.2]:lusd       -0.0528      0.050     -1.055      0.292      -0.151       0.045\n",
      "husd                   -0.0608      0.037     -1.625      0.104      -0.134       0.013\n",
      "C(dep)[T.1]:husd       -0.0272      0.049     -0.554      0.579      -0.124       0.069\n",
      "C(dep)[T.2]:husd       -0.0549      0.043     -1.267      0.205      -0.140       0.030\n",
      "female:black            0.0069      0.044      0.155      0.877      -0.080       0.094\n",
      "female:othrace          0.0383      0.174      0.219      0.826      -0.304       0.380\n",
      "female:q2              -0.0406      0.041     -1.000      0.317      -0.120       0.039\n",
      "female:q3               0.0383      0.039      0.989      0.323      -0.038       0.114\n",
      "female:q4               0.0362      0.039      0.932      0.351      -0.040       0.112\n",
      "female:q5               0.1090      0.061      1.791      0.073      -0.010       0.228\n",
      "female:q6              -0.0133      0.048     -0.277      0.782      -0.108       0.081\n",
      "female:agelt35         -0.0228      0.047     -0.480      0.631      -0.116       0.070\n",
      "female:agegt54         -0.0634      0.044     -1.446      0.148      -0.149       0.023\n",
      "female:durable         -0.0285      0.043     -0.657      0.511      -0.114       0.057\n",
      "female:lusd             0.0128      0.038      0.338      0.736      -0.062       0.087\n",
      "female:husd            -0.0166      0.032     -0.516      0.606      -0.080       0.047\n",
      "black:othrace       -3.363e-16   2.33e-16     -1.445      0.148   -7.92e-16     1.2e-16\n",
      "black:q2                0.1424      0.064      2.230      0.026       0.017       0.268\n",
      "black:q3                0.0355      0.058      0.607      0.544      -0.079       0.150\n",
      "black:q4               -0.0941      0.060     -1.564      0.118      -0.212       0.024\n",
      "black:q5                0.0064      0.089      0.072      0.942      -0.169       0.181\n",
      "black:q6               -0.0286      0.099     -0.289      0.773      -0.223       0.165\n",
      "black:agelt35          -0.0863      0.080     -1.079      0.281      -0.243       0.071\n",
      "black:agegt54          -0.0247      0.070     -0.353      0.724      -0.162       0.113\n",
      "black:durable          -0.0363      0.077     -0.471      0.637      -0.187       0.115\n",
      "black:lusd              0.1510      0.186      0.811      0.417      -0.214       0.516\n",
      "black:husd             -0.0033      0.054     -0.060      0.952      -0.109       0.103\n",
      "othrace:q2             -0.5813      0.367     -1.585      0.113      -1.300       0.138\n",
      "othrace:q3              0.1171      0.217      0.540      0.589      -0.308       0.542\n",
      "othrace:q4             -0.0792      0.220     -0.361      0.718      -0.510       0.352\n",
      "othrace:q5             -0.1960      0.195     -1.007      0.314      -0.578       0.186\n",
      "othrace:q6          -3.739e-16   1.65e-16     -2.263      0.024   -6.98e-16      -5e-17\n",
      "othrace:agelt35        -0.1305      0.379     -0.344      0.731      -0.873       0.612\n",
      "othrace:agegt54         0.0312      0.215      0.145      0.885      -0.390       0.453\n",
      "othrace:durable         0.4016      0.226      1.775      0.076      -0.042       0.845\n",
      "othrace:lusd           -0.8868      0.347     -2.554      0.011      -1.568      -0.206\n",
      "othrace:husd           -0.0610      0.183     -0.333      0.739      -0.419       0.298\n",
      "q2:q3                6.489e-17   2.17e-16      0.299      0.765    -3.6e-16     4.9e-16\n",
      "q2:q4                 7.23e-17   4.58e-16      0.158      0.875   -8.26e-16     9.7e-16\n",
      "q2:q5               -3.692e-16   2.45e-16     -1.508      0.132   -8.49e-16    1.11e-16\n",
      "q2:q6                  -0.0154      0.078     -0.198      0.843      -0.168       0.137\n",
      "q2:agelt35              0.1697      0.064      2.637      0.008       0.044       0.296\n",
      "q2:agegt54              0.0474      0.056      0.847      0.397      -0.062       0.157\n",
      "q2:durable              0.1072      0.063      1.697      0.090      -0.017       0.231\n",
      "q2:lusd                 0.0503      0.053      0.943      0.346      -0.054       0.155\n",
      "q2:husd                -0.0097      0.046     -0.208      0.835      -0.101       0.081\n",
      "q3:q4                1.568e-16   1.08e-16      1.455      0.146   -5.44e-17    3.68e-16\n",
      "q3:q5               -2.982e-16   2.63e-16     -1.133      0.257   -8.14e-16    2.18e-16\n",
      "q3:q6                  -0.1296      0.079     -1.639      0.101      -0.285       0.025\n",
      "q3:agelt35              0.1499      0.060      2.483      0.013       0.032       0.268\n",
      "q3:agegt54              0.1074      0.053      2.010      0.045       0.003       0.212\n",
      "q3:durable              0.1372      0.061      2.236      0.025       0.017       0.257\n",
      "q3:lusd                 0.0479      0.051      0.931      0.352      -0.053       0.149\n",
      "q3:husd                 0.0454      0.044      1.026      0.305      -0.041       0.132\n",
      "q4:q5                8.984e-17   1.01e-16      0.893      0.372   -1.07e-16    2.87e-16\n",
      "q4:q6                   0.0342      0.080      0.428      0.668      -0.122       0.191\n",
      "q4:agelt35              0.0759      0.060      1.276      0.202      -0.041       0.193\n",
      "q4:agegt54              0.0284      0.055      0.518      0.605      -0.079       0.136\n",
      "q4:durable              0.0608      0.060      1.008      0.314      -0.058       0.179\n",
      "q4:lusd                 0.0334      0.051      0.651      0.515      -0.067       0.134\n",
      "q4:husd                 0.0611      0.045      1.352      0.177      -0.028       0.150\n",
      "q5:q6                  -0.0330      0.129     -0.255      0.799      -0.287       0.221\n",
      "q5:agelt35              0.0551      0.091      0.606      0.544      -0.123       0.233\n",
      "q5:agegt54              0.1332      0.076      1.744      0.081      -0.017       0.283\n",
      "q5:durable              0.0982      0.100      0.987      0.324      -0.097       0.293\n",
      "q5:lusd                -0.0596      0.080     -0.745      0.456      -0.216       0.097\n",
      "q5:husd                -0.0066      0.067     -0.098      0.922      -0.139       0.125\n",
      "q6:agelt35             -0.0164      0.071     -0.231      0.818      -0.156       0.123\n",
      "q6:agegt54              0.0623      0.067      0.925      0.355      -0.070       0.194\n",
      "q6:durable              0.0175      0.072      0.241      0.809      -0.124       0.159\n",
      "q6:lusd                 0.0419      0.054      0.779      0.436      -0.064       0.147\n",
      "q6:husd                 0.0823      0.052      1.584      0.113      -0.020       0.184\n",
      "agelt35:agegt54        -0.0283      0.062     -0.457      0.648      -0.150       0.093\n",
      "agelt35:durable         0.0207      0.063      0.328      0.743      -0.103       0.145\n",
      "agelt35:lusd           -0.0533      0.056     -0.948      0.343      -0.164       0.057\n",
      "agelt35:husd           -0.0164      0.053     -0.312      0.755      -0.120       0.087\n",
      "agegt54:durable              0          0        nan        nan           0           0\n",
      "agegt54:lusd            0.0501      0.052      0.959      0.337      -0.052       0.152\n",
      "agegt54:husd            0.0508      0.043      1.181      0.238      -0.034       0.135\n",
      "durable:lusd            0.1570      0.056      2.822      0.005       0.048       0.266\n",
      "durable:husd            0.1278      0.053      2.414      0.016       0.024       0.232\n",
      "lusd:husd                    0          0        nan        nan           0           0\n",
      "==============================================================================\n",
      "Omnibus:                    22532.679   Durbin-Watson:                   2.015\n",
      "Prob(Omnibus):                  0.000   Jarque-Bera (JB):              902.476\n",
      "Skew:                           0.315   Prob(JB):                    1.07e-196\n",
      "Kurtosis:                       1.170   Cond. No.                     1.40e+16\n",
      "==============================================================================\n",
      "\n",
      "Notes:\n",
      "[1] Standard Errors are heteroscedasticity robust (HC1)\n",
      "[2] The smallest eigenvalue is 5.77e-29. This might indicate that there are\n",
      "strong multicollinearity problems or that the design matrix is singular.\n",
      "Number of regressors in the basic model: 120 \n",
      "\n"
     ]
    },
    {
     "name": "stderr",
     "output_type": "stream",
     "text": [
      "C:\\Users\\acoap\\Estadistica\\lib\\site-packages\\statsmodels\\base\\model.py:1832: ValueWarning: covariance of constraints does not have full rank. The number of constraints is 119, but rank is 108\n",
      "  warnings.warn('covariance of constraints does not have full '\n"
     ]
    }
   ],
   "source": [
    "model = \"T2~(female+black+othrace+C(dep)+q2+q3+q4+q5+q6+agelt35+agegt54+durable+lusd+husd)**2\"\n",
    "model_results = smf.ols( model, data=Penn ).fit().get_robustcov_results(cov_type = \"HC1\")\n",
    "\n",
    "print(model_results.summary())\n",
    "print( \"Number of regressors in the basic model:\",len(model_results.params), '\\n')"
   ]
  },
  {
   "cell_type": "markdown",
   "id": "3cb1a8c1",
   "metadata": {},
   "source": [
    "We see that that even though this is a randomized experiment, balance conditions are failed."
   ]
  },
  {
   "cell_type": "markdown",
   "id": "a6122a60",
   "metadata": {},
   "source": [
    "# Model Specification"
   ]
  },
  {
   "cell_type": "markdown",
   "id": "cc051b43",
   "metadata": {},
   "source": [
    "## 1. classical 2-sample approach, no adjustment (CL)"
   ]
  },
  {
   "cell_type": "code",
   "execution_count": 238,
   "id": "ef8a7d37",
   "metadata": {},
   "outputs": [
    {
     "name": "stdout",
     "output_type": "stream",
     "text": [
      "                            OLS Regression Results                            \n",
      "==============================================================================\n",
      "Dep. Variable:           log_inuidur1   R-squared:                       0.001\n",
      "Model:                            OLS   Adj. R-squared:                  0.001\n",
      "Method:                 Least Squares   F-statistic:                     5.879\n",
      "Date:                Fri, 29 Apr 2022   Prob (F-statistic):             0.0154\n",
      "Time:                        01:27:09   Log-Likelihood:                -9344.7\n",
      "No. Observations:                5782   AIC:                         1.869e+04\n",
      "Df Residuals:                    5780   BIC:                         1.871e+04\n",
      "Df Model:                           1                                         \n",
      "Covariance Type:                  HC1                                         \n",
      "==============================================================================\n",
      "                 coef    std err          t      P>|t|      [0.025      0.975]\n",
      "------------------------------------------------------------------------------\n",
      "Intercept      2.0568      0.021     98.158      0.000       2.016       2.098\n",
      "T2            -0.0788      0.033     -2.425      0.015      -0.143      -0.015\n",
      "==============================================================================\n",
      "Omnibus:                     3220.110   Durbin-Watson:                   1.978\n",
      "Prob(Omnibus):                  0.000   Jarque-Bera (JB):              593.120\n",
      "Skew:                          -0.541   Prob(JB):                    1.61e-129\n",
      "Kurtosis:                       1.865   Cond. No.                         2.47\n",
      "==============================================================================\n",
      "\n",
      "Notes:\n",
      "[1] Standard Errors are heteroscedasticity robust (HC1)\n"
     ]
    }
   ],
   "source": [
    "# model specifications\n",
    "# take log of inuidur1\n",
    "Penn[\"log_inuidur1\"] = np.log( Penn[\"inuidur1\"] ) \n",
    "log_inuidur1 = pd.DataFrame(np.log( Penn[\"inuidur1\"] ) ).reset_index( drop = True )\n",
    "\n",
    "# no adjustment (2-sample approach)\n",
    "formula_cl = 'log_inuidur1 ~ T2'\n",
    "\n",
    "# adding controls\n",
    "# Omitted dummies: q1, nondurable, muld\n",
    "\n",
    "ols_cl = smf.ols( formula = formula_cl, data = Penn ).fit().get_robustcov_results(cov_type = \"HC1\")\n",
    "\n",
    "\n",
    "\n",
    "\n",
    "# Results \n",
    "print(ols_cl.summary())"
   ]
  },
  {
   "cell_type": "markdown",
   "id": "3286f5ed",
   "metadata": {},
   "source": [
    "## 2. classical linear regression adjustment (CRA)"
   ]
  },
  {
   "cell_type": "code",
   "execution_count": 267,
   "id": "b2e1364b",
   "metadata": {},
   "outputs": [
    {
     "ename": "TypeError",
     "evalue": "cannot perform reduce with flexible type",
     "output_type": "error",
     "traceback": [
      "\u001b[1;31m---------------------------------------------------------------------------\u001b[0m",
      "\u001b[1;31mTypeError\u001b[0m                                 Traceback (most recent call last)",
      "\u001b[1;32m~\\AppData\\Local\\Temp/ipykernel_15548/338210542.py\u001b[0m in \u001b[0;36m<module>\u001b[1;34m\u001b[0m\n\u001b[0;32m      6\u001b[0m \u001b[0mformula_cra\u001b[0m \u001b[1;33m=\u001b[0m \u001b[1;34m'log_inuidur1 ~ T2 + (female+black+othrace+dep+q2+q3+q4+q5+q6+agelt35+agegt54+durable+lusd+husd)**2'\u001b[0m\u001b[1;33m\u001b[0m\u001b[1;33m\u001b[0m\u001b[0m\n\u001b[0;32m      7\u001b[0m \u001b[1;33m\u001b[0m\u001b[0m\n\u001b[1;32m----> 8\u001b[1;33m \u001b[0mols_cra\u001b[0m \u001b[1;33m=\u001b[0m \u001b[0msm\u001b[0m\u001b[1;33m.\u001b[0m\u001b[0mOLS\u001b[0m\u001b[1;33m(\u001b[0m \u001b[0mlist\u001b[0m\u001b[1;33m(\u001b[0m\u001b[0mlog_inuidur1\u001b[0m\u001b[1;33m)\u001b[0m\u001b[1;33m,\u001b[0m \u001b[0mlist\u001b[0m\u001b[1;33m(\u001b[0m\u001b[0mx_vars_cra\u001b[0m\u001b[1;33m)\u001b[0m \u001b[1;33m)\u001b[0m\u001b[1;33m.\u001b[0m\u001b[0mfit\u001b[0m\u001b[1;33m(\u001b[0m\u001b[1;33m)\u001b[0m\u001b[1;33m.\u001b[0m\u001b[0mget_robustcov_results\u001b[0m\u001b[1;33m(\u001b[0m\u001b[0mcov_type\u001b[0m \u001b[1;33m=\u001b[0m \u001b[1;34m\"HC1\"\u001b[0m\u001b[1;33m)\u001b[0m\u001b[1;33m\u001b[0m\u001b[1;33m\u001b[0m\u001b[0m\n\u001b[0m\u001b[0;32m      9\u001b[0m \u001b[0mprint\u001b[0m\u001b[1;33m(\u001b[0m\u001b[0mols_cra\u001b[0m\u001b[1;33m.\u001b[0m\u001b[0msummary\u001b[0m\u001b[1;33m(\u001b[0m\u001b[1;33m)\u001b[0m\u001b[1;33m)\u001b[0m\u001b[1;33m\u001b[0m\u001b[1;33m\u001b[0m\u001b[0m\n",
      "\u001b[1;32m~\\Estadistica\\lib\\site-packages\\statsmodels\\regression\\linear_model.py\u001b[0m in \u001b[0;36m__init__\u001b[1;34m(self, endog, exog, missing, hasconst, **kwargs)\u001b[0m\n\u001b[0;32m    870\u001b[0m     def __init__(self, endog, exog=None, missing='none', hasconst=None,\n\u001b[0;32m    871\u001b[0m                  **kwargs):\n\u001b[1;32m--> 872\u001b[1;33m         super(OLS, self).__init__(endog, exog, missing=missing,\n\u001b[0m\u001b[0;32m    873\u001b[0m                                   hasconst=hasconst, **kwargs)\n\u001b[0;32m    874\u001b[0m         \u001b[1;32mif\u001b[0m \u001b[1;34m\"weights\"\u001b[0m \u001b[1;32min\u001b[0m \u001b[0mself\u001b[0m\u001b[1;33m.\u001b[0m\u001b[0m_init_keys\u001b[0m\u001b[1;33m:\u001b[0m\u001b[1;33m\u001b[0m\u001b[1;33m\u001b[0m\u001b[0m\n",
      "\u001b[1;32m~\\Estadistica\\lib\\site-packages\\statsmodels\\regression\\linear_model.py\u001b[0m in \u001b[0;36m__init__\u001b[1;34m(self, endog, exog, weights, missing, hasconst, **kwargs)\u001b[0m\n\u001b[0;32m    701\u001b[0m         \u001b[1;32melse\u001b[0m\u001b[1;33m:\u001b[0m\u001b[1;33m\u001b[0m\u001b[1;33m\u001b[0m\u001b[0m\n\u001b[0;32m    702\u001b[0m             \u001b[0mweights\u001b[0m \u001b[1;33m=\u001b[0m \u001b[0mweights\u001b[0m\u001b[1;33m.\u001b[0m\u001b[0msqueeze\u001b[0m\u001b[1;33m(\u001b[0m\u001b[1;33m)\u001b[0m\u001b[1;33m\u001b[0m\u001b[1;33m\u001b[0m\u001b[0m\n\u001b[1;32m--> 703\u001b[1;33m         super(WLS, self).__init__(endog, exog, missing=missing,\n\u001b[0m\u001b[0;32m    704\u001b[0m                                   weights=weights, hasconst=hasconst, **kwargs)\n\u001b[0;32m    705\u001b[0m         \u001b[0mnobs\u001b[0m \u001b[1;33m=\u001b[0m \u001b[0mself\u001b[0m\u001b[1;33m.\u001b[0m\u001b[0mexog\u001b[0m\u001b[1;33m.\u001b[0m\u001b[0mshape\u001b[0m\u001b[1;33m[\u001b[0m\u001b[1;36m0\u001b[0m\u001b[1;33m]\u001b[0m\u001b[1;33m\u001b[0m\u001b[1;33m\u001b[0m\u001b[0m\n",
      "\u001b[1;32m~\\Estadistica\\lib\\site-packages\\statsmodels\\regression\\linear_model.py\u001b[0m in \u001b[0;36m__init__\u001b[1;34m(self, endog, exog, **kwargs)\u001b[0m\n\u001b[0;32m    188\u001b[0m     \"\"\"\n\u001b[0;32m    189\u001b[0m     \u001b[1;32mdef\u001b[0m \u001b[0m__init__\u001b[0m\u001b[1;33m(\u001b[0m\u001b[0mself\u001b[0m\u001b[1;33m,\u001b[0m \u001b[0mendog\u001b[0m\u001b[1;33m,\u001b[0m \u001b[0mexog\u001b[0m\u001b[1;33m,\u001b[0m \u001b[1;33m**\u001b[0m\u001b[0mkwargs\u001b[0m\u001b[1;33m)\u001b[0m\u001b[1;33m:\u001b[0m\u001b[1;33m\u001b[0m\u001b[1;33m\u001b[0m\u001b[0m\n\u001b[1;32m--> 190\u001b[1;33m         \u001b[0msuper\u001b[0m\u001b[1;33m(\u001b[0m\u001b[0mRegressionModel\u001b[0m\u001b[1;33m,\u001b[0m \u001b[0mself\u001b[0m\u001b[1;33m)\u001b[0m\u001b[1;33m.\u001b[0m\u001b[0m__init__\u001b[0m\u001b[1;33m(\u001b[0m\u001b[0mendog\u001b[0m\u001b[1;33m,\u001b[0m \u001b[0mexog\u001b[0m\u001b[1;33m,\u001b[0m \u001b[1;33m**\u001b[0m\u001b[0mkwargs\u001b[0m\u001b[1;33m)\u001b[0m\u001b[1;33m\u001b[0m\u001b[1;33m\u001b[0m\u001b[0m\n\u001b[0m\u001b[0;32m    191\u001b[0m         \u001b[0mself\u001b[0m\u001b[1;33m.\u001b[0m\u001b[0m_data_attr\u001b[0m\u001b[1;33m.\u001b[0m\u001b[0mextend\u001b[0m\u001b[1;33m(\u001b[0m\u001b[1;33m[\u001b[0m\u001b[1;34m'pinv_wexog'\u001b[0m\u001b[1;33m,\u001b[0m \u001b[1;34m'weights'\u001b[0m\u001b[1;33m]\u001b[0m\u001b[1;33m)\u001b[0m\u001b[1;33m\u001b[0m\u001b[1;33m\u001b[0m\u001b[0m\n\u001b[0;32m    192\u001b[0m \u001b[1;33m\u001b[0m\u001b[0m\n",
      "\u001b[1;32m~\\Estadistica\\lib\\site-packages\\statsmodels\\base\\model.py\u001b[0m in \u001b[0;36m__init__\u001b[1;34m(self, endog, exog, **kwargs)\u001b[0m\n\u001b[0;32m    235\u001b[0m \u001b[1;33m\u001b[0m\u001b[0m\n\u001b[0;32m    236\u001b[0m     \u001b[1;32mdef\u001b[0m \u001b[0m__init__\u001b[0m\u001b[1;33m(\u001b[0m\u001b[0mself\u001b[0m\u001b[1;33m,\u001b[0m \u001b[0mendog\u001b[0m\u001b[1;33m,\u001b[0m \u001b[0mexog\u001b[0m\u001b[1;33m=\u001b[0m\u001b[1;32mNone\u001b[0m\u001b[1;33m,\u001b[0m \u001b[1;33m**\u001b[0m\u001b[0mkwargs\u001b[0m\u001b[1;33m)\u001b[0m\u001b[1;33m:\u001b[0m\u001b[1;33m\u001b[0m\u001b[1;33m\u001b[0m\u001b[0m\n\u001b[1;32m--> 237\u001b[1;33m         \u001b[0msuper\u001b[0m\u001b[1;33m(\u001b[0m\u001b[0mLikelihoodModel\u001b[0m\u001b[1;33m,\u001b[0m \u001b[0mself\u001b[0m\u001b[1;33m)\u001b[0m\u001b[1;33m.\u001b[0m\u001b[0m__init__\u001b[0m\u001b[1;33m(\u001b[0m\u001b[0mendog\u001b[0m\u001b[1;33m,\u001b[0m \u001b[0mexog\u001b[0m\u001b[1;33m,\u001b[0m \u001b[1;33m**\u001b[0m\u001b[0mkwargs\u001b[0m\u001b[1;33m)\u001b[0m\u001b[1;33m\u001b[0m\u001b[1;33m\u001b[0m\u001b[0m\n\u001b[0m\u001b[0;32m    238\u001b[0m         \u001b[0mself\u001b[0m\u001b[1;33m.\u001b[0m\u001b[0minitialize\u001b[0m\u001b[1;33m(\u001b[0m\u001b[1;33m)\u001b[0m\u001b[1;33m\u001b[0m\u001b[1;33m\u001b[0m\u001b[0m\n\u001b[0;32m    239\u001b[0m \u001b[1;33m\u001b[0m\u001b[0m\n",
      "\u001b[1;32m~\\Estadistica\\lib\\site-packages\\statsmodels\\base\\model.py\u001b[0m in \u001b[0;36m__init__\u001b[1;34m(self, endog, exog, **kwargs)\u001b[0m\n\u001b[0;32m     75\u001b[0m         \u001b[0mmissing\u001b[0m \u001b[1;33m=\u001b[0m \u001b[0mkwargs\u001b[0m\u001b[1;33m.\u001b[0m\u001b[0mpop\u001b[0m\u001b[1;33m(\u001b[0m\u001b[1;34m'missing'\u001b[0m\u001b[1;33m,\u001b[0m \u001b[1;34m'none'\u001b[0m\u001b[1;33m)\u001b[0m\u001b[1;33m\u001b[0m\u001b[1;33m\u001b[0m\u001b[0m\n\u001b[0;32m     76\u001b[0m         \u001b[0mhasconst\u001b[0m \u001b[1;33m=\u001b[0m \u001b[0mkwargs\u001b[0m\u001b[1;33m.\u001b[0m\u001b[0mpop\u001b[0m\u001b[1;33m(\u001b[0m\u001b[1;34m'hasconst'\u001b[0m\u001b[1;33m,\u001b[0m \u001b[1;32mNone\u001b[0m\u001b[1;33m)\u001b[0m\u001b[1;33m\u001b[0m\u001b[1;33m\u001b[0m\u001b[0m\n\u001b[1;32m---> 77\u001b[1;33m         self.data = self._handle_data(endog, exog, missing, hasconst,\n\u001b[0m\u001b[0;32m     78\u001b[0m                                       **kwargs)\n\u001b[0;32m     79\u001b[0m         \u001b[0mself\u001b[0m\u001b[1;33m.\u001b[0m\u001b[0mk_constant\u001b[0m \u001b[1;33m=\u001b[0m \u001b[0mself\u001b[0m\u001b[1;33m.\u001b[0m\u001b[0mdata\u001b[0m\u001b[1;33m.\u001b[0m\u001b[0mk_constant\u001b[0m\u001b[1;33m\u001b[0m\u001b[1;33m\u001b[0m\u001b[0m\n",
      "\u001b[1;32m~\\Estadistica\\lib\\site-packages\\statsmodels\\base\\model.py\u001b[0m in \u001b[0;36m_handle_data\u001b[1;34m(self, endog, exog, missing, hasconst, **kwargs)\u001b[0m\n\u001b[0;32m     99\u001b[0m \u001b[1;33m\u001b[0m\u001b[0m\n\u001b[0;32m    100\u001b[0m     \u001b[1;32mdef\u001b[0m \u001b[0m_handle_data\u001b[0m\u001b[1;33m(\u001b[0m\u001b[0mself\u001b[0m\u001b[1;33m,\u001b[0m \u001b[0mendog\u001b[0m\u001b[1;33m,\u001b[0m \u001b[0mexog\u001b[0m\u001b[1;33m,\u001b[0m \u001b[0mmissing\u001b[0m\u001b[1;33m,\u001b[0m \u001b[0mhasconst\u001b[0m\u001b[1;33m,\u001b[0m \u001b[1;33m**\u001b[0m\u001b[0mkwargs\u001b[0m\u001b[1;33m)\u001b[0m\u001b[1;33m:\u001b[0m\u001b[1;33m\u001b[0m\u001b[1;33m\u001b[0m\u001b[0m\n\u001b[1;32m--> 101\u001b[1;33m         \u001b[0mdata\u001b[0m \u001b[1;33m=\u001b[0m \u001b[0mhandle_data\u001b[0m\u001b[1;33m(\u001b[0m\u001b[0mendog\u001b[0m\u001b[1;33m,\u001b[0m \u001b[0mexog\u001b[0m\u001b[1;33m,\u001b[0m \u001b[0mmissing\u001b[0m\u001b[1;33m,\u001b[0m \u001b[0mhasconst\u001b[0m\u001b[1;33m,\u001b[0m \u001b[1;33m**\u001b[0m\u001b[0mkwargs\u001b[0m\u001b[1;33m)\u001b[0m\u001b[1;33m\u001b[0m\u001b[1;33m\u001b[0m\u001b[0m\n\u001b[0m\u001b[0;32m    102\u001b[0m         \u001b[1;31m# kwargs arrays could have changed, easier to just attach here\u001b[0m\u001b[1;33m\u001b[0m\u001b[1;33m\u001b[0m\u001b[0m\n\u001b[0;32m    103\u001b[0m         \u001b[1;32mfor\u001b[0m \u001b[0mkey\u001b[0m \u001b[1;32min\u001b[0m \u001b[0mkwargs\u001b[0m\u001b[1;33m:\u001b[0m\u001b[1;33m\u001b[0m\u001b[1;33m\u001b[0m\u001b[0m\n",
      "\u001b[1;32m~\\Estadistica\\lib\\site-packages\\statsmodels\\base\\data.py\u001b[0m in \u001b[0;36mhandle_data\u001b[1;34m(endog, exog, missing, hasconst, **kwargs)\u001b[0m\n\u001b[0;32m    670\u001b[0m \u001b[1;33m\u001b[0m\u001b[0m\n\u001b[0;32m    671\u001b[0m     \u001b[0mklass\u001b[0m \u001b[1;33m=\u001b[0m \u001b[0mhandle_data_class_factory\u001b[0m\u001b[1;33m(\u001b[0m\u001b[0mendog\u001b[0m\u001b[1;33m,\u001b[0m \u001b[0mexog\u001b[0m\u001b[1;33m)\u001b[0m\u001b[1;33m\u001b[0m\u001b[1;33m\u001b[0m\u001b[0m\n\u001b[1;32m--> 672\u001b[1;33m     return klass(endog, exog=exog, missing=missing, hasconst=hasconst,\n\u001b[0m\u001b[0;32m    673\u001b[0m                  **kwargs)\n",
      "\u001b[1;32m~\\Estadistica\\lib\\site-packages\\statsmodels\\base\\data.py\u001b[0m in \u001b[0;36m__init__\u001b[1;34m(self, endog, exog, missing, hasconst, **kwargs)\u001b[0m\n\u001b[0;32m     85\u001b[0m         \u001b[0mself\u001b[0m\u001b[1;33m.\u001b[0m\u001b[0mconst_idx\u001b[0m \u001b[1;33m=\u001b[0m \u001b[1;32mNone\u001b[0m\u001b[1;33m\u001b[0m\u001b[1;33m\u001b[0m\u001b[0m\n\u001b[0;32m     86\u001b[0m         \u001b[0mself\u001b[0m\u001b[1;33m.\u001b[0m\u001b[0mk_constant\u001b[0m \u001b[1;33m=\u001b[0m \u001b[1;36m0\u001b[0m\u001b[1;33m\u001b[0m\u001b[1;33m\u001b[0m\u001b[0m\n\u001b[1;32m---> 87\u001b[1;33m         \u001b[0mself\u001b[0m\u001b[1;33m.\u001b[0m\u001b[0m_handle_constant\u001b[0m\u001b[1;33m(\u001b[0m\u001b[0mhasconst\u001b[0m\u001b[1;33m)\u001b[0m\u001b[1;33m\u001b[0m\u001b[1;33m\u001b[0m\u001b[0m\n\u001b[0m\u001b[0;32m     88\u001b[0m         \u001b[0mself\u001b[0m\u001b[1;33m.\u001b[0m\u001b[0m_check_integrity\u001b[0m\u001b[1;33m(\u001b[0m\u001b[1;33m)\u001b[0m\u001b[1;33m\u001b[0m\u001b[1;33m\u001b[0m\u001b[0m\n\u001b[0;32m     89\u001b[0m         \u001b[0mself\u001b[0m\u001b[1;33m.\u001b[0m\u001b[0m_cache\u001b[0m \u001b[1;33m=\u001b[0m \u001b[1;33m{\u001b[0m\u001b[1;33m}\u001b[0m\u001b[1;33m\u001b[0m\u001b[1;33m\u001b[0m\u001b[0m\n",
      "\u001b[1;32m~\\Estadistica\\lib\\site-packages\\statsmodels\\base\\data.py\u001b[0m in \u001b[0;36m_handle_constant\u001b[1;34m(self, hasconst)\u001b[0m\n\u001b[0;32m    129\u001b[0m             \u001b[1;31m# detect where the constant is\u001b[0m\u001b[1;33m\u001b[0m\u001b[1;33m\u001b[0m\u001b[0m\n\u001b[0;32m    130\u001b[0m             \u001b[0mcheck_implicit\u001b[0m \u001b[1;33m=\u001b[0m \u001b[1;32mFalse\u001b[0m\u001b[1;33m\u001b[0m\u001b[1;33m\u001b[0m\u001b[0m\n\u001b[1;32m--> 131\u001b[1;33m             \u001b[0mexog_max\u001b[0m \u001b[1;33m=\u001b[0m \u001b[0mnp\u001b[0m\u001b[1;33m.\u001b[0m\u001b[0mmax\u001b[0m\u001b[1;33m(\u001b[0m\u001b[0mself\u001b[0m\u001b[1;33m.\u001b[0m\u001b[0mexog\u001b[0m\u001b[1;33m,\u001b[0m \u001b[0maxis\u001b[0m\u001b[1;33m=\u001b[0m\u001b[1;36m0\u001b[0m\u001b[1;33m)\u001b[0m\u001b[1;33m\u001b[0m\u001b[1;33m\u001b[0m\u001b[0m\n\u001b[0m\u001b[0;32m    132\u001b[0m             \u001b[1;32mif\u001b[0m \u001b[1;32mnot\u001b[0m \u001b[0mnp\u001b[0m\u001b[1;33m.\u001b[0m\u001b[0misfinite\u001b[0m\u001b[1;33m(\u001b[0m\u001b[0mexog_max\u001b[0m\u001b[1;33m)\u001b[0m\u001b[1;33m.\u001b[0m\u001b[0mall\u001b[0m\u001b[1;33m(\u001b[0m\u001b[1;33m)\u001b[0m\u001b[1;33m:\u001b[0m\u001b[1;33m\u001b[0m\u001b[1;33m\u001b[0m\u001b[0m\n\u001b[0;32m    133\u001b[0m                 \u001b[1;32mraise\u001b[0m \u001b[0mMissingDataError\u001b[0m\u001b[1;33m(\u001b[0m\u001b[1;34m'exog contains inf or nans'\u001b[0m\u001b[1;33m)\u001b[0m\u001b[1;33m\u001b[0m\u001b[1;33m\u001b[0m\u001b[0m\n",
      "\u001b[1;32m<__array_function__ internals>\u001b[0m in \u001b[0;36mamax\u001b[1;34m(*args, **kwargs)\u001b[0m\n",
      "\u001b[1;32m~\\Estadistica\\lib\\site-packages\\numpy\\core\\fromnumeric.py\u001b[0m in \u001b[0;36mamax\u001b[1;34m(a, axis, out, keepdims, initial, where)\u001b[0m\n\u001b[0;32m   2731\u001b[0m     \u001b[1;36m5\u001b[0m\u001b[1;33m\u001b[0m\u001b[1;33m\u001b[0m\u001b[0m\n\u001b[0;32m   2732\u001b[0m     \"\"\"\n\u001b[1;32m-> 2733\u001b[1;33m     return _wrapreduction(a, np.maximum, 'max', axis, None, out,\n\u001b[0m\u001b[0;32m   2734\u001b[0m                           keepdims=keepdims, initial=initial, where=where)\n\u001b[0;32m   2735\u001b[0m \u001b[1;33m\u001b[0m\u001b[0m\n",
      "\u001b[1;32m~\\Estadistica\\lib\\site-packages\\numpy\\core\\fromnumeric.py\u001b[0m in \u001b[0;36m_wrapreduction\u001b[1;34m(obj, ufunc, method, axis, dtype, out, **kwargs)\u001b[0m\n\u001b[0;32m     85\u001b[0m                 \u001b[1;32mreturn\u001b[0m \u001b[0mreduction\u001b[0m\u001b[1;33m(\u001b[0m\u001b[0maxis\u001b[0m\u001b[1;33m=\u001b[0m\u001b[0maxis\u001b[0m\u001b[1;33m,\u001b[0m \u001b[0mout\u001b[0m\u001b[1;33m=\u001b[0m\u001b[0mout\u001b[0m\u001b[1;33m,\u001b[0m \u001b[1;33m**\u001b[0m\u001b[0mpasskwargs\u001b[0m\u001b[1;33m)\u001b[0m\u001b[1;33m\u001b[0m\u001b[1;33m\u001b[0m\u001b[0m\n\u001b[0;32m     86\u001b[0m \u001b[1;33m\u001b[0m\u001b[0m\n\u001b[1;32m---> 87\u001b[1;33m     \u001b[1;32mreturn\u001b[0m \u001b[0mufunc\u001b[0m\u001b[1;33m.\u001b[0m\u001b[0mreduce\u001b[0m\u001b[1;33m(\u001b[0m\u001b[0mobj\u001b[0m\u001b[1;33m,\u001b[0m \u001b[0maxis\u001b[0m\u001b[1;33m,\u001b[0m \u001b[0mdtype\u001b[0m\u001b[1;33m,\u001b[0m \u001b[0mout\u001b[0m\u001b[1;33m,\u001b[0m \u001b[1;33m**\u001b[0m\u001b[0mpasskwargs\u001b[0m\u001b[1;33m)\u001b[0m\u001b[1;33m\u001b[0m\u001b[1;33m\u001b[0m\u001b[0m\n\u001b[0m\u001b[0;32m     88\u001b[0m \u001b[1;33m\u001b[0m\u001b[0m\n\u001b[0;32m     89\u001b[0m \u001b[1;33m\u001b[0m\u001b[0m\n",
      "\u001b[1;31mTypeError\u001b[0m: cannot perform reduce with flexible type"
     ]
    }
   ],
   "source": [
    "#getting data7\n",
    "# Get data from R\n",
    "result = pyreadr.read_r('../../data/ols_cra_reg.RData')\n",
    "x_vars_cra = result['X1']\n",
    "\n",
    "formula_cra = 'log_inuidur1 ~ T2 + (female+black+othrace+dep+q2+q3+q4+q5+q6+agelt35+agegt54+durable+lusd+husd)**2'\n",
    "\n",
    "ols_cra = sm.OLS( list(log_inuidur1), list(x_vars_cra) ).fit().get_robustcov_results(cov_type = \"HC1\")\n",
    "print(ols_cra.summary())"
   ]
  },
  {
   "cell_type": "code",
   "execution_count": null,
   "id": "35b164e3",
   "metadata": {},
   "outputs": [],
   "source": [
    "formula_cra = 'log_inuidur1 ~ T2 + (female+black+othrace+dep+q2+q3+q4+q5+q6+agelt35+agegt54+durable+lusd+husd)**2'\n",
    "\n",
    "ols_cra = sm.OLS( log_inuidur1, X_vars_cra ).fit().get_robustcov_results(cov_type = \"HC1\")\n",
    "print(ols_cra.summary())"
   ]
  },
  {
   "cell_type": "markdown",
   "id": "acabfb3e",
   "metadata": {},
   "source": [
    "The interactive specificaiton corresponds to the approach introduced in Lin (2013)."
   ]
  },
  {
   "cell_type": "code",
   "execution_count": null,
   "id": "ee401f21",
   "metadata": {},
   "outputs": [],
   "source": [
    "# create Y variable \n",
    "log_inuidur1 = pd.DataFrame(np.log( Penn[\"inuidur1\"] )).reset_index( drop = True )"
   ]
  },
  {
   "cell_type": "markdown",
   "id": "5cd4c7e9",
   "metadata": {},
   "source": [
    "## 3. Interactive regression adjustment (IRA)"
   ]
  },
  {
   "cell_type": "code",
   "execution_count": 200,
   "id": "63780b95",
   "metadata": {},
   "outputs": [
    {
     "ename": "PyreadrError",
     "evalue": "File b'../.../data/ols_ira_reg.RData' does not exist!",
     "output_type": "error",
     "traceback": [
      "\u001b[1;31m---------------------------------------------------------------------------\u001b[0m",
      "\u001b[1;31mPyreadrError\u001b[0m                              Traceback (most recent call last)",
      "\u001b[1;32m~\\AppData\\Local\\Temp/ipykernel_15548/2639989924.py\u001b[0m in \u001b[0;36m<module>\u001b[1;34m\u001b[0m\n\u001b[0;32m      7\u001b[0m \u001b[0mformula_ira\u001b[0m \u001b[1;33m=\u001b[0m \u001b[1;34m'T2 ~ pow(female+black+othrace+dep+q2+q3+q4+q5+q6+agelt35+agegt54+durable+lusd+husd,2)'\u001b[0m\u001b[1;33m\u001b[0m\u001b[1;33m\u001b[0m\u001b[0m\n\u001b[0;32m      8\u001b[0m \u001b[1;33m\u001b[0m\u001b[0m\n\u001b[1;32m----> 9\u001b[1;33m \u001b[0mresult\u001b[0m \u001b[1;33m=\u001b[0m \u001b[0mpyreadr\u001b[0m\u001b[1;33m.\u001b[0m\u001b[0mread_r\u001b[0m\u001b[1;33m(\u001b[0m\u001b[1;34m'../.../data/ols_ira_reg.RData'\u001b[0m\u001b[1;33m)\u001b[0m\u001b[1;33m\u001b[0m\u001b[1;33m\u001b[0m\u001b[0m\n\u001b[0m\u001b[0;32m     10\u001b[0m \u001b[0mX_vars_ols_ira\u001b[0m \u001b[1;33m=\u001b[0m \u001b[0mresult\u001b[0m\u001b[1;33m[\u001b[0m\u001b[1;34m'S1'\u001b[0m\u001b[1;33m]\u001b[0m\u001b[1;33m\u001b[0m\u001b[1;33m\u001b[0m\u001b[0m\n\u001b[0;32m     11\u001b[0m \u001b[1;33m\u001b[0m\u001b[0m\n",
      "\u001b[1;32m~\\Estadistica\\lib\\site-packages\\pyreadr\\pyreadr.py\u001b[0m in \u001b[0;36mread_r\u001b[1;34m(path, use_objects, timezone)\u001b[0m\n\u001b[0;32m     63\u001b[0m     \u001b[0mfilename_bytes\u001b[0m \u001b[1;33m=\u001b[0m \u001b[0mos\u001b[0m\u001b[1;33m.\u001b[0m\u001b[0mpath\u001b[0m\u001b[1;33m.\u001b[0m\u001b[0mexpanduser\u001b[0m\u001b[1;33m(\u001b[0m\u001b[0mfilename_bytes\u001b[0m\u001b[1;33m)\u001b[0m\u001b[1;33m\u001b[0m\u001b[1;33m\u001b[0m\u001b[0m\n\u001b[0;32m     64\u001b[0m     \u001b[1;32mif\u001b[0m \u001b[1;32mnot\u001b[0m \u001b[0mos\u001b[0m\u001b[1;33m.\u001b[0m\u001b[0mpath\u001b[0m\u001b[1;33m.\u001b[0m\u001b[0misfile\u001b[0m\u001b[1;33m(\u001b[0m\u001b[0mfilename_bytes\u001b[0m\u001b[1;33m)\u001b[0m\u001b[1;33m:\u001b[0m\u001b[1;33m\u001b[0m\u001b[1;33m\u001b[0m\u001b[0m\n\u001b[1;32m---> 65\u001b[1;33m         \u001b[1;32mraise\u001b[0m \u001b[0mPyreadrError\u001b[0m\u001b[1;33m(\u001b[0m\u001b[1;34m\"File {0} does not exist!\"\u001b[0m\u001b[1;33m.\u001b[0m\u001b[0mformat\u001b[0m\u001b[1;33m(\u001b[0m\u001b[0mfilename_bytes\u001b[0m\u001b[1;33m)\u001b[0m\u001b[1;33m)\u001b[0m\u001b[1;33m\u001b[0m\u001b[1;33m\u001b[0m\u001b[0m\n\u001b[0m\u001b[0;32m     66\u001b[0m     \u001b[0mparser\u001b[0m\u001b[1;33m.\u001b[0m\u001b[0mparse\u001b[0m\u001b[1;33m(\u001b[0m\u001b[0mfilename_bytes\u001b[0m\u001b[1;33m)\u001b[0m\u001b[1;33m\u001b[0m\u001b[1;33m\u001b[0m\u001b[0m\n\u001b[0;32m     67\u001b[0m \u001b[1;33m\u001b[0m\u001b[0m\n",
      "\u001b[1;31mPyreadrError\u001b[0m: File b'../.../data/ols_ira_reg.RData' does not exist!"
     ]
    }
   ],
   "source": [
    "# create Y variable \n",
    "log_inuidur1 = pd.DataFrame(np.log( Penn[\"inuidur1\"] )).reset_index( drop = True )\n",
    "\n",
    "# Reset index to estimation\n",
    "# Get data from R\n",
    "\n",
    "formula_ira = 'T2 ~ pow(female+black+othrace+dep+q2+q3+q4+q5+q6+agelt35+agegt54+durable+lusd+husd,2)'\n",
    "\n",
    "result = pyreadr.read_r('../.../data/ols_ira_reg.RData')\n",
    "X_vars_ols_ira = result['S1']\n",
    "\n"
   ]
  },
  {
   "cell_type": "code",
   "execution_count": null,
   "id": "4a0dac3a",
   "metadata": {},
   "outputs": [],
   "source": [
    "#getting data7\n",
    "# Get data from R\n",
    "result_cra = pyreadr.read_r('../../data/ols_cra_reg.RData')\n",
    "X_vars_cra = result['X1']"
   ]
  },
  {
   "cell_type": "code",
   "execution_count": 205,
   "id": "c3897b33",
   "metadata": {},
   "outputs": [
    {
     "ename": "PyreadrError",
     "evalue": "File b'../../../../data/ols_ira_reg.RData' does not exist!",
     "output_type": "error",
     "traceback": [
      "\u001b[1;31m---------------------------------------------------------------------------\u001b[0m",
      "\u001b[1;31mPyreadrError\u001b[0m                              Traceback (most recent call last)",
      "\u001b[1;32m~\\AppData\\Local\\Temp/ipykernel_15548/3454483620.py\u001b[0m in \u001b[0;36m<module>\u001b[1;34m\u001b[0m\n\u001b[1;32m----> 1\u001b[1;33m \u001b[0mresult\u001b[0m \u001b[1;33m=\u001b[0m \u001b[0mpyreadr\u001b[0m\u001b[1;33m.\u001b[0m\u001b[0mread_r\u001b[0m\u001b[1;33m(\u001b[0m\u001b[1;34m'../../../../data/ols_ira_reg.RData'\u001b[0m\u001b[1;33m)\u001b[0m\u001b[1;33m\u001b[0m\u001b[1;33m\u001b[0m\u001b[0m\n\u001b[0m\u001b[0;32m      2\u001b[0m \u001b[0mX_vars_ols_ira\u001b[0m \u001b[1;33m=\u001b[0m \u001b[0mresult\u001b[0m\u001b[1;33m[\u001b[0m\u001b[1;34m'S1'\u001b[0m\u001b[1;33m]\u001b[0m\u001b[1;33m\u001b[0m\u001b[1;33m\u001b[0m\u001b[0m\n",
      "\u001b[1;32m~\\Estadistica\\lib\\site-packages\\pyreadr\\pyreadr.py\u001b[0m in \u001b[0;36mread_r\u001b[1;34m(path, use_objects, timezone)\u001b[0m\n\u001b[0;32m     63\u001b[0m     \u001b[0mfilename_bytes\u001b[0m \u001b[1;33m=\u001b[0m \u001b[0mos\u001b[0m\u001b[1;33m.\u001b[0m\u001b[0mpath\u001b[0m\u001b[1;33m.\u001b[0m\u001b[0mexpanduser\u001b[0m\u001b[1;33m(\u001b[0m\u001b[0mfilename_bytes\u001b[0m\u001b[1;33m)\u001b[0m\u001b[1;33m\u001b[0m\u001b[1;33m\u001b[0m\u001b[0m\n\u001b[0;32m     64\u001b[0m     \u001b[1;32mif\u001b[0m \u001b[1;32mnot\u001b[0m \u001b[0mos\u001b[0m\u001b[1;33m.\u001b[0m\u001b[0mpath\u001b[0m\u001b[1;33m.\u001b[0m\u001b[0misfile\u001b[0m\u001b[1;33m(\u001b[0m\u001b[0mfilename_bytes\u001b[0m\u001b[1;33m)\u001b[0m\u001b[1;33m:\u001b[0m\u001b[1;33m\u001b[0m\u001b[1;33m\u001b[0m\u001b[0m\n\u001b[1;32m---> 65\u001b[1;33m         \u001b[1;32mraise\u001b[0m \u001b[0mPyreadrError\u001b[0m\u001b[1;33m(\u001b[0m\u001b[1;34m\"File {0} does not exist!\"\u001b[0m\u001b[1;33m.\u001b[0m\u001b[0mformat\u001b[0m\u001b[1;33m(\u001b[0m\u001b[0mfilename_bytes\u001b[0m\u001b[1;33m)\u001b[0m\u001b[1;33m)\u001b[0m\u001b[1;33m\u001b[0m\u001b[1;33m\u001b[0m\u001b[0m\n\u001b[0m\u001b[0;32m     66\u001b[0m     \u001b[0mparser\u001b[0m\u001b[1;33m.\u001b[0m\u001b[0mparse\u001b[0m\u001b[1;33m(\u001b[0m\u001b[0mfilename_bytes\u001b[0m\u001b[1;33m)\u001b[0m\u001b[1;33m\u001b[0m\u001b[1;33m\u001b[0m\u001b[0m\n\u001b[0;32m     67\u001b[0m \u001b[1;33m\u001b[0m\u001b[0m\n",
      "\u001b[1;31mPyreadrError\u001b[0m: File b'../../../../data/ols_ira_reg.RData' does not exist!"
     ]
    }
   ],
   "source": [
    "result = pyreadr.read_r('../../../../data/ols_ira_reg.RData')\n",
    "X_vars_ols_ira = result['S1']"
   ]
  },
  {
   "cell_type": "code",
   "execution_count": null,
   "id": "c08bae0d",
   "metadata": {},
   "outputs": [],
   "source": []
  }
 ],
 "metadata": {
  "kernelspec": {
   "display_name": "Python 3 (ipykernel)",
   "language": "python",
   "name": "python3"
  },
  "language_info": {
   "codemirror_mode": {
    "name": "ipython",
    "version": 3
   },
   "file_extension": ".py",
   "mimetype": "text/x-python",
   "name": "python",
   "nbconvert_exporter": "python",
   "pygments_lexer": "ipython3",
   "version": "3.9.7"
  }
 },
 "nbformat": 4,
 "nbformat_minor": 5
}
