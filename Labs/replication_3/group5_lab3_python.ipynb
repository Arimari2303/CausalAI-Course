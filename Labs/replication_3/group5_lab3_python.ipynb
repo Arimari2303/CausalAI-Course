{
 "cells": [
  {
   "cell_type": "markdown",
   "metadata": {},
   "source": [
    "# **GROUPWORK 3: Potential Outcomes and RCTs** \\\n",
    "**Group's name:** \\\n",
    "**Group 5**\n",
    "\n",
    "**Group's members:** \\\n",
    "**- Edmar Quispe** \\\n",
    "**- Michael Medina** \\\n",
    "**- Claudia Vivas** \\\n",
    "**- Claudio Cabrera**"
   ]
  },
  {
   "cell_type": "markdown",
   "metadata": {},
   "source": [
    "## **Multicolinearity**"
   ]
  },
  {
   "cell_type": "markdown",
   "metadata": {},
   "source": [
    "### **Definition**\n",
    "In short, multicollinearity is the high (but not perfect) correlation between  two or more independent variables.\n",
    "\n",
    "the failure of the **full rank** assumption to be complied. \\\n",
    "\n",
    "In principle, the compliance of a system of variables and observations —such as the dataset we want to estimate models on— to possess full rank implies that there is no exact linear relationship among any of the independent variables in the model. \\\n",
    "\n",
    "In practical terms, we wish to be sure that for a random sample of $n$ drawn from this process, ($y_{1}$, $x'_{1}$), ($y_{2}$, $x'_{2}$), ...,  ($y_{n}, x'_{n}$), that the $n*K$ matrix $X$ with $n$ rows $x'_{i}$ always has rank $K$ if $n >= K$. . When this assumption is not met, the model is not estimable, regardless of the sample size. \\ \n",
    "\n",
    "Having explain that, \n"
   ]
  },
  {
   "cell_type": "code",
   "execution_count": null,
   "metadata": {},
   "outputs": [],
   "source": []
  },
  {
   "cell_type": "markdown",
   "metadata": {},
   "source": [
    "## **2. Analyzing RCT data with Precision Adjustment**"
   ]
  },
  {
   "cell_type": "markdown",
   "metadata": {},
   "source": [
    "### **Data**"
   ]
  },
  {
   "cell_type": "markdown",
   "metadata": {},
   "source": [
    "Data\n",
    "In this lab, we analyze the Pennsylvania re-employment bonus experiment, which was previously studied in \"Sequential testing of duration data: the case of the Pennsylvania ‘reemployment bonus’ experiment\" (Bilias, 2000), among others. These experiments were conducted in the 1980s by the U.S. Department of Labor to test the incentive effects of alternative compensation schemes for unemployment insurance (UI). In these experiments, UI claimants were randomly assigned either to a control group or one of five treatment groups. Actually, there are six treatment groups in the experiments. Here we focus on treatment group 4, but feel free to explore other treatment groups. In the control group the current rules of the UI applied. Individuals in the treatment groups were offered a cash bonus if they found a job within some pre-specified period of time (qualification period), provided that the job was retained for a specified duration. The treatments differed in the level of the bonus, the length of the qualification period, and whether the bonus was declining over time in the qualification period; see http://qed.econ.queensu.ca/jae/2000-v15.6/bilias/readme.b.txt for further details on data."
   ]
  },
  {
   "cell_type": "code",
   "execution_count": 38,
   "metadata": {},
   "outputs": [],
   "source": [
    "import pandas as pd\n",
    "import numpy as np\n",
    "import pyreadr"
   ]
  },
  {
   "cell_type": "code",
   "execution_count": 21,
   "metadata": {},
   "outputs": [],
   "source": [
    "## loading the data\n",
    "Penn = pd.read_csv(r\"..\\..\\data\\penn_jae.dat\", sep = '\\s', engine = 'python')\n",
    "n = Penn.shape[0] # for number of observations\n",
    "p_1 = Penn.shape[1] # for number of regressors"
   ]
  },
  {
   "cell_type": "markdown",
   "metadata": {},
   "source": [
    "# **Focus on the Treatment group 2**"
   ]
  },
  {
   "cell_type": "code",
   "execution_count": 24,
   "metadata": {},
   "outputs": [],
   "source": [
    "Penn = Penn[(Penn['tg'] == 2) | (Penn['tg'] == 0 )]"
   ]
  },
  {
   "cell_type": "code",
   "execution_count": 25,
   "metadata": {},
   "outputs": [
    {
     "name": "stdout",
     "output_type": "stream",
     "text": [
      "<class 'pandas.core.frame.DataFrame'>\n",
      "Int64Index: 5782 entries, 0 to 13911\n",
      "Data columns (total 24 columns):\n",
      " #   Column       Non-Null Count  Dtype  \n",
      "---  ------       --------------  -----  \n",
      " 0   abdt         5782 non-null   int64  \n",
      " 1   tg           5782 non-null   int64  \n",
      " 2   inuidur1     5782 non-null   int64  \n",
      " 3   inuidur2     5782 non-null   int64  \n",
      " 4   female       5782 non-null   int64  \n",
      " 5   black        5782 non-null   int64  \n",
      " 6   hispanic     5782 non-null   int64  \n",
      " 7   othrace      5782 non-null   int64  \n",
      " 8   dep          5782 non-null   int64  \n",
      " 9   q1           5782 non-null   int64  \n",
      " 10  q2           5782 non-null   int64  \n",
      " 11  q3           5782 non-null   int64  \n",
      " 12  q4           5782 non-null   int64  \n",
      " 13  Unnamed: 13  5782 non-null   int64  \n",
      " 14  q5           5782 non-null   int64  \n",
      " 15  q6           5782 non-null   int64  \n",
      " 16  recall       5782 non-null   int64  \n",
      " 17  agelt35      5782 non-null   int64  \n",
      " 18  agegt54      5782 non-null   int64  \n",
      " 19  durable      5782 non-null   int64  \n",
      " 20  nondurable   5782 non-null   int64  \n",
      " 21  lusd         5782 non-null   int64  \n",
      " 22  husd         5782 non-null   int64  \n",
      " 23  muld         0 non-null      float64\n",
      "dtypes: float64(1), int64(23)\n",
      "memory usage: 1.1 MB\n"
     ]
    }
   ],
   "source": [
    "Penn.info()"
   ]
  },
  {
   "cell_type": "markdown",
   "metadata": {},
   "source": [
    "## **Model**\n",
    "To evaluate the impact of the treatments on unemployment duration, we consider the linear regression model:\n",
    "\n",
    "$Y=Dβ_{1}+W′β_{2}+ε, \\, Eε(D,W′)′=0$,\n",
    " \n",
    "where  $Y$  is the log of duration of unemployment,  $D$  is a treatment indicators, and  W  is a set of controls including age group dummies, gender, race, number of dependents, quarter of the experiment, location within the state, existence of recall expectations, and type of occupation. Here  $β_{1}$ is the ATE, if the RCT assumptions hold rigorously.\n",
    "\n",
    "We also consider interactive regression model:\n",
    "\n",
    "$Y=Dα_{1}+DW′α_{2}+W′β_{2}+ε , \\, Eε(D,W′,DW′)′=0$,\n",
    " \n",
    "where  $W$'s are demeaned (apart from the intercept), so that  α_{1} is the ATE, if the RCT assumptions hold rigorously.\n",
    "\n",
    "Under RCT, the projection coefficient  $β_{1}$  has the interpretation of the causal effect of the treatment on the average outcome. We thus refer to  $β_{1}$  as the average treatment effect (ATE). Note that the covariates, here are independent of the treatment  $D$ , so we can identify  $β_{1}$  by just linear regression of  $Y$  on  $D$ , without adding covariates. However we do add covariates in an effort to improve the precision of our estimates of the average treatment effect."
   ]
  },
  {
   "cell_type": "markdown",
   "metadata": {},
   "source": [
    "# **Plot two histograms for treatment and control group to see the distribution of the outcome variable inuidur1**"
   ]
  },
  {
   "cell_type": "code",
   "execution_count": 30,
   "metadata": {},
   "outputs": [],
   "source": [
    "import seaborn as sns"
   ]
  },
  {
   "cell_type": "code",
   "execution_count": 34,
   "metadata": {},
   "outputs": [],
   "source": [
    "# Transform the category 2, which is for the treatment group 2\n",
    "# create a new dummy variable named T2 based on it\n",
    "Penn['T2'] = (Penn[['tg']] == 2).astype(int)\n",
    "\n",
    "Penn['dep'] = (Penn['dep']).astype('category')"
   ]
  },
  {
   "cell_type": "code",
   "execution_count": 35,
   "metadata": {},
   "outputs": [
    {
     "data": {
      "text/plain": [
       "<seaborn.axisgrid.FacetGrid at 0x23c6dc948e0>"
      ]
     },
     "execution_count": 35,
     "metadata": {},
     "output_type": "execute_result"
    },
    {
     "data": {
      "image/png": "[encoded data removed]",
      "text/plain": [
       "<Figure size 402.375x360 with 1 Axes>"
      ]
     },
     "metadata": {
      "needs_background": "light"
     },
     "output_type": "display_data"
    }
   ],
   "source": [
    "sns.displot(Penn, x='inuidur1', hue=\"T2\", kind=\"kde\")"
   ]
  },
  {
   "cell_type": "markdown",
   "metadata": {},
   "source": [
    "Although both distributions don't show the same height, they actually have \n",
    "the same form, so, as such similarity is maintained along all the curve (for each distribution curve), we can suggest that the height discrepancy happens as a result of different proportionality of the control group with respect to the treatment group. Hence, both groups (control and treatment) have indeed the same distribution. "
   ]
  },
  {
   "cell_type": "markdown",
   "metadata": {},
   "source": [
    "## **Analysis**\n",
    "\n",
    "# **Run all specifications**\n",
    "We consider\n",
    "\n",
    "- classical 2-sample approach, no adjustment (CL)\n",
    "- classical linear regression adjustment (CRA)\n",
    "- interactive regression adjusment (IRA) \\\n",
    "\n",
    "and carry out robust inference using the *estimatrR* packages."
   ]
  },
  {
   "cell_type": "markdown",
   "metadata": {},
   "source": [
    "### **Carry out covariate balance check**"
   ]
  },
  {
   "cell_type": "code",
   "execution_count": 44,
   "metadata": {},
   "outputs": [],
   "source": [
    "import statsmodels.api as sm\n",
    "import statsmodels.formula.api as smf"
   ]
  },
  {
   "cell_type": "markdown",
   "metadata": {},
   "source": [
    "#### **Classical 2-sample approach, no adjustment (CL)**"
   ]
  },
  {
   "cell_type": "code",
   "execution_count": 41,
   "metadata": {},
   "outputs": [
    {
     "name": "stdout",
     "output_type": "stream",
     "text": [
      "<class 'pandas.core.frame.DataFrame'>\n",
      "Int64Index: 5782 entries, 0 to 13911\n",
      "Data columns (total 26 columns):\n",
      " #   Column        Non-Null Count  Dtype   \n",
      "---  ------        --------------  -----   \n",
      " 0   abdt          5782 non-null   int64   \n",
      " 1   tg            5782 non-null   int64   \n",
      " 2   inuidur1      5782 non-null   int64   \n",
      " 3   inuidur2      5782 non-null   int64   \n",
      " 4   female        5782 non-null   int64   \n",
      " 5   black         5782 non-null   int64   \n",
      " 6   hispanic      5782 non-null   int64   \n",
      " 7   othrace       5782 non-null   int64   \n",
      " 8   dep           5782 non-null   category\n",
      " 9   q1            5782 non-null   int64   \n",
      " 10  q2            5782 non-null   int64   \n",
      " 11  q3            5782 non-null   int64   \n",
      " 12  q4            5782 non-null   int64   \n",
      " 13  Unnamed: 13   5782 non-null   int64   \n",
      " 14  q5            5782 non-null   int64   \n",
      " 15  q6            5782 non-null   int64   \n",
      " 16  recall        5782 non-null   int64   \n",
      " 17  agelt35       5782 non-null   int64   \n",
      " 18  agegt54       5782 non-null   int64   \n",
      " 19  durable       5782 non-null   int64   \n",
      " 20  nondurable    5782 non-null   int64   \n",
      " 21  lusd          5782 non-null   int64   \n",
      " 22  husd          5782 non-null   int64   \n",
      " 23  muld          0 non-null      float64 \n",
      " 24  T2            5782 non-null   int32   \n",
      " 25  log_inuidur1  5782 non-null   float64 \n",
      "dtypes: category(1), float64(2), int32(1), int64(22)\n",
      "memory usage: 1.3 MB\n"
     ]
    }
   ],
   "source": [
    "# model specifications\n",
    "Penn['log_inuidur1'] = np.log(Penn['inuidur1'])\n",
    "log_inuidur1 = pd.DataFrame(np.log(Penn['inuidur1'])).reset_index( drop = True )\n",
    "\n",
    "Penn.info()"
   ]
  },
  {
   "cell_type": "code",
   "execution_count": 47,
   "metadata": {},
   "outputs": [
    {
     "name": "stdout",
     "output_type": "stream",
     "text": [
      "                            OLS Regression Results                            \n",
      "==============================================================================\n",
      "Dep. Variable:           log_inuidur1   R-squared:                       0.001\n",
      "Model:                            OLS   Adj. R-squared:                  0.001\n",
      "Method:                 Least Squares   F-statistic:                     5.879\n",
      "Date:                Sat, 30 Apr 2022   Prob (F-statistic):             0.0154\n",
      "Time:                        19:17:45   Log-Likelihood:                -9344.7\n",
      "No. Observations:                5782   AIC:                         1.869e+04\n",
      "Df Residuals:                    5780   BIC:                         1.871e+04\n",
      "Df Model:                           1                                         \n",
      "Covariance Type:                  HC1                                         \n",
      "==============================================================================\n",
      "                 coef    std err          t      P>|t|      [0.025      0.975]\n",
      "------------------------------------------------------------------------------\n",
      "Intercept      2.0568      0.021     98.158      0.000       2.016       2.098\n",
      "T2            -0.0788      0.033     -2.425      0.015      -0.143      -0.015\n",
      "==============================================================================\n",
      "Omnibus:                     3220.110   Durbin-Watson:                   1.978\n",
      "Prob(Omnibus):                  0.000   Jarque-Bera (JB):              593.120\n",
      "Skew:                          -0.541   Prob(JB):                    1.61e-129\n",
      "Kurtosis:                       1.865   Cond. No.                         2.47\n",
      "==============================================================================\n",
      "\n",
      "Notes:\n",
      "[1] Standard Errors are heteroscedasticity robust (HC1)\n"
     ]
    }
   ],
   "source": [
    "formula_cl = 'log_inuidur1 ~ T2'    \n",
    "ols_cl = smf.ols(formula = formula_cl, data = Penn).fit().get_robustcov_results(cov_type = \"HC1\")\n",
    "\n",
    "print(ols_cl.summary())"
   ]
  }
 ],
 "metadata": {
  "interpreter": {
   "hash": "48be8914b5aeb0b1c2ea91f3782edc43330645d0eae05728677f5e9ddf3c259c"
  },
  "kernelspec": {
   "display_name": "Python 3.10.4 64-bit",
   "language": "python",
   "name": "python3"
  },
  "language_info": {
   "codemirror_mode": {
    "name": "ipython",
    "version": 3
   },
   "file_extension": ".py",
   "mimetype": "text/x-python",
   "name": "python",
   "nbconvert_exporter": "python",
   "pygments_lexer": "ipython3",
   "version": "3.10.4"
  },
  "orig_nbformat": 4
 },
 "nbformat": 4,
 "nbformat_minor": 2
}
