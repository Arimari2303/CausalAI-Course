{
 "cells": [
  {
   "cell_type": "markdown",
   "id": "f081db9f",
   "metadata": {},
   "source": [
    "# Workgroup 3 R "
   ]
  },
  {
   "cell_type": "markdown",
   "id": "e1de4158",
   "metadata": {},
   "source": [
    "# 1. Multicollinearity "
   ]
  },
  {
   "cell_type": "markdown",
   "id": "f3865bf3",
   "metadata": {},
   "source": [
    "The multicollinearity  is the dependency of two o more explicatives variables in a model regression; specific, put away the Gauss-Markov condition. It's important to say that the dependency of the variables has to be strong to be consider a multicollinearity case. \n",
    "\n",
    "It can be consider two cases of multi:exact multicollinearity and approximately multicollinearity.\n",
    "\n",
    "The first type of multicollinearity consists in a variable or variables depends linealy of other.\n",
    "\n",
    "\n",
    "$$ \n",
    "Y_i = \\beta_0 + \\beta_1 X_1 + \\beta_2 X_2 + \\beta_3 X_3 + \\epsilon   ... (1) ;  \n",
    "$$\n",
    "\n",
    "\n",
    "$$\n",
    "X_1 = 2.X_2 - 3.X_3\n",
    "$$\n",
    "\n",
    "For example, in the ecuacion 1 represents a exact multicollinearity case because a variable depends linealy of others. The real problem of this kind of multicollinearity it's that it wouldn't be possible estimate the coefficients of the regresors. Remember: \n",
    "\n",
    "$$\n",
    "\\hat{\\beta} = (X'X)^{-1}(X'Y) ... (2)\n",
    "$$"
   ]
  },
  {
   "cell_type": "markdown",
   "id": "4f2a3406",
   "metadata": {},
   "source": [
    "So, if exist multi. exact, the matrix $(X'X)$ will have determinant equal to zero, so it won't be invertible.  "
   ]
  },
  {
   "cell_type": "markdown",
   "id": "adbaa267",
   "metadata": {},
   "source": [
    "The other case of multi: approximately multi consists in a variable of variables depends of other but no its exclusive a lineal combination. For example:\n",
    "\n",
    "$$\n",
    "Y_i = \\beta_0 + \\beta_1 X_1 + \\beta_2  X_2+ \\beta_3 X_3+ \\epsilon   ... (3) ;  \n",
    "$$\n",
    "\n",
    "$$\n",
    "X_3 = 2X_1 + v_i, v_i \\sim N(0, \\sigma^2)\n",
    "$$"
   ]
  },
  {
   "cell_type": "markdown",
   "id": "fd5f36ef",
   "metadata": {},
   "source": [
    "The ecuation shows that $X_3$ its aproximaly a lineal combination of other variable; the problem with this case, its that matrix $(X'X)$ equation 2 will be approximately zero and the coeficient would be affected. "
   ]
  },
  {
   "cell_type": "markdown",
   "id": "d38f77e5",
   "metadata": {},
   "source": [
    "* A way to solution the multicollinearity problem it's delete the variable that causes it. "
   ]
  },
  {
   "cell_type": "code",
   "execution_count": null,
   "id": "4db3cd99",
   "metadata": {},
   "outputs": [],
   "source": []
  },
  {
   "cell_type": "markdown",
   "id": "1519e2c5",
   "metadata": {},
   "source": [
    "# Matrix "
   ]
  },
  {
   "cell_type": "code",
   "execution_count": 2,
   "id": "d26b7e35",
   "metadata": {},
   "outputs": [],
   "source": [
    "set.seed(123)\n",
    "n = 10"
   ]
  },
  {
   "cell_type": "code",
   "execution_count": 3,
   "id": "a04a5eca",
   "metadata": {
    "scrolled": true
   },
   "outputs": [],
   "source": [
    "\n",
    "a <- rnorm(10)\n",
    "b <- rnorm(10)\n",
    "c <- rnorm(10)\n",
    "d <- rnorm(10)\n",
    "e <- rnorm(10)\n",
    "f <- rnorm(10)\n",
    "g <- rnorm(10)\n",
    "h <- rnorm(10)\n",
    "i <- rnorm(10)\n",
    "j <- 2*i+3*h+g\n"
   ]
  },
  {
   "cell_type": "code",
   "execution_count": 4,
   "id": "ecfb8299",
   "metadata": {},
   "outputs": [
    {
     "data": {
      "text/html": [
       "<ol class=list-inline>\n",
       "\t<li>-1.08192564360995</li>\n",
       "\t<li>-6.65926927777908</li>\n",
       "\t<li>1.94268812613253</li>\n",
       "\t<li>-1.8574245738166</li>\n",
       "\t<li>-3.57679019951515</li>\n",
       "\t<li>4.04380667832575</li>\n",
       "\t<li>1.78756878377509</li>\n",
       "\t<li>-2.7387859283655</li>\n",
       "\t<li>0.814314736064735</li>\n",
       "\t<li>3.9310258352122</li>\n",
       "</ol>\n"
      ],
      "text/latex": [
       "\\begin{enumerate*}\n",
       "\\item -1.08192564360995\n",
       "\\item -6.65926927777908\n",
       "\\item 1.94268812613253\n",
       "\\item -1.8574245738166\n",
       "\\item -3.57679019951515\n",
       "\\item 4.04380667832575\n",
       "\\item 1.78756878377509\n",
       "\\item -2.7387859283655\n",
       "\\item 0.814314736064735\n",
       "\\item 3.9310258352122\n",
       "\\end{enumerate*}\n"
      ],
      "text/markdown": [
       "1. -1.08192564360995\n",
       "2. -6.65926927777908\n",
       "3. 1.94268812613253\n",
       "4. -1.8574245738166\n",
       "5. -3.57679019951515\n",
       "6. 4.04380667832575\n",
       "7. 1.78756878377509\n",
       "8. -2.7387859283655\n",
       "9. 0.814314736064735\n",
       "10. 3.9310258352122\n",
       "\n",
       "\n"
      ],
      "text/plain": [
       " [1] -1.0819256 -6.6592693  1.9426881 -1.8574246 -3.5767902  4.0438067\n",
       " [7]  1.7875688 -2.7387859  0.8143147  3.9310258"
      ]
     },
     "metadata": {},
     "output_type": "display_data"
    }
   ],
   "source": [
    "j"
   ]
  },
  {
   "cell_type": "code",
   "execution_count": 7,
   "id": "70799fd9",
   "metadata": {
    "scrolled": false
   },
   "outputs": [
    {
     "data": {
      "text/html": [
       "<table>\n",
       "<tbody>\n",
       "\t<tr><td>-0.56047565 </td><td> 1.2240818  </td><td>-1.0678237  </td><td> 0.42646422 </td><td>-0.69470698 </td><td> 0.25331851 </td><td> 0.37963948 </td><td>-0.4910312  </td><td> 0.005764186</td><td>-1.0819256  </td></tr>\n",
       "\t<tr><td>-0.23017749 </td><td> 0.3598138  </td><td>-0.2179749  </td><td>-0.29507148 </td><td>-0.20791728 </td><td>-0.02854676 </td><td>-0.50232345 </td><td>-2.3091689  </td><td> 0.385280401</td><td>-6.6592693  </td></tr>\n",
       "\t<tr><td> 1.55870831 </td><td> 0.4007715  </td><td>-1.0260044  </td><td> 0.89512566 </td><td>-1.26539635 </td><td>-0.04287046 </td><td>-0.33320738 </td><td> 1.0057385  </td><td>-0.370660032</td><td> 1.9426881  </td></tr>\n",
       "\t<tr><td> 0.07050839 </td><td> 0.1106827  </td><td>-0.7288912  </td><td> 0.87813349 </td><td> 2.16895597 </td><td> 1.36860228 </td><td>-1.01857538 </td><td>-0.7092008  </td><td> 0.644376549</td><td>-1.8574246  </td></tr>\n",
       "\t<tr><td> 0.12928774 </td><td>-0.5558411  </td><td>-0.6250393  </td><td> 0.82158108 </td><td> 1.20796200 </td><td>-0.22577099 </td><td>-1.07179123 </td><td>-0.6880086  </td><td>-0.220486562</td><td>-3.5767902  </td></tr>\n",
       "\t<tr><td> 1.71506499 </td><td> 1.7869131  </td><td>-1.6866933  </td><td> 0.68864025 </td><td>-1.12310858 </td><td> 1.51647060 </td><td> 0.30352864 </td><td> 1.0255714  </td><td> 0.331781964</td><td> 4.0438067  </td></tr>\n",
       "\t<tr><td> 0.46091621 </td><td> 0.4978505  </td><td> 0.8377870  </td><td> 0.55391765 </td><td>-0.40288484 </td><td>-1.54875280 </td><td> 0.44820978 </td><td>-0.2847730  </td><td> 1.096839013</td><td> 1.7875688  </td></tr>\n",
       "\t<tr><td>-1.26506123 </td><td>-1.9666172  </td><td> 0.1533731  </td><td>-0.06191171 </td><td>-0.46665535 </td><td> 0.58461375 </td><td> 0.05300423 </td><td>-1.2207177  </td><td> 0.435181491</td><td>-2.7387859  </td></tr>\n",
       "\t<tr><td>-0.68685285 </td><td> 0.7013559  </td><td>-1.1381369  </td><td>-0.30596266 </td><td> 0.77996512 </td><td> 0.12385424 </td><td> 0.92226747 </td><td> 0.1813035  </td><td>-0.325931586</td><td> 0.8143147  </td></tr>\n",
       "\t<tr><td>-0.44566197 </td><td>-0.4727914  </td><td> 1.2538149  </td><td>-0.38047100 </td><td>-0.08336907 </td><td> 0.21594157 </td><td> 2.05008469 </td><td>-0.1388914  </td><td> 1.148807618</td><td> 3.9310258  </td></tr>\n",
       "</tbody>\n",
       "</table>\n"
      ],
      "text/latex": [
       "\\begin{tabular}{llllllllll}\n",
       "\t -0.56047565  &  1.2240818   & -1.0678237   &  0.42646422  & -0.69470698  &  0.25331851  &  0.37963948  & -0.4910312   &  0.005764186 & -1.0819256  \\\\\n",
       "\t -0.23017749  &  0.3598138   & -0.2179749   & -0.29507148  & -0.20791728  & -0.02854676  & -0.50232345  & -2.3091689   &  0.385280401 & -6.6592693  \\\\\n",
       "\t  1.55870831  &  0.4007715   & -1.0260044   &  0.89512566  & -1.26539635  & -0.04287046  & -0.33320738  &  1.0057385   & -0.370660032 &  1.9426881  \\\\\n",
       "\t  0.07050839  &  0.1106827   & -0.7288912   &  0.87813349  &  2.16895597  &  1.36860228  & -1.01857538  & -0.7092008   &  0.644376549 & -1.8574246  \\\\\n",
       "\t  0.12928774  & -0.5558411   & -0.6250393   &  0.82158108  &  1.20796200  & -0.22577099  & -1.07179123  & -0.6880086   & -0.220486562 & -3.5767902  \\\\\n",
       "\t  1.71506499  &  1.7869131   & -1.6866933   &  0.68864025  & -1.12310858  &  1.51647060  &  0.30352864  &  1.0255714   &  0.331781964 &  4.0438067  \\\\\n",
       "\t  0.46091621  &  0.4978505   &  0.8377870   &  0.55391765  & -0.40288484  & -1.54875280  &  0.44820978  & -0.2847730   &  1.096839013 &  1.7875688  \\\\\n",
       "\t -1.26506123  & -1.9666172   &  0.1533731   & -0.06191171  & -0.46665535  &  0.58461375  &  0.05300423  & -1.2207177   &  0.435181491 & -2.7387859  \\\\\n",
       "\t -0.68685285  &  0.7013559   & -1.1381369   & -0.30596266  &  0.77996512  &  0.12385424  &  0.92226747  &  0.1813035   & -0.325931586 &  0.8143147  \\\\\n",
       "\t -0.44566197  & -0.4727914   &  1.2538149   & -0.38047100  & -0.08336907  &  0.21594157  &  2.05008469  & -0.1388914   &  1.148807618 &  3.9310258  \\\\\n",
       "\\end{tabular}\n"
      ],
      "text/markdown": [
       "\n",
       "| -0.56047565  |  1.2240818   | -1.0678237   |  0.42646422  | -0.69470698  |  0.25331851  |  0.37963948  | -0.4910312   |  0.005764186 | -1.0819256   |\n",
       "| -0.23017749  |  0.3598138   | -0.2179749   | -0.29507148  | -0.20791728  | -0.02854676  | -0.50232345  | -2.3091689   |  0.385280401 | -6.6592693   |\n",
       "|  1.55870831  |  0.4007715   | -1.0260044   |  0.89512566  | -1.26539635  | -0.04287046  | -0.33320738  |  1.0057385   | -0.370660032 |  1.9426881   |\n",
       "|  0.07050839  |  0.1106827   | -0.7288912   |  0.87813349  |  2.16895597  |  1.36860228  | -1.01857538  | -0.7092008   |  0.644376549 | -1.8574246   |\n",
       "|  0.12928774  | -0.5558411   | -0.6250393   |  0.82158108  |  1.20796200  | -0.22577099  | -1.07179123  | -0.6880086   | -0.220486562 | -3.5767902   |\n",
       "|  1.71506499  |  1.7869131   | -1.6866933   |  0.68864025  | -1.12310858  |  1.51647060  |  0.30352864  |  1.0255714   |  0.331781964 |  4.0438067   |\n",
       "|  0.46091621  |  0.4978505   |  0.8377870   |  0.55391765  | -0.40288484  | -1.54875280  |  0.44820978  | -0.2847730   |  1.096839013 |  1.7875688   |\n",
       "| -1.26506123  | -1.9666172   |  0.1533731   | -0.06191171  | -0.46665535  |  0.58461375  |  0.05300423  | -1.2207177   |  0.435181491 | -2.7387859   |\n",
       "| -0.68685285  |  0.7013559   | -1.1381369   | -0.30596266  |  0.77996512  |  0.12385424  |  0.92226747  |  0.1813035   | -0.325931586 |  0.8143147   |\n",
       "| -0.44566197  | -0.4727914   |  1.2538149   | -0.38047100  | -0.08336907  |  0.21594157  |  2.05008469  | -0.1388914   |  1.148807618 |  3.9310258   |\n",
       "\n"
      ],
      "text/plain": [
       "      [,1]        [,2]       [,3]       [,4]        [,5]        [,6]       \n",
       " [1,] -0.56047565  1.2240818 -1.0678237  0.42646422 -0.69470698  0.25331851\n",
       " [2,] -0.23017749  0.3598138 -0.2179749 -0.29507148 -0.20791728 -0.02854676\n",
       " [3,]  1.55870831  0.4007715 -1.0260044  0.89512566 -1.26539635 -0.04287046\n",
       " [4,]  0.07050839  0.1106827 -0.7288912  0.87813349  2.16895597  1.36860228\n",
       " [5,]  0.12928774 -0.5558411 -0.6250393  0.82158108  1.20796200 -0.22577099\n",
       " [6,]  1.71506499  1.7869131 -1.6866933  0.68864025 -1.12310858  1.51647060\n",
       " [7,]  0.46091621  0.4978505  0.8377870  0.55391765 -0.40288484 -1.54875280\n",
       " [8,] -1.26506123 -1.9666172  0.1533731 -0.06191171 -0.46665535  0.58461375\n",
       " [9,] -0.68685285  0.7013559 -1.1381369 -0.30596266  0.77996512  0.12385424\n",
       "[10,] -0.44566197 -0.4727914  1.2538149 -0.38047100 -0.08336907  0.21594157\n",
       "      [,7]        [,8]       [,9]         [,10]     \n",
       " [1,]  0.37963948 -0.4910312  0.005764186 -1.0819256\n",
       " [2,] -0.50232345 -2.3091689  0.385280401 -6.6592693\n",
       " [3,] -0.33320738  1.0057385 -0.370660032  1.9426881\n",
       " [4,] -1.01857538 -0.7092008  0.644376549 -1.8574246\n",
       " [5,] -1.07179123 -0.6880086 -0.220486562 -3.5767902\n",
       " [6,]  0.30352864  1.0255714  0.331781964  4.0438067\n",
       " [7,]  0.44820978 -0.2847730  1.096839013  1.7875688\n",
       " [8,]  0.05300423 -1.2207177  0.435181491 -2.7387859\n",
       " [9,]  0.92226747  0.1813035 -0.325931586  0.8143147\n",
       "[10,]  2.05008469 -0.1388914  1.148807618  3.9310258"
      ]
     },
     "metadata": {},
     "output_type": "display_data"
    }
   ],
   "source": [
    "A <- matrix(c(a, b, c , d, e, f, g, h, i, j),  nrow=10, ncol = 10, byrow=FALSE)\n",
    "A"
   ]
  },
  {
   "cell_type": "code",
   "execution_count": 8,
   "id": "47a63fbe",
   "metadata": {},
   "outputs": [
    {
     "name": "stdout",
     "output_type": "stream",
     "text": [
      "[1] 0\n"
     ]
    }
   ],
   "source": [
    "print(det(A))"
   ]
  },
  {
   "cell_type": "code",
   "execution_count": 9,
   "id": "a074009b",
   "metadata": {},
   "outputs": [
    {
     "ename": "ERROR",
     "evalue": "Error in solve.default(A): Lapack routine dgesv: system is exactly singular: U[10,10] = 0\n",
     "output_type": "error",
     "traceback": [
      "Error in solve.default(A): Lapack routine dgesv: system is exactly singular: U[10,10] = 0\nTraceback:\n",
      "1. solve(A)",
      "2. solve.default(A)"
     ]
    }
   ],
   "source": [
    "solve(A)\n"
   ]
  },
  {
   "cell_type": "markdown",
   "id": "b54b26de",
   "metadata": {},
   "source": [
    "The fact that we have the 10th vector as a linear combination of the other three vectors makes that the determinat of the A matrix be 0. This means that we won't be able to get the inverse of A matrix. It's important to be able to get the inverse of our matrix if we would like to get our estimators. "
   ]
  },
  {
   "cell_type": "markdown",
   "id": "5f5d654c",
   "metadata": {},
   "source": [
    "# Analyzing RCT data with Precision Adjustment"
   ]
  },
  {
   "cell_type": "markdown",
   "id": "63cc64ac",
   "metadata": {},
   "source": [
    "# Data\n",
    "In this lab, we analyze the Pennsylvania re-employment bonus experiment, which was previously studied in \"Sequential testing of duration data: the case of the Pennsylvania ‘reemployment bonus’ experiment\" (Bilias, 2000), among others. These experiments were conducted in the 1980s by the U.S. Department of Labor to test the incentive effects of alternative compensation schemes for unemployment insurance (UI). In these experiments, UI claimants were randomly assigned either to a control group or one of five treatment groups. Actually, there are six treatment groups in the experiments. Here we focus on treatment group 4, but feel free to explore other treatment groups. In the control group the current rules of the UI applied. Individuals in the treatment groups were offered a cash bonus if they found a job within some pre-specified period of time (qualification period), provided that the job was retained for a specified duration. The treatments differed in the level of the bonus, the length of the qualification period, and whether the bonus was declining over time in the qualification period; see http://qed.econ.queensu.ca/jae/2000-v15.6/bilias/readme.b.txt for further details on data."
   ]
  },
  {
   "cell_type": "code",
   "execution_count": null,
   "id": "61544beb",
   "metadata": {},
   "outputs": [],
   "source": []
  },
  {
   "cell_type": "code",
   "execution_count": 1,
   "id": "406f2a4b",
   "metadata": {
    "scrolled": true
   },
   "outputs": [
    {
     "data": {
      "text/html": [
       "<table>\n",
       "<thead><tr><th scope=col>abdt</th><th scope=col>tg</th><th scope=col>inuidur1</th><th scope=col>inuidur2</th><th scope=col>female</th><th scope=col>black</th><th scope=col>hispanic</th><th scope=col>othrace</th><th scope=col>dep</th><th scope=col>q1</th><th scope=col>...</th><th scope=col>q5</th><th scope=col>q6</th><th scope=col>recall</th><th scope=col>agelt35</th><th scope=col>agegt54</th><th scope=col>durable</th><th scope=col>nondurable</th><th scope=col>lusd</th><th scope=col>husd</th><th scope=col>muld</th></tr></thead>\n",
       "<tbody>\n",
       "\t<tr><td>10824</td><td>0    </td><td>18   </td><td>18   </td><td>0    </td><td>0    </td><td>0    </td><td>0    </td><td>2    </td><td>0    </td><td>...  </td><td>1    </td><td>0    </td><td>0    </td><td>0    </td><td>0    </td><td>0    </td><td>0    </td><td>0    </td><td>1    </td><td>0    </td></tr>\n",
       "\t<tr><td>10635</td><td>2    </td><td> 7   </td><td> 3   </td><td>0    </td><td>0    </td><td>0    </td><td>0    </td><td>0    </td><td>0    </td><td>...  </td><td>0    </td><td>0    </td><td>0    </td><td>1    </td><td>0    </td><td>0    </td><td>0    </td><td>1    </td><td>0    </td><td>0    </td></tr>\n",
       "\t<tr><td>10551</td><td>5    </td><td>18   </td><td> 6   </td><td>1    </td><td>0    </td><td>0    </td><td>0    </td><td>0    </td><td>0    </td><td>...  </td><td>0    </td><td>0    </td><td>1    </td><td>0    </td><td>1    </td><td>0    </td><td>0    </td><td>0    </td><td>0    </td><td>0    </td></tr>\n",
       "\t<tr><td>10824</td><td>0    </td><td> 1   </td><td> 1   </td><td>0    </td><td>0    </td><td>0    </td><td>0    </td><td>0    </td><td>0    </td><td>...  </td><td>1    </td><td>0    </td><td>0    </td><td>0    </td><td>0    </td><td>0    </td><td>0    </td><td>1    </td><td>0    </td><td>0    </td></tr>\n",
       "\t<tr><td>10747</td><td>0    </td><td>27   </td><td>27   </td><td>0    </td><td>0    </td><td>0    </td><td>0    </td><td>0    </td><td>0    </td><td>...  </td><td>0    </td><td>0    </td><td>0    </td><td>0    </td><td>0    </td><td>0    </td><td>0    </td><td>1    </td><td>0    </td><td>0    </td></tr>\n",
       "\t<tr><td>10544</td><td>6    </td><td> 7   </td><td> 7   </td><td>0    </td><td>0    </td><td>0    </td><td>0    </td><td>0    </td><td>0    </td><td>...  </td><td>0    </td><td>0    </td><td>0    </td><td>0    </td><td>0    </td><td>0    </td><td>0    </td><td>0    </td><td>0    </td><td>1    </td></tr>\n",
       "\t<tr><td>10845</td><td>1    </td><td> 1   </td><td> 1   </td><td>0    </td><td>0    </td><td>0    </td><td>0    </td><td>0    </td><td>0    </td><td>...  </td><td>1    </td><td>0    </td><td>0    </td><td>1    </td><td>0    </td><td>0    </td><td>0    </td><td>1    </td><td>0    </td><td>0    </td></tr>\n",
       "\t<tr><td>10670</td><td>3    </td><td> 3   </td><td> 3   </td><td>1    </td><td>0    </td><td>0    </td><td>0    </td><td>2    </td><td>0    </td><td>...  </td><td>0    </td><td>0    </td><td>0    </td><td>1    </td><td>0    </td><td>0    </td><td>0    </td><td>0    </td><td>0    </td><td>1    </td></tr>\n",
       "\t<tr><td>10768</td><td>3    </td><td>28   </td><td>11   </td><td>1    </td><td>0    </td><td>0    </td><td>0    </td><td>0    </td><td>0    </td><td>...  </td><td>0    </td><td>0    </td><td>0    </td><td>0    </td><td>0    </td><td>0    </td><td>0    </td><td>0    </td><td>0    </td><td>1    </td></tr>\n",
       "\t<tr><td>10754</td><td>2    </td><td>20   </td><td>20   </td><td>1    </td><td>0    </td><td>0    </td><td>0    </td><td>0    </td><td>0    </td><td>...  </td><td>0    </td><td>0    </td><td>0    </td><td>0    </td><td>0    </td><td>0    </td><td>0    </td><td>0    </td><td>0    </td><td>1    </td></tr>\n",
       "\t<tr><td>10712</td><td>3    </td><td> 6   </td><td> 6   </td><td>0    </td><td>0    </td><td>0    </td><td>0    </td><td>2    </td><td>0    </td><td>...  </td><td>0    </td><td>0    </td><td>0    </td><td>0    </td><td>0    </td><td>1    </td><td>0    </td><td>0    </td><td>0    </td><td>1    </td></tr>\n",
       "\t<tr><td>10607</td><td>4    </td><td> 9   </td><td> 9   </td><td>0    </td><td>0    </td><td>0    </td><td>0    </td><td>0    </td><td>0    </td><td>...  </td><td>0    </td><td>0    </td><td>0    </td><td>1    </td><td>0    </td><td>0    </td><td>0    </td><td>0    </td><td>0    </td><td>1    </td></tr>\n",
       "\t<tr><td>10831</td><td>0    </td><td>27   </td><td>27   </td><td>0    </td><td>0    </td><td>0    </td><td>0    </td><td>1    </td><td>0    </td><td>...  </td><td>1    </td><td>0    </td><td>0    </td><td>0    </td><td>1    </td><td>1    </td><td>0    </td><td>1    </td><td>0    </td><td>0    </td></tr>\n",
       "\t<tr><td>10845</td><td>0    </td><td>27   </td><td>27   </td><td>1    </td><td>0    </td><td>0    </td><td>0    </td><td>0    </td><td>0    </td><td>...  </td><td>1    </td><td>0    </td><td>0    </td><td>0    </td><td>1    </td><td>0    </td><td>0    </td><td>1    </td><td>0    </td><td>0    </td></tr>\n",
       "\t<tr><td>10831</td><td>0    </td><td> 9   </td><td> 9   </td><td>1    </td><td>0    </td><td>0    </td><td>0    </td><td>1    </td><td>0    </td><td>...  </td><td>1    </td><td>0    </td><td>0    </td><td>0    </td><td>1    </td><td>0    </td><td>0    </td><td>1    </td><td>0    </td><td>0    </td></tr>\n",
       "\t<tr><td>10551</td><td>3    </td><td>27   </td><td>27   </td><td>1    </td><td>0    </td><td>0    </td><td>0    </td><td>0    </td><td>0    </td><td>...  </td><td>0    </td><td>0    </td><td>0    </td><td>1    </td><td>0    </td><td>0    </td><td>1    </td><td>1    </td><td>0    </td><td>0    </td></tr>\n",
       "\t<tr><td>10859</td><td>0    </td><td>27   </td><td>27   </td><td>1    </td><td>0    </td><td>0    </td><td>0    </td><td>1    </td><td>0    </td><td>...  </td><td>0    </td><td>1    </td><td>0    </td><td>0    </td><td>0    </td><td>0    </td><td>0    </td><td>1    </td><td>0    </td><td>0    </td></tr>\n",
       "\t<tr><td>10740</td><td>1    </td><td>15   </td><td>15   </td><td>1    </td><td>0    </td><td>0    </td><td>0    </td><td>2    </td><td>0    </td><td>...  </td><td>0    </td><td>0    </td><td>0    </td><td>0    </td><td>0    </td><td>0    </td><td>0    </td><td>1    </td><td>0    </td><td>0    </td></tr>\n",
       "\t<tr><td>10537</td><td>1    </td><td> 1   </td><td> 1   </td><td>0    </td><td>1    </td><td>0    </td><td>0    </td><td>0    </td><td>0    </td><td>...  </td><td>0    </td><td>0    </td><td>0    </td><td>1    </td><td>0    </td><td>0    </td><td>0    </td><td>0    </td><td>0    </td><td>1    </td></tr>\n",
       "\t<tr><td>10663</td><td>6    </td><td>26   </td><td>26   </td><td>1    </td><td>0    </td><td>0    </td><td>0    </td><td>0    </td><td>0    </td><td>...  </td><td>0    </td><td>0    </td><td>0    </td><td>0    </td><td>1    </td><td>0    </td><td>0    </td><td>0    </td><td>1    </td><td>0    </td></tr>\n",
       "\t<tr><td>10656</td><td>5    </td><td>30   </td><td> 9   </td><td>0    </td><td>0    </td><td>0    </td><td>0    </td><td>1    </td><td>0    </td><td>...  </td><td>0    </td><td>0    </td><td>0    </td><td>0    </td><td>0    </td><td>0    </td><td>0    </td><td>1    </td><td>0    </td><td>0    </td></tr>\n",
       "\t<tr><td>10628</td><td>2    </td><td>27   </td><td>27   </td><td>0    </td><td>0    </td><td>0    </td><td>0    </td><td>0    </td><td>0    </td><td>...  </td><td>0    </td><td>0    </td><td>0    </td><td>0    </td><td>0    </td><td>0    </td><td>0    </td><td>0    </td><td>0    </td><td>1    </td></tr>\n",
       "\t<tr><td>10516</td><td>0    </td><td>15   </td><td>15   </td><td>1    </td><td>0    </td><td>0    </td><td>0    </td><td>0    </td><td>0    </td><td>...  </td><td>0    </td><td>0    </td><td>0    </td><td>0    </td><td>0    </td><td>0    </td><td>0    </td><td>1    </td><td>0    </td><td>0    </td></tr>\n",
       "\t<tr><td>10803</td><td>2    </td><td> 3   </td><td> 3   </td><td>1    </td><td>0    </td><td>0    </td><td>0    </td><td>0    </td><td>0    </td><td>...  </td><td>1    </td><td>0    </td><td>0    </td><td>0    </td><td>0    </td><td>0    </td><td>0    </td><td>0    </td><td>1    </td><td>0    </td></tr>\n",
       "\t<tr><td>10663</td><td>0    </td><td>28   </td><td>11   </td><td>1    </td><td>0    </td><td>0    </td><td>0    </td><td>0    </td><td>0    </td><td>...  </td><td>0    </td><td>0    </td><td>0    </td><td>0    </td><td>1    </td><td>0    </td><td>0    </td><td>1    </td><td>0    </td><td>0    </td></tr>\n",
       "\t<tr><td>10747</td><td>0    </td><td>12   </td><td>12   </td><td>1    </td><td>0    </td><td>0    </td><td>0    </td><td>2    </td><td>0    </td><td>...  </td><td>0    </td><td>0    </td><td>1    </td><td>1    </td><td>0    </td><td>0    </td><td>0    </td><td>0    </td><td>0    </td><td>1    </td></tr>\n",
       "\t<tr><td>10551</td><td>4    </td><td>22   </td><td>22   </td><td>1    </td><td>0    </td><td>1    </td><td>0    </td><td>2    </td><td>0    </td><td>...  </td><td>0    </td><td>0    </td><td>0    </td><td>1    </td><td>0    </td><td>0    </td><td>0    </td><td>0    </td><td>0    </td><td>1    </td></tr>\n",
       "\t<tr><td>10635</td><td>2    </td><td>17   </td><td>10   </td><td>1    </td><td>0    </td><td>0    </td><td>0    </td><td>0    </td><td>0    </td><td>...  </td><td>0    </td><td>0    </td><td>0    </td><td>0    </td><td>0    </td><td>0    </td><td>0    </td><td>1    </td><td>0    </td><td>0    </td></tr>\n",
       "\t<tr><td>10761</td><td>2    </td><td>13   </td><td>13   </td><td>0    </td><td>0    </td><td>0    </td><td>0    </td><td>0    </td><td>0    </td><td>...  </td><td>0    </td><td>0    </td><td>0    </td><td>1    </td><td>0    </td><td>0    </td><td>0    </td><td>0    </td><td>0    </td><td>1    </td></tr>\n",
       "\t<tr><td>10586</td><td>1    </td><td> 8   </td><td> 8   </td><td>1    </td><td>0    </td><td>0    </td><td>0    </td><td>1    </td><td>0    </td><td>...  </td><td>0    </td><td>0    </td><td>0    </td><td>0    </td><td>0    </td><td>0    </td><td>0    </td><td>0    </td><td>0    </td><td>1    </td></tr>\n",
       "\t<tr><td>...</td><td>...</td><td>...</td><td>...</td><td>...</td><td>...</td><td>...</td><td>...</td><td>...</td><td>...</td><td>   </td><td>...</td><td>...</td><td>...</td><td>...</td><td>...</td><td>...</td><td>...</td><td>...</td><td>...</td><td>...</td></tr>\n",
       "\t<tr><td>10873</td><td>3    </td><td>25   </td><td>25   </td><td>0    </td><td>0    </td><td>1    </td><td>0    </td><td>0    </td><td>0    </td><td>...  </td><td>0    </td><td>1    </td><td>0    </td><td>1    </td><td>0    </td><td>0    </td><td>0    </td><td>1    </td><td>0    </td><td>0    </td></tr>\n",
       "\t<tr><td>10873</td><td>1    </td><td>11   </td><td>11   </td><td>0    </td><td>0    </td><td>1    </td><td>0    </td><td>0    </td><td>0    </td><td>...  </td><td>0    </td><td>1    </td><td>0    </td><td>1    </td><td>0    </td><td>0    </td><td>0    </td><td>0    </td><td>0    </td><td>1    </td></tr>\n",
       "\t<tr><td>10614</td><td>6    </td><td> 5   </td><td> 5   </td><td>0    </td><td>0    </td><td>1    </td><td>0    </td><td>2    </td><td>0    </td><td>...  </td><td>0    </td><td>0    </td><td>0    </td><td>1    </td><td>0    </td><td>1    </td><td>0    </td><td>0    </td><td>0    </td><td>1    </td></tr>\n",
       "\t<tr><td>10621</td><td>3    </td><td> 1   </td><td> 1   </td><td>0    </td><td>0    </td><td>1    </td><td>0    </td><td>0    </td><td>0    </td><td>...  </td><td>0    </td><td>0    </td><td>0    </td><td>1    </td><td>0    </td><td>1    </td><td>0    </td><td>0    </td><td>0    </td><td>1    </td></tr>\n",
       "\t<tr><td>10642</td><td>0    </td><td>10   </td><td>10   </td><td>0    </td><td>0    </td><td>0    </td><td>0    </td><td>0    </td><td>0    </td><td>...  </td><td>0    </td><td>0    </td><td>0    </td><td>1    </td><td>0    </td><td>1    </td><td>0    </td><td>1    </td><td>0    </td><td>0    </td></tr>\n",
       "\t<tr><td>10796</td><td>3    </td><td>10   </td><td>10   </td><td>0    </td><td>0    </td><td>0    </td><td>0    </td><td>2    </td><td>0    </td><td>...  </td><td>1    </td><td>0    </td><td>0    </td><td>0    </td><td>0    </td><td>1    </td><td>0    </td><td>1    </td><td>0    </td><td>0    </td></tr>\n",
       "\t<tr><td>10852</td><td>5    </td><td> 4   </td><td> 4   </td><td>1    </td><td>0    </td><td>0    </td><td>0    </td><td>0    </td><td>0    </td><td>...  </td><td>1    </td><td>0    </td><td>0    </td><td>0    </td><td>0    </td><td>1    </td><td>0    </td><td>1    </td><td>0    </td><td>0    </td></tr>\n",
       "\t<tr><td>10670</td><td>0    </td><td>20   </td><td>20   </td><td>0    </td><td>0    </td><td>0    </td><td>0    </td><td>0    </td><td>0    </td><td>...  </td><td>0    </td><td>0    </td><td>0    </td><td>1    </td><td>0    </td><td>1    </td><td>0    </td><td>0    </td><td>1    </td><td>0    </td></tr>\n",
       "\t<tr><td>10530</td><td>0    </td><td>27   </td><td>27   </td><td>1    </td><td>0    </td><td>0    </td><td>1    </td><td>0    </td><td>0    </td><td>...  </td><td>0    </td><td>0    </td><td>0    </td><td>1    </td><td>0    </td><td>0    </td><td>0    </td><td>0    </td><td>0    </td><td>1    </td></tr>\n",
       "\t<tr><td>10691</td><td>0    </td><td>27   </td><td>27   </td><td>1    </td><td>0    </td><td>0    </td><td>1    </td><td>0    </td><td>0    </td><td>...  </td><td>0    </td><td>0    </td><td>0    </td><td>0    </td><td>0    </td><td>1    </td><td>0    </td><td>1    </td><td>0    </td><td>0    </td></tr>\n",
       "\t<tr><td>10796</td><td>0    </td><td>15   </td><td>15   </td><td>1    </td><td>0    </td><td>0    </td><td>1    </td><td>0    </td><td>0    </td><td>...  </td><td>1    </td><td>0    </td><td>0    </td><td>1    </td><td>0    </td><td>1    </td><td>0    </td><td>1    </td><td>0    </td><td>0    </td></tr>\n",
       "\t<tr><td>10635</td><td>4    </td><td>20   </td><td>20   </td><td>0    </td><td>0    </td><td>0    </td><td>1    </td><td>0    </td><td>0    </td><td>...  </td><td>0    </td><td>0    </td><td>0    </td><td>1    </td><td>0    </td><td>0    </td><td>0    </td><td>0    </td><td>0    </td><td>1    </td></tr>\n",
       "\t<tr><td>10859</td><td>0    </td><td> 1   </td><td> 1   </td><td>1    </td><td>0    </td><td>0    </td><td>1    </td><td>0    </td><td>0    </td><td>...  </td><td>0    </td><td>1    </td><td>0    </td><td>1    </td><td>0    </td><td>0    </td><td>0    </td><td>1    </td><td>0    </td><td>0    </td></tr>\n",
       "\t<tr><td>10663</td><td>5    </td><td> 1   </td><td> 1   </td><td>1    </td><td>1    </td><td>0    </td><td>0    </td><td>0    </td><td>0    </td><td>...  </td><td>0    </td><td>0    </td><td>0    </td><td>0    </td><td>0    </td><td>0    </td><td>0    </td><td>1    </td><td>0    </td><td>0    </td></tr>\n",
       "\t<tr><td>10789</td><td>5    </td><td> 2   </td><td> 2   </td><td>1    </td><td>0    </td><td>0    </td><td>1    </td><td>2    </td><td>0    </td><td>...  </td><td>1    </td><td>0    </td><td>0    </td><td>1    </td><td>0    </td><td>1    </td><td>0    </td><td>1    </td><td>0    </td><td>0    </td></tr>\n",
       "\t<tr><td>10796</td><td>0    </td><td>23   </td><td>23   </td><td>0    </td><td>1    </td><td>0    </td><td>0    </td><td>0    </td><td>0    </td><td>...  </td><td>1    </td><td>0    </td><td>0    </td><td>0    </td><td>0    </td><td>0    </td><td>0    </td><td>0    </td><td>0    </td><td>1    </td></tr>\n",
       "\t<tr><td>10740</td><td>4    </td><td>13   </td><td>13   </td><td>1    </td><td>1    </td><td>0    </td><td>0    </td><td>0    </td><td>0    </td><td>...  </td><td>0    </td><td>0    </td><td>1    </td><td>1    </td><td>0    </td><td>0    </td><td>0    </td><td>1    </td><td>0    </td><td>0    </td></tr>\n",
       "\t<tr><td>10845</td><td>0    </td><td> 6   </td><td> 6   </td><td>1    </td><td>0    </td><td>0    </td><td>1    </td><td>2    </td><td>0    </td><td>...  </td><td>1    </td><td>0    </td><td>0    </td><td>0    </td><td>0    </td><td>0    </td><td>1    </td><td>0    </td><td>0    </td><td>1    </td></tr>\n",
       "\t<tr><td>10705</td><td>2    </td><td>14   </td><td>14   </td><td>0    </td><td>1    </td><td>0    </td><td>0    </td><td>0    </td><td>0    </td><td>...  </td><td>0    </td><td>0    </td><td>0    </td><td>0    </td><td>0    </td><td>1    </td><td>0    </td><td>0    </td><td>0    </td><td>1    </td></tr>\n",
       "\t<tr><td>10768</td><td>3    </td><td>28   </td><td>28   </td><td>0    </td><td>0    </td><td>1    </td><td>0    </td><td>0    </td><td>0    </td><td>...  </td><td>1    </td><td>0    </td><td>1    </td><td>1    </td><td>0    </td><td>0    </td><td>0    </td><td>1    </td><td>0    </td><td>0    </td></tr>\n",
       "\t<tr><td>10747</td><td>3    </td><td>15   </td><td>15   </td><td>1    </td><td>0    </td><td>1    </td><td>0    </td><td>0    </td><td>0    </td><td>...  </td><td>0    </td><td>0    </td><td>0    </td><td>1    </td><td>0    </td><td>0    </td><td>0    </td><td>1    </td><td>0    </td><td>0    </td></tr>\n",
       "\t<tr><td>10628</td><td>4    </td><td>10   </td><td>10   </td><td>0    </td><td>0    </td><td>1    </td><td>0    </td><td>0    </td><td>0    </td><td>...  </td><td>0    </td><td>0    </td><td>0    </td><td>1    </td><td>0    </td><td>0    </td><td>0    </td><td>0    </td><td>0    </td><td>1    </td></tr>\n",
       "\t<tr><td>10523</td><td>4    </td><td> 4   </td><td> 4   </td><td>0    </td><td>0    </td><td>1    </td><td>0    </td><td>2    </td><td>0    </td><td>...  </td><td>0    </td><td>0    </td><td>0    </td><td>0    </td><td>0    </td><td>0    </td><td>0    </td><td>0    </td><td>0    </td><td>1    </td></tr>\n",
       "\t<tr><td>10558</td><td>0    </td><td> 9   </td><td> 9   </td><td>0    </td><td>0    </td><td>0    </td><td>0    </td><td>2    </td><td>0    </td><td>...  </td><td>0    </td><td>0    </td><td>0    </td><td>1    </td><td>0    </td><td>0    </td><td>0    </td><td>1    </td><td>0    </td><td>0    </td></tr>\n",
       "\t<tr><td>10621</td><td>1    </td><td> 1   </td><td> 1   </td><td>0    </td><td>0    </td><td>0    </td><td>0    </td><td>0    </td><td>0    </td><td>...  </td><td>0    </td><td>0    </td><td>0    </td><td>1    </td><td>0    </td><td>0    </td><td>0    </td><td>1    </td><td>0    </td><td>0    </td></tr>\n",
       "\t<tr><td>10831</td><td>5    </td><td>27   </td><td>27   </td><td>0    </td><td>0    </td><td>0    </td><td>0    </td><td>0    </td><td>0    </td><td>...  </td><td>1    </td><td>0    </td><td>1    </td><td>0    </td><td>1    </td><td>1    </td><td>0    </td><td>0    </td><td>1    </td><td>0    </td></tr>\n",
       "\t<tr><td>10677</td><td>2    </td><td> 4   </td><td> 4   </td><td>1    </td><td>0    </td><td>0    </td><td>0    </td><td>0    </td><td>0    </td><td>...  </td><td>0    </td><td>0    </td><td>0    </td><td>0    </td><td>1    </td><td>0    </td><td>0    </td><td>1    </td><td>0    </td><td>0    </td></tr>\n",
       "\t<tr><td>10817</td><td>4    </td><td> 4   </td><td> 4   </td><td>0    </td><td>0    </td><td>0    </td><td>0    </td><td>0    </td><td>0    </td><td>...  </td><td>1    </td><td>0    </td><td>0    </td><td>0    </td><td>1    </td><td>0    </td><td>0    </td><td>0    </td><td>0    </td><td>0    </td></tr>\n",
       "\t<tr><td>10691</td><td>0    </td><td>27   </td><td>27   </td><td>0    </td><td>0    </td><td>0    </td><td>0    </td><td>0    </td><td>0    </td><td>...  </td><td>0    </td><td>0    </td><td>0    </td><td>0    </td><td>1    </td><td>1    </td><td>0    </td><td>1    </td><td>0    </td><td>0    </td></tr>\n",
       "\t<tr><td>10677</td><td>5    </td><td>25   </td><td>25   </td><td>0    </td><td>0    </td><td>0    </td><td>0    </td><td>0    </td><td>0    </td><td>...  </td><td>0    </td><td>0    </td><td>0    </td><td>0    </td><td>1    </td><td>0    </td><td>1    </td><td>0    </td><td>1    </td><td>0    </td></tr>\n",
       "</tbody>\n",
       "</table>\n"
      ],
      "text/latex": [
       "\\begin{tabular}{r|lllllllllllllllllllllll}\n",
       " abdt & tg & inuidur1 & inuidur2 & female & black & hispanic & othrace & dep & q1 & ... & q5 & q6 & recall & agelt35 & agegt54 & durable & nondurable & lusd & husd & muld\\\\\n",
       "\\hline\n",
       "\t 10824 & 0     & 18    & 18    & 0     & 0     & 0     & 0     & 2     & 0     & ...   & 1     & 0     & 0     & 0     & 0     & 0     & 0     & 0     & 1     & 0    \\\\\n",
       "\t 10635 & 2     &  7    &  3    & 0     & 0     & 0     & 0     & 0     & 0     & ...   & 0     & 0     & 0     & 1     & 0     & 0     & 0     & 1     & 0     & 0    \\\\\n",
       "\t 10551 & 5     & 18    &  6    & 1     & 0     & 0     & 0     & 0     & 0     & ...   & 0     & 0     & 1     & 0     & 1     & 0     & 0     & 0     & 0     & 0    \\\\\n",
       "\t 10824 & 0     &  1    &  1    & 0     & 0     & 0     & 0     & 0     & 0     & ...   & 1     & 0     & 0     & 0     & 0     & 0     & 0     & 1     & 0     & 0    \\\\\n",
       "\t 10747 & 0     & 27    & 27    & 0     & 0     & 0     & 0     & 0     & 0     & ...   & 0     & 0     & 0     & 0     & 0     & 0     & 0     & 1     & 0     & 0    \\\\\n",
       "\t 10544 & 6     &  7    &  7    & 0     & 0     & 0     & 0     & 0     & 0     & ...   & 0     & 0     & 0     & 0     & 0     & 0     & 0     & 0     & 0     & 1    \\\\\n",
       "\t 10845 & 1     &  1    &  1    & 0     & 0     & 0     & 0     & 0     & 0     & ...   & 1     & 0     & 0     & 1     & 0     & 0     & 0     & 1     & 0     & 0    \\\\\n",
       "\t 10670 & 3     &  3    &  3    & 1     & 0     & 0     & 0     & 2     & 0     & ...   & 0     & 0     & 0     & 1     & 0     & 0     & 0     & 0     & 0     & 1    \\\\\n",
       "\t 10768 & 3     & 28    & 11    & 1     & 0     & 0     & 0     & 0     & 0     & ...   & 0     & 0     & 0     & 0     & 0     & 0     & 0     & 0     & 0     & 1    \\\\\n",
       "\t 10754 & 2     & 20    & 20    & 1     & 0     & 0     & 0     & 0     & 0     & ...   & 0     & 0     & 0     & 0     & 0     & 0     & 0     & 0     & 0     & 1    \\\\\n",
       "\t 10712 & 3     &  6    &  6    & 0     & 0     & 0     & 0     & 2     & 0     & ...   & 0     & 0     & 0     & 0     & 0     & 1     & 0     & 0     & 0     & 1    \\\\\n",
       "\t 10607 & 4     &  9    &  9    & 0     & 0     & 0     & 0     & 0     & 0     & ...   & 0     & 0     & 0     & 1     & 0     & 0     & 0     & 0     & 0     & 1    \\\\\n",
       "\t 10831 & 0     & 27    & 27    & 0     & 0     & 0     & 0     & 1     & 0     & ...   & 1     & 0     & 0     & 0     & 1     & 1     & 0     & 1     & 0     & 0    \\\\\n",
       "\t 10845 & 0     & 27    & 27    & 1     & 0     & 0     & 0     & 0     & 0     & ...   & 1     & 0     & 0     & 0     & 1     & 0     & 0     & 1     & 0     & 0    \\\\\n",
       "\t 10831 & 0     &  9    &  9    & 1     & 0     & 0     & 0     & 1     & 0     & ...   & 1     & 0     & 0     & 0     & 1     & 0     & 0     & 1     & 0     & 0    \\\\\n",
       "\t 10551 & 3     & 27    & 27    & 1     & 0     & 0     & 0     & 0     & 0     & ...   & 0     & 0     & 0     & 1     & 0     & 0     & 1     & 1     & 0     & 0    \\\\\n",
       "\t 10859 & 0     & 27    & 27    & 1     & 0     & 0     & 0     & 1     & 0     & ...   & 0     & 1     & 0     & 0     & 0     & 0     & 0     & 1     & 0     & 0    \\\\\n",
       "\t 10740 & 1     & 15    & 15    & 1     & 0     & 0     & 0     & 2     & 0     & ...   & 0     & 0     & 0     & 0     & 0     & 0     & 0     & 1     & 0     & 0    \\\\\n",
       "\t 10537 & 1     &  1    &  1    & 0     & 1     & 0     & 0     & 0     & 0     & ...   & 0     & 0     & 0     & 1     & 0     & 0     & 0     & 0     & 0     & 1    \\\\\n",
       "\t 10663 & 6     & 26    & 26    & 1     & 0     & 0     & 0     & 0     & 0     & ...   & 0     & 0     & 0     & 0     & 1     & 0     & 0     & 0     & 1     & 0    \\\\\n",
       "\t 10656 & 5     & 30    &  9    & 0     & 0     & 0     & 0     & 1     & 0     & ...   & 0     & 0     & 0     & 0     & 0     & 0     & 0     & 1     & 0     & 0    \\\\\n",
       "\t 10628 & 2     & 27    & 27    & 0     & 0     & 0     & 0     & 0     & 0     & ...   & 0     & 0     & 0     & 0     & 0     & 0     & 0     & 0     & 0     & 1    \\\\\n",
       "\t 10516 & 0     & 15    & 15    & 1     & 0     & 0     & 0     & 0     & 0     & ...   & 0     & 0     & 0     & 0     & 0     & 0     & 0     & 1     & 0     & 0    \\\\\n",
       "\t 10803 & 2     &  3    &  3    & 1     & 0     & 0     & 0     & 0     & 0     & ...   & 1     & 0     & 0     & 0     & 0     & 0     & 0     & 0     & 1     & 0    \\\\\n",
       "\t 10663 & 0     & 28    & 11    & 1     & 0     & 0     & 0     & 0     & 0     & ...   & 0     & 0     & 0     & 0     & 1     & 0     & 0     & 1     & 0     & 0    \\\\\n",
       "\t 10747 & 0     & 12    & 12    & 1     & 0     & 0     & 0     & 2     & 0     & ...   & 0     & 0     & 1     & 1     & 0     & 0     & 0     & 0     & 0     & 1    \\\\\n",
       "\t 10551 & 4     & 22    & 22    & 1     & 0     & 1     & 0     & 2     & 0     & ...   & 0     & 0     & 0     & 1     & 0     & 0     & 0     & 0     & 0     & 1    \\\\\n",
       "\t 10635 & 2     & 17    & 10    & 1     & 0     & 0     & 0     & 0     & 0     & ...   & 0     & 0     & 0     & 0     & 0     & 0     & 0     & 1     & 0     & 0    \\\\\n",
       "\t 10761 & 2     & 13    & 13    & 0     & 0     & 0     & 0     & 0     & 0     & ...   & 0     & 0     & 0     & 1     & 0     & 0     & 0     & 0     & 0     & 1    \\\\\n",
       "\t 10586 & 1     &  8    &  8    & 1     & 0     & 0     & 0     & 1     & 0     & ...   & 0     & 0     & 0     & 0     & 0     & 0     & 0     & 0     & 0     & 1    \\\\\n",
       "\t ... & ... & ... & ... & ... & ... & ... & ... & ... & ... &     & ... & ... & ... & ... & ... & ... & ... & ... & ... & ...\\\\\n",
       "\t 10873 & 3     & 25    & 25    & 0     & 0     & 1     & 0     & 0     & 0     & ...   & 0     & 1     & 0     & 1     & 0     & 0     & 0     & 1     & 0     & 0    \\\\\n",
       "\t 10873 & 1     & 11    & 11    & 0     & 0     & 1     & 0     & 0     & 0     & ...   & 0     & 1     & 0     & 1     & 0     & 0     & 0     & 0     & 0     & 1    \\\\\n",
       "\t 10614 & 6     &  5    &  5    & 0     & 0     & 1     & 0     & 2     & 0     & ...   & 0     & 0     & 0     & 1     & 0     & 1     & 0     & 0     & 0     & 1    \\\\\n",
       "\t 10621 & 3     &  1    &  1    & 0     & 0     & 1     & 0     & 0     & 0     & ...   & 0     & 0     & 0     & 1     & 0     & 1     & 0     & 0     & 0     & 1    \\\\\n",
       "\t 10642 & 0     & 10    & 10    & 0     & 0     & 0     & 0     & 0     & 0     & ...   & 0     & 0     & 0     & 1     & 0     & 1     & 0     & 1     & 0     & 0    \\\\\n",
       "\t 10796 & 3     & 10    & 10    & 0     & 0     & 0     & 0     & 2     & 0     & ...   & 1     & 0     & 0     & 0     & 0     & 1     & 0     & 1     & 0     & 0    \\\\\n",
       "\t 10852 & 5     &  4    &  4    & 1     & 0     & 0     & 0     & 0     & 0     & ...   & 1     & 0     & 0     & 0     & 0     & 1     & 0     & 1     & 0     & 0    \\\\\n",
       "\t 10670 & 0     & 20    & 20    & 0     & 0     & 0     & 0     & 0     & 0     & ...   & 0     & 0     & 0     & 1     & 0     & 1     & 0     & 0     & 1     & 0    \\\\\n",
       "\t 10530 & 0     & 27    & 27    & 1     & 0     & 0     & 1     & 0     & 0     & ...   & 0     & 0     & 0     & 1     & 0     & 0     & 0     & 0     & 0     & 1    \\\\\n",
       "\t 10691 & 0     & 27    & 27    & 1     & 0     & 0     & 1     & 0     & 0     & ...   & 0     & 0     & 0     & 0     & 0     & 1     & 0     & 1     & 0     & 0    \\\\\n",
       "\t 10796 & 0     & 15    & 15    & 1     & 0     & 0     & 1     & 0     & 0     & ...   & 1     & 0     & 0     & 1     & 0     & 1     & 0     & 1     & 0     & 0    \\\\\n",
       "\t 10635 & 4     & 20    & 20    & 0     & 0     & 0     & 1     & 0     & 0     & ...   & 0     & 0     & 0     & 1     & 0     & 0     & 0     & 0     & 0     & 1    \\\\\n",
       "\t 10859 & 0     &  1    &  1    & 1     & 0     & 0     & 1     & 0     & 0     & ...   & 0     & 1     & 0     & 1     & 0     & 0     & 0     & 1     & 0     & 0    \\\\\n",
       "\t 10663 & 5     &  1    &  1    & 1     & 1     & 0     & 0     & 0     & 0     & ...   & 0     & 0     & 0     & 0     & 0     & 0     & 0     & 1     & 0     & 0    \\\\\n",
       "\t 10789 & 5     &  2    &  2    & 1     & 0     & 0     & 1     & 2     & 0     & ...   & 1     & 0     & 0     & 1     & 0     & 1     & 0     & 1     & 0     & 0    \\\\\n",
       "\t 10796 & 0     & 23    & 23    & 0     & 1     & 0     & 0     & 0     & 0     & ...   & 1     & 0     & 0     & 0     & 0     & 0     & 0     & 0     & 0     & 1    \\\\\n",
       "\t 10740 & 4     & 13    & 13    & 1     & 1     & 0     & 0     & 0     & 0     & ...   & 0     & 0     & 1     & 1     & 0     & 0     & 0     & 1     & 0     & 0    \\\\\n",
       "\t 10845 & 0     &  6    &  6    & 1     & 0     & 0     & 1     & 2     & 0     & ...   & 1     & 0     & 0     & 0     & 0     & 0     & 1     & 0     & 0     & 1    \\\\\n",
       "\t 10705 & 2     & 14    & 14    & 0     & 1     & 0     & 0     & 0     & 0     & ...   & 0     & 0     & 0     & 0     & 0     & 1     & 0     & 0     & 0     & 1    \\\\\n",
       "\t 10768 & 3     & 28    & 28    & 0     & 0     & 1     & 0     & 0     & 0     & ...   & 1     & 0     & 1     & 1     & 0     & 0     & 0     & 1     & 0     & 0    \\\\\n",
       "\t 10747 & 3     & 15    & 15    & 1     & 0     & 1     & 0     & 0     & 0     & ...   & 0     & 0     & 0     & 1     & 0     & 0     & 0     & 1     & 0     & 0    \\\\\n",
       "\t 10628 & 4     & 10    & 10    & 0     & 0     & 1     & 0     & 0     & 0     & ...   & 0     & 0     & 0     & 1     & 0     & 0     & 0     & 0     & 0     & 1    \\\\\n",
       "\t 10523 & 4     &  4    &  4    & 0     & 0     & 1     & 0     & 2     & 0     & ...   & 0     & 0     & 0     & 0     & 0     & 0     & 0     & 0     & 0     & 1    \\\\\n",
       "\t 10558 & 0     &  9    &  9    & 0     & 0     & 0     & 0     & 2     & 0     & ...   & 0     & 0     & 0     & 1     & 0     & 0     & 0     & 1     & 0     & 0    \\\\\n",
       "\t 10621 & 1     &  1    &  1    & 0     & 0     & 0     & 0     & 0     & 0     & ...   & 0     & 0     & 0     & 1     & 0     & 0     & 0     & 1     & 0     & 0    \\\\\n",
       "\t 10831 & 5     & 27    & 27    & 0     & 0     & 0     & 0     & 0     & 0     & ...   & 1     & 0     & 1     & 0     & 1     & 1     & 0     & 0     & 1     & 0    \\\\\n",
       "\t 10677 & 2     &  4    &  4    & 1     & 0     & 0     & 0     & 0     & 0     & ...   & 0     & 0     & 0     & 0     & 1     & 0     & 0     & 1     & 0     & 0    \\\\\n",
       "\t 10817 & 4     &  4    &  4    & 0     & 0     & 0     & 0     & 0     & 0     & ...   & 1     & 0     & 0     & 0     & 1     & 0     & 0     & 0     & 0     & 0    \\\\\n",
       "\t 10691 & 0     & 27    & 27    & 0     & 0     & 0     & 0     & 0     & 0     & ...   & 0     & 0     & 0     & 0     & 1     & 1     & 0     & 1     & 0     & 0    \\\\\n",
       "\t 10677 & 5     & 25    & 25    & 0     & 0     & 0     & 0     & 0     & 0     & ...   & 0     & 0     & 0     & 0     & 1     & 0     & 1     & 0     & 1     & 0    \\\\\n",
       "\\end{tabular}\n"
      ],
      "text/markdown": [
       "\n",
       "| abdt | tg | inuidur1 | inuidur2 | female | black | hispanic | othrace | dep | q1 | ... | q5 | q6 | recall | agelt35 | agegt54 | durable | nondurable | lusd | husd | muld |\n",
       "|---|---|---|---|---|---|---|---|---|---|---|---|---|---|---|---|---|---|---|---|---|\n",
       "| 10824 | 0     | 18    | 18    | 0     | 0     | 0     | 0     | 2     | 0     | ...   | 1     | 0     | 0     | 0     | 0     | 0     | 0     | 0     | 1     | 0     |\n",
       "| 10635 | 2     |  7    |  3    | 0     | 0     | 0     | 0     | 0     | 0     | ...   | 0     | 0     | 0     | 1     | 0     | 0     | 0     | 1     | 0     | 0     |\n",
       "| 10551 | 5     | 18    |  6    | 1     | 0     | 0     | 0     | 0     | 0     | ...   | 0     | 0     | 1     | 0     | 1     | 0     | 0     | 0     | 0     | 0     |\n",
       "| 10824 | 0     |  1    |  1    | 0     | 0     | 0     | 0     | 0     | 0     | ...   | 1     | 0     | 0     | 0     | 0     | 0     | 0     | 1     | 0     | 0     |\n",
       "| 10747 | 0     | 27    | 27    | 0     | 0     | 0     | 0     | 0     | 0     | ...   | 0     | 0     | 0     | 0     | 0     | 0     | 0     | 1     | 0     | 0     |\n",
       "| 10544 | 6     |  7    |  7    | 0     | 0     | 0     | 0     | 0     | 0     | ...   | 0     | 0     | 0     | 0     | 0     | 0     | 0     | 0     | 0     | 1     |\n",
       "| 10845 | 1     |  1    |  1    | 0     | 0     | 0     | 0     | 0     | 0     | ...   | 1     | 0     | 0     | 1     | 0     | 0     | 0     | 1     | 0     | 0     |\n",
       "| 10670 | 3     |  3    |  3    | 1     | 0     | 0     | 0     | 2     | 0     | ...   | 0     | 0     | 0     | 1     | 0     | 0     | 0     | 0     | 0     | 1     |\n",
       "| 10768 | 3     | 28    | 11    | 1     | 0     | 0     | 0     | 0     | 0     | ...   | 0     | 0     | 0     | 0     | 0     | 0     | 0     | 0     | 0     | 1     |\n",
       "| 10754 | 2     | 20    | 20    | 1     | 0     | 0     | 0     | 0     | 0     | ...   | 0     | 0     | 0     | 0     | 0     | 0     | 0     | 0     | 0     | 1     |\n",
       "| 10712 | 3     |  6    |  6    | 0     | 0     | 0     | 0     | 2     | 0     | ...   | 0     | 0     | 0     | 0     | 0     | 1     | 0     | 0     | 0     | 1     |\n",
       "| 10607 | 4     |  9    |  9    | 0     | 0     | 0     | 0     | 0     | 0     | ...   | 0     | 0     | 0     | 1     | 0     | 0     | 0     | 0     | 0     | 1     |\n",
       "| 10831 | 0     | 27    | 27    | 0     | 0     | 0     | 0     | 1     | 0     | ...   | 1     | 0     | 0     | 0     | 1     | 1     | 0     | 1     | 0     | 0     |\n",
       "| 10845 | 0     | 27    | 27    | 1     | 0     | 0     | 0     | 0     | 0     | ...   | 1     | 0     | 0     | 0     | 1     | 0     | 0     | 1     | 0     | 0     |\n",
       "| 10831 | 0     |  9    |  9    | 1     | 0     | 0     | 0     | 1     | 0     | ...   | 1     | 0     | 0     | 0     | 1     | 0     | 0     | 1     | 0     | 0     |\n",
       "| 10551 | 3     | 27    | 27    | 1     | 0     | 0     | 0     | 0     | 0     | ...   | 0     | 0     | 0     | 1     | 0     | 0     | 1     | 1     | 0     | 0     |\n",
       "| 10859 | 0     | 27    | 27    | 1     | 0     | 0     | 0     | 1     | 0     | ...   | 0     | 1     | 0     | 0     | 0     | 0     | 0     | 1     | 0     | 0     |\n",
       "| 10740 | 1     | 15    | 15    | 1     | 0     | 0     | 0     | 2     | 0     | ...   | 0     | 0     | 0     | 0     | 0     | 0     | 0     | 1     | 0     | 0     |\n",
       "| 10537 | 1     |  1    |  1    | 0     | 1     | 0     | 0     | 0     | 0     | ...   | 0     | 0     | 0     | 1     | 0     | 0     | 0     | 0     | 0     | 1     |\n",
       "| 10663 | 6     | 26    | 26    | 1     | 0     | 0     | 0     | 0     | 0     | ...   | 0     | 0     | 0     | 0     | 1     | 0     | 0     | 0     | 1     | 0     |\n",
       "| 10656 | 5     | 30    |  9    | 0     | 0     | 0     | 0     | 1     | 0     | ...   | 0     | 0     | 0     | 0     | 0     | 0     | 0     | 1     | 0     | 0     |\n",
       "| 10628 | 2     | 27    | 27    | 0     | 0     | 0     | 0     | 0     | 0     | ...   | 0     | 0     | 0     | 0     | 0     | 0     | 0     | 0     | 0     | 1     |\n",
       "| 10516 | 0     | 15    | 15    | 1     | 0     | 0     | 0     | 0     | 0     | ...   | 0     | 0     | 0     | 0     | 0     | 0     | 0     | 1     | 0     | 0     |\n",
       "| 10803 | 2     |  3    |  3    | 1     | 0     | 0     | 0     | 0     | 0     | ...   | 1     | 0     | 0     | 0     | 0     | 0     | 0     | 0     | 1     | 0     |\n",
       "| 10663 | 0     | 28    | 11    | 1     | 0     | 0     | 0     | 0     | 0     | ...   | 0     | 0     | 0     | 0     | 1     | 0     | 0     | 1     | 0     | 0     |\n",
       "| 10747 | 0     | 12    | 12    | 1     | 0     | 0     | 0     | 2     | 0     | ...   | 0     | 0     | 1     | 1     | 0     | 0     | 0     | 0     | 0     | 1     |\n",
       "| 10551 | 4     | 22    | 22    | 1     | 0     | 1     | 0     | 2     | 0     | ...   | 0     | 0     | 0     | 1     | 0     | 0     | 0     | 0     | 0     | 1     |\n",
       "| 10635 | 2     | 17    | 10    | 1     | 0     | 0     | 0     | 0     | 0     | ...   | 0     | 0     | 0     | 0     | 0     | 0     | 0     | 1     | 0     | 0     |\n",
       "| 10761 | 2     | 13    | 13    | 0     | 0     | 0     | 0     | 0     | 0     | ...   | 0     | 0     | 0     | 1     | 0     | 0     | 0     | 0     | 0     | 1     |\n",
       "| 10586 | 1     |  8    |  8    | 1     | 0     | 0     | 0     | 1     | 0     | ...   | 0     | 0     | 0     | 0     | 0     | 0     | 0     | 0     | 0     | 1     |\n",
       "| ... | ... | ... | ... | ... | ... | ... | ... | ... | ... |     | ... | ... | ... | ... | ... | ... | ... | ... | ... | ... |\n",
       "| 10873 | 3     | 25    | 25    | 0     | 0     | 1     | 0     | 0     | 0     | ...   | 0     | 1     | 0     | 1     | 0     | 0     | 0     | 1     | 0     | 0     |\n",
       "| 10873 | 1     | 11    | 11    | 0     | 0     | 1     | 0     | 0     | 0     | ...   | 0     | 1     | 0     | 1     | 0     | 0     | 0     | 0     | 0     | 1     |\n",
       "| 10614 | 6     |  5    |  5    | 0     | 0     | 1     | 0     | 2     | 0     | ...   | 0     | 0     | 0     | 1     | 0     | 1     | 0     | 0     | 0     | 1     |\n",
       "| 10621 | 3     |  1    |  1    | 0     | 0     | 1     | 0     | 0     | 0     | ...   | 0     | 0     | 0     | 1     | 0     | 1     | 0     | 0     | 0     | 1     |\n",
       "| 10642 | 0     | 10    | 10    | 0     | 0     | 0     | 0     | 0     | 0     | ...   | 0     | 0     | 0     | 1     | 0     | 1     | 0     | 1     | 0     | 0     |\n",
       "| 10796 | 3     | 10    | 10    | 0     | 0     | 0     | 0     | 2     | 0     | ...   | 1     | 0     | 0     | 0     | 0     | 1     | 0     | 1     | 0     | 0     |\n",
       "| 10852 | 5     |  4    |  4    | 1     | 0     | 0     | 0     | 0     | 0     | ...   | 1     | 0     | 0     | 0     | 0     | 1     | 0     | 1     | 0     | 0     |\n",
       "| 10670 | 0     | 20    | 20    | 0     | 0     | 0     | 0     | 0     | 0     | ...   | 0     | 0     | 0     | 1     | 0     | 1     | 0     | 0     | 1     | 0     |\n",
       "| 10530 | 0     | 27    | 27    | 1     | 0     | 0     | 1     | 0     | 0     | ...   | 0     | 0     | 0     | 1     | 0     | 0     | 0     | 0     | 0     | 1     |\n",
       "| 10691 | 0     | 27    | 27    | 1     | 0     | 0     | 1     | 0     | 0     | ...   | 0     | 0     | 0     | 0     | 0     | 1     | 0     | 1     | 0     | 0     |\n",
       "| 10796 | 0     | 15    | 15    | 1     | 0     | 0     | 1     | 0     | 0     | ...   | 1     | 0     | 0     | 1     | 0     | 1     | 0     | 1     | 0     | 0     |\n",
       "| 10635 | 4     | 20    | 20    | 0     | 0     | 0     | 1     | 0     | 0     | ...   | 0     | 0     | 0     | 1     | 0     | 0     | 0     | 0     | 0     | 1     |\n",
       "| 10859 | 0     |  1    |  1    | 1     | 0     | 0     | 1     | 0     | 0     | ...   | 0     | 1     | 0     | 1     | 0     | 0     | 0     | 1     | 0     | 0     |\n",
       "| 10663 | 5     |  1    |  1    | 1     | 1     | 0     | 0     | 0     | 0     | ...   | 0     | 0     | 0     | 0     | 0     | 0     | 0     | 1     | 0     | 0     |\n",
       "| 10789 | 5     |  2    |  2    | 1     | 0     | 0     | 1     | 2     | 0     | ...   | 1     | 0     | 0     | 1     | 0     | 1     | 0     | 1     | 0     | 0     |\n",
       "| 10796 | 0     | 23    | 23    | 0     | 1     | 0     | 0     | 0     | 0     | ...   | 1     | 0     | 0     | 0     | 0     | 0     | 0     | 0     | 0     | 1     |\n",
       "| 10740 | 4     | 13    | 13    | 1     | 1     | 0     | 0     | 0     | 0     | ...   | 0     | 0     | 1     | 1     | 0     | 0     | 0     | 1     | 0     | 0     |\n",
       "| 10845 | 0     |  6    |  6    | 1     | 0     | 0     | 1     | 2     | 0     | ...   | 1     | 0     | 0     | 0     | 0     | 0     | 1     | 0     | 0     | 1     |\n",
       "| 10705 | 2     | 14    | 14    | 0     | 1     | 0     | 0     | 0     | 0     | ...   | 0     | 0     | 0     | 0     | 0     | 1     | 0     | 0     | 0     | 1     |\n",
       "| 10768 | 3     | 28    | 28    | 0     | 0     | 1     | 0     | 0     | 0     | ...   | 1     | 0     | 1     | 1     | 0     | 0     | 0     | 1     | 0     | 0     |\n",
       "| 10747 | 3     | 15    | 15    | 1     | 0     | 1     | 0     | 0     | 0     | ...   | 0     | 0     | 0     | 1     | 0     | 0     | 0     | 1     | 0     | 0     |\n",
       "| 10628 | 4     | 10    | 10    | 0     | 0     | 1     | 0     | 0     | 0     | ...   | 0     | 0     | 0     | 1     | 0     | 0     | 0     | 0     | 0     | 1     |\n",
       "| 10523 | 4     |  4    |  4    | 0     | 0     | 1     | 0     | 2     | 0     | ...   | 0     | 0     | 0     | 0     | 0     | 0     | 0     | 0     | 0     | 1     |\n",
       "| 10558 | 0     |  9    |  9    | 0     | 0     | 0     | 0     | 2     | 0     | ...   | 0     | 0     | 0     | 1     | 0     | 0     | 0     | 1     | 0     | 0     |\n",
       "| 10621 | 1     |  1    |  1    | 0     | 0     | 0     | 0     | 0     | 0     | ...   | 0     | 0     | 0     | 1     | 0     | 0     | 0     | 1     | 0     | 0     |\n",
       "| 10831 | 5     | 27    | 27    | 0     | 0     | 0     | 0     | 0     | 0     | ...   | 1     | 0     | 1     | 0     | 1     | 1     | 0     | 0     | 1     | 0     |\n",
       "| 10677 | 2     |  4    |  4    | 1     | 0     | 0     | 0     | 0     | 0     | ...   | 0     | 0     | 0     | 0     | 1     | 0     | 0     | 1     | 0     | 0     |\n",
       "| 10817 | 4     |  4    |  4    | 0     | 0     | 0     | 0     | 0     | 0     | ...   | 1     | 0     | 0     | 0     | 1     | 0     | 0     | 0     | 0     | 0     |\n",
       "| 10691 | 0     | 27    | 27    | 0     | 0     | 0     | 0     | 0     | 0     | ...   | 0     | 0     | 0     | 0     | 1     | 1     | 0     | 1     | 0     | 0     |\n",
       "| 10677 | 5     | 25    | 25    | 0     | 0     | 0     | 0     | 0     | 0     | ...   | 0     | 0     | 0     | 0     | 1     | 0     | 1     | 0     | 1     | 0     |\n",
       "\n"
      ],
      "text/plain": [
       "      abdt  tg  inuidur1 inuidur2 female black hispanic othrace dep q1  ... q5 \n",
       "1     10824 0   18       18       0      0     0        0       2   0   ... 1  \n",
       "2     10635 2    7        3       0      0     0        0       0   0   ... 0  \n",
       "3     10551 5   18        6       1      0     0        0       0   0   ... 0  \n",
       "4     10824 0    1        1       0      0     0        0       0   0   ... 1  \n",
       "5     10747 0   27       27       0      0     0        0       0   0   ... 0  \n",
       "6     10544 6    7        7       0      0     0        0       0   0   ... 0  \n",
       "7     10845 1    1        1       0      0     0        0       0   0   ... 1  \n",
       "8     10670 3    3        3       1      0     0        0       2   0   ... 0  \n",
       "9     10768 3   28       11       1      0     0        0       0   0   ... 0  \n",
       "10    10754 2   20       20       1      0     0        0       0   0   ... 0  \n",
       "11    10712 3    6        6       0      0     0        0       2   0   ... 0  \n",
       "12    10607 4    9        9       0      0     0        0       0   0   ... 0  \n",
       "13    10831 0   27       27       0      0     0        0       1   0   ... 1  \n",
       "14    10845 0   27       27       1      0     0        0       0   0   ... 1  \n",
       "15    10831 0    9        9       1      0     0        0       1   0   ... 1  \n",
       "16    10551 3   27       27       1      0     0        0       0   0   ... 0  \n",
       "17    10859 0   27       27       1      0     0        0       1   0   ... 0  \n",
       "18    10740 1   15       15       1      0     0        0       2   0   ... 0  \n",
       "19    10537 1    1        1       0      1     0        0       0   0   ... 0  \n",
       "20    10663 6   26       26       1      0     0        0       0   0   ... 0  \n",
       "21    10656 5   30        9       0      0     0        0       1   0   ... 0  \n",
       "22    10628 2   27       27       0      0     0        0       0   0   ... 0  \n",
       "23    10516 0   15       15       1      0     0        0       0   0   ... 0  \n",
       "24    10803 2    3        3       1      0     0        0       0   0   ... 1  \n",
       "25    10663 0   28       11       1      0     0        0       0   0   ... 0  \n",
       "26    10747 0   12       12       1      0     0        0       2   0   ... 0  \n",
       "27    10551 4   22       22       1      0     1        0       2   0   ... 0  \n",
       "28    10635 2   17       10       1      0     0        0       0   0   ... 0  \n",
       "29    10761 2   13       13       0      0     0        0       0   0   ... 0  \n",
       "30    10586 1    8        8       1      0     0        0       1   0   ... 0  \n",
       "...   ...   ... ...      ...      ...    ...   ...      ...     ... ...     ...\n",
       "13884 10873 3   25       25       0      0     1        0       0   0   ... 0  \n",
       "13885 10873 1   11       11       0      0     1        0       0   0   ... 0  \n",
       "13886 10614 6    5        5       0      0     1        0       2   0   ... 0  \n",
       "13887 10621 3    1        1       0      0     1        0       0   0   ... 0  \n",
       "13888 10642 0   10       10       0      0     0        0       0   0   ... 0  \n",
       "13889 10796 3   10       10       0      0     0        0       2   0   ... 1  \n",
       "13890 10852 5    4        4       1      0     0        0       0   0   ... 1  \n",
       "13891 10670 0   20       20       0      0     0        0       0   0   ... 0  \n",
       "13892 10530 0   27       27       1      0     0        1       0   0   ... 0  \n",
       "13893 10691 0   27       27       1      0     0        1       0   0   ... 0  \n",
       "13894 10796 0   15       15       1      0     0        1       0   0   ... 1  \n",
       "13895 10635 4   20       20       0      0     0        1       0   0   ... 0  \n",
       "13896 10859 0    1        1       1      0     0        1       0   0   ... 0  \n",
       "13897 10663 5    1        1       1      1     0        0       0   0   ... 0  \n",
       "13898 10789 5    2        2       1      0     0        1       2   0   ... 1  \n",
       "13899 10796 0   23       23       0      1     0        0       0   0   ... 1  \n",
       "13900 10740 4   13       13       1      1     0        0       0   0   ... 0  \n",
       "13901 10845 0    6        6       1      0     0        1       2   0   ... 1  \n",
       "13902 10705 2   14       14       0      1     0        0       0   0   ... 0  \n",
       "13903 10768 3   28       28       0      0     1        0       0   0   ... 1  \n",
       "13904 10747 3   15       15       1      0     1        0       0   0   ... 0  \n",
       "13905 10628 4   10       10       0      0     1        0       0   0   ... 0  \n",
       "13906 10523 4    4        4       0      0     1        0       2   0   ... 0  \n",
       "13907 10558 0    9        9       0      0     0        0       2   0   ... 0  \n",
       "13908 10621 1    1        1       0      0     0        0       0   0   ... 0  \n",
       "13909 10831 5   27       27       0      0     0        0       0   0   ... 1  \n",
       "13910 10677 2    4        4       1      0     0        0       0   0   ... 0  \n",
       "13911 10817 4    4        4       0      0     0        0       0   0   ... 1  \n",
       "13912 10691 0   27       27       0      0     0        0       0   0   ... 0  \n",
       "13913 10677 5   25       25       0      0     0        0       0   0   ... 0  \n",
       "      q6  recall agelt35 agegt54 durable nondurable lusd husd muld\n",
       "1     0   0      0       0       0       0          0    1    0   \n",
       "2     0   0      1       0       0       0          1    0    0   \n",
       "3     0   1      0       1       0       0          0    0    0   \n",
       "4     0   0      0       0       0       0          1    0    0   \n",
       "5     0   0      0       0       0       0          1    0    0   \n",
       "6     0   0      0       0       0       0          0    0    1   \n",
       "7     0   0      1       0       0       0          1    0    0   \n",
       "8     0   0      1       0       0       0          0    0    1   \n",
       "9     0   0      0       0       0       0          0    0    1   \n",
       "10    0   0      0       0       0       0          0    0    1   \n",
       "11    0   0      0       0       1       0          0    0    1   \n",
       "12    0   0      1       0       0       0          0    0    1   \n",
       "13    0   0      0       1       1       0          1    0    0   \n",
       "14    0   0      0       1       0       0          1    0    0   \n",
       "15    0   0      0       1       0       0          1    0    0   \n",
       "16    0   0      1       0       0       1          1    0    0   \n",
       "17    1   0      0       0       0       0          1    0    0   \n",
       "18    0   0      0       0       0       0          1    0    0   \n",
       "19    0   0      1       0       0       0          0    0    1   \n",
       "20    0   0      0       1       0       0          0    1    0   \n",
       "21    0   0      0       0       0       0          1    0    0   \n",
       "22    0   0      0       0       0       0          0    0    1   \n",
       "23    0   0      0       0       0       0          1    0    0   \n",
       "24    0   0      0       0       0       0          0    1    0   \n",
       "25    0   0      0       1       0       0          1    0    0   \n",
       "26    0   1      1       0       0       0          0    0    1   \n",
       "27    0   0      1       0       0       0          0    0    1   \n",
       "28    0   0      0       0       0       0          1    0    0   \n",
       "29    0   0      1       0       0       0          0    0    1   \n",
       "30    0   0      0       0       0       0          0    0    1   \n",
       "...   ... ...    ...     ...     ...     ...        ...  ...  ... \n",
       "13884 1   0      1       0       0       0          1    0    0   \n",
       "13885 1   0      1       0       0       0          0    0    1   \n",
       "13886 0   0      1       0       1       0          0    0    1   \n",
       "13887 0   0      1       0       1       0          0    0    1   \n",
       "13888 0   0      1       0       1       0          1    0    0   \n",
       "13889 0   0      0       0       1       0          1    0    0   \n",
       "13890 0   0      0       0       1       0          1    0    0   \n",
       "13891 0   0      1       0       1       0          0    1    0   \n",
       "13892 0   0      1       0       0       0          0    0    1   \n",
       "13893 0   0      0       0       1       0          1    0    0   \n",
       "13894 0   0      1       0       1       0          1    0    0   \n",
       "13895 0   0      1       0       0       0          0    0    1   \n",
       "13896 1   0      1       0       0       0          1    0    0   \n",
       "13897 0   0      0       0       0       0          1    0    0   \n",
       "13898 0   0      1       0       1       0          1    0    0   \n",
       "13899 0   0      0       0       0       0          0    0    1   \n",
       "13900 0   1      1       0       0       0          1    0    0   \n",
       "13901 0   0      0       0       0       1          0    0    1   \n",
       "13902 0   0      0       0       1       0          0    0    1   \n",
       "13903 0   1      1       0       0       0          1    0    0   \n",
       "13904 0   0      1       0       0       0          1    0    0   \n",
       "13905 0   0      1       0       0       0          0    0    1   \n",
       "13906 0   0      0       0       0       0          0    0    1   \n",
       "13907 0   0      1       0       0       0          1    0    0   \n",
       "13908 0   0      1       0       0       0          1    0    0   \n",
       "13909 0   1      0       1       1       0          0    1    0   \n",
       "13910 0   0      0       1       0       0          1    0    0   \n",
       "13911 0   0      0       1       0       0          0    0    0   \n",
       "13912 0   0      0       1       1       0          1    0    0   \n",
       "13913 0   0      0       1       0       1          0    1    0   "
      ]
     },
     "metadata": {},
     "output_type": "display_data"
    }
   ],
   "source": [
    "## loading the data\n",
    "Penn <- as.data.frame(read.table(\"../../data/penn_jae.dat\", header=T ))\n",
    "Penn"
   ]
  },
  {
   "cell_type": "code",
   "execution_count": 2,
   "id": "8bffd2e4",
   "metadata": {},
   "outputs": [
    {
     "data": {
      "text/html": [
       "<ol class=list-inline>\n",
       "\t<li>13913</li>\n",
       "\t<li>23</li>\n",
       "</ol>\n"
      ],
      "text/latex": [
       "\\begin{enumerate*}\n",
       "\\item 13913\n",
       "\\item 23\n",
       "\\end{enumerate*}\n"
      ],
      "text/markdown": [
       "1. 13913\n",
       "2. 23\n",
       "\n",
       "\n"
      ],
      "text/plain": [
       "[1] 13913    23"
      ]
     },
     "metadata": {},
     "output_type": "display_data"
    }
   ],
   "source": [
    "n <- dim(Penn)[1]\n",
    "p_1 <- dim(Penn)[2]\n",
    "dim(Penn)"
   ]
  },
  {
   "cell_type": "code",
   "execution_count": 3,
   "id": "eea9ddd5",
   "metadata": {},
   "outputs": [],
   "source": [
    "Penn<- subset(Penn, tg==2 | tg==0)\n",
    "attach(Penn)"
   ]
  },
  {
   "cell_type": "code",
   "execution_count": 4,
   "id": "6e362979",
   "metadata": {},
   "outputs": [
    {
     "data": {
      "text/plain": [
       "   Mode   FALSE    TRUE \n",
       "logical    3354    2428 "
      ]
     },
     "metadata": {},
     "output_type": "display_data"
    }
   ],
   "source": [
    "T2<- (tg==2)\n",
    "summary(T2)"
   ]
  },
  {
   "cell_type": "code",
   "execution_count": 5,
   "id": "508513b6",
   "metadata": {},
   "outputs": [
    {
     "data": {
      "text/html": [
       "<table>\n",
       "<thead><tr><th></th><th scope=col>abdt</th><th scope=col>tg</th><th scope=col>inuidur1</th><th scope=col>inuidur2</th><th scope=col>female</th><th scope=col>black</th><th scope=col>hispanic</th><th scope=col>othrace</th><th scope=col>dep</th><th scope=col>q1</th><th scope=col>...</th><th scope=col>q5</th><th scope=col>q6</th><th scope=col>recall</th><th scope=col>agelt35</th><th scope=col>agegt54</th><th scope=col>durable</th><th scope=col>nondurable</th><th scope=col>lusd</th><th scope=col>husd</th><th scope=col>muld</th></tr></thead>\n",
       "<tbody>\n",
       "\t<tr><th scope=row>1</th><td>10824</td><td>0    </td><td>18   </td><td>18   </td><td>0    </td><td>0    </td><td>0    </td><td>0    </td><td>2    </td><td>0    </td><td>...  </td><td>1    </td><td>0    </td><td>0    </td><td>0    </td><td>0    </td><td>0    </td><td>0    </td><td>0    </td><td>1    </td><td>0    </td></tr>\n",
       "\t<tr><th scope=row>2</th><td>10635</td><td>2    </td><td> 7   </td><td> 3   </td><td>0    </td><td>0    </td><td>0    </td><td>0    </td><td>0    </td><td>0    </td><td>...  </td><td>0    </td><td>0    </td><td>0    </td><td>1    </td><td>0    </td><td>0    </td><td>0    </td><td>1    </td><td>0    </td><td>0    </td></tr>\n",
       "\t<tr><th scope=row>4</th><td>10824</td><td>0    </td><td> 1   </td><td> 1   </td><td>0    </td><td>0    </td><td>0    </td><td>0    </td><td>0    </td><td>0    </td><td>...  </td><td>1    </td><td>0    </td><td>0    </td><td>0    </td><td>0    </td><td>0    </td><td>0    </td><td>1    </td><td>0    </td><td>0    </td></tr>\n",
       "\t<tr><th scope=row>5</th><td>10747</td><td>0    </td><td>27   </td><td>27   </td><td>0    </td><td>0    </td><td>0    </td><td>0    </td><td>0    </td><td>0    </td><td>...  </td><td>0    </td><td>0    </td><td>0    </td><td>0    </td><td>0    </td><td>0    </td><td>0    </td><td>1    </td><td>0    </td><td>0    </td></tr>\n",
       "\t<tr><th scope=row>10</th><td>10754</td><td>2    </td><td>20   </td><td>20   </td><td>1    </td><td>0    </td><td>0    </td><td>0    </td><td>0    </td><td>0    </td><td>...  </td><td>0    </td><td>0    </td><td>0    </td><td>0    </td><td>0    </td><td>0    </td><td>0    </td><td>0    </td><td>0    </td><td>1    </td></tr>\n",
       "\t<tr><th scope=row>13</th><td>10831</td><td>0    </td><td>27   </td><td>27   </td><td>0    </td><td>0    </td><td>0    </td><td>0    </td><td>1    </td><td>0    </td><td>...  </td><td>1    </td><td>0    </td><td>0    </td><td>0    </td><td>1    </td><td>1    </td><td>0    </td><td>1    </td><td>0    </td><td>0    </td></tr>\n",
       "</tbody>\n",
       "</table>\n"
      ],
      "text/latex": [
       "\\begin{tabular}{r|lllllllllllllllllllllll}\n",
       "  & abdt & tg & inuidur1 & inuidur2 & female & black & hispanic & othrace & dep & q1 & ... & q5 & q6 & recall & agelt35 & agegt54 & durable & nondurable & lusd & husd & muld\\\\\n",
       "\\hline\n",
       "\t1 & 10824 & 0     & 18    & 18    & 0     & 0     & 0     & 0     & 2     & 0     & ...   & 1     & 0     & 0     & 0     & 0     & 0     & 0     & 0     & 1     & 0    \\\\\n",
       "\t2 & 10635 & 2     &  7    &  3    & 0     & 0     & 0     & 0     & 0     & 0     & ...   & 0     & 0     & 0     & 1     & 0     & 0     & 0     & 1     & 0     & 0    \\\\\n",
       "\t4 & 10824 & 0     &  1    &  1    & 0     & 0     & 0     & 0     & 0     & 0     & ...   & 1     & 0     & 0     & 0     & 0     & 0     & 0     & 1     & 0     & 0    \\\\\n",
       "\t5 & 10747 & 0     & 27    & 27    & 0     & 0     & 0     & 0     & 0     & 0     & ...   & 0     & 0     & 0     & 0     & 0     & 0     & 0     & 1     & 0     & 0    \\\\\n",
       "\t10 & 10754 & 2     & 20    & 20    & 1     & 0     & 0     & 0     & 0     & 0     & ...   & 0     & 0     & 0     & 0     & 0     & 0     & 0     & 0     & 0     & 1    \\\\\n",
       "\t13 & 10831 & 0     & 27    & 27    & 0     & 0     & 0     & 0     & 1     & 0     & ...   & 1     & 0     & 0     & 0     & 1     & 1     & 0     & 1     & 0     & 0    \\\\\n",
       "\\end{tabular}\n"
      ],
      "text/markdown": [
       "\n",
       "| <!--/--> | abdt | tg | inuidur1 | inuidur2 | female | black | hispanic | othrace | dep | q1 | ... | q5 | q6 | recall | agelt35 | agegt54 | durable | nondurable | lusd | husd | muld |\n",
       "|---|---|---|---|---|---|---|---|---|---|---|---|---|---|---|---|---|---|---|---|---|---|\n",
       "| 1 | 10824 | 0     | 18    | 18    | 0     | 0     | 0     | 0     | 2     | 0     | ...   | 1     | 0     | 0     | 0     | 0     | 0     | 0     | 0     | 1     | 0     |\n",
       "| 2 | 10635 | 2     |  7    |  3    | 0     | 0     | 0     | 0     | 0     | 0     | ...   | 0     | 0     | 0     | 1     | 0     | 0     | 0     | 1     | 0     | 0     |\n",
       "| 4 | 10824 | 0     |  1    |  1    | 0     | 0     | 0     | 0     | 0     | 0     | ...   | 1     | 0     | 0     | 0     | 0     | 0     | 0     | 1     | 0     | 0     |\n",
       "| 5 | 10747 | 0     | 27    | 27    | 0     | 0     | 0     | 0     | 0     | 0     | ...   | 0     | 0     | 0     | 0     | 0     | 0     | 0     | 1     | 0     | 0     |\n",
       "| 10 | 10754 | 2     | 20    | 20    | 1     | 0     | 0     | 0     | 0     | 0     | ...   | 0     | 0     | 0     | 0     | 0     | 0     | 0     | 0     | 0     | 1     |\n",
       "| 13 | 10831 | 0     | 27    | 27    | 0     | 0     | 0     | 0     | 1     | 0     | ...   | 1     | 0     | 0     | 0     | 1     | 1     | 0     | 1     | 0     | 0     |\n",
       "\n"
      ],
      "text/plain": [
       "   abdt  tg inuidur1 inuidur2 female black hispanic othrace dep q1 ... q5 q6\n",
       "1  10824 0  18       18       0      0     0        0       2   0  ... 1  0 \n",
       "2  10635 2   7        3       0      0     0        0       0   0  ... 0  0 \n",
       "4  10824 0   1        1       0      0     0        0       0   0  ... 1  0 \n",
       "5  10747 0  27       27       0      0     0        0       0   0  ... 0  0 \n",
       "10 10754 2  20       20       1      0     0        0       0   0  ... 0  0 \n",
       "13 10831 0  27       27       0      0     0        0       1   0  ... 1  0 \n",
       "   recall agelt35 agegt54 durable nondurable lusd husd muld\n",
       "1  0      0       0       0       0          0    1    0   \n",
       "2  0      1       0       0       0          1    0    0   \n",
       "4  0      0       0       0       0          1    0    0   \n",
       "5  0      0       0       0       0          1    0    0   \n",
       "10 0      0       0       0       0          0    0    1   \n",
       "13 0      0       1       1       0          1    0    0   "
      ]
     },
     "metadata": {},
     "output_type": "display_data"
    }
   ],
   "source": [
    "head(Penn)"
   ]
  },
  {
   "cell_type": "code",
   "execution_count": 6,
   "id": "eb478cfe",
   "metadata": {},
   "outputs": [
    {
     "data": {
      "text/plain": [
       "      abdt             tg            inuidur1        inuidur2    \n",
       " Min.   :10404   Min.   :0.0000   Min.   : 1.00   Min.   : 0.00  \n",
       " 1st Qu.:10600   1st Qu.:0.0000   1st Qu.: 3.00   1st Qu.: 2.00  \n",
       " Median :10698   Median :0.0000   Median :11.00   Median :10.00  \n",
       " Mean   :10696   Mean   :0.8398   Mean   :13.03   Mean   :12.25  \n",
       " 3rd Qu.:10796   3rd Qu.:2.0000   3rd Qu.:25.00   3rd Qu.:23.00  \n",
       " Max.   :10880   Max.   :2.0000   Max.   :52.00   Max.   :52.00  \n",
       "     female           black           hispanic          othrace        \n",
       " Min.   :0.0000   Min.   :0.0000   Min.   :0.00000   Min.   :0.000000  \n",
       " 1st Qu.:0.0000   1st Qu.:0.0000   1st Qu.:0.00000   1st Qu.:0.000000  \n",
       " Median :0.0000   Median :0.0000   Median :0.00000   Median :0.000000  \n",
       " Mean   :0.4007   Mean   :0.1188   Mean   :0.03632   Mean   :0.005189  \n",
       " 3rd Qu.:1.0000   3rd Qu.:0.0000   3rd Qu.:0.00000   3rd Qu.:0.000000  \n",
       " Max.   :1.0000   Max.   :1.0000   Max.   :1.00000   Max.   :1.000000  \n",
       "      dep               q1                q2               q3        \n",
       " Min.   :0.0000   Min.   :0.00000   Min.   :0.0000   Min.   :0.0000  \n",
       " 1st Qu.:0.0000   1st Qu.:0.00000   1st Qu.:0.0000   1st Qu.:0.0000  \n",
       " Median :0.0000   Median :0.00000   Median :0.0000   Median :0.0000  \n",
       " Mean   :0.4379   Mean   :0.01263   Mean   :0.2001   Mean   :0.2356  \n",
       " 3rd Qu.:1.0000   3rd Qu.:0.00000   3rd Qu.:0.0000   3rd Qu.:0.0000  \n",
       " Max.   :2.0000   Max.   :1.00000   Max.   :1.0000   Max.   :1.0000  \n",
       "       q4               q5               q6             recall      \n",
       " Min.   :0.0000   Min.   :0.0000   Min.   :0.0000   Min.   :0.0000  \n",
       " 1st Qu.:0.0000   1st Qu.:0.0000   1st Qu.:0.0000   1st Qu.:0.0000  \n",
       " Median :0.0000   Median :0.0000   Median :0.0000   Median :0.0000  \n",
       " Mean   :0.2233   Mean   :0.2632   Mean   :0.0652   Mean   :0.1062  \n",
       " 3rd Qu.:0.0000   3rd Qu.:1.0000   3rd Qu.:0.0000   3rd Qu.:0.0000  \n",
       " Max.   :1.0000   Max.   :1.0000   Max.   :1.0000   Max.   :1.0000  \n",
       "    agelt35          agegt54         durable         nondurable    \n",
       " Min.   :0.0000   Min.   :0.000   Min.   :0.0000   Min.   :0.0000  \n",
       " 1st Qu.:0.0000   1st Qu.:0.000   1st Qu.:0.0000   1st Qu.:0.0000  \n",
       " Median :1.0000   Median :0.000   Median :0.0000   Median :0.0000  \n",
       " Mean   :0.5401   Mean   :0.106   Mean   :0.1496   Mean   :0.1091  \n",
       " 3rd Qu.:1.0000   3rd Qu.:0.000   3rd Qu.:0.0000   3rd Qu.:0.0000  \n",
       " Max.   :1.0000   Max.   :1.000   Max.   :1.0000   Max.   :1.0000  \n",
       "      lusd             husd             muld       \n",
       " Min.   :0.0000   Min.   :0.0000   Min.   :0.0000  \n",
       " 1st Qu.:0.0000   1st Qu.:0.0000   1st Qu.:0.0000  \n",
       " Median :0.0000   Median :0.0000   Median :0.0000  \n",
       " Mean   :0.2622   Mean   :0.2221   Mean   :0.4403  \n",
       " 3rd Qu.:1.0000   3rd Qu.:0.0000   3rd Qu.:1.0000  \n",
       " Max.   :1.0000   Max.   :1.0000   Max.   :1.0000  "
      ]
     },
     "metadata": {},
     "output_type": "display_data"
    }
   ],
   "source": [
    "#summarize variables \n",
    "summary(Penn)"
   ]
  },
  {
   "cell_type": "code",
   "execution_count": null,
   "id": "60e9fd4b",
   "metadata": {},
   "outputs": [],
   "source": []
  },
  {
   "cell_type": "markdown",
   "id": "680e8511",
   "metadata": {},
   "source": [
    "# Historgram´s plot  for treatment and control group"
   ]
  },
  {
   "cell_type": "code",
   "execution_count": 8,
   "id": "0a5c1cec",
   "metadata": {},
   "outputs": [],
   "source": [
    "#to see the distribution of the outcome variable inuidur1"
   ]
  },
  {
   "cell_type": "code",
   "execution_count": 7,
   "id": "fc60f257",
   "metadata": {
    "scrolled": false
   },
   "outputs": [
    {
     "data": {
      "text/html": [
       "<table>\n",
       "<thead><tr><th></th><th scope=col>abdt</th><th scope=col>tg</th><th scope=col>inuidur1</th><th scope=col>inuidur2</th><th scope=col>female</th><th scope=col>black</th><th scope=col>hispanic</th><th scope=col>othrace</th><th scope=col>dep</th><th scope=col>q1</th><th scope=col>...</th><th scope=col>q5</th><th scope=col>q6</th><th scope=col>recall</th><th scope=col>agelt35</th><th scope=col>agegt54</th><th scope=col>durable</th><th scope=col>nondurable</th><th scope=col>lusd</th><th scope=col>husd</th><th scope=col>muld</th></tr></thead>\n",
       "<tbody>\n",
       "\t<tr><th scope=row>1</th><td>10824</td><td>0    </td><td>18   </td><td>18   </td><td>0    </td><td>0    </td><td>0    </td><td>0    </td><td>2    </td><td>0    </td><td>...  </td><td>1    </td><td>0    </td><td>0    </td><td>0    </td><td>0    </td><td>0    </td><td>0    </td><td>0    </td><td>1    </td><td>0    </td></tr>\n",
       "\t<tr><th scope=row>4</th><td>10824</td><td>0    </td><td> 1   </td><td> 1   </td><td>0    </td><td>0    </td><td>0    </td><td>0    </td><td>0    </td><td>0    </td><td>...  </td><td>1    </td><td>0    </td><td>0    </td><td>0    </td><td>0    </td><td>0    </td><td>0    </td><td>1    </td><td>0    </td><td>0    </td></tr>\n",
       "\t<tr><th scope=row>5</th><td>10747</td><td>0    </td><td>27   </td><td>27   </td><td>0    </td><td>0    </td><td>0    </td><td>0    </td><td>0    </td><td>0    </td><td>...  </td><td>0    </td><td>0    </td><td>0    </td><td>0    </td><td>0    </td><td>0    </td><td>0    </td><td>1    </td><td>0    </td><td>0    </td></tr>\n",
       "\t<tr><th scope=row>13</th><td>10831</td><td>0    </td><td>27   </td><td>27   </td><td>0    </td><td>0    </td><td>0    </td><td>0    </td><td>1    </td><td>0    </td><td>...  </td><td>1    </td><td>0    </td><td>0    </td><td>0    </td><td>1    </td><td>1    </td><td>0    </td><td>1    </td><td>0    </td><td>0    </td></tr>\n",
       "\t<tr><th scope=row>14</th><td>10845</td><td>0    </td><td>27   </td><td>27   </td><td>1    </td><td>0    </td><td>0    </td><td>0    </td><td>0    </td><td>0    </td><td>...  </td><td>1    </td><td>0    </td><td>0    </td><td>0    </td><td>1    </td><td>0    </td><td>0    </td><td>1    </td><td>0    </td><td>0    </td></tr>\n",
       "\t<tr><th scope=row>15</th><td>10831</td><td>0    </td><td> 9   </td><td> 9   </td><td>1    </td><td>0    </td><td>0    </td><td>0    </td><td>1    </td><td>0    </td><td>...  </td><td>1    </td><td>0    </td><td>0    </td><td>0    </td><td>1    </td><td>0    </td><td>0    </td><td>1    </td><td>0    </td><td>0    </td></tr>\n",
       "</tbody>\n",
       "</table>\n"
      ],
      "text/latex": [
       "\\begin{tabular}{r|lllllllllllllllllllllll}\n",
       "  & abdt & tg & inuidur1 & inuidur2 & female & black & hispanic & othrace & dep & q1 & ... & q5 & q6 & recall & agelt35 & agegt54 & durable & nondurable & lusd & husd & muld\\\\\n",
       "\\hline\n",
       "\t1 & 10824 & 0     & 18    & 18    & 0     & 0     & 0     & 0     & 2     & 0     & ...   & 1     & 0     & 0     & 0     & 0     & 0     & 0     & 0     & 1     & 0    \\\\\n",
       "\t4 & 10824 & 0     &  1    &  1    & 0     & 0     & 0     & 0     & 0     & 0     & ...   & 1     & 0     & 0     & 0     & 0     & 0     & 0     & 1     & 0     & 0    \\\\\n",
       "\t5 & 10747 & 0     & 27    & 27    & 0     & 0     & 0     & 0     & 0     & 0     & ...   & 0     & 0     & 0     & 0     & 0     & 0     & 0     & 1     & 0     & 0    \\\\\n",
       "\t13 & 10831 & 0     & 27    & 27    & 0     & 0     & 0     & 0     & 1     & 0     & ...   & 1     & 0     & 0     & 0     & 1     & 1     & 0     & 1     & 0     & 0    \\\\\n",
       "\t14 & 10845 & 0     & 27    & 27    & 1     & 0     & 0     & 0     & 0     & 0     & ...   & 1     & 0     & 0     & 0     & 1     & 0     & 0     & 1     & 0     & 0    \\\\\n",
       "\t15 & 10831 & 0     &  9    &  9    & 1     & 0     & 0     & 0     & 1     & 0     & ...   & 1     & 0     & 0     & 0     & 1     & 0     & 0     & 1     & 0     & 0    \\\\\n",
       "\\end{tabular}\n"
      ],
      "text/markdown": [
       "\n",
       "| <!--/--> | abdt | tg | inuidur1 | inuidur2 | female | black | hispanic | othrace | dep | q1 | ... | q5 | q6 | recall | agelt35 | agegt54 | durable | nondurable | lusd | husd | muld |\n",
       "|---|---|---|---|---|---|---|---|---|---|---|---|---|---|---|---|---|---|---|---|---|---|\n",
       "| 1 | 10824 | 0     | 18    | 18    | 0     | 0     | 0     | 0     | 2     | 0     | ...   | 1     | 0     | 0     | 0     | 0     | 0     | 0     | 0     | 1     | 0     |\n",
       "| 4 | 10824 | 0     |  1    |  1    | 0     | 0     | 0     | 0     | 0     | 0     | ...   | 1     | 0     | 0     | 0     | 0     | 0     | 0     | 1     | 0     | 0     |\n",
       "| 5 | 10747 | 0     | 27    | 27    | 0     | 0     | 0     | 0     | 0     | 0     | ...   | 0     | 0     | 0     | 0     | 0     | 0     | 0     | 1     | 0     | 0     |\n",
       "| 13 | 10831 | 0     | 27    | 27    | 0     | 0     | 0     | 0     | 1     | 0     | ...   | 1     | 0     | 0     | 0     | 1     | 1     | 0     | 1     | 0     | 0     |\n",
       "| 14 | 10845 | 0     | 27    | 27    | 1     | 0     | 0     | 0     | 0     | 0     | ...   | 1     | 0     | 0     | 0     | 1     | 0     | 0     | 1     | 0     | 0     |\n",
       "| 15 | 10831 | 0     |  9    |  9    | 1     | 0     | 0     | 0     | 1     | 0     | ...   | 1     | 0     | 0     | 0     | 1     | 0     | 0     | 1     | 0     | 0     |\n",
       "\n"
      ],
      "text/plain": [
       "   abdt  tg inuidur1 inuidur2 female black hispanic othrace dep q1 ... q5 q6\n",
       "1  10824 0  18       18       0      0     0        0       2   0  ... 1  0 \n",
       "4  10824 0   1        1       0      0     0        0       0   0  ... 1  0 \n",
       "5  10747 0  27       27       0      0     0        0       0   0  ... 0  0 \n",
       "13 10831 0  27       27       0      0     0        0       1   0  ... 1  0 \n",
       "14 10845 0  27       27       1      0     0        0       0   0  ... 1  0 \n",
       "15 10831 0   9        9       1      0     0        0       1   0  ... 1  0 \n",
       "   recall agelt35 agegt54 durable nondurable lusd husd muld\n",
       "1  0      0       0       0       0          0    1    0   \n",
       "4  0      0       0       0       0          1    0    0   \n",
       "5  0      0       0       0       0          1    0    0   \n",
       "13 0      0       1       1       0          1    0    0   \n",
       "14 0      0       1       0       0          1    0    0   \n",
       "15 0      0       1       0       0          1    0    0   "
      ]
     },
     "metadata": {},
     "output_type": "display_data"
    }
   ],
   "source": [
    "pen_cont = Penn[Penn$tg==0,]\n",
    "pen_tr = Penn[Penn$tg==2,]\n",
    "head(pen_cont)"
   ]
  },
  {
   "cell_type": "code",
   "execution_count": 8,
   "id": "ec43c1b1",
   "metadata": {},
   "outputs": [],
   "source": [
    "library(ggplot2)"
   ]
  },
  {
   "cell_type": "code",
   "execution_count": 9,
   "id": "13da1ad5",
   "metadata": {
    "scrolled": false
   },
   "outputs": [
    {
     "name": "stderr",
     "output_type": "stream",
     "text": [
      "`stat_bin()` using `bins = 30`. Pick better value with `binwidth`.\n"
     ]
    },
    {
     "data": {
      "image/png": "[encoded data removed]",
      "text/plain": [
       "plot without title"
      ]
     },
     "metadata": {},
     "output_type": "display_data"
    }
   ],
   "source": [
    "ggplot(NULL, aes(inuidur1)) +geom_histogram(data=pen_cont, fill=\"#66CDAA\", binwidth=)"
   ]
  },
  {
   "cell_type": "code",
   "execution_count": 10,
   "id": "b5942615",
   "metadata": {
    "scrolled": true
   },
   "outputs": [
    {
     "name": "stderr",
     "output_type": "stream",
     "text": [
      "`stat_bin()` using `bins = 30`. Pick better value with `binwidth`.\n"
     ]
    },
    {
     "data": {
      "image/png": "[encoded data removed]",
      "text/plain": [
       "plot without title"
      ]
     },
     "metadata": {},
     "output_type": "display_data"
    }
   ],
   "source": [
    "ggplot(NULL, aes(inuidur1)) + geom_histogram(data=pen_tr, fill=\"#8B0A50\")"
   ]
  },
  {
   "cell_type": "code",
   "execution_count": null,
   "id": "6a0261aa",
   "metadata": {},
   "outputs": [],
   "source": [
    "The histograms shows that the distribution for both groups are similiar. The difference between the weeks of unemployement at the benining of the period might be because the treatment group has less observations than the control group."
   ]
  },
  {
   "cell_type": "markdown",
   "id": "3c224dc9",
   "metadata": {},
   "source": [
    "### Model \n",
    "To evaluate the impact of the treatments on unemployment duration, we consider the linear regression model:\n",
    "\n",
    "$$\n",
    "Y =  D \\beta_1 + W'\\beta_2 + \\varepsilon, \\quad E \\varepsilon (D,W')' = 0,\n",
    "$$\n",
    "\n",
    "where $Y$ is  the  log of duration of unemployment, $D$ is a treatment  indicators,  and $W$ is a set of controls including age group dummies, gender, race, number of dependents, quarter of the experiment, location within the state, existence of recall expectations, and type of occupation.   Here $\\beta_1$ is the ATE, if the RCT assumptions hold rigorously.\n",
    "\n",
    "\n",
    "We also consider interactive regression model:\n",
    "\n",
    "$$\n",
    "Y =  D \\alpha_1 + D W' \\alpha_2 + W'\\beta_2 + \\varepsilon, \\quad E \\varepsilon (D,W', DW')' = 0,\n",
    "$$\n",
    "where $W$'s are demeaned (apart from the intercept), so that $\\alpha_1$ is the ATE, if the RCT assumptions hold rigorously."
   ]
  },
  {
   "cell_type": "markdown",
   "id": "75db84d6",
   "metadata": {},
   "source": [
    "Under RCT, the projection coefficient  𝛽1  has the interpretation of the causal effect of the treatment on the average outcome. We thus refer to  𝛽1  as the average treatment effect (ATE). Note that the covariates, here are independent of the treatment  𝐷 , so we can identify  𝛽1  by just linear regression of  𝑌  on  𝐷 , without adding covariates. However we do add covariates in an effort to improve the precision of our estimates of the average treatment effect."
   ]
  },
  {
   "cell_type": "markdown",
   "id": "46883ead",
   "metadata": {},
   "source": [
    "### Analysis\n",
    "\n",
    "We consider \n",
    "\n",
    "*  classical 2-sample approach, no adjustment (CL)\n",
    "*  classical linear regression adjustment (CRA)\n",
    "*  interactive regression adjusment (IRA)\n",
    "\n",
    "and carry out robust inference using the *estimatr* R packages. "
   ]
  },
  {
   "cell_type": "markdown",
   "id": "667b0613",
   "metadata": {},
   "source": [
    "# Carry out covariate balance check"
   ]
  },
  {
   "cell_type": "markdown",
   "id": "1573c7fc",
   "metadata": {},
   "source": [
    "This is done using \"lm_robust\" command which unlike \"lm\" in the base command automatically does the correct Eicher-Huber-White standard errors, instead othe classical non-robus formula based on the homoscdedasticity command."
   ]
  },
  {
   "cell_type": "code",
   "execution_count": 11,
   "id": "6e9fd0fd",
   "metadata": {
    "scrolled": false
   },
   "outputs": [
    {
     "name": "stderr",
     "output_type": "stream",
     "text": [
      "Warning message:\n",
      "\"package 'lmtest' was built under R version 3.6.3\"Loading required package: zoo\n",
      "\n",
      "Attaching package: 'zoo'\n",
      "\n",
      "The following objects are masked from 'package:base':\n",
      "\n",
      "    as.Date, as.Date.numeric\n",
      "\n"
     ]
    }
   ],
   "source": [
    "library(lmtest)\n",
    "library(sandwich)"
   ]
  },
  {
   "cell_type": "code",
   "execution_count": 12,
   "id": "5b8ddb1d",
   "metadata": {},
   "outputs": [
    {
     "data": {
      "text/plain": [
       "\n",
       "t test of coefficients:\n",
       "\n",
       "                       Estimate Std. Error t value  Pr(>|t|)    \n",
       "(Intercept)           0.5171342  0.1568823  3.2963 0.0009856 ***\n",
       "female                0.0056240  0.1324597  0.0425 0.9661352    \n",
       "black                -0.0307771  0.0847262 -0.3633 0.7164293    \n",
       "othrace              -0.4278818  0.3005502 -1.4237 0.1545993    \n",
       "factor(dep)1          0.1576567  0.1851798  0.8514 0.3945992    \n",
       "factor(dep)2         -0.1927958  0.1508926 -1.2777 0.2014067    \n",
       "q2                   -0.1092161  0.1583768 -0.6896 0.4904762    \n",
       "q3                   -0.1075663  0.1579864 -0.6809 0.4959890    \n",
       "q4                   -0.0621302  0.1581168 -0.3929 0.6943797    \n",
       "q5                   -0.0498684  0.1575034 -0.3166 0.7515450    \n",
       "q6                   -0.2176336  0.1558290 -1.3966 0.1625831    \n",
       "agelt35              -0.0643464  0.1326376 -0.4851 0.6276032    \n",
       "agegt54               0.0259251  0.2395371  0.1082 0.9138171    \n",
       "durable              -0.1256397  0.1763853 -0.7123 0.4763064    \n",
       "lusd                  0.0860694  0.0690513  1.2465 0.2126486    \n",
       "husd                 -0.0181543  0.0761231 -0.2385 0.8115132    \n",
       "female:black          0.0026783  0.0438397  0.0611 0.9512880    \n",
       "female:othrace        0.1015133  0.2062044  0.4923 0.6225301    \n",
       "female:factor(dep)1  -0.0178540  0.0448463 -0.3981 0.6905601    \n",
       "female:factor(dep)2   0.0219424  0.0397124  0.5525 0.5806048    \n",
       "female:q2            -0.0994751  0.1321625 -0.7527 0.4516778    \n",
       "female:q3            -0.0143909  0.1318197 -0.1092 0.9130705    \n",
       "female:q4            -0.0166871  0.1315462 -0.1269 0.8990607    \n",
       "female:q5            -0.0586323  0.1310954 -0.4472 0.6547126    \n",
       "female:q6             0.0549625  0.1396608  0.3935 0.6939334    \n",
       "female:agelt35        0.0333185  0.0295704  1.1268 0.2598944    \n",
       "female:agegt54       -0.0109911  0.0500743 -0.2195 0.8262722    \n",
       "female:durable       -0.0585915  0.0437316 -1.3398 0.1803639    \n",
       "female:lusd           0.0051154  0.0333352  0.1535 0.8780465    \n",
       "female:husd           0.0186705  0.0367009  0.5087 0.6109674    \n",
       "black:factor(dep)1   -0.0138871  0.0675124 -0.2057 0.8370347    \n",
       "black:factor(dep)2   -0.0230275  0.0622780 -0.3698 0.7115795    \n",
       "black:q2              0.1310560  0.0910134  1.4400 0.1499327    \n",
       "black:q3              0.0356778  0.0875644  0.4074 0.6836956    \n",
       "black:q4             -0.1094835  0.0892166 -1.2272 0.2198114    \n",
       "black:q5             -0.0107546  0.0866019 -0.1242 0.9011738    \n",
       "black:agelt35         0.0295378  0.0448494  0.6586 0.5101795    \n",
       "black:agegt54        -0.0574814  0.0820450 -0.7006 0.4835761    \n",
       "black:durable        -0.0122293  0.0694472 -0.1761 0.8602255    \n",
       "black:lusd            0.0105912  0.0551036  0.1922 0.8475884    \n",
       "black:husd            0.1309267  0.1808848  0.7238 0.4692108    \n",
       "othrace:factor(dep)1  0.5856787  0.2226353  2.6307 0.0085448 ** \n",
       "othrace:factor(dep)2 -0.1436491  0.3315486 -0.4333 0.6648372    \n",
       "othrace:q2           -0.4009126  0.3451284 -1.1616 0.2454333    \n",
       "othrace:q3            0.6008526  0.2361499  2.5444 0.0109738 *  \n",
       "othrace:q4            0.2964049  0.2870002  1.0328 0.3017560    \n",
       "othrace:q5            0.2727293  0.1923161  1.4181 0.1562076    \n",
       "othrace:agelt35       0.0077601  0.2082436  0.0373 0.9702755    \n",
       "othrace:agegt54       0.2411511  0.3193219  0.7552 0.4501618    \n",
       "othrace:durable      -0.1463647  0.2138674 -0.6844 0.4937685    \n",
       "othrace:lusd          0.0924759  0.2070878  0.4466 0.6552140    \n",
       "othrace:husd         -0.8586692  0.3178289 -2.7017 0.0069197 ** \n",
       "factor(dep)1:q2      -0.0778714  0.1856444 -0.4195 0.6748920    \n",
       "factor(dep)2:q2       0.1434300  0.1499260  0.9567 0.3387736    \n",
       "factor(dep)1:q3      -0.1493913  0.1848276 -0.8083 0.4189669    \n",
       "factor(dep)2:q3       0.1686729  0.1499105  1.1252 0.2605697    \n",
       "factor(dep)1:q4      -0.1594688  0.1838128 -0.8676 0.3856714    \n",
       "factor(dep)2:q4       0.1210031  0.1503997  0.8045 0.4211168    \n",
       "factor(dep)1:q5      -0.1176792  0.1832795 -0.6421 0.5208502    \n",
       "factor(dep)2:q5       0.1389782  0.1487634  0.9342 0.3502285    \n",
       "factor(dep)1:q6      -0.1531103  0.1949430 -0.7854 0.4322458    \n",
       "factor(dep)2:q6       0.1619139  0.1593360  1.0162 0.3095874    \n",
       "factor(dep)1:agelt35 -0.0036069  0.0467653 -0.0771 0.9385253    \n",
       "factor(dep)2:agelt35  0.0615367  0.0371449  1.6567 0.0976424 .  \n",
       "factor(dep)1:agegt54 -0.0883148  0.0649947 -1.3588 0.1742643    \n",
       "factor(dep)2:agegt54 -0.0784522  0.1509474 -0.5197 0.6032706    \n",
       "factor(dep)1:durable  0.0088069  0.0577750  0.1524 0.8788500    \n",
       "factor(dep)2:durable -0.0923628  0.0509130 -1.8141 0.0697103 .  \n",
       "factor(dep)1:lusd     0.0358529  0.0504978  0.7100 0.4777404    \n",
       "factor(dep)2:lusd     0.0706587  0.0459827  1.5366 0.1244382    \n",
       "factor(dep)1:husd    -0.0180593  0.0542162 -0.3331 0.7390723    \n",
       "factor(dep)2:husd     0.0065759  0.0476358  0.1380 0.8902087    \n",
       "q2:agelt35            0.0305875  0.1325911  0.2307 0.8175636    \n",
       "q2:agegt54            0.0590330  0.2393334  0.2467 0.8051835    \n",
       "q2:durable            0.1371323  0.1750979  0.7832 0.4335568    \n",
       "q2:lusd              -0.0530912  0.0720069 -0.7373 0.4609656    \n",
       "q2:husd               0.0859891  0.0776931  1.1068 0.2684364    \n",
       "q3:agelt35            0.0303266  0.1323929  0.2291 0.8188267    \n",
       "q3:agegt54            0.0250950  0.2378238  0.1055 0.9159676    \n",
       "q3:durable            0.1904666  0.1749626  1.0886 0.2763706    \n",
       "q3:lusd              -0.0706455  0.0705820 -1.0009 0.3169179    \n",
       "q3:husd               0.0444347  0.0773385  0.5745 0.5656194    \n",
       "q4:agelt35            0.0722676  0.1322839  0.5463 0.5848765    \n",
       "q4:agegt54           -0.0192713  0.2369080 -0.0813 0.9351705    \n",
       "q4:durable            0.1228723  0.1757888  0.6990 0.4845949    \n",
       "q4:lusd              -0.1132011  0.0712124 -1.5896 0.1119751    \n",
       "q4:husd               0.0103329  0.0772952  0.1337 0.8936596    \n",
       "q5:agelt35            0.0464703  0.1315468  0.3533 0.7239064    \n",
       "q5:agegt54           -0.1165307  0.2361590 -0.4934 0.6217196    \n",
       "q5:durable            0.1024633  0.1734395  0.5908 0.5546963    \n",
       "q5:lusd              -0.0357169  0.0702997 -0.5081 0.6114269    \n",
       "q5:husd               0.0269861  0.0756590  0.3567 0.7213443    \n",
       "q6:agelt35            0.1099339  0.1397160  0.7868 0.4314094    \n",
       "q6:agegt54           -0.0173502  0.2478564 -0.0700 0.9441953    \n",
       "q6:durable            0.2161095  0.1833399  1.1787 0.2385522    \n",
       "agelt35:durable       0.0323100  0.0403347  0.8010 0.4231383    \n",
       "agelt35:lusd         -0.0091978  0.0346701 -0.2653 0.7907913    \n",
       "agelt35:husd         -0.0249924  0.0389720 -0.6413 0.5213594    \n",
       "agegt54:durable      -0.0154688  0.0654590 -0.2363 0.8131985    \n",
       "agegt54:lusd          0.0286866  0.0569181  0.5040 0.6142822    \n",
       "agegt54:husd         -0.0423210  0.0610019 -0.6938 0.4878572    \n",
       "durable:lusd         -0.0385741  0.0428073 -0.9011 0.3675670    \n",
       "durable:husd          0.0093281  0.0525225  0.1776 0.8590417    \n",
       "---\n",
       "Signif. codes:  0 '***' 0.001 '**' 0.01 '*' 0.05 '.' 0.1 ' ' 1\n"
      ]
     },
     "metadata": {},
     "output_type": "display_data"
    }
   ],
   "source": [
    "m <- lm(T2~(female+black+othrace+factor(dep)+q2+q3+q4+q5+q6+agelt35+agegt54+durable+lusd+husd)^2)\n",
    "\n",
    "coeftest(m, vcov = vcovHC(m, type=\"HC1\"))"
   ]
  },
  {
   "cell_type": "code",
   "execution_count": 13,
   "id": "9d26f72f",
   "metadata": {},
   "outputs": [
    {
     "data": {
      "text/html": [
       "<table>\n",
       "<thead><tr><th scope=col>(Intercept)</th><th scope=col>female</th><th scope=col>black</th><th scope=col>othrace</th><th scope=col>factor(dep)1</th><th scope=col>factor(dep)2</th><th scope=col>q2</th><th scope=col>q3</th><th scope=col>q4</th><th scope=col>q5</th><th scope=col>...</th><th scope=col>agelt35:agegt54</th><th scope=col>agelt35:durable</th><th scope=col>agelt35:lusd</th><th scope=col>agelt35:husd</th><th scope=col>agegt54:durable</th><th scope=col>agegt54:lusd</th><th scope=col>agegt54:husd</th><th scope=col>durable:lusd</th><th scope=col>durable:husd</th><th scope=col>lusd:husd</th></tr></thead>\n",
       "<tbody>\n",
       "\t<tr><td>1  </td><td>0  </td><td>0  </td><td>0  </td><td>0  </td><td>1  </td><td>0  </td><td>0  </td><td>0  </td><td>1  </td><td>...</td><td>0  </td><td>0  </td><td>0  </td><td>0  </td><td>0  </td><td>0  </td><td>0  </td><td>0  </td><td>0  </td><td>0  </td></tr>\n",
       "\t<tr><td>1  </td><td>0  </td><td>0  </td><td>0  </td><td>0  </td><td>0  </td><td>0  </td><td>1  </td><td>0  </td><td>0  </td><td>...</td><td>0  </td><td>0  </td><td>1  </td><td>0  </td><td>0  </td><td>0  </td><td>0  </td><td>0  </td><td>0  </td><td>0  </td></tr>\n",
       "\t<tr><td>1  </td><td>0  </td><td>0  </td><td>0  </td><td>0  </td><td>0  </td><td>0  </td><td>0  </td><td>0  </td><td>1  </td><td>...</td><td>0  </td><td>0  </td><td>0  </td><td>0  </td><td>0  </td><td>0  </td><td>0  </td><td>0  </td><td>0  </td><td>0  </td></tr>\n",
       "\t<tr><td>1  </td><td>0  </td><td>0  </td><td>0  </td><td>0  </td><td>0  </td><td>0  </td><td>0  </td><td>1  </td><td>0  </td><td>...</td><td>0  </td><td>0  </td><td>0  </td><td>0  </td><td>0  </td><td>0  </td><td>0  </td><td>0  </td><td>0  </td><td>0  </td></tr>\n",
       "\t<tr><td>1  </td><td>1  </td><td>0  </td><td>0  </td><td>0  </td><td>0  </td><td>0  </td><td>0  </td><td>1  </td><td>0  </td><td>...</td><td>0  </td><td>0  </td><td>0  </td><td>0  </td><td>0  </td><td>0  </td><td>0  </td><td>0  </td><td>0  </td><td>0  </td></tr>\n",
       "\t<tr><td>1  </td><td>0  </td><td>0  </td><td>0  </td><td>1  </td><td>0  </td><td>0  </td><td>0  </td><td>0  </td><td>1  </td><td>...</td><td>0  </td><td>0  </td><td>0  </td><td>0  </td><td>1  </td><td>1  </td><td>0  </td><td>1  </td><td>0  </td><td>0  </td></tr>\n",
       "</tbody>\n",
       "</table>\n"
      ],
      "text/latex": [
       "\\begin{tabular}{r|llllllllllllllllllllllllllllllllllllllllllllllllllllllllllllllllllllllllllllllllllllllllllllllllllllllllllllllllllllllll}\n",
       " (Intercept) & female & black & othrace & factor(dep)1 & factor(dep)2 & q2 & q3 & q4 & q5 & ... & agelt35:agegt54 & agelt35:durable & agelt35:lusd & agelt35:husd & agegt54:durable & agegt54:lusd & agegt54:husd & durable:lusd & durable:husd & lusd:husd\\\\\n",
       "\\hline\n",
       "\t 1   & 0   & 0   & 0   & 0   & 1   & 0   & 0   & 0   & 1   & ... & 0   & 0   & 0   & 0   & 0   & 0   & 0   & 0   & 0   & 0  \\\\\n",
       "\t 1   & 0   & 0   & 0   & 0   & 0   & 0   & 1   & 0   & 0   & ... & 0   & 0   & 1   & 0   & 0   & 0   & 0   & 0   & 0   & 0  \\\\\n",
       "\t 1   & 0   & 0   & 0   & 0   & 0   & 0   & 0   & 0   & 1   & ... & 0   & 0   & 0   & 0   & 0   & 0   & 0   & 0   & 0   & 0  \\\\\n",
       "\t 1   & 0   & 0   & 0   & 0   & 0   & 0   & 0   & 1   & 0   & ... & 0   & 0   & 0   & 0   & 0   & 0   & 0   & 0   & 0   & 0  \\\\\n",
       "\t 1   & 1   & 0   & 0   & 0   & 0   & 0   & 0   & 1   & 0   & ... & 0   & 0   & 0   & 0   & 0   & 0   & 0   & 0   & 0   & 0  \\\\\n",
       "\t 1   & 0   & 0   & 0   & 1   & 0   & 0   & 0   & 0   & 1   & ... & 0   & 0   & 0   & 0   & 1   & 1   & 0   & 1   & 0   & 0  \\\\\n",
       "\\end{tabular}\n"
      ],
      "text/markdown": [
       "\n",
       "| (Intercept) | female | black | othrace | factor(dep)1 | factor(dep)2 | q2 | q3 | q4 | q5 | ... | agelt35:agegt54 | agelt35:durable | agelt35:lusd | agelt35:husd | agegt54:durable | agegt54:lusd | agegt54:husd | durable:lusd | durable:husd | lusd:husd |\n",
       "|---|---|---|---|---|---|---|---|---|---|---|---|---|---|---|---|---|---|---|---|---|\n",
       "| 1   | 0   | 0   | 0   | 0   | 1   | 0   | 0   | 0   | 1   | ... | 0   | 0   | 0   | 0   | 0   | 0   | 0   | 0   | 0   | 0   |\n",
       "| 1   | 0   | 0   | 0   | 0   | 0   | 0   | 1   | 0   | 0   | ... | 0   | 0   | 1   | 0   | 0   | 0   | 0   | 0   | 0   | 0   |\n",
       "| 1   | 0   | 0   | 0   | 0   | 0   | 0   | 0   | 0   | 1   | ... | 0   | 0   | 0   | 0   | 0   | 0   | 0   | 0   | 0   | 0   |\n",
       "| 1   | 0   | 0   | 0   | 0   | 0   | 0   | 0   | 1   | 0   | ... | 0   | 0   | 0   | 0   | 0   | 0   | 0   | 0   | 0   | 0   |\n",
       "| 1   | 1   | 0   | 0   | 0   | 0   | 0   | 0   | 1   | 0   | ... | 0   | 0   | 0   | 0   | 0   | 0   | 0   | 0   | 0   | 0   |\n",
       "| 1   | 0   | 0   | 0   | 1   | 0   | 0   | 0   | 0   | 1   | ... | 0   | 0   | 0   | 0   | 1   | 1   | 0   | 1   | 0   | 0   |\n",
       "\n"
      ],
      "text/plain": [
       "  (Intercept) female black othrace factor(dep)1 factor(dep)2 q2 q3 q4 q5 ...\n",
       "1 1           0      0     0       0            1            0  0  0  1  ...\n",
       "2 1           0      0     0       0            0            0  1  0  0  ...\n",
       "3 1           0      0     0       0            0            0  0  0  1  ...\n",
       "4 1           0      0     0       0            0            0  0  1  0  ...\n",
       "5 1           1      0     0       0            0            0  0  1  0  ...\n",
       "6 1           0      0     0       1            0            0  0  0  1  ...\n",
       "  agelt35:agegt54 agelt35:durable agelt35:lusd agelt35:husd agegt54:durable\n",
       "1 0               0               0            0            0              \n",
       "2 0               0               1            0            0              \n",
       "3 0               0               0            0            0              \n",
       "4 0               0               0            0            0              \n",
       "5 0               0               0            0            0              \n",
       "6 0               0               0            0            1              \n",
       "  agegt54:lusd agegt54:husd durable:lusd durable:husd lusd:husd\n",
       "1 0            0            0            0            0        \n",
       "2 0            0            0            0            0        \n",
       "3 0            0            0            0            0        \n",
       "4 0            0            0            0            0        \n",
       "5 0            0            0            0            0        \n",
       "6 1            0            1            0            0        "
      ]
     },
     "metadata": {},
     "output_type": "display_data"
    },
    {
     "data": {
      "text/html": [
       "120"
      ],
      "text/latex": [
       "120"
      ],
      "text/markdown": [
       "120"
      ],
      "text/plain": [
       "[1] 120"
      ]
     },
     "metadata": {},
     "output_type": "display_data"
    }
   ],
   "source": [
    "# get same dataframe\n",
    "\n",
    "X <- as.data.frame( model.matrix(m) )\n",
    "\n",
    "head(X) \n",
    "length(X)\n"
   ]
  },
  {
   "cell_type": "code",
   "execution_count": 14,
   "id": "cd0f72be",
   "metadata": {},
   "outputs": [],
   "source": [
    "no_col <- attributes(m$coefficients)$names[is.na(m$coefficients)]\n",
    "\n",
    "X1  <- X[, -which(names( X ) %in% no_col ) ]\n",
    "names(X1)[2] <- \"T2\"\n"
   ]
  },
  {
   "cell_type": "code",
   "execution_count": null,
   "id": "de4f6f1c",
   "metadata": {},
   "outputs": [],
   "source": [
    "save( X1, file = \"../../data/m_reg2.RData\")"
   ]
  },
  {
   "cell_type": "markdown",
   "id": "d64aea68",
   "metadata": {},
   "source": [
    "# Analyzing RCT data with Precision Adjustment"
   ]
  },
  {
   "cell_type": "markdown",
   "id": "97cc3d1b",
   "metadata": {},
   "source": [
    "## 1. & 2. No adjustment (2-sample approach) (CL) & classical linear regression adjustment (CRA)"
   ]
  },
  {
   "cell_type": "code",
   "execution_count": 15,
   "id": "622fe08d",
   "metadata": {
    "scrolled": false
   },
   "outputs": [
    {
     "name": "stdout",
     "output_type": "stream",
     "text": [
      "\n",
      "t test of coefficients:\n",
      "\n",
      "             Estimate Std. Error t value Pr(>|t|)    \n",
      "(Intercept)  2.056830   0.020954 98.1580  < 2e-16 ***\n",
      "T2TRUE      -0.078825   0.032509 -2.4247  0.01535 *  \n",
      "---\n",
      "Signif. codes:  0 '***' 0.001 '**' 0.01 '*' 0.05 '.' 0.1 ' ' 1\n",
      "\n",
      "\n",
      "t test of coefficients:\n",
      "\n",
      "                       Estimate Std. Error t value  Pr(>|t|)    \n",
      "(Intercept)           2.4471832  0.3580899  6.8340 9.123e-12 ***\n",
      "T2TRUE               -0.0712066  0.0320440 -2.2222 0.0263124 *  \n",
      "female               -0.9428048  0.2827961 -3.3339 0.0008620 ***\n",
      "black                -0.6654258  0.2430567 -2.7377 0.0062056 ** \n",
      "othrace              -1.5494550  0.7312071 -2.1190 0.0341306 *  \n",
      "factor(dep)1          0.2798498  0.3783316  0.7397 0.4595160    \n",
      "factor(dep)2          0.1678164  0.3678718  0.4562 0.6482768    \n",
      "q2                    0.0271228  0.3606226  0.0752 0.9400495    \n",
      "q3                   -0.3542370  0.3601780 -0.9835 0.3254005    \n",
      "q4                   -0.3380244  0.3606994 -0.9371 0.3487284    \n",
      "q5                   -0.1777168  0.3598757 -0.4938 0.6214465    \n",
      "q6                   -0.4456044  0.3612792 -1.2334 0.2174749    \n",
      "agelt35              -0.3264815  0.3108711 -1.0502 0.2936639    \n",
      "agegt54              -0.1551504  0.4796700 -0.3235 0.7463646    \n",
      "durable              -1.0151542  0.4449002 -2.2818 0.0225405 *  \n",
      "lusd                 -0.1193717  0.1744506 -0.6843 0.4938310    \n",
      "husd                  0.0702968  0.1877772  0.3744 0.7081482    \n",
      "female:black         -0.2840034  0.1181815 -2.4031 0.0162880 *  \n",
      "female:othrace        0.4211653  0.4881117  0.8628 0.3882586    \n",
      "female:factor(dep)1  -0.0852110  0.1097575 -0.7764 0.4375706    \n",
      "female:factor(dep)2   0.0191663  0.0960257  0.1996 0.8418042    \n",
      "female:q2             0.7579484  0.2816463  2.6911 0.0071418 ** \n",
      "female:q3             1.1132040  0.2804776  3.9690 7.308e-05 ***\n",
      "female:q4             1.0476270  0.2803218  3.7372 0.0001879 ***\n",
      "female:q5             0.9391723  0.2797468  3.3572 0.0007925 ***\n",
      "female:q6             1.0943376  0.3051864  3.5858 0.0003389 ***\n",
      "female:agelt35        0.0897041  0.0717530  1.2502 0.2112858    \n",
      "female:agegt54        0.1052300  0.1192511  0.8824 0.3775848    \n",
      "female:durable        0.1479312  0.1045882  1.4144 0.1572946    \n",
      "female:lusd           0.1040466  0.0803795  1.2944 0.1955654    \n",
      "female:husd           0.0405424  0.0871027  0.4655 0.6416233    \n",
      "black:factor(dep)1    0.2550534  0.1776949  1.4353 0.1512441    \n",
      "black:factor(dep)2   -0.0026687  0.1685717 -0.0158 0.9873694    \n",
      "black:q2              0.1578965  0.2541864  0.6212 0.5345037    \n",
      "black:q3              0.3136968  0.2421894  1.2953 0.1952852    \n",
      "black:q4              0.4070568  0.2531613  1.6079 0.1079138    \n",
      "black:q5              0.4779693  0.2423807  1.9720 0.0486606 *  \n",
      "black:agelt35        -0.0327885  0.1199314 -0.2734 0.7845605    \n",
      "black:agegt54         0.2404150  0.2150911  1.1177 0.2637272    \n",
      "black:durable         0.1604680  0.1818229  0.8826 0.3775165    \n",
      "black:lusd            0.0976747  0.1397249  0.6991 0.4845494    \n",
      "black:husd            0.5226586  0.4705587  1.1107 0.2667363    \n",
      "othrace:factor(dep)1  1.1661534  0.5688725  2.0499 0.0404163 *  \n",
      "othrace:factor(dep)2 -0.7687279  0.6882470 -1.1169 0.2640689    \n",
      "othrace:q2            1.5108063  0.7553314  2.0002 0.0455273 *  \n",
      "othrace:q3            0.2915823  0.4010420  0.7271 0.4672180    \n",
      "othrace:q4            0.9422587  0.5216038  1.8065 0.0708987 .  \n",
      "othrace:q5            0.9633463  0.4508887  2.1366 0.0326772 *  \n",
      "othrace:agelt35      -0.1902437  0.5742114 -0.3313 0.7404203    \n",
      "othrace:agegt54      -1.5319860  0.7774149 -1.9706 0.0488163 *  \n",
      "othrace:durable       1.9037227  0.2984229  6.3793 1.920e-10 ***\n",
      "othrace:lusd         -0.1288020  0.3847564 -0.3348 0.7378166    \n",
      "othrace:husd          0.6131158  0.6322611  0.9697 0.3322277    \n",
      "factor(dep)1:q2      -0.0578297  0.3766295 -0.1535 0.8779737    \n",
      "factor(dep)2:q2      -0.0868354  0.3663258 -0.2370 0.8126310    \n",
      "factor(dep)1:q3      -0.1448244  0.3766926 -0.3845 0.7006496    \n",
      "factor(dep)2:q3      -0.0664361  0.3661251 -0.1815 0.8560150    \n",
      "factor(dep)1:q4      -0.2322822  0.3758156 -0.6181 0.5365507    \n",
      "factor(dep)2:q4      -0.0189174  0.3664236 -0.0516 0.9588277    \n",
      "factor(dep)1:q5      -0.1366847  0.3745611 -0.3649 0.7151851    \n",
      "factor(dep)2:q5      -0.3474112  0.3658274 -0.9497 0.3423260    \n",
      "factor(dep)1:q6      -0.0754430  0.4237563 -0.1780 0.8587026    \n",
      "factor(dep)2:q6       0.1670275  0.3862462  0.4324 0.6654396    \n",
      "factor(dep)1:agelt35  0.0295559  0.1110959  0.2660 0.7902184    \n",
      "factor(dep)2:agelt35  0.0604359  0.0884161  0.6835 0.4942940    \n",
      "factor(dep)1:agegt54 -0.0653782  0.1579819 -0.4138 0.6790114    \n",
      "factor(dep)2:agegt54  0.2389402  0.3502460  0.6822 0.4951360    \n",
      "factor(dep)1:durable  0.2490245  0.1390534  1.7909 0.0733699 .  \n",
      "factor(dep)2:durable  0.1155334  0.1210212  0.9547 0.3397934    \n",
      "factor(dep)1:lusd    -0.1891318  0.1198463 -1.5781 0.1145937    \n",
      "factor(dep)2:lusd     0.0099694  0.1080574  0.0923 0.9264947    \n",
      "factor(dep)1:husd     0.0210466  0.1300914  0.1618 0.8714822    \n",
      "factor(dep)2:husd     0.0643927  0.1120225  0.5748 0.5654361    \n",
      "q2:agelt35            0.1074960  0.3106163  0.3461 0.7293005    \n",
      "q2:agegt54            0.2089269  0.4790236  0.4362 0.6627433    \n",
      "q2:durable            0.4369419  0.4446247  0.9827 0.3257868    \n",
      "q2:lusd              -0.0452343  0.1775655 -0.2547 0.7989278    \n",
      "q2:husd              -0.2223717  0.1866781 -1.1912 0.2336234    \n",
      "q3:agelt35            0.1804517  0.3105857  0.5810 0.5612606    \n",
      "q3:agegt54            0.5556566  0.4753225  1.1690 0.2424487    \n",
      "q3:durable            0.8395937  0.4443589  1.8894 0.0588825 .  \n",
      "q3:lusd              -0.0159614  0.1750847 -0.0912 0.9273658    \n",
      "q3:husd              -0.1130923  0.1853528 -0.6101 0.5417894    \n",
      "q4:agelt35            0.1182933  0.3104549  0.3810 0.7031937    \n",
      "q4:agegt54            0.3742015  0.4730138  0.7911 0.4289183    \n",
      "q4:durable            0.7433954  0.4469877  1.6631 0.0963430 .  \n",
      "q4:lusd              -0.0222100  0.1777450 -0.1250 0.9005644    \n",
      "q4:husd              -0.1847688  0.1860619 -0.9931 0.3207276    \n",
      "q5:agelt35           -0.0347993  0.3094880 -0.1124 0.9104773    \n",
      "q5:agegt54            0.2173394  0.4741739  0.4584 0.6467158    \n",
      "q5:durable            0.8553983  0.4436236  1.9282 0.0538791 .  \n",
      "q5:lusd              -0.1842941  0.1767158 -1.0429 0.2970464    \n",
      "q5:husd              -0.2741579  0.1844937 -1.4860 0.1373343    \n",
      "q6:agelt35            0.1822011  0.3330819  0.5470 0.5843893    \n",
      "q6:agegt54            0.6639470  0.5038773  1.3177 0.1876654    \n",
      "q6:durable            1.1466872  0.4656818  2.4624 0.0138312 *  \n",
      "agelt35:durable       0.0130415  0.0974530  0.1338 0.8935470    \n",
      "agelt35:lusd         -0.0561347  0.0826337 -0.6793 0.4969628    \n",
      "agelt35:husd          0.0174718  0.0917544  0.1904 0.8489878    \n",
      "agegt54:durable      -0.0133916  0.1551439 -0.0863 0.9312172    \n",
      "agegt54:lusd         -0.0236037  0.1297822 -0.1819 0.8556901    \n",
      "agegt54:husd         -0.2739141  0.1437349 -1.9057 0.0567409 .  \n",
      "durable:lusd          0.2916144  0.1033609  2.8213 0.0047992 ** \n",
      "durable:husd          0.3027337  0.1242434  2.4366 0.0148558 *  \n",
      "---\n",
      "Signif. codes:  0 '***' 0.001 '**' 0.01 '*' 0.05 '.' 0.1 ' ' 1\n",
      "\n"
     ]
    }
   ],
   "source": [
    "\n",
    "# no adjustment (2-sample approach)\n",
    "formula_cl <- log(inuidur1)~T2\n",
    "\n",
    "# adding controls\n",
    "\n",
    "formula_cra <- log(inuidur1)~T2+ (female+black+othrace+factor(dep)+q2+q3+q4+q5+q6+agelt35+agegt54+durable+lusd+husd)^2\n",
    "\n",
    "# Omitted dummies: q1, nondurable, muld\n",
    "\n",
    "\n",
    "ols.cl_reg <- lm(formula_cl)\n",
    "ols.cra_reg <- lm(formula_cra)\n",
    "\n",
    "\n",
    "ols.cl = coeftest(ols.cl_reg, vcov = vcovHC(ols.cl_reg, type=\"HC1\"))\n",
    "ols.cra = coeftest(ols.cra_reg, vcov = vcovHC(ols.cra_reg, type=\"HC1\"))\n",
    "\n",
    "print(ols.cl)\n",
    "print(ols.cra)"
   ]
  },
  {
   "cell_type": "code",
   "execution_count": 16,
   "id": "76531130",
   "metadata": {},
   "outputs": [
    {
     "data": {
      "text/html": [
       "<ol class=list-inline>\n",
       "\t<li>5782</li>\n",
       "\t<li>119</li>\n",
       "</ol>\n"
      ],
      "text/latex": [
       "\\begin{enumerate*}\n",
       "\\item 5782\n",
       "\\item 119\n",
       "\\end{enumerate*}\n"
      ],
      "text/markdown": [
       "1. 5782\n",
       "2. 119\n",
       "\n",
       "\n"
      ],
      "text/plain": [
       "[1] 5782  119"
      ]
     },
     "metadata": {},
     "output_type": "display_data"
    }
   ],
   "source": [
    " #interactive regression model\n",
    "\n",
    "X <- model.matrix(~(female+black+othrace+factor(dep)+q2+q3+q4+q5+q6+agelt35+agegt54+durable+lusd+husd)^2)[,-1] #without intercept\n",
    "\n",
    "dim(X)"
   ]
  },
  {
   "cell_type": "code",
   "execution_count": 17,
   "id": "d5117023",
   "metadata": {},
   "outputs": [],
   "source": [
    "# get same dataframe for ols.cl \n",
    "\n",
    "X <- as.data.frame( model.matrix(ols.cra_reg) )\n",
    "\n",
    "no_col <- attributes(ols.cra_reg$coefficients)$names[is.na(ols.cra_reg$coefficients)]\n",
    "\n",
    "X1  <- X[, -which(names( X ) %in% no_col ) ]\n",
    "\n",
    "\n",
    "names(X1)[2] <- \"T2\"\n"
   ]
  },
  {
   "cell_type": "code",
   "execution_count": null,
   "id": "98a5becf",
   "metadata": {},
   "outputs": [],
   "source": [
    "save( X1, file = \"../../data/ols_cra_reg2.RData\")"
   ]
  },
  {
   "cell_type": "code",
   "execution_count": 18,
   "id": "43f37ff3",
   "metadata": {
    "scrolled": false
   },
   "outputs": [
    {
     "data": {
      "text/html": [
       "<table>\n",
       "<thead><tr><th scope=col>(Intercept)</th><th scope=col>female</th><th scope=col>black</th><th scope=col>othrace</th><th scope=col>factor(dep)1</th><th scope=col>factor(dep)2</th><th scope=col>q2</th><th scope=col>q3</th><th scope=col>q4</th><th scope=col>q5</th><th scope=col>...</th><th scope=col>agelt35:agegt54</th><th scope=col>agelt35:durable</th><th scope=col>agelt35:lusd</th><th scope=col>agelt35:husd</th><th scope=col>agegt54:durable</th><th scope=col>agegt54:lusd</th><th scope=col>agegt54:husd</th><th scope=col>durable:lusd</th><th scope=col>durable:husd</th><th scope=col>lusd:husd</th></tr></thead>\n",
       "<tbody>\n",
       "\t<tr><td>1  </td><td>0  </td><td>0  </td><td>0  </td><td>0  </td><td>1  </td><td>0  </td><td>0  </td><td>0  </td><td>1  </td><td>...</td><td>0  </td><td>0  </td><td>0  </td><td>0  </td><td>0  </td><td>0  </td><td>0  </td><td>0  </td><td>0  </td><td>0  </td></tr>\n",
       "\t<tr><td>1  </td><td>0  </td><td>0  </td><td>0  </td><td>0  </td><td>0  </td><td>0  </td><td>1  </td><td>0  </td><td>0  </td><td>...</td><td>0  </td><td>0  </td><td>1  </td><td>0  </td><td>0  </td><td>0  </td><td>0  </td><td>0  </td><td>0  </td><td>0  </td></tr>\n",
       "\t<tr><td>1  </td><td>0  </td><td>0  </td><td>0  </td><td>0  </td><td>0  </td><td>0  </td><td>0  </td><td>0  </td><td>1  </td><td>...</td><td>0  </td><td>0  </td><td>0  </td><td>0  </td><td>0  </td><td>0  </td><td>0  </td><td>0  </td><td>0  </td><td>0  </td></tr>\n",
       "\t<tr><td>1  </td><td>0  </td><td>0  </td><td>0  </td><td>0  </td><td>0  </td><td>0  </td><td>0  </td><td>1  </td><td>0  </td><td>...</td><td>0  </td><td>0  </td><td>0  </td><td>0  </td><td>0  </td><td>0  </td><td>0  </td><td>0  </td><td>0  </td><td>0  </td></tr>\n",
       "\t<tr><td>1  </td><td>1  </td><td>0  </td><td>0  </td><td>0  </td><td>0  </td><td>0  </td><td>0  </td><td>1  </td><td>0  </td><td>...</td><td>0  </td><td>0  </td><td>0  </td><td>0  </td><td>0  </td><td>0  </td><td>0  </td><td>0  </td><td>0  </td><td>0  </td></tr>\n",
       "\t<tr><td>1  </td><td>0  </td><td>0  </td><td>0  </td><td>1  </td><td>0  </td><td>0  </td><td>0  </td><td>0  </td><td>1  </td><td>...</td><td>0  </td><td>0  </td><td>0  </td><td>0  </td><td>1  </td><td>1  </td><td>0  </td><td>1  </td><td>0  </td><td>0  </td></tr>\n",
       "</tbody>\n",
       "</table>\n"
      ],
      "text/latex": [
       "\\begin{tabular}{r|llllllllllllllllllllllllllllllllllllllllllllllllllllllllllllllllllllllllllllllllllllllllllllllllllllllllllllllllllllllll}\n",
       " (Intercept) & female & black & othrace & factor(dep)1 & factor(dep)2 & q2 & q3 & q4 & q5 & ... & agelt35:agegt54 & agelt35:durable & agelt35:lusd & agelt35:husd & agegt54:durable & agegt54:lusd & agegt54:husd & durable:lusd & durable:husd & lusd:husd\\\\\n",
       "\\hline\n",
       "\t 1   & 0   & 0   & 0   & 0   & 1   & 0   & 0   & 0   & 1   & ... & 0   & 0   & 0   & 0   & 0   & 0   & 0   & 0   & 0   & 0  \\\\\n",
       "\t 1   & 0   & 0   & 0   & 0   & 0   & 0   & 1   & 0   & 0   & ... & 0   & 0   & 1   & 0   & 0   & 0   & 0   & 0   & 0   & 0  \\\\\n",
       "\t 1   & 0   & 0   & 0   & 0   & 0   & 0   & 0   & 0   & 1   & ... & 0   & 0   & 0   & 0   & 0   & 0   & 0   & 0   & 0   & 0  \\\\\n",
       "\t 1   & 0   & 0   & 0   & 0   & 0   & 0   & 0   & 1   & 0   & ... & 0   & 0   & 0   & 0   & 0   & 0   & 0   & 0   & 0   & 0  \\\\\n",
       "\t 1   & 1   & 0   & 0   & 0   & 0   & 0   & 0   & 1   & 0   & ... & 0   & 0   & 0   & 0   & 0   & 0   & 0   & 0   & 0   & 0  \\\\\n",
       "\t 1   & 0   & 0   & 0   & 1   & 0   & 0   & 0   & 0   & 1   & ... & 0   & 0   & 0   & 0   & 1   & 1   & 0   & 1   & 0   & 0  \\\\\n",
       "\\end{tabular}\n"
      ],
      "text/markdown": [
       "\n",
       "| (Intercept) | female | black | othrace | factor(dep)1 | factor(dep)2 | q2 | q3 | q4 | q5 | ... | agelt35:agegt54 | agelt35:durable | agelt35:lusd | agelt35:husd | agegt54:durable | agegt54:lusd | agegt54:husd | durable:lusd | durable:husd | lusd:husd |\n",
       "|---|---|---|---|---|---|---|---|---|---|---|---|---|---|---|---|---|---|---|---|---|\n",
       "| 1   | 0   | 0   | 0   | 0   | 1   | 0   | 0   | 0   | 1   | ... | 0   | 0   | 0   | 0   | 0   | 0   | 0   | 0   | 0   | 0   |\n",
       "| 1   | 0   | 0   | 0   | 0   | 0   | 0   | 1   | 0   | 0   | ... | 0   | 0   | 1   | 0   | 0   | 0   | 0   | 0   | 0   | 0   |\n",
       "| 1   | 0   | 0   | 0   | 0   | 0   | 0   | 0   | 0   | 1   | ... | 0   | 0   | 0   | 0   | 0   | 0   | 0   | 0   | 0   | 0   |\n",
       "| 1   | 0   | 0   | 0   | 0   | 0   | 0   | 0   | 1   | 0   | ... | 0   | 0   | 0   | 0   | 0   | 0   | 0   | 0   | 0   | 0   |\n",
       "| 1   | 1   | 0   | 0   | 0   | 0   | 0   | 0   | 1   | 0   | ... | 0   | 0   | 0   | 0   | 0   | 0   | 0   | 0   | 0   | 0   |\n",
       "| 1   | 0   | 0   | 0   | 1   | 0   | 0   | 0   | 0   | 1   | ... | 0   | 0   | 0   | 0   | 1   | 1   | 0   | 1   | 0   | 0   |\n",
       "\n"
      ],
      "text/plain": [
       "  (Intercept) female black othrace factor(dep)1 factor(dep)2 q2 q3 q4 q5 ...\n",
       "1 1           0      0     0       0            1            0  0  0  1  ...\n",
       "2 1           0      0     0       0            0            0  1  0  0  ...\n",
       "3 1           0      0     0       0            0            0  0  0  1  ...\n",
       "4 1           0      0     0       0            0            0  0  1  0  ...\n",
       "5 1           1      0     0       0            0            0  0  1  0  ...\n",
       "6 1           0      0     0       1            0            0  0  0  1  ...\n",
       "  agelt35:agegt54 agelt35:durable agelt35:lusd agelt35:husd agegt54:durable\n",
       "1 0               0               0            0            0              \n",
       "2 0               0               1            0            0              \n",
       "3 0               0               0            0            0              \n",
       "4 0               0               0            0            0              \n",
       "5 0               0               0            0            0              \n",
       "6 0               0               0            0            1              \n",
       "  agegt54:lusd agegt54:husd durable:lusd durable:husd lusd:husd\n",
       "1 0            0            0            0            0        \n",
       "2 0            0            0            0            0        \n",
       "3 0            0            0            0            0        \n",
       "4 0            0            0            0            0        \n",
       "5 0            0            0            0            0        \n",
       "6 1            0            1            0            0        "
      ]
     },
     "metadata": {},
     "output_type": "display_data"
    }
   ],
   "source": [
    "X <- X[,-2]\n",
    "head(X)"
   ]
  },
  {
   "cell_type": "code",
   "execution_count": 19,
   "id": "47f5f2aa",
   "metadata": {},
   "outputs": [
    {
     "data": {
      "text/html": [
       "'data.frame'"
      ],
      "text/latex": [
       "'data.frame'"
      ],
      "text/markdown": [
       "'data.frame'"
      ],
      "text/plain": [
       "[1] \"data.frame\""
      ]
     },
     "metadata": {},
     "output_type": "display_data"
    }
   ],
   "source": [
    "class(X1)"
   ]
  },
  {
   "cell_type": "code",
   "execution_count": 20,
   "id": "e3d14909",
   "metadata": {},
   "outputs": [
    {
     "data": {
      "text/html": [
       "<table>\n",
       "<thead><tr><th scope=col>(Intercept)</th><th scope=col>T2</th><th scope=col>female</th><th scope=col>black</th><th scope=col>othrace</th><th scope=col>factor(dep)1</th><th scope=col>factor(dep)2</th><th scope=col>q2</th><th scope=col>q3</th><th scope=col>q4</th><th scope=col>...</th><th scope=col>q6:agegt54</th><th scope=col>q6:durable</th><th scope=col>agelt35:durable</th><th scope=col>agelt35:lusd</th><th scope=col>agelt35:husd</th><th scope=col>agegt54:durable</th><th scope=col>agegt54:lusd</th><th scope=col>agegt54:husd</th><th scope=col>durable:lusd</th><th scope=col>durable:husd</th></tr></thead>\n",
       "<tbody>\n",
       "\t<tr><td>1  </td><td>0  </td><td>0  </td><td>0  </td><td>0  </td><td>0  </td><td>1  </td><td>0  </td><td>0  </td><td>0  </td><td>...</td><td>0  </td><td>0  </td><td>0  </td><td>0  </td><td>0  </td><td>0  </td><td>0  </td><td>0  </td><td>0  </td><td>0  </td></tr>\n",
       "\t<tr><td>1  </td><td>1  </td><td>0  </td><td>0  </td><td>0  </td><td>0  </td><td>0  </td><td>0  </td><td>1  </td><td>0  </td><td>...</td><td>0  </td><td>0  </td><td>0  </td><td>1  </td><td>0  </td><td>0  </td><td>0  </td><td>0  </td><td>0  </td><td>0  </td></tr>\n",
       "\t<tr><td>1  </td><td>0  </td><td>0  </td><td>0  </td><td>0  </td><td>0  </td><td>0  </td><td>0  </td><td>0  </td><td>0  </td><td>...</td><td>0  </td><td>0  </td><td>0  </td><td>0  </td><td>0  </td><td>0  </td><td>0  </td><td>0  </td><td>0  </td><td>0  </td></tr>\n",
       "\t<tr><td>1  </td><td>0  </td><td>0  </td><td>0  </td><td>0  </td><td>0  </td><td>0  </td><td>0  </td><td>0  </td><td>1  </td><td>...</td><td>0  </td><td>0  </td><td>0  </td><td>0  </td><td>0  </td><td>0  </td><td>0  </td><td>0  </td><td>0  </td><td>0  </td></tr>\n",
       "\t<tr><td>1  </td><td>1  </td><td>1  </td><td>0  </td><td>0  </td><td>0  </td><td>0  </td><td>0  </td><td>0  </td><td>1  </td><td>...</td><td>0  </td><td>0  </td><td>0  </td><td>0  </td><td>0  </td><td>0  </td><td>0  </td><td>0  </td><td>0  </td><td>0  </td></tr>\n",
       "\t<tr><td>1  </td><td>0  </td><td>0  </td><td>0  </td><td>0  </td><td>1  </td><td>0  </td><td>0  </td><td>0  </td><td>0  </td><td>...</td><td>0  </td><td>0  </td><td>0  </td><td>0  </td><td>0  </td><td>1  </td><td>1  </td><td>0  </td><td>1  </td><td>0  </td></tr>\n",
       "</tbody>\n",
       "</table>\n"
      ],
      "text/latex": [
       "\\begin{tabular}{r|llllllllllllllllllllllllllllllllllllllllllllllllllllllllllllllllllllllllllllllllllllllllllllllllllllllll}\n",
       " (Intercept) & T2 & female & black & othrace & factor(dep)1 & factor(dep)2 & q2 & q3 & q4 & ... & q6:agegt54 & q6:durable & agelt35:durable & agelt35:lusd & agelt35:husd & agegt54:durable & agegt54:lusd & agegt54:husd & durable:lusd & durable:husd\\\\\n",
       "\\hline\n",
       "\t 1   & 0   & 0   & 0   & 0   & 0   & 1   & 0   & 0   & 0   & ... & 0   & 0   & 0   & 0   & 0   & 0   & 0   & 0   & 0   & 0  \\\\\n",
       "\t 1   & 1   & 0   & 0   & 0   & 0   & 0   & 0   & 1   & 0   & ... & 0   & 0   & 0   & 1   & 0   & 0   & 0   & 0   & 0   & 0  \\\\\n",
       "\t 1   & 0   & 0   & 0   & 0   & 0   & 0   & 0   & 0   & 0   & ... & 0   & 0   & 0   & 0   & 0   & 0   & 0   & 0   & 0   & 0  \\\\\n",
       "\t 1   & 0   & 0   & 0   & 0   & 0   & 0   & 0   & 0   & 1   & ... & 0   & 0   & 0   & 0   & 0   & 0   & 0   & 0   & 0   & 0  \\\\\n",
       "\t 1   & 1   & 1   & 0   & 0   & 0   & 0   & 0   & 0   & 1   & ... & 0   & 0   & 0   & 0   & 0   & 0   & 0   & 0   & 0   & 0  \\\\\n",
       "\t 1   & 0   & 0   & 0   & 0   & 1   & 0   & 0   & 0   & 0   & ... & 0   & 0   & 0   & 0   & 0   & 1   & 1   & 0   & 1   & 0  \\\\\n",
       "\\end{tabular}\n"
      ],
      "text/markdown": [
       "\n",
       "| (Intercept) | T2 | female | black | othrace | factor(dep)1 | factor(dep)2 | q2 | q3 | q4 | ... | q6:agegt54 | q6:durable | agelt35:durable | agelt35:lusd | agelt35:husd | agegt54:durable | agegt54:lusd | agegt54:husd | durable:lusd | durable:husd |\n",
       "|---|---|---|---|---|---|---|---|---|---|---|---|---|---|---|---|---|---|---|---|---|\n",
       "| 1   | 0   | 0   | 0   | 0   | 0   | 1   | 0   | 0   | 0   | ... | 0   | 0   | 0   | 0   | 0   | 0   | 0   | 0   | 0   | 0   |\n",
       "| 1   | 1   | 0   | 0   | 0   | 0   | 0   | 0   | 1   | 0   | ... | 0   | 0   | 0   | 1   | 0   | 0   | 0   | 0   | 0   | 0   |\n",
       "| 1   | 0   | 0   | 0   | 0   | 0   | 0   | 0   | 0   | 0   | ... | 0   | 0   | 0   | 0   | 0   | 0   | 0   | 0   | 0   | 0   |\n",
       "| 1   | 0   | 0   | 0   | 0   | 0   | 0   | 0   | 0   | 1   | ... | 0   | 0   | 0   | 0   | 0   | 0   | 0   | 0   | 0   | 0   |\n",
       "| 1   | 1   | 1   | 0   | 0   | 0   | 0   | 0   | 0   | 1   | ... | 0   | 0   | 0   | 0   | 0   | 0   | 0   | 0   | 0   | 0   |\n",
       "| 1   | 0   | 0   | 0   | 0   | 1   | 0   | 0   | 0   | 0   | ... | 0   | 0   | 0   | 0   | 0   | 1   | 1   | 0   | 1   | 0   |\n",
       "\n"
      ],
      "text/plain": [
       "  (Intercept) T2 female black othrace factor(dep)1 factor(dep)2 q2 q3 q4 ...\n",
       "1 1           0  0      0     0       0            1            0  0  0  ...\n",
       "2 1           1  0      0     0       0            0            0  1  0  ...\n",
       "3 1           0  0      0     0       0            0            0  0  0  ...\n",
       "4 1           0  0      0     0       0            0            0  0  1  ...\n",
       "5 1           1  1      0     0       0            0            0  0  1  ...\n",
       "6 1           0  0      0     0       1            0            0  0  0  ...\n",
       "  q6:agegt54 q6:durable agelt35:durable agelt35:lusd agelt35:husd\n",
       "1 0          0          0               0            0           \n",
       "2 0          0          0               1            0           \n",
       "3 0          0          0               0            0           \n",
       "4 0          0          0               0            0           \n",
       "5 0          0          0               0            0           \n",
       "6 0          0          0               0            0           \n",
       "  agegt54:durable agegt54:lusd agegt54:husd durable:lusd durable:husd\n",
       "1 0               0            0            0            0           \n",
       "2 0               0            0            0            0           \n",
       "3 0               0            0            0            0           \n",
       "4 0               0            0            0            0           \n",
       "5 0               0            0            0            0           \n",
       "6 1               1            0            1            0           "
      ]
     },
     "metadata": {},
     "output_type": "display_data"
    }
   ],
   "source": [
    "head(X1)"
   ]
  },
  {
   "cell_type": "markdown",
   "id": "aa05ee6e",
   "metadata": {},
   "source": [
    "The interactive specificaiton corresponds to the approach introduced in Lin (2013)"
   ]
  },
  {
   "cell_type": "markdown",
   "id": "3e795501",
   "metadata": {},
   "source": [
    "## 1.3 Interactive regression model (IRA)"
   ]
  },
  {
   "cell_type": "code",
   "execution_count": 21,
   "id": "78a2b5f6",
   "metadata": {},
   "outputs": [
    {
     "name": "stdout",
     "output_type": "stream",
     "text": [
      "\n",
      "t test of coefficients:\n",
      "\n",
      "                               Estimate Std. Error t value  Pr(>|t|)    \n",
      "(Intercept)                   2.0556976  0.0207138 99.2430 < 2.2e-16 ***\n",
      "T2TRUE                       -0.0699044  0.0320764 -2.1793 0.0293503 *  \n",
      "Xfemale                      -0.6662823  0.4080234 -1.6330 0.1025357    \n",
      "Xblack                       -0.8634862  0.2969435 -2.9079 0.0036528 ** \n",
      "Xothrace                     -3.8176881  0.9366193 -4.0760 4.645e-05 ***\n",
      "Xfactor(dep)1                 0.0359264  0.6476816  0.0555 0.9557666    \n",
      "Xfactor(dep)2                 0.2117556  0.4512231  0.4693 0.6388790    \n",
      "Xq2                          -0.2546436  0.4553391 -0.5592 0.5760207    \n",
      "Xq3                          -0.6212326  0.4549639 -1.3655 0.1721653    \n",
      "Xq4                          -0.4799269  0.4561206 -1.0522 0.2927566    \n",
      "Xq5                          -0.3718675  0.4538882 -0.8193 0.4126542    \n",
      "Xq6                          -0.6770474  0.4521499 -1.4974 0.1343469    \n",
      "Xagelt35                     -0.6777054  0.4093673 -1.6555 0.0978805 .  \n",
      "Xagegt54                     -0.3041092  0.7006092 -0.4341 0.6642588    \n",
      "Xdurable                     -0.8380082  0.5963489 -1.4052 0.1600082    \n",
      "Xlusd                        -0.0994890  0.2279257 -0.4365 0.6624926    \n",
      "Xhusd                        -0.0626419  0.2349114 -0.2667 0.7897393    \n",
      "Xfemale:black                -0.2154799  0.1505114 -1.4317 0.1522994    \n",
      "Xfemale:othrace               0.5994387  0.5625667  1.0655 0.2866767    \n",
      "Xfemale:factor(dep)1         -0.1734245  0.1418828 -1.2223 0.2216430    \n",
      "Xfemale:factor(dep)2          0.2166417  0.1263365  1.7148 0.0864376 .  \n",
      "Xfemale:q2                    0.3918886  0.4066775  0.9636 0.3352708    \n",
      "Xfemale:q3                    0.6850391  0.4063439  1.6859 0.0918786 .  \n",
      "Xfemale:q4                    0.7213679  0.4061508  1.7761 0.0757695 .  \n",
      "Xfemale:q5                    0.5657763  0.4047829  1.3977 0.1622504    \n",
      "Xfemale:q6                    0.9081697  0.4304200  2.1100 0.0349061 *  \n",
      "Xfemale:agelt35               0.1700754  0.0950652  1.7890 0.0736628 .  \n",
      "Xfemale:agegt54               0.2357510  0.1601252  1.4723 0.1409985    \n",
      "Xfemale:durable               0.0974132  0.1376173  0.7079 0.4790645    \n",
      "Xfemale:lusd                  0.0720077  0.1065205  0.6760 0.4990695    \n",
      "Xfemale:husd                  0.0609671  0.1164456  0.5236 0.6006003    \n",
      "Xblack:factor(dep)1           0.1090114  0.2284814  0.4771 0.6333006    \n",
      "Xblack:factor(dep)2          -0.2006964  0.2284549 -0.8785 0.3797132    \n",
      "Xblack:q2                     0.4266974  0.3206741  1.3306 0.1833664    \n",
      "Xblack:q3                     0.3299448  0.3029904  1.0890 0.2762180    \n",
      "Xblack:q4                     0.5443145  0.3105213  1.7529 0.0796731 .  \n",
      "Xblack:q5                     0.6596567  0.3000532  2.1985 0.0279568 *  \n",
      "Xblack:agelt35                0.0829816  0.1583380  0.5241 0.6002448    \n",
      "Xblack:agegt54                0.4229716  0.2547482  1.6604 0.0968999 .  \n",
      "Xblack:durable                0.4681489  0.2274260  2.0585 0.0395917 *  \n",
      "Xblack:lusd                   0.3086087  0.1843460  1.6741 0.0941723 .  \n",
      "Xblack:husd                   0.5498228  0.6596114  0.8336 0.4045671    \n",
      "Xothrace:factor(dep)1         2.5201927  1.8549913  1.3586 0.1743280    \n",
      "Xothrace:factor(dep)2         1.1888567  0.5731618  2.0742 0.0381058 *  \n",
      "Xothrace:q2                   2.0825791  0.6083699  3.4232 0.0006233 ***\n",
      "Xothrace:q3                   0.9373310  0.6602083  1.4198 0.1557363    \n",
      "Xothrace:q4                   3.8597060  0.8805067  4.3835 1.189e-05 ***\n",
      "Xothrace:q5                   0.9711789  0.5525530  1.7576 0.0788668 .  \n",
      "Xothrace:agelt35              2.2479921  0.9154188  2.4557 0.0140914 *  \n",
      "Xothrace:agegt54             -4.1489603  0.4818685 -8.6102 < 2.2e-16 ***\n",
      "Xothrace:durable              1.7505609  0.3704944  4.7249 2.358e-06 ***\n",
      "Xothrace:lusd                -0.6944472  0.4952271 -1.4023 0.1608872    \n",
      "Xothrace:husd                 4.7889261  0.8179777  5.8546 5.054e-09 ***\n",
      "Xfactor(dep)1:q2              0.2338980  0.6415478  0.3646 0.7154358    \n",
      "Xfactor(dep)2:q2             -0.2176777  0.4481681 -0.4857 0.6271950    \n",
      "Xfactor(dep)1:q3              0.1543408  0.6437163  0.2398 0.8105211    \n",
      "Xfactor(dep)2:q3             -0.2544863  0.4501910 -0.5653 0.5719025    \n",
      "Xfactor(dep)1:q4             -0.0239012  0.6423016 -0.0372 0.9703174    \n",
      "Xfactor(dep)2:q4             -0.1619010  0.4510902 -0.3589 0.7196756    \n",
      "Xfactor(dep)1:q5              0.1395606  0.6382824  0.2187 0.8269306    \n",
      "Xfactor(dep)2:q5             -0.5626408  0.4488622 -1.2535 0.2100829    \n",
      "Xfactor(dep)1:q6              0.4833394  0.6803127  0.7105 0.4774445    \n",
      "Xfactor(dep)2:q6             -0.0048033  0.4773043 -0.0101 0.9919711    \n",
      "Xfactor(dep)1:agelt35         0.0507982  0.1492874  0.3403 0.7336654    \n",
      "Xfactor(dep)2:agelt35         0.1192418  0.1162344  1.0259 0.3049958    \n",
      "Xfactor(dep)1:agegt54         0.0366384  0.2054287  0.1784 0.8584540    \n",
      "Xfactor(dep)2:agegt54         0.2231138  0.4207401  0.5303 0.5959327    \n",
      "Xfactor(dep)1:durable         0.3397110  0.1841554  1.8447 0.0651345 .  \n",
      "Xfactor(dep)2:durable         0.1146589  0.1531899  0.7485 0.4542048    \n",
      "Xfactor(dep)1:lusd           -0.2603558  0.1618053 -1.6091 0.1076579    \n",
      "Xfactor(dep)2:lusd            0.1150924  0.1398792  0.8228 0.4106577    \n",
      "Xfactor(dep)1:husd           -0.0427975  0.1657611 -0.2582 0.7962714    \n",
      "Xfactor(dep)2:husd            0.0180150  0.1511058  0.1192 0.9051045    \n",
      "Xq2:agelt35                   0.5007384  0.4096962  1.2222 0.2216766    \n",
      "Xq2:agegt54                   0.4321562  0.6979014  0.6192 0.5357951    \n",
      "Xq2:durable                   0.2615077  0.5932161  0.4408 0.6593528    \n",
      "Xq2:lusd                     -0.0675213  0.2308924 -0.2924 0.7699640    \n",
      "Xq2:husd                     -0.1818392  0.2336888 -0.7781 0.4365280    \n",
      "Xq3:agelt35                   0.5137183  0.4098065  1.2536 0.2100534    \n",
      "Xq3:agegt54                   0.7245598  0.6955337  1.0417 0.2975811    \n",
      "Xq3:durable                   0.7223769  0.5918087  1.2206 0.2222794    \n",
      "Xq3:lusd                     -0.0013615  0.2301270 -0.0059 0.9952798    \n",
      "Xq3:husd                      0.0989285  0.2316105  0.4271 0.6692989    \n",
      "Xq4:agelt35                   0.4048006  0.4097478  0.9879 0.3232316    \n",
      "Xq4:agegt54                   0.2469008  0.6936661  0.3559 0.7219019    \n",
      "Xq4:durable                   0.5937668  0.5979290  0.9930 0.3207340    \n",
      "Xq4:lusd                     -0.1685841  0.2323628 -0.7255 0.4681629    \n",
      "Xq4:husd                     -0.1450618  0.2348279 -0.6177 0.5367741    \n",
      "Xq5:agelt35                   0.2160041  0.4081014  0.5293 0.5966252    \n",
      "Xq5:agegt54                   0.0996302  0.6916342  0.1441 0.8854658    \n",
      "Xq5:durable                   0.8536110  0.5903036  1.4461 0.1482182    \n",
      "Xq5:lusd                     -0.2592947  0.2340000 -1.1081 0.2678676    \n",
      "Xq5:husd                     -0.1735647  0.2316012 -0.7494 0.4536405    \n",
      "Xq6:agelt35                   0.3823616  0.4342403  0.8805 0.3786101    \n",
      "Xq6:agegt54                   0.8362035  0.7277854  1.1490 0.2506177    \n",
      "Xq6:durable                   1.0289246  0.6182369  1.6643 0.0961109 .  \n",
      "Xagelt35:durable             -0.0026919  0.1255663 -0.0214 0.9828970    \n",
      "Xagelt35:lusd                -0.0573760  0.1093093 -0.5249 0.5996765    \n",
      "Xagelt35:husd                 0.0545333  0.1255950  0.4342 0.6641603    \n",
      "Xagegt54:durable             -0.1239369  0.2073592 -0.5977 0.5500699    \n",
      "Xagegt54:lusd                 0.0912453  0.1756844  0.5194 0.6035228    \n",
      "Xagegt54:husd                -0.3145573  0.1892620 -1.6620 0.0965649 .  \n",
      "Xdurable:lusd                 0.2633733  0.1377873  1.9114 0.0559982 .  \n",
      "Xdurable:husd                 0.3137941  0.1581735  1.9839 0.0473203 *  \n",
      "T2TRUE:Xfemale               -0.6597505  0.5498974 -1.1998 0.2302796    \n",
      "T2TRUE:Xblack                 0.4525570  0.5103188  0.8868 0.3752182    \n",
      "T2TRUE:Xothrace               2.2114703  1.1019213  2.0069 0.0448061 *  \n",
      "T2TRUE:Xfactor(dep)1          0.7636025  0.7854484  0.9722 0.3309998    \n",
      "T2TRUE:Xfactor(dep)2         -0.0511656  0.7787378 -0.0657 0.9476164    \n",
      "T2TRUE:Xq2                    0.8969455  0.7369231  1.2171 0.2235988    \n",
      "T2TRUE:Xq3                    0.8962389  0.7356679  1.2183 0.2231746    \n",
      "T2TRUE:Xq4                    0.5889998  0.7360986  0.8002 0.4236497    \n",
      "T2TRUE:Xq5                    0.7173442  0.7348525  0.9762 0.3290204    \n",
      "T2TRUE:Xq6                    0.7812489  0.7433947  1.0509 0.2933405    \n",
      "T2TRUE:Xagelt35               1.1233199  0.6374193  1.7623 0.0780744 .  \n",
      "T2TRUE:Xagegt54               0.4142771  0.8713838  0.4754 0.6345031    \n",
      "T2TRUE:Xdurable               0.0698550  0.8506225  0.0821 0.9345525    \n",
      "T2TRUE:Xlusd                 -0.0864022  0.3607507 -0.2395 0.8107216    \n",
      "T2TRUE:Xhusd                  0.2845565  0.3988946  0.7134 0.4756512    \n",
      "T2TRUE:Xfemale:black         -0.2036471  0.2434209 -0.8366 0.4028505    \n",
      "T2TRUE:Xfemale:othrace       -0.9119496  0.5800698 -1.5721 0.1159753    \n",
      "T2TRUE:Xfemale:factor(dep)1   0.1813213  0.2195306  0.8260 0.4088676    \n",
      "T2TRUE:Xfemale:factor(dep)2  -0.4690337  0.1987659 -2.3597 0.0183225 *  \n",
      "T2TRUE:Xfemale:q2             0.8485381  0.5490759  1.5454 0.1223079    \n",
      "T2TRUE:Xfemale:q3             1.0429018  0.5461093  1.9097 0.0562238 .  \n",
      "T2TRUE:Xfemale:q4             0.7824923  0.5455513  1.4343 0.1515385    \n",
      "T2TRUE:Xfemale:q5             0.8993802  0.5448366  1.6507 0.0988492 .  \n",
      "T2TRUE:Xfemale:q6             0.4085802  0.6037867  0.6767 0.4986267    \n",
      "T2TRUE:Xfemale:agelt35       -0.1861481  0.1458569 -1.2762 0.2019247    \n",
      "T2TRUE:Xfemale:agegt54       -0.3821490  0.2443204 -1.5641 0.1178436    \n",
      "T2TRUE:Xfemale:durable        0.1103768  0.2146252  0.5143 0.6070787    \n",
      "T2TRUE:Xfemale:lusd           0.1060964  0.1631061  0.6505 0.5154122    \n",
      "T2TRUE:Xfemale:husd          -0.0426056  0.1785080 -0.2387 0.8113657    \n",
      "T2TRUE:Xblack:factor(dep)1    0.3636326  0.3503546  1.0379 0.2993622    \n",
      "T2TRUE:Xblack:factor(dep)2    0.4284152  0.3383550  1.2662 0.2055049    \n",
      "T2TRUE:Xblack:q2             -0.5878223  0.5288254 -1.1116 0.2663743    \n",
      "T2TRUE:Xblack:q3             -0.0624725  0.5099293 -0.1225 0.9024978    \n",
      "T2TRUE:Xblack:q4             -0.4010428  0.5365391 -0.7475 0.4548159    \n",
      "T2TRUE:Xblack:q5             -0.4358990  0.5091812 -0.8561 0.3919912    \n",
      "T2TRUE:Xblack:agelt35        -0.2159315  0.2417908 -0.8931 0.3718684    \n",
      "T2TRUE:Xblack:agegt54        -0.2617225  0.4866710 -0.5378 0.5907496    \n",
      "T2TRUE:Xblack:durable        -0.8365016  0.3504939 -2.3866 0.0170364 *  \n",
      "T2TRUE:Xblack:lusd           -0.4264666  0.2797101 -1.5247 0.1273972    \n",
      "T2TRUE:Xblack:husd           -0.1958402  0.8911158 -0.2198 0.8260586    \n",
      "T2TRUE:Xothrace:factor(dep)1  0.4788267  1.8947966  0.2527 0.8005046    \n",
      "T2TRUE:Xothrace:factor(dep)2 -4.4513573  0.7816787 -5.6946 1.300e-08 ***\n",
      "T2TRUE:Xothrace:q3           -0.7826362  0.9146199 -0.8557 0.3922029    \n",
      "T2TRUE:Xothrace:q4           -2.4173200  1.1442098 -2.1127 0.0346747 *  \n",
      "T2TRUE:Xothrace:q5            0.7621242  0.7958190  0.9577 0.3382757    \n",
      "T2TRUE:Xothrace:agelt35      -3.8313400  0.9536672 -4.0175 5.960e-05 ***\n",
      "T2TRUE:Xothrace:durable       1.5658689  0.4621869  3.3880 0.0007090 ***\n",
      "T2TRUE:Xothrace:lusd          2.0930436  0.5135607  4.0756 4.654e-05 ***\n",
      "T2TRUE:Xfactor(dep)1:q2      -0.8317599  0.7784232 -1.0685 0.2853327    \n",
      "T2TRUE:Xfactor(dep)2:q2       0.2248592  0.7780400  0.2890 0.7725866    \n",
      "T2TRUE:Xfactor(dep)1:q3      -0.8572816  0.7801263 -1.0989 0.2718587    \n",
      "T2TRUE:Xfactor(dep)2:q3       0.3587274  0.7752186  0.4627 0.6435662    \n",
      "T2TRUE:Xfactor(dep)1:q4      -0.6286109  0.7764648 -0.8096 0.4182158    \n",
      "T2TRUE:Xfactor(dep)2:q4       0.2390021  0.7743617  0.3086 0.7576038    \n",
      "T2TRUE:Xfactor(dep)1:q5      -0.8384601  0.7751714 -1.0816 0.2794571    \n",
      "T2TRUE:Xfactor(dep)2:q5       0.4285344  0.7744398  0.5533 0.5800476    \n",
      "T2TRUE:Xfactor(dep)1:q6      -1.5381912  0.8933469 -1.7218 0.0851558 .  \n",
      "T2TRUE:Xfactor(dep)2:q6       0.2846591  0.8180721  0.3480 0.7278808    \n",
      "T2TRUE:Xfactor(dep)1:agelt35 -0.0778347  0.2244666 -0.3468 0.7287894    \n",
      "T2TRUE:Xfactor(dep)2:agelt35 -0.1017136  0.1803295 -0.5640 0.5727475    \n",
      "T2TRUE:Xfactor(dep)1:agegt54 -0.2824587  0.3235870 -0.8729 0.3827557    \n",
      "T2TRUE:Xfactor(dep)2:agegt54  0.3793047  0.5714519  0.6638 0.5068738    \n",
      "T2TRUE:Xfactor(dep)1:durable -0.2185591  0.2804612 -0.7793 0.4358451    \n",
      "T2TRUE:Xfactor(dep)2:durable -0.0950789  0.2599196 -0.3658 0.7145274    \n",
      "T2TRUE:Xfactor(dep)1:lusd     0.2161153  0.2432651  0.8884 0.3743671    \n",
      "T2TRUE:Xfactor(dep)2:lusd    -0.2070793  0.2219038 -0.9332 0.3507603    \n",
      "T2TRUE:Xfactor(dep)1:husd     0.1232418  0.2679611  0.4599 0.6455885    \n",
      "T2TRUE:Xfactor(dep)2:husd     0.1579798  0.2302758  0.6860 0.4927126    \n",
      "T2TRUE:Xq2:agelt35           -1.2407550  0.6357096 -1.9518 0.0510162 .  \n",
      "T2TRUE:Xq2:agegt54           -0.6019870  0.8705629 -0.6915 0.4892853    \n",
      "T2TRUE:Xq2:durable           -0.0777795  0.8549362 -0.0910 0.9275141    \n",
      "T2TRUE:Xq2:lusd               0.0508269  0.3672375  0.1384 0.8899267    \n",
      "T2TRUE:Xq2:husd              -0.0920285  0.3948698 -0.2331 0.8157231    \n",
      "T2TRUE:Xq3:agelt35           -1.1277892  0.6355092 -1.7746 0.0760147 .  \n",
      "T2TRUE:Xq3:agegt54           -0.5411478  0.8621311 -0.6277 0.5302352    \n",
      "T2TRUE:Xq3:durable           -0.1956176  0.8552255 -0.2287 0.8190854    \n",
      "T2TRUE:Xq3:lusd              -0.0739597  0.3608164 -0.2050 0.8375961    \n",
      "T2TRUE:Xq3:husd              -0.5532059  0.3911619 -1.4143 0.1573404    \n",
      "T2TRUE:Xq4:agelt35           -0.9925752  0.6341814 -1.5651 0.1176096    \n",
      "T2TRUE:Xq4:agegt54            0.2121763  0.8521836  0.2490 0.8033857    \n",
      "T2TRUE:Xq4:durable           -0.1187895  0.8619131 -0.1378 0.8903871    \n",
      "T2TRUE:Xq4:lusd               0.3041551  0.3661447  0.8307 0.4061807    \n",
      "T2TRUE:Xq4:husd              -0.0828034  0.3925595 -0.2109 0.8329480    \n",
      "T2TRUE:Xq5:agelt35           -0.9263119  0.6327188 -1.4640 0.1432453    \n",
      "T2TRUE:Xq5:agegt54            0.2187993  0.8619978  0.2538 0.7996377    \n",
      "T2TRUE:Xq5:durable           -0.4450627  0.8517335 -0.5225 0.6013169    \n",
      "T2TRUE:Xq5:lusd               0.0895975  0.3643448  0.2459 0.8057578    \n",
      "T2TRUE:Xq5:husd              -0.2456140  0.3905347 -0.6289 0.5294291    \n",
      "T2TRUE:Xq6:agelt35           -0.7320475  0.6840109 -1.0702 0.2845631    \n",
      "T2TRUE:Xq6:agegt54           -0.4355109  0.9347111 -0.4659 0.6412830    \n",
      "T2TRUE:Xq6:durable           -0.1469333  0.9049913 -0.1624 0.8710292    \n",
      "T2TRUE:Xagelt35:durable       0.0216203  0.2005310  0.1078 0.9141460    \n",
      "T2TRUE:Xagelt35:lusd          0.0680462  0.1695485  0.4013 0.6881870    \n",
      "T2TRUE:Xagelt35:husd         -0.0587002  0.1856361 -0.3162 0.7518542    \n",
      "T2TRUE:Xagegt54:durable       0.1732194  0.3177062  0.5452 0.5856247    \n",
      "T2TRUE:Xagegt54:lusd         -0.1245325  0.2667627 -0.4668 0.6406406    \n",
      "T2TRUE:Xagegt54:husd          0.2898645  0.2960548  0.9791 0.3275776    \n",
      "T2TRUE:Xdurable:lusd          0.1281108  0.2116361  0.6053 0.5449810    \n",
      "T2TRUE:Xdurable:husd          0.0133109  0.2552493  0.0521 0.9584121    \n",
      "---\n",
      "Signif. codes:  0 '***' 0.001 '**' 0.01 '*' 0.05 '.' 0.1 ' ' 1\n",
      "\n"
     ]
    }
   ],
   "source": [
    "#interactive regression model\n",
    "\n",
    "demean<- function(x){ x - mean(x)}\n",
    "X = apply(X, 2, demean)\n",
    "\n",
    "ols.ira_reg = lm(log(inuidur1) ~ T2*X) \n",
    "ols.ira= coeftest(ols.ira_reg, vcov = vcovHC(ols.ira_reg, type=\"HC1\"))\n",
    "print(ols.ira)\n"
   ]
  },
  {
   "cell_type": "code",
   "execution_count": 22,
   "id": "cdf903ce",
   "metadata": {},
   "outputs": [
    {
     "data": {
      "text/html": [
       "<table>\n",
       "<thead><tr><th scope=col>(Intercept)</th><th scope=col>T2TRUE</th><th scope=col>X(Intercept)</th><th scope=col>Xfemale</th><th scope=col>Xblack</th><th scope=col>Xothrace</th><th scope=col>Xfactor(dep)1</th><th scope=col>Xfactor(dep)2</th><th scope=col>Xq2</th><th scope=col>Xq3</th><th scope=col>...</th><th scope=col>T2TRUE:Xagelt35:agegt54</th><th scope=col>T2TRUE:Xagelt35:durable</th><th scope=col>T2TRUE:Xagelt35:lusd</th><th scope=col>T2TRUE:Xagelt35:husd</th><th scope=col>T2TRUE:Xagegt54:durable</th><th scope=col>T2TRUE:Xagegt54:lusd</th><th scope=col>T2TRUE:Xagegt54:husd</th><th scope=col>T2TRUE:Xdurable:lusd</th><th scope=col>T2TRUE:Xdurable:husd</th><th scope=col>T2TRUE:Xlusd:husd</th></tr></thead>\n",
       "<tbody>\n",
       "\t<tr><td>1           </td><td>0           </td><td>0           </td><td>-0.4007264  </td><td>-0.118817   </td><td>-0.005188516</td><td>-0.1165687  </td><td> 0.839329   </td><td>-0.2001038  </td><td>-0.2355586  </td><td>...         </td><td>0           </td><td> 0.00000000 </td><td> 0.0000000  </td><td> 0.0000000  </td><td> 0.00000000 </td><td> 0.0000000  </td><td> 0.00000000 </td><td> 0.00000000 </td><td> 0.00000000 </td><td>0           </td></tr>\n",
       "\t<tr><td>1           </td><td>1           </td><td>0           </td><td>-0.4007264  </td><td>-0.118817   </td><td>-0.005188516</td><td>-0.1165687  </td><td>-0.160671   </td><td>-0.2001038  </td><td> 0.7644414  </td><td>...         </td><td>0           </td><td>-0.07350398 </td><td> 0.8675199  </td><td>-0.1219301  </td><td>-0.01885161 </td><td>-0.0325147  </td><td>-0.02767209 </td><td>-0.05499827 </td><td>-0.02905569 </td><td>0           </td></tr>\n",
       "\t<tr><td>1           </td><td>0           </td><td>0           </td><td>-0.4007264  </td><td>-0.118817   </td><td>-0.005188516</td><td>-0.1165687  </td><td>-0.160671   </td><td>-0.2001038  </td><td>-0.2355586  </td><td>...         </td><td>0           </td><td> 0.00000000 </td><td> 0.0000000  </td><td> 0.0000000  </td><td> 0.00000000 </td><td> 0.0000000  </td><td> 0.00000000 </td><td> 0.00000000 </td><td> 0.00000000 </td><td>0           </td></tr>\n",
       "\t<tr><td>1           </td><td>0           </td><td>0           </td><td>-0.4007264  </td><td>-0.118817   </td><td>-0.005188516</td><td>-0.1165687  </td><td>-0.160671   </td><td>-0.2001038  </td><td>-0.2355586  </td><td>...         </td><td>0           </td><td> 0.00000000 </td><td> 0.0000000  </td><td> 0.0000000  </td><td> 0.00000000 </td><td> 0.0000000  </td><td> 0.00000000 </td><td> 0.00000000 </td><td> 0.00000000 </td><td>0           </td></tr>\n",
       "\t<tr><td>1           </td><td>1           </td><td>0           </td><td> 0.5992736  </td><td>-0.118817   </td><td>-0.005188516</td><td>-0.1165687  </td><td>-0.160671   </td><td>-0.2001038  </td><td>-0.2355586  </td><td>...         </td><td>0           </td><td>-0.07350398 </td><td>-0.1324801  </td><td>-0.1219301  </td><td>-0.01885161 </td><td>-0.0325147  </td><td>-0.02767209 </td><td>-0.05499827 </td><td>-0.02905569 </td><td>0           </td></tr>\n",
       "\t<tr><td>1           </td><td>0           </td><td>0           </td><td>-0.4007264  </td><td>-0.118817   </td><td>-0.005188516</td><td> 0.8834313  </td><td>-0.160671   </td><td>-0.2001038  </td><td>-0.2355586  </td><td>...         </td><td>0           </td><td> 0.00000000 </td><td> 0.0000000  </td><td> 0.0000000  </td><td> 0.00000000 </td><td> 0.0000000  </td><td> 0.00000000 </td><td> 0.00000000 </td><td> 0.00000000 </td><td>0           </td></tr>\n",
       "</tbody>\n",
       "</table>\n"
      ],
      "text/latex": [
       "\\begin{tabular}{r|llllllllllllllllllllllllllllllllllllllllllllllllllllllllllllllllllllllllllllllllllllllllllllllllllllllllllllllllllllllllllllllllllllllllllllllllllllllllllllllllllllllllllllllllllllllllllllllllllllllllllllllllllllllllllllllllllllllllllllllllll}\n",
       " (Intercept) & T2TRUE & X(Intercept) & Xfemale & Xblack & Xothrace & Xfactor(dep)1 & Xfactor(dep)2 & Xq2 & Xq3 & ... & T2TRUE:Xagelt35:agegt54 & T2TRUE:Xagelt35:durable & T2TRUE:Xagelt35:lusd & T2TRUE:Xagelt35:husd & T2TRUE:Xagegt54:durable & T2TRUE:Xagegt54:lusd & T2TRUE:Xagegt54:husd & T2TRUE:Xdurable:lusd & T2TRUE:Xdurable:husd & T2TRUE:Xlusd:husd\\\\\n",
       "\\hline\n",
       "\t 1            & 0            & 0            & -0.4007264   & -0.118817    & -0.005188516 & -0.1165687   &  0.839329    & -0.2001038   & -0.2355586   & ...          & 0            &  0.00000000  &  0.0000000   &  0.0000000   &  0.00000000  &  0.0000000   &  0.00000000  &  0.00000000  &  0.00000000  & 0           \\\\\n",
       "\t 1            & 1            & 0            & -0.4007264   & -0.118817    & -0.005188516 & -0.1165687   & -0.160671    & -0.2001038   &  0.7644414   & ...          & 0            & -0.07350398  &  0.8675199   & -0.1219301   & -0.01885161  & -0.0325147   & -0.02767209  & -0.05499827  & -0.02905569  & 0           \\\\\n",
       "\t 1            & 0            & 0            & -0.4007264   & -0.118817    & -0.005188516 & -0.1165687   & -0.160671    & -0.2001038   & -0.2355586   & ...          & 0            &  0.00000000  &  0.0000000   &  0.0000000   &  0.00000000  &  0.0000000   &  0.00000000  &  0.00000000  &  0.00000000  & 0           \\\\\n",
       "\t 1            & 0            & 0            & -0.4007264   & -0.118817    & -0.005188516 & -0.1165687   & -0.160671    & -0.2001038   & -0.2355586   & ...          & 0            &  0.00000000  &  0.0000000   &  0.0000000   &  0.00000000  &  0.0000000   &  0.00000000  &  0.00000000  &  0.00000000  & 0           \\\\\n",
       "\t 1            & 1            & 0            &  0.5992736   & -0.118817    & -0.005188516 & -0.1165687   & -0.160671    & -0.2001038   & -0.2355586   & ...          & 0            & -0.07350398  & -0.1324801   & -0.1219301   & -0.01885161  & -0.0325147   & -0.02767209  & -0.05499827  & -0.02905569  & 0           \\\\\n",
       "\t 1            & 0            & 0            & -0.4007264   & -0.118817    & -0.005188516 &  0.8834313   & -0.160671    & -0.2001038   & -0.2355586   & ...          & 0            &  0.00000000  &  0.0000000   &  0.0000000   &  0.00000000  &  0.0000000   &  0.00000000  &  0.00000000  &  0.00000000  & 0           \\\\\n",
       "\\end{tabular}\n"
      ],
      "text/markdown": [
       "\n",
       "| (Intercept) | T2TRUE | X(Intercept) | Xfemale | Xblack | Xothrace | Xfactor(dep)1 | Xfactor(dep)2 | Xq2 | Xq3 | ... | T2TRUE:Xagelt35:agegt54 | T2TRUE:Xagelt35:durable | T2TRUE:Xagelt35:lusd | T2TRUE:Xagelt35:husd | T2TRUE:Xagegt54:durable | T2TRUE:Xagegt54:lusd | T2TRUE:Xagegt54:husd | T2TRUE:Xdurable:lusd | T2TRUE:Xdurable:husd | T2TRUE:Xlusd:husd |\n",
       "|---|---|---|---|---|---|---|---|---|---|---|---|---|---|---|---|---|---|---|---|---|\n",
       "| 1            | 0            | 0            | -0.4007264   | -0.118817    | -0.005188516 | -0.1165687   |  0.839329    | -0.2001038   | -0.2355586   | ...          | 0            |  0.00000000  |  0.0000000   |  0.0000000   |  0.00000000  |  0.0000000   |  0.00000000  |  0.00000000  |  0.00000000  | 0            |\n",
       "| 1            | 1            | 0            | -0.4007264   | -0.118817    | -0.005188516 | -0.1165687   | -0.160671    | -0.2001038   |  0.7644414   | ...          | 0            | -0.07350398  |  0.8675199   | -0.1219301   | -0.01885161  | -0.0325147   | -0.02767209  | -0.05499827  | -0.02905569  | 0            |\n",
       "| 1            | 0            | 0            | -0.4007264   | -0.118817    | -0.005188516 | -0.1165687   | -0.160671    | -0.2001038   | -0.2355586   | ...          | 0            |  0.00000000  |  0.0000000   |  0.0000000   |  0.00000000  |  0.0000000   |  0.00000000  |  0.00000000  |  0.00000000  | 0            |\n",
       "| 1            | 0            | 0            | -0.4007264   | -0.118817    | -0.005188516 | -0.1165687   | -0.160671    | -0.2001038   | -0.2355586   | ...          | 0            |  0.00000000  |  0.0000000   |  0.0000000   |  0.00000000  |  0.0000000   |  0.00000000  |  0.00000000  |  0.00000000  | 0            |\n",
       "| 1            | 1            | 0            |  0.5992736   | -0.118817    | -0.005188516 | -0.1165687   | -0.160671    | -0.2001038   | -0.2355586   | ...          | 0            | -0.07350398  | -0.1324801   | -0.1219301   | -0.01885161  | -0.0325147   | -0.02767209  | -0.05499827  | -0.02905569  | 0            |\n",
       "| 1            | 0            | 0            | -0.4007264   | -0.118817    | -0.005188516 |  0.8834313   | -0.160671    | -0.2001038   | -0.2355586   | ...          | 0            |  0.00000000  |  0.0000000   |  0.0000000   |  0.00000000  |  0.0000000   |  0.00000000  |  0.00000000  |  0.00000000  | 0            |\n",
       "\n"
      ],
      "text/plain": [
       "  (Intercept) T2TRUE X(Intercept) Xfemale    Xblack    Xothrace    \n",
       "1 1           0      0            -0.4007264 -0.118817 -0.005188516\n",
       "2 1           1      0            -0.4007264 -0.118817 -0.005188516\n",
       "3 1           0      0            -0.4007264 -0.118817 -0.005188516\n",
       "4 1           0      0            -0.4007264 -0.118817 -0.005188516\n",
       "5 1           1      0             0.5992736 -0.118817 -0.005188516\n",
       "6 1           0      0            -0.4007264 -0.118817 -0.005188516\n",
       "  Xfactor(dep)1 Xfactor(dep)2 Xq2        Xq3        ... T2TRUE:Xagelt35:agegt54\n",
       "1 -0.1165687     0.839329     -0.2001038 -0.2355586 ... 0                      \n",
       "2 -0.1165687    -0.160671     -0.2001038  0.7644414 ... 0                      \n",
       "3 -0.1165687    -0.160671     -0.2001038 -0.2355586 ... 0                      \n",
       "4 -0.1165687    -0.160671     -0.2001038 -0.2355586 ... 0                      \n",
       "5 -0.1165687    -0.160671     -0.2001038 -0.2355586 ... 0                      \n",
       "6  0.8834313    -0.160671     -0.2001038 -0.2355586 ... 0                      \n",
       "  T2TRUE:Xagelt35:durable T2TRUE:Xagelt35:lusd T2TRUE:Xagelt35:husd\n",
       "1  0.00000000              0.0000000            0.0000000          \n",
       "2 -0.07350398              0.8675199           -0.1219301          \n",
       "3  0.00000000              0.0000000            0.0000000          \n",
       "4  0.00000000              0.0000000            0.0000000          \n",
       "5 -0.07350398             -0.1324801           -0.1219301          \n",
       "6  0.00000000              0.0000000            0.0000000          \n",
       "  T2TRUE:Xagegt54:durable T2TRUE:Xagegt54:lusd T2TRUE:Xagegt54:husd\n",
       "1  0.00000000              0.0000000            0.00000000         \n",
       "2 -0.01885161             -0.0325147           -0.02767209         \n",
       "3  0.00000000              0.0000000            0.00000000         \n",
       "4  0.00000000              0.0000000            0.00000000         \n",
       "5 -0.01885161             -0.0325147           -0.02767209         \n",
       "6  0.00000000              0.0000000            0.00000000         \n",
       "  T2TRUE:Xdurable:lusd T2TRUE:Xdurable:husd T2TRUE:Xlusd:husd\n",
       "1  0.00000000           0.00000000          0                \n",
       "2 -0.05499827          -0.02905569          0                \n",
       "3  0.00000000           0.00000000          0                \n",
       "4  0.00000000           0.00000000          0                \n",
       "5 -0.05499827          -0.02905569          0                \n",
       "6  0.00000000           0.00000000          0                "
      ]
     },
     "metadata": {},
     "output_type": "display_data"
    }
   ],
   "source": [
    "# get same dataframe for ols.ira\n",
    "S <- as.data.frame( model.matrix(ols.ira_reg) )\n",
    "head(S)\n"
   ]
  },
  {
   "cell_type": "code",
   "execution_count": 23,
   "id": "12cb940f",
   "metadata": {},
   "outputs": [],
   "source": [
    "no_col <- attributes(ols.ira_reg$coefficients)$names[is.na(ols.ira_reg$coefficients)]\n",
    "\n",
    "S1  <- S[, -which(names( S ) %in% no_col ) ]\n",
    "\n",
    "names(S1)[2] <- \"T2\"\n"
   ]
  },
  {
   "cell_type": "code",
   "execution_count": null,
   "id": "168bcc9d",
   "metadata": {},
   "outputs": [],
   "source": [
    "save( S1, file = \"../../data/ols_ira_reg2.RData\")"
   ]
  },
  {
   "cell_type": "markdown",
   "id": "3c78d21c",
   "metadata": {},
   "source": [
    "## 1.4 Interactive regression adjusment (IRA) using Lasso"
   ]
  },
  {
   "cell_type": "code",
   "execution_count": 24,
   "id": "6a58f3b6",
   "metadata": {},
   "outputs": [
    {
     "name": "stderr",
     "output_type": "stream",
     "text": [
      "Warning message:\n",
      "\"package 'hdm' was built under R version 3.6.3\""
     ]
    },
    {
     "data": {
      "text/html": [
       "<table>\n",
       "<thead><tr><th scope=col>T2</th><th scope=col>X(Intercept)</th><th scope=col>Xfemale</th><th scope=col>Xblack</th><th scope=col>Xothrace</th><th scope=col>Xfactor(dep)1</th><th scope=col>Xfactor(dep)2</th><th scope=col>Xq2</th><th scope=col>Xq3</th><th scope=col>Xq4</th><th scope=col>...</th><th scope=col>T2:Xagelt35:agegt54</th><th scope=col>T2:Xagelt35:durable</th><th scope=col>T2:Xagelt35:lusd</th><th scope=col>T2:Xagelt35:husd</th><th scope=col>T2:Xagegt54:durable</th><th scope=col>T2:Xagegt54:lusd</th><th scope=col>T2:Xagegt54:husd</th><th scope=col>T2:Xdurable:lusd</th><th scope=col>T2:Xdurable:husd</th><th scope=col>T2:Xlusd:husd</th></tr></thead>\n",
       "<tbody>\n",
       "\t<tr><td>-0.4199239  </td><td>0           </td><td>-0.4007264  </td><td>-0.118817   </td><td>-0.005188516</td><td>-0.1165687  </td><td> 0.839329   </td><td>-0.2001038  </td><td>-0.2355586  </td><td>-0.2232791  </td><td>...         </td><td>0           </td><td> 0.03086608 </td><td> 0.05563156 </td><td> 0.05120138 </td><td> 0.007916241</td><td> 0.0136537  </td><td> 0.01162017 </td><td> 0.02309509 </td><td> 0.01220118 </td><td>0           </td></tr>\n",
       "\t<tr><td> 0.5800761  </td><td>0           </td><td>-0.4007264  </td><td>-0.118817   </td><td>-0.005188516</td><td>-0.1165687  </td><td>-0.160671   </td><td>-0.2001038  </td><td> 0.7644414  </td><td>-0.2232791  </td><td>...         </td><td>0           </td><td>-0.04263790 </td><td> 0.50322755 </td><td>-0.07072875 </td><td>-0.010935367</td><td>-0.0188610  </td><td>-0.01605192 </td><td>-0.03190318 </td><td>-0.01685451 </td><td>0           </td></tr>\n",
       "\t<tr><td>-0.4199239  </td><td>0           </td><td>-0.4007264  </td><td>-0.118817   </td><td>-0.005188516</td><td>-0.1165687  </td><td>-0.160671   </td><td>-0.2001038  </td><td>-0.2355586  </td><td>-0.2232791  </td><td>...         </td><td>0           </td><td> 0.03086608 </td><td> 0.05563156 </td><td> 0.05120138 </td><td> 0.007916241</td><td> 0.0136537  </td><td> 0.01162017 </td><td> 0.02309509 </td><td> 0.01220118 </td><td>0           </td></tr>\n",
       "\t<tr><td>-0.4199239  </td><td>0           </td><td>-0.4007264  </td><td>-0.118817   </td><td>-0.005188516</td><td>-0.1165687  </td><td>-0.160671   </td><td>-0.2001038  </td><td>-0.2355586  </td><td> 0.7767209  </td><td>...         </td><td>0           </td><td> 0.03086608 </td><td> 0.05563156 </td><td> 0.05120138 </td><td> 0.007916241</td><td> 0.0136537  </td><td> 0.01162017 </td><td> 0.02309509 </td><td> 0.01220118 </td><td>0           </td></tr>\n",
       "\t<tr><td> 0.5800761  </td><td>0           </td><td> 0.5992736  </td><td>-0.118817   </td><td>-0.005188516</td><td>-0.1165687  </td><td>-0.160671   </td><td>-0.2001038  </td><td>-0.2355586  </td><td> 0.7767209  </td><td>...         </td><td>0           </td><td>-0.04263790 </td><td>-0.07684855 </td><td>-0.07072875 </td><td>-0.010935367</td><td>-0.0188610  </td><td>-0.01605192 </td><td>-0.03190318 </td><td>-0.01685451 </td><td>0           </td></tr>\n",
       "\t<tr><td>-0.4199239  </td><td>0           </td><td>-0.4007264  </td><td>-0.118817   </td><td>-0.005188516</td><td> 0.8834313  </td><td>-0.160671   </td><td>-0.2001038  </td><td>-0.2355586  </td><td>-0.2232791  </td><td>...         </td><td>0           </td><td> 0.03086608 </td><td> 0.05563156 </td><td> 0.05120138 </td><td>-0.412007661</td><td>-0.4062702  </td><td> 0.01162017 </td><td>-0.39682881 </td><td> 0.01220118 </td><td>0           </td></tr>\n",
       "</tbody>\n",
       "</table>\n"
      ],
      "text/latex": [
       "\\begin{tabular}{r|lllllllllllllllllllllllllllllllllllllllllllllllllllllllllllllllllllllllllllllllllllllllllllllllllllllllllllllllllllllllllllllllllllllllllllllllllllllllllllllllllllllllllllllllllllllllllllllllllllllllllllllllllllllllllllllllllllllllllllllllll}\n",
       " T2 & X(Intercept) & Xfemale & Xblack & Xothrace & Xfactor(dep)1 & Xfactor(dep)2 & Xq2 & Xq3 & Xq4 & ... & T2:Xagelt35:agegt54 & T2:Xagelt35:durable & T2:Xagelt35:lusd & T2:Xagelt35:husd & T2:Xagegt54:durable & T2:Xagegt54:lusd & T2:Xagegt54:husd & T2:Xdurable:lusd & T2:Xdurable:husd & T2:Xlusd:husd\\\\\n",
       "\\hline\n",
       "\t -0.4199239   & 0            & -0.4007264   & -0.118817    & -0.005188516 & -0.1165687   &  0.839329    & -0.2001038   & -0.2355586   & -0.2232791   & ...          & 0            &  0.03086608  &  0.05563156  &  0.05120138  &  0.007916241 &  0.0136537   &  0.01162017  &  0.02309509  &  0.01220118  & 0           \\\\\n",
       "\t  0.5800761   & 0            & -0.4007264   & -0.118817    & -0.005188516 & -0.1165687   & -0.160671    & -0.2001038   &  0.7644414   & -0.2232791   & ...          & 0            & -0.04263790  &  0.50322755  & -0.07072875  & -0.010935367 & -0.0188610   & -0.01605192  & -0.03190318  & -0.01685451  & 0           \\\\\n",
       "\t -0.4199239   & 0            & -0.4007264   & -0.118817    & -0.005188516 & -0.1165687   & -0.160671    & -0.2001038   & -0.2355586   & -0.2232791   & ...          & 0            &  0.03086608  &  0.05563156  &  0.05120138  &  0.007916241 &  0.0136537   &  0.01162017  &  0.02309509  &  0.01220118  & 0           \\\\\n",
       "\t -0.4199239   & 0            & -0.4007264   & -0.118817    & -0.005188516 & -0.1165687   & -0.160671    & -0.2001038   & -0.2355586   &  0.7767209   & ...          & 0            &  0.03086608  &  0.05563156  &  0.05120138  &  0.007916241 &  0.0136537   &  0.01162017  &  0.02309509  &  0.01220118  & 0           \\\\\n",
       "\t  0.5800761   & 0            &  0.5992736   & -0.118817    & -0.005188516 & -0.1165687   & -0.160671    & -0.2001038   & -0.2355586   &  0.7767209   & ...          & 0            & -0.04263790  & -0.07684855  & -0.07072875  & -0.010935367 & -0.0188610   & -0.01605192  & -0.03190318  & -0.01685451  & 0           \\\\\n",
       "\t -0.4199239   & 0            & -0.4007264   & -0.118817    & -0.005188516 &  0.8834313   & -0.160671    & -0.2001038   & -0.2355586   & -0.2232791   & ...          & 0            &  0.03086608  &  0.05563156  &  0.05120138  & -0.412007661 & -0.4062702   &  0.01162017  & -0.39682881  &  0.01220118  & 0           \\\\\n",
       "\\end{tabular}\n"
      ],
      "text/markdown": [
       "\n",
       "| T2 | X(Intercept) | Xfemale | Xblack | Xothrace | Xfactor(dep)1 | Xfactor(dep)2 | Xq2 | Xq3 | Xq4 | ... | T2:Xagelt35:agegt54 | T2:Xagelt35:durable | T2:Xagelt35:lusd | T2:Xagelt35:husd | T2:Xagegt54:durable | T2:Xagegt54:lusd | T2:Xagegt54:husd | T2:Xdurable:lusd | T2:Xdurable:husd | T2:Xlusd:husd |\n",
       "|---|---|---|---|---|---|---|---|---|---|---|---|---|---|---|---|---|---|---|---|---|\n",
       "| -0.4199239   | 0            | -0.4007264   | -0.118817    | -0.005188516 | -0.1165687   |  0.839329    | -0.2001038   | -0.2355586   | -0.2232791   | ...          | 0            |  0.03086608  |  0.05563156  |  0.05120138  |  0.007916241 |  0.0136537   |  0.01162017  |  0.02309509  |  0.01220118  | 0            |\n",
       "|  0.5800761   | 0            | -0.4007264   | -0.118817    | -0.005188516 | -0.1165687   | -0.160671    | -0.2001038   |  0.7644414   | -0.2232791   | ...          | 0            | -0.04263790  |  0.50322755  | -0.07072875  | -0.010935367 | -0.0188610   | -0.01605192  | -0.03190318  | -0.01685451  | 0            |\n",
       "| -0.4199239   | 0            | -0.4007264   | -0.118817    | -0.005188516 | -0.1165687   | -0.160671    | -0.2001038   | -0.2355586   | -0.2232791   | ...          | 0            |  0.03086608  |  0.05563156  |  0.05120138  |  0.007916241 |  0.0136537   |  0.01162017  |  0.02309509  |  0.01220118  | 0            |\n",
       "| -0.4199239   | 0            | -0.4007264   | -0.118817    | -0.005188516 | -0.1165687   | -0.160671    | -0.2001038   | -0.2355586   |  0.7767209   | ...          | 0            |  0.03086608  |  0.05563156  |  0.05120138  |  0.007916241 |  0.0136537   |  0.01162017  |  0.02309509  |  0.01220118  | 0            |\n",
       "|  0.5800761   | 0            |  0.5992736   | -0.118817    | -0.005188516 | -0.1165687   | -0.160671    | -0.2001038   | -0.2355586   |  0.7767209   | ...          | 0            | -0.04263790  | -0.07684855  | -0.07072875  | -0.010935367 | -0.0188610   | -0.01605192  | -0.03190318  | -0.01685451  | 0            |\n",
       "| -0.4199239   | 0            | -0.4007264   | -0.118817    | -0.005188516 |  0.8834313   | -0.160671    | -0.2001038   | -0.2355586   | -0.2232791   | ...          | 0            |  0.03086608  |  0.05563156  |  0.05120138  | -0.412007661 | -0.4062702   |  0.01162017  | -0.39682881  |  0.01220118  | 0            |\n",
       "\n"
      ],
      "text/plain": [
       "  T2         X(Intercept) Xfemale    Xblack    Xothrace     Xfactor(dep)1\n",
       "1 -0.4199239 0            -0.4007264 -0.118817 -0.005188516 -0.1165687   \n",
       "2  0.5800761 0            -0.4007264 -0.118817 -0.005188516 -0.1165687   \n",
       "3 -0.4199239 0            -0.4007264 -0.118817 -0.005188516 -0.1165687   \n",
       "4 -0.4199239 0            -0.4007264 -0.118817 -0.005188516 -0.1165687   \n",
       "5  0.5800761 0             0.5992736 -0.118817 -0.005188516 -0.1165687   \n",
       "6 -0.4199239 0            -0.4007264 -0.118817 -0.005188516  0.8834313   \n",
       "  Xfactor(dep)2 Xq2        Xq3        Xq4        ... T2:Xagelt35:agegt54\n",
       "1  0.839329     -0.2001038 -0.2355586 -0.2232791 ... 0                  \n",
       "2 -0.160671     -0.2001038  0.7644414 -0.2232791 ... 0                  \n",
       "3 -0.160671     -0.2001038 -0.2355586 -0.2232791 ... 0                  \n",
       "4 -0.160671     -0.2001038 -0.2355586  0.7767209 ... 0                  \n",
       "5 -0.160671     -0.2001038 -0.2355586  0.7767209 ... 0                  \n",
       "6 -0.160671     -0.2001038 -0.2355586 -0.2232791 ... 0                  \n",
       "  T2:Xagelt35:durable T2:Xagelt35:lusd T2:Xagelt35:husd T2:Xagegt54:durable\n",
       "1  0.03086608          0.05563156       0.05120138       0.007916241       \n",
       "2 -0.04263790          0.50322755      -0.07072875      -0.010935367       \n",
       "3  0.03086608          0.05563156       0.05120138       0.007916241       \n",
       "4  0.03086608          0.05563156       0.05120138       0.007916241       \n",
       "5 -0.04263790         -0.07684855      -0.07072875      -0.010935367       \n",
       "6  0.03086608          0.05563156       0.05120138      -0.412007661       \n",
       "  T2:Xagegt54:lusd T2:Xagegt54:husd T2:Xdurable:lusd T2:Xdurable:husd\n",
       "1  0.0136537        0.01162017       0.02309509       0.01220118     \n",
       "2 -0.0188610       -0.01605192      -0.03190318      -0.01685451     \n",
       "3  0.0136537        0.01162017       0.02309509       0.01220118     \n",
       "4  0.0136537        0.01162017       0.02309509       0.01220118     \n",
       "5 -0.0188610       -0.01605192      -0.03190318      -0.01685451     \n",
       "6 -0.4062702        0.01162017      -0.39682881       0.01220118     \n",
       "  T2:Xlusd:husd\n",
       "1 0            \n",
       "2 0            \n",
       "3 0            \n",
       "4 0            \n",
       "5 0            \n",
       "6 0            "
      ]
     },
     "metadata": {},
     "output_type": "display_data"
    }
   ],
   "source": [
    "library(hdm)\n",
    "T2 = demean(T2)\n",
    "DX = model.matrix(~T2*X)[,-1]\n",
    "head(DX)"
   ]
  },
  {
   "cell_type": "code",
   "execution_count": 25,
   "id": "a2ab9492",
   "metadata": {},
   "outputs": [
    {
     "name": "stdout",
     "output_type": "stream",
     "text": [
      "[1] \"Estimates and significance testing of the effect of target variables\"\n",
      "   Estimate. Std. Error t value Pr(>|t|)  \n",
      "T2  -0.07457    0.03209  -2.324   0.0201 *\n",
      "---\n",
      "Signif. codes:  0 '***' 0.001 '**' 0.01 '*' 0.05 '.' 0.1 ' ' 1\n",
      "\n",
      "\n"
     ]
    }
   ],
   "source": [
    "library(hdm)\n",
    "\n",
    "rlasso.ira = summary(rlassoEffects(DX, log(inuidur1), index = 1))\n",
    "\n",
    "# rlassoEffects ( Partialling out )\n",
    "# index = 1 (T2 treatment )\n",
    "print(rlasso.ira)"
   ]
  },
  {
   "cell_type": "code",
   "execution_count": 26,
   "id": "8c92f817",
   "metadata": {},
   "outputs": [],
   "source": [
    "# getting data\n",
    "S = as.data.frame(DX)\n"
   ]
  },
  {
   "cell_type": "code",
   "execution_count": null,
   "id": "1e2692d6",
   "metadata": {},
   "outputs": [],
   "source": [
    "save( S, file = \"../../data/rlasso_ira_reg2.RData\")"
   ]
  },
  {
   "cell_type": "markdown",
   "id": "2105accd",
   "metadata": {},
   "source": [
    "# Results"
   ]
  },
  {
   "cell_type": "code",
   "execution_count": 27,
   "id": "881d8c94",
   "metadata": {},
   "outputs": [
    {
     "name": "stderr",
     "output_type": "stream",
     "text": [
      "Warning message:\n",
      "\"package 'xtable' was built under R version 3.6.3\""
     ]
    },
    {
     "data": {
      "text/html": [
       "<table>\n",
       "<thead><tr><th></th><th scope=col>CL</th><th scope=col>CRA</th><th scope=col>IRA</th><th scope=col>IRA w Lasso</th></tr></thead>\n",
       "<tbody>\n",
       "\t<tr><th scope=row>Estimate</th><td>-0.07882533</td><td>-0.07120664</td><td>-0.06990440</td><td>-0.07457328</td></tr>\n",
       "\t<tr><th scope=row>Standard error</th><td> 0.03250889</td><td> 0.03204403</td><td> 0.03207638</td><td> 0.03208892</td></tr>\n",
       "</tbody>\n",
       "</table>\n"
      ],
      "text/latex": [
       "\\begin{tabular}{r|llll}\n",
       "  & CL & CRA & IRA & IRA w Lasso\\\\\n",
       "\\hline\n",
       "\tEstimate & -0.07882533 & -0.07120664 & -0.06990440 & -0.07457328\\\\\n",
       "\tStandard error &  0.03250889 &  0.03204403 &  0.03207638 &  0.03208892\\\\\n",
       "\\end{tabular}\n"
      ],
      "text/markdown": [
       "\n",
       "| <!--/--> | CL | CRA | IRA | IRA w Lasso |\n",
       "|---|---|---|---|---|\n",
       "| Estimate | -0.07882533 | -0.07120664 | -0.06990440 | -0.07457328 |\n",
       "| Standard error |  0.03250889 |  0.03204403 |  0.03207638 |  0.03208892 |\n",
       "\n"
      ],
      "text/plain": [
       "               CL          CRA         IRA         IRA w Lasso\n",
       "Estimate       -0.07882533 -0.07120664 -0.06990440 -0.07457328\n",
       "Standard error  0.03250889  0.03204403  0.03207638  0.03208892"
      ]
     },
     "metadata": {},
     "output_type": "display_data"
    },
    {
     "name": "stdout",
     "output_type": "stream",
     "text": [
      "% latex table generated in R 3.6.1 by xtable 1.8-4 package\n",
      "% Sat Apr 30 12:26:31 2022\n",
      "\\begin{table}[ht]\n",
      "\\centering\n",
      "\\begin{tabular}{rrrrr}\n",
      "  \\hline\n",
      " & CL & CRA & IRA & IRA w Lasso \\\\ \n",
      "  \\hline\n",
      "Estimate & -0.07883 & -0.07121 & -0.06990 & -0.07457 \\\\ \n",
      "  Standard error & 0.03251 & 0.03204 & 0.03208 & 0.03209 \\\\ \n",
      "   \\hline\n",
      "\\end{tabular}\n",
      "\\end{table}\n"
     ]
    }
   ],
   "source": [
    "library(xtable)\n",
    "table<- matrix(0, 2, 4)\n",
    "table[1,1]<-  ols.cl[2,1]\n",
    "table[1,2]<-  ols.cra[2,1]\n",
    "table[1,3]<-  ols.ira[2,1]\n",
    "table[1,4]<-  rlasso.ira[[1]][1]\n",
    "\n",
    "table[2,1]<-  ols.cl[2,2]\n",
    "table[2,2]<-  ols.cra[2,2]\n",
    "table[2,3]<-  ols.ira[2,2]\n",
    "table[2,4]<-  rlasso.ira[[1]][2]\n",
    "\n",
    "\n",
    "colnames(table)<- c(\"CL\",\"CRA\",\"IRA\", \"IRA w Lasso\")\n",
    "rownames(table)<- c(\"Estimate\", \"Standard error\")\n",
    "tab<- xtable(table, digits=5)\n",
    "tab\n",
    "\n",
    "print(tab, type=\"latex\", digits=5)"
   ]
  },
  {
   "cell_type": "code",
   "execution_count": null,
   "id": "0207ecfa",
   "metadata": {},
   "outputs": [],
   "source": [
    "# Coefficients Plot"
   ]
  },
  {
   "cell_type": "code",
   "execution_count": 33,
   "id": "00e536b7",
   "metadata": {
    "scrolled": true
   },
   "outputs": [
    {
     "name": "stderr",
     "output_type": "stream",
     "text": [
      "Registered S3 method overwritten by 'parameters':\n",
      "  method                         from      \n",
      "  format.parameters_distribution datawizard\n",
      "Warning message:\n",
      "\"package 'dplyr' was built under R version 3.6.3\"\n",
      "Attaching package: 'dplyr'\n",
      "\n",
      "The following objects are masked from 'package:stats':\n",
      "\n",
      "    filter, lag\n",
      "\n",
      "The following objects are masked from 'package:base':\n",
      "\n",
      "    intersect, setdiff, setequal, union\n",
      "\n",
      "Warning message:\n",
      "\"package 'tidyr' was built under R version 3.6.3\""
     ]
    }
   ],
   "source": [
    "library(dotwhisker)\n",
    "library(dplyr)\n",
    "library(tidyr)\n",
    "library(broom)"
   ]
  },
  {
   "cell_type": "code",
   "execution_count": 34,
   "id": "e00f225e",
   "metadata": {},
   "outputs": [],
   "source": [
    "coef_ira <- tidy(ols.ira) %>% filter(term %in% c( \"T2TRUE:Xfemale\" , \"T2TRUE:Xblack\" , \"T2TRUE:Xagelt35\" , \"T2TRUE:Xfactor(dep)1\" ) ) %>% mutate(model = \"Model IRA\") "
   ]
  },
  {
   "cell_type": "code",
   "execution_count": 35,
   "id": "22bf8bdd",
   "metadata": {},
   "outputs": [
    {
     "data": {
      "image/png": "[encoded data removed]",
      "text/plain": [
       "plot without title"
      ]
     },
     "metadata": {},
     "output_type": "display_data"
    }
   ],
   "source": [
    "options(repr.plot.width=3, repr.plot.height=2 ,  repr.plot.res = 500)\n",
    "dwplot(coef_ira , \n",
    "       vline = geom_vline(\n",
    "           xintercept = 0,\n",
    "           colour = \"blue\",\n",
    "           linetype = 2\n",
    "       ),\n",
    "       vars_order = c( \"T2TRUE:Xfemale\" , \"T2TRUE:Xblack\" , \"T2TRUE:Xagelt35\" , \"T2TRUE:Xfactor(dep)1\" )\n",
    "       ) %>% # plot line at zero _behind_coefs\n",
    "    relabel_predictors(\n",
    "        c(\n",
    "            \"T2TRUE:Xfemale\" = \"T2*female\",\n",
    "            \"T2TRUE:Xblack\" = \"T2*black\",\n",
    "            \"T2TRUE:Xagelt35\" = \"T2*agelt35\",\n",
    "            \"T2TRUE:Xfactor(dep)1\" = \"T2*factor(dep)1\"\n",
    "        )\n",
    "    ) +\n",
    "    theme_bw(base_size = 4) + \n",
    "    # Setting `base_size` for fit the theme\n",
    "    # No need to set `base_size` in most usage\n",
    "    xlab(\"Coefficient Estimate\") + ylab(\"\") +\n",
    "    geom_vline(xintercept = 0,\n",
    "               colour = \"blue\",\n",
    "               linetype = 2) +\n",
    "    ggtitle(\"Interactive regression adjustment (IRA) \") +\n",
    "    theme(\n",
    "        plot.title = element_text(face = \"bold\"),\n",
    "        legend.position = c(0.007, 0.01),\n",
    "        legend.justification = c(0, 0),\n",
    "        legend.background = element_rect(colour = \"blanchedalmond\"),\n",
    "        legend.title = element_blank()\n",
    "    )"
   ]
  },
  {
   "cell_type": "markdown",
   "id": "918547a6",
   "metadata": {},
   "source": [
    "It can be observed that the intervals of the coefficients cross 0; that is, they contain positive and negative values, so the hypotheses cannot be rejected."
   ]
  }
 ],
 "metadata": {
  "kernelspec": {
   "display_name": "R",
   "language": "R",
   "name": "ir"
  },
  "language_info": {
   "codemirror_mode": "r",
   "file_extension": ".r",
   "mimetype": "text/x-r-source",
   "name": "R",
   "pygments_lexer": "r",
   "version": "3.6.1"
  }
 },
 "nbformat": 4,
 "nbformat_minor": 5
}
