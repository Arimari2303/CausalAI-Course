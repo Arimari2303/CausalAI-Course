{
 "cells": [
  {
   "cell_type": "markdown",
   "id": "1a185d2a",
   "metadata": {},
   "source": [
    "### Vaccines RCTs"
   ]
  },
  {
   "cell_type": "markdown",
   "id": "0edffa0f",
   "metadata": {},
   "source": [
    "#### Polio"
   ]
  },
  {
   "cell_type": "code",
   "execution_count": 35,
   "id": "d2485494",
   "metadata": {},
   "outputs": [],
   "source": [
    "using Pkg\n",
    "\n",
    "#Pkg.add(\"PyCall\")\n",
    "\n",
    "using PyCall\n",
    "using Distributions"
   ]
  },
  {
   "cell_type": "code",
   "execution_count": 25,
   "id": "ac9a1609",
   "metadata": {},
   "outputs": [
    {
     "data": {
      "text/plain": [
       "PyObject <module 'numpy' from 'C:\\\\Users\\\\Alvaro\\\\.julia\\\\conda\\\\3\\\\lib\\\\site-packages\\\\numpy\\\\__init__.py'>"
      ]
     },
     "execution_count": 25,
     "metadata": {},
     "output_type": "execute_result"
    }
   ],
   "source": [
    "np = pyimport(\"numpy\")"
   ]
  },
  {
   "cell_type": "code",
   "execution_count": 6,
   "id": "e559046b",
   "metadata": {},
   "outputs": [
    {
     "name": "stdout",
     "output_type": "stream",
     "text": [
      "Incidence per 100000 among treated:16.438765598146905%. Incidence per 100000 among controlled:57.14882049803955%."
     ]
    }
   ],
   "source": [
    "\n",
    "NT = 200745 #number of treated\n",
    "\n",
    "NC = 201229 #number of controlled\n",
    "\n",
    "YT = 33/NT  #average outcome for treated\n",
    "\n",
    "YC =115/NC  #average outcome for controlled\n",
    "\n",
    "#incidence per 100000 \n",
    "\n",
    "print(\"Incidence per 100000 among treated:\", (YT*100000), \"%. \")\n",
    "\n",
    "print( \"Incidence per 100000 among controlled:\", (YC*100000),\"%.\")"
   ]
  },
  {
   "cell_type": "code",
   "execution_count": 9,
   "id": "211e726d",
   "metadata": {},
   "outputs": [
    {
     "name": "stdout",
     "output_type": "stream",
     "text": [
      "Estimate TE of occurances per 100,000 -40.71005489989265"
     ]
    }
   ],
   "source": [
    "# treatment effect estimate reduction in incidence  per 100000 people\n",
    "\n",
    "delta_hat = 100000*(YT-YC)\n",
    "\n",
    "print(\"Estimate TE of occurances per 100,000 \", (100000*(YT-YC)))"
   ]
  },
  {
   "cell_type": "code",
   "execution_count": 12,
   "id": "b45a9b5b",
   "metadata": {},
   "outputs": [
    {
     "name": "stdout",
     "output_type": "stream",
     "text": [
      "Standard deviation for ATE 6.047412320702958"
     ]
    }
   ],
   "source": [
    "Var_delta_hat =  (100000^2)*(YT*(1-YT)/NT +  YC*(1-YC)/NC)\n",
    "\n",
    "# standard deviation\n",
    "\n",
    "print(\"Standard deviation for ATE \",(Var_delta_hat^.5))"
   ]
  },
  {
   "cell_type": "code",
   "execution_count": 20,
   "id": "a8fa35d2",
   "metadata": {},
   "outputs": [
    {
     "name": "stdout",
     "output_type": "stream",
     "text": [
      "95 % confidence interval is [-52.56298304847044, -28.85712675131485]"
     ]
    }
   ],
   "source": [
    "# here we are using the fact that outcomes are Bernoulli \n",
    "\n",
    "CI_delta0 = delta_hat -1.96*Var_delta_hat^.5\n",
    "CI_delta1 = delta_hat +1.96*Var_delta_hat^.5\n",
    "\n",
    "print(\"95 % confidence interval is [\" ,(CI_delta0), \", \",(CI_delta1), \"]\"   )"
   ]
  },
  {
   "cell_type": "code",
   "execution_count": 21,
   "id": "f968ccf8",
   "metadata": {},
   "outputs": [
    {
     "name": "stdout",
     "output_type": "stream",
     "text": [
      "Overall VE is 0.7123516206478694"
     ]
    }
   ],
   "source": [
    "# Here we calculate the overall effectiveness of the vaccine and construct confidence intervals for it\n",
    "\n",
    "NV =  200745;\n",
    "NU =  201229;\n",
    "RV = 33/NV;\n",
    "RU = 115/NU;\n",
    "VE = (RU - RV)/RU;\n",
    "print(\"Overall VE is \",(VE) )\n"
   ]
  },
  {
   "cell_type": "code",
   "execution_count": 22,
   "id": "98433bd6",
   "metadata": {},
   "outputs": [
    {
     "data": {
      "text/plain": [
       "2.8383662703286493e-9"
      ]
     },
     "execution_count": 22,
     "metadata": {},
     "output_type": "execute_result"
    }
   ],
   "source": [
    "# this recovers the number in the table.\n",
    "\n",
    "# we set up a simulation example.\n",
    "\n",
    "# calulate variance of risk estimates:\n",
    "\n",
    "Var_RV = RV*(1-RV)/NV\n",
    "Var_RU = RU*(1-RU)/NU\n"
   ]
  },
  {
   "cell_type": "code",
   "execution_count": 29,
   "id": "d6f7d7a6",
   "metadata": {},
   "outputs": [],
   "source": [
    "using Random"
   ]
  },
  {
   "cell_type": "code",
   "execution_count": 60,
   "id": "20103237",
   "metadata": {},
   "outputs": [
    {
     "data": {
      "text/plain": [
       "10000"
      ]
     },
     "execution_count": 60,
     "metadata": {},
     "output_type": "execute_result"
    }
   ],
   "source": [
    "B = 10000"
   ]
  },
  {
   "cell_type": "code",
   "execution_count": 72,
   "id": "4c351c7e",
   "metadata": {},
   "outputs": [
    {
     "data": {
      "text/plain": [
       "10000-element Vector{Float64}:\n",
       " 0.682262504024829\n",
       " 0.20056862669785627\n",
       " 0.5171409231123086\n",
       " 0.651131731726382\n",
       " 0.12920261134617644\n",
       " 0.8364730074380492\n",
       " 0.17930611859937362\n",
       " 0.6414216596126168\n",
       " 0.8035790663470701\n",
       " 0.6099150972055861\n",
       " 0.5054102257802949\n",
       " 0.14506913573102415\n",
       " 0.0152051048925775\n",
       " ⋮\n",
       " 0.6861248942644141\n",
       " 0.7014697054521447\n",
       " 0.506043567572203\n",
       " 0.6807330258425004\n",
       " 0.2953589985921938\n",
       " 0.46146728092690714\n",
       " 0.5135552446407652\n",
       " 0.07851956560863974\n",
       " 0.115775041759792\n",
       " 0.7094746714778558\n",
       " 0.5954611826797114\n",
       " 0.38602338478771503"
      ]
     },
     "execution_count": 72,
     "metadata": {},
     "output_type": "execute_result"
    }
   ],
   "source": [
    "x = rand(Truncated(Normal(0, 1), 0, 1), B)\n",
    "y = rand(Truncated(Normal(0, 1), 0, 1), B)"
   ]
  },
  {
   "cell_type": "code",
   "execution_count": 81,
   "id": "6989bc0d",
   "metadata": {},
   "outputs": [
    {
     "name": "stdout",
     "output_type": "stream",
     "text": [
      "95 % confidence interval is [6.397532086824057e-5,7.690020453062422e-5]"
     ]
    }
   ],
   "source": [
    "# set-up MC draws:\n",
    "\n",
    "RVs = RV  .+ x*(Var_RV)^.5\n",
    "RUs = RU  .+ y*(Var_RU)^.5\n",
    "VEs= (RUs - RVs)/RUs\n",
    "\n",
    "\n",
    "CI_VE_L = np.quantile(VEs, .025)\n",
    "CI_VE_U = np.quantile(VEs, .975)\n",
    "\n",
    "print(\"95 % confidence interval is [\", (CI_VE_L), \",\", (CI_VE_U), \"]\"   )"
   ]
  },
  {
   "cell_type": "code",
   "execution_count": null,
   "id": "2b78578c",
   "metadata": {},
   "outputs": [],
   "source": []
  },
  {
   "cell_type": "markdown",
   "id": "ef37e818",
   "metadata": {},
   "source": [
    "#### Pfizer/BNTX Covid-19 RCT"
   ]
  },
  {
   "cell_type": "code",
   "execution_count": 82,
   "id": "52f3c201",
   "metadata": {},
   "outputs": [
    {
     "name": "stdout",
     "output_type": "stream",
     "text": [
      "Overall VE is 0.9461934124362605"
     ]
    }
   ],
   "source": [
    "NV =  19965;\n",
    "NU =  20172;\n",
    "RV = 9/NV;\n",
    "RU = 169/NU;\n",
    "VE = (RU - RV)/RU;\n",
    "\n",
    "print(\"Overall VE is \", (VE))"
   ]
  },
  {
   "cell_type": "code",
   "execution_count": 85,
   "id": "012cd64b",
   "metadata": {},
   "outputs": [
    {
     "name": "stdout",
     "output_type": "stream",
     "text": [
      "95 % confidence interval is [8.874064106316144e-5, 9.981093878452215e-5]"
     ]
    }
   ],
   "source": [
    "# this recovers the number in the table.\n",
    "\n",
    "# we set up a simulation example.\n",
    "\n",
    "# calulate variance of risk estimates:\n",
    "\n",
    "\n",
    "Var_RV = RV*(1-RV)/NV\n",
    "Var_RU = RU*(1-RU)/NU\n",
    "\n",
    "# set-up MC draws:\n",
    "\n",
    "B = 10000\n",
    "\n",
    "x1 = rand(Truncated(Normal(0, 1), 0, 1), B)\n",
    "y1 = rand(Truncated(Normal(0, 1), 0, 1), B)\n",
    "\n",
    "RVs = RV  .+ x1*(Var_RV)^.5\n",
    "RUs = RU  .+ y1*(Var_RU)^.5\n",
    "VEs= (RUs - RVs)/RUs\n",
    "\n",
    "\n",
    "CI_VE_L = np.quantile(VEs, .025)\n",
    "CI_VE_U = np.quantile(VEs, .975)\n",
    "\n",
    "print(\"95 % confidence interval is [\", (CI_VE_L), \", \", \n",
    "            (CI_VE_U), \"]\"   )"
   ]
  },
  {
   "cell_type": "markdown",
   "id": "6aedf7c5",
   "metadata": {},
   "source": [
    "Here we calculate the overall effectiveness of the vaccine for the two groups that are 65 or older"
   ]
  },
  {
   "cell_type": "code",
   "execution_count": 86,
   "id": "37f5881b",
   "metadata": {},
   "outputs": [
    {
     "name": "stdout",
     "output_type": "stream",
     "text": [
      "Overall VE is 0.9470690822010516"
     ]
    }
   ],
   "source": [
    "NV =  3239+805;\n",
    "NU =  3255+812;\n",
    "RV = 1/NV;\n",
    "RU = (14+5)/NU;\n",
    "VE = (RU - RV)/RU;\n",
    "\n",
    "print(\"Overall VE is \", (VE))\n"
   ]
  },
  {
   "cell_type": "code",
   "execution_count": 88,
   "id": "0a0d1a09",
   "metadata": {},
   "outputs": [
    {
     "name": "stdout",
     "output_type": "stream",
     "text": [
      "95 % confidence interval is [7.863955399582723e-5, 0.00010935218368094294]"
     ]
    }
   ],
   "source": [
    "# this recovers the number in the table.\n",
    "\n",
    "# we set up a simulation example.\n",
    "\n",
    "# calulate variance of risk estimates:\n",
    "\n",
    "\n",
    "Var_RV = RV*(1-RV)/NV\n",
    "Var_RU = RU*(1-RU)/NU\n",
    "\n",
    "# set-up MC draws:\n",
    "\n",
    "B = 10000\n",
    "\n",
    "x2 = rand(Truncated(Normal(0, 1), 0, 1), B)\n",
    "y2 = rand(Truncated(Normal(0, 1), 0, 1), B)\n",
    "\n",
    "RVs = RV  .+ x2*(Var_RV)^.5\n",
    "RUs = RU  .+ y2*(Var_RU)^.5\n",
    "VEs= (RUs - RVs)/RUs\n",
    "\n",
    "\n",
    "CI_VE_L = np.quantile(VEs, .025)\n",
    "CI_VE_U = np.quantile(VEs, .975)\n",
    "\n",
    "print(\"95 % confidence interval is [\",(CI_VE_L), \", \", \n",
    "            (CI_VE_U), \"]\"   )\n"
   ]
  },
  {
   "cell_type": "code",
   "execution_count": 89,
   "id": "dc9c05d7",
   "metadata": {},
   "outputs": [
    {
     "name": "stdout",
     "output_type": "stream",
     "text": [
      "95 % confidence interval is [8.01374109040571e-5, 1]"
     ]
    }
   ],
   "source": [
    "CI_VE_L = np.quantile(VEs, .05)\n",
    "\n",
    "\n",
    "print(\"95 % confidence interval is [\",(CI_VE_L), \", \", \n",
    "            (1), \"]\"   )\n"
   ]
  },
  {
   "cell_type": "code",
   "execution_count": 90,
   "id": "a80f90d1",
   "metadata": {},
   "outputs": [
    {
     "name": "stdout",
     "output_type": "stream",
     "text": [
      "Overall VE is 0.9470690822010516"
     ]
    }
   ],
   "source": [
    "NV =  3239+805;\n",
    "NU =  3255+812;\n",
    "RV = 1/NV;\n",
    "RU = (14+5)/NU;\n",
    "VE = (RU - RV)/RU;\n",
    "\n",
    "print(\"Overall VE is \",(VE))"
   ]
  },
  {
   "cell_type": "code",
   "execution_count": null,
   "id": "8b98fdfa",
   "metadata": {},
   "outputs": [],
   "source": []
  },
  {
   "cell_type": "code",
   "execution_count": null,
   "id": "516dc549",
   "metadata": {},
   "outputs": [],
   "source": []
  },
  {
   "cell_type": "code",
   "execution_count": null,
   "id": "dd2b71bc",
   "metadata": {},
   "outputs": [],
   "source": []
  }
 ],
 "metadata": {
  "kernelspec": {
   "display_name": "Julia 1.7.2",
   "language": "julia",
   "name": "julia-1.7"
  },
  "language_info": {
   "file_extension": ".jl",
   "mimetype": "application/julia",
   "name": "julia",
   "version": "1.7.2"
  }
 },
 "nbformat": 4,
 "nbformat_minor": 5
}
