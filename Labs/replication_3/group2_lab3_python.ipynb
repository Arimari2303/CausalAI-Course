{
 "cells": [
  {
   "cell_type": "markdown",
   "id": "56f329c4",
   "metadata": {},
   "source": [
    "# POTENCIAL OUTCOMES AND RCTs\n",
    "### INTEGRANTS:\n",
    "- Diego\n",
    "- Alvaro\n",
    "- Luis"
   ]
  },
  {
   "cell_type": "markdown",
   "id": "c110671c",
   "metadata": {},
   "source": [
    "# Multicollinearity"
   ]
  },
  {
   "cell_type": "markdown",
   "id": "fae31735",
   "metadata": {},
   "source": [
    "DESCRIBE MULTICOLLINEARITY AND EXAMPLES"
   ]
  },
  {
   "cell_type": "code",
   "execution_count": null,
   "id": "773bfd95",
   "metadata": {},
   "outputs": [],
   "source": []
  },
  {
   "cell_type": "code",
   "execution_count": 59,
   "id": "cd65a529",
   "metadata": {},
   "outputs": [],
   "source": [
    "#Import packages\n",
    "import pandas as pd\n",
    "import numpy as np\n",
    "import random"
   ]
  },
  {
   "cell_type": "code",
   "execution_count": 87,
   "id": "2334c866",
   "metadata": {},
   "outputs": [
    {
     "name": "stdout",
     "output_type": "stream",
     "text": [
      "[[ 0.20459621  1.20284322 -0.50391714  1.63902654  1.40531386 -0.93089906\n",
      "  -0.11961533 -0.31706366 -2.30681588 -0.46934468]\n",
      " [-0.01986047  0.46394209  1.56158901  0.77391367  0.66609501 -0.78776229\n",
      "  -0.73517873  1.24190738  0.06822005  1.09765994]\n",
      " [ 0.76520873 -0.52238969 -0.41443718  1.95688427 -1.84516777  0.14425377\n",
      "  -1.36551259 -1.58073538  0.21238591  1.3213276 ]\n",
      " [-0.17341059 -0.3403815  -0.55242332 -1.25143647  0.40737378 -2.13050775\n",
      "   1.16967449  0.89548004  2.05658107  0.35065739]\n",
      " [ 0.20552745 -0.24825591 -0.92146302  1.34846244  0.21241866 -0.32238543\n",
      "  -0.06974431 -0.03661156  1.58998466  0.46643916]\n",
      " [ 1.48986498  0.61377271 -0.96976134 -0.07797589  0.14848957 -0.89100912\n",
      "  -1.62139961  1.6625944  -2.57221736  6.39046343]\n",
      " [ 0.72681479 -1.42951372  0.68768086 -0.02284909 -0.64663689 -1.63852604\n",
      "  -1.03854347  1.4072328   2.50034539  4.19244217]\n",
      " [ 0.9571944   0.79119742 -0.75026208  0.5975279  -0.43680745 -0.2316121\n",
      "   1.02743135 -0.72595507 -2.25398435  2.21884084]\n",
      " [ 0.84360186 -0.73536786  0.01429774 -0.53889259  0.84039892  0.71682475\n",
      "   0.11343653 -0.22370594 -0.42889411  1.84215899]\n",
      " [-0.08155766 -0.43770444 -0.77777202 -1.48029478 -1.13809153  1.43541569\n",
      "   1.02489412 -0.68488611  2.67145865 -0.49749054]]\n"
     ]
    }
   ],
   "source": [
    "random.seed(23)\n",
    "\n",
    "#Create 9 normal random vectors\n",
    "x1 = np.random.normal(0,1,10)\n",
    "x2 = np.random.normal(0,1,10)\n",
    "x3 = np.random.normal(0,1,10)\n",
    "x4 = np.random.normal(0,1,10)\n",
    "x5 = np.random.normal(0,1,10)\n",
    "x6 = np.random.normal(0,1,10)\n",
    "x7 = np.random.normal(0,1,10)\n",
    "x8 = np.random.normal(0,1,10)\n",
    "x9 = np.random.normal(0,1,10)\n",
    "\n",
    "#Create 10th vector: linear combination of 3 vectors\n",
    "x10 = 3*x1 + 1.2*x8 - 0.5*x5\n",
    "\n",
    "#Create a matrix 10x10 B\n",
    "A = np.vstack((x1,x2,x3,x4,x5,x6,x7,x8,x9,x10)) \n",
    "B = np.transpose(A)\n",
    "print(B)"
   ]
  },
  {
   "cell_type": "code",
   "execution_count": 94,
   "id": "d0678fea",
   "metadata": {},
   "outputs": [
    {
     "name": "stdout",
     "output_type": "stream",
     "text": [
      "[[-1.24929285e+16  7.74762356e+15  6.75820222e+15  9.00719925e+15\n",
      "   4.67738864e+15  2.57038815e+15 -1.32472967e+16 -6.19659703e+14\n",
      "   4.77908054e+15 -6.12263158e+15]\n",
      " [-6.34557209e-01  1.38338881e+00  3.14286218e-01  3.20386367e-01\n",
      "  -7.62835004e-02  2.81671930e-01 -9.50039177e-01 -1.41250437e-01\n",
      "  -2.69418839e-02  4.36229129e-01]\n",
      " [-1.08917043e+00  1.22667742e+00  4.20093962e-01  3.34721523e-01\n",
      "   6.23046955e-02  1.02815948e-01 -6.68810994e-01  6.07962828e-02\n",
      "   4.17897727e-01 -4.52086385e-01]\n",
      " [ 1.26996788e+00 -1.10703216e+00 -5.67558997e-01 -9.05848589e-01\n",
      "   2.58776772e-01 -5.23660549e-01  2.43370600e+00  3.42575402e-01\n",
      "  -6.32958464e-01  4.24645404e-01]\n",
      " [ 2.08215476e+15 -1.29127059e+15 -1.12636704e+15 -1.50119988e+15\n",
      "  -7.79564773e+14 -4.28398026e+14  2.20788279e+15  1.03276617e+14\n",
      "  -7.96513423e+14  1.02043860e+15]\n",
      " [ 9.20241533e-01 -6.43600312e-01 -5.97019474e-01 -9.20241533e-01\n",
      "   9.31616755e-02 -1.60189127e-01  1.28720062e+00  1.25608974e-01\n",
      "  -1.36898708e-01  4.60120767e-01]\n",
      " [ 1.63351464e+00 -1.42932531e+00 -1.63351464e+00 -1.63351464e+00\n",
      "  -4.08378660e-01 -7.14662656e-01  2.85865062e+00  6.89138989e-01\n",
      "  -8.16757321e-01  8.16757321e-01]\n",
      " [-4.99717142e+15  3.09904942e+15  2.70328089e+15  3.60287970e+15\n",
      "   1.87095546e+15  1.02815526e+15 -5.29891870e+15 -2.47863881e+14\n",
      "   1.91163222e+15 -2.44905263e+15]\n",
      " [-2.59000235e-01  5.65971179e-01  3.71000031e-01  4.46329230e-01\n",
      "   1.82591428e-01  1.02908818e-01 -5.14135531e-01 -1.53801954e-01\n",
      "   2.36422204e-01  1.42937536e-01]\n",
      " [ 4.16430951e+15 -2.58254119e+15 -2.25273407e+15 -3.00239975e+15\n",
      "  -1.55912955e+15 -8.56796051e+14  4.41576558e+15  2.06553234e+14\n",
      "  -1.59302685e+15  2.04087719e+15]]\n",
      "\n",
      "The determinant of the matrix is:  -1.5753588005832851e-13\n"
     ]
    }
   ],
   "source": [
    "#Calculate inverse matrix of B\n",
    "C = np.linalg.inv(B)\n",
    "print(C)\n",
    "print(\"\\nThe determinant of the matrix is: \",np.linalg.det(B))"
   ]
  },
  {
   "cell_type": "markdown",
   "id": "e1e23816",
   "metadata": {},
   "source": [
    "The determinant of matrix B (with a linear combination 10th column) is almost zero. That's means one of the columns is a linear combination of others columns."
   ]
  },
  {
   "cell_type": "markdown",
   "id": "17c35ae3",
   "metadata": {},
   "source": [
    "# Analyzing RCT data with Precision Adjustment"
   ]
  },
  {
   "cell_type": "code",
   "execution_count": 138,
   "id": "87488831",
   "metadata": {},
   "outputs": [],
   "source": [
    "#!pip install pyreadr\n",
    "#!pip install matplotlib\n",
    "#!pip install seaborn\n",
    "import pyreadr\n",
    "import matplotlib.pyplot as plt\n",
    "import seaborn as sns"
   ]
  },
  {
   "cell_type": "code",
   "execution_count": 139,
   "id": "157604ea",
   "metadata": {},
   "outputs": [],
   "source": [
    "## loading the data\n",
    "Penn = pd.read_csv(\"../../data/penn_jae.dat\" , sep='\\s', engine='python')\n",
    "n = Penn.shape[0]\n",
    "p_1 = Penn.shape[1]\n",
    "Penn = Penn[ (Penn['tg'] == 2) | (Penn['tg'] == 0) ]"
   ]
  },
  {
   "cell_type": "code",
   "execution_count": 140,
   "id": "98c23e9f",
   "metadata": {},
   "outputs": [
    {
     "data": {
      "text/plain": [
       "(5782, 24)"
      ]
     },
     "execution_count": 140,
     "metadata": {},
     "output_type": "execute_result"
    }
   ],
   "source": [
    "Penn.shape"
   ]
  },
  {
   "cell_type": "code",
   "execution_count": 141,
   "id": "67eb0c0b",
   "metadata": {},
   "outputs": [
    {
     "name": "stdout",
     "output_type": "stream",
     "text": [
      "<class 'pandas.core.frame.DataFrame'>\n",
      "Int64Index: 5782 entries, 0 to 13911\n",
      "Data columns (total 24 columns):\n",
      " #   Column       Non-Null Count  Dtype  \n",
      "---  ------       --------------  -----  \n",
      " 0   abdt         5782 non-null   int64  \n",
      " 1   tg           5782 non-null   int64  \n",
      " 2   inuidur1     5782 non-null   int64  \n",
      " 3   inuidur2     5782 non-null   int64  \n",
      " 4   female       5782 non-null   int64  \n",
      " 5   black        5782 non-null   int64  \n",
      " 6   hispanic     5782 non-null   int64  \n",
      " 7   othrace      5782 non-null   int64  \n",
      " 8   dep          5782 non-null   int64  \n",
      " 9   q1           5782 non-null   int64  \n",
      " 10  q2           5782 non-null   int64  \n",
      " 11  q3           5782 non-null   int64  \n",
      " 12  q4           5782 non-null   int64  \n",
      " 13  Unnamed: 13  5782 non-null   int64  \n",
      " 14  q5           5782 non-null   int64  \n",
      " 15  q6           5782 non-null   int64  \n",
      " 16  recall       5782 non-null   int64  \n",
      " 17  agelt35      5782 non-null   int64  \n",
      " 18  agegt54      5782 non-null   int64  \n",
      " 19  durable      5782 non-null   int64  \n",
      " 20  nondurable   5782 non-null   int64  \n",
      " 21  lusd         5782 non-null   int64  \n",
      " 22  husd         5782 non-null   int64  \n",
      " 23  muld         0 non-null      float64\n",
      "dtypes: float64(1), int64(23)\n",
      "memory usage: 1.1 MB\n"
     ]
    }
   ],
   "source": [
    "Penn.columns\n",
    "Penn.info()"
   ]
  },
  {
   "cell_type": "code",
   "execution_count": 142,
   "id": "c176303f",
   "metadata": {},
   "outputs": [
    {
     "data": {
      "text/html": [
       "<div>\n",
       "<style scoped>\n",
       "    .dataframe tbody tr th:only-of-type {\n",
       "        vertical-align: middle;\n",
       "    }\n",
       "\n",
       "    .dataframe tbody tr th {\n",
       "        vertical-align: top;\n",
       "    }\n",
       "\n",
       "    .dataframe thead th {\n",
       "        text-align: right;\n",
       "    }\n",
       "</style>\n",
       "<table border=\"1\" class=\"dataframe\">\n",
       "  <thead>\n",
       "    <tr style=\"text-align: right;\">\n",
       "      <th></th>\n",
       "      <th>abdt</th>\n",
       "      <th>tg</th>\n",
       "      <th>inuidur1</th>\n",
       "      <th>inuidur2</th>\n",
       "      <th>female</th>\n",
       "      <th>black</th>\n",
       "      <th>hispanic</th>\n",
       "      <th>othrace</th>\n",
       "      <th>dep</th>\n",
       "      <th>q1</th>\n",
       "      <th>...</th>\n",
       "      <th>q6</th>\n",
       "      <th>recall</th>\n",
       "      <th>agelt35</th>\n",
       "      <th>agegt54</th>\n",
       "      <th>durable</th>\n",
       "      <th>nondurable</th>\n",
       "      <th>lusd</th>\n",
       "      <th>husd</th>\n",
       "      <th>muld</th>\n",
       "      <th>T2</th>\n",
       "    </tr>\n",
       "  </thead>\n",
       "  <tbody>\n",
       "    <tr>\n",
       "      <th>0</th>\n",
       "      <td>10824</td>\n",
       "      <td>0</td>\n",
       "      <td>18</td>\n",
       "      <td>18</td>\n",
       "      <td>0</td>\n",
       "      <td>0</td>\n",
       "      <td>0</td>\n",
       "      <td>0</td>\n",
       "      <td>2</td>\n",
       "      <td>0</td>\n",
       "      <td>...</td>\n",
       "      <td>0</td>\n",
       "      <td>0</td>\n",
       "      <td>0</td>\n",
       "      <td>0</td>\n",
       "      <td>0</td>\n",
       "      <td>0</td>\n",
       "      <td>1</td>\n",
       "      <td>0</td>\n",
       "      <td>NaN</td>\n",
       "      <td>0</td>\n",
       "    </tr>\n",
       "    <tr>\n",
       "      <th>1</th>\n",
       "      <td>10635</td>\n",
       "      <td>2</td>\n",
       "      <td>7</td>\n",
       "      <td>3</td>\n",
       "      <td>0</td>\n",
       "      <td>0</td>\n",
       "      <td>0</td>\n",
       "      <td>0</td>\n",
       "      <td>0</td>\n",
       "      <td>0</td>\n",
       "      <td>...</td>\n",
       "      <td>0</td>\n",
       "      <td>1</td>\n",
       "      <td>0</td>\n",
       "      <td>0</td>\n",
       "      <td>0</td>\n",
       "      <td>1</td>\n",
       "      <td>0</td>\n",
       "      <td>0</td>\n",
       "      <td>NaN</td>\n",
       "      <td>1</td>\n",
       "    </tr>\n",
       "    <tr>\n",
       "      <th>3</th>\n",
       "      <td>10824</td>\n",
       "      <td>0</td>\n",
       "      <td>1</td>\n",
       "      <td>1</td>\n",
       "      <td>0</td>\n",
       "      <td>0</td>\n",
       "      <td>0</td>\n",
       "      <td>0</td>\n",
       "      <td>0</td>\n",
       "      <td>0</td>\n",
       "      <td>...</td>\n",
       "      <td>0</td>\n",
       "      <td>0</td>\n",
       "      <td>0</td>\n",
       "      <td>0</td>\n",
       "      <td>0</td>\n",
       "      <td>1</td>\n",
       "      <td>0</td>\n",
       "      <td>0</td>\n",
       "      <td>NaN</td>\n",
       "      <td>0</td>\n",
       "    </tr>\n",
       "    <tr>\n",
       "      <th>4</th>\n",
       "      <td>10747</td>\n",
       "      <td>0</td>\n",
       "      <td>27</td>\n",
       "      <td>27</td>\n",
       "      <td>0</td>\n",
       "      <td>0</td>\n",
       "      <td>0</td>\n",
       "      <td>0</td>\n",
       "      <td>0</td>\n",
       "      <td>0</td>\n",
       "      <td>...</td>\n",
       "      <td>0</td>\n",
       "      <td>0</td>\n",
       "      <td>0</td>\n",
       "      <td>0</td>\n",
       "      <td>0</td>\n",
       "      <td>1</td>\n",
       "      <td>0</td>\n",
       "      <td>0</td>\n",
       "      <td>NaN</td>\n",
       "      <td>0</td>\n",
       "    </tr>\n",
       "    <tr>\n",
       "      <th>9</th>\n",
       "      <td>10754</td>\n",
       "      <td>2</td>\n",
       "      <td>20</td>\n",
       "      <td>20</td>\n",
       "      <td>1</td>\n",
       "      <td>0</td>\n",
       "      <td>0</td>\n",
       "      <td>0</td>\n",
       "      <td>0</td>\n",
       "      <td>0</td>\n",
       "      <td>...</td>\n",
       "      <td>0</td>\n",
       "      <td>0</td>\n",
       "      <td>0</td>\n",
       "      <td>0</td>\n",
       "      <td>0</td>\n",
       "      <td>0</td>\n",
       "      <td>0</td>\n",
       "      <td>1</td>\n",
       "      <td>NaN</td>\n",
       "      <td>1</td>\n",
       "    </tr>\n",
       "  </tbody>\n",
       "</table>\n",
       "<p>5 rows × 25 columns</p>\n",
       "</div>"
      ],
      "text/plain": [
       "    abdt  tg  inuidur1  inuidur2  female  black  hispanic  othrace dep  q1  \\\n",
       "0  10824   0        18        18       0      0         0        0   2   0   \n",
       "1  10635   2         7         3       0      0         0        0   0   0   \n",
       "3  10824   0         1         1       0      0         0        0   0   0   \n",
       "4  10747   0        27        27       0      0         0        0   0   0   \n",
       "9  10754   2        20        20       1      0         0        0   0   0   \n",
       "\n",
       "   ...  q6  recall  agelt35  agegt54  durable  nondurable  lusd  husd  muld  \\\n",
       "0  ...   0       0        0        0        0           0     1     0   NaN   \n",
       "1  ...   0       1        0        0        0           1     0     0   NaN   \n",
       "3  ...   0       0        0        0        0           1     0     0   NaN   \n",
       "4  ...   0       0        0        0        0           1     0     0   NaN   \n",
       "9  ...   0       0        0        0        0           0     0     1   NaN   \n",
       "\n",
       "   T2  \n",
       "0   0  \n",
       "1   1  \n",
       "3   0  \n",
       "4   0  \n",
       "9   1  \n",
       "\n",
       "[5 rows x 25 columns]"
      ]
     },
     "execution_count": 142,
     "metadata": {},
     "output_type": "execute_result"
    }
   ],
   "source": [
    "# Dependent variable\n",
    "Penn['T2'] = (Penn[['tg']]==2).astype(int)\n",
    "\n",
    "# Create category variable\n",
    "Penn['dep'] = Penn['dep'].astype( 'category' )\n",
    "Penn.head()"
   ]
  },
  {
   "cell_type": "code",
   "execution_count": 143,
   "id": "99185f9a",
   "metadata": {},
   "outputs": [
    {
     "data": {
      "text/plain": [
       "[2, 0, 1]\n",
       "Categories (3, int64): [0, 1, 2]"
      ]
     },
     "execution_count": 143,
     "metadata": {},
     "output_type": "execute_result"
    }
   ],
   "source": [
    "Penn['dep'].unique()"
   ]
  },
  {
   "cell_type": "code",
   "execution_count": 144,
   "id": "33eb36da",
   "metadata": {},
   "outputs": [
    {
     "name": "stdout",
     "output_type": "stream",
     "text": [
      "<class 'pandas.core.frame.DataFrame'>\n",
      "Int64Index: 5782 entries, 0 to 13911\n",
      "Data columns (total 25 columns):\n",
      " #   Column       Non-Null Count  Dtype   \n",
      "---  ------       --------------  -----   \n",
      " 0   abdt         5782 non-null   int64   \n",
      " 1   tg           5782 non-null   int64   \n",
      " 2   inuidur1     5782 non-null   int64   \n",
      " 3   inuidur2     5782 non-null   int64   \n",
      " 4   female       5782 non-null   int64   \n",
      " 5   black        5782 non-null   int64   \n",
      " 6   hispanic     5782 non-null   int64   \n",
      " 7   othrace      5782 non-null   int64   \n",
      " 8   dep          5782 non-null   category\n",
      " 9   q1           5782 non-null   int64   \n",
      " 10  q2           5782 non-null   int64   \n",
      " 11  q3           5782 non-null   int64   \n",
      " 12  q4           5782 non-null   int64   \n",
      " 13  Unnamed: 13  5782 non-null   int64   \n",
      " 14  q5           5782 non-null   int64   \n",
      " 15  q6           5782 non-null   int64   \n",
      " 16  recall       5782 non-null   int64   \n",
      " 17  agelt35      5782 non-null   int64   \n",
      " 18  agegt54      5782 non-null   int64   \n",
      " 19  durable      5782 non-null   int64   \n",
      " 20  nondurable   5782 non-null   int64   \n",
      " 21  lusd         5782 non-null   int64   \n",
      " 22  husd         5782 non-null   int64   \n",
      " 23  muld         0 non-null      float64 \n",
      " 24  T2           5782 non-null   int32   \n",
      "dtypes: category(1), float64(1), int32(1), int64(22)\n",
      "memory usage: 1.1 MB\n"
     ]
    }
   ],
   "source": [
    "Penn.info()"
   ]
  },
  {
   "cell_type": "markdown",
   "id": "40fced43",
   "metadata": {},
   "source": [
    "### Plot histogram: treatment vs control"
   ]
  },
  {
   "cell_type": "code",
   "execution_count": 154,
   "id": "ba951ac3",
   "metadata": {},
   "outputs": [
    {
     "data": {
      "text/plain": [
       "<AxesSubplot:xlabel='inuidur1', ylabel='Percent'>"
      ]
     },
     "execution_count": 154,
     "metadata": {},
     "output_type": "execute_result"
    },
    {
     "data": {
      "image/png": "[encoded data removed]",
      "text/plain": [
       "<Figure size 432x288 with 1 Axes>"
      ]
     },
     "metadata": {
      "needs_background": "light"
     },
     "output_type": "display_data"
    }
   ],
   "source": [
    "#Plot histogram: treatment group\n",
    "fig, ax = plt.subplots()\n",
    "sns.histplot(Penn[(Penn['T2'] == 1)].inuidur1,stat=\"percent\",bins=30,kde=True)"
   ]
  },
  {
   "cell_type": "code",
   "execution_count": 155,
   "id": "6e0ddca4",
   "metadata": {},
   "outputs": [
    {
     "data": {
      "text/plain": [
       "<AxesSubplot:xlabel='inuidur1', ylabel='Percent'>"
      ]
     },
     "execution_count": 155,
     "metadata": {},
     "output_type": "execute_result"
    },
    {
     "data": {
      "image/png": "[encoded data removed]",
      "text/plain": [
       "<Figure size 432x288 with 1 Axes>"
      ]
     },
     "metadata": {
      "needs_background": "light"
     },
     "output_type": "display_data"
    }
   ],
   "source": [
    "#Plot histogram: control group\n",
    "fig, ax = plt.subplots()\n",
    "sns.histplot(Penn[(Penn['T2'] == 0)].inuidur1,stat=\"percent\",bins=30,kde=True)"
   ]
  },
  {
   "cell_type": "markdown",
   "id": "f2115455",
   "metadata": {},
   "source": [
    "### Specifications"
   ]
  },
  {
   "cell_type": "markdown",
   "id": "c61c553d",
   "metadata": {},
   "source": [
    "#### 1. Classical 2-sample approach, no adjustment (CL)"
   ]
  },
  {
   "cell_type": "code",
   "execution_count": null,
   "id": "ece41f46",
   "metadata": {},
   "outputs": [],
   "source": []
  },
  {
   "cell_type": "markdown",
   "id": "9975f3b2",
   "metadata": {},
   "source": [
    "#### 2. Classical linear regression adjustment (CRA)"
   ]
  },
  {
   "cell_type": "code",
   "execution_count": null,
   "id": "9d9ca6d5",
   "metadata": {},
   "outputs": [],
   "source": []
  },
  {
   "cell_type": "markdown",
   "id": "4fb8a40a",
   "metadata": {},
   "source": [
    "#### 3. Interactive regression adjustment (IRA)"
   ]
  },
  {
   "cell_type": "code",
   "execution_count": null,
   "id": "c01b67a0",
   "metadata": {},
   "outputs": [],
   "source": []
  },
  {
   "cell_type": "markdown",
   "id": "f5774fd2",
   "metadata": {},
   "source": [
    "#### 4. Interactive regression adjustment (IRA) using Lasso."
   ]
  },
  {
   "cell_type": "code",
   "execution_count": null,
   "id": "3089128e",
   "metadata": {},
   "outputs": [],
   "source": []
  }
 ],
 "metadata": {
  "kernelspec": {
   "display_name": "Python 3 (ipykernel)",
   "language": "python",
   "name": "python3"
  },
  "language_info": {
   "codemirror_mode": {
    "name": "ipython",
    "version": 3
   },
   "file_extension": ".py",
   "mimetype": "text/x-python",
   "name": "python",
   "nbconvert_exporter": "python",
   "pygments_lexer": "ipython3",
   "version": "3.9.11"
  }
 },
 "nbformat": 4,
 "nbformat_minor": 5
}
