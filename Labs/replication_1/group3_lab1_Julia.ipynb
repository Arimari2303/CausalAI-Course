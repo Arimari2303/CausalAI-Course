{
 "cells": [
  {
   "cell_type": "markdown",
   "id": "5cffc7d4",
   "metadata": {},
   "source": [
    "## Group3\n",
    "### Members\n",
    "1.Andrea Ulloa \n",
    "2.Ana Angulo (20171627)\n",
    "3.Angela Coapaza (20171636) "
   ]
  },
  {
   "cell_type": "markdown",
   "id": "511af0cd",
   "metadata": {},
   "source": [
    "## An Inferencial Problem: The College-Educated Wage Gap"
   ]
  },
  {
   "cell_type": "markdown",
   "id": "567226aa",
   "metadata": {},
   "source": [
    "Using the data from the March Supplement of the U.S. Current Population Survey (2015) , in  this lab, we focus on the following inference question:\n",
    "\n",
    "What is the difference in predicted wages between men and women with the same job-relevant characteristics? However, we only focus on the subset of college-educated workers.\n",
    "\n",
    "To investigate the gender wage gap in this subset, we consider the following log-linear regression model\n",
    "\n",
    "\\begin{align}\n",
    "\\log(Y) &= \\beta'X + \\epsilon\\\\\n",
    "&= \\beta_1 D  + \\beta_2' W + \\epsilon,\n",
    "\\end{align}\n",
    "\n",
    "where $D$ is the indicator of being female ($1$ if female and $0$ otherwise) and the\n",
    "$W$'s are controls explaining variation in wages*. Considering transformed wages by the logarithm, we are analyzing the relative difference in the payment of men and women.\n",
    "\n",
    "*The variables used to restrict the database (scl and clg) are no longer part of the W's controls anymore."
   ]
  },
  {
   "cell_type": "markdown",
   "id": "e0b637f8",
   "metadata": {},
   "source": [
    "## 1. Data Analysis"
   ]
  },
  {
   "cell_type": "markdown",
   "id": "3def6297",
   "metadata": {},
   "source": [
    "We consider the same subsample of the U.S. Current Population Survey (2015). Let us load the data set."
   ]
  },
  {
   "cell_type": "code",
   "execution_count": 56,
   "id": "6a4c59a3",
   "metadata": {},
   "outputs": [
    {
     "name": "stderr",
     "output_type": "stream",
     "text": [
      "\u001b[32m\u001b[1m   Resolving\u001b[22m\u001b[39m package versions...\n",
      "\u001b[32m\u001b[1m  No Changes\u001b[22m\u001b[39m to `C:\\Users\\ANA\\.julia\\environments\\v1.7\\Project.toml`\n",
      "\u001b[32m\u001b[1m  No Changes\u001b[22m\u001b[39m to `C:\\Users\\ANA\\.julia\\environments\\v1.7\\Manifest.toml`\n",
      "\u001b[32m\u001b[1m   Resolving\u001b[22m\u001b[39m package versions...\n",
      "\u001b[32m\u001b[1m  No Changes\u001b[22m\u001b[39m to `C:\\Users\\ANA\\.julia\\environments\\v1.7\\Project.toml`\n",
      "\u001b[32m\u001b[1m  No Changes\u001b[22m\u001b[39m to `C:\\Users\\ANA\\.julia\\environments\\v1.7\\Manifest.toml`\n",
      "\u001b[32m\u001b[1m   Resolving\u001b[22m\u001b[39m package versions...\n",
      "\u001b[32m\u001b[1m  No Changes\u001b[22m\u001b[39m to `C:\\Users\\ANA\\.julia\\environments\\v1.7\\Project.toml`\n",
      "\u001b[32m\u001b[1m  No Changes\u001b[22m\u001b[39m to `C:\\Users\\ANA\\.julia\\environments\\v1.7\\Manifest.toml`\n",
      "\u001b[32m\u001b[1m   Resolving\u001b[22m\u001b[39m package versions...\n",
      "\u001b[32m\u001b[1m  No Changes\u001b[22m\u001b[39m to `C:\\Users\\ANA\\.julia\\environments\\v1.7\\Project.toml`\n",
      "\u001b[32m\u001b[1m  No Changes\u001b[22m\u001b[39m to `C:\\Users\\ANA\\.julia\\environments\\v1.7\\Manifest.toml`\n",
      "\u001b[32m\u001b[1m   Resolving\u001b[22m\u001b[39m package versions...\n",
      "\u001b[32m\u001b[1m  No Changes\u001b[22m\u001b[39m to `C:\\Users\\ANA\\.julia\\environments\\v1.7\\Project.toml`\n",
      "\u001b[32m\u001b[1m  No Changes\u001b[22m\u001b[39m to `C:\\Users\\ANA\\.julia\\environments\\v1.7\\Manifest.toml`\n"
     ]
    }
   ],
   "source": [
    "using Pkg\n",
    "\n",
    "Pkg.add(\"DataFrames\")\n",
    "Pkg.add(\"Dates\")\n",
    "Pkg.add(\"CategoricalArrays\")\n",
    "Pkg.add(\"RData\")\n",
    "Pkg.add(\"Plots\")\n",
    "\n",
    "using RData\n",
    "using DataFrames\n",
    "using Dates\n",
    "using Statistics  #upload data of R format \n",
    "using CategoricalArrays # categorical data\n",
    "using Plots"
   ]
  },
  {
   "cell_type": "code",
   "execution_count": 5,
   "id": "0c3a06b0",
   "metadata": {},
   "outputs": [
    {
     "name": "stderr",
     "output_type": "stream",
     "text": [
      "\u001b[32m\u001b[1m    Building\u001b[22m\u001b[39m GR → `C:\\Users\\ANA\\.julia\\scratchspaces\\44cfe95a-1eb2-52ea-b672-e2afdf69b78f\\af237c08bda486b74318c8070adb96efa6952530\\build.log`\n",
      "\u001b[32m\u001b[1m    Building\u001b[22m\u001b[39m GR → `C:\\Users\\ANA\\.julia\\scratchspaces\\44cfe95a-1eb2-52ea-b672-e2afdf69b78f\\af237c08bda486b74318c8070adb96efa6952530\\build.log`\n"
     ]
    }
   ],
   "source": [
    "#Pkg.build(\"GR\")\n",
    "#Pkg.build(\"Plots\")"
   ]
  },
  {
   "cell_type": "code",
   "execution_count": 55,
   "id": "4148e7a4",
   "metadata": {},
   "outputs": [
    {
     "name": "stdout",
     "output_type": "stream",
     "text": [
      "Number of Rows : 5150\n",
      "Number of Columns : 20\n"
     ]
    }
   ],
   "source": [
    "rdata_read = load(\"../../data/wage2015_subsample_inference.RData\")\n",
    "data = rdata_read[\"data\"]\n",
    "names(data)\n",
    "println(\"Number of Rows : \", size(data)[1],\"\\n\",\"Number of Columns : \", size(data)[2],) #rows and columns"
   ]
  },
  {
   "cell_type": "markdown",
   "id": "c08b9865",
   "metadata": {},
   "source": [
    "***Variable description***\n",
    "\n",
    "- occ : occupational classification\n",
    "- ind : industry classification\n",
    "- lwage : log hourly wage\n",
    "- sex : gender (1 female) (0 male)\n",
    "- shs : some high school\n",
    "- hsg : High school graduated\n",
    "- scl : Some College\n",
    "- clg: College Graduate\n",
    "- ad: Advanced Degree\n",
    "- ne: Northeast\n",
    "- mw: Midwest\n",
    "- so: South\n",
    "- we: West\n",
    "- exp1: experience"
   ]
  },
  {
   "cell_type": "markdown",
   "id": "d6197c77",
   "metadata": {},
   "source": [
    "As we mention before, we focus only on a subset of the data. For this porpouse, we use scl and clg variables."
   ]
  },
  {
   "cell_type": "code",
   "execution_count": 75,
   "id": "82f57241",
   "metadata": {},
   "outputs": [
    {
     "data": {
      "text/plain": [
       "3068-element CategoricalArray{String,1,UInt8}:\n",
       " \"11\"\n",
       " \"10\"\n",
       " \"6\"\n",
       " \"5\"\n",
       " \"10\"\n",
       " \"11\"\n",
       " \"11\"\n",
       " \"1\"\n",
       " \"20\"\n",
       " \"15\"\n",
       " \"11\"\n",
       " \"19\"\n",
       " \"1\"\n",
       " ⋮\n",
       " \"4\"\n",
       " \"21\"\n",
       " \"2\"\n",
       " \"10\"\n",
       " \"17\"\n",
       " \"8\"\n",
       " \"1\"\n",
       " \"10\"\n",
       " \"8\"\n",
       " \"2\"\n",
       " \"16\"\n",
       " \"13\""
      ]
     },
     "execution_count": 75,
     "metadata": {},
     "output_type": "execute_result"
    }
   ],
   "source": [
    "#subset(data, :scl =>ByRow(==(1)), :clg =>ByRow(==(1)))\n",
    "#data1= data[(data[:,\"scl\"].==1) .| (data[:,\"clg\"].==1),:] \n",
    "data = filter(row -> (row.scl == 1 || row.clg == 1) , data) \n",
    "data.occ2"
   ]
  },
  {
   "cell_type": "markdown",
   "id": "7f91292b",
   "metadata": {},
   "source": [
    "To start our (causal) analysis, we compare the sample means given gender:"
   ]
  },
  {
   "cell_type": "code",
   "execution_count": 57,
   "id": "818b6e99",
   "metadata": {},
   "outputs": [
    {
     "data": {
      "text/html": [
       "<table class=\"data-frame\"><thead><tr><th></th><th>variables</th><th>All</th><th>Men</th><th>Female</th></tr><tr><th></th><th>String</th><th>Float64</th><th>Float64</th><th>Float64</th></tr></thead><tbody><p>12 rows × 4 columns</p><tr><th>1</th><td>lwage</td><td>3.00002</td><td>3.03841</td><td>2.9569</td></tr><tr><th>2</th><td>sex</td><td>0.470991</td><td>0.0</td><td>1.0</td></tr><tr><th>3</th><td>shs</td><td>0.0</td><td>0.0</td><td>0.0</td></tr><tr><th>4</th><td>hsg</td><td>0.0</td><td>0.0</td><td>0.0</td></tr><tr><th>5</th><td>scl</td><td>0.466754</td><td>0.481824</td><td>0.449827</td></tr><tr><th>6</th><td>clg</td><td>0.533246</td><td>0.518176</td><td>0.550173</td></tr><tr><th>7</th><td>ad</td><td>0.0</td><td>0.0</td><td>0.0</td></tr><tr><th>8</th><td>ne</td><td>0.226532</td><td>0.219347</td><td>0.234602</td></tr><tr><th>9</th><td>mw</td><td>0.265971</td><td>0.261245</td><td>0.27128</td></tr><tr><th>10</th><td>so</td><td>0.285854</td><td>0.290819</td><td>0.280277</td></tr><tr><th>11</th><td>we</td><td>0.221643</td><td>0.228589</td><td>0.213841</td></tr><tr><th>12</th><td>exp1</td><td>12.7009</td><td>12.4331</td><td>13.0017</td></tr></tbody></table>"
      ],
      "text/latex": [
       "\\begin{tabular}{r|cccc}\n",
       "\t& variables & All & Men & Female\\\\\n",
       "\t\\hline\n",
       "\t& String & Float64 & Float64 & Float64\\\\\n",
       "\t\\hline\n",
       "\t1 & lwage & 3.00002 & 3.03841 & 2.9569 \\\\\n",
       "\t2 & sex & 0.470991 & 0.0 & 1.0 \\\\\n",
       "\t3 & shs & 0.0 & 0.0 & 0.0 \\\\\n",
       "\t4 & hsg & 0.0 & 0.0 & 0.0 \\\\\n",
       "\t5 & scl & 0.466754 & 0.481824 & 0.449827 \\\\\n",
       "\t6 & clg & 0.533246 & 0.518176 & 0.550173 \\\\\n",
       "\t7 & ad & 0.0 & 0.0 & 0.0 \\\\\n",
       "\t8 & ne & 0.226532 & 0.219347 & 0.234602 \\\\\n",
       "\t9 & mw & 0.265971 & 0.261245 & 0.27128 \\\\\n",
       "\t10 & so & 0.285854 & 0.290819 & 0.280277 \\\\\n",
       "\t11 & we & 0.221643 & 0.228589 & 0.213841 \\\\\n",
       "\t12 & exp1 & 12.7009 & 12.4331 & 13.0017 \\\\\n",
       "\\end{tabular}\n"
      ],
      "text/plain": [
       "\u001b[1m12×4 DataFrame\u001b[0m\n",
       "\u001b[1m Row \u001b[0m│\u001b[1m variables \u001b[0m\u001b[1m All       \u001b[0m\u001b[1m Men       \u001b[0m\u001b[1m Female    \u001b[0m\n",
       "\u001b[1m     \u001b[0m│\u001b[90m String    \u001b[0m\u001b[90m Float64   \u001b[0m\u001b[90m Float64   \u001b[0m\u001b[90m Float64   \u001b[0m\n",
       "─────┼────────────────────────────────────────────\n",
       "   1 │ lwage       3.00002    3.03841    2.9569\n",
       "   2 │ sex         0.470991   0.0        1.0\n",
       "   3 │ shs         0.0        0.0        0.0\n",
       "   4 │ hsg         0.0        0.0        0.0\n",
       "   5 │ scl         0.466754   0.481824   0.449827\n",
       "   6 │ clg         0.533246   0.518176   0.550173\n",
       "   7 │ ad          0.0        0.0        0.0\n",
       "   8 │ ne          0.226532   0.219347   0.234602\n",
       "   9 │ mw          0.265971   0.261245   0.27128\n",
       "  10 │ so          0.285854   0.290819   0.280277\n",
       "  11 │ we          0.221643   0.228589   0.213841\n",
       "  12 │ exp1       12.7009    12.4331    13.0017"
      ]
     },
     "execution_count": 57,
     "metadata": {},
     "output_type": "execute_result"
    }
   ],
   "source": [
    "#Z = select(data, [\"lwage\",\"sex\",\"shs\",\"hsg\",\"ad\",\"ne\",\"mw\",\"so\",\"we\",\"exp1\"])\n",
    "\n",
    "#data_female = filter(row -> row.sex == 1, data)\n",
    "#Z_female = select(data_female,[\"lwage\",\"sex\",\"shs\",\"hsg\",\"ad\",\"ne\",\"mw\",\"so\",\"we\",\"exp1\"] )\n",
    "\n",
    "#data_male = filter(row -> row.sex == 0, data)\n",
    "#Z_male = select(data_male,[\"lwage\",\"sex\",\"shs\",\"hsg\",\"ad\",\"ne\",\"mw\",\"so\",\"we\",\"exp1\"] )\n",
    "\n",
    "Z = select(data, [\"lwage\",\"sex\",\"shs\",\"hsg\",\"scl\",\"clg\",\"ad\",\"ne\",\"mw\",\"so\",\"we\",\"exp1\"])\n",
    "\n",
    "data_female = filter(row -> row.sex == 1, data)\n",
    "Z_female = select(data_female,[\"lwage\",\"sex\",\"shs\",\"hsg\",\"scl\",\"clg\",\"ad\",\"ne\",\"mw\",\"so\",\"we\",\"exp1\"] )\n",
    "\n",
    "data_male = filter(row -> row.sex == 0, data)\n",
    "Z_male = select(data_male,[\"lwage\",\"sex\",\"shs\",\"hsg\",\"scl\",\"clg\",\"ad\",\"ne\",\"mw\",\"so\",\"we\",\"exp1\"] )\n",
    "means = DataFrame( variables = names(Z), All = describe(Z, :mean)[!,2], Men = describe(Z_male,:mean)[!,2], Female = describe(Z_female,:mean)[!,2])\n"
   ]
  },
  {
   "cell_type": "markdown",
   "id": "b5092ea7",
   "metadata": {},
   "source": [
    "In particular, the table above shows that the difference in average logwage between men and women is equal to $0,0815$. Also, we can notice that other education dimensions are zero since we have restricted the database to people with only college education. "
   ]
  },
  {
   "cell_type": "code",
   "execution_count": 58,
   "id": "db25c196",
   "metadata": {},
   "outputs": [
    {
     "data": {
      "text/plain": [
       "-0.08150855508735955"
      ]
     },
     "execution_count": 58,
     "metadata": {},
     "output_type": "execute_result"
    }
   ],
   "source": [
    "mean(Z_female[:,:lwage]) - mean(Z_male[:,:lwage])"
   ]
  },
  {
   "cell_type": "code",
   "execution_count": 59,
   "id": "3717aab0",
   "metadata": {},
   "outputs": [
    {
     "data": {
      "text/plain": [
       "0.043163821412944614"
      ]
     },
     "execution_count": 59,
     "metadata": {},
     "output_type": "execute_result"
    }
   ],
   "source": [
    "x=0.08150855508735955 -0.03834473367441493 \n",
    "x"
   ]
  },
  {
   "cell_type": "markdown",
   "id": "6ca0545d",
   "metadata": {},
   "source": [
    "Thus, the unconditional gender wage gap is about $8,2$% for the group of never married workers (women get paid less on average in our sample). In comparison to the general data base, the gender-gap is bigger by $4.32$%"
   ]
  },
  {
   "cell_type": "markdown",
   "id": "e7ba03e5",
   "metadata": {},
   "source": [
    "This unconditional (predictive) effect of gender equals the coefficient $\\beta$ in the univariate ols regression of $Y$ on $D$:\n",
    "\n",
    "\\begin{align}\n",
    "\\log(Y) &=\\beta D + \\epsilon.\n",
    "\\end{align}"
   ]
  },
  {
   "cell_type": "markdown",
   "id": "c68046e5",
   "metadata": {},
   "source": [
    "We verify this by running an ols regression in Julia."
   ]
  },
  {
   "cell_type": "code",
   "execution_count": 60,
   "id": "80937919",
   "metadata": {},
   "outputs": [
    {
     "name": "stderr",
     "output_type": "stream",
     "text": [
      "\u001b[32m\u001b[1m   Resolving\u001b[22m\u001b[39m package versions...\n",
      "\u001b[32m\u001b[1m  No Changes\u001b[22m\u001b[39m to `C:\\Users\\ANA\\.julia\\environments\\v1.7\\Project.toml`\n",
      "\u001b[32m\u001b[1m  No Changes\u001b[22m\u001b[39m to `C:\\Users\\ANA\\.julia\\environments\\v1.7\\Manifest.toml`\n",
      "\u001b[32m\u001b[1m   Resolving\u001b[22m\u001b[39m package versions...\n",
      "\u001b[32m\u001b[1m  No Changes\u001b[22m\u001b[39m to `C:\\Users\\ANA\\.julia\\environments\\v1.7\\Project.toml`\n",
      "\u001b[32m\u001b[1m  No Changes\u001b[22m\u001b[39m to `C:\\Users\\ANA\\.julia\\environments\\v1.7\\Manifest.toml`\n",
      "\u001b[32m\u001b[1m   Resolving\u001b[22m\u001b[39m package versions...\n",
      "\u001b[32m\u001b[1m  No Changes\u001b[22m\u001b[39m to `C:\\Users\\ANA\\.julia\\environments\\v1.7\\Project.toml`\n",
      "\u001b[32m\u001b[1m  No Changes\u001b[22m\u001b[39m to `C:\\Users\\ANA\\.julia\\environments\\v1.7\\Manifest.toml`\n",
      "\u001b[32m\u001b[1m   Resolving\u001b[22m\u001b[39m package versions...\n",
      "\u001b[32m\u001b[1m  No Changes\u001b[22m\u001b[39m to `C:\\Users\\ANA\\.julia\\environments\\v1.7\\Project.toml`\n",
      "\u001b[32m\u001b[1m  No Changes\u001b[22m\u001b[39m to `C:\\Users\\ANA\\.julia\\environments\\v1.7\\Manifest.toml`\n",
      "\u001b[32m\u001b[1m   Resolving\u001b[22m\u001b[39m package versions...\n",
      "\u001b[32m\u001b[1m  No Changes\u001b[22m\u001b[39m to `C:\\Users\\ANA\\.julia\\environments\\v1.7\\Project.toml`\n",
      "\u001b[32m\u001b[1m  No Changes\u001b[22m\u001b[39m to `C:\\Users\\ANA\\.julia\\environments\\v1.7\\Manifest.toml`\n",
      "\u001b[32m\u001b[1m   Resolving\u001b[22m\u001b[39m package versions...\n",
      "\u001b[32m\u001b[1m  No Changes\u001b[22m\u001b[39m to `C:\\Users\\ANA\\.julia\\environments\\v1.7\\Project.toml`\n",
      "\u001b[32m\u001b[1m  No Changes\u001b[22m\u001b[39m to `C:\\Users\\ANA\\.julia\\environments\\v1.7\\Manifest.toml`\n"
     ]
    }
   ],
   "source": [
    "#install all the package that we can need\n",
    "Pkg.add(\"Lathe\")\n",
    "Pkg.add(\"GLM\") # package to run models \n",
    "Pkg.add(\"StatsPlots\")\n",
    "Pkg.add(\"MLBase\")\n",
    "Pkg.add(\"Tables\")\n",
    "Pkg.add(\"CovarianceMatrices\") # robust standar error \n",
    "# Load the installed packages\n",
    "using DataFrames\n",
    "using Tables\n",
    "using Lathe\n",
    "using CSV\n",
    "using GLM\n",
    "using CovarianceMatrices"
   ]
  },
  {
   "cell_type": "code",
   "execution_count": 61,
   "id": "38b6014c",
   "metadata": {
    "scrolled": true
   },
   "outputs": [
    {
     "name": "stdout",
     "output_type": "stream",
     "text": [
      "The estimated gender coefficient is -0.08150855508735176 and the corresponding robust standard error is 0.019586032782704106\n"
     ]
    }
   ],
   "source": [
    "nocontrol_model = lm(@formula(lwage ~ sex), data)\n",
    "nocontrol_est = GLM.coef(nocontrol_model)[2]\n",
    "nocontrol_se = GLM.coeftable(nocontrol_model).cols[2][2]\n",
    "\n",
    "nocontrol_se1 = stderror(HC1(), nocontrol_model)[2]\n",
    "println(\"The estimated gender coefficient is \", nocontrol_est ,\" and the corresponding robust standard error is \" ,nocontrol_se1)"
   ]
  },
  {
   "cell_type": "markdown",
   "id": "338c027e",
   "metadata": {},
   "source": [
    "Next, we run an ols regression of $Y$ on $(D,W)$ to control for the effect of covariates summarized in $W$:\n",
    "\n",
    "\\begin{align}\n",
    "\\log(Y) &=\\beta_1 D  + \\beta_2' W + \\epsilon.\n",
    "\\end{align}\n",
    "\n",
    "Here, we are considering the flexible model from the previous lab. Hence, $W$ controls for experience, education, region, and occupation and industry indicators plus transformations and two-way interactions. \n",
    "It's important to notice that we don't include the education controls since, as seen before, the values related to \"shs\",\"hsg\",\"ad\" are all $0$."
   ]
  },
  {
   "cell_type": "markdown",
   "id": "b2e8553d",
   "metadata": {},
   "source": [
    "Let us run the ols regression with controls."
   ]
  },
  {
   "cell_type": "markdown",
   "id": "865a6131",
   "metadata": {},
   "source": [
    "## Ols regression with controls"
   ]
  },
  {
   "cell_type": "code",
   "execution_count": 83,
   "id": "d01cf25c",
   "metadata": {},
   "outputs": [
    {
     "data": {
      "text/plain": [
       "StatsModels.TableRegressionModel{LinearModel{GLM.LmResp{Vector{Float64}}, GLM.DensePredChol{Float64, LinearAlgebra.CholeskyPivoted{Float64, Matrix{Float64}}}}, Matrix{Float64}}\n",
       "\n",
       "lwage ~ 1 + sex + exp1 + exp2 + exp3 + exp4 + clg + occ2 + ind2 + mw + so + we + exp1 & clg + exp1 & occ2 + exp1 & ind2 + exp1 & mw + exp1 & so + exp1 & we + exp2 & clg + exp2 & occ2 + exp2 & ind2 + exp2 & mw + exp2 & so + exp2 & we + exp3 & clg + exp3 & occ2 + exp3 & ind2 + exp3 & mw + exp3 & so + exp3 & we + exp4 & clg + exp4 & occ2 + exp4 & ind2 + exp4 & mw + exp4 & so + exp4 & we\n",
       "\n",
       "Coefficients:\n",
       "─────────────────────────────────────────────────────────────────────────────────────────\n",
       "                        Coef.   Std. Error       t  Pr(>|t|)     Lower 95%      Upper 95%\n",
       "─────────────────────────────────────────────────────────────────────────────────────────\n",
       "(Intercept)       3.43576        0.520879     6.60    <1e-10    2.41442       4.45709\n",
       "sex              -0.0530623      0.0193532   -2.74    0.0061   -0.0910101    -0.0151146\n",
       "exp1             -0.196242       0.199667    -0.98    0.3258   -0.587749      0.195265\n",
       "exp2              4.3105         2.37976      1.81    0.0702   -0.355729      8.97673\n",
       "exp3             -2.30673        1.01763     -2.27    0.0235   -4.3021       -0.311355\n",
       "exp4              0.351339       0.138288     2.54    0.0111    0.0801843     0.622494\n",
       "clg               0.249867       0.123785     2.02    0.0436    0.00714961    0.492585\n",
       "occ2: 2           0.215199       0.158221     1.36    0.1739   -0.0950401     0.525439\n",
       "occ2: 3           0.0487642      0.20953      0.23    0.8160   -0.362082      0.45961\n",
       "occ2: 4           0.0281449      0.230008     0.12    0.9026   -0.422856      0.479146\n",
       "occ2: 5          -0.271181       0.394417    -0.69    0.4918   -1.04455       0.502192\n",
       "occ2: 6          -0.200053       0.270561    -0.74    0.4597   -0.73057       0.330464\n",
       "occ2: 7          -0.120337       0.418802    -0.29    0.7739   -0.941524      0.700849\n",
       "occ2: 8          -0.17194        0.272149    -0.63    0.5276   -0.70557       0.36169\n",
       "occ2: 9          -0.396363       0.205036    -1.93    0.0533   -0.798398      0.00567204\n",
       "occ2: 10          0.0919819      0.24322      0.38    0.7053   -0.384925      0.568888\n",
       "occ2: 11         -0.499418       0.436858    -1.14    0.2531   -1.35601       0.357175\n",
       "occ2: 12          0.190101       0.341142     0.56    0.5774   -0.47881       0.859012\n",
       "occ2: 13         -0.194529       0.271881    -0.72    0.4744   -0.727633      0.338575\n",
       "occ2: 14          0.301003       0.380838     0.79    0.4294   -0.445745      1.04775\n",
       "occ2: 15         -0.336993       0.335663    -1.00    0.3155   -0.995162      0.321175\n",
       "occ2: 16         -0.0407369      0.171246    -0.24    0.8120   -0.376517      0.295043\n",
       "occ2: 17         -0.455219       0.158601    -2.87    0.0041   -0.766204     -0.144233\n",
       "occ2: 18         -0.0395327      1.85392     -0.02    0.9830   -3.6747        3.59564\n",
       "occ2: 19          0.00204876     0.41918      0.00    0.9961   -0.819879      0.823976\n",
       "occ2: 20         -0.422328       0.260728    -1.62    0.1054   -0.933563      0.088908\n",
       "occ2: 21         -0.901289       0.286969    -3.14    0.0017   -1.46398      -0.338599\n",
       "occ2: 22         -0.0168748      0.48646     -0.03    0.9723   -0.970725      0.936976\n",
       "ind2: 3          -0.937476       0.763058    -1.23    0.2193   -2.43368       0.558728\n",
       "ind2: 4           0.0473118      0.559326     0.08    0.9326   -1.04941       1.14404\n",
       "ind2: 5          -0.377069       0.523205    -0.72    0.4712   -1.40297       0.648832\n",
       "ind2: 6          -0.554252       0.519025    -1.07    0.2857   -1.57196       0.463453\n",
       "ind2: 7          -0.281253       0.57149     -0.49    0.6227   -1.40183       0.839325\n",
       "ind2: 8          -0.650424       0.587472    -1.11    0.2683   -1.80234       0.50149\n",
       "ind2: 9          -0.804538       0.50948     -1.58    0.1144   -1.80353       0.194451\n",
       "ind2: 10         -0.450655       0.567556    -0.79    0.4272   -1.56352       0.66221\n",
       "ind2: 11         -0.663466       0.525945    -1.26    0.2072   -1.69474       0.367806\n",
       "ind2: 12         -0.613801       0.503295    -1.22    0.2227   -1.60066       0.373059\n",
       "ind2: 13         -0.896448       0.58172     -1.54    0.1234   -2.03708       0.244188\n",
       "ind2: 14         -0.390137       0.497751    -0.78    0.4332   -1.36613       0.585853\n",
       "ind2: 15         -0.4653         0.68822     -0.68    0.4990   -1.81476       0.884162\n",
       "ind2: 16         -0.508008       0.528197    -0.96    0.3362   -1.5437        0.52768\n",
       "ind2: 17         -0.868663       0.529479    -1.64    0.1010   -1.90686       0.169538\n",
       "ind2: 18         -0.639695       0.515559    -1.24    0.2148   -1.6506        0.371213\n",
       "ind2: 19         -0.741521       0.555243    -1.34    0.1818   -1.83024       0.347199\n",
       "ind2: 20         -0.814279       0.527588    -1.54    0.1228   -1.84877       0.220216\n",
       "ind2: 21         -0.499764       0.534811    -0.93    0.3501   -1.54842       0.548893\n",
       "ind2: 22         -0.378629       0.540546    -0.70    0.4837   -1.43853       0.681275\n",
       "mw                0.195846       0.106872     1.83    0.0670   -0.0137088     0.405402\n",
       "so               -0.034619       0.104267    -0.33    0.7399   -0.239066      0.169828\n",
       "we                0.126194       0.118424     1.07    0.2867   -0.106013      0.3584\n",
       "exp1 & clg        0.0121646      0.0407919    0.30    0.7656   -0.0678202     0.0921493\n",
       "exp1 & occ2: 2   -0.0631144      0.0630037   -1.00    0.3165   -0.186652      0.0604232\n",
       "exp1 & occ2: 3    0.0326274      0.0794502    0.41    0.6813   -0.123159      0.188413\n",
       "exp1 & occ2: 4    0.0107059      0.0949665    0.11    0.9102   -0.175504      0.196916\n",
       "exp1 & occ2: 5   -0.0274672      0.200185    -0.14    0.8909   -0.41999       0.365055\n",
       "exp1 & occ2: 6   -0.0527366      0.111982    -0.47    0.6377   -0.272311      0.166838\n",
       "exp1 & occ2: 7   -0.10871        0.160069    -0.68    0.4971   -0.422575      0.205154\n",
       "exp1 & occ2: 8   -0.0371404      0.103584    -0.36    0.7200   -0.240248      0.165968\n",
       "exp1 & occ2: 9    0.102103       0.0830679    1.23    0.2191   -0.060777      0.264982\n",
       "exp1 & occ2: 10   0.0022818      0.0933261    0.02    0.9805   -0.180712      0.185276\n",
       "exp1 & occ2: 11   0.0369873      0.157199     0.24    0.8140   -0.271248      0.345223\n",
       "exp1 & occ2: 12  -0.106244       0.122261    -0.87    0.3849   -0.345973      0.133486\n",
       "exp1 & occ2: 13   0.0483902      0.0983858    0.49    0.6229   -0.144525      0.241305\n",
       "exp1 & occ2: 14  -0.120913       0.139777    -0.87    0.3871   -0.394987      0.153161\n",
       "exp1 & occ2: 15   0.0107765      0.123013     0.09    0.9302   -0.230428      0.251981\n",
       "exp1 & occ2: 16  -0.0377813      0.0639815   -0.59    0.5549   -0.163236      0.0876737\n",
       "exp1 & occ2: 17   0.0473737      0.0588764    0.80    0.4211   -0.0680712     0.162819\n",
       "exp1 & occ2: 18  -0.127882       0.758396    -0.17    0.8661   -1.61494       1.35918\n",
       "exp1 & occ2: 19  -0.0605324      0.143703    -0.42    0.6736   -0.342305      0.22124\n",
       "exp1 & occ2: 20   0.0931849      0.0910362    1.02    0.3061   -0.0853188     0.271689\n",
       "exp1 & occ2: 21   0.323162       0.101082     3.20    0.0014    0.124961      0.521364\n",
       "exp1 & occ2: 22  -0.156074       0.158181    -0.99    0.3239   -0.466236      0.154088\n",
       "exp1 & ind2: 3    0.432023       0.305846     1.41    0.1579   -0.16768       1.03173\n",
       "exp1 & ind2: 4    0.0409994      0.208025     0.20    0.8438   -0.366897      0.448896\n",
       "exp1 & ind2: 5    0.184174       0.204724     0.90    0.3684   -0.217249      0.585597\n",
       "exp1 & ind2: 6    0.225528       0.201121     1.12    0.2622   -0.16883       0.619886\n",
       "exp1 & ind2: 7    0.107313       0.223336     0.48    0.6309   -0.330604      0.54523\n",
       "exp1 & ind2: 8    0.254592       0.245891     1.04    0.3006   -0.227551      0.736735\n",
       "exp1 & ind2: 9    0.209225       0.196892     1.06    0.2880   -0.17684       0.595291\n",
       "exp1 & ind2: 10   0.180706       0.217164     0.83    0.4054   -0.245109      0.60652\n",
       "exp1 & ind2: 11   0.257934       0.204245     1.26    0.2067   -0.14255       0.658418\n",
       "exp1 & ind2: 12   0.317078       0.196714     1.61    0.1071   -0.0686397     0.702796\n",
       "exp1 & ind2: 13   0.380093       0.21774      1.75    0.0810   -0.0468527     0.807038\n",
       "exp1 & ind2: 14   0.140831       0.194648     0.72    0.4694   -0.240836      0.522497\n",
       "exp1 & ind2: 15   0.102648       0.33075      0.31    0.7563   -0.545887      0.751182\n",
       "exp1 & ind2: 16   0.142722       0.20641      0.69    0.4893   -0.262007      0.547451\n",
       "exp1 & ind2: 17   0.297795       0.204097     1.46    0.1447   -0.102398      0.697987\n",
       "exp1 & ind2: 18   0.196256       0.199771     0.98    0.3260   -0.195454      0.587967\n",
       "exp1 & ind2: 19   0.171157       0.21312      0.80    0.4220   -0.246729      0.589043\n",
       "exp1 & ind2: 20   0.174694       0.203165     0.86    0.3899   -0.223672      0.57306\n",
       "exp1 & ind2: 21   0.210018       0.205756     1.02    0.3075   -0.193429      0.613464\n",
       "exp1 & ind2: 22   0.189399       0.205389     0.92    0.3565   -0.213329      0.592126\n",
       "exp1 & mw        -0.0619563      0.0418241   -1.48    0.1386   -0.143965      0.0200524\n",
       "exp1 & so         0.00578199     0.0396763    0.15    0.8841   -0.0720152     0.0835792\n",
       "exp1 & we        -0.047864       0.0437059   -1.10    0.2735   -0.133563      0.0378344\n",
       "exp2 & clg       -0.221609       0.413306    -0.54    0.5919   -1.03202       0.588802\n",
       "exp2 & occ2: 2    0.298934       0.703815     0.42    0.6711   -1.08111       1.67897\n",
       "exp2 & occ2: 3   -0.721194       0.885531    -0.81    0.4155   -2.45754       1.01516\n",
       "exp2 & occ2: 4   -0.269927       1.09591     -0.25    0.8055   -2.41879       1.87894\n",
       "exp2 & occ2: 5    1.45323        3.0067       0.48    0.6289   -4.44231       7.34877\n",
       "exp2 & occ2: 6    0.383494       1.37205      0.28    0.7799   -2.30681       3.0738\n",
       "exp2 & occ2: 7    1.1812         1.87848      0.63    0.5295   -2.50213       4.86453\n",
       "exp2 & occ2: 8   -0.0274218      1.1533      -0.02    0.9810   -2.28881       2.23397\n",
       "exp2 & occ2: 9   -1.06214        0.947042    -1.12    0.2622   -2.9191        0.794821\n",
       "exp2 & occ2: 10  -0.32648        1.04322     -0.31    0.7543   -2.37202       1.71906\n",
       "exp2 & occ2: 11  -0.340565       1.70155     -0.20    0.8414   -3.67696       2.99583\n",
       "exp2 & occ2: 12   0.604116       1.34143      0.45    0.6525   -2.02617       3.2344\n",
       "exp2 & occ2: 13  -0.901101       1.04544     -0.86    0.3888   -2.951         1.1488\n",
       "exp2 & occ2: 14   0.117636       1.50825      0.08    0.9378   -2.83974       3.07501\n",
       "exp2 & occ2: 15  -0.549803       1.32919     -0.41    0.6792   -3.15608       2.05648\n",
       "exp2 & occ2: 16   0.0849304      0.697972     0.12    0.9032   -1.28365       1.45351\n",
       "exp2 & occ2: 17  -0.749365       0.643532    -1.16    0.2443   -2.0112        0.512474\n",
       "exp2 & occ2: 18   0.0          NaN          NaN       NaN     NaN           NaN\n",
       "exp2 & occ2: 19   0.549889       1.49066      0.37    0.7122   -2.373         3.47278\n",
       "exp2 & occ2: 20  -1.01588        0.942513    -1.08    0.2812   -2.86396       0.832199\n",
       "exp2 & occ2: 21  -3.93717        1.0693      -3.68    0.0002   -6.03385      -1.8405\n",
       "exp2 & occ2: 22   1.51797        1.53422      0.99    0.3225   -1.49032       4.52626\n",
       "exp2 & ind2: 3   -6.47962        3.79908     -1.71    0.0882  -13.9289        0.96963\n",
       "exp2 & ind2: 4   -2.68721        2.44417     -1.10    0.2717   -7.47974       2.10531\n",
       "exp2 & ind2: 5   -4.14684        2.44457     -1.70    0.0899   -8.94016       0.646479\n",
       "exp2 & ind2: 6   -4.214          2.39915     -1.76    0.0791   -8.91825       0.490252\n",
       "exp2 & ind2: 7   -2.73319        2.69609     -1.01    0.3108   -8.01969       2.55331\n",
       "exp2 & ind2: 8   -3.66565        3.07023     -1.19    0.2326   -9.68576       2.35447\n",
       "exp2 & ind2: 9   -3.89965        2.35827     -1.65    0.0983   -8.52375       0.724457\n",
       "exp2 & ind2: 10  -3.70352        2.53821     -1.46    0.1446   -8.68043       1.2734\n",
       "exp2 & ind2: 11  -4.52165        2.4415      -1.85    0.0641   -9.30894       0.265634\n",
       "exp2 & ind2: 12  -5.10834        2.36795     -2.16    0.0311   -9.75142      -0.465262\n",
       "exp2 & ind2: 13  -5.66915        2.53201     -2.24    0.0252  -10.6339       -0.704379\n",
       "exp2 & ind2: 14  -3.13139        2.347       -1.33    0.1822   -7.73338       1.4706\n",
       "exp2 & ind2: 15  -2.64145        3.74458     -0.71    0.4806   -9.98382       4.70091\n",
       "exp2 & ind2: 16  -3.02671        2.46642     -1.23    0.2199   -7.86287       1.80945\n",
       "exp2 & ind2: 17  -4.78229        2.43208     -1.97    0.0494   -9.55111      -0.0134696\n",
       "exp2 & ind2: 18  -3.87823        2.39221     -1.62    0.1051   -8.56888       0.812415\n",
       "exp2 & ind2: 19  -3.35863        2.5048      -1.34    0.1801   -8.27003       1.55278\n",
       "exp2 & ind2: 20  -3.62711        2.41731     -1.50    0.1336   -8.36698       1.11276\n",
       "exp2 & ind2: 21  -4.02173        2.44344     -1.65    0.0999   -8.81284       0.769371\n",
       "exp2 & ind2: 22  -3.76844        2.4234      -1.56    0.1201   -8.52024       0.98335\n",
       "exp2 & mw         0.483824       0.46917      1.03    0.3025   -0.436125      1.40377\n",
       "exp2 & so        -0.0426958      0.432977    -0.10    0.9215   -0.891677      0.806285\n",
       "exp2 & we         0.57748        0.468255     1.23    0.2176   -0.340675      1.49564\n",
       "exp3 & clg        0.100286       0.158313     0.63    0.5265   -0.210133      0.410706\n",
       "exp3 & occ2: 2    0.000528735    0.284925     0.00    0.9985   -0.558152      0.55921\n",
       "exp3 & occ2: 3    0.347965       0.360248     0.97    0.3342   -0.358409      1.05434\n",
       "exp3 & occ2: 4    0.132704       0.449024     0.30    0.7676   -0.747743      1.01315\n",
       "exp3 & occ2: 5   -1.26755        1.62392     -0.78    0.4351   -4.45172       1.91663\n",
       "exp3 & occ2: 6   -0.0861625      0.610206    -0.14    0.8877   -1.28266       1.11033\n",
       "exp3 & occ2: 7   -0.539154       0.798438    -0.68    0.4996   -2.10473       1.02642\n",
       "exp3 & occ2: 8    0.125024       0.464084     0.27    0.7876   -0.784952      1.035\n",
       "exp3 & occ2: 9    0.395609       0.389418     1.02    0.3098   -0.367962      1.15918\n",
       "exp3 & occ2: 10   0.235622       0.427004     0.55    0.5811   -0.601648      1.07289\n",
       "exp3 & occ2: 11   0.0850896      0.693882     0.12    0.9024   -1.27547       1.44565\n",
       "exp3 & occ2: 12   0.0109101      0.543395     0.02    0.9840   -1.05458       1.0764\n",
       "exp3 & occ2: 13   0.409981       0.406316     1.01    0.3131   -0.386724      1.20668\n",
       "exp3 & occ2: 14   0.232801       0.57376      0.41    0.6850   -0.892228      1.35783\n",
       "exp3 & occ2: 15   0.369137       0.535242     0.69    0.4905   -0.680365      1.41864\n",
       "exp3 & occ2: 16   0.0915397      0.279863     0.33    0.7436   -0.457216      0.640295\n",
       "exp3 & occ2: 17   0.368435       0.258412     1.43    0.1540   -0.138259      0.87513\n",
       "exp3 & occ2: 18   0.469295       4.9731       0.09    0.9248   -9.28196      10.2205\n",
       "exp3 & occ2: 19  -0.203761       0.576815    -0.35    0.7239   -1.33478       0.927258\n",
       "exp3 & occ2: 20   0.382401       0.364204     1.05    0.2938   -0.33173       1.09653\n",
       "exp3 & occ2: 21   1.60413        0.418235     3.84    0.0001    0.784055      2.42421\n",
       "exp3 & occ2: 22  -0.509974       0.563559    -0.90    0.3656   -1.615         0.595054\n",
       "exp3 & ind2: 3    3.2239         1.75617      1.84    0.0665   -0.219603      6.6674\n",
       "exp3 & ind2: 4    1.73498        1.03658      1.67    0.0943   -0.297537      3.7675\n",
       "exp3 & ind2: 5    2.24212        1.04324      2.15    0.0317    0.196528      4.28771\n",
       "exp3 & ind2: 6    2.21469        1.0242       2.16    0.0307    0.206445      4.22294\n",
       "exp3 & ind2: 7    1.56755        1.16908      1.34    0.1801   -0.724776      3.85988\n",
       "exp3 & ind2: 8    1.53999        1.39409      1.10    0.2694   -1.19355       4.27352\n",
       "exp3 & ind2: 9    2.03998        1.01131      2.02    0.0438    0.0570025     4.02296\n",
       "exp3 & ind2: 10   1.98163        1.07096      1.85    0.0644   -0.118309      4.08156\n",
       "exp3 & ind2: 11   2.328          1.04479      2.23    0.0259    0.279371      4.37663\n",
       "exp3 & ind2: 12   2.49869        1.0171       2.46    0.0141    0.504353      4.49302\n",
       "exp3 & ind2: 13   2.678          1.06603      2.51    0.0121    0.587734      4.76828\n",
       "exp3 & ind2: 14   1.75264        1.0095       1.74    0.0826   -0.226791      3.73208\n",
       "exp3 & ind2: 15   1.57845        1.48158      1.07    0.2868   -1.32662       4.48353\n",
       "exp3 & ind2: 16   1.69465        1.05163      1.61    0.1072   -0.367392      3.7567\n",
       "exp3 & ind2: 17   2.35268        1.03803      2.27    0.0235    0.317305      4.38805\n",
       "exp3 & ind2: 18   2.07169        1.02671      2.02    0.0437    0.0585058     4.08487\n",
       "exp3 & ind2: 19   1.82679        1.06047      1.72    0.0851   -0.252582      3.90616\n",
       "exp3 & ind2: 20   1.9672         1.03073      1.91    0.0564   -0.0538545     3.98825\n",
       "exp3 & ind2: 21   2.09208        1.0421       2.01    0.0448    0.0487211     4.13543\n",
       "exp3 & ind2: 22   2.0075         1.03047      1.95    0.0515   -0.0130478     4.02805\n",
       "exp3 & mw        -0.145399       0.192287    -0.76    0.4496   -0.522435      0.231637\n",
       "exp3 & so         0.0184796      0.172789     0.11    0.9148   -0.320326      0.357285\n",
       "exp3 & we        -0.230864       0.184398    -1.25    0.2107   -0.592431      0.130704\n",
       "exp4 & clg       -0.0134666      0.020134    -0.67    0.5036   -0.0529453     0.0260121\n",
       "exp4 & occ2: 2   -0.01339        0.0376888   -0.36    0.7224   -0.0872903     0.0605102\n",
       "exp4 & occ2: 3   -0.0486518      0.0476989   -1.02    0.3078   -0.14218       0.0448762\n",
       "exp4 & occ2: 4   -0.0223191      0.0593293   -0.38    0.7068   -0.138652      0.0940137\n",
       "exp4 & occ2: 5    0.284596       0.282463     1.01    0.3138   -0.269258      0.83845\n",
       "exp4 & occ2: 6    0.00353358     0.0875725    0.04    0.9678   -0.168179      0.175246\n",
       "exp4 & occ2: 7    0.078903       0.10856      0.73    0.4674   -0.133962      0.291768\n",
       "exp4 & occ2: 8   -0.0258852      0.0605593   -0.43    0.6691   -0.14463       0.0928594\n",
       "exp4 & occ2: 9   -0.0479087      0.0519869   -0.92    0.3568   -0.149845      0.0540273\n",
       "exp4 & occ2: 10  -0.041137       0.0572458   -0.72    0.4724   -0.153385      0.0711105\n",
       "exp4 & occ2: 11  -0.00448968     0.0932319   -0.05    0.9616   -0.187299      0.17832\n",
       "exp4 & occ2: 12  -0.0327767      0.0723612   -0.45    0.6506   -0.174663      0.109109\n",
       "exp4 & occ2: 13  -0.0574088      0.0515849   -1.11    0.2658   -0.158556      0.0437388\n",
       "exp4 & occ2: 14  -0.0524263      0.0705276   -0.74    0.4573   -0.190717      0.0858643\n",
       "exp4 & occ2: 15  -0.061999       0.0708724   -0.87    0.3818   -0.200966      0.0769676\n",
       "exp4 & occ2: 16  -0.0264713      0.0367893   -0.72    0.4719   -0.0986078     0.0456652\n",
       "exp4 & occ2: 17  -0.0553914      0.0339714   -1.63    0.1031   -0.122003      0.0112197\n",
       "exp4 & occ2: 18  -0.100399       1.25655     -0.08    0.9363   -2.56423       2.36344\n",
       "exp4 & occ2: 19   0.0241359      0.073076     0.33    0.7412   -0.119152      0.167423\n",
       "exp4 & occ2: 20  -0.047196       0.0464443   -1.02    0.3096   -0.138264      0.043872\n",
       "exp4 & occ2: 21  -0.209206       0.0539166   -3.88    0.0001   -0.314926     -0.103487\n",
       "exp4 & occ2: 22   0.0540559      0.0691569    0.78    0.4345   -0.081547      0.189659\n",
       "exp4 & ind2: 3   -0.497087       0.268229    -1.85    0.0640   -1.02303       0.0288568\n",
       "exp4 & ind2: 4   -0.28473        0.139861    -2.04    0.0419   -0.558971     -0.01049\n",
       "exp4 & ind2: 5   -0.340268       0.141583    -2.40    0.0163   -0.617883     -0.0626532\n",
       "exp4 & ind2: 6   -0.333877       0.138934    -2.40    0.0163   -0.606298     -0.0614558\n",
       "exp4 & ind2: 7   -0.244401       0.16153     -1.51    0.1304   -0.561128      0.0723268\n",
       "exp4 & ind2: 8   -0.189436       0.204316    -0.93    0.3539   -0.590058      0.211186\n",
       "exp4 & ind2: 9   -0.307094       0.137703    -2.23    0.0258   -0.577103     -0.0370855\n",
       "exp4 & ind2: 10  -0.30068        0.144426    -2.08    0.0374   -0.58387      -0.0174892\n",
       "exp4 & ind2: 11  -0.349913       0.142175    -2.46    0.0139   -0.62869      -0.071136\n",
       "exp4 & ind2: 12  -0.36409        0.138613    -2.63    0.0087   -0.635883     -0.092297\n",
       "exp4 & ind2: 13  -0.383627       0.143429    -2.67    0.0075   -0.664863     -0.102391\n",
       "exp4 & ind2: 14  -0.272508       0.137698    -1.98    0.0479   -0.542507     -0.00250978\n",
       "exp4 & ind2: 15  -0.254922       0.189141    -1.35    0.1778   -0.62579       0.115946\n",
       "exp4 & ind2: 16  -0.266239       0.142553    -1.87    0.0619   -0.545757      0.0132784\n",
       "exp4 & ind2: 17  -0.343454       0.140849    -2.44    0.0148   -0.619631     -0.067277\n",
       "exp4 & ind2: 18  -0.316878       0.140182    -2.26    0.0239   -0.591747     -0.0420096\n",
       "exp4 & ind2: 19  -0.281509       0.143351    -1.96    0.0497   -0.562591     -0.000425793\n",
       "exp4 & ind2: 20  -0.303821       0.139795    -2.17    0.0298   -0.57793      -0.0297118\n",
       "exp4 & ind2: 21  -0.314271       0.141422    -2.22    0.0263   -0.591571     -0.0369712\n",
       "exp4 & ind2: 22  -0.30614        0.139605    -2.19    0.0284   -0.579878     -0.0324026\n",
       "exp4 & mw         0.0142872      0.0258136    0.55    0.5800   -0.036328      0.0649025\n",
       "exp4 & so        -0.00375907     0.0225465   -0.17    0.8676   -0.0479683     0.0404501\n",
       "exp4 & we         0.0282864      0.0238123    1.19    0.2350   -0.0184048     0.0749777\n",
       "─────────────────────────────────────────────────────────────────────────────────────────"
      ]
     },
     "execution_count": 83,
     "metadata": {},
     "output_type": "execute_result"
    }
   ],
   "source": [
    "flex = @formula(lwage ~ sex + (exp1+exp2+exp3+exp4) * (clg+occ2+ind2+mw+so+we))\n",
    "control_model = lm(flex , data)"
   ]
  },
  {
   "cell_type": "code",
   "execution_count": 84,
   "id": "184d53df",
   "metadata": {},
   "outputs": [
    {
     "name": "stdout",
     "output_type": "stream",
     "text": [
      "Coefficient for OLS with controls -0.05306234035918037\n"
     ]
    }
   ],
   "source": [
    "control_est = GLM.coef(control_model)[2]\n",
    "control_se = GLM.coeftable(control_model).cols[2][2]\n",
    "control_se1 = stderror( HC0(), control_model)[2]\n",
    "println(\"Coefficient for OLS with controls \" , control_est)"
   ]
  },
  {
   "cell_type": "markdown",
   "id": "05ea7483",
   "metadata": {},
   "source": [
    "The estimated regression coefficient $\\beta_1\\approx-0.053$ measures how our linear prediction of wage changes if we set the gender variable $D$ from 0 to 1, holding the controls $W$ fixed.\n",
    "We can call this the *predictive effect* (PE), as it measures the impact of a variable on the prediction we make. Overall, we see that the unconditional wage gap of size $8.1$\\% for women decreases to about $5.3$\\% after controlling for worker characteristics of the subset of college-educated workers.\n"
   ]
  },
  {
   "cell_type": "markdown",
   "id": "b5ddad9d",
   "metadata": {},
   "source": [
    "Next, we are using the Frisch-Waugh-Lovell theorem from the lecture partialling-out the linear effect of the controls via ols."
   ]
  },
  {
   "cell_type": "markdown",
   "id": "61f4e7d8",
   "metadata": {},
   "source": [
    "## Partialling-Out using ols"
   ]
  },
  {
   "cell_type": "code",
   "execution_count": 85,
   "id": "57e1d377",
   "metadata": {},
   "outputs": [
    {
     "data": {
      "text/plain": [
       "2-element Vector{Float64}:\n",
       " -0.08957069899693053\n",
       " -0.016553981718577013"
      ]
     },
     "execution_count": 85,
     "metadata": {},
     "output_type": "execute_result"
    }
   ],
   "source": [
    "# models\n",
    "# model for Y\n",
    "flex_y = @formula(lwage ~ (exp1+exp2+exp3+exp4) * (clg+occ2+ind2+mw+so+we))\n",
    "flex_d = @formula(sex ~ (exp1+exp2+exp3+exp4) * (clg+occ2+ind2+mw+so+we))\n",
    "\n",
    "# partialling-out the linear effect of W from Y\n",
    "t_Y = residuals(lm(flex_y, data))\n",
    "\n",
    "# partialling-out the linear effect of W from D\n",
    "t_D = residuals(lm(flex_d, data))\n",
    "\n",
    "data_res = DataFrame(t_Y = t_Y, t_D = t_D )\n",
    "# regression of Y on D after partialling-out the effect of W\n",
    "\n",
    "partial_fit = lm(@formula(t_Y ~ t_D), data_res)\n",
    "\n",
    "partial_est = GLM.coef(partial_fit)[2]\n",
    "\n",
    "# standard error\n",
    "partial_se = GLM.coeftable(partial_fit).cols[2][2]\n",
    "\n",
    "partial_se1 = stderror( HC0(), partial_fit)[2]\n",
    "\n",
    "#condifence interval\n",
    "GLM.confint(partial_fit)[2,:]"
   ]
  },
  {
   "cell_type": "code",
   "execution_count": null,
   "id": "f4db4a98",
   "metadata": {},
   "outputs": [],
   "source": []
  }
 ],
 "metadata": {
  "kernelspec": {
   "display_name": "Julia 1.7.2",
   "language": "julia",
   "name": "julia-1.7"
  },
  "language_info": {
   "file_extension": ".jl",
   "mimetype": "application/julia",
   "name": "julia",
   "version": "1.7.2"
  }
 },
 "nbformat": 4,
 "nbformat_minor": 5
}
