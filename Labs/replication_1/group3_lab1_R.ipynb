{
 "cells": [
  {
   "cell_type": "markdown",
   "id": "02025c57",
   "metadata": {},
   "source": [
    "## Group3 - Replication_1\n",
    "#### Members\n",
    "1. Andrea Ulloa (20172597)\n",
    "2. Ana Angulo (20171627)\n",
    "3. Angela Coapaza (20171636) \n"
   ]
  },
  {
   "cell_type": "markdown",
   "id": "81b4a49c",
   "metadata": {},
   "source": [
    "## Question 1:"
   ]
  },
  {
   "cell_type": "markdown",
   "id": "7a0cd8de",
   "metadata": {},
   "source": [
    "## An Inferencial Problem: The College-Educated Wage Gap\n",
    "Using the data from the March Supplement of the U.S. Current Population Survey (2015) , in  this lab, we are going to focus in  payments of the college-educated workers and answer the following inference question:\n",
    "\n",
    "What is the difference in predicted wages between workers with some college education (scl) versus college graduate workers(clg)?\n",
    "\n",
    "To investigate the College-Educated Wage Gap, we consider the following log-linear regression model:\n",
    "\n",
    "\\begin{align}\n",
    "\\log(Y) &= \\beta'X + \\epsilon\\\\\n",
    "&= \\beta_1 SCL  + \\beta_2 CLG + \\beta_3'W  + \\epsilon,\n",
    "\\end{align}\n",
    "\n",
    "Where  SCL is the indicator of workers with some college education( 1  if yes 0  otherwise), CLG is the indicator of college graduate workers (1  if yes 0  otherwise) and the  𝑊 's are controls explaining variation in wages. Considering transformed wages by the logarithm, we are analyzing the relative difference in the payment of workers with some college education and college graduate workers. \n"
   ]
  },
  {
   "cell_type": "markdown",
   "id": "8c114e3b",
   "metadata": {},
   "source": [
    "## Data Analysis"
   ]
  },
  {
   "cell_type": "markdown",
   "id": "891a5014",
   "metadata": {},
   "source": [
    "We consider the same subsample of the U.S. Current Population Survey (2015). Let us load the data set."
   ]
  },
  {
   "cell_type": "code",
   "execution_count": 2,
   "id": "b718002d",
   "metadata": {
    "scrolled": true
   },
   "outputs": [
    {
     "data": {
      "text/html": [
       "<style>\n",
       ".list-inline {list-style: none; margin:0; padding: 0}\n",
       ".list-inline>li {display: inline-block}\n",
       ".list-inline>li:not(:last-child)::after {content: \"\\00b7\"; padding: 0 .5ex}\n",
       "</style>\n",
       "<ol class=list-inline><li>5150</li><li>20</li></ol>\n"
      ],
      "text/latex": [
       "\\begin{enumerate*}\n",
       "\\item 5150\n",
       "\\item 20\n",
       "\\end{enumerate*}\n"
      ],
      "text/markdown": [
       "1. 5150\n",
       "2. 20\n",
       "\n",
       "\n"
      ],
      "text/plain": [
       "[1] 5150   20"
      ]
     },
     "metadata": {},
     "output_type": "display_data"
    }
   ],
   "source": [
    "load(\"../../data/wage2015_subsample_inference.Rdata\")\n",
    "attach(data) \n",
    "\n",
    "dim(data)"
   ]
  },
  {
   "cell_type": "markdown",
   "id": "9e16d5d2",
   "metadata": {},
   "source": [
    "***Variable description***\n",
    "\n",
    "- occ : occupational classification\n",
    "- ind : industry classification\n",
    "- lwage : log hourly wage\n",
    "- sex : gender (1 female) (0 male)\n",
    "- shs : some high school\n",
    "- hsg : High school graduated\n",
    "- scl : Some College\n",
    "- clg: College Graduate\n",
    "- ad: Advanced Degree\n",
    "- ne: Northeast\n",
    "- mw: Midwest\n",
    "- so: South\n",
    "- we: West\n",
    "- exp1: experience"
   ]
  },
  {
   "cell_type": "code",
   "execution_count": 30,
   "id": "257147bc",
   "metadata": {},
   "outputs": [
    {
     "data": {
      "text/html": [
       "<style>\n",
       ".list-inline {list-style: none; margin:0; padding: 0}\n",
       ".list-inline>li {display: inline-block}\n",
       ".list-inline>li:not(:last-child)::after {content: \"\\00b7\"; padding: 0 .5ex}\n",
       "</style>\n",
       "<ol class=list-inline><li>'wage'</li><li>'lwage'</li><li>'sex'</li><li>'shs'</li><li>'hsg'</li><li>'scl'</li><li>'clg'</li><li>'ad'</li><li>'mw'</li><li>'so'</li><li>'we'</li><li>'ne'</li><li>'exp1'</li><li>'exp2'</li><li>'exp3'</li><li>'exp4'</li><li>'occ'</li><li>'occ2'</li><li>'ind'</li><li>'ind2'</li></ol>\n"
      ],
      "text/latex": [
       "\\begin{enumerate*}\n",
       "\\item 'wage'\n",
       "\\item 'lwage'\n",
       "\\item 'sex'\n",
       "\\item 'shs'\n",
       "\\item 'hsg'\n",
       "\\item 'scl'\n",
       "\\item 'clg'\n",
       "\\item 'ad'\n",
       "\\item 'mw'\n",
       "\\item 'so'\n",
       "\\item 'we'\n",
       "\\item 'ne'\n",
       "\\item 'exp1'\n",
       "\\item 'exp2'\n",
       "\\item 'exp3'\n",
       "\\item 'exp4'\n",
       "\\item 'occ'\n",
       "\\item 'occ2'\n",
       "\\item 'ind'\n",
       "\\item 'ind2'\n",
       "\\end{enumerate*}\n"
      ],
      "text/markdown": [
       "1. 'wage'\n",
       "2. 'lwage'\n",
       "3. 'sex'\n",
       "4. 'shs'\n",
       "5. 'hsg'\n",
       "6. 'scl'\n",
       "7. 'clg'\n",
       "8. 'ad'\n",
       "9. 'mw'\n",
       "10. 'so'\n",
       "11. 'we'\n",
       "12. 'ne'\n",
       "13. 'exp1'\n",
       "14. 'exp2'\n",
       "15. 'exp3'\n",
       "16. 'exp4'\n",
       "17. 'occ'\n",
       "18. 'occ2'\n",
       "19. 'ind'\n",
       "20. 'ind2'\n",
       "\n",
       "\n"
      ],
      "text/plain": [
       " [1] \"wage\"  \"lwage\" \"sex\"   \"shs\"   \"hsg\"   \"scl\"   \"clg\"   \"ad\"    \"mw\"   \n",
       "[10] \"so\"    \"we\"    \"ne\"    \"exp1\"  \"exp2\"  \"exp3\"  \"exp4\"  \"occ\"   \"occ2\" \n",
       "[19] \"ind\"   \"ind2\" "
      ]
     },
     "metadata": {},
     "output_type": "display_data"
    }
   ],
   "source": [
    "colnames(data)  #allows to obtain the name of each variable of the base"
   ]
  },
  {
   "cell_type": "markdown",
   "id": "88aad5c1",
   "metadata": {},
   "source": [
    "As we mention before, we focus only on a subset of the data. For this porpouse, we use scl and clg variables."
   ]
  },
  {
   "cell_type": "code",
   "execution_count": 6,
   "id": "52cbda52",
   "metadata": {
    "scrolled": true
   },
   "outputs": [
    {
     "data": {
      "text/html": [
       "<style>\n",
       ".list-inline {list-style: none; margin:0; padding: 0}\n",
       ".list-inline>li {display: inline-block}\n",
       ".list-inline>li:not(:last-child)::after {content: \"\\00b7\"; padding: 0 .5ex}\n",
       "</style>\n",
       "<ol class=list-inline><li>3068</li><li>20</li></ol>\n"
      ],
      "text/latex": [
       "\\begin{enumerate*}\n",
       "\\item 3068\n",
       "\\item 20\n",
       "\\end{enumerate*}\n"
      ],
      "text/markdown": [
       "1. 3068\n",
       "2. 20\n",
       "\n",
       "\n"
      ],
      "text/plain": [
       "[1] 3068   20"
      ]
     },
     "metadata": {},
     "output_type": "display_data"
    },
    {
     "data": {
      "text/html": [
       "<table class=\"dataframe\">\n",
       "<caption>A data.frame: 3068 × 20</caption>\n",
       "<thead>\n",
       "\t<tr><th></th><th scope=col>wage</th><th scope=col>lwage</th><th scope=col>sex</th><th scope=col>shs</th><th scope=col>hsg</th><th scope=col>scl</th><th scope=col>clg</th><th scope=col>ad</th><th scope=col>mw</th><th scope=col>so</th><th scope=col>we</th><th scope=col>ne</th><th scope=col>exp1</th><th scope=col>exp2</th><th scope=col>exp3</th><th scope=col>exp4</th><th scope=col>occ</th><th scope=col>occ2</th><th scope=col>ind</th><th scope=col>ind2</th></tr>\n",
       "\t<tr><th></th><th scope=col>&lt;dbl&gt;</th><th scope=col>&lt;dbl&gt;</th><th scope=col>&lt;dbl&gt;</th><th scope=col>&lt;dbl&gt;</th><th scope=col>&lt;dbl&gt;</th><th scope=col>&lt;dbl&gt;</th><th scope=col>&lt;dbl&gt;</th><th scope=col>&lt;dbl&gt;</th><th scope=col>&lt;dbl&gt;</th><th scope=col>&lt;dbl&gt;</th><th scope=col>&lt;dbl&gt;</th><th scope=col>&lt;dbl&gt;</th><th scope=col>&lt;dbl&gt;</th><th scope=col>&lt;dbl&gt;</th><th scope=col>&lt;dbl&gt;</th><th scope=col>&lt;dbl&gt;</th><th scope=col>&lt;fct&gt;</th><th scope=col>&lt;fct&gt;</th><th scope=col>&lt;fct&gt;</th><th scope=col>&lt;fct&gt;</th></tr>\n",
       "</thead>\n",
       "<tbody>\n",
       "\t<tr><th scope=row>10</th><td> 9.615385</td><td>2.263364</td><td>1</td><td>0</td><td>0</td><td>0</td><td>1</td><td>0</td><td>0</td><td>0</td><td>0</td><td>1</td><td> 7.0</td><td> 0.4900</td><td> 0.343000</td><td>  0.24010000</td><td>3600</td><td>11</td><td>8370</td><td>18</td></tr>\n",
       "\t<tr><th scope=row>12</th><td>48.076923</td><td>3.872802</td><td>0</td><td>0</td><td>0</td><td>0</td><td>1</td><td>0</td><td>0</td><td>0</td><td>0</td><td>1</td><td>31.0</td><td> 9.6100</td><td>29.791000</td><td> 92.35210000</td><td>3050</td><td>10</td><td>5070</td><td>9 </td></tr>\n",
       "\t<tr><th scope=row>19</th><td>28.846154</td><td>3.361977</td><td>1</td><td>0</td><td>0</td><td>0</td><td>1</td><td>0</td><td>0</td><td>0</td><td>0</td><td>1</td><td>22.0</td><td> 4.8400</td><td>10.648000</td><td> 23.42560000</td><td>2015</td><td>6 </td><td>9470</td><td>22</td></tr>\n",
       "\t<tr><th scope=row>30</th><td>11.730769</td><td>2.462215</td><td>1</td><td>0</td><td>0</td><td>0</td><td>1</td><td>0</td><td>0</td><td>0</td><td>0</td><td>1</td><td> 1.0</td><td> 0.0100</td><td> 0.001000</td><td>  0.00010000</td><td>1650</td><td>5 </td><td>7460</td><td>14</td></tr>\n",
       "\t<tr><th scope=row>71</th><td>19.230769</td><td>2.956512</td><td>1</td><td>0</td><td>0</td><td>0</td><td>1</td><td>0</td><td>0</td><td>0</td><td>0</td><td>1</td><td> 4.0</td><td> 0.1600</td><td> 0.064000</td><td>  0.02560000</td><td>3255</td><td>10</td><td>8190</td><td>18</td></tr>\n",
       "\t<tr><th scope=row>84</th><td>12.019231</td><td>2.486508</td><td>1</td><td>0</td><td>0</td><td>1</td><td>0</td><td>0</td><td>0</td><td>0</td><td>0</td><td>1</td><td> 5.5</td><td> 0.3025</td><td> 0.166375</td><td>  0.09150625</td><td>3600</td><td>11</td><td>8270</td><td>18</td></tr>\n",
       "\t<tr><th scope=row>89</th><td>13.461538</td><td>2.599837</td><td>1</td><td>0</td><td>0</td><td>1</td><td>0</td><td>0</td><td>0</td><td>0</td><td>0</td><td>1</td><td>20.5</td><td> 4.2025</td><td> 8.615125</td><td> 17.66100625</td><td>3645</td><td>11</td><td>8190</td><td>18</td></tr>\n",
       "\t<tr><th scope=row>96</th><td>16.346154</td><td>2.793993</td><td>1</td><td>0</td><td>0</td><td>0</td><td>1</td><td>0</td><td>0</td><td>0</td><td>0</td><td>1</td><td>25.0</td><td> 6.2500</td><td>15.625000</td><td> 39.06250000</td><td>110 </td><td>1 </td><td>7870</td><td>17</td></tr>\n",
       "\t<tr><th scope=row>119</th><td> 8.653846</td><td>2.158004</td><td>0</td><td>0</td><td>0</td><td>1</td><td>0</td><td>0</td><td>0</td><td>0</td><td>0</td><td>1</td><td> 3.5</td><td> 0.1225</td><td> 0.042875</td><td>  0.01500625</td><td>7410</td><td>20</td><td>570 </td><td>3 </td></tr>\n",
       "\t<tr><th scope=row>135</th><td>10.683761</td><td>2.368725</td><td>1</td><td>0</td><td>0</td><td>1</td><td>0</td><td>0</td><td>0</td><td>0</td><td>0</td><td>1</td><td> 6.5</td><td> 0.4225</td><td> 0.274625</td><td>  0.17850625</td><td>4300</td><td>15</td><td>8590</td><td>19</td></tr>\n",
       "\t<tr><th scope=row>144</th><td>11.538462</td><td>2.445686</td><td>1</td><td>0</td><td>0</td><td>1</td><td>0</td><td>0</td><td>0</td><td>0</td><td>0</td><td>1</td><td> 8.5</td><td> 0.7225</td><td> 0.614125</td><td>  0.52200625</td><td>3600</td><td>11</td><td>8190</td><td>18</td></tr>\n",
       "\t<tr><th scope=row>149</th><td>19.230769</td><td>2.956512</td><td>0</td><td>0</td><td>0</td><td>0</td><td>1</td><td>0</td><td>0</td><td>0</td><td>0</td><td>1</td><td>11.0</td><td> 1.2100</td><td> 1.331000</td><td>  1.46410000</td><td>6200</td><td>19</td><td>770 </td><td>4 </td></tr>\n",
       "\t<tr><th scope=row>152</th><td>16.304348</td><td>2.791432</td><td>1</td><td>0</td><td>0</td><td>1</td><td>0</td><td>0</td><td>0</td><td>0</td><td>0</td><td>1</td><td>24.5</td><td> 6.0025</td><td>14.706125</td><td> 36.03000625</td><td>20  </td><td>1 </td><td>5480</td><td>9 </td></tr>\n",
       "\t<tr><th scope=row>160</th><td>12.000000</td><td>2.484907</td><td>0</td><td>0</td><td>0</td><td>1</td><td>0</td><td>0</td><td>0</td><td>0</td><td>0</td><td>1</td><td> 4.5</td><td> 0.2025</td><td> 0.091125</td><td>  0.04100625</td><td>6330</td><td>19</td><td>770 </td><td>4 </td></tr>\n",
       "\t<tr><th scope=row>164</th><td>16.826923</td><td>2.822980</td><td>0</td><td>0</td><td>0</td><td>0</td><td>1</td><td>0</td><td>0</td><td>0</td><td>0</td><td>1</td><td> 8.0</td><td> 0.6400</td><td> 0.512000</td><td>  0.40960000</td><td>5400</td><td>17</td><td>4870</td><td>9 </td></tr>\n",
       "\t<tr><th scope=row>176</th><td>19.670330</td><td>2.979111</td><td>0</td><td>0</td><td>0</td><td>0</td><td>1</td><td>0</td><td>0</td><td>0</td><td>0</td><td>1</td><td>26.0</td><td> 6.7600</td><td>17.576000</td><td> 45.69760000</td><td>6230</td><td>19</td><td>6570</td><td>11</td></tr>\n",
       "\t<tr><th scope=row>206</th><td>13.942308</td><td>2.634928</td><td>1</td><td>0</td><td>0</td><td>1</td><td>0</td><td>0</td><td>0</td><td>0</td><td>0</td><td>1</td><td>15.5</td><td> 2.4025</td><td> 3.723875</td><td>  5.77200625</td><td>5860</td><td>17</td><td>4670</td><td>9 </td></tr>\n",
       "\t<tr><th scope=row>213</th><td>10.096154</td><td>2.312155</td><td>1</td><td>0</td><td>0</td><td>1</td><td>0</td><td>0</td><td>0</td><td>0</td><td>0</td><td>1</td><td> 9.0</td><td> 0.8100</td><td> 0.729000</td><td>  0.65610000</td><td>3500</td><td>10</td><td>8090</td><td>18</td></tr>\n",
       "\t<tr><th scope=row>225</th><td>24.038462</td><td>3.179655</td><td>1</td><td>0</td><td>0</td><td>0</td><td>1</td><td>0</td><td>0</td><td>0</td><td>0</td><td>1</td><td>31.0</td><td> 9.6100</td><td>29.791000</td><td> 92.35210000</td><td>2630</td><td>9 </td><td>4870</td><td>9 </td></tr>\n",
       "\t<tr><th scope=row>232</th><td>41.208791</td><td>3.718652</td><td>1</td><td>0</td><td>0</td><td>0</td><td>1</td><td>0</td><td>0</td><td>0</td><td>0</td><td>1</td><td>11.0</td><td> 1.2100</td><td> 1.331000</td><td>  1.46410000</td><td>4700</td><td>16</td><td>5790</td><td>9 </td></tr>\n",
       "\t<tr><th scope=row>245</th><td>21.634615</td><td>3.074295</td><td>1</td><td>0</td><td>0</td><td>1</td><td>0</td><td>0</td><td>0</td><td>0</td><td>0</td><td>1</td><td>17.5</td><td> 3.0625</td><td> 5.359375</td><td>  9.37890625</td><td>5400</td><td>17</td><td>6695</td><td>11</td></tr>\n",
       "\t<tr><th scope=row>264</th><td>12.019231</td><td>2.486508</td><td>1</td><td>0</td><td>0</td><td>1</td><td>0</td><td>0</td><td>0</td><td>0</td><td>0</td><td>1</td><td> 6.5</td><td> 0.4225</td><td> 0.274625</td><td>  0.17850625</td><td>4110</td><td>13</td><td>8680</td><td>20</td></tr>\n",
       "\t<tr><th scope=row>280</th><td> 7.211538</td><td>1.975682</td><td>1</td><td>0</td><td>0</td><td>1</td><td>0</td><td>0</td><td>0</td><td>0</td><td>0</td><td>1</td><td>17.5</td><td> 3.0625</td><td> 5.359375</td><td>  9.37890625</td><td>4720</td><td>16</td><td>4980</td><td>9 </td></tr>\n",
       "\t<tr><th scope=row>281</th><td>11.778846</td><td>2.466305</td><td>1</td><td>0</td><td>0</td><td>0</td><td>1</td><td>0</td><td>0</td><td>0</td><td>0</td><td>1</td><td> 7.0</td><td> 0.4900</td><td> 0.343000</td><td>  0.24010000</td><td>5860</td><td>17</td><td>6870</td><td>12</td></tr>\n",
       "\t<tr><th scope=row>286</th><td>12.937063</td><td>2.560096</td><td>0</td><td>0</td><td>0</td><td>1</td><td>0</td><td>0</td><td>0</td><td>0</td><td>0</td><td>1</td><td>34.5</td><td>11.9025</td><td>41.063625</td><td>141.66950625</td><td>9000</td><td>22</td><td>5670</td><td>9 </td></tr>\n",
       "\t<tr><th scope=row>291</th><td>13.076923</td><td>2.570849</td><td>1</td><td>0</td><td>0</td><td>0</td><td>1</td><td>0</td><td>0</td><td>0</td><td>0</td><td>1</td><td>10.0</td><td> 1.0000</td><td> 1.000000</td><td>  1.00000000</td><td>725 </td><td>2 </td><td>8590</td><td>19</td></tr>\n",
       "\t<tr><th scope=row>366</th><td>21.634615</td><td>3.074295</td><td>1</td><td>0</td><td>0</td><td>0</td><td>1</td><td>0</td><td>0</td><td>0</td><td>0</td><td>1</td><td>23.0</td><td> 5.2900</td><td>12.167000</td><td> 27.98410000</td><td>3320</td><td>10</td><td>8190</td><td>18</td></tr>\n",
       "\t<tr><th scope=row>368</th><td> 8.505917</td><td>2.140762</td><td>0</td><td>0</td><td>0</td><td>1</td><td>0</td><td>0</td><td>0</td><td>0</td><td>0</td><td>1</td><td> 4.5</td><td> 0.2025</td><td> 0.091125</td><td>  0.04100625</td><td>4220</td><td>14</td><td>8590</td><td>19</td></tr>\n",
       "\t<tr><th scope=row>375</th><td>33.989267</td><td>3.526045</td><td>0</td><td>0</td><td>0</td><td>0</td><td>1</td><td>0</td><td>0</td><td>0</td><td>0</td><td>1</td><td>21.0</td><td> 4.4100</td><td> 9.261000</td><td> 19.44810000</td><td>5600</td><td>17</td><td>3680</td><td>6 </td></tr>\n",
       "\t<tr><th scope=row>378</th><td>15.721154</td><td>2.755007</td><td>1</td><td>0</td><td>0</td><td>0</td><td>1</td><td>0</td><td>0</td><td>0</td><td>0</td><td>1</td><td> 2.0</td><td> 0.0400</td><td> 0.008000</td><td>  0.00160000</td><td>5940</td><td>17</td><td>8290</td><td>18</td></tr>\n",
       "\t<tr><th scope=row>...</th><td>...</td><td>...</td><td>...</td><td>...</td><td>...</td><td>...</td><td>...</td><td>...</td><td>...</td><td>...</td><td>...</td><td>...</td><td>...</td><td>...</td><td>...</td><td>...</td><td>...</td><td>...</td><td>...</td><td>...</td></tr>\n",
       "\t<tr><th scope=row>32313</th><td>33.65385</td><td>3.516127</td><td>0</td><td>0</td><td>0</td><td>1</td><td>0</td><td>0</td><td>0</td><td>0</td><td>1</td><td>0</td><td>24.5</td><td> 6.0025</td><td>14.706125</td><td> 36.03000625</td><td>6230</td><td>19</td><td>770 </td><td>4 </td></tr>\n",
       "\t<tr><th scope=row>32314</th><td>30.14553</td><td>3.406037</td><td>1</td><td>0</td><td>0</td><td>0</td><td>1</td><td>0</td><td>0</td><td>0</td><td>1</td><td>0</td><td>15.0</td><td> 2.2500</td><td> 3.375000</td><td>  5.06250000</td><td>120 </td><td>1 </td><td>6870</td><td>12</td></tr>\n",
       "\t<tr><th scope=row>32347</th><td>12.01923</td><td>2.486508</td><td>1</td><td>0</td><td>0</td><td>1</td><td>0</td><td>0</td><td>0</td><td>0</td><td>1</td><td>0</td><td> 9.5</td><td> 0.9025</td><td> 0.857375</td><td>  0.81450625</td><td>4760</td><td>16</td><td>4890</td><td>9 </td></tr>\n",
       "\t<tr><th scope=row>32362</th><td>25.48077</td><td>3.237924</td><td>0</td><td>0</td><td>0</td><td>0</td><td>1</td><td>0</td><td>0</td><td>0</td><td>1</td><td>0</td><td>16.0</td><td> 2.5600</td><td> 4.096000</td><td>  6.55360000</td><td>7420</td><td>20</td><td>770 </td><td>4 </td></tr>\n",
       "\t<tr><th scope=row>32388</th><td>22.59615</td><td>3.117780</td><td>1</td><td>0</td><td>0</td><td>1</td><td>0</td><td>0</td><td>0</td><td>0</td><td>1</td><td>0</td><td>11.5</td><td> 1.3225</td><td> 1.520875</td><td>  1.74900625</td><td>5240</td><td>17</td><td>6690</td><td>11</td></tr>\n",
       "\t<tr><th scope=row>32416</th><td>18.75000</td><td>2.931194</td><td>1</td><td>0</td><td>0</td><td>1</td><td>0</td><td>0</td><td>0</td><td>0</td><td>1</td><td>0</td><td>19.0</td><td> 3.6100</td><td> 6.859000</td><td> 13.03210000</td><td>3649</td><td>11</td><td>8190</td><td>18</td></tr>\n",
       "\t<tr><th scope=row>32419</th><td>29.91453</td><td>3.398344</td><td>1</td><td>0</td><td>0</td><td>0</td><td>1</td><td>0</td><td>0</td><td>0</td><td>1</td><td>0</td><td>39.0</td><td>15.2100</td><td>59.319000</td><td>231.34410000</td><td>4700</td><td>16</td><td>5380</td><td>9 </td></tr>\n",
       "\t<tr><th scope=row>32458</th><td>11.29808</td><td>2.424633</td><td>1</td><td>0</td><td>0</td><td>0</td><td>1</td><td>0</td><td>0</td><td>0</td><td>1</td><td>0</td><td>10.0</td><td> 1.0000</td><td> 1.000000</td><td>  1.00000000</td><td>2060</td><td>6 </td><td>9160</td><td>21</td></tr>\n",
       "\t<tr><th scope=row>32468</th><td>16.02564</td><td>2.774190</td><td>1</td><td>0</td><td>0</td><td>1</td><td>0</td><td>0</td><td>0</td><td>0</td><td>1</td><td>0</td><td>11.0</td><td> 1.2100</td><td> 1.331000</td><td>  1.46410000</td><td>4720</td><td>16</td><td>5080</td><td>9 </td></tr>\n",
       "\t<tr><th scope=row>32493</th><td>16.82692</td><td>2.822980</td><td>1</td><td>0</td><td>0</td><td>0</td><td>1</td><td>0</td><td>0</td><td>0</td><td>1</td><td>0</td><td> 4.0</td><td> 0.1600</td><td> 0.064000</td><td>  0.02560000</td><td>3648</td><td>11</td><td>7480</td><td>14</td></tr>\n",
       "\t<tr><th scope=row>32497</th><td>10.57692</td><td>2.358675</td><td>0</td><td>0</td><td>0</td><td>0</td><td>1</td><td>0</td><td>0</td><td>0</td><td>1</td><td>0</td><td> 8.0</td><td> 0.6400</td><td> 0.512000</td><td>  0.40960000</td><td>1550</td><td>4 </td><td>9490</td><td>22</td></tr>\n",
       "\t<tr><th scope=row>32498</th><td>25.00000</td><td>3.218876</td><td>0</td><td>0</td><td>0</td><td>0</td><td>1</td><td>0</td><td>0</td><td>0</td><td>1</td><td>0</td><td>10.0</td><td> 1.0000</td><td> 1.000000</td><td>  1.00000000</td><td>1310</td><td>4 </td><td>770 </td><td>4 </td></tr>\n",
       "\t<tr><th scope=row>32502</th><td>15.38462</td><td>2.733368</td><td>0</td><td>0</td><td>0</td><td>1</td><td>0</td><td>0</td><td>0</td><td>0</td><td>1</td><td>0</td><td>17.5</td><td> 3.0625</td><td> 5.359375</td><td>  9.37890625</td><td>2910</td><td>9 </td><td>9090</td><td>21</td></tr>\n",
       "\t<tr><th scope=row>32504</th><td>18.75000</td><td>2.931194</td><td>1</td><td>0</td><td>0</td><td>0</td><td>1</td><td>0</td><td>0</td><td>0</td><td>1</td><td>0</td><td> 2.0</td><td> 0.0400</td><td> 0.008000</td><td>  0.00160000</td><td>2000</td><td>6 </td><td>8370</td><td>18</td></tr>\n",
       "\t<tr><th scope=row>32509</th><td>20.91346</td><td>3.040393</td><td>1</td><td>0</td><td>0</td><td>1</td><td>0</td><td>0</td><td>0</td><td>0</td><td>1</td><td>0</td><td> 4.5</td><td> 0.2025</td><td> 0.091125</td><td>  0.04100625</td><td>4600</td><td>15</td><td>8470</td><td>18</td></tr>\n",
       "\t<tr><th scope=row>32517</th><td>22.11538</td><td>3.096274</td><td>0</td><td>0</td><td>0</td><td>1</td><td>0</td><td>0</td><td>0</td><td>0</td><td>1</td><td>0</td><td> 7.0</td><td> 0.4900</td><td> 0.343000</td><td>  0.24010000</td><td>410 </td><td>1 </td><td>7070</td><td>13</td></tr>\n",
       "\t<tr><th scope=row>32528</th><td>12.01923</td><td>2.486508</td><td>0</td><td>0</td><td>0</td><td>1</td><td>0</td><td>0</td><td>0</td><td>0</td><td>1</td><td>0</td><td> 4.0</td><td> 0.1600</td><td> 0.064000</td><td>  0.02560000</td><td>9620</td><td>22</td><td>6170</td><td>10</td></tr>\n",
       "\t<tr><th scope=row>32539</th><td>38.46154</td><td>3.649659</td><td>1</td><td>0</td><td>0</td><td>1</td><td>0</td><td>0</td><td>0</td><td>0</td><td>1</td><td>0</td><td> 7.5</td><td> 0.5625</td><td> 0.421875</td><td>  0.31640625</td><td>220 </td><td>1 </td><td>770 </td><td>4 </td></tr>\n",
       "\t<tr><th scope=row>32540</th><td>28.84615</td><td>3.361977</td><td>0</td><td>0</td><td>0</td><td>0</td><td>1</td><td>0</td><td>0</td><td>0</td><td>1</td><td>0</td><td> 5.0</td><td> 0.2500</td><td> 0.125000</td><td>  0.06250000</td><td>1360</td><td>4 </td><td>770 </td><td>4 </td></tr>\n",
       "\t<tr><th scope=row>32551</th><td>27.88462</td><td>3.328075</td><td>0</td><td>0</td><td>0</td><td>1</td><td>0</td><td>0</td><td>0</td><td>0</td><td>1</td><td>0</td><td>28.5</td><td> 8.1225</td><td>23.149125</td><td> 65.97500625</td><td>8140</td><td>21</td><td>770 </td><td>4 </td></tr>\n",
       "\t<tr><th scope=row>32561</th><td>38.46154</td><td>3.649659</td><td>0</td><td>0</td><td>0</td><td>0</td><td>1</td><td>0</td><td>0</td><td>0</td><td>1</td><td>0</td><td> 8.0</td><td> 0.6400</td><td> 0.512000</td><td>  0.40960000</td><td>710 </td><td>2 </td><td>6870</td><td>12</td></tr>\n",
       "\t<tr><th scope=row>32567</th><td>48.07692</td><td>3.872802</td><td>1</td><td>0</td><td>0</td><td>0</td><td>1</td><td>0</td><td>0</td><td>0</td><td>1</td><td>0</td><td>25.0</td><td> 6.2500</td><td>15.625000</td><td> 39.06250000</td><td>3255</td><td>10</td><td>8170</td><td>18</td></tr>\n",
       "\t<tr><th scope=row>32579</th><td>12.01923</td><td>2.486508</td><td>0</td><td>0</td><td>0</td><td>1</td><td>0</td><td>0</td><td>0</td><td>0</td><td>1</td><td>0</td><td>31.5</td><td> 9.9225</td><td>31.255875</td><td> 98.45600625</td><td>5510</td><td>17</td><td>6380</td><td>10</td></tr>\n",
       "\t<tr><th scope=row>32581</th><td>26.44231</td><td>3.274965</td><td>1</td><td>0</td><td>0</td><td>0</td><td>1</td><td>0</td><td>0</td><td>0</td><td>1</td><td>0</td><td>34.0</td><td>11.5600</td><td>39.304000</td><td>133.63360000</td><td>2310</td><td>8 </td><td>7860</td><td>17</td></tr>\n",
       "\t<tr><th scope=row>32593</th><td>21.15385</td><td>3.051822</td><td>0</td><td>0</td><td>0</td><td>0</td><td>1</td><td>0</td><td>0</td><td>0</td><td>1</td><td>0</td><td>28.0</td><td> 7.8400</td><td>21.952000</td><td> 61.46560000</td><td>40  </td><td>1 </td><td>9170</td><td>21</td></tr>\n",
       "\t<tr><th scope=row>32596</th><td>45.54656</td><td>3.818735</td><td>1</td><td>0</td><td>0</td><td>0</td><td>1</td><td>0</td><td>0</td><td>0</td><td>1</td><td>0</td><td> 5.0</td><td> 0.2500</td><td> 0.125000</td><td>  0.06250000</td><td>3255</td><td>10</td><td>8190</td><td>18</td></tr>\n",
       "\t<tr><th scope=row>32606</th><td>24.03846</td><td>3.179655</td><td>1</td><td>0</td><td>0</td><td>0</td><td>1</td><td>0</td><td>0</td><td>0</td><td>1</td><td>0</td><td>17.0</td><td> 2.8900</td><td> 4.913000</td><td>  8.35210000</td><td>2550</td><td>8 </td><td>9480</td><td>22</td></tr>\n",
       "\t<tr><th scope=row>32619</th><td>13.84615</td><td>2.628007</td><td>0</td><td>0</td><td>0</td><td>0</td><td>1</td><td>0</td><td>0</td><td>0</td><td>1</td><td>0</td><td>10.0</td><td> 1.0000</td><td> 1.000000</td><td>  1.00000000</td><td>800 </td><td>2 </td><td>770 </td><td>4 </td></tr>\n",
       "\t<tr><th scope=row>32620</th><td>14.76923</td><td>2.692546</td><td>0</td><td>0</td><td>0</td><td>0</td><td>1</td><td>0</td><td>0</td><td>0</td><td>1</td><td>0</td><td> 9.0</td><td> 0.8100</td><td> 0.729000</td><td>  0.65610000</td><td>4700</td><td>16</td><td>4970</td><td>9 </td></tr>\n",
       "\t<tr><th scope=row>32624</th><td>23.07692</td><td>3.138833</td><td>1</td><td>0</td><td>0</td><td>1</td><td>0</td><td>0</td><td>0</td><td>0</td><td>1</td><td>0</td><td>12.0</td><td> 1.4400</td><td> 1.728000</td><td>  2.07360000</td><td>4110</td><td>13</td><td>8680</td><td>20</td></tr>\n",
       "</tbody>\n",
       "</table>\n"
      ],
      "text/latex": [
       "A data.frame: 3068 × 20\n",
       "\\begin{tabular}{r|llllllllllllllllllll}\n",
       "  & wage & lwage & sex & shs & hsg & scl & clg & ad & mw & so & we & ne & exp1 & exp2 & exp3 & exp4 & occ & occ2 & ind & ind2\\\\\n",
       "  & <dbl> & <dbl> & <dbl> & <dbl> & <dbl> & <dbl> & <dbl> & <dbl> & <dbl> & <dbl> & <dbl> & <dbl> & <dbl> & <dbl> & <dbl> & <dbl> & <fct> & <fct> & <fct> & <fct>\\\\\n",
       "\\hline\n",
       "\t10 &  9.615385 & 2.263364 & 1 & 0 & 0 & 0 & 1 & 0 & 0 & 0 & 0 & 1 &  7.0 &  0.4900 &  0.343000 &   0.24010000 & 3600 & 11 & 8370 & 18\\\\\n",
       "\t12 & 48.076923 & 3.872802 & 0 & 0 & 0 & 0 & 1 & 0 & 0 & 0 & 0 & 1 & 31.0 &  9.6100 & 29.791000 &  92.35210000 & 3050 & 10 & 5070 & 9 \\\\\n",
       "\t19 & 28.846154 & 3.361977 & 1 & 0 & 0 & 0 & 1 & 0 & 0 & 0 & 0 & 1 & 22.0 &  4.8400 & 10.648000 &  23.42560000 & 2015 & 6  & 9470 & 22\\\\\n",
       "\t30 & 11.730769 & 2.462215 & 1 & 0 & 0 & 0 & 1 & 0 & 0 & 0 & 0 & 1 &  1.0 &  0.0100 &  0.001000 &   0.00010000 & 1650 & 5  & 7460 & 14\\\\\n",
       "\t71 & 19.230769 & 2.956512 & 1 & 0 & 0 & 0 & 1 & 0 & 0 & 0 & 0 & 1 &  4.0 &  0.1600 &  0.064000 &   0.02560000 & 3255 & 10 & 8190 & 18\\\\\n",
       "\t84 & 12.019231 & 2.486508 & 1 & 0 & 0 & 1 & 0 & 0 & 0 & 0 & 0 & 1 &  5.5 &  0.3025 &  0.166375 &   0.09150625 & 3600 & 11 & 8270 & 18\\\\\n",
       "\t89 & 13.461538 & 2.599837 & 1 & 0 & 0 & 1 & 0 & 0 & 0 & 0 & 0 & 1 & 20.5 &  4.2025 &  8.615125 &  17.66100625 & 3645 & 11 & 8190 & 18\\\\\n",
       "\t96 & 16.346154 & 2.793993 & 1 & 0 & 0 & 0 & 1 & 0 & 0 & 0 & 0 & 1 & 25.0 &  6.2500 & 15.625000 &  39.06250000 & 110  & 1  & 7870 & 17\\\\\n",
       "\t119 &  8.653846 & 2.158004 & 0 & 0 & 0 & 1 & 0 & 0 & 0 & 0 & 0 & 1 &  3.5 &  0.1225 &  0.042875 &   0.01500625 & 7410 & 20 & 570  & 3 \\\\\n",
       "\t135 & 10.683761 & 2.368725 & 1 & 0 & 0 & 1 & 0 & 0 & 0 & 0 & 0 & 1 &  6.5 &  0.4225 &  0.274625 &   0.17850625 & 4300 & 15 & 8590 & 19\\\\\n",
       "\t144 & 11.538462 & 2.445686 & 1 & 0 & 0 & 1 & 0 & 0 & 0 & 0 & 0 & 1 &  8.5 &  0.7225 &  0.614125 &   0.52200625 & 3600 & 11 & 8190 & 18\\\\\n",
       "\t149 & 19.230769 & 2.956512 & 0 & 0 & 0 & 0 & 1 & 0 & 0 & 0 & 0 & 1 & 11.0 &  1.2100 &  1.331000 &   1.46410000 & 6200 & 19 & 770  & 4 \\\\\n",
       "\t152 & 16.304348 & 2.791432 & 1 & 0 & 0 & 1 & 0 & 0 & 0 & 0 & 0 & 1 & 24.5 &  6.0025 & 14.706125 &  36.03000625 & 20   & 1  & 5480 & 9 \\\\\n",
       "\t160 & 12.000000 & 2.484907 & 0 & 0 & 0 & 1 & 0 & 0 & 0 & 0 & 0 & 1 &  4.5 &  0.2025 &  0.091125 &   0.04100625 & 6330 & 19 & 770  & 4 \\\\\n",
       "\t164 & 16.826923 & 2.822980 & 0 & 0 & 0 & 0 & 1 & 0 & 0 & 0 & 0 & 1 &  8.0 &  0.6400 &  0.512000 &   0.40960000 & 5400 & 17 & 4870 & 9 \\\\\n",
       "\t176 & 19.670330 & 2.979111 & 0 & 0 & 0 & 0 & 1 & 0 & 0 & 0 & 0 & 1 & 26.0 &  6.7600 & 17.576000 &  45.69760000 & 6230 & 19 & 6570 & 11\\\\\n",
       "\t206 & 13.942308 & 2.634928 & 1 & 0 & 0 & 1 & 0 & 0 & 0 & 0 & 0 & 1 & 15.5 &  2.4025 &  3.723875 &   5.77200625 & 5860 & 17 & 4670 & 9 \\\\\n",
       "\t213 & 10.096154 & 2.312155 & 1 & 0 & 0 & 1 & 0 & 0 & 0 & 0 & 0 & 1 &  9.0 &  0.8100 &  0.729000 &   0.65610000 & 3500 & 10 & 8090 & 18\\\\\n",
       "\t225 & 24.038462 & 3.179655 & 1 & 0 & 0 & 0 & 1 & 0 & 0 & 0 & 0 & 1 & 31.0 &  9.6100 & 29.791000 &  92.35210000 & 2630 & 9  & 4870 & 9 \\\\\n",
       "\t232 & 41.208791 & 3.718652 & 1 & 0 & 0 & 0 & 1 & 0 & 0 & 0 & 0 & 1 & 11.0 &  1.2100 &  1.331000 &   1.46410000 & 4700 & 16 & 5790 & 9 \\\\\n",
       "\t245 & 21.634615 & 3.074295 & 1 & 0 & 0 & 1 & 0 & 0 & 0 & 0 & 0 & 1 & 17.5 &  3.0625 &  5.359375 &   9.37890625 & 5400 & 17 & 6695 & 11\\\\\n",
       "\t264 & 12.019231 & 2.486508 & 1 & 0 & 0 & 1 & 0 & 0 & 0 & 0 & 0 & 1 &  6.5 &  0.4225 &  0.274625 &   0.17850625 & 4110 & 13 & 8680 & 20\\\\\n",
       "\t280 &  7.211538 & 1.975682 & 1 & 0 & 0 & 1 & 0 & 0 & 0 & 0 & 0 & 1 & 17.5 &  3.0625 &  5.359375 &   9.37890625 & 4720 & 16 & 4980 & 9 \\\\\n",
       "\t281 & 11.778846 & 2.466305 & 1 & 0 & 0 & 0 & 1 & 0 & 0 & 0 & 0 & 1 &  7.0 &  0.4900 &  0.343000 &   0.24010000 & 5860 & 17 & 6870 & 12\\\\\n",
       "\t286 & 12.937063 & 2.560096 & 0 & 0 & 0 & 1 & 0 & 0 & 0 & 0 & 0 & 1 & 34.5 & 11.9025 & 41.063625 & 141.66950625 & 9000 & 22 & 5670 & 9 \\\\\n",
       "\t291 & 13.076923 & 2.570849 & 1 & 0 & 0 & 0 & 1 & 0 & 0 & 0 & 0 & 1 & 10.0 &  1.0000 &  1.000000 &   1.00000000 & 725  & 2  & 8590 & 19\\\\\n",
       "\t366 & 21.634615 & 3.074295 & 1 & 0 & 0 & 0 & 1 & 0 & 0 & 0 & 0 & 1 & 23.0 &  5.2900 & 12.167000 &  27.98410000 & 3320 & 10 & 8190 & 18\\\\\n",
       "\t368 &  8.505917 & 2.140762 & 0 & 0 & 0 & 1 & 0 & 0 & 0 & 0 & 0 & 1 &  4.5 &  0.2025 &  0.091125 &   0.04100625 & 4220 & 14 & 8590 & 19\\\\\n",
       "\t375 & 33.989267 & 3.526045 & 0 & 0 & 0 & 0 & 1 & 0 & 0 & 0 & 0 & 1 & 21.0 &  4.4100 &  9.261000 &  19.44810000 & 5600 & 17 & 3680 & 6 \\\\\n",
       "\t378 & 15.721154 & 2.755007 & 1 & 0 & 0 & 0 & 1 & 0 & 0 & 0 & 0 & 1 &  2.0 &  0.0400 &  0.008000 &   0.00160000 & 5940 & 17 & 8290 & 18\\\\\n",
       "\t... & ... & ... & ... & ... & ... & ... & ... & ... & ... & ... & ... & ... & ... & ... & ... & ... & ... & ... & ... & ...\\\\\n",
       "\t32313 & 33.65385 & 3.516127 & 0 & 0 & 0 & 1 & 0 & 0 & 0 & 0 & 1 & 0 & 24.5 &  6.0025 & 14.706125 &  36.03000625 & 6230 & 19 & 770  & 4 \\\\\n",
       "\t32314 & 30.14553 & 3.406037 & 1 & 0 & 0 & 0 & 1 & 0 & 0 & 0 & 1 & 0 & 15.0 &  2.2500 &  3.375000 &   5.06250000 & 120  & 1  & 6870 & 12\\\\\n",
       "\t32347 & 12.01923 & 2.486508 & 1 & 0 & 0 & 1 & 0 & 0 & 0 & 0 & 1 & 0 &  9.5 &  0.9025 &  0.857375 &   0.81450625 & 4760 & 16 & 4890 & 9 \\\\\n",
       "\t32362 & 25.48077 & 3.237924 & 0 & 0 & 0 & 0 & 1 & 0 & 0 & 0 & 1 & 0 & 16.0 &  2.5600 &  4.096000 &   6.55360000 & 7420 & 20 & 770  & 4 \\\\\n",
       "\t32388 & 22.59615 & 3.117780 & 1 & 0 & 0 & 1 & 0 & 0 & 0 & 0 & 1 & 0 & 11.5 &  1.3225 &  1.520875 &   1.74900625 & 5240 & 17 & 6690 & 11\\\\\n",
       "\t32416 & 18.75000 & 2.931194 & 1 & 0 & 0 & 1 & 0 & 0 & 0 & 0 & 1 & 0 & 19.0 &  3.6100 &  6.859000 &  13.03210000 & 3649 & 11 & 8190 & 18\\\\\n",
       "\t32419 & 29.91453 & 3.398344 & 1 & 0 & 0 & 0 & 1 & 0 & 0 & 0 & 1 & 0 & 39.0 & 15.2100 & 59.319000 & 231.34410000 & 4700 & 16 & 5380 & 9 \\\\\n",
       "\t32458 & 11.29808 & 2.424633 & 1 & 0 & 0 & 0 & 1 & 0 & 0 & 0 & 1 & 0 & 10.0 &  1.0000 &  1.000000 &   1.00000000 & 2060 & 6  & 9160 & 21\\\\\n",
       "\t32468 & 16.02564 & 2.774190 & 1 & 0 & 0 & 1 & 0 & 0 & 0 & 0 & 1 & 0 & 11.0 &  1.2100 &  1.331000 &   1.46410000 & 4720 & 16 & 5080 & 9 \\\\\n",
       "\t32493 & 16.82692 & 2.822980 & 1 & 0 & 0 & 0 & 1 & 0 & 0 & 0 & 1 & 0 &  4.0 &  0.1600 &  0.064000 &   0.02560000 & 3648 & 11 & 7480 & 14\\\\\n",
       "\t32497 & 10.57692 & 2.358675 & 0 & 0 & 0 & 0 & 1 & 0 & 0 & 0 & 1 & 0 &  8.0 &  0.6400 &  0.512000 &   0.40960000 & 1550 & 4  & 9490 & 22\\\\\n",
       "\t32498 & 25.00000 & 3.218876 & 0 & 0 & 0 & 0 & 1 & 0 & 0 & 0 & 1 & 0 & 10.0 &  1.0000 &  1.000000 &   1.00000000 & 1310 & 4  & 770  & 4 \\\\\n",
       "\t32502 & 15.38462 & 2.733368 & 0 & 0 & 0 & 1 & 0 & 0 & 0 & 0 & 1 & 0 & 17.5 &  3.0625 &  5.359375 &   9.37890625 & 2910 & 9  & 9090 & 21\\\\\n",
       "\t32504 & 18.75000 & 2.931194 & 1 & 0 & 0 & 0 & 1 & 0 & 0 & 0 & 1 & 0 &  2.0 &  0.0400 &  0.008000 &   0.00160000 & 2000 & 6  & 8370 & 18\\\\\n",
       "\t32509 & 20.91346 & 3.040393 & 1 & 0 & 0 & 1 & 0 & 0 & 0 & 0 & 1 & 0 &  4.5 &  0.2025 &  0.091125 &   0.04100625 & 4600 & 15 & 8470 & 18\\\\\n",
       "\t32517 & 22.11538 & 3.096274 & 0 & 0 & 0 & 1 & 0 & 0 & 0 & 0 & 1 & 0 &  7.0 &  0.4900 &  0.343000 &   0.24010000 & 410  & 1  & 7070 & 13\\\\\n",
       "\t32528 & 12.01923 & 2.486508 & 0 & 0 & 0 & 1 & 0 & 0 & 0 & 0 & 1 & 0 &  4.0 &  0.1600 &  0.064000 &   0.02560000 & 9620 & 22 & 6170 & 10\\\\\n",
       "\t32539 & 38.46154 & 3.649659 & 1 & 0 & 0 & 1 & 0 & 0 & 0 & 0 & 1 & 0 &  7.5 &  0.5625 &  0.421875 &   0.31640625 & 220  & 1  & 770  & 4 \\\\\n",
       "\t32540 & 28.84615 & 3.361977 & 0 & 0 & 0 & 0 & 1 & 0 & 0 & 0 & 1 & 0 &  5.0 &  0.2500 &  0.125000 &   0.06250000 & 1360 & 4  & 770  & 4 \\\\\n",
       "\t32551 & 27.88462 & 3.328075 & 0 & 0 & 0 & 1 & 0 & 0 & 0 & 0 & 1 & 0 & 28.5 &  8.1225 & 23.149125 &  65.97500625 & 8140 & 21 & 770  & 4 \\\\\n",
       "\t32561 & 38.46154 & 3.649659 & 0 & 0 & 0 & 0 & 1 & 0 & 0 & 0 & 1 & 0 &  8.0 &  0.6400 &  0.512000 &   0.40960000 & 710  & 2  & 6870 & 12\\\\\n",
       "\t32567 & 48.07692 & 3.872802 & 1 & 0 & 0 & 0 & 1 & 0 & 0 & 0 & 1 & 0 & 25.0 &  6.2500 & 15.625000 &  39.06250000 & 3255 & 10 & 8170 & 18\\\\\n",
       "\t32579 & 12.01923 & 2.486508 & 0 & 0 & 0 & 1 & 0 & 0 & 0 & 0 & 1 & 0 & 31.5 &  9.9225 & 31.255875 &  98.45600625 & 5510 & 17 & 6380 & 10\\\\\n",
       "\t32581 & 26.44231 & 3.274965 & 1 & 0 & 0 & 0 & 1 & 0 & 0 & 0 & 1 & 0 & 34.0 & 11.5600 & 39.304000 & 133.63360000 & 2310 & 8  & 7860 & 17\\\\\n",
       "\t32593 & 21.15385 & 3.051822 & 0 & 0 & 0 & 0 & 1 & 0 & 0 & 0 & 1 & 0 & 28.0 &  7.8400 & 21.952000 &  61.46560000 & 40   & 1  & 9170 & 21\\\\\n",
       "\t32596 & 45.54656 & 3.818735 & 1 & 0 & 0 & 0 & 1 & 0 & 0 & 0 & 1 & 0 &  5.0 &  0.2500 &  0.125000 &   0.06250000 & 3255 & 10 & 8190 & 18\\\\\n",
       "\t32606 & 24.03846 & 3.179655 & 1 & 0 & 0 & 0 & 1 & 0 & 0 & 0 & 1 & 0 & 17.0 &  2.8900 &  4.913000 &   8.35210000 & 2550 & 8  & 9480 & 22\\\\\n",
       "\t32619 & 13.84615 & 2.628007 & 0 & 0 & 0 & 0 & 1 & 0 & 0 & 0 & 1 & 0 & 10.0 &  1.0000 &  1.000000 &   1.00000000 & 800  & 2  & 770  & 4 \\\\\n",
       "\t32620 & 14.76923 & 2.692546 & 0 & 0 & 0 & 0 & 1 & 0 & 0 & 0 & 1 & 0 &  9.0 &  0.8100 &  0.729000 &   0.65610000 & 4700 & 16 & 4970 & 9 \\\\\n",
       "\t32624 & 23.07692 & 3.138833 & 1 & 0 & 0 & 1 & 0 & 0 & 0 & 0 & 1 & 0 & 12.0 &  1.4400 &  1.728000 &   2.07360000 & 4110 & 13 & 8680 & 20\\\\\n",
       "\\end{tabular}\n"
      ],
      "text/markdown": [
       "\n",
       "A data.frame: 3068 × 20\n",
       "\n",
       "| <!--/--> | wage &lt;dbl&gt; | lwage &lt;dbl&gt; | sex &lt;dbl&gt; | shs &lt;dbl&gt; | hsg &lt;dbl&gt; | scl &lt;dbl&gt; | clg &lt;dbl&gt; | ad &lt;dbl&gt; | mw &lt;dbl&gt; | so &lt;dbl&gt; | we &lt;dbl&gt; | ne &lt;dbl&gt; | exp1 &lt;dbl&gt; | exp2 &lt;dbl&gt; | exp3 &lt;dbl&gt; | exp4 &lt;dbl&gt; | occ &lt;fct&gt; | occ2 &lt;fct&gt; | ind &lt;fct&gt; | ind2 &lt;fct&gt; |\n",
       "|---|---|---|---|---|---|---|---|---|---|---|---|---|---|---|---|---|---|---|---|---|\n",
       "| 10 |  9.615385 | 2.263364 | 1 | 0 | 0 | 0 | 1 | 0 | 0 | 0 | 0 | 1 |  7.0 |  0.4900 |  0.343000 |   0.24010000 | 3600 | 11 | 8370 | 18 |\n",
       "| 12 | 48.076923 | 3.872802 | 0 | 0 | 0 | 0 | 1 | 0 | 0 | 0 | 0 | 1 | 31.0 |  9.6100 | 29.791000 |  92.35210000 | 3050 | 10 | 5070 | 9  |\n",
       "| 19 | 28.846154 | 3.361977 | 1 | 0 | 0 | 0 | 1 | 0 | 0 | 0 | 0 | 1 | 22.0 |  4.8400 | 10.648000 |  23.42560000 | 2015 | 6  | 9470 | 22 |\n",
       "| 30 | 11.730769 | 2.462215 | 1 | 0 | 0 | 0 | 1 | 0 | 0 | 0 | 0 | 1 |  1.0 |  0.0100 |  0.001000 |   0.00010000 | 1650 | 5  | 7460 | 14 |\n",
       "| 71 | 19.230769 | 2.956512 | 1 | 0 | 0 | 0 | 1 | 0 | 0 | 0 | 0 | 1 |  4.0 |  0.1600 |  0.064000 |   0.02560000 | 3255 | 10 | 8190 | 18 |\n",
       "| 84 | 12.019231 | 2.486508 | 1 | 0 | 0 | 1 | 0 | 0 | 0 | 0 | 0 | 1 |  5.5 |  0.3025 |  0.166375 |   0.09150625 | 3600 | 11 | 8270 | 18 |\n",
       "| 89 | 13.461538 | 2.599837 | 1 | 0 | 0 | 1 | 0 | 0 | 0 | 0 | 0 | 1 | 20.5 |  4.2025 |  8.615125 |  17.66100625 | 3645 | 11 | 8190 | 18 |\n",
       "| 96 | 16.346154 | 2.793993 | 1 | 0 | 0 | 0 | 1 | 0 | 0 | 0 | 0 | 1 | 25.0 |  6.2500 | 15.625000 |  39.06250000 | 110  | 1  | 7870 | 17 |\n",
       "| 119 |  8.653846 | 2.158004 | 0 | 0 | 0 | 1 | 0 | 0 | 0 | 0 | 0 | 1 |  3.5 |  0.1225 |  0.042875 |   0.01500625 | 7410 | 20 | 570  | 3  |\n",
       "| 135 | 10.683761 | 2.368725 | 1 | 0 | 0 | 1 | 0 | 0 | 0 | 0 | 0 | 1 |  6.5 |  0.4225 |  0.274625 |   0.17850625 | 4300 | 15 | 8590 | 19 |\n",
       "| 144 | 11.538462 | 2.445686 | 1 | 0 | 0 | 1 | 0 | 0 | 0 | 0 | 0 | 1 |  8.5 |  0.7225 |  0.614125 |   0.52200625 | 3600 | 11 | 8190 | 18 |\n",
       "| 149 | 19.230769 | 2.956512 | 0 | 0 | 0 | 0 | 1 | 0 | 0 | 0 | 0 | 1 | 11.0 |  1.2100 |  1.331000 |   1.46410000 | 6200 | 19 | 770  | 4  |\n",
       "| 152 | 16.304348 | 2.791432 | 1 | 0 | 0 | 1 | 0 | 0 | 0 | 0 | 0 | 1 | 24.5 |  6.0025 | 14.706125 |  36.03000625 | 20   | 1  | 5480 | 9  |\n",
       "| 160 | 12.000000 | 2.484907 | 0 | 0 | 0 | 1 | 0 | 0 | 0 | 0 | 0 | 1 |  4.5 |  0.2025 |  0.091125 |   0.04100625 | 6330 | 19 | 770  | 4  |\n",
       "| 164 | 16.826923 | 2.822980 | 0 | 0 | 0 | 0 | 1 | 0 | 0 | 0 | 0 | 1 |  8.0 |  0.6400 |  0.512000 |   0.40960000 | 5400 | 17 | 4870 | 9  |\n",
       "| 176 | 19.670330 | 2.979111 | 0 | 0 | 0 | 0 | 1 | 0 | 0 | 0 | 0 | 1 | 26.0 |  6.7600 | 17.576000 |  45.69760000 | 6230 | 19 | 6570 | 11 |\n",
       "| 206 | 13.942308 | 2.634928 | 1 | 0 | 0 | 1 | 0 | 0 | 0 | 0 | 0 | 1 | 15.5 |  2.4025 |  3.723875 |   5.77200625 | 5860 | 17 | 4670 | 9  |\n",
       "| 213 | 10.096154 | 2.312155 | 1 | 0 | 0 | 1 | 0 | 0 | 0 | 0 | 0 | 1 |  9.0 |  0.8100 |  0.729000 |   0.65610000 | 3500 | 10 | 8090 | 18 |\n",
       "| 225 | 24.038462 | 3.179655 | 1 | 0 | 0 | 0 | 1 | 0 | 0 | 0 | 0 | 1 | 31.0 |  9.6100 | 29.791000 |  92.35210000 | 2630 | 9  | 4870 | 9  |\n",
       "| 232 | 41.208791 | 3.718652 | 1 | 0 | 0 | 0 | 1 | 0 | 0 | 0 | 0 | 1 | 11.0 |  1.2100 |  1.331000 |   1.46410000 | 4700 | 16 | 5790 | 9  |\n",
       "| 245 | 21.634615 | 3.074295 | 1 | 0 | 0 | 1 | 0 | 0 | 0 | 0 | 0 | 1 | 17.5 |  3.0625 |  5.359375 |   9.37890625 | 5400 | 17 | 6695 | 11 |\n",
       "| 264 | 12.019231 | 2.486508 | 1 | 0 | 0 | 1 | 0 | 0 | 0 | 0 | 0 | 1 |  6.5 |  0.4225 |  0.274625 |   0.17850625 | 4110 | 13 | 8680 | 20 |\n",
       "| 280 |  7.211538 | 1.975682 | 1 | 0 | 0 | 1 | 0 | 0 | 0 | 0 | 0 | 1 | 17.5 |  3.0625 |  5.359375 |   9.37890625 | 4720 | 16 | 4980 | 9  |\n",
       "| 281 | 11.778846 | 2.466305 | 1 | 0 | 0 | 0 | 1 | 0 | 0 | 0 | 0 | 1 |  7.0 |  0.4900 |  0.343000 |   0.24010000 | 5860 | 17 | 6870 | 12 |\n",
       "| 286 | 12.937063 | 2.560096 | 0 | 0 | 0 | 1 | 0 | 0 | 0 | 0 | 0 | 1 | 34.5 | 11.9025 | 41.063625 | 141.66950625 | 9000 | 22 | 5670 | 9  |\n",
       "| 291 | 13.076923 | 2.570849 | 1 | 0 | 0 | 0 | 1 | 0 | 0 | 0 | 0 | 1 | 10.0 |  1.0000 |  1.000000 |   1.00000000 | 725  | 2  | 8590 | 19 |\n",
       "| 366 | 21.634615 | 3.074295 | 1 | 0 | 0 | 0 | 1 | 0 | 0 | 0 | 0 | 1 | 23.0 |  5.2900 | 12.167000 |  27.98410000 | 3320 | 10 | 8190 | 18 |\n",
       "| 368 |  8.505917 | 2.140762 | 0 | 0 | 0 | 1 | 0 | 0 | 0 | 0 | 0 | 1 |  4.5 |  0.2025 |  0.091125 |   0.04100625 | 4220 | 14 | 8590 | 19 |\n",
       "| 375 | 33.989267 | 3.526045 | 0 | 0 | 0 | 0 | 1 | 0 | 0 | 0 | 0 | 1 | 21.0 |  4.4100 |  9.261000 |  19.44810000 | 5600 | 17 | 3680 | 6  |\n",
       "| 378 | 15.721154 | 2.755007 | 1 | 0 | 0 | 0 | 1 | 0 | 0 | 0 | 0 | 1 |  2.0 |  0.0400 |  0.008000 |   0.00160000 | 5940 | 17 | 8290 | 18 |\n",
       "| ... | ... | ... | ... | ... | ... | ... | ... | ... | ... | ... | ... | ... | ... | ... | ... | ... | ... | ... | ... | ... |\n",
       "| 32313 | 33.65385 | 3.516127 | 0 | 0 | 0 | 1 | 0 | 0 | 0 | 0 | 1 | 0 | 24.5 |  6.0025 | 14.706125 |  36.03000625 | 6230 | 19 | 770  | 4  |\n",
       "| 32314 | 30.14553 | 3.406037 | 1 | 0 | 0 | 0 | 1 | 0 | 0 | 0 | 1 | 0 | 15.0 |  2.2500 |  3.375000 |   5.06250000 | 120  | 1  | 6870 | 12 |\n",
       "| 32347 | 12.01923 | 2.486508 | 1 | 0 | 0 | 1 | 0 | 0 | 0 | 0 | 1 | 0 |  9.5 |  0.9025 |  0.857375 |   0.81450625 | 4760 | 16 | 4890 | 9  |\n",
       "| 32362 | 25.48077 | 3.237924 | 0 | 0 | 0 | 0 | 1 | 0 | 0 | 0 | 1 | 0 | 16.0 |  2.5600 |  4.096000 |   6.55360000 | 7420 | 20 | 770  | 4  |\n",
       "| 32388 | 22.59615 | 3.117780 | 1 | 0 | 0 | 1 | 0 | 0 | 0 | 0 | 1 | 0 | 11.5 |  1.3225 |  1.520875 |   1.74900625 | 5240 | 17 | 6690 | 11 |\n",
       "| 32416 | 18.75000 | 2.931194 | 1 | 0 | 0 | 1 | 0 | 0 | 0 | 0 | 1 | 0 | 19.0 |  3.6100 |  6.859000 |  13.03210000 | 3649 | 11 | 8190 | 18 |\n",
       "| 32419 | 29.91453 | 3.398344 | 1 | 0 | 0 | 0 | 1 | 0 | 0 | 0 | 1 | 0 | 39.0 | 15.2100 | 59.319000 | 231.34410000 | 4700 | 16 | 5380 | 9  |\n",
       "| 32458 | 11.29808 | 2.424633 | 1 | 0 | 0 | 0 | 1 | 0 | 0 | 0 | 1 | 0 | 10.0 |  1.0000 |  1.000000 |   1.00000000 | 2060 | 6  | 9160 | 21 |\n",
       "| 32468 | 16.02564 | 2.774190 | 1 | 0 | 0 | 1 | 0 | 0 | 0 | 0 | 1 | 0 | 11.0 |  1.2100 |  1.331000 |   1.46410000 | 4720 | 16 | 5080 | 9  |\n",
       "| 32493 | 16.82692 | 2.822980 | 1 | 0 | 0 | 0 | 1 | 0 | 0 | 0 | 1 | 0 |  4.0 |  0.1600 |  0.064000 |   0.02560000 | 3648 | 11 | 7480 | 14 |\n",
       "| 32497 | 10.57692 | 2.358675 | 0 | 0 | 0 | 0 | 1 | 0 | 0 | 0 | 1 | 0 |  8.0 |  0.6400 |  0.512000 |   0.40960000 | 1550 | 4  | 9490 | 22 |\n",
       "| 32498 | 25.00000 | 3.218876 | 0 | 0 | 0 | 0 | 1 | 0 | 0 | 0 | 1 | 0 | 10.0 |  1.0000 |  1.000000 |   1.00000000 | 1310 | 4  | 770  | 4  |\n",
       "| 32502 | 15.38462 | 2.733368 | 0 | 0 | 0 | 1 | 0 | 0 | 0 | 0 | 1 | 0 | 17.5 |  3.0625 |  5.359375 |   9.37890625 | 2910 | 9  | 9090 | 21 |\n",
       "| 32504 | 18.75000 | 2.931194 | 1 | 0 | 0 | 0 | 1 | 0 | 0 | 0 | 1 | 0 |  2.0 |  0.0400 |  0.008000 |   0.00160000 | 2000 | 6  | 8370 | 18 |\n",
       "| 32509 | 20.91346 | 3.040393 | 1 | 0 | 0 | 1 | 0 | 0 | 0 | 0 | 1 | 0 |  4.5 |  0.2025 |  0.091125 |   0.04100625 | 4600 | 15 | 8470 | 18 |\n",
       "| 32517 | 22.11538 | 3.096274 | 0 | 0 | 0 | 1 | 0 | 0 | 0 | 0 | 1 | 0 |  7.0 |  0.4900 |  0.343000 |   0.24010000 | 410  | 1  | 7070 | 13 |\n",
       "| 32528 | 12.01923 | 2.486508 | 0 | 0 | 0 | 1 | 0 | 0 | 0 | 0 | 1 | 0 |  4.0 |  0.1600 |  0.064000 |   0.02560000 | 9620 | 22 | 6170 | 10 |\n",
       "| 32539 | 38.46154 | 3.649659 | 1 | 0 | 0 | 1 | 0 | 0 | 0 | 0 | 1 | 0 |  7.5 |  0.5625 |  0.421875 |   0.31640625 | 220  | 1  | 770  | 4  |\n",
       "| 32540 | 28.84615 | 3.361977 | 0 | 0 | 0 | 0 | 1 | 0 | 0 | 0 | 1 | 0 |  5.0 |  0.2500 |  0.125000 |   0.06250000 | 1360 | 4  | 770  | 4  |\n",
       "| 32551 | 27.88462 | 3.328075 | 0 | 0 | 0 | 1 | 0 | 0 | 0 | 0 | 1 | 0 | 28.5 |  8.1225 | 23.149125 |  65.97500625 | 8140 | 21 | 770  | 4  |\n",
       "| 32561 | 38.46154 | 3.649659 | 0 | 0 | 0 | 0 | 1 | 0 | 0 | 0 | 1 | 0 |  8.0 |  0.6400 |  0.512000 |   0.40960000 | 710  | 2  | 6870 | 12 |\n",
       "| 32567 | 48.07692 | 3.872802 | 1 | 0 | 0 | 0 | 1 | 0 | 0 | 0 | 1 | 0 | 25.0 |  6.2500 | 15.625000 |  39.06250000 | 3255 | 10 | 8170 | 18 |\n",
       "| 32579 | 12.01923 | 2.486508 | 0 | 0 | 0 | 1 | 0 | 0 | 0 | 0 | 1 | 0 | 31.5 |  9.9225 | 31.255875 |  98.45600625 | 5510 | 17 | 6380 | 10 |\n",
       "| 32581 | 26.44231 | 3.274965 | 1 | 0 | 0 | 0 | 1 | 0 | 0 | 0 | 1 | 0 | 34.0 | 11.5600 | 39.304000 | 133.63360000 | 2310 | 8  | 7860 | 17 |\n",
       "| 32593 | 21.15385 | 3.051822 | 0 | 0 | 0 | 0 | 1 | 0 | 0 | 0 | 1 | 0 | 28.0 |  7.8400 | 21.952000 |  61.46560000 | 40   | 1  | 9170 | 21 |\n",
       "| 32596 | 45.54656 | 3.818735 | 1 | 0 | 0 | 0 | 1 | 0 | 0 | 0 | 1 | 0 |  5.0 |  0.2500 |  0.125000 |   0.06250000 | 3255 | 10 | 8190 | 18 |\n",
       "| 32606 | 24.03846 | 3.179655 | 1 | 0 | 0 | 0 | 1 | 0 | 0 | 0 | 1 | 0 | 17.0 |  2.8900 |  4.913000 |   8.35210000 | 2550 | 8  | 9480 | 22 |\n",
       "| 32619 | 13.84615 | 2.628007 | 0 | 0 | 0 | 0 | 1 | 0 | 0 | 0 | 1 | 0 | 10.0 |  1.0000 |  1.000000 |   1.00000000 | 800  | 2  | 770  | 4  |\n",
       "| 32620 | 14.76923 | 2.692546 | 0 | 0 | 0 | 0 | 1 | 0 | 0 | 0 | 1 | 0 |  9.0 |  0.8100 |  0.729000 |   0.65610000 | 4700 | 16 | 4970 | 9  |\n",
       "| 32624 | 23.07692 | 3.138833 | 1 | 0 | 0 | 1 | 0 | 0 | 0 | 0 | 1 | 0 | 12.0 |  1.4400 |  1.728000 |   2.07360000 | 4110 | 13 | 8680 | 20 |\n",
       "\n"
      ],
      "text/plain": [
       "      wage      lwage    sex shs hsg scl clg ad  mw  so  we  ne  exp1 exp2   \n",
       "10     9.615385 2.263364 1   0   0   0   1   0   0   0   0   1    7.0  0.4900\n",
       "12    48.076923 3.872802 0   0   0   0   1   0   0   0   0   1   31.0  9.6100\n",
       "19    28.846154 3.361977 1   0   0   0   1   0   0   0   0   1   22.0  4.8400\n",
       "30    11.730769 2.462215 1   0   0   0   1   0   0   0   0   1    1.0  0.0100\n",
       "71    19.230769 2.956512 1   0   0   0   1   0   0   0   0   1    4.0  0.1600\n",
       "84    12.019231 2.486508 1   0   0   1   0   0   0   0   0   1    5.5  0.3025\n",
       "89    13.461538 2.599837 1   0   0   1   0   0   0   0   0   1   20.5  4.2025\n",
       "96    16.346154 2.793993 1   0   0   0   1   0   0   0   0   1   25.0  6.2500\n",
       "119    8.653846 2.158004 0   0   0   1   0   0   0   0   0   1    3.5  0.1225\n",
       "135   10.683761 2.368725 1   0   0   1   0   0   0   0   0   1    6.5  0.4225\n",
       "144   11.538462 2.445686 1   0   0   1   0   0   0   0   0   1    8.5  0.7225\n",
       "149   19.230769 2.956512 0   0   0   0   1   0   0   0   0   1   11.0  1.2100\n",
       "152   16.304348 2.791432 1   0   0   1   0   0   0   0   0   1   24.5  6.0025\n",
       "160   12.000000 2.484907 0   0   0   1   0   0   0   0   0   1    4.5  0.2025\n",
       "164   16.826923 2.822980 0   0   0   0   1   0   0   0   0   1    8.0  0.6400\n",
       "176   19.670330 2.979111 0   0   0   0   1   0   0   0   0   1   26.0  6.7600\n",
       "206   13.942308 2.634928 1   0   0   1   0   0   0   0   0   1   15.5  2.4025\n",
       "213   10.096154 2.312155 1   0   0   1   0   0   0   0   0   1    9.0  0.8100\n",
       "225   24.038462 3.179655 1   0   0   0   1   0   0   0   0   1   31.0  9.6100\n",
       "232   41.208791 3.718652 1   0   0   0   1   0   0   0   0   1   11.0  1.2100\n",
       "245   21.634615 3.074295 1   0   0   1   0   0   0   0   0   1   17.5  3.0625\n",
       "264   12.019231 2.486508 1   0   0   1   0   0   0   0   0   1    6.5  0.4225\n",
       "280    7.211538 1.975682 1   0   0   1   0   0   0   0   0   1   17.5  3.0625\n",
       "281   11.778846 2.466305 1   0   0   0   1   0   0   0   0   1    7.0  0.4900\n",
       "286   12.937063 2.560096 0   0   0   1   0   0   0   0   0   1   34.5 11.9025\n",
       "291   13.076923 2.570849 1   0   0   0   1   0   0   0   0   1   10.0  1.0000\n",
       "366   21.634615 3.074295 1   0   0   0   1   0   0   0   0   1   23.0  5.2900\n",
       "368    8.505917 2.140762 0   0   0   1   0   0   0   0   0   1    4.5  0.2025\n",
       "375   33.989267 3.526045 0   0   0   0   1   0   0   0   0   1   21.0  4.4100\n",
       "378   15.721154 2.755007 1   0   0   0   1   0   0   0   0   1    2.0  0.0400\n",
       "...   ...       ...      ... ... ... ... ... ... ... ... ... ... ...  ...    \n",
       "32313 33.65385  3.516127 0   0   0   1   0   0   0   0   1   0   24.5  6.0025\n",
       "32314 30.14553  3.406037 1   0   0   0   1   0   0   0   1   0   15.0  2.2500\n",
       "32347 12.01923  2.486508 1   0   0   1   0   0   0   0   1   0    9.5  0.9025\n",
       "32362 25.48077  3.237924 0   0   0   0   1   0   0   0   1   0   16.0  2.5600\n",
       "32388 22.59615  3.117780 1   0   0   1   0   0   0   0   1   0   11.5  1.3225\n",
       "32416 18.75000  2.931194 1   0   0   1   0   0   0   0   1   0   19.0  3.6100\n",
       "32419 29.91453  3.398344 1   0   0   0   1   0   0   0   1   0   39.0 15.2100\n",
       "32458 11.29808  2.424633 1   0   0   0   1   0   0   0   1   0   10.0  1.0000\n",
       "32468 16.02564  2.774190 1   0   0   1   0   0   0   0   1   0   11.0  1.2100\n",
       "32493 16.82692  2.822980 1   0   0   0   1   0   0   0   1   0    4.0  0.1600\n",
       "32497 10.57692  2.358675 0   0   0   0   1   0   0   0   1   0    8.0  0.6400\n",
       "32498 25.00000  3.218876 0   0   0   0   1   0   0   0   1   0   10.0  1.0000\n",
       "32502 15.38462  2.733368 0   0   0   1   0   0   0   0   1   0   17.5  3.0625\n",
       "32504 18.75000  2.931194 1   0   0   0   1   0   0   0   1   0    2.0  0.0400\n",
       "32509 20.91346  3.040393 1   0   0   1   0   0   0   0   1   0    4.5  0.2025\n",
       "32517 22.11538  3.096274 0   0   0   1   0   0   0   0   1   0    7.0  0.4900\n",
       "32528 12.01923  2.486508 0   0   0   1   0   0   0   0   1   0    4.0  0.1600\n",
       "32539 38.46154  3.649659 1   0   0   1   0   0   0   0   1   0    7.5  0.5625\n",
       "32540 28.84615  3.361977 0   0   0   0   1   0   0   0   1   0    5.0  0.2500\n",
       "32551 27.88462  3.328075 0   0   0   1   0   0   0   0   1   0   28.5  8.1225\n",
       "32561 38.46154  3.649659 0   0   0   0   1   0   0   0   1   0    8.0  0.6400\n",
       "32567 48.07692  3.872802 1   0   0   0   1   0   0   0   1   0   25.0  6.2500\n",
       "32579 12.01923  2.486508 0   0   0   1   0   0   0   0   1   0   31.5  9.9225\n",
       "32581 26.44231  3.274965 1   0   0   0   1   0   0   0   1   0   34.0 11.5600\n",
       "32593 21.15385  3.051822 0   0   0   0   1   0   0   0   1   0   28.0  7.8400\n",
       "32596 45.54656  3.818735 1   0   0   0   1   0   0   0   1   0    5.0  0.2500\n",
       "32606 24.03846  3.179655 1   0   0   0   1   0   0   0   1   0   17.0  2.8900\n",
       "32619 13.84615  2.628007 0   0   0   0   1   0   0   0   1   0   10.0  1.0000\n",
       "32620 14.76923  2.692546 0   0   0   0   1   0   0   0   1   0    9.0  0.8100\n",
       "32624 23.07692  3.138833 1   0   0   1   0   0   0   0   1   0   12.0  1.4400\n",
       "      exp3      exp4         occ  occ2 ind  ind2\n",
       "10     0.343000   0.24010000 3600 11   8370 18  \n",
       "12    29.791000  92.35210000 3050 10   5070 9   \n",
       "19    10.648000  23.42560000 2015 6    9470 22  \n",
       "30     0.001000   0.00010000 1650 5    7460 14  \n",
       "71     0.064000   0.02560000 3255 10   8190 18  \n",
       "84     0.166375   0.09150625 3600 11   8270 18  \n",
       "89     8.615125  17.66100625 3645 11   8190 18  \n",
       "96    15.625000  39.06250000 110  1    7870 17  \n",
       "119    0.042875   0.01500625 7410 20   570  3   \n",
       "135    0.274625   0.17850625 4300 15   8590 19  \n",
       "144    0.614125   0.52200625 3600 11   8190 18  \n",
       "149    1.331000   1.46410000 6200 19   770  4   \n",
       "152   14.706125  36.03000625 20   1    5480 9   \n",
       "160    0.091125   0.04100625 6330 19   770  4   \n",
       "164    0.512000   0.40960000 5400 17   4870 9   \n",
       "176   17.576000  45.69760000 6230 19   6570 11  \n",
       "206    3.723875   5.77200625 5860 17   4670 9   \n",
       "213    0.729000   0.65610000 3500 10   8090 18  \n",
       "225   29.791000  92.35210000 2630 9    4870 9   \n",
       "232    1.331000   1.46410000 4700 16   5790 9   \n",
       "245    5.359375   9.37890625 5400 17   6695 11  \n",
       "264    0.274625   0.17850625 4110 13   8680 20  \n",
       "280    5.359375   9.37890625 4720 16   4980 9   \n",
       "281    0.343000   0.24010000 5860 17   6870 12  \n",
       "286   41.063625 141.66950625 9000 22   5670 9   \n",
       "291    1.000000   1.00000000 725  2    8590 19  \n",
       "366   12.167000  27.98410000 3320 10   8190 18  \n",
       "368    0.091125   0.04100625 4220 14   8590 19  \n",
       "375    9.261000  19.44810000 5600 17   3680 6   \n",
       "378    0.008000   0.00160000 5940 17   8290 18  \n",
       "...   ...       ...          ...  ...  ...  ... \n",
       "32313 14.706125  36.03000625 6230 19   770  4   \n",
       "32314  3.375000   5.06250000 120  1    6870 12  \n",
       "32347  0.857375   0.81450625 4760 16   4890 9   \n",
       "32362  4.096000   6.55360000 7420 20   770  4   \n",
       "32388  1.520875   1.74900625 5240 17   6690 11  \n",
       "32416  6.859000  13.03210000 3649 11   8190 18  \n",
       "32419 59.319000 231.34410000 4700 16   5380 9   \n",
       "32458  1.000000   1.00000000 2060 6    9160 21  \n",
       "32468  1.331000   1.46410000 4720 16   5080 9   \n",
       "32493  0.064000   0.02560000 3648 11   7480 14  \n",
       "32497  0.512000   0.40960000 1550 4    9490 22  \n",
       "32498  1.000000   1.00000000 1310 4    770  4   \n",
       "32502  5.359375   9.37890625 2910 9    9090 21  \n",
       "32504  0.008000   0.00160000 2000 6    8370 18  \n",
       "32509  0.091125   0.04100625 4600 15   8470 18  \n",
       "32517  0.343000   0.24010000 410  1    7070 13  \n",
       "32528  0.064000   0.02560000 9620 22   6170 10  \n",
       "32539  0.421875   0.31640625 220  1    770  4   \n",
       "32540  0.125000   0.06250000 1360 4    770  4   \n",
       "32551 23.149125  65.97500625 8140 21   770  4   \n",
       "32561  0.512000   0.40960000 710  2    6870 12  \n",
       "32567 15.625000  39.06250000 3255 10   8170 18  \n",
       "32579 31.255875  98.45600625 5510 17   6380 10  \n",
       "32581 39.304000 133.63360000 2310 8    7860 17  \n",
       "32593 21.952000  61.46560000 40   1    9170 21  \n",
       "32596  0.125000   0.06250000 3255 10   8190 18  \n",
       "32606  4.913000   8.35210000 2550 8    9480 22  \n",
       "32619  1.000000   1.00000000 800  2    770  4   \n",
       "32620  0.729000   0.65610000 4700 16   4970 9   \n",
       "32624  1.728000   2.07360000 4110 13   8680 20  "
      ]
     },
     "metadata": {},
     "output_type": "display_data"
    }
   ],
   "source": [
    "data <- data[data$scl==1 |data$clg==1,]\n",
    "dim(data)\n",
    "data"
   ]
  },
  {
   "cell_type": "code",
   "execution_count": null,
   "id": "e4435782",
   "metadata": {},
   "outputs": [],
   "source": [
    "To start our (causal) analysis, we compare the sample means given gender:"
   ]
  },
  {
   "cell_type": "code",
   "execution_count": 9,
   "id": "6ac45d04",
   "metadata": {},
   "outputs": [
    {
     "name": "stderr",
     "output_type": "stream",
     "text": [
      "Warning message:\n",
      "\"package 'xtable' is in use and will not be installed\"\n"
     ]
    },
    {
     "data": {
      "text/html": [
       "<style>\n",
       ".list-inline {list-style: none; margin:0; padding: 0}\n",
       ".list-inline>li {display: inline-block}\n",
       ".list-inline>li:not(:last-child)::after {content: \"\\00b7\"; padding: 0 .5ex}\n",
       "</style>\n",
       "<ol class=list-inline><li>3068</li><li>12</li></ol>\n"
      ],
      "text/latex": [
       "\\begin{enumerate*}\n",
       "\\item 3068\n",
       "\\item 12\n",
       "\\end{enumerate*}\n"
      ],
      "text/markdown": [
       "1. 3068\n",
       "2. 12\n",
       "\n",
       "\n"
      ],
      "text/plain": [
       "[1] 3068   12"
      ]
     },
     "metadata": {},
     "output_type": "display_data"
    }
   ],
   "source": [
    "install.packages(\"xtable\")\n",
    "library(xtable)\n",
    "#we select the objects that we are going to use\n",
    "Z <- data[which(colnames(data) %in% c(\"lwage\",\"sex\",\"shs\",\"hsg\",\"scl\",\"clg\",\"ad\",\"ne\",\"mw\",\"so\",\"we\",\"exp1\"))]\n",
    "dim(Z)"
   ]
  },
  {
   "cell_type": "code",
   "execution_count": 10,
   "id": "01005fd6",
   "metadata": {},
   "outputs": [
    {
     "data": {
      "text/html": [
       "<table class=\"dataframe\">\n",
       "<caption>A xtable: 12 × 3</caption>\n",
       "<thead>\n",
       "\t<tr><th></th><th scope=col>All</th><th scope=col>Male</th><th scope=col>Female</th></tr>\n",
       "\t<tr><th></th><th scope=col>&lt;dbl&gt;</th><th scope=col>&lt;dbl&gt;</th><th scope=col>&lt;dbl&gt;</th></tr>\n",
       "</thead>\n",
       "<tbody>\n",
       "\t<tr><th scope=row>Log Wage</th><td> 3.0000223</td><td> 3.0384121</td><td> 2.9569035</td></tr>\n",
       "\t<tr><th scope=row>Sex</th><td> 0.4709909</td><td> 0.0000000</td><td> 1.0000000</td></tr>\n",
       "\t<tr><th scope=row>Less then High School</th><td> 0.0000000</td><td> 0.0000000</td><td> 0.0000000</td></tr>\n",
       "\t<tr><th scope=row>High School Graduate</th><td> 0.0000000</td><td> 0.0000000</td><td> 0.0000000</td></tr>\n",
       "\t<tr><th scope=row>Some College</th><td> 0.4667536</td><td> 0.4818238</td><td> 0.4498270</td></tr>\n",
       "\t<tr><th scope=row>Gollage Graduate</th><td> 0.5332464</td><td> 0.5181762</td><td> 0.5501730</td></tr>\n",
       "\t<tr><th scope=row>Advanced Degree</th><td> 0.0000000</td><td> 0.0000000</td><td> 0.0000000</td></tr>\n",
       "\t<tr><th scope=row>Northeast</th><td> 0.2659713</td><td> 0.2612446</td><td> 0.2712803</td></tr>\n",
       "\t<tr><th scope=row>Midwest</th><td> 0.2858540</td><td> 0.2908195</td><td> 0.2802768</td></tr>\n",
       "\t<tr><th scope=row>South</th><td> 0.2216428</td><td> 0.2285890</td><td> 0.2138408</td></tr>\n",
       "\t<tr><th scope=row>West</th><td> 0.2265319</td><td> 0.2193469</td><td> 0.2346021</td></tr>\n",
       "\t<tr><th scope=row>Experience</th><td>12.7009452</td><td>12.4331485</td><td>13.0017301</td></tr>\n",
       "</tbody>\n",
       "</table>\n"
      ],
      "text/latex": [
       "A xtable: 12 × 3\n",
       "\\begin{tabular}{r|lll}\n",
       "  & All & Male & Female\\\\\n",
       "  & <dbl> & <dbl> & <dbl>\\\\\n",
       "\\hline\n",
       "\tLog Wage &  3.0000223 &  3.0384121 &  2.9569035\\\\\n",
       "\tSex &  0.4709909 &  0.0000000 &  1.0000000\\\\\n",
       "\tLess then High School &  0.0000000 &  0.0000000 &  0.0000000\\\\\n",
       "\tHigh School Graduate &  0.0000000 &  0.0000000 &  0.0000000\\\\\n",
       "\tSome College &  0.4667536 &  0.4818238 &  0.4498270\\\\\n",
       "\tGollage Graduate &  0.5332464 &  0.5181762 &  0.5501730\\\\\n",
       "\tAdvanced Degree &  0.0000000 &  0.0000000 &  0.0000000\\\\\n",
       "\tNortheast &  0.2659713 &  0.2612446 &  0.2712803\\\\\n",
       "\tMidwest &  0.2858540 &  0.2908195 &  0.2802768\\\\\n",
       "\tSouth &  0.2216428 &  0.2285890 &  0.2138408\\\\\n",
       "\tWest &  0.2265319 &  0.2193469 &  0.2346021\\\\\n",
       "\tExperience & 12.7009452 & 12.4331485 & 13.0017301\\\\\n",
       "\\end{tabular}\n"
      ],
      "text/markdown": [
       "\n",
       "A xtable: 12 × 3\n",
       "\n",
       "| <!--/--> | All &lt;dbl&gt; | Male &lt;dbl&gt; | Female &lt;dbl&gt; |\n",
       "|---|---|---|---|\n",
       "| Log Wage |  3.0000223 |  3.0384121 |  2.9569035 |\n",
       "| Sex |  0.4709909 |  0.0000000 |  1.0000000 |\n",
       "| Less then High School |  0.0000000 |  0.0000000 |  0.0000000 |\n",
       "| High School Graduate |  0.0000000 |  0.0000000 |  0.0000000 |\n",
       "| Some College |  0.4667536 |  0.4818238 |  0.4498270 |\n",
       "| Gollage Graduate |  0.5332464 |  0.5181762 |  0.5501730 |\n",
       "| Advanced Degree |  0.0000000 |  0.0000000 |  0.0000000 |\n",
       "| Northeast |  0.2659713 |  0.2612446 |  0.2712803 |\n",
       "| Midwest |  0.2858540 |  0.2908195 |  0.2802768 |\n",
       "| South |  0.2216428 |  0.2285890 |  0.2138408 |\n",
       "| West |  0.2265319 |  0.2193469 |  0.2346021 |\n",
       "| Experience | 12.7009452 | 12.4331485 | 13.0017301 |\n",
       "\n"
      ],
      "text/plain": [
       "                      All        Male       Female    \n",
       "Log Wage               3.0000223  3.0384121  2.9569035\n",
       "Sex                    0.4709909  0.0000000  1.0000000\n",
       "Less then High School  0.0000000  0.0000000  0.0000000\n",
       "High School Graduate   0.0000000  0.0000000  0.0000000\n",
       "Some College           0.4667536  0.4818238  0.4498270\n",
       "Gollage Graduate       0.5332464  0.5181762  0.5501730\n",
       "Advanced Degree        0.0000000  0.0000000  0.0000000\n",
       "Northeast              0.2659713  0.2612446  0.2712803\n",
       "Midwest                0.2858540  0.2908195  0.2802768\n",
       "South                  0.2216428  0.2285890  0.2138408\n",
       "West                   0.2265319  0.2193469  0.2346021\n",
       "Experience            12.7009452 12.4331485 13.0017301"
      ]
     },
     "metadata": {},
     "output_type": "display_data"
    }
   ],
   "source": [
    "#Then, we filter the database again according to the gender of the individual\n",
    "\n",
    "data_female <- data[data$sex==1,]     #allows to filter the database\n",
    "Z_female <- data_female[which(colnames(data) %in% c(\"lwage\",\"sex\",\"shs\",\"hsg\",\"scl\",\"clg\",\"ad\",\"ne\",\"mw\",\"so\",\"we\",\"exp1\"))]\n",
    "\n",
    "\n",
    "data_male <- data[data$sex==0,]\n",
    "Z_male <- data_male[which(colnames(data) %in% c(\"lwage\",\"sex\",\"shs\",\"hsg\",\"scl\",\"clg\",\"ad\",\"ne\",\"mw\",\"so\",\"we\",\"exp1\"))]\n",
    "\n",
    "table <- matrix(0, 12, 3)\n",
    "table[1:12,1]   <- as.numeric(lapply(Z,mean))\n",
    "table[1:12,2]   <- as.numeric(lapply(Z_male,mean))\n",
    "table[1:12,3]   <- as.numeric(lapply(Z_female,mean))\n",
    "rownames(table) <- c(\"Log Wage\",\"Sex\",\"Less then High School\",\"High School Graduate\",\"Some College\",\"Gollage Graduate\",\"Advanced Degree\", \"Northeast\",\"Midwest\",\"South\",\"West\",\"Experience\")\n",
    "colnames(table) <- c(\"All\",\"Male\",\"Female\")\n",
    "tab<- xtable(table, digits = 4)\n",
    "tab"
   ]
  },
  {
   "cell_type": "markdown",
   "id": "2bfec83d",
   "metadata": {},
   "source": [
    "In particular, the table above shows that the difference in average logwage between men and women for the subset of college-educated workers is equal to  0,0815 . Also, we can notice that other education dimensions are zero since we have restricted the database to people with only college education."
   ]
  },
  {
   "cell_type": "code",
   "execution_count": 15,
   "id": "705284cf",
   "metadata": {},
   "outputs": [
    {
     "data": {
      "text/html": [
       "0.0815085550873591"
      ],
      "text/latex": [
       "0.0815085550873591"
      ],
      "text/markdown": [
       "0.0815085550873591"
      ],
      "text/plain": [
       "[1] 0.08150856"
      ]
     },
     "metadata": {},
     "output_type": "display_data"
    }
   ],
   "source": [
    "mean(data_male$lwage)-mean(data_female$lwage)"
   ]
  },
  {
   "cell_type": "code",
   "execution_count": 16,
   "id": "edc08b10",
   "metadata": {},
   "outputs": [
    {
     "data": {
      "text/html": [
       "0.0431638214129446"
      ],
      "text/latex": [
       "0.0431638214129446"
      ],
      "text/markdown": [
       "0.0431638214129446"
      ],
      "text/plain": [
       "[1] 0.04316382"
      ]
     },
     "metadata": {},
     "output_type": "display_data"
    }
   ],
   "source": [
    "x=0.08150855508735955 -0.03834473367441493 \n",
    "x"
   ]
  },
  {
   "cell_type": "markdown",
   "id": "f1b63006",
   "metadata": {},
   "source": [
    "Thus, the unconditional gender wage gap is about  8,2 % for the group of never married workers (women get paid less on average in our sample). In comparison to the general data base, the gender-gap is bigger by  4.32 %."
   ]
  },
  {
   "cell_type": "markdown",
   "id": "1c8f1277",
   "metadata": {},
   "source": [
    "This unconditional (predictive) effect of gender equals the coefficient $\\beta$ in the univariate ols regression of $Y$ on $D$:\n",
    "\n",
    "\\begin{align}\n",
    "\\log(Y) &=\\beta D + \\epsilon.\n",
    "\\end{align}"
   ]
  },
  {
   "cell_type": "markdown",
   "id": "02a7851e",
   "metadata": {},
   "source": [
    "We verify this by running an OLS regression in R."
   ]
  },
  {
   "cell_type": "code",
   "execution_count": 19,
   "id": "f3cb5d20",
   "metadata": {},
   "outputs": [
    {
     "name": "stderr",
     "output_type": "stream",
     "text": [
      "Warning message:\n",
      "\"package 'sandwich' is in use and will not be installed\"\n"
     ]
    },
    {
     "name": "stdout",
     "output_type": "stream",
     "text": [
      "The estimated gender coefficient is -0.08150856  and the corresponding robust standard error is 0.01957965"
     ]
    }
   ],
   "source": [
    "install.packages(\"sandwich\")\n",
    "library(sandwich)\n",
    "\n",
    "nocontrol.fit <- lm(data$lwage ~ data$sex) #no control model using lwage and the gender dummy\n",
    "nocontrol.est <- summary(nocontrol.fit)$coef[\"data$sex\",1]  #column of coefficients but only for the gender variable\n",
    "HCV.coefs <- vcovHC(nocontrol.fit, type = 'HC');\n",
    "nocontrol.se <- sqrt(diag(HCV.coefs))[2] # Estimated std errors\n",
    "\n",
    "# print unconditional effect of gender and the corresponding standard error\n",
    "cat (\"The estimated gender coefficient is\",nocontrol.est,\" and the corresponding robust standard error is\",nocontrol.se) \n"
   ]
  },
  {
   "cell_type": "markdown",
   "id": "d582d0fb",
   "metadata": {},
   "source": [
    "Next, we run an ols regression of $Y$ on $(D,W)$ to control for the effect of covariates summarized in $W$:\n",
    "\n",
    "\\begin{align}\n",
    "\\log(Y) &=\\beta_1 D  + \\beta_2' W + \\epsilon.\n",
    "\\end{align}\n",
    "\n",
    "Here, we are considering the flexible model from the previous lab. Hence, $W$ controls for experience, education, region, and occupation and industry indicators plus transformations and two-way interactions. \n",
    "It's important to notice that we don't include the education controls since, as seen before, the values related to \"shs\",\"hsg\",\"ad\" are all $0$."
   ]
  },
  {
   "cell_type": "markdown",
   "id": "6255b953",
   "metadata": {},
   "source": [
    "## OlS regression with controls"
   ]
  },
  {
   "cell_type": "code",
   "execution_count": 31,
   "id": "bc36b11e",
   "metadata": {},
   "outputs": [
    {
     "data": {
      "text/plain": [
       "\n",
       "Call:\n",
       "lm(formula = flex, data = data)\n",
       "\n",
       "Residuals:\n",
       "     Min       1Q   Median       3Q      Max \n",
       "-1.87897 -0.27894 -0.00777  0.25823  2.85755 \n",
       "\n",
       "Coefficients: (1 not defined because of singularities)\n",
       "              Estimate Std. Error t value Pr(>|t|)    \n",
       "(Intercept)  3.4357559  0.5208785   6.596 5.02e-11 ***\n",
       "sex         -0.0530623  0.0193532  -2.742 0.006149 ** \n",
       "exp1        -0.1962420  0.1996670  -0.983 0.325767    \n",
       "exp2         4.3105015  2.3797581   1.811 0.070197 .  \n",
       "exp3        -2.3067253  1.0176306  -2.267 0.023480 *  \n",
       "exp4         0.3513392  0.1382879   2.541 0.011118 *  \n",
       "clg          0.2498673  0.1237850   2.019 0.043627 *  \n",
       "occ22        0.2151993  0.1582208   1.360 0.173900    \n",
       "occ23        0.0487642  0.2095297   0.233 0.815986    \n",
       "occ24        0.0281449  0.2300084   0.122 0.902619    \n",
       "occ25       -0.2711807  0.3944166  -0.688 0.491793    \n",
       "occ26       -0.2000530  0.2705614  -0.739 0.459725    \n",
       "occ27       -0.1203371  0.4188017  -0.287 0.773875    \n",
       "occ28       -0.1719401  0.2721490  -0.632 0.527577    \n",
       "occ29       -0.3963629  0.2050361  -1.933 0.053319 .  \n",
       "occ210       0.0919819  0.2432203   0.378 0.705323    \n",
       "occ211      -0.4994175  0.4368584  -1.143 0.253051    \n",
       "occ212       0.1901009  0.3411417   0.557 0.577401    \n",
       "occ213      -0.1945287  0.2718809  -0.715 0.474364    \n",
       "occ214       0.3010030  0.3808385   0.790 0.429378    \n",
       "occ215      -0.3369933  0.3356632  -1.004 0.315482    \n",
       "occ216      -0.0407369  0.1712462  -0.238 0.811987    \n",
       "occ217      -0.4552186  0.1586012  -2.870 0.004132 ** \n",
       "occ218      -0.0100153  2.2144365  -0.005 0.996392    \n",
       "occ219       0.0020488  0.4191796   0.005 0.996101    \n",
       "occ220      -0.4223277  0.2607281  -1.620 0.105386    \n",
       "occ221      -0.9012886  0.2869692  -3.141 0.001703 ** \n",
       "occ222      -0.0168748  0.4864599  -0.035 0.972330    \n",
       "ind23       -0.9374763  0.7630580  -1.229 0.219332    \n",
       "ind24        0.0473118  0.5593258   0.085 0.932596    \n",
       "ind25       -0.3770690  0.5232052  -0.721 0.471159    \n",
       "ind26       -0.5542517  0.5190253  -1.068 0.285670    \n",
       "ind27       -0.2812532  0.5714904  -0.492 0.622659    \n",
       "ind28       -0.6504243  0.5874717  -1.107 0.268319    \n",
       "ind29       -0.8045381  0.5094802  -1.579 0.114416    \n",
       "ind210      -0.4506545  0.5675561  -0.794 0.427246    \n",
       "ind211      -0.6634660  0.5259447  -1.261 0.207241    \n",
       "ind212      -0.6138007  0.5032946  -1.220 0.222731    \n",
       "ind213      -0.8964483  0.5817196  -1.541 0.123421    \n",
       "ind214      -0.3901374  0.4977512  -0.784 0.433223    \n",
       "ind215      -0.4653004  0.6882201  -0.676 0.499037    \n",
       "ind216      -0.5080079  0.5281966  -0.962 0.336243    \n",
       "ind217      -0.8686633  0.5294785  -1.641 0.100991    \n",
       "ind218      -0.6396953  0.5155592  -1.241 0.214790    \n",
       "ind219      -0.7415211  0.5552430  -1.335 0.181823    \n",
       "ind220      -0.8142791  0.5275884  -1.543 0.122846    \n",
       "ind221      -0.4997641  0.5348108  -0.934 0.350142    \n",
       "ind222      -0.3786290  0.5405464  -0.700 0.483700    \n",
       "mw           0.1958465  0.1068723   1.833 0.066978 .  \n",
       "so          -0.0346190  0.1042672  -0.332 0.739897    \n",
       "we           0.1261936  0.1184244   1.066 0.286693    \n",
       "exp1:clg     0.0121646  0.0407919   0.298 0.765565    \n",
       "exp1:occ22  -0.0631144  0.0630037  -1.002 0.316546    \n",
       "exp1:occ23   0.0326274  0.0794502   0.411 0.681349    \n",
       "exp1:occ24   0.0107059  0.0949665   0.113 0.910250    \n",
       "exp1:occ25  -0.0274672  0.2001848  -0.137 0.890875    \n",
       "exp1:occ26  -0.0527366  0.1119821  -0.471 0.637721    \n",
       "exp1:occ27  -0.1087102  0.1600695  -0.679 0.497102    \n",
       "exp1:occ28  -0.0371404  0.1035842  -0.359 0.719956    \n",
       "exp1:occ29   0.1021025  0.0830679   1.229 0.219119    \n",
       "exp1:occ210  0.0022818  0.0933261   0.024 0.980496    \n",
       "exp1:occ211  0.0369873  0.1571990   0.235 0.814001    \n",
       "exp1:occ212 -0.1062438  0.1222611  -0.869 0.384926    \n",
       "exp1:occ213  0.0483902  0.0983858   0.492 0.622870    \n",
       "exp1:occ214 -0.1209127  0.1397766  -0.865 0.387089    \n",
       "exp1:occ215  0.0107765  0.1230134   0.088 0.930198    \n",
       "exp1:occ216 -0.0377813  0.0639815  -0.591 0.554901    \n",
       "exp1:occ217  0.0473737  0.0588764   0.805 0.421101    \n",
       "exp1:occ218 -0.1554316  1.1024362  -0.141 0.887888    \n",
       "exp1:occ219 -0.0605324  0.1437029  -0.421 0.673617    \n",
       "exp1:occ220  0.0931849  0.0910362   1.024 0.306110    \n",
       "exp1:occ221  0.3231623  0.1010818   3.197 0.001404 ** \n",
       "exp1:occ222 -0.1560741  0.1581812  -0.987 0.323884    \n",
       "exp1:ind23   0.4320231  0.3058459   1.413 0.157897    \n",
       "exp1:ind24   0.0409994  0.2080253   0.197 0.843772    \n",
       "exp1:ind25   0.1841740  0.2047239   0.900 0.368398    \n",
       "exp1:ind26   0.2255280  0.2011211   1.121 0.262232    \n",
       "exp1:ind27   0.1073133  0.2233358   0.481 0.630908    \n",
       "exp1:ind28   0.2545921  0.2458909   1.035 0.300577    \n",
       "exp1:ind29   0.2092253  0.1968917   1.063 0.288035    \n",
       "exp1:ind210  0.1807059  0.2171637   0.832 0.405412    \n",
       "exp1:ind211  0.2579344  0.2042452   1.263 0.206741    \n",
       "exp1:ind212  0.3170780  0.1967145   1.612 0.107102    \n",
       "exp1:ind213  0.3800928  0.2177404   1.746 0.080985 .  \n",
       "exp1:ind214  0.1408305  0.1946484   0.724 0.469425    \n",
       "exp1:ind215  0.1026476  0.3307499   0.310 0.756319    \n",
       "exp1:ind216  0.1427221  0.2064100   0.691 0.489340    \n",
       "exp1:ind217  0.2977947  0.2040966   1.459 0.144652    \n",
       "exp1:ind218  0.1962564  0.1997709   0.982 0.325983    \n",
       "exp1:ind219  0.1711574  0.2131201   0.803 0.421983    \n",
       "exp1:ind220  0.1746944  0.2031650   0.860 0.389936    \n",
       "exp1:ind221  0.2100177  0.2057559   1.021 0.307477    \n",
       "exp1:ind222  0.1893985  0.2053893   0.922 0.356532    \n",
       "exp1:mw     -0.0619563  0.0418241  -1.481 0.138623    \n",
       "exp1:so      0.0057820  0.0396763   0.146 0.884145    \n",
       "exp1:we     -0.0478640  0.0437059  -1.095 0.273548    \n",
       "exp2:clg    -0.2216086  0.4133059  -0.536 0.591873    \n",
       "exp2:occ22   0.2989342  0.7038148   0.425 0.671063    \n",
       "exp2:occ23  -0.7211942  0.8855311  -0.814 0.415473    \n",
       "exp2:occ24  -0.2699265  1.0959123  -0.246 0.805465    \n",
       "exp2:occ25   1.4532318  3.0067008   0.483 0.628898    \n",
       "exp2:occ26   0.3834942  1.3720465   0.280 0.779877    \n",
       "exp2:occ27   1.1812006  1.8784828   0.629 0.529527    \n",
       "exp2:occ28  -0.0274218  1.1533003  -0.024 0.981032    \n",
       "exp2:occ29  -1.0621384  0.9470416  -1.122 0.262156    \n",
       "exp2:occ210 -0.3264796  1.0432172  -0.313 0.754338    \n",
       "exp2:occ211 -0.3405652  1.7015462  -0.200 0.841377    \n",
       "exp2:occ212  0.6041155  1.3414334   0.450 0.652492    \n",
       "exp2:occ213 -0.9011013  1.0454393  -0.862 0.388796    \n",
       "exp2:occ214  0.1176365  1.5082483   0.078 0.937837    \n",
       "exp2:occ215 -0.5498030  1.3291914  -0.414 0.679171    \n",
       "exp2:occ216  0.0849304  0.6979720   0.122 0.903160    \n",
       "exp2:occ217 -0.7493648  0.6435325  -1.164 0.244337    \n",
       "exp2:occ218  0.7439583  9.3110051   0.080 0.936322    \n",
       "exp2:occ219  0.5498894  1.4906630   0.369 0.712238    \n",
       "exp2:occ220 -1.0158810  0.9425130  -1.078 0.281195    \n",
       "exp2:occ221 -3.9371723  1.0692967  -3.682 0.000236 ***\n",
       "exp2:occ222  1.5179725  1.5342157   0.989 0.322546    \n",
       "exp2:ind23  -6.4796151  3.7990841  -1.706 0.088197 .  \n",
       "exp2:ind24  -2.6872131  2.4441668  -1.099 0.271670    \n",
       "exp2:ind25  -4.1468398  2.4445725  -1.696 0.089930 .  \n",
       "exp2:ind26  -4.2139999  2.3991488  -1.756 0.079118 .  \n",
       "exp2:ind27  -2.7331923  2.6960937  -1.014 0.310784    \n",
       "exp2:ind28  -3.6656460  3.0702318  -1.194 0.232605    \n",
       "exp2:ind29  -3.8996457  2.3582733  -1.654 0.098319 .  \n",
       "exp2:ind210 -3.7035161  2.5382076  -1.459 0.144646    \n",
       "exp2:ind211 -4.5216510  2.4414956  -1.852 0.064130 .  \n",
       "exp2:ind212 -5.1083392  2.3679500  -2.157 0.031067 *  \n",
       "exp2:ind213 -5.6691510  2.5320131  -2.239 0.025234 *  \n",
       "exp2:ind214 -3.1313860  2.3469954  -1.334 0.182242    \n",
       "exp2:ind215 -2.6414528  3.7445752  -0.705 0.480614    \n",
       "exp2:ind216 -3.0267086  2.4664224  -1.227 0.219862    \n",
       "exp2:ind217 -4.7822893  2.4320783  -1.966 0.049357 *  \n",
       "exp2:ind218 -3.8782338  2.3922113  -1.621 0.105088    \n",
       "exp2:ind219 -3.3586261  2.5047964  -1.341 0.180067    \n",
       "exp2:ind220 -3.6271074  2.4173138  -1.500 0.133604    \n",
       "exp2:ind221 -4.0217328  2.4434433  -1.646 0.099889 .  \n",
       "exp2:ind222 -3.7684447  2.4233956  -1.555 0.120051    \n",
       "exp2:mw      0.4838242  0.4691702   1.031 0.302519    \n",
       "exp2:so     -0.0426958  0.4329768  -0.099 0.921455    \n",
       "exp2:we      0.5774804  0.4682555   1.233 0.217581    \n",
       "exp3:clg     0.1002865  0.1583125   0.633 0.526477    \n",
       "exp3:occ22   0.0005287  0.2849249   0.002 0.998519    \n",
       "exp3:occ23   0.3479651  0.3602479   0.966 0.334174    \n",
       "exp3:occ24   0.1327043  0.4490244   0.296 0.767604    \n",
       "exp3:occ25  -1.2675466  1.6239177  -0.781 0.435133    \n",
       "exp3:occ26  -0.0861625  0.6102063  -0.141 0.887720    \n",
       "exp3:occ27  -0.5391536  0.7984378  -0.675 0.499565    \n",
       "exp3:occ28   0.1250242  0.4640841   0.269 0.787642    \n",
       "exp3:occ29   0.3956094  0.3894184   1.016 0.309765    \n",
       "exp3:occ210  0.2356222  0.4270044   0.552 0.581127    \n",
       "exp3:occ211  0.0850896  0.6938821   0.123 0.902410    \n",
       "exp3:occ212  0.0109101  0.5433951   0.020 0.983983    \n",
       "exp3:occ213  0.4099807  0.4063159   1.009 0.313051    \n",
       "exp3:occ214  0.2328011  0.5737599   0.406 0.684959    \n",
       "exp3:occ215  0.3691372  0.5352416   0.690 0.490461    \n",
       "exp3:occ216  0.0915397  0.2798629   0.327 0.743626    \n",
       "exp3:occ217  0.3684352  0.2584120   1.426 0.154046    \n",
       "exp3:occ218 -0.0728607  1.8129821  -0.040 0.967946    \n",
       "exp3:occ219 -0.2037610  0.5768151  -0.353 0.723926    \n",
       "exp3:occ220  0.3824008  0.3642037   1.050 0.293824    \n",
       "exp3:occ221  1.6041311  0.4182354   3.835 0.000128 ***\n",
       "exp3:occ222 -0.5099737  0.5635594  -0.905 0.365587    \n",
       "exp3:ind23   3.2238995  1.7561719   1.836 0.066499 .  \n",
       "exp3:ind24   1.7349800  1.0365754   1.674 0.094288 .  \n",
       "exp3:ind25   2.2421191  1.0432430   2.149 0.031704 *  \n",
       "exp3:ind26   2.2146931  1.0241983   2.162 0.030673 *  \n",
       "exp3:ind27   1.5675521  1.1690776   1.341 0.180078    \n",
       "exp3:ind28   1.5399859  1.3940927   1.105 0.269404    \n",
       "exp3:ind29   2.0399792  1.0113099   2.017 0.043772 *  \n",
       "exp3:ind210  1.9816265  1.0709584   1.850 0.064370 .  \n",
       "exp3:ind211  2.3280002  1.0447922   2.228 0.025946 *  \n",
       "exp3:ind212  2.4986874  1.0171023   2.457 0.014083 *  \n",
       "exp3:ind213  2.6780049  1.0660293   2.512 0.012056 *  \n",
       "exp3:ind214  1.7526421  1.0095029   1.736 0.082647 .  \n",
       "exp3:ind215  1.5784535  1.4815769   1.065 0.286791    \n",
       "exp3:ind216  1.6946544  1.0516350   1.611 0.107193    \n",
       "exp3:ind217  2.3526755  1.0380306   2.266 0.023497 *  \n",
       "exp3:ind218  2.0716863  1.0267137   2.018 0.043708 *  \n",
       "exp3:ind219  1.8267916  1.0604717   1.723 0.085066 .  \n",
       "exp3:ind220  1.9671974  1.0307281   1.909 0.056421 .  \n",
       "exp3:ind221  2.0920770  1.0421031   2.008 0.044785 *  \n",
       "exp3:ind222  2.0075028  1.0304724   1.948 0.051497 .  \n",
       "exp3:mw     -0.1453989  0.1922868  -0.756 0.449618    \n",
       "exp3:so      0.0184796  0.1727892   0.107 0.914837    \n",
       "exp3:we     -0.2308636  0.1843977  -1.252 0.210678    \n",
       "exp4:clg    -0.0134666  0.0201340  -0.669 0.503646    \n",
       "exp4:occ22  -0.0133900  0.0376888  -0.355 0.722407    \n",
       "exp4:occ23  -0.0486518  0.0476989  -1.020 0.307826    \n",
       "exp4:occ24  -0.0223191  0.0593293  -0.376 0.706803    \n",
       "exp4:occ25   0.2845962  0.2824632   1.008 0.313756    \n",
       "exp4:occ26   0.0035336  0.0875725   0.040 0.967817    \n",
       "exp4:occ27   0.0789030  0.1085605   0.727 0.467402    \n",
       "exp4:occ28  -0.0258852  0.0605593  -0.427 0.669095    \n",
       "exp4:occ29  -0.0479087  0.0519869  -0.922 0.356840    \n",
       "exp4:occ210 -0.0411370  0.0572458  -0.719 0.472444    \n",
       "exp4:occ211 -0.0044897  0.0932319  -0.048 0.961595    \n",
       "exp4:occ212 -0.0327767  0.0723612  -0.453 0.650612    \n",
       "exp4:occ213 -0.0574088  0.0515849  -1.113 0.265846    \n",
       "exp4:occ214 -0.0524263  0.0705276  -0.743 0.457335    \n",
       "exp4:occ215 -0.0619990  0.0708724  -0.875 0.381758    \n",
       "exp4:occ216 -0.0264713  0.0367893  -0.720 0.471869    \n",
       "exp4:occ217 -0.0553914  0.0339714  -1.631 0.103100    \n",
       "exp4:occ218         NA         NA      NA       NA    \n",
       "exp4:occ219  0.0241359  0.0730760   0.330 0.741209    \n",
       "exp4:occ220 -0.0471960  0.0464443  -1.016 0.309628    \n",
       "exp4:occ221 -0.2092063  0.0539166  -3.880 0.000107 ***\n",
       "exp4:occ222  0.0540559  0.0691569   0.782 0.434490    \n",
       "exp4:ind23  -0.4970867  0.2682290  -1.853 0.063955 .  \n",
       "exp4:ind24  -0.2847302  0.1398614  -2.036 0.041863 *  \n",
       "exp4:ind25  -0.3402683  0.1415826  -2.403 0.016311 *  \n",
       "exp4:ind26  -0.3338771  0.1389338  -2.403 0.016319 *  \n",
       "exp4:ind27  -0.2444006  0.1615297  -1.513 0.130381    \n",
       "exp4:ind28  -0.1894363  0.2043155  -0.927 0.353914    \n",
       "exp4:ind29  -0.3070943  0.1377034  -2.230 0.025818 *  \n",
       "exp4:ind210 -0.3006797  0.1444260  -2.082 0.037441 *  \n",
       "exp4:ind211 -0.3499129  0.1421750  -2.461 0.013909 *  \n",
       "exp4:ind212 -0.3640899  0.1386132  -2.627 0.008669 ** \n",
       "exp4:ind213 -0.3836270  0.1434293  -2.675 0.007523 ** \n",
       "exp4:ind214 -0.2725083  0.1376981  -1.979 0.047909 *  \n",
       "exp4:ind215 -0.2549218  0.1891411  -1.348 0.177835    \n",
       "exp4:ind216 -0.2662393  0.1425528  -1.868 0.061913 .  \n",
       "exp4:ind217 -0.3434539  0.1408491  -2.438 0.014811 *  \n",
       "exp4:ind218 -0.3168784  0.1401819  -2.260 0.023867 *  \n",
       "exp4:ind219 -0.2815085  0.1433510  -1.964 0.049654 *  \n",
       "exp4:ind220 -0.3038212  0.1397946  -2.173 0.029837 *  \n",
       "exp4:ind221 -0.3142711  0.1414218  -2.222 0.026347 *  \n",
       "exp4:ind222 -0.3061402  0.1396051  -2.193 0.028395 *  \n",
       "exp4:mw      0.0142872  0.0258136   0.553 0.579980    \n",
       "exp4:so     -0.0037591  0.0225465  -0.167 0.867598    \n",
       "exp4:we      0.0282864  0.0238123   1.188 0.234976    \n",
       "---\n",
       "Signif. codes:  0 '***' 0.001 '**' 0.01 '*' 0.05 '.' 0.1 ' ' 1\n",
       "\n",
       "Residual standard error: 0.4635 on 2838 degrees of freedom\n",
       "Multiple R-squared:  0.3295,\tAdjusted R-squared:  0.2754 \n",
       "F-statistic: 6.091 on 229 and 2838 DF,  p-value: < 2.2e-16\n"
      ]
     },
     "metadata": {},
     "output_type": "display_data"
    }
   ],
   "source": [
    "flex <- lwage ~ sex + (exp1+exp2+exp3+exp4)*(clg+occ2+ind2+mw+so+we)\n",
    "\n",
    "#   Note that ()*() operation in formula objects in R creates a formula of the sort:\n",
    "#  (exp1+exp2+exp3+exp4)+ (shs+hsg+scl+clg+occ2+ind2+mw+so+we) +  (exp1+exp2+exp3+exp4)*(shs+hsg+scl+clg+occ2+ind2+mw+so+we)\n",
    "#  This is not intuitive at all, but that's what it does.\n",
    "\n",
    "control.fit <- lm(flex, data=data)\n",
    "control.est <- summary(control.fit)$coef[2,1]\n",
    "\n",
    "summary(control.fit)\n",
    "\n"
   ]
  },
  {
   "cell_type": "code",
   "execution_count": 32,
   "id": "5301b57d",
   "metadata": {},
   "outputs": [
    {
     "name": "stdout",
     "output_type": "stream",
     "text": [
      "Coefficient for OLS with controls -0.05306234"
     ]
    }
   ],
   "source": [
    "cat(\"Coefficient for OLS with controls\", control.est)\n",
    "\n",
    "HCV.coefs <- vcovHC(control.fit, type = 'HC');\n"
   ]
  },
  {
   "cell_type": "code",
   "execution_count": 34,
   "id": "a904827f",
   "metadata": {},
   "outputs": [
    {
     "name": "stdout",
     "output_type": "stream",
     "text": [
      "The standard error for OLS with controls 0.01835285"
     ]
    }
   ],
   "source": [
    "control.se <- sqrt(diag(HCV.coefs))[2] # Estimated std errors\n",
    "cat(\"The standard error for OLS with controls\", control.se)"
   ]
  },
  {
   "cell_type": "markdown",
   "id": "d2f48748",
   "metadata": {},
   "source": [
    "The estimated regression coefficient  𝛽1≈-0.05306234  measures how our linear prediction of wage changes if we set the gender variable  𝐷  from 0 to 1, holding the controls  𝑊  fixed "
   ]
  }
 ],
 "metadata": {
  "kernelspec": {
   "display_name": "R",
   "language": "R",
   "name": "ir"
  },
  "language_info": {
   "codemirror_mode": "r",
   "file_extension": ".r",
   "mimetype": "text/x-r-source",
   "name": "R",
   "pygments_lexer": "r",
   "version": "4.1.3"
  }
 },
 "nbformat": 4,
 "nbformat_minor": 5
}
