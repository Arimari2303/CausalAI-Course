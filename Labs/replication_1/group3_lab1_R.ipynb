{
 "cells": [
  {
   "cell_type": "markdown",
   "id": "02025c57",
   "metadata": {},
   "source": [
    "## Group3\n",
    "#### Members\n",
    "1. Andrea Ulloa ()\n",
    "2. Ana Angulo (20171627)\n",
    "3. Angela Coapaza (20171636) \n"
   ]
  },
  {
   "cell_type": "markdown",
   "id": "81b4a49c",
   "metadata": {},
   "source": [
    "## Question 1:"
   ]
  },
  {
   "cell_type": "markdown",
   "id": "7a0cd8de",
   "metadata": {},
   "source": [
    "## An Inferencial Problem: The College-Educated Wage Gap\n",
    "Using the data from the March Supplement of the U.S. Current Population Survey (2015) , in  this lab, we are going to focus in  payments of the college-educated workers and answer the following inference question:\n",
    "\n",
    "What is the difference in predicted wages between workers with some college education (scl) versus college graduate workers(clg)?\n",
    "\n",
    "To investigate the College-Educated Wage Gap, we consider the following log-linear regression model:\n",
    "\n",
    "\\begin{align}\n",
    "\\log(Y) &= \\beta'X + \\epsilon\\\\\n",
    "&= \\beta_1 SCL  + \\beta_2' CLG + \\beta_2'W   \\epsilon,\n",
    "\\end{align}\n",
    "\n",
    "Where  SCL is the indicator of workers with some college education( 1  if yes 0  otherwise), CLG is the indicator of college graduate workers (1  if yes 0  otherwise) and the  𝑊 's are controls explaining variation in wages. Considering transformed wages by the logarithm, we are analyzing the relative difference in the payment of workers with some college education and college graduate workers. \n"
   ]
  },
  {
   "cell_type": "markdown",
   "id": "8c114e3b",
   "metadata": {},
   "source": [
    "## Data Analysis"
   ]
  },
  {
   "cell_type": "markdown",
   "id": "891a5014",
   "metadata": {},
   "source": [
    "We consider the same subsample of the U.S. Current Population Survey (2015) as in the previous lab. Let us load the data set."
   ]
  },
  {
   "cell_type": "code",
   "execution_count": 29,
   "id": "b718002d",
   "metadata": {
    "scrolled": true
   },
   "outputs": [
    {
     "name": "stderr",
     "output_type": "stream",
     "text": [
      "The following objects are masked from data (pos = 3):\n",
      "\n",
      "    ad, clg, exp1, exp2, exp3, exp4, hsg, ind, ind2, lwage, mw, ne,\n",
      "    occ, occ2, scl, sex, shs, so, wage, we\n",
      "\n",
      "\n"
     ]
    },
    {
     "data": {
      "text/html": [
       "<style>\n",
       ".list-inline {list-style: none; margin:0; padding: 0}\n",
       ".list-inline>li {display: inline-block}\n",
       ".list-inline>li:not(:last-child)::after {content: \"\\00b7\"; padding: 0 .5ex}\n",
       "</style>\n",
       "<ol class=list-inline><li>5150</li><li>20</li></ol>\n"
      ],
      "text/latex": [
       "\\begin{enumerate*}\n",
       "\\item 5150\n",
       "\\item 20\n",
       "\\end{enumerate*}\n"
      ],
      "text/markdown": [
       "1. 5150\n",
       "2. 20\n",
       "\n",
       "\n"
      ],
      "text/plain": [
       "[1] 5150   20"
      ]
     },
     "metadata": {},
     "output_type": "display_data"
    }
   ],
   "source": [
    "load(\"../../data/wage2015_subsample_inference.Rdata\")\n",
    "attach(data) \n",
    "\n",
    "dim(data)"
   ]
  },
  {
   "cell_type": "markdown",
   "id": "e3e1d33b",
   "metadata": {},
   "source": [
    "***Variable description***\n",
    "\n",
    "- occ : occupational classification\n",
    "- ind : industry classification\n",
    "- lwage : log hourly wage\n",
    "- sex : gender (1 female) (0 male)\n",
    "- shs : some high school\n",
    "- hsg : High school graduated\n",
    "- scl : Some College\n",
    "- clg: College Graduate\n",
    "- ad: Advanced Degree\n",
    "- ne: Northeast\n",
    "- mw: Midwest\n",
    "- so: South\n",
    "- we: West\n",
    "- exp1: experience"
   ]
  },
  {
   "cell_type": "markdown",
   "id": "3bc5730f",
   "metadata": {},
   "source": [
    "To start our (causal) analysis, we compare the sample means given college education:"
   ]
  },
  {
   "cell_type": "code",
   "execution_count": 30,
   "id": "df221a7c",
   "metadata": {},
   "outputs": [
    {
     "data": {
      "text/html": [
       "<style>\n",
       ".list-inline {list-style: none; margin:0; padding: 0}\n",
       ".list-inline>li {display: inline-block}\n",
       ".list-inline>li:not(:last-child)::after {content: \"\\00b7\"; padding: 0 .5ex}\n",
       "</style>\n",
       "<ol class=list-inline><li>'wage'</li><li>'lwage'</li><li>'sex'</li><li>'shs'</li><li>'hsg'</li><li>'scl'</li><li>'clg'</li><li>'ad'</li><li>'mw'</li><li>'so'</li><li>'we'</li><li>'ne'</li><li>'exp1'</li><li>'exp2'</li><li>'exp3'</li><li>'exp4'</li><li>'occ'</li><li>'occ2'</li><li>'ind'</li><li>'ind2'</li></ol>\n"
      ],
      "text/latex": [
       "\\begin{enumerate*}\n",
       "\\item 'wage'\n",
       "\\item 'lwage'\n",
       "\\item 'sex'\n",
       "\\item 'shs'\n",
       "\\item 'hsg'\n",
       "\\item 'scl'\n",
       "\\item 'clg'\n",
       "\\item 'ad'\n",
       "\\item 'mw'\n",
       "\\item 'so'\n",
       "\\item 'we'\n",
       "\\item 'ne'\n",
       "\\item 'exp1'\n",
       "\\item 'exp2'\n",
       "\\item 'exp3'\n",
       "\\item 'exp4'\n",
       "\\item 'occ'\n",
       "\\item 'occ2'\n",
       "\\item 'ind'\n",
       "\\item 'ind2'\n",
       "\\end{enumerate*}\n"
      ],
      "text/markdown": [
       "1. 'wage'\n",
       "2. 'lwage'\n",
       "3. 'sex'\n",
       "4. 'shs'\n",
       "5. 'hsg'\n",
       "6. 'scl'\n",
       "7. 'clg'\n",
       "8. 'ad'\n",
       "9. 'mw'\n",
       "10. 'so'\n",
       "11. 'we'\n",
       "12. 'ne'\n",
       "13. 'exp1'\n",
       "14. 'exp2'\n",
       "15. 'exp3'\n",
       "16. 'exp4'\n",
       "17. 'occ'\n",
       "18. 'occ2'\n",
       "19. 'ind'\n",
       "20. 'ind2'\n",
       "\n",
       "\n"
      ],
      "text/plain": [
       " [1] \"wage\"  \"lwage\" \"sex\"   \"shs\"   \"hsg\"   \"scl\"   \"clg\"   \"ad\"    \"mw\"   \n",
       "[10] \"so\"    \"we\"    \"ne\"    \"exp1\"  \"exp2\"  \"exp3\"  \"exp4\"  \"occ\"   \"occ2\" \n",
       "[19] \"ind\"   \"ind2\" "
      ]
     },
     "metadata": {},
     "output_type": "display_data"
    }
   ],
   "source": [
    "colnames(data)  #allows to obtain the name of each variable of the base"
   ]
  },
  {
   "cell_type": "code",
   "execution_count": 33,
   "id": "8c1e514e",
   "metadata": {},
   "outputs": [
    {
     "name": "stderr",
     "output_type": "stream",
     "text": [
      "Warning message:\n",
      "\"package 'xtable' is in use and will not be installed\"\n"
     ]
    },
    {
     "data": {
      "text/html": [
       "<table class=\"dataframe\">\n",
       "<caption>A xtable: 12 × 3</caption>\n",
       "<thead>\n",
       "\t<tr><th></th><th scope=col>All</th><th scope=col>scl</th><th scope=col>clg</th></tr>\n",
       "\t<tr><th></th><th scope=col>&lt;dbl&gt;</th><th scope=col>&lt;dbl&gt;</th><th scope=col>&lt;dbl&gt;</th></tr>\n",
       "</thead>\n",
       "<tbody>\n",
       "\t<tr><th scope=row>Log Wage</th><td> 2.97078670</td><td> 2.8473351</td><td> 3.1336703</td></tr>\n",
       "\t<tr><th scope=row>Sex</th><td> 0.44446602</td><td> 0.4539106</td><td> 0.4859413</td></tr>\n",
       "\t<tr><th scope=row>Less then High School</th><td> 0.02330097</td><td> 0.0000000</td><td> 0.0000000</td></tr>\n",
       "\t<tr><th scope=row>High School Graduate</th><td> 0.24388350</td><td> 0.0000000</td><td> 0.0000000</td></tr>\n",
       "\t<tr><th scope=row>Some College</th><td> 0.27805825</td><td> 1.0000000</td><td> 0.0000000</td></tr>\n",
       "\t<tr><th scope=row>Gollage Graduate</th><td> 0.31766990</td><td> 0.0000000</td><td> 1.0000000</td></tr>\n",
       "\t<tr><th scope=row>Advanced Degree</th><td> 0.13708738</td><td> 0.0000000</td><td> 0.0000000</td></tr>\n",
       "\t<tr><th scope=row>Northeast</th><td> 0.25961165</td><td> 0.3058659</td><td> 0.2310513</td></tr>\n",
       "\t<tr><th scope=row>Midwest</th><td> 0.29650485</td><td> 0.2821229</td><td> 0.2891198</td></tr>\n",
       "\t<tr><th scope=row>South</th><td> 0.21611650</td><td> 0.2255587</td><td> 0.2182152</td></tr>\n",
       "\t<tr><th scope=row>West</th><td> 0.22776699</td><td> 0.1864525</td><td> 0.2616137</td></tr>\n",
       "\t<tr><th scope=row>Experience</th><td>13.76058252</td><td>14.6826117</td><td>10.9663814</td></tr>\n",
       "</tbody>\n",
       "</table>\n"
      ],
      "text/latex": [
       "A xtable: 12 × 3\n",
       "\\begin{tabular}{r|lll}\n",
       "  & All & scl & clg\\\\\n",
       "  & <dbl> & <dbl> & <dbl>\\\\\n",
       "\\hline\n",
       "\tLog Wage &  2.97078670 &  2.8473351 &  3.1336703\\\\\n",
       "\tSex &  0.44446602 &  0.4539106 &  0.4859413\\\\\n",
       "\tLess then High School &  0.02330097 &  0.0000000 &  0.0000000\\\\\n",
       "\tHigh School Graduate &  0.24388350 &  0.0000000 &  0.0000000\\\\\n",
       "\tSome College &  0.27805825 &  1.0000000 &  0.0000000\\\\\n",
       "\tGollage Graduate &  0.31766990 &  0.0000000 &  1.0000000\\\\\n",
       "\tAdvanced Degree &  0.13708738 &  0.0000000 &  0.0000000\\\\\n",
       "\tNortheast &  0.25961165 &  0.3058659 &  0.2310513\\\\\n",
       "\tMidwest &  0.29650485 &  0.2821229 &  0.2891198\\\\\n",
       "\tSouth &  0.21611650 &  0.2255587 &  0.2182152\\\\\n",
       "\tWest &  0.22776699 &  0.1864525 &  0.2616137\\\\\n",
       "\tExperience & 13.76058252 & 14.6826117 & 10.9663814\\\\\n",
       "\\end{tabular}\n"
      ],
      "text/markdown": [
       "\n",
       "A xtable: 12 × 3\n",
       "\n",
       "| <!--/--> | All &lt;dbl&gt; | scl &lt;dbl&gt; | clg &lt;dbl&gt; |\n",
       "|---|---|---|---|\n",
       "| Log Wage |  2.97078670 |  2.8473351 |  3.1336703 |\n",
       "| Sex |  0.44446602 |  0.4539106 |  0.4859413 |\n",
       "| Less then High School |  0.02330097 |  0.0000000 |  0.0000000 |\n",
       "| High School Graduate |  0.24388350 |  0.0000000 |  0.0000000 |\n",
       "| Some College |  0.27805825 |  1.0000000 |  0.0000000 |\n",
       "| Gollage Graduate |  0.31766990 |  0.0000000 |  1.0000000 |\n",
       "| Advanced Degree |  0.13708738 |  0.0000000 |  0.0000000 |\n",
       "| Northeast |  0.25961165 |  0.3058659 |  0.2310513 |\n",
       "| Midwest |  0.29650485 |  0.2821229 |  0.2891198 |\n",
       "| South |  0.21611650 |  0.2255587 |  0.2182152 |\n",
       "| West |  0.22776699 |  0.1864525 |  0.2616137 |\n",
       "| Experience | 13.76058252 | 14.6826117 | 10.9663814 |\n",
       "\n"
      ],
      "text/plain": [
       "                      All         scl        clg       \n",
       "Log Wage               2.97078670  2.8473351  3.1336703\n",
       "Sex                    0.44446602  0.4539106  0.4859413\n",
       "Less then High School  0.02330097  0.0000000  0.0000000\n",
       "High School Graduate   0.24388350  0.0000000  0.0000000\n",
       "Some College           0.27805825  1.0000000  0.0000000\n",
       "Gollage Graduate       0.31766990  0.0000000  1.0000000\n",
       "Advanced Degree        0.13708738  0.0000000  0.0000000\n",
       "Northeast              0.25961165  0.3058659  0.2310513\n",
       "Midwest                0.29650485  0.2821229  0.2891198\n",
       "South                  0.21611650  0.2255587  0.2182152\n",
       "West                   0.22776699  0.1864525  0.2616137\n",
       "Experience            13.76058252 14.6826117 10.9663814"
      ]
     },
     "metadata": {},
     "output_type": "display_data"
    }
   ],
   "source": [
    "install.packages(\"xtable\")\n",
    "library(xtable)\n",
    "\n",
    "Z <- data[which(colnames(data) %in% c(\"lwage\",\"sex\",\"shs\",\"hsg\",\"scl\",\"clg\",\"ad\",\"ne\",\"mw\",\"so\",\"we\",\"exp1\"))]\n",
    "\n",
    "data_scl <- data[data$scl==1,]     #allows to filter the database\n",
    "Z_scl <- data_scl[which(colnames(data) %in% c(\"lwage\",\"sex\",\"shs\",\"hsg\",\"scl\",\"clg\",\"ad\",\"ne\",\"mw\",\"so\",\"we\",\"exp1\"))]\n",
    "\n",
    "\n",
    "data_clg <- data[data$clg==1,]\n",
    "Z_clg <- data_clg[which(colnames(data) %in% c(\"lwage\",\"sex\",\"shs\",\"hsg\",\"scl\",\"clg\",\"ad\",\"ne\",\"mw\",\"so\",\"we\",\"exp1\"))]\n",
    "\n",
    "table <- matrix(0, 12, 3)\n",
    "table[1:12,1]   <- as.numeric(lapply(Z,mean))\n",
    "table[1:12,2]   <- as.numeric(lapply(Z_scl,mean))\n",
    "table[1:12,3]   <- as.numeric(lapply(Z_clg,mean))\n",
    "rownames(table) <- c(\"Log Wage\",\"Sex\",\"Less then High School\",\"High School Graduate\",\"Some College\",\"Gollage Graduate\",\"Advanced Degree\", \"Northeast\",\"Midwest\",\"South\",\"West\",\"Experience\")\n",
    "colnames(table) <- c(\"All\",\"scl\",\"clg\")\n",
    "tab<- xtable(table, digits = 4)\n",
    "tab"
   ]
  },
  {
   "cell_type": "code",
   "execution_count": 34,
   "id": "6064b65a",
   "metadata": {},
   "outputs": [
    {
     "name": "stdout",
     "output_type": "stream",
     "text": [
      "<!-- html table generated in R 4.1.3 by xtable 1.8-4 package -->\n",
      "<!-- Wed Apr 06 00:42:18 2022 -->\n",
      "<table border=1>\n",
      "<tr> <th>  </th> <th> All </th> <th> scl </th> <th> clg </th>  </tr>\n",
      "  <tr> <td align=\"right\"> Log Wage </td> <td align=\"right\"> 2.9708 </td> <td align=\"right\"> 2.8473 </td> <td align=\"right\"> 3.1337 </td> </tr>\n",
      "  <tr> <td align=\"right\"> Sex </td> <td align=\"right\"> 0.4445 </td> <td align=\"right\"> 0.4539 </td> <td align=\"right\"> 0.4859 </td> </tr>\n",
      "  <tr> <td align=\"right\"> Less then High School </td> <td align=\"right\"> 0.0233 </td> <td align=\"right\"> 0.0000 </td> <td align=\"right\"> 0.0000 </td> </tr>\n",
      "  <tr> <td align=\"right\"> High School Graduate </td> <td align=\"right\"> 0.2439 </td> <td align=\"right\"> 0.0000 </td> <td align=\"right\"> 0.0000 </td> </tr>\n",
      "  <tr> <td align=\"right\"> Some College </td> <td align=\"right\"> 0.2781 </td> <td align=\"right\"> 1.0000 </td> <td align=\"right\"> 0.0000 </td> </tr>\n",
      "  <tr> <td align=\"right\"> Gollage Graduate </td> <td align=\"right\"> 0.3177 </td> <td align=\"right\"> 0.0000 </td> <td align=\"right\"> 1.0000 </td> </tr>\n",
      "  <tr> <td align=\"right\"> Advanced Degree </td> <td align=\"right\"> 0.1371 </td> <td align=\"right\"> 0.0000 </td> <td align=\"right\"> 0.0000 </td> </tr>\n",
      "  <tr> <td align=\"right\"> Northeast </td> <td align=\"right\"> 0.2596 </td> <td align=\"right\"> 0.3059 </td> <td align=\"right\"> 0.2311 </td> </tr>\n",
      "  <tr> <td align=\"right\"> Midwest </td> <td align=\"right\"> 0.2965 </td> <td align=\"right\"> 0.2821 </td> <td align=\"right\"> 0.2891 </td> </tr>\n",
      "  <tr> <td align=\"right\"> South </td> <td align=\"right\"> 0.2161 </td> <td align=\"right\"> 0.2256 </td> <td align=\"right\"> 0.2182 </td> </tr>\n",
      "  <tr> <td align=\"right\"> West </td> <td align=\"right\"> 0.2278 </td> <td align=\"right\"> 0.1865 </td> <td align=\"right\"> 0.2616 </td> </tr>\n",
      "  <tr> <td align=\"right\"> Experience </td> <td align=\"right\"> 13.7606 </td> <td align=\"right\"> 14.6826 </td> <td align=\"right\"> 10.9664 </td> </tr>\n",
      "   </table>\n"
     ]
    }
   ],
   "source": [
    "print(tab,type=\"html\") # set type=\"latex\" for printing table in LaTeX"
   ]
  },
  {
   "cell_type": "markdown",
   "id": "60bdf100",
   "metadata": {},
   "source": [
    "<!-- html table generated in R 4.1.3 by xtable 1.8-4 package -->\n",
    "<!-- Wed Apr 06 00:42:18 2022 -->\n",
    "<table border=1>\n",
    "<tr> <th>  </th> <th> All </th> <th> scl </th> <th> clg </th>  </tr>\n",
    "  <tr> <td align=\"right\"> Log Wage </td> <td align=\"right\"> 2.9708 </td> <td align=\"right\"> 2.8473 </td> <td align=\"right\"> 3.1337 </td> </tr>\n",
    "  <tr> <td align=\"right\"> Sex </td> <td align=\"right\"> 0.4445 </td> <td align=\"right\"> 0.4539 </td> <td align=\"right\"> 0.4859 </td> </tr>\n",
    "  <tr> <td align=\"right\"> Less then High School </td> <td align=\"right\"> 0.0233 </td> <td align=\"right\"> 0.0000 </td> <td align=\"right\"> 0.0000 </td> </tr>\n",
    "  <tr> <td align=\"right\"> High School Graduate </td> <td align=\"right\"> 0.2439 </td> <td align=\"right\"> 0.0000 </td> <td align=\"right\"> 0.0000 </td> </tr>\n",
    "  <tr> <td align=\"right\"> Some College </td> <td align=\"right\"> 0.2781 </td> <td align=\"right\"> 1.0000 </td> <td align=\"right\"> 0.0000 </td> </tr>\n",
    "  <tr> <td align=\"right\"> Gollage Graduate </td> <td align=\"right\"> 0.3177 </td> <td align=\"right\"> 0.0000 </td> <td align=\"right\"> 1.0000 </td> </tr>\n",
    "  <tr> <td align=\"right\"> Advanced Degree </td> <td align=\"right\"> 0.1371 </td> <td align=\"right\"> 0.0000 </td> <td align=\"right\"> 0.0000 </td> </tr>\n",
    "  <tr> <td align=\"right\"> Northeast </td> <td align=\"right\"> 0.2596 </td> <td align=\"right\"> 0.3059 </td> <td align=\"right\"> 0.2311 </td> </tr>\n",
    "  <tr> <td align=\"right\"> Midwest </td> <td align=\"right\"> 0.2965 </td> <td align=\"right\"> 0.2821 </td> <td align=\"right\"> 0.2891 </td> </tr>\n",
    "  <tr> <td align=\"right\"> South </td> <td align=\"right\"> 0.2161 </td> <td align=\"right\"> 0.2256 </td> <td align=\"right\"> 0.2182 </td> </tr>\n",
    "  <tr> <td align=\"right\"> West </td> <td align=\"right\"> 0.2278 </td> <td align=\"right\"> 0.1865 </td> <td align=\"right\"> 0.2616 </td> </tr>\n",
    "  <tr> <td align=\"right\"> Experience </td> <td align=\"right\"> 13.7606 </td> <td align=\"right\"> 14.6826 </td> <td align=\"right\"> 10.9664 </td> </tr>\n",
    "   </table>\n",
    "\n"
   ]
  },
  {
   "cell_type": "code",
   "execution_count": null,
   "id": "81e582bb",
   "metadata": {},
   "outputs": [],
   "source": []
  }
 ],
 "metadata": {
  "kernelspec": {
   "display_name": "R",
   "language": "R",
   "name": "ir"
  },
  "language_info": {
   "codemirror_mode": "r",
   "file_extension": ".r",
   "mimetype": "text/x-r-source",
   "name": "R",
   "pygments_lexer": "r",
   "version": "4.1.3"
  }
 },
 "nbformat": 4,
 "nbformat_minor": 5
}
