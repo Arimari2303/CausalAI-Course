{
 "cells": [
  {
   "cell_type": "markdown",
   "id": "5ba1a534",
   "metadata": {},
   "source": [
    "# Group_5 - Replication_1\n",
    "## Members\n",
    "* Claudia Vivas\n",
    "* Mirian\n",
    "* Claudio Cabrera\n",
    "* Edmar Quispe \n",
    "* Michael\n",
    "\n"
   ]
  },
  {
   "cell_type": "markdown",
   "id": "ca23d1a2",
   "metadata": {
    "papermill": {
     "duration": 0.018579,
     "end_time": "2021-02-21T17:17:47.809138",
     "exception": false,
     "start_time": "2021-02-21T17:17:47.790559",
     "status": "completed"
    },
    "tags": []
   },
   "source": [
    "# An inferential problem: The Gender Wage Gap"
   ]
  },
  {
   "cell_type": "markdown",
   "id": "6a21e96b",
   "metadata": {
    "papermill": {
     "duration": 0.019386,
     "end_time": "2021-02-21T17:17:47.847419",
     "exception": false,
     "start_time": "2021-02-21T17:17:47.828033",
     "status": "completed"
    },
    "tags": []
   },
   "source": [
    "In this lab, we focus on what is the difference in expected wages between men and women with the same job-relevant characteristics; but we only focus on the subset of college-educated workers."
   ]
  },
  {
   "cell_type": "markdown",
   "id": "f290c1f4",
   "metadata": {
    "papermill": {
     "duration": 0.018623,
     "end_time": "2021-02-21T17:17:47.884840",
     "exception": false,
     "start_time": "2021-02-21T17:17:47.866217",
     "status": "completed"
    },
    "tags": []
   },
   "source": [
    "To investigate the gender wage gap in this subset, we consider the following log-linear regression model\n",
    "\n",
    "\\begin{align}\n",
    "\\log(Y) &= \\beta'X + \\epsilon\\\\\n",
    "&= \\beta_1 D  + \\beta_2' W + \\epsilon,\n",
    "\\end{align}\n",
    "\n",
    "where $D$ is the indicator of being female ($1$ if female and $0$ otherwise) and the\n",
    "$W$'s are controls explaining variation in wages. Please take into account that the variables used to restrict the database, *scl* and *clg*, are not part of the $W$'s controls anymore. Although this, we still used transformed wages by the logarithm in the estimation."
   ]
  },
  {
   "cell_type": "markdown",
   "id": "070edeb6",
   "metadata": {
    "papermill": {
     "duration": 0.018169,
     "end_time": "2021-02-21T17:17:47.921363",
     "exception": false,
     "start_time": "2021-02-21T17:17:47.903194",
     "status": "completed"
    },
    "tags": []
   },
   "source": [
    "## Data analysis"
   ]
  },
  {
   "cell_type": "markdown",
   "id": "830bbed1",
   "metadata": {},
   "source": [
    "Load the packages"
   ]
  },
  {
   "cell_type": "code",
   "execution_count": 15,
   "id": "36b9e6d7",
   "metadata": {
    "vscode": {
     "languageId": "r"
    }
   },
   "outputs": [],
   "source": [
    "library(ggplot2)\n",
    "library(xtable)"
   ]
  },
  {
   "cell_type": "markdown",
   "id": "feacd9c2",
   "metadata": {},
   "source": [
    "We consider the same subsample of the U.S. Current Population Survey (2015). "
   ]
  },
  {
   "cell_type": "code",
   "execution_count": 16,
   "id": "1aafbf06",
   "metadata": {
    "execution": {
     "iopub.execute_input": "2021-02-21T17:17:48.027996Z",
     "iopub.status.busy": "2021-02-21T17:17:48.025377Z",
     "iopub.status.idle": "2021-02-21T17:17:48.193706Z",
     "shell.execute_reply": "2021-02-21T17:17:48.192123Z"
    },
    "papermill": {
     "duration": 0.217167,
     "end_time": "2021-02-21T17:17:48.193957",
     "exception": false,
     "start_time": "2021-02-21T17:17:47.976790",
     "status": "completed"
    },
    "tags": [],
    "vscode": {
     "languageId": "r"
    }
   },
   "outputs": [
    {
     "data": {
      "text/html": [
       "<style>\n",
       ".list-inline {list-style: none; margin:0; padding: 0}\n",
       ".list-inline>li {display: inline-block}\n",
       ".list-inline>li:not(:last-child)::after {content: \"\\00b7\"; padding: 0 .5ex}\n",
       "</style>\n",
       "<ol class=list-inline><li>5150</li><li>20</li></ol>\n"
      ],
      "text/latex": [
       "\\begin{enumerate*}\n",
       "\\item 5150\n",
       "\\item 20\n",
       "\\end{enumerate*}\n"
      ],
      "text/markdown": [
       "1. 5150\n",
       "2. 20\n",
       "\n",
       "\n"
      ],
      "text/plain": [
       "[1] 5150   20"
      ]
     },
     "metadata": {},
     "output_type": "display_data"
    }
   ],
   "source": [
    "load(\"C:/Users/Michael/Documents/GitHub/ECO224/data/wage2015_subsample_inference.Rdata\")\n",
    "## re-naming the data frame so we can use the prevoius name\n",
    "data_raw <- data\n",
    "rm(data)\n",
    "dim(data_raw)"
   ]
  },
  {
   "cell_type": "markdown",
   "id": "cb7daea6",
   "metadata": {
    "execution": {
     "iopub.execute_input": "2021-02-21T17:17:48.027996Z",
     "iopub.status.busy": "2021-02-21T17:17:48.025377Z",
     "iopub.status.idle": "2021-02-21T17:17:48.193706Z",
     "shell.execute_reply": "2021-02-21T17:17:48.192123Z"
    },
    "papermill": {
     "duration": 0.217167,
     "end_time": "2021-02-21T17:17:48.193957",
     "exception": false,
     "start_time": "2021-02-21T17:17:47.976790",
     "status": "completed"
    },
    "tags": []
   },
   "source": [
    "However, we only need a subset of the data. In order to select part of the data, we use the ***scl*** and ***clg*** variables."
   ]
  },
  {
   "cell_type": "code",
   "execution_count": 28,
   "id": "a38a5c8f",
   "metadata": {
    "execution": {
     "iopub.execute_input": "2021-02-21T17:17:48.027996Z",
     "iopub.status.busy": "2021-02-21T17:17:48.025377Z",
     "iopub.status.idle": "2021-02-21T17:17:48.193706Z",
     "shell.execute_reply": "2021-02-21T17:17:48.192123Z"
    },
    "papermill": {
     "duration": 0.217167,
     "end_time": "2021-02-21T17:17:48.193957",
     "exception": false,
     "start_time": "2021-02-21T17:17:47.976790",
     "status": "completed"
    },
    "tags": [],
    "vscode": {
     "languageId": "r"
    }
   },
   "outputs": [
    {
     "data": {
      "text/html": [
       "<style>\n",
       ".list-inline {list-style: none; margin:0; padding: 0}\n",
       ".list-inline>li {display: inline-block}\n",
       ".list-inline>li:not(:last-child)::after {content: \"\\00b7\"; padding: 0 .5ex}\n",
       "</style>\n",
       "<ol class=list-inline><li>3068</li><li>20</li></ol>\n"
      ],
      "text/latex": [
       "\\begin{enumerate*}\n",
       "\\item 3068\n",
       "\\item 20\n",
       "\\end{enumerate*}\n"
      ],
      "text/markdown": [
       "1. 3068\n",
       "2. 20\n",
       "\n",
       "\n"
      ],
      "text/plain": [
       "[1] 3068   20"
      ]
     },
     "metadata": {},
     "output_type": "display_data"
    },
    {
     "data": {
      "text/html": [
       "<table class=\"dataframe\">\n",
       "<caption>A data.frame: 3068 × 20</caption>\n",
       "<thead>\n",
       "\t<tr><th></th><th scope=col>wage</th><th scope=col>lwage</th><th scope=col>sex</th><th scope=col>shs</th><th scope=col>hsg</th><th scope=col>scl</th><th scope=col>clg</th><th scope=col>ad</th><th scope=col>mw</th><th scope=col>so</th><th scope=col>we</th><th scope=col>ne</th><th scope=col>exp1</th><th scope=col>exp2</th><th scope=col>exp3</th><th scope=col>exp4</th><th scope=col>occ</th><th scope=col>occ2</th><th scope=col>ind</th><th scope=col>ind2</th></tr>\n",
       "\t<tr><th></th><th scope=col>&lt;dbl&gt;</th><th scope=col>&lt;dbl&gt;</th><th scope=col>&lt;dbl&gt;</th><th scope=col>&lt;dbl&gt;</th><th scope=col>&lt;dbl&gt;</th><th scope=col>&lt;dbl&gt;</th><th scope=col>&lt;dbl&gt;</th><th scope=col>&lt;dbl&gt;</th><th scope=col>&lt;dbl&gt;</th><th scope=col>&lt;dbl&gt;</th><th scope=col>&lt;dbl&gt;</th><th scope=col>&lt;dbl&gt;</th><th scope=col>&lt;dbl&gt;</th><th scope=col>&lt;dbl&gt;</th><th scope=col>&lt;dbl&gt;</th><th scope=col>&lt;dbl&gt;</th><th scope=col>&lt;fct&gt;</th><th scope=col>&lt;fct&gt;</th><th scope=col>&lt;fct&gt;</th><th scope=col>&lt;fct&gt;</th></tr>\n",
       "</thead>\n",
       "<tbody>\n",
       "\t<tr><th scope=row>10</th><td> 9.615385</td><td>2.263364</td><td>1</td><td>0</td><td>0</td><td>0</td><td>1</td><td>0</td><td>0</td><td>0</td><td>0</td><td>1</td><td> 7.0</td><td> 0.4900</td><td> 0.343000</td><td>  0.24010000</td><td>3600</td><td>11</td><td>8370</td><td>18</td></tr>\n",
       "\t<tr><th scope=row>12</th><td>48.076923</td><td>3.872802</td><td>0</td><td>0</td><td>0</td><td>0</td><td>1</td><td>0</td><td>0</td><td>0</td><td>0</td><td>1</td><td>31.0</td><td> 9.6100</td><td>29.791000</td><td> 92.35210000</td><td>3050</td><td>10</td><td>5070</td><td>9 </td></tr>\n",
       "\t<tr><th scope=row>19</th><td>28.846154</td><td>3.361977</td><td>1</td><td>0</td><td>0</td><td>0</td><td>1</td><td>0</td><td>0</td><td>0</td><td>0</td><td>1</td><td>22.0</td><td> 4.8400</td><td>10.648000</td><td> 23.42560000</td><td>2015</td><td>6 </td><td>9470</td><td>22</td></tr>\n",
       "\t<tr><th scope=row>30</th><td>11.730769</td><td>2.462215</td><td>1</td><td>0</td><td>0</td><td>0</td><td>1</td><td>0</td><td>0</td><td>0</td><td>0</td><td>1</td><td> 1.0</td><td> 0.0100</td><td> 0.001000</td><td>  0.00010000</td><td>1650</td><td>5 </td><td>7460</td><td>14</td></tr>\n",
       "\t<tr><th scope=row>71</th><td>19.230769</td><td>2.956512</td><td>1</td><td>0</td><td>0</td><td>0</td><td>1</td><td>0</td><td>0</td><td>0</td><td>0</td><td>1</td><td> 4.0</td><td> 0.1600</td><td> 0.064000</td><td>  0.02560000</td><td>3255</td><td>10</td><td>8190</td><td>18</td></tr>\n",
       "\t<tr><th scope=row>84</th><td>12.019231</td><td>2.486508</td><td>1</td><td>0</td><td>0</td><td>1</td><td>0</td><td>0</td><td>0</td><td>0</td><td>0</td><td>1</td><td> 5.5</td><td> 0.3025</td><td> 0.166375</td><td>  0.09150625</td><td>3600</td><td>11</td><td>8270</td><td>18</td></tr>\n",
       "\t<tr><th scope=row>89</th><td>13.461538</td><td>2.599837</td><td>1</td><td>0</td><td>0</td><td>1</td><td>0</td><td>0</td><td>0</td><td>0</td><td>0</td><td>1</td><td>20.5</td><td> 4.2025</td><td> 8.615125</td><td> 17.66100625</td><td>3645</td><td>11</td><td>8190</td><td>18</td></tr>\n",
       "\t<tr><th scope=row>96</th><td>16.346154</td><td>2.793993</td><td>1</td><td>0</td><td>0</td><td>0</td><td>1</td><td>0</td><td>0</td><td>0</td><td>0</td><td>1</td><td>25.0</td><td> 6.2500</td><td>15.625000</td><td> 39.06250000</td><td>110 </td><td>1 </td><td>7870</td><td>17</td></tr>\n",
       "\t<tr><th scope=row>119</th><td> 8.653846</td><td>2.158004</td><td>0</td><td>0</td><td>0</td><td>1</td><td>0</td><td>0</td><td>0</td><td>0</td><td>0</td><td>1</td><td> 3.5</td><td> 0.1225</td><td> 0.042875</td><td>  0.01500625</td><td>7410</td><td>20</td><td>570 </td><td>3 </td></tr>\n",
       "\t<tr><th scope=row>135</th><td>10.683761</td><td>2.368725</td><td>1</td><td>0</td><td>0</td><td>1</td><td>0</td><td>0</td><td>0</td><td>0</td><td>0</td><td>1</td><td> 6.5</td><td> 0.4225</td><td> 0.274625</td><td>  0.17850625</td><td>4300</td><td>15</td><td>8590</td><td>19</td></tr>\n",
       "\t<tr><th scope=row>144</th><td>11.538462</td><td>2.445686</td><td>1</td><td>0</td><td>0</td><td>1</td><td>0</td><td>0</td><td>0</td><td>0</td><td>0</td><td>1</td><td> 8.5</td><td> 0.7225</td><td> 0.614125</td><td>  0.52200625</td><td>3600</td><td>11</td><td>8190</td><td>18</td></tr>\n",
       "\t<tr><th scope=row>149</th><td>19.230769</td><td>2.956512</td><td>0</td><td>0</td><td>0</td><td>0</td><td>1</td><td>0</td><td>0</td><td>0</td><td>0</td><td>1</td><td>11.0</td><td> 1.2100</td><td> 1.331000</td><td>  1.46410000</td><td>6200</td><td>19</td><td>770 </td><td>4 </td></tr>\n",
       "\t<tr><th scope=row>152</th><td>16.304348</td><td>2.791432</td><td>1</td><td>0</td><td>0</td><td>1</td><td>0</td><td>0</td><td>0</td><td>0</td><td>0</td><td>1</td><td>24.5</td><td> 6.0025</td><td>14.706125</td><td> 36.03000625</td><td>20  </td><td>1 </td><td>5480</td><td>9 </td></tr>\n",
       "\t<tr><th scope=row>160</th><td>12.000000</td><td>2.484907</td><td>0</td><td>0</td><td>0</td><td>1</td><td>0</td><td>0</td><td>0</td><td>0</td><td>0</td><td>1</td><td> 4.5</td><td> 0.2025</td><td> 0.091125</td><td>  0.04100625</td><td>6330</td><td>19</td><td>770 </td><td>4 </td></tr>\n",
       "\t<tr><th scope=row>164</th><td>16.826923</td><td>2.822980</td><td>0</td><td>0</td><td>0</td><td>0</td><td>1</td><td>0</td><td>0</td><td>0</td><td>0</td><td>1</td><td> 8.0</td><td> 0.6400</td><td> 0.512000</td><td>  0.40960000</td><td>5400</td><td>17</td><td>4870</td><td>9 </td></tr>\n",
       "\t<tr><th scope=row>176</th><td>19.670330</td><td>2.979111</td><td>0</td><td>0</td><td>0</td><td>0</td><td>1</td><td>0</td><td>0</td><td>0</td><td>0</td><td>1</td><td>26.0</td><td> 6.7600</td><td>17.576000</td><td> 45.69760000</td><td>6230</td><td>19</td><td>6570</td><td>11</td></tr>\n",
       "\t<tr><th scope=row>206</th><td>13.942308</td><td>2.634928</td><td>1</td><td>0</td><td>0</td><td>1</td><td>0</td><td>0</td><td>0</td><td>0</td><td>0</td><td>1</td><td>15.5</td><td> 2.4025</td><td> 3.723875</td><td>  5.77200625</td><td>5860</td><td>17</td><td>4670</td><td>9 </td></tr>\n",
       "\t<tr><th scope=row>213</th><td>10.096154</td><td>2.312155</td><td>1</td><td>0</td><td>0</td><td>1</td><td>0</td><td>0</td><td>0</td><td>0</td><td>0</td><td>1</td><td> 9.0</td><td> 0.8100</td><td> 0.729000</td><td>  0.65610000</td><td>3500</td><td>10</td><td>8090</td><td>18</td></tr>\n",
       "\t<tr><th scope=row>225</th><td>24.038462</td><td>3.179655</td><td>1</td><td>0</td><td>0</td><td>0</td><td>1</td><td>0</td><td>0</td><td>0</td><td>0</td><td>1</td><td>31.0</td><td> 9.6100</td><td>29.791000</td><td> 92.35210000</td><td>2630</td><td>9 </td><td>4870</td><td>9 </td></tr>\n",
       "\t<tr><th scope=row>232</th><td>41.208791</td><td>3.718652</td><td>1</td><td>0</td><td>0</td><td>0</td><td>1</td><td>0</td><td>0</td><td>0</td><td>0</td><td>1</td><td>11.0</td><td> 1.2100</td><td> 1.331000</td><td>  1.46410000</td><td>4700</td><td>16</td><td>5790</td><td>9 </td></tr>\n",
       "\t<tr><th scope=row>245</th><td>21.634615</td><td>3.074295</td><td>1</td><td>0</td><td>0</td><td>1</td><td>0</td><td>0</td><td>0</td><td>0</td><td>0</td><td>1</td><td>17.5</td><td> 3.0625</td><td> 5.359375</td><td>  9.37890625</td><td>5400</td><td>17</td><td>6695</td><td>11</td></tr>\n",
       "\t<tr><th scope=row>264</th><td>12.019231</td><td>2.486508</td><td>1</td><td>0</td><td>0</td><td>1</td><td>0</td><td>0</td><td>0</td><td>0</td><td>0</td><td>1</td><td> 6.5</td><td> 0.4225</td><td> 0.274625</td><td>  0.17850625</td><td>4110</td><td>13</td><td>8680</td><td>20</td></tr>\n",
       "\t<tr><th scope=row>280</th><td> 7.211538</td><td>1.975682</td><td>1</td><td>0</td><td>0</td><td>1</td><td>0</td><td>0</td><td>0</td><td>0</td><td>0</td><td>1</td><td>17.5</td><td> 3.0625</td><td> 5.359375</td><td>  9.37890625</td><td>4720</td><td>16</td><td>4980</td><td>9 </td></tr>\n",
       "\t<tr><th scope=row>281</th><td>11.778846</td><td>2.466305</td><td>1</td><td>0</td><td>0</td><td>0</td><td>1</td><td>0</td><td>0</td><td>0</td><td>0</td><td>1</td><td> 7.0</td><td> 0.4900</td><td> 0.343000</td><td>  0.24010000</td><td>5860</td><td>17</td><td>6870</td><td>12</td></tr>\n",
       "\t<tr><th scope=row>286</th><td>12.937063</td><td>2.560096</td><td>0</td><td>0</td><td>0</td><td>1</td><td>0</td><td>0</td><td>0</td><td>0</td><td>0</td><td>1</td><td>34.5</td><td>11.9025</td><td>41.063625</td><td>141.66950625</td><td>9000</td><td>22</td><td>5670</td><td>9 </td></tr>\n",
       "\t<tr><th scope=row>291</th><td>13.076923</td><td>2.570849</td><td>1</td><td>0</td><td>0</td><td>0</td><td>1</td><td>0</td><td>0</td><td>0</td><td>0</td><td>1</td><td>10.0</td><td> 1.0000</td><td> 1.000000</td><td>  1.00000000</td><td>725 </td><td>2 </td><td>8590</td><td>19</td></tr>\n",
       "\t<tr><th scope=row>366</th><td>21.634615</td><td>3.074295</td><td>1</td><td>0</td><td>0</td><td>0</td><td>1</td><td>0</td><td>0</td><td>0</td><td>0</td><td>1</td><td>23.0</td><td> 5.2900</td><td>12.167000</td><td> 27.98410000</td><td>3320</td><td>10</td><td>8190</td><td>18</td></tr>\n",
       "\t<tr><th scope=row>368</th><td> 8.505917</td><td>2.140762</td><td>0</td><td>0</td><td>0</td><td>1</td><td>0</td><td>0</td><td>0</td><td>0</td><td>0</td><td>1</td><td> 4.5</td><td> 0.2025</td><td> 0.091125</td><td>  0.04100625</td><td>4220</td><td>14</td><td>8590</td><td>19</td></tr>\n",
       "\t<tr><th scope=row>375</th><td>33.989267</td><td>3.526045</td><td>0</td><td>0</td><td>0</td><td>0</td><td>1</td><td>0</td><td>0</td><td>0</td><td>0</td><td>1</td><td>21.0</td><td> 4.4100</td><td> 9.261000</td><td> 19.44810000</td><td>5600</td><td>17</td><td>3680</td><td>6 </td></tr>\n",
       "\t<tr><th scope=row>378</th><td>15.721154</td><td>2.755007</td><td>1</td><td>0</td><td>0</td><td>0</td><td>1</td><td>0</td><td>0</td><td>0</td><td>0</td><td>1</td><td> 2.0</td><td> 0.0400</td><td> 0.008000</td><td>  0.00160000</td><td>5940</td><td>17</td><td>8290</td><td>18</td></tr>\n",
       "\t<tr><th scope=row>...</th><td>...</td><td>...</td><td>...</td><td>...</td><td>...</td><td>...</td><td>...</td><td>...</td><td>...</td><td>...</td><td>...</td><td>...</td><td>...</td><td>...</td><td>...</td><td>...</td><td>...</td><td>...</td><td>...</td><td>...</td></tr>\n",
       "\t<tr><th scope=row>32313</th><td>33.65385</td><td>3.516127</td><td>0</td><td>0</td><td>0</td><td>1</td><td>0</td><td>0</td><td>0</td><td>0</td><td>1</td><td>0</td><td>24.5</td><td> 6.0025</td><td>14.706125</td><td> 36.03000625</td><td>6230</td><td>19</td><td>770 </td><td>4 </td></tr>\n",
       "\t<tr><th scope=row>32314</th><td>30.14553</td><td>3.406037</td><td>1</td><td>0</td><td>0</td><td>0</td><td>1</td><td>0</td><td>0</td><td>0</td><td>1</td><td>0</td><td>15.0</td><td> 2.2500</td><td> 3.375000</td><td>  5.06250000</td><td>120 </td><td>1 </td><td>6870</td><td>12</td></tr>\n",
       "\t<tr><th scope=row>32347</th><td>12.01923</td><td>2.486508</td><td>1</td><td>0</td><td>0</td><td>1</td><td>0</td><td>0</td><td>0</td><td>0</td><td>1</td><td>0</td><td> 9.5</td><td> 0.9025</td><td> 0.857375</td><td>  0.81450625</td><td>4760</td><td>16</td><td>4890</td><td>9 </td></tr>\n",
       "\t<tr><th scope=row>32362</th><td>25.48077</td><td>3.237924</td><td>0</td><td>0</td><td>0</td><td>0</td><td>1</td><td>0</td><td>0</td><td>0</td><td>1</td><td>0</td><td>16.0</td><td> 2.5600</td><td> 4.096000</td><td>  6.55360000</td><td>7420</td><td>20</td><td>770 </td><td>4 </td></tr>\n",
       "\t<tr><th scope=row>32388</th><td>22.59615</td><td>3.117780</td><td>1</td><td>0</td><td>0</td><td>1</td><td>0</td><td>0</td><td>0</td><td>0</td><td>1</td><td>0</td><td>11.5</td><td> 1.3225</td><td> 1.520875</td><td>  1.74900625</td><td>5240</td><td>17</td><td>6690</td><td>11</td></tr>\n",
       "\t<tr><th scope=row>32416</th><td>18.75000</td><td>2.931194</td><td>1</td><td>0</td><td>0</td><td>1</td><td>0</td><td>0</td><td>0</td><td>0</td><td>1</td><td>0</td><td>19.0</td><td> 3.6100</td><td> 6.859000</td><td> 13.03210000</td><td>3649</td><td>11</td><td>8190</td><td>18</td></tr>\n",
       "\t<tr><th scope=row>32419</th><td>29.91453</td><td>3.398344</td><td>1</td><td>0</td><td>0</td><td>0</td><td>1</td><td>0</td><td>0</td><td>0</td><td>1</td><td>0</td><td>39.0</td><td>15.2100</td><td>59.319000</td><td>231.34410000</td><td>4700</td><td>16</td><td>5380</td><td>9 </td></tr>\n",
       "\t<tr><th scope=row>32458</th><td>11.29808</td><td>2.424633</td><td>1</td><td>0</td><td>0</td><td>0</td><td>1</td><td>0</td><td>0</td><td>0</td><td>1</td><td>0</td><td>10.0</td><td> 1.0000</td><td> 1.000000</td><td>  1.00000000</td><td>2060</td><td>6 </td><td>9160</td><td>21</td></tr>\n",
       "\t<tr><th scope=row>32468</th><td>16.02564</td><td>2.774190</td><td>1</td><td>0</td><td>0</td><td>1</td><td>0</td><td>0</td><td>0</td><td>0</td><td>1</td><td>0</td><td>11.0</td><td> 1.2100</td><td> 1.331000</td><td>  1.46410000</td><td>4720</td><td>16</td><td>5080</td><td>9 </td></tr>\n",
       "\t<tr><th scope=row>32493</th><td>16.82692</td><td>2.822980</td><td>1</td><td>0</td><td>0</td><td>0</td><td>1</td><td>0</td><td>0</td><td>0</td><td>1</td><td>0</td><td> 4.0</td><td> 0.1600</td><td> 0.064000</td><td>  0.02560000</td><td>3648</td><td>11</td><td>7480</td><td>14</td></tr>\n",
       "\t<tr><th scope=row>32497</th><td>10.57692</td><td>2.358675</td><td>0</td><td>0</td><td>0</td><td>0</td><td>1</td><td>0</td><td>0</td><td>0</td><td>1</td><td>0</td><td> 8.0</td><td> 0.6400</td><td> 0.512000</td><td>  0.40960000</td><td>1550</td><td>4 </td><td>9490</td><td>22</td></tr>\n",
       "\t<tr><th scope=row>32498</th><td>25.00000</td><td>3.218876</td><td>0</td><td>0</td><td>0</td><td>0</td><td>1</td><td>0</td><td>0</td><td>0</td><td>1</td><td>0</td><td>10.0</td><td> 1.0000</td><td> 1.000000</td><td>  1.00000000</td><td>1310</td><td>4 </td><td>770 </td><td>4 </td></tr>\n",
       "\t<tr><th scope=row>32502</th><td>15.38462</td><td>2.733368</td><td>0</td><td>0</td><td>0</td><td>1</td><td>0</td><td>0</td><td>0</td><td>0</td><td>1</td><td>0</td><td>17.5</td><td> 3.0625</td><td> 5.359375</td><td>  9.37890625</td><td>2910</td><td>9 </td><td>9090</td><td>21</td></tr>\n",
       "\t<tr><th scope=row>32504</th><td>18.75000</td><td>2.931194</td><td>1</td><td>0</td><td>0</td><td>0</td><td>1</td><td>0</td><td>0</td><td>0</td><td>1</td><td>0</td><td> 2.0</td><td> 0.0400</td><td> 0.008000</td><td>  0.00160000</td><td>2000</td><td>6 </td><td>8370</td><td>18</td></tr>\n",
       "\t<tr><th scope=row>32509</th><td>20.91346</td><td>3.040393</td><td>1</td><td>0</td><td>0</td><td>1</td><td>0</td><td>0</td><td>0</td><td>0</td><td>1</td><td>0</td><td> 4.5</td><td> 0.2025</td><td> 0.091125</td><td>  0.04100625</td><td>4600</td><td>15</td><td>8470</td><td>18</td></tr>\n",
       "\t<tr><th scope=row>32517</th><td>22.11538</td><td>3.096274</td><td>0</td><td>0</td><td>0</td><td>1</td><td>0</td><td>0</td><td>0</td><td>0</td><td>1</td><td>0</td><td> 7.0</td><td> 0.4900</td><td> 0.343000</td><td>  0.24010000</td><td>410 </td><td>1 </td><td>7070</td><td>13</td></tr>\n",
       "\t<tr><th scope=row>32528</th><td>12.01923</td><td>2.486508</td><td>0</td><td>0</td><td>0</td><td>1</td><td>0</td><td>0</td><td>0</td><td>0</td><td>1</td><td>0</td><td> 4.0</td><td> 0.1600</td><td> 0.064000</td><td>  0.02560000</td><td>9620</td><td>22</td><td>6170</td><td>10</td></tr>\n",
       "\t<tr><th scope=row>32539</th><td>38.46154</td><td>3.649659</td><td>1</td><td>0</td><td>0</td><td>1</td><td>0</td><td>0</td><td>0</td><td>0</td><td>1</td><td>0</td><td> 7.5</td><td> 0.5625</td><td> 0.421875</td><td>  0.31640625</td><td>220 </td><td>1 </td><td>770 </td><td>4 </td></tr>\n",
       "\t<tr><th scope=row>32540</th><td>28.84615</td><td>3.361977</td><td>0</td><td>0</td><td>0</td><td>0</td><td>1</td><td>0</td><td>0</td><td>0</td><td>1</td><td>0</td><td> 5.0</td><td> 0.2500</td><td> 0.125000</td><td>  0.06250000</td><td>1360</td><td>4 </td><td>770 </td><td>4 </td></tr>\n",
       "\t<tr><th scope=row>32551</th><td>27.88462</td><td>3.328075</td><td>0</td><td>0</td><td>0</td><td>1</td><td>0</td><td>0</td><td>0</td><td>0</td><td>1</td><td>0</td><td>28.5</td><td> 8.1225</td><td>23.149125</td><td> 65.97500625</td><td>8140</td><td>21</td><td>770 </td><td>4 </td></tr>\n",
       "\t<tr><th scope=row>32561</th><td>38.46154</td><td>3.649659</td><td>0</td><td>0</td><td>0</td><td>0</td><td>1</td><td>0</td><td>0</td><td>0</td><td>1</td><td>0</td><td> 8.0</td><td> 0.6400</td><td> 0.512000</td><td>  0.40960000</td><td>710 </td><td>2 </td><td>6870</td><td>12</td></tr>\n",
       "\t<tr><th scope=row>32567</th><td>48.07692</td><td>3.872802</td><td>1</td><td>0</td><td>0</td><td>0</td><td>1</td><td>0</td><td>0</td><td>0</td><td>1</td><td>0</td><td>25.0</td><td> 6.2500</td><td>15.625000</td><td> 39.06250000</td><td>3255</td><td>10</td><td>8170</td><td>18</td></tr>\n",
       "\t<tr><th scope=row>32579</th><td>12.01923</td><td>2.486508</td><td>0</td><td>0</td><td>0</td><td>1</td><td>0</td><td>0</td><td>0</td><td>0</td><td>1</td><td>0</td><td>31.5</td><td> 9.9225</td><td>31.255875</td><td> 98.45600625</td><td>5510</td><td>17</td><td>6380</td><td>10</td></tr>\n",
       "\t<tr><th scope=row>32581</th><td>26.44231</td><td>3.274965</td><td>1</td><td>0</td><td>0</td><td>0</td><td>1</td><td>0</td><td>0</td><td>0</td><td>1</td><td>0</td><td>34.0</td><td>11.5600</td><td>39.304000</td><td>133.63360000</td><td>2310</td><td>8 </td><td>7860</td><td>17</td></tr>\n",
       "\t<tr><th scope=row>32593</th><td>21.15385</td><td>3.051822</td><td>0</td><td>0</td><td>0</td><td>0</td><td>1</td><td>0</td><td>0</td><td>0</td><td>1</td><td>0</td><td>28.0</td><td> 7.8400</td><td>21.952000</td><td> 61.46560000</td><td>40  </td><td>1 </td><td>9170</td><td>21</td></tr>\n",
       "\t<tr><th scope=row>32596</th><td>45.54656</td><td>3.818735</td><td>1</td><td>0</td><td>0</td><td>0</td><td>1</td><td>0</td><td>0</td><td>0</td><td>1</td><td>0</td><td> 5.0</td><td> 0.2500</td><td> 0.125000</td><td>  0.06250000</td><td>3255</td><td>10</td><td>8190</td><td>18</td></tr>\n",
       "\t<tr><th scope=row>32606</th><td>24.03846</td><td>3.179655</td><td>1</td><td>0</td><td>0</td><td>0</td><td>1</td><td>0</td><td>0</td><td>0</td><td>1</td><td>0</td><td>17.0</td><td> 2.8900</td><td> 4.913000</td><td>  8.35210000</td><td>2550</td><td>8 </td><td>9480</td><td>22</td></tr>\n",
       "\t<tr><th scope=row>32619</th><td>13.84615</td><td>2.628007</td><td>0</td><td>0</td><td>0</td><td>0</td><td>1</td><td>0</td><td>0</td><td>0</td><td>1</td><td>0</td><td>10.0</td><td> 1.0000</td><td> 1.000000</td><td>  1.00000000</td><td>800 </td><td>2 </td><td>770 </td><td>4 </td></tr>\n",
       "\t<tr><th scope=row>32620</th><td>14.76923</td><td>2.692546</td><td>0</td><td>0</td><td>0</td><td>0</td><td>1</td><td>0</td><td>0</td><td>0</td><td>1</td><td>0</td><td> 9.0</td><td> 0.8100</td><td> 0.729000</td><td>  0.65610000</td><td>4700</td><td>16</td><td>4970</td><td>9 </td></tr>\n",
       "\t<tr><th scope=row>32624</th><td>23.07692</td><td>3.138833</td><td>1</td><td>0</td><td>0</td><td>1</td><td>0</td><td>0</td><td>0</td><td>0</td><td>1</td><td>0</td><td>12.0</td><td> 1.4400</td><td> 1.728000</td><td>  2.07360000</td><td>4110</td><td>13</td><td>8680</td><td>20</td></tr>\n",
       "</tbody>\n",
       "</table>\n"
      ],
      "text/latex": [
       "A data.frame: 3068 × 20\n",
       "\\begin{tabular}{r|llllllllllllllllllll}\n",
       "  & wage & lwage & sex & shs & hsg & scl & clg & ad & mw & so & we & ne & exp1 & exp2 & exp3 & exp4 & occ & occ2 & ind & ind2\\\\\n",
       "  & <dbl> & <dbl> & <dbl> & <dbl> & <dbl> & <dbl> & <dbl> & <dbl> & <dbl> & <dbl> & <dbl> & <dbl> & <dbl> & <dbl> & <dbl> & <dbl> & <fct> & <fct> & <fct> & <fct>\\\\\n",
       "\\hline\n",
       "\t10 &  9.615385 & 2.263364 & 1 & 0 & 0 & 0 & 1 & 0 & 0 & 0 & 0 & 1 &  7.0 &  0.4900 &  0.343000 &   0.24010000 & 3600 & 11 & 8370 & 18\\\\\n",
       "\t12 & 48.076923 & 3.872802 & 0 & 0 & 0 & 0 & 1 & 0 & 0 & 0 & 0 & 1 & 31.0 &  9.6100 & 29.791000 &  92.35210000 & 3050 & 10 & 5070 & 9 \\\\\n",
       "\t19 & 28.846154 & 3.361977 & 1 & 0 & 0 & 0 & 1 & 0 & 0 & 0 & 0 & 1 & 22.0 &  4.8400 & 10.648000 &  23.42560000 & 2015 & 6  & 9470 & 22\\\\\n",
       "\t30 & 11.730769 & 2.462215 & 1 & 0 & 0 & 0 & 1 & 0 & 0 & 0 & 0 & 1 &  1.0 &  0.0100 &  0.001000 &   0.00010000 & 1650 & 5  & 7460 & 14\\\\\n",
       "\t71 & 19.230769 & 2.956512 & 1 & 0 & 0 & 0 & 1 & 0 & 0 & 0 & 0 & 1 &  4.0 &  0.1600 &  0.064000 &   0.02560000 & 3255 & 10 & 8190 & 18\\\\\n",
       "\t84 & 12.019231 & 2.486508 & 1 & 0 & 0 & 1 & 0 & 0 & 0 & 0 & 0 & 1 &  5.5 &  0.3025 &  0.166375 &   0.09150625 & 3600 & 11 & 8270 & 18\\\\\n",
       "\t89 & 13.461538 & 2.599837 & 1 & 0 & 0 & 1 & 0 & 0 & 0 & 0 & 0 & 1 & 20.5 &  4.2025 &  8.615125 &  17.66100625 & 3645 & 11 & 8190 & 18\\\\\n",
       "\t96 & 16.346154 & 2.793993 & 1 & 0 & 0 & 0 & 1 & 0 & 0 & 0 & 0 & 1 & 25.0 &  6.2500 & 15.625000 &  39.06250000 & 110  & 1  & 7870 & 17\\\\\n",
       "\t119 &  8.653846 & 2.158004 & 0 & 0 & 0 & 1 & 0 & 0 & 0 & 0 & 0 & 1 &  3.5 &  0.1225 &  0.042875 &   0.01500625 & 7410 & 20 & 570  & 3 \\\\\n",
       "\t135 & 10.683761 & 2.368725 & 1 & 0 & 0 & 1 & 0 & 0 & 0 & 0 & 0 & 1 &  6.5 &  0.4225 &  0.274625 &   0.17850625 & 4300 & 15 & 8590 & 19\\\\\n",
       "\t144 & 11.538462 & 2.445686 & 1 & 0 & 0 & 1 & 0 & 0 & 0 & 0 & 0 & 1 &  8.5 &  0.7225 &  0.614125 &   0.52200625 & 3600 & 11 & 8190 & 18\\\\\n",
       "\t149 & 19.230769 & 2.956512 & 0 & 0 & 0 & 0 & 1 & 0 & 0 & 0 & 0 & 1 & 11.0 &  1.2100 &  1.331000 &   1.46410000 & 6200 & 19 & 770  & 4 \\\\\n",
       "\t152 & 16.304348 & 2.791432 & 1 & 0 & 0 & 1 & 0 & 0 & 0 & 0 & 0 & 1 & 24.5 &  6.0025 & 14.706125 &  36.03000625 & 20   & 1  & 5480 & 9 \\\\\n",
       "\t160 & 12.000000 & 2.484907 & 0 & 0 & 0 & 1 & 0 & 0 & 0 & 0 & 0 & 1 &  4.5 &  0.2025 &  0.091125 &   0.04100625 & 6330 & 19 & 770  & 4 \\\\\n",
       "\t164 & 16.826923 & 2.822980 & 0 & 0 & 0 & 0 & 1 & 0 & 0 & 0 & 0 & 1 &  8.0 &  0.6400 &  0.512000 &   0.40960000 & 5400 & 17 & 4870 & 9 \\\\\n",
       "\t176 & 19.670330 & 2.979111 & 0 & 0 & 0 & 0 & 1 & 0 & 0 & 0 & 0 & 1 & 26.0 &  6.7600 & 17.576000 &  45.69760000 & 6230 & 19 & 6570 & 11\\\\\n",
       "\t206 & 13.942308 & 2.634928 & 1 & 0 & 0 & 1 & 0 & 0 & 0 & 0 & 0 & 1 & 15.5 &  2.4025 &  3.723875 &   5.77200625 & 5860 & 17 & 4670 & 9 \\\\\n",
       "\t213 & 10.096154 & 2.312155 & 1 & 0 & 0 & 1 & 0 & 0 & 0 & 0 & 0 & 1 &  9.0 &  0.8100 &  0.729000 &   0.65610000 & 3500 & 10 & 8090 & 18\\\\\n",
       "\t225 & 24.038462 & 3.179655 & 1 & 0 & 0 & 0 & 1 & 0 & 0 & 0 & 0 & 1 & 31.0 &  9.6100 & 29.791000 &  92.35210000 & 2630 & 9  & 4870 & 9 \\\\\n",
       "\t232 & 41.208791 & 3.718652 & 1 & 0 & 0 & 0 & 1 & 0 & 0 & 0 & 0 & 1 & 11.0 &  1.2100 &  1.331000 &   1.46410000 & 4700 & 16 & 5790 & 9 \\\\\n",
       "\t245 & 21.634615 & 3.074295 & 1 & 0 & 0 & 1 & 0 & 0 & 0 & 0 & 0 & 1 & 17.5 &  3.0625 &  5.359375 &   9.37890625 & 5400 & 17 & 6695 & 11\\\\\n",
       "\t264 & 12.019231 & 2.486508 & 1 & 0 & 0 & 1 & 0 & 0 & 0 & 0 & 0 & 1 &  6.5 &  0.4225 &  0.274625 &   0.17850625 & 4110 & 13 & 8680 & 20\\\\\n",
       "\t280 &  7.211538 & 1.975682 & 1 & 0 & 0 & 1 & 0 & 0 & 0 & 0 & 0 & 1 & 17.5 &  3.0625 &  5.359375 &   9.37890625 & 4720 & 16 & 4980 & 9 \\\\\n",
       "\t281 & 11.778846 & 2.466305 & 1 & 0 & 0 & 0 & 1 & 0 & 0 & 0 & 0 & 1 &  7.0 &  0.4900 &  0.343000 &   0.24010000 & 5860 & 17 & 6870 & 12\\\\\n",
       "\t286 & 12.937063 & 2.560096 & 0 & 0 & 0 & 1 & 0 & 0 & 0 & 0 & 0 & 1 & 34.5 & 11.9025 & 41.063625 & 141.66950625 & 9000 & 22 & 5670 & 9 \\\\\n",
       "\t291 & 13.076923 & 2.570849 & 1 & 0 & 0 & 0 & 1 & 0 & 0 & 0 & 0 & 1 & 10.0 &  1.0000 &  1.000000 &   1.00000000 & 725  & 2  & 8590 & 19\\\\\n",
       "\t366 & 21.634615 & 3.074295 & 1 & 0 & 0 & 0 & 1 & 0 & 0 & 0 & 0 & 1 & 23.0 &  5.2900 & 12.167000 &  27.98410000 & 3320 & 10 & 8190 & 18\\\\\n",
       "\t368 &  8.505917 & 2.140762 & 0 & 0 & 0 & 1 & 0 & 0 & 0 & 0 & 0 & 1 &  4.5 &  0.2025 &  0.091125 &   0.04100625 & 4220 & 14 & 8590 & 19\\\\\n",
       "\t375 & 33.989267 & 3.526045 & 0 & 0 & 0 & 0 & 1 & 0 & 0 & 0 & 0 & 1 & 21.0 &  4.4100 &  9.261000 &  19.44810000 & 5600 & 17 & 3680 & 6 \\\\\n",
       "\t378 & 15.721154 & 2.755007 & 1 & 0 & 0 & 0 & 1 & 0 & 0 & 0 & 0 & 1 &  2.0 &  0.0400 &  0.008000 &   0.00160000 & 5940 & 17 & 8290 & 18\\\\\n",
       "\t... & ... & ... & ... & ... & ... & ... & ... & ... & ... & ... & ... & ... & ... & ... & ... & ... & ... & ... & ... & ...\\\\\n",
       "\t32313 & 33.65385 & 3.516127 & 0 & 0 & 0 & 1 & 0 & 0 & 0 & 0 & 1 & 0 & 24.5 &  6.0025 & 14.706125 &  36.03000625 & 6230 & 19 & 770  & 4 \\\\\n",
       "\t32314 & 30.14553 & 3.406037 & 1 & 0 & 0 & 0 & 1 & 0 & 0 & 0 & 1 & 0 & 15.0 &  2.2500 &  3.375000 &   5.06250000 & 120  & 1  & 6870 & 12\\\\\n",
       "\t32347 & 12.01923 & 2.486508 & 1 & 0 & 0 & 1 & 0 & 0 & 0 & 0 & 1 & 0 &  9.5 &  0.9025 &  0.857375 &   0.81450625 & 4760 & 16 & 4890 & 9 \\\\\n",
       "\t32362 & 25.48077 & 3.237924 & 0 & 0 & 0 & 0 & 1 & 0 & 0 & 0 & 1 & 0 & 16.0 &  2.5600 &  4.096000 &   6.55360000 & 7420 & 20 & 770  & 4 \\\\\n",
       "\t32388 & 22.59615 & 3.117780 & 1 & 0 & 0 & 1 & 0 & 0 & 0 & 0 & 1 & 0 & 11.5 &  1.3225 &  1.520875 &   1.74900625 & 5240 & 17 & 6690 & 11\\\\\n",
       "\t32416 & 18.75000 & 2.931194 & 1 & 0 & 0 & 1 & 0 & 0 & 0 & 0 & 1 & 0 & 19.0 &  3.6100 &  6.859000 &  13.03210000 & 3649 & 11 & 8190 & 18\\\\\n",
       "\t32419 & 29.91453 & 3.398344 & 1 & 0 & 0 & 0 & 1 & 0 & 0 & 0 & 1 & 0 & 39.0 & 15.2100 & 59.319000 & 231.34410000 & 4700 & 16 & 5380 & 9 \\\\\n",
       "\t32458 & 11.29808 & 2.424633 & 1 & 0 & 0 & 0 & 1 & 0 & 0 & 0 & 1 & 0 & 10.0 &  1.0000 &  1.000000 &   1.00000000 & 2060 & 6  & 9160 & 21\\\\\n",
       "\t32468 & 16.02564 & 2.774190 & 1 & 0 & 0 & 1 & 0 & 0 & 0 & 0 & 1 & 0 & 11.0 &  1.2100 &  1.331000 &   1.46410000 & 4720 & 16 & 5080 & 9 \\\\\n",
       "\t32493 & 16.82692 & 2.822980 & 1 & 0 & 0 & 0 & 1 & 0 & 0 & 0 & 1 & 0 &  4.0 &  0.1600 &  0.064000 &   0.02560000 & 3648 & 11 & 7480 & 14\\\\\n",
       "\t32497 & 10.57692 & 2.358675 & 0 & 0 & 0 & 0 & 1 & 0 & 0 & 0 & 1 & 0 &  8.0 &  0.6400 &  0.512000 &   0.40960000 & 1550 & 4  & 9490 & 22\\\\\n",
       "\t32498 & 25.00000 & 3.218876 & 0 & 0 & 0 & 0 & 1 & 0 & 0 & 0 & 1 & 0 & 10.0 &  1.0000 &  1.000000 &   1.00000000 & 1310 & 4  & 770  & 4 \\\\\n",
       "\t32502 & 15.38462 & 2.733368 & 0 & 0 & 0 & 1 & 0 & 0 & 0 & 0 & 1 & 0 & 17.5 &  3.0625 &  5.359375 &   9.37890625 & 2910 & 9  & 9090 & 21\\\\\n",
       "\t32504 & 18.75000 & 2.931194 & 1 & 0 & 0 & 0 & 1 & 0 & 0 & 0 & 1 & 0 &  2.0 &  0.0400 &  0.008000 &   0.00160000 & 2000 & 6  & 8370 & 18\\\\\n",
       "\t32509 & 20.91346 & 3.040393 & 1 & 0 & 0 & 1 & 0 & 0 & 0 & 0 & 1 & 0 &  4.5 &  0.2025 &  0.091125 &   0.04100625 & 4600 & 15 & 8470 & 18\\\\\n",
       "\t32517 & 22.11538 & 3.096274 & 0 & 0 & 0 & 1 & 0 & 0 & 0 & 0 & 1 & 0 &  7.0 &  0.4900 &  0.343000 &   0.24010000 & 410  & 1  & 7070 & 13\\\\\n",
       "\t32528 & 12.01923 & 2.486508 & 0 & 0 & 0 & 1 & 0 & 0 & 0 & 0 & 1 & 0 &  4.0 &  0.1600 &  0.064000 &   0.02560000 & 9620 & 22 & 6170 & 10\\\\\n",
       "\t32539 & 38.46154 & 3.649659 & 1 & 0 & 0 & 1 & 0 & 0 & 0 & 0 & 1 & 0 &  7.5 &  0.5625 &  0.421875 &   0.31640625 & 220  & 1  & 770  & 4 \\\\\n",
       "\t32540 & 28.84615 & 3.361977 & 0 & 0 & 0 & 0 & 1 & 0 & 0 & 0 & 1 & 0 &  5.0 &  0.2500 &  0.125000 &   0.06250000 & 1360 & 4  & 770  & 4 \\\\\n",
       "\t32551 & 27.88462 & 3.328075 & 0 & 0 & 0 & 1 & 0 & 0 & 0 & 0 & 1 & 0 & 28.5 &  8.1225 & 23.149125 &  65.97500625 & 8140 & 21 & 770  & 4 \\\\\n",
       "\t32561 & 38.46154 & 3.649659 & 0 & 0 & 0 & 0 & 1 & 0 & 0 & 0 & 1 & 0 &  8.0 &  0.6400 &  0.512000 &   0.40960000 & 710  & 2  & 6870 & 12\\\\\n",
       "\t32567 & 48.07692 & 3.872802 & 1 & 0 & 0 & 0 & 1 & 0 & 0 & 0 & 1 & 0 & 25.0 &  6.2500 & 15.625000 &  39.06250000 & 3255 & 10 & 8170 & 18\\\\\n",
       "\t32579 & 12.01923 & 2.486508 & 0 & 0 & 0 & 1 & 0 & 0 & 0 & 0 & 1 & 0 & 31.5 &  9.9225 & 31.255875 &  98.45600625 & 5510 & 17 & 6380 & 10\\\\\n",
       "\t32581 & 26.44231 & 3.274965 & 1 & 0 & 0 & 0 & 1 & 0 & 0 & 0 & 1 & 0 & 34.0 & 11.5600 & 39.304000 & 133.63360000 & 2310 & 8  & 7860 & 17\\\\\n",
       "\t32593 & 21.15385 & 3.051822 & 0 & 0 & 0 & 0 & 1 & 0 & 0 & 0 & 1 & 0 & 28.0 &  7.8400 & 21.952000 &  61.46560000 & 40   & 1  & 9170 & 21\\\\\n",
       "\t32596 & 45.54656 & 3.818735 & 1 & 0 & 0 & 0 & 1 & 0 & 0 & 0 & 1 & 0 &  5.0 &  0.2500 &  0.125000 &   0.06250000 & 3255 & 10 & 8190 & 18\\\\\n",
       "\t32606 & 24.03846 & 3.179655 & 1 & 0 & 0 & 0 & 1 & 0 & 0 & 0 & 1 & 0 & 17.0 &  2.8900 &  4.913000 &   8.35210000 & 2550 & 8  & 9480 & 22\\\\\n",
       "\t32619 & 13.84615 & 2.628007 & 0 & 0 & 0 & 0 & 1 & 0 & 0 & 0 & 1 & 0 & 10.0 &  1.0000 &  1.000000 &   1.00000000 & 800  & 2  & 770  & 4 \\\\\n",
       "\t32620 & 14.76923 & 2.692546 & 0 & 0 & 0 & 0 & 1 & 0 & 0 & 0 & 1 & 0 &  9.0 &  0.8100 &  0.729000 &   0.65610000 & 4700 & 16 & 4970 & 9 \\\\\n",
       "\t32624 & 23.07692 & 3.138833 & 1 & 0 & 0 & 1 & 0 & 0 & 0 & 0 & 1 & 0 & 12.0 &  1.4400 &  1.728000 &   2.07360000 & 4110 & 13 & 8680 & 20\\\\\n",
       "\\end{tabular}\n"
      ],
      "text/markdown": [
       "\n",
       "A data.frame: 3068 × 20\n",
       "\n",
       "| <!--/--> | wage &lt;dbl&gt; | lwage &lt;dbl&gt; | sex &lt;dbl&gt; | shs &lt;dbl&gt; | hsg &lt;dbl&gt; | scl &lt;dbl&gt; | clg &lt;dbl&gt; | ad &lt;dbl&gt; | mw &lt;dbl&gt; | so &lt;dbl&gt; | we &lt;dbl&gt; | ne &lt;dbl&gt; | exp1 &lt;dbl&gt; | exp2 &lt;dbl&gt; | exp3 &lt;dbl&gt; | exp4 &lt;dbl&gt; | occ &lt;fct&gt; | occ2 &lt;fct&gt; | ind &lt;fct&gt; | ind2 &lt;fct&gt; |\n",
       "|---|---|---|---|---|---|---|---|---|---|---|---|---|---|---|---|---|---|---|---|---|\n",
       "| 10 |  9.615385 | 2.263364 | 1 | 0 | 0 | 0 | 1 | 0 | 0 | 0 | 0 | 1 |  7.0 |  0.4900 |  0.343000 |   0.24010000 | 3600 | 11 | 8370 | 18 |\n",
       "| 12 | 48.076923 | 3.872802 | 0 | 0 | 0 | 0 | 1 | 0 | 0 | 0 | 0 | 1 | 31.0 |  9.6100 | 29.791000 |  92.35210000 | 3050 | 10 | 5070 | 9  |\n",
       "| 19 | 28.846154 | 3.361977 | 1 | 0 | 0 | 0 | 1 | 0 | 0 | 0 | 0 | 1 | 22.0 |  4.8400 | 10.648000 |  23.42560000 | 2015 | 6  | 9470 | 22 |\n",
       "| 30 | 11.730769 | 2.462215 | 1 | 0 | 0 | 0 | 1 | 0 | 0 | 0 | 0 | 1 |  1.0 |  0.0100 |  0.001000 |   0.00010000 | 1650 | 5  | 7460 | 14 |\n",
       "| 71 | 19.230769 | 2.956512 | 1 | 0 | 0 | 0 | 1 | 0 | 0 | 0 | 0 | 1 |  4.0 |  0.1600 |  0.064000 |   0.02560000 | 3255 | 10 | 8190 | 18 |\n",
       "| 84 | 12.019231 | 2.486508 | 1 | 0 | 0 | 1 | 0 | 0 | 0 | 0 | 0 | 1 |  5.5 |  0.3025 |  0.166375 |   0.09150625 | 3600 | 11 | 8270 | 18 |\n",
       "| 89 | 13.461538 | 2.599837 | 1 | 0 | 0 | 1 | 0 | 0 | 0 | 0 | 0 | 1 | 20.5 |  4.2025 |  8.615125 |  17.66100625 | 3645 | 11 | 8190 | 18 |\n",
       "| 96 | 16.346154 | 2.793993 | 1 | 0 | 0 | 0 | 1 | 0 | 0 | 0 | 0 | 1 | 25.0 |  6.2500 | 15.625000 |  39.06250000 | 110  | 1  | 7870 | 17 |\n",
       "| 119 |  8.653846 | 2.158004 | 0 | 0 | 0 | 1 | 0 | 0 | 0 | 0 | 0 | 1 |  3.5 |  0.1225 |  0.042875 |   0.01500625 | 7410 | 20 | 570  | 3  |\n",
       "| 135 | 10.683761 | 2.368725 | 1 | 0 | 0 | 1 | 0 | 0 | 0 | 0 | 0 | 1 |  6.5 |  0.4225 |  0.274625 |   0.17850625 | 4300 | 15 | 8590 | 19 |\n",
       "| 144 | 11.538462 | 2.445686 | 1 | 0 | 0 | 1 | 0 | 0 | 0 | 0 | 0 | 1 |  8.5 |  0.7225 |  0.614125 |   0.52200625 | 3600 | 11 | 8190 | 18 |\n",
       "| 149 | 19.230769 | 2.956512 | 0 | 0 | 0 | 0 | 1 | 0 | 0 | 0 | 0 | 1 | 11.0 |  1.2100 |  1.331000 |   1.46410000 | 6200 | 19 | 770  | 4  |\n",
       "| 152 | 16.304348 | 2.791432 | 1 | 0 | 0 | 1 | 0 | 0 | 0 | 0 | 0 | 1 | 24.5 |  6.0025 | 14.706125 |  36.03000625 | 20   | 1  | 5480 | 9  |\n",
       "| 160 | 12.000000 | 2.484907 | 0 | 0 | 0 | 1 | 0 | 0 | 0 | 0 | 0 | 1 |  4.5 |  0.2025 |  0.091125 |   0.04100625 | 6330 | 19 | 770  | 4  |\n",
       "| 164 | 16.826923 | 2.822980 | 0 | 0 | 0 | 0 | 1 | 0 | 0 | 0 | 0 | 1 |  8.0 |  0.6400 |  0.512000 |   0.40960000 | 5400 | 17 | 4870 | 9  |\n",
       "| 176 | 19.670330 | 2.979111 | 0 | 0 | 0 | 0 | 1 | 0 | 0 | 0 | 0 | 1 | 26.0 |  6.7600 | 17.576000 |  45.69760000 | 6230 | 19 | 6570 | 11 |\n",
       "| 206 | 13.942308 | 2.634928 | 1 | 0 | 0 | 1 | 0 | 0 | 0 | 0 | 0 | 1 | 15.5 |  2.4025 |  3.723875 |   5.77200625 | 5860 | 17 | 4670 | 9  |\n",
       "| 213 | 10.096154 | 2.312155 | 1 | 0 | 0 | 1 | 0 | 0 | 0 | 0 | 0 | 1 |  9.0 |  0.8100 |  0.729000 |   0.65610000 | 3500 | 10 | 8090 | 18 |\n",
       "| 225 | 24.038462 | 3.179655 | 1 | 0 | 0 | 0 | 1 | 0 | 0 | 0 | 0 | 1 | 31.0 |  9.6100 | 29.791000 |  92.35210000 | 2630 | 9  | 4870 | 9  |\n",
       "| 232 | 41.208791 | 3.718652 | 1 | 0 | 0 | 0 | 1 | 0 | 0 | 0 | 0 | 1 | 11.0 |  1.2100 |  1.331000 |   1.46410000 | 4700 | 16 | 5790 | 9  |\n",
       "| 245 | 21.634615 | 3.074295 | 1 | 0 | 0 | 1 | 0 | 0 | 0 | 0 | 0 | 1 | 17.5 |  3.0625 |  5.359375 |   9.37890625 | 5400 | 17 | 6695 | 11 |\n",
       "| 264 | 12.019231 | 2.486508 | 1 | 0 | 0 | 1 | 0 | 0 | 0 | 0 | 0 | 1 |  6.5 |  0.4225 |  0.274625 |   0.17850625 | 4110 | 13 | 8680 | 20 |\n",
       "| 280 |  7.211538 | 1.975682 | 1 | 0 | 0 | 1 | 0 | 0 | 0 | 0 | 0 | 1 | 17.5 |  3.0625 |  5.359375 |   9.37890625 | 4720 | 16 | 4980 | 9  |\n",
       "| 281 | 11.778846 | 2.466305 | 1 | 0 | 0 | 0 | 1 | 0 | 0 | 0 | 0 | 1 |  7.0 |  0.4900 |  0.343000 |   0.24010000 | 5860 | 17 | 6870 | 12 |\n",
       "| 286 | 12.937063 | 2.560096 | 0 | 0 | 0 | 1 | 0 | 0 | 0 | 0 | 0 | 1 | 34.5 | 11.9025 | 41.063625 | 141.66950625 | 9000 | 22 | 5670 | 9  |\n",
       "| 291 | 13.076923 | 2.570849 | 1 | 0 | 0 | 0 | 1 | 0 | 0 | 0 | 0 | 1 | 10.0 |  1.0000 |  1.000000 |   1.00000000 | 725  | 2  | 8590 | 19 |\n",
       "| 366 | 21.634615 | 3.074295 | 1 | 0 | 0 | 0 | 1 | 0 | 0 | 0 | 0 | 1 | 23.0 |  5.2900 | 12.167000 |  27.98410000 | 3320 | 10 | 8190 | 18 |\n",
       "| 368 |  8.505917 | 2.140762 | 0 | 0 | 0 | 1 | 0 | 0 | 0 | 0 | 0 | 1 |  4.5 |  0.2025 |  0.091125 |   0.04100625 | 4220 | 14 | 8590 | 19 |\n",
       "| 375 | 33.989267 | 3.526045 | 0 | 0 | 0 | 0 | 1 | 0 | 0 | 0 | 0 | 1 | 21.0 |  4.4100 |  9.261000 |  19.44810000 | 5600 | 17 | 3680 | 6  |\n",
       "| 378 | 15.721154 | 2.755007 | 1 | 0 | 0 | 0 | 1 | 0 | 0 | 0 | 0 | 1 |  2.0 |  0.0400 |  0.008000 |   0.00160000 | 5940 | 17 | 8290 | 18 |\n",
       "| ... | ... | ... | ... | ... | ... | ... | ... | ... | ... | ... | ... | ... | ... | ... | ... | ... | ... | ... | ... | ... |\n",
       "| 32313 | 33.65385 | 3.516127 | 0 | 0 | 0 | 1 | 0 | 0 | 0 | 0 | 1 | 0 | 24.5 |  6.0025 | 14.706125 |  36.03000625 | 6230 | 19 | 770  | 4  |\n",
       "| 32314 | 30.14553 | 3.406037 | 1 | 0 | 0 | 0 | 1 | 0 | 0 | 0 | 1 | 0 | 15.0 |  2.2500 |  3.375000 |   5.06250000 | 120  | 1  | 6870 | 12 |\n",
       "| 32347 | 12.01923 | 2.486508 | 1 | 0 | 0 | 1 | 0 | 0 | 0 | 0 | 1 | 0 |  9.5 |  0.9025 |  0.857375 |   0.81450625 | 4760 | 16 | 4890 | 9  |\n",
       "| 32362 | 25.48077 | 3.237924 | 0 | 0 | 0 | 0 | 1 | 0 | 0 | 0 | 1 | 0 | 16.0 |  2.5600 |  4.096000 |   6.55360000 | 7420 | 20 | 770  | 4  |\n",
       "| 32388 | 22.59615 | 3.117780 | 1 | 0 | 0 | 1 | 0 | 0 | 0 | 0 | 1 | 0 | 11.5 |  1.3225 |  1.520875 |   1.74900625 | 5240 | 17 | 6690 | 11 |\n",
       "| 32416 | 18.75000 | 2.931194 | 1 | 0 | 0 | 1 | 0 | 0 | 0 | 0 | 1 | 0 | 19.0 |  3.6100 |  6.859000 |  13.03210000 | 3649 | 11 | 8190 | 18 |\n",
       "| 32419 | 29.91453 | 3.398344 | 1 | 0 | 0 | 0 | 1 | 0 | 0 | 0 | 1 | 0 | 39.0 | 15.2100 | 59.319000 | 231.34410000 | 4700 | 16 | 5380 | 9  |\n",
       "| 32458 | 11.29808 | 2.424633 | 1 | 0 | 0 | 0 | 1 | 0 | 0 | 0 | 1 | 0 | 10.0 |  1.0000 |  1.000000 |   1.00000000 | 2060 | 6  | 9160 | 21 |\n",
       "| 32468 | 16.02564 | 2.774190 | 1 | 0 | 0 | 1 | 0 | 0 | 0 | 0 | 1 | 0 | 11.0 |  1.2100 |  1.331000 |   1.46410000 | 4720 | 16 | 5080 | 9  |\n",
       "| 32493 | 16.82692 | 2.822980 | 1 | 0 | 0 | 0 | 1 | 0 | 0 | 0 | 1 | 0 |  4.0 |  0.1600 |  0.064000 |   0.02560000 | 3648 | 11 | 7480 | 14 |\n",
       "| 32497 | 10.57692 | 2.358675 | 0 | 0 | 0 | 0 | 1 | 0 | 0 | 0 | 1 | 0 |  8.0 |  0.6400 |  0.512000 |   0.40960000 | 1550 | 4  | 9490 | 22 |\n",
       "| 32498 | 25.00000 | 3.218876 | 0 | 0 | 0 | 0 | 1 | 0 | 0 | 0 | 1 | 0 | 10.0 |  1.0000 |  1.000000 |   1.00000000 | 1310 | 4  | 770  | 4  |\n",
       "| 32502 | 15.38462 | 2.733368 | 0 | 0 | 0 | 1 | 0 | 0 | 0 | 0 | 1 | 0 | 17.5 |  3.0625 |  5.359375 |   9.37890625 | 2910 | 9  | 9090 | 21 |\n",
       "| 32504 | 18.75000 | 2.931194 | 1 | 0 | 0 | 0 | 1 | 0 | 0 | 0 | 1 | 0 |  2.0 |  0.0400 |  0.008000 |   0.00160000 | 2000 | 6  | 8370 | 18 |\n",
       "| 32509 | 20.91346 | 3.040393 | 1 | 0 | 0 | 1 | 0 | 0 | 0 | 0 | 1 | 0 |  4.5 |  0.2025 |  0.091125 |   0.04100625 | 4600 | 15 | 8470 | 18 |\n",
       "| 32517 | 22.11538 | 3.096274 | 0 | 0 | 0 | 1 | 0 | 0 | 0 | 0 | 1 | 0 |  7.0 |  0.4900 |  0.343000 |   0.24010000 | 410  | 1  | 7070 | 13 |\n",
       "| 32528 | 12.01923 | 2.486508 | 0 | 0 | 0 | 1 | 0 | 0 | 0 | 0 | 1 | 0 |  4.0 |  0.1600 |  0.064000 |   0.02560000 | 9620 | 22 | 6170 | 10 |\n",
       "| 32539 | 38.46154 | 3.649659 | 1 | 0 | 0 | 1 | 0 | 0 | 0 | 0 | 1 | 0 |  7.5 |  0.5625 |  0.421875 |   0.31640625 | 220  | 1  | 770  | 4  |\n",
       "| 32540 | 28.84615 | 3.361977 | 0 | 0 | 0 | 0 | 1 | 0 | 0 | 0 | 1 | 0 |  5.0 |  0.2500 |  0.125000 |   0.06250000 | 1360 | 4  | 770  | 4  |\n",
       "| 32551 | 27.88462 | 3.328075 | 0 | 0 | 0 | 1 | 0 | 0 | 0 | 0 | 1 | 0 | 28.5 |  8.1225 | 23.149125 |  65.97500625 | 8140 | 21 | 770  | 4  |\n",
       "| 32561 | 38.46154 | 3.649659 | 0 | 0 | 0 | 0 | 1 | 0 | 0 | 0 | 1 | 0 |  8.0 |  0.6400 |  0.512000 |   0.40960000 | 710  | 2  | 6870 | 12 |\n",
       "| 32567 | 48.07692 | 3.872802 | 1 | 0 | 0 | 0 | 1 | 0 | 0 | 0 | 1 | 0 | 25.0 |  6.2500 | 15.625000 |  39.06250000 | 3255 | 10 | 8170 | 18 |\n",
       "| 32579 | 12.01923 | 2.486508 | 0 | 0 | 0 | 1 | 0 | 0 | 0 | 0 | 1 | 0 | 31.5 |  9.9225 | 31.255875 |  98.45600625 | 5510 | 17 | 6380 | 10 |\n",
       "| 32581 | 26.44231 | 3.274965 | 1 | 0 | 0 | 0 | 1 | 0 | 0 | 0 | 1 | 0 | 34.0 | 11.5600 | 39.304000 | 133.63360000 | 2310 | 8  | 7860 | 17 |\n",
       "| 32593 | 21.15385 | 3.051822 | 0 | 0 | 0 | 0 | 1 | 0 | 0 | 0 | 1 | 0 | 28.0 |  7.8400 | 21.952000 |  61.46560000 | 40   | 1  | 9170 | 21 |\n",
       "| 32596 | 45.54656 | 3.818735 | 1 | 0 | 0 | 0 | 1 | 0 | 0 | 0 | 1 | 0 |  5.0 |  0.2500 |  0.125000 |   0.06250000 | 3255 | 10 | 8190 | 18 |\n",
       "| 32606 | 24.03846 | 3.179655 | 1 | 0 | 0 | 0 | 1 | 0 | 0 | 0 | 1 | 0 | 17.0 |  2.8900 |  4.913000 |   8.35210000 | 2550 | 8  | 9480 | 22 |\n",
       "| 32619 | 13.84615 | 2.628007 | 0 | 0 | 0 | 0 | 1 | 0 | 0 | 0 | 1 | 0 | 10.0 |  1.0000 |  1.000000 |   1.00000000 | 800  | 2  | 770  | 4  |\n",
       "| 32620 | 14.76923 | 2.692546 | 0 | 0 | 0 | 0 | 1 | 0 | 0 | 0 | 1 | 0 |  9.0 |  0.8100 |  0.729000 |   0.65610000 | 4700 | 16 | 4970 | 9  |\n",
       "| 32624 | 23.07692 | 3.138833 | 1 | 0 | 0 | 1 | 0 | 0 | 0 | 0 | 1 | 0 | 12.0 |  1.4400 |  1.728000 |   2.07360000 | 4110 | 13 | 8680 | 20 |\n",
       "\n"
      ],
      "text/plain": [
       "      wage      lwage    sex shs hsg scl clg ad  mw  so  we  ne  exp1 exp2   \n",
       "10     9.615385 2.263364 1   0   0   0   1   0   0   0   0   1    7.0  0.4900\n",
       "12    48.076923 3.872802 0   0   0   0   1   0   0   0   0   1   31.0  9.6100\n",
       "19    28.846154 3.361977 1   0   0   0   1   0   0   0   0   1   22.0  4.8400\n",
       "30    11.730769 2.462215 1   0   0   0   1   0   0   0   0   1    1.0  0.0100\n",
       "71    19.230769 2.956512 1   0   0   0   1   0   0   0   0   1    4.0  0.1600\n",
       "84    12.019231 2.486508 1   0   0   1   0   0   0   0   0   1    5.5  0.3025\n",
       "89    13.461538 2.599837 1   0   0   1   0   0   0   0   0   1   20.5  4.2025\n",
       "96    16.346154 2.793993 1   0   0   0   1   0   0   0   0   1   25.0  6.2500\n",
       "119    8.653846 2.158004 0   0   0   1   0   0   0   0   0   1    3.5  0.1225\n",
       "135   10.683761 2.368725 1   0   0   1   0   0   0   0   0   1    6.5  0.4225\n",
       "144   11.538462 2.445686 1   0   0   1   0   0   0   0   0   1    8.5  0.7225\n",
       "149   19.230769 2.956512 0   0   0   0   1   0   0   0   0   1   11.0  1.2100\n",
       "152   16.304348 2.791432 1   0   0   1   0   0   0   0   0   1   24.5  6.0025\n",
       "160   12.000000 2.484907 0   0   0   1   0   0   0   0   0   1    4.5  0.2025\n",
       "164   16.826923 2.822980 0   0   0   0   1   0   0   0   0   1    8.0  0.6400\n",
       "176   19.670330 2.979111 0   0   0   0   1   0   0   0   0   1   26.0  6.7600\n",
       "206   13.942308 2.634928 1   0   0   1   0   0   0   0   0   1   15.5  2.4025\n",
       "213   10.096154 2.312155 1   0   0   1   0   0   0   0   0   1    9.0  0.8100\n",
       "225   24.038462 3.179655 1   0   0   0   1   0   0   0   0   1   31.0  9.6100\n",
       "232   41.208791 3.718652 1   0   0   0   1   0   0   0   0   1   11.0  1.2100\n",
       "245   21.634615 3.074295 1   0   0   1   0   0   0   0   0   1   17.5  3.0625\n",
       "264   12.019231 2.486508 1   0   0   1   0   0   0   0   0   1    6.5  0.4225\n",
       "280    7.211538 1.975682 1   0   0   1   0   0   0   0   0   1   17.5  3.0625\n",
       "281   11.778846 2.466305 1   0   0   0   1   0   0   0   0   1    7.0  0.4900\n",
       "286   12.937063 2.560096 0   0   0   1   0   0   0   0   0   1   34.5 11.9025\n",
       "291   13.076923 2.570849 1   0   0   0   1   0   0   0   0   1   10.0  1.0000\n",
       "366   21.634615 3.074295 1   0   0   0   1   0   0   0   0   1   23.0  5.2900\n",
       "368    8.505917 2.140762 0   0   0   1   0   0   0   0   0   1    4.5  0.2025\n",
       "375   33.989267 3.526045 0   0   0   0   1   0   0   0   0   1   21.0  4.4100\n",
       "378   15.721154 2.755007 1   0   0   0   1   0   0   0   0   1    2.0  0.0400\n",
       "...   ...       ...      ... ... ... ... ... ... ... ... ... ... ...  ...    \n",
       "32313 33.65385  3.516127 0   0   0   1   0   0   0   0   1   0   24.5  6.0025\n",
       "32314 30.14553  3.406037 1   0   0   0   1   0   0   0   1   0   15.0  2.2500\n",
       "32347 12.01923  2.486508 1   0   0   1   0   0   0   0   1   0    9.5  0.9025\n",
       "32362 25.48077  3.237924 0   0   0   0   1   0   0   0   1   0   16.0  2.5600\n",
       "32388 22.59615  3.117780 1   0   0   1   0   0   0   0   1   0   11.5  1.3225\n",
       "32416 18.75000  2.931194 1   0   0   1   0   0   0   0   1   0   19.0  3.6100\n",
       "32419 29.91453  3.398344 1   0   0   0   1   0   0   0   1   0   39.0 15.2100\n",
       "32458 11.29808  2.424633 1   0   0   0   1   0   0   0   1   0   10.0  1.0000\n",
       "32468 16.02564  2.774190 1   0   0   1   0   0   0   0   1   0   11.0  1.2100\n",
       "32493 16.82692  2.822980 1   0   0   0   1   0   0   0   1   0    4.0  0.1600\n",
       "32497 10.57692  2.358675 0   0   0   0   1   0   0   0   1   0    8.0  0.6400\n",
       "32498 25.00000  3.218876 0   0   0   0   1   0   0   0   1   0   10.0  1.0000\n",
       "32502 15.38462  2.733368 0   0   0   1   0   0   0   0   1   0   17.5  3.0625\n",
       "32504 18.75000  2.931194 1   0   0   0   1   0   0   0   1   0    2.0  0.0400\n",
       "32509 20.91346  3.040393 1   0   0   1   0   0   0   0   1   0    4.5  0.2025\n",
       "32517 22.11538  3.096274 0   0   0   1   0   0   0   0   1   0    7.0  0.4900\n",
       "32528 12.01923  2.486508 0   0   0   1   0   0   0   0   1   0    4.0  0.1600\n",
       "32539 38.46154  3.649659 1   0   0   1   0   0   0   0   1   0    7.5  0.5625\n",
       "32540 28.84615  3.361977 0   0   0   0   1   0   0   0   1   0    5.0  0.2500\n",
       "32551 27.88462  3.328075 0   0   0   1   0   0   0   0   1   0   28.5  8.1225\n",
       "32561 38.46154  3.649659 0   0   0   0   1   0   0   0   1   0    8.0  0.6400\n",
       "32567 48.07692  3.872802 1   0   0   0   1   0   0   0   1   0   25.0  6.2500\n",
       "32579 12.01923  2.486508 0   0   0   1   0   0   0   0   1   0   31.5  9.9225\n",
       "32581 26.44231  3.274965 1   0   0   0   1   0   0   0   1   0   34.0 11.5600\n",
       "32593 21.15385  3.051822 0   0   0   0   1   0   0   0   1   0   28.0  7.8400\n",
       "32596 45.54656  3.818735 1   0   0   0   1   0   0   0   1   0    5.0  0.2500\n",
       "32606 24.03846  3.179655 1   0   0   0   1   0   0   0   1   0   17.0  2.8900\n",
       "32619 13.84615  2.628007 0   0   0   0   1   0   0   0   1   0   10.0  1.0000\n",
       "32620 14.76923  2.692546 0   0   0   0   1   0   0   0   1   0    9.0  0.8100\n",
       "32624 23.07692  3.138833 1   0   0   1   0   0   0   0   1   0   12.0  1.4400\n",
       "      exp3      exp4         occ  occ2 ind  ind2\n",
       "10     0.343000   0.24010000 3600 11   8370 18  \n",
       "12    29.791000  92.35210000 3050 10   5070 9   \n",
       "19    10.648000  23.42560000 2015 6    9470 22  \n",
       "30     0.001000   0.00010000 1650 5    7460 14  \n",
       "71     0.064000   0.02560000 3255 10   8190 18  \n",
       "84     0.166375   0.09150625 3600 11   8270 18  \n",
       "89     8.615125  17.66100625 3645 11   8190 18  \n",
       "96    15.625000  39.06250000 110  1    7870 17  \n",
       "119    0.042875   0.01500625 7410 20   570  3   \n",
       "135    0.274625   0.17850625 4300 15   8590 19  \n",
       "144    0.614125   0.52200625 3600 11   8190 18  \n",
       "149    1.331000   1.46410000 6200 19   770  4   \n",
       "152   14.706125  36.03000625 20   1    5480 9   \n",
       "160    0.091125   0.04100625 6330 19   770  4   \n",
       "164    0.512000   0.40960000 5400 17   4870 9   \n",
       "176   17.576000  45.69760000 6230 19   6570 11  \n",
       "206    3.723875   5.77200625 5860 17   4670 9   \n",
       "213    0.729000   0.65610000 3500 10   8090 18  \n",
       "225   29.791000  92.35210000 2630 9    4870 9   \n",
       "232    1.331000   1.46410000 4700 16   5790 9   \n",
       "245    5.359375   9.37890625 5400 17   6695 11  \n",
       "264    0.274625   0.17850625 4110 13   8680 20  \n",
       "280    5.359375   9.37890625 4720 16   4980 9   \n",
       "281    0.343000   0.24010000 5860 17   6870 12  \n",
       "286   41.063625 141.66950625 9000 22   5670 9   \n",
       "291    1.000000   1.00000000 725  2    8590 19  \n",
       "366   12.167000  27.98410000 3320 10   8190 18  \n",
       "368    0.091125   0.04100625 4220 14   8590 19  \n",
       "375    9.261000  19.44810000 5600 17   3680 6   \n",
       "378    0.008000   0.00160000 5940 17   8290 18  \n",
       "...   ...       ...          ...  ...  ...  ... \n",
       "32313 14.706125  36.03000625 6230 19   770  4   \n",
       "32314  3.375000   5.06250000 120  1    6870 12  \n",
       "32347  0.857375   0.81450625 4760 16   4890 9   \n",
       "32362  4.096000   6.55360000 7420 20   770  4   \n",
       "32388  1.520875   1.74900625 5240 17   6690 11  \n",
       "32416  6.859000  13.03210000 3649 11   8190 18  \n",
       "32419 59.319000 231.34410000 4700 16   5380 9   \n",
       "32458  1.000000   1.00000000 2060 6    9160 21  \n",
       "32468  1.331000   1.46410000 4720 16   5080 9   \n",
       "32493  0.064000   0.02560000 3648 11   7480 14  \n",
       "32497  0.512000   0.40960000 1550 4    9490 22  \n",
       "32498  1.000000   1.00000000 1310 4    770  4   \n",
       "32502  5.359375   9.37890625 2910 9    9090 21  \n",
       "32504  0.008000   0.00160000 2000 6    8370 18  \n",
       "32509  0.091125   0.04100625 4600 15   8470 18  \n",
       "32517  0.343000   0.24010000 410  1    7070 13  \n",
       "32528  0.064000   0.02560000 9620 22   6170 10  \n",
       "32539  0.421875   0.31640625 220  1    770  4   \n",
       "32540  0.125000   0.06250000 1360 4    770  4   \n",
       "32551 23.149125  65.97500625 8140 21   770  4   \n",
       "32561  0.512000   0.40960000 710  2    6870 12  \n",
       "32567 15.625000  39.06250000 3255 10   8170 18  \n",
       "32579 31.255875  98.45600625 5510 17   6380 10  \n",
       "32581 39.304000 133.63360000 2310 8    7860 17  \n",
       "32593 21.952000  61.46560000 40   1    9170 21  \n",
       "32596  0.125000   0.06250000 3255 10   8190 18  \n",
       "32606  4.913000   8.35210000 2550 8    9480 22  \n",
       "32619  1.000000   1.00000000 800  2    770  4   \n",
       "32620  0.729000   0.65610000 4700 16   4970 9   \n",
       "32624  1.728000   2.07360000 4110 13   8680 20  "
      ]
     },
     "metadata": {},
     "output_type": "display_data"
    }
   ],
   "source": [
    "data <-subset(data_raw, scl==1 | clg==1) # we named it like this to keep the notation\n",
    "dim (data) # the number of observations is reduced to 3068\n",
    "data"
   ]
  },
  {
   "cell_type": "code",
   "execution_count": 29,
   "id": "6de09c43",
   "metadata": {
    "execution": {
     "iopub.execute_input": "2021-02-21T17:17:48.027996Z",
     "iopub.status.busy": "2021-02-21T17:17:48.025377Z",
     "iopub.status.idle": "2021-02-21T17:17:48.193706Z",
     "shell.execute_reply": "2021-02-21T17:17:48.192123Z"
    },
    "papermill": {
     "duration": 0.217167,
     "end_time": "2021-02-21T17:17:48.193957",
     "exception": false,
     "start_time": "2021-02-21T17:17:47.976790",
     "status": "completed"
    },
    "tags": [],
    "vscode": {
     "languageId": "r"
    }
   },
   "outputs": [
    {
     "data": {
      "text/html": [
       "<style>\n",
       ".list-inline {list-style: none; margin:0; padding: 0}\n",
       ".list-inline>li {display: inline-block}\n",
       ".list-inline>li:not(:last-child)::after {content: \"\\00b7\"; padding: 0 .5ex}\n",
       "</style>\n",
       "<ol class=list-inline><li>3068</li><li>10</li></ol>\n"
      ],
      "text/latex": [
       "\\begin{enumerate*}\n",
       "\\item 3068\n",
       "\\item 10\n",
       "\\end{enumerate*}\n"
      ],
      "text/markdown": [
       "1. 3068\n",
       "2. 10\n",
       "\n",
       "\n"
      ],
      "text/plain": [
       "[1] 3068   10"
      ]
     },
     "metadata": {},
     "output_type": "display_data"
    },
    {
     "data": {
      "text/html": [
       "<table class=\"dataframe\">\n",
       "<caption>A data.frame: 3068 × 10</caption>\n",
       "<thead>\n",
       "\t<tr><th></th><th scope=col>lwage</th><th scope=col>sex</th><th scope=col>shs</th><th scope=col>hsg</th><th scope=col>ad</th><th scope=col>mw</th><th scope=col>so</th><th scope=col>we</th><th scope=col>ne</th><th scope=col>exp1</th></tr>\n",
       "\t<tr><th></th><th scope=col>&lt;dbl&gt;</th><th scope=col>&lt;dbl&gt;</th><th scope=col>&lt;dbl&gt;</th><th scope=col>&lt;dbl&gt;</th><th scope=col>&lt;dbl&gt;</th><th scope=col>&lt;dbl&gt;</th><th scope=col>&lt;dbl&gt;</th><th scope=col>&lt;dbl&gt;</th><th scope=col>&lt;dbl&gt;</th><th scope=col>&lt;dbl&gt;</th></tr>\n",
       "</thead>\n",
       "<tbody>\n",
       "\t<tr><th scope=row>10</th><td>2.263364</td><td>1</td><td>0</td><td>0</td><td>0</td><td>0</td><td>0</td><td>0</td><td>1</td><td> 7.0</td></tr>\n",
       "\t<tr><th scope=row>12</th><td>3.872802</td><td>0</td><td>0</td><td>0</td><td>0</td><td>0</td><td>0</td><td>0</td><td>1</td><td>31.0</td></tr>\n",
       "\t<tr><th scope=row>19</th><td>3.361977</td><td>1</td><td>0</td><td>0</td><td>0</td><td>0</td><td>0</td><td>0</td><td>1</td><td>22.0</td></tr>\n",
       "\t<tr><th scope=row>30</th><td>2.462215</td><td>1</td><td>0</td><td>0</td><td>0</td><td>0</td><td>0</td><td>0</td><td>1</td><td> 1.0</td></tr>\n",
       "\t<tr><th scope=row>71</th><td>2.956512</td><td>1</td><td>0</td><td>0</td><td>0</td><td>0</td><td>0</td><td>0</td><td>1</td><td> 4.0</td></tr>\n",
       "\t<tr><th scope=row>84</th><td>2.486508</td><td>1</td><td>0</td><td>0</td><td>0</td><td>0</td><td>0</td><td>0</td><td>1</td><td> 5.5</td></tr>\n",
       "\t<tr><th scope=row>89</th><td>2.599837</td><td>1</td><td>0</td><td>0</td><td>0</td><td>0</td><td>0</td><td>0</td><td>1</td><td>20.5</td></tr>\n",
       "\t<tr><th scope=row>96</th><td>2.793993</td><td>1</td><td>0</td><td>0</td><td>0</td><td>0</td><td>0</td><td>0</td><td>1</td><td>25.0</td></tr>\n",
       "\t<tr><th scope=row>119</th><td>2.158004</td><td>0</td><td>0</td><td>0</td><td>0</td><td>0</td><td>0</td><td>0</td><td>1</td><td> 3.5</td></tr>\n",
       "\t<tr><th scope=row>135</th><td>2.368725</td><td>1</td><td>0</td><td>0</td><td>0</td><td>0</td><td>0</td><td>0</td><td>1</td><td> 6.5</td></tr>\n",
       "\t<tr><th scope=row>144</th><td>2.445686</td><td>1</td><td>0</td><td>0</td><td>0</td><td>0</td><td>0</td><td>0</td><td>1</td><td> 8.5</td></tr>\n",
       "\t<tr><th scope=row>149</th><td>2.956512</td><td>0</td><td>0</td><td>0</td><td>0</td><td>0</td><td>0</td><td>0</td><td>1</td><td>11.0</td></tr>\n",
       "\t<tr><th scope=row>152</th><td>2.791432</td><td>1</td><td>0</td><td>0</td><td>0</td><td>0</td><td>0</td><td>0</td><td>1</td><td>24.5</td></tr>\n",
       "\t<tr><th scope=row>160</th><td>2.484907</td><td>0</td><td>0</td><td>0</td><td>0</td><td>0</td><td>0</td><td>0</td><td>1</td><td> 4.5</td></tr>\n",
       "\t<tr><th scope=row>164</th><td>2.822980</td><td>0</td><td>0</td><td>0</td><td>0</td><td>0</td><td>0</td><td>0</td><td>1</td><td> 8.0</td></tr>\n",
       "\t<tr><th scope=row>176</th><td>2.979111</td><td>0</td><td>0</td><td>0</td><td>0</td><td>0</td><td>0</td><td>0</td><td>1</td><td>26.0</td></tr>\n",
       "\t<tr><th scope=row>206</th><td>2.634928</td><td>1</td><td>0</td><td>0</td><td>0</td><td>0</td><td>0</td><td>0</td><td>1</td><td>15.5</td></tr>\n",
       "\t<tr><th scope=row>213</th><td>2.312155</td><td>1</td><td>0</td><td>0</td><td>0</td><td>0</td><td>0</td><td>0</td><td>1</td><td> 9.0</td></tr>\n",
       "\t<tr><th scope=row>225</th><td>3.179655</td><td>1</td><td>0</td><td>0</td><td>0</td><td>0</td><td>0</td><td>0</td><td>1</td><td>31.0</td></tr>\n",
       "\t<tr><th scope=row>232</th><td>3.718652</td><td>1</td><td>0</td><td>0</td><td>0</td><td>0</td><td>0</td><td>0</td><td>1</td><td>11.0</td></tr>\n",
       "\t<tr><th scope=row>245</th><td>3.074295</td><td>1</td><td>0</td><td>0</td><td>0</td><td>0</td><td>0</td><td>0</td><td>1</td><td>17.5</td></tr>\n",
       "\t<tr><th scope=row>264</th><td>2.486508</td><td>1</td><td>0</td><td>0</td><td>0</td><td>0</td><td>0</td><td>0</td><td>1</td><td> 6.5</td></tr>\n",
       "\t<tr><th scope=row>280</th><td>1.975682</td><td>1</td><td>0</td><td>0</td><td>0</td><td>0</td><td>0</td><td>0</td><td>1</td><td>17.5</td></tr>\n",
       "\t<tr><th scope=row>281</th><td>2.466305</td><td>1</td><td>0</td><td>0</td><td>0</td><td>0</td><td>0</td><td>0</td><td>1</td><td> 7.0</td></tr>\n",
       "\t<tr><th scope=row>286</th><td>2.560096</td><td>0</td><td>0</td><td>0</td><td>0</td><td>0</td><td>0</td><td>0</td><td>1</td><td>34.5</td></tr>\n",
       "\t<tr><th scope=row>291</th><td>2.570849</td><td>1</td><td>0</td><td>0</td><td>0</td><td>0</td><td>0</td><td>0</td><td>1</td><td>10.0</td></tr>\n",
       "\t<tr><th scope=row>366</th><td>3.074295</td><td>1</td><td>0</td><td>0</td><td>0</td><td>0</td><td>0</td><td>0</td><td>1</td><td>23.0</td></tr>\n",
       "\t<tr><th scope=row>368</th><td>2.140762</td><td>0</td><td>0</td><td>0</td><td>0</td><td>0</td><td>0</td><td>0</td><td>1</td><td> 4.5</td></tr>\n",
       "\t<tr><th scope=row>375</th><td>3.526045</td><td>0</td><td>0</td><td>0</td><td>0</td><td>0</td><td>0</td><td>0</td><td>1</td><td>21.0</td></tr>\n",
       "\t<tr><th scope=row>378</th><td>2.755007</td><td>1</td><td>0</td><td>0</td><td>0</td><td>0</td><td>0</td><td>0</td><td>1</td><td> 2.0</td></tr>\n",
       "\t<tr><th scope=row>...</th><td>...</td><td>...</td><td>...</td><td>...</td><td>...</td><td>...</td><td>...</td><td>...</td><td>...</td><td>...</td></tr>\n",
       "\t<tr><th scope=row>32313</th><td>3.516127</td><td>0</td><td>0</td><td>0</td><td>0</td><td>0</td><td>0</td><td>1</td><td>0</td><td>24.5</td></tr>\n",
       "\t<tr><th scope=row>32314</th><td>3.406037</td><td>1</td><td>0</td><td>0</td><td>0</td><td>0</td><td>0</td><td>1</td><td>0</td><td>15.0</td></tr>\n",
       "\t<tr><th scope=row>32347</th><td>2.486508</td><td>1</td><td>0</td><td>0</td><td>0</td><td>0</td><td>0</td><td>1</td><td>0</td><td> 9.5</td></tr>\n",
       "\t<tr><th scope=row>32362</th><td>3.237924</td><td>0</td><td>0</td><td>0</td><td>0</td><td>0</td><td>0</td><td>1</td><td>0</td><td>16.0</td></tr>\n",
       "\t<tr><th scope=row>32388</th><td>3.117780</td><td>1</td><td>0</td><td>0</td><td>0</td><td>0</td><td>0</td><td>1</td><td>0</td><td>11.5</td></tr>\n",
       "\t<tr><th scope=row>32416</th><td>2.931194</td><td>1</td><td>0</td><td>0</td><td>0</td><td>0</td><td>0</td><td>1</td><td>0</td><td>19.0</td></tr>\n",
       "\t<tr><th scope=row>32419</th><td>3.398344</td><td>1</td><td>0</td><td>0</td><td>0</td><td>0</td><td>0</td><td>1</td><td>0</td><td>39.0</td></tr>\n",
       "\t<tr><th scope=row>32458</th><td>2.424633</td><td>1</td><td>0</td><td>0</td><td>0</td><td>0</td><td>0</td><td>1</td><td>0</td><td>10.0</td></tr>\n",
       "\t<tr><th scope=row>32468</th><td>2.774190</td><td>1</td><td>0</td><td>0</td><td>0</td><td>0</td><td>0</td><td>1</td><td>0</td><td>11.0</td></tr>\n",
       "\t<tr><th scope=row>32493</th><td>2.822980</td><td>1</td><td>0</td><td>0</td><td>0</td><td>0</td><td>0</td><td>1</td><td>0</td><td> 4.0</td></tr>\n",
       "\t<tr><th scope=row>32497</th><td>2.358675</td><td>0</td><td>0</td><td>0</td><td>0</td><td>0</td><td>0</td><td>1</td><td>0</td><td> 8.0</td></tr>\n",
       "\t<tr><th scope=row>32498</th><td>3.218876</td><td>0</td><td>0</td><td>0</td><td>0</td><td>0</td><td>0</td><td>1</td><td>0</td><td>10.0</td></tr>\n",
       "\t<tr><th scope=row>32502</th><td>2.733368</td><td>0</td><td>0</td><td>0</td><td>0</td><td>0</td><td>0</td><td>1</td><td>0</td><td>17.5</td></tr>\n",
       "\t<tr><th scope=row>32504</th><td>2.931194</td><td>1</td><td>0</td><td>0</td><td>0</td><td>0</td><td>0</td><td>1</td><td>0</td><td> 2.0</td></tr>\n",
       "\t<tr><th scope=row>32509</th><td>3.040393</td><td>1</td><td>0</td><td>0</td><td>0</td><td>0</td><td>0</td><td>1</td><td>0</td><td> 4.5</td></tr>\n",
       "\t<tr><th scope=row>32517</th><td>3.096274</td><td>0</td><td>0</td><td>0</td><td>0</td><td>0</td><td>0</td><td>1</td><td>0</td><td> 7.0</td></tr>\n",
       "\t<tr><th scope=row>32528</th><td>2.486508</td><td>0</td><td>0</td><td>0</td><td>0</td><td>0</td><td>0</td><td>1</td><td>0</td><td> 4.0</td></tr>\n",
       "\t<tr><th scope=row>32539</th><td>3.649659</td><td>1</td><td>0</td><td>0</td><td>0</td><td>0</td><td>0</td><td>1</td><td>0</td><td> 7.5</td></tr>\n",
       "\t<tr><th scope=row>32540</th><td>3.361977</td><td>0</td><td>0</td><td>0</td><td>0</td><td>0</td><td>0</td><td>1</td><td>0</td><td> 5.0</td></tr>\n",
       "\t<tr><th scope=row>32551</th><td>3.328075</td><td>0</td><td>0</td><td>0</td><td>0</td><td>0</td><td>0</td><td>1</td><td>0</td><td>28.5</td></tr>\n",
       "\t<tr><th scope=row>32561</th><td>3.649659</td><td>0</td><td>0</td><td>0</td><td>0</td><td>0</td><td>0</td><td>1</td><td>0</td><td> 8.0</td></tr>\n",
       "\t<tr><th scope=row>32567</th><td>3.872802</td><td>1</td><td>0</td><td>0</td><td>0</td><td>0</td><td>0</td><td>1</td><td>0</td><td>25.0</td></tr>\n",
       "\t<tr><th scope=row>32579</th><td>2.486508</td><td>0</td><td>0</td><td>0</td><td>0</td><td>0</td><td>0</td><td>1</td><td>0</td><td>31.5</td></tr>\n",
       "\t<tr><th scope=row>32581</th><td>3.274965</td><td>1</td><td>0</td><td>0</td><td>0</td><td>0</td><td>0</td><td>1</td><td>0</td><td>34.0</td></tr>\n",
       "\t<tr><th scope=row>32593</th><td>3.051822</td><td>0</td><td>0</td><td>0</td><td>0</td><td>0</td><td>0</td><td>1</td><td>0</td><td>28.0</td></tr>\n",
       "\t<tr><th scope=row>32596</th><td>3.818735</td><td>1</td><td>0</td><td>0</td><td>0</td><td>0</td><td>0</td><td>1</td><td>0</td><td> 5.0</td></tr>\n",
       "\t<tr><th scope=row>32606</th><td>3.179655</td><td>1</td><td>0</td><td>0</td><td>0</td><td>0</td><td>0</td><td>1</td><td>0</td><td>17.0</td></tr>\n",
       "\t<tr><th scope=row>32619</th><td>2.628007</td><td>0</td><td>0</td><td>0</td><td>0</td><td>0</td><td>0</td><td>1</td><td>0</td><td>10.0</td></tr>\n",
       "\t<tr><th scope=row>32620</th><td>2.692546</td><td>0</td><td>0</td><td>0</td><td>0</td><td>0</td><td>0</td><td>1</td><td>0</td><td> 9.0</td></tr>\n",
       "\t<tr><th scope=row>32624</th><td>3.138833</td><td>1</td><td>0</td><td>0</td><td>0</td><td>0</td><td>0</td><td>1</td><td>0</td><td>12.0</td></tr>\n",
       "</tbody>\n",
       "</table>\n"
      ],
      "text/latex": [
       "A data.frame: 3068 × 10\n",
       "\\begin{tabular}{r|llllllllll}\n",
       "  & lwage & sex & shs & hsg & ad & mw & so & we & ne & exp1\\\\\n",
       "  & <dbl> & <dbl> & <dbl> & <dbl> & <dbl> & <dbl> & <dbl> & <dbl> & <dbl> & <dbl>\\\\\n",
       "\\hline\n",
       "\t10 & 2.263364 & 1 & 0 & 0 & 0 & 0 & 0 & 0 & 1 &  7.0\\\\\n",
       "\t12 & 3.872802 & 0 & 0 & 0 & 0 & 0 & 0 & 0 & 1 & 31.0\\\\\n",
       "\t19 & 3.361977 & 1 & 0 & 0 & 0 & 0 & 0 & 0 & 1 & 22.0\\\\\n",
       "\t30 & 2.462215 & 1 & 0 & 0 & 0 & 0 & 0 & 0 & 1 &  1.0\\\\\n",
       "\t71 & 2.956512 & 1 & 0 & 0 & 0 & 0 & 0 & 0 & 1 &  4.0\\\\\n",
       "\t84 & 2.486508 & 1 & 0 & 0 & 0 & 0 & 0 & 0 & 1 &  5.5\\\\\n",
       "\t89 & 2.599837 & 1 & 0 & 0 & 0 & 0 & 0 & 0 & 1 & 20.5\\\\\n",
       "\t96 & 2.793993 & 1 & 0 & 0 & 0 & 0 & 0 & 0 & 1 & 25.0\\\\\n",
       "\t119 & 2.158004 & 0 & 0 & 0 & 0 & 0 & 0 & 0 & 1 &  3.5\\\\\n",
       "\t135 & 2.368725 & 1 & 0 & 0 & 0 & 0 & 0 & 0 & 1 &  6.5\\\\\n",
       "\t144 & 2.445686 & 1 & 0 & 0 & 0 & 0 & 0 & 0 & 1 &  8.5\\\\\n",
       "\t149 & 2.956512 & 0 & 0 & 0 & 0 & 0 & 0 & 0 & 1 & 11.0\\\\\n",
       "\t152 & 2.791432 & 1 & 0 & 0 & 0 & 0 & 0 & 0 & 1 & 24.5\\\\\n",
       "\t160 & 2.484907 & 0 & 0 & 0 & 0 & 0 & 0 & 0 & 1 &  4.5\\\\\n",
       "\t164 & 2.822980 & 0 & 0 & 0 & 0 & 0 & 0 & 0 & 1 &  8.0\\\\\n",
       "\t176 & 2.979111 & 0 & 0 & 0 & 0 & 0 & 0 & 0 & 1 & 26.0\\\\\n",
       "\t206 & 2.634928 & 1 & 0 & 0 & 0 & 0 & 0 & 0 & 1 & 15.5\\\\\n",
       "\t213 & 2.312155 & 1 & 0 & 0 & 0 & 0 & 0 & 0 & 1 &  9.0\\\\\n",
       "\t225 & 3.179655 & 1 & 0 & 0 & 0 & 0 & 0 & 0 & 1 & 31.0\\\\\n",
       "\t232 & 3.718652 & 1 & 0 & 0 & 0 & 0 & 0 & 0 & 1 & 11.0\\\\\n",
       "\t245 & 3.074295 & 1 & 0 & 0 & 0 & 0 & 0 & 0 & 1 & 17.5\\\\\n",
       "\t264 & 2.486508 & 1 & 0 & 0 & 0 & 0 & 0 & 0 & 1 &  6.5\\\\\n",
       "\t280 & 1.975682 & 1 & 0 & 0 & 0 & 0 & 0 & 0 & 1 & 17.5\\\\\n",
       "\t281 & 2.466305 & 1 & 0 & 0 & 0 & 0 & 0 & 0 & 1 &  7.0\\\\\n",
       "\t286 & 2.560096 & 0 & 0 & 0 & 0 & 0 & 0 & 0 & 1 & 34.5\\\\\n",
       "\t291 & 2.570849 & 1 & 0 & 0 & 0 & 0 & 0 & 0 & 1 & 10.0\\\\\n",
       "\t366 & 3.074295 & 1 & 0 & 0 & 0 & 0 & 0 & 0 & 1 & 23.0\\\\\n",
       "\t368 & 2.140762 & 0 & 0 & 0 & 0 & 0 & 0 & 0 & 1 &  4.5\\\\\n",
       "\t375 & 3.526045 & 0 & 0 & 0 & 0 & 0 & 0 & 0 & 1 & 21.0\\\\\n",
       "\t378 & 2.755007 & 1 & 0 & 0 & 0 & 0 & 0 & 0 & 1 &  2.0\\\\\n",
       "\t... & ... & ... & ... & ... & ... & ... & ... & ... & ... & ...\\\\\n",
       "\t32313 & 3.516127 & 0 & 0 & 0 & 0 & 0 & 0 & 1 & 0 & 24.5\\\\\n",
       "\t32314 & 3.406037 & 1 & 0 & 0 & 0 & 0 & 0 & 1 & 0 & 15.0\\\\\n",
       "\t32347 & 2.486508 & 1 & 0 & 0 & 0 & 0 & 0 & 1 & 0 &  9.5\\\\\n",
       "\t32362 & 3.237924 & 0 & 0 & 0 & 0 & 0 & 0 & 1 & 0 & 16.0\\\\\n",
       "\t32388 & 3.117780 & 1 & 0 & 0 & 0 & 0 & 0 & 1 & 0 & 11.5\\\\\n",
       "\t32416 & 2.931194 & 1 & 0 & 0 & 0 & 0 & 0 & 1 & 0 & 19.0\\\\\n",
       "\t32419 & 3.398344 & 1 & 0 & 0 & 0 & 0 & 0 & 1 & 0 & 39.0\\\\\n",
       "\t32458 & 2.424633 & 1 & 0 & 0 & 0 & 0 & 0 & 1 & 0 & 10.0\\\\\n",
       "\t32468 & 2.774190 & 1 & 0 & 0 & 0 & 0 & 0 & 1 & 0 & 11.0\\\\\n",
       "\t32493 & 2.822980 & 1 & 0 & 0 & 0 & 0 & 0 & 1 & 0 &  4.0\\\\\n",
       "\t32497 & 2.358675 & 0 & 0 & 0 & 0 & 0 & 0 & 1 & 0 &  8.0\\\\\n",
       "\t32498 & 3.218876 & 0 & 0 & 0 & 0 & 0 & 0 & 1 & 0 & 10.0\\\\\n",
       "\t32502 & 2.733368 & 0 & 0 & 0 & 0 & 0 & 0 & 1 & 0 & 17.5\\\\\n",
       "\t32504 & 2.931194 & 1 & 0 & 0 & 0 & 0 & 0 & 1 & 0 &  2.0\\\\\n",
       "\t32509 & 3.040393 & 1 & 0 & 0 & 0 & 0 & 0 & 1 & 0 &  4.5\\\\\n",
       "\t32517 & 3.096274 & 0 & 0 & 0 & 0 & 0 & 0 & 1 & 0 &  7.0\\\\\n",
       "\t32528 & 2.486508 & 0 & 0 & 0 & 0 & 0 & 0 & 1 & 0 &  4.0\\\\\n",
       "\t32539 & 3.649659 & 1 & 0 & 0 & 0 & 0 & 0 & 1 & 0 &  7.5\\\\\n",
       "\t32540 & 3.361977 & 0 & 0 & 0 & 0 & 0 & 0 & 1 & 0 &  5.0\\\\\n",
       "\t32551 & 3.328075 & 0 & 0 & 0 & 0 & 0 & 0 & 1 & 0 & 28.5\\\\\n",
       "\t32561 & 3.649659 & 0 & 0 & 0 & 0 & 0 & 0 & 1 & 0 &  8.0\\\\\n",
       "\t32567 & 3.872802 & 1 & 0 & 0 & 0 & 0 & 0 & 1 & 0 & 25.0\\\\\n",
       "\t32579 & 2.486508 & 0 & 0 & 0 & 0 & 0 & 0 & 1 & 0 & 31.5\\\\\n",
       "\t32581 & 3.274965 & 1 & 0 & 0 & 0 & 0 & 0 & 1 & 0 & 34.0\\\\\n",
       "\t32593 & 3.051822 & 0 & 0 & 0 & 0 & 0 & 0 & 1 & 0 & 28.0\\\\\n",
       "\t32596 & 3.818735 & 1 & 0 & 0 & 0 & 0 & 0 & 1 & 0 &  5.0\\\\\n",
       "\t32606 & 3.179655 & 1 & 0 & 0 & 0 & 0 & 0 & 1 & 0 & 17.0\\\\\n",
       "\t32619 & 2.628007 & 0 & 0 & 0 & 0 & 0 & 0 & 1 & 0 & 10.0\\\\\n",
       "\t32620 & 2.692546 & 0 & 0 & 0 & 0 & 0 & 0 & 1 & 0 &  9.0\\\\\n",
       "\t32624 & 3.138833 & 1 & 0 & 0 & 0 & 0 & 0 & 1 & 0 & 12.0\\\\\n",
       "\\end{tabular}\n"
      ],
      "text/markdown": [
       "\n",
       "A data.frame: 3068 × 10\n",
       "\n",
       "| <!--/--> | lwage &lt;dbl&gt; | sex &lt;dbl&gt; | shs &lt;dbl&gt; | hsg &lt;dbl&gt; | ad &lt;dbl&gt; | mw &lt;dbl&gt; | so &lt;dbl&gt; | we &lt;dbl&gt; | ne &lt;dbl&gt; | exp1 &lt;dbl&gt; |\n",
       "|---|---|---|---|---|---|---|---|---|---|---|\n",
       "| 10 | 2.263364 | 1 | 0 | 0 | 0 | 0 | 0 | 0 | 1 |  7.0 |\n",
       "| 12 | 3.872802 | 0 | 0 | 0 | 0 | 0 | 0 | 0 | 1 | 31.0 |\n",
       "| 19 | 3.361977 | 1 | 0 | 0 | 0 | 0 | 0 | 0 | 1 | 22.0 |\n",
       "| 30 | 2.462215 | 1 | 0 | 0 | 0 | 0 | 0 | 0 | 1 |  1.0 |\n",
       "| 71 | 2.956512 | 1 | 0 | 0 | 0 | 0 | 0 | 0 | 1 |  4.0 |\n",
       "| 84 | 2.486508 | 1 | 0 | 0 | 0 | 0 | 0 | 0 | 1 |  5.5 |\n",
       "| 89 | 2.599837 | 1 | 0 | 0 | 0 | 0 | 0 | 0 | 1 | 20.5 |\n",
       "| 96 | 2.793993 | 1 | 0 | 0 | 0 | 0 | 0 | 0 | 1 | 25.0 |\n",
       "| 119 | 2.158004 | 0 | 0 | 0 | 0 | 0 | 0 | 0 | 1 |  3.5 |\n",
       "| 135 | 2.368725 | 1 | 0 | 0 | 0 | 0 | 0 | 0 | 1 |  6.5 |\n",
       "| 144 | 2.445686 | 1 | 0 | 0 | 0 | 0 | 0 | 0 | 1 |  8.5 |\n",
       "| 149 | 2.956512 | 0 | 0 | 0 | 0 | 0 | 0 | 0 | 1 | 11.0 |\n",
       "| 152 | 2.791432 | 1 | 0 | 0 | 0 | 0 | 0 | 0 | 1 | 24.5 |\n",
       "| 160 | 2.484907 | 0 | 0 | 0 | 0 | 0 | 0 | 0 | 1 |  4.5 |\n",
       "| 164 | 2.822980 | 0 | 0 | 0 | 0 | 0 | 0 | 0 | 1 |  8.0 |\n",
       "| 176 | 2.979111 | 0 | 0 | 0 | 0 | 0 | 0 | 0 | 1 | 26.0 |\n",
       "| 206 | 2.634928 | 1 | 0 | 0 | 0 | 0 | 0 | 0 | 1 | 15.5 |\n",
       "| 213 | 2.312155 | 1 | 0 | 0 | 0 | 0 | 0 | 0 | 1 |  9.0 |\n",
       "| 225 | 3.179655 | 1 | 0 | 0 | 0 | 0 | 0 | 0 | 1 | 31.0 |\n",
       "| 232 | 3.718652 | 1 | 0 | 0 | 0 | 0 | 0 | 0 | 1 | 11.0 |\n",
       "| 245 | 3.074295 | 1 | 0 | 0 | 0 | 0 | 0 | 0 | 1 | 17.5 |\n",
       "| 264 | 2.486508 | 1 | 0 | 0 | 0 | 0 | 0 | 0 | 1 |  6.5 |\n",
       "| 280 | 1.975682 | 1 | 0 | 0 | 0 | 0 | 0 | 0 | 1 | 17.5 |\n",
       "| 281 | 2.466305 | 1 | 0 | 0 | 0 | 0 | 0 | 0 | 1 |  7.0 |\n",
       "| 286 | 2.560096 | 0 | 0 | 0 | 0 | 0 | 0 | 0 | 1 | 34.5 |\n",
       "| 291 | 2.570849 | 1 | 0 | 0 | 0 | 0 | 0 | 0 | 1 | 10.0 |\n",
       "| 366 | 3.074295 | 1 | 0 | 0 | 0 | 0 | 0 | 0 | 1 | 23.0 |\n",
       "| 368 | 2.140762 | 0 | 0 | 0 | 0 | 0 | 0 | 0 | 1 |  4.5 |\n",
       "| 375 | 3.526045 | 0 | 0 | 0 | 0 | 0 | 0 | 0 | 1 | 21.0 |\n",
       "| 378 | 2.755007 | 1 | 0 | 0 | 0 | 0 | 0 | 0 | 1 |  2.0 |\n",
       "| ... | ... | ... | ... | ... | ... | ... | ... | ... | ... | ... |\n",
       "| 32313 | 3.516127 | 0 | 0 | 0 | 0 | 0 | 0 | 1 | 0 | 24.5 |\n",
       "| 32314 | 3.406037 | 1 | 0 | 0 | 0 | 0 | 0 | 1 | 0 | 15.0 |\n",
       "| 32347 | 2.486508 | 1 | 0 | 0 | 0 | 0 | 0 | 1 | 0 |  9.5 |\n",
       "| 32362 | 3.237924 | 0 | 0 | 0 | 0 | 0 | 0 | 1 | 0 | 16.0 |\n",
       "| 32388 | 3.117780 | 1 | 0 | 0 | 0 | 0 | 0 | 1 | 0 | 11.5 |\n",
       "| 32416 | 2.931194 | 1 | 0 | 0 | 0 | 0 | 0 | 1 | 0 | 19.0 |\n",
       "| 32419 | 3.398344 | 1 | 0 | 0 | 0 | 0 | 0 | 1 | 0 | 39.0 |\n",
       "| 32458 | 2.424633 | 1 | 0 | 0 | 0 | 0 | 0 | 1 | 0 | 10.0 |\n",
       "| 32468 | 2.774190 | 1 | 0 | 0 | 0 | 0 | 0 | 1 | 0 | 11.0 |\n",
       "| 32493 | 2.822980 | 1 | 0 | 0 | 0 | 0 | 0 | 1 | 0 |  4.0 |\n",
       "| 32497 | 2.358675 | 0 | 0 | 0 | 0 | 0 | 0 | 1 | 0 |  8.0 |\n",
       "| 32498 | 3.218876 | 0 | 0 | 0 | 0 | 0 | 0 | 1 | 0 | 10.0 |\n",
       "| 32502 | 2.733368 | 0 | 0 | 0 | 0 | 0 | 0 | 1 | 0 | 17.5 |\n",
       "| 32504 | 2.931194 | 1 | 0 | 0 | 0 | 0 | 0 | 1 | 0 |  2.0 |\n",
       "| 32509 | 3.040393 | 1 | 0 | 0 | 0 | 0 | 0 | 1 | 0 |  4.5 |\n",
       "| 32517 | 3.096274 | 0 | 0 | 0 | 0 | 0 | 0 | 1 | 0 |  7.0 |\n",
       "| 32528 | 2.486508 | 0 | 0 | 0 | 0 | 0 | 0 | 1 | 0 |  4.0 |\n",
       "| 32539 | 3.649659 | 1 | 0 | 0 | 0 | 0 | 0 | 1 | 0 |  7.5 |\n",
       "| 32540 | 3.361977 | 0 | 0 | 0 | 0 | 0 | 0 | 1 | 0 |  5.0 |\n",
       "| 32551 | 3.328075 | 0 | 0 | 0 | 0 | 0 | 0 | 1 | 0 | 28.5 |\n",
       "| 32561 | 3.649659 | 0 | 0 | 0 | 0 | 0 | 0 | 1 | 0 |  8.0 |\n",
       "| 32567 | 3.872802 | 1 | 0 | 0 | 0 | 0 | 0 | 1 | 0 | 25.0 |\n",
       "| 32579 | 2.486508 | 0 | 0 | 0 | 0 | 0 | 0 | 1 | 0 | 31.5 |\n",
       "| 32581 | 3.274965 | 1 | 0 | 0 | 0 | 0 | 0 | 1 | 0 | 34.0 |\n",
       "| 32593 | 3.051822 | 0 | 0 | 0 | 0 | 0 | 0 | 1 | 0 | 28.0 |\n",
       "| 32596 | 3.818735 | 1 | 0 | 0 | 0 | 0 | 0 | 1 | 0 |  5.0 |\n",
       "| 32606 | 3.179655 | 1 | 0 | 0 | 0 | 0 | 0 | 1 | 0 | 17.0 |\n",
       "| 32619 | 2.628007 | 0 | 0 | 0 | 0 | 0 | 0 | 1 | 0 | 10.0 |\n",
       "| 32620 | 2.692546 | 0 | 0 | 0 | 0 | 0 | 0 | 1 | 0 |  9.0 |\n",
       "| 32624 | 3.138833 | 1 | 0 | 0 | 0 | 0 | 0 | 1 | 0 | 12.0 |\n",
       "\n"
      ],
      "text/plain": [
       "      lwage    sex shs hsg ad  mw  so  we  ne  exp1\n",
       "10    2.263364 1   0   0   0   0   0   0   1    7.0\n",
       "12    3.872802 0   0   0   0   0   0   0   1   31.0\n",
       "19    3.361977 1   0   0   0   0   0   0   1   22.0\n",
       "30    2.462215 1   0   0   0   0   0   0   1    1.0\n",
       "71    2.956512 1   0   0   0   0   0   0   1    4.0\n",
       "84    2.486508 1   0   0   0   0   0   0   1    5.5\n",
       "89    2.599837 1   0   0   0   0   0   0   1   20.5\n",
       "96    2.793993 1   0   0   0   0   0   0   1   25.0\n",
       "119   2.158004 0   0   0   0   0   0   0   1    3.5\n",
       "135   2.368725 1   0   0   0   0   0   0   1    6.5\n",
       "144   2.445686 1   0   0   0   0   0   0   1    8.5\n",
       "149   2.956512 0   0   0   0   0   0   0   1   11.0\n",
       "152   2.791432 1   0   0   0   0   0   0   1   24.5\n",
       "160   2.484907 0   0   0   0   0   0   0   1    4.5\n",
       "164   2.822980 0   0   0   0   0   0   0   1    8.0\n",
       "176   2.979111 0   0   0   0   0   0   0   1   26.0\n",
       "206   2.634928 1   0   0   0   0   0   0   1   15.5\n",
       "213   2.312155 1   0   0   0   0   0   0   1    9.0\n",
       "225   3.179655 1   0   0   0   0   0   0   1   31.0\n",
       "232   3.718652 1   0   0   0   0   0   0   1   11.0\n",
       "245   3.074295 1   0   0   0   0   0   0   1   17.5\n",
       "264   2.486508 1   0   0   0   0   0   0   1    6.5\n",
       "280   1.975682 1   0   0   0   0   0   0   1   17.5\n",
       "281   2.466305 1   0   0   0   0   0   0   1    7.0\n",
       "286   2.560096 0   0   0   0   0   0   0   1   34.5\n",
       "291   2.570849 1   0   0   0   0   0   0   1   10.0\n",
       "366   3.074295 1   0   0   0   0   0   0   1   23.0\n",
       "368   2.140762 0   0   0   0   0   0   0   1    4.5\n",
       "375   3.526045 0   0   0   0   0   0   0   1   21.0\n",
       "378   2.755007 1   0   0   0   0   0   0   1    2.0\n",
       "...   ...      ... ... ... ... ... ... ... ... ... \n",
       "32313 3.516127 0   0   0   0   0   0   1   0   24.5\n",
       "32314 3.406037 1   0   0   0   0   0   1   0   15.0\n",
       "32347 2.486508 1   0   0   0   0   0   1   0    9.5\n",
       "32362 3.237924 0   0   0   0   0   0   1   0   16.0\n",
       "32388 3.117780 1   0   0   0   0   0   1   0   11.5\n",
       "32416 2.931194 1   0   0   0   0   0   1   0   19.0\n",
       "32419 3.398344 1   0   0   0   0   0   1   0   39.0\n",
       "32458 2.424633 1   0   0   0   0   0   1   0   10.0\n",
       "32468 2.774190 1   0   0   0   0   0   1   0   11.0\n",
       "32493 2.822980 1   0   0   0   0   0   1   0    4.0\n",
       "32497 2.358675 0   0   0   0   0   0   1   0    8.0\n",
       "32498 3.218876 0   0   0   0   0   0   1   0   10.0\n",
       "32502 2.733368 0   0   0   0   0   0   1   0   17.5\n",
       "32504 2.931194 1   0   0   0   0   0   1   0    2.0\n",
       "32509 3.040393 1   0   0   0   0   0   1   0    4.5\n",
       "32517 3.096274 0   0   0   0   0   0   1   0    7.0\n",
       "32528 2.486508 0   0   0   0   0   0   1   0    4.0\n",
       "32539 3.649659 1   0   0   0   0   0   1   0    7.5\n",
       "32540 3.361977 0   0   0   0   0   0   1   0    5.0\n",
       "32551 3.328075 0   0   0   0   0   0   1   0   28.5\n",
       "32561 3.649659 0   0   0   0   0   0   1   0    8.0\n",
       "32567 3.872802 1   0   0   0   0   0   1   0   25.0\n",
       "32579 2.486508 0   0   0   0   0   0   1   0   31.5\n",
       "32581 3.274965 1   0   0   0   0   0   1   0   34.0\n",
       "32593 3.051822 0   0   0   0   0   0   1   0   28.0\n",
       "32596 3.818735 1   0   0   0   0   0   1   0    5.0\n",
       "32606 3.179655 1   0   0   0   0   0   1   0   17.0\n",
       "32619 2.628007 0   0   0   0   0   0   1   0   10.0\n",
       "32620 2.692546 0   0   0   0   0   0   1   0    9.0\n",
       "32624 3.138833 1   0   0   0   0   0   1   0   12.0"
      ]
     },
     "metadata": {},
     "output_type": "display_data"
    }
   ],
   "source": [
    "data2 <-data[which(colnames(data) %in% c(\"lwage\",\"sex\",\"shs\",\"hsg\",\"ad\",\"ne\",\"mw\",\"so\",\"we\",\"exp1\"))]\n",
    "dim(data2) # we can see that the data set has 3068 observations and 10 variables\n",
    "data2"
   ]
  },
  {
   "cell_type": "code",
   "execution_count": 30,
   "id": "e2df1887",
   "metadata": {
    "vscode": {
     "languageId": "r"
    }
   },
   "outputs": [],
   "source": [
    "data2$gen <- ifelse(data2$sex==0, \"Men\", \"Women\")\n",
    "# data2"
   ]
  },
  {
   "cell_type": "markdown",
   "id": "1702f1eb",
   "metadata": {},
   "source": [
    "### Generate the histogram"
   ]
  },
  {
   "cell_type": "code",
   "execution_count": 31,
   "id": "eb6e597c",
   "metadata": {
    "vscode": {
     "languageId": "r"
    }
   },
   "outputs": [
    {
     "data": {
      "image/png": "[encoded data removed]",
      "text/plain": [
       "plot without title"
      ]
     },
     "metadata": {
      "image/png": {
       "height": 420,
       "width": 420
      }
     },
     "output_type": "display_data"
    }
   ],
   "source": [
    "ggplot(data2, aes(x = lwage, y = ..density.., fill = gen)) +\n",
    "         geom_histogram(bins = 30, position = position_dodge(width = 0), alpha = 0.6) +\n",
    "  labs(x = \"log wage\", y = \"density\", title = \"log(wage) by gender\") +\n",
    "  scale_x_log10() +\n",
    "  theme_minimal()"
   ]
  },
  {
   "cell_type": "markdown",
   "id": "f11dfac2",
   "metadata": {},
   "source": [
    "### Boxplot"
   ]
  },
  {
   "cell_type": "code",
   "execution_count": 32,
   "id": "d0810370",
   "metadata": {
    "vscode": {
     "languageId": "r"
    }
   },
   "outputs": [
    {
     "data": {
      "image/png": "[encoded data removed]",
      "text/plain": [
       "Plot with title \"log(wage) by gender\""
      ]
     },
     "metadata": {
      "image/png": {
       "height": 420,
       "width": 420
      }
     },
     "output_type": "display_data"
    }
   ],
   "source": [
    "boxplot(lwage~gen,data=data2,col=\"steelblue\",main=\"log(wage) by gender\")"
   ]
  },
  {
   "cell_type": "markdown",
   "id": "afbb32bd",
   "metadata": {
    "papermill": {
     "duration": 0.020145,
     "end_time": "2021-02-21T17:17:48.235598",
     "exception": false,
     "start_time": "2021-02-21T17:17:48.215453",
     "status": "completed"
    },
    "tags": []
   },
   "source": [
    "We start our causal analysis comparing the sample means given gender:"
   ]
  },
  {
   "cell_type": "code",
   "execution_count": 33,
   "id": "fe19e51d",
   "metadata": {
    "vscode": {
     "languageId": "r"
    }
   },
   "outputs": [],
   "source": [
    "data2 <-data[which(colnames(data) %in% c(\"lwage\",\"sex\",\"shs\",\"hsg\",\"ad\",\"ne\",\"mw\",\"so\",\"we\",\"exp1\"))]"
   ]
  },
  {
   "cell_type": "code",
   "execution_count": 34,
   "id": "1826edf7",
   "metadata": {
    "execution": {
     "iopub.execute_input": "2021-02-21T17:17:48.309038Z",
     "iopub.status.busy": "2021-02-21T17:17:48.279446Z",
     "iopub.status.idle": "2021-02-21T17:17:48.385996Z",
     "shell.execute_reply": "2021-02-21T17:17:48.384619Z"
    },
    "papermill": {
     "duration": 0.130992,
     "end_time": "2021-02-21T17:17:48.386138",
     "exception": false,
     "start_time": "2021-02-21T17:17:48.255146",
     "status": "completed"
    },
    "tags": [],
    "vscode": {
     "languageId": "r"
    }
   },
   "outputs": [],
   "source": [
    "data_female <- data[data$sex==1,]\n",
    "data2_female <- data_female[which(colnames(data) %in% c(\"lwage\",\"sex\",\"shs\",\"hsg\",\"ad\",\"ne\",\"mw\",\"so\",\"we\",\"exp1\"))]\n",
    "\n",
    "\n",
    "data_male <- data[data$sex==0,]\n",
    "data2_male <- data_male[which(colnames(data) %in% c(\"lwage\",\"sex\",\"shs\",\"hsg\",\"ad\",\"ne\",\"mw\",\"so\",\"we\",\"exp1\"))]\n"
   ]
  },
  {
   "cell_type": "code",
   "execution_count": 35,
   "id": "cd1599fe",
   "metadata": {
    "execution": {
     "iopub.execute_input": "2021-02-21T17:17:48.309038Z",
     "iopub.status.busy": "2021-02-21T17:17:48.279446Z",
     "iopub.status.idle": "2021-02-21T17:17:48.385996Z",
     "shell.execute_reply": "2021-02-21T17:17:48.384619Z"
    },
    "papermill": {
     "duration": 0.130992,
     "end_time": "2021-02-21T17:17:48.386138",
     "exception": false,
     "start_time": "2021-02-21T17:17:48.255146",
     "status": "completed"
    },
    "tags": [],
    "vscode": {
     "languageId": "r"
    }
   },
   "outputs": [
    {
     "data": {
      "text/html": [
       "<table class=\"dataframe\">\n",
       "<caption>A xtable: 10 × 3</caption>\n",
       "<thead>\n",
       "\t<tr><th></th><th scope=col>All</th><th scope=col>Men</th><th scope=col>Women</th></tr>\n",
       "\t<tr><th></th><th scope=col>&lt;dbl&gt;</th><th scope=col>&lt;dbl&gt;</th><th scope=col>&lt;dbl&gt;</th></tr>\n",
       "</thead>\n",
       "<tbody>\n",
       "\t<tr><th scope=row>Log Wage</th><td> 3.0000223</td><td> 3.0384121</td><td> 2.9569035</td></tr>\n",
       "\t<tr><th scope=row>Sex</th><td> 0.4709909</td><td> 0.0000000</td><td> 1.0000000</td></tr>\n",
       "\t<tr><th scope=row>Less then High School</th><td> 0.0000000</td><td> 0.0000000</td><td> 0.0000000</td></tr>\n",
       "\t<tr><th scope=row>High School Graduate</th><td> 0.0000000</td><td> 0.0000000</td><td> 0.0000000</td></tr>\n",
       "\t<tr><th scope=row>Advanced Degree</th><td> 0.0000000</td><td> 0.0000000</td><td> 0.0000000</td></tr>\n",
       "\t<tr><th scope=row>Northeast</th><td> 0.2659713</td><td> 0.2612446</td><td> 0.2712803</td></tr>\n",
       "\t<tr><th scope=row>Midwest</th><td> 0.2858540</td><td> 0.2908195</td><td> 0.2802768</td></tr>\n",
       "\t<tr><th scope=row>South</th><td> 0.2216428</td><td> 0.2285890</td><td> 0.2138408</td></tr>\n",
       "\t<tr><th scope=row>West</th><td> 0.2265319</td><td> 0.2193469</td><td> 0.2346021</td></tr>\n",
       "\t<tr><th scope=row>Experience</th><td>12.7009452</td><td>12.4331485</td><td>13.0017301</td></tr>\n",
       "</tbody>\n",
       "</table>\n"
      ],
      "text/latex": [
       "A xtable: 10 × 3\n",
       "\\begin{tabular}{r|lll}\n",
       "  & All & Men & Women\\\\\n",
       "  & <dbl> & <dbl> & <dbl>\\\\\n",
       "\\hline\n",
       "\tLog Wage &  3.0000223 &  3.0384121 &  2.9569035\\\\\n",
       "\tSex &  0.4709909 &  0.0000000 &  1.0000000\\\\\n",
       "\tLess then High School &  0.0000000 &  0.0000000 &  0.0000000\\\\\n",
       "\tHigh School Graduate &  0.0000000 &  0.0000000 &  0.0000000\\\\\n",
       "\tAdvanced Degree &  0.0000000 &  0.0000000 &  0.0000000\\\\\n",
       "\tNortheast &  0.2659713 &  0.2612446 &  0.2712803\\\\\n",
       "\tMidwest &  0.2858540 &  0.2908195 &  0.2802768\\\\\n",
       "\tSouth &  0.2216428 &  0.2285890 &  0.2138408\\\\\n",
       "\tWest &  0.2265319 &  0.2193469 &  0.2346021\\\\\n",
       "\tExperience & 12.7009452 & 12.4331485 & 13.0017301\\\\\n",
       "\\end{tabular}\n"
      ],
      "text/markdown": [
       "\n",
       "A xtable: 10 × 3\n",
       "\n",
       "| <!--/--> | All &lt;dbl&gt; | Men &lt;dbl&gt; | Women &lt;dbl&gt; |\n",
       "|---|---|---|---|\n",
       "| Log Wage |  3.0000223 |  3.0384121 |  2.9569035 |\n",
       "| Sex |  0.4709909 |  0.0000000 |  1.0000000 |\n",
       "| Less then High School |  0.0000000 |  0.0000000 |  0.0000000 |\n",
       "| High School Graduate |  0.0000000 |  0.0000000 |  0.0000000 |\n",
       "| Advanced Degree |  0.0000000 |  0.0000000 |  0.0000000 |\n",
       "| Northeast |  0.2659713 |  0.2612446 |  0.2712803 |\n",
       "| Midwest |  0.2858540 |  0.2908195 |  0.2802768 |\n",
       "| South |  0.2216428 |  0.2285890 |  0.2138408 |\n",
       "| West |  0.2265319 |  0.2193469 |  0.2346021 |\n",
       "| Experience | 12.7009452 | 12.4331485 | 13.0017301 |\n",
       "\n"
      ],
      "text/plain": [
       "                      All        Men        Women     \n",
       "Log Wage               3.0000223  3.0384121  2.9569035\n",
       "Sex                    0.4709909  0.0000000  1.0000000\n",
       "Less then High School  0.0000000  0.0000000  0.0000000\n",
       "High School Graduate   0.0000000  0.0000000  0.0000000\n",
       "Advanced Degree        0.0000000  0.0000000  0.0000000\n",
       "Northeast              0.2659713  0.2612446  0.2712803\n",
       "Midwest                0.2858540  0.2908195  0.2802768\n",
       "South                  0.2216428  0.2285890  0.2138408\n",
       "West                   0.2265319  0.2193469  0.2346021\n",
       "Experience            12.7009452 12.4331485 13.0017301"
      ]
     },
     "metadata": {},
     "output_type": "display_data"
    }
   ],
   "source": [
    "table <- matrix(0, 10, 3)\n",
    "table[1:10,1]   <- as.numeric(lapply(data2,mean))\n",
    "table[1:10,2]   <- as.numeric(lapply(data2_male,mean))\n",
    "table[1:10,3]   <- as.numeric(lapply(data2_female,mean))\n",
    "rownames(table) <- c(\"Log Wage\",\"Sex\",\"Less then High School\",\"High School Graduate\",\"Advanced Degree\", \"Northeast\",\"Midwest\",\"South\",\"West\",\"Experience\")\n",
    "colnames(table) <- c(\"All\",\"Men\",\"Women\")\n",
    "tab<- xtable(table, digits = 4)\n",
    "tab"
   ]
  },
  {
   "cell_type": "markdown",
   "id": "e32219fa",
   "metadata": {},
   "source": [
    "We can see that, obviously, other education dimensions are empty since we have limited the data base to people who have had some college education."
   ]
  },
  {
   "cell_type": "code",
   "execution_count": 36,
   "id": "c21f6283",
   "metadata": {
    "vscode": {
     "languageId": "r"
    }
   },
   "outputs": [
    {
     "name": "stdout",
     "output_type": "stream",
     "text": [
      "<!-- html table generated in R 4.1.3 by xtable 1.8-4 package -->\n",
      "<!-- Sat Apr 09 15:15:13 2022 -->\n",
      "<table border=1>\n",
      "<tr> <th>  </th> <th> All </th> <th> Men </th> <th> Women </th>  </tr>\n",
      "  <tr> <td align=\"right\"> Log Wage </td> <td align=\"right\"> 3.0000 </td> <td align=\"right\"> 3.0384 </td> <td align=\"right\"> 2.9569 </td> </tr>\n",
      "  <tr> <td align=\"right\"> Sex </td> <td align=\"right\"> 0.4710 </td> <td align=\"right\"> 0.0000 </td> <td align=\"right\"> 1.0000 </td> </tr>\n",
      "  <tr> <td align=\"right\"> Less then High School </td> <td align=\"right\"> 0.0000 </td> <td align=\"right\"> 0.0000 </td> <td align=\"right\"> 0.0000 </td> </tr>\n",
      "  <tr> <td align=\"right\"> High School Graduate </td> <td align=\"right\"> 0.0000 </td> <td align=\"right\"> 0.0000 </td> <td align=\"right\"> 0.0000 </td> </tr>\n",
      "  <tr> <td align=\"right\"> Advanced Degree </td> <td align=\"right\"> 0.0000 </td> <td align=\"right\"> 0.0000 </td> <td align=\"right\"> 0.0000 </td> </tr>\n",
      "  <tr> <td align=\"right\"> Northeast </td> <td align=\"right\"> 0.2660 </td> <td align=\"right\"> 0.2612 </td> <td align=\"right\"> 0.2713 </td> </tr>\n",
      "  <tr> <td align=\"right\"> Midwest </td> <td align=\"right\"> 0.2859 </td> <td align=\"right\"> 0.2908 </td> <td align=\"right\"> 0.2803 </td> </tr>\n",
      "  <tr> <td align=\"right\"> South </td> <td align=\"right\"> 0.2216 </td> <td align=\"right\"> 0.2286 </td> <td align=\"right\"> 0.2138 </td> </tr>\n",
      "  <tr> <td align=\"right\"> West </td> <td align=\"right\"> 0.2265 </td> <td align=\"right\"> 0.2193 </td> <td align=\"right\"> 0.2346 </td> </tr>\n",
      "  <tr> <td align=\"right\"> Experience </td> <td align=\"right\"> 12.7009 </td> <td align=\"right\"> 12.4331 </td> <td align=\"right\"> 13.0017 </td> </tr>\n",
      "   </table>\n"
     ]
    }
   ],
   "source": [
    "print(tab,type=\"html\") # set type=\"latex\" for printing table in LaTeX"
   ]
  },
  {
   "cell_type": "markdown",
   "id": "cf611f75",
   "metadata": {
    "papermill": {
     "duration": 0.020063,
     "end_time": "2021-02-21T17:17:48.491517",
     "exception": false,
     "start_time": "2021-02-21T17:17:48.471454",
     "status": "completed"
    },
    "tags": []
   },
   "source": [
    "<!-- html table generated in R 3.6.1 by xtable 1.8-4 package -->\n",
    "<!-- Tue Sep 07 22:47:28 2021 -->\n",
    "<table border=1>\n",
    "<tr> <th>  </th> <th> All </th> <th> Men </th> <th> Women </th>  </tr>\n",
    "  <tr> <td align=\"right\"> Log Wage </td> <td align=\"right\"> 3.0000 </td> <td align=\"right\"> 3.0384 </td> <td align=\"right\"> 2.9569 </td> </tr>\n",
    "  <tr> <td align=\"right\"> Sex </td> <td align=\"right\"> 0.4710 </td> <td align=\"right\"> 0.0000 </td> <td align=\"right\"> 1.0000 </td> </tr>\n",
    "  <tr> <td align=\"right\"> Less then High School </td> <td align=\"right\"> 0.0000 </td> <td align=\"right\"> 0.0000 </td> <td align=\"right\"> 0.0000 </td> </tr>\n",
    "  <tr> <td align=\"right\"> High School Graduate </td> <td align=\"right\"> 0.0000 </td> <td align=\"right\"> 0.0000 </td> <td align=\"right\"> 0.0000 </td> </tr>\n",
    "  <tr> <td align=\"right\"> Advanced Degree </td> <td align=\"right\"> 0.0000 </td> <td align=\"right\"> 0.0000 </td> <td align=\"right\"> 0.0000 </td> </tr>\n",
    "  <tr> <td align=\"right\"> Northeast </td> <td align=\"right\"> 0.2660 </td> <td align=\"right\"> 0.2612 </td> <td align=\"right\"> 0.2713 </td> </tr>\n",
    "  <tr> <td align=\"right\"> Midwest </td> <td align=\"right\"> 0.2859 </td> <td align=\"right\"> 0.2908 </td> <td align=\"right\"> 0.2803 </td> </tr>\n",
    "  <tr> <td align=\"right\"> South </td> <td align=\"right\"> 0.2216 </td> <td align=\"right\"> 0.2286 </td> <td align=\"right\"> 0.2138 </td> </tr>\n",
    "  <tr> <td align=\"right\"> West </td> <td align=\"right\"> 0.2265 </td> <td align=\"right\"> 0.2193 </td> <td align=\"right\"> 0.2346 </td> </tr>\n",
    "  <tr> <td align=\"right\"> Experience </td> <td align=\"right\"> 12.7009 </td> <td align=\"right\"> 12.4331 </td> <td align=\"right\"> 13.0017 </td> </tr>\n",
    "   </table>\n",
    "  "
   ]
  },
  {
   "cell_type": "markdown",
   "id": "e5c0e493",
   "metadata": {
    "papermill": {
     "duration": 0.020634,
     "end_time": "2021-02-21T17:17:48.532828",
     "exception": false,
     "start_time": "2021-02-21T17:17:48.512194",
     "status": "completed"
    },
    "tags": []
   },
   "source": [
    "The table above shows that the difference in average *logwage* between men and women is equal to $0.0815$"
   ]
  },
  {
   "cell_type": "code",
   "execution_count": 37,
   "id": "556036ed",
   "metadata": {
    "execution": {
     "iopub.execute_input": "2021-02-21T17:17:48.578674Z",
     "iopub.status.busy": "2021-02-21T17:17:48.577061Z",
     "iopub.status.idle": "2021-02-21T17:17:48.591063Z",
     "shell.execute_reply": "2021-02-21T17:17:48.589749Z"
    },
    "papermill": {
     "duration": 0.037974,
     "end_time": "2021-02-21T17:17:48.591228",
     "exception": false,
     "start_time": "2021-02-21T17:17:48.553254",
     "status": "completed"
    },
    "tags": [],
    "vscode": {
     "languageId": "r"
    }
   },
   "outputs": [
    {
     "data": {
      "text/html": [
       "-0.0815085550873591"
      ],
      "text/latex": [
       "-0.0815085550873591"
      ],
      "text/markdown": [
       "-0.0815085550873591"
      ],
      "text/plain": [
       "[1] -0.08150856"
      ]
     },
     "metadata": {},
     "output_type": "display_data"
    }
   ],
   "source": [
    "mean(data_female$lwage)-mean(data_male$lwage)"
   ]
  },
  {
   "cell_type": "markdown",
   "id": "e51c02a2",
   "metadata": {
    "papermill": {
     "duration": 0.022161,
     "end_time": "2021-02-21T17:17:48.635417",
     "exception": false,
     "start_time": "2021-02-21T17:17:48.613256",
     "status": "completed"
    },
    "tags": []
   },
   "source": [
    "This way, the unconditional gender wage gap is about $8,2$\\% for the group of never married workers (women get paid less on average in our sample). In comparison to the general data base, the gender-gap is bigger by $4.35$%."
   ]
  },
  {
   "cell_type": "markdown",
   "id": "5cca7261",
   "metadata": {
    "papermill": {
     "duration": 0.02073,
     "end_time": "2021-02-21T17:17:48.677447",
     "exception": false,
     "start_time": "2021-02-21T17:17:48.656717",
     "status": "completed"
    },
    "tags": []
   },
   "source": [
    "This unconditional (predictive) effect of gender equals the coefficient $\\beta$ in the univariate ols regression of $Y$ on $D$:\n",
    "\n",
    "\\begin{align}\n",
    "\\log(Y) &=\\beta D + \\epsilon.\n",
    "\\end{align}"
   ]
  },
  {
   "cell_type": "markdown",
   "id": "d9f42282",
   "metadata": {
    "papermill": {
     "duration": 0.020929,
     "end_time": "2021-02-21T17:17:48.718630",
     "exception": false,
     "start_time": "2021-02-21T17:17:48.697701",
     "status": "completed"
    },
    "tags": []
   },
   "source": [
    "We verify this by running an OLS regression"
   ]
  },
  {
   "cell_type": "code",
   "execution_count": 46,
   "id": "d3e58b9f",
   "metadata": {
    "execution": {
     "iopub.execute_input": "2021-02-21T17:17:48.766832Z",
     "iopub.status.busy": "2021-02-21T17:17:48.765704Z",
     "iopub.status.idle": "2021-02-21T17:17:48.946342Z",
     "shell.execute_reply": "2021-02-21T17:17:48.944941Z"
    },
    "papermill": {
     "duration": 0.205828,
     "end_time": "2021-02-21T17:17:48.946508",
     "exception": false,
     "start_time": "2021-02-21T17:17:48.740680",
     "status": "completed"
    },
    "tags": [],
    "vscode": {
     "languageId": "r"
    }
   },
   "outputs": [
    {
     "name": "stdout",
     "output_type": "stream",
     "text": [
      "The estimated gender coefficient is -0.08150856  and the corresponding robust standard error is 0.01957965"
     ]
    }
   ],
   "source": [
    "#estimate the old regression\n",
    "#install.packages(\"sandwich\")\n",
    "library(sandwich)\n",
    "nocontrol.fit <- lm(data$lwage ~ data$sex)\n",
    "#extract the estimated coefficient when sex==1\n",
    "nocontrol.est <- summary(nocontrol.fit)$coef[\"data$sex\",1]\n",
    "\n",
    "HCV.coefs <- vcovHC(nocontrol.fit, type = 'HC');\n",
    "nocontrol.se <- sqrt(diag(HCV.coefs))[2] # Estimated std errors\n",
    "\n",
    "# print unconditional effect of gender and the corresponding standard error\n",
    "cat (\"The estimated gender coefficient is\",nocontrol.est,\" and the corresponding robust standard error is\",nocontrol.se) "
   ]
  },
  {
   "cell_type": "markdown",
   "id": "82f72174",
   "metadata": {
    "papermill": {
     "duration": 0.02196,
     "end_time": "2021-02-21T17:17:48.991015",
     "exception": false,
     "start_time": "2021-02-21T17:17:48.969055",
     "status": "completed"
    },
    "tags": []
   },
   "source": [
    "Note that, as well as in the lab, the standard error is computed with the *R* package *sandwich* to be robust to heteroskedasticity. \n"
   ]
  },
  {
   "cell_type": "markdown",
   "id": "c20d6b33",
   "metadata": {
    "papermill": {
     "duration": 0.021605,
     "end_time": "2021-02-21T17:17:49.034485",
     "exception": false,
     "start_time": "2021-02-21T17:17:49.012880",
     "status": "completed"
    },
    "tags": []
   },
   "source": [
    "Next, we run an ols regression of $Y$ on $(D,W)$ to control for the effect of covariates summarized in $W$:\n",
    "\n",
    "\\begin{align}\n",
    "\\log(Y) &=\\beta_1 D  + \\beta_2' W + \\epsilon.\n",
    "\\end{align}\n",
    "\n",
    "Here, we are considering the flexible model from the previous lab. Hence, $W$ controls for experience, region, and occupation and industry indicators plus transformations and two-way interactions. Note that we omitted the education controls because, as seen in the former table, the values of other variables related to this one (\"shs\",\"hsg\",\"ad\") have the value of $0$ for all the observations. "
   ]
  },
  {
   "cell_type": "markdown",
   "id": "db118641",
   "metadata": {
    "papermill": {
     "duration": 0.021109,
     "end_time": "2021-02-21T17:17:49.076809",
     "exception": false,
     "start_time": "2021-02-21T17:17:49.055700",
     "status": "completed"
    },
    "tags": []
   },
   "source": [
    "Let us run the ols regression with controls."
   ]
  },
  {
   "cell_type": "code",
   "execution_count": 53,
   "id": "53e97a1c",
   "metadata": {
    "execution": {
     "iopub.execute_input": "2021-02-21T17:17:49.124867Z",
     "iopub.status.busy": "2021-02-21T17:17:49.123217Z",
     "iopub.status.idle": "2021-02-21T17:17:49.792247Z",
     "shell.execute_reply": "2021-02-21T17:17:49.790841Z"
    },
    "papermill": {
     "duration": 0.694579,
     "end_time": "2021-02-21T17:17:49.792415",
     "exception": false,
     "start_time": "2021-02-21T17:17:49.097836",
     "status": "completed"
    },
    "tags": [],
    "vscode": {
     "languageId": "r"
    }
   },
   "outputs": [],
   "source": [
    "flex <- lwage ~ sex + (exp1+exp2+exp3+exp4)*(occ2+ind2+mw+so+we)\n",
    "\n",
    "#   Note that ()*() operation in formula objects in R creates a formula of the sort:\n",
    "#  (exp1+exp2+exp3+exp4)+ (occ2+ind2+mw+so+we) +  (exp1+exp2+exp3+exp4)*(occ2+ind2+mw+so+we)\n",
    "#  This is not intuitive at all, but that's what it does.\n",
    "\n",
    "control.fit <- lm(flex, data=data)\n"
   ]
  },
  {
   "cell_type": "code",
   "execution_count": 54,
   "id": "4d39a6a2",
   "metadata": {
    "execution": {
     "iopub.execute_input": "2021-02-21T17:17:49.124867Z",
     "iopub.status.busy": "2021-02-21T17:17:49.123217Z",
     "iopub.status.idle": "2021-02-21T17:17:49.792247Z",
     "shell.execute_reply": "2021-02-21T17:17:49.790841Z"
    },
    "papermill": {
     "duration": 0.694579,
     "end_time": "2021-02-21T17:17:49.792415",
     "exception": false,
     "start_time": "2021-02-21T17:17:49.097836",
     "status": "completed"
    },
    "tags": [],
    "vscode": {
     "languageId": "r"
    }
   },
   "outputs": [
    {
     "data": {
      "text/plain": [
       "\n",
       "Call:\n",
       "lm(formula = flex, data = data)\n",
       "\n",
       "Residuals:\n",
       "     Min       1Q   Median       3Q      Max \n",
       "-1.81275 -0.28972  0.00273  0.26013  2.77632 \n",
       "\n",
       "Coefficients: (1 not defined because of singularities)\n",
       "             Estimate Std. Error t value Pr(>|t|)    \n",
       "(Intercept)  3.786123   0.517713   7.313 3.38e-13 ***\n",
       "sex         -0.057259   0.019804  -2.891 0.003867 ** \n",
       "exp1        -0.226595   0.200553  -1.130 0.258635    \n",
       "exp2         4.417748   2.401820   1.839 0.065970 .  \n",
       "exp3        -2.305965   1.029426  -2.240 0.025165 *  \n",
       "exp4         0.348108   0.140088   2.485 0.013015 *  \n",
       "occ22        0.200003   0.161875   1.236 0.216731    \n",
       "occ23       -0.018309   0.214389  -0.085 0.931947    \n",
       "occ24       -0.005795   0.235391  -0.025 0.980362    \n",
       "occ25       -0.326079   0.403527  -0.808 0.419118    \n",
       "occ26       -0.220637   0.276441  -0.798 0.424860    \n",
       "occ27       -0.139378   0.428702  -0.325 0.745117    \n",
       "occ28       -0.212106   0.278037  -0.763 0.445604    \n",
       "occ29       -0.412462   0.209811  -1.966 0.049410 *  \n",
       "occ210       0.092478   0.248548   0.372 0.709865    \n",
       "occ211      -0.616496   0.445523  -1.384 0.166541    \n",
       "occ212       0.271280   0.348854   0.778 0.436851    \n",
       "occ213      -0.192558   0.278010  -0.693 0.488600    \n",
       "occ214       0.323346   0.389233   0.831 0.406199    \n",
       "occ215      -0.388497   0.343009  -1.133 0.257471    \n",
       "occ216      -0.012353   0.175196  -0.071 0.943792    \n",
       "occ217      -0.435407   0.162100  -2.686 0.007272 ** \n",
       "occ218      -0.028598   2.266862  -0.013 0.989935    \n",
       "occ219      -0.120811   0.427150  -0.283 0.777328    \n",
       "occ220      -0.431172   0.265800  -1.622 0.104879    \n",
       "occ221      -1.044874   0.290749  -3.594 0.000332 ***\n",
       "occ222      -0.279602   0.489251  -0.571 0.567713    \n",
       "ind23       -1.073388   0.780820  -1.375 0.169335    \n",
       "ind24        0.006105   0.571658   0.011 0.991480    \n",
       "ind25       -0.344647   0.535426  -0.644 0.519830    \n",
       "ind26       -0.554407   0.530960  -1.044 0.296500    \n",
       "ind27       -0.306397   0.584888  -0.524 0.600420    \n",
       "ind28       -0.681404   0.601164  -1.133 0.257110    \n",
       "ind29       -0.888874   0.520953  -1.706 0.088072 .  \n",
       "ind210      -0.539343   0.580582  -0.929 0.352984    \n",
       "ind211      -0.722124   0.538343  -1.341 0.179903    \n",
       "ind212      -0.667225   0.515096  -1.295 0.195308    \n",
       "ind213      -1.090629   0.594165  -1.836 0.066526 .  \n",
       "ind214      -0.419557   0.509401  -0.824 0.410220    \n",
       "ind215      -0.582070   0.704333  -0.826 0.408639    \n",
       "ind216      -0.525812   0.540564  -0.973 0.330781    \n",
       "ind217      -0.893315   0.541631  -1.649 0.099196 .  \n",
       "ind218      -0.697176   0.527482  -1.322 0.186373    \n",
       "ind219      -0.820485   0.568220  -1.444 0.148861    \n",
       "ind220      -0.868402   0.539812  -1.609 0.107790    \n",
       "ind221      -0.563149   0.547191  -1.029 0.303491    \n",
       "ind222      -0.491590   0.552935  -0.889 0.374049    \n",
       "mw           0.183222   0.109119   1.679 0.093242 .  \n",
       "so          -0.035394   0.106688  -0.332 0.740104    \n",
       "we           0.089608   0.120854   0.741 0.458477    \n",
       "exp1:occ22  -0.046494   0.064442  -0.721 0.470675    \n",
       "exp1:occ23   0.064573   0.081268   0.795 0.426933    \n",
       "exp1:occ24   0.021510   0.097150   0.221 0.824790    \n",
       "exp1:occ25   0.008653   0.204707   0.042 0.966286    \n",
       "exp1:occ26  -0.021798   0.114253  -0.191 0.848707    \n",
       "exp1:occ27  -0.102219   0.163805  -0.624 0.532661    \n",
       "exp1:occ28  -0.019011   0.105511  -0.180 0.857022    \n",
       "exp1:occ29   0.117593   0.085001   1.383 0.166639    \n",
       "exp1:occ210 -0.015336   0.095292  -0.161 0.872157    \n",
       "exp1:occ211  0.047482   0.160573   0.296 0.767477    \n",
       "exp1:occ212 -0.172021   0.124759  -1.379 0.168057    \n",
       "exp1:occ213  0.029130   0.100493   0.290 0.771934    \n",
       "exp1:occ214 -0.163730   0.142637  -1.148 0.251117    \n",
       "exp1:occ215 -0.002708   0.125730  -0.022 0.982816    \n",
       "exp1:occ216 -0.057877   0.065423  -0.885 0.376414    \n",
       "exp1:occ217  0.020352   0.060036   0.339 0.734638    \n",
       "exp1:occ218 -0.113538   1.128549  -0.101 0.919871    \n",
       "exp1:occ219 -0.067932   0.146585  -0.463 0.643092    \n",
       "exp1:occ220  0.055899   0.092754   0.603 0.546782    \n",
       "exp1:occ221  0.345990   0.102710   3.369 0.000766 ***\n",
       "exp1:occ222 -0.113900   0.159678  -0.713 0.475712    \n",
       "exp1:ind23   0.424564   0.313026   1.356 0.175105    \n",
       "exp1:ind24   0.045212   0.212531   0.213 0.831553    \n",
       "exp1:ind25   0.155418   0.209412   0.742 0.458050    \n",
       "exp1:ind26   0.197371   0.205626   0.960 0.337209    \n",
       "exp1:ind27   0.096416   0.228442   0.422 0.673014    \n",
       "exp1:ind28   0.256133   0.251492   1.018 0.308549    \n",
       "exp1:ind29   0.217030   0.201222   1.079 0.280875    \n",
       "exp1:ind210  0.189054   0.222038   0.851 0.394593    \n",
       "exp1:ind211  0.289726   0.209019   1.386 0.165818    \n",
       "exp1:ind212  0.326476   0.201290   1.622 0.104931    \n",
       "exp1:ind213  0.420257   0.222483   1.889 0.059002 .  \n",
       "exp1:ind214  0.141881   0.199148   0.712 0.476250    \n",
       "exp1:ind215  0.169527   0.338401   0.501 0.616435    \n",
       "exp1:ind216  0.127909   0.211150   0.606 0.544713    \n",
       "exp1:ind217  0.303705   0.208597   1.456 0.145519    \n",
       "exp1:ind218  0.195261   0.204300   0.956 0.339275    \n",
       "exp1:ind219  0.192876   0.218051   0.885 0.376476    \n",
       "exp1:ind220  0.161912   0.207690   0.780 0.435702    \n",
       "exp1:ind221  0.221601   0.210437   1.053 0.292409    \n",
       "exp1:ind222  0.229601   0.210028   1.093 0.274403    \n",
       "exp1:mw     -0.069013   0.042686  -1.617 0.106042    \n",
       "exp1:so      0.001405   0.040583   0.035 0.972382    \n",
       "exp1:we     -0.040654   0.044628  -0.911 0.362399    \n",
       "exp2:occ22   0.149012   0.720067   0.207 0.836070    \n",
       "exp2:occ23  -1.060826   0.905724  -1.171 0.241598    \n",
       "exp2:occ24  -0.352861   1.120576  -0.315 0.752866    \n",
       "exp2:occ25   1.104350   3.074336   0.359 0.719460    \n",
       "exp2:occ26   0.047865   1.399384   0.034 0.972717    \n",
       "exp2:occ27   1.138587   1.921430   0.593 0.553514    \n",
       "exp2:occ28  -0.229625   1.171379  -0.196 0.844601    \n",
       "exp2:occ29  -1.278341   0.968967  -1.319 0.187181    \n",
       "exp2:occ210 -0.075361   1.063972  -0.071 0.943538    \n",
       "exp2:occ211 -0.436883   1.739659  -0.251 0.801731    \n",
       "exp2:occ212  1.355189   1.366275   0.992 0.321338    \n",
       "exp2:occ213 -0.656349   1.065890  -0.616 0.538092    \n",
       "exp2:occ214  0.521435   1.537803   0.339 0.734576    \n",
       "exp2:occ215 -0.388543   1.358146  -0.286 0.774835    \n",
       "exp2:occ216  0.308279   0.713304   0.432 0.665640    \n",
       "exp2:occ217 -0.456409   0.655524  -0.696 0.486329    \n",
       "exp2:occ218  0.221611   9.531569   0.023 0.981452    \n",
       "exp2:occ219  0.769204   1.520451   0.506 0.612963    \n",
       "exp2:occ220 -0.555814   0.959380  -0.579 0.562401    \n",
       "exp2:occ221 -4.161073   1.087244  -3.827 0.000132 ***\n",
       "exp2:occ222  1.217454   1.551965   0.784 0.432836    \n",
       "exp2:ind23  -5.972064   3.887580  -1.536 0.124603    \n",
       "exp2:ind24  -2.690836   2.496178  -1.078 0.281133    \n",
       "exp2:ind25  -3.726048   2.499509  -1.491 0.136148    \n",
       "exp2:ind26  -3.855261   2.451315  -1.573 0.115892    \n",
       "exp2:ind27  -2.558908   2.756102  -0.928 0.353252    \n",
       "exp2:ind28  -3.586666   3.138602  -1.143 0.253235    \n",
       "exp2:ind29  -3.918785   2.408567  -1.627 0.103844    \n",
       "exp2:ind210 -3.732570   2.593590  -1.439 0.150218    \n",
       "exp2:ind211 -4.891734   2.498203  -1.958 0.050316 .  \n",
       "exp2:ind212 -5.128887   2.422610  -2.117 0.034339 *  \n",
       "exp2:ind213 -5.924192   2.586668  -2.290 0.022078 *  \n",
       "exp2:ind214 -3.087960   2.400581  -1.286 0.198430    \n",
       "exp2:ind215 -3.234360   3.830008  -0.844 0.398473    \n",
       "exp2:ind216 -2.826538   2.521828  -1.121 0.262455    \n",
       "exp2:ind217 -4.720308   2.484397  -1.900 0.057537 .  \n",
       "exp2:ind218 -3.773644   2.445235  -1.543 0.122878    \n",
       "exp2:ind219 -3.645293   2.561672  -1.423 0.154842    \n",
       "exp2:ind220 -3.426450   2.468972  -1.388 0.165305    \n",
       "exp2:ind221 -4.100668   2.497823  -1.642 0.100763    \n",
       "exp2:ind222 -4.096079   2.477573  -1.653 0.098388 .  \n",
       "exp2:mw      0.558884   0.478720   1.167 0.243124    \n",
       "exp2:so     -0.021345   0.442653  -0.048 0.961544    \n",
       "exp2:we      0.515952   0.478195   1.079 0.280699    \n",
       "exp3:occ22   0.051010   0.291558   0.175 0.861126    \n",
       "exp3:occ23   0.473565   0.368495   1.285 0.198851    \n",
       "exp3:occ24   0.163170   0.458789   0.356 0.722127    \n",
       "exp3:occ25  -1.175703   1.660316  -0.708 0.478929    \n",
       "exp3:occ26   0.043800   0.622398   0.070 0.943902    \n",
       "exp3:occ27  -0.525783   0.816307  -0.644 0.519563    \n",
       "exp3:occ28   0.207169   0.470210   0.441 0.659544    \n",
       "exp3:occ29   0.496191   0.398356   1.246 0.213015    \n",
       "exp3:occ210  0.120808   0.435012   0.278 0.781254    \n",
       "exp3:occ211  0.122210   0.709793   0.172 0.863311    \n",
       "exp3:occ212 -0.309756   0.552381  -0.561 0.575002    \n",
       "exp3:occ213  0.305863   0.413251   0.740 0.459278    \n",
       "exp3:occ214  0.094580   0.584730   0.162 0.871515    \n",
       "exp3:occ215  0.310387   0.546791   0.568 0.570316    \n",
       "exp3:occ216  0.005367   0.285797   0.019 0.985020    \n",
       "exp3:occ217  0.253629   0.263190   0.964 0.335291    \n",
       "exp3:occ218  0.038937   1.855929   0.021 0.983263    \n",
       "exp3:occ219 -0.314013   0.588259  -0.534 0.593521    \n",
       "exp3:occ220  0.194424   0.370562   0.525 0.599850    \n",
       "exp3:occ221  1.683714   0.425570   3.956 7.80e-05 ***\n",
       "exp3:occ222 -0.426470   0.571024  -0.747 0.455215    \n",
       "exp3:ind23   2.870770   1.796809   1.598 0.110220    \n",
       "exp3:ind24   1.725842   1.058417   1.631 0.103088    \n",
       "exp3:ind25   2.054463   1.066311   1.927 0.054116 .  \n",
       "exp3:ind26   2.071090   1.046011   1.980 0.047801 *  \n",
       "exp3:ind27   1.482041   1.194715   1.240 0.214894    \n",
       "exp3:ind28   1.468645   1.424651   1.031 0.302684    \n",
       "exp3:ind29   2.035372   1.032444   1.971 0.048774 *  \n",
       "exp3:ind210  1.988228   1.093957   1.817 0.069251 .  \n",
       "exp3:ind211  2.478442   1.068946   2.319 0.020488 *  \n",
       "exp3:ind212  2.492391   1.040428   2.396 0.016660 *  \n",
       "exp3:ind213  2.739627   1.088815   2.516 0.011919 *  \n",
       "exp3:ind214  1.726089   1.032327   1.672 0.094627 .  \n",
       "exp3:ind215  1.730886   1.514785   1.143 0.253276    \n",
       "exp3:ind216  1.610725   1.074945   1.498 0.134134    \n",
       "exp3:ind217  2.302415   1.060009   2.172 0.029933 *  \n",
       "exp3:ind218  2.011934   1.049180   1.918 0.055259 .  \n",
       "exp3:ind219  1.961939   1.084225   1.810 0.070474 .  \n",
       "exp3:ind220  1.876169   1.052254   1.783 0.074693 .  \n",
       "exp3:ind221  2.109480   1.064986   1.981 0.047715 *  \n",
       "exp3:ind222  2.105680   1.053341   1.999 0.045698 *  \n",
       "exp3:mw     -0.173437   0.196215  -0.884 0.376818    \n",
       "exp3:so      0.018300   0.176596   0.104 0.917472    \n",
       "exp3:we     -0.210839   0.188356  -1.119 0.263080    \n",
       "exp4:occ22  -0.019585   0.038569  -0.508 0.611632    \n",
       "exp4:occ23  -0.063890   0.048796  -1.309 0.190524    \n",
       "exp4:occ24  -0.026844   0.060560  -0.443 0.657612    \n",
       "exp4:occ25   0.281787   0.288784   0.976 0.329261    \n",
       "exp4:occ26  -0.013059   0.089340  -0.146 0.883796    \n",
       "exp4:occ27   0.076555   0.110936   0.690 0.490198    \n",
       "exp4:occ28  -0.036204   0.061232  -0.591 0.554397    \n",
       "exp4:occ29  -0.062421   0.053170  -1.174 0.240495    \n",
       "exp4:occ210 -0.024774   0.058258  -0.425 0.670691    \n",
       "exp4:occ211 -0.008733   0.095394  -0.092 0.927067    \n",
       "exp4:occ212  0.012233   0.073427   0.167 0.867693    \n",
       "exp4:occ213 -0.043176   0.052306  -0.825 0.409188    \n",
       "exp4:occ214 -0.036740   0.071869  -0.511 0.609246    \n",
       "exp4:occ215 -0.055105   0.072398  -0.761 0.446635    \n",
       "exp4:occ216 -0.015550   0.037532  -0.414 0.678684    \n",
       "exp4:occ217 -0.040672   0.034611  -1.175 0.240039    \n",
       "exp4:occ218        NA         NA      NA       NA    \n",
       "exp4:occ219  0.039503   0.074510   0.530 0.596035    \n",
       "exp4:occ220 -0.023230   0.047264  -0.492 0.623110    \n",
       "exp4:occ221 -0.218309   0.054913  -3.976 7.20e-05 ***\n",
       "exp4:occ222  0.046267   0.070175   0.659 0.509750    \n",
       "exp4:ind23  -0.430761   0.274402  -1.570 0.116569    \n",
       "exp4:ind24  -0.282723   0.142796  -1.980 0.047809 *  \n",
       "exp4:ind25  -0.314643   0.144674  -2.175 0.029724 *  \n",
       "exp4:ind26  -0.315757   0.141853  -2.226 0.026096 *  \n",
       "exp4:ind27  -0.232482   0.165054  -1.409 0.159085    \n",
       "exp4:ind28  -0.174618   0.208748  -0.837 0.402942    \n",
       "exp4:ind29  -0.305674   0.140543  -2.175 0.029716 *  \n",
       "exp4:ind210 -0.301511   0.147501  -2.044 0.041034 *  \n",
       "exp4:ind211 -0.369297   0.145450  -2.539 0.011170 *  \n",
       "exp4:ind212 -0.362392   0.141774  -2.556 0.010636 *  \n",
       "exp4:ind213 -0.388610   0.146471  -2.653 0.008019 ** \n",
       "exp4:ind214 -0.268242   0.140785  -1.905 0.056838 .  \n",
       "exp4:ind215 -0.264855   0.193295  -1.370 0.170731    \n",
       "exp4:ind216 -0.255464   0.145693  -1.753 0.079633 .  \n",
       "exp4:ind217 -0.335630   0.143801  -2.334 0.019666 *  \n",
       "exp4:ind218 -0.308002   0.143232  -2.150 0.031610 *  \n",
       "exp4:ind219 -0.300764   0.146530  -2.053 0.040205 *  \n",
       "exp4:ind220 -0.291162   0.142679  -2.041 0.041375 *  \n",
       "exp4:ind221 -0.315000   0.144504  -2.180 0.029348 *  \n",
       "exp4:ind222 -0.316014   0.142688  -2.215 0.026858 *  \n",
       "exp4:mw      0.017825   0.026347   0.677 0.498752    \n",
       "exp4:so     -0.004591   0.023041  -0.199 0.842090    \n",
       "exp4:we      0.025991   0.024331   1.068 0.285505    \n",
       "---\n",
       "Signif. codes:  0 '***' 0.001 '**' 0.01 '*' 0.05 '.' 0.1 ' ' 1\n",
       "\n",
       "Residual standard error: 0.4745 on 2843 degrees of freedom\n",
       "Multiple R-squared:  0.296,\tAdjusted R-squared:  0.2406 \n",
       "F-statistic: 5.337 on 224 and 2843 DF,  p-value: < 2.2e-16\n"
      ]
     },
     "metadata": {},
     "output_type": "display_data"
    }
   ],
   "source": [
    "control.est <- summary(control.fit)$coef[2,1]\n",
    "control.pred <- summary(control.fit)$coef[,1]\n",
    "summary(control.fit)"
   ]
  },
  {
   "cell_type": "code",
   "execution_count": 55,
   "id": "20af1a81",
   "metadata": {
    "execution": {
     "iopub.execute_input": "2021-02-21T17:17:49.124867Z",
     "iopub.status.busy": "2021-02-21T17:17:49.123217Z",
     "iopub.status.idle": "2021-02-21T17:17:49.792247Z",
     "shell.execute_reply": "2021-02-21T17:17:49.790841Z"
    },
    "papermill": {
     "duration": 0.694579,
     "end_time": "2021-02-21T17:17:49.792415",
     "exception": false,
     "start_time": "2021-02-21T17:17:49.097836",
     "status": "completed"
    },
    "tags": [],
    "vscode": {
     "languageId": "r"
    }
   },
   "outputs": [
    {
     "name": "stdout",
     "output_type": "stream",
     "text": [
      "Coefficient for OLS with controls -0.05725889"
     ]
    }
   ],
   "source": [
    "cat(\"Coefficient for OLS with controls\", control.est)\n",
    "\n",
    "HCV.coefs <- vcovHC(control.fit, type = 'HC');\n",
    "control.se <- sqrt(diag(HCV.coefs))[2] # Estimated std errors"
   ]
  },
  {
   "cell_type": "markdown",
   "id": "1b28767a",
   "metadata": {
    "papermill": {
     "duration": 0.040523,
     "end_time": "2021-02-21T17:17:49.873210",
     "exception": false,
     "start_time": "2021-02-21T17:17:49.832687",
     "status": "completed"
    },
    "tags": []
   },
   "source": [
    "The estimated regression coefficient $\\beta_1\\approx-0.05$ measures how our linear prediction of wage changes if we set the gender variable $D$ from 0 to 1, holding the controls $W$ fixed, and it is the *predictive effect* (PE), as it measures the impact of a variable on the prediction we make. We can see that the unconditional wage gap of size $8$\\% for women decreases to about $6$\\% after controlling for worker characteristics of the subset of college-educated workers."
   ]
  },
  {
   "cell_type": "markdown",
   "id": "18817343",
   "metadata": {
    "papermill": {
     "duration": 0.023222,
     "end_time": "2021-02-21T17:17:49.931749",
     "exception": false,
     "start_time": "2021-02-21T17:17:49.908527",
     "status": "completed"
    },
    "tags": []
   },
   "source": [
    "Next, we are using the Frisch-Waugh-Lovell theorem from the lecture partialling-out the linear effect of the controls via ols."
   ]
  },
  {
   "cell_type": "code",
   "execution_count": 56,
   "id": "9300ae33",
   "metadata": {
    "execution": {
     "iopub.execute_input": "2021-02-21T17:17:49.985297Z",
     "iopub.status.busy": "2021-02-21T17:17:49.983529Z",
     "iopub.status.idle": "2021-02-21T17:17:50.409345Z",
     "shell.execute_reply": "2021-02-21T17:17:50.407916Z"
    },
    "papermill": {
     "duration": 0.454504,
     "end_time": "2021-02-21T17:17:50.409522",
     "exception": false,
     "start_time": "2021-02-21T17:17:49.955018",
     "status": "completed"
    },
    "tags": [],
    "vscode": {
     "languageId": "r"
    }
   },
   "outputs": [],
   "source": [
    "# Partialling-Out using ols\n",
    "\n",
    "# models\n",
    "flex.y <- lwage ~  (exp1+exp2+exp3+exp4)*(occ2+ind2+mw+so+we) # model for Y\n",
    "flex.d <- sex ~ (exp1+exp2+exp3+exp4)*(occ2+ind2+mw+so+we) # model for D\n",
    "\n",
    "# partialling-out the linear effect of W from Y\n",
    "t.Y <- lm(flex.y, data=data)$res\n"
   ]
  },
  {
   "cell_type": "code",
   "execution_count": 57,
   "id": "cd72ef58",
   "metadata": {
    "execution": {
     "iopub.execute_input": "2021-02-21T17:17:49.985297Z",
     "iopub.status.busy": "2021-02-21T17:17:49.983529Z",
     "iopub.status.idle": "2021-02-21T17:17:50.409345Z",
     "shell.execute_reply": "2021-02-21T17:17:50.407916Z"
    },
    "papermill": {
     "duration": 0.454504,
     "end_time": "2021-02-21T17:17:50.409522",
     "exception": false,
     "start_time": "2021-02-21T17:17:49.955018",
     "status": "completed"
    },
    "tags": [],
    "vscode": {
     "languageId": "r"
    }
   },
   "outputs": [],
   "source": [
    "# partialling-out the linear effect of W from D\n",
    "t.D <- lm(flex.d, data=data)$res\n",
    "\n",
    "# regression of Y on D after partialling-out the effect of W\n",
    "partial.fit <- lm(t.Y~t.D)\n",
    "partial.est <- summary(partial.fit)$coef[2,1]"
   ]
  },
  {
   "cell_type": "code",
   "execution_count": 59,
   "id": "d4a58e56",
   "metadata": {
    "execution": {
     "iopub.execute_input": "2021-02-21T17:17:49.985297Z",
     "iopub.status.busy": "2021-02-21T17:17:49.983529Z",
     "iopub.status.idle": "2021-02-21T17:17:50.409345Z",
     "shell.execute_reply": "2021-02-21T17:17:50.407916Z"
    },
    "papermill": {
     "duration": 0.454504,
     "end_time": "2021-02-21T17:17:50.409522",
     "exception": false,
     "start_time": "2021-02-21T17:17:49.955018",
     "status": "completed"
    },
    "tags": [],
    "vscode": {
     "languageId": "r"
    }
   },
   "outputs": [
    {
     "data": {
      "text/html": [
       "-0.057258891711317"
      ],
      "text/latex": [
       "-0.057258891711317"
      ],
      "text/markdown": [
       "-0.057258891711317"
      ],
      "text/plain": [
       "[1] -0.05725889"
      ]
     },
     "metadata": {},
     "output_type": "display_data"
    },
    {
     "name": "stdout",
     "output_type": "stream",
     "text": [
      "Coefficient for D via partialling-out -0.05725889"
     ]
    },
    {
     "data": {
      "text/html": [
       "<style>\n",
       ".dl-inline {width: auto; margin:0; padding: 0}\n",
       ".dl-inline>dt, .dl-inline>dd {float: none; width: auto; display: inline-block}\n",
       ".dl-inline>dt::after {content: \":\\0020\"; padding-right: .5ex}\n",
       ".dl-inline>dt:not(:first-of-type) {padding-left: .5ex}\n",
       "</style><dl class=dl-inline><dt>2.5 %</dt><dd>-0.0946513877030221</dd><dt>97.5 %</dt><dd>-0.0198663957196119</dd></dl>\n"
      ],
      "text/latex": [
       "\\begin{description*}\n",
       "\\item[2.5 \\textbackslash{}\\%] -0.0946513877030221\n",
       "\\item[97.5 \\textbackslash{}\\%] -0.0198663957196119\n",
       "\\end{description*}\n"
      ],
      "text/markdown": [
       "2.5 %\n",
       ":   -0.094651387703022197.5 %\n",
       ":   -0.0198663957196119\n",
       "\n"
      ],
      "text/plain": [
       "      2.5 %      97.5 % \n",
       "-0.09465139 -0.01986640 "
      ]
     },
     "metadata": {},
     "output_type": "display_data"
    }
   ],
   "source": [
    "# Partialling-Out using ols\n",
    "\n",
    "# models\n",
    "flex.y <- lwage ~  (exp1+exp2+exp3+exp4)*(occ2+ind2+mw+so+we) # model for Y\n",
    "flex.d <- sex ~ (exp1+exp2+exp3+exp4)*(occ2+ind2+mw+so+we) # model for D\n",
    "\n",
    "# partialling-out the linear effect of W from Y\n",
    "t.Y <- lm(flex.y, data=data)$res\n",
    "# partialling-out the linear effect of W from D\n",
    "t.D <- lm(flex.d, data=data)$res\n",
    "\n",
    "# regression of Y on D after partialling-out the effect of W\n",
    "partial.fit <- lm(t.Y~t.D)\n",
    "partial.est <- summary(partial.fit)$coef[2,1]\n",
    "partial.est\n",
    "\n",
    "cat(\"Coefficient for D via partialling-out\", partial.est)\n",
    "\n",
    "# standard error\n",
    "HCV.coefs <- vcovHC(partial.fit, type = 'HC')\n",
    "partial.se <- sqrt(diag(HCV.coefs))[2]\n",
    "\n",
    "# confidence interval\n",
    "confint(partial.fit)[2,]"
   ]
  },
  {
   "cell_type": "markdown",
   "id": "895642c4",
   "metadata": {
    "papermill": {
     "duration": 0.023907,
     "end_time": "2021-02-21T17:17:50.458203",
     "exception": false,
     "start_time": "2021-02-21T17:17:50.434296",
     "status": "completed"
    },
    "tags": []
   },
   "source": [
    "Again, the estimated coefficient measures the linear predictive effect (PE) of $D$ on $Y$ after taking out the linear effect of $W$ on both of these variables. This coefficient equals the estimated coefficient from the ols regression with controls."
   ]
  },
  {
   "cell_type": "markdown",
   "id": "9b53a075",
   "metadata": {
    "papermill": {
     "duration": 0.024507,
     "end_time": "2021-02-21T17:17:50.507023",
     "exception": false,
     "start_time": "2021-02-21T17:17:50.482516",
     "status": "completed"
    },
    "tags": []
   },
   "source": [
    "We know that the partialling-out approach works well when the dimension of $W$ is low\n",
    "in relation to the sample size $n$. When the dimension of $W$ is relatively high, we need to use variable selection\n",
    "or penalization for regularization purposes. \n"
   ]
  },
  {
   "cell_type": "code",
   "execution_count": 60,
   "id": "7605a52d",
   "metadata": {
    "vscode": {
     "languageId": "r"
    }
   },
   "outputs": [
    {
     "data": {
      "text/html": [
       "<table class=\"dataframe\">\n",
       "<caption>A data.frame: 6 × 20</caption>\n",
       "<thead>\n",
       "\t<tr><th></th><th scope=col>wage</th><th scope=col>lwage</th><th scope=col>sex</th><th scope=col>shs</th><th scope=col>hsg</th><th scope=col>scl</th><th scope=col>clg</th><th scope=col>ad</th><th scope=col>mw</th><th scope=col>so</th><th scope=col>we</th><th scope=col>ne</th><th scope=col>exp1</th><th scope=col>exp2</th><th scope=col>exp3</th><th scope=col>exp4</th><th scope=col>occ</th><th scope=col>occ2</th><th scope=col>ind</th><th scope=col>ind2</th></tr>\n",
       "\t<tr><th></th><th scope=col>&lt;dbl&gt;</th><th scope=col>&lt;dbl&gt;</th><th scope=col>&lt;dbl&gt;</th><th scope=col>&lt;dbl&gt;</th><th scope=col>&lt;dbl&gt;</th><th scope=col>&lt;dbl&gt;</th><th scope=col>&lt;dbl&gt;</th><th scope=col>&lt;dbl&gt;</th><th scope=col>&lt;dbl&gt;</th><th scope=col>&lt;dbl&gt;</th><th scope=col>&lt;dbl&gt;</th><th scope=col>&lt;dbl&gt;</th><th scope=col>&lt;dbl&gt;</th><th scope=col>&lt;dbl&gt;</th><th scope=col>&lt;dbl&gt;</th><th scope=col>&lt;dbl&gt;</th><th scope=col>&lt;fct&gt;</th><th scope=col>&lt;fct&gt;</th><th scope=col>&lt;fct&gt;</th><th scope=col>&lt;fct&gt;</th></tr>\n",
       "</thead>\n",
       "<tbody>\n",
       "\t<tr><th scope=row>10</th><td> 9.615385</td><td>2.263364</td><td>1</td><td>0</td><td>0</td><td>0</td><td>1</td><td>0</td><td>0</td><td>0</td><td>0</td><td>1</td><td> 7.0</td><td>0.4900</td><td> 0.343000</td><td> 0.24010000</td><td>3600</td><td>11</td><td>8370</td><td>18</td></tr>\n",
       "\t<tr><th scope=row>12</th><td>48.076923</td><td>3.872802</td><td>0</td><td>0</td><td>0</td><td>0</td><td>1</td><td>0</td><td>0</td><td>0</td><td>0</td><td>1</td><td>31.0</td><td>9.6100</td><td>29.791000</td><td>92.35210000</td><td>3050</td><td>10</td><td>5070</td><td>9 </td></tr>\n",
       "\t<tr><th scope=row>19</th><td>28.846154</td><td>3.361977</td><td>1</td><td>0</td><td>0</td><td>0</td><td>1</td><td>0</td><td>0</td><td>0</td><td>0</td><td>1</td><td>22.0</td><td>4.8400</td><td>10.648000</td><td>23.42560000</td><td>2015</td><td>6 </td><td>9470</td><td>22</td></tr>\n",
       "\t<tr><th scope=row>30</th><td>11.730769</td><td>2.462215</td><td>1</td><td>0</td><td>0</td><td>0</td><td>1</td><td>0</td><td>0</td><td>0</td><td>0</td><td>1</td><td> 1.0</td><td>0.0100</td><td> 0.001000</td><td> 0.00010000</td><td>1650</td><td>5 </td><td>7460</td><td>14</td></tr>\n",
       "\t<tr><th scope=row>71</th><td>19.230769</td><td>2.956512</td><td>1</td><td>0</td><td>0</td><td>0</td><td>1</td><td>0</td><td>0</td><td>0</td><td>0</td><td>1</td><td> 4.0</td><td>0.1600</td><td> 0.064000</td><td> 0.02560000</td><td>3255</td><td>10</td><td>8190</td><td>18</td></tr>\n",
       "\t<tr><th scope=row>84</th><td>12.019231</td><td>2.486508</td><td>1</td><td>0</td><td>0</td><td>1</td><td>0</td><td>0</td><td>0</td><td>0</td><td>0</td><td>1</td><td> 5.5</td><td>0.3025</td><td> 0.166375</td><td> 0.09150625</td><td>3600</td><td>11</td><td>8270</td><td>18</td></tr>\n",
       "</tbody>\n",
       "</table>\n"
      ],
      "text/latex": [
       "A data.frame: 6 × 20\n",
       "\\begin{tabular}{r|llllllllllllllllllll}\n",
       "  & wage & lwage & sex & shs & hsg & scl & clg & ad & mw & so & we & ne & exp1 & exp2 & exp3 & exp4 & occ & occ2 & ind & ind2\\\\\n",
       "  & <dbl> & <dbl> & <dbl> & <dbl> & <dbl> & <dbl> & <dbl> & <dbl> & <dbl> & <dbl> & <dbl> & <dbl> & <dbl> & <dbl> & <dbl> & <dbl> & <fct> & <fct> & <fct> & <fct>\\\\\n",
       "\\hline\n",
       "\t10 &  9.615385 & 2.263364 & 1 & 0 & 0 & 0 & 1 & 0 & 0 & 0 & 0 & 1 &  7.0 & 0.4900 &  0.343000 &  0.24010000 & 3600 & 11 & 8370 & 18\\\\\n",
       "\t12 & 48.076923 & 3.872802 & 0 & 0 & 0 & 0 & 1 & 0 & 0 & 0 & 0 & 1 & 31.0 & 9.6100 & 29.791000 & 92.35210000 & 3050 & 10 & 5070 & 9 \\\\\n",
       "\t19 & 28.846154 & 3.361977 & 1 & 0 & 0 & 0 & 1 & 0 & 0 & 0 & 0 & 1 & 22.0 & 4.8400 & 10.648000 & 23.42560000 & 2015 & 6  & 9470 & 22\\\\\n",
       "\t30 & 11.730769 & 2.462215 & 1 & 0 & 0 & 0 & 1 & 0 & 0 & 0 & 0 & 1 &  1.0 & 0.0100 &  0.001000 &  0.00010000 & 1650 & 5  & 7460 & 14\\\\\n",
       "\t71 & 19.230769 & 2.956512 & 1 & 0 & 0 & 0 & 1 & 0 & 0 & 0 & 0 & 1 &  4.0 & 0.1600 &  0.064000 &  0.02560000 & 3255 & 10 & 8190 & 18\\\\\n",
       "\t84 & 12.019231 & 2.486508 & 1 & 0 & 0 & 1 & 0 & 0 & 0 & 0 & 0 & 1 &  5.5 & 0.3025 &  0.166375 &  0.09150625 & 3600 & 11 & 8270 & 18\\\\\n",
       "\\end{tabular}\n"
      ],
      "text/markdown": [
       "\n",
       "A data.frame: 6 × 20\n",
       "\n",
       "| <!--/--> | wage &lt;dbl&gt; | lwage &lt;dbl&gt; | sex &lt;dbl&gt; | shs &lt;dbl&gt; | hsg &lt;dbl&gt; | scl &lt;dbl&gt; | clg &lt;dbl&gt; | ad &lt;dbl&gt; | mw &lt;dbl&gt; | so &lt;dbl&gt; | we &lt;dbl&gt; | ne &lt;dbl&gt; | exp1 &lt;dbl&gt; | exp2 &lt;dbl&gt; | exp3 &lt;dbl&gt; | exp4 &lt;dbl&gt; | occ &lt;fct&gt; | occ2 &lt;fct&gt; | ind &lt;fct&gt; | ind2 &lt;fct&gt; |\n",
       "|---|---|---|---|---|---|---|---|---|---|---|---|---|---|---|---|---|---|---|---|---|\n",
       "| 10 |  9.615385 | 2.263364 | 1 | 0 | 0 | 0 | 1 | 0 | 0 | 0 | 0 | 1 |  7.0 | 0.4900 |  0.343000 |  0.24010000 | 3600 | 11 | 8370 | 18 |\n",
       "| 12 | 48.076923 | 3.872802 | 0 | 0 | 0 | 0 | 1 | 0 | 0 | 0 | 0 | 1 | 31.0 | 9.6100 | 29.791000 | 92.35210000 | 3050 | 10 | 5070 | 9  |\n",
       "| 19 | 28.846154 | 3.361977 | 1 | 0 | 0 | 0 | 1 | 0 | 0 | 0 | 0 | 1 | 22.0 | 4.8400 | 10.648000 | 23.42560000 | 2015 | 6  | 9470 | 22 |\n",
       "| 30 | 11.730769 | 2.462215 | 1 | 0 | 0 | 0 | 1 | 0 | 0 | 0 | 0 | 1 |  1.0 | 0.0100 |  0.001000 |  0.00010000 | 1650 | 5  | 7460 | 14 |\n",
       "| 71 | 19.230769 | 2.956512 | 1 | 0 | 0 | 0 | 1 | 0 | 0 | 0 | 0 | 1 |  4.0 | 0.1600 |  0.064000 |  0.02560000 | 3255 | 10 | 8190 | 18 |\n",
       "| 84 | 12.019231 | 2.486508 | 1 | 0 | 0 | 1 | 0 | 0 | 0 | 0 | 0 | 1 |  5.5 | 0.3025 |  0.166375 |  0.09150625 | 3600 | 11 | 8270 | 18 |\n",
       "\n"
      ],
      "text/plain": [
       "   wage      lwage    sex shs hsg scl clg ad mw so we ne exp1 exp2   exp3     \n",
       "10  9.615385 2.263364 1   0   0   0   1   0  0  0  0  1   7.0 0.4900  0.343000\n",
       "12 48.076923 3.872802 0   0   0   0   1   0  0  0  0  1  31.0 9.6100 29.791000\n",
       "19 28.846154 3.361977 1   0   0   0   1   0  0  0  0  1  22.0 4.8400 10.648000\n",
       "30 11.730769 2.462215 1   0   0   0   1   0  0  0  0  1   1.0 0.0100  0.001000\n",
       "71 19.230769 2.956512 1   0   0   0   1   0  0  0  0  1   4.0 0.1600  0.064000\n",
       "84 12.019231 2.486508 1   0   0   1   0   0  0  0  0  1   5.5 0.3025  0.166375\n",
       "   exp4        occ  occ2 ind  ind2\n",
       "10  0.24010000 3600 11   8370 18  \n",
       "12 92.35210000 3050 10   5070 9   \n",
       "19 23.42560000 2015 6    9470 22  \n",
       "30  0.00010000 1650 5    7460 14  \n",
       "71  0.02560000 3255 10   8190 18  \n",
       "84  0.09150625 3600 11   8270 18  "
      ]
     },
     "metadata": {},
     "output_type": "display_data"
    }
   ],
   "source": [
    "head(data)"
   ]
  },
  {
   "cell_type": "code",
   "execution_count": 61,
   "id": "e2b27948",
   "metadata": {
    "vscode": {
     "languageId": "r"
    }
   },
   "outputs": [
    {
     "data": {
      "text/html": [
       "<table class=\"dataframe\">\n",
       "<caption>A data.frame: 6 × 2</caption>\n",
       "<thead>\n",
       "\t<tr><th></th><th scope=col>lwage</th><th scope=col>exp1</th></tr>\n",
       "\t<tr><th></th><th scope=col>&lt;dbl&gt;</th><th scope=col>&lt;dbl&gt;</th></tr>\n",
       "</thead>\n",
       "<tbody>\n",
       "\t<tr><th scope=row>10</th><td>2.263364</td><td> 7.0</td></tr>\n",
       "\t<tr><th scope=row>12</th><td>3.872802</td><td>31.0</td></tr>\n",
       "\t<tr><th scope=row>19</th><td>3.361977</td><td>22.0</td></tr>\n",
       "\t<tr><th scope=row>30</th><td>2.462215</td><td> 1.0</td></tr>\n",
       "\t<tr><th scope=row>71</th><td>2.956512</td><td> 4.0</td></tr>\n",
       "\t<tr><th scope=row>84</th><td>2.486508</td><td> 5.5</td></tr>\n",
       "</tbody>\n",
       "</table>\n"
      ],
      "text/latex": [
       "A data.frame: 6 × 2\n",
       "\\begin{tabular}{r|ll}\n",
       "  & lwage & exp1\\\\\n",
       "  & <dbl> & <dbl>\\\\\n",
       "\\hline\n",
       "\t10 & 2.263364 &  7.0\\\\\n",
       "\t12 & 3.872802 & 31.0\\\\\n",
       "\t19 & 3.361977 & 22.0\\\\\n",
       "\t30 & 2.462215 &  1.0\\\\\n",
       "\t71 & 2.956512 &  4.0\\\\\n",
       "\t84 & 2.486508 &  5.5\\\\\n",
       "\\end{tabular}\n"
      ],
      "text/markdown": [
       "\n",
       "A data.frame: 6 × 2\n",
       "\n",
       "| <!--/--> | lwage &lt;dbl&gt; | exp1 &lt;dbl&gt; |\n",
       "|---|---|---|\n",
       "| 10 | 2.263364 |  7.0 |\n",
       "| 12 | 3.872802 | 31.0 |\n",
       "| 19 | 3.361977 | 22.0 |\n",
       "| 30 | 2.462215 |  1.0 |\n",
       "| 71 | 2.956512 |  4.0 |\n",
       "| 84 | 2.486508 |  5.5 |\n",
       "\n"
      ],
      "text/plain": [
       "   lwage    exp1\n",
       "10 2.263364  7.0\n",
       "12 3.872802 31.0\n",
       "19 3.361977 22.0\n",
       "30 2.462215  1.0\n",
       "71 2.956512  4.0\n",
       "84 2.486508  5.5"
      ]
     },
     "metadata": {},
     "output_type": "display_data"
    }
   ],
   "source": [
    "graph <- data[\"lwage\"]\n",
    "graph$exp1 <- data$exp1\n",
    "head(graph)"
   ]
  },
  {
   "cell_type": "markdown",
   "id": "7ef858fa",
   "metadata": {},
   "source": [
    "## Graphic"
   ]
  },
  {
   "cell_type": "code",
   "execution_count": 62,
   "id": "ea1bc95f",
   "metadata": {
    "vscode": {
     "languageId": "r"
    }
   },
   "outputs": [
    {
     "name": "stderr",
     "output_type": "stream",
     "text": [
      "`geom_smooth()` using method = 'gam' and formula 'y ~ s(x, bs = \"cs\")'\n",
      "\n",
      "`geom_smooth()` using method = 'gam' and formula 'y ~ s(x, bs = \"cs\")'\n",
      "\n"
     ]
    },
    {
     "data": {
      "image/png": "[encoded data removed]",
      "text/plain": [
       "plot without title"
      ]
     },
     "metadata": {
      "image/png": {
       "height": 420,
       "width": 420
      }
     },
     "output_type": "display_data"
    }
   ],
   "source": [
    "scl = data[data$scl==1,]\n",
    "clg = data[data$clg==1,]\n",
    "ggplot(NULL,aes(exp1,lwage))+\n",
    "geom_smooth( data=clg, fill=\"slategray3\", colour=\"dodgerblue3\", size=1)+ \n",
    "stat_summary_bin(data=clg, fun='mean', bins=50, color='dodgerblue', size=1, geom='line')+\n",
    "geom_smooth( data=scl, fill=\"darkorange\", colour=\"darkorange3\", size=1)+ \n",
    "stat_summary_bin(data=scl, fun='mean', bins=50, color='firebrick1', size=1, geom='line')"
   ]
  },
  {
   "cell_type": "markdown",
   "id": "4f644947",
   "metadata": {},
   "source": [
    "The Confidence Interval of the sex coefficient is plotted for different models (basic, control and partial)."
   ]
  },
  {
   "cell_type": "code",
   "execution_count": 68,
   "id": "4ebec125",
   "metadata": {
    "vscode": {
     "languageId": "r"
    }
   },
   "outputs": [
    {
     "data": {
      "image/png": "[encoded data removed]",
      "text/plain": [
       "Plot with title \"Regression Estimates\""
      ]
     },
     "metadata": {
      "image/png": {
       "height": 420,
       "width": 420
      }
     },
     "output_type": "display_data"
    }
   ],
   "source": [
    "#install.packages(\"arm\")\n",
    "#install.packages(\"car\")\n",
    "library(\"arm\")\n",
    "library(\"car\")\n",
    "coefplot(partial.fit, xlim=c(-1, 1),            )\n",
    "coefplot(control.fit , add=TRUE, col.pts=\"red\")\n",
    "coefplot(nocontrol.fit, add=TRUE, col.pts=\"blue\",offset=0.2)"
   ]
  },
  {
   "cell_type": "markdown",
   "id": "5e1b9609",
   "metadata": {},
   "source": [
    "\n",
    "The Frisch-Waugh-Lovell theorem is proved below."
   ]
  },
  {
   "cell_type": "markdown",
   "id": "06fdab59",
   "metadata": {},
   "source": [
    "# Frisch-Waugh-Lovell Theorem"
   ]
  },
  {
   "cell_type": "markdown",
   "id": "4c5d5ede",
   "metadata": {},
   "source": [
    "We can start defining the main equation as:\n",
    "\\begin{equation} \n",
    "Y= D \\beta_1 + W \\beta_2 + \\varepsilon\n",
    "\\end{equation}\n",
    "Since we want to find $\\beta_1$, we can use the **F-W-L Theorem** to proof that we can find it by partialling-out. For that, first, we need to start by regressing $Y$ with $W$ and $D$ with $W$:\n",
    " \\begin{align} \n",
    "Y=\\alpha_{YW} W+ \\varepsilon_1 \\\\\n",
    "D=\\alpha_{DW} W+ \\varepsilon_2 \\\\\n",
    "\\end{align}\n",
    "With this, we can estimate the residual errors $\\hat{\\varepsilon_1}$ and $\\hat{\\varepsilon_2}$ after estimating the coefficients $\\hat{\\alpha_{YW}}$  and $\\hat{\\alpha_{DW}}$ using OLS. We can present them using the *waste generation matrix*:\n",
    "\\begin{align} \n",
    "\\hat{\\varepsilon_1}&= Y- W \\hat{\\alpha_{YW}} \\\\\n",
    "&= Y- W (W'W)^{-1} W' Y\\\\\n",
    "&= (I-W (W'W)^{-1} W')Y\\\\\n",
    "&=MY\n",
    "\\end{align}\n",
    "\\begin{align} \n",
    "\\hat{\\varepsilon_2}&= D- W \\hat{\\alpha_{DW}} \\\\\n",
    "&= D- W (W'W)^{-1} W' D\\\\\n",
    "&= (I-W (W'W)^{-1} W')D\\\\\n",
    "&=MD\n",
    "\\end{align}\n",
    "An interesting property of this waste generation matrix is that is *idempotent* meaning it follows:\n",
    "\\begin{align} \n",
    "M M &=  (I-W (W'W)^{-1} W')  (I-W (W'W)^{-1} W') \\\\\n",
    "&= I - W (W'W)^{-1} W' - W (W'W)^{-1} W' +  W (W'W)^{-1} W' W (W'W)^{-1} W'\\\\\n",
    "&= I - 2 W (W'W)^{-1} W' +  W (W'W)^{-1} W' \\\\\n",
    "&= I - W (W'W)^{-1} W' \\\\\n",
    "&= M\n",
    "\\end{align}\n",
    "With this in mind, we can regress $\\hat{\\varepsilon_1}$ and $\\hat{\\varepsilon_2}$ using OLS:\n",
    "\\begin{align} \n",
    "\\hat{\\varepsilon_1}=\\hat{\\varepsilon_2}+\\alpha_{\\varepsilon_1 \\varepsilon_2} + \\varepsilon_3\n",
    "\\end{align}\n",
    "And find that $\\hat{\\alpha_{\\varepsilon_1 \\varepsilon_2}}$= $\\beta_1$, proving the **F-W-L Theorem**:\n",
    "\\begin{align} \n",
    "\\hat{\\alpha_{\\varepsilon_1 \\varepsilon_2}}&=(\\hat{\\varepsilon_2}' \\hat{\\varepsilon_2}) ^{-1} (\\hat{\\varepsilon_2}'\\hat{\\varepsilon_1}) \\\\\n",
    "&= ( ( MD)' MD )^{-1} ( (MD)' MY) \\\\\n",
    "&= (D'M'M D ) ^{-1} (D'M'M Y) \\\\\n",
    "&= (D'D)^{-1} (D'Y) \\\\\n",
    "&= \\beta_1\n",
    "\\end{align}"
   ]
  }
 ],
 "metadata": {
  "kernelspec": {
   "display_name": "R",
   "language": "R",
   "name": "ir"
  },
  "language_info": {
   "codemirror_mode": "r",
   "file_extension": ".r",
   "mimetype": "text/x-r-source",
   "name": "R",
   "pygments_lexer": "r",
   "version": "4.1.3"
  }
 },
 "nbformat": 4,
 "nbformat_minor": 5
}
