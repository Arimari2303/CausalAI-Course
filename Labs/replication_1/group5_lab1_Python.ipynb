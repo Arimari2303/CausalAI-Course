{
 "cells": [
  {
   "cell_type": "markdown",
   "metadata": {},
   "source": [
    "**Python code replication of \"OLS and Lasso for Wage Prediction\", by Jannis Kueck** \\\n",
    "Link to *OLS and Lasso for Wage Prediction*: https://www.kaggle.com/code/janniskueck/ols-and-lasso-for-gender-wage-gap-inference\n",
    "\n",
    "Note: In this script the code replication elaborated by Alexander Quispe and Anzony Quispe is extensively used\n"
   ]
  },
  {
   "cell_type": "markdown",
   "metadata": {},
   "source": [
    "# **OLS and Lasso for Gender Wage Gap Inference**"
   ]
  },
  {
   "cell_type": "markdown",
   "metadata": {},
   "source": [
    "## **PRE-ANALYSIS CONTENT**"
   ]
  },
  {
   "cell_type": "markdown",
   "metadata": {},
   "source": [
    "### **Introduction**\n",
    "In *OLS and Lasso for Wage Prediction*, Jannis Kueck introduced her notebook with the following text: \n",
    "\n",
    "\"In the previous lab, we already analyzed data from the March Supplement of the U.S. Current Population Survey (2015) and answered the question how to use job-relevant characteristics, such as education and experience, to best predict wages. Now, we focus on the following inference question:\n",
    "\n",
    "What is the difference in predicted wages between men and women with the same job-relevant characteristics?\n",
    "\n",
    "Thus, we analyze if there is a difference in the payment of men and women (gender wage gap). The gender wage gap may partly reflect discrimination against women in the labor market or may partly reflect a selection effect, namely that women are relatively more likely to take on occupations that pay somewhat less (for example, school teaching).\n",
    "\n",
    "To investigate the gender wage gap, we consider the following log-linear regression model\n",
    "\n",
    "$log(Y)=β'X + ϵ = β_{1}D + β'2W + ϵ$,\n",
    " \n",
    "where  D  is the indicator of being female ( 1  if female and  0  otherwise) and the  $W$ 's are controls explaining variation in wages. Considering transformed wages by the logarithm, we are analyzing the relative difference in the payment of men and women.\""
   ]
  },
  {
   "cell_type": "markdown",
   "metadata": {},
   "source": [
    " ### **Summary of questions**\n",
    "\n",
    "**Main question:** What is the difference in predicted wages between men and women with the same job-relevant characteristics? \\\n",
    "**Secondary question 01:** How can we use job-relevant characteristics, such as education and experience, to best predict wages? \\ \n"
   ]
  },
  {
   "cell_type": "markdown",
   "metadata": {},
   "source": [
    "### **About data**\n",
    "Regarding the data used for the analysis, Jannis Kueck wrote the following:\n",
    "\n",
    "\"The data set we consider is from the 2015 March Supplement of the U.S. Current Population Survey. We select white non-hispanic individuals, aged 25 to 64 years, and working more than 35 hours per week for at least 50 weeks of the year. We exclude self-employed workers; individuals living in group quarters; individuals in the military, agricultural or private household sectors; individuals with inconsistent reports on earnings and employment status; individuals with allocated or missing information in any of the variables used in the analysis; and individuals with hourly wage below  3 .\n",
    "\n",
    "The variable of interest  $Y$  is the hourly wage rate constructed as the ratio of the annual earnings to the total number of hours worked, which is constructed in turn as the product of number of weeks worked and the usual number of hours worked per week. In our analysis, we also focus on single (never married) workers. The final sample is of size  n=5150.\"\n"
   ]
  },
  {
   "cell_type": "markdown",
   "metadata": {},
   "source": [
    "## **GROUPWORK INSTRUCTIONS**"
   ]
  },
  {
   "cell_type": "markdown",
   "metadata": {},
   "source": [
    "The instructions for this groupwork can be found at https://github.com/alexanderquispe/ECO224/issues/66. \\\n",
    "In addition to replicating the codes showed during the by-this-time previous laboratory, we\n",
    "\n",
    "\"[...] have to follow the next instructions:\n",
    "\n",
    "- 1. Focus on the subset of college-educated workers (scl and clg variables). The analysis should be analogous to what we’ve presented —explaining \"partialling out\", generating point estimates and standard errors.\n",
    "- 2. Use appropiate plots (i.e. histograms, barplots, scatter plots, pie plots, etc.) to describe the main varaibles (wage, log-wage, sex, some high school, high school graduate, some college, college graduate, advanced degree, experience)\"\n",
    "\n",
    "**Tutorial plot for Python**\n",
    "\n",
    "Use this material (https://github.com/alexanderquispe/Diplomado_PUCP/tree/main/Lecture_9)\n",
    "\n",
    "**Tutorial plots for R**\n",
    "\n",
    "https://www.kaggle.com/code/benroshan/part-4-data-visualization-with-r/notebook\n",
    "\n",
    "**Tutorial plots for Julia**\n",
    "\n",
    "https://www.analyticsvidhya.com/blog/2021/05/data-visualizations-in-julia-using-plots-jl-with-practical-implementation/\n",
    "\n",
    "3. You will also include a replication of the next figure using the data :\n",
    "\n",
    "    **[the image should go here, but we can just see it in the webpage]**\n",
    "\n",
    "    Help: Use the Log(wage) variable and the experience variables. You will have only two plotted lines for this College-educated workers. Do not focus on the wage gap!.\n",
    "\n",
    "4. Plot Interval confidence of sex's coefficient for different model (basic, control and partiallling out).\n",
    "Use these references:\n",
    "Coefplot in R:\n",
    "https://www.r-statistics.com/2010/07/visualization-of-regression-coefficients-in-r/\n",
    "Coefplot in Julia:\n",
    "https://discourse.julialang.org/t/plotting-coefplot/45779/4\n",
    "Coefplot in Python:\n",
    "https://zhiyzuo.github.io/Python-Plot-Regression-Coefficient/\n",
    "\n",
    "5. Include in a markdown cell of your notebook the proof of the Frisch-Waugh-Lovell Theorem, as I explained to you in the last lecture.\n",
    "\n",
    "6. Create only one branch for your group: group1_lab1 or group2_lab1\n",
    "\n",
    "7. Name the scripts as \"group1_lab1_python\" & \"group1_lab1_R\"\n",
    "\n",
    "8. Do by yourself the merge and Close - Delete your branch once you are done.\n",
    "\n",
    "9. Save both files in ECO224/Labs/replication_1/\n",
    "\n",
    "10. Deadline:"
   ]
  },
  {
   "cell_type": "markdown",
   "metadata": {},
   "source": [
    "## **ANALYSIS CONTENT**"
   ]
  },
  {
   "cell_type": "markdown",
   "metadata": {},
   "source": [
    "### **Packages and modules**"
   ]
  },
  {
   "cell_type": "markdown",
   "metadata": {},
   "source": [
    "First, let's install a Python package named pyreadr. \n",
    "pyreader is a Python package to read and write R RData and Rds files into/from pandas data frames. It does not need to have R or other external dependencies installed. It is based on the C library librdata and a modified version of the cython wrapper jamovi-readstat.\n",
    "Please visit our (Otto Fajardo's project) project home page for more information:\n",
    "https://github.com/ofajardo/pyreadr\n",
    "\n",
    "pyreadr can read mainly R data frames and tibbles. Also supports vectors, matrices, arrays and tables. R lists and R S4 objects (such as those from Bioconductor) are not supported. Please read the Known limitations section and the section on what objects can be read for more information."
   ]
  },
  {
   "cell_type": "code",
   "execution_count": 14,
   "metadata": {},
   "outputs": [
    {
     "name": "stdout",
     "output_type": "stream",
     "text": [
      "Requirement already satisfied: pyreadr in c:\\users\\c3368\\appdata\\local\\programs\\python\\python310\\lib\\site-packages (0.4.4)\n",
      "Requirement already satisfied: pandas>=1.2.0 in c:\\users\\c3368\\appdata\\local\\programs\\python\\python310\\lib\\site-packages (from pyreadr) (1.4.1)\n",
      "Requirement already satisfied: python-dateutil>=2.8.1 in c:\\users\\c3368\\appdata\\local\\programs\\python\\python310\\lib\\site-packages (from pandas>=1.2.0->pyreadr) (2.8.2)\n",
      "Requirement already satisfied: numpy>=1.21.0 in c:\\users\\c3368\\appdata\\local\\programs\\python\\python310\\lib\\site-packages (from pandas>=1.2.0->pyreadr) (1.22.2)\n",
      "Requirement already satisfied: pytz>=2020.1 in c:\\users\\c3368\\appdata\\local\\programs\\python\\python310\\lib\\site-packages (from pandas>=1.2.0->pyreadr) (2022.1)\n",
      "Requirement already satisfied: six>=1.5 in c:\\users\\c3368\\appdata\\local\\programs\\python\\python310\\lib\\site-packages (from python-dateutil>=2.8.1->pandas>=1.2.0->pyreadr) (1.16.0)\n"
     ]
    }
   ],
   "source": [
    "!pip install pyreadr"
   ]
  },
  {
   "cell_type": "markdown",
   "metadata": {},
   "source": [
    "Second, let's a Python package named DataComPy, which serves to compare two Pandas DataFrames"
   ]
  },
  {
   "cell_type": "code",
   "execution_count": 15,
   "metadata": {},
   "outputs": [
    {
     "name": "stdout",
     "output_type": "stream",
     "text": [
      "Requirement already satisfied: datacompy in c:\\users\\c3368\\appdata\\roaming\\python\\python310\\site-packages (0.8.0)\n",
      "Requirement already satisfied: ordered-set<=4.1.0,>=4.0.2 in c:\\users\\c3368\\appdata\\local\\programs\\python\\python310\\lib\\site-packages (from datacompy) (4.1.0)\n",
      "Requirement already satisfied: numpy<=1.22.2,>=1.11.3 in c:\\users\\c3368\\appdata\\local\\programs\\python\\python310\\lib\\site-packages (from datacompy) (1.22.2)\n",
      "Requirement already satisfied: pandas<=1.4.1,>=0.25.0 in c:\\users\\c3368\\appdata\\local\\programs\\python\\python310\\lib\\site-packages (from datacompy) (1.4.1)\n",
      "Requirement already satisfied: python-dateutil>=2.8.1 in c:\\users\\c3368\\appdata\\local\\programs\\python\\python310\\lib\\site-packages (from pandas<=1.4.1,>=0.25.0->datacompy) (2.8.2)\n",
      "Requirement already satisfied: pytz>=2020.1 in c:\\users\\c3368\\appdata\\local\\programs\\python\\python310\\lib\\site-packages (from pandas<=1.4.1,>=0.25.0->datacompy) (2022.1)\n",
      "Requirement already satisfied: six>=1.5 in c:\\users\\c3368\\appdata\\local\\programs\\python\\python310\\lib\\site-packages (from python-dateutil>=2.8.1->pandas<=1.4.1,>=0.25.0->datacompy) (1.16.0)\n"
     ]
    }
   ],
   "source": [
    "!pip install datacompy"
   ]
  },
  {
   "cell_type": "markdown",
   "metadata": {},
   "source": [
    "Third, let's import all the required libraries"
   ]
  },
  {
   "cell_type": "code",
   "execution_count": 16,
   "metadata": {},
   "outputs": [],
   "source": [
    "# For directory configuration\n",
    "import os \n",
    "# For data (non-visual/non-graphical) analysis\n",
    "import numpy as np \n",
    "import pandas as pd \n",
    "# For data visualization \n",
    "import matplotlib.pyplot as plt \n",
    "import seaborn as sns \n",
    "# For comparison of databases\n",
    "import datacompy \n",
    "# Auxiliar packages\n",
    "import pyreadr \n",
    "import math"
   ]
  },
  {
   "cell_type": "markdown",
   "metadata": {},
   "source": [
    "### **Directory configuration**"
   ]
  },
  {
   "cell_type": "markdown",
   "metadata": {},
   "source": [
    "#### **1. Set the path for the database**\n",
    "os.listdir(path='.')\n",
    ">Return a list containing the names of the entries in the directory given by path. The list is in arbitrary order, and does not include the special entries '.' and '..' even if they are present in the directory. If a file is removed from or added to the directory during the call of this function, whether a name for that file be included is unspecified."
   ]
  },
  {
   "cell_type": "code",
   "execution_count": 17,
   "metadata": {},
   "outputs": [
    {
     "data": {
      "text/plain": [
       "['base0.csv',\n",
       " 'base1.xlsx',\n",
       " 'GrowthData.RData',\n",
       " 'penn_jae.dat',\n",
       " 'wage2015_subsample_inference.csv',\n",
       " 'wage2015_subsample_inference.Rdata']"
      ]
     },
     "execution_count": 17,
     "metadata": {},
     "output_type": "execute_result"
    }
   ],
   "source": [
    "## import os \n",
    "# Set the path for the directory that contains the databases ('wage2015_subsample_inference.csv', the \"target achive\" from now on) we'll work on\n",
    "databases_path = r'..\\..\\data'\n",
    "# Return a list containing the entries within such directory, which are the target archives' names \n",
    "list_databases = os.listdir(databases_path)\n",
    "list_databases"
   ]
  },
  {
   "cell_type": "code",
   "execution_count": 18,
   "metadata": {},
   "outputs": [
    {
     "data": {
      "text/plain": [
       "6"
      ]
     },
     "execution_count": 18,
     "metadata": {},
     "output_type": "execute_result"
    }
   ],
   "source": [
    "# Verify the number of archives contained within this target archives' directory\n",
    "len(list_databases)"
   ]
  },
  {
   "cell_type": "code",
   "execution_count": 19,
   "metadata": {},
   "outputs": [],
   "source": [
    "# Now, specifically, set the path for the database ('wage2015_subsample_inference.csv', the \"target achive\" from now on) we'll work on\n",
    "databaseArchive_path = r'..\\..\\data\\wage2015_subsample_inference.csv'"
   ]
  },
  {
   "cell_type": "markdown",
   "metadata": {},
   "source": [
    "### **Data importation**"
   ]
  },
  {
   "cell_type": "markdown",
   "metadata": {},
   "source": [
    "#### **2. Import the required database: Subsample of the Current Population Survey 2015 database**\n",
    "pandas.read_csv\n",
    "> pandas.read_csv(filepath_or_buffer, sep=NoDefault.no_default, delimiter=None, header='infer', names=NoDefault.no_default, index_col=None, usecols=None, squeeze=None, prefix=NoDefault.no_default, mangle_dupe_cols=True, dtype=None, engine=None, converters=None, true_values=None, false_values=None, skipinitialspace=False, skiprows=None, skipfooter=0, nrows=None, na_values=None, keep_default_na=True, na_filter=True, verbose=False, skip_blank_lines=True, parse_dates=None, infer_datetime_format=False, keep_date_col=False, date_parser=None, dayfirst=False, cache_dates=True, iterator=False, chunksize=None, compression='infer', thousands=None, decimal='.', lineterminator=None, quotechar='\"', quoting=0, doublequote=True, escapechar=None, comment=None, encoding=None, encoding_errors='strict', dialect=None, error_bad_lines=None, warn_bad_lines=None, on_bad_lines=None, delim_whitespace=False, low_memory=True, memory_map=False, float_precision=None, storage_options=None)\n"
   ]
  },
  {
   "cell_type": "code",
   "execution_count": 20,
   "metadata": {},
   "outputs": [
    {
     "data": {
      "text/plain": [
       "Index(['rownames', 'wage', 'lwage', 'sex', 'shs', 'hsg', 'scl', 'clg', 'ad',\n",
       "       'mw', 'so', 'we', 'ne', 'exp1', 'exp2', 'exp3', 'exp4', 'occ', 'occ2',\n",
       "       'ind', 'ind2'],\n",
       "      dtype='object')"
      ]
     },
     "execution_count": 20,
     "metadata": {},
     "output_type": "execute_result"
    }
   ],
   "source": [
    "CPSwage2015_subsample = pd.read_csv(databaseArchive_path, header='infer')\n",
    "CPSwage2015_subsample.columns"
   ]
  },
  {
   "cell_type": "markdown",
   "metadata": {},
   "source": [
    "#### **3. Provide a variable description**\n",
    "**Variable description:**\n",
    "- **occ:** Occupational classification\n",
    "- **ind:** Industry classification\n",
    "- **lwage:** Log hourly wage\n",
    "- **sex:**  Gender (1 female) (0 male)\n",
    "- **shs:** Some high school\n",
    "- **hsg:** High school graduate\n",
    "- **scl:** Some college\n",
    "- **clg:** College graduate\n",
    "- **ad:** Advanced degree\n",
    "- **ne:** Northeast\n",
    "- **mw:** Midwest\n",
    "- **so:** South\n",
    "- **we:** West\n",
    "- **exp1:** experience"
   ]
  },
  {
   "cell_type": "markdown",
   "metadata": {},
   "source": [
    "#### **4. Before starting the data analysis, let's verify that the archive named as wage2015_subsample_inference.csv is indeed the same that is contained within the R workspace named as wage2015_subsample_inference.Rdata**"
   ]
  },
  {
   "cell_type": "code",
   "execution_count": 21,
   "metadata": {},
   "outputs": [
    {
     "data": {
      "text/plain": [
       "'\\nthere was some codes here\\n'"
      ]
     },
     "execution_count": 21,
     "metadata": {},
     "output_type": "execute_result"
    }
   ],
   "source": [
    "# 4.1. Comparison of a required dataset to the dataset within an R workspace that is also used\n",
    "'''\n",
    "there was some codes here\n",
    "'''"
   ]
  },
  {
   "cell_type": "code",
   "execution_count": 22,
   "metadata": {},
   "outputs": [
    {
     "data": {
      "text/plain": [
       "\"\\ncompare = datacompy.Compare(\\n    prueba01,\\n    prueba02,\\n    join_columns='rownames',  #You can also specify a list of columns\\n    abs_tol=0, #Optional, defaults to 0\\n    rel_tol=0, #Optional, defaults to 0\\n    df1_name='Original', #Optional, defaults to 'df1'\\n    df2_name='New' #Optional, defaults to 'df2'\\n    )\\ncompare.matches(ignore_extra_columns=False)\\n\""
      ]
     },
     "execution_count": 22,
     "metadata": {},
     "output_type": "execute_result"
    }
   ],
   "source": [
    "# Generate the comparison\n",
    "'''\n",
    "compare = datacompy.Compare(\n",
    "    prueba01,\n",
    "    prueba02,\n",
    "    join_columns='rownames',  #You can also specify a list of columns\n",
    "    abs_tol=0, #Optional, defaults to 0\n",
    "    rel_tol=0, #Optional, defaults to 0\n",
    "    df1_name='Original', #Optional, defaults to 'df1'\n",
    "    df2_name='New' #Optional, defaults to 'df2'\n",
    "    )\n",
    "compare.matches(ignore_extra_columns=False)\n",
    "'''"
   ]
  },
  {
   "cell_type": "code",
   "execution_count": 23,
   "metadata": {},
   "outputs": [
    {
     "data": {
      "text/plain": [
       "\"\\n# Show the obtained report\\nprint(compare.report()) \\n# Yes, the archive named as wage2015_subsample_inference.csv is indeed \\n# the same that is contained within the R workspace\\n# named as wage2015_subsample_inference.Rdata!. Hence we can work only with\\n# wage2015_subsample_inference.csv. It's not necessary to use\\n# wage2015_subsample_inference.Rdata\\n\""
      ]
     },
     "execution_count": 23,
     "metadata": {},
     "output_type": "execute_result"
    }
   ],
   "source": [
    "'''\n",
    "# Show the obtained report\n",
    "print(compare.report()) \n",
    "# Yes, the archive named as wage2015_subsample_inference.csv is indeed \n",
    "# the same that is contained within the R workspace\n",
    "# named as wage2015_subsample_inference.Rdata!. Hence we can work only with\n",
    "# wage2015_subsample_inference.csv. It's not necessary to use\n",
    "# wage2015_subsample_inference.Rdata\n",
    "'''"
   ]
  },
  {
   "cell_type": "markdown",
   "metadata": {},
   "source": [
    "### **Data analysis**"
   ]
  },
  {
   "cell_type": "code",
   "execution_count": 24,
   "metadata": {},
   "outputs": [
    {
     "data": {
      "text/plain": [
       "Index(['rownames', 'wage', 'lwage', 'sex', 'shs', 'hsg', 'scl', 'clg', 'ad',\n",
       "       'mw', 'so', 'we', 'ne', 'exp1', 'exp2', 'exp3', 'exp4', 'occ', 'occ2',\n",
       "       'ind', 'ind2'],\n",
       "      dtype='object')"
      ]
     },
     "execution_count": 24,
     "metadata": {},
     "output_type": "execute_result"
    }
   ],
   "source": [
    "# Display the columns of CPIwage2015_subsample\n",
    "CPSwage2015_subsample.columns"
   ]
  },
  {
   "cell_type": "code",
   "execution_count": 25,
   "metadata": {},
   "outputs": [
    {
     "data": {
      "text/plain": [
       "rownames      int64\n",
       "wage        float64\n",
       "lwage       float64\n",
       "sex         float64\n",
       "shs         float64\n",
       "hsg         float64\n",
       "scl         float64\n",
       "clg         float64\n",
       "ad          float64\n",
       "mw          float64\n",
       "so          float64\n",
       "we          float64\n",
       "ne          float64\n",
       "exp1        float64\n",
       "exp2        float64\n",
       "exp3        float64\n",
       "exp4        float64\n",
       "occ         float64\n",
       "occ2          int64\n",
       "ind         float64\n",
       "ind2          int64\n",
       "dtype: object"
      ]
     },
     "execution_count": 25,
     "metadata": {},
     "output_type": "execute_result"
    }
   ],
   "source": [
    "# Check the data types of each column (variable) and verify that each variable is typed according to what they represent.\n",
    "CPSwage2015_subsample.dtypes\n",
    "# We can see that occ, occ2, ind, ind2 are respectively float64, int64, float64, int64, while they all should be categorical\n",
    "#as occ and occ2 represent the 4-digits code for the person's primary occupation (with different grade of detail)\n",
    "#and ind and ind2, the type of industry in which the person performed his or her primary occupation (with different grade of detail)."
   ]
  },
  {
   "cell_type": "code",
   "execution_count": 26,
   "metadata": {},
   "outputs": [],
   "source": [
    "# Conversion of occ, occ2, ind and ind2 to categorical data\n",
    "CPSwage2015_subsample['occ']=pd.Categorical(CPSwage2015_subsample.occ)\n",
    "CPSwage2015_subsample['occ2']=pd.Categorical(CPSwage2015_subsample.occ2)\n",
    "CPSwage2015_subsample['ind']=pd.Categorical(CPSwage2015_subsample.ind)\n",
    "CPSwage2015_subsample['ind2']=pd.Categorical(CPSwage2015_subsample.ind2)"
   ]
  },
  {
   "cell_type": "code",
   "execution_count": 27,
   "metadata": {},
   "outputs": [
    {
     "data": {
      "text/plain": [
       "Index(['rownames', 'wage', 'lwage', 'sex', 'shs', 'hsg', 'scl', 'clg', 'ad',\n",
       "       'mw', 'so', 'we', 'ne', 'exp1', 'exp2', 'exp3', 'exp4', 'occ', 'occ2',\n",
       "       'ind', 'ind2', 'zone'],\n",
       "      dtype='object')"
      ]
     },
     "execution_count": 27,
     "metadata": {},
     "output_type": "execute_result"
    }
   ],
   "source": [
    "# If need, we can collapse the person's living zone (ad, ne, me, so) into one single nominal data, name zone\n",
    "#AVcllps_byZone = pd.AV({'zone': ['ad', 'ne', 'mw', 'so']})\n",
    "#dummies = pd.get_dummies(df['Toss winner'])\n",
    "#df['Team No.'] = dummies.cumsum(axis=1).ne(1).sum(axis=1)\n",
    "CPSwage2015_subsample['zone'] = CPSwage2015_subsample[['ad', 'ne', 'mw', 'so']].idxmax(axis=1)\n",
    "CPSwage2015_subsample['zone'] = pd.Categorical(CPSwage2015_subsample['zone'])\n",
    "CPSwage2015_subsample.columns\n",
    "\n",
    "# If need, we can collapse the person's living education (shs, hsg, scl, clg, ad) into one single nominal data, name zone\n"
   ]
  },
  {
   "cell_type": "markdown",
   "metadata": {},
   "source": [
    "#### **5. Get a subset of the database which contains only people that have college education (scl and c)**"
   ]
  },
  {
   "cell_type": "code",
   "execution_count": 28,
   "metadata": {},
   "outputs": [
    {
     "data": {
      "text/plain": [
       "Index(['rownames', 'wage', 'lwage', 'sex', 'shs', 'hsg', 'scl', 'clg', 'ad',\n",
       "       'mw', 'so', 'we', 'ne', 'exp1', 'exp2', 'exp3', 'exp4', 'occ', 'occ2',\n",
       "       'ind', 'ind2', 'zone'],\n",
       "      dtype='object')"
      ]
     },
     "execution_count": 28,
     "metadata": {},
     "output_type": "execute_result"
    }
   ],
   "source": [
    "# Keep only the rows (observations) for which the variables scl or clg display 1.00 as their values\n",
    "auxdatbs = CPSwage2015_subsample[(CPSwage2015_subsample['scl'] == 1.00) | (CPSwage2015_subsample['scl'].isnull()) | (CPSwage2015_subsample['clg'] == 1.00) | (CPSwage2015_subsample['clg'].isnull())]\n",
    "auxdatbs.columns"
   ]
  },
  {
   "cell_type": "markdown",
   "metadata": {},
   "source": [
    "#### **6. Keep only the variable that are being analyzed**"
   ]
  },
  {
   "cell_type": "code",
   "execution_count": 29,
   "metadata": {},
   "outputs": [],
   "source": [
    "# Get only the the variables that will be analyzed first and name such dataframe object as AV_forCOLLG\n",
    "AV_forCOLLG = auxdatbs[[\"lwage\", \"sex\", \"scl\", \"clg\", \"ne\", \"mw\", \"so\", \"we\", \"zone\", \"exp1\"]]"
   ]
  },
  {
   "cell_type": "code",
   "execution_count": 30,
   "metadata": {},
   "outputs": [
    {
     "data": {
      "text/html": [
       "<div>\n",
       "<style scoped>\n",
       "    .dataframe tbody tr th:only-of-type {\n",
       "        vertical-align: middle;\n",
       "    }\n",
       "\n",
       "    .dataframe tbody tr th {\n",
       "        vertical-align: top;\n",
       "    }\n",
       "\n",
       "    .dataframe thead th {\n",
       "        text-align: right;\n",
       "    }\n",
       "</style>\n",
       "<table border=\"1\" class=\"dataframe\">\n",
       "  <thead>\n",
       "    <tr style=\"text-align: right;\">\n",
       "      <th></th>\n",
       "      <th>lwage</th>\n",
       "      <th>sex</th>\n",
       "      <th>scl</th>\n",
       "      <th>clg</th>\n",
       "      <th>ne</th>\n",
       "      <th>mw</th>\n",
       "      <th>so</th>\n",
       "      <th>we</th>\n",
       "      <th>zone</th>\n",
       "      <th>exp1</th>\n",
       "    </tr>\n",
       "  </thead>\n",
       "  <tbody>\n",
       "    <tr>\n",
       "      <th>0</th>\n",
       "      <td>2.263364</td>\n",
       "      <td>1.0</td>\n",
       "      <td>0.0</td>\n",
       "      <td>1.0</td>\n",
       "      <td>1.0</td>\n",
       "      <td>0.0</td>\n",
       "      <td>0.0</td>\n",
       "      <td>0.0</td>\n",
       "      <td>ne</td>\n",
       "      <td>7.0</td>\n",
       "    </tr>\n",
       "    <tr>\n",
       "      <th>1</th>\n",
       "      <td>3.872802</td>\n",
       "      <td>0.0</td>\n",
       "      <td>0.0</td>\n",
       "      <td>1.0</td>\n",
       "      <td>1.0</td>\n",
       "      <td>0.0</td>\n",
       "      <td>0.0</td>\n",
       "      <td>0.0</td>\n",
       "      <td>ne</td>\n",
       "      <td>31.0</td>\n",
       "    </tr>\n",
       "    <tr>\n",
       "      <th>4</th>\n",
       "      <td>3.361977</td>\n",
       "      <td>1.0</td>\n",
       "      <td>0.0</td>\n",
       "      <td>1.0</td>\n",
       "      <td>1.0</td>\n",
       "      <td>0.0</td>\n",
       "      <td>0.0</td>\n",
       "      <td>0.0</td>\n",
       "      <td>ne</td>\n",
       "      <td>22.0</td>\n",
       "    </tr>\n",
       "    <tr>\n",
       "      <th>5</th>\n",
       "      <td>2.462215</td>\n",
       "      <td>1.0</td>\n",
       "      <td>0.0</td>\n",
       "      <td>1.0</td>\n",
       "      <td>1.0</td>\n",
       "      <td>0.0</td>\n",
       "      <td>0.0</td>\n",
       "      <td>0.0</td>\n",
       "      <td>ne</td>\n",
       "      <td>1.0</td>\n",
       "    </tr>\n",
       "    <tr>\n",
       "      <th>9</th>\n",
       "      <td>2.956512</td>\n",
       "      <td>1.0</td>\n",
       "      <td>0.0</td>\n",
       "      <td>1.0</td>\n",
       "      <td>1.0</td>\n",
       "      <td>0.0</td>\n",
       "      <td>0.0</td>\n",
       "      <td>0.0</td>\n",
       "      <td>ne</td>\n",
       "      <td>4.0</td>\n",
       "    </tr>\n",
       "    <tr>\n",
       "      <th>...</th>\n",
       "      <td>...</td>\n",
       "      <td>...</td>\n",
       "      <td>...</td>\n",
       "      <td>...</td>\n",
       "      <td>...</td>\n",
       "      <td>...</td>\n",
       "      <td>...</td>\n",
       "      <td>...</td>\n",
       "      <td>...</td>\n",
       "      <td>...</td>\n",
       "    </tr>\n",
       "    <tr>\n",
       "      <th>5140</th>\n",
       "      <td>3.818735</td>\n",
       "      <td>1.0</td>\n",
       "      <td>0.0</td>\n",
       "      <td>1.0</td>\n",
       "      <td>0.0</td>\n",
       "      <td>0.0</td>\n",
       "      <td>0.0</td>\n",
       "      <td>1.0</td>\n",
       "      <td>ad</td>\n",
       "      <td>5.0</td>\n",
       "    </tr>\n",
       "    <tr>\n",
       "      <th>5143</th>\n",
       "      <td>3.179655</td>\n",
       "      <td>1.0</td>\n",
       "      <td>0.0</td>\n",
       "      <td>1.0</td>\n",
       "      <td>0.0</td>\n",
       "      <td>0.0</td>\n",
       "      <td>0.0</td>\n",
       "      <td>1.0</td>\n",
       "      <td>ad</td>\n",
       "      <td>17.0</td>\n",
       "    </tr>\n",
       "    <tr>\n",
       "      <th>5144</th>\n",
       "      <td>2.628007</td>\n",
       "      <td>0.0</td>\n",
       "      <td>0.0</td>\n",
       "      <td>1.0</td>\n",
       "      <td>0.0</td>\n",
       "      <td>0.0</td>\n",
       "      <td>0.0</td>\n",
       "      <td>1.0</td>\n",
       "      <td>ad</td>\n",
       "      <td>10.0</td>\n",
       "    </tr>\n",
       "    <tr>\n",
       "      <th>5145</th>\n",
       "      <td>2.692546</td>\n",
       "      <td>0.0</td>\n",
       "      <td>0.0</td>\n",
       "      <td>1.0</td>\n",
       "      <td>0.0</td>\n",
       "      <td>0.0</td>\n",
       "      <td>0.0</td>\n",
       "      <td>1.0</td>\n",
       "      <td>ad</td>\n",
       "      <td>9.0</td>\n",
       "    </tr>\n",
       "    <tr>\n",
       "      <th>5146</th>\n",
       "      <td>3.138833</td>\n",
       "      <td>1.0</td>\n",
       "      <td>1.0</td>\n",
       "      <td>0.0</td>\n",
       "      <td>0.0</td>\n",
       "      <td>0.0</td>\n",
       "      <td>0.0</td>\n",
       "      <td>1.0</td>\n",
       "      <td>ad</td>\n",
       "      <td>12.0</td>\n",
       "    </tr>\n",
       "  </tbody>\n",
       "</table>\n",
       "<p>3068 rows × 10 columns</p>\n",
       "</div>"
      ],
      "text/plain": [
       "         lwage  sex  scl  clg   ne   mw   so   we zone  exp1\n",
       "0     2.263364  1.0  0.0  1.0  1.0  0.0  0.0  0.0   ne   7.0\n",
       "1     3.872802  0.0  0.0  1.0  1.0  0.0  0.0  0.0   ne  31.0\n",
       "4     3.361977  1.0  0.0  1.0  1.0  0.0  0.0  0.0   ne  22.0\n",
       "5     2.462215  1.0  0.0  1.0  1.0  0.0  0.0  0.0   ne   1.0\n",
       "9     2.956512  1.0  0.0  1.0  1.0  0.0  0.0  0.0   ne   4.0\n",
       "...        ...  ...  ...  ...  ...  ...  ...  ...  ...   ...\n",
       "5140  3.818735  1.0  0.0  1.0  0.0  0.0  0.0  1.0   ad   5.0\n",
       "5143  3.179655  1.0  0.0  1.0  0.0  0.0  0.0  1.0   ad  17.0\n",
       "5144  2.628007  0.0  0.0  1.0  0.0  0.0  0.0  1.0   ad  10.0\n",
       "5145  2.692546  0.0  0.0  1.0  0.0  0.0  0.0  1.0   ad   9.0\n",
       "5146  3.138833  1.0  1.0  0.0  0.0  0.0  0.0  1.0   ad  12.0\n",
       "\n",
       "[3068 rows x 10 columns]"
      ]
     },
     "execution_count": 30,
     "metadata": {},
     "output_type": "execute_result"
    }
   ],
   "source": [
    "# Show the resulting database, the one that we are going to work with\n",
    "AV_forCOLLG"
   ]
  },
  {
   "cell_type": "markdown",
   "metadata": {},
   "source": [
    "#### **7. Group the dataset with different mechanics**"
   ]
  },
  {
   "cell_type": "markdown",
   "metadata": {},
   "source": [
    "##### **First, establish a mean comparison, grouping by gender and by region**"
   ]
  },
  {
   "cell_type": "code",
   "execution_count": 36,
   "metadata": {},
   "outputs": [
    {
     "name": "stdout",
     "output_type": "stream",
     "text": [
      "dict_keys([0.0, 1.0])\n"
     ]
    }
   ],
   "source": [
    "print(AV_forCOLLG.groupby('sex').groups.keys())\n",
    "# Group the dataset by the column sex\n",
    "dataset_byGender = AV_forCOLLG.groupby('sex')\n",
    "# Generate subsets of the data based on gender\n",
    "female_dataset = dataset_byGender.get_group(1.00)\n",
    "male_dataset = dataset_byGender.get_group(0.00)\n",
    "# Get values item from group with value 0.00 and 1.00 separately\n",
    "#display(dataset_byGender.get_group(1.00), dataSet_byGender.get_group(1.00))\n",
    "#dataset_byGender = AV.groupby(['','sex'])"
   ]
  },
  {
   "cell_type": "code",
   "execution_count": 32,
   "metadata": {},
   "outputs": [],
   "source": [
    "#dataset_byRgnGndr = CPSwage2015_subsample.groupby(,'sex')\n",
    "# Get the mean of each column of specific group\n",
    "#display(dataset_byGender.get_group(1.00).mean(), dataset_byGender.get_group(0.00).mean())"
   ]
  },
  {
   "cell_type": "markdown",
   "metadata": {},
   "source": [
    "##### **Second, generate a 5-number summary**\n",
    "Let's use a **box plot**... \\\n",
    "**Box plot's content explanation:**\n",
    "- $Q_0$: minimum and 0th percentile\n",
    "- $Q_1$: 25th percentile\n",
    "- $Q_2$: median\n",
    "- $Q_3$: 75th percentil\n",
    "- $Q_4$: maximum and 100th percentile\n",
    "\n",
    "matplotlib.pyplot.boxplot\n",
    ">matplotlib.pyplot.boxplot(x, notch=None, sym=None, vert=None, whis=None, positions=None, \\\n",
    "widths=None, patch_artist=None, bootstrap=None, usermedians=None, conf_intervals=None, \\\n",
    "meanline=None, showmeans=None, showcaps=None, showbox=None, showfliers=None, \\\n",
    "boxprops=None, labels=None, flierprops=None, medianprops=None, meanprops=None, \\\n",
    "capprops=None, whiskerprops=None, manage_ticks=True, autorange=False, zorder=None, *, \\\n",
    "data=None)"
   ]
  },
  {
   "cell_type": "code",
   "execution_count": 33,
   "metadata": {},
   "outputs": [
    {
     "data": {
      "text/plain": [
       "\"'\\nplt.figure(1, figsize = (15, 5))\\nplt.suptitle('Wage Box Plots')\\nplt.subplot (1, 2, 1)\\nplt.title('for Women')\\nplt.boxplot(female_dataset[['lwage']])\\nplt.subplot (1, 2, 2)\\nplt.title('for Men')\\nplt.boxplot(male_dataset[['lwage']])\\n\""
      ]
     },
     "execution_count": 33,
     "metadata": {},
     "output_type": "execute_result"
    }
   ],
   "source": [
    "# Box plot for log(wage) (First try)\n",
    "''''\n",
    "plt.figure(1, figsize = (15, 5))\n",
    "plt.suptitle('Wage Box Plots')\n",
    "plt.subplot (1, 2, 1)\n",
    "plt.title('for Women')\n",
    "plt.boxplot(female_dataset[['lwage']])\n",
    "plt.subplot (1, 2, 2)\n",
    "plt.title('for Men')\n",
    "plt.boxplot(male_dataset[['lwage']])\n",
    "'''"
   ]
  },
  {
   "cell_type": "code",
   "execution_count": 34,
   "metadata": {},
   "outputs": [
    {
     "data": {
      "text/plain": [
       "Text(0.5, 1.0, 'for Men')"
      ]
     },
     "execution_count": 34,
     "metadata": {},
     "output_type": "execute_result"
    },
    {
     "data": {
      "image/png": "[encoded data removed]",
      "text/plain": [
       "<Figure size 1080x360 with 2 Axes>"
      ]
     },
     "metadata": {
      "needs_background": "light"
     },
     "output_type": "display_data"
    }
   ],
   "source": [
    "# Box plot for log(wage) (Second try)\n",
    "fig, axes = plt.subplots(1, 2, figsize=(15, 5), sharey=True)\n",
    "fig.suptitle('Log(wage) Distribution — Box Plots')\n",
    "\n",
    "# Box plot for lwage for women \n",
    "sns.boxplot(ax=axes[0], data=female_dataset[['lwage']])\n",
    "axes[0].set_title('for Women')\n",
    "\n",
    "# Box plot for lwage for men\n",
    "sns.boxplot(ax=axes[1], data=male_dataset[['lwage']])\n",
    "axes[1].set_title('for Men')"
   ]
  },
  {
   "cell_type": "code",
   "execution_count": 37,
   "metadata": {},
   "outputs": [
    {
     "data": {
      "text/plain": [
       "Text(0.5, 1.0, 'for Men')"
      ]
     },
     "execution_count": 37,
     "metadata": {},
     "output_type": "execute_result"
    },
    {
     "data": {
      "image/png": "[encoded data removed]",
      "text/plain": [
       "<Figure size 1080x360 with 2 Axes>"
      ]
     },
     "metadata": {
      "needs_background": "light"
     },
     "output_type": "display_data"
    }
   ],
   "source": [
    "# Kernel Density Estimates (KDE) for log(wage)\n",
    "fig, axes = plt.subplots(1, 2, figsize=(15, 5), sharey=True)\n",
    "fig.suptitle('Log(wage) Distribution — Kernel Density Estimates (KDE)')\n",
    "\n",
    "# KDE for lwage for men\n",
    "sns.kdeplot(ax=axes[0], data=female_dataset[['lwage']])\n",
    "axes[0].set_title('for Women')\n",
    "\n",
    "# KDE for lwage for men\n",
    "sns.kdeplot(ax=axes[1], data=male_dataset[['lwage']])\n",
    "axes[1].set_title('for Men')"
   ]
  }
 ],
 "metadata": {
  "interpreter": {
   "hash": "48be8914b5aeb0b1c2ea91f3782edc43330645d0eae05728677f5e9ddf3c259c"
  },
  "kernelspec": {
   "display_name": "Python 3 (ipykernel)",
   "language": "python",
   "name": "python3"
  },
  "language_info": {
   "codemirror_mode": {
    "name": "ipython",
    "version": 3
   },
   "file_extension": ".py",
   "mimetype": "text/x-python",
   "name": "python",
   "nbconvert_exporter": "python",
   "pygments_lexer": "ipython3",
   "version": "3.9.12"
  }
 },
 "nbformat": 4,
 "nbformat_minor": 2
}
