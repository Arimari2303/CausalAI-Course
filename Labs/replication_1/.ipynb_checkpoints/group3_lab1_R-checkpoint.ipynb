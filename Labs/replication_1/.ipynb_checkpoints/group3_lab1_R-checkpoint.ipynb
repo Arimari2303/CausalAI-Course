{
 "cells": [
  {
   "cell_type": "code",
   "execution_count": null,
   "id": "7e42030b",
   "metadata": {},
   "outputs": [],
   "source": [
    "## Group3\n",
    "#Members\n",
    "1.Andrea Ulloa\n",
    "2.Ana Angulo\n",
    "3.Angela Coapaza (20171636) \n"
   ]
  },
  {
   "cell_type": "code",
   "execution_count": null,
   "id": "6456580b",
   "metadata": {},
   "outputs": [],
   "source": [
    "##An Inferencial Problem: The College-Educated Wage Gap\n",
    "Using the data from the March Supplement of the U.S. Current Population Survey (2015) , in  this lab, we are going to focus in  payments of the college-educated workers and answer the following inference question:\n",
    "\n",
    "What is the difference in predicted wages between workers with some college education (scl)versus college graduate workers(clg)?\n",
    "\n",
    "To investigate the College-Educated Wage Gap, we consider the following log-linear regression model:\n",
    "\n",
    "\\begin{align}\n",
    "\\log(Y) &= \\beta'X + \\epsilon\\\\\n",
    "&= \\beta_1 SCL  + \\beta_2' CLG + \\beta_2'W   \\epsilon,\n",
    "\\end{align}\n",
    "\n",
    "where  SCL is the indicator of workers with some college education( 1  if   0  otherwise), CLG is the indicator of workers with some college educationand the  𝑊 's are controls explaining variation in wages. Considering transformed wages by the logarithm, we are analyzing the relative difference in the payment of men and women.\n"
   ]
  },
  {
   "cell_type": "code",
   "execution_count": null,
   "id": "fa2112d6",
   "metadata": {},
   "outputs": [],
   "source": []
  }
 ],
 "metadata": {
  "kernelspec": {
   "display_name": "R",
   "language": "R",
   "name": "ir"
  },
  "language_info": {
   "codemirror_mode": "r",
   "file_extension": ".r",
   "mimetype": "text/x-r-source",
   "name": "R",
   "pygments_lexer": "r",
   "version": "4.1.3"
  }
 },
 "nbformat": 4,
 "nbformat_minor": 5
}
