{
 "cells": [
  {
   "cell_type": "code",
   "execution_count": 1,
   "metadata": {},
   "outputs": [],
   "source": [
    "import numpy as np"
   ]
  },
  {
   "cell_type": "code",
   "execution_count": 2,
   "metadata": {},
   "outputs": [],
   "source": [
    "test_array = np.random.normal(0, 1, (100, 100))"
   ]
  },
  {
   "cell_type": "code",
   "execution_count": 3,
   "metadata": {},
   "outputs": [
    {
     "data": {
      "text/plain": [
       "array([[ 1.97125579, -0.35586286,  0.30347058, ..., -1.14289317,\n",
       "        -0.06922513,  0.59232829],\n",
       "       [-0.94741658,  0.37265883, -1.35992409, ..., -0.67971185,\n",
       "         0.84406464, -0.56290263],\n",
       "       [-0.87327756,  0.34343189,  1.09389522, ..., -0.69425377,\n",
       "         0.63536894, -0.13778088],\n",
       "       ...,\n",
       "       [ 0.05616669,  0.80119686, -0.44691637, ..., -0.90348308,\n",
       "         0.33237085,  0.46446972],\n",
       "       [-1.18457293, -0.02388146, -0.49035134, ...,  0.06266323,\n",
       "         1.36560805, -0.85215025],\n",
       "       [-0.38413028, -1.26493684, -0.7857009 , ..., -1.07431272,\n",
       "        -1.44224091, -1.11893692]])"
      ]
     },
     "execution_count": 3,
     "metadata": {},
     "output_type": "execute_result"
    }
   ],
   "source": [
    "test_array"
   ]
  },
  {
   "cell_type": "code",
   "execution_count": 4,
   "metadata": {},
   "outputs": [],
   "source": [
    "from sklearn.preprocessing import StandardScaler"
   ]
  },
  {
   "cell_type": "code",
   "execution_count": 5,
   "metadata": {},
   "outputs": [],
   "source": [
    "scaler = StandardScaler()\n",
    "scaler.fit(test_array)\n",
    "scaled_array = scaler.transform(test_array)"
   ]
  },
  {
   "cell_type": "code",
   "execution_count": 6,
   "metadata": {},
   "outputs": [
    {
     "data": {
      "text/plain": [
       "array([[ 2.39023579, -0.38729624,  0.22548606, ..., -0.98540474,\n",
       "        -0.10921928,  0.86215376],\n",
       "       [-0.73405125,  0.44782314, -1.57922769, ..., -0.49209167,\n",
       "         0.7498567 , -0.29184639],\n",
       "       [-0.65468928,  0.4143197 ,  1.08306378, ..., -0.50757959,\n",
       "         0.55354938,  0.13282244],\n",
       "       ...,\n",
       "       [ 0.34023247,  0.93906509, -0.58865245, ..., -0.73042008,\n",
       "         0.26853756,  0.73443141],\n",
       "       [-0.98791479, -0.00673914, -0.63577758, ...,  0.29857781,\n",
       "         1.24044078, -0.58078585],\n",
       "       [-0.13108255, -1.42938642, -0.95621951, ..., -0.91236287,\n",
       "        -1.40073148, -0.84728829]])"
      ]
     },
     "execution_count": 6,
     "metadata": {},
     "output_type": "execute_result"
    }
   ],
   "source": [
    "scaled_array"
   ]
  }
 ],
 "metadata": {
  "kernelspec": {
   "display_name": ".venv",
   "language": "python",
   "name": "python3"
  },
  "language_info": {
   "codemirror_mode": {
    "name": "ipython",
    "version": 3
   },
   "file_extension": ".py",
   "mimetype": "text/x-python",
   "name": "python",
   "nbconvert_exporter": "python",
   "pygments_lexer": "ipython3",
   "version": "3.11.5"
  }
 },
 "nbformat": 4,
 "nbformat_minor": 2
}
