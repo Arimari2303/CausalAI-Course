{
 "cells": [
  {
   "cell_type": "markdown",
   "id": "9295de20",
   "metadata": {},
   "source": [
    "## Assignment 1: R\n",
    "- GARCIA RODRIGUEZ, EMILIO ALONSO\n",
    "- PADILLA AQUISE, ALESSANDRO PIERO\n",
    "- RIEGA NUÑEZ, GABRIEL ANTONIO FERMIN\n",
    "- SALAMANCA FERNANDEZ, LUCAS PABLO\n",
    "- SILVA ANDUJAR, NICOLAS\n"
   ]
  },
  {
   "cell_type": "markdown",
   "id": "01b314f5",
   "metadata": {},
   "source": [
    "## 1. Data analysis"
   ]
  },
  {
   "cell_type": "code",
   "execution_count": null,
   "id": "78b67953",
   "metadata": {},
   "outputs": [],
   "source": [
    "install.packages(\"readr\", dependencies = T)\n",
    "install.packages(\"dplyr\", dependencies = T)\n",
    "install.packages(\"tidyr\", dependencies = T)\n",
    "install.packages(\"psych\", dependencies = T)\n",
    "library(readr)\n",
    "library(dplyr)\n",
    "library(tidyr)\n",
    "library(psych)"
   ]
  },
  {
   "cell_type": "markdown",
   "id": "ca74e4e9",
   "metadata": {},
   "source": [
    "1. Import the dataset"
   ]
  },
  {
   "cell_type": "code",
   "execution_count": null,
   "id": "1a0cbfac",
   "metadata": {},
   "outputs": [],
   "source": [
    "path <- \"C:/Users/Emilio/Desktop/Topicos Computacionales/wage2015_subsample_inference.csv\"\n",
    "dt <- read_csv(path)\n",
    "head(dt)\n",
    "colnames(data)"
   ]
  },
  {
   "cell_type": "markdown",
   "id": "10265939",
   "metadata": {},
   "source": [
    "2. Display the number of missings (if any) of each variable in the data set\n"
   ]
  },
  {
   "cell_type": "code",
   "execution_count": null,
   "id": "aba1b3b2",
   "metadata": {},
   "outputs": [],
   "source": [
    "missings <- colSums(is.na(dt))\n",
    "print(missings)"
   ]
  },
  {
   "cell_type": "markdown",
   "id": "912c276f",
   "metadata": {},
   "source": [
    "3.Report descriptive statistics of the variables (mean, standard deviation, percentiles, etc.). Interpret your results."
   ]
  },
  {
   "cell_type": "code",
   "execution_count": null,
   "id": "d80621fb",
   "metadata": {},
   "outputs": [],
   "source": [
    "numeric_vars <- dplyr::select(dt, wage, lwage, exp1, exp2, exp3, exp4)\n",
    "categorical_vars <- dplyr::select(dt, sex, shs, hsg, scl, clg, ad, mw, so, we, ne, occ2, ind2)"
   ]
  },
  {
   "cell_type": "code",
   "execution_count": null,
   "id": "0ab51b20",
   "metadata": {},
   "outputs": [],
   "source": [
    "head(numeric_vars)\n",
    "head(categorical_vars)"
   ]
  },
  {
   "cell_type": "code",
   "execution_count": null,
   "id": "fff2fedb",
   "metadata": {},
   "outputs": [],
   "source": [
    "descriptive_stats_numeric <- numeric_vars %>%\n",
    "  summarise(\n",
    "    across(\n",
    "      everything(),\n",
    "      list(\n",
    "        mean = ~mean(., na.rm = TRUE),\n",
    "        standardesv = ~sd(., na.rm = TRUE),\n",
    "        median = ~median(., na.rm = TRUE),\n",
    "        q25 = ~quantile(., 0.25, na.rm = TRUE),\n",
    "        q75 = ~quantile(., 0.75, na.rm = TRUE),\n",
    "        min = ~min(., na.rm = TRUE),\n",
    "        max = ~max(., na.rm = TRUE)\n",
    "      ), .names = \"{.col}_{.fn}\"\n",
    "    )) %>%\n",
    "  pivot_longer(everything(), names_to = c(\"variable\", \"estadistica\"), names_sep = \"_\"\n",
    "  )\n",
    "\n",
    "psych::describe(numeric_vars) "
   ]
  },
  {
   "cell_type": "code",
   "execution_count": null,
   "id": "be73192f",
   "metadata": {},
   "outputs": [],
   "source": [
    "categorical_freq_list <- list()"
   ]
  },
  {
   "cell_type": "code",
   "execution_count": null,
   "id": "339e9cae",
   "metadata": {},
   "outputs": [],
   "source": [
    "for (var in names(categorical_vars)) {\n",
    "  freq_table <- categorical_vars %>%\n",
    "    count(!!sym(var)) %>%\n",
    "    rename(category = !!sym(var), frecuencia = n) %>%\n",
    "    mutate(variable = var) \n",
    "  categorical_freq_list[[var]] <- freq_table\n",
    "}"
   ]
  },
  {
   "cell_type": "code",
   "execution_count": null,
   "id": "3f1a0a07",
   "metadata": {},
   "outputs": [],
   "source": [
    "descriptive_stats_categorical <- bind_rows(categorical_freq_list)"
   ]
  },
  {
   "cell_type": "code",
   "execution_count": null,
   "id": "8dff057b",
   "metadata": {},
   "outputs": [],
   "source": [
    "cat(\"Descriptive Statistics for Numerical Variables:\\n\")\n",
    "print(descriptive_stats_numeric)"
   ]
  },
  {
   "cell_type": "code",
   "execution_count": null,
   "id": "04758a55",
   "metadata": {
    "lines_to_next_cell": 2
   },
   "outputs": [],
   "source": [
    "cat(\"\\nFrequencies for Categorical Variables:\\n\")\n",
    "print(descriptive_stats_categorical)"
   ]
  },
  {
   "cell_type": "markdown",
   "id": "c7f4fae9",
   "metadata": {},
   "source": [
    "### Interpretations"
   ]
  },
  {
   "cell_type": "markdown",
   "id": "6eb75eff",
   "metadata": {},
   "source": [
    "#### wage:\n",
    "The average wage in the sample is 23.41, with a standard deviation of 21.03, reflecting significant variability in earnings. Wages range from a minimum of 3.02 to a maximum of 528.85, indicating a broad spectrum of income levels. The bottom 25th percentile earn less than 13.46, while the median wage is 19.23, and the top 25% earn more than 27.78. The fact that the median is 19.23 suggests the presence of a number of extremely high wage values, which likely skews the distribution.\n",
    "\n",
    "#### lwage:\n",
    "The logarithm of wage has a mean of 2.97 and a standard deviation of 0.57, suggesting that the distribution of wages in its logarithmic scale is more symmetric than in its original form. The logarithmic wage values range from a minimum of 1.11 to a maximum of 6.27, with the top 25% of the sample having a log wage greater than 3.32. Also, it has a median of 2.96, that suggest a lower presence of extremely high or low wages in the sample. \n",
    "\n",
    "#### sex:\n",
    "Although sex is a dummy variable, we can see that 44% of the sample are females, while the mode is \"male.\" The standard deviation of 0.5 suggests an almost balanced distribution between males and females.\n",
    "\n",
    "#### shs:\n",
    "The \"some high school\" variable shows that only 2.3% of the sample have some incomplete high school education, which represents a small fraction of the total population. \n",
    "\n",
    "#### hsg:\n",
    "About 24% of the sample has graduated from high school, according to the mean of this variable. The standard deviation of 0.43 reflects moderate diversity in the education levels within the sample, with a significant portion not having attained a college degree. \n",
    "\n",
    "#### scl:\n",
    "Approximately 28% of the respondents have attended some college without necessarily graduating, as indicated by the mean. This suggests that a considerable segment of the population has received some tertiary education, although they may not have completed their studies.\n",
    "\n",
    "#### clg:\n",
    "The data shows that 32% of the sample holds a college degree, as reflected in the mean of this variable. This implies that nearly one-third of the sample has completed a college education, which is significant for evaluating human capital.\n",
    "\n",
    "#### ad:\n",
    "About 14% of the individuals in the sample have an advanced degree (master's or doctorate), according to the mean of this variable. This relatively low percentage highlights that advanced education is less common compared to basic college education.\n",
    "\n",
    "#### mw:\n",
    "The Midwest region represents 26% of the sample, as indicated by the mean of this variable. This suggests that this region has significant representation within the dataset.\n",
    "\n",
    "#### so:\n",
    "The South is the most represented region, with 30% of the sample residing in this area, as shown by the mean of this variable. The higher presence of the South may reflect certain geographical trends in the sample.\n",
    "\n",
    "#### we:\n",
    "The West region accounts for 22% of the sample, according to the mean. This proportion suggests a relatively equitable distribution among the country's regions, although with less representation compared to the South.\n",
    "\n",
    "#### ne:\n",
    "The Northeast region represents 23% of the sample, as indicated by the mean of this variable. This proportion, similar to the other regions, shows a relatively balanced geographical distribution in the dataset.\n",
    "\n",
    "#### exp1:\n",
    "The average work experience is 13.76 years, with a standard deviation of 10.61, indicating high variability in the number of years worked among the individuals in the sample. The median is 10 years, meaning that half of the sample has 10 years or less of work experience, while the maximum is 47 years. Also, the mode of work experience is 5.\n",
    "\n",
    "#### exp2:\n",
    "The first polynomial of work experience has a mean of 3.02 years, with a standard deviation of 4.00. This suggests that, for certain specific aspects of work experience, most of the sample has relatively low experience.\n",
    "\n",
    "#### exp3:\n",
    "The second polynomial of work experience, exp3, has a mean of 8.24 years and a standard deviation of 14.49, indicating a wide variability.\n",
    "\n",
    "#### exp4:\n",
    "The third polynomial of work experience, exp4, shows a significantly higher mean of 25.12 years, with a standard deviation of 53.53, again reflecting a high variability."
   ]
  },
  {
   "cell_type": "markdown",
   "id": "2d182727",
   "metadata": {},
   "source": [
    "4.How many women with a college graduate degree (clg) or above have a wage corresponding to the 25% richest of the sample?"
   ]
  },
  {
   "cell_type": "code",
   "execution_count": null,
   "id": "afa6475e",
   "metadata": {},
   "outputs": [],
   "source": [
    "threshold <- quantile(dt$wage, 0.75, na.rm = TRUE) \n",
    "print(threshold)\n",
    "rich_women_25 <- dt %>%\n",
    "  filter(sex == 1, (clg == 1 | ad == 1), wage > threshold)\n",
    "rich_women_25_count <- nrow(rich_women_25)\n",
    "print(rich_women_25_count)\n",
    "print(rich_women_25)"
   ]
  },
  {
   "cell_type": "markdown",
   "id": "5d9dd764",
   "metadata": {},
   "source": [
    "5. How many men with a high school graduate degree (hsg) or below have a wage corresponding to the 25% richest of the sample? "
   ]
  },
  {
   "cell_type": "code",
   "execution_count": null,
   "id": "7838c9e8",
   "metadata": {},
   "outputs": [],
   "source": [
    "rich_men_25 <- dt %>%\n",
    "  filter(sex == 0, (hsg == 1 | shs == 1), wage > threshold)\n",
    "rich_men_25_count <- nrow(rich_men_25)\n",
    "print(rich_men_25_count)\n",
    "print(rich_men_25)"
   ]
  },
  {
   "cell_type": "markdown",
   "id": "0376ae69",
   "metadata": {},
   "source": [
    "6. Create two dataframes. One containing only the log(wage) and the other containig every variable of the data set but the wage related variables."
   ]
  },
  {
   "cell_type": "code",
   "execution_count": null,
   "id": "238dff18",
   "metadata": {},
   "outputs": [],
   "source": [
    "#Dataframe only with lwage\n",
    "df_log_wage <- data.frame(log_wage = log(dt$wage))\n",
    "print(df_log_wage)\n",
    "#Dataframe with rest of the variables but the wage related variable\n",
    "df_no_wage <- dt %>% select(-wage, -lwage)\n",
    "print(df_no_wage)"
   ]
  },
  {
   "cell_type": "markdown",
   "id": "18fa4fad",
   "metadata": {},
   "source": [
    "## Data wrangling"
   ]
  },
  {
   "cell_type": "markdown",
   "id": "aa236d18",
   "metadata": {},
   "source": [
    "7. Make an array for our Y variable, which will be the logarithm of wage (lwage column)"
   ]
  },
  {
   "cell_type": "code",
   "execution_count": null,
   "id": "cb6adc81",
   "metadata": {},
   "outputs": [],
   "source": [
    "array_Y <- as.array(dt$lwage)\n",
    "str(array_Y)\n",
    "print(array_Y) "
   ]
  },
  {
   "cell_type": "markdown",
   "id": "bcb9961f",
   "metadata": {},
   "source": [
    "8.1 The basic model will have the columns sex hsg scl clg ad so we ne exp1 occ2 ind2"
   ]
  },
  {
   "cell_type": "code",
   "execution_count": null,
   "id": "c677bd36",
   "metadata": {},
   "outputs": [],
   "source": [
    "var_dummys <- model.matrix(~ sex + exp1 + hsg + scl + clg + ad + so + we + ne + occ2 + ind2 - 1, data = dt)\n",
    "var_dummys_df <- as.data.frame(var_dummys)\n",
    "var_dummys_array <- as.matrix(var_dummys_df)"
   ]
  },
  {
   "cell_type": "code",
   "execution_count": null,
   "id": "94f91994",
   "metadata": {},
   "outputs": [],
   "source": [
    "print(\"Array Basic Model\")\n",
    "print(var_dummys_array)"
   ]
  },
  {
   "cell_type": "markdown",
   "id": "2c26c6bf",
   "metadata": {},
   "source": [
    "8.2 The flexible model will have the same columns, and will also include polynomials for experience (exp2 exp3 exp4), as well as the interactions between all experience variables and other variables except for sex"
   ]
  },
  {
   "cell_type": "code",
   "execution_count": null,
   "id": "600762a1",
   "metadata": {},
   "outputs": [],
   "source": [
    "dt$exp2 <- dt$exp1^2\n",
    "dt$exp3 <- dt$exp1^3\n",
    "dt$exp4 <- dt$exp1^4"
   ]
  },
  {
   "cell_type": "code",
   "execution_count": null,
   "id": "08336ea6",
   "metadata": {},
   "outputs": [],
   "source": [
    "dummy_vars <- model.matrix(~ exp1 + exp2 + exp3 + exp4 + hsg + scl + clg + ad + so + we + ne + occ2 + ind2  -1, data = dt)\n",
    "print(colnames(dummy_vars))"
   ]
  },
  {
   "cell_type": "code",
   "execution_count": null,
   "id": "3b18df03",
   "metadata": {},
   "outputs": [],
   "source": [
    "interaction_list <- list()"
   ]
  },
  {
   "cell_type": "code",
   "execution_count": null,
   "id": "171b796e",
   "metadata": {},
   "outputs": [],
   "source": [
    "for (exp_var in c(\"exp1\", \"exp2\", \"exp3\", \"exp4\")) {\n",
    "  for (var in c(\"hsg\", \"scl\", \"clg\", \"ad\", \"so\", \"we\", \"ne\", \"occ2\", \"ind2\")) {\n",
    "    if (var %in% colnames(dummy_vars)) {\n",
    "      interaction_name <- paste(exp_var, var, sep = \"_\")\n",
    "      interaction_list[[interaction_name]] <- dt[[exp_var]] * dummy_vars[, var, drop = FALSE]\n",
    "    } else {\n",
    "      warning(paste(\"Variable\", var, \"Not found in dummy_vars\"))\n",
    "    }\n",
    "  }\n",
    "}"
   ]
  },
  {
   "cell_type": "code",
   "execution_count": null,
   "id": "5d840540",
   "metadata": {},
   "outputs": [],
   "source": [
    "interaction_df <- do.call(cbind, interaction_list)\n",
    "colnames(interaction_df) <- paste(names(interaction_list), \"interaction\", sep = \"_\")"
   ]
  },
  {
   "cell_type": "code",
   "execution_count": null,
   "id": "a07e54e3",
   "metadata": {},
   "outputs": [],
   "source": [
    "flexible_model_df <- cbind(dummy_vars, interaction_df)\n",
    "flexible_model_array <- as.matrix(flexible_model_df)"
   ]
  },
  {
   "cell_type": "code",
   "execution_count": null,
   "id": "4d948773",
   "metadata": {},
   "outputs": [],
   "source": [
    "print(\"Array of the flexible model:\")\n",
    "print(flexible_model_array)"
   ]
  },
  {
   "cell_type": "markdown",
   "id": "622c5b69",
   "metadata": {},
   "source": [
    "8.3 Create the Array for the Extra-Flexible Model"
   ]
  },
  {
   "cell_type": "code",
   "execution_count": null,
   "id": "b047afde",
   "metadata": {},
   "outputs": [],
   "source": [
    "var_extraflex <- dt %>%\n",
    "  select(exp1, exp2, exp3, exp4, hsg, scl, clg, ad, so, we, ne, starts_with(\"occ2_\"), starts_with(\"ind2_\"))"
   ]
  },
  {
   "cell_type": "code",
   "execution_count": null,
   "id": "e22407b2",
   "metadata": {},
   "outputs": [],
   "source": [
    "var_names <- names(var_extraflex)\n",
    "print(var_names)"
   ]
  },
  {
   "cell_type": "code",
   "execution_count": null,
   "id": "3d28e5da",
   "metadata": {},
   "outputs": [],
   "source": [
    "#Make the interactions\n",
    "interaction_combinations <- expand.grid(var_names, var_names, stringsAsFactors = FALSE)\n",
    "interaction_combinations <- interaction_combinations[interaction_combinations$Var1 != interaction_combinations$Var2, ]"
   ]
  },
  {
   "cell_type": "code",
   "execution_count": null,
   "id": "0027e220",
   "metadata": {},
   "outputs": [],
   "source": [
    "for (i in 1:nrow(interaction_combinations)) {\n",
    "  var1 <- interaction_combinations$Var1[i]\n",
    "  var2 <- interaction_combinations$Var2[i]\n",
    "  if (var1 %in% names(var_extraflex) & var2 %in% names(var_extraflex)) {\n",
    "    interaction_name <- paste(var1, var2, \"interaction\", sep = \"_\")\n",
    "    var_extraflex[[interaction_name]] <- var_extraflex[[var1]] * var_extraflex[[var2]]\n",
    "  }\n",
    "}\n",
    "var_extraflex <- var_extraflex %>% distinct()"
   ]
  },
  {
   "cell_type": "code",
   "execution_count": null,
   "id": "b14ce9ee",
   "metadata": {},
   "outputs": [],
   "source": [
    "extraflex_array <- as.matrix(var_extraflex)\n",
    "print(\"Array modelo extra-flexible:\")\n",
    "print(extraflex_array)"
   ]
  },
  {
   "cell_type": "markdown",
   "id": "4c386fbd",
   "metadata": {},
   "source": [
    "9. Normalization"
   ]
  },
  {
   "cell_type": "code",
   "execution_count": null,
   "id": "1fc4343e",
   "metadata": {},
   "outputs": [],
   "source": [
    "dt$lwage_tilde <- (dt$lwage - mean(dt$lwage, na.rm = TRUE)) / sd(dt$lwage, na.rm = TRUE)"
   ]
  },
  {
   "cell_type": "code",
   "execution_count": null,
   "id": "53a3c44f",
   "metadata": {},
   "outputs": [],
   "source": [
    "numeric_vars <- c(\"wage\", \"exp1\", \"exp2\", \"exp3\", \"exp4\", \"lwage_tilde\")\n",
    "for (var in numeric_vars) {\n",
    "  dt[[paste0(var, \"_tilde\")]] <- (dt[[var]] - mean(dt[[var]], na.rm = TRUE)) / sd(dt[[var]], na.rm = TRUE)\n",
    "}"
   ]
  },
  {
   "cell_type": "code",
   "execution_count": null,
   "id": "401a931d",
   "metadata": {},
   "outputs": [],
   "source": [
    "categorical_vars <- c(\"sex\", \"hsg\", \"scl\", \"clg\", \"ad\", \"so\", \"we\", \"ne\")\n",
    "for (var in categorical_vars) {\n",
    "  dt[[paste0(var, \"_tilde\")]] <- (as.numeric(dt[[var]]) - mean(as.numeric(dt[[var]]), na.rm = TRUE)) / sd(as.numeric(dt[[var]]), na.rm = TRUE)\n",
    "}"
   ]
  },
  {
   "cell_type": "markdown",
   "id": "8210a919",
   "metadata": {},
   "source": [
    "## Linear Regression"
   ]
  },
  {
   "cell_type": "markdown",
   "id": "47c61bef",
   "metadata": {},
   "source": [
    "10. Split each of the dataframes created (basic, flexible and extra-flexible models) into a training sample (80% of the data) and a test sample."
   ]
  },
  {
   "cell_type": "code",
   "execution_count": null,
   "id": "3a665e7d",
   "metadata": {},
   "outputs": [],
   "source": [
    "set.seed(123)\n",
    "train_indices <- sample(1:nrow(dt), size = 0.8 * nrow(dt))"
   ]
  },
  {
   "cell_type": "code",
   "execution_count": null,
   "id": "60ee6951",
   "metadata": {},
   "outputs": [],
   "source": [
    "#Basic Model\n",
    "basic_model_data <- dt[, c(\"lwage_tilde\", \"sex_tilde\", \"exp1_tilde\", \"hsg_tilde\", \"scl_tilde\", \"clg_tilde\", \"ad_tilde\", \"so\", \"we\", \"ne\", \"occ2\", \"ind2\")]"
   ]
  },
  {
   "cell_type": "code",
   "execution_count": null,
   "id": "747ba8cd",
   "metadata": {},
   "outputs": [],
   "source": [
    "#Split the data withing the train and the test\n",
    "basic_train <- basic_model_data[train_indices, ]\n",
    "basic_test <- basic_model_data[-train_indices, ]"
   ]
  },
  {
   "cell_type": "code",
   "execution_count": null,
   "id": "ff9dde68",
   "metadata": {},
   "outputs": [],
   "source": [
    "cat(\"Training sample size (basic model):\", nrow(basic_train), \"\\n\")\n",
    "cat(\"Test sample size (basic model):\", nrow(basic_test), \"\\n\")"
   ]
  },
  {
   "cell_type": "code",
   "execution_count": null,
   "id": "e92dcb79",
   "metadata": {},
   "outputs": [],
   "source": [
    "#Flexible model\n",
    "flexible_model_data <- dt[, c(\"lwage_tilde\", \"sex_tilde\", \"exp1_tilde\", \"exp2_tilde\", \"exp3_tilde\", \"exp4_tilde\", \"hsg_tilde\", \"scl_tilde\", \"clg_tilde\", \"ad_tilde\", \"so\", \"we\", \"ne\", \"occ2\", \"ind2\")]"
   ]
  },
  {
   "cell_type": "code",
   "execution_count": null,
   "id": "6bc1c9d6",
   "metadata": {},
   "outputs": [],
   "source": [
    "#Split the data withing the train and the test\n",
    "flexible_train <- flexible_model_data[train_indices, ]\n",
    "flexible_test <- flexible_model_data[-train_indices, ]"
   ]
  },
  {
   "cell_type": "code",
   "execution_count": null,
   "id": "58277070",
   "metadata": {},
   "outputs": [],
   "source": [
    "cat(\"Training sample size (flexible model):\", nrow(flexible_train), \"\\n\")\n",
    "cat(\"Test sample size (flexible model):\", nrow(flexible_test), \"\\n\")"
   ]
  },
  {
   "cell_type": "code",
   "execution_count": null,
   "id": "23bfba97",
   "metadata": {},
   "outputs": [],
   "source": [
    "#Extra-flexible Model\n",
    "extra_flexible_model_data <- dt[, c(\"lwage_tilde\", \"sex_tilde\", \"exp1_tilde\", \"exp2_tilde\", \"exp3_tilde\", \"exp4_tilde\", \"hsg_tilde\", \"scl_tilde\", \"clg_tilde\", \"ad_tilde\", \"so\", \"we\", \"ne\", \"occ2\", \"ind2\")]"
   ]
  },
  {
   "cell_type": "code",
   "execution_count": null,
   "id": "54d524e9",
   "metadata": {},
   "outputs": [],
   "source": [
    "#Split the data withing the train and the test\n",
    "extra_flexible_train <- extra_flexible_model_data[train_indices, ]\n",
    "extra_flexible_test <- extra_flexible_model_data[-train_indices, ]"
   ]
  },
  {
   "cell_type": "code",
   "execution_count": null,
   "id": "68890b5a",
   "metadata": {},
   "outputs": [],
   "source": [
    "cat(\"Training sample size (extra-flexible model):\", nrow(extra_flexible_train), \"\\n\")\n",
    "cat(\"Test sample size (extra-flexible model):\", nrow(extra_flexible_test), \"\\n\")"
   ]
  },
  {
   "cell_type": "markdown",
   "id": "913f420d",
   "metadata": {},
   "source": [
    "11. Estimate all three models"
   ]
  },
  {
   "cell_type": "code",
   "execution_count": null,
   "id": "057c6cbb",
   "metadata": {},
   "outputs": [],
   "source": [
    "# Basi Model\n",
    "basic_model <- lm(lwage_tilde ~ sex_tilde + exp1_tilde + hsg_tilde + scl_tilde + \n",
    "                    clg_tilde + ad_tilde + so + we + ne + occ2 + ind2, \n",
    "                  data = basic_train)"
   ]
  },
  {
   "cell_type": "code",
   "execution_count": null,
   "id": "a3a5ff04",
   "metadata": {},
   "outputs": [],
   "source": [
    "# Flexible Model\n",
    "flexible_model <- lm(lwage_tilde ~ sex_tilde + exp1_tilde + exp2_tilde + exp3_tilde + \n",
    "                       exp4_tilde + hsg_tilde + scl_tilde + clg_tilde + ad_tilde + \n",
    "                       so + we + ne + occ2 + ind2, \n",
    "                     data = flexible_train)"
   ]
  },
  {
   "cell_type": "code",
   "execution_count": null,
   "id": "dec58617",
   "metadata": {},
   "outputs": [],
   "source": [
    "# Extra-flexible Model\n",
    "extra_flexible_model <- lm(lwage_tilde ~ sex_tilde + exp1_tilde + exp2_tilde + exp3_tilde + \n",
    "                             exp4_tilde + hsg_tilde + scl_tilde + clg_tilde + ad_tilde + \n",
    "                             so + we + ne + occ2 + ind2, \n",
    "                           data = extra_flexible_train)"
   ]
  },
  {
   "cell_type": "code",
   "execution_count": null,
   "id": "0473efce",
   "metadata": {},
   "outputs": [],
   "source": [
    "# Summary \n",
    "summary(basic_model)\n",
    "summary(flexible_model)\n",
    "summary(extra_flexible_model)"
   ]
  },
  {
   "cell_type": "markdown",
   "id": "3d68b1cf",
   "metadata": {},
   "source": [
    "12. Report the MSE and the R 2 for both samples of each model, and the adjusted R 2 for the training sample"
   ]
  },
  {
   "cell_type": "code",
   "execution_count": null,
   "id": "cf2eba92",
   "metadata": {},
   "outputs": [],
   "source": [
    "calculate_metrics <- function(model, data, sample_name) {\n",
    "  predictions <- predict(model, newdata = data)\n",
    "  actuals <- data$lwage_tilde\n",
    "  \n",
    "  mse <- mean((predictions - actuals)^2)\n",
    "  r_squared <- 1 - (sum((predictions - actuals)^2) / sum((actuals - mean(actuals))^2))\n",
    "  adjusted_r_squared <- 1 - (1 - r_squared) * (nrow(data) - 1) / (nrow(data) - length(coef(model) - 1))\n",
    "  \n",
    "  return(c(MSE = mse, R_squared = r_squared, Adjusted_R_squared = adjusted_r_squared, Sample = sample_name))\n",
    "}"
   ]
  },
  {
   "cell_type": "code",
   "execution_count": null,
   "id": "e893b21f",
   "metadata": {},
   "outputs": [],
   "source": [
    "# Basic Model\n",
    "basic_metrics_train <- calculate_metrics(basic_model, basic_train, \"Basic - Train\")\n",
    "basic_metrics_test <- calculate_metrics(basic_model, basic_test, \"Basic - Test\")"
   ]
  },
  {
   "cell_type": "code",
   "execution_count": null,
   "id": "27aadd3f",
   "metadata": {},
   "outputs": [],
   "source": [
    "# Flexible Model\n",
    "flexible_metrics_train <- calculate_metrics(flexible_model, flexible_train, \"Flexible - Train\")\n",
    "flexible_metrics_test <- calculate_metrics(flexible_model, flexible_test, \"Flexible - Test\")"
   ]
  },
  {
   "cell_type": "code",
   "execution_count": null,
   "id": "e91965b4",
   "metadata": {},
   "outputs": [],
   "source": [
    "# Extra-flexible Model\n",
    "extra_flexible_metrics_train <- calculate_metrics(extra_flexible_model, extra_flexible_train, \"Extra-flexible - Train\")\n",
    "extra_flexible_metrics_test <- calculate_metrics(extra_flexible_model, extra_flexible_test, \"Extra-flexible - Test\")"
   ]
  },
  {
   "cell_type": "code",
   "execution_count": null,
   "id": "69f41d42",
   "metadata": {},
   "outputs": [],
   "source": [
    "#Combine the results\n",
    "results <- rbind(basic_metrics_train, basic_metrics_test,\n",
    "                 flexible_metrics_train, flexible_metrics_test,\n",
    "                 extra_flexible_metrics_train, extra_flexible_metrics_test)"
   ]
  },
  {
   "cell_type": "code",
   "execution_count": null,
   "id": "4a9d9fe7",
   "metadata": {},
   "outputs": [],
   "source": [
    "#Convert to a dataframe for better visualization\n",
    "results_df <- as.data.frame(results)\n",
    "print(results_df)"
   ]
  },
  {
   "cell_type": "markdown",
   "id": "2a6bb550",
   "metadata": {},
   "source": [
    "These results indicate that the extra-flexible model suffers from overfitting. This is evident when comparing its R-squared and adjusted R-squared values, which drop significantly from 0.35 to -0.23. This drastic reduction suggests that adding more regressors does not enhance the model's fit, a common sign of overfitting. In contrast, the basic model demonstrates the best out-of-sample performance, as it has the lowest out-of-sample MSE (0.69) and the highest out-of-sample R-squared (0.31) among the models."
   ]
  }
 ],
 "metadata": {
  "jupytext": {
   "cell_metadata_filter": "-all",
   "main_language": "R",
   "notebook_metadata_filter": "-all"
  },
  "kernelspec": {
   "display_name": "Python 3",
   "language": "python",
   "name": "python3"
  },
  "language_info": {
   "name": "python",
   "version": "3.12.5"
  }
 },
 "nbformat": 4,
 "nbformat_minor": 5
}
