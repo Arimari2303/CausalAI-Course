{
 "cells": [
  {
   "cell_type": "code",
   "execution_count": 1,
   "metadata": {},
   "outputs": [],
   "source": [
    "import numpy as np"
   ]
  },
  {
   "cell_type": "code",
   "execution_count": 2,
   "metadata": {},
   "outputs": [],
   "source": [
    "test_array = np.random.normal(0, 1, (100, 100))"
   ]
  },
  {
   "cell_type": "code",
   "execution_count": 3,
   "metadata": {},
   "outputs": [
    {
     "data": {
      "text/plain": [
       "array([[ 0.40754783, -1.06206175, -0.08311643, ..., -0.26401096,\n",
       "         0.22248884,  2.02505736],\n",
       "       [ 0.9739751 ,  0.00382459, -0.65861846, ..., -0.61124611,\n",
       "         0.56414933,  0.47101658],\n",
       "       [ 0.26429119,  1.28835953, -0.72972859, ..., -0.10543518,\n",
       "        -0.40722092,  0.78330515],\n",
       "       ...,\n",
       "       [-0.02519901,  0.93317355, -0.23445788, ...,  0.57489191,\n",
       "         1.5136323 , -1.17615128],\n",
       "       [ 0.18083285,  0.03559222, -0.98329111, ...,  1.44474569,\n",
       "        -1.32165221, -0.15186147],\n",
       "       [ 0.78935023, -0.14785749,  0.77287099, ..., -1.01954038,\n",
       "        -0.08609389, -0.09693771]])"
      ]
     },
     "execution_count": 3,
     "metadata": {},
     "output_type": "execute_result"
    }
   ],
   "source": [
    "test_array"
   ]
  }
 ],
 "metadata": {
  "kernelspec": {
   "display_name": ".venv",
   "language": "python",
   "name": "python3"
  },
  "language_info": {
   "codemirror_mode": {
    "name": "ipython",
    "version": 3
   },
   "file_extension": ".py",
   "mimetype": "text/x-python",
   "name": "python",
   "nbconvert_exporter": "python",
   "pygments_lexer": "ipython3",
   "version": "3.11.5"
  }
 },
 "nbformat": 4,
 "nbformat_minor": 2
}
