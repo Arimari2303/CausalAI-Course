{
 "cells": [
  {
   "cell_type": "code",
   "execution_count": 1,
   "metadata": {},
   "outputs": [],
   "source": [
    "import numpy as np"
   ]
  },
  {
   "cell_type": "code",
   "execution_count": 2,
   "metadata": {},
   "outputs": [],
   "source": [
    "test_array = np.random.normal(0, 1, (100, 100))"
   ]
  },
  {
   "cell_type": "code",
   "execution_count": 3,
   "metadata": {},
   "outputs": [
    {
     "data": {
      "text/plain": [
       "array([[-1.07810667, -1.60510669,  0.46544037, ...,  0.45340878,\n",
       "        -0.11312503,  1.49081111],\n",
       "       [-2.30079455, -0.84387512, -0.34078047, ..., -0.1158523 ,\n",
       "        -1.45582664,  1.4219667 ],\n",
       "       [ 0.71083888, -0.253676  , -0.09831637, ...,  0.42366329,\n",
       "        -1.3924657 ,  1.03029373],\n",
       "       ...,\n",
       "       [-0.04816683, -0.53423322, -0.21267821, ..., -0.87991353,\n",
       "         0.17043262,  1.04472874],\n",
       "       [ 0.23244791, -0.49242744,  0.76104658, ...,  0.98668743,\n",
       "        -1.63579824,  0.55060354],\n",
       "       [ 0.00333189, -0.75852151, -0.16730699, ...,  0.42236233,\n",
       "        -1.25845538,  1.68114004]])"
      ]
     },
     "execution_count": 3,
     "metadata": {},
     "output_type": "execute_result"
    }
   ],
   "source": [
    "test_array"
   ]
  }
 ],
 "metadata": {
  "kernelspec": {
   "display_name": ".venv",
   "language": "python",
   "name": "python3"
  },
  "language_info": {
   "codemirror_mode": {
    "name": "ipython",
    "version": 3
   },
   "file_extension": ".py",
   "mimetype": "text/x-python",
   "name": "python",
   "nbconvert_exporter": "python",
   "pygments_lexer": "ipython3",
   "version": "3.11.5"
  }
 },
 "nbformat": 4,
 "nbformat_minor": 2
}
