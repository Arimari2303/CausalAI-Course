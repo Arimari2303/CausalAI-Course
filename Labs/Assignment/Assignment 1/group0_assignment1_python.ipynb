{
 "cells": [
  {
   "cell_type": "code",
   "execution_count": 1,
   "metadata": {},
   "outputs": [],
   "source": [
    "import numpy as np"
   ]
  },
  {
   "cell_type": "code",
   "execution_count": 2,
   "metadata": {},
   "outputs": [],
   "source": [
    "test_array = np.random.normal(0, 1, (100, 100))"
   ]
  },
  {
   "cell_type": "code",
   "execution_count": 3,
   "metadata": {},
   "outputs": [
    {
     "data": {
      "text/plain": [
       "array([[-1.07810667, -1.60510669,  0.46544037, ...,  0.45340878,\n",
       "        -0.11312503,  1.49081111],\n",
       "       [-2.30079455, -0.84387512, -0.34078047, ..., -0.1158523 ,\n",
       "        -1.45582664,  1.4219667 ],\n",
       "       [ 0.71083888, -0.253676  , -0.09831637, ...,  0.42366329,\n",
       "        -1.3924657 ,  1.03029373],\n",
       "       ...,\n",
       "       [-0.04816683, -0.53423322, -0.21267821, ..., -0.87991353,\n",
       "         0.17043262,  1.04472874],\n",
       "       [ 0.23244791, -0.49242744,  0.76104658, ...,  0.98668743,\n",
       "        -1.63579824,  0.55060354],\n",
       "       [ 0.00333189, -0.75852151, -0.16730699, ...,  0.42236233,\n",
       "        -1.25845538,  1.68114004]])"
      ]
     },
     "execution_count": 3,
     "metadata": {},
     "output_type": "execute_result"
    }
   ],
   "source": [
    "test_array"
   ]
  },
  {
   "cell_type": "code",
   "execution_count": 4,
   "metadata": {},
   "outputs": [],
   "source": [
    "from sklearn.preprocessing import StandardScaler"
   ]
  },
  {
   "cell_type": "code",
   "execution_count": 5,
   "metadata": {},
   "outputs": [],
   "source": [
    "scaler = StandardScaler()\n",
    "scaler.fit(test_array)\n",
    "scaled_array = scaler.transform(test_array)"
   ]
  },
  {
   "cell_type": "code",
   "execution_count": 6,
   "metadata": {},
   "outputs": [
    {
     "data": {
      "text/plain": [
       "array([[-1.07051982e+00, -1.74113743e+00,  2.11958502e-01, ...,\n",
       "         5.87529208e-01,  6.37802649e-02,  1.30921793e+00],\n",
       "       [-2.38777089e+00, -9.26783980e-01, -5.64278017e-01, ...,\n",
       "        -2.63293495e-04, -1.29044938e+00,  1.24596371e+00],\n",
       "       [ 8.56783525e-01, -2.95398344e-01, -3.30831451e-01, ...,\n",
       "         5.56815400e-01, -1.22654445e+00,  8.86094694e-01],\n",
       "       ...,\n",
       "       [ 3.90759930e-02, -5.95533993e-01, -4.40940034e-01, ...,\n",
       "        -7.89197378e-01,  3.49772454e-01,  8.99357582e-01],\n",
       "       [ 3.41393598e-01, -5.50810841e-01,  4.96570767e-01, ...,\n",
       "         1.13816794e+00, -1.47196617e+00,  4.45355483e-01],\n",
       "       [ 9.45576445e-02, -8.35474045e-01, -3.97256222e-01, ...,\n",
       "         5.55472093e-01, -1.09138355e+00,  1.48409210e+00]])"
      ]
     },
     "execution_count": 6,
     "metadata": {},
     "output_type": "execute_result"
    }
   ],
   "source": [
    "scaled_array"
   ]
  },
  {
   "cell_type": "code",
   "execution_count": null,
   "metadata": {},
   "outputs": [],
   "source": []
  }
 ],
 "metadata": {
  "kernelspec": {
   "display_name": ".venv",
   "language": "python",
   "name": "python3"
  },
  "language_info": {
   "codemirror_mode": {
    "name": "ipython",
    "version": 3
   },
   "file_extension": ".py",
   "mimetype": "text/x-python",
   "name": "python",
   "nbconvert_exporter": "python",
   "pygments_lexer": "ipython3",
   "version": "3.11.5"
  }
 },
 "nbformat": 4,
 "nbformat_minor": 2
}
