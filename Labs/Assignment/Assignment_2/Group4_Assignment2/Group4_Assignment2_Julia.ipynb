{
 "cells": [
  {
   "cell_type": "code",
   "execution_count": 2,
   "metadata": {},
   "outputs": [
    {
     "name": "stderr",
     "output_type": "stream",
     "text": [
      "\u001b[32m\u001b[1m    Updating\u001b[22m\u001b[39m registry at `C:\\Users\\Lenovo\\.julia\\registries\\General.toml`\n",
      "\u001b[32m\u001b[1m   Resolving\u001b[22m\u001b[39m package versions...\n",
      "\u001b[32m\u001b[1m  No Changes\u001b[22m\u001b[39m to `C:\\Users\\Lenovo\\.julia\\environments\\v1.10\\Project.toml`\n",
      "\u001b[32m\u001b[1m  No Changes\u001b[22m\u001b[39m to `C:\\Users\\Lenovo\\.julia\\environments\\v1.10\\Manifest.toml`\n",
      "\u001b[32m\u001b[1m   Resolving\u001b[22m\u001b[39m package versions...\n",
      "\u001b[32m\u001b[1m  No Changes\u001b[22m\u001b[39m to `C:\\Users\\Lenovo\\.julia\\environments\\v1.10\\Project.toml`\n",
      "\u001b[32m\u001b[1m  No Changes\u001b[22m\u001b[39m to `C:\\Users\\Lenovo\\.julia\\environments\\v1.10\\Manifest.toml`\n",
      "\u001b[32m\u001b[1m   Resolving\u001b[22m\u001b[39m package versions...\n",
      "\u001b[32m\u001b[1m  No Changes\u001b[22m\u001b[39m to `C:\\Users\\Lenovo\\.julia\\environments\\v1.10\\Project.toml`\n",
      "\u001b[32m\u001b[1m  No Changes\u001b[22m\u001b[39m to `C:\\Users\\Lenovo\\.julia\\environments\\v1.10\\Manifest.toml`\n",
      "\u001b[32m\u001b[1m   Resolving\u001b[22m\u001b[39m package versions...\n",
      "\u001b[32m\u001b[1m    Updating\u001b[22m\u001b[39m `C:\\Users\\Lenovo\\.julia\\environments\\v1.10\\Project.toml`\n",
      "  \u001b[90m[3eaba693] \u001b[39m\u001b[92m+ StatsModels v0.7.4\u001b[39m\n",
      "\u001b[32m\u001b[1m  No Changes\u001b[22m\u001b[39m to `C:\\Users\\Lenovo\\.julia\\environments\\v1.10\\Manifest.toml`\n",
      "\u001b[32m\u001b[1m   Resolving\u001b[22m\u001b[39m package versions...\n",
      "\u001b[32m\u001b[1m  No Changes\u001b[22m\u001b[39m to `C:\\Users\\Lenovo\\.julia\\environments\\v1.10\\Project.toml`\n",
      "\u001b[32m\u001b[1m  No Changes\u001b[22m\u001b[39m to `C:\\Users\\Lenovo\\.julia\\environments\\v1.10\\Manifest.toml`\n",
      "\u001b[32m\u001b[1m   Resolving\u001b[22m\u001b[39m package versions...\n",
      "\u001b[32m\u001b[1m  No Changes\u001b[22m\u001b[39m to `C:\\Users\\Lenovo\\.julia\\environments\\v1.10\\Project.toml`\n",
      "\u001b[32m\u001b[1m  No Changes\u001b[22m\u001b[39m to `C:\\Users\\Lenovo\\.julia\\environments\\v1.10\\Manifest.toml`\n"
     ]
    }
   ],
   "source": [
    "using Pkg\n",
    "Pkg.add(\"CSV\")\n",
    "Pkg.add(\"DataFrames\")\n",
    "Pkg.add(\"StatsBase\")\n",
    "Pkg.add(\"StatsModels\")\n",
    "Pkg.add(\"Statistics\")\n",
    "Pkg.add(\"GLM\")\n",
    "\n"
   ]
  },
  {
   "cell_type": "code",
   "execution_count": 3,
   "metadata": {},
   "outputs": [],
   "source": [
    "using DataFrames\n",
    "using Statistics\n",
    "using StatsBase\n",
    "using CSV\n",
    "using StatsModels\n",
    "using GLM"
   ]
  },
  {
   "cell_type": "markdown",
   "metadata": {},
   "source": [
    "# 1. Loading and processing the data"
   ]
  },
  {
   "cell_type": "code",
   "execution_count": 8,
   "metadata": {},
   "outputs": [
    {
     "data": {
      "text/html": [
       "<div><div style = \"float: left;\"><span>5150×20 DataFrame</span></div><div style = \"float: right;\"><span style = \"font-style: italic;\">5125 rows omitted</span></div><div style = \"clear: both;\"></div></div><div class = \"data-frame\" style = \"overflow-x: scroll;\"><table class = \"data-frame\" style = \"margin-bottom: 6px;\"><thead><tr class = \"header\"><th class = \"rowNumber\" style = \"font-weight: bold; text-align: right;\">Row</th><th style = \"text-align: left;\">wage</th><th style = \"text-align: left;\">lwage</th><th style = \"text-align: left;\">sex</th><th style = \"text-align: left;\">shs</th><th style = \"text-align: left;\">hsg</th><th style = \"text-align: left;\">scl</th><th style = \"text-align: left;\">clg</th><th style = \"text-align: left;\">ad</th><th style = \"text-align: left;\">mw</th><th style = \"text-align: left;\">so</th><th style = \"text-align: left;\">we</th><th style = \"text-align: left;\">ne</th><th style = \"text-align: left;\">exp1</th><th style = \"text-align: left;\">exp2</th><th style = \"text-align: left;\">exp3</th><th style = \"text-align: left;\">exp4</th><th style = \"text-align: left;\">occ</th><th style = \"text-align: left;\">occ2</th><th style = \"text-align: left;\">ind</th><th style = \"text-align: left;\">ind2</th></tr><tr class = \"subheader headerLastRow\"><th class = \"rowNumber\" style = \"font-weight: bold; text-align: right;\"></th><th title = \"Float64\" style = \"text-align: left;\">Float64</th><th title = \"Float64\" style = \"text-align: left;\">Float64</th><th title = \"Float64\" style = \"text-align: left;\">Float64</th><th title = \"Float64\" style = \"text-align: left;\">Float64</th><th title = \"Float64\" style = \"text-align: left;\">Float64</th><th title = \"Float64\" style = \"text-align: left;\">Float64</th><th title = \"Float64\" style = \"text-align: left;\">Float64</th><th title = \"Float64\" style = \"text-align: left;\">Float64</th><th title = \"Float64\" style = \"text-align: left;\">Float64</th><th title = \"Float64\" style = \"text-align: left;\">Float64</th><th title = \"Float64\" style = \"text-align: left;\">Float64</th><th title = \"Float64\" style = \"text-align: left;\">Float64</th><th title = \"Float64\" style = \"text-align: left;\">Float64</th><th title = \"Float64\" style = \"text-align: left;\">Float64</th><th title = \"Float64\" style = \"text-align: left;\">Float64</th><th title = \"Float64\" style = \"text-align: left;\">Float64</th><th title = \"Float64\" style = \"text-align: left;\">Float64</th><th title = \"Int64\" style = \"text-align: left;\">Int64</th><th title = \"Float64\" style = \"text-align: left;\">Float64</th><th title = \"Int64\" style = \"text-align: left;\">Int64</th></tr></thead><tbody><tr><td class = \"rowNumber\" style = \"font-weight: bold; text-align: right;\">1</td><td style = \"text-align: right;\">9.61538</td><td style = \"text-align: right;\">2.26336</td><td style = \"text-align: right;\">1.0</td><td style = \"text-align: right;\">0.0</td><td style = \"text-align: right;\">0.0</td><td style = \"text-align: right;\">0.0</td><td style = \"text-align: right;\">1.0</td><td style = \"text-align: right;\">0.0</td><td style = \"text-align: right;\">0.0</td><td style = \"text-align: right;\">0.0</td><td style = \"text-align: right;\">0.0</td><td style = \"text-align: right;\">1.0</td><td style = \"text-align: right;\">7.0</td><td style = \"text-align: right;\">0.49</td><td style = \"text-align: right;\">0.343</td><td style = \"text-align: right;\">0.2401</td><td style = \"text-align: right;\">3600.0</td><td style = \"text-align: right;\">11</td><td style = \"text-align: right;\">8370.0</td><td style = \"text-align: right;\">18</td></tr><tr><td class = \"rowNumber\" style = \"font-weight: bold; text-align: right;\">2</td><td style = \"text-align: right;\">48.0769</td><td style = \"text-align: right;\">3.8728</td><td style = \"text-align: right;\">0.0</td><td style = \"text-align: right;\">0.0</td><td style = \"text-align: right;\">0.0</td><td style = \"text-align: right;\">0.0</td><td style = \"text-align: right;\">1.0</td><td style = \"text-align: right;\">0.0</td><td style = \"text-align: right;\">0.0</td><td style = \"text-align: right;\">0.0</td><td style = \"text-align: right;\">0.0</td><td style = \"text-align: right;\">1.0</td><td style = \"text-align: right;\">31.0</td><td style = \"text-align: right;\">9.61</td><td style = \"text-align: right;\">29.791</td><td style = \"text-align: right;\">92.3521</td><td style = \"text-align: right;\">3050.0</td><td style = \"text-align: right;\">10</td><td style = \"text-align: right;\">5070.0</td><td style = \"text-align: right;\">9</td></tr><tr><td class = \"rowNumber\" style = \"font-weight: bold; text-align: right;\">3</td><td style = \"text-align: right;\">11.0577</td><td style = \"text-align: right;\">2.40313</td><td style = \"text-align: right;\">0.0</td><td style = \"text-align: right;\">0.0</td><td style = \"text-align: right;\">1.0</td><td style = \"text-align: right;\">0.0</td><td style = \"text-align: right;\">0.0</td><td style = \"text-align: right;\">0.0</td><td style = \"text-align: right;\">0.0</td><td style = \"text-align: right;\">0.0</td><td style = \"text-align: right;\">0.0</td><td style = \"text-align: right;\">1.0</td><td style = \"text-align: right;\">18.0</td><td style = \"text-align: right;\">3.24</td><td style = \"text-align: right;\">5.832</td><td style = \"text-align: right;\">10.4976</td><td style = \"text-align: right;\">6260.0</td><td style = \"text-align: right;\">19</td><td style = \"text-align: right;\">770.0</td><td style = \"text-align: right;\">4</td></tr><tr><td class = \"rowNumber\" style = \"font-weight: bold; text-align: right;\">4</td><td style = \"text-align: right;\">13.9423</td><td style = \"text-align: right;\">2.63493</td><td style = \"text-align: right;\">1.0</td><td style = \"text-align: right;\">0.0</td><td style = \"text-align: right;\">0.0</td><td style = \"text-align: right;\">0.0</td><td style = \"text-align: right;\">0.0</td><td style = \"text-align: right;\">1.0</td><td style = \"text-align: right;\">0.0</td><td style = \"text-align: right;\">0.0</td><td style = \"text-align: right;\">0.0</td><td style = \"text-align: right;\">1.0</td><td style = \"text-align: right;\">25.0</td><td style = \"text-align: right;\">6.25</td><td style = \"text-align: right;\">15.625</td><td style = \"text-align: right;\">39.0625</td><td style = \"text-align: right;\">420.0</td><td style = \"text-align: right;\">1</td><td style = \"text-align: right;\">6990.0</td><td style = \"text-align: right;\">12</td></tr><tr><td class = \"rowNumber\" style = \"font-weight: bold; text-align: right;\">5</td><td style = \"text-align: right;\">28.8462</td><td style = \"text-align: right;\">3.36198</td><td style = \"text-align: right;\">1.0</td><td style = \"text-align: right;\">0.0</td><td style = \"text-align: right;\">0.0</td><td style = \"text-align: right;\">0.0</td><td style = \"text-align: right;\">1.0</td><td style = \"text-align: right;\">0.0</td><td style = \"text-align: right;\">0.0</td><td style = \"text-align: right;\">0.0</td><td style = \"text-align: right;\">0.0</td><td style = \"text-align: right;\">1.0</td><td style = \"text-align: right;\">22.0</td><td style = \"text-align: right;\">4.84</td><td style = \"text-align: right;\">10.648</td><td style = \"text-align: right;\">23.4256</td><td style = \"text-align: right;\">2015.0</td><td style = \"text-align: right;\">6</td><td style = \"text-align: right;\">9470.0</td><td style = \"text-align: right;\">22</td></tr><tr><td class = \"rowNumber\" style = \"font-weight: bold; text-align: right;\">6</td><td style = \"text-align: right;\">11.7308</td><td style = \"text-align: right;\">2.46222</td><td style = \"text-align: right;\">1.0</td><td style = \"text-align: right;\">0.0</td><td style = \"text-align: right;\">0.0</td><td style = \"text-align: right;\">0.0</td><td style = \"text-align: right;\">1.0</td><td style = \"text-align: right;\">0.0</td><td style = \"text-align: right;\">0.0</td><td style = \"text-align: right;\">0.0</td><td style = \"text-align: right;\">0.0</td><td style = \"text-align: right;\">1.0</td><td style = \"text-align: right;\">1.0</td><td style = \"text-align: right;\">0.01</td><td style = \"text-align: right;\">0.001</td><td style = \"text-align: right;\">0.0001</td><td style = \"text-align: right;\">1650.0</td><td style = \"text-align: right;\">5</td><td style = \"text-align: right;\">7460.0</td><td style = \"text-align: right;\">14</td></tr><tr><td class = \"rowNumber\" style = \"font-weight: bold; text-align: right;\">7</td><td style = \"text-align: right;\">19.2308</td><td style = \"text-align: right;\">2.95651</td><td style = \"text-align: right;\">1.0</td><td style = \"text-align: right;\">0.0</td><td style = \"text-align: right;\">1.0</td><td style = \"text-align: right;\">0.0</td><td style = \"text-align: right;\">0.0</td><td style = \"text-align: right;\">0.0</td><td style = \"text-align: right;\">0.0</td><td style = \"text-align: right;\">0.0</td><td style = \"text-align: right;\">0.0</td><td style = \"text-align: right;\">1.0</td><td style = \"text-align: right;\">42.0</td><td style = \"text-align: right;\">17.64</td><td style = \"text-align: right;\">74.088</td><td style = \"text-align: right;\">311.17</td><td style = \"text-align: right;\">5120.0</td><td style = \"text-align: right;\">17</td><td style = \"text-align: right;\">7280.0</td><td style = \"text-align: right;\">14</td></tr><tr><td class = \"rowNumber\" style = \"font-weight: bold; text-align: right;\">8</td><td style = \"text-align: right;\">19.2308</td><td style = \"text-align: right;\">2.95651</td><td style = \"text-align: right;\">0.0</td><td style = \"text-align: right;\">0.0</td><td style = \"text-align: right;\">1.0</td><td style = \"text-align: right;\">0.0</td><td style = \"text-align: right;\">0.0</td><td style = \"text-align: right;\">0.0</td><td style = \"text-align: right;\">0.0</td><td style = \"text-align: right;\">0.0</td><td style = \"text-align: right;\">0.0</td><td style = \"text-align: right;\">1.0</td><td style = \"text-align: right;\">37.0</td><td style = \"text-align: right;\">13.69</td><td style = \"text-align: right;\">50.653</td><td style = \"text-align: right;\">187.416</td><td style = \"text-align: right;\">5240.0</td><td style = \"text-align: right;\">17</td><td style = \"text-align: right;\">5680.0</td><td style = \"text-align: right;\">9</td></tr><tr><td class = \"rowNumber\" style = \"font-weight: bold; text-align: right;\">9</td><td style = \"text-align: right;\">12.0</td><td style = \"text-align: right;\">2.48491</td><td style = \"text-align: right;\">1.0</td><td style = \"text-align: right;\">0.0</td><td style = \"text-align: right;\">1.0</td><td style = \"text-align: right;\">0.0</td><td style = \"text-align: right;\">0.0</td><td style = \"text-align: right;\">0.0</td><td style = \"text-align: right;\">0.0</td><td style = \"text-align: right;\">0.0</td><td style = \"text-align: right;\">0.0</td><td style = \"text-align: right;\">1.0</td><td style = \"text-align: right;\">31.0</td><td style = \"text-align: right;\">9.61</td><td style = \"text-align: right;\">29.791</td><td style = \"text-align: right;\">92.3521</td><td style = \"text-align: right;\">4040.0</td><td style = \"text-align: right;\">13</td><td style = \"text-align: right;\">8590.0</td><td style = \"text-align: right;\">19</td></tr><tr><td class = \"rowNumber\" style = \"font-weight: bold; text-align: right;\">10</td><td style = \"text-align: right;\">19.2308</td><td style = \"text-align: right;\">2.95651</td><td style = \"text-align: right;\">1.0</td><td style = \"text-align: right;\">0.0</td><td style = \"text-align: right;\">0.0</td><td style = \"text-align: right;\">0.0</td><td style = \"text-align: right;\">1.0</td><td style = \"text-align: right;\">0.0</td><td style = \"text-align: right;\">0.0</td><td style = \"text-align: right;\">0.0</td><td style = \"text-align: right;\">0.0</td><td style = \"text-align: right;\">1.0</td><td style = \"text-align: right;\">4.0</td><td style = \"text-align: right;\">0.16</td><td style = \"text-align: right;\">0.064</td><td style = \"text-align: right;\">0.0256</td><td style = \"text-align: right;\">3255.0</td><td style = \"text-align: right;\">10</td><td style = \"text-align: right;\">8190.0</td><td style = \"text-align: right;\">18</td></tr><tr><td class = \"rowNumber\" style = \"font-weight: bold; text-align: right;\">11</td><td style = \"text-align: right;\">17.3077</td><td style = \"text-align: right;\">2.85115</td><td style = \"text-align: right;\">1.0</td><td style = \"text-align: right;\">0.0</td><td style = \"text-align: right;\">1.0</td><td style = \"text-align: right;\">0.0</td><td style = \"text-align: right;\">0.0</td><td style = \"text-align: right;\">0.0</td><td style = \"text-align: right;\">0.0</td><td style = \"text-align: right;\">0.0</td><td style = \"text-align: right;\">0.0</td><td style = \"text-align: right;\">1.0</td><td style = \"text-align: right;\">7.0</td><td style = \"text-align: right;\">0.49</td><td style = \"text-align: right;\">0.343</td><td style = \"text-align: right;\">0.2401</td><td style = \"text-align: right;\">4020.0</td><td style = \"text-align: right;\">13</td><td style = \"text-align: right;\">8270.0</td><td style = \"text-align: right;\">18</td></tr><tr><td class = \"rowNumber\" style = \"font-weight: bold; text-align: right;\">12</td><td style = \"text-align: right;\">12.0192</td><td style = \"text-align: right;\">2.48651</td><td style = \"text-align: right;\">0.0</td><td style = \"text-align: right;\">0.0</td><td style = \"text-align: right;\">1.0</td><td style = \"text-align: right;\">0.0</td><td style = \"text-align: right;\">0.0</td><td style = \"text-align: right;\">0.0</td><td style = \"text-align: right;\">0.0</td><td style = \"text-align: right;\">0.0</td><td style = \"text-align: right;\">0.0</td><td style = \"text-align: right;\">1.0</td><td style = \"text-align: right;\">30.0</td><td style = \"text-align: right;\">9.0</td><td style = \"text-align: right;\">27.0</td><td style = \"text-align: right;\">81.0</td><td style = \"text-align: right;\">4220.0</td><td style = \"text-align: right;\">14</td><td style = \"text-align: right;\">8270.0</td><td style = \"text-align: right;\">18</td></tr><tr><td class = \"rowNumber\" style = \"font-weight: bold; text-align: right;\">13</td><td style = \"text-align: right;\">12.0192</td><td style = \"text-align: right;\">2.48651</td><td style = \"text-align: right;\">1.0</td><td style = \"text-align: right;\">0.0</td><td style = \"text-align: right;\">0.0</td><td style = \"text-align: right;\">1.0</td><td style = \"text-align: right;\">0.0</td><td style = \"text-align: right;\">0.0</td><td style = \"text-align: right;\">0.0</td><td style = \"text-align: right;\">0.0</td><td style = \"text-align: right;\">0.0</td><td style = \"text-align: right;\">1.0</td><td style = \"text-align: right;\">5.5</td><td style = \"text-align: right;\">0.3025</td><td style = \"text-align: right;\">0.166375</td><td style = \"text-align: right;\">0.0915062</td><td style = \"text-align: right;\">3600.0</td><td style = \"text-align: right;\">11</td><td style = \"text-align: right;\">8270.0</td><td style = \"text-align: right;\">18</td></tr><tr><td style = \"text-align: right;\">&vellip;</td><td style = \"text-align: right;\">&vellip;</td><td style = \"text-align: right;\">&vellip;</td><td style = \"text-align: right;\">&vellip;</td><td style = \"text-align: right;\">&vellip;</td><td style = \"text-align: right;\">&vellip;</td><td style = \"text-align: right;\">&vellip;</td><td style = \"text-align: right;\">&vellip;</td><td style = \"text-align: right;\">&vellip;</td><td style = \"text-align: right;\">&vellip;</td><td style = \"text-align: right;\">&vellip;</td><td style = \"text-align: right;\">&vellip;</td><td style = \"text-align: right;\">&vellip;</td><td style = \"text-align: right;\">&vellip;</td><td style = \"text-align: right;\">&vellip;</td><td style = \"text-align: right;\">&vellip;</td><td style = \"text-align: right;\">&vellip;</td><td style = \"text-align: right;\">&vellip;</td><td style = \"text-align: right;\">&vellip;</td><td style = \"text-align: right;\">&vellip;</td><td style = \"text-align: right;\">&vellip;</td></tr><tr><td class = \"rowNumber\" style = \"font-weight: bold; text-align: right;\">5139</td><td style = \"text-align: right;\">19.7115</td><td style = \"text-align: right;\">2.9812</td><td style = \"text-align: right;\">1.0</td><td style = \"text-align: right;\">0.0</td><td style = \"text-align: right;\">0.0</td><td style = \"text-align: right;\">0.0</td><td style = \"text-align: right;\">0.0</td><td style = \"text-align: right;\">1.0</td><td style = \"text-align: right;\">0.0</td><td style = \"text-align: right;\">0.0</td><td style = \"text-align: right;\">1.0</td><td style = \"text-align: right;\">0.0</td><td style = \"text-align: right;\">8.0</td><td style = \"text-align: right;\">0.64</td><td style = \"text-align: right;\">0.512</td><td style = \"text-align: right;\">0.4096</td><td style = \"text-align: right;\">2000.0</td><td style = \"text-align: right;\">6</td><td style = \"text-align: right;\">8090.0</td><td style = \"text-align: right;\">18</td></tr><tr><td class = \"rowNumber\" style = \"font-weight: bold; text-align: right;\">5140</td><td style = \"text-align: right;\">21.1538</td><td style = \"text-align: right;\">3.05182</td><td style = \"text-align: right;\">0.0</td><td style = \"text-align: right;\">0.0</td><td style = \"text-align: right;\">0.0</td><td style = \"text-align: right;\">0.0</td><td style = \"text-align: right;\">1.0</td><td style = \"text-align: right;\">0.0</td><td style = \"text-align: right;\">0.0</td><td style = \"text-align: right;\">0.0</td><td style = \"text-align: right;\">1.0</td><td style = \"text-align: right;\">0.0</td><td style = \"text-align: right;\">28.0</td><td style = \"text-align: right;\">7.84</td><td style = \"text-align: right;\">21.952</td><td style = \"text-align: right;\">61.4656</td><td style = \"text-align: right;\">40.0</td><td style = \"text-align: right;\">1</td><td style = \"text-align: right;\">9170.0</td><td style = \"text-align: right;\">21</td></tr><tr><td class = \"rowNumber\" style = \"font-weight: bold; text-align: right;\">5141</td><td style = \"text-align: right;\">45.5466</td><td style = \"text-align: right;\">3.81874</td><td style = \"text-align: right;\">1.0</td><td style = \"text-align: right;\">0.0</td><td style = \"text-align: right;\">0.0</td><td style = \"text-align: right;\">0.0</td><td style = \"text-align: right;\">1.0</td><td style = \"text-align: right;\">0.0</td><td style = \"text-align: right;\">0.0</td><td style = \"text-align: right;\">0.0</td><td style = \"text-align: right;\">1.0</td><td style = \"text-align: right;\">0.0</td><td style = \"text-align: right;\">5.0</td><td style = \"text-align: right;\">0.25</td><td style = \"text-align: right;\">0.125</td><td style = \"text-align: right;\">0.0625</td><td style = \"text-align: right;\">3255.0</td><td style = \"text-align: right;\">10</td><td style = \"text-align: right;\">8190.0</td><td style = \"text-align: right;\">18</td></tr><tr><td class = \"rowNumber\" style = \"font-weight: bold; text-align: right;\">5142</td><td style = \"text-align: right;\">22.5962</td><td style = \"text-align: right;\">3.11778</td><td style = \"text-align: right;\">0.0</td><td style = \"text-align: right;\">0.0</td><td style = \"text-align: right;\">1.0</td><td style = \"text-align: right;\">0.0</td><td style = \"text-align: right;\">0.0</td><td style = \"text-align: right;\">0.0</td><td style = \"text-align: right;\">0.0</td><td style = \"text-align: right;\">0.0</td><td style = \"text-align: right;\">1.0</td><td style = \"text-align: right;\">0.0</td><td style = \"text-align: right;\">15.0</td><td style = \"text-align: right;\">2.25</td><td style = \"text-align: right;\">3.375</td><td style = \"text-align: right;\">5.0625</td><td style = \"text-align: right;\">9620.0</td><td style = \"text-align: right;\">22</td><td style = \"text-align: right;\">5390.0</td><td style = \"text-align: right;\">9</td></tr><tr><td class = \"rowNumber\" style = \"font-weight: bold; text-align: right;\">5143</td><td style = \"text-align: right;\">16.8269</td><td style = \"text-align: right;\">2.82298</td><td style = \"text-align: right;\">0.0</td><td style = \"text-align: right;\">0.0</td><td style = \"text-align: right;\">1.0</td><td style = \"text-align: right;\">0.0</td><td style = \"text-align: right;\">0.0</td><td style = \"text-align: right;\">0.0</td><td style = \"text-align: right;\">0.0</td><td style = \"text-align: right;\">0.0</td><td style = \"text-align: right;\">1.0</td><td style = \"text-align: right;\">0.0</td><td style = \"text-align: right;\">11.0</td><td style = \"text-align: right;\">1.21</td><td style = \"text-align: right;\">1.331</td><td style = \"text-align: right;\">1.4641</td><td style = \"text-align: right;\">7150.0</td><td style = \"text-align: right;\">20</td><td style = \"text-align: right;\">8770.0</td><td style = \"text-align: right;\">21</td></tr><tr><td class = \"rowNumber\" style = \"font-weight: bold; text-align: right;\">5144</td><td style = \"text-align: right;\">24.0385</td><td style = \"text-align: right;\">3.17966</td><td style = \"text-align: right;\">1.0</td><td style = \"text-align: right;\">0.0</td><td style = \"text-align: right;\">0.0</td><td style = \"text-align: right;\">0.0</td><td style = \"text-align: right;\">1.0</td><td style = \"text-align: right;\">0.0</td><td style = \"text-align: right;\">0.0</td><td style = \"text-align: right;\">0.0</td><td style = \"text-align: right;\">1.0</td><td style = \"text-align: right;\">0.0</td><td style = \"text-align: right;\">17.0</td><td style = \"text-align: right;\">2.89</td><td style = \"text-align: right;\">4.913</td><td style = \"text-align: right;\">8.3521</td><td style = \"text-align: right;\">2550.0</td><td style = \"text-align: right;\">8</td><td style = \"text-align: right;\">9480.0</td><td style = \"text-align: right;\">22</td></tr><tr><td class = \"rowNumber\" style = \"font-weight: bold; text-align: right;\">5145</td><td style = \"text-align: right;\">13.8462</td><td style = \"text-align: right;\">2.62801</td><td style = \"text-align: right;\">0.0</td><td style = \"text-align: right;\">0.0</td><td style = \"text-align: right;\">0.0</td><td style = \"text-align: right;\">0.0</td><td style = \"text-align: right;\">1.0</td><td style = \"text-align: right;\">0.0</td><td style = \"text-align: right;\">0.0</td><td style = \"text-align: right;\">0.0</td><td style = \"text-align: right;\">1.0</td><td style = \"text-align: right;\">0.0</td><td style = \"text-align: right;\">10.0</td><td style = \"text-align: right;\">1.0</td><td style = \"text-align: right;\">1.0</td><td style = \"text-align: right;\">1.0</td><td style = \"text-align: right;\">800.0</td><td style = \"text-align: right;\">2</td><td style = \"text-align: right;\">770.0</td><td style = \"text-align: right;\">4</td></tr><tr><td class = \"rowNumber\" style = \"font-weight: bold; text-align: right;\">5146</td><td style = \"text-align: right;\">14.7692</td><td style = \"text-align: right;\">2.69255</td><td style = \"text-align: right;\">0.0</td><td style = \"text-align: right;\">0.0</td><td style = \"text-align: right;\">0.0</td><td style = \"text-align: right;\">0.0</td><td style = \"text-align: right;\">1.0</td><td style = \"text-align: right;\">0.0</td><td style = \"text-align: right;\">0.0</td><td style = \"text-align: right;\">0.0</td><td style = \"text-align: right;\">1.0</td><td style = \"text-align: right;\">0.0</td><td style = \"text-align: right;\">9.0</td><td style = \"text-align: right;\">0.81</td><td style = \"text-align: right;\">0.729</td><td style = \"text-align: right;\">0.6561</td><td style = \"text-align: right;\">4700.0</td><td style = \"text-align: right;\">16</td><td style = \"text-align: right;\">4970.0</td><td style = \"text-align: right;\">9</td></tr><tr><td class = \"rowNumber\" style = \"font-weight: bold; text-align: right;\">5147</td><td style = \"text-align: right;\">23.0769</td><td style = \"text-align: right;\">3.13883</td><td style = \"text-align: right;\">1.0</td><td style = \"text-align: right;\">0.0</td><td style = \"text-align: right;\">0.0</td><td style = \"text-align: right;\">1.0</td><td style = \"text-align: right;\">0.0</td><td style = \"text-align: right;\">0.0</td><td style = \"text-align: right;\">0.0</td><td style = \"text-align: right;\">0.0</td><td style = \"text-align: right;\">1.0</td><td style = \"text-align: right;\">0.0</td><td style = \"text-align: right;\">12.0</td><td style = \"text-align: right;\">1.44</td><td style = \"text-align: right;\">1.728</td><td style = \"text-align: right;\">2.0736</td><td style = \"text-align: right;\">4110.0</td><td style = \"text-align: right;\">13</td><td style = \"text-align: right;\">8680.0</td><td style = \"text-align: right;\">20</td></tr><tr><td class = \"rowNumber\" style = \"font-weight: bold; text-align: right;\">5148</td><td style = \"text-align: right;\">38.4615</td><td style = \"text-align: right;\">3.64966</td><td style = \"text-align: right;\">0.0</td><td style = \"text-align: right;\">0.0</td><td style = \"text-align: right;\">0.0</td><td style = \"text-align: right;\">0.0</td><td style = \"text-align: right;\">0.0</td><td style = \"text-align: right;\">1.0</td><td style = \"text-align: right;\">0.0</td><td style = \"text-align: right;\">0.0</td><td style = \"text-align: right;\">1.0</td><td style = \"text-align: right;\">0.0</td><td style = \"text-align: right;\">11.0</td><td style = \"text-align: right;\">1.21</td><td style = \"text-align: right;\">1.331</td><td style = \"text-align: right;\">1.4641</td><td style = \"text-align: right;\">1550.0</td><td style = \"text-align: right;\">4</td><td style = \"text-align: right;\">3680.0</td><td style = \"text-align: right;\">6</td></tr><tr><td class = \"rowNumber\" style = \"font-weight: bold; text-align: right;\">5149</td><td style = \"text-align: right;\">32.967</td><td style = \"text-align: right;\">3.49551</td><td style = \"text-align: right;\">0.0</td><td style = \"text-align: right;\">0.0</td><td style = \"text-align: right;\">1.0</td><td style = \"text-align: right;\">0.0</td><td style = \"text-align: right;\">0.0</td><td style = \"text-align: right;\">0.0</td><td style = \"text-align: right;\">0.0</td><td style = \"text-align: right;\">0.0</td><td style = \"text-align: right;\">1.0</td><td style = \"text-align: right;\">0.0</td><td style = \"text-align: right;\">10.0</td><td style = \"text-align: right;\">1.0</td><td style = \"text-align: right;\">1.0</td><td style = \"text-align: right;\">1.0</td><td style = \"text-align: right;\">2920.0</td><td style = \"text-align: right;\">9</td><td style = \"text-align: right;\">6570.0</td><td style = \"text-align: right;\">11</td></tr><tr><td class = \"rowNumber\" style = \"font-weight: bold; text-align: right;\">5150</td><td style = \"text-align: right;\">17.3077</td><td style = \"text-align: right;\">2.85115</td><td style = \"text-align: right;\">0.0</td><td style = \"text-align: right;\">0.0</td><td style = \"text-align: right;\">0.0</td><td style = \"text-align: right;\">0.0</td><td style = \"text-align: right;\">0.0</td><td style = \"text-align: right;\">1.0</td><td style = \"text-align: right;\">0.0</td><td style = \"text-align: right;\">0.0</td><td style = \"text-align: right;\">1.0</td><td style = \"text-align: right;\">0.0</td><td style = \"text-align: right;\">14.0</td><td style = \"text-align: right;\">1.96</td><td style = \"text-align: right;\">2.744</td><td style = \"text-align: right;\">3.8416</td><td style = \"text-align: right;\">1610.0</td><td style = \"text-align: right;\">5</td><td style = \"text-align: right;\">7460.0</td><td style = \"text-align: right;\">14</td></tr></tbody></table></div>"
      ],
      "text/latex": [
       "\\begin{tabular}{r|cccccccccc}\n",
       "\t& wage & lwage & sex & shs & hsg & scl & clg & ad & mw & \\\\\n",
       "\t\\hline\n",
       "\t& Float64 & Float64 & Float64 & Float64 & Float64 & Float64 & Float64 & Float64 & Float64 & \\\\\n",
       "\t\\hline\n",
       "\t1 & 9.61538 & 2.26336 & 1.0 & 0.0 & 0.0 & 0.0 & 1.0 & 0.0 & 0.0 & $\\dots$ \\\\\n",
       "\t2 & 48.0769 & 3.8728 & 0.0 & 0.0 & 0.0 & 0.0 & 1.0 & 0.0 & 0.0 & $\\dots$ \\\\\n",
       "\t3 & 11.0577 & 2.40313 & 0.0 & 0.0 & 1.0 & 0.0 & 0.0 & 0.0 & 0.0 & $\\dots$ \\\\\n",
       "\t4 & 13.9423 & 2.63493 & 1.0 & 0.0 & 0.0 & 0.0 & 0.0 & 1.0 & 0.0 & $\\dots$ \\\\\n",
       "\t5 & 28.8462 & 3.36198 & 1.0 & 0.0 & 0.0 & 0.0 & 1.0 & 0.0 & 0.0 & $\\dots$ \\\\\n",
       "\t6 & 11.7308 & 2.46222 & 1.0 & 0.0 & 0.0 & 0.0 & 1.0 & 0.0 & 0.0 & $\\dots$ \\\\\n",
       "\t7 & 19.2308 & 2.95651 & 1.0 & 0.0 & 1.0 & 0.0 & 0.0 & 0.0 & 0.0 & $\\dots$ \\\\\n",
       "\t8 & 19.2308 & 2.95651 & 0.0 & 0.0 & 1.0 & 0.0 & 0.0 & 0.0 & 0.0 & $\\dots$ \\\\\n",
       "\t9 & 12.0 & 2.48491 & 1.0 & 0.0 & 1.0 & 0.0 & 0.0 & 0.0 & 0.0 & $\\dots$ \\\\\n",
       "\t10 & 19.2308 & 2.95651 & 1.0 & 0.0 & 0.0 & 0.0 & 1.0 & 0.0 & 0.0 & $\\dots$ \\\\\n",
       "\t11 & 17.3077 & 2.85115 & 1.0 & 0.0 & 1.0 & 0.0 & 0.0 & 0.0 & 0.0 & $\\dots$ \\\\\n",
       "\t12 & 12.0192 & 2.48651 & 0.0 & 0.0 & 1.0 & 0.0 & 0.0 & 0.0 & 0.0 & $\\dots$ \\\\\n",
       "\t13 & 12.0192 & 2.48651 & 1.0 & 0.0 & 0.0 & 1.0 & 0.0 & 0.0 & 0.0 & $\\dots$ \\\\\n",
       "\t14 & 13.4615 & 2.59984 & 1.0 & 0.0 & 0.0 & 1.0 & 0.0 & 0.0 & 0.0 & $\\dots$ \\\\\n",
       "\t15 & 16.3462 & 2.79399 & 1.0 & 0.0 & 0.0 & 0.0 & 1.0 & 0.0 & 0.0 & $\\dots$ \\\\\n",
       "\t16 & 27.8846 & 3.32808 & 0.0 & 0.0 & 1.0 & 0.0 & 0.0 & 0.0 & 0.0 & $\\dots$ \\\\\n",
       "\t17 & 21.6 & 3.07269 & 0.0 & 0.0 & 1.0 & 0.0 & 0.0 & 0.0 & 0.0 & $\\dots$ \\\\\n",
       "\t18 & 8.65385 & 2.158 & 0.0 & 0.0 & 0.0 & 1.0 & 0.0 & 0.0 & 0.0 & $\\dots$ \\\\\n",
       "\t19 & 19.2308 & 2.95651 & 0.0 & 0.0 & 1.0 & 0.0 & 0.0 & 0.0 & 0.0 & $\\dots$ \\\\\n",
       "\t20 & 13.1868 & 2.57922 & 0.0 & 0.0 & 1.0 & 0.0 & 0.0 & 0.0 & 0.0 & $\\dots$ \\\\\n",
       "\t21 & 10.6838 & 2.36872 & 1.0 & 0.0 & 0.0 & 1.0 & 0.0 & 0.0 & 0.0 & $\\dots$ \\\\\n",
       "\t22 & 11.5385 & 2.44569 & 1.0 & 0.0 & 0.0 & 1.0 & 0.0 & 0.0 & 0.0 & $\\dots$ \\\\\n",
       "\t23 & 17.7885 & 2.87855 & 1.0 & 0.0 & 0.0 & 0.0 & 0.0 & 1.0 & 0.0 & $\\dots$ \\\\\n",
       "\t24 & 19.2308 & 2.95651 & 0.0 & 0.0 & 0.0 & 0.0 & 1.0 & 0.0 & 0.0 & $\\dots$ \\\\\n",
       "\t$\\dots$ & $\\dots$ & $\\dots$ & $\\dots$ & $\\dots$ & $\\dots$ & $\\dots$ & $\\dots$ & $\\dots$ & $\\dots$ &  \\\\\n",
       "\\end{tabular}\n"
      ],
      "text/plain": [
       "\u001b[1m5150×20 DataFrame\u001b[0m\n",
       "\u001b[1m  Row \u001b[0m│\u001b[1m wage     \u001b[0m\u001b[1m lwage   \u001b[0m\u001b[1m sex     \u001b[0m\u001b[1m shs     \u001b[0m\u001b[1m hsg     \u001b[0m\u001b[1m scl     \u001b[0m\u001b[1m clg     \u001b[0m\u001b[1m ad    \u001b[0m ⋯\n",
       "      │\u001b[90m Float64  \u001b[0m\u001b[90m Float64 \u001b[0m\u001b[90m Float64 \u001b[0m\u001b[90m Float64 \u001b[0m\u001b[90m Float64 \u001b[0m\u001b[90m Float64 \u001b[0m\u001b[90m Float64 \u001b[0m\u001b[90m Float6\u001b[0m ⋯\n",
       "──────┼─────────────────────────────────────────────────────────────────────────\n",
       "    1 │  9.61538  2.26336      1.0      0.0      0.0      0.0      1.0      0. ⋯\n",
       "    2 │ 48.0769   3.8728       0.0      0.0      0.0      0.0      1.0      0.\n",
       "    3 │ 11.0577   2.40313      0.0      0.0      1.0      0.0      0.0      0.\n",
       "    4 │ 13.9423   2.63493      1.0      0.0      0.0      0.0      0.0      1.\n",
       "    5 │ 28.8462   3.36198      1.0      0.0      0.0      0.0      1.0      0. ⋯\n",
       "    6 │ 11.7308   2.46222      1.0      0.0      0.0      0.0      1.0      0.\n",
       "    7 │ 19.2308   2.95651      1.0      0.0      1.0      0.0      0.0      0.\n",
       "    8 │ 19.2308   2.95651      0.0      0.0      1.0      0.0      0.0      0.\n",
       "  ⋮   │    ⋮         ⋮        ⋮        ⋮        ⋮        ⋮        ⋮        ⋮   ⋱\n",
       " 5144 │ 24.0385   3.17966      1.0      0.0      0.0      0.0      1.0      0. ⋯\n",
       " 5145 │ 13.8462   2.62801      0.0      0.0      0.0      0.0      1.0      0.\n",
       " 5146 │ 14.7692   2.69255      0.0      0.0      0.0      0.0      1.0      0.\n",
       " 5147 │ 23.0769   3.13883      1.0      0.0      0.0      1.0      0.0      0.\n",
       " 5148 │ 38.4615   3.64966      0.0      0.0      0.0      0.0      0.0      1. ⋯\n",
       " 5149 │ 32.967    3.49551      0.0      0.0      1.0      0.0      0.0      0.\n",
       " 5150 │ 17.3077   2.85115      0.0      0.0      0.0      0.0      0.0      1.\n",
       "\u001b[36m                                                13 columns and 5135 rows omitted\u001b[0m"
      ]
     },
     "metadata": {},
     "output_type": "display_data"
    }
   ],
   "source": [
    "# 1. Load the data, either from the url or from the path provided\n",
    "\n",
    "path = \"C:/Users/User/Documents/GitHub/CausalAI-Course-1/\"\n",
    "data = CSV.read(\"../../../../data/wage2015_subsample_inference.csv\", DataFrame) \n",
    "select!(data, Not(\"rownames\"))"
   ]
  },
  {
   "cell_type": "code",
   "execution_count": 9,
   "metadata": {},
   "outputs": [],
   "source": [
    "# 2. As in Group Assignment 1, generate the extra-flexible model. This means that it contains all two-way interactions between the experience polynomials and the indicator variables\n",
    "\n",
    "types = Dict(:occ2 => String, :ind2 => String)\n",
    "\n",
    "extra_flexible_formula = @formula(lwage ~ 1 + sex + (exp1 + exp2 + exp3 + exp4) * (hsg + scl + clg + ad + so + we + ne + occ2 + ind2) + (hsg + scl + clg + ad) * (so + we + ne + occ2 + ind2) + (so + we + ne) * (occ2 + ind2) + occ2 * ind2)\n",
    "X_extra_flexible = modelmatrix(extra_flexible_formula, data);"
   ]
  },
  {
   "cell_type": "code",
   "execution_count": 10,
   "metadata": {},
   "outputs": [
    {
     "data": {
      "text/plain": [
       "5150-element Vector{Float64}:\n",
       " 2.2633643798407643\n",
       " 3.872802292274865\n",
       " 2.403126322215923\n",
       " 2.634927936273247\n",
       " 3.361976668508874\n",
       " 2.4622152385859297\n",
       " 2.9565115604007097\n",
       " 2.9565115604007097\n",
       " 2.4849066497880004\n",
       " 2.9565115604007097\n",
       " ⋮\n",
       " 3.117779707996832\n",
       " 2.822980167776187\n",
       " 3.1796551117149194\n",
       " 2.6280074934286737\n",
       " 2.6925460145662448\n",
       " 3.138833117194664\n",
       " 3.649658740960655\n",
       " 3.4955080611333966\n",
       " 2.8511510447428834"
      ]
     },
     "metadata": {},
     "output_type": "display_data"
    }
   ],
   "source": [
    "# 2.1. Generate the array for the outcome variable Y and normalize it\n",
    "y = data[:, \"lwage\"];\n",
    "# y = (y .- mean(y)) ./ std(y) "
   ]
  },
  {
   "cell_type": "code",
   "execution_count": null,
   "metadata": {},
   "outputs": [],
   "source": [
    "# 2.2. Generate the array for the predictors X (do not generate an intercept) and normalize its colums.}\n",
    "\n"
   ]
  },
  {
   "cell_type": "code",
   "execution_count": null,
   "metadata": {},
   "outputs": [],
   "source": [
    "# 3. Split between training and testing samples. The testing sample should be 10% of the total."
   ]
  }
 ],
 "metadata": {
  "kernelspec": {
   "display_name": "Julia 1.10.5",
   "language": "julia",
   "name": "julia-1.10"
  },
  "language_info": {
   "file_extension": ".jl",
   "mimetype": "application/julia",
   "name": "julia",
   "version": "1.10.5"
  }
 },
 "nbformat": 4,
 "nbformat_minor": 2
}
