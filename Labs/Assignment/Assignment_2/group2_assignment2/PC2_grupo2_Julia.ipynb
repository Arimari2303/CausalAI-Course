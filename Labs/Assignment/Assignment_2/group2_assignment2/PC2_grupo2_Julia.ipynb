{
  "cells": [
    {
      "cell_type": "markdown",
      "metadata": {
        "id": "Bxvs4OSNHfsh"
      },
      "source": [
        "# PC2 - Grupo 2 (Julia)"
      ]
    },
    {
      "cell_type": "markdown",
      "metadata": {
        "id": "Qg4C8nnRHfsk"
      },
      "source": [
        "#### Integrantes\n",
        "- GARCIA RODRIGUEZ, EMILIO ALONSO\n",
        "- PADILLA AQUISE, ALESSANDRO PIERO\n",
        "- RIEGA NUÑEZ, GABRIEL ANTONIO FERMIN\n",
        "- SALAMANCA FERNANDEZ, LUCAS PABLO\n",
        "- SILVA ANDUJAR, NICOLAS"
      ]
    },
    {
      "cell_type": "markdown",
      "metadata": {
        "id": "c_yfKG2bHfsl"
      },
      "source": [
        "## 1. Loading and processing the data"
      ]
    },
    {
      "cell_type": "code",
      "execution_count": 62,
      "metadata": {
        "colab": {
          "base_uri": "https://localhost:8080/"
        },
        "id": "3s8tIF2EHfsm",
        "outputId": "6e8ea338-9af4-4043-ad20-0c767b4c57d7"
      },
      "outputs": [],
      "source": [
        "using Pkg\n",
        "using CSV\n",
        "using Distributions\n",
        "using DataFrames\n",
        "using Dates\n",
        "using Plots\n",
        "using Random\n",
        "using LinearAlgebra\n",
        "using LaTeXStrings\n",
        "\n",
        "# using MLBase\n",
        "using Statistics\n",
        "using GLMNet\n"
      ]
    },
    {
      "cell_type": "markdown",
      "metadata": {},
      "source": [
        "1. Load de data"
      ]
    },
    {
      "cell_type": "code",
      "execution_count": 63,
      "metadata": {},
      "outputs": [
        {
          "data": {
            "text/html": [
              "<div><div style = \"float: left;\"><span>5150×21 DataFrame</span></div><div style = \"float: right;\"><span style = \"font-style: italic;\">5125 rows omitted</span></div><div style = \"clear: both;\"></div></div><div class = \"data-frame\" style = \"overflow-x: scroll;\"><table class = \"data-frame\" style = \"margin-bottom: 6px;\"><thead><tr class = \"header\"><th class = \"rowNumber\" style = \"font-weight: bold; text-align: right;\">Row</th><th style = \"text-align: left;\">rownames</th><th style = \"text-align: left;\">wage</th><th style = \"text-align: left;\">lwage</th><th style = \"text-align: left;\">sex</th><th style = \"text-align: left;\">shs</th><th style = \"text-align: left;\">hsg</th><th style = \"text-align: left;\">scl</th><th style = \"text-align: left;\">clg</th><th style = \"text-align: left;\">ad</th><th style = \"text-align: left;\">mw</th><th style = \"text-align: left;\">so</th><th style = \"text-align: left;\">we</th><th style = \"text-align: left;\">ne</th><th style = \"text-align: left;\">exp1</th><th style = \"text-align: left;\">exp2</th><th style = \"text-align: left;\">exp3</th><th style = \"text-align: left;\">exp4</th><th style = \"text-align: left;\">occ</th><th style = \"text-align: left;\">occ2</th><th style = \"text-align: left;\">ind</th><th style = \"text-align: left;\">ind2</th></tr><tr class = \"subheader headerLastRow\"><th class = \"rowNumber\" style = \"font-weight: bold; text-align: right;\"></th><th title = \"Int64\" style = \"text-align: left;\">Int64</th><th title = \"Float64\" style = \"text-align: left;\">Float64</th><th title = \"Float64\" style = \"text-align: left;\">Float64</th><th title = \"Float64\" style = \"text-align: left;\">Float64</th><th title = \"Float64\" style = \"text-align: left;\">Float64</th><th title = \"Float64\" style = \"text-align: left;\">Float64</th><th title = \"Float64\" style = \"text-align: left;\">Float64</th><th title = \"Float64\" style = \"text-align: left;\">Float64</th><th title = \"Float64\" style = \"text-align: left;\">Float64</th><th title = \"Float64\" style = \"text-align: left;\">Float64</th><th title = \"Float64\" style = \"text-align: left;\">Float64</th><th title = \"Float64\" style = \"text-align: left;\">Float64</th><th title = \"Float64\" style = \"text-align: left;\">Float64</th><th title = \"Float64\" style = \"text-align: left;\">Float64</th><th title = \"Float64\" style = \"text-align: left;\">Float64</th><th title = \"Float64\" style = \"text-align: left;\">Float64</th><th title = \"Float64\" style = \"text-align: left;\">Float64</th><th title = \"Float64\" style = \"text-align: left;\">Float64</th><th title = \"Int64\" style = \"text-align: left;\">Int64</th><th title = \"Float64\" style = \"text-align: left;\">Float64</th><th title = \"Int64\" style = \"text-align: left;\">Int64</th></tr></thead><tbody><tr><td class = \"rowNumber\" style = \"font-weight: bold; text-align: right;\">1</td><td style = \"text-align: right;\">10</td><td style = \"text-align: right;\">9.61538</td><td style = \"text-align: right;\">2.26336</td><td style = \"text-align: right;\">1.0</td><td style = \"text-align: right;\">0.0</td><td style = \"text-align: right;\">0.0</td><td style = \"text-align: right;\">0.0</td><td style = \"text-align: right;\">1.0</td><td style = \"text-align: right;\">0.0</td><td style = \"text-align: right;\">0.0</td><td style = \"text-align: right;\">0.0</td><td style = \"text-align: right;\">0.0</td><td style = \"text-align: right;\">1.0</td><td style = \"text-align: right;\">7.0</td><td style = \"text-align: right;\">0.49</td><td style = \"text-align: right;\">0.343</td><td style = \"text-align: right;\">0.2401</td><td style = \"text-align: right;\">3600.0</td><td style = \"text-align: right;\">11</td><td style = \"text-align: right;\">8370.0</td><td style = \"text-align: right;\">18</td></tr><tr><td class = \"rowNumber\" style = \"font-weight: bold; text-align: right;\">2</td><td style = \"text-align: right;\">12</td><td style = \"text-align: right;\">48.0769</td><td style = \"text-align: right;\">3.8728</td><td style = \"text-align: right;\">0.0</td><td style = \"text-align: right;\">0.0</td><td style = \"text-align: right;\">0.0</td><td style = \"text-align: right;\">0.0</td><td style = \"text-align: right;\">1.0</td><td style = \"text-align: right;\">0.0</td><td style = \"text-align: right;\">0.0</td><td style = \"text-align: right;\">0.0</td><td style = \"text-align: right;\">0.0</td><td style = \"text-align: right;\">1.0</td><td style = \"text-align: right;\">31.0</td><td style = \"text-align: right;\">9.61</td><td style = \"text-align: right;\">29.791</td><td style = \"text-align: right;\">92.3521</td><td style = \"text-align: right;\">3050.0</td><td style = \"text-align: right;\">10</td><td style = \"text-align: right;\">5070.0</td><td style = \"text-align: right;\">9</td></tr><tr><td class = \"rowNumber\" style = \"font-weight: bold; text-align: right;\">3</td><td style = \"text-align: right;\">15</td><td style = \"text-align: right;\">11.0577</td><td style = \"text-align: right;\">2.40313</td><td style = \"text-align: right;\">0.0</td><td style = \"text-align: right;\">0.0</td><td style = \"text-align: right;\">1.0</td><td style = \"text-align: right;\">0.0</td><td style = \"text-align: right;\">0.0</td><td style = \"text-align: right;\">0.0</td><td style = \"text-align: right;\">0.0</td><td style = \"text-align: right;\">0.0</td><td style = \"text-align: right;\">0.0</td><td style = \"text-align: right;\">1.0</td><td style = \"text-align: right;\">18.0</td><td style = \"text-align: right;\">3.24</td><td style = \"text-align: right;\">5.832</td><td style = \"text-align: right;\">10.4976</td><td style = \"text-align: right;\">6260.0</td><td style = \"text-align: right;\">19</td><td style = \"text-align: right;\">770.0</td><td style = \"text-align: right;\">4</td></tr><tr><td class = \"rowNumber\" style = \"font-weight: bold; text-align: right;\">4</td><td style = \"text-align: right;\">18</td><td style = \"text-align: right;\">13.9423</td><td style = \"text-align: right;\">2.63493</td><td style = \"text-align: right;\">1.0</td><td style = \"text-align: right;\">0.0</td><td style = \"text-align: right;\">0.0</td><td style = \"text-align: right;\">0.0</td><td style = \"text-align: right;\">0.0</td><td style = \"text-align: right;\">1.0</td><td style = \"text-align: right;\">0.0</td><td style = \"text-align: right;\">0.0</td><td style = \"text-align: right;\">0.0</td><td style = \"text-align: right;\">1.0</td><td style = \"text-align: right;\">25.0</td><td style = \"text-align: right;\">6.25</td><td style = \"text-align: right;\">15.625</td><td style = \"text-align: right;\">39.0625</td><td style = \"text-align: right;\">420.0</td><td style = \"text-align: right;\">1</td><td style = \"text-align: right;\">6990.0</td><td style = \"text-align: right;\">12</td></tr><tr><td class = \"rowNumber\" style = \"font-weight: bold; text-align: right;\">5</td><td style = \"text-align: right;\">19</td><td style = \"text-align: right;\">28.8462</td><td style = \"text-align: right;\">3.36198</td><td style = \"text-align: right;\">1.0</td><td style = \"text-align: right;\">0.0</td><td style = \"text-align: right;\">0.0</td><td style = \"text-align: right;\">0.0</td><td style = \"text-align: right;\">1.0</td><td style = \"text-align: right;\">0.0</td><td style = \"text-align: right;\">0.0</td><td style = \"text-align: right;\">0.0</td><td style = \"text-align: right;\">0.0</td><td style = \"text-align: right;\">1.0</td><td style = \"text-align: right;\">22.0</td><td style = \"text-align: right;\">4.84</td><td style = \"text-align: right;\">10.648</td><td style = \"text-align: right;\">23.4256</td><td style = \"text-align: right;\">2015.0</td><td style = \"text-align: right;\">6</td><td style = \"text-align: right;\">9470.0</td><td style = \"text-align: right;\">22</td></tr><tr><td class = \"rowNumber\" style = \"font-weight: bold; text-align: right;\">6</td><td style = \"text-align: right;\">30</td><td style = \"text-align: right;\">11.7308</td><td style = \"text-align: right;\">2.46222</td><td style = \"text-align: right;\">1.0</td><td style = \"text-align: right;\">0.0</td><td style = \"text-align: right;\">0.0</td><td style = \"text-align: right;\">0.0</td><td style = \"text-align: right;\">1.0</td><td style = \"text-align: right;\">0.0</td><td style = \"text-align: right;\">0.0</td><td style = \"text-align: right;\">0.0</td><td style = \"text-align: right;\">0.0</td><td style = \"text-align: right;\">1.0</td><td style = \"text-align: right;\">1.0</td><td style = \"text-align: right;\">0.01</td><td style = \"text-align: right;\">0.001</td><td style = \"text-align: right;\">0.0001</td><td style = \"text-align: right;\">1650.0</td><td style = \"text-align: right;\">5</td><td style = \"text-align: right;\">7460.0</td><td style = \"text-align: right;\">14</td></tr><tr><td class = \"rowNumber\" style = \"font-weight: bold; text-align: right;\">7</td><td style = \"text-align: right;\">43</td><td style = \"text-align: right;\">19.2308</td><td style = \"text-align: right;\">2.95651</td><td style = \"text-align: right;\">1.0</td><td style = \"text-align: right;\">0.0</td><td style = \"text-align: right;\">1.0</td><td style = \"text-align: right;\">0.0</td><td style = \"text-align: right;\">0.0</td><td style = \"text-align: right;\">0.0</td><td style = \"text-align: right;\">0.0</td><td style = \"text-align: right;\">0.0</td><td style = \"text-align: right;\">0.0</td><td style = \"text-align: right;\">1.0</td><td style = \"text-align: right;\">42.0</td><td style = \"text-align: right;\">17.64</td><td style = \"text-align: right;\">74.088</td><td style = \"text-align: right;\">311.17</td><td style = \"text-align: right;\">5120.0</td><td style = \"text-align: right;\">17</td><td style = \"text-align: right;\">7280.0</td><td style = \"text-align: right;\">14</td></tr><tr><td class = \"rowNumber\" style = \"font-weight: bold; text-align: right;\">8</td><td style = \"text-align: right;\">44</td><td style = \"text-align: right;\">19.2308</td><td style = \"text-align: right;\">2.95651</td><td style = \"text-align: right;\">0.0</td><td style = \"text-align: right;\">0.0</td><td style = \"text-align: right;\">1.0</td><td style = \"text-align: right;\">0.0</td><td style = \"text-align: right;\">0.0</td><td style = \"text-align: right;\">0.0</td><td style = \"text-align: right;\">0.0</td><td style = \"text-align: right;\">0.0</td><td style = \"text-align: right;\">0.0</td><td style = \"text-align: right;\">1.0</td><td style = \"text-align: right;\">37.0</td><td style = \"text-align: right;\">13.69</td><td style = \"text-align: right;\">50.653</td><td style = \"text-align: right;\">187.416</td><td style = \"text-align: right;\">5240.0</td><td style = \"text-align: right;\">17</td><td style = \"text-align: right;\">5680.0</td><td style = \"text-align: right;\">9</td></tr><tr><td class = \"rowNumber\" style = \"font-weight: bold; text-align: right;\">9</td><td style = \"text-align: right;\">47</td><td style = \"text-align: right;\">12.0</td><td style = \"text-align: right;\">2.48491</td><td style = \"text-align: right;\">1.0</td><td style = \"text-align: right;\">0.0</td><td style = \"text-align: right;\">1.0</td><td style = \"text-align: right;\">0.0</td><td style = \"text-align: right;\">0.0</td><td style = \"text-align: right;\">0.0</td><td style = \"text-align: right;\">0.0</td><td style = \"text-align: right;\">0.0</td><td style = \"text-align: right;\">0.0</td><td style = \"text-align: right;\">1.0</td><td style = \"text-align: right;\">31.0</td><td style = \"text-align: right;\">9.61</td><td style = \"text-align: right;\">29.791</td><td style = \"text-align: right;\">92.3521</td><td style = \"text-align: right;\">4040.0</td><td style = \"text-align: right;\">13</td><td style = \"text-align: right;\">8590.0</td><td style = \"text-align: right;\">19</td></tr><tr><td class = \"rowNumber\" style = \"font-weight: bold; text-align: right;\">10</td><td style = \"text-align: right;\">71</td><td style = \"text-align: right;\">19.2308</td><td style = \"text-align: right;\">2.95651</td><td style = \"text-align: right;\">1.0</td><td style = \"text-align: right;\">0.0</td><td style = \"text-align: right;\">0.0</td><td style = \"text-align: right;\">0.0</td><td style = \"text-align: right;\">1.0</td><td style = \"text-align: right;\">0.0</td><td style = \"text-align: right;\">0.0</td><td style = \"text-align: right;\">0.0</td><td style = \"text-align: right;\">0.0</td><td style = \"text-align: right;\">1.0</td><td style = \"text-align: right;\">4.0</td><td style = \"text-align: right;\">0.16</td><td style = \"text-align: right;\">0.064</td><td style = \"text-align: right;\">0.0256</td><td style = \"text-align: right;\">3255.0</td><td style = \"text-align: right;\">10</td><td style = \"text-align: right;\">8190.0</td><td style = \"text-align: right;\">18</td></tr><tr><td class = \"rowNumber\" style = \"font-weight: bold; text-align: right;\">11</td><td style = \"text-align: right;\">73</td><td style = \"text-align: right;\">17.3077</td><td style = \"text-align: right;\">2.85115</td><td style = \"text-align: right;\">1.0</td><td style = \"text-align: right;\">0.0</td><td style = \"text-align: right;\">1.0</td><td style = \"text-align: right;\">0.0</td><td style = \"text-align: right;\">0.0</td><td style = \"text-align: right;\">0.0</td><td style = \"text-align: right;\">0.0</td><td style = \"text-align: right;\">0.0</td><td style = \"text-align: right;\">0.0</td><td style = \"text-align: right;\">1.0</td><td style = \"text-align: right;\">7.0</td><td style = \"text-align: right;\">0.49</td><td style = \"text-align: right;\">0.343</td><td style = \"text-align: right;\">0.2401</td><td style = \"text-align: right;\">4020.0</td><td style = \"text-align: right;\">13</td><td style = \"text-align: right;\">8270.0</td><td style = \"text-align: right;\">18</td></tr><tr><td class = \"rowNumber\" style = \"font-weight: bold; text-align: right;\">12</td><td style = \"text-align: right;\">77</td><td style = \"text-align: right;\">12.0192</td><td style = \"text-align: right;\">2.48651</td><td style = \"text-align: right;\">0.0</td><td style = \"text-align: right;\">0.0</td><td style = \"text-align: right;\">1.0</td><td style = \"text-align: right;\">0.0</td><td style = \"text-align: right;\">0.0</td><td style = \"text-align: right;\">0.0</td><td style = \"text-align: right;\">0.0</td><td style = \"text-align: right;\">0.0</td><td style = \"text-align: right;\">0.0</td><td style = \"text-align: right;\">1.0</td><td style = \"text-align: right;\">30.0</td><td style = \"text-align: right;\">9.0</td><td style = \"text-align: right;\">27.0</td><td style = \"text-align: right;\">81.0</td><td style = \"text-align: right;\">4220.0</td><td style = \"text-align: right;\">14</td><td style = \"text-align: right;\">8270.0</td><td style = \"text-align: right;\">18</td></tr><tr><td class = \"rowNumber\" style = \"font-weight: bold; text-align: right;\">13</td><td style = \"text-align: right;\">84</td><td style = \"text-align: right;\">12.0192</td><td style = \"text-align: right;\">2.48651</td><td style = \"text-align: right;\">1.0</td><td style = \"text-align: right;\">0.0</td><td style = \"text-align: right;\">0.0</td><td style = \"text-align: right;\">1.0</td><td style = \"text-align: right;\">0.0</td><td style = \"text-align: right;\">0.0</td><td style = \"text-align: right;\">0.0</td><td style = \"text-align: right;\">0.0</td><td style = \"text-align: right;\">0.0</td><td style = \"text-align: right;\">1.0</td><td style = \"text-align: right;\">5.5</td><td style = \"text-align: right;\">0.3025</td><td style = \"text-align: right;\">0.166375</td><td style = \"text-align: right;\">0.0915062</td><td style = \"text-align: right;\">3600.0</td><td style = \"text-align: right;\">11</td><td style = \"text-align: right;\">8270.0</td><td style = \"text-align: right;\">18</td></tr><tr><td style = \"text-align: right;\">&vellip;</td><td style = \"text-align: right;\">&vellip;</td><td style = \"text-align: right;\">&vellip;</td><td style = \"text-align: right;\">&vellip;</td><td style = \"text-align: right;\">&vellip;</td><td style = \"text-align: right;\">&vellip;</td><td style = \"text-align: right;\">&vellip;</td><td style = \"text-align: right;\">&vellip;</td><td style = \"text-align: right;\">&vellip;</td><td style = \"text-align: right;\">&vellip;</td><td style = \"text-align: right;\">&vellip;</td><td style = \"text-align: right;\">&vellip;</td><td style = \"text-align: right;\">&vellip;</td><td style = \"text-align: right;\">&vellip;</td><td style = \"text-align: right;\">&vellip;</td><td style = \"text-align: right;\">&vellip;</td><td style = \"text-align: right;\">&vellip;</td><td style = \"text-align: right;\">&vellip;</td><td style = \"text-align: right;\">&vellip;</td><td style = \"text-align: right;\">&vellip;</td><td style = \"text-align: right;\">&vellip;</td><td style = \"text-align: right;\">&vellip;</td></tr><tr><td class = \"rowNumber\" style = \"font-weight: bold; text-align: right;\">5139</td><td style = \"text-align: right;\">32591</td><td style = \"text-align: right;\">19.7115</td><td style = \"text-align: right;\">2.9812</td><td style = \"text-align: right;\">1.0</td><td style = \"text-align: right;\">0.0</td><td style = \"text-align: right;\">0.0</td><td style = \"text-align: right;\">0.0</td><td style = \"text-align: right;\">0.0</td><td style = \"text-align: right;\">1.0</td><td style = \"text-align: right;\">0.0</td><td style = \"text-align: right;\">0.0</td><td style = \"text-align: right;\">1.0</td><td style = \"text-align: right;\">0.0</td><td style = \"text-align: right;\">8.0</td><td style = \"text-align: right;\">0.64</td><td style = \"text-align: right;\">0.512</td><td style = \"text-align: right;\">0.4096</td><td style = \"text-align: right;\">2000.0</td><td style = \"text-align: right;\">6</td><td style = \"text-align: right;\">8090.0</td><td style = \"text-align: right;\">18</td></tr><tr><td class = \"rowNumber\" style = \"font-weight: bold; text-align: right;\">5140</td><td style = \"text-align: right;\">32593</td><td style = \"text-align: right;\">21.1538</td><td style = \"text-align: right;\">3.05182</td><td style = \"text-align: right;\">0.0</td><td style = \"text-align: right;\">0.0</td><td style = \"text-align: right;\">0.0</td><td style = \"text-align: right;\">0.0</td><td style = \"text-align: right;\">1.0</td><td style = \"text-align: right;\">0.0</td><td style = \"text-align: right;\">0.0</td><td style = \"text-align: right;\">0.0</td><td style = \"text-align: right;\">1.0</td><td style = \"text-align: right;\">0.0</td><td style = \"text-align: right;\">28.0</td><td style = \"text-align: right;\">7.84</td><td style = \"text-align: right;\">21.952</td><td style = \"text-align: right;\">61.4656</td><td style = \"text-align: right;\">40.0</td><td style = \"text-align: right;\">1</td><td style = \"text-align: right;\">9170.0</td><td style = \"text-align: right;\">21</td></tr><tr><td class = \"rowNumber\" style = \"font-weight: bold; text-align: right;\">5141</td><td style = \"text-align: right;\">32596</td><td style = \"text-align: right;\">45.5466</td><td style = \"text-align: right;\">3.81874</td><td style = \"text-align: right;\">1.0</td><td style = \"text-align: right;\">0.0</td><td style = \"text-align: right;\">0.0</td><td style = \"text-align: right;\">0.0</td><td style = \"text-align: right;\">1.0</td><td style = \"text-align: right;\">0.0</td><td style = \"text-align: right;\">0.0</td><td style = \"text-align: right;\">0.0</td><td style = \"text-align: right;\">1.0</td><td style = \"text-align: right;\">0.0</td><td style = \"text-align: right;\">5.0</td><td style = \"text-align: right;\">0.25</td><td style = \"text-align: right;\">0.125</td><td style = \"text-align: right;\">0.0625</td><td style = \"text-align: right;\">3255.0</td><td style = \"text-align: right;\">10</td><td style = \"text-align: right;\">8190.0</td><td style = \"text-align: right;\">18</td></tr><tr><td class = \"rowNumber\" style = \"font-weight: bold; text-align: right;\">5142</td><td style = \"text-align: right;\">32599</td><td style = \"text-align: right;\">22.5962</td><td style = \"text-align: right;\">3.11778</td><td style = \"text-align: right;\">0.0</td><td style = \"text-align: right;\">0.0</td><td style = \"text-align: right;\">1.0</td><td style = \"text-align: right;\">0.0</td><td style = \"text-align: right;\">0.0</td><td style = \"text-align: right;\">0.0</td><td style = \"text-align: right;\">0.0</td><td style = \"text-align: right;\">0.0</td><td style = \"text-align: right;\">1.0</td><td style = \"text-align: right;\">0.0</td><td style = \"text-align: right;\">15.0</td><td style = \"text-align: right;\">2.25</td><td style = \"text-align: right;\">3.375</td><td style = \"text-align: right;\">5.0625</td><td style = \"text-align: right;\">9620.0</td><td style = \"text-align: right;\">22</td><td style = \"text-align: right;\">5390.0</td><td style = \"text-align: right;\">9</td></tr><tr><td class = \"rowNumber\" style = \"font-weight: bold; text-align: right;\">5143</td><td style = \"text-align: right;\">32603</td><td style = \"text-align: right;\">16.8269</td><td style = \"text-align: right;\">2.82298</td><td style = \"text-align: right;\">0.0</td><td style = \"text-align: right;\">0.0</td><td style = \"text-align: right;\">1.0</td><td style = \"text-align: right;\">0.0</td><td style = \"text-align: right;\">0.0</td><td style = \"text-align: right;\">0.0</td><td style = \"text-align: right;\">0.0</td><td style = \"text-align: right;\">0.0</td><td style = \"text-align: right;\">1.0</td><td style = \"text-align: right;\">0.0</td><td style = \"text-align: right;\">11.0</td><td style = \"text-align: right;\">1.21</td><td style = \"text-align: right;\">1.331</td><td style = \"text-align: right;\">1.4641</td><td style = \"text-align: right;\">7150.0</td><td style = \"text-align: right;\">20</td><td style = \"text-align: right;\">8770.0</td><td style = \"text-align: right;\">21</td></tr><tr><td class = \"rowNumber\" style = \"font-weight: bold; text-align: right;\">5144</td><td style = \"text-align: right;\">32606</td><td style = \"text-align: right;\">24.0385</td><td style = \"text-align: right;\">3.17966</td><td style = \"text-align: right;\">1.0</td><td style = \"text-align: right;\">0.0</td><td style = \"text-align: right;\">0.0</td><td style = \"text-align: right;\">0.0</td><td style = \"text-align: right;\">1.0</td><td style = \"text-align: right;\">0.0</td><td style = \"text-align: right;\">0.0</td><td style = \"text-align: right;\">0.0</td><td style = \"text-align: right;\">1.0</td><td style = \"text-align: right;\">0.0</td><td style = \"text-align: right;\">17.0</td><td style = \"text-align: right;\">2.89</td><td style = \"text-align: right;\">4.913</td><td style = \"text-align: right;\">8.3521</td><td style = \"text-align: right;\">2550.0</td><td style = \"text-align: right;\">8</td><td style = \"text-align: right;\">9480.0</td><td style = \"text-align: right;\">22</td></tr><tr><td class = \"rowNumber\" style = \"font-weight: bold; text-align: right;\">5145</td><td style = \"text-align: right;\">32619</td><td style = \"text-align: right;\">13.8462</td><td style = \"text-align: right;\">2.62801</td><td style = \"text-align: right;\">0.0</td><td style = \"text-align: right;\">0.0</td><td style = \"text-align: right;\">0.0</td><td style = \"text-align: right;\">0.0</td><td style = \"text-align: right;\">1.0</td><td style = \"text-align: right;\">0.0</td><td style = \"text-align: right;\">0.0</td><td style = \"text-align: right;\">0.0</td><td style = \"text-align: right;\">1.0</td><td style = \"text-align: right;\">0.0</td><td style = \"text-align: right;\">10.0</td><td style = \"text-align: right;\">1.0</td><td style = \"text-align: right;\">1.0</td><td style = \"text-align: right;\">1.0</td><td style = \"text-align: right;\">800.0</td><td style = \"text-align: right;\">2</td><td style = \"text-align: right;\">770.0</td><td style = \"text-align: right;\">4</td></tr><tr><td class = \"rowNumber\" style = \"font-weight: bold; text-align: right;\">5146</td><td style = \"text-align: right;\">32620</td><td style = \"text-align: right;\">14.7692</td><td style = \"text-align: right;\">2.69255</td><td style = \"text-align: right;\">0.0</td><td style = \"text-align: right;\">0.0</td><td style = \"text-align: right;\">0.0</td><td style = \"text-align: right;\">0.0</td><td style = \"text-align: right;\">1.0</td><td style = \"text-align: right;\">0.0</td><td style = \"text-align: right;\">0.0</td><td style = \"text-align: right;\">0.0</td><td style = \"text-align: right;\">1.0</td><td style = \"text-align: right;\">0.0</td><td style = \"text-align: right;\">9.0</td><td style = \"text-align: right;\">0.81</td><td style = \"text-align: right;\">0.729</td><td style = \"text-align: right;\">0.6561</td><td style = \"text-align: right;\">4700.0</td><td style = \"text-align: right;\">16</td><td style = \"text-align: right;\">4970.0</td><td style = \"text-align: right;\">9</td></tr><tr><td class = \"rowNumber\" style = \"font-weight: bold; text-align: right;\">5147</td><td style = \"text-align: right;\">32624</td><td style = \"text-align: right;\">23.0769</td><td style = \"text-align: right;\">3.13883</td><td style = \"text-align: right;\">1.0</td><td style = \"text-align: right;\">0.0</td><td style = \"text-align: right;\">0.0</td><td style = \"text-align: right;\">1.0</td><td style = \"text-align: right;\">0.0</td><td style = \"text-align: right;\">0.0</td><td style = \"text-align: right;\">0.0</td><td style = \"text-align: right;\">0.0</td><td style = \"text-align: right;\">1.0</td><td style = \"text-align: right;\">0.0</td><td style = \"text-align: right;\">12.0</td><td style = \"text-align: right;\">1.44</td><td style = \"text-align: right;\">1.728</td><td style = \"text-align: right;\">2.0736</td><td style = \"text-align: right;\">4110.0</td><td style = \"text-align: right;\">13</td><td style = \"text-align: right;\">8680.0</td><td style = \"text-align: right;\">20</td></tr><tr><td class = \"rowNumber\" style = \"font-weight: bold; text-align: right;\">5148</td><td style = \"text-align: right;\">32626</td><td style = \"text-align: right;\">38.4615</td><td style = \"text-align: right;\">3.64966</td><td style = \"text-align: right;\">0.0</td><td style = \"text-align: right;\">0.0</td><td style = \"text-align: right;\">0.0</td><td style = \"text-align: right;\">0.0</td><td style = \"text-align: right;\">0.0</td><td style = \"text-align: right;\">1.0</td><td style = \"text-align: right;\">0.0</td><td style = \"text-align: right;\">0.0</td><td style = \"text-align: right;\">1.0</td><td style = \"text-align: right;\">0.0</td><td style = \"text-align: right;\">11.0</td><td style = \"text-align: right;\">1.21</td><td style = \"text-align: right;\">1.331</td><td style = \"text-align: right;\">1.4641</td><td style = \"text-align: right;\">1550.0</td><td style = \"text-align: right;\">4</td><td style = \"text-align: right;\">3680.0</td><td style = \"text-align: right;\">6</td></tr><tr><td class = \"rowNumber\" style = \"font-weight: bold; text-align: right;\">5149</td><td style = \"text-align: right;\">32631</td><td style = \"text-align: right;\">32.967</td><td style = \"text-align: right;\">3.49551</td><td style = \"text-align: right;\">0.0</td><td style = \"text-align: right;\">0.0</td><td style = \"text-align: right;\">1.0</td><td style = \"text-align: right;\">0.0</td><td style = \"text-align: right;\">0.0</td><td style = \"text-align: right;\">0.0</td><td style = \"text-align: right;\">0.0</td><td style = \"text-align: right;\">0.0</td><td style = \"text-align: right;\">1.0</td><td style = \"text-align: right;\">0.0</td><td style = \"text-align: right;\">10.0</td><td style = \"text-align: right;\">1.0</td><td style = \"text-align: right;\">1.0</td><td style = \"text-align: right;\">1.0</td><td style = \"text-align: right;\">2920.0</td><td style = \"text-align: right;\">9</td><td style = \"text-align: right;\">6570.0</td><td style = \"text-align: right;\">11</td></tr><tr><td class = \"rowNumber\" style = \"font-weight: bold; text-align: right;\">5150</td><td style = \"text-align: right;\">32643</td><td style = \"text-align: right;\">17.3077</td><td style = \"text-align: right;\">2.85115</td><td style = \"text-align: right;\">0.0</td><td style = \"text-align: right;\">0.0</td><td style = \"text-align: right;\">0.0</td><td style = \"text-align: right;\">0.0</td><td style = \"text-align: right;\">0.0</td><td style = \"text-align: right;\">1.0</td><td style = \"text-align: right;\">0.0</td><td style = \"text-align: right;\">0.0</td><td style = \"text-align: right;\">1.0</td><td style = \"text-align: right;\">0.0</td><td style = \"text-align: right;\">14.0</td><td style = \"text-align: right;\">1.96</td><td style = \"text-align: right;\">2.744</td><td style = \"text-align: right;\">3.8416</td><td style = \"text-align: right;\">1610.0</td><td style = \"text-align: right;\">5</td><td style = \"text-align: right;\">7460.0</td><td style = \"text-align: right;\">14</td></tr></tbody></table></div>"
            ],
            "text/latex": [
              "\\begin{tabular}{r|cccccccccc}\n",
              "\t& rownames & wage & lwage & sex & shs & hsg & scl & clg & ad & \\\\\n",
              "\t\\hline\n",
              "\t& Int64 & Float64 & Float64 & Float64 & Float64 & Float64 & Float64 & Float64 & Float64 & \\\\\n",
              "\t\\hline\n",
              "\t1 & 10 & 9.61538 & 2.26336 & 1.0 & 0.0 & 0.0 & 0.0 & 1.0 & 0.0 & $\\dots$ \\\\\n",
              "\t2 & 12 & 48.0769 & 3.8728 & 0.0 & 0.0 & 0.0 & 0.0 & 1.0 & 0.0 & $\\dots$ \\\\\n",
              "\t3 & 15 & 11.0577 & 2.40313 & 0.0 & 0.0 & 1.0 & 0.0 & 0.0 & 0.0 & $\\dots$ \\\\\n",
              "\t4 & 18 & 13.9423 & 2.63493 & 1.0 & 0.0 & 0.0 & 0.0 & 0.0 & 1.0 & $\\dots$ \\\\\n",
              "\t5 & 19 & 28.8462 & 3.36198 & 1.0 & 0.0 & 0.0 & 0.0 & 1.0 & 0.0 & $\\dots$ \\\\\n",
              "\t6 & 30 & 11.7308 & 2.46222 & 1.0 & 0.0 & 0.0 & 0.0 & 1.0 & 0.0 & $\\dots$ \\\\\n",
              "\t7 & 43 & 19.2308 & 2.95651 & 1.0 & 0.0 & 1.0 & 0.0 & 0.0 & 0.0 & $\\dots$ \\\\\n",
              "\t8 & 44 & 19.2308 & 2.95651 & 0.0 & 0.0 & 1.0 & 0.0 & 0.0 & 0.0 & $\\dots$ \\\\\n",
              "\t9 & 47 & 12.0 & 2.48491 & 1.0 & 0.0 & 1.0 & 0.0 & 0.0 & 0.0 & $\\dots$ \\\\\n",
              "\t10 & 71 & 19.2308 & 2.95651 & 1.0 & 0.0 & 0.0 & 0.0 & 1.0 & 0.0 & $\\dots$ \\\\\n",
              "\t11 & 73 & 17.3077 & 2.85115 & 1.0 & 0.0 & 1.0 & 0.0 & 0.0 & 0.0 & $\\dots$ \\\\\n",
              "\t12 & 77 & 12.0192 & 2.48651 & 0.0 & 0.0 & 1.0 & 0.0 & 0.0 & 0.0 & $\\dots$ \\\\\n",
              "\t13 & 84 & 12.0192 & 2.48651 & 1.0 & 0.0 & 0.0 & 1.0 & 0.0 & 0.0 & $\\dots$ \\\\\n",
              "\t14 & 89 & 13.4615 & 2.59984 & 1.0 & 0.0 & 0.0 & 1.0 & 0.0 & 0.0 & $\\dots$ \\\\\n",
              "\t15 & 96 & 16.3462 & 2.79399 & 1.0 & 0.0 & 0.0 & 0.0 & 1.0 & 0.0 & $\\dots$ \\\\\n",
              "\t16 & 113 & 27.8846 & 3.32808 & 0.0 & 0.0 & 1.0 & 0.0 & 0.0 & 0.0 & $\\dots$ \\\\\n",
              "\t17 & 115 & 21.6 & 3.07269 & 0.0 & 0.0 & 1.0 & 0.0 & 0.0 & 0.0 & $\\dots$ \\\\\n",
              "\t18 & 119 & 8.65385 & 2.158 & 0.0 & 0.0 & 0.0 & 1.0 & 0.0 & 0.0 & $\\dots$ \\\\\n",
              "\t19 & 128 & 19.2308 & 2.95651 & 0.0 & 0.0 & 1.0 & 0.0 & 0.0 & 0.0 & $\\dots$ \\\\\n",
              "\t20 & 129 & 13.1868 & 2.57922 & 0.0 & 0.0 & 1.0 & 0.0 & 0.0 & 0.0 & $\\dots$ \\\\\n",
              "\t21 & 135 & 10.6838 & 2.36872 & 1.0 & 0.0 & 0.0 & 1.0 & 0.0 & 0.0 & $\\dots$ \\\\\n",
              "\t22 & 144 & 11.5385 & 2.44569 & 1.0 & 0.0 & 0.0 & 1.0 & 0.0 & 0.0 & $\\dots$ \\\\\n",
              "\t23 & 145 & 17.7885 & 2.87855 & 1.0 & 0.0 & 0.0 & 0.0 & 0.0 & 1.0 & $\\dots$ \\\\\n",
              "\t24 & 149 & 19.2308 & 2.95651 & 0.0 & 0.0 & 0.0 & 0.0 & 1.0 & 0.0 & $\\dots$ \\\\\n",
              "\t$\\dots$ & $\\dots$ & $\\dots$ & $\\dots$ & $\\dots$ & $\\dots$ & $\\dots$ & $\\dots$ & $\\dots$ & $\\dots$ &  \\\\\n",
              "\\end{tabular}\n"
            ],
            "text/plain": [
              "\u001b[1m5150×21 DataFrame\u001b[0m\n",
              "\u001b[1m  Row \u001b[0m│\u001b[1m rownames \u001b[0m\u001b[1m wage     \u001b[0m\u001b[1m lwage   \u001b[0m\u001b[1m sex     \u001b[0m\u001b[1m shs     \u001b[0m\u001b[1m hsg     \u001b[0m\u001b[1m scl     \u001b[0m\u001b[1m clg  \u001b[0m ⋯\n",
              "      │\u001b[90m Int64    \u001b[0m\u001b[90m Float64  \u001b[0m\u001b[90m Float64 \u001b[0m\u001b[90m Float64 \u001b[0m\u001b[90m Float64 \u001b[0m\u001b[90m Float64 \u001b[0m\u001b[90m Float64 \u001b[0m\u001b[90m Float\u001b[0m ⋯\n",
              "──────┼─────────────────────────────────────────────────────────────────────────\n",
              "    1 │       10   9.61538  2.26336      1.0      0.0      0.0      0.0      1 ⋯\n",
              "    2 │       12  48.0769   3.8728       0.0      0.0      0.0      0.0      1\n",
              "    3 │       15  11.0577   2.40313      0.0      0.0      1.0      0.0      0\n",
              "    4 │       18  13.9423   2.63493      1.0      0.0      0.0      0.0      0\n",
              "    5 │       19  28.8462   3.36198      1.0      0.0      0.0      0.0      1 ⋯\n",
              "    6 │       30  11.7308   2.46222      1.0      0.0      0.0      0.0      1\n",
              "    7 │       43  19.2308   2.95651      1.0      0.0      1.0      0.0      0\n",
              "    8 │       44  19.2308   2.95651      0.0      0.0      1.0      0.0      0\n",
              "  ⋮   │    ⋮         ⋮         ⋮        ⋮        ⋮        ⋮        ⋮        ⋮  ⋱\n",
              " 5144 │    32606  24.0385   3.17966      1.0      0.0      0.0      0.0      1 ⋯\n",
              " 5145 │    32619  13.8462   2.62801      0.0      0.0      0.0      0.0      1\n",
              " 5146 │    32620  14.7692   2.69255      0.0      0.0      0.0      0.0      1\n",
              " 5147 │    32624  23.0769   3.13883      1.0      0.0      0.0      1.0      0\n",
              " 5148 │    32626  38.4615   3.64966      0.0      0.0      0.0      0.0      0 ⋯\n",
              " 5149 │    32631  32.967    3.49551      0.0      0.0      1.0      0.0      0\n",
              " 5150 │    32643  17.3077   2.85115      0.0      0.0      0.0      0.0      0\n",
              "\u001b[36m                                                14 columns and 5135 rows omitted\u001b[0m"
            ]
          },
          "metadata": {},
          "output_type": "display_data"
        }
      ],
      "source": [
        "using CSV\n",
        "\n",
        "data = CSV.read(\"wage2015_subsample_inference.csv\", DataFrame,)\n"
      ]
    },
    {
      "cell_type": "markdown",
      "metadata": {
        "id": "qCnevAheHfso"
      },
      "source": [
        "2. Generate de Extra-Flexible Model. This model contains all two-way interactions between the experience polynomials and the indicator variables. "
      ]
    },
    {
      "cell_type": "code",
      "execution_count": 64,
      "metadata": {},
      "outputs": [
        {
          "name": "stdout",
          "output_type": "stream",
          "text": [
            "(5150, 78)\n",
            "false\n"
          ]
        }
      ],
      "source": [
        "# Extra-flexible model\n",
        "eflex_formula = @formula(lwage ~ 1 + sex + (exp1 + exp2 + exp3 + exp4) * (hsg + scl + clg + ad + so + we + ne + occ2 + ind2) + (hsg + scl + clg + ad) * (so + we + ne + occ2 + ind2) + (so + we + ne) * (occ2 + ind2) + occ2 * ind2)\n",
        "X_eflex = modelmatrix(eflex_formula, data);\n",
        "\n",
        "println(size(X_eflex))\n",
        "\n",
        "println(any(ismissing, X_eflex))"
      ]
    },
    {
      "cell_type": "markdown",
      "metadata": {
        "id": "si6NVYOoHfsq"
      },
      "source": [
        "2.1 Generate the array for the outcome variable $Y$ and normalize it"
      ]
    },
    {
      "cell_type": "code",
      "execution_count": 65,
      "metadata": {},
      "outputs": [
        {
          "data": {
            "text/plain": [
              "5150-element Vector{Float64}:\n",
              " -1.2402545501637507\n",
              "  1.581415943901389\n",
              " -0.9952235701262617\n",
              " -0.5888284120346895\n",
              "  0.6858352078834439\n",
              " -0.8916287370734166\n",
              " -0.02502721376252582\n",
              " -0.02502721376252582\n",
              " -0.8518460993196265\n",
              " -0.02502721376252582\n",
              "  ⋮\n",
              "  0.25770849799681306\n",
              " -0.2591347787012701\n",
              "  0.3661886075001642\n",
              " -0.6009613493971904\n",
              " -0.48781225590462607\n",
              "  0.29461938662075393\n",
              "  1.1902001226386991\n",
              "  0.9199427728221882\n",
              " -0.20974552813450043"
            ]
          },
          "metadata": {},
          "output_type": "display_data"
        }
      ],
      "source": [
        "y = data[:, \"lwage\"]\n",
        "y_mean = mean(y)\n",
        "y_std = std(y)\n",
        "\n",
        "y_norm = (y .- y_mean) ./ y_std\n"
      ]
    },
    {
      "cell_type": "markdown",
      "metadata": {},
      "source": [
        "2.2 Generate the array for the predictors $X$ (without intercept) and normalize its columns"
      ]
    },
    {
      "cell_type": "code",
      "execution_count": 66,
      "metadata": {},
      "outputs": [],
      "source": [
        "X = X_eflex\n",
        "\n",
        "for col in 1:size(X, 2)\n",
        "    col_mean = mean(X[:, col])\n",
        "    col_std = std(X[:, col])\n",
        "    \n",
        "    # Avoid division by zero if the column has zero standard deviation\n",
        "    if col_std != 0\n",
        "        X[:, col] = (X[:, col] .- col_mean) ./ col_std\n",
        "    else\n",
        "        X[:, col] .= 0.0  \n",
        "    end\n",
        "end\n"
      ]
    },
    {
      "cell_type": "markdown",
      "metadata": {},
      "source": [
        "3. Split between training and testing sample. The testing sample should be 10% of the total"
      ]
    },
    {
      "cell_type": "code",
      "execution_count": 67,
      "metadata": {},
      "outputs": [],
      "source": [
        "train_sample = rand(Float64, size(data)[1]) .< 0.9\n",
        "test_sample = .!(train_sample)\n",
        "y_train, y_test = y[train_sample], y[test_sample]\n",
        "X_train, X_test = X[train_sample, :], X[test_sample, :];"
      ]
    },
    {
      "cell_type": "markdown",
      "metadata": {},
      "source": [
        "# 2. Creating the Lasso Cross-Validation Procedure"
      ]
    },
    {
      "cell_type": "markdown",
      "metadata": {},
      "source": [
        "4. Program a function that generates a logarithmically spaced grid. The input arguments should be the natural logarithms of the lower and upper bounds of the grid, as well as the natural logarithm of the spacing between each element of the grid. The output should be the logarithmically spaced grid, meaning that if we take the natural logarithm of each entry in the grid, they will be equally spaced. This will be the grid of values for $λ$ values to try during cross-validation."
      ]
    },
    {
      "cell_type": "code",
      "execution_count": 68,
      "metadata": {},
      "outputs": [
        {
          "name": "stdout",
          "output_type": "stream",
          "text": [
            "Generated log-space grid: [0.049787068367863944, 0.1353352832366127, 0.36787944117144233, 1.0, 2.718281828459045, 7.38905609893065, 20.085536923187668]\n"
          ]
        }
      ],
      "source": [
        "function log_space_grid(log_lower_bound::Float64, log_upper_bound::Float64, log_spacing::Float64)\n",
        "    grid = exp.(log_lower_bound:log_spacing:log_upper_bound)\n",
        "    return grid\n",
        "end\n",
        "\n",
        "# Test the function \n",
        "log_lower_bound = -3.0  # log(0.001)\n",
        "log_upper_bound = 3.0   # log(20.085)\n",
        "log_spacing = 1.0       # Log step size\n",
        "\n",
        "# Call the function and store the result\n",
        "grid = log_space_grid(log_lower_bound, log_upper_bound, log_spacing)\n",
        "\n",
        "# Print the result to verify\n",
        "println(\"Generated log-space grid: \", grid)"
      ]
    },
    {
      "cell_type": "markdown",
      "metadata": {},
      "source": [
        "5. Program a function to generate $k$ folds. It should take as input the array to be split rowwise and the number of folds desired. It should output a list of $k$ 1d arrays of booleans; these arrays should all be the same length as the number of rows in the input array, and when they are all summed together they should add up to an array of all true values. Create your own procedure for splitting. You can aid yourself with third party packages like numpy in Python or Statistics in Julia, but do not use a pre-programmed third party splitting procedure like sk-learns's KFolds in Python."
      ]
    },
    {
      "cell_type": "code",
      "execution_count": 69,
      "metadata": {},
      "outputs": [
        {
          "name": "stdout",
          "output_type": "stream",
          "text": [
            "Fold 1:\n",
            "Bool[1, 1, 0, 1, 0, 0, 0, 1, 0, 0]\n",
            "Training set size: 6\n",
            "Test set size: 4\n",
            "\n",
            "Fold 2:\n",
            "Bool[0, 0, 1, 0, 1, 0, 0, 0, 1, 0]\n",
            "Training set size: 7\n",
            "Test set size: 3\n",
            "\n",
            "Fold 3:\n",
            "Bool[0, 0, 0, 0, 0, 1, 1, 0, 0, 1]\n",
            "Training set size: 7\n",
            "Test set size: 3\n",
            "\n",
            "Total test set size across all folds: 10\n"
          ]
        }
      ],
      "source": [
        "function gen_kfolds(X::AbstractArray, k::Int)\n",
        "    n = size(X,1)\n",
        "\n",
        "    indices = shuffle(1:n)\n",
        "\n",
        "    folds = []\n",
        "    fold_size = Int(floor(n / k))\n",
        "    remainder = n % k\n",
        "\n",
        "    start = 1\n",
        "    for i in 1:k\n",
        "        extra = i <= remainder ? 1 : 0  # Some folds will have 1 extra row if remainder > 0\n",
        "        # Ensure we don't go out of bounds\n",
        "        stop = min(start + fold_size + extra - 1, n)  # Make sure 'stop' is within bounds\n",
        "        fold_indices = indices[start:stop]\n",
        "        start += fold_size + extra\n",
        "\n",
        "        # Create a boolean array to mark which rows belong to the current fold\n",
        "        fold = falses(n)\n",
        "        fold[fold_indices] .= true\n",
        "        push!(folds, fold)\n",
        "    end\n",
        "\n",
        "    return folds\n",
        "end\n",
        "\n",
        "#Test function \n",
        "# Create a sample dataset\n",
        "X_sample = rand(10, 5)  # A random dataset with 10 rows and 5 columns\n",
        "\n",
        "# Test the gen_kfolds function with k=3 (3 folds)\n",
        "k = 3\n",
        "folds = gen_kfolds(X_sample, k)\n",
        "\n",
        "# Print the result to verify\n",
        "for (i, fold) in enumerate(folds)\n",
        "    println(\"Fold $i:\")\n",
        "    println(fold)\n",
        "    println(\"Training set size: \", sum(.!fold))  \n",
        "    println(\"Test set size: \", sum(fold))        \n",
        "    println()\n",
        "end\n",
        "\n",
        "total_test_set_size = sum([sum(fold) for fold in folds])\n",
        "println(\"Total test set size across all folds: \", total_test_set_size)"
      ]
    },
    {
      "cell_type": "markdown",
      "metadata": {},
      "source": [
        "6. Program a function that integrates those that you programmed in the last two items to find the value of λ that minimizes the testing mean square error across folds. It should take the following inputs:\n",
        "\n",
        "- Y: an array for the outcome variable.\n",
        "- X: an array of predictors.\n",
        "- lambda_bounds: the lower and upper bounds of the grid of lambda values.\n",
        "- k: number of folds...\n",
        "\n"
      ]
    },
    {
      "cell_type": "code",
      "execution_count": 78,
      "metadata": {},
      "outputs": [
        {
          "data": {
            "text/plain": [
              "lasso_cv (generic function with 1 method)"
            ]
          },
          "metadata": {},
          "output_type": "display_data"
        }
      ],
      "source": [
        "using GLMNet\n",
        "# If Lasso.jl is being used too, it's best to avoid conflicts by specifying the package when calling functions\n",
        "\n",
        "function lasso_cv(X::AbstractArray, y::AbstractArray, lambda_bounds::Tuple{Float64, Float64}, k::Int)\n",
        "    # Generate a log-spaced grid of lambdas\n",
        "    log_lower_bound, log_upper_bound = lambda_bounds\n",
        "    lambdas = log_space_grid(log_lower_bound, log_upper_bound, 0.1)  \n",
        "\n",
        "    folds = gen_kfolds(X, k)\n",
        "    \n",
        "    n_lambdas = length(lambdas)\n",
        "    mse_per_lambda = zeros(n_lambdas)\n",
        "    \n",
        "    for (j, lamda) in enumerate(lambdas)\n",
        "        mse_fold = 0.0  \n",
        "        \n",
        "        for fold in folds\n",
        "            X_train = X[.!fold, :]\n",
        "            y_train = y[.!fold]\n",
        "            X_test = X[fold, :]\n",
        "            y_test = y[fold]\n",
        "            \n",
        "            # Lasso model\n",
        "            model = glmnet(X_train, y_train, alpha=1.0, lambda=[lamda]) \n",
        "\n",
        "            # Make predictions on the test set\n",
        "            y_pred = GLMNet.predict(model, X_test)\n",
        "            \n",
        "            # Calculate MSE\n",
        "            mse_fold += mean((y_pred .- y_test).^2)\n",
        "        end\n",
        "        \n",
        "        # Store average MSE for the current lambda across all folds\n",
        "        mse_per_lambda[j] = mse_fold / k\n",
        "    end\n",
        "\n",
        "    # Find optimal lambda with minimum MSE\n",
        "    optimal_lambda_idx = argmin(mse_per_lambda)\n",
        "    optimal_lambda = lambdas[optimal_lambda_idx]\n",
        "\n",
        "    # Fit the optimal model on the full dataset\n",
        "    optimal_model = glmnet(X, y, alpha=1.0, lambda=[optimal_lambda])\n",
        "\n",
        "    # Extract the coefficients using the GLMNet's `coef` function explicitly\n",
        "    optimal_coefs = optimal_model.betas\n",
        "\n",
        "    # Return dictionary with results\n",
        "    return Dict(\n",
        "        \"optimal_lambda\" => optimal_lambda,\n",
        "        \"optimal_coefs\" => optimal_coefs,  # Coefficients from the optimal model\n",
        "        \"all_lambdas\" => lambdas,\n",
        "        \"all_mse\" => mse_per_lambda\n",
        "    )\n",
        "end\n"
      ]
    },
    {
      "cell_type": "markdown",
      "metadata": {},
      "source": [
        "7. Program a function for predicting the outcome variable through model estimated with the optimal lambda. It should take as inputs\n",
        "\n",
        "- optimal_model: A dictionary with the values outputed by the function defined for the previous point.\n",
        "- X: an array of predictors.\n",
        "- The output should be an array of predicted values."
      ]
    },
    {
      "cell_type": "code",
      "execution_count": 74,
      "metadata": {},
      "outputs": [
        {
          "data": {
            "text/plain": [
              "predict_outcome (generic function with 1 method)"
            ]
          },
          "metadata": {},
          "output_type": "display_data"
        }
      ],
      "source": [
        "function predict_outcome(optimal_model::Dict, X::AbstractArray)\n",
        "    \n",
        "    optimal_coefi = optimal_model[\"optimal_coefi\"]\n",
        "    \n",
        "    y_pred = X * optimal_coefi\n",
        "    \n",
        "    return y_pred\n",
        "end\n"
      ]
    },
    {
      "cell_type": "markdown",
      "metadata": {},
      "source": [
        "# 3.Applying the Lasso Cross-Validation Procedure"
      ]
    },
    {
      "cell_type": "markdown",
      "metadata": {},
      "source": [
        "8. Fit a simple OLS model with the training sample."
      ]
    },
    {
      "cell_type": "code",
      "execution_count": 86,
      "metadata": {},
      "outputs": [
        {
          "data": {
            "text/plain": [
              "LinearModel{GLM.LmResp{Vector{Float64}}, GLM.DensePredChol{Float64, CholeskyPivoted{Float64, Matrix{Float64}, Vector{Int64}}}}:\n",
              "\n",
              "Coefficients:\n",
              "─────────────────────────────────────────────────────────────────────────\n",
              "            Coef.   Std. Error       t  Pr(>|t|)   Lower 95%    Upper 95%\n",
              "─────────────────────────────────────────────────────────────────────────\n",
              "x1     0.0         NaN          NaN       NaN     NaN         NaN\n",
              "x2    -0.0233134     0.0470705   -0.50    0.6204   -0.115595    0.0689677\n",
              "x3    -0.0891652    13.3306      -0.01    0.9947  -26.2235     26.0452\n",
              "x4     0.14842      37.2401       0.00    0.9968  -72.8604     73.1572\n",
              "x5    -0.721863     40.8939      -0.02    0.9859  -80.8937     79.45\n",
              "x6     0.845858     16.0345       0.05    0.9579  -30.5895     32.2812\n",
              "x7     0.220416      2.61851      0.08    0.9329   -4.91315     5.35398\n",
              "x8     0.292497      2.70694      0.11    0.9140   -5.01442     5.59941\n",
              "x9     0.443542      2.80191      0.16    0.8742   -5.04956     5.93665\n",
              "x10    0.367752      2.0774       0.18    0.8595   -3.70496     4.44046\n",
              "x11    0.0359344     0.498185     0.07    0.9425   -0.940751    1.01262\n",
              "x12    0.150279      0.487913     0.31    0.7581   -0.806267    1.10683\n",
              "x13   -0.181211      0.541899    -0.33    0.7381   -1.2436      0.881174\n",
              "x14   -0.202046      0.516425    -0.39    0.6956   -1.21449     0.810398\n",
              "x15   -0.15841       0.423621    -0.37    0.7085   -0.988913    0.672094\n",
              "x16   -2.09678      11.1818      -0.19    0.8513  -24.0185     19.8249\n",
              "x17   -1.91049      10.5329      -0.18    0.8561  -22.5601     18.7391\n",
              "x18   -1.81937       9.38002     -0.19    0.8462  -20.2088     16.57\n",
              "x19   -1.12776       7.01571     -0.16    0.8723  -14.882      12.6265\n",
              "x20    0.824902      1.60097      0.52    0.6064   -2.31378     3.96358\n",
              "x21    0.454729      1.58811      0.29    0.7746   -2.65875     3.56821\n",
              "x22    0.77165       1.64275      0.47    0.6386   -2.44893     3.99223\n",
              "x23    1.22305       2.1916       0.56    0.5768   -3.07356     5.51965\n",
              "x24    1.64842       2.39319      0.69    0.4910   -3.04339     6.34024\n",
              "x25    8.33667      25.1291       0.33    0.7401  -40.9286     57.6019\n",
              "x26    7.50336      22.9147       0.33    0.7433  -37.4205     52.4273\n",
              "x27    6.41882      19.7742       0.32    0.7455  -32.3482     45.1859\n",
              "x28    4.22352      14.657        0.29    0.7732  -24.5113     32.9583\n",
              "x29   -1.70054       5.04458     -0.34    0.7361  -11.5904      8.1893\n",
              "x30   -1.06599       4.8867      -0.22    0.8273  -10.6463      8.51432\n",
              "x31   -1.95365       5.19867     -0.38    0.7071  -12.1456      8.23827\n",
              "x32   -4.6214        7.6814      -0.60    0.5474  -19.6807     10.4379\n",
              "x33   -7.83367       8.42875     -0.93    0.3527  -24.3581      8.69078\n",
              "x34  -11.7959       25.587       -0.46    0.6448  -61.9589     38.3672\n",
              "x35  -10.4595       22.6921      -0.46    0.6449  -54.9471     34.0281\n",
              "x36   -8.2866       19.1016      -0.43    0.6644  -45.735      29.1618\n",
              "x37   -5.47066      14.0346      -0.39    0.6967  -32.9853     22.044\n",
              "x38    1.59124       6.66404      0.24    0.8113  -11.4735     14.656\n",
              "x39    1.24517       6.32948      0.20    0.8441  -11.1637     13.654\n",
              "x40    2.41973       6.75524      0.36    0.7202  -10.8238     15.6633\n",
              "x41    6.25662      10.4086       0.60    0.5478  -14.1493     26.6625\n",
              "x42   12.4039       11.2884       1.10    0.2719   -9.72685    34.5347\n",
              "x43    5.46902       9.49912      0.58    0.5648  -13.1539     24.0919\n",
              "x44    4.75341       8.22856      0.58    0.5635  -11.3786     20.8854\n",
              "x45    3.49942       6.79256      0.52    0.6064   -9.81731    16.8161\n",
              "x46    2.28302       4.96938      0.46    0.6460   -7.45939    12.0254\n",
              "x47   -0.547096      3.06334     -0.18    0.8583   -6.55273     5.45854\n",
              "x48   -0.572386      2.84232     -0.20    0.8404   -6.14472     4.99994\n",
              "x49   -1.13094       3.04187     -0.37    0.7101   -7.09448     4.8326\n",
              "x50   -2.87181       4.79896     -0.60    0.5496  -12.2801      6.53648\n",
              "x51   -6.27968       5.14511     -1.22    0.2223  -16.3666      3.80723\n",
              "x52   -0.150166      0.202835    -0.74    0.4591   -0.547821    0.24749\n",
              "x53   -0.0892572     0.186318    -0.48    0.6319   -0.454532    0.276018\n",
              "x54    0.0351232     0.238651     0.15    0.8830   -0.432749    0.502995\n",
              "x55    0.0667302     0.468207     0.14    0.8867   -0.851183    0.984644\n",
              "x56   -0.0115625     0.32065     -0.04    0.9712   -0.640192    0.617067\n",
              "x57   -0.120822      0.214004    -0.56    0.5724   -0.540374    0.29873\n",
              "x58   -0.070129      0.211673    -0.33    0.7404   -0.48511     0.344852\n",
              "x59    0.0283933     0.230691     0.12    0.9020   -0.423873    0.48066\n",
              "x60   -0.00932567    0.435482    -0.02    0.9829   -0.863082    0.84443\n",
              "x61   -0.00601005    0.363895    -0.02    0.9868   -0.719421    0.707401\n",
              "x62   -0.0601778     0.236673    -0.25    0.7993   -0.524173    0.403817\n",
              "x63   -0.0868972     0.227727    -0.38    0.7028   -0.533352    0.359558\n",
              "x64    0.0560895     0.291104     0.19    0.8472   -0.514616    0.626795\n",
              "x65   -0.00976635    0.354697    -0.03    0.9780   -0.705145    0.685612\n",
              "x66   -0.00651185    0.397339    -0.02    0.9869   -0.78549     0.772467\n",
              "x67   -0.0420548     0.187539    -0.22    0.8226   -0.409722    0.325612\n",
              "x68   -0.0559575     0.166451    -0.34    0.7368   -0.382282    0.270367\n",
              "x69    0.0275433     0.197497     0.14    0.8891   -0.359646    0.414733\n",
              "x70   -0.0178265     0.200647    -0.09    0.9292   -0.411192    0.375539\n",
              "x71   -0.0297765     0.353022    -0.08    0.9328   -0.721871    0.662318\n",
              "x72   -0.0324011     0.129969    -0.25    0.8031   -0.287203    0.222401\n",
              "x73   -0.0405433     0.157054    -0.26    0.7963   -0.348445    0.267358\n",
              "x74   -0.0391307     0.123436    -0.32    0.7512   -0.281125    0.202863\n",
              "x75   -0.0411063     0.14603     -0.28    0.7783   -0.327396    0.245183\n",
              "x76   -0.0507637     0.127145    -0.40    0.6897   -0.30003     0.198503\n",
              "x77    0.028638      0.154246     0.19    0.8527   -0.273759    0.331035\n",
              "x78    0.0176673     0.135317     0.13    0.8961   -0.24762     0.282955\n",
              "─────────────────────────────────────────────────────────────────────────\n"
            ]
          },
          "metadata": {},
          "output_type": "display_data"
        }
      ],
      "source": [
        "ols = lm(X_train, y_train)"
      ]
    },
    {
      "cell_type": "markdown",
      "metadata": {},
      "source": [
        "9. Find the optimal lambda and its related coefficients with the function programmed in 3. and the training sample. The natural logarithm of the numbers in the grid of $\\lambda$s should be spaced by 0.1, and the natural logarithm of the lower and upper bounds of the grid should be -7 and 7 respectively. For the k-folds procedure, use 5 folds. Print the lambda and the coefficients."
      ]
    },
    {
      "cell_type": "code",
      "execution_count": 89,
      "metadata": {},
      "outputs": [
        {
          "data": {
            "text/plain": [
              "Dict{String, Any} with 4 entries:\n",
              "  \"all_mse\"        => [0.320062, 0.320062, 0.320062, 0.320062, 0.320062, 0.3200…\n",
              "  \"optimal_lambda\" => 1.00091\n",
              "  \"optimal_coefs\"  => 78x1 CompressedPredictorMatrix:…\n",
              "  \"all_lambdas\"    => [1.00091, 1.10618, 1.22252, 1.35109, 1.49319, 1.65023, 1.…"
            ]
          },
          "metadata": {},
          "output_type": "display_data"
        }
      ],
      "source": [
        "lambda_bounds = (exp(-7.0), exp(7.0)) \n",
        "k_folds = 5  \n",
        "lasso_man = lasso_cv(X_train, y_train, lambda_bounds, k_folds)\n"
      ]
    },
    {
      "cell_type": "markdown",
      "metadata": {},
      "source": [
        "10. Now use each language's hdm package to fit a Lasso model with the theoretical optimal lambda value. You can find the documentation of the package for each language in the following links"
      ]
    },
    {
      "cell_type": "code",
      "execution_count": 108,
      "metadata": {},
      "outputs": [
        {
          "name": "stderr",
          "output_type": "stream",
          "text": [
            "\u001b[32m\u001b[1m   Resolving\u001b[22m\u001b[39m package versions...\n",
            "\u001b[32m\u001b[1m  No Changes\u001b[22m\u001b[39m to `~/.julia/environments/v1.10/Project.toml`\n",
            "\u001b[32m\u001b[1m  No Changes\u001b[22m\u001b[39m to `~/.julia/environments/v1.10/Manifest.toml`\n"
          ]
        },
        {
          "data": {
            "text/plain": [
              "-3.7919199905794476e-16"
            ]
          },
          "metadata": {},
          "output_type": "display_data"
        }
      ],
      "source": [
        "using Pkg\n",
        "Pkg.add(\"HDMjl\")\n",
        "\n",
        "using HDMjl\n",
        "hdm_reg = rlasso(X_train, y_train, post = false)\n"
      ]
    },
    {
      "cell_type": "markdown",
      "metadata": {},
      "source": [
        "11. Report the testing MSE and R2 for the OLS model and, the cross-validation lambda Lasso model, and the hdm theoretical lambda model. Use the function programmed in 4. to compute the predictions of the cross-validation Lasso model."
      ]
    },
    {
      "cell_type": "code",
      "execution_count": 111,
      "metadata": {},
      "outputs": [
        {
          "name": "stdout",
          "output_type": "stream",
          "text": [
            "OLS Model: \n",
            "MSE: 9.050338915520422\n",
            "R^2: -27.28820648001702\n",
            "Lasso MSE: 0.3198640235459455\n",
            "Lasso R^2: 0.00021649707728954581\n",
            "HDM Lasso Model: \n",
            "MSE: 0.2537340223147594\n",
            "R^2: 0.20691584246241224\n"
          ]
        }
      ],
      "source": [
        "#OLS\n",
        "ols_mse = mean(residuals(ols) .^ 2)\n",
        "ols_r2 = 1 - ols_mse / var(y_train)\n",
        "println(\"OLS Model: \")\n",
        "println(\"MSE: \", ols_mse)\n",
        "println(\"R^2: \", ols_r2)\n",
        "\n",
        "#Cv-Lasso\n",
        "\n",
        "optimal_lambda = lasso_man[\"optimal_lambda\"]\n",
        "optimal_model = glmnet(X_train, y_train, alpha=1.0, lambda=[optimal_lambda])\n",
        "\n",
        "y_pred_train = GLMNet.predict(optimal_model, X_train)\n",
        "lasso_residuals = y_train .- y_pred_train\n",
        "\n",
        "lasso_mse = mean(lasso_residuals.^2)\n",
        "println(\"Lasso MSE: \", mse)\n",
        "\n",
        "r2 = 1 - lasso_mse / var(y_train)\n",
        "println(\"Lasso R^2: \", r2)\n",
        "\n",
        "\n",
        "#HDMjl-Lasso\n",
        "HDM_mse = mean(hdm_reg[\"residuals\"] .^ 2)\n",
        "HDM_r2 = 1 - HDM_mse / var(y_train)\n",
        "\n",
        "\n",
        "println(\"HDM Lasso Model: \")\n",
        "println(\"MSE: \", HDM_mse)\n",
        "println(\"R^2: \", HDM_r2)"
      ]
    }
  ],
  "metadata": {
    "colab": {
      "provenance": []
    },
    "kernelspec": {
      "display_name": "Julia 1.10.4",
      "language": "julia",
      "name": "julia-1.10"
    },
    "language_info": {
      "file_extension": ".jl",
      "mimetype": "application/julia",
      "name": "julia",
      "version": "1.10.4"
    }
  },
  "nbformat": 4,
  "nbformat_minor": 0
}
