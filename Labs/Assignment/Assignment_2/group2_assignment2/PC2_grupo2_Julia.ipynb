{
  "cells": [
    {
      "cell_type": "markdown",
      "metadata": {
        "id": "Bxvs4OSNHfsh"
      },
      "source": [
        "# PC2 - Grupo 2 (Julia)"
      ]
    },
    {
      "cell_type": "markdown",
      "metadata": {
        "id": "Qg4C8nnRHfsk"
      },
      "source": [
        "#### Integrantes\n",
        "- GARCIA RODRIGUEZ, EMILIO ALONSO\n",
        "- PADILLA AQUISE, ALESSANDRO PIERO\n",
        "- RIEGA NUÑEZ, GABRIEL ANTONIO FERMIN\n",
        "- SALAMANCA FERNANDEZ, LUCAS PABLO\n",
        "- SILVA ANDUJAR, NICOLAS"
      ]
    },
    {
      "cell_type": "markdown",
      "metadata": {
        "id": "c_yfKG2bHfsl"
      },
      "source": [
        "## 1. Loading and processing the data"
      ]
    },
    {
      "cell_type": "code",
      "execution_count": 48,
      "metadata": {
        "colab": {
          "base_uri": "https://localhost:8080/"
        },
        "id": "3s8tIF2EHfsm",
        "outputId": "6e8ea338-9af4-4043-ad20-0c767b4c57d7"
      },
      "outputs": [],
      "source": [
        "using Pkg\n",
        "using CSV\n",
        "using Distributions\n",
        "using DataFrames\n",
        "using Dates\n",
        "using Plots\n",
        "using Random\n",
        "using LinearAlgebra\n",
        "using LaTeXStrings\n",
        "using Lasso\n",
        "# using MLBase\n",
        "using Statistics\n",
        "using GLMNet\n"
      ]
    },
    {
      "cell_type": "markdown",
      "metadata": {},
      "source": [
        "1. Load de data"
      ]
    },
    {
      "cell_type": "code",
      "execution_count": 49,
      "metadata": {},
      "outputs": [
        {
          "data": {
            "text/html": [
              "<div><div style = \"float: left;\"><span>5150×21 DataFrame</span></div><div style = \"float: right;\"><span style = \"font-style: italic;\">5125 rows omitted</span></div><div style = \"clear: both;\"></div></div><div class = \"data-frame\" style = \"overflow-x: scroll;\"><table class = \"data-frame\" style = \"margin-bottom: 6px;\"><thead><tr class = \"header\"><th class = \"rowNumber\" style = \"font-weight: bold; text-align: right;\">Row</th><th style = \"text-align: left;\">rownames</th><th style = \"text-align: left;\">wage</th><th style = \"text-align: left;\">lwage</th><th style = \"text-align: left;\">sex</th><th style = \"text-align: left;\">shs</th><th style = \"text-align: left;\">hsg</th><th style = \"text-align: left;\">scl</th><th style = \"text-align: left;\">clg</th><th style = \"text-align: left;\">ad</th><th style = \"text-align: left;\">mw</th><th style = \"text-align: left;\">so</th><th style = \"text-align: left;\">we</th><th style = \"text-align: left;\">ne</th><th style = \"text-align: left;\">exp1</th><th style = \"text-align: left;\">exp2</th><th style = \"text-align: left;\">exp3</th><th style = \"text-align: left;\">exp4</th><th style = \"text-align: left;\">occ</th><th style = \"text-align: left;\">occ2</th><th style = \"text-align: left;\">ind</th><th style = \"text-align: left;\">ind2</th></tr><tr class = \"subheader headerLastRow\"><th class = \"rowNumber\" style = \"font-weight: bold; text-align: right;\"></th><th title = \"Int64\" style = \"text-align: left;\">Int64</th><th title = \"Float64\" style = \"text-align: left;\">Float64</th><th title = \"Float64\" style = \"text-align: left;\">Float64</th><th title = \"Float64\" style = \"text-align: left;\">Float64</th><th title = \"Float64\" style = \"text-align: left;\">Float64</th><th title = \"Float64\" style = \"text-align: left;\">Float64</th><th title = \"Float64\" style = \"text-align: left;\">Float64</th><th title = \"Float64\" style = \"text-align: left;\">Float64</th><th title = \"Float64\" style = \"text-align: left;\">Float64</th><th title = \"Float64\" style = \"text-align: left;\">Float64</th><th title = \"Float64\" style = \"text-align: left;\">Float64</th><th title = \"Float64\" style = \"text-align: left;\">Float64</th><th title = \"Float64\" style = \"text-align: left;\">Float64</th><th title = \"Float64\" style = \"text-align: left;\">Float64</th><th title = \"Float64\" style = \"text-align: left;\">Float64</th><th title = \"Float64\" style = \"text-align: left;\">Float64</th><th title = \"Float64\" style = \"text-align: left;\">Float64</th><th title = \"Float64\" style = \"text-align: left;\">Float64</th><th title = \"Int64\" style = \"text-align: left;\">Int64</th><th title = \"Float64\" style = \"text-align: left;\">Float64</th><th title = \"Int64\" style = \"text-align: left;\">Int64</th></tr></thead><tbody><tr><td class = \"rowNumber\" style = \"font-weight: bold; text-align: right;\">1</td><td style = \"text-align: right;\">10</td><td style = \"text-align: right;\">9.61538</td><td style = \"text-align: right;\">2.26336</td><td style = \"text-align: right;\">1.0</td><td style = \"text-align: right;\">0.0</td><td style = \"text-align: right;\">0.0</td><td style = \"text-align: right;\">0.0</td><td style = \"text-align: right;\">1.0</td><td style = \"text-align: right;\">0.0</td><td style = \"text-align: right;\">0.0</td><td style = \"text-align: right;\">0.0</td><td style = \"text-align: right;\">0.0</td><td style = \"text-align: right;\">1.0</td><td style = \"text-align: right;\">7.0</td><td style = \"text-align: right;\">0.49</td><td style = \"text-align: right;\">0.343</td><td style = \"text-align: right;\">0.2401</td><td style = \"text-align: right;\">3600.0</td><td style = \"text-align: right;\">11</td><td style = \"text-align: right;\">8370.0</td><td style = \"text-align: right;\">18</td></tr><tr><td class = \"rowNumber\" style = \"font-weight: bold; text-align: right;\">2</td><td style = \"text-align: right;\">12</td><td style = \"text-align: right;\">48.0769</td><td style = \"text-align: right;\">3.8728</td><td style = \"text-align: right;\">0.0</td><td style = \"text-align: right;\">0.0</td><td style = \"text-align: right;\">0.0</td><td style = \"text-align: right;\">0.0</td><td style = \"text-align: right;\">1.0</td><td style = \"text-align: right;\">0.0</td><td style = \"text-align: right;\">0.0</td><td style = \"text-align: right;\">0.0</td><td style = \"text-align: right;\">0.0</td><td style = \"text-align: right;\">1.0</td><td style = \"text-align: right;\">31.0</td><td style = \"text-align: right;\">9.61</td><td style = \"text-align: right;\">29.791</td><td style = \"text-align: right;\">92.3521</td><td style = \"text-align: right;\">3050.0</td><td style = \"text-align: right;\">10</td><td style = \"text-align: right;\">5070.0</td><td style = \"text-align: right;\">9</td></tr><tr><td class = \"rowNumber\" style = \"font-weight: bold; text-align: right;\">3</td><td style = \"text-align: right;\">15</td><td style = \"text-align: right;\">11.0577</td><td style = \"text-align: right;\">2.40313</td><td style = \"text-align: right;\">0.0</td><td style = \"text-align: right;\">0.0</td><td style = \"text-align: right;\">1.0</td><td style = \"text-align: right;\">0.0</td><td style = \"text-align: right;\">0.0</td><td style = \"text-align: right;\">0.0</td><td style = \"text-align: right;\">0.0</td><td style = \"text-align: right;\">0.0</td><td style = \"text-align: right;\">0.0</td><td style = \"text-align: right;\">1.0</td><td style = \"text-align: right;\">18.0</td><td style = \"text-align: right;\">3.24</td><td style = \"text-align: right;\">5.832</td><td style = \"text-align: right;\">10.4976</td><td style = \"text-align: right;\">6260.0</td><td style = \"text-align: right;\">19</td><td style = \"text-align: right;\">770.0</td><td style = \"text-align: right;\">4</td></tr><tr><td class = \"rowNumber\" style = \"font-weight: bold; text-align: right;\">4</td><td style = \"text-align: right;\">18</td><td style = \"text-align: right;\">13.9423</td><td style = \"text-align: right;\">2.63493</td><td style = \"text-align: right;\">1.0</td><td style = \"text-align: right;\">0.0</td><td style = \"text-align: right;\">0.0</td><td style = \"text-align: right;\">0.0</td><td style = \"text-align: right;\">0.0</td><td style = \"text-align: right;\">1.0</td><td style = \"text-align: right;\">0.0</td><td style = \"text-align: right;\">0.0</td><td style = \"text-align: right;\">0.0</td><td style = \"text-align: right;\">1.0</td><td style = \"text-align: right;\">25.0</td><td style = \"text-align: right;\">6.25</td><td style = \"text-align: right;\">15.625</td><td style = \"text-align: right;\">39.0625</td><td style = \"text-align: right;\">420.0</td><td style = \"text-align: right;\">1</td><td style = \"text-align: right;\">6990.0</td><td style = \"text-align: right;\">12</td></tr><tr><td class = \"rowNumber\" style = \"font-weight: bold; text-align: right;\">5</td><td style = \"text-align: right;\">19</td><td style = \"text-align: right;\">28.8462</td><td style = \"text-align: right;\">3.36198</td><td style = \"text-align: right;\">1.0</td><td style = \"text-align: right;\">0.0</td><td style = \"text-align: right;\">0.0</td><td style = \"text-align: right;\">0.0</td><td style = \"text-align: right;\">1.0</td><td style = \"text-align: right;\">0.0</td><td style = \"text-align: right;\">0.0</td><td style = \"text-align: right;\">0.0</td><td style = \"text-align: right;\">0.0</td><td style = \"text-align: right;\">1.0</td><td style = \"text-align: right;\">22.0</td><td style = \"text-align: right;\">4.84</td><td style = \"text-align: right;\">10.648</td><td style = \"text-align: right;\">23.4256</td><td style = \"text-align: right;\">2015.0</td><td style = \"text-align: right;\">6</td><td style = \"text-align: right;\">9470.0</td><td style = \"text-align: right;\">22</td></tr><tr><td class = \"rowNumber\" style = \"font-weight: bold; text-align: right;\">6</td><td style = \"text-align: right;\">30</td><td style = \"text-align: right;\">11.7308</td><td style = \"text-align: right;\">2.46222</td><td style = \"text-align: right;\">1.0</td><td style = \"text-align: right;\">0.0</td><td style = \"text-align: right;\">0.0</td><td style = \"text-align: right;\">0.0</td><td style = \"text-align: right;\">1.0</td><td style = \"text-align: right;\">0.0</td><td style = \"text-align: right;\">0.0</td><td style = \"text-align: right;\">0.0</td><td style = \"text-align: right;\">0.0</td><td style = \"text-align: right;\">1.0</td><td style = \"text-align: right;\">1.0</td><td style = \"text-align: right;\">0.01</td><td style = \"text-align: right;\">0.001</td><td style = \"text-align: right;\">0.0001</td><td style = \"text-align: right;\">1650.0</td><td style = \"text-align: right;\">5</td><td style = \"text-align: right;\">7460.0</td><td style = \"text-align: right;\">14</td></tr><tr><td class = \"rowNumber\" style = \"font-weight: bold; text-align: right;\">7</td><td style = \"text-align: right;\">43</td><td style = \"text-align: right;\">19.2308</td><td style = \"text-align: right;\">2.95651</td><td style = \"text-align: right;\">1.0</td><td style = \"text-align: right;\">0.0</td><td style = \"text-align: right;\">1.0</td><td style = \"text-align: right;\">0.0</td><td style = \"text-align: right;\">0.0</td><td style = \"text-align: right;\">0.0</td><td style = \"text-align: right;\">0.0</td><td style = \"text-align: right;\">0.0</td><td style = \"text-align: right;\">0.0</td><td style = \"text-align: right;\">1.0</td><td style = \"text-align: right;\">42.0</td><td style = \"text-align: right;\">17.64</td><td style = \"text-align: right;\">74.088</td><td style = \"text-align: right;\">311.17</td><td style = \"text-align: right;\">5120.0</td><td style = \"text-align: right;\">17</td><td style = \"text-align: right;\">7280.0</td><td style = \"text-align: right;\">14</td></tr><tr><td class = \"rowNumber\" style = \"font-weight: bold; text-align: right;\">8</td><td style = \"text-align: right;\">44</td><td style = \"text-align: right;\">19.2308</td><td style = \"text-align: right;\">2.95651</td><td style = \"text-align: right;\">0.0</td><td style = \"text-align: right;\">0.0</td><td style = \"text-align: right;\">1.0</td><td style = \"text-align: right;\">0.0</td><td style = \"text-align: right;\">0.0</td><td style = \"text-align: right;\">0.0</td><td style = \"text-align: right;\">0.0</td><td style = \"text-align: right;\">0.0</td><td style = \"text-align: right;\">0.0</td><td style = \"text-align: right;\">1.0</td><td style = \"text-align: right;\">37.0</td><td style = \"text-align: right;\">13.69</td><td style = \"text-align: right;\">50.653</td><td style = \"text-align: right;\">187.416</td><td style = \"text-align: right;\">5240.0</td><td style = \"text-align: right;\">17</td><td style = \"text-align: right;\">5680.0</td><td style = \"text-align: right;\">9</td></tr><tr><td class = \"rowNumber\" style = \"font-weight: bold; text-align: right;\">9</td><td style = \"text-align: right;\">47</td><td style = \"text-align: right;\">12.0</td><td style = \"text-align: right;\">2.48491</td><td style = \"text-align: right;\">1.0</td><td style = \"text-align: right;\">0.0</td><td style = \"text-align: right;\">1.0</td><td style = \"text-align: right;\">0.0</td><td style = \"text-align: right;\">0.0</td><td style = \"text-align: right;\">0.0</td><td style = \"text-align: right;\">0.0</td><td style = \"text-align: right;\">0.0</td><td style = \"text-align: right;\">0.0</td><td style = \"text-align: right;\">1.0</td><td style = \"text-align: right;\">31.0</td><td style = \"text-align: right;\">9.61</td><td style = \"text-align: right;\">29.791</td><td style = \"text-align: right;\">92.3521</td><td style = \"text-align: right;\">4040.0</td><td style = \"text-align: right;\">13</td><td style = \"text-align: right;\">8590.0</td><td style = \"text-align: right;\">19</td></tr><tr><td class = \"rowNumber\" style = \"font-weight: bold; text-align: right;\">10</td><td style = \"text-align: right;\">71</td><td style = \"text-align: right;\">19.2308</td><td style = \"text-align: right;\">2.95651</td><td style = \"text-align: right;\">1.0</td><td style = \"text-align: right;\">0.0</td><td style = \"text-align: right;\">0.0</td><td style = \"text-align: right;\">0.0</td><td style = \"text-align: right;\">1.0</td><td style = \"text-align: right;\">0.0</td><td style = \"text-align: right;\">0.0</td><td style = \"text-align: right;\">0.0</td><td style = \"text-align: right;\">0.0</td><td style = \"text-align: right;\">1.0</td><td style = \"text-align: right;\">4.0</td><td style = \"text-align: right;\">0.16</td><td style = \"text-align: right;\">0.064</td><td style = \"text-align: right;\">0.0256</td><td style = \"text-align: right;\">3255.0</td><td style = \"text-align: right;\">10</td><td style = \"text-align: right;\">8190.0</td><td style = \"text-align: right;\">18</td></tr><tr><td class = \"rowNumber\" style = \"font-weight: bold; text-align: right;\">11</td><td style = \"text-align: right;\">73</td><td style = \"text-align: right;\">17.3077</td><td style = \"text-align: right;\">2.85115</td><td style = \"text-align: right;\">1.0</td><td style = \"text-align: right;\">0.0</td><td style = \"text-align: right;\">1.0</td><td style = \"text-align: right;\">0.0</td><td style = \"text-align: right;\">0.0</td><td style = \"text-align: right;\">0.0</td><td style = \"text-align: right;\">0.0</td><td style = \"text-align: right;\">0.0</td><td style = \"text-align: right;\">0.0</td><td style = \"text-align: right;\">1.0</td><td style = \"text-align: right;\">7.0</td><td style = \"text-align: right;\">0.49</td><td style = \"text-align: right;\">0.343</td><td style = \"text-align: right;\">0.2401</td><td style = \"text-align: right;\">4020.0</td><td style = \"text-align: right;\">13</td><td style = \"text-align: right;\">8270.0</td><td style = \"text-align: right;\">18</td></tr><tr><td class = \"rowNumber\" style = \"font-weight: bold; text-align: right;\">12</td><td style = \"text-align: right;\">77</td><td style = \"text-align: right;\">12.0192</td><td style = \"text-align: right;\">2.48651</td><td style = \"text-align: right;\">0.0</td><td style = \"text-align: right;\">0.0</td><td style = \"text-align: right;\">1.0</td><td style = \"text-align: right;\">0.0</td><td style = \"text-align: right;\">0.0</td><td style = \"text-align: right;\">0.0</td><td style = \"text-align: right;\">0.0</td><td style = \"text-align: right;\">0.0</td><td style = \"text-align: right;\">0.0</td><td style = \"text-align: right;\">1.0</td><td style = \"text-align: right;\">30.0</td><td style = \"text-align: right;\">9.0</td><td style = \"text-align: right;\">27.0</td><td style = \"text-align: right;\">81.0</td><td style = \"text-align: right;\">4220.0</td><td style = \"text-align: right;\">14</td><td style = \"text-align: right;\">8270.0</td><td style = \"text-align: right;\">18</td></tr><tr><td class = \"rowNumber\" style = \"font-weight: bold; text-align: right;\">13</td><td style = \"text-align: right;\">84</td><td style = \"text-align: right;\">12.0192</td><td style = \"text-align: right;\">2.48651</td><td style = \"text-align: right;\">1.0</td><td style = \"text-align: right;\">0.0</td><td style = \"text-align: right;\">0.0</td><td style = \"text-align: right;\">1.0</td><td style = \"text-align: right;\">0.0</td><td style = \"text-align: right;\">0.0</td><td style = \"text-align: right;\">0.0</td><td style = \"text-align: right;\">0.0</td><td style = \"text-align: right;\">0.0</td><td style = \"text-align: right;\">1.0</td><td style = \"text-align: right;\">5.5</td><td style = \"text-align: right;\">0.3025</td><td style = \"text-align: right;\">0.166375</td><td style = \"text-align: right;\">0.0915062</td><td style = \"text-align: right;\">3600.0</td><td style = \"text-align: right;\">11</td><td style = \"text-align: right;\">8270.0</td><td style = \"text-align: right;\">18</td></tr><tr><td style = \"text-align: right;\">&vellip;</td><td style = \"text-align: right;\">&vellip;</td><td style = \"text-align: right;\">&vellip;</td><td style = \"text-align: right;\">&vellip;</td><td style = \"text-align: right;\">&vellip;</td><td style = \"text-align: right;\">&vellip;</td><td style = \"text-align: right;\">&vellip;</td><td style = \"text-align: right;\">&vellip;</td><td style = \"text-align: right;\">&vellip;</td><td style = \"text-align: right;\">&vellip;</td><td style = \"text-align: right;\">&vellip;</td><td style = \"text-align: right;\">&vellip;</td><td style = \"text-align: right;\">&vellip;</td><td style = \"text-align: right;\">&vellip;</td><td style = \"text-align: right;\">&vellip;</td><td style = \"text-align: right;\">&vellip;</td><td style = \"text-align: right;\">&vellip;</td><td style = \"text-align: right;\">&vellip;</td><td style = \"text-align: right;\">&vellip;</td><td style = \"text-align: right;\">&vellip;</td><td style = \"text-align: right;\">&vellip;</td><td style = \"text-align: right;\">&vellip;</td></tr><tr><td class = \"rowNumber\" style = \"font-weight: bold; text-align: right;\">5139</td><td style = \"text-align: right;\">32591</td><td style = \"text-align: right;\">19.7115</td><td style = \"text-align: right;\">2.9812</td><td style = \"text-align: right;\">1.0</td><td style = \"text-align: right;\">0.0</td><td style = \"text-align: right;\">0.0</td><td style = \"text-align: right;\">0.0</td><td style = \"text-align: right;\">0.0</td><td style = \"text-align: right;\">1.0</td><td style = \"text-align: right;\">0.0</td><td style = \"text-align: right;\">0.0</td><td style = \"text-align: right;\">1.0</td><td style = \"text-align: right;\">0.0</td><td style = \"text-align: right;\">8.0</td><td style = \"text-align: right;\">0.64</td><td style = \"text-align: right;\">0.512</td><td style = \"text-align: right;\">0.4096</td><td style = \"text-align: right;\">2000.0</td><td style = \"text-align: right;\">6</td><td style = \"text-align: right;\">8090.0</td><td style = \"text-align: right;\">18</td></tr><tr><td class = \"rowNumber\" style = \"font-weight: bold; text-align: right;\">5140</td><td style = \"text-align: right;\">32593</td><td style = \"text-align: right;\">21.1538</td><td style = \"text-align: right;\">3.05182</td><td style = \"text-align: right;\">0.0</td><td style = \"text-align: right;\">0.0</td><td style = \"text-align: right;\">0.0</td><td style = \"text-align: right;\">0.0</td><td style = \"text-align: right;\">1.0</td><td style = \"text-align: right;\">0.0</td><td style = \"text-align: right;\">0.0</td><td style = \"text-align: right;\">0.0</td><td style = \"text-align: right;\">1.0</td><td style = \"text-align: right;\">0.0</td><td style = \"text-align: right;\">28.0</td><td style = \"text-align: right;\">7.84</td><td style = \"text-align: right;\">21.952</td><td style = \"text-align: right;\">61.4656</td><td style = \"text-align: right;\">40.0</td><td style = \"text-align: right;\">1</td><td style = \"text-align: right;\">9170.0</td><td style = \"text-align: right;\">21</td></tr><tr><td class = \"rowNumber\" style = \"font-weight: bold; text-align: right;\">5141</td><td style = \"text-align: right;\">32596</td><td style = \"text-align: right;\">45.5466</td><td style = \"text-align: right;\">3.81874</td><td style = \"text-align: right;\">1.0</td><td style = \"text-align: right;\">0.0</td><td style = \"text-align: right;\">0.0</td><td style = \"text-align: right;\">0.0</td><td style = \"text-align: right;\">1.0</td><td style = \"text-align: right;\">0.0</td><td style = \"text-align: right;\">0.0</td><td style = \"text-align: right;\">0.0</td><td style = \"text-align: right;\">1.0</td><td style = \"text-align: right;\">0.0</td><td style = \"text-align: right;\">5.0</td><td style = \"text-align: right;\">0.25</td><td style = \"text-align: right;\">0.125</td><td style = \"text-align: right;\">0.0625</td><td style = \"text-align: right;\">3255.0</td><td style = \"text-align: right;\">10</td><td style = \"text-align: right;\">8190.0</td><td style = \"text-align: right;\">18</td></tr><tr><td class = \"rowNumber\" style = \"font-weight: bold; text-align: right;\">5142</td><td style = \"text-align: right;\">32599</td><td style = \"text-align: right;\">22.5962</td><td style = \"text-align: right;\">3.11778</td><td style = \"text-align: right;\">0.0</td><td style = \"text-align: right;\">0.0</td><td style = \"text-align: right;\">1.0</td><td style = \"text-align: right;\">0.0</td><td style = \"text-align: right;\">0.0</td><td style = \"text-align: right;\">0.0</td><td style = \"text-align: right;\">0.0</td><td style = \"text-align: right;\">0.0</td><td style = \"text-align: right;\">1.0</td><td style = \"text-align: right;\">0.0</td><td style = \"text-align: right;\">15.0</td><td style = \"text-align: right;\">2.25</td><td style = \"text-align: right;\">3.375</td><td style = \"text-align: right;\">5.0625</td><td style = \"text-align: right;\">9620.0</td><td style = \"text-align: right;\">22</td><td style = \"text-align: right;\">5390.0</td><td style = \"text-align: right;\">9</td></tr><tr><td class = \"rowNumber\" style = \"font-weight: bold; text-align: right;\">5143</td><td style = \"text-align: right;\">32603</td><td style = \"text-align: right;\">16.8269</td><td style = \"text-align: right;\">2.82298</td><td style = \"text-align: right;\">0.0</td><td style = \"text-align: right;\">0.0</td><td style = \"text-align: right;\">1.0</td><td style = \"text-align: right;\">0.0</td><td style = \"text-align: right;\">0.0</td><td style = \"text-align: right;\">0.0</td><td style = \"text-align: right;\">0.0</td><td style = \"text-align: right;\">0.0</td><td style = \"text-align: right;\">1.0</td><td style = \"text-align: right;\">0.0</td><td style = \"text-align: right;\">11.0</td><td style = \"text-align: right;\">1.21</td><td style = \"text-align: right;\">1.331</td><td style = \"text-align: right;\">1.4641</td><td style = \"text-align: right;\">7150.0</td><td style = \"text-align: right;\">20</td><td style = \"text-align: right;\">8770.0</td><td style = \"text-align: right;\">21</td></tr><tr><td class = \"rowNumber\" style = \"font-weight: bold; text-align: right;\">5144</td><td style = \"text-align: right;\">32606</td><td style = \"text-align: right;\">24.0385</td><td style = \"text-align: right;\">3.17966</td><td style = \"text-align: right;\">1.0</td><td style = \"text-align: right;\">0.0</td><td style = \"text-align: right;\">0.0</td><td style = \"text-align: right;\">0.0</td><td style = \"text-align: right;\">1.0</td><td style = \"text-align: right;\">0.0</td><td style = \"text-align: right;\">0.0</td><td style = \"text-align: right;\">0.0</td><td style = \"text-align: right;\">1.0</td><td style = \"text-align: right;\">0.0</td><td style = \"text-align: right;\">17.0</td><td style = \"text-align: right;\">2.89</td><td style = \"text-align: right;\">4.913</td><td style = \"text-align: right;\">8.3521</td><td style = \"text-align: right;\">2550.0</td><td style = \"text-align: right;\">8</td><td style = \"text-align: right;\">9480.0</td><td style = \"text-align: right;\">22</td></tr><tr><td class = \"rowNumber\" style = \"font-weight: bold; text-align: right;\">5145</td><td style = \"text-align: right;\">32619</td><td style = \"text-align: right;\">13.8462</td><td style = \"text-align: right;\">2.62801</td><td style = \"text-align: right;\">0.0</td><td style = \"text-align: right;\">0.0</td><td style = \"text-align: right;\">0.0</td><td style = \"text-align: right;\">0.0</td><td style = \"text-align: right;\">1.0</td><td style = \"text-align: right;\">0.0</td><td style = \"text-align: right;\">0.0</td><td style = \"text-align: right;\">0.0</td><td style = \"text-align: right;\">1.0</td><td style = \"text-align: right;\">0.0</td><td style = \"text-align: right;\">10.0</td><td style = \"text-align: right;\">1.0</td><td style = \"text-align: right;\">1.0</td><td style = \"text-align: right;\">1.0</td><td style = \"text-align: right;\">800.0</td><td style = \"text-align: right;\">2</td><td style = \"text-align: right;\">770.0</td><td style = \"text-align: right;\">4</td></tr><tr><td class = \"rowNumber\" style = \"font-weight: bold; text-align: right;\">5146</td><td style = \"text-align: right;\">32620</td><td style = \"text-align: right;\">14.7692</td><td style = \"text-align: right;\">2.69255</td><td style = \"text-align: right;\">0.0</td><td style = \"text-align: right;\">0.0</td><td style = \"text-align: right;\">0.0</td><td style = \"text-align: right;\">0.0</td><td style = \"text-align: right;\">1.0</td><td style = \"text-align: right;\">0.0</td><td style = \"text-align: right;\">0.0</td><td style = \"text-align: right;\">0.0</td><td style = \"text-align: right;\">1.0</td><td style = \"text-align: right;\">0.0</td><td style = \"text-align: right;\">9.0</td><td style = \"text-align: right;\">0.81</td><td style = \"text-align: right;\">0.729</td><td style = \"text-align: right;\">0.6561</td><td style = \"text-align: right;\">4700.0</td><td style = \"text-align: right;\">16</td><td style = \"text-align: right;\">4970.0</td><td style = \"text-align: right;\">9</td></tr><tr><td class = \"rowNumber\" style = \"font-weight: bold; text-align: right;\">5147</td><td style = \"text-align: right;\">32624</td><td style = \"text-align: right;\">23.0769</td><td style = \"text-align: right;\">3.13883</td><td style = \"text-align: right;\">1.0</td><td style = \"text-align: right;\">0.0</td><td style = \"text-align: right;\">0.0</td><td style = \"text-align: right;\">1.0</td><td style = \"text-align: right;\">0.0</td><td style = \"text-align: right;\">0.0</td><td style = \"text-align: right;\">0.0</td><td style = \"text-align: right;\">0.0</td><td style = \"text-align: right;\">1.0</td><td style = \"text-align: right;\">0.0</td><td style = \"text-align: right;\">12.0</td><td style = \"text-align: right;\">1.44</td><td style = \"text-align: right;\">1.728</td><td style = \"text-align: right;\">2.0736</td><td style = \"text-align: right;\">4110.0</td><td style = \"text-align: right;\">13</td><td style = \"text-align: right;\">8680.0</td><td style = \"text-align: right;\">20</td></tr><tr><td class = \"rowNumber\" style = \"font-weight: bold; text-align: right;\">5148</td><td style = \"text-align: right;\">32626</td><td style = \"text-align: right;\">38.4615</td><td style = \"text-align: right;\">3.64966</td><td style = \"text-align: right;\">0.0</td><td style = \"text-align: right;\">0.0</td><td style = \"text-align: right;\">0.0</td><td style = \"text-align: right;\">0.0</td><td style = \"text-align: right;\">0.0</td><td style = \"text-align: right;\">1.0</td><td style = \"text-align: right;\">0.0</td><td style = \"text-align: right;\">0.0</td><td style = \"text-align: right;\">1.0</td><td style = \"text-align: right;\">0.0</td><td style = \"text-align: right;\">11.0</td><td style = \"text-align: right;\">1.21</td><td style = \"text-align: right;\">1.331</td><td style = \"text-align: right;\">1.4641</td><td style = \"text-align: right;\">1550.0</td><td style = \"text-align: right;\">4</td><td style = \"text-align: right;\">3680.0</td><td style = \"text-align: right;\">6</td></tr><tr><td class = \"rowNumber\" style = \"font-weight: bold; text-align: right;\">5149</td><td style = \"text-align: right;\">32631</td><td style = \"text-align: right;\">32.967</td><td style = \"text-align: right;\">3.49551</td><td style = \"text-align: right;\">0.0</td><td style = \"text-align: right;\">0.0</td><td style = \"text-align: right;\">1.0</td><td style = \"text-align: right;\">0.0</td><td style = \"text-align: right;\">0.0</td><td style = \"text-align: right;\">0.0</td><td style = \"text-align: right;\">0.0</td><td style = \"text-align: right;\">0.0</td><td style = \"text-align: right;\">1.0</td><td style = \"text-align: right;\">0.0</td><td style = \"text-align: right;\">10.0</td><td style = \"text-align: right;\">1.0</td><td style = \"text-align: right;\">1.0</td><td style = \"text-align: right;\">1.0</td><td style = \"text-align: right;\">2920.0</td><td style = \"text-align: right;\">9</td><td style = \"text-align: right;\">6570.0</td><td style = \"text-align: right;\">11</td></tr><tr><td class = \"rowNumber\" style = \"font-weight: bold; text-align: right;\">5150</td><td style = \"text-align: right;\">32643</td><td style = \"text-align: right;\">17.3077</td><td style = \"text-align: right;\">2.85115</td><td style = \"text-align: right;\">0.0</td><td style = \"text-align: right;\">0.0</td><td style = \"text-align: right;\">0.0</td><td style = \"text-align: right;\">0.0</td><td style = \"text-align: right;\">0.0</td><td style = \"text-align: right;\">1.0</td><td style = \"text-align: right;\">0.0</td><td style = \"text-align: right;\">0.0</td><td style = \"text-align: right;\">1.0</td><td style = \"text-align: right;\">0.0</td><td style = \"text-align: right;\">14.0</td><td style = \"text-align: right;\">1.96</td><td style = \"text-align: right;\">2.744</td><td style = \"text-align: right;\">3.8416</td><td style = \"text-align: right;\">1610.0</td><td style = \"text-align: right;\">5</td><td style = \"text-align: right;\">7460.0</td><td style = \"text-align: right;\">14</td></tr></tbody></table></div>"
            ],
            "text/latex": [
              "\\begin{tabular}{r|cccccccccc}\n",
              "\t& rownames & wage & lwage & sex & shs & hsg & scl & clg & ad & \\\\\n",
              "\t\\hline\n",
              "\t& Int64 & Float64 & Float64 & Float64 & Float64 & Float64 & Float64 & Float64 & Float64 & \\\\\n",
              "\t\\hline\n",
              "\t1 & 10 & 9.61538 & 2.26336 & 1.0 & 0.0 & 0.0 & 0.0 & 1.0 & 0.0 & $\\dots$ \\\\\n",
              "\t2 & 12 & 48.0769 & 3.8728 & 0.0 & 0.0 & 0.0 & 0.0 & 1.0 & 0.0 & $\\dots$ \\\\\n",
              "\t3 & 15 & 11.0577 & 2.40313 & 0.0 & 0.0 & 1.0 & 0.0 & 0.0 & 0.0 & $\\dots$ \\\\\n",
              "\t4 & 18 & 13.9423 & 2.63493 & 1.0 & 0.0 & 0.0 & 0.0 & 0.0 & 1.0 & $\\dots$ \\\\\n",
              "\t5 & 19 & 28.8462 & 3.36198 & 1.0 & 0.0 & 0.0 & 0.0 & 1.0 & 0.0 & $\\dots$ \\\\\n",
              "\t6 & 30 & 11.7308 & 2.46222 & 1.0 & 0.0 & 0.0 & 0.0 & 1.0 & 0.0 & $\\dots$ \\\\\n",
              "\t7 & 43 & 19.2308 & 2.95651 & 1.0 & 0.0 & 1.0 & 0.0 & 0.0 & 0.0 & $\\dots$ \\\\\n",
              "\t8 & 44 & 19.2308 & 2.95651 & 0.0 & 0.0 & 1.0 & 0.0 & 0.0 & 0.0 & $\\dots$ \\\\\n",
              "\t9 & 47 & 12.0 & 2.48491 & 1.0 & 0.0 & 1.0 & 0.0 & 0.0 & 0.0 & $\\dots$ \\\\\n",
              "\t10 & 71 & 19.2308 & 2.95651 & 1.0 & 0.0 & 0.0 & 0.0 & 1.0 & 0.0 & $\\dots$ \\\\\n",
              "\t11 & 73 & 17.3077 & 2.85115 & 1.0 & 0.0 & 1.0 & 0.0 & 0.0 & 0.0 & $\\dots$ \\\\\n",
              "\t12 & 77 & 12.0192 & 2.48651 & 0.0 & 0.0 & 1.0 & 0.0 & 0.0 & 0.0 & $\\dots$ \\\\\n",
              "\t13 & 84 & 12.0192 & 2.48651 & 1.0 & 0.0 & 0.0 & 1.0 & 0.0 & 0.0 & $\\dots$ \\\\\n",
              "\t14 & 89 & 13.4615 & 2.59984 & 1.0 & 0.0 & 0.0 & 1.0 & 0.0 & 0.0 & $\\dots$ \\\\\n",
              "\t15 & 96 & 16.3462 & 2.79399 & 1.0 & 0.0 & 0.0 & 0.0 & 1.0 & 0.0 & $\\dots$ \\\\\n",
              "\t16 & 113 & 27.8846 & 3.32808 & 0.0 & 0.0 & 1.0 & 0.0 & 0.0 & 0.0 & $\\dots$ \\\\\n",
              "\t17 & 115 & 21.6 & 3.07269 & 0.0 & 0.0 & 1.0 & 0.0 & 0.0 & 0.0 & $\\dots$ \\\\\n",
              "\t18 & 119 & 8.65385 & 2.158 & 0.0 & 0.0 & 0.0 & 1.0 & 0.0 & 0.0 & $\\dots$ \\\\\n",
              "\t19 & 128 & 19.2308 & 2.95651 & 0.0 & 0.0 & 1.0 & 0.0 & 0.0 & 0.0 & $\\dots$ \\\\\n",
              "\t20 & 129 & 13.1868 & 2.57922 & 0.0 & 0.0 & 1.0 & 0.0 & 0.0 & 0.0 & $\\dots$ \\\\\n",
              "\t21 & 135 & 10.6838 & 2.36872 & 1.0 & 0.0 & 0.0 & 1.0 & 0.0 & 0.0 & $\\dots$ \\\\\n",
              "\t22 & 144 & 11.5385 & 2.44569 & 1.0 & 0.0 & 0.0 & 1.0 & 0.0 & 0.0 & $\\dots$ \\\\\n",
              "\t23 & 145 & 17.7885 & 2.87855 & 1.0 & 0.0 & 0.0 & 0.0 & 0.0 & 1.0 & $\\dots$ \\\\\n",
              "\t24 & 149 & 19.2308 & 2.95651 & 0.0 & 0.0 & 0.0 & 0.0 & 1.0 & 0.0 & $\\dots$ \\\\\n",
              "\t$\\dots$ & $\\dots$ & $\\dots$ & $\\dots$ & $\\dots$ & $\\dots$ & $\\dots$ & $\\dots$ & $\\dots$ & $\\dots$ &  \\\\\n",
              "\\end{tabular}\n"
            ],
            "text/plain": [
              "\u001b[1m5150×21 DataFrame\u001b[0m\n",
              "\u001b[1m  Row \u001b[0m│\u001b[1m rownames \u001b[0m\u001b[1m wage     \u001b[0m\u001b[1m lwage   \u001b[0m\u001b[1m sex     \u001b[0m\u001b[1m shs     \u001b[0m\u001b[1m hsg     \u001b[0m\u001b[1m scl     \u001b[0m\u001b[1m clg  \u001b[0m ⋯\n",
              "      │\u001b[90m Int64    \u001b[0m\u001b[90m Float64  \u001b[0m\u001b[90m Float64 \u001b[0m\u001b[90m Float64 \u001b[0m\u001b[90m Float64 \u001b[0m\u001b[90m Float64 \u001b[0m\u001b[90m Float64 \u001b[0m\u001b[90m Float\u001b[0m ⋯\n",
              "──────┼─────────────────────────────────────────────────────────────────────────\n",
              "    1 │       10   9.61538  2.26336      1.0      0.0      0.0      0.0      1 ⋯\n",
              "    2 │       12  48.0769   3.8728       0.0      0.0      0.0      0.0      1\n",
              "    3 │       15  11.0577   2.40313      0.0      0.0      1.0      0.0      0\n",
              "    4 │       18  13.9423   2.63493      1.0      0.0      0.0      0.0      0\n",
              "    5 │       19  28.8462   3.36198      1.0      0.0      0.0      0.0      1 ⋯\n",
              "    6 │       30  11.7308   2.46222      1.0      0.0      0.0      0.0      1\n",
              "    7 │       43  19.2308   2.95651      1.0      0.0      1.0      0.0      0\n",
              "    8 │       44  19.2308   2.95651      0.0      0.0      1.0      0.0      0\n",
              "  ⋮   │    ⋮         ⋮         ⋮        ⋮        ⋮        ⋮        ⋮        ⋮  ⋱\n",
              " 5144 │    32606  24.0385   3.17966      1.0      0.0      0.0      0.0      1 ⋯\n",
              " 5145 │    32619  13.8462   2.62801      0.0      0.0      0.0      0.0      1\n",
              " 5146 │    32620  14.7692   2.69255      0.0      0.0      0.0      0.0      1\n",
              " 5147 │    32624  23.0769   3.13883      1.0      0.0      0.0      1.0      0\n",
              " 5148 │    32626  38.4615   3.64966      0.0      0.0      0.0      0.0      0 ⋯\n",
              " 5149 │    32631  32.967    3.49551      0.0      0.0      1.0      0.0      0\n",
              " 5150 │    32643  17.3077   2.85115      0.0      0.0      0.0      0.0      0\n",
              "\u001b[36m                                                14 columns and 5135 rows omitted\u001b[0m"
            ]
          },
          "metadata": {},
          "output_type": "display_data"
        }
      ],
      "source": [
        "using CSV\n",
        "\n",
        "data = CSV.read(\"wage2015_subsample_inference.csv\", DataFrame,)\n"
      ]
    },
    {
      "cell_type": "markdown",
      "metadata": {
        "id": "qCnevAheHfso"
      },
      "source": [
        "2. Generate de Extra-Flexible Model. This model contains all two-way interactions between the experience polynomials and the indicator variables. "
      ]
    },
    {
      "cell_type": "code",
      "execution_count": 50,
      "metadata": {},
      "outputs": [
        {
          "name": "stdout",
          "output_type": "stream",
          "text": [
            "(5150, 78)\n",
            "false\n",
            "false\n"
          ]
        }
      ],
      "source": [
        "# Extra-flexible model\n",
        "eflex_formula = @formula(lwage ~ 1 + sex + (exp1 + exp2 + exp3 + exp4) * (hsg + scl + clg + ad + so + we + ne + occ2 + ind2) + (hsg + scl + clg + ad) * (so + we + ne + occ2 + ind2) + (so + we + ne) * (occ2 + ind2) + occ2 * ind2)\n",
        "X_eflex = modelmatrix(eflex_formula, data);\n",
        "\n",
        "println(size(X_eflex))\n",
        "\n",
        "println(any(ismissing, X_eflex))"
      ]
    },
    {
      "cell_type": "markdown",
      "metadata": {
        "id": "si6NVYOoHfsq"
      },
      "source": [
        "2.1 Generate the array for the outcome variable $Y$ and normalize it"
      ]
    },
    {
      "cell_type": "code",
      "execution_count": 52,
      "metadata": {},
      "outputs": [
        {
          "data": {
            "text/plain": [
              "5150-element Vector{Float64}:\n",
              " -1.2402545501637507\n",
              "  1.581415943901389\n",
              " -0.9952235701262617\n",
              " -0.5888284120346895\n",
              "  0.6858352078834439\n",
              " -0.8916287370734166\n",
              " -0.02502721376252582\n",
              " -0.02502721376252582\n",
              " -0.8518460993196265\n",
              " -0.02502721376252582\n",
              "  ⋮\n",
              "  0.25770849799681306\n",
              " -0.2591347787012701\n",
              "  0.3661886075001642\n",
              " -0.6009613493971904\n",
              " -0.48781225590462607\n",
              "  0.29461938662075393\n",
              "  1.1902001226386991\n",
              "  0.9199427728221882\n",
              " -0.20974552813450043"
            ]
          },
          "metadata": {},
          "output_type": "display_data"
        }
      ],
      "source": [
        "y = data[:, \"lwage\"]\n",
        "y_mean = mean(y)\n",
        "y_std = std(y)\n",
        "\n",
        "y_norm = (y .- y_mean) ./ y_std\n"
      ]
    },
    {
      "cell_type": "markdown",
      "metadata": {},
      "source": [
        "2.2 Generate the array for the predictors $X$ (without intercept) and normalize its columns"
      ]
    },
    {
      "cell_type": "code",
      "execution_count": 53,
      "metadata": {},
      "outputs": [],
      "source": [
        "X = X_eflex\n",
        "\n",
        "for col in 1:size(X, 2)\n",
        "    col_mean = mean(X[:, col])\n",
        "    col_std = std(X[:, col])\n",
        "    \n",
        "    # Avoid division by zero if the column has zero standard deviation\n",
        "    if col_std != 0\n",
        "        X[:, col] = (X[:, col] .- col_mean) ./ col_std\n",
        "    else\n",
        "        X[:, col] .= 0.0  \n",
        "    end\n",
        "end\n"
      ]
    },
    {
      "cell_type": "markdown",
      "metadata": {},
      "source": [
        "3. Split between training and testing sample. The testing sample should be 10% of the total"
      ]
    },
    {
      "cell_type": "code",
      "execution_count": 54,
      "metadata": {},
      "outputs": [],
      "source": [
        "train_sample = rand(Float64, size(data)[1]) .< 0.9\n",
        "test_sample = .!(train_sample)\n",
        "y_train, y_test = y[train_sample], y[test_sample]\n",
        "X_train, X_test = X[train_sample, :], X[test_sample, :];"
      ]
    },
    {
      "cell_type": "markdown",
      "metadata": {},
      "source": [
        "# 2. Creating the Lasso Cross-Validation Procedure"
      ]
    },
    {
      "cell_type": "markdown",
      "metadata": {},
      "source": [
        "4. Program a function that generates a logarithmically spaced grid. The input arguments should be the natural logarithms of the lower and upper bounds of the grid, as well as the natural logarithm of the spacing between each element of the grid. The output should be the logarithmically spaced grid, meaning that if we take the natural logarithm of each entry in the grid, they will be equally spaced. This will be the grid of values for $λ$ values to try during cross-validation."
      ]
    },
    {
      "cell_type": "code",
      "execution_count": 55,
      "metadata": {},
      "outputs": [
        {
          "name": "stdout",
          "output_type": "stream",
          "text": [
            "Generated log-space grid: [0.049787068367863944, 0.1353352832366127, 0.36787944117144233, 1.0, 2.718281828459045, 7.38905609893065, 20.085536923187668]\n"
          ]
        }
      ],
      "source": [
        "function log_space_grid(log_lower_bound::Float64, log_upper_bound::Float64, log_spacing::Float64)\n",
        "    grid = exp.(log_lower_bound:log_spacing:log_upper_bound)\n",
        "    return grid\n",
        "end\n",
        "\n",
        "# Test the function \n",
        "log_lower_bound = -3.0  # log(0.001)\n",
        "log_upper_bound = 3.0   # log(20.085)\n",
        "log_spacing = 1.0       # Log step size\n",
        "\n",
        "# Call the function and store the result\n",
        "grid = log_space_grid(log_lower_bound, log_upper_bound, log_spacing)\n",
        "\n",
        "# Print the result to verify\n",
        "println(\"Generated log-space grid: \", grid)"
      ]
    },
    {
      "cell_type": "markdown",
      "metadata": {},
      "source": [
        "5. Program a function to generate $k$ folds. It should take as input the array to be split rowwise and the number of folds desired. It should output a list of $k$ 1d arrays of booleans; these arrays should all be the same length as the number of rows in the input array, and when they are all summed together they should add up to an array of all true values. Create your own procedure for splitting. You can aid yourself with third party packages like numpy in Python or Statistics in Julia, but do not use a pre-programmed third party splitting procedure like sk-learns's KFolds in Python."
      ]
    },
    {
      "cell_type": "code",
      "execution_count": 56,
      "metadata": {},
      "outputs": [
        {
          "name": "stdout",
          "output_type": "stream",
          "text": [
            "Fold 1:\n",
            "Bool[1, 1, 1, 0, 0, 0, 0, 0, 1, 0]\n",
            "Training set size: 6\n",
            "Test set size: 4\n",
            "\n",
            "Fold 2:\n",
            "Bool[0, 0, 0, 1, 1, 0, 1, 0, 0, 0]\n",
            "Training set size: 7\n",
            "Test set size: 3\n",
            "\n",
            "Fold 3:\n",
            "Bool[0, 0, 0, 0, 0, 1, 0, 1, 0, 1]\n",
            "Training set size: 7\n",
            "Test set size: 3\n",
            "\n",
            "Total test set size across all folds: 10\n"
          ]
        }
      ],
      "source": [
        "function gen_kfolds(X::AbstractArray, k::Int)\n",
        "    n = size(X,1)\n",
        "\n",
        "    indices = shuffle(1:n)\n",
        "\n",
        "    folds = []\n",
        "    fold_size = Int(floor(n / k))\n",
        "    remainder = n % k\n",
        "\n",
        "    start = 1\n",
        "    for i in 1:k\n",
        "        extra = i <= remainder ? 1 : 0  # Some folds will have 1 extra row if remainder > 0\n",
        "        # Ensure we don't go out of bounds\n",
        "        stop = min(start + fold_size + extra - 1, n)  # Make sure 'stop' is within bounds\n",
        "        fold_indices = indices[start:stop]\n",
        "        start += fold_size + extra\n",
        "\n",
        "        # Create a boolean array to mark which rows belong to the current fold\n",
        "        fold = falses(n)\n",
        "        fold[fold_indices] .= true\n",
        "        push!(folds, fold)\n",
        "    end\n",
        "\n",
        "    return folds\n",
        "end\n",
        "\n",
        "#Test function \n",
        "# Create a sample dataset\n",
        "X_sample = rand(10, 5)  # A random dataset with 10 rows and 5 columns\n",
        "\n",
        "# Test the gen_kfolds function with k=3 (3 folds)\n",
        "k = 3\n",
        "folds = gen_kfolds(X_sample, k)\n",
        "\n",
        "# Print the result to verify\n",
        "for (i, fold) in enumerate(folds)\n",
        "    println(\"Fold $i:\")\n",
        "    println(fold)\n",
        "    println(\"Training set size: \", sum(.!fold))  \n",
        "    println(\"Test set size: \", sum(fold))        \n",
        "    println()\n",
        "end\n",
        "\n",
        "total_test_set_size = sum([sum(fold) for fold in folds])\n",
        "println(\"Total test set size across all folds: \", total_test_set_size)"
      ]
    },
    {
      "cell_type": "markdown",
      "metadata": {},
      "source": [
        "6. Program a function that integrates those that you programmed in the last two items to find the value of λ that minimizes the testing mean square error across folds. It should take the following inputs:\n",
        "\n",
        "- Y: an array for the outcome variable.\n",
        "- X: an array of predictors.\n",
        "- lambda_bounds: the lower and upper bounds of the grid of lambda values.\n",
        "- k: number of folds...\n",
        "\n"
      ]
    },
    {
      "cell_type": "code",
      "execution_count": 58,
      "metadata": {},
      "outputs": [
        {
          "ename": "UndefVarError",
          "evalue": "UndefVarError: `predict` not defined",
          "output_type": "error",
          "traceback": [
            "UndefVarError: `predict` not defined\n",
            "\n",
            "Stacktrace:\n",
            " [1] lasso_cv(X::Matrix{Float64}, y::Vector{Float64}, lambda_bounds::Tuple{Float64, Float64}, k::Int64)\n",
            "   @ Main ~/Documents/GitHub/CausalAI-Course/Labs/Assignment/Assignment_2/group2_assignment2/jl_notebook_cell_df34fa98e69747e1a8f8a730347b8e2f_X30sZmlsZQ==.jl:27\n",
            " [2] top-level scope\n",
            "   @ ~/Documents/GitHub/CausalAI-Course/Labs/Assignment/Assignment_2/group2_assignment2/jl_notebook_cell_df34fa98e69747e1a8f8a730347b8e2f_X30sZmlsZQ==.jl:62"
          ]
        }
      ],
      "source": [
        "using GLMNet\n",
        "\n",
        "function lasso_cv(X::AbstractArray, y::AbstractArray, lambda_bounds::Tuple{Float64, Float64}, k::Int)\n",
        "    # Generate a log-spaced grid of lambdas\n",
        "    log_lower_bound, log_upper_bound = lambda_bounds\n",
        "    lambdas = log_space_grid(log_lower_bound, log_upper_bound, 0.1)  \n",
        "\n",
        "  \n",
        "    folds = gen_kfolds(X, k)\n",
        "    \n",
        "    n_lambdas = length(lambdas)\n",
        "    mse_per_lambda = zeros(n_lambdas)\n",
        "    \n",
        "    for (j, lamda) in enumerate(lambdas)\n",
        "        mse_fold = 0.0  \n",
        "        \n",
        "        for fold in folds\n",
        "            X_train = X[.!fold, :]\n",
        "            y_train = y[.!fold]\n",
        "            X_test = X[fold, :]\n",
        "            y_test = y[fold]\n",
        "            \n",
        "            # Lasso model\n",
        "            model = glmnet(X_train, y_train, alpha=1.0, lambda=[lamda]) \n",
        "\n",
        "            # Make predictions on the test set\n",
        "            y_pred = predict(model, X_test)\n",
        "            \n",
        "            # Calculate MSE\n",
        "            mse_fold += mean((y_pred .- y_test).^2)\n",
        "        end\n",
        "        \n",
        "        # Store average MSE for the current lambda across all folds\n",
        "        mse_per_lambda[j] = mse_fold / k\n",
        "    end\n",
        "\n",
        "    # Find optimal lambda with minimum MSE\n",
        "    optimal_lambda_idx = argmin(mse_per_lambda)\n",
        "    optimal_lambda = lambdas[optimal_lambda_idx]\n",
        "\n",
        "    \n",
        "    optimal_model = glmnet(X, y, alpha=1.0, lambda=[optimal_lambda])\n",
        "    optimal_coefi = optimal_model[\"coefficients\"]\n",
        "    \n",
        "\n",
        "      # Return dictionary with results\n",
        "      return Dict(\n",
        "        \"optimal_lambda\" => optimal_lambda,\n",
        "        \"optimal_coefi\" => optimal_coefi,\n",
        "        \"all_lambdas\" => lambdas,\n",
        "        \"all_mse\" => mse_per_lambda\n",
        "    )\n",
        "end\n",
        "\n",
        "\n",
        "#Test function\n",
        "# Define the lambda bounds and number of folds for cross-validation\n",
        "lambda_bounds = (-3.0, 3.0)  # You can adjust these bounds as needed\n",
        "k_folds = 5  # 5-fold cross-validation\n",
        "\n",
        "# Run the lasso_cv function with your training data\n",
        "result = lasso_cv(X_train, y_train, lambda_bounds, k_folds)\n",
        "\n",
        "# Print the results\n",
        "println(\"Optimal Lambda: \", result[\"optimal_lambda\"])\n",
        "println(\"Optimal Coefficients: \", result[\"optimal_coefi\"])\n",
        "println(\"All Lambdas: \", result[\"all_lambdas\"])\n",
        "println(\"All MSEs: \", result[\"all_mse\"])"
      ]
    },
    {
      "cell_type": "markdown",
      "metadata": {},
      "source": [
        "7. Program a function for predicting the outcome variable through model estimated with the optimal lambda. It should take as inputs\n",
        "\n",
        "- optimal_model: A dictionary with the values outputed by the function defined for the previous point.\n",
        "- X: an array of predictors.\n",
        "- The output should be an array of predicted values."
      ]
    },
    {
      "cell_type": "code",
      "execution_count": 39,
      "metadata": {},
      "outputs": [
        {
          "data": {
            "text/plain": [
              "predict_outcome (generic function with 1 method)"
            ]
          },
          "metadata": {},
          "output_type": "display_data"
        }
      ],
      "source": [
        "function predict_outcome(optimal_model::Dict, X::AbstractArray)\n",
        "    \n",
        "    optimal_coefi = optimal_model[\"optimal_coefi\"]\n",
        "    \n",
        "    y_pred = X * optimal_coefi\n",
        "    \n",
        "    return y_pred\n",
        "end\n"
      ]
    },
    {
      "cell_type": "markdown",
      "metadata": {},
      "source": [
        "# 3.Applying the Lasso Cross-Validation Procedure"
      ]
    },
    {
      "cell_type": "markdown",
      "metadata": {},
      "source": [
        "8. Fit a simple OLS model with the training sample."
      ]
    },
    {
      "cell_type": "code",
      "execution_count": 40,
      "metadata": {},
      "outputs": [
        {
          "data": {
            "text/plain": [
              "LinearModel{GLM.LmResp{Vector{Float64}}, GLM.DensePredChol{Float64, CholeskyPivoted{Float64, Matrix{Float64}, Vector{Int64}}}}:\n",
              "\n",
              "Coefficients:\n",
              "────────────────────────────────────────────────────────────────────────\n",
              "            Coef.   Std. Error       t  Pr(>|t|)   Lower 95%   Upper 95%\n",
              "────────────────────────────────────────────────────────────────────────\n",
              "x1     0.0         NaN          NaN       NaN     NaN         NaN\n",
              "x2    -0.0475345     0.0469315   -1.01    0.3112   -0.139543    0.044474\n",
              "x3     4.6668       13.4214       0.35    0.7281  -21.6456     30.9792\n",
              "x4   -12.09         37.2127      -0.32    0.7453  -85.0449     60.8649\n",
              "x5    11.3644       40.6321       0.28    0.7797  -68.2942     91.0231\n",
              "x6    -3.59178      15.8887      -0.23    0.8212  -34.7412     27.5577\n",
              "x7     0.605615      2.66175      0.23    0.8200   -4.6127      5.82393\n",
              "x8     0.669094      2.74911      0.24    0.8077   -4.72049     6.05868\n",
              "x9     0.761719      2.84548      0.27    0.7889   -4.8168      6.34024\n",
              "x10    0.5493        2.10971      0.26    0.7946   -3.58676     4.68536\n",
              "x11    0.0326236     0.496681     0.07    0.9476   -0.941112    1.00636\n",
              "x12    0.129508      0.481923     0.27    0.7881   -0.815294    1.07431\n",
              "x13    0.070698      0.531812     0.13    0.8942   -0.971912    1.11331\n",
              "x14   -0.195181      0.522211    -0.37    0.7086   -1.21897     0.828604\n",
              "x15   -0.179014      0.419457    -0.43    0.6696   -1.00135     0.643326\n",
              "x16   -3.72824      11.2296      -0.33    0.7399  -25.7436     18.2872\n",
              "x17   -3.31647      10.5529      -0.31    0.7533  -24.0053     17.3724\n",
              "x18   -2.44199       9.38976     -0.26    0.7948  -20.8505     15.9665\n",
              "x19   -1.5252        7.01569     -0.22    0.8279  -15.2793     12.229\n",
              "x20    0.0419294     1.59498      0.03    0.9790   -3.08501     3.16887\n",
              "x21    0.356327      1.59977      0.22    0.8238   -2.77999     3.49264\n",
              "x22   -0.162663      1.64482     -0.10    0.9212   -3.38731     3.06199\n",
              "x23   -1.02847       2.19294     -0.47    0.6391   -5.3277      3.27076\n",
              "x24   -0.758194      2.33813     -0.32    0.7457   -5.34207     3.82568\n",
              "x25    7.47506      24.9273       0.30    0.7643  -41.3945     56.3446\n",
              "x26    5.79951      22.6411       0.26    0.7978  -38.5879     50.1869\n",
              "x27    4.14107      19.4921       0.21    0.8318  -34.0729     42.355\n",
              "x28    2.64584      14.416        0.18    0.8544  -25.6165     30.9082\n",
              "x29    0.137861      5.01752      0.03    0.9781   -9.6989      9.97462\n",
              "x30   -0.551737      4.90417     -0.11    0.9104  -10.1663      9.06281\n",
              "x31    0.816071      5.18015      0.16    0.8748   -9.33952    10.9717\n",
              "x32    2.99713       7.69361      0.39    0.6969  -12.0861     18.0803\n",
              "x33    2.80327       8.15408      0.34    0.7310  -13.1827     18.7892\n",
              "x34   -6.40179      25.0228      -0.26    0.7981  -55.4586     42.655\n",
              "x35   -4.28067      22.0714      -0.19    0.8462  -47.5512     38.9899\n",
              "x36   -2.86692      18.4954      -0.16    0.8768  -39.1269     33.393\n",
              "x37   -2.19602      13.5479      -0.16    0.8712  -28.7565     24.3645\n",
              "x38   -0.45286       6.62096     -0.07    0.9455  -13.4331     12.5274\n",
              "x39    0.239663      6.33645      0.04    0.9698  -12.1828     12.6622\n",
              "x40   -1.23032       6.69983     -0.18    0.8543  -14.3652     11.9046\n",
              "x41   -3.12093      10.4382      -0.30    0.7650  -23.5849     17.343\n",
              "x42   -2.95265      10.8276      -0.27    0.7851  -24.18       18.2747\n",
              "x43    1.9717        9.14378      0.22    0.8293  -15.9545     19.8979\n",
              "x44    1.10601       7.87197      0.14    0.8883  -14.3269     16.5389\n",
              "x45    0.626847      6.45292      0.10    0.9226  -12.024      13.2777\n",
              "x46    0.730601      4.70967      0.16    0.8767   -8.50263     9.96383\n",
              "x47    0.299267      3.04247      0.10    0.9216   -5.66545     6.26398\n",
              "x48    0.0274446     2.84148      0.01    0.9923   -5.54323     5.59812\n",
              "x49    0.608532      3.00605      0.20    0.8396   -5.28478     6.50184\n",
              "x50    1.05961       4.8205       0.22    0.8260   -8.39091    10.5101\n",
              "x51    0.903062      4.9052       0.18    0.8539   -8.7135     10.5196\n",
              "x52    0.0160193     0.203475     0.08    0.9373   -0.382891    0.414929\n",
              "x53   -0.0843388     0.180841    -0.47    0.6410   -0.438875    0.270197\n",
              "x54    0.00685606    0.232535     0.03    0.9765   -0.449024    0.462736\n",
              "x55    0.16088       0.473732     0.34    0.7342   -0.767864    1.08962\n",
              "x56    0.100906      0.320534     0.31    0.7529   -0.527496    0.729308\n",
              "x57    0.0234106     0.214336     0.11    0.9130   -0.396792    0.443613\n",
              "x58   -0.0671492     0.204907    -0.33    0.7431   -0.468866    0.334568\n",
              "x59   -0.0112183     0.224773    -0.05    0.9602   -0.451883    0.429446\n",
              "x60    0.168077      0.441285     0.38    0.7033   -0.697055    1.03321\n",
              "x61    0.141799      0.363941     0.39    0.6968   -0.571701    0.855299\n",
              "x62   -0.00179356    0.236594    -0.01    0.9940   -0.465632    0.462045\n",
              "x63   -0.136466      0.220557    -0.62    0.5361   -0.568865    0.295933\n",
              "x64   -0.0219623     0.283045    -0.08    0.9382   -0.576868    0.532944\n",
              "x65    0.123272      0.359386     0.34    0.7316   -0.581298    0.827842\n",
              "x66    0.110815      0.396354     0.28    0.7798   -0.666231    0.88786\n",
              "x67    0.0483572     0.187385     0.26    0.7964   -0.319009    0.415723\n",
              "x68   -0.0736502     0.16203     -0.45    0.6495   -0.391307    0.244007\n",
              "x69    0.0206757     0.192415     0.11    0.9144   -0.356551    0.397902\n",
              "x70    0.0286327     0.202913     0.14    0.8878   -0.369174    0.42644\n",
              "x71    0.119413      0.352608     0.34    0.7349   -0.571869    0.810695\n",
              "x72   -0.0574388     0.129578    -0.44    0.6576   -0.311474    0.196597\n",
              "x73   -0.0134316     0.156751    -0.09    0.9317   -0.32074     0.293877\n",
              "x74   -0.00771851    0.123461    -0.06    0.9502   -0.249762    0.234325\n",
              "x75   -0.0115947     0.146972    -0.08    0.9371   -0.299732    0.276542\n",
              "x76   -0.0365965     0.127689    -0.29    0.7744   -0.286929    0.213736\n",
              "x77   -0.0390374     0.155239    -0.25    0.8015   -0.343382    0.265307\n",
              "x78    0.08487       0.135755     0.63    0.5319   -0.181275    0.351015\n",
              "────────────────────────────────────────────────────────────────────────\n"
            ]
          },
          "metadata": {},
          "output_type": "display_data"
        }
      ],
      "source": [
        "ols = lm(X_train, y_train)"
      ]
    },
    {
      "cell_type": "markdown",
      "metadata": {},
      "source": []
    },
    {
      "cell_type": "code",
      "execution_count": 41,
      "metadata": {},
      "outputs": [
        {
          "ename": "BoundsError",
          "evalue": "BoundsError: attempt to access 4640×78 Matrix{Float64} at index [4640-element BitVector]",
          "output_type": "error",
          "traceback": [
            "BoundsError: attempt to access 4640×78 Matrix{Float64} at index [4640-element BitVector]\n",
            "\n",
            "Stacktrace:\n",
            " [1] throw_boundserror(A::Matrix{Float64}, I::Tuple{Base.LogicalIndex{Int64, BitVector}})\n",
            "   @ Base ./abstractarray.jl:737\n",
            " [2] checkbounds\n",
            "   @ ./abstractarray.jl:702 [inlined]\n",
            " [3] _getindex\n",
            "   @ ./multidimensional.jl:888 [inlined]\n",
            " [4] getindex(A::Matrix{Float64}, I::BitVector)\n",
            "   @ Base ./abstractarray.jl:1291\n",
            " [5] lasso_cv(X::Vector{Float64}, y::Matrix{Float64}, lambda_bounds::Tuple{Float64, Float64}, k::Int64)\n",
            "   @ Main ~/Documents/GitHub/CausalAI-Course/Labs/Assignment/Assignment_2/group2_assignment2/jl_notebook_cell_df34fa98e69747e1a8f8a730347b8e2f_X30sZmlsZQ==.jl:17\n",
            " [6] top-level scope\n",
            "   @ ~/Documents/GitHub/CausalAI-Course/Labs/Assignment/Assignment_2/group2_assignment2/jl_notebook_cell_df34fa98e69747e1a8f8a730347b8e2f_X40sZmlsZQ==.jl:7"
          ]
        }
      ],
      "source": [
        "using GLMNet\n",
        "# Define the bounds for λ based on the natural log\n",
        "#lambda_bounds = (exp(-7), exp(7))  # Bounds for lambda\n",
        "#k = 5  # Number of folds for cross-validation\n",
        "\n",
        "# Call the lasso_cross_validation function\n",
        "optimal_model = lasso_cv(y_train, X_train, (exp(-7), exp(7)), 5)\n",
        "\n",
        "# Extract and print the optimal lambda and coefficients\n",
        "println(\"Optimal Lambda: \", optimal_model[\"optimal_lambda\"])\n",
        "println(\"Optimal Coefficients: \", optimal_model[\"optimal_coefi\"])"
      ]
    }
  ],
  "metadata": {
    "colab": {
      "provenance": []
    },
    "kernelspec": {
      "display_name": "Julia 1.10.4",
      "language": "julia",
      "name": "julia-1.10"
    },
    "language_info": {
      "file_extension": ".jl",
      "mimetype": "application/julia",
      "name": "julia",
      "version": "1.10.4"
    }
  },
  "nbformat": 4,
  "nbformat_minor": 0
}
