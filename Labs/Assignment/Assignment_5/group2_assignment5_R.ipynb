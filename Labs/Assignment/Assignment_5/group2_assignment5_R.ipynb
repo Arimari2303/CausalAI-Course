{
 "cells": [
  {
   "cell_type": "markdown",
   "metadata": {},
   "source": [
    "# **Assignment 5**\n",
    "\n",
    "#### **Group 2**\n",
    "\n",
    "- GARCIA RODRIGUEZ, EMILIO ALONSO\n",
    "- PADILLA AQUISE, ALESSANDRO PIERO\n",
    "- RIEGA NUÑEZ, GABRIEL ANTONIO FERMIN\n",
    "- SALAMANCA FERNANDEZ, LUCAS PABLO\n",
    "- SILVA ANDUJAR, NICOLAS"
   ]
  },
  {
   "cell_type": "markdown",
   "metadata": {},
   "source": [
    "#### **Part 1: Heterogeneous treatment effects using causal trees and forests**\n",
    "\n",
    "\n",
    "------"
   ]
  },
  {
   "cell_type": "markdown",
   "metadata": {},
   "source": [
    "For this part, we will be using experimental data for computing heterogeneous effects through causal trees and forests. For all exercises, the predictors \n",
    "X\n",
    " are all variables that are not the outcome \n",
    "Y\n",
    " or the treatment \n",
    "D\n",
    ".\n",
    "\n",
    "1.1. **Load the data (1 points)**. This is data for and experiment regarding the National Supported Work Demonstration (NSW) job-training program. You can find the data here, and read a description of the data here. For further details of the experiment and the program, you can use this link"
   ]
  },
  {
   "cell_type": "code",
   "execution_count": 173,
   "metadata": {
    "vscode": {
     "languageId": "r"
    }
   },
   "outputs": [],
   "source": [
    "library(pacman)\n",
    "p_load(ISLR2,fastDummies,rpart,grf,hdm,xtable,glmnet,rio,dplyr,tidyr,tidyverse,tree,caret,ISLR,datasets,ggplot2,car,haven,psych)"
   ]
  },
  {
   "cell_type": "code",
   "execution_count": 174,
   "metadata": {
    "vscode": {
     "languageId": "r"
    }
   },
   "outputs": [
    {
     "data": {
      "text/html": [
       "<table class=\"dataframe\">\n",
       "<caption>A data.frame: 6 × 10</caption>\n",
       "<thead>\n",
       "\t<tr><th></th><th scope=col>treat</th><th scope=col>age</th><th scope=col>educ</th><th scope=col>black</th><th scope=col>hisp</th><th scope=col>marr</th><th scope=col>nodegree</th><th scope=col>re74</th><th scope=col>re75</th><th scope=col>re78</th></tr>\n",
       "\t<tr><th></th><th scope=col>&lt;int&gt;</th><th scope=col>&lt;int&gt;</th><th scope=col>&lt;int&gt;</th><th scope=col>&lt;int&gt;</th><th scope=col>&lt;int&gt;</th><th scope=col>&lt;int&gt;</th><th scope=col>&lt;int&gt;</th><th scope=col>&lt;dbl&gt;</th><th scope=col>&lt;dbl&gt;</th><th scope=col>&lt;dbl&gt;</th></tr>\n",
       "</thead>\n",
       "<tbody>\n",
       "\t<tr><th scope=row>1</th><td>1</td><td>37</td><td>11</td><td>1</td><td>0</td><td>1</td><td>1</td><td>0</td><td>0</td><td> 9930.0459</td></tr>\n",
       "\t<tr><th scope=row>2</th><td>1</td><td>22</td><td> 9</td><td>0</td><td>1</td><td>0</td><td>1</td><td>0</td><td>0</td><td> 3595.8940</td></tr>\n",
       "\t<tr><th scope=row>3</th><td>1</td><td>30</td><td>12</td><td>1</td><td>0</td><td>0</td><td>0</td><td>0</td><td>0</td><td>24909.4492</td></tr>\n",
       "\t<tr><th scope=row>4</th><td>1</td><td>27</td><td>11</td><td>1</td><td>0</td><td>0</td><td>1</td><td>0</td><td>0</td><td> 7506.1460</td></tr>\n",
       "\t<tr><th scope=row>5</th><td>1</td><td>33</td><td> 8</td><td>1</td><td>0</td><td>0</td><td>1</td><td>0</td><td>0</td><td>  289.7899</td></tr>\n",
       "\t<tr><th scope=row>6</th><td>1</td><td>22</td><td> 9</td><td>1</td><td>0</td><td>0</td><td>1</td><td>0</td><td>0</td><td> 4056.4939</td></tr>\n",
       "</tbody>\n",
       "</table>\n"
      ],
      "text/latex": [
       "A data.frame: 6 × 10\n",
       "\\begin{tabular}{r|llllllllll}\n",
       "  & treat & age & educ & black & hisp & marr & nodegree & re74 & re75 & re78\\\\\n",
       "  & <int> & <int> & <int> & <int> & <int> & <int> & <int> & <dbl> & <dbl> & <dbl>\\\\\n",
       "\\hline\n",
       "\t1 & 1 & 37 & 11 & 1 & 0 & 1 & 1 & 0 & 0 &  9930.0459\\\\\n",
       "\t2 & 1 & 22 &  9 & 0 & 1 & 0 & 1 & 0 & 0 &  3595.8940\\\\\n",
       "\t3 & 1 & 30 & 12 & 1 & 0 & 0 & 0 & 0 & 0 & 24909.4492\\\\\n",
       "\t4 & 1 & 27 & 11 & 1 & 0 & 0 & 1 & 0 & 0 &  7506.1460\\\\\n",
       "\t5 & 1 & 33 &  8 & 1 & 0 & 0 & 1 & 0 & 0 &   289.7899\\\\\n",
       "\t6 & 1 & 22 &  9 & 1 & 0 & 0 & 1 & 0 & 0 &  4056.4939\\\\\n",
       "\\end{tabular}\n"
      ],
      "text/markdown": [
       "\n",
       "A data.frame: 6 × 10\n",
       "\n",
       "| <!--/--> | treat &lt;int&gt; | age &lt;int&gt; | educ &lt;int&gt; | black &lt;int&gt; | hisp &lt;int&gt; | marr &lt;int&gt; | nodegree &lt;int&gt; | re74 &lt;dbl&gt; | re75 &lt;dbl&gt; | re78 &lt;dbl&gt; |\n",
       "|---|---|---|---|---|---|---|---|---|---|---|\n",
       "| 1 | 1 | 37 | 11 | 1 | 0 | 1 | 1 | 0 | 0 |  9930.0459 |\n",
       "| 2 | 1 | 22 |  9 | 0 | 1 | 0 | 1 | 0 | 0 |  3595.8940 |\n",
       "| 3 | 1 | 30 | 12 | 1 | 0 | 0 | 0 | 0 | 0 | 24909.4492 |\n",
       "| 4 | 1 | 27 | 11 | 1 | 0 | 0 | 1 | 0 | 0 |  7506.1460 |\n",
       "| 5 | 1 | 33 |  8 | 1 | 0 | 0 | 1 | 0 | 0 |   289.7899 |\n",
       "| 6 | 1 | 22 |  9 | 1 | 0 | 0 | 1 | 0 | 0 |  4056.4939 |\n",
       "\n"
      ],
      "text/plain": [
       "  treat age educ black hisp marr nodegree re74 re75 re78      \n",
       "1 1     37  11   1     0    1    1        0    0     9930.0459\n",
       "2 1     22   9   0     1    0    1        0    0     3595.8940\n",
       "3 1     30  12   1     0    0    0        0    0    24909.4492\n",
       "4 1     27  11   1     0    0    1        0    0     7506.1460\n",
       "5 1     33   8   1     0    0    1        0    0      289.7899\n",
       "6 1     22   9   1     0    0    1        0    0     4056.4939"
      ]
     },
     "metadata": {},
     "output_type": "display_data"
    }
   ],
   "source": [
    "url <- \"https://raw.githubusercontent.com/d2cml-ai/CausalAI-Course/refs/heads/main/Labs/Assignment/Assignment_5/data/experimental/experimental_control.csv\"\n",
    "data <- import(url)\n",
    "head(data)"
   ]
  },
  {
   "cell_type": "code",
   "execution_count": 175,
   "metadata": {
    "vscode": {
     "languageId": "r"
    }
   },
   "outputs": [
    {
     "data": {
      "text/plain": [
       "\n",
       "  0   1 \n",
       "260 185 "
      ]
     },
     "metadata": {},
     "output_type": "display_data"
    }
   ],
   "source": [
    "table(data$treat) #con esto en mente, haremos 20 divisiones"
   ]
  },
  {
   "cell_type": "markdown",
   "metadata": {},
   "source": [
    "1.2. **Find the ATE (1.5 points)**. With re78 as the outcome variable of interest, find the Average Treatment Effect of participation in the program. Specifically, you should find it by calculating the difference between the means of the treatment group and the control group (the Simple Difference of Means or SDM). What can you say about the program?"
   ]
  },
  {
   "cell_type": "code",
   "execution_count": 176,
   "metadata": {
    "vscode": {
     "languageId": "r"
    }
   },
   "outputs": [
    {
     "data": {
      "text/html": [
       "<table class=\"dataframe\">\n",
       "<caption>A matrix: 2 × 4 of type dbl</caption>\n",
       "<thead>\n",
       "\t<tr><th></th><th scope=col>Estimate</th><th scope=col>Std. Error</th><th scope=col>t value</th><th scope=col>Pr(&gt;|t|)</th></tr>\n",
       "</thead>\n",
       "<tbody>\n",
       "\t<tr><th scope=row>(Intercept)</th><td>4554.801</td><td>408.0459</td><td>11.162474</td><td>1.154114e-25</td></tr>\n",
       "\t<tr><th scope=row>treat</th><td>1794.342</td><td>632.8534</td><td> 2.835321</td><td>4.787530e-03</td></tr>\n",
       "</tbody>\n",
       "</table>\n"
      ],
      "text/latex": [
       "A matrix: 2 × 4 of type dbl\n",
       "\\begin{tabular}{r|llll}\n",
       "  & Estimate & Std. Error & t value & Pr(>\\textbar{}t\\textbar{})\\\\\n",
       "\\hline\n",
       "\t(Intercept) & 4554.801 & 408.0459 & 11.162474 & 1.154114e-25\\\\\n",
       "\ttreat & 1794.342 & 632.8534 &  2.835321 & 4.787530e-03\\\\\n",
       "\\end{tabular}\n"
      ],
      "text/markdown": [
       "\n",
       "A matrix: 2 × 4 of type dbl\n",
       "\n",
       "| <!--/--> | Estimate | Std. Error | t value | Pr(&gt;|t|) |\n",
       "|---|---|---|---|---|\n",
       "| (Intercept) | 4554.801 | 408.0459 | 11.162474 | 1.154114e-25 |\n",
       "| treat | 1794.342 | 632.8534 |  2.835321 | 4.787530e-03 |\n",
       "\n"
      ],
      "text/plain": [
       "            Estimate Std. Error t value   Pr(>|t|)    \n",
       "(Intercept) 4554.801 408.0459   11.162474 1.154114e-25\n",
       "treat       1794.342 632.8534    2.835321 4.787530e-03"
      ]
     },
     "metadata": {},
     "output_type": "display_data"
    }
   ],
   "source": [
    "model <- lm(re78 ~ treat, data=data)\n",
    "\n",
    "summary(model)$coefficients"
   ]
  },
  {
   "cell_type": "markdown",
   "metadata": {},
   "source": [
    "The program appears to have had a possitive and statistically significant impact on participants' earnings in 1978, with an ATE of $1794.34. This suggests that participants earned more than non-participants on average."
   ]
  },
  {
   "cell_type": "markdown",
   "metadata": {},
   "source": [
    "1.3. **Heterogeneous effects with causal trees (3 points)**. Use causal trees like we saw in class. For Python, you should use the econml package; for R, use the grf package; and for Julia, you will need to create the auxiliary variable \n",
    "Y\n",
    "∗\n",
    " and fit a decision tree regressor. Report the splits the tree finds and interpret them."
   ]
  },
  {
   "cell_type": "code",
   "execution_count": 177,
   "metadata": {
    "vscode": {
     "languageId": "r"
    }
   },
   "outputs": [
    {
     "name": "stdout",
     "output_type": "stream",
     "text": [
      "'data.frame':\t445 obs. of  10 variables:\n",
      " $ treat   : int  1 1 1 1 1 1 1 1 1 1 ...\n",
      " $ age     : int  37 22 30 27 33 22 23 32 22 33 ...\n",
      " $ educ    : int  11 9 12 11 8 9 12 11 16 12 ...\n",
      " $ black   : int  1 0 1 1 1 1 1 1 1 0 ...\n",
      " $ hisp    : int  0 1 0 0 0 0 0 0 0 0 ...\n",
      " $ marr    : int  1 0 0 0 0 0 0 0 0 1 ...\n",
      " $ nodegree: int  1 1 0 1 1 1 0 1 0 0 ...\n",
      " $ re74    : num  0 0 0 0 0 0 0 0 0 0 ...\n",
      " $ re75    : num  0 0 0 0 0 0 0 0 0 0 ...\n",
      " $ re78    : num  9930 3596 24909 7506 290 ...\n"
     ]
    }
   ],
   "source": [
    "#We check data structure to be sure we don't have to recode something\n",
    "str(data)\n",
    "data$black <- as.factor(data$black)\n",
    "data$hisp <- as.factor(data$hisp)\n",
    "data$marr <- as.factor(data$marr)\n",
    "data$nodegree <- as.factor(data$nodegree)\n"
   ]
  },
  {
   "cell_type": "code",
   "execution_count": 178,
   "metadata": {
    "vscode": {
     "languageId": "r"
    }
   },
   "outputs": [],
   "source": [
    "data_dummy <- fastDummies::dummy_cols(data, \n",
    "                                      select_columns = c(\"black\", \"hisp\", \"marr\",\"nodegree\"), \n",
    "                                      remove_first_dummy = TRUE, \n",
    "                                      remove_selected_columns = TRUE)\n",
    "\n",
    "X <- data_dummy[, c(\"age\", \"educ\", \"black_1\", \"hisp_1\", \"marr_1\",\"nodegree_1\")]\n",
    "\n"
   ]
  },
  {
   "cell_type": "code",
   "execution_count": 179,
   "metadata": {
    "vscode": {
     "languageId": "r"
    }
   },
   "outputs": [
    {
     "name": "stderr",
     "output_type": "stream",
     "text": [
      "Warning message:\n",
      "\"\u001b[1m\u001b[22mRemoved 4 rows containing missing values or values outside the scale range\n",
      "(`geom_bar()`).\"\n"
     ]
    },
    {
     "data": {
      "image/png": "[encoded data removed]",
      "text/plain": [
       "plot without title"
      ]
     },
     "metadata": {
      "image/png": {
       "height": 420,
       "width": 420
      }
     },
     "output_type": "display_data"
    }
   ],
   "source": [
    "\n",
    "logistic_model <- glm(treat ~ age + educ + black_1 + hisp_1 + marr_1, \n",
    "                      data = data_dummy, \n",
    "                      family = binomial)\n",
    "\n",
    "data_dummy$pscore <- predict(logistic_model, data_dummy, type = \"response\")\n",
    "\n",
    "ggplot(data_dummy, aes(x = pscore, fill = as.factor(treat))) +\n",
    "  geom_histogram(binwidth = 0.05, position = \"identity\", alpha = 0.7) +\n",
    "  labs(\n",
    "    title = \"Predicted Propensity Scores\",\n",
    "    x = \"Propensity Score\",\n",
    "    fill = \"Treatment\"\n",
    "  ) +\n",
    "  xlim(0, 1)\n"
   ]
  },
  {
   "cell_type": "code",
   "execution_count": 180,
   "metadata": {
    "vscode": {
     "languageId": "r"
    }
   },
   "outputs": [],
   "source": [
    "W <- data_dummy$treat\n",
    "Y <- data_dummy$re78"
   ]
  },
  {
   "cell_type": "code",
   "execution_count": 181,
   "metadata": {
    "vscode": {
     "languageId": "r"
    }
   },
   "outputs": [
    {
     "name": "stdout",
     "output_type": "stream",
     "text": [
      "GRF tree object \n",
      "Number of training samples: 222 \n",
      "Variable splits: \n",
      "(1) split_variable: age  split_value: 22 \n",
      "  (2) * num_samples: 40  avg_Y: 5523.98 avg_W: 0.35 \n",
      "  (3) * num_samples: 71  avg_Y: 5751.7 avg_W: 0.48 \n"
     ]
    }
   ],
   "source": [
    "tree_model <- causal_forest(X, Y, W, num.trees = 1, mtry = ncol(X), min.node.size = 20)\n",
    "\n",
    "tree_structure <- get_tree(tree_model, 1)\n",
    "print(tree_structure)"
   ]
  },
  {
   "cell_type": "markdown",
   "metadata": {},
   "source": [
    "Interpretación:"
   ]
  },
  {
   "cell_type": "markdown",
   "metadata": {},
   "source": [
    "1.4. **Heterogeneous effects with causal forests (3 points)**. Use causal forests like we saw in class. For Python, you should use the econml package; for R, use the grf package; and for Julia, you will need to use the auxiliary variable \n",
    "Y\n",
    "∗\n",
    " computed in the previous exercise and fit a random forest regressor. Report the importance of the prediction variables"
   ]
  },
  {
   "cell_type": "code",
   "execution_count": 195,
   "metadata": {
    "vscode": {
     "languageId": "r"
    }
   },
   "outputs": [
    {
     "data": {
      "text/plain": [
       "GRF tree object \n",
       "Number of training samples: 222 \n",
       "Variable splits: \n",
       "(1) split_variable: age  split_value: 24 \n",
       "  (2) * num_samples: 55  avg_Y: 4849.58 avg_W: 0.38 \n",
       "  (3) * num_samples: 56  avg_Y: 5137.78 avg_W: 0.36 "
      ]
     },
     "metadata": {},
     "output_type": "display_data"
    }
   ],
   "source": [
    "forest_model <- causal_forest(X, Y, W, \n",
    "                              num.trees = 1000,  \n",
    "                              mtry = ncol(X),    \n",
    "                              min.node.size = 20)\n",
    "tree <- get_tree(forest_model,1)\n",
    "tree"
   ]
  },
  {
   "cell_type": "code",
   "execution_count": 196,
   "metadata": {
    "vscode": {
     "languageId": "r"
    }
   },
   "outputs": [
    {
     "name": "stdout",
     "output_type": "stream",
     "text": [
      "    variable importance\n",
      "1        age  0.4524639\n",
      "2       educ  0.2499751\n",
      "3    black_1  0.0000000\n",
      "4     hisp_1  0.0000000\n",
      "5     marr_1  0.0000000\n",
      "6 nodegree_1  0.0000000\n"
     ]
    }
   ],
   "source": [
    "varimp <- variable_importance(forest_model)\n",
    "\n",
    "ranked.vars <- order(varimp, decreasing = TRUE)\n",
    "\n",
    "importances <- data.frame(\n",
    "  variable = colnames(X)[ranked.vars],\n",
    "  importance = varimp[ranked.vars]\n",
    ")\n",
    "\n",
    "print(importances)\n"
   ]
  },
  {
   "cell_type": "markdown",
   "metadata": {},
   "source": [
    "1.5. **Plot heterogeneous effects (1.5 points)**. Plot how the predicted treatment effect changes depending on a variable of your choice. (You can see the last example in PD11 for clarification of what you should do in this exercise)"
   ]
  },
  {
   "cell_type": "code",
   "execution_count": 185,
   "metadata": {
    "vscode": {
     "languageId": "r"
    }
   },
   "outputs": [],
   "source": [
    "data_dummy$age_bins <- round(data_dummy$age * 2) / 2\n"
   ]
  },
  {
   "cell_type": "code",
   "execution_count": 186,
   "metadata": {
    "vscode": {
     "languageId": "r"
    }
   },
   "outputs": [],
   "source": [
    "effects_bins <- aggregate(effects ~ age_bins, data = data_dummy, mean)"
   ]
  },
  {
   "cell_type": "code",
   "execution_count": 187,
   "metadata": {
    "vscode": {
     "languageId": "r"
    }
   },
   "outputs": [],
   "source": [
    "data_dummy$predicted_effects <- predict(cf)$predictions\n",
    "\n",
    "predicted_effects_bins <- aggregate(predicted_effects ~ age_bins, data = data_dummy, mean)\n"
   ]
  },
  {
   "cell_type": "code",
   "execution_count": 188,
   "metadata": {
    "vscode": {
     "languageId": "r"
    }
   },
   "outputs": [],
   "source": [
    "# Escalar los efectos predichos al rango de los efectos reales\n",
    "scale_factor <- mean(data_dummy$effects) / mean(data_dummy$predicted_effects)\n",
    "data_dummy$predicted_effects_scaled <- data_dummy$predicted_effects * scale_factor\n"
   ]
  },
  {
   "cell_type": "code",
   "execution_count": 189,
   "metadata": {
    "vscode": {
     "languageId": "r"
    }
   },
   "outputs": [
    {
     "data": {
      "image/png": "[encoded data removed]",
      "text/plain": [
       "Plot with title \"Actual vs Predicted Effects by Age (Scaled)\""
      ]
     },
     "metadata": {
      "image/png": {
       "height": 420,
       "width": 420
      }
     },
     "output_type": "display_data"
    }
   ],
   "source": [
    "# Agrupar los efectos predichos escalados\n",
    "predicted_effects_bins <- aggregate(predicted_effects_scaled ~ age_bins, data = data_dummy, mean)\n",
    "\n",
    "# Graficar efectos reales vs. predichos escalados\n",
    "plot(effects_bins$age_bins, effects_bins$effects, type = \"l\", col = \"blue\",\n",
    "     xlab = \"Age Bins\", ylab = \"Effects\", main = \"Actual vs Predicted Effects by Age (Scaled)\")\n",
    "lines(predicted_effects_bins$age_bins, predicted_effects_bins$predicted_effects_scaled, col = \"red\")\n",
    "legend(\"topright\", legend = c(\"Actual Effects\", \"Predicted Effects (Scaled)\"), col = c(\"blue\", \"red\"), lty = 1)\n"
   ]
  },
  {
   "cell_type": "code",
   "execution_count": 190,
   "metadata": {
    "vscode": {
     "languageId": "r"
    }
   },
   "outputs": [
    {
     "data": {
      "text/html": [
       "<table class=\"dataframe\">\n",
       "<caption>A data.frame: 6 × 2</caption>\n",
       "<thead>\n",
       "\t<tr><th></th><th scope=col>age_bins</th><th scope=col>effects</th></tr>\n",
       "\t<tr><th></th><th scope=col>&lt;dbl&gt;</th><th scope=col>&lt;dbl&gt;</th></tr>\n",
       "</thead>\n",
       "<tbody>\n",
       "\t<tr><th scope=row>1</th><td>17</td><td>329.3035</td></tr>\n",
       "\t<tr><th scope=row>2</th><td>18</td><td>336.5385</td></tr>\n",
       "\t<tr><th scope=row>3</th><td>19</td><td>349.1520</td></tr>\n",
       "\t<tr><th scope=row>4</th><td>20</td><td>349.7553</td></tr>\n",
       "\t<tr><th scope=row>5</th><td>21</td><td>351.8699</td></tr>\n",
       "\t<tr><th scope=row>6</th><td>22</td><td>358.5390</td></tr>\n",
       "</tbody>\n",
       "</table>\n"
      ],
      "text/latex": [
       "A data.frame: 6 × 2\n",
       "\\begin{tabular}{r|ll}\n",
       "  & age\\_bins & effects\\\\\n",
       "  & <dbl> & <dbl>\\\\\n",
       "\\hline\n",
       "\t1 & 17 & 329.3035\\\\\n",
       "\t2 & 18 & 336.5385\\\\\n",
       "\t3 & 19 & 349.1520\\\\\n",
       "\t4 & 20 & 349.7553\\\\\n",
       "\t5 & 21 & 351.8699\\\\\n",
       "\t6 & 22 & 358.5390\\\\\n",
       "\\end{tabular}\n"
      ],
      "text/markdown": [
       "\n",
       "A data.frame: 6 × 2\n",
       "\n",
       "| <!--/--> | age_bins &lt;dbl&gt; | effects &lt;dbl&gt; |\n",
       "|---|---|---|\n",
       "| 1 | 17 | 329.3035 |\n",
       "| 2 | 18 | 336.5385 |\n",
       "| 3 | 19 | 349.1520 |\n",
       "| 4 | 20 | 349.7553 |\n",
       "| 5 | 21 | 351.8699 |\n",
       "| 6 | 22 | 358.5390 |\n",
       "\n"
      ],
      "text/plain": [
       "  age_bins effects \n",
       "1 17       329.3035\n",
       "2 18       336.5385\n",
       "3 19       349.1520\n",
       "4 20       349.7553\n",
       "5 21       351.8699\n",
       "6 22       358.5390"
      ]
     },
     "metadata": {},
     "output_type": "display_data"
    },
    {
     "data": {
      "text/html": [
       "<table class=\"dataframe\">\n",
       "<caption>A data.frame: 6 × 2</caption>\n",
       "<thead>\n",
       "\t<tr><th></th><th scope=col>age_bins</th><th scope=col>predicted_effects_scaled</th></tr>\n",
       "\t<tr><th></th><th scope=col>&lt;dbl&gt;</th><th scope=col>&lt;dbl&gt;</th></tr>\n",
       "</thead>\n",
       "<tbody>\n",
       "\t<tr><th scope=row>1</th><td>17</td><td>149.4625</td></tr>\n",
       "\t<tr><th scope=row>2</th><td>18</td><td>159.9459</td></tr>\n",
       "\t<tr><th scope=row>3</th><td>19</td><td>178.3803</td></tr>\n",
       "\t<tr><th scope=row>4</th><td>20</td><td>157.8926</td></tr>\n",
       "\t<tr><th scope=row>5</th><td>21</td><td>125.2819</td></tr>\n",
       "\t<tr><th scope=row>6</th><td>22</td><td>167.4895</td></tr>\n",
       "</tbody>\n",
       "</table>\n"
      ],
      "text/latex": [
       "A data.frame: 6 × 2\n",
       "\\begin{tabular}{r|ll}\n",
       "  & age\\_bins & predicted\\_effects\\_scaled\\\\\n",
       "  & <dbl> & <dbl>\\\\\n",
       "\\hline\n",
       "\t1 & 17 & 149.4625\\\\\n",
       "\t2 & 18 & 159.9459\\\\\n",
       "\t3 & 19 & 178.3803\\\\\n",
       "\t4 & 20 & 157.8926\\\\\n",
       "\t5 & 21 & 125.2819\\\\\n",
       "\t6 & 22 & 167.4895\\\\\n",
       "\\end{tabular}\n"
      ],
      "text/markdown": [
       "\n",
       "A data.frame: 6 × 2\n",
       "\n",
       "| <!--/--> | age_bins &lt;dbl&gt; | predicted_effects_scaled &lt;dbl&gt; |\n",
       "|---|---|---|\n",
       "| 1 | 17 | 149.4625 |\n",
       "| 2 | 18 | 159.9459 |\n",
       "| 3 | 19 | 178.3803 |\n",
       "| 4 | 20 | 157.8926 |\n",
       "| 5 | 21 | 125.2819 |\n",
       "| 6 | 22 | 167.4895 |\n",
       "\n"
      ],
      "text/plain": [
       "  age_bins predicted_effects_scaled\n",
       "1 17       149.4625                \n",
       "2 18       159.9459                \n",
       "3 19       178.3803                \n",
       "4 20       157.8926                \n",
       "5 21       125.2819                \n",
       "6 22       167.4895                "
      ]
     },
     "metadata": {},
     "output_type": "display_data"
    },
    {
     "data": {
      "text/plain": [
       "   Min. 1st Qu.  Median    Mean 3rd Qu.    Max. \n",
       "   65.0   280.8   311.2   298.9   341.4   358.5 "
      ]
     },
     "metadata": {},
     "output_type": "display_data"
    },
    {
     "data": {
      "text/plain": [
       "   Min. 1st Qu.  Median    Mean 3rd Qu.    Max. \n",
       "  125.3   245.5   436.2   392.4   507.4   619.7 "
      ]
     },
     "metadata": {},
     "output_type": "display_data"
    }
   ],
   "source": [
    "# Ver los primeros valores de cada agrupación\n",
    "head(effects_bins)\n",
    "head(predicted_effects_bins)\n",
    "\n",
    "# Resumen estadístico de los efectos\n",
    "summary(effects_bins$effects)\n",
    "summary(predicted_effects_bins$predicted_effects)\n"
   ]
  }
 ],
 "metadata": {
  "kernelspec": {
   "display_name": "R",
   "language": "R",
   "name": "ir"
  },
  "language_info": {
   "codemirror_mode": "r",
   "file_extension": ".r",
   "mimetype": "text/x-r-source",
   "name": "R",
   "pygments_lexer": "r",
   "version": "4.3.3"
  }
 },
 "nbformat": 4,
 "nbformat_minor": 2
}
