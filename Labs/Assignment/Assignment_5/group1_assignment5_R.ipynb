{
 "cells": [
  {
   "cell_type": "markdown",
   "metadata": {},
   "source": [
    "# Part 1: Heterogeneous treatment effects using causal trees and forests\n",
    "For this part, we will be using experimental data for computing heterogeneous effects through causal trees and forests. For all exercises, the predictors $X$ are all variables that are not the outcome $Y$ or the treatment $D$."
   ]
  },
  {
   "cell_type": "markdown",
   "metadata": {},
   "source": [
    "### 1.1. Load the data (1 points). \n",
    "This is data for and experiment regarding the National Supported Work Demonstration (NSW) job-training program. You can find the data here, and read a description of the data here. For further details of the experiment and the program, you can use this link"
   ]
  },
  {
   "cell_type": "code",
   "execution_count": 105,
   "metadata": {
    "vscode": {
     "languageId": "r"
    }
   },
   "outputs": [
    {
     "data": {
      "text/html": [
       "<table class=\"dataframe\">\n",
       "<caption>A data.frame: 445 x 10</caption>\n",
       "<thead>\n",
       "\t<tr><th scope=col>treat</th><th scope=col>age</th><th scope=col>educ</th><th scope=col>black</th><th scope=col>hisp</th><th scope=col>marr</th><th scope=col>nodegree</th><th scope=col>re74</th><th scope=col>re75</th><th scope=col>re78</th></tr>\n",
       "\t<tr><th scope=col>&lt;int&gt;</th><th scope=col>&lt;int&gt;</th><th scope=col>&lt;int&gt;</th><th scope=col>&lt;int&gt;</th><th scope=col>&lt;int&gt;</th><th scope=col>&lt;int&gt;</th><th scope=col>&lt;int&gt;</th><th scope=col>&lt;dbl&gt;</th><th scope=col>&lt;dbl&gt;</th><th scope=col>&lt;dbl&gt;</th></tr>\n",
       "</thead>\n",
       "<tbody>\n",
       "\t<tr><td>1</td><td>37</td><td>11</td><td>1</td><td>0</td><td>1</td><td>1</td><td>0</td><td>0</td><td> 9930.0459</td></tr>\n",
       "\t<tr><td>1</td><td>22</td><td> 9</td><td>0</td><td>1</td><td>0</td><td>1</td><td>0</td><td>0</td><td> 3595.8940</td></tr>\n",
       "\t<tr><td>1</td><td>30</td><td>12</td><td>1</td><td>0</td><td>0</td><td>0</td><td>0</td><td>0</td><td>24909.4492</td></tr>\n",
       "\t<tr><td>1</td><td>27</td><td>11</td><td>1</td><td>0</td><td>0</td><td>1</td><td>0</td><td>0</td><td> 7506.1460</td></tr>\n",
       "\t<tr><td>1</td><td>33</td><td> 8</td><td>1</td><td>0</td><td>0</td><td>1</td><td>0</td><td>0</td><td>  289.7899</td></tr>\n",
       "\t<tr><td>1</td><td>22</td><td> 9</td><td>1</td><td>0</td><td>0</td><td>1</td><td>0</td><td>0</td><td> 4056.4939</td></tr>\n",
       "\t<tr><td>1</td><td>23</td><td>12</td><td>1</td><td>0</td><td>0</td><td>0</td><td>0</td><td>0</td><td>    0.0000</td></tr>\n",
       "\t<tr><td>1</td><td>32</td><td>11</td><td>1</td><td>0</td><td>0</td><td>1</td><td>0</td><td>0</td><td> 8472.1582</td></tr>\n",
       "\t<tr><td>1</td><td>22</td><td>16</td><td>1</td><td>0</td><td>0</td><td>0</td><td>0</td><td>0</td><td> 2164.0220</td></tr>\n",
       "\t<tr><td>1</td><td>33</td><td>12</td><td>0</td><td>0</td><td>1</td><td>0</td><td>0</td><td>0</td><td>12418.0703</td></tr>\n",
       "\t<tr><td>1</td><td>19</td><td> 9</td><td>1</td><td>0</td><td>0</td><td>1</td><td>0</td><td>0</td><td> 8173.9082</td></tr>\n",
       "\t<tr><td>1</td><td>21</td><td>13</td><td>1</td><td>0</td><td>0</td><td>0</td><td>0</td><td>0</td><td>17094.6406</td></tr>\n",
       "\t<tr><td>1</td><td>18</td><td> 8</td><td>1</td><td>0</td><td>0</td><td>1</td><td>0</td><td>0</td><td>    0.0000</td></tr>\n",
       "\t<tr><td>1</td><td>27</td><td>10</td><td>1</td><td>0</td><td>1</td><td>1</td><td>0</td><td>0</td><td>18739.9297</td></tr>\n",
       "\t<tr><td>1</td><td>17</td><td> 7</td><td>1</td><td>0</td><td>0</td><td>1</td><td>0</td><td>0</td><td> 3023.8789</td></tr>\n",
       "\t<tr><td>1</td><td>19</td><td>10</td><td>1</td><td>0</td><td>0</td><td>1</td><td>0</td><td>0</td><td> 3228.5029</td></tr>\n",
       "\t<tr><td>1</td><td>27</td><td>13</td><td>1</td><td>0</td><td>0</td><td>0</td><td>0</td><td>0</td><td>14581.8604</td></tr>\n",
       "\t<tr><td>1</td><td>23</td><td>10</td><td>1</td><td>0</td><td>0</td><td>1</td><td>0</td><td>0</td><td> 7693.3999</td></tr>\n",
       "\t<tr><td>1</td><td>40</td><td>12</td><td>1</td><td>0</td><td>0</td><td>0</td><td>0</td><td>0</td><td>10804.3203</td></tr>\n",
       "\t<tr><td>1</td><td>26</td><td>12</td><td>1</td><td>0</td><td>0</td><td>0</td><td>0</td><td>0</td><td>10747.3496</td></tr>\n",
       "\t<tr><td>1</td><td>23</td><td>11</td><td>1</td><td>0</td><td>0</td><td>1</td><td>0</td><td>0</td><td>    0.0000</td></tr>\n",
       "\t<tr><td>1</td><td>41</td><td>14</td><td>0</td><td>0</td><td>0</td><td>0</td><td>0</td><td>0</td><td> 5149.5010</td></tr>\n",
       "\t<tr><td>1</td><td>38</td><td> 9</td><td>0</td><td>0</td><td>0</td><td>1</td><td>0</td><td>0</td><td> 6408.9502</td></tr>\n",
       "\t<tr><td>1</td><td>24</td><td>11</td><td>1</td><td>0</td><td>0</td><td>1</td><td>0</td><td>0</td><td> 1991.4000</td></tr>\n",
       "\t<tr><td>1</td><td>18</td><td>10</td><td>1</td><td>0</td><td>0</td><td>1</td><td>0</td><td>0</td><td>11163.1699</td></tr>\n",
       "\t<tr><td>1</td><td>29</td><td>11</td><td>1</td><td>0</td><td>1</td><td>1</td><td>0</td><td>0</td><td> 9642.9990</td></tr>\n",
       "\t<tr><td>1</td><td>25</td><td>11</td><td>1</td><td>0</td><td>0</td><td>1</td><td>0</td><td>0</td><td> 9897.0488</td></tr>\n",
       "\t<tr><td>1</td><td>27</td><td>10</td><td>0</td><td>1</td><td>0</td><td>1</td><td>0</td><td>0</td><td>11142.8701</td></tr>\n",
       "\t<tr><td>1</td><td>17</td><td>10</td><td>1</td><td>0</td><td>0</td><td>1</td><td>0</td><td>0</td><td>16218.0400</td></tr>\n",
       "\t<tr><td>1</td><td>24</td><td>11</td><td>1</td><td>0</td><td>0</td><td>1</td><td>0</td><td>0</td><td>  995.7002</td></tr>\n",
       "\t<tr><td>...</td><td>...</td><td>...</td><td>...</td><td>...</td><td>...</td><td>...</td><td>...</td><td>...</td><td>...</td></tr>\n",
       "\t<tr><td>0</td><td>17</td><td>11</td><td>1</td><td>0</td><td>0</td><td>1</td><td> 4080.7300</td><td> 3796.029</td><td>    0.0000</td></tr>\n",
       "\t<tr><td>0</td><td>43</td><td>10</td><td>1</td><td>0</td><td>0</td><td>1</td><td> 2502.8679</td><td> 4128.443</td><td> 7565.2729</td></tr>\n",
       "\t<tr><td>0</td><td>26</td><td>11</td><td>1</td><td>0</td><td>1</td><td>1</td><td>    0.0000</td><td> 4184.732</td><td>    0.0000</td></tr>\n",
       "\t<tr><td>0</td><td>27</td><td>11</td><td>1</td><td>0</td><td>1</td><td>1</td><td>    0.0000</td><td> 4491.884</td><td>    0.0000</td></tr>\n",
       "\t<tr><td>0</td><td>19</td><td>11</td><td>1</td><td>0</td><td>0</td><td>1</td><td> 6337.4922</td><td> 4503.064</td><td>    0.0000</td></tr>\n",
       "\t<tr><td>0</td><td>28</td><td>11</td><td>1</td><td>0</td><td>1</td><td>1</td><td> 8593.1631</td><td> 5393.895</td><td> 4974.5859</td></tr>\n",
       "\t<tr><td>0</td><td>28</td><td>12</td><td>1</td><td>0</td><td>1</td><td>0</td><td>10585.1299</td><td> 5551.456</td><td>12780.0195</td></tr>\n",
       "\t<tr><td>0</td><td>26</td><td> 8</td><td>1</td><td>0</td><td>0</td><td>1</td><td> 1126.2900</td><td> 5562.598</td><td> 3523.5779</td></tr>\n",
       "\t<tr><td>0</td><td>31</td><td>12</td><td>1</td><td>0</td><td>0</td><td>0</td><td>    0.0000</td><td> 5613.909</td><td>    0.0000</td></tr>\n",
       "\t<tr><td>0</td><td>23</td><td>11</td><td>1</td><td>0</td><td>0</td><td>1</td><td> 7617.3618</td><td> 5716.407</td><td>10274.8398</td></tr>\n",
       "\t<tr><td>0</td><td>20</td><td>12</td><td>1</td><td>0</td><td>0</td><td>0</td><td> 7182.4922</td><td> 6004.728</td><td> 4779.7202</td></tr>\n",
       "\t<tr><td>0</td><td>28</td><td>10</td><td>1</td><td>0</td><td>1</td><td>1</td><td> 8293.3447</td><td> 6449.480</td><td>16988.1797</td></tr>\n",
       "\t<tr><td>0</td><td>39</td><td>12</td><td>1</td><td>0</td><td>1</td><td>0</td><td>19785.3203</td><td> 6608.137</td><td>  499.2572</td></tr>\n",
       "\t<tr><td>0</td><td>21</td><td> 8</td><td>1</td><td>0</td><td>0</td><td>1</td><td>39570.6797</td><td> 6608.304</td><td> 3083.5811</td></tr>\n",
       "\t<tr><td>0</td><td>22</td><td>11</td><td>1</td><td>0</td><td>0</td><td>1</td><td> 8810.0674</td><td> 6974.484</td><td> 3708.7190</td></tr>\n",
       "\t<tr><td>0</td><td>20</td><td>11</td><td>1</td><td>0</td><td>0</td><td>1</td><td> 8009.1641</td><td> 7666.875</td><td> 7659.2178</td></tr>\n",
       "\t<tr><td>0</td><td>21</td><td>11</td><td>0</td><td>1</td><td>0</td><td>1</td><td> 2992.5339</td><td> 8920.471</td><td>20857.8398</td></tr>\n",
       "\t<tr><td>0</td><td>23</td><td>12</td><td>0</td><td>1</td><td>0</td><td>0</td><td> 5721.6958</td><td> 8960.684</td><td> 7078.1782</td></tr>\n",
       "\t<tr><td>0</td><td>29</td><td> 9</td><td>1</td><td>0</td><td>0</td><td>1</td><td> 9268.9434</td><td> 9160.693</td><td>    0.0000</td></tr>\n",
       "\t<tr><td>0</td><td>28</td><td> 9</td><td>1</td><td>0</td><td>1</td><td>1</td><td>10222.4102</td><td> 9210.447</td><td> 1239.8440</td></tr>\n",
       "\t<tr><td>0</td><td>30</td><td>11</td><td>1</td><td>0</td><td>1</td><td>1</td><td>    0.0000</td><td> 9311.938</td><td> 3982.8010</td></tr>\n",
       "\t<tr><td>0</td><td>25</td><td>10</td><td>1</td><td>0</td><td>1</td><td>1</td><td>13519.9697</td><td> 9319.444</td><td>    0.0000</td></tr>\n",
       "\t<tr><td>0</td><td>28</td><td>11</td><td>1</td><td>0</td><td>1</td><td>1</td><td>  824.3889</td><td>10033.910</td><td>    0.0000</td></tr>\n",
       "\t<tr><td>0</td><td>22</td><td>10</td><td>0</td><td>0</td><td>0</td><td>1</td><td>27864.3594</td><td>10598.670</td><td> 7094.9199</td></tr>\n",
       "\t<tr><td>0</td><td>44</td><td> 9</td><td>1</td><td>0</td><td>1</td><td>1</td><td>12260.7803</td><td>10857.240</td><td>12359.3096</td></tr>\n",
       "\t<tr><td>0</td><td>21</td><td> 9</td><td>1</td><td>0</td><td>0</td><td>1</td><td>31886.4297</td><td>12357.220</td><td>    0.0000</td></tr>\n",
       "\t<tr><td>0</td><td>28</td><td>11</td><td>1</td><td>0</td><td>0</td><td>1</td><td>17491.4492</td><td>13371.250</td><td>    0.0000</td></tr>\n",
       "\t<tr><td>0</td><td>29</td><td> 9</td><td>0</td><td>1</td><td>0</td><td>1</td><td> 9594.3076</td><td>16341.160</td><td>16900.3008</td></tr>\n",
       "\t<tr><td>0</td><td>25</td><td> 9</td><td>1</td><td>0</td><td>1</td><td>1</td><td>24731.6191</td><td>16946.631</td><td> 7343.9639</td></tr>\n",
       "\t<tr><td>0</td><td>22</td><td>10</td><td>0</td><td>0</td><td>1</td><td>1</td><td>25720.9199</td><td>23031.980</td><td> 5448.8008</td></tr>\n",
       "</tbody>\n",
       "</table>\n"
      ],
      "text/latex": [
       "A data.frame: 445 x 10\n",
       "\\begin{tabular}{llllllllll}\n",
       " treat & age & educ & black & hisp & marr & nodegree & re74 & re75 & re78\\\\\n",
       " <int> & <int> & <int> & <int> & <int> & <int> & <int> & <dbl> & <dbl> & <dbl>\\\\\n",
       "\\hline\n",
       "\t 1 & 37 & 11 & 1 & 0 & 1 & 1 & 0 & 0 &  9930.0459\\\\\n",
       "\t 1 & 22 &  9 & 0 & 1 & 0 & 1 & 0 & 0 &  3595.8940\\\\\n",
       "\t 1 & 30 & 12 & 1 & 0 & 0 & 0 & 0 & 0 & 24909.4492\\\\\n",
       "\t 1 & 27 & 11 & 1 & 0 & 0 & 1 & 0 & 0 &  7506.1460\\\\\n",
       "\t 1 & 33 &  8 & 1 & 0 & 0 & 1 & 0 & 0 &   289.7899\\\\\n",
       "\t 1 & 22 &  9 & 1 & 0 & 0 & 1 & 0 & 0 &  4056.4939\\\\\n",
       "\t 1 & 23 & 12 & 1 & 0 & 0 & 0 & 0 & 0 &     0.0000\\\\\n",
       "\t 1 & 32 & 11 & 1 & 0 & 0 & 1 & 0 & 0 &  8472.1582\\\\\n",
       "\t 1 & 22 & 16 & 1 & 0 & 0 & 0 & 0 & 0 &  2164.0220\\\\\n",
       "\t 1 & 33 & 12 & 0 & 0 & 1 & 0 & 0 & 0 & 12418.0703\\\\\n",
       "\t 1 & 19 &  9 & 1 & 0 & 0 & 1 & 0 & 0 &  8173.9082\\\\\n",
       "\t 1 & 21 & 13 & 1 & 0 & 0 & 0 & 0 & 0 & 17094.6406\\\\\n",
       "\t 1 & 18 &  8 & 1 & 0 & 0 & 1 & 0 & 0 &     0.0000\\\\\n",
       "\t 1 & 27 & 10 & 1 & 0 & 1 & 1 & 0 & 0 & 18739.9297\\\\\n",
       "\t 1 & 17 &  7 & 1 & 0 & 0 & 1 & 0 & 0 &  3023.8789\\\\\n",
       "\t 1 & 19 & 10 & 1 & 0 & 0 & 1 & 0 & 0 &  3228.5029\\\\\n",
       "\t 1 & 27 & 13 & 1 & 0 & 0 & 0 & 0 & 0 & 14581.8604\\\\\n",
       "\t 1 & 23 & 10 & 1 & 0 & 0 & 1 & 0 & 0 &  7693.3999\\\\\n",
       "\t 1 & 40 & 12 & 1 & 0 & 0 & 0 & 0 & 0 & 10804.3203\\\\\n",
       "\t 1 & 26 & 12 & 1 & 0 & 0 & 0 & 0 & 0 & 10747.3496\\\\\n",
       "\t 1 & 23 & 11 & 1 & 0 & 0 & 1 & 0 & 0 &     0.0000\\\\\n",
       "\t 1 & 41 & 14 & 0 & 0 & 0 & 0 & 0 & 0 &  5149.5010\\\\\n",
       "\t 1 & 38 &  9 & 0 & 0 & 0 & 1 & 0 & 0 &  6408.9502\\\\\n",
       "\t 1 & 24 & 11 & 1 & 0 & 0 & 1 & 0 & 0 &  1991.4000\\\\\n",
       "\t 1 & 18 & 10 & 1 & 0 & 0 & 1 & 0 & 0 & 11163.1699\\\\\n",
       "\t 1 & 29 & 11 & 1 & 0 & 1 & 1 & 0 & 0 &  9642.9990\\\\\n",
       "\t 1 & 25 & 11 & 1 & 0 & 0 & 1 & 0 & 0 &  9897.0488\\\\\n",
       "\t 1 & 27 & 10 & 0 & 1 & 0 & 1 & 0 & 0 & 11142.8701\\\\\n",
       "\t 1 & 17 & 10 & 1 & 0 & 0 & 1 & 0 & 0 & 16218.0400\\\\\n",
       "\t 1 & 24 & 11 & 1 & 0 & 0 & 1 & 0 & 0 &   995.7002\\\\\n",
       "\t ... & ... & ... & ... & ... & ... & ... & ... & ... & ...\\\\\n",
       "\t 0 & 17 & 11 & 1 & 0 & 0 & 1 &  4080.7300 &  3796.029 &     0.0000\\\\\n",
       "\t 0 & 43 & 10 & 1 & 0 & 0 & 1 &  2502.8679 &  4128.443 &  7565.2729\\\\\n",
       "\t 0 & 26 & 11 & 1 & 0 & 1 & 1 &     0.0000 &  4184.732 &     0.0000\\\\\n",
       "\t 0 & 27 & 11 & 1 & 0 & 1 & 1 &     0.0000 &  4491.884 &     0.0000\\\\\n",
       "\t 0 & 19 & 11 & 1 & 0 & 0 & 1 &  6337.4922 &  4503.064 &     0.0000\\\\\n",
       "\t 0 & 28 & 11 & 1 & 0 & 1 & 1 &  8593.1631 &  5393.895 &  4974.5859\\\\\n",
       "\t 0 & 28 & 12 & 1 & 0 & 1 & 0 & 10585.1299 &  5551.456 & 12780.0195\\\\\n",
       "\t 0 & 26 &  8 & 1 & 0 & 0 & 1 &  1126.2900 &  5562.598 &  3523.5779\\\\\n",
       "\t 0 & 31 & 12 & 1 & 0 & 0 & 0 &     0.0000 &  5613.909 &     0.0000\\\\\n",
       "\t 0 & 23 & 11 & 1 & 0 & 0 & 1 &  7617.3618 &  5716.407 & 10274.8398\\\\\n",
       "\t 0 & 20 & 12 & 1 & 0 & 0 & 0 &  7182.4922 &  6004.728 &  4779.7202\\\\\n",
       "\t 0 & 28 & 10 & 1 & 0 & 1 & 1 &  8293.3447 &  6449.480 & 16988.1797\\\\\n",
       "\t 0 & 39 & 12 & 1 & 0 & 1 & 0 & 19785.3203 &  6608.137 &   499.2572\\\\\n",
       "\t 0 & 21 &  8 & 1 & 0 & 0 & 1 & 39570.6797 &  6608.304 &  3083.5811\\\\\n",
       "\t 0 & 22 & 11 & 1 & 0 & 0 & 1 &  8810.0674 &  6974.484 &  3708.7190\\\\\n",
       "\t 0 & 20 & 11 & 1 & 0 & 0 & 1 &  8009.1641 &  7666.875 &  7659.2178\\\\\n",
       "\t 0 & 21 & 11 & 0 & 1 & 0 & 1 &  2992.5339 &  8920.471 & 20857.8398\\\\\n",
       "\t 0 & 23 & 12 & 0 & 1 & 0 & 0 &  5721.6958 &  8960.684 &  7078.1782\\\\\n",
       "\t 0 & 29 &  9 & 1 & 0 & 0 & 1 &  9268.9434 &  9160.693 &     0.0000\\\\\n",
       "\t 0 & 28 &  9 & 1 & 0 & 1 & 1 & 10222.4102 &  9210.447 &  1239.8440\\\\\n",
       "\t 0 & 30 & 11 & 1 & 0 & 1 & 1 &     0.0000 &  9311.938 &  3982.8010\\\\\n",
       "\t 0 & 25 & 10 & 1 & 0 & 1 & 1 & 13519.9697 &  9319.444 &     0.0000\\\\\n",
       "\t 0 & 28 & 11 & 1 & 0 & 1 & 1 &   824.3889 & 10033.910 &     0.0000\\\\\n",
       "\t 0 & 22 & 10 & 0 & 0 & 0 & 1 & 27864.3594 & 10598.670 &  7094.9199\\\\\n",
       "\t 0 & 44 &  9 & 1 & 0 & 1 & 1 & 12260.7803 & 10857.240 & 12359.3096\\\\\n",
       "\t 0 & 21 &  9 & 1 & 0 & 0 & 1 & 31886.4297 & 12357.220 &     0.0000\\\\\n",
       "\t 0 & 28 & 11 & 1 & 0 & 0 & 1 & 17491.4492 & 13371.250 &     0.0000\\\\\n",
       "\t 0 & 29 &  9 & 0 & 1 & 0 & 1 &  9594.3076 & 16341.160 & 16900.3008\\\\\n",
       "\t 0 & 25 &  9 & 1 & 0 & 1 & 1 & 24731.6191 & 16946.631 &  7343.9639\\\\\n",
       "\t 0 & 22 & 10 & 0 & 0 & 1 & 1 & 25720.9199 & 23031.980 &  5448.8008\\\\\n",
       "\\end{tabular}\n"
      ],
      "text/markdown": [
       "\n",
       "A data.frame: 445 x 10\n",
       "\n",
       "| treat &lt;int&gt; | age &lt;int&gt; | educ &lt;int&gt; | black &lt;int&gt; | hisp &lt;int&gt; | marr &lt;int&gt; | nodegree &lt;int&gt; | re74 &lt;dbl&gt; | re75 &lt;dbl&gt; | re78 &lt;dbl&gt; |\n",
       "|---|---|---|---|---|---|---|---|---|---|\n",
       "| 1 | 37 | 11 | 1 | 0 | 1 | 1 | 0 | 0 |  9930.0459 |\n",
       "| 1 | 22 |  9 | 0 | 1 | 0 | 1 | 0 | 0 |  3595.8940 |\n",
       "| 1 | 30 | 12 | 1 | 0 | 0 | 0 | 0 | 0 | 24909.4492 |\n",
       "| 1 | 27 | 11 | 1 | 0 | 0 | 1 | 0 | 0 |  7506.1460 |\n",
       "| 1 | 33 |  8 | 1 | 0 | 0 | 1 | 0 | 0 |   289.7899 |\n",
       "| 1 | 22 |  9 | 1 | 0 | 0 | 1 | 0 | 0 |  4056.4939 |\n",
       "| 1 | 23 | 12 | 1 | 0 | 0 | 0 | 0 | 0 |     0.0000 |\n",
       "| 1 | 32 | 11 | 1 | 0 | 0 | 1 | 0 | 0 |  8472.1582 |\n",
       "| 1 | 22 | 16 | 1 | 0 | 0 | 0 | 0 | 0 |  2164.0220 |\n",
       "| 1 | 33 | 12 | 0 | 0 | 1 | 0 | 0 | 0 | 12418.0703 |\n",
       "| 1 | 19 |  9 | 1 | 0 | 0 | 1 | 0 | 0 |  8173.9082 |\n",
       "| 1 | 21 | 13 | 1 | 0 | 0 | 0 | 0 | 0 | 17094.6406 |\n",
       "| 1 | 18 |  8 | 1 | 0 | 0 | 1 | 0 | 0 |     0.0000 |\n",
       "| 1 | 27 | 10 | 1 | 0 | 1 | 1 | 0 | 0 | 18739.9297 |\n",
       "| 1 | 17 |  7 | 1 | 0 | 0 | 1 | 0 | 0 |  3023.8789 |\n",
       "| 1 | 19 | 10 | 1 | 0 | 0 | 1 | 0 | 0 |  3228.5029 |\n",
       "| 1 | 27 | 13 | 1 | 0 | 0 | 0 | 0 | 0 | 14581.8604 |\n",
       "| 1 | 23 | 10 | 1 | 0 | 0 | 1 | 0 | 0 |  7693.3999 |\n",
       "| 1 | 40 | 12 | 1 | 0 | 0 | 0 | 0 | 0 | 10804.3203 |\n",
       "| 1 | 26 | 12 | 1 | 0 | 0 | 0 | 0 | 0 | 10747.3496 |\n",
       "| 1 | 23 | 11 | 1 | 0 | 0 | 1 | 0 | 0 |     0.0000 |\n",
       "| 1 | 41 | 14 | 0 | 0 | 0 | 0 | 0 | 0 |  5149.5010 |\n",
       "| 1 | 38 |  9 | 0 | 0 | 0 | 1 | 0 | 0 |  6408.9502 |\n",
       "| 1 | 24 | 11 | 1 | 0 | 0 | 1 | 0 | 0 |  1991.4000 |\n",
       "| 1 | 18 | 10 | 1 | 0 | 0 | 1 | 0 | 0 | 11163.1699 |\n",
       "| 1 | 29 | 11 | 1 | 0 | 1 | 1 | 0 | 0 |  9642.9990 |\n",
       "| 1 | 25 | 11 | 1 | 0 | 0 | 1 | 0 | 0 |  9897.0488 |\n",
       "| 1 | 27 | 10 | 0 | 1 | 0 | 1 | 0 | 0 | 11142.8701 |\n",
       "| 1 | 17 | 10 | 1 | 0 | 0 | 1 | 0 | 0 | 16218.0400 |\n",
       "| 1 | 24 | 11 | 1 | 0 | 0 | 1 | 0 | 0 |   995.7002 |\n",
       "| ... | ... | ... | ... | ... | ... | ... | ... | ... | ... |\n",
       "| 0 | 17 | 11 | 1 | 0 | 0 | 1 |  4080.7300 |  3796.029 |     0.0000 |\n",
       "| 0 | 43 | 10 | 1 | 0 | 0 | 1 |  2502.8679 |  4128.443 |  7565.2729 |\n",
       "| 0 | 26 | 11 | 1 | 0 | 1 | 1 |     0.0000 |  4184.732 |     0.0000 |\n",
       "| 0 | 27 | 11 | 1 | 0 | 1 | 1 |     0.0000 |  4491.884 |     0.0000 |\n",
       "| 0 | 19 | 11 | 1 | 0 | 0 | 1 |  6337.4922 |  4503.064 |     0.0000 |\n",
       "| 0 | 28 | 11 | 1 | 0 | 1 | 1 |  8593.1631 |  5393.895 |  4974.5859 |\n",
       "| 0 | 28 | 12 | 1 | 0 | 1 | 0 | 10585.1299 |  5551.456 | 12780.0195 |\n",
       "| 0 | 26 |  8 | 1 | 0 | 0 | 1 |  1126.2900 |  5562.598 |  3523.5779 |\n",
       "| 0 | 31 | 12 | 1 | 0 | 0 | 0 |     0.0000 |  5613.909 |     0.0000 |\n",
       "| 0 | 23 | 11 | 1 | 0 | 0 | 1 |  7617.3618 |  5716.407 | 10274.8398 |\n",
       "| 0 | 20 | 12 | 1 | 0 | 0 | 0 |  7182.4922 |  6004.728 |  4779.7202 |\n",
       "| 0 | 28 | 10 | 1 | 0 | 1 | 1 |  8293.3447 |  6449.480 | 16988.1797 |\n",
       "| 0 | 39 | 12 | 1 | 0 | 1 | 0 | 19785.3203 |  6608.137 |   499.2572 |\n",
       "| 0 | 21 |  8 | 1 | 0 | 0 | 1 | 39570.6797 |  6608.304 |  3083.5811 |\n",
       "| 0 | 22 | 11 | 1 | 0 | 0 | 1 |  8810.0674 |  6974.484 |  3708.7190 |\n",
       "| 0 | 20 | 11 | 1 | 0 | 0 | 1 |  8009.1641 |  7666.875 |  7659.2178 |\n",
       "| 0 | 21 | 11 | 0 | 1 | 0 | 1 |  2992.5339 |  8920.471 | 20857.8398 |\n",
       "| 0 | 23 | 12 | 0 | 1 | 0 | 0 |  5721.6958 |  8960.684 |  7078.1782 |\n",
       "| 0 | 29 |  9 | 1 | 0 | 0 | 1 |  9268.9434 |  9160.693 |     0.0000 |\n",
       "| 0 | 28 |  9 | 1 | 0 | 1 | 1 | 10222.4102 |  9210.447 |  1239.8440 |\n",
       "| 0 | 30 | 11 | 1 | 0 | 1 | 1 |     0.0000 |  9311.938 |  3982.8010 |\n",
       "| 0 | 25 | 10 | 1 | 0 | 1 | 1 | 13519.9697 |  9319.444 |     0.0000 |\n",
       "| 0 | 28 | 11 | 1 | 0 | 1 | 1 |   824.3889 | 10033.910 |     0.0000 |\n",
       "| 0 | 22 | 10 | 0 | 0 | 0 | 1 | 27864.3594 | 10598.670 |  7094.9199 |\n",
       "| 0 | 44 |  9 | 1 | 0 | 1 | 1 | 12260.7803 | 10857.240 | 12359.3096 |\n",
       "| 0 | 21 |  9 | 1 | 0 | 0 | 1 | 31886.4297 | 12357.220 |     0.0000 |\n",
       "| 0 | 28 | 11 | 1 | 0 | 0 | 1 | 17491.4492 | 13371.250 |     0.0000 |\n",
       "| 0 | 29 |  9 | 0 | 1 | 0 | 1 |  9594.3076 | 16341.160 | 16900.3008 |\n",
       "| 0 | 25 |  9 | 1 | 0 | 1 | 1 | 24731.6191 | 16946.631 |  7343.9639 |\n",
       "| 0 | 22 | 10 | 0 | 0 | 1 | 1 | 25720.9199 | 23031.980 |  5448.8008 |\n",
       "\n"
      ],
      "text/plain": [
       "    treat age educ black hisp marr nodegree re74       re75      re78      \n",
       "1   1     37  11   1     0    1    1        0          0          9930.0459\n",
       "2   1     22   9   0     1    0    1        0          0          3595.8940\n",
       "3   1     30  12   1     0    0    0        0          0         24909.4492\n",
       "4   1     27  11   1     0    0    1        0          0          7506.1460\n",
       "5   1     33   8   1     0    0    1        0          0           289.7899\n",
       "6   1     22   9   1     0    0    1        0          0          4056.4939\n",
       "7   1     23  12   1     0    0    0        0          0             0.0000\n",
       "8   1     32  11   1     0    0    1        0          0          8472.1582\n",
       "9   1     22  16   1     0    0    0        0          0          2164.0220\n",
       "10  1     33  12   0     0    1    0        0          0         12418.0703\n",
       "11  1     19   9   1     0    0    1        0          0          8173.9082\n",
       "12  1     21  13   1     0    0    0        0          0         17094.6406\n",
       "13  1     18   8   1     0    0    1        0          0             0.0000\n",
       "14  1     27  10   1     0    1    1        0          0         18739.9297\n",
       "15  1     17   7   1     0    0    1        0          0          3023.8789\n",
       "16  1     19  10   1     0    0    1        0          0          3228.5029\n",
       "17  1     27  13   1     0    0    0        0          0         14581.8604\n",
       "18  1     23  10   1     0    0    1        0          0          7693.3999\n",
       "19  1     40  12   1     0    0    0        0          0         10804.3203\n",
       "20  1     26  12   1     0    0    0        0          0         10747.3496\n",
       "21  1     23  11   1     0    0    1        0          0             0.0000\n",
       "22  1     41  14   0     0    0    0        0          0          5149.5010\n",
       "23  1     38   9   0     0    0    1        0          0          6408.9502\n",
       "24  1     24  11   1     0    0    1        0          0          1991.4000\n",
       "25  1     18  10   1     0    0    1        0          0         11163.1699\n",
       "26  1     29  11   1     0    1    1        0          0          9642.9990\n",
       "27  1     25  11   1     0    0    1        0          0          9897.0488\n",
       "28  1     27  10   0     1    0    1        0          0         11142.8701\n",
       "29  1     17  10   1     0    0    1        0          0         16218.0400\n",
       "30  1     24  11   1     0    0    1        0          0           995.7002\n",
       "... ...   ... ...  ...   ...  ...  ...      ...        ...       ...       \n",
       "416 0     17  11   1     0    0    1         4080.7300  3796.029     0.0000\n",
       "417 0     43  10   1     0    0    1         2502.8679  4128.443  7565.2729\n",
       "418 0     26  11   1     0    1    1            0.0000  4184.732     0.0000\n",
       "419 0     27  11   1     0    1    1            0.0000  4491.884     0.0000\n",
       "420 0     19  11   1     0    0    1         6337.4922  4503.064     0.0000\n",
       "421 0     28  11   1     0    1    1         8593.1631  5393.895  4974.5859\n",
       "422 0     28  12   1     0    1    0        10585.1299  5551.456 12780.0195\n",
       "423 0     26   8   1     0    0    1         1126.2900  5562.598  3523.5779\n",
       "424 0     31  12   1     0    0    0            0.0000  5613.909     0.0000\n",
       "425 0     23  11   1     0    0    1         7617.3618  5716.407 10274.8398\n",
       "426 0     20  12   1     0    0    0         7182.4922  6004.728  4779.7202\n",
       "427 0     28  10   1     0    1    1         8293.3447  6449.480 16988.1797\n",
       "428 0     39  12   1     0    1    0        19785.3203  6608.137   499.2572\n",
       "429 0     21   8   1     0    0    1        39570.6797  6608.304  3083.5811\n",
       "430 0     22  11   1     0    0    1         8810.0674  6974.484  3708.7190\n",
       "431 0     20  11   1     0    0    1         8009.1641  7666.875  7659.2178\n",
       "432 0     21  11   0     1    0    1         2992.5339  8920.471 20857.8398\n",
       "433 0     23  12   0     1    0    0         5721.6958  8960.684  7078.1782\n",
       "434 0     29   9   1     0    0    1         9268.9434  9160.693     0.0000\n",
       "435 0     28   9   1     0    1    1        10222.4102  9210.447  1239.8440\n",
       "436 0     30  11   1     0    1    1            0.0000  9311.938  3982.8010\n",
       "437 0     25  10   1     0    1    1        13519.9697  9319.444     0.0000\n",
       "438 0     28  11   1     0    1    1          824.3889 10033.910     0.0000\n",
       "439 0     22  10   0     0    0    1        27864.3594 10598.670  7094.9199\n",
       "440 0     44   9   1     0    1    1        12260.7803 10857.240 12359.3096\n",
       "441 0     21   9   1     0    0    1        31886.4297 12357.220     0.0000\n",
       "442 0     28  11   1     0    0    1        17491.4492 13371.250     0.0000\n",
       "443 0     29   9   0     1    0    1         9594.3076 16341.160 16900.3008\n",
       "444 0     25   9   1     0    1    1        24731.6191 16946.631  7343.9639\n",
       "445 0     22  10   0     0    1    1        25720.9199 23031.980  5448.8008"
      ]
     },
     "metadata": {},
     "output_type": "display_data"
    }
   ],
   "source": [
    "df <- read.csv(\"/Users/gabriel/Documents/GitHub/CausalAI-Course/Labs/Assignment/Assignment_5/data/experimental/experimental_control.csv\")\n",
    "df"
   ]
  },
  {
   "cell_type": "markdown",
   "metadata": {},
   "source": [
    "### 1.2. Find the ATE (1.5 points). \n",
    "With `re78` as the outcome variable of interest, find the Average Treatment Effect of participation in the program. Specifically, you should find it by calculating the difference between the means of the treatment group and the control group (the Simple Difference of Means or SDM). What can you say about the program?"
   ]
  },
  {
   "cell_type": "code",
   "execution_count": 106,
   "metadata": {
    "vscode": {
     "languageId": "r"
    }
   },
   "outputs": [
    {
     "data": {
      "text/html": [
       "<table class=\"dataframe\">\n",
       "<caption>A matrix: 2 x 4 of type dbl</caption>\n",
       "<thead>\n",
       "\t<tr><th></th><th scope=col>Estimate</th><th scope=col>Std. Error</th><th scope=col>t value</th><th scope=col>Pr(&gt;|t|)</th></tr>\n",
       "</thead>\n",
       "<tbody>\n",
       "\t<tr><th scope=row>(Intercept)</th><td>4554.801</td><td>408.0459</td><td>11.162474</td><td>1.154114e-25</td></tr>\n",
       "\t<tr><th scope=row>treat</th><td>1794.342</td><td>632.8534</td><td> 2.835321</td><td>4.787530e-03</td></tr>\n",
       "</tbody>\n",
       "</table>\n"
      ],
      "text/latex": [
       "A matrix: 2 x 4 of type dbl\n",
       "\\begin{tabular}{r|llll}\n",
       "  & Estimate & Std. Error & t value & Pr(>\\textbar{}t\\textbar{})\\\\\n",
       "\\hline\n",
       "\t(Intercept) & 4554.801 & 408.0459 & 11.162474 & 1.154114e-25\\\\\n",
       "\ttreat & 1794.342 & 632.8534 &  2.835321 & 4.787530e-03\\\\\n",
       "\\end{tabular}\n"
      ],
      "text/markdown": [
       "\n",
       "A matrix: 2 x 4 of type dbl\n",
       "\n",
       "| <!--/--> | Estimate | Std. Error | t value | Pr(&gt;|t|) |\n",
       "|---|---|---|---|---|\n",
       "| (Intercept) | 4554.801 | 408.0459 | 11.162474 | 1.154114e-25 |\n",
       "| treat | 1794.342 | 632.8534 |  2.835321 | 4.787530e-03 |\n",
       "\n"
      ],
      "text/plain": [
       "            Estimate Std. Error t value   Pr(>|t|)    \n",
       "(Intercept) 4554.801 408.0459   11.162474 1.154114e-25\n",
       "treat       1794.342 632.8534    2.835321 4.787530e-03"
      ]
     },
     "metadata": {},
     "output_type": "display_data"
    }
   ],
   "source": [
    "# Hallamos el ATE\n",
    "model <- lm(re78 ~ treat, data = df)\n",
    "\n",
    "summary(model)$coefficients"
   ]
  },
  {
   "cell_type": "markdown",
   "metadata": {},
   "source": [
    "### 1.3. Heterogeneous effects with causal trees (3 points). \n",
    "Use causal trees like we saw in class. For Python, you should use the `econml` package; for R, use the `grf` package; and for Julia, you will need to create the auxiliary variable $Y$∗ and fit a decision tree regressor. Report the splits the tree finds and interpret them."
   ]
  },
  {
   "cell_type": "code",
   "execution_count": 107,
   "metadata": {
    "vscode": {
     "languageId": "r"
    }
   },
   "outputs": [
    {
     "data": {
      "text/html": [
       "<style>\n",
       ".list-inline {list-style: none; margin:0; padding: 0}\n",
       ".list-inline>li {display: inline-block}\n",
       ".list-inline>li:not(:last-child)::after {content: \"\\00b7\"; padding: 0 .5ex}\n",
       "</style>\n",
       "<ol class=list-inline><li>'age'</li><li>'educ'</li><li>'black'</li><li>'hisp'</li><li>'marr'</li><li>'nodegree'</li><li>'re74'</li><li>'re75'</li></ol>\n"
      ],
      "text/latex": [
       "\\begin{enumerate*}\n",
       "\\item 'age'\n",
       "\\item 'educ'\n",
       "\\item 'black'\n",
       "\\item 'hisp'\n",
       "\\item 'marr'\n",
       "\\item 'nodegree'\n",
       "\\item 're74'\n",
       "\\item 're75'\n",
       "\\end{enumerate*}\n"
      ],
      "text/markdown": [
       "1. 'age'\n",
       "2. 'educ'\n",
       "3. 'black'\n",
       "4. 'hisp'\n",
       "5. 'marr'\n",
       "6. 'nodegree'\n",
       "7. 're74'\n",
       "8. 're75'\n",
       "\n",
       "\n"
      ],
      "text/plain": [
       "[1] \"age\"      \"educ\"     \"black\"    \"hisp\"     \"marr\"     \"nodegree\" \"re74\"    \n",
       "[8] \"re75\"    "
      ]
     },
     "metadata": {},
     "output_type": "display_data"
    }
   ],
   "source": [
    "X <- setdiff(names(df), c(\"treat\", \"re78\"))\n",
    "X"
   ]
  },
  {
   "cell_type": "code",
   "execution_count": 108,
   "metadata": {
    "vscode": {
     "languageId": "r"
    }
   },
   "outputs": [
    {
     "data": {
      "text/html": [
       "<table class=\"dataframe\">\n",
       "<caption>A data.frame: 6 x 11</caption>\n",
       "<thead>\n",
       "\t<tr><th></th><th scope=col>treat</th><th scope=col>age</th><th scope=col>educ</th><th scope=col>black</th><th scope=col>hisp</th><th scope=col>marr</th><th scope=col>nodegree</th><th scope=col>re74</th><th scope=col>re75</th><th scope=col>re78</th><th scope=col>pscore</th></tr>\n",
       "\t<tr><th></th><th scope=col>&lt;int&gt;</th><th scope=col>&lt;int&gt;</th><th scope=col>&lt;int&gt;</th><th scope=col>&lt;int&gt;</th><th scope=col>&lt;int&gt;</th><th scope=col>&lt;int&gt;</th><th scope=col>&lt;int&gt;</th><th scope=col>&lt;dbl&gt;</th><th scope=col>&lt;dbl&gt;</th><th scope=col>&lt;dbl&gt;</th><th scope=col>&lt;dbl&gt;</th></tr>\n",
       "</thead>\n",
       "<tbody>\n",
       "\t<tr><th scope=row>1</th><td>1</td><td>37</td><td>11</td><td>1</td><td>0</td><td>1</td><td>1</td><td>0</td><td>0</td><td> 9930.0459</td><td>0.4021026</td></tr>\n",
       "\t<tr><th scope=row>2</th><td>1</td><td>22</td><td> 9</td><td>0</td><td>1</td><td>0</td><td>1</td><td>0</td><td>0</td><td> 3595.8940</td><td>0.2466787</td></tr>\n",
       "\t<tr><th scope=row>3</th><td>1</td><td>30</td><td>12</td><td>1</td><td>0</td><td>0</td><td>0</td><td>0</td><td>0</td><td>24909.4492</td><td>0.5594795</td></tr>\n",
       "\t<tr><th scope=row>4</th><td>1</td><td>27</td><td>11</td><td>1</td><td>0</td><td>0</td><td>1</td><td>0</td><td>0</td><td> 7506.1460</td><td>0.3526728</td></tr>\n",
       "\t<tr><th scope=row>5</th><td>1</td><td>33</td><td> 8</td><td>1</td><td>0</td><td>0</td><td>1</td><td>0</td><td>0</td><td>  289.7899</td><td>0.4096518</td></tr>\n",
       "\t<tr><th scope=row>6</th><td>1</td><td>22</td><td> 9</td><td>1</td><td>0</td><td>0</td><td>1</td><td>0</td><td>0</td><td> 4056.4939</td><td>0.3802885</td></tr>\n",
       "</tbody>\n",
       "</table>\n"
      ],
      "text/latex": [
       "A data.frame: 6 x 11\n",
       "\\begin{tabular}{r|lllllllllll}\n",
       "  & treat & age & educ & black & hisp & marr & nodegree & re74 & re75 & re78 & pscore\\\\\n",
       "  & <int> & <int> & <int> & <int> & <int> & <int> & <int> & <dbl> & <dbl> & <dbl> & <dbl>\\\\\n",
       "\\hline\n",
       "\t1 & 1 & 37 & 11 & 1 & 0 & 1 & 1 & 0 & 0 &  9930.0459 & 0.4021026\\\\\n",
       "\t2 & 1 & 22 &  9 & 0 & 1 & 0 & 1 & 0 & 0 &  3595.8940 & 0.2466787\\\\\n",
       "\t3 & 1 & 30 & 12 & 1 & 0 & 0 & 0 & 0 & 0 & 24909.4492 & 0.5594795\\\\\n",
       "\t4 & 1 & 27 & 11 & 1 & 0 & 0 & 1 & 0 & 0 &  7506.1460 & 0.3526728\\\\\n",
       "\t5 & 1 & 33 &  8 & 1 & 0 & 0 & 1 & 0 & 0 &   289.7899 & 0.4096518\\\\\n",
       "\t6 & 1 & 22 &  9 & 1 & 0 & 0 & 1 & 0 & 0 &  4056.4939 & 0.3802885\\\\\n",
       "\\end{tabular}\n"
      ],
      "text/markdown": [
       "\n",
       "A data.frame: 6 x 11\n",
       "\n",
       "| <!--/--> | treat &lt;int&gt; | age &lt;int&gt; | educ &lt;int&gt; | black &lt;int&gt; | hisp &lt;int&gt; | marr &lt;int&gt; | nodegree &lt;int&gt; | re74 &lt;dbl&gt; | re75 &lt;dbl&gt; | re78 &lt;dbl&gt; | pscore &lt;dbl&gt; |\n",
       "|---|---|---|---|---|---|---|---|---|---|---|---|\n",
       "| 1 | 1 | 37 | 11 | 1 | 0 | 1 | 1 | 0 | 0 |  9930.0459 | 0.4021026 |\n",
       "| 2 | 1 | 22 |  9 | 0 | 1 | 0 | 1 | 0 | 0 |  3595.8940 | 0.2466787 |\n",
       "| 3 | 1 | 30 | 12 | 1 | 0 | 0 | 0 | 0 | 0 | 24909.4492 | 0.5594795 |\n",
       "| 4 | 1 | 27 | 11 | 1 | 0 | 0 | 1 | 0 | 0 |  7506.1460 | 0.3526728 |\n",
       "| 5 | 1 | 33 |  8 | 1 | 0 | 0 | 1 | 0 | 0 |   289.7899 | 0.4096518 |\n",
       "| 6 | 1 | 22 |  9 | 1 | 0 | 0 | 1 | 0 | 0 |  4056.4939 | 0.3802885 |\n",
       "\n"
      ],
      "text/plain": [
       "  treat age educ black hisp marr nodegree re74 re75 re78       pscore   \n",
       "1 1     37  11   1     0    1    1        0    0     9930.0459 0.4021026\n",
       "2 1     22   9   0     1    0    1        0    0     3595.8940 0.2466787\n",
       "3 1     30  12   1     0    0    0        0    0    24909.4492 0.5594795\n",
       "4 1     27  11   1     0    0    1        0    0     7506.1460 0.3526728\n",
       "5 1     33   8   1     0    0    1        0    0      289.7899 0.4096518\n",
       "6 1     22   9   1     0    0    1        0    0     4056.4939 0.3802885"
      ]
     },
     "metadata": {},
     "output_type": "display_data"
    },
    {
     "name": "stderr",
     "output_type": "stream",
     "text": [
      "Warning message:\n",
      "\"\u001b[1m\u001b[22mRemoved 4 rows containing missing values or values outside the scale range\n",
      "(`geom_bar()`).\"\n"
     ]
    },
    {
     "data": {
      "image/png": "[encoded data removed]",
      "text/plain": [
       "plot without title"
      ]
     },
     "metadata": {
      "image/png": {
       "height": 420,
       "width": 420
      }
     },
     "output_type": "display_data"
    }
   ],
   "source": [
    "# Fit the logistic regression model to predict propensity scores\n",
    "logistic_model <- glm(treat ~ ., data = df[,c(X,'treat')], family = binomial)\n",
    "df$pscore <- predict(logistic_model, df[X], type = \"response\")\n",
    "head(df)\n",
    "\n",
    "library(ggplot2)\n",
    "ggplot(df, aes(x = pscore, fill = as.factor(treat))) +\n",
    "  geom_histogram(binwidth = 0.05, position = \"identity\", alpha = 0.7) +\n",
    "  labs(\n",
    "    title = \"Predicted Propensity Scores\",\n",
    "    x = \"Propensity Score\",\n",
    "    fill = \"Treat\"\n",
    "  ) +\n",
    "  xlim(0, 1)"
   ]
  },
  {
   "cell_type": "code",
   "execution_count": 109,
   "metadata": {
    "vscode": {
     "languageId": "r"
    }
   },
   "outputs": [
    {
     "data": {
      "text/html": [
       "1613.13471331061"
      ],
      "text/latex": [
       "1613.13471331061"
      ],
      "text/markdown": [
       "1613.13471331061"
      ],
      "text/plain": [
       "[1] 1613.135"
      ]
     },
     "metadata": {},
     "output_type": "display_data"
    },
    {
     "data": {
      "text/html": [
       "<table class=\"dataframe\">\n",
       "<caption>A data.frame: 445 x 12</caption>\n",
       "<thead>\n",
       "\t<tr><th scope=col>treat</th><th scope=col>age</th><th scope=col>educ</th><th scope=col>black</th><th scope=col>hisp</th><th scope=col>marr</th><th scope=col>nodegree</th><th scope=col>re74</th><th scope=col>re75</th><th scope=col>re78</th><th scope=col>pscore</th><th scope=col>y_star</th></tr>\n",
       "\t<tr><th scope=col>&lt;int&gt;</th><th scope=col>&lt;int&gt;</th><th scope=col>&lt;int&gt;</th><th scope=col>&lt;int&gt;</th><th scope=col>&lt;int&gt;</th><th scope=col>&lt;int&gt;</th><th scope=col>&lt;int&gt;</th><th scope=col>&lt;dbl&gt;</th><th scope=col>&lt;dbl&gt;</th><th scope=col>&lt;dbl&gt;</th><th scope=col>&lt;dbl&gt;</th><th scope=col>&lt;dbl&gt;</th></tr>\n",
       "</thead>\n",
       "<tbody>\n",
       "\t<tr><td>1</td><td>37</td><td>11</td><td>1</td><td>0</td><td>1</td><td>1</td><td>0</td><td>0</td><td> 9930.0459</td><td>0.4021026</td><td>24695.3033</td></tr>\n",
       "\t<tr><td>1</td><td>22</td><td> 9</td><td>0</td><td>1</td><td>0</td><td>1</td><td>0</td><td>0</td><td> 3595.8940</td><td>0.2466787</td><td>14577.2364</td></tr>\n",
       "\t<tr><td>1</td><td>30</td><td>12</td><td>1</td><td>0</td><td>0</td><td>0</td><td>0</td><td>0</td><td>24909.4492</td><td>0.5594795</td><td>44522.5448</td></tr>\n",
       "\t<tr><td>1</td><td>27</td><td>11</td><td>1</td><td>0</td><td>0</td><td>1</td><td>0</td><td>0</td><td> 7506.1460</td><td>0.3526728</td><td>21283.5954</td></tr>\n",
       "\t<tr><td>1</td><td>33</td><td> 8</td><td>1</td><td>0</td><td>0</td><td>1</td><td>0</td><td>0</td><td>  289.7899</td><td>0.4096518</td><td>  707.4054</td></tr>\n",
       "\t<tr><td>1</td><td>22</td><td> 9</td><td>1</td><td>0</td><td>0</td><td>1</td><td>0</td><td>0</td><td> 4056.4939</td><td>0.3802885</td><td>10666.8845</td></tr>\n",
       "\t<tr><td>1</td><td>23</td><td>12</td><td>1</td><td>0</td><td>0</td><td>0</td><td>0</td><td>0</td><td>    0.0000</td><td>0.5513589</td><td>    0.0000</td></tr>\n",
       "\t<tr><td>1</td><td>32</td><td>11</td><td>1</td><td>0</td><td>0</td><td>1</td><td>0</td><td>0</td><td> 8472.1582</td><td>0.3580540</td><td>23661.6754</td></tr>\n",
       "\t<tr><td>1</td><td>22</td><td>16</td><td>1</td><td>0</td><td>0</td><td>0</td><td>0</td><td>0</td><td> 2164.0220</td><td>0.4791392</td><td> 4516.4784</td></tr>\n",
       "\t<tr><td>1</td><td>33</td><td>12</td><td>0</td><td>0</td><td>1</td><td>0</td><td>0</td><td>0</td><td>12418.0703</td><td>0.6550840</td><td>18956.4563</td></tr>\n",
       "\t<tr><td>1</td><td>19</td><td> 9</td><td>1</td><td>0</td><td>0</td><td>1</td><td>0</td><td>0</td><td> 8173.9082</td><td>0.3769726</td><td>21683.0323</td></tr>\n",
       "\t<tr><td>1</td><td>21</td><td>13</td><td>1</td><td>0</td><td>0</td><td>0</td><td>0</td><td>0</td><td>17094.6406</td><td>0.5313407</td><td>32172.6544</td></tr>\n",
       "\t<tr><td>1</td><td>18</td><td> 8</td><td>1</td><td>0</td><td>0</td><td>1</td><td>0</td><td>0</td><td>    0.0000</td><td>0.3927238</td><td>    0.0000</td></tr>\n",
       "\t<tr><td>1</td><td>27</td><td>10</td><td>1</td><td>0</td><td>1</td><td>1</td><td>0</td><td>0</td><td>18739.9297</td><td>0.4079481</td><td>45937.0435</td></tr>\n",
       "\t<tr><td>1</td><td>17</td><td> 7</td><td>1</td><td>0</td><td>0</td><td>1</td><td>0</td><td>0</td><td> 3023.8789</td><td>0.4087014</td><td> 7398.7490</td></tr>\n",
       "\t<tr><td>1</td><td>19</td><td>10</td><td>1</td><td>0</td><td>0</td><td>1</td><td>0</td><td>0</td><td> 3228.5029</td><td>0.3603934</td><td> 8958.2748</td></tr>\n",
       "\t<tr><td>1</td><td>27</td><td>13</td><td>1</td><td>0</td><td>0</td><td>0</td><td>0</td><td>0</td><td>14581.8604</td><td>0.5383536</td><td>27086.0286</td></tr>\n",
       "\t<tr><td>1</td><td>23</td><td>10</td><td>1</td><td>0</td><td>0</td><td>1</td><td>0</td><td>0</td><td> 7693.3999</td><td>0.3647365</td><td>21093.0338</td></tr>\n",
       "\t<tr><td>1</td><td>40</td><td>12</td><td>1</td><td>0</td><td>0</td><td>0</td><td>0</td><td>0</td><td>10804.3203</td><td>0.5710242</td><td>18920.9487</td></tr>\n",
       "\t<tr><td>1</td><td>26</td><td>12</td><td>1</td><td>0</td><td>0</td><td>0</td><td>0</td><td>0</td><td>10747.3496</td><td>0.5548427</td><td>19370.0822</td></tr>\n",
       "\t<tr><td>1</td><td>23</td><td>11</td><td>1</td><td>0</td><td>0</td><td>1</td><td>0</td><td>0</td><td>    0.0000</td><td>0.3483946</td><td>    0.0000</td></tr>\n",
       "\t<tr><td>1</td><td>41</td><td>14</td><td>0</td><td>0</td><td>0</td><td>0</td><td>0</td><td>0</td><td> 5149.5010</td><td>0.5921721</td><td> 8695.9540</td></tr>\n",
       "\t<tr><td>1</td><td>38</td><td> 9</td><td>0</td><td>0</td><td>0</td><td>1</td><td>0</td><td>0</td><td> 6408.9502</td><td>0.4530257</td><td>14146.9890</td></tr>\n",
       "\t<tr><td>1</td><td>24</td><td>11</td><td>1</td><td>0</td><td>0</td><td>1</td><td>0</td><td>0</td><td> 1991.4000</td><td>0.3494619</td><td> 5698.4758</td></tr>\n",
       "\t<tr><td>1</td><td>18</td><td>10</td><td>1</td><td>0</td><td>0</td><td>1</td><td>0</td><td>0</td><td>11163.1699</td><td>0.3593111</td><td>31068.2562</td></tr>\n",
       "\t<tr><td>1</td><td>29</td><td>11</td><td>1</td><td>0</td><td>1</td><td>1</td><td>0</td><td>0</td><td> 9642.9990</td><td>0.3931007</td><td>24530.6074</td></tr>\n",
       "\t<tr><td>1</td><td>25</td><td>11</td><td>1</td><td>0</td><td>0</td><td>1</td><td>0</td><td>0</td><td> 9897.0488</td><td>0.3505307</td><td>28234.4713</td></tr>\n",
       "\t<tr><td>1</td><td>27</td><td>10</td><td>0</td><td>1</td><td>0</td><td>1</td><td>0</td><td>0</td><td>11142.8701</td><td>0.2379134</td><td>46835.8184</td></tr>\n",
       "\t<tr><td>1</td><td>17</td><td>10</td><td>1</td><td>0</td><td>0</td><td>1</td><td>0</td><td>0</td><td>16218.0400</td><td>0.3582303</td><td>45272.6653</td></tr>\n",
       "\t<tr><td>1</td><td>24</td><td>11</td><td>1</td><td>0</td><td>0</td><td>1</td><td>0</td><td>0</td><td>  995.7002</td><td>0.3494619</td><td> 2849.2384</td></tr>\n",
       "\t<tr><td>...</td><td>...</td><td>...</td><td>...</td><td>...</td><td>...</td><td>...</td><td>...</td><td>...</td><td>...</td><td>...</td><td>...</td></tr>\n",
       "\t<tr><td>0</td><td>17</td><td>11</td><td>1</td><td>0</td><td>0</td><td>1</td><td> 4080.7300</td><td> 3796.029</td><td>    0.0000</td><td>0.3660033</td><td>     0.000</td></tr>\n",
       "\t<tr><td>0</td><td>43</td><td>10</td><td>1</td><td>0</td><td>0</td><td>1</td><td> 2502.8679</td><td> 4128.443</td><td> 7565.2729</td><td>0.4290681</td><td>-13250.746</td></tr>\n",
       "\t<tr><td>0</td><td>26</td><td>11</td><td>1</td><td>0</td><td>1</td><td>1</td><td>    0.0000</td><td> 4184.732</td><td>    0.0000</td><td>0.4525033</td><td>     0.000</td></tr>\n",
       "\t<tr><td>0</td><td>27</td><td>11</td><td>1</td><td>0</td><td>1</td><td>1</td><td>    0.0000</td><td> 4491.884</td><td>    0.0000</td><td>0.4583619</td><td>     0.000</td></tr>\n",
       "\t<tr><td>0</td><td>19</td><td>11</td><td>1</td><td>0</td><td>0</td><td>1</td><td> 6337.4922</td><td> 4503.064</td><td>    0.0000</td><td>0.3617496</td><td>     0.000</td></tr>\n",
       "\t<tr><td>0</td><td>28</td><td>11</td><td>1</td><td>0</td><td>1</td><td>1</td><td> 8593.1631</td><td> 5393.895</td><td> 4974.5859</td><td>0.4065389</td><td> -8382.329</td></tr>\n",
       "\t<tr><td>0</td><td>28</td><td>12</td><td>1</td><td>0</td><td>1</td><td>0</td><td>10585.1299</td><td> 5551.456</td><td>12780.0195</td><td>0.5988599</td><td>-31859.241</td></tr>\n",
       "\t<tr><td>0</td><td>26</td><td> 8</td><td>1</td><td>0</td><td>0</td><td>1</td><td> 1126.2900</td><td> 5562.598</td><td> 3523.5779</td><td>0.4772232</td><td> -6740.119</td></tr>\n",
       "\t<tr><td>0</td><td>31</td><td>12</td><td>1</td><td>0</td><td>0</td><td>0</td><td>    0.0000</td><td> 5613.909</td><td>    0.0000</td><td>0.6432808</td><td>     0.000</td></tr>\n",
       "\t<tr><td>0</td><td>23</td><td>11</td><td>1</td><td>0</td><td>0</td><td>1</td><td> 7617.3618</td><td> 5716.407</td><td>10274.8398</td><td>0.3740959</td><td>-16415.996</td></tr>\n",
       "\t<tr><td>0</td><td>20</td><td>12</td><td>1</td><td>0</td><td>0</td><td>0</td><td> 7182.4922</td><td> 6004.728</td><td> 4779.7202</td><td>0.5829747</td><td>-11461.463</td></tr>\n",
       "\t<tr><td>0</td><td>28</td><td>10</td><td>1</td><td>0</td><td>1</td><td>1</td><td> 8293.3447</td><td> 6449.480</td><td>16988.1797</td><td>0.4421258</td><td>-30451.632</td></tr>\n",
       "\t<tr><td>0</td><td>39</td><td>12</td><td>1</td><td>0</td><td>1</td><td>0</td><td>19785.3203</td><td> 6608.137</td><td>  499.2572</td><td>0.5564304</td><td> -1125.544</td></tr>\n",
       "\t<tr><td>0</td><td>21</td><td> 8</td><td>1</td><td>0</td><td>0</td><td>1</td><td>39570.6797</td><td> 6608.304</td><td> 3083.5811</td><td>0.2200385</td><td> -3953.504</td></tr>\n",
       "\t<tr><td>0</td><td>22</td><td>11</td><td>1</td><td>0</td><td>0</td><td>1</td><td> 8810.0674</td><td> 6974.484</td><td> 3708.7190</td><td>0.3823533</td><td> -6004.597</td></tr>\n",
       "\t<tr><td>0</td><td>20</td><td>11</td><td>1</td><td>0</td><td>0</td><td>1</td><td> 8009.1641</td><td> 7666.875</td><td> 7659.2178</td><td>0.3962794</td><td>-12686.693</td></tr>\n",
       "\t<tr><td>0</td><td>21</td><td>11</td><td>0</td><td>1</td><td>0</td><td>1</td><td> 2992.5339</td><td> 8920.471</td><td>20857.8398</td><td>0.3081963</td><td>-30149.942</td></tr>\n",
       "\t<tr><td>0</td><td>23</td><td>12</td><td>0</td><td>1</td><td>0</td><td>0</td><td> 5721.6958</td><td> 8960.684</td><td> 7078.1782</td><td>0.4873296</td><td>-13806.489</td></tr>\n",
       "\t<tr><td>0</td><td>29</td><td> 9</td><td>1</td><td>0</td><td>0</td><td>1</td><td> 9268.9434</td><td> 9160.693</td><td>    0.0000</td><td>0.4541258</td><td>     0.000</td></tr>\n",
       "\t<tr><td>0</td><td>28</td><td> 9</td><td>1</td><td>0</td><td>1</td><td>1</td><td>10222.4102</td><td> 9210.447</td><td> 1239.8440</td><td>0.4869610</td><td> -2416.666</td></tr>\n",
       "\t<tr><td>0</td><td>30</td><td>11</td><td>1</td><td>0</td><td>1</td><td>1</td><td>    0.0000</td><td> 9311.938</td><td> 3982.8010</td><td>0.5359700</td><td> -8583.068</td></tr>\n",
       "\t<tr><td>0</td><td>25</td><td>10</td><td>1</td><td>0</td><td>1</td><td>1</td><td>13519.9697</td><td> 9319.444</td><td>    0.0000</td><td>0.4415139</td><td>     0.000</td></tr>\n",
       "\t<tr><td>0</td><td>28</td><td>11</td><td>1</td><td>0</td><td>1</td><td>1</td><td>  824.3889</td><td>10033.910</td><td>    0.0000</td><td>0.5382144</td><td>     0.000</td></tr>\n",
       "\t<tr><td>0</td><td>22</td><td>10</td><td>0</td><td>0</td><td>0</td><td>1</td><td>27864.3594</td><td>10598.670</td><td> 7094.9199</td><td>0.3629379</td><td>-11136.936</td></tr>\n",
       "\t<tr><td>0</td><td>44</td><td> 9</td><td>1</td><td>0</td><td>1</td><td>1</td><td>12260.7803</td><td>10857.240</td><td>12359.3096</td><td>0.5150037</td><td>-25483.308</td></tr>\n",
       "\t<tr><td>0</td><td>21</td><td> 9</td><td>1</td><td>0</td><td>0</td><td>1</td><td>31886.4297</td><td>12357.220</td><td>    0.0000</td><td>0.3230954</td><td>     0.000</td></tr>\n",
       "\t<tr><td>0</td><td>28</td><td>11</td><td>1</td><td>0</td><td>0</td><td>1</td><td>17491.4492</td><td>13371.250</td><td>    0.0000</td><td>0.4178322</td><td>     0.000</td></tr>\n",
       "\t<tr><td>0</td><td>29</td><td> 9</td><td>0</td><td>1</td><td>0</td><td>1</td><td> 9594.3076</td><td>16341.160</td><td>16900.3008</td><td>0.4061325</td><td>-28458.033</td></tr>\n",
       "\t<tr><td>0</td><td>25</td><td> 9</td><td>1</td><td>0</td><td>1</td><td>1</td><td>24731.6191</td><td>16946.631</td><td> 7343.9639</td><td>0.4879400</td><td>-14341.999</td></tr>\n",
       "\t<tr><td>0</td><td>22</td><td>10</td><td>0</td><td>0</td><td>1</td><td>1</td><td>25720.9199</td><td>23031.980</td><td> 5448.8008</td><td>0.6070139</td><td>-13865.123</td></tr>\n",
       "</tbody>\n",
       "</table>\n"
      ],
      "text/latex": [
       "A data.frame: 445 x 12\n",
       "\\begin{tabular}{llllllllllll}\n",
       " treat & age & educ & black & hisp & marr & nodegree & re74 & re75 & re78 & pscore & y\\_star\\\\\n",
       " <int> & <int> & <int> & <int> & <int> & <int> & <int> & <dbl> & <dbl> & <dbl> & <dbl> & <dbl>\\\\\n",
       "\\hline\n",
       "\t 1 & 37 & 11 & 1 & 0 & 1 & 1 & 0 & 0 &  9930.0459 & 0.4021026 & 24695.3033\\\\\n",
       "\t 1 & 22 &  9 & 0 & 1 & 0 & 1 & 0 & 0 &  3595.8940 & 0.2466787 & 14577.2364\\\\\n",
       "\t 1 & 30 & 12 & 1 & 0 & 0 & 0 & 0 & 0 & 24909.4492 & 0.5594795 & 44522.5448\\\\\n",
       "\t 1 & 27 & 11 & 1 & 0 & 0 & 1 & 0 & 0 &  7506.1460 & 0.3526728 & 21283.5954\\\\\n",
       "\t 1 & 33 &  8 & 1 & 0 & 0 & 1 & 0 & 0 &   289.7899 & 0.4096518 &   707.4054\\\\\n",
       "\t 1 & 22 &  9 & 1 & 0 & 0 & 1 & 0 & 0 &  4056.4939 & 0.3802885 & 10666.8845\\\\\n",
       "\t 1 & 23 & 12 & 1 & 0 & 0 & 0 & 0 & 0 &     0.0000 & 0.5513589 &     0.0000\\\\\n",
       "\t 1 & 32 & 11 & 1 & 0 & 0 & 1 & 0 & 0 &  8472.1582 & 0.3580540 & 23661.6754\\\\\n",
       "\t 1 & 22 & 16 & 1 & 0 & 0 & 0 & 0 & 0 &  2164.0220 & 0.4791392 &  4516.4784\\\\\n",
       "\t 1 & 33 & 12 & 0 & 0 & 1 & 0 & 0 & 0 & 12418.0703 & 0.6550840 & 18956.4563\\\\\n",
       "\t 1 & 19 &  9 & 1 & 0 & 0 & 1 & 0 & 0 &  8173.9082 & 0.3769726 & 21683.0323\\\\\n",
       "\t 1 & 21 & 13 & 1 & 0 & 0 & 0 & 0 & 0 & 17094.6406 & 0.5313407 & 32172.6544\\\\\n",
       "\t 1 & 18 &  8 & 1 & 0 & 0 & 1 & 0 & 0 &     0.0000 & 0.3927238 &     0.0000\\\\\n",
       "\t 1 & 27 & 10 & 1 & 0 & 1 & 1 & 0 & 0 & 18739.9297 & 0.4079481 & 45937.0435\\\\\n",
       "\t 1 & 17 &  7 & 1 & 0 & 0 & 1 & 0 & 0 &  3023.8789 & 0.4087014 &  7398.7490\\\\\n",
       "\t 1 & 19 & 10 & 1 & 0 & 0 & 1 & 0 & 0 &  3228.5029 & 0.3603934 &  8958.2748\\\\\n",
       "\t 1 & 27 & 13 & 1 & 0 & 0 & 0 & 0 & 0 & 14581.8604 & 0.5383536 & 27086.0286\\\\\n",
       "\t 1 & 23 & 10 & 1 & 0 & 0 & 1 & 0 & 0 &  7693.3999 & 0.3647365 & 21093.0338\\\\\n",
       "\t 1 & 40 & 12 & 1 & 0 & 0 & 0 & 0 & 0 & 10804.3203 & 0.5710242 & 18920.9487\\\\\n",
       "\t 1 & 26 & 12 & 1 & 0 & 0 & 0 & 0 & 0 & 10747.3496 & 0.5548427 & 19370.0822\\\\\n",
       "\t 1 & 23 & 11 & 1 & 0 & 0 & 1 & 0 & 0 &     0.0000 & 0.3483946 &     0.0000\\\\\n",
       "\t 1 & 41 & 14 & 0 & 0 & 0 & 0 & 0 & 0 &  5149.5010 & 0.5921721 &  8695.9540\\\\\n",
       "\t 1 & 38 &  9 & 0 & 0 & 0 & 1 & 0 & 0 &  6408.9502 & 0.4530257 & 14146.9890\\\\\n",
       "\t 1 & 24 & 11 & 1 & 0 & 0 & 1 & 0 & 0 &  1991.4000 & 0.3494619 &  5698.4758\\\\\n",
       "\t 1 & 18 & 10 & 1 & 0 & 0 & 1 & 0 & 0 & 11163.1699 & 0.3593111 & 31068.2562\\\\\n",
       "\t 1 & 29 & 11 & 1 & 0 & 1 & 1 & 0 & 0 &  9642.9990 & 0.3931007 & 24530.6074\\\\\n",
       "\t 1 & 25 & 11 & 1 & 0 & 0 & 1 & 0 & 0 &  9897.0488 & 0.3505307 & 28234.4713\\\\\n",
       "\t 1 & 27 & 10 & 0 & 1 & 0 & 1 & 0 & 0 & 11142.8701 & 0.2379134 & 46835.8184\\\\\n",
       "\t 1 & 17 & 10 & 1 & 0 & 0 & 1 & 0 & 0 & 16218.0400 & 0.3582303 & 45272.6653\\\\\n",
       "\t 1 & 24 & 11 & 1 & 0 & 0 & 1 & 0 & 0 &   995.7002 & 0.3494619 &  2849.2384\\\\\n",
       "\t ... & ... & ... & ... & ... & ... & ... & ... & ... & ... & ... & ...\\\\\n",
       "\t 0 & 17 & 11 & 1 & 0 & 0 & 1 &  4080.7300 &  3796.029 &     0.0000 & 0.3660033 &      0.000\\\\\n",
       "\t 0 & 43 & 10 & 1 & 0 & 0 & 1 &  2502.8679 &  4128.443 &  7565.2729 & 0.4290681 & -13250.746\\\\\n",
       "\t 0 & 26 & 11 & 1 & 0 & 1 & 1 &     0.0000 &  4184.732 &     0.0000 & 0.4525033 &      0.000\\\\\n",
       "\t 0 & 27 & 11 & 1 & 0 & 1 & 1 &     0.0000 &  4491.884 &     0.0000 & 0.4583619 &      0.000\\\\\n",
       "\t 0 & 19 & 11 & 1 & 0 & 0 & 1 &  6337.4922 &  4503.064 &     0.0000 & 0.3617496 &      0.000\\\\\n",
       "\t 0 & 28 & 11 & 1 & 0 & 1 & 1 &  8593.1631 &  5393.895 &  4974.5859 & 0.4065389 &  -8382.329\\\\\n",
       "\t 0 & 28 & 12 & 1 & 0 & 1 & 0 & 10585.1299 &  5551.456 & 12780.0195 & 0.5988599 & -31859.241\\\\\n",
       "\t 0 & 26 &  8 & 1 & 0 & 0 & 1 &  1126.2900 &  5562.598 &  3523.5779 & 0.4772232 &  -6740.119\\\\\n",
       "\t 0 & 31 & 12 & 1 & 0 & 0 & 0 &     0.0000 &  5613.909 &     0.0000 & 0.6432808 &      0.000\\\\\n",
       "\t 0 & 23 & 11 & 1 & 0 & 0 & 1 &  7617.3618 &  5716.407 & 10274.8398 & 0.3740959 & -16415.996\\\\\n",
       "\t 0 & 20 & 12 & 1 & 0 & 0 & 0 &  7182.4922 &  6004.728 &  4779.7202 & 0.5829747 & -11461.463\\\\\n",
       "\t 0 & 28 & 10 & 1 & 0 & 1 & 1 &  8293.3447 &  6449.480 & 16988.1797 & 0.4421258 & -30451.632\\\\\n",
       "\t 0 & 39 & 12 & 1 & 0 & 1 & 0 & 19785.3203 &  6608.137 &   499.2572 & 0.5564304 &  -1125.544\\\\\n",
       "\t 0 & 21 &  8 & 1 & 0 & 0 & 1 & 39570.6797 &  6608.304 &  3083.5811 & 0.2200385 &  -3953.504\\\\\n",
       "\t 0 & 22 & 11 & 1 & 0 & 0 & 1 &  8810.0674 &  6974.484 &  3708.7190 & 0.3823533 &  -6004.597\\\\\n",
       "\t 0 & 20 & 11 & 1 & 0 & 0 & 1 &  8009.1641 &  7666.875 &  7659.2178 & 0.3962794 & -12686.693\\\\\n",
       "\t 0 & 21 & 11 & 0 & 1 & 0 & 1 &  2992.5339 &  8920.471 & 20857.8398 & 0.3081963 & -30149.942\\\\\n",
       "\t 0 & 23 & 12 & 0 & 1 & 0 & 0 &  5721.6958 &  8960.684 &  7078.1782 & 0.4873296 & -13806.489\\\\\n",
       "\t 0 & 29 &  9 & 1 & 0 & 0 & 1 &  9268.9434 &  9160.693 &     0.0000 & 0.4541258 &      0.000\\\\\n",
       "\t 0 & 28 &  9 & 1 & 0 & 1 & 1 & 10222.4102 &  9210.447 &  1239.8440 & 0.4869610 &  -2416.666\\\\\n",
       "\t 0 & 30 & 11 & 1 & 0 & 1 & 1 &     0.0000 &  9311.938 &  3982.8010 & 0.5359700 &  -8583.068\\\\\n",
       "\t 0 & 25 & 10 & 1 & 0 & 1 & 1 & 13519.9697 &  9319.444 &     0.0000 & 0.4415139 &      0.000\\\\\n",
       "\t 0 & 28 & 11 & 1 & 0 & 1 & 1 &   824.3889 & 10033.910 &     0.0000 & 0.5382144 &      0.000\\\\\n",
       "\t 0 & 22 & 10 & 0 & 0 & 0 & 1 & 27864.3594 & 10598.670 &  7094.9199 & 0.3629379 & -11136.936\\\\\n",
       "\t 0 & 44 &  9 & 1 & 0 & 1 & 1 & 12260.7803 & 10857.240 & 12359.3096 & 0.5150037 & -25483.308\\\\\n",
       "\t 0 & 21 &  9 & 1 & 0 & 0 & 1 & 31886.4297 & 12357.220 &     0.0000 & 0.3230954 &      0.000\\\\\n",
       "\t 0 & 28 & 11 & 1 & 0 & 0 & 1 & 17491.4492 & 13371.250 &     0.0000 & 0.4178322 &      0.000\\\\\n",
       "\t 0 & 29 &  9 & 0 & 1 & 0 & 1 &  9594.3076 & 16341.160 & 16900.3008 & 0.4061325 & -28458.033\\\\\n",
       "\t 0 & 25 &  9 & 1 & 0 & 1 & 1 & 24731.6191 & 16946.631 &  7343.9639 & 0.4879400 & -14341.999\\\\\n",
       "\t 0 & 22 & 10 & 0 & 0 & 1 & 1 & 25720.9199 & 23031.980 &  5448.8008 & 0.6070139 & -13865.123\\\\\n",
       "\\end{tabular}\n"
      ],
      "text/markdown": [
       "\n",
       "A data.frame: 445 x 12\n",
       "\n",
       "| treat &lt;int&gt; | age &lt;int&gt; | educ &lt;int&gt; | black &lt;int&gt; | hisp &lt;int&gt; | marr &lt;int&gt; | nodegree &lt;int&gt; | re74 &lt;dbl&gt; | re75 &lt;dbl&gt; | re78 &lt;dbl&gt; | pscore &lt;dbl&gt; | y_star &lt;dbl&gt; |\n",
       "|---|---|---|---|---|---|---|---|---|---|---|---|\n",
       "| 1 | 37 | 11 | 1 | 0 | 1 | 1 | 0 | 0 |  9930.0459 | 0.4021026 | 24695.3033 |\n",
       "| 1 | 22 |  9 | 0 | 1 | 0 | 1 | 0 | 0 |  3595.8940 | 0.2466787 | 14577.2364 |\n",
       "| 1 | 30 | 12 | 1 | 0 | 0 | 0 | 0 | 0 | 24909.4492 | 0.5594795 | 44522.5448 |\n",
       "| 1 | 27 | 11 | 1 | 0 | 0 | 1 | 0 | 0 |  7506.1460 | 0.3526728 | 21283.5954 |\n",
       "| 1 | 33 |  8 | 1 | 0 | 0 | 1 | 0 | 0 |   289.7899 | 0.4096518 |   707.4054 |\n",
       "| 1 | 22 |  9 | 1 | 0 | 0 | 1 | 0 | 0 |  4056.4939 | 0.3802885 | 10666.8845 |\n",
       "| 1 | 23 | 12 | 1 | 0 | 0 | 0 | 0 | 0 |     0.0000 | 0.5513589 |     0.0000 |\n",
       "| 1 | 32 | 11 | 1 | 0 | 0 | 1 | 0 | 0 |  8472.1582 | 0.3580540 | 23661.6754 |\n",
       "| 1 | 22 | 16 | 1 | 0 | 0 | 0 | 0 | 0 |  2164.0220 | 0.4791392 |  4516.4784 |\n",
       "| 1 | 33 | 12 | 0 | 0 | 1 | 0 | 0 | 0 | 12418.0703 | 0.6550840 | 18956.4563 |\n",
       "| 1 | 19 |  9 | 1 | 0 | 0 | 1 | 0 | 0 |  8173.9082 | 0.3769726 | 21683.0323 |\n",
       "| 1 | 21 | 13 | 1 | 0 | 0 | 0 | 0 | 0 | 17094.6406 | 0.5313407 | 32172.6544 |\n",
       "| 1 | 18 |  8 | 1 | 0 | 0 | 1 | 0 | 0 |     0.0000 | 0.3927238 |     0.0000 |\n",
       "| 1 | 27 | 10 | 1 | 0 | 1 | 1 | 0 | 0 | 18739.9297 | 0.4079481 | 45937.0435 |\n",
       "| 1 | 17 |  7 | 1 | 0 | 0 | 1 | 0 | 0 |  3023.8789 | 0.4087014 |  7398.7490 |\n",
       "| 1 | 19 | 10 | 1 | 0 | 0 | 1 | 0 | 0 |  3228.5029 | 0.3603934 |  8958.2748 |\n",
       "| 1 | 27 | 13 | 1 | 0 | 0 | 0 | 0 | 0 | 14581.8604 | 0.5383536 | 27086.0286 |\n",
       "| 1 | 23 | 10 | 1 | 0 | 0 | 1 | 0 | 0 |  7693.3999 | 0.3647365 | 21093.0338 |\n",
       "| 1 | 40 | 12 | 1 | 0 | 0 | 0 | 0 | 0 | 10804.3203 | 0.5710242 | 18920.9487 |\n",
       "| 1 | 26 | 12 | 1 | 0 | 0 | 0 | 0 | 0 | 10747.3496 | 0.5548427 | 19370.0822 |\n",
       "| 1 | 23 | 11 | 1 | 0 | 0 | 1 | 0 | 0 |     0.0000 | 0.3483946 |     0.0000 |\n",
       "| 1 | 41 | 14 | 0 | 0 | 0 | 0 | 0 | 0 |  5149.5010 | 0.5921721 |  8695.9540 |\n",
       "| 1 | 38 |  9 | 0 | 0 | 0 | 1 | 0 | 0 |  6408.9502 | 0.4530257 | 14146.9890 |\n",
       "| 1 | 24 | 11 | 1 | 0 | 0 | 1 | 0 | 0 |  1991.4000 | 0.3494619 |  5698.4758 |\n",
       "| 1 | 18 | 10 | 1 | 0 | 0 | 1 | 0 | 0 | 11163.1699 | 0.3593111 | 31068.2562 |\n",
       "| 1 | 29 | 11 | 1 | 0 | 1 | 1 | 0 | 0 |  9642.9990 | 0.3931007 | 24530.6074 |\n",
       "| 1 | 25 | 11 | 1 | 0 | 0 | 1 | 0 | 0 |  9897.0488 | 0.3505307 | 28234.4713 |\n",
       "| 1 | 27 | 10 | 0 | 1 | 0 | 1 | 0 | 0 | 11142.8701 | 0.2379134 | 46835.8184 |\n",
       "| 1 | 17 | 10 | 1 | 0 | 0 | 1 | 0 | 0 | 16218.0400 | 0.3582303 | 45272.6653 |\n",
       "| 1 | 24 | 11 | 1 | 0 | 0 | 1 | 0 | 0 |   995.7002 | 0.3494619 |  2849.2384 |\n",
       "| ... | ... | ... | ... | ... | ... | ... | ... | ... | ... | ... | ... |\n",
       "| 0 | 17 | 11 | 1 | 0 | 0 | 1 |  4080.7300 |  3796.029 |     0.0000 | 0.3660033 |      0.000 |\n",
       "| 0 | 43 | 10 | 1 | 0 | 0 | 1 |  2502.8679 |  4128.443 |  7565.2729 | 0.4290681 | -13250.746 |\n",
       "| 0 | 26 | 11 | 1 | 0 | 1 | 1 |     0.0000 |  4184.732 |     0.0000 | 0.4525033 |      0.000 |\n",
       "| 0 | 27 | 11 | 1 | 0 | 1 | 1 |     0.0000 |  4491.884 |     0.0000 | 0.4583619 |      0.000 |\n",
       "| 0 | 19 | 11 | 1 | 0 | 0 | 1 |  6337.4922 |  4503.064 |     0.0000 | 0.3617496 |      0.000 |\n",
       "| 0 | 28 | 11 | 1 | 0 | 1 | 1 |  8593.1631 |  5393.895 |  4974.5859 | 0.4065389 |  -8382.329 |\n",
       "| 0 | 28 | 12 | 1 | 0 | 1 | 0 | 10585.1299 |  5551.456 | 12780.0195 | 0.5988599 | -31859.241 |\n",
       "| 0 | 26 |  8 | 1 | 0 | 0 | 1 |  1126.2900 |  5562.598 |  3523.5779 | 0.4772232 |  -6740.119 |\n",
       "| 0 | 31 | 12 | 1 | 0 | 0 | 0 |     0.0000 |  5613.909 |     0.0000 | 0.6432808 |      0.000 |\n",
       "| 0 | 23 | 11 | 1 | 0 | 0 | 1 |  7617.3618 |  5716.407 | 10274.8398 | 0.3740959 | -16415.996 |\n",
       "| 0 | 20 | 12 | 1 | 0 | 0 | 0 |  7182.4922 |  6004.728 |  4779.7202 | 0.5829747 | -11461.463 |\n",
       "| 0 | 28 | 10 | 1 | 0 | 1 | 1 |  8293.3447 |  6449.480 | 16988.1797 | 0.4421258 | -30451.632 |\n",
       "| 0 | 39 | 12 | 1 | 0 | 1 | 0 | 19785.3203 |  6608.137 |   499.2572 | 0.5564304 |  -1125.544 |\n",
       "| 0 | 21 |  8 | 1 | 0 | 0 | 1 | 39570.6797 |  6608.304 |  3083.5811 | 0.2200385 |  -3953.504 |\n",
       "| 0 | 22 | 11 | 1 | 0 | 0 | 1 |  8810.0674 |  6974.484 |  3708.7190 | 0.3823533 |  -6004.597 |\n",
       "| 0 | 20 | 11 | 1 | 0 | 0 | 1 |  8009.1641 |  7666.875 |  7659.2178 | 0.3962794 | -12686.693 |\n",
       "| 0 | 21 | 11 | 0 | 1 | 0 | 1 |  2992.5339 |  8920.471 | 20857.8398 | 0.3081963 | -30149.942 |\n",
       "| 0 | 23 | 12 | 0 | 1 | 0 | 0 |  5721.6958 |  8960.684 |  7078.1782 | 0.4873296 | -13806.489 |\n",
       "| 0 | 29 |  9 | 1 | 0 | 0 | 1 |  9268.9434 |  9160.693 |     0.0000 | 0.4541258 |      0.000 |\n",
       "| 0 | 28 |  9 | 1 | 0 | 1 | 1 | 10222.4102 |  9210.447 |  1239.8440 | 0.4869610 |  -2416.666 |\n",
       "| 0 | 30 | 11 | 1 | 0 | 1 | 1 |     0.0000 |  9311.938 |  3982.8010 | 0.5359700 |  -8583.068 |\n",
       "| 0 | 25 | 10 | 1 | 0 | 1 | 1 | 13519.9697 |  9319.444 |     0.0000 | 0.4415139 |      0.000 |\n",
       "| 0 | 28 | 11 | 1 | 0 | 1 | 1 |   824.3889 | 10033.910 |     0.0000 | 0.5382144 |      0.000 |\n",
       "| 0 | 22 | 10 | 0 | 0 | 0 | 1 | 27864.3594 | 10598.670 |  7094.9199 | 0.3629379 | -11136.936 |\n",
       "| 0 | 44 |  9 | 1 | 0 | 1 | 1 | 12260.7803 | 10857.240 | 12359.3096 | 0.5150037 | -25483.308 |\n",
       "| 0 | 21 |  9 | 1 | 0 | 0 | 1 | 31886.4297 | 12357.220 |     0.0000 | 0.3230954 |      0.000 |\n",
       "| 0 | 28 | 11 | 1 | 0 | 0 | 1 | 17491.4492 | 13371.250 |     0.0000 | 0.4178322 |      0.000 |\n",
       "| 0 | 29 |  9 | 0 | 1 | 0 | 1 |  9594.3076 | 16341.160 | 16900.3008 | 0.4061325 | -28458.033 |\n",
       "| 0 | 25 |  9 | 1 | 0 | 1 | 1 | 24731.6191 | 16946.631 |  7343.9639 | 0.4879400 | -14341.999 |\n",
       "| 0 | 22 | 10 | 0 | 0 | 1 | 1 | 25720.9199 | 23031.980 |  5448.8008 | 0.6070139 | -13865.123 |\n",
       "\n"
      ],
      "text/plain": [
       "    treat age educ black hisp marr nodegree re74       re75      re78      \n",
       "1   1     37  11   1     0    1    1        0          0          9930.0459\n",
       "2   1     22   9   0     1    0    1        0          0          3595.8940\n",
       "3   1     30  12   1     0    0    0        0          0         24909.4492\n",
       "4   1     27  11   1     0    0    1        0          0          7506.1460\n",
       "5   1     33   8   1     0    0    1        0          0           289.7899\n",
       "6   1     22   9   1     0    0    1        0          0          4056.4939\n",
       "7   1     23  12   1     0    0    0        0          0             0.0000\n",
       "8   1     32  11   1     0    0    1        0          0          8472.1582\n",
       "9   1     22  16   1     0    0    0        0          0          2164.0220\n",
       "10  1     33  12   0     0    1    0        0          0         12418.0703\n",
       "11  1     19   9   1     0    0    1        0          0          8173.9082\n",
       "12  1     21  13   1     0    0    0        0          0         17094.6406\n",
       "13  1     18   8   1     0    0    1        0          0             0.0000\n",
       "14  1     27  10   1     0    1    1        0          0         18739.9297\n",
       "15  1     17   7   1     0    0    1        0          0          3023.8789\n",
       "16  1     19  10   1     0    0    1        0          0          3228.5029\n",
       "17  1     27  13   1     0    0    0        0          0         14581.8604\n",
       "18  1     23  10   1     0    0    1        0          0          7693.3999\n",
       "19  1     40  12   1     0    0    0        0          0         10804.3203\n",
       "20  1     26  12   1     0    0    0        0          0         10747.3496\n",
       "21  1     23  11   1     0    0    1        0          0             0.0000\n",
       "22  1     41  14   0     0    0    0        0          0          5149.5010\n",
       "23  1     38   9   0     0    0    1        0          0          6408.9502\n",
       "24  1     24  11   1     0    0    1        0          0          1991.4000\n",
       "25  1     18  10   1     0    0    1        0          0         11163.1699\n",
       "26  1     29  11   1     0    1    1        0          0          9642.9990\n",
       "27  1     25  11   1     0    0    1        0          0          9897.0488\n",
       "28  1     27  10   0     1    0    1        0          0         11142.8701\n",
       "29  1     17  10   1     0    0    1        0          0         16218.0400\n",
       "30  1     24  11   1     0    0    1        0          0           995.7002\n",
       "... ...   ... ...  ...   ...  ...  ...      ...        ...       ...       \n",
       "416 0     17  11   1     0    0    1         4080.7300  3796.029     0.0000\n",
       "417 0     43  10   1     0    0    1         2502.8679  4128.443  7565.2729\n",
       "418 0     26  11   1     0    1    1            0.0000  4184.732     0.0000\n",
       "419 0     27  11   1     0    1    1            0.0000  4491.884     0.0000\n",
       "420 0     19  11   1     0    0    1         6337.4922  4503.064     0.0000\n",
       "421 0     28  11   1     0    1    1         8593.1631  5393.895  4974.5859\n",
       "422 0     28  12   1     0    1    0        10585.1299  5551.456 12780.0195\n",
       "423 0     26   8   1     0    0    1         1126.2900  5562.598  3523.5779\n",
       "424 0     31  12   1     0    0    0            0.0000  5613.909     0.0000\n",
       "425 0     23  11   1     0    0    1         7617.3618  5716.407 10274.8398\n",
       "426 0     20  12   1     0    0    0         7182.4922  6004.728  4779.7202\n",
       "427 0     28  10   1     0    1    1         8293.3447  6449.480 16988.1797\n",
       "428 0     39  12   1     0    1    0        19785.3203  6608.137   499.2572\n",
       "429 0     21   8   1     0    0    1        39570.6797  6608.304  3083.5811\n",
       "430 0     22  11   1     0    0    1         8810.0674  6974.484  3708.7190\n",
       "431 0     20  11   1     0    0    1         8009.1641  7666.875  7659.2178\n",
       "432 0     21  11   0     1    0    1         2992.5339  8920.471 20857.8398\n",
       "433 0     23  12   0     1    0    0         5721.6958  8960.684  7078.1782\n",
       "434 0     29   9   1     0    0    1         9268.9434  9160.693     0.0000\n",
       "435 0     28   9   1     0    1    1        10222.4102  9210.447  1239.8440\n",
       "436 0     30  11   1     0    1    1            0.0000  9311.938  3982.8010\n",
       "437 0     25  10   1     0    1    1        13519.9697  9319.444     0.0000\n",
       "438 0     28  11   1     0    1    1          824.3889 10033.910     0.0000\n",
       "439 0     22  10   0     0    0    1        27864.3594 10598.670  7094.9199\n",
       "440 0     44   9   1     0    1    1        12260.7803 10857.240 12359.3096\n",
       "441 0     21   9   1     0    0    1        31886.4297 12357.220     0.0000\n",
       "442 0     28  11   1     0    0    1        17491.4492 13371.250     0.0000\n",
       "443 0     29   9   0     1    0    1         9594.3076 16341.160 16900.3008\n",
       "444 0     25   9   1     0    1    1        24731.6191 16946.631  7343.9639\n",
       "445 0     22  10   0     0    1    1        25720.9199 23031.980  5448.8008\n",
       "    pscore    y_star    \n",
       "1   0.4021026 24695.3033\n",
       "2   0.2466787 14577.2364\n",
       "3   0.5594795 44522.5448\n",
       "4   0.3526728 21283.5954\n",
       "5   0.4096518   707.4054\n",
       "6   0.3802885 10666.8845\n",
       "7   0.5513589     0.0000\n",
       "8   0.3580540 23661.6754\n",
       "9   0.4791392  4516.4784\n",
       "10  0.6550840 18956.4563\n",
       "11  0.3769726 21683.0323\n",
       "12  0.5313407 32172.6544\n",
       "13  0.3927238     0.0000\n",
       "14  0.4079481 45937.0435\n",
       "15  0.4087014  7398.7490\n",
       "16  0.3603934  8958.2748\n",
       "17  0.5383536 27086.0286\n",
       "18  0.3647365 21093.0338\n",
       "19  0.5710242 18920.9487\n",
       "20  0.5548427 19370.0822\n",
       "21  0.3483946     0.0000\n",
       "22  0.5921721  8695.9540\n",
       "23  0.4530257 14146.9890\n",
       "24  0.3494619  5698.4758\n",
       "25  0.3593111 31068.2562\n",
       "26  0.3931007 24530.6074\n",
       "27  0.3505307 28234.4713\n",
       "28  0.2379134 46835.8184\n",
       "29  0.3582303 45272.6653\n",
       "30  0.3494619  2849.2384\n",
       "... ...       ...       \n",
       "416 0.3660033      0.000\n",
       "417 0.4290681 -13250.746\n",
       "418 0.4525033      0.000\n",
       "419 0.4583619      0.000\n",
       "420 0.3617496      0.000\n",
       "421 0.4065389  -8382.329\n",
       "422 0.5988599 -31859.241\n",
       "423 0.4772232  -6740.119\n",
       "424 0.6432808      0.000\n",
       "425 0.3740959 -16415.996\n",
       "426 0.5829747 -11461.463\n",
       "427 0.4421258 -30451.632\n",
       "428 0.5564304  -1125.544\n",
       "429 0.2200385  -3953.504\n",
       "430 0.3823533  -6004.597\n",
       "431 0.3962794 -12686.693\n",
       "432 0.3081963 -30149.942\n",
       "433 0.4873296 -13806.489\n",
       "434 0.4541258      0.000\n",
       "435 0.4869610  -2416.666\n",
       "436 0.5359700  -8583.068\n",
       "437 0.4415139      0.000\n",
       "438 0.5382144      0.000\n",
       "439 0.3629379 -11136.936\n",
       "440 0.5150037 -25483.308\n",
       "441 0.3230954      0.000\n",
       "442 0.4178322      0.000\n",
       "443 0.4061325 -28458.033\n",
       "444 0.4879400 -14341.999\n",
       "445 0.6070139 -13865.123"
      ]
     },
     "metadata": {},
     "output_type": "display_data"
    }
   ],
   "source": [
    "df$y_star <- df$re78 / (df$treat * df$pscore - (1 - df$treat) * (1 - df$pscore))\n",
    "mean(df$y_star, na.rm = TRUE)\n",
    "df"
   ]
  },
  {
   "cell_type": "code",
   "execution_count": 111,
   "metadata": {
    "vscode": {
     "languageId": "r"
    }
   },
   "outputs": [],
   "source": [
    "# Correr una vez esta parte\n",
    "X <- df[,X] \n",
    "Y <- df[,\"y_star\"]\n",
    "D <- df[,\"treat\"]"
   ]
  },
  {
   "cell_type": "code",
   "execution_count": 112,
   "metadata": {
    "vscode": {
     "languageId": "r"
    }
   },
   "outputs": [
    {
     "data": {
      "text/plain": [
       "GRF tree object \n",
       "Number of training samples: 222 \n",
       "Variable splits: \n",
       "(1) split_variable: re75  split_value: 377.569 \n",
       "  (2) split_variable: educ  split_value: 11 \n",
       "    (4) split_variable: educ  split_value: 9 \n",
       "      (8) split_variable: age  split_value: 25 \n",
       "        (10) * num_samples: 19  avg_Y: -3698.09 avg_W: 0.26 \n",
       "        (11) * num_samples: 7  avg_Y: 1256.23 avg_W: 0.43 \n",
       "      (9) split_variable: age  split_value: 24 \n",
       "        (12) * num_samples: 14  avg_Y: -3073.93 avg_W: 0.07 \n",
       "        (13) * num_samples: 22  avg_Y: 1007.69 avg_W: 0.32 \n",
       "    (5) * num_samples: 11  avg_Y: 11584.65 avg_W: 0.73 \n",
       "  (3) split_variable: re75  split_value: 1468.38 \n",
       "    (6) * num_samples: 11  avg_Y: 712.43 avg_W: 0.36 \n",
       "    (7) * num_samples: 27  avg_Y: 6923.17 avg_W: 0.59 "
      ]
     },
     "metadata": {},
     "output_type": "display_data"
    }
   ],
   "source": [
    "library(grf)\n",
    "tree <- causal_forest(X, Y, D, num.trees = 1,\n",
    "                      mtry = ncol(X))\n",
    "\n",
    "get_tree(tree, 1)"
   ]
  },
  {
   "cell_type": "markdown",
   "metadata": {},
   "source": [
    "#### The tree is divided into 6 splits based on 1975 earnings, years of education and age. We see that the NSW work program is designed primarily for people with high years of education and age above 24, and that it is also primarily dependent on the results obtained in 1975. For earnings below 377,564 the following occurs: the younger the workers are and the fewer years of education they have, the negative causal effect of treatment is, with a low probability of these individuals being treated. For higher years of education, but less than 11 years, the above relationship holds. After 11 years of education, age is no longer relevant, the probability of being treated increases and the causal effect is 11,584.65, showing that the program mainly benefits people with a high level of education for the year 1978. On the other hand, if individuals had a high performance in 1975, it can be divided into those who exceeded 1,468.38 thousand dollars, with a medium probability of being treated and with a CATE of 6,923.17, and those who did not, with a probability of 0.36 of being treated and with a CATE of 712.43.\n",
    "\n",
    "#### In summary, according to the results of the earnings of 1978, the work program helps mainly individuals with good results starting their new jobs, highly educated individuals and individuals older than 24 years. Most did not do so well at the beginning, and from there everything depended on the level of education, then on age. For those who did well, it depended on their performance level in 1975."
   ]
  },
  {
   "cell_type": "markdown",
   "metadata": {},
   "source": [
    "### 1.4. Heterogeneous effects with causal forests (3 points). \n",
    "Use causal forests like we saw in class. For Python, you should use the `econml` package; for R, use the `grf` package; and for Julia, you will need to use the auxiliary variable $Y$ ∗ computed in the previous exercise and fit a random forest regressor. Report the importance of the prediction variables."
   ]
  },
  {
   "cell_type": "code",
   "execution_count": 113,
   "metadata": {
    "vscode": {
     "languageId": "r"
    }
   },
   "outputs": [
    {
     "data": {
      "text/plain": [
       "GRF tree object \n",
       "Number of training samples: 222 \n",
       "Variable splits: \n",
       "(1) split_variable: age  split_value: 23 \n",
       "  (2) split_variable: re75  split_value: 1713.15 \n",
       "    (4) split_variable: black  split_value: 0 \n",
       "      (8) * num_samples: 2  avg_Y: -13701.74 avg_W: 0 \n",
       "      (9) split_variable: age  split_value: 18 \n",
       "        (12) * num_samples: 13  avg_Y: 4853.9 avg_W: 0.46 \n",
       "        (13) * num_samples: 20  avg_Y: 2328.35 avg_W: 0.5 \n",
       "    (5) * num_samples: 10  avg_Y: -2271.93 avg_W: 0.3 \n",
       "  (3) split_variable: educ  split_value: 11 \n",
       "    (6) split_variable: re74  split_value: 0 \n",
       "      (10) split_variable: educ  split_value: 10 \n",
       "        (14) * num_samples: 20  avg_Y: -59.31 avg_W: 0.45 \n",
       "        (15) * num_samples: 15  avg_Y: 6016.31 avg_W: 0.47 \n",
       "      (11) * num_samples: 12  avg_Y: -848.3 avg_W: 0.33 \n",
       "    (7) * num_samples: 19  avg_Y: 7133.24 avg_W: 0.74 "
      ]
     },
     "metadata": {},
     "output_type": "display_data"
    }
   ],
   "source": [
    "cf <- causal_forest(X, Y, D)\n",
    "cf_smalltrees <- causal_forest(X, Y, D)\n",
    "tree <- get_tree(cf_smalltrees, 1)\n",
    "tree"
   ]
  },
  {
   "cell_type": "code",
   "execution_count": 114,
   "metadata": {
    "vscode": {
     "languageId": "r"
    }
   },
   "outputs": [
    {
     "data": {
      "text/html": [
       "<table class=\"dataframe\">\n",
       "<caption>A data.frame: 8 x 2</caption>\n",
       "<thead>\n",
       "\t<tr><th scope=col>variable</th><th scope=col>importance</th></tr>\n",
       "\t<tr><th scope=col>&lt;chr&gt;</th><th scope=col>&lt;dbl&gt;</th></tr>\n",
       "</thead>\n",
       "<tbody>\n",
       "\t<tr><td>age     </td><td>0.34194852</td></tr>\n",
       "\t<tr><td>re75    </td><td>0.18949924</td></tr>\n",
       "\t<tr><td>black   </td><td>0.16179115</td></tr>\n",
       "\t<tr><td>educ    </td><td>0.14640666</td></tr>\n",
       "\t<tr><td>re74    </td><td>0.07687030</td></tr>\n",
       "\t<tr><td>nodegree</td><td>0.04330033</td></tr>\n",
       "\t<tr><td>marr    </td><td>0.02970115</td></tr>\n",
       "\t<tr><td>hisp    </td><td>0.01048266</td></tr>\n",
       "</tbody>\n",
       "</table>\n"
      ],
      "text/latex": [
       "A data.frame: 8 x 2\n",
       "\\begin{tabular}{ll}\n",
       " variable & importance\\\\\n",
       " <chr> & <dbl>\\\\\n",
       "\\hline\n",
       "\t age      & 0.34194852\\\\\n",
       "\t re75     & 0.18949924\\\\\n",
       "\t black    & 0.16179115\\\\\n",
       "\t educ     & 0.14640666\\\\\n",
       "\t re74     & 0.07687030\\\\\n",
       "\t nodegree & 0.04330033\\\\\n",
       "\t marr     & 0.02970115\\\\\n",
       "\t hisp     & 0.01048266\\\\\n",
       "\\end{tabular}\n"
      ],
      "text/markdown": [
       "\n",
       "A data.frame: 8 x 2\n",
       "\n",
       "| variable &lt;chr&gt; | importance &lt;dbl&gt; |\n",
       "|---|---|\n",
       "| age      | 0.34194852 |\n",
       "| re75     | 0.18949924 |\n",
       "| black    | 0.16179115 |\n",
       "| educ     | 0.14640666 |\n",
       "| re74     | 0.07687030 |\n",
       "| nodegree | 0.04330033 |\n",
       "| marr     | 0.02970115 |\n",
       "| hisp     | 0.01048266 |\n",
       "\n"
      ],
      "text/plain": [
       "  variable importance\n",
       "1 age      0.34194852\n",
       "2 re75     0.18949924\n",
       "3 black    0.16179115\n",
       "4 educ     0.14640666\n",
       "5 re74     0.07687030\n",
       "6 nodegree 0.04330033\n",
       "7 marr     0.02970115\n",
       "8 hisp     0.01048266"
      ]
     },
     "metadata": {},
     "output_type": "display_data"
    }
   ],
   "source": [
    "varimp <- variable_importance(cf)\n",
    "ranked.vars <- order(varimp, decreasing = TRUE)\n",
    "importances <- data.frame(variable = colnames(X)[ranked.vars], importance = varimp[ranked.vars])\n",
    "importances"
   ]
  },
  {
   "cell_type": "markdown",
   "metadata": {},
   "source": [
    "### 1.5. Plot heterogeneous effects (1.5 points). \n",
    "Plot how the predicted treatment effect changes depending on a variable of your choice. (You can see the last example in PD11 for clarification of what you should do in this exercise)"
   ]
  },
  {
   "cell_type": "code",
   "execution_count": 121,
   "metadata": {
    "vscode": {
     "languageId": "r"
    }
   },
   "outputs": [],
   "source": [
    "df$predicted_effects <- predict(cf, X)$predictions\n",
    "\n",
    "# Aislamos efectos predichos por variable\n",
    "predicted_effects_age <- aggregate(predicted_effects ~ age, data = df, mean)\n",
    "df$re75_bins <- floor(df$re75 / 500) * 500 # modificamos variable re75 en intervalos de 500 porque es continua \n",
    "predicted_effects_re75 <- aggregate(predicted_effects ~ re75_bins, data = df, mean)\n",
    "predicted_effects_black <- aggregate(predicted_effects ~ black, data = df, mean)\n",
    "predicted_effects_educ <- aggregate(predicted_effects ~ educ, data = df, mean)"
   ]
  },
  {
   "cell_type": "code",
   "execution_count": 122,
   "metadata": {
    "vscode": {
     "languageId": "r"
    }
   },
   "outputs": [
    {
     "data": {
      "image/png": "[encoded data removed]",
      "text/plain": [
       "Plot with title \"Predicted Effects by Education\""
      ]
     },
     "metadata": {
      "image/png": {
       "height": 420,
       "width": 420
      }
     },
     "output_type": "display_data"
    }
   ],
   "source": [
    "par(mfrow = c(2, 2))\n",
    "\n",
    "# Predicted effects by age\n",
    "plot(predicted_effects_age$age, predicted_effects_age$predicted_effects, type = \"l\", col = \"blue\",\n",
    "     xlab = \"Age\", ylab = \"Predicted Effects\", main = \"Predicted Effects by Age\")\n",
    "\n",
    "# Predicted effects by re75\n",
    "plot(predicted_effects_re75$re75, predicted_effects_re75$predicted_effects, type = \"l\", col = \"green\",\n",
    "     xlab = \"re75\", ylab = \"Predicted Effects\", main = \"Predicted Effects by re75\")\n",
    "\n",
    "# Predicted effects by black\n",
    "plot(predicted_effects_black$black, predicted_effects_black$predicted_effects, type = \"l\", col = \"red\",\n",
    "     xlab = \"Black\", ylab = \"Predicted Effects\", main = \"Predicted Effects by Black\")\n",
    "\n",
    "# Predicted effects by educ\n",
    "plot(predicted_effects_educ$educ, predicted_effects_educ$predicted_effects, type = \"l\", col = \"purple\",\n",
    "     xlab = \"Education\", ylab = \"Predicted Effects\", main = \"Predicted Effects by Education\")\n"
   ]
  },
  {
   "cell_type": "markdown",
   "metadata": {},
   "source": [
    "# Part 2: Double/Debiased machine learning in observational data"
   ]
  },
  {
   "cell_type": "markdown",
   "metadata": {},
   "source": [
    "In this part, we will be using observational data for computing the average treatment effect of the same program as in Part 1. This data is constructed by taking the treatment group from the same dataset as in Part 1, but constructing the control group from a different dataset; that is, the entirety of the control is comprised of observations from the Current Population Survey. Therefor, we may not have comparable treatment and control groups. To tackle this issue, we can use Double/Debiased machine learning."
   ]
  },
  {
   "cell_type": "markdown",
   "metadata": {},
   "source": [
    "### 2.1. Load the data (1 points). "
   ]
  },
  {
   "cell_type": "code",
   "execution_count": null,
   "metadata": {
    "vscode": {
     "languageId": "r"
    }
   },
   "outputs": [],
   "source": []
  },
  {
   "cell_type": "markdown",
   "metadata": {},
   "source": [
    "### 2.2. Group comparisons (1.5 points). \n",
    "For the treatment and control group separately, report summary statistics of three variables of your choice. Can you spot any big differences between the treatment and control groups?"
   ]
  },
  {
   "cell_type": "code",
   "execution_count": null,
   "metadata": {
    "vscode": {
     "languageId": "r"
    }
   },
   "outputs": [],
   "source": []
  },
  {
   "cell_type": "markdown",
   "metadata": {},
   "source": [
    "### 2.3. Compute the SMD (1.5 points). \n",
    "Find the simple difference of means, which we can use as a naive estimate of the ATE. How does the result in this case compare to the result in point 1.2.?"
   ]
  },
  {
   "cell_type": "code",
   "execution_count": null,
   "metadata": {
    "vscode": {
     "languageId": "r"
    }
   },
   "outputs": [],
   "source": []
  },
  {
   "cell_type": "markdown",
   "metadata": {},
   "source": [
    "### 2.4. Using DML (6 points). \n",
    "Use the DML procedure as we saw in the Lab, in order to find a better estimate of the ATE. You may use the `doubleML` packages for Python and R, but this package does not exist for Julia, so you will have to build your own procedure like we saw in class. You will be rewarded extra points for using more than one method for predictions. At the end, report the treatment effect you found, as well as the MSE for $D$ and $Y$ achieved by the method(s) you used."
   ]
  }
 ],
 "metadata": {
  "kernelspec": {
   "display_name": "R",
   "language": "R",
   "name": "ir"
  },
  "language_info": {
   "codemirror_mode": "r",
   "file_extension": ".r",
   "mimetype": "text/x-r-source",
   "name": "R",
   "pygments_lexer": "r",
   "version": "4.2.3"
  }
 },
 "nbformat": 4,
 "nbformat_minor": 2
}
