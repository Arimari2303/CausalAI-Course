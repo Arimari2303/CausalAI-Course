{
 "cells": [
  {
   "cell_type": "markdown",
   "metadata": {},
   "source": [
    "# Part 1: Heterogeneous treatment effects using causal trees and forests\n",
    "\n",
    "For this part, we will be using experimental data for computing heterogeneous effects through causal trees and forests. For all exercises, the predictors X are all variables that are not the outcome Y or the treatment D."
   ]
  },
  {
   "cell_type": "markdown",
   "metadata": {},
   "source": [
    "1.1. Load the data (1 points). This is data for and experiment regarding the National Supported Work Demonstration (NSW) job-training program. You can find the data here, and read a description of the data here. For further details of the experiment and the program, you can use this link"
   ]
  },
  {
   "cell_type": "code",
   "execution_count": null,
   "metadata": {},
   "outputs": [],
   "source": [
    "using CSV\n",
    "using DataFrames  \n",
    "\n",
    "url = \"https://raw.githubusercontent.com/d2cml-ai/CausalAI-Course/main/Labs/Assignment/Assignment_5/data/experimental/experimental_control.csv\"\n",
    "df = CSV.read(download(url), DataFrame)\n",
    "\n",
    "first(df, 5)"
   ]
  },
  {
   "cell_type": "code",
   "execution_count": 17,
   "metadata": {},
   "outputs": [
    {
     "data": {
      "text/html": [
       "<div><div style = \"float: left;\"><span>10×3 DataFrame</span></div><div style = \"clear: both;\"></div></div><div class = \"data-frame\" style = \"overflow-x: scroll;\"><table class = \"data-frame\" style = \"margin-bottom: 6px;\"><thead><tr class = \"header\"><th class = \"rowNumber\" style = \"font-weight: bold; text-align: right;\">Row</th><th style = \"text-align: left;\">names</th><th style = \"text-align: left;\">scitypes</th><th style = \"text-align: left;\">types</th></tr><tr class = \"subheader headerLastRow\"><th class = \"rowNumber\" style = \"font-weight: bold; text-align: right;\"></th><th title = \"String\" style = \"text-align: left;\">String</th><th title = \"DataType\" style = \"text-align: left;\">DataType</th><th title = \"DataType\" style = \"text-align: left;\">DataType</th></tr></thead><tbody><tr><td class = \"rowNumber\" style = \"font-weight: bold; text-align: right;\">1</td><td style = \"text-align: left;\">treat</td><td style = \"text-align: left;\">AbstractVector{Count}</td><td style = \"text-align: left;\">Int64</td></tr><tr><td class = \"rowNumber\" style = \"font-weight: bold; text-align: right;\">2</td><td style = \"text-align: left;\">age</td><td style = \"text-align: left;\">AbstractVector{Count}</td><td style = \"text-align: left;\">Int64</td></tr><tr><td class = \"rowNumber\" style = \"font-weight: bold; text-align: right;\">3</td><td style = \"text-align: left;\">educ</td><td style = \"text-align: left;\">AbstractVector{Count}</td><td style = \"text-align: left;\">Int64</td></tr><tr><td class = \"rowNumber\" style = \"font-weight: bold; text-align: right;\">4</td><td style = \"text-align: left;\">black</td><td style = \"text-align: left;\">AbstractVector{Count}</td><td style = \"text-align: left;\">Int64</td></tr><tr><td class = \"rowNumber\" style = \"font-weight: bold; text-align: right;\">5</td><td style = \"text-align: left;\">hisp</td><td style = \"text-align: left;\">AbstractVector{Count}</td><td style = \"text-align: left;\">Int64</td></tr><tr><td class = \"rowNumber\" style = \"font-weight: bold; text-align: right;\">6</td><td style = \"text-align: left;\">marr</td><td style = \"text-align: left;\">AbstractVector{Count}</td><td style = \"text-align: left;\">Int64</td></tr><tr><td class = \"rowNumber\" style = \"font-weight: bold; text-align: right;\">7</td><td style = \"text-align: left;\">nodegree</td><td style = \"text-align: left;\">AbstractVector{Count}</td><td style = \"text-align: left;\">Int64</td></tr><tr><td class = \"rowNumber\" style = \"font-weight: bold; text-align: right;\">8</td><td style = \"text-align: left;\">re74</td><td style = \"text-align: left;\">AbstractVector{Continuous}</td><td style = \"text-align: left;\">Float64</td></tr><tr><td class = \"rowNumber\" style = \"font-weight: bold; text-align: right;\">9</td><td style = \"text-align: left;\">re75</td><td style = \"text-align: left;\">AbstractVector{Continuous}</td><td style = \"text-align: left;\">Float64</td></tr><tr><td class = \"rowNumber\" style = \"font-weight: bold; text-align: right;\">10</td><td style = \"text-align: left;\">re78</td><td style = \"text-align: left;\">AbstractVector{Continuous}</td><td style = \"text-align: left;\">Float64</td></tr></tbody></table></div>"
      ],
      "text/latex": [
       "\\begin{tabular}{r|ccc}\n",
       "\t& names & scitypes & types\\\\\n",
       "\t\\hline\n",
       "\t& String & DataType & DataType\\\\\n",
       "\t\\hline\n",
       "\t1 & treat & AbstractVector\\{Count\\} & Int64 \\\\\n",
       "\t2 & age & AbstractVector\\{Count\\} & Int64 \\\\\n",
       "\t3 & educ & AbstractVector\\{Count\\} & Int64 \\\\\n",
       "\t4 & black & AbstractVector\\{Count\\} & Int64 \\\\\n",
       "\t5 & hisp & AbstractVector\\{Count\\} & Int64 \\\\\n",
       "\t6 & marr & AbstractVector\\{Count\\} & Int64 \\\\\n",
       "\t7 & nodegree & AbstractVector\\{Count\\} & Int64 \\\\\n",
       "\t8 & re74 & AbstractVector\\{Continuous\\} & Float64 \\\\\n",
       "\t9 & re75 & AbstractVector\\{Continuous\\} & Float64 \\\\\n",
       "\t10 & re78 & AbstractVector\\{Continuous\\} & Float64 \\\\\n",
       "\\end{tabular}\n"
      ],
      "text/plain": [
       "\u001b[1m10×3 DataFrame\u001b[0m\n",
       "\u001b[1m Row \u001b[0m│\u001b[1m names    \u001b[0m\u001b[1m scitypes                   \u001b[0m\u001b[1m types    \u001b[0m\n",
       "     │\u001b[90m String   \u001b[0m\u001b[90m DataType                   \u001b[0m\u001b[90m DataType \u001b[0m\n",
       "─────┼────────────────────────────────────────────────\n",
       "   1 │ treat     AbstractVector{Count}       Int64\n",
       "   2 │ age       AbstractVector{Count}       Int64\n",
       "   3 │ educ      AbstractVector{Count}       Int64\n",
       "   4 │ black     AbstractVector{Count}       Int64\n",
       "   5 │ hisp      AbstractVector{Count}       Int64\n",
       "   6 │ marr      AbstractVector{Count}       Int64\n",
       "   7 │ nodegree  AbstractVector{Count}       Int64\n",
       "   8 │ re74      AbstractVector{Continuous}  Float64\n",
       "   9 │ re75      AbstractVector{Continuous}  Float64\n",
       "  10 │ re78      AbstractVector{Continuous}  Float64"
      ]
     },
     "metadata": {},
     "output_type": "display_data"
    }
   ],
   "source": [
    "summary_table = DataFrame(\n",
    "    names = names(df),                \n",
    "    scitypes = scitype.(eachcol(df)), \n",
    "    types = eltype.(eachcol(df))   \n",
    ")   "
   ]
  },
  {
   "cell_type": "markdown",
   "metadata": {},
   "source": [
    "1.2. Find the ATE (1.5 points). With re78 as the outcome variable of interest, find the Average Treatment Effect of participation in the program. Specifically, you should find it by calculating the difference between the means of the treatment group and the control group (the Simple Difference of Means or SDM). What can you say about the program?"
   ]
  },
  {
   "cell_type": "code",
   "execution_count": 3,
   "metadata": {},
   "outputs": [
    {
     "name": "stdout",
     "output_type": "stream",
     "text": [
      "El Average Treatment Effect (ATE) es: 1794.3423818501024\n"
     ]
    }
   ],
   "source": [
    "# First method\n",
    "using Statistics \n",
    "\n",
    "mean_treat = mean(df[df.treat .== 1, :re78])\n",
    "mean_control = mean(df[df.treat .== 0, :re78])\n",
    "\n",
    "# Calcular el ATE\n",
    "ATE = mean_treat - mean_control\n",
    "\n",
    "println(\"El Average Treatment Effect (ATE) es: $ATE\")"
   ]
  },
  {
   "cell_type": "code",
   "execution_count": 4,
   "metadata": {},
   "outputs": [
    {
     "data": {
      "text/plain": [
       "StatsModels.TableRegressionModel{LinearModel{GLM.LmResp{Vector{Float64}}, GLM.DensePredChol{Float64, LinearAlgebra.CholeskyPivoted{Float64, Matrix{Float64}, Vector{Int64}}}}, Matrix{Float64}}\n",
       "\n",
       "re78 ~ 1 + treat\n",
       "\n",
       "Coefficients:\n",
       "───────────────────────────────────────────────────────────────────────\n",
       "               Coef.  Std. Error      t  Pr(>|t|)  Lower 95%  Upper 95%\n",
       "───────────────────────────────────────────────────────────────────────\n",
       "(Intercept)  4554.8      408.046  11.16    <1e-24   3752.85     5356.75\n",
       "treat        1794.34     632.853   2.84    0.0048    550.574    3038.11\n",
       "───────────────────────────────────────────────────────────────────────"
      ]
     },
     "metadata": {},
     "output_type": "display_data"
    }
   ],
   "source": [
    "# Second method\n",
    "using GLM\n",
    "\n",
    "model = lm(@formula(re78 ~ treat), df)"
   ]
  },
  {
   "cell_type": "markdown",
   "metadata": {},
   "source": [
    "The program had a positive impact on the participants' income, increasing their earnings by an average of 1794.34 monetary units compared to the control group. It can be concluded that the program is effective in improving participants' income."
   ]
  },
  {
   "cell_type": "markdown",
   "metadata": {},
   "source": [
    "1.3. Heterogeneous effects with causal trees (3 points). Use causal trees like we saw in class. For Python, you should use the econml package; for R, use the grf package; and for Julia, you will need to create the auxiliary variable \n",
    "Y∗ and fit a decision tree regressor. Report the splits the tree finds and interpret them."
   ]
  },
  {
   "cell_type": "markdown",
   "metadata": {},
   "source": [
    "Utiliza árboles causales como se explicó en clase. Para Python, deberías usar el paquete econml; para R, utiliza el paquete grf; y para Julia, necesitarás crear la variable auxiliar 𝑌∗Y ∗  y ajustar un árbol de decisión regresor. Reporta las divisiones que los árboles encuentran e interpreta los resultados."
   ]
  },
  {
   "cell_type": "code",
   "execution_count": 8,
   "metadata": {},
   "outputs": [
    {
     "name": "stderr",
     "output_type": "stream",
     "text": [
      "\u001b[32m\u001b[1m   Resolving\u001b[22m\u001b[39m package versions...\n",
      "\u001b[32m\u001b[1m  No Changes\u001b[22m\u001b[39m to `C:\\Users\\KARL\\.julia\\environments\\v1.11\\Project.toml`\n",
      "\u001b[32m\u001b[1m  No Changes\u001b[22m\u001b[39m to `C:\\Users\\KARL\\.julia\\environments\\v1.11\\Manifest.toml`\n",
      "\u001b[32m\u001b[1m   Resolving\u001b[22m\u001b[39m package versions...\n",
      "\u001b[32m\u001b[1m    Updating\u001b[22m\u001b[39m `C:\\Users\\KARL\\.julia\\environments\\v1.11\\Project.toml`\n",
      "  \u001b[90m[d491faf4] \u001b[39m\u001b[92m+ MLJModels v0.17.4\u001b[39m\n",
      "\u001b[32m\u001b[1m  No Changes\u001b[22m\u001b[39m to `C:\\Users\\KARL\\.julia\\environments\\v1.11\\Manifest.toml`\n",
      "\u001b[32m\u001b[1m   Resolving\u001b[22m\u001b[39m package versions...\n",
      "\u001b[32m\u001b[1m  No Changes\u001b[22m\u001b[39m to `C:\\Users\\KARL\\.julia\\environments\\v1.11\\Project.toml`\n",
      "\u001b[32m\u001b[1m  No Changes\u001b[22m\u001b[39m to `C:\\Users\\KARL\\.julia\\environments\\v1.11\\Manifest.toml`\n"
     ]
    }
   ],
   "source": [
    "using Pkg\n",
    "Pkg.add(\"MLJ\")\n",
    "Pkg.add(\"MLJModels\")\n",
    "Pkg.add(\"RDatasets\")"
   ]
  },
  {
   "cell_type": "code",
   "execution_count": 12,
   "metadata": {},
   "outputs": [
    {
     "name": "stderr",
     "output_type": "stream",
     "text": [
      "\u001b[32m\u001b[1m   Resolving\u001b[22m\u001b[39m package versions...\n",
      "\u001b[32m\u001b[1m   Installed\u001b[22m\u001b[39m CondaPkg ──────────────── v0.2.24\n",
      "\u001b[32m\u001b[1m   Installed\u001b[22m\u001b[39m micromamba_jll ────────── v1.5.8+0\n",
      "\u001b[32m\u001b[1m   Installed\u001b[22m\u001b[39m UnsafePointers ────────── v1.0.0\n",
      "\u001b[32m\u001b[1m   Installed\u001b[22m\u001b[39m Pidfile ───────────────── v1.3.0\n",
      "\u001b[32m\u001b[1m   Installed\u001b[22m\u001b[39m StructTypes ───────────── v1.11.0\n",
      "\u001b[32m\u001b[1m   Installed\u001b[22m\u001b[39m MLJScikitLearnInterface ─ v0.7.0\n",
      "\u001b[32m\u001b[1m   Installed\u001b[22m\u001b[39m JSON3 ─────────────────── v1.14.1\n",
      "\u001b[32m\u001b[1m   Installed\u001b[22m\u001b[39m PythonCall ────────────── v0.9.23\n",
      "\u001b[32m\u001b[1m   Installed\u001b[22m\u001b[39m MicroMamba ────────────── v0.1.14\n",
      "\u001b[32m\u001b[1m    Updating\u001b[22m\u001b[39m `C:\\Users\\KARL\\.julia\\environments\\v1.11\\Project.toml`\n",
      "  \u001b[90m[5ae90465] \u001b[39m\u001b[92m+ MLJScikitLearnInterface v0.7.0\u001b[39m\n",
      "\u001b[32m\u001b[1m    Updating\u001b[22m\u001b[39m `C:\\Users\\KARL\\.julia\\environments\\v1.11\\Manifest.toml`\n",
      "  \u001b[90m[992eb4ea] \u001b[39m\u001b[92m+ CondaPkg v0.2.24\u001b[39m\n",
      "  \u001b[90m[0f8b85d8] \u001b[39m\u001b[92m+ JSON3 v1.14.1\u001b[39m\n",
      "  \u001b[90m[5ae90465] \u001b[39m\u001b[92m+ MLJScikitLearnInterface v0.7.0\u001b[39m\n",
      "  \u001b[90m[0b3b1443] \u001b[39m\u001b[92m+ MicroMamba v0.1.14\u001b[39m\n",
      "  \u001b[90m[fa939f87] \u001b[39m\u001b[92m+ Pidfile v1.3.0\u001b[39m\n",
      "  \u001b[90m[6099a3de] \u001b[39m\u001b[92m+ PythonCall v0.9.23\u001b[39m\n",
      "  \u001b[90m[856f2bd8] \u001b[39m\u001b[92m+ StructTypes v1.11.0\u001b[39m\n",
      "  \u001b[90m[e17b2a0c] \u001b[39m\u001b[92m+ UnsafePointers v1.0.0\u001b[39m\n",
      "  \u001b[90m[f8abcde7] \u001b[39m\u001b[92m+ micromamba_jll v1.5.8+0\u001b[39m\n",
      "\u001b[92m\u001b[1mPrecompiling\u001b[22m\u001b[39m project...\n",
      "   3219.7 ms\u001b[32m  ✓ \u001b[39m\u001b[90mUnsafePointers\u001b[39m\n",
      "   2527.7 ms\u001b[32m  ✓ \u001b[39m\u001b[90mPidfile\u001b[39m\n",
      "   3118.1 ms\u001b[32m  ✓ \u001b[39m\u001b[90mStructTypes\u001b[39m\n",
      "   2060.8 ms\u001b[32m  ✓ \u001b[39mCategoricalArrays → CategoricalArraysStructTypesExt\n",
      "   4015.4 ms\u001b[32m  ✓ \u001b[39m\u001b[90mmicromamba_jll\u001b[39m\n",
      "   7916.7 ms\u001b[32m  ✓ \u001b[39m\u001b[90mMicroMamba\u001b[39m\n",
      "  23117.7 ms\u001b[32m  ✓ \u001b[39m\u001b[90mJSON3\u001b[39m\n",
      "   4569.2 ms\u001b[32m  ✓ \u001b[39m\u001b[90mCondaPkg\u001b[39m\n",
      "  28610.9 ms\u001b[32m  ✓ \u001b[39m\u001b[90mPythonCall\u001b[39m\n",
      "MLJScikitLearnInterface\u001b[33m Waiting for background task / IO / timer.\u001b[39m\n",
      "[pid 7248] waiting for IO to finish:\n",
      " Handle type        uv_handle_t->data\n",
      " timer              00000280c0172a30->00000280ba29cbb0\n",
      "This means that a package has started a background task or event source that has not finished running. For precompilation to complete successfully, the event source needs to be closed explicitly. See the developer documentation on fixing precompilation hangs for more help.\n",
      " 164558.8 ms\u001b[32m  ✓ \u001b[39mMLJScikitLearnInterface\n",
      "  10 dependencies successfully precompiled in 227 seconds. 391 already precompiled.\n",
      "  \u001b[33m2\u001b[39m dependencies had output during precompilation:\u001b[33m\n",
      "┌ \u001b[39mMicroMamba\u001b[33m\n",
      "│  \u001b[39m\u001b[32m\u001b[1m Downloading\u001b[22m\u001b[39m artifact: micromamba\u001b[33m\n",
      "└  \u001b[39m\u001b[33m\n",
      "┌ \u001b[39mMLJScikitLearnInterface\u001b[33m\n",
      "│  \u001b[39m\u001b[36m\u001b[1m┌ \u001b[22m\u001b[39m\u001b[36m\u001b[1mInfo: \u001b[22m\u001b[39mCondaPkg: Waiting for lock to be freed. You may delete this file if no other process is resolving.\u001b[33m\n",
      "│  \u001b[39m\u001b[36m\u001b[1m└ \u001b[22m\u001b[39m  lock_file = \"C:\\\\Users\\\\KARL\\\\.julia\\\\environments\\\\v1.11\\\\.CondaPkg\\\\lock\"\u001b[33m\n",
      "│  \u001b[39m\u001b[33m\n",
      "│  \u001b[39m[pid 7248] waiting for IO to finish:\u001b[33m\n",
      "│  \u001b[39m Handle type        uv_handle_t->data\u001b[33m\n",
      "│  \u001b[39m timer              00000280c0172a30->00000280ba29cbb0\u001b[33m\n",
      "│  \u001b[39mThis means that a package has started a background task or event source that has not finished running. For precompilation to complete successfully, the event source needs to be closed explicitly. See the developer documentation on fixing precompilation hangs for more help.\u001b[33m\n",
      "└  \u001b[39m\n"
     ]
    }
   ],
   "source": [
    "Pkg.add(\"MLJScikitLearnInterface\")"
   ]
  },
  {
   "cell_type": "code",
   "execution_count": 9,
   "metadata": {},
   "outputs": [],
   "source": [
    "using MLJ, MLJModels, RDatasets"
   ]
  },
  {
   "cell_type": "code",
   "execution_count": 19,
   "metadata": {},
   "outputs": [],
   "source": [
    "y, X = unpack(df, ==(:re78), !=(:re78))\n",
    "coerce!(X, Count => Multiclass);\n",
    "\n",
    "D, X = unpack(X, ==(:treat), !=(:treat));"
   ]
  },
  {
   "cell_type": "code",
   "execution_count": 20,
   "metadata": {},
   "outputs": [
    {
     "name": "stderr",
     "output_type": "stream",
     "text": [
      "┌ Warning: The number and/or types of data arguments do not match what the specified model\n",
      "│ supports. Suppress this type check by specifying `scitype_check_level=0`.\n",
      "│ \n",
      "│ Run `@doc MLJScikitLearnInterface.LogisticClassifier` to learn more about your model's requirements.\n",
      "│ \n",
      "│ Commonly, but non exclusively, supervised models are constructed using the syntax\n",
      "│ `machine(model, X, y)` or `machine(model, X, y, w)` while most other models are\n",
      "│ constructed with `machine(model, X)`.  Here `X` are features, `y` a target, and `w`\n",
      "│ sample or class weights.\n",
      "│ \n",
      "│ In general, data in `machine(model, data...)` is expected to satisfy\n",
      "│ \n",
      "│     scitype(data) <: MLJ.fit_data_scitype(model)\n",
      "│ \n",
      "│ In the present case:\n",
      "│ \n",
      "│ scitype(data) = Tuple{Table{Union{AbstractVector{Continuous}, AbstractVector{Multiclass{34}}, AbstractVector{Multiclass{14}}, AbstractVector{Multiclass{2}}}}, AbstractVector{Multiclass{2}}}\n",
      "│ \n",
      "│ fit_data_scitype(model) = Tuple{Table{<:AbstractVector{<:Continuous}}, AbstractVector{<:Finite}}\n",
      "└ @ MLJBase C:\\Users\\KARL\\.julia\\packages\\MLJBase\\7nGJF\\src\\machines.jl:237\n",
      "┌ Info: Training machine(LogisticClassifier(penalty = l2, …), …).\n",
      "└ @ MLJBase C:\\Users\\KARL\\.julia\\packages\\MLJBase\\7nGJF\\src\\machines.jl:499\n",
      "C:\\Users\\KARL\\.julia\\environments\\v1.11\\.CondaPkg\\env\\Lib\\site-packages\\sklearn\\linear_model\\_logistic.py:1247: FutureWarning: 'multi_class' was deprecated in version 1.5 and will be removed in 1.7. From then on, it will always use 'multinomial'. Leave it to its default value to avoid this warning.\n",
      "  warnings.warn(\n",
      "C:\\Users\\KARL\\.julia\\environments\\v1.11\\.CondaPkg\\env\\Lib\\site-packages\\sklearn\\linear_model\\_logistic.py:469: ConvergenceWarning: lbfgs failed to converge (status=1):\n",
      "STOP: TOTAL NO. of ITERATIONS REACHED LIMIT.\n",
      "\n",
      "Increase the number of iterations (max_iter) or scale the data as shown in:\n",
      "    https://scikit-learn.org/stable/modules/preprocessing.html\n",
      "Please also refer to the documentation for alternative solver options:\n",
      "    https://scikit-learn.org/stable/modules/linear_model.html#logistic-regression\n",
      "  n_iter_i = _check_optimize_result(\n"
     ]
    },
    {
     "data": {
      "text/plain": [
       "trained Machine; caches model-specific representations of data\n",
       "  model: LogisticClassifier(penalty = l2, …)\n",
       "  args: \n",
       "    1:\tSource @333 ⏎ Table{Union{AbstractVector{Continuous}, AbstractVector{Multiclass{34}}, AbstractVector{Multiclass{14}}, AbstractVector{Multiclass{2}}}}\n",
       "    2:\tSource @194 ⏎ AbstractVector{Multiclass{2}}\n"
      ]
     },
     "metadata": {},
     "output_type": "display_data"
    }
   ],
   "source": [
    "LogisticClassifier = @load LogisticClassifier pkg=MLJScikitLearnInterface verbosity=0\n",
    "\n",
    "log_model = LogisticClassifier()\n",
    "\n",
    "log_model_machine = machine(log_model, X, D)\n",
    "\n",
    "fit!(log_model_machine)"
   ]
  },
  {
   "cell_type": "code",
   "execution_count": 2,
   "metadata": {},
   "outputs": [
    {
     "ename": "UndefVarError",
     "evalue": "UndefVarError: `select` not defined in `Main`\nSuggestion: check for spelling errors or missing imports.",
     "output_type": "error",
     "traceback": [
      "UndefVarError: `select` not defined in `Main`\n",
      "Suggestion: check for spelling errors or missing imports.\n",
      "\n",
      "Stacktrace:\n",
      " [1] top-level scope\n",
      "   @ f:\\Programas\\GitHub Desktop\\CausalAI-Course\\Labs\\Assignment\\Assignment_5\\Group4_Assignment_5\\jl_notebook_cell_df34fa98e69747e1a8f8a730347b8e2f_X62sZmlsZQ==.jl:2"
     ]
    }
   ],
   "source": [
    "using CSV\n",
    "url = \"https://raw.githubusercontent.com/d2cml-ai/CausalAI-Course/refs/heads/main/Labs/PD/PD10/online_discounts.csv\"\n",
    "df = select(CSV.read(download(url), DataFrame), Not(:Column1));"
   ]
  },
  {
   "cell_type": "code",
   "execution_count": null,
   "metadata": {},
   "outputs": [],
   "source": [
    "pscore = pdf.(MLJ.predict(log_model_machine, X),1)\n",
    "y_star = df.spend ./ (df.discount .* pscore .- (1 .- df.discount) .* (1 .- pscore));"
   ]
  },
  {
   "cell_type": "markdown",
   "metadata": {},
   "source": [
    "1.4. Heterogeneous effects with causal forests (3 points). Use causal forests like we saw in class. For Python, you should use the econml package; for R, use the grf package; and for Julia, you will need to use the auxiliary variable Y∗ computed in the previous exercise and fit a random forest regressor. Report the importance of the prediction variables."
   ]
  },
  {
   "cell_type": "markdown",
   "metadata": {},
   "source": [
    "Usa bosques causales como se explicó en clase. Para Python, deberías usar el paquete econml; para R, utiliza el paquete grf; y para Julia, necesitarás usar la variable auxiliar 𝑌∗Y ∗  calculada en el ejercicio anterior y ajustar un regresor aleatorio de bosques. Reporta la importancia de las variables de predicción."
   ]
  },
  {
   "cell_type": "markdown",
   "metadata": {},
   "source": [
    "1.5. Plot heterogeneous effects (1.5 points). Plot how the predicted treatment effect changes depending on a variable of your choice. (You can see the last example in PD11 for clarification of what you should do in this exercise)"
   ]
  },
  {
   "cell_type": "markdown",
   "metadata": {},
   "source": [
    "Traza cómo cambia el efecto predicho del tratamiento dependiendo de una variable de tu elección. (Puedes ver el último ejemplo en PD11 para una aclaración de lo que debes hacer en este ejercicio)."
   ]
  }
 ],
 "metadata": {
  "kernelspec": {
   "display_name": "Julia 1.11.1",
   "language": "julia",
   "name": "julia-1.11"
  },
  "language_info": {
   "file_extension": ".jl",
   "mimetype": "application/julia",
   "name": "julia",
   "version": "1.11.1"
  }
 },
 "nbformat": 4,
 "nbformat_minor": 2
}
