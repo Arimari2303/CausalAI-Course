{
 "cells": [
  {
   "cell_type": "markdown",
   "metadata": {},
   "source": [
    "# Part 1: Heterogeneous treatment effects using causal trees and forests\n",
    "\n",
    "For this part, we will be using experimental data for computing heterogeneous effects through causal trees and forests. For all exercises, the predictors X are all variables that are not the outcome Y or the treatment D."
   ]
  },
  {
   "cell_type": "markdown",
   "metadata": {},
   "source": [
    "1.1. Load the data (1 points). This is data for and experiment regarding the National Supported Work Demonstration (NSW) job-training program. You can find the data here, and read a description of the data here. For further details of the experiment and the program, you can use this link"
   ]
  },
  {
   "cell_type": "code",
   "execution_count": 49,
   "metadata": {},
   "outputs": [
    {
     "data": {
      "text/html": [
       "<div><div style = \"float: left;\"><span>5×10 DataFrame</span></div><div style = \"clear: both;\"></div></div><div class = \"data-frame\" style = \"overflow-x: scroll;\"><table class = \"data-frame\" style = \"margin-bottom: 6px;\"><thead><tr class = \"header\"><th class = \"rowNumber\" style = \"font-weight: bold; text-align: right;\">Row</th><th style = \"text-align: left;\">treat</th><th style = \"text-align: left;\">age</th><th style = \"text-align: left;\">educ</th><th style = \"text-align: left;\">black</th><th style = \"text-align: left;\">hisp</th><th style = \"text-align: left;\">marr</th><th style = \"text-align: left;\">nodegree</th><th style = \"text-align: left;\">re74</th><th style = \"text-align: left;\">re75</th><th style = \"text-align: left;\">re78</th></tr><tr class = \"subheader headerLastRow\"><th class = \"rowNumber\" style = \"font-weight: bold; text-align: right;\"></th><th title = \"Int64\" style = \"text-align: left;\">Int64</th><th title = \"Int64\" style = \"text-align: left;\">Int64</th><th title = \"Int64\" style = \"text-align: left;\">Int64</th><th title = \"Int64\" style = \"text-align: left;\">Int64</th><th title = \"Int64\" style = \"text-align: left;\">Int64</th><th title = \"Int64\" style = \"text-align: left;\">Int64</th><th title = \"Int64\" style = \"text-align: left;\">Int64</th><th title = \"Float64\" style = \"text-align: left;\">Float64</th><th title = \"Float64\" style = \"text-align: left;\">Float64</th><th title = \"Float64\" style = \"text-align: left;\">Float64</th></tr></thead><tbody><tr><td class = \"rowNumber\" style = \"font-weight: bold; text-align: right;\">1</td><td style = \"text-align: right;\">1</td><td style = \"text-align: right;\">37</td><td style = \"text-align: right;\">11</td><td style = \"text-align: right;\">1</td><td style = \"text-align: right;\">0</td><td style = \"text-align: right;\">1</td><td style = \"text-align: right;\">1</td><td style = \"text-align: right;\">0.0</td><td style = \"text-align: right;\">0.0</td><td style = \"text-align: right;\">9930.05</td></tr><tr><td class = \"rowNumber\" style = \"font-weight: bold; text-align: right;\">2</td><td style = \"text-align: right;\">1</td><td style = \"text-align: right;\">22</td><td style = \"text-align: right;\">9</td><td style = \"text-align: right;\">0</td><td style = \"text-align: right;\">1</td><td style = \"text-align: right;\">0</td><td style = \"text-align: right;\">1</td><td style = \"text-align: right;\">0.0</td><td style = \"text-align: right;\">0.0</td><td style = \"text-align: right;\">3595.89</td></tr><tr><td class = \"rowNumber\" style = \"font-weight: bold; text-align: right;\">3</td><td style = \"text-align: right;\">1</td><td style = \"text-align: right;\">30</td><td style = \"text-align: right;\">12</td><td style = \"text-align: right;\">1</td><td style = \"text-align: right;\">0</td><td style = \"text-align: right;\">0</td><td style = \"text-align: right;\">0</td><td style = \"text-align: right;\">0.0</td><td style = \"text-align: right;\">0.0</td><td style = \"text-align: right;\">24909.4</td></tr><tr><td class = \"rowNumber\" style = \"font-weight: bold; text-align: right;\">4</td><td style = \"text-align: right;\">1</td><td style = \"text-align: right;\">27</td><td style = \"text-align: right;\">11</td><td style = \"text-align: right;\">1</td><td style = \"text-align: right;\">0</td><td style = \"text-align: right;\">0</td><td style = \"text-align: right;\">1</td><td style = \"text-align: right;\">0.0</td><td style = \"text-align: right;\">0.0</td><td style = \"text-align: right;\">7506.15</td></tr><tr><td class = \"rowNumber\" style = \"font-weight: bold; text-align: right;\">5</td><td style = \"text-align: right;\">1</td><td style = \"text-align: right;\">33</td><td style = \"text-align: right;\">8</td><td style = \"text-align: right;\">1</td><td style = \"text-align: right;\">0</td><td style = \"text-align: right;\">0</td><td style = \"text-align: right;\">1</td><td style = \"text-align: right;\">0.0</td><td style = \"text-align: right;\">0.0</td><td style = \"text-align: right;\">289.79</td></tr></tbody></table></div>"
      ],
      "text/latex": [
       "\\begin{tabular}{r|cccccccccc}\n",
       "\t& treat & age & educ & black & hisp & marr & nodegree & re74 & re75 & re78\\\\\n",
       "\t\\hline\n",
       "\t& Int64 & Int64 & Int64 & Int64 & Int64 & Int64 & Int64 & Float64 & Float64 & Float64\\\\\n",
       "\t\\hline\n",
       "\t1 & 1 & 37 & 11 & 1 & 0 & 1 & 1 & 0.0 & 0.0 & 9930.05 \\\\\n",
       "\t2 & 1 & 22 & 9 & 0 & 1 & 0 & 1 & 0.0 & 0.0 & 3595.89 \\\\\n",
       "\t3 & 1 & 30 & 12 & 1 & 0 & 0 & 0 & 0.0 & 0.0 & 24909.4 \\\\\n",
       "\t4 & 1 & 27 & 11 & 1 & 0 & 0 & 1 & 0.0 & 0.0 & 7506.15 \\\\\n",
       "\t5 & 1 & 33 & 8 & 1 & 0 & 0 & 1 & 0.0 & 0.0 & 289.79 \\\\\n",
       "\\end{tabular}\n"
      ],
      "text/plain": [
       "\u001b[1m5×10 DataFrame\u001b[0m\n",
       "\u001b[1m Row \u001b[0m│\u001b[1m treat \u001b[0m\u001b[1m age   \u001b[0m\u001b[1m educ  \u001b[0m\u001b[1m black \u001b[0m\u001b[1m hisp  \u001b[0m\u001b[1m marr  \u001b[0m\u001b[1m nodegree \u001b[0m\u001b[1m re74    \u001b[0m\u001b[1m re75    \u001b[0m\u001b[1m r\u001b[0m ⋯\n",
       "     │\u001b[90m Int64 \u001b[0m\u001b[90m Int64 \u001b[0m\u001b[90m Int64 \u001b[0m\u001b[90m Int64 \u001b[0m\u001b[90m Int64 \u001b[0m\u001b[90m Int64 \u001b[0m\u001b[90m Int64    \u001b[0m\u001b[90m Float64 \u001b[0m\u001b[90m Float64 \u001b[0m\u001b[90m F\u001b[0m ⋯\n",
       "─────┼──────────────────────────────────────────────────────────────────────────\n",
       "   1 │     1     37     11      1      0      1         1      0.0      0.0    ⋯\n",
       "   2 │     1     22      9      0      1      0         1      0.0      0.0\n",
       "   3 │     1     30     12      1      0      0         0      0.0      0.0  2\n",
       "   4 │     1     27     11      1      0      0         1      0.0      0.0\n",
       "   5 │     1     33      8      1      0      0         1      0.0      0.0    ⋯\n",
       "\u001b[36m                                                                1 column omitted\u001b[0m"
      ]
     },
     "execution_count": 49,
     "metadata": {},
     "output_type": "execute_result"
    }
   ],
   "source": [
    "using CSV\n",
    "using DataFrames  \n",
    "\n",
    "url = \"https://raw.githubusercontent.com/d2cml-ai/CausalAI-Course/main/Labs/Assignment/Assignment_5/data/experimental/experimental_control.csv\"\n",
    "df = CSV.read(download(url), DataFrame)\n",
    "\n",
    "first(df, 5)"
   ]
  },
  {
   "cell_type": "code",
   "execution_count": 50,
   "metadata": {},
   "outputs": [
    {
     "name": "stderr",
     "output_type": "stream",
     "text": [
      "\u001b[32m\u001b[1m   Resolving\u001b[22m\u001b[39m package versions...\n",
      "\u001b[32m\u001b[1m  No Changes\u001b[22m\u001b[39m to `C:\\Users\\KARL\\.julia\\environments\\v1.11\\Project.toml`\n",
      "\u001b[32m\u001b[1m  No Changes\u001b[22m\u001b[39m to `C:\\Users\\KARL\\.julia\\environments\\v1.11\\Manifest.toml`\n"
     ]
    }
   ],
   "source": [
    "using Pkg\n",
    "Pkg.add(\"ScientificTypes\")  \n",
    "using ScientificTypes  "
   ]
  },
  {
   "cell_type": "code",
   "execution_count": 51,
   "metadata": {},
   "outputs": [
    {
     "data": {
      "text/html": [
       "<div><div style = \"float: left;\"><span>10×3 DataFrame</span></div><div style = \"clear: both;\"></div></div><div class = \"data-frame\" style = \"overflow-x: scroll;\"><table class = \"data-frame\" style = \"margin-bottom: 6px;\"><thead><tr class = \"header\"><th class = \"rowNumber\" style = \"font-weight: bold; text-align: right;\">Row</th><th style = \"text-align: left;\">names</th><th style = \"text-align: left;\">scitypes</th><th style = \"text-align: left;\">types</th></tr><tr class = \"subheader headerLastRow\"><th class = \"rowNumber\" style = \"font-weight: bold; text-align: right;\"></th><th title = \"String\" style = \"text-align: left;\">String</th><th title = \"DataType\" style = \"text-align: left;\">DataType</th><th title = \"DataType\" style = \"text-align: left;\">DataType</th></tr></thead><tbody><tr><td class = \"rowNumber\" style = \"font-weight: bold; text-align: right;\">1</td><td style = \"text-align: left;\">treat</td><td style = \"text-align: left;\">AbstractVector{Count}</td><td style = \"text-align: left;\">Int64</td></tr><tr><td class = \"rowNumber\" style = \"font-weight: bold; text-align: right;\">2</td><td style = \"text-align: left;\">age</td><td style = \"text-align: left;\">AbstractVector{Count}</td><td style = \"text-align: left;\">Int64</td></tr><tr><td class = \"rowNumber\" style = \"font-weight: bold; text-align: right;\">3</td><td style = \"text-align: left;\">educ</td><td style = \"text-align: left;\">AbstractVector{Count}</td><td style = \"text-align: left;\">Int64</td></tr><tr><td class = \"rowNumber\" style = \"font-weight: bold; text-align: right;\">4</td><td style = \"text-align: left;\">black</td><td style = \"text-align: left;\">AbstractVector{Count}</td><td style = \"text-align: left;\">Int64</td></tr><tr><td class = \"rowNumber\" style = \"font-weight: bold; text-align: right;\">5</td><td style = \"text-align: left;\">hisp</td><td style = \"text-align: left;\">AbstractVector{Count}</td><td style = \"text-align: left;\">Int64</td></tr><tr><td class = \"rowNumber\" style = \"font-weight: bold; text-align: right;\">6</td><td style = \"text-align: left;\">marr</td><td style = \"text-align: left;\">AbstractVector{Count}</td><td style = \"text-align: left;\">Int64</td></tr><tr><td class = \"rowNumber\" style = \"font-weight: bold; text-align: right;\">7</td><td style = \"text-align: left;\">nodegree</td><td style = \"text-align: left;\">AbstractVector{Count}</td><td style = \"text-align: left;\">Int64</td></tr><tr><td class = \"rowNumber\" style = \"font-weight: bold; text-align: right;\">8</td><td style = \"text-align: left;\">re74</td><td style = \"text-align: left;\">AbstractVector{Continuous}</td><td style = \"text-align: left;\">Float64</td></tr><tr><td class = \"rowNumber\" style = \"font-weight: bold; text-align: right;\">9</td><td style = \"text-align: left;\">re75</td><td style = \"text-align: left;\">AbstractVector{Continuous}</td><td style = \"text-align: left;\">Float64</td></tr><tr><td class = \"rowNumber\" style = \"font-weight: bold; text-align: right;\">10</td><td style = \"text-align: left;\">re78</td><td style = \"text-align: left;\">AbstractVector{Continuous}</td><td style = \"text-align: left;\">Float64</td></tr></tbody></table></div>"
      ],
      "text/latex": [
       "\\begin{tabular}{r|ccc}\n",
       "\t& names & scitypes & types\\\\\n",
       "\t\\hline\n",
       "\t& String & DataType & DataType\\\\\n",
       "\t\\hline\n",
       "\t1 & treat & AbstractVector\\{Count\\} & Int64 \\\\\n",
       "\t2 & age & AbstractVector\\{Count\\} & Int64 \\\\\n",
       "\t3 & educ & AbstractVector\\{Count\\} & Int64 \\\\\n",
       "\t4 & black & AbstractVector\\{Count\\} & Int64 \\\\\n",
       "\t5 & hisp & AbstractVector\\{Count\\} & Int64 \\\\\n",
       "\t6 & marr & AbstractVector\\{Count\\} & Int64 \\\\\n",
       "\t7 & nodegree & AbstractVector\\{Count\\} & Int64 \\\\\n",
       "\t8 & re74 & AbstractVector\\{Continuous\\} & Float64 \\\\\n",
       "\t9 & re75 & AbstractVector\\{Continuous\\} & Float64 \\\\\n",
       "\t10 & re78 & AbstractVector\\{Continuous\\} & Float64 \\\\\n",
       "\\end{tabular}\n"
      ],
      "text/plain": [
       "\u001b[1m10×3 DataFrame\u001b[0m\n",
       "\u001b[1m Row \u001b[0m│\u001b[1m names    \u001b[0m\u001b[1m scitypes                   \u001b[0m\u001b[1m types    \u001b[0m\n",
       "     │\u001b[90m String   \u001b[0m\u001b[90m DataType                   \u001b[0m\u001b[90m DataType \u001b[0m\n",
       "─────┼────────────────────────────────────────────────\n",
       "   1 │ treat     AbstractVector{Count}       Int64\n",
       "   2 │ age       AbstractVector{Count}       Int64\n",
       "   3 │ educ      AbstractVector{Count}       Int64\n",
       "   4 │ black     AbstractVector{Count}       Int64\n",
       "   5 │ hisp      AbstractVector{Count}       Int64\n",
       "   6 │ marr      AbstractVector{Count}       Int64\n",
       "   7 │ nodegree  AbstractVector{Count}       Int64\n",
       "   8 │ re74      AbstractVector{Continuous}  Float64\n",
       "   9 │ re75      AbstractVector{Continuous}  Float64\n",
       "  10 │ re78      AbstractVector{Continuous}  Float64"
      ]
     },
     "execution_count": 51,
     "metadata": {},
     "output_type": "execute_result"
    }
   ],
   "source": [
    "\n",
    "summary_table = DataFrame(\n",
    "    names = names(df),\n",
    "    scitypes = scitype.(eachcol(df)),  \n",
    "    types = eltype.(eachcol(df))       \n",
    "\n",
    ")\n"
   ]
  },
  {
   "cell_type": "markdown",
   "metadata": {},
   "source": [
    "1.2. Find the ATE (1.5 points). With re78 as the outcome variable of interest, find the Average Treatment Effect of participation in the program. Specifically, you should find it by calculating the difference between the means of the treatment group and the control group (the Simple Difference of Means or SDM). What can you say about the program?"
   ]
  },
  {
   "cell_type": "code",
   "execution_count": 52,
   "metadata": {},
   "outputs": [
    {
     "name": "stdout",
     "output_type": "stream",
     "text": [
      "El Average Treatment Effect (ATE) es: 1794.3423818501024\n"
     ]
    }
   ],
   "source": [
    "# First method\n",
    "using Statistics \n",
    "\n",
    "mean_treat = mean(df[df.treat .== 1, :re78])\n",
    "mean_control = mean(df[df.treat .== 0, :re78])\n",
    "\n",
    "# Calcular el ATE\n",
    "ATE = mean_treat - mean_control\n",
    "\n",
    "println(\"El Average Treatment Effect (ATE) es: $ATE\")"
   ]
  },
  {
   "cell_type": "code",
   "execution_count": 53,
   "metadata": {},
   "outputs": [
    {
     "data": {
      "text/plain": [
       "StatsModels.TableRegressionModel{LinearModel{GLM.LmResp{Vector{Float64}}, GLM.DensePredChol{Float64, LinearAlgebra.CholeskyPivoted{Float64, Matrix{Float64}, Vector{Int64}}}}, Matrix{Float64}}\n",
       "\n",
       "re78 ~ 1 + treat\n",
       "\n",
       "Coefficients:\n",
       "───────────────────────────────────────────────────────────────────────\n",
       "               Coef.  Std. Error      t  Pr(>|t|)  Lower 95%  Upper 95%\n",
       "───────────────────────────────────────────────────────────────────────\n",
       "(Intercept)  4554.8      408.046  11.16    <1e-24   3752.85     5356.75\n",
       "treat        1794.34     632.853   2.84    0.0048    550.574    3038.11\n",
       "───────────────────────────────────────────────────────────────────────"
      ]
     },
     "execution_count": 53,
     "metadata": {},
     "output_type": "execute_result"
    }
   ],
   "source": [
    "# Second method\n",
    "using GLM\n",
    "\n",
    "model = lm(@formula(re78 ~ treat), df)"
   ]
  },
  {
   "cell_type": "markdown",
   "metadata": {},
   "source": [
    "The program had a positive impact on the participants' income, increasing their earnings by an average of 1794.34 monetary units compared to the control group. It can be concluded that the program is effective in improving participants' income."
   ]
  },
  {
   "cell_type": "markdown",
   "metadata": {},
   "source": [
    "1.3. Heterogeneous effects with causal trees (3 points). Use causal trees like we saw in class. For Python, you should use the econml package; for R, use the grf package; and for Julia, you will need to create the auxiliary variable \n",
    "Y∗ and fit a decision tree regressor. Report the splits the tree finds and interpret them."
   ]
  },
  {
   "cell_type": "markdown",
   "metadata": {},
   "source": [
    "Utiliza árboles causales como se explicó en clase. Para Python, deberías usar el paquete econml; para R, utiliza el paquete grf; y para Julia, necesitarás crear la variable auxiliar 𝑌∗Y ∗  y ajustar un árbol de decisión regresor. Reporta las divisiones que los árboles encuentran e interpreta los resultados."
   ]
  },
  {
   "cell_type": "code",
   "execution_count": 54,
   "metadata": {},
   "outputs": [
    {
     "name": "stderr",
     "output_type": "stream",
     "text": [
      "\u001b[32m\u001b[1m   Resolving\u001b[22m\u001b[39m package versions...\n",
      "\u001b[32m\u001b[1m  No Changes\u001b[22m\u001b[39m to `C:\\Users\\KARL\\.julia\\environments\\v1.11\\Project.toml`\n",
      "\u001b[32m\u001b[1m  No Changes\u001b[22m\u001b[39m to `C:\\Users\\KARL\\.julia\\environments\\v1.11\\Manifest.toml`\n",
      "\u001b[32m\u001b[1m   Resolving\u001b[22m\u001b[39m package versions...\n",
      "\u001b[32m\u001b[1m  No Changes\u001b[22m\u001b[39m to `C:\\Users\\KARL\\.julia\\environments\\v1.11\\Project.toml`\n",
      "\u001b[32m\u001b[1m  No Changes\u001b[22m\u001b[39m to `C:\\Users\\KARL\\.julia\\environments\\v1.11\\Manifest.toml`\n",
      "\u001b[32m\u001b[1m   Resolving\u001b[22m\u001b[39m package versions...\n",
      "\u001b[32m\u001b[1m  No Changes\u001b[22m\u001b[39m to `C:\\Users\\KARL\\.julia\\environments\\v1.11\\Project.toml`\n",
      "\u001b[32m\u001b[1m  No Changes\u001b[22m\u001b[39m to `C:\\Users\\KARL\\.julia\\environments\\v1.11\\Manifest.toml`\n",
      "\u001b[32m\u001b[1m   Resolving\u001b[22m\u001b[39m package versions...\n",
      "\u001b[32m\u001b[1m  No Changes\u001b[22m\u001b[39m to `C:\\Users\\KARL\\.julia\\environments\\v1.11\\Project.toml`\n",
      "\u001b[32m\u001b[1m  No Changes\u001b[22m\u001b[39m to `C:\\Users\\KARL\\.julia\\environments\\v1.11\\Manifest.toml`\n"
     ]
    }
   ],
   "source": [
    "using Pkg\n",
    "Pkg.add(\"MLJ\")\n",
    "Pkg.add(\"MLJModels\")\n",
    "Pkg.add(\"RDatasets\")\n",
    "Pkg.add(\"MLJScikitLearnInterface\")"
   ]
  },
  {
   "cell_type": "code",
   "execution_count": 56,
   "metadata": {},
   "outputs": [],
   "source": [
    "using MLJ, MLJModels, RDatasets\n",
    "\n",
    "coerce!(df, \n",
    "    :age => Continuous,  \n",
    "    :educ => Continuous,\n",
    ")\n",
    "\n",
    "coerce!(df, Count => Multiclass)\n",
    "\n",
    "y, X = unpack(df, ==(:re78), !=(:re78));\n",
    "coerce!(X, Count => Multiclass)\n",
    "\n",
    "D, X = unpack(X, ==(:treat), !=(:treat));"
   ]
  },
  {
   "cell_type": "code",
   "execution_count": 57,
   "metadata": {},
   "outputs": [
    {
     "name": "stderr",
     "output_type": "stream",
     "text": [
      "\u001b[36m\u001b[1m[ \u001b[22m\u001b[39m\u001b[36m\u001b[1mInfo: \u001b[22m\u001b[39mTraining machine(OneHotEncoder(features = [:black, :hisp, :marr, :nodegree], …), …).\n",
      "\u001b[36m\u001b[1m[ \u001b[22m\u001b[39m\u001b[36m\u001b[1mInfo: \u001b[22m\u001b[39mSpawning 2 sub-features to one-hot encode feature :black.\n",
      "\u001b[36m\u001b[1m[ \u001b[22m\u001b[39m\u001b[36m\u001b[1mInfo: \u001b[22m\u001b[39mSpawning 2 sub-features to one-hot encode feature :hisp.\n",
      "\u001b[36m\u001b[1m[ \u001b[22m\u001b[39m\u001b[36m\u001b[1mInfo: \u001b[22m\u001b[39mSpawning 2 sub-features to one-hot encode feature :marr.\n",
      "\u001b[36m\u001b[1m[ \u001b[22m\u001b[39m\u001b[36m\u001b[1mInfo: \u001b[22m\u001b[39mSpawning 2 sub-features to one-hot encode feature :nodegree.\n"
     ]
    }
   ],
   "source": [
    "onehotencoder = @load OneHotEncoder pkg=MLJModels verbosity=0\n",
    "\n",
    "ohe = onehotencoder(features = [:black,:hisp,:marr,:nodegree])\n",
    "ohe_machine = machine(ohe, X)\n",
    "fit!(ohe_machine);\n",
    "X = MLJ.transform(ohe_machine, X);"
   ]
  },
  {
   "cell_type": "code",
   "execution_count": 58,
   "metadata": {},
   "outputs": [
    {
     "data": {
      "text/html": [
       "<div><div style = \"float: left;\"><span>10×3 DataFrame</span></div><div style = \"clear: both;\"></div></div><div class = \"data-frame\" style = \"overflow-x: scroll;\"><table class = \"data-frame\" style = \"margin-bottom: 6px;\"><thead><tr class = \"header\"><th class = \"rowNumber\" style = \"font-weight: bold; text-align: right;\">Row</th><th style = \"text-align: left;\">names</th><th style = \"text-align: left;\">scitypes</th><th style = \"text-align: left;\">types</th></tr><tr class = \"subheader headerLastRow\"><th class = \"rowNumber\" style = \"font-weight: bold; text-align: right;\"></th><th title = \"String\" style = \"text-align: left;\">String</th><th title = \"DataType\" style = \"text-align: left;\">DataType</th><th title = \"DataType\" style = \"text-align: left;\">DataType</th></tr></thead><tbody><tr><td class = \"rowNumber\" style = \"font-weight: bold; text-align: right;\">1</td><td style = \"text-align: left;\">treat</td><td style = \"text-align: left;\">AbstractVector{Multiclass{2}}</td><td style = \"text-align: left;\">CategoricalValue{Int64, UInt32}</td></tr><tr><td class = \"rowNumber\" style = \"font-weight: bold; text-align: right;\">2</td><td style = \"text-align: left;\">age</td><td style = \"text-align: left;\">AbstractVector{Continuous}</td><td style = \"text-align: left;\">Float64</td></tr><tr><td class = \"rowNumber\" style = \"font-weight: bold; text-align: right;\">3</td><td style = \"text-align: left;\">educ</td><td style = \"text-align: left;\">AbstractVector{Continuous}</td><td style = \"text-align: left;\">Float64</td></tr><tr><td class = \"rowNumber\" style = \"font-weight: bold; text-align: right;\">4</td><td style = \"text-align: left;\">black</td><td style = \"text-align: left;\">AbstractVector{Multiclass{2}}</td><td style = \"text-align: left;\">CategoricalValue{Int64, UInt32}</td></tr><tr><td class = \"rowNumber\" style = \"font-weight: bold; text-align: right;\">5</td><td style = \"text-align: left;\">hisp</td><td style = \"text-align: left;\">AbstractVector{Multiclass{2}}</td><td style = \"text-align: left;\">CategoricalValue{Int64, UInt32}</td></tr><tr><td class = \"rowNumber\" style = \"font-weight: bold; text-align: right;\">6</td><td style = \"text-align: left;\">marr</td><td style = \"text-align: left;\">AbstractVector{Multiclass{2}}</td><td style = \"text-align: left;\">CategoricalValue{Int64, UInt32}</td></tr><tr><td class = \"rowNumber\" style = \"font-weight: bold; text-align: right;\">7</td><td style = \"text-align: left;\">nodegree</td><td style = \"text-align: left;\">AbstractVector{Multiclass{2}}</td><td style = \"text-align: left;\">CategoricalValue{Int64, UInt32}</td></tr><tr><td class = \"rowNumber\" style = \"font-weight: bold; text-align: right;\">8</td><td style = \"text-align: left;\">re74</td><td style = \"text-align: left;\">AbstractVector{Continuous}</td><td style = \"text-align: left;\">Float64</td></tr><tr><td class = \"rowNumber\" style = \"font-weight: bold; text-align: right;\">9</td><td style = \"text-align: left;\">re75</td><td style = \"text-align: left;\">AbstractVector{Continuous}</td><td style = \"text-align: left;\">Float64</td></tr><tr><td class = \"rowNumber\" style = \"font-weight: bold; text-align: right;\">10</td><td style = \"text-align: left;\">re78</td><td style = \"text-align: left;\">AbstractVector{Continuous}</td><td style = \"text-align: left;\">Float64</td></tr></tbody></table></div>"
      ],
      "text/latex": [
       "\\begin{tabular}{r|ccc}\n",
       "\t& names & scitypes & types\\\\\n",
       "\t\\hline\n",
       "\t& String & DataType & DataType\\\\\n",
       "\t\\hline\n",
       "\t1 & treat & AbstractVector\\{Multiclass\\{2\\}\\} & CategoricalValue\\{Int64, UInt32\\} \\\\\n",
       "\t2 & age & AbstractVector\\{Continuous\\} & Float64 \\\\\n",
       "\t3 & educ & AbstractVector\\{Continuous\\} & Float64 \\\\\n",
       "\t4 & black & AbstractVector\\{Multiclass\\{2\\}\\} & CategoricalValue\\{Int64, UInt32\\} \\\\\n",
       "\t5 & hisp & AbstractVector\\{Multiclass\\{2\\}\\} & CategoricalValue\\{Int64, UInt32\\} \\\\\n",
       "\t6 & marr & AbstractVector\\{Multiclass\\{2\\}\\} & CategoricalValue\\{Int64, UInt32\\} \\\\\n",
       "\t7 & nodegree & AbstractVector\\{Multiclass\\{2\\}\\} & CategoricalValue\\{Int64, UInt32\\} \\\\\n",
       "\t8 & re74 & AbstractVector\\{Continuous\\} & Float64 \\\\\n",
       "\t9 & re75 & AbstractVector\\{Continuous\\} & Float64 \\\\\n",
       "\t10 & re78 & AbstractVector\\{Continuous\\} & Float64 \\\\\n",
       "\\end{tabular}\n"
      ],
      "text/plain": [
       "\u001b[1m10×3 DataFrame\u001b[0m\n",
       "\u001b[1m Row \u001b[0m│\u001b[1m names    \u001b[0m\u001b[1m scitypes                      \u001b[0m\u001b[1m types                         \u001b[0m ⋯\n",
       "     │\u001b[90m String   \u001b[0m\u001b[90m DataType                      \u001b[0m\u001b[90m DataType                      \u001b[0m ⋯\n",
       "─────┼──────────────────────────────────────────────────────────────────────────\n",
       "   1 │ treat     AbstractVector{Multiclass{2}}  CategoricalValue{Int64, UInt32 ⋯\n",
       "   2 │ age       AbstractVector{Continuous}     Float64\n",
       "   3 │ educ      AbstractVector{Continuous}     Float64\n",
       "   4 │ black     AbstractVector{Multiclass{2}}  CategoricalValue{Int64, UInt32\n",
       "   5 │ hisp      AbstractVector{Multiclass{2}}  CategoricalValue{Int64, UInt32 ⋯\n",
       "   6 │ marr      AbstractVector{Multiclass{2}}  CategoricalValue{Int64, UInt32\n",
       "   7 │ nodegree  AbstractVector{Multiclass{2}}  CategoricalValue{Int64, UInt32\n",
       "   8 │ re74      AbstractVector{Continuous}     Float64\n",
       "   9 │ re75      AbstractVector{Continuous}     Float64                        ⋯\n",
       "  10 │ re78      AbstractVector{Continuous}     Float64\n",
       "\u001b[36m                                                                1 column omitted\u001b[0m"
      ]
     },
     "execution_count": 58,
     "metadata": {},
     "output_type": "execute_result"
    }
   ],
   "source": [
    "summary_table = DataFrame(\n",
    "    names = names(df),\n",
    "    scitypes = scitype.(eachcol(df)),  \n",
    "    types = eltype.(eachcol(df))       \n",
    "\n",
    ")\n"
   ]
  },
  {
   "cell_type": "code",
   "execution_count": 59,
   "metadata": {},
   "outputs": [
    {
     "name": "stderr",
     "output_type": "stream",
     "text": [
      "\u001b[36m\u001b[1m[ \u001b[22m\u001b[39m\u001b[36m\u001b[1mInfo: \u001b[22m\u001b[39mTraining machine(LogisticClassifier(penalty = l2, …), …).\n",
      "C:\\Users\\KARL\\.julia\\environments\\v1.11\\.CondaPkg\\env\\Lib\\site-packages\\sklearn\\linear_model\\_logistic.py:1247: FutureWarning: 'multi_class' was deprecated in version 1.5 and will be removed in 1.7. From then on, it will always use 'multinomial'. Leave it to its default value to avoid this warning.\n",
      "  warnings.warn(\n",
      "C:\\Users\\KARL\\.julia\\environments\\v1.11\\.CondaPkg\\env\\Lib\\site-packages\\sklearn\\linear_model\\_logistic.py:469: ConvergenceWarning: lbfgs failed to converge (status=1):\n",
      "STOP: TOTAL NO. of ITERATIONS REACHED LIMIT.\n",
      "\n",
      "Increase the number of iterations (max_iter) or scale the data as shown in:\n",
      "    https://scikit-learn.org/stable/modules/preprocessing.html\n",
      "Please also refer to the documentation for alternative solver options:\n",
      "    https://scikit-learn.org/stable/modules/linear_model.html#logistic-regression\n",
      "  n_iter_i = _check_optimize_result(\n"
     ]
    },
    {
     "data": {
      "text/plain": [
       "trained Machine; caches model-specific representations of data\n",
       "  model: LogisticClassifier(penalty = l2, …)\n",
       "  args: \n",
       "    1:\tSource @899 ⏎ Table{AbstractVector{Continuous}}\n",
       "    2:\tSource @403 ⏎ AbstractVector{Multiclass{2}}\n"
      ]
     },
     "execution_count": 59,
     "metadata": {},
     "output_type": "execute_result"
    }
   ],
   "source": [
    "LogisticClassifier = @load LogisticClassifier pkg=MLJScikitLearnInterface verbosity=0\n",
    "\n",
    "log_model = LogisticClassifier()\n",
    "\n",
    "log_model_machine = machine(log_model, X, D)\n",
    "\n",
    "fit!(log_model_machine)"
   ]
  },
  {
   "cell_type": "code",
   "execution_count": 61,
   "metadata": {},
   "outputs": [],
   "source": [
    "coerce!(df, :treat => Count)\n",
    "\n",
    "pscore = pdf.(MLJ.predict(log_model_machine, X),1)\n",
    "y_star = df.re78./ (df.treat .* pscore .- (1 .- df.treat) .* (1 .- pscore));"
   ]
  },
  {
   "cell_type": "code",
   "execution_count": 63,
   "metadata": {},
   "outputs": [
    {
     "name": "stderr",
     "output_type": "stream",
     "text": [
      "\u001b[32m\u001b[1m   Resolving\u001b[22m\u001b[39m package versions...\n",
      "\u001b[32m\u001b[1m   Installed\u001b[22m\u001b[39m ScikitLearnBase ────────── v0.5.0\n",
      "\u001b[32m\u001b[1m   Installed\u001b[22m\u001b[39m AbstractTrees ──────────── v0.4.5\n",
      "\u001b[32m\u001b[1m   Installed\u001b[22m\u001b[39m MLJDecisionTreeInterface ─ v0.4.2\n",
      "\u001b[32m\u001b[1m   Installed\u001b[22m\u001b[39m DecisionTree ───────────── v0.12.4\n",
      "\u001b[32m\u001b[1m    Updating\u001b[22m\u001b[39m `C:\\Users\\KARL\\.julia\\environments\\v1.11\\Project.toml`\n",
      "  \u001b[90m[c6f25543] \u001b[39m\u001b[92m+ MLJDecisionTreeInterface v0.4.2\u001b[39m\n",
      "\u001b[32m\u001b[1m    Updating\u001b[22m\u001b[39m `C:\\Users\\KARL\\.julia\\environments\\v1.11\\Manifest.toml`\n",
      "  \u001b[90m[1520ce14] \u001b[39m\u001b[92m+ AbstractTrees v0.4.5\u001b[39m\n",
      "  \u001b[90m[7806a523] \u001b[39m\u001b[92m+ DecisionTree v0.12.4\u001b[39m\n",
      "  \u001b[90m[c6f25543] \u001b[39m\u001b[92m+ MLJDecisionTreeInterface v0.4.2\u001b[39m\n",
      "  \u001b[90m[6e75b9c4] \u001b[39m\u001b[92m+ ScikitLearnBase v0.5.0\u001b[39m\n",
      "\u001b[92m\u001b[1mPrecompiling\u001b[22m\u001b[39m project...\n",
      "   3352.5 ms\u001b[32m  ✓ \u001b[39m\u001b[90mAbstractTrees\u001b[39m\n",
      "   2211.5 ms\u001b[32m  ✓ \u001b[39m\u001b[90mScikitLearnBase\u001b[39m\n",
      "   2068.8 ms\u001b[32m  ✓ \u001b[39m\u001b[90mDecisionTree\u001b[39m\n",
      "   2818.0 ms\u001b[32m  ✓ \u001b[39mMLJDecisionTreeInterface\n",
      "  4 dependencies successfully precompiled in 10 seconds. 401 already precompiled.\n"
     ]
    }
   ],
   "source": [
    "using Pkg\n",
    "Pkg.add(\"MLJDecisionTreeInterface\")"
   ]
  },
  {
   "cell_type": "code",
   "execution_count": 67,
   "metadata": {},
   "outputs": [],
   "source": [
    "X = select!(X, Not(:black__0, :hisp__0, :marr__0, :nodegree__0));"
   ]
  },
  {
   "cell_type": "code",
   "execution_count": 68,
   "metadata": {},
   "outputs": [
    {
     "name": "stderr",
     "output_type": "stream",
     "text": [
      "\u001b[36m\u001b[1m[ \u001b[22m\u001b[39m\u001b[36m\u001b[1mInfo: \u001b[22m\u001b[39mTraining machine(RandomForestRegressor(max_depth = -1, …), …).\n"
     ]
    }
   ],
   "source": [
    "forest_model = RandomForestRegressor(n_trees = 100)\n",
    "forest_machine = machine(forest_model, X, y_star)\n",
    "fit!(forest_machine);"
   ]
  },
  {
   "cell_type": "code",
   "execution_count": 70,
   "metadata": {},
   "outputs": [
    {
     "data": {
      "text/plain": [
       "(forest = Ensemble of Decision Trees\n",
       "Trees:      100\n",
       "Avg Leaves: 174.53\n",
       "Avg Depth:  18.82,)"
      ]
     },
     "execution_count": 70,
     "metadata": {},
     "output_type": "execute_result"
    }
   ],
   "source": [
    "fitted_forest = fitted_params(forest_machine)"
   ]
  },
  {
   "cell_type": "markdown",
   "metadata": {},
   "source": [
    "The forest consists of 100 decision trees (default value). On average, each tree has approximately 174.53 leaves, and its average depth reaches 18.82 levels."
   ]
  },
  {
   "cell_type": "markdown",
   "metadata": {},
   "source": [
    "1.4. Heterogeneous effects with causal forests (3 points). Use causal forests like we saw in class. For Python, you should use the econml package; for R, use the grf package; and for Julia, you will need to use the auxiliary variable Y∗ computed in the previous exercise and fit a random forest regressor. Report the importance of the prediction variables."
   ]
  },
  {
   "cell_type": "code",
   "execution_count": 71,
   "metadata": {},
   "outputs": [
    {
     "data": {
      "text/plain": [
       "8-element Vector{Pair{Symbol, Float64}}:\n",
       "         :age => 0.3108334995673283\n",
       "        :re74 => 0.23504385459407331\n",
       "        :re75 => 0.20351408601314336\n",
       "        :educ => 0.13293173259217456\n",
       "    :black__1 => 0.03938920370651372\n",
       "     :marr__1 => 0.03859921629377362\n",
       "     :hisp__1 => 0.023855838991200553\n",
       " :nodegree__1 => 0.015832568241792636"
      ]
     },
     "execution_count": 71,
     "metadata": {},
     "output_type": "execute_result"
    }
   ],
   "source": [
    "feature_importances(forest_machine)"
   ]
  },
  {
   "cell_type": "code",
   "execution_count": 72,
   "metadata": {},
   "outputs": [
    {
     "data": {
      "text/html": [
       "<div><div style = \"float: left;\"><span>8×2 DataFrame</span></div><div style = \"clear: both;\"></div></div><div class = \"data-frame\" style = \"overflow-x: scroll;\"><table class = \"data-frame\" style = \"margin-bottom: 6px;\"><thead><tr class = \"header\"><th class = \"rowNumber\" style = \"font-weight: bold; text-align: right;\">Row</th><th style = \"text-align: left;\">variables</th><th style = \"text-align: left;\">importance</th></tr><tr class = \"subheader headerLastRow\"><th class = \"rowNumber\" style = \"font-weight: bold; text-align: right;\"></th><th title = \"String\" style = \"text-align: left;\">String</th><th title = \"Float64\" style = \"text-align: left;\">Float64</th></tr></thead><tbody><tr><td class = \"rowNumber\" style = \"font-weight: bold; text-align: right;\">1</td><td style = \"text-align: left;\">age</td><td style = \"text-align: right;\">0.310833</td></tr><tr><td class = \"rowNumber\" style = \"font-weight: bold; text-align: right;\">2</td><td style = \"text-align: left;\">re74</td><td style = \"text-align: right;\">0.235044</td></tr><tr><td class = \"rowNumber\" style = \"font-weight: bold; text-align: right;\">3</td><td style = \"text-align: left;\">re75</td><td style = \"text-align: right;\">0.203514</td></tr><tr><td class = \"rowNumber\" style = \"font-weight: bold; text-align: right;\">4</td><td style = \"text-align: left;\">educ</td><td style = \"text-align: right;\">0.132932</td></tr><tr><td class = \"rowNumber\" style = \"font-weight: bold; text-align: right;\">5</td><td style = \"text-align: left;\">black__1</td><td style = \"text-align: right;\">0.0393892</td></tr><tr><td class = \"rowNumber\" style = \"font-weight: bold; text-align: right;\">6</td><td style = \"text-align: left;\">marr__1</td><td style = \"text-align: right;\">0.0385992</td></tr><tr><td class = \"rowNumber\" style = \"font-weight: bold; text-align: right;\">7</td><td style = \"text-align: left;\">hisp__1</td><td style = \"text-align: right;\">0.0238558</td></tr><tr><td class = \"rowNumber\" style = \"font-weight: bold; text-align: right;\">8</td><td style = \"text-align: left;\">nodegree__1</td><td style = \"text-align: right;\">0.0158326</td></tr></tbody></table></div>"
      ],
      "text/latex": [
       "\\begin{tabular}{r|cc}\n",
       "\t& variables & importance\\\\\n",
       "\t\\hline\n",
       "\t& String & Float64\\\\\n",
       "\t\\hline\n",
       "\t1 & age & 0.310833 \\\\\n",
       "\t2 & re74 & 0.235044 \\\\\n",
       "\t3 & re75 & 0.203514 \\\\\n",
       "\t4 & educ & 0.132932 \\\\\n",
       "\t5 & black\\_\\_1 & 0.0393892 \\\\\n",
       "\t6 & marr\\_\\_1 & 0.0385992 \\\\\n",
       "\t7 & hisp\\_\\_1 & 0.0238558 \\\\\n",
       "\t8 & nodegree\\_\\_1 & 0.0158326 \\\\\n",
       "\\end{tabular}\n"
      ],
      "text/plain": [
       "\u001b[1m8×2 DataFrame\u001b[0m\n",
       "\u001b[1m Row \u001b[0m│\u001b[1m variables   \u001b[0m\u001b[1m importance \u001b[0m\n",
       "     │\u001b[90m String      \u001b[0m\u001b[90m Float64    \u001b[0m\n",
       "─────┼─────────────────────────\n",
       "   1 │ age           0.310833\n",
       "   2 │ re74          0.235044\n",
       "   3 │ re75          0.203514\n",
       "   4 │ educ          0.132932\n",
       "   5 │ black__1      0.0393892\n",
       "   6 │ marr__1       0.0385992\n",
       "   7 │ hisp__1       0.0238558\n",
       "   8 │ nodegree__1   0.0158326"
      ]
     },
     "execution_count": 72,
     "metadata": {},
     "output_type": "execute_result"
    }
   ],
   "source": [
    "importances = DataFrame(feature_importances(forest_machine))\n",
    "importances = DataFrame(variables = names(importances), importance = collect(values(importances[1, :])))"
   ]
  },
  {
   "cell_type": "markdown",
   "metadata": {},
   "source": [
    "The variable age is the most important as it contributes approximately 31.08% to the predictive capacity of the model."
   ]
  },
  {
   "cell_type": "markdown",
   "metadata": {},
   "source": [
    "1.5. Plot heterogeneous effects (1.5 points). Plot how the predicted treatment effect changes depending on a variable of your choice. (You can see the last example in PD11 for clarification of what you should do in this exercise)"
   ]
  },
  {
   "cell_type": "code",
   "execution_count": 84,
   "metadata": {},
   "outputs": [],
   "source": [
    "df[:, \"effect\"] = 7 * exp.(-(df.age.- 18) .^2 ./100) + 3*(df.treat.==1) - 2*(df.black.==0) + (df.hisp.==1) .- 2.5;\n",
    "df[df[:, \"effect\"] .< 0, \"effect\"] .= 0;"
   ]
  },
  {
   "cell_type": "code",
   "execution_count": 85,
   "metadata": {},
   "outputs": [
    {
     "data": {
      "text/html": [
       "<div><div style = \"float: left;\"><span>34×2 DataFrame</span></div><div style = \"float: right;\"><span style = \"font-style: italic;\">9 rows omitted</span></div><div style = \"clear: both;\"></div></div><div class = \"data-frame\" style = \"overflow-x: scroll;\"><table class = \"data-frame\" style = \"margin-bottom: 6px;\"><thead><tr class = \"header\"><th class = \"rowNumber\" style = \"font-weight: bold; text-align: right;\">Row</th><th style = \"text-align: left;\">age_bins</th><th style = \"text-align: left;\">mean_effect</th></tr><tr class = \"subheader headerLastRow\"><th class = \"rowNumber\" style = \"font-weight: bold; text-align: right;\"></th><th title = \"Float64\" style = \"text-align: left;\">Float64</th><th title = \"Float64\" style = \"text-align: left;\">Float64</th></tr></thead><tbody><tr><td class = \"rowNumber\" style = \"font-weight: bold; text-align: right;\">1</td><td style = \"text-align: right;\">17.0</td><td style = \"text-align: right;\">5.98917</td></tr><tr><td class = \"rowNumber\" style = \"font-weight: bold; text-align: right;\">2</td><td style = \"text-align: right;\">18.0</td><td style = \"text-align: right;\">6.29487</td></tr><tr><td class = \"rowNumber\" style = \"font-weight: bold; text-align: right;\">3</td><td style = \"text-align: right;\">19.0</td><td style = \"text-align: right;\">5.9758</td></tr><tr><td class = \"rowNumber\" style = \"font-weight: bold; text-align: right;\">4</td><td style = \"text-align: right;\">20.0</td><td style = \"text-align: right;\">5.93386</td></tr><tr><td class = \"rowNumber\" style = \"font-weight: bold; text-align: right;\">5</td><td style = \"text-align: right;\">21.0</td><td style = \"text-align: right;\">5.05541</td></tr><tr><td class = \"rowNumber\" style = \"font-weight: bold; text-align: right;\">6</td><td style = \"text-align: right;\">22.0</td><td style = \"text-align: right;\">4.83538</td></tr><tr><td class = \"rowNumber\" style = \"font-weight: bold; text-align: right;\">7</td><td style = \"text-align: right;\">23.0</td><td style = \"text-align: right;\">4.35901</td></tr><tr><td class = \"rowNumber\" style = \"font-weight: bold; text-align: right;\">8</td><td style = \"text-align: right;\">24.0</td><td style = \"text-align: right;\">3.96707</td></tr><tr><td class = \"rowNumber\" style = \"font-weight: bold; text-align: right;\">9</td><td style = \"text-align: right;\">25.0</td><td style = \"text-align: right;\">3.29897</td></tr><tr><td class = \"rowNumber\" style = \"font-weight: bold; text-align: right;\">10</td><td style = \"text-align: right;\">26.0</td><td style = \"text-align: right;\">2.75338</td></tr><tr><td class = \"rowNumber\" style = \"font-weight: bold; text-align: right;\">11</td><td style = \"text-align: right;\">27.0</td><td style = \"text-align: right;\">1.6426</td></tr><tr><td class = \"rowNumber\" style = \"font-weight: bold; text-align: right;\">12</td><td style = \"text-align: right;\">28.0</td><td style = \"text-align: right;\">1.97992</td></tr><tr><td class = \"rowNumber\" style = \"font-weight: bold; text-align: right;\">13</td><td style = \"text-align: right;\">29.0</td><td style = \"text-align: right;\">1.30915</td></tr><tr><td style = \"text-align: right;\">&vellip;</td><td style = \"text-align: right;\">&vellip;</td><td style = \"text-align: right;\">&vellip;</td></tr><tr><td class = \"rowNumber\" style = \"font-weight: bold; text-align: right;\">23</td><td style = \"text-align: right;\">39.0</td><td style = \"text-align: right;\">0.585086</td></tr><tr><td class = \"rowNumber\" style = \"font-weight: bold; text-align: right;\">24</td><td style = \"text-align: right;\">40.0</td><td style = \"text-align: right;\">0.0</td></tr><tr><td class = \"rowNumber\" style = \"font-weight: bold; text-align: right;\">25</td><td style = \"text-align: right;\">41.0</td><td style = \"text-align: right;\">0.0</td></tr><tr><td class = \"rowNumber\" style = \"font-weight: bold; text-align: right;\">26</td><td style = \"text-align: right;\">42.0</td><td style = \"text-align: right;\">0.104412</td></tr><tr><td class = \"rowNumber\" style = \"font-weight: bold; text-align: right;\">27</td><td style = \"text-align: right;\">43.0</td><td style = \"text-align: right;\">0.256757</td></tr><tr><td class = \"rowNumber\" style = \"font-weight: bold; text-align: right;\">28</td><td style = \"text-align: right;\">44.0</td><td style = \"text-align: right;\">0.381086</td></tr><tr><td class = \"rowNumber\" style = \"font-weight: bold; text-align: right;\">29</td><td style = \"text-align: right;\">45.0</td><td style = \"text-align: right;\">0.336518</td></tr><tr><td class = \"rowNumber\" style = \"font-weight: bold; text-align: right;\">30</td><td style = \"text-align: right;\">46.0</td><td style = \"text-align: right;\">0.0</td></tr><tr><td class = \"rowNumber\" style = \"font-weight: bold; text-align: right;\">31</td><td style = \"text-align: right;\">48.0</td><td style = \"text-align: right;\">0.0</td></tr><tr><td class = \"rowNumber\" style = \"font-weight: bold; text-align: right;\">32</td><td style = \"text-align: right;\">50.0</td><td style = \"text-align: right;\">0.0</td></tr><tr><td class = \"rowNumber\" style = \"font-weight: bold; text-align: right;\">33</td><td style = \"text-align: right;\">54.0</td><td style = \"text-align: right;\">0.500016</td></tr><tr><td class = \"rowNumber\" style = \"font-weight: bold; text-align: right;\">34</td><td style = \"text-align: right;\">55.0</td><td style = \"text-align: right;\">0.500008</td></tr></tbody></table></div>"
      ],
      "text/latex": [
       "\\begin{tabular}{r|cc}\n",
       "\t& age\\_bins & mean\\_effect\\\\\n",
       "\t\\hline\n",
       "\t& Float64 & Float64\\\\\n",
       "\t\\hline\n",
       "\t1 & 17.0 & 5.98917 \\\\\n",
       "\t2 & 18.0 & 6.29487 \\\\\n",
       "\t3 & 19.0 & 5.9758 \\\\\n",
       "\t4 & 20.0 & 5.93386 \\\\\n",
       "\t5 & 21.0 & 5.05541 \\\\\n",
       "\t6 & 22.0 & 4.83538 \\\\\n",
       "\t7 & 23.0 & 4.35901 \\\\\n",
       "\t8 & 24.0 & 3.96707 \\\\\n",
       "\t9 & 25.0 & 3.29897 \\\\\n",
       "\t10 & 26.0 & 2.75338 \\\\\n",
       "\t11 & 27.0 & 1.6426 \\\\\n",
       "\t12 & 28.0 & 1.97992 \\\\\n",
       "\t13 & 29.0 & 1.30915 \\\\\n",
       "\t14 & 30.0 & 1.23343 \\\\\n",
       "\t15 & 31.0 & 0.836097 \\\\\n",
       "\t16 & 32.0 & 0.988807 \\\\\n",
       "\t17 & 33.0 & 0.418897 \\\\\n",
       "\t18 & 34.0 & 1.04113 \\\\\n",
       "\t19 & 35.0 & 0.355613 \\\\\n",
       "\t20 & 36.0 & 0.58061 \\\\\n",
       "\t21 & 37.0 & 0.0 \\\\\n",
       "\t22 & 38.0 & 0.314105 \\\\\n",
       "\t23 & 39.0 & 0.585086 \\\\\n",
       "\t24 & 40.0 & 0.0 \\\\\n",
       "\t25 & 41.0 & 0.0 \\\\\n",
       "\t26 & 42.0 & 0.104412 \\\\\n",
       "\t27 & 43.0 & 0.256757 \\\\\n",
       "\t28 & 44.0 & 0.381086 \\\\\n",
       "\t29 & 45.0 & 0.336518 \\\\\n",
       "\t30 & 46.0 & 0.0 \\\\\n",
       "\t$\\dots$ & $\\dots$ & $\\dots$ \\\\\n",
       "\\end{tabular}\n"
      ],
      "text/plain": [
       "\u001b[1m34×2 DataFrame\u001b[0m\n",
       "\u001b[1m Row \u001b[0m│\u001b[1m age_bins \u001b[0m\u001b[1m mean_effect \u001b[0m\n",
       "     │\u001b[90m Float64  \u001b[0m\u001b[90m Float64     \u001b[0m\n",
       "─────┼───────────────────────\n",
       "   1 │     17.0     5.98917\n",
       "   2 │     18.0     6.29487\n",
       "   3 │     19.0     5.9758\n",
       "   4 │     20.0     5.93386\n",
       "   5 │     21.0     5.05541\n",
       "   6 │     22.0     4.83538\n",
       "   7 │     23.0     4.35901\n",
       "   8 │     24.0     3.96707\n",
       "   9 │     25.0     3.29897\n",
       "  10 │     26.0     2.75338\n",
       "  11 │     27.0     1.6426\n",
       "  ⋮  │    ⋮           ⋮\n",
       "  25 │     41.0     0.0\n",
       "  26 │     42.0     0.104412\n",
       "  27 │     43.0     0.256757\n",
       "  28 │     44.0     0.381086\n",
       "  29 │     45.0     0.336518\n",
       "  30 │     46.0     0.0\n",
       "  31 │     48.0     0.0\n",
       "  32 │     50.0     0.0\n",
       "  33 │     54.0     0.500016\n",
       "  34 │     55.0     0.500008\n",
       "\u001b[36m              13 rows omitted\u001b[0m"
      ]
     },
     "execution_count": 85,
     "metadata": {},
     "output_type": "execute_result"
    }
   ],
   "source": [
    "df.age_bins = round.(df.age .* 2) ./ 2\n",
    "effect_bins = combine(groupby(df, :age_bins), :effect => mean => :mean_effect)"
   ]
  },
  {
   "cell_type": "code",
   "execution_count": 81,
   "metadata": {},
   "outputs": [
    {
     "name": "stderr",
     "output_type": "stream",
     "text": [
      "\u001b[32m\u001b[1m   Resolving\u001b[22m\u001b[39m package versions...\n",
      "\u001b[32m\u001b[1m   Installed\u001b[22m\u001b[39m MultivariateStats ─ v0.10.3\n",
      "\u001b[32m\u001b[1m   Installed\u001b[22m\u001b[39m KernelDensity ───── v0.6.9\n",
      "\u001b[32m\u001b[1m   Installed\u001b[22m\u001b[39m OffsetArrays ────── v1.14.1\n",
      "\u001b[32m\u001b[1m   Installed\u001b[22m\u001b[39m Ratios ──────────── v0.4.5\n",
      "\u001b[32m\u001b[1m   Installed\u001b[22m\u001b[39m StatsPlots ──────── v0.15.7\n",
      "\u001b[32m\u001b[1m   Installed\u001b[22m\u001b[39m NearestNeighbors ── v0.4.21\n",
      "\u001b[32m\u001b[1m   Installed\u001b[22m\u001b[39m Interpolations ──── v0.15.1\n",
      "\u001b[32m\u001b[1m   Installed\u001b[22m\u001b[39m AxisAlgorithms ──── v1.1.0\n",
      "\u001b[32m\u001b[1m   Installed\u001b[22m\u001b[39m Arpack_jll ──────── v3.5.1+1\n",
      "\u001b[32m\u001b[1m   Installed\u001b[22m\u001b[39m TableOperations ─── v1.2.0\n",
      "\u001b[32m\u001b[1m   Installed\u001b[22m\u001b[39m Widgets ─────────── v0.6.7\n",
      "\u001b[32m\u001b[1m   Installed\u001b[22m\u001b[39m Observables ─────── v0.5.5\n",
      "\u001b[32m\u001b[1m   Installed\u001b[22m\u001b[39m Arpack ──────────── v0.5.4\n",
      "\u001b[32m\u001b[1m   Installed\u001b[22m\u001b[39m WoodburyMatrices ── v1.0.0\n",
      "\u001b[32m\u001b[1m   Installed\u001b[22m\u001b[39m Clustering ──────── v0.15.7\n",
      "\u001b[32m\u001b[1m    Updating\u001b[22m\u001b[39m `C:\\Users\\KARL\\.julia\\environments\\v1.11\\Project.toml`\n",
      "  \u001b[90m[f3b207a7] \u001b[39m\u001b[92m+ StatsPlots v0.15.7\u001b[39m\n",
      "\u001b[32m\u001b[1m    Updating\u001b[22m\u001b[39m `C:\\Users\\KARL\\.julia\\environments\\v1.11\\Manifest.toml`\n",
      "  \u001b[90m[7d9fca2a] \u001b[39m\u001b[92m+ Arpack v0.5.4\u001b[39m\n",
      "  \u001b[90m[13072b0f] \u001b[39m\u001b[92m+ AxisAlgorithms v1.1.0\u001b[39m\n",
      "  \u001b[90m[aaaa29a8] \u001b[39m\u001b[92m+ Clustering v0.15.7\u001b[39m\n",
      "  \u001b[90m[a98d9a8b] \u001b[39m\u001b[92m+ Interpolations v0.15.1\u001b[39m\n",
      "  \u001b[90m[5ab0869b] \u001b[39m\u001b[92m+ KernelDensity v0.6.9\u001b[39m\n",
      "  \u001b[90m[6f286f6a] \u001b[39m\u001b[92m+ MultivariateStats v0.10.3\u001b[39m\n",
      "  \u001b[90m[b8a86587] \u001b[39m\u001b[92m+ NearestNeighbors v0.4.21\u001b[39m\n",
      "  \u001b[90m[510215fc] \u001b[39m\u001b[92m+ Observables v0.5.5\u001b[39m\n",
      "  \u001b[90m[6fe1bfb0] \u001b[39m\u001b[92m+ OffsetArrays v1.14.1\u001b[39m\n",
      "  \u001b[90m[c84ed2f1] \u001b[39m\u001b[92m+ Ratios v0.4.5\u001b[39m\n",
      "  \u001b[90m[f3b207a7] \u001b[39m\u001b[92m+ StatsPlots v0.15.7\u001b[39m\n",
      "  \u001b[90m[ab02a1b2] \u001b[39m\u001b[92m+ TableOperations v1.2.0\u001b[39m\n",
      "  \u001b[90m[cc8bc4a8] \u001b[39m\u001b[92m+ Widgets v0.6.7\u001b[39m\n",
      "  \u001b[90m[efce3f68] \u001b[39m\u001b[92m+ WoodburyMatrices v1.0.0\u001b[39m\n",
      "\u001b[33m⌅\u001b[39m \u001b[90m[68821587] \u001b[39m\u001b[92m+ Arpack_jll v3.5.1+1\u001b[39m\n",
      "  \u001b[90m[1a1011a3] \u001b[39m\u001b[92m+ SharedArrays v1.11.0\u001b[39m\n",
      "\u001b[36m\u001b[1m        Info\u001b[22m\u001b[39m Packages marked with \u001b[33m⌅\u001b[39m have new versions available but compatibility constraints restrict them from upgrading. To see why use `status --outdated -m`\n",
      "\u001b[92m\u001b[1mPrecompiling\u001b[22m\u001b[39m project...\n",
      "  15372.5 ms\u001b[32m  ✓ \u001b[39m\u001b[90mOffsetArrays\u001b[39m\n",
      "  12846.5 ms\u001b[32m  ✓ \u001b[39m\u001b[90mRatios\u001b[39m\n",
      "  12859.6 ms\u001b[32m  ✓ \u001b[39m\u001b[90mObservables\u001b[39m\n",
      "   1983.1 ms\u001b[32m  ✓ \u001b[39m\u001b[90mTableOperations\u001b[39m\n",
      "   1983.5 ms\u001b[32m  ✓ \u001b[39m\u001b[90mArpack_jll\u001b[39m\n",
      "   2038.3 ms\u001b[32m  ✓ \u001b[39m\u001b[90mWoodburyMatrices\u001b[39m\n",
      "   1622.3 ms\u001b[32m  ✓ \u001b[39m\u001b[90mOffsetArrays → OffsetArraysAdaptExt\u001b[39m\n",
      "   1610.7 ms\u001b[32m  ✓ \u001b[39m\u001b[90mRatios → RatiosFixedPointNumbersExt\u001b[39m\n",
      "   2097.7 ms\u001b[32m  ✓ \u001b[39m\u001b[90mArpack\u001b[39m\n",
      "   2418.1 ms\u001b[32m  ✓ \u001b[39m\u001b[90mWidgets\u001b[39m\n",
      "   5445.7 ms\u001b[32m  ✓ \u001b[39m\u001b[90mNearestNeighbors\u001b[39m\n",
      "   2103.2 ms\u001b[32m  ✓ \u001b[39m\u001b[90mAxisAlgorithms\u001b[39m\n",
      "   4443.0 ms\u001b[32m  ✓ \u001b[39m\u001b[90mMultivariateStats\u001b[39m\n",
      "   4293.1 ms\u001b[32m  ✓ \u001b[39m\u001b[90mClustering\u001b[39m\n",
      "   4504.9 ms\u001b[32m  ✓ \u001b[39m\u001b[90mInterpolations\u001b[39m\n",
      "   2350.7 ms\u001b[32m  ✓ \u001b[39m\u001b[90mInterpolations → InterpolationsUnitfulExt\u001b[39m\n",
      "   3195.7 ms\u001b[32m  ✓ \u001b[39m\u001b[90mKernelDensity\u001b[39m\n",
      "  10583.2 ms\u001b[32m  ✓ \u001b[39mStatsPlots\n",
      "  18 dependencies successfully precompiled in 77 seconds. 406 already precompiled.\n"
     ]
    }
   ],
   "source": [
    "import Pkg\n",
    "Pkg.add(\"StatsPlots\")"
   ]
  },
  {
   "cell_type": "code",
   "execution_count": 86,
   "metadata": {},
   "outputs": [
    {
     "data": {
      "image/png": "[encoded data removed]",
      "image/svg+xml": [
       "<?xml version=\"1.0\" encoding=\"utf-8\"?>\n",
       "<svg xmlns=\"http://www.w3.org/2000/svg\" xmlns:xlink=\"http://www.w3.org/1999/xlink\" width=\"600\" height=\"400\" viewBox=\"0 0 2400 1600\">\n",
       "<defs>\n",
       "  <clipPath id=\"clip650\">\n",
       "    <rect x=\"0\" y=\"0\" width=\"2400\" height=\"1600\"/>\n",
       "  </clipPath>\n",
       "</defs>\n",
       "<path clip-path=\"url(#clip650)\" d=\"M0 1600 L2400 1600 L2400 0 L0 0  Z\" fill=\"#ffffff\" fill-rule=\"evenodd\" fill-opacity=\"1\"/>\n",
       "<defs>\n",
       "  <clipPath id=\"clip651\">\n",
       "    <rect x=\"480\" y=\"0\" width=\"1681\" height=\"1600\"/>\n",
       "  </clipPath>\n",
       "</defs>\n",
       "<path clip-path=\"url(#clip650)\" d=\"M367.967 1423.18 L2352.76 1423.18 L2352.76 47.2441 L367.967 47.2441  Z\" fill=\"#ffffff\" fill-rule=\"evenodd\" fill-opacity=\"1\"/>\n",
       "<defs>\n",
       "  <clipPath id=\"clip652\">\n",
       "    <rect x=\"367\" y=\"47\" width=\"1986\" height=\"1377\"/>\n",
       "  </clipPath>\n",
       "</defs>\n",
       "<polyline clip-path=\"url(#clip652)\" style=\"stroke:#000000; stroke-linecap:round; stroke-linejoin:round; stroke-width:2; stroke-opacity:0.1; fill:none\" points=\"571.965,1423.18 571.965,47.2441 \"/>\n",
       "<polyline clip-path=\"url(#clip652)\" style=\"stroke:#000000; stroke-linecap:round; stroke-linejoin:round; stroke-width:2; stroke-opacity:0.1; fill:none\" points=\"1064.71,1423.18 1064.71,47.2441 \"/>\n",
       "<polyline clip-path=\"url(#clip652)\" style=\"stroke:#000000; stroke-linecap:round; stroke-linejoin:round; stroke-width:2; stroke-opacity:0.1; fill:none\" points=\"1557.46,1423.18 1557.46,47.2441 \"/>\n",
       "<polyline clip-path=\"url(#clip652)\" style=\"stroke:#000000; stroke-linecap:round; stroke-linejoin:round; stroke-width:2; stroke-opacity:0.1; fill:none\" points=\"2050.21,1423.18 2050.21,47.2441 \"/>\n",
       "<polyline clip-path=\"url(#clip652)\" style=\"stroke:#000000; stroke-linecap:round; stroke-linejoin:round; stroke-width:2; stroke-opacity:0.1; fill:none\" points=\"367.967,1384.24 2352.76,1384.24 \"/>\n",
       "<polyline clip-path=\"url(#clip652)\" style=\"stroke:#000000; stroke-linecap:round; stroke-linejoin:round; stroke-width:2; stroke-opacity:0.1; fill:none\" points=\"367.967,987.505 2352.76,987.505 \"/>\n",
       "<polyline clip-path=\"url(#clip652)\" style=\"stroke:#000000; stroke-linecap:round; stroke-linejoin:round; stroke-width:2; stroke-opacity:0.1; fill:none\" points=\"367.967,590.772 2352.76,590.772 \"/>\n",
       "<polyline clip-path=\"url(#clip652)\" style=\"stroke:#000000; stroke-linecap:round; stroke-linejoin:round; stroke-width:2; stroke-opacity:0.1; fill:none\" points=\"367.967,194.039 2352.76,194.039 \"/>\n",
       "<polyline clip-path=\"url(#clip650)\" style=\"stroke:#000000; stroke-linecap:round; stroke-linejoin:round; stroke-width:4; stroke-opacity:1; fill:none\" points=\"367.967,1423.18 2352.76,1423.18 \"/>\n",
       "<polyline clip-path=\"url(#clip650)\" style=\"stroke:#000000; stroke-linecap:round; stroke-linejoin:round; stroke-width:4; stroke-opacity:1; fill:none\" points=\"571.965,1423.18 571.965,1404.28 \"/>\n",
       "<polyline clip-path=\"url(#clip650)\" style=\"stroke:#000000; stroke-linecap:round; stroke-linejoin:round; stroke-width:4; stroke-opacity:1; fill:none\" points=\"1064.71,1423.18 1064.71,1404.28 \"/>\n",
       "<polyline clip-path=\"url(#clip650)\" style=\"stroke:#000000; stroke-linecap:round; stroke-linejoin:round; stroke-width:4; stroke-opacity:1; fill:none\" points=\"1557.46,1423.18 1557.46,1404.28 \"/>\n",
       "<polyline clip-path=\"url(#clip650)\" style=\"stroke:#000000; stroke-linecap:round; stroke-linejoin:round; stroke-width:4; stroke-opacity:1; fill:none\" points=\"2050.21,1423.18 2050.21,1404.28 \"/>\n",
       "<path clip-path=\"url(#clip650)\" d=\"M550.738 1481.64 L567.058 1481.64 L567.058 1485.58 L545.113 1485.58 L545.113 1481.64 Q547.775 1478.89 552.359 1474.26 Q556.965 1469.61 558.146 1468.27 Q560.391 1465.74 561.271 1464.01 Q562.173 1462.25 562.173 1460.56 Q562.173 1457.8 560.229 1456.07 Q558.308 1454.33 555.206 1454.33 Q553.007 1454.33 550.553 1455.09 Q548.122 1455.86 545.345 1457.41 L545.345 1452.69 Q548.169 1451.55 550.622 1450.97 Q553.076 1450.39 555.113 1450.39 Q560.484 1450.39 563.678 1453.08 Q566.872 1455.77 566.872 1460.26 Q566.872 1462.39 566.062 1464.31 Q565.275 1466.2 563.169 1468.8 Q562.59 1469.47 559.488 1472.69 Q556.386 1475.88 550.738 1481.64 Z\" fill=\"#000000\" fill-rule=\"nonzero\" fill-opacity=\"1\" /><path clip-path=\"url(#clip650)\" d=\"M586.872 1454.1 Q583.261 1454.1 581.433 1457.66 Q579.627 1461.2 579.627 1468.33 Q579.627 1475.44 581.433 1479.01 Q583.261 1482.55 586.872 1482.55 Q590.507 1482.55 592.312 1479.01 Q594.141 1475.44 594.141 1468.33 Q594.141 1461.2 592.312 1457.66 Q590.507 1454.1 586.872 1454.1 M586.872 1450.39 Q592.682 1450.39 595.738 1455 Q598.817 1459.58 598.817 1468.33 Q598.817 1477.06 595.738 1481.67 Q592.682 1486.25 586.872 1486.25 Q581.062 1486.25 577.983 1481.67 Q574.928 1477.06 574.928 1468.33 Q574.928 1459.58 577.983 1455 Q581.062 1450.39 586.872 1450.39 Z\" fill=\"#000000\" fill-rule=\"nonzero\" fill-opacity=\"1\" /><path clip-path=\"url(#clip650)\" d=\"M1053.56 1466.95 Q1056.91 1467.66 1058.79 1469.93 Q1060.69 1472.2 1060.69 1475.53 Q1060.69 1480.65 1057.17 1483.45 Q1053.65 1486.25 1047.17 1486.25 Q1044.99 1486.25 1042.68 1485.81 Q1040.38 1485.39 1037.93 1484.54 L1037.93 1480.02 Q1039.88 1481.16 1042.19 1481.74 Q1044.5 1482.32 1047.03 1482.32 Q1051.43 1482.32 1053.72 1480.58 Q1056.03 1478.84 1056.03 1475.53 Q1056.03 1472.48 1053.88 1470.77 Q1051.75 1469.03 1047.93 1469.03 L1043.9 1469.03 L1043.9 1465.19 L1048.12 1465.19 Q1051.56 1465.19 1053.39 1463.82 Q1055.22 1462.43 1055.22 1459.84 Q1055.22 1457.18 1053.32 1455.77 Q1051.45 1454.33 1047.93 1454.33 Q1046.01 1454.33 1043.81 1454.75 Q1041.61 1455.16 1038.97 1456.04 L1038.97 1451.88 Q1041.63 1451.14 1043.95 1450.77 Q1046.29 1450.39 1048.35 1450.39 Q1053.67 1450.39 1056.77 1452.83 Q1059.87 1455.23 1059.87 1459.35 Q1059.87 1462.22 1058.23 1464.21 Q1056.59 1466.18 1053.56 1466.95 Z\" fill=\"#000000\" fill-rule=\"nonzero\" fill-opacity=\"1\" /><path clip-path=\"url(#clip650)\" d=\"M1079.55 1454.1 Q1075.94 1454.1 1074.11 1457.66 Q1072.31 1461.2 1072.31 1468.33 Q1072.31 1475.44 1074.11 1479.01 Q1075.94 1482.55 1079.55 1482.55 Q1083.18 1482.55 1084.99 1479.01 Q1086.82 1475.44 1086.82 1468.33 Q1086.82 1461.2 1084.99 1457.66 Q1083.18 1454.1 1079.55 1454.1 M1079.55 1450.39 Q1085.36 1450.39 1088.42 1455 Q1091.5 1459.58 1091.5 1468.33 Q1091.5 1477.06 1088.42 1481.67 Q1085.36 1486.25 1079.55 1486.25 Q1073.74 1486.25 1070.66 1481.67 Q1067.61 1477.06 1067.61 1468.33 Q1067.61 1459.58 1070.66 1455 Q1073.74 1450.39 1079.55 1450.39 Z\" fill=\"#000000\" fill-rule=\"nonzero\" fill-opacity=\"1\" /><path clip-path=\"url(#clip650)\" d=\"M1545.63 1455.09 L1533.83 1473.54 L1545.63 1473.54 L1545.63 1455.09 M1544.41 1451.02 L1550.28 1451.02 L1550.28 1473.54 L1555.22 1473.54 L1555.22 1477.43 L1550.28 1477.43 L1550.28 1485.58 L1545.63 1485.58 L1545.63 1477.43 L1530.03 1477.43 L1530.03 1472.92 L1544.41 1451.02 Z\" fill=\"#000000\" fill-rule=\"nonzero\" fill-opacity=\"1\" /><path clip-path=\"url(#clip650)\" d=\"M1572.95 1454.1 Q1569.34 1454.1 1567.51 1457.66 Q1565.7 1461.2 1565.7 1468.33 Q1565.7 1475.44 1567.51 1479.01 Q1569.34 1482.55 1572.95 1482.55 Q1576.58 1482.55 1578.39 1479.01 Q1580.22 1475.44 1580.22 1468.33 Q1580.22 1461.2 1578.39 1457.66 Q1576.58 1454.1 1572.95 1454.1 M1572.95 1450.39 Q1578.76 1450.39 1581.81 1455 Q1584.89 1459.58 1584.89 1468.33 Q1584.89 1477.06 1581.81 1481.67 Q1578.76 1486.25 1572.95 1486.25 Q1567.14 1486.25 1564.06 1481.67 Q1561 1477.06 1561 1468.33 Q1561 1459.58 1564.06 1455 Q1567.14 1450.39 1572.95 1450.39 Z\" fill=\"#000000\" fill-rule=\"nonzero\" fill-opacity=\"1\" /><path clip-path=\"url(#clip650)\" d=\"M2024.91 1451.02 L2043.26 1451.02 L2043.26 1454.96 L2029.19 1454.96 L2029.19 1463.43 Q2030.21 1463.08 2031.23 1462.92 Q2032.25 1462.73 2033.26 1462.73 Q2039.05 1462.73 2042.43 1465.9 Q2045.81 1469.08 2045.81 1474.49 Q2045.81 1480.07 2042.34 1483.17 Q2038.87 1486.25 2032.55 1486.25 Q2030.37 1486.25 2028.1 1485.88 Q2025.86 1485.51 2023.45 1484.77 L2023.45 1480.07 Q2025.53 1481.2 2027.76 1481.76 Q2029.98 1482.32 2032.45 1482.32 Q2036.46 1482.32 2038.8 1480.21 Q2041.13 1478.1 2041.13 1474.49 Q2041.13 1470.88 2038.8 1468.77 Q2036.46 1466.67 2032.45 1466.67 Q2030.58 1466.67 2028.7 1467.08 Q2026.85 1467.5 2024.91 1468.38 L2024.91 1451.02 Z\" fill=\"#000000\" fill-rule=\"nonzero\" fill-opacity=\"1\" /><path clip-path=\"url(#clip650)\" d=\"M2065.02 1454.1 Q2061.41 1454.1 2059.58 1457.66 Q2057.78 1461.2 2057.78 1468.33 Q2057.78 1475.44 2059.58 1479.01 Q2061.41 1482.55 2065.02 1482.55 Q2068.66 1482.55 2070.46 1479.01 Q2072.29 1475.44 2072.29 1468.33 Q2072.29 1461.2 2070.46 1457.66 Q2068.66 1454.1 2065.02 1454.1 M2065.02 1450.39 Q2070.83 1450.39 2073.89 1455 Q2076.97 1459.58 2076.97 1468.33 Q2076.97 1477.06 2073.89 1481.67 Q2070.83 1486.25 2065.02 1486.25 Q2059.21 1486.25 2056.13 1481.67 Q2053.08 1477.06 2053.08 1468.33 Q2053.08 1459.58 2056.13 1455 Q2059.21 1450.39 2065.02 1450.39 Z\" fill=\"#000000\" fill-rule=\"nonzero\" fill-opacity=\"1\" /><path clip-path=\"url(#clip650)\" d=\"M1242.21 1550.12 Q1235.12 1550.12 1232.38 1551.75 Q1229.64 1553.37 1229.64 1557.29 Q1229.64 1560.4 1231.68 1562.25 Q1233.75 1564.07 1237.28 1564.07 Q1242.15 1564.07 1245.08 1560.63 Q1248.04 1557.16 1248.04 1551.43 L1248.04 1550.12 L1242.21 1550.12 M1253.9 1547.71 L1253.9 1568.04 L1248.04 1568.04 L1248.04 1562.63 Q1246.03 1565.88 1243.04 1567.44 Q1240.05 1568.97 1235.72 1568.97 Q1230.25 1568.97 1227 1565.91 Q1223.79 1562.82 1223.79 1557.67 Q1223.79 1551.65 1227.8 1548.6 Q1231.84 1545.54 1239.83 1545.54 L1248.04 1545.54 L1248.04 1544.97 Q1248.04 1540.93 1245.37 1538.73 Q1242.72 1536.5 1237.92 1536.5 Q1234.86 1536.5 1231.97 1537.23 Q1229.07 1537.97 1226.4 1539.43 L1226.4 1534.02 Q1229.61 1532.78 1232.63 1532.17 Q1235.66 1531.54 1238.52 1531.54 Q1246.26 1531.54 1250.08 1535.55 Q1253.9 1539.56 1253.9 1547.71 Z\" fill=\"#000000\" fill-rule=\"nonzero\" fill-opacity=\"1\" /><path clip-path=\"url(#clip650)\" d=\"M1289.42 1549.81 Q1289.42 1543.44 1286.77 1539.94 Q1284.16 1536.44 1279.42 1536.44 Q1274.71 1536.44 1272.07 1539.94 Q1269.46 1543.44 1269.46 1549.81 Q1269.46 1556.14 1272.07 1559.64 Q1274.71 1563.14 1279.42 1563.14 Q1284.16 1563.14 1286.77 1559.64 Q1289.42 1556.14 1289.42 1549.81 M1295.27 1563.62 Q1295.27 1572.72 1291.23 1577.15 Q1287.19 1581.6 1278.85 1581.6 Q1275.76 1581.6 1273.02 1581.13 Q1270.29 1580.68 1267.71 1579.72 L1267.71 1574.03 Q1270.29 1575.43 1272.8 1576.1 Q1275.32 1576.76 1277.93 1576.76 Q1283.69 1576.76 1286.55 1573.74 Q1289.42 1570.75 1289.42 1564.67 L1289.42 1561.77 Q1287.6 1564.92 1284.77 1566.48 Q1281.94 1568.04 1277.99 1568.04 Q1271.43 1568.04 1267.42 1563.05 Q1263.41 1558.05 1263.41 1549.81 Q1263.41 1541.53 1267.42 1536.53 Q1271.43 1531.54 1277.99 1531.54 Q1281.94 1531.54 1284.77 1533.1 Q1287.6 1534.66 1289.42 1537.81 L1289.42 1532.4 L1295.27 1532.4 L1295.27 1563.62 Z\" fill=\"#000000\" fill-rule=\"nonzero\" fill-opacity=\"1\" /><path clip-path=\"url(#clip650)\" d=\"M1337.83 1548.76 L1337.83 1551.62 L1310.9 1551.62 Q1311.28 1557.67 1314.53 1560.85 Q1317.81 1564 1323.63 1564 Q1327.01 1564 1330.16 1563.17 Q1333.34 1562.35 1336.46 1560.69 L1336.46 1566.23 Q1333.31 1567.57 1330 1568.27 Q1326.69 1568.97 1323.28 1568.97 Q1314.75 1568.97 1309.75 1564 Q1304.79 1559.04 1304.79 1550.57 Q1304.79 1541.82 1309.5 1536.69 Q1314.24 1531.54 1322.26 1531.54 Q1329.46 1531.54 1333.63 1536.18 Q1337.83 1540.8 1337.83 1548.76 M1331.97 1547.04 Q1331.91 1542.23 1329.27 1539.37 Q1326.66 1536.5 1322.33 1536.5 Q1317.42 1536.5 1314.46 1539.27 Q1311.54 1542.04 1311.09 1547.07 L1331.97 1547.04 Z\" fill=\"#000000\" fill-rule=\"nonzero\" fill-opacity=\"1\" /><path clip-path=\"url(#clip650)\" d=\"M1374.84 1545.35 L1374.84 1562.76 L1385.16 1562.76 Q1390.34 1562.76 1392.83 1560.63 Q1395.34 1558.46 1395.34 1554.04 Q1395.34 1549.58 1392.83 1547.48 Q1390.34 1545.35 1385.16 1545.35 L1374.84 1545.35 M1374.84 1525.81 L1374.84 1540.13 L1384.36 1540.13 Q1389.07 1540.13 1391.36 1538.38 Q1393.69 1536.6 1393.69 1532.97 Q1393.69 1529.37 1391.36 1527.59 Q1389.07 1525.81 1384.36 1525.81 L1374.84 1525.81 M1368.41 1520.52 L1384.84 1520.52 Q1392.19 1520.52 1396.17 1523.58 Q1400.15 1526.63 1400.15 1532.27 Q1400.15 1536.63 1398.11 1539.21 Q1396.07 1541.79 1392.13 1542.42 Q1396.87 1543.44 1399.48 1546.69 Q1402.12 1549.9 1402.12 1554.74 Q1402.12 1561.11 1397.79 1564.57 Q1393.46 1568.04 1385.47 1568.04 L1368.41 1568.04 L1368.41 1520.52 Z\" fill=\"#000000\" fill-rule=\"nonzero\" fill-opacity=\"1\" /><path clip-path=\"url(#clip650)\" d=\"M1412.88 1532.4 L1418.74 1532.4 L1418.74 1568.04 L1412.88 1568.04 L1412.88 1532.4 M1412.88 1518.52 L1418.74 1518.52 L1418.74 1525.93 L1412.88 1525.93 L1412.88 1518.52 Z\" fill=\"#000000\" fill-rule=\"nonzero\" fill-opacity=\"1\" /><path clip-path=\"url(#clip650)\" d=\"M1460.62 1546.53 L1460.62 1568.04 L1454.77 1568.04 L1454.77 1546.72 Q1454.77 1541.66 1452.79 1539.14 Q1450.82 1536.63 1446.87 1536.63 Q1442.13 1536.63 1439.39 1539.65 Q1436.65 1542.68 1436.65 1547.9 L1436.65 1568.04 L1430.77 1568.04 L1430.77 1532.4 L1436.65 1532.4 L1436.65 1537.93 Q1438.76 1534.72 1441.59 1533.13 Q1444.45 1531.54 1448.18 1531.54 Q1454.32 1531.54 1457.47 1535.36 Q1460.62 1539.14 1460.62 1546.53 Z\" fill=\"#000000\" fill-rule=\"nonzero\" fill-opacity=\"1\" /><path clip-path=\"url(#clip650)\" d=\"M1495.03 1533.45 L1495.03 1538.98 Q1492.55 1537.71 1489.87 1537.07 Q1487.2 1536.44 1484.33 1536.44 Q1479.97 1536.44 1477.78 1537.77 Q1475.61 1539.11 1475.61 1541.79 Q1475.61 1543.82 1477.17 1545 Q1478.73 1546.15 1483.44 1547.2 L1485.45 1547.64 Q1491.69 1548.98 1494.3 1551.43 Q1496.94 1553.85 1496.94 1558.21 Q1496.94 1563.17 1492.99 1566.07 Q1489.08 1568.97 1482.2 1568.97 Q1479.34 1568.97 1476.22 1568.39 Q1473.13 1567.85 1469.69 1566.74 L1469.69 1560.69 Q1472.94 1562.38 1476.09 1563.24 Q1479.24 1564.07 1482.33 1564.07 Q1486.47 1564.07 1488.69 1562.66 Q1490.92 1561.23 1490.92 1558.65 Q1490.92 1556.27 1489.3 1554.99 Q1487.71 1553.72 1482.26 1552.54 L1480.23 1552.07 Q1474.79 1550.92 1472.37 1548.56 Q1469.95 1546.18 1469.95 1542.04 Q1469.95 1537.01 1473.51 1534.27 Q1477.08 1531.54 1483.63 1531.54 Q1486.88 1531.54 1489.74 1532.01 Q1492.61 1532.49 1495.03 1533.45 Z\" fill=\"#000000\" fill-rule=\"nonzero\" fill-opacity=\"1\" /><polyline clip-path=\"url(#clip650)\" style=\"stroke:#000000; stroke-linecap:round; stroke-linejoin:round; stroke-width:4; stroke-opacity:1; fill:none\" points=\"367.967,1423.18 367.967,47.2441 \"/>\n",
       "<polyline clip-path=\"url(#clip650)\" style=\"stroke:#000000; stroke-linecap:round; stroke-linejoin:round; stroke-width:4; stroke-opacity:1; fill:none\" points=\"367.967,1384.24 386.865,1384.24 \"/>\n",
       "<polyline clip-path=\"url(#clip650)\" style=\"stroke:#000000; stroke-linecap:round; stroke-linejoin:round; stroke-width:4; stroke-opacity:1; fill:none\" points=\"367.967,987.505 386.865,987.505 \"/>\n",
       "<polyline clip-path=\"url(#clip650)\" style=\"stroke:#000000; stroke-linecap:round; stroke-linejoin:round; stroke-width:4; stroke-opacity:1; fill:none\" points=\"367.967,590.772 386.865,590.772 \"/>\n",
       "<polyline clip-path=\"url(#clip650)\" style=\"stroke:#000000; stroke-linecap:round; stroke-linejoin:round; stroke-width:4; stroke-opacity:1; fill:none\" points=\"367.967,194.039 386.865,194.039 \"/>\n",
       "<path clip-path=\"url(#clip650)\" d=\"M320.023 1370.04 Q316.412 1370.04 314.583 1373.6 Q312.778 1377.14 312.778 1384.27 Q312.778 1391.38 314.583 1394.94 Q316.412 1398.49 320.023 1398.49 Q323.657 1398.49 325.463 1394.94 Q327.291 1391.38 327.291 1384.27 Q327.291 1377.14 325.463 1373.6 Q323.657 1370.04 320.023 1370.04 M320.023 1366.33 Q325.833 1366.33 328.889 1370.94 Q331.967 1375.52 331.967 1384.27 Q331.967 1393 328.889 1397.61 Q325.833 1402.19 320.023 1402.19 Q314.213 1402.19 311.134 1397.61 Q308.079 1393 308.079 1384.27 Q308.079 1375.52 311.134 1370.94 Q314.213 1366.33 320.023 1366.33 Z\" fill=\"#000000\" fill-rule=\"nonzero\" fill-opacity=\"1\" /><path clip-path=\"url(#clip650)\" d=\"M116.142 976.673 L134.499 976.673 L134.499 980.608 L120.425 980.608 L120.425 989.08 Q121.443 988.733 122.462 988.571 Q123.48 988.386 124.499 988.386 Q130.286 988.386 133.665 991.557 Q137.045 994.728 137.045 1000.14 Q137.045 1005.72 133.573 1008.83 Q130.101 1011.9 123.781 1011.9 Q121.605 1011.9 119.337 1011.53 Q117.091 1011.16 114.684 1010.42 L114.684 1005.72 Q116.767 1006.86 118.99 1007.41 Q121.212 1007.97 123.689 1007.97 Q127.693 1007.97 130.031 1005.86 Q132.369 1003.76 132.369 1000.14 Q132.369 996.534 130.031 994.427 Q127.693 992.321 123.689 992.321 Q121.814 992.321 119.939 992.738 Q118.087 993.154 116.142 994.034 L116.142 976.673 Z\" fill=\"#000000\" fill-rule=\"nonzero\" fill-opacity=\"1\" /><path clip-path=\"url(#clip650)\" d=\"M146.258 1005.35 L151.142 1005.35 L151.142 1011.23 L146.258 1011.23 L146.258 1005.35 Z\" fill=\"#000000\" fill-rule=\"nonzero\" fill-opacity=\"1\" /><path clip-path=\"url(#clip650)\" d=\"M171.327 979.752 Q167.716 979.752 165.887 983.316 Q164.082 986.858 164.082 993.988 Q164.082 1001.09 165.887 1004.66 Q167.716 1008.2 171.327 1008.2 Q174.962 1008.2 176.767 1004.66 Q178.596 1001.09 178.596 993.988 Q178.596 986.858 176.767 983.316 Q174.962 979.752 171.327 979.752 M171.327 976.048 Q177.137 976.048 180.193 980.654 Q183.272 985.238 183.272 993.988 Q183.272 1002.71 180.193 1007.32 Q177.137 1011.9 171.327 1011.9 Q165.517 1011.9 162.438 1007.32 Q159.383 1002.71 159.383 993.988 Q159.383 985.238 162.438 980.654 Q165.517 976.048 171.327 976.048 Z\" fill=\"#000000\" fill-rule=\"nonzero\" fill-opacity=\"1\" /><path clip-path=\"url(#clip650)\" d=\"M201.489 979.752 Q197.878 979.752 196.049 983.316 Q194.244 986.858 194.244 993.988 Q194.244 1001.09 196.049 1004.66 Q197.878 1008.2 201.489 1008.2 Q205.123 1008.2 206.929 1004.66 Q208.758 1001.09 208.758 993.988 Q208.758 986.858 206.929 983.316 Q205.123 979.752 201.489 979.752 M201.489 976.048 Q207.299 976.048 210.355 980.654 Q213.434 985.238 213.434 993.988 Q213.434 1002.71 210.355 1007.32 Q207.299 1011.9 201.489 1011.9 Q195.679 1011.9 192.6 1007.32 Q189.545 1002.71 189.545 993.988 Q189.545 985.238 192.6 980.654 Q195.679 976.048 201.489 976.048 Z\" fill=\"#000000\" fill-rule=\"nonzero\" fill-opacity=\"1\" /><path clip-path=\"url(#clip650)\" d=\"M249.822 985.77 L239.244 996.395 L249.822 1006.97 L247.068 1009.77 L236.443 999.15 L225.818 1009.77 L223.086 1006.97 L233.642 996.395 L223.086 985.77 L225.818 982.969 L236.443 993.594 L247.068 982.969 L249.822 985.77 Z\" fill=\"#000000\" fill-rule=\"nonzero\" fill-opacity=\"1\" /><path clip-path=\"url(#clip650)\" d=\"M262.183 1007.3 L269.822 1007.3 L269.822 980.932 L261.512 982.599 L261.512 978.339 L269.776 976.673 L274.452 976.673 L274.452 1007.3 L282.091 1007.3 L282.091 1011.23 L262.183 1011.23 L262.183 1007.3 Z\" fill=\"#000000\" fill-rule=\"nonzero\" fill-opacity=\"1\" /><path clip-path=\"url(#clip650)\" d=\"M301.535 979.752 Q297.924 979.752 296.095 983.316 Q294.29 986.858 294.29 993.988 Q294.29 1001.09 296.095 1004.66 Q297.924 1008.2 301.535 1008.2 Q305.169 1008.2 306.975 1004.66 Q308.803 1001.09 308.803 993.988 Q308.803 986.858 306.975 983.316 Q305.169 979.752 301.535 979.752 M301.535 976.048 Q307.345 976.048 310.401 980.654 Q313.479 985.238 313.479 993.988 Q313.479 1002.71 310.401 1007.32 Q307.345 1011.9 301.535 1011.9 Q295.725 1011.9 292.646 1007.32 Q289.591 1002.71 289.591 993.988 Q289.591 985.238 292.646 980.654 Q295.725 976.048 301.535 976.048 Z\" fill=\"#000000\" fill-rule=\"nonzero\" fill-opacity=\"1\" /><path clip-path=\"url(#clip650)\" d=\"M326.175 968.682 Q328.902 969.265 330.425 971.108 Q331.967 972.952 331.967 975.66 Q331.967 979.816 329.109 982.092 Q326.25 984.368 320.984 984.368 Q319.216 984.368 317.335 984.011 Q315.473 983.672 313.479 982.976 L313.479 979.309 Q315.059 980.23 316.94 980.7 Q318.821 981.171 320.871 981.171 Q324.444 981.171 326.306 979.76 Q328.187 978.349 328.187 975.66 Q328.187 973.177 326.438 971.785 Q324.708 970.375 321.604 970.375 L318.332 970.375 L318.332 967.253 L321.755 967.253 Q324.557 967.253 326.043 966.143 Q327.529 965.015 327.529 962.908 Q327.529 960.745 325.986 959.598 Q324.463 958.432 321.604 958.432 Q320.043 958.432 318.256 958.77 Q316.47 959.109 314.326 959.824 L314.326 956.438 Q316.489 955.836 318.369 955.536 Q320.269 955.235 321.943 955.235 Q326.269 955.235 328.789 957.209 Q331.309 959.165 331.309 962.513 Q331.309 964.845 329.974 966.463 Q328.638 968.062 326.175 968.682 Z\" fill=\"#000000\" fill-rule=\"nonzero\" fill-opacity=\"1\" /><path clip-path=\"url(#clip650)\" d=\"M114.931 610.565 L122.57 610.565 L122.57 584.199 L114.26 585.866 L114.26 581.606 L122.524 579.94 L127.2 579.94 L127.2 610.565 L134.839 610.565 L134.839 614.5 L114.931 614.5 L114.931 610.565 Z\" fill=\"#000000\" fill-rule=\"nonzero\" fill-opacity=\"1\" /><path clip-path=\"url(#clip650)\" d=\"M144.283 608.62 L149.167 608.62 L149.167 614.5 L144.283 614.5 L144.283 608.62 Z\" fill=\"#000000\" fill-rule=\"nonzero\" fill-opacity=\"1\" /><path clip-path=\"url(#clip650)\" d=\"M169.352 583.018 Q165.741 583.018 163.913 586.583 Q162.107 590.125 162.107 597.255 Q162.107 604.361 163.913 607.926 Q165.741 611.467 169.352 611.467 Q172.987 611.467 174.792 607.926 Q176.621 604.361 176.621 597.255 Q176.621 590.125 174.792 586.583 Q172.987 583.018 169.352 583.018 M169.352 579.315 Q175.163 579.315 178.218 583.921 Q181.297 588.505 181.297 597.255 Q181.297 605.981 178.218 610.588 Q175.163 615.171 169.352 615.171 Q163.542 615.171 160.464 610.588 Q157.408 605.981 157.408 597.255 Q157.408 588.505 160.464 583.921 Q163.542 579.315 169.352 579.315 Z\" fill=\"#000000\" fill-rule=\"nonzero\" fill-opacity=\"1\" /><path clip-path=\"url(#clip650)\" d=\"M199.514 583.018 Q195.903 583.018 194.075 586.583 Q192.269 590.125 192.269 597.255 Q192.269 604.361 194.075 607.926 Q195.903 611.467 199.514 611.467 Q203.149 611.467 204.954 607.926 Q206.783 604.361 206.783 597.255 Q206.783 590.125 204.954 586.583 Q203.149 583.018 199.514 583.018 M199.514 579.315 Q205.324 579.315 208.38 583.921 Q211.459 588.505 211.459 597.255 Q211.459 605.981 208.38 610.588 Q205.324 615.171 199.514 615.171 Q193.704 615.171 190.625 610.588 Q187.57 605.981 187.57 597.255 Q187.57 588.505 190.625 583.921 Q193.704 579.315 199.514 579.315 Z\" fill=\"#000000\" fill-rule=\"nonzero\" fill-opacity=\"1\" /><path clip-path=\"url(#clip650)\" d=\"M247.847 589.037 L237.269 599.662 L247.847 610.241 L245.093 613.041 L234.468 602.417 L223.843 613.041 L221.111 610.241 L231.667 599.662 L221.111 589.037 L223.843 586.236 L234.468 596.861 L245.093 586.236 L247.847 589.037 Z\" fill=\"#000000\" fill-rule=\"nonzero\" fill-opacity=\"1\" /><path clip-path=\"url(#clip650)\" d=\"M260.208 610.565 L267.847 610.565 L267.847 584.199 L259.537 585.866 L259.537 581.606 L267.801 579.94 L272.477 579.94 L272.477 610.565 L280.116 610.565 L280.116 614.5 L260.208 614.5 L260.208 610.565 Z\" fill=\"#000000\" fill-rule=\"nonzero\" fill-opacity=\"1\" /><path clip-path=\"url(#clip650)\" d=\"M299.56 583.018 Q295.949 583.018 294.12 586.583 Q292.315 590.125 292.315 597.255 Q292.315 604.361 294.12 607.926 Q295.949 611.467 299.56 611.467 Q303.194 611.467 305 607.926 Q306.829 604.361 306.829 597.255 Q306.829 590.125 305 586.583 Q303.194 583.018 299.56 583.018 M299.56 579.315 Q305.37 579.315 308.426 583.921 Q311.504 588.505 311.504 597.255 Q311.504 605.981 308.426 610.588 Q305.37 615.171 299.56 615.171 Q293.75 615.171 290.671 610.588 Q287.616 605.981 287.616 597.255 Q287.616 588.505 290.671 583.921 Q293.75 579.315 299.56 579.315 Z\" fill=\"#000000\" fill-rule=\"nonzero\" fill-opacity=\"1\" /><path clip-path=\"url(#clip650)\" d=\"M324.181 562.32 L314.589 577.309 L324.181 577.309 L324.181 562.32 M323.184 559.009 L327.961 559.009 L327.961 577.309 L331.967 577.309 L331.967 580.469 L327.961 580.469 L327.961 587.089 L324.181 587.089 L324.181 580.469 L311.504 580.469 L311.504 576.802 L323.184 559.009 Z\" fill=\"#000000\" fill-rule=\"nonzero\" fill-opacity=\"1\" /><path clip-path=\"url(#clip650)\" d=\"M114.931 213.832 L122.57 213.832 L122.57 187.466 L114.26 189.133 L114.26 184.873 L122.524 183.207 L127.2 183.207 L127.2 213.832 L134.839 213.832 L134.839 217.767 L114.931 217.767 L114.931 213.832 Z\" fill=\"#000000\" fill-rule=\"nonzero\" fill-opacity=\"1\" /><path clip-path=\"url(#clip650)\" d=\"M144.283 211.887 L149.167 211.887 L149.167 217.767 L144.283 217.767 L144.283 211.887 Z\" fill=\"#000000\" fill-rule=\"nonzero\" fill-opacity=\"1\" /><path clip-path=\"url(#clip650)\" d=\"M159.399 183.207 L177.755 183.207 L177.755 187.142 L163.681 187.142 L163.681 195.614 Q164.7 195.267 165.718 195.105 Q166.737 194.92 167.755 194.92 Q173.542 194.92 176.922 198.091 Q180.301 201.262 180.301 206.679 Q180.301 212.258 176.829 215.359 Q173.357 218.438 167.038 218.438 Q164.862 218.438 162.593 218.068 Q160.348 217.697 157.94 216.957 L157.94 212.258 Q160.024 213.392 162.246 213.947 Q164.468 214.503 166.945 214.503 Q170.95 214.503 173.288 212.396 Q175.626 210.29 175.626 206.679 Q175.626 203.068 173.288 200.961 Q170.95 198.855 166.945 198.855 Q165.07 198.855 163.195 199.272 Q161.343 199.688 159.399 200.568 L159.399 183.207 Z\" fill=\"#000000\" fill-rule=\"nonzero\" fill-opacity=\"1\" /><path clip-path=\"url(#clip650)\" d=\"M199.514 186.285 Q195.903 186.285 194.075 189.85 Q192.269 193.392 192.269 200.522 Q192.269 207.628 194.075 211.193 Q195.903 214.734 199.514 214.734 Q203.149 214.734 204.954 211.193 Q206.783 207.628 206.783 200.522 Q206.783 193.392 204.954 189.85 Q203.149 186.285 199.514 186.285 M199.514 182.582 Q205.324 182.582 208.38 187.188 Q211.459 191.772 211.459 200.522 Q211.459 209.248 208.38 213.855 Q205.324 218.438 199.514 218.438 Q193.704 218.438 190.625 213.855 Q187.57 209.248 187.57 200.522 Q187.57 191.772 190.625 187.188 Q193.704 182.582 199.514 182.582 Z\" fill=\"#000000\" fill-rule=\"nonzero\" fill-opacity=\"1\" /><path clip-path=\"url(#clip650)\" d=\"M247.847 192.304 L237.269 202.929 L247.847 213.508 L245.093 216.308 L234.468 205.684 L223.843 216.308 L221.111 213.508 L231.667 202.929 L221.111 192.304 L223.843 189.503 L234.468 200.128 L245.093 189.503 L247.847 192.304 Z\" fill=\"#000000\" fill-rule=\"nonzero\" fill-opacity=\"1\" /><path clip-path=\"url(#clip650)\" d=\"M260.208 213.832 L267.847 213.832 L267.847 187.466 L259.537 189.133 L259.537 184.873 L267.801 183.207 L272.477 183.207 L272.477 213.832 L280.116 213.832 L280.116 217.767 L260.208 217.767 L260.208 213.832 Z\" fill=\"#000000\" fill-rule=\"nonzero\" fill-opacity=\"1\" /><path clip-path=\"url(#clip650)\" d=\"M299.56 186.285 Q295.949 186.285 294.12 189.85 Q292.315 193.392 292.315 200.522 Q292.315 207.628 294.12 211.193 Q295.949 214.734 299.56 214.734 Q303.194 214.734 305 211.193 Q306.829 207.628 306.829 200.522 Q306.829 193.392 305 189.85 Q303.194 186.285 299.56 186.285 M299.56 182.582 Q305.37 182.582 308.426 187.188 Q311.504 191.772 311.504 200.522 Q311.504 209.248 308.426 213.855 Q305.37 218.438 299.56 218.438 Q293.75 218.438 290.671 213.855 Q287.616 209.248 287.616 200.522 Q287.616 191.772 290.671 187.188 Q293.75 182.582 299.56 182.582 Z\" fill=\"#000000\" fill-rule=\"nonzero\" fill-opacity=\"1\" /><path clip-path=\"url(#clip650)\" d=\"M324.181 165.587 L314.589 180.576 L324.181 180.576 L324.181 165.587 M323.184 162.276 L327.961 162.276 L327.961 180.576 L331.967 180.576 L331.967 183.736 L327.961 183.736 L327.961 190.356 L324.181 190.356 L324.181 183.736 L311.504 183.736 L311.504 180.069 L323.184 162.276 Z\" fill=\"#000000\" fill-rule=\"nonzero\" fill-opacity=\"1\" /><path clip-path=\"url(#clip650)\" d=\"M16.4842 825.525 L16.4842 795.479 L21.895 795.479 L21.895 819.096 L35.9632 819.096 L35.9632 796.466 L41.3741 796.466 L41.3741 819.096 L58.5933 819.096 L58.5933 794.906 L64.0042 794.906 L64.0042 825.525 L16.4842 825.525 Z\" fill=\"#000000\" fill-rule=\"nonzero\" fill-opacity=\"1\" /><path clip-path=\"url(#clip650)\" d=\"M14.479 766.547 L19.3487 766.547 L19.3487 772.149 Q19.3487 775.3 20.6219 776.541 Q21.895 777.751 25.2052 777.751 L28.3562 777.751 L28.3562 768.107 L32.9077 768.107 L32.9077 777.751 L64.0042 777.751 L64.0042 783.639 L32.9077 783.639 L32.9077 789.241 L28.3562 789.241 L28.3562 783.639 L25.8736 783.639 Q19.9216 783.639 17.2162 780.87 Q14.479 778.101 14.479 772.085 L14.479 766.547 Z\" fill=\"#000000\" fill-rule=\"nonzero\" fill-opacity=\"1\" /><path clip-path=\"url(#clip650)\" d=\"M14.479 743.599 L19.3487 743.599 L19.3487 749.201 Q19.3487 752.352 20.6219 753.593 Q21.895 754.802 25.2052 754.802 L28.3562 754.802 L28.3562 745.158 L32.9077 745.158 L32.9077 754.802 L64.0042 754.802 L64.0042 760.691 L32.9077 760.691 L32.9077 766.293 L28.3562 766.293 L28.3562 760.691 L25.8736 760.691 Q19.9216 760.691 17.2162 757.922 Q14.479 755.153 14.479 749.137 L14.479 743.599 Z\" fill=\"#000000\" fill-rule=\"nonzero\" fill-opacity=\"1\" /><path clip-path=\"url(#clip650)\" d=\"M44.7161 708.205 L47.5806 708.205 L47.5806 735.132 Q53.6281 734.75 56.8109 731.504 Q59.9619 728.226 59.9619 722.401 Q59.9619 719.027 59.1344 715.876 Q58.3069 712.693 56.6518 709.574 L62.1899 709.574 Q63.5267 712.725 64.227 716.035 Q64.9272 719.345 64.9272 722.751 Q64.9272 731.281 59.9619 736.278 Q54.9967 741.243 46.5303 741.243 Q37.7774 741.243 32.6531 736.533 Q27.4968 731.79 27.4968 723.77 Q27.4968 716.576 32.1438 712.407 Q36.7589 708.205 44.7161 708.205 M42.9973 714.062 Q38.1912 714.126 35.3266 716.767 Q32.4621 719.377 32.4621 723.706 Q32.4621 728.608 35.2312 731.568 Q38.0002 734.496 43.0292 734.941 L42.9973 714.062 Z\" fill=\"#000000\" fill-rule=\"nonzero\" fill-opacity=\"1\" /><path clip-path=\"url(#clip650)\" d=\"M29.7248 672.939 L35.1993 672.939 Q33.8307 675.422 33.1623 677.937 Q32.4621 680.419 32.4621 682.965 Q32.4621 688.663 36.0905 691.814 Q39.6872 694.965 46.212 694.965 Q52.7369 694.965 56.3653 691.814 Q59.9619 688.663 59.9619 682.965 Q59.9619 680.419 59.2935 677.937 Q58.5933 675.422 57.2247 672.939 L62.6355 672.939 Q63.7814 675.39 64.3543 678.032 Q64.9272 680.642 64.9272 683.602 Q64.9272 691.655 59.8664 696.397 Q54.8057 701.14 46.212 701.14 Q37.491 701.14 32.4939 696.365 Q27.4968 691.559 27.4968 683.22 Q27.4968 680.515 28.0697 677.937 Q28.6108 675.358 29.7248 672.939 Z\" fill=\"#000000\" fill-rule=\"nonzero\" fill-opacity=\"1\" /><path clip-path=\"url(#clip650)\" d=\"M18.2347 656.962 L28.3562 656.962 L28.3562 644.899 L32.9077 644.899 L32.9077 656.962 L52.2594 656.962 Q56.6199 656.962 57.8613 655.784 Q59.1026 654.574 59.1026 650.914 L59.1026 644.899 L64.0042 644.899 L64.0042 650.914 Q64.0042 657.694 61.4897 660.272 Q58.9434 662.85 52.2594 662.85 L32.9077 662.85 L32.9077 667.147 L28.3562 667.147 L28.3562 662.85 L18.2347 662.85 L18.2347 656.962 Z\" fill=\"#000000\" fill-rule=\"nonzero\" fill-opacity=\"1\" /><polyline clip-path=\"url(#clip652)\" style=\"stroke:#009af9; stroke-linecap:round; stroke-linejoin:round; stroke-width:8; stroke-opacity:1; fill:none\" points=\"424.141,1383.76 473.415,1383.74 522.69,1383.76 571.965,1383.77 621.24,1383.84 670.515,1383.85 719.789,1383.89 769.064,1383.92 818.339,1383.98 867.614,1384.02 916.888,1384.11 966.163,1384.08 1015.44,1384.13 1064.71,1384.14 1113.99,1384.17 1163.26,1384.16 1212.54,1384.21 1261.81,1384.16 1311.09,1384.21 1360.36,1384.19 1409.64,1384.24 1458.91,1384.21 1508.19,1384.19 1557.46,1384.24 1606.74,1384.24 1656.01,1384.23 1705.29,1384.22 1754.56,1384.21 1803.83,1384.21 1853.11,1384.24 1951.66,1384.24 2050.21,1384.24 2247.31,1384.2 2296.58,1384.2 \"/>\n",
       "<polyline clip-path=\"url(#clip652)\" style=\"stroke:#e26f46; stroke-linecap:round; stroke-linejoin:round; stroke-width:8; stroke-opacity:1; fill:none\" stroke-dasharray=\"32, 20\" points=\"424.141,690.763 473.415,510.803 522.69,659.503 571.965,667.606 621.24,278.86 670.515,750.494 719.789,926.86 769.064,620.718 818.339,782.108 867.614,705.796 916.888,766.254 966.163,569.452 1015.44,697.446 1064.71,660.506 1113.99,478.331 1163.26,370.155 1212.54,620.118 1261.81,736.589 1311.09,833.144 1360.36,593.489 1409.64,934.759 1458.91,748.903 1508.19,979.138 1557.46,752.647 1606.74,975.157 1656.01,774.651 1705.29,663.791 1754.56,604.729 1803.83,526.553 1853.11,983.296 1951.66,937.467 2050.21,1007.95 2247.31,86.1857 2296.58,715.79 \"/>\n",
       "<path clip-path=\"url(#clip650)\" d=\"M434.127 248.629 L1001.59 248.629 L1001.59 93.1086 L434.127 93.1086  Z\" fill=\"#ffffff\" fill-rule=\"evenodd\" fill-opacity=\"1\"/>\n",
       "<polyline clip-path=\"url(#clip650)\" style=\"stroke:#000000; stroke-linecap:round; stroke-linejoin:round; stroke-width:4; stroke-opacity:1; fill:none\" points=\"434.127,248.629 1001.59,248.629 1001.59,93.1086 434.127,93.1086 434.127,248.629 \"/>\n",
       "<polyline clip-path=\"url(#clip650)\" style=\"stroke:#009af9; stroke-linecap:round; stroke-linejoin:round; stroke-width:8; stroke-opacity:1; fill:none\" points=\"456.18,144.949 588.499,144.949 \"/>\n",
       "<path clip-path=\"url(#clip650)\" d=\"M626.386 132.275 L620.043 149.474 L632.752 149.474 L626.386 132.275 M623.747 127.669 L629.048 127.669 L642.219 162.229 L637.358 162.229 L634.21 153.363 L618.631 153.363 L615.483 162.229 L610.553 162.229 L623.747 127.669 Z\" fill=\"#000000\" fill-rule=\"nonzero\" fill-opacity=\"1\" /><path clip-path=\"url(#clip650)\" d=\"M664.904 137.298 L664.904 141.28 Q663.099 140.284 661.27 139.798 Q659.464 139.289 657.613 139.289 Q653.469 139.289 651.177 141.928 Q648.886 144.544 648.886 149.289 Q648.886 154.034 651.177 156.673 Q653.469 159.289 657.613 159.289 Q659.464 159.289 661.27 158.803 Q663.099 158.293 664.904 157.298 L664.904 161.233 Q663.122 162.067 661.2 162.483 Q659.302 162.9 657.15 162.9 Q651.293 162.9 647.844 159.219 Q644.395 155.539 644.395 149.289 Q644.395 142.946 647.867 139.312 Q651.363 135.678 657.427 135.678 Q659.395 135.678 661.27 136.095 Q663.145 136.488 664.904 137.298 Z\" fill=\"#000000\" fill-rule=\"nonzero\" fill-opacity=\"1\" /><path clip-path=\"url(#clip650)\" d=\"M676.524 128.942 L676.524 136.303 L685.298 136.303 L685.298 139.613 L676.524 139.613 L676.524 153.687 Q676.524 156.858 677.381 157.761 Q678.261 158.664 680.923 158.664 L685.298 158.664 L685.298 162.229 L680.923 162.229 Q675.992 162.229 674.117 160.4 Q672.242 158.548 672.242 153.687 L672.242 139.613 L669.117 139.613 L669.117 136.303 L672.242 136.303 L672.242 128.942 L676.524 128.942 Z\" fill=\"#000000\" fill-rule=\"nonzero\" fill-opacity=\"1\" /><path clip-path=\"url(#clip650)\" d=\"M690.46 151.997 L690.46 136.303 L694.719 136.303 L694.719 151.835 Q694.719 155.516 696.154 157.368 Q697.589 159.196 700.46 159.196 Q703.909 159.196 705.899 156.997 Q707.913 154.798 707.913 151.002 L707.913 136.303 L712.172 136.303 L712.172 162.229 L707.913 162.229 L707.913 158.247 Q706.362 160.608 704.302 161.766 Q702.265 162.9 699.557 162.9 Q695.089 162.9 692.774 160.122 Q690.46 157.344 690.46 151.997 M701.177 135.678 L701.177 135.678 Z\" fill=\"#000000\" fill-rule=\"nonzero\" fill-opacity=\"1\" /><path clip-path=\"url(#clip650)\" d=\"M732.728 149.196 Q727.566 149.196 725.575 150.377 Q723.584 151.557 723.584 154.405 Q723.584 156.673 725.066 158.016 Q726.57 159.335 729.14 159.335 Q732.682 159.335 734.811 156.835 Q736.964 154.312 736.964 150.145 L736.964 149.196 L732.728 149.196 M741.223 147.437 L741.223 162.229 L736.964 162.229 L736.964 158.293 Q735.506 160.655 733.33 161.789 Q731.154 162.9 728.006 162.9 Q724.024 162.9 721.663 160.678 Q719.325 158.432 719.325 154.682 Q719.325 150.307 722.242 148.085 Q725.182 145.863 730.992 145.863 L736.964 145.863 L736.964 145.446 Q736.964 142.507 735.02 140.909 Q733.098 139.289 729.603 139.289 Q727.381 139.289 725.274 139.821 Q723.168 140.354 721.223 141.419 L721.223 137.483 Q723.561 136.581 725.76 136.141 Q727.959 135.678 730.043 135.678 Q735.668 135.678 738.445 138.594 Q741.223 141.511 741.223 147.437 Z\" fill=\"#000000\" fill-rule=\"nonzero\" fill-opacity=\"1\" /><path clip-path=\"url(#clip650)\" d=\"M749.996 126.21 L754.256 126.21 L754.256 162.229 L749.996 162.229 L749.996 126.21 Z\" fill=\"#000000\" fill-rule=\"nonzero\" fill-opacity=\"1\" /><path clip-path=\"url(#clip650)\" d=\"M778.422 127.669 L800.274 127.669 L800.274 131.604 L783.098 131.604 L783.098 141.835 L799.556 141.835 L799.556 145.77 L783.098 145.77 L783.098 158.293 L800.69 158.293 L800.69 162.229 L778.422 162.229 L778.422 127.669 Z\" fill=\"#000000\" fill-rule=\"nonzero\" fill-opacity=\"1\" /><path clip-path=\"url(#clip650)\" d=\"M821.315 126.21 L821.315 129.752 L817.241 129.752 Q814.95 129.752 814.047 130.678 Q813.167 131.604 813.167 134.011 L813.167 136.303 L820.181 136.303 L820.181 139.613 L813.167 139.613 L813.167 162.229 L808.885 162.229 L808.885 139.613 L804.811 139.613 L804.811 136.303 L808.885 136.303 L808.885 134.497 Q808.885 130.169 810.899 128.201 Q812.913 126.21 817.288 126.21 L821.315 126.21 Z\" fill=\"#000000\" fill-rule=\"nonzero\" fill-opacity=\"1\" /><path clip-path=\"url(#clip650)\" d=\"M838.005 126.21 L838.005 129.752 L833.931 129.752 Q831.639 129.752 830.737 130.678 Q829.857 131.604 829.857 134.011 L829.857 136.303 L836.871 136.303 L836.871 139.613 L829.857 139.613 L829.857 162.229 L825.575 162.229 L825.575 139.613 L821.501 139.613 L821.501 136.303 L825.575 136.303 L825.575 134.497 Q825.575 130.169 827.588 128.201 Q829.602 126.21 833.977 126.21 L838.005 126.21 Z\" fill=\"#000000\" fill-rule=\"nonzero\" fill-opacity=\"1\" /><path clip-path=\"url(#clip650)\" d=\"M863.746 148.201 L863.746 150.284 L844.162 150.284 Q844.44 154.682 846.801 156.997 Q849.186 159.289 853.422 159.289 Q855.875 159.289 858.167 158.687 Q860.482 158.085 862.75 156.881 L862.75 160.909 Q860.459 161.881 858.051 162.391 Q855.644 162.9 853.167 162.9 Q846.963 162.9 843.329 159.289 Q839.718 155.678 839.718 149.52 Q839.718 143.155 843.144 139.428 Q846.593 135.678 852.426 135.678 Q857.658 135.678 860.69 139.057 Q863.746 142.414 863.746 148.201 M859.486 146.951 Q859.44 143.456 857.519 141.372 Q855.621 139.289 852.473 139.289 Q848.908 139.289 846.755 141.303 Q844.625 143.317 844.301 146.974 L859.486 146.951 Z\" fill=\"#000000\" fill-rule=\"nonzero\" fill-opacity=\"1\" /><path clip-path=\"url(#clip650)\" d=\"M889.394 137.298 L889.394 141.28 Q887.588 140.284 885.759 139.798 Q883.954 139.289 882.102 139.289 Q877.959 139.289 875.667 141.928 Q873.375 144.544 873.375 149.289 Q873.375 154.034 875.667 156.673 Q877.959 159.289 882.102 159.289 Q883.954 159.289 885.759 158.803 Q887.588 158.293 889.394 157.298 L889.394 161.233 Q887.611 162.067 885.69 162.483 Q883.792 162.9 881.639 162.9 Q875.783 162.9 872.334 159.219 Q868.885 155.539 868.885 149.289 Q868.885 142.946 872.357 139.312 Q875.852 135.678 881.917 135.678 Q883.884 135.678 885.759 136.095 Q887.634 136.488 889.394 137.298 Z\" fill=\"#000000\" fill-rule=\"nonzero\" fill-opacity=\"1\" /><path clip-path=\"url(#clip650)\" d=\"M901.014 128.942 L901.014 136.303 L909.787 136.303 L909.787 139.613 L901.014 139.613 L901.014 153.687 Q901.014 156.858 901.87 157.761 Q902.75 158.664 905.412 158.664 L909.787 158.664 L909.787 162.229 L905.412 162.229 Q900.482 162.229 898.607 160.4 Q896.732 158.548 896.732 153.687 L896.732 139.613 L893.607 139.613 L893.607 136.303 L896.732 136.303 L896.732 128.942 L901.014 128.942 Z\" fill=\"#000000\" fill-rule=\"nonzero\" fill-opacity=\"1\" /><polyline clip-path=\"url(#clip650)\" style=\"stroke:#e26f46; stroke-linecap:round; stroke-linejoin:round; stroke-width:8; stroke-opacity:1; fill:none\" stroke-dasharray=\"32, 20\" points=\"456.18,196.789 588.499,196.789 \"/>\n",
       "<path clip-path=\"url(#clip650)\" d=\"M615.228 183.351 L615.228 196.337 L621.108 196.337 Q624.372 196.337 626.154 194.647 Q627.937 192.958 627.937 189.833 Q627.937 186.731 626.154 185.041 Q624.372 183.351 621.108 183.351 L615.228 183.351 M610.553 179.509 L621.108 179.509 Q626.918 179.509 629.881 182.147 Q632.867 184.763 632.867 189.833 Q632.867 194.948 629.881 197.564 Q626.918 200.18 621.108 200.18 L615.228 200.18 L615.228 214.069 L610.553 214.069 L610.553 179.509 Z\" fill=\"#000000\" fill-rule=\"nonzero\" fill-opacity=\"1\" /><path clip-path=\"url(#clip650)\" d=\"M653.145 192.124 Q652.427 191.708 651.571 191.522 Q650.738 191.314 649.719 191.314 Q646.108 191.314 644.164 193.675 Q642.242 196.013 642.242 200.411 L642.242 214.069 L637.96 214.069 L637.96 188.143 L642.242 188.143 L642.242 192.171 Q643.585 189.809 645.738 188.675 Q647.89 187.518 650.969 187.518 Q651.409 187.518 651.941 187.587 Q652.474 187.634 653.122 187.749 L653.145 192.124 Z\" fill=\"#000000\" fill-rule=\"nonzero\" fill-opacity=\"1\" /><path clip-path=\"url(#clip650)\" d=\"M678.747 200.041 L678.747 202.124 L659.163 202.124 Q659.441 206.522 661.802 208.837 Q664.187 211.129 668.423 211.129 Q670.876 211.129 673.168 210.527 Q675.483 209.925 677.751 208.721 L677.751 212.749 Q675.46 213.721 673.052 214.231 Q670.645 214.74 668.168 214.74 Q661.964 214.74 658.33 211.129 Q654.719 207.518 654.719 201.36 Q654.719 194.995 658.145 191.268 Q661.594 187.518 667.427 187.518 Q672.659 187.518 675.691 190.897 Q678.747 194.254 678.747 200.041 M674.487 198.791 Q674.441 195.296 672.52 193.212 Q670.622 191.129 667.474 191.129 Q663.909 191.129 661.756 193.143 Q659.626 195.157 659.302 198.814 L674.487 198.791 Z\" fill=\"#000000\" fill-rule=\"nonzero\" fill-opacity=\"1\" /><path clip-path=\"url(#clip650)\" d=\"M702.797 192.078 L702.797 178.05 L707.057 178.05 L707.057 214.069 L702.797 214.069 L702.797 210.18 Q701.455 212.495 699.395 213.629 Q697.358 214.74 694.487 214.74 Q689.788 214.74 686.825 210.99 Q683.886 207.24 683.886 201.129 Q683.886 195.018 686.825 191.268 Q689.788 187.518 694.487 187.518 Q697.358 187.518 699.395 188.652 Q701.455 189.763 702.797 192.078 M688.284 201.129 Q688.284 205.828 690.205 208.513 Q692.149 211.175 695.529 211.175 Q698.909 211.175 700.853 208.513 Q702.797 205.828 702.797 201.129 Q702.797 196.43 700.853 193.768 Q698.909 191.083 695.529 191.083 Q692.149 191.083 690.205 193.768 Q688.284 196.43 688.284 201.129 Z\" fill=\"#000000\" fill-rule=\"nonzero\" fill-opacity=\"1\" /><path clip-path=\"url(#clip650)\" d=\"M715.83 188.143 L720.089 188.143 L720.089 214.069 L715.83 214.069 L715.83 188.143 M715.83 178.05 L720.089 178.05 L720.089 183.444 L715.83 183.444 L715.83 178.05 Z\" fill=\"#000000\" fill-rule=\"nonzero\" fill-opacity=\"1\" /><path clip-path=\"url(#clip650)\" d=\"M747.658 189.138 L747.658 193.12 Q745.853 192.124 744.024 191.638 Q742.219 191.129 740.367 191.129 Q736.223 191.129 733.932 193.768 Q731.64 196.384 731.64 201.129 Q731.64 205.874 733.932 208.513 Q736.223 211.129 740.367 211.129 Q742.219 211.129 744.024 210.643 Q745.853 210.133 747.658 209.138 L747.658 213.073 Q745.876 213.907 743.955 214.323 Q742.057 214.74 739.904 214.74 Q734.047 214.74 730.598 211.059 Q727.149 207.379 727.149 201.129 Q727.149 194.786 730.621 191.152 Q734.117 187.518 740.182 187.518 Q742.149 187.518 744.024 187.935 Q745.899 188.328 747.658 189.138 Z\" fill=\"#000000\" fill-rule=\"nonzero\" fill-opacity=\"1\" /><path clip-path=\"url(#clip650)\" d=\"M759.279 180.782 L759.279 188.143 L768.052 188.143 L768.052 191.453 L759.279 191.453 L759.279 205.527 Q759.279 208.698 760.135 209.601 Q761.015 210.504 763.677 210.504 L768.052 210.504 L768.052 214.069 L763.677 214.069 Q758.746 214.069 756.871 212.24 Q754.996 210.388 754.996 205.527 L754.996 191.453 L751.871 191.453 L751.871 188.143 L754.996 188.143 L754.996 180.782 L759.279 180.782 Z\" fill=\"#000000\" fill-rule=\"nonzero\" fill-opacity=\"1\" /><path clip-path=\"url(#clip650)\" d=\"M795.829 200.041 L795.829 202.124 L776.246 202.124 Q776.524 206.522 778.885 208.837 Q781.269 211.129 785.505 211.129 Q787.959 211.129 790.251 210.527 Q792.566 209.925 794.834 208.721 L794.834 212.749 Q792.542 213.721 790.135 214.231 Q787.728 214.74 785.251 214.74 Q779.047 214.74 775.413 211.129 Q771.802 207.518 771.802 201.36 Q771.802 194.995 775.228 191.268 Q778.677 187.518 784.51 187.518 Q789.741 187.518 792.774 190.897 Q795.829 194.254 795.829 200.041 M791.57 198.791 Q791.524 195.296 789.603 193.212 Q787.704 191.129 784.556 191.129 Q780.991 191.129 778.839 193.143 Q776.709 195.157 776.385 198.814 L791.57 198.791 Z\" fill=\"#000000\" fill-rule=\"nonzero\" fill-opacity=\"1\" /><path clip-path=\"url(#clip650)\" d=\"M819.88 192.078 L819.88 178.05 L824.139 178.05 L824.139 214.069 L819.88 214.069 L819.88 210.18 Q818.538 212.495 816.477 213.629 Q814.44 214.74 811.57 214.74 Q806.871 214.74 803.908 210.99 Q800.968 207.24 800.968 201.129 Q800.968 195.018 803.908 191.268 Q806.871 187.518 811.57 187.518 Q814.44 187.518 816.477 188.652 Q818.538 189.763 819.88 192.078 M805.366 201.129 Q805.366 205.828 807.288 208.513 Q809.232 211.175 812.612 211.175 Q815.991 211.175 817.936 208.513 Q819.88 205.828 819.88 201.129 Q819.88 196.43 817.936 193.768 Q815.991 191.083 812.612 191.083 Q809.232 191.083 807.288 193.768 Q805.366 196.43 805.366 201.129 Z\" fill=\"#000000\" fill-rule=\"nonzero\" fill-opacity=\"1\" /><path clip-path=\"url(#clip650)\" d=\"M848.167 179.509 L870.019 179.509 L870.019 183.444 L852.843 183.444 L852.843 193.675 L869.301 193.675 L869.301 197.61 L852.843 197.61 L852.843 210.133 L870.435 210.133 L870.435 214.069 L848.167 214.069 L848.167 179.509 Z\" fill=\"#000000\" fill-rule=\"nonzero\" fill-opacity=\"1\" /><path clip-path=\"url(#clip650)\" d=\"M891.06 178.05 L891.06 181.592 L886.986 181.592 Q884.695 181.592 883.792 182.518 Q882.912 183.444 882.912 185.851 L882.912 188.143 L889.926 188.143 L889.926 191.453 L882.912 191.453 L882.912 214.069 L878.63 214.069 L878.63 191.453 L874.556 191.453 L874.556 188.143 L878.63 188.143 L878.63 186.337 Q878.63 182.009 880.644 180.041 Q882.658 178.05 887.033 178.05 L891.06 178.05 Z\" fill=\"#000000\" fill-rule=\"nonzero\" fill-opacity=\"1\" /><path clip-path=\"url(#clip650)\" d=\"M907.75 178.05 L907.75 181.592 L903.676 181.592 Q901.384 181.592 900.482 182.518 Q899.602 183.444 899.602 185.851 L899.602 188.143 L906.616 188.143 L906.616 191.453 L899.602 191.453 L899.602 214.069 L895.32 214.069 L895.32 191.453 L891.246 191.453 L891.246 188.143 L895.32 188.143 L895.32 186.337 Q895.32 182.009 897.333 180.041 Q899.347 178.05 903.722 178.05 L907.75 178.05 Z\" fill=\"#000000\" fill-rule=\"nonzero\" fill-opacity=\"1\" /><path clip-path=\"url(#clip650)\" d=\"M933.491 200.041 L933.491 202.124 L913.907 202.124 Q914.185 206.522 916.546 208.837 Q918.931 211.129 923.167 211.129 Q925.62 211.129 927.912 210.527 Q930.227 209.925 932.495 208.721 L932.495 212.749 Q930.204 213.721 927.796 214.231 Q925.389 214.74 922.912 214.74 Q916.708 214.74 913.074 211.129 Q909.463 207.518 909.463 201.36 Q909.463 194.995 912.889 191.268 Q916.338 187.518 922.171 187.518 Q927.403 187.518 930.435 190.897 Q933.491 194.254 933.491 200.041 M929.231 198.791 Q929.185 195.296 927.264 193.212 Q925.366 191.129 922.218 191.129 Q918.653 191.129 916.5 193.143 Q914.37 195.157 914.046 198.814 L929.231 198.791 Z\" fill=\"#000000\" fill-rule=\"nonzero\" fill-opacity=\"1\" /><path clip-path=\"url(#clip650)\" d=\"M959.139 189.138 L959.139 193.12 Q957.333 192.124 955.504 191.638 Q953.699 191.129 951.847 191.129 Q947.704 191.129 945.412 193.768 Q943.12 196.384 943.12 201.129 Q943.12 205.874 945.412 208.513 Q947.704 211.129 951.847 211.129 Q953.699 211.129 955.504 210.643 Q957.333 210.133 959.139 209.138 L959.139 213.073 Q957.356 213.907 955.435 214.323 Q953.537 214.74 951.384 214.74 Q945.528 214.74 942.079 211.059 Q938.63 207.379 938.63 201.129 Q938.63 194.786 942.102 191.152 Q945.597 187.518 951.662 187.518 Q953.629 187.518 955.504 187.935 Q957.379 188.328 959.139 189.138 Z\" fill=\"#000000\" fill-rule=\"nonzero\" fill-opacity=\"1\" /><path clip-path=\"url(#clip650)\" d=\"M970.759 180.782 L970.759 188.143 L979.532 188.143 L979.532 191.453 L970.759 191.453 L970.759 205.527 Q970.759 208.698 971.615 209.601 Q972.495 210.504 975.157 210.504 L979.532 210.504 L979.532 214.069 L975.157 214.069 Q970.227 214.069 968.352 212.24 Q966.477 210.388 966.477 205.527 L966.477 191.453 L963.352 191.453 L963.352 188.143 L966.477 188.143 L966.477 180.782 L970.759 180.782 Z\" fill=\"#000000\" fill-rule=\"nonzero\" fill-opacity=\"1\" /></svg>\n"
      ],
      "text/html": [
       "<?xml version=\"1.0\" encoding=\"utf-8\"?>\n",
       "<svg xmlns=\"http://www.w3.org/2000/svg\" xmlns:xlink=\"http://www.w3.org/1999/xlink\" width=\"600\" height=\"400\" viewBox=\"0 0 2400 1600\">\n",
       "<defs>\n",
       "  <clipPath id=\"clip700\">\n",
       "    <rect x=\"0\" y=\"0\" width=\"2400\" height=\"1600\"/>\n",
       "  </clipPath>\n",
       "</defs>\n",
       "<path clip-path=\"url(#clip700)\" d=\"M0 1600 L2400 1600 L2400 0 L0 0  Z\" fill=\"#ffffff\" fill-rule=\"evenodd\" fill-opacity=\"1\"/>\n",
       "<defs>\n",
       "  <clipPath id=\"clip701\">\n",
       "    <rect x=\"480\" y=\"0\" width=\"1681\" height=\"1600\"/>\n",
       "  </clipPath>\n",
       "</defs>\n",
       "<path clip-path=\"url(#clip700)\" d=\"M367.967 1423.18 L2352.76 1423.18 L2352.76 47.2441 L367.967 47.2441  Z\" fill=\"#ffffff\" fill-rule=\"evenodd\" fill-opacity=\"1\"/>\n",
       "<defs>\n",
       "  <clipPath id=\"clip702\">\n",
       "    <rect x=\"367\" y=\"47\" width=\"1986\" height=\"1377\"/>\n",
       "  </clipPath>\n",
       "</defs>\n",
       "<polyline clip-path=\"url(#clip702)\" style=\"stroke:#000000; stroke-linecap:round; stroke-linejoin:round; stroke-width:2; stroke-opacity:0.1; fill:none\" points=\"571.965,1423.18 571.965,47.2441 \"/>\n",
       "<polyline clip-path=\"url(#clip702)\" style=\"stroke:#000000; stroke-linecap:round; stroke-linejoin:round; stroke-width:2; stroke-opacity:0.1; fill:none\" points=\"1064.71,1423.18 1064.71,47.2441 \"/>\n",
       "<polyline clip-path=\"url(#clip702)\" style=\"stroke:#000000; stroke-linecap:round; stroke-linejoin:round; stroke-width:2; stroke-opacity:0.1; fill:none\" points=\"1557.46,1423.18 1557.46,47.2441 \"/>\n",
       "<polyline clip-path=\"url(#clip702)\" style=\"stroke:#000000; stroke-linecap:round; stroke-linejoin:round; stroke-width:2; stroke-opacity:0.1; fill:none\" points=\"2050.21,1423.18 2050.21,47.2441 \"/>\n",
       "<polyline clip-path=\"url(#clip702)\" style=\"stroke:#000000; stroke-linecap:round; stroke-linejoin:round; stroke-width:2; stroke-opacity:0.1; fill:none\" points=\"367.967,1384.24 2352.76,1384.24 \"/>\n",
       "<polyline clip-path=\"url(#clip702)\" style=\"stroke:#000000; stroke-linecap:round; stroke-linejoin:round; stroke-width:2; stroke-opacity:0.1; fill:none\" points=\"367.967,987.505 2352.76,987.505 \"/>\n",
       "<polyline clip-path=\"url(#clip702)\" style=\"stroke:#000000; stroke-linecap:round; stroke-linejoin:round; stroke-width:2; stroke-opacity:0.1; fill:none\" points=\"367.967,590.772 2352.76,590.772 \"/>\n",
       "<polyline clip-path=\"url(#clip702)\" style=\"stroke:#000000; stroke-linecap:round; stroke-linejoin:round; stroke-width:2; stroke-opacity:0.1; fill:none\" points=\"367.967,194.039 2352.76,194.039 \"/>\n",
       "<polyline clip-path=\"url(#clip700)\" style=\"stroke:#000000; stroke-linecap:round; stroke-linejoin:round; stroke-width:4; stroke-opacity:1; fill:none\" points=\"367.967,1423.18 2352.76,1423.18 \"/>\n",
       "<polyline clip-path=\"url(#clip700)\" style=\"stroke:#000000; stroke-linecap:round; stroke-linejoin:round; stroke-width:4; stroke-opacity:1; fill:none\" points=\"571.965,1423.18 571.965,1404.28 \"/>\n",
       "<polyline clip-path=\"url(#clip700)\" style=\"stroke:#000000; stroke-linecap:round; stroke-linejoin:round; stroke-width:4; stroke-opacity:1; fill:none\" points=\"1064.71,1423.18 1064.71,1404.28 \"/>\n",
       "<polyline clip-path=\"url(#clip700)\" style=\"stroke:#000000; stroke-linecap:round; stroke-linejoin:round; stroke-width:4; stroke-opacity:1; fill:none\" points=\"1557.46,1423.18 1557.46,1404.28 \"/>\n",
       "<polyline clip-path=\"url(#clip700)\" style=\"stroke:#000000; stroke-linecap:round; stroke-linejoin:round; stroke-width:4; stroke-opacity:1; fill:none\" points=\"2050.21,1423.18 2050.21,1404.28 \"/>\n",
       "<path clip-path=\"url(#clip700)\" d=\"M550.738 1481.64 L567.058 1481.64 L567.058 1485.58 L545.113 1485.58 L545.113 1481.64 Q547.775 1478.89 552.359 1474.26 Q556.965 1469.61 558.146 1468.27 Q560.391 1465.74 561.271 1464.01 Q562.173 1462.25 562.173 1460.56 Q562.173 1457.8 560.229 1456.07 Q558.308 1454.33 555.206 1454.33 Q553.007 1454.33 550.553 1455.09 Q548.122 1455.86 545.345 1457.41 L545.345 1452.69 Q548.169 1451.55 550.622 1450.97 Q553.076 1450.39 555.113 1450.39 Q560.484 1450.39 563.678 1453.08 Q566.872 1455.77 566.872 1460.26 Q566.872 1462.39 566.062 1464.31 Q565.275 1466.2 563.169 1468.8 Q562.59 1469.47 559.488 1472.69 Q556.386 1475.88 550.738 1481.64 Z\" fill=\"#000000\" fill-rule=\"nonzero\" fill-opacity=\"1\" /><path clip-path=\"url(#clip700)\" d=\"M586.872 1454.1 Q583.261 1454.1 581.433 1457.66 Q579.627 1461.2 579.627 1468.33 Q579.627 1475.44 581.433 1479.01 Q583.261 1482.55 586.872 1482.55 Q590.507 1482.55 592.312 1479.01 Q594.141 1475.44 594.141 1468.33 Q594.141 1461.2 592.312 1457.66 Q590.507 1454.1 586.872 1454.1 M586.872 1450.39 Q592.682 1450.39 595.738 1455 Q598.817 1459.58 598.817 1468.33 Q598.817 1477.06 595.738 1481.67 Q592.682 1486.25 586.872 1486.25 Q581.062 1486.25 577.983 1481.67 Q574.928 1477.06 574.928 1468.33 Q574.928 1459.58 577.983 1455 Q581.062 1450.39 586.872 1450.39 Z\" fill=\"#000000\" fill-rule=\"nonzero\" fill-opacity=\"1\" /><path clip-path=\"url(#clip700)\" d=\"M1053.56 1466.95 Q1056.91 1467.66 1058.79 1469.93 Q1060.69 1472.2 1060.69 1475.53 Q1060.69 1480.65 1057.17 1483.45 Q1053.65 1486.25 1047.17 1486.25 Q1044.99 1486.25 1042.68 1485.81 Q1040.38 1485.39 1037.93 1484.54 L1037.93 1480.02 Q1039.88 1481.16 1042.19 1481.74 Q1044.5 1482.32 1047.03 1482.32 Q1051.43 1482.32 1053.72 1480.58 Q1056.03 1478.84 1056.03 1475.53 Q1056.03 1472.48 1053.88 1470.77 Q1051.75 1469.03 1047.93 1469.03 L1043.9 1469.03 L1043.9 1465.19 L1048.12 1465.19 Q1051.56 1465.19 1053.39 1463.82 Q1055.22 1462.43 1055.22 1459.84 Q1055.22 1457.18 1053.32 1455.77 Q1051.45 1454.33 1047.93 1454.33 Q1046.01 1454.33 1043.81 1454.75 Q1041.61 1455.16 1038.97 1456.04 L1038.97 1451.88 Q1041.63 1451.14 1043.95 1450.77 Q1046.29 1450.39 1048.35 1450.39 Q1053.67 1450.39 1056.77 1452.83 Q1059.87 1455.23 1059.87 1459.35 Q1059.87 1462.22 1058.23 1464.21 Q1056.59 1466.18 1053.56 1466.95 Z\" fill=\"#000000\" fill-rule=\"nonzero\" fill-opacity=\"1\" /><path clip-path=\"url(#clip700)\" d=\"M1079.55 1454.1 Q1075.94 1454.1 1074.11 1457.66 Q1072.31 1461.2 1072.31 1468.33 Q1072.31 1475.44 1074.11 1479.01 Q1075.94 1482.55 1079.55 1482.55 Q1083.18 1482.55 1084.99 1479.01 Q1086.82 1475.44 1086.82 1468.33 Q1086.82 1461.2 1084.99 1457.66 Q1083.18 1454.1 1079.55 1454.1 M1079.55 1450.39 Q1085.36 1450.39 1088.42 1455 Q1091.5 1459.58 1091.5 1468.33 Q1091.5 1477.06 1088.42 1481.67 Q1085.36 1486.25 1079.55 1486.25 Q1073.74 1486.25 1070.66 1481.67 Q1067.61 1477.06 1067.61 1468.33 Q1067.61 1459.58 1070.66 1455 Q1073.74 1450.39 1079.55 1450.39 Z\" fill=\"#000000\" fill-rule=\"nonzero\" fill-opacity=\"1\" /><path clip-path=\"url(#clip700)\" d=\"M1545.63 1455.09 L1533.83 1473.54 L1545.63 1473.54 L1545.63 1455.09 M1544.41 1451.02 L1550.28 1451.02 L1550.28 1473.54 L1555.22 1473.54 L1555.22 1477.43 L1550.28 1477.43 L1550.28 1485.58 L1545.63 1485.58 L1545.63 1477.43 L1530.03 1477.43 L1530.03 1472.92 L1544.41 1451.02 Z\" fill=\"#000000\" fill-rule=\"nonzero\" fill-opacity=\"1\" /><path clip-path=\"url(#clip700)\" d=\"M1572.95 1454.1 Q1569.34 1454.1 1567.51 1457.66 Q1565.7 1461.2 1565.7 1468.33 Q1565.7 1475.44 1567.51 1479.01 Q1569.34 1482.55 1572.95 1482.55 Q1576.58 1482.55 1578.39 1479.01 Q1580.22 1475.44 1580.22 1468.33 Q1580.22 1461.2 1578.39 1457.66 Q1576.58 1454.1 1572.95 1454.1 M1572.95 1450.39 Q1578.76 1450.39 1581.81 1455 Q1584.89 1459.58 1584.89 1468.33 Q1584.89 1477.06 1581.81 1481.67 Q1578.76 1486.25 1572.95 1486.25 Q1567.14 1486.25 1564.06 1481.67 Q1561 1477.06 1561 1468.33 Q1561 1459.58 1564.06 1455 Q1567.14 1450.39 1572.95 1450.39 Z\" fill=\"#000000\" fill-rule=\"nonzero\" fill-opacity=\"1\" /><path clip-path=\"url(#clip700)\" d=\"M2024.91 1451.02 L2043.26 1451.02 L2043.26 1454.96 L2029.19 1454.96 L2029.19 1463.43 Q2030.21 1463.08 2031.23 1462.92 Q2032.25 1462.73 2033.26 1462.73 Q2039.05 1462.73 2042.43 1465.9 Q2045.81 1469.08 2045.81 1474.49 Q2045.81 1480.07 2042.34 1483.17 Q2038.87 1486.25 2032.55 1486.25 Q2030.37 1486.25 2028.1 1485.88 Q2025.86 1485.51 2023.45 1484.77 L2023.45 1480.07 Q2025.53 1481.2 2027.76 1481.76 Q2029.98 1482.32 2032.45 1482.32 Q2036.46 1482.32 2038.8 1480.21 Q2041.13 1478.1 2041.13 1474.49 Q2041.13 1470.88 2038.8 1468.77 Q2036.46 1466.67 2032.45 1466.67 Q2030.58 1466.67 2028.7 1467.08 Q2026.85 1467.5 2024.91 1468.38 L2024.91 1451.02 Z\" fill=\"#000000\" fill-rule=\"nonzero\" fill-opacity=\"1\" /><path clip-path=\"url(#clip700)\" d=\"M2065.02 1454.1 Q2061.41 1454.1 2059.58 1457.66 Q2057.78 1461.2 2057.78 1468.33 Q2057.78 1475.44 2059.58 1479.01 Q2061.41 1482.55 2065.02 1482.55 Q2068.66 1482.55 2070.46 1479.01 Q2072.29 1475.44 2072.29 1468.33 Q2072.29 1461.2 2070.46 1457.66 Q2068.66 1454.1 2065.02 1454.1 M2065.02 1450.39 Q2070.83 1450.39 2073.89 1455 Q2076.97 1459.58 2076.97 1468.33 Q2076.97 1477.06 2073.89 1481.67 Q2070.83 1486.25 2065.02 1486.25 Q2059.21 1486.25 2056.13 1481.67 Q2053.08 1477.06 2053.08 1468.33 Q2053.08 1459.58 2056.13 1455 Q2059.21 1450.39 2065.02 1450.39 Z\" fill=\"#000000\" fill-rule=\"nonzero\" fill-opacity=\"1\" /><path clip-path=\"url(#clip700)\" d=\"M1242.21 1550.12 Q1235.12 1550.12 1232.38 1551.75 Q1229.64 1553.37 1229.64 1557.29 Q1229.64 1560.4 1231.68 1562.25 Q1233.75 1564.07 1237.28 1564.07 Q1242.15 1564.07 1245.08 1560.63 Q1248.04 1557.16 1248.04 1551.43 L1248.04 1550.12 L1242.21 1550.12 M1253.9 1547.71 L1253.9 1568.04 L1248.04 1568.04 L1248.04 1562.63 Q1246.03 1565.88 1243.04 1567.44 Q1240.05 1568.97 1235.72 1568.97 Q1230.25 1568.97 1227 1565.91 Q1223.79 1562.82 1223.79 1557.67 Q1223.79 1551.65 1227.8 1548.6 Q1231.84 1545.54 1239.83 1545.54 L1248.04 1545.54 L1248.04 1544.97 Q1248.04 1540.93 1245.37 1538.73 Q1242.72 1536.5 1237.92 1536.5 Q1234.86 1536.5 1231.97 1537.23 Q1229.07 1537.97 1226.4 1539.43 L1226.4 1534.02 Q1229.61 1532.78 1232.63 1532.17 Q1235.66 1531.54 1238.52 1531.54 Q1246.26 1531.54 1250.08 1535.55 Q1253.9 1539.56 1253.9 1547.71 Z\" fill=\"#000000\" fill-rule=\"nonzero\" fill-opacity=\"1\" /><path clip-path=\"url(#clip700)\" d=\"M1289.42 1549.81 Q1289.42 1543.44 1286.77 1539.94 Q1284.16 1536.44 1279.42 1536.44 Q1274.71 1536.44 1272.07 1539.94 Q1269.46 1543.44 1269.46 1549.81 Q1269.46 1556.14 1272.07 1559.64 Q1274.71 1563.14 1279.42 1563.14 Q1284.16 1563.14 1286.77 1559.64 Q1289.42 1556.14 1289.42 1549.81 M1295.27 1563.62 Q1295.27 1572.72 1291.23 1577.15 Q1287.19 1581.6 1278.85 1581.6 Q1275.76 1581.6 1273.02 1581.13 Q1270.29 1580.68 1267.71 1579.72 L1267.71 1574.03 Q1270.29 1575.43 1272.8 1576.1 Q1275.32 1576.76 1277.93 1576.76 Q1283.69 1576.76 1286.55 1573.74 Q1289.42 1570.75 1289.42 1564.67 L1289.42 1561.77 Q1287.6 1564.92 1284.77 1566.48 Q1281.94 1568.04 1277.99 1568.04 Q1271.43 1568.04 1267.42 1563.05 Q1263.41 1558.05 1263.41 1549.81 Q1263.41 1541.53 1267.42 1536.53 Q1271.43 1531.54 1277.99 1531.54 Q1281.94 1531.54 1284.77 1533.1 Q1287.6 1534.66 1289.42 1537.81 L1289.42 1532.4 L1295.27 1532.4 L1295.27 1563.62 Z\" fill=\"#000000\" fill-rule=\"nonzero\" fill-opacity=\"1\" /><path clip-path=\"url(#clip700)\" d=\"M1337.83 1548.76 L1337.83 1551.62 L1310.9 1551.62 Q1311.28 1557.67 1314.53 1560.85 Q1317.81 1564 1323.63 1564 Q1327.01 1564 1330.16 1563.17 Q1333.34 1562.35 1336.46 1560.69 L1336.46 1566.23 Q1333.31 1567.57 1330 1568.27 Q1326.69 1568.97 1323.28 1568.97 Q1314.75 1568.97 1309.75 1564 Q1304.79 1559.04 1304.79 1550.57 Q1304.79 1541.82 1309.5 1536.69 Q1314.24 1531.54 1322.26 1531.54 Q1329.46 1531.54 1333.63 1536.18 Q1337.83 1540.8 1337.83 1548.76 M1331.97 1547.04 Q1331.91 1542.23 1329.27 1539.37 Q1326.66 1536.5 1322.33 1536.5 Q1317.42 1536.5 1314.46 1539.27 Q1311.54 1542.04 1311.09 1547.07 L1331.97 1547.04 Z\" fill=\"#000000\" fill-rule=\"nonzero\" fill-opacity=\"1\" /><path clip-path=\"url(#clip700)\" d=\"M1374.84 1545.35 L1374.84 1562.76 L1385.16 1562.76 Q1390.34 1562.76 1392.83 1560.63 Q1395.34 1558.46 1395.34 1554.04 Q1395.34 1549.58 1392.83 1547.48 Q1390.34 1545.35 1385.16 1545.35 L1374.84 1545.35 M1374.84 1525.81 L1374.84 1540.13 L1384.36 1540.13 Q1389.07 1540.13 1391.36 1538.38 Q1393.69 1536.6 1393.69 1532.97 Q1393.69 1529.37 1391.36 1527.59 Q1389.07 1525.81 1384.36 1525.81 L1374.84 1525.81 M1368.41 1520.52 L1384.84 1520.52 Q1392.19 1520.52 1396.17 1523.58 Q1400.15 1526.63 1400.15 1532.27 Q1400.15 1536.63 1398.11 1539.21 Q1396.07 1541.79 1392.13 1542.42 Q1396.87 1543.44 1399.48 1546.69 Q1402.12 1549.9 1402.12 1554.74 Q1402.12 1561.11 1397.79 1564.57 Q1393.46 1568.04 1385.47 1568.04 L1368.41 1568.04 L1368.41 1520.52 Z\" fill=\"#000000\" fill-rule=\"nonzero\" fill-opacity=\"1\" /><path clip-path=\"url(#clip700)\" d=\"M1412.88 1532.4 L1418.74 1532.4 L1418.74 1568.04 L1412.88 1568.04 L1412.88 1532.4 M1412.88 1518.52 L1418.74 1518.52 L1418.74 1525.93 L1412.88 1525.93 L1412.88 1518.52 Z\" fill=\"#000000\" fill-rule=\"nonzero\" fill-opacity=\"1\" /><path clip-path=\"url(#clip700)\" d=\"M1460.62 1546.53 L1460.62 1568.04 L1454.77 1568.04 L1454.77 1546.72 Q1454.77 1541.66 1452.79 1539.14 Q1450.82 1536.63 1446.87 1536.63 Q1442.13 1536.63 1439.39 1539.65 Q1436.65 1542.68 1436.65 1547.9 L1436.65 1568.04 L1430.77 1568.04 L1430.77 1532.4 L1436.65 1532.4 L1436.65 1537.93 Q1438.76 1534.72 1441.59 1533.13 Q1444.45 1531.54 1448.18 1531.54 Q1454.32 1531.54 1457.47 1535.36 Q1460.62 1539.14 1460.62 1546.53 Z\" fill=\"#000000\" fill-rule=\"nonzero\" fill-opacity=\"1\" /><path clip-path=\"url(#clip700)\" d=\"M1495.03 1533.45 L1495.03 1538.98 Q1492.55 1537.71 1489.87 1537.07 Q1487.2 1536.44 1484.33 1536.44 Q1479.97 1536.44 1477.78 1537.77 Q1475.61 1539.11 1475.61 1541.79 Q1475.61 1543.82 1477.17 1545 Q1478.73 1546.15 1483.44 1547.2 L1485.45 1547.64 Q1491.69 1548.98 1494.3 1551.43 Q1496.94 1553.85 1496.94 1558.21 Q1496.94 1563.17 1492.99 1566.07 Q1489.08 1568.97 1482.2 1568.97 Q1479.34 1568.97 1476.22 1568.39 Q1473.13 1567.85 1469.69 1566.74 L1469.69 1560.69 Q1472.94 1562.38 1476.09 1563.24 Q1479.24 1564.07 1482.33 1564.07 Q1486.47 1564.07 1488.69 1562.66 Q1490.92 1561.23 1490.92 1558.65 Q1490.92 1556.27 1489.3 1554.99 Q1487.71 1553.72 1482.26 1552.54 L1480.23 1552.07 Q1474.79 1550.92 1472.37 1548.56 Q1469.95 1546.18 1469.95 1542.04 Q1469.95 1537.01 1473.51 1534.27 Q1477.08 1531.54 1483.63 1531.54 Q1486.88 1531.54 1489.74 1532.01 Q1492.61 1532.49 1495.03 1533.45 Z\" fill=\"#000000\" fill-rule=\"nonzero\" fill-opacity=\"1\" /><polyline clip-path=\"url(#clip700)\" style=\"stroke:#000000; stroke-linecap:round; stroke-linejoin:round; stroke-width:4; stroke-opacity:1; fill:none\" points=\"367.967,1423.18 367.967,47.2441 \"/>\n",
       "<polyline clip-path=\"url(#clip700)\" style=\"stroke:#000000; stroke-linecap:round; stroke-linejoin:round; stroke-width:4; stroke-opacity:1; fill:none\" points=\"367.967,1384.24 386.865,1384.24 \"/>\n",
       "<polyline clip-path=\"url(#clip700)\" style=\"stroke:#000000; stroke-linecap:round; stroke-linejoin:round; stroke-width:4; stroke-opacity:1; fill:none\" points=\"367.967,987.505 386.865,987.505 \"/>\n",
       "<polyline clip-path=\"url(#clip700)\" style=\"stroke:#000000; stroke-linecap:round; stroke-linejoin:round; stroke-width:4; stroke-opacity:1; fill:none\" points=\"367.967,590.772 386.865,590.772 \"/>\n",
       "<polyline clip-path=\"url(#clip700)\" style=\"stroke:#000000; stroke-linecap:round; stroke-linejoin:round; stroke-width:4; stroke-opacity:1; fill:none\" points=\"367.967,194.039 386.865,194.039 \"/>\n",
       "<path clip-path=\"url(#clip700)\" d=\"M320.023 1370.04 Q316.412 1370.04 314.583 1373.6 Q312.778 1377.14 312.778 1384.27 Q312.778 1391.38 314.583 1394.94 Q316.412 1398.49 320.023 1398.49 Q323.657 1398.49 325.463 1394.94 Q327.291 1391.38 327.291 1384.27 Q327.291 1377.14 325.463 1373.6 Q323.657 1370.04 320.023 1370.04 M320.023 1366.33 Q325.833 1366.33 328.889 1370.94 Q331.967 1375.52 331.967 1384.27 Q331.967 1393 328.889 1397.61 Q325.833 1402.19 320.023 1402.19 Q314.213 1402.19 311.134 1397.61 Q308.079 1393 308.079 1384.27 Q308.079 1375.52 311.134 1370.94 Q314.213 1366.33 320.023 1366.33 Z\" fill=\"#000000\" fill-rule=\"nonzero\" fill-opacity=\"1\" /><path clip-path=\"url(#clip700)\" d=\"M116.142 976.673 L134.499 976.673 L134.499 980.608 L120.425 980.608 L120.425 989.08 Q121.443 988.733 122.462 988.571 Q123.48 988.386 124.499 988.386 Q130.286 988.386 133.665 991.557 Q137.045 994.728 137.045 1000.14 Q137.045 1005.72 133.573 1008.83 Q130.101 1011.9 123.781 1011.9 Q121.605 1011.9 119.337 1011.53 Q117.091 1011.16 114.684 1010.42 L114.684 1005.72 Q116.767 1006.86 118.99 1007.41 Q121.212 1007.97 123.689 1007.97 Q127.693 1007.97 130.031 1005.86 Q132.369 1003.76 132.369 1000.14 Q132.369 996.534 130.031 994.427 Q127.693 992.321 123.689 992.321 Q121.814 992.321 119.939 992.738 Q118.087 993.154 116.142 994.034 L116.142 976.673 Z\" fill=\"#000000\" fill-rule=\"nonzero\" fill-opacity=\"1\" /><path clip-path=\"url(#clip700)\" d=\"M146.258 1005.35 L151.142 1005.35 L151.142 1011.23 L146.258 1011.23 L146.258 1005.35 Z\" fill=\"#000000\" fill-rule=\"nonzero\" fill-opacity=\"1\" /><path clip-path=\"url(#clip700)\" d=\"M171.327 979.752 Q167.716 979.752 165.887 983.316 Q164.082 986.858 164.082 993.988 Q164.082 1001.09 165.887 1004.66 Q167.716 1008.2 171.327 1008.2 Q174.962 1008.2 176.767 1004.66 Q178.596 1001.09 178.596 993.988 Q178.596 986.858 176.767 983.316 Q174.962 979.752 171.327 979.752 M171.327 976.048 Q177.137 976.048 180.193 980.654 Q183.272 985.238 183.272 993.988 Q183.272 1002.71 180.193 1007.32 Q177.137 1011.9 171.327 1011.9 Q165.517 1011.9 162.438 1007.32 Q159.383 1002.71 159.383 993.988 Q159.383 985.238 162.438 980.654 Q165.517 976.048 171.327 976.048 Z\" fill=\"#000000\" fill-rule=\"nonzero\" fill-opacity=\"1\" /><path clip-path=\"url(#clip700)\" d=\"M201.489 979.752 Q197.878 979.752 196.049 983.316 Q194.244 986.858 194.244 993.988 Q194.244 1001.09 196.049 1004.66 Q197.878 1008.2 201.489 1008.2 Q205.123 1008.2 206.929 1004.66 Q208.758 1001.09 208.758 993.988 Q208.758 986.858 206.929 983.316 Q205.123 979.752 201.489 979.752 M201.489 976.048 Q207.299 976.048 210.355 980.654 Q213.434 985.238 213.434 993.988 Q213.434 1002.71 210.355 1007.32 Q207.299 1011.9 201.489 1011.9 Q195.679 1011.9 192.6 1007.32 Q189.545 1002.71 189.545 993.988 Q189.545 985.238 192.6 980.654 Q195.679 976.048 201.489 976.048 Z\" fill=\"#000000\" fill-rule=\"nonzero\" fill-opacity=\"1\" /><path clip-path=\"url(#clip700)\" d=\"M249.822 985.77 L239.244 996.395 L249.822 1006.97 L247.068 1009.77 L236.443 999.15 L225.818 1009.77 L223.086 1006.97 L233.642 996.395 L223.086 985.77 L225.818 982.969 L236.443 993.594 L247.068 982.969 L249.822 985.77 Z\" fill=\"#000000\" fill-rule=\"nonzero\" fill-opacity=\"1\" /><path clip-path=\"url(#clip700)\" d=\"M262.183 1007.3 L269.822 1007.3 L269.822 980.932 L261.512 982.599 L261.512 978.339 L269.776 976.673 L274.452 976.673 L274.452 1007.3 L282.091 1007.3 L282.091 1011.23 L262.183 1011.23 L262.183 1007.3 Z\" fill=\"#000000\" fill-rule=\"nonzero\" fill-opacity=\"1\" /><path clip-path=\"url(#clip700)\" d=\"M301.535 979.752 Q297.924 979.752 296.095 983.316 Q294.29 986.858 294.29 993.988 Q294.29 1001.09 296.095 1004.66 Q297.924 1008.2 301.535 1008.2 Q305.169 1008.2 306.975 1004.66 Q308.803 1001.09 308.803 993.988 Q308.803 986.858 306.975 983.316 Q305.169 979.752 301.535 979.752 M301.535 976.048 Q307.345 976.048 310.401 980.654 Q313.479 985.238 313.479 993.988 Q313.479 1002.71 310.401 1007.32 Q307.345 1011.9 301.535 1011.9 Q295.725 1011.9 292.646 1007.32 Q289.591 1002.71 289.591 993.988 Q289.591 985.238 292.646 980.654 Q295.725 976.048 301.535 976.048 Z\" fill=\"#000000\" fill-rule=\"nonzero\" fill-opacity=\"1\" /><path clip-path=\"url(#clip700)\" d=\"M326.175 968.682 Q328.902 969.265 330.425 971.108 Q331.967 972.952 331.967 975.66 Q331.967 979.816 329.109 982.092 Q326.25 984.368 320.984 984.368 Q319.216 984.368 317.335 984.011 Q315.473 983.672 313.479 982.976 L313.479 979.309 Q315.059 980.23 316.94 980.7 Q318.821 981.171 320.871 981.171 Q324.444 981.171 326.306 979.76 Q328.187 978.349 328.187 975.66 Q328.187 973.177 326.438 971.785 Q324.708 970.375 321.604 970.375 L318.332 970.375 L318.332 967.253 L321.755 967.253 Q324.557 967.253 326.043 966.143 Q327.529 965.015 327.529 962.908 Q327.529 960.745 325.986 959.598 Q324.463 958.432 321.604 958.432 Q320.043 958.432 318.256 958.77 Q316.47 959.109 314.326 959.824 L314.326 956.438 Q316.489 955.836 318.369 955.536 Q320.269 955.235 321.943 955.235 Q326.269 955.235 328.789 957.209 Q331.309 959.165 331.309 962.513 Q331.309 964.845 329.974 966.463 Q328.638 968.062 326.175 968.682 Z\" fill=\"#000000\" fill-rule=\"nonzero\" fill-opacity=\"1\" /><path clip-path=\"url(#clip700)\" d=\"M114.931 610.565 L122.57 610.565 L122.57 584.199 L114.26 585.866 L114.26 581.606 L122.524 579.94 L127.2 579.94 L127.2 610.565 L134.839 610.565 L134.839 614.5 L114.931 614.5 L114.931 610.565 Z\" fill=\"#000000\" fill-rule=\"nonzero\" fill-opacity=\"1\" /><path clip-path=\"url(#clip700)\" d=\"M144.283 608.62 L149.167 608.62 L149.167 614.5 L144.283 614.5 L144.283 608.62 Z\" fill=\"#000000\" fill-rule=\"nonzero\" fill-opacity=\"1\" /><path clip-path=\"url(#clip700)\" d=\"M169.352 583.018 Q165.741 583.018 163.913 586.583 Q162.107 590.125 162.107 597.255 Q162.107 604.361 163.913 607.926 Q165.741 611.467 169.352 611.467 Q172.987 611.467 174.792 607.926 Q176.621 604.361 176.621 597.255 Q176.621 590.125 174.792 586.583 Q172.987 583.018 169.352 583.018 M169.352 579.315 Q175.163 579.315 178.218 583.921 Q181.297 588.505 181.297 597.255 Q181.297 605.981 178.218 610.588 Q175.163 615.171 169.352 615.171 Q163.542 615.171 160.464 610.588 Q157.408 605.981 157.408 597.255 Q157.408 588.505 160.464 583.921 Q163.542 579.315 169.352 579.315 Z\" fill=\"#000000\" fill-rule=\"nonzero\" fill-opacity=\"1\" /><path clip-path=\"url(#clip700)\" d=\"M199.514 583.018 Q195.903 583.018 194.075 586.583 Q192.269 590.125 192.269 597.255 Q192.269 604.361 194.075 607.926 Q195.903 611.467 199.514 611.467 Q203.149 611.467 204.954 607.926 Q206.783 604.361 206.783 597.255 Q206.783 590.125 204.954 586.583 Q203.149 583.018 199.514 583.018 M199.514 579.315 Q205.324 579.315 208.38 583.921 Q211.459 588.505 211.459 597.255 Q211.459 605.981 208.38 610.588 Q205.324 615.171 199.514 615.171 Q193.704 615.171 190.625 610.588 Q187.57 605.981 187.57 597.255 Q187.57 588.505 190.625 583.921 Q193.704 579.315 199.514 579.315 Z\" fill=\"#000000\" fill-rule=\"nonzero\" fill-opacity=\"1\" /><path clip-path=\"url(#clip700)\" d=\"M247.847 589.037 L237.269 599.662 L247.847 610.241 L245.093 613.041 L234.468 602.417 L223.843 613.041 L221.111 610.241 L231.667 599.662 L221.111 589.037 L223.843 586.236 L234.468 596.861 L245.093 586.236 L247.847 589.037 Z\" fill=\"#000000\" fill-rule=\"nonzero\" fill-opacity=\"1\" /><path clip-path=\"url(#clip700)\" d=\"M260.208 610.565 L267.847 610.565 L267.847 584.199 L259.537 585.866 L259.537 581.606 L267.801 579.94 L272.477 579.94 L272.477 610.565 L280.116 610.565 L280.116 614.5 L260.208 614.5 L260.208 610.565 Z\" fill=\"#000000\" fill-rule=\"nonzero\" fill-opacity=\"1\" /><path clip-path=\"url(#clip700)\" d=\"M299.56 583.018 Q295.949 583.018 294.12 586.583 Q292.315 590.125 292.315 597.255 Q292.315 604.361 294.12 607.926 Q295.949 611.467 299.56 611.467 Q303.194 611.467 305 607.926 Q306.829 604.361 306.829 597.255 Q306.829 590.125 305 586.583 Q303.194 583.018 299.56 583.018 M299.56 579.315 Q305.37 579.315 308.426 583.921 Q311.504 588.505 311.504 597.255 Q311.504 605.981 308.426 610.588 Q305.37 615.171 299.56 615.171 Q293.75 615.171 290.671 610.588 Q287.616 605.981 287.616 597.255 Q287.616 588.505 290.671 583.921 Q293.75 579.315 299.56 579.315 Z\" fill=\"#000000\" fill-rule=\"nonzero\" fill-opacity=\"1\" /><path clip-path=\"url(#clip700)\" d=\"M324.181 562.32 L314.589 577.309 L324.181 577.309 L324.181 562.32 M323.184 559.009 L327.961 559.009 L327.961 577.309 L331.967 577.309 L331.967 580.469 L327.961 580.469 L327.961 587.089 L324.181 587.089 L324.181 580.469 L311.504 580.469 L311.504 576.802 L323.184 559.009 Z\" fill=\"#000000\" fill-rule=\"nonzero\" fill-opacity=\"1\" /><path clip-path=\"url(#clip700)\" d=\"M114.931 213.832 L122.57 213.832 L122.57 187.466 L114.26 189.133 L114.26 184.873 L122.524 183.207 L127.2 183.207 L127.2 213.832 L134.839 213.832 L134.839 217.767 L114.931 217.767 L114.931 213.832 Z\" fill=\"#000000\" fill-rule=\"nonzero\" fill-opacity=\"1\" /><path clip-path=\"url(#clip700)\" d=\"M144.283 211.887 L149.167 211.887 L149.167 217.767 L144.283 217.767 L144.283 211.887 Z\" fill=\"#000000\" fill-rule=\"nonzero\" fill-opacity=\"1\" /><path clip-path=\"url(#clip700)\" d=\"M159.399 183.207 L177.755 183.207 L177.755 187.142 L163.681 187.142 L163.681 195.614 Q164.7 195.267 165.718 195.105 Q166.737 194.92 167.755 194.92 Q173.542 194.92 176.922 198.091 Q180.301 201.262 180.301 206.679 Q180.301 212.258 176.829 215.359 Q173.357 218.438 167.038 218.438 Q164.862 218.438 162.593 218.068 Q160.348 217.697 157.94 216.957 L157.94 212.258 Q160.024 213.392 162.246 213.947 Q164.468 214.503 166.945 214.503 Q170.95 214.503 173.288 212.396 Q175.626 210.29 175.626 206.679 Q175.626 203.068 173.288 200.961 Q170.95 198.855 166.945 198.855 Q165.07 198.855 163.195 199.272 Q161.343 199.688 159.399 200.568 L159.399 183.207 Z\" fill=\"#000000\" fill-rule=\"nonzero\" fill-opacity=\"1\" /><path clip-path=\"url(#clip700)\" d=\"M199.514 186.285 Q195.903 186.285 194.075 189.85 Q192.269 193.392 192.269 200.522 Q192.269 207.628 194.075 211.193 Q195.903 214.734 199.514 214.734 Q203.149 214.734 204.954 211.193 Q206.783 207.628 206.783 200.522 Q206.783 193.392 204.954 189.85 Q203.149 186.285 199.514 186.285 M199.514 182.582 Q205.324 182.582 208.38 187.188 Q211.459 191.772 211.459 200.522 Q211.459 209.248 208.38 213.855 Q205.324 218.438 199.514 218.438 Q193.704 218.438 190.625 213.855 Q187.57 209.248 187.57 200.522 Q187.57 191.772 190.625 187.188 Q193.704 182.582 199.514 182.582 Z\" fill=\"#000000\" fill-rule=\"nonzero\" fill-opacity=\"1\" /><path clip-path=\"url(#clip700)\" d=\"M247.847 192.304 L237.269 202.929 L247.847 213.508 L245.093 216.308 L234.468 205.684 L223.843 216.308 L221.111 213.508 L231.667 202.929 L221.111 192.304 L223.843 189.503 L234.468 200.128 L245.093 189.503 L247.847 192.304 Z\" fill=\"#000000\" fill-rule=\"nonzero\" fill-opacity=\"1\" /><path clip-path=\"url(#clip700)\" d=\"M260.208 213.832 L267.847 213.832 L267.847 187.466 L259.537 189.133 L259.537 184.873 L267.801 183.207 L272.477 183.207 L272.477 213.832 L280.116 213.832 L280.116 217.767 L260.208 217.767 L260.208 213.832 Z\" fill=\"#000000\" fill-rule=\"nonzero\" fill-opacity=\"1\" /><path clip-path=\"url(#clip700)\" d=\"M299.56 186.285 Q295.949 186.285 294.12 189.85 Q292.315 193.392 292.315 200.522 Q292.315 207.628 294.12 211.193 Q295.949 214.734 299.56 214.734 Q303.194 214.734 305 211.193 Q306.829 207.628 306.829 200.522 Q306.829 193.392 305 189.85 Q303.194 186.285 299.56 186.285 M299.56 182.582 Q305.37 182.582 308.426 187.188 Q311.504 191.772 311.504 200.522 Q311.504 209.248 308.426 213.855 Q305.37 218.438 299.56 218.438 Q293.75 218.438 290.671 213.855 Q287.616 209.248 287.616 200.522 Q287.616 191.772 290.671 187.188 Q293.75 182.582 299.56 182.582 Z\" fill=\"#000000\" fill-rule=\"nonzero\" fill-opacity=\"1\" /><path clip-path=\"url(#clip700)\" d=\"M324.181 165.587 L314.589 180.576 L324.181 180.576 L324.181 165.587 M323.184 162.276 L327.961 162.276 L327.961 180.576 L331.967 180.576 L331.967 183.736 L327.961 183.736 L327.961 190.356 L324.181 190.356 L324.181 183.736 L311.504 183.736 L311.504 180.069 L323.184 162.276 Z\" fill=\"#000000\" fill-rule=\"nonzero\" fill-opacity=\"1\" /><path clip-path=\"url(#clip700)\" d=\"M16.4842 825.525 L16.4842 795.479 L21.895 795.479 L21.895 819.096 L35.9632 819.096 L35.9632 796.466 L41.3741 796.466 L41.3741 819.096 L58.5933 819.096 L58.5933 794.906 L64.0042 794.906 L64.0042 825.525 L16.4842 825.525 Z\" fill=\"#000000\" fill-rule=\"nonzero\" fill-opacity=\"1\" /><path clip-path=\"url(#clip700)\" d=\"M14.479 766.547 L19.3487 766.547 L19.3487 772.149 Q19.3487 775.3 20.6219 776.541 Q21.895 777.751 25.2052 777.751 L28.3562 777.751 L28.3562 768.107 L32.9077 768.107 L32.9077 777.751 L64.0042 777.751 L64.0042 783.639 L32.9077 783.639 L32.9077 789.241 L28.3562 789.241 L28.3562 783.639 L25.8736 783.639 Q19.9216 783.639 17.2162 780.87 Q14.479 778.101 14.479 772.085 L14.479 766.547 Z\" fill=\"#000000\" fill-rule=\"nonzero\" fill-opacity=\"1\" /><path clip-path=\"url(#clip700)\" d=\"M14.479 743.599 L19.3487 743.599 L19.3487 749.201 Q19.3487 752.352 20.6219 753.593 Q21.895 754.802 25.2052 754.802 L28.3562 754.802 L28.3562 745.158 L32.9077 745.158 L32.9077 754.802 L64.0042 754.802 L64.0042 760.691 L32.9077 760.691 L32.9077 766.293 L28.3562 766.293 L28.3562 760.691 L25.8736 760.691 Q19.9216 760.691 17.2162 757.922 Q14.479 755.153 14.479 749.137 L14.479 743.599 Z\" fill=\"#000000\" fill-rule=\"nonzero\" fill-opacity=\"1\" /><path clip-path=\"url(#clip700)\" d=\"M44.7161 708.205 L47.5806 708.205 L47.5806 735.132 Q53.6281 734.75 56.8109 731.504 Q59.9619 728.226 59.9619 722.401 Q59.9619 719.027 59.1344 715.876 Q58.3069 712.693 56.6518 709.574 L62.1899 709.574 Q63.5267 712.725 64.227 716.035 Q64.9272 719.345 64.9272 722.751 Q64.9272 731.281 59.9619 736.278 Q54.9967 741.243 46.5303 741.243 Q37.7774 741.243 32.6531 736.533 Q27.4968 731.79 27.4968 723.77 Q27.4968 716.576 32.1438 712.407 Q36.7589 708.205 44.7161 708.205 M42.9973 714.062 Q38.1912 714.126 35.3266 716.767 Q32.4621 719.377 32.4621 723.706 Q32.4621 728.608 35.2312 731.568 Q38.0002 734.496 43.0292 734.941 L42.9973 714.062 Z\" fill=\"#000000\" fill-rule=\"nonzero\" fill-opacity=\"1\" /><path clip-path=\"url(#clip700)\" d=\"M29.7248 672.939 L35.1993 672.939 Q33.8307 675.422 33.1623 677.937 Q32.4621 680.419 32.4621 682.965 Q32.4621 688.663 36.0905 691.814 Q39.6872 694.965 46.212 694.965 Q52.7369 694.965 56.3653 691.814 Q59.9619 688.663 59.9619 682.965 Q59.9619 680.419 59.2935 677.937 Q58.5933 675.422 57.2247 672.939 L62.6355 672.939 Q63.7814 675.39 64.3543 678.032 Q64.9272 680.642 64.9272 683.602 Q64.9272 691.655 59.8664 696.397 Q54.8057 701.14 46.212 701.14 Q37.491 701.14 32.4939 696.365 Q27.4968 691.559 27.4968 683.22 Q27.4968 680.515 28.0697 677.937 Q28.6108 675.358 29.7248 672.939 Z\" fill=\"#000000\" fill-rule=\"nonzero\" fill-opacity=\"1\" /><path clip-path=\"url(#clip700)\" d=\"M18.2347 656.962 L28.3562 656.962 L28.3562 644.899 L32.9077 644.899 L32.9077 656.962 L52.2594 656.962 Q56.6199 656.962 57.8613 655.784 Q59.1026 654.574 59.1026 650.914 L59.1026 644.899 L64.0042 644.899 L64.0042 650.914 Q64.0042 657.694 61.4897 660.272 Q58.9434 662.85 52.2594 662.85 L32.9077 662.85 L32.9077 667.147 L28.3562 667.147 L28.3562 662.85 L18.2347 662.85 L18.2347 656.962 Z\" fill=\"#000000\" fill-rule=\"nonzero\" fill-opacity=\"1\" /><polyline clip-path=\"url(#clip702)\" style=\"stroke:#009af9; stroke-linecap:round; stroke-linejoin:round; stroke-width:8; stroke-opacity:1; fill:none\" points=\"424.141,1383.76 473.415,1383.74 522.69,1383.76 571.965,1383.77 621.24,1383.84 670.515,1383.85 719.789,1383.89 769.064,1383.92 818.339,1383.98 867.614,1384.02 916.888,1384.11 966.163,1384.08 1015.44,1384.13 1064.71,1384.14 1113.99,1384.17 1163.26,1384.16 1212.54,1384.21 1261.81,1384.16 1311.09,1384.21 1360.36,1384.19 1409.64,1384.24 1458.91,1384.21 1508.19,1384.19 1557.46,1384.24 1606.74,1384.24 1656.01,1384.23 1705.29,1384.22 1754.56,1384.21 1803.83,1384.21 1853.11,1384.24 1951.66,1384.24 2050.21,1384.24 2247.31,1384.2 2296.58,1384.2 \"/>\n",
       "<polyline clip-path=\"url(#clip702)\" style=\"stroke:#e26f46; stroke-linecap:round; stroke-linejoin:round; stroke-width:8; stroke-opacity:1; fill:none\" stroke-dasharray=\"32, 20\" points=\"424.141,690.763 473.415,510.803 522.69,659.503 571.965,667.606 621.24,278.86 670.515,750.494 719.789,926.86 769.064,620.718 818.339,782.108 867.614,705.796 916.888,766.254 966.163,569.452 1015.44,697.446 1064.71,660.506 1113.99,478.331 1163.26,370.155 1212.54,620.118 1261.81,736.589 1311.09,833.144 1360.36,593.489 1409.64,934.759 1458.91,748.903 1508.19,979.138 1557.46,752.647 1606.74,975.157 1656.01,774.651 1705.29,663.791 1754.56,604.729 1803.83,526.553 1853.11,983.296 1951.66,937.467 2050.21,1007.95 2247.31,86.1857 2296.58,715.79 \"/>\n",
       "<path clip-path=\"url(#clip700)\" d=\"M434.127 248.629 L1001.59 248.629 L1001.59 93.1086 L434.127 93.1086  Z\" fill=\"#ffffff\" fill-rule=\"evenodd\" fill-opacity=\"1\"/>\n",
       "<polyline clip-path=\"url(#clip700)\" style=\"stroke:#000000; stroke-linecap:round; stroke-linejoin:round; stroke-width:4; stroke-opacity:1; fill:none\" points=\"434.127,248.629 1001.59,248.629 1001.59,93.1086 434.127,93.1086 434.127,248.629 \"/>\n",
       "<polyline clip-path=\"url(#clip700)\" style=\"stroke:#009af9; stroke-linecap:round; stroke-linejoin:round; stroke-width:8; stroke-opacity:1; fill:none\" points=\"456.18,144.949 588.499,144.949 \"/>\n",
       "<path clip-path=\"url(#clip700)\" d=\"M626.386 132.275 L620.043 149.474 L632.752 149.474 L626.386 132.275 M623.747 127.669 L629.048 127.669 L642.219 162.229 L637.358 162.229 L634.21 153.363 L618.631 153.363 L615.483 162.229 L610.553 162.229 L623.747 127.669 Z\" fill=\"#000000\" fill-rule=\"nonzero\" fill-opacity=\"1\" /><path clip-path=\"url(#clip700)\" d=\"M664.904 137.298 L664.904 141.28 Q663.099 140.284 661.27 139.798 Q659.464 139.289 657.613 139.289 Q653.469 139.289 651.177 141.928 Q648.886 144.544 648.886 149.289 Q648.886 154.034 651.177 156.673 Q653.469 159.289 657.613 159.289 Q659.464 159.289 661.27 158.803 Q663.099 158.293 664.904 157.298 L664.904 161.233 Q663.122 162.067 661.2 162.483 Q659.302 162.9 657.15 162.9 Q651.293 162.9 647.844 159.219 Q644.395 155.539 644.395 149.289 Q644.395 142.946 647.867 139.312 Q651.363 135.678 657.427 135.678 Q659.395 135.678 661.27 136.095 Q663.145 136.488 664.904 137.298 Z\" fill=\"#000000\" fill-rule=\"nonzero\" fill-opacity=\"1\" /><path clip-path=\"url(#clip700)\" d=\"M676.524 128.942 L676.524 136.303 L685.298 136.303 L685.298 139.613 L676.524 139.613 L676.524 153.687 Q676.524 156.858 677.381 157.761 Q678.261 158.664 680.923 158.664 L685.298 158.664 L685.298 162.229 L680.923 162.229 Q675.992 162.229 674.117 160.4 Q672.242 158.548 672.242 153.687 L672.242 139.613 L669.117 139.613 L669.117 136.303 L672.242 136.303 L672.242 128.942 L676.524 128.942 Z\" fill=\"#000000\" fill-rule=\"nonzero\" fill-opacity=\"1\" /><path clip-path=\"url(#clip700)\" d=\"M690.46 151.997 L690.46 136.303 L694.719 136.303 L694.719 151.835 Q694.719 155.516 696.154 157.368 Q697.589 159.196 700.46 159.196 Q703.909 159.196 705.899 156.997 Q707.913 154.798 707.913 151.002 L707.913 136.303 L712.172 136.303 L712.172 162.229 L707.913 162.229 L707.913 158.247 Q706.362 160.608 704.302 161.766 Q702.265 162.9 699.557 162.9 Q695.089 162.9 692.774 160.122 Q690.46 157.344 690.46 151.997 M701.177 135.678 L701.177 135.678 Z\" fill=\"#000000\" fill-rule=\"nonzero\" fill-opacity=\"1\" /><path clip-path=\"url(#clip700)\" d=\"M732.728 149.196 Q727.566 149.196 725.575 150.377 Q723.584 151.557 723.584 154.405 Q723.584 156.673 725.066 158.016 Q726.57 159.335 729.14 159.335 Q732.682 159.335 734.811 156.835 Q736.964 154.312 736.964 150.145 L736.964 149.196 L732.728 149.196 M741.223 147.437 L741.223 162.229 L736.964 162.229 L736.964 158.293 Q735.506 160.655 733.33 161.789 Q731.154 162.9 728.006 162.9 Q724.024 162.9 721.663 160.678 Q719.325 158.432 719.325 154.682 Q719.325 150.307 722.242 148.085 Q725.182 145.863 730.992 145.863 L736.964 145.863 L736.964 145.446 Q736.964 142.507 735.02 140.909 Q733.098 139.289 729.603 139.289 Q727.381 139.289 725.274 139.821 Q723.168 140.354 721.223 141.419 L721.223 137.483 Q723.561 136.581 725.76 136.141 Q727.959 135.678 730.043 135.678 Q735.668 135.678 738.445 138.594 Q741.223 141.511 741.223 147.437 Z\" fill=\"#000000\" fill-rule=\"nonzero\" fill-opacity=\"1\" /><path clip-path=\"url(#clip700)\" d=\"M749.996 126.21 L754.256 126.21 L754.256 162.229 L749.996 162.229 L749.996 126.21 Z\" fill=\"#000000\" fill-rule=\"nonzero\" fill-opacity=\"1\" /><path clip-path=\"url(#clip700)\" d=\"M778.422 127.669 L800.274 127.669 L800.274 131.604 L783.098 131.604 L783.098 141.835 L799.556 141.835 L799.556 145.77 L783.098 145.77 L783.098 158.293 L800.69 158.293 L800.69 162.229 L778.422 162.229 L778.422 127.669 Z\" fill=\"#000000\" fill-rule=\"nonzero\" fill-opacity=\"1\" /><path clip-path=\"url(#clip700)\" d=\"M821.315 126.21 L821.315 129.752 L817.241 129.752 Q814.95 129.752 814.047 130.678 Q813.167 131.604 813.167 134.011 L813.167 136.303 L820.181 136.303 L820.181 139.613 L813.167 139.613 L813.167 162.229 L808.885 162.229 L808.885 139.613 L804.811 139.613 L804.811 136.303 L808.885 136.303 L808.885 134.497 Q808.885 130.169 810.899 128.201 Q812.913 126.21 817.288 126.21 L821.315 126.21 Z\" fill=\"#000000\" fill-rule=\"nonzero\" fill-opacity=\"1\" /><path clip-path=\"url(#clip700)\" d=\"M838.005 126.21 L838.005 129.752 L833.931 129.752 Q831.639 129.752 830.737 130.678 Q829.857 131.604 829.857 134.011 L829.857 136.303 L836.871 136.303 L836.871 139.613 L829.857 139.613 L829.857 162.229 L825.575 162.229 L825.575 139.613 L821.501 139.613 L821.501 136.303 L825.575 136.303 L825.575 134.497 Q825.575 130.169 827.588 128.201 Q829.602 126.21 833.977 126.21 L838.005 126.21 Z\" fill=\"#000000\" fill-rule=\"nonzero\" fill-opacity=\"1\" /><path clip-path=\"url(#clip700)\" d=\"M863.746 148.201 L863.746 150.284 L844.162 150.284 Q844.44 154.682 846.801 156.997 Q849.186 159.289 853.422 159.289 Q855.875 159.289 858.167 158.687 Q860.482 158.085 862.75 156.881 L862.75 160.909 Q860.459 161.881 858.051 162.391 Q855.644 162.9 853.167 162.9 Q846.963 162.9 843.329 159.289 Q839.718 155.678 839.718 149.52 Q839.718 143.155 843.144 139.428 Q846.593 135.678 852.426 135.678 Q857.658 135.678 860.69 139.057 Q863.746 142.414 863.746 148.201 M859.486 146.951 Q859.44 143.456 857.519 141.372 Q855.621 139.289 852.473 139.289 Q848.908 139.289 846.755 141.303 Q844.625 143.317 844.301 146.974 L859.486 146.951 Z\" fill=\"#000000\" fill-rule=\"nonzero\" fill-opacity=\"1\" /><path clip-path=\"url(#clip700)\" d=\"M889.394 137.298 L889.394 141.28 Q887.588 140.284 885.759 139.798 Q883.954 139.289 882.102 139.289 Q877.959 139.289 875.667 141.928 Q873.375 144.544 873.375 149.289 Q873.375 154.034 875.667 156.673 Q877.959 159.289 882.102 159.289 Q883.954 159.289 885.759 158.803 Q887.588 158.293 889.394 157.298 L889.394 161.233 Q887.611 162.067 885.69 162.483 Q883.792 162.9 881.639 162.9 Q875.783 162.9 872.334 159.219 Q868.885 155.539 868.885 149.289 Q868.885 142.946 872.357 139.312 Q875.852 135.678 881.917 135.678 Q883.884 135.678 885.759 136.095 Q887.634 136.488 889.394 137.298 Z\" fill=\"#000000\" fill-rule=\"nonzero\" fill-opacity=\"1\" /><path clip-path=\"url(#clip700)\" d=\"M901.014 128.942 L901.014 136.303 L909.787 136.303 L909.787 139.613 L901.014 139.613 L901.014 153.687 Q901.014 156.858 901.87 157.761 Q902.75 158.664 905.412 158.664 L909.787 158.664 L909.787 162.229 L905.412 162.229 Q900.482 162.229 898.607 160.4 Q896.732 158.548 896.732 153.687 L896.732 139.613 L893.607 139.613 L893.607 136.303 L896.732 136.303 L896.732 128.942 L901.014 128.942 Z\" fill=\"#000000\" fill-rule=\"nonzero\" fill-opacity=\"1\" /><polyline clip-path=\"url(#clip700)\" style=\"stroke:#e26f46; stroke-linecap:round; stroke-linejoin:round; stroke-width:8; stroke-opacity:1; fill:none\" stroke-dasharray=\"32, 20\" points=\"456.18,196.789 588.499,196.789 \"/>\n",
       "<path clip-path=\"url(#clip700)\" d=\"M615.228 183.351 L615.228 196.337 L621.108 196.337 Q624.372 196.337 626.154 194.647 Q627.937 192.958 627.937 189.833 Q627.937 186.731 626.154 185.041 Q624.372 183.351 621.108 183.351 L615.228 183.351 M610.553 179.509 L621.108 179.509 Q626.918 179.509 629.881 182.147 Q632.867 184.763 632.867 189.833 Q632.867 194.948 629.881 197.564 Q626.918 200.18 621.108 200.18 L615.228 200.18 L615.228 214.069 L610.553 214.069 L610.553 179.509 Z\" fill=\"#000000\" fill-rule=\"nonzero\" fill-opacity=\"1\" /><path clip-path=\"url(#clip700)\" d=\"M653.145 192.124 Q652.427 191.708 651.571 191.522 Q650.738 191.314 649.719 191.314 Q646.108 191.314 644.164 193.675 Q642.242 196.013 642.242 200.411 L642.242 214.069 L637.96 214.069 L637.96 188.143 L642.242 188.143 L642.242 192.171 Q643.585 189.809 645.738 188.675 Q647.89 187.518 650.969 187.518 Q651.409 187.518 651.941 187.587 Q652.474 187.634 653.122 187.749 L653.145 192.124 Z\" fill=\"#000000\" fill-rule=\"nonzero\" fill-opacity=\"1\" /><path clip-path=\"url(#clip700)\" d=\"M678.747 200.041 L678.747 202.124 L659.163 202.124 Q659.441 206.522 661.802 208.837 Q664.187 211.129 668.423 211.129 Q670.876 211.129 673.168 210.527 Q675.483 209.925 677.751 208.721 L677.751 212.749 Q675.46 213.721 673.052 214.231 Q670.645 214.74 668.168 214.74 Q661.964 214.74 658.33 211.129 Q654.719 207.518 654.719 201.36 Q654.719 194.995 658.145 191.268 Q661.594 187.518 667.427 187.518 Q672.659 187.518 675.691 190.897 Q678.747 194.254 678.747 200.041 M674.487 198.791 Q674.441 195.296 672.52 193.212 Q670.622 191.129 667.474 191.129 Q663.909 191.129 661.756 193.143 Q659.626 195.157 659.302 198.814 L674.487 198.791 Z\" fill=\"#000000\" fill-rule=\"nonzero\" fill-opacity=\"1\" /><path clip-path=\"url(#clip700)\" d=\"M702.797 192.078 L702.797 178.05 L707.057 178.05 L707.057 214.069 L702.797 214.069 L702.797 210.18 Q701.455 212.495 699.395 213.629 Q697.358 214.74 694.487 214.74 Q689.788 214.74 686.825 210.99 Q683.886 207.24 683.886 201.129 Q683.886 195.018 686.825 191.268 Q689.788 187.518 694.487 187.518 Q697.358 187.518 699.395 188.652 Q701.455 189.763 702.797 192.078 M688.284 201.129 Q688.284 205.828 690.205 208.513 Q692.149 211.175 695.529 211.175 Q698.909 211.175 700.853 208.513 Q702.797 205.828 702.797 201.129 Q702.797 196.43 700.853 193.768 Q698.909 191.083 695.529 191.083 Q692.149 191.083 690.205 193.768 Q688.284 196.43 688.284 201.129 Z\" fill=\"#000000\" fill-rule=\"nonzero\" fill-opacity=\"1\" /><path clip-path=\"url(#clip700)\" d=\"M715.83 188.143 L720.089 188.143 L720.089 214.069 L715.83 214.069 L715.83 188.143 M715.83 178.05 L720.089 178.05 L720.089 183.444 L715.83 183.444 L715.83 178.05 Z\" fill=\"#000000\" fill-rule=\"nonzero\" fill-opacity=\"1\" /><path clip-path=\"url(#clip700)\" d=\"M747.658 189.138 L747.658 193.12 Q745.853 192.124 744.024 191.638 Q742.219 191.129 740.367 191.129 Q736.223 191.129 733.932 193.768 Q731.64 196.384 731.64 201.129 Q731.64 205.874 733.932 208.513 Q736.223 211.129 740.367 211.129 Q742.219 211.129 744.024 210.643 Q745.853 210.133 747.658 209.138 L747.658 213.073 Q745.876 213.907 743.955 214.323 Q742.057 214.74 739.904 214.74 Q734.047 214.74 730.598 211.059 Q727.149 207.379 727.149 201.129 Q727.149 194.786 730.621 191.152 Q734.117 187.518 740.182 187.518 Q742.149 187.518 744.024 187.935 Q745.899 188.328 747.658 189.138 Z\" fill=\"#000000\" fill-rule=\"nonzero\" fill-opacity=\"1\" /><path clip-path=\"url(#clip700)\" d=\"M759.279 180.782 L759.279 188.143 L768.052 188.143 L768.052 191.453 L759.279 191.453 L759.279 205.527 Q759.279 208.698 760.135 209.601 Q761.015 210.504 763.677 210.504 L768.052 210.504 L768.052 214.069 L763.677 214.069 Q758.746 214.069 756.871 212.24 Q754.996 210.388 754.996 205.527 L754.996 191.453 L751.871 191.453 L751.871 188.143 L754.996 188.143 L754.996 180.782 L759.279 180.782 Z\" fill=\"#000000\" fill-rule=\"nonzero\" fill-opacity=\"1\" /><path clip-path=\"url(#clip700)\" d=\"M795.829 200.041 L795.829 202.124 L776.246 202.124 Q776.524 206.522 778.885 208.837 Q781.269 211.129 785.505 211.129 Q787.959 211.129 790.251 210.527 Q792.566 209.925 794.834 208.721 L794.834 212.749 Q792.542 213.721 790.135 214.231 Q787.728 214.74 785.251 214.74 Q779.047 214.74 775.413 211.129 Q771.802 207.518 771.802 201.36 Q771.802 194.995 775.228 191.268 Q778.677 187.518 784.51 187.518 Q789.741 187.518 792.774 190.897 Q795.829 194.254 795.829 200.041 M791.57 198.791 Q791.524 195.296 789.603 193.212 Q787.704 191.129 784.556 191.129 Q780.991 191.129 778.839 193.143 Q776.709 195.157 776.385 198.814 L791.57 198.791 Z\" fill=\"#000000\" fill-rule=\"nonzero\" fill-opacity=\"1\" /><path clip-path=\"url(#clip700)\" d=\"M819.88 192.078 L819.88 178.05 L824.139 178.05 L824.139 214.069 L819.88 214.069 L819.88 210.18 Q818.538 212.495 816.477 213.629 Q814.44 214.74 811.57 214.74 Q806.871 214.74 803.908 210.99 Q800.968 207.24 800.968 201.129 Q800.968 195.018 803.908 191.268 Q806.871 187.518 811.57 187.518 Q814.44 187.518 816.477 188.652 Q818.538 189.763 819.88 192.078 M805.366 201.129 Q805.366 205.828 807.288 208.513 Q809.232 211.175 812.612 211.175 Q815.991 211.175 817.936 208.513 Q819.88 205.828 819.88 201.129 Q819.88 196.43 817.936 193.768 Q815.991 191.083 812.612 191.083 Q809.232 191.083 807.288 193.768 Q805.366 196.43 805.366 201.129 Z\" fill=\"#000000\" fill-rule=\"nonzero\" fill-opacity=\"1\" /><path clip-path=\"url(#clip700)\" d=\"M848.167 179.509 L870.019 179.509 L870.019 183.444 L852.843 183.444 L852.843 193.675 L869.301 193.675 L869.301 197.61 L852.843 197.61 L852.843 210.133 L870.435 210.133 L870.435 214.069 L848.167 214.069 L848.167 179.509 Z\" fill=\"#000000\" fill-rule=\"nonzero\" fill-opacity=\"1\" /><path clip-path=\"url(#clip700)\" d=\"M891.06 178.05 L891.06 181.592 L886.986 181.592 Q884.695 181.592 883.792 182.518 Q882.912 183.444 882.912 185.851 L882.912 188.143 L889.926 188.143 L889.926 191.453 L882.912 191.453 L882.912 214.069 L878.63 214.069 L878.63 191.453 L874.556 191.453 L874.556 188.143 L878.63 188.143 L878.63 186.337 Q878.63 182.009 880.644 180.041 Q882.658 178.05 887.033 178.05 L891.06 178.05 Z\" fill=\"#000000\" fill-rule=\"nonzero\" fill-opacity=\"1\" /><path clip-path=\"url(#clip700)\" d=\"M907.75 178.05 L907.75 181.592 L903.676 181.592 Q901.384 181.592 900.482 182.518 Q899.602 183.444 899.602 185.851 L899.602 188.143 L906.616 188.143 L906.616 191.453 L899.602 191.453 L899.602 214.069 L895.32 214.069 L895.32 191.453 L891.246 191.453 L891.246 188.143 L895.32 188.143 L895.32 186.337 Q895.32 182.009 897.333 180.041 Q899.347 178.05 903.722 178.05 L907.75 178.05 Z\" fill=\"#000000\" fill-rule=\"nonzero\" fill-opacity=\"1\" /><path clip-path=\"url(#clip700)\" d=\"M933.491 200.041 L933.491 202.124 L913.907 202.124 Q914.185 206.522 916.546 208.837 Q918.931 211.129 923.167 211.129 Q925.62 211.129 927.912 210.527 Q930.227 209.925 932.495 208.721 L932.495 212.749 Q930.204 213.721 927.796 214.231 Q925.389 214.74 922.912 214.74 Q916.708 214.74 913.074 211.129 Q909.463 207.518 909.463 201.36 Q909.463 194.995 912.889 191.268 Q916.338 187.518 922.171 187.518 Q927.403 187.518 930.435 190.897 Q933.491 194.254 933.491 200.041 M929.231 198.791 Q929.185 195.296 927.264 193.212 Q925.366 191.129 922.218 191.129 Q918.653 191.129 916.5 193.143 Q914.37 195.157 914.046 198.814 L929.231 198.791 Z\" fill=\"#000000\" fill-rule=\"nonzero\" fill-opacity=\"1\" /><path clip-path=\"url(#clip700)\" d=\"M959.139 189.138 L959.139 193.12 Q957.333 192.124 955.504 191.638 Q953.699 191.129 951.847 191.129 Q947.704 191.129 945.412 193.768 Q943.12 196.384 943.12 201.129 Q943.12 205.874 945.412 208.513 Q947.704 211.129 951.847 211.129 Q953.699 211.129 955.504 210.643 Q957.333 210.133 959.139 209.138 L959.139 213.073 Q957.356 213.907 955.435 214.323 Q953.537 214.74 951.384 214.74 Q945.528 214.74 942.079 211.059 Q938.63 207.379 938.63 201.129 Q938.63 194.786 942.102 191.152 Q945.597 187.518 951.662 187.518 Q953.629 187.518 955.504 187.935 Q957.379 188.328 959.139 189.138 Z\" fill=\"#000000\" fill-rule=\"nonzero\" fill-opacity=\"1\" /><path clip-path=\"url(#clip700)\" d=\"M970.759 180.782 L970.759 188.143 L979.532 188.143 L979.532 191.453 L970.759 191.453 L970.759 205.527 Q970.759 208.698 971.615 209.601 Q972.495 210.504 975.157 210.504 L979.532 210.504 L979.532 214.069 L975.157 214.069 Q970.227 214.069 968.352 212.24 Q966.477 210.388 966.477 205.527 L966.477 191.453 L963.352 191.453 L963.352 188.143 L966.477 188.143 L966.477 180.782 L970.759 180.782 Z\" fill=\"#000000\" fill-rule=\"nonzero\" fill-opacity=\"1\" /></svg>\n"
      ]
     },
     "execution_count": 86,
     "metadata": {},
     "output_type": "execute_result"
    }
   ],
   "source": [
    "# using CategoricalArrays\n",
    "using StatsPlots\n",
    "\n",
    "predicted = MLJ.predict(forest_machine, X);\n",
    "df.predicted_effect = predicted\n",
    "predicted_effect_bins = combine(groupby(df, :age_bins), :predicted_effect => mean => :mean_predicted_effect);\n",
    "df.age_bins = floor.(df.age .* 2) ./ 2\n",
    "\n",
    "effect_bins = combine(groupby(df, :age_bins), :effect => mean => :mean_effect)\n",
    "sort!(effect_bins, :age_bins)\n",
    "\n",
    "df.predicted_effect =  predicted\n",
    "\n",
    "predicted_effect_bins = combine(groupby(df, :age_bins), :predicted_effect => mean => :mean_predicted_effect)\n",
    "sort!(predicted_effect_bins, :age_bins)\n",
    "\n",
    "plot(effect_bins.age_bins, effect_bins.mean_effect, label=\"Actual Effect\", xlabel=\"age Bins\", ylabel=\"Effect\", lw=2)\n",
    "plot!(predicted_effect_bins.age_bins, predicted_effect_bins.mean_predicted_effect, label=\"Predicted Effect\", lw=2, linestyle=:dash)"
   ]
  },
  {
   "cell_type": "markdown",
   "metadata": {},
   "source": [
    "# Part 2: Double/Debiased machine learning in observational data\n",
    "\n",
    "In this part, we will be using observational data for computing the average treatment effect of the same program as in Part 1. This data is constructed by taking the treatment group from the same dataset as in Part 1, but constructing the control group from a different dataset; that is, the entirety of the control is comprised of observations from the Current Population Survey. Therefor, we may not have comparable treatment and control groups. To tackle this issue, we can use Double/Debiased machine learning."
   ]
  },
  {
   "cell_type": "markdown",
   "metadata": {},
   "source": [
    "2.1. Load the data (1 points). You can find the data here, and read a description of the data here. For further details on how this data was created, you can use this link."
   ]
  },
  {
   "cell_type": "markdown",
   "metadata": {},
   "source": [
    "2.2. Group comparisons (1.5 points). For the treatment and control group separately, report summary statistics of three variables of your choice. Can you spot any big differences between the treatment and control groups?"
   ]
  },
  {
   "cell_type": "markdown",
   "metadata": {},
   "source": [
    "2.3. Compute the SMD (1.5 points). Find the simple difference of means, which we can use as a naive estimate of the ATE. How does the result in this case compare to the result in point 1.2.?"
   ]
  },
  {
   "cell_type": "markdown",
   "metadata": {},
   "source": [
    "2.4. Using DML (6 points). Use the DML procedure as we saw in the Lab, in order to find a better estimate of the ATE. You may use the doubleML packages for Python and R, but this package does not exist for Julia, so you will have to build your own procedure like we saw in class. You will be rewarded extra points for using more than one method for predictions. At the end, report the treatment effect you found, as well as the MSE for D and Y achieved by the method(s) you used."
   ]
  }
 ],
 "metadata": {
  "kernelspec": {
   "display_name": "Julia 1.11.1",
   "language": "julia",
   "name": "julia-1.11"
  },
  "language_info": {
   "file_extension": ".jl",
   "mimetype": "application/julia",
   "name": "julia",
   "version": "1.11.1"
  }
 },
 "nbformat": 4,
 "nbformat_minor": 2
}
