{
 "cells": [
  {
   "cell_type": "markdown",
   "metadata": {},
   "source": [
    "# Part 1: Heterogeneous treatment effects using causal trees and forests\n",
    "\n",
    "For this part, we will be using experimental data for computing heterogeneous effects through causal trees and forests. For all exercises, the predictors X are all variables that are not the outcome Y or the treatment D."
   ]
  },
  {
   "cell_type": "markdown",
   "metadata": {},
   "source": [
    "1.1. Load the data (1 points). This is data for and experiment regarding the National Supported Work Demonstration (NSW) job-training program. You can find the data here, and read a description of the data here. For further details of the experiment and the program, you can use this link"
   ]
  },
  {
   "cell_type": "code",
   "execution_count": 49,
   "metadata": {},
   "outputs": [
    {
     "data": {
      "text/html": [
       "<div><div style = \"float: left;\"><span>5×10 DataFrame</span></div><div style = \"clear: both;\"></div></div><div class = \"data-frame\" style = \"overflow-x: scroll;\"><table class = \"data-frame\" style = \"margin-bottom: 6px;\"><thead><tr class = \"header\"><th class = \"rowNumber\" style = \"font-weight: bold; text-align: right;\">Row</th><th style = \"text-align: left;\">treat</th><th style = \"text-align: left;\">age</th><th style = \"text-align: left;\">educ</th><th style = \"text-align: left;\">black</th><th style = \"text-align: left;\">hisp</th><th style = \"text-align: left;\">marr</th><th style = \"text-align: left;\">nodegree</th><th style = \"text-align: left;\">re74</th><th style = \"text-align: left;\">re75</th><th style = \"text-align: left;\">re78</th></tr><tr class = \"subheader headerLastRow\"><th class = \"rowNumber\" style = \"font-weight: bold; text-align: right;\"></th><th title = \"Int64\" style = \"text-align: left;\">Int64</th><th title = \"Int64\" style = \"text-align: left;\">Int64</th><th title = \"Int64\" style = \"text-align: left;\">Int64</th><th title = \"Int64\" style = \"text-align: left;\">Int64</th><th title = \"Int64\" style = \"text-align: left;\">Int64</th><th title = \"Int64\" style = \"text-align: left;\">Int64</th><th title = \"Int64\" style = \"text-align: left;\">Int64</th><th title = \"Float64\" style = \"text-align: left;\">Float64</th><th title = \"Float64\" style = \"text-align: left;\">Float64</th><th title = \"Float64\" style = \"text-align: left;\">Float64</th></tr></thead><tbody><tr><td class = \"rowNumber\" style = \"font-weight: bold; text-align: right;\">1</td><td style = \"text-align: right;\">1</td><td style = \"text-align: right;\">37</td><td style = \"text-align: right;\">11</td><td style = \"text-align: right;\">1</td><td style = \"text-align: right;\">0</td><td style = \"text-align: right;\">1</td><td style = \"text-align: right;\">1</td><td style = \"text-align: right;\">0.0</td><td style = \"text-align: right;\">0.0</td><td style = \"text-align: right;\">9930.05</td></tr><tr><td class = \"rowNumber\" style = \"font-weight: bold; text-align: right;\">2</td><td style = \"text-align: right;\">1</td><td style = \"text-align: right;\">22</td><td style = \"text-align: right;\">9</td><td style = \"text-align: right;\">0</td><td style = \"text-align: right;\">1</td><td style = \"text-align: right;\">0</td><td style = \"text-align: right;\">1</td><td style = \"text-align: right;\">0.0</td><td style = \"text-align: right;\">0.0</td><td style = \"text-align: right;\">3595.89</td></tr><tr><td class = \"rowNumber\" style = \"font-weight: bold; text-align: right;\">3</td><td style = \"text-align: right;\">1</td><td style = \"text-align: right;\">30</td><td style = \"text-align: right;\">12</td><td style = \"text-align: right;\">1</td><td style = \"text-align: right;\">0</td><td style = \"text-align: right;\">0</td><td style = \"text-align: right;\">0</td><td style = \"text-align: right;\">0.0</td><td style = \"text-align: right;\">0.0</td><td style = \"text-align: right;\">24909.4</td></tr><tr><td class = \"rowNumber\" style = \"font-weight: bold; text-align: right;\">4</td><td style = \"text-align: right;\">1</td><td style = \"text-align: right;\">27</td><td style = \"text-align: right;\">11</td><td style = \"text-align: right;\">1</td><td style = \"text-align: right;\">0</td><td style = \"text-align: right;\">0</td><td style = \"text-align: right;\">1</td><td style = \"text-align: right;\">0.0</td><td style = \"text-align: right;\">0.0</td><td style = \"text-align: right;\">7506.15</td></tr><tr><td class = \"rowNumber\" style = \"font-weight: bold; text-align: right;\">5</td><td style = \"text-align: right;\">1</td><td style = \"text-align: right;\">33</td><td style = \"text-align: right;\">8</td><td style = \"text-align: right;\">1</td><td style = \"text-align: right;\">0</td><td style = \"text-align: right;\">0</td><td style = \"text-align: right;\">1</td><td style = \"text-align: right;\">0.0</td><td style = \"text-align: right;\">0.0</td><td style = \"text-align: right;\">289.79</td></tr></tbody></table></div>"
      ],
      "text/latex": [
       "\\begin{tabular}{r|cccccccccc}\n",
       "\t& treat & age & educ & black & hisp & marr & nodegree & re74 & re75 & re78\\\\\n",
       "\t\\hline\n",
       "\t& Int64 & Int64 & Int64 & Int64 & Int64 & Int64 & Int64 & Float64 & Float64 & Float64\\\\\n",
       "\t\\hline\n",
       "\t1 & 1 & 37 & 11 & 1 & 0 & 1 & 1 & 0.0 & 0.0 & 9930.05 \\\\\n",
       "\t2 & 1 & 22 & 9 & 0 & 1 & 0 & 1 & 0.0 & 0.0 & 3595.89 \\\\\n",
       "\t3 & 1 & 30 & 12 & 1 & 0 & 0 & 0 & 0.0 & 0.0 & 24909.4 \\\\\n",
       "\t4 & 1 & 27 & 11 & 1 & 0 & 0 & 1 & 0.0 & 0.0 & 7506.15 \\\\\n",
       "\t5 & 1 & 33 & 8 & 1 & 0 & 0 & 1 & 0.0 & 0.0 & 289.79 \\\\\n",
       "\\end{tabular}\n"
      ],
      "text/plain": [
       "\u001b[1m5×10 DataFrame\u001b[0m\n",
       "\u001b[1m Row \u001b[0m│\u001b[1m treat \u001b[0m\u001b[1m age   \u001b[0m\u001b[1m educ  \u001b[0m\u001b[1m black \u001b[0m\u001b[1m hisp  \u001b[0m\u001b[1m marr  \u001b[0m\u001b[1m nodegree \u001b[0m\u001b[1m re74    \u001b[0m\u001b[1m re75    \u001b[0m\u001b[1m r\u001b[0m ⋯\n",
       "     │\u001b[90m Int64 \u001b[0m\u001b[90m Int64 \u001b[0m\u001b[90m Int64 \u001b[0m\u001b[90m Int64 \u001b[0m\u001b[90m Int64 \u001b[0m\u001b[90m Int64 \u001b[0m\u001b[90m Int64    \u001b[0m\u001b[90m Float64 \u001b[0m\u001b[90m Float64 \u001b[0m\u001b[90m F\u001b[0m ⋯\n",
       "─────┼──────────────────────────────────────────────────────────────────────────\n",
       "   1 │     1     37     11      1      0      1         1      0.0      0.0    ⋯\n",
       "   2 │     1     22      9      0      1      0         1      0.0      0.0\n",
       "   3 │     1     30     12      1      0      0         0      0.0      0.0  2\n",
       "   4 │     1     27     11      1      0      0         1      0.0      0.0\n",
       "   5 │     1     33      8      1      0      0         1      0.0      0.0    ⋯\n",
       "\u001b[36m                                                                1 column omitted\u001b[0m"
      ]
     },
     "execution_count": 49,
     "metadata": {},
     "output_type": "execute_result"
    }
   ],
   "source": [
    "using CSV\n",
    "using DataFrames  \n",
    "\n",
    "url = \"https://raw.githubusercontent.com/d2cml-ai/CausalAI-Course/main/Labs/Assignment/Assignment_5/data/experimental/experimental_control.csv\"\n",
    "df = CSV.read(download(url), DataFrame)\n",
    "\n",
    "first(df, 5)"
   ]
  },
  {
   "cell_type": "code",
   "execution_count": 50,
   "metadata": {},
   "outputs": [
    {
     "name": "stderr",
     "output_type": "stream",
     "text": [
      "\u001b[32m\u001b[1m   Resolving\u001b[22m\u001b[39m package versions...\n",
      "\u001b[32m\u001b[1m  No Changes\u001b[22m\u001b[39m to `C:\\Users\\KARL\\.julia\\environments\\v1.11\\Project.toml`\n",
      "\u001b[32m\u001b[1m  No Changes\u001b[22m\u001b[39m to `C:\\Users\\KARL\\.julia\\environments\\v1.11\\Manifest.toml`\n"
     ]
    }
   ],
   "source": [
    "using Pkg\n",
    "Pkg.add(\"ScientificTypes\")  \n",
    "using ScientificTypes  "
   ]
  },
  {
   "cell_type": "code",
   "execution_count": 51,
   "metadata": {},
   "outputs": [
    {
     "data": {
      "text/html": [
       "<div><div style = \"float: left;\"><span>10×3 DataFrame</span></div><div style = \"clear: both;\"></div></div><div class = \"data-frame\" style = \"overflow-x: scroll;\"><table class = \"data-frame\" style = \"margin-bottom: 6px;\"><thead><tr class = \"header\"><th class = \"rowNumber\" style = \"font-weight: bold; text-align: right;\">Row</th><th style = \"text-align: left;\">names</th><th style = \"text-align: left;\">scitypes</th><th style = \"text-align: left;\">types</th></tr><tr class = \"subheader headerLastRow\"><th class = \"rowNumber\" style = \"font-weight: bold; text-align: right;\"></th><th title = \"String\" style = \"text-align: left;\">String</th><th title = \"DataType\" style = \"text-align: left;\">DataType</th><th title = \"DataType\" style = \"text-align: left;\">DataType</th></tr></thead><tbody><tr><td class = \"rowNumber\" style = \"font-weight: bold; text-align: right;\">1</td><td style = \"text-align: left;\">treat</td><td style = \"text-align: left;\">AbstractVector{Count}</td><td style = \"text-align: left;\">Int64</td></tr><tr><td class = \"rowNumber\" style = \"font-weight: bold; text-align: right;\">2</td><td style = \"text-align: left;\">age</td><td style = \"text-align: left;\">AbstractVector{Count}</td><td style = \"text-align: left;\">Int64</td></tr><tr><td class = \"rowNumber\" style = \"font-weight: bold; text-align: right;\">3</td><td style = \"text-align: left;\">educ</td><td style = \"text-align: left;\">AbstractVector{Count}</td><td style = \"text-align: left;\">Int64</td></tr><tr><td class = \"rowNumber\" style = \"font-weight: bold; text-align: right;\">4</td><td style = \"text-align: left;\">black</td><td style = \"text-align: left;\">AbstractVector{Count}</td><td style = \"text-align: left;\">Int64</td></tr><tr><td class = \"rowNumber\" style = \"font-weight: bold; text-align: right;\">5</td><td style = \"text-align: left;\">hisp</td><td style = \"text-align: left;\">AbstractVector{Count}</td><td style = \"text-align: left;\">Int64</td></tr><tr><td class = \"rowNumber\" style = \"font-weight: bold; text-align: right;\">6</td><td style = \"text-align: left;\">marr</td><td style = \"text-align: left;\">AbstractVector{Count}</td><td style = \"text-align: left;\">Int64</td></tr><tr><td class = \"rowNumber\" style = \"font-weight: bold; text-align: right;\">7</td><td style = \"text-align: left;\">nodegree</td><td style = \"text-align: left;\">AbstractVector{Count}</td><td style = \"text-align: left;\">Int64</td></tr><tr><td class = \"rowNumber\" style = \"font-weight: bold; text-align: right;\">8</td><td style = \"text-align: left;\">re74</td><td style = \"text-align: left;\">AbstractVector{Continuous}</td><td style = \"text-align: left;\">Float64</td></tr><tr><td class = \"rowNumber\" style = \"font-weight: bold; text-align: right;\">9</td><td style = \"text-align: left;\">re75</td><td style = \"text-align: left;\">AbstractVector{Continuous}</td><td style = \"text-align: left;\">Float64</td></tr><tr><td class = \"rowNumber\" style = \"font-weight: bold; text-align: right;\">10</td><td style = \"text-align: left;\">re78</td><td style = \"text-align: left;\">AbstractVector{Continuous}</td><td style = \"text-align: left;\">Float64</td></tr></tbody></table></div>"
      ],
      "text/latex": [
       "\\begin{tabular}{r|ccc}\n",
       "\t& names & scitypes & types\\\\\n",
       "\t\\hline\n",
       "\t& String & DataType & DataType\\\\\n",
       "\t\\hline\n",
       "\t1 & treat & AbstractVector\\{Count\\} & Int64 \\\\\n",
       "\t2 & age & AbstractVector\\{Count\\} & Int64 \\\\\n",
       "\t3 & educ & AbstractVector\\{Count\\} & Int64 \\\\\n",
       "\t4 & black & AbstractVector\\{Count\\} & Int64 \\\\\n",
       "\t5 & hisp & AbstractVector\\{Count\\} & Int64 \\\\\n",
       "\t6 & marr & AbstractVector\\{Count\\} & Int64 \\\\\n",
       "\t7 & nodegree & AbstractVector\\{Count\\} & Int64 \\\\\n",
       "\t8 & re74 & AbstractVector\\{Continuous\\} & Float64 \\\\\n",
       "\t9 & re75 & AbstractVector\\{Continuous\\} & Float64 \\\\\n",
       "\t10 & re78 & AbstractVector\\{Continuous\\} & Float64 \\\\\n",
       "\\end{tabular}\n"
      ],
      "text/plain": [
       "\u001b[1m10×3 DataFrame\u001b[0m\n",
       "\u001b[1m Row \u001b[0m│\u001b[1m names    \u001b[0m\u001b[1m scitypes                   \u001b[0m\u001b[1m types    \u001b[0m\n",
       "     │\u001b[90m String   \u001b[0m\u001b[90m DataType                   \u001b[0m\u001b[90m DataType \u001b[0m\n",
       "─────┼────────────────────────────────────────────────\n",
       "   1 │ treat     AbstractVector{Count}       Int64\n",
       "   2 │ age       AbstractVector{Count}       Int64\n",
       "   3 │ educ      AbstractVector{Count}       Int64\n",
       "   4 │ black     AbstractVector{Count}       Int64\n",
       "   5 │ hisp      AbstractVector{Count}       Int64\n",
       "   6 │ marr      AbstractVector{Count}       Int64\n",
       "   7 │ nodegree  AbstractVector{Count}       Int64\n",
       "   8 │ re74      AbstractVector{Continuous}  Float64\n",
       "   9 │ re75      AbstractVector{Continuous}  Float64\n",
       "  10 │ re78      AbstractVector{Continuous}  Float64"
      ]
     },
     "execution_count": 51,
     "metadata": {},
     "output_type": "execute_result"
    }
   ],
   "source": [
    "\n",
    "summary_table = DataFrame(\n",
    "    names = names(df),\n",
    "    scitypes = scitype.(eachcol(df)),  \n",
    "    types = eltype.(eachcol(df))       \n",
    "\n",
    ")\n"
   ]
  },
  {
   "cell_type": "markdown",
   "metadata": {},
   "source": [
    "1.2. Find the ATE (1.5 points). With re78 as the outcome variable of interest, find the Average Treatment Effect of participation in the program. Specifically, you should find it by calculating the difference between the means of the treatment group and the control group (the Simple Difference of Means or SDM). What can you say about the program?"
   ]
  },
  {
   "cell_type": "code",
   "execution_count": 52,
   "metadata": {},
   "outputs": [
    {
     "name": "stdout",
     "output_type": "stream",
     "text": [
      "El Average Treatment Effect (ATE) es: 1794.3423818501024\n"
     ]
    }
   ],
   "source": [
    "# First method\n",
    "using Statistics \n",
    "\n",
    "mean_treat = mean(df[df.treat .== 1, :re78])\n",
    "mean_control = mean(df[df.treat .== 0, :re78])\n",
    "\n",
    "# Calcular el ATE\n",
    "ATE = mean_treat - mean_control\n",
    "\n",
    "println(\"El Average Treatment Effect (ATE) es: $ATE\")"
   ]
  },
  {
   "cell_type": "code",
   "execution_count": 53,
   "metadata": {},
   "outputs": [
    {
     "data": {
      "text/plain": [
       "StatsModels.TableRegressionModel{LinearModel{GLM.LmResp{Vector{Float64}}, GLM.DensePredChol{Float64, LinearAlgebra.CholeskyPivoted{Float64, Matrix{Float64}, Vector{Int64}}}}, Matrix{Float64}}\n",
       "\n",
       "re78 ~ 1 + treat\n",
       "\n",
       "Coefficients:\n",
       "───────────────────────────────────────────────────────────────────────\n",
       "               Coef.  Std. Error      t  Pr(>|t|)  Lower 95%  Upper 95%\n",
       "───────────────────────────────────────────────────────────────────────\n",
       "(Intercept)  4554.8      408.046  11.16    <1e-24   3752.85     5356.75\n",
       "treat        1794.34     632.853   2.84    0.0048    550.574    3038.11\n",
       "───────────────────────────────────────────────────────────────────────"
      ]
     },
     "execution_count": 53,
     "metadata": {},
     "output_type": "execute_result"
    }
   ],
   "source": [
    "# Second method\n",
    "using GLM\n",
    "\n",
    "model = lm(@formula(re78 ~ treat), df)"
   ]
  },
  {
   "cell_type": "markdown",
   "metadata": {},
   "source": [
    "The program had a positive impact on the participants' income, increasing their earnings by an average of 1794.34 monetary units compared to the control group. It can be concluded that the program is effective in improving participants' income."
   ]
  },
  {
   "cell_type": "markdown",
   "metadata": {},
   "source": [
    "1.3. Heterogeneous effects with causal trees (3 points). Use causal trees like we saw in class. For Python, you should use the econml package; for R, use the grf package; and for Julia, you will need to create the auxiliary variable \n",
    "Y∗ and fit a decision tree regressor. Report the splits the tree finds and interpret them."
   ]
  },
  {
   "cell_type": "markdown",
   "metadata": {},
   "source": [
    "Utiliza árboles causales como se explicó en clase. Para Python, deberías usar el paquete econml; para R, utiliza el paquete grf; y para Julia, necesitarás crear la variable auxiliar 𝑌∗Y ∗  y ajustar un árbol de decisión regresor. Reporta las divisiones que los árboles encuentran e interpreta los resultados."
   ]
  },
  {
   "cell_type": "code",
   "execution_count": 54,
   "metadata": {},
   "outputs": [
    {
     "name": "stderr",
     "output_type": "stream",
     "text": [
      "\u001b[32m\u001b[1m   Resolving\u001b[22m\u001b[39m package versions...\n",
      "\u001b[32m\u001b[1m  No Changes\u001b[22m\u001b[39m to `C:\\Users\\KARL\\.julia\\environments\\v1.11\\Project.toml`\n",
      "\u001b[32m\u001b[1m  No Changes\u001b[22m\u001b[39m to `C:\\Users\\KARL\\.julia\\environments\\v1.11\\Manifest.toml`\n",
      "\u001b[32m\u001b[1m   Resolving\u001b[22m\u001b[39m package versions...\n",
      "\u001b[32m\u001b[1m  No Changes\u001b[22m\u001b[39m to `C:\\Users\\KARL\\.julia\\environments\\v1.11\\Project.toml`\n",
      "\u001b[32m\u001b[1m  No Changes\u001b[22m\u001b[39m to `C:\\Users\\KARL\\.julia\\environments\\v1.11\\Manifest.toml`\n",
      "\u001b[32m\u001b[1m   Resolving\u001b[22m\u001b[39m package versions...\n",
      "\u001b[32m\u001b[1m  No Changes\u001b[22m\u001b[39m to `C:\\Users\\KARL\\.julia\\environments\\v1.11\\Project.toml`\n",
      "\u001b[32m\u001b[1m  No Changes\u001b[22m\u001b[39m to `C:\\Users\\KARL\\.julia\\environments\\v1.11\\Manifest.toml`\n",
      "\u001b[32m\u001b[1m   Resolving\u001b[22m\u001b[39m package versions...\n",
      "\u001b[32m\u001b[1m  No Changes\u001b[22m\u001b[39m to `C:\\Users\\KARL\\.julia\\environments\\v1.11\\Project.toml`\n",
      "\u001b[32m\u001b[1m  No Changes\u001b[22m\u001b[39m to `C:\\Users\\KARL\\.julia\\environments\\v1.11\\Manifest.toml`\n"
     ]
    }
   ],
   "source": [
    "using Pkg\n",
    "Pkg.add(\"MLJ\")\n",
    "Pkg.add(\"MLJModels\")\n",
    "Pkg.add(\"RDatasets\")\n",
    "Pkg.add(\"MLJScikitLearnInterface\")"
   ]
  },
  {
   "cell_type": "code",
   "execution_count": 56,
   "metadata": {},
   "outputs": [],
   "source": [
    "using MLJ, MLJModels, RDatasets\n",
    "\n",
    "coerce!(df, \n",
    "    :age => Continuous,  \n",
    "    :educ => Continuous,\n",
    ")\n",
    "\n",
    "coerce!(df, Count => Multiclass)\n",
    "\n",
    "y, X = unpack(df, ==(:re78), !=(:re78));\n",
    "coerce!(X, Count => Multiclass)\n",
    "\n",
    "D, X = unpack(X, ==(:treat), !=(:treat));"
   ]
  },
  {
   "cell_type": "code",
   "execution_count": 57,
   "metadata": {},
   "outputs": [
    {
     "name": "stderr",
     "output_type": "stream",
     "text": [
      "\u001b[36m\u001b[1m[ \u001b[22m\u001b[39m\u001b[36m\u001b[1mInfo: \u001b[22m\u001b[39mTraining machine(OneHotEncoder(features = [:black, :hisp, :marr, :nodegree], …), …).\n",
      "\u001b[36m\u001b[1m[ \u001b[22m\u001b[39m\u001b[36m\u001b[1mInfo: \u001b[22m\u001b[39mSpawning 2 sub-features to one-hot encode feature :black.\n",
      "\u001b[36m\u001b[1m[ \u001b[22m\u001b[39m\u001b[36m\u001b[1mInfo: \u001b[22m\u001b[39mSpawning 2 sub-features to one-hot encode feature :hisp.\n",
      "\u001b[36m\u001b[1m[ \u001b[22m\u001b[39m\u001b[36m\u001b[1mInfo: \u001b[22m\u001b[39mSpawning 2 sub-features to one-hot encode feature :marr.\n",
      "\u001b[36m\u001b[1m[ \u001b[22m\u001b[39m\u001b[36m\u001b[1mInfo: \u001b[22m\u001b[39mSpawning 2 sub-features to one-hot encode feature :nodegree.\n"
     ]
    }
   ],
   "source": [
    "onehotencoder = @load OneHotEncoder pkg=MLJModels verbosity=0\n",
    "\n",
    "ohe = onehotencoder(features = [:black,:hisp,:marr,:nodegree])\n",
    "ohe_machine = machine(ohe, X)\n",
    "fit!(ohe_machine);\n",
    "X = MLJ.transform(ohe_machine, X);"
   ]
  },
  {
   "cell_type": "code",
   "execution_count": 58,
   "metadata": {},
   "outputs": [
    {
     "data": {
      "text/html": [
       "<div><div style = \"float: left;\"><span>10×3 DataFrame</span></div><div style = \"clear: both;\"></div></div><div class = \"data-frame\" style = \"overflow-x: scroll;\"><table class = \"data-frame\" style = \"margin-bottom: 6px;\"><thead><tr class = \"header\"><th class = \"rowNumber\" style = \"font-weight: bold; text-align: right;\">Row</th><th style = \"text-align: left;\">names</th><th style = \"text-align: left;\">scitypes</th><th style = \"text-align: left;\">types</th></tr><tr class = \"subheader headerLastRow\"><th class = \"rowNumber\" style = \"font-weight: bold; text-align: right;\"></th><th title = \"String\" style = \"text-align: left;\">String</th><th title = \"DataType\" style = \"text-align: left;\">DataType</th><th title = \"DataType\" style = \"text-align: left;\">DataType</th></tr></thead><tbody><tr><td class = \"rowNumber\" style = \"font-weight: bold; text-align: right;\">1</td><td style = \"text-align: left;\">treat</td><td style = \"text-align: left;\">AbstractVector{Multiclass{2}}</td><td style = \"text-align: left;\">CategoricalValue{Int64, UInt32}</td></tr><tr><td class = \"rowNumber\" style = \"font-weight: bold; text-align: right;\">2</td><td style = \"text-align: left;\">age</td><td style = \"text-align: left;\">AbstractVector{Continuous}</td><td style = \"text-align: left;\">Float64</td></tr><tr><td class = \"rowNumber\" style = \"font-weight: bold; text-align: right;\">3</td><td style = \"text-align: left;\">educ</td><td style = \"text-align: left;\">AbstractVector{Continuous}</td><td style = \"text-align: left;\">Float64</td></tr><tr><td class = \"rowNumber\" style = \"font-weight: bold; text-align: right;\">4</td><td style = \"text-align: left;\">black</td><td style = \"text-align: left;\">AbstractVector{Multiclass{2}}</td><td style = \"text-align: left;\">CategoricalValue{Int64, UInt32}</td></tr><tr><td class = \"rowNumber\" style = \"font-weight: bold; text-align: right;\">5</td><td style = \"text-align: left;\">hisp</td><td style = \"text-align: left;\">AbstractVector{Multiclass{2}}</td><td style = \"text-align: left;\">CategoricalValue{Int64, UInt32}</td></tr><tr><td class = \"rowNumber\" style = \"font-weight: bold; text-align: right;\">6</td><td style = \"text-align: left;\">marr</td><td style = \"text-align: left;\">AbstractVector{Multiclass{2}}</td><td style = \"text-align: left;\">CategoricalValue{Int64, UInt32}</td></tr><tr><td class = \"rowNumber\" style = \"font-weight: bold; text-align: right;\">7</td><td style = \"text-align: left;\">nodegree</td><td style = \"text-align: left;\">AbstractVector{Multiclass{2}}</td><td style = \"text-align: left;\">CategoricalValue{Int64, UInt32}</td></tr><tr><td class = \"rowNumber\" style = \"font-weight: bold; text-align: right;\">8</td><td style = \"text-align: left;\">re74</td><td style = \"text-align: left;\">AbstractVector{Continuous}</td><td style = \"text-align: left;\">Float64</td></tr><tr><td class = \"rowNumber\" style = \"font-weight: bold; text-align: right;\">9</td><td style = \"text-align: left;\">re75</td><td style = \"text-align: left;\">AbstractVector{Continuous}</td><td style = \"text-align: left;\">Float64</td></tr><tr><td class = \"rowNumber\" style = \"font-weight: bold; text-align: right;\">10</td><td style = \"text-align: left;\">re78</td><td style = \"text-align: left;\">AbstractVector{Continuous}</td><td style = \"text-align: left;\">Float64</td></tr></tbody></table></div>"
      ],
      "text/latex": [
       "\\begin{tabular}{r|ccc}\n",
       "\t& names & scitypes & types\\\\\n",
       "\t\\hline\n",
       "\t& String & DataType & DataType\\\\\n",
       "\t\\hline\n",
       "\t1 & treat & AbstractVector\\{Multiclass\\{2\\}\\} & CategoricalValue\\{Int64, UInt32\\} \\\\\n",
       "\t2 & age & AbstractVector\\{Continuous\\} & Float64 \\\\\n",
       "\t3 & educ & AbstractVector\\{Continuous\\} & Float64 \\\\\n",
       "\t4 & black & AbstractVector\\{Multiclass\\{2\\}\\} & CategoricalValue\\{Int64, UInt32\\} \\\\\n",
       "\t5 & hisp & AbstractVector\\{Multiclass\\{2\\}\\} & CategoricalValue\\{Int64, UInt32\\} \\\\\n",
       "\t6 & marr & AbstractVector\\{Multiclass\\{2\\}\\} & CategoricalValue\\{Int64, UInt32\\} \\\\\n",
       "\t7 & nodegree & AbstractVector\\{Multiclass\\{2\\}\\} & CategoricalValue\\{Int64, UInt32\\} \\\\\n",
       "\t8 & re74 & AbstractVector\\{Continuous\\} & Float64 \\\\\n",
       "\t9 & re75 & AbstractVector\\{Continuous\\} & Float64 \\\\\n",
       "\t10 & re78 & AbstractVector\\{Continuous\\} & Float64 \\\\\n",
       "\\end{tabular}\n"
      ],
      "text/plain": [
       "\u001b[1m10×3 DataFrame\u001b[0m\n",
       "\u001b[1m Row \u001b[0m│\u001b[1m names    \u001b[0m\u001b[1m scitypes                      \u001b[0m\u001b[1m types                         \u001b[0m ⋯\n",
       "     │\u001b[90m String   \u001b[0m\u001b[90m DataType                      \u001b[0m\u001b[90m DataType                      \u001b[0m ⋯\n",
       "─────┼──────────────────────────────────────────────────────────────────────────\n",
       "   1 │ treat     AbstractVector{Multiclass{2}}  CategoricalValue{Int64, UInt32 ⋯\n",
       "   2 │ age       AbstractVector{Continuous}     Float64\n",
       "   3 │ educ      AbstractVector{Continuous}     Float64\n",
       "   4 │ black     AbstractVector{Multiclass{2}}  CategoricalValue{Int64, UInt32\n",
       "   5 │ hisp      AbstractVector{Multiclass{2}}  CategoricalValue{Int64, UInt32 ⋯\n",
       "   6 │ marr      AbstractVector{Multiclass{2}}  CategoricalValue{Int64, UInt32\n",
       "   7 │ nodegree  AbstractVector{Multiclass{2}}  CategoricalValue{Int64, UInt32\n",
       "   8 │ re74      AbstractVector{Continuous}     Float64\n",
       "   9 │ re75      AbstractVector{Continuous}     Float64                        ⋯\n",
       "  10 │ re78      AbstractVector{Continuous}     Float64\n",
       "\u001b[36m                                                                1 column omitted\u001b[0m"
      ]
     },
     "execution_count": 58,
     "metadata": {},
     "output_type": "execute_result"
    }
   ],
   "source": [
    "summary_table = DataFrame(\n",
    "    names = names(df),\n",
    "    scitypes = scitype.(eachcol(df)),  \n",
    "    types = eltype.(eachcol(df))       \n",
    "\n",
    ")\n"
   ]
  },
  {
   "cell_type": "code",
   "execution_count": 59,
   "metadata": {},
   "outputs": [
    {
     "name": "stderr",
     "output_type": "stream",
     "text": [
      "\u001b[36m\u001b[1m[ \u001b[22m\u001b[39m\u001b[36m\u001b[1mInfo: \u001b[22m\u001b[39mTraining machine(LogisticClassifier(penalty = l2, …), …).\n",
      "C:\\Users\\KARL\\.julia\\environments\\v1.11\\.CondaPkg\\env\\Lib\\site-packages\\sklearn\\linear_model\\_logistic.py:1247: FutureWarning: 'multi_class' was deprecated in version 1.5 and will be removed in 1.7. From then on, it will always use 'multinomial'. Leave it to its default value to avoid this warning.\n",
      "  warnings.warn(\n",
      "C:\\Users\\KARL\\.julia\\environments\\v1.11\\.CondaPkg\\env\\Lib\\site-packages\\sklearn\\linear_model\\_logistic.py:469: ConvergenceWarning: lbfgs failed to converge (status=1):\n",
      "STOP: TOTAL NO. of ITERATIONS REACHED LIMIT.\n",
      "\n",
      "Increase the number of iterations (max_iter) or scale the data as shown in:\n",
      "    https://scikit-learn.org/stable/modules/preprocessing.html\n",
      "Please also refer to the documentation for alternative solver options:\n",
      "    https://scikit-learn.org/stable/modules/linear_model.html#logistic-regression\n",
      "  n_iter_i = _check_optimize_result(\n"
     ]
    },
    {
     "data": {
      "text/plain": [
       "trained Machine; caches model-specific representations of data\n",
       "  model: LogisticClassifier(penalty = l2, …)\n",
       "  args: \n",
       "    1:\tSource @899 ⏎ Table{AbstractVector{Continuous}}\n",
       "    2:\tSource @403 ⏎ AbstractVector{Multiclass{2}}\n"
      ]
     },
     "execution_count": 59,
     "metadata": {},
     "output_type": "execute_result"
    }
   ],
   "source": [
    "LogisticClassifier = @load LogisticClassifier pkg=MLJScikitLearnInterface verbosity=0\n",
    "\n",
    "log_model = LogisticClassifier()\n",
    "\n",
    "log_model_machine = machine(log_model, X, D)\n",
    "\n",
    "fit!(log_model_machine)"
   ]
  },
  {
   "cell_type": "code",
   "execution_count": 61,
   "metadata": {},
   "outputs": [],
   "source": [
    "coerce!(df, :treat => Count)\n",
    "\n",
    "pscore = pdf.(MLJ.predict(log_model_machine, X),1)\n",
    "y_star = df.re78./ (df.treat .* pscore .- (1 .- df.treat) .* (1 .- pscore));"
   ]
  },
  {
   "cell_type": "code",
   "execution_count": 63,
   "metadata": {},
   "outputs": [
    {
     "name": "stderr",
     "output_type": "stream",
     "text": [
      "\u001b[32m\u001b[1m   Resolving\u001b[22m\u001b[39m package versions...\n",
      "\u001b[32m\u001b[1m   Installed\u001b[22m\u001b[39m ScikitLearnBase ────────── v0.5.0\n",
      "\u001b[32m\u001b[1m   Installed\u001b[22m\u001b[39m AbstractTrees ──────────── v0.4.5\n",
      "\u001b[32m\u001b[1m   Installed\u001b[22m\u001b[39m MLJDecisionTreeInterface ─ v0.4.2\n",
      "\u001b[32m\u001b[1m   Installed\u001b[22m\u001b[39m DecisionTree ───────────── v0.12.4\n",
      "\u001b[32m\u001b[1m    Updating\u001b[22m\u001b[39m `C:\\Users\\KARL\\.julia\\environments\\v1.11\\Project.toml`\n",
      "  \u001b[90m[c6f25543] \u001b[39m\u001b[92m+ MLJDecisionTreeInterface v0.4.2\u001b[39m\n",
      "\u001b[32m\u001b[1m    Updating\u001b[22m\u001b[39m `C:\\Users\\KARL\\.julia\\environments\\v1.11\\Manifest.toml`\n",
      "  \u001b[90m[1520ce14] \u001b[39m\u001b[92m+ AbstractTrees v0.4.5\u001b[39m\n",
      "  \u001b[90m[7806a523] \u001b[39m\u001b[92m+ DecisionTree v0.12.4\u001b[39m\n",
      "  \u001b[90m[c6f25543] \u001b[39m\u001b[92m+ MLJDecisionTreeInterface v0.4.2\u001b[39m\n",
      "  \u001b[90m[6e75b9c4] \u001b[39m\u001b[92m+ ScikitLearnBase v0.5.0\u001b[39m\n",
      "\u001b[92m\u001b[1mPrecompiling\u001b[22m\u001b[39m project...\n",
      "   3352.5 ms\u001b[32m  ✓ \u001b[39m\u001b[90mAbstractTrees\u001b[39m\n",
      "   2211.5 ms\u001b[32m  ✓ \u001b[39m\u001b[90mScikitLearnBase\u001b[39m\n",
      "   2068.8 ms\u001b[32m  ✓ \u001b[39m\u001b[90mDecisionTree\u001b[39m\n",
      "   2818.0 ms\u001b[32m  ✓ \u001b[39mMLJDecisionTreeInterface\n",
      "  4 dependencies successfully precompiled in 10 seconds. 401 already precompiled.\n"
     ]
    }
   ],
   "source": [
    "using Pkg\n",
    "Pkg.add(\"MLJDecisionTreeInterface\")"
   ]
  },
  {
   "cell_type": "code",
   "execution_count": 65,
   "metadata": {},
   "outputs": [
    {
     "data": {
      "text/html": [
       "<div><div style = \"float: left;\"><span>5×10 DataFrame</span></div><div style = \"clear: both;\"></div></div><div class = \"data-frame\" style = \"overflow-x: scroll;\"><table class = \"data-frame\" style = \"margin-bottom: 6px;\"><thead><tr class = \"header\"><th class = \"rowNumber\" style = \"font-weight: bold; text-align: right;\">Row</th><th style = \"text-align: left;\">treat</th><th style = \"text-align: left;\">age</th><th style = \"text-align: left;\">educ</th><th style = \"text-align: left;\">black</th><th style = \"text-align: left;\">hisp</th><th style = \"text-align: left;\">marr</th><th style = \"text-align: left;\">nodegree</th><th style = \"text-align: left;\">re74</th><th style = \"text-align: left;\">re75</th><th style = \"text-align: left;\">re78</th></tr><tr class = \"subheader headerLastRow\"><th class = \"rowNumber\" style = \"font-weight: bold; text-align: right;\"></th><th title = \"Int64\" style = \"text-align: left;\">Int64</th><th title = \"Float64\" style = \"text-align: left;\">Float64</th><th title = \"Float64\" style = \"text-align: left;\">Float64</th><th title = \"CategoricalArrays.CategoricalValue{Int64, UInt32}\" style = \"text-align: left;\">Cat…</th><th title = \"CategoricalArrays.CategoricalValue{Int64, UInt32}\" style = \"text-align: left;\">Cat…</th><th title = \"CategoricalArrays.CategoricalValue{Int64, UInt32}\" style = \"text-align: left;\">Cat…</th><th title = \"CategoricalArrays.CategoricalValue{Int64, UInt32}\" style = \"text-align: left;\">Cat…</th><th title = \"Float64\" style = \"text-align: left;\">Float64</th><th title = \"Float64\" style = \"text-align: left;\">Float64</th><th title = \"Float64\" style = \"text-align: left;\">Float64</th></tr></thead><tbody><tr><td class = \"rowNumber\" style = \"font-weight: bold; text-align: right;\">1</td><td style = \"text-align: right;\">2</td><td style = \"text-align: right;\">37.0</td><td style = \"text-align: right;\">11.0</td><td style = \"text-align: left;\">1</td><td style = \"text-align: left;\">0</td><td style = \"text-align: left;\">1</td><td style = \"text-align: left;\">1</td><td style = \"text-align: right;\">0.0</td><td style = \"text-align: right;\">0.0</td><td style = \"text-align: right;\">9930.05</td></tr><tr><td class = \"rowNumber\" style = \"font-weight: bold; text-align: right;\">2</td><td style = \"text-align: right;\">2</td><td style = \"text-align: right;\">22.0</td><td style = \"text-align: right;\">9.0</td><td style = \"text-align: left;\">0</td><td style = \"text-align: left;\">1</td><td style = \"text-align: left;\">0</td><td style = \"text-align: left;\">1</td><td style = \"text-align: right;\">0.0</td><td style = \"text-align: right;\">0.0</td><td style = \"text-align: right;\">3595.89</td></tr><tr><td class = \"rowNumber\" style = \"font-weight: bold; text-align: right;\">3</td><td style = \"text-align: right;\">2</td><td style = \"text-align: right;\">30.0</td><td style = \"text-align: right;\">12.0</td><td style = \"text-align: left;\">1</td><td style = \"text-align: left;\">0</td><td style = \"text-align: left;\">0</td><td style = \"text-align: left;\">0</td><td style = \"text-align: right;\">0.0</td><td style = \"text-align: right;\">0.0</td><td style = \"text-align: right;\">24909.4</td></tr><tr><td class = \"rowNumber\" style = \"font-weight: bold; text-align: right;\">4</td><td style = \"text-align: right;\">2</td><td style = \"text-align: right;\">27.0</td><td style = \"text-align: right;\">11.0</td><td style = \"text-align: left;\">1</td><td style = \"text-align: left;\">0</td><td style = \"text-align: left;\">0</td><td style = \"text-align: left;\">1</td><td style = \"text-align: right;\">0.0</td><td style = \"text-align: right;\">0.0</td><td style = \"text-align: right;\">7506.15</td></tr><tr><td class = \"rowNumber\" style = \"font-weight: bold; text-align: right;\">5</td><td style = \"text-align: right;\">2</td><td style = \"text-align: right;\">33.0</td><td style = \"text-align: right;\">8.0</td><td style = \"text-align: left;\">1</td><td style = \"text-align: left;\">0</td><td style = \"text-align: left;\">0</td><td style = \"text-align: left;\">1</td><td style = \"text-align: right;\">0.0</td><td style = \"text-align: right;\">0.0</td><td style = \"text-align: right;\">289.79</td></tr></tbody></table></div>"
      ],
      "text/latex": [
       "\\begin{tabular}{r|cccccccccc}\n",
       "\t& treat & age & educ & black & hisp & marr & nodegree & re74 & re75 & re78\\\\\n",
       "\t\\hline\n",
       "\t& Int64 & Float64 & Float64 & Cat… & Cat… & Cat… & Cat… & Float64 & Float64 & Float64\\\\\n",
       "\t\\hline\n",
       "\t1 & 2 & 37.0 & 11.0 & 1 & 0 & 1 & 1 & 0.0 & 0.0 & 9930.05 \\\\\n",
       "\t2 & 2 & 22.0 & 9.0 & 0 & 1 & 0 & 1 & 0.0 & 0.0 & 3595.89 \\\\\n",
       "\t3 & 2 & 30.0 & 12.0 & 1 & 0 & 0 & 0 & 0.0 & 0.0 & 24909.4 \\\\\n",
       "\t4 & 2 & 27.0 & 11.0 & 1 & 0 & 0 & 1 & 0.0 & 0.0 & 7506.15 \\\\\n",
       "\t5 & 2 & 33.0 & 8.0 & 1 & 0 & 0 & 1 & 0.0 & 0.0 & 289.79 \\\\\n",
       "\\end{tabular}\n"
      ],
      "text/plain": [
       "\u001b[1m5×10 DataFrame\u001b[0m\n",
       "\u001b[1m Row \u001b[0m│\u001b[1m treat \u001b[0m\u001b[1m age     \u001b[0m\u001b[1m educ    \u001b[0m\u001b[1m black \u001b[0m\u001b[1m hisp \u001b[0m\u001b[1m marr \u001b[0m\u001b[1m nodegree \u001b[0m\u001b[1m re74    \u001b[0m\u001b[1m re75    \u001b[0m\u001b[1m\u001b[0m ⋯\n",
       "     │\u001b[90m Int64 \u001b[0m\u001b[90m Float64 \u001b[0m\u001b[90m Float64 \u001b[0m\u001b[90m Cat…  \u001b[0m\u001b[90m Cat… \u001b[0m\u001b[90m Cat… \u001b[0m\u001b[90m Cat…     \u001b[0m\u001b[90m Float64 \u001b[0m\u001b[90m Float64 \u001b[0m\u001b[90m\u001b[0m ⋯\n",
       "─────┼──────────────────────────────────────────────────────────────────────────\n",
       "   1 │     2     37.0     11.0  1      0     1     1             0.0      0.0  ⋯\n",
       "   2 │     2     22.0      9.0  0      1     0     1             0.0      0.0\n",
       "   3 │     2     30.0     12.0  1      0     0     0             0.0      0.0\n",
       "   4 │     2     27.0     11.0  1      0     0     1             0.0      0.0\n",
       "   5 │     2     33.0      8.0  1      0     0     1             0.0      0.0  ⋯\n",
       "\u001b[36m                                                                1 column omitted\u001b[0m"
      ]
     },
     "execution_count": 65,
     "metadata": {},
     "output_type": "execute_result"
    }
   ],
   "source": [
    "first(df, 5)"
   ]
  },
  {
   "cell_type": "code",
   "execution_count": 67,
   "metadata": {},
   "outputs": [],
   "source": [
    "X = select!(X, Not(:black__0, :hisp__0, :marr__0, :nodegree__0));"
   ]
  },
  {
   "cell_type": "code",
   "execution_count": 68,
   "metadata": {},
   "outputs": [
    {
     "name": "stderr",
     "output_type": "stream",
     "text": [
      "\u001b[36m\u001b[1m[ \u001b[22m\u001b[39m\u001b[36m\u001b[1mInfo: \u001b[22m\u001b[39mTraining machine(RandomForestRegressor(max_depth = -1, …), …).\n"
     ]
    }
   ],
   "source": [
    "forest_model = RandomForestRegressor(n_trees = 100)\n",
    "forest_machine = machine(forest_model, X, y_star)\n",
    "fit!(forest_machine);"
   ]
  },
  {
   "cell_type": "code",
   "execution_count": 69,
   "metadata": {},
   "outputs": [
    {
     "data": {
      "text/plain": [
       "8-element Vector{Pair{Symbol, Float64}}:\n",
       "         :age => 0.3108334995673283\n",
       "        :re74 => 0.23504385459407331\n",
       "        :re75 => 0.20351408601314336\n",
       "        :educ => 0.13293173259217456\n",
       "    :black__1 => 0.03938920370651372\n",
       "     :marr__1 => 0.03859921629377362\n",
       "     :hisp__1 => 0.023855838991200553\n",
       " :nodegree__1 => 0.015832568241792636"
      ]
     },
     "execution_count": 69,
     "metadata": {},
     "output_type": "execute_result"
    }
   ],
   "source": [
    "feature_importances(forest_machine)"
   ]
  },
  {
   "cell_type": "markdown",
   "metadata": {},
   "source": [
    "1.4. Heterogeneous effects with causal forests (3 points). Use causal forests like we saw in class. For Python, you should use the econml package; for R, use the grf package; and for Julia, you will need to use the auxiliary variable Y∗ computed in the previous exercise and fit a random forest regressor. Report the importance of the prediction variables."
   ]
  },
  {
   "cell_type": "markdown",
   "metadata": {},
   "source": [
    "Usa bosques causales como se explicó en clase. Para Python, deberías usar el paquete econml; para R, utiliza el paquete grf; y para Julia, necesitarás usar la variable auxiliar 𝑌∗Y ∗  calculada en el ejercicio anterior y ajustar un regresor aleatorio de bosques. Reporta la importancia de las variables de predicción."
   ]
  },
  {
   "cell_type": "markdown",
   "metadata": {},
   "source": [
    "1.5. Plot heterogeneous effects (1.5 points). Plot how the predicted treatment effect changes depending on a variable of your choice. (You can see the last example in PD11 for clarification of what you should do in this exercise)"
   ]
  },
  {
   "cell_type": "markdown",
   "metadata": {},
   "source": [
    "Traza cómo cambia el efecto predicho del tratamiento dependiendo de una variable de tu elección. (Puedes ver el último ejemplo en PD11 para una aclaración de lo que debes hacer en este ejercicio)."
   ]
  }
 ],
 "metadata": {
  "kernelspec": {
   "display_name": "Julia 1.11.1",
   "language": "julia",
   "name": "julia-1.11"
  },
  "language_info": {
   "file_extension": ".jl",
   "mimetype": "application/julia",
   "name": "julia",
   "version": "1.11.1"
  }
 },
 "nbformat": 4,
 "nbformat_minor": 2
}
