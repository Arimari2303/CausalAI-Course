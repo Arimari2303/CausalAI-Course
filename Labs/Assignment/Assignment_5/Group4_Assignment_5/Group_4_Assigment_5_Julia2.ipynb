{
 "cells": [
  {
   "cell_type": "markdown",
   "metadata": {},
   "source": [
    "## Part 2: Double/Debiased machine learning in observational data"
   ]
  },
  {
   "cell_type": "markdown",
   "metadata": {},
   "source": [
    "2.1 Load the data"
   ]
  },
  {
   "cell_type": "code",
   "execution_count": 1,
   "metadata": {},
   "outputs": [],
   "source": [
    "using CSV, DataFrames, StatsModels, GLM, Random, RData, MLBase, MLJ, PrettyTables, FixedEffectModels"
   ]
  },
  {
   "cell_type": "code",
   "execution_count": 5,
   "metadata": {},
   "outputs": [
    {
     "data": {
      "text/html": [
       "<div><div style = \"float: left;\"><span>16177×18 DataFrame</span></div><div style = \"float: right;\"><span style = \"font-style: italic;\">16152 rows omitted</span></div><div style = \"clear: both;\"></div></div><div class = \"data-frame\" style = \"overflow-x: scroll;\"><table class = \"data-frame\" style = \"margin-bottom: 6px;\"><thead><tr class = \"header\"><th class = \"rowNumber\" style = \"font-weight: bold; text-align: right;\">Row</th><th style = \"text-align: left;\">treat</th><th style = \"text-align: left;\">age</th><th style = \"text-align: left;\">educ</th><th style = \"text-align: left;\">black</th><th style = \"text-align: left;\">hisp</th><th style = \"text-align: left;\">marr</th><th style = \"text-align: left;\">nodegree</th><th style = \"text-align: left;\">re74</th><th style = \"text-align: left;\">re75</th><th style = \"text-align: left;\">re78</th><th style = \"text-align: left;\">agesq</th><th style = \"text-align: left;\">agecube</th><th style = \"text-align: left;\">educsq</th><th style = \"text-align: left;\">u74</th><th style = \"text-align: left;\">u75</th><th style = \"text-align: left;\">interaction1</th><th style = \"text-align: left;\">re74sq</th><th style = \"text-align: left;\">re75sq</th></tr><tr class = \"subheader headerLastRow\"><th class = \"rowNumber\" style = \"font-weight: bold; text-align: right;\"></th><th title = \"Int64\" style = \"text-align: left;\">Int64</th><th title = \"Int64\" style = \"text-align: left;\">Int64</th><th title = \"Int64\" style = \"text-align: left;\">Int64</th><th title = \"Int64\" style = \"text-align: left;\">Int64</th><th title = \"Int64\" style = \"text-align: left;\">Int64</th><th title = \"Int64\" style = \"text-align: left;\">Int64</th><th title = \"Int64\" style = \"text-align: left;\">Int64</th><th title = \"Float64\" style = \"text-align: left;\">Float64</th><th title = \"Float64\" style = \"text-align: left;\">Float64</th><th title = \"Float64\" style = \"text-align: left;\">Float64</th><th title = \"Int64\" style = \"text-align: left;\">Int64</th><th title = \"Int64\" style = \"text-align: left;\">Int64</th><th title = \"Int64\" style = \"text-align: left;\">Int64</th><th title = \"Int64\" style = \"text-align: left;\">Int64</th><th title = \"Int64\" style = \"text-align: left;\">Int64</th><th title = \"Float64\" style = \"text-align: left;\">Float64</th><th title = \"Float64\" style = \"text-align: left;\">Float64</th><th title = \"Float64\" style = \"text-align: left;\">Float64</th></tr></thead><tbody><tr><td class = \"rowNumber\" style = \"font-weight: bold; text-align: right;\">1</td><td style = \"text-align: right;\">0</td><td style = \"text-align: right;\">45</td><td style = \"text-align: right;\">11</td><td style = \"text-align: right;\">0</td><td style = \"text-align: right;\">0</td><td style = \"text-align: right;\">1</td><td style = \"text-align: right;\">1</td><td style = \"text-align: right;\">21.5167</td><td style = \"text-align: right;\">25.2436</td><td style = \"text-align: right;\">25.5647</td><td style = \"text-align: right;\">2025</td><td style = \"text-align: right;\">91125</td><td style = \"text-align: right;\">121</td><td style = \"text-align: right;\">0</td><td style = \"text-align: right;\">0</td><td style = \"text-align: right;\">236.683</td><td style = \"text-align: right;\">462.967</td><td style = \"text-align: right;\">637.237</td></tr><tr><td class = \"rowNumber\" style = \"font-weight: bold; text-align: right;\">2</td><td style = \"text-align: right;\">0</td><td style = \"text-align: right;\">21</td><td style = \"text-align: right;\">14</td><td style = \"text-align: right;\">0</td><td style = \"text-align: right;\">0</td><td style = \"text-align: right;\">0</td><td style = \"text-align: right;\">0</td><td style = \"text-align: right;\">3.17597</td><td style = \"text-align: right;\">5.85256</td><td style = \"text-align: right;\">13.4961</td><td style = \"text-align: right;\">441</td><td style = \"text-align: right;\">9261</td><td style = \"text-align: right;\">196</td><td style = \"text-align: right;\">0</td><td style = \"text-align: right;\">0</td><td style = \"text-align: right;\">44.4636</td><td style = \"text-align: right;\">10.0868</td><td style = \"text-align: right;\">34.2525</td></tr><tr><td class = \"rowNumber\" style = \"font-weight: bold; text-align: right;\">3</td><td style = \"text-align: right;\">0</td><td style = \"text-align: right;\">38</td><td style = \"text-align: right;\">12</td><td style = \"text-align: right;\">0</td><td style = \"text-align: right;\">0</td><td style = \"text-align: right;\">1</td><td style = \"text-align: right;\">0</td><td style = \"text-align: right;\">23.039</td><td style = \"text-align: right;\">25.1308</td><td style = \"text-align: right;\">25.5647</td><td style = \"text-align: right;\">1444</td><td style = \"text-align: right;\">54872</td><td style = \"text-align: right;\">144</td><td style = \"text-align: right;\">0</td><td style = \"text-align: right;\">0</td><td style = \"text-align: right;\">276.468</td><td style = \"text-align: right;\">530.796</td><td style = \"text-align: right;\">631.555</td></tr><tr><td class = \"rowNumber\" style = \"font-weight: bold; text-align: right;\">4</td><td style = \"text-align: right;\">0</td><td style = \"text-align: right;\">48</td><td style = \"text-align: right;\">6</td><td style = \"text-align: right;\">0</td><td style = \"text-align: right;\">0</td><td style = \"text-align: right;\">1</td><td style = \"text-align: right;\">1</td><td style = \"text-align: right;\">24.9944</td><td style = \"text-align: right;\">25.2436</td><td style = \"text-align: right;\">25.5647</td><td style = \"text-align: right;\">2304</td><td style = \"text-align: right;\">110592</td><td style = \"text-align: right;\">36</td><td style = \"text-align: right;\">0</td><td style = \"text-align: right;\">0</td><td style = \"text-align: right;\">149.966</td><td style = \"text-align: right;\">624.718</td><td style = \"text-align: right;\">637.237</td></tr><tr><td class = \"rowNumber\" style = \"font-weight: bold; text-align: right;\">5</td><td style = \"text-align: right;\">0</td><td style = \"text-align: right;\">18</td><td style = \"text-align: right;\">8</td><td style = \"text-align: right;\">0</td><td style = \"text-align: right;\">0</td><td style = \"text-align: right;\">1</td><td style = \"text-align: right;\">1</td><td style = \"text-align: right;\">1.6693</td><td style = \"text-align: right;\">10.7276</td><td style = \"text-align: right;\">9.86087</td><td style = \"text-align: right;\">324</td><td style = \"text-align: right;\">5832</td><td style = \"text-align: right;\">64</td><td style = \"text-align: right;\">0</td><td style = \"text-align: right;\">0</td><td style = \"text-align: right;\">13.3544</td><td style = \"text-align: right;\">2.78655</td><td style = \"text-align: right;\">115.082</td></tr><tr><td class = \"rowNumber\" style = \"font-weight: bold; text-align: right;\">6</td><td style = \"text-align: right;\">0</td><td style = \"text-align: right;\">22</td><td style = \"text-align: right;\">11</td><td style = \"text-align: right;\">0</td><td style = \"text-align: right;\">0</td><td style = \"text-align: right;\">1</td><td style = \"text-align: right;\">1</td><td style = \"text-align: right;\">16.3658</td><td style = \"text-align: right;\">18.4493</td><td style = \"text-align: right;\">25.5647</td><td style = \"text-align: right;\">484</td><td style = \"text-align: right;\">10648</td><td style = \"text-align: right;\">121</td><td style = \"text-align: right;\">0</td><td style = \"text-align: right;\">0</td><td style = \"text-align: right;\">180.023</td><td style = \"text-align: right;\">267.838</td><td style = \"text-align: right;\">340.376</td></tr><tr><td class = \"rowNumber\" style = \"font-weight: bold; text-align: right;\">7</td><td style = \"text-align: right;\">0</td><td style = \"text-align: right;\">48</td><td style = \"text-align: right;\">10</td><td style = \"text-align: right;\">0</td><td style = \"text-align: right;\">0</td><td style = \"text-align: right;\">1</td><td style = \"text-align: right;\">1</td><td style = \"text-align: right;\">16.8046</td><td style = \"text-align: right;\">16.3546</td><td style = \"text-align: right;\">18.0593</td><td style = \"text-align: right;\">2304</td><td style = \"text-align: right;\">110592</td><td style = \"text-align: right;\">100</td><td style = \"text-align: right;\">0</td><td style = \"text-align: right;\">0</td><td style = \"text-align: right;\">168.046</td><td style = \"text-align: right;\">282.396</td><td style = \"text-align: right;\">267.473</td></tr><tr><td class = \"rowNumber\" style = \"font-weight: bold; text-align: right;\">8</td><td style = \"text-align: right;\">0</td><td style = \"text-align: right;\">18</td><td style = \"text-align: right;\">11</td><td style = \"text-align: right;\">0</td><td style = \"text-align: right;\">0</td><td style = \"text-align: right;\">0</td><td style = \"text-align: right;\">1</td><td style = \"text-align: right;\">1.14421</td><td style = \"text-align: right;\">3.62003</td><td style = \"text-align: right;\">15.7393</td><td style = \"text-align: right;\">324</td><td style = \"text-align: right;\">5832</td><td style = \"text-align: right;\">121</td><td style = \"text-align: right;\">0</td><td style = \"text-align: right;\">0</td><td style = \"text-align: right;\">12.5863</td><td style = \"text-align: right;\">1.30922</td><td style = \"text-align: right;\">13.1046</td></tr><tr><td class = \"rowNumber\" style = \"font-weight: bold; text-align: right;\">9</td><td style = \"text-align: right;\">0</td><td style = \"text-align: right;\">48</td><td style = \"text-align: right;\">9</td><td style = \"text-align: right;\">0</td><td style = \"text-align: right;\">0</td><td style = \"text-align: right;\">1</td><td style = \"text-align: right;\">1</td><td style = \"text-align: right;\">25.8623</td><td style = \"text-align: right;\">25.2436</td><td style = \"text-align: right;\">25.5647</td><td style = \"text-align: right;\">2304</td><td style = \"text-align: right;\">110592</td><td style = \"text-align: right;\">81</td><td style = \"text-align: right;\">0</td><td style = \"text-align: right;\">0</td><td style = \"text-align: right;\">232.761</td><td style = \"text-align: right;\">668.86</td><td style = \"text-align: right;\">637.237</td></tr><tr><td class = \"rowNumber\" style = \"font-weight: bold; text-align: right;\">10</td><td style = \"text-align: right;\">0</td><td style = \"text-align: right;\">45</td><td style = \"text-align: right;\">12</td><td style = \"text-align: right;\">0</td><td style = \"text-align: right;\">0</td><td style = \"text-align: right;\">1</td><td style = \"text-align: right;\">0</td><td style = \"text-align: right;\">25.8623</td><td style = \"text-align: right;\">0.0</td><td style = \"text-align: right;\">3.92484</td><td style = \"text-align: right;\">2025</td><td style = \"text-align: right;\">91125</td><td style = \"text-align: right;\">144</td><td style = \"text-align: right;\">0</td><td style = \"text-align: right;\">1</td><td style = \"text-align: right;\">310.348</td><td style = \"text-align: right;\">668.86</td><td style = \"text-align: right;\">0.0</td></tr><tr><td class = \"rowNumber\" style = \"font-weight: bold; text-align: right;\">11</td><td style = \"text-align: right;\">0</td><td style = \"text-align: right;\">34</td><td style = \"text-align: right;\">14</td><td style = \"text-align: right;\">0</td><td style = \"text-align: right;\">0</td><td style = \"text-align: right;\">1</td><td style = \"text-align: right;\">0</td><td style = \"text-align: right;\">25.8623</td><td style = \"text-align: right;\">23.7468</td><td style = \"text-align: right;\">25.5647</td><td style = \"text-align: right;\">1156</td><td style = \"text-align: right;\">39304</td><td style = \"text-align: right;\">196</td><td style = \"text-align: right;\">0</td><td style = \"text-align: right;\">0</td><td style = \"text-align: right;\">362.072</td><td style = \"text-align: right;\">668.86</td><td style = \"text-align: right;\">563.912</td></tr><tr><td class = \"rowNumber\" style = \"font-weight: bold; text-align: right;\">12</td><td style = \"text-align: right;\">0</td><td style = \"text-align: right;\">16</td><td style = \"text-align: right;\">10</td><td style = \"text-align: right;\">0</td><td style = \"text-align: right;\">0</td><td style = \"text-align: right;\">0</td><td style = \"text-align: right;\">1</td><td style = \"text-align: right;\">1.02666</td><td style = \"text-align: right;\">1.22458</td><td style = \"text-align: right;\">6.84779</td><td style = \"text-align: right;\">256</td><td style = \"text-align: right;\">4096</td><td style = \"text-align: right;\">100</td><td style = \"text-align: right;\">0</td><td style = \"text-align: right;\">0</td><td style = \"text-align: right;\">10.2666</td><td style = \"text-align: right;\">1.05402</td><td style = \"text-align: right;\">1.4996</td></tr><tr><td class = \"rowNumber\" style = \"font-weight: bold; text-align: right;\">13</td><td style = \"text-align: right;\">0</td><td style = \"text-align: right;\">53</td><td style = \"text-align: right;\">10</td><td style = \"text-align: right;\">0</td><td style = \"text-align: right;\">0</td><td style = \"text-align: right;\">1</td><td style = \"text-align: right;\">1</td><td style = \"text-align: right;\">25.8623</td><td style = \"text-align: right;\">25.2436</td><td style = \"text-align: right;\">25.5647</td><td style = \"text-align: right;\">2809</td><td style = \"text-align: right;\">148877</td><td style = \"text-align: right;\">100</td><td style = \"text-align: right;\">0</td><td style = \"text-align: right;\">0</td><td style = \"text-align: right;\">258.623</td><td style = \"text-align: right;\">668.86</td><td style = \"text-align: right;\">637.237</td></tr><tr><td style = \"text-align: right;\">&vellip;</td><td style = \"text-align: right;\">&vellip;</td><td style = \"text-align: right;\">&vellip;</td><td style = \"text-align: right;\">&vellip;</td><td style = \"text-align: right;\">&vellip;</td><td style = \"text-align: right;\">&vellip;</td><td style = \"text-align: right;\">&vellip;</td><td style = \"text-align: right;\">&vellip;</td><td style = \"text-align: right;\">&vellip;</td><td style = \"text-align: right;\">&vellip;</td><td style = \"text-align: right;\">&vellip;</td><td style = \"text-align: right;\">&vellip;</td><td style = \"text-align: right;\">&vellip;</td><td style = \"text-align: right;\">&vellip;</td><td style = \"text-align: right;\">&vellip;</td><td style = \"text-align: right;\">&vellip;</td><td style = \"text-align: right;\">&vellip;</td><td style = \"text-align: right;\">&vellip;</td><td style = \"text-align: right;\">&vellip;</td></tr><tr><td class = \"rowNumber\" style = \"font-weight: bold; text-align: right;\">16166</td><td style = \"text-align: right;\">1</td><td style = \"text-align: right;\">19</td><td style = \"text-align: right;\">10</td><td style = \"text-align: right;\">1</td><td style = \"text-align: right;\">0</td><td style = \"text-align: right;\">0</td><td style = \"text-align: right;\">1</td><td style = \"text-align: right;\">4.12195</td><td style = \"text-align: right;\">6.05675</td><td style = \"text-align: right;\">0.0</td><td style = \"text-align: right;\">361</td><td style = \"text-align: right;\">6859</td><td style = \"text-align: right;\">100</td><td style = \"text-align: right;\">0</td><td style = \"text-align: right;\">0</td><td style = \"text-align: right;\">41.2195</td><td style = \"text-align: right;\">16.9905</td><td style = \"text-align: right;\">36.6843</td></tr><tr><td class = \"rowNumber\" style = \"font-weight: bold; text-align: right;\">16167</td><td style = \"text-align: right;\">1</td><td style = \"text-align: right;\">26</td><td style = \"text-align: right;\">10</td><td style = \"text-align: right;\">1</td><td style = \"text-align: right;\">0</td><td style = \"text-align: right;\">0</td><td style = \"text-align: right;\">1</td><td style = \"text-align: right;\">25.9297</td><td style = \"text-align: right;\">6.78896</td><td style = \"text-align: right;\">0.672877</td><td style = \"text-align: right;\">676</td><td style = \"text-align: right;\">17576</td><td style = \"text-align: right;\">100</td><td style = \"text-align: right;\">0</td><td style = \"text-align: right;\">0</td><td style = \"text-align: right;\">259.297</td><td style = \"text-align: right;\">672.348</td><td style = \"text-align: right;\">46.09</td></tr><tr><td class = \"rowNumber\" style = \"font-weight: bold; text-align: right;\">16168</td><td style = \"text-align: right;\">1</td><td style = \"text-align: right;\">28</td><td style = \"text-align: right;\">11</td><td style = \"text-align: right;\">1</td><td style = \"text-align: right;\">0</td><td style = \"text-align: right;\">0</td><td style = \"text-align: right;\">1</td><td style = \"text-align: right;\">1.92903</td><td style = \"text-align: right;\">6.87186</td><td style = \"text-align: right;\">0.0</td><td style = \"text-align: right;\">784</td><td style = \"text-align: right;\">21952</td><td style = \"text-align: right;\">121</td><td style = \"text-align: right;\">0</td><td style = \"text-align: right;\">0</td><td style = \"text-align: right;\">21.2193</td><td style = \"text-align: right;\">3.72115</td><td style = \"text-align: right;\">47.2224</td></tr><tr><td class = \"rowNumber\" style = \"font-weight: bold; text-align: right;\">16169</td><td style = \"text-align: right;\">1</td><td style = \"text-align: right;\">22</td><td style = \"text-align: right;\">12</td><td style = \"text-align: right;\">0</td><td style = \"text-align: right;\">1</td><td style = \"text-align: right;\">1</td><td style = \"text-align: right;\">0</td><td style = \"text-align: right;\">0.49223</td><td style = \"text-align: right;\">7.0557</td><td style = \"text-align: right;\">10.0928</td><td style = \"text-align: right;\">484</td><td style = \"text-align: right;\">10648</td><td style = \"text-align: right;\">144</td><td style = \"text-align: right;\">0</td><td style = \"text-align: right;\">0</td><td style = \"text-align: right;\">5.90677</td><td style = \"text-align: right;\">0.242291</td><td style = \"text-align: right;\">49.7829</td></tr><tr><td class = \"rowNumber\" style = \"font-weight: bold; text-align: right;\">16170</td><td style = \"text-align: right;\">1</td><td style = \"text-align: right;\">33</td><td style = \"text-align: right;\">11</td><td style = \"text-align: right;\">1</td><td style = \"text-align: right;\">0</td><td style = \"text-align: right;\">0</td><td style = \"text-align: right;\">1</td><td style = \"text-align: right;\">0.0</td><td style = \"text-align: right;\">7.86792</td><td style = \"text-align: right;\">6.28143</td><td style = \"text-align: right;\">1089</td><td style = \"text-align: right;\">35937</td><td style = \"text-align: right;\">121</td><td style = \"text-align: right;\">1</td><td style = \"text-align: right;\">0</td><td style = \"text-align: right;\">0.0</td><td style = \"text-align: right;\">0.0</td><td style = \"text-align: right;\">61.9041</td></tr><tr><td class = \"rowNumber\" style = \"font-weight: bold; text-align: right;\">16171</td><td style = \"text-align: right;\">1</td><td style = \"text-align: right;\">22</td><td style = \"text-align: right;\">12</td><td style = \"text-align: right;\">0</td><td style = \"text-align: right;\">0</td><td style = \"text-align: right;\">0</td><td style = \"text-align: right;\">0</td><td style = \"text-align: right;\">6.75999</td><td style = \"text-align: right;\">8.4555</td><td style = \"text-align: right;\">12.5907</td><td style = \"text-align: right;\">484</td><td style = \"text-align: right;\">10648</td><td style = \"text-align: right;\">144</td><td style = \"text-align: right;\">0</td><td style = \"text-align: right;\">0</td><td style = \"text-align: right;\">81.1199</td><td style = \"text-align: right;\">45.6975</td><td style = \"text-align: right;\">71.4955</td></tr><tr><td class = \"rowNumber\" style = \"font-weight: bold; text-align: right;\">16172</td><td style = \"text-align: right;\">1</td><td style = \"text-align: right;\">29</td><td style = \"text-align: right;\">10</td><td style = \"text-align: right;\">0</td><td style = \"text-align: right;\">1</td><td style = \"text-align: right;\">0</td><td style = \"text-align: right;\">1</td><td style = \"text-align: right;\">0.0</td><td style = \"text-align: right;\">8.85367</td><td style = \"text-align: right;\">5.11201</td><td style = \"text-align: right;\">841</td><td style = \"text-align: right;\">24389</td><td style = \"text-align: right;\">100</td><td style = \"text-align: right;\">1</td><td style = \"text-align: right;\">0</td><td style = \"text-align: right;\">0.0</td><td style = \"text-align: right;\">0.0</td><td style = \"text-align: right;\">78.3875</td></tr><tr><td class = \"rowNumber\" style = \"font-weight: bold; text-align: right;\">16173</td><td style = \"text-align: right;\">1</td><td style = \"text-align: right;\">33</td><td style = \"text-align: right;\">12</td><td style = \"text-align: right;\">1</td><td style = \"text-align: right;\">0</td><td style = \"text-align: right;\">1</td><td style = \"text-align: right;\">0</td><td style = \"text-align: right;\">20.2799</td><td style = \"text-align: right;\">10.9413</td><td style = \"text-align: right;\">15.9526</td><td style = \"text-align: right;\">1089</td><td style = \"text-align: right;\">35937</td><td style = \"text-align: right;\">144</td><td style = \"text-align: right;\">0</td><td style = \"text-align: right;\">0</td><td style = \"text-align: right;\">243.359</td><td style = \"text-align: right;\">411.276</td><td style = \"text-align: right;\">119.713</td></tr><tr><td class = \"rowNumber\" style = \"font-weight: bold; text-align: right;\">16174</td><td style = \"text-align: right;\">1</td><td style = \"text-align: right;\">25</td><td style = \"text-align: right;\">14</td><td style = \"text-align: right;\">1</td><td style = \"text-align: right;\">0</td><td style = \"text-align: right;\">1</td><td style = \"text-align: right;\">0</td><td style = \"text-align: right;\">35.0401</td><td style = \"text-align: right;\">11.5366</td><td style = \"text-align: right;\">36.6469</td><td style = \"text-align: right;\">625</td><td style = \"text-align: right;\">15625</td><td style = \"text-align: right;\">196</td><td style = \"text-align: right;\">0</td><td style = \"text-align: right;\">0</td><td style = \"text-align: right;\">490.561</td><td style = \"text-align: right;\">1227.81</td><td style = \"text-align: right;\">133.092</td></tr><tr><td class = \"rowNumber\" style = \"font-weight: bold; text-align: right;\">16175</td><td style = \"text-align: right;\">1</td><td style = \"text-align: right;\">35</td><td style = \"text-align: right;\">9</td><td style = \"text-align: right;\">1</td><td style = \"text-align: right;\">0</td><td style = \"text-align: right;\">1</td><td style = \"text-align: right;\">1</td><td style = \"text-align: right;\">13.6024</td><td style = \"text-align: right;\">13.8306</td><td style = \"text-align: right;\">12.804</td><td style = \"text-align: right;\">1225</td><td style = \"text-align: right;\">42875</td><td style = \"text-align: right;\">81</td><td style = \"text-align: right;\">0</td><td style = \"text-align: right;\">0</td><td style = \"text-align: right;\">122.422</td><td style = \"text-align: right;\">185.026</td><td style = \"text-align: right;\">191.287</td></tr><tr><td class = \"rowNumber\" style = \"font-weight: bold; text-align: right;\">16176</td><td style = \"text-align: right;\">1</td><td style = \"text-align: right;\">35</td><td style = \"text-align: right;\">8</td><td style = \"text-align: right;\">1</td><td style = \"text-align: right;\">0</td><td style = \"text-align: right;\">1</td><td style = \"text-align: right;\">1</td><td style = \"text-align: right;\">13.7321</td><td style = \"text-align: right;\">17.9762</td><td style = \"text-align: right;\">3.78663</td><td style = \"text-align: right;\">1225</td><td style = \"text-align: right;\">42875</td><td style = \"text-align: right;\">64</td><td style = \"text-align: right;\">0</td><td style = \"text-align: right;\">0</td><td style = \"text-align: right;\">109.857</td><td style = \"text-align: right;\">188.57</td><td style = \"text-align: right;\">323.142</td></tr><tr><td class = \"rowNumber\" style = \"font-weight: bold; text-align: right;\">16177</td><td style = \"text-align: right;\">1</td><td style = \"text-align: right;\">33</td><td style = \"text-align: right;\">11</td><td style = \"text-align: right;\">1</td><td style = \"text-align: right;\">0</td><td style = \"text-align: right;\">1</td><td style = \"text-align: right;\">1</td><td style = \"text-align: right;\">14.6607</td><td style = \"text-align: right;\">25.1422</td><td style = \"text-align: right;\">4.18194</td><td style = \"text-align: right;\">1089</td><td style = \"text-align: right;\">35937</td><td style = \"text-align: right;\">121</td><td style = \"text-align: right;\">0</td><td style = \"text-align: right;\">0</td><td style = \"text-align: right;\">161.268</td><td style = \"text-align: right;\">214.936</td><td style = \"text-align: right;\">632.132</td></tr></tbody></table></div>"
      ],
      "text/latex": [
       "\\begin{tabular}{r|ccccccccccc}\n",
       "\t& treat & age & educ & black & hisp & marr & nodegree & re74 & re75 & re78 & \\\\\n",
       "\t\\hline\n",
       "\t& Int64 & Int64 & Int64 & Int64 & Int64 & Int64 & Int64 & Float64 & Float64 & Float64 & \\\\\n",
       "\t\\hline\n",
       "\t1 & 0 & 45 & 11 & 0 & 0 & 1 & 1 & 21.5167 & 25.2436 & 25.5647 & $\\dots$ \\\\\n",
       "\t2 & 0 & 21 & 14 & 0 & 0 & 0 & 0 & 3.17597 & 5.85256 & 13.4961 & $\\dots$ \\\\\n",
       "\t3 & 0 & 38 & 12 & 0 & 0 & 1 & 0 & 23.039 & 25.1308 & 25.5647 & $\\dots$ \\\\\n",
       "\t4 & 0 & 48 & 6 & 0 & 0 & 1 & 1 & 24.9944 & 25.2436 & 25.5647 & $\\dots$ \\\\\n",
       "\t5 & 0 & 18 & 8 & 0 & 0 & 1 & 1 & 1.6693 & 10.7276 & 9.86087 & $\\dots$ \\\\\n",
       "\t6 & 0 & 22 & 11 & 0 & 0 & 1 & 1 & 16.3658 & 18.4493 & 25.5647 & $\\dots$ \\\\\n",
       "\t7 & 0 & 48 & 10 & 0 & 0 & 1 & 1 & 16.8046 & 16.3546 & 18.0593 & $\\dots$ \\\\\n",
       "\t8 & 0 & 18 & 11 & 0 & 0 & 0 & 1 & 1.14421 & 3.62003 & 15.7393 & $\\dots$ \\\\\n",
       "\t9 & 0 & 48 & 9 & 0 & 0 & 1 & 1 & 25.8623 & 25.2436 & 25.5647 & $\\dots$ \\\\\n",
       "\t10 & 0 & 45 & 12 & 0 & 0 & 1 & 0 & 25.8623 & 0.0 & 3.92484 & $\\dots$ \\\\\n",
       "\t11 & 0 & 34 & 14 & 0 & 0 & 1 & 0 & 25.8623 & 23.7468 & 25.5647 & $\\dots$ \\\\\n",
       "\t12 & 0 & 16 & 10 & 0 & 0 & 0 & 1 & 1.02666 & 1.22458 & 6.84779 & $\\dots$ \\\\\n",
       "\t13 & 0 & 53 & 10 & 0 & 0 & 1 & 1 & 25.8623 & 25.2436 & 25.5647 & $\\dots$ \\\\\n",
       "\t14 & 0 & 19 & 12 & 0 & 0 & 0 & 0 & 0.867955 & 4.38629 & 8.7777 & $\\dots$ \\\\\n",
       "\t15 & 0 & 27 & 12 & 0 & 0 & 1 & 0 & 25.8623 & 19.0472 & 19.2149 & $\\dots$ \\\\\n",
       "\t16 & 0 & 32 & 10 & 0 & 0 & 1 & 1 & 20.4273 & 23.3744 & 9.17964 & $\\dots$ \\\\\n",
       "\t17 & 0 & 27 & 12 & 0 & 0 & 1 & 0 & 20.9838 & 14.8221 & 25.5647 & $\\dots$ \\\\\n",
       "\t18 & 0 & 46 & 7 & 0 & 0 & 1 & 1 & 19.1714 & 1.31768 & 0.0 & $\\dots$ \\\\\n",
       "\t19 & 0 & 24 & 13 & 0 & 0 & 0 & 0 & 20.8309 & 25.2436 & 23.9037 & $\\dots$ \\\\\n",
       "\t20 & 0 & 22 & 13 & 0 & 0 & 0 & 0 & 11.0365 & 10.3517 & 6.55667 & $\\dots$ \\\\\n",
       "\t21 & 0 & 49 & 10 & 0 & 0 & 1 & 1 & 0.391853 & 0.0 & 0.0 & $\\dots$ \\\\\n",
       "\t22 & 0 & 17 & 10 & 0 & 0 & 0 & 1 & 0.0 & 0.0 & 4.75532 & $\\dots$ \\\\\n",
       "\t23 & 0 & 29 & 14 & 0 & 0 & 1 & 0 & 21.499 & 22.5867 & 20.9231 & $\\dots$ \\\\\n",
       "\t24 & 0 & 28 & 16 & 0 & 0 & 1 & 0 & 16.5009 & 0.0 & 10.2672 & $\\dots$ \\\\\n",
       "\t25 & 0 & 46 & 12 & 0 & 0 & 1 & 0 & 24.8141 & 24.9678 & 19.339 & $\\dots$ \\\\\n",
       "\t26 & 0 & 26 & 17 & 1 & 0 & 1 & 0 & 0.0 & 0.0 & 4.75385 & $\\dots$ \\\\\n",
       "\t27 & 0 & 49 & 12 & 0 & 0 & 0 & 0 & 25.8623 & 25.2436 & 25.5647 & $\\dots$ \\\\\n",
       "\t28 & 0 & 51 & 10 & 0 & 0 & 1 & 1 & 25.8623 & 25.2436 & 25.5647 & $\\dots$ \\\\\n",
       "\t29 & 0 & 51 & 10 & 0 & 0 & 1 & 1 & 22.9234 & 21.7256 & 10.3485 & $\\dots$ \\\\\n",
       "\t30 & 0 & 27 & 11 & 0 & 0 & 1 & 1 & 17.0221 & 18.1234 & 18.4908 & $\\dots$ \\\\\n",
       "\t$\\dots$ & $\\dots$ & $\\dots$ & $\\dots$ & $\\dots$ & $\\dots$ & $\\dots$ & $\\dots$ & $\\dots$ & $\\dots$ & $\\dots$ &  \\\\\n",
       "\\end{tabular}\n"
      ],
      "text/plain": [
       "\u001b[1m16177×18 DataFrame\u001b[0m\n",
       "\u001b[1m   Row \u001b[0m│\u001b[1m treat \u001b[0m\u001b[1m age   \u001b[0m\u001b[1m educ  \u001b[0m\u001b[1m black \u001b[0m\u001b[1m hisp  \u001b[0m\u001b[1m marr  \u001b[0m\u001b[1m nodegree \u001b[0m\u001b[1m re74      \u001b[0m\u001b[1m re75  \u001b[0m ⋯\n",
       "       │\u001b[90m Int64 \u001b[0m\u001b[90m Int64 \u001b[0m\u001b[90m Int64 \u001b[0m\u001b[90m Int64 \u001b[0m\u001b[90m Int64 \u001b[0m\u001b[90m Int64 \u001b[0m\u001b[90m Int64    \u001b[0m\u001b[90m Float64   \u001b[0m\u001b[90m Float6\u001b[0m ⋯\n",
       "───────┼────────────────────────────────────────────────────────────────────────\n",
       "     1 │     0     45     11      0      0      1         1  21.5167    25.243 ⋯\n",
       "     2 │     0     21     14      0      0      0         0   3.17597    5.852\n",
       "     3 │     0     38     12      0      0      1         0  23.039     25.130\n",
       "     4 │     0     48      6      0      0      1         1  24.9944    25.243\n",
       "     5 │     0     18      8      0      0      1         1   1.6693    10.727 ⋯\n",
       "     6 │     0     22     11      0      0      1         1  16.3658    18.449\n",
       "     7 │     0     48     10      0      0      1         1  16.8046    16.354\n",
       "     8 │     0     18     11      0      0      0         1   1.14421    3.620\n",
       "     9 │     0     48      9      0      0      1         1  25.8623    25.243 ⋯\n",
       "    10 │     0     45     12      0      0      1         0  25.8623     0.0\n",
       "    11 │     0     34     14      0      0      1         0  25.8623    23.746\n",
       "   ⋮   │   ⋮      ⋮      ⋮      ⋮      ⋮      ⋮       ⋮          ⋮         ⋮   ⋱\n",
       " 16168 │     1     28     11      1      0      0         1   1.92903    6.871\n",
       " 16169 │     1     22     12      0      1      1         0   0.49223    7.055 ⋯\n",
       " 16170 │     1     33     11      1      0      0         1   0.0        7.867\n",
       " 16171 │     1     22     12      0      0      0         0   6.75999    8.455\n",
       " 16172 │     1     29     10      0      1      0         1   0.0        8.853\n",
       " 16173 │     1     33     12      1      0      1         0  20.2799    10.941 ⋯\n",
       " 16174 │     1     25     14      1      0      1         0  35.0401    11.536\n",
       " 16175 │     1     35      9      1      0      1         1  13.6024    13.830\n",
       " 16176 │     1     35      8      1      0      1         1  13.7321    17.976\n",
       " 16177 │     1     33     11      1      0      1         1  14.6607    25.142 ⋯\n",
       "\u001b[36m                                               10 columns and 16156 rows omitted\u001b[0m"
      ]
     },
     "metadata": {},
     "output_type": "display_data"
    }
   ],
   "source": [
    "df = CSV.read(\"../data/observational/biased_control.csv\", DataFrame);\n",
    "\n",
    "display(df)"
   ]
  },
  {
   "cell_type": "markdown",
   "metadata": {},
   "source": [
    "2.2 Group comparisons"
   ]
  },
  {
   "cell_type": "code",
   "execution_count": 7,
   "metadata": {},
   "outputs": [],
   "source": [
    "#First of all, we separate the data into the treatment and control group. The column \"treat\" allows us to identify the groups.!\n",
    "df_treatment = df[df.treat.==1, :];\n",
    "df_control = df[df.treat.==0, :];"
   ]
  },
  {
   "cell_type": "code",
   "execution_count": 25,
   "metadata": {},
   "outputs": [
    {
     "data": {
      "text/html": [
       "<div><div style = \"float: left;\"><span>9×7 DataFrame</span></div><div style = \"clear: both;\"></div></div><div class = \"data-frame\" style = \"overflow-x: scroll;\"><table class = \"data-frame\" style = \"margin-bottom: 6px;\"><thead><tr class = \"header\"><th class = \"rowNumber\" style = \"font-weight: bold; text-align: right;\">Row</th><th style = \"text-align: left;\">variable</th><th style = \"text-align: left;\">mean</th><th style = \"text-align: left;\">min</th><th style = \"text-align: left;\">median</th><th style = \"text-align: left;\">max</th><th style = \"text-align: left;\">nmissing</th><th style = \"text-align: left;\">eltype</th></tr><tr class = \"subheader headerLastRow\"><th class = \"rowNumber\" style = \"font-weight: bold; text-align: right;\"></th><th title = \"Symbol\" style = \"text-align: left;\">Symbol</th><th title = \"Float64\" style = \"text-align: left;\">Float64</th><th title = \"Real\" style = \"text-align: left;\">Real</th><th title = \"Float64\" style = \"text-align: left;\">Float64</th><th title = \"Real\" style = \"text-align: left;\">Real</th><th title = \"Int64\" style = \"text-align: left;\">Int64</th><th title = \"DataType\" style = \"text-align: left;\">DataType</th></tr></thead><tbody><tr><td class = \"rowNumber\" style = \"font-weight: bold; text-align: right;\">1</td><td style = \"text-align: left;\">age</td><td style = \"text-align: right;\">25.8162</td><td style = \"text-align: right;\">17</td><td style = \"text-align: right;\">25.0</td><td style = \"text-align: right;\">48</td><td style = \"text-align: right;\">0</td><td style = \"text-align: left;\">Int64</td></tr><tr><td class = \"rowNumber\" style = \"font-weight: bold; text-align: right;\">2</td><td style = \"text-align: left;\">educ</td><td style = \"text-align: right;\">10.3459</td><td style = \"text-align: right;\">4</td><td style = \"text-align: right;\">11.0</td><td style = \"text-align: right;\">16</td><td style = \"text-align: right;\">0</td><td style = \"text-align: left;\">Int64</td></tr><tr><td class = \"rowNumber\" style = \"font-weight: bold; text-align: right;\">3</td><td style = \"text-align: left;\">black</td><td style = \"text-align: right;\">0.843243</td><td style = \"text-align: right;\">0</td><td style = \"text-align: right;\">1.0</td><td style = \"text-align: right;\">1</td><td style = \"text-align: right;\">0</td><td style = \"text-align: left;\">Int64</td></tr><tr><td class = \"rowNumber\" style = \"font-weight: bold; text-align: right;\">4</td><td style = \"text-align: left;\">hisp</td><td style = \"text-align: right;\">0.0594595</td><td style = \"text-align: right;\">0</td><td style = \"text-align: right;\">0.0</td><td style = \"text-align: right;\">1</td><td style = \"text-align: right;\">0</td><td style = \"text-align: left;\">Int64</td></tr><tr><td class = \"rowNumber\" style = \"font-weight: bold; text-align: right;\">5</td><td style = \"text-align: left;\">marr</td><td style = \"text-align: right;\">0.189189</td><td style = \"text-align: right;\">0</td><td style = \"text-align: right;\">0.0</td><td style = \"text-align: right;\">1</td><td style = \"text-align: right;\">0</td><td style = \"text-align: left;\">Int64</td></tr><tr><td class = \"rowNumber\" style = \"font-weight: bold; text-align: right;\">6</td><td style = \"text-align: left;\">nodegree</td><td style = \"text-align: right;\">0.708108</td><td style = \"text-align: right;\">0</td><td style = \"text-align: right;\">1.0</td><td style = \"text-align: right;\">1</td><td style = \"text-align: right;\">0</td><td style = \"text-align: left;\">Int64</td></tr><tr><td class = \"rowNumber\" style = \"font-weight: bold; text-align: right;\">7</td><td style = \"text-align: left;\">re74</td><td style = \"text-align: right;\">2.09557</td><td style = \"text-align: right;\">0.0</td><td style = \"text-align: right;\">0.0</td><td style = \"text-align: right;\">35.0401</td><td style = \"text-align: right;\">0</td><td style = \"text-align: left;\">Float64</td></tr><tr><td class = \"rowNumber\" style = \"font-weight: bold; text-align: right;\">8</td><td style = \"text-align: left;\">re75</td><td style = \"text-align: right;\">1.53206</td><td style = \"text-align: right;\">0.0</td><td style = \"text-align: right;\">0.0</td><td style = \"text-align: right;\">25.1422</td><td style = \"text-align: right;\">0</td><td style = \"text-align: left;\">Float64</td></tr><tr><td class = \"rowNumber\" style = \"font-weight: bold; text-align: right;\">9</td><td style = \"text-align: left;\">re78</td><td style = \"text-align: right;\">6.34914</td><td style = \"text-align: right;\">0.0</td><td style = \"text-align: right;\">4.23231</td><td style = \"text-align: right;\">60.3079</td><td style = \"text-align: right;\">0</td><td style = \"text-align: left;\">Float64</td></tr></tbody></table></div>"
      ],
      "text/latex": [
       "\\begin{tabular}{r|ccccccc}\n",
       "\t& variable & mean & min & median & max & nmissing & eltype\\\\\n",
       "\t\\hline\n",
       "\t& Symbol & Float64 & Real & Float64 & Real & Int64 & DataType\\\\\n",
       "\t\\hline\n",
       "\t1 & age & 25.8162 & 17 & 25.0 & 48 & 0 & Int64 \\\\\n",
       "\t2 & educ & 10.3459 & 4 & 11.0 & 16 & 0 & Int64 \\\\\n",
       "\t3 & black & 0.843243 & 0 & 1.0 & 1 & 0 & Int64 \\\\\n",
       "\t4 & hisp & 0.0594595 & 0 & 0.0 & 1 & 0 & Int64 \\\\\n",
       "\t5 & marr & 0.189189 & 0 & 0.0 & 1 & 0 & Int64 \\\\\n",
       "\t6 & nodegree & 0.708108 & 0 & 1.0 & 1 & 0 & Int64 \\\\\n",
       "\t7 & re74 & 2.09557 & 0.0 & 0.0 & 35.0401 & 0 & Float64 \\\\\n",
       "\t8 & re75 & 1.53206 & 0.0 & 0.0 & 25.1422 & 0 & Float64 \\\\\n",
       "\t9 & re78 & 6.34914 & 0.0 & 4.23231 & 60.3079 & 0 & Float64 \\\\\n",
       "\\end{tabular}\n"
      ],
      "text/plain": [
       "\u001b[1m9×7 DataFrame\u001b[0m\n",
       "\u001b[1m Row \u001b[0m│\u001b[1m variable \u001b[0m\u001b[1m mean       \u001b[0m\u001b[1m min  \u001b[0m\u001b[1m median   \u001b[0m\u001b[1m max     \u001b[0m\u001b[1m nmissing \u001b[0m\u001b[1m eltype   \u001b[0m\n",
       "     │\u001b[90m Symbol   \u001b[0m\u001b[90m Float64    \u001b[0m\u001b[90m Real \u001b[0m\u001b[90m Float64  \u001b[0m\u001b[90m Real    \u001b[0m\u001b[90m Int64    \u001b[0m\u001b[90m DataType \u001b[0m\n",
       "─────┼───────────────────────────────────────────────────────────────────\n",
       "   1 │ age       25.8162     17    25.0      48              0  Int64\n",
       "   2 │ educ      10.3459      4    11.0      16              0  Int64\n",
       "   3 │ black      0.843243    0     1.0       1              0  Int64\n",
       "   4 │ hisp       0.0594595   0     0.0       1              0  Int64\n",
       "   5 │ marr       0.189189    0     0.0       1              0  Int64\n",
       "   6 │ nodegree   0.708108    0     1.0       1              0  Int64\n",
       "   7 │ re74       2.09557     0.0   0.0      35.0401         0  Float64\n",
       "   8 │ re75       1.53206     0.0   0.0      25.1422         0  Float64\n",
       "   9 │ re78       6.34914     0.0   4.23231  60.3079         0  Float64"
      ]
     },
     "metadata": {},
     "output_type": "display_data"
    },
    {
     "data": {
      "text/plain": [
       "\"185×18 DataFrame\""
      ]
     },
     "metadata": {},
     "output_type": "display_data"
    }
   ],
   "source": [
    "display(describe(df_treatment[!, 2:10]))\n",
    "display(summary(df_treatment))"
   ]
  },
  {
   "cell_type": "code",
   "execution_count": 26,
   "metadata": {},
   "outputs": [
    {
     "data": {
      "text/html": [
       "<div><div style = \"float: left;\"><span>9×7 DataFrame</span></div><div style = \"clear: both;\"></div></div><div class = \"data-frame\" style = \"overflow-x: scroll;\"><table class = \"data-frame\" style = \"margin-bottom: 6px;\"><thead><tr class = \"header\"><th class = \"rowNumber\" style = \"font-weight: bold; text-align: right;\">Row</th><th style = \"text-align: left;\">variable</th><th style = \"text-align: left;\">mean</th><th style = \"text-align: left;\">min</th><th style = \"text-align: left;\">median</th><th style = \"text-align: left;\">max</th><th style = \"text-align: left;\">nmissing</th><th style = \"text-align: left;\">eltype</th></tr><tr class = \"subheader headerLastRow\"><th class = \"rowNumber\" style = \"font-weight: bold; text-align: right;\"></th><th title = \"Symbol\" style = \"text-align: left;\">Symbol</th><th title = \"Float64\" style = \"text-align: left;\">Float64</th><th title = \"Real\" style = \"text-align: left;\">Real</th><th title = \"Float64\" style = \"text-align: left;\">Float64</th><th title = \"Real\" style = \"text-align: left;\">Real</th><th title = \"Int64\" style = \"text-align: left;\">Int64</th><th title = \"DataType\" style = \"text-align: left;\">DataType</th></tr></thead><tbody><tr><td class = \"rowNumber\" style = \"font-weight: bold; text-align: right;\">1</td><td style = \"text-align: left;\">age</td><td style = \"text-align: right;\">33.2252</td><td style = \"text-align: right;\">16</td><td style = \"text-align: right;\">31.0</td><td style = \"text-align: right;\">55</td><td style = \"text-align: right;\">0</td><td style = \"text-align: left;\">Int64</td></tr><tr><td class = \"rowNumber\" style = \"font-weight: bold; text-align: right;\">2</td><td style = \"text-align: left;\">educ</td><td style = \"text-align: right;\">12.0275</td><td style = \"text-align: right;\">0</td><td style = \"text-align: right;\">12.0</td><td style = \"text-align: right;\">18</td><td style = \"text-align: right;\">0</td><td style = \"text-align: left;\">Int64</td></tr><tr><td class = \"rowNumber\" style = \"font-weight: bold; text-align: right;\">3</td><td style = \"text-align: left;\">black</td><td style = \"text-align: right;\">0.0735368</td><td style = \"text-align: right;\">0</td><td style = \"text-align: right;\">0.0</td><td style = \"text-align: right;\">1</td><td style = \"text-align: right;\">0</td><td style = \"text-align: left;\">Int64</td></tr><tr><td class = \"rowNumber\" style = \"font-weight: bold; text-align: right;\">4</td><td style = \"text-align: left;\">hisp</td><td style = \"text-align: right;\">0.072036</td><td style = \"text-align: right;\">0</td><td style = \"text-align: right;\">0.0</td><td style = \"text-align: right;\">1</td><td style = \"text-align: right;\">0</td><td style = \"text-align: left;\">Int64</td></tr><tr><td class = \"rowNumber\" style = \"font-weight: bold; text-align: right;\">5</td><td style = \"text-align: left;\">marr</td><td style = \"text-align: right;\">0.711731</td><td style = \"text-align: right;\">0</td><td style = \"text-align: right;\">1.0</td><td style = \"text-align: right;\">1</td><td style = \"text-align: right;\">0</td><td style = \"text-align: left;\">Int64</td></tr><tr><td class = \"rowNumber\" style = \"font-weight: bold; text-align: right;\">6</td><td style = \"text-align: left;\">nodegree</td><td style = \"text-align: right;\">0.295835</td><td style = \"text-align: right;\">0</td><td style = \"text-align: right;\">0.0</td><td style = \"text-align: right;\">1</td><td style = \"text-align: right;\">0</td><td style = \"text-align: left;\">Int64</td></tr><tr><td class = \"rowNumber\" style = \"font-weight: bold; text-align: right;\">7</td><td style = \"text-align: left;\">re74</td><td style = \"text-align: right;\">14.0168</td><td style = \"text-align: right;\">0.0</td><td style = \"text-align: right;\">15.1236</td><td style = \"text-align: right;\">25.8623</td><td style = \"text-align: right;\">0</td><td style = \"text-align: left;\">Float64</td></tr><tr><td class = \"rowNumber\" style = \"font-weight: bold; text-align: right;\">8</td><td style = \"text-align: left;\">re75</td><td style = \"text-align: right;\">13.6508</td><td style = \"text-align: right;\">0.0</td><td style = \"text-align: right;\">14.5571</td><td style = \"text-align: right;\">25.2436</td><td style = \"text-align: right;\">0</td><td style = \"text-align: left;\">Float64</td></tr><tr><td class = \"rowNumber\" style = \"font-weight: bold; text-align: right;\">9</td><td style = \"text-align: left;\">re78</td><td style = \"text-align: right;\">14.8467</td><td style = \"text-align: right;\">0.0</td><td style = \"text-align: right;\">16.422</td><td style = \"text-align: right;\">25.5647</td><td style = \"text-align: right;\">0</td><td style = \"text-align: left;\">Float64</td></tr></tbody></table></div>"
      ],
      "text/latex": [
       "\\begin{tabular}{r|ccccccc}\n",
       "\t& variable & mean & min & median & max & nmissing & eltype\\\\\n",
       "\t\\hline\n",
       "\t& Symbol & Float64 & Real & Float64 & Real & Int64 & DataType\\\\\n",
       "\t\\hline\n",
       "\t1 & age & 33.2252 & 16 & 31.0 & 55 & 0 & Int64 \\\\\n",
       "\t2 & educ & 12.0275 & 0 & 12.0 & 18 & 0 & Int64 \\\\\n",
       "\t3 & black & 0.0735368 & 0 & 0.0 & 1 & 0 & Int64 \\\\\n",
       "\t4 & hisp & 0.072036 & 0 & 0.0 & 1 & 0 & Int64 \\\\\n",
       "\t5 & marr & 0.711731 & 0 & 1.0 & 1 & 0 & Int64 \\\\\n",
       "\t6 & nodegree & 0.295835 & 0 & 0.0 & 1 & 0 & Int64 \\\\\n",
       "\t7 & re74 & 14.0168 & 0.0 & 15.1236 & 25.8623 & 0 & Float64 \\\\\n",
       "\t8 & re75 & 13.6508 & 0.0 & 14.5571 & 25.2436 & 0 & Float64 \\\\\n",
       "\t9 & re78 & 14.8467 & 0.0 & 16.422 & 25.5647 & 0 & Float64 \\\\\n",
       "\\end{tabular}\n"
      ],
      "text/plain": [
       "\u001b[1m9×7 DataFrame\u001b[0m\n",
       "\u001b[1m Row \u001b[0m│\u001b[1m variable \u001b[0m\u001b[1m mean       \u001b[0m\u001b[1m min  \u001b[0m\u001b[1m median  \u001b[0m\u001b[1m max     \u001b[0m\u001b[1m nmissing \u001b[0m\u001b[1m eltype   \u001b[0m\n",
       "     │\u001b[90m Symbol   \u001b[0m\u001b[90m Float64    \u001b[0m\u001b[90m Real \u001b[0m\u001b[90m Float64 \u001b[0m\u001b[90m Real    \u001b[0m\u001b[90m Int64    \u001b[0m\u001b[90m DataType \u001b[0m\n",
       "─────┼──────────────────────────────────────────────────────────────────\n",
       "   1 │ age       33.2252     16    31.0     55              0  Int64\n",
       "   2 │ educ      12.0275      0    12.0     18              0  Int64\n",
       "   3 │ black      0.0735368   0     0.0      1              0  Int64\n",
       "   4 │ hisp       0.072036    0     0.0      1              0  Int64\n",
       "   5 │ marr       0.711731    0     1.0      1              0  Int64\n",
       "   6 │ nodegree   0.295835    0     0.0      1              0  Int64\n",
       "   7 │ re74      14.0168      0.0  15.1236  25.8623         0  Float64\n",
       "   8 │ re75      13.6508      0.0  14.5571  25.2436         0  Float64\n",
       "   9 │ re78      14.8467      0.0  16.422   25.5647         0  Float64"
      ]
     },
     "metadata": {},
     "output_type": "display_data"
    },
    {
     "data": {
      "text/plain": [
       "\"15992×18 DataFrame\""
      ]
     },
     "metadata": {},
     "output_type": "display_data"
    }
   ],
   "source": [
    "display(describe(df_control[!, 2:10]))\n",
    "display(summary(df_control))"
   ]
  },
  {
   "cell_type": "code",
   "execution_count": 32,
   "metadata": {},
   "outputs": [
    {
     "data": {
      "text/plain": [
       "\"The National Supported Work Demonstration (NSW) was a job-training program designed in the mid-1970s to help disadvantaged workers that lacked basic job skills move into the labour market.\""
      ]
     },
     "metadata": {},
     "output_type": "display_data"
    },
    {
     "data": {
      "text/plain": [
       "\"For that goal they were to provide them with work experience and counselling in a sheltered environment (training).\""
      ]
     },
     "metadata": {},
     "output_type": "display_data"
    },
    {
     "data": {
      "text/plain": [
       "\"As such, we can observe that the group that received the treatment had overall fewer years of education compared to the control group.\""
      ]
     },
     "metadata": {},
     "output_type": "display_data"
    },
    {
     "data": {
      "text/plain": [
       "\"The treated group also consisted of mostly black people and were, in average, younger than the control group.\""
      ]
     },
     "metadata": {},
     "output_type": "display_data"
    }
   ],
   "source": [
    "display(\"The National Supported Work Demonstration (NSW) was a job-training program designed in the mid-1970s to help disadvantaged workers that lacked basic job skills move into the labour market.\")\n",
    "display(\"For that goal they were to provide them with work experience and counselling in a sheltered environment (training).\")\n",
    "display(\"As such, we can observe that the group that received the treatment had overall fewer years of education compared to the control group.\")\n",
    "display(\"The treated group also consisted of mostly black people and were, in average, younger than the control group.\")"
   ]
  },
  {
   "cell_type": "markdown",
   "metadata": {},
   "source": [
    "2.3 Compute the SMD"
   ]
  },
  {
   "cell_type": "code",
   "execution_count": 41,
   "metadata": {},
   "outputs": [
    {
     "data": {
      "text/plain": [
       "Table{Union{AbstractVector{Continuous}, AbstractVector{Count}}}"
      ]
     },
     "execution_count": 41,
     "metadata": {},
     "output_type": "execute_result"
    }
   ],
   "source": [
    "#For the SMD we must first identify our variables:\n",
    "\n",
    "y = df[!, 10];\n",
    "d = df[!, 1];\n",
    "x = df[:, Not([1, 10])];\n",
    "scitype(x)"
   ]
  },
  {
   "cell_type": "code",
   "execution_count": 42,
   "metadata": {},
   "outputs": [],
   "source": [
    "#And fix the variable x to continue the analysis\n",
    "coerce!(x, Count => MLJ.Continuous);"
   ]
  },
  {
   "cell_type": "code",
   "execution_count": null,
   "metadata": {},
   "outputs": [
    {
     "data": {
      "text/html": [
       "<div><div style = \"float: left;\"><span>DataFrameRow (7 columns)</span></div><div style = \"clear: both;\"></div></div><div class = \"data-frame\" style = \"overflow-x: scroll;\"><table class = \"data-frame\" style = \"margin-bottom: 6px;\"><thead><tr class = \"header\"><th class = \"rowLabel\" style = \"font-weight: bold; text-align: right;\">Row</th><th style = \"text-align: left;\">Name</th><th style = \"text-align: left;\">Estimate</th><th style = \"text-align: left;\">Std. Error</th><th style = \"text-align: left;\">t-stat</th><th style = \"text-align: left;\">Pr(&gt;|t|)</th><th style = \"text-align: left;\">Lower 95%</th><th style = \"text-align: left;\">Upper 95%</th></tr><tr class = \"subheader headerLastRow\"><th class = \"rowLabel\" style = \"font-weight: bold; text-align: right;\"></th><th title = \"String\" style = \"text-align: left;\">String</th><th title = \"Float64\" style = \"text-align: left;\">Float64</th><th title = \"Float64\" style = \"text-align: left;\">Float64</th><th title = \"Float64\" style = \"text-align: left;\">Float64</th><th title = \"Float64\" style = \"text-align: left;\">Float64</th><th title = \"Float64\" style = \"text-align: left;\">Float64</th><th title = \"Float64\" style = \"text-align: left;\">Float64</th></tr></thead><tbody><tr><td class = \"rowLabel\" style = \"font-weight: bold; text-align: right;\">1</td><td style = \"text-align: left;\">treat</td><td style = \"text-align: right;\">-8.9366e-14</td><td style = \"text-align: right;\">1.1747e-14</td><td style = \"text-align: right;\">-7.60755</td><td style = \"text-align: right;\">2.9469e-14</td><td style = \"text-align: right;\">-1.12392e-13</td><td style = \"text-align: right;\">-6.63406e-14</td></tr></tbody></table></div>"
      ],
      "text/latex": [
       "\\begin{tabular}{r|ccccccc}\n",
       "\t& Name & Estimate & Std. Error & t-stat & Pr(>|t|) & Lower 95\\% & Upper 95\\%\\\\\n",
       "\t\\hline\n",
       "\t& String & Float64 & Float64 & Float64 & Float64 & Float64 & Float64\\\\\n",
       "\t\\hline\n",
       "\t1 & treat & -8.9366e-14 & 1.1747e-14 & -7.60755 & 2.9469e-14 & -1.12392e-13 & -6.63406e-14 \\\\\n",
       "\\end{tabular}\n"
      ],
      "text/plain": [
       "\u001b[1mDataFrameRow\u001b[0m\n",
       "\u001b[1m Row \u001b[0m│\u001b[1m Name   \u001b[0m\u001b[1m Estimate    \u001b[0m\u001b[1m Std. Error \u001b[0m\u001b[1m t-stat   \u001b[0m\u001b[1m Pr(>|t|)   \u001b[0m\u001b[1m Lower 95%    \u001b[0m\u001b[1m Up\u001b[0m ⋯\n",
       "     │\u001b[90m String \u001b[0m\u001b[90m Float64     \u001b[0m\u001b[90m Float64    \u001b[0m\u001b[90m Float64  \u001b[0m\u001b[90m Float64    \u001b[0m\u001b[90m Float64      \u001b[0m\u001b[90m Fl\u001b[0m ⋯\n",
       "─────┼──────────────────────────────────────────────────────────────────────────\n",
       "   1 │ treat   -8.9366e-14  1.1747e-14  -7.60755  2.9469e-14  -1.12392e-13  -6 ⋯\n",
       "\u001b[36m                                                                1 column omitted\u001b[0m"
      ]
     },
     "execution_count": 43,
     "metadata": {},
     "output_type": "execute_result"
    },
    {
     "name": "stderr",
     "output_type": "stream",
     "text": [
      "WARNING: both MLJ and MLBase export \"recall\"; uses of it in module Main must be qualified\n"
     ]
    }
   ],
   "source": [
    "#Find the SMD or naive ATE\n",
    "fm = term(:re78) ~ term(:treat) + sum(term.(Symbol.(names(df[Not([1, 10]), :]))));\n",
    "lres = reg(df, fm);\n",
    "first(DataFrame(GLM.coeftable(lres)))"
   ]
  },
  {
   "cell_type": "code",
   "execution_count": null,
   "metadata": {},
   "outputs": [],
   "source": [
    "display(\"The Naive ATE we found seems to be very small and comparative to 0.\"\n",
    "display(\"In comparison to what was found using causal trees and forests, we can see a great gap between the two results.\")"
   ]
  },
  {
   "cell_type": "markdown",
   "metadata": {},
   "source": [
    "2.4 Use DML to find a better estimate of the ATE"
   ]
  },
  {
   "cell_type": "code",
   "execution_count": 47,
   "metadata": {},
   "outputs": [
    {
     "data": {
      "text/plain": [
       "summarize (generic function with 1 method)"
      ]
     },
     "execution_count": 47,
     "metadata": {},
     "output_type": "execute_result"
    }
   ],
   "source": [
    "function training_sample_append(cv_split, test_sample_index)\n",
    "    training_indices = []\n",
    "    for vector in cv_split[Not(test_sample_index)]\n",
    "        training_indices = [training_indices; vector]\n",
    "    end\n",
    "    return training_indices, cv_split[test_sample_index]\n",
    "end\n",
    "\n",
    "function dml(x, d, y, dreg, yreg, nfold)\n",
    "    n = length(y)\n",
    "    cv = [partition(eachindex(y), fill(1 / nfold, nfold - 1)..., shuffle=true, rng=1234)...]\n",
    "    machine_y = machine(yreg, x, y, scitype_check_level=0)\n",
    "    machine_d = machine(dreg, x, d, scitype_check_level=0)\n",
    "    y_hat = zeros(n)\n",
    "    d_hat = zeros(n)\n",
    "\n",
    "    for fold in 1:nfold\n",
    "        training_fold, test_fold = training_sample_append(cv, fold)\n",
    "        y_hat[test_fold] = MLJ.predict(MLJ.fit!(machine_y, rows=training_fold), x[test_fold, :])\n",
    "        d_hat[test_fold] = MLJ.predict(MLJ.fit!(machine_d, rows=training_fold), x[test_fold, :])\n",
    "    end\n",
    "\n",
    "    resy = y .- y_hat\n",
    "    resd = reshape(d .- d_hat, (n, 1))\n",
    "    estimate = lm(resd, resy)\n",
    "    coef_est = GLM.coef(estimate)[1]\n",
    "    se = GLM.coeftable(estimate).cols[2][1]\n",
    "    println(\" coef (se) = \", coef_est, \"(\", se, \")\")\n",
    "    return coef_est, se, resy, resd\n",
    "end\n",
    "\n",
    "function summarize(point, stderr, resy, resd, name)\n",
    "    return DataFrame(\n",
    "        model=[name],\n",
    "        estimate=[point], stderr=[stderr],\n",
    "        rmse_y=[sqrt(mean(resy .^ 2))],\n",
    "        rmse_d=[sqrt(mean(resd .^ 2))]\n",
    "    )\n",
    "end"
   ]
  },
  {
   "cell_type": "code",
   "execution_count": 50,
   "metadata": {},
   "outputs": [
    {
     "name": "stderr",
     "output_type": "stream",
     "text": [
      "\u001b[32m\u001b[1m   Resolving\u001b[22m\u001b[39m package versions...\n",
      "\u001b[32m\u001b[1m   Installed\u001b[22m\u001b[39m CondaPkg ──────────────── v0.2.24\n",
      "\u001b[32m\u001b[1m   Installed\u001b[22m\u001b[39m UnsafePointers ────────── v1.0.0\n",
      "\u001b[32m\u001b[1m   Installed\u001b[22m\u001b[39m micromamba_jll ────────── v1.5.8+0\n",
      "\u001b[32m\u001b[1m   Installed\u001b[22m\u001b[39m MLJScikitLearnInterface ─ v0.7.0\n",
      "\u001b[32m\u001b[1m   Installed\u001b[22m\u001b[39m Pidfile ───────────────── v1.3.0\n",
      "\u001b[32m\u001b[1m   Installed\u001b[22m\u001b[39m StructTypes ───────────── v1.11.0\n",
      "\u001b[32m\u001b[1m   Installed\u001b[22m\u001b[39m JSON3 ─────────────────── v1.14.1\n",
      "\u001b[32m\u001b[1m   Installed\u001b[22m\u001b[39m PythonCall ────────────── v0.9.23\n",
      "\u001b[32m\u001b[1m   Installed\u001b[22m\u001b[39m MicroMamba ────────────── v0.1.14\n",
      "\u001b[32m\u001b[1m    Updating\u001b[22m\u001b[39m `C:\\Users\\sophi\\.julia\\environments\\v1.10\\Project.toml`\n",
      "  \u001b[90m[5ae90465] \u001b[39m\u001b[92m+ MLJScikitLearnInterface v0.7.0\u001b[39m\n",
      "\u001b[32m\u001b[1m    Updating\u001b[22m\u001b[39m `C:\\Users\\sophi\\.julia\\environments\\v1.10\\Manifest.toml`\n",
      "  \u001b[90m[992eb4ea] \u001b[39m\u001b[92m+ CondaPkg v0.2.24\u001b[39m\n",
      "  \u001b[90m[0f8b85d8] \u001b[39m\u001b[92m+ JSON3 v1.14.1\u001b[39m\n",
      "  \u001b[90m[5ae90465] \u001b[39m\u001b[92m+ MLJScikitLearnInterface v0.7.0\u001b[39m\n",
      "  \u001b[90m[0b3b1443] \u001b[39m\u001b[92m+ MicroMamba v0.1.14\u001b[39m\n",
      "  \u001b[90m[fa939f87] \u001b[39m\u001b[92m+ Pidfile v1.3.0\u001b[39m\n",
      "  \u001b[90m[6099a3de] \u001b[39m\u001b[92m+ PythonCall v0.9.23\u001b[39m\n",
      "  \u001b[90m[856f2bd8] \u001b[39m\u001b[92m+ StructTypes v1.11.0\u001b[39m\n",
      "  \u001b[90m[e17b2a0c] \u001b[39m\u001b[92m+ UnsafePointers v1.0.0\u001b[39m\n",
      "  \u001b[90m[f8abcde7] \u001b[39m\u001b[92m+ micromamba_jll v1.5.8+0\u001b[39m\n",
      "\u001b[32m\u001b[1mPrecompiling\u001b[22m\u001b[39m project...\n",
      "\u001b[32m  ✓ \u001b[39m\u001b[90mmicromamba_jll\u001b[39m\n",
      "\u001b[32m  ✓ \u001b[39m\u001b[90mPidfile\u001b[39m\n",
      "\u001b[32m  ✓ \u001b[39m\u001b[90mUnsafePointers\u001b[39m\n",
      "\u001b[32m  ✓ \u001b[39m\u001b[90mStructTypes\u001b[39m\n",
      "\u001b[32m  ✓ \u001b[39m\u001b[90mPolynomials → PolynomialsChainRulesCoreExt\u001b[39m\n",
      "\u001b[32m  ✓ \u001b[39m\u001b[90mWidgets\u001b[39m\n",
      "\u001b[32m  ✓ \u001b[39m\u001b[90mLearnBase\u001b[39m\n",
      "\u001b[91m  ✗ \u001b[39m\u001b[90mBinaryProvider\u001b[39m\n",
      "\u001b[32m  ✓ \u001b[39m\u001b[90mPolynomials → PolynomialsFFTWExt\u001b[39m\n",
      "\u001b[32m  ✓ \u001b[39m\u001b[90mClustering\u001b[39m\n",
      "\u001b[32m  ✓ \u001b[39m\u001b[90mCategoricalArrays → CategoricalArraysStructTypesExt\u001b[39m\n",
      "\u001b[32m  ✓ \u001b[39m\u001b[90mMultivariateStats\u001b[39m\n",
      "\u001b[32m  ✓ \u001b[39mGLMNet\n",
      "\u001b[32m  ✓ \u001b[39m\u001b[90mMLLabelUtils\u001b[39m\n",
      "\u001b[91m  ✗ \u001b[39m\u001b[90mFFMPEG\u001b[39m\n",
      "\u001b[32m  ✓ \u001b[39mMLJDecisionTreeInterface\n",
      "\u001b[32m  ✓ \u001b[39m\u001b[90mMicroMamba\u001b[39m\n",
      "\u001b[32m  ✓ \u001b[39m\u001b[90mMLDataPattern\u001b[39m\n",
      "\u001b[32m  ✓ \u001b[39m\u001b[90mDSP\u001b[39m\n",
      "\u001b[32m  ✓ \u001b[39mMLDataUtils\n",
      "\u001b[32m  ✓ \u001b[39m\u001b[90mJSON3\u001b[39m\n",
      "\u001b[32m  ✓ \u001b[39mLasso\n",
      "\u001b[32m  ✓ \u001b[39m\u001b[90mCondaPkg\u001b[39m\n",
      "\u001b[91m  ✗ \u001b[39m\u001b[90mPlots\u001b[39m\n",
      "\u001b[32m  ✓ \u001b[39m\u001b[90mPythonCall\u001b[39m\n",
      "\u001b[91m  ✗ \u001b[39m\u001b[90mPlots → UnitfulExt\u001b[39m\n",
      "\u001b[91m  ✗ \u001b[39m\u001b[90mPlots → IJuliaExt\u001b[39m\n",
      "\u001b[91m  ✗ \u001b[39m\u001b[90mPlots → FileIOExt\u001b[39m\n",
      "\u001b[91m  ✗ \u001b[39mStatsPlots\n",
      "\u001b[32m  ✓ \u001b[39mMLJScikitLearnInterface\n",
      "  23 dependencies successfully precompiled in 323 seconds. 348 already precompiled.\n",
      "  \u001b[33m2\u001b[39m dependencies had output during precompilation:\u001b[33m\n",
      "┌ \u001b[39mMicroMamba\u001b[33m\n",
      "│  \u001b[39m\u001b[32m\u001b[1m Downloading\u001b[22m\u001b[39m artifact: micromamba\u001b[33m\n",
      "└  \u001b[39m\u001b[33m\n",
      "┌ \u001b[39mMLJScikitLearnInterface\u001b[33m\n",
      "│  \u001b[39m\u001b[32m\u001b[1m    CondaPkg \u001b[22m\u001b[39m\u001b[0mFound dependencies: C:\\Users\\sophi\\.julia\\packages\\MLJScikitLearnInterface\\xHP4R\\CondaPkg.toml\u001b[33m\n",
      "│  \u001b[39m\u001b[32m\u001b[1m    CondaPkg \u001b[22m\u001b[39m\u001b[0mFound dependencies: C:\\Users\\sophi\\.julia\\packages\\PythonCall\\Nr75f\\CondaPkg.toml\u001b[33m\n",
      "│  \u001b[39m\u001b[32m\u001b[1m    CondaPkg \u001b[22m\u001b[39m\u001b[0mResolving changes\u001b[33m\n",
      "│  \u001b[39m\u001b[32m\u001b[1m             \u001b[22m\u001b[39m\u001b[32m+ openssl\u001b[39m\u001b[33m\n",
      "│  \u001b[39m\u001b[32m\u001b[1m             \u001b[22m\u001b[39m\u001b[32m+ python\u001b[39m\u001b[33m\n",
      "│  \u001b[39m\u001b[32m\u001b[1m             \u001b[22m\u001b[39m\u001b[32m+ scikit-learn\u001b[39m\u001b[33m\n",
      "│  \u001b[39m\u001b[32m\u001b[1m    CondaPkg \u001b[22m\u001b[39m\u001b[0mCreating environment\u001b[33m\n",
      "│  \u001b[39m\u001b[32m\u001b[1m             \u001b[22m\u001b[39m│ \u001b[90mC:\\Users\\sophi\\.julia\\artifacts\\cba433181fa6470b206db49415f1b7593a9d25ff\\bin\\micromamba.exe\u001b[39m\u001b[33m\n",
      "│  \u001b[39m\u001b[32m\u001b[1m             \u001b[22m\u001b[39m│ \u001b[90m-r C:\\Users\\sophi\\.julia\\scratchspaces\\0b3b1443-0f03-428d-bdfb-f27f9c1191ea\\root\u001b[39m\u001b[33m\n",
      "│  \u001b[39m\u001b[32m\u001b[1m             \u001b[22m\u001b[39m│ \u001b[90mcreate\u001b[39m\u001b[33m\n",
      "│  \u001b[39m\u001b[32m\u001b[1m             \u001b[22m\u001b[39m│ \u001b[90m-y\u001b[39m\u001b[33m\n",
      "│  \u001b[39m\u001b[32m\u001b[1m             \u001b[22m\u001b[39m│ \u001b[90m-p C:\\Users\\sophi\\.julia\\environments\\v1.10\\.CondaPkg\\env\u001b[39m\u001b[33m\n",
      "│  \u001b[39m\u001b[32m\u001b[1m             \u001b[22m\u001b[39m│ \u001b[90m--override-channels\u001b[39m\u001b[33m\n",
      "│  \u001b[39m\u001b[32m\u001b[1m             \u001b[22m\u001b[39m│ \u001b[90m--no-channel-priority\u001b[39m\u001b[33m\n",
      "│  \u001b[39m\u001b[32m\u001b[1m             \u001b[22m\u001b[39m│ \u001b[90mopenssl[version='>=3, <3.1']\u001b[39m\u001b[33m\n",
      "│  \u001b[39m\u001b[32m\u001b[1m             \u001b[22m\u001b[39m│ \u001b[90mpython[version='>=3.8,<4',channel='conda-forge',build='*cpython*']\u001b[39m\u001b[33m\n",
      "│  \u001b[39m\u001b[32m\u001b[1m             \u001b[22m\u001b[39m│ \u001b[90mscikit-learn[version='>=1.4, <1.6',channel='conda-forge']\u001b[39m\u001b[33m\n",
      "│  \u001b[39m\u001b[32m\u001b[1m             \u001b[22m\u001b[39m└ \u001b[90m-c conda-forge\u001b[39m\u001b[33m\n",
      "\u001b[33m39m\n",
      "\u001b[33m39mTransaction\n",
      "\u001b[33m39m\n",
      "\u001b[33m39m  Prefix: C:\\Users\\sophi\\.julia\\environments\\v1.10\\.CondaPkg\\env\n",
      "\u001b[33m39m\n",
      "\u001b[33m39m  Updating specs:\n",
      "\u001b[33m39m\n",
      "\u001b[33m39m   - openssl[version='>=3, <3.1']\n",
      "\u001b[33m39m   - conda-forge::python[version='>=3.8,<4',build=*cpython*]\n",
      "\u001b[33m39m   - conda-forge::scikit-learn[version='>=1.4, <1.6']\n",
      "\u001b[33m39m\n",
      "\u001b[33m39m\n",
      "\u001b[33m39m  Package                          Version  Build                  Channel          Size\n",
      "\u001b[33m39m------------------------------------------------------------------------------------------\n",
      "\u001b[33m39m  Install:\n",
      "\u001b[33m39m------------------------------------------------------------------------------------------\n",
      "\u001b[33m39m\n",
      "\u001b[33m39m  + python_abi                        3.11  5_cp311                conda-forge       7kB\n",
      "\u001b[33m39m  + ucrt                      10.0.22621.0  h57928b3_1             conda-forge     560kB\n",
      "\u001b[33m39m  + ca-certificates              2024.8.30  h56e8100_0             conda-forge     159kB\n",
      "\u001b[33m39m  + intel-openmp                  2024.2.1  h57928b3_1083          conda-forge       2MB\n",
      "\u001b[33m39m  + libwinpthread    12.0.0.r4.gg4f2fc60ca  h57928b3_8             conda-forge      35kB\n",
      "\u001b[33m39m  + vc14_runtime               14.42.34433  he29a5d6_23            conda-forge     754kB\n",
      "\u001b[33m39m  + vc                                14.3  ha32ba9b_23            conda-forge      17kB\n",
      "\u001b[33m39m  + vs2015_runtime             14.42.34433  hdffcdeb_23            conda-forge      18kB\n",
      "\u001b[33m39m  + libiconv                          1.17  hcfcfb64_2             conda-forge     636kB\n",
      "\u001b[33m39m  + tk                              8.6.13  h5226925_1             conda-forge       4MB\n",
      "\u001b[33m39m  + libzlib                          1.3.1  h2466b09_2             conda-forge      55kB\n",
      "\u001b[33m39m  + libsqlite                       3.47.0  h2466b09_1             conda-forge     892kB\n",
      "\u001b[33m39m  + bzip2                            1.0.8  h2466b09_7             conda-forge      55kB\n",
      "\u001b[33m39m  + openssl                         3.0.14  h2466b09_0             conda-forge       7MB\n",
      "\u001b[33m39m  + libffi                           3.4.2  h8ffe710_5             conda-forge      42kB\n",
      "\u001b[33m39m  + xz                               5.2.6  h8d14728_0             conda-forge     218kB\n",
      "\u001b[33m39m  + libxml2                         2.13.5  h442d1da_0             conda-forge       2MB\n",
      "\u001b[33m39m  + libhwloc                        2.11.2  default_ha69328c_1001  conda-forge       2MB\n",
      "\u001b[33m39m  + tbb                          2021.13.0  h62715c5_1             conda-forge     151kB\n",
      "\u001b[33m39m  + mkl                           2024.2.2  h66d3029_14            conda-forge     103MB\n",
      "\u001b[33m39m  + libblas                          3.9.0  25_win64_mkl           conda-forge       4MB\n",
      "\u001b[33m39m  + libcblas                         3.9.0  25_win64_mkl           conda-forge       4MB\n",
      "\u001b[33m39m  + liblapack                        3.9.0  25_win64_mkl           conda-forge       4MB\n",
      "\u001b[33m39m  + tzdata                           2024b  hc8b5060_0             conda-forge     122kB\n",
      "\u001b[33m39m  + python                          3.11.0  hcf16a7b_0_cpython     conda-forge      20MB\n",
      "\u001b[33m39m  + wheel                           0.45.1  pyhd8ed1ab_1           conda-forge      63kB\n",
      "\u001b[33m39m  + setuptools                      75.6.0  pyhff2d567_1           conda-forge     774kB\n",
      "\u001b[33m39m  + pip                             24.3.1  pyh8b19718_0           conda-forge       1MB\n",
      "\u001b[33m39m  + threadpoolctl                    3.5.0  pyhc1e730c_0           conda-forge      24kB\n",
      "\u001b[33m39m  + joblib                           1.4.2  pyhd8ed1ab_0           conda-forge     220kB\n",
      "\u001b[33m39m  + numpy                            2.1.3  py311h35ffc71_0        conda-forge       8MB\n",
      "\u001b[33m39m  + scipy                           1.14.1  py311hf16d85f_1        conda-forge      16MB\n",
      "\u001b[33m39m  + scikit-learn                     1.5.2  py311hdcb8d17_1        conda-forge       9MB\n",
      "\u001b[33m39m\n",
      "\u001b[33m39m  Summary:\n",
      "\u001b[33m39m\n",
      "\u001b[33m39m  Install: 33 packages\n",
      "\u001b[33m39m\n",
      "\u001b[33m39m  Total download: 189MB\n",
      "\u001b[33m39m\n",
      "\u001b[33m39m------------------------------------------------------------------------------------------\n",
      "\u001b[33m39m\n",
      "\u001b[33m39m\n",
      "\u001b[33m39m\n",
      "\u001b[33m39mTransaction starting\n",
      "\u001b[33m39mLinking python_abi-3.11-5_cp311\n",
      "\u001b[33m39mLinking ucrt-10.0.22621.0-h57928b3_1\n",
      "\u001b[33m39mLinking ca-certificates-2024.8.30-h56e8100_0\n",
      "\u001b[33m39mLinking intel-openmp-2024.2.1-h57928b3_1083\n",
      "\u001b[33m39mLinking libwinpthread-12.0.0.r4.gg4f2fc60ca-h57928b3_8\n",
      "\u001b[33m39mLinking vc14_runtime-14.42.34433-he29a5d6_23\n",
      "\u001b[33m39mLinking vc-14.3-ha32ba9b_23\n",
      "\u001b[33m39mLinking vs2015_runtime-14.42.34433-hdffcdeb_23\n",
      "\u001b[33m39mLinking libiconv-1.17-hcfcfb64_2\n",
      "\u001b[33m39mLinking tk-8.6.13-h5226925_1\n",
      "\u001b[33m39mLinking libzlib-1.3.1-h2466b09_2\n",
      "\u001b[33m39mLinking libsqlite-3.47.0-h2466b09_1\n",
      "\u001b[33m39mLinking bzip2-1.0.8-h2466b09_7\n",
      "\u001b[33m39mLinking openssl-3.0.14-h2466b09_0\n",
      "\u001b[33m39mLinking libffi-3.4.2-h8ffe710_5\n",
      "\u001b[33m39mLinking xz-5.2.6-h8d14728_0\n",
      "\u001b[33m39mLinking libxml2-2.13.5-h442d1da_0\n",
      "\u001b[33m39mLinking libhwloc-2.11.2-default_ha69328c_1001\n",
      "\u001b[33m39mLinking tbb-2021.13.0-h62715c5_1\n",
      "\u001b[33m39mLinking mkl-2024.2.2-h66d3029_14\n",
      "\u001b[33m39mLinking libblas-3.9.0-25_win64_mkl\n",
      "\u001b[33m39mLinking libcblas-3.9.0-25_win64_mkl\n",
      "\u001b[33m39mLinking liblapack-3.9.0-25_win64_mkl\n",
      "\u001b[33m39mLinking tzdata-2024b-hc8b5060_0\n",
      "\u001b[33m39mLinking python-3.11.0-hcf16a7b_0_cpython\n",
      "\u001b[33m39mLinking wheel-0.45.1-pyhd8ed1ab_1\n",
      "\u001b[33m39mLinking setuptools-75.6.0-pyhff2d567_1\n",
      "\u001b[33m39mLinking pip-24.3.1-pyh8b19718_0\n",
      "\u001b[33m39mLinking threadpoolctl-3.5.0-pyhc1e730c_0\n",
      "\u001b[33m39mLinking joblib-1.4.2-pyhd8ed1ab_0\n",
      "\u001b[33m39mLinking numpy-2.1.3-py311h35ffc71_0\n",
      "\u001b[33m39mLinking scipy-1.14.1-py311hf16d85f_1\n",
      "\u001b[33m39mLinking scikit-learn-1.5.2-py311hdcb8d17_1\n",
      "\u001b[33m39m\n",
      "\u001b[33m39mTransaction finished\n",
      "\u001b[33m39m\n",
      "\u001b[33m39mTo activate this environment, use:\n",
      "\u001b[33m39m\n",
      "\u001b[33m39m    micromamba activate C:\\Users\\sophi\\.julia\\environments\\v1.10\\.CondaPkg\\env\n",
      "\u001b[33m39m\n",
      "\u001b[33m39mOr to execute a single command in this environment, use:\n",
      "\u001b[33m39m\n",
      "│  \u001b[39m    micromamba run -p C:\\Users\\sophi\\.julia\\environments\\v1.10\\.CondaPkg\\env mycommand\u001b[33m\n",
      "└  \u001b[39m\n",
      "  \u001b[91m7\u001b[39m dependencies errored.\n",
      "  For a report of the errors see `julia> err`. To retry use `pkg> precompile`\n"
     ]
    }
   ],
   "source": [
    "import Pkg\n",
    "Pkg.add(\"MLJScikitLearnInterface\")"
   ]
  },
  {
   "cell_type": "code",
   "execution_count": 51,
   "metadata": {},
   "outputs": [
    {
     "name": "stderr",
     "output_type": "stream",
     "text": [
      "\u001b[36m\u001b[1m[ \u001b[22m\u001b[39m\u001b[36m\u001b[1mInfo: \u001b[22m\u001b[39mTraining machine(DeterministicPipeline(standardizer = Standardizer(features = Symbol[], …), …), …).\n",
      "\u001b[36m\u001b[1m[ \u001b[22m\u001b[39m\u001b[36m\u001b[1mInfo: \u001b[22m\u001b[39mTraining machine(:standardizer, …).\n",
      "\u001b[36m\u001b[1m[ \u001b[22m\u001b[39m\u001b[36m\u001b[1mInfo: \u001b[22m\u001b[39mTraining machine(:linear_regressor, …).\n",
      "\u001b[36m\u001b[1m[ \u001b[22m\u001b[39m\u001b[36m\u001b[1mInfo: \u001b[22m\u001b[39mTraining machine(DeterministicPipeline(standardizer = Standardizer(features = Symbol[], …), …), …).\n",
      "\u001b[36m\u001b[1m[ \u001b[22m\u001b[39m\u001b[36m\u001b[1mInfo: \u001b[22m\u001b[39mTraining machine(:standardizer, …).\n",
      "\u001b[36m\u001b[1m[ \u001b[22m\u001b[39m\u001b[36m\u001b[1mInfo: \u001b[22m\u001b[39mTraining machine(:linear_regressor, …).\n",
      "\u001b[36m\u001b[1m[ \u001b[22m\u001b[39m\u001b[36m\u001b[1mInfo: \u001b[22m\u001b[39mTraining machine(DeterministicPipeline(standardizer = Standardizer(features = Symbol[], …), …), …).\n",
      "\u001b[36m\u001b[1m[ \u001b[22m\u001b[39m\u001b[36m\u001b[1mInfo: \u001b[22m\u001b[39mTraining machine(:standardizer, …).\n",
      "\u001b[36m\u001b[1m[ \u001b[22m\u001b[39m\u001b[36m\u001b[1mInfo: \u001b[22m\u001b[39mTraining machine(:linear_regressor, …).\n",
      "\u001b[36m\u001b[1m[ \u001b[22m\u001b[39m\u001b[36m\u001b[1mInfo: \u001b[22m\u001b[39mTraining machine(DeterministicPipeline(standardizer = Standardizer(features = Symbol[], …), …), …).\n",
      "\u001b[36m\u001b[1m[ \u001b[22m\u001b[39m\u001b[36m\u001b[1mInfo: \u001b[22m\u001b[39mTraining machine(:standardizer, …).\n",
      "\u001b[36m\u001b[1m[ \u001b[22m\u001b[39m\u001b[36m\u001b[1mInfo: \u001b[22m\u001b[39mTraining machine(:linear_regressor, …).\n",
      "\u001b[36m\u001b[1m[ \u001b[22m\u001b[39m\u001b[36m\u001b[1mInfo: \u001b[22m\u001b[39mTraining machine(DeterministicPipeline(standardizer = Standardizer(features = Symbol[], …), …), …).\n",
      "\u001b[36m\u001b[1m[ \u001b[22m\u001b[39m\u001b[36m\u001b[1mInfo: \u001b[22m\u001b[39mTraining machine(:standardizer, …).\n",
      "\u001b[36m\u001b[1m[ \u001b[22m\u001b[39m\u001b[36m\u001b[1mInfo: \u001b[22m\u001b[39mTraining machine(:linear_regressor, …).\n",
      "\u001b[36m\u001b[1m[ \u001b[22m\u001b[39m\u001b[36m\u001b[1mInfo: \u001b[22m\u001b[39mTraining machine(DeterministicPipeline(standardizer = Standardizer(features = Symbol[], …), …), …).\n",
      "\u001b[36m\u001b[1m[ \u001b[22m\u001b[39m\u001b[36m\u001b[1mInfo: \u001b[22m\u001b[39mTraining machine(:standardizer, …).\n",
      "\u001b[36m\u001b[1m[ \u001b[22m\u001b[39m\u001b[36m\u001b[1mInfo: \u001b[22m\u001b[39mTraining machine(:linear_regressor, …).\n",
      "\u001b[36m\u001b[1m[ \u001b[22m\u001b[39m\u001b[36m\u001b[1mInfo: \u001b[22m\u001b[39mTraining machine(DeterministicPipeline(standardizer = Standardizer(features = Symbol[], …), …), …).\n",
      "\u001b[36m\u001b[1m[ \u001b[22m\u001b[39m\u001b[36m\u001b[1mInfo: \u001b[22m\u001b[39mTraining machine(:standardizer, …).\n",
      "\u001b[36m\u001b[1m[ \u001b[22m\u001b[39m\u001b[36m\u001b[1mInfo: \u001b[22m\u001b[39mTraining machine(:linear_regressor, …).\n",
      "\u001b[36m\u001b[1m[ \u001b[22m\u001b[39m\u001b[36m\u001b[1mInfo: \u001b[22m\u001b[39mTraining machine(DeterministicPipeline(standardizer = Standardizer(features = Symbol[], …), …), …).\n",
      "\u001b[36m\u001b[1m[ \u001b[22m\u001b[39m\u001b[36m\u001b[1mInfo: \u001b[22m\u001b[39mTraining machine(:standardizer, …).\n",
      "\u001b[36m\u001b[1m[ \u001b[22m\u001b[39m\u001b[36m\u001b[1mInfo: \u001b[22m\u001b[39mTraining machine(:linear_regressor, …).\n",
      "\u001b[36m\u001b[1m[ \u001b[22m\u001b[39m\u001b[36m\u001b[1mInfo: \u001b[22m\u001b[39mTraining machine(DeterministicPipeline(standardizer = Standardizer(features = Symbol[], …), …), …).\n",
      "\u001b[36m\u001b[1m[ \u001b[22m\u001b[39m\u001b[36m\u001b[1mInfo: \u001b[22m\u001b[39mTraining machine(:standardizer, …).\n",
      "\u001b[36m\u001b[1m[ \u001b[22m\u001b[39m\u001b[36m\u001b[1mInfo: \u001b[22m\u001b[39mTraining machine(:linear_regressor, …).\n",
      "\u001b[36m\u001b[1m[ \u001b[22m\u001b[39m\u001b[36m\u001b[1mInfo: \u001b[22m\u001b[39mTraining machine(DeterministicPipeline(standardizer = Standardizer(features = Symbol[], …), …), …).\n",
      "\u001b[36m\u001b[1m[ \u001b[22m\u001b[39m\u001b[36m\u001b[1mInfo: \u001b[22m\u001b[39mTraining machine(:standardizer, …).\n",
      "\u001b[36m\u001b[1m[ \u001b[22m\u001b[39m\u001b[36m\u001b[1mInfo: \u001b[22m\u001b[39mTraining machine(:linear_regressor, …).\n",
      "\u001b[36m\u001b[1m[ \u001b[22m\u001b[39m\u001b[36m\u001b[1mInfo: \u001b[22m\u001b[39mTraining machine(DeterministicPipeline(standardizer = Standardizer(features = Symbol[], …), …), …).\n",
      "\u001b[36m\u001b[1m[ \u001b[22m\u001b[39m\u001b[36m\u001b[1mInfo: \u001b[22m\u001b[39mTraining machine(:standardizer, …).\n",
      "\u001b[36m\u001b[1m[ \u001b[22m\u001b[39m\u001b[36m\u001b[1mInfo: \u001b[22m\u001b[39mTraining machine(:linear_regressor, …).\n",
      "\u001b[36m\u001b[1m[ \u001b[22m\u001b[39m\u001b[36m\u001b[1mInfo: \u001b[22m\u001b[39mTraining machine(DeterministicPipeline(standardizer = Standardizer(features = Symbol[], …), …), …).\n",
      "\u001b[36m\u001b[1m[ \u001b[22m\u001b[39m\u001b[36m\u001b[1mInfo: \u001b[22m\u001b[39mTraining machine(:standardizer, …).\n",
      "\u001b[36m\u001b[1m[ \u001b[22m\u001b[39m\u001b[36m\u001b[1mInfo: \u001b[22m\u001b[39mTraining machine(:linear_regressor, …).\n",
      "\u001b[36m\u001b[1m[ \u001b[22m\u001b[39m\u001b[36m\u001b[1mInfo: \u001b[22m\u001b[39mTraining machine(DeterministicPipeline(standardizer = Standardizer(features = Symbol[], …), …), …).\n",
      "\u001b[36m\u001b[1m[ \u001b[22m\u001b[39m\u001b[36m\u001b[1mInfo: \u001b[22m\u001b[39mTraining machine(:standardizer, …).\n",
      "\u001b[36m\u001b[1m[ \u001b[22m\u001b[39m\u001b[36m\u001b[1mInfo: \u001b[22m\u001b[39mTraining machine(:linear_regressor, …).\n",
      "\u001b[36m\u001b[1m[ \u001b[22m\u001b[39m\u001b[36m\u001b[1mInfo: \u001b[22m\u001b[39mTraining machine(DeterministicPipeline(standardizer = Standardizer(features = Symbol[], …), …), …).\n",
      "\u001b[36m\u001b[1m[ \u001b[22m\u001b[39m\u001b[36m\u001b[1mInfo: \u001b[22m\u001b[39mTraining machine(:standardizer, …).\n",
      "\u001b[36m\u001b[1m[ \u001b[22m\u001b[39m\u001b[36m\u001b[1mInfo: \u001b[22m\u001b[39mTraining machine(:linear_regressor, …).\n",
      "\u001b[36m\u001b[1m[ \u001b[22m\u001b[39m\u001b[36m\u001b[1mInfo: \u001b[22m\u001b[39mTraining machine(DeterministicPipeline(standardizer = Standardizer(features = Symbol[], …), …), …).\n",
      "\u001b[36m\u001b[1m[ \u001b[22m\u001b[39m\u001b[36m\u001b[1mInfo: \u001b[22m\u001b[39mTraining machine(:standardizer, …).\n",
      "\u001b[36m\u001b[1m[ \u001b[22m\u001b[39m\u001b[36m\u001b[1mInfo: \u001b[22m\u001b[39mTraining machine(:linear_regressor, …).\n",
      "\u001b[36m\u001b[1m[ \u001b[22m\u001b[39m\u001b[36m\u001b[1mInfo: \u001b[22m\u001b[39mTraining machine(DeterministicPipeline(standardizer = Standardizer(features = Symbol[], …), …), …).\n",
      "\u001b[36m\u001b[1m[ \u001b[22m\u001b[39m\u001b[36m\u001b[1mInfo: \u001b[22m\u001b[39mTraining machine(:standardizer, …).\n",
      "\u001b[36m\u001b[1m[ \u001b[22m\u001b[39m\u001b[36m\u001b[1mInfo: \u001b[22m\u001b[39mTraining machine(:linear_regressor, …).\n",
      "\u001b[36m\u001b[1m[ \u001b[22m\u001b[39m\u001b[36m\u001b[1mInfo: \u001b[22m\u001b[39mTraining machine(DeterministicPipeline(standardizer = Standardizer(features = Symbol[], …), …), …).\n",
      "\u001b[36m\u001b[1m[ \u001b[22m\u001b[39m\u001b[36m\u001b[1mInfo: \u001b[22m\u001b[39mTraining machine(:standardizer, …).\n",
      "\u001b[36m\u001b[1m[ \u001b[22m\u001b[39m\u001b[36m\u001b[1mInfo: \u001b[22m\u001b[39mTraining machine(:linear_regressor, …).\n",
      "\u001b[36m\u001b[1m[ \u001b[22m\u001b[39m\u001b[36m\u001b[1mInfo: \u001b[22m\u001b[39mTraining machine(DeterministicPipeline(standardizer = Standardizer(features = Symbol[], …), …), …).\n",
      "\u001b[36m\u001b[1m[ \u001b[22m\u001b[39m\u001b[36m\u001b[1mInfo: \u001b[22m\u001b[39mTraining machine(:standardizer, …).\n",
      "\u001b[36m\u001b[1m[ \u001b[22m\u001b[39m\u001b[36m\u001b[1mInfo: \u001b[22m\u001b[39mTraining machine(:linear_regressor, …).\n",
      "\u001b[36m\u001b[1m[ \u001b[22m\u001b[39m\u001b[36m\u001b[1mInfo: \u001b[22m\u001b[39mTraining machine(DeterministicPipeline(standardizer = Standardizer(features = Symbol[], …), …), …).\n",
      "\u001b[36m\u001b[1m[ \u001b[22m\u001b[39m\u001b[36m\u001b[1mInfo: \u001b[22m\u001b[39mTraining machine(:standardizer, …).\n",
      "\u001b[36m\u001b[1m[ \u001b[22m\u001b[39m\u001b[36m\u001b[1mInfo: \u001b[22m\u001b[39mTraining machine(:linear_regressor, …).\n",
      "\u001b[36m\u001b[1m[ \u001b[22m\u001b[39m\u001b[36m\u001b[1mInfo: \u001b[22m\u001b[39mTraining machine(DeterministicPipeline(standardizer = Standardizer(features = Symbol[], …), …), …).\n",
      "\u001b[36m\u001b[1m[ \u001b[22m\u001b[39m\u001b[36m\u001b[1mInfo: \u001b[22m\u001b[39mTraining machine(:standardizer, …).\n",
      "\u001b[36m\u001b[1m[ \u001b[22m\u001b[39m\u001b[36m\u001b[1mInfo: \u001b[22m\u001b[39mTraining machine(:linear_regressor, …).\n"
     ]
    },
    {
     "name": "stdout",
     "output_type": "stream",
     "text": [
      " coef (se) = 1.5709386603564963(0.5566576621515649)\n"
     ]
    },
    {
     "name": "stderr",
     "output_type": "stream",
     "text": [
      "\u001b[36m\u001b[1m[ \u001b[22m\u001b[39m\u001b[36m\u001b[1mInfo: \u001b[22m\u001b[39mTraining machine(DeterministicPipeline(standardizer = Standardizer(features = Symbol[], …), …), …).\n",
      "\u001b[36m\u001b[1m[ \u001b[22m\u001b[39m\u001b[36m\u001b[1mInfo: \u001b[22m\u001b[39mTraining machine(:standardizer, …).\n",
      "\u001b[36m\u001b[1m[ \u001b[22m\u001b[39m\u001b[36m\u001b[1mInfo: \u001b[22m\u001b[39mTraining machine(:lasso_cv_regressor, …).\n",
      "\u001b[36m\u001b[1m[ \u001b[22m\u001b[39m\u001b[36m\u001b[1mInfo: \u001b[22m\u001b[39mTraining machine(DeterministicPipeline(standardizer = Standardizer(features = Symbol[], …), …), …).\n",
      "\u001b[36m\u001b[1m[ \u001b[22m\u001b[39m\u001b[36m\u001b[1mInfo: \u001b[22m\u001b[39mTraining machine(:standardizer, …).\n",
      "\u001b[36m\u001b[1m[ \u001b[22m\u001b[39m\u001b[36m\u001b[1mInfo: \u001b[22m\u001b[39mTraining machine(:lasso_cv_regressor, …).\n",
      "\u001b[36m\u001b[1m[ \u001b[22m\u001b[39m\u001b[36m\u001b[1mInfo: \u001b[22m\u001b[39mTraining machine(DeterministicPipeline(standardizer = Standardizer(features = Symbol[], …), …), …).\n",
      "\u001b[36m\u001b[1m[ \u001b[22m\u001b[39m\u001b[36m\u001b[1mInfo: \u001b[22m\u001b[39mTraining machine(:standardizer, …).\n",
      "\u001b[36m\u001b[1m[ \u001b[22m\u001b[39m\u001b[36m\u001b[1mInfo: \u001b[22m\u001b[39mTraining machine(:lasso_cv_regressor, …).\n",
      "\u001b[36m\u001b[1m[ \u001b[22m\u001b[39m\u001b[36m\u001b[1mInfo: \u001b[22m\u001b[39mTraining machine(DeterministicPipeline(standardizer = Standardizer(features = Symbol[], …), …), …).\n",
      "\u001b[36m\u001b[1m[ \u001b[22m\u001b[39m\u001b[36m\u001b[1mInfo: \u001b[22m\u001b[39mTraining machine(:standardizer, …).\n",
      "\u001b[36m\u001b[1m[ \u001b[22m\u001b[39m\u001b[36m\u001b[1mInfo: \u001b[22m\u001b[39mTraining machine(:lasso_cv_regressor, …).\n",
      "\u001b[36m\u001b[1m[ \u001b[22m\u001b[39m\u001b[36m\u001b[1mInfo: \u001b[22m\u001b[39mTraining machine(DeterministicPipeline(standardizer = Standardizer(features = Symbol[], …), …), …).\n",
      "\u001b[36m\u001b[1m[ \u001b[22m\u001b[39m\u001b[36m\u001b[1mInfo: \u001b[22m\u001b[39mTraining machine(:standardizer, …).\n",
      "\u001b[36m\u001b[1m[ \u001b[22m\u001b[39m\u001b[36m\u001b[1mInfo: \u001b[22m\u001b[39mTraining machine(:lasso_cv_regressor, …).\n",
      "\u001b[36m\u001b[1m[ \u001b[22m\u001b[39m\u001b[36m\u001b[1mInfo: \u001b[22m\u001b[39mTraining machine(DeterministicPipeline(standardizer = Standardizer(features = Symbol[], …), …), …).\n",
      "\u001b[36m\u001b[1m[ \u001b[22m\u001b[39m\u001b[36m\u001b[1mInfo: \u001b[22m\u001b[39mTraining machine(:standardizer, …).\n",
      "\u001b[36m\u001b[1m[ \u001b[22m\u001b[39m\u001b[36m\u001b[1mInfo: \u001b[22m\u001b[39mTraining machine(:lasso_cv_regressor, …).\n",
      "\u001b[36m\u001b[1m[ \u001b[22m\u001b[39m\u001b[36m\u001b[1mInfo: \u001b[22m\u001b[39mTraining machine(DeterministicPipeline(standardizer = Standardizer(features = Symbol[], …), …), …).\n",
      "\u001b[36m\u001b[1m[ \u001b[22m\u001b[39m\u001b[36m\u001b[1mInfo: \u001b[22m\u001b[39mTraining machine(:standardizer, …).\n",
      "\u001b[36m\u001b[1m[ \u001b[22m\u001b[39m\u001b[36m\u001b[1mInfo: \u001b[22m\u001b[39mTraining machine(:lasso_cv_regressor, …).\n",
      "\u001b[36m\u001b[1m[ \u001b[22m\u001b[39m\u001b[36m\u001b[1mInfo: \u001b[22m\u001b[39mTraining machine(DeterministicPipeline(standardizer = Standardizer(features = Symbol[], …), …), …).\n",
      "\u001b[36m\u001b[1m[ \u001b[22m\u001b[39m\u001b[36m\u001b[1mInfo: \u001b[22m\u001b[39mTraining machine(:standardizer, …).\n",
      "\u001b[36m\u001b[1m[ \u001b[22m\u001b[39m\u001b[36m\u001b[1mInfo: \u001b[22m\u001b[39mTraining machine(:lasso_cv_regressor, …).\n",
      "\u001b[36m\u001b[1m[ \u001b[22m\u001b[39m\u001b[36m\u001b[1mInfo: \u001b[22m\u001b[39mTraining machine(DeterministicPipeline(standardizer = Standardizer(features = Symbol[], …), …), …).\n",
      "\u001b[36m\u001b[1m[ \u001b[22m\u001b[39m\u001b[36m\u001b[1mInfo: \u001b[22m\u001b[39mTraining machine(:standardizer, …).\n",
      "\u001b[36m\u001b[1m[ \u001b[22m\u001b[39m\u001b[36m\u001b[1mInfo: \u001b[22m\u001b[39mTraining machine(:lasso_cv_regressor, …).\n",
      "\u001b[36m\u001b[1m[ \u001b[22m\u001b[39m\u001b[36m\u001b[1mInfo: \u001b[22m\u001b[39mTraining machine(DeterministicPipeline(standardizer = Standardizer(features = Symbol[], …), …), …).\n",
      "\u001b[36m\u001b[1m[ \u001b[22m\u001b[39m\u001b[36m\u001b[1mInfo: \u001b[22m\u001b[39mTraining machine(:standardizer, …).\n",
      "\u001b[36m\u001b[1m[ \u001b[22m\u001b[39m\u001b[36m\u001b[1mInfo: \u001b[22m\u001b[39mTraining machine(:lasso_cv_regressor, …).\n",
      "\u001b[36m\u001b[1m[ \u001b[22m\u001b[39m\u001b[36m\u001b[1mInfo: \u001b[22m\u001b[39mTraining machine(DeterministicPipeline(standardizer = Standardizer(features = Symbol[], …), …), …).\n",
      "\u001b[36m\u001b[1m[ \u001b[22m\u001b[39m\u001b[36m\u001b[1mInfo: \u001b[22m\u001b[39mTraining machine(:standardizer, …).\n",
      "\u001b[36m\u001b[1m[ \u001b[22m\u001b[39m\u001b[36m\u001b[1mInfo: \u001b[22m\u001b[39mTraining machine(:lasso_cv_regressor, …).\n",
      "\u001b[36m\u001b[1m[ \u001b[22m\u001b[39m\u001b[36m\u001b[1mInfo: \u001b[22m\u001b[39mTraining machine(DeterministicPipeline(standardizer = Standardizer(features = Symbol[], …), …), …).\n",
      "\u001b[36m\u001b[1m[ \u001b[22m\u001b[39m\u001b[36m\u001b[1mInfo: \u001b[22m\u001b[39mTraining machine(:standardizer, …).\n",
      "\u001b[36m\u001b[1m[ \u001b[22m\u001b[39m\u001b[36m\u001b[1mInfo: \u001b[22m\u001b[39mTraining machine(:lasso_cv_regressor, …).\n",
      "\u001b[36m\u001b[1m[ \u001b[22m\u001b[39m\u001b[36m\u001b[1mInfo: \u001b[22m\u001b[39mTraining machine(DeterministicPipeline(standardizer = Standardizer(features = Symbol[], …), …), …).\n",
      "\u001b[36m\u001b[1m[ \u001b[22m\u001b[39m\u001b[36m\u001b[1mInfo: \u001b[22m\u001b[39mTraining machine(:standardizer, …).\n",
      "\u001b[36m\u001b[1m[ \u001b[22m\u001b[39m\u001b[36m\u001b[1mInfo: \u001b[22m\u001b[39mTraining machine(:lasso_cv_regressor, …).\n",
      "\u001b[36m\u001b[1m[ \u001b[22m\u001b[39m\u001b[36m\u001b[1mInfo: \u001b[22m\u001b[39mTraining machine(DeterministicPipeline(standardizer = Standardizer(features = Symbol[], …), …), …).\n",
      "\u001b[36m\u001b[1m[ \u001b[22m\u001b[39m\u001b[36m\u001b[1mInfo: \u001b[22m\u001b[39mTraining machine(:standardizer, …).\n",
      "\u001b[36m\u001b[1m[ \u001b[22m\u001b[39m\u001b[36m\u001b[1mInfo: \u001b[22m\u001b[39mTraining machine(:lasso_cv_regressor, …).\n",
      "\u001b[36m\u001b[1m[ \u001b[22m\u001b[39m\u001b[36m\u001b[1mInfo: \u001b[22m\u001b[39mTraining machine(DeterministicPipeline(standardizer = Standardizer(features = Symbol[], …), …), …).\n",
      "\u001b[36m\u001b[1m[ \u001b[22m\u001b[39m\u001b[36m\u001b[1mInfo: \u001b[22m\u001b[39mTraining machine(:standardizer, …).\n",
      "\u001b[36m\u001b[1m[ \u001b[22m\u001b[39m\u001b[36m\u001b[1mInfo: \u001b[22m\u001b[39mTraining machine(:lasso_cv_regressor, …).\n",
      "\u001b[36m\u001b[1m[ \u001b[22m\u001b[39m\u001b[36m\u001b[1mInfo: \u001b[22m\u001b[39mTraining machine(DeterministicPipeline(standardizer = Standardizer(features = Symbol[], …), …), …).\n",
      "\u001b[36m\u001b[1m[ \u001b[22m\u001b[39m\u001b[36m\u001b[1mInfo: \u001b[22m\u001b[39mTraining machine(:standardizer, …).\n",
      "\u001b[36m\u001b[1m[ \u001b[22m\u001b[39m\u001b[36m\u001b[1mInfo: \u001b[22m\u001b[39mTraining machine(:lasso_cv_regressor, …).\n",
      "\u001b[36m\u001b[1m[ \u001b[22m\u001b[39m\u001b[36m\u001b[1mInfo: \u001b[22m\u001b[39mTraining machine(DeterministicPipeline(standardizer = Standardizer(features = Symbol[], …), …), …).\n",
      "\u001b[36m\u001b[1m[ \u001b[22m\u001b[39m\u001b[36m\u001b[1mInfo: \u001b[22m\u001b[39mTraining machine(:standardizer, …).\n",
      "\u001b[36m\u001b[1m[ \u001b[22m\u001b[39m\u001b[36m\u001b[1mInfo: \u001b[22m\u001b[39mTraining machine(:lasso_cv_regressor, …).\n",
      "\u001b[36m\u001b[1m[ \u001b[22m\u001b[39m\u001b[36m\u001b[1mInfo: \u001b[22m\u001b[39mTraining machine(DeterministicPipeline(standardizer = Standardizer(features = Symbol[], …), …), …).\n",
      "\u001b[36m\u001b[1m[ \u001b[22m\u001b[39m\u001b[36m\u001b[1mInfo: \u001b[22m\u001b[39mTraining machine(:standardizer, …).\n",
      "\u001b[36m\u001b[1m[ \u001b[22m\u001b[39m\u001b[36m\u001b[1mInfo: \u001b[22m\u001b[39mTraining machine(:lasso_cv_regressor, …).\n",
      "\u001b[36m\u001b[1m[ \u001b[22m\u001b[39m\u001b[36m\u001b[1mInfo: \u001b[22m\u001b[39mTraining machine(DeterministicPipeline(standardizer = Standardizer(features = Symbol[], …), …), …).\n",
      "\u001b[36m\u001b[1m[ \u001b[22m\u001b[39m\u001b[36m\u001b[1mInfo: \u001b[22m\u001b[39mTraining machine(:standardizer, …).\n",
      "\u001b[36m\u001b[1m[ \u001b[22m\u001b[39m\u001b[36m\u001b[1mInfo: \u001b[22m\u001b[39mTraining machine(:lasso_cv_regressor, …).\n",
      "\u001b[36m\u001b[1m[ \u001b[22m\u001b[39m\u001b[36m\u001b[1mInfo: \u001b[22m\u001b[39mTraining machine(DeterministicPipeline(standardizer = Standardizer(features = Symbol[], …), …), …).\n",
      "\u001b[36m\u001b[1m[ \u001b[22m\u001b[39m\u001b[36m\u001b[1mInfo: \u001b[22m\u001b[39mTraining machine(:standardizer, …).\n"
     ]
    },
    {
     "name": "stdout",
     "output_type": "stream",
     "text": [
      " coef (se) = 1.4553455503963622(0.5561085672312804)\n"
     ]
    },
    {
     "name": "stderr",
     "output_type": "stream",
     "text": [
      "\u001b[36m\u001b[1m[ \u001b[22m\u001b[39m\u001b[36m\u001b[1mInfo: \u001b[22m\u001b[39mTraining machine(:lasso_cv_regressor, …).\n",
      "\u001b[36m\u001b[1m[ \u001b[22m\u001b[39m\u001b[36m\u001b[1mInfo: \u001b[22m\u001b[39mTraining machine(RandomForestRegressor(n_estimators = 100, …), …).\n",
      "\u001b[36m\u001b[1m[ \u001b[22m\u001b[39m\u001b[36m\u001b[1mInfo: \u001b[22m\u001b[39mTraining machine(RandomForestRegressor(n_estimators = 100, …), …).\n",
      "\u001b[36m\u001b[1m[ \u001b[22m\u001b[39m\u001b[36m\u001b[1mInfo: \u001b[22m\u001b[39mTraining machine(RandomForestRegressor(n_estimators = 100, …), …).\n",
      "\u001b[36m\u001b[1m[ \u001b[22m\u001b[39m\u001b[36m\u001b[1mInfo: \u001b[22m\u001b[39mTraining machine(RandomForestRegressor(n_estimators = 100, …), …).\n",
      "\u001b[36m\u001b[1m[ \u001b[22m\u001b[39m\u001b[36m\u001b[1mInfo: \u001b[22m\u001b[39mTraining machine(RandomForestRegressor(n_estimators = 100, …), …).\n",
      "\u001b[36m\u001b[1m[ \u001b[22m\u001b[39m\u001b[36m\u001b[1mInfo: \u001b[22m\u001b[39mTraining machine(RandomForestRegressor(n_estimators = 100, …), …).\n",
      "\u001b[36m\u001b[1m[ \u001b[22m\u001b[39m\u001b[36m\u001b[1mInfo: \u001b[22m\u001b[39mTraining machine(RandomForestRegressor(n_estimators = 100, …), …).\n",
      "\u001b[36m\u001b[1m[ \u001b[22m\u001b[39m\u001b[36m\u001b[1mInfo: \u001b[22m\u001b[39mTraining machine(RandomForestRegressor(n_estimators = 100, …), …).\n",
      "\u001b[36m\u001b[1m[ \u001b[22m\u001b[39m\u001b[36m\u001b[1mInfo: \u001b[22m\u001b[39mTraining machine(RandomForestRegressor(n_estimators = 100, …), …).\n",
      "\u001b[36m\u001b[1m[ \u001b[22m\u001b[39m\u001b[36m\u001b[1mInfo: \u001b[22m\u001b[39mTraining machine(RandomForestRegressor(n_estimators = 100, …), …).\n",
      "\u001b[36m\u001b[1m[ \u001b[22m\u001b[39m\u001b[36m\u001b[1mInfo: \u001b[22m\u001b[39mTraining machine(RandomForestRegressor(n_estimators = 100, …), …).\n",
      "\u001b[36m\u001b[1m[ \u001b[22m\u001b[39m\u001b[36m\u001b[1mInfo: \u001b[22m\u001b[39mTraining machine(RandomForestRegressor(n_estimators = 100, …), …).\n",
      "\u001b[36m\u001b[1m[ \u001b[22m\u001b[39m\u001b[36m\u001b[1mInfo: \u001b[22m\u001b[39mTraining machine(RandomForestRegressor(n_estimators = 100, …), …).\n",
      "\u001b[36m\u001b[1m[ \u001b[22m\u001b[39m\u001b[36m\u001b[1mInfo: \u001b[22m\u001b[39mTraining machine(RandomForestRegressor(n_estimators = 100, …), …).\n",
      "\u001b[36m\u001b[1m[ \u001b[22m\u001b[39m\u001b[36m\u001b[1mInfo: \u001b[22m\u001b[39mTraining machine(RandomForestRegressor(n_estimators = 100, …), …).\n",
      "\u001b[36m\u001b[1m[ \u001b[22m\u001b[39m\u001b[36m\u001b[1mInfo: \u001b[22m\u001b[39mTraining machine(RandomForestRegressor(n_estimators = 100, …), …).\n",
      "\u001b[36m\u001b[1m[ \u001b[22m\u001b[39m\u001b[36m\u001b[1mInfo: \u001b[22m\u001b[39mTraining machine(RandomForestRegressor(n_estimators = 100, …), …).\n",
      "\u001b[36m\u001b[1m[ \u001b[22m\u001b[39m\u001b[36m\u001b[1mInfo: \u001b[22m\u001b[39mTraining machine(RandomForestRegressor(n_estimators = 100, …), …).\n",
      "\u001b[36m\u001b[1m[ \u001b[22m\u001b[39m\u001b[36m\u001b[1mInfo: \u001b[22m\u001b[39mTraining machine(RandomForestRegressor(n_estimators = 100, …), …).\n",
      "\u001b[36m\u001b[1m[ \u001b[22m\u001b[39m\u001b[36m\u001b[1mInfo: \u001b[22m\u001b[39mTraining machine(RandomForestRegressor(n_estimators = 100, …), …).\n"
     ]
    },
    {
     "name": "stdout",
     "output_type": "stream",
     "text": [
      " coef (se) = 1.3566685887342813(0.64436342299211)\n"
     ]
    },
    {
     "name": "stderr",
     "output_type": "stream",
     "text": [
      "\u001b[36m\u001b[1m[ \u001b[22m\u001b[39m\u001b[36m\u001b[1mInfo: \u001b[22m\u001b[39mTraining machine(RandomForestRegressor(n_estimators = 100, …), …).\n",
      "\u001b[36m\u001b[1m[ \u001b[22m\u001b[39m\u001b[36m\u001b[1mInfo: \u001b[22m\u001b[39mTraining machine(DeterministicPipeline(standardizer = Standardizer(features = Symbol[], …), …), …).\n",
      "\u001b[36m\u001b[1m[ \u001b[22m\u001b[39m\u001b[36m\u001b[1mInfo: \u001b[22m\u001b[39mTraining machine(:standardizer, …).\n",
      "\u001b[36m\u001b[1m[ \u001b[22m\u001b[39m\u001b[36m\u001b[1mInfo: \u001b[22m\u001b[39mTraining machine(:lasso_cv_regressor, …).\n",
      "\u001b[36m\u001b[1m[ \u001b[22m\u001b[39m\u001b[36m\u001b[1mInfo: \u001b[22m\u001b[39mTraining machine(RandomForestRegressor(n_estimators = 100, …), …).\n",
      "\u001b[36m\u001b[1m[ \u001b[22m\u001b[39m\u001b[36m\u001b[1mInfo: \u001b[22m\u001b[39mTraining machine(DeterministicPipeline(standardizer = Standardizer(features = Symbol[], …), …), …).\n",
      "\u001b[36m\u001b[1m[ \u001b[22m\u001b[39m\u001b[36m\u001b[1mInfo: \u001b[22m\u001b[39mTraining machine(:standardizer, …).\n",
      "\u001b[36m\u001b[1m[ \u001b[22m\u001b[39m\u001b[36m\u001b[1mInfo: \u001b[22m\u001b[39mTraining machine(:lasso_cv_regressor, …).\n",
      "\u001b[36m\u001b[1m[ \u001b[22m\u001b[39m\u001b[36m\u001b[1mInfo: \u001b[22m\u001b[39mTraining machine(RandomForestRegressor(n_estimators = 100, …), …).\n",
      "\u001b[36m\u001b[1m[ \u001b[22m\u001b[39m\u001b[36m\u001b[1mInfo: \u001b[22m\u001b[39mTraining machine(DeterministicPipeline(standardizer = Standardizer(features = Symbol[], …), …), …).\n",
      "\u001b[36m\u001b[1m[ \u001b[22m\u001b[39m\u001b[36m\u001b[1mInfo: \u001b[22m\u001b[39mTraining machine(:standardizer, …).\n",
      "\u001b[36m\u001b[1m[ \u001b[22m\u001b[39m\u001b[36m\u001b[1mInfo: \u001b[22m\u001b[39mTraining machine(:lasso_cv_regressor, …).\n",
      "\u001b[36m\u001b[1m[ \u001b[22m\u001b[39m\u001b[36m\u001b[1mInfo: \u001b[22m\u001b[39mTraining machine(RandomForestRegressor(n_estimators = 100, …), …).\n",
      "\u001b[36m\u001b[1m[ \u001b[22m\u001b[39m\u001b[36m\u001b[1mInfo: \u001b[22m\u001b[39mTraining machine(DeterministicPipeline(standardizer = Standardizer(features = Symbol[], …), …), …).\n",
      "\u001b[36m\u001b[1m[ \u001b[22m\u001b[39m\u001b[36m\u001b[1mInfo: \u001b[22m\u001b[39mTraining machine(:standardizer, …).\n",
      "\u001b[36m\u001b[1m[ \u001b[22m\u001b[39m\u001b[36m\u001b[1mInfo: \u001b[22m\u001b[39mTraining machine(:lasso_cv_regressor, …).\n",
      "\u001b[36m\u001b[1m[ \u001b[22m\u001b[39m\u001b[36m\u001b[1mInfo: \u001b[22m\u001b[39mTraining machine(RandomForestRegressor(n_estimators = 100, …), …).\n",
      "\u001b[36m\u001b[1m[ \u001b[22m\u001b[39m\u001b[36m\u001b[1mInfo: \u001b[22m\u001b[39mTraining machine(DeterministicPipeline(standardizer = Standardizer(features = Symbol[], …), …), …).\n",
      "\u001b[36m\u001b[1m[ \u001b[22m\u001b[39m\u001b[36m\u001b[1mInfo: \u001b[22m\u001b[39mTraining machine(:standardizer, …).\n",
      "\u001b[36m\u001b[1m[ \u001b[22m\u001b[39m\u001b[36m\u001b[1mInfo: \u001b[22m\u001b[39mTraining machine(:lasso_cv_regressor, …).\n",
      "\u001b[36m\u001b[1m[ \u001b[22m\u001b[39m\u001b[36m\u001b[1mInfo: \u001b[22m\u001b[39mTraining machine(RandomForestRegressor(n_estimators = 100, …), …).\n",
      "\u001b[36m\u001b[1m[ \u001b[22m\u001b[39m\u001b[36m\u001b[1mInfo: \u001b[22m\u001b[39mTraining machine(DeterministicPipeline(standardizer = Standardizer(features = Symbol[], …), …), …).\n",
      "\u001b[36m\u001b[1m[ \u001b[22m\u001b[39m\u001b[36m\u001b[1mInfo: \u001b[22m\u001b[39mTraining machine(:standardizer, …).\n",
      "\u001b[36m\u001b[1m[ \u001b[22m\u001b[39m\u001b[36m\u001b[1mInfo: \u001b[22m\u001b[39mTraining machine(:lasso_cv_regressor, …).\n",
      "\u001b[36m\u001b[1m[ \u001b[22m\u001b[39m\u001b[36m\u001b[1mInfo: \u001b[22m\u001b[39mTraining machine(RandomForestRegressor(n_estimators = 100, …), …).\n",
      "\u001b[36m\u001b[1m[ \u001b[22m\u001b[39m\u001b[36m\u001b[1mInfo: \u001b[22m\u001b[39mTraining machine(DeterministicPipeline(standardizer = Standardizer(features = Symbol[], …), …), …).\n",
      "\u001b[36m\u001b[1m[ \u001b[22m\u001b[39m\u001b[36m\u001b[1mInfo: \u001b[22m\u001b[39mTraining machine(:standardizer, …).\n",
      "\u001b[36m\u001b[1m[ \u001b[22m\u001b[39m\u001b[36m\u001b[1mInfo: \u001b[22m\u001b[39mTraining machine(:lasso_cv_regressor, …).\n",
      "\u001b[36m\u001b[1m[ \u001b[22m\u001b[39m\u001b[36m\u001b[1mInfo: \u001b[22m\u001b[39mTraining machine(RandomForestRegressor(n_estimators = 100, …), …).\n",
      "\u001b[36m\u001b[1m[ \u001b[22m\u001b[39m\u001b[36m\u001b[1mInfo: \u001b[22m\u001b[39mTraining machine(DeterministicPipeline(standardizer = Standardizer(features = Symbol[], …), …), …).\n",
      "\u001b[36m\u001b[1m[ \u001b[22m\u001b[39m\u001b[36m\u001b[1mInfo: \u001b[22m\u001b[39mTraining machine(:standardizer, …).\n",
      "\u001b[36m\u001b[1m[ \u001b[22m\u001b[39m\u001b[36m\u001b[1mInfo: \u001b[22m\u001b[39mTraining machine(:lasso_cv_regressor, …).\n",
      "\u001b[36m\u001b[1m[ \u001b[22m\u001b[39m\u001b[36m\u001b[1mInfo: \u001b[22m\u001b[39mTraining machine(RandomForestRegressor(n_estimators = 100, …), …).\n",
      "\u001b[36m\u001b[1m[ \u001b[22m\u001b[39m\u001b[36m\u001b[1mInfo: \u001b[22m\u001b[39mTraining machine(DeterministicPipeline(standardizer = Standardizer(features = Symbol[], …), …), …).\n",
      "\u001b[36m\u001b[1m[ \u001b[22m\u001b[39m\u001b[36m\u001b[1mInfo: \u001b[22m\u001b[39mTraining machine(:standardizer, …).\n",
      "\u001b[36m\u001b[1m[ \u001b[22m\u001b[39m\u001b[36m\u001b[1mInfo: \u001b[22m\u001b[39mTraining machine(:lasso_cv_regressor, …).\n",
      "\u001b[36m\u001b[1m[ \u001b[22m\u001b[39m\u001b[36m\u001b[1mInfo: \u001b[22m\u001b[39mTraining machine(RandomForestRegressor(n_estimators = 100, …), …).\n",
      "\u001b[36m\u001b[1m[ \u001b[22m\u001b[39m\u001b[36m\u001b[1mInfo: \u001b[22m\u001b[39mTraining machine(DeterministicPipeline(standardizer = Standardizer(features = Symbol[], …), …), …).\n",
      "\u001b[36m\u001b[1m[ \u001b[22m\u001b[39m\u001b[36m\u001b[1mInfo: \u001b[22m\u001b[39mTraining machine(:standardizer, …).\n"
     ]
    },
    {
     "name": "stdout",
     "output_type": "stream",
     "text": [
      " coef (se) = 0.935841098453697(0.5886766811548105)\n"
     ]
    },
    {
     "name": "stderr",
     "output_type": "stream",
     "text": [
      "\u001b[36m\u001b[1m[ \u001b[22m\u001b[39m\u001b[36m\u001b[1mInfo: \u001b[22m\u001b[39mTraining machine(:lasso_cv_regressor, …).\n"
     ]
    }
   ],
   "source": [
    "LinearRegressor = @load LinearRegressor pkg = MLJScikitLearnInterface verbosity = 0\n",
    "dreg = Standardizer() |> LinearRegressor()\n",
    "yreg = Standardizer() |> LinearRegressor()\n",
    "result_ols = dml(x, d, y, dreg, yreg, 10);\n",
    "table_ols = summarize(result_ols..., \"OLS\")\n",
    "\n",
    "LassoCVRegressor = @load LassoCVRegressor pkg = MLJScikitLearnInterface verbosity = 0\n",
    "dreg = Standardizer() |> LassoCVRegressor(max_iter=200000)\n",
    "yreg = Standardizer() |> LassoCVRegressor(max_iter=200000)\n",
    "results_lasso = dml(x, d, y, dreg, yreg, 10);\n",
    "table_lasso = summarize(results_lasso..., \"LassoCV\")\n",
    "\n",
    "RandomForestRegressor = @load RandomForestRegressor pkg = MLJScikitLearnInterface verbosity = 0\n",
    "dreg = RandomForestRegressor()\n",
    "yreg = RandomForestRegressor()\n",
    "results_rf = dml(x, d, y, dreg, yreg, 10);\n",
    "table_rf = summarize(results_rf..., \"RF\");\n",
    "\n",
    "dreg = Standardizer() |> LassoCVRegressor(max_iter=200000)\n",
    "results_mix = dml(x, d, y, dreg, yreg, 10)\n",
    "table_mix = summarize(results_mix..., \"RF/LassoCV\");"
   ]
  },
  {
   "cell_type": "code",
   "execution_count": 53,
   "metadata": {},
   "outputs": [
    {
     "data": {
      "text/plain": [
       "\"We present now our results:\""
      ]
     },
     "metadata": {},
     "output_type": "display_data"
    },
    {
     "name": "stdout",
     "output_type": "stream",
     "text": [
      "┌────────────┬──────────┬──────────┬─────────┬───────────┐\n",
      "│\u001b[1m      model \u001b[0m│\u001b[1m estimate \u001b[0m│\u001b[1m   stderr \u001b[0m│\u001b[1m  rmse_y \u001b[0m│\u001b[1m    rmse_d \u001b[0m│\n",
      "│\u001b[90m     String \u001b[0m│\u001b[90m  Float64 \u001b[0m│\u001b[90m  Float64 \u001b[0m│\u001b[90m Float64 \u001b[0m│\u001b[90m   Float64 \u001b[0m│\n",
      "├────────────┼──────────┼──────────┼─────────┼───────────┤\n",
      "│        OLS │  1.57094 │ 0.556658 │  6.9873 │ 0.0986685 │\n",
      "│    LassoCV │  1.45535 │ 0.556109 │ 6.99038 │ 0.0988129 │\n",
      "│         RF │  1.35667 │ 0.644363 │ 7.39913 │ 0.0902723 │\n",
      "│ RF/LassoCV │ 0.935841 │ 0.588677 │ 7.39878 │ 0.0988129 │\n",
      "└────────────┴──────────┴──────────┴─────────┴───────────┘\n"
     ]
    }
   ],
   "source": [
    "display(\"We present now our results:\")\n",
    "pretty_table([table_ols; table_lasso; table_rf; table_mix])"
   ]
  },
  {
   "cell_type": "code",
   "execution_count": 56,
   "metadata": {},
   "outputs": [
    {
     "data": {
      "text/plain": [
       "\"We can see that our results show that the OLS function estimates the highest coefficient and the second lowest standard error. Lasso cross-validation shows a similar result.\""
      ]
     },
     "metadata": {},
     "output_type": "display_data"
    },
    {
     "data": {
      "text/plain": [
       "\"However, in comparison, the random forest regressor shows a bigger standard error. Furthermore, its MSE value for Y is bigger than in the other two methods while the MSE for D is smaller.\""
      ]
     },
     "metadata": {},
     "output_type": "display_data"
    }
   ],
   "source": [
    "display(\"We can see that our results show that the OLS function estimates the highest coefficient and the second lowest standard error. Lasso cross-validation shows a similar result.\")\n",
    "display(\"However, in comparison, the random forest regressor shows a bigger standard error. Furthermore, its MSE value for Y is bigger than in the other two methods while the MSE for D is smaller.\")"
   ]
  }
 ],
 "metadata": {
  "kernelspec": {
   "display_name": "Julia 1.10.5",
   "language": "julia",
   "name": "julia-1.10"
  },
  "language_info": {
   "file_extension": ".jl",
   "mimetype": "application/julia",
   "name": "julia",
   "version": "1.10.5"
  }
 },
 "nbformat": 4,
 "nbformat_minor": 2
}
