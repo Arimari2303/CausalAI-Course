{
 "cells": [
  {
   "cell_type": "markdown",
   "metadata": {},
   "source": [
    "## Part 2\n"
   ]
  },
  {
   "cell_type": "code",
   "execution_count": 80,
   "metadata": {},
   "outputs": [],
   "source": [
    "using Pkg"
   ]
  },
  {
   "cell_type": "code",
   "execution_count": 81,
   "metadata": {},
   "outputs": [],
   "source": [
    "using CSV, DataFrames, StatsModels, GLM, Random, MLBase, MLJ, PrettyTables, FixedEffectModels"
   ]
  },
  {
   "cell_type": "markdown",
   "metadata": {},
   "source": [
    "1. "
   ]
  },
  {
   "cell_type": "code",
   "execution_count": 82,
   "metadata": {},
   "outputs": [],
   "source": [
    "data= CSV.read(\n",
    "    download(\"https://github.com/d2cml-ai/CausalAI-Course/raw/refs/heads/main/Labs/Assignment/Assignment_5/data/observational/biased_control.csv\"),\n",
    "    DataFrame);"
   ]
  },
  {
   "cell_type": "code",
   "execution_count": 83,
   "metadata": {},
   "outputs": [
    {
     "data": {
      "text/html": [
       "<div><div style = \"float: left;\"><span>16177×18 DataFrame</span></div><div style = \"float: right;\"><span style = \"font-style: italic;\">16152 rows omitted</span></div><div style = \"clear: both;\"></div></div><div class = \"data-frame\" style = \"overflow-x: scroll;\"><table class = \"data-frame\" style = \"margin-bottom: 6px;\"><thead><tr class = \"header\"><th class = \"rowNumber\" style = \"font-weight: bold; text-align: right;\">Row</th><th style = \"text-align: left;\">treat</th><th style = \"text-align: left;\">age</th><th style = \"text-align: left;\">educ</th><th style = \"text-align: left;\">black</th><th style = \"text-align: left;\">hisp</th><th style = \"text-align: left;\">marr</th><th style = \"text-align: left;\">nodegree</th><th style = \"text-align: left;\">re74</th><th style = \"text-align: left;\">re75</th><th style = \"text-align: left;\">re78</th><th style = \"text-align: left;\">agesq</th><th style = \"text-align: left;\">agecube</th><th style = \"text-align: left;\">educsq</th><th style = \"text-align: left;\">u74</th><th style = \"text-align: left;\">u75</th><th style = \"text-align: left;\">interaction1</th><th style = \"text-align: left;\">re74sq</th><th style = \"text-align: left;\">re75sq</th></tr><tr class = \"subheader headerLastRow\"><th class = \"rowNumber\" style = \"font-weight: bold; text-align: right;\"></th><th title = \"Int64\" style = \"text-align: left;\">Int64</th><th title = \"Int64\" style = \"text-align: left;\">Int64</th><th title = \"Int64\" style = \"text-align: left;\">Int64</th><th title = \"Int64\" style = \"text-align: left;\">Int64</th><th title = \"Int64\" style = \"text-align: left;\">Int64</th><th title = \"Int64\" style = \"text-align: left;\">Int64</th><th title = \"Int64\" style = \"text-align: left;\">Int64</th><th title = \"Float64\" style = \"text-align: left;\">Float64</th><th title = \"Float64\" style = \"text-align: left;\">Float64</th><th title = \"Float64\" style = \"text-align: left;\">Float64</th><th title = \"Int64\" style = \"text-align: left;\">Int64</th><th title = \"Int64\" style = \"text-align: left;\">Int64</th><th title = \"Int64\" style = \"text-align: left;\">Int64</th><th title = \"Int64\" style = \"text-align: left;\">Int64</th><th title = \"Int64\" style = \"text-align: left;\">Int64</th><th title = \"Float64\" style = \"text-align: left;\">Float64</th><th title = \"Float64\" style = \"text-align: left;\">Float64</th><th title = \"Float64\" style = \"text-align: left;\">Float64</th></tr></thead><tbody><tr><td class = \"rowNumber\" style = \"font-weight: bold; text-align: right;\">1</td><td style = \"text-align: right;\">0</td><td style = \"text-align: right;\">45</td><td style = \"text-align: right;\">11</td><td style = \"text-align: right;\">0</td><td style = \"text-align: right;\">0</td><td style = \"text-align: right;\">1</td><td style = \"text-align: right;\">1</td><td style = \"text-align: right;\">21.5167</td><td style = \"text-align: right;\">25.2436</td><td style = \"text-align: right;\">25.5647</td><td style = \"text-align: right;\">2025</td><td style = \"text-align: right;\">91125</td><td style = \"text-align: right;\">121</td><td style = \"text-align: right;\">0</td><td style = \"text-align: right;\">0</td><td style = \"text-align: right;\">236.683</td><td style = \"text-align: right;\">462.967</td><td style = \"text-align: right;\">637.237</td></tr><tr><td class = \"rowNumber\" style = \"font-weight: bold; text-align: right;\">2</td><td style = \"text-align: right;\">0</td><td style = \"text-align: right;\">21</td><td style = \"text-align: right;\">14</td><td style = \"text-align: right;\">0</td><td style = \"text-align: right;\">0</td><td style = \"text-align: right;\">0</td><td style = \"text-align: right;\">0</td><td style = \"text-align: right;\">3.17597</td><td style = \"text-align: right;\">5.85256</td><td style = \"text-align: right;\">13.4961</td><td style = \"text-align: right;\">441</td><td style = \"text-align: right;\">9261</td><td style = \"text-align: right;\">196</td><td style = \"text-align: right;\">0</td><td style = \"text-align: right;\">0</td><td style = \"text-align: right;\">44.4636</td><td style = \"text-align: right;\">10.0868</td><td style = \"text-align: right;\">34.2525</td></tr><tr><td class = \"rowNumber\" style = \"font-weight: bold; text-align: right;\">3</td><td style = \"text-align: right;\">0</td><td style = \"text-align: right;\">38</td><td style = \"text-align: right;\">12</td><td style = \"text-align: right;\">0</td><td style = \"text-align: right;\">0</td><td style = \"text-align: right;\">1</td><td style = \"text-align: right;\">0</td><td style = \"text-align: right;\">23.039</td><td style = \"text-align: right;\">25.1308</td><td style = \"text-align: right;\">25.5647</td><td style = \"text-align: right;\">1444</td><td style = \"text-align: right;\">54872</td><td style = \"text-align: right;\">144</td><td style = \"text-align: right;\">0</td><td style = \"text-align: right;\">0</td><td style = \"text-align: right;\">276.468</td><td style = \"text-align: right;\">530.796</td><td style = \"text-align: right;\">631.555</td></tr><tr><td class = \"rowNumber\" style = \"font-weight: bold; text-align: right;\">4</td><td style = \"text-align: right;\">0</td><td style = \"text-align: right;\">48</td><td style = \"text-align: right;\">6</td><td style = \"text-align: right;\">0</td><td style = \"text-align: right;\">0</td><td style = \"text-align: right;\">1</td><td style = \"text-align: right;\">1</td><td style = \"text-align: right;\">24.9944</td><td style = \"text-align: right;\">25.2436</td><td style = \"text-align: right;\">25.5647</td><td style = \"text-align: right;\">2304</td><td style = \"text-align: right;\">110592</td><td style = \"text-align: right;\">36</td><td style = \"text-align: right;\">0</td><td style = \"text-align: right;\">0</td><td style = \"text-align: right;\">149.966</td><td style = \"text-align: right;\">624.718</td><td style = \"text-align: right;\">637.237</td></tr><tr><td class = \"rowNumber\" style = \"font-weight: bold; text-align: right;\">5</td><td style = \"text-align: right;\">0</td><td style = \"text-align: right;\">18</td><td style = \"text-align: right;\">8</td><td style = \"text-align: right;\">0</td><td style = \"text-align: right;\">0</td><td style = \"text-align: right;\">1</td><td style = \"text-align: right;\">1</td><td style = \"text-align: right;\">1.6693</td><td style = \"text-align: right;\">10.7276</td><td style = \"text-align: right;\">9.86087</td><td style = \"text-align: right;\">324</td><td style = \"text-align: right;\">5832</td><td style = \"text-align: right;\">64</td><td style = \"text-align: right;\">0</td><td style = \"text-align: right;\">0</td><td style = \"text-align: right;\">13.3544</td><td style = \"text-align: right;\">2.78655</td><td style = \"text-align: right;\">115.082</td></tr><tr><td class = \"rowNumber\" style = \"font-weight: bold; text-align: right;\">6</td><td style = \"text-align: right;\">0</td><td style = \"text-align: right;\">22</td><td style = \"text-align: right;\">11</td><td style = \"text-align: right;\">0</td><td style = \"text-align: right;\">0</td><td style = \"text-align: right;\">1</td><td style = \"text-align: right;\">1</td><td style = \"text-align: right;\">16.3658</td><td style = \"text-align: right;\">18.4493</td><td style = \"text-align: right;\">25.5647</td><td style = \"text-align: right;\">484</td><td style = \"text-align: right;\">10648</td><td style = \"text-align: right;\">121</td><td style = \"text-align: right;\">0</td><td style = \"text-align: right;\">0</td><td style = \"text-align: right;\">180.023</td><td style = \"text-align: right;\">267.838</td><td style = \"text-align: right;\">340.376</td></tr><tr><td class = \"rowNumber\" style = \"font-weight: bold; text-align: right;\">7</td><td style = \"text-align: right;\">0</td><td style = \"text-align: right;\">48</td><td style = \"text-align: right;\">10</td><td style = \"text-align: right;\">0</td><td style = \"text-align: right;\">0</td><td style = \"text-align: right;\">1</td><td style = \"text-align: right;\">1</td><td style = \"text-align: right;\">16.8046</td><td style = \"text-align: right;\">16.3546</td><td style = \"text-align: right;\">18.0593</td><td style = \"text-align: right;\">2304</td><td style = \"text-align: right;\">110592</td><td style = \"text-align: right;\">100</td><td style = \"text-align: right;\">0</td><td style = \"text-align: right;\">0</td><td style = \"text-align: right;\">168.046</td><td style = \"text-align: right;\">282.396</td><td style = \"text-align: right;\">267.473</td></tr><tr><td class = \"rowNumber\" style = \"font-weight: bold; text-align: right;\">8</td><td style = \"text-align: right;\">0</td><td style = \"text-align: right;\">18</td><td style = \"text-align: right;\">11</td><td style = \"text-align: right;\">0</td><td style = \"text-align: right;\">0</td><td style = \"text-align: right;\">0</td><td style = \"text-align: right;\">1</td><td style = \"text-align: right;\">1.14421</td><td style = \"text-align: right;\">3.62003</td><td style = \"text-align: right;\">15.7393</td><td style = \"text-align: right;\">324</td><td style = \"text-align: right;\">5832</td><td style = \"text-align: right;\">121</td><td style = \"text-align: right;\">0</td><td style = \"text-align: right;\">0</td><td style = \"text-align: right;\">12.5863</td><td style = \"text-align: right;\">1.30922</td><td style = \"text-align: right;\">13.1046</td></tr><tr><td class = \"rowNumber\" style = \"font-weight: bold; text-align: right;\">9</td><td style = \"text-align: right;\">0</td><td style = \"text-align: right;\">48</td><td style = \"text-align: right;\">9</td><td style = \"text-align: right;\">0</td><td style = \"text-align: right;\">0</td><td style = \"text-align: right;\">1</td><td style = \"text-align: right;\">1</td><td style = \"text-align: right;\">25.8623</td><td style = \"text-align: right;\">25.2436</td><td style = \"text-align: right;\">25.5647</td><td style = \"text-align: right;\">2304</td><td style = \"text-align: right;\">110592</td><td style = \"text-align: right;\">81</td><td style = \"text-align: right;\">0</td><td style = \"text-align: right;\">0</td><td style = \"text-align: right;\">232.761</td><td style = \"text-align: right;\">668.86</td><td style = \"text-align: right;\">637.237</td></tr><tr><td class = \"rowNumber\" style = \"font-weight: bold; text-align: right;\">10</td><td style = \"text-align: right;\">0</td><td style = \"text-align: right;\">45</td><td style = \"text-align: right;\">12</td><td style = \"text-align: right;\">0</td><td style = \"text-align: right;\">0</td><td style = \"text-align: right;\">1</td><td style = \"text-align: right;\">0</td><td style = \"text-align: right;\">25.8623</td><td style = \"text-align: right;\">0.0</td><td style = \"text-align: right;\">3.92484</td><td style = \"text-align: right;\">2025</td><td style = \"text-align: right;\">91125</td><td style = \"text-align: right;\">144</td><td style = \"text-align: right;\">0</td><td style = \"text-align: right;\">1</td><td style = \"text-align: right;\">310.348</td><td style = \"text-align: right;\">668.86</td><td style = \"text-align: right;\">0.0</td></tr><tr><td class = \"rowNumber\" style = \"font-weight: bold; text-align: right;\">11</td><td style = \"text-align: right;\">0</td><td style = \"text-align: right;\">34</td><td style = \"text-align: right;\">14</td><td style = \"text-align: right;\">0</td><td style = \"text-align: right;\">0</td><td style = \"text-align: right;\">1</td><td style = \"text-align: right;\">0</td><td style = \"text-align: right;\">25.8623</td><td style = \"text-align: right;\">23.7468</td><td style = \"text-align: right;\">25.5647</td><td style = \"text-align: right;\">1156</td><td style = \"text-align: right;\">39304</td><td style = \"text-align: right;\">196</td><td style = \"text-align: right;\">0</td><td style = \"text-align: right;\">0</td><td style = \"text-align: right;\">362.072</td><td style = \"text-align: right;\">668.86</td><td style = \"text-align: right;\">563.912</td></tr><tr><td class = \"rowNumber\" style = \"font-weight: bold; text-align: right;\">12</td><td style = \"text-align: right;\">0</td><td style = \"text-align: right;\">16</td><td style = \"text-align: right;\">10</td><td style = \"text-align: right;\">0</td><td style = \"text-align: right;\">0</td><td style = \"text-align: right;\">0</td><td style = \"text-align: right;\">1</td><td style = \"text-align: right;\">1.02666</td><td style = \"text-align: right;\">1.22458</td><td style = \"text-align: right;\">6.84779</td><td style = \"text-align: right;\">256</td><td style = \"text-align: right;\">4096</td><td style = \"text-align: right;\">100</td><td style = \"text-align: right;\">0</td><td style = \"text-align: right;\">0</td><td style = \"text-align: right;\">10.2666</td><td style = \"text-align: right;\">1.05402</td><td style = \"text-align: right;\">1.4996</td></tr><tr><td class = \"rowNumber\" style = \"font-weight: bold; text-align: right;\">13</td><td style = \"text-align: right;\">0</td><td style = \"text-align: right;\">53</td><td style = \"text-align: right;\">10</td><td style = \"text-align: right;\">0</td><td style = \"text-align: right;\">0</td><td style = \"text-align: right;\">1</td><td style = \"text-align: right;\">1</td><td style = \"text-align: right;\">25.8623</td><td style = \"text-align: right;\">25.2436</td><td style = \"text-align: right;\">25.5647</td><td style = \"text-align: right;\">2809</td><td style = \"text-align: right;\">148877</td><td style = \"text-align: right;\">100</td><td style = \"text-align: right;\">0</td><td style = \"text-align: right;\">0</td><td style = \"text-align: right;\">258.623</td><td style = \"text-align: right;\">668.86</td><td style = \"text-align: right;\">637.237</td></tr><tr><td style = \"text-align: right;\">&vellip;</td><td style = \"text-align: right;\">&vellip;</td><td style = \"text-align: right;\">&vellip;</td><td style = \"text-align: right;\">&vellip;</td><td style = \"text-align: right;\">&vellip;</td><td style = \"text-align: right;\">&vellip;</td><td style = \"text-align: right;\">&vellip;</td><td style = \"text-align: right;\">&vellip;</td><td style = \"text-align: right;\">&vellip;</td><td style = \"text-align: right;\">&vellip;</td><td style = \"text-align: right;\">&vellip;</td><td style = \"text-align: right;\">&vellip;</td><td style = \"text-align: right;\">&vellip;</td><td style = \"text-align: right;\">&vellip;</td><td style = \"text-align: right;\">&vellip;</td><td style = \"text-align: right;\">&vellip;</td><td style = \"text-align: right;\">&vellip;</td><td style = \"text-align: right;\">&vellip;</td><td style = \"text-align: right;\">&vellip;</td></tr><tr><td class = \"rowNumber\" style = \"font-weight: bold; text-align: right;\">16166</td><td style = \"text-align: right;\">1</td><td style = \"text-align: right;\">19</td><td style = \"text-align: right;\">10</td><td style = \"text-align: right;\">1</td><td style = \"text-align: right;\">0</td><td style = \"text-align: right;\">0</td><td style = \"text-align: right;\">1</td><td style = \"text-align: right;\">4.12195</td><td style = \"text-align: right;\">6.05675</td><td style = \"text-align: right;\">0.0</td><td style = \"text-align: right;\">361</td><td style = \"text-align: right;\">6859</td><td style = \"text-align: right;\">100</td><td style = \"text-align: right;\">0</td><td style = \"text-align: right;\">0</td><td style = \"text-align: right;\">41.2195</td><td style = \"text-align: right;\">16.9905</td><td style = \"text-align: right;\">36.6843</td></tr><tr><td class = \"rowNumber\" style = \"font-weight: bold; text-align: right;\">16167</td><td style = \"text-align: right;\">1</td><td style = \"text-align: right;\">26</td><td style = \"text-align: right;\">10</td><td style = \"text-align: right;\">1</td><td style = \"text-align: right;\">0</td><td style = \"text-align: right;\">0</td><td style = \"text-align: right;\">1</td><td style = \"text-align: right;\">25.9297</td><td style = \"text-align: right;\">6.78896</td><td style = \"text-align: right;\">0.672877</td><td style = \"text-align: right;\">676</td><td style = \"text-align: right;\">17576</td><td style = \"text-align: right;\">100</td><td style = \"text-align: right;\">0</td><td style = \"text-align: right;\">0</td><td style = \"text-align: right;\">259.297</td><td style = \"text-align: right;\">672.348</td><td style = \"text-align: right;\">46.09</td></tr><tr><td class = \"rowNumber\" style = \"font-weight: bold; text-align: right;\">16168</td><td style = \"text-align: right;\">1</td><td style = \"text-align: right;\">28</td><td style = \"text-align: right;\">11</td><td style = \"text-align: right;\">1</td><td style = \"text-align: right;\">0</td><td style = \"text-align: right;\">0</td><td style = \"text-align: right;\">1</td><td style = \"text-align: right;\">1.92903</td><td style = \"text-align: right;\">6.87186</td><td style = \"text-align: right;\">0.0</td><td style = \"text-align: right;\">784</td><td style = \"text-align: right;\">21952</td><td style = \"text-align: right;\">121</td><td style = \"text-align: right;\">0</td><td style = \"text-align: right;\">0</td><td style = \"text-align: right;\">21.2193</td><td style = \"text-align: right;\">3.72115</td><td style = \"text-align: right;\">47.2224</td></tr><tr><td class = \"rowNumber\" style = \"font-weight: bold; text-align: right;\">16169</td><td style = \"text-align: right;\">1</td><td style = \"text-align: right;\">22</td><td style = \"text-align: right;\">12</td><td style = \"text-align: right;\">0</td><td style = \"text-align: right;\">1</td><td style = \"text-align: right;\">1</td><td style = \"text-align: right;\">0</td><td style = \"text-align: right;\">0.49223</td><td style = \"text-align: right;\">7.0557</td><td style = \"text-align: right;\">10.0928</td><td style = \"text-align: right;\">484</td><td style = \"text-align: right;\">10648</td><td style = \"text-align: right;\">144</td><td style = \"text-align: right;\">0</td><td style = \"text-align: right;\">0</td><td style = \"text-align: right;\">5.90677</td><td style = \"text-align: right;\">0.242291</td><td style = \"text-align: right;\">49.7829</td></tr><tr><td class = \"rowNumber\" style = \"font-weight: bold; text-align: right;\">16170</td><td style = \"text-align: right;\">1</td><td style = \"text-align: right;\">33</td><td style = \"text-align: right;\">11</td><td style = \"text-align: right;\">1</td><td style = \"text-align: right;\">0</td><td style = \"text-align: right;\">0</td><td style = \"text-align: right;\">1</td><td style = \"text-align: right;\">0.0</td><td style = \"text-align: right;\">7.86792</td><td style = \"text-align: right;\">6.28143</td><td style = \"text-align: right;\">1089</td><td style = \"text-align: right;\">35937</td><td style = \"text-align: right;\">121</td><td style = \"text-align: right;\">1</td><td style = \"text-align: right;\">0</td><td style = \"text-align: right;\">0.0</td><td style = \"text-align: right;\">0.0</td><td style = \"text-align: right;\">61.9041</td></tr><tr><td class = \"rowNumber\" style = \"font-weight: bold; text-align: right;\">16171</td><td style = \"text-align: right;\">1</td><td style = \"text-align: right;\">22</td><td style = \"text-align: right;\">12</td><td style = \"text-align: right;\">0</td><td style = \"text-align: right;\">0</td><td style = \"text-align: right;\">0</td><td style = \"text-align: right;\">0</td><td style = \"text-align: right;\">6.75999</td><td style = \"text-align: right;\">8.4555</td><td style = \"text-align: right;\">12.5907</td><td style = \"text-align: right;\">484</td><td style = \"text-align: right;\">10648</td><td style = \"text-align: right;\">144</td><td style = \"text-align: right;\">0</td><td style = \"text-align: right;\">0</td><td style = \"text-align: right;\">81.1199</td><td style = \"text-align: right;\">45.6975</td><td style = \"text-align: right;\">71.4955</td></tr><tr><td class = \"rowNumber\" style = \"font-weight: bold; text-align: right;\">16172</td><td style = \"text-align: right;\">1</td><td style = \"text-align: right;\">29</td><td style = \"text-align: right;\">10</td><td style = \"text-align: right;\">0</td><td style = \"text-align: right;\">1</td><td style = \"text-align: right;\">0</td><td style = \"text-align: right;\">1</td><td style = \"text-align: right;\">0.0</td><td style = \"text-align: right;\">8.85367</td><td style = \"text-align: right;\">5.11201</td><td style = \"text-align: right;\">841</td><td style = \"text-align: right;\">24389</td><td style = \"text-align: right;\">100</td><td style = \"text-align: right;\">1</td><td style = \"text-align: right;\">0</td><td style = \"text-align: right;\">0.0</td><td style = \"text-align: right;\">0.0</td><td style = \"text-align: right;\">78.3875</td></tr><tr><td class = \"rowNumber\" style = \"font-weight: bold; text-align: right;\">16173</td><td style = \"text-align: right;\">1</td><td style = \"text-align: right;\">33</td><td style = \"text-align: right;\">12</td><td style = \"text-align: right;\">1</td><td style = \"text-align: right;\">0</td><td style = \"text-align: right;\">1</td><td style = \"text-align: right;\">0</td><td style = \"text-align: right;\">20.2799</td><td style = \"text-align: right;\">10.9413</td><td style = \"text-align: right;\">15.9526</td><td style = \"text-align: right;\">1089</td><td style = \"text-align: right;\">35937</td><td style = \"text-align: right;\">144</td><td style = \"text-align: right;\">0</td><td style = \"text-align: right;\">0</td><td style = \"text-align: right;\">243.359</td><td style = \"text-align: right;\">411.276</td><td style = \"text-align: right;\">119.713</td></tr><tr><td class = \"rowNumber\" style = \"font-weight: bold; text-align: right;\">16174</td><td style = \"text-align: right;\">1</td><td style = \"text-align: right;\">25</td><td style = \"text-align: right;\">14</td><td style = \"text-align: right;\">1</td><td style = \"text-align: right;\">0</td><td style = \"text-align: right;\">1</td><td style = \"text-align: right;\">0</td><td style = \"text-align: right;\">35.0401</td><td style = \"text-align: right;\">11.5366</td><td style = \"text-align: right;\">36.6469</td><td style = \"text-align: right;\">625</td><td style = \"text-align: right;\">15625</td><td style = \"text-align: right;\">196</td><td style = \"text-align: right;\">0</td><td style = \"text-align: right;\">0</td><td style = \"text-align: right;\">490.561</td><td style = \"text-align: right;\">1227.81</td><td style = \"text-align: right;\">133.092</td></tr><tr><td class = \"rowNumber\" style = \"font-weight: bold; text-align: right;\">16175</td><td style = \"text-align: right;\">1</td><td style = \"text-align: right;\">35</td><td style = \"text-align: right;\">9</td><td style = \"text-align: right;\">1</td><td style = \"text-align: right;\">0</td><td style = \"text-align: right;\">1</td><td style = \"text-align: right;\">1</td><td style = \"text-align: right;\">13.6024</td><td style = \"text-align: right;\">13.8306</td><td style = \"text-align: right;\">12.804</td><td style = \"text-align: right;\">1225</td><td style = \"text-align: right;\">42875</td><td style = \"text-align: right;\">81</td><td style = \"text-align: right;\">0</td><td style = \"text-align: right;\">0</td><td style = \"text-align: right;\">122.422</td><td style = \"text-align: right;\">185.026</td><td style = \"text-align: right;\">191.287</td></tr><tr><td class = \"rowNumber\" style = \"font-weight: bold; text-align: right;\">16176</td><td style = \"text-align: right;\">1</td><td style = \"text-align: right;\">35</td><td style = \"text-align: right;\">8</td><td style = \"text-align: right;\">1</td><td style = \"text-align: right;\">0</td><td style = \"text-align: right;\">1</td><td style = \"text-align: right;\">1</td><td style = \"text-align: right;\">13.7321</td><td style = \"text-align: right;\">17.9762</td><td style = \"text-align: right;\">3.78663</td><td style = \"text-align: right;\">1225</td><td style = \"text-align: right;\">42875</td><td style = \"text-align: right;\">64</td><td style = \"text-align: right;\">0</td><td style = \"text-align: right;\">0</td><td style = \"text-align: right;\">109.857</td><td style = \"text-align: right;\">188.57</td><td style = \"text-align: right;\">323.142</td></tr><tr><td class = \"rowNumber\" style = \"font-weight: bold; text-align: right;\">16177</td><td style = \"text-align: right;\">1</td><td style = \"text-align: right;\">33</td><td style = \"text-align: right;\">11</td><td style = \"text-align: right;\">1</td><td style = \"text-align: right;\">0</td><td style = \"text-align: right;\">1</td><td style = \"text-align: right;\">1</td><td style = \"text-align: right;\">14.6607</td><td style = \"text-align: right;\">25.1422</td><td style = \"text-align: right;\">4.18194</td><td style = \"text-align: right;\">1089</td><td style = \"text-align: right;\">35937</td><td style = \"text-align: right;\">121</td><td style = \"text-align: right;\">0</td><td style = \"text-align: right;\">0</td><td style = \"text-align: right;\">161.268</td><td style = \"text-align: right;\">214.936</td><td style = \"text-align: right;\">632.132</td></tr></tbody></table></div>"
      ],
      "text/latex": [
       "\\begin{tabular}{r|ccccccccccc}\n",
       "\t& treat & age & educ & black & hisp & marr & nodegree & re74 & re75 & re78 & \\\\\n",
       "\t\\hline\n",
       "\t& Int64 & Int64 & Int64 & Int64 & Int64 & Int64 & Int64 & Float64 & Float64 & Float64 & \\\\\n",
       "\t\\hline\n",
       "\t1 & 0 & 45 & 11 & 0 & 0 & 1 & 1 & 21.5167 & 25.2436 & 25.5647 & $\\dots$ \\\\\n",
       "\t2 & 0 & 21 & 14 & 0 & 0 & 0 & 0 & 3.17597 & 5.85256 & 13.4961 & $\\dots$ \\\\\n",
       "\t3 & 0 & 38 & 12 & 0 & 0 & 1 & 0 & 23.039 & 25.1308 & 25.5647 & $\\dots$ \\\\\n",
       "\t4 & 0 & 48 & 6 & 0 & 0 & 1 & 1 & 24.9944 & 25.2436 & 25.5647 & $\\dots$ \\\\\n",
       "\t5 & 0 & 18 & 8 & 0 & 0 & 1 & 1 & 1.6693 & 10.7276 & 9.86087 & $\\dots$ \\\\\n",
       "\t6 & 0 & 22 & 11 & 0 & 0 & 1 & 1 & 16.3658 & 18.4493 & 25.5647 & $\\dots$ \\\\\n",
       "\t7 & 0 & 48 & 10 & 0 & 0 & 1 & 1 & 16.8046 & 16.3546 & 18.0593 & $\\dots$ \\\\\n",
       "\t8 & 0 & 18 & 11 & 0 & 0 & 0 & 1 & 1.14421 & 3.62003 & 15.7393 & $\\dots$ \\\\\n",
       "\t9 & 0 & 48 & 9 & 0 & 0 & 1 & 1 & 25.8623 & 25.2436 & 25.5647 & $\\dots$ \\\\\n",
       "\t10 & 0 & 45 & 12 & 0 & 0 & 1 & 0 & 25.8623 & 0.0 & 3.92484 & $\\dots$ \\\\\n",
       "\t11 & 0 & 34 & 14 & 0 & 0 & 1 & 0 & 25.8623 & 23.7468 & 25.5647 & $\\dots$ \\\\\n",
       "\t12 & 0 & 16 & 10 & 0 & 0 & 0 & 1 & 1.02666 & 1.22458 & 6.84779 & $\\dots$ \\\\\n",
       "\t13 & 0 & 53 & 10 & 0 & 0 & 1 & 1 & 25.8623 & 25.2436 & 25.5647 & $\\dots$ \\\\\n",
       "\t14 & 0 & 19 & 12 & 0 & 0 & 0 & 0 & 0.867955 & 4.38629 & 8.7777 & $\\dots$ \\\\\n",
       "\t15 & 0 & 27 & 12 & 0 & 0 & 1 & 0 & 25.8623 & 19.0472 & 19.2149 & $\\dots$ \\\\\n",
       "\t16 & 0 & 32 & 10 & 0 & 0 & 1 & 1 & 20.4273 & 23.3744 & 9.17964 & $\\dots$ \\\\\n",
       "\t17 & 0 & 27 & 12 & 0 & 0 & 1 & 0 & 20.9838 & 14.8221 & 25.5647 & $\\dots$ \\\\\n",
       "\t18 & 0 & 46 & 7 & 0 & 0 & 1 & 1 & 19.1714 & 1.31768 & 0.0 & $\\dots$ \\\\\n",
       "\t19 & 0 & 24 & 13 & 0 & 0 & 0 & 0 & 20.8309 & 25.2436 & 23.9037 & $\\dots$ \\\\\n",
       "\t20 & 0 & 22 & 13 & 0 & 0 & 0 & 0 & 11.0365 & 10.3517 & 6.55667 & $\\dots$ \\\\\n",
       "\t21 & 0 & 49 & 10 & 0 & 0 & 1 & 1 & 0.391853 & 0.0 & 0.0 & $\\dots$ \\\\\n",
       "\t22 & 0 & 17 & 10 & 0 & 0 & 0 & 1 & 0.0 & 0.0 & 4.75532 & $\\dots$ \\\\\n",
       "\t23 & 0 & 29 & 14 & 0 & 0 & 1 & 0 & 21.499 & 22.5867 & 20.9231 & $\\dots$ \\\\\n",
       "\t24 & 0 & 28 & 16 & 0 & 0 & 1 & 0 & 16.5009 & 0.0 & 10.2672 & $\\dots$ \\\\\n",
       "\t25 & 0 & 46 & 12 & 0 & 0 & 1 & 0 & 24.8141 & 24.9678 & 19.339 & $\\dots$ \\\\\n",
       "\t26 & 0 & 26 & 17 & 1 & 0 & 1 & 0 & 0.0 & 0.0 & 4.75385 & $\\dots$ \\\\\n",
       "\t27 & 0 & 49 & 12 & 0 & 0 & 0 & 0 & 25.8623 & 25.2436 & 25.5647 & $\\dots$ \\\\\n",
       "\t28 & 0 & 51 & 10 & 0 & 0 & 1 & 1 & 25.8623 & 25.2436 & 25.5647 & $\\dots$ \\\\\n",
       "\t29 & 0 & 51 & 10 & 0 & 0 & 1 & 1 & 22.9234 & 21.7256 & 10.3485 & $\\dots$ \\\\\n",
       "\t30 & 0 & 27 & 11 & 0 & 0 & 1 & 1 & 17.0221 & 18.1234 & 18.4908 & $\\dots$ \\\\\n",
       "\t$\\dots$ & $\\dots$ & $\\dots$ & $\\dots$ & $\\dots$ & $\\dots$ & $\\dots$ & $\\dots$ & $\\dots$ & $\\dots$ & $\\dots$ &  \\\\\n",
       "\\end{tabular}\n"
      ],
      "text/plain": [
       "\u001b[1m16177×18 DataFrame\u001b[0m\n",
       "\u001b[1m   Row \u001b[0m│\u001b[1m treat \u001b[0m\u001b[1m age   \u001b[0m\u001b[1m educ  \u001b[0m\u001b[1m black \u001b[0m\u001b[1m hisp  \u001b[0m\u001b[1m marr  \u001b[0m\u001b[1m nodegree \u001b[0m\u001b[1m re74      \u001b[0m\u001b[1m re75  \u001b[0m ⋯\n",
       "       │\u001b[90m Int64 \u001b[0m\u001b[90m Int64 \u001b[0m\u001b[90m Int64 \u001b[0m\u001b[90m Int64 \u001b[0m\u001b[90m Int64 \u001b[0m\u001b[90m Int64 \u001b[0m\u001b[90m Int64    \u001b[0m\u001b[90m Float64   \u001b[0m\u001b[90m Float6\u001b[0m ⋯\n",
       "───────┼────────────────────────────────────────────────────────────────────────\n",
       "     1 │     0     45     11      0      0      1         1  21.5167    25.243 ⋯\n",
       "     2 │     0     21     14      0      0      0         0   3.17597    5.852\n",
       "     3 │     0     38     12      0      0      1         0  23.039     25.130\n",
       "     4 │     0     48      6      0      0      1         1  24.9944    25.243\n",
       "     5 │     0     18      8      0      0      1         1   1.6693    10.727 ⋯\n",
       "     6 │     0     22     11      0      0      1         1  16.3658    18.449\n",
       "     7 │     0     48     10      0      0      1         1  16.8046    16.354\n",
       "     8 │     0     18     11      0      0      0         1   1.14421    3.620\n",
       "     9 │     0     48      9      0      0      1         1  25.8623    25.243 ⋯\n",
       "    10 │     0     45     12      0      0      1         0  25.8623     0.0\n",
       "    11 │     0     34     14      0      0      1         0  25.8623    23.746\n",
       "   ⋮   │   ⋮      ⋮      ⋮      ⋮      ⋮      ⋮       ⋮          ⋮         ⋮   ⋱\n",
       " 16168 │     1     28     11      1      0      0         1   1.92903    6.871\n",
       " 16169 │     1     22     12      0      1      1         0   0.49223    7.055 ⋯\n",
       " 16170 │     1     33     11      1      0      0         1   0.0        7.867\n",
       " 16171 │     1     22     12      0      0      0         0   6.75999    8.455\n",
       " 16172 │     1     29     10      0      1      0         1   0.0        8.853\n",
       " 16173 │     1     33     12      1      0      1         0  20.2799    10.941 ⋯\n",
       " 16174 │     1     25     14      1      0      1         0  35.0401    11.536\n",
       " 16175 │     1     35      9      1      0      1         1  13.6024    13.830\n",
       " 16176 │     1     35      8      1      0      1         1  13.7321    17.976\n",
       " 16177 │     1     33     11      1      0      1         1  14.6607    25.142 ⋯\n",
       "\u001b[36m                                               10 columns and 16156 rows omitted\u001b[0m"
      ]
     },
     "execution_count": 83,
     "metadata": {},
     "output_type": "execute_result"
    }
   ],
   "source": [
    "data"
   ]
  },
  {
   "cell_type": "markdown",
   "metadata": {},
   "source": [
    "2. "
   ]
  },
  {
   "cell_type": "markdown",
   "metadata": {},
   "source": [
    "Spliting "
   ]
  },
  {
   "cell_type": "code",
   "execution_count": 84,
   "metadata": {},
   "outputs": [
    {
     "data": {
      "text/html": [
       "<div><div style = \"float: left;\"><span>185×18 DataFrame</span></div><div style = \"float: right;\"><span style = \"font-style: italic;\">160 rows omitted</span></div><div style = \"clear: both;\"></div></div><div class = \"data-frame\" style = \"overflow-x: scroll;\"><table class = \"data-frame\" style = \"margin-bottom: 6px;\"><thead><tr class = \"header\"><th class = \"rowNumber\" style = \"font-weight: bold; text-align: right;\">Row</th><th style = \"text-align: left;\">treat</th><th style = \"text-align: left;\">age</th><th style = \"text-align: left;\">educ</th><th style = \"text-align: left;\">black</th><th style = \"text-align: left;\">hisp</th><th style = \"text-align: left;\">marr</th><th style = \"text-align: left;\">nodegree</th><th style = \"text-align: left;\">re74</th><th style = \"text-align: left;\">re75</th><th style = \"text-align: left;\">re78</th><th style = \"text-align: left;\">agesq</th><th style = \"text-align: left;\">agecube</th><th style = \"text-align: left;\">educsq</th><th style = \"text-align: left;\">u74</th><th style = \"text-align: left;\">u75</th><th style = \"text-align: left;\">interaction1</th><th style = \"text-align: left;\">re74sq</th><th style = \"text-align: left;\">re75sq</th></tr><tr class = \"subheader headerLastRow\"><th class = \"rowNumber\" style = \"font-weight: bold; text-align: right;\"></th><th title = \"Int64\" style = \"text-align: left;\">Int64</th><th title = \"Int64\" style = \"text-align: left;\">Int64</th><th title = \"Int64\" style = \"text-align: left;\">Int64</th><th title = \"Int64\" style = \"text-align: left;\">Int64</th><th title = \"Int64\" style = \"text-align: left;\">Int64</th><th title = \"Int64\" style = \"text-align: left;\">Int64</th><th title = \"Int64\" style = \"text-align: left;\">Int64</th><th title = \"Float64\" style = \"text-align: left;\">Float64</th><th title = \"Float64\" style = \"text-align: left;\">Float64</th><th title = \"Float64\" style = \"text-align: left;\">Float64</th><th title = \"Int64\" style = \"text-align: left;\">Int64</th><th title = \"Int64\" style = \"text-align: left;\">Int64</th><th title = \"Int64\" style = \"text-align: left;\">Int64</th><th title = \"Int64\" style = \"text-align: left;\">Int64</th><th title = \"Int64\" style = \"text-align: left;\">Int64</th><th title = \"Float64\" style = \"text-align: left;\">Float64</th><th title = \"Float64\" style = \"text-align: left;\">Float64</th><th title = \"Float64\" style = \"text-align: left;\">Float64</th></tr></thead><tbody><tr><td class = \"rowNumber\" style = \"font-weight: bold; text-align: right;\">1</td><td style = \"text-align: right;\">1</td><td style = \"text-align: right;\">37</td><td style = \"text-align: right;\">11</td><td style = \"text-align: right;\">1</td><td style = \"text-align: right;\">0</td><td style = \"text-align: right;\">1</td><td style = \"text-align: right;\">1</td><td style = \"text-align: right;\">0.0</td><td style = \"text-align: right;\">0.0</td><td style = \"text-align: right;\">9.93005</td><td style = \"text-align: right;\">1369</td><td style = \"text-align: right;\">50653</td><td style = \"text-align: right;\">121</td><td style = \"text-align: right;\">1</td><td style = \"text-align: right;\">1</td><td style = \"text-align: right;\">0.0</td><td style = \"text-align: right;\">0.0</td><td style = \"text-align: right;\">0.0</td></tr><tr><td class = \"rowNumber\" style = \"font-weight: bold; text-align: right;\">2</td><td style = \"text-align: right;\">1</td><td style = \"text-align: right;\">22</td><td style = \"text-align: right;\">9</td><td style = \"text-align: right;\">0</td><td style = \"text-align: right;\">1</td><td style = \"text-align: right;\">0</td><td style = \"text-align: right;\">1</td><td style = \"text-align: right;\">0.0</td><td style = \"text-align: right;\">0.0</td><td style = \"text-align: right;\">3.59589</td><td style = \"text-align: right;\">484</td><td style = \"text-align: right;\">10648</td><td style = \"text-align: right;\">81</td><td style = \"text-align: right;\">1</td><td style = \"text-align: right;\">1</td><td style = \"text-align: right;\">0.0</td><td style = \"text-align: right;\">0.0</td><td style = \"text-align: right;\">0.0</td></tr><tr><td class = \"rowNumber\" style = \"font-weight: bold; text-align: right;\">3</td><td style = \"text-align: right;\">1</td><td style = \"text-align: right;\">30</td><td style = \"text-align: right;\">12</td><td style = \"text-align: right;\">1</td><td style = \"text-align: right;\">0</td><td style = \"text-align: right;\">0</td><td style = \"text-align: right;\">0</td><td style = \"text-align: right;\">0.0</td><td style = \"text-align: right;\">0.0</td><td style = \"text-align: right;\">24.9094</td><td style = \"text-align: right;\">900</td><td style = \"text-align: right;\">27000</td><td style = \"text-align: right;\">144</td><td style = \"text-align: right;\">1</td><td style = \"text-align: right;\">1</td><td style = \"text-align: right;\">0.0</td><td style = \"text-align: right;\">0.0</td><td style = \"text-align: right;\">0.0</td></tr><tr><td class = \"rowNumber\" style = \"font-weight: bold; text-align: right;\">4</td><td style = \"text-align: right;\">1</td><td style = \"text-align: right;\">27</td><td style = \"text-align: right;\">11</td><td style = \"text-align: right;\">1</td><td style = \"text-align: right;\">0</td><td style = \"text-align: right;\">0</td><td style = \"text-align: right;\">1</td><td style = \"text-align: right;\">0.0</td><td style = \"text-align: right;\">0.0</td><td style = \"text-align: right;\">7.50615</td><td style = \"text-align: right;\">729</td><td style = \"text-align: right;\">19683</td><td style = \"text-align: right;\">121</td><td style = \"text-align: right;\">1</td><td style = \"text-align: right;\">1</td><td style = \"text-align: right;\">0.0</td><td style = \"text-align: right;\">0.0</td><td style = \"text-align: right;\">0.0</td></tr><tr><td class = \"rowNumber\" style = \"font-weight: bold; text-align: right;\">5</td><td style = \"text-align: right;\">1</td><td style = \"text-align: right;\">33</td><td style = \"text-align: right;\">8</td><td style = \"text-align: right;\">1</td><td style = \"text-align: right;\">0</td><td style = \"text-align: right;\">0</td><td style = \"text-align: right;\">1</td><td style = \"text-align: right;\">0.0</td><td style = \"text-align: right;\">0.0</td><td style = \"text-align: right;\">0.28979</td><td style = \"text-align: right;\">1089</td><td style = \"text-align: right;\">35937</td><td style = \"text-align: right;\">64</td><td style = \"text-align: right;\">1</td><td style = \"text-align: right;\">1</td><td style = \"text-align: right;\">0.0</td><td style = \"text-align: right;\">0.0</td><td style = \"text-align: right;\">0.0</td></tr><tr><td class = \"rowNumber\" style = \"font-weight: bold; text-align: right;\">6</td><td style = \"text-align: right;\">1</td><td style = \"text-align: right;\">22</td><td style = \"text-align: right;\">9</td><td style = \"text-align: right;\">1</td><td style = \"text-align: right;\">0</td><td style = \"text-align: right;\">0</td><td style = \"text-align: right;\">1</td><td style = \"text-align: right;\">0.0</td><td style = \"text-align: right;\">0.0</td><td style = \"text-align: right;\">4.05649</td><td style = \"text-align: right;\">484</td><td style = \"text-align: right;\">10648</td><td style = \"text-align: right;\">81</td><td style = \"text-align: right;\">1</td><td style = \"text-align: right;\">1</td><td style = \"text-align: right;\">0.0</td><td style = \"text-align: right;\">0.0</td><td style = \"text-align: right;\">0.0</td></tr><tr><td class = \"rowNumber\" style = \"font-weight: bold; text-align: right;\">7</td><td style = \"text-align: right;\">1</td><td style = \"text-align: right;\">23</td><td style = \"text-align: right;\">12</td><td style = \"text-align: right;\">1</td><td style = \"text-align: right;\">0</td><td style = \"text-align: right;\">0</td><td style = \"text-align: right;\">0</td><td style = \"text-align: right;\">0.0</td><td style = \"text-align: right;\">0.0</td><td style = \"text-align: right;\">0.0</td><td style = \"text-align: right;\">529</td><td style = \"text-align: right;\">12167</td><td style = \"text-align: right;\">144</td><td style = \"text-align: right;\">1</td><td style = \"text-align: right;\">1</td><td style = \"text-align: right;\">0.0</td><td style = \"text-align: right;\">0.0</td><td style = \"text-align: right;\">0.0</td></tr><tr><td class = \"rowNumber\" style = \"font-weight: bold; text-align: right;\">8</td><td style = \"text-align: right;\">1</td><td style = \"text-align: right;\">32</td><td style = \"text-align: right;\">11</td><td style = \"text-align: right;\">1</td><td style = \"text-align: right;\">0</td><td style = \"text-align: right;\">0</td><td style = \"text-align: right;\">1</td><td style = \"text-align: right;\">0.0</td><td style = \"text-align: right;\">0.0</td><td style = \"text-align: right;\">8.47216</td><td style = \"text-align: right;\">1024</td><td style = \"text-align: right;\">32768</td><td style = \"text-align: right;\">121</td><td style = \"text-align: right;\">1</td><td style = \"text-align: right;\">1</td><td style = \"text-align: right;\">0.0</td><td style = \"text-align: right;\">0.0</td><td style = \"text-align: right;\">0.0</td></tr><tr><td class = \"rowNumber\" style = \"font-weight: bold; text-align: right;\">9</td><td style = \"text-align: right;\">1</td><td style = \"text-align: right;\">22</td><td style = \"text-align: right;\">16</td><td style = \"text-align: right;\">1</td><td style = \"text-align: right;\">0</td><td style = \"text-align: right;\">0</td><td style = \"text-align: right;\">0</td><td style = \"text-align: right;\">0.0</td><td style = \"text-align: right;\">0.0</td><td style = \"text-align: right;\">2.16402</td><td style = \"text-align: right;\">484</td><td style = \"text-align: right;\">10648</td><td style = \"text-align: right;\">256</td><td style = \"text-align: right;\">1</td><td style = \"text-align: right;\">1</td><td style = \"text-align: right;\">0.0</td><td style = \"text-align: right;\">0.0</td><td style = \"text-align: right;\">0.0</td></tr><tr><td class = \"rowNumber\" style = \"font-weight: bold; text-align: right;\">10</td><td style = \"text-align: right;\">1</td><td style = \"text-align: right;\">33</td><td style = \"text-align: right;\">12</td><td style = \"text-align: right;\">0</td><td style = \"text-align: right;\">0</td><td style = \"text-align: right;\">1</td><td style = \"text-align: right;\">0</td><td style = \"text-align: right;\">0.0</td><td style = \"text-align: right;\">0.0</td><td style = \"text-align: right;\">12.4181</td><td style = \"text-align: right;\">1089</td><td style = \"text-align: right;\">35937</td><td style = \"text-align: right;\">144</td><td style = \"text-align: right;\">1</td><td style = \"text-align: right;\">1</td><td style = \"text-align: right;\">0.0</td><td style = \"text-align: right;\">0.0</td><td style = \"text-align: right;\">0.0</td></tr><tr><td class = \"rowNumber\" style = \"font-weight: bold; text-align: right;\">11</td><td style = \"text-align: right;\">1</td><td style = \"text-align: right;\">19</td><td style = \"text-align: right;\">9</td><td style = \"text-align: right;\">1</td><td style = \"text-align: right;\">0</td><td style = \"text-align: right;\">0</td><td style = \"text-align: right;\">1</td><td style = \"text-align: right;\">0.0</td><td style = \"text-align: right;\">0.0</td><td style = \"text-align: right;\">8.17391</td><td style = \"text-align: right;\">361</td><td style = \"text-align: right;\">6859</td><td style = \"text-align: right;\">81</td><td style = \"text-align: right;\">1</td><td style = \"text-align: right;\">1</td><td style = \"text-align: right;\">0.0</td><td style = \"text-align: right;\">0.0</td><td style = \"text-align: right;\">0.0</td></tr><tr><td class = \"rowNumber\" style = \"font-weight: bold; text-align: right;\">12</td><td style = \"text-align: right;\">1</td><td style = \"text-align: right;\">21</td><td style = \"text-align: right;\">13</td><td style = \"text-align: right;\">1</td><td style = \"text-align: right;\">0</td><td style = \"text-align: right;\">0</td><td style = \"text-align: right;\">0</td><td style = \"text-align: right;\">0.0</td><td style = \"text-align: right;\">0.0</td><td style = \"text-align: right;\">17.0946</td><td style = \"text-align: right;\">441</td><td style = \"text-align: right;\">9261</td><td style = \"text-align: right;\">169</td><td style = \"text-align: right;\">1</td><td style = \"text-align: right;\">1</td><td style = \"text-align: right;\">0.0</td><td style = \"text-align: right;\">0.0</td><td style = \"text-align: right;\">0.0</td></tr><tr><td class = \"rowNumber\" style = \"font-weight: bold; text-align: right;\">13</td><td style = \"text-align: right;\">1</td><td style = \"text-align: right;\">18</td><td style = \"text-align: right;\">8</td><td style = \"text-align: right;\">1</td><td style = \"text-align: right;\">0</td><td style = \"text-align: right;\">0</td><td style = \"text-align: right;\">1</td><td style = \"text-align: right;\">0.0</td><td style = \"text-align: right;\">0.0</td><td style = \"text-align: right;\">0.0</td><td style = \"text-align: right;\">324</td><td style = \"text-align: right;\">5832</td><td style = \"text-align: right;\">64</td><td style = \"text-align: right;\">1</td><td style = \"text-align: right;\">1</td><td style = \"text-align: right;\">0.0</td><td style = \"text-align: right;\">0.0</td><td style = \"text-align: right;\">0.0</td></tr><tr><td style = \"text-align: right;\">&vellip;</td><td style = \"text-align: right;\">&vellip;</td><td style = \"text-align: right;\">&vellip;</td><td style = \"text-align: right;\">&vellip;</td><td style = \"text-align: right;\">&vellip;</td><td style = \"text-align: right;\">&vellip;</td><td style = \"text-align: right;\">&vellip;</td><td style = \"text-align: right;\">&vellip;</td><td style = \"text-align: right;\">&vellip;</td><td style = \"text-align: right;\">&vellip;</td><td style = \"text-align: right;\">&vellip;</td><td style = \"text-align: right;\">&vellip;</td><td style = \"text-align: right;\">&vellip;</td><td style = \"text-align: right;\">&vellip;</td><td style = \"text-align: right;\">&vellip;</td><td style = \"text-align: right;\">&vellip;</td><td style = \"text-align: right;\">&vellip;</td><td style = \"text-align: right;\">&vellip;</td><td style = \"text-align: right;\">&vellip;</td></tr><tr><td class = \"rowNumber\" style = \"font-weight: bold; text-align: right;\">174</td><td style = \"text-align: right;\">1</td><td style = \"text-align: right;\">19</td><td style = \"text-align: right;\">10</td><td style = \"text-align: right;\">1</td><td style = \"text-align: right;\">0</td><td style = \"text-align: right;\">0</td><td style = \"text-align: right;\">1</td><td style = \"text-align: right;\">4.12195</td><td style = \"text-align: right;\">6.05675</td><td style = \"text-align: right;\">0.0</td><td style = \"text-align: right;\">361</td><td style = \"text-align: right;\">6859</td><td style = \"text-align: right;\">100</td><td style = \"text-align: right;\">0</td><td style = \"text-align: right;\">0</td><td style = \"text-align: right;\">41.2195</td><td style = \"text-align: right;\">16.9905</td><td style = \"text-align: right;\">36.6843</td></tr><tr><td class = \"rowNumber\" style = \"font-weight: bold; text-align: right;\">175</td><td style = \"text-align: right;\">1</td><td style = \"text-align: right;\">26</td><td style = \"text-align: right;\">10</td><td style = \"text-align: right;\">1</td><td style = \"text-align: right;\">0</td><td style = \"text-align: right;\">0</td><td style = \"text-align: right;\">1</td><td style = \"text-align: right;\">25.9297</td><td style = \"text-align: right;\">6.78896</td><td style = \"text-align: right;\">0.672877</td><td style = \"text-align: right;\">676</td><td style = \"text-align: right;\">17576</td><td style = \"text-align: right;\">100</td><td style = \"text-align: right;\">0</td><td style = \"text-align: right;\">0</td><td style = \"text-align: right;\">259.297</td><td style = \"text-align: right;\">672.348</td><td style = \"text-align: right;\">46.09</td></tr><tr><td class = \"rowNumber\" style = \"font-weight: bold; text-align: right;\">176</td><td style = \"text-align: right;\">1</td><td style = \"text-align: right;\">28</td><td style = \"text-align: right;\">11</td><td style = \"text-align: right;\">1</td><td style = \"text-align: right;\">0</td><td style = \"text-align: right;\">0</td><td style = \"text-align: right;\">1</td><td style = \"text-align: right;\">1.92903</td><td style = \"text-align: right;\">6.87186</td><td style = \"text-align: right;\">0.0</td><td style = \"text-align: right;\">784</td><td style = \"text-align: right;\">21952</td><td style = \"text-align: right;\">121</td><td style = \"text-align: right;\">0</td><td style = \"text-align: right;\">0</td><td style = \"text-align: right;\">21.2193</td><td style = \"text-align: right;\">3.72115</td><td style = \"text-align: right;\">47.2224</td></tr><tr><td class = \"rowNumber\" style = \"font-weight: bold; text-align: right;\">177</td><td style = \"text-align: right;\">1</td><td style = \"text-align: right;\">22</td><td style = \"text-align: right;\">12</td><td style = \"text-align: right;\">0</td><td style = \"text-align: right;\">1</td><td style = \"text-align: right;\">1</td><td style = \"text-align: right;\">0</td><td style = \"text-align: right;\">0.49223</td><td style = \"text-align: right;\">7.0557</td><td style = \"text-align: right;\">10.0928</td><td style = \"text-align: right;\">484</td><td style = \"text-align: right;\">10648</td><td style = \"text-align: right;\">144</td><td style = \"text-align: right;\">0</td><td style = \"text-align: right;\">0</td><td style = \"text-align: right;\">5.90677</td><td style = \"text-align: right;\">0.242291</td><td style = \"text-align: right;\">49.7829</td></tr><tr><td class = \"rowNumber\" style = \"font-weight: bold; text-align: right;\">178</td><td style = \"text-align: right;\">1</td><td style = \"text-align: right;\">33</td><td style = \"text-align: right;\">11</td><td style = \"text-align: right;\">1</td><td style = \"text-align: right;\">0</td><td style = \"text-align: right;\">0</td><td style = \"text-align: right;\">1</td><td style = \"text-align: right;\">0.0</td><td style = \"text-align: right;\">7.86792</td><td style = \"text-align: right;\">6.28143</td><td style = \"text-align: right;\">1089</td><td style = \"text-align: right;\">35937</td><td style = \"text-align: right;\">121</td><td style = \"text-align: right;\">1</td><td style = \"text-align: right;\">0</td><td style = \"text-align: right;\">0.0</td><td style = \"text-align: right;\">0.0</td><td style = \"text-align: right;\">61.9041</td></tr><tr><td class = \"rowNumber\" style = \"font-weight: bold; text-align: right;\">179</td><td style = \"text-align: right;\">1</td><td style = \"text-align: right;\">22</td><td style = \"text-align: right;\">12</td><td style = \"text-align: right;\">0</td><td style = \"text-align: right;\">0</td><td style = \"text-align: right;\">0</td><td style = \"text-align: right;\">0</td><td style = \"text-align: right;\">6.75999</td><td style = \"text-align: right;\">8.4555</td><td style = \"text-align: right;\">12.5907</td><td style = \"text-align: right;\">484</td><td style = \"text-align: right;\">10648</td><td style = \"text-align: right;\">144</td><td style = \"text-align: right;\">0</td><td style = \"text-align: right;\">0</td><td style = \"text-align: right;\">81.1199</td><td style = \"text-align: right;\">45.6975</td><td style = \"text-align: right;\">71.4955</td></tr><tr><td class = \"rowNumber\" style = \"font-weight: bold; text-align: right;\">180</td><td style = \"text-align: right;\">1</td><td style = \"text-align: right;\">29</td><td style = \"text-align: right;\">10</td><td style = \"text-align: right;\">0</td><td style = \"text-align: right;\">1</td><td style = \"text-align: right;\">0</td><td style = \"text-align: right;\">1</td><td style = \"text-align: right;\">0.0</td><td style = \"text-align: right;\">8.85367</td><td style = \"text-align: right;\">5.11201</td><td style = \"text-align: right;\">841</td><td style = \"text-align: right;\">24389</td><td style = \"text-align: right;\">100</td><td style = \"text-align: right;\">1</td><td style = \"text-align: right;\">0</td><td style = \"text-align: right;\">0.0</td><td style = \"text-align: right;\">0.0</td><td style = \"text-align: right;\">78.3875</td></tr><tr><td class = \"rowNumber\" style = \"font-weight: bold; text-align: right;\">181</td><td style = \"text-align: right;\">1</td><td style = \"text-align: right;\">33</td><td style = \"text-align: right;\">12</td><td style = \"text-align: right;\">1</td><td style = \"text-align: right;\">0</td><td style = \"text-align: right;\">1</td><td style = \"text-align: right;\">0</td><td style = \"text-align: right;\">20.2799</td><td style = \"text-align: right;\">10.9413</td><td style = \"text-align: right;\">15.9526</td><td style = \"text-align: right;\">1089</td><td style = \"text-align: right;\">35937</td><td style = \"text-align: right;\">144</td><td style = \"text-align: right;\">0</td><td style = \"text-align: right;\">0</td><td style = \"text-align: right;\">243.359</td><td style = \"text-align: right;\">411.276</td><td style = \"text-align: right;\">119.713</td></tr><tr><td class = \"rowNumber\" style = \"font-weight: bold; text-align: right;\">182</td><td style = \"text-align: right;\">1</td><td style = \"text-align: right;\">25</td><td style = \"text-align: right;\">14</td><td style = \"text-align: right;\">1</td><td style = \"text-align: right;\">0</td><td style = \"text-align: right;\">1</td><td style = \"text-align: right;\">0</td><td style = \"text-align: right;\">35.0401</td><td style = \"text-align: right;\">11.5366</td><td style = \"text-align: right;\">36.6469</td><td style = \"text-align: right;\">625</td><td style = \"text-align: right;\">15625</td><td style = \"text-align: right;\">196</td><td style = \"text-align: right;\">0</td><td style = \"text-align: right;\">0</td><td style = \"text-align: right;\">490.561</td><td style = \"text-align: right;\">1227.81</td><td style = \"text-align: right;\">133.092</td></tr><tr><td class = \"rowNumber\" style = \"font-weight: bold; text-align: right;\">183</td><td style = \"text-align: right;\">1</td><td style = \"text-align: right;\">35</td><td style = \"text-align: right;\">9</td><td style = \"text-align: right;\">1</td><td style = \"text-align: right;\">0</td><td style = \"text-align: right;\">1</td><td style = \"text-align: right;\">1</td><td style = \"text-align: right;\">13.6024</td><td style = \"text-align: right;\">13.8306</td><td style = \"text-align: right;\">12.804</td><td style = \"text-align: right;\">1225</td><td style = \"text-align: right;\">42875</td><td style = \"text-align: right;\">81</td><td style = \"text-align: right;\">0</td><td style = \"text-align: right;\">0</td><td style = \"text-align: right;\">122.422</td><td style = \"text-align: right;\">185.026</td><td style = \"text-align: right;\">191.287</td></tr><tr><td class = \"rowNumber\" style = \"font-weight: bold; text-align: right;\">184</td><td style = \"text-align: right;\">1</td><td style = \"text-align: right;\">35</td><td style = \"text-align: right;\">8</td><td style = \"text-align: right;\">1</td><td style = \"text-align: right;\">0</td><td style = \"text-align: right;\">1</td><td style = \"text-align: right;\">1</td><td style = \"text-align: right;\">13.7321</td><td style = \"text-align: right;\">17.9762</td><td style = \"text-align: right;\">3.78663</td><td style = \"text-align: right;\">1225</td><td style = \"text-align: right;\">42875</td><td style = \"text-align: right;\">64</td><td style = \"text-align: right;\">0</td><td style = \"text-align: right;\">0</td><td style = \"text-align: right;\">109.857</td><td style = \"text-align: right;\">188.57</td><td style = \"text-align: right;\">323.142</td></tr><tr><td class = \"rowNumber\" style = \"font-weight: bold; text-align: right;\">185</td><td style = \"text-align: right;\">1</td><td style = \"text-align: right;\">33</td><td style = \"text-align: right;\">11</td><td style = \"text-align: right;\">1</td><td style = \"text-align: right;\">0</td><td style = \"text-align: right;\">1</td><td style = \"text-align: right;\">1</td><td style = \"text-align: right;\">14.6607</td><td style = \"text-align: right;\">25.1422</td><td style = \"text-align: right;\">4.18194</td><td style = \"text-align: right;\">1089</td><td style = \"text-align: right;\">35937</td><td style = \"text-align: right;\">121</td><td style = \"text-align: right;\">0</td><td style = \"text-align: right;\">0</td><td style = \"text-align: right;\">161.268</td><td style = \"text-align: right;\">214.936</td><td style = \"text-align: right;\">632.132</td></tr></tbody></table></div>"
      ],
      "text/latex": [
       "\\begin{tabular}{r|cccccccccccc}\n",
       "\t& treat & age & educ & black & hisp & marr & nodegree & re74 & re75 & re78 & agesq & \\\\\n",
       "\t\\hline\n",
       "\t& Int64 & Int64 & Int64 & Int64 & Int64 & Int64 & Int64 & Float64 & Float64 & Float64 & Int64 & \\\\\n",
       "\t\\hline\n",
       "\t1 & 1 & 37 & 11 & 1 & 0 & 1 & 1 & 0.0 & 0.0 & 9.93005 & 1369 & $\\dots$ \\\\\n",
       "\t2 & 1 & 22 & 9 & 0 & 1 & 0 & 1 & 0.0 & 0.0 & 3.59589 & 484 & $\\dots$ \\\\\n",
       "\t3 & 1 & 30 & 12 & 1 & 0 & 0 & 0 & 0.0 & 0.0 & 24.9094 & 900 & $\\dots$ \\\\\n",
       "\t4 & 1 & 27 & 11 & 1 & 0 & 0 & 1 & 0.0 & 0.0 & 7.50615 & 729 & $\\dots$ \\\\\n",
       "\t5 & 1 & 33 & 8 & 1 & 0 & 0 & 1 & 0.0 & 0.0 & 0.28979 & 1089 & $\\dots$ \\\\\n",
       "\t6 & 1 & 22 & 9 & 1 & 0 & 0 & 1 & 0.0 & 0.0 & 4.05649 & 484 & $\\dots$ \\\\\n",
       "\t7 & 1 & 23 & 12 & 1 & 0 & 0 & 0 & 0.0 & 0.0 & 0.0 & 529 & $\\dots$ \\\\\n",
       "\t8 & 1 & 32 & 11 & 1 & 0 & 0 & 1 & 0.0 & 0.0 & 8.47216 & 1024 & $\\dots$ \\\\\n",
       "\t9 & 1 & 22 & 16 & 1 & 0 & 0 & 0 & 0.0 & 0.0 & 2.16402 & 484 & $\\dots$ \\\\\n",
       "\t10 & 1 & 33 & 12 & 0 & 0 & 1 & 0 & 0.0 & 0.0 & 12.4181 & 1089 & $\\dots$ \\\\\n",
       "\t11 & 1 & 19 & 9 & 1 & 0 & 0 & 1 & 0.0 & 0.0 & 8.17391 & 361 & $\\dots$ \\\\\n",
       "\t12 & 1 & 21 & 13 & 1 & 0 & 0 & 0 & 0.0 & 0.0 & 17.0946 & 441 & $\\dots$ \\\\\n",
       "\t13 & 1 & 18 & 8 & 1 & 0 & 0 & 1 & 0.0 & 0.0 & 0.0 & 324 & $\\dots$ \\\\\n",
       "\t14 & 1 & 27 & 10 & 1 & 0 & 1 & 1 & 0.0 & 0.0 & 18.7399 & 729 & $\\dots$ \\\\\n",
       "\t15 & 1 & 17 & 7 & 1 & 0 & 0 & 1 & 0.0 & 0.0 & 3.02388 & 289 & $\\dots$ \\\\\n",
       "\t16 & 1 & 19 & 10 & 1 & 0 & 0 & 1 & 0.0 & 0.0 & 3.2285 & 361 & $\\dots$ \\\\\n",
       "\t17 & 1 & 27 & 13 & 1 & 0 & 0 & 0 & 0.0 & 0.0 & 14.5819 & 729 & $\\dots$ \\\\\n",
       "\t18 & 1 & 23 & 10 & 1 & 0 & 0 & 1 & 0.0 & 0.0 & 7.6934 & 529 & $\\dots$ \\\\\n",
       "\t19 & 1 & 40 & 12 & 1 & 0 & 0 & 0 & 0.0 & 0.0 & 10.8043 & 1600 & $\\dots$ \\\\\n",
       "\t20 & 1 & 26 & 12 & 1 & 0 & 0 & 0 & 0.0 & 0.0 & 10.7473 & 676 & $\\dots$ \\\\\n",
       "\t21 & 1 & 23 & 11 & 1 & 0 & 0 & 1 & 0.0 & 0.0 & 0.0 & 529 & $\\dots$ \\\\\n",
       "\t22 & 1 & 41 & 14 & 0 & 0 & 0 & 0 & 0.0 & 0.0 & 5.1495 & 1681 & $\\dots$ \\\\\n",
       "\t23 & 1 & 38 & 9 & 0 & 0 & 0 & 1 & 0.0 & 0.0 & 6.40895 & 1444 & $\\dots$ \\\\\n",
       "\t24 & 1 & 24 & 11 & 1 & 0 & 0 & 1 & 0.0 & 0.0 & 1.9914 & 576 & $\\dots$ \\\\\n",
       "\t25 & 1 & 18 & 10 & 1 & 0 & 0 & 1 & 0.0 & 0.0 & 11.1632 & 324 & $\\dots$ \\\\\n",
       "\t26 & 1 & 29 & 11 & 1 & 0 & 1 & 1 & 0.0 & 0.0 & 9.643 & 841 & $\\dots$ \\\\\n",
       "\t27 & 1 & 25 & 11 & 1 & 0 & 0 & 1 & 0.0 & 0.0 & 9.89705 & 625 & $\\dots$ \\\\\n",
       "\t28 & 1 & 27 & 10 & 0 & 1 & 0 & 1 & 0.0 & 0.0 & 11.1429 & 729 & $\\dots$ \\\\\n",
       "\t29 & 1 & 17 & 10 & 1 & 0 & 0 & 1 & 0.0 & 0.0 & 16.218 & 289 & $\\dots$ \\\\\n",
       "\t30 & 1 & 24 & 11 & 1 & 0 & 0 & 1 & 0.0 & 0.0 & 0.9957 & 576 & $\\dots$ \\\\\n",
       "\t$\\dots$ & $\\dots$ & $\\dots$ & $\\dots$ & $\\dots$ & $\\dots$ & $\\dots$ & $\\dots$ & $\\dots$ & $\\dots$ & $\\dots$ & $\\dots$ &  \\\\\n",
       "\\end{tabular}\n"
      ],
      "text/plain": [
       "\u001b[1m185×18 DataFrame\u001b[0m\n",
       "\u001b[1m Row \u001b[0m│\u001b[1m treat \u001b[0m\u001b[1m age   \u001b[0m\u001b[1m educ  \u001b[0m\u001b[1m black \u001b[0m\u001b[1m hisp  \u001b[0m\u001b[1m marr  \u001b[0m\u001b[1m nodegree \u001b[0m\u001b[1m re74     \u001b[0m\u001b[1m re75     \u001b[0m\u001b[1m\u001b[0m ⋯\n",
       "     │\u001b[90m Int64 \u001b[0m\u001b[90m Int64 \u001b[0m\u001b[90m Int64 \u001b[0m\u001b[90m Int64 \u001b[0m\u001b[90m Int64 \u001b[0m\u001b[90m Int64 \u001b[0m\u001b[90m Int64    \u001b[0m\u001b[90m Float64  \u001b[0m\u001b[90m Float64  \u001b[0m\u001b[90m\u001b[0m ⋯\n",
       "─────┼──────────────────────────────────────────────────────────────────────────\n",
       "   1 │     1     37     11      1      0      1         1   0.0       0.0      ⋯\n",
       "   2 │     1     22      9      0      1      0         1   0.0       0.0\n",
       "   3 │     1     30     12      1      0      0         0   0.0       0.0\n",
       "   4 │     1     27     11      1      0      0         1   0.0       0.0\n",
       "   5 │     1     33      8      1      0      0         1   0.0       0.0      ⋯\n",
       "   6 │     1     22      9      1      0      0         1   0.0       0.0\n",
       "   7 │     1     23     12      1      0      0         0   0.0       0.0\n",
       "   8 │     1     32     11      1      0      0         1   0.0       0.0\n",
       "   9 │     1     22     16      1      0      0         0   0.0       0.0      ⋯\n",
       "  10 │     1     33     12      0      0      1         0   0.0       0.0\n",
       "  11 │     1     19      9      1      0      0         1   0.0       0.0\n",
       "  ⋮  │   ⋮      ⋮      ⋮      ⋮      ⋮      ⋮       ⋮         ⋮         ⋮      ⋱\n",
       " 176 │     1     28     11      1      0      0         1   1.92903   6.87186\n",
       " 177 │     1     22     12      0      1      1         0   0.49223   7.0557   ⋯\n",
       " 178 │     1     33     11      1      0      0         1   0.0       7.86792\n",
       " 179 │     1     22     12      0      0      0         0   6.75999   8.4555\n",
       " 180 │     1     29     10      0      1      0         1   0.0       8.85367\n",
       " 181 │     1     33     12      1      0      1         0  20.2799   10.9413   ⋯\n",
       " 182 │     1     25     14      1      0      1         0  35.0401   11.5366\n",
       " 183 │     1     35      9      1      0      1         1  13.6024   13.8306\n",
       " 184 │     1     35      8      1      0      1         1  13.7321   17.9762\n",
       " 185 │     1     33     11      1      0      1         1  14.6607   25.1422   ⋯\n",
       "\u001b[36m                                                  9 columns and 164 rows omitted\u001b[0m"
      ]
     },
     "execution_count": 84,
     "metadata": {},
     "output_type": "execute_result"
    }
   ],
   "source": [
    "treatment= filter(row -> row.treat == 1, data)"
   ]
  },
  {
   "cell_type": "code",
   "execution_count": 85,
   "metadata": {},
   "outputs": [
    {
     "data": {
      "text/html": [
       "<div><div style = \"float: left;\"><span>15992×18 DataFrame</span></div><div style = \"float: right;\"><span style = \"font-style: italic;\">15967 rows omitted</span></div><div style = \"clear: both;\"></div></div><div class = \"data-frame\" style = \"overflow-x: scroll;\"><table class = \"data-frame\" style = \"margin-bottom: 6px;\"><thead><tr class = \"header\"><th class = \"rowNumber\" style = \"font-weight: bold; text-align: right;\">Row</th><th style = \"text-align: left;\">treat</th><th style = \"text-align: left;\">age</th><th style = \"text-align: left;\">educ</th><th style = \"text-align: left;\">black</th><th style = \"text-align: left;\">hisp</th><th style = \"text-align: left;\">marr</th><th style = \"text-align: left;\">nodegree</th><th style = \"text-align: left;\">re74</th><th style = \"text-align: left;\">re75</th><th style = \"text-align: left;\">re78</th><th style = \"text-align: left;\">agesq</th><th style = \"text-align: left;\">agecube</th><th style = \"text-align: left;\">educsq</th><th style = \"text-align: left;\">u74</th><th style = \"text-align: left;\">u75</th><th style = \"text-align: left;\">interaction1</th><th style = \"text-align: left;\">re74sq</th><th style = \"text-align: left;\">re75sq</th></tr><tr class = \"subheader headerLastRow\"><th class = \"rowNumber\" style = \"font-weight: bold; text-align: right;\"></th><th title = \"Int64\" style = \"text-align: left;\">Int64</th><th title = \"Int64\" style = \"text-align: left;\">Int64</th><th title = \"Int64\" style = \"text-align: left;\">Int64</th><th title = \"Int64\" style = \"text-align: left;\">Int64</th><th title = \"Int64\" style = \"text-align: left;\">Int64</th><th title = \"Int64\" style = \"text-align: left;\">Int64</th><th title = \"Int64\" style = \"text-align: left;\">Int64</th><th title = \"Float64\" style = \"text-align: left;\">Float64</th><th title = \"Float64\" style = \"text-align: left;\">Float64</th><th title = \"Float64\" style = \"text-align: left;\">Float64</th><th title = \"Int64\" style = \"text-align: left;\">Int64</th><th title = \"Int64\" style = \"text-align: left;\">Int64</th><th title = \"Int64\" style = \"text-align: left;\">Int64</th><th title = \"Int64\" style = \"text-align: left;\">Int64</th><th title = \"Int64\" style = \"text-align: left;\">Int64</th><th title = \"Float64\" style = \"text-align: left;\">Float64</th><th title = \"Float64\" style = \"text-align: left;\">Float64</th><th title = \"Float64\" style = \"text-align: left;\">Float64</th></tr></thead><tbody><tr><td class = \"rowNumber\" style = \"font-weight: bold; text-align: right;\">1</td><td style = \"text-align: right;\">0</td><td style = \"text-align: right;\">45</td><td style = \"text-align: right;\">11</td><td style = \"text-align: right;\">0</td><td style = \"text-align: right;\">0</td><td style = \"text-align: right;\">1</td><td style = \"text-align: right;\">1</td><td style = \"text-align: right;\">21.5167</td><td style = \"text-align: right;\">25.2436</td><td style = \"text-align: right;\">25.5647</td><td style = \"text-align: right;\">2025</td><td style = \"text-align: right;\">91125</td><td style = \"text-align: right;\">121</td><td style = \"text-align: right;\">0</td><td style = \"text-align: right;\">0</td><td style = \"text-align: right;\">236.683</td><td style = \"text-align: right;\">462.967</td><td style = \"text-align: right;\">637.237</td></tr><tr><td class = \"rowNumber\" style = \"font-weight: bold; text-align: right;\">2</td><td style = \"text-align: right;\">0</td><td style = \"text-align: right;\">21</td><td style = \"text-align: right;\">14</td><td style = \"text-align: right;\">0</td><td style = \"text-align: right;\">0</td><td style = \"text-align: right;\">0</td><td style = \"text-align: right;\">0</td><td style = \"text-align: right;\">3.17597</td><td style = \"text-align: right;\">5.85256</td><td style = \"text-align: right;\">13.4961</td><td style = \"text-align: right;\">441</td><td style = \"text-align: right;\">9261</td><td style = \"text-align: right;\">196</td><td style = \"text-align: right;\">0</td><td style = \"text-align: right;\">0</td><td style = \"text-align: right;\">44.4636</td><td style = \"text-align: right;\">10.0868</td><td style = \"text-align: right;\">34.2525</td></tr><tr><td class = \"rowNumber\" style = \"font-weight: bold; text-align: right;\">3</td><td style = \"text-align: right;\">0</td><td style = \"text-align: right;\">38</td><td style = \"text-align: right;\">12</td><td style = \"text-align: right;\">0</td><td style = \"text-align: right;\">0</td><td style = \"text-align: right;\">1</td><td style = \"text-align: right;\">0</td><td style = \"text-align: right;\">23.039</td><td style = \"text-align: right;\">25.1308</td><td style = \"text-align: right;\">25.5647</td><td style = \"text-align: right;\">1444</td><td style = \"text-align: right;\">54872</td><td style = \"text-align: right;\">144</td><td style = \"text-align: right;\">0</td><td style = \"text-align: right;\">0</td><td style = \"text-align: right;\">276.468</td><td style = \"text-align: right;\">530.796</td><td style = \"text-align: right;\">631.555</td></tr><tr><td class = \"rowNumber\" style = \"font-weight: bold; text-align: right;\">4</td><td style = \"text-align: right;\">0</td><td style = \"text-align: right;\">48</td><td style = \"text-align: right;\">6</td><td style = \"text-align: right;\">0</td><td style = \"text-align: right;\">0</td><td style = \"text-align: right;\">1</td><td style = \"text-align: right;\">1</td><td style = \"text-align: right;\">24.9944</td><td style = \"text-align: right;\">25.2436</td><td style = \"text-align: right;\">25.5647</td><td style = \"text-align: right;\">2304</td><td style = \"text-align: right;\">110592</td><td style = \"text-align: right;\">36</td><td style = \"text-align: right;\">0</td><td style = \"text-align: right;\">0</td><td style = \"text-align: right;\">149.966</td><td style = \"text-align: right;\">624.718</td><td style = \"text-align: right;\">637.237</td></tr><tr><td class = \"rowNumber\" style = \"font-weight: bold; text-align: right;\">5</td><td style = \"text-align: right;\">0</td><td style = \"text-align: right;\">18</td><td style = \"text-align: right;\">8</td><td style = \"text-align: right;\">0</td><td style = \"text-align: right;\">0</td><td style = \"text-align: right;\">1</td><td style = \"text-align: right;\">1</td><td style = \"text-align: right;\">1.6693</td><td style = \"text-align: right;\">10.7276</td><td style = \"text-align: right;\">9.86087</td><td style = \"text-align: right;\">324</td><td style = \"text-align: right;\">5832</td><td style = \"text-align: right;\">64</td><td style = \"text-align: right;\">0</td><td style = \"text-align: right;\">0</td><td style = \"text-align: right;\">13.3544</td><td style = \"text-align: right;\">2.78655</td><td style = \"text-align: right;\">115.082</td></tr><tr><td class = \"rowNumber\" style = \"font-weight: bold; text-align: right;\">6</td><td style = \"text-align: right;\">0</td><td style = \"text-align: right;\">22</td><td style = \"text-align: right;\">11</td><td style = \"text-align: right;\">0</td><td style = \"text-align: right;\">0</td><td style = \"text-align: right;\">1</td><td style = \"text-align: right;\">1</td><td style = \"text-align: right;\">16.3658</td><td style = \"text-align: right;\">18.4493</td><td style = \"text-align: right;\">25.5647</td><td style = \"text-align: right;\">484</td><td style = \"text-align: right;\">10648</td><td style = \"text-align: right;\">121</td><td style = \"text-align: right;\">0</td><td style = \"text-align: right;\">0</td><td style = \"text-align: right;\">180.023</td><td style = \"text-align: right;\">267.838</td><td style = \"text-align: right;\">340.376</td></tr><tr><td class = \"rowNumber\" style = \"font-weight: bold; text-align: right;\">7</td><td style = \"text-align: right;\">0</td><td style = \"text-align: right;\">48</td><td style = \"text-align: right;\">10</td><td style = \"text-align: right;\">0</td><td style = \"text-align: right;\">0</td><td style = \"text-align: right;\">1</td><td style = \"text-align: right;\">1</td><td style = \"text-align: right;\">16.8046</td><td style = \"text-align: right;\">16.3546</td><td style = \"text-align: right;\">18.0593</td><td style = \"text-align: right;\">2304</td><td style = \"text-align: right;\">110592</td><td style = \"text-align: right;\">100</td><td style = \"text-align: right;\">0</td><td style = \"text-align: right;\">0</td><td style = \"text-align: right;\">168.046</td><td style = \"text-align: right;\">282.396</td><td style = \"text-align: right;\">267.473</td></tr><tr><td class = \"rowNumber\" style = \"font-weight: bold; text-align: right;\">8</td><td style = \"text-align: right;\">0</td><td style = \"text-align: right;\">18</td><td style = \"text-align: right;\">11</td><td style = \"text-align: right;\">0</td><td style = \"text-align: right;\">0</td><td style = \"text-align: right;\">0</td><td style = \"text-align: right;\">1</td><td style = \"text-align: right;\">1.14421</td><td style = \"text-align: right;\">3.62003</td><td style = \"text-align: right;\">15.7393</td><td style = \"text-align: right;\">324</td><td style = \"text-align: right;\">5832</td><td style = \"text-align: right;\">121</td><td style = \"text-align: right;\">0</td><td style = \"text-align: right;\">0</td><td style = \"text-align: right;\">12.5863</td><td style = \"text-align: right;\">1.30922</td><td style = \"text-align: right;\">13.1046</td></tr><tr><td class = \"rowNumber\" style = \"font-weight: bold; text-align: right;\">9</td><td style = \"text-align: right;\">0</td><td style = \"text-align: right;\">48</td><td style = \"text-align: right;\">9</td><td style = \"text-align: right;\">0</td><td style = \"text-align: right;\">0</td><td style = \"text-align: right;\">1</td><td style = \"text-align: right;\">1</td><td style = \"text-align: right;\">25.8623</td><td style = \"text-align: right;\">25.2436</td><td style = \"text-align: right;\">25.5647</td><td style = \"text-align: right;\">2304</td><td style = \"text-align: right;\">110592</td><td style = \"text-align: right;\">81</td><td style = \"text-align: right;\">0</td><td style = \"text-align: right;\">0</td><td style = \"text-align: right;\">232.761</td><td style = \"text-align: right;\">668.86</td><td style = \"text-align: right;\">637.237</td></tr><tr><td class = \"rowNumber\" style = \"font-weight: bold; text-align: right;\">10</td><td style = \"text-align: right;\">0</td><td style = \"text-align: right;\">45</td><td style = \"text-align: right;\">12</td><td style = \"text-align: right;\">0</td><td style = \"text-align: right;\">0</td><td style = \"text-align: right;\">1</td><td style = \"text-align: right;\">0</td><td style = \"text-align: right;\">25.8623</td><td style = \"text-align: right;\">0.0</td><td style = \"text-align: right;\">3.92484</td><td style = \"text-align: right;\">2025</td><td style = \"text-align: right;\">91125</td><td style = \"text-align: right;\">144</td><td style = \"text-align: right;\">0</td><td style = \"text-align: right;\">1</td><td style = \"text-align: right;\">310.348</td><td style = \"text-align: right;\">668.86</td><td style = \"text-align: right;\">0.0</td></tr><tr><td class = \"rowNumber\" style = \"font-weight: bold; text-align: right;\">11</td><td style = \"text-align: right;\">0</td><td style = \"text-align: right;\">34</td><td style = \"text-align: right;\">14</td><td style = \"text-align: right;\">0</td><td style = \"text-align: right;\">0</td><td style = \"text-align: right;\">1</td><td style = \"text-align: right;\">0</td><td style = \"text-align: right;\">25.8623</td><td style = \"text-align: right;\">23.7468</td><td style = \"text-align: right;\">25.5647</td><td style = \"text-align: right;\">1156</td><td style = \"text-align: right;\">39304</td><td style = \"text-align: right;\">196</td><td style = \"text-align: right;\">0</td><td style = \"text-align: right;\">0</td><td style = \"text-align: right;\">362.072</td><td style = \"text-align: right;\">668.86</td><td style = \"text-align: right;\">563.912</td></tr><tr><td class = \"rowNumber\" style = \"font-weight: bold; text-align: right;\">12</td><td style = \"text-align: right;\">0</td><td style = \"text-align: right;\">16</td><td style = \"text-align: right;\">10</td><td style = \"text-align: right;\">0</td><td style = \"text-align: right;\">0</td><td style = \"text-align: right;\">0</td><td style = \"text-align: right;\">1</td><td style = \"text-align: right;\">1.02666</td><td style = \"text-align: right;\">1.22458</td><td style = \"text-align: right;\">6.84779</td><td style = \"text-align: right;\">256</td><td style = \"text-align: right;\">4096</td><td style = \"text-align: right;\">100</td><td style = \"text-align: right;\">0</td><td style = \"text-align: right;\">0</td><td style = \"text-align: right;\">10.2666</td><td style = \"text-align: right;\">1.05402</td><td style = \"text-align: right;\">1.4996</td></tr><tr><td class = \"rowNumber\" style = \"font-weight: bold; text-align: right;\">13</td><td style = \"text-align: right;\">0</td><td style = \"text-align: right;\">53</td><td style = \"text-align: right;\">10</td><td style = \"text-align: right;\">0</td><td style = \"text-align: right;\">0</td><td style = \"text-align: right;\">1</td><td style = \"text-align: right;\">1</td><td style = \"text-align: right;\">25.8623</td><td style = \"text-align: right;\">25.2436</td><td style = \"text-align: right;\">25.5647</td><td style = \"text-align: right;\">2809</td><td style = \"text-align: right;\">148877</td><td style = \"text-align: right;\">100</td><td style = \"text-align: right;\">0</td><td style = \"text-align: right;\">0</td><td style = \"text-align: right;\">258.623</td><td style = \"text-align: right;\">668.86</td><td style = \"text-align: right;\">637.237</td></tr><tr><td style = \"text-align: right;\">&vellip;</td><td style = \"text-align: right;\">&vellip;</td><td style = \"text-align: right;\">&vellip;</td><td style = \"text-align: right;\">&vellip;</td><td style = \"text-align: right;\">&vellip;</td><td style = \"text-align: right;\">&vellip;</td><td style = \"text-align: right;\">&vellip;</td><td style = \"text-align: right;\">&vellip;</td><td style = \"text-align: right;\">&vellip;</td><td style = \"text-align: right;\">&vellip;</td><td style = \"text-align: right;\">&vellip;</td><td style = \"text-align: right;\">&vellip;</td><td style = \"text-align: right;\">&vellip;</td><td style = \"text-align: right;\">&vellip;</td><td style = \"text-align: right;\">&vellip;</td><td style = \"text-align: right;\">&vellip;</td><td style = \"text-align: right;\">&vellip;</td><td style = \"text-align: right;\">&vellip;</td><td style = \"text-align: right;\">&vellip;</td></tr><tr><td class = \"rowNumber\" style = \"font-weight: bold; text-align: right;\">15981</td><td style = \"text-align: right;\">0</td><td style = \"text-align: right;\">45</td><td style = \"text-align: right;\">14</td><td style = \"text-align: right;\">0</td><td style = \"text-align: right;\">1</td><td style = \"text-align: right;\">1</td><td style = \"text-align: right;\">0</td><td style = \"text-align: right;\">22.3905</td><td style = \"text-align: right;\">22.5598</td><td style = \"text-align: right;\">25.5647</td><td style = \"text-align: right;\">2025</td><td style = \"text-align: right;\">91125</td><td style = \"text-align: right;\">196</td><td style = \"text-align: right;\">0</td><td style = \"text-align: right;\">0</td><td style = \"text-align: right;\">313.467</td><td style = \"text-align: right;\">501.334</td><td style = \"text-align: right;\">508.947</td></tr><tr><td class = \"rowNumber\" style = \"font-weight: bold; text-align: right;\">15982</td><td style = \"text-align: right;\">0</td><td style = \"text-align: right;\">22</td><td style = \"text-align: right;\">14</td><td style = \"text-align: right;\">0</td><td style = \"text-align: right;\">1</td><td style = \"text-align: right;\">0</td><td style = \"text-align: right;\">0</td><td style = \"text-align: right;\">7.68424</td><td style = \"text-align: right;\">5.28145</td><td style = \"text-align: right;\">6.01435</td><td style = \"text-align: right;\">484</td><td style = \"text-align: right;\">10648</td><td style = \"text-align: right;\">196</td><td style = \"text-align: right;\">0</td><td style = \"text-align: right;\">0</td><td style = \"text-align: right;\">107.579</td><td style = \"text-align: right;\">59.0476</td><td style = \"text-align: right;\">27.8937</td></tr><tr><td class = \"rowNumber\" style = \"font-weight: bold; text-align: right;\">15983</td><td style = \"text-align: right;\">0</td><td style = \"text-align: right;\">27</td><td style = \"text-align: right;\">13</td><td style = \"text-align: right;\">0</td><td style = \"text-align: right;\">0</td><td style = \"text-align: right;\">1</td><td style = \"text-align: right;\">0</td><td style = \"text-align: right;\">25.5077</td><td style = \"text-align: right;\">25.2436</td><td style = \"text-align: right;\">25.5647</td><td style = \"text-align: right;\">729</td><td style = \"text-align: right;\">19683</td><td style = \"text-align: right;\">169</td><td style = \"text-align: right;\">0</td><td style = \"text-align: right;\">0</td><td style = \"text-align: right;\">331.6</td><td style = \"text-align: right;\">650.642</td><td style = \"text-align: right;\">637.237</td></tr><tr><td class = \"rowNumber\" style = \"font-weight: bold; text-align: right;\">15984</td><td style = \"text-align: right;\">0</td><td style = \"text-align: right;\">55</td><td style = \"text-align: right;\">9</td><td style = \"text-align: right;\">0</td><td style = \"text-align: right;\">0</td><td style = \"text-align: right;\">1</td><td style = \"text-align: right;\">1</td><td style = \"text-align: right;\">25.8623</td><td style = \"text-align: right;\">25.2436</td><td style = \"text-align: right;\">21.464</td><td style = \"text-align: right;\">3025</td><td style = \"text-align: right;\">166375</td><td style = \"text-align: right;\">81</td><td style = \"text-align: right;\">0</td><td style = \"text-align: right;\">0</td><td style = \"text-align: right;\">232.761</td><td style = \"text-align: right;\">668.86</td><td style = \"text-align: right;\">637.237</td></tr><tr><td class = \"rowNumber\" style = \"font-weight: bold; text-align: right;\">15985</td><td style = \"text-align: right;\">0</td><td style = \"text-align: right;\">48</td><td style = \"text-align: right;\">10</td><td style = \"text-align: right;\">0</td><td style = \"text-align: right;\">0</td><td style = \"text-align: right;\">1</td><td style = \"text-align: right;\">1</td><td style = \"text-align: right;\">25.8623</td><td style = \"text-align: right;\">25.2436</td><td style = \"text-align: right;\">25.5647</td><td style = \"text-align: right;\">2304</td><td style = \"text-align: right;\">110592</td><td style = \"text-align: right;\">100</td><td style = \"text-align: right;\">0</td><td style = \"text-align: right;\">0</td><td style = \"text-align: right;\">258.623</td><td style = \"text-align: right;\">668.86</td><td style = \"text-align: right;\">637.237</td></tr><tr><td class = \"rowNumber\" style = \"font-weight: bold; text-align: right;\">15986</td><td style = \"text-align: right;\">0</td><td style = \"text-align: right;\">27</td><td style = \"text-align: right;\">12</td><td style = \"text-align: right;\">0</td><td style = \"text-align: right;\">0</td><td style = \"text-align: right;\">1</td><td style = \"text-align: right;\">0</td><td style = \"text-align: right;\">0.0</td><td style = \"text-align: right;\">25.2436</td><td style = \"text-align: right;\">4.22334</td><td style = \"text-align: right;\">729</td><td style = \"text-align: right;\">19683</td><td style = \"text-align: right;\">144</td><td style = \"text-align: right;\">1</td><td style = \"text-align: right;\">0</td><td style = \"text-align: right;\">0.0</td><td style = \"text-align: right;\">0.0</td><td style = \"text-align: right;\">637.237</td></tr><tr><td class = \"rowNumber\" style = \"font-weight: bold; text-align: right;\">15987</td><td style = \"text-align: right;\">0</td><td style = \"text-align: right;\">35</td><td style = \"text-align: right;\">12</td><td style = \"text-align: right;\">0</td><td style = \"text-align: right;\">0</td><td style = \"text-align: right;\">1</td><td style = \"text-align: right;\">0</td><td style = \"text-align: right;\">0.0</td><td style = \"text-align: right;\">0.0</td><td style = \"text-align: right;\">0.0</td><td style = \"text-align: right;\">1225</td><td style = \"text-align: right;\">42875</td><td style = \"text-align: right;\">144</td><td style = \"text-align: right;\">1</td><td style = \"text-align: right;\">1</td><td style = \"text-align: right;\">0.0</td><td style = \"text-align: right;\">0.0</td><td style = \"text-align: right;\">0.0</td></tr><tr><td class = \"rowNumber\" style = \"font-weight: bold; text-align: right;\">15988</td><td style = \"text-align: right;\">0</td><td style = \"text-align: right;\">22</td><td style = \"text-align: right;\">12</td><td style = \"text-align: right;\">1</td><td style = \"text-align: right;\">0</td><td style = \"text-align: right;\">0</td><td style = \"text-align: right;\">0</td><td style = \"text-align: right;\">3.97535</td><td style = \"text-align: right;\">6.80144</td><td style = \"text-align: right;\">2.75744</td><td style = \"text-align: right;\">484</td><td style = \"text-align: right;\">10648</td><td style = \"text-align: right;\">144</td><td style = \"text-align: right;\">0</td><td style = \"text-align: right;\">0</td><td style = \"text-align: right;\">47.7042</td><td style = \"text-align: right;\">15.8034</td><td style = \"text-align: right;\">46.2595</td></tr><tr><td class = \"rowNumber\" style = \"font-weight: bold; text-align: right;\">15989</td><td style = \"text-align: right;\">0</td><td style = \"text-align: right;\">20</td><td style = \"text-align: right;\">12</td><td style = \"text-align: right;\">1</td><td style = \"text-align: right;\">0</td><td style = \"text-align: right;\">1</td><td style = \"text-align: right;\">0</td><td style = \"text-align: right;\">1.44594</td><td style = \"text-align: right;\">11.8322</td><td style = \"text-align: right;\">6.89507</td><td style = \"text-align: right;\">400</td><td style = \"text-align: right;\">8000</td><td style = \"text-align: right;\">144</td><td style = \"text-align: right;\">0</td><td style = \"text-align: right;\">0</td><td style = \"text-align: right;\">17.3513</td><td style = \"text-align: right;\">2.09074</td><td style = \"text-align: right;\">140.002</td></tr><tr><td class = \"rowNumber\" style = \"font-weight: bold; text-align: right;\">15990</td><td style = \"text-align: right;\">0</td><td style = \"text-align: right;\">37</td><td style = \"text-align: right;\">12</td><td style = \"text-align: right;\">0</td><td style = \"text-align: right;\">0</td><td style = \"text-align: right;\">0</td><td style = \"text-align: right;\">0</td><td style = \"text-align: right;\">1.73395</td><td style = \"text-align: right;\">1.55937</td><td style = \"text-align: right;\">4.22187</td><td style = \"text-align: right;\">1369</td><td style = \"text-align: right;\">50653</td><td style = \"text-align: right;\">144</td><td style = \"text-align: right;\">0</td><td style = \"text-align: right;\">0</td><td style = \"text-align: right;\">20.8074</td><td style = \"text-align: right;\">3.00659</td><td style = \"text-align: right;\">2.43164</td></tr><tr><td class = \"rowNumber\" style = \"font-weight: bold; text-align: right;\">15991</td><td style = \"text-align: right;\">0</td><td style = \"text-align: right;\">47</td><td style = \"text-align: right;\">9</td><td style = \"text-align: right;\">0</td><td style = \"text-align: right;\">0</td><td style = \"text-align: right;\">1</td><td style = \"text-align: right;\">1</td><td style = \"text-align: right;\">16.9143</td><td style = \"text-align: right;\">11.3847</td><td style = \"text-align: right;\">13.6719</td><td style = \"text-align: right;\">2209</td><td style = \"text-align: right;\">103823</td><td style = \"text-align: right;\">81</td><td style = \"text-align: right;\">0</td><td style = \"text-align: right;\">0</td><td style = \"text-align: right;\">152.229</td><td style = \"text-align: right;\">286.095</td><td style = \"text-align: right;\">129.61</td></tr><tr><td class = \"rowNumber\" style = \"font-weight: bold; text-align: right;\">15992</td><td style = \"text-align: right;\">0</td><td style = \"text-align: right;\">40</td><td style = \"text-align: right;\">10</td><td style = \"text-align: right;\">0</td><td style = \"text-align: right;\">0</td><td style = \"text-align: right;\">0</td><td style = \"text-align: right;\">1</td><td style = \"text-align: right;\">13.6287</td><td style = \"text-align: right;\">13.1445</td><td style = \"text-align: right;\">7.97972</td><td style = \"text-align: right;\">1600</td><td style = \"text-align: right;\">64000</td><td style = \"text-align: right;\">100</td><td style = \"text-align: right;\">0</td><td style = \"text-align: right;\">0</td><td style = \"text-align: right;\">136.287</td><td style = \"text-align: right;\">185.74</td><td style = \"text-align: right;\">172.779</td></tr></tbody></table></div>"
      ],
      "text/latex": [
       "\\begin{tabular}{r|ccccccccccc}\n",
       "\t& treat & age & educ & black & hisp & marr & nodegree & re74 & re75 & re78 & \\\\\n",
       "\t\\hline\n",
       "\t& Int64 & Int64 & Int64 & Int64 & Int64 & Int64 & Int64 & Float64 & Float64 & Float64 & \\\\\n",
       "\t\\hline\n",
       "\t1 & 0 & 45 & 11 & 0 & 0 & 1 & 1 & 21.5167 & 25.2436 & 25.5647 & $\\dots$ \\\\\n",
       "\t2 & 0 & 21 & 14 & 0 & 0 & 0 & 0 & 3.17597 & 5.85256 & 13.4961 & $\\dots$ \\\\\n",
       "\t3 & 0 & 38 & 12 & 0 & 0 & 1 & 0 & 23.039 & 25.1308 & 25.5647 & $\\dots$ \\\\\n",
       "\t4 & 0 & 48 & 6 & 0 & 0 & 1 & 1 & 24.9944 & 25.2436 & 25.5647 & $\\dots$ \\\\\n",
       "\t5 & 0 & 18 & 8 & 0 & 0 & 1 & 1 & 1.6693 & 10.7276 & 9.86087 & $\\dots$ \\\\\n",
       "\t6 & 0 & 22 & 11 & 0 & 0 & 1 & 1 & 16.3658 & 18.4493 & 25.5647 & $\\dots$ \\\\\n",
       "\t7 & 0 & 48 & 10 & 0 & 0 & 1 & 1 & 16.8046 & 16.3546 & 18.0593 & $\\dots$ \\\\\n",
       "\t8 & 0 & 18 & 11 & 0 & 0 & 0 & 1 & 1.14421 & 3.62003 & 15.7393 & $\\dots$ \\\\\n",
       "\t9 & 0 & 48 & 9 & 0 & 0 & 1 & 1 & 25.8623 & 25.2436 & 25.5647 & $\\dots$ \\\\\n",
       "\t10 & 0 & 45 & 12 & 0 & 0 & 1 & 0 & 25.8623 & 0.0 & 3.92484 & $\\dots$ \\\\\n",
       "\t11 & 0 & 34 & 14 & 0 & 0 & 1 & 0 & 25.8623 & 23.7468 & 25.5647 & $\\dots$ \\\\\n",
       "\t12 & 0 & 16 & 10 & 0 & 0 & 0 & 1 & 1.02666 & 1.22458 & 6.84779 & $\\dots$ \\\\\n",
       "\t13 & 0 & 53 & 10 & 0 & 0 & 1 & 1 & 25.8623 & 25.2436 & 25.5647 & $\\dots$ \\\\\n",
       "\t14 & 0 & 19 & 12 & 0 & 0 & 0 & 0 & 0.867955 & 4.38629 & 8.7777 & $\\dots$ \\\\\n",
       "\t15 & 0 & 27 & 12 & 0 & 0 & 1 & 0 & 25.8623 & 19.0472 & 19.2149 & $\\dots$ \\\\\n",
       "\t16 & 0 & 32 & 10 & 0 & 0 & 1 & 1 & 20.4273 & 23.3744 & 9.17964 & $\\dots$ \\\\\n",
       "\t17 & 0 & 27 & 12 & 0 & 0 & 1 & 0 & 20.9838 & 14.8221 & 25.5647 & $\\dots$ \\\\\n",
       "\t18 & 0 & 46 & 7 & 0 & 0 & 1 & 1 & 19.1714 & 1.31768 & 0.0 & $\\dots$ \\\\\n",
       "\t19 & 0 & 24 & 13 & 0 & 0 & 0 & 0 & 20.8309 & 25.2436 & 23.9037 & $\\dots$ \\\\\n",
       "\t20 & 0 & 22 & 13 & 0 & 0 & 0 & 0 & 11.0365 & 10.3517 & 6.55667 & $\\dots$ \\\\\n",
       "\t21 & 0 & 49 & 10 & 0 & 0 & 1 & 1 & 0.391853 & 0.0 & 0.0 & $\\dots$ \\\\\n",
       "\t22 & 0 & 17 & 10 & 0 & 0 & 0 & 1 & 0.0 & 0.0 & 4.75532 & $\\dots$ \\\\\n",
       "\t23 & 0 & 29 & 14 & 0 & 0 & 1 & 0 & 21.499 & 22.5867 & 20.9231 & $\\dots$ \\\\\n",
       "\t24 & 0 & 28 & 16 & 0 & 0 & 1 & 0 & 16.5009 & 0.0 & 10.2672 & $\\dots$ \\\\\n",
       "\t25 & 0 & 46 & 12 & 0 & 0 & 1 & 0 & 24.8141 & 24.9678 & 19.339 & $\\dots$ \\\\\n",
       "\t26 & 0 & 26 & 17 & 1 & 0 & 1 & 0 & 0.0 & 0.0 & 4.75385 & $\\dots$ \\\\\n",
       "\t27 & 0 & 49 & 12 & 0 & 0 & 0 & 0 & 25.8623 & 25.2436 & 25.5647 & $\\dots$ \\\\\n",
       "\t28 & 0 & 51 & 10 & 0 & 0 & 1 & 1 & 25.8623 & 25.2436 & 25.5647 & $\\dots$ \\\\\n",
       "\t29 & 0 & 51 & 10 & 0 & 0 & 1 & 1 & 22.9234 & 21.7256 & 10.3485 & $\\dots$ \\\\\n",
       "\t30 & 0 & 27 & 11 & 0 & 0 & 1 & 1 & 17.0221 & 18.1234 & 18.4908 & $\\dots$ \\\\\n",
       "\t$\\dots$ & $\\dots$ & $\\dots$ & $\\dots$ & $\\dots$ & $\\dots$ & $\\dots$ & $\\dots$ & $\\dots$ & $\\dots$ & $\\dots$ &  \\\\\n",
       "\\end{tabular}\n"
      ],
      "text/plain": [
       "\u001b[1m15992×18 DataFrame\u001b[0m\n",
       "\u001b[1m   Row \u001b[0m│\u001b[1m treat \u001b[0m\u001b[1m age   \u001b[0m\u001b[1m educ  \u001b[0m\u001b[1m black \u001b[0m\u001b[1m hisp  \u001b[0m\u001b[1m marr  \u001b[0m\u001b[1m nodegree \u001b[0m\u001b[1m re74      \u001b[0m\u001b[1m re75  \u001b[0m ⋯\n",
       "       │\u001b[90m Int64 \u001b[0m\u001b[90m Int64 \u001b[0m\u001b[90m Int64 \u001b[0m\u001b[90m Int64 \u001b[0m\u001b[90m Int64 \u001b[0m\u001b[90m Int64 \u001b[0m\u001b[90m Int64    \u001b[0m\u001b[90m Float64   \u001b[0m\u001b[90m Float6\u001b[0m ⋯\n",
       "───────┼────────────────────────────────────────────────────────────────────────\n",
       "     1 │     0     45     11      0      0      1         1  21.5167    25.243 ⋯\n",
       "     2 │     0     21     14      0      0      0         0   3.17597    5.852\n",
       "     3 │     0     38     12      0      0      1         0  23.039     25.130\n",
       "     4 │     0     48      6      0      0      1         1  24.9944    25.243\n",
       "     5 │     0     18      8      0      0      1         1   1.6693    10.727 ⋯\n",
       "     6 │     0     22     11      0      0      1         1  16.3658    18.449\n",
       "     7 │     0     48     10      0      0      1         1  16.8046    16.354\n",
       "     8 │     0     18     11      0      0      0         1   1.14421    3.620\n",
       "     9 │     0     48      9      0      0      1         1  25.8623    25.243 ⋯\n",
       "    10 │     0     45     12      0      0      1         0  25.8623     0.0\n",
       "    11 │     0     34     14      0      0      1         0  25.8623    23.746\n",
       "   ⋮   │   ⋮      ⋮      ⋮      ⋮      ⋮      ⋮       ⋮          ⋮         ⋮   ⋱\n",
       " 15983 │     0     27     13      0      0      1         0  25.5077    25.243\n",
       " 15984 │     0     55      9      0      0      1         1  25.8623    25.243 ⋯\n",
       " 15985 │     0     48     10      0      0      1         1  25.8623    25.243\n",
       " 15986 │     0     27     12      0      0      1         0   0.0       25.243\n",
       " 15987 │     0     35     12      0      0      1         0   0.0        0.0\n",
       " 15988 │     0     22     12      1      0      0         0   3.97535    6.801 ⋯\n",
       " 15989 │     0     20     12      1      0      1         0   1.44594   11.832\n",
       " 15990 │     0     37     12      0      0      0         0   1.73395    1.559\n",
       " 15991 │     0     47      9      0      0      1         1  16.9143    11.384\n",
       " 15992 │     0     40     10      0      0      0         1  13.6287    13.144 ⋯\n",
       "\u001b[36m                                               10 columns and 15971 rows omitted\u001b[0m"
      ]
     },
     "execution_count": 85,
     "metadata": {},
     "output_type": "execute_result"
    }
   ],
   "source": [
    "control = filter(row -> row.treat == 0, data)"
   ]
  },
  {
   "cell_type": "markdown",
   "metadata": {},
   "source": [
    "Stadistics"
   ]
  },
  {
   "cell_type": "code",
   "execution_count": 86,
   "metadata": {},
   "outputs": [
    {
     "data": {
      "text/plain": [
       "3-element Vector{Symbol}:\n",
       " :age\n",
       " :educ\n",
       " :black"
      ]
     },
     "execution_count": 86,
     "metadata": {},
     "output_type": "execute_result"
    }
   ],
   "source": [
    "variables_compare = [:age, :educ, :black]"
   ]
  },
  {
   "cell_type": "code",
   "execution_count": 87,
   "metadata": {},
   "outputs": [
    {
     "data": {
      "text/html": [
       "<div><div style = \"float: left;\"><span>3×7 DataFrame</span></div><div style = \"clear: both;\"></div></div><div class = \"data-frame\" style = \"overflow-x: scroll;\"><table class = \"data-frame\" style = \"margin-bottom: 6px;\"><thead><tr class = \"header\"><th class = \"rowNumber\" style = \"font-weight: bold; text-align: right;\">Row</th><th style = \"text-align: left;\">variable</th><th style = \"text-align: left;\">mean</th><th style = \"text-align: left;\">min</th><th style = \"text-align: left;\">median</th><th style = \"text-align: left;\">max</th><th style = \"text-align: left;\">nmissing</th><th style = \"text-align: left;\">eltype</th></tr><tr class = \"subheader headerLastRow\"><th class = \"rowNumber\" style = \"font-weight: bold; text-align: right;\"></th><th title = \"Symbol\" style = \"text-align: left;\">Symbol</th><th title = \"Float64\" style = \"text-align: left;\">Float64</th><th title = \"Int64\" style = \"text-align: left;\">Int64</th><th title = \"Float64\" style = \"text-align: left;\">Float64</th><th title = \"Int64\" style = \"text-align: left;\">Int64</th><th title = \"Int64\" style = \"text-align: left;\">Int64</th><th title = \"DataType\" style = \"text-align: left;\">DataType</th></tr></thead><tbody><tr><td class = \"rowNumber\" style = \"font-weight: bold; text-align: right;\">1</td><td style = \"text-align: left;\">age</td><td style = \"text-align: right;\">25.8162</td><td style = \"text-align: right;\">17</td><td style = \"text-align: right;\">25.0</td><td style = \"text-align: right;\">48</td><td style = \"text-align: right;\">0</td><td style = \"text-align: left;\">Int64</td></tr><tr><td class = \"rowNumber\" style = \"font-weight: bold; text-align: right;\">2</td><td style = \"text-align: left;\">educ</td><td style = \"text-align: right;\">10.3459</td><td style = \"text-align: right;\">4</td><td style = \"text-align: right;\">11.0</td><td style = \"text-align: right;\">16</td><td style = \"text-align: right;\">0</td><td style = \"text-align: left;\">Int64</td></tr><tr><td class = \"rowNumber\" style = \"font-weight: bold; text-align: right;\">3</td><td style = \"text-align: left;\">black</td><td style = \"text-align: right;\">0.843243</td><td style = \"text-align: right;\">0</td><td style = \"text-align: right;\">1.0</td><td style = \"text-align: right;\">1</td><td style = \"text-align: right;\">0</td><td style = \"text-align: left;\">Int64</td></tr></tbody></table></div>"
      ],
      "text/latex": [
       "\\begin{tabular}{r|ccccccc}\n",
       "\t& variable & mean & min & median & max & nmissing & eltype\\\\\n",
       "\t\\hline\n",
       "\t& Symbol & Float64 & Int64 & Float64 & Int64 & Int64 & DataType\\\\\n",
       "\t\\hline\n",
       "\t1 & age & 25.8162 & 17 & 25.0 & 48 & 0 & Int64 \\\\\n",
       "\t2 & educ & 10.3459 & 4 & 11.0 & 16 & 0 & Int64 \\\\\n",
       "\t3 & black & 0.843243 & 0 & 1.0 & 1 & 0 & Int64 \\\\\n",
       "\\end{tabular}\n"
      ],
      "text/plain": [
       "\u001b[1m3×7 DataFrame\u001b[0m\n",
       "\u001b[1m Row \u001b[0m│\u001b[1m variable \u001b[0m\u001b[1m mean      \u001b[0m\u001b[1m min   \u001b[0m\u001b[1m median  \u001b[0m\u001b[1m max   \u001b[0m\u001b[1m nmissing \u001b[0m\u001b[1m eltype   \u001b[0m\n",
       "     │\u001b[90m Symbol   \u001b[0m\u001b[90m Float64   \u001b[0m\u001b[90m Int64 \u001b[0m\u001b[90m Float64 \u001b[0m\u001b[90m Int64 \u001b[0m\u001b[90m Int64    \u001b[0m\u001b[90m DataType \u001b[0m\n",
       "─────┼────────────────────────────────────────────────────────────────\n",
       "   1 │ age       25.8162       17     25.0     48         0  Int64\n",
       "   2 │ educ      10.3459        4     11.0     16         0  Int64\n",
       "   3 │ black      0.843243      0      1.0      1         0  Int64"
      ]
     },
     "execution_count": 87,
     "metadata": {},
     "output_type": "execute_result"
    }
   ],
   "source": [
    "describe(treatment[!,variables_compare])"
   ]
  },
  {
   "cell_type": "code",
   "execution_count": 88,
   "metadata": {},
   "outputs": [
    {
     "data": {
      "text/html": [
       "<div><div style = \"float: left;\"><span>3×7 DataFrame</span></div><div style = \"clear: both;\"></div></div><div class = \"data-frame\" style = \"overflow-x: scroll;\"><table class = \"data-frame\" style = \"margin-bottom: 6px;\"><thead><tr class = \"header\"><th class = \"rowNumber\" style = \"font-weight: bold; text-align: right;\">Row</th><th style = \"text-align: left;\">variable</th><th style = \"text-align: left;\">mean</th><th style = \"text-align: left;\">min</th><th style = \"text-align: left;\">median</th><th style = \"text-align: left;\">max</th><th style = \"text-align: left;\">nmissing</th><th style = \"text-align: left;\">eltype</th></tr><tr class = \"subheader headerLastRow\"><th class = \"rowNumber\" style = \"font-weight: bold; text-align: right;\"></th><th title = \"Symbol\" style = \"text-align: left;\">Symbol</th><th title = \"Float64\" style = \"text-align: left;\">Float64</th><th title = \"Int64\" style = \"text-align: left;\">Int64</th><th title = \"Float64\" style = \"text-align: left;\">Float64</th><th title = \"Int64\" style = \"text-align: left;\">Int64</th><th title = \"Int64\" style = \"text-align: left;\">Int64</th><th title = \"DataType\" style = \"text-align: left;\">DataType</th></tr></thead><tbody><tr><td class = \"rowNumber\" style = \"font-weight: bold; text-align: right;\">1</td><td style = \"text-align: left;\">age</td><td style = \"text-align: right;\">33.2252</td><td style = \"text-align: right;\">16</td><td style = \"text-align: right;\">31.0</td><td style = \"text-align: right;\">55</td><td style = \"text-align: right;\">0</td><td style = \"text-align: left;\">Int64</td></tr><tr><td class = \"rowNumber\" style = \"font-weight: bold; text-align: right;\">2</td><td style = \"text-align: left;\">educ</td><td style = \"text-align: right;\">12.0275</td><td style = \"text-align: right;\">0</td><td style = \"text-align: right;\">12.0</td><td style = \"text-align: right;\">18</td><td style = \"text-align: right;\">0</td><td style = \"text-align: left;\">Int64</td></tr><tr><td class = \"rowNumber\" style = \"font-weight: bold; text-align: right;\">3</td><td style = \"text-align: left;\">black</td><td style = \"text-align: right;\">0.0735368</td><td style = \"text-align: right;\">0</td><td style = \"text-align: right;\">0.0</td><td style = \"text-align: right;\">1</td><td style = \"text-align: right;\">0</td><td style = \"text-align: left;\">Int64</td></tr></tbody></table></div>"
      ],
      "text/latex": [
       "\\begin{tabular}{r|ccccccc}\n",
       "\t& variable & mean & min & median & max & nmissing & eltype\\\\\n",
       "\t\\hline\n",
       "\t& Symbol & Float64 & Int64 & Float64 & Int64 & Int64 & DataType\\\\\n",
       "\t\\hline\n",
       "\t1 & age & 33.2252 & 16 & 31.0 & 55 & 0 & Int64 \\\\\n",
       "\t2 & educ & 12.0275 & 0 & 12.0 & 18 & 0 & Int64 \\\\\n",
       "\t3 & black & 0.0735368 & 0 & 0.0 & 1 & 0 & Int64 \\\\\n",
       "\\end{tabular}\n"
      ],
      "text/plain": [
       "\u001b[1m3×7 DataFrame\u001b[0m\n",
       "\u001b[1m Row \u001b[0m│\u001b[1m variable \u001b[0m\u001b[1m mean       \u001b[0m\u001b[1m min   \u001b[0m\u001b[1m median  \u001b[0m\u001b[1m max   \u001b[0m\u001b[1m nmissing \u001b[0m\u001b[1m eltype   \u001b[0m\n",
       "     │\u001b[90m Symbol   \u001b[0m\u001b[90m Float64    \u001b[0m\u001b[90m Int64 \u001b[0m\u001b[90m Float64 \u001b[0m\u001b[90m Int64 \u001b[0m\u001b[90m Int64    \u001b[0m\u001b[90m DataType \u001b[0m\n",
       "─────┼─────────────────────────────────────────────────────────────────\n",
       "   1 │ age       33.2252        16     31.0     55         0  Int64\n",
       "   2 │ educ      12.0275         0     12.0     18         0  Int64\n",
       "   3 │ black      0.0735368      0      0.0      1         0  Int64"
      ]
     },
     "execution_count": 88,
     "metadata": {},
     "output_type": "execute_result"
    }
   ],
   "source": [
    "describe(control[!,variables_compare])"
   ]
  },
  {
   "cell_type": "markdown",
   "metadata": {},
   "source": [
    "Las personas que han formado parte del programa de capacitación laboral tienen una edad promedio de 25 años (edad objetivo), mientras que el grupo de control tienen una edad aproximada de 33 años. Por otro lado, las personas tratadas tienen 10 años de educación en promedio, mientras que el grupo de control tiene 12 años de educación en promedio. "
   ]
  },
  {
   "cell_type": "markdown",
   "metadata": {},
   "source": [
    "3. "
   ]
  },
  {
   "cell_type": "code",
   "execution_count": 89,
   "metadata": {},
   "outputs": [
    {
     "data": {
      "text/plain": [
       "StatsModels.TableRegressionModel{LinearModel{GLM.LmResp{Vector{Float64}}, GLM.DensePredChol{Float64, LinearAlgebra.CholeskyPivoted{Float64, Matrix{Float64}, Vector{Int64}}}}, Matrix{Float64}}\n",
       "\n",
       "re78 ~ 1 + treat\n",
       "\n",
       "Coefficients:\n",
       "─────────────────────────────────────────────────────────────────────────\n",
       "                Coef.  Std. Error       t  Pr(>|t|)  Lower 95%  Upper 95%\n",
       "─────────────────────────────────────────────────────────────────────────\n",
       "(Intercept)  14.8467    0.0761429  194.98    <1e-99   14.6974    14.9959\n",
       "treat        -8.49752   0.712021   -11.93    <1e-31   -9.89316   -7.10188\n",
       "─────────────────────────────────────────────────────────────────────────"
      ]
     },
     "execution_count": 89,
     "metadata": {},
     "output_type": "execute_result"
    }
   ],
   "source": [
    "model= lm(@formula(re78 ~ treat), data)"
   ]
  },
  {
   "cell_type": "markdown",
   "metadata": {},
   "source": [
    "Se puede observar que existe un efecto inverso del tratamiento sobre la población tratada. La aplicación del programa aparantemente ha reducido los ingresos reales de la población de 1978 en un 8.4 por ciento. "
   ]
  },
  {
   "cell_type": "markdown",
   "metadata": {},
   "source": [
    "4. "
   ]
  },
  {
   "cell_type": "code",
   "execution_count": 90,
   "metadata": {},
   "outputs": [
    {
     "data": {
      "text/html": [
       "<div><div style = \"float: left;\"><span>16177×18 DataFrame</span></div><div style = \"float: right;\"><span style = \"font-style: italic;\">16152 rows omitted</span></div><div style = \"clear: both;\"></div></div><div class = \"data-frame\" style = \"overflow-x: scroll;\"><table class = \"data-frame\" style = \"margin-bottom: 6px;\"><thead><tr class = \"header\"><th class = \"rowNumber\" style = \"font-weight: bold; text-align: right;\">Row</th><th style = \"text-align: left;\">treat</th><th style = \"text-align: left;\">age</th><th style = \"text-align: left;\">educ</th><th style = \"text-align: left;\">black</th><th style = \"text-align: left;\">hisp</th><th style = \"text-align: left;\">marr</th><th style = \"text-align: left;\">nodegree</th><th style = \"text-align: left;\">re74</th><th style = \"text-align: left;\">re75</th><th style = \"text-align: left;\">re78</th><th style = \"text-align: left;\">agesq</th><th style = \"text-align: left;\">agecube</th><th style = \"text-align: left;\">educsq</th><th style = \"text-align: left;\">u74</th><th style = \"text-align: left;\">u75</th><th style = \"text-align: left;\">interaction1</th><th style = \"text-align: left;\">re74sq</th><th style = \"text-align: left;\">re75sq</th></tr><tr class = \"subheader headerLastRow\"><th class = \"rowNumber\" style = \"font-weight: bold; text-align: right;\"></th><th title = \"Int64\" style = \"text-align: left;\">Int64</th><th title = \"Int64\" style = \"text-align: left;\">Int64</th><th title = \"Int64\" style = \"text-align: left;\">Int64</th><th title = \"Int64\" style = \"text-align: left;\">Int64</th><th title = \"Int64\" style = \"text-align: left;\">Int64</th><th title = \"Int64\" style = \"text-align: left;\">Int64</th><th title = \"Int64\" style = \"text-align: left;\">Int64</th><th title = \"Float64\" style = \"text-align: left;\">Float64</th><th title = \"Float64\" style = \"text-align: left;\">Float64</th><th title = \"Float64\" style = \"text-align: left;\">Float64</th><th title = \"Int64\" style = \"text-align: left;\">Int64</th><th title = \"Int64\" style = \"text-align: left;\">Int64</th><th title = \"Int64\" style = \"text-align: left;\">Int64</th><th title = \"Int64\" style = \"text-align: left;\">Int64</th><th title = \"Int64\" style = \"text-align: left;\">Int64</th><th title = \"Float64\" style = \"text-align: left;\">Float64</th><th title = \"Float64\" style = \"text-align: left;\">Float64</th><th title = \"Float64\" style = \"text-align: left;\">Float64</th></tr></thead><tbody><tr><td class = \"rowNumber\" style = \"font-weight: bold; text-align: right;\">1</td><td style = \"text-align: right;\">0</td><td style = \"text-align: right;\">45</td><td style = \"text-align: right;\">11</td><td style = \"text-align: right;\">0</td><td style = \"text-align: right;\">0</td><td style = \"text-align: right;\">1</td><td style = \"text-align: right;\">1</td><td style = \"text-align: right;\">21.5167</td><td style = \"text-align: right;\">25.2436</td><td style = \"text-align: right;\">25.5647</td><td style = \"text-align: right;\">2025</td><td style = \"text-align: right;\">91125</td><td style = \"text-align: right;\">121</td><td style = \"text-align: right;\">0</td><td style = \"text-align: right;\">0</td><td style = \"text-align: right;\">236.683</td><td style = \"text-align: right;\">462.967</td><td style = \"text-align: right;\">637.237</td></tr><tr><td class = \"rowNumber\" style = \"font-weight: bold; text-align: right;\">2</td><td style = \"text-align: right;\">0</td><td style = \"text-align: right;\">21</td><td style = \"text-align: right;\">14</td><td style = \"text-align: right;\">0</td><td style = \"text-align: right;\">0</td><td style = \"text-align: right;\">0</td><td style = \"text-align: right;\">0</td><td style = \"text-align: right;\">3.17597</td><td style = \"text-align: right;\">5.85256</td><td style = \"text-align: right;\">13.4961</td><td style = \"text-align: right;\">441</td><td style = \"text-align: right;\">9261</td><td style = \"text-align: right;\">196</td><td style = \"text-align: right;\">0</td><td style = \"text-align: right;\">0</td><td style = \"text-align: right;\">44.4636</td><td style = \"text-align: right;\">10.0868</td><td style = \"text-align: right;\">34.2525</td></tr><tr><td class = \"rowNumber\" style = \"font-weight: bold; text-align: right;\">3</td><td style = \"text-align: right;\">0</td><td style = \"text-align: right;\">38</td><td style = \"text-align: right;\">12</td><td style = \"text-align: right;\">0</td><td style = \"text-align: right;\">0</td><td style = \"text-align: right;\">1</td><td style = \"text-align: right;\">0</td><td style = \"text-align: right;\">23.039</td><td style = \"text-align: right;\">25.1308</td><td style = \"text-align: right;\">25.5647</td><td style = \"text-align: right;\">1444</td><td style = \"text-align: right;\">54872</td><td style = \"text-align: right;\">144</td><td style = \"text-align: right;\">0</td><td style = \"text-align: right;\">0</td><td style = \"text-align: right;\">276.468</td><td style = \"text-align: right;\">530.796</td><td style = \"text-align: right;\">631.555</td></tr><tr><td class = \"rowNumber\" style = \"font-weight: bold; text-align: right;\">4</td><td style = \"text-align: right;\">0</td><td style = \"text-align: right;\">48</td><td style = \"text-align: right;\">6</td><td style = \"text-align: right;\">0</td><td style = \"text-align: right;\">0</td><td style = \"text-align: right;\">1</td><td style = \"text-align: right;\">1</td><td style = \"text-align: right;\">24.9944</td><td style = \"text-align: right;\">25.2436</td><td style = \"text-align: right;\">25.5647</td><td style = \"text-align: right;\">2304</td><td style = \"text-align: right;\">110592</td><td style = \"text-align: right;\">36</td><td style = \"text-align: right;\">0</td><td style = \"text-align: right;\">0</td><td style = \"text-align: right;\">149.966</td><td style = \"text-align: right;\">624.718</td><td style = \"text-align: right;\">637.237</td></tr><tr><td class = \"rowNumber\" style = \"font-weight: bold; text-align: right;\">5</td><td style = \"text-align: right;\">0</td><td style = \"text-align: right;\">18</td><td style = \"text-align: right;\">8</td><td style = \"text-align: right;\">0</td><td style = \"text-align: right;\">0</td><td style = \"text-align: right;\">1</td><td style = \"text-align: right;\">1</td><td style = \"text-align: right;\">1.6693</td><td style = \"text-align: right;\">10.7276</td><td style = \"text-align: right;\">9.86087</td><td style = \"text-align: right;\">324</td><td style = \"text-align: right;\">5832</td><td style = \"text-align: right;\">64</td><td style = \"text-align: right;\">0</td><td style = \"text-align: right;\">0</td><td style = \"text-align: right;\">13.3544</td><td style = \"text-align: right;\">2.78655</td><td style = \"text-align: right;\">115.082</td></tr><tr><td class = \"rowNumber\" style = \"font-weight: bold; text-align: right;\">6</td><td style = \"text-align: right;\">0</td><td style = \"text-align: right;\">22</td><td style = \"text-align: right;\">11</td><td style = \"text-align: right;\">0</td><td style = \"text-align: right;\">0</td><td style = \"text-align: right;\">1</td><td style = \"text-align: right;\">1</td><td style = \"text-align: right;\">16.3658</td><td style = \"text-align: right;\">18.4493</td><td style = \"text-align: right;\">25.5647</td><td style = \"text-align: right;\">484</td><td style = \"text-align: right;\">10648</td><td style = \"text-align: right;\">121</td><td style = \"text-align: right;\">0</td><td style = \"text-align: right;\">0</td><td style = \"text-align: right;\">180.023</td><td style = \"text-align: right;\">267.838</td><td style = \"text-align: right;\">340.376</td></tr><tr><td class = \"rowNumber\" style = \"font-weight: bold; text-align: right;\">7</td><td style = \"text-align: right;\">0</td><td style = \"text-align: right;\">48</td><td style = \"text-align: right;\">10</td><td style = \"text-align: right;\">0</td><td style = \"text-align: right;\">0</td><td style = \"text-align: right;\">1</td><td style = \"text-align: right;\">1</td><td style = \"text-align: right;\">16.8046</td><td style = \"text-align: right;\">16.3546</td><td style = \"text-align: right;\">18.0593</td><td style = \"text-align: right;\">2304</td><td style = \"text-align: right;\">110592</td><td style = \"text-align: right;\">100</td><td style = \"text-align: right;\">0</td><td style = \"text-align: right;\">0</td><td style = \"text-align: right;\">168.046</td><td style = \"text-align: right;\">282.396</td><td style = \"text-align: right;\">267.473</td></tr><tr><td class = \"rowNumber\" style = \"font-weight: bold; text-align: right;\">8</td><td style = \"text-align: right;\">0</td><td style = \"text-align: right;\">18</td><td style = \"text-align: right;\">11</td><td style = \"text-align: right;\">0</td><td style = \"text-align: right;\">0</td><td style = \"text-align: right;\">0</td><td style = \"text-align: right;\">1</td><td style = \"text-align: right;\">1.14421</td><td style = \"text-align: right;\">3.62003</td><td style = \"text-align: right;\">15.7393</td><td style = \"text-align: right;\">324</td><td style = \"text-align: right;\">5832</td><td style = \"text-align: right;\">121</td><td style = \"text-align: right;\">0</td><td style = \"text-align: right;\">0</td><td style = \"text-align: right;\">12.5863</td><td style = \"text-align: right;\">1.30922</td><td style = \"text-align: right;\">13.1046</td></tr><tr><td class = \"rowNumber\" style = \"font-weight: bold; text-align: right;\">9</td><td style = \"text-align: right;\">0</td><td style = \"text-align: right;\">48</td><td style = \"text-align: right;\">9</td><td style = \"text-align: right;\">0</td><td style = \"text-align: right;\">0</td><td style = \"text-align: right;\">1</td><td style = \"text-align: right;\">1</td><td style = \"text-align: right;\">25.8623</td><td style = \"text-align: right;\">25.2436</td><td style = \"text-align: right;\">25.5647</td><td style = \"text-align: right;\">2304</td><td style = \"text-align: right;\">110592</td><td style = \"text-align: right;\">81</td><td style = \"text-align: right;\">0</td><td style = \"text-align: right;\">0</td><td style = \"text-align: right;\">232.761</td><td style = \"text-align: right;\">668.86</td><td style = \"text-align: right;\">637.237</td></tr><tr><td class = \"rowNumber\" style = \"font-weight: bold; text-align: right;\">10</td><td style = \"text-align: right;\">0</td><td style = \"text-align: right;\">45</td><td style = \"text-align: right;\">12</td><td style = \"text-align: right;\">0</td><td style = \"text-align: right;\">0</td><td style = \"text-align: right;\">1</td><td style = \"text-align: right;\">0</td><td style = \"text-align: right;\">25.8623</td><td style = \"text-align: right;\">0.0</td><td style = \"text-align: right;\">3.92484</td><td style = \"text-align: right;\">2025</td><td style = \"text-align: right;\">91125</td><td style = \"text-align: right;\">144</td><td style = \"text-align: right;\">0</td><td style = \"text-align: right;\">1</td><td style = \"text-align: right;\">310.348</td><td style = \"text-align: right;\">668.86</td><td style = \"text-align: right;\">0.0</td></tr><tr><td class = \"rowNumber\" style = \"font-weight: bold; text-align: right;\">11</td><td style = \"text-align: right;\">0</td><td style = \"text-align: right;\">34</td><td style = \"text-align: right;\">14</td><td style = \"text-align: right;\">0</td><td style = \"text-align: right;\">0</td><td style = \"text-align: right;\">1</td><td style = \"text-align: right;\">0</td><td style = \"text-align: right;\">25.8623</td><td style = \"text-align: right;\">23.7468</td><td style = \"text-align: right;\">25.5647</td><td style = \"text-align: right;\">1156</td><td style = \"text-align: right;\">39304</td><td style = \"text-align: right;\">196</td><td style = \"text-align: right;\">0</td><td style = \"text-align: right;\">0</td><td style = \"text-align: right;\">362.072</td><td style = \"text-align: right;\">668.86</td><td style = \"text-align: right;\">563.912</td></tr><tr><td class = \"rowNumber\" style = \"font-weight: bold; text-align: right;\">12</td><td style = \"text-align: right;\">0</td><td style = \"text-align: right;\">16</td><td style = \"text-align: right;\">10</td><td style = \"text-align: right;\">0</td><td style = \"text-align: right;\">0</td><td style = \"text-align: right;\">0</td><td style = \"text-align: right;\">1</td><td style = \"text-align: right;\">1.02666</td><td style = \"text-align: right;\">1.22458</td><td style = \"text-align: right;\">6.84779</td><td style = \"text-align: right;\">256</td><td style = \"text-align: right;\">4096</td><td style = \"text-align: right;\">100</td><td style = \"text-align: right;\">0</td><td style = \"text-align: right;\">0</td><td style = \"text-align: right;\">10.2666</td><td style = \"text-align: right;\">1.05402</td><td style = \"text-align: right;\">1.4996</td></tr><tr><td class = \"rowNumber\" style = \"font-weight: bold; text-align: right;\">13</td><td style = \"text-align: right;\">0</td><td style = \"text-align: right;\">53</td><td style = \"text-align: right;\">10</td><td style = \"text-align: right;\">0</td><td style = \"text-align: right;\">0</td><td style = \"text-align: right;\">1</td><td style = \"text-align: right;\">1</td><td style = \"text-align: right;\">25.8623</td><td style = \"text-align: right;\">25.2436</td><td style = \"text-align: right;\">25.5647</td><td style = \"text-align: right;\">2809</td><td style = \"text-align: right;\">148877</td><td style = \"text-align: right;\">100</td><td style = \"text-align: right;\">0</td><td style = \"text-align: right;\">0</td><td style = \"text-align: right;\">258.623</td><td style = \"text-align: right;\">668.86</td><td style = \"text-align: right;\">637.237</td></tr><tr><td style = \"text-align: right;\">&vellip;</td><td style = \"text-align: right;\">&vellip;</td><td style = \"text-align: right;\">&vellip;</td><td style = \"text-align: right;\">&vellip;</td><td style = \"text-align: right;\">&vellip;</td><td style = \"text-align: right;\">&vellip;</td><td style = \"text-align: right;\">&vellip;</td><td style = \"text-align: right;\">&vellip;</td><td style = \"text-align: right;\">&vellip;</td><td style = \"text-align: right;\">&vellip;</td><td style = \"text-align: right;\">&vellip;</td><td style = \"text-align: right;\">&vellip;</td><td style = \"text-align: right;\">&vellip;</td><td style = \"text-align: right;\">&vellip;</td><td style = \"text-align: right;\">&vellip;</td><td style = \"text-align: right;\">&vellip;</td><td style = \"text-align: right;\">&vellip;</td><td style = \"text-align: right;\">&vellip;</td><td style = \"text-align: right;\">&vellip;</td></tr><tr><td class = \"rowNumber\" style = \"font-weight: bold; text-align: right;\">16166</td><td style = \"text-align: right;\">1</td><td style = \"text-align: right;\">19</td><td style = \"text-align: right;\">10</td><td style = \"text-align: right;\">1</td><td style = \"text-align: right;\">0</td><td style = \"text-align: right;\">0</td><td style = \"text-align: right;\">1</td><td style = \"text-align: right;\">4.12195</td><td style = \"text-align: right;\">6.05675</td><td style = \"text-align: right;\">0.0</td><td style = \"text-align: right;\">361</td><td style = \"text-align: right;\">6859</td><td style = \"text-align: right;\">100</td><td style = \"text-align: right;\">0</td><td style = \"text-align: right;\">0</td><td style = \"text-align: right;\">41.2195</td><td style = \"text-align: right;\">16.9905</td><td style = \"text-align: right;\">36.6843</td></tr><tr><td class = \"rowNumber\" style = \"font-weight: bold; text-align: right;\">16167</td><td style = \"text-align: right;\">1</td><td style = \"text-align: right;\">26</td><td style = \"text-align: right;\">10</td><td style = \"text-align: right;\">1</td><td style = \"text-align: right;\">0</td><td style = \"text-align: right;\">0</td><td style = \"text-align: right;\">1</td><td style = \"text-align: right;\">25.9297</td><td style = \"text-align: right;\">6.78896</td><td style = \"text-align: right;\">0.672877</td><td style = \"text-align: right;\">676</td><td style = \"text-align: right;\">17576</td><td style = \"text-align: right;\">100</td><td style = \"text-align: right;\">0</td><td style = \"text-align: right;\">0</td><td style = \"text-align: right;\">259.297</td><td style = \"text-align: right;\">672.348</td><td style = \"text-align: right;\">46.09</td></tr><tr><td class = \"rowNumber\" style = \"font-weight: bold; text-align: right;\">16168</td><td style = \"text-align: right;\">1</td><td style = \"text-align: right;\">28</td><td style = \"text-align: right;\">11</td><td style = \"text-align: right;\">1</td><td style = \"text-align: right;\">0</td><td style = \"text-align: right;\">0</td><td style = \"text-align: right;\">1</td><td style = \"text-align: right;\">1.92903</td><td style = \"text-align: right;\">6.87186</td><td style = \"text-align: right;\">0.0</td><td style = \"text-align: right;\">784</td><td style = \"text-align: right;\">21952</td><td style = \"text-align: right;\">121</td><td style = \"text-align: right;\">0</td><td style = \"text-align: right;\">0</td><td style = \"text-align: right;\">21.2193</td><td style = \"text-align: right;\">3.72115</td><td style = \"text-align: right;\">47.2224</td></tr><tr><td class = \"rowNumber\" style = \"font-weight: bold; text-align: right;\">16169</td><td style = \"text-align: right;\">1</td><td style = \"text-align: right;\">22</td><td style = \"text-align: right;\">12</td><td style = \"text-align: right;\">0</td><td style = \"text-align: right;\">1</td><td style = \"text-align: right;\">1</td><td style = \"text-align: right;\">0</td><td style = \"text-align: right;\">0.49223</td><td style = \"text-align: right;\">7.0557</td><td style = \"text-align: right;\">10.0928</td><td style = \"text-align: right;\">484</td><td style = \"text-align: right;\">10648</td><td style = \"text-align: right;\">144</td><td style = \"text-align: right;\">0</td><td style = \"text-align: right;\">0</td><td style = \"text-align: right;\">5.90677</td><td style = \"text-align: right;\">0.242291</td><td style = \"text-align: right;\">49.7829</td></tr><tr><td class = \"rowNumber\" style = \"font-weight: bold; text-align: right;\">16170</td><td style = \"text-align: right;\">1</td><td style = \"text-align: right;\">33</td><td style = \"text-align: right;\">11</td><td style = \"text-align: right;\">1</td><td style = \"text-align: right;\">0</td><td style = \"text-align: right;\">0</td><td style = \"text-align: right;\">1</td><td style = \"text-align: right;\">0.0</td><td style = \"text-align: right;\">7.86792</td><td style = \"text-align: right;\">6.28143</td><td style = \"text-align: right;\">1089</td><td style = \"text-align: right;\">35937</td><td style = \"text-align: right;\">121</td><td style = \"text-align: right;\">1</td><td style = \"text-align: right;\">0</td><td style = \"text-align: right;\">0.0</td><td style = \"text-align: right;\">0.0</td><td style = \"text-align: right;\">61.9041</td></tr><tr><td class = \"rowNumber\" style = \"font-weight: bold; text-align: right;\">16171</td><td style = \"text-align: right;\">1</td><td style = \"text-align: right;\">22</td><td style = \"text-align: right;\">12</td><td style = \"text-align: right;\">0</td><td style = \"text-align: right;\">0</td><td style = \"text-align: right;\">0</td><td style = \"text-align: right;\">0</td><td style = \"text-align: right;\">6.75999</td><td style = \"text-align: right;\">8.4555</td><td style = \"text-align: right;\">12.5907</td><td style = \"text-align: right;\">484</td><td style = \"text-align: right;\">10648</td><td style = \"text-align: right;\">144</td><td style = \"text-align: right;\">0</td><td style = \"text-align: right;\">0</td><td style = \"text-align: right;\">81.1199</td><td style = \"text-align: right;\">45.6975</td><td style = \"text-align: right;\">71.4955</td></tr><tr><td class = \"rowNumber\" style = \"font-weight: bold; text-align: right;\">16172</td><td style = \"text-align: right;\">1</td><td style = \"text-align: right;\">29</td><td style = \"text-align: right;\">10</td><td style = \"text-align: right;\">0</td><td style = \"text-align: right;\">1</td><td style = \"text-align: right;\">0</td><td style = \"text-align: right;\">1</td><td style = \"text-align: right;\">0.0</td><td style = \"text-align: right;\">8.85367</td><td style = \"text-align: right;\">5.11201</td><td style = \"text-align: right;\">841</td><td style = \"text-align: right;\">24389</td><td style = \"text-align: right;\">100</td><td style = \"text-align: right;\">1</td><td style = \"text-align: right;\">0</td><td style = \"text-align: right;\">0.0</td><td style = \"text-align: right;\">0.0</td><td style = \"text-align: right;\">78.3875</td></tr><tr><td class = \"rowNumber\" style = \"font-weight: bold; text-align: right;\">16173</td><td style = \"text-align: right;\">1</td><td style = \"text-align: right;\">33</td><td style = \"text-align: right;\">12</td><td style = \"text-align: right;\">1</td><td style = \"text-align: right;\">0</td><td style = \"text-align: right;\">1</td><td style = \"text-align: right;\">0</td><td style = \"text-align: right;\">20.2799</td><td style = \"text-align: right;\">10.9413</td><td style = \"text-align: right;\">15.9526</td><td style = \"text-align: right;\">1089</td><td style = \"text-align: right;\">35937</td><td style = \"text-align: right;\">144</td><td style = \"text-align: right;\">0</td><td style = \"text-align: right;\">0</td><td style = \"text-align: right;\">243.359</td><td style = \"text-align: right;\">411.276</td><td style = \"text-align: right;\">119.713</td></tr><tr><td class = \"rowNumber\" style = \"font-weight: bold; text-align: right;\">16174</td><td style = \"text-align: right;\">1</td><td style = \"text-align: right;\">25</td><td style = \"text-align: right;\">14</td><td style = \"text-align: right;\">1</td><td style = \"text-align: right;\">0</td><td style = \"text-align: right;\">1</td><td style = \"text-align: right;\">0</td><td style = \"text-align: right;\">35.0401</td><td style = \"text-align: right;\">11.5366</td><td style = \"text-align: right;\">36.6469</td><td style = \"text-align: right;\">625</td><td style = \"text-align: right;\">15625</td><td style = \"text-align: right;\">196</td><td style = \"text-align: right;\">0</td><td style = \"text-align: right;\">0</td><td style = \"text-align: right;\">490.561</td><td style = \"text-align: right;\">1227.81</td><td style = \"text-align: right;\">133.092</td></tr><tr><td class = \"rowNumber\" style = \"font-weight: bold; text-align: right;\">16175</td><td style = \"text-align: right;\">1</td><td style = \"text-align: right;\">35</td><td style = \"text-align: right;\">9</td><td style = \"text-align: right;\">1</td><td style = \"text-align: right;\">0</td><td style = \"text-align: right;\">1</td><td style = \"text-align: right;\">1</td><td style = \"text-align: right;\">13.6024</td><td style = \"text-align: right;\">13.8306</td><td style = \"text-align: right;\">12.804</td><td style = \"text-align: right;\">1225</td><td style = \"text-align: right;\">42875</td><td style = \"text-align: right;\">81</td><td style = \"text-align: right;\">0</td><td style = \"text-align: right;\">0</td><td style = \"text-align: right;\">122.422</td><td style = \"text-align: right;\">185.026</td><td style = \"text-align: right;\">191.287</td></tr><tr><td class = \"rowNumber\" style = \"font-weight: bold; text-align: right;\">16176</td><td style = \"text-align: right;\">1</td><td style = \"text-align: right;\">35</td><td style = \"text-align: right;\">8</td><td style = \"text-align: right;\">1</td><td style = \"text-align: right;\">0</td><td style = \"text-align: right;\">1</td><td style = \"text-align: right;\">1</td><td style = \"text-align: right;\">13.7321</td><td style = \"text-align: right;\">17.9762</td><td style = \"text-align: right;\">3.78663</td><td style = \"text-align: right;\">1225</td><td style = \"text-align: right;\">42875</td><td style = \"text-align: right;\">64</td><td style = \"text-align: right;\">0</td><td style = \"text-align: right;\">0</td><td style = \"text-align: right;\">109.857</td><td style = \"text-align: right;\">188.57</td><td style = \"text-align: right;\">323.142</td></tr><tr><td class = \"rowNumber\" style = \"font-weight: bold; text-align: right;\">16177</td><td style = \"text-align: right;\">1</td><td style = \"text-align: right;\">33</td><td style = \"text-align: right;\">11</td><td style = \"text-align: right;\">1</td><td style = \"text-align: right;\">0</td><td style = \"text-align: right;\">1</td><td style = \"text-align: right;\">1</td><td style = \"text-align: right;\">14.6607</td><td style = \"text-align: right;\">25.1422</td><td style = \"text-align: right;\">4.18194</td><td style = \"text-align: right;\">1089</td><td style = \"text-align: right;\">35937</td><td style = \"text-align: right;\">121</td><td style = \"text-align: right;\">0</td><td style = \"text-align: right;\">0</td><td style = \"text-align: right;\">161.268</td><td style = \"text-align: right;\">214.936</td><td style = \"text-align: right;\">632.132</td></tr></tbody></table></div>"
      ],
      "text/latex": [
       "\\begin{tabular}{r|ccccccccccc}\n",
       "\t& treat & age & educ & black & hisp & marr & nodegree & re74 & re75 & re78 & \\\\\n",
       "\t\\hline\n",
       "\t& Int64 & Int64 & Int64 & Int64 & Int64 & Int64 & Int64 & Float64 & Float64 & Float64 & \\\\\n",
       "\t\\hline\n",
       "\t1 & 0 & 45 & 11 & 0 & 0 & 1 & 1 & 21.5167 & 25.2436 & 25.5647 & $\\dots$ \\\\\n",
       "\t2 & 0 & 21 & 14 & 0 & 0 & 0 & 0 & 3.17597 & 5.85256 & 13.4961 & $\\dots$ \\\\\n",
       "\t3 & 0 & 38 & 12 & 0 & 0 & 1 & 0 & 23.039 & 25.1308 & 25.5647 & $\\dots$ \\\\\n",
       "\t4 & 0 & 48 & 6 & 0 & 0 & 1 & 1 & 24.9944 & 25.2436 & 25.5647 & $\\dots$ \\\\\n",
       "\t5 & 0 & 18 & 8 & 0 & 0 & 1 & 1 & 1.6693 & 10.7276 & 9.86087 & $\\dots$ \\\\\n",
       "\t6 & 0 & 22 & 11 & 0 & 0 & 1 & 1 & 16.3658 & 18.4493 & 25.5647 & $\\dots$ \\\\\n",
       "\t7 & 0 & 48 & 10 & 0 & 0 & 1 & 1 & 16.8046 & 16.3546 & 18.0593 & $\\dots$ \\\\\n",
       "\t8 & 0 & 18 & 11 & 0 & 0 & 0 & 1 & 1.14421 & 3.62003 & 15.7393 & $\\dots$ \\\\\n",
       "\t9 & 0 & 48 & 9 & 0 & 0 & 1 & 1 & 25.8623 & 25.2436 & 25.5647 & $\\dots$ \\\\\n",
       "\t10 & 0 & 45 & 12 & 0 & 0 & 1 & 0 & 25.8623 & 0.0 & 3.92484 & $\\dots$ \\\\\n",
       "\t11 & 0 & 34 & 14 & 0 & 0 & 1 & 0 & 25.8623 & 23.7468 & 25.5647 & $\\dots$ \\\\\n",
       "\t12 & 0 & 16 & 10 & 0 & 0 & 0 & 1 & 1.02666 & 1.22458 & 6.84779 & $\\dots$ \\\\\n",
       "\t13 & 0 & 53 & 10 & 0 & 0 & 1 & 1 & 25.8623 & 25.2436 & 25.5647 & $\\dots$ \\\\\n",
       "\t14 & 0 & 19 & 12 & 0 & 0 & 0 & 0 & 0.867955 & 4.38629 & 8.7777 & $\\dots$ \\\\\n",
       "\t15 & 0 & 27 & 12 & 0 & 0 & 1 & 0 & 25.8623 & 19.0472 & 19.2149 & $\\dots$ \\\\\n",
       "\t16 & 0 & 32 & 10 & 0 & 0 & 1 & 1 & 20.4273 & 23.3744 & 9.17964 & $\\dots$ \\\\\n",
       "\t17 & 0 & 27 & 12 & 0 & 0 & 1 & 0 & 20.9838 & 14.8221 & 25.5647 & $\\dots$ \\\\\n",
       "\t18 & 0 & 46 & 7 & 0 & 0 & 1 & 1 & 19.1714 & 1.31768 & 0.0 & $\\dots$ \\\\\n",
       "\t19 & 0 & 24 & 13 & 0 & 0 & 0 & 0 & 20.8309 & 25.2436 & 23.9037 & $\\dots$ \\\\\n",
       "\t20 & 0 & 22 & 13 & 0 & 0 & 0 & 0 & 11.0365 & 10.3517 & 6.55667 & $\\dots$ \\\\\n",
       "\t21 & 0 & 49 & 10 & 0 & 0 & 1 & 1 & 0.391853 & 0.0 & 0.0 & $\\dots$ \\\\\n",
       "\t22 & 0 & 17 & 10 & 0 & 0 & 0 & 1 & 0.0 & 0.0 & 4.75532 & $\\dots$ \\\\\n",
       "\t23 & 0 & 29 & 14 & 0 & 0 & 1 & 0 & 21.499 & 22.5867 & 20.9231 & $\\dots$ \\\\\n",
       "\t24 & 0 & 28 & 16 & 0 & 0 & 1 & 0 & 16.5009 & 0.0 & 10.2672 & $\\dots$ \\\\\n",
       "\t25 & 0 & 46 & 12 & 0 & 0 & 1 & 0 & 24.8141 & 24.9678 & 19.339 & $\\dots$ \\\\\n",
       "\t26 & 0 & 26 & 17 & 1 & 0 & 1 & 0 & 0.0 & 0.0 & 4.75385 & $\\dots$ \\\\\n",
       "\t27 & 0 & 49 & 12 & 0 & 0 & 0 & 0 & 25.8623 & 25.2436 & 25.5647 & $\\dots$ \\\\\n",
       "\t28 & 0 & 51 & 10 & 0 & 0 & 1 & 1 & 25.8623 & 25.2436 & 25.5647 & $\\dots$ \\\\\n",
       "\t29 & 0 & 51 & 10 & 0 & 0 & 1 & 1 & 22.9234 & 21.7256 & 10.3485 & $\\dots$ \\\\\n",
       "\t30 & 0 & 27 & 11 & 0 & 0 & 1 & 1 & 17.0221 & 18.1234 & 18.4908 & $\\dots$ \\\\\n",
       "\t$\\dots$ & $\\dots$ & $\\dots$ & $\\dots$ & $\\dots$ & $\\dots$ & $\\dots$ & $\\dots$ & $\\dots$ & $\\dots$ & $\\dots$ &  \\\\\n",
       "\\end{tabular}\n"
      ],
      "text/plain": [
       "\u001b[1m16177×18 DataFrame\u001b[0m\n",
       "\u001b[1m   Row \u001b[0m│\u001b[1m treat \u001b[0m\u001b[1m age   \u001b[0m\u001b[1m educ  \u001b[0m\u001b[1m black \u001b[0m\u001b[1m hisp  \u001b[0m\u001b[1m marr  \u001b[0m\u001b[1m nodegree \u001b[0m\u001b[1m re74      \u001b[0m\u001b[1m re75  \u001b[0m ⋯\n",
       "       │\u001b[90m Int64 \u001b[0m\u001b[90m Int64 \u001b[0m\u001b[90m Int64 \u001b[0m\u001b[90m Int64 \u001b[0m\u001b[90m Int64 \u001b[0m\u001b[90m Int64 \u001b[0m\u001b[90m Int64    \u001b[0m\u001b[90m Float64   \u001b[0m\u001b[90m Float6\u001b[0m ⋯\n",
       "───────┼────────────────────────────────────────────────────────────────────────\n",
       "     1 │     0     45     11      0      0      1         1  21.5167    25.243 ⋯\n",
       "     2 │     0     21     14      0      0      0         0   3.17597    5.852\n",
       "     3 │     0     38     12      0      0      1         0  23.039     25.130\n",
       "     4 │     0     48      6      0      0      1         1  24.9944    25.243\n",
       "     5 │     0     18      8      0      0      1         1   1.6693    10.727 ⋯\n",
       "     6 │     0     22     11      0      0      1         1  16.3658    18.449\n",
       "     7 │     0     48     10      0      0      1         1  16.8046    16.354\n",
       "     8 │     0     18     11      0      0      0         1   1.14421    3.620\n",
       "     9 │     0     48      9      0      0      1         1  25.8623    25.243 ⋯\n",
       "    10 │     0     45     12      0      0      1         0  25.8623     0.0\n",
       "    11 │     0     34     14      0      0      1         0  25.8623    23.746\n",
       "   ⋮   │   ⋮      ⋮      ⋮      ⋮      ⋮      ⋮       ⋮          ⋮         ⋮   ⋱\n",
       " 16168 │     1     28     11      1      0      0         1   1.92903    6.871\n",
       " 16169 │     1     22     12      0      1      1         0   0.49223    7.055 ⋯\n",
       " 16170 │     1     33     11      1      0      0         1   0.0        7.867\n",
       " 16171 │     1     22     12      0      0      0         0   6.75999    8.455\n",
       " 16172 │     1     29     10      0      1      0         1   0.0        8.853\n",
       " 16173 │     1     33     12      1      0      1         0  20.2799    10.941 ⋯\n",
       " 16174 │     1     25     14      1      0      1         0  35.0401    11.536\n",
       " 16175 │     1     35      9      1      0      1         1  13.6024    13.830\n",
       " 16176 │     1     35      8      1      0      1         1  13.7321    17.976\n",
       " 16177 │     1     33     11      1      0      1         1  14.6607    25.142 ⋯\n",
       "\u001b[36m                                               10 columns and 16156 rows omitted\u001b[0m"
      ]
     },
     "execution_count": 90,
     "metadata": {},
     "output_type": "execute_result"
    }
   ],
   "source": [
    "data"
   ]
  },
  {
   "cell_type": "markdown",
   "metadata": {},
   "source": [
    "Features setting "
   ]
  },
  {
   "cell_type": "code",
   "execution_count": 91,
   "metadata": {},
   "outputs": [
    {
     "data": {
      "text/plain": [
       "16177-element Vector{Float64}:\n",
       " 25.564669921875\n",
       " 13.496080078125\n",
       " 25.564669921875\n",
       " 25.564669921875\n",
       "  9.860869140625\n",
       " 25.564669921875\n",
       " 18.05930078125\n",
       " 15.73926953125\n",
       " 25.564669921875\n",
       "  3.92484204101563\n",
       " 25.564669921875\n",
       "  6.84778515625\n",
       " 25.564669921875\n",
       "  ⋮\n",
       "  0.0\n",
       "  0.672877319335938\n",
       "  0.0\n",
       " 10.092830078125\n",
       "  6.28143310546875\n",
       " 12.5907099609375\n",
       "  5.11201416015625\n",
       " 15.952599609375\n",
       " 36.64694921875\n",
       " 12.8039697265625\n",
       "  3.7866279296875\n",
       "  4.18194189453125"
      ]
     },
     "execution_count": 91,
     "metadata": {},
     "output_type": "execute_result"
    }
   ],
   "source": [
    "y= data[!,:re78]"
   ]
  },
  {
   "cell_type": "code",
   "execution_count": 92,
   "metadata": {},
   "outputs": [],
   "source": [
    "d = data[!,:treat];\n",
    "x = data[!,2:end];"
   ]
  },
  {
   "cell_type": "code",
   "execution_count": 93,
   "metadata": {},
   "outputs": [
    {
     "data": {
      "text/html": [
       "<div><div style = \"float: left;\"><span>16177×17 DataFrame</span></div><div style = \"float: right;\"><span style = \"font-style: italic;\">16152 rows omitted</span></div><div style = \"clear: both;\"></div></div><div class = \"data-frame\" style = \"overflow-x: scroll;\"><table class = \"data-frame\" style = \"margin-bottom: 6px;\"><thead><tr class = \"header\"><th class = \"rowNumber\" style = \"font-weight: bold; text-align: right;\">Row</th><th style = \"text-align: left;\">age</th><th style = \"text-align: left;\">educ</th><th style = \"text-align: left;\">black</th><th style = \"text-align: left;\">hisp</th><th style = \"text-align: left;\">marr</th><th style = \"text-align: left;\">nodegree</th><th style = \"text-align: left;\">re74</th><th style = \"text-align: left;\">re75</th><th style = \"text-align: left;\">re78</th><th style = \"text-align: left;\">agesq</th><th style = \"text-align: left;\">agecube</th><th style = \"text-align: left;\">educsq</th><th style = \"text-align: left;\">u74</th><th style = \"text-align: left;\">u75</th><th style = \"text-align: left;\">interaction1</th><th style = \"text-align: left;\">re74sq</th><th style = \"text-align: left;\">re75sq</th></tr><tr class = \"subheader headerLastRow\"><th class = \"rowNumber\" style = \"font-weight: bold; text-align: right;\"></th><th title = \"Float64\" style = \"text-align: left;\">Float64</th><th title = \"Float64\" style = \"text-align: left;\">Float64</th><th title = \"Float64\" style = \"text-align: left;\">Float64</th><th title = \"Float64\" style = \"text-align: left;\">Float64</th><th title = \"Float64\" style = \"text-align: left;\">Float64</th><th title = \"Float64\" style = \"text-align: left;\">Float64</th><th title = \"Float64\" style = \"text-align: left;\">Float64</th><th title = \"Float64\" style = \"text-align: left;\">Float64</th><th title = \"Float64\" style = \"text-align: left;\">Float64</th><th title = \"Float64\" style = \"text-align: left;\">Float64</th><th title = \"Float64\" style = \"text-align: left;\">Float64</th><th title = \"Float64\" style = \"text-align: left;\">Float64</th><th title = \"Float64\" style = \"text-align: left;\">Float64</th><th title = \"Float64\" style = \"text-align: left;\">Float64</th><th title = \"Float64\" style = \"text-align: left;\">Float64</th><th title = \"Float64\" style = \"text-align: left;\">Float64</th><th title = \"Float64\" style = \"text-align: left;\">Float64</th></tr></thead><tbody><tr><td class = \"rowNumber\" style = \"font-weight: bold; text-align: right;\">1</td><td style = \"text-align: right;\">45.0</td><td style = \"text-align: right;\">11.0</td><td style = \"text-align: right;\">0.0</td><td style = \"text-align: right;\">0.0</td><td style = \"text-align: right;\">1.0</td><td style = \"text-align: right;\">1.0</td><td style = \"text-align: right;\">21.5167</td><td style = \"text-align: right;\">25.2436</td><td style = \"text-align: right;\">25.5647</td><td style = \"text-align: right;\">2025.0</td><td style = \"text-align: right;\">91125.0</td><td style = \"text-align: right;\">121.0</td><td style = \"text-align: right;\">0.0</td><td style = \"text-align: right;\">0.0</td><td style = \"text-align: right;\">236.683</td><td style = \"text-align: right;\">462.967</td><td style = \"text-align: right;\">637.237</td></tr><tr><td class = \"rowNumber\" style = \"font-weight: bold; text-align: right;\">2</td><td style = \"text-align: right;\">21.0</td><td style = \"text-align: right;\">14.0</td><td style = \"text-align: right;\">0.0</td><td style = \"text-align: right;\">0.0</td><td style = \"text-align: right;\">0.0</td><td style = \"text-align: right;\">0.0</td><td style = \"text-align: right;\">3.17597</td><td style = \"text-align: right;\">5.85256</td><td style = \"text-align: right;\">13.4961</td><td style = \"text-align: right;\">441.0</td><td style = \"text-align: right;\">9261.0</td><td style = \"text-align: right;\">196.0</td><td style = \"text-align: right;\">0.0</td><td style = \"text-align: right;\">0.0</td><td style = \"text-align: right;\">44.4636</td><td style = \"text-align: right;\">10.0868</td><td style = \"text-align: right;\">34.2525</td></tr><tr><td class = \"rowNumber\" style = \"font-weight: bold; text-align: right;\">3</td><td style = \"text-align: right;\">38.0</td><td style = \"text-align: right;\">12.0</td><td style = \"text-align: right;\">0.0</td><td style = \"text-align: right;\">0.0</td><td style = \"text-align: right;\">1.0</td><td style = \"text-align: right;\">0.0</td><td style = \"text-align: right;\">23.039</td><td style = \"text-align: right;\">25.1308</td><td style = \"text-align: right;\">25.5647</td><td style = \"text-align: right;\">1444.0</td><td style = \"text-align: right;\">54872.0</td><td style = \"text-align: right;\">144.0</td><td style = \"text-align: right;\">0.0</td><td style = \"text-align: right;\">0.0</td><td style = \"text-align: right;\">276.468</td><td style = \"text-align: right;\">530.796</td><td style = \"text-align: right;\">631.555</td></tr><tr><td class = \"rowNumber\" style = \"font-weight: bold; text-align: right;\">4</td><td style = \"text-align: right;\">48.0</td><td style = \"text-align: right;\">6.0</td><td style = \"text-align: right;\">0.0</td><td style = \"text-align: right;\">0.0</td><td style = \"text-align: right;\">1.0</td><td style = \"text-align: right;\">1.0</td><td style = \"text-align: right;\">24.9944</td><td style = \"text-align: right;\">25.2436</td><td style = \"text-align: right;\">25.5647</td><td style = \"text-align: right;\">2304.0</td><td style = \"text-align: right;\">110592.0</td><td style = \"text-align: right;\">36.0</td><td style = \"text-align: right;\">0.0</td><td style = \"text-align: right;\">0.0</td><td style = \"text-align: right;\">149.966</td><td style = \"text-align: right;\">624.718</td><td style = \"text-align: right;\">637.237</td></tr><tr><td class = \"rowNumber\" style = \"font-weight: bold; text-align: right;\">5</td><td style = \"text-align: right;\">18.0</td><td style = \"text-align: right;\">8.0</td><td style = \"text-align: right;\">0.0</td><td style = \"text-align: right;\">0.0</td><td style = \"text-align: right;\">1.0</td><td style = \"text-align: right;\">1.0</td><td style = \"text-align: right;\">1.6693</td><td style = \"text-align: right;\">10.7276</td><td style = \"text-align: right;\">9.86087</td><td style = \"text-align: right;\">324.0</td><td style = \"text-align: right;\">5832.0</td><td style = \"text-align: right;\">64.0</td><td style = \"text-align: right;\">0.0</td><td style = \"text-align: right;\">0.0</td><td style = \"text-align: right;\">13.3544</td><td style = \"text-align: right;\">2.78655</td><td style = \"text-align: right;\">115.082</td></tr><tr><td class = \"rowNumber\" style = \"font-weight: bold; text-align: right;\">6</td><td style = \"text-align: right;\">22.0</td><td style = \"text-align: right;\">11.0</td><td style = \"text-align: right;\">0.0</td><td style = \"text-align: right;\">0.0</td><td style = \"text-align: right;\">1.0</td><td style = \"text-align: right;\">1.0</td><td style = \"text-align: right;\">16.3658</td><td style = \"text-align: right;\">18.4493</td><td style = \"text-align: right;\">25.5647</td><td style = \"text-align: right;\">484.0</td><td style = \"text-align: right;\">10648.0</td><td style = \"text-align: right;\">121.0</td><td style = \"text-align: right;\">0.0</td><td style = \"text-align: right;\">0.0</td><td style = \"text-align: right;\">180.023</td><td style = \"text-align: right;\">267.838</td><td style = \"text-align: right;\">340.376</td></tr><tr><td class = \"rowNumber\" style = \"font-weight: bold; text-align: right;\">7</td><td style = \"text-align: right;\">48.0</td><td style = \"text-align: right;\">10.0</td><td style = \"text-align: right;\">0.0</td><td style = \"text-align: right;\">0.0</td><td style = \"text-align: right;\">1.0</td><td style = \"text-align: right;\">1.0</td><td style = \"text-align: right;\">16.8046</td><td style = \"text-align: right;\">16.3546</td><td style = \"text-align: right;\">18.0593</td><td style = \"text-align: right;\">2304.0</td><td style = \"text-align: right;\">110592.0</td><td style = \"text-align: right;\">100.0</td><td style = \"text-align: right;\">0.0</td><td style = \"text-align: right;\">0.0</td><td style = \"text-align: right;\">168.046</td><td style = \"text-align: right;\">282.396</td><td style = \"text-align: right;\">267.473</td></tr><tr><td class = \"rowNumber\" style = \"font-weight: bold; text-align: right;\">8</td><td style = \"text-align: right;\">18.0</td><td style = \"text-align: right;\">11.0</td><td style = \"text-align: right;\">0.0</td><td style = \"text-align: right;\">0.0</td><td style = \"text-align: right;\">0.0</td><td style = \"text-align: right;\">1.0</td><td style = \"text-align: right;\">1.14421</td><td style = \"text-align: right;\">3.62003</td><td style = \"text-align: right;\">15.7393</td><td style = \"text-align: right;\">324.0</td><td style = \"text-align: right;\">5832.0</td><td style = \"text-align: right;\">121.0</td><td style = \"text-align: right;\">0.0</td><td style = \"text-align: right;\">0.0</td><td style = \"text-align: right;\">12.5863</td><td style = \"text-align: right;\">1.30922</td><td style = \"text-align: right;\">13.1046</td></tr><tr><td class = \"rowNumber\" style = \"font-weight: bold; text-align: right;\">9</td><td style = \"text-align: right;\">48.0</td><td style = \"text-align: right;\">9.0</td><td style = \"text-align: right;\">0.0</td><td style = \"text-align: right;\">0.0</td><td style = \"text-align: right;\">1.0</td><td style = \"text-align: right;\">1.0</td><td style = \"text-align: right;\">25.8623</td><td style = \"text-align: right;\">25.2436</td><td style = \"text-align: right;\">25.5647</td><td style = \"text-align: right;\">2304.0</td><td style = \"text-align: right;\">110592.0</td><td style = \"text-align: right;\">81.0</td><td style = \"text-align: right;\">0.0</td><td style = \"text-align: right;\">0.0</td><td style = \"text-align: right;\">232.761</td><td style = \"text-align: right;\">668.86</td><td style = \"text-align: right;\">637.237</td></tr><tr><td class = \"rowNumber\" style = \"font-weight: bold; text-align: right;\">10</td><td style = \"text-align: right;\">45.0</td><td style = \"text-align: right;\">12.0</td><td style = \"text-align: right;\">0.0</td><td style = \"text-align: right;\">0.0</td><td style = \"text-align: right;\">1.0</td><td style = \"text-align: right;\">0.0</td><td style = \"text-align: right;\">25.8623</td><td style = \"text-align: right;\">0.0</td><td style = \"text-align: right;\">3.92484</td><td style = \"text-align: right;\">2025.0</td><td style = \"text-align: right;\">91125.0</td><td style = \"text-align: right;\">144.0</td><td style = \"text-align: right;\">0.0</td><td style = \"text-align: right;\">1.0</td><td style = \"text-align: right;\">310.348</td><td style = \"text-align: right;\">668.86</td><td style = \"text-align: right;\">0.0</td></tr><tr><td class = \"rowNumber\" style = \"font-weight: bold; text-align: right;\">11</td><td style = \"text-align: right;\">34.0</td><td style = \"text-align: right;\">14.0</td><td style = \"text-align: right;\">0.0</td><td style = \"text-align: right;\">0.0</td><td style = \"text-align: right;\">1.0</td><td style = \"text-align: right;\">0.0</td><td style = \"text-align: right;\">25.8623</td><td style = \"text-align: right;\">23.7468</td><td style = \"text-align: right;\">25.5647</td><td style = \"text-align: right;\">1156.0</td><td style = \"text-align: right;\">39304.0</td><td style = \"text-align: right;\">196.0</td><td style = \"text-align: right;\">0.0</td><td style = \"text-align: right;\">0.0</td><td style = \"text-align: right;\">362.072</td><td style = \"text-align: right;\">668.86</td><td style = \"text-align: right;\">563.912</td></tr><tr><td class = \"rowNumber\" style = \"font-weight: bold; text-align: right;\">12</td><td style = \"text-align: right;\">16.0</td><td style = \"text-align: right;\">10.0</td><td style = \"text-align: right;\">0.0</td><td style = \"text-align: right;\">0.0</td><td style = \"text-align: right;\">0.0</td><td style = \"text-align: right;\">1.0</td><td style = \"text-align: right;\">1.02666</td><td style = \"text-align: right;\">1.22458</td><td style = \"text-align: right;\">6.84779</td><td style = \"text-align: right;\">256.0</td><td style = \"text-align: right;\">4096.0</td><td style = \"text-align: right;\">100.0</td><td style = \"text-align: right;\">0.0</td><td style = \"text-align: right;\">0.0</td><td style = \"text-align: right;\">10.2666</td><td style = \"text-align: right;\">1.05402</td><td style = \"text-align: right;\">1.4996</td></tr><tr><td class = \"rowNumber\" style = \"font-weight: bold; text-align: right;\">13</td><td style = \"text-align: right;\">53.0</td><td style = \"text-align: right;\">10.0</td><td style = \"text-align: right;\">0.0</td><td style = \"text-align: right;\">0.0</td><td style = \"text-align: right;\">1.0</td><td style = \"text-align: right;\">1.0</td><td style = \"text-align: right;\">25.8623</td><td style = \"text-align: right;\">25.2436</td><td style = \"text-align: right;\">25.5647</td><td style = \"text-align: right;\">2809.0</td><td style = \"text-align: right;\">148877.0</td><td style = \"text-align: right;\">100.0</td><td style = \"text-align: right;\">0.0</td><td style = \"text-align: right;\">0.0</td><td style = \"text-align: right;\">258.623</td><td style = \"text-align: right;\">668.86</td><td style = \"text-align: right;\">637.237</td></tr><tr><td style = \"text-align: right;\">&vellip;</td><td style = \"text-align: right;\">&vellip;</td><td style = \"text-align: right;\">&vellip;</td><td style = \"text-align: right;\">&vellip;</td><td style = \"text-align: right;\">&vellip;</td><td style = \"text-align: right;\">&vellip;</td><td style = \"text-align: right;\">&vellip;</td><td style = \"text-align: right;\">&vellip;</td><td style = \"text-align: right;\">&vellip;</td><td style = \"text-align: right;\">&vellip;</td><td style = \"text-align: right;\">&vellip;</td><td style = \"text-align: right;\">&vellip;</td><td style = \"text-align: right;\">&vellip;</td><td style = \"text-align: right;\">&vellip;</td><td style = \"text-align: right;\">&vellip;</td><td style = \"text-align: right;\">&vellip;</td><td style = \"text-align: right;\">&vellip;</td><td style = \"text-align: right;\">&vellip;</td></tr><tr><td class = \"rowNumber\" style = \"font-weight: bold; text-align: right;\">16166</td><td style = \"text-align: right;\">19.0</td><td style = \"text-align: right;\">10.0</td><td style = \"text-align: right;\">1.0</td><td style = \"text-align: right;\">0.0</td><td style = \"text-align: right;\">0.0</td><td style = \"text-align: right;\">1.0</td><td style = \"text-align: right;\">4.12195</td><td style = \"text-align: right;\">6.05675</td><td style = \"text-align: right;\">0.0</td><td style = \"text-align: right;\">361.0</td><td style = \"text-align: right;\">6859.0</td><td style = \"text-align: right;\">100.0</td><td style = \"text-align: right;\">0.0</td><td style = \"text-align: right;\">0.0</td><td style = \"text-align: right;\">41.2195</td><td style = \"text-align: right;\">16.9905</td><td style = \"text-align: right;\">36.6843</td></tr><tr><td class = \"rowNumber\" style = \"font-weight: bold; text-align: right;\">16167</td><td style = \"text-align: right;\">26.0</td><td style = \"text-align: right;\">10.0</td><td style = \"text-align: right;\">1.0</td><td style = \"text-align: right;\">0.0</td><td style = \"text-align: right;\">0.0</td><td style = \"text-align: right;\">1.0</td><td style = \"text-align: right;\">25.9297</td><td style = \"text-align: right;\">6.78896</td><td style = \"text-align: right;\">0.672877</td><td style = \"text-align: right;\">676.0</td><td style = \"text-align: right;\">17576.0</td><td style = \"text-align: right;\">100.0</td><td style = \"text-align: right;\">0.0</td><td style = \"text-align: right;\">0.0</td><td style = \"text-align: right;\">259.297</td><td style = \"text-align: right;\">672.348</td><td style = \"text-align: right;\">46.09</td></tr><tr><td class = \"rowNumber\" style = \"font-weight: bold; text-align: right;\">16168</td><td style = \"text-align: right;\">28.0</td><td style = \"text-align: right;\">11.0</td><td style = \"text-align: right;\">1.0</td><td style = \"text-align: right;\">0.0</td><td style = \"text-align: right;\">0.0</td><td style = \"text-align: right;\">1.0</td><td style = \"text-align: right;\">1.92903</td><td style = \"text-align: right;\">6.87186</td><td style = \"text-align: right;\">0.0</td><td style = \"text-align: right;\">784.0</td><td style = \"text-align: right;\">21952.0</td><td style = \"text-align: right;\">121.0</td><td style = \"text-align: right;\">0.0</td><td style = \"text-align: right;\">0.0</td><td style = \"text-align: right;\">21.2193</td><td style = \"text-align: right;\">3.72115</td><td style = \"text-align: right;\">47.2224</td></tr><tr><td class = \"rowNumber\" style = \"font-weight: bold; text-align: right;\">16169</td><td style = \"text-align: right;\">22.0</td><td style = \"text-align: right;\">12.0</td><td style = \"text-align: right;\">0.0</td><td style = \"text-align: right;\">1.0</td><td style = \"text-align: right;\">1.0</td><td style = \"text-align: right;\">0.0</td><td style = \"text-align: right;\">0.49223</td><td style = \"text-align: right;\">7.0557</td><td style = \"text-align: right;\">10.0928</td><td style = \"text-align: right;\">484.0</td><td style = \"text-align: right;\">10648.0</td><td style = \"text-align: right;\">144.0</td><td style = \"text-align: right;\">0.0</td><td style = \"text-align: right;\">0.0</td><td style = \"text-align: right;\">5.90677</td><td style = \"text-align: right;\">0.242291</td><td style = \"text-align: right;\">49.7829</td></tr><tr><td class = \"rowNumber\" style = \"font-weight: bold; text-align: right;\">16170</td><td style = \"text-align: right;\">33.0</td><td style = \"text-align: right;\">11.0</td><td style = \"text-align: right;\">1.0</td><td style = \"text-align: right;\">0.0</td><td style = \"text-align: right;\">0.0</td><td style = \"text-align: right;\">1.0</td><td style = \"text-align: right;\">0.0</td><td style = \"text-align: right;\">7.86792</td><td style = \"text-align: right;\">6.28143</td><td style = \"text-align: right;\">1089.0</td><td style = \"text-align: right;\">35937.0</td><td style = \"text-align: right;\">121.0</td><td style = \"text-align: right;\">1.0</td><td style = \"text-align: right;\">0.0</td><td style = \"text-align: right;\">0.0</td><td style = \"text-align: right;\">0.0</td><td style = \"text-align: right;\">61.9041</td></tr><tr><td class = \"rowNumber\" style = \"font-weight: bold; text-align: right;\">16171</td><td style = \"text-align: right;\">22.0</td><td style = \"text-align: right;\">12.0</td><td style = \"text-align: right;\">0.0</td><td style = \"text-align: right;\">0.0</td><td style = \"text-align: right;\">0.0</td><td style = \"text-align: right;\">0.0</td><td style = \"text-align: right;\">6.75999</td><td style = \"text-align: right;\">8.4555</td><td style = \"text-align: right;\">12.5907</td><td style = \"text-align: right;\">484.0</td><td style = \"text-align: right;\">10648.0</td><td style = \"text-align: right;\">144.0</td><td style = \"text-align: right;\">0.0</td><td style = \"text-align: right;\">0.0</td><td style = \"text-align: right;\">81.1199</td><td style = \"text-align: right;\">45.6975</td><td style = \"text-align: right;\">71.4955</td></tr><tr><td class = \"rowNumber\" style = \"font-weight: bold; text-align: right;\">16172</td><td style = \"text-align: right;\">29.0</td><td style = \"text-align: right;\">10.0</td><td style = \"text-align: right;\">0.0</td><td style = \"text-align: right;\">1.0</td><td style = \"text-align: right;\">0.0</td><td style = \"text-align: right;\">1.0</td><td style = \"text-align: right;\">0.0</td><td style = \"text-align: right;\">8.85367</td><td style = \"text-align: right;\">5.11201</td><td style = \"text-align: right;\">841.0</td><td style = \"text-align: right;\">24389.0</td><td style = \"text-align: right;\">100.0</td><td style = \"text-align: right;\">1.0</td><td style = \"text-align: right;\">0.0</td><td style = \"text-align: right;\">0.0</td><td style = \"text-align: right;\">0.0</td><td style = \"text-align: right;\">78.3875</td></tr><tr><td class = \"rowNumber\" style = \"font-weight: bold; text-align: right;\">16173</td><td style = \"text-align: right;\">33.0</td><td style = \"text-align: right;\">12.0</td><td style = \"text-align: right;\">1.0</td><td style = \"text-align: right;\">0.0</td><td style = \"text-align: right;\">1.0</td><td style = \"text-align: right;\">0.0</td><td style = \"text-align: right;\">20.2799</td><td style = \"text-align: right;\">10.9413</td><td style = \"text-align: right;\">15.9526</td><td style = \"text-align: right;\">1089.0</td><td style = \"text-align: right;\">35937.0</td><td style = \"text-align: right;\">144.0</td><td style = \"text-align: right;\">0.0</td><td style = \"text-align: right;\">0.0</td><td style = \"text-align: right;\">243.359</td><td style = \"text-align: right;\">411.276</td><td style = \"text-align: right;\">119.713</td></tr><tr><td class = \"rowNumber\" style = \"font-weight: bold; text-align: right;\">16174</td><td style = \"text-align: right;\">25.0</td><td style = \"text-align: right;\">14.0</td><td style = \"text-align: right;\">1.0</td><td style = \"text-align: right;\">0.0</td><td style = \"text-align: right;\">1.0</td><td style = \"text-align: right;\">0.0</td><td style = \"text-align: right;\">35.0401</td><td style = \"text-align: right;\">11.5366</td><td style = \"text-align: right;\">36.6469</td><td style = \"text-align: right;\">625.0</td><td style = \"text-align: right;\">15625.0</td><td style = \"text-align: right;\">196.0</td><td style = \"text-align: right;\">0.0</td><td style = \"text-align: right;\">0.0</td><td style = \"text-align: right;\">490.561</td><td style = \"text-align: right;\">1227.81</td><td style = \"text-align: right;\">133.092</td></tr><tr><td class = \"rowNumber\" style = \"font-weight: bold; text-align: right;\">16175</td><td style = \"text-align: right;\">35.0</td><td style = \"text-align: right;\">9.0</td><td style = \"text-align: right;\">1.0</td><td style = \"text-align: right;\">0.0</td><td style = \"text-align: right;\">1.0</td><td style = \"text-align: right;\">1.0</td><td style = \"text-align: right;\">13.6024</td><td style = \"text-align: right;\">13.8306</td><td style = \"text-align: right;\">12.804</td><td style = \"text-align: right;\">1225.0</td><td style = \"text-align: right;\">42875.0</td><td style = \"text-align: right;\">81.0</td><td style = \"text-align: right;\">0.0</td><td style = \"text-align: right;\">0.0</td><td style = \"text-align: right;\">122.422</td><td style = \"text-align: right;\">185.026</td><td style = \"text-align: right;\">191.287</td></tr><tr><td class = \"rowNumber\" style = \"font-weight: bold; text-align: right;\">16176</td><td style = \"text-align: right;\">35.0</td><td style = \"text-align: right;\">8.0</td><td style = \"text-align: right;\">1.0</td><td style = \"text-align: right;\">0.0</td><td style = \"text-align: right;\">1.0</td><td style = \"text-align: right;\">1.0</td><td style = \"text-align: right;\">13.7321</td><td style = \"text-align: right;\">17.9762</td><td style = \"text-align: right;\">3.78663</td><td style = \"text-align: right;\">1225.0</td><td style = \"text-align: right;\">42875.0</td><td style = \"text-align: right;\">64.0</td><td style = \"text-align: right;\">0.0</td><td style = \"text-align: right;\">0.0</td><td style = \"text-align: right;\">109.857</td><td style = \"text-align: right;\">188.57</td><td style = \"text-align: right;\">323.142</td></tr><tr><td class = \"rowNumber\" style = \"font-weight: bold; text-align: right;\">16177</td><td style = \"text-align: right;\">33.0</td><td style = \"text-align: right;\">11.0</td><td style = \"text-align: right;\">1.0</td><td style = \"text-align: right;\">0.0</td><td style = \"text-align: right;\">1.0</td><td style = \"text-align: right;\">1.0</td><td style = \"text-align: right;\">14.6607</td><td style = \"text-align: right;\">25.1422</td><td style = \"text-align: right;\">4.18194</td><td style = \"text-align: right;\">1089.0</td><td style = \"text-align: right;\">35937.0</td><td style = \"text-align: right;\">121.0</td><td style = \"text-align: right;\">0.0</td><td style = \"text-align: right;\">0.0</td><td style = \"text-align: right;\">161.268</td><td style = \"text-align: right;\">214.936</td><td style = \"text-align: right;\">632.132</td></tr></tbody></table></div>"
      ],
      "text/latex": [
       "\\begin{tabular}{r|cccccccccc}\n",
       "\t& age & educ & black & hisp & marr & nodegree & re74 & re75 & re78 & \\\\\n",
       "\t\\hline\n",
       "\t& Float64 & Float64 & Float64 & Float64 & Float64 & Float64 & Float64 & Float64 & Float64 & \\\\\n",
       "\t\\hline\n",
       "\t1 & 45.0 & 11.0 & 0.0 & 0.0 & 1.0 & 1.0 & 21.5167 & 25.2436 & 25.5647 & $\\dots$ \\\\\n",
       "\t2 & 21.0 & 14.0 & 0.0 & 0.0 & 0.0 & 0.0 & 3.17597 & 5.85256 & 13.4961 & $\\dots$ \\\\\n",
       "\t3 & 38.0 & 12.0 & 0.0 & 0.0 & 1.0 & 0.0 & 23.039 & 25.1308 & 25.5647 & $\\dots$ \\\\\n",
       "\t4 & 48.0 & 6.0 & 0.0 & 0.0 & 1.0 & 1.0 & 24.9944 & 25.2436 & 25.5647 & $\\dots$ \\\\\n",
       "\t5 & 18.0 & 8.0 & 0.0 & 0.0 & 1.0 & 1.0 & 1.6693 & 10.7276 & 9.86087 & $\\dots$ \\\\\n",
       "\t6 & 22.0 & 11.0 & 0.0 & 0.0 & 1.0 & 1.0 & 16.3658 & 18.4493 & 25.5647 & $\\dots$ \\\\\n",
       "\t7 & 48.0 & 10.0 & 0.0 & 0.0 & 1.0 & 1.0 & 16.8046 & 16.3546 & 18.0593 & $\\dots$ \\\\\n",
       "\t8 & 18.0 & 11.0 & 0.0 & 0.0 & 0.0 & 1.0 & 1.14421 & 3.62003 & 15.7393 & $\\dots$ \\\\\n",
       "\t9 & 48.0 & 9.0 & 0.0 & 0.0 & 1.0 & 1.0 & 25.8623 & 25.2436 & 25.5647 & $\\dots$ \\\\\n",
       "\t10 & 45.0 & 12.0 & 0.0 & 0.0 & 1.0 & 0.0 & 25.8623 & 0.0 & 3.92484 & $\\dots$ \\\\\n",
       "\t11 & 34.0 & 14.0 & 0.0 & 0.0 & 1.0 & 0.0 & 25.8623 & 23.7468 & 25.5647 & $\\dots$ \\\\\n",
       "\t12 & 16.0 & 10.0 & 0.0 & 0.0 & 0.0 & 1.0 & 1.02666 & 1.22458 & 6.84779 & $\\dots$ \\\\\n",
       "\t13 & 53.0 & 10.0 & 0.0 & 0.0 & 1.0 & 1.0 & 25.8623 & 25.2436 & 25.5647 & $\\dots$ \\\\\n",
       "\t14 & 19.0 & 12.0 & 0.0 & 0.0 & 0.0 & 0.0 & 0.867955 & 4.38629 & 8.7777 & $\\dots$ \\\\\n",
       "\t15 & 27.0 & 12.0 & 0.0 & 0.0 & 1.0 & 0.0 & 25.8623 & 19.0472 & 19.2149 & $\\dots$ \\\\\n",
       "\t16 & 32.0 & 10.0 & 0.0 & 0.0 & 1.0 & 1.0 & 20.4273 & 23.3744 & 9.17964 & $\\dots$ \\\\\n",
       "\t17 & 27.0 & 12.0 & 0.0 & 0.0 & 1.0 & 0.0 & 20.9838 & 14.8221 & 25.5647 & $\\dots$ \\\\\n",
       "\t18 & 46.0 & 7.0 & 0.0 & 0.0 & 1.0 & 1.0 & 19.1714 & 1.31768 & 0.0 & $\\dots$ \\\\\n",
       "\t19 & 24.0 & 13.0 & 0.0 & 0.0 & 0.0 & 0.0 & 20.8309 & 25.2436 & 23.9037 & $\\dots$ \\\\\n",
       "\t20 & 22.0 & 13.0 & 0.0 & 0.0 & 0.0 & 0.0 & 11.0365 & 10.3517 & 6.55667 & $\\dots$ \\\\\n",
       "\t21 & 49.0 & 10.0 & 0.0 & 0.0 & 1.0 & 1.0 & 0.391853 & 0.0 & 0.0 & $\\dots$ \\\\\n",
       "\t22 & 17.0 & 10.0 & 0.0 & 0.0 & 0.0 & 1.0 & 0.0 & 0.0 & 4.75532 & $\\dots$ \\\\\n",
       "\t23 & 29.0 & 14.0 & 0.0 & 0.0 & 1.0 & 0.0 & 21.499 & 22.5867 & 20.9231 & $\\dots$ \\\\\n",
       "\t24 & 28.0 & 16.0 & 0.0 & 0.0 & 1.0 & 0.0 & 16.5009 & 0.0 & 10.2672 & $\\dots$ \\\\\n",
       "\t25 & 46.0 & 12.0 & 0.0 & 0.0 & 1.0 & 0.0 & 24.8141 & 24.9678 & 19.339 & $\\dots$ \\\\\n",
       "\t26 & 26.0 & 17.0 & 1.0 & 0.0 & 1.0 & 0.0 & 0.0 & 0.0 & 4.75385 & $\\dots$ \\\\\n",
       "\t27 & 49.0 & 12.0 & 0.0 & 0.0 & 0.0 & 0.0 & 25.8623 & 25.2436 & 25.5647 & $\\dots$ \\\\\n",
       "\t28 & 51.0 & 10.0 & 0.0 & 0.0 & 1.0 & 1.0 & 25.8623 & 25.2436 & 25.5647 & $\\dots$ \\\\\n",
       "\t29 & 51.0 & 10.0 & 0.0 & 0.0 & 1.0 & 1.0 & 22.9234 & 21.7256 & 10.3485 & $\\dots$ \\\\\n",
       "\t30 & 27.0 & 11.0 & 0.0 & 0.0 & 1.0 & 1.0 & 17.0221 & 18.1234 & 18.4908 & $\\dots$ \\\\\n",
       "\t$\\dots$ & $\\dots$ & $\\dots$ & $\\dots$ & $\\dots$ & $\\dots$ & $\\dots$ & $\\dots$ & $\\dots$ & $\\dots$ &  \\\\\n",
       "\\end{tabular}\n"
      ],
      "text/plain": [
       "\u001b[1m16177×17 DataFrame\u001b[0m\n",
       "\u001b[1m   Row \u001b[0m│\u001b[1m age     \u001b[0m\u001b[1m educ    \u001b[0m\u001b[1m black   \u001b[0m\u001b[1m hisp    \u001b[0m\u001b[1m marr    \u001b[0m\u001b[1m nodegree \u001b[0m\u001b[1m re74      \u001b[0m\u001b[1m re7\u001b[0m ⋯\n",
       "       │\u001b[90m Float64 \u001b[0m\u001b[90m Float64 \u001b[0m\u001b[90m Float64 \u001b[0m\u001b[90m Float64 \u001b[0m\u001b[90m Float64 \u001b[0m\u001b[90m Float64  \u001b[0m\u001b[90m Float64   \u001b[0m\u001b[90m Flo\u001b[0m ⋯\n",
       "───────┼────────────────────────────────────────────────────────────────────────\n",
       "     1 │    45.0     11.0      0.0      0.0      1.0       1.0  21.5167    25. ⋯\n",
       "     2 │    21.0     14.0      0.0      0.0      0.0       0.0   3.17597    5.\n",
       "     3 │    38.0     12.0      0.0      0.0      1.0       0.0  23.039     25.\n",
       "     4 │    48.0      6.0      0.0      0.0      1.0       1.0  24.9944    25.\n",
       "     5 │    18.0      8.0      0.0      0.0      1.0       1.0   1.6693    10. ⋯\n",
       "     6 │    22.0     11.0      0.0      0.0      1.0       1.0  16.3658    18.\n",
       "     7 │    48.0     10.0      0.0      0.0      1.0       1.0  16.8046    16.\n",
       "     8 │    18.0     11.0      0.0      0.0      0.0       1.0   1.14421    3.\n",
       "     9 │    48.0      9.0      0.0      0.0      1.0       1.0  25.8623    25. ⋯\n",
       "    10 │    45.0     12.0      0.0      0.0      1.0       0.0  25.8623     0.\n",
       "    11 │    34.0     14.0      0.0      0.0      1.0       0.0  25.8623    23.\n",
       "   ⋮   │    ⋮        ⋮        ⋮        ⋮        ⋮        ⋮          ⋮          ⋱\n",
       " 16168 │    28.0     11.0      1.0      0.0      0.0       1.0   1.92903    6.\n",
       " 16169 │    22.0     12.0      0.0      1.0      1.0       0.0   0.49223    7. ⋯\n",
       " 16170 │    33.0     11.0      1.0      0.0      0.0       1.0   0.0        7.\n",
       " 16171 │    22.0     12.0      0.0      0.0      0.0       0.0   6.75999    8.\n",
       " 16172 │    29.0     10.0      0.0      1.0      0.0       1.0   0.0        8.\n",
       " 16173 │    33.0     12.0      1.0      0.0      1.0       0.0  20.2799    10. ⋯\n",
       " 16174 │    25.0     14.0      1.0      0.0      1.0       0.0  35.0401    11.\n",
       " 16175 │    35.0      9.0      1.0      0.0      1.0       1.0  13.6024    13.\n",
       " 16176 │    35.0      8.0      1.0      0.0      1.0       1.0  13.7321    17.\n",
       " 16177 │    33.0     11.0      1.0      0.0      1.0       1.0  14.6607    25. ⋯\n",
       "\u001b[36m                                               10 columns and 16156 rows omitted\u001b[0m"
      ]
     },
     "execution_count": 93,
     "metadata": {},
     "output_type": "execute_result"
    }
   ],
   "source": [
    "coerce!(x, Count => Continuous)"
   ]
  },
  {
   "cell_type": "code",
   "execution_count": 94,
   "metadata": {},
   "outputs": [
    {
     "name": "stdout",
     "output_type": "stream",
     "text": [
      "\n",
      " length of y is \n",
      "16177\n",
      "\n",
      " num features x is \n",
      "17\n",
      "\n",
      " Naive OLS that uses all features w/o cross-fitting \n"
     ]
    },
    {
     "data": {
      "text/html": [
       "<div><div style = \"float: left;\"><span>DataFrameRow (7 columns)</span></div><div style = \"clear: both;\"></div></div><div class = \"data-frame\" style = \"overflow-x: scroll;\"><table class = \"data-frame\" style = \"margin-bottom: 6px;\"><thead><tr class = \"header\"><th class = \"rowLabel\" style = \"font-weight: bold; text-align: right;\">Row</th><th style = \"text-align: left;\">Name</th><th style = \"text-align: left;\">Estimate</th><th style = \"text-align: left;\">Std. Error</th><th style = \"text-align: left;\">t-stat</th><th style = \"text-align: left;\">Pr(&gt;|t|)</th><th style = \"text-align: left;\">Lower 95%</th><th style = \"text-align: left;\">Upper 95%</th></tr><tr class = \"subheader headerLastRow\"><th class = \"rowLabel\" style = \"font-weight: bold; text-align: right;\"></th><th title = \"String\" style = \"text-align: left;\">String</th><th title = \"Float64\" style = \"text-align: left;\">Float64</th><th title = \"Float64\" style = \"text-align: left;\">Float64</th><th title = \"Float64\" style = \"text-align: left;\">Float64</th><th title = \"Float64\" style = \"text-align: left;\">Float64</th><th title = \"Float64\" style = \"text-align: left;\">Float64</th><th title = \"Float64\" style = \"text-align: left;\">Float64</th></tr></thead><tbody><tr><td class = \"rowLabel\" style = \"font-weight: bold; text-align: right;\">1</td><td style = \"text-align: left;\">treat</td><td style = \"text-align: right;\">2.75176e-13</td><td style = \"text-align: right;\">1.83225e-13</td><td style = \"text-align: right;\">1.50184</td><td style = \"text-align: right;\">0.133157</td><td style = \"text-align: right;\">-8.39662e-14</td><td style = \"text-align: right;\">6.34317e-13</td></tr></tbody></table></div>"
      ],
      "text/latex": [
       "\\begin{tabular}{r|ccccccc}\n",
       "\t& Name & Estimate & Std. Error & t-stat & Pr(>|t|) & Lower 95\\% & Upper 95\\%\\\\\n",
       "\t\\hline\n",
       "\t& String & Float64 & Float64 & Float64 & Float64 & Float64 & Float64\\\\\n",
       "\t\\hline\n",
       "\t1 & treat & 2.75176e-13 & 1.83225e-13 & 1.50184 & 0.133157 & -8.39662e-14 & 6.34317e-13 \\\\\n",
       "\\end{tabular}\n"
      ],
      "text/plain": [
       "\u001b[1mDataFrameRow\u001b[0m\n",
       "\u001b[1m Row \u001b[0m│\u001b[1m Name   \u001b[0m\u001b[1m Estimate    \u001b[0m\u001b[1m Std. Error  \u001b[0m\u001b[1m t-stat  \u001b[0m\u001b[1m Pr(>|t|) \u001b[0m\u001b[1m Lower 95%    \u001b[0m\u001b[1m Uppe\u001b[0m ⋯\n",
       "     │\u001b[90m String \u001b[0m\u001b[90m Float64     \u001b[0m\u001b[90m Float64     \u001b[0m\u001b[90m Float64 \u001b[0m\u001b[90m Float64  \u001b[0m\u001b[90m Float64      \u001b[0m\u001b[90m Floa\u001b[0m ⋯\n",
       "─────┼──────────────────────────────────────────────────────────────────────────\n",
       "   1 │ treat   2.75176e-13  1.83225e-13  1.50184  0.133157  -8.39662e-14  6.34 ⋯\n",
       "\u001b[36m                                                                1 column omitted\u001b[0m"
      ]
     },
     "execution_count": 94,
     "metadata": {},
     "output_type": "execute_result"
    }
   ],
   "source": [
    "println(\"\\n length of y is \\n\", size(y,1) )\n",
    "println(\"\\n num features x is \\n\", size(x,2 ) )\n",
    "\n",
    "# Naive OLS\n",
    "print( \"\\n Naive OLS that uses all features w/o cross-fitting \\n\" )\n",
    "fm = term(:re78) ~ term(:treat) +sum(term.(Symbol.(names(data[:,4:size(data,2)]))));\n",
    "lres = reg(data, fm);\n",
    "first(DataFrame(GLM.coeftable(lres)))"
   ]
  },
  {
   "cell_type": "code",
   "execution_count": 95,
   "metadata": {},
   "outputs": [
    {
     "data": {
      "text/plain": [
       "summarize (generic function with 1 method)"
      ]
     },
     "execution_count": 95,
     "metadata": {},
     "output_type": "execute_result"
    }
   ],
   "source": [
    "function training_sample_append(cv_split, test_sample_index)\n",
    "    training_indices = []\n",
    "    for vector in cv_split[Not(test_sample_index)]\n",
    "            training_indices = [training_indices; vector]\n",
    "    end\n",
    "    return training_indices, cv_split[test_sample_index]\n",
    "end\n",
    "\n",
    "function dml(x, d, y, dreg, yreg, nfold)\n",
    "    n = length(y)\n",
    "    cv = [partition(eachindex(y), fill(1/nfold, nfold-1)..., shuffle = true, rng = 1234)...]\n",
    "    machine_y = machine(yreg, x, y, scitype_check_level=0)\n",
    "    machine_d = machine(dreg, x, d, scitype_check_level=0)\n",
    "    y_hat = zeros(n)\n",
    "    d_hat = zeros(n)\n",
    "\n",
    "    for fold in 1:nfold\n",
    "            training_fold, test_fold = training_sample_append(cv, fold)\n",
    "            y_hat[test_fold] = MLJ.predict(MLJ.fit!(machine_y, rows = training_fold), x[test_fold, :])\n",
    "            d_hat[test_fold] = MLJ.predict(MLJ.fit!(machine_d, rows = training_fold), x[test_fold, :])\n",
    "    end\n",
    "\n",
    "    resy = y .- y_hat\n",
    "    resd = reshape(d .- d_hat, (n, 1))\n",
    "    estimate = lm(resd, resy)\n",
    "    coef_est = GLM.coef(estimate)[1]\n",
    "    se = GLM.coeftable(estimate).cols[2][1]\n",
    "    println(\" coef (se) = \", coef_est ,\"(\",se,\")\")\n",
    "    return coef_est, se, resy, resd;\n",
    "end\n",
    "\n",
    "function summarize(point, stderr, resy, resd, name)\n",
    "    return DataFrame(\n",
    "            model = [name],\n",
    "            estimate = [point], stderr = [stderr], \n",
    "            rmse_y = [sqrt(mean(resy .^ 2))], \n",
    "            rmse_d = [sqrt(mean(resd .^ 2))]\n",
    "    )\n",
    "end"
   ]
  },
  {
   "cell_type": "code",
   "execution_count": 96,
   "metadata": {},
   "outputs": [
    {
     "name": "stderr",
     "output_type": "stream",
     "text": [
      "\u001b[36m\u001b[1m[ \u001b[22m\u001b[39m\u001b[36m\u001b[1mInfo: \u001b[22m\u001b[39mTraining machine(DeterministicPipeline(standardizer = Standardizer(features = Symbol[], …), …), …).\n",
      "\u001b[36m\u001b[1m[ \u001b[22m\u001b[39m\u001b[36m\u001b[1mInfo: \u001b[22m\u001b[39mTraining machine(:standardizer, …).\n",
      "\u001b[36m\u001b[1m[ \u001b[22m\u001b[39m\u001b[36m\u001b[1mInfo: \u001b[22m\u001b[39mTraining machine(:linear_regressor, …).\n",
      "\u001b[36m\u001b[1m[ \u001b[22m\u001b[39m\u001b[36m\u001b[1mInfo: \u001b[22m\u001b[39mTraining machine(DeterministicPipeline(standardizer = Standardizer(features = Symbol[], …), …), …).\n",
      "\u001b[36m\u001b[1m[ \u001b[22m\u001b[39m\u001b[36m\u001b[1mInfo: \u001b[22m\u001b[39mTraining machine(:standardizer, …).\n",
      "\u001b[36m\u001b[1m[ \u001b[22m\u001b[39m\u001b[36m\u001b[1mInfo: \u001b[22m\u001b[39mTraining machine(:linear_regressor, …).\n",
      "\u001b[36m\u001b[1m[ \u001b[22m\u001b[39m\u001b[36m\u001b[1mInfo: \u001b[22m\u001b[39mTraining machine(DeterministicPipeline(standardizer = Standardizer(features = Symbol[], …), …), …).\n",
      "\u001b[36m\u001b[1m[ \u001b[22m\u001b[39m\u001b[36m\u001b[1mInfo: \u001b[22m\u001b[39mTraining machine(:standardizer, …).\n",
      "\u001b[36m\u001b[1m[ \u001b[22m\u001b[39m\u001b[36m\u001b[1mInfo: \u001b[22m\u001b[39mTraining machine(:linear_regressor, …).\n",
      "\u001b[36m\u001b[1m[ \u001b[22m\u001b[39m\u001b[36m\u001b[1mInfo: \u001b[22m\u001b[39mTraining machine(DeterministicPipeline(standardizer = Standardizer(features = Symbol[], …), …), …).\n",
      "\u001b[36m\u001b[1m[ \u001b[22m\u001b[39m\u001b[36m\u001b[1mInfo: \u001b[22m\u001b[39mTraining machine(:standardizer, …).\n",
      "\u001b[36m\u001b[1m[ \u001b[22m\u001b[39m\u001b[36m\u001b[1mInfo: \u001b[22m\u001b[39mTraining machine(:linear_regressor, …).\n",
      "\u001b[36m\u001b[1m[ \u001b[22m\u001b[39m\u001b[36m\u001b[1mInfo: \u001b[22m\u001b[39mTraining machine(DeterministicPipeline(standardizer = Standardizer(features = Symbol[], …), …), …).\n",
      "\u001b[36m\u001b[1m[ \u001b[22m\u001b[39m\u001b[36m\u001b[1mInfo: \u001b[22m\u001b[39mTraining machine(:standardizer, …).\n",
      "\u001b[36m\u001b[1m[ \u001b[22m\u001b[39m\u001b[36m\u001b[1mInfo: \u001b[22m\u001b[39mTraining machine(:linear_regressor, …).\n",
      "\u001b[36m\u001b[1m[ \u001b[22m\u001b[39m\u001b[36m\u001b[1mInfo: \u001b[22m\u001b[39mTraining machine(DeterministicPipeline(standardizer = Standardizer(features = Symbol[], …), …), …).\n",
      "\u001b[36m\u001b[1m[ \u001b[22m\u001b[39m\u001b[36m\u001b[1mInfo: \u001b[22m\u001b[39mTraining machine(:standardizer, …).\n",
      "\u001b[36m\u001b[1m[ \u001b[22m\u001b[39m\u001b[36m\u001b[1mInfo: \u001b[22m\u001b[39mTraining machine(:linear_regressor, …).\n",
      "\u001b[36m\u001b[1m[ \u001b[22m\u001b[39m\u001b[36m\u001b[1mInfo: \u001b[22m\u001b[39mTraining machine(DeterministicPipeline(standardizer = Standardizer(features = Symbol[], …), …), …).\n",
      "\u001b[36m\u001b[1m[ \u001b[22m\u001b[39m\u001b[36m\u001b[1mInfo: \u001b[22m\u001b[39mTraining machine(:standardizer, …).\n",
      "\u001b[36m\u001b[1m[ \u001b[22m\u001b[39m\u001b[36m\u001b[1mInfo: \u001b[22m\u001b[39mTraining machine(:linear_regressor, …).\n",
      "\u001b[36m\u001b[1m[ \u001b[22m\u001b[39m\u001b[36m\u001b[1mInfo: \u001b[22m\u001b[39mTraining machine(DeterministicPipeline(standardizer = Standardizer(features = Symbol[], …), …), …).\n",
      "\u001b[36m\u001b[1m[ \u001b[22m\u001b[39m\u001b[36m\u001b[1mInfo: \u001b[22m\u001b[39mTraining machine(:standardizer, …).\n",
      "\u001b[36m\u001b[1m[ \u001b[22m\u001b[39m\u001b[36m\u001b[1mInfo: \u001b[22m\u001b[39mTraining machine(:linear_regressor, …).\n",
      "\u001b[36m\u001b[1m[ \u001b[22m\u001b[39m\u001b[36m\u001b[1mInfo: \u001b[22m\u001b[39mTraining machine(DeterministicPipeline(standardizer = Standardizer(features = Symbol[], …), …), …).\n",
      "\u001b[36m\u001b[1m[ \u001b[22m\u001b[39m\u001b[36m\u001b[1mInfo: \u001b[22m\u001b[39mTraining machine(:standardizer, …).\n",
      "\u001b[36m\u001b[1m[ \u001b[22m\u001b[39m\u001b[36m\u001b[1mInfo: \u001b[22m\u001b[39mTraining machine(:linear_regressor, …).\n",
      "\u001b[36m\u001b[1m[ \u001b[22m\u001b[39m\u001b[36m\u001b[1mInfo: \u001b[22m\u001b[39mTraining machine(DeterministicPipeline(standardizer = Standardizer(features = Symbol[], …), …), …).\n",
      "\u001b[36m\u001b[1m[ \u001b[22m\u001b[39m\u001b[36m\u001b[1mInfo: \u001b[22m\u001b[39mTraining machine(:standardizer, …).\n",
      "\u001b[36m\u001b[1m[ \u001b[22m\u001b[39m\u001b[36m\u001b[1mInfo: \u001b[22m\u001b[39mTraining machine(:linear_regressor, …).\n",
      "\u001b[36m\u001b[1m[ \u001b[22m\u001b[39m\u001b[36m\u001b[1mInfo: \u001b[22m\u001b[39mTraining machine(DeterministicPipeline(standardizer = Standardizer(features = Symbol[], …), …), …).\n",
      "\u001b[36m\u001b[1m[ \u001b[22m\u001b[39m\u001b[36m\u001b[1mInfo: \u001b[22m\u001b[39mTraining machine(:standardizer, …).\n",
      "\u001b[36m\u001b[1m[ \u001b[22m\u001b[39m\u001b[36m\u001b[1mInfo: \u001b[22m\u001b[39mTraining machine(:linear_regressor, …).\n",
      "\u001b[36m\u001b[1m[ \u001b[22m\u001b[39m\u001b[36m\u001b[1mInfo: \u001b[22m\u001b[39mTraining machine(DeterministicPipeline(standardizer = Standardizer(features = Symbol[], …), …), …).\n",
      "\u001b[36m\u001b[1m[ \u001b[22m\u001b[39m\u001b[36m\u001b[1mInfo: \u001b[22m\u001b[39mTraining machine(:standardizer, …).\n",
      "\u001b[36m\u001b[1m[ \u001b[22m\u001b[39m\u001b[36m\u001b[1mInfo: \u001b[22m\u001b[39mTraining machine(:linear_regressor, …).\n",
      "\u001b[36m\u001b[1m[ \u001b[22m\u001b[39m\u001b[36m\u001b[1mInfo: \u001b[22m\u001b[39mTraining machine(DeterministicPipeline(standardizer = Standardizer(features = Symbol[], …), …), …).\n",
      "\u001b[36m\u001b[1m[ \u001b[22m\u001b[39m\u001b[36m\u001b[1mInfo: \u001b[22m\u001b[39mTraining machine(:standardizer, …).\n",
      "\u001b[36m\u001b[1m[ \u001b[22m\u001b[39m\u001b[36m\u001b[1mInfo: \u001b[22m\u001b[39mTraining machine(:linear_regressor, …).\n",
      "\u001b[36m\u001b[1m[ \u001b[22m\u001b[39m\u001b[36m\u001b[1mInfo: \u001b[22m\u001b[39mTraining machine(DeterministicPipeline(standardizer = Standardizer(features = Symbol[], …), …), …).\n",
      "\u001b[36m\u001b[1m[ \u001b[22m\u001b[39m\u001b[36m\u001b[1mInfo: \u001b[22m\u001b[39mTraining machine(:standardizer, …).\n",
      "\u001b[36m\u001b[1m[ \u001b[22m\u001b[39m\u001b[36m\u001b[1mInfo: \u001b[22m\u001b[39mTraining machine(:linear_regressor, …).\n",
      "\u001b[36m\u001b[1m[ \u001b[22m\u001b[39m\u001b[36m\u001b[1mInfo: \u001b[22m\u001b[39mTraining machine(DeterministicPipeline(standardizer = Standardizer(features = Symbol[], …), …), …).\n",
      "\u001b[36m\u001b[1m[ \u001b[22m\u001b[39m\u001b[36m\u001b[1mInfo: \u001b[22m\u001b[39mTraining machine(:standardizer, …).\n",
      "\u001b[36m\u001b[1m[ \u001b[22m\u001b[39m\u001b[36m\u001b[1mInfo: \u001b[22m\u001b[39mTraining machine(:linear_regressor, …).\n",
      "\u001b[36m\u001b[1m[ \u001b[22m\u001b[39m\u001b[36m\u001b[1mInfo: \u001b[22m\u001b[39mTraining machine(DeterministicPipeline(standardizer = Standardizer(features = Symbol[], …), …), …).\n",
      "\u001b[36m\u001b[1m[ \u001b[22m\u001b[39m\u001b[36m\u001b[1mInfo: \u001b[22m\u001b[39mTraining machine(:standardizer, …).\n",
      "\u001b[36m\u001b[1m[ \u001b[22m\u001b[39m\u001b[36m\u001b[1mInfo: \u001b[22m\u001b[39mTraining machine(:linear_regressor, …).\n",
      "\u001b[36m\u001b[1m[ \u001b[22m\u001b[39m\u001b[36m\u001b[1mInfo: \u001b[22m\u001b[39mTraining machine(DeterministicPipeline(standardizer = Standardizer(features = Symbol[], …), …), …).\n",
      "\u001b[36m\u001b[1m[ \u001b[22m\u001b[39m\u001b[36m\u001b[1mInfo: \u001b[22m\u001b[39mTraining machine(:standardizer, …).\n",
      "\u001b[36m\u001b[1m[ \u001b[22m\u001b[39m\u001b[36m\u001b[1mInfo: \u001b[22m\u001b[39mTraining machine(:linear_regressor, …).\n",
      "\u001b[36m\u001b[1m[ \u001b[22m\u001b[39m\u001b[36m\u001b[1mInfo: \u001b[22m\u001b[39mTraining machine(DeterministicPipeline(standardizer = Standardizer(features = Symbol[], …), …), …).\n",
      "\u001b[36m\u001b[1m[ \u001b[22m\u001b[39m\u001b[36m\u001b[1mInfo: \u001b[22m\u001b[39mTraining machine(:standardizer, …).\n",
      "\u001b[36m\u001b[1m[ \u001b[22m\u001b[39m\u001b[36m\u001b[1mInfo: \u001b[22m\u001b[39mTraining machine(:linear_regressor, …).\n",
      "\u001b[36m\u001b[1m[ \u001b[22m\u001b[39m\u001b[36m\u001b[1mInfo: \u001b[22m\u001b[39mTraining machine(DeterministicPipeline(standardizer = Standardizer(features = Symbol[], …), …), …).\n",
      "\u001b[36m\u001b[1m[ \u001b[22m\u001b[39m\u001b[36m\u001b[1mInfo: \u001b[22m\u001b[39mTraining machine(:standardizer, …).\n",
      "\u001b[36m\u001b[1m[ \u001b[22m\u001b[39m\u001b[36m\u001b[1mInfo: \u001b[22m\u001b[39mTraining machine(:linear_regressor, …).\n",
      "\u001b[36m\u001b[1m[ \u001b[22m\u001b[39m\u001b[36m\u001b[1mInfo: \u001b[22m\u001b[39mTraining machine(DeterministicPipeline(standardizer = Standardizer(features = Symbol[], …), …), …).\n"
     ]
    },
    {
     "name": "stdout",
     "output_type": "stream",
     "text": [
      " coef (se) = -1.3169513987065712e-15"
     ]
    },
    {
     "name": "stderr",
     "output_type": "stream",
     "text": [
      "\u001b[36m\u001b[1m[ \u001b[22m\u001b[39m\u001b[36m\u001b[1mInfo: \u001b[22m\u001b[39mTraining machine(:standardizer, …).\n",
      "\u001b[36m\u001b[1m[ \u001b[22m\u001b[39m\u001b[36m\u001b[1mInfo: \u001b[22m\u001b[39mTraining machine(:linear_regressor, …).\n"
     ]
    },
    {
     "name": "stdout",
     "output_type": "stream",
     "text": [
      "(1.0676631473588983e-15)\n"
     ]
    },
    {
     "name": "stderr",
     "output_type": "stream",
     "text": [
      "\u001b[36m\u001b[1m[ \u001b[22m\u001b[39m\u001b[36m\u001b[1mInfo: \u001b[22m\u001b[39mTraining machine(DeterministicPipeline(standardizer = Standardizer(features = Symbol[], …), …), …).\n",
      "\u001b[36m\u001b[1m[ \u001b[22m\u001b[39m\u001b[36m\u001b[1mInfo: \u001b[22m\u001b[39mTraining machine(:standardizer, …).\n",
      "\u001b[36m\u001b[1m[ \u001b[22m\u001b[39m\u001b[36m\u001b[1mInfo: \u001b[22m\u001b[39mTraining machine(:lasso_cv_regressor, …).\n",
      "\u001b[36m\u001b[1m[ \u001b[22m\u001b[39m\u001b[36m\u001b[1mInfo: \u001b[22m\u001b[39mTraining machine(DeterministicPipeline(standardizer = Standardizer(features = Symbol[], …), …), …).\n",
      "\u001b[36m\u001b[1m[ \u001b[22m\u001b[39m\u001b[36m\u001b[1mInfo: \u001b[22m\u001b[39mTraining machine(:standardizer, …).\n",
      "\u001b[36m\u001b[1m[ \u001b[22m\u001b[39m\u001b[36m\u001b[1mInfo: \u001b[22m\u001b[39mTraining machine(:lasso_cv_regressor, …).\n",
      "\u001b[36m\u001b[1m[ \u001b[22m\u001b[39m\u001b[36m\u001b[1mInfo: \u001b[22m\u001b[39mTraining machine(DeterministicPipeline(standardizer = Standardizer(features = Symbol[], …), …), …).\n",
      "\u001b[36m\u001b[1m[ \u001b[22m\u001b[39m\u001b[36m\u001b[1mInfo: \u001b[22m\u001b[39mTraining machine(:standardizer, …).\n",
      "\u001b[36m\u001b[1m[ \u001b[22m\u001b[39m\u001b[36m\u001b[1mInfo: \u001b[22m\u001b[39mTraining machine(:lasso_cv_regressor, …).\n",
      "\u001b[36m\u001b[1m[ \u001b[22m\u001b[39m\u001b[36m\u001b[1mInfo: \u001b[22m\u001b[39mTraining machine(DeterministicPipeline(standardizer = Standardizer(features = Symbol[], …), …), …).\n",
      "\u001b[36m\u001b[1m[ \u001b[22m\u001b[39m\u001b[36m\u001b[1mInfo: \u001b[22m\u001b[39mTraining machine(:standardizer, …).\n",
      "\u001b[36m\u001b[1m[ \u001b[22m\u001b[39m\u001b[36m\u001b[1mInfo: \u001b[22m\u001b[39mTraining machine(:lasso_cv_regressor, …).\n",
      "\u001b[36m\u001b[1m[ \u001b[22m\u001b[39m\u001b[36m\u001b[1mInfo: \u001b[22m\u001b[39mTraining machine(DeterministicPipeline(standardizer = Standardizer(features = Symbol[], …), …), …).\n",
      "\u001b[36m\u001b[1m[ \u001b[22m\u001b[39m\u001b[36m\u001b[1mInfo: \u001b[22m\u001b[39mTraining machine(:standardizer, …).\n",
      "\u001b[36m\u001b[1m[ \u001b[22m\u001b[39m\u001b[36m\u001b[1mInfo: \u001b[22m\u001b[39mTraining machine(:lasso_cv_regressor, …).\n",
      "\u001b[36m\u001b[1m[ \u001b[22m\u001b[39m\u001b[36m\u001b[1mInfo: \u001b[22m\u001b[39mTraining machine(DeterministicPipeline(standardizer = Standardizer(features = Symbol[], …), …), …).\n",
      "\u001b[36m\u001b[1m[ \u001b[22m\u001b[39m\u001b[36m\u001b[1mInfo: \u001b[22m\u001b[39mTraining machine(:standardizer, …).\n",
      "\u001b[36m\u001b[1m[ \u001b[22m\u001b[39m\u001b[36m\u001b[1mInfo: \u001b[22m\u001b[39mTraining machine(:lasso_cv_regressor, …).\n",
      "\u001b[36m\u001b[1m[ \u001b[22m\u001b[39m\u001b[36m\u001b[1mInfo: \u001b[22m\u001b[39mTraining machine(DeterministicPipeline(standardizer = Standardizer(features = Symbol[], …), …), …).\n",
      "\u001b[36m\u001b[1m[ \u001b[22m\u001b[39m\u001b[36m\u001b[1mInfo: \u001b[22m\u001b[39mTraining machine(:standardizer, …).\n",
      "\u001b[36m\u001b[1m[ \u001b[22m\u001b[39m\u001b[36m\u001b[1mInfo: \u001b[22m\u001b[39mTraining machine(:lasso_cv_regressor, …).\n",
      "\u001b[36m\u001b[1m[ \u001b[22m\u001b[39m\u001b[36m\u001b[1mInfo: \u001b[22m\u001b[39mTraining machine(DeterministicPipeline(standardizer = Standardizer(features = Symbol[], …), …), …).\n",
      "\u001b[36m\u001b[1m[ \u001b[22m\u001b[39m\u001b[36m\u001b[1mInfo: \u001b[22m\u001b[39mTraining machine(:standardizer, …).\n",
      "\u001b[36m\u001b[1m[ \u001b[22m\u001b[39m\u001b[36m\u001b[1mInfo: \u001b[22m\u001b[39mTraining machine(:lasso_cv_regressor, …).\n",
      "\u001b[36m\u001b[1m[ \u001b[22m\u001b[39m\u001b[36m\u001b[1mInfo: \u001b[22m\u001b[39mTraining machine(DeterministicPipeline(standardizer = Standardizer(features = Symbol[], …), …), …).\n",
      "\u001b[36m\u001b[1m[ \u001b[22m\u001b[39m\u001b[36m\u001b[1mInfo: \u001b[22m\u001b[39mTraining machine(:standardizer, …).\n",
      "\u001b[36m\u001b[1m[ \u001b[22m\u001b[39m\u001b[36m\u001b[1mInfo: \u001b[22m\u001b[39mTraining machine(:lasso_cv_regressor, …).\n",
      "\u001b[36m\u001b[1m[ \u001b[22m\u001b[39m\u001b[36m\u001b[1mInfo: \u001b[22m\u001b[39mTraining machine(DeterministicPipeline(standardizer = Standardizer(features = Symbol[], …), …), …).\n",
      "\u001b[36m\u001b[1m[ \u001b[22m\u001b[39m\u001b[36m\u001b[1mInfo: \u001b[22m\u001b[39mTraining machine(:standardizer, …).\n",
      "\u001b[36m\u001b[1m[ \u001b[22m\u001b[39m\u001b[36m\u001b[1mInfo: \u001b[22m\u001b[39mTraining machine(:lasso_cv_regressor, …).\n",
      "\u001b[36m\u001b[1m[ \u001b[22m\u001b[39m\u001b[36m\u001b[1mInfo: \u001b[22m\u001b[39mTraining machine(DeterministicPipeline(standardizer = Standardizer(features = Symbol[], …), …), …).\n",
      "\u001b[36m\u001b[1m[ \u001b[22m\u001b[39m\u001b[36m\u001b[1mInfo: \u001b[22m\u001b[39mTraining machine(:standardizer, …).\n",
      "\u001b[36m\u001b[1m[ \u001b[22m\u001b[39m\u001b[36m\u001b[1mInfo: \u001b[22m\u001b[39mTraining machine(:lasso_cv_regressor, …).\n",
      "\u001b[36m\u001b[1m[ \u001b[22m\u001b[39m\u001b[36m\u001b[1mInfo: \u001b[22m\u001b[39mTraining machine(DeterministicPipeline(standardizer = Standardizer(features = Symbol[], …), …), …).\n",
      "\u001b[36m\u001b[1m[ \u001b[22m\u001b[39m\u001b[36m\u001b[1mInfo: \u001b[22m\u001b[39mTraining machine(:standardizer, …).\n",
      "\u001b[36m\u001b[1m[ \u001b[22m\u001b[39m\u001b[36m\u001b[1mInfo: \u001b[22m\u001b[39mTraining machine(:lasso_cv_regressor, …).\n",
      "\u001b[36m\u001b[1m[ \u001b[22m\u001b[39m\u001b[36m\u001b[1mInfo: \u001b[22m\u001b[39mTraining machine(DeterministicPipeline(standardizer = Standardizer(features = Symbol[], …), …), …).\n",
      "\u001b[36m\u001b[1m[ \u001b[22m\u001b[39m\u001b[36m\u001b[1mInfo: \u001b[22m\u001b[39mTraining machine(:standardizer, …).\n",
      "\u001b[36m\u001b[1m[ \u001b[22m\u001b[39m\u001b[36m\u001b[1mInfo: \u001b[22m\u001b[39mTraining machine(:lasso_cv_regressor, …).\n",
      "\u001b[36m\u001b[1m[ \u001b[22m\u001b[39m\u001b[36m\u001b[1mInfo: \u001b[22m\u001b[39mTraining machine(DeterministicPipeline(standardizer = Standardizer(features = Symbol[], …), …), …).\n",
      "\u001b[36m\u001b[1m[ \u001b[22m\u001b[39m\u001b[36m\u001b[1mInfo: \u001b[22m\u001b[39mTraining machine(:standardizer, …).\n",
      "\u001b[36m\u001b[1m[ \u001b[22m\u001b[39m\u001b[36m\u001b[1mInfo: \u001b[22m\u001b[39mTraining machine(:lasso_cv_regressor, …).\n",
      "\u001b[36m\u001b[1m[ \u001b[22m\u001b[39m\u001b[36m\u001b[1mInfo: \u001b[22m\u001b[39mTraining machine(DeterministicPipeline(standardizer = Standardizer(features = Symbol[], …), …), …).\n",
      "\u001b[36m\u001b[1m[ \u001b[22m\u001b[39m\u001b[36m\u001b[1mInfo: \u001b[22m\u001b[39mTraining machine(:standardizer, …).\n",
      "\u001b[36m\u001b[1m[ \u001b[22m\u001b[39m\u001b[36m\u001b[1mInfo: \u001b[22m\u001b[39mTraining machine(:lasso_cv_regressor, …).\n",
      "\u001b[36m\u001b[1m[ \u001b[22m\u001b[39m\u001b[36m\u001b[1mInfo: \u001b[22m\u001b[39mTraining machine(DeterministicPipeline(standardizer = Standardizer(features = Symbol[], …), …), …).\n",
      "\u001b[36m\u001b[1m[ \u001b[22m\u001b[39m\u001b[36m\u001b[1mInfo: \u001b[22m\u001b[39mTraining machine(:standardizer, …).\n",
      "\u001b[36m\u001b[1m[ \u001b[22m\u001b[39m\u001b[36m\u001b[1mInfo: \u001b[22m\u001b[39mTraining machine(:lasso_cv_regressor, …).\n",
      "\u001b[36m\u001b[1m[ \u001b[22m\u001b[39m\u001b[36m\u001b[1mInfo: \u001b[22m\u001b[39mTraining machine(DeterministicPipeline(standardizer = Standardizer(features = Symbol[], …), …), …).\n",
      "\u001b[36m\u001b[1m[ \u001b[22m\u001b[39m\u001b[36m\u001b[1mInfo: \u001b[22m\u001b[39mTraining machine(:standardizer, …).\n",
      "\u001b[36m\u001b[1m[ \u001b[22m\u001b[39m\u001b[36m\u001b[1mInfo: \u001b[22m\u001b[39mTraining machine(:lasso_cv_regressor, …).\n",
      "\u001b[36m\u001b[1m[ \u001b[22m\u001b[39m\u001b[36m\u001b[1mInfo: \u001b[22m\u001b[39mTraining machine(DeterministicPipeline(standardizer = Standardizer(features = Symbol[], …), …), …).\n",
      "\u001b[36m\u001b[1m[ \u001b[22m\u001b[39m\u001b[36m\u001b[1mInfo: \u001b[22m\u001b[39mTraining machine(:standardizer, …).\n",
      "\u001b[36m\u001b[1m[ \u001b[22m\u001b[39m\u001b[36m\u001b[1mInfo: \u001b[22m\u001b[39mTraining machine(:lasso_cv_regressor, …).\n",
      "\u001b[36m\u001b[1m[ \u001b[22m\u001b[39m\u001b[36m\u001b[1mInfo: \u001b[22m\u001b[39mTraining machine(DeterministicPipeline(standardizer = Standardizer(features = Symbol[], …), …), …).\n",
      "\u001b[36m\u001b[1m[ \u001b[22m\u001b[39m\u001b[36m\u001b[1mInfo: \u001b[22m\u001b[39mTraining machine(:standardizer, …).\n",
      "\u001b[36m\u001b[1m[ \u001b[22m\u001b[39m\u001b[36m\u001b[1mInfo: \u001b[22m\u001b[39mTraining machine(:lasso_cv_regressor, …).\n",
      "\u001b[36m\u001b[1m[ \u001b[22m\u001b[39m\u001b[36m\u001b[1mInfo: \u001b[22m\u001b[39mTraining machine(DeterministicPipeline(standardizer = Standardizer(features = Symbol[], …), …), …).\n",
      "\u001b[36m\u001b[1m[ \u001b[22m\u001b[39m\u001b[36m\u001b[1mInfo: \u001b[22m\u001b[39mTraining machine(:standardizer, …).\n",
      "\u001b[36m\u001b[1m[ \u001b[22m\u001b[39m\u001b[36m\u001b[1mInfo: \u001b[22m\u001b[39mTraining machine(:lasso_cv_regressor, …).\n"
     ]
    },
    {
     "name": "stdout",
     "output_type": "stream",
     "text": [
      " coef (se) = 2.7127351865314923e-5(0.0007697256409201347)\n"
     ]
    },
    {
     "name": "stderr",
     "output_type": "stream",
     "text": [
      "\u001b[36m\u001b[1m[ \u001b[22m\u001b[39m\u001b[36m\u001b[1mInfo: \u001b[22m\u001b[39mTraining machine(RandomForestRegressor(n_estimators = 100, …), …).\n",
      "\u001b[36m\u001b[1m[ \u001b[22m\u001b[39m\u001b[36m\u001b[1mInfo: \u001b[22m\u001b[39mTraining machine(RandomForestRegressor(n_estimators = 100, …), …).\n",
      "\u001b[36m\u001b[1m[ \u001b[22m\u001b[39m\u001b[36m\u001b[1mInfo: \u001b[22m\u001b[39mTraining machine(RandomForestRegressor(n_estimators = 100, …), …).\n",
      "\u001b[36m\u001b[1m[ \u001b[22m\u001b[39m\u001b[36m\u001b[1mInfo: \u001b[22m\u001b[39mTraining machine(RandomForestRegressor(n_estimators = 100, …), …).\n",
      "\u001b[36m\u001b[1m[ \u001b[22m\u001b[39m\u001b[36m\u001b[1mInfo: \u001b[22m\u001b[39mTraining machine(RandomForestRegressor(n_estimators = 100, …), …).\n",
      "\u001b[36m\u001b[1m[ \u001b[22m\u001b[39m\u001b[36m\u001b[1mInfo: \u001b[22m\u001b[39mTraining machine(RandomForestRegressor(n_estimators = 100, …), …).\n",
      "\u001b[36m\u001b[1m[ \u001b[22m\u001b[39m\u001b[36m\u001b[1mInfo: \u001b[22m\u001b[39mTraining machine(RandomForestRegressor(n_estimators = 100, …), …).\n",
      "\u001b[36m\u001b[1m[ \u001b[22m\u001b[39m\u001b[36m\u001b[1mInfo: \u001b[22m\u001b[39mTraining machine(RandomForestRegressor(n_estimators = 100, …), …).\n",
      "\u001b[36m\u001b[1m[ \u001b[22m\u001b[39m\u001b[36m\u001b[1mInfo: \u001b[22m\u001b[39mTraining machine(RandomForestRegressor(n_estimators = 100, …), …).\n",
      "\u001b[36m\u001b[1m[ \u001b[22m\u001b[39m\u001b[36m\u001b[1mInfo: \u001b[22m\u001b[39mTraining machine(RandomForestRegressor(n_estimators = 100, …), …).\n",
      "\u001b[36m\u001b[1m[ \u001b[22m\u001b[39m\u001b[36m\u001b[1mInfo: \u001b[22m\u001b[39mTraining machine(RandomForestRegressor(n_estimators = 100, …), …).\n",
      "\u001b[36m\u001b[1m[ \u001b[22m\u001b[39m\u001b[36m\u001b[1mInfo: \u001b[22m\u001b[39mTraining machine(RandomForestRegressor(n_estimators = 100, …), …).\n",
      "\u001b[36m\u001b[1m[ \u001b[22m\u001b[39m\u001b[36m\u001b[1mInfo: \u001b[22m\u001b[39mTraining machine(RandomForestRegressor(n_estimators = 100, …), …).\n",
      "\u001b[36m\u001b[1m[ \u001b[22m\u001b[39m\u001b[36m\u001b[1mInfo: \u001b[22m\u001b[39mTraining machine(RandomForestRegressor(n_estimators = 100, …), …).\n",
      "\u001b[36m\u001b[1m[ \u001b[22m\u001b[39m\u001b[36m\u001b[1mInfo: \u001b[22m\u001b[39mTraining machine(RandomForestRegressor(n_estimators = 100, …), …).\n",
      "\u001b[36m\u001b[1m[ \u001b[22m\u001b[39m\u001b[36m\u001b[1mInfo: \u001b[22m\u001b[39mTraining machine(RandomForestRegressor(n_estimators = 100, …), …).\n",
      "\u001b[36m\u001b[1m[ \u001b[22m\u001b[39m\u001b[36m\u001b[1mInfo: \u001b[22m\u001b[39mTraining machine(RandomForestRegressor(n_estimators = 100, …), …).\n",
      "\u001b[36m\u001b[1m[ \u001b[22m\u001b[39m\u001b[36m\u001b[1mInfo: \u001b[22m\u001b[39mTraining machine(RandomForestRegressor(n_estimators = 100, …), …).\n",
      "\u001b[36m\u001b[1m[ \u001b[22m\u001b[39m\u001b[36m\u001b[1mInfo: \u001b[22m\u001b[39mTraining machine(RandomForestRegressor(n_estimators = 100, …), …).\n",
      "\u001b[36m\u001b[1m[ \u001b[22m\u001b[39m\u001b[36m\u001b[1mInfo: \u001b[22m\u001b[39mTraining machine(RandomForestRegressor(n_estimators = 100, …), …).\n"
     ]
    },
    {
     "name": "stdout",
     "output_type": "stream",
     "text": [
      " coef (se) = 0.08908705216163758(0.02071794705999632)\n"
     ]
    },
    {
     "name": "stderr",
     "output_type": "stream",
     "text": [
      "\u001b[36m\u001b[1m[ \u001b[22m\u001b[39m\u001b[36m\u001b[1mInfo: \u001b[22m\u001b[39mTraining machine(RandomForestRegressor(n_estimators = 100, …), …).\n",
      "\u001b[36m\u001b[1m[ \u001b[22m\u001b[39m\u001b[36m\u001b[1mInfo: \u001b[22m\u001b[39mTraining machine(DeterministicPipeline(standardizer = Standardizer(features = Symbol[], …), …), …).\n",
      "\u001b[36m\u001b[1m[ \u001b[22m\u001b[39m\u001b[36m\u001b[1mInfo: \u001b[22m\u001b[39mTraining machine(:standardizer, …).\n",
      "\u001b[36m\u001b[1m[ \u001b[22m\u001b[39m\u001b[36m\u001b[1mInfo: \u001b[22m\u001b[39mTraining machine(:lasso_cv_regressor, …).\n",
      "\u001b[36m\u001b[1m[ \u001b[22m\u001b[39m\u001b[36m\u001b[1mInfo: \u001b[22m\u001b[39mTraining machine(RandomForestRegressor(n_estimators = 100, …), …).\n",
      "\u001b[36m\u001b[1m[ \u001b[22m\u001b[39m\u001b[36m\u001b[1mInfo: \u001b[22m\u001b[39mTraining machine(DeterministicPipeline(standardizer = Standardizer(features = Symbol[], …), …), …).\n",
      "\u001b[36m\u001b[1m[ \u001b[22m\u001b[39m\u001b[36m\u001b[1mInfo: \u001b[22m\u001b[39mTraining machine(:standardizer, …).\n",
      "\u001b[36m\u001b[1m[ \u001b[22m\u001b[39m\u001b[36m\u001b[1mInfo: \u001b[22m\u001b[39mTraining machine(:lasso_cv_regressor, …).\n",
      "\u001b[36m\u001b[1m[ \u001b[22m\u001b[39m\u001b[36m\u001b[1mInfo: \u001b[22m\u001b[39mTraining machine(RandomForestRegressor(n_estimators = 100, …), …).\n",
      "\u001b[36m\u001b[1m[ \u001b[22m\u001b[39m\u001b[36m\u001b[1mInfo: \u001b[22m\u001b[39mTraining machine(DeterministicPipeline(standardizer = Standardizer(features = Symbol[], …), …), …).\n",
      "\u001b[36m\u001b[1m[ \u001b[22m\u001b[39m\u001b[36m\u001b[1mInfo: \u001b[22m\u001b[39mTraining machine(:standardizer, …).\n",
      "\u001b[36m\u001b[1m[ \u001b[22m\u001b[39m\u001b[36m\u001b[1mInfo: \u001b[22m\u001b[39mTraining machine(:lasso_cv_regressor, …).\n",
      "\u001b[36m\u001b[1m[ \u001b[22m\u001b[39m\u001b[36m\u001b[1mInfo: \u001b[22m\u001b[39mTraining machine(RandomForestRegressor(n_estimators = 100, …), …).\n",
      "\u001b[36m\u001b[1m[ \u001b[22m\u001b[39m\u001b[36m\u001b[1mInfo: \u001b[22m\u001b[39mTraining machine(DeterministicPipeline(standardizer = Standardizer(features = Symbol[], …), …), …).\n",
      "\u001b[36m\u001b[1m[ \u001b[22m\u001b[39m\u001b[36m\u001b[1mInfo: \u001b[22m\u001b[39mTraining machine(:standardizer, …).\n",
      "\u001b[36m\u001b[1m[ \u001b[22m\u001b[39m\u001b[36m\u001b[1mInfo: \u001b[22m\u001b[39mTraining machine(:lasso_cv_regressor, …).\n",
      "\u001b[36m\u001b[1m[ \u001b[22m\u001b[39m\u001b[36m\u001b[1mInfo: \u001b[22m\u001b[39mTraining machine(RandomForestRegressor(n_estimators = 100, …), …).\n",
      "\u001b[36m\u001b[1m[ \u001b[22m\u001b[39m\u001b[36m\u001b[1mInfo: \u001b[22m\u001b[39mTraining machine(DeterministicPipeline(standardizer = Standardizer(features = Symbol[], …), …), …).\n",
      "\u001b[36m\u001b[1m[ \u001b[22m\u001b[39m\u001b[36m\u001b[1mInfo: \u001b[22m\u001b[39mTraining machine(:standardizer, …).\n",
      "\u001b[36m\u001b[1m[ \u001b[22m\u001b[39m\u001b[36m\u001b[1mInfo: \u001b[22m\u001b[39mTraining machine(:lasso_cv_regressor, …).\n",
      "\u001b[36m\u001b[1m[ \u001b[22m\u001b[39m\u001b[36m\u001b[1mInfo: \u001b[22m\u001b[39mTraining machine(RandomForestRegressor(n_estimators = 100, …), …).\n",
      "\u001b[36m\u001b[1m[ \u001b[22m\u001b[39m\u001b[36m\u001b[1mInfo: \u001b[22m\u001b[39mTraining machine(DeterministicPipeline(standardizer = Standardizer(features = Symbol[], …), …), …).\n",
      "\u001b[36m\u001b[1m[ \u001b[22m\u001b[39m\u001b[36m\u001b[1mInfo: \u001b[22m\u001b[39mTraining machine(:standardizer, …).\n",
      "\u001b[36m\u001b[1m[ \u001b[22m\u001b[39m\u001b[36m\u001b[1mInfo: \u001b[22m\u001b[39mTraining machine(:lasso_cv_regressor, …).\n",
      "\u001b[36m\u001b[1m[ \u001b[22m\u001b[39m\u001b[36m\u001b[1mInfo: \u001b[22m\u001b[39mTraining machine(RandomForestRegressor(n_estimators = 100, …), …).\n",
      "\u001b[36m\u001b[1m[ \u001b[22m\u001b[39m\u001b[36m\u001b[1mInfo: \u001b[22m\u001b[39mTraining machine(DeterministicPipeline(standardizer = Standardizer(features = Symbol[], …), …), …).\n",
      "\u001b[36m\u001b[1m[ \u001b[22m\u001b[39m\u001b[36m\u001b[1mInfo: \u001b[22m\u001b[39mTraining machine(:standardizer, …).\n",
      "\u001b[36m\u001b[1m[ \u001b[22m\u001b[39m\u001b[36m\u001b[1mInfo: \u001b[22m\u001b[39mTraining machine(:lasso_cv_regressor, …).\n",
      "\u001b[36m\u001b[1m[ \u001b[22m\u001b[39m\u001b[36m\u001b[1mInfo: \u001b[22m\u001b[39mTraining machine(RandomForestRegressor(n_estimators = 100, …), …).\n",
      "\u001b[36m\u001b[1m[ \u001b[22m\u001b[39m\u001b[36m\u001b[1mInfo: \u001b[22m\u001b[39mTraining machine(DeterministicPipeline(standardizer = Standardizer(features = Symbol[], …), …), …).\n",
      "\u001b[36m\u001b[1m[ \u001b[22m\u001b[39m\u001b[36m\u001b[1mInfo: \u001b[22m\u001b[39mTraining machine(:standardizer, …).\n",
      "\u001b[36m\u001b[1m[ \u001b[22m\u001b[39m\u001b[36m\u001b[1mInfo: \u001b[22m\u001b[39mTraining machine(:lasso_cv_regressor, …).\n",
      "\u001b[36m\u001b[1m[ \u001b[22m\u001b[39m\u001b[36m\u001b[1mInfo: \u001b[22m\u001b[39mTraining machine(RandomForestRegressor(n_estimators = 100, …), …).\n",
      "\u001b[36m\u001b[1m[ \u001b[22m\u001b[39m\u001b[36m\u001b[1mInfo: \u001b[22m\u001b[39mTraining machine(DeterministicPipeline(standardizer = Standardizer(features = Symbol[], …), …), …).\n",
      "\u001b[36m\u001b[1m[ \u001b[22m\u001b[39m\u001b[36m\u001b[1mInfo: \u001b[22m\u001b[39mTraining machine(:standardizer, …).\n",
      "\u001b[36m\u001b[1m[ \u001b[22m\u001b[39m\u001b[36m\u001b[1mInfo: \u001b[22m\u001b[39mTraining machine(:lasso_cv_regressor, …).\n",
      "\u001b[36m\u001b[1m[ \u001b[22m\u001b[39m\u001b[36m\u001b[1mInfo: \u001b[22m\u001b[39mTraining machine(RandomForestRegressor(n_estimators = 100, …), …).\n",
      "\u001b[36m\u001b[1m[ \u001b[22m\u001b[39m\u001b[36m\u001b[1mInfo: \u001b[22m\u001b[39mTraining machine(DeterministicPipeline(standardizer = Standardizer(features = Symbol[], …), …), …).\n",
      "\u001b[36m\u001b[1m[ \u001b[22m\u001b[39m\u001b[36m\u001b[1mInfo: \u001b[22m\u001b[39mTraining machine(:standardizer, …).\n",
      "\u001b[36m\u001b[1m[ \u001b[22m\u001b[39m\u001b[36m\u001b[1mInfo: \u001b[22m\u001b[39mTraining machine(:lasso_cv_regressor, …).\n"
     ]
    },
    {
     "name": "stdout",
     "output_type": "stream",
     "text": [
      " coef (se) = 0.20641800908835187(0.01788454879618417)\n"
     ]
    }
   ],
   "source": [
    "LinearRegressor = @load LinearRegressor pkg=MLJScikitLearnInterface verbosity=0\n",
    "dreg = Standardizer() |> LinearRegressor()\n",
    "yreg = Standardizer() |> LinearRegressor()\n",
    "result_ols = dml(x, d, y, dreg, yreg, 10);\n",
    "table_ols = summarize(result_ols..., \"OLS\")\n",
    "\n",
    "LassoCVRegressor = @load LassoCVRegressor pkg=MLJScikitLearnInterface verbosity=0\n",
    "dreg = Standardizer() |> LassoCVRegressor(max_iter=200000)\n",
    "yreg = Standardizer() |> LassoCVRegressor(max_iter=200000)\n",
    "results_lasso = dml(x, d, y, dreg, yreg, 10);\n",
    "table_lasso = summarize(results_lasso..., \"LassoCV\")\n",
    "\n",
    "RandomForestRegressor = @load RandomForestRegressor pkg=MLJScikitLearnInterface verbosity=0\n",
    "dreg = RandomForestRegressor()\n",
    "yreg = RandomForestRegressor()\n",
    "results_rf = dml(x, d, y, dreg, yreg, 10);\n",
    "table_rf = summarize(results_rf..., \"RF\");\n",
    "\n",
    "dreg = Standardizer() |> LassoCVRegressor(max_iter=200000)\n",
    "results_mix = dml(x, d, y, dreg , yreg, 10)\n",
    "table_mix = summarize(results_mix..., \"RF/LassoCV\");"
   ]
  },
  {
   "cell_type": "code",
   "execution_count": 97,
   "metadata": {},
   "outputs": [
    {
     "name": "stdout",
     "output_type": "stream",
     "text": [
      "┌────────────┬──────────────┬─────────────┬─────────────┬───────────┐\n",
      "│\u001b[1m      model \u001b[0m│\u001b[1m     estimate \u001b[0m│\u001b[1m      stderr \u001b[0m│\u001b[1m      rmse_y \u001b[0m│\u001b[1m    rmse_d \u001b[0m│\n",
      "│\u001b[90m     String \u001b[0m│\u001b[90m      Float64 \u001b[0m│\u001b[90m     Float64 \u001b[0m│\u001b[90m     Float64 \u001b[0m│\u001b[90m   Float64 \u001b[0m│\n",
      "├────────────┼──────────────┼─────────────┼─────────────┼───────────┤\n",
      "│        OLS │ -1.31695e-15 │ 1.06766e-15 │ 1.33962e-14 │ 0.0986487 │\n",
      "│    LassoCV │   2.71274e-5 │ 0.000769726 │  0.00967164 │ 0.0987935 │\n",
      "│         RF │    0.0890871 │   0.0207179 │    0.228781 │  0.086774 │\n",
      "│ RF/LassoCV │     0.206418 │   0.0178845 │    0.225644 │ 0.0987935 │\n",
      "└────────────┴──────────────┴─────────────┴─────────────┴───────────┘\n"
     ]
    }
   ],
   "source": [
    "pretty_table([table_ols; table_lasso; table_rf; table_mix])"
   ]
  },
  {
   "cell_type": "code",
   "execution_count": null,
   "metadata": {},
   "outputs": [],
   "source": [
    "Aplicando el método de double debiased machine learning podemos encontrar un efecto positivo robusto (en términos de menor desviaciación estándar) por parte del programa de apoyo laboral. "
   ]
  }
 ],
 "metadata": {
  "kernelspec": {
   "display_name": "Julia 1.10.4",
   "language": "julia",
   "name": "julia-1.10"
  },
  "language_info": {
   "file_extension": ".jl",
   "mimetype": "application/julia",
   "name": "julia",
   "version": "1.10.4"
  }
 },
 "nbformat": 4,
 "nbformat_minor": 2
}
