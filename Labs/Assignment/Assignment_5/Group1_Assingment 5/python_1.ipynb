{
 "cells": [
  {
   "cell_type": "markdown",
   "metadata": {},
   "source": [
    "## Assignment 5\n",
    "\n",
    "* DEL CARPIO CUENCA, GABRIEL SEBASTIAN\n",
    "* ESPINOSA CALDERON, MAURICIO GUSTAVO\n",
    "* JAIME MARTINEZ, KEVIN OSWALDO\n",
    "* MELLIZO ANTAZU, MILAGROS ESTEFANY\n",
    "* QUISPE ROBLADILLO, ALMENDRA VALERIA"
   ]
  },
  {
   "cell_type": "markdown",
   "metadata": {},
   "source": [
    "### Part 1: Heterogeneous treatment effects using causal trees and forests\n",
    "\n",
    "For this part, we will be using experimental data for computing heterogeneous effects through causal trees and forests. For all exercises, the predictors $ X $ are all variables that are not the outcome $Y$ or the treatment \n",
    "$ D$."
   ]
  },
  {
   "cell_type": "code",
   "execution_count": 21,
   "metadata": {},
   "outputs": [],
   "source": [
    "#!pip install multiprocess"
   ]
  },
  {
   "cell_type": "code",
   "execution_count": 22,
   "metadata": {},
   "outputs": [
    {
     "name": "stderr",
     "output_type": "stream",
     "text": [
      "fatal: destination path 'hdmpy' already exists and is not an empty directory.\n"
     ]
    }
   ],
   "source": [
    "!git clone https://github.com/maxhuppertz/hdmpy.git"
   ]
  },
  {
   "cell_type": "code",
   "execution_count": 23,
   "metadata": {},
   "outputs": [],
   "source": [
    "# !pip install econml"
   ]
  },
  {
   "cell_type": "code",
   "execution_count": 24,
   "metadata": {},
   "outputs": [],
   "source": [
    "import matplotlib.pyplot as plt\n",
    "import seaborn as sns\n",
    "import pandas as pd\n",
    "import numpy as np\n",
    "import hdmpy\n",
    "import patsy\n",
    "\n",
    "from sklearn.linear_model import LassoCV, RidgeCV, ElasticNetCV, LinearRegression, Ridge, Lasso, LogisticRegressionCV, LogisticRegression\n",
    "from sklearn.model_selection import cross_val_score, cross_val_predict, KFold, train_test_split\n",
    "\n",
    "from sklearn.ensemble import RandomForestRegressor, RandomForestClassifier\n",
    "\n",
    "from sklearn.preprocessing import StandardScaler\n",
    "from sklearn.pipeline import make_pipeline\n",
    "from sklearn.base import BaseEstimator, clone\n",
    "\n",
    "from econml.cate_interpreter import SingleTreeCateInterpreter\n",
    "from econml.dml import CausalForestDML\n",
    "\n",
    "import statsmodels.api as sm\n",
    "import statsmodels.formula.api as smf\n",
    "\n",
    "import warnings\n",
    "warnings.simplefilter('ignore')\n",
    "np.random.seed(123) "
   ]
  },
  {
   "cell_type": "markdown",
   "metadata": {},
   "source": [
    "1.1. Load the data (1 points)."
   ]
  },
  {
   "cell_type": "code",
   "execution_count": 25,
   "metadata": {},
   "outputs": [
    {
     "data": {
      "text/html": [
       "<div>\n",
       "<style scoped>\n",
       "    .dataframe tbody tr th:only-of-type {\n",
       "        vertical-align: middle;\n",
       "    }\n",
       "\n",
       "    .dataframe tbody tr th {\n",
       "        vertical-align: top;\n",
       "    }\n",
       "\n",
       "    .dataframe thead th {\n",
       "        text-align: right;\n",
       "    }\n",
       "</style>\n",
       "<table border=\"1\" class=\"dataframe\">\n",
       "  <thead>\n",
       "    <tr style=\"text-align: right;\">\n",
       "      <th></th>\n",
       "      <th>treat</th>\n",
       "      <th>age</th>\n",
       "      <th>educ</th>\n",
       "      <th>black</th>\n",
       "      <th>hisp</th>\n",
       "      <th>marr</th>\n",
       "      <th>nodegree</th>\n",
       "      <th>re74</th>\n",
       "      <th>re75</th>\n",
       "      <th>re78</th>\n",
       "    </tr>\n",
       "  </thead>\n",
       "  <tbody>\n",
       "    <tr>\n",
       "      <th>0</th>\n",
       "      <td>1</td>\n",
       "      <td>37</td>\n",
       "      <td>11</td>\n",
       "      <td>1</td>\n",
       "      <td>0</td>\n",
       "      <td>1</td>\n",
       "      <td>1</td>\n",
       "      <td>0.000000</td>\n",
       "      <td>0.000000</td>\n",
       "      <td>9930.045898</td>\n",
       "    </tr>\n",
       "    <tr>\n",
       "      <th>1</th>\n",
       "      <td>1</td>\n",
       "      <td>22</td>\n",
       "      <td>9</td>\n",
       "      <td>0</td>\n",
       "      <td>1</td>\n",
       "      <td>0</td>\n",
       "      <td>1</td>\n",
       "      <td>0.000000</td>\n",
       "      <td>0.000000</td>\n",
       "      <td>3595.894043</td>\n",
       "    </tr>\n",
       "    <tr>\n",
       "      <th>2</th>\n",
       "      <td>1</td>\n",
       "      <td>30</td>\n",
       "      <td>12</td>\n",
       "      <td>1</td>\n",
       "      <td>0</td>\n",
       "      <td>0</td>\n",
       "      <td>0</td>\n",
       "      <td>0.000000</td>\n",
       "      <td>0.000000</td>\n",
       "      <td>24909.449219</td>\n",
       "    </tr>\n",
       "    <tr>\n",
       "      <th>3</th>\n",
       "      <td>1</td>\n",
       "      <td>27</td>\n",
       "      <td>11</td>\n",
       "      <td>1</td>\n",
       "      <td>0</td>\n",
       "      <td>0</td>\n",
       "      <td>1</td>\n",
       "      <td>0.000000</td>\n",
       "      <td>0.000000</td>\n",
       "      <td>7506.145996</td>\n",
       "    </tr>\n",
       "    <tr>\n",
       "      <th>4</th>\n",
       "      <td>1</td>\n",
       "      <td>33</td>\n",
       "      <td>8</td>\n",
       "      <td>1</td>\n",
       "      <td>0</td>\n",
       "      <td>0</td>\n",
       "      <td>1</td>\n",
       "      <td>0.000000</td>\n",
       "      <td>0.000000</td>\n",
       "      <td>289.789886</td>\n",
       "    </tr>\n",
       "    <tr>\n",
       "      <th>...</th>\n",
       "      <td>...</td>\n",
       "      <td>...</td>\n",
       "      <td>...</td>\n",
       "      <td>...</td>\n",
       "      <td>...</td>\n",
       "      <td>...</td>\n",
       "      <td>...</td>\n",
       "      <td>...</td>\n",
       "      <td>...</td>\n",
       "      <td>...</td>\n",
       "    </tr>\n",
       "    <tr>\n",
       "      <th>440</th>\n",
       "      <td>0</td>\n",
       "      <td>21</td>\n",
       "      <td>9</td>\n",
       "      <td>1</td>\n",
       "      <td>0</td>\n",
       "      <td>0</td>\n",
       "      <td>1</td>\n",
       "      <td>31886.429688</td>\n",
       "      <td>12357.219727</td>\n",
       "      <td>0.000000</td>\n",
       "    </tr>\n",
       "    <tr>\n",
       "      <th>441</th>\n",
       "      <td>0</td>\n",
       "      <td>28</td>\n",
       "      <td>11</td>\n",
       "      <td>1</td>\n",
       "      <td>0</td>\n",
       "      <td>0</td>\n",
       "      <td>1</td>\n",
       "      <td>17491.449219</td>\n",
       "      <td>13371.250000</td>\n",
       "      <td>0.000000</td>\n",
       "    </tr>\n",
       "    <tr>\n",
       "      <th>442</th>\n",
       "      <td>0</td>\n",
       "      <td>29</td>\n",
       "      <td>9</td>\n",
       "      <td>0</td>\n",
       "      <td>1</td>\n",
       "      <td>0</td>\n",
       "      <td>1</td>\n",
       "      <td>9594.307617</td>\n",
       "      <td>16341.160156</td>\n",
       "      <td>16900.300781</td>\n",
       "    </tr>\n",
       "    <tr>\n",
       "      <th>443</th>\n",
       "      <td>0</td>\n",
       "      <td>25</td>\n",
       "      <td>9</td>\n",
       "      <td>1</td>\n",
       "      <td>0</td>\n",
       "      <td>1</td>\n",
       "      <td>1</td>\n",
       "      <td>24731.619141</td>\n",
       "      <td>16946.630859</td>\n",
       "      <td>7343.963867</td>\n",
       "    </tr>\n",
       "    <tr>\n",
       "      <th>444</th>\n",
       "      <td>0</td>\n",
       "      <td>22</td>\n",
       "      <td>10</td>\n",
       "      <td>0</td>\n",
       "      <td>0</td>\n",
       "      <td>1</td>\n",
       "      <td>1</td>\n",
       "      <td>25720.919922</td>\n",
       "      <td>23031.980469</td>\n",
       "      <td>5448.800781</td>\n",
       "    </tr>\n",
       "  </tbody>\n",
       "</table>\n",
       "<p>445 rows × 10 columns</p>\n",
       "</div>"
      ],
      "text/plain": [
       "     treat  age  educ  black  hisp  marr  nodegree          re74  \\\n",
       "0        1   37    11      1     0     1         1      0.000000   \n",
       "1        1   22     9      0     1     0         1      0.000000   \n",
       "2        1   30    12      1     0     0         0      0.000000   \n",
       "3        1   27    11      1     0     0         1      0.000000   \n",
       "4        1   33     8      1     0     0         1      0.000000   \n",
       "..     ...  ...   ...    ...   ...   ...       ...           ...   \n",
       "440      0   21     9      1     0     0         1  31886.429688   \n",
       "441      0   28    11      1     0     0         1  17491.449219   \n",
       "442      0   29     9      0     1     0         1   9594.307617   \n",
       "443      0   25     9      1     0     1         1  24731.619141   \n",
       "444      0   22    10      0     0     1         1  25720.919922   \n",
       "\n",
       "             re75          re78  \n",
       "0        0.000000   9930.045898  \n",
       "1        0.000000   3595.894043  \n",
       "2        0.000000  24909.449219  \n",
       "3        0.000000   7506.145996  \n",
       "4        0.000000    289.789886  \n",
       "..            ...           ...  \n",
       "440  12357.219727      0.000000  \n",
       "441  13371.250000      0.000000  \n",
       "442  16341.160156  16900.300781  \n",
       "443  16946.630859   7343.963867  \n",
       "444  23031.980469   5448.800781  \n",
       "\n",
       "[445 rows x 10 columns]"
      ]
     },
     "execution_count": 25,
     "metadata": {},
     "output_type": "execute_result"
    }
   ],
   "source": [
    "data_part1 = pd.read_csv('../data/experimental/experimental_control.csv')\n",
    "data_part1"
   ]
  },
  {
   "cell_type": "code",
   "execution_count": 26,
   "metadata": {},
   "outputs": [
    {
     "data": {
      "text/plain": [
       "['treat',\n",
       " 'age',\n",
       " 'educ',\n",
       " 'black',\n",
       " 'hisp',\n",
       " 'marr',\n",
       " 'nodegree',\n",
       " 're74',\n",
       " 're75',\n",
       " 're78']"
      ]
     },
     "execution_count": 26,
     "metadata": {},
     "output_type": "execute_result"
    }
   ],
   "source": [
    "list(data_part1.columns)"
   ]
  },
  {
   "cell_type": "code",
   "execution_count": 27,
   "metadata": {},
   "outputs": [
    {
     "name": "stdout",
     "output_type": "stream",
     "text": [
      "treat       0\n",
      "age         0\n",
      "educ        0\n",
      "black       0\n",
      "hisp        0\n",
      "marr        0\n",
      "nodegree    0\n",
      "re74        0\n",
      "re75        0\n",
      "re78        0\n",
      "dtype: int64\n"
     ]
    }
   ],
   "source": [
    "print(data_part1.isnull().sum())\n",
    "# NO hay missings, pero si hay valores como 0"
   ]
  },
  {
   "cell_type": "code",
   "execution_count": 28,
   "metadata": {},
   "outputs": [
    {
     "data": {
      "text/plain": [
       "treat\n",
       "0    260\n",
       "1    185\n",
       "Name: count, dtype: int64"
      ]
     },
     "execution_count": 28,
     "metadata": {},
     "output_type": "execute_result"
    }
   ],
   "source": [
    "data_part1[\"treat\"].value_counts()\n",
    "# We have 185 treated y 260 controls"
   ]
  },
  {
   "cell_type": "code",
   "execution_count": 29,
   "metadata": {},
   "outputs": [
    {
     "name": "stdout",
     "output_type": "stream",
     "text": [
      "\n",
      "Grupo control (treat=0):\n",
      "            black        marr    nodegree\n",
      "mean     0.826923    0.153846    0.834615\n",
      "sum    215.000000   40.000000  217.000000\n",
      "count  260.000000  260.000000  260.000000\n",
      "\n",
      "Grupo tratado (treat=1):\n",
      "            black        marr    nodegree\n",
      "mean     0.843243    0.189189    0.708108\n",
      "sum    156.000000   35.000000  131.000000\n",
      "count  185.000000  185.000000  185.000000\n"
     ]
    }
   ],
   "source": [
    "# Variables: black, marr, nodegree\n",
    "variables = ['black', 'marr', 'nodegree']\n",
    "\n",
    "# Summary stats para cada grupo\n",
    "for group in [0, 1]:\n",
    "    stats = data_part1[data_part1['treat'] == group][variables].agg(['mean', 'sum', 'count'])\n",
    "    if group == 1:\n",
    "        print(\"\\nGrupo tratado (treat=1):\")\n",
    "    else:\n",
    "        print(\"\\nGrupo control (treat=0):\")\n",
    "    print(stats)"
   ]
  },
  {
   "cell_type": "code",
   "execution_count": 30,
   "metadata": {},
   "outputs": [
    {
     "name": "stdout",
     "output_type": "stream",
     "text": [
      "People with 'black' in the control group is 82.69%\n",
      "People with 'marr' in the control group is 15.38%\n",
      "People with 'nodegree' in the control group is 83.46%\n",
      "People with 'black' in the control group is 84.32%\n",
      "People with 'marr' in the control group is 18.92%\n",
      "People with 'nodegree' in the control group is 70.81%\n"
     ]
    }
   ],
   "source": [
    "# Control\n",
    "for var in variables:\n",
    "    mean_value = data_part1[data_part1['treat'] == 0][var].mean()\n",
    "    print(f\"People with '{var}' in the control group is {mean_value:.2%}\")\n",
    "\n",
    "# Treated\n",
    "for var in variables:\n",
    "    mean_value = data_part1[data_part1['treat'] == 1][var].mean()\n",
    "    print(f\"People with '{var}' in the control group is {mean_value:.2%}\")\n",
    "\n",
    "# As can be seen, there are no noticeable differences between the control group and the treated group. "
   ]
  },
  {
   "cell_type": "markdown",
   "metadata": {},
   "source": [
    "1.2. Find the ATE (1.5 points). With re78 as the outcome variable of interest, find the Average Treatment Effect of participation in the program. Specifically, you should find it by calculating the difference between the means of the treatment group and the control group (the Simple Difference of Means or SDM). What can you say about the program?"
   ]
  },
  {
   "cell_type": "code",
   "execution_count": 31,
   "metadata": {},
   "outputs": [],
   "source": [
    "y = data_part1[\"re78\"] # outcome variable of interest\n",
    "d = data_part1[\"treat\"] #In the National Supported Work Demonstration Job Training Program\n",
    "X = data_part1[data_part1.columns[~data_part1.columns.isin(['treat','re78'])]]"
   ]
  },
  {
   "cell_type": "code",
   "execution_count": 32,
   "metadata": {},
   "outputs": [
    {
     "data": {
      "text/html": [
       "<table class=\"simpletable\">\n",
       "<tr>\n",
       "      <td></td>         <th>coef</th>     <th>std err</th>      <th>t</th>      <th>P>|t|</th>  <th>[0.025</th>    <th>0.975]</th>  \n",
       "</tr>\n",
       "<tr>\n",
       "  <th>Intercept</th> <td> 4554.8011</td> <td>  408.046</td> <td>   11.162</td> <td> 0.000</td> <td> 3752.855</td> <td> 5356.747</td>\n",
       "</tr>\n",
       "<tr>\n",
       "  <th>d</th>         <td> 1794.3424</td> <td>  632.853</td> <td>    2.835</td> <td> 0.005</td> <td>  550.574</td> <td> 3038.110</td>\n",
       "</tr>\n",
       "</table>"
      ],
      "text/latex": [
       "\\begin{center}\n",
       "\\begin{tabular}{lcccccc}\n",
       "\\toprule\n",
       "                   & \\textbf{coef} & \\textbf{std err} & \\textbf{t} & \\textbf{P$> |$t$|$} & \\textbf{[0.025} & \\textbf{0.975]}  \\\\\n",
       "\\midrule\n",
       "\\textbf{Intercept} &    4554.8011  &      408.046     &    11.162  &         0.000        &     3752.855    &     5356.747     \\\\\n",
       "\\textbf{d}         &    1794.3424  &      632.853     &     2.835  &         0.005        &      550.574    &     3038.110     \\\\\n",
       "\\bottomrule\n",
       "\\end{tabular}\n",
       "\\end{center}"
      ],
      "text/plain": [
       "<class 'statsmodels.iolib.table.SimpleTable'>"
      ]
     },
     "execution_count": 32,
     "metadata": {},
     "output_type": "execute_result"
    }
   ],
   "source": [
    "smf.ols('y ~ d', data_part1).fit().summary().tables[1]"
   ]
  },
  {
   "cell_type": "markdown",
   "metadata": {},
   "source": [
    "The treatment has an average effect of : 1794.34"
   ]
  },
  {
   "cell_type": "code",
   "execution_count": 33,
   "metadata": {},
   "outputs": [
    {
     "name": "stdout",
     "output_type": "stream",
     "text": [
      "Mean re78 for the treated group: 6349.14\n",
      "Mean re78 for the control group: 4554.80\n",
      "Average Treatment Effect (ATE): 1794.34\n"
     ]
    }
   ],
   "source": [
    "# OTHER WAY TO CALCULATE THE ATE\n",
    "# OJO: re78 = Real earnings 1978 (in thousands of dollars)\n",
    "# TREATMENT\n",
    "mean_treated = data_part1[data_part1[\"treat\"] == 1][\"re78\"].mean()\n",
    "\n",
    "# CONTROL\n",
    "mean_control = data_part1[data_part1[\"treat\"] == 0][\"re78\"].mean()\n",
    "\n",
    "# ATE: \n",
    "ate = mean_treated - mean_control\n",
    "\n",
    "print(f\"Mean re78 for the treated group: {mean_treated:.2f}\")\n",
    "print(f\"Mean re78 for the control group: {mean_control:.2f}\")\n",
    "print(f\"Average Treatment Effect (ATE): {ate:.2f}\")\n",
    "\n",
    "# OJO: its the same result "
   ]
  },
  {
   "cell_type": "markdown",
   "metadata": {},
   "source": [
    "1.3. Heterogeneous effects with causal trees (3 points). Use causal trees like we saw in class. For Python, you should use the econml package; for R, use the grf package; and for Julia, you will need to create the auxiliary variable \n",
    "Y\n",
    "∗\n",
    " and fit a decision tree regressor. Report the splits the tree finds and interpret them."
   ]
  },
  {
   "cell_type": "markdown",
   "metadata": {},
   "source": [
    "OJO: we had defined the variables before in 1.2\n",
    "\n",
    "y = re78 , outcome variable of interest\n",
    "\n",
    "d = treat , In the National Supported Work Demonstration Job Training Program\n",
    "\n",
    "X = variables"
   ]
  },
  {
   "cell_type": "code",
   "execution_count": 34,
   "metadata": {},
   "outputs": [],
   "source": [
    "# CAUSAL TREE\n",
    "np.random.seed(0)\n",
    "tree_model = CausalForestDML(n_estimators=1, subforest_size=1, inference=False, max_depth=3)\n",
    "tree_model = tree_model.fit(Y=data_part1['re78'], X=X, T=data_part1['treat'])"
   ]
  },
  {
   "cell_type": "code",
   "execution_count": 35,
   "metadata": {},
   "outputs": [
    {
     "data": {
      "image/png": "[encoded data removed]",
      "text/plain": [
       "<Figure size 1200x800 with 1 Axes>"
      ]
     },
     "metadata": {},
     "output_type": "display_data"
    }
   ],
   "source": [
    "# Graphic\n",
    "intrp = SingleTreeCateInterpreter(max_depth=2).interpret(tree_model, X)\n",
    "plt.figure(figsize=(12, 8))\n",
    "intrp.plot(feature_names=X.columns.tolist(), fontsize=12)\n",
    "plt.show()"
   ]
  },
  {
   "cell_type": "markdown",
   "metadata": {},
   "source": [
    "The generated tree identifies splits in the data based on the variables `black`, `age` and `educ`, showing how the average treatment effect (CATE) varies between subgroups. At the root node, the full sample of 445 observations is split based on whether `black <= 0.5`, with an mean CATE of 1697.45. \n",
    "\n",
    "For the group with `black <= 0.5`, the next division occurs according to whether `age <= -0.546`, resulting in a subgroup of 31 observations with a high average effect (CATE mean = 1.703) and another of 43 observations with a effect close to zero (CATE mean = -0.01). On the other hand, for individuals with `black > 0.5`, the division is based on whether `educ <= 1.287`, generating a majority group of 352 observations with a moderate effect (CATE mean = 0.128) and another small one of 19 observations with a considerably high effect (CATE mean = 0.986). These divisions highlight the heterogeneity of the treatment effect, influenced primarily by demographic and educational characteristics."
   ]
  },
  {
   "cell_type": "markdown",
   "metadata": {},
   "source": [
    "1.4. Heterogeneous effects with causal forests (3 points). Use causal forests like we saw in class. For Python, you should use the econml package; for R, use the grf package; and for Julia, you will need to use the auxiliary variable \n",
    "Y\n",
    "∗\n",
    " computed in the previous exercise and fit a random forest regressor. Report the importance of the prediction variables."
   ]
  },
  {
   "cell_type": "code",
   "execution_count": 36,
   "metadata": {},
   "outputs": [],
   "source": [
    "# FOREST CAUSAL\n",
    "np.random.seed(1)\n",
    "forest_model = CausalForestDML(max_depth=3)\n",
    "forest_model = forest_model.fit(Y=y,X=X,T=d)"
   ]
  },
  {
   "cell_type": "code",
   "execution_count": 37,
   "metadata": {},
   "outputs": [
    {
     "data": {
      "image/png": "[encoded data removed]",
      "text/plain": [
       "<Figure size 1200x800 with 1 Axes>"
      ]
     },
     "metadata": {},
     "output_type": "display_data"
    }
   ],
   "source": [
    "# Graphic\n",
    "intrp = SingleTreeCateInterpreter(max_depth=2).interpret(forest_model, X)\n",
    "\n",
    "plt.figure(figsize=(12, 8))\n",
    "intrp.plot(feature_names=X.columns.tolist(), fontsize=12)\n",
    "plt.show()"
   ]
  },
  {
   "cell_type": "markdown",
   "metadata": {},
   "source": [
    "The tree identifies splits in the data based on the characteristics `age`, `black` and `re74`, showing how the average treatment effect (CATE) varies between subgroups. The root splits the data based on whether `age <= -0.123`, with an average CATE of 0.257. For individuals with `age <= -0.123`, the next division occurs according to whether `black <= -0.5`, generating a subgroup with a smaller effect (CATE mean = 0.093) and another with a slightly larger effect (CATE mean = 0.202 ). For those with `age > -0.123`, the split is based on whether `re74 <= 0.068`, identifying a subgroup with a larger effect (CATE mean = 0.365) and another with a smaller effect (CATE mean = 0.208). These divisions reflect how demographic and occupational variables influence treatment response, highlighting greater heterogeneity in groups defined by age and employment history (`re74`)."
   ]
  },
  {
   "cell_type": "code",
   "execution_count": 38,
   "metadata": {},
   "outputs": [
    {
     "data": {
      "text/html": [
       "<div>\n",
       "<style scoped>\n",
       "    .dataframe tbody tr th:only-of-type {\n",
       "        vertical-align: middle;\n",
       "    }\n",
       "\n",
       "    .dataframe tbody tr th {\n",
       "        vertical-align: top;\n",
       "    }\n",
       "\n",
       "    .dataframe thead th {\n",
       "        text-align: right;\n",
       "    }\n",
       "</style>\n",
       "<table border=\"1\" class=\"dataframe\">\n",
       "  <thead>\n",
       "    <tr style=\"text-align: right;\">\n",
       "      <th></th>\n",
       "      <th>variable</th>\n",
       "      <th>importance</th>\n",
       "    </tr>\n",
       "  </thead>\n",
       "  <tbody>\n",
       "    <tr>\n",
       "      <th>0</th>\n",
       "      <td>age</td>\n",
       "      <td>0.262397</td>\n",
       "    </tr>\n",
       "    <tr>\n",
       "      <th>1</th>\n",
       "      <td>educ</td>\n",
       "      <td>0.175974</td>\n",
       "    </tr>\n",
       "    <tr>\n",
       "      <th>2</th>\n",
       "      <td>black</td>\n",
       "      <td>0.102413</td>\n",
       "    </tr>\n",
       "    <tr>\n",
       "      <th>3</th>\n",
       "      <td>hisp</td>\n",
       "      <td>0.022443</td>\n",
       "    </tr>\n",
       "    <tr>\n",
       "      <th>4</th>\n",
       "      <td>marr</td>\n",
       "      <td>0.019011</td>\n",
       "    </tr>\n",
       "    <tr>\n",
       "      <th>5</th>\n",
       "      <td>nodegree</td>\n",
       "      <td>0.020481</td>\n",
       "    </tr>\n",
       "    <tr>\n",
       "      <th>6</th>\n",
       "      <td>re74</td>\n",
       "      <td>0.183396</td>\n",
       "    </tr>\n",
       "    <tr>\n",
       "      <th>7</th>\n",
       "      <td>re75</td>\n",
       "      <td>0.213885</td>\n",
       "    </tr>\n",
       "  </tbody>\n",
       "</table>\n",
       "</div>"
      ],
      "text/plain": [
       "   variable  importance\n",
       "0       age    0.262397\n",
       "1      educ    0.175974\n",
       "2     black    0.102413\n",
       "3      hisp    0.022443\n",
       "4      marr    0.019011\n",
       "5  nodegree    0.020481\n",
       "6      re74    0.183396\n",
       "7      re75    0.213885"
      ]
     },
     "execution_count": 38,
     "metadata": {},
     "output_type": "execute_result"
    }
   ],
   "source": [
    "# Relevance of the variables: \n",
    "pd.DataFrame({\"variable\": X.columns.tolist(), \"importance\": forest_model.feature_importances()})"
   ]
  },
  {
   "cell_type": "code",
   "execution_count": 39,
   "metadata": {},
   "outputs": [
    {
     "data": {
      "image/png": "[encoded data removed]",
      "text/plain": [
       "<Figure size 1000x600 with 1 Axes>"
      ]
     },
     "metadata": {},
     "output_type": "display_data"
    }
   ],
   "source": [
    "# Crear una lista con los nombres de las características\n",
    "feature_names = X.columns.tolist()\n",
    "\n",
    "# Crear el gráfico de barras para las importancias de las características\n",
    "fig, ax = plt.subplots(figsize=(10, 6))  # Puedes ajustar el tamaño del gráfico según sea necesario\n",
    "sns.barplot(x=feature_names, y=forest_model.feature_importances_, color='C0', ax=ax).set(\n",
    "    title='Feature Importances', ylabel='Importance')\n",
    "\n",
    "# Rotar las etiquetas de los ejes x para mejorar la legibilidad\n",
    "_ = ax.set_xticklabels(ax.get_xticklabels(), rotation=45, ha=\"right\")\n",
    "\n",
    "# Mostrar el gráfico\n",
    "plt.tight_layout()  # Ajusta el layout para que las etiquetas no se corten\n",
    "plt.show()\n"
   ]
  },
  {
   "cell_type": "markdown",
   "metadata": {},
   "source": [
    "The variables that have more importance are: age, re75, re74 and educ"
   ]
  },
  {
   "cell_type": "markdown",
   "metadata": {},
   "source": [
    "1.5. Plot heterogeneous effects (1.5 points). Plot how the predicted treatment effect changes depending on a variable of your choice."
   ]
  },
  {
   "cell_type": "markdown",
   "metadata": {},
   "source": [
    "### Part 2: Double/Debiased machine learning in observational data\n",
    "\n",
    "In this part, we will be using observational data for computing the average treatment effect of the same program as in Part 1. This data is constructed by taking the treatment group from the same dataset as in Part 1, but constructing the control group from a different dataset; that is, the entirety of the control is comprised of observations from the Current Population Survey. Therefor, we may not have comparable treatment and control groups. To tackle this issue, we can use Double/Debiased machine learning.\n",
    "\n"
   ]
  },
  {
   "cell_type": "markdown",
   "metadata": {},
   "source": [
    "2.1. Load the data (1 points)."
   ]
  },
  {
   "cell_type": "code",
   "execution_count": 40,
   "metadata": {},
   "outputs": [
    {
     "data": {
      "text/html": [
       "<div>\n",
       "<style scoped>\n",
       "    .dataframe tbody tr th:only-of-type {\n",
       "        vertical-align: middle;\n",
       "    }\n",
       "\n",
       "    .dataframe tbody tr th {\n",
       "        vertical-align: top;\n",
       "    }\n",
       "\n",
       "    .dataframe thead th {\n",
       "        text-align: right;\n",
       "    }\n",
       "</style>\n",
       "<table border=\"1\" class=\"dataframe\">\n",
       "  <thead>\n",
       "    <tr style=\"text-align: right;\">\n",
       "      <th></th>\n",
       "      <th>treat</th>\n",
       "      <th>age</th>\n",
       "      <th>educ</th>\n",
       "      <th>black</th>\n",
       "      <th>hisp</th>\n",
       "      <th>marr</th>\n",
       "      <th>nodegree</th>\n",
       "      <th>re74</th>\n",
       "      <th>re75</th>\n",
       "      <th>re78</th>\n",
       "      <th>agesq</th>\n",
       "      <th>agecube</th>\n",
       "      <th>educsq</th>\n",
       "      <th>u74</th>\n",
       "      <th>u75</th>\n",
       "      <th>interaction1</th>\n",
       "      <th>re74sq</th>\n",
       "      <th>re75sq</th>\n",
       "    </tr>\n",
       "  </thead>\n",
       "  <tbody>\n",
       "    <tr>\n",
       "      <th>0</th>\n",
       "      <td>0</td>\n",
       "      <td>45</td>\n",
       "      <td>11</td>\n",
       "      <td>0</td>\n",
       "      <td>0</td>\n",
       "      <td>1</td>\n",
       "      <td>1</td>\n",
       "      <td>21.516670</td>\n",
       "      <td>25.243551</td>\n",
       "      <td>25.564670</td>\n",
       "      <td>2025</td>\n",
       "      <td>91125</td>\n",
       "      <td>121</td>\n",
       "      <td>0</td>\n",
       "      <td>0</td>\n",
       "      <td>236.683369</td>\n",
       "      <td>462.967085</td>\n",
       "      <td>637.236856</td>\n",
       "    </tr>\n",
       "    <tr>\n",
       "      <th>1</th>\n",
       "      <td>0</td>\n",
       "      <td>21</td>\n",
       "      <td>14</td>\n",
       "      <td>0</td>\n",
       "      <td>0</td>\n",
       "      <td>0</td>\n",
       "      <td>0</td>\n",
       "      <td>3.175971</td>\n",
       "      <td>5.852565</td>\n",
       "      <td>13.496080</td>\n",
       "      <td>441</td>\n",
       "      <td>9261</td>\n",
       "      <td>196</td>\n",
       "      <td>0</td>\n",
       "      <td>0</td>\n",
       "      <td>44.463593</td>\n",
       "      <td>10.086791</td>\n",
       "      <td>34.252516</td>\n",
       "    </tr>\n",
       "    <tr>\n",
       "      <th>2</th>\n",
       "      <td>0</td>\n",
       "      <td>38</td>\n",
       "      <td>12</td>\n",
       "      <td>0</td>\n",
       "      <td>0</td>\n",
       "      <td>1</td>\n",
       "      <td>0</td>\n",
       "      <td>23.039020</td>\n",
       "      <td>25.130760</td>\n",
       "      <td>25.564670</td>\n",
       "      <td>1444</td>\n",
       "      <td>54872</td>\n",
       "      <td>144</td>\n",
       "      <td>0</td>\n",
       "      <td>0</td>\n",
       "      <td>276.468234</td>\n",
       "      <td>530.796421</td>\n",
       "      <td>631.555086</td>\n",
       "    </tr>\n",
       "    <tr>\n",
       "      <th>3</th>\n",
       "      <td>0</td>\n",
       "      <td>48</td>\n",
       "      <td>6</td>\n",
       "      <td>0</td>\n",
       "      <td>0</td>\n",
       "      <td>1</td>\n",
       "      <td>1</td>\n",
       "      <td>24.994369</td>\n",
       "      <td>25.243551</td>\n",
       "      <td>25.564670</td>\n",
       "      <td>2304</td>\n",
       "      <td>110592</td>\n",
       "      <td>36</td>\n",
       "      <td>0</td>\n",
       "      <td>0</td>\n",
       "      <td>149.966215</td>\n",
       "      <td>624.718489</td>\n",
       "      <td>637.236856</td>\n",
       "    </tr>\n",
       "    <tr>\n",
       "      <th>4</th>\n",
       "      <td>0</td>\n",
       "      <td>18</td>\n",
       "      <td>8</td>\n",
       "      <td>0</td>\n",
       "      <td>0</td>\n",
       "      <td>1</td>\n",
       "      <td>1</td>\n",
       "      <td>1.669295</td>\n",
       "      <td>10.727610</td>\n",
       "      <td>9.860869</td>\n",
       "      <td>324</td>\n",
       "      <td>5832</td>\n",
       "      <td>64</td>\n",
       "      <td>0</td>\n",
       "      <td>0</td>\n",
       "      <td>13.354360</td>\n",
       "      <td>2.786546</td>\n",
       "      <td>115.081624</td>\n",
       "    </tr>\n",
       "    <tr>\n",
       "      <th>...</th>\n",
       "      <td>...</td>\n",
       "      <td>...</td>\n",
       "      <td>...</td>\n",
       "      <td>...</td>\n",
       "      <td>...</td>\n",
       "      <td>...</td>\n",
       "      <td>...</td>\n",
       "      <td>...</td>\n",
       "      <td>...</td>\n",
       "      <td>...</td>\n",
       "      <td>...</td>\n",
       "      <td>...</td>\n",
       "      <td>...</td>\n",
       "      <td>...</td>\n",
       "      <td>...</td>\n",
       "      <td>...</td>\n",
       "      <td>...</td>\n",
       "      <td>...</td>\n",
       "    </tr>\n",
       "    <tr>\n",
       "      <th>16172</th>\n",
       "      <td>1</td>\n",
       "      <td>33</td>\n",
       "      <td>12</td>\n",
       "      <td>1</td>\n",
       "      <td>0</td>\n",
       "      <td>1</td>\n",
       "      <td>0</td>\n",
       "      <td>20.279949</td>\n",
       "      <td>10.941350</td>\n",
       "      <td>15.952600</td>\n",
       "      <td>1089</td>\n",
       "      <td>35937</td>\n",
       "      <td>144</td>\n",
       "      <td>0</td>\n",
       "      <td>0</td>\n",
       "      <td>243.359391</td>\n",
       "      <td>411.276340</td>\n",
       "      <td>119.713131</td>\n",
       "    </tr>\n",
       "    <tr>\n",
       "      <th>16173</th>\n",
       "      <td>1</td>\n",
       "      <td>25</td>\n",
       "      <td>14</td>\n",
       "      <td>1</td>\n",
       "      <td>0</td>\n",
       "      <td>1</td>\n",
       "      <td>0</td>\n",
       "      <td>35.040070</td>\n",
       "      <td>11.536570</td>\n",
       "      <td>36.646949</td>\n",
       "      <td>625</td>\n",
       "      <td>15625</td>\n",
       "      <td>196</td>\n",
       "      <td>0</td>\n",
       "      <td>0</td>\n",
       "      <td>490.560984</td>\n",
       "      <td>1227.806528</td>\n",
       "      <td>133.092455</td>\n",
       "    </tr>\n",
       "    <tr>\n",
       "      <th>16174</th>\n",
       "      <td>1</td>\n",
       "      <td>35</td>\n",
       "      <td>9</td>\n",
       "      <td>1</td>\n",
       "      <td>0</td>\n",
       "      <td>1</td>\n",
       "      <td>1</td>\n",
       "      <td>13.602430</td>\n",
       "      <td>13.830640</td>\n",
       "      <td>12.803970</td>\n",
       "      <td>1225</td>\n",
       "      <td>42875</td>\n",
       "      <td>81</td>\n",
       "      <td>0</td>\n",
       "      <td>0</td>\n",
       "      <td>122.421867</td>\n",
       "      <td>185.026093</td>\n",
       "      <td>191.286593</td>\n",
       "    </tr>\n",
       "    <tr>\n",
       "      <th>16175</th>\n",
       "      <td>1</td>\n",
       "      <td>35</td>\n",
       "      <td>8</td>\n",
       "      <td>1</td>\n",
       "      <td>0</td>\n",
       "      <td>1</td>\n",
       "      <td>1</td>\n",
       "      <td>13.732070</td>\n",
       "      <td>17.976150</td>\n",
       "      <td>3.786628</td>\n",
       "      <td>1225</td>\n",
       "      <td>42875</td>\n",
       "      <td>64</td>\n",
       "      <td>0</td>\n",
       "      <td>0</td>\n",
       "      <td>109.856562</td>\n",
       "      <td>188.569755</td>\n",
       "      <td>323.141983</td>\n",
       "    </tr>\n",
       "    <tr>\n",
       "      <th>16176</th>\n",
       "      <td>1</td>\n",
       "      <td>33</td>\n",
       "      <td>11</td>\n",
       "      <td>1</td>\n",
       "      <td>0</td>\n",
       "      <td>1</td>\n",
       "      <td>1</td>\n",
       "      <td>14.660710</td>\n",
       "      <td>25.142240</td>\n",
       "      <td>4.181942</td>\n",
       "      <td>1089</td>\n",
       "      <td>35937</td>\n",
       "      <td>121</td>\n",
       "      <td>0</td>\n",
       "      <td>0</td>\n",
       "      <td>161.267810</td>\n",
       "      <td>214.936417</td>\n",
       "      <td>632.132244</td>\n",
       "    </tr>\n",
       "  </tbody>\n",
       "</table>\n",
       "<p>16177 rows × 18 columns</p>\n",
       "</div>"
      ],
      "text/plain": [
       "       treat  age  educ  black  hisp  marr  nodegree       re74       re75  \\\n",
       "0          0   45    11      0     0     1         1  21.516670  25.243551   \n",
       "1          0   21    14      0     0     0         0   3.175971   5.852565   \n",
       "2          0   38    12      0     0     1         0  23.039020  25.130760   \n",
       "3          0   48     6      0     0     1         1  24.994369  25.243551   \n",
       "4          0   18     8      0     0     1         1   1.669295  10.727610   \n",
       "...      ...  ...   ...    ...   ...   ...       ...        ...        ...   \n",
       "16172      1   33    12      1     0     1         0  20.279949  10.941350   \n",
       "16173      1   25    14      1     0     1         0  35.040070  11.536570   \n",
       "16174      1   35     9      1     0     1         1  13.602430  13.830640   \n",
       "16175      1   35     8      1     0     1         1  13.732070  17.976150   \n",
       "16176      1   33    11      1     0     1         1  14.660710  25.142240   \n",
       "\n",
       "            re78  agesq  agecube  educsq  u74  u75  interaction1       re74sq  \\\n",
       "0      25.564670   2025    91125     121    0    0    236.683369   462.967085   \n",
       "1      13.496080    441     9261     196    0    0     44.463593    10.086791   \n",
       "2      25.564670   1444    54872     144    0    0    276.468234   530.796421   \n",
       "3      25.564670   2304   110592      36    0    0    149.966215   624.718489   \n",
       "4       9.860869    324     5832      64    0    0     13.354360     2.786546   \n",
       "...          ...    ...      ...     ...  ...  ...           ...          ...   \n",
       "16172  15.952600   1089    35937     144    0    0    243.359391   411.276340   \n",
       "16173  36.646949    625    15625     196    0    0    490.560984  1227.806528   \n",
       "16174  12.803970   1225    42875      81    0    0    122.421867   185.026093   \n",
       "16175   3.786628   1225    42875      64    0    0    109.856562   188.569755   \n",
       "16176   4.181942   1089    35937     121    0    0    161.267810   214.936417   \n",
       "\n",
       "           re75sq  \n",
       "0      637.236856  \n",
       "1       34.252516  \n",
       "2      631.555086  \n",
       "3      637.236856  \n",
       "4      115.081624  \n",
       "...           ...  \n",
       "16172  119.713131  \n",
       "16173  133.092455  \n",
       "16174  191.286593  \n",
       "16175  323.141983  \n",
       "16176  632.132244  \n",
       "\n",
       "[16177 rows x 18 columns]"
      ]
     },
     "execution_count": 40,
     "metadata": {},
     "output_type": "execute_result"
    }
   ],
   "source": [
    "data_part2 = pd.read_csv('../data/observational/biased_control.csv')\n",
    "data_part2"
   ]
  },
  {
   "cell_type": "code",
   "execution_count": 41,
   "metadata": {},
   "outputs": [
    {
     "data": {
      "text/plain": [
       "['treat',\n",
       " 'age',\n",
       " 'educ',\n",
       " 'black',\n",
       " 'hisp',\n",
       " 'marr',\n",
       " 'nodegree',\n",
       " 're74',\n",
       " 're75',\n",
       " 're78',\n",
       " 'agesq',\n",
       " 'agecube',\n",
       " 'educsq',\n",
       " 'u74',\n",
       " 'u75',\n",
       " 'interaction1',\n",
       " 're74sq',\n",
       " 're75sq']"
      ]
     },
     "execution_count": 41,
     "metadata": {},
     "output_type": "execute_result"
    }
   ],
   "source": [
    "list(data_part2.columns)"
   ]
  },
  {
   "cell_type": "code",
   "execution_count": 42,
   "metadata": {},
   "outputs": [
    {
     "name": "stdout",
     "output_type": "stream",
     "text": [
      "treat           0\n",
      "age             0\n",
      "educ            0\n",
      "black           0\n",
      "hisp            0\n",
      "marr            0\n",
      "nodegree        0\n",
      "re74            0\n",
      "re75            0\n",
      "re78            0\n",
      "agesq           0\n",
      "agecube         0\n",
      "educsq          0\n",
      "u74             0\n",
      "u75             0\n",
      "interaction1    0\n",
      "re74sq          0\n",
      "re75sq          0\n",
      "dtype: int64\n"
     ]
    }
   ],
   "source": [
    "print(data_part2.isnull().sum())\n",
    "# NO hay missings"
   ]
  },
  {
   "cell_type": "code",
   "execution_count": 43,
   "metadata": {},
   "outputs": [
    {
     "name": "stdout",
     "output_type": "stream",
     "text": [
      "   treat       age      educ  black  hisp  marr  nodegree      re74      re75  \\\n",
      "0      0  1.074602 -0.351574      0     0     1         1  0.794377  1.259684   \n",
      "1      0 -1.100066  0.694482      0     0     0         0 -1.113565 -0.822476   \n",
      "2      0  0.440324 -0.002888      0     0     1         0  0.952744  1.247573   \n",
      "3      0  1.346436 -2.095000      0     0     1         1  1.156154  1.259684   \n",
      "4      0 -1.371899 -1.397629      0     0     1         1 -1.270301 -0.299004   \n",
      "\n",
      "       re78     agesq   agecube    educsq  u74  u75  interaction1    re74sq  \\\n",
      "0  1.118346  1.027409  0.935718 -0.468605    0    0      0.518831  0.682810   \n",
      "1 -0.129608 -0.994453 -0.882222  0.649826    0    0     -0.964554 -1.055486   \n",
      "2  1.118346  0.285805  0.130654 -0.125619    0    0      0.825856  0.943161   \n",
      "3  1.118346  1.383533  1.368018 -1.736159    0    0     -0.150376  1.303663   \n",
      "4 -0.505508 -1.143795 -0.958369 -1.318612    0    0     -1.204628 -1.083506   \n",
      "\n",
      "     re75sq  \n",
      "0  1.488962  \n",
      "1 -0.951256  \n",
      "2  1.465969  \n",
      "3  1.488962  \n",
      "4 -0.624149  \n"
     ]
    }
   ],
   "source": [
    "# NORMALIZATION \n",
    "numeric_columns = ['age', 'educ', 're74', 're75', 're78', 'agesq', 'agecube', 'educsq', 'interaction1', 're74sq', 're75sq']\n",
    "x_numeric = data_part2[numeric_columns]\n",
    "\n",
    "# StandardScaler\n",
    "x_numeric = StandardScaler().fit_transform(x_numeric)\n",
    "x_numeric = pd.DataFrame(x_numeric, columns=numeric_columns)\n",
    "data_part2[numeric_columns] = x_numeric\n",
    "print(data_part2.head())\n"
   ]
  },
  {
   "cell_type": "markdown",
   "metadata": {},
   "source": [
    "2.2. Group comparisons (1.5 points). For the treatment and control group separately, report summary statistics of three variables of your choice. Can you spot any big differences between the treatment and control groups?"
   ]
  },
  {
   "cell_type": "code",
   "execution_count": 44,
   "metadata": {},
   "outputs": [
    {
     "data": {
      "text/plain": [
       "treat\n",
       "0    15992\n",
       "1      185\n",
       "Name: count, dtype: int64"
      ]
     },
     "execution_count": 44,
     "metadata": {},
     "output_type": "execute_result"
    }
   ],
   "source": [
    "data_part2[\"treat\"].value_counts()\n",
    "# We hava 185 treated y 15992 controls"
   ]
  },
  {
   "cell_type": "code",
   "execution_count": 45,
   "metadata": {},
   "outputs": [
    {
     "data": {
      "text/plain": [
       "nodegree\n",
       "0    11315\n",
       "1     4862\n",
       "Name: count, dtype: int64"
      ]
     },
     "execution_count": 45,
     "metadata": {},
     "output_type": "execute_result"
    }
   ],
   "source": [
    "data_part2[\"nodegree\"].value_counts()"
   ]
  },
  {
   "cell_type": "code",
   "execution_count": 46,
   "metadata": {},
   "outputs": [
    {
     "name": "stdout",
     "output_type": "stream",
     "text": [
      "\n",
      "Grupo control (treat=0):\n",
      "              black          marr      nodegree\n",
      "mean       0.073537      0.711731      0.295835\n",
      "sum     1176.000000  11382.000000   4731.000000\n",
      "count  15992.000000  15992.000000  15992.000000\n",
      "\n",
      "Grupo tratado (treat=1):\n",
      "            black        marr    nodegree\n",
      "mean     0.843243    0.189189    0.708108\n",
      "sum    156.000000   35.000000  131.000000\n",
      "count  185.000000  185.000000  185.000000\n"
     ]
    }
   ],
   "source": [
    "# Variables: black, marr, nodegree\n",
    "variables = ['black', 'marr', 'nodegree']\n",
    "\n",
    "# Summary stats para cada grupo\n",
    "for group in [0, 1]:\n",
    "    stats = data_part2[data_part2['treat'] == group][variables].agg(['mean', 'sum', 'count'])\n",
    "    if group == 1:\n",
    "        print(\"\\nGrupo tratado (treat=1):\")\n",
    "    else:\n",
    "        print(\"\\nGrupo control (treat=0):\")\n",
    "    print(stats)\n"
   ]
  },
  {
   "cell_type": "code",
   "execution_count": 47,
   "metadata": {},
   "outputs": [
    {
     "name": "stdout",
     "output_type": "stream",
     "text": [
      "People with 'black' in the control group is 7.35%\n",
      "People with 'marr' in the control group is 71.17%\n",
      "People with 'nodegree' in the control group is 29.58%\n",
      "People with 'black' in the control group is 84.32%\n",
      "People with 'marr' in the control group is 18.92%\n",
      "People with 'nodegree' in the control group is 70.81%\n"
     ]
    }
   ],
   "source": [
    "# Control\n",
    "for var in variables:\n",
    "    mean_value = data_part2[data_part2['treat'] == 0][var].mean()\n",
    "    print(f\"People with '{var}' in the control group is {mean_value:.2%}\")\n",
    "\n",
    "# Treated\n",
    "for var in variables:\n",
    "    mean_value = data_part2[data_part2['treat'] == 1][var].mean()\n",
    "    print(f\"People with '{var}' in the control group is {mean_value:.2%}\")\n"
   ]
  },
  {
   "cell_type": "markdown",
   "metadata": {},
   "source": [
    "As can be seen, there are noticeable differences between the control group and the treated group. \n",
    "\n",
    "- In the control group, the percentage of Black individuals is only 7.35%, while in the treatment group, this percentage jumps significantly to 84.32%. \n",
    "- Additionally, the proportion of married individuals in the control group is 71.17%, compared to just 18.92% in the treatment group. \n",
    "- Lastly, the proportion of individuals without a degree (nodegree) is 29.58% in the control group, but much higher at 70.81% in the treatment group. \n",
    "\n",
    "These differences suggest a distinct demographic composition between the two groups."
   ]
  },
  {
   "cell_type": "markdown",
   "metadata": {},
   "source": [
    "2.3. Compute the SMD (1.5 points). Find the simple difference of means, which we can use as a naive estimate of the ATE. How does the result in this case compare to the result in point 1.2.?"
   ]
  },
  {
   "cell_type": "code",
   "execution_count": 48,
   "metadata": {},
   "outputs": [],
   "source": [
    "y = data_part2[\"re78\"] # outcome variable of interest\n",
    "d = data_part2[\"treat\"] #In the National Supported Work Demonstration Job Training Program\n",
    "x = data_part2[data_part2.columns[~data_part2.columns.isin(['treat','re78'])]]"
   ]
  },
  {
   "cell_type": "code",
   "execution_count": 49,
   "metadata": {},
   "outputs": [
    {
     "name": "stdout",
     "output_type": "stream",
     "text": [
      "Mean re78 for the treated group: -0.87\n",
      "Mean re78 for the control group: 0.01\n",
      "Average Treatment Effect (ATE): -0.88\n"
     ]
    }
   ],
   "source": [
    "# simple difference of means\n",
    "# OJO: re78 = Real earnings 1978 (in thousands of dollars)\n",
    "# TREATED\n",
    "mean_treated = data_part2[data_part2[\"treat\"] == 1][\"re78\"].mean()\n",
    "# CONTROL\n",
    "mean_control = data_part2[data_part2[\"treat\"] == 0][\"re78\"].mean()\n",
    "\n",
    "# ATE: \n",
    "ate = mean_treated - mean_control\n",
    "\n",
    "print(f\"Mean re78 for the treated group: {mean_treated:.2f}\")\n",
    "print(f\"Mean re78 for the control group: {mean_control:.2f}\")\n",
    "print(f\"Average Treatment Effect (ATE): {ate:.2f}\")\n"
   ]
  },
  {
   "cell_type": "markdown",
   "metadata": {},
   "source": [
    "How does the result in this case compare to the result in point 1.2.?\n",
    "\n",
    "The result in 1.2 is that the ATE was 0.27 , and now  is -0.88. We have a big difference here not only in the number, but also in the sing of it. This difference is explicated by the fact that the dataset is different, in this case we have a disproportioned groups of control and treatment."
   ]
  },
  {
   "cell_type": "markdown",
   "metadata": {},
   "source": [
    "2.4. Using DML (6 points). Use the DML procedure as we saw in the Lab, in order to find a better estimate of the ATE. You may use the doubleML packages for Python and R, but this package does not exist for Julia, so you will have to build your own procedure like we saw in class. You will be rewarded extra points for using more than one method for predictions. At the end, report the treatment effect you found, as well as the MSE for \n",
    "D\n",
    " and \n",
    "Y\n",
    " achieved by the method(s) you used."
   ]
  },
  {
   "cell_type": "code",
   "execution_count": 50,
   "metadata": {},
   "outputs": [],
   "source": [
    "def dml(X, D, y, modely, modeld, *, nfolds, classifier=False, time = None, clu = None, cluster = True):\n",
    "    '''\n",
    "    DML for the Partially Linear Model setting with cross-fitting\n",
    "\n",
    "    Input\n",
    "    -----\n",
    "    X: the controls\n",
    "    D: the treatment\n",
    "    y: the outcome\n",
    "    modely: the ML model for predicting the outcome y\n",
    "    modeld: the ML model for predicting the treatment D\n",
    "    nfolds: the number of folds in cross-fitting\n",
    "    classifier: bool, whether the modeld is a classifier or a regressor\n",
    "\n",
    "    time: array of time indices, eg [0,1,...,T-1,0,1,...,T-1,...,0,1,...,T-1]\n",
    "    clu: array of cluster indices, eg [1073, 1073, 1073, ..., 5055, 5055, 5055, 5055]\n",
    "    cluster: bool, whether to use clustered standard errors\n",
    "\n",
    "    Output\n",
    "    ------\n",
    "    point: the point estimate of the treatment effect of D on y\n",
    "    stderr: the standard error of the treatment effect\n",
    "    yhat: the cross-fitted predictions for the outcome y\n",
    "    Dhat: the cross-fitted predictions for the treatment D\n",
    "    resy: the outcome residuals\n",
    "    resD: the treatment residuals\n",
    "    epsilon: the final residual-on-residual OLS regression residual\n",
    "    '''\n",
    "    cv = KFold(n_splits=nfolds, shuffle=True, random_state=123) # shuffled k-folds\n",
    "    yhat = cross_val_predict(modely, X, y, cv=cv, n_jobs=-1) # out-of-fold predictions for y\n",
    "    # out-of-fold predictions for D\n",
    "    # use predict or predict_proba dependent on classifier or regressor for D\n",
    "    if classifier:\n",
    "        Dhat = cross_val_predict(modeld, X, D, cv=cv, method='predict_proba', n_jobs=-1)[:, 1]\n",
    "    else:\n",
    "        Dhat = cross_val_predict(modeld, X, D, cv=cv, n_jobs=-1)\n",
    "    # calculate outcome and treatment residuals\n",
    "    resy = y - yhat\n",
    "    resD = D - Dhat\n",
    "\n",
    "    if cluster:\n",
    "      # final stage ols clustered\n",
    "      dml_data = pd.concat([clu, pd.Series(time), pd.Series(resy, name = 'resy'), pd.Series(resD, name = 'resD')], axis=1)\n",
    "\n",
    "    else:\n",
    "      # final stage ols nonclustered\n",
    "      dml_data = pd.concat([pd.Series(resy, name = 'resy'), pd.Series(resD, name = 'resD')], axis=1)\n",
    "\n",
    "    if cluster:\n",
    "      # clustered standard errors\n",
    "      ols_mod = smf.ols(formula = 'resy ~ 1 + resD', data = dml_data).fit(cov_type='cluster', cov_kwds={\"groups\": dml_data['CountyCode']})\n",
    "\n",
    "    else:\n",
    "      # regular ols\n",
    "      ols_mod = smf.ols(formula = 'resy ~ 1 + resD', data = dml_data).fit()\n",
    "\n",
    "    point = ols_mod.params[1]\n",
    "    stderr = ols_mod.bse[1]\n",
    "    epsilon = ols_mod.resid\n",
    "\n",
    "    return point, stderr, yhat, Dhat, resy, resD, epsilon\n",
    "     "
   ]
  },
  {
   "cell_type": "code",
   "execution_count": 51,
   "metadata": {},
   "outputs": [],
   "source": [
    "def summary(point, stderr, yhat, Dhat, resy, resD, epsilon, X, D, y, *, name):\n",
    "    '''\n",
    "    Convenience summary function that takes the results of the DML function\n",
    "    and summarizes several estimation quantities and performance metrics.\n",
    "    '''\n",
    "    return pd.DataFrame({'estimate': point, # point estimate\n",
    "                         'stderr': stderr, # standard error\n",
    "                         #'lower': point - 1.96*stderr, # lower end of 95% confidence interval\n",
    "                         #'upper': point + 1.96*stderr, # upper end of 95% confidence interval\n",
    "                         'rmse y': np.sqrt(np.mean(resy**2)), # RMSE of model that predicts outcome y\n",
    "                         'rmse D': np.sqrt(np.mean(resD**2)) # RMSE of model that predicts treatment D\n",
    "                         }, index=[name])"
   ]
  },
  {
   "cell_type": "code",
   "execution_count": 52,
   "metadata": {},
   "outputs": [
    {
     "name": "stdout",
     "output_type": "stream",
     "text": [
      "              estimate    stderr    rmse y    rmse D\n",
      "OLS           0.166871  0.057527  0.722554  0.098733\n",
      "Lasso         0.112584  0.057073  0.723822  0.099707\n",
      "RF            0.091778  0.068914  0.739324  0.084350\n",
      "RF/Lasso Mix  0.098168  0.058297  0.739324  0.099707\n"
     ]
    }
   ],
   "source": [
    "class RLasso(BaseEstimator):\n",
    "\n",
    "    def __init__(self, *, post=True):\n",
    "        self.post = post\n",
    "\n",
    "    def fit(self, X, y):\n",
    "        self.rlasso_ = hdmpy.rlasso(X, y, post=self.post)\n",
    "        return self\n",
    "\n",
    "    def predict(self, X):\n",
    "        return np.array(X) @ np.array(self.rlasso_.est['beta']).flatten() + np.array(self.rlasso_.est['intercept'])\n",
    "\n",
    "lasso_model = lambda: RLasso(post=False)\n",
    "     \n",
    "\n",
    "# DML with OLS:\n",
    "modely = make_pipeline(StandardScaler(), LinearRegression())\n",
    "modeld = make_pipeline(StandardScaler(), LinearRegression())\n",
    "result_OLS = dml(x,d,y, modely, modeld, nfolds=10, classifier=False, cluster = False)\n",
    "table_OLS = summary(*result_OLS, x,d,y, name = 'OLS')\n",
    "\n",
    "# DML with RLasso:\n",
    "modely = make_pipeline(StandardScaler(), RLasso(post=False))\n",
    "modeld = make_pipeline(StandardScaler(), RLasso(post=False))\n",
    "result_RLasso = dml(x,d,y, modely, modeld, nfolds=10, classifier=False, cluster = False)\n",
    "table_RLasso = summary(*result_RLasso, x,d,y, name = 'Lasso')\n",
    "\n",
    "\n",
    "# DML with Random Forests\n",
    "modely = make_pipeline(StandardScaler(), RandomForestRegressor(n_estimators=100, min_samples_leaf=5, random_state=123))\n",
    "modeld = make_pipeline(StandardScaler(), RandomForestRegressor(n_estimators=100, min_samples_leaf=5, random_state=123))\n",
    "result_RF = dml(x,d,y, modely, modeld, nfolds=10, classifier=False, cluster = False)\n",
    "table_RF = summary(*result_RF, x,d,y, name = 'RF')\n",
    "\n",
    "# DML with Mix:\n",
    "modely = make_pipeline(StandardScaler(), RandomForestRegressor(n_estimators=100, min_samples_leaf=5, random_state=123))\n",
    "modeld = make_pipeline(StandardScaler(), RLasso(post=False))\n",
    "result_mix = dml(x,d,y, modely, modeld, nfolds=10, classifier=False, cluster = False)\n",
    "table_mix = summary(*result_mix, x,d,y, name = 'RF/Lasso Mix')\n",
    "     \n",
    "\n",
    "table = pd.concat([table_OLS, table_RLasso, table_RF, table_mix], axis=0)\n",
    "     \n",
    "print(table)"
   ]
  },
  {
   "cell_type": "markdown",
   "metadata": {},
   "source": [
    "The treatment estimated using the DML procedure with different methods shows that the average treatment effect (ATE) varies by model. \n",
    "\n",
    "- The OLS model estimates an ATE of 0.167, the Lasso 0.113, the Random Forest 0.092, and the RF/Lasso combination 0.098. As for the mean square errors (MSE), for the dependent variable (Y), the OLS, Lasso, RF, and RF/Lasso combination models have RMSE errors of 0.723, 0.724, 0.739, and 0.739, respectively. For the treatment variable (D), the RMSE errors are 0.099 for OLS and Lasso, and 0.084 for Random Forest, with the RF/Lasso combination keeping the RMSE at 0.099."
   ]
  }
 ],
 "metadata": {
  "kernelspec": {
   "display_name": "otree_env",
   "language": "python",
   "name": "python3"
  },
  "language_info": {
   "codemirror_mode": {
    "name": "ipython",
    "version": 3
   },
   "file_extension": ".py",
   "mimetype": "text/x-python",
   "name": "python",
   "nbconvert_exporter": "python",
   "pygments_lexer": "ipython3",
   "version": "3.11.7"
  }
 },
 "nbformat": 4,
 "nbformat_minor": 2
}
