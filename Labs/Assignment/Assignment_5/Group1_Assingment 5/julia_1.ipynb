{
 "cells": [
  {
   "cell_type": "code",
   "execution_count": 19,
   "metadata": {},
   "outputs": [
    {
     "name": "stderr",
     "output_type": "stream",
     "text": [
      "\u001b[32m\u001b[1m   Resolving\u001b[22m\u001b[39m package versions...\n",
      "\u001b[32m\u001b[1m  No Changes\u001b[22m\u001b[39m to `C:\\Users\\almen\\.julia\\environments\\v1.10\\Project.toml`\n",
      "\u001b[32m\u001b[1m  No Changes\u001b[22m\u001b[39m to `C:\\Users\\almen\\.julia\\environments\\v1.10\\Manifest.toml`\n",
      "\u001b[32m\u001b[1m   Resolving\u001b[22m\u001b[39m package versions...\n",
      "\u001b[32m\u001b[1m  No Changes\u001b[22m\u001b[39m to `C:\\Users\\almen\\.julia\\environments\\v1.10\\Project.toml`\n",
      "\u001b[32m\u001b[1m  No Changes\u001b[22m\u001b[39m to `C:\\Users\\almen\\.julia\\environments\\v1.10\\Manifest.toml`\n"
     ]
    }
   ],
   "source": [
    "using Pkg\n",
    "Pkg.add(\"CSV\")\n",
    "Pkg.add(\"DataFrames\")"
   ]
  },
  {
   "cell_type": "code",
   "execution_count": 20,
   "metadata": {},
   "outputs": [],
   "source": [
    "using CSV\n",
    "using DataFrames\n",
    "using Statistics"
   ]
  },
  {
   "cell_type": "markdown",
   "metadata": {},
   "source": [
    "### Part 2: Double/Debiased machine learning in observational data\n",
    "\n",
    "In this part, we will be using observational data for computing the average treatment effect of the same program as in Part 1. This data is constructed by taking the treatment group from the same dataset as in Part 1, but constructing the control group from a different dataset; that is, the entirety of the control is comprised of observations from the Current Population Survey. Therefor, we may not have comparable treatment and control groups. To tackle this issue, we can use Double/Debiased machine learning.\n"
   ]
  },
  {
   "cell_type": "markdown",
   "metadata": {},
   "source": [
    "2.1. Load the data (1 points)."
   ]
  },
  {
   "cell_type": "code",
   "execution_count": 33,
   "metadata": {},
   "outputs": [
    {
     "data": {
      "text/html": [
       "<div><div style = \"float: left;\"><span>16177×18 DataFrame</span></div><div style = \"float: right;\"><span style = \"font-style: italic;\">16152 rows omitted</span></div><div style = \"clear: both;\"></div></div><div class = \"data-frame\" style = \"overflow-x: scroll;\"><table class = \"data-frame\" style = \"margin-bottom: 6px;\"><thead><tr class = \"header\"><th class = \"rowNumber\" style = \"font-weight: bold; text-align: right;\">Row</th><th style = \"text-align: left;\">treat</th><th style = \"text-align: left;\">age</th><th style = \"text-align: left;\">educ</th><th style = \"text-align: left;\">black</th><th style = \"text-align: left;\">hisp</th><th style = \"text-align: left;\">marr</th><th style = \"text-align: left;\">nodegree</th><th style = \"text-align: left;\">re74</th><th style = \"text-align: left;\">re75</th><th style = \"text-align: left;\">re78</th><th style = \"text-align: left;\">agesq</th><th style = \"text-align: left;\">agecube</th><th style = \"text-align: left;\">educsq</th><th style = \"text-align: left;\">u74</th><th style = \"text-align: left;\">u75</th><th style = \"text-align: left;\">interaction1</th><th style = \"text-align: left;\">re74sq</th><th style = \"text-align: left;\">re75sq</th></tr><tr class = \"subheader headerLastRow\"><th class = \"rowNumber\" style = \"font-weight: bold; text-align: right;\"></th><th title = \"Int64\" style = \"text-align: left;\">Int64</th><th title = \"Int64\" style = \"text-align: left;\">Int64</th><th title = \"Int64\" style = \"text-align: left;\">Int64</th><th title = \"Int64\" style = \"text-align: left;\">Int64</th><th title = \"Int64\" style = \"text-align: left;\">Int64</th><th title = \"Int64\" style = \"text-align: left;\">Int64</th><th title = \"Int64\" style = \"text-align: left;\">Int64</th><th title = \"Float64\" style = \"text-align: left;\">Float64</th><th title = \"Float64\" style = \"text-align: left;\">Float64</th><th title = \"Float64\" style = \"text-align: left;\">Float64</th><th title = \"Int64\" style = \"text-align: left;\">Int64</th><th title = \"Int64\" style = \"text-align: left;\">Int64</th><th title = \"Int64\" style = \"text-align: left;\">Int64</th><th title = \"Int64\" style = \"text-align: left;\">Int64</th><th title = \"Int64\" style = \"text-align: left;\">Int64</th><th title = \"Float64\" style = \"text-align: left;\">Float64</th><th title = \"Float64\" style = \"text-align: left;\">Float64</th><th title = \"Float64\" style = \"text-align: left;\">Float64</th></tr></thead><tbody><tr><td class = \"rowNumber\" style = \"font-weight: bold; text-align: right;\">1</td><td style = \"text-align: right;\">0</td><td style = \"text-align: right;\">45</td><td style = \"text-align: right;\">11</td><td style = \"text-align: right;\">0</td><td style = \"text-align: right;\">0</td><td style = \"text-align: right;\">1</td><td style = \"text-align: right;\">1</td><td style = \"text-align: right;\">21.5167</td><td style = \"text-align: right;\">25.2436</td><td style = \"text-align: right;\">25.5647</td><td style = \"text-align: right;\">2025</td><td style = \"text-align: right;\">91125</td><td style = \"text-align: right;\">121</td><td style = \"text-align: right;\">0</td><td style = \"text-align: right;\">0</td><td style = \"text-align: right;\">236.683</td><td style = \"text-align: right;\">462.967</td><td style = \"text-align: right;\">637.237</td></tr><tr><td class = \"rowNumber\" style = \"font-weight: bold; text-align: right;\">2</td><td style = \"text-align: right;\">0</td><td style = \"text-align: right;\">21</td><td style = \"text-align: right;\">14</td><td style = \"text-align: right;\">0</td><td style = \"text-align: right;\">0</td><td style = \"text-align: right;\">0</td><td style = \"text-align: right;\">0</td><td style = \"text-align: right;\">3.17597</td><td style = \"text-align: right;\">5.85256</td><td style = \"text-align: right;\">13.4961</td><td style = \"text-align: right;\">441</td><td style = \"text-align: right;\">9261</td><td style = \"text-align: right;\">196</td><td style = \"text-align: right;\">0</td><td style = \"text-align: right;\">0</td><td style = \"text-align: right;\">44.4636</td><td style = \"text-align: right;\">10.0868</td><td style = \"text-align: right;\">34.2525</td></tr><tr><td class = \"rowNumber\" style = \"font-weight: bold; text-align: right;\">3</td><td style = \"text-align: right;\">0</td><td style = \"text-align: right;\">38</td><td style = \"text-align: right;\">12</td><td style = \"text-align: right;\">0</td><td style = \"text-align: right;\">0</td><td style = \"text-align: right;\">1</td><td style = \"text-align: right;\">0</td><td style = \"text-align: right;\">23.039</td><td style = \"text-align: right;\">25.1308</td><td style = \"text-align: right;\">25.5647</td><td style = \"text-align: right;\">1444</td><td style = \"text-align: right;\">54872</td><td style = \"text-align: right;\">144</td><td style = \"text-align: right;\">0</td><td style = \"text-align: right;\">0</td><td style = \"text-align: right;\">276.468</td><td style = \"text-align: right;\">530.796</td><td style = \"text-align: right;\">631.555</td></tr><tr><td class = \"rowNumber\" style = \"font-weight: bold; text-align: right;\">4</td><td style = \"text-align: right;\">0</td><td style = \"text-align: right;\">48</td><td style = \"text-align: right;\">6</td><td style = \"text-align: right;\">0</td><td style = \"text-align: right;\">0</td><td style = \"text-align: right;\">1</td><td style = \"text-align: right;\">1</td><td style = \"text-align: right;\">24.9944</td><td style = \"text-align: right;\">25.2436</td><td style = \"text-align: right;\">25.5647</td><td style = \"text-align: right;\">2304</td><td style = \"text-align: right;\">110592</td><td style = \"text-align: right;\">36</td><td style = \"text-align: right;\">0</td><td style = \"text-align: right;\">0</td><td style = \"text-align: right;\">149.966</td><td style = \"text-align: right;\">624.718</td><td style = \"text-align: right;\">637.237</td></tr><tr><td class = \"rowNumber\" style = \"font-weight: bold; text-align: right;\">5</td><td style = \"text-align: right;\">0</td><td style = \"text-align: right;\">18</td><td style = \"text-align: right;\">8</td><td style = \"text-align: right;\">0</td><td style = \"text-align: right;\">0</td><td style = \"text-align: right;\">1</td><td style = \"text-align: right;\">1</td><td style = \"text-align: right;\">1.6693</td><td style = \"text-align: right;\">10.7276</td><td style = \"text-align: right;\">9.86087</td><td style = \"text-align: right;\">324</td><td style = \"text-align: right;\">5832</td><td style = \"text-align: right;\">64</td><td style = \"text-align: right;\">0</td><td style = \"text-align: right;\">0</td><td style = \"text-align: right;\">13.3544</td><td style = \"text-align: right;\">2.78655</td><td style = \"text-align: right;\">115.082</td></tr><tr><td class = \"rowNumber\" style = \"font-weight: bold; text-align: right;\">6</td><td style = \"text-align: right;\">0</td><td style = \"text-align: right;\">22</td><td style = \"text-align: right;\">11</td><td style = \"text-align: right;\">0</td><td style = \"text-align: right;\">0</td><td style = \"text-align: right;\">1</td><td style = \"text-align: right;\">1</td><td style = \"text-align: right;\">16.3658</td><td style = \"text-align: right;\">18.4493</td><td style = \"text-align: right;\">25.5647</td><td style = \"text-align: right;\">484</td><td style = \"text-align: right;\">10648</td><td style = \"text-align: right;\">121</td><td style = \"text-align: right;\">0</td><td style = \"text-align: right;\">0</td><td style = \"text-align: right;\">180.023</td><td style = \"text-align: right;\">267.838</td><td style = \"text-align: right;\">340.376</td></tr><tr><td class = \"rowNumber\" style = \"font-weight: bold; text-align: right;\">7</td><td style = \"text-align: right;\">0</td><td style = \"text-align: right;\">48</td><td style = \"text-align: right;\">10</td><td style = \"text-align: right;\">0</td><td style = \"text-align: right;\">0</td><td style = \"text-align: right;\">1</td><td style = \"text-align: right;\">1</td><td style = \"text-align: right;\">16.8046</td><td style = \"text-align: right;\">16.3546</td><td style = \"text-align: right;\">18.0593</td><td style = \"text-align: right;\">2304</td><td style = \"text-align: right;\">110592</td><td style = \"text-align: right;\">100</td><td style = \"text-align: right;\">0</td><td style = \"text-align: right;\">0</td><td style = \"text-align: right;\">168.046</td><td style = \"text-align: right;\">282.396</td><td style = \"text-align: right;\">267.473</td></tr><tr><td class = \"rowNumber\" style = \"font-weight: bold; text-align: right;\">8</td><td style = \"text-align: right;\">0</td><td style = \"text-align: right;\">18</td><td style = \"text-align: right;\">11</td><td style = \"text-align: right;\">0</td><td style = \"text-align: right;\">0</td><td style = \"text-align: right;\">0</td><td style = \"text-align: right;\">1</td><td style = \"text-align: right;\">1.14421</td><td style = \"text-align: right;\">3.62003</td><td style = \"text-align: right;\">15.7393</td><td style = \"text-align: right;\">324</td><td style = \"text-align: right;\">5832</td><td style = \"text-align: right;\">121</td><td style = \"text-align: right;\">0</td><td style = \"text-align: right;\">0</td><td style = \"text-align: right;\">12.5863</td><td style = \"text-align: right;\">1.30922</td><td style = \"text-align: right;\">13.1046</td></tr><tr><td class = \"rowNumber\" style = \"font-weight: bold; text-align: right;\">9</td><td style = \"text-align: right;\">0</td><td style = \"text-align: right;\">48</td><td style = \"text-align: right;\">9</td><td style = \"text-align: right;\">0</td><td style = \"text-align: right;\">0</td><td style = \"text-align: right;\">1</td><td style = \"text-align: right;\">1</td><td style = \"text-align: right;\">25.8623</td><td style = \"text-align: right;\">25.2436</td><td style = \"text-align: right;\">25.5647</td><td style = \"text-align: right;\">2304</td><td style = \"text-align: right;\">110592</td><td style = \"text-align: right;\">81</td><td style = \"text-align: right;\">0</td><td style = \"text-align: right;\">0</td><td style = \"text-align: right;\">232.761</td><td style = \"text-align: right;\">668.86</td><td style = \"text-align: right;\">637.237</td></tr><tr><td class = \"rowNumber\" style = \"font-weight: bold; text-align: right;\">10</td><td style = \"text-align: right;\">0</td><td style = \"text-align: right;\">45</td><td style = \"text-align: right;\">12</td><td style = \"text-align: right;\">0</td><td style = \"text-align: right;\">0</td><td style = \"text-align: right;\">1</td><td style = \"text-align: right;\">0</td><td style = \"text-align: right;\">25.8623</td><td style = \"text-align: right;\">0.0</td><td style = \"text-align: right;\">3.92484</td><td style = \"text-align: right;\">2025</td><td style = \"text-align: right;\">91125</td><td style = \"text-align: right;\">144</td><td style = \"text-align: right;\">0</td><td style = \"text-align: right;\">1</td><td style = \"text-align: right;\">310.348</td><td style = \"text-align: right;\">668.86</td><td style = \"text-align: right;\">0.0</td></tr><tr><td class = \"rowNumber\" style = \"font-weight: bold; text-align: right;\">11</td><td style = \"text-align: right;\">0</td><td style = \"text-align: right;\">34</td><td style = \"text-align: right;\">14</td><td style = \"text-align: right;\">0</td><td style = \"text-align: right;\">0</td><td style = \"text-align: right;\">1</td><td style = \"text-align: right;\">0</td><td style = \"text-align: right;\">25.8623</td><td style = \"text-align: right;\">23.7468</td><td style = \"text-align: right;\">25.5647</td><td style = \"text-align: right;\">1156</td><td style = \"text-align: right;\">39304</td><td style = \"text-align: right;\">196</td><td style = \"text-align: right;\">0</td><td style = \"text-align: right;\">0</td><td style = \"text-align: right;\">362.072</td><td style = \"text-align: right;\">668.86</td><td style = \"text-align: right;\">563.912</td></tr><tr><td class = \"rowNumber\" style = \"font-weight: bold; text-align: right;\">12</td><td style = \"text-align: right;\">0</td><td style = \"text-align: right;\">16</td><td style = \"text-align: right;\">10</td><td style = \"text-align: right;\">0</td><td style = \"text-align: right;\">0</td><td style = \"text-align: right;\">0</td><td style = \"text-align: right;\">1</td><td style = \"text-align: right;\">1.02666</td><td style = \"text-align: right;\">1.22458</td><td style = \"text-align: right;\">6.84779</td><td style = \"text-align: right;\">256</td><td style = \"text-align: right;\">4096</td><td style = \"text-align: right;\">100</td><td style = \"text-align: right;\">0</td><td style = \"text-align: right;\">0</td><td style = \"text-align: right;\">10.2666</td><td style = \"text-align: right;\">1.05402</td><td style = \"text-align: right;\">1.4996</td></tr><tr><td class = \"rowNumber\" style = \"font-weight: bold; text-align: right;\">13</td><td style = \"text-align: right;\">0</td><td style = \"text-align: right;\">53</td><td style = \"text-align: right;\">10</td><td style = \"text-align: right;\">0</td><td style = \"text-align: right;\">0</td><td style = \"text-align: right;\">1</td><td style = \"text-align: right;\">1</td><td style = \"text-align: right;\">25.8623</td><td style = \"text-align: right;\">25.2436</td><td style = \"text-align: right;\">25.5647</td><td style = \"text-align: right;\">2809</td><td style = \"text-align: right;\">148877</td><td style = \"text-align: right;\">100</td><td style = \"text-align: right;\">0</td><td style = \"text-align: right;\">0</td><td style = \"text-align: right;\">258.623</td><td style = \"text-align: right;\">668.86</td><td style = \"text-align: right;\">637.237</td></tr><tr><td style = \"text-align: right;\">&vellip;</td><td style = \"text-align: right;\">&vellip;</td><td style = \"text-align: right;\">&vellip;</td><td style = \"text-align: right;\">&vellip;</td><td style = \"text-align: right;\">&vellip;</td><td style = \"text-align: right;\">&vellip;</td><td style = \"text-align: right;\">&vellip;</td><td style = \"text-align: right;\">&vellip;</td><td style = \"text-align: right;\">&vellip;</td><td style = \"text-align: right;\">&vellip;</td><td style = \"text-align: right;\">&vellip;</td><td style = \"text-align: right;\">&vellip;</td><td style = \"text-align: right;\">&vellip;</td><td style = \"text-align: right;\">&vellip;</td><td style = \"text-align: right;\">&vellip;</td><td style = \"text-align: right;\">&vellip;</td><td style = \"text-align: right;\">&vellip;</td><td style = \"text-align: right;\">&vellip;</td><td style = \"text-align: right;\">&vellip;</td></tr><tr><td class = \"rowNumber\" style = \"font-weight: bold; text-align: right;\">16166</td><td style = \"text-align: right;\">1</td><td style = \"text-align: right;\">19</td><td style = \"text-align: right;\">10</td><td style = \"text-align: right;\">1</td><td style = \"text-align: right;\">0</td><td style = \"text-align: right;\">0</td><td style = \"text-align: right;\">1</td><td style = \"text-align: right;\">4.12195</td><td style = \"text-align: right;\">6.05675</td><td style = \"text-align: right;\">0.0</td><td style = \"text-align: right;\">361</td><td style = \"text-align: right;\">6859</td><td style = \"text-align: right;\">100</td><td style = \"text-align: right;\">0</td><td style = \"text-align: right;\">0</td><td style = \"text-align: right;\">41.2195</td><td style = \"text-align: right;\">16.9905</td><td style = \"text-align: right;\">36.6843</td></tr><tr><td class = \"rowNumber\" style = \"font-weight: bold; text-align: right;\">16167</td><td style = \"text-align: right;\">1</td><td style = \"text-align: right;\">26</td><td style = \"text-align: right;\">10</td><td style = \"text-align: right;\">1</td><td style = \"text-align: right;\">0</td><td style = \"text-align: right;\">0</td><td style = \"text-align: right;\">1</td><td style = \"text-align: right;\">25.9297</td><td style = \"text-align: right;\">6.78896</td><td style = \"text-align: right;\">0.672877</td><td style = \"text-align: right;\">676</td><td style = \"text-align: right;\">17576</td><td style = \"text-align: right;\">100</td><td style = \"text-align: right;\">0</td><td style = \"text-align: right;\">0</td><td style = \"text-align: right;\">259.297</td><td style = \"text-align: right;\">672.348</td><td style = \"text-align: right;\">46.09</td></tr><tr><td class = \"rowNumber\" style = \"font-weight: bold; text-align: right;\">16168</td><td style = \"text-align: right;\">1</td><td style = \"text-align: right;\">28</td><td style = \"text-align: right;\">11</td><td style = \"text-align: right;\">1</td><td style = \"text-align: right;\">0</td><td style = \"text-align: right;\">0</td><td style = \"text-align: right;\">1</td><td style = \"text-align: right;\">1.92903</td><td style = \"text-align: right;\">6.87186</td><td style = \"text-align: right;\">0.0</td><td style = \"text-align: right;\">784</td><td style = \"text-align: right;\">21952</td><td style = \"text-align: right;\">121</td><td style = \"text-align: right;\">0</td><td style = \"text-align: right;\">0</td><td style = \"text-align: right;\">21.2193</td><td style = \"text-align: right;\">3.72115</td><td style = \"text-align: right;\">47.2224</td></tr><tr><td class = \"rowNumber\" style = \"font-weight: bold; text-align: right;\">16169</td><td style = \"text-align: right;\">1</td><td style = \"text-align: right;\">22</td><td style = \"text-align: right;\">12</td><td style = \"text-align: right;\">0</td><td style = \"text-align: right;\">1</td><td style = \"text-align: right;\">1</td><td style = \"text-align: right;\">0</td><td style = \"text-align: right;\">0.49223</td><td style = \"text-align: right;\">7.0557</td><td style = \"text-align: right;\">10.0928</td><td style = \"text-align: right;\">484</td><td style = \"text-align: right;\">10648</td><td style = \"text-align: right;\">144</td><td style = \"text-align: right;\">0</td><td style = \"text-align: right;\">0</td><td style = \"text-align: right;\">5.90677</td><td style = \"text-align: right;\">0.242291</td><td style = \"text-align: right;\">49.7829</td></tr><tr><td class = \"rowNumber\" style = \"font-weight: bold; text-align: right;\">16170</td><td style = \"text-align: right;\">1</td><td style = \"text-align: right;\">33</td><td style = \"text-align: right;\">11</td><td style = \"text-align: right;\">1</td><td style = \"text-align: right;\">0</td><td style = \"text-align: right;\">0</td><td style = \"text-align: right;\">1</td><td style = \"text-align: right;\">0.0</td><td style = \"text-align: right;\">7.86792</td><td style = \"text-align: right;\">6.28143</td><td style = \"text-align: right;\">1089</td><td style = \"text-align: right;\">35937</td><td style = \"text-align: right;\">121</td><td style = \"text-align: right;\">1</td><td style = \"text-align: right;\">0</td><td style = \"text-align: right;\">0.0</td><td style = \"text-align: right;\">0.0</td><td style = \"text-align: right;\">61.9041</td></tr><tr><td class = \"rowNumber\" style = \"font-weight: bold; text-align: right;\">16171</td><td style = \"text-align: right;\">1</td><td style = \"text-align: right;\">22</td><td style = \"text-align: right;\">12</td><td style = \"text-align: right;\">0</td><td style = \"text-align: right;\">0</td><td style = \"text-align: right;\">0</td><td style = \"text-align: right;\">0</td><td style = \"text-align: right;\">6.75999</td><td style = \"text-align: right;\">8.4555</td><td style = \"text-align: right;\">12.5907</td><td style = \"text-align: right;\">484</td><td style = \"text-align: right;\">10648</td><td style = \"text-align: right;\">144</td><td style = \"text-align: right;\">0</td><td style = \"text-align: right;\">0</td><td style = \"text-align: right;\">81.1199</td><td style = \"text-align: right;\">45.6975</td><td style = \"text-align: right;\">71.4955</td></tr><tr><td class = \"rowNumber\" style = \"font-weight: bold; text-align: right;\">16172</td><td style = \"text-align: right;\">1</td><td style = \"text-align: right;\">29</td><td style = \"text-align: right;\">10</td><td style = \"text-align: right;\">0</td><td style = \"text-align: right;\">1</td><td style = \"text-align: right;\">0</td><td style = \"text-align: right;\">1</td><td style = \"text-align: right;\">0.0</td><td style = \"text-align: right;\">8.85367</td><td style = \"text-align: right;\">5.11201</td><td style = \"text-align: right;\">841</td><td style = \"text-align: right;\">24389</td><td style = \"text-align: right;\">100</td><td style = \"text-align: right;\">1</td><td style = \"text-align: right;\">0</td><td style = \"text-align: right;\">0.0</td><td style = \"text-align: right;\">0.0</td><td style = \"text-align: right;\">78.3875</td></tr><tr><td class = \"rowNumber\" style = \"font-weight: bold; text-align: right;\">16173</td><td style = \"text-align: right;\">1</td><td style = \"text-align: right;\">33</td><td style = \"text-align: right;\">12</td><td style = \"text-align: right;\">1</td><td style = \"text-align: right;\">0</td><td style = \"text-align: right;\">1</td><td style = \"text-align: right;\">0</td><td style = \"text-align: right;\">20.2799</td><td style = \"text-align: right;\">10.9413</td><td style = \"text-align: right;\">15.9526</td><td style = \"text-align: right;\">1089</td><td style = \"text-align: right;\">35937</td><td style = \"text-align: right;\">144</td><td style = \"text-align: right;\">0</td><td style = \"text-align: right;\">0</td><td style = \"text-align: right;\">243.359</td><td style = \"text-align: right;\">411.276</td><td style = \"text-align: right;\">119.713</td></tr><tr><td class = \"rowNumber\" style = \"font-weight: bold; text-align: right;\">16174</td><td style = \"text-align: right;\">1</td><td style = \"text-align: right;\">25</td><td style = \"text-align: right;\">14</td><td style = \"text-align: right;\">1</td><td style = \"text-align: right;\">0</td><td style = \"text-align: right;\">1</td><td style = \"text-align: right;\">0</td><td style = \"text-align: right;\">35.0401</td><td style = \"text-align: right;\">11.5366</td><td style = \"text-align: right;\">36.6469</td><td style = \"text-align: right;\">625</td><td style = \"text-align: right;\">15625</td><td style = \"text-align: right;\">196</td><td style = \"text-align: right;\">0</td><td style = \"text-align: right;\">0</td><td style = \"text-align: right;\">490.561</td><td style = \"text-align: right;\">1227.81</td><td style = \"text-align: right;\">133.092</td></tr><tr><td class = \"rowNumber\" style = \"font-weight: bold; text-align: right;\">16175</td><td style = \"text-align: right;\">1</td><td style = \"text-align: right;\">35</td><td style = \"text-align: right;\">9</td><td style = \"text-align: right;\">1</td><td style = \"text-align: right;\">0</td><td style = \"text-align: right;\">1</td><td style = \"text-align: right;\">1</td><td style = \"text-align: right;\">13.6024</td><td style = \"text-align: right;\">13.8306</td><td style = \"text-align: right;\">12.804</td><td style = \"text-align: right;\">1225</td><td style = \"text-align: right;\">42875</td><td style = \"text-align: right;\">81</td><td style = \"text-align: right;\">0</td><td style = \"text-align: right;\">0</td><td style = \"text-align: right;\">122.422</td><td style = \"text-align: right;\">185.026</td><td style = \"text-align: right;\">191.287</td></tr><tr><td class = \"rowNumber\" style = \"font-weight: bold; text-align: right;\">16176</td><td style = \"text-align: right;\">1</td><td style = \"text-align: right;\">35</td><td style = \"text-align: right;\">8</td><td style = \"text-align: right;\">1</td><td style = \"text-align: right;\">0</td><td style = \"text-align: right;\">1</td><td style = \"text-align: right;\">1</td><td style = \"text-align: right;\">13.7321</td><td style = \"text-align: right;\">17.9762</td><td style = \"text-align: right;\">3.78663</td><td style = \"text-align: right;\">1225</td><td style = \"text-align: right;\">42875</td><td style = \"text-align: right;\">64</td><td style = \"text-align: right;\">0</td><td style = \"text-align: right;\">0</td><td style = \"text-align: right;\">109.857</td><td style = \"text-align: right;\">188.57</td><td style = \"text-align: right;\">323.142</td></tr><tr><td class = \"rowNumber\" style = \"font-weight: bold; text-align: right;\">16177</td><td style = \"text-align: right;\">1</td><td style = \"text-align: right;\">33</td><td style = \"text-align: right;\">11</td><td style = \"text-align: right;\">1</td><td style = \"text-align: right;\">0</td><td style = \"text-align: right;\">1</td><td style = \"text-align: right;\">1</td><td style = \"text-align: right;\">14.6607</td><td style = \"text-align: right;\">25.1422</td><td style = \"text-align: right;\">4.18194</td><td style = \"text-align: right;\">1089</td><td style = \"text-align: right;\">35937</td><td style = \"text-align: right;\">121</td><td style = \"text-align: right;\">0</td><td style = \"text-align: right;\">0</td><td style = \"text-align: right;\">161.268</td><td style = \"text-align: right;\">214.936</td><td style = \"text-align: right;\">632.132</td></tr></tbody></table></div>"
      ],
      "text/latex": [
       "\\begin{tabular}{r|ccccccccccc}\n",
       "\t& treat & age & educ & black & hisp & marr & nodegree & re74 & re75 & re78 & \\\\\n",
       "\t\\hline\n",
       "\t& Int64 & Int64 & Int64 & Int64 & Int64 & Int64 & Int64 & Float64 & Float64 & Float64 & \\\\\n",
       "\t\\hline\n",
       "\t1 & 0 & 45 & 11 & 0 & 0 & 1 & 1 & 21.5167 & 25.2436 & 25.5647 & $\\dots$ \\\\\n",
       "\t2 & 0 & 21 & 14 & 0 & 0 & 0 & 0 & 3.17597 & 5.85256 & 13.4961 & $\\dots$ \\\\\n",
       "\t3 & 0 & 38 & 12 & 0 & 0 & 1 & 0 & 23.039 & 25.1308 & 25.5647 & $\\dots$ \\\\\n",
       "\t4 & 0 & 48 & 6 & 0 & 0 & 1 & 1 & 24.9944 & 25.2436 & 25.5647 & $\\dots$ \\\\\n",
       "\t5 & 0 & 18 & 8 & 0 & 0 & 1 & 1 & 1.6693 & 10.7276 & 9.86087 & $\\dots$ \\\\\n",
       "\t6 & 0 & 22 & 11 & 0 & 0 & 1 & 1 & 16.3658 & 18.4493 & 25.5647 & $\\dots$ \\\\\n",
       "\t7 & 0 & 48 & 10 & 0 & 0 & 1 & 1 & 16.8046 & 16.3546 & 18.0593 & $\\dots$ \\\\\n",
       "\t8 & 0 & 18 & 11 & 0 & 0 & 0 & 1 & 1.14421 & 3.62003 & 15.7393 & $\\dots$ \\\\\n",
       "\t9 & 0 & 48 & 9 & 0 & 0 & 1 & 1 & 25.8623 & 25.2436 & 25.5647 & $\\dots$ \\\\\n",
       "\t10 & 0 & 45 & 12 & 0 & 0 & 1 & 0 & 25.8623 & 0.0 & 3.92484 & $\\dots$ \\\\\n",
       "\t11 & 0 & 34 & 14 & 0 & 0 & 1 & 0 & 25.8623 & 23.7468 & 25.5647 & $\\dots$ \\\\\n",
       "\t12 & 0 & 16 & 10 & 0 & 0 & 0 & 1 & 1.02666 & 1.22458 & 6.84779 & $\\dots$ \\\\\n",
       "\t13 & 0 & 53 & 10 & 0 & 0 & 1 & 1 & 25.8623 & 25.2436 & 25.5647 & $\\dots$ \\\\\n",
       "\t14 & 0 & 19 & 12 & 0 & 0 & 0 & 0 & 0.867955 & 4.38629 & 8.7777 & $\\dots$ \\\\\n",
       "\t15 & 0 & 27 & 12 & 0 & 0 & 1 & 0 & 25.8623 & 19.0472 & 19.2149 & $\\dots$ \\\\\n",
       "\t16 & 0 & 32 & 10 & 0 & 0 & 1 & 1 & 20.4273 & 23.3744 & 9.17964 & $\\dots$ \\\\\n",
       "\t17 & 0 & 27 & 12 & 0 & 0 & 1 & 0 & 20.9838 & 14.8221 & 25.5647 & $\\dots$ \\\\\n",
       "\t18 & 0 & 46 & 7 & 0 & 0 & 1 & 1 & 19.1714 & 1.31768 & 0.0 & $\\dots$ \\\\\n",
       "\t19 & 0 & 24 & 13 & 0 & 0 & 0 & 0 & 20.8309 & 25.2436 & 23.9037 & $\\dots$ \\\\\n",
       "\t20 & 0 & 22 & 13 & 0 & 0 & 0 & 0 & 11.0365 & 10.3517 & 6.55667 & $\\dots$ \\\\\n",
       "\t21 & 0 & 49 & 10 & 0 & 0 & 1 & 1 & 0.391853 & 0.0 & 0.0 & $\\dots$ \\\\\n",
       "\t22 & 0 & 17 & 10 & 0 & 0 & 0 & 1 & 0.0 & 0.0 & 4.75532 & $\\dots$ \\\\\n",
       "\t23 & 0 & 29 & 14 & 0 & 0 & 1 & 0 & 21.499 & 22.5867 & 20.9231 & $\\dots$ \\\\\n",
       "\t24 & 0 & 28 & 16 & 0 & 0 & 1 & 0 & 16.5009 & 0.0 & 10.2672 & $\\dots$ \\\\\n",
       "\t$\\dots$ & $\\dots$ & $\\dots$ & $\\dots$ & $\\dots$ & $\\dots$ & $\\dots$ & $\\dots$ & $\\dots$ & $\\dots$ & $\\dots$ &  \\\\\n",
       "\\end{tabular}\n"
      ],
      "text/plain": [
       "\u001b[1m16177×18 DataFrame\u001b[0m\n",
       "\u001b[1m   Row \u001b[0m│\u001b[1m treat \u001b[0m\u001b[1m age   \u001b[0m\u001b[1m educ  \u001b[0m\u001b[1m black \u001b[0m\u001b[1m hisp  \u001b[0m\u001b[1m marr  \u001b[0m\u001b[1m nodegree \u001b[0m\u001b[1m re74     \u001b[0m\u001b[1m re75   \u001b[0m ⋯\n",
       "       │\u001b[90m Int64 \u001b[0m\u001b[90m Int64 \u001b[0m\u001b[90m Int64 \u001b[0m\u001b[90m Int64 \u001b[0m\u001b[90m Int64 \u001b[0m\u001b[90m Int64 \u001b[0m\u001b[90m Int64    \u001b[0m\u001b[90m Float64  \u001b[0m\u001b[90m Float64\u001b[0m ⋯\n",
       "───────┼────────────────────────────────────────────────────────────────────────\n",
       "     1 │     0     45     11      0      0      1         1  21.5167   25.2436 ⋯\n",
       "     2 │     0     21     14      0      0      0         0   3.17597   5.8525\n",
       "     3 │     0     38     12      0      0      1         0  23.039    25.1308\n",
       "     4 │     0     48      6      0      0      1         1  24.9944   25.2436\n",
       "     5 │     0     18      8      0      0      1         1   1.6693   10.7276 ⋯\n",
       "     6 │     0     22     11      0      0      1         1  16.3658   18.4493\n",
       "     7 │     0     48     10      0      0      1         1  16.8046   16.3546\n",
       "     8 │     0     18     11      0      0      0         1   1.14421   3.6200\n",
       "   ⋮   │   ⋮      ⋮      ⋮      ⋮      ⋮      ⋮       ⋮         ⋮         ⋮    ⋱\n",
       " 16171 │     1     22     12      0      0      0         0   6.75999   8.4555 ⋯\n",
       " 16172 │     1     29     10      0      1      0         1   0.0       8.8536\n",
       " 16173 │     1     33     12      1      0      1         0  20.2799   10.9413\n",
       " 16174 │     1     25     14      1      0      1         0  35.0401   11.5366\n",
       " 16175 │     1     35      9      1      0      1         1  13.6024   13.8306 ⋯\n",
       " 16176 │     1     35      8      1      0      1         1  13.7321   17.9762\n",
       " 16177 │     1     33     11      1      0      1         1  14.6607   25.1422\n",
       "\u001b[36m                                               10 columns and 16162 rows omitted\u001b[0m"
      ]
     },
     "metadata": {},
     "output_type": "display_data"
    }
   ],
   "source": [
    "data_part2 = CSV.read(\"C:/Users/almen/OneDrive/Escritorio/subir repor5/CausalAI-Course/Labs/Assignment/Assignment_5/data/observational/biased_control.csv\", DataFrame)"
   ]
  },
  {
   "cell_type": "code",
   "execution_count": 34,
   "metadata": {},
   "outputs": [
    {
     "data": {
      "text/html": [
       "<div><div style = \"float: left;\"><span>5×18 DataFrame</span></div><div style = \"clear: both;\"></div></div><div class = \"data-frame\" style = \"overflow-x: scroll;\"><table class = \"data-frame\" style = \"margin-bottom: 6px;\"><thead><tr class = \"header\"><th class = \"rowNumber\" style = \"font-weight: bold; text-align: right;\">Row</th><th style = \"text-align: left;\">treat</th><th style = \"text-align: left;\">age</th><th style = \"text-align: left;\">educ</th><th style = \"text-align: left;\">black</th><th style = \"text-align: left;\">hisp</th><th style = \"text-align: left;\">marr</th><th style = \"text-align: left;\">nodegree</th><th style = \"text-align: left;\">re74</th><th style = \"text-align: left;\">re75</th><th style = \"text-align: left;\">re78</th><th style = \"text-align: left;\">agesq</th><th style = \"text-align: left;\">agecube</th><th style = \"text-align: left;\">educsq</th><th style = \"text-align: left;\">u74</th><th style = \"text-align: left;\">u75</th><th style = \"text-align: left;\">interaction1</th><th style = \"text-align: left;\">re74sq</th><th style = \"text-align: left;\">re75sq</th></tr><tr class = \"subheader headerLastRow\"><th class = \"rowNumber\" style = \"font-weight: bold; text-align: right;\"></th><th title = \"Int64\" style = \"text-align: left;\">Int64</th><th title = \"Float64\" style = \"text-align: left;\">Float64</th><th title = \"Float64\" style = \"text-align: left;\">Float64</th><th title = \"Int64\" style = \"text-align: left;\">Int64</th><th title = \"Int64\" style = \"text-align: left;\">Int64</th><th title = \"Int64\" style = \"text-align: left;\">Int64</th><th title = \"Int64\" style = \"text-align: left;\">Int64</th><th title = \"Float64\" style = \"text-align: left;\">Float64</th><th title = \"Float64\" style = \"text-align: left;\">Float64</th><th title = \"Float64\" style = \"text-align: left;\">Float64</th><th title = \"Float64\" style = \"text-align: left;\">Float64</th><th title = \"Float64\" style = \"text-align: left;\">Float64</th><th title = \"Float64\" style = \"text-align: left;\">Float64</th><th title = \"Int64\" style = \"text-align: left;\">Int64</th><th title = \"Int64\" style = \"text-align: left;\">Int64</th><th title = \"Float64\" style = \"text-align: left;\">Float64</th><th title = \"Float64\" style = \"text-align: left;\">Float64</th><th title = \"Float64\" style = \"text-align: left;\">Float64</th></tr></thead><tbody><tr><td class = \"rowNumber\" style = \"font-weight: bold; text-align: right;\">1</td><td style = \"text-align: right;\">0</td><td style = \"text-align: right;\">1.07457</td><td style = \"text-align: right;\">-0.351563</td><td style = \"text-align: right;\">0</td><td style = \"text-align: right;\">0</td><td style = \"text-align: right;\">1</td><td style = \"text-align: right;\">1</td><td style = \"text-align: right;\">0.794352</td><td style = \"text-align: right;\">1.25965</td><td style = \"text-align: right;\">1.11831</td><td style = \"text-align: right;\">1.02738</td><td style = \"text-align: right;\">0.935689</td><td style = \"text-align: right;\">-0.46859</td><td style = \"text-align: right;\">0</td><td style = \"text-align: right;\">0</td><td style = \"text-align: right;\">0.518815</td><td style = \"text-align: right;\">0.682789</td><td style = \"text-align: right;\">1.48892</td></tr><tr><td class = \"rowNumber\" style = \"font-weight: bold; text-align: right;\">2</td><td style = \"text-align: right;\">0</td><td style = \"text-align: right;\">-1.10003</td><td style = \"text-align: right;\">0.694461</td><td style = \"text-align: right;\">0</td><td style = \"text-align: right;\">0</td><td style = \"text-align: right;\">0</td><td style = \"text-align: right;\">0</td><td style = \"text-align: right;\">-1.11353</td><td style = \"text-align: right;\">-0.82245</td><td style = \"text-align: right;\">-0.129604</td><td style = \"text-align: right;\">-0.994422</td><td style = \"text-align: right;\">-0.882194</td><td style = \"text-align: right;\">0.649806</td><td style = \"text-align: right;\">0</td><td style = \"text-align: right;\">0</td><td style = \"text-align: right;\">-0.964524</td><td style = \"text-align: right;\">-1.05545</td><td style = \"text-align: right;\">-0.951227</td></tr><tr><td class = \"rowNumber\" style = \"font-weight: bold; text-align: right;\">3</td><td style = \"text-align: right;\">0</td><td style = \"text-align: right;\">0.440311</td><td style = \"text-align: right;\">-0.0028882</td><td style = \"text-align: right;\">0</td><td style = \"text-align: right;\">0</td><td style = \"text-align: right;\">1</td><td style = \"text-align: right;\">0</td><td style = \"text-align: right;\">0.952714</td><td style = \"text-align: right;\">1.24753</td><td style = \"text-align: right;\">1.11831</td><td style = \"text-align: right;\">0.285796</td><td style = \"text-align: right;\">0.13065</td><td style = \"text-align: right;\">-0.125615</td><td style = \"text-align: right;\">0</td><td style = \"text-align: right;\">0</td><td style = \"text-align: right;\">0.825831</td><td style = \"text-align: right;\">0.943132</td><td style = \"text-align: right;\">1.46592</td></tr><tr><td class = \"rowNumber\" style = \"font-weight: bold; text-align: right;\">4</td><td style = \"text-align: right;\">0</td><td style = \"text-align: right;\">1.34639</td><td style = \"text-align: right;\">-2.09494</td><td style = \"text-align: right;\">0</td><td style = \"text-align: right;\">0</td><td style = \"text-align: right;\">1</td><td style = \"text-align: right;\">1</td><td style = \"text-align: right;\">1.15612</td><td style = \"text-align: right;\">1.25965</td><td style = \"text-align: right;\">1.11831</td><td style = \"text-align: right;\">1.38349</td><td style = \"text-align: right;\">1.36798</td><td style = \"text-align: right;\">-1.73611</td><td style = \"text-align: right;\">0</td><td style = \"text-align: right;\">0</td><td style = \"text-align: right;\">-0.150372</td><td style = \"text-align: right;\">1.30362</td><td style = \"text-align: right;\">1.48892</td></tr><tr><td class = \"rowNumber\" style = \"font-weight: bold; text-align: right;\">5</td><td style = \"text-align: right;\">0</td><td style = \"text-align: right;\">-1.37186</td><td style = \"text-align: right;\">-1.39759</td><td style = \"text-align: right;\">0</td><td style = \"text-align: right;\">0</td><td style = \"text-align: right;\">1</td><td style = \"text-align: right;\">1</td><td style = \"text-align: right;\">-1.27026</td><td style = \"text-align: right;\">-0.298995</td><td style = \"text-align: right;\">-0.505492</td><td style = \"text-align: right;\">-1.14376</td><td style = \"text-align: right;\">-0.958339</td><td style = \"text-align: right;\">-1.31857</td><td style = \"text-align: right;\">0</td><td style = \"text-align: right;\">0</td><td style = \"text-align: right;\">-1.20459</td><td style = \"text-align: right;\">-1.08347</td><td style = \"text-align: right;\">-0.624129</td></tr></tbody></table></div>"
      ],
      "text/latex": [
       "\\begin{tabular}{r|cccccccccc}\n",
       "\t& treat & age & educ & black & hisp & marr & nodegree & re74 & re75 & \\\\\n",
       "\t\\hline\n",
       "\t& Int64 & Float64 & Float64 & Int64 & Int64 & Int64 & Int64 & Float64 & Float64 & \\\\\n",
       "\t\\hline\n",
       "\t1 & 0 & 1.07457 & -0.351563 & 0 & 0 & 1 & 1 & 0.794352 & 1.25965 & $\\dots$ \\\\\n",
       "\t2 & 0 & -1.10003 & 0.694461 & 0 & 0 & 0 & 0 & -1.11353 & -0.82245 & $\\dots$ \\\\\n",
       "\t3 & 0 & 0.440311 & -0.0028882 & 0 & 0 & 1 & 0 & 0.952714 & 1.24753 & $\\dots$ \\\\\n",
       "\t4 & 0 & 1.34639 & -2.09494 & 0 & 0 & 1 & 1 & 1.15612 & 1.25965 & $\\dots$ \\\\\n",
       "\t5 & 0 & -1.37186 & -1.39759 & 0 & 0 & 1 & 1 & -1.27026 & -0.298995 & $\\dots$ \\\\\n",
       "\\end{tabular}\n"
      ],
      "text/plain": [
       "\u001b[1m5×18 DataFrame\u001b[0m\n",
       "\u001b[1m Row \u001b[0m│\u001b[1m treat \u001b[0m\u001b[1m age       \u001b[0m\u001b[1m educ       \u001b[0m\u001b[1m black \u001b[0m\u001b[1m hisp  \u001b[0m\u001b[1m marr  \u001b[0m\u001b[1m nodegree \u001b[0m\u001b[1m re74      \u001b[0m\u001b[1m\u001b[0m ⋯\n",
       "     │\u001b[90m Int64 \u001b[0m\u001b[90m Float64   \u001b[0m\u001b[90m Float64    \u001b[0m\u001b[90m Int64 \u001b[0m\u001b[90m Int64 \u001b[0m\u001b[90m Int64 \u001b[0m\u001b[90m Int64    \u001b[0m\u001b[90m Float64   \u001b[0m\u001b[90m\u001b[0m ⋯\n",
       "─────┼──────────────────────────────────────────────────────────────────────────\n",
       "   1 │     0   1.07457   -0.351563       0      0      1         1   0.794352  ⋯\n",
       "   2 │     0  -1.10003    0.694461       0      0      0         0  -1.11353\n",
       "   3 │     0   0.440311  -0.0028882      0      0      1         0   0.952714\n",
       "   4 │     0   1.34639   -2.09494        0      0      1         1   1.15612\n",
       "   5 │     0  -1.37186   -1.39759        0      0      1         1  -1.27026   ⋯\n",
       "\u001b[36m                                                              10 columns omitted\u001b[0m"
      ]
     },
     "metadata": {},
     "output_type": "display_data"
    }
   ],
   "source": [
    "numeric_columns = [:age, :educ, :re74, :re75, :re78, :agesq, :agecube, :educsq, :interaction1, :re74sq, :re75sq]\n",
    "x_numeric = select(data_part2, numeric_columns)\n",
    "\n",
    "for col in numeric_columns\n",
    "    data_part2[!, col] = (data_part2[!, col] .- mean(data_part2[!, col])) ./ std(data_part2[!, col])\n",
    "end\n",
    "\n",
    "first(data_part2, 5)  # Muestra las primeras 5 filas del DataFrame\n"
   ]
  },
  {
   "cell_type": "markdown",
   "metadata": {},
   "source": [
    "2.2. Group comparisons (1.5 points). For the treatment and control group separately, report summary statistics of three variables of your choice. Can you spot any big differences between the treatment and control groups?"
   ]
  },
  {
   "cell_type": "code",
   "execution_count": 35,
   "metadata": {},
   "outputs": [
    {
     "data": {
      "text/html": [
       "<div><div style = \"float: left;\"><span>185×18 DataFrame</span></div><div style = \"float: right;\"><span style = \"font-style: italic;\">160 rows omitted</span></div><div style = \"clear: both;\"></div></div><div class = \"data-frame\" style = \"overflow-x: scroll;\"><table class = \"data-frame\" style = \"margin-bottom: 6px;\"><thead><tr class = \"header\"><th class = \"rowNumber\" style = \"font-weight: bold; text-align: right;\">Row</th><th style = \"text-align: left;\">treat</th><th style = \"text-align: left;\">age</th><th style = \"text-align: left;\">educ</th><th style = \"text-align: left;\">black</th><th style = \"text-align: left;\">hisp</th><th style = \"text-align: left;\">marr</th><th style = \"text-align: left;\">nodegree</th><th style = \"text-align: left;\">re74</th><th style = \"text-align: left;\">re75</th><th style = \"text-align: left;\">re78</th><th style = \"text-align: left;\">agesq</th><th style = \"text-align: left;\">agecube</th><th style = \"text-align: left;\">educsq</th><th style = \"text-align: left;\">u74</th><th style = \"text-align: left;\">u75</th><th style = \"text-align: left;\">interaction1</th><th style = \"text-align: left;\">re74sq</th><th style = \"text-align: left;\">re75sq</th></tr><tr class = \"subheader headerLastRow\"><th class = \"rowNumber\" style = \"font-weight: bold; text-align: right;\"></th><th title = \"Int64\" style = \"text-align: left;\">Int64</th><th title = \"Float64\" style = \"text-align: left;\">Float64</th><th title = \"Float64\" style = \"text-align: left;\">Float64</th><th title = \"Int64\" style = \"text-align: left;\">Int64</th><th title = \"Int64\" style = \"text-align: left;\">Int64</th><th title = \"Int64\" style = \"text-align: left;\">Int64</th><th title = \"Int64\" style = \"text-align: left;\">Int64</th><th title = \"Float64\" style = \"text-align: left;\">Float64</th><th title = \"Float64\" style = \"text-align: left;\">Float64</th><th title = \"Float64\" style = \"text-align: left;\">Float64</th><th title = \"Float64\" style = \"text-align: left;\">Float64</th><th title = \"Float64\" style = \"text-align: left;\">Float64</th><th title = \"Float64\" style = \"text-align: left;\">Float64</th><th title = \"Int64\" style = \"text-align: left;\">Int64</th><th title = \"Int64\" style = \"text-align: left;\">Int64</th><th title = \"Float64\" style = \"text-align: left;\">Float64</th><th title = \"Float64\" style = \"text-align: left;\">Float64</th><th title = \"Float64\" style = \"text-align: left;\">Float64</th></tr></thead><tbody><tr><td class = \"rowNumber\" style = \"font-weight: bold; text-align: right;\">1</td><td style = \"text-align: right;\">1</td><td style = \"text-align: right;\">0.349702</td><td style = \"text-align: right;\">-0.351563</td><td style = \"text-align: right;\">1</td><td style = \"text-align: right;\">0</td><td style = \"text-align: right;\">1</td><td style = \"text-align: right;\">1</td><td style = \"text-align: right;\">-1.44391</td><td style = \"text-align: right;\">-1.45087</td><td style = \"text-align: right;\">-0.498339</td><td style = \"text-align: right;\">0.190067</td><td style = \"text-align: right;\">0.0369623</td><td style = \"text-align: right;\">-0.46859</td><td style = \"text-align: right;\">1</td><td style = \"text-align: right;\">1</td><td style = \"text-align: right;\">-1.30765</td><td style = \"text-align: right;\">-1.09417</td><td style = \"text-align: right;\">-1.08984</td></tr><tr><td class = \"rowNumber\" style = \"font-weight: bold; text-align: right;\">2</td><td style = \"text-align: right;\">1</td><td style = \"text-align: right;\">-1.00942</td><td style = \"text-align: right;\">-1.04891</td><td style = \"text-align: right;\">0</td><td style = \"text-align: right;\">1</td><td style = \"text-align: right;\">0</td><td style = \"text-align: right;\">1</td><td style = \"text-align: right;\">-1.44391</td><td style = \"text-align: right;\">-1.45087</td><td style = \"text-align: right;\">-1.1533</td><td style = \"text-align: right;\">-0.939537</td><td style = \"text-align: right;\">-0.851394</td><td style = \"text-align: right;\">-1.06507</td><td style = \"text-align: right;\">1</td><td style = \"text-align: right;\">1</td><td style = \"text-align: right;\">-1.30765</td><td style = \"text-align: right;\">-1.09417</td><td style = \"text-align: right;\">-1.08984</td></tr><tr><td class = \"rowNumber\" style = \"font-weight: bold; text-align: right;\">3</td><td style = \"text-align: right;\">1</td><td style = \"text-align: right;\">-0.284556</td><td style = \"text-align: right;\">-0.0028882</td><td style = \"text-align: right;\">1</td><td style = \"text-align: right;\">0</td><td style = \"text-align: right;\">0</td><td style = \"text-align: right;\">0</td><td style = \"text-align: right;\">-1.44391</td><td style = \"text-align: right;\">-1.45087</td><td style = \"text-align: right;\">1.05056</td><td style = \"text-align: right;\">-0.40856</td><td style = \"text-align: right;\">-0.48828</td><td style = \"text-align: right;\">-0.125615</td><td style = \"text-align: right;\">1</td><td style = \"text-align: right;\">1</td><td style = \"text-align: right;\">-1.30765</td><td style = \"text-align: right;\">-1.09417</td><td style = \"text-align: right;\">-1.08984</td></tr><tr><td class = \"rowNumber\" style = \"font-weight: bold; text-align: right;\">4</td><td style = \"text-align: right;\">1</td><td style = \"text-align: right;\">-0.556381</td><td style = \"text-align: right;\">-0.351563</td><td style = \"text-align: right;\">1</td><td style = \"text-align: right;\">0</td><td style = \"text-align: right;\">0</td><td style = \"text-align: right;\">1</td><td style = \"text-align: right;\">-1.44391</td><td style = \"text-align: right;\">-1.45087</td><td style = \"text-align: right;\">-0.748975</td><td style = \"text-align: right;\">-0.626822</td><td style = \"text-align: right;\">-0.650762</td><td style = \"text-align: right;\">-0.46859</td><td style = \"text-align: right;\">1</td><td style = \"text-align: right;\">1</td><td style = \"text-align: right;\">-1.30765</td><td style = \"text-align: right;\">-1.09417</td><td style = \"text-align: right;\">-1.08984</td></tr><tr><td class = \"rowNumber\" style = \"font-weight: bold; text-align: right;\">5</td><td style = \"text-align: right;\">1</td><td style = \"text-align: right;\">-0.0127312</td><td style = \"text-align: right;\">-1.39759</td><td style = \"text-align: right;\">1</td><td style = \"text-align: right;\">0</td><td style = \"text-align: right;\">0</td><td style = \"text-align: right;\">1</td><td style = \"text-align: right;\">-1.44391</td><td style = \"text-align: right;\">-1.45087</td><td style = \"text-align: right;\">-1.49516</td><td style = \"text-align: right;\">-0.167322</td><td style = \"text-align: right;\">-0.289823</td><td style = \"text-align: right;\">-1.31857</td><td style = \"text-align: right;\">1</td><td style = \"text-align: right;\">1</td><td style = \"text-align: right;\">-1.30765</td><td style = \"text-align: right;\">-1.09417</td><td style = \"text-align: right;\">-1.08984</td></tr><tr><td class = \"rowNumber\" style = \"font-weight: bold; text-align: right;\">6</td><td style = \"text-align: right;\">1</td><td style = \"text-align: right;\">-1.00942</td><td style = \"text-align: right;\">-1.04891</td><td style = \"text-align: right;\">1</td><td style = \"text-align: right;\">0</td><td style = \"text-align: right;\">0</td><td style = \"text-align: right;\">1</td><td style = \"text-align: right;\">-1.44391</td><td style = \"text-align: right;\">-1.45087</td><td style = \"text-align: right;\">-1.10568</td><td style = \"text-align: right;\">-0.939537</td><td style = \"text-align: right;\">-0.851394</td><td style = \"text-align: right;\">-1.06507</td><td style = \"text-align: right;\">1</td><td style = \"text-align: right;\">1</td><td style = \"text-align: right;\">-1.30765</td><td style = \"text-align: right;\">-1.09417</td><td style = \"text-align: right;\">-1.08984</td></tr><tr><td class = \"rowNumber\" style = \"font-weight: bold; text-align: right;\">7</td><td style = \"text-align: right;\">1</td><td style = \"text-align: right;\">-0.918815</td><td style = \"text-align: right;\">-0.0028882</td><td style = \"text-align: right;\">1</td><td style = \"text-align: right;\">0</td><td style = \"text-align: right;\">0</td><td style = \"text-align: right;\">0</td><td style = \"text-align: right;\">-1.44391</td><td style = \"text-align: right;\">-1.45087</td><td style = \"text-align: right;\">-1.52513</td><td style = \"text-align: right;\">-0.8821</td><td style = \"text-align: right;\">-0.817663</td><td style = \"text-align: right;\">-0.125615</td><td style = \"text-align: right;\">1</td><td style = \"text-align: right;\">1</td><td style = \"text-align: right;\">-1.30765</td><td style = \"text-align: right;\">-1.09417</td><td style = \"text-align: right;\">-1.08984</td></tr><tr><td class = \"rowNumber\" style = \"font-weight: bold; text-align: right;\">8</td><td style = \"text-align: right;\">1</td><td style = \"text-align: right;\">-0.10334</td><td style = \"text-align: right;\">-0.351563</td><td style = \"text-align: right;\">1</td><td style = \"text-align: right;\">0</td><td style = \"text-align: right;\">0</td><td style = \"text-align: right;\">1</td><td style = \"text-align: right;\">-1.44391</td><td style = \"text-align: right;\">-1.45087</td><td style = \"text-align: right;\">-0.649088</td><td style = \"text-align: right;\">-0.250287</td><td style = \"text-align: right;\">-0.360195</td><td style = \"text-align: right;\">-0.46859</td><td style = \"text-align: right;\">1</td><td style = \"text-align: right;\">1</td><td style = \"text-align: right;\">-1.30765</td><td style = \"text-align: right;\">-1.09417</td><td style = \"text-align: right;\">-1.08984</td></tr><tr><td class = \"rowNumber\" style = \"font-weight: bold; text-align: right;\">9</td><td style = \"text-align: right;\">1</td><td style = \"text-align: right;\">-1.00942</td><td style = \"text-align: right;\">1.39181</td><td style = \"text-align: right;\">1</td><td style = \"text-align: right;\">0</td><td style = \"text-align: right;\">0</td><td style = \"text-align: right;\">0</td><td style = \"text-align: right;\">-1.44391</td><td style = \"text-align: right;\">-1.45087</td><td style = \"text-align: right;\">-1.30136</td><td style = \"text-align: right;\">-0.939537</td><td style = \"text-align: right;\">-0.851394</td><td style = \"text-align: right;\">1.54452</td><td style = \"text-align: right;\">1</td><td style = \"text-align: right;\">1</td><td style = \"text-align: right;\">-1.30765</td><td style = \"text-align: right;\">-1.09417</td><td style = \"text-align: right;\">-1.08984</td></tr><tr><td class = \"rowNumber\" style = \"font-weight: bold; text-align: right;\">10</td><td style = \"text-align: right;\">1</td><td style = \"text-align: right;\">-0.0127312</td><td style = \"text-align: right;\">-0.0028882</td><td style = \"text-align: right;\">0</td><td style = \"text-align: right;\">0</td><td style = \"text-align: right;\">1</td><td style = \"text-align: right;\">0</td><td style = \"text-align: right;\">-1.44391</td><td style = \"text-align: right;\">-1.45087</td><td style = \"text-align: right;\">-0.241073</td><td style = \"text-align: right;\">-0.167322</td><td style = \"text-align: right;\">-0.289823</td><td style = \"text-align: right;\">-0.125615</td><td style = \"text-align: right;\">1</td><td style = \"text-align: right;\">1</td><td style = \"text-align: right;\">-1.30765</td><td style = \"text-align: right;\">-1.09417</td><td style = \"text-align: right;\">-1.08984</td></tr><tr><td class = \"rowNumber\" style = \"font-weight: bold; text-align: right;\">11</td><td style = \"text-align: right;\">1</td><td style = \"text-align: right;\">-1.28125</td><td style = \"text-align: right;\">-1.04891</td><td style = \"text-align: right;\">1</td><td style = \"text-align: right;\">0</td><td style = \"text-align: right;\">0</td><td style = \"text-align: right;\">1</td><td style = \"text-align: right;\">-1.44391</td><td style = \"text-align: right;\">-1.45087</td><td style = \"text-align: right;\">-0.679927</td><td style = \"text-align: right;\">-1.09653</td><td style = \"text-align: right;\">-0.935533</td><td style = \"text-align: right;\">-1.06507</td><td style = \"text-align: right;\">1</td><td style = \"text-align: right;\">1</td><td style = \"text-align: right;\">-1.30765</td><td style = \"text-align: right;\">-1.09417</td><td style = \"text-align: right;\">-1.08984</td></tr><tr><td class = \"rowNumber\" style = \"font-weight: bold; text-align: right;\">12</td><td style = \"text-align: right;\">1</td><td style = \"text-align: right;\">-1.10003</td><td style = \"text-align: right;\">0.345786</td><td style = \"text-align: right;\">1</td><td style = \"text-align: right;\">0</td><td style = \"text-align: right;\">0</td><td style = \"text-align: right;\">0</td><td style = \"text-align: right;\">-1.44391</td><td style = \"text-align: right;\">-1.45087</td><td style = \"text-align: right;\">0.242494</td><td style = \"text-align: right;\">-0.994422</td><td style = \"text-align: right;\">-0.882194</td><td style = \"text-align: right;\">0.247183</td><td style = \"text-align: right;\">1</td><td style = \"text-align: right;\">1</td><td style = \"text-align: right;\">-1.30765</td><td style = \"text-align: right;\">-1.09417</td><td style = \"text-align: right;\">-1.08984</td></tr><tr><td class = \"rowNumber\" style = \"font-weight: bold; text-align: right;\">13</td><td style = \"text-align: right;\">1</td><td style = \"text-align: right;\">-1.37186</td><td style = \"text-align: right;\">-1.39759</td><td style = \"text-align: right;\">1</td><td style = \"text-align: right;\">0</td><td style = \"text-align: right;\">0</td><td style = \"text-align: right;\">1</td><td style = \"text-align: right;\">-1.44391</td><td style = \"text-align: right;\">-1.45087</td><td style = \"text-align: right;\">-1.52513</td><td style = \"text-align: right;\">-1.14376</td><td style = \"text-align: right;\">-0.958339</td><td style = \"text-align: right;\">-1.31857</td><td style = \"text-align: right;\">1</td><td style = \"text-align: right;\">1</td><td style = \"text-align: right;\">-1.30765</td><td style = \"text-align: right;\">-1.09417</td><td style = \"text-align: right;\">-1.08984</td></tr><tr><td style = \"text-align: right;\">&vellip;</td><td style = \"text-align: right;\">&vellip;</td><td style = \"text-align: right;\">&vellip;</td><td style = \"text-align: right;\">&vellip;</td><td style = \"text-align: right;\">&vellip;</td><td style = \"text-align: right;\">&vellip;</td><td style = \"text-align: right;\">&vellip;</td><td style = \"text-align: right;\">&vellip;</td><td style = \"text-align: right;\">&vellip;</td><td style = \"text-align: right;\">&vellip;</td><td style = \"text-align: right;\">&vellip;</td><td style = \"text-align: right;\">&vellip;</td><td style = \"text-align: right;\">&vellip;</td><td style = \"text-align: right;\">&vellip;</td><td style = \"text-align: right;\">&vellip;</td><td style = \"text-align: right;\">&vellip;</td><td style = \"text-align: right;\">&vellip;</td><td style = \"text-align: right;\">&vellip;</td><td style = \"text-align: right;\">&vellip;</td></tr><tr><td class = \"rowNumber\" style = \"font-weight: bold; text-align: right;\">174</td><td style = \"text-align: right;\">1</td><td style = \"text-align: right;\">-1.28125</td><td style = \"text-align: right;\">-0.700237</td><td style = \"text-align: right;\">1</td><td style = \"text-align: right;\">0</td><td style = \"text-align: right;\">0</td><td style = \"text-align: right;\">1</td><td style = \"text-align: right;\">-1.01513</td><td style = \"text-align: right;\">-0.800526</td><td style = \"text-align: right;\">-1.52513</td><td style = \"text-align: right;\">-1.09653</td><td style = \"text-align: right;\">-0.935533</td><td style = \"text-align: right;\">-0.781741</td><td style = \"text-align: right;\">0</td><td style = \"text-align: right;\">0</td><td style = \"text-align: right;\">-0.989559</td><td style = \"text-align: right;\">-1.02896</td><td style = \"text-align: right;\">-0.941386</td></tr><tr><td class = \"rowNumber\" style = \"font-weight: bold; text-align: right;\">175</td><td style = \"text-align: right;\">1</td><td style = \"text-align: right;\">-0.64699</td><td style = \"text-align: right;\">-0.700237</td><td style = \"text-align: right;\">1</td><td style = \"text-align: right;\">0</td><td style = \"text-align: right;\">0</td><td style = \"text-align: right;\">1</td><td style = \"text-align: right;\">1.25341</td><td style = \"text-align: right;\">-0.721906</td><td style = \"text-align: right;\">-1.45555</td><td style = \"text-align: right;\">-0.694471</td><td style = \"text-align: right;\">-0.69755</td><td style = \"text-align: right;\">-0.781741</td><td style = \"text-align: right;\">0</td><td style = \"text-align: right;\">0</td><td style = \"text-align: right;\">0.693321</td><td style = \"text-align: right;\">1.48644</td><td style = \"text-align: right;\">-0.903323</td></tr><tr><td class = \"rowNumber\" style = \"font-weight: bold; text-align: right;\">176</td><td style = \"text-align: right;\">1</td><td style = \"text-align: right;\">-0.465773</td><td style = \"text-align: right;\">-0.351563</td><td style = \"text-align: right;\">1</td><td style = \"text-align: right;\">0</td><td style = \"text-align: right;\">0</td><td style = \"text-align: right;\">1</td><td style = \"text-align: right;\">-1.24324</td><td style = \"text-align: right;\">-0.713004</td><td style = \"text-align: right;\">-1.52513</td><td style = \"text-align: right;\">-0.556621</td><td style = \"text-align: right;\">-0.600376</td><td style = \"text-align: right;\">-0.46859</td><td style = \"text-align: right;\">0</td><td style = \"text-align: right;\">0</td><td style = \"text-align: right;\">-1.1439</td><td style = \"text-align: right;\">-1.07989</td><td style = \"text-align: right;\">-0.89874</td></tr><tr><td class = \"rowNumber\" style = \"font-weight: bold; text-align: right;\">177</td><td style = \"text-align: right;\">1</td><td style = \"text-align: right;\">-1.00942</td><td style = \"text-align: right;\">-0.0028882</td><td style = \"text-align: right;\">0</td><td style = \"text-align: right;\">1</td><td style = \"text-align: right;\">1</td><td style = \"text-align: right;\">0</td><td style = \"text-align: right;\">-1.39271</td><td style = \"text-align: right;\">-0.693264</td><td style = \"text-align: right;\">-0.481507</td><td style = \"text-align: right;\">-0.939537</td><td style = \"text-align: right;\">-0.851394</td><td style = \"text-align: right;\">-0.125615</td><td style = \"text-align: right;\">0</td><td style = \"text-align: right;\">0</td><td style = \"text-align: right;\">-1.26206</td><td style = \"text-align: right;\">-1.09324</td><td style = \"text-align: right;\">-0.888378</td></tr><tr><td class = \"rowNumber\" style = \"font-weight: bold; text-align: right;\">178</td><td style = \"text-align: right;\">1</td><td style = \"text-align: right;\">-0.0127312</td><td style = \"text-align: right;\">-0.351563</td><td style = \"text-align: right;\">1</td><td style = \"text-align: right;\">0</td><td style = \"text-align: right;\">0</td><td style = \"text-align: right;\">1</td><td style = \"text-align: right;\">-1.44391</td><td style = \"text-align: right;\">-0.606053</td><td style = \"text-align: right;\">-0.875613</td><td style = \"text-align: right;\">-0.167322</td><td style = \"text-align: right;\">-0.289823</td><td style = \"text-align: right;\">-0.46859</td><td style = \"text-align: right;\">1</td><td style = \"text-align: right;\">0</td><td style = \"text-align: right;\">-1.30765</td><td style = \"text-align: right;\">-1.09417</td><td style = \"text-align: right;\">-0.839327</td></tr><tr><td class = \"rowNumber\" style = \"font-weight: bold; text-align: right;\">179</td><td style = \"text-align: right;\">1</td><td style = \"text-align: right;\">-1.00942</td><td style = \"text-align: right;\">-0.0028882</td><td style = \"text-align: right;\">0</td><td style = \"text-align: right;\">0</td><td style = \"text-align: right;\">0</td><td style = \"text-align: right;\">0</td><td style = \"text-align: right;\">-0.740704</td><td style = \"text-align: right;\">-0.542961</td><td style = \"text-align: right;\">-0.223221</td><td style = \"text-align: right;\">-0.939537</td><td style = \"text-align: right;\">-0.851394</td><td style = \"text-align: right;\">-0.125615</td><td style = \"text-align: right;\">0</td><td style = \"text-align: right;\">0</td><td style = \"text-align: right;\">-0.681651</td><td style = \"text-align: right;\">-0.918772</td><td style = \"text-align: right;\">-0.800512</td></tr><tr><td class = \"rowNumber\" style = \"font-weight: bold; text-align: right;\">180</td><td style = \"text-align: right;\">1</td><td style = \"text-align: right;\">-0.375165</td><td style = \"text-align: right;\">-0.700237</td><td style = \"text-align: right;\">0</td><td style = \"text-align: right;\">1</td><td style = \"text-align: right;\">0</td><td style = \"text-align: right;\">1</td><td style = \"text-align: right;\">-1.44391</td><td style = \"text-align: right;\">-0.500208</td><td style = \"text-align: right;\">-0.996533</td><td style = \"text-align: right;\">-0.483867</td><td style = \"text-align: right;\">-0.54626</td><td style = \"text-align: right;\">-0.781741</td><td style = \"text-align: right;\">1</td><td style = \"text-align: right;\">0</td><td style = \"text-align: right;\">-1.30765</td><td style = \"text-align: right;\">-1.09417</td><td style = \"text-align: right;\">-0.772622</td></tr><tr><td class = \"rowNumber\" style = \"font-weight: bold; text-align: right;\">181</td><td style = \"text-align: right;\">1</td><td style = \"text-align: right;\">-0.0127312</td><td style = \"text-align: right;\">-0.0028882</td><td style = \"text-align: right;\">1</td><td style = \"text-align: right;\">0</td><td style = \"text-align: right;\">1</td><td style = \"text-align: right;\">0</td><td style = \"text-align: right;\">0.665703</td><td style = \"text-align: right;\">-0.276045</td><td style = \"text-align: right;\">0.124405</td><td style = \"text-align: right;\">-0.167322</td><td style = \"text-align: right;\">-0.289823</td><td style = \"text-align: right;\">-0.125615</td><td style = \"text-align: right;\">0</td><td style = \"text-align: right;\">0</td><td style = \"text-align: right;\">0.570333</td><td style = \"text-align: right;\">0.48439</td><td style = \"text-align: right;\">-0.605387</td></tr><tr><td class = \"rowNumber\" style = \"font-weight: bold; text-align: right;\">182</td><td style = \"text-align: right;\">1</td><td style = \"text-align: right;\">-0.737598</td><td style = \"text-align: right;\">0.694461</td><td style = \"text-align: right;\">1</td><td style = \"text-align: right;\">0</td><td style = \"text-align: right;\">1</td><td style = \"text-align: right;\">0</td><td style = \"text-align: right;\">2.20112</td><td style = \"text-align: right;\">-0.212134</td><td style = \"text-align: right;\">2.26424</td><td style = \"text-align: right;\">-0.759566</td><td style = \"text-align: right;\">-0.740874</td><td style = \"text-align: right;\">0.649806</td><td style = \"text-align: right;\">0</td><td style = \"text-align: right;\">0</td><td style = \"text-align: right;\">2.47796</td><td style = \"text-align: right;\">3.61839</td><td style = \"text-align: right;\">-0.551243</td></tr><tr><td class = \"rowNumber\" style = \"font-weight: bold; text-align: right;\">183</td><td style = \"text-align: right;\">1</td><td style = \"text-align: right;\">0.168486</td><td style = \"text-align: right;\">-1.04891</td><td style = \"text-align: right;\">1</td><td style = \"text-align: right;\">0</td><td style = \"text-align: right;\">1</td><td style = \"text-align: right;\">1</td><td style = \"text-align: right;\">-0.028923</td><td style = \"text-align: right;\">0.0341908</td><td style = \"text-align: right;\">-0.20117</td><td style = \"text-align: right;\">0.00626675</td><td style = \"text-align: right;\">-0.135757</td><td style = \"text-align: right;\">-1.06507</td><td style = \"text-align: right;\">0</td><td style = \"text-align: right;\">0</td><td style = \"text-align: right;\">-0.362929</td><td style = \"text-align: right;\">-0.384002</td><td style = \"text-align: right;\">-0.315745</td></tr><tr><td class = \"rowNumber\" style = \"font-weight: bold; text-align: right;\">184</td><td style = \"text-align: right;\">1</td><td style = \"text-align: right;\">0.168486</td><td style = \"text-align: right;\">-1.39759</td><td style = \"text-align: right;\">1</td><td style = \"text-align: right;\">0</td><td style = \"text-align: right;\">1</td><td style = \"text-align: right;\">1</td><td style = \"text-align: right;\">-0.0154371</td><td style = \"text-align: right;\">0.479313</td><td style = \"text-align: right;\">-1.13358</td><td style = \"text-align: right;\">0.00626675</td><td style = \"text-align: right;\">-0.135757</td><td style = \"text-align: right;\">-1.31857</td><td style = \"text-align: right;\">0</td><td style = \"text-align: right;\">0</td><td style = \"text-align: right;\">-0.459894</td><td style = \"text-align: right;\">-0.370401</td><td style = \"text-align: right;\">0.217844</td></tr><tr><td class = \"rowNumber\" style = \"font-weight: bold; text-align: right;\">185</td><td style = \"text-align: right;\">1</td><td style = \"text-align: right;\">-0.0127312</td><td style = \"text-align: right;\">-0.351563</td><td style = \"text-align: right;\">1</td><td style = \"text-align: right;\">0</td><td style = \"text-align: right;\">1</td><td style = \"text-align: right;\">1</td><td style = \"text-align: right;\">0.0811642</td><td style = \"text-align: right;\">1.24877</td><td style = \"text-align: right;\">-1.0927</td><td style = \"text-align: right;\">-0.167322</td><td style = \"text-align: right;\">-0.289823</td><td style = \"text-align: right;\">-0.46859</td><td style = \"text-align: right;\">0</td><td style = \"text-align: right;\">0</td><td style = \"text-align: right;\">-0.0631586</td><td style = \"text-align: right;\">-0.2692</td><td style = \"text-align: right;\">1.46826</td></tr></tbody></table></div>"
      ],
      "text/latex": [
       "\\begin{tabular}{r|cccccccccc}\n",
       "\t& treat & age & educ & black & hisp & marr & nodegree & re74 & re75 & \\\\\n",
       "\t\\hline\n",
       "\t& Int64 & Float64 & Float64 & Int64 & Int64 & Int64 & Int64 & Float64 & Float64 & \\\\\n",
       "\t\\hline\n",
       "\t1 & 1 & 0.349702 & -0.351563 & 1 & 0 & 1 & 1 & -1.44391 & -1.45087 & $\\dots$ \\\\\n",
       "\t2 & 1 & -1.00942 & -1.04891 & 0 & 1 & 0 & 1 & -1.44391 & -1.45087 & $\\dots$ \\\\\n",
       "\t3 & 1 & -0.284556 & -0.0028882 & 1 & 0 & 0 & 0 & -1.44391 & -1.45087 & $\\dots$ \\\\\n",
       "\t4 & 1 & -0.556381 & -0.351563 & 1 & 0 & 0 & 1 & -1.44391 & -1.45087 & $\\dots$ \\\\\n",
       "\t5 & 1 & -0.0127312 & -1.39759 & 1 & 0 & 0 & 1 & -1.44391 & -1.45087 & $\\dots$ \\\\\n",
       "\t6 & 1 & -1.00942 & -1.04891 & 1 & 0 & 0 & 1 & -1.44391 & -1.45087 & $\\dots$ \\\\\n",
       "\t7 & 1 & -0.918815 & -0.0028882 & 1 & 0 & 0 & 0 & -1.44391 & -1.45087 & $\\dots$ \\\\\n",
       "\t8 & 1 & -0.10334 & -0.351563 & 1 & 0 & 0 & 1 & -1.44391 & -1.45087 & $\\dots$ \\\\\n",
       "\t9 & 1 & -1.00942 & 1.39181 & 1 & 0 & 0 & 0 & -1.44391 & -1.45087 & $\\dots$ \\\\\n",
       "\t10 & 1 & -0.0127312 & -0.0028882 & 0 & 0 & 1 & 0 & -1.44391 & -1.45087 & $\\dots$ \\\\\n",
       "\t11 & 1 & -1.28125 & -1.04891 & 1 & 0 & 0 & 1 & -1.44391 & -1.45087 & $\\dots$ \\\\\n",
       "\t12 & 1 & -1.10003 & 0.345786 & 1 & 0 & 0 & 0 & -1.44391 & -1.45087 & $\\dots$ \\\\\n",
       "\t13 & 1 & -1.37186 & -1.39759 & 1 & 0 & 0 & 1 & -1.44391 & -1.45087 & $\\dots$ \\\\\n",
       "\t14 & 1 & -0.556381 & -0.700237 & 1 & 0 & 1 & 1 & -1.44391 & -1.45087 & $\\dots$ \\\\\n",
       "\t15 & 1 & -1.46247 & -1.74626 & 1 & 0 & 0 & 1 & -1.44391 & -1.45087 & $\\dots$ \\\\\n",
       "\t16 & 1 & -1.28125 & -0.700237 & 1 & 0 & 0 & 1 & -1.44391 & -1.45087 & $\\dots$ \\\\\n",
       "\t17 & 1 & -0.556381 & 0.345786 & 1 & 0 & 0 & 0 & -1.44391 & -1.45087 & $\\dots$ \\\\\n",
       "\t18 & 1 & -0.918815 & -0.700237 & 1 & 0 & 0 & 1 & -1.44391 & -1.45087 & $\\dots$ \\\\\n",
       "\t19 & 1 & 0.621527 & -0.0028882 & 1 & 0 & 0 & 0 & -1.44391 & -1.45087 & $\\dots$ \\\\\n",
       "\t20 & 1 & -0.64699 & -0.0028882 & 1 & 0 & 0 & 0 & -1.44391 & -1.45087 & $\\dots$ \\\\\n",
       "\t21 & 1 & -0.918815 & -0.351563 & 1 & 0 & 0 & 1 & -1.44391 & -1.45087 & $\\dots$ \\\\\n",
       "\t22 & 1 & 0.712136 & 0.694461 & 0 & 0 & 0 & 0 & -1.44391 & -1.45087 & $\\dots$ \\\\\n",
       "\t23 & 1 & 0.440311 & -1.04891 & 0 & 0 & 0 & 1 & -1.44391 & -1.45087 & $\\dots$ \\\\\n",
       "\t24 & 1 & -0.828207 & -0.351563 & 1 & 0 & 0 & 1 & -1.44391 & -1.45087 & $\\dots$ \\\\\n",
       "\t$\\dots$ & $\\dots$ & $\\dots$ & $\\dots$ & $\\dots$ & $\\dots$ & $\\dots$ & $\\dots$ & $\\dots$ & $\\dots$ &  \\\\\n",
       "\\end{tabular}\n"
      ],
      "text/plain": [
       "\u001b[1m185×18 DataFrame\u001b[0m\n",
       "\u001b[1m Row \u001b[0m│\u001b[1m treat \u001b[0m\u001b[1m age        \u001b[0m\u001b[1m educ       \u001b[0m\u001b[1m black \u001b[0m\u001b[1m hisp  \u001b[0m\u001b[1m marr  \u001b[0m\u001b[1m nodegree \u001b[0m\u001b[1m re74     \u001b[0m ⋯\n",
       "     │\u001b[90m Int64 \u001b[0m\u001b[90m Float64    \u001b[0m\u001b[90m Float64    \u001b[0m\u001b[90m Int64 \u001b[0m\u001b[90m Int64 \u001b[0m\u001b[90m Int64 \u001b[0m\u001b[90m Int64    \u001b[0m\u001b[90m Float64  \u001b[0m ⋯\n",
       "─────┼──────────────────────────────────────────────────────────────────────────\n",
       "   1 │     1   0.349702   -0.351563       1      0      1         1  -1.44391  ⋯\n",
       "   2 │     1  -1.00942    -1.04891        0      1      0         1  -1.44391\n",
       "   3 │     1  -0.284556   -0.0028882      1      0      0         0  -1.44391\n",
       "   4 │     1  -0.556381   -0.351563       1      0      0         1  -1.44391\n",
       "   5 │     1  -0.0127312  -1.39759        1      0      0         1  -1.44391  ⋯\n",
       "   6 │     1  -1.00942    -1.04891        1      0      0         1  -1.44391\n",
       "   7 │     1  -0.918815   -0.0028882      1      0      0         0  -1.44391\n",
       "   8 │     1  -0.10334    -0.351563       1      0      0         1  -1.44391\n",
       "  ⋮  │   ⋮        ⋮           ⋮         ⋮      ⋮      ⋮       ⋮          ⋮     ⋱\n",
       " 179 │     1  -1.00942    -0.0028882      0      0      0         0  -0.740704 ⋯\n",
       " 180 │     1  -0.375165   -0.700237       0      1      0         1  -1.44391\n",
       " 181 │     1  -0.0127312  -0.0028882      1      0      1         0   0.665703\n",
       " 182 │     1  -0.737598    0.694461       1      0      1         0   2.20112\n",
       " 183 │     1   0.168486   -1.04891        1      0      1         1  -0.028923 ⋯\n",
       " 184 │     1   0.168486   -1.39759        1      0      1         1  -0.015437\n",
       " 185 │     1  -0.0127312  -0.351563       1      0      1         1   0.081164\n",
       "\u001b[36m                                                 11 columns and 170 rows omitted\u001b[0m"
      ]
     },
     "metadata": {},
     "output_type": "display_data"
    }
   ],
   "source": [
    "variables = [:black, :marr, :nodegree]\n",
    "\n",
    "# Grupo control (treat = 0)\n",
    "group_control = filter(:treat => ==(0), data_part2)\n",
    "# Grupo tratado (treat = 1)\n",
    "group_treated = filter(:treat => ==(1), data_part2)\n"
   ]
  },
  {
   "cell_type": "code",
   "execution_count": 36,
   "metadata": {},
   "outputs": [
    {
     "name": "stdout",
     "output_type": "stream",
     "text": [
      "\n",
      "Grupo control (treat=0):\n",
      "Variable: black, Mean: 0.0735367683841921, Sum: 1176, Count: 15992\n",
      "Variable: marr, Mean: 0.7117308654327164, Sum: 11382, Count: 15992\n",
      "Variable: nodegree, Mean: 0.2958354177088544, Sum: 4731, Count: 15992\n",
      "\n",
      "Grupo tratado (treat=1):\n",
      "Variable: black, Mean: 0.8432432432432433, Sum: 156, Count: 185\n",
      "Variable: marr, Mean: 0.1891891891891892, Sum: 35, Count: 185\n",
      "Variable: nodegree, Mean: 0.7081081081081081, Sum: 131, Count: 185\n"
     ]
    }
   ],
   "source": [
    "println(\"\\nGrupo control (treat=0):\")\n",
    "for var in variables\n",
    "    mean_value = mean(group_control[!, var])\n",
    "    sum_value = sum(group_control[!, var])\n",
    "    count_value = size(group_control, 1)\n",
    "    println(\"Variable: $var, Mean: $mean_value, Sum: $sum_value, Count: $count_value\")\n",
    "end\n",
    "\n",
    "println(\"\\nGrupo tratado (treat=1):\")\n",
    "for var in variables\n",
    "    mean_value = mean(group_treated[!, var])\n",
    "    sum_value = sum(group_treated[!, var])\n",
    "    count_value = size(group_treated, 1)\n",
    "    println(\"Variable: $var, Mean: $mean_value, Sum: $sum_value, Count: $count_value\")\n",
    "end\n"
   ]
  },
  {
   "cell_type": "code",
   "execution_count": 37,
   "metadata": {},
   "outputs": [
    {
     "name": "stdout",
     "output_type": "stream",
     "text": [
      "\n",
      "Cambios en características por grupo:\n",
      "People with 'black':\n",
      "  Control group: 7.35367683841921%\n",
      "  Treated group: 84.32432432432432%\n",
      "  Difference: 76.97064748590512%\n",
      "People with 'marr':\n",
      "  Control group: 71.17308654327164%\n",
      "  Treated group: 18.91891891891892%\n",
      "  Difference: -52.25416762435271%\n",
      "People with 'nodegree':\n",
      "  Control group: 29.58354177088544%\n",
      "  Treated group: 70.8108108108108%\n",
      "  Difference: 41.22726903992537%\n"
     ]
    }
   ],
   "source": [
    "println(\"\\nCambios en características por grupo:\")\n",
    "\n",
    "for var in variables\n",
    "    mean_control = mean(group_control[!, var])\n",
    "    mean_treated = mean(group_treated[!, var])\n",
    "    println(\"People with '$var':\")\n",
    "    println(\"  Control group: $(mean_control * 100)%\")\n",
    "    println(\"  Treated group: $(mean_treated * 100)%\")\n",
    "    println(\"  Difference: $((mean_treated - mean_control) * 100)%\")\n",
    "end\n"
   ]
  },
  {
   "cell_type": "markdown",
   "metadata": {},
   "source": [
    "2.3. Compute the SMD (1.5 points). Find the simple difference of means, which we can use as a naive estimate of the ATE. How does the result in this case compare to the result in point 1.2.?"
   ]
  },
  {
   "cell_type": "code",
   "execution_count": 26,
   "metadata": {},
   "outputs": [
    {
     "ename": "UndefVarError",
     "evalue": "UndefVarError: `data_part2` not defined",
     "output_type": "error",
     "traceback": [
      "UndefVarError: `data_part2` not defined\n",
      "\n",
      "Stacktrace:\n",
      " [1] top-level scope\n",
      "   @ c:\\Users\\almen\\OneDrive\\Escritorio\\subir repor5\\CausalAI-Course\\Labs\\Assignment\\Assignment_5\\Group1_Assingment 5\\jl_notebook_cell_df34fa98e69747e1a8f8a730347b8e2f_X14sZmlsZQ==.jl:2"
     ]
    }
   ],
   "source": [
    "# Media de re78 para el grupo tratado\n",
    "mean_treated = mean(filter(:treat => ==(1), data_part2)[:re78])\n",
    "\n",
    "# Media de re78 para el grupo control\n",
    "mean_control = mean(filter(:treat => ==(0), data_part2)[:re78])\n",
    "\n",
    "# ATE (Average Treatment Effect)\n",
    "ate = mean_treated - mean_control\n",
    "\n",
    "println(\"Mean re78 for the treated group: $(round(mean_treated, digits=2))\")\n",
    "println(\"Mean re78 for the control group: $(round(mean_control, digits=2))\")\n",
    "println(\"Average Treatment Effect (ATE): $(round(ate, digits=2))\")\n"
   ]
  },
  {
   "cell_type": "code",
   "execution_count": 27,
   "metadata": {},
   "outputs": [
    {
     "ename": "UndefVarError",
     "evalue": "UndefVarError: `data_part2` not defined",
     "output_type": "error",
     "traceback": [
      "UndefVarError: `data_part2` not defined\n",
      "\n",
      "Stacktrace:\n",
      " [1] top-level scope\n",
      "   @ c:\\Users\\almen\\OneDrive\\Escritorio\\subir repor5\\CausalAI-Course\\Labs\\Assignment\\Assignment_5\\Group1_Assingment 5\\jl_notebook_cell_df34fa98e69747e1a8f8a730347b8e2f_X15sZmlsZQ==.jl:1"
     ]
    }
   ],
   "source": [
    "y = data_part2[!,10]\n",
    "d = data_part2[!,1]\n",
    "x = data_part2[:, Not([1, 10])]"
   ]
  },
  {
   "cell_type": "code",
   "execution_count": 28,
   "metadata": {},
   "outputs": [
    {
     "ename": "UndefVarError",
     "evalue": "UndefVarError: `data_part2` not defined",
     "output_type": "error",
     "traceback": [
      "UndefVarError: `data_part2` not defined\n",
      "\n",
      "Stacktrace:\n",
      " [1] top-level scope\n",
      "   @ c:\\Users\\almen\\OneDrive\\Escritorio\\subir repor5\\CausalAI-Course\\Labs\\Assignment\\Assignment_5\\Group1_Assingment 5\\jl_notebook_cell_df34fa98e69747e1a8f8a730347b8e2f_X16sZmlsZQ==.jl:2"
     ]
    }
   ],
   "source": [
    "# Generar fórmula para el modelo OLS\n",
    "all_columns = join(names(data_part2)[3:end], \" + \")\n",
    "my_formula = \"re78 ~ \" * all_columns\n"
   ]
  },
  {
   "cell_type": "markdown",
   "metadata": {},
   "source": [
    "2.4. Using DML (6 points). Use the DML procedure as we saw in the Lab, in order to find a better estimate of the ATE. You may use the doubleML packages for Python and R, but this package does not exist for Julia, so you will have to build your own procedure like we saw in class. You will be rewarded extra points for using more than one method for predictions. At the end, report the treatment effect you found, as well as the MSE for \n",
    "D\n",
    " and \n",
    "Y\n",
    " achieved by the method(s) you used."
   ]
  }
 ],
 "metadata": {
  "kernelspec": {
   "display_name": "Julia 1.10.4",
   "language": "julia",
   "name": "julia-1.10"
  },
  "language_info": {
   "file_extension": ".jl",
   "mimetype": "application/julia",
   "name": "julia",
   "version": "1.10.4"
  }
 },
 "nbformat": 4,
 "nbformat_minor": 2
}
