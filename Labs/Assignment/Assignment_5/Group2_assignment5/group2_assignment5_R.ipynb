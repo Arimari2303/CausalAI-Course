{
 "cells": [
  {
   "cell_type": "markdown",
   "metadata": {},
   "source": [
    "# **Assignment 5**\n",
    "\n",
    "#### **Group 2**\n",
    "\n",
    "- GARCIA RODRIGUEZ, EMILIO ALONSO\n",
    "- RIEGA NUÑEZ, GABRIEL ANTONIO FERMIN\n",
    "- SALAMANCA FERNANDEZ, LUCAS PABLO\n",
    "- SILVA ANDUJAR, NICOLAS"
   ]
  },
  {
   "cell_type": "markdown",
   "metadata": {},
   "source": [
    "#### **Part 1: Heterogeneous treatment effects using causal trees and forests**\n",
    "\n",
    "\n",
    "------"
   ]
  },
  {
   "cell_type": "markdown",
   "metadata": {},
   "source": [
    "For this part, we will be using experimental data for computing heterogeneous effects through causal trees and forests. For all exercises, the predictors \n",
    "X\n",
    " are all variables that are not the outcome \n",
    "Y\n",
    " or the treatment \n",
    "D\n",
    ".\n",
    "\n",
    "1.1. **Load the data (1 points)**. This is data for and experiment regarding the National Supported Work Demonstration (NSW) job-training program. You can find the data here, and read a description of the data here. For further details of the experiment and the program, you can use this link"
   ]
  },
  {
   "cell_type": "code",
   "execution_count": 1,
   "metadata": {
    "vscode": {
     "languageId": "r"
    }
   },
   "outputs": [],
   "source": [
    "library(pacman)\n",
    "p_load(ISLR2,fastDummies,rpart,grf,hdm,xtable,glmnet,rio,dplyr,tidyr,tidyverse,tree,caret,ISLR,datasets,ggplot2,car,haven,psych,sandwich,randomForest,hdm)"
   ]
  },
  {
   "cell_type": "code",
   "execution_count": 2,
   "metadata": {
    "vscode": {
     "languageId": "r"
    }
   },
   "outputs": [
    {
     "data": {
      "text/html": [
       "<table class=\"dataframe\">\n",
       "<caption>A data.frame: 6 × 10</caption>\n",
       "<thead>\n",
       "\t<tr><th></th><th scope=col>treat</th><th scope=col>age</th><th scope=col>educ</th><th scope=col>black</th><th scope=col>hisp</th><th scope=col>marr</th><th scope=col>nodegree</th><th scope=col>re74</th><th scope=col>re75</th><th scope=col>re78</th></tr>\n",
       "\t<tr><th></th><th scope=col>&lt;int&gt;</th><th scope=col>&lt;int&gt;</th><th scope=col>&lt;int&gt;</th><th scope=col>&lt;int&gt;</th><th scope=col>&lt;int&gt;</th><th scope=col>&lt;int&gt;</th><th scope=col>&lt;int&gt;</th><th scope=col>&lt;dbl&gt;</th><th scope=col>&lt;dbl&gt;</th><th scope=col>&lt;dbl&gt;</th></tr>\n",
       "</thead>\n",
       "<tbody>\n",
       "\t<tr><th scope=row>1</th><td>1</td><td>37</td><td>11</td><td>1</td><td>0</td><td>1</td><td>1</td><td>0</td><td>0</td><td> 9930.0459</td></tr>\n",
       "\t<tr><th scope=row>2</th><td>1</td><td>22</td><td> 9</td><td>0</td><td>1</td><td>0</td><td>1</td><td>0</td><td>0</td><td> 3595.8940</td></tr>\n",
       "\t<tr><th scope=row>3</th><td>1</td><td>30</td><td>12</td><td>1</td><td>0</td><td>0</td><td>0</td><td>0</td><td>0</td><td>24909.4492</td></tr>\n",
       "\t<tr><th scope=row>4</th><td>1</td><td>27</td><td>11</td><td>1</td><td>0</td><td>0</td><td>1</td><td>0</td><td>0</td><td> 7506.1460</td></tr>\n",
       "\t<tr><th scope=row>5</th><td>1</td><td>33</td><td> 8</td><td>1</td><td>0</td><td>0</td><td>1</td><td>0</td><td>0</td><td>  289.7899</td></tr>\n",
       "\t<tr><th scope=row>6</th><td>1</td><td>22</td><td> 9</td><td>1</td><td>0</td><td>0</td><td>1</td><td>0</td><td>0</td><td> 4056.4939</td></tr>\n",
       "</tbody>\n",
       "</table>\n"
      ],
      "text/latex": [
       "A data.frame: 6 × 10\n",
       "\\begin{tabular}{r|llllllllll}\n",
       "  & treat & age & educ & black & hisp & marr & nodegree & re74 & re75 & re78\\\\\n",
       "  & <int> & <int> & <int> & <int> & <int> & <int> & <int> & <dbl> & <dbl> & <dbl>\\\\\n",
       "\\hline\n",
       "\t1 & 1 & 37 & 11 & 1 & 0 & 1 & 1 & 0 & 0 &  9930.0459\\\\\n",
       "\t2 & 1 & 22 &  9 & 0 & 1 & 0 & 1 & 0 & 0 &  3595.8940\\\\\n",
       "\t3 & 1 & 30 & 12 & 1 & 0 & 0 & 0 & 0 & 0 & 24909.4492\\\\\n",
       "\t4 & 1 & 27 & 11 & 1 & 0 & 0 & 1 & 0 & 0 &  7506.1460\\\\\n",
       "\t5 & 1 & 33 &  8 & 1 & 0 & 0 & 1 & 0 & 0 &   289.7899\\\\\n",
       "\t6 & 1 & 22 &  9 & 1 & 0 & 0 & 1 & 0 & 0 &  4056.4939\\\\\n",
       "\\end{tabular}\n"
      ],
      "text/markdown": [
       "\n",
       "A data.frame: 6 × 10\n",
       "\n",
       "| <!--/--> | treat &lt;int&gt; | age &lt;int&gt; | educ &lt;int&gt; | black &lt;int&gt; | hisp &lt;int&gt; | marr &lt;int&gt; | nodegree &lt;int&gt; | re74 &lt;dbl&gt; | re75 &lt;dbl&gt; | re78 &lt;dbl&gt; |\n",
       "|---|---|---|---|---|---|---|---|---|---|---|\n",
       "| 1 | 1 | 37 | 11 | 1 | 0 | 1 | 1 | 0 | 0 |  9930.0459 |\n",
       "| 2 | 1 | 22 |  9 | 0 | 1 | 0 | 1 | 0 | 0 |  3595.8940 |\n",
       "| 3 | 1 | 30 | 12 | 1 | 0 | 0 | 0 | 0 | 0 | 24909.4492 |\n",
       "| 4 | 1 | 27 | 11 | 1 | 0 | 0 | 1 | 0 | 0 |  7506.1460 |\n",
       "| 5 | 1 | 33 |  8 | 1 | 0 | 0 | 1 | 0 | 0 |   289.7899 |\n",
       "| 6 | 1 | 22 |  9 | 1 | 0 | 0 | 1 | 0 | 0 |  4056.4939 |\n",
       "\n"
      ],
      "text/plain": [
       "  treat age educ black hisp marr nodegree re74 re75 re78      \n",
       "1 1     37  11   1     0    1    1        0    0     9930.0459\n",
       "2 1     22   9   0     1    0    1        0    0     3595.8940\n",
       "3 1     30  12   1     0    0    0        0    0    24909.4492\n",
       "4 1     27  11   1     0    0    1        0    0     7506.1460\n",
       "5 1     33   8   1     0    0    1        0    0      289.7899\n",
       "6 1     22   9   1     0    0    1        0    0     4056.4939"
      ]
     },
     "metadata": {},
     "output_type": "display_data"
    }
   ],
   "source": [
    "url <- \"https://raw.githubusercontent.com/d2cml-ai/CausalAI-Course/refs/heads/main/Labs/Assignment/Assignment_5/data/experimental/experimental_control.csv\"\n",
    "data <- import(url)\n",
    "head(data)"
   ]
  },
  {
   "cell_type": "code",
   "execution_count": 3,
   "metadata": {
    "vscode": {
     "languageId": "r"
    }
   },
   "outputs": [
    {
     "data": {
      "text/plain": [
       "\n",
       "  0   1 \n",
       "260 185 "
      ]
     },
     "metadata": {},
     "output_type": "display_data"
    }
   ],
   "source": [
    "table(data$treat) #con esto en mente, haremos 20 divisiones"
   ]
  },
  {
   "cell_type": "markdown",
   "metadata": {},
   "source": [
    "1.2. **Find the ATE (1.5 points)**. With re78 as the outcome variable of interest, find the Average Treatment Effect of participation in the program. Specifically, you should find it by calculating the difference between the means of the treatment group and the control group (the Simple Difference of Means or SDM). What can you say about the program?"
   ]
  },
  {
   "cell_type": "code",
   "execution_count": 4,
   "metadata": {
    "vscode": {
     "languageId": "r"
    }
   },
   "outputs": [
    {
     "data": {
      "text/html": [
       "<table class=\"dataframe\">\n",
       "<caption>A matrix: 2 × 4 of type dbl</caption>\n",
       "<thead>\n",
       "\t<tr><th></th><th scope=col>Estimate</th><th scope=col>Std. Error</th><th scope=col>t value</th><th scope=col>Pr(&gt;|t|)</th></tr>\n",
       "</thead>\n",
       "<tbody>\n",
       "\t<tr><th scope=row>(Intercept)</th><td>4554.801</td><td>408.0459</td><td>11.162474</td><td>1.154114e-25</td></tr>\n",
       "\t<tr><th scope=row>treat</th><td>1794.342</td><td>632.8534</td><td> 2.835321</td><td>4.787530e-03</td></tr>\n",
       "</tbody>\n",
       "</table>\n"
      ],
      "text/latex": [
       "A matrix: 2 × 4 of type dbl\n",
       "\\begin{tabular}{r|llll}\n",
       "  & Estimate & Std. Error & t value & Pr(>\\textbar{}t\\textbar{})\\\\\n",
       "\\hline\n",
       "\t(Intercept) & 4554.801 & 408.0459 & 11.162474 & 1.154114e-25\\\\\n",
       "\ttreat & 1794.342 & 632.8534 &  2.835321 & 4.787530e-03\\\\\n",
       "\\end{tabular}\n"
      ],
      "text/markdown": [
       "\n",
       "A matrix: 2 × 4 of type dbl\n",
       "\n",
       "| <!--/--> | Estimate | Std. Error | t value | Pr(&gt;|t|) |\n",
       "|---|---|---|---|---|\n",
       "| (Intercept) | 4554.801 | 408.0459 | 11.162474 | 1.154114e-25 |\n",
       "| treat | 1794.342 | 632.8534 |  2.835321 | 4.787530e-03 |\n",
       "\n"
      ],
      "text/plain": [
       "            Estimate Std. Error t value   Pr(>|t|)    \n",
       "(Intercept) 4554.801 408.0459   11.162474 1.154114e-25\n",
       "treat       1794.342 632.8534    2.835321 4.787530e-03"
      ]
     },
     "metadata": {},
     "output_type": "display_data"
    }
   ],
   "source": [
    "model <- lm(re78 ~ treat, data=data)\n",
    "\n",
    "summary(model)$coefficients"
   ]
  },
  {
   "cell_type": "markdown",
   "metadata": {},
   "source": [
    "The program appears to be effective: on average, the income of individuals in the treatment group increases by 1794.34 units. This suggests that participation in the vocational training program had a positive impact on the participants' earnings compared to the control group. This outcome indicates that the training provided valuable skills or opportunities, contributing to a significant boost in their financial situation. The results demonstrate that the program successfully addressed key factors influencing income, which could have long-term benefits for the individuals involved."
   ]
  },
  {
   "cell_type": "markdown",
   "metadata": {},
   "source": [
    "1.3. **Heterogeneous effects with causal trees (3 points)**. Use causal trees like we saw in class. For Python, you should use the econml package; for R, use the grf package; and for Julia, you will need to create the auxiliary variable \n",
    "Y\n",
    "∗\n",
    " and fit a decision tree regressor. Report the splits the tree finds and interpret them."
   ]
  },
  {
   "cell_type": "code",
   "execution_count": 5,
   "metadata": {
    "vscode": {
     "languageId": "r"
    }
   },
   "outputs": [
    {
     "name": "stdout",
     "output_type": "stream",
     "text": [
      "'data.frame':\t445 obs. of  10 variables:\n",
      " $ treat   : int  1 1 1 1 1 1 1 1 1 1 ...\n",
      " $ age     : int  37 22 30 27 33 22 23 32 22 33 ...\n",
      " $ educ    : int  11 9 12 11 8 9 12 11 16 12 ...\n",
      " $ black   : int  1 0 1 1 1 1 1 1 1 0 ...\n",
      " $ hisp    : int  0 1 0 0 0 0 0 0 0 0 ...\n",
      " $ marr    : int  1 0 0 0 0 0 0 0 0 1 ...\n",
      " $ nodegree: int  1 1 0 1 1 1 0 1 0 0 ...\n",
      " $ re74    : num  0 0 0 0 0 0 0 0 0 0 ...\n",
      " $ re75    : num  0 0 0 0 0 0 0 0 0 0 ...\n",
      " $ re78    : num  9930 3596 24909 7506 290 ...\n"
     ]
    }
   ],
   "source": [
    "#We check data structure to be sure we don't have to recode something\n",
    "str(data)\n",
    "data$black <- as.factor(data$black)\n",
    "data$hisp <- as.factor(data$hisp)\n",
    "data$marr <- as.factor(data$marr)\n",
    "data$nodegree <- as.factor(data$nodegree)\n"
   ]
  },
  {
   "cell_type": "code",
   "execution_count": 6,
   "metadata": {
    "vscode": {
     "languageId": "r"
    }
   },
   "outputs": [],
   "source": [
    "data_dummy <- fastDummies::dummy_cols(data, \n",
    "                                      select_columns = c(\"black\", \"hisp\", \"marr\", \"nodegree\"), \n",
    "                                      remove_first_dummy = TRUE, \n",
    "                                      remove_selected_columns = TRUE)\n",
    "# Selección de variables para X\n",
    "X <- data_dummy[, c(\"age\", \"educ\", \"black_1\", \"hisp_1\", \"marr_1\", \"nodegree_1\", \"re74\", \"re75\")]\n"
   ]
  },
  {
   "cell_type": "code",
   "execution_count": 7,
   "metadata": {
    "vscode": {
     "languageId": "r"
    }
   },
   "outputs": [
    {
     "name": "stderr",
     "output_type": "stream",
     "text": [
      "Warning message:\n",
      "\"\u001b[1m\u001b[22mRemoved 4 rows containing missing values or values outside the scale range\n",
      "(`geom_bar()`).\"\n"
     ]
    },
    {
     "data": {
      "image/png": "[encoded data removed]",
      "text/plain": [
       "plot without title"
      ]
     },
     "metadata": {
      "image/png": {
       "height": 420,
       "width": 420
      }
     },
     "output_type": "display_data"
    }
   ],
   "source": [
    "\n",
    "logistic_model <- glm(treat ~ age + educ + black_1 + hisp_1 + marr_1+re75+re74, \n",
    "                      data = data_dummy, \n",
    "                      family = binomial)\n",
    "\n",
    "data_dummy$pscore <- predict(logistic_model, data_dummy, type = \"response\")\n",
    "\n",
    "ggplot(data_dummy, aes(x = pscore, fill = as.factor(treat))) +\n",
    "  geom_histogram(binwidth = 0.05, position = \"identity\", alpha = 0.7) +\n",
    "  labs(\n",
    "    title = \"Predicted Propensity Scores\",\n",
    "    x = \"Propensity Score\",\n",
    "    fill = \"Treatment\"\n",
    "  ) +\n",
    "  xlim(0, 1)\n"
   ]
  },
  {
   "cell_type": "code",
   "execution_count": 8,
   "metadata": {
    "vscode": {
     "languageId": "r"
    }
   },
   "outputs": [],
   "source": [
    "W <- data_dummy$treat\n",
    "Y <- data_dummy$re78"
   ]
  },
  {
   "cell_type": "code",
   "execution_count": 9,
   "metadata": {
    "vscode": {
     "languageId": "r"
    }
   },
   "outputs": [
    {
     "name": "stdout",
     "output_type": "stream",
     "text": [
      "GRF tree object \n",
      "Number of training samples: 222 \n",
      "Variable splits: \n",
      "(1) split_variable: re75  split_value: 0 \n",
      "  (2) * num_samples: 71  avg_Y: 4669.51 avg_W: 0.46 \n",
      "  (3) * num_samples: 40  avg_Y: 6254.68 avg_W: 0.5 \n"
     ]
    }
   ],
   "source": [
    "tree_model <- causal_forest(X, Y, W, num.trees = 1, mtry = ncol(X), min.node.size = 20)\n",
    "\n",
    "tree_structure <- get_tree(tree_model, 1)\n",
    "print(tree_structure)"
   ]
  },
  {
   "cell_type": "markdown",
   "metadata": {},
   "source": [
    "The GRF tree trained on 222 samples identified a split based on the variable age at a threshold of 24, dividing the data into two groups. The first group, consisting of 54 samples where age ≤ 24, has an average target variable value (\n",
    "𝑌) of 4056.09 and an average treatment assignment (\n",
    "𝑊) of 0.31. The second group, with 57 samples where age > 24, shows a higher average \n",
    "𝑌 of 6162.37 and an average \n",
    "𝑊 of 0.42. This split suggests that age plays a significant role in differentiating these groups, with the older group having higher target and treatment averages."
   ]
  },
  {
   "cell_type": "markdown",
   "metadata": {},
   "source": [
    "1.4. **Heterogeneous effects with causal forests (3 points)**. Use causal forests like we saw in class. For Python, you should use the econml package; for R, use the grf package; and for Julia, you will need to use the auxiliary variable \n",
    "Y\n",
    "∗\n",
    " computed in the previous exercise and fit a random forest regressor. Report the importance of the prediction variables"
   ]
  },
  {
   "cell_type": "code",
   "execution_count": 10,
   "metadata": {
    "vscode": {
     "languageId": "r"
    }
   },
   "outputs": [
    {
     "data": {
      "text/plain": [
       "GRF tree object \n",
       "Number of training samples: 222 \n",
       "Variable splits: \n",
       "(1) split_variable: age  split_value: 27 \n",
       "  (2) split_variable: re74  split_value: 2992.53 \n",
       "    (4) split_variable: re75  split_value: 604.154 \n",
       "      (8) split_variable: educ  split_value: 9 \n",
       "        (10) * num_samples: 13  avg_Y: 4323.86 avg_W: 0.38 \n",
       "        (11) split_variable: age  split_value: 22 \n",
       "          (12) * num_samples: 19  avg_Y: 4053.96 avg_W: 0.32 \n",
       "          (13) * num_samples: 16  avg_Y: 6264.07 avg_W: 0.38 \n",
       "      (9) * num_samples: 8  avg_Y: 4121.45 avg_W: 0.62 \n",
       "    (5) * num_samples: 17  avg_Y: 4484.84 avg_W: 0.65 \n",
       "  (3) split_variable: re75  split_value: 1706.66 \n",
       "    (6) * num_samples: 30  avg_Y: 5711.76 avg_W: 0.47 \n",
       "    (7) * num_samples: 8  avg_Y: 11845.26 avg_W: 0.38 "
      ]
     },
     "metadata": {},
     "output_type": "display_data"
    }
   ],
   "source": [
    "forest_model <- causal_forest(X, Y, W, \n",
    "                              num.trees = 100,  \n",
    "                              mtry = ncol(X),    \n",
    "                              min.node.size = )\n",
    "tree <- get_tree(forest_model,1)\n",
    "tree"
   ]
  },
  {
   "cell_type": "code",
   "execution_count": 11,
   "metadata": {
    "vscode": {
     "languageId": "r"
    }
   },
   "outputs": [
    {
     "name": "stdout",
     "output_type": "stream",
     "text": [
      "    variable importance\n",
      "1        age 0.33584340\n",
      "2       educ 0.21218038\n",
      "3       re74 0.19517084\n",
      "4       re75 0.13191476\n",
      "5 nodegree_1 0.06319317\n",
      "6     marr_1 0.04814207\n",
      "7    black_1 0.01355539\n",
      "8     hisp_1 0.00000000\n"
     ]
    }
   ],
   "source": [
    "varimp <- variable_importance(forest_model)\n",
    "\n",
    "ranked.vars <- order(varimp, decreasing = TRUE)\n",
    "\n",
    "importances <- data.frame(\n",
    "  variable = colnames(X)[ranked.vars],\n",
    "  importance = varimp[ranked.vars]\n",
    ")\n",
    "\n",
    "print(importances)\n"
   ]
  },
  {
   "cell_type": "markdown",
   "metadata": {},
   "source": [
    "1.5. **Plot heterogeneous effects (1.5 points)**. Plot how the predicted treatment effect changes depending on a variable of your choice. (You can see the last example in PD11 for clarification of what you should do in this exercise)"
   ]
  },
  {
   "cell_type": "code",
   "execution_count": 12,
   "metadata": {
    "vscode": {
     "languageId": "r"
    }
   },
   "outputs": [],
   "source": [
    "data_dummy$effect <- 20 * exp(-((data_dummy$age - 20)^2) / 80) +\n",
    "             2 * (data_dummy$marr_1 == 1) -         # Positive effect if married\n",
    "             1.5 * (data_dummy$hisp_1 == 1) +       # Negative effect if Hispanic\n",
    "             1 * (data_dummy$black_1 == 1) -        # Positive effect if Black\n",
    "             1.0                          # Constant offset\n"
   ]
  },
  {
   "cell_type": "code",
   "execution_count": 13,
   "metadata": {
    "vscode": {
     "languageId": "r"
    }
   },
   "outputs": [],
   "source": [
    "data_dummy$age_bins <- round(data_dummy$age * 2) / 2\n"
   ]
  },
  {
   "cell_type": "code",
   "execution_count": 14,
   "metadata": {
    "vscode": {
     "languageId": "r"
    }
   },
   "outputs": [],
   "source": [
    "effects_bins <- aggregate(effect ~ age_bins, data = data_dummy, mean)"
   ]
  },
  {
   "cell_type": "code",
   "execution_count": 15,
   "metadata": {
    "vscode": {
     "languageId": "r"
    }
   },
   "outputs": [],
   "source": [
    "data_dummy$predicted_effects <- predict(forest_model)$predictions\n",
    "\n",
    "predicted_effects_bins <- aggregate(predicted_effects ~ age_bins, data = data_dummy, mean)\n"
   ]
  },
  {
   "cell_type": "code",
   "execution_count": 16,
   "metadata": {
    "vscode": {
     "languageId": "r"
    }
   },
   "outputs": [
    {
     "data": {
      "text/html": [
       "<table class=\"dataframe\">\n",
       "<caption>A data.frame: 445 × 14</caption>\n",
       "<thead>\n",
       "\t<tr><th scope=col>treat</th><th scope=col>age</th><th scope=col>educ</th><th scope=col>re74</th><th scope=col>re75</th><th scope=col>re78</th><th scope=col>black_1</th><th scope=col>hisp_1</th><th scope=col>marr_1</th><th scope=col>nodegree_1</th><th scope=col>pscore</th><th scope=col>effect</th><th scope=col>age_bins</th><th scope=col>predicted_effects</th></tr>\n",
       "\t<tr><th scope=col>&lt;int&gt;</th><th scope=col>&lt;int&gt;</th><th scope=col>&lt;int&gt;</th><th scope=col>&lt;dbl&gt;</th><th scope=col>&lt;dbl&gt;</th><th scope=col>&lt;dbl&gt;</th><th scope=col>&lt;int&gt;</th><th scope=col>&lt;int&gt;</th><th scope=col>&lt;int&gt;</th><th scope=col>&lt;int&gt;</th><th scope=col>&lt;dbl&gt;</th><th scope=col>&lt;dbl&gt;</th><th scope=col>&lt;dbl&gt;</th><th scope=col>&lt;dbl&gt;</th></tr>\n",
       "</thead>\n",
       "<tbody>\n",
       "\t<tr><td>1</td><td>37</td><td>11</td><td>0</td><td>0</td><td> 9930.0459</td><td>1</td><td>0</td><td>1</td><td>1</td><td>0.4881728</td><td> 2.5396860</td><td>37</td><td>2259.18419</td></tr>\n",
       "\t<tr><td>1</td><td>22</td><td> 9</td><td>0</td><td>0</td><td> 3595.8940</td><td>0</td><td>1</td><td>0</td><td>1</td><td>0.2583250</td><td>16.5245885</td><td>22</td><td> 458.73020</td></tr>\n",
       "\t<tr><td>1</td><td>30</td><td>12</td><td>0</td><td>0</td><td>24909.4492</td><td>1</td><td>0</td><td>0</td><td>0</td><td>0.4492977</td><td> 5.7300959</td><td>30</td><td>3367.69763</td></tr>\n",
       "\t<tr><td>1</td><td>27</td><td>11</td><td>0</td><td>0</td><td> 7506.1460</td><td>1</td><td>0</td><td>0</td><td>1</td><td>0.4259262</td><td>10.8398838</td><td>27</td><td>3814.15948</td></tr>\n",
       "\t<tr><td>1</td><td>33</td><td> 8</td><td>0</td><td>0</td><td>  289.7899</td><td>1</td><td>0</td><td>0</td><td>1</td><td>0.3958688</td><td> 2.4187050</td><td>33</td><td>1896.09557</td></tr>\n",
       "\t<tr><td>1</td><td>22</td><td> 9</td><td>0</td><td>0</td><td> 4056.4939</td><td>1</td><td>0</td><td>0</td><td>1</td><td>0.3827854</td><td>19.0245885</td><td>22</td><td> 252.27355</td></tr>\n",
       "\t<tr><td>1</td><td>23</td><td>12</td><td>0</td><td>0</td><td>    0.0000</td><td>1</td><td>0</td><td>0</td><td>0</td><td>0.4308174</td><td>17.8719469</td><td>23</td><td>3079.60386</td></tr>\n",
       "\t<tr><td>1</td><td>32</td><td>11</td><td>0</td><td>0</td><td> 8472.1582</td><td>1</td><td>0</td><td>0</td><td>1</td><td>0.4390757</td><td> 3.3059778</td><td>32</td><td>3545.68220</td></tr>\n",
       "\t<tr><td>1</td><td>22</td><td>16</td><td>0</td><td>0</td><td> 2164.0220</td><td>1</td><td>0</td><td>0</td><td>0</td><td>0.4905296</td><td>19.0245885</td><td>22</td><td>2970.63764</td></tr>\n",
       "\t<tr><td>1</td><td>33</td><td>12</td><td>0</td><td>0</td><td>12418.0703</td><td>0</td><td>0</td><td>1</td><td>0</td><td>0.5812637</td><td> 3.4187050</td><td>33</td><td>2615.17609</td></tr>\n",
       "\t<tr><td>1</td><td>19</td><td> 9</td><td>0</td><td>0</td><td> 8173.9082</td><td>1</td><td>0</td><td>0</td><td>1</td><td>0.3752196</td><td>19.7515560</td><td>19</td><td> 639.05268</td></tr>\n",
       "\t<tr><td>1</td><td>21</td><td>13</td><td>0</td><td>0</td><td>17094.6406</td><td>1</td><td>0</td><td>0</td><td>0</td><td>0.4409983</td><td>19.7515560</td><td>21</td><td>1990.30300</td></tr>\n",
       "\t<tr><td>1</td><td>18</td><td> 8</td><td>0</td><td>0</td><td>    0.0000</td><td>1</td><td>0</td><td>0</td><td>1</td><td>0.3581413</td><td>19.0245885</td><td>18</td><td> 166.56028</td></tr>\n",
       "\t<tr><td>1</td><td>27</td><td>10</td><td>0</td><td>0</td><td>18739.9297</td><td>1</td><td>0</td><td>1</td><td>1</td><td>0.4458855</td><td>12.8398838</td><td>27</td><td>2813.68870</td></tr>\n",
       "\t<tr><td>1</td><td>17</td><td> 7</td><td>0</td><td>0</td><td> 3023.8789</td><td>1</td><td>0</td><td>0</td><td>1</td><td>0.3414155</td><td>17.8719469</td><td>17</td><td> 141.04594</td></tr>\n",
       "\t<tr><td>1</td><td>19</td><td>10</td><td>0</td><td>0</td><td> 3228.5029</td><td>1</td><td>0</td><td>0</td><td>1</td><td>0.3900619</td><td>19.7515560</td><td>19</td><td>1453.74647</td></tr>\n",
       "\t<tr><td>1</td><td>27</td><td>13</td><td>0</td><td>0</td><td>14581.8604</td><td>1</td><td>0</td><td>0</td><td>0</td><td>0.4569026</td><td>10.8398838</td><td>27</td><td>4733.60530</td></tr>\n",
       "\t<tr><td>1</td><td>23</td><td>10</td><td>0</td><td>0</td><td> 7693.3999</td><td>1</td><td>0</td><td>0</td><td>1</td><td>0.4003060</td><td>17.8719469</td><td>23</td><td> 801.88019</td></tr>\n",
       "\t<tr><td>1</td><td>40</td><td>12</td><td>0</td><td>0</td><td>10804.3203</td><td>1</td><td>0</td><td>0</td><td>0</td><td>0.4759302</td><td> 0.1347589</td><td>40</td><td>2896.72521</td></tr>\n",
       "\t<tr><td>1</td><td>26</td><td>12</td><td>0</td><td>0</td><td>10747.3496</td><td>1</td><td>0</td><td>0</td><td>0</td><td>0.4387170</td><td>12.7525630</td><td>26</td><td>4212.72079</td></tr>\n",
       "\t<tr><td>1</td><td>23</td><td>11</td><td>0</td><td>0</td><td>    0.0000</td><td>1</td><td>0</td><td>0</td><td>1</td><td>0.4154807</td><td>17.8719469</td><td>23</td><td>1528.67828</td></tr>\n",
       "\t<tr><td>1</td><td>41</td><td>14</td><td>0</td><td>0</td><td> 5149.5010</td><td>0</td><td>0</td><td>0</td><td>0</td><td>0.5975678</td><td>-0.9192799</td><td>41</td><td>2816.86239</td></tr>\n",
       "\t<tr><td>1</td><td>38</td><td> 9</td><td>0</td><td>0</td><td> 6408.9502</td><td>0</td><td>0</td><td>0</td><td>1</td><td>0.5122505</td><td>-0.6515525</td><td>38</td><td>1653.08357</td></tr>\n",
       "\t<tr><td>1</td><td>24</td><td>11</td><td>0</td><td>0</td><td> 1991.4000</td><td>1</td><td>0</td><td>0</td><td>1</td><td>0.4180854</td><td>16.3746151</td><td>24</td><td>1506.05954</td></tr>\n",
       "\t<tr><td>1</td><td>18</td><td>10</td><td>0</td><td>0</td><td>11163.1699</td><td>1</td><td>0</td><td>0</td><td>1</td><td>0.3875156</td><td>19.0245885</td><td>18</td><td> 604.47577</td></tr>\n",
       "\t<tr><td>1</td><td>29</td><td>11</td><td>0</td><td>0</td><td> 9642.9990</td><td>1</td><td>0</td><td>1</td><td>1</td><td>0.4667886</td><td> 9.2661914</td><td>29</td><td>2776.38683</td></tr>\n",
       "\t<tr><td>1</td><td>25</td><td>11</td><td>0</td><td>0</td><td> 9897.0488</td><td>1</td><td>0</td><td>0</td><td>1</td><td>0.4206946</td><td>14.6323126</td><td>25</td><td>2648.91368</td></tr>\n",
       "\t<tr><td>1</td><td>27</td><td>10</td><td>0</td><td>0</td><td>11142.8701</td><td>0</td><td>1</td><td>0</td><td>1</td><td>0.2812481</td><td> 8.3398838</td><td>27</td><td>1975.23080</td></tr>\n",
       "\t<tr><td>1</td><td>17</td><td>10</td><td>0</td><td>0</td><td>16218.0400</td><td>1</td><td>0</td><td>0</td><td>1</td><td>0.3849753</td><td>17.8719469</td><td>17</td><td>  42.47396</td></tr>\n",
       "\t<tr><td>1</td><td>24</td><td>11</td><td>0</td><td>0</td><td>  995.7002</td><td>1</td><td>0</td><td>0</td><td>1</td><td>0.4180854</td><td>16.3746151</td><td>24</td><td>2092.16033</td></tr>\n",
       "\t<tr><td>⋮</td><td>⋮</td><td>⋮</td><td>⋮</td><td>⋮</td><td>⋮</td><td>⋮</td><td>⋮</td><td>⋮</td><td>⋮</td><td>⋮</td><td>⋮</td><td>⋮</td><td>⋮</td></tr>\n",
       "\t<tr><td>0</td><td>17</td><td>11</td><td> 4080.7300</td><td> 3796.029</td><td>    0.0000</td><td>1</td><td>0</td><td>0</td><td>1</td><td>0.4202580</td><td>17.87194694</td><td>17</td><td> 937.1516</td></tr>\n",
       "\t<tr><td>0</td><td>43</td><td>10</td><td> 2502.8679</td><td> 4128.443</td><td> 7565.2729</td><td>1</td><td>0</td><td>0</td><td>1</td><td>0.4860617</td><td> 0.02686939</td><td>43</td><td> 313.5854</td></tr>\n",
       "\t<tr><td>0</td><td>26</td><td>11</td><td>    0.0000</td><td> 4184.732</td><td>    0.0000</td><td>1</td><td>0</td><td>1</td><td>1</td><td>0.5067254</td><td>14.75256303</td><td>26</td><td>2077.2275</td></tr>\n",
       "\t<tr><td>0</td><td>27</td><td>11</td><td>    0.0000</td><td> 4491.884</td><td>    0.0000</td><td>1</td><td>0</td><td>1</td><td>1</td><td>0.5129266</td><td>12.83988377</td><td>27</td><td>2988.5932</td></tr>\n",
       "\t<tr><td>0</td><td>19</td><td>11</td><td> 6337.4922</td><td> 4503.064</td><td>    0.0000</td><td>1</td><td>0</td><td>0</td><td>1</td><td>0.4212179</td><td>19.75155601</td><td>19</td><td> 740.2861</td></tr>\n",
       "\t<tr><td>0</td><td>28</td><td>11</td><td> 8593.1631</td><td> 5393.895</td><td> 4974.5859</td><td>1</td><td>0</td><td>1</td><td>1</td><td>0.4784262</td><td>10.98657928</td><td>28</td><td>1813.5350</td></tr>\n",
       "\t<tr><td>0</td><td>28</td><td>12</td><td>10585.1299</td><td> 5551.456</td><td>12780.0195</td><td>1</td><td>0</td><td>1</td><td>0</td><td>0.4849128</td><td>10.98657928</td><td>28</td><td>2364.1228</td></tr>\n",
       "\t<tr><td>0</td><td>26</td><td> 8</td><td> 1126.2900</td><td> 5562.598</td><td> 3523.5779</td><td>1</td><td>0</td><td>0</td><td>1</td><td>0.4335688</td><td>12.75256303</td><td>26</td><td>1817.9557</td></tr>\n",
       "\t<tr><td>0</td><td>31</td><td>12</td><td>    0.0000</td><td> 5613.909</td><td>    0.0000</td><td>1</td><td>0</td><td>0</td><td>0</td><td>0.5162197</td><td> 4.40716786</td><td>31</td><td>3344.3580</td></tr>\n",
       "\t<tr><td>0</td><td>23</td><td>11</td><td> 7617.3618</td><td> 5716.407</td><td>10274.8398</td><td>1</td><td>0</td><td>0</td><td>1</td><td>0.4384280</td><td>17.87194694</td><td>23</td><td> 698.8766</td></tr>\n",
       "\t<tr><td>0</td><td>20</td><td>12</td><td> 7182.4922</td><td> 6004.728</td><td> 4779.7202</td><td>1</td><td>0</td><td>0</td><td>0</td><td>0.4516528</td><td>20.00000000</td><td>20</td><td>1438.5789</td></tr>\n",
       "\t<tr><td>0</td><td>28</td><td>10</td><td> 8293.3447</td><td> 6449.480</td><td>16988.1797</td><td>1</td><td>0</td><td>1</td><td>1</td><td>0.4764935</td><td>10.98657928</td><td>28</td><td>1451.6067</td></tr>\n",
       "\t<tr><td>0</td><td>39</td><td>12</td><td>19785.3203</td><td> 6608.137</td><td>  499.2572</td><td>1</td><td>0</td><td>1</td><td>0</td><td>0.4756158</td><td> 2.21941997</td><td>39</td><td> 726.9737</td></tr>\n",
       "\t<tr><td>0</td><td>21</td><td> 8</td><td>39570.6797</td><td> 6608.304</td><td> 3083.5811</td><td>1</td><td>0</td><td>0</td><td>1</td><td>0.2453166</td><td>19.75155601</td><td>21</td><td> 556.4852</td></tr>\n",
       "\t<tr><td>0</td><td>22</td><td>11</td><td> 8810.0674</td><td> 6974.484</td><td> 3708.7190</td><td>1</td><td>0</td><td>0</td><td>1</td><td>0.4435151</td><td>19.02458849</td><td>22</td><td> 858.4095</td></tr>\n",
       "\t<tr><td>0</td><td>20</td><td>11</td><td> 8009.1641</td><td> 7666.875</td><td> 7659.2178</td><td>1</td><td>0</td><td>0</td><td>1</td><td>0.4504555</td><td>20.00000000</td><td>20</td><td> 455.6929</td></tr>\n",
       "\t<tr><td>0</td><td>21</td><td>11</td><td> 2992.5339</td><td> 8920.471</td><td>20857.8398</td><td>0</td><td>1</td><td>0</td><td>1</td><td>0.3551467</td><td>17.25155601</td><td>21</td><td> 871.5371</td></tr>\n",
       "\t<tr><td>0</td><td>23</td><td>12</td><td> 5721.6958</td><td> 8960.684</td><td> 7078.1782</td><td>0</td><td>1</td><td>0</td><td>0</td><td>0.3610565</td><td>15.37194694</td><td>23</td><td>2027.2915</td></tr>\n",
       "\t<tr><td>0</td><td>29</td><td> 9</td><td> 9268.9434</td><td> 9160.693</td><td>    0.0000</td><td>1</td><td>0</td><td>0</td><td>1</td><td>0.4532927</td><td> 7.26619139</td><td>29</td><td> 928.1324</td></tr>\n",
       "\t<tr><td>0</td><td>28</td><td> 9</td><td>10222.4102</td><td> 9210.447</td><td> 1239.8440</td><td>1</td><td>0</td><td>1</td><td>1</td><td>0.4817854</td><td>10.98657928</td><td>28</td><td>1330.1370</td></tr>\n",
       "\t<tr><td>0</td><td>30</td><td>11</td><td>    0.0000</td><td> 9311.938</td><td> 3982.8010</td><td>1</td><td>0</td><td>1</td><td>1</td><td>0.5756934</td><td> 7.73009594</td><td>30</td><td>2922.9831</td></tr>\n",
       "\t<tr><td>0</td><td>25</td><td>10</td><td>13519.9697</td><td> 9319.444</td><td>    0.0000</td><td>1</td><td>0</td><td>1</td><td>1</td><td>0.4724828</td><td>16.63231258</td><td>25</td><td> 741.0785</td></tr>\n",
       "\t<tr><td>0</td><td>28</td><td>11</td><td>  824.3889</td><td>10033.910</td><td>    0.0000</td><td>1</td><td>0</td><td>1</td><td>1</td><td>0.5740960</td><td>10.98657928</td><td>28</td><td>1775.2245</td></tr>\n",
       "\t<tr><td>0</td><td>22</td><td>10</td><td>27864.3594</td><td>10598.670</td><td> 7094.9199</td><td>0</td><td>0</td><td>0</td><td>1</td><td>0.4526931</td><td>18.02458849</td><td>22</td><td> 581.2813</td></tr>\n",
       "\t<tr><td>0</td><td>44</td><td> 9</td><td>12260.7803</td><td>10857.240</td><td>12359.3096</td><td>1</td><td>0</td><td>1</td><td>1</td><td>0.5322142</td><td> 2.01493172</td><td>44</td><td> 743.7018</td></tr>\n",
       "\t<tr><td>0</td><td>21</td><td> 9</td><td>31886.4297</td><td>12357.220</td><td>    0.0000</td><td>1</td><td>0</td><td>0</td><td>1</td><td>0.3482026</td><td>19.75155601</td><td>21</td><td> 132.2092</td></tr>\n",
       "\t<tr><td>0</td><td>28</td><td>11</td><td>17491.4492</td><td>13371.250</td><td>    0.0000</td><td>1</td><td>0</td><td>0</td><td>1</td><td>0.4847235</td><td> 8.98657928</td><td>28</td><td>1411.8316</td></tr>\n",
       "\t<tr><td>0</td><td>29</td><td> 9</td><td> 9594.3076</td><td>16341.160</td><td>16900.3008</td><td>0</td><td>1</td><td>0</td><td>1</td><td>0.3912828</td><td> 4.76619139</td><td>29</td><td>1798.6116</td></tr>\n",
       "\t<tr><td>0</td><td>25</td><td> 9</td><td>24731.6191</td><td>16946.631</td><td> 7343.9639</td><td>1</td><td>0</td><td>1</td><td>1</td><td>0.4822456</td><td>16.63231258</td><td>25</td><td> 899.1823</td></tr>\n",
       "\t<tr><td>0</td><td>22</td><td>10</td><td>25720.9199</td><td>23031.980</td><td> 5448.8008</td><td>0</td><td>0</td><td>1</td><td>1</td><td>0.6393141</td><td>20.02458849</td><td>22</td><td>1151.6365</td></tr>\n",
       "</tbody>\n",
       "</table>\n"
      ],
      "text/latex": [
       "A data.frame: 445 × 14\n",
       "\\begin{tabular}{llllllllllllll}\n",
       " treat & age & educ & re74 & re75 & re78 & black\\_1 & hisp\\_1 & marr\\_1 & nodegree\\_1 & pscore & effect & age\\_bins & predicted\\_effects\\\\\n",
       " <int> & <int> & <int> & <dbl> & <dbl> & <dbl> & <int> & <int> & <int> & <int> & <dbl> & <dbl> & <dbl> & <dbl>\\\\\n",
       "\\hline\n",
       "\t 1 & 37 & 11 & 0 & 0 &  9930.0459 & 1 & 0 & 1 & 1 & 0.4881728 &  2.5396860 & 37 & 2259.18419\\\\\n",
       "\t 1 & 22 &  9 & 0 & 0 &  3595.8940 & 0 & 1 & 0 & 1 & 0.2583250 & 16.5245885 & 22 &  458.73020\\\\\n",
       "\t 1 & 30 & 12 & 0 & 0 & 24909.4492 & 1 & 0 & 0 & 0 & 0.4492977 &  5.7300959 & 30 & 3367.69763\\\\\n",
       "\t 1 & 27 & 11 & 0 & 0 &  7506.1460 & 1 & 0 & 0 & 1 & 0.4259262 & 10.8398838 & 27 & 3814.15948\\\\\n",
       "\t 1 & 33 &  8 & 0 & 0 &   289.7899 & 1 & 0 & 0 & 1 & 0.3958688 &  2.4187050 & 33 & 1896.09557\\\\\n",
       "\t 1 & 22 &  9 & 0 & 0 &  4056.4939 & 1 & 0 & 0 & 1 & 0.3827854 & 19.0245885 & 22 &  252.27355\\\\\n",
       "\t 1 & 23 & 12 & 0 & 0 &     0.0000 & 1 & 0 & 0 & 0 & 0.4308174 & 17.8719469 & 23 & 3079.60386\\\\\n",
       "\t 1 & 32 & 11 & 0 & 0 &  8472.1582 & 1 & 0 & 0 & 1 & 0.4390757 &  3.3059778 & 32 & 3545.68220\\\\\n",
       "\t 1 & 22 & 16 & 0 & 0 &  2164.0220 & 1 & 0 & 0 & 0 & 0.4905296 & 19.0245885 & 22 & 2970.63764\\\\\n",
       "\t 1 & 33 & 12 & 0 & 0 & 12418.0703 & 0 & 0 & 1 & 0 & 0.5812637 &  3.4187050 & 33 & 2615.17609\\\\\n",
       "\t 1 & 19 &  9 & 0 & 0 &  8173.9082 & 1 & 0 & 0 & 1 & 0.3752196 & 19.7515560 & 19 &  639.05268\\\\\n",
       "\t 1 & 21 & 13 & 0 & 0 & 17094.6406 & 1 & 0 & 0 & 0 & 0.4409983 & 19.7515560 & 21 & 1990.30300\\\\\n",
       "\t 1 & 18 &  8 & 0 & 0 &     0.0000 & 1 & 0 & 0 & 1 & 0.3581413 & 19.0245885 & 18 &  166.56028\\\\\n",
       "\t 1 & 27 & 10 & 0 & 0 & 18739.9297 & 1 & 0 & 1 & 1 & 0.4458855 & 12.8398838 & 27 & 2813.68870\\\\\n",
       "\t 1 & 17 &  7 & 0 & 0 &  3023.8789 & 1 & 0 & 0 & 1 & 0.3414155 & 17.8719469 & 17 &  141.04594\\\\\n",
       "\t 1 & 19 & 10 & 0 & 0 &  3228.5029 & 1 & 0 & 0 & 1 & 0.3900619 & 19.7515560 & 19 & 1453.74647\\\\\n",
       "\t 1 & 27 & 13 & 0 & 0 & 14581.8604 & 1 & 0 & 0 & 0 & 0.4569026 & 10.8398838 & 27 & 4733.60530\\\\\n",
       "\t 1 & 23 & 10 & 0 & 0 &  7693.3999 & 1 & 0 & 0 & 1 & 0.4003060 & 17.8719469 & 23 &  801.88019\\\\\n",
       "\t 1 & 40 & 12 & 0 & 0 & 10804.3203 & 1 & 0 & 0 & 0 & 0.4759302 &  0.1347589 & 40 & 2896.72521\\\\\n",
       "\t 1 & 26 & 12 & 0 & 0 & 10747.3496 & 1 & 0 & 0 & 0 & 0.4387170 & 12.7525630 & 26 & 4212.72079\\\\\n",
       "\t 1 & 23 & 11 & 0 & 0 &     0.0000 & 1 & 0 & 0 & 1 & 0.4154807 & 17.8719469 & 23 & 1528.67828\\\\\n",
       "\t 1 & 41 & 14 & 0 & 0 &  5149.5010 & 0 & 0 & 0 & 0 & 0.5975678 & -0.9192799 & 41 & 2816.86239\\\\\n",
       "\t 1 & 38 &  9 & 0 & 0 &  6408.9502 & 0 & 0 & 0 & 1 & 0.5122505 & -0.6515525 & 38 & 1653.08357\\\\\n",
       "\t 1 & 24 & 11 & 0 & 0 &  1991.4000 & 1 & 0 & 0 & 1 & 0.4180854 & 16.3746151 & 24 & 1506.05954\\\\\n",
       "\t 1 & 18 & 10 & 0 & 0 & 11163.1699 & 1 & 0 & 0 & 1 & 0.3875156 & 19.0245885 & 18 &  604.47577\\\\\n",
       "\t 1 & 29 & 11 & 0 & 0 &  9642.9990 & 1 & 0 & 1 & 1 & 0.4667886 &  9.2661914 & 29 & 2776.38683\\\\\n",
       "\t 1 & 25 & 11 & 0 & 0 &  9897.0488 & 1 & 0 & 0 & 1 & 0.4206946 & 14.6323126 & 25 & 2648.91368\\\\\n",
       "\t 1 & 27 & 10 & 0 & 0 & 11142.8701 & 0 & 1 & 0 & 1 & 0.2812481 &  8.3398838 & 27 & 1975.23080\\\\\n",
       "\t 1 & 17 & 10 & 0 & 0 & 16218.0400 & 1 & 0 & 0 & 1 & 0.3849753 & 17.8719469 & 17 &   42.47396\\\\\n",
       "\t 1 & 24 & 11 & 0 & 0 &   995.7002 & 1 & 0 & 0 & 1 & 0.4180854 & 16.3746151 & 24 & 2092.16033\\\\\n",
       "\t ⋮ & ⋮ & ⋮ & ⋮ & ⋮ & ⋮ & ⋮ & ⋮ & ⋮ & ⋮ & ⋮ & ⋮ & ⋮ & ⋮\\\\\n",
       "\t 0 & 17 & 11 &  4080.7300 &  3796.029 &     0.0000 & 1 & 0 & 0 & 1 & 0.4202580 & 17.87194694 & 17 &  937.1516\\\\\n",
       "\t 0 & 43 & 10 &  2502.8679 &  4128.443 &  7565.2729 & 1 & 0 & 0 & 1 & 0.4860617 &  0.02686939 & 43 &  313.5854\\\\\n",
       "\t 0 & 26 & 11 &     0.0000 &  4184.732 &     0.0000 & 1 & 0 & 1 & 1 & 0.5067254 & 14.75256303 & 26 & 2077.2275\\\\\n",
       "\t 0 & 27 & 11 &     0.0000 &  4491.884 &     0.0000 & 1 & 0 & 1 & 1 & 0.5129266 & 12.83988377 & 27 & 2988.5932\\\\\n",
       "\t 0 & 19 & 11 &  6337.4922 &  4503.064 &     0.0000 & 1 & 0 & 0 & 1 & 0.4212179 & 19.75155601 & 19 &  740.2861\\\\\n",
       "\t 0 & 28 & 11 &  8593.1631 &  5393.895 &  4974.5859 & 1 & 0 & 1 & 1 & 0.4784262 & 10.98657928 & 28 & 1813.5350\\\\\n",
       "\t 0 & 28 & 12 & 10585.1299 &  5551.456 & 12780.0195 & 1 & 0 & 1 & 0 & 0.4849128 & 10.98657928 & 28 & 2364.1228\\\\\n",
       "\t 0 & 26 &  8 &  1126.2900 &  5562.598 &  3523.5779 & 1 & 0 & 0 & 1 & 0.4335688 & 12.75256303 & 26 & 1817.9557\\\\\n",
       "\t 0 & 31 & 12 &     0.0000 &  5613.909 &     0.0000 & 1 & 0 & 0 & 0 & 0.5162197 &  4.40716786 & 31 & 3344.3580\\\\\n",
       "\t 0 & 23 & 11 &  7617.3618 &  5716.407 & 10274.8398 & 1 & 0 & 0 & 1 & 0.4384280 & 17.87194694 & 23 &  698.8766\\\\\n",
       "\t 0 & 20 & 12 &  7182.4922 &  6004.728 &  4779.7202 & 1 & 0 & 0 & 0 & 0.4516528 & 20.00000000 & 20 & 1438.5789\\\\\n",
       "\t 0 & 28 & 10 &  8293.3447 &  6449.480 & 16988.1797 & 1 & 0 & 1 & 1 & 0.4764935 & 10.98657928 & 28 & 1451.6067\\\\\n",
       "\t 0 & 39 & 12 & 19785.3203 &  6608.137 &   499.2572 & 1 & 0 & 1 & 0 & 0.4756158 &  2.21941997 & 39 &  726.9737\\\\\n",
       "\t 0 & 21 &  8 & 39570.6797 &  6608.304 &  3083.5811 & 1 & 0 & 0 & 1 & 0.2453166 & 19.75155601 & 21 &  556.4852\\\\\n",
       "\t 0 & 22 & 11 &  8810.0674 &  6974.484 &  3708.7190 & 1 & 0 & 0 & 1 & 0.4435151 & 19.02458849 & 22 &  858.4095\\\\\n",
       "\t 0 & 20 & 11 &  8009.1641 &  7666.875 &  7659.2178 & 1 & 0 & 0 & 1 & 0.4504555 & 20.00000000 & 20 &  455.6929\\\\\n",
       "\t 0 & 21 & 11 &  2992.5339 &  8920.471 & 20857.8398 & 0 & 1 & 0 & 1 & 0.3551467 & 17.25155601 & 21 &  871.5371\\\\\n",
       "\t 0 & 23 & 12 &  5721.6958 &  8960.684 &  7078.1782 & 0 & 1 & 0 & 0 & 0.3610565 & 15.37194694 & 23 & 2027.2915\\\\\n",
       "\t 0 & 29 &  9 &  9268.9434 &  9160.693 &     0.0000 & 1 & 0 & 0 & 1 & 0.4532927 &  7.26619139 & 29 &  928.1324\\\\\n",
       "\t 0 & 28 &  9 & 10222.4102 &  9210.447 &  1239.8440 & 1 & 0 & 1 & 1 & 0.4817854 & 10.98657928 & 28 & 1330.1370\\\\\n",
       "\t 0 & 30 & 11 &     0.0000 &  9311.938 &  3982.8010 & 1 & 0 & 1 & 1 & 0.5756934 &  7.73009594 & 30 & 2922.9831\\\\\n",
       "\t 0 & 25 & 10 & 13519.9697 &  9319.444 &     0.0000 & 1 & 0 & 1 & 1 & 0.4724828 & 16.63231258 & 25 &  741.0785\\\\\n",
       "\t 0 & 28 & 11 &   824.3889 & 10033.910 &     0.0000 & 1 & 0 & 1 & 1 & 0.5740960 & 10.98657928 & 28 & 1775.2245\\\\\n",
       "\t 0 & 22 & 10 & 27864.3594 & 10598.670 &  7094.9199 & 0 & 0 & 0 & 1 & 0.4526931 & 18.02458849 & 22 &  581.2813\\\\\n",
       "\t 0 & 44 &  9 & 12260.7803 & 10857.240 & 12359.3096 & 1 & 0 & 1 & 1 & 0.5322142 &  2.01493172 & 44 &  743.7018\\\\\n",
       "\t 0 & 21 &  9 & 31886.4297 & 12357.220 &     0.0000 & 1 & 0 & 0 & 1 & 0.3482026 & 19.75155601 & 21 &  132.2092\\\\\n",
       "\t 0 & 28 & 11 & 17491.4492 & 13371.250 &     0.0000 & 1 & 0 & 0 & 1 & 0.4847235 &  8.98657928 & 28 & 1411.8316\\\\\n",
       "\t 0 & 29 &  9 &  9594.3076 & 16341.160 & 16900.3008 & 0 & 1 & 0 & 1 & 0.3912828 &  4.76619139 & 29 & 1798.6116\\\\\n",
       "\t 0 & 25 &  9 & 24731.6191 & 16946.631 &  7343.9639 & 1 & 0 & 1 & 1 & 0.4822456 & 16.63231258 & 25 &  899.1823\\\\\n",
       "\t 0 & 22 & 10 & 25720.9199 & 23031.980 &  5448.8008 & 0 & 0 & 1 & 1 & 0.6393141 & 20.02458849 & 22 & 1151.6365\\\\\n",
       "\\end{tabular}\n"
      ],
      "text/markdown": [
       "\n",
       "A data.frame: 445 × 14\n",
       "\n",
       "| treat &lt;int&gt; | age &lt;int&gt; | educ &lt;int&gt; | re74 &lt;dbl&gt; | re75 &lt;dbl&gt; | re78 &lt;dbl&gt; | black_1 &lt;int&gt; | hisp_1 &lt;int&gt; | marr_1 &lt;int&gt; | nodegree_1 &lt;int&gt; | pscore &lt;dbl&gt; | effect &lt;dbl&gt; | age_bins &lt;dbl&gt; | predicted_effects &lt;dbl&gt; |\n",
       "|---|---|---|---|---|---|---|---|---|---|---|---|---|---|\n",
       "| 1 | 37 | 11 | 0 | 0 |  9930.0459 | 1 | 0 | 1 | 1 | 0.4881728 |  2.5396860 | 37 | 2259.18419 |\n",
       "| 1 | 22 |  9 | 0 | 0 |  3595.8940 | 0 | 1 | 0 | 1 | 0.2583250 | 16.5245885 | 22 |  458.73020 |\n",
       "| 1 | 30 | 12 | 0 | 0 | 24909.4492 | 1 | 0 | 0 | 0 | 0.4492977 |  5.7300959 | 30 | 3367.69763 |\n",
       "| 1 | 27 | 11 | 0 | 0 |  7506.1460 | 1 | 0 | 0 | 1 | 0.4259262 | 10.8398838 | 27 | 3814.15948 |\n",
       "| 1 | 33 |  8 | 0 | 0 |   289.7899 | 1 | 0 | 0 | 1 | 0.3958688 |  2.4187050 | 33 | 1896.09557 |\n",
       "| 1 | 22 |  9 | 0 | 0 |  4056.4939 | 1 | 0 | 0 | 1 | 0.3827854 | 19.0245885 | 22 |  252.27355 |\n",
       "| 1 | 23 | 12 | 0 | 0 |     0.0000 | 1 | 0 | 0 | 0 | 0.4308174 | 17.8719469 | 23 | 3079.60386 |\n",
       "| 1 | 32 | 11 | 0 | 0 |  8472.1582 | 1 | 0 | 0 | 1 | 0.4390757 |  3.3059778 | 32 | 3545.68220 |\n",
       "| 1 | 22 | 16 | 0 | 0 |  2164.0220 | 1 | 0 | 0 | 0 | 0.4905296 | 19.0245885 | 22 | 2970.63764 |\n",
       "| 1 | 33 | 12 | 0 | 0 | 12418.0703 | 0 | 0 | 1 | 0 | 0.5812637 |  3.4187050 | 33 | 2615.17609 |\n",
       "| 1 | 19 |  9 | 0 | 0 |  8173.9082 | 1 | 0 | 0 | 1 | 0.3752196 | 19.7515560 | 19 |  639.05268 |\n",
       "| 1 | 21 | 13 | 0 | 0 | 17094.6406 | 1 | 0 | 0 | 0 | 0.4409983 | 19.7515560 | 21 | 1990.30300 |\n",
       "| 1 | 18 |  8 | 0 | 0 |     0.0000 | 1 | 0 | 0 | 1 | 0.3581413 | 19.0245885 | 18 |  166.56028 |\n",
       "| 1 | 27 | 10 | 0 | 0 | 18739.9297 | 1 | 0 | 1 | 1 | 0.4458855 | 12.8398838 | 27 | 2813.68870 |\n",
       "| 1 | 17 |  7 | 0 | 0 |  3023.8789 | 1 | 0 | 0 | 1 | 0.3414155 | 17.8719469 | 17 |  141.04594 |\n",
       "| 1 | 19 | 10 | 0 | 0 |  3228.5029 | 1 | 0 | 0 | 1 | 0.3900619 | 19.7515560 | 19 | 1453.74647 |\n",
       "| 1 | 27 | 13 | 0 | 0 | 14581.8604 | 1 | 0 | 0 | 0 | 0.4569026 | 10.8398838 | 27 | 4733.60530 |\n",
       "| 1 | 23 | 10 | 0 | 0 |  7693.3999 | 1 | 0 | 0 | 1 | 0.4003060 | 17.8719469 | 23 |  801.88019 |\n",
       "| 1 | 40 | 12 | 0 | 0 | 10804.3203 | 1 | 0 | 0 | 0 | 0.4759302 |  0.1347589 | 40 | 2896.72521 |\n",
       "| 1 | 26 | 12 | 0 | 0 | 10747.3496 | 1 | 0 | 0 | 0 | 0.4387170 | 12.7525630 | 26 | 4212.72079 |\n",
       "| 1 | 23 | 11 | 0 | 0 |     0.0000 | 1 | 0 | 0 | 1 | 0.4154807 | 17.8719469 | 23 | 1528.67828 |\n",
       "| 1 | 41 | 14 | 0 | 0 |  5149.5010 | 0 | 0 | 0 | 0 | 0.5975678 | -0.9192799 | 41 | 2816.86239 |\n",
       "| 1 | 38 |  9 | 0 | 0 |  6408.9502 | 0 | 0 | 0 | 1 | 0.5122505 | -0.6515525 | 38 | 1653.08357 |\n",
       "| 1 | 24 | 11 | 0 | 0 |  1991.4000 | 1 | 0 | 0 | 1 | 0.4180854 | 16.3746151 | 24 | 1506.05954 |\n",
       "| 1 | 18 | 10 | 0 | 0 | 11163.1699 | 1 | 0 | 0 | 1 | 0.3875156 | 19.0245885 | 18 |  604.47577 |\n",
       "| 1 | 29 | 11 | 0 | 0 |  9642.9990 | 1 | 0 | 1 | 1 | 0.4667886 |  9.2661914 | 29 | 2776.38683 |\n",
       "| 1 | 25 | 11 | 0 | 0 |  9897.0488 | 1 | 0 | 0 | 1 | 0.4206946 | 14.6323126 | 25 | 2648.91368 |\n",
       "| 1 | 27 | 10 | 0 | 0 | 11142.8701 | 0 | 1 | 0 | 1 | 0.2812481 |  8.3398838 | 27 | 1975.23080 |\n",
       "| 1 | 17 | 10 | 0 | 0 | 16218.0400 | 1 | 0 | 0 | 1 | 0.3849753 | 17.8719469 | 17 |   42.47396 |\n",
       "| 1 | 24 | 11 | 0 | 0 |   995.7002 | 1 | 0 | 0 | 1 | 0.4180854 | 16.3746151 | 24 | 2092.16033 |\n",
       "| ⋮ | ⋮ | ⋮ | ⋮ | ⋮ | ⋮ | ⋮ | ⋮ | ⋮ | ⋮ | ⋮ | ⋮ | ⋮ | ⋮ |\n",
       "| 0 | 17 | 11 |  4080.7300 |  3796.029 |     0.0000 | 1 | 0 | 0 | 1 | 0.4202580 | 17.87194694 | 17 |  937.1516 |\n",
       "| 0 | 43 | 10 |  2502.8679 |  4128.443 |  7565.2729 | 1 | 0 | 0 | 1 | 0.4860617 |  0.02686939 | 43 |  313.5854 |\n",
       "| 0 | 26 | 11 |     0.0000 |  4184.732 |     0.0000 | 1 | 0 | 1 | 1 | 0.5067254 | 14.75256303 | 26 | 2077.2275 |\n",
       "| 0 | 27 | 11 |     0.0000 |  4491.884 |     0.0000 | 1 | 0 | 1 | 1 | 0.5129266 | 12.83988377 | 27 | 2988.5932 |\n",
       "| 0 | 19 | 11 |  6337.4922 |  4503.064 |     0.0000 | 1 | 0 | 0 | 1 | 0.4212179 | 19.75155601 | 19 |  740.2861 |\n",
       "| 0 | 28 | 11 |  8593.1631 |  5393.895 |  4974.5859 | 1 | 0 | 1 | 1 | 0.4784262 | 10.98657928 | 28 | 1813.5350 |\n",
       "| 0 | 28 | 12 | 10585.1299 |  5551.456 | 12780.0195 | 1 | 0 | 1 | 0 | 0.4849128 | 10.98657928 | 28 | 2364.1228 |\n",
       "| 0 | 26 |  8 |  1126.2900 |  5562.598 |  3523.5779 | 1 | 0 | 0 | 1 | 0.4335688 | 12.75256303 | 26 | 1817.9557 |\n",
       "| 0 | 31 | 12 |     0.0000 |  5613.909 |     0.0000 | 1 | 0 | 0 | 0 | 0.5162197 |  4.40716786 | 31 | 3344.3580 |\n",
       "| 0 | 23 | 11 |  7617.3618 |  5716.407 | 10274.8398 | 1 | 0 | 0 | 1 | 0.4384280 | 17.87194694 | 23 |  698.8766 |\n",
       "| 0 | 20 | 12 |  7182.4922 |  6004.728 |  4779.7202 | 1 | 0 | 0 | 0 | 0.4516528 | 20.00000000 | 20 | 1438.5789 |\n",
       "| 0 | 28 | 10 |  8293.3447 |  6449.480 | 16988.1797 | 1 | 0 | 1 | 1 | 0.4764935 | 10.98657928 | 28 | 1451.6067 |\n",
       "| 0 | 39 | 12 | 19785.3203 |  6608.137 |   499.2572 | 1 | 0 | 1 | 0 | 0.4756158 |  2.21941997 | 39 |  726.9737 |\n",
       "| 0 | 21 |  8 | 39570.6797 |  6608.304 |  3083.5811 | 1 | 0 | 0 | 1 | 0.2453166 | 19.75155601 | 21 |  556.4852 |\n",
       "| 0 | 22 | 11 |  8810.0674 |  6974.484 |  3708.7190 | 1 | 0 | 0 | 1 | 0.4435151 | 19.02458849 | 22 |  858.4095 |\n",
       "| 0 | 20 | 11 |  8009.1641 |  7666.875 |  7659.2178 | 1 | 0 | 0 | 1 | 0.4504555 | 20.00000000 | 20 |  455.6929 |\n",
       "| 0 | 21 | 11 |  2992.5339 |  8920.471 | 20857.8398 | 0 | 1 | 0 | 1 | 0.3551467 | 17.25155601 | 21 |  871.5371 |\n",
       "| 0 | 23 | 12 |  5721.6958 |  8960.684 |  7078.1782 | 0 | 1 | 0 | 0 | 0.3610565 | 15.37194694 | 23 | 2027.2915 |\n",
       "| 0 | 29 |  9 |  9268.9434 |  9160.693 |     0.0000 | 1 | 0 | 0 | 1 | 0.4532927 |  7.26619139 | 29 |  928.1324 |\n",
       "| 0 | 28 |  9 | 10222.4102 |  9210.447 |  1239.8440 | 1 | 0 | 1 | 1 | 0.4817854 | 10.98657928 | 28 | 1330.1370 |\n",
       "| 0 | 30 | 11 |     0.0000 |  9311.938 |  3982.8010 | 1 | 0 | 1 | 1 | 0.5756934 |  7.73009594 | 30 | 2922.9831 |\n",
       "| 0 | 25 | 10 | 13519.9697 |  9319.444 |     0.0000 | 1 | 0 | 1 | 1 | 0.4724828 | 16.63231258 | 25 |  741.0785 |\n",
       "| 0 | 28 | 11 |   824.3889 | 10033.910 |     0.0000 | 1 | 0 | 1 | 1 | 0.5740960 | 10.98657928 | 28 | 1775.2245 |\n",
       "| 0 | 22 | 10 | 27864.3594 | 10598.670 |  7094.9199 | 0 | 0 | 0 | 1 | 0.4526931 | 18.02458849 | 22 |  581.2813 |\n",
       "| 0 | 44 |  9 | 12260.7803 | 10857.240 | 12359.3096 | 1 | 0 | 1 | 1 | 0.5322142 |  2.01493172 | 44 |  743.7018 |\n",
       "| 0 | 21 |  9 | 31886.4297 | 12357.220 |     0.0000 | 1 | 0 | 0 | 1 | 0.3482026 | 19.75155601 | 21 |  132.2092 |\n",
       "| 0 | 28 | 11 | 17491.4492 | 13371.250 |     0.0000 | 1 | 0 | 0 | 1 | 0.4847235 |  8.98657928 | 28 | 1411.8316 |\n",
       "| 0 | 29 |  9 |  9594.3076 | 16341.160 | 16900.3008 | 0 | 1 | 0 | 1 | 0.3912828 |  4.76619139 | 29 | 1798.6116 |\n",
       "| 0 | 25 |  9 | 24731.6191 | 16946.631 |  7343.9639 | 1 | 0 | 1 | 1 | 0.4822456 | 16.63231258 | 25 |  899.1823 |\n",
       "| 0 | 22 | 10 | 25720.9199 | 23031.980 |  5448.8008 | 0 | 0 | 1 | 1 | 0.6393141 | 20.02458849 | 22 | 1151.6365 |\n",
       "\n"
      ],
      "text/plain": [
       "    treat age educ re74       re75      re78       black_1 hisp_1 marr_1\n",
       "1   1     37  11   0          0          9930.0459 1       0      1     \n",
       "2   1     22   9   0          0          3595.8940 0       1      0     \n",
       "3   1     30  12   0          0         24909.4492 1       0      0     \n",
       "4   1     27  11   0          0          7506.1460 1       0      0     \n",
       "5   1     33   8   0          0           289.7899 1       0      0     \n",
       "6   1     22   9   0          0          4056.4939 1       0      0     \n",
       "7   1     23  12   0          0             0.0000 1       0      0     \n",
       "8   1     32  11   0          0          8472.1582 1       0      0     \n",
       "9   1     22  16   0          0          2164.0220 1       0      0     \n",
       "10  1     33  12   0          0         12418.0703 0       0      1     \n",
       "11  1     19   9   0          0          8173.9082 1       0      0     \n",
       "12  1     21  13   0          0         17094.6406 1       0      0     \n",
       "13  1     18   8   0          0             0.0000 1       0      0     \n",
       "14  1     27  10   0          0         18739.9297 1       0      1     \n",
       "15  1     17   7   0          0          3023.8789 1       0      0     \n",
       "16  1     19  10   0          0          3228.5029 1       0      0     \n",
       "17  1     27  13   0          0         14581.8604 1       0      0     \n",
       "18  1     23  10   0          0          7693.3999 1       0      0     \n",
       "19  1     40  12   0          0         10804.3203 1       0      0     \n",
       "20  1     26  12   0          0         10747.3496 1       0      0     \n",
       "21  1     23  11   0          0             0.0000 1       0      0     \n",
       "22  1     41  14   0          0          5149.5010 0       0      0     \n",
       "23  1     38   9   0          0          6408.9502 0       0      0     \n",
       "24  1     24  11   0          0          1991.4000 1       0      0     \n",
       "25  1     18  10   0          0         11163.1699 1       0      0     \n",
       "26  1     29  11   0          0          9642.9990 1       0      1     \n",
       "27  1     25  11   0          0          9897.0488 1       0      0     \n",
       "28  1     27  10   0          0         11142.8701 0       1      0     \n",
       "29  1     17  10   0          0         16218.0400 1       0      0     \n",
       "30  1     24  11   0          0           995.7002 1       0      0     \n",
       "⋮   ⋮     ⋮   ⋮    ⋮          ⋮         ⋮          ⋮       ⋮      ⋮     \n",
       "416 0     17  11    4080.7300  3796.029     0.0000 1       0      0     \n",
       "417 0     43  10    2502.8679  4128.443  7565.2729 1       0      0     \n",
       "418 0     26  11       0.0000  4184.732     0.0000 1       0      1     \n",
       "419 0     27  11       0.0000  4491.884     0.0000 1       0      1     \n",
       "420 0     19  11    6337.4922  4503.064     0.0000 1       0      0     \n",
       "421 0     28  11    8593.1631  5393.895  4974.5859 1       0      1     \n",
       "422 0     28  12   10585.1299  5551.456 12780.0195 1       0      1     \n",
       "423 0     26   8    1126.2900  5562.598  3523.5779 1       0      0     \n",
       "424 0     31  12       0.0000  5613.909     0.0000 1       0      0     \n",
       "425 0     23  11    7617.3618  5716.407 10274.8398 1       0      0     \n",
       "426 0     20  12    7182.4922  6004.728  4779.7202 1       0      0     \n",
       "427 0     28  10    8293.3447  6449.480 16988.1797 1       0      1     \n",
       "428 0     39  12   19785.3203  6608.137   499.2572 1       0      1     \n",
       "429 0     21   8   39570.6797  6608.304  3083.5811 1       0      0     \n",
       "430 0     22  11    8810.0674  6974.484  3708.7190 1       0      0     \n",
       "431 0     20  11    8009.1641  7666.875  7659.2178 1       0      0     \n",
       "432 0     21  11    2992.5339  8920.471 20857.8398 0       1      0     \n",
       "433 0     23  12    5721.6958  8960.684  7078.1782 0       1      0     \n",
       "434 0     29   9    9268.9434  9160.693     0.0000 1       0      0     \n",
       "435 0     28   9   10222.4102  9210.447  1239.8440 1       0      1     \n",
       "436 0     30  11       0.0000  9311.938  3982.8010 1       0      1     \n",
       "437 0     25  10   13519.9697  9319.444     0.0000 1       0      1     \n",
       "438 0     28  11     824.3889 10033.910     0.0000 1       0      1     \n",
       "439 0     22  10   27864.3594 10598.670  7094.9199 0       0      0     \n",
       "440 0     44   9   12260.7803 10857.240 12359.3096 1       0      1     \n",
       "441 0     21   9   31886.4297 12357.220     0.0000 1       0      0     \n",
       "442 0     28  11   17491.4492 13371.250     0.0000 1       0      0     \n",
       "443 0     29   9    9594.3076 16341.160 16900.3008 0       1      0     \n",
       "444 0     25   9   24731.6191 16946.631  7343.9639 1       0      1     \n",
       "445 0     22  10   25720.9199 23031.980  5448.8008 0       0      1     \n",
       "    nodegree_1 pscore    effect      age_bins predicted_effects\n",
       "1   1          0.4881728  2.5396860  37       2259.18419       \n",
       "2   1          0.2583250 16.5245885  22        458.73020       \n",
       "3   0          0.4492977  5.7300959  30       3367.69763       \n",
       "4   1          0.4259262 10.8398838  27       3814.15948       \n",
       "5   1          0.3958688  2.4187050  33       1896.09557       \n",
       "6   1          0.3827854 19.0245885  22        252.27355       \n",
       "7   0          0.4308174 17.8719469  23       3079.60386       \n",
       "8   1          0.4390757  3.3059778  32       3545.68220       \n",
       "9   0          0.4905296 19.0245885  22       2970.63764       \n",
       "10  0          0.5812637  3.4187050  33       2615.17609       \n",
       "11  1          0.3752196 19.7515560  19        639.05268       \n",
       "12  0          0.4409983 19.7515560  21       1990.30300       \n",
       "13  1          0.3581413 19.0245885  18        166.56028       \n",
       "14  1          0.4458855 12.8398838  27       2813.68870       \n",
       "15  1          0.3414155 17.8719469  17        141.04594       \n",
       "16  1          0.3900619 19.7515560  19       1453.74647       \n",
       "17  0          0.4569026 10.8398838  27       4733.60530       \n",
       "18  1          0.4003060 17.8719469  23        801.88019       \n",
       "19  0          0.4759302  0.1347589  40       2896.72521       \n",
       "20  0          0.4387170 12.7525630  26       4212.72079       \n",
       "21  1          0.4154807 17.8719469  23       1528.67828       \n",
       "22  0          0.5975678 -0.9192799  41       2816.86239       \n",
       "23  1          0.5122505 -0.6515525  38       1653.08357       \n",
       "24  1          0.4180854 16.3746151  24       1506.05954       \n",
       "25  1          0.3875156 19.0245885  18        604.47577       \n",
       "26  1          0.4667886  9.2661914  29       2776.38683       \n",
       "27  1          0.4206946 14.6323126  25       2648.91368       \n",
       "28  1          0.2812481  8.3398838  27       1975.23080       \n",
       "29  1          0.3849753 17.8719469  17         42.47396       \n",
       "30  1          0.4180854 16.3746151  24       2092.16033       \n",
       "⋮   ⋮          ⋮         ⋮           ⋮        ⋮                \n",
       "416 1          0.4202580 17.87194694 17        937.1516        \n",
       "417 1          0.4860617  0.02686939 43        313.5854        \n",
       "418 1          0.5067254 14.75256303 26       2077.2275        \n",
       "419 1          0.5129266 12.83988377 27       2988.5932        \n",
       "420 1          0.4212179 19.75155601 19        740.2861        \n",
       "421 1          0.4784262 10.98657928 28       1813.5350        \n",
       "422 0          0.4849128 10.98657928 28       2364.1228        \n",
       "423 1          0.4335688 12.75256303 26       1817.9557        \n",
       "424 0          0.5162197  4.40716786 31       3344.3580        \n",
       "425 1          0.4384280 17.87194694 23        698.8766        \n",
       "426 0          0.4516528 20.00000000 20       1438.5789        \n",
       "427 1          0.4764935 10.98657928 28       1451.6067        \n",
       "428 0          0.4756158  2.21941997 39        726.9737        \n",
       "429 1          0.2453166 19.75155601 21        556.4852        \n",
       "430 1          0.4435151 19.02458849 22        858.4095        \n",
       "431 1          0.4504555 20.00000000 20        455.6929        \n",
       "432 1          0.3551467 17.25155601 21        871.5371        \n",
       "433 0          0.3610565 15.37194694 23       2027.2915        \n",
       "434 1          0.4532927  7.26619139 29        928.1324        \n",
       "435 1          0.4817854 10.98657928 28       1330.1370        \n",
       "436 1          0.5756934  7.73009594 30       2922.9831        \n",
       "437 1          0.4724828 16.63231258 25        741.0785        \n",
       "438 1          0.5740960 10.98657928 28       1775.2245        \n",
       "439 1          0.4526931 18.02458849 22        581.2813        \n",
       "440 1          0.5322142  2.01493172 44        743.7018        \n",
       "441 1          0.3482026 19.75155601 21        132.2092        \n",
       "442 1          0.4847235  8.98657928 28       1411.8316        \n",
       "443 1          0.3912828  4.76619139 29       1798.6116        \n",
       "444 1          0.4822456 16.63231258 25        899.1823        \n",
       "445 1          0.6393141 20.02458849 22       1151.6365        "
      ]
     },
     "metadata": {},
     "output_type": "display_data"
    }
   ],
   "source": [
    "data_dummy"
   ]
  },
  {
   "cell_type": "code",
   "execution_count": 17,
   "metadata": {
    "vscode": {
     "languageId": "r"
    }
   },
   "outputs": [],
   "source": [
    "normalize <- function(x) {\n",
    "  return((x - min(x)) / (max(x) - min(x)))\n",
    "} #We standarize \n",
    "\n",
    "data_dummy$effect <- normalize(data_dummy$effect)\n",
    "data_dummy$predicted_effects <- normalize(data_dummy$predicted_effects)\n"
   ]
  },
  {
   "cell_type": "code",
   "execution_count": 18,
   "metadata": {
    "vscode": {
     "languageId": "r"
    }
   },
   "outputs": [
    {
     "data": {
      "image/png": "[encoded data removed]",
      "text/plain": [
       "Plot with title \"Actual vs Predicted Effects by Age Bins\""
      ]
     },
     "metadata": {
      "image/png": {
       "height": 420,
       "width": 420
      }
     },
     "output_type": "display_data"
    }
   ],
   "source": [
    "effects_bins <- aggregate(effect ~ age_bins, data = data_dummy, mean)\n",
    "predicted_effects_bins <- aggregate(predicted_effects ~ age_bins, data = data_dummy, mean)\n",
    "\n",
    "plot(effects_bins$age_bins, effects_bins$effect, \n",
    "     type = \"l\", col = \"blue\", \n",
    "     xlab = \"Age Bins\", ylab = \"Effects\", \n",
    "     main = \"Actual vs Predicted Effects by Age Bins\", \n",
    "     ylim = range(c(effects_bins$effect, predicted_effects_bins$predicted_effects)))\n",
    "\n",
    "lines(predicted_effects_bins$age_bins, predicted_effects_bins$predicted_effects, \n",
    "      col = \"red\")\n",
    "\n",
    "legend(\"topright\", \n",
    "       legend = c(\"Actual Effects\", \"Predicted Effects\"), \n",
    "       col = c(\"blue\", \"red\"), lty = 1)\n"
   ]
  },
  {
   "cell_type": "markdown",
   "metadata": {},
   "source": [
    "## Part 2: Double/Debiased machine learning in observational data"
   ]
  },
  {
   "cell_type": "markdown",
   "metadata": {},
   "source": [
    "2.1. Load the data (1 points). You can find the data here, and read a description of the data here. For further details on how this data was created, you can use this link."
   ]
  },
  {
   "cell_type": "code",
   "execution_count": 19,
   "metadata": {
    "vscode": {
     "languageId": "r"
    }
   },
   "outputs": [],
   "source": [
    "url2 = \"https://raw.githubusercontent.com/d2cml-ai/CausalAI-Course/refs/heads/main/Labs/Assignment/Assignment_5/data/observational/biased_control.csv\"\n",
    "bc = import(url2)"
   ]
  },
  {
   "cell_type": "markdown",
   "metadata": {},
   "source": [
    "\n",
    "2.2. Group comparisons (1.5 points). For the treatment and control group separately, report summary statistics of three variables of your choice. Can you spot any big differences between the treatment and control groups?"
   ]
  },
  {
   "cell_type": "code",
   "execution_count": 20,
   "metadata": {
    "vscode": {
     "languageId": "r"
    }
   },
   "outputs": [],
   "source": [
    "treatment_group <- data_dummy[data_dummy$treat == 1, ]\n",
    "control_group <- data_dummy[data_dummy$treat == 0, ]\n",
    "\n",
    "variables_of_interest <- c(\"age\", \"educ\", \"re74\")\n"
   ]
  },
  {
   "cell_type": "code",
   "execution_count": 21,
   "metadata": {
    "vscode": {
     "languageId": "r"
    }
   },
   "outputs": [
    {
     "data": {
      "text/html": [
       "<table class=\"dataframe\">\n",
       "<caption>A psych: 3 × 13</caption>\n",
       "<thead>\n",
       "\t<tr><th></th><th scope=col>vars</th><th scope=col>n</th><th scope=col>mean</th><th scope=col>sd</th><th scope=col>median</th><th scope=col>trimmed</th><th scope=col>mad</th><th scope=col>min</th><th scope=col>max</th><th scope=col>range</th><th scope=col>skew</th><th scope=col>kurtosis</th><th scope=col>se</th></tr>\n",
       "\t<tr><th></th><th scope=col>&lt;int&gt;</th><th scope=col>&lt;dbl&gt;</th><th scope=col>&lt;dbl&gt;</th><th scope=col>&lt;dbl&gt;</th><th scope=col>&lt;dbl&gt;</th><th scope=col>&lt;dbl&gt;</th><th scope=col>&lt;dbl&gt;</th><th scope=col>&lt;dbl&gt;</th><th scope=col>&lt;dbl&gt;</th><th scope=col>&lt;dbl&gt;</th><th scope=col>&lt;dbl&gt;</th><th scope=col>&lt;dbl&gt;</th><th scope=col>&lt;dbl&gt;</th></tr>\n",
       "</thead>\n",
       "<tbody>\n",
       "\t<tr><th scope=row>age</th><td>1</td><td>185</td><td>  25.81622</td><td>   7.155019</td><td>25</td><td> 24.85235</td><td>5.9304</td><td>17</td><td>   48.00</td><td>   31.00</td><td> 1.1063375</td><td> 0.8063778</td><td>  0.5260475</td></tr>\n",
       "\t<tr><th scope=row>educ</th><td>2</td><td>185</td><td>  10.34595</td><td>   2.010650</td><td>11</td><td> 10.45638</td><td>1.4826</td><td> 4</td><td>   16.00</td><td>   12.00</td><td>-0.7153123</td><td> 1.3861262</td><td>  0.1478259</td></tr>\n",
       "\t<tr><th scope=row>re74</th><td>3</td><td>185</td><td>2095.57369</td><td>4886.620354</td><td> 0</td><td>834.42141</td><td>0.0000</td><td> 0</td><td>35040.07</td><td>35040.07</td><td> 3.3594571</td><td>14.2044349</td><td>359.2714737</td></tr>\n",
       "</tbody>\n",
       "</table>\n"
      ],
      "text/latex": [
       "A psych: 3 × 13\n",
       "\\begin{tabular}{r|lllllllllllll}\n",
       "  & vars & n & mean & sd & median & trimmed & mad & min & max & range & skew & kurtosis & se\\\\\n",
       "  & <int> & <dbl> & <dbl> & <dbl> & <dbl> & <dbl> & <dbl> & <dbl> & <dbl> & <dbl> & <dbl> & <dbl> & <dbl>\\\\\n",
       "\\hline\n",
       "\tage & 1 & 185 &   25.81622 &    7.155019 & 25 &  24.85235 & 5.9304 & 17 &    48.00 &    31.00 &  1.1063375 &  0.8063778 &   0.5260475\\\\\n",
       "\teduc & 2 & 185 &   10.34595 &    2.010650 & 11 &  10.45638 & 1.4826 &  4 &    16.00 &    12.00 & -0.7153123 &  1.3861262 &   0.1478259\\\\\n",
       "\tre74 & 3 & 185 & 2095.57369 & 4886.620354 &  0 & 834.42141 & 0.0000 &  0 & 35040.07 & 35040.07 &  3.3594571 & 14.2044349 & 359.2714737\\\\\n",
       "\\end{tabular}\n"
      ],
      "text/markdown": [
       "\n",
       "A psych: 3 × 13\n",
       "\n",
       "| <!--/--> | vars &lt;int&gt; | n &lt;dbl&gt; | mean &lt;dbl&gt; | sd &lt;dbl&gt; | median &lt;dbl&gt; | trimmed &lt;dbl&gt; | mad &lt;dbl&gt; | min &lt;dbl&gt; | max &lt;dbl&gt; | range &lt;dbl&gt; | skew &lt;dbl&gt; | kurtosis &lt;dbl&gt; | se &lt;dbl&gt; |\n",
       "|---|---|---|---|---|---|---|---|---|---|---|---|---|---|\n",
       "| age | 1 | 185 |   25.81622 |    7.155019 | 25 |  24.85235 | 5.9304 | 17 |    48.00 |    31.00 |  1.1063375 |  0.8063778 |   0.5260475 |\n",
       "| educ | 2 | 185 |   10.34595 |    2.010650 | 11 |  10.45638 | 1.4826 |  4 |    16.00 |    12.00 | -0.7153123 |  1.3861262 |   0.1478259 |\n",
       "| re74 | 3 | 185 | 2095.57369 | 4886.620354 |  0 | 834.42141 | 0.0000 |  0 | 35040.07 | 35040.07 |  3.3594571 | 14.2044349 | 359.2714737 |\n",
       "\n"
      ],
      "text/plain": [
       "     vars n   mean       sd          median trimmed   mad    min max     \n",
       "age  1    185   25.81622    7.155019 25      24.85235 5.9304 17     48.00\n",
       "educ 2    185   10.34595    2.010650 11      10.45638 1.4826  4     16.00\n",
       "re74 3    185 2095.57369 4886.620354  0     834.42141 0.0000  0  35040.07\n",
       "     range    skew       kurtosis   se         \n",
       "age     31.00  1.1063375  0.8063778   0.5260475\n",
       "educ    12.00 -0.7153123  1.3861262   0.1478259\n",
       "re74 35040.07  3.3594571 14.2044349 359.2714737"
      ]
     },
     "metadata": {},
     "output_type": "display_data"
    }
   ],
   "source": [
    "describe(treatment_group[, variables_of_interest])"
   ]
  },
  {
   "cell_type": "code",
   "execution_count": 22,
   "metadata": {
    "vscode": {
     "languageId": "r"
    }
   },
   "outputs": [
    {
     "data": {
      "text/html": [
       "<table class=\"dataframe\">\n",
       "<caption>A psych: 3 × 13</caption>\n",
       "<thead>\n",
       "\t<tr><th></th><th scope=col>vars</th><th scope=col>n</th><th scope=col>mean</th><th scope=col>sd</th><th scope=col>median</th><th scope=col>trimmed</th><th scope=col>mad</th><th scope=col>min</th><th scope=col>max</th><th scope=col>range</th><th scope=col>skew</th><th scope=col>kurtosis</th><th scope=col>se</th></tr>\n",
       "\t<tr><th></th><th scope=col>&lt;int&gt;</th><th scope=col>&lt;dbl&gt;</th><th scope=col>&lt;dbl&gt;</th><th scope=col>&lt;dbl&gt;</th><th scope=col>&lt;dbl&gt;</th><th scope=col>&lt;dbl&gt;</th><th scope=col>&lt;dbl&gt;</th><th scope=col>&lt;dbl&gt;</th><th scope=col>&lt;dbl&gt;</th><th scope=col>&lt;dbl&gt;</th><th scope=col>&lt;dbl&gt;</th><th scope=col>&lt;dbl&gt;</th><th scope=col>&lt;dbl&gt;</th></tr>\n",
       "</thead>\n",
       "<tbody>\n",
       "\t<tr><th scope=row>age</th><td>1</td><td>260</td><td>  25.05385</td><td>   7.057745</td><td>24</td><td> 24.08654</td><td>5.9304</td><td>17</td><td>   55.00</td><td>   38.00</td><td> 1.3596363</td><td> 2.289175</td><td>  0.4377027</td></tr>\n",
       "\t<tr><th scope=row>educ</th><td>2</td><td>260</td><td>  10.08846</td><td>   1.614325</td><td>10</td><td> 10.21154</td><td>1.4826</td><td> 3</td><td>   14.00</td><td>   11.00</td><td>-0.9327908</td><td> 1.987212</td><td>  0.1001162</td></tr>\n",
       "\t<tr><th scope=row>re74</th><td>3</td><td>260</td><td>2107.02665</td><td>5687.905639</td><td> 0</td><td>620.42664</td><td>0.0000</td><td> 0</td><td>39570.68</td><td>39570.68</td><td> 3.8208144</td><td>16.378671</td><td>352.7489332</td></tr>\n",
       "</tbody>\n",
       "</table>\n"
      ],
      "text/latex": [
       "A psych: 3 × 13\n",
       "\\begin{tabular}{r|lllllllllllll}\n",
       "  & vars & n & mean & sd & median & trimmed & mad & min & max & range & skew & kurtosis & se\\\\\n",
       "  & <int> & <dbl> & <dbl> & <dbl> & <dbl> & <dbl> & <dbl> & <dbl> & <dbl> & <dbl> & <dbl> & <dbl> & <dbl>\\\\\n",
       "\\hline\n",
       "\tage & 1 & 260 &   25.05385 &    7.057745 & 24 &  24.08654 & 5.9304 & 17 &    55.00 &    38.00 &  1.3596363 &  2.289175 &   0.4377027\\\\\n",
       "\teduc & 2 & 260 &   10.08846 &    1.614325 & 10 &  10.21154 & 1.4826 &  3 &    14.00 &    11.00 & -0.9327908 &  1.987212 &   0.1001162\\\\\n",
       "\tre74 & 3 & 260 & 2107.02665 & 5687.905639 &  0 & 620.42664 & 0.0000 &  0 & 39570.68 & 39570.68 &  3.8208144 & 16.378671 & 352.7489332\\\\\n",
       "\\end{tabular}\n"
      ],
      "text/markdown": [
       "\n",
       "A psych: 3 × 13\n",
       "\n",
       "| <!--/--> | vars &lt;int&gt; | n &lt;dbl&gt; | mean &lt;dbl&gt; | sd &lt;dbl&gt; | median &lt;dbl&gt; | trimmed &lt;dbl&gt; | mad &lt;dbl&gt; | min &lt;dbl&gt; | max &lt;dbl&gt; | range &lt;dbl&gt; | skew &lt;dbl&gt; | kurtosis &lt;dbl&gt; | se &lt;dbl&gt; |\n",
       "|---|---|---|---|---|---|---|---|---|---|---|---|---|---|\n",
       "| age | 1 | 260 |   25.05385 |    7.057745 | 24 |  24.08654 | 5.9304 | 17 |    55.00 |    38.00 |  1.3596363 |  2.289175 |   0.4377027 |\n",
       "| educ | 2 | 260 |   10.08846 |    1.614325 | 10 |  10.21154 | 1.4826 |  3 |    14.00 |    11.00 | -0.9327908 |  1.987212 |   0.1001162 |\n",
       "| re74 | 3 | 260 | 2107.02665 | 5687.905639 |  0 | 620.42664 | 0.0000 |  0 | 39570.68 | 39570.68 |  3.8208144 | 16.378671 | 352.7489332 |\n",
       "\n"
      ],
      "text/plain": [
       "     vars n   mean       sd          median trimmed   mad    min max     \n",
       "age  1    260   25.05385    7.057745 24      24.08654 5.9304 17     55.00\n",
       "educ 2    260   10.08846    1.614325 10      10.21154 1.4826  3     14.00\n",
       "re74 3    260 2107.02665 5687.905639  0     620.42664 0.0000  0  39570.68\n",
       "     range    skew       kurtosis  se         \n",
       "age     38.00  1.3596363  2.289175   0.4377027\n",
       "educ    11.00 -0.9327908  1.987212   0.1001162\n",
       "re74 39570.68  3.8208144 16.378671 352.7489332"
      ]
     },
     "metadata": {},
     "output_type": "display_data"
    }
   ],
   "source": [
    "describe(control_group[, variables_of_interest])"
   ]
  },
  {
   "cell_type": "markdown",
   "metadata": {},
   "source": [
    "We can observe how the average age in both groups varies, in the case of the treatment group the average age is around 26 y/o, compared to 33 y/o in the control group. Also, individuals in the control group have on average more education years. Another important difference is that around 84% of the treatment group is black, versus only 7% in the control group, which can lead to future biases in the estimates. "
   ]
  },
  {
   "cell_type": "markdown",
   "metadata": {},
   "source": [
    "2.3. Compute the SMD (1.5 points). Find the simple difference of means, which we can use as a naive estimate of the ATE. How does the result in this case compare to the result in point 1.2.?\n"
   ]
  },
  {
   "cell_type": "code",
   "execution_count": 23,
   "metadata": {
    "vscode": {
     "languageId": "r"
    }
   },
   "outputs": [
    {
     "name": "stdout",
     "output_type": "stream",
     "text": [
      "The Standardized Mean Difference (SMD) for 're78' is: 0.2646067 \n"
     ]
    }
   ],
   "source": [
    "mean_treated <- mean(treatment_group$re78)\n",
    "mean_control <- mean(control_group$re78)\n",
    "\n",
    "var_treated <- var(treatment_group$re78)\n",
    "var_control <- var(control_group$re78)\n",
    "\n",
    "smd <- (mean_treated - mean_control) / sqrt((var_treated + var_control) / 2)\n",
    "\n",
    "cat(\"The Standardized Mean Difference (SMD) for 're78' is:\", smd, \"\\n\")\n"
   ]
  },
  {
   "cell_type": "markdown",
   "metadata": {},
   "source": [
    "The SMD in this case is 0.265, indicating a small positive standardized difference between the treated and control groups for the re78 variable. This value suggests that the mean outcome for the treated group is slightly higher than that of the control group when accounting for variability across both groups.\n"
   ]
  },
  {
   "cell_type": "markdown",
   "metadata": {},
   "source": [
    "\n",
    "2.4. Using DML (6 points). Use the DML procedure as we saw in the Lab, in order to find a better estimate of the ATE. You may use the doubleML packages for Python and R, but this package does not exist for Julia, so you will have to build your own procedure like we saw in class. You will be rewarded extra points for using more than one method for predictions. At the end, report the treatment effect you found, as well as the MSE for D and Y achieved by the method(s) you used."
   ]
  },
  {
   "cell_type": "code",
   "execution_count": 24,
   "metadata": {
    "vscode": {
     "languageId": "r"
    }
   },
   "outputs": [],
   "source": [
    "x <- bc[, !(colnames(bc) %in% c(\"treat\", \"re78\"))]\n",
    "x <- as.matrix(x)\n",
    "\n",
    "d <- bc$treat\n",
    "\n",
    "y <- bc$re78\n"
   ]
  },
  {
   "cell_type": "code",
   "execution_count": 25,
   "metadata": {
    "vscode": {
     "languageId": "r"
    }
   },
   "outputs": [],
   "source": [
    "DML2.for.PLM <- function(x, d, y, dreg, yreg, nfold=2) {\n",
    "  nobs <- nrow(x) #number of observations\n",
    "  foldid <- rep.int(1:nfold,times = ceiling(nobs/nfold))[sample.int(nobs)] #define folds indices\n",
    "  I <- split(1:nobs, foldid)  #split observation indices into folds\n",
    "  ytil <- dtil <- rep(NA, nobs)\n",
    "  cat(\"fold: \")\n",
    "  for(b in 1:length(I)){\n",
    "    dfit <- dreg(x[-I[[b]],], d[-I[[b]]]) #take a fold out\n",
    "    yfit <- yreg(x[-I[[b]],], y[-I[[b]]]) # take a foldt out\n",
    "    dhat <- predict(dfit, x[I[[b]],], type=\"response\") #predict the left-out fold\n",
    "    yhat <- predict(yfit, x[I[[b]],], type=\"response\") #predict the left-out fold\n",
    "    dtil[I[[b]]] <- (d[I[[b]]] - dhat) #record residual for the left-out fold\n",
    "    ytil[I[[b]]] <- (y[I[[b]]] - yhat) #record residial for the left-out fold\n",
    "    cat(b,\" \")\n",
    "        }\n",
    "  rfit <- lm(ytil ~ dtil)    #estimate the main parameter by regressing one residual on the other\n",
    "  coef.est <- coef(rfit)[2]  #extract coefficient\n",
    "  se <- sqrt(vcovHC(rfit)[2,2]) #record robust standard error\n",
    "  cat(sprintf(\"\\ncoef (se) = %g (%g)\\n\", coef.est , se))  #printing output\n",
    "  return( list(coef.est =coef.est , se=se, dtil=dtil, ytil=ytil) ) #save output and residuals\n",
    "}"
   ]
  },
  {
   "cell_type": "code",
   "execution_count": 26,
   "metadata": {
    "vscode": {
     "languageId": "r"
    }
   },
   "outputs": [
    {
     "name": "stdout",
     "output_type": "stream",
     "text": [
      "\n",
      "DML with OLS w/o feature selection \n",
      "fold: 1  2  3  4  5  6  7  8  9  10  \n",
      "coef (se) = 1.51222 (0.628413)\n",
      "\n",
      "DML with Lasso \n",
      "fold: 1  2  3  4  5  6  7  8  9  10  \n",
      "coef (se) = 1.07383 (0.630505)\n",
      "\n",
      "DML with Random Forest \n",
      "fold: "
     ]
    },
    {
     "name": "stderr",
     "output_type": "stream",
     "text": [
      "Warning message in randomForest.default(x, d):\n",
      "\"The response has five or fewer unique values.  Are you sure you want to do regression?\"\n"
     ]
    },
    {
     "name": "stdout",
     "output_type": "stream",
     "text": [
      "1  "
     ]
    },
    {
     "name": "stderr",
     "output_type": "stream",
     "text": [
      "Warning message in randomForest.default(x, d):\n",
      "\"The response has five or fewer unique values.  Are you sure you want to do regression?\"\n"
     ]
    },
    {
     "name": "stdout",
     "output_type": "stream",
     "text": [
      "2  "
     ]
    },
    {
     "name": "stderr",
     "output_type": "stream",
     "text": [
      "Warning message in randomForest.default(x, d):\n",
      "\"The response has five or fewer unique values.  Are you sure you want to do regression?\"\n"
     ]
    },
    {
     "name": "stdout",
     "output_type": "stream",
     "text": [
      "3  "
     ]
    },
    {
     "name": "stderr",
     "output_type": "stream",
     "text": [
      "Warning message in randomForest.default(x, d):\n",
      "\"The response has five or fewer unique values.  Are you sure you want to do regression?\"\n"
     ]
    },
    {
     "name": "stdout",
     "output_type": "stream",
     "text": [
      "4  "
     ]
    },
    {
     "name": "stderr",
     "output_type": "stream",
     "text": [
      "Warning message in randomForest.default(x, d):\n",
      "\"The response has five or fewer unique values.  Are you sure you want to do regression?\"\n"
     ]
    },
    {
     "name": "stdout",
     "output_type": "stream",
     "text": [
      "5  "
     ]
    },
    {
     "name": "stderr",
     "output_type": "stream",
     "text": [
      "Warning message in randomForest.default(x, d):\n",
      "\"The response has five or fewer unique values.  Are you sure you want to do regression?\"\n"
     ]
    },
    {
     "name": "stdout",
     "output_type": "stream",
     "text": [
      "6  "
     ]
    },
    {
     "name": "stderr",
     "output_type": "stream",
     "text": [
      "Warning message in randomForest.default(x, d):\n",
      "\"The response has five or fewer unique values.  Are you sure you want to do regression?\"\n"
     ]
    },
    {
     "name": "stdout",
     "output_type": "stream",
     "text": [
      "7  "
     ]
    },
    {
     "name": "stderr",
     "output_type": "stream",
     "text": [
      "Warning message in randomForest.default(x, d):\n",
      "\"The response has five or fewer unique values.  Are you sure you want to do regression?\"\n"
     ]
    },
    {
     "name": "stdout",
     "output_type": "stream",
     "text": [
      "8  "
     ]
    },
    {
     "name": "stderr",
     "output_type": "stream",
     "text": [
      "Warning message in randomForest.default(x, d):\n",
      "\"The response has five or fewer unique values.  Are you sure you want to do regression?\"\n"
     ]
    },
    {
     "name": "stdout",
     "output_type": "stream",
     "text": [
      "9  "
     ]
    },
    {
     "name": "stderr",
     "output_type": "stream",
     "text": [
      "Warning message in randomForest.default(x, d):\n",
      "\"The response has five or fewer unique values.  Are you sure you want to do regression?\"\n"
     ]
    },
    {
     "name": "stdout",
     "output_type": "stream",
     "text": [
      "10  \n",
      "coef (se) = 1.2043 (0.652269)\n",
      "\n",
      "DML with Lasso for D and Random Forest for Y \n",
      "fold: 1  2  3  4  5  6  7  8  9  10  \n",
      "coef (se) = 0.879836 (0.648641)\n"
     ]
    }
   ],
   "source": [
    "#DML with OLS\n",
    "cat(sprintf(\"\\nDML with OLS w/o feature selection \\n\"))\n",
    "dreg <- function(x,d){ glmnet(x, d, lambda = 0) } #ML method= OLS using glmnet; using lm gives bugs\n",
    "yreg <- function(x,y){ glmnet(x, y, lambda = 0) } #ML method = OLS\n",
    "DML2.OLS = DML2.for.PLM(x, d, y, dreg, yreg, nfold=10)\n",
    "\n",
    "\n",
    "#DML with Lasso:\n",
    "cat(sprintf(\"\\nDML with Lasso \\n\"))\n",
    "dreg <- function(x,d){ rlasso(x,d, post=FALSE) } #ML method= lasso from hdm\n",
    "yreg <- function(x,y){ rlasso(x,y, post=FALSE) } #ML method = lasso from hdm\n",
    "DML2.lasso = DML2.for.PLM(x, d, y, dreg, yreg, nfold=10)\n",
    "\n",
    "\n",
    "#DML with Random Forest:\n",
    "cat(sprintf(\"\\nDML with Random Forest \\n\"))\n",
    "dreg <- function(x,d){ randomForest(x, d) } #ML method=Forest\n",
    "yreg <- function(x,y){ randomForest(x, y) } #ML method=Forest\n",
    "DML2.RF = DML2.for.PLM(x, d, y, dreg, yreg, nfold=10)\n",
    "\n",
    "#DML MIX:\n",
    "cat(sprintf(\"\\nDML with Lasso for D and Random Forest for Y \\n\"))\n",
    "dreg <- function(x,d){ rlasso(x,d, post=FALSE) } #ML method=Forest\n",
    "yreg <- function(x,y){ randomForest(x, y) } #ML method=Forest\n",
    "DML2.mix = DML2.for.PLM(x, d, y, dreg, yreg, nfold=10)"
   ]
  },
  {
   "cell_type": "code",
   "execution_count": 27,
   "metadata": {
    "vscode": {
     "languageId": "r"
    }
   },
   "outputs": [],
   "source": [
    "prRes.D<- c( mean((DML2.OLS$dtil)^2), mean((DML2.lasso$dtil)^2), mean((DML2.RF$dtil)^2), mean((DML2.mix$dtil)^2));\n",
    "prRes.Y<- c(mean((DML2.OLS$ytil)^2), mean((DML2.lasso$ytil)^2),mean((DML2.RF$ytil)^2),mean((DML2.mix$ytil)^2));\n",
    "prRes<- rbind(sqrt(prRes.D), sqrt(prRes.Y));\n",
    "rownames(prRes)<- c(\"RMSE D\", \"RMSE Y\");\n",
    "colnames(prRes)<- c(\"OLS\", \"Lasso\", \"RF\", \"Mix\")"
   ]
  },
  {
   "cell_type": "code",
   "execution_count": 28,
   "metadata": {
    "vscode": {
     "languageId": "r"
    }
   },
   "outputs": [
    {
     "data": {
      "text/html": [
       "<table class=\"dataframe\">\n",
       "<caption>A matrix: 4 × 4 of type dbl</caption>\n",
       "<thead>\n",
       "\t<tr><th></th><th scope=col>Estimate</th><th scope=col>Standard Error</th><th scope=col>RMSE Y</th><th scope=col>RMSE D</th></tr>\n",
       "</thead>\n",
       "<tbody>\n",
       "\t<tr><th scope=row>OLS</th><td>1.5122205</td><td>0.6284133</td><td>6.987954</td><td>0.09866164</td></tr>\n",
       "\t<tr><th scope=row>Lasso</th><td>1.0738338</td><td>0.6305050</td><td>6.999595</td><td>0.09975009</td></tr>\n",
       "\t<tr><th scope=row>RF</th><td>1.2042958</td><td>0.6522690</td><td>7.248245</td><td>0.08564215</td></tr>\n",
       "\t<tr><th scope=row>RF/Lasso Mix</th><td>0.8798363</td><td>0.6486410</td><td>7.241457</td><td>0.09973243</td></tr>\n",
       "</tbody>\n",
       "</table>\n"
      ],
      "text/latex": [
       "A matrix: 4 × 4 of type dbl\n",
       "\\begin{tabular}{r|llll}\n",
       "  & Estimate & Standard Error & RMSE Y & RMSE D\\\\\n",
       "\\hline\n",
       "\tOLS & 1.5122205 & 0.6284133 & 6.987954 & 0.09866164\\\\\n",
       "\tLasso & 1.0738338 & 0.6305050 & 6.999595 & 0.09975009\\\\\n",
       "\tRF & 1.2042958 & 0.6522690 & 7.248245 & 0.08564215\\\\\n",
       "\tRF/Lasso Mix & 0.8798363 & 0.6486410 & 7.241457 & 0.09973243\\\\\n",
       "\\end{tabular}\n"
      ],
      "text/markdown": [
       "\n",
       "A matrix: 4 × 4 of type dbl\n",
       "\n",
       "| <!--/--> | Estimate | Standard Error | RMSE Y | RMSE D |\n",
       "|---|---|---|---|---|\n",
       "| OLS | 1.5122205 | 0.6284133 | 6.987954 | 0.09866164 |\n",
       "| Lasso | 1.0738338 | 0.6305050 | 6.999595 | 0.09975009 |\n",
       "| RF | 1.2042958 | 0.6522690 | 7.248245 | 0.08564215 |\n",
       "| RF/Lasso Mix | 0.8798363 | 0.6486410 | 7.241457 | 0.09973243 |\n",
       "\n"
      ],
      "text/plain": [
       "             Estimate  Standard Error RMSE Y   RMSE D    \n",
       "OLS          1.5122205 0.6284133      6.987954 0.09866164\n",
       "Lasso        1.0738338 0.6305050      6.999595 0.09975009\n",
       "RF           1.2042958 0.6522690      7.248245 0.08564215\n",
       "RF/Lasso Mix 0.8798363 0.6486410      7.241457 0.09973243"
      ]
     },
     "metadata": {},
     "output_type": "display_data"
    }
   ],
   "source": [
    "prRes.D<- c( mean((DML2.OLS$dtil)^2), mean((DML2.lasso$dtil)^2), mean((DML2.RF$dtil)^2), mean((DML2.mix$dtil)^2));\n",
    "prRes.Y<- c(mean((DML2.OLS$ytil)^2), mean((DML2.lasso$ytil)^2),mean((DML2.RF$ytil)^2),mean((DML2.mix$ytil)^2));\n",
    "prRes<- rbind(sqrt(prRes.D), sqrt(prRes.Y));\n",
    "rownames(prRes)<- c(\"RMSE D\", \"RMSE Y\");\n",
    "colnames(prRes)<- c(\"OLS\", \"Lasso\", \"RF\", \"Mix\")\n",
    "     \n",
    "\n",
    "table <- matrix(0,4,4)\n",
    "\n",
    "# Point Estimate\n",
    "table[1,1] <- as.numeric(DML2.OLS$coef.est)\n",
    "table[2,1] <- as.numeric(DML2.lasso$coef.est)\n",
    "table[3,1] <- as.numeric(DML2.RF$coef.est)\n",
    "table[4,1]   <- as.numeric(DML2.mix$coef.est)\n",
    "\n",
    "# SE\n",
    "table[1,2] <- as.numeric(DML2.OLS$se)\n",
    "table[2,2] <- as.numeric(DML2.lasso$se)\n",
    "table[3,2] <- as.numeric(DML2.RF$se)\n",
    "table[4,2]   <- as.numeric(DML2.mix$se)\n",
    "\n",
    "# RMSE Y\n",
    "table[1,3] <- as.numeric(prRes[2,1])\n",
    "table[2,3] <- as.numeric(prRes[2,2])\n",
    "table[3,3] <- as.numeric(prRes[2,3])\n",
    "table[4,3]   <- as.numeric(prRes[2,4])\n",
    "\n",
    "# RMSE D\n",
    "table[1,4] <- as.numeric(prRes[1,1])\n",
    "table[2,4] <- as.numeric(prRes[1,2])\n",
    "table[3,4] <- as.numeric(prRes[1,3])\n",
    "table[4,4]   <- as.numeric(prRes[1,4])\n",
    "\n",
    "# print results\n",
    "colnames(table) <- c(\"Estimate\",\"Standard Error\", \"RMSE Y\", \"RMSE D\")\n",
    "rownames(table) <- c(\"OLS\", \"Lasso\", \"RF\", \"RF/Lasso Mix\")\n",
    "table"
   ]
  }
 ],
 "metadata": {
  "kernelspec": {
   "display_name": "R",
   "language": "R",
   "name": "ir"
  },
  "language_info": {
   "codemirror_mode": "r",
   "file_extension": ".r",
   "mimetype": "text/x-r-source",
   "name": "R",
   "pygments_lexer": "r",
   "version": "4.3.3"
  }
 },
 "nbformat": 4,
 "nbformat_minor": 2
}
