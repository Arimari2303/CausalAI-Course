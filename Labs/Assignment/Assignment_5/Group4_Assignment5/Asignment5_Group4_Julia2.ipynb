{
 "cells": [
  {
   "cell_type": "code",
   "execution_count": 4,
   "metadata": {},
   "outputs": [],
   "source": [
    "using CSV, DataFrames, StatsModels, GLM, Random, RData, MLBase, MLJ, PrettyTables, FixedEffectModels"
   ]
  },
  {
   "cell_type": "code",
   "execution_count": 6,
   "metadata": {},
   "outputs": [
    {
     "ename": "LoadError",
     "evalue": "No applicable_loaders found for UNKNOWN",
     "output_type": "error",
     "traceback": [
      "No applicable_loaders found for UNKNOWN",
      "",
      "Stacktrace:",
      " [1] error(s::String)",
      "   @ Base .\\error.jl:35",
      " [2] applicable_loaders",
      "   @ C:\\Users\\sophi\\.julia\\packages\\FileIO\\PtqMQ\\src\\loadsave.jl:11 [inlined]",
      " [3] load(::String; options::@Kwargs{})",
      "   @ FileIO C:\\Users\\sophi\\.julia\\packages\\FileIO\\PtqMQ\\src\\loadsave.jl:112",
      " [4] load(::String)",
      "   @ FileIO C:\\Users\\sophi\\.julia\\packages\\FileIO\\PtqMQ\\src\\loadsave.jl:109",
      " [5] top-level scope",
      "   @ In[6]:3"
     ]
    }
   ],
   "source": [
    "url = \"https://github.com/d2cml-ai/CausalAI-Course/blob/main/Labs/Assignment/Assignment_5/data/observational/biased_control.csv\"\n",
    "download(url, \"data.BiasControl\")\n",
    "rdata_read = RData.load(\"data.BiasControl\")\n",
    "data = rdata_read[\"Biased_Data\"]\n",
    "data"
   ]
  }
 ],
 "metadata": {
  "kernelspec": {
   "display_name": "Julia 1.10.5",
   "language": "julia",
   "name": "julia-1.10"
  },
  "language_info": {
   "file_extension": ".jl",
   "mimetype": "application/julia",
   "name": "julia",
   "version": "1.10.5"
  }
 },
 "nbformat": 4,
 "nbformat_minor": 2
}
