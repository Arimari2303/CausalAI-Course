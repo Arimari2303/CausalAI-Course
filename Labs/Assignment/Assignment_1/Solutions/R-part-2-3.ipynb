{
 "cells": [
  {
   "cell_type": "code",
   "execution_count": 1,
   "metadata": {
    "vscode": {
     "languageId": "r"
    }
   },
   "outputs": [],
   "source": [
    "data <- read.csv(\"https://raw.githubusercontent.com/d2cml-ai/CausalAI-Course/main/data/wage2015_subsample_inference.csv\")"
   ]
  },
  {
   "cell_type": "markdown",
   "metadata": {},
   "source": [
    "7. In some situations it can be useful to generate arrays (matrices) in R. However, for regressions, it is standard to use formulas. We will still be generating collections and matrices just to get used to doing so in R"
   ]
  },
  {
   "cell_type": "code",
   "execution_count": 2,
   "metadata": {
    "vscode": {
     "languageId": "r"
    }
   },
   "outputs": [],
   "source": [
    "y <- data$lwage"
   ]
  },
  {
   "cell_type": "markdown",
   "metadata": {},
   "source": [
    "8.\n",
    "8.1"
   ]
  },
  {
   "cell_type": "code",
   "execution_count": 3,
   "metadata": {
    "vscode": {
     "languageId": "r"
    }
   },
   "outputs": [],
   "source": [
    "X_basic <- model.matrix(~ sex + hsg + scl + clg + ad + so + we + ne + exp1 + C(occ2) + C(ind2), data = data)"
   ]
  },
  {
   "cell_type": "markdown",
   "metadata": {},
   "source": [
    "8.2"
   ]
  },
  {
   "cell_type": "code",
   "execution_count": 4,
   "metadata": {
    "vscode": {
     "languageId": "r"
    }
   },
   "outputs": [],
   "source": [
    "X_flexible <- model.matrix(~ sex + (exp1 + exp2 + exp3 + exp4) * (hsg + scl + clg + ad + so + we + ne + C(occ2) + C(ind2)), data = data)"
   ]
  },
  {
   "cell_type": "markdown",
   "metadata": {},
   "source": [
    "8.3"
   ]
  },
  {
   "cell_type": "code",
   "execution_count": 5,
   "metadata": {
    "vscode": {
     "languageId": "r"
    }
   },
   "outputs": [],
   "source": [
    "X_extra_flexible <- model.matrix(~ sex + (exp1 + exp2 + exp3 + exp4 + hsg + scl + clg + ad + so + we + ne + C(occ2) + C(ind2)) ^ 2, data = data)"
   ]
  },
  {
   "cell_type": "markdown",
   "metadata": {},
   "source": [
    "9."
   ]
  },
  {
   "cell_type": "code",
   "execution_count": 6,
   "metadata": {
    "vscode": {
     "languageId": "r"
    }
   },
   "outputs": [],
   "source": [
    "train_sample <- runif(length(y)) < 0.8"
   ]
  },
  {
   "cell_type": "code",
   "execution_count": 7,
   "metadata": {
    "vscode": {
     "languageId": "r"
    }
   },
   "outputs": [],
   "source": [
    "test_sample <- !train_sample"
   ]
  },
  {
   "cell_type": "markdown",
   "metadata": {},
   "source": [
    "10."
   ]
  },
  {
   "cell_type": "code",
   "execution_count": 8,
   "metadata": {
    "vscode": {
     "languageId": "r"
    }
   },
   "outputs": [],
   "source": [
    "basic_model <- lm(lwage ~ sex + hsg + scl + clg + ad + so + we + ne + exp1 + C(occ2) + C(ind2), data = data, subset = train_sample)"
   ]
  },
  {
   "cell_type": "code",
   "execution_count": 9,
   "metadata": {
    "vscode": {
     "languageId": "r"
    }
   },
   "outputs": [],
   "source": [
    "flexible_model <- lm(lwage ~ sex + (exp1 + exp2 + exp3 + exp4) * (hsg + scl + clg + ad + so + we + ne + C(occ2) + C(ind2)), data = data, subset = train_sample)"
   ]
  },
  {
   "cell_type": "code",
   "execution_count": 10,
   "metadata": {
    "vscode": {
     "languageId": "r"
    }
   },
   "outputs": [],
   "source": [
    "extra_flexible_model <- lm(lwage ~ sex + (exp1 + exp2 + exp3 + exp4 + hsg + scl + clg + ad + so + we + ne + C(occ2) + C(ind2)) ^ 2, data = data, subset = train_sample)"
   ]
  },
  {
   "cell_type": "markdown",
   "metadata": {},
   "source": [
    "11."
   ]
  },
  {
   "cell_type": "code",
   "execution_count": 22,
   "metadata": {
    "vscode": {
     "languageId": "r"
    }
   },
   "outputs": [
    {
     "name": "stderr",
     "output_type": "stream",
     "text": [
      "Warning message:\n",
      "\"contrasts dropped from factor C(occ2)\"\n",
      "Warning message:\n",
      "\"contrasts dropped from factor C(ind2)\"\n"
     ]
    },
    {
     "name": "stdout",
     "output_type": "stream",
     "text": [
      "[1] \"Training MSE for basic model: 0.228388454971171\"\n",
      "[1] \"Training R2 for basic model: 0.297669962190106\"\n",
      "[1] \"Adjusted training R2 for basic model: 0.290976708113303\"\n",
      "[1] \"Training MSE for basic model: 0.211464023825894\"\n",
      "[1] \"Training R2 for basic model: 0.351842534553317\"\n"
     ]
    }
   ],
   "source": [
    "mse_train_basic <- mean(basic_model$residuals ^ 2)\n",
    "r2_train_basic <- 1 - mse_train_basic / var(y[train_sample])\n",
    "adjr2_train_basic <- 1 - length(y) / (length(y) - ncol(X_basic)) * mse_train_basic / var(y)\n",
    "mse_test_basic <- mean((predict(basic_model, subset(data, subset = test_sample)) - y[test_sample]) ^ 2)\n",
    "r2_test_basic <- 1 - mse_test_basic / var(y[test_sample])\n",
    "\n",
    "print(paste(\"Training MSE for basic model:\", mse_train_basic))\n",
    "print(paste(\"Training R2 for basic model:\", r2_train_basic))\n",
    "print(paste(\"Adjusted training R2 for basic model:\", adjr2_train_basic))\n",
    "print(paste(\"Testing MSE for basic model:\", mse_test_basic))\n",
    "print(paste(\"Testing R2 for basic model:\", r2_test_basic))"
   ]
  },
  {
   "cell_type": "code",
   "execution_count": 23,
   "metadata": {
    "vscode": {
     "languageId": "r"
    }
   },
   "outputs": [
    {
     "name": "stderr",
     "output_type": "stream",
     "text": [
      "Warning message:\n",
      "\"contrasts dropped from factor C(occ2)\"\n",
      "Warning message:\n",
      "\"contrasts dropped from factor C(ind2)\"\n"
     ]
    },
    {
     "name": "stdout",
     "output_type": "stream",
     "text": [
      "[1] \"Training MSE for flexible model: 0.21151321437185\"\n",
      "[1] \"Training R2 for flexible model: 0.349867848727106\"\n",
      "[1] \"Adjusted training R2 for flexible model: 0.317255183716272\"\n",
      "[1] \"Testing MSE for flexible model: 0.225423023234478\"\n",
      "[1] \"Testing R2 for flexible model: 0.309056865799144\"\n"
     ]
    }
   ],
   "source": [
    "mse_train_flexible <- mean(flexible_model$residuals ^ 2)\n",
    "r2_train_flexible <- 1 - mse_train_flexible / var(y)\n",
    "adjr2_train_flexible <- 1 - length(y) / (length(y) - ncol(X_flexible)) * mse_train_flexible / var(y)\n",
    "mse_test_flexible <- mean((predict(flexible_model, subset(data, subset = test_sample)) - y[test_sample]) ^ 2)\n",
    "r2_test_flexible <- 1 - mse_test_flexible / var(y[test_sample])\n",
    "\n",
    "print(paste(\"Training MSE for flexible model:\", mse_train_flexible))\n",
    "print(paste(\"Training R2 for flexible model:\", r2_train_flexible))\n",
    "print(paste(\"Adjusted training R2 for flexible model:\", adjr2_train_flexible))\n",
    "print(paste(\"Testing MSE for flexible model:\", mse_test_flexible))\n",
    "print(paste(\"Testing R2 for flexible model:\", r2_test_flexible))"
   ]
  },
  {
   "cell_type": "code",
   "execution_count": 24,
   "metadata": {
    "vscode": {
     "languageId": "r"
    }
   },
   "outputs": [
    {
     "name": "stderr",
     "output_type": "stream",
     "text": [
      "Warning message:\n",
      "\"contrasts dropped from factor C(occ2)\"\n",
      "Warning message:\n",
      "\"contrasts dropped from factor C(ind2)\"\n",
      "Warning message in predict.lm(extra_flexible_model, subset(data, subset = test_sample)):\n",
      "\"prediction from rank-deficient fit; attr(*, \"non-estim\") has doubtful cases\"\n"
     ]
    },
    {
     "name": "stdout",
     "output_type": "stream",
     "text": [
      "[1] \"Training MSE for flexible model: 0.172215806128951\"\n",
      "[1] \"Training R2 for flexible model: 0.470657032685561\"\n",
      "[1] \"Adjusted training R2 for flexible model: 0.34625508832869\"\n",
      "[1] \"Testing MSE for flexible model: 0.291440620841393\"\n",
      "[1] \"Testing R2 for flexible model: 0.10670661271303\"\n"
     ]
    }
   ],
   "source": [
    "mse_train_extra_flexible <- mean(extra_flexible_model$residuals ^ 2)\n",
    "r2_train_extra_flexible <- 1 - mse_train_extra_flexible / var(y)\n",
    "adjr2_train_extra_flexible <- 1 - length(y) / (length(y) - ncol(X_extra_flexible)) * mse_train_extra_flexible / var(y)\n",
    "mse_test_extra_flexible <- mean((predict(extra_flexible_model, subset(data, subset = test_sample)) - y[test_sample]) ^ 2)\n",
    "r2_test_extra_flexible <- 1 - mse_test_extra_flexible / var(y[test_sample])\n",
    "\n",
    "print(paste(\"Training MSE for flexible model:\", mse_train_extra_flexible))\n",
    "print(paste(\"Training R2 for flexible model:\", r2_train_extra_flexible))\n",
    "print(paste(\"Adjusted training R2 for flexible model:\", adjr2_train_extra_flexible))\n",
    "print(paste(\"Testing MSE for flexible model:\", mse_test_extra_flexible))\n",
    "print(paste(\"Testing R2 for flexible model:\", r2_test_extra_flexible))"
   ]
  }
 ],
 "metadata": {
  "kernelspec": {
   "display_name": "R",
   "language": "R",
   "name": "ir"
  },
  "language_info": {
   "codemirror_mode": "r",
   "file_extension": ".r",
   "mimetype": "text/x-r-source",
   "name": "R",
   "pygments_lexer": "r",
   "version": "4.4.1"
  }
 },
 "nbformat": 4,
 "nbformat_minor": 2
}
