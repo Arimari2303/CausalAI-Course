{
 "cells": [
  {
   "cell_type": "markdown",
   "metadata": {},
   "source": [
    "## 0. Cargando la Data y Packages"
   ]
  },
  {
   "cell_type": "code",
   "execution_count": 1,
   "metadata": {},
   "outputs": [
    {
     "name": "stderr",
     "output_type": "stream",
     "text": [
      "\u001b[32m\u001b[1m   Resolving\u001b[22m\u001b[39m package versions...\n",
      "\u001b[32m\u001b[1m  No Changes\u001b[22m\u001b[39m to `C:\\Users\\abrah\\.julia\\environments\\v1.10\\Project.toml`\n",
      "\u001b[32m\u001b[1m  No Changes\u001b[22m\u001b[39m to `C:\\Users\\abrah\\.julia\\environments\\v1.10\\Manifest.toml`\n",
      "\u001b[32m\u001b[1m   Resolving\u001b[22m\u001b[39m package versions...\n",
      "\u001b[32m\u001b[1m  No Changes\u001b[22m\u001b[39m to `C:\\Users\\abrah\\.julia\\environments\\v1.10\\Project.toml`\n",
      "\u001b[32m\u001b[1m  No Changes\u001b[22m\u001b[39m to `C:\\Users\\abrah\\.julia\\environments\\v1.10\\Manifest.toml`\n",
      "\u001b[32m\u001b[1m   Resolving\u001b[22m\u001b[39m package versions...\n",
      "\u001b[32m\u001b[1m  No Changes\u001b[22m\u001b[39m to `C:\\Users\\abrah\\.julia\\environments\\v1.10\\Project.toml`\n",
      "\u001b[32m\u001b[1m  No Changes\u001b[22m\u001b[39m to `C:\\Users\\abrah\\.julia\\environments\\v1.10\\Manifest.toml`\n",
      "\u001b[32m\u001b[1m   Resolving\u001b[22m\u001b[39m package versions...\n",
      "\u001b[32m\u001b[1m  No Changes\u001b[22m\u001b[39m to `C:\\Users\\abrah\\.julia\\environments\\v1.10\\Project.toml`\n",
      "\u001b[32m\u001b[1m  No Changes\u001b[22m\u001b[39m to `C:\\Users\\abrah\\.julia\\environments\\v1.10\\Manifest.toml`\n",
      "\u001b[32m\u001b[1m   Resolving\u001b[22m\u001b[39m package versions...\n",
      "\u001b[32m\u001b[1m  No Changes\u001b[22m\u001b[39m to `C:\\Users\\abrah\\.julia\\environments\\v1.10\\Project.toml`\n",
      "\u001b[32m\u001b[1m  No Changes\u001b[22m\u001b[39m to `C:\\Users\\abrah\\.julia\\environments\\v1.10\\Manifest.toml`\n",
      "\u001b[32m\u001b[1m   Resolving\u001b[22m\u001b[39m package versions...\n",
      "\u001b[32m\u001b[1m  No Changes\u001b[22m\u001b[39m to `C:\\Users\\abrah\\.julia\\environments\\v1.10\\Project.toml`\n",
      "\u001b[32m\u001b[1m  No Changes\u001b[22m\u001b[39m to `C:\\Users\\abrah\\.julia\\environments\\v1.10\\Manifest.toml`\n",
      "\u001b[32m\u001b[1m   Resolving\u001b[22m\u001b[39m package versions...\n",
      "\u001b[32m\u001b[1m  No Changes\u001b[22m\u001b[39m to `C:\\Users\\abrah\\.julia\\environments\\v1.10\\Project.toml`\n",
      "\u001b[32m\u001b[1m  No Changes\u001b[22m\u001b[39m to `C:\\Users\\abrah\\.julia\\environments\\v1.10\\Manifest.toml`\n",
      "\u001b[32m\u001b[1m   Resolving\u001b[22m\u001b[39m package versions...\n",
      "\u001b[32m\u001b[1m  No Changes\u001b[22m\u001b[39m to `C:\\Users\\abrah\\.julia\\environments\\v1.10\\Project.toml`\n",
      "\u001b[32m\u001b[1m  No Changes\u001b[22m\u001b[39m to `C:\\Users\\abrah\\.julia\\environments\\v1.10\\Manifest.toml`\n",
      "\u001b[32m\u001b[1m   Resolving\u001b[22m\u001b[39m package versions...\n",
      "\u001b[32m\u001b[1m  No Changes\u001b[22m\u001b[39m to `C:\\Users\\abrah\\.julia\\environments\\v1.10\\Project.toml`\n",
      "\u001b[32m\u001b[1m  No Changes\u001b[22m\u001b[39m to `C:\\Users\\abrah\\.julia\\environments\\v1.10\\Manifest.toml`\n"
     ]
    }
   ],
   "source": [
    "using Pkg\n",
    "Pkg.add(\"CSV\")\n",
    "Pkg.add(\"RData\")\n",
    "Pkg.add(\"DataFrames\")\n",
    "Pkg.add(\"StatsBase\")\n",
    "Pkg.add(\"StatsModels\")\n",
    "Pkg.add(\"Statistics\")\n",
    "Pkg.add(\"GLM\")\n",
    "Pkg.add(\"LaTeXStrings\")\n",
    "Pkg.add(\"CategoricalArrays\")\n"
   ]
  },
  {
   "cell_type": "code",
   "execution_count": 2,
   "metadata": {},
   "outputs": [
    {
     "data": {
      "text/html": [
       "<div><div style = \"float: left;\"><span>5×20 DataFrame</span></div><div style = \"clear: both;\"></div></div><div class = \"data-frame\" style = \"overflow-x: scroll;\"><table class = \"data-frame\" style = \"margin-bottom: 6px;\"><thead><tr class = \"header\"><th class = \"rowNumber\" style = \"font-weight: bold; text-align: right;\">Row</th><th style = \"text-align: left;\">wage</th><th style = \"text-align: left;\">lwage</th><th style = \"text-align: left;\">sex</th><th style = \"text-align: left;\">shs</th><th style = \"text-align: left;\">hsg</th><th style = \"text-align: left;\">scl</th><th style = \"text-align: left;\">clg</th><th style = \"text-align: left;\">ad</th><th style = \"text-align: left;\">mw</th><th style = \"text-align: left;\">so</th><th style = \"text-align: left;\">we</th><th style = \"text-align: left;\">ne</th><th style = \"text-align: left;\">exp1</th><th style = \"text-align: left;\">exp2</th><th style = \"text-align: left;\">exp3</th><th style = \"text-align: left;\">exp4</th><th style = \"text-align: left;\">occ</th><th style = \"text-align: left;\">occ2</th><th style = \"text-align: left;\">ind</th><th style = \"text-align: left;\">ind2</th></tr><tr class = \"subheader headerLastRow\"><th class = \"rowNumber\" style = \"font-weight: bold; text-align: right;\"></th><th title = \"Float64\" style = \"text-align: left;\">Float64</th><th title = \"Float64\" style = \"text-align: left;\">Float64</th><th title = \"Float64\" style = \"text-align: left;\">Float64</th><th title = \"Float64\" style = \"text-align: left;\">Float64</th><th title = \"Float64\" style = \"text-align: left;\">Float64</th><th title = \"Float64\" style = \"text-align: left;\">Float64</th><th title = \"Float64\" style = \"text-align: left;\">Float64</th><th title = \"Float64\" style = \"text-align: left;\">Float64</th><th title = \"Float64\" style = \"text-align: left;\">Float64</th><th title = \"Float64\" style = \"text-align: left;\">Float64</th><th title = \"Float64\" style = \"text-align: left;\">Float64</th><th title = \"Float64\" style = \"text-align: left;\">Float64</th><th title = \"Float64\" style = \"text-align: left;\">Float64</th><th title = \"Float64\" style = \"text-align: left;\">Float64</th><th title = \"Float64\" style = \"text-align: left;\">Float64</th><th title = \"Float64\" style = \"text-align: left;\">Float64</th><th title = \"CategoricalValue{String, UInt16}\" style = \"text-align: left;\">Cat…</th><th title = \"CategoricalValue{String, UInt8}\" style = \"text-align: left;\">Cat…</th><th title = \"CategoricalValue{String, UInt8}\" style = \"text-align: left;\">Cat…</th><th title = \"CategoricalValue{String, UInt8}\" style = \"text-align: left;\">Cat…</th></tr></thead><tbody><tr><td class = \"rowNumber\" style = \"font-weight: bold; text-align: right;\">1</td><td style = \"text-align: right;\">9.61538</td><td style = \"text-align: right;\">2.26336</td><td style = \"text-align: right;\">1.0</td><td style = \"text-align: right;\">0.0</td><td style = \"text-align: right;\">0.0</td><td style = \"text-align: right;\">0.0</td><td style = \"text-align: right;\">1.0</td><td style = \"text-align: right;\">0.0</td><td style = \"text-align: right;\">0.0</td><td style = \"text-align: right;\">0.0</td><td style = \"text-align: right;\">0.0</td><td style = \"text-align: right;\">1.0</td><td style = \"text-align: right;\">7.0</td><td style = \"text-align: right;\">0.49</td><td style = \"text-align: right;\">0.343</td><td style = \"text-align: right;\">0.2401</td><td style = \"text-align: left;\">3600</td><td style = \"text-align: left;\">11</td><td style = \"text-align: left;\">8370</td><td style = \"text-align: left;\">18</td></tr><tr><td class = \"rowNumber\" style = \"font-weight: bold; text-align: right;\">2</td><td style = \"text-align: right;\">48.0769</td><td style = \"text-align: right;\">3.8728</td><td style = \"text-align: right;\">0.0</td><td style = \"text-align: right;\">0.0</td><td style = \"text-align: right;\">0.0</td><td style = \"text-align: right;\">0.0</td><td style = \"text-align: right;\">1.0</td><td style = \"text-align: right;\">0.0</td><td style = \"text-align: right;\">0.0</td><td style = \"text-align: right;\">0.0</td><td style = \"text-align: right;\">0.0</td><td style = \"text-align: right;\">1.0</td><td style = \"text-align: right;\">31.0</td><td style = \"text-align: right;\">9.61</td><td style = \"text-align: right;\">29.791</td><td style = \"text-align: right;\">92.3521</td><td style = \"text-align: left;\">3050</td><td style = \"text-align: left;\">10</td><td style = \"text-align: left;\">5070</td><td style = \"text-align: left;\">9</td></tr><tr><td class = \"rowNumber\" style = \"font-weight: bold; text-align: right;\">3</td><td style = \"text-align: right;\">11.0577</td><td style = \"text-align: right;\">2.40313</td><td style = \"text-align: right;\">0.0</td><td style = \"text-align: right;\">0.0</td><td style = \"text-align: right;\">1.0</td><td style = \"text-align: right;\">0.0</td><td style = \"text-align: right;\">0.0</td><td style = \"text-align: right;\">0.0</td><td style = \"text-align: right;\">0.0</td><td style = \"text-align: right;\">0.0</td><td style = \"text-align: right;\">0.0</td><td style = \"text-align: right;\">1.0</td><td style = \"text-align: right;\">18.0</td><td style = \"text-align: right;\">3.24</td><td style = \"text-align: right;\">5.832</td><td style = \"text-align: right;\">10.4976</td><td style = \"text-align: left;\">6260</td><td style = \"text-align: left;\">19</td><td style = \"text-align: left;\">770</td><td style = \"text-align: left;\">4</td></tr><tr><td class = \"rowNumber\" style = \"font-weight: bold; text-align: right;\">4</td><td style = \"text-align: right;\">13.9423</td><td style = \"text-align: right;\">2.63493</td><td style = \"text-align: right;\">1.0</td><td style = \"text-align: right;\">0.0</td><td style = \"text-align: right;\">0.0</td><td style = \"text-align: right;\">0.0</td><td style = \"text-align: right;\">0.0</td><td style = \"text-align: right;\">1.0</td><td style = \"text-align: right;\">0.0</td><td style = \"text-align: right;\">0.0</td><td style = \"text-align: right;\">0.0</td><td style = \"text-align: right;\">1.0</td><td style = \"text-align: right;\">25.0</td><td style = \"text-align: right;\">6.25</td><td style = \"text-align: right;\">15.625</td><td style = \"text-align: right;\">39.0625</td><td style = \"text-align: left;\">420</td><td style = \"text-align: left;\">1</td><td style = \"text-align: left;\">6990</td><td style = \"text-align: left;\">12</td></tr><tr><td class = \"rowNumber\" style = \"font-weight: bold; text-align: right;\">5</td><td style = \"text-align: right;\">28.8462</td><td style = \"text-align: right;\">3.36198</td><td style = \"text-align: right;\">1.0</td><td style = \"text-align: right;\">0.0</td><td style = \"text-align: right;\">0.0</td><td style = \"text-align: right;\">0.0</td><td style = \"text-align: right;\">1.0</td><td style = \"text-align: right;\">0.0</td><td style = \"text-align: right;\">0.0</td><td style = \"text-align: right;\">0.0</td><td style = \"text-align: right;\">0.0</td><td style = \"text-align: right;\">1.0</td><td style = \"text-align: right;\">22.0</td><td style = \"text-align: right;\">4.84</td><td style = \"text-align: right;\">10.648</td><td style = \"text-align: right;\">23.4256</td><td style = \"text-align: left;\">2015</td><td style = \"text-align: left;\">6</td><td style = \"text-align: left;\">9470</td><td style = \"text-align: left;\">22</td></tr></tbody></table></div>"
      ],
      "text/latex": [
       "\\begin{tabular}{r|cccccccccc}\n",
       "\t& wage & lwage & sex & shs & hsg & scl & clg & ad & mw & \\\\\n",
       "\t\\hline\n",
       "\t& Float64 & Float64 & Float64 & Float64 & Float64 & Float64 & Float64 & Float64 & Float64 & \\\\\n",
       "\t\\hline\n",
       "\t1 & 9.61538 & 2.26336 & 1.0 & 0.0 & 0.0 & 0.0 & 1.0 & 0.0 & 0.0 & $\\dots$ \\\\\n",
       "\t2 & 48.0769 & 3.8728 & 0.0 & 0.0 & 0.0 & 0.0 & 1.0 & 0.0 & 0.0 & $\\dots$ \\\\\n",
       "\t3 & 11.0577 & 2.40313 & 0.0 & 0.0 & 1.0 & 0.0 & 0.0 & 0.0 & 0.0 & $\\dots$ \\\\\n",
       "\t4 & 13.9423 & 2.63493 & 1.0 & 0.0 & 0.0 & 0.0 & 0.0 & 1.0 & 0.0 & $\\dots$ \\\\\n",
       "\t5 & 28.8462 & 3.36198 & 1.0 & 0.0 & 0.0 & 0.0 & 1.0 & 0.0 & 0.0 & $\\dots$ \\\\\n",
       "\\end{tabular}\n"
      ],
      "text/plain": [
       "\u001b[1m5×20 DataFrame\u001b[0m\n",
       "\u001b[1m Row \u001b[0m│\u001b[1m wage     \u001b[0m\u001b[1m lwage   \u001b[0m\u001b[1m sex     \u001b[0m\u001b[1m shs     \u001b[0m\u001b[1m hsg     \u001b[0m\u001b[1m scl     \u001b[0m\u001b[1m clg     \u001b[0m\u001b[1m ad     \u001b[0m ⋯\n",
       "     │\u001b[90m Float64  \u001b[0m\u001b[90m Float64 \u001b[0m\u001b[90m Float64 \u001b[0m\u001b[90m Float64 \u001b[0m\u001b[90m Float64 \u001b[0m\u001b[90m Float64 \u001b[0m\u001b[90m Float64 \u001b[0m\u001b[90m Float64\u001b[0m ⋯\n",
       "─────┼──────────────────────────────────────────────────────────────────────────\n",
       "   1 │  9.61538  2.26336      1.0      0.0      0.0      0.0      1.0      0.0 ⋯\n",
       "   2 │ 48.0769   3.8728       0.0      0.0      0.0      0.0      1.0      0.0\n",
       "   3 │ 11.0577   2.40313      0.0      0.0      1.0      0.0      0.0      0.0\n",
       "   4 │ 13.9423   2.63493      1.0      0.0      0.0      0.0      0.0      1.0\n",
       "   5 │ 28.8462   3.36198      1.0      0.0      0.0      0.0      1.0      0.0 ⋯\n",
       "\u001b[36m                                                              12 columns omitted\u001b[0m"
      ]
     },
     "metadata": {},
     "output_type": "display_data"
    }
   ],
   "source": [
    "using CSV\n",
    "using GLM\n",
    "using DataFrames\n",
    "using LaTeXStrings\n",
    "using StatsBase\n",
    "using Statistics,RData \n",
    "using CategoricalArrays\n",
    "\n",
    "#podemos cargar esto como csv\n",
    "df_csv = CSV.read(\"../../../data/wage2015_subsample_inference.csv\", DataFrame)\n",
    "#pero también como RData\n",
    "df_rdata = load(\"../../../data/wage2015_subsample_inference.RData\")[\"data\"]\n",
    "\n",
    "#en este caso usaremos el archivo RData sobretodo porque detecta Categoricals\n",
    "df = df_rdata\n",
    "#para ver las primeras 5 observacione\n",
    "\n",
    "first(df, 5) \n"
   ]
  },
  {
   "cell_type": "markdown",
   "metadata": {},
   "source": [
    "## 1. Data analysis"
   ]
  },
  {
   "cell_type": "markdown",
   "metadata": {},
   "source": [
    "#### 2. Are there missing values? Display the number of missings (if any) of each variable in the data set.\n"
   ]
  },
  {
   "cell_type": "markdown",
   "metadata": {},
   "source": [
    "#### 3. Report descriptive statistics of the variables (mean, standard deviation, percentiles, etc.). Interpret your results."
   ]
  },
  {
   "cell_type": "code",
   "execution_count": 3,
   "metadata": {},
   "outputs": [
    {
     "data": {
      "text/html": [
       "<div><div style = \"float: left;\"><span>20×7 DataFrame</span></div><div style = \"clear: both;\"></div></div><div class = \"data-frame\" style = \"overflow-x: scroll;\"><table class = \"data-frame\" style = \"margin-bottom: 6px;\"><thead><tr class = \"header\"><th class = \"rowNumber\" style = \"font-weight: bold; text-align: right;\">Row</th><th style = \"text-align: left;\">variable</th><th style = \"text-align: left;\">mean</th><th style = \"text-align: left;\">min</th><th style = \"text-align: left;\">median</th><th style = \"text-align: left;\">max</th><th style = \"text-align: left;\">nmissing</th><th style = \"text-align: left;\">eltype</th></tr><tr class = \"subheader headerLastRow\"><th class = \"rowNumber\" style = \"font-weight: bold; text-align: right;\"></th><th title = \"Symbol\" style = \"text-align: left;\">Symbol</th><th title = \"Union{Nothing, Float64}\" style = \"text-align: left;\">Union…</th><th title = \"Any\" style = \"text-align: left;\">Any</th><th title = \"Union{Nothing, Float64}\" style = \"text-align: left;\">Union…</th><th title = \"Any\" style = \"text-align: left;\">Any</th><th title = \"Int64\" style = \"text-align: left;\">Int64</th><th title = \"DataType\" style = \"text-align: left;\">DataType</th></tr></thead><tbody><tr><td class = \"rowNumber\" style = \"font-weight: bold; text-align: right;\">1</td><td style = \"text-align: left;\">wage</td><td style = \"text-align: left;\">23.4104</td><td style = \"text-align: left;\">3.02198</td><td style = \"text-align: left;\">19.2308</td><td style = \"text-align: left;\">528.846</td><td style = \"text-align: right;\">0</td><td style = \"text-align: left;\">Float64</td></tr><tr><td class = \"rowNumber\" style = \"font-weight: bold; text-align: right;\">2</td><td style = \"text-align: left;\">lwage</td><td style = \"text-align: left;\">2.97079</td><td style = \"text-align: left;\">1.10591</td><td style = \"text-align: left;\">2.95651</td><td style = \"text-align: left;\">6.2707</td><td style = \"text-align: right;\">0</td><td style = \"text-align: left;\">Float64</td></tr><tr><td class = \"rowNumber\" style = \"font-weight: bold; text-align: right;\">3</td><td style = \"text-align: left;\">sex</td><td style = \"text-align: left;\">0.444466</td><td style = \"text-align: left;\">0.0</td><td style = \"text-align: left;\">0.0</td><td style = \"text-align: left;\">1.0</td><td style = \"text-align: right;\">0</td><td style = \"text-align: left;\">Float64</td></tr><tr><td class = \"rowNumber\" style = \"font-weight: bold; text-align: right;\">4</td><td style = \"text-align: left;\">shs</td><td style = \"text-align: left;\">0.023301</td><td style = \"text-align: left;\">0.0</td><td style = \"text-align: left;\">0.0</td><td style = \"text-align: left;\">1.0</td><td style = \"text-align: right;\">0</td><td style = \"text-align: left;\">Float64</td></tr><tr><td class = \"rowNumber\" style = \"font-weight: bold; text-align: right;\">5</td><td style = \"text-align: left;\">hsg</td><td style = \"text-align: left;\">0.243883</td><td style = \"text-align: left;\">0.0</td><td style = \"text-align: left;\">0.0</td><td style = \"text-align: left;\">1.0</td><td style = \"text-align: right;\">0</td><td style = \"text-align: left;\">Float64</td></tr><tr><td class = \"rowNumber\" style = \"font-weight: bold; text-align: right;\">6</td><td style = \"text-align: left;\">scl</td><td style = \"text-align: left;\">0.278058</td><td style = \"text-align: left;\">0.0</td><td style = \"text-align: left;\">0.0</td><td style = \"text-align: left;\">1.0</td><td style = \"text-align: right;\">0</td><td style = \"text-align: left;\">Float64</td></tr><tr><td class = \"rowNumber\" style = \"font-weight: bold; text-align: right;\">7</td><td style = \"text-align: left;\">clg</td><td style = \"text-align: left;\">0.31767</td><td style = \"text-align: left;\">0.0</td><td style = \"text-align: left;\">0.0</td><td style = \"text-align: left;\">1.0</td><td style = \"text-align: right;\">0</td><td style = \"text-align: left;\">Float64</td></tr><tr><td class = \"rowNumber\" style = \"font-weight: bold; text-align: right;\">8</td><td style = \"text-align: left;\">ad</td><td style = \"text-align: left;\">0.137087</td><td style = \"text-align: left;\">0.0</td><td style = \"text-align: left;\">0.0</td><td style = \"text-align: left;\">1.0</td><td style = \"text-align: right;\">0</td><td style = \"text-align: left;\">Float64</td></tr><tr><td class = \"rowNumber\" style = \"font-weight: bold; text-align: right;\">9</td><td style = \"text-align: left;\">mw</td><td style = \"text-align: left;\">0.259612</td><td style = \"text-align: left;\">0.0</td><td style = \"text-align: left;\">0.0</td><td style = \"text-align: left;\">1.0</td><td style = \"text-align: right;\">0</td><td style = \"text-align: left;\">Float64</td></tr><tr><td class = \"rowNumber\" style = \"font-weight: bold; text-align: right;\">10</td><td style = \"text-align: left;\">so</td><td style = \"text-align: left;\">0.296505</td><td style = \"text-align: left;\">0.0</td><td style = \"text-align: left;\">0.0</td><td style = \"text-align: left;\">1.0</td><td style = \"text-align: right;\">0</td><td style = \"text-align: left;\">Float64</td></tr><tr><td class = \"rowNumber\" style = \"font-weight: bold; text-align: right;\">11</td><td style = \"text-align: left;\">we</td><td style = \"text-align: left;\">0.216117</td><td style = \"text-align: left;\">0.0</td><td style = \"text-align: left;\">0.0</td><td style = \"text-align: left;\">1.0</td><td style = \"text-align: right;\">0</td><td style = \"text-align: left;\">Float64</td></tr><tr><td class = \"rowNumber\" style = \"font-weight: bold; text-align: right;\">12</td><td style = \"text-align: left;\">ne</td><td style = \"text-align: left;\">0.227767</td><td style = \"text-align: left;\">0.0</td><td style = \"text-align: left;\">0.0</td><td style = \"text-align: left;\">1.0</td><td style = \"text-align: right;\">0</td><td style = \"text-align: left;\">Float64</td></tr><tr><td class = \"rowNumber\" style = \"font-weight: bold; text-align: right;\">13</td><td style = \"text-align: left;\">exp1</td><td style = \"text-align: left;\">13.7606</td><td style = \"text-align: left;\">0.0</td><td style = \"text-align: left;\">10.0</td><td style = \"text-align: left;\">47.0</td><td style = \"text-align: right;\">0</td><td style = \"text-align: left;\">Float64</td></tr><tr><td class = \"rowNumber\" style = \"font-weight: bold; text-align: right;\">14</td><td style = \"text-align: left;\">exp2</td><td style = \"text-align: left;\">3.01893</td><td style = \"text-align: left;\">0.0</td><td style = \"text-align: left;\">1.0</td><td style = \"text-align: left;\">22.09</td><td style = \"text-align: right;\">0</td><td style = \"text-align: left;\">Float64</td></tr><tr><td class = \"rowNumber\" style = \"font-weight: bold; text-align: right;\">15</td><td style = \"text-align: left;\">exp3</td><td style = \"text-align: left;\">8.23587</td><td style = \"text-align: left;\">0.0</td><td style = \"text-align: left;\">1.0</td><td style = \"text-align: left;\">103.823</td><td style = \"text-align: right;\">0</td><td style = \"text-align: left;\">Float64</td></tr><tr><td class = \"rowNumber\" style = \"font-weight: bold; text-align: right;\">16</td><td style = \"text-align: left;\">exp4</td><td style = \"text-align: left;\">25.118</td><td style = \"text-align: left;\">0.0</td><td style = \"text-align: left;\">1.0</td><td style = \"text-align: left;\">487.968</td><td style = \"text-align: right;\">0</td><td style = \"text-align: left;\">Float64</td></tr><tr><td class = \"rowNumber\" style = \"font-weight: bold; text-align: right;\">17</td><td style = \"text-align: left;\">occ</td><td style = \"font-style: italic; text-align: left;\"></td><td style = \"text-align: left;\">10</td><td style = \"font-style: italic; text-align: left;\"></td><td style = \"text-align: left;\">1e+05</td><td style = \"text-align: right;\">0</td><td style = \"text-align: left;\">CategoricalValue{String, UInt16}</td></tr><tr><td class = \"rowNumber\" style = \"font-weight: bold; text-align: right;\">18</td><td style = \"text-align: left;\">occ2</td><td style = \"font-style: italic; text-align: left;\"></td><td style = \"text-align: left;\">1</td><td style = \"font-style: italic; text-align: left;\"></td><td style = \"text-align: left;\">22</td><td style = \"text-align: right;\">0</td><td style = \"text-align: left;\">CategoricalValue{String, UInt8}</td></tr><tr><td class = \"rowNumber\" style = \"font-weight: bold; text-align: right;\">19</td><td style = \"text-align: left;\">ind</td><td style = \"font-style: italic; text-align: left;\"></td><td style = \"text-align: left;\">370</td><td style = \"font-style: italic; text-align: left;\"></td><td style = \"text-align: left;\">1e+05</td><td style = \"text-align: right;\">0</td><td style = \"text-align: left;\">CategoricalValue{String, UInt8}</td></tr><tr><td class = \"rowNumber\" style = \"font-weight: bold; text-align: right;\">20</td><td style = \"text-align: left;\">ind2</td><td style = \"font-style: italic; text-align: left;\"></td><td style = \"text-align: left;\">2</td><td style = \"font-style: italic; text-align: left;\"></td><td style = \"text-align: left;\">22</td><td style = \"text-align: right;\">0</td><td style = \"text-align: left;\">CategoricalValue{String, UInt8}</td></tr></tbody></table></div>"
      ],
      "text/latex": [
       "\\begin{tabular}{r|ccccccc}\n",
       "\t& variable & mean & min & median & max & nmissing & eltype\\\\\n",
       "\t\\hline\n",
       "\t& Symbol & Union… & Any & Union… & Any & Int64 & DataType\\\\\n",
       "\t\\hline\n",
       "\t1 & wage & 23.4104 & 3.02198 & 19.2308 & 528.846 & 0 & Float64 \\\\\n",
       "\t2 & lwage & 2.97079 & 1.10591 & 2.95651 & 6.2707 & 0 & Float64 \\\\\n",
       "\t3 & sex & 0.444466 & 0.0 & 0.0 & 1.0 & 0 & Float64 \\\\\n",
       "\t4 & shs & 0.023301 & 0.0 & 0.0 & 1.0 & 0 & Float64 \\\\\n",
       "\t5 & hsg & 0.243883 & 0.0 & 0.0 & 1.0 & 0 & Float64 \\\\\n",
       "\t6 & scl & 0.278058 & 0.0 & 0.0 & 1.0 & 0 & Float64 \\\\\n",
       "\t7 & clg & 0.31767 & 0.0 & 0.0 & 1.0 & 0 & Float64 \\\\\n",
       "\t8 & ad & 0.137087 & 0.0 & 0.0 & 1.0 & 0 & Float64 \\\\\n",
       "\t9 & mw & 0.259612 & 0.0 & 0.0 & 1.0 & 0 & Float64 \\\\\n",
       "\t10 & so & 0.296505 & 0.0 & 0.0 & 1.0 & 0 & Float64 \\\\\n",
       "\t11 & we & 0.216117 & 0.0 & 0.0 & 1.0 & 0 & Float64 \\\\\n",
       "\t12 & ne & 0.227767 & 0.0 & 0.0 & 1.0 & 0 & Float64 \\\\\n",
       "\t13 & exp1 & 13.7606 & 0.0 & 10.0 & 47.0 & 0 & Float64 \\\\\n",
       "\t14 & exp2 & 3.01893 & 0.0 & 1.0 & 22.09 & 0 & Float64 \\\\\n",
       "\t15 & exp3 & 8.23587 & 0.0 & 1.0 & 103.823 & 0 & Float64 \\\\\n",
       "\t16 & exp4 & 25.118 & 0.0 & 1.0 & 487.968 & 0 & Float64 \\\\\n",
       "\t17 & occ &  & 10 &  & 1e+05 & 0 & CategoricalValue\\{String, UInt16\\} \\\\\n",
       "\t18 & occ2 &  & 1 &  & 22 & 0 & CategoricalValue\\{String, UInt8\\} \\\\\n",
       "\t19 & ind &  & 370 &  & 1e+05 & 0 & CategoricalValue\\{String, UInt8\\} \\\\\n",
       "\t20 & ind2 &  & 2 &  & 22 & 0 & CategoricalValue\\{String, UInt8\\} \\\\\n",
       "\\end{tabular}\n"
      ],
      "text/plain": [
       "\u001b[1m20×7 DataFrame\u001b[0m\n",
       "\u001b[1m Row \u001b[0m│\u001b[1m variable \u001b[0m\u001b[1m mean     \u001b[0m\u001b[1m min     \u001b[0m\u001b[1m median  \u001b[0m\u001b[1m max     \u001b[0m\u001b[1m nmissing \u001b[0m\u001b[1m eltype        \u001b[0m ⋯\n",
       "     │\u001b[90m Symbol   \u001b[0m\u001b[90m Union…   \u001b[0m\u001b[90m Any     \u001b[0m\u001b[90m Union…  \u001b[0m\u001b[90m Any     \u001b[0m\u001b[90m Int64    \u001b[0m\u001b[90m DataType      \u001b[0m ⋯\n",
       "─────┼──────────────────────────────────────────────────────────────────────────\n",
       "   1 │ wage      23.4104   3.02198  19.2308  528.846         0  Float64        ⋯\n",
       "   2 │ lwage     2.97079   1.10591  2.95651  6.2707          0  Float64\n",
       "   3 │ sex       0.444466  0.0      0.0      1.0             0  Float64\n",
       "   4 │ shs       0.023301  0.0      0.0      1.0             0  Float64\n",
       "   5 │ hsg       0.243883  0.0      0.0      1.0             0  Float64        ⋯\n",
       "   6 │ scl       0.278058  0.0      0.0      1.0             0  Float64\n",
       "   7 │ clg       0.31767   0.0      0.0      1.0             0  Float64\n",
       "   8 │ ad        0.137087  0.0      0.0      1.0             0  Float64\n",
       "  ⋮  │    ⋮         ⋮         ⋮        ⋮        ⋮        ⋮                     ⋱\n",
       "  14 │ exp2      3.01893   0.0      1.0      22.09           0  Float64        ⋯\n",
       "  15 │ exp3      8.23587   0.0      1.0      103.823         0  Float64\n",
       "  16 │ exp4      25.118    0.0      1.0      487.968         0  Float64\n",
       "  17 │ occ      \u001b[90m          \u001b[0m 10      \u001b[90m         \u001b[0m 1e+05           0  CategoricalVal\n",
       "  18 │ occ2     \u001b[90m          \u001b[0m 1       \u001b[90m         \u001b[0m 22              0  CategoricalVal ⋯\n",
       "  19 │ ind      \u001b[90m          \u001b[0m 370     \u001b[90m         \u001b[0m 1e+05           0  CategoricalVal\n",
       "  20 │ ind2     \u001b[90m          \u001b[0m 2       \u001b[90m         \u001b[0m 22              0  CategoricalVal\n",
       "\u001b[36m                                                     1 column and 5 rows omitted\u001b[0m"
      ]
     },
     "metadata": {},
     "output_type": "display_data"
    }
   ],
   "source": [
    "# Usamos describe para obtener algunos estadísticos descriptivos y ver los missingvalues de caca variable del data set\n",
    "describe(df)"
   ]
  },
  {
   "cell_type": "code",
   "execution_count": 4,
   "metadata": {},
   "outputs": [
    {
     "name": "stdout",
     "output_type": "stream",
     "text": [
      "Q1: 13.461538461538462\n",
      "Mediana: 19.23076923076923\n",
      "Q3: 27.77777777777778\n"
     ]
    }
   ],
   "source": [
    "using Statistics\n",
    "#encontramos algunos los cuartiles de la variable wage:\n",
    "q1 = quantile(df.wage, 0.25)  \n",
    "q2 = quantile(df.wage, 0.50)  \n",
    "q3 = quantile(df.wage, 0.75)  \n",
    "\n",
    "#imprimimos los valores de cada cuartil\n",
    "println(\"Q1: $q1\")\n",
    "println(\"Mediana: $q2\")\n",
    "println(\"Q3: $q3\")\n"
   ]
  },
  {
   "cell_type": "markdown",
   "metadata": {},
   "source": [
    "### 4. How many women with a college graduate degree (clg) or above have a wage corresponding to the 25% richest of the sample? Report the dataframe corresponding to this conditions and the result"
   ]
  },
  {
   "cell_type": "code",
   "execution_count": 5,
   "metadata": {},
   "outputs": [
    {
     "data": {
      "text/html": [
       "<div><div style = \"float: left;\"><span>419×20 DataFrame</span></div><div style = \"float: right;\"><span style = \"font-style: italic;\">394 rows omitted</span></div><div style = \"clear: both;\"></div></div><div class = \"data-frame\" style = \"overflow-x: scroll;\"><table class = \"data-frame\" style = \"margin-bottom: 6px;\"><thead><tr class = \"header\"><th class = \"rowNumber\" style = \"font-weight: bold; text-align: right;\">Row</th><th style = \"text-align: left;\">wage</th><th style = \"text-align: left;\">lwage</th><th style = \"text-align: left;\">sex</th><th style = \"text-align: left;\">shs</th><th style = \"text-align: left;\">hsg</th><th style = \"text-align: left;\">scl</th><th style = \"text-align: left;\">clg</th><th style = \"text-align: left;\">ad</th><th style = \"text-align: left;\">mw</th><th style = \"text-align: left;\">so</th><th style = \"text-align: left;\">we</th><th style = \"text-align: left;\">ne</th><th style = \"text-align: left;\">exp1</th><th style = \"text-align: left;\">exp2</th><th style = \"text-align: left;\">exp3</th><th style = \"text-align: left;\">exp4</th><th style = \"text-align: left;\">occ</th><th style = \"text-align: left;\">occ2</th><th style = \"text-align: left;\">ind</th><th style = \"text-align: left;\">ind2</th></tr><tr class = \"subheader headerLastRow\"><th class = \"rowNumber\" style = \"font-weight: bold; text-align: right;\"></th><th title = \"Float64\" style = \"text-align: left;\">Float64</th><th title = \"Float64\" style = \"text-align: left;\">Float64</th><th title = \"Float64\" style = \"text-align: left;\">Float64</th><th title = \"Float64\" style = \"text-align: left;\">Float64</th><th title = \"Float64\" style = \"text-align: left;\">Float64</th><th title = \"Float64\" style = \"text-align: left;\">Float64</th><th title = \"Float64\" style = \"text-align: left;\">Float64</th><th title = \"Float64\" style = \"text-align: left;\">Float64</th><th title = \"Float64\" style = \"text-align: left;\">Float64</th><th title = \"Float64\" style = \"text-align: left;\">Float64</th><th title = \"Float64\" style = \"text-align: left;\">Float64</th><th title = \"Float64\" style = \"text-align: left;\">Float64</th><th title = \"Float64\" style = \"text-align: left;\">Float64</th><th title = \"Float64\" style = \"text-align: left;\">Float64</th><th title = \"Float64\" style = \"text-align: left;\">Float64</th><th title = \"Float64\" style = \"text-align: left;\">Float64</th><th title = \"CategoricalValue{String, UInt16}\" style = \"text-align: left;\">Cat…</th><th title = \"CategoricalValue{String, UInt8}\" style = \"text-align: left;\">Cat…</th><th title = \"CategoricalValue{String, UInt8}\" style = \"text-align: left;\">Cat…</th><th title = \"CategoricalValue{String, UInt8}\" style = \"text-align: left;\">Cat…</th></tr></thead><tbody><tr><td class = \"rowNumber\" style = \"font-weight: bold; text-align: right;\">1</td><td style = \"text-align: right;\">28.8462</td><td style = \"text-align: right;\">3.36198</td><td style = \"text-align: right;\">1.0</td><td style = \"text-align: right;\">0.0</td><td style = \"text-align: right;\">0.0</td><td style = \"text-align: right;\">0.0</td><td style = \"text-align: right;\">1.0</td><td style = \"text-align: right;\">0.0</td><td style = \"text-align: right;\">0.0</td><td style = \"text-align: right;\">0.0</td><td style = \"text-align: right;\">0.0</td><td style = \"text-align: right;\">1.0</td><td style = \"text-align: right;\">22.0</td><td style = \"text-align: right;\">4.84</td><td style = \"text-align: right;\">10.648</td><td style = \"text-align: right;\">23.4256</td><td style = \"text-align: left;\">2015</td><td style = \"text-align: left;\">6</td><td style = \"text-align: left;\">9470</td><td style = \"text-align: left;\">22</td></tr><tr><td class = \"rowNumber\" style = \"font-weight: bold; text-align: right;\">2</td><td style = \"text-align: right;\">42.3077</td><td style = \"text-align: right;\">3.74497</td><td style = \"text-align: right;\">1.0</td><td style = \"text-align: right;\">0.0</td><td style = \"text-align: right;\">0.0</td><td style = \"text-align: right;\">0.0</td><td style = \"text-align: right;\">0.0</td><td style = \"text-align: right;\">1.0</td><td style = \"text-align: right;\">0.0</td><td style = \"text-align: right;\">0.0</td><td style = \"text-align: right;\">0.0</td><td style = \"text-align: right;\">1.0</td><td style = \"text-align: right;\">0.0</td><td style = \"text-align: right;\">0.0</td><td style = \"text-align: right;\">0.0</td><td style = \"text-align: right;\">0.0</td><td style = \"text-align: left;\">4700</td><td style = \"text-align: left;\">16</td><td style = \"text-align: left;\">4795</td><td style = \"text-align: left;\">9</td></tr><tr><td class = \"rowNumber\" style = \"font-weight: bold; text-align: right;\">3</td><td style = \"text-align: right;\">41.2088</td><td style = \"text-align: right;\">3.71865</td><td style = \"text-align: right;\">1.0</td><td style = \"text-align: right;\">0.0</td><td style = \"text-align: right;\">0.0</td><td style = \"text-align: right;\">0.0</td><td style = \"text-align: right;\">1.0</td><td style = \"text-align: right;\">0.0</td><td style = \"text-align: right;\">0.0</td><td style = \"text-align: right;\">0.0</td><td style = \"text-align: right;\">0.0</td><td style = \"text-align: right;\">1.0</td><td style = \"text-align: right;\">11.0</td><td style = \"text-align: right;\">1.21</td><td style = \"text-align: right;\">1.331</td><td style = \"text-align: right;\">1.4641</td><td style = \"text-align: left;\">4700</td><td style = \"text-align: left;\">16</td><td style = \"text-align: left;\">5790</td><td style = \"text-align: left;\">9</td></tr><tr><td class = \"rowNumber\" style = \"font-weight: bold; text-align: right;\">4</td><td style = \"text-align: right;\">100.0</td><td style = \"text-align: right;\">4.60517</td><td style = \"text-align: right;\">1.0</td><td style = \"text-align: right;\">0.0</td><td style = \"text-align: right;\">0.0</td><td style = \"text-align: right;\">0.0</td><td style = \"text-align: right;\">0.0</td><td style = \"text-align: right;\">1.0</td><td style = \"text-align: right;\">0.0</td><td style = \"text-align: right;\">0.0</td><td style = \"text-align: right;\">0.0</td><td style = \"text-align: right;\">1.0</td><td style = \"text-align: right;\">27.0</td><td style = \"text-align: right;\">7.29</td><td style = \"text-align: right;\">19.683</td><td style = \"text-align: right;\">53.1441</td><td style = \"text-align: left;\">850</td><td style = \"text-align: left;\">2</td><td style = \"text-align: left;\">6970</td><td style = \"text-align: left;\">12</td></tr><tr><td class = \"rowNumber\" style = \"font-weight: bold; text-align: right;\">5</td><td style = \"text-align: right;\">33.6538</td><td style = \"text-align: right;\">3.51613</td><td style = \"text-align: right;\">1.0</td><td style = \"text-align: right;\">0.0</td><td style = \"text-align: right;\">0.0</td><td style = \"text-align: right;\">0.0</td><td style = \"text-align: right;\">1.0</td><td style = \"text-align: right;\">0.0</td><td style = \"text-align: right;\">0.0</td><td style = \"text-align: right;\">0.0</td><td style = \"text-align: right;\">0.0</td><td style = \"text-align: right;\">1.0</td><td style = \"text-align: right;\">4.0</td><td style = \"text-align: right;\">0.16</td><td style = \"text-align: right;\">0.064</td><td style = \"text-align: right;\">0.0256</td><td style = \"text-align: left;\">710</td><td style = \"text-align: left;\">2</td><td style = \"text-align: left;\">7390</td><td style = \"text-align: left;\">14</td></tr><tr><td class = \"rowNumber\" style = \"font-weight: bold; text-align: right;\">6</td><td style = \"text-align: right;\">36.0577</td><td style = \"text-align: right;\">3.58512</td><td style = \"text-align: right;\">1.0</td><td style = \"text-align: right;\">0.0</td><td style = \"text-align: right;\">0.0</td><td style = \"text-align: right;\">0.0</td><td style = \"text-align: right;\">1.0</td><td style = \"text-align: right;\">0.0</td><td style = \"text-align: right;\">0.0</td><td style = \"text-align: right;\">0.0</td><td style = \"text-align: right;\">0.0</td><td style = \"text-align: right;\">1.0</td><td style = \"text-align: right;\">23.0</td><td style = \"text-align: right;\">5.29</td><td style = \"text-align: right;\">12.167</td><td style = \"text-align: right;\">27.9841</td><td style = \"text-align: left;\">420</td><td style = \"text-align: left;\">1</td><td style = \"text-align: left;\">9170</td><td style = \"text-align: left;\">21</td></tr><tr><td class = \"rowNumber\" style = \"font-weight: bold; text-align: right;\">7</td><td style = \"text-align: right;\">31.25</td><td style = \"text-align: right;\">3.44202</td><td style = \"text-align: right;\">1.0</td><td style = \"text-align: right;\">0.0</td><td style = \"text-align: right;\">0.0</td><td style = \"text-align: right;\">0.0</td><td style = \"text-align: right;\">1.0</td><td style = \"text-align: right;\">0.0</td><td style = \"text-align: right;\">0.0</td><td style = \"text-align: right;\">0.0</td><td style = \"text-align: right;\">0.0</td><td style = \"text-align: right;\">1.0</td><td style = \"text-align: right;\">15.0</td><td style = \"text-align: right;\">2.25</td><td style = \"text-align: right;\">3.375</td><td style = \"text-align: right;\">5.0625</td><td style = \"text-align: left;\">3255</td><td style = \"text-align: left;\">10</td><td style = \"text-align: left;\">8190</td><td style = \"text-align: left;\">18</td></tr><tr><td class = \"rowNumber\" style = \"font-weight: bold; text-align: right;\">8</td><td style = \"text-align: right;\">28.8462</td><td style = \"text-align: right;\">3.36198</td><td style = \"text-align: right;\">1.0</td><td style = \"text-align: right;\">0.0</td><td style = \"text-align: right;\">0.0</td><td style = \"text-align: right;\">0.0</td><td style = \"text-align: right;\">1.0</td><td style = \"text-align: right;\">0.0</td><td style = \"text-align: right;\">0.0</td><td style = \"text-align: right;\">0.0</td><td style = \"text-align: right;\">0.0</td><td style = \"text-align: right;\">1.0</td><td style = \"text-align: right;\">9.0</td><td style = \"text-align: right;\">0.81</td><td style = \"text-align: right;\">0.729</td><td style = \"text-align: right;\">0.6561</td><td style = \"text-align: left;\">540</td><td style = \"text-align: left;\">2</td><td style = \"text-align: left;\">6990</td><td style = \"text-align: left;\">12</td></tr><tr><td class = \"rowNumber\" style = \"font-weight: bold; text-align: right;\">9</td><td style = \"text-align: right;\">48.0769</td><td style = \"text-align: right;\">3.8728</td><td style = \"text-align: right;\">1.0</td><td style = \"text-align: right;\">0.0</td><td style = \"text-align: right;\">0.0</td><td style = \"text-align: right;\">0.0</td><td style = \"text-align: right;\">1.0</td><td style = \"text-align: right;\">0.0</td><td style = \"text-align: right;\">0.0</td><td style = \"text-align: right;\">0.0</td><td style = \"text-align: right;\">0.0</td><td style = \"text-align: right;\">1.0</td><td style = \"text-align: right;\">24.0</td><td style = \"text-align: right;\">5.76</td><td style = \"text-align: right;\">13.824</td><td style = \"text-align: right;\">33.1776</td><td style = \"text-align: left;\">4850</td><td style = \"text-align: left;\">16</td><td style = \"text-align: left;\">3390</td><td style = \"text-align: left;\">6</td></tr><tr><td class = \"rowNumber\" style = \"font-weight: bold; text-align: right;\">10</td><td style = \"text-align: right;\">34.6154</td><td style = \"text-align: right;\">3.5443</td><td style = \"text-align: right;\">1.0</td><td style = \"text-align: right;\">0.0</td><td style = \"text-align: right;\">0.0</td><td style = \"text-align: right;\">0.0</td><td style = \"text-align: right;\">1.0</td><td style = \"text-align: right;\">0.0</td><td style = \"text-align: right;\">0.0</td><td style = \"text-align: right;\">0.0</td><td style = \"text-align: right;\">0.0</td><td style = \"text-align: right;\">1.0</td><td style = \"text-align: right;\">18.0</td><td style = \"text-align: right;\">3.24</td><td style = \"text-align: right;\">5.832</td><td style = \"text-align: right;\">10.4976</td><td style = \"text-align: left;\">565</td><td style = \"text-align: left;\">2</td><td style = \"text-align: left;\">6890</td><td style = \"text-align: left;\">12</td></tr><tr><td class = \"rowNumber\" style = \"font-weight: bold; text-align: right;\">11</td><td style = \"text-align: right;\">31.25</td><td style = \"text-align: right;\">3.44202</td><td style = \"text-align: right;\">1.0</td><td style = \"text-align: right;\">0.0</td><td style = \"text-align: right;\">0.0</td><td style = \"text-align: right;\">0.0</td><td style = \"text-align: right;\">0.0</td><td style = \"text-align: right;\">1.0</td><td style = \"text-align: right;\">0.0</td><td style = \"text-align: right;\">0.0</td><td style = \"text-align: right;\">0.0</td><td style = \"text-align: right;\">1.0</td><td style = \"text-align: right;\">29.0</td><td style = \"text-align: right;\">8.41</td><td style = \"text-align: right;\">24.389</td><td style = \"text-align: right;\">70.7281</td><td style = \"text-align: left;\">3230</td><td style = \"text-align: left;\">10</td><td style = \"text-align: left;\">7860</td><td style = \"text-align: left;\">17</td></tr><tr><td class = \"rowNumber\" style = \"font-weight: bold; text-align: right;\">12</td><td style = \"text-align: right;\">28.5714</td><td style = \"text-align: right;\">3.35241</td><td style = \"text-align: right;\">1.0</td><td style = \"text-align: right;\">0.0</td><td style = \"text-align: right;\">0.0</td><td style = \"text-align: right;\">0.0</td><td style = \"text-align: right;\">1.0</td><td style = \"text-align: right;\">0.0</td><td style = \"text-align: right;\">0.0</td><td style = \"text-align: right;\">0.0</td><td style = \"text-align: right;\">0.0</td><td style = \"text-align: right;\">1.0</td><td style = \"text-align: right;\">13.0</td><td style = \"text-align: right;\">1.69</td><td style = \"text-align: right;\">2.197</td><td style = \"text-align: right;\">2.8561</td><td style = \"text-align: left;\">2010</td><td style = \"text-align: left;\">6</td><td style = \"text-align: left;\">9470</td><td style = \"text-align: left;\">22</td></tr><tr><td class = \"rowNumber\" style = \"font-weight: bold; text-align: right;\">13</td><td style = \"text-align: right;\">28.5</td><td style = \"text-align: right;\">3.3499</td><td style = \"text-align: right;\">1.0</td><td style = \"text-align: right;\">0.0</td><td style = \"text-align: right;\">0.0</td><td style = \"text-align: right;\">0.0</td><td style = \"text-align: right;\">1.0</td><td style = \"text-align: right;\">0.0</td><td style = \"text-align: right;\">0.0</td><td style = \"text-align: right;\">0.0</td><td style = \"text-align: right;\">0.0</td><td style = \"text-align: right;\">1.0</td><td style = \"text-align: right;\">19.0</td><td style = \"text-align: right;\">3.61</td><td style = \"text-align: right;\">6.859</td><td style = \"text-align: right;\">13.0321</td><td style = \"text-align: left;\">3255</td><td style = \"text-align: left;\">10</td><td style = \"text-align: left;\">8190</td><td style = \"text-align: left;\">18</td></tr><tr><td style = \"text-align: right;\">&vellip;</td><td style = \"text-align: right;\">&vellip;</td><td style = \"text-align: right;\">&vellip;</td><td style = \"text-align: right;\">&vellip;</td><td style = \"text-align: right;\">&vellip;</td><td style = \"text-align: right;\">&vellip;</td><td style = \"text-align: right;\">&vellip;</td><td style = \"text-align: right;\">&vellip;</td><td style = \"text-align: right;\">&vellip;</td><td style = \"text-align: right;\">&vellip;</td><td style = \"text-align: right;\">&vellip;</td><td style = \"text-align: right;\">&vellip;</td><td style = \"text-align: right;\">&vellip;</td><td style = \"text-align: right;\">&vellip;</td><td style = \"text-align: right;\">&vellip;</td><td style = \"text-align: right;\">&vellip;</td><td style = \"text-align: right;\">&vellip;</td><td style = \"text-align: right;\">&vellip;</td><td style = \"text-align: right;\">&vellip;</td><td style = \"text-align: right;\">&vellip;</td><td style = \"text-align: right;\">&vellip;</td></tr><tr><td class = \"rowNumber\" style = \"font-weight: bold; text-align: right;\">408</td><td style = \"text-align: right;\">48.0769</td><td style = \"text-align: right;\">3.8728</td><td style = \"text-align: right;\">1.0</td><td style = \"text-align: right;\">0.0</td><td style = \"text-align: right;\">0.0</td><td style = \"text-align: right;\">0.0</td><td style = \"text-align: right;\">0.0</td><td style = \"text-align: right;\">1.0</td><td style = \"text-align: right;\">0.0</td><td style = \"text-align: right;\">0.0</td><td style = \"text-align: right;\">1.0</td><td style = \"text-align: right;\">0.0</td><td style = \"text-align: right;\">19.0</td><td style = \"text-align: right;\">3.61</td><td style = \"text-align: right;\">6.859</td><td style = \"text-align: right;\">13.0321</td><td style = \"text-align: left;\">1060</td><td style = \"text-align: left;\">3</td><td style = \"text-align: left;\">3390</td><td style = \"text-align: left;\">6</td></tr><tr><td class = \"rowNumber\" style = \"font-weight: bold; text-align: right;\">409</td><td style = \"text-align: right;\">33.6538</td><td style = \"text-align: right;\">3.51613</td><td style = \"text-align: right;\">1.0</td><td style = \"text-align: right;\">0.0</td><td style = \"text-align: right;\">0.0</td><td style = \"text-align: right;\">0.0</td><td style = \"text-align: right;\">0.0</td><td style = \"text-align: right;\">1.0</td><td style = \"text-align: right;\">0.0</td><td style = \"text-align: right;\">0.0</td><td style = \"text-align: right;\">1.0</td><td style = \"text-align: right;\">0.0</td><td style = \"text-align: right;\">12.0</td><td style = \"text-align: right;\">1.44</td><td style = \"text-align: right;\">1.728</td><td style = \"text-align: right;\">2.0736</td><td style = \"text-align: left;\">1820</td><td style = \"text-align: left;\">5</td><td style = \"text-align: left;\">7860</td><td style = \"text-align: left;\">17</td></tr><tr><td class = \"rowNumber\" style = \"font-weight: bold; text-align: right;\">410</td><td style = \"text-align: right;\">40.3846</td><td style = \"text-align: right;\">3.69845</td><td style = \"text-align: right;\">1.0</td><td style = \"text-align: right;\">0.0</td><td style = \"text-align: right;\">0.0</td><td style = \"text-align: right;\">0.0</td><td style = \"text-align: right;\">1.0</td><td style = \"text-align: right;\">0.0</td><td style = \"text-align: right;\">0.0</td><td style = \"text-align: right;\">0.0</td><td style = \"text-align: right;\">1.0</td><td style = \"text-align: right;\">0.0</td><td style = \"text-align: right;\">9.0</td><td style = \"text-align: right;\">0.81</td><td style = \"text-align: right;\">0.729</td><td style = \"text-align: right;\">0.6561</td><td style = \"text-align: left;\">4760</td><td style = \"text-align: left;\">16</td><td style = \"text-align: left;\">4770</td><td style = \"text-align: left;\">9</td></tr><tr><td class = \"rowNumber\" style = \"font-weight: bold; text-align: right;\">411</td><td style = \"text-align: right;\">65.3846</td><td style = \"text-align: right;\">4.18029</td><td style = \"text-align: right;\">1.0</td><td style = \"text-align: right;\">0.0</td><td style = \"text-align: right;\">0.0</td><td style = \"text-align: right;\">0.0</td><td style = \"text-align: right;\">0.0</td><td style = \"text-align: right;\">1.0</td><td style = \"text-align: right;\">0.0</td><td style = \"text-align: right;\">0.0</td><td style = \"text-align: right;\">1.0</td><td style = \"text-align: right;\">0.0</td><td style = \"text-align: right;\">12.0</td><td style = \"text-align: right;\">1.44</td><td style = \"text-align: right;\">1.728</td><td style = \"text-align: right;\">2.0736</td><td style = \"text-align: left;\">3255</td><td style = \"text-align: left;\">10</td><td style = \"text-align: left;\">8190</td><td style = \"text-align: left;\">18</td></tr><tr><td class = \"rowNumber\" style = \"font-weight: bold; text-align: right;\">412</td><td style = \"text-align: right;\">29.4872</td><td style = \"text-align: right;\">3.38396</td><td style = \"text-align: right;\">1.0</td><td style = \"text-align: right;\">0.0</td><td style = \"text-align: right;\">0.0</td><td style = \"text-align: right;\">0.0</td><td style = \"text-align: right;\">1.0</td><td style = \"text-align: right;\">0.0</td><td style = \"text-align: right;\">0.0</td><td style = \"text-align: right;\">0.0</td><td style = \"text-align: right;\">1.0</td><td style = \"text-align: right;\">0.0</td><td style = \"text-align: right;\">3.0</td><td style = \"text-align: right;\">0.09</td><td style = \"text-align: right;\">0.027</td><td style = \"text-align: right;\">0.0081</td><td style = \"text-align: left;\">1020</td><td style = \"text-align: left;\">3</td><td style = \"text-align: left;\">7460</td><td style = \"text-align: left;\">14</td></tr><tr><td class = \"rowNumber\" style = \"font-weight: bold; text-align: right;\">413</td><td style = \"text-align: right;\">28.8462</td><td style = \"text-align: right;\">3.36198</td><td style = \"text-align: right;\">1.0</td><td style = \"text-align: right;\">0.0</td><td style = \"text-align: right;\">0.0</td><td style = \"text-align: right;\">0.0</td><td style = \"text-align: right;\">0.0</td><td style = \"text-align: right;\">1.0</td><td style = \"text-align: right;\">0.0</td><td style = \"text-align: right;\">0.0</td><td style = \"text-align: right;\">1.0</td><td style = \"text-align: right;\">0.0</td><td style = \"text-align: right;\">5.0</td><td style = \"text-align: right;\">0.25</td><td style = \"text-align: right;\">0.125</td><td style = \"text-align: right;\">0.0625</td><td style = \"text-align: left;\">3030</td><td style = \"text-align: left;\">10</td><td style = \"text-align: left;\">7970</td><td style = \"text-align: left;\">18</td></tr><tr><td class = \"rowNumber\" style = \"font-weight: bold; text-align: right;\">414</td><td style = \"text-align: right;\">50.3635</td><td style = \"text-align: right;\">3.91927</td><td style = \"text-align: right;\">1.0</td><td style = \"text-align: right;\">0.0</td><td style = \"text-align: right;\">0.0</td><td style = \"text-align: right;\">0.0</td><td style = \"text-align: right;\">0.0</td><td style = \"text-align: right;\">1.0</td><td style = \"text-align: right;\">0.0</td><td style = \"text-align: right;\">0.0</td><td style = \"text-align: right;\">1.0</td><td style = \"text-align: right;\">0.0</td><td style = \"text-align: right;\">4.0</td><td style = \"text-align: right;\">0.16</td><td style = \"text-align: right;\">0.064</td><td style = \"text-align: right;\">0.0256</td><td style = \"text-align: left;\">530</td><td style = \"text-align: left;\">2</td><td style = \"text-align: left;\">7460</td><td style = \"text-align: left;\">14</td></tr><tr><td class = \"rowNumber\" style = \"font-weight: bold; text-align: right;\">415</td><td style = \"text-align: right;\">48.0769</td><td style = \"text-align: right;\">3.8728</td><td style = \"text-align: right;\">1.0</td><td style = \"text-align: right;\">0.0</td><td style = \"text-align: right;\">0.0</td><td style = \"text-align: right;\">0.0</td><td style = \"text-align: right;\">0.0</td><td style = \"text-align: right;\">1.0</td><td style = \"text-align: right;\">0.0</td><td style = \"text-align: right;\">0.0</td><td style = \"text-align: right;\">1.0</td><td style = \"text-align: right;\">0.0</td><td style = \"text-align: right;\">0.0</td><td style = \"text-align: right;\">0.0</td><td style = \"text-align: right;\">0.0</td><td style = \"text-align: right;\">0.0</td><td style = \"text-align: left;\">3050</td><td style = \"text-align: left;\">10</td><td style = \"text-align: left;\">8090</td><td style = \"text-align: left;\">18</td></tr><tr><td class = \"rowNumber\" style = \"font-weight: bold; text-align: right;\">416</td><td style = \"text-align: right;\">30.1455</td><td style = \"text-align: right;\">3.40604</td><td style = \"text-align: right;\">1.0</td><td style = \"text-align: right;\">0.0</td><td style = \"text-align: right;\">0.0</td><td style = \"text-align: right;\">0.0</td><td style = \"text-align: right;\">1.0</td><td style = \"text-align: right;\">0.0</td><td style = \"text-align: right;\">0.0</td><td style = \"text-align: right;\">0.0</td><td style = \"text-align: right;\">1.0</td><td style = \"text-align: right;\">0.0</td><td style = \"text-align: right;\">15.0</td><td style = \"text-align: right;\">2.25</td><td style = \"text-align: right;\">3.375</td><td style = \"text-align: right;\">5.0625</td><td style = \"text-align: left;\">120</td><td style = \"text-align: left;\">1</td><td style = \"text-align: left;\">6870</td><td style = \"text-align: left;\">12</td></tr><tr><td class = \"rowNumber\" style = \"font-weight: bold; text-align: right;\">417</td><td style = \"text-align: right;\">29.9145</td><td style = \"text-align: right;\">3.39834</td><td style = \"text-align: right;\">1.0</td><td style = \"text-align: right;\">0.0</td><td style = \"text-align: right;\">0.0</td><td style = \"text-align: right;\">0.0</td><td style = \"text-align: right;\">1.0</td><td style = \"text-align: right;\">0.0</td><td style = \"text-align: right;\">0.0</td><td style = \"text-align: right;\">0.0</td><td style = \"text-align: right;\">1.0</td><td style = \"text-align: right;\">0.0</td><td style = \"text-align: right;\">39.0</td><td style = \"text-align: right;\">15.21</td><td style = \"text-align: right;\">59.319</td><td style = \"text-align: right;\">231.344</td><td style = \"text-align: left;\">4700</td><td style = \"text-align: left;\">16</td><td style = \"text-align: left;\">5380</td><td style = \"text-align: left;\">9</td></tr><tr><td class = \"rowNumber\" style = \"font-weight: bold; text-align: right;\">418</td><td style = \"text-align: right;\">48.0769</td><td style = \"text-align: right;\">3.8728</td><td style = \"text-align: right;\">1.0</td><td style = \"text-align: right;\">0.0</td><td style = \"text-align: right;\">0.0</td><td style = \"text-align: right;\">0.0</td><td style = \"text-align: right;\">1.0</td><td style = \"text-align: right;\">0.0</td><td style = \"text-align: right;\">0.0</td><td style = \"text-align: right;\">0.0</td><td style = \"text-align: right;\">1.0</td><td style = \"text-align: right;\">0.0</td><td style = \"text-align: right;\">25.0</td><td style = \"text-align: right;\">6.25</td><td style = \"text-align: right;\">15.625</td><td style = \"text-align: right;\">39.0625</td><td style = \"text-align: left;\">3255</td><td style = \"text-align: left;\">10</td><td style = \"text-align: left;\">8170</td><td style = \"text-align: left;\">18</td></tr><tr><td class = \"rowNumber\" style = \"font-weight: bold; text-align: right;\">419</td><td style = \"text-align: right;\">45.5466</td><td style = \"text-align: right;\">3.81874</td><td style = \"text-align: right;\">1.0</td><td style = \"text-align: right;\">0.0</td><td style = \"text-align: right;\">0.0</td><td style = \"text-align: right;\">0.0</td><td style = \"text-align: right;\">1.0</td><td style = \"text-align: right;\">0.0</td><td style = \"text-align: right;\">0.0</td><td style = \"text-align: right;\">0.0</td><td style = \"text-align: right;\">1.0</td><td style = \"text-align: right;\">0.0</td><td style = \"text-align: right;\">5.0</td><td style = \"text-align: right;\">0.25</td><td style = \"text-align: right;\">0.125</td><td style = \"text-align: right;\">0.0625</td><td style = \"text-align: left;\">3255</td><td style = \"text-align: left;\">10</td><td style = \"text-align: left;\">8190</td><td style = \"text-align: left;\">18</td></tr></tbody></table></div>"
      ],
      "text/latex": [
       "\\begin{tabular}{r|cccccccccc}\n",
       "\t& wage & lwage & sex & shs & hsg & scl & clg & ad & mw & \\\\\n",
       "\t\\hline\n",
       "\t& Float64 & Float64 & Float64 & Float64 & Float64 & Float64 & Float64 & Float64 & Float64 & \\\\\n",
       "\t\\hline\n",
       "\t1 & 28.8462 & 3.36198 & 1.0 & 0.0 & 0.0 & 0.0 & 1.0 & 0.0 & 0.0 & $\\dots$ \\\\\n",
       "\t2 & 42.3077 & 3.74497 & 1.0 & 0.0 & 0.0 & 0.0 & 0.0 & 1.0 & 0.0 & $\\dots$ \\\\\n",
       "\t3 & 41.2088 & 3.71865 & 1.0 & 0.0 & 0.0 & 0.0 & 1.0 & 0.0 & 0.0 & $\\dots$ \\\\\n",
       "\t4 & 100.0 & 4.60517 & 1.0 & 0.0 & 0.0 & 0.0 & 0.0 & 1.0 & 0.0 & $\\dots$ \\\\\n",
       "\t5 & 33.6538 & 3.51613 & 1.0 & 0.0 & 0.0 & 0.0 & 1.0 & 0.0 & 0.0 & $\\dots$ \\\\\n",
       "\t6 & 36.0577 & 3.58512 & 1.0 & 0.0 & 0.0 & 0.0 & 1.0 & 0.0 & 0.0 & $\\dots$ \\\\\n",
       "\t7 & 31.25 & 3.44202 & 1.0 & 0.0 & 0.0 & 0.0 & 1.0 & 0.0 & 0.0 & $\\dots$ \\\\\n",
       "\t8 & 28.8462 & 3.36198 & 1.0 & 0.0 & 0.0 & 0.0 & 1.0 & 0.0 & 0.0 & $\\dots$ \\\\\n",
       "\t9 & 48.0769 & 3.8728 & 1.0 & 0.0 & 0.0 & 0.0 & 1.0 & 0.0 & 0.0 & $\\dots$ \\\\\n",
       "\t10 & 34.6154 & 3.5443 & 1.0 & 0.0 & 0.0 & 0.0 & 1.0 & 0.0 & 0.0 & $\\dots$ \\\\\n",
       "\t11 & 31.25 & 3.44202 & 1.0 & 0.0 & 0.0 & 0.0 & 0.0 & 1.0 & 0.0 & $\\dots$ \\\\\n",
       "\t12 & 28.5714 & 3.35241 & 1.0 & 0.0 & 0.0 & 0.0 & 1.0 & 0.0 & 0.0 & $\\dots$ \\\\\n",
       "\t13 & 28.5 & 3.3499 & 1.0 & 0.0 & 0.0 & 0.0 & 1.0 & 0.0 & 0.0 & $\\dots$ \\\\\n",
       "\t14 & 36.0577 & 3.58512 & 1.0 & 0.0 & 0.0 & 0.0 & 0.0 & 1.0 & 0.0 & $\\dots$ \\\\\n",
       "\t15 & 31.25 & 3.44202 & 1.0 & 0.0 & 0.0 & 0.0 & 1.0 & 0.0 & 0.0 & $\\dots$ \\\\\n",
       "\t16 & 38.4615 & 3.64966 & 1.0 & 0.0 & 0.0 & 0.0 & 1.0 & 0.0 & 0.0 & $\\dots$ \\\\\n",
       "\t17 & 40.4858 & 3.70095 & 1.0 & 0.0 & 0.0 & 0.0 & 0.0 & 1.0 & 0.0 & $\\dots$ \\\\\n",
       "\t18 & 32.0513 & 3.46734 & 1.0 & 0.0 & 0.0 & 0.0 & 1.0 & 0.0 & 0.0 & $\\dots$ \\\\\n",
       "\t19 & 28.8462 & 3.36198 & 1.0 & 0.0 & 0.0 & 0.0 & 0.0 & 1.0 & 0.0 & $\\dots$ \\\\\n",
       "\t20 & 43.0162 & 3.76158 & 1.0 & 0.0 & 0.0 & 0.0 & 1.0 & 0.0 & 0.0 & $\\dots$ \\\\\n",
       "\t21 & 62.5 & 4.13517 & 1.0 & 0.0 & 0.0 & 0.0 & 0.0 & 1.0 & 0.0 & $\\dots$ \\\\\n",
       "\t22 & 34.188 & 3.53188 & 1.0 & 0.0 & 0.0 & 0.0 & 1.0 & 0.0 & 0.0 & $\\dots$ \\\\\n",
       "\t23 & 48.0769 & 3.8728 & 1.0 & 0.0 & 0.0 & 0.0 & 1.0 & 0.0 & 0.0 & $\\dots$ \\\\\n",
       "\t24 & 29.9769 & 3.40043 & 1.0 & 0.0 & 0.0 & 0.0 & 0.0 & 1.0 & 0.0 & $\\dots$ \\\\\n",
       "\t$\\dots$ & $\\dots$ & $\\dots$ & $\\dots$ & $\\dots$ & $\\dots$ & $\\dots$ & $\\dots$ & $\\dots$ & $\\dots$ &  \\\\\n",
       "\\end{tabular}\n"
      ],
      "text/plain": [
       "\u001b[1m419×20 DataFrame\u001b[0m\n",
       "\u001b[1m Row \u001b[0m│\u001b[1m wage     \u001b[0m\u001b[1m lwage   \u001b[0m\u001b[1m sex     \u001b[0m\u001b[1m shs     \u001b[0m\u001b[1m hsg     \u001b[0m\u001b[1m scl     \u001b[0m\u001b[1m clg     \u001b[0m\u001b[1m ad     \u001b[0m ⋯\n",
       "     │\u001b[90m Float64  \u001b[0m\u001b[90m Float64 \u001b[0m\u001b[90m Float64 \u001b[0m\u001b[90m Float64 \u001b[0m\u001b[90m Float64 \u001b[0m\u001b[90m Float64 \u001b[0m\u001b[90m Float64 \u001b[0m\u001b[90m Float64\u001b[0m ⋯\n",
       "─────┼──────────────────────────────────────────────────────────────────────────\n",
       "   1 │  28.8462  3.36198      1.0      0.0      0.0      0.0      1.0      0.0 ⋯\n",
       "   2 │  42.3077  3.74497      1.0      0.0      0.0      0.0      0.0      1.0\n",
       "   3 │  41.2088  3.71865      1.0      0.0      0.0      0.0      1.0      0.0\n",
       "   4 │ 100.0     4.60517      1.0      0.0      0.0      0.0      0.0      1.0\n",
       "   5 │  33.6538  3.51613      1.0      0.0      0.0      0.0      1.0      0.0 ⋯\n",
       "   6 │  36.0577  3.58512      1.0      0.0      0.0      0.0      1.0      0.0\n",
       "   7 │  31.25    3.44202      1.0      0.0      0.0      0.0      1.0      0.0\n",
       "   8 │  28.8462  3.36198      1.0      0.0      0.0      0.0      1.0      0.0\n",
       "  ⋮  │    ⋮         ⋮        ⋮        ⋮        ⋮        ⋮        ⋮        ⋮    ⋱\n",
       " 413 │  28.8462  3.36198      1.0      0.0      0.0      0.0      0.0      1.0 ⋯\n",
       " 414 │  50.3635  3.91927      1.0      0.0      0.0      0.0      0.0      1.0\n",
       " 415 │  48.0769  3.8728       1.0      0.0      0.0      0.0      0.0      1.0\n",
       " 416 │  30.1455  3.40604      1.0      0.0      0.0      0.0      1.0      0.0\n",
       " 417 │  29.9145  3.39834      1.0      0.0      0.0      0.0      1.0      0.0 ⋯\n",
       " 418 │  48.0769  3.8728       1.0      0.0      0.0      0.0      1.0      0.0\n",
       " 419 │  45.5466  3.81874      1.0      0.0      0.0      0.0      1.0      0.0\n",
       "\u001b[36m                                                 12 columns and 404 rows omitted\u001b[0m"
      ]
     },
     "metadata": {},
     "output_type": "display_data"
    }
   ],
   "source": [
    "#nos están preguntando por cuantas muejeres graduadas de universidad o con postgrado se encuentran el cuartil superior de salarios. (mayores a 27.7777)\n",
    "\n",
    "df[(df.sex .== 1.0) .& ((df.clg .== 1.0) .|| (df.ad .== 1.0)) .& (df.wage .>= q3), :]"
   ]
  },
  {
   "cell_type": "code",
   "execution_count": 6,
   "metadata": {},
   "outputs": [
    {
     "name": "stdout",
     "output_type": "stream",
     "text": [
      "Las mujeres con universidad o un grado superior en el cuartil superior de salarios son: 419\n"
     ]
    }
   ],
   "source": [
    "#para saber el número de mujeres que cumplen con estos requisitos:\n",
    "mujeres_with_college_or_superior_degree_in_q3=nrow(df[(df.sex .== 1.0) .& ((df.clg .== 1.0) .|| (df.ad .== 1.0)) .& (df.wage .>= q3), :])\n",
    "\n",
    "println(\"Las mujeres con universidad o un grado superior en el cuartil superior de salarios son: $mujeres_with_college_or_superior_degree_in_q3\")"
   ]
  },
  {
   "cell_type": "markdown",
   "metadata": {},
   "source": [
    "#### 5. How many men with a high school graduate degree (hsg) or below have a wage corresponding to the 25% richest of the sample? Report the dataframe corresponding to this conditions and the result."
   ]
  },
  {
   "cell_type": "code",
   "execution_count": 7,
   "metadata": {},
   "outputs": [
    {
     "name": "stdout",
     "output_type": "stream",
     "text": [
      "Los hombres con high school terminada o un grado menor en el cuartil superior de salarios son: 118\n"
     ]
    }
   ],
   "source": [
    "#hacemos algo similar para los hombres:\n",
    "men_with_highschool_or_no_degree_in_q3=nrow(df[(df.sex .== 0.0) .& ((df.shs .== 1.0) .|| (df.hsg .== 1.0)) .& (df.wage .>= q3), :])\n",
    "\n",
    "println(\"Los hombres con high school terminada o un grado menor en el cuartil superior de salarios son: $men_with_highschool_or_no_degree_in_q3\")"
   ]
  },
  {
   "cell_type": "markdown",
   "metadata": {},
   "source": [
    "#### 6. Create two dataframes. One containing only the log(wage) and the other containig every variable of the data set but the wage related variables."
   ]
  },
  {
   "cell_type": "code",
   "execution_count": 8,
   "metadata": {},
   "outputs": [
    {
     "data": {
      "text/html": [
       "<div><div style = \"float: left;\"><span>5150×18 DataFrame</span></div><div style = \"float: right;\"><span style = \"font-style: italic;\">5125 rows omitted</span></div><div style = \"clear: both;\"></div></div><div class = \"data-frame\" style = \"overflow-x: scroll;\"><table class = \"data-frame\" style = \"margin-bottom: 6px;\"><thead><tr class = \"header\"><th class = \"rowNumber\" style = \"font-weight: bold; text-align: right;\">Row</th><th style = \"text-align: left;\">sex</th><th style = \"text-align: left;\">shs</th><th style = \"text-align: left;\">hsg</th><th style = \"text-align: left;\">scl</th><th style = \"text-align: left;\">clg</th><th style = \"text-align: left;\">ad</th><th style = \"text-align: left;\">mw</th><th style = \"text-align: left;\">so</th><th style = \"text-align: left;\">we</th><th style = \"text-align: left;\">ne</th><th style = \"text-align: left;\">exp1</th><th style = \"text-align: left;\">exp2</th><th style = \"text-align: left;\">exp3</th><th style = \"text-align: left;\">exp4</th><th style = \"text-align: left;\">occ</th><th style = \"text-align: left;\">occ2</th><th style = \"text-align: left;\">ind</th><th style = \"text-align: left;\">ind2</th></tr><tr class = \"subheader headerLastRow\"><th class = \"rowNumber\" style = \"font-weight: bold; text-align: right;\"></th><th title = \"Float64\" style = \"text-align: left;\">Float64</th><th title = \"Float64\" style = \"text-align: left;\">Float64</th><th title = \"Float64\" style = \"text-align: left;\">Float64</th><th title = \"Float64\" style = \"text-align: left;\">Float64</th><th title = \"Float64\" style = \"text-align: left;\">Float64</th><th title = \"Float64\" style = \"text-align: left;\">Float64</th><th title = \"Float64\" style = \"text-align: left;\">Float64</th><th title = \"Float64\" style = \"text-align: left;\">Float64</th><th title = \"Float64\" style = \"text-align: left;\">Float64</th><th title = \"Float64\" style = \"text-align: left;\">Float64</th><th title = \"Float64\" style = \"text-align: left;\">Float64</th><th title = \"Float64\" style = \"text-align: left;\">Float64</th><th title = \"Float64\" style = \"text-align: left;\">Float64</th><th title = \"Float64\" style = \"text-align: left;\">Float64</th><th title = \"CategoricalValue{String, UInt16}\" style = \"text-align: left;\">Cat…</th><th title = \"CategoricalValue{String, UInt8}\" style = \"text-align: left;\">Cat…</th><th title = \"CategoricalValue{String, UInt8}\" style = \"text-align: left;\">Cat…</th><th title = \"CategoricalValue{String, UInt8}\" style = \"text-align: left;\">Cat…</th></tr></thead><tbody><tr><td class = \"rowNumber\" style = \"font-weight: bold; text-align: right;\">1</td><td style = \"text-align: right;\">1.0</td><td style = \"text-align: right;\">0.0</td><td style = \"text-align: right;\">0.0</td><td style = \"text-align: right;\">0.0</td><td style = \"text-align: right;\">1.0</td><td style = \"text-align: right;\">0.0</td><td style = \"text-align: right;\">0.0</td><td style = \"text-align: right;\">0.0</td><td style = \"text-align: right;\">0.0</td><td style = \"text-align: right;\">1.0</td><td style = \"text-align: right;\">7.0</td><td style = \"text-align: right;\">0.49</td><td style = \"text-align: right;\">0.343</td><td style = \"text-align: right;\">0.2401</td><td style = \"text-align: left;\">3600</td><td style = \"text-align: left;\">11</td><td style = \"text-align: left;\">8370</td><td style = \"text-align: left;\">18</td></tr><tr><td class = \"rowNumber\" style = \"font-weight: bold; text-align: right;\">2</td><td style = \"text-align: right;\">0.0</td><td style = \"text-align: right;\">0.0</td><td style = \"text-align: right;\">0.0</td><td style = \"text-align: right;\">0.0</td><td style = \"text-align: right;\">1.0</td><td style = \"text-align: right;\">0.0</td><td style = \"text-align: right;\">0.0</td><td style = \"text-align: right;\">0.0</td><td style = \"text-align: right;\">0.0</td><td style = \"text-align: right;\">1.0</td><td style = \"text-align: right;\">31.0</td><td style = \"text-align: right;\">9.61</td><td style = \"text-align: right;\">29.791</td><td style = \"text-align: right;\">92.3521</td><td style = \"text-align: left;\">3050</td><td style = \"text-align: left;\">10</td><td style = \"text-align: left;\">5070</td><td style = \"text-align: left;\">9</td></tr><tr><td class = \"rowNumber\" style = \"font-weight: bold; text-align: right;\">3</td><td style = \"text-align: right;\">0.0</td><td style = \"text-align: right;\">0.0</td><td style = \"text-align: right;\">1.0</td><td style = \"text-align: right;\">0.0</td><td style = \"text-align: right;\">0.0</td><td style = \"text-align: right;\">0.0</td><td style = \"text-align: right;\">0.0</td><td style = \"text-align: right;\">0.0</td><td style = \"text-align: right;\">0.0</td><td style = \"text-align: right;\">1.0</td><td style = \"text-align: right;\">18.0</td><td style = \"text-align: right;\">3.24</td><td style = \"text-align: right;\">5.832</td><td style = \"text-align: right;\">10.4976</td><td style = \"text-align: left;\">6260</td><td style = \"text-align: left;\">19</td><td style = \"text-align: left;\">770</td><td style = \"text-align: left;\">4</td></tr><tr><td class = \"rowNumber\" style = \"font-weight: bold; text-align: right;\">4</td><td style = \"text-align: right;\">1.0</td><td style = \"text-align: right;\">0.0</td><td style = \"text-align: right;\">0.0</td><td style = \"text-align: right;\">0.0</td><td style = \"text-align: right;\">0.0</td><td style = \"text-align: right;\">1.0</td><td style = \"text-align: right;\">0.0</td><td style = \"text-align: right;\">0.0</td><td style = \"text-align: right;\">0.0</td><td style = \"text-align: right;\">1.0</td><td style = \"text-align: right;\">25.0</td><td style = \"text-align: right;\">6.25</td><td style = \"text-align: right;\">15.625</td><td style = \"text-align: right;\">39.0625</td><td style = \"text-align: left;\">420</td><td style = \"text-align: left;\">1</td><td style = \"text-align: left;\">6990</td><td style = \"text-align: left;\">12</td></tr><tr><td class = \"rowNumber\" style = \"font-weight: bold; text-align: right;\">5</td><td style = \"text-align: right;\">1.0</td><td style = \"text-align: right;\">0.0</td><td style = \"text-align: right;\">0.0</td><td style = \"text-align: right;\">0.0</td><td style = \"text-align: right;\">1.0</td><td style = \"text-align: right;\">0.0</td><td style = \"text-align: right;\">0.0</td><td style = \"text-align: right;\">0.0</td><td style = \"text-align: right;\">0.0</td><td style = \"text-align: right;\">1.0</td><td style = \"text-align: right;\">22.0</td><td style = \"text-align: right;\">4.84</td><td style = \"text-align: right;\">10.648</td><td style = \"text-align: right;\">23.4256</td><td style = \"text-align: left;\">2015</td><td style = \"text-align: left;\">6</td><td style = \"text-align: left;\">9470</td><td style = \"text-align: left;\">22</td></tr><tr><td class = \"rowNumber\" style = \"font-weight: bold; text-align: right;\">6</td><td style = \"text-align: right;\">1.0</td><td style = \"text-align: right;\">0.0</td><td style = \"text-align: right;\">0.0</td><td style = \"text-align: right;\">0.0</td><td style = \"text-align: right;\">1.0</td><td style = \"text-align: right;\">0.0</td><td style = \"text-align: right;\">0.0</td><td style = \"text-align: right;\">0.0</td><td style = \"text-align: right;\">0.0</td><td style = \"text-align: right;\">1.0</td><td style = \"text-align: right;\">1.0</td><td style = \"text-align: right;\">0.01</td><td style = \"text-align: right;\">0.001</td><td style = \"text-align: right;\">0.0001</td><td style = \"text-align: left;\">1650</td><td style = \"text-align: left;\">5</td><td style = \"text-align: left;\">7460</td><td style = \"text-align: left;\">14</td></tr><tr><td class = \"rowNumber\" style = \"font-weight: bold; text-align: right;\">7</td><td style = \"text-align: right;\">1.0</td><td style = \"text-align: right;\">0.0</td><td style = \"text-align: right;\">1.0</td><td style = \"text-align: right;\">0.0</td><td style = \"text-align: right;\">0.0</td><td style = \"text-align: right;\">0.0</td><td style = \"text-align: right;\">0.0</td><td style = \"text-align: right;\">0.0</td><td style = \"text-align: right;\">0.0</td><td style = \"text-align: right;\">1.0</td><td style = \"text-align: right;\">42.0</td><td style = \"text-align: right;\">17.64</td><td style = \"text-align: right;\">74.088</td><td style = \"text-align: right;\">311.17</td><td style = \"text-align: left;\">5120</td><td style = \"text-align: left;\">17</td><td style = \"text-align: left;\">7280</td><td style = \"text-align: left;\">14</td></tr><tr><td class = \"rowNumber\" style = \"font-weight: bold; text-align: right;\">8</td><td style = \"text-align: right;\">0.0</td><td style = \"text-align: right;\">0.0</td><td style = \"text-align: right;\">1.0</td><td style = \"text-align: right;\">0.0</td><td style = \"text-align: right;\">0.0</td><td style = \"text-align: right;\">0.0</td><td style = \"text-align: right;\">0.0</td><td style = \"text-align: right;\">0.0</td><td style = \"text-align: right;\">0.0</td><td style = \"text-align: right;\">1.0</td><td style = \"text-align: right;\">37.0</td><td style = \"text-align: right;\">13.69</td><td style = \"text-align: right;\">50.653</td><td style = \"text-align: right;\">187.416</td><td style = \"text-align: left;\">5240</td><td style = \"text-align: left;\">17</td><td style = \"text-align: left;\">5680</td><td style = \"text-align: left;\">9</td></tr><tr><td class = \"rowNumber\" style = \"font-weight: bold; text-align: right;\">9</td><td style = \"text-align: right;\">1.0</td><td style = \"text-align: right;\">0.0</td><td style = \"text-align: right;\">1.0</td><td style = \"text-align: right;\">0.0</td><td style = \"text-align: right;\">0.0</td><td style = \"text-align: right;\">0.0</td><td style = \"text-align: right;\">0.0</td><td style = \"text-align: right;\">0.0</td><td style = \"text-align: right;\">0.0</td><td style = \"text-align: right;\">1.0</td><td style = \"text-align: right;\">31.0</td><td style = \"text-align: right;\">9.61</td><td style = \"text-align: right;\">29.791</td><td style = \"text-align: right;\">92.3521</td><td style = \"text-align: left;\">4040</td><td style = \"text-align: left;\">13</td><td style = \"text-align: left;\">8590</td><td style = \"text-align: left;\">19</td></tr><tr><td class = \"rowNumber\" style = \"font-weight: bold; text-align: right;\">10</td><td style = \"text-align: right;\">1.0</td><td style = \"text-align: right;\">0.0</td><td style = \"text-align: right;\">0.0</td><td style = \"text-align: right;\">0.0</td><td style = \"text-align: right;\">1.0</td><td style = \"text-align: right;\">0.0</td><td style = \"text-align: right;\">0.0</td><td style = \"text-align: right;\">0.0</td><td style = \"text-align: right;\">0.0</td><td style = \"text-align: right;\">1.0</td><td style = \"text-align: right;\">4.0</td><td style = \"text-align: right;\">0.16</td><td style = \"text-align: right;\">0.064</td><td style = \"text-align: right;\">0.0256</td><td style = \"text-align: left;\">3255</td><td style = \"text-align: left;\">10</td><td style = \"text-align: left;\">8190</td><td style = \"text-align: left;\">18</td></tr><tr><td class = \"rowNumber\" style = \"font-weight: bold; text-align: right;\">11</td><td style = \"text-align: right;\">1.0</td><td style = \"text-align: right;\">0.0</td><td style = \"text-align: right;\">1.0</td><td style = \"text-align: right;\">0.0</td><td style = \"text-align: right;\">0.0</td><td style = \"text-align: right;\">0.0</td><td style = \"text-align: right;\">0.0</td><td style = \"text-align: right;\">0.0</td><td style = \"text-align: right;\">0.0</td><td style = \"text-align: right;\">1.0</td><td style = \"text-align: right;\">7.0</td><td style = \"text-align: right;\">0.49</td><td style = \"text-align: right;\">0.343</td><td style = \"text-align: right;\">0.2401</td><td style = \"text-align: left;\">4020</td><td style = \"text-align: left;\">13</td><td style = \"text-align: left;\">8270</td><td style = \"text-align: left;\">18</td></tr><tr><td class = \"rowNumber\" style = \"font-weight: bold; text-align: right;\">12</td><td style = \"text-align: right;\">0.0</td><td style = \"text-align: right;\">0.0</td><td style = \"text-align: right;\">1.0</td><td style = \"text-align: right;\">0.0</td><td style = \"text-align: right;\">0.0</td><td style = \"text-align: right;\">0.0</td><td style = \"text-align: right;\">0.0</td><td style = \"text-align: right;\">0.0</td><td style = \"text-align: right;\">0.0</td><td style = \"text-align: right;\">1.0</td><td style = \"text-align: right;\">30.0</td><td style = \"text-align: right;\">9.0</td><td style = \"text-align: right;\">27.0</td><td style = \"text-align: right;\">81.0</td><td style = \"text-align: left;\">4220</td><td style = \"text-align: left;\">14</td><td style = \"text-align: left;\">8270</td><td style = \"text-align: left;\">18</td></tr><tr><td class = \"rowNumber\" style = \"font-weight: bold; text-align: right;\">13</td><td style = \"text-align: right;\">1.0</td><td style = \"text-align: right;\">0.0</td><td style = \"text-align: right;\">0.0</td><td style = \"text-align: right;\">1.0</td><td style = \"text-align: right;\">0.0</td><td style = \"text-align: right;\">0.0</td><td style = \"text-align: right;\">0.0</td><td style = \"text-align: right;\">0.0</td><td style = \"text-align: right;\">0.0</td><td style = \"text-align: right;\">1.0</td><td style = \"text-align: right;\">5.5</td><td style = \"text-align: right;\">0.3025</td><td style = \"text-align: right;\">0.166375</td><td style = \"text-align: right;\">0.0915062</td><td style = \"text-align: left;\">3600</td><td style = \"text-align: left;\">11</td><td style = \"text-align: left;\">8270</td><td style = \"text-align: left;\">18</td></tr><tr><td style = \"text-align: right;\">&vellip;</td><td style = \"text-align: right;\">&vellip;</td><td style = \"text-align: right;\">&vellip;</td><td style = \"text-align: right;\">&vellip;</td><td style = \"text-align: right;\">&vellip;</td><td style = \"text-align: right;\">&vellip;</td><td style = \"text-align: right;\">&vellip;</td><td style = \"text-align: right;\">&vellip;</td><td style = \"text-align: right;\">&vellip;</td><td style = \"text-align: right;\">&vellip;</td><td style = \"text-align: right;\">&vellip;</td><td style = \"text-align: right;\">&vellip;</td><td style = \"text-align: right;\">&vellip;</td><td style = \"text-align: right;\">&vellip;</td><td style = \"text-align: right;\">&vellip;</td><td style = \"text-align: right;\">&vellip;</td><td style = \"text-align: right;\">&vellip;</td><td style = \"text-align: right;\">&vellip;</td><td style = \"text-align: right;\">&vellip;</td></tr><tr><td class = \"rowNumber\" style = \"font-weight: bold; text-align: right;\">5139</td><td style = \"text-align: right;\">1.0</td><td style = \"text-align: right;\">0.0</td><td style = \"text-align: right;\">0.0</td><td style = \"text-align: right;\">0.0</td><td style = \"text-align: right;\">0.0</td><td style = \"text-align: right;\">1.0</td><td style = \"text-align: right;\">0.0</td><td style = \"text-align: right;\">0.0</td><td style = \"text-align: right;\">1.0</td><td style = \"text-align: right;\">0.0</td><td style = \"text-align: right;\">8.0</td><td style = \"text-align: right;\">0.64</td><td style = \"text-align: right;\">0.512</td><td style = \"text-align: right;\">0.4096</td><td style = \"text-align: left;\">2000</td><td style = \"text-align: left;\">6</td><td style = \"text-align: left;\">8090</td><td style = \"text-align: left;\">18</td></tr><tr><td class = \"rowNumber\" style = \"font-weight: bold; text-align: right;\">5140</td><td style = \"text-align: right;\">0.0</td><td style = \"text-align: right;\">0.0</td><td style = \"text-align: right;\">0.0</td><td style = \"text-align: right;\">0.0</td><td style = \"text-align: right;\">1.0</td><td style = \"text-align: right;\">0.0</td><td style = \"text-align: right;\">0.0</td><td style = \"text-align: right;\">0.0</td><td style = \"text-align: right;\">1.0</td><td style = \"text-align: right;\">0.0</td><td style = \"text-align: right;\">28.0</td><td style = \"text-align: right;\">7.84</td><td style = \"text-align: right;\">21.952</td><td style = \"text-align: right;\">61.4656</td><td style = \"text-align: left;\">40</td><td style = \"text-align: left;\">1</td><td style = \"text-align: left;\">9170</td><td style = \"text-align: left;\">21</td></tr><tr><td class = \"rowNumber\" style = \"font-weight: bold; text-align: right;\">5141</td><td style = \"text-align: right;\">1.0</td><td style = \"text-align: right;\">0.0</td><td style = \"text-align: right;\">0.0</td><td style = \"text-align: right;\">0.0</td><td style = \"text-align: right;\">1.0</td><td style = \"text-align: right;\">0.0</td><td style = \"text-align: right;\">0.0</td><td style = \"text-align: right;\">0.0</td><td style = \"text-align: right;\">1.0</td><td style = \"text-align: right;\">0.0</td><td style = \"text-align: right;\">5.0</td><td style = \"text-align: right;\">0.25</td><td style = \"text-align: right;\">0.125</td><td style = \"text-align: right;\">0.0625</td><td style = \"text-align: left;\">3255</td><td style = \"text-align: left;\">10</td><td style = \"text-align: left;\">8190</td><td style = \"text-align: left;\">18</td></tr><tr><td class = \"rowNumber\" style = \"font-weight: bold; text-align: right;\">5142</td><td style = \"text-align: right;\">0.0</td><td style = \"text-align: right;\">0.0</td><td style = \"text-align: right;\">1.0</td><td style = \"text-align: right;\">0.0</td><td style = \"text-align: right;\">0.0</td><td style = \"text-align: right;\">0.0</td><td style = \"text-align: right;\">0.0</td><td style = \"text-align: right;\">0.0</td><td style = \"text-align: right;\">1.0</td><td style = \"text-align: right;\">0.0</td><td style = \"text-align: right;\">15.0</td><td style = \"text-align: right;\">2.25</td><td style = \"text-align: right;\">3.375</td><td style = \"text-align: right;\">5.0625</td><td style = \"text-align: left;\">9620</td><td style = \"text-align: left;\">22</td><td style = \"text-align: left;\">5390</td><td style = \"text-align: left;\">9</td></tr><tr><td class = \"rowNumber\" style = \"font-weight: bold; text-align: right;\">5143</td><td style = \"text-align: right;\">0.0</td><td style = \"text-align: right;\">0.0</td><td style = \"text-align: right;\">1.0</td><td style = \"text-align: right;\">0.0</td><td style = \"text-align: right;\">0.0</td><td style = \"text-align: right;\">0.0</td><td style = \"text-align: right;\">0.0</td><td style = \"text-align: right;\">0.0</td><td style = \"text-align: right;\">1.0</td><td style = \"text-align: right;\">0.0</td><td style = \"text-align: right;\">11.0</td><td style = \"text-align: right;\">1.21</td><td style = \"text-align: right;\">1.331</td><td style = \"text-align: right;\">1.4641</td><td style = \"text-align: left;\">7150</td><td style = \"text-align: left;\">20</td><td style = \"text-align: left;\">8770</td><td style = \"text-align: left;\">21</td></tr><tr><td class = \"rowNumber\" style = \"font-weight: bold; text-align: right;\">5144</td><td style = \"text-align: right;\">1.0</td><td style = \"text-align: right;\">0.0</td><td style = \"text-align: right;\">0.0</td><td style = \"text-align: right;\">0.0</td><td style = \"text-align: right;\">1.0</td><td style = \"text-align: right;\">0.0</td><td style = \"text-align: right;\">0.0</td><td style = \"text-align: right;\">0.0</td><td style = \"text-align: right;\">1.0</td><td style = \"text-align: right;\">0.0</td><td style = \"text-align: right;\">17.0</td><td style = \"text-align: right;\">2.89</td><td style = \"text-align: right;\">4.913</td><td style = \"text-align: right;\">8.3521</td><td style = \"text-align: left;\">2550</td><td style = \"text-align: left;\">8</td><td style = \"text-align: left;\">9480</td><td style = \"text-align: left;\">22</td></tr><tr><td class = \"rowNumber\" style = \"font-weight: bold; text-align: right;\">5145</td><td style = \"text-align: right;\">0.0</td><td style = \"text-align: right;\">0.0</td><td style = \"text-align: right;\">0.0</td><td style = \"text-align: right;\">0.0</td><td style = \"text-align: right;\">1.0</td><td style = \"text-align: right;\">0.0</td><td style = \"text-align: right;\">0.0</td><td style = \"text-align: right;\">0.0</td><td style = \"text-align: right;\">1.0</td><td style = \"text-align: right;\">0.0</td><td style = \"text-align: right;\">10.0</td><td style = \"text-align: right;\">1.0</td><td style = \"text-align: right;\">1.0</td><td style = \"text-align: right;\">1.0</td><td style = \"text-align: left;\">800</td><td style = \"text-align: left;\">2</td><td style = \"text-align: left;\">770</td><td style = \"text-align: left;\">4</td></tr><tr><td class = \"rowNumber\" style = \"font-weight: bold; text-align: right;\">5146</td><td style = \"text-align: right;\">0.0</td><td style = \"text-align: right;\">0.0</td><td style = \"text-align: right;\">0.0</td><td style = \"text-align: right;\">0.0</td><td style = \"text-align: right;\">1.0</td><td style = \"text-align: right;\">0.0</td><td style = \"text-align: right;\">0.0</td><td style = \"text-align: right;\">0.0</td><td style = \"text-align: right;\">1.0</td><td style = \"text-align: right;\">0.0</td><td style = \"text-align: right;\">9.0</td><td style = \"text-align: right;\">0.81</td><td style = \"text-align: right;\">0.729</td><td style = \"text-align: right;\">0.6561</td><td style = \"text-align: left;\">4700</td><td style = \"text-align: left;\">16</td><td style = \"text-align: left;\">4970</td><td style = \"text-align: left;\">9</td></tr><tr><td class = \"rowNumber\" style = \"font-weight: bold; text-align: right;\">5147</td><td style = \"text-align: right;\">1.0</td><td style = \"text-align: right;\">0.0</td><td style = \"text-align: right;\">0.0</td><td style = \"text-align: right;\">1.0</td><td style = \"text-align: right;\">0.0</td><td style = \"text-align: right;\">0.0</td><td style = \"text-align: right;\">0.0</td><td style = \"text-align: right;\">0.0</td><td style = \"text-align: right;\">1.0</td><td style = \"text-align: right;\">0.0</td><td style = \"text-align: right;\">12.0</td><td style = \"text-align: right;\">1.44</td><td style = \"text-align: right;\">1.728</td><td style = \"text-align: right;\">2.0736</td><td style = \"text-align: left;\">4110</td><td style = \"text-align: left;\">13</td><td style = \"text-align: left;\">8680</td><td style = \"text-align: left;\">20</td></tr><tr><td class = \"rowNumber\" style = \"font-weight: bold; text-align: right;\">5148</td><td style = \"text-align: right;\">0.0</td><td style = \"text-align: right;\">0.0</td><td style = \"text-align: right;\">0.0</td><td style = \"text-align: right;\">0.0</td><td style = \"text-align: right;\">0.0</td><td style = \"text-align: right;\">1.0</td><td style = \"text-align: right;\">0.0</td><td style = \"text-align: right;\">0.0</td><td style = \"text-align: right;\">1.0</td><td style = \"text-align: right;\">0.0</td><td style = \"text-align: right;\">11.0</td><td style = \"text-align: right;\">1.21</td><td style = \"text-align: right;\">1.331</td><td style = \"text-align: right;\">1.4641</td><td style = \"text-align: left;\">1550</td><td style = \"text-align: left;\">4</td><td style = \"text-align: left;\">3680</td><td style = \"text-align: left;\">6</td></tr><tr><td class = \"rowNumber\" style = \"font-weight: bold; text-align: right;\">5149</td><td style = \"text-align: right;\">0.0</td><td style = \"text-align: right;\">0.0</td><td style = \"text-align: right;\">1.0</td><td style = \"text-align: right;\">0.0</td><td style = \"text-align: right;\">0.0</td><td style = \"text-align: right;\">0.0</td><td style = \"text-align: right;\">0.0</td><td style = \"text-align: right;\">0.0</td><td style = \"text-align: right;\">1.0</td><td style = \"text-align: right;\">0.0</td><td style = \"text-align: right;\">10.0</td><td style = \"text-align: right;\">1.0</td><td style = \"text-align: right;\">1.0</td><td style = \"text-align: right;\">1.0</td><td style = \"text-align: left;\">2920</td><td style = \"text-align: left;\">9</td><td style = \"text-align: left;\">6570</td><td style = \"text-align: left;\">11</td></tr><tr><td class = \"rowNumber\" style = \"font-weight: bold; text-align: right;\">5150</td><td style = \"text-align: right;\">0.0</td><td style = \"text-align: right;\">0.0</td><td style = \"text-align: right;\">0.0</td><td style = \"text-align: right;\">0.0</td><td style = \"text-align: right;\">0.0</td><td style = \"text-align: right;\">1.0</td><td style = \"text-align: right;\">0.0</td><td style = \"text-align: right;\">0.0</td><td style = \"text-align: right;\">1.0</td><td style = \"text-align: right;\">0.0</td><td style = \"text-align: right;\">14.0</td><td style = \"text-align: right;\">1.96</td><td style = \"text-align: right;\">2.744</td><td style = \"text-align: right;\">3.8416</td><td style = \"text-align: left;\">1610</td><td style = \"text-align: left;\">5</td><td style = \"text-align: left;\">7460</td><td style = \"text-align: left;\">14</td></tr></tbody></table></div>"
      ],
      "text/latex": [
       "\\begin{tabular}{r|cccccccccc}\n",
       "\t& sex & shs & hsg & scl & clg & ad & mw & so & we & \\\\\n",
       "\t\\hline\n",
       "\t& Float64 & Float64 & Float64 & Float64 & Float64 & Float64 & Float64 & Float64 & Float64 & \\\\\n",
       "\t\\hline\n",
       "\t1 & 1.0 & 0.0 & 0.0 & 0.0 & 1.0 & 0.0 & 0.0 & 0.0 & 0.0 & $\\dots$ \\\\\n",
       "\t2 & 0.0 & 0.0 & 0.0 & 0.0 & 1.0 & 0.0 & 0.0 & 0.0 & 0.0 & $\\dots$ \\\\\n",
       "\t3 & 0.0 & 0.0 & 1.0 & 0.0 & 0.0 & 0.0 & 0.0 & 0.0 & 0.0 & $\\dots$ \\\\\n",
       "\t4 & 1.0 & 0.0 & 0.0 & 0.0 & 0.0 & 1.0 & 0.0 & 0.0 & 0.0 & $\\dots$ \\\\\n",
       "\t5 & 1.0 & 0.0 & 0.0 & 0.0 & 1.0 & 0.0 & 0.0 & 0.0 & 0.0 & $\\dots$ \\\\\n",
       "\t6 & 1.0 & 0.0 & 0.0 & 0.0 & 1.0 & 0.0 & 0.0 & 0.0 & 0.0 & $\\dots$ \\\\\n",
       "\t7 & 1.0 & 0.0 & 1.0 & 0.0 & 0.0 & 0.0 & 0.0 & 0.0 & 0.0 & $\\dots$ \\\\\n",
       "\t8 & 0.0 & 0.0 & 1.0 & 0.0 & 0.0 & 0.0 & 0.0 & 0.0 & 0.0 & $\\dots$ \\\\\n",
       "\t9 & 1.0 & 0.0 & 1.0 & 0.0 & 0.0 & 0.0 & 0.0 & 0.0 & 0.0 & $\\dots$ \\\\\n",
       "\t10 & 1.0 & 0.0 & 0.0 & 0.0 & 1.0 & 0.0 & 0.0 & 0.0 & 0.0 & $\\dots$ \\\\\n",
       "\t11 & 1.0 & 0.0 & 1.0 & 0.0 & 0.0 & 0.0 & 0.0 & 0.0 & 0.0 & $\\dots$ \\\\\n",
       "\t12 & 0.0 & 0.0 & 1.0 & 0.0 & 0.0 & 0.0 & 0.0 & 0.0 & 0.0 & $\\dots$ \\\\\n",
       "\t13 & 1.0 & 0.0 & 0.0 & 1.0 & 0.0 & 0.0 & 0.0 & 0.0 & 0.0 & $\\dots$ \\\\\n",
       "\t14 & 1.0 & 0.0 & 0.0 & 1.0 & 0.0 & 0.0 & 0.0 & 0.0 & 0.0 & $\\dots$ \\\\\n",
       "\t15 & 1.0 & 0.0 & 0.0 & 0.0 & 1.0 & 0.0 & 0.0 & 0.0 & 0.0 & $\\dots$ \\\\\n",
       "\t16 & 0.0 & 0.0 & 1.0 & 0.0 & 0.0 & 0.0 & 0.0 & 0.0 & 0.0 & $\\dots$ \\\\\n",
       "\t17 & 0.0 & 0.0 & 1.0 & 0.0 & 0.0 & 0.0 & 0.0 & 0.0 & 0.0 & $\\dots$ \\\\\n",
       "\t18 & 0.0 & 0.0 & 0.0 & 1.0 & 0.0 & 0.0 & 0.0 & 0.0 & 0.0 & $\\dots$ \\\\\n",
       "\t19 & 0.0 & 0.0 & 1.0 & 0.0 & 0.0 & 0.0 & 0.0 & 0.0 & 0.0 & $\\dots$ \\\\\n",
       "\t20 & 0.0 & 0.0 & 1.0 & 0.0 & 0.0 & 0.0 & 0.0 & 0.0 & 0.0 & $\\dots$ \\\\\n",
       "\t21 & 1.0 & 0.0 & 0.0 & 1.0 & 0.0 & 0.0 & 0.0 & 0.0 & 0.0 & $\\dots$ \\\\\n",
       "\t22 & 1.0 & 0.0 & 0.0 & 1.0 & 0.0 & 0.0 & 0.0 & 0.0 & 0.0 & $\\dots$ \\\\\n",
       "\t23 & 1.0 & 0.0 & 0.0 & 0.0 & 0.0 & 1.0 & 0.0 & 0.0 & 0.0 & $\\dots$ \\\\\n",
       "\t24 & 0.0 & 0.0 & 0.0 & 0.0 & 1.0 & 0.0 & 0.0 & 0.0 & 0.0 & $\\dots$ \\\\\n",
       "\t$\\dots$ & $\\dots$ & $\\dots$ & $\\dots$ & $\\dots$ & $\\dots$ & $\\dots$ & $\\dots$ & $\\dots$ & $\\dots$ &  \\\\\n",
       "\\end{tabular}\n"
      ],
      "text/plain": [
       "\u001b[1m5150×18 DataFrame\u001b[0m\n",
       "\u001b[1m  Row \u001b[0m│\u001b[1m sex     \u001b[0m\u001b[1m shs     \u001b[0m\u001b[1m hsg     \u001b[0m\u001b[1m scl     \u001b[0m\u001b[1m clg     \u001b[0m\u001b[1m ad      \u001b[0m\u001b[1m mw      \u001b[0m\u001b[1m so     \u001b[0m ⋯\n",
       "      │\u001b[90m Float64 \u001b[0m\u001b[90m Float64 \u001b[0m\u001b[90m Float64 \u001b[0m\u001b[90m Float64 \u001b[0m\u001b[90m Float64 \u001b[0m\u001b[90m Float64 \u001b[0m\u001b[90m Float64 \u001b[0m\u001b[90m Float64\u001b[0m ⋯\n",
       "──────┼─────────────────────────────────────────────────────────────────────────\n",
       "    1 │     1.0      0.0      0.0      0.0      1.0      0.0      0.0      0.0 ⋯\n",
       "    2 │     0.0      0.0      0.0      0.0      1.0      0.0      0.0      0.0\n",
       "    3 │     0.0      0.0      1.0      0.0      0.0      0.0      0.0      0.0\n",
       "    4 │     1.0      0.0      0.0      0.0      0.0      1.0      0.0      0.0\n",
       "    5 │     1.0      0.0      0.0      0.0      1.0      0.0      0.0      0.0 ⋯\n",
       "    6 │     1.0      0.0      0.0      0.0      1.0      0.0      0.0      0.0\n",
       "    7 │     1.0      0.0      1.0      0.0      0.0      0.0      0.0      0.0\n",
       "    8 │     0.0      0.0      1.0      0.0      0.0      0.0      0.0      0.0\n",
       "  ⋮   │    ⋮        ⋮        ⋮        ⋮        ⋮        ⋮        ⋮        ⋮    ⋱\n",
       " 5144 │     1.0      0.0      0.0      0.0      1.0      0.0      0.0      0.0 ⋯\n",
       " 5145 │     0.0      0.0      0.0      0.0      1.0      0.0      0.0      0.0\n",
       " 5146 │     0.0      0.0      0.0      0.0      1.0      0.0      0.0      0.0\n",
       " 5147 │     1.0      0.0      0.0      1.0      0.0      0.0      0.0      0.0\n",
       " 5148 │     0.0      0.0      0.0      0.0      0.0      1.0      0.0      0.0 ⋯\n",
       " 5149 │     0.0      0.0      1.0      0.0      0.0      0.0      0.0      0.0\n",
       " 5150 │     0.0      0.0      0.0      0.0      0.0      1.0      0.0      0.0\n",
       "\u001b[36m                                                10 columns and 5135 rows omitted\u001b[0m"
      ]
     },
     "metadata": {},
     "output_type": "display_data"
    }
   ],
   "source": [
    "#creamos los 2 dataframes\n",
    "\n",
    "#1er dataframe (only log(wage))\n",
    "\n",
    "only_logwage = DataFrame(log_wage = df.lwage)\n",
    "\n",
    "#2do dataframe (otras variables)\n",
    "\n",
    "df_no_wage = select(df, Not([:wage, :lwage]))\n",
    "\n"
   ]
  },
  {
   "cell_type": "markdown",
   "metadata": {},
   "source": [
    "## 2. Data wrangling"
   ]
  },
  {
   "cell_type": "markdown",
   "metadata": {},
   "source": [
    "#### 7. Make an array for our Y variable, which will be the logarithm of wage (lwage column)"
   ]
  },
  {
   "cell_type": "code",
   "execution_count": 9,
   "metadata": {},
   "outputs": [
    {
     "data": {
      "text/plain": [
       "5150-element Vector{Float64}:\n",
       " 2.2633643798407643\n",
       " 3.872802292274865\n",
       " 2.403126322215923\n",
       " 2.634927936273247\n",
       " 3.361976668508874\n",
       " 2.4622152385859297\n",
       " 2.9565115604007097\n",
       " 2.9565115604007097\n",
       " 2.4849066497880004\n",
       " 2.9565115604007097\n",
       " ⋮\n",
       " 3.117779707996832\n",
       " 2.822980167776187\n",
       " 3.1796551117149194\n",
       " 2.6280074934286737\n",
       " 2.6925460145662448\n",
       " 3.138833117194664\n",
       " 3.649658740960655\n",
       " 3.4955080611333966\n",
       " 2.8511510447428834"
      ]
     },
     "metadata": {},
     "output_type": "display_data"
    }
   ],
   "source": [
    "#convierto en array con nombre Y\n",
    "Y=df.lwage"
   ]
  },
  {
   "cell_type": "code",
   "execution_count": 10,
   "metadata": {},
   "outputs": [
    {
     "data": {
      "text/plain": [
       "5150×16 Matrix{Any}:\n",
       " 1.0  0.0  0.0  0.0  1.0  0.0  0.0  …   0.49   0.343    0.2401  \"11\"  \"18\"\n",
       " 0.0  0.0  0.0  0.0  1.0  0.0  0.0      9.61  29.791   92.3521  \"10\"  \"9\"\n",
       " 0.0  0.0  1.0  0.0  0.0  0.0  0.0      3.24   5.832   10.4976  \"19\"  \"4\"\n",
       " 1.0  0.0  0.0  0.0  0.0  1.0  0.0      6.25  15.625   39.0625  \"1\"   \"12\"\n",
       " 1.0  0.0  0.0  0.0  1.0  0.0  0.0      4.84  10.648   23.4256  \"6\"   \"22\"\n",
       " 1.0  0.0  0.0  0.0  1.0  0.0  0.0  …   0.01   0.001    0.0001  \"5\"   \"14\"\n",
       " 1.0  0.0  1.0  0.0  0.0  0.0  0.0     17.64  74.088  311.17    \"17\"  \"14\"\n",
       " 0.0  0.0  1.0  0.0  0.0  0.0  0.0     13.69  50.653  187.416   \"17\"  \"9\"\n",
       " 1.0  0.0  1.0  0.0  0.0  0.0  0.0      9.61  29.791   92.3521  \"13\"  \"19\"\n",
       " 1.0  0.0  0.0  0.0  1.0  0.0  0.0      0.16   0.064    0.0256  \"10\"  \"18\"\n",
       " ⋮                        ⋮         ⋱                                 ⋮\n",
       " 0.0  0.0  1.0  0.0  0.0  0.0  0.0      2.25   3.375    5.0625  \"22\"  \"9\"\n",
       " 0.0  0.0  1.0  0.0  0.0  0.0  0.0      1.21   1.331    1.4641  \"20\"  \"21\"\n",
       " 1.0  0.0  0.0  0.0  1.0  0.0  0.0      2.89   4.913    8.3521  \"8\"   \"22\"\n",
       " 0.0  0.0  0.0  0.0  1.0  0.0  0.0      1.0    1.0      1.0     \"2\"   \"4\"\n",
       " 0.0  0.0  0.0  0.0  1.0  0.0  0.0  …   0.81   0.729    0.6561  \"16\"  \"9\"\n",
       " 1.0  0.0  0.0  1.0  0.0  0.0  0.0      1.44   1.728    2.0736  \"13\"  \"20\"\n",
       " 0.0  0.0  0.0  0.0  0.0  1.0  0.0      1.21   1.331    1.4641  \"4\"   \"6\"\n",
       " 0.0  0.0  1.0  0.0  0.0  0.0  0.0      1.0    1.0      1.0     \"9\"   \"11\"\n",
       " 0.0  0.0  0.0  0.0  0.0  1.0  0.0      1.96   2.744    3.8416  \"5\"   \"14\""
      ]
     },
     "metadata": {},
     "output_type": "display_data"
    }
   ],
   "source": [
    "#primero convertimos en matriz  y quitamos las variables que no vamos a usar:\n",
    "no_wage = Matrix(select(df, Not([:wage, :lwage, :occ, :ind],)))\n"
   ]
  },
  {
   "cell_type": "code",
   "execution_count": 11,
   "metadata": {},
   "outputs": [
    {
     "data": {
      "text/html": [
       "<div><div style = \"float: left;\"><span>5×16 DataFrame</span></div><div style = \"clear: both;\"></div></div><div class = \"data-frame\" style = \"overflow-x: scroll;\"><table class = \"data-frame\" style = \"margin-bottom: 6px;\"><thead><tr class = \"header\"><th class = \"rowNumber\" style = \"font-weight: bold; text-align: right;\">Row</th><th style = \"text-align: left;\">sex</th><th style = \"text-align: left;\">shs</th><th style = \"text-align: left;\">hsg</th><th style = \"text-align: left;\">scl</th><th style = \"text-align: left;\">clg</th><th style = \"text-align: left;\">ad</th><th style = \"text-align: left;\">mw</th><th style = \"text-align: left;\">so</th><th style = \"text-align: left;\">we</th><th style = \"text-align: left;\">ne</th><th style = \"text-align: left;\">exp1</th><th style = \"text-align: left;\">exp2</th><th style = \"text-align: left;\">exp3</th><th style = \"text-align: left;\">exp4</th><th style = \"text-align: left;\">occ2</th><th style = \"text-align: left;\">ind2</th></tr><tr class = \"subheader headerLastRow\"><th class = \"rowNumber\" style = \"font-weight: bold; text-align: right;\"></th><th title = \"Float64\" style = \"text-align: left;\">Float64</th><th title = \"Float64\" style = \"text-align: left;\">Float64</th><th title = \"Float64\" style = \"text-align: left;\">Float64</th><th title = \"Float64\" style = \"text-align: left;\">Float64</th><th title = \"Float64\" style = \"text-align: left;\">Float64</th><th title = \"Float64\" style = \"text-align: left;\">Float64</th><th title = \"Float64\" style = \"text-align: left;\">Float64</th><th title = \"Float64\" style = \"text-align: left;\">Float64</th><th title = \"Float64\" style = \"text-align: left;\">Float64</th><th title = \"Float64\" style = \"text-align: left;\">Float64</th><th title = \"Float64\" style = \"text-align: left;\">Float64</th><th title = \"Float64\" style = \"text-align: left;\">Float64</th><th title = \"Float64\" style = \"text-align: left;\">Float64</th><th title = \"Float64\" style = \"text-align: left;\">Float64</th><th title = \"CategoricalValue{String, UInt8}\" style = \"text-align: left;\">Cat…</th><th title = \"CategoricalValue{String, UInt8}\" style = \"text-align: left;\">Cat…</th></tr></thead><tbody><tr><td class = \"rowNumber\" style = \"font-weight: bold; text-align: right;\">1</td><td style = \"text-align: right;\">1.0</td><td style = \"text-align: right;\">0.0</td><td style = \"text-align: right;\">0.0</td><td style = \"text-align: right;\">0.0</td><td style = \"text-align: right;\">1.0</td><td style = \"text-align: right;\">0.0</td><td style = \"text-align: right;\">0.0</td><td style = \"text-align: right;\">0.0</td><td style = \"text-align: right;\">0.0</td><td style = \"text-align: right;\">1.0</td><td style = \"text-align: right;\">7.0</td><td style = \"text-align: right;\">0.49</td><td style = \"text-align: right;\">0.343</td><td style = \"text-align: right;\">0.2401</td><td style = \"text-align: left;\">11</td><td style = \"text-align: left;\">18</td></tr><tr><td class = \"rowNumber\" style = \"font-weight: bold; text-align: right;\">2</td><td style = \"text-align: right;\">0.0</td><td style = \"text-align: right;\">0.0</td><td style = \"text-align: right;\">0.0</td><td style = \"text-align: right;\">0.0</td><td style = \"text-align: right;\">1.0</td><td style = \"text-align: right;\">0.0</td><td style = \"text-align: right;\">0.0</td><td style = \"text-align: right;\">0.0</td><td style = \"text-align: right;\">0.0</td><td style = \"text-align: right;\">1.0</td><td style = \"text-align: right;\">31.0</td><td style = \"text-align: right;\">9.61</td><td style = \"text-align: right;\">29.791</td><td style = \"text-align: right;\">92.3521</td><td style = \"text-align: left;\">10</td><td style = \"text-align: left;\">9</td></tr><tr><td class = \"rowNumber\" style = \"font-weight: bold; text-align: right;\">3</td><td style = \"text-align: right;\">0.0</td><td style = \"text-align: right;\">0.0</td><td style = \"text-align: right;\">1.0</td><td style = \"text-align: right;\">0.0</td><td style = \"text-align: right;\">0.0</td><td style = \"text-align: right;\">0.0</td><td style = \"text-align: right;\">0.0</td><td style = \"text-align: right;\">0.0</td><td style = \"text-align: right;\">0.0</td><td style = \"text-align: right;\">1.0</td><td style = \"text-align: right;\">18.0</td><td style = \"text-align: right;\">3.24</td><td style = \"text-align: right;\">5.832</td><td style = \"text-align: right;\">10.4976</td><td style = \"text-align: left;\">19</td><td style = \"text-align: left;\">4</td></tr><tr><td class = \"rowNumber\" style = \"font-weight: bold; text-align: right;\">4</td><td style = \"text-align: right;\">1.0</td><td style = \"text-align: right;\">0.0</td><td style = \"text-align: right;\">0.0</td><td style = \"text-align: right;\">0.0</td><td style = \"text-align: right;\">0.0</td><td style = \"text-align: right;\">1.0</td><td style = \"text-align: right;\">0.0</td><td style = \"text-align: right;\">0.0</td><td style = \"text-align: right;\">0.0</td><td style = \"text-align: right;\">1.0</td><td style = \"text-align: right;\">25.0</td><td style = \"text-align: right;\">6.25</td><td style = \"text-align: right;\">15.625</td><td style = \"text-align: right;\">39.0625</td><td style = \"text-align: left;\">1</td><td style = \"text-align: left;\">12</td></tr><tr><td class = \"rowNumber\" style = \"font-weight: bold; text-align: right;\">5</td><td style = \"text-align: right;\">1.0</td><td style = \"text-align: right;\">0.0</td><td style = \"text-align: right;\">0.0</td><td style = \"text-align: right;\">0.0</td><td style = \"text-align: right;\">1.0</td><td style = \"text-align: right;\">0.0</td><td style = \"text-align: right;\">0.0</td><td style = \"text-align: right;\">0.0</td><td style = \"text-align: right;\">0.0</td><td style = \"text-align: right;\">1.0</td><td style = \"text-align: right;\">22.0</td><td style = \"text-align: right;\">4.84</td><td style = \"text-align: right;\">10.648</td><td style = \"text-align: right;\">23.4256</td><td style = \"text-align: left;\">6</td><td style = \"text-align: left;\">22</td></tr></tbody></table></div>"
      ],
      "text/latex": [
       "\\begin{tabular}{r|cccccccccc}\n",
       "\t& sex & shs & hsg & scl & clg & ad & mw & so & we & \\\\\n",
       "\t\\hline\n",
       "\t& Float64 & Float64 & Float64 & Float64 & Float64 & Float64 & Float64 & Float64 & Float64 & \\\\\n",
       "\t\\hline\n",
       "\t1 & 1.0 & 0.0 & 0.0 & 0.0 & 1.0 & 0.0 & 0.0 & 0.0 & 0.0 & $\\dots$ \\\\\n",
       "\t2 & 0.0 & 0.0 & 0.0 & 0.0 & 1.0 & 0.0 & 0.0 & 0.0 & 0.0 & $\\dots$ \\\\\n",
       "\t3 & 0.0 & 0.0 & 1.0 & 0.0 & 0.0 & 0.0 & 0.0 & 0.0 & 0.0 & $\\dots$ \\\\\n",
       "\t4 & 1.0 & 0.0 & 0.0 & 0.0 & 0.0 & 1.0 & 0.0 & 0.0 & 0.0 & $\\dots$ \\\\\n",
       "\t5 & 1.0 & 0.0 & 0.0 & 0.0 & 1.0 & 0.0 & 0.0 & 0.0 & 0.0 & $\\dots$ \\\\\n",
       "\\end{tabular}\n"
      ],
      "text/plain": [
       "\u001b[1m5×16 DataFrame\u001b[0m\n",
       "\u001b[1m Row \u001b[0m│\u001b[1m sex     \u001b[0m\u001b[1m shs     \u001b[0m\u001b[1m hsg     \u001b[0m\u001b[1m scl     \u001b[0m\u001b[1m clg     \u001b[0m\u001b[1m ad      \u001b[0m\u001b[1m mw      \u001b[0m\u001b[1m so      \u001b[0m\u001b[1m\u001b[0m ⋯\n",
       "     │\u001b[90m Float64 \u001b[0m\u001b[90m Float64 \u001b[0m\u001b[90m Float64 \u001b[0m\u001b[90m Float64 \u001b[0m\u001b[90m Float64 \u001b[0m\u001b[90m Float64 \u001b[0m\u001b[90m Float64 \u001b[0m\u001b[90m Float64 \u001b[0m\u001b[90m\u001b[0m ⋯\n",
       "─────┼──────────────────────────────────────────────────────────────────────────\n",
       "   1 │     1.0      0.0      0.0      0.0      1.0      0.0      0.0      0.0  ⋯\n",
       "   2 │     0.0      0.0      0.0      0.0      1.0      0.0      0.0      0.0\n",
       "   3 │     0.0      0.0      1.0      0.0      0.0      0.0      0.0      0.0\n",
       "   4 │     1.0      0.0      0.0      0.0      0.0      1.0      0.0      0.0\n",
       "   5 │     1.0      0.0      0.0      0.0      1.0      0.0      0.0      0.0  ⋯\n",
       "\u001b[36m                                                               8 columns omitted\u001b[0m"
      ]
     },
     "metadata": {},
     "output_type": "display_data"
    }
   ],
   "source": [
    "#filtramos y nos quedamos con las variables que nos contengan wage y que nos interesen\n",
    "df_no_wage = select(df, Not([:wage, :lwage, :occ, :ind]))\n",
    "\n",
    "first(df_no_wage, 5)"
   ]
  },
  {
   "cell_type": "code",
   "execution_count": 12,
   "metadata": {},
   "outputs": [
    {
     "data": {
      "text/plain": [
       "22-element Vector{String}:\n",
       " \"1\"\n",
       " \"10\"\n",
       " \"11\"\n",
       " \"12\"\n",
       " \"13\"\n",
       " \"14\"\n",
       " \"15\"\n",
       " \"16\"\n",
       " \"17\"\n",
       " \"18\"\n",
       " ⋮\n",
       " \"21\"\n",
       " \"22\"\n",
       " \"3\"\n",
       " \"4\"\n",
       " \"5\"\n",
       " \"6\"\n",
       " \"7\"\n",
       " \"8\"\n",
       " \"9\""
      ]
     },
     "metadata": {},
     "output_type": "display_data"
    }
   ],
   "source": [
    "#vemos los valores que toma la variable occ2 para luego convertirla en dummie\n",
    "sort(unique(df_no_wage.occ2))\n",
    "#efectivamente son valores del 1 al 22. Por tanto podemos crear una dummie tomando como base a 1"
   ]
  },
  {
   "cell_type": "code",
   "execution_count": 13,
   "metadata": {},
   "outputs": [
    {
     "data": {
      "text/plain": [
       "21-element Vector{String}:\n",
       " \"10\"\n",
       " \"11\"\n",
       " \"12\"\n",
       " \"13\"\n",
       " \"14\"\n",
       " \"15\"\n",
       " \"16\"\n",
       " \"17\"\n",
       " \"18\"\n",
       " \"19\"\n",
       " ⋮\n",
       " \"21\"\n",
       " \"22\"\n",
       " \"3\"\n",
       " \"4\"\n",
       " \"5\"\n",
       " \"6\"\n",
       " \"7\"\n",
       " \"8\"\n",
       " \"9\""
      ]
     },
     "metadata": {},
     "output_type": "display_data"
    }
   ],
   "source": [
    "#vemos los valores que toma la variable ind2 para luego convertirla en dummie\n",
    "sort(unique(df_no_wage.ind2))\n",
    "#efectivamente son valores del 2 al 22. Por tanto podemos crear una dummie tomando como base a"
   ]
  },
  {
   "cell_type": "code",
   "execution_count": 14,
   "metadata": {},
   "outputs": [
    {
     "data": {
      "text/html": [
       "<div><div style = \"float: left;\"><span>5150×20 DataFrame</span></div><div style = \"float: right;\"><span style = \"font-style: italic;\">5125 rows omitted</span></div><div style = \"clear: both;\"></div></div><div class = \"data-frame\" style = \"overflow-x: scroll;\"><table class = \"data-frame\" style = \"margin-bottom: 6px;\"><thead><tr class = \"header\"><th class = \"rowNumber\" style = \"font-weight: bold; text-align: right;\">Row</th><th style = \"text-align: left;\">wage</th><th style = \"text-align: left;\">lwage</th><th style = \"text-align: left;\">sex</th><th style = \"text-align: left;\">shs</th><th style = \"text-align: left;\">hsg</th><th style = \"text-align: left;\">scl</th><th style = \"text-align: left;\">clg</th><th style = \"text-align: left;\">ad</th><th style = \"text-align: left;\">mw</th><th style = \"text-align: left;\">so</th><th style = \"text-align: left;\">we</th><th style = \"text-align: left;\">ne</th><th style = \"text-align: left;\">exp1</th><th style = \"text-align: left;\">exp2</th><th style = \"text-align: left;\">exp3</th><th style = \"text-align: left;\">exp4</th><th style = \"text-align: left;\">occ</th><th style = \"text-align: left;\">occ2</th><th style = \"text-align: left;\">ind</th><th style = \"text-align: left;\">ind2</th></tr><tr class = \"subheader headerLastRow\"><th class = \"rowNumber\" style = \"font-weight: bold; text-align: right;\"></th><th title = \"Float64\" style = \"text-align: left;\">Float64</th><th title = \"Float64\" style = \"text-align: left;\">Float64</th><th title = \"Float64\" style = \"text-align: left;\">Float64</th><th title = \"Float64\" style = \"text-align: left;\">Float64</th><th title = \"Float64\" style = \"text-align: left;\">Float64</th><th title = \"Float64\" style = \"text-align: left;\">Float64</th><th title = \"Float64\" style = \"text-align: left;\">Float64</th><th title = \"Float64\" style = \"text-align: left;\">Float64</th><th title = \"Float64\" style = \"text-align: left;\">Float64</th><th title = \"Float64\" style = \"text-align: left;\">Float64</th><th title = \"Float64\" style = \"text-align: left;\">Float64</th><th title = \"Float64\" style = \"text-align: left;\">Float64</th><th title = \"Float64\" style = \"text-align: left;\">Float64</th><th title = \"Float64\" style = \"text-align: left;\">Float64</th><th title = \"Float64\" style = \"text-align: left;\">Float64</th><th title = \"Float64\" style = \"text-align: left;\">Float64</th><th title = \"CategoricalValue{String, UInt16}\" style = \"text-align: left;\">Cat…</th><th title = \"CategoricalValue{String, UInt8}\" style = \"text-align: left;\">Cat…</th><th title = \"CategoricalValue{String, UInt8}\" style = \"text-align: left;\">Cat…</th><th title = \"CategoricalValue{String, UInt8}\" style = \"text-align: left;\">Cat…</th></tr></thead><tbody><tr><td class = \"rowNumber\" style = \"font-weight: bold; text-align: right;\">1</td><td style = \"text-align: right;\">9.61538</td><td style = \"text-align: right;\">2.26336</td><td style = \"text-align: right;\">1.0</td><td style = \"text-align: right;\">0.0</td><td style = \"text-align: right;\">0.0</td><td style = \"text-align: right;\">0.0</td><td style = \"text-align: right;\">1.0</td><td style = \"text-align: right;\">0.0</td><td style = \"text-align: right;\">0.0</td><td style = \"text-align: right;\">0.0</td><td style = \"text-align: right;\">0.0</td><td style = \"text-align: right;\">1.0</td><td style = \"text-align: right;\">7.0</td><td style = \"text-align: right;\">0.49</td><td style = \"text-align: right;\">0.343</td><td style = \"text-align: right;\">0.2401</td><td style = \"text-align: left;\">3600</td><td style = \"text-align: left;\">11</td><td style = \"text-align: left;\">8370</td><td style = \"text-align: left;\">18</td></tr><tr><td class = \"rowNumber\" style = \"font-weight: bold; text-align: right;\">2</td><td style = \"text-align: right;\">48.0769</td><td style = \"text-align: right;\">3.8728</td><td style = \"text-align: right;\">0.0</td><td style = \"text-align: right;\">0.0</td><td style = \"text-align: right;\">0.0</td><td style = \"text-align: right;\">0.0</td><td style = \"text-align: right;\">1.0</td><td style = \"text-align: right;\">0.0</td><td style = \"text-align: right;\">0.0</td><td style = \"text-align: right;\">0.0</td><td style = \"text-align: right;\">0.0</td><td style = \"text-align: right;\">1.0</td><td style = \"text-align: right;\">31.0</td><td style = \"text-align: right;\">9.61</td><td style = \"text-align: right;\">29.791</td><td style = \"text-align: right;\">92.3521</td><td style = \"text-align: left;\">3050</td><td style = \"text-align: left;\">10</td><td style = \"text-align: left;\">5070</td><td style = \"text-align: left;\">9</td></tr><tr><td class = \"rowNumber\" style = \"font-weight: bold; text-align: right;\">3</td><td style = \"text-align: right;\">11.0577</td><td style = \"text-align: right;\">2.40313</td><td style = \"text-align: right;\">0.0</td><td style = \"text-align: right;\">0.0</td><td style = \"text-align: right;\">1.0</td><td style = \"text-align: right;\">0.0</td><td style = \"text-align: right;\">0.0</td><td style = \"text-align: right;\">0.0</td><td style = \"text-align: right;\">0.0</td><td style = \"text-align: right;\">0.0</td><td style = \"text-align: right;\">0.0</td><td style = \"text-align: right;\">1.0</td><td style = \"text-align: right;\">18.0</td><td style = \"text-align: right;\">3.24</td><td style = \"text-align: right;\">5.832</td><td style = \"text-align: right;\">10.4976</td><td style = \"text-align: left;\">6260</td><td style = \"text-align: left;\">19</td><td style = \"text-align: left;\">770</td><td style = \"text-align: left;\">4</td></tr><tr><td class = \"rowNumber\" style = \"font-weight: bold; text-align: right;\">4</td><td style = \"text-align: right;\">13.9423</td><td style = \"text-align: right;\">2.63493</td><td style = \"text-align: right;\">1.0</td><td style = \"text-align: right;\">0.0</td><td style = \"text-align: right;\">0.0</td><td style = \"text-align: right;\">0.0</td><td style = \"text-align: right;\">0.0</td><td style = \"text-align: right;\">1.0</td><td style = \"text-align: right;\">0.0</td><td style = \"text-align: right;\">0.0</td><td style = \"text-align: right;\">0.0</td><td style = \"text-align: right;\">1.0</td><td style = \"text-align: right;\">25.0</td><td style = \"text-align: right;\">6.25</td><td style = \"text-align: right;\">15.625</td><td style = \"text-align: right;\">39.0625</td><td style = \"text-align: left;\">420</td><td style = \"text-align: left;\">1</td><td style = \"text-align: left;\">6990</td><td style = \"text-align: left;\">12</td></tr><tr><td class = \"rowNumber\" style = \"font-weight: bold; text-align: right;\">5</td><td style = \"text-align: right;\">28.8462</td><td style = \"text-align: right;\">3.36198</td><td style = \"text-align: right;\">1.0</td><td style = \"text-align: right;\">0.0</td><td style = \"text-align: right;\">0.0</td><td style = \"text-align: right;\">0.0</td><td style = \"text-align: right;\">1.0</td><td style = \"text-align: right;\">0.0</td><td style = \"text-align: right;\">0.0</td><td style = \"text-align: right;\">0.0</td><td style = \"text-align: right;\">0.0</td><td style = \"text-align: right;\">1.0</td><td style = \"text-align: right;\">22.0</td><td style = \"text-align: right;\">4.84</td><td style = \"text-align: right;\">10.648</td><td style = \"text-align: right;\">23.4256</td><td style = \"text-align: left;\">2015</td><td style = \"text-align: left;\">6</td><td style = \"text-align: left;\">9470</td><td style = \"text-align: left;\">22</td></tr><tr><td class = \"rowNumber\" style = \"font-weight: bold; text-align: right;\">6</td><td style = \"text-align: right;\">11.7308</td><td style = \"text-align: right;\">2.46222</td><td style = \"text-align: right;\">1.0</td><td style = \"text-align: right;\">0.0</td><td style = \"text-align: right;\">0.0</td><td style = \"text-align: right;\">0.0</td><td style = \"text-align: right;\">1.0</td><td style = \"text-align: right;\">0.0</td><td style = \"text-align: right;\">0.0</td><td style = \"text-align: right;\">0.0</td><td style = \"text-align: right;\">0.0</td><td style = \"text-align: right;\">1.0</td><td style = \"text-align: right;\">1.0</td><td style = \"text-align: right;\">0.01</td><td style = \"text-align: right;\">0.001</td><td style = \"text-align: right;\">0.0001</td><td style = \"text-align: left;\">1650</td><td style = \"text-align: left;\">5</td><td style = \"text-align: left;\">7460</td><td style = \"text-align: left;\">14</td></tr><tr><td class = \"rowNumber\" style = \"font-weight: bold; text-align: right;\">7</td><td style = \"text-align: right;\">19.2308</td><td style = \"text-align: right;\">2.95651</td><td style = \"text-align: right;\">1.0</td><td style = \"text-align: right;\">0.0</td><td style = \"text-align: right;\">1.0</td><td style = \"text-align: right;\">0.0</td><td style = \"text-align: right;\">0.0</td><td style = \"text-align: right;\">0.0</td><td style = \"text-align: right;\">0.0</td><td style = \"text-align: right;\">0.0</td><td style = \"text-align: right;\">0.0</td><td style = \"text-align: right;\">1.0</td><td style = \"text-align: right;\">42.0</td><td style = \"text-align: right;\">17.64</td><td style = \"text-align: right;\">74.088</td><td style = \"text-align: right;\">311.17</td><td style = \"text-align: left;\">5120</td><td style = \"text-align: left;\">17</td><td style = \"text-align: left;\">7280</td><td style = \"text-align: left;\">14</td></tr><tr><td class = \"rowNumber\" style = \"font-weight: bold; text-align: right;\">8</td><td style = \"text-align: right;\">19.2308</td><td style = \"text-align: right;\">2.95651</td><td style = \"text-align: right;\">0.0</td><td style = \"text-align: right;\">0.0</td><td style = \"text-align: right;\">1.0</td><td style = \"text-align: right;\">0.0</td><td style = \"text-align: right;\">0.0</td><td style = \"text-align: right;\">0.0</td><td style = \"text-align: right;\">0.0</td><td style = \"text-align: right;\">0.0</td><td style = \"text-align: right;\">0.0</td><td style = \"text-align: right;\">1.0</td><td style = \"text-align: right;\">37.0</td><td style = \"text-align: right;\">13.69</td><td style = \"text-align: right;\">50.653</td><td style = \"text-align: right;\">187.416</td><td style = \"text-align: left;\">5240</td><td style = \"text-align: left;\">17</td><td style = \"text-align: left;\">5680</td><td style = \"text-align: left;\">9</td></tr><tr><td class = \"rowNumber\" style = \"font-weight: bold; text-align: right;\">9</td><td style = \"text-align: right;\">12.0</td><td style = \"text-align: right;\">2.48491</td><td style = \"text-align: right;\">1.0</td><td style = \"text-align: right;\">0.0</td><td style = \"text-align: right;\">1.0</td><td style = \"text-align: right;\">0.0</td><td style = \"text-align: right;\">0.0</td><td style = \"text-align: right;\">0.0</td><td style = \"text-align: right;\">0.0</td><td style = \"text-align: right;\">0.0</td><td style = \"text-align: right;\">0.0</td><td style = \"text-align: right;\">1.0</td><td style = \"text-align: right;\">31.0</td><td style = \"text-align: right;\">9.61</td><td style = \"text-align: right;\">29.791</td><td style = \"text-align: right;\">92.3521</td><td style = \"text-align: left;\">4040</td><td style = \"text-align: left;\">13</td><td style = \"text-align: left;\">8590</td><td style = \"text-align: left;\">19</td></tr><tr><td class = \"rowNumber\" style = \"font-weight: bold; text-align: right;\">10</td><td style = \"text-align: right;\">19.2308</td><td style = \"text-align: right;\">2.95651</td><td style = \"text-align: right;\">1.0</td><td style = \"text-align: right;\">0.0</td><td style = \"text-align: right;\">0.0</td><td style = \"text-align: right;\">0.0</td><td style = \"text-align: right;\">1.0</td><td style = \"text-align: right;\">0.0</td><td style = \"text-align: right;\">0.0</td><td style = \"text-align: right;\">0.0</td><td style = \"text-align: right;\">0.0</td><td style = \"text-align: right;\">1.0</td><td style = \"text-align: right;\">4.0</td><td style = \"text-align: right;\">0.16</td><td style = \"text-align: right;\">0.064</td><td style = \"text-align: right;\">0.0256</td><td style = \"text-align: left;\">3255</td><td style = \"text-align: left;\">10</td><td style = \"text-align: left;\">8190</td><td style = \"text-align: left;\">18</td></tr><tr><td class = \"rowNumber\" style = \"font-weight: bold; text-align: right;\">11</td><td style = \"text-align: right;\">17.3077</td><td style = \"text-align: right;\">2.85115</td><td style = \"text-align: right;\">1.0</td><td style = \"text-align: right;\">0.0</td><td style = \"text-align: right;\">1.0</td><td style = \"text-align: right;\">0.0</td><td style = \"text-align: right;\">0.0</td><td style = \"text-align: right;\">0.0</td><td style = \"text-align: right;\">0.0</td><td style = \"text-align: right;\">0.0</td><td style = \"text-align: right;\">0.0</td><td style = \"text-align: right;\">1.0</td><td style = \"text-align: right;\">7.0</td><td style = \"text-align: right;\">0.49</td><td style = \"text-align: right;\">0.343</td><td style = \"text-align: right;\">0.2401</td><td style = \"text-align: left;\">4020</td><td style = \"text-align: left;\">13</td><td style = \"text-align: left;\">8270</td><td style = \"text-align: left;\">18</td></tr><tr><td class = \"rowNumber\" style = \"font-weight: bold; text-align: right;\">12</td><td style = \"text-align: right;\">12.0192</td><td style = \"text-align: right;\">2.48651</td><td style = \"text-align: right;\">0.0</td><td style = \"text-align: right;\">0.0</td><td style = \"text-align: right;\">1.0</td><td style = \"text-align: right;\">0.0</td><td style = \"text-align: right;\">0.0</td><td style = \"text-align: right;\">0.0</td><td style = \"text-align: right;\">0.0</td><td style = \"text-align: right;\">0.0</td><td style = \"text-align: right;\">0.0</td><td style = \"text-align: right;\">1.0</td><td style = \"text-align: right;\">30.0</td><td style = \"text-align: right;\">9.0</td><td style = \"text-align: right;\">27.0</td><td style = \"text-align: right;\">81.0</td><td style = \"text-align: left;\">4220</td><td style = \"text-align: left;\">14</td><td style = \"text-align: left;\">8270</td><td style = \"text-align: left;\">18</td></tr><tr><td class = \"rowNumber\" style = \"font-weight: bold; text-align: right;\">13</td><td style = \"text-align: right;\">12.0192</td><td style = \"text-align: right;\">2.48651</td><td style = \"text-align: right;\">1.0</td><td style = \"text-align: right;\">0.0</td><td style = \"text-align: right;\">0.0</td><td style = \"text-align: right;\">1.0</td><td style = \"text-align: right;\">0.0</td><td style = \"text-align: right;\">0.0</td><td style = \"text-align: right;\">0.0</td><td style = \"text-align: right;\">0.0</td><td style = \"text-align: right;\">0.0</td><td style = \"text-align: right;\">1.0</td><td style = \"text-align: right;\">5.5</td><td style = \"text-align: right;\">0.3025</td><td style = \"text-align: right;\">0.166375</td><td style = \"text-align: right;\">0.0915062</td><td style = \"text-align: left;\">3600</td><td style = \"text-align: left;\">11</td><td style = \"text-align: left;\">8270</td><td style = \"text-align: left;\">18</td></tr><tr><td style = \"text-align: right;\">&vellip;</td><td style = \"text-align: right;\">&vellip;</td><td style = \"text-align: right;\">&vellip;</td><td style = \"text-align: right;\">&vellip;</td><td style = \"text-align: right;\">&vellip;</td><td style = \"text-align: right;\">&vellip;</td><td style = \"text-align: right;\">&vellip;</td><td style = \"text-align: right;\">&vellip;</td><td style = \"text-align: right;\">&vellip;</td><td style = \"text-align: right;\">&vellip;</td><td style = \"text-align: right;\">&vellip;</td><td style = \"text-align: right;\">&vellip;</td><td style = \"text-align: right;\">&vellip;</td><td style = \"text-align: right;\">&vellip;</td><td style = \"text-align: right;\">&vellip;</td><td style = \"text-align: right;\">&vellip;</td><td style = \"text-align: right;\">&vellip;</td><td style = \"text-align: right;\">&vellip;</td><td style = \"text-align: right;\">&vellip;</td><td style = \"text-align: right;\">&vellip;</td><td style = \"text-align: right;\">&vellip;</td></tr><tr><td class = \"rowNumber\" style = \"font-weight: bold; text-align: right;\">5139</td><td style = \"text-align: right;\">19.7115</td><td style = \"text-align: right;\">2.9812</td><td style = \"text-align: right;\">1.0</td><td style = \"text-align: right;\">0.0</td><td style = \"text-align: right;\">0.0</td><td style = \"text-align: right;\">0.0</td><td style = \"text-align: right;\">0.0</td><td style = \"text-align: right;\">1.0</td><td style = \"text-align: right;\">0.0</td><td style = \"text-align: right;\">0.0</td><td style = \"text-align: right;\">1.0</td><td style = \"text-align: right;\">0.0</td><td style = \"text-align: right;\">8.0</td><td style = \"text-align: right;\">0.64</td><td style = \"text-align: right;\">0.512</td><td style = \"text-align: right;\">0.4096</td><td style = \"text-align: left;\">2000</td><td style = \"text-align: left;\">6</td><td style = \"text-align: left;\">8090</td><td style = \"text-align: left;\">18</td></tr><tr><td class = \"rowNumber\" style = \"font-weight: bold; text-align: right;\">5140</td><td style = \"text-align: right;\">21.1538</td><td style = \"text-align: right;\">3.05182</td><td style = \"text-align: right;\">0.0</td><td style = \"text-align: right;\">0.0</td><td style = \"text-align: right;\">0.0</td><td style = \"text-align: right;\">0.0</td><td style = \"text-align: right;\">1.0</td><td style = \"text-align: right;\">0.0</td><td style = \"text-align: right;\">0.0</td><td style = \"text-align: right;\">0.0</td><td style = \"text-align: right;\">1.0</td><td style = \"text-align: right;\">0.0</td><td style = \"text-align: right;\">28.0</td><td style = \"text-align: right;\">7.84</td><td style = \"text-align: right;\">21.952</td><td style = \"text-align: right;\">61.4656</td><td style = \"text-align: left;\">40</td><td style = \"text-align: left;\">1</td><td style = \"text-align: left;\">9170</td><td style = \"text-align: left;\">21</td></tr><tr><td class = \"rowNumber\" style = \"font-weight: bold; text-align: right;\">5141</td><td style = \"text-align: right;\">45.5466</td><td style = \"text-align: right;\">3.81874</td><td style = \"text-align: right;\">1.0</td><td style = \"text-align: right;\">0.0</td><td style = \"text-align: right;\">0.0</td><td style = \"text-align: right;\">0.0</td><td style = \"text-align: right;\">1.0</td><td style = \"text-align: right;\">0.0</td><td style = \"text-align: right;\">0.0</td><td style = \"text-align: right;\">0.0</td><td style = \"text-align: right;\">1.0</td><td style = \"text-align: right;\">0.0</td><td style = \"text-align: right;\">5.0</td><td style = \"text-align: right;\">0.25</td><td style = \"text-align: right;\">0.125</td><td style = \"text-align: right;\">0.0625</td><td style = \"text-align: left;\">3255</td><td style = \"text-align: left;\">10</td><td style = \"text-align: left;\">8190</td><td style = \"text-align: left;\">18</td></tr><tr><td class = \"rowNumber\" style = \"font-weight: bold; text-align: right;\">5142</td><td style = \"text-align: right;\">22.5962</td><td style = \"text-align: right;\">3.11778</td><td style = \"text-align: right;\">0.0</td><td style = \"text-align: right;\">0.0</td><td style = \"text-align: right;\">1.0</td><td style = \"text-align: right;\">0.0</td><td style = \"text-align: right;\">0.0</td><td style = \"text-align: right;\">0.0</td><td style = \"text-align: right;\">0.0</td><td style = \"text-align: right;\">0.0</td><td style = \"text-align: right;\">1.0</td><td style = \"text-align: right;\">0.0</td><td style = \"text-align: right;\">15.0</td><td style = \"text-align: right;\">2.25</td><td style = \"text-align: right;\">3.375</td><td style = \"text-align: right;\">5.0625</td><td style = \"text-align: left;\">9620</td><td style = \"text-align: left;\">22</td><td style = \"text-align: left;\">5390</td><td style = \"text-align: left;\">9</td></tr><tr><td class = \"rowNumber\" style = \"font-weight: bold; text-align: right;\">5143</td><td style = \"text-align: right;\">16.8269</td><td style = \"text-align: right;\">2.82298</td><td style = \"text-align: right;\">0.0</td><td style = \"text-align: right;\">0.0</td><td style = \"text-align: right;\">1.0</td><td style = \"text-align: right;\">0.0</td><td style = \"text-align: right;\">0.0</td><td style = \"text-align: right;\">0.0</td><td style = \"text-align: right;\">0.0</td><td style = \"text-align: right;\">0.0</td><td style = \"text-align: right;\">1.0</td><td style = \"text-align: right;\">0.0</td><td style = \"text-align: right;\">11.0</td><td style = \"text-align: right;\">1.21</td><td style = \"text-align: right;\">1.331</td><td style = \"text-align: right;\">1.4641</td><td style = \"text-align: left;\">7150</td><td style = \"text-align: left;\">20</td><td style = \"text-align: left;\">8770</td><td style = \"text-align: left;\">21</td></tr><tr><td class = \"rowNumber\" style = \"font-weight: bold; text-align: right;\">5144</td><td style = \"text-align: right;\">24.0385</td><td style = \"text-align: right;\">3.17966</td><td style = \"text-align: right;\">1.0</td><td style = \"text-align: right;\">0.0</td><td style = \"text-align: right;\">0.0</td><td style = \"text-align: right;\">0.0</td><td style = \"text-align: right;\">1.0</td><td style = \"text-align: right;\">0.0</td><td style = \"text-align: right;\">0.0</td><td style = \"text-align: right;\">0.0</td><td style = \"text-align: right;\">1.0</td><td style = \"text-align: right;\">0.0</td><td style = \"text-align: right;\">17.0</td><td style = \"text-align: right;\">2.89</td><td style = \"text-align: right;\">4.913</td><td style = \"text-align: right;\">8.3521</td><td style = \"text-align: left;\">2550</td><td style = \"text-align: left;\">8</td><td style = \"text-align: left;\">9480</td><td style = \"text-align: left;\">22</td></tr><tr><td class = \"rowNumber\" style = \"font-weight: bold; text-align: right;\">5145</td><td style = \"text-align: right;\">13.8462</td><td style = \"text-align: right;\">2.62801</td><td style = \"text-align: right;\">0.0</td><td style = \"text-align: right;\">0.0</td><td style = \"text-align: right;\">0.0</td><td style = \"text-align: right;\">0.0</td><td style = \"text-align: right;\">1.0</td><td style = \"text-align: right;\">0.0</td><td style = \"text-align: right;\">0.0</td><td style = \"text-align: right;\">0.0</td><td style = \"text-align: right;\">1.0</td><td style = \"text-align: right;\">0.0</td><td style = \"text-align: right;\">10.0</td><td style = \"text-align: right;\">1.0</td><td style = \"text-align: right;\">1.0</td><td style = \"text-align: right;\">1.0</td><td style = \"text-align: left;\">800</td><td style = \"text-align: left;\">2</td><td style = \"text-align: left;\">770</td><td style = \"text-align: left;\">4</td></tr><tr><td class = \"rowNumber\" style = \"font-weight: bold; text-align: right;\">5146</td><td style = \"text-align: right;\">14.7692</td><td style = \"text-align: right;\">2.69255</td><td style = \"text-align: right;\">0.0</td><td style = \"text-align: right;\">0.0</td><td style = \"text-align: right;\">0.0</td><td style = \"text-align: right;\">0.0</td><td style = \"text-align: right;\">1.0</td><td style = \"text-align: right;\">0.0</td><td style = \"text-align: right;\">0.0</td><td style = \"text-align: right;\">0.0</td><td style = \"text-align: right;\">1.0</td><td style = \"text-align: right;\">0.0</td><td style = \"text-align: right;\">9.0</td><td style = \"text-align: right;\">0.81</td><td style = \"text-align: right;\">0.729</td><td style = \"text-align: right;\">0.6561</td><td style = \"text-align: left;\">4700</td><td style = \"text-align: left;\">16</td><td style = \"text-align: left;\">4970</td><td style = \"text-align: left;\">9</td></tr><tr><td class = \"rowNumber\" style = \"font-weight: bold; text-align: right;\">5147</td><td style = \"text-align: right;\">23.0769</td><td style = \"text-align: right;\">3.13883</td><td style = \"text-align: right;\">1.0</td><td style = \"text-align: right;\">0.0</td><td style = \"text-align: right;\">0.0</td><td style = \"text-align: right;\">1.0</td><td style = \"text-align: right;\">0.0</td><td style = \"text-align: right;\">0.0</td><td style = \"text-align: right;\">0.0</td><td style = \"text-align: right;\">0.0</td><td style = \"text-align: right;\">1.0</td><td style = \"text-align: right;\">0.0</td><td style = \"text-align: right;\">12.0</td><td style = \"text-align: right;\">1.44</td><td style = \"text-align: right;\">1.728</td><td style = \"text-align: right;\">2.0736</td><td style = \"text-align: left;\">4110</td><td style = \"text-align: left;\">13</td><td style = \"text-align: left;\">8680</td><td style = \"text-align: left;\">20</td></tr><tr><td class = \"rowNumber\" style = \"font-weight: bold; text-align: right;\">5148</td><td style = \"text-align: right;\">38.4615</td><td style = \"text-align: right;\">3.64966</td><td style = \"text-align: right;\">0.0</td><td style = \"text-align: right;\">0.0</td><td style = \"text-align: right;\">0.0</td><td style = \"text-align: right;\">0.0</td><td style = \"text-align: right;\">0.0</td><td style = \"text-align: right;\">1.0</td><td style = \"text-align: right;\">0.0</td><td style = \"text-align: right;\">0.0</td><td style = \"text-align: right;\">1.0</td><td style = \"text-align: right;\">0.0</td><td style = \"text-align: right;\">11.0</td><td style = \"text-align: right;\">1.21</td><td style = \"text-align: right;\">1.331</td><td style = \"text-align: right;\">1.4641</td><td style = \"text-align: left;\">1550</td><td style = \"text-align: left;\">4</td><td style = \"text-align: left;\">3680</td><td style = \"text-align: left;\">6</td></tr><tr><td class = \"rowNumber\" style = \"font-weight: bold; text-align: right;\">5149</td><td style = \"text-align: right;\">32.967</td><td style = \"text-align: right;\">3.49551</td><td style = \"text-align: right;\">0.0</td><td style = \"text-align: right;\">0.0</td><td style = \"text-align: right;\">1.0</td><td style = \"text-align: right;\">0.0</td><td style = \"text-align: right;\">0.0</td><td style = \"text-align: right;\">0.0</td><td style = \"text-align: right;\">0.0</td><td style = \"text-align: right;\">0.0</td><td style = \"text-align: right;\">1.0</td><td style = \"text-align: right;\">0.0</td><td style = \"text-align: right;\">10.0</td><td style = \"text-align: right;\">1.0</td><td style = \"text-align: right;\">1.0</td><td style = \"text-align: right;\">1.0</td><td style = \"text-align: left;\">2920</td><td style = \"text-align: left;\">9</td><td style = \"text-align: left;\">6570</td><td style = \"text-align: left;\">11</td></tr><tr><td class = \"rowNumber\" style = \"font-weight: bold; text-align: right;\">5150</td><td style = \"text-align: right;\">17.3077</td><td style = \"text-align: right;\">2.85115</td><td style = \"text-align: right;\">0.0</td><td style = \"text-align: right;\">0.0</td><td style = \"text-align: right;\">0.0</td><td style = \"text-align: right;\">0.0</td><td style = \"text-align: right;\">0.0</td><td style = \"text-align: right;\">1.0</td><td style = \"text-align: right;\">0.0</td><td style = \"text-align: right;\">0.0</td><td style = \"text-align: right;\">1.0</td><td style = \"text-align: right;\">0.0</td><td style = \"text-align: right;\">14.0</td><td style = \"text-align: right;\">1.96</td><td style = \"text-align: right;\">2.744</td><td style = \"text-align: right;\">3.8416</td><td style = \"text-align: left;\">1610</td><td style = \"text-align: left;\">5</td><td style = \"text-align: left;\">7460</td><td style = \"text-align: left;\">14</td></tr></tbody></table></div>"
      ],
      "text/latex": [
       "\\begin{tabular}{r|cccccccccc}\n",
       "\t& wage & lwage & sex & shs & hsg & scl & clg & ad & mw & \\\\\n",
       "\t\\hline\n",
       "\t& Float64 & Float64 & Float64 & Float64 & Float64 & Float64 & Float64 & Float64 & Float64 & \\\\\n",
       "\t\\hline\n",
       "\t1 & 9.61538 & 2.26336 & 1.0 & 0.0 & 0.0 & 0.0 & 1.0 & 0.0 & 0.0 & $\\dots$ \\\\\n",
       "\t2 & 48.0769 & 3.8728 & 0.0 & 0.0 & 0.0 & 0.0 & 1.0 & 0.0 & 0.0 & $\\dots$ \\\\\n",
       "\t3 & 11.0577 & 2.40313 & 0.0 & 0.0 & 1.0 & 0.0 & 0.0 & 0.0 & 0.0 & $\\dots$ \\\\\n",
       "\t4 & 13.9423 & 2.63493 & 1.0 & 0.0 & 0.0 & 0.0 & 0.0 & 1.0 & 0.0 & $\\dots$ \\\\\n",
       "\t5 & 28.8462 & 3.36198 & 1.0 & 0.0 & 0.0 & 0.0 & 1.0 & 0.0 & 0.0 & $\\dots$ \\\\\n",
       "\t6 & 11.7308 & 2.46222 & 1.0 & 0.0 & 0.0 & 0.0 & 1.0 & 0.0 & 0.0 & $\\dots$ \\\\\n",
       "\t7 & 19.2308 & 2.95651 & 1.0 & 0.0 & 1.0 & 0.0 & 0.0 & 0.0 & 0.0 & $\\dots$ \\\\\n",
       "\t8 & 19.2308 & 2.95651 & 0.0 & 0.0 & 1.0 & 0.0 & 0.0 & 0.0 & 0.0 & $\\dots$ \\\\\n",
       "\t9 & 12.0 & 2.48491 & 1.0 & 0.0 & 1.0 & 0.0 & 0.0 & 0.0 & 0.0 & $\\dots$ \\\\\n",
       "\t10 & 19.2308 & 2.95651 & 1.0 & 0.0 & 0.0 & 0.0 & 1.0 & 0.0 & 0.0 & $\\dots$ \\\\\n",
       "\t11 & 17.3077 & 2.85115 & 1.0 & 0.0 & 1.0 & 0.0 & 0.0 & 0.0 & 0.0 & $\\dots$ \\\\\n",
       "\t12 & 12.0192 & 2.48651 & 0.0 & 0.0 & 1.0 & 0.0 & 0.0 & 0.0 & 0.0 & $\\dots$ \\\\\n",
       "\t13 & 12.0192 & 2.48651 & 1.0 & 0.0 & 0.0 & 1.0 & 0.0 & 0.0 & 0.0 & $\\dots$ \\\\\n",
       "\t14 & 13.4615 & 2.59984 & 1.0 & 0.0 & 0.0 & 1.0 & 0.0 & 0.0 & 0.0 & $\\dots$ \\\\\n",
       "\t15 & 16.3462 & 2.79399 & 1.0 & 0.0 & 0.0 & 0.0 & 1.0 & 0.0 & 0.0 & $\\dots$ \\\\\n",
       "\t16 & 27.8846 & 3.32808 & 0.0 & 0.0 & 1.0 & 0.0 & 0.0 & 0.0 & 0.0 & $\\dots$ \\\\\n",
       "\t17 & 21.6 & 3.07269 & 0.0 & 0.0 & 1.0 & 0.0 & 0.0 & 0.0 & 0.0 & $\\dots$ \\\\\n",
       "\t18 & 8.65385 & 2.158 & 0.0 & 0.0 & 0.0 & 1.0 & 0.0 & 0.0 & 0.0 & $\\dots$ \\\\\n",
       "\t19 & 19.2308 & 2.95651 & 0.0 & 0.0 & 1.0 & 0.0 & 0.0 & 0.0 & 0.0 & $\\dots$ \\\\\n",
       "\t20 & 13.1868 & 2.57922 & 0.0 & 0.0 & 1.0 & 0.0 & 0.0 & 0.0 & 0.0 & $\\dots$ \\\\\n",
       "\t21 & 10.6838 & 2.36872 & 1.0 & 0.0 & 0.0 & 1.0 & 0.0 & 0.0 & 0.0 & $\\dots$ \\\\\n",
       "\t22 & 11.5385 & 2.44569 & 1.0 & 0.0 & 0.0 & 1.0 & 0.0 & 0.0 & 0.0 & $\\dots$ \\\\\n",
       "\t23 & 17.7885 & 2.87855 & 1.0 & 0.0 & 0.0 & 0.0 & 0.0 & 1.0 & 0.0 & $\\dots$ \\\\\n",
       "\t24 & 19.2308 & 2.95651 & 0.0 & 0.0 & 0.0 & 0.0 & 1.0 & 0.0 & 0.0 & $\\dots$ \\\\\n",
       "\t$\\dots$ & $\\dots$ & $\\dots$ & $\\dots$ & $\\dots$ & $\\dots$ & $\\dots$ & $\\dots$ & $\\dots$ & $\\dots$ &  \\\\\n",
       "\\end{tabular}\n"
      ],
      "text/plain": [
       "\u001b[1m5150×20 DataFrame\u001b[0m\n",
       "\u001b[1m  Row \u001b[0m│\u001b[1m wage     \u001b[0m\u001b[1m lwage   \u001b[0m\u001b[1m sex     \u001b[0m\u001b[1m shs     \u001b[0m\u001b[1m hsg     \u001b[0m\u001b[1m scl     \u001b[0m\u001b[1m clg     \u001b[0m\u001b[1m ad    \u001b[0m ⋯\n",
       "      │\u001b[90m Float64  \u001b[0m\u001b[90m Float64 \u001b[0m\u001b[90m Float64 \u001b[0m\u001b[90m Float64 \u001b[0m\u001b[90m Float64 \u001b[0m\u001b[90m Float64 \u001b[0m\u001b[90m Float64 \u001b[0m\u001b[90m Float6\u001b[0m ⋯\n",
       "──────┼─────────────────────────────────────────────────────────────────────────\n",
       "    1 │  9.61538  2.26336      1.0      0.0      0.0      0.0      1.0      0. ⋯\n",
       "    2 │ 48.0769   3.8728       0.0      0.0      0.0      0.0      1.0      0.\n",
       "    3 │ 11.0577   2.40313      0.0      0.0      1.0      0.0      0.0      0.\n",
       "    4 │ 13.9423   2.63493      1.0      0.0      0.0      0.0      0.0      1.\n",
       "    5 │ 28.8462   3.36198      1.0      0.0      0.0      0.0      1.0      0. ⋯\n",
       "    6 │ 11.7308   2.46222      1.0      0.0      0.0      0.0      1.0      0.\n",
       "    7 │ 19.2308   2.95651      1.0      0.0      1.0      0.0      0.0      0.\n",
       "    8 │ 19.2308   2.95651      0.0      0.0      1.0      0.0      0.0      0.\n",
       "  ⋮   │    ⋮         ⋮        ⋮        ⋮        ⋮        ⋮        ⋮        ⋮   ⋱\n",
       " 5144 │ 24.0385   3.17966      1.0      0.0      0.0      0.0      1.0      0. ⋯\n",
       " 5145 │ 13.8462   2.62801      0.0      0.0      0.0      0.0      1.0      0.\n",
       " 5146 │ 14.7692   2.69255      0.0      0.0      0.0      0.0      1.0      0.\n",
       " 5147 │ 23.0769   3.13883      1.0      0.0      0.0      1.0      0.0      0.\n",
       " 5148 │ 38.4615   3.64966      0.0      0.0      0.0      0.0      0.0      1. ⋯\n",
       " 5149 │ 32.967    3.49551      0.0      0.0      1.0      0.0      0.0      0.\n",
       " 5150 │ 17.3077   2.85115      0.0      0.0      0.0      0.0      0.0      1.\n",
       "\u001b[36m                                                13 columns and 5135 rows omitted\u001b[0m"
      ]
     },
     "metadata": {},
     "output_type": "display_data"
    }
   ],
   "source": [
    "#eliminando variables que pueden causar multicolinealidad\n",
    "df = dropmissing(df, [:ad, :ne])"
   ]
  },
  {
   "cell_type": "code",
   "execution_count": 15,
   "metadata": {},
   "outputs": [
    {
     "data": {
      "text/plain": [
       "StatsModels.TableRegressionModel{LinearModel{GLM.LmResp{Vector{Float64}}, GLM.DensePredChol{Float64, LinearAlgebra.CholeskyPivoted{Float64, Matrix{Float64}, Vector{Int64}}}}, Matrix{Float64}}\n",
       "\n",
       "lwage ~ 1 + sex + shs + hsg + scl + clg + mw + so + we + occ2 + ind2\n",
       "\n",
       "Coefficients:\n",
       "───────────────────────────────────────────────────────────────────────────────\n",
       "                  Coef.  Std. Error       t  Pr(>|t|)   Lower 95%     Upper 95%\n",
       "───────────────────────────────────────────────────────────────────────────────\n",
       "(Intercept)   3.83899     0.0811716   47.29    <1e-99   3.67986     3.99812\n",
       "sex          -0.0649486   0.0152641   -4.25    <1e-04  -0.0948727  -0.0350244\n",
       "shs          -0.53551     0.0512017  -10.46    <1e-24  -0.635887   -0.435132\n",
       "hsg          -0.459379    0.0273044  -16.82    <1e-61  -0.512907   -0.40585\n",
       "scl          -0.386357    0.0255448  -15.12    <1e-49  -0.436435   -0.336278\n",
       "clg          -0.187943    0.0233293   -8.06    <1e-15  -0.233678   -0.142207\n",
       "mw           -0.0383033   0.0196333   -1.95    0.0511  -0.076793    0.000186479\n",
       "so           -0.0456363   0.0189971   -2.40    0.0163  -0.0828787  -0.00839386\n",
       "we            0.0107841   0.0204133    0.53    0.5973  -0.0292347   0.050803\n",
       "occ2: 2      -0.0892601   0.0347576   -2.57    0.0103  -0.1574     -0.0211202\n",
       "occ2: 3      -0.0344812   0.039403    -0.88    0.3816  -0.111728    0.0427656\n",
       "occ2: 4      -0.119029    0.0527394   -2.26    0.0241  -0.222421   -0.0156373\n",
       "occ2: 5      -0.211968    0.0613744   -3.45    0.0006  -0.332288   -0.0916482\n",
       "occ2: 6      -0.428372    0.0510408   -8.39    <1e-16  -0.528434   -0.32831\n",
       "occ2: 7      -0.0553695   0.057439    -0.96    0.3351  -0.167974    0.0572355\n",
       "occ2: 8      -0.398246    0.0446303   -8.92    <1e-18  -0.48574    -0.310751\n",
       "occ2: 9      -0.223201    0.0468851   -4.76    <1e-05  -0.315116   -0.131286\n",
       "occ2: 10     -0.0228707   0.0402742   -0.57    0.5701  -0.101825    0.0560839\n",
       "occ2: 11     -0.471606    0.0604154   -7.81    <1e-14  -0.590046   -0.353166\n",
       "occ2: 12     -0.324911    0.0564203   -5.76    <1e-08  -0.435519   -0.214302\n",
       "occ2: 13     -0.363527    0.0462959   -7.85    <1e-14  -0.454287   -0.272767\n",
       "occ2: 14     -0.474737    0.051425    -9.23    <1e-19  -0.575552   -0.373922\n",
       "occ2: 15     -0.48914     0.0525881   -9.30    <1e-19  -0.592236   -0.386045\n",
       "occ2: 16     -0.239833    0.0329699   -7.27    <1e-12  -0.304468   -0.175198\n",
       "occ2: 17     -0.41401     0.028371   -14.59    <1e-46  -0.469629   -0.35839\n",
       "occ2: 18     -0.341085    0.199892    -1.71    0.0880  -0.73296     0.0507893\n",
       "occ2: 19     -0.257116    0.0502862   -5.11    <1e-06  -0.355698   -0.158533\n",
       "occ2: 20     -0.216685    0.0415631   -5.21    <1e-06  -0.298166   -0.135203\n",
       "occ2: 21     -0.295124    0.0387127   -7.62    <1e-13  -0.371018   -0.219231\n",
       "occ2: 22     -0.409851    0.0421398   -9.73    <1e-21  -0.492463   -0.327239\n",
       "ind2: 3      -0.106271    0.100029    -1.06    0.2881  -0.302371    0.0898293\n",
       "ind2: 4      -0.249408    0.0785477   -3.18    0.0015  -0.403395   -0.0954207\n",
       "ind2: 5      -0.256766    0.0823539   -3.12    0.0018  -0.418215   -0.0953166\n",
       "ind2: 6      -0.247846    0.0794015   -3.12    0.0018  -0.403507   -0.0921847\n",
       "ind2: 7      -0.146764    0.094689    -1.55    0.1212  -0.332395    0.0388676\n",
       "ind2: 8      -0.25145     0.0956237   -2.63    0.0086  -0.438913   -0.0639865\n",
       "ind2: 9      -0.397852    0.0778434   -5.11    <1e-06  -0.550458   -0.245246\n",
       "ind2: 10     -0.192116    0.0856574   -2.24    0.0249  -0.360041   -0.0241906\n",
       "ind2: 11     -0.157913    0.0837333   -1.89    0.0594  -0.322066    0.00623996\n",
       "ind2: 12     -0.0890622   0.0802821   -1.11    0.2673  -0.24645     0.0683251\n",
       "ind2: 13     -0.177269    0.0916255   -1.93    0.0531  -0.356894    0.00235594\n",
       "ind2: 14     -0.206892    0.0780891   -2.65    0.0081  -0.35998    -0.0538034\n",
       "ind2: 15     -0.301992    0.151377    -1.99    0.0461  -0.598757   -0.00522762\n",
       "ind2: 16     -0.335544    0.0829327   -4.05    <1e-04  -0.498128   -0.172961\n",
       "ind2: 17     -0.299561    0.0820193   -3.65    0.0003  -0.460354   -0.138768\n",
       "ind2: 18     -0.341003    0.0790272   -4.32    <1e-04  -0.495931   -0.186076\n",
       "ind2: 19     -0.380244    0.0893714   -4.25    <1e-04  -0.55545    -0.205037\n",
       "ind2: 20     -0.583293    0.0829745   -7.03    <1e-11  -0.745958   -0.420627\n",
       "ind2: 21     -0.327382    0.081588    -4.01    <1e-04  -0.487329   -0.167434\n",
       "ind2: 22     -0.106346    0.080457    -1.32    0.1863  -0.264077    0.0513838\n",
       "───────────────────────────────────────────────────────────────────────────────"
      ]
     },
     "metadata": {},
     "output_type": "display_data"
    }
   ],
   "source": [
    "basic_model = lm(@formula(lwage ~ sex+shs+hsg+scl+clg+mw+so+we+occ2+ind2), df)"
   ]
  },
  {
   "cell_type": "code",
   "execution_count": 17,
   "metadata": {},
   "outputs": [
    {
     "data": {
      "text/plain": [
       "StatsModels.TableRegressionModel{LinearModel{GLM.LmResp{Vector{Float64}}, GLM.DensePredChol{Float64, LinearAlgebra.CholeskyPivoted{Float64, Matrix{Float64}, Vector{Int64}}}}, Matrix{Float64}}\n",
       "\n",
       "lwage ~ 1 + sex + exp1 + exp2 + exp3 + exp4 + shs + hsg + scl + clg + mw + so + we + occ2 + ind2 + exp1 & shs + exp1 & hsg + exp1 & scl + exp1 & clg + exp1 & mw + exp1 & so + exp1 & we + exp1 & occ2 + exp1 & ind2 + exp2 & shs + exp2 & hsg + exp2 & scl + exp2 & clg + exp2 & mw + exp2 & so + exp2 & we + exp2 & occ2 + exp2 & ind2 + exp3 & shs + exp3 & hsg + exp3 & scl + exp3 & clg + exp3 & mw + exp3 & so + exp3 & we + exp3 & occ2 + exp3 & ind2 + exp4 & shs + exp4 & hsg + exp4 & scl + exp4 & clg + exp4 & mw + exp4 & so + exp4 & we + exp4 & occ2 + exp4 & ind2\n",
       "\n",
       "Coefficients:\n",
       "────────────────────────────────────────────────────────────────────────────────────\n",
       "                        Coef.  Std. Error      t  Pr(>|t|)    Lower 95%    Upper 95%\n",
       "────────────────────────────────────────────────────────────────────────────────────\n",
       "(Intercept)       3.86026       0.428619    9.01    <1e-18    3.01998     4.70055\n",
       "sex              -0.0695532     0.015218   -4.57    <1e-05   -0.0993874  -0.039719\n",
       "exp1             -0.0677247     0.151976   -0.45    0.6559   -0.365665    0.230215\n",
       "exp2              1.63629       1.69093     0.97    0.3332   -1.67868     4.95127\n",
       "exp3             -0.915474      0.688025   -1.33    0.1834   -2.26431     0.433363\n",
       "exp4              0.142936      0.0907569   1.57    0.1153   -0.0349885   0.32086\n",
       "shs              -0.123309      0.906832   -0.14    0.8918   -1.90111     1.65449\n",
       "hsg              -0.528902      0.197756   -2.67    0.0075   -0.916593   -0.141212\n",
       "scl              -0.292058      0.126016   -2.32    0.0205   -0.539105   -0.0450112\n",
       "clg              -0.0411641     0.0703862  -0.58    0.5587   -0.179153    0.0968245\n",
       "mw                0.110683      0.0814463   1.36    0.1742   -0.0489879   0.270355\n",
       "so                0.0224244     0.0743855   0.30    0.7631   -0.123404    0.168253\n",
       "we               -0.0215659     0.0841591  -0.26    0.7978   -0.186556    0.143424\n",
       "occ2: 2           0.16134       0.129724    1.24    0.2137   -0.0929781   0.415657\n",
       "occ2: 3           0.210151      0.168677    1.25    0.2129   -0.120532    0.540835\n",
       "occ2: 4           0.070857      0.183717    0.39    0.6997   -0.28931     0.431024\n",
       "occ2: 5          -0.396008      0.18854    -2.10    0.0357   -0.76563    -0.026385\n",
       "occ2: 6          -0.231061      0.186966   -1.24    0.2166   -0.597599    0.135476\n",
       "occ2: 7           0.314725      0.194152    1.62    0.1051   -0.0658997   0.69535\n",
       "occ2: 8          -0.187542      0.169299   -1.11    0.2680   -0.519443    0.14436\n",
       "occ2: 9          -0.339027      0.16723    -2.03    0.0427   -0.666873   -0.0111811\n",
       "occ2: 10          0.0209545     0.156498    0.13    0.8935   -0.285852    0.327761\n",
       "occ2: 11         -0.642418      0.30909    -2.08    0.0377   -1.24837    -0.036463\n",
       "occ2: 12         -0.0674774     0.252049   -0.27    0.7889   -0.561605    0.426651\n",
       "occ2: 13         -0.232978      0.231538   -1.01    0.3144   -0.686896    0.22094\n",
       "occ2: 14          0.256201      0.322673    0.79    0.4272   -0.376382    0.888784\n",
       "occ2: 15         -0.193858      0.259508   -0.75    0.4551   -0.702611    0.314894\n",
       "occ2: 16         -0.0551256     0.147066   -0.37    0.7078   -0.34344     0.233189\n",
       "occ2: 17         -0.415609      0.136114   -3.05    0.0023   -0.682454   -0.148764\n",
       "occ2: 18         -0.482217      1.04435    -0.46    0.6443   -2.52962     1.56518\n",
       "occ2: 19         -0.257941      0.332522   -0.78    0.4380   -0.909832    0.39395\n",
       "occ2: 20         -0.30102       0.234102   -1.29    0.1986   -0.759965    0.157925\n",
       "occ2: 21         -0.427181      0.220649   -1.94    0.0529   -0.859751    0.00538904\n",
       "occ2: 22         -0.869453      0.297522   -2.92    0.0035   -1.45273    -0.286176\n",
       "ind2: 3          -1.24737       0.645494   -1.93    0.0534   -2.51282     0.018092\n",
       "ind2: 4          -0.0948281     0.463602   -0.20    0.8379   -1.0037      0.81404\n",
       "ind2: 5          -0.529386      0.434599   -1.22    0.2232   -1.38139     0.322623\n",
       "ind2: 6          -0.622169      0.434723   -1.43    0.1524   -1.47442     0.230082\n",
       "ind2: 7          -0.50475       0.502477   -1.00    0.3152   -1.48983     0.48033\n",
       "ind2: 8          -0.729544      0.467401   -1.56    0.1186   -1.64586     0.186771\n",
       "ind2: 9          -0.802533      0.425246   -1.89    0.0592   -1.63621     0.0311395\n",
       "ind2: 10         -0.580584      0.480878   -1.21    0.2274   -1.52332     0.362151\n",
       "ind2: 11         -0.985235      0.448157   -2.20    0.0280   -1.86382    -0.106647\n",
       "ind2: 12         -0.737578      0.424326   -1.74    0.0822   -1.56945     0.0942913\n",
       "ind2: 13         -1.01833       0.482654   -2.11    0.0349   -1.96455    -0.0721096\n",
       "ind2: 14         -0.586017      0.415903   -1.41    0.1589   -1.40137     0.229339\n",
       "ind2: 15         -0.380136      0.590852   -0.64    0.5200   -1.53847     0.778198\n",
       "ind2: 16         -0.570391      0.438658   -1.30    0.1936   -1.43036     0.289575\n",
       "ind2: 17         -0.820184      0.425985   -1.93    0.0542   -1.6553      0.0149362\n",
       "ind2: 18         -0.76136       0.423829   -1.80    0.0725   -1.59225     0.0695337\n",
       "ind2: 19         -0.881282      0.456567   -1.93    0.0536   -1.77636     0.0137945\n",
       "ind2: 20         -0.909902      0.44842    -2.03    0.0425   -1.78901    -0.0307984\n",
       "ind2: 21         -0.758653      0.44058    -1.72    0.0851   -1.62239     0.105081\n",
       "ind2: 22         -0.404077      0.432873   -0.93    0.3506   -1.2527      0.444548\n",
       "exp1 & shs       -0.191998      0.195541   -0.98    0.3262   -0.575346    0.191349\n",
       "exp1 & hsg       -0.0173433     0.0572279  -0.30    0.7619   -0.129536    0.0948491\n",
       "exp1 & scl       -0.0664505     0.043373   -1.53    0.1256   -0.151481    0.01858\n",
       "exp1 & clg       -0.0550346     0.0310279  -1.77    0.0762   -0.115863    0.00579393\n",
       "exp1 & mw        -0.0279931     0.0296572  -0.94    0.3453   -0.0861345   0.0301484\n",
       "exp1 & so        -0.00996775    0.0266868  -0.37    0.7088   -0.0622858   0.0423503\n",
       "exp1 & we         0.00630768    0.0301417   0.21    0.8342   -0.0527835   0.0653989\n",
       "exp1 & occ2: 2   -0.0736239     0.0501108  -1.47    0.1418   -0.171863    0.0246157\n",
       "exp1 & occ2: 3   -0.0714859     0.0637688  -1.12    0.2623   -0.196501    0.0535296\n",
       "exp1 & occ2: 4   -0.0723997     0.0747715  -0.97    0.3330   -0.218985    0.0741859\n",
       "exp1 & occ2: 5    0.0946732     0.0794005   1.19    0.2332   -0.0609873   0.250334\n",
       "exp1 & occ2: 6   -0.0348928     0.0712136  -0.49    0.6242   -0.174503    0.104718\n",
       "exp1 & occ2: 7   -0.227934      0.078486   -2.90    0.0037   -0.381802   -0.074066\n",
       "exp1 & occ2: 8   -0.0727459     0.0645883  -1.13    0.2601   -0.199368    0.0538762\n",
       "exp1 & occ2: 9    0.0274143     0.0669517   0.41    0.6822   -0.103841    0.15867\n",
       "exp1 & occ2: 10   0.00756285    0.0581715   0.13    0.8966   -0.106479    0.121605\n",
       "exp1 & occ2: 11   0.101422      0.100509    1.01    0.3130   -0.0956214   0.298466\n",
       "exp1 & occ2: 12  -0.0862744     0.0874768  -0.99    0.3241   -0.257768    0.0852193\n",
       "exp1 & occ2: 13   0.00671485    0.0761825   0.09    0.9298   -0.142637    0.156067\n",
       "exp1 & occ2: 14  -0.136915      0.0974458  -1.41    0.1601   -0.327953    0.0541221\n",
       "exp1 & occ2: 15  -0.0400425     0.0898931  -0.45    0.6560   -0.216273    0.136188\n",
       "exp1 & occ2: 16  -0.0539314     0.0520926  -1.04    0.3006   -0.156056    0.0481934\n",
       "exp1 & occ2: 17   0.0147277     0.0467903   0.31    0.7530   -0.0770023   0.106458\n",
       "exp1 & occ2: 18   0.10741       0.471844    0.23    0.8199   -0.817616    1.03244\n",
       "exp1 & occ2: 19   0.0047165     0.106074    0.04    0.9645   -0.203237    0.21267\n",
       "exp1 & occ2: 20   0.0243156     0.0743274   0.33    0.7436   -0.121399    0.170031\n",
       "exp1 & occ2: 21   0.0791776     0.0696947   1.14    0.2560   -0.0574551   0.21581\n",
       "exp1 & occ2: 22   0.109325      0.0880828   1.24    0.2146   -0.063357    0.282006\n",
       "exp1 & ind2: 3    0.475889      0.222748    2.14    0.0327    0.0392024   0.912576\n",
       "exp1 & ind2: 4    0.0147304     0.15711     0.09    0.9253   -0.293276    0.322737\n",
       "exp1 & ind2: 5    0.125699      0.153163    0.82    0.4119   -0.174569    0.425966\n",
       "exp1 & ind2: 6    0.154027      0.152429    1.01    0.3123   -0.144801    0.452856\n",
       "exp1 & ind2: 7    0.102925      0.178694    0.58    0.5647   -0.247396    0.453245\n",
       "exp1 & ind2: 8    0.235767      0.16892     1.40    0.1629   -0.0953924   0.566926\n",
       "exp1 & ind2: 9    0.135908      0.148949    0.91    0.3616   -0.156098    0.427914\n",
       "exp1 & ind2: 10   0.151258      0.164434    0.92    0.3577   -0.171107    0.473622\n",
       "exp1 & ind2: 11   0.317489      0.159002    2.00    0.0459    0.0057729   0.629204\n",
       "exp1 & ind2: 12   0.259109      0.151059    1.72    0.0864   -0.0370341   0.555252\n",
       "exp1 & ind2: 13   0.339609      0.166924    2.03    0.0420    0.0123634   0.666855\n",
       "exp1 & ind2: 14   0.144141      0.147799    0.98    0.3295   -0.145612    0.433894\n",
       "exp1 & ind2: 15  -0.0568181     0.234985   -0.24    0.8089   -0.517494    0.403858\n",
       "exp1 & ind2: 16   0.0847295     0.155043    0.55    0.5848   -0.219223    0.388682\n",
       "exp1 & ind2: 17   0.172887      0.151328    1.14    0.2533   -0.123784    0.469557\n",
       "exp1 & ind2: 18   0.15654       0.149417    1.05    0.2948   -0.136385    0.449464\n",
       "exp1 & ind2: 19   0.15161       0.162085    0.94    0.3496   -0.166149    0.46937\n",
       "exp1 & ind2: 20   0.132663      0.156688    0.85    0.3972   -0.174516    0.439842\n",
       "exp1 & ind2: 21   0.21909       0.155505    1.41    0.1589   -0.0857694   0.52395\n",
       "exp1 & ind2: 22   0.114581      0.152343    0.75    0.4520   -0.184079    0.413241\n",
       "exp2 & shs        1.90051       1.45025     1.31    0.1901   -0.94263     4.74364\n",
       "exp2 & hsg        0.117164      0.550973    0.21    0.8316   -0.962989    1.19732\n",
       "exp2 & scl        0.621792      0.462999    1.34    0.1793   -0.285892    1.52948\n",
       "exp2 & clg        0.409675      0.380217    1.08    0.2813   -0.335721    1.15507\n",
       "exp2 & mw         0.200561      0.317291    0.63    0.5273   -0.421472    0.822594\n",
       "exp2 & so         0.0544354     0.281566    0.19    0.8467   -0.49756     0.606431\n",
       "exp2 & we         0.00127174    0.320787    0.00    0.9968   -0.627615    0.630159\n",
       "exp2 & occ2: 2    0.663217      0.552322    1.20    0.2299   -0.419581    1.74602\n",
       "exp2 & occ2: 3    0.641546      0.710278    0.90    0.3664   -0.750918    2.03401\n",
       "exp2 & occ2: 4    0.974842      0.865535    1.13    0.2601   -0.721994    2.67168\n",
       "exp2 & occ2: 5   -0.977882      0.973799   -1.00    0.3153   -2.88696     0.9312\n",
       "exp2 & occ2: 6    0.105086      0.800227    0.13    0.8955   -1.46372     1.67389\n",
       "exp2 & occ2: 7    3.14071       0.938942    3.34    0.0008    1.29996     4.98146\n",
       "exp2 & occ2: 8    0.671088      0.719208    0.93    0.3508   -0.738881    2.08106\n",
       "exp2 & occ2: 9    0.0231977     0.762914    0.03    0.9757   -1.47246     1.51885\n",
       "exp2 & occ2: 10  -0.269229      0.640527   -0.42    0.6743   -1.52495     0.986491\n",
       "exp2 & occ2: 11  -1.08165       1.00576    -1.08    0.2822   -3.05339     0.890081\n",
       "exp2 & occ2: 12   0.832374      0.934125    0.89    0.3729   -0.998929    2.66368\n",
       "exp2 & occ2: 13  -0.220981      0.772846   -0.29    0.7749   -1.73611     1.29414\n",
       "exp2 & occ2: 14   0.751116      0.927255    0.81    0.4180   -1.06672     2.56895\n",
       "exp2 & occ2: 15  -0.0326858     0.940912   -0.03    0.9723   -1.87729     1.81192\n",
       "exp2 & occ2: 16   0.363581      0.550955    0.66    0.5093   -0.716537    1.4437\n",
       "exp2 & occ2: 17  -0.265929      0.486113   -0.55    0.5844   -1.21893     0.687071\n",
       "exp2 & occ2: 18  -2.56088       5.17009    -0.50    0.6204  -12.6966      7.57482\n",
       "exp2 & occ2: 19  -0.129176      1.06169    -0.12    0.9032   -2.21056     1.95221\n",
       "exp2 & occ2: 20  -0.33233       0.722907   -0.46    0.6457   -1.74955     1.08489\n",
       "exp2 & occ2: 21  -0.91          0.685411   -1.33    0.1843   -2.25371     0.433714\n",
       "exp2 & occ2: 22  -0.855054      0.827941   -1.03    0.3018   -2.47819     0.768082\n",
       "exp2 & ind2: 3   -5.93689       2.40679    -2.47    0.0137  -10.6553     -1.2185\n",
       "exp2 & ind2: 4   -1.10534       1.7102     -0.65    0.5181   -4.4581      2.24741\n",
       "exp2 & ind2: 5   -2.01492       1.69192    -1.19    0.2337   -5.33184     1.302\n",
       "exp2 & ind2: 6   -2.22777       1.68169    -1.32    0.1853   -5.52464     1.06909\n",
       "exp2 & ind2: 7   -1.46481       2.01379    -0.73    0.4670   -5.41274     2.48312\n",
       "exp2 & ind2: 8   -2.94799       1.85954    -1.59    0.1130   -6.59353     0.697541\n",
       "exp2 & ind2: 9   -1.77962       1.64712    -1.08    0.2800   -5.00872     1.44948\n",
       "exp2 & ind2: 10  -2.19733       1.77386    -1.24    0.2155   -5.6749      1.28024\n",
       "exp2 & ind2: 11  -3.87768       1.76374    -2.20    0.0280   -7.3354     -0.419966\n",
       "exp2 & ind2: 12  -3.16904       1.68194    -1.88    0.0596   -6.46639     0.128306\n",
       "exp2 & ind2: 13  -3.9652        1.81307    -2.19    0.0288   -7.51963    -0.410767\n",
       "exp2 & ind2: 14  -2.07833       1.64904    -1.26    0.2076   -5.31118     1.15452\n",
       "exp2 & ind2: 15   0.191169      2.60754     0.07    0.9416   -4.92078     5.30311\n",
       "exp2 & ind2: 16  -1.32659       1.71856    -0.77    0.4402   -4.69574     2.04257\n",
       "exp2 & ind2: 17  -2.20029       1.68372    -1.31    0.1913   -5.50113     1.10055\n",
       "exp2 & ind2: 18  -2.20062       1.65666    -1.33    0.1841   -5.44842     1.04718\n",
       "exp2 & ind2: 19  -1.93085       1.78767    -1.08    0.2802   -5.43548     1.57377\n",
       "exp2 & ind2: 20  -1.94673       1.7244     -1.13    0.2590   -5.32732     1.43387\n",
       "exp2 & ind2: 21  -3.11274       1.72379    -1.81    0.0710   -6.49214     0.266666\n",
       "exp2 & ind2: 22  -1.85783       1.68495    -1.10    0.2703   -5.1611      1.44543\n",
       "exp3 & shs       -0.672124      0.442663   -1.52    0.1290   -1.53994     0.195693\n",
       "exp3 & hsg       -0.0179937     0.208318   -0.09    0.9312   -0.426389    0.390402\n",
       "exp3 & scl       -0.199788      0.185519   -1.08    0.2816   -0.563488    0.163912\n",
       "exp3 & clg       -0.102523      0.164365   -0.62    0.5328   -0.424752    0.219706\n",
       "exp3 & mw        -0.0625771     0.124129   -0.50    0.6142   -0.305926    0.180772\n",
       "exp3 & so        -0.0115842     0.108422   -0.11    0.9149   -0.224139    0.200971\n",
       "exp3 & we        -0.0124875     0.125138   -0.10    0.9205   -0.257813    0.232838\n",
       "exp3 & occ2: 2   -0.20394       0.221139   -0.92    0.3565   -0.637471    0.22959\n",
       "exp3 & occ2: 3   -0.236962      0.287037   -0.83    0.4091   -0.799683    0.325759\n",
       "exp3 & occ2: 4   -0.436696      0.352017   -1.24    0.2148   -1.12681     0.253415\n",
       "exp3 & occ2: 5    0.38853       0.411886    0.94    0.3456   -0.418951    1.19601\n",
       "exp3 & occ2: 6    0.0484737     0.329353    0.15    0.8830   -0.597205    0.694152\n",
       "exp3 & occ2: 7   -1.39493       0.405011   -3.44    0.0006   -2.18893    -0.600926\n",
       "exp3 & occ2: 8   -0.20539       0.289573   -0.71    0.4782   -0.773082    0.362302\n",
       "exp3 & occ2: 9   -0.090966      0.314335   -0.29    0.7723   -0.707203    0.525271\n",
       "exp3 & occ2: 10   0.185475      0.257556    0.72    0.4715   -0.319451    0.690401\n",
       "exp3 & occ2: 11   0.393155      0.381776    1.03    0.3032   -0.355296    1.14161\n",
       "exp3 & occ2: 12  -0.220256      0.366021   -0.60    0.5474   -0.93782     0.497308\n",
       "exp3 & occ2: 13   0.0950356     0.290437    0.33    0.7435   -0.474351    0.664422\n",
       "exp3 & occ2: 14  -0.144393      0.334162   -0.43    0.6657   -0.799501    0.510714\n",
       "exp3 & occ2: 15   0.147708      0.364519    0.41    0.6853   -0.566913    0.862328\n",
       "exp3 & occ2: 16  -0.0378548     0.215129   -0.18    0.8603   -0.459604    0.383894\n",
       "exp3 & occ2: 17   0.15105       0.187808    0.80    0.4213   -0.217138    0.519238\n",
       "exp3 & occ2: 18   1.40844       1.88525     0.75    0.4550   -2.28748     5.10437\n",
       "exp3 & occ2: 19   0.0923425     0.404231    0.23    0.8193   -0.700131    0.884816\n",
       "exp3 & occ2: 20   0.180699      0.265208    0.68    0.4957   -0.339227    0.700626\n",
       "exp3 & occ2: 21   0.377908      0.255303    1.48    0.1389   -0.1226      0.878417\n",
       "exp3 & occ2: 22   0.285506      0.298421    0.96    0.3388   -0.299532    0.870544\n",
       "exp3 & ind2: 3    2.66658       0.98075     2.72    0.0066    0.743872    4.58929\n",
       "exp3 & ind2: 4    0.729843      0.687981    1.06    0.2888   -0.618908    2.07859\n",
       "exp3 & ind2: 5    0.994225      0.684243    1.45    0.1463   -0.347199    2.33565\n",
       "exp3 & ind2: 6    1.06414       0.680095    1.56    0.1177   -0.269148    2.39743\n",
       "exp3 & ind2: 7    0.708909      0.833796    0.85    0.3952   -0.925705    2.34352\n",
       "exp3 & ind2: 8    1.23409       0.748347    1.65    0.0992   -0.233001    2.70119\n",
       "exp3 & ind2: 9    0.828731      0.66759     1.24    0.2145   -0.480045    2.13751\n",
       "exp3 & ind2: 10   1.04482       0.706672    1.48    0.1393   -0.340577    2.43021\n",
       "exp3 & ind2: 11   1.68776       0.716215    2.36    0.0185    0.283655    3.09186\n",
       "exp3 & ind2: 12   1.37345       0.683557    2.01    0.0446    0.0333676   2.71352\n",
       "exp3 & ind2: 13   1.63767       0.72593     2.26    0.0241    0.214519    3.06082\n",
       "exp3 & ind2: 14   1.01629       0.671452    1.51    0.1302   -0.300056    2.33264\n",
       "exp3 & ind2: 15   0.187948      1.02997     0.18    0.8552   -1.83125     2.20715\n",
       "exp3 & ind2: 16   0.688968      0.696803    0.99    0.3228   -0.677078    2.05501\n",
       "exp3 & ind2: 17   1.00855       0.683699    1.48    0.1402   -0.331803    2.34891\n",
       "exp3 & ind2: 18   1.06056       0.672523    1.58    0.1149   -0.257887    2.37901\n",
       "exp3 & ind2: 19   0.895987      0.72256     1.24    0.2150   -0.520555    2.31253\n",
       "exp3 & ind2: 20   0.976894      0.695582    1.40    0.1603   -0.386758    2.34055\n",
       "exp3 & ind2: 21   1.44152       0.699648    2.06    0.0394    0.069898    2.81314\n",
       "exp3 & ind2: 22   0.968788      0.68285     1.42    0.1560   -0.369903    2.30748\n",
       "exp4 & shs        0.0777418     0.0475427   1.64    0.1021   -0.0154632   0.170947\n",
       "exp4 & hsg        0.000491255   0.0265964   0.02    0.9853   -0.0516497   0.0526322\n",
       "exp4 & scl        0.021076      0.0245289   0.86    0.3903   -0.0270117   0.0691637\n",
       "exp4 & clg        0.00786949    0.0227528   0.35    0.7295   -0.0367363   0.0524753\n",
       "exp4 & mw         0.00624394    0.0158699   0.39    0.6940   -0.0248681   0.037356\n",
       "exp4 & so         0.000314457   0.0136275   0.02    0.9816   -0.0264016   0.0270305\n",
       "exp4 & we         0.00176845    0.0159602   0.11    0.9118   -0.0295206   0.0330575\n",
       "exp4 & occ2: 2    0.0176389     0.0289257   0.61    0.5420   -0.0390683   0.0743462\n",
       "exp4 & occ2: 3    0.0303057     0.0376552   0.80    0.4210   -0.0435153   0.104127\n",
       "exp4 & occ2: 4    0.0584146     0.0457704   1.28    0.2019   -0.0313159   0.148145\n",
       "exp4 & occ2: 5   -0.0515181     0.0549489  -0.94    0.3485   -0.159243    0.0562063\n",
       "exp4 & occ2: 6   -0.0170182     0.0440847  -0.39    0.6995   -0.103444    0.0694076\n",
       "exp4 & occ2: 7    0.190535      0.0558757   3.41    0.0007    0.0809939   0.300077\n",
       "exp4 & occ2: 8    0.0196522     0.0379084   0.52    0.6042   -0.0546653   0.0939697\n",
       "exp4 & occ2: 9    0.0190014     0.0421099   0.45    0.6518   -0.0635528   0.101556\n",
       "exp4 & occ2: 10  -0.0333347     0.0338825  -0.98    0.3252   -0.0997595   0.0330901\n",
       "exp4 & occ2: 11  -0.0465914     0.0479018  -0.97    0.3308   -0.1405      0.0473175\n",
       "exp4 & occ2: 12   0.0110212     0.0470536   0.23    0.8148   -0.0812249   0.103267\n",
       "exp4 & occ2: 13  -0.0136895     0.0358988  -0.38    0.7030   -0.0840673   0.0566883\n",
       "exp4 & occ2: 14   0.00555824    0.0400331   0.14    0.8896   -0.0729245   0.084041\n",
       "exp4 & occ2: 15  -0.0327444     0.0462379  -0.71    0.4789   -0.123391    0.0579026\n",
       "exp4 & occ2: 16  -0.00897062    0.0275729  -0.33    0.7449   -0.0630259   0.0450847\n",
       "exp4 & occ2: 17  -0.0256735     0.0239306  -1.07    0.2834   -0.0725881   0.0212412\n",
       "exp4 & occ2: 18  -0.212137      0.2204     -0.96    0.3358   -0.64422     0.219946\n",
       "exp4 & occ2: 19  -0.0169398     0.0513428  -0.33    0.7415   -0.117595    0.083715\n",
       "exp4 & occ2: 20  -0.0296125     0.0323353  -0.92    0.3598   -0.0930042   0.0337791\n",
       "exp4 & occ2: 21  -0.0524577     0.0317251  -1.65    0.0983   -0.114653    0.00973765\n",
       "exp4 & occ2: 22  -0.0350646     0.0360687  -0.97    0.3310   -0.105775    0.0356463\n",
       "exp4 & ind2: 3   -0.385179      0.132907   -2.90    0.0038   -0.645735   -0.124623\n",
       "exp4 & ind2: 4   -0.120948      0.089958   -1.34    0.1789   -0.297306    0.0554102\n",
       "exp4 & ind2: 5   -0.144105      0.0897994  -1.60    0.1086   -0.320152    0.0319425\n",
       "exp4 & ind2: 6   -0.152611      0.0892689  -1.71    0.0874   -0.327618    0.0223961\n",
       "exp4 & ind2: 7   -0.100199      0.11194    -0.90    0.3708   -0.319652    0.119253\n",
       "exp4 & ind2: 8   -0.160966      0.097978   -1.64    0.1005   -0.353047    0.0311143\n",
       "exp4 & ind2: 9   -0.117808      0.0877821  -1.34    0.1796   -0.2899      0.0542842\n",
       "exp4 & ind2: 10  -0.148284      0.0918416  -1.61    0.1065   -0.328335    0.0317665\n",
       "exp4 & ind2: 11  -0.232296      0.0944506  -2.46    0.0139   -0.417462   -0.0471307\n",
       "exp4 & ind2: 12  -0.187291      0.0899985  -2.08    0.0375   -0.363728   -0.0108538\n",
       "exp4 & ind2: 13  -0.215562      0.0946011  -2.28    0.0227   -0.401022   -0.0301012\n",
       "exp4 & ind2: 14  -0.148352      0.0884992  -1.68    0.0937   -0.32185     0.0251456\n",
       "exp4 & ind2: 15  -0.0532195     0.131382   -0.41    0.6854   -0.310786    0.204347\n",
       "exp4 & ind2: 16  -0.104434      0.0916252  -1.14    0.2544   -0.28406     0.0751928\n",
       "exp4 & ind2: 17  -0.142735      0.0899315  -1.59    0.1125   -0.319041    0.0335711\n",
       "exp4 & ind2: 18  -0.154625      0.0885883  -1.75    0.0810   -0.328298    0.019048\n",
       "exp4 & ind2: 19  -0.126959      0.0948784  -1.34    0.1809   -0.312963    0.059045\n",
       "exp4 & ind2: 20  -0.146855      0.0911188  -1.61    0.1071   -0.325489    0.0317784\n",
       "exp4 & ind2: 21  -0.203262      0.0920972  -2.21    0.0274   -0.383814   -0.0227102\n",
       "exp4 & ind2: 22  -0.148095      0.0897937  -1.65    0.0992   -0.324131    0.0279408\n",
       "────────────────────────────────────────────────────────────────────────────────────"
      ]
     },
     "metadata": {},
     "output_type": "display_data"
    }
   ],
   "source": [
    "flexible_model = lm(@formula(lwage ~ sex+ (exp1+exp2+exp3+exp4)*(shs+hsg+scl+clg+mw+so+we+occ2+ind2)), df)"
   ]
  },
  {
   "cell_type": "code",
   "execution_count": 20,
   "metadata": {},
   "outputs": [
    {
     "ename": "BoundsError",
     "evalue": "BoundsError: attempt to access Tuple{} at index [1]",
     "output_type": "error",
     "traceback": [
      "BoundsError: attempt to access Tuple{} at index [1]\n",
      "\n",
      "Stacktrace:\n",
      "  [1] getindex\n",
      "    @ .\\tuple.jl:31 [inlined]\n",
      "  [2] drop_term(from::InteractionTerm{Tuple{Term, Term}}, t::CategoricalTerm{DummyCoding, Matrix{Float64}, 21})\n",
      "    @ StatsModels C:\\Users\\abrah\\.julia\\packages\\StatsModels\\mPD8T\\src\\schema.jl:510\n",
      "  [3] apply_schema(t::CategoricalTerm{DummyCoding, Matrix{Float64}, 21}, schema::StatsModels.FullRank, Mod::Type, context::InteractionTerm{Tuple{Term, Term}})\n",
      "    @ StatsModels C:\\Users\\abrah\\.julia\\packages\\StatsModels\\mPD8T\\src\\schema.jl:485\n",
      "  [4] _broadcast_getindex_evalf\n",
      "    @ .\\broadcast.jl:709 [inlined]\n",
      "  [5] _broadcast_getindex\n",
      "    @ .\\broadcast.jl:682 [inlined]\n",
      "  [6] #31\n",
      "    @ .\\broadcast.jl:1118 [inlined]\n",
      "  [7] ntuple\n",
      "    @ .\\ntuple.jl:49 [inlined]\n",
      "  [8] copy\n",
      "    @ .\\broadcast.jl:1118 [inlined]\n",
      "  [9] materialize(bc::Base.Broadcast.Broadcasted{Base.Broadcast.Style{Tuple}, Nothing, typeof(apply_schema), Tuple{Tuple{CategoricalTerm{DummyCoding, Matrix{Float64}, 21}, CategoricalTerm{DummyCoding, Matrix{Float64}, 21}}, Base.RefValue{StatsModels.FullRank}, Base.RefValue{Type{LinearModel}}, Base.RefValue{InteractionTerm{Tuple{Term, Term}}}}})\n",
      "    @ Base.Broadcast .\\broadcast.jl:903\n",
      " [10] apply_schema(t::InteractionTerm{Tuple{Term, Term}}, schema::StatsModels.FullRank, Mod::Type)\n",
      "    @ StatsModels C:\\Users\\abrah\\.julia\\packages\\StatsModels\\mPD8T\\src\\schema.jl:473\n",
      " [11] _broadcast_getindex_evalf(::typeof(apply_schema), ::InteractionTerm{Tuple{Term, Term}}, ::StatsModels.FullRank, ::Type)\n",
      "    @ Base.Broadcast .\\broadcast.jl:709\n",
      " [12] _broadcast_getindex\n",
      "    @ .\\broadcast.jl:682 [inlined]\n",
      " [13] (::Base.Broadcast.var\"#31#32\"{Base.Broadcast.Broadcasted{Base.Broadcast.Style{Tuple}, Nothing, typeof(apply_schema), Tuple{Tuple{InterceptTerm{true}, Term, Term, Term, Term, Term, Term, Term, Term, Term, Term, Term, Term, Term, Term, Vararg{InteractionTerm{Tuple{Term, Term}}, 169}}, Base.RefValue{StatsModels.FullRank}, Base.RefValue{Type{LinearModel}}}}})(k::Int64)\n",
      "    @ Base.Broadcast .\\broadcast.jl:1118\n",
      " [14] macro expansion\n",
      "    @ .\\ntuple.jl:72 [inlined]\n",
      " [15] ntuple(f::Base.Broadcast.var\"#31#32\"{Base.Broadcast.Broadcasted{Base.Broadcast.Style{Tuple}, Nothing, typeof(apply_schema), Tuple{Tuple{InterceptTerm{true}, Term, Term, Term, Term, Term, Term, Term, Term, Term, Term, Term, Term, Term, Term, Vararg{InteractionTerm{Tuple{Term, Term}}, 169}}, Base.RefValue{StatsModels.FullRank}, Base.RefValue{Type{LinearModel}}}}}, ::Val{184})\n",
      "    @ Base .\\ntuple.jl:69\n",
      " [16] copy\n",
      "    @ .\\broadcast.jl:1118 [inlined]\n",
      " [17] materialize\n",
      "    @ .\\broadcast.jl:903 [inlined]\n",
      " [18] apply_schema(terms::Tuple{InterceptTerm{true}, Term, Term, Term, Term, Term, Term, Term, Term, Term, Term, Term, Term, Term, Term, Vararg{InteractionTerm{Tuple{Term, Term}}, 169}}, schema::StatsModels.FullRank, Mod::Type)\n",
      "    @ StatsModels C:\\Users\\abrah\\.julia\\packages\\StatsModels\\mPD8T\\src\\schema.jl:240\n",
      " [19] apply_schema(t::FormulaTerm{Term, Tuple{Term, Term, Term, Term, Term, Term, Term, Term, Term, Term, Term, Term, Term, Term, Vararg{InteractionTerm{Tuple{Term, Term}}, 169}}}, schema::StatsModels.Schema, Mod::Type{LinearModel})\n",
      "    @ StatsModels C:\\Users\\abrah\\.julia\\packages\\StatsModels\\mPD8T\\src\\schema.jl:427\n",
      " [20] ModelFrame(f::FormulaTerm{Term, Tuple{Term, Term, Term, Term, Term, Term, Term, Term, Term, Term, Term, Term, Term, Term, Vararg{InteractionTerm{Tuple{Term, Term}}, 169}}}, data::@NamedTuple{wage::Vector{Float64}, lwage::Vector{Float64}, sex::Vector{Float64}, shs::Vector{Float64}, hsg::Vector{Float64}, scl::Vector{Float64}, clg::Vector{Float64}, ad::Vector{Float64}, mw::Vector{Float64}, so::Vector{Float64}, we::Vector{Float64}, ne::Vector{Float64}, exp1::Vector{Float64}, exp2::Vector{Float64}, exp3::Vector{Float64}, exp4::Vector{Float64}, occ::CategoricalVector{String, UInt16, String, CategoricalValue{String, UInt16}, Union{}}, occ2::CategoricalVector{String, UInt8, String, CategoricalValue{String, UInt8}, Union{}}, ind::CategoricalVector{String, UInt8, String, CategoricalValue{String, UInt8}, Union{}}, ind2::CategoricalVector{String, UInt8, String, CategoricalValue{String, UInt8}, Union{}}}; model::Type{LinearModel}, contrasts::Dict{Symbol, Any})\n",
      "    @ StatsModels C:\\Users\\abrah\\.julia\\packages\\StatsModels\\mPD8T\\src\\modelframe.jl:84\n",
      " [21] fit(::Type{LinearModel}, f::FormulaTerm{Term, Tuple{Term, Term, Term, Term, Term, Term, Term, Term, Term, Term, Term, Term, Term, Term, Vararg{InteractionTerm{Tuple{Term, Term}}, 169}}}, data::DataFrame, args::Nothing; contrasts::Dict{Symbol, Any}, kwargs::@Kwargs{})\n",
      "    @ StatsModels C:\\Users\\abrah\\.julia\\packages\\StatsModels\\mPD8T\\src\\statsmodel.jl:85\n",
      " [22] fit\n",
      "    @ C:\\Users\\abrah\\.julia\\packages\\StatsModels\\mPD8T\\src\\statsmodel.jl:78 [inlined]\n",
      " [23] lm\n",
      "    @ C:\\Users\\abrah\\.julia\\packages\\GLM\\vM20T\\src\\lm.jl:157 [inlined]\n",
      " [24] lm(X::FormulaTerm{Term, Tuple{Term, Term, Term, Term, Term, Term, Term, Term, Term, Term, Term, Term, Term, Term, Vararg{InteractionTerm{Tuple{Term, Term}}, 169}}}, y::DataFrame)\n",
      "    @ GLM C:\\Users\\abrah\\.julia\\packages\\GLM\\vM20T\\src\\lm.jl:157\n",
      " [25] top-level scope\n",
      "    @ c:\\Users\\abrah\\OneDrive\\Documentos\\GitHub\\CausalAI-Course\\Labs\\Assignment\\Assignment_1\\jl_notebook_cell_df34fa98e69747e1a8f8a730347b8e2f_X36sZmlsZQ==.jl:1"
     ]
    }
   ],
   "source": [
    "extra_flexible_model = lm(@formula(lwage ~ sex+ (exp1+exp2+exp3+exp4+shs+hsg+scl+clg+mw+so+we+occ2+ind2)*(exp1+exp2+exp3+exp4+shs+hsg+scl+clg+mw+so+we+occ2+ind2)), df)"
   ]
  },
  {
   "cell_type": "markdown",
   "metadata": {},
   "source": [
    "## 3. Linear Regressions"
   ]
  },
  {
   "cell_type": "code",
   "execution_count": null,
   "metadata": {},
   "outputs": [],
   "source": []
  }
 ],
 "metadata": {
  "kernelspec": {
   "display_name": "Julia 1.10.5",
   "language": "julia",
   "name": "julia-1.10"
  },
  "language_info": {
   "file_extension": ".jl",
   "mimetype": "application/julia",
   "name": "julia",
   "version": "1.10.5"
  }
 },
 "nbformat": 4,
 "nbformat_minor": 2
}
