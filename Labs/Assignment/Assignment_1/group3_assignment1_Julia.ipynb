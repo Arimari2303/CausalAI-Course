{
 "cells": [
  {
   "cell_type": "markdown",
   "metadata": {},
   "source": [
    "## 0. Cargando la Data y Packages"
   ]
  },
  {
   "cell_type": "code",
   "execution_count": 14,
   "metadata": {},
   "outputs": [
    {
     "name": "stderr",
     "output_type": "stream",
     "text": [
      "\u001b[32m\u001b[1m   Resolving\u001b[22m\u001b[39m package versions...\n",
      "\u001b[32m\u001b[1m  No Changes\u001b[22m\u001b[39m to `C:\\Users\\abrah\\.julia\\environments\\v1.10\\Project.toml`\n",
      "\u001b[32m\u001b[1m  No Changes\u001b[22m\u001b[39m to `C:\\Users\\abrah\\.julia\\environments\\v1.10\\Manifest.toml`\n",
      "\u001b[32m\u001b[1m   Resolving\u001b[22m\u001b[39m package versions...\n",
      "\u001b[32m\u001b[1m   Installed\u001b[22m\u001b[39m Requires ────────── v1.3.0\n",
      "\u001b[32m\u001b[1m   Installed\u001b[22m\u001b[39m Scratch ─────────── v1.2.1\n",
      "\u001b[32m\u001b[1m   Installed\u001b[22m\u001b[39m FileIO ──────────── v1.16.3\n",
      "\u001b[32m\u001b[1m   Installed\u001b[22m\u001b[39m Mocking ─────────── v0.8.1\n",
      "\u001b[32m\u001b[1m   Installed\u001b[22m\u001b[39m TZJData ─────────── v1.2.0+2024a\n",
      "\u001b[32m\u001b[1m   Installed\u001b[22m\u001b[39m RData ───────────── v1.0.0\n",
      "\u001b[32m\u001b[1m   Installed\u001b[22m\u001b[39m TimeZones ───────── v1.18.0\n",
      "\u001b[32m\u001b[1m   Installed\u001b[22m\u001b[39m ExprTools ───────── v0.1.10\n",
      "\u001b[32m\u001b[1m   Installed\u001b[22m\u001b[39m CategoricalArrays ─ v0.10.8\n",
      "\u001b[32m\u001b[1m    Updating\u001b[22m\u001b[39m `C:\\Users\\abrah\\.julia\\environments\\v1.10\\Project.toml`\n",
      "  \u001b[90m[df47a6cb] \u001b[39m\u001b[92m+ RData v1.0.0\u001b[39m\n",
      "\u001b[32m\u001b[1m    Updating\u001b[22m\u001b[39m `C:\\Users\\abrah\\.julia\\environments\\v1.10\\Manifest.toml`\n",
      "  \u001b[90m[324d7699] \u001b[39m\u001b[92m+ CategoricalArrays v0.10.8\u001b[39m\n",
      "  \u001b[90m[e2ba6199] \u001b[39m\u001b[92m+ ExprTools v0.1.10\u001b[39m\n",
      "  \u001b[90m[5789e2e9] \u001b[39m\u001b[92m+ FileIO v1.16.3\u001b[39m\n",
      "  \u001b[90m[78c3b35d] \u001b[39m\u001b[92m+ Mocking v0.8.1\u001b[39m\n",
      "  \u001b[90m[df47a6cb] \u001b[39m\u001b[92m+ RData v1.0.0\u001b[39m\n",
      "  \u001b[90m[ae029012] \u001b[39m\u001b[92m+ Requires v1.3.0\u001b[39m\n",
      "  \u001b[90m[6c6a2e73] \u001b[39m\u001b[92m+ Scratch v1.2.1\u001b[39m\n",
      "  \u001b[90m[dc5dba14] \u001b[39m\u001b[92m+ TZJData v1.2.0+2024a\u001b[39m\n",
      "  \u001b[90m[f269a46b] \u001b[39m\u001b[92m+ TimeZones v1.18.0\u001b[39m\n",
      "\u001b[32m\u001b[1mPrecompiling\u001b[22m\u001b[39m project...\n",
      "\u001b[32m  ✓ \u001b[39m\u001b[90mScratch\u001b[39m\n",
      "\u001b[32m  ✓ \u001b[39m\u001b[90mTZJData\u001b[39m\n",
      "\u001b[32m  ✓ \u001b[39m\u001b[90mExprTools\u001b[39m\n",
      "\u001b[32m  ✓ \u001b[39m\u001b[90mRequires\u001b[39m\n",
      "\u001b[32m  ✓ \u001b[39m\u001b[90mMocking\u001b[39m\n",
      "\u001b[32m  ✓ \u001b[39m\u001b[90mCategoricalArrays\u001b[39m\n",
      "\u001b[32m  ✓ \u001b[39m\u001b[90mCategoricalArrays → CategoricalArraysSentinelArraysExt\u001b[39m\n",
      "\u001b[32m  ✓ \u001b[39m\u001b[90mFileIO\u001b[39m\n",
      "\u001b[32m  ✓ \u001b[39m\u001b[90mTimeZones\u001b[39m\n",
      "\u001b[32m  ✓ \u001b[39mRData\n",
      "  10 dependencies successfully precompiled in 13 seconds. 63 already precompiled.\n",
      "\u001b[32m\u001b[1m   Resolving\u001b[22m\u001b[39m package versions...\n",
      "\u001b[32m\u001b[1m  No Changes\u001b[22m\u001b[39m to `C:\\Users\\abrah\\.julia\\environments\\v1.10\\Project.toml`\n",
      "\u001b[32m\u001b[1m  No Changes\u001b[22m\u001b[39m to `C:\\Users\\abrah\\.julia\\environments\\v1.10\\Manifest.toml`\n",
      "\u001b[32m\u001b[1m   Resolving\u001b[22m\u001b[39m package versions...\n",
      "\u001b[32m\u001b[1m  No Changes\u001b[22m\u001b[39m to `C:\\Users\\abrah\\.julia\\environments\\v1.10\\Project.toml`\n",
      "\u001b[32m\u001b[1m  No Changes\u001b[22m\u001b[39m to `C:\\Users\\abrah\\.julia\\environments\\v1.10\\Manifest.toml`\n",
      "\u001b[32m\u001b[1m   Resolving\u001b[22m\u001b[39m package versions...\n",
      "\u001b[32m\u001b[1m  No Changes\u001b[22m\u001b[39m to `C:\\Users\\abrah\\.julia\\environments\\v1.10\\Project.toml`\n",
      "\u001b[32m\u001b[1m  No Changes\u001b[22m\u001b[39m to `C:\\Users\\abrah\\.julia\\environments\\v1.10\\Manifest.toml`\n",
      "\u001b[32m\u001b[1m   Resolving\u001b[22m\u001b[39m package versions...\n",
      "\u001b[32m\u001b[1m  No Changes\u001b[22m\u001b[39m to `C:\\Users\\abrah\\.julia\\environments\\v1.10\\Project.toml`\n",
      "\u001b[32m\u001b[1m  No Changes\u001b[22m\u001b[39m to `C:\\Users\\abrah\\.julia\\environments\\v1.10\\Manifest.toml`\n",
      "\u001b[32m\u001b[1m   Resolving\u001b[22m\u001b[39m package versions...\n",
      "\u001b[32m\u001b[1m  No Changes\u001b[22m\u001b[39m to `C:\\Users\\abrah\\.julia\\environments\\v1.10\\Project.toml`\n",
      "\u001b[32m\u001b[1m  No Changes\u001b[22m\u001b[39m to `C:\\Users\\abrah\\.julia\\environments\\v1.10\\Manifest.toml`\n",
      "\u001b[32m\u001b[1m   Resolving\u001b[22m\u001b[39m package versions...\n",
      "\u001b[32m\u001b[1m  No Changes\u001b[22m\u001b[39m to `C:\\Users\\abrah\\.julia\\environments\\v1.10\\Project.toml`\n",
      "\u001b[32m\u001b[1m  No Changes\u001b[22m\u001b[39m to `C:\\Users\\abrah\\.julia\\environments\\v1.10\\Manifest.toml`\n",
      "\u001b[32m\u001b[1m   Resolving\u001b[22m\u001b[39m package versions...\n",
      "\u001b[32m\u001b[1m    Updating\u001b[22m\u001b[39m `C:\\Users\\abrah\\.julia\\environments\\v1.10\\Project.toml`\n",
      "  \u001b[90m[324d7699] \u001b[39m\u001b[92m+ CategoricalArrays v0.10.8\u001b[39m\n",
      "\u001b[32m\u001b[1m  No Changes\u001b[22m\u001b[39m to `C:\\Users\\abrah\\.julia\\environments\\v1.10\\Manifest.toml`\n"
     ]
    }
   ],
   "source": [
    "using Pkg\n",
    "Pkg.add(\"CSV\")\n",
    "Pkg.add(\"RData\")\n",
    "Pkg.add(\"DataFrames\")\n",
    "Pkg.add(\"StatsBase\")\n",
    "Pkg.add(\"StatsModels\")\n",
    "Pkg.add(\"Statistics\")\n",
    "Pkg.add(\"GLM\")\n",
    "Pkg.add(\"LaTeXStrings\")\n",
    "Pkg.add(\"CategoricalArrays\")\n"
   ]
  },
  {
   "cell_type": "code",
   "execution_count": 21,
   "metadata": {},
   "outputs": [
    {
     "data": {
      "text/html": [
       "<div><div style = \"float: left;\"><span>5×20 DataFrame</span></div><div style = \"clear: both;\"></div></div><div class = \"data-frame\" style = \"overflow-x: scroll;\"><table class = \"data-frame\" style = \"margin-bottom: 6px;\"><thead><tr class = \"header\"><th class = \"rowNumber\" style = \"font-weight: bold; text-align: right;\">Row</th><th style = \"text-align: left;\">wage</th><th style = \"text-align: left;\">lwage</th><th style = \"text-align: left;\">sex</th><th style = \"text-align: left;\">shs</th><th style = \"text-align: left;\">hsg</th><th style = \"text-align: left;\">scl</th><th style = \"text-align: left;\">clg</th><th style = \"text-align: left;\">ad</th><th style = \"text-align: left;\">mw</th><th style = \"text-align: left;\">so</th><th style = \"text-align: left;\">we</th><th style = \"text-align: left;\">ne</th><th style = \"text-align: left;\">exp1</th><th style = \"text-align: left;\">exp2</th><th style = \"text-align: left;\">exp3</th><th style = \"text-align: left;\">exp4</th><th style = \"text-align: left;\">occ</th><th style = \"text-align: left;\">occ2</th><th style = \"text-align: left;\">ind</th><th style = \"text-align: left;\">ind2</th></tr><tr class = \"subheader headerLastRow\"><th class = \"rowNumber\" style = \"font-weight: bold; text-align: right;\"></th><th title = \"Float64\" style = \"text-align: left;\">Float64</th><th title = \"Float64\" style = \"text-align: left;\">Float64</th><th title = \"Float64\" style = \"text-align: left;\">Float64</th><th title = \"Float64\" style = \"text-align: left;\">Float64</th><th title = \"Float64\" style = \"text-align: left;\">Float64</th><th title = \"Float64\" style = \"text-align: left;\">Float64</th><th title = \"Float64\" style = \"text-align: left;\">Float64</th><th title = \"Float64\" style = \"text-align: left;\">Float64</th><th title = \"Float64\" style = \"text-align: left;\">Float64</th><th title = \"Float64\" style = \"text-align: left;\">Float64</th><th title = \"Float64\" style = \"text-align: left;\">Float64</th><th title = \"Float64\" style = \"text-align: left;\">Float64</th><th title = \"Float64\" style = \"text-align: left;\">Float64</th><th title = \"Float64\" style = \"text-align: left;\">Float64</th><th title = \"Float64\" style = \"text-align: left;\">Float64</th><th title = \"Float64\" style = \"text-align: left;\">Float64</th><th title = \"CategoricalValue{String, UInt16}\" style = \"text-align: left;\">Cat…</th><th title = \"CategoricalValue{String, UInt8}\" style = \"text-align: left;\">Cat…</th><th title = \"CategoricalValue{String, UInt8}\" style = \"text-align: left;\">Cat…</th><th title = \"CategoricalValue{String, UInt8}\" style = \"text-align: left;\">Cat…</th></tr></thead><tbody><tr><td class = \"rowNumber\" style = \"font-weight: bold; text-align: right;\">1</td><td style = \"text-align: right;\">9.61538</td><td style = \"text-align: right;\">2.26336</td><td style = \"text-align: right;\">1.0</td><td style = \"text-align: right;\">0.0</td><td style = \"text-align: right;\">0.0</td><td style = \"text-align: right;\">0.0</td><td style = \"text-align: right;\">1.0</td><td style = \"text-align: right;\">0.0</td><td style = \"text-align: right;\">0.0</td><td style = \"text-align: right;\">0.0</td><td style = \"text-align: right;\">0.0</td><td style = \"text-align: right;\">1.0</td><td style = \"text-align: right;\">7.0</td><td style = \"text-align: right;\">0.49</td><td style = \"text-align: right;\">0.343</td><td style = \"text-align: right;\">0.2401</td><td style = \"text-align: left;\">3600</td><td style = \"text-align: left;\">11</td><td style = \"text-align: left;\">8370</td><td style = \"text-align: left;\">18</td></tr><tr><td class = \"rowNumber\" style = \"font-weight: bold; text-align: right;\">2</td><td style = \"text-align: right;\">48.0769</td><td style = \"text-align: right;\">3.8728</td><td style = \"text-align: right;\">0.0</td><td style = \"text-align: right;\">0.0</td><td style = \"text-align: right;\">0.0</td><td style = \"text-align: right;\">0.0</td><td style = \"text-align: right;\">1.0</td><td style = \"text-align: right;\">0.0</td><td style = \"text-align: right;\">0.0</td><td style = \"text-align: right;\">0.0</td><td style = \"text-align: right;\">0.0</td><td style = \"text-align: right;\">1.0</td><td style = \"text-align: right;\">31.0</td><td style = \"text-align: right;\">9.61</td><td style = \"text-align: right;\">29.791</td><td style = \"text-align: right;\">92.3521</td><td style = \"text-align: left;\">3050</td><td style = \"text-align: left;\">10</td><td style = \"text-align: left;\">5070</td><td style = \"text-align: left;\">9</td></tr><tr><td class = \"rowNumber\" style = \"font-weight: bold; text-align: right;\">3</td><td style = \"text-align: right;\">11.0577</td><td style = \"text-align: right;\">2.40313</td><td style = \"text-align: right;\">0.0</td><td style = \"text-align: right;\">0.0</td><td style = \"text-align: right;\">1.0</td><td style = \"text-align: right;\">0.0</td><td style = \"text-align: right;\">0.0</td><td style = \"text-align: right;\">0.0</td><td style = \"text-align: right;\">0.0</td><td style = \"text-align: right;\">0.0</td><td style = \"text-align: right;\">0.0</td><td style = \"text-align: right;\">1.0</td><td style = \"text-align: right;\">18.0</td><td style = \"text-align: right;\">3.24</td><td style = \"text-align: right;\">5.832</td><td style = \"text-align: right;\">10.4976</td><td style = \"text-align: left;\">6260</td><td style = \"text-align: left;\">19</td><td style = \"text-align: left;\">770</td><td style = \"text-align: left;\">4</td></tr><tr><td class = \"rowNumber\" style = \"font-weight: bold; text-align: right;\">4</td><td style = \"text-align: right;\">13.9423</td><td style = \"text-align: right;\">2.63493</td><td style = \"text-align: right;\">1.0</td><td style = \"text-align: right;\">0.0</td><td style = \"text-align: right;\">0.0</td><td style = \"text-align: right;\">0.0</td><td style = \"text-align: right;\">0.0</td><td style = \"text-align: right;\">1.0</td><td style = \"text-align: right;\">0.0</td><td style = \"text-align: right;\">0.0</td><td style = \"text-align: right;\">0.0</td><td style = \"text-align: right;\">1.0</td><td style = \"text-align: right;\">25.0</td><td style = \"text-align: right;\">6.25</td><td style = \"text-align: right;\">15.625</td><td style = \"text-align: right;\">39.0625</td><td style = \"text-align: left;\">420</td><td style = \"text-align: left;\">1</td><td style = \"text-align: left;\">6990</td><td style = \"text-align: left;\">12</td></tr><tr><td class = \"rowNumber\" style = \"font-weight: bold; text-align: right;\">5</td><td style = \"text-align: right;\">28.8462</td><td style = \"text-align: right;\">3.36198</td><td style = \"text-align: right;\">1.0</td><td style = \"text-align: right;\">0.0</td><td style = \"text-align: right;\">0.0</td><td style = \"text-align: right;\">0.0</td><td style = \"text-align: right;\">1.0</td><td style = \"text-align: right;\">0.0</td><td style = \"text-align: right;\">0.0</td><td style = \"text-align: right;\">0.0</td><td style = \"text-align: right;\">0.0</td><td style = \"text-align: right;\">1.0</td><td style = \"text-align: right;\">22.0</td><td style = \"text-align: right;\">4.84</td><td style = \"text-align: right;\">10.648</td><td style = \"text-align: right;\">23.4256</td><td style = \"text-align: left;\">2015</td><td style = \"text-align: left;\">6</td><td style = \"text-align: left;\">9470</td><td style = \"text-align: left;\">22</td></tr></tbody></table></div>"
      ],
      "text/latex": [
       "\\begin{tabular}{r|cccccccccc}\n",
       "\t& wage & lwage & sex & shs & hsg & scl & clg & ad & mw & \\\\\n",
       "\t\\hline\n",
       "\t& Float64 & Float64 & Float64 & Float64 & Float64 & Float64 & Float64 & Float64 & Float64 & \\\\\n",
       "\t\\hline\n",
       "\t1 & 9.61538 & 2.26336 & 1.0 & 0.0 & 0.0 & 0.0 & 1.0 & 0.0 & 0.0 & $\\dots$ \\\\\n",
       "\t2 & 48.0769 & 3.8728 & 0.0 & 0.0 & 0.0 & 0.0 & 1.0 & 0.0 & 0.0 & $\\dots$ \\\\\n",
       "\t3 & 11.0577 & 2.40313 & 0.0 & 0.0 & 1.0 & 0.0 & 0.0 & 0.0 & 0.0 & $\\dots$ \\\\\n",
       "\t4 & 13.9423 & 2.63493 & 1.0 & 0.0 & 0.0 & 0.0 & 0.0 & 1.0 & 0.0 & $\\dots$ \\\\\n",
       "\t5 & 28.8462 & 3.36198 & 1.0 & 0.0 & 0.0 & 0.0 & 1.0 & 0.0 & 0.0 & $\\dots$ \\\\\n",
       "\\end{tabular}\n"
      ],
      "text/plain": [
       "\u001b[1m5×20 DataFrame\u001b[0m\n",
       "\u001b[1m Row \u001b[0m│\u001b[1m wage     \u001b[0m\u001b[1m lwage   \u001b[0m\u001b[1m sex     \u001b[0m\u001b[1m shs     \u001b[0m\u001b[1m hsg     \u001b[0m\u001b[1m scl     \u001b[0m\u001b[1m clg     \u001b[0m\u001b[1m ad     \u001b[0m ⋯\n",
       "     │\u001b[90m Float64  \u001b[0m\u001b[90m Float64 \u001b[0m\u001b[90m Float64 \u001b[0m\u001b[90m Float64 \u001b[0m\u001b[90m Float64 \u001b[0m\u001b[90m Float64 \u001b[0m\u001b[90m Float64 \u001b[0m\u001b[90m Float64\u001b[0m ⋯\n",
       "─────┼──────────────────────────────────────────────────────────────────────────\n",
       "   1 │  9.61538  2.26336      1.0      0.0      0.0      0.0      1.0      0.0 ⋯\n",
       "   2 │ 48.0769   3.8728       0.0      0.0      0.0      0.0      1.0      0.0\n",
       "   3 │ 11.0577   2.40313      0.0      0.0      1.0      0.0      0.0      0.0\n",
       "   4 │ 13.9423   2.63493      1.0      0.0      0.0      0.0      0.0      1.0\n",
       "   5 │ 28.8462   3.36198      1.0      0.0      0.0      0.0      1.0      0.0 ⋯\n",
       "\u001b[36m                                                              12 columns omitted\u001b[0m"
      ]
     },
     "metadata": {},
     "output_type": "display_data"
    }
   ],
   "source": [
    "using CSV\n",
    "using GLM\n",
    "using DataFrames\n",
    "using LaTeXStrings\n",
    "using StatsBase\n",
    "using Statistics,RData \n",
    "using CategoricalArrays\n",
    "\n",
    "#podemos cargar esto como csv\n",
    "df_csv = CSV.read(\"../../../data/wage2015_subsample_inference.csv\", DataFrame)\n",
    "#pero también como RData\n",
    "df_rdata = load(\"../../../data/wage2015_subsample_inference.RData\")[\"data\"]\n",
    "\n",
    "#en este caso usaremos el archivo RData sobretodo porque detecta Categoricals\n",
    "df = df_rdata\n",
    "#para ver las primeras 5 observacione\n",
    "\n",
    "first(df, 5) \n"
   ]
  },
  {
   "cell_type": "markdown",
   "metadata": {},
   "source": [
    "## 1. Data analysis"
   ]
  },
  {
   "cell_type": "markdown",
   "metadata": {},
   "source": [
    "#### 2. Are there missing values? Display the number of missings (if any) of each variable in the data set.\n"
   ]
  },
  {
   "cell_type": "markdown",
   "metadata": {},
   "source": [
    "#### 3. Report descriptive statistics of the variables (mean, standard deviation, percentiles, etc.). Interpret your results."
   ]
  },
  {
   "cell_type": "code",
   "execution_count": 23,
   "metadata": {},
   "outputs": [
    {
     "data": {
      "text/html": [
       "<div><div style = \"float: left;\"><span>20×7 DataFrame</span></div><div style = \"clear: both;\"></div></div><div class = \"data-frame\" style = \"overflow-x: scroll;\"><table class = \"data-frame\" style = \"margin-bottom: 6px;\"><thead><tr class = \"header\"><th class = \"rowNumber\" style = \"font-weight: bold; text-align: right;\">Row</th><th style = \"text-align: left;\">variable</th><th style = \"text-align: left;\">mean</th><th style = \"text-align: left;\">min</th><th style = \"text-align: left;\">median</th><th style = \"text-align: left;\">max</th><th style = \"text-align: left;\">nmissing</th><th style = \"text-align: left;\">eltype</th></tr><tr class = \"subheader headerLastRow\"><th class = \"rowNumber\" style = \"font-weight: bold; text-align: right;\"></th><th title = \"Symbol\" style = \"text-align: left;\">Symbol</th><th title = \"Union{Nothing, Float64}\" style = \"text-align: left;\">Union…</th><th title = \"Any\" style = \"text-align: left;\">Any</th><th title = \"Union{Nothing, Float64}\" style = \"text-align: left;\">Union…</th><th title = \"Any\" style = \"text-align: left;\">Any</th><th title = \"Int64\" style = \"text-align: left;\">Int64</th><th title = \"DataType\" style = \"text-align: left;\">DataType</th></tr></thead><tbody><tr><td class = \"rowNumber\" style = \"font-weight: bold; text-align: right;\">1</td><td style = \"text-align: left;\">wage</td><td style = \"text-align: left;\">23.4104</td><td style = \"text-align: left;\">3.02198</td><td style = \"text-align: left;\">19.2308</td><td style = \"text-align: left;\">528.846</td><td style = \"text-align: right;\">0</td><td style = \"text-align: left;\">Float64</td></tr><tr><td class = \"rowNumber\" style = \"font-weight: bold; text-align: right;\">2</td><td style = \"text-align: left;\">lwage</td><td style = \"text-align: left;\">2.97079</td><td style = \"text-align: left;\">1.10591</td><td style = \"text-align: left;\">2.95651</td><td style = \"text-align: left;\">6.2707</td><td style = \"text-align: right;\">0</td><td style = \"text-align: left;\">Float64</td></tr><tr><td class = \"rowNumber\" style = \"font-weight: bold; text-align: right;\">3</td><td style = \"text-align: left;\">sex</td><td style = \"text-align: left;\">0.444466</td><td style = \"text-align: left;\">0.0</td><td style = \"text-align: left;\">0.0</td><td style = \"text-align: left;\">1.0</td><td style = \"text-align: right;\">0</td><td style = \"text-align: left;\">Float64</td></tr><tr><td class = \"rowNumber\" style = \"font-weight: bold; text-align: right;\">4</td><td style = \"text-align: left;\">shs</td><td style = \"text-align: left;\">0.023301</td><td style = \"text-align: left;\">0.0</td><td style = \"text-align: left;\">0.0</td><td style = \"text-align: left;\">1.0</td><td style = \"text-align: right;\">0</td><td style = \"text-align: left;\">Float64</td></tr><tr><td class = \"rowNumber\" style = \"font-weight: bold; text-align: right;\">5</td><td style = \"text-align: left;\">hsg</td><td style = \"text-align: left;\">0.243883</td><td style = \"text-align: left;\">0.0</td><td style = \"text-align: left;\">0.0</td><td style = \"text-align: left;\">1.0</td><td style = \"text-align: right;\">0</td><td style = \"text-align: left;\">Float64</td></tr><tr><td class = \"rowNumber\" style = \"font-weight: bold; text-align: right;\">6</td><td style = \"text-align: left;\">scl</td><td style = \"text-align: left;\">0.278058</td><td style = \"text-align: left;\">0.0</td><td style = \"text-align: left;\">0.0</td><td style = \"text-align: left;\">1.0</td><td style = \"text-align: right;\">0</td><td style = \"text-align: left;\">Float64</td></tr><tr><td class = \"rowNumber\" style = \"font-weight: bold; text-align: right;\">7</td><td style = \"text-align: left;\">clg</td><td style = \"text-align: left;\">0.31767</td><td style = \"text-align: left;\">0.0</td><td style = \"text-align: left;\">0.0</td><td style = \"text-align: left;\">1.0</td><td style = \"text-align: right;\">0</td><td style = \"text-align: left;\">Float64</td></tr><tr><td class = \"rowNumber\" style = \"font-weight: bold; text-align: right;\">8</td><td style = \"text-align: left;\">ad</td><td style = \"text-align: left;\">0.137087</td><td style = \"text-align: left;\">0.0</td><td style = \"text-align: left;\">0.0</td><td style = \"text-align: left;\">1.0</td><td style = \"text-align: right;\">0</td><td style = \"text-align: left;\">Float64</td></tr><tr><td class = \"rowNumber\" style = \"font-weight: bold; text-align: right;\">9</td><td style = \"text-align: left;\">mw</td><td style = \"text-align: left;\">0.259612</td><td style = \"text-align: left;\">0.0</td><td style = \"text-align: left;\">0.0</td><td style = \"text-align: left;\">1.0</td><td style = \"text-align: right;\">0</td><td style = \"text-align: left;\">Float64</td></tr><tr><td class = \"rowNumber\" style = \"font-weight: bold; text-align: right;\">10</td><td style = \"text-align: left;\">so</td><td style = \"text-align: left;\">0.296505</td><td style = \"text-align: left;\">0.0</td><td style = \"text-align: left;\">0.0</td><td style = \"text-align: left;\">1.0</td><td style = \"text-align: right;\">0</td><td style = \"text-align: left;\">Float64</td></tr><tr><td class = \"rowNumber\" style = \"font-weight: bold; text-align: right;\">11</td><td style = \"text-align: left;\">we</td><td style = \"text-align: left;\">0.216117</td><td style = \"text-align: left;\">0.0</td><td style = \"text-align: left;\">0.0</td><td style = \"text-align: left;\">1.0</td><td style = \"text-align: right;\">0</td><td style = \"text-align: left;\">Float64</td></tr><tr><td class = \"rowNumber\" style = \"font-weight: bold; text-align: right;\">12</td><td style = \"text-align: left;\">ne</td><td style = \"text-align: left;\">0.227767</td><td style = \"text-align: left;\">0.0</td><td style = \"text-align: left;\">0.0</td><td style = \"text-align: left;\">1.0</td><td style = \"text-align: right;\">0</td><td style = \"text-align: left;\">Float64</td></tr><tr><td class = \"rowNumber\" style = \"font-weight: bold; text-align: right;\">13</td><td style = \"text-align: left;\">exp1</td><td style = \"text-align: left;\">13.7606</td><td style = \"text-align: left;\">0.0</td><td style = \"text-align: left;\">10.0</td><td style = \"text-align: left;\">47.0</td><td style = \"text-align: right;\">0</td><td style = \"text-align: left;\">Float64</td></tr><tr><td class = \"rowNumber\" style = \"font-weight: bold; text-align: right;\">14</td><td style = \"text-align: left;\">exp2</td><td style = \"text-align: left;\">3.01893</td><td style = \"text-align: left;\">0.0</td><td style = \"text-align: left;\">1.0</td><td style = \"text-align: left;\">22.09</td><td style = \"text-align: right;\">0</td><td style = \"text-align: left;\">Float64</td></tr><tr><td class = \"rowNumber\" style = \"font-weight: bold; text-align: right;\">15</td><td style = \"text-align: left;\">exp3</td><td style = \"text-align: left;\">8.23587</td><td style = \"text-align: left;\">0.0</td><td style = \"text-align: left;\">1.0</td><td style = \"text-align: left;\">103.823</td><td style = \"text-align: right;\">0</td><td style = \"text-align: left;\">Float64</td></tr><tr><td class = \"rowNumber\" style = \"font-weight: bold; text-align: right;\">16</td><td style = \"text-align: left;\">exp4</td><td style = \"text-align: left;\">25.118</td><td style = \"text-align: left;\">0.0</td><td style = \"text-align: left;\">1.0</td><td style = \"text-align: left;\">487.968</td><td style = \"text-align: right;\">0</td><td style = \"text-align: left;\">Float64</td></tr><tr><td class = \"rowNumber\" style = \"font-weight: bold; text-align: right;\">17</td><td style = \"text-align: left;\">occ</td><td style = \"font-style: italic; text-align: left;\"></td><td style = \"text-align: left;\">10</td><td style = \"font-style: italic; text-align: left;\"></td><td style = \"text-align: left;\">1e+05</td><td style = \"text-align: right;\">0</td><td style = \"text-align: left;\">CategoricalValue{String, UInt16}</td></tr><tr><td class = \"rowNumber\" style = \"font-weight: bold; text-align: right;\">18</td><td style = \"text-align: left;\">occ2</td><td style = \"font-style: italic; text-align: left;\"></td><td style = \"text-align: left;\">1</td><td style = \"font-style: italic; text-align: left;\"></td><td style = \"text-align: left;\">22</td><td style = \"text-align: right;\">0</td><td style = \"text-align: left;\">CategoricalValue{String, UInt8}</td></tr><tr><td class = \"rowNumber\" style = \"font-weight: bold; text-align: right;\">19</td><td style = \"text-align: left;\">ind</td><td style = \"font-style: italic; text-align: left;\"></td><td style = \"text-align: left;\">370</td><td style = \"font-style: italic; text-align: left;\"></td><td style = \"text-align: left;\">1e+05</td><td style = \"text-align: right;\">0</td><td style = \"text-align: left;\">CategoricalValue{String, UInt8}</td></tr><tr><td class = \"rowNumber\" style = \"font-weight: bold; text-align: right;\">20</td><td style = \"text-align: left;\">ind2</td><td style = \"font-style: italic; text-align: left;\"></td><td style = \"text-align: left;\">2</td><td style = \"font-style: italic; text-align: left;\"></td><td style = \"text-align: left;\">22</td><td style = \"text-align: right;\">0</td><td style = \"text-align: left;\">CategoricalValue{String, UInt8}</td></tr></tbody></table></div>"
      ],
      "text/latex": [
       "\\begin{tabular}{r|ccccccc}\n",
       "\t& variable & mean & min & median & max & nmissing & eltype\\\\\n",
       "\t\\hline\n",
       "\t& Symbol & Union… & Any & Union… & Any & Int64 & DataType\\\\\n",
       "\t\\hline\n",
       "\t1 & wage & 23.4104 & 3.02198 & 19.2308 & 528.846 & 0 & Float64 \\\\\n",
       "\t2 & lwage & 2.97079 & 1.10591 & 2.95651 & 6.2707 & 0 & Float64 \\\\\n",
       "\t3 & sex & 0.444466 & 0.0 & 0.0 & 1.0 & 0 & Float64 \\\\\n",
       "\t4 & shs & 0.023301 & 0.0 & 0.0 & 1.0 & 0 & Float64 \\\\\n",
       "\t5 & hsg & 0.243883 & 0.0 & 0.0 & 1.0 & 0 & Float64 \\\\\n",
       "\t6 & scl & 0.278058 & 0.0 & 0.0 & 1.0 & 0 & Float64 \\\\\n",
       "\t7 & clg & 0.31767 & 0.0 & 0.0 & 1.0 & 0 & Float64 \\\\\n",
       "\t8 & ad & 0.137087 & 0.0 & 0.0 & 1.0 & 0 & Float64 \\\\\n",
       "\t9 & mw & 0.259612 & 0.0 & 0.0 & 1.0 & 0 & Float64 \\\\\n",
       "\t10 & so & 0.296505 & 0.0 & 0.0 & 1.0 & 0 & Float64 \\\\\n",
       "\t11 & we & 0.216117 & 0.0 & 0.0 & 1.0 & 0 & Float64 \\\\\n",
       "\t12 & ne & 0.227767 & 0.0 & 0.0 & 1.0 & 0 & Float64 \\\\\n",
       "\t13 & exp1 & 13.7606 & 0.0 & 10.0 & 47.0 & 0 & Float64 \\\\\n",
       "\t14 & exp2 & 3.01893 & 0.0 & 1.0 & 22.09 & 0 & Float64 \\\\\n",
       "\t15 & exp3 & 8.23587 & 0.0 & 1.0 & 103.823 & 0 & Float64 \\\\\n",
       "\t16 & exp4 & 25.118 & 0.0 & 1.0 & 487.968 & 0 & Float64 \\\\\n",
       "\t17 & occ &  & 10 &  & 1e+05 & 0 & CategoricalValue\\{String, UInt16\\} \\\\\n",
       "\t18 & occ2 &  & 1 &  & 22 & 0 & CategoricalValue\\{String, UInt8\\} \\\\\n",
       "\t19 & ind &  & 370 &  & 1e+05 & 0 & CategoricalValue\\{String, UInt8\\} \\\\\n",
       "\t20 & ind2 &  & 2 &  & 22 & 0 & CategoricalValue\\{String, UInt8\\} \\\\\n",
       "\\end{tabular}\n"
      ],
      "text/plain": [
       "\u001b[1m20×7 DataFrame\u001b[0m\n",
       "\u001b[1m Row \u001b[0m│\u001b[1m variable \u001b[0m\u001b[1m mean     \u001b[0m\u001b[1m min     \u001b[0m\u001b[1m median  \u001b[0m\u001b[1m max     \u001b[0m\u001b[1m nmissing \u001b[0m\u001b[1m eltype        \u001b[0m ⋯\n",
       "     │\u001b[90m Symbol   \u001b[0m\u001b[90m Union…   \u001b[0m\u001b[90m Any     \u001b[0m\u001b[90m Union…  \u001b[0m\u001b[90m Any     \u001b[0m\u001b[90m Int64    \u001b[0m\u001b[90m DataType      \u001b[0m ⋯\n",
       "─────┼──────────────────────────────────────────────────────────────────────────\n",
       "   1 │ wage      23.4104   3.02198  19.2308  528.846         0  Float64        ⋯\n",
       "   2 │ lwage     2.97079   1.10591  2.95651  6.2707          0  Float64\n",
       "   3 │ sex       0.444466  0.0      0.0      1.0             0  Float64\n",
       "   4 │ shs       0.023301  0.0      0.0      1.0             0  Float64\n",
       "   5 │ hsg       0.243883  0.0      0.0      1.0             0  Float64        ⋯\n",
       "   6 │ scl       0.278058  0.0      0.0      1.0             0  Float64\n",
       "   7 │ clg       0.31767   0.0      0.0      1.0             0  Float64\n",
       "   8 │ ad        0.137087  0.0      0.0      1.0             0  Float64\n",
       "  ⋮  │    ⋮         ⋮         ⋮        ⋮        ⋮        ⋮                     ⋱\n",
       "  14 │ exp2      3.01893   0.0      1.0      22.09           0  Float64        ⋯\n",
       "  15 │ exp3      8.23587   0.0      1.0      103.823         0  Float64\n",
       "  16 │ exp4      25.118    0.0      1.0      487.968         0  Float64\n",
       "  17 │ occ      \u001b[90m          \u001b[0m 10      \u001b[90m         \u001b[0m 1e+05           0  CategoricalVal\n",
       "  18 │ occ2     \u001b[90m          \u001b[0m 1       \u001b[90m         \u001b[0m 22              0  CategoricalVal ⋯\n",
       "  19 │ ind      \u001b[90m          \u001b[0m 370     \u001b[90m         \u001b[0m 1e+05           0  CategoricalVal\n",
       "  20 │ ind2     \u001b[90m          \u001b[0m 2       \u001b[90m         \u001b[0m 22              0  CategoricalVal\n",
       "\u001b[36m                                                     1 column and 5 rows omitted\u001b[0m"
      ]
     },
     "metadata": {},
     "output_type": "display_data"
    }
   ],
   "source": [
    "# Usamos describe para obtener algunos estadísticos descriptivos y ver los missingvalues de caca variable del data set\n",
    "describe(df)"
   ]
  },
  {
   "cell_type": "code",
   "execution_count": 24,
   "metadata": {},
   "outputs": [
    {
     "name": "stdout",
     "output_type": "stream",
     "text": [
      "Q1: 13.461538461538462\n",
      "Mediana: 19.23076923076923\n",
      "Q3: 27.77777777777778\n"
     ]
    }
   ],
   "source": [
    "using Statistics\n",
    "#encontramos algunos los cuartiles de la variable wage:\n",
    "q1 = quantile(df.wage, 0.25)  \n",
    "q2 = quantile(df.wage, 0.50)  \n",
    "q3 = quantile(df.wage, 0.75)  \n",
    "\n",
    "#imprimimos los valores de cada cuartil\n",
    "println(\"Q1: $q1\")\n",
    "println(\"Mediana: $q2\")\n",
    "println(\"Q3: $q3\")\n"
   ]
  },
  {
   "cell_type": "markdown",
   "metadata": {},
   "source": [
    "### 4. How many women with a college graduate degree (clg) or above have a wage corresponding to the 25% richest of the sample? Report the dataframe corresponding to this conditions and the result"
   ]
  },
  {
   "cell_type": "code",
   "execution_count": 25,
   "metadata": {},
   "outputs": [
    {
     "data": {
      "text/html": [
       "<div><div style = \"float: left;\"><span>419×20 DataFrame</span></div><div style = \"float: right;\"><span style = \"font-style: italic;\">394 rows omitted</span></div><div style = \"clear: both;\"></div></div><div class = \"data-frame\" style = \"overflow-x: scroll;\"><table class = \"data-frame\" style = \"margin-bottom: 6px;\"><thead><tr class = \"header\"><th class = \"rowNumber\" style = \"font-weight: bold; text-align: right;\">Row</th><th style = \"text-align: left;\">wage</th><th style = \"text-align: left;\">lwage</th><th style = \"text-align: left;\">sex</th><th style = \"text-align: left;\">shs</th><th style = \"text-align: left;\">hsg</th><th style = \"text-align: left;\">scl</th><th style = \"text-align: left;\">clg</th><th style = \"text-align: left;\">ad</th><th style = \"text-align: left;\">mw</th><th style = \"text-align: left;\">so</th><th style = \"text-align: left;\">we</th><th style = \"text-align: left;\">ne</th><th style = \"text-align: left;\">exp1</th><th style = \"text-align: left;\">exp2</th><th style = \"text-align: left;\">exp3</th><th style = \"text-align: left;\">exp4</th><th style = \"text-align: left;\">occ</th><th style = \"text-align: left;\">occ2</th><th style = \"text-align: left;\">ind</th><th style = \"text-align: left;\">ind2</th></tr><tr class = \"subheader headerLastRow\"><th class = \"rowNumber\" style = \"font-weight: bold; text-align: right;\"></th><th title = \"Float64\" style = \"text-align: left;\">Float64</th><th title = \"Float64\" style = \"text-align: left;\">Float64</th><th title = \"Float64\" style = \"text-align: left;\">Float64</th><th title = \"Float64\" style = \"text-align: left;\">Float64</th><th title = \"Float64\" style = \"text-align: left;\">Float64</th><th title = \"Float64\" style = \"text-align: left;\">Float64</th><th title = \"Float64\" style = \"text-align: left;\">Float64</th><th title = \"Float64\" style = \"text-align: left;\">Float64</th><th title = \"Float64\" style = \"text-align: left;\">Float64</th><th title = \"Float64\" style = \"text-align: left;\">Float64</th><th title = \"Float64\" style = \"text-align: left;\">Float64</th><th title = \"Float64\" style = \"text-align: left;\">Float64</th><th title = \"Float64\" style = \"text-align: left;\">Float64</th><th title = \"Float64\" style = \"text-align: left;\">Float64</th><th title = \"Float64\" style = \"text-align: left;\">Float64</th><th title = \"Float64\" style = \"text-align: left;\">Float64</th><th title = \"CategoricalValue{String, UInt16}\" style = \"text-align: left;\">Cat…</th><th title = \"CategoricalValue{String, UInt8}\" style = \"text-align: left;\">Cat…</th><th title = \"CategoricalValue{String, UInt8}\" style = \"text-align: left;\">Cat…</th><th title = \"CategoricalValue{String, UInt8}\" style = \"text-align: left;\">Cat…</th></tr></thead><tbody><tr><td class = \"rowNumber\" style = \"font-weight: bold; text-align: right;\">1</td><td style = \"text-align: right;\">28.8462</td><td style = \"text-align: right;\">3.36198</td><td style = \"text-align: right;\">1.0</td><td style = \"text-align: right;\">0.0</td><td style = \"text-align: right;\">0.0</td><td style = \"text-align: right;\">0.0</td><td style = \"text-align: right;\">1.0</td><td style = \"text-align: right;\">0.0</td><td style = \"text-align: right;\">0.0</td><td style = \"text-align: right;\">0.0</td><td style = \"text-align: right;\">0.0</td><td style = \"text-align: right;\">1.0</td><td style = \"text-align: right;\">22.0</td><td style = \"text-align: right;\">4.84</td><td style = \"text-align: right;\">10.648</td><td style = \"text-align: right;\">23.4256</td><td style = \"text-align: left;\">2015</td><td style = \"text-align: left;\">6</td><td style = \"text-align: left;\">9470</td><td style = \"text-align: left;\">22</td></tr><tr><td class = \"rowNumber\" style = \"font-weight: bold; text-align: right;\">2</td><td style = \"text-align: right;\">42.3077</td><td style = \"text-align: right;\">3.74497</td><td style = \"text-align: right;\">1.0</td><td style = \"text-align: right;\">0.0</td><td style = \"text-align: right;\">0.0</td><td style = \"text-align: right;\">0.0</td><td style = \"text-align: right;\">0.0</td><td style = \"text-align: right;\">1.0</td><td style = \"text-align: right;\">0.0</td><td style = \"text-align: right;\">0.0</td><td style = \"text-align: right;\">0.0</td><td style = \"text-align: right;\">1.0</td><td style = \"text-align: right;\">0.0</td><td style = \"text-align: right;\">0.0</td><td style = \"text-align: right;\">0.0</td><td style = \"text-align: right;\">0.0</td><td style = \"text-align: left;\">4700</td><td style = \"text-align: left;\">16</td><td style = \"text-align: left;\">4795</td><td style = \"text-align: left;\">9</td></tr><tr><td class = \"rowNumber\" style = \"font-weight: bold; text-align: right;\">3</td><td style = \"text-align: right;\">41.2088</td><td style = \"text-align: right;\">3.71865</td><td style = \"text-align: right;\">1.0</td><td style = \"text-align: right;\">0.0</td><td style = \"text-align: right;\">0.0</td><td style = \"text-align: right;\">0.0</td><td style = \"text-align: right;\">1.0</td><td style = \"text-align: right;\">0.0</td><td style = \"text-align: right;\">0.0</td><td style = \"text-align: right;\">0.0</td><td style = \"text-align: right;\">0.0</td><td style = \"text-align: right;\">1.0</td><td style = \"text-align: right;\">11.0</td><td style = \"text-align: right;\">1.21</td><td style = \"text-align: right;\">1.331</td><td style = \"text-align: right;\">1.4641</td><td style = \"text-align: left;\">4700</td><td style = \"text-align: left;\">16</td><td style = \"text-align: left;\">5790</td><td style = \"text-align: left;\">9</td></tr><tr><td class = \"rowNumber\" style = \"font-weight: bold; text-align: right;\">4</td><td style = \"text-align: right;\">100.0</td><td style = \"text-align: right;\">4.60517</td><td style = \"text-align: right;\">1.0</td><td style = \"text-align: right;\">0.0</td><td style = \"text-align: right;\">0.0</td><td style = \"text-align: right;\">0.0</td><td style = \"text-align: right;\">0.0</td><td style = \"text-align: right;\">1.0</td><td style = \"text-align: right;\">0.0</td><td style = \"text-align: right;\">0.0</td><td style = \"text-align: right;\">0.0</td><td style = \"text-align: right;\">1.0</td><td style = \"text-align: right;\">27.0</td><td style = \"text-align: right;\">7.29</td><td style = \"text-align: right;\">19.683</td><td style = \"text-align: right;\">53.1441</td><td style = \"text-align: left;\">850</td><td style = \"text-align: left;\">2</td><td style = \"text-align: left;\">6970</td><td style = \"text-align: left;\">12</td></tr><tr><td class = \"rowNumber\" style = \"font-weight: bold; text-align: right;\">5</td><td style = \"text-align: right;\">33.6538</td><td style = \"text-align: right;\">3.51613</td><td style = \"text-align: right;\">1.0</td><td style = \"text-align: right;\">0.0</td><td style = \"text-align: right;\">0.0</td><td style = \"text-align: right;\">0.0</td><td style = \"text-align: right;\">1.0</td><td style = \"text-align: right;\">0.0</td><td style = \"text-align: right;\">0.0</td><td style = \"text-align: right;\">0.0</td><td style = \"text-align: right;\">0.0</td><td style = \"text-align: right;\">1.0</td><td style = \"text-align: right;\">4.0</td><td style = \"text-align: right;\">0.16</td><td style = \"text-align: right;\">0.064</td><td style = \"text-align: right;\">0.0256</td><td style = \"text-align: left;\">710</td><td style = \"text-align: left;\">2</td><td style = \"text-align: left;\">7390</td><td style = \"text-align: left;\">14</td></tr><tr><td class = \"rowNumber\" style = \"font-weight: bold; text-align: right;\">6</td><td style = \"text-align: right;\">36.0577</td><td style = \"text-align: right;\">3.58512</td><td style = \"text-align: right;\">1.0</td><td style = \"text-align: right;\">0.0</td><td style = \"text-align: right;\">0.0</td><td style = \"text-align: right;\">0.0</td><td style = \"text-align: right;\">1.0</td><td style = \"text-align: right;\">0.0</td><td style = \"text-align: right;\">0.0</td><td style = \"text-align: right;\">0.0</td><td style = \"text-align: right;\">0.0</td><td style = \"text-align: right;\">1.0</td><td style = \"text-align: right;\">23.0</td><td style = \"text-align: right;\">5.29</td><td style = \"text-align: right;\">12.167</td><td style = \"text-align: right;\">27.9841</td><td style = \"text-align: left;\">420</td><td style = \"text-align: left;\">1</td><td style = \"text-align: left;\">9170</td><td style = \"text-align: left;\">21</td></tr><tr><td class = \"rowNumber\" style = \"font-weight: bold; text-align: right;\">7</td><td style = \"text-align: right;\">31.25</td><td style = \"text-align: right;\">3.44202</td><td style = \"text-align: right;\">1.0</td><td style = \"text-align: right;\">0.0</td><td style = \"text-align: right;\">0.0</td><td style = \"text-align: right;\">0.0</td><td style = \"text-align: right;\">1.0</td><td style = \"text-align: right;\">0.0</td><td style = \"text-align: right;\">0.0</td><td style = \"text-align: right;\">0.0</td><td style = \"text-align: right;\">0.0</td><td style = \"text-align: right;\">1.0</td><td style = \"text-align: right;\">15.0</td><td style = \"text-align: right;\">2.25</td><td style = \"text-align: right;\">3.375</td><td style = \"text-align: right;\">5.0625</td><td style = \"text-align: left;\">3255</td><td style = \"text-align: left;\">10</td><td style = \"text-align: left;\">8190</td><td style = \"text-align: left;\">18</td></tr><tr><td class = \"rowNumber\" style = \"font-weight: bold; text-align: right;\">8</td><td style = \"text-align: right;\">28.8462</td><td style = \"text-align: right;\">3.36198</td><td style = \"text-align: right;\">1.0</td><td style = \"text-align: right;\">0.0</td><td style = \"text-align: right;\">0.0</td><td style = \"text-align: right;\">0.0</td><td style = \"text-align: right;\">1.0</td><td style = \"text-align: right;\">0.0</td><td style = \"text-align: right;\">0.0</td><td style = \"text-align: right;\">0.0</td><td style = \"text-align: right;\">0.0</td><td style = \"text-align: right;\">1.0</td><td style = \"text-align: right;\">9.0</td><td style = \"text-align: right;\">0.81</td><td style = \"text-align: right;\">0.729</td><td style = \"text-align: right;\">0.6561</td><td style = \"text-align: left;\">540</td><td style = \"text-align: left;\">2</td><td style = \"text-align: left;\">6990</td><td style = \"text-align: left;\">12</td></tr><tr><td class = \"rowNumber\" style = \"font-weight: bold; text-align: right;\">9</td><td style = \"text-align: right;\">48.0769</td><td style = \"text-align: right;\">3.8728</td><td style = \"text-align: right;\">1.0</td><td style = \"text-align: right;\">0.0</td><td style = \"text-align: right;\">0.0</td><td style = \"text-align: right;\">0.0</td><td style = \"text-align: right;\">1.0</td><td style = \"text-align: right;\">0.0</td><td style = \"text-align: right;\">0.0</td><td style = \"text-align: right;\">0.0</td><td style = \"text-align: right;\">0.0</td><td style = \"text-align: right;\">1.0</td><td style = \"text-align: right;\">24.0</td><td style = \"text-align: right;\">5.76</td><td style = \"text-align: right;\">13.824</td><td style = \"text-align: right;\">33.1776</td><td style = \"text-align: left;\">4850</td><td style = \"text-align: left;\">16</td><td style = \"text-align: left;\">3390</td><td style = \"text-align: left;\">6</td></tr><tr><td class = \"rowNumber\" style = \"font-weight: bold; text-align: right;\">10</td><td style = \"text-align: right;\">34.6154</td><td style = \"text-align: right;\">3.5443</td><td style = \"text-align: right;\">1.0</td><td style = \"text-align: right;\">0.0</td><td style = \"text-align: right;\">0.0</td><td style = \"text-align: right;\">0.0</td><td style = \"text-align: right;\">1.0</td><td style = \"text-align: right;\">0.0</td><td style = \"text-align: right;\">0.0</td><td style = \"text-align: right;\">0.0</td><td style = \"text-align: right;\">0.0</td><td style = \"text-align: right;\">1.0</td><td style = \"text-align: right;\">18.0</td><td style = \"text-align: right;\">3.24</td><td style = \"text-align: right;\">5.832</td><td style = \"text-align: right;\">10.4976</td><td style = \"text-align: left;\">565</td><td style = \"text-align: left;\">2</td><td style = \"text-align: left;\">6890</td><td style = \"text-align: left;\">12</td></tr><tr><td class = \"rowNumber\" style = \"font-weight: bold; text-align: right;\">11</td><td style = \"text-align: right;\">31.25</td><td style = \"text-align: right;\">3.44202</td><td style = \"text-align: right;\">1.0</td><td style = \"text-align: right;\">0.0</td><td style = \"text-align: right;\">0.0</td><td style = \"text-align: right;\">0.0</td><td style = \"text-align: right;\">0.0</td><td style = \"text-align: right;\">1.0</td><td style = \"text-align: right;\">0.0</td><td style = \"text-align: right;\">0.0</td><td style = \"text-align: right;\">0.0</td><td style = \"text-align: right;\">1.0</td><td style = \"text-align: right;\">29.0</td><td style = \"text-align: right;\">8.41</td><td style = \"text-align: right;\">24.389</td><td style = \"text-align: right;\">70.7281</td><td style = \"text-align: left;\">3230</td><td style = \"text-align: left;\">10</td><td style = \"text-align: left;\">7860</td><td style = \"text-align: left;\">17</td></tr><tr><td class = \"rowNumber\" style = \"font-weight: bold; text-align: right;\">12</td><td style = \"text-align: right;\">28.5714</td><td style = \"text-align: right;\">3.35241</td><td style = \"text-align: right;\">1.0</td><td style = \"text-align: right;\">0.0</td><td style = \"text-align: right;\">0.0</td><td style = \"text-align: right;\">0.0</td><td style = \"text-align: right;\">1.0</td><td style = \"text-align: right;\">0.0</td><td style = \"text-align: right;\">0.0</td><td style = \"text-align: right;\">0.0</td><td style = \"text-align: right;\">0.0</td><td style = \"text-align: right;\">1.0</td><td style = \"text-align: right;\">13.0</td><td style = \"text-align: right;\">1.69</td><td style = \"text-align: right;\">2.197</td><td style = \"text-align: right;\">2.8561</td><td style = \"text-align: left;\">2010</td><td style = \"text-align: left;\">6</td><td style = \"text-align: left;\">9470</td><td style = \"text-align: left;\">22</td></tr><tr><td class = \"rowNumber\" style = \"font-weight: bold; text-align: right;\">13</td><td style = \"text-align: right;\">28.5</td><td style = \"text-align: right;\">3.3499</td><td style = \"text-align: right;\">1.0</td><td style = \"text-align: right;\">0.0</td><td style = \"text-align: right;\">0.0</td><td style = \"text-align: right;\">0.0</td><td style = \"text-align: right;\">1.0</td><td style = \"text-align: right;\">0.0</td><td style = \"text-align: right;\">0.0</td><td style = \"text-align: right;\">0.0</td><td style = \"text-align: right;\">0.0</td><td style = \"text-align: right;\">1.0</td><td style = \"text-align: right;\">19.0</td><td style = \"text-align: right;\">3.61</td><td style = \"text-align: right;\">6.859</td><td style = \"text-align: right;\">13.0321</td><td style = \"text-align: left;\">3255</td><td style = \"text-align: left;\">10</td><td style = \"text-align: left;\">8190</td><td style = \"text-align: left;\">18</td></tr><tr><td style = \"text-align: right;\">&vellip;</td><td style = \"text-align: right;\">&vellip;</td><td style = \"text-align: right;\">&vellip;</td><td style = \"text-align: right;\">&vellip;</td><td style = \"text-align: right;\">&vellip;</td><td style = \"text-align: right;\">&vellip;</td><td style = \"text-align: right;\">&vellip;</td><td style = \"text-align: right;\">&vellip;</td><td style = \"text-align: right;\">&vellip;</td><td style = \"text-align: right;\">&vellip;</td><td style = \"text-align: right;\">&vellip;</td><td style = \"text-align: right;\">&vellip;</td><td style = \"text-align: right;\">&vellip;</td><td style = \"text-align: right;\">&vellip;</td><td style = \"text-align: right;\">&vellip;</td><td style = \"text-align: right;\">&vellip;</td><td style = \"text-align: right;\">&vellip;</td><td style = \"text-align: right;\">&vellip;</td><td style = \"text-align: right;\">&vellip;</td><td style = \"text-align: right;\">&vellip;</td><td style = \"text-align: right;\">&vellip;</td></tr><tr><td class = \"rowNumber\" style = \"font-weight: bold; text-align: right;\">408</td><td style = \"text-align: right;\">48.0769</td><td style = \"text-align: right;\">3.8728</td><td style = \"text-align: right;\">1.0</td><td style = \"text-align: right;\">0.0</td><td style = \"text-align: right;\">0.0</td><td style = \"text-align: right;\">0.0</td><td style = \"text-align: right;\">0.0</td><td style = \"text-align: right;\">1.0</td><td style = \"text-align: right;\">0.0</td><td style = \"text-align: right;\">0.0</td><td style = \"text-align: right;\">1.0</td><td style = \"text-align: right;\">0.0</td><td style = \"text-align: right;\">19.0</td><td style = \"text-align: right;\">3.61</td><td style = \"text-align: right;\">6.859</td><td style = \"text-align: right;\">13.0321</td><td style = \"text-align: left;\">1060</td><td style = \"text-align: left;\">3</td><td style = \"text-align: left;\">3390</td><td style = \"text-align: left;\">6</td></tr><tr><td class = \"rowNumber\" style = \"font-weight: bold; text-align: right;\">409</td><td style = \"text-align: right;\">33.6538</td><td style = \"text-align: right;\">3.51613</td><td style = \"text-align: right;\">1.0</td><td style = \"text-align: right;\">0.0</td><td style = \"text-align: right;\">0.0</td><td style = \"text-align: right;\">0.0</td><td style = \"text-align: right;\">0.0</td><td style = \"text-align: right;\">1.0</td><td style = \"text-align: right;\">0.0</td><td style = \"text-align: right;\">0.0</td><td style = \"text-align: right;\">1.0</td><td style = \"text-align: right;\">0.0</td><td style = \"text-align: right;\">12.0</td><td style = \"text-align: right;\">1.44</td><td style = \"text-align: right;\">1.728</td><td style = \"text-align: right;\">2.0736</td><td style = \"text-align: left;\">1820</td><td style = \"text-align: left;\">5</td><td style = \"text-align: left;\">7860</td><td style = \"text-align: left;\">17</td></tr><tr><td class = \"rowNumber\" style = \"font-weight: bold; text-align: right;\">410</td><td style = \"text-align: right;\">40.3846</td><td style = \"text-align: right;\">3.69845</td><td style = \"text-align: right;\">1.0</td><td style = \"text-align: right;\">0.0</td><td style = \"text-align: right;\">0.0</td><td style = \"text-align: right;\">0.0</td><td style = \"text-align: right;\">1.0</td><td style = \"text-align: right;\">0.0</td><td style = \"text-align: right;\">0.0</td><td style = \"text-align: right;\">0.0</td><td style = \"text-align: right;\">1.0</td><td style = \"text-align: right;\">0.0</td><td style = \"text-align: right;\">9.0</td><td style = \"text-align: right;\">0.81</td><td style = \"text-align: right;\">0.729</td><td style = \"text-align: right;\">0.6561</td><td style = \"text-align: left;\">4760</td><td style = \"text-align: left;\">16</td><td style = \"text-align: left;\">4770</td><td style = \"text-align: left;\">9</td></tr><tr><td class = \"rowNumber\" style = \"font-weight: bold; text-align: right;\">411</td><td style = \"text-align: right;\">65.3846</td><td style = \"text-align: right;\">4.18029</td><td style = \"text-align: right;\">1.0</td><td style = \"text-align: right;\">0.0</td><td style = \"text-align: right;\">0.0</td><td style = \"text-align: right;\">0.0</td><td style = \"text-align: right;\">0.0</td><td style = \"text-align: right;\">1.0</td><td style = \"text-align: right;\">0.0</td><td style = \"text-align: right;\">0.0</td><td style = \"text-align: right;\">1.0</td><td style = \"text-align: right;\">0.0</td><td style = \"text-align: right;\">12.0</td><td style = \"text-align: right;\">1.44</td><td style = \"text-align: right;\">1.728</td><td style = \"text-align: right;\">2.0736</td><td style = \"text-align: left;\">3255</td><td style = \"text-align: left;\">10</td><td style = \"text-align: left;\">8190</td><td style = \"text-align: left;\">18</td></tr><tr><td class = \"rowNumber\" style = \"font-weight: bold; text-align: right;\">412</td><td style = \"text-align: right;\">29.4872</td><td style = \"text-align: right;\">3.38396</td><td style = \"text-align: right;\">1.0</td><td style = \"text-align: right;\">0.0</td><td style = \"text-align: right;\">0.0</td><td style = \"text-align: right;\">0.0</td><td style = \"text-align: right;\">1.0</td><td style = \"text-align: right;\">0.0</td><td style = \"text-align: right;\">0.0</td><td style = \"text-align: right;\">0.0</td><td style = \"text-align: right;\">1.0</td><td style = \"text-align: right;\">0.0</td><td style = \"text-align: right;\">3.0</td><td style = \"text-align: right;\">0.09</td><td style = \"text-align: right;\">0.027</td><td style = \"text-align: right;\">0.0081</td><td style = \"text-align: left;\">1020</td><td style = \"text-align: left;\">3</td><td style = \"text-align: left;\">7460</td><td style = \"text-align: left;\">14</td></tr><tr><td class = \"rowNumber\" style = \"font-weight: bold; text-align: right;\">413</td><td style = \"text-align: right;\">28.8462</td><td style = \"text-align: right;\">3.36198</td><td style = \"text-align: right;\">1.0</td><td style = \"text-align: right;\">0.0</td><td style = \"text-align: right;\">0.0</td><td style = \"text-align: right;\">0.0</td><td style = \"text-align: right;\">0.0</td><td style = \"text-align: right;\">1.0</td><td style = \"text-align: right;\">0.0</td><td style = \"text-align: right;\">0.0</td><td style = \"text-align: right;\">1.0</td><td style = \"text-align: right;\">0.0</td><td style = \"text-align: right;\">5.0</td><td style = \"text-align: right;\">0.25</td><td style = \"text-align: right;\">0.125</td><td style = \"text-align: right;\">0.0625</td><td style = \"text-align: left;\">3030</td><td style = \"text-align: left;\">10</td><td style = \"text-align: left;\">7970</td><td style = \"text-align: left;\">18</td></tr><tr><td class = \"rowNumber\" style = \"font-weight: bold; text-align: right;\">414</td><td style = \"text-align: right;\">50.3635</td><td style = \"text-align: right;\">3.91927</td><td style = \"text-align: right;\">1.0</td><td style = \"text-align: right;\">0.0</td><td style = \"text-align: right;\">0.0</td><td style = \"text-align: right;\">0.0</td><td style = \"text-align: right;\">0.0</td><td style = \"text-align: right;\">1.0</td><td style = \"text-align: right;\">0.0</td><td style = \"text-align: right;\">0.0</td><td style = \"text-align: right;\">1.0</td><td style = \"text-align: right;\">0.0</td><td style = \"text-align: right;\">4.0</td><td style = \"text-align: right;\">0.16</td><td style = \"text-align: right;\">0.064</td><td style = \"text-align: right;\">0.0256</td><td style = \"text-align: left;\">530</td><td style = \"text-align: left;\">2</td><td style = \"text-align: left;\">7460</td><td style = \"text-align: left;\">14</td></tr><tr><td class = \"rowNumber\" style = \"font-weight: bold; text-align: right;\">415</td><td style = \"text-align: right;\">48.0769</td><td style = \"text-align: right;\">3.8728</td><td style = \"text-align: right;\">1.0</td><td style = \"text-align: right;\">0.0</td><td style = \"text-align: right;\">0.0</td><td style = \"text-align: right;\">0.0</td><td style = \"text-align: right;\">0.0</td><td style = \"text-align: right;\">1.0</td><td style = \"text-align: right;\">0.0</td><td style = \"text-align: right;\">0.0</td><td style = \"text-align: right;\">1.0</td><td style = \"text-align: right;\">0.0</td><td style = \"text-align: right;\">0.0</td><td style = \"text-align: right;\">0.0</td><td style = \"text-align: right;\">0.0</td><td style = \"text-align: right;\">0.0</td><td style = \"text-align: left;\">3050</td><td style = \"text-align: left;\">10</td><td style = \"text-align: left;\">8090</td><td style = \"text-align: left;\">18</td></tr><tr><td class = \"rowNumber\" style = \"font-weight: bold; text-align: right;\">416</td><td style = \"text-align: right;\">30.1455</td><td style = \"text-align: right;\">3.40604</td><td style = \"text-align: right;\">1.0</td><td style = \"text-align: right;\">0.0</td><td style = \"text-align: right;\">0.0</td><td style = \"text-align: right;\">0.0</td><td style = \"text-align: right;\">1.0</td><td style = \"text-align: right;\">0.0</td><td style = \"text-align: right;\">0.0</td><td style = \"text-align: right;\">0.0</td><td style = \"text-align: right;\">1.0</td><td style = \"text-align: right;\">0.0</td><td style = \"text-align: right;\">15.0</td><td style = \"text-align: right;\">2.25</td><td style = \"text-align: right;\">3.375</td><td style = \"text-align: right;\">5.0625</td><td style = \"text-align: left;\">120</td><td style = \"text-align: left;\">1</td><td style = \"text-align: left;\">6870</td><td style = \"text-align: left;\">12</td></tr><tr><td class = \"rowNumber\" style = \"font-weight: bold; text-align: right;\">417</td><td style = \"text-align: right;\">29.9145</td><td style = \"text-align: right;\">3.39834</td><td style = \"text-align: right;\">1.0</td><td style = \"text-align: right;\">0.0</td><td style = \"text-align: right;\">0.0</td><td style = \"text-align: right;\">0.0</td><td style = \"text-align: right;\">1.0</td><td style = \"text-align: right;\">0.0</td><td style = \"text-align: right;\">0.0</td><td style = \"text-align: right;\">0.0</td><td style = \"text-align: right;\">1.0</td><td style = \"text-align: right;\">0.0</td><td style = \"text-align: right;\">39.0</td><td style = \"text-align: right;\">15.21</td><td style = \"text-align: right;\">59.319</td><td style = \"text-align: right;\">231.344</td><td style = \"text-align: left;\">4700</td><td style = \"text-align: left;\">16</td><td style = \"text-align: left;\">5380</td><td style = \"text-align: left;\">9</td></tr><tr><td class = \"rowNumber\" style = \"font-weight: bold; text-align: right;\">418</td><td style = \"text-align: right;\">48.0769</td><td style = \"text-align: right;\">3.8728</td><td style = \"text-align: right;\">1.0</td><td style = \"text-align: right;\">0.0</td><td style = \"text-align: right;\">0.0</td><td style = \"text-align: right;\">0.0</td><td style = \"text-align: right;\">1.0</td><td style = \"text-align: right;\">0.0</td><td style = \"text-align: right;\">0.0</td><td style = \"text-align: right;\">0.0</td><td style = \"text-align: right;\">1.0</td><td style = \"text-align: right;\">0.0</td><td style = \"text-align: right;\">25.0</td><td style = \"text-align: right;\">6.25</td><td style = \"text-align: right;\">15.625</td><td style = \"text-align: right;\">39.0625</td><td style = \"text-align: left;\">3255</td><td style = \"text-align: left;\">10</td><td style = \"text-align: left;\">8170</td><td style = \"text-align: left;\">18</td></tr><tr><td class = \"rowNumber\" style = \"font-weight: bold; text-align: right;\">419</td><td style = \"text-align: right;\">45.5466</td><td style = \"text-align: right;\">3.81874</td><td style = \"text-align: right;\">1.0</td><td style = \"text-align: right;\">0.0</td><td style = \"text-align: right;\">0.0</td><td style = \"text-align: right;\">0.0</td><td style = \"text-align: right;\">1.0</td><td style = \"text-align: right;\">0.0</td><td style = \"text-align: right;\">0.0</td><td style = \"text-align: right;\">0.0</td><td style = \"text-align: right;\">1.0</td><td style = \"text-align: right;\">0.0</td><td style = \"text-align: right;\">5.0</td><td style = \"text-align: right;\">0.25</td><td style = \"text-align: right;\">0.125</td><td style = \"text-align: right;\">0.0625</td><td style = \"text-align: left;\">3255</td><td style = \"text-align: left;\">10</td><td style = \"text-align: left;\">8190</td><td style = \"text-align: left;\">18</td></tr></tbody></table></div>"
      ],
      "text/latex": [
       "\\begin{tabular}{r|cccccccccc}\n",
       "\t& wage & lwage & sex & shs & hsg & scl & clg & ad & mw & \\\\\n",
       "\t\\hline\n",
       "\t& Float64 & Float64 & Float64 & Float64 & Float64 & Float64 & Float64 & Float64 & Float64 & \\\\\n",
       "\t\\hline\n",
       "\t1 & 28.8462 & 3.36198 & 1.0 & 0.0 & 0.0 & 0.0 & 1.0 & 0.0 & 0.0 & $\\dots$ \\\\\n",
       "\t2 & 42.3077 & 3.74497 & 1.0 & 0.0 & 0.0 & 0.0 & 0.0 & 1.0 & 0.0 & $\\dots$ \\\\\n",
       "\t3 & 41.2088 & 3.71865 & 1.0 & 0.0 & 0.0 & 0.0 & 1.0 & 0.0 & 0.0 & $\\dots$ \\\\\n",
       "\t4 & 100.0 & 4.60517 & 1.0 & 0.0 & 0.0 & 0.0 & 0.0 & 1.0 & 0.0 & $\\dots$ \\\\\n",
       "\t5 & 33.6538 & 3.51613 & 1.0 & 0.0 & 0.0 & 0.0 & 1.0 & 0.0 & 0.0 & $\\dots$ \\\\\n",
       "\t6 & 36.0577 & 3.58512 & 1.0 & 0.0 & 0.0 & 0.0 & 1.0 & 0.0 & 0.0 & $\\dots$ \\\\\n",
       "\t7 & 31.25 & 3.44202 & 1.0 & 0.0 & 0.0 & 0.0 & 1.0 & 0.0 & 0.0 & $\\dots$ \\\\\n",
       "\t8 & 28.8462 & 3.36198 & 1.0 & 0.0 & 0.0 & 0.0 & 1.0 & 0.0 & 0.0 & $\\dots$ \\\\\n",
       "\t9 & 48.0769 & 3.8728 & 1.0 & 0.0 & 0.0 & 0.0 & 1.0 & 0.0 & 0.0 & $\\dots$ \\\\\n",
       "\t10 & 34.6154 & 3.5443 & 1.0 & 0.0 & 0.0 & 0.0 & 1.0 & 0.0 & 0.0 & $\\dots$ \\\\\n",
       "\t11 & 31.25 & 3.44202 & 1.0 & 0.0 & 0.0 & 0.0 & 0.0 & 1.0 & 0.0 & $\\dots$ \\\\\n",
       "\t12 & 28.5714 & 3.35241 & 1.0 & 0.0 & 0.0 & 0.0 & 1.0 & 0.0 & 0.0 & $\\dots$ \\\\\n",
       "\t13 & 28.5 & 3.3499 & 1.0 & 0.0 & 0.0 & 0.0 & 1.0 & 0.0 & 0.0 & $\\dots$ \\\\\n",
       "\t14 & 36.0577 & 3.58512 & 1.0 & 0.0 & 0.0 & 0.0 & 0.0 & 1.0 & 0.0 & $\\dots$ \\\\\n",
       "\t15 & 31.25 & 3.44202 & 1.0 & 0.0 & 0.0 & 0.0 & 1.0 & 0.0 & 0.0 & $\\dots$ \\\\\n",
       "\t16 & 38.4615 & 3.64966 & 1.0 & 0.0 & 0.0 & 0.0 & 1.0 & 0.0 & 0.0 & $\\dots$ \\\\\n",
       "\t17 & 40.4858 & 3.70095 & 1.0 & 0.0 & 0.0 & 0.0 & 0.0 & 1.0 & 0.0 & $\\dots$ \\\\\n",
       "\t18 & 32.0513 & 3.46734 & 1.0 & 0.0 & 0.0 & 0.0 & 1.0 & 0.0 & 0.0 & $\\dots$ \\\\\n",
       "\t19 & 28.8462 & 3.36198 & 1.0 & 0.0 & 0.0 & 0.0 & 0.0 & 1.0 & 0.0 & $\\dots$ \\\\\n",
       "\t20 & 43.0162 & 3.76158 & 1.0 & 0.0 & 0.0 & 0.0 & 1.0 & 0.0 & 0.0 & $\\dots$ \\\\\n",
       "\t21 & 62.5 & 4.13517 & 1.0 & 0.0 & 0.0 & 0.0 & 0.0 & 1.0 & 0.0 & $\\dots$ \\\\\n",
       "\t22 & 34.188 & 3.53188 & 1.0 & 0.0 & 0.0 & 0.0 & 1.0 & 0.0 & 0.0 & $\\dots$ \\\\\n",
       "\t23 & 48.0769 & 3.8728 & 1.0 & 0.0 & 0.0 & 0.0 & 1.0 & 0.0 & 0.0 & $\\dots$ \\\\\n",
       "\t24 & 29.9769 & 3.40043 & 1.0 & 0.0 & 0.0 & 0.0 & 0.0 & 1.0 & 0.0 & $\\dots$ \\\\\n",
       "\t$\\dots$ & $\\dots$ & $\\dots$ & $\\dots$ & $\\dots$ & $\\dots$ & $\\dots$ & $\\dots$ & $\\dots$ & $\\dots$ &  \\\\\n",
       "\\end{tabular}\n"
      ],
      "text/plain": [
       "\u001b[1m419×20 DataFrame\u001b[0m\n",
       "\u001b[1m Row \u001b[0m│\u001b[1m wage     \u001b[0m\u001b[1m lwage   \u001b[0m\u001b[1m sex     \u001b[0m\u001b[1m shs     \u001b[0m\u001b[1m hsg     \u001b[0m\u001b[1m scl     \u001b[0m\u001b[1m clg     \u001b[0m\u001b[1m ad     \u001b[0m ⋯\n",
       "     │\u001b[90m Float64  \u001b[0m\u001b[90m Float64 \u001b[0m\u001b[90m Float64 \u001b[0m\u001b[90m Float64 \u001b[0m\u001b[90m Float64 \u001b[0m\u001b[90m Float64 \u001b[0m\u001b[90m Float64 \u001b[0m\u001b[90m Float64\u001b[0m ⋯\n",
       "─────┼──────────────────────────────────────────────────────────────────────────\n",
       "   1 │  28.8462  3.36198      1.0      0.0      0.0      0.0      1.0      0.0 ⋯\n",
       "   2 │  42.3077  3.74497      1.0      0.0      0.0      0.0      0.0      1.0\n",
       "   3 │  41.2088  3.71865      1.0      0.0      0.0      0.0      1.0      0.0\n",
       "   4 │ 100.0     4.60517      1.0      0.0      0.0      0.0      0.0      1.0\n",
       "   5 │  33.6538  3.51613      1.0      0.0      0.0      0.0      1.0      0.0 ⋯\n",
       "   6 │  36.0577  3.58512      1.0      0.0      0.0      0.0      1.0      0.0\n",
       "   7 │  31.25    3.44202      1.0      0.0      0.0      0.0      1.0      0.0\n",
       "   8 │  28.8462  3.36198      1.0      0.0      0.0      0.0      1.0      0.0\n",
       "  ⋮  │    ⋮         ⋮        ⋮        ⋮        ⋮        ⋮        ⋮        ⋮    ⋱\n",
       " 413 │  28.8462  3.36198      1.0      0.0      0.0      0.0      0.0      1.0 ⋯\n",
       " 414 │  50.3635  3.91927      1.0      0.0      0.0      0.0      0.0      1.0\n",
       " 415 │  48.0769  3.8728       1.0      0.0      0.0      0.0      0.0      1.0\n",
       " 416 │  30.1455  3.40604      1.0      0.0      0.0      0.0      1.0      0.0\n",
       " 417 │  29.9145  3.39834      1.0      0.0      0.0      0.0      1.0      0.0 ⋯\n",
       " 418 │  48.0769  3.8728       1.0      0.0      0.0      0.0      1.0      0.0\n",
       " 419 │  45.5466  3.81874      1.0      0.0      0.0      0.0      1.0      0.0\n",
       "\u001b[36m                                                 12 columns and 404 rows omitted\u001b[0m"
      ]
     },
     "metadata": {},
     "output_type": "display_data"
    }
   ],
   "source": [
    "#nos están preguntando por cuantas muejeres graduadas de universidad o con postgrado se encuentran el cuartil superior de salarios. (mayores a 27.7777)\n",
    "\n",
    "df[(df.sex .== 1.0) .& ((df.clg .== 1.0) .|| (df.ad .== 1.0)) .& (df.wage .>= q3), :]"
   ]
  },
  {
   "cell_type": "code",
   "execution_count": 26,
   "metadata": {},
   "outputs": [
    {
     "name": "stdout",
     "output_type": "stream",
     "text": [
      "Las mujeres con universidad o un grado superior en el cuartil superior de salarios son: 419\n"
     ]
    }
   ],
   "source": [
    "#para saber el número de mujeres que cumplen con estos requisitos:\n",
    "mujeres_with_college_or_superior_degree_in_q3=nrow(df[(df.sex .== 1.0) .& ((df.clg .== 1.0) .|| (df.ad .== 1.0)) .& (df.wage .>= q3), :])\n",
    "\n",
    "println(\"Las mujeres con universidad o un grado superior en el cuartil superior de salarios son: $mujeres_with_college_or_superior_degree_in_q3\")"
   ]
  },
  {
   "cell_type": "markdown",
   "metadata": {},
   "source": [
    "#### 5. How many men with a high school graduate degree (hsg) or below have a wage corresponding to the 25% richest of the sample? Report the dataframe corresponding to this conditions and the result."
   ]
  },
  {
   "cell_type": "code",
   "execution_count": 27,
   "metadata": {},
   "outputs": [
    {
     "name": "stdout",
     "output_type": "stream",
     "text": [
      "Los hombres con high school terminada o un grado menor en el cuartil superior de salarios son: 118\n"
     ]
    }
   ],
   "source": [
    "#hacemos algo similar para los hombres:\n",
    "men_with_highschool_or_no_degree_in_q3=nrow(df[(df.sex .== 0.0) .& ((df.shs .== 1.0) .|| (df.hsg .== 1.0)) .& (df.wage .>= q3), :])\n",
    "\n",
    "println(\"Los hombres con high school terminada o un grado menor en el cuartil superior de salarios son: $men_with_highschool_or_no_degree_in_q3\")"
   ]
  },
  {
   "cell_type": "markdown",
   "metadata": {},
   "source": [
    "#### 6. Create two dataframes. One containing only the log(wage) and the other containig every variable of the data set but the wage related variables."
   ]
  },
  {
   "cell_type": "code",
   "execution_count": 28,
   "metadata": {},
   "outputs": [
    {
     "data": {
      "text/html": [
       "<div><div style = \"float: left;\"><span>5150×18 DataFrame</span></div><div style = \"float: right;\"><span style = \"font-style: italic;\">5125 rows omitted</span></div><div style = \"clear: both;\"></div></div><div class = \"data-frame\" style = \"overflow-x: scroll;\"><table class = \"data-frame\" style = \"margin-bottom: 6px;\"><thead><tr class = \"header\"><th class = \"rowNumber\" style = \"font-weight: bold; text-align: right;\">Row</th><th style = \"text-align: left;\">sex</th><th style = \"text-align: left;\">shs</th><th style = \"text-align: left;\">hsg</th><th style = \"text-align: left;\">scl</th><th style = \"text-align: left;\">clg</th><th style = \"text-align: left;\">ad</th><th style = \"text-align: left;\">mw</th><th style = \"text-align: left;\">so</th><th style = \"text-align: left;\">we</th><th style = \"text-align: left;\">ne</th><th style = \"text-align: left;\">exp1</th><th style = \"text-align: left;\">exp2</th><th style = \"text-align: left;\">exp3</th><th style = \"text-align: left;\">exp4</th><th style = \"text-align: left;\">occ</th><th style = \"text-align: left;\">occ2</th><th style = \"text-align: left;\">ind</th><th style = \"text-align: left;\">ind2</th></tr><tr class = \"subheader headerLastRow\"><th class = \"rowNumber\" style = \"font-weight: bold; text-align: right;\"></th><th title = \"Float64\" style = \"text-align: left;\">Float64</th><th title = \"Float64\" style = \"text-align: left;\">Float64</th><th title = \"Float64\" style = \"text-align: left;\">Float64</th><th title = \"Float64\" style = \"text-align: left;\">Float64</th><th title = \"Float64\" style = \"text-align: left;\">Float64</th><th title = \"Float64\" style = \"text-align: left;\">Float64</th><th title = \"Float64\" style = \"text-align: left;\">Float64</th><th title = \"Float64\" style = \"text-align: left;\">Float64</th><th title = \"Float64\" style = \"text-align: left;\">Float64</th><th title = \"Float64\" style = \"text-align: left;\">Float64</th><th title = \"Float64\" style = \"text-align: left;\">Float64</th><th title = \"Float64\" style = \"text-align: left;\">Float64</th><th title = \"Float64\" style = \"text-align: left;\">Float64</th><th title = \"Float64\" style = \"text-align: left;\">Float64</th><th title = \"CategoricalValue{String, UInt16}\" style = \"text-align: left;\">Cat…</th><th title = \"CategoricalValue{String, UInt8}\" style = \"text-align: left;\">Cat…</th><th title = \"CategoricalValue{String, UInt8}\" style = \"text-align: left;\">Cat…</th><th title = \"CategoricalValue{String, UInt8}\" style = \"text-align: left;\">Cat…</th></tr></thead><tbody><tr><td class = \"rowNumber\" style = \"font-weight: bold; text-align: right;\">1</td><td style = \"text-align: right;\">1.0</td><td style = \"text-align: right;\">0.0</td><td style = \"text-align: right;\">0.0</td><td style = \"text-align: right;\">0.0</td><td style = \"text-align: right;\">1.0</td><td style = \"text-align: right;\">0.0</td><td style = \"text-align: right;\">0.0</td><td style = \"text-align: right;\">0.0</td><td style = \"text-align: right;\">0.0</td><td style = \"text-align: right;\">1.0</td><td style = \"text-align: right;\">7.0</td><td style = \"text-align: right;\">0.49</td><td style = \"text-align: right;\">0.343</td><td style = \"text-align: right;\">0.2401</td><td style = \"text-align: left;\">3600</td><td style = \"text-align: left;\">11</td><td style = \"text-align: left;\">8370</td><td style = \"text-align: left;\">18</td></tr><tr><td class = \"rowNumber\" style = \"font-weight: bold; text-align: right;\">2</td><td style = \"text-align: right;\">0.0</td><td style = \"text-align: right;\">0.0</td><td style = \"text-align: right;\">0.0</td><td style = \"text-align: right;\">0.0</td><td style = \"text-align: right;\">1.0</td><td style = \"text-align: right;\">0.0</td><td style = \"text-align: right;\">0.0</td><td style = \"text-align: right;\">0.0</td><td style = \"text-align: right;\">0.0</td><td style = \"text-align: right;\">1.0</td><td style = \"text-align: right;\">31.0</td><td style = \"text-align: right;\">9.61</td><td style = \"text-align: right;\">29.791</td><td style = \"text-align: right;\">92.3521</td><td style = \"text-align: left;\">3050</td><td style = \"text-align: left;\">10</td><td style = \"text-align: left;\">5070</td><td style = \"text-align: left;\">9</td></tr><tr><td class = \"rowNumber\" style = \"font-weight: bold; text-align: right;\">3</td><td style = \"text-align: right;\">0.0</td><td style = \"text-align: right;\">0.0</td><td style = \"text-align: right;\">1.0</td><td style = \"text-align: right;\">0.0</td><td style = \"text-align: right;\">0.0</td><td style = \"text-align: right;\">0.0</td><td style = \"text-align: right;\">0.0</td><td style = \"text-align: right;\">0.0</td><td style = \"text-align: right;\">0.0</td><td style = \"text-align: right;\">1.0</td><td style = \"text-align: right;\">18.0</td><td style = \"text-align: right;\">3.24</td><td style = \"text-align: right;\">5.832</td><td style = \"text-align: right;\">10.4976</td><td style = \"text-align: left;\">6260</td><td style = \"text-align: left;\">19</td><td style = \"text-align: left;\">770</td><td style = \"text-align: left;\">4</td></tr><tr><td class = \"rowNumber\" style = \"font-weight: bold; text-align: right;\">4</td><td style = \"text-align: right;\">1.0</td><td style = \"text-align: right;\">0.0</td><td style = \"text-align: right;\">0.0</td><td style = \"text-align: right;\">0.0</td><td style = \"text-align: right;\">0.0</td><td style = \"text-align: right;\">1.0</td><td style = \"text-align: right;\">0.0</td><td style = \"text-align: right;\">0.0</td><td style = \"text-align: right;\">0.0</td><td style = \"text-align: right;\">1.0</td><td style = \"text-align: right;\">25.0</td><td style = \"text-align: right;\">6.25</td><td style = \"text-align: right;\">15.625</td><td style = \"text-align: right;\">39.0625</td><td style = \"text-align: left;\">420</td><td style = \"text-align: left;\">1</td><td style = \"text-align: left;\">6990</td><td style = \"text-align: left;\">12</td></tr><tr><td class = \"rowNumber\" style = \"font-weight: bold; text-align: right;\">5</td><td style = \"text-align: right;\">1.0</td><td style = \"text-align: right;\">0.0</td><td style = \"text-align: right;\">0.0</td><td style = \"text-align: right;\">0.0</td><td style = \"text-align: right;\">1.0</td><td style = \"text-align: right;\">0.0</td><td style = \"text-align: right;\">0.0</td><td style = \"text-align: right;\">0.0</td><td style = \"text-align: right;\">0.0</td><td style = \"text-align: right;\">1.0</td><td style = \"text-align: right;\">22.0</td><td style = \"text-align: right;\">4.84</td><td style = \"text-align: right;\">10.648</td><td style = \"text-align: right;\">23.4256</td><td style = \"text-align: left;\">2015</td><td style = \"text-align: left;\">6</td><td style = \"text-align: left;\">9470</td><td style = \"text-align: left;\">22</td></tr><tr><td class = \"rowNumber\" style = \"font-weight: bold; text-align: right;\">6</td><td style = \"text-align: right;\">1.0</td><td style = \"text-align: right;\">0.0</td><td style = \"text-align: right;\">0.0</td><td style = \"text-align: right;\">0.0</td><td style = \"text-align: right;\">1.0</td><td style = \"text-align: right;\">0.0</td><td style = \"text-align: right;\">0.0</td><td style = \"text-align: right;\">0.0</td><td style = \"text-align: right;\">0.0</td><td style = \"text-align: right;\">1.0</td><td style = \"text-align: right;\">1.0</td><td style = \"text-align: right;\">0.01</td><td style = \"text-align: right;\">0.001</td><td style = \"text-align: right;\">0.0001</td><td style = \"text-align: left;\">1650</td><td style = \"text-align: left;\">5</td><td style = \"text-align: left;\">7460</td><td style = \"text-align: left;\">14</td></tr><tr><td class = \"rowNumber\" style = \"font-weight: bold; text-align: right;\">7</td><td style = \"text-align: right;\">1.0</td><td style = \"text-align: right;\">0.0</td><td style = \"text-align: right;\">1.0</td><td style = \"text-align: right;\">0.0</td><td style = \"text-align: right;\">0.0</td><td style = \"text-align: right;\">0.0</td><td style = \"text-align: right;\">0.0</td><td style = \"text-align: right;\">0.0</td><td style = \"text-align: right;\">0.0</td><td style = \"text-align: right;\">1.0</td><td style = \"text-align: right;\">42.0</td><td style = \"text-align: right;\">17.64</td><td style = \"text-align: right;\">74.088</td><td style = \"text-align: right;\">311.17</td><td style = \"text-align: left;\">5120</td><td style = \"text-align: left;\">17</td><td style = \"text-align: left;\">7280</td><td style = \"text-align: left;\">14</td></tr><tr><td class = \"rowNumber\" style = \"font-weight: bold; text-align: right;\">8</td><td style = \"text-align: right;\">0.0</td><td style = \"text-align: right;\">0.0</td><td style = \"text-align: right;\">1.0</td><td style = \"text-align: right;\">0.0</td><td style = \"text-align: right;\">0.0</td><td style = \"text-align: right;\">0.0</td><td style = \"text-align: right;\">0.0</td><td style = \"text-align: right;\">0.0</td><td style = \"text-align: right;\">0.0</td><td style = \"text-align: right;\">1.0</td><td style = \"text-align: right;\">37.0</td><td style = \"text-align: right;\">13.69</td><td style = \"text-align: right;\">50.653</td><td style = \"text-align: right;\">187.416</td><td style = \"text-align: left;\">5240</td><td style = \"text-align: left;\">17</td><td style = \"text-align: left;\">5680</td><td style = \"text-align: left;\">9</td></tr><tr><td class = \"rowNumber\" style = \"font-weight: bold; text-align: right;\">9</td><td style = \"text-align: right;\">1.0</td><td style = \"text-align: right;\">0.0</td><td style = \"text-align: right;\">1.0</td><td style = \"text-align: right;\">0.0</td><td style = \"text-align: right;\">0.0</td><td style = \"text-align: right;\">0.0</td><td style = \"text-align: right;\">0.0</td><td style = \"text-align: right;\">0.0</td><td style = \"text-align: right;\">0.0</td><td style = \"text-align: right;\">1.0</td><td style = \"text-align: right;\">31.0</td><td style = \"text-align: right;\">9.61</td><td style = \"text-align: right;\">29.791</td><td style = \"text-align: right;\">92.3521</td><td style = \"text-align: left;\">4040</td><td style = \"text-align: left;\">13</td><td style = \"text-align: left;\">8590</td><td style = \"text-align: left;\">19</td></tr><tr><td class = \"rowNumber\" style = \"font-weight: bold; text-align: right;\">10</td><td style = \"text-align: right;\">1.0</td><td style = \"text-align: right;\">0.0</td><td style = \"text-align: right;\">0.0</td><td style = \"text-align: right;\">0.0</td><td style = \"text-align: right;\">1.0</td><td style = \"text-align: right;\">0.0</td><td style = \"text-align: right;\">0.0</td><td style = \"text-align: right;\">0.0</td><td style = \"text-align: right;\">0.0</td><td style = \"text-align: right;\">1.0</td><td style = \"text-align: right;\">4.0</td><td style = \"text-align: right;\">0.16</td><td style = \"text-align: right;\">0.064</td><td style = \"text-align: right;\">0.0256</td><td style = \"text-align: left;\">3255</td><td style = \"text-align: left;\">10</td><td style = \"text-align: left;\">8190</td><td style = \"text-align: left;\">18</td></tr><tr><td class = \"rowNumber\" style = \"font-weight: bold; text-align: right;\">11</td><td style = \"text-align: right;\">1.0</td><td style = \"text-align: right;\">0.0</td><td style = \"text-align: right;\">1.0</td><td style = \"text-align: right;\">0.0</td><td style = \"text-align: right;\">0.0</td><td style = \"text-align: right;\">0.0</td><td style = \"text-align: right;\">0.0</td><td style = \"text-align: right;\">0.0</td><td style = \"text-align: right;\">0.0</td><td style = \"text-align: right;\">1.0</td><td style = \"text-align: right;\">7.0</td><td style = \"text-align: right;\">0.49</td><td style = \"text-align: right;\">0.343</td><td style = \"text-align: right;\">0.2401</td><td style = \"text-align: left;\">4020</td><td style = \"text-align: left;\">13</td><td style = \"text-align: left;\">8270</td><td style = \"text-align: left;\">18</td></tr><tr><td class = \"rowNumber\" style = \"font-weight: bold; text-align: right;\">12</td><td style = \"text-align: right;\">0.0</td><td style = \"text-align: right;\">0.0</td><td style = \"text-align: right;\">1.0</td><td style = \"text-align: right;\">0.0</td><td style = \"text-align: right;\">0.0</td><td style = \"text-align: right;\">0.0</td><td style = \"text-align: right;\">0.0</td><td style = \"text-align: right;\">0.0</td><td style = \"text-align: right;\">0.0</td><td style = \"text-align: right;\">1.0</td><td style = \"text-align: right;\">30.0</td><td style = \"text-align: right;\">9.0</td><td style = \"text-align: right;\">27.0</td><td style = \"text-align: right;\">81.0</td><td style = \"text-align: left;\">4220</td><td style = \"text-align: left;\">14</td><td style = \"text-align: left;\">8270</td><td style = \"text-align: left;\">18</td></tr><tr><td class = \"rowNumber\" style = \"font-weight: bold; text-align: right;\">13</td><td style = \"text-align: right;\">1.0</td><td style = \"text-align: right;\">0.0</td><td style = \"text-align: right;\">0.0</td><td style = \"text-align: right;\">1.0</td><td style = \"text-align: right;\">0.0</td><td style = \"text-align: right;\">0.0</td><td style = \"text-align: right;\">0.0</td><td style = \"text-align: right;\">0.0</td><td style = \"text-align: right;\">0.0</td><td style = \"text-align: right;\">1.0</td><td style = \"text-align: right;\">5.5</td><td style = \"text-align: right;\">0.3025</td><td style = \"text-align: right;\">0.166375</td><td style = \"text-align: right;\">0.0915062</td><td style = \"text-align: left;\">3600</td><td style = \"text-align: left;\">11</td><td style = \"text-align: left;\">8270</td><td style = \"text-align: left;\">18</td></tr><tr><td style = \"text-align: right;\">&vellip;</td><td style = \"text-align: right;\">&vellip;</td><td style = \"text-align: right;\">&vellip;</td><td style = \"text-align: right;\">&vellip;</td><td style = \"text-align: right;\">&vellip;</td><td style = \"text-align: right;\">&vellip;</td><td style = \"text-align: right;\">&vellip;</td><td style = \"text-align: right;\">&vellip;</td><td style = \"text-align: right;\">&vellip;</td><td style = \"text-align: right;\">&vellip;</td><td style = \"text-align: right;\">&vellip;</td><td style = \"text-align: right;\">&vellip;</td><td style = \"text-align: right;\">&vellip;</td><td style = \"text-align: right;\">&vellip;</td><td style = \"text-align: right;\">&vellip;</td><td style = \"text-align: right;\">&vellip;</td><td style = \"text-align: right;\">&vellip;</td><td style = \"text-align: right;\">&vellip;</td><td style = \"text-align: right;\">&vellip;</td></tr><tr><td class = \"rowNumber\" style = \"font-weight: bold; text-align: right;\">5139</td><td style = \"text-align: right;\">1.0</td><td style = \"text-align: right;\">0.0</td><td style = \"text-align: right;\">0.0</td><td style = \"text-align: right;\">0.0</td><td style = \"text-align: right;\">0.0</td><td style = \"text-align: right;\">1.0</td><td style = \"text-align: right;\">0.0</td><td style = \"text-align: right;\">0.0</td><td style = \"text-align: right;\">1.0</td><td style = \"text-align: right;\">0.0</td><td style = \"text-align: right;\">8.0</td><td style = \"text-align: right;\">0.64</td><td style = \"text-align: right;\">0.512</td><td style = \"text-align: right;\">0.4096</td><td style = \"text-align: left;\">2000</td><td style = \"text-align: left;\">6</td><td style = \"text-align: left;\">8090</td><td style = \"text-align: left;\">18</td></tr><tr><td class = \"rowNumber\" style = \"font-weight: bold; text-align: right;\">5140</td><td style = \"text-align: right;\">0.0</td><td style = \"text-align: right;\">0.0</td><td style = \"text-align: right;\">0.0</td><td style = \"text-align: right;\">0.0</td><td style = \"text-align: right;\">1.0</td><td style = \"text-align: right;\">0.0</td><td style = \"text-align: right;\">0.0</td><td style = \"text-align: right;\">0.0</td><td style = \"text-align: right;\">1.0</td><td style = \"text-align: right;\">0.0</td><td style = \"text-align: right;\">28.0</td><td style = \"text-align: right;\">7.84</td><td style = \"text-align: right;\">21.952</td><td style = \"text-align: right;\">61.4656</td><td style = \"text-align: left;\">40</td><td style = \"text-align: left;\">1</td><td style = \"text-align: left;\">9170</td><td style = \"text-align: left;\">21</td></tr><tr><td class = \"rowNumber\" style = \"font-weight: bold; text-align: right;\">5141</td><td style = \"text-align: right;\">1.0</td><td style = \"text-align: right;\">0.0</td><td style = \"text-align: right;\">0.0</td><td style = \"text-align: right;\">0.0</td><td style = \"text-align: right;\">1.0</td><td style = \"text-align: right;\">0.0</td><td style = \"text-align: right;\">0.0</td><td style = \"text-align: right;\">0.0</td><td style = \"text-align: right;\">1.0</td><td style = \"text-align: right;\">0.0</td><td style = \"text-align: right;\">5.0</td><td style = \"text-align: right;\">0.25</td><td style = \"text-align: right;\">0.125</td><td style = \"text-align: right;\">0.0625</td><td style = \"text-align: left;\">3255</td><td style = \"text-align: left;\">10</td><td style = \"text-align: left;\">8190</td><td style = \"text-align: left;\">18</td></tr><tr><td class = \"rowNumber\" style = \"font-weight: bold; text-align: right;\">5142</td><td style = \"text-align: right;\">0.0</td><td style = \"text-align: right;\">0.0</td><td style = \"text-align: right;\">1.0</td><td style = \"text-align: right;\">0.0</td><td style = \"text-align: right;\">0.0</td><td style = \"text-align: right;\">0.0</td><td style = \"text-align: right;\">0.0</td><td style = \"text-align: right;\">0.0</td><td style = \"text-align: right;\">1.0</td><td style = \"text-align: right;\">0.0</td><td style = \"text-align: right;\">15.0</td><td style = \"text-align: right;\">2.25</td><td style = \"text-align: right;\">3.375</td><td style = \"text-align: right;\">5.0625</td><td style = \"text-align: left;\">9620</td><td style = \"text-align: left;\">22</td><td style = \"text-align: left;\">5390</td><td style = \"text-align: left;\">9</td></tr><tr><td class = \"rowNumber\" style = \"font-weight: bold; text-align: right;\">5143</td><td style = \"text-align: right;\">0.0</td><td style = \"text-align: right;\">0.0</td><td style = \"text-align: right;\">1.0</td><td style = \"text-align: right;\">0.0</td><td style = \"text-align: right;\">0.0</td><td style = \"text-align: right;\">0.0</td><td style = \"text-align: right;\">0.0</td><td style = \"text-align: right;\">0.0</td><td style = \"text-align: right;\">1.0</td><td style = \"text-align: right;\">0.0</td><td style = \"text-align: right;\">11.0</td><td style = \"text-align: right;\">1.21</td><td style = \"text-align: right;\">1.331</td><td style = \"text-align: right;\">1.4641</td><td style = \"text-align: left;\">7150</td><td style = \"text-align: left;\">20</td><td style = \"text-align: left;\">8770</td><td style = \"text-align: left;\">21</td></tr><tr><td class = \"rowNumber\" style = \"font-weight: bold; text-align: right;\">5144</td><td style = \"text-align: right;\">1.0</td><td style = \"text-align: right;\">0.0</td><td style = \"text-align: right;\">0.0</td><td style = \"text-align: right;\">0.0</td><td style = \"text-align: right;\">1.0</td><td style = \"text-align: right;\">0.0</td><td style = \"text-align: right;\">0.0</td><td style = \"text-align: right;\">0.0</td><td style = \"text-align: right;\">1.0</td><td style = \"text-align: right;\">0.0</td><td style = \"text-align: right;\">17.0</td><td style = \"text-align: right;\">2.89</td><td style = \"text-align: right;\">4.913</td><td style = \"text-align: right;\">8.3521</td><td style = \"text-align: left;\">2550</td><td style = \"text-align: left;\">8</td><td style = \"text-align: left;\">9480</td><td style = \"text-align: left;\">22</td></tr><tr><td class = \"rowNumber\" style = \"font-weight: bold; text-align: right;\">5145</td><td style = \"text-align: right;\">0.0</td><td style = \"text-align: right;\">0.0</td><td style = \"text-align: right;\">0.0</td><td style = \"text-align: right;\">0.0</td><td style = \"text-align: right;\">1.0</td><td style = \"text-align: right;\">0.0</td><td style = \"text-align: right;\">0.0</td><td style = \"text-align: right;\">0.0</td><td style = \"text-align: right;\">1.0</td><td style = \"text-align: right;\">0.0</td><td style = \"text-align: right;\">10.0</td><td style = \"text-align: right;\">1.0</td><td style = \"text-align: right;\">1.0</td><td style = \"text-align: right;\">1.0</td><td style = \"text-align: left;\">800</td><td style = \"text-align: left;\">2</td><td style = \"text-align: left;\">770</td><td style = \"text-align: left;\">4</td></tr><tr><td class = \"rowNumber\" style = \"font-weight: bold; text-align: right;\">5146</td><td style = \"text-align: right;\">0.0</td><td style = \"text-align: right;\">0.0</td><td style = \"text-align: right;\">0.0</td><td style = \"text-align: right;\">0.0</td><td style = \"text-align: right;\">1.0</td><td style = \"text-align: right;\">0.0</td><td style = \"text-align: right;\">0.0</td><td style = \"text-align: right;\">0.0</td><td style = \"text-align: right;\">1.0</td><td style = \"text-align: right;\">0.0</td><td style = \"text-align: right;\">9.0</td><td style = \"text-align: right;\">0.81</td><td style = \"text-align: right;\">0.729</td><td style = \"text-align: right;\">0.6561</td><td style = \"text-align: left;\">4700</td><td style = \"text-align: left;\">16</td><td style = \"text-align: left;\">4970</td><td style = \"text-align: left;\">9</td></tr><tr><td class = \"rowNumber\" style = \"font-weight: bold; text-align: right;\">5147</td><td style = \"text-align: right;\">1.0</td><td style = \"text-align: right;\">0.0</td><td style = \"text-align: right;\">0.0</td><td style = \"text-align: right;\">1.0</td><td style = \"text-align: right;\">0.0</td><td style = \"text-align: right;\">0.0</td><td style = \"text-align: right;\">0.0</td><td style = \"text-align: right;\">0.0</td><td style = \"text-align: right;\">1.0</td><td style = \"text-align: right;\">0.0</td><td style = \"text-align: right;\">12.0</td><td style = \"text-align: right;\">1.44</td><td style = \"text-align: right;\">1.728</td><td style = \"text-align: right;\">2.0736</td><td style = \"text-align: left;\">4110</td><td style = \"text-align: left;\">13</td><td style = \"text-align: left;\">8680</td><td style = \"text-align: left;\">20</td></tr><tr><td class = \"rowNumber\" style = \"font-weight: bold; text-align: right;\">5148</td><td style = \"text-align: right;\">0.0</td><td style = \"text-align: right;\">0.0</td><td style = \"text-align: right;\">0.0</td><td style = \"text-align: right;\">0.0</td><td style = \"text-align: right;\">0.0</td><td style = \"text-align: right;\">1.0</td><td style = \"text-align: right;\">0.0</td><td style = \"text-align: right;\">0.0</td><td style = \"text-align: right;\">1.0</td><td style = \"text-align: right;\">0.0</td><td style = \"text-align: right;\">11.0</td><td style = \"text-align: right;\">1.21</td><td style = \"text-align: right;\">1.331</td><td style = \"text-align: right;\">1.4641</td><td style = \"text-align: left;\">1550</td><td style = \"text-align: left;\">4</td><td style = \"text-align: left;\">3680</td><td style = \"text-align: left;\">6</td></tr><tr><td class = \"rowNumber\" style = \"font-weight: bold; text-align: right;\">5149</td><td style = \"text-align: right;\">0.0</td><td style = \"text-align: right;\">0.0</td><td style = \"text-align: right;\">1.0</td><td style = \"text-align: right;\">0.0</td><td style = \"text-align: right;\">0.0</td><td style = \"text-align: right;\">0.0</td><td style = \"text-align: right;\">0.0</td><td style = \"text-align: right;\">0.0</td><td style = \"text-align: right;\">1.0</td><td style = \"text-align: right;\">0.0</td><td style = \"text-align: right;\">10.0</td><td style = \"text-align: right;\">1.0</td><td style = \"text-align: right;\">1.0</td><td style = \"text-align: right;\">1.0</td><td style = \"text-align: left;\">2920</td><td style = \"text-align: left;\">9</td><td style = \"text-align: left;\">6570</td><td style = \"text-align: left;\">11</td></tr><tr><td class = \"rowNumber\" style = \"font-weight: bold; text-align: right;\">5150</td><td style = \"text-align: right;\">0.0</td><td style = \"text-align: right;\">0.0</td><td style = \"text-align: right;\">0.0</td><td style = \"text-align: right;\">0.0</td><td style = \"text-align: right;\">0.0</td><td style = \"text-align: right;\">1.0</td><td style = \"text-align: right;\">0.0</td><td style = \"text-align: right;\">0.0</td><td style = \"text-align: right;\">1.0</td><td style = \"text-align: right;\">0.0</td><td style = \"text-align: right;\">14.0</td><td style = \"text-align: right;\">1.96</td><td style = \"text-align: right;\">2.744</td><td style = \"text-align: right;\">3.8416</td><td style = \"text-align: left;\">1610</td><td style = \"text-align: left;\">5</td><td style = \"text-align: left;\">7460</td><td style = \"text-align: left;\">14</td></tr></tbody></table></div>"
      ],
      "text/latex": [
       "\\begin{tabular}{r|cccccccccc}\n",
       "\t& sex & shs & hsg & scl & clg & ad & mw & so & we & \\\\\n",
       "\t\\hline\n",
       "\t& Float64 & Float64 & Float64 & Float64 & Float64 & Float64 & Float64 & Float64 & Float64 & \\\\\n",
       "\t\\hline\n",
       "\t1 & 1.0 & 0.0 & 0.0 & 0.0 & 1.0 & 0.0 & 0.0 & 0.0 & 0.0 & $\\dots$ \\\\\n",
       "\t2 & 0.0 & 0.0 & 0.0 & 0.0 & 1.0 & 0.0 & 0.0 & 0.0 & 0.0 & $\\dots$ \\\\\n",
       "\t3 & 0.0 & 0.0 & 1.0 & 0.0 & 0.0 & 0.0 & 0.0 & 0.0 & 0.0 & $\\dots$ \\\\\n",
       "\t4 & 1.0 & 0.0 & 0.0 & 0.0 & 0.0 & 1.0 & 0.0 & 0.0 & 0.0 & $\\dots$ \\\\\n",
       "\t5 & 1.0 & 0.0 & 0.0 & 0.0 & 1.0 & 0.0 & 0.0 & 0.0 & 0.0 & $\\dots$ \\\\\n",
       "\t6 & 1.0 & 0.0 & 0.0 & 0.0 & 1.0 & 0.0 & 0.0 & 0.0 & 0.0 & $\\dots$ \\\\\n",
       "\t7 & 1.0 & 0.0 & 1.0 & 0.0 & 0.0 & 0.0 & 0.0 & 0.0 & 0.0 & $\\dots$ \\\\\n",
       "\t8 & 0.0 & 0.0 & 1.0 & 0.0 & 0.0 & 0.0 & 0.0 & 0.0 & 0.0 & $\\dots$ \\\\\n",
       "\t9 & 1.0 & 0.0 & 1.0 & 0.0 & 0.0 & 0.0 & 0.0 & 0.0 & 0.0 & $\\dots$ \\\\\n",
       "\t10 & 1.0 & 0.0 & 0.0 & 0.0 & 1.0 & 0.0 & 0.0 & 0.0 & 0.0 & $\\dots$ \\\\\n",
       "\t11 & 1.0 & 0.0 & 1.0 & 0.0 & 0.0 & 0.0 & 0.0 & 0.0 & 0.0 & $\\dots$ \\\\\n",
       "\t12 & 0.0 & 0.0 & 1.0 & 0.0 & 0.0 & 0.0 & 0.0 & 0.0 & 0.0 & $\\dots$ \\\\\n",
       "\t13 & 1.0 & 0.0 & 0.0 & 1.0 & 0.0 & 0.0 & 0.0 & 0.0 & 0.0 & $\\dots$ \\\\\n",
       "\t14 & 1.0 & 0.0 & 0.0 & 1.0 & 0.0 & 0.0 & 0.0 & 0.0 & 0.0 & $\\dots$ \\\\\n",
       "\t15 & 1.0 & 0.0 & 0.0 & 0.0 & 1.0 & 0.0 & 0.0 & 0.0 & 0.0 & $\\dots$ \\\\\n",
       "\t16 & 0.0 & 0.0 & 1.0 & 0.0 & 0.0 & 0.0 & 0.0 & 0.0 & 0.0 & $\\dots$ \\\\\n",
       "\t17 & 0.0 & 0.0 & 1.0 & 0.0 & 0.0 & 0.0 & 0.0 & 0.0 & 0.0 & $\\dots$ \\\\\n",
       "\t18 & 0.0 & 0.0 & 0.0 & 1.0 & 0.0 & 0.0 & 0.0 & 0.0 & 0.0 & $\\dots$ \\\\\n",
       "\t19 & 0.0 & 0.0 & 1.0 & 0.0 & 0.0 & 0.0 & 0.0 & 0.0 & 0.0 & $\\dots$ \\\\\n",
       "\t20 & 0.0 & 0.0 & 1.0 & 0.0 & 0.0 & 0.0 & 0.0 & 0.0 & 0.0 & $\\dots$ \\\\\n",
       "\t21 & 1.0 & 0.0 & 0.0 & 1.0 & 0.0 & 0.0 & 0.0 & 0.0 & 0.0 & $\\dots$ \\\\\n",
       "\t22 & 1.0 & 0.0 & 0.0 & 1.0 & 0.0 & 0.0 & 0.0 & 0.0 & 0.0 & $\\dots$ \\\\\n",
       "\t23 & 1.0 & 0.0 & 0.0 & 0.0 & 0.0 & 1.0 & 0.0 & 0.0 & 0.0 & $\\dots$ \\\\\n",
       "\t24 & 0.0 & 0.0 & 0.0 & 0.0 & 1.0 & 0.0 & 0.0 & 0.0 & 0.0 & $\\dots$ \\\\\n",
       "\t$\\dots$ & $\\dots$ & $\\dots$ & $\\dots$ & $\\dots$ & $\\dots$ & $\\dots$ & $\\dots$ & $\\dots$ & $\\dots$ &  \\\\\n",
       "\\end{tabular}\n"
      ],
      "text/plain": [
       "\u001b[1m5150×18 DataFrame\u001b[0m\n",
       "\u001b[1m  Row \u001b[0m│\u001b[1m sex     \u001b[0m\u001b[1m shs     \u001b[0m\u001b[1m hsg     \u001b[0m\u001b[1m scl     \u001b[0m\u001b[1m clg     \u001b[0m\u001b[1m ad      \u001b[0m\u001b[1m mw      \u001b[0m\u001b[1m so     \u001b[0m ⋯\n",
       "      │\u001b[90m Float64 \u001b[0m\u001b[90m Float64 \u001b[0m\u001b[90m Float64 \u001b[0m\u001b[90m Float64 \u001b[0m\u001b[90m Float64 \u001b[0m\u001b[90m Float64 \u001b[0m\u001b[90m Float64 \u001b[0m\u001b[90m Float64\u001b[0m ⋯\n",
       "──────┼─────────────────────────────────────────────────────────────────────────\n",
       "    1 │     1.0      0.0      0.0      0.0      1.0      0.0      0.0      0.0 ⋯\n",
       "    2 │     0.0      0.0      0.0      0.0      1.0      0.0      0.0      0.0\n",
       "    3 │     0.0      0.0      1.0      0.0      0.0      0.0      0.0      0.0\n",
       "    4 │     1.0      0.0      0.0      0.0      0.0      1.0      0.0      0.0\n",
       "    5 │     1.0      0.0      0.0      0.0      1.0      0.0      0.0      0.0 ⋯\n",
       "    6 │     1.0      0.0      0.0      0.0      1.0      0.0      0.0      0.0\n",
       "    7 │     1.0      0.0      1.0      0.0      0.0      0.0      0.0      0.0\n",
       "    8 │     0.0      0.0      1.0      0.0      0.0      0.0      0.0      0.0\n",
       "  ⋮   │    ⋮        ⋮        ⋮        ⋮        ⋮        ⋮        ⋮        ⋮    ⋱\n",
       " 5144 │     1.0      0.0      0.0      0.0      1.0      0.0      0.0      0.0 ⋯\n",
       " 5145 │     0.0      0.0      0.0      0.0      1.0      0.0      0.0      0.0\n",
       " 5146 │     0.0      0.0      0.0      0.0      1.0      0.0      0.0      0.0\n",
       " 5147 │     1.0      0.0      0.0      1.0      0.0      0.0      0.0      0.0\n",
       " 5148 │     0.0      0.0      0.0      0.0      0.0      1.0      0.0      0.0 ⋯\n",
       " 5149 │     0.0      0.0      1.0      0.0      0.0      0.0      0.0      0.0\n",
       " 5150 │     0.0      0.0      0.0      0.0      0.0      1.0      0.0      0.0\n",
       "\u001b[36m                                                10 columns and 5135 rows omitted\u001b[0m"
      ]
     },
     "metadata": {},
     "output_type": "display_data"
    }
   ],
   "source": [
    "#creamos los 2 dataframes\n",
    "\n",
    "#1er dataframe (only log(wage))\n",
    "\n",
    "only_logwage = DataFrame(log_wage = df.lwage)\n",
    "\n",
    "#2do dataframe (otras variables)\n",
    "\n",
    "df_no_wage = select(df, Not([:wage, :lwage]))\n",
    "\n"
   ]
  },
  {
   "cell_type": "markdown",
   "metadata": {},
   "source": [
    "## 2. Data wrangling"
   ]
  },
  {
   "cell_type": "markdown",
   "metadata": {},
   "source": [
    "#### 7. Make an array for our Y variable, which will be the logarithm of wage (lwage column)"
   ]
  },
  {
   "cell_type": "code",
   "execution_count": 29,
   "metadata": {},
   "outputs": [
    {
     "data": {
      "text/plain": [
       "5150-element Vector{Float64}:\n",
       " 2.2633643798407643\n",
       " 3.872802292274865\n",
       " 2.403126322215923\n",
       " 2.634927936273247\n",
       " 3.361976668508874\n",
       " 2.4622152385859297\n",
       " 2.9565115604007097\n",
       " 2.9565115604007097\n",
       " 2.4849066497880004\n",
       " 2.9565115604007097\n",
       " ⋮\n",
       " 3.117779707996832\n",
       " 2.822980167776187\n",
       " 3.1796551117149194\n",
       " 2.6280074934286737\n",
       " 2.6925460145662448\n",
       " 3.138833117194664\n",
       " 3.649658740960655\n",
       " 3.4955080611333966\n",
       " 2.8511510447428834"
      ]
     },
     "metadata": {},
     "output_type": "display_data"
    }
   ],
   "source": [
    "#convierto en array con nombre Y\n",
    "Y=df.lwage"
   ]
  },
  {
   "cell_type": "code",
   "execution_count": 31,
   "metadata": {},
   "outputs": [
    {
     "data": {
      "text/plain": [
       "5150×16 Matrix{Any}:\n",
       " 1.0  0.0  0.0  0.0  1.0  0.0  0.0  …   0.49   0.343    0.2401  \"11\"  \"18\"\n",
       " 0.0  0.0  0.0  0.0  1.0  0.0  0.0      9.61  29.791   92.3521  \"10\"  \"9\"\n",
       " 0.0  0.0  1.0  0.0  0.0  0.0  0.0      3.24   5.832   10.4976  \"19\"  \"4\"\n",
       " 1.0  0.0  0.0  0.0  0.0  1.0  0.0      6.25  15.625   39.0625  \"1\"   \"12\"\n",
       " 1.0  0.0  0.0  0.0  1.0  0.0  0.0      4.84  10.648   23.4256  \"6\"   \"22\"\n",
       " 1.0  0.0  0.0  0.0  1.0  0.0  0.0  …   0.01   0.001    0.0001  \"5\"   \"14\"\n",
       " 1.0  0.0  1.0  0.0  0.0  0.0  0.0     17.64  74.088  311.17    \"17\"  \"14\"\n",
       " 0.0  0.0  1.0  0.0  0.0  0.0  0.0     13.69  50.653  187.416   \"17\"  \"9\"\n",
       " 1.0  0.0  1.0  0.0  0.0  0.0  0.0      9.61  29.791   92.3521  \"13\"  \"19\"\n",
       " 1.0  0.0  0.0  0.0  1.0  0.0  0.0      0.16   0.064    0.0256  \"10\"  \"18\"\n",
       " ⋮                        ⋮         ⋱                                 ⋮\n",
       " 0.0  0.0  1.0  0.0  0.0  0.0  0.0      2.25   3.375    5.0625  \"22\"  \"9\"\n",
       " 0.0  0.0  1.0  0.0  0.0  0.0  0.0      1.21   1.331    1.4641  \"20\"  \"21\"\n",
       " 1.0  0.0  0.0  0.0  1.0  0.0  0.0      2.89   4.913    8.3521  \"8\"   \"22\"\n",
       " 0.0  0.0  0.0  0.0  1.0  0.0  0.0      1.0    1.0      1.0     \"2\"   \"4\"\n",
       " 0.0  0.0  0.0  0.0  1.0  0.0  0.0  …   0.81   0.729    0.6561  \"16\"  \"9\"\n",
       " 1.0  0.0  0.0  1.0  0.0  0.0  0.0      1.44   1.728    2.0736  \"13\"  \"20\"\n",
       " 0.0  0.0  0.0  0.0  0.0  1.0  0.0      1.21   1.331    1.4641  \"4\"   \"6\"\n",
       " 0.0  0.0  1.0  0.0  0.0  0.0  0.0      1.0    1.0      1.0     \"9\"   \"11\"\n",
       " 0.0  0.0  0.0  0.0  0.0  1.0  0.0      1.96   2.744    3.8416  \"5\"   \"14\""
      ]
     },
     "metadata": {},
     "output_type": "display_data"
    }
   ],
   "source": [
    "#primero convertimos en matriz  y quitamos las variables que no vamos a usar:\n",
    "no_wage = Matrix(select(df, Not([:wage, :lwage, :occ, :ind],)))\n"
   ]
  },
  {
   "cell_type": "code",
   "execution_count": 33,
   "metadata": {},
   "outputs": [
    {
     "data": {
      "text/html": [
       "<div><div style = \"float: left;\"><span>5×16 DataFrame</span></div><div style = \"clear: both;\"></div></div><div class = \"data-frame\" style = \"overflow-x: scroll;\"><table class = \"data-frame\" style = \"margin-bottom: 6px;\"><thead><tr class = \"header\"><th class = \"rowNumber\" style = \"font-weight: bold; text-align: right;\">Row</th><th style = \"text-align: left;\">sex</th><th style = \"text-align: left;\">shs</th><th style = \"text-align: left;\">hsg</th><th style = \"text-align: left;\">scl</th><th style = \"text-align: left;\">clg</th><th style = \"text-align: left;\">ad</th><th style = \"text-align: left;\">mw</th><th style = \"text-align: left;\">so</th><th style = \"text-align: left;\">we</th><th style = \"text-align: left;\">ne</th><th style = \"text-align: left;\">exp1</th><th style = \"text-align: left;\">exp2</th><th style = \"text-align: left;\">exp3</th><th style = \"text-align: left;\">exp4</th><th style = \"text-align: left;\">occ2</th><th style = \"text-align: left;\">ind2</th></tr><tr class = \"subheader headerLastRow\"><th class = \"rowNumber\" style = \"font-weight: bold; text-align: right;\"></th><th title = \"Float64\" style = \"text-align: left;\">Float64</th><th title = \"Float64\" style = \"text-align: left;\">Float64</th><th title = \"Float64\" style = \"text-align: left;\">Float64</th><th title = \"Float64\" style = \"text-align: left;\">Float64</th><th title = \"Float64\" style = \"text-align: left;\">Float64</th><th title = \"Float64\" style = \"text-align: left;\">Float64</th><th title = \"Float64\" style = \"text-align: left;\">Float64</th><th title = \"Float64\" style = \"text-align: left;\">Float64</th><th title = \"Float64\" style = \"text-align: left;\">Float64</th><th title = \"Float64\" style = \"text-align: left;\">Float64</th><th title = \"Float64\" style = \"text-align: left;\">Float64</th><th title = \"Float64\" style = \"text-align: left;\">Float64</th><th title = \"Float64\" style = \"text-align: left;\">Float64</th><th title = \"Float64\" style = \"text-align: left;\">Float64</th><th title = \"Int64\" style = \"text-align: left;\">Int64</th><th title = \"Int64\" style = \"text-align: left;\">Int64</th></tr></thead><tbody><tr><td class = \"rowNumber\" style = \"font-weight: bold; text-align: right;\">1</td><td style = \"text-align: right;\">1.0</td><td style = \"text-align: right;\">0.0</td><td style = \"text-align: right;\">0.0</td><td style = \"text-align: right;\">0.0</td><td style = \"text-align: right;\">1.0</td><td style = \"text-align: right;\">0.0</td><td style = \"text-align: right;\">0.0</td><td style = \"text-align: right;\">0.0</td><td style = \"text-align: right;\">0.0</td><td style = \"text-align: right;\">1.0</td><td style = \"text-align: right;\">7.0</td><td style = \"text-align: right;\">0.49</td><td style = \"text-align: right;\">0.343</td><td style = \"text-align: right;\">0.2401</td><td style = \"text-align: right;\">11</td><td style = \"text-align: right;\">18</td></tr><tr><td class = \"rowNumber\" style = \"font-weight: bold; text-align: right;\">2</td><td style = \"text-align: right;\">0.0</td><td style = \"text-align: right;\">0.0</td><td style = \"text-align: right;\">0.0</td><td style = \"text-align: right;\">0.0</td><td style = \"text-align: right;\">1.0</td><td style = \"text-align: right;\">0.0</td><td style = \"text-align: right;\">0.0</td><td style = \"text-align: right;\">0.0</td><td style = \"text-align: right;\">0.0</td><td style = \"text-align: right;\">1.0</td><td style = \"text-align: right;\">31.0</td><td style = \"text-align: right;\">9.61</td><td style = \"text-align: right;\">29.791</td><td style = \"text-align: right;\">92.3521</td><td style = \"text-align: right;\">10</td><td style = \"text-align: right;\">9</td></tr><tr><td class = \"rowNumber\" style = \"font-weight: bold; text-align: right;\">3</td><td style = \"text-align: right;\">0.0</td><td style = \"text-align: right;\">0.0</td><td style = \"text-align: right;\">1.0</td><td style = \"text-align: right;\">0.0</td><td style = \"text-align: right;\">0.0</td><td style = \"text-align: right;\">0.0</td><td style = \"text-align: right;\">0.0</td><td style = \"text-align: right;\">0.0</td><td style = \"text-align: right;\">0.0</td><td style = \"text-align: right;\">1.0</td><td style = \"text-align: right;\">18.0</td><td style = \"text-align: right;\">3.24</td><td style = \"text-align: right;\">5.832</td><td style = \"text-align: right;\">10.4976</td><td style = \"text-align: right;\">19</td><td style = \"text-align: right;\">4</td></tr><tr><td class = \"rowNumber\" style = \"font-weight: bold; text-align: right;\">4</td><td style = \"text-align: right;\">1.0</td><td style = \"text-align: right;\">0.0</td><td style = \"text-align: right;\">0.0</td><td style = \"text-align: right;\">0.0</td><td style = \"text-align: right;\">0.0</td><td style = \"text-align: right;\">1.0</td><td style = \"text-align: right;\">0.0</td><td style = \"text-align: right;\">0.0</td><td style = \"text-align: right;\">0.0</td><td style = \"text-align: right;\">1.0</td><td style = \"text-align: right;\">25.0</td><td style = \"text-align: right;\">6.25</td><td style = \"text-align: right;\">15.625</td><td style = \"text-align: right;\">39.0625</td><td style = \"text-align: right;\">1</td><td style = \"text-align: right;\">12</td></tr><tr><td class = \"rowNumber\" style = \"font-weight: bold; text-align: right;\">5</td><td style = \"text-align: right;\">1.0</td><td style = \"text-align: right;\">0.0</td><td style = \"text-align: right;\">0.0</td><td style = \"text-align: right;\">0.0</td><td style = \"text-align: right;\">1.0</td><td style = \"text-align: right;\">0.0</td><td style = \"text-align: right;\">0.0</td><td style = \"text-align: right;\">0.0</td><td style = \"text-align: right;\">0.0</td><td style = \"text-align: right;\">1.0</td><td style = \"text-align: right;\">22.0</td><td style = \"text-align: right;\">4.84</td><td style = \"text-align: right;\">10.648</td><td style = \"text-align: right;\">23.4256</td><td style = \"text-align: right;\">6</td><td style = \"text-align: right;\">22</td></tr></tbody></table></div>"
      ],
      "text/latex": [
       "\\begin{tabular}{r|cccccccccc}\n",
       "\t& sex & shs & hsg & scl & clg & ad & mw & so & we & \\\\\n",
       "\t\\hline\n",
       "\t& Float64 & Float64 & Float64 & Float64 & Float64 & Float64 & Float64 & Float64 & Float64 & \\\\\n",
       "\t\\hline\n",
       "\t1 & 1.0 & 0.0 & 0.0 & 0.0 & 1.0 & 0.0 & 0.0 & 0.0 & 0.0 & $\\dots$ \\\\\n",
       "\t2 & 0.0 & 0.0 & 0.0 & 0.0 & 1.0 & 0.0 & 0.0 & 0.0 & 0.0 & $\\dots$ \\\\\n",
       "\t3 & 0.0 & 0.0 & 1.0 & 0.0 & 0.0 & 0.0 & 0.0 & 0.0 & 0.0 & $\\dots$ \\\\\n",
       "\t4 & 1.0 & 0.0 & 0.0 & 0.0 & 0.0 & 1.0 & 0.0 & 0.0 & 0.0 & $\\dots$ \\\\\n",
       "\t5 & 1.0 & 0.0 & 0.0 & 0.0 & 1.0 & 0.0 & 0.0 & 0.0 & 0.0 & $\\dots$ \\\\\n",
       "\\end{tabular}\n"
      ],
      "text/plain": [
       "\u001b[1m5×16 DataFrame\u001b[0m\n",
       "\u001b[1m Row \u001b[0m│\u001b[1m sex     \u001b[0m\u001b[1m shs     \u001b[0m\u001b[1m hsg     \u001b[0m\u001b[1m scl     \u001b[0m\u001b[1m clg     \u001b[0m\u001b[1m ad      \u001b[0m\u001b[1m mw      \u001b[0m\u001b[1m so      \u001b[0m\u001b[1m\u001b[0m ⋯\n",
       "     │\u001b[90m Float64 \u001b[0m\u001b[90m Float64 \u001b[0m\u001b[90m Float64 \u001b[0m\u001b[90m Float64 \u001b[0m\u001b[90m Float64 \u001b[0m\u001b[90m Float64 \u001b[0m\u001b[90m Float64 \u001b[0m\u001b[90m Float64 \u001b[0m\u001b[90m\u001b[0m ⋯\n",
       "─────┼──────────────────────────────────────────────────────────────────────────\n",
       "   1 │     1.0      0.0      0.0      0.0      1.0      0.0      0.0      0.0  ⋯\n",
       "   2 │     0.0      0.0      0.0      0.0      1.0      0.0      0.0      0.0\n",
       "   3 │     0.0      0.0      1.0      0.0      0.0      0.0      0.0      0.0\n",
       "   4 │     1.0      0.0      0.0      0.0      0.0      1.0      0.0      0.0\n",
       "   5 │     1.0      0.0      0.0      0.0      1.0      0.0      0.0      0.0  ⋯\n",
       "\u001b[36m                                                               8 columns omitted\u001b[0m"
      ]
     },
     "metadata": {},
     "output_type": "display_data"
    }
   ],
   "source": [
    "#filtramos y nos quedamos con las variables que nos contengan wage y que nos interesen\n",
    "df_no_wage = select(df, Not([:wage, :lwage, :rownames, :occ, :ind]))\n",
    "\n",
    "first(df_no_wage, 5)"
   ]
  },
  {
   "cell_type": "code",
   "execution_count": 45,
   "metadata": {},
   "outputs": [
    {
     "data": {
      "text/plain": [
       "22-element Vector{Int64}:\n",
       "  1\n",
       "  2\n",
       "  3\n",
       "  4\n",
       "  5\n",
       "  6\n",
       "  7\n",
       "  8\n",
       "  9\n",
       " 10\n",
       "  ⋮\n",
       " 14\n",
       " 15\n",
       " 16\n",
       " 17\n",
       " 18\n",
       " 19\n",
       " 20\n",
       " 21\n",
       " 22"
      ]
     },
     "metadata": {},
     "output_type": "display_data"
    }
   ],
   "source": [
    "#vemos los valores que toma la variable occ2 para luego convertirla en dummie\n",
    "sort(unique(df_no_wage.occ2))\n",
    "#efectivamente son valores del 1 al 22. Por tanto podemos crear una dummie tomando como base a 1"
   ]
  },
  {
   "cell_type": "code",
   "execution_count": 32,
   "metadata": {},
   "outputs": [
    {
     "data": {
      "text/plain": [
       "21-element Vector{String}:\n",
       " \"10\"\n",
       " \"11\"\n",
       " \"12\"\n",
       " \"13\"\n",
       " \"14\"\n",
       " \"15\"\n",
       " \"16\"\n",
       " \"17\"\n",
       " \"18\"\n",
       " \"19\"\n",
       " ⋮\n",
       " \"21\"\n",
       " \"22\"\n",
       " \"3\"\n",
       " \"4\"\n",
       " \"5\"\n",
       " \"6\"\n",
       " \"7\"\n",
       " \"8\"\n",
       " \"9\""
      ]
     },
     "metadata": {},
     "output_type": "display_data"
    }
   ],
   "source": [
    "#vemos los valores que toma la variable ind2 para luego convertirla en dummie\n",
    "sort(unique(df_no_wage.ind2))\n",
    "#efectivamente son valores del 2 al 22. Por tanto podemos crear una dummie tomando como base a"
   ]
  },
  {
   "cell_type": "code",
   "execution_count": 40,
   "metadata": {},
   "outputs": [
    {
     "data": {
      "text/html": [
       "<div><div style = \"float: left;\"><span>5150×20 DataFrame</span></div><div style = \"float: right;\"><span style = \"font-style: italic;\">5125 rows omitted</span></div><div style = \"clear: both;\"></div></div><div class = \"data-frame\" style = \"overflow-x: scroll;\"><table class = \"data-frame\" style = \"margin-bottom: 6px;\"><thead><tr class = \"header\"><th class = \"rowNumber\" style = \"font-weight: bold; text-align: right;\">Row</th><th style = \"text-align: left;\">wage</th><th style = \"text-align: left;\">lwage</th><th style = \"text-align: left;\">sex</th><th style = \"text-align: left;\">shs</th><th style = \"text-align: left;\">hsg</th><th style = \"text-align: left;\">scl</th><th style = \"text-align: left;\">clg</th><th style = \"text-align: left;\">ad</th><th style = \"text-align: left;\">mw</th><th style = \"text-align: left;\">so</th><th style = \"text-align: left;\">we</th><th style = \"text-align: left;\">ne</th><th style = \"text-align: left;\">exp1</th><th style = \"text-align: left;\">exp2</th><th style = \"text-align: left;\">exp3</th><th style = \"text-align: left;\">exp4</th><th style = \"text-align: left;\">occ</th><th style = \"text-align: left;\">occ2</th><th style = \"text-align: left;\">ind</th><th style = \"text-align: left;\">ind2</th></tr><tr class = \"subheader headerLastRow\"><th class = \"rowNumber\" style = \"font-weight: bold; text-align: right;\"></th><th title = \"Float64\" style = \"text-align: left;\">Float64</th><th title = \"Float64\" style = \"text-align: left;\">Float64</th><th title = \"Float64\" style = \"text-align: left;\">Float64</th><th title = \"Float64\" style = \"text-align: left;\">Float64</th><th title = \"Float64\" style = \"text-align: left;\">Float64</th><th title = \"Float64\" style = \"text-align: left;\">Float64</th><th title = \"Float64\" style = \"text-align: left;\">Float64</th><th title = \"Float64\" style = \"text-align: left;\">Float64</th><th title = \"Float64\" style = \"text-align: left;\">Float64</th><th title = \"Float64\" style = \"text-align: left;\">Float64</th><th title = \"Float64\" style = \"text-align: left;\">Float64</th><th title = \"Float64\" style = \"text-align: left;\">Float64</th><th title = \"Float64\" style = \"text-align: left;\">Float64</th><th title = \"Float64\" style = \"text-align: left;\">Float64</th><th title = \"Float64\" style = \"text-align: left;\">Float64</th><th title = \"Float64\" style = \"text-align: left;\">Float64</th><th title = \"CategoricalValue{String, UInt16}\" style = \"text-align: left;\">Cat…</th><th title = \"CategoricalValue{String, UInt8}\" style = \"text-align: left;\">Cat…</th><th title = \"CategoricalValue{String, UInt8}\" style = \"text-align: left;\">Cat…</th><th title = \"CategoricalValue{String, UInt8}\" style = \"text-align: left;\">Cat…</th></tr></thead><tbody><tr><td class = \"rowNumber\" style = \"font-weight: bold; text-align: right;\">1</td><td style = \"text-align: right;\">9.61538</td><td style = \"text-align: right;\">2.26336</td><td style = \"text-align: right;\">1.0</td><td style = \"text-align: right;\">0.0</td><td style = \"text-align: right;\">0.0</td><td style = \"text-align: right;\">0.0</td><td style = \"text-align: right;\">1.0</td><td style = \"text-align: right;\">0.0</td><td style = \"text-align: right;\">0.0</td><td style = \"text-align: right;\">0.0</td><td style = \"text-align: right;\">0.0</td><td style = \"text-align: right;\">1.0</td><td style = \"text-align: right;\">7.0</td><td style = \"text-align: right;\">0.49</td><td style = \"text-align: right;\">0.343</td><td style = \"text-align: right;\">0.2401</td><td style = \"text-align: left;\">3600</td><td style = \"text-align: left;\">11</td><td style = \"text-align: left;\">8370</td><td style = \"text-align: left;\">18</td></tr><tr><td class = \"rowNumber\" style = \"font-weight: bold; text-align: right;\">2</td><td style = \"text-align: right;\">48.0769</td><td style = \"text-align: right;\">3.8728</td><td style = \"text-align: right;\">0.0</td><td style = \"text-align: right;\">0.0</td><td style = \"text-align: right;\">0.0</td><td style = \"text-align: right;\">0.0</td><td style = \"text-align: right;\">1.0</td><td style = \"text-align: right;\">0.0</td><td style = \"text-align: right;\">0.0</td><td style = \"text-align: right;\">0.0</td><td style = \"text-align: right;\">0.0</td><td style = \"text-align: right;\">1.0</td><td style = \"text-align: right;\">31.0</td><td style = \"text-align: right;\">9.61</td><td style = \"text-align: right;\">29.791</td><td style = \"text-align: right;\">92.3521</td><td style = \"text-align: left;\">3050</td><td style = \"text-align: left;\">10</td><td style = \"text-align: left;\">5070</td><td style = \"text-align: left;\">9</td></tr><tr><td class = \"rowNumber\" style = \"font-weight: bold; text-align: right;\">3</td><td style = \"text-align: right;\">11.0577</td><td style = \"text-align: right;\">2.40313</td><td style = \"text-align: right;\">0.0</td><td style = \"text-align: right;\">0.0</td><td style = \"text-align: right;\">1.0</td><td style = \"text-align: right;\">0.0</td><td style = \"text-align: right;\">0.0</td><td style = \"text-align: right;\">0.0</td><td style = \"text-align: right;\">0.0</td><td style = \"text-align: right;\">0.0</td><td style = \"text-align: right;\">0.0</td><td style = \"text-align: right;\">1.0</td><td style = \"text-align: right;\">18.0</td><td style = \"text-align: right;\">3.24</td><td style = \"text-align: right;\">5.832</td><td style = \"text-align: right;\">10.4976</td><td style = \"text-align: left;\">6260</td><td style = \"text-align: left;\">19</td><td style = \"text-align: left;\">770</td><td style = \"text-align: left;\">4</td></tr><tr><td class = \"rowNumber\" style = \"font-weight: bold; text-align: right;\">4</td><td style = \"text-align: right;\">13.9423</td><td style = \"text-align: right;\">2.63493</td><td style = \"text-align: right;\">1.0</td><td style = \"text-align: right;\">0.0</td><td style = \"text-align: right;\">0.0</td><td style = \"text-align: right;\">0.0</td><td style = \"text-align: right;\">0.0</td><td style = \"text-align: right;\">1.0</td><td style = \"text-align: right;\">0.0</td><td style = \"text-align: right;\">0.0</td><td style = \"text-align: right;\">0.0</td><td style = \"text-align: right;\">1.0</td><td style = \"text-align: right;\">25.0</td><td style = \"text-align: right;\">6.25</td><td style = \"text-align: right;\">15.625</td><td style = \"text-align: right;\">39.0625</td><td style = \"text-align: left;\">420</td><td style = \"text-align: left;\">1</td><td style = \"text-align: left;\">6990</td><td style = \"text-align: left;\">12</td></tr><tr><td class = \"rowNumber\" style = \"font-weight: bold; text-align: right;\">5</td><td style = \"text-align: right;\">28.8462</td><td style = \"text-align: right;\">3.36198</td><td style = \"text-align: right;\">1.0</td><td style = \"text-align: right;\">0.0</td><td style = \"text-align: right;\">0.0</td><td style = \"text-align: right;\">0.0</td><td style = \"text-align: right;\">1.0</td><td style = \"text-align: right;\">0.0</td><td style = \"text-align: right;\">0.0</td><td style = \"text-align: right;\">0.0</td><td style = \"text-align: right;\">0.0</td><td style = \"text-align: right;\">1.0</td><td style = \"text-align: right;\">22.0</td><td style = \"text-align: right;\">4.84</td><td style = \"text-align: right;\">10.648</td><td style = \"text-align: right;\">23.4256</td><td style = \"text-align: left;\">2015</td><td style = \"text-align: left;\">6</td><td style = \"text-align: left;\">9470</td><td style = \"text-align: left;\">22</td></tr><tr><td class = \"rowNumber\" style = \"font-weight: bold; text-align: right;\">6</td><td style = \"text-align: right;\">11.7308</td><td style = \"text-align: right;\">2.46222</td><td style = \"text-align: right;\">1.0</td><td style = \"text-align: right;\">0.0</td><td style = \"text-align: right;\">0.0</td><td style = \"text-align: right;\">0.0</td><td style = \"text-align: right;\">1.0</td><td style = \"text-align: right;\">0.0</td><td style = \"text-align: right;\">0.0</td><td style = \"text-align: right;\">0.0</td><td style = \"text-align: right;\">0.0</td><td style = \"text-align: right;\">1.0</td><td style = \"text-align: right;\">1.0</td><td style = \"text-align: right;\">0.01</td><td style = \"text-align: right;\">0.001</td><td style = \"text-align: right;\">0.0001</td><td style = \"text-align: left;\">1650</td><td style = \"text-align: left;\">5</td><td style = \"text-align: left;\">7460</td><td style = \"text-align: left;\">14</td></tr><tr><td class = \"rowNumber\" style = \"font-weight: bold; text-align: right;\">7</td><td style = \"text-align: right;\">19.2308</td><td style = \"text-align: right;\">2.95651</td><td style = \"text-align: right;\">1.0</td><td style = \"text-align: right;\">0.0</td><td style = \"text-align: right;\">1.0</td><td style = \"text-align: right;\">0.0</td><td style = \"text-align: right;\">0.0</td><td style = \"text-align: right;\">0.0</td><td style = \"text-align: right;\">0.0</td><td style = \"text-align: right;\">0.0</td><td style = \"text-align: right;\">0.0</td><td style = \"text-align: right;\">1.0</td><td style = \"text-align: right;\">42.0</td><td style = \"text-align: right;\">17.64</td><td style = \"text-align: right;\">74.088</td><td style = \"text-align: right;\">311.17</td><td style = \"text-align: left;\">5120</td><td style = \"text-align: left;\">17</td><td style = \"text-align: left;\">7280</td><td style = \"text-align: left;\">14</td></tr><tr><td class = \"rowNumber\" style = \"font-weight: bold; text-align: right;\">8</td><td style = \"text-align: right;\">19.2308</td><td style = \"text-align: right;\">2.95651</td><td style = \"text-align: right;\">0.0</td><td style = \"text-align: right;\">0.0</td><td style = \"text-align: right;\">1.0</td><td style = \"text-align: right;\">0.0</td><td style = \"text-align: right;\">0.0</td><td style = \"text-align: right;\">0.0</td><td style = \"text-align: right;\">0.0</td><td style = \"text-align: right;\">0.0</td><td style = \"text-align: right;\">0.0</td><td style = \"text-align: right;\">1.0</td><td style = \"text-align: right;\">37.0</td><td style = \"text-align: right;\">13.69</td><td style = \"text-align: right;\">50.653</td><td style = \"text-align: right;\">187.416</td><td style = \"text-align: left;\">5240</td><td style = \"text-align: left;\">17</td><td style = \"text-align: left;\">5680</td><td style = \"text-align: left;\">9</td></tr><tr><td class = \"rowNumber\" style = \"font-weight: bold; text-align: right;\">9</td><td style = \"text-align: right;\">12.0</td><td style = \"text-align: right;\">2.48491</td><td style = \"text-align: right;\">1.0</td><td style = \"text-align: right;\">0.0</td><td style = \"text-align: right;\">1.0</td><td style = \"text-align: right;\">0.0</td><td style = \"text-align: right;\">0.0</td><td style = \"text-align: right;\">0.0</td><td style = \"text-align: right;\">0.0</td><td style = \"text-align: right;\">0.0</td><td style = \"text-align: right;\">0.0</td><td style = \"text-align: right;\">1.0</td><td style = \"text-align: right;\">31.0</td><td style = \"text-align: right;\">9.61</td><td style = \"text-align: right;\">29.791</td><td style = \"text-align: right;\">92.3521</td><td style = \"text-align: left;\">4040</td><td style = \"text-align: left;\">13</td><td style = \"text-align: left;\">8590</td><td style = \"text-align: left;\">19</td></tr><tr><td class = \"rowNumber\" style = \"font-weight: bold; text-align: right;\">10</td><td style = \"text-align: right;\">19.2308</td><td style = \"text-align: right;\">2.95651</td><td style = \"text-align: right;\">1.0</td><td style = \"text-align: right;\">0.0</td><td style = \"text-align: right;\">0.0</td><td style = \"text-align: right;\">0.0</td><td style = \"text-align: right;\">1.0</td><td style = \"text-align: right;\">0.0</td><td style = \"text-align: right;\">0.0</td><td style = \"text-align: right;\">0.0</td><td style = \"text-align: right;\">0.0</td><td style = \"text-align: right;\">1.0</td><td style = \"text-align: right;\">4.0</td><td style = \"text-align: right;\">0.16</td><td style = \"text-align: right;\">0.064</td><td style = \"text-align: right;\">0.0256</td><td style = \"text-align: left;\">3255</td><td style = \"text-align: left;\">10</td><td style = \"text-align: left;\">8190</td><td style = \"text-align: left;\">18</td></tr><tr><td class = \"rowNumber\" style = \"font-weight: bold; text-align: right;\">11</td><td style = \"text-align: right;\">17.3077</td><td style = \"text-align: right;\">2.85115</td><td style = \"text-align: right;\">1.0</td><td style = \"text-align: right;\">0.0</td><td style = \"text-align: right;\">1.0</td><td style = \"text-align: right;\">0.0</td><td style = \"text-align: right;\">0.0</td><td style = \"text-align: right;\">0.0</td><td style = \"text-align: right;\">0.0</td><td style = \"text-align: right;\">0.0</td><td style = \"text-align: right;\">0.0</td><td style = \"text-align: right;\">1.0</td><td style = \"text-align: right;\">7.0</td><td style = \"text-align: right;\">0.49</td><td style = \"text-align: right;\">0.343</td><td style = \"text-align: right;\">0.2401</td><td style = \"text-align: left;\">4020</td><td style = \"text-align: left;\">13</td><td style = \"text-align: left;\">8270</td><td style = \"text-align: left;\">18</td></tr><tr><td class = \"rowNumber\" style = \"font-weight: bold; text-align: right;\">12</td><td style = \"text-align: right;\">12.0192</td><td style = \"text-align: right;\">2.48651</td><td style = \"text-align: right;\">0.0</td><td style = \"text-align: right;\">0.0</td><td style = \"text-align: right;\">1.0</td><td style = \"text-align: right;\">0.0</td><td style = \"text-align: right;\">0.0</td><td style = \"text-align: right;\">0.0</td><td style = \"text-align: right;\">0.0</td><td style = \"text-align: right;\">0.0</td><td style = \"text-align: right;\">0.0</td><td style = \"text-align: right;\">1.0</td><td style = \"text-align: right;\">30.0</td><td style = \"text-align: right;\">9.0</td><td style = \"text-align: right;\">27.0</td><td style = \"text-align: right;\">81.0</td><td style = \"text-align: left;\">4220</td><td style = \"text-align: left;\">14</td><td style = \"text-align: left;\">8270</td><td style = \"text-align: left;\">18</td></tr><tr><td class = \"rowNumber\" style = \"font-weight: bold; text-align: right;\">13</td><td style = \"text-align: right;\">12.0192</td><td style = \"text-align: right;\">2.48651</td><td style = \"text-align: right;\">1.0</td><td style = \"text-align: right;\">0.0</td><td style = \"text-align: right;\">0.0</td><td style = \"text-align: right;\">1.0</td><td style = \"text-align: right;\">0.0</td><td style = \"text-align: right;\">0.0</td><td style = \"text-align: right;\">0.0</td><td style = \"text-align: right;\">0.0</td><td style = \"text-align: right;\">0.0</td><td style = \"text-align: right;\">1.0</td><td style = \"text-align: right;\">5.5</td><td style = \"text-align: right;\">0.3025</td><td style = \"text-align: right;\">0.166375</td><td style = \"text-align: right;\">0.0915062</td><td style = \"text-align: left;\">3600</td><td style = \"text-align: left;\">11</td><td style = \"text-align: left;\">8270</td><td style = \"text-align: left;\">18</td></tr><tr><td style = \"text-align: right;\">&vellip;</td><td style = \"text-align: right;\">&vellip;</td><td style = \"text-align: right;\">&vellip;</td><td style = \"text-align: right;\">&vellip;</td><td style = \"text-align: right;\">&vellip;</td><td style = \"text-align: right;\">&vellip;</td><td style = \"text-align: right;\">&vellip;</td><td style = \"text-align: right;\">&vellip;</td><td style = \"text-align: right;\">&vellip;</td><td style = \"text-align: right;\">&vellip;</td><td style = \"text-align: right;\">&vellip;</td><td style = \"text-align: right;\">&vellip;</td><td style = \"text-align: right;\">&vellip;</td><td style = \"text-align: right;\">&vellip;</td><td style = \"text-align: right;\">&vellip;</td><td style = \"text-align: right;\">&vellip;</td><td style = \"text-align: right;\">&vellip;</td><td style = \"text-align: right;\">&vellip;</td><td style = \"text-align: right;\">&vellip;</td><td style = \"text-align: right;\">&vellip;</td><td style = \"text-align: right;\">&vellip;</td></tr><tr><td class = \"rowNumber\" style = \"font-weight: bold; text-align: right;\">5139</td><td style = \"text-align: right;\">19.7115</td><td style = \"text-align: right;\">2.9812</td><td style = \"text-align: right;\">1.0</td><td style = \"text-align: right;\">0.0</td><td style = \"text-align: right;\">0.0</td><td style = \"text-align: right;\">0.0</td><td style = \"text-align: right;\">0.0</td><td style = \"text-align: right;\">1.0</td><td style = \"text-align: right;\">0.0</td><td style = \"text-align: right;\">0.0</td><td style = \"text-align: right;\">1.0</td><td style = \"text-align: right;\">0.0</td><td style = \"text-align: right;\">8.0</td><td style = \"text-align: right;\">0.64</td><td style = \"text-align: right;\">0.512</td><td style = \"text-align: right;\">0.4096</td><td style = \"text-align: left;\">2000</td><td style = \"text-align: left;\">6</td><td style = \"text-align: left;\">8090</td><td style = \"text-align: left;\">18</td></tr><tr><td class = \"rowNumber\" style = \"font-weight: bold; text-align: right;\">5140</td><td style = \"text-align: right;\">21.1538</td><td style = \"text-align: right;\">3.05182</td><td style = \"text-align: right;\">0.0</td><td style = \"text-align: right;\">0.0</td><td style = \"text-align: right;\">0.0</td><td style = \"text-align: right;\">0.0</td><td style = \"text-align: right;\">1.0</td><td style = \"text-align: right;\">0.0</td><td style = \"text-align: right;\">0.0</td><td style = \"text-align: right;\">0.0</td><td style = \"text-align: right;\">1.0</td><td style = \"text-align: right;\">0.0</td><td style = \"text-align: right;\">28.0</td><td style = \"text-align: right;\">7.84</td><td style = \"text-align: right;\">21.952</td><td style = \"text-align: right;\">61.4656</td><td style = \"text-align: left;\">40</td><td style = \"text-align: left;\">1</td><td style = \"text-align: left;\">9170</td><td style = \"text-align: left;\">21</td></tr><tr><td class = \"rowNumber\" style = \"font-weight: bold; text-align: right;\">5141</td><td style = \"text-align: right;\">45.5466</td><td style = \"text-align: right;\">3.81874</td><td style = \"text-align: right;\">1.0</td><td style = \"text-align: right;\">0.0</td><td style = \"text-align: right;\">0.0</td><td style = \"text-align: right;\">0.0</td><td style = \"text-align: right;\">1.0</td><td style = \"text-align: right;\">0.0</td><td style = \"text-align: right;\">0.0</td><td style = \"text-align: right;\">0.0</td><td style = \"text-align: right;\">1.0</td><td style = \"text-align: right;\">0.0</td><td style = \"text-align: right;\">5.0</td><td style = \"text-align: right;\">0.25</td><td style = \"text-align: right;\">0.125</td><td style = \"text-align: right;\">0.0625</td><td style = \"text-align: left;\">3255</td><td style = \"text-align: left;\">10</td><td style = \"text-align: left;\">8190</td><td style = \"text-align: left;\">18</td></tr><tr><td class = \"rowNumber\" style = \"font-weight: bold; text-align: right;\">5142</td><td style = \"text-align: right;\">22.5962</td><td style = \"text-align: right;\">3.11778</td><td style = \"text-align: right;\">0.0</td><td style = \"text-align: right;\">0.0</td><td style = \"text-align: right;\">1.0</td><td style = \"text-align: right;\">0.0</td><td style = \"text-align: right;\">0.0</td><td style = \"text-align: right;\">0.0</td><td style = \"text-align: right;\">0.0</td><td style = \"text-align: right;\">0.0</td><td style = \"text-align: right;\">1.0</td><td style = \"text-align: right;\">0.0</td><td style = \"text-align: right;\">15.0</td><td style = \"text-align: right;\">2.25</td><td style = \"text-align: right;\">3.375</td><td style = \"text-align: right;\">5.0625</td><td style = \"text-align: left;\">9620</td><td style = \"text-align: left;\">22</td><td style = \"text-align: left;\">5390</td><td style = \"text-align: left;\">9</td></tr><tr><td class = \"rowNumber\" style = \"font-weight: bold; text-align: right;\">5143</td><td style = \"text-align: right;\">16.8269</td><td style = \"text-align: right;\">2.82298</td><td style = \"text-align: right;\">0.0</td><td style = \"text-align: right;\">0.0</td><td style = \"text-align: right;\">1.0</td><td style = \"text-align: right;\">0.0</td><td style = \"text-align: right;\">0.0</td><td style = \"text-align: right;\">0.0</td><td style = \"text-align: right;\">0.0</td><td style = \"text-align: right;\">0.0</td><td style = \"text-align: right;\">1.0</td><td style = \"text-align: right;\">0.0</td><td style = \"text-align: right;\">11.0</td><td style = \"text-align: right;\">1.21</td><td style = \"text-align: right;\">1.331</td><td style = \"text-align: right;\">1.4641</td><td style = \"text-align: left;\">7150</td><td style = \"text-align: left;\">20</td><td style = \"text-align: left;\">8770</td><td style = \"text-align: left;\">21</td></tr><tr><td class = \"rowNumber\" style = \"font-weight: bold; text-align: right;\">5144</td><td style = \"text-align: right;\">24.0385</td><td style = \"text-align: right;\">3.17966</td><td style = \"text-align: right;\">1.0</td><td style = \"text-align: right;\">0.0</td><td style = \"text-align: right;\">0.0</td><td style = \"text-align: right;\">0.0</td><td style = \"text-align: right;\">1.0</td><td style = \"text-align: right;\">0.0</td><td style = \"text-align: right;\">0.0</td><td style = \"text-align: right;\">0.0</td><td style = \"text-align: right;\">1.0</td><td style = \"text-align: right;\">0.0</td><td style = \"text-align: right;\">17.0</td><td style = \"text-align: right;\">2.89</td><td style = \"text-align: right;\">4.913</td><td style = \"text-align: right;\">8.3521</td><td style = \"text-align: left;\">2550</td><td style = \"text-align: left;\">8</td><td style = \"text-align: left;\">9480</td><td style = \"text-align: left;\">22</td></tr><tr><td class = \"rowNumber\" style = \"font-weight: bold; text-align: right;\">5145</td><td style = \"text-align: right;\">13.8462</td><td style = \"text-align: right;\">2.62801</td><td style = \"text-align: right;\">0.0</td><td style = \"text-align: right;\">0.0</td><td style = \"text-align: right;\">0.0</td><td style = \"text-align: right;\">0.0</td><td style = \"text-align: right;\">1.0</td><td style = \"text-align: right;\">0.0</td><td style = \"text-align: right;\">0.0</td><td style = \"text-align: right;\">0.0</td><td style = \"text-align: right;\">1.0</td><td style = \"text-align: right;\">0.0</td><td style = \"text-align: right;\">10.0</td><td style = \"text-align: right;\">1.0</td><td style = \"text-align: right;\">1.0</td><td style = \"text-align: right;\">1.0</td><td style = \"text-align: left;\">800</td><td style = \"text-align: left;\">2</td><td style = \"text-align: left;\">770</td><td style = \"text-align: left;\">4</td></tr><tr><td class = \"rowNumber\" style = \"font-weight: bold; text-align: right;\">5146</td><td style = \"text-align: right;\">14.7692</td><td style = \"text-align: right;\">2.69255</td><td style = \"text-align: right;\">0.0</td><td style = \"text-align: right;\">0.0</td><td style = \"text-align: right;\">0.0</td><td style = \"text-align: right;\">0.0</td><td style = \"text-align: right;\">1.0</td><td style = \"text-align: right;\">0.0</td><td style = \"text-align: right;\">0.0</td><td style = \"text-align: right;\">0.0</td><td style = \"text-align: right;\">1.0</td><td style = \"text-align: right;\">0.0</td><td style = \"text-align: right;\">9.0</td><td style = \"text-align: right;\">0.81</td><td style = \"text-align: right;\">0.729</td><td style = \"text-align: right;\">0.6561</td><td style = \"text-align: left;\">4700</td><td style = \"text-align: left;\">16</td><td style = \"text-align: left;\">4970</td><td style = \"text-align: left;\">9</td></tr><tr><td class = \"rowNumber\" style = \"font-weight: bold; text-align: right;\">5147</td><td style = \"text-align: right;\">23.0769</td><td style = \"text-align: right;\">3.13883</td><td style = \"text-align: right;\">1.0</td><td style = \"text-align: right;\">0.0</td><td style = \"text-align: right;\">0.0</td><td style = \"text-align: right;\">1.0</td><td style = \"text-align: right;\">0.0</td><td style = \"text-align: right;\">0.0</td><td style = \"text-align: right;\">0.0</td><td style = \"text-align: right;\">0.0</td><td style = \"text-align: right;\">1.0</td><td style = \"text-align: right;\">0.0</td><td style = \"text-align: right;\">12.0</td><td style = \"text-align: right;\">1.44</td><td style = \"text-align: right;\">1.728</td><td style = \"text-align: right;\">2.0736</td><td style = \"text-align: left;\">4110</td><td style = \"text-align: left;\">13</td><td style = \"text-align: left;\">8680</td><td style = \"text-align: left;\">20</td></tr><tr><td class = \"rowNumber\" style = \"font-weight: bold; text-align: right;\">5148</td><td style = \"text-align: right;\">38.4615</td><td style = \"text-align: right;\">3.64966</td><td style = \"text-align: right;\">0.0</td><td style = \"text-align: right;\">0.0</td><td style = \"text-align: right;\">0.0</td><td style = \"text-align: right;\">0.0</td><td style = \"text-align: right;\">0.0</td><td style = \"text-align: right;\">1.0</td><td style = \"text-align: right;\">0.0</td><td style = \"text-align: right;\">0.0</td><td style = \"text-align: right;\">1.0</td><td style = \"text-align: right;\">0.0</td><td style = \"text-align: right;\">11.0</td><td style = \"text-align: right;\">1.21</td><td style = \"text-align: right;\">1.331</td><td style = \"text-align: right;\">1.4641</td><td style = \"text-align: left;\">1550</td><td style = \"text-align: left;\">4</td><td style = \"text-align: left;\">3680</td><td style = \"text-align: left;\">6</td></tr><tr><td class = \"rowNumber\" style = \"font-weight: bold; text-align: right;\">5149</td><td style = \"text-align: right;\">32.967</td><td style = \"text-align: right;\">3.49551</td><td style = \"text-align: right;\">0.0</td><td style = \"text-align: right;\">0.0</td><td style = \"text-align: right;\">1.0</td><td style = \"text-align: right;\">0.0</td><td style = \"text-align: right;\">0.0</td><td style = \"text-align: right;\">0.0</td><td style = \"text-align: right;\">0.0</td><td style = \"text-align: right;\">0.0</td><td style = \"text-align: right;\">1.0</td><td style = \"text-align: right;\">0.0</td><td style = \"text-align: right;\">10.0</td><td style = \"text-align: right;\">1.0</td><td style = \"text-align: right;\">1.0</td><td style = \"text-align: right;\">1.0</td><td style = \"text-align: left;\">2920</td><td style = \"text-align: left;\">9</td><td style = \"text-align: left;\">6570</td><td style = \"text-align: left;\">11</td></tr><tr><td class = \"rowNumber\" style = \"font-weight: bold; text-align: right;\">5150</td><td style = \"text-align: right;\">17.3077</td><td style = \"text-align: right;\">2.85115</td><td style = \"text-align: right;\">0.0</td><td style = \"text-align: right;\">0.0</td><td style = \"text-align: right;\">0.0</td><td style = \"text-align: right;\">0.0</td><td style = \"text-align: right;\">0.0</td><td style = \"text-align: right;\">1.0</td><td style = \"text-align: right;\">0.0</td><td style = \"text-align: right;\">0.0</td><td style = \"text-align: right;\">1.0</td><td style = \"text-align: right;\">0.0</td><td style = \"text-align: right;\">14.0</td><td style = \"text-align: right;\">1.96</td><td style = \"text-align: right;\">2.744</td><td style = \"text-align: right;\">3.8416</td><td style = \"text-align: left;\">1610</td><td style = \"text-align: left;\">5</td><td style = \"text-align: left;\">7460</td><td style = \"text-align: left;\">14</td></tr></tbody></table></div>"
      ],
      "text/latex": [
       "\\begin{tabular}{r|cccccccccc}\n",
       "\t& wage & lwage & sex & shs & hsg & scl & clg & ad & mw & \\\\\n",
       "\t\\hline\n",
       "\t& Float64 & Float64 & Float64 & Float64 & Float64 & Float64 & Float64 & Float64 & Float64 & \\\\\n",
       "\t\\hline\n",
       "\t1 & 9.61538 & 2.26336 & 1.0 & 0.0 & 0.0 & 0.0 & 1.0 & 0.0 & 0.0 & $\\dots$ \\\\\n",
       "\t2 & 48.0769 & 3.8728 & 0.0 & 0.0 & 0.0 & 0.0 & 1.0 & 0.0 & 0.0 & $\\dots$ \\\\\n",
       "\t3 & 11.0577 & 2.40313 & 0.0 & 0.0 & 1.0 & 0.0 & 0.0 & 0.0 & 0.0 & $\\dots$ \\\\\n",
       "\t4 & 13.9423 & 2.63493 & 1.0 & 0.0 & 0.0 & 0.0 & 0.0 & 1.0 & 0.0 & $\\dots$ \\\\\n",
       "\t5 & 28.8462 & 3.36198 & 1.0 & 0.0 & 0.0 & 0.0 & 1.0 & 0.0 & 0.0 & $\\dots$ \\\\\n",
       "\t6 & 11.7308 & 2.46222 & 1.0 & 0.0 & 0.0 & 0.0 & 1.0 & 0.0 & 0.0 & $\\dots$ \\\\\n",
       "\t7 & 19.2308 & 2.95651 & 1.0 & 0.0 & 1.0 & 0.0 & 0.0 & 0.0 & 0.0 & $\\dots$ \\\\\n",
       "\t8 & 19.2308 & 2.95651 & 0.0 & 0.0 & 1.0 & 0.0 & 0.0 & 0.0 & 0.0 & $\\dots$ \\\\\n",
       "\t9 & 12.0 & 2.48491 & 1.0 & 0.0 & 1.0 & 0.0 & 0.0 & 0.0 & 0.0 & $\\dots$ \\\\\n",
       "\t10 & 19.2308 & 2.95651 & 1.0 & 0.0 & 0.0 & 0.0 & 1.0 & 0.0 & 0.0 & $\\dots$ \\\\\n",
       "\t11 & 17.3077 & 2.85115 & 1.0 & 0.0 & 1.0 & 0.0 & 0.0 & 0.0 & 0.0 & $\\dots$ \\\\\n",
       "\t12 & 12.0192 & 2.48651 & 0.0 & 0.0 & 1.0 & 0.0 & 0.0 & 0.0 & 0.0 & $\\dots$ \\\\\n",
       "\t13 & 12.0192 & 2.48651 & 1.0 & 0.0 & 0.0 & 1.0 & 0.0 & 0.0 & 0.0 & $\\dots$ \\\\\n",
       "\t14 & 13.4615 & 2.59984 & 1.0 & 0.0 & 0.0 & 1.0 & 0.0 & 0.0 & 0.0 & $\\dots$ \\\\\n",
       "\t15 & 16.3462 & 2.79399 & 1.0 & 0.0 & 0.0 & 0.0 & 1.0 & 0.0 & 0.0 & $\\dots$ \\\\\n",
       "\t16 & 27.8846 & 3.32808 & 0.0 & 0.0 & 1.0 & 0.0 & 0.0 & 0.0 & 0.0 & $\\dots$ \\\\\n",
       "\t17 & 21.6 & 3.07269 & 0.0 & 0.0 & 1.0 & 0.0 & 0.0 & 0.0 & 0.0 & $\\dots$ \\\\\n",
       "\t18 & 8.65385 & 2.158 & 0.0 & 0.0 & 0.0 & 1.0 & 0.0 & 0.0 & 0.0 & $\\dots$ \\\\\n",
       "\t19 & 19.2308 & 2.95651 & 0.0 & 0.0 & 1.0 & 0.0 & 0.0 & 0.0 & 0.0 & $\\dots$ \\\\\n",
       "\t20 & 13.1868 & 2.57922 & 0.0 & 0.0 & 1.0 & 0.0 & 0.0 & 0.0 & 0.0 & $\\dots$ \\\\\n",
       "\t21 & 10.6838 & 2.36872 & 1.0 & 0.0 & 0.0 & 1.0 & 0.0 & 0.0 & 0.0 & $\\dots$ \\\\\n",
       "\t22 & 11.5385 & 2.44569 & 1.0 & 0.0 & 0.0 & 1.0 & 0.0 & 0.0 & 0.0 & $\\dots$ \\\\\n",
       "\t23 & 17.7885 & 2.87855 & 1.0 & 0.0 & 0.0 & 0.0 & 0.0 & 1.0 & 0.0 & $\\dots$ \\\\\n",
       "\t24 & 19.2308 & 2.95651 & 0.0 & 0.0 & 0.0 & 0.0 & 1.0 & 0.0 & 0.0 & $\\dots$ \\\\\n",
       "\t$\\dots$ & $\\dots$ & $\\dots$ & $\\dots$ & $\\dots$ & $\\dots$ & $\\dots$ & $\\dots$ & $\\dots$ & $\\dots$ &  \\\\\n",
       "\\end{tabular}\n"
      ],
      "text/plain": [
       "\u001b[1m5150×20 DataFrame\u001b[0m\n",
       "\u001b[1m  Row \u001b[0m│\u001b[1m wage     \u001b[0m\u001b[1m lwage   \u001b[0m\u001b[1m sex     \u001b[0m\u001b[1m shs     \u001b[0m\u001b[1m hsg     \u001b[0m\u001b[1m scl     \u001b[0m\u001b[1m clg     \u001b[0m\u001b[1m ad    \u001b[0m ⋯\n",
       "      │\u001b[90m Float64  \u001b[0m\u001b[90m Float64 \u001b[0m\u001b[90m Float64 \u001b[0m\u001b[90m Float64 \u001b[0m\u001b[90m Float64 \u001b[0m\u001b[90m Float64 \u001b[0m\u001b[90m Float64 \u001b[0m\u001b[90m Float6\u001b[0m ⋯\n",
       "──────┼─────────────────────────────────────────────────────────────────────────\n",
       "    1 │  9.61538  2.26336      1.0      0.0      0.0      0.0      1.0      0. ⋯\n",
       "    2 │ 48.0769   3.8728       0.0      0.0      0.0      0.0      1.0      0.\n",
       "    3 │ 11.0577   2.40313      0.0      0.0      1.0      0.0      0.0      0.\n",
       "    4 │ 13.9423   2.63493      1.0      0.0      0.0      0.0      0.0      1.\n",
       "    5 │ 28.8462   3.36198      1.0      0.0      0.0      0.0      1.0      0. ⋯\n",
       "    6 │ 11.7308   2.46222      1.0      0.0      0.0      0.0      1.0      0.\n",
       "    7 │ 19.2308   2.95651      1.0      0.0      1.0      0.0      0.0      0.\n",
       "    8 │ 19.2308   2.95651      0.0      0.0      1.0      0.0      0.0      0.\n",
       "  ⋮   │    ⋮         ⋮        ⋮        ⋮        ⋮        ⋮        ⋮        ⋮   ⋱\n",
       " 5144 │ 24.0385   3.17966      1.0      0.0      0.0      0.0      1.0      0. ⋯\n",
       " 5145 │ 13.8462   2.62801      0.0      0.0      0.0      0.0      1.0      0.\n",
       " 5146 │ 14.7692   2.69255      0.0      0.0      0.0      0.0      1.0      0.\n",
       " 5147 │ 23.0769   3.13883      1.0      0.0      0.0      1.0      0.0      0.\n",
       " 5148 │ 38.4615   3.64966      0.0      0.0      0.0      0.0      0.0      1. ⋯\n",
       " 5149 │ 32.967    3.49551      0.0      0.0      1.0      0.0      0.0      0.\n",
       " 5150 │ 17.3077   2.85115      0.0      0.0      0.0      0.0      0.0      1.\n",
       "\u001b[36m                                                13 columns and 5135 rows omitted\u001b[0m"
      ]
     },
     "metadata": {},
     "output_type": "display_data"
    }
   ],
   "source": [
    "#eliminando variables que pueden causar multicolinealidad\n",
    "df = dropmissing(df, [:ad, :ne])"
   ]
  },
  {
   "cell_type": "code",
   "execution_count": 41,
   "metadata": {},
   "outputs": [
    {
     "data": {
      "text/plain": [
       "StatsModels.TableRegressionModel{LinearModel{GLM.LmResp{Vector{Float64}}, GLM.DensePredChol{Float64, LinearAlgebra.CholeskyPivoted{Float64, Matrix{Float64}, Vector{Int64}}}}, Matrix{Float64}}\n",
       "\n",
       "lwage ~ 1 + sex + shs + hsg + scl + clg + mw + so + we + occ2 + ind2\n",
       "\n",
       "Coefficients:\n",
       "───────────────────────────────────────────────────────────────────────────────\n",
       "                  Coef.  Std. Error       t  Pr(>|t|)   Lower 95%     Upper 95%\n",
       "───────────────────────────────────────────────────────────────────────────────\n",
       "(Intercept)   3.83899     0.0811716   47.29    <1e-99   3.67986     3.99812\n",
       "sex          -0.0649486   0.0152641   -4.25    <1e-04  -0.0948727  -0.0350244\n",
       "shs          -0.53551     0.0512017  -10.46    <1e-24  -0.635887   -0.435132\n",
       "hsg          -0.459379    0.0273044  -16.82    <1e-61  -0.512907   -0.40585\n",
       "scl          -0.386357    0.0255448  -15.12    <1e-49  -0.436435   -0.336278\n",
       "clg          -0.187943    0.0233293   -8.06    <1e-15  -0.233678   -0.142207\n",
       "mw           -0.0383033   0.0196333   -1.95    0.0511  -0.076793    0.000186479\n",
       "so           -0.0456363   0.0189971   -2.40    0.0163  -0.0828787  -0.00839386\n",
       "we            0.0107841   0.0204133    0.53    0.5973  -0.0292347   0.050803\n",
       "occ2: 2      -0.0892601   0.0347576   -2.57    0.0103  -0.1574     -0.0211202\n",
       "occ2: 3      -0.0344812   0.039403    -0.88    0.3816  -0.111728    0.0427656\n",
       "occ2: 4      -0.119029    0.0527394   -2.26    0.0241  -0.222421   -0.0156373\n",
       "occ2: 5      -0.211968    0.0613744   -3.45    0.0006  -0.332288   -0.0916482\n",
       "occ2: 6      -0.428372    0.0510408   -8.39    <1e-16  -0.528434   -0.32831\n",
       "occ2: 7      -0.0553695   0.057439    -0.96    0.3351  -0.167974    0.0572355\n",
       "occ2: 8      -0.398246    0.0446303   -8.92    <1e-18  -0.48574    -0.310751\n",
       "occ2: 9      -0.223201    0.0468851   -4.76    <1e-05  -0.315116   -0.131286\n",
       "occ2: 10     -0.0228707   0.0402742   -0.57    0.5701  -0.101825    0.0560839\n",
       "occ2: 11     -0.471606    0.0604154   -7.81    <1e-14  -0.590046   -0.353166\n",
       "occ2: 12     -0.324911    0.0564203   -5.76    <1e-08  -0.435519   -0.214302\n",
       "occ2: 13     -0.363527    0.0462959   -7.85    <1e-14  -0.454287   -0.272767\n",
       "occ2: 14     -0.474737    0.051425    -9.23    <1e-19  -0.575552   -0.373922\n",
       "occ2: 15     -0.48914     0.0525881   -9.30    <1e-19  -0.592236   -0.386045\n",
       "occ2: 16     -0.239833    0.0329699   -7.27    <1e-12  -0.304468   -0.175198\n",
       "occ2: 17     -0.41401     0.028371   -14.59    <1e-46  -0.469629   -0.35839\n",
       "occ2: 18     -0.341085    0.199892    -1.71    0.0880  -0.73296     0.0507893\n",
       "occ2: 19     -0.257116    0.0502862   -5.11    <1e-06  -0.355698   -0.158533\n",
       "occ2: 20     -0.216685    0.0415631   -5.21    <1e-06  -0.298166   -0.135203\n",
       "occ2: 21     -0.295124    0.0387127   -7.62    <1e-13  -0.371018   -0.219231\n",
       "occ2: 22     -0.409851    0.0421398   -9.73    <1e-21  -0.492463   -0.327239\n",
       "ind2: 3      -0.106271    0.100029    -1.06    0.2881  -0.302371    0.0898293\n",
       "ind2: 4      -0.249408    0.0785477   -3.18    0.0015  -0.403395   -0.0954207\n",
       "ind2: 5      -0.256766    0.0823539   -3.12    0.0018  -0.418215   -0.0953166\n",
       "ind2: 6      -0.247846    0.0794015   -3.12    0.0018  -0.403507   -0.0921847\n",
       "ind2: 7      -0.146764    0.094689    -1.55    0.1212  -0.332395    0.0388676\n",
       "ind2: 8      -0.25145     0.0956237   -2.63    0.0086  -0.438913   -0.0639865\n",
       "ind2: 9      -0.397852    0.0778434   -5.11    <1e-06  -0.550458   -0.245246\n",
       "ind2: 10     -0.192116    0.0856574   -2.24    0.0249  -0.360041   -0.0241906\n",
       "ind2: 11     -0.157913    0.0837333   -1.89    0.0594  -0.322066    0.00623996\n",
       "ind2: 12     -0.0890622   0.0802821   -1.11    0.2673  -0.24645     0.0683251\n",
       "ind2: 13     -0.177269    0.0916255   -1.93    0.0531  -0.356894    0.00235594\n",
       "ind2: 14     -0.206892    0.0780891   -2.65    0.0081  -0.35998    -0.0538034\n",
       "ind2: 15     -0.301992    0.151377    -1.99    0.0461  -0.598757   -0.00522762\n",
       "ind2: 16     -0.335544    0.0829327   -4.05    <1e-04  -0.498128   -0.172961\n",
       "ind2: 17     -0.299561    0.0820193   -3.65    0.0003  -0.460354   -0.138768\n",
       "ind2: 18     -0.341003    0.0790272   -4.32    <1e-04  -0.495931   -0.186076\n",
       "ind2: 19     -0.380244    0.0893714   -4.25    <1e-04  -0.55545    -0.205037\n",
       "ind2: 20     -0.583293    0.0829745   -7.03    <1e-11  -0.745958   -0.420627\n",
       "ind2: 21     -0.327382    0.081588    -4.01    <1e-04  -0.487329   -0.167434\n",
       "ind2: 22     -0.106346    0.080457    -1.32    0.1863  -0.264077    0.0513838\n",
       "───────────────────────────────────────────────────────────────────────────────"
      ]
     },
     "metadata": {},
     "output_type": "display_data"
    }
   ],
   "source": [
    "basic_model = lm(@formula(lwage ~ sex+shs+hsg+scl+clg+mw+so+we+occ2+ind2), df)"
   ]
  },
  {
   "cell_type": "markdown",
   "metadata": {},
   "source": [
    "## 3. Linear Regressions"
   ]
  },
  {
   "cell_type": "code",
   "execution_count": null,
   "metadata": {},
   "outputs": [],
   "source": []
  }
 ],
 "metadata": {
  "kernelspec": {
   "display_name": "Julia 1.10.5",
   "language": "julia",
   "name": "julia-1.10"
  },
  "language_info": {
   "file_extension": ".jl",
   "mimetype": "application/julia",
   "name": "julia",
   "version": "1.10.5"
  }
 },
 "nbformat": 4,
 "nbformat_minor": 2
}
