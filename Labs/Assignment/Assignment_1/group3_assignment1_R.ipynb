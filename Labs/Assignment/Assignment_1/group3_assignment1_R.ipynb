{
 "cells": [
  {
   "cell_type": "code",
   "execution_count": 2,
   "metadata": {
    "vscode": {
     "languageId": "r"
    }
   },
   "outputs": [
    {
     "name": "stderr",
     "output_type": "stream",
     "text": [
      "Installing package into 'C:/Users/ammt2/AppData/Local/R/win-library/4.3'\n",
      "(as 'lib' is unspecified)\n",
      "\n"
     ]
    },
    {
     "name": "stdout",
     "output_type": "stream",
     "text": [
      "package 'tidyverse' successfully unpacked and MD5 sums checked\n",
      "\n",
      "The downloaded binary packages are in\n",
      "\tC:\\Users\\ammt2\\AppData\\Local\\Temp\\RtmpeqJFfb\\downloaded_packages\n"
     ]
    },
    {
     "name": "stderr",
     "output_type": "stream",
     "text": [
      "Installing packages into 'C:/Users/ammt2/AppData/Local/R/win-library/4.3'\n",
      "(as 'lib' is unspecified)\n",
      "\n"
     ]
    },
    {
     "name": "stdout",
     "output_type": "stream",
     "text": [
      "package 'fastDummies' successfully unpacked and MD5 sums checked\n",
      "package 'recipes' successfully unpacked and MD5 sums checked\n",
      "\n",
      "The downloaded binary packages are in\n",
      "\tC:\\Users\\ammt2\\AppData\\Local\\Temp\\RtmpeqJFfb\\downloaded_packages\n"
     ]
    },
    {
     "name": "stderr",
     "output_type": "stream",
     "text": [
      "Installing package into 'C:/Users/ammt2/AppData/Local/R/win-library/4.3'\n",
      "(as 'lib' is unspecified)\n",
      "\n"
     ]
    },
    {
     "name": "stdout",
     "output_type": "stream",
     "text": [
      "package 'psych' successfully unpacked and MD5 sums checked\n",
      "\n",
      "The downloaded binary packages are in\n",
      "\tC:\\Users\\ammt2\\AppData\\Local\\Temp\\RtmpeqJFfb\\downloaded_packages\n"
     ]
    }
   ],
   "source": [
    "install.packages(\"tidyverse\")\n",
    "install.packages(c(\"fastDummies\", \"recipes\"))\n",
    "install.packages(\"psych\")\n",
    "\n"
   ]
  },
  {
   "cell_type": "code",
   "execution_count": 3,
   "metadata": {
    "vscode": {
     "languageId": "r"
    }
   },
   "outputs": [
    {
     "name": "stderr",
     "output_type": "stream",
     "text": [
      "Warning message:\n",
      "\"package 'tidyverse' was built under R version 4.3.3\"\n",
      "Warning message:\n",
      "\"package 'ggplot2' was built under R version 4.3.3\"\n",
      "── \u001b[1mAttaching core tidyverse packages\u001b[22m ──────────────────────── tidyverse 2.0.0 ──\n",
      "\u001b[32m✔\u001b[39m \u001b[34mdplyr    \u001b[39m 1.1.3     \u001b[32m✔\u001b[39m \u001b[34mreadr    \u001b[39m 2.1.4\n",
      "\u001b[32m✔\u001b[39m \u001b[34mforcats  \u001b[39m 1.0.0     \u001b[32m✔\u001b[39m \u001b[34mstringr  \u001b[39m 1.5.0\n",
      "\u001b[32m✔\u001b[39m \u001b[34mggplot2  \u001b[39m 3.5.1     \u001b[32m✔\u001b[39m \u001b[34mtibble   \u001b[39m 3.2.1\n",
      "\u001b[32m✔\u001b[39m \u001b[34mlubridate\u001b[39m 1.9.3     \u001b[32m✔\u001b[39m \u001b[34mtidyr    \u001b[39m 1.3.0\n",
      "\u001b[32m✔\u001b[39m \u001b[34mpurrr    \u001b[39m 1.0.2     \n",
      "── \u001b[1mConflicts\u001b[22m ────────────────────────────────────────── tidyverse_conflicts() ──\n",
      "\u001b[31m✖\u001b[39m \u001b[34mdplyr\u001b[39m::\u001b[32mfilter()\u001b[39m masks \u001b[34mstats\u001b[39m::filter()\n",
      "\u001b[31m✖\u001b[39m \u001b[34mdplyr\u001b[39m::\u001b[32mlag()\u001b[39m    masks \u001b[34mstats\u001b[39m::lag()\n",
      "\u001b[36mℹ\u001b[39m Use the conflicted package (\u001b[3m\u001b[34m<http://conflicted.r-lib.org/>\u001b[39m\u001b[23m) to force all conflicts to become errors\n",
      "Warning message:\n",
      "\"package 'fastDummies' was built under R version 4.3.3\"\n",
      "Warning message:\n",
      "\"package 'caTools' was built under R version 4.3.3\"\n",
      "Warning message:\n",
      "\"package 'psych' was built under R version 4.3.3\"\n",
      "\n",
      "Attaching package: 'psych'\n",
      "\n",
      "\n",
      "The following objects are masked from 'package:ggplot2':\n",
      "\n",
      "    %+%, alpha\n",
      "\n",
      "\n"
     ]
    }
   ],
   "source": [
    "# importa las librerias\n",
    "library(tidyverse)\n",
    "library(dplyr)\n",
    "library('fastDummies')\n",
    "library(ggplot2)\n",
    "library(caTools)\n",
    "library(psych)\n"
   ]
  },
  {
   "cell_type": "markdown",
   "metadata": {},
   "source": [
    "## 1. Data analysis"
   ]
  },
  {
   "cell_type": "markdown",
   "metadata": {},
   "source": [
    "### 1.1"
   ]
  },
  {
   "cell_type": "code",
   "execution_count": 4,
   "metadata": {
    "vscode": {
     "languageId": "r"
    }
   },
   "outputs": [
    {
     "data": {
      "text/html": [
       "<table class=\"dataframe\">\n",
       "<caption>A data.frame: 6 × 21</caption>\n",
       "<thead>\n",
       "\t<tr><th></th><th scope=col>rownames</th><th scope=col>wage</th><th scope=col>lwage</th><th scope=col>sex</th><th scope=col>shs</th><th scope=col>hsg</th><th scope=col>scl</th><th scope=col>clg</th><th scope=col>ad</th><th scope=col>mw</th><th scope=col>⋯</th><th scope=col>we</th><th scope=col>ne</th><th scope=col>exp1</th><th scope=col>exp2</th><th scope=col>exp3</th><th scope=col>exp4</th><th scope=col>occ</th><th scope=col>occ2</th><th scope=col>ind</th><th scope=col>ind2</th></tr>\n",
       "\t<tr><th></th><th scope=col>&lt;int&gt;</th><th scope=col>&lt;dbl&gt;</th><th scope=col>&lt;dbl&gt;</th><th scope=col>&lt;dbl&gt;</th><th scope=col>&lt;dbl&gt;</th><th scope=col>&lt;dbl&gt;</th><th scope=col>&lt;dbl&gt;</th><th scope=col>&lt;dbl&gt;</th><th scope=col>&lt;dbl&gt;</th><th scope=col>&lt;dbl&gt;</th><th scope=col>⋯</th><th scope=col>&lt;dbl&gt;</th><th scope=col>&lt;dbl&gt;</th><th scope=col>&lt;dbl&gt;</th><th scope=col>&lt;dbl&gt;</th><th scope=col>&lt;dbl&gt;</th><th scope=col>&lt;dbl&gt;</th><th scope=col>&lt;dbl&gt;</th><th scope=col>&lt;int&gt;</th><th scope=col>&lt;dbl&gt;</th><th scope=col>&lt;int&gt;</th></tr>\n",
       "</thead>\n",
       "<tbody>\n",
       "\t<tr><th scope=row>1</th><td>10</td><td> 9.615385</td><td>2.263364</td><td>1</td><td>0</td><td>0</td><td>0</td><td>1</td><td>0</td><td>0</td><td>⋯</td><td>0</td><td>1</td><td> 7</td><td>0.49</td><td> 0.343</td><td> 0.2401</td><td>3600</td><td>11</td><td>8370</td><td>18</td></tr>\n",
       "\t<tr><th scope=row>2</th><td>12</td><td>48.076923</td><td>3.872802</td><td>0</td><td>0</td><td>0</td><td>0</td><td>1</td><td>0</td><td>0</td><td>⋯</td><td>0</td><td>1</td><td>31</td><td>9.61</td><td>29.791</td><td>92.3521</td><td>3050</td><td>10</td><td>5070</td><td> 9</td></tr>\n",
       "\t<tr><th scope=row>3</th><td>15</td><td>11.057692</td><td>2.403126</td><td>0</td><td>0</td><td>1</td><td>0</td><td>0</td><td>0</td><td>0</td><td>⋯</td><td>0</td><td>1</td><td>18</td><td>3.24</td><td> 5.832</td><td>10.4976</td><td>6260</td><td>19</td><td> 770</td><td> 4</td></tr>\n",
       "\t<tr><th scope=row>4</th><td>18</td><td>13.942308</td><td>2.634928</td><td>1</td><td>0</td><td>0</td><td>0</td><td>0</td><td>1</td><td>0</td><td>⋯</td><td>0</td><td>1</td><td>25</td><td>6.25</td><td>15.625</td><td>39.0625</td><td> 420</td><td> 1</td><td>6990</td><td>12</td></tr>\n",
       "\t<tr><th scope=row>5</th><td>19</td><td>28.846154</td><td>3.361977</td><td>1</td><td>0</td><td>0</td><td>0</td><td>1</td><td>0</td><td>0</td><td>⋯</td><td>0</td><td>1</td><td>22</td><td>4.84</td><td>10.648</td><td>23.4256</td><td>2015</td><td> 6</td><td>9470</td><td>22</td></tr>\n",
       "\t<tr><th scope=row>6</th><td>30</td><td>11.730769</td><td>2.462215</td><td>1</td><td>0</td><td>0</td><td>0</td><td>1</td><td>0</td><td>0</td><td>⋯</td><td>0</td><td>1</td><td> 1</td><td>0.01</td><td> 0.001</td><td> 0.0001</td><td>1650</td><td> 5</td><td>7460</td><td>14</td></tr>\n",
       "</tbody>\n",
       "</table>\n"
      ],
      "text/latex": [
       "A data.frame: 6 × 21\n",
       "\\begin{tabular}{r|lllllllllllllllllllll}\n",
       "  & rownames & wage & lwage & sex & shs & hsg & scl & clg & ad & mw & ⋯ & we & ne & exp1 & exp2 & exp3 & exp4 & occ & occ2 & ind & ind2\\\\\n",
       "  & <int> & <dbl> & <dbl> & <dbl> & <dbl> & <dbl> & <dbl> & <dbl> & <dbl> & <dbl> & ⋯ & <dbl> & <dbl> & <dbl> & <dbl> & <dbl> & <dbl> & <dbl> & <int> & <dbl> & <int>\\\\\n",
       "\\hline\n",
       "\t1 & 10 &  9.615385 & 2.263364 & 1 & 0 & 0 & 0 & 1 & 0 & 0 & ⋯ & 0 & 1 &  7 & 0.49 &  0.343 &  0.2401 & 3600 & 11 & 8370 & 18\\\\\n",
       "\t2 & 12 & 48.076923 & 3.872802 & 0 & 0 & 0 & 0 & 1 & 0 & 0 & ⋯ & 0 & 1 & 31 & 9.61 & 29.791 & 92.3521 & 3050 & 10 & 5070 &  9\\\\\n",
       "\t3 & 15 & 11.057692 & 2.403126 & 0 & 0 & 1 & 0 & 0 & 0 & 0 & ⋯ & 0 & 1 & 18 & 3.24 &  5.832 & 10.4976 & 6260 & 19 &  770 &  4\\\\\n",
       "\t4 & 18 & 13.942308 & 2.634928 & 1 & 0 & 0 & 0 & 0 & 1 & 0 & ⋯ & 0 & 1 & 25 & 6.25 & 15.625 & 39.0625 &  420 &  1 & 6990 & 12\\\\\n",
       "\t5 & 19 & 28.846154 & 3.361977 & 1 & 0 & 0 & 0 & 1 & 0 & 0 & ⋯ & 0 & 1 & 22 & 4.84 & 10.648 & 23.4256 & 2015 &  6 & 9470 & 22\\\\\n",
       "\t6 & 30 & 11.730769 & 2.462215 & 1 & 0 & 0 & 0 & 1 & 0 & 0 & ⋯ & 0 & 1 &  1 & 0.01 &  0.001 &  0.0001 & 1650 &  5 & 7460 & 14\\\\\n",
       "\\end{tabular}\n"
      ],
      "text/markdown": [
       "\n",
       "A data.frame: 6 × 21\n",
       "\n",
       "| <!--/--> | rownames &lt;int&gt; | wage &lt;dbl&gt; | lwage &lt;dbl&gt; | sex &lt;dbl&gt; | shs &lt;dbl&gt; | hsg &lt;dbl&gt; | scl &lt;dbl&gt; | clg &lt;dbl&gt; | ad &lt;dbl&gt; | mw &lt;dbl&gt; | ⋯ ⋯ | we &lt;dbl&gt; | ne &lt;dbl&gt; | exp1 &lt;dbl&gt; | exp2 &lt;dbl&gt; | exp3 &lt;dbl&gt; | exp4 &lt;dbl&gt; | occ &lt;dbl&gt; | occ2 &lt;int&gt; | ind &lt;dbl&gt; | ind2 &lt;int&gt; |\n",
       "|---|---|---|---|---|---|---|---|---|---|---|---|---|---|---|---|---|---|---|---|---|---|\n",
       "| 1 | 10 |  9.615385 | 2.263364 | 1 | 0 | 0 | 0 | 1 | 0 | 0 | ⋯ | 0 | 1 |  7 | 0.49 |  0.343 |  0.2401 | 3600 | 11 | 8370 | 18 |\n",
       "| 2 | 12 | 48.076923 | 3.872802 | 0 | 0 | 0 | 0 | 1 | 0 | 0 | ⋯ | 0 | 1 | 31 | 9.61 | 29.791 | 92.3521 | 3050 | 10 | 5070 |  9 |\n",
       "| 3 | 15 | 11.057692 | 2.403126 | 0 | 0 | 1 | 0 | 0 | 0 | 0 | ⋯ | 0 | 1 | 18 | 3.24 |  5.832 | 10.4976 | 6260 | 19 |  770 |  4 |\n",
       "| 4 | 18 | 13.942308 | 2.634928 | 1 | 0 | 0 | 0 | 0 | 1 | 0 | ⋯ | 0 | 1 | 25 | 6.25 | 15.625 | 39.0625 |  420 |  1 | 6990 | 12 |\n",
       "| 5 | 19 | 28.846154 | 3.361977 | 1 | 0 | 0 | 0 | 1 | 0 | 0 | ⋯ | 0 | 1 | 22 | 4.84 | 10.648 | 23.4256 | 2015 |  6 | 9470 | 22 |\n",
       "| 6 | 30 | 11.730769 | 2.462215 | 1 | 0 | 0 | 0 | 1 | 0 | 0 | ⋯ | 0 | 1 |  1 | 0.01 |  0.001 |  0.0001 | 1650 |  5 | 7460 | 14 |\n",
       "\n"
      ],
      "text/plain": [
       "  rownames wage      lwage    sex shs hsg scl clg ad mw ⋯ we ne exp1 exp2\n",
       "1 10        9.615385 2.263364 1   0   0   0   1   0  0  ⋯ 0  1   7   0.49\n",
       "2 12       48.076923 3.872802 0   0   0   0   1   0  0  ⋯ 0  1  31   9.61\n",
       "3 15       11.057692 2.403126 0   0   1   0   0   0  0  ⋯ 0  1  18   3.24\n",
       "4 18       13.942308 2.634928 1   0   0   0   0   1  0  ⋯ 0  1  25   6.25\n",
       "5 19       28.846154 3.361977 1   0   0   0   1   0  0  ⋯ 0  1  22   4.84\n",
       "6 30       11.730769 2.462215 1   0   0   0   1   0  0  ⋯ 0  1   1   0.01\n",
       "  exp3   exp4    occ  occ2 ind  ind2\n",
       "1  0.343  0.2401 3600 11   8370 18  \n",
       "2 29.791 92.3521 3050 10   5070  9  \n",
       "3  5.832 10.4976 6260 19    770  4  \n",
       "4 15.625 39.0625  420  1   6990 12  \n",
       "5 10.648 23.4256 2015  6   9470 22  \n",
       "6  0.001  0.0001 1650  5   7460 14  "
      ]
     },
     "metadata": {},
     "output_type": "display_data"
    }
   ],
   "source": [
    "\n",
    "# Lee el archivo CSV\n",
    "data <- read.csv(\"../../../data/wage2015_subsample_inference.csv\")\n",
    "\n",
    "# Ve las primeras filas del DataFrame para confirmar la carga de datos\n",
    "head(data)\n"
   ]
  },
  {
   "cell_type": "markdown",
   "metadata": {},
   "source": [
    "### 1.2 "
   ]
  },
  {
   "cell_type": "code",
   "execution_count": 5,
   "metadata": {
    "vscode": {
     "languageId": "r"
    }
   },
   "outputs": [
    {
     "data": {
      "text/html": [
       "<style>\n",
       ".dl-inline {width: auto; margin:0; padding: 0}\n",
       ".dl-inline>dt, .dl-inline>dd {float: none; width: auto; display: inline-block}\n",
       ".dl-inline>dt::after {content: \":\\0020\"; padding-right: .5ex}\n",
       ".dl-inline>dt:not(:first-of-type) {padding-left: .5ex}\n",
       "</style><dl class=dl-inline><dt>rownames</dt><dd>0</dd><dt>wage</dt><dd>0</dd><dt>lwage</dt><dd>0</dd><dt>sex</dt><dd>0</dd><dt>shs</dt><dd>0</dd><dt>hsg</dt><dd>0</dd><dt>scl</dt><dd>0</dd><dt>clg</dt><dd>0</dd><dt>ad</dt><dd>0</dd><dt>mw</dt><dd>0</dd><dt>so</dt><dd>0</dd><dt>we</dt><dd>0</dd><dt>ne</dt><dd>0</dd><dt>exp1</dt><dd>0</dd><dt>exp2</dt><dd>0</dd><dt>exp3</dt><dd>0</dd><dt>exp4</dt><dd>0</dd><dt>occ</dt><dd>0</dd><dt>occ2</dt><dd>0</dd><dt>ind</dt><dd>0</dd><dt>ind2</dt><dd>0</dd></dl>\n"
      ],
      "text/latex": [
       "\\begin{description*}\n",
       "\\item[rownames] 0\n",
       "\\item[wage] 0\n",
       "\\item[lwage] 0\n",
       "\\item[sex] 0\n",
       "\\item[shs] 0\n",
       "\\item[hsg] 0\n",
       "\\item[scl] 0\n",
       "\\item[clg] 0\n",
       "\\item[ad] 0\n",
       "\\item[mw] 0\n",
       "\\item[so] 0\n",
       "\\item[we] 0\n",
       "\\item[ne] 0\n",
       "\\item[exp1] 0\n",
       "\\item[exp2] 0\n",
       "\\item[exp3] 0\n",
       "\\item[exp4] 0\n",
       "\\item[occ] 0\n",
       "\\item[occ2] 0\n",
       "\\item[ind] 0\n",
       "\\item[ind2] 0\n",
       "\\end{description*}\n"
      ],
      "text/markdown": [
       "rownames\n",
       ":   0wage\n",
       ":   0lwage\n",
       ":   0sex\n",
       ":   0shs\n",
       ":   0hsg\n",
       ":   0scl\n",
       ":   0clg\n",
       ":   0ad\n",
       ":   0mw\n",
       ":   0so\n",
       ":   0we\n",
       ":   0ne\n",
       ":   0exp1\n",
       ":   0exp2\n",
       ":   0exp3\n",
       ":   0exp4\n",
       ":   0occ\n",
       ":   0occ2\n",
       ":   0ind\n",
       ":   0ind2\n",
       ":   0\n",
       "\n"
      ],
      "text/plain": [
       "rownames     wage    lwage      sex      shs      hsg      scl      clg \n",
       "       0        0        0        0        0        0        0        0 \n",
       "      ad       mw       so       we       ne     exp1     exp2     exp3 \n",
       "       0        0        0        0        0        0        0        0 \n",
       "    exp4      occ     occ2      ind     ind2 \n",
       "       0        0        0        0        0 "
      ]
     },
     "metadata": {},
     "output_type": "display_data"
    }
   ],
   "source": [
    "missing_values <- colSums(is.na(data))\n",
    "missing_values\n",
    "# No presenta missing values"
   ]
  },
  {
   "cell_type": "markdown",
   "metadata": {},
   "source": [
    "### 1.3"
   ]
  },
  {
   "cell_type": "code",
   "execution_count": 6,
   "metadata": {
    "vscode": {
     "languageId": "r"
    }
   },
   "outputs": [
    {
     "data": {
      "text/html": [
       "<style>\n",
       ".list-inline {list-style: none; margin:0; padding: 0}\n",
       ".list-inline>li {display: inline-block}\n",
       ".list-inline>li:not(:last-child)::after {content: \"\\00b7\"; padding: 0 .5ex}\n",
       "</style>\n",
       "<ol class=list-inline><li>'rownames'</li><li>'wage'</li><li>'lwage'</li><li>'sex'</li><li>'shs'</li><li>'hsg'</li><li>'scl'</li><li>'clg'</li><li>'ad'</li><li>'mw'</li><li>'so'</li><li>'we'</li><li>'ne'</li><li>'exp1'</li><li>'exp2'</li><li>'exp3'</li><li>'exp4'</li><li>'occ'</li><li>'occ2'</li><li>'ind'</li><li>'ind2'</li></ol>\n"
      ],
      "text/latex": [
       "\\begin{enumerate*}\n",
       "\\item 'rownames'\n",
       "\\item 'wage'\n",
       "\\item 'lwage'\n",
       "\\item 'sex'\n",
       "\\item 'shs'\n",
       "\\item 'hsg'\n",
       "\\item 'scl'\n",
       "\\item 'clg'\n",
       "\\item 'ad'\n",
       "\\item 'mw'\n",
       "\\item 'so'\n",
       "\\item 'we'\n",
       "\\item 'ne'\n",
       "\\item 'exp1'\n",
       "\\item 'exp2'\n",
       "\\item 'exp3'\n",
       "\\item 'exp4'\n",
       "\\item 'occ'\n",
       "\\item 'occ2'\n",
       "\\item 'ind'\n",
       "\\item 'ind2'\n",
       "\\end{enumerate*}\n"
      ],
      "text/markdown": [
       "1. 'rownames'\n",
       "2. 'wage'\n",
       "3. 'lwage'\n",
       "4. 'sex'\n",
       "5. 'shs'\n",
       "6. 'hsg'\n",
       "7. 'scl'\n",
       "8. 'clg'\n",
       "9. 'ad'\n",
       "10. 'mw'\n",
       "11. 'so'\n",
       "12. 'we'\n",
       "13. 'ne'\n",
       "14. 'exp1'\n",
       "15. 'exp2'\n",
       "16. 'exp3'\n",
       "17. 'exp4'\n",
       "18. 'occ'\n",
       "19. 'occ2'\n",
       "20. 'ind'\n",
       "21. 'ind2'\n",
       "\n",
       "\n"
      ],
      "text/plain": [
       " [1] \"rownames\" \"wage\"     \"lwage\"    \"sex\"      \"shs\"      \"hsg\"     \n",
       " [7] \"scl\"      \"clg\"      \"ad\"       \"mw\"       \"so\"       \"we\"      \n",
       "[13] \"ne\"       \"exp1\"     \"exp2\"     \"exp3\"     \"exp4\"     \"occ\"     \n",
       "[19] \"occ2\"     \"ind\"      \"ind2\"    "
      ]
     },
     "metadata": {},
     "output_type": "display_data"
    }
   ],
   "source": [
    "# Obtener los nombres de las columnas\n",
    "column_names <- colnames(data)\n",
    "\n",
    "# Mostrar los nombres de las columnas\n",
    "column_names\n"
   ]
  },
  {
   "cell_type": "markdown",
   "metadata": {},
   "source": [
    "#### Ingreso"
   ]
  },
  {
   "cell_type": "code",
   "execution_count": 7,
   "metadata": {
    "vscode": {
     "languageId": "r"
    }
   },
   "outputs": [
    {
     "data": {
      "text/html": [
       "<dl>\n",
       "\t<dt>$promedio</dt>\n",
       "\t\t<dd>23.41</dd>\n",
       "\t<dt>$mediana</dt>\n",
       "\t\t<dd>19.23</dd>\n",
       "\t<dt>$desviación_estandar</dt>\n",
       "\t\t<dd>21</dd>\n",
       "\t<dt>$min</dt>\n",
       "\t\t<dd>3.02</dd>\n",
       "\t<dt>$max</dt>\n",
       "\t\t<dd>528.85</dd>\n",
       "\t<dt>$percentiles</dt>\n",
       "\t\t<dd><style>\n",
       ".dl-inline {width: auto; margin:0; padding: 0}\n",
       ".dl-inline>dt, .dl-inline>dd {float: none; width: auto; display: inline-block}\n",
       ".dl-inline>dt::after {content: \":\\0020\"; padding-right: .5ex}\n",
       ".dl-inline>dt:not(:first-of-type) {padding-left: .5ex}\n",
       "</style><dl class=dl-inline><dt>25%</dt><dd>13.46</dd><dt>50%</dt><dd>19.23</dd><dt>75%</dt><dd>27.78</dd><dt>90%</dt><dd>39.62</dd><dt>99%</dt><dd>86.54</dd></dl>\n",
       "</dd>\n",
       "</dl>\n"
      ],
      "text/latex": [
       "\\begin{description}\n",
       "\\item[\\$promedio] 23.41\n",
       "\\item[\\$mediana] 19.23\n",
       "\\item[\\$desviación\\_estandar] 21\n",
       "\\item[\\$min] 3.02\n",
       "\\item[\\$max] 528.85\n",
       "\\item[\\$percentiles] \\begin{description*}\n",
       "\\item[25\\textbackslash{}\\%] 13.46\n",
       "\\item[50\\textbackslash{}\\%] 19.23\n",
       "\\item[75\\textbackslash{}\\%] 27.78\n",
       "\\item[90\\textbackslash{}\\%] 39.62\n",
       "\\item[99\\textbackslash{}\\%] 86.54\n",
       "\\end{description*}\n",
       "\n",
       "\\end{description}\n"
      ],
      "text/markdown": [
       "$promedio\n",
       ":   23.41\n",
       "$mediana\n",
       ":   19.23\n",
       "$desviación_estandar\n",
       ":   21\n",
       "$min\n",
       ":   3.02\n",
       "$max\n",
       ":   528.85\n",
       "$percentiles\n",
       ":   25%\n",
       ":   13.4650%\n",
       ":   19.2375%\n",
       ":   27.7890%\n",
       ":   39.6299%\n",
       ":   86.54\n",
       "\n",
       "\n",
       "\n",
       "\n"
      ],
      "text/plain": [
       "$promedio\n",
       "[1] 23.41\n",
       "\n",
       "$mediana\n",
       "[1] 19.23\n",
       "\n",
       "$desviación_estandar\n",
       "[1] 21\n",
       "\n",
       "$min\n",
       "[1] 3.02\n",
       "\n",
       "$max\n",
       "[1] 528.85\n",
       "\n",
       "$percentiles\n",
       "  25%   50%   75%   90%   99% \n",
       "13.46 19.23 27.78 39.62 86.54 \n"
      ]
     },
     "metadata": {},
     "output_type": "display_data"
    }
   ],
   "source": [
    "# Media\n",
    "mean_wage <- round(mean(data$wage, na.rm = TRUE), 2)\n",
    "\n",
    "# Mediana\n",
    "median_wage <- round(median(data$wage, na.rm = TRUE), 2)\n",
    "\n",
    "# Desviación estándar\n",
    "sd_wage <- round(sd(data$wage, na.rm = TRUE), 2)\n",
    "\n",
    "# Mínimo y máximo\n",
    "min_wage <- round(min(data$wage, na.rm = TRUE), 2)\n",
    "max_wage <- round(max(data$wage, na.rm = TRUE), 2)\n",
    "\n",
    "# Percentiles (por ejemplo, 25%, 50%, 75%)\n",
    "percentiles_wage <- round(quantile(data$wage, probs = c(0.25, 0.50, 0.75,0.9,0.99), na.rm = TRUE), 2)\n",
    "\n",
    "# Imprimir resultados\n",
    "list(promedio = mean_wage, mediana = median_wage, desviación_estandar = sd_wage, min = min_wage, max = max_wage, percentiles = percentiles_wage)\n",
    "\n",
    "# Dado el tamaño de la desviación estándar con respecto a la media, \n",
    "# se puede inferir que hay un grupo pequeño que tiene ingresos muy altos."
   ]
  },
  {
   "cell_type": "markdown",
   "metadata": {},
   "source": [
    "#### Nivel educativo"
   ]
  },
  {
   "cell_type": "code",
   "execution_count": 8,
   "metadata": {
    "vscode": {
     "languageId": "r"
    }
   },
   "outputs": [
    {
     "data": {
      "text/html": [
       "<dl>\n",
       "\t<dt>$media</dt>\n",
       "\t\t<dd><style>\n",
       ".dl-inline {width: auto; margin:0; padding: 0}\n",
       ".dl-inline>dt, .dl-inline>dd {float: none; width: auto; display: inline-block}\n",
       ".dl-inline>dt::after {content: \":\\0020\"; padding-right: .5ex}\n",
       ".dl-inline>dt:not(:first-of-type) {padding-left: .5ex}\n",
       "</style><dl class=dl-inline><dt>shs</dt><dd>0.02</dd><dt>hsg</dt><dd>0.24</dd><dt>scl</dt><dd>0.28</dd><dt>clg</dt><dd>0.32</dd><dt>ad</dt><dd>0.14</dd></dl>\n",
       "</dd>\n",
       "\t<dt>$desviacion_estandar</dt>\n",
       "\t\t<dd><style>\n",
       ".dl-inline {width: auto; margin:0; padding: 0}\n",
       ".dl-inline>dt, .dl-inline>dd {float: none; width: auto; display: inline-block}\n",
       ".dl-inline>dt::after {content: \":\\0020\"; padding-right: .5ex}\n",
       ".dl-inline>dt:not(:first-of-type) {padding-left: .5ex}\n",
       "</style><dl class=dl-inline><dt>shs</dt><dd>0.15</dd><dt>hsg</dt><dd>0.43</dd><dt>scl</dt><dd>0.45</dd><dt>clg</dt><dd>0.47</dd><dt>ad</dt><dd>0.34</dd></dl>\n",
       "</dd>\n",
       "\t<dt>$total</dt>\n",
       "\t\t<dd><style>\n",
       ".dl-inline {width: auto; margin:0; padding: 0}\n",
       ".dl-inline>dt, .dl-inline>dd {float: none; width: auto; display: inline-block}\n",
       ".dl-inline>dt::after {content: \":\\0020\"; padding-right: .5ex}\n",
       ".dl-inline>dt:not(:first-of-type) {padding-left: .5ex}\n",
       "</style><dl class=dl-inline><dt>shs</dt><dd>120</dd><dt>hsg</dt><dd>1256</dd><dt>scl</dt><dd>1432</dd><dt>clg</dt><dd>1636</dd><dt>ad</dt><dd>706</dd></dl>\n",
       "</dd>\n",
       "</dl>\n"
      ],
      "text/latex": [
       "\\begin{description}\n",
       "\\item[\\$media] \\begin{description*}\n",
       "\\item[shs] 0.02\n",
       "\\item[hsg] 0.24\n",
       "\\item[scl] 0.28\n",
       "\\item[clg] 0.32\n",
       "\\item[ad] 0.14\n",
       "\\end{description*}\n",
       "\n",
       "\\item[\\$desviacion\\_estandar] \\begin{description*}\n",
       "\\item[shs] 0.15\n",
       "\\item[hsg] 0.43\n",
       "\\item[scl] 0.45\n",
       "\\item[clg] 0.47\n",
       "\\item[ad] 0.34\n",
       "\\end{description*}\n",
       "\n",
       "\\item[\\$total] \\begin{description*}\n",
       "\\item[shs] 120\n",
       "\\item[hsg] 1256\n",
       "\\item[scl] 1432\n",
       "\\item[clg] 1636\n",
       "\\item[ad] 706\n",
       "\\end{description*}\n",
       "\n",
       "\\end{description}\n"
      ],
      "text/markdown": [
       "$media\n",
       ":   shs\n",
       ":   0.02hsg\n",
       ":   0.24scl\n",
       ":   0.28clg\n",
       ":   0.32ad\n",
       ":   0.14\n",
       "\n",
       "\n",
       "$desviacion_estandar\n",
       ":   shs\n",
       ":   0.15hsg\n",
       ":   0.43scl\n",
       ":   0.45clg\n",
       ":   0.47ad\n",
       ":   0.34\n",
       "\n",
       "\n",
       "$total\n",
       ":   shs\n",
       ":   120hsg\n",
       ":   1256scl\n",
       ":   1432clg\n",
       ":   1636ad\n",
       ":   706\n",
       "\n",
       "\n",
       "\n",
       "\n"
      ],
      "text/plain": [
       "$media\n",
       " shs  hsg  scl  clg   ad \n",
       "0.02 0.24 0.28 0.32 0.14 \n",
       "\n",
       "$desviacion_estandar\n",
       " shs  hsg  scl  clg   ad \n",
       "0.15 0.43 0.45 0.47 0.34 \n",
       "\n",
       "$total\n",
       " shs  hsg  scl  clg   ad \n",
       " 120 1256 1432 1636  706 \n"
      ]
     },
     "metadata": {},
     "output_type": "display_data"
    }
   ],
   "source": [
    "# Selección de las columnas de nivel educativo\n",
    "Nivel_educativo <- data[, c('shs', 'hsg', 'scl', 'clg', 'ad')]\n",
    "\n",
    "# Cálculo de la media, desviación estándar y suma para cada columna\n",
    "media_educativo <- round(colMeans(Nivel_educativo, na.rm = TRUE), 2)  # Media\n",
    "desv_educativo <- round(apply(Nivel_educativo, 2, sd, na.rm = TRUE), 2)  # Desviación estándar\n",
    "suma_educativo <- colSums(Nivel_educativo, na.rm = TRUE)  # Suma\n",
    "\n",
    "# Imprimir los resultados\n",
    "list(media = media_educativo, desviacion_estandar = desv_educativo, total = suma_educativo)\n",
    "\n",
    "# Aquellos que tienen alguna escolaridad representan una pequeña porción de la muestra, solo el 2%.\n",
    "# En contraste, el grupo que posee un título universitario constituye la mayor parte de la muestra (32%),\n",
    "# junto con quienes tienen secundaria completa (24%) y alguna educación superior (28%).\n"
   ]
  },
  {
   "cell_type": "markdown",
   "metadata": {},
   "source": [
    "#### ubicación geografica"
   ]
  },
  {
   "cell_type": "code",
   "execution_count": 9,
   "metadata": {
    "vscode": {
     "languageId": "r"
    }
   },
   "outputs": [
    {
     "data": {
      "text/html": [
       "<dl>\n",
       "\t<dt>$media</dt>\n",
       "\t\t<dd><style>\n",
       ".dl-inline {width: auto; margin:0; padding: 0}\n",
       ".dl-inline>dt, .dl-inline>dd {float: none; width: auto; display: inline-block}\n",
       ".dl-inline>dt::after {content: \":\\0020\"; padding-right: .5ex}\n",
       ".dl-inline>dt:not(:first-of-type) {padding-left: .5ex}\n",
       "</style><dl class=dl-inline><dt>mw</dt><dd>0.26</dd><dt>so</dt><dd>0.3</dd><dt>we</dt><dd>0.22</dd><dt>ne</dt><dd>0.23</dd></dl>\n",
       "</dd>\n",
       "\t<dt>$desviacion_estandar</dt>\n",
       "\t\t<dd><style>\n",
       ".dl-inline {width: auto; margin:0; padding: 0}\n",
       ".dl-inline>dt, .dl-inline>dd {float: none; width: auto; display: inline-block}\n",
       ".dl-inline>dt::after {content: \":\\0020\"; padding-right: .5ex}\n",
       ".dl-inline>dt:not(:first-of-type) {padding-left: .5ex}\n",
       "</style><dl class=dl-inline><dt>mw</dt><dd>0.44</dd><dt>so</dt><dd>0.46</dd><dt>we</dt><dd>0.41</dd><dt>ne</dt><dd>0.42</dd></dl>\n",
       "</dd>\n",
       "\t<dt>$total</dt>\n",
       "\t\t<dd><style>\n",
       ".dl-inline {width: auto; margin:0; padding: 0}\n",
       ".dl-inline>dt, .dl-inline>dd {float: none; width: auto; display: inline-block}\n",
       ".dl-inline>dt::after {content: \":\\0020\"; padding-right: .5ex}\n",
       ".dl-inline>dt:not(:first-of-type) {padding-left: .5ex}\n",
       "</style><dl class=dl-inline><dt>mw</dt><dd>1337</dd><dt>so</dt><dd>1527</dd><dt>we</dt><dd>1113</dd><dt>ne</dt><dd>1173</dd></dl>\n",
       "</dd>\n",
       "</dl>\n"
      ],
      "text/latex": [
       "\\begin{description}\n",
       "\\item[\\$media] \\begin{description*}\n",
       "\\item[mw] 0.26\n",
       "\\item[so] 0.3\n",
       "\\item[we] 0.22\n",
       "\\item[ne] 0.23\n",
       "\\end{description*}\n",
       "\n",
       "\\item[\\$desviacion\\_estandar] \\begin{description*}\n",
       "\\item[mw] 0.44\n",
       "\\item[so] 0.46\n",
       "\\item[we] 0.41\n",
       "\\item[ne] 0.42\n",
       "\\end{description*}\n",
       "\n",
       "\\item[\\$total] \\begin{description*}\n",
       "\\item[mw] 1337\n",
       "\\item[so] 1527\n",
       "\\item[we] 1113\n",
       "\\item[ne] 1173\n",
       "\\end{description*}\n",
       "\n",
       "\\end{description}\n"
      ],
      "text/markdown": [
       "$media\n",
       ":   mw\n",
       ":   0.26so\n",
       ":   0.3we\n",
       ":   0.22ne\n",
       ":   0.23\n",
       "\n",
       "\n",
       "$desviacion_estandar\n",
       ":   mw\n",
       ":   0.44so\n",
       ":   0.46we\n",
       ":   0.41ne\n",
       ":   0.42\n",
       "\n",
       "\n",
       "$total\n",
       ":   mw\n",
       ":   1337so\n",
       ":   1527we\n",
       ":   1113ne\n",
       ":   1173\n",
       "\n",
       "\n",
       "\n",
       "\n"
      ],
      "text/plain": [
       "$media\n",
       "  mw   so   we   ne \n",
       "0.26 0.30 0.22 0.23 \n",
       "\n",
       "$desviacion_estandar\n",
       "  mw   so   we   ne \n",
       "0.44 0.46 0.41 0.42 \n",
       "\n",
       "$total\n",
       "  mw   so   we   ne \n",
       "1337 1527 1113 1173 \n"
      ]
     },
     "metadata": {},
     "output_type": "display_data"
    }
   ],
   "source": [
    "# Selección de las columnas de ubicación geográfica\n",
    "Ubicacion_geografica <- data[, c('mw', 'so', 'we', 'ne')]\n",
    "\n",
    "# Cálculo de la media, desviación estándar y suma para cada columna\n",
    "media_ubicacion <- round(colMeans(Ubicacion_geografica, na.rm = TRUE), 2)  # Media\n",
    "desv_ubicacion <- round(apply(Ubicacion_geografica, 2, sd, na.rm = TRUE), 2)  # Desviación estándar\n",
    "suma_ubicacion <- colSums(Ubicacion_geografica, na.rm = TRUE)  # Suma\n",
    "\n",
    "# Imprimir los resultados\n",
    "list(media = media_ubicacion, desviacion_estandar = desv_ubicacion, total = suma_ubicacion)\n",
    "\n",
    "# La muestra es relativamente equilibrada a nivel sento el suroeste el más representado con 30% del total\n",
    "\n"
   ]
  },
  {
   "cell_type": "markdown",
   "metadata": {},
   "source": [
    "#### Ocupación"
   ]
  },
  {
   "cell_type": "code",
   "execution_count": 10,
   "metadata": {
    "vscode": {
     "languageId": "r"
    }
   },
   "outputs": [
    {
     "name": "stdout",
     "output_type": "stream",
     "text": [
      "\n",
      "  1   2   3   4   5   6   7   8   9  10  11  12  13  14  15  16  17  18  19  20 \n",
      "603 331 224 106  73 120  92 271 142 301  86 103 237 117 117 546 670   6 229 208 \n",
      " 21  22 \n",
      "338 230 \n"
     ]
    }
   ],
   "source": [
    "# Contar los valores únicos en la columna 'occ2'\n",
    "value_counts <- table(data$occ2)\n",
    "\n",
    "# Mostrar los conteos\n",
    "print(value_counts)\n"
   ]
  },
  {
   "cell_type": "markdown",
   "metadata": {},
   "source": [
    "#### Industría"
   ]
  },
  {
   "cell_type": "code",
   "execution_count": 11,
   "metadata": {
    "vscode": {
     "languageId": "r"
    }
   },
   "outputs": [
    {
     "name": "stdout",
     "output_type": "stream",
     "text": [
      "\n",
      "  2   3   4   5   6   7   8   9  10  11  12  13  14  15  16  17  18  19  20  21 \n",
      " 45  52 297 195 373  69  67 616 143 169 284  84 484  14 185 408 664 108 363 223 \n",
      " 22 \n",
      "307 \n"
     ]
    }
   ],
   "source": [
    "# Contar los valores únicos en la columna 'occ2'\n",
    "value_counts <- table(data$ind2)\n",
    "\n",
    "# Mostrar los conteos\n",
    "print(value_counts)\n"
   ]
  },
  {
   "cell_type": "markdown",
   "metadata": {},
   "source": [
    "### 1.4"
   ]
  },
  {
   "cell_type": "markdown",
   "metadata": {},
   "source": [
    "Mujeres"
   ]
  },
  {
   "cell_type": "code",
   "execution_count": 12,
   "metadata": {
    "vscode": {
     "languageId": "r"
    }
   },
   "outputs": [
    {
     "name": "stdout",
     "output_type": "stream",
     "text": [
      "[1] \"El número de mujeres que tienen educación superior o mayor y están en el percentil 75% más alto de ingreso es 419\"\n"
     ]
    }
   ],
   "source": [
    "# Calcular el percentil 75 de los ingresos\n",
    "wage_75th_percentile <- quantile(data$wage, 0.75)\n",
    "\n",
    "# Filtrar los datos para mujeres con educación superior o mayor y en el percentil 75% más alto de ingresos\n",
    "filtered_data <- data[data$sex == 1 & (data$clg == 1 | data$ad == 1) & data$wage >= wage_75th_percentile, ]\n",
    "\n",
    "# Contar el número de registros que cumplen con los criterios\n",
    "count <- nrow(filtered_data)\n",
    "\n",
    "# Imprimir el resultado\n",
    "print(paste(\"El número de mujeres que tienen educación superior o mayor y están en el percentil 75% más alto de ingreso es\", count))\n",
    "\n"
   ]
  },
  {
   "cell_type": "markdown",
   "metadata": {},
   "source": [
    "### 1.5"
   ]
  },
  {
   "cell_type": "markdown",
   "metadata": {},
   "source": [
    "hombres"
   ]
  },
  {
   "cell_type": "code",
   "execution_count": 13,
   "metadata": {
    "vscode": {
     "languageId": "r"
    }
   },
   "outputs": [
    {
     "name": "stdout",
     "output_type": "stream",
     "text": [
      "[1] \"El número de hombres que tienen educación escolar o menos y están en el percentil 75% más alto de ingreso es 118\"\n"
     ]
    }
   ],
   "source": [
    "# Calcular el percentil 75 de los ingresos\n",
    "wage_75th_percentile <- quantile(data$wage, 0.75)\n",
    "\n",
    "# Filtrar los datos para hombres con educación escolar o menos y en el percentil 75% más alto de ingresos\n",
    "filtered_data <- data[data$sex == 0 & (data$hsg == 1 | data$shs == 1) & data$wage >= wage_75th_percentile, ]\n",
    "\n",
    "# Contar el número de registros que cumplen con los criterios\n",
    "count <- nrow(filtered_data)\n",
    "\n",
    "# Imprimir el resultado usando paste\n",
    "print(paste(\"El número de hombres que tienen educación escolar o menos y están en el percentil 75% más alto de ingreso es\", count))\n",
    "\n"
   ]
  },
  {
   "cell_type": "markdown",
   "metadata": {},
   "source": [
    "### 1.6"
   ]
  },
  {
   "cell_type": "markdown",
   "metadata": {},
   "source": [
    "#### Datos con la variable dependiente"
   ]
  },
  {
   "cell_type": "code",
   "execution_count": 14,
   "metadata": {
    "vscode": {
     "languageId": "r"
    }
   },
   "outputs": [
    {
     "data": {
      "text/html": [
       "<style>\n",
       ".list-inline {list-style: none; margin:0; padding: 0}\n",
       ".list-inline>li {display: inline-block}\n",
       ".list-inline>li:not(:last-child)::after {content: \"\\00b7\"; padding: 0 .5ex}\n",
       "</style>\n",
       "<ol class=list-inline><li>2.26336437984076</li><li>3.87280229227486</li><li>2.40312632221592</li><li>2.63492793627325</li><li>3.36197666850887</li><li>2.46221523858593</li></ol>\n"
      ],
      "text/latex": [
       "\\begin{enumerate*}\n",
       "\\item 2.26336437984076\n",
       "\\item 3.87280229227486\n",
       "\\item 2.40312632221592\n",
       "\\item 2.63492793627325\n",
       "\\item 3.36197666850887\n",
       "\\item 2.46221523858593\n",
       "\\end{enumerate*}\n"
      ],
      "text/markdown": [
       "1. 2.26336437984076\n",
       "2. 3.87280229227486\n",
       "3. 2.40312632221592\n",
       "4. 2.63492793627325\n",
       "5. 3.36197666850887\n",
       "6. 2.46221523858593\n",
       "\n",
       "\n"
      ],
      "text/plain": [
       "[1] 2.263364 3.872802 2.403126 2.634928 3.361977 2.462215"
      ]
     },
     "metadata": {},
     "output_type": "display_data"
    }
   ],
   "source": [
    "lwage <- data[, \"lwage\"]\n",
    "\n",
    "head(lwage)\n"
   ]
  },
  {
   "cell_type": "markdown",
   "metadata": {},
   "source": [
    "#### Datos de variables independientes"
   ]
  },
  {
   "cell_type": "code",
   "execution_count": 15,
   "metadata": {
    "vscode": {
     "languageId": "r"
    }
   },
   "outputs": [],
   "source": [
    "independent_variables <- data[, c('sex',  'hsg', 'scl', 'clg', 'ad',  'so',\n",
    "                                'we', 'ne', 'exp1', 'exp2', 'exp3', 'exp4', 'occ', \n",
    "                                'occ2', 'ind', 'ind2')]"
   ]
  },
  {
   "cell_type": "markdown",
   "metadata": {},
   "source": [
    "## 2 Modelo variables"
   ]
  },
  {
   "cell_type": "markdown",
   "metadata": {},
   "source": [
    "### 2.8"
   ]
  },
  {
   "cell_type": "markdown",
   "metadata": {},
   "source": [
    "#### 2.8.1 Modelo basico"
   ]
  },
  {
   "cell_type": "code",
   "execution_count": 16,
   "metadata": {
    "vscode": {
     "languageId": "r"
    }
   },
   "outputs": [],
   "source": [
    "independent_variables<- dummy_cols(independent_variables, \n",
    "                                           select_columns = c(\"occ2\", \"ind2\"), \n",
    "                                           remove_first_dummy = TRUE)\n",
    "\n",
    "                                "
   ]
  },
  {
   "cell_type": "code",
   "execution_count": 17,
   "metadata": {
    "vscode": {
     "languageId": "r"
    }
   },
   "outputs": [],
   "source": [
    "## Elimino columnas no necesarias\n",
    "independent_variables <- independent_variables %>%\n",
    "  select(-c(occ, occ2, ind, ind2))"
   ]
  },
  {
   "cell_type": "code",
   "execution_count": 18,
   "metadata": {
    "vscode": {
     "languageId": "r"
    }
   },
   "outputs": [
    {
     "data": {
      "text/html": [
       "<style>\n",
       ".list-inline {list-style: none; margin:0; padding: 0}\n",
       ".list-inline>li {display: inline-block}\n",
       ".list-inline>li:not(:last-child)::after {content: \"\\00b7\"; padding: 0 .5ex}\n",
       "</style>\n",
       "<ol class=list-inline><li>'sex'</li><li>'hsg'</li><li>'scl'</li><li>'clg'</li><li>'ad'</li><li>'so'</li><li>'we'</li><li>'ne'</li><li>'exp1'</li><li>'exp2'</li><li>'exp3'</li><li>'exp4'</li><li>'occ2_2'</li><li>'occ2_3'</li><li>'occ2_4'</li><li>'occ2_5'</li><li>'occ2_6'</li><li>'occ2_7'</li><li>'occ2_8'</li><li>'occ2_9'</li><li>'occ2_10'</li><li>'occ2_11'</li><li>'occ2_12'</li><li>'occ2_13'</li><li>'occ2_14'</li><li>'occ2_15'</li><li>'occ2_16'</li><li>'occ2_17'</li><li>'occ2_18'</li><li>'occ2_19'</li><li>'occ2_20'</li><li>'occ2_21'</li><li>'occ2_22'</li><li>'ind2_3'</li><li>'ind2_4'</li><li>'ind2_5'</li><li>'ind2_6'</li><li>'ind2_7'</li><li>'ind2_8'</li><li>'ind2_9'</li><li>'ind2_10'</li><li>'ind2_11'</li><li>'ind2_12'</li><li>'ind2_13'</li><li>'ind2_14'</li><li>'ind2_15'</li><li>'ind2_16'</li><li>'ind2_17'</li><li>'ind2_18'</li><li>'ind2_19'</li><li>'ind2_20'</li><li>'ind2_21'</li><li>'ind2_22'</li></ol>\n"
      ],
      "text/latex": [
       "\\begin{enumerate*}\n",
       "\\item 'sex'\n",
       "\\item 'hsg'\n",
       "\\item 'scl'\n",
       "\\item 'clg'\n",
       "\\item 'ad'\n",
       "\\item 'so'\n",
       "\\item 'we'\n",
       "\\item 'ne'\n",
       "\\item 'exp1'\n",
       "\\item 'exp2'\n",
       "\\item 'exp3'\n",
       "\\item 'exp4'\n",
       "\\item 'occ2\\_2'\n",
       "\\item 'occ2\\_3'\n",
       "\\item 'occ2\\_4'\n",
       "\\item 'occ2\\_5'\n",
       "\\item 'occ2\\_6'\n",
       "\\item 'occ2\\_7'\n",
       "\\item 'occ2\\_8'\n",
       "\\item 'occ2\\_9'\n",
       "\\item 'occ2\\_10'\n",
       "\\item 'occ2\\_11'\n",
       "\\item 'occ2\\_12'\n",
       "\\item 'occ2\\_13'\n",
       "\\item 'occ2\\_14'\n",
       "\\item 'occ2\\_15'\n",
       "\\item 'occ2\\_16'\n",
       "\\item 'occ2\\_17'\n",
       "\\item 'occ2\\_18'\n",
       "\\item 'occ2\\_19'\n",
       "\\item 'occ2\\_20'\n",
       "\\item 'occ2\\_21'\n",
       "\\item 'occ2\\_22'\n",
       "\\item 'ind2\\_3'\n",
       "\\item 'ind2\\_4'\n",
       "\\item 'ind2\\_5'\n",
       "\\item 'ind2\\_6'\n",
       "\\item 'ind2\\_7'\n",
       "\\item 'ind2\\_8'\n",
       "\\item 'ind2\\_9'\n",
       "\\item 'ind2\\_10'\n",
       "\\item 'ind2\\_11'\n",
       "\\item 'ind2\\_12'\n",
       "\\item 'ind2\\_13'\n",
       "\\item 'ind2\\_14'\n",
       "\\item 'ind2\\_15'\n",
       "\\item 'ind2\\_16'\n",
       "\\item 'ind2\\_17'\n",
       "\\item 'ind2\\_18'\n",
       "\\item 'ind2\\_19'\n",
       "\\item 'ind2\\_20'\n",
       "\\item 'ind2\\_21'\n",
       "\\item 'ind2\\_22'\n",
       "\\end{enumerate*}\n"
      ],
      "text/markdown": [
       "1. 'sex'\n",
       "2. 'hsg'\n",
       "3. 'scl'\n",
       "4. 'clg'\n",
       "5. 'ad'\n",
       "6. 'so'\n",
       "7. 'we'\n",
       "8. 'ne'\n",
       "9. 'exp1'\n",
       "10. 'exp2'\n",
       "11. 'exp3'\n",
       "12. 'exp4'\n",
       "13. 'occ2_2'\n",
       "14. 'occ2_3'\n",
       "15. 'occ2_4'\n",
       "16. 'occ2_5'\n",
       "17. 'occ2_6'\n",
       "18. 'occ2_7'\n",
       "19. 'occ2_8'\n",
       "20. 'occ2_9'\n",
       "21. 'occ2_10'\n",
       "22. 'occ2_11'\n",
       "23. 'occ2_12'\n",
       "24. 'occ2_13'\n",
       "25. 'occ2_14'\n",
       "26. 'occ2_15'\n",
       "27. 'occ2_16'\n",
       "28. 'occ2_17'\n",
       "29. 'occ2_18'\n",
       "30. 'occ2_19'\n",
       "31. 'occ2_20'\n",
       "32. 'occ2_21'\n",
       "33. 'occ2_22'\n",
       "34. 'ind2_3'\n",
       "35. 'ind2_4'\n",
       "36. 'ind2_5'\n",
       "37. 'ind2_6'\n",
       "38. 'ind2_7'\n",
       "39. 'ind2_8'\n",
       "40. 'ind2_9'\n",
       "41. 'ind2_10'\n",
       "42. 'ind2_11'\n",
       "43. 'ind2_12'\n",
       "44. 'ind2_13'\n",
       "45. 'ind2_14'\n",
       "46. 'ind2_15'\n",
       "47. 'ind2_16'\n",
       "48. 'ind2_17'\n",
       "49. 'ind2_18'\n",
       "50. 'ind2_19'\n",
       "51. 'ind2_20'\n",
       "52. 'ind2_21'\n",
       "53. 'ind2_22'\n",
       "\n",
       "\n"
      ],
      "text/plain": [
       " [1] \"sex\"     \"hsg\"     \"scl\"     \"clg\"     \"ad\"      \"so\"      \"we\"     \n",
       " [8] \"ne\"      \"exp1\"    \"exp2\"    \"exp3\"    \"exp4\"    \"occ2_2\"  \"occ2_3\" \n",
       "[15] \"occ2_4\"  \"occ2_5\"  \"occ2_6\"  \"occ2_7\"  \"occ2_8\"  \"occ2_9\"  \"occ2_10\"\n",
       "[22] \"occ2_11\" \"occ2_12\" \"occ2_13\" \"occ2_14\" \"occ2_15\" \"occ2_16\" \"occ2_17\"\n",
       "[29] \"occ2_18\" \"occ2_19\" \"occ2_20\" \"occ2_21\" \"occ2_22\" \"ind2_3\"  \"ind2_4\" \n",
       "[36] \"ind2_5\"  \"ind2_6\"  \"ind2_7\"  \"ind2_8\"  \"ind2_9\"  \"ind2_10\" \"ind2_11\"\n",
       "[43] \"ind2_12\" \"ind2_13\" \"ind2_14\" \"ind2_15\" \"ind2_16\" \"ind2_17\" \"ind2_18\"\n",
       "[50] \"ind2_19\" \"ind2_20\" \"ind2_21\" \"ind2_22\""
      ]
     },
     "metadata": {},
     "output_type": "display_data"
    }
   ],
   "source": [
    "column_names <- colnames(independent_variables)\n",
    "\n",
    "column_names"
   ]
  },
  {
   "cell_type": "code",
   "execution_count": 19,
   "metadata": {
    "vscode": {
     "languageId": "r"
    }
   },
   "outputs": [
    {
     "name": "stdout",
     "output_type": "stream",
     "text": [
      " [1] \"occ2_2\"  \"occ2_3\"  \"occ2_4\"  \"occ2_5\"  \"occ2_6\"  \"occ2_7\"  \"occ2_8\" \n",
      " [8] \"occ2_9\"  \"occ2_10\" \"occ2_11\" \"occ2_12\" \"occ2_13\" \"occ2_14\" \"occ2_15\"\n",
      "[15] \"occ2_16\" \"occ2_17\" \"occ2_18\" \"occ2_19\" \"occ2_20\" \"occ2_21\" \"occ2_22\"\n",
      "[22] \"ind2_3\"  \"ind2_4\"  \"ind2_5\"  \"ind2_6\"  \"ind2_7\"  \"ind2_8\"  \"ind2_9\" \n",
      "[29] \"ind2_10\" \"ind2_11\" \"ind2_12\" \"ind2_13\" \"ind2_14\" \"ind2_15\" \"ind2_16\"\n",
      "[36] \"ind2_17\" \"ind2_18\" \"ind2_19\" \"ind2_20\" \"ind2_21\" \"ind2_22\"\n"
     ]
    }
   ],
   "source": [
    "\n",
    "# Selecciono las dummys de ocupación e industría\n",
    "\n",
    "occ2_columns <- grep(\"^occ2_\", names(independent_variables), value = TRUE)\n",
    "ind2_columns <- grep(\"^ind2_\", names(independent_variables), value = TRUE)\n",
    "\n",
    "dummys <- c(occ2_columns, ind2_columns)\n",
    "\n",
    "print(dummys)\n"
   ]
  },
  {
   "cell_type": "markdown",
   "metadata": {},
   "source": [
    "#### 2.8.2 Modelo flexible"
   ]
  },
  {
   "cell_type": "code",
   "execution_count": 20,
   "metadata": {
    "vscode": {
     "languageId": "r"
    }
   },
   "outputs": [
    {
     "data": {
      "text/html": [
       "<table class=\"dataframe\">\n",
       "<caption>A data.frame: 6 × 245</caption>\n",
       "<thead>\n",
       "\t<tr><th></th><th scope=col>sex</th><th scope=col>hsg</th><th scope=col>scl</th><th scope=col>clg</th><th scope=col>ad</th><th scope=col>so</th><th scope=col>we</th><th scope=col>ne</th><th scope=col>exp1</th><th scope=col>exp2</th><th scope=col>⋯</th><th scope=col>exp4_ind2_13</th><th scope=col>exp4_ind2_14</th><th scope=col>exp4_ind2_15</th><th scope=col>exp4_ind2_16</th><th scope=col>exp4_ind2_17</th><th scope=col>exp4_ind2_18</th><th scope=col>exp4_ind2_19</th><th scope=col>exp4_ind2_20</th><th scope=col>exp4_ind2_21</th><th scope=col>exp4_ind2_22</th></tr>\n",
       "\t<tr><th></th><th scope=col>&lt;dbl&gt;</th><th scope=col>&lt;dbl&gt;</th><th scope=col>&lt;dbl&gt;</th><th scope=col>&lt;dbl&gt;</th><th scope=col>&lt;dbl&gt;</th><th scope=col>&lt;dbl&gt;</th><th scope=col>&lt;dbl&gt;</th><th scope=col>&lt;dbl&gt;</th><th scope=col>&lt;dbl&gt;</th><th scope=col>&lt;dbl&gt;</th><th scope=col>⋯</th><th scope=col>&lt;dbl&gt;</th><th scope=col>&lt;dbl&gt;</th><th scope=col>&lt;dbl&gt;</th><th scope=col>&lt;dbl&gt;</th><th scope=col>&lt;dbl&gt;</th><th scope=col>&lt;dbl&gt;</th><th scope=col>&lt;dbl&gt;</th><th scope=col>&lt;dbl&gt;</th><th scope=col>&lt;dbl&gt;</th><th scope=col>&lt;dbl&gt;</th></tr>\n",
       "</thead>\n",
       "<tbody>\n",
       "\t<tr><th scope=row>1</th><td>1</td><td>0</td><td>0</td><td>1</td><td>0</td><td>0</td><td>0</td><td>1</td><td> 7</td><td>0.49</td><td>⋯</td><td>0</td><td>0e+00</td><td>0</td><td>0</td><td>0</td><td>0.2401</td><td>0</td><td>0</td><td>0</td><td> 0.0000</td></tr>\n",
       "\t<tr><th scope=row>2</th><td>0</td><td>0</td><td>0</td><td>1</td><td>0</td><td>0</td><td>0</td><td>1</td><td>31</td><td>9.61</td><td>⋯</td><td>0</td><td>0e+00</td><td>0</td><td>0</td><td>0</td><td>0.0000</td><td>0</td><td>0</td><td>0</td><td> 0.0000</td></tr>\n",
       "\t<tr><th scope=row>3</th><td>0</td><td>1</td><td>0</td><td>0</td><td>0</td><td>0</td><td>0</td><td>1</td><td>18</td><td>3.24</td><td>⋯</td><td>0</td><td>0e+00</td><td>0</td><td>0</td><td>0</td><td>0.0000</td><td>0</td><td>0</td><td>0</td><td> 0.0000</td></tr>\n",
       "\t<tr><th scope=row>4</th><td>1</td><td>0</td><td>0</td><td>0</td><td>1</td><td>0</td><td>0</td><td>1</td><td>25</td><td>6.25</td><td>⋯</td><td>0</td><td>0e+00</td><td>0</td><td>0</td><td>0</td><td>0.0000</td><td>0</td><td>0</td><td>0</td><td> 0.0000</td></tr>\n",
       "\t<tr><th scope=row>5</th><td>1</td><td>0</td><td>0</td><td>1</td><td>0</td><td>0</td><td>0</td><td>1</td><td>22</td><td>4.84</td><td>⋯</td><td>0</td><td>0e+00</td><td>0</td><td>0</td><td>0</td><td>0.0000</td><td>0</td><td>0</td><td>0</td><td>23.4256</td></tr>\n",
       "\t<tr><th scope=row>6</th><td>1</td><td>0</td><td>0</td><td>1</td><td>0</td><td>0</td><td>0</td><td>1</td><td> 1</td><td>0.01</td><td>⋯</td><td>0</td><td>1e-04</td><td>0</td><td>0</td><td>0</td><td>0.0000</td><td>0</td><td>0</td><td>0</td><td> 0.0000</td></tr>\n",
       "</tbody>\n",
       "</table>\n"
      ],
      "text/latex": [
       "A data.frame: 6 × 245\n",
       "\\begin{tabular}{r|lllllllllllllllllllll}\n",
       "  & sex & hsg & scl & clg & ad & so & we & ne & exp1 & exp2 & ⋯ & exp4\\_ind2\\_13 & exp4\\_ind2\\_14 & exp4\\_ind2\\_15 & exp4\\_ind2\\_16 & exp4\\_ind2\\_17 & exp4\\_ind2\\_18 & exp4\\_ind2\\_19 & exp4\\_ind2\\_20 & exp4\\_ind2\\_21 & exp4\\_ind2\\_22\\\\\n",
       "  & <dbl> & <dbl> & <dbl> & <dbl> & <dbl> & <dbl> & <dbl> & <dbl> & <dbl> & <dbl> & ⋯ & <dbl> & <dbl> & <dbl> & <dbl> & <dbl> & <dbl> & <dbl> & <dbl> & <dbl> & <dbl>\\\\\n",
       "\\hline\n",
       "\t1 & 1 & 0 & 0 & 1 & 0 & 0 & 0 & 1 &  7 & 0.49 & ⋯ & 0 & 0e+00 & 0 & 0 & 0 & 0.2401 & 0 & 0 & 0 &  0.0000\\\\\n",
       "\t2 & 0 & 0 & 0 & 1 & 0 & 0 & 0 & 1 & 31 & 9.61 & ⋯ & 0 & 0e+00 & 0 & 0 & 0 & 0.0000 & 0 & 0 & 0 &  0.0000\\\\\n",
       "\t3 & 0 & 1 & 0 & 0 & 0 & 0 & 0 & 1 & 18 & 3.24 & ⋯ & 0 & 0e+00 & 0 & 0 & 0 & 0.0000 & 0 & 0 & 0 &  0.0000\\\\\n",
       "\t4 & 1 & 0 & 0 & 0 & 1 & 0 & 0 & 1 & 25 & 6.25 & ⋯ & 0 & 0e+00 & 0 & 0 & 0 & 0.0000 & 0 & 0 & 0 &  0.0000\\\\\n",
       "\t5 & 1 & 0 & 0 & 1 & 0 & 0 & 0 & 1 & 22 & 4.84 & ⋯ & 0 & 0e+00 & 0 & 0 & 0 & 0.0000 & 0 & 0 & 0 & 23.4256\\\\\n",
       "\t6 & 1 & 0 & 0 & 1 & 0 & 0 & 0 & 1 &  1 & 0.01 & ⋯ & 0 & 1e-04 & 0 & 0 & 0 & 0.0000 & 0 & 0 & 0 &  0.0000\\\\\n",
       "\\end{tabular}\n"
      ],
      "text/markdown": [
       "\n",
       "A data.frame: 6 × 245\n",
       "\n",
       "| <!--/--> | sex &lt;dbl&gt; | hsg &lt;dbl&gt; | scl &lt;dbl&gt; | clg &lt;dbl&gt; | ad &lt;dbl&gt; | so &lt;dbl&gt; | we &lt;dbl&gt; | ne &lt;dbl&gt; | exp1 &lt;dbl&gt; | exp2 &lt;dbl&gt; | ⋯ ⋯ | exp4_ind2_13 &lt;dbl&gt; | exp4_ind2_14 &lt;dbl&gt; | exp4_ind2_15 &lt;dbl&gt; | exp4_ind2_16 &lt;dbl&gt; | exp4_ind2_17 &lt;dbl&gt; | exp4_ind2_18 &lt;dbl&gt; | exp4_ind2_19 &lt;dbl&gt; | exp4_ind2_20 &lt;dbl&gt; | exp4_ind2_21 &lt;dbl&gt; | exp4_ind2_22 &lt;dbl&gt; |\n",
       "|---|---|---|---|---|---|---|---|---|---|---|---|---|---|---|---|---|---|---|---|---|---|\n",
       "| 1 | 1 | 0 | 0 | 1 | 0 | 0 | 0 | 1 |  7 | 0.49 | ⋯ | 0 | 0e+00 | 0 | 0 | 0 | 0.2401 | 0 | 0 | 0 |  0.0000 |\n",
       "| 2 | 0 | 0 | 0 | 1 | 0 | 0 | 0 | 1 | 31 | 9.61 | ⋯ | 0 | 0e+00 | 0 | 0 | 0 | 0.0000 | 0 | 0 | 0 |  0.0000 |\n",
       "| 3 | 0 | 1 | 0 | 0 | 0 | 0 | 0 | 1 | 18 | 3.24 | ⋯ | 0 | 0e+00 | 0 | 0 | 0 | 0.0000 | 0 | 0 | 0 |  0.0000 |\n",
       "| 4 | 1 | 0 | 0 | 0 | 1 | 0 | 0 | 1 | 25 | 6.25 | ⋯ | 0 | 0e+00 | 0 | 0 | 0 | 0.0000 | 0 | 0 | 0 |  0.0000 |\n",
       "| 5 | 1 | 0 | 0 | 1 | 0 | 0 | 0 | 1 | 22 | 4.84 | ⋯ | 0 | 0e+00 | 0 | 0 | 0 | 0.0000 | 0 | 0 | 0 | 23.4256 |\n",
       "| 6 | 1 | 0 | 0 | 1 | 0 | 0 | 0 | 1 |  1 | 0.01 | ⋯ | 0 | 1e-04 | 0 | 0 | 0 | 0.0000 | 0 | 0 | 0 |  0.0000 |\n",
       "\n"
      ],
      "text/plain": [
       "  sex hsg scl clg ad so we ne exp1 exp2 ⋯ exp4_ind2_13 exp4_ind2_14\n",
       "1 1   0   0   1   0  0  0  1   7   0.49 ⋯ 0            0e+00       \n",
       "2 0   0   0   1   0  0  0  1  31   9.61 ⋯ 0            0e+00       \n",
       "3 0   1   0   0   0  0  0  1  18   3.24 ⋯ 0            0e+00       \n",
       "4 1   0   0   0   1  0  0  1  25   6.25 ⋯ 0            0e+00       \n",
       "5 1   0   0   1   0  0  0  1  22   4.84 ⋯ 0            0e+00       \n",
       "6 1   0   0   1   0  0  0  1   1   0.01 ⋯ 0            1e-04       \n",
       "  exp4_ind2_15 exp4_ind2_16 exp4_ind2_17 exp4_ind2_18 exp4_ind2_19 exp4_ind2_20\n",
       "1 0            0            0            0.2401       0            0           \n",
       "2 0            0            0            0.0000       0            0           \n",
       "3 0            0            0            0.0000       0            0           \n",
       "4 0            0            0            0.0000       0            0           \n",
       "5 0            0            0            0.0000       0            0           \n",
       "6 0            0            0            0.0000       0            0           \n",
       "  exp4_ind2_21 exp4_ind2_22\n",
       "1 0             0.0000     \n",
       "2 0             0.0000     \n",
       "3 0             0.0000     \n",
       "4 0             0.0000     \n",
       "5 0            23.4256     \n",
       "6 0             0.0000     "
      ]
     },
     "metadata": {},
     "output_type": "display_data"
    }
   ],
   "source": [
    "\n",
    "suffix_columns <- c('hsg', 'scl', 'clg', 'ad', 'so', 'we', 'ne', dummys)\n",
    "\n",
    "exp_columns <- c('exp1', 'exp2', 'exp3', 'exp4')\n",
    "\n",
    "flexible_independent_variables <- independent_variables\n",
    "\n",
    "for (exp_col in exp_columns) {\n",
    "  for (other_col in suffix_columns) {\n",
    "    if (other_col != exp_col) {\n",
    "      new_col_name <- paste(exp_col, other_col, sep = \"_\")\n",
    "      \n",
    "      if (all(c(exp_col, other_col) %in% names(flexible_independent_variables))) {\n",
    "        flexible_independent_variables <- flexible_independent_variables %>%\n",
    "          mutate(!!new_col_name := .[[exp_col]] * .[[other_col]])\n",
    "      } else {\n",
    "        warning(paste(\"Una o ambas columnas no existen:\", exp_col, other_col))\n",
    "      }\n",
    "    }\n",
    "  }\n",
    "}\n",
    "\n",
    "head(flexible_independent_variables)\n",
    "\n"
   ]
  },
  {
   "cell_type": "markdown",
   "metadata": {},
   "source": [
    "#### 2.8.3 extraflexible"
   ]
  },
  {
   "cell_type": "code",
   "execution_count": 21,
   "metadata": {
    "vscode": {
     "languageId": "r"
    }
   },
   "outputs": [
    {
     "data": {
      "text/html": [
       "<table class=\"dataframe\">\n",
       "<caption>A data.frame: 6 × 2757</caption>\n",
       "<thead>\n",
       "\t<tr><th></th><th scope=col>sex</th><th scope=col>hsg</th><th scope=col>scl</th><th scope=col>clg</th><th scope=col>ad</th><th scope=col>so</th><th scope=col>we</th><th scope=col>ne</th><th scope=col>exp1</th><th scope=col>exp2</th><th scope=col>⋯</th><th scope=col>ind2_22_ind2_13</th><th scope=col>ind2_22_ind2_14</th><th scope=col>ind2_22_ind2_15</th><th scope=col>ind2_22_ind2_16</th><th scope=col>ind2_22_ind2_17</th><th scope=col>ind2_22_ind2_18</th><th scope=col>ind2_22_ind2_19</th><th scope=col>ind2_22_ind2_20</th><th scope=col>ind2_22_ind2_21</th><th scope=col>ind2_22_ind2_22</th></tr>\n",
       "\t<tr><th></th><th scope=col>&lt;dbl&gt;</th><th scope=col>&lt;dbl&gt;</th><th scope=col>&lt;dbl&gt;</th><th scope=col>&lt;dbl&gt;</th><th scope=col>&lt;dbl&gt;</th><th scope=col>&lt;dbl&gt;</th><th scope=col>&lt;dbl&gt;</th><th scope=col>&lt;dbl&gt;</th><th scope=col>&lt;dbl&gt;</th><th scope=col>&lt;dbl&gt;</th><th scope=col>⋯</th><th scope=col>&lt;int&gt;</th><th scope=col>&lt;int&gt;</th><th scope=col>&lt;int&gt;</th><th scope=col>&lt;int&gt;</th><th scope=col>&lt;int&gt;</th><th scope=col>&lt;int&gt;</th><th scope=col>&lt;int&gt;</th><th scope=col>&lt;int&gt;</th><th scope=col>&lt;int&gt;</th><th scope=col>&lt;int&gt;</th></tr>\n",
       "</thead>\n",
       "<tbody>\n",
       "\t<tr><th scope=row>1</th><td>1</td><td>0</td><td>0</td><td>1</td><td>0</td><td>0</td><td>0</td><td>1</td><td> 7</td><td>0.49</td><td>⋯</td><td>0</td><td>0</td><td>0</td><td>0</td><td>0</td><td>0</td><td>0</td><td>0</td><td>0</td><td>0</td></tr>\n",
       "\t<tr><th scope=row>2</th><td>0</td><td>0</td><td>0</td><td>1</td><td>0</td><td>0</td><td>0</td><td>1</td><td>31</td><td>9.61</td><td>⋯</td><td>0</td><td>0</td><td>0</td><td>0</td><td>0</td><td>0</td><td>0</td><td>0</td><td>0</td><td>0</td></tr>\n",
       "\t<tr><th scope=row>3</th><td>0</td><td>1</td><td>0</td><td>0</td><td>0</td><td>0</td><td>0</td><td>1</td><td>18</td><td>3.24</td><td>⋯</td><td>0</td><td>0</td><td>0</td><td>0</td><td>0</td><td>0</td><td>0</td><td>0</td><td>0</td><td>0</td></tr>\n",
       "\t<tr><th scope=row>4</th><td>1</td><td>0</td><td>0</td><td>0</td><td>1</td><td>0</td><td>0</td><td>1</td><td>25</td><td>6.25</td><td>⋯</td><td>0</td><td>0</td><td>0</td><td>0</td><td>0</td><td>0</td><td>0</td><td>0</td><td>0</td><td>0</td></tr>\n",
       "\t<tr><th scope=row>5</th><td>1</td><td>0</td><td>0</td><td>1</td><td>0</td><td>0</td><td>0</td><td>1</td><td>22</td><td>4.84</td><td>⋯</td><td>0</td><td>0</td><td>0</td><td>0</td><td>0</td><td>0</td><td>0</td><td>0</td><td>0</td><td>1</td></tr>\n",
       "\t<tr><th scope=row>6</th><td>1</td><td>0</td><td>0</td><td>1</td><td>0</td><td>0</td><td>0</td><td>1</td><td> 1</td><td>0.01</td><td>⋯</td><td>0</td><td>0</td><td>0</td><td>0</td><td>0</td><td>0</td><td>0</td><td>0</td><td>0</td><td>0</td></tr>\n",
       "</tbody>\n",
       "</table>\n"
      ],
      "text/latex": [
       "A data.frame: 6 × 2757\n",
       "\\begin{tabular}{r|lllllllllllllllllllll}\n",
       "  & sex & hsg & scl & clg & ad & so & we & ne & exp1 & exp2 & ⋯ & ind2\\_22\\_ind2\\_13 & ind2\\_22\\_ind2\\_14 & ind2\\_22\\_ind2\\_15 & ind2\\_22\\_ind2\\_16 & ind2\\_22\\_ind2\\_17 & ind2\\_22\\_ind2\\_18 & ind2\\_22\\_ind2\\_19 & ind2\\_22\\_ind2\\_20 & ind2\\_22\\_ind2\\_21 & ind2\\_22\\_ind2\\_22\\\\\n",
       "  & <dbl> & <dbl> & <dbl> & <dbl> & <dbl> & <dbl> & <dbl> & <dbl> & <dbl> & <dbl> & ⋯ & <int> & <int> & <int> & <int> & <int> & <int> & <int> & <int> & <int> & <int>\\\\\n",
       "\\hline\n",
       "\t1 & 1 & 0 & 0 & 1 & 0 & 0 & 0 & 1 &  7 & 0.49 & ⋯ & 0 & 0 & 0 & 0 & 0 & 0 & 0 & 0 & 0 & 0\\\\\n",
       "\t2 & 0 & 0 & 0 & 1 & 0 & 0 & 0 & 1 & 31 & 9.61 & ⋯ & 0 & 0 & 0 & 0 & 0 & 0 & 0 & 0 & 0 & 0\\\\\n",
       "\t3 & 0 & 1 & 0 & 0 & 0 & 0 & 0 & 1 & 18 & 3.24 & ⋯ & 0 & 0 & 0 & 0 & 0 & 0 & 0 & 0 & 0 & 0\\\\\n",
       "\t4 & 1 & 0 & 0 & 0 & 1 & 0 & 0 & 1 & 25 & 6.25 & ⋯ & 0 & 0 & 0 & 0 & 0 & 0 & 0 & 0 & 0 & 0\\\\\n",
       "\t5 & 1 & 0 & 0 & 1 & 0 & 0 & 0 & 1 & 22 & 4.84 & ⋯ & 0 & 0 & 0 & 0 & 0 & 0 & 0 & 0 & 0 & 1\\\\\n",
       "\t6 & 1 & 0 & 0 & 1 & 0 & 0 & 0 & 1 &  1 & 0.01 & ⋯ & 0 & 0 & 0 & 0 & 0 & 0 & 0 & 0 & 0 & 0\\\\\n",
       "\\end{tabular}\n"
      ],
      "text/markdown": [
       "\n",
       "A data.frame: 6 × 2757\n",
       "\n",
       "| <!--/--> | sex &lt;dbl&gt; | hsg &lt;dbl&gt; | scl &lt;dbl&gt; | clg &lt;dbl&gt; | ad &lt;dbl&gt; | so &lt;dbl&gt; | we &lt;dbl&gt; | ne &lt;dbl&gt; | exp1 &lt;dbl&gt; | exp2 &lt;dbl&gt; | ⋯ ⋯ | ind2_22_ind2_13 &lt;int&gt; | ind2_22_ind2_14 &lt;int&gt; | ind2_22_ind2_15 &lt;int&gt; | ind2_22_ind2_16 &lt;int&gt; | ind2_22_ind2_17 &lt;int&gt; | ind2_22_ind2_18 &lt;int&gt; | ind2_22_ind2_19 &lt;int&gt; | ind2_22_ind2_20 &lt;int&gt; | ind2_22_ind2_21 &lt;int&gt; | ind2_22_ind2_22 &lt;int&gt; |\n",
       "|---|---|---|---|---|---|---|---|---|---|---|---|---|---|---|---|---|---|---|---|---|---|\n",
       "| 1 | 1 | 0 | 0 | 1 | 0 | 0 | 0 | 1 |  7 | 0.49 | ⋯ | 0 | 0 | 0 | 0 | 0 | 0 | 0 | 0 | 0 | 0 |\n",
       "| 2 | 0 | 0 | 0 | 1 | 0 | 0 | 0 | 1 | 31 | 9.61 | ⋯ | 0 | 0 | 0 | 0 | 0 | 0 | 0 | 0 | 0 | 0 |\n",
       "| 3 | 0 | 1 | 0 | 0 | 0 | 0 | 0 | 1 | 18 | 3.24 | ⋯ | 0 | 0 | 0 | 0 | 0 | 0 | 0 | 0 | 0 | 0 |\n",
       "| 4 | 1 | 0 | 0 | 0 | 1 | 0 | 0 | 1 | 25 | 6.25 | ⋯ | 0 | 0 | 0 | 0 | 0 | 0 | 0 | 0 | 0 | 0 |\n",
       "| 5 | 1 | 0 | 0 | 1 | 0 | 0 | 0 | 1 | 22 | 4.84 | ⋯ | 0 | 0 | 0 | 0 | 0 | 0 | 0 | 0 | 0 | 1 |\n",
       "| 6 | 1 | 0 | 0 | 1 | 0 | 0 | 0 | 1 |  1 | 0.01 | ⋯ | 0 | 0 | 0 | 0 | 0 | 0 | 0 | 0 | 0 | 0 |\n",
       "\n"
      ],
      "text/plain": [
       "  sex hsg scl clg ad so we ne exp1 exp2 ⋯ ind2_22_ind2_13 ind2_22_ind2_14\n",
       "1 1   0   0   1   0  0  0  1   7   0.49 ⋯ 0               0              \n",
       "2 0   0   0   1   0  0  0  1  31   9.61 ⋯ 0               0              \n",
       "3 0   1   0   0   0  0  0  1  18   3.24 ⋯ 0               0              \n",
       "4 1   0   0   0   1  0  0  1  25   6.25 ⋯ 0               0              \n",
       "5 1   0   0   1   0  0  0  1  22   4.84 ⋯ 0               0              \n",
       "6 1   0   0   1   0  0  0  1   1   0.01 ⋯ 0               0              \n",
       "  ind2_22_ind2_15 ind2_22_ind2_16 ind2_22_ind2_17 ind2_22_ind2_18\n",
       "1 0               0               0               0              \n",
       "2 0               0               0               0              \n",
       "3 0               0               0               0              \n",
       "4 0               0               0               0              \n",
       "5 0               0               0               0              \n",
       "6 0               0               0               0              \n",
       "  ind2_22_ind2_19 ind2_22_ind2_20 ind2_22_ind2_21 ind2_22_ind2_22\n",
       "1 0               0               0               0              \n",
       "2 0               0               0               0              \n",
       "3 0               0               0               0              \n",
       "4 0               0               0               0              \n",
       "5 0               0               0               1              \n",
       "6 0               0               0               0              "
      ]
     },
     "metadata": {},
     "output_type": "display_data"
    }
   ],
   "source": [
    "dummys <- c(occ2_columns, ind2_columns)\n",
    "\n",
    "first_columns <- c('exp1', 'exp2', 'exp3', 'exp4', 'hsg', 'scl', 'clg', 'ad', 'so', 'we', 'ne', dummys)\n",
    "\n",
    "second_columns <- c('exp1', 'exp2', 'exp3', 'exp4', 'hsg', 'scl', 'clg', 'ad', 'so', 'we', 'ne', dummys)\n",
    "\n",
    "extra_flexible_independent_variables <- independent_variables\n",
    "\n",
    "for (first_col in first_columns) {\n",
    "  for (second_col in second_columns) {\n",
    "\n",
    "    new_col_name <- paste(first_col, second_col, sep = \"_\")\n",
    "    \n",
    "    if (first_col %in% names(extra_flexible_independent_variables) & second_col %in% names(extra_flexible_independent_variables)) {\n",
    "      # Multiplicar y agregar la nueva columna al DataFrame\n",
    "      extra_flexible_independent_variables <- extra_flexible_independent_variables %>%\n",
    "        mutate(!!new_col_name := .[[first_col]] * .[[second_col]])\n",
    "    } else {\n",
    "      print(paste(\"Una o ambas columnas no existen:\", first_col, second_col))\n",
    "    }\n",
    "  }\n",
    "}\n",
    "\n",
    "head(extra_flexible_independent_variables)\n"
   ]
  },
  {
   "cell_type": "code",
   "execution_count": 22,
   "metadata": {
    "vscode": {
     "languageId": "r"
    }
   },
   "outputs": [
    {
     "data": {
      "text/html": [
       "<table class=\"dataframe\">\n",
       "<caption>A data.frame: 6 × 816</caption>\n",
       "<thead>\n",
       "\t<tr><th></th><th scope=col>sex</th><th scope=col>hsg</th><th scope=col>scl</th><th scope=col>clg</th><th scope=col>ad</th><th scope=col>so</th><th scope=col>we</th><th scope=col>ne</th><th scope=col>exp1</th><th scope=col>exp2</th><th scope=col>⋯</th><th scope=col>occ2_22_ind2_11</th><th scope=col>occ2_22_ind2_13</th><th scope=col>occ2_22_ind2_14</th><th scope=col>occ2_22_ind2_16</th><th scope=col>occ2_22_ind2_17</th><th scope=col>occ2_22_ind2_18</th><th scope=col>occ2_22_ind2_19</th><th scope=col>occ2_22_ind2_20</th><th scope=col>occ2_22_ind2_21</th><th scope=col>occ2_22_ind2_22</th></tr>\n",
       "\t<tr><th></th><th scope=col>&lt;dbl&gt;</th><th scope=col>&lt;dbl&gt;</th><th scope=col>&lt;dbl&gt;</th><th scope=col>&lt;dbl&gt;</th><th scope=col>&lt;dbl&gt;</th><th scope=col>&lt;dbl&gt;</th><th scope=col>&lt;dbl&gt;</th><th scope=col>&lt;dbl&gt;</th><th scope=col>&lt;dbl&gt;</th><th scope=col>&lt;dbl&gt;</th><th scope=col>⋯</th><th scope=col>&lt;int&gt;</th><th scope=col>&lt;int&gt;</th><th scope=col>&lt;int&gt;</th><th scope=col>&lt;int&gt;</th><th scope=col>&lt;int&gt;</th><th scope=col>&lt;int&gt;</th><th scope=col>&lt;int&gt;</th><th scope=col>&lt;int&gt;</th><th scope=col>&lt;int&gt;</th><th scope=col>&lt;int&gt;</th></tr>\n",
       "</thead>\n",
       "<tbody>\n",
       "\t<tr><th scope=row>1</th><td>1</td><td>0</td><td>0</td><td>1</td><td>0</td><td>0</td><td>0</td><td>1</td><td> 7</td><td>0.49</td><td>⋯</td><td>0</td><td>0</td><td>0</td><td>0</td><td>0</td><td>0</td><td>0</td><td>0</td><td>0</td><td>0</td></tr>\n",
       "\t<tr><th scope=row>2</th><td>0</td><td>0</td><td>0</td><td>1</td><td>0</td><td>0</td><td>0</td><td>1</td><td>31</td><td>9.61</td><td>⋯</td><td>0</td><td>0</td><td>0</td><td>0</td><td>0</td><td>0</td><td>0</td><td>0</td><td>0</td><td>0</td></tr>\n",
       "\t<tr><th scope=row>3</th><td>0</td><td>1</td><td>0</td><td>0</td><td>0</td><td>0</td><td>0</td><td>1</td><td>18</td><td>3.24</td><td>⋯</td><td>0</td><td>0</td><td>0</td><td>0</td><td>0</td><td>0</td><td>0</td><td>0</td><td>0</td><td>0</td></tr>\n",
       "\t<tr><th scope=row>4</th><td>1</td><td>0</td><td>0</td><td>0</td><td>1</td><td>0</td><td>0</td><td>1</td><td>25</td><td>6.25</td><td>⋯</td><td>0</td><td>0</td><td>0</td><td>0</td><td>0</td><td>0</td><td>0</td><td>0</td><td>0</td><td>0</td></tr>\n",
       "\t<tr><th scope=row>5</th><td>1</td><td>0</td><td>0</td><td>1</td><td>0</td><td>0</td><td>0</td><td>1</td><td>22</td><td>4.84</td><td>⋯</td><td>0</td><td>0</td><td>0</td><td>0</td><td>0</td><td>0</td><td>0</td><td>0</td><td>0</td><td>0</td></tr>\n",
       "\t<tr><th scope=row>6</th><td>1</td><td>0</td><td>0</td><td>1</td><td>0</td><td>0</td><td>0</td><td>1</td><td> 1</td><td>0.01</td><td>⋯</td><td>0</td><td>0</td><td>0</td><td>0</td><td>0</td><td>0</td><td>0</td><td>0</td><td>0</td><td>0</td></tr>\n",
       "</tbody>\n",
       "</table>\n"
      ],
      "text/latex": [
       "A data.frame: 6 × 816\n",
       "\\begin{tabular}{r|lllllllllllllllllllll}\n",
       "  & sex & hsg & scl & clg & ad & so & we & ne & exp1 & exp2 & ⋯ & occ2\\_22\\_ind2\\_11 & occ2\\_22\\_ind2\\_13 & occ2\\_22\\_ind2\\_14 & occ2\\_22\\_ind2\\_16 & occ2\\_22\\_ind2\\_17 & occ2\\_22\\_ind2\\_18 & occ2\\_22\\_ind2\\_19 & occ2\\_22\\_ind2\\_20 & occ2\\_22\\_ind2\\_21 & occ2\\_22\\_ind2\\_22\\\\\n",
       "  & <dbl> & <dbl> & <dbl> & <dbl> & <dbl> & <dbl> & <dbl> & <dbl> & <dbl> & <dbl> & ⋯ & <int> & <int> & <int> & <int> & <int> & <int> & <int> & <int> & <int> & <int>\\\\\n",
       "\\hline\n",
       "\t1 & 1 & 0 & 0 & 1 & 0 & 0 & 0 & 1 &  7 & 0.49 & ⋯ & 0 & 0 & 0 & 0 & 0 & 0 & 0 & 0 & 0 & 0\\\\\n",
       "\t2 & 0 & 0 & 0 & 1 & 0 & 0 & 0 & 1 & 31 & 9.61 & ⋯ & 0 & 0 & 0 & 0 & 0 & 0 & 0 & 0 & 0 & 0\\\\\n",
       "\t3 & 0 & 1 & 0 & 0 & 0 & 0 & 0 & 1 & 18 & 3.24 & ⋯ & 0 & 0 & 0 & 0 & 0 & 0 & 0 & 0 & 0 & 0\\\\\n",
       "\t4 & 1 & 0 & 0 & 0 & 1 & 0 & 0 & 1 & 25 & 6.25 & ⋯ & 0 & 0 & 0 & 0 & 0 & 0 & 0 & 0 & 0 & 0\\\\\n",
       "\t5 & 1 & 0 & 0 & 1 & 0 & 0 & 0 & 1 & 22 & 4.84 & ⋯ & 0 & 0 & 0 & 0 & 0 & 0 & 0 & 0 & 0 & 0\\\\\n",
       "\t6 & 1 & 0 & 0 & 1 & 0 & 0 & 0 & 1 &  1 & 0.01 & ⋯ & 0 & 0 & 0 & 0 & 0 & 0 & 0 & 0 & 0 & 0\\\\\n",
       "\\end{tabular}\n"
      ],
      "text/markdown": [
       "\n",
       "A data.frame: 6 × 816\n",
       "\n",
       "| <!--/--> | sex &lt;dbl&gt; | hsg &lt;dbl&gt; | scl &lt;dbl&gt; | clg &lt;dbl&gt; | ad &lt;dbl&gt; | so &lt;dbl&gt; | we &lt;dbl&gt; | ne &lt;dbl&gt; | exp1 &lt;dbl&gt; | exp2 &lt;dbl&gt; | ⋯ ⋯ | occ2_22_ind2_11 &lt;int&gt; | occ2_22_ind2_13 &lt;int&gt; | occ2_22_ind2_14 &lt;int&gt; | occ2_22_ind2_16 &lt;int&gt; | occ2_22_ind2_17 &lt;int&gt; | occ2_22_ind2_18 &lt;int&gt; | occ2_22_ind2_19 &lt;int&gt; | occ2_22_ind2_20 &lt;int&gt; | occ2_22_ind2_21 &lt;int&gt; | occ2_22_ind2_22 &lt;int&gt; |\n",
       "|---|---|---|---|---|---|---|---|---|---|---|---|---|---|---|---|---|---|---|---|---|---|\n",
       "| 1 | 1 | 0 | 0 | 1 | 0 | 0 | 0 | 1 |  7 | 0.49 | ⋯ | 0 | 0 | 0 | 0 | 0 | 0 | 0 | 0 | 0 | 0 |\n",
       "| 2 | 0 | 0 | 0 | 1 | 0 | 0 | 0 | 1 | 31 | 9.61 | ⋯ | 0 | 0 | 0 | 0 | 0 | 0 | 0 | 0 | 0 | 0 |\n",
       "| 3 | 0 | 1 | 0 | 0 | 0 | 0 | 0 | 1 | 18 | 3.24 | ⋯ | 0 | 0 | 0 | 0 | 0 | 0 | 0 | 0 | 0 | 0 |\n",
       "| 4 | 1 | 0 | 0 | 0 | 1 | 0 | 0 | 1 | 25 | 6.25 | ⋯ | 0 | 0 | 0 | 0 | 0 | 0 | 0 | 0 | 0 | 0 |\n",
       "| 5 | 1 | 0 | 0 | 1 | 0 | 0 | 0 | 1 | 22 | 4.84 | ⋯ | 0 | 0 | 0 | 0 | 0 | 0 | 0 | 0 | 0 | 0 |\n",
       "| 6 | 1 | 0 | 0 | 1 | 0 | 0 | 0 | 1 |  1 | 0.01 | ⋯ | 0 | 0 | 0 | 0 | 0 | 0 | 0 | 0 | 0 | 0 |\n",
       "\n"
      ],
      "text/plain": [
       "  sex hsg scl clg ad so we ne exp1 exp2 ⋯ occ2_22_ind2_11 occ2_22_ind2_13\n",
       "1 1   0   0   1   0  0  0  1   7   0.49 ⋯ 0               0              \n",
       "2 0   0   0   1   0  0  0  1  31   9.61 ⋯ 0               0              \n",
       "3 0   1   0   0   0  0  0  1  18   3.24 ⋯ 0               0              \n",
       "4 1   0   0   0   1  0  0  1  25   6.25 ⋯ 0               0              \n",
       "5 1   0   0   1   0  0  0  1  22   4.84 ⋯ 0               0              \n",
       "6 1   0   0   1   0  0  0  1   1   0.01 ⋯ 0               0              \n",
       "  occ2_22_ind2_14 occ2_22_ind2_16 occ2_22_ind2_17 occ2_22_ind2_18\n",
       "1 0               0               0               0              \n",
       "2 0               0               0               0              \n",
       "3 0               0               0               0              \n",
       "4 0               0               0               0              \n",
       "5 0               0               0               0              \n",
       "6 0               0               0               0              \n",
       "  occ2_22_ind2_19 occ2_22_ind2_20 occ2_22_ind2_21 occ2_22_ind2_22\n",
       "1 0               0               0               0              \n",
       "2 0               0               0               0              \n",
       "3 0               0               0               0              \n",
       "4 0               0               0               0              \n",
       "5 0               0               0               0              \n",
       "6 0               0               0               0              "
      ]
     },
     "metadata": {},
     "output_type": "display_data"
    }
   ],
   "source": [
    "# Elimino columnas repetidas\n",
    "\n",
    "unique_columns <- sapply(extra_flexible_independent_variables, function(col) {\n",
    "  sapply(extra_flexible_independent_variables, function(other_col) {\n",
    "    identical(col, other_col)\n",
    "  })\n",
    "})\n",
    "\n",
    "columns_to_remove <- apply(unique_columns, 2, function(x) {\n",
    "  which(x)[-1]  \n",
    "})\n",
    "\n",
    "columns_to_remove <- unique(unlist(columns_to_remove))\n",
    "\n",
    "extra_flexible_independent_variables <- extra_flexible_independent_variables %>%\n",
    "  select(-all_of(names(extra_flexible_independent_variables)[columns_to_remove]))\n",
    "\n",
    "head(extra_flexible_independent_variables)\n"
   ]
  },
  {
   "cell_type": "code",
   "execution_count": 23,
   "metadata": {
    "vscode": {
     "languageId": "r"
    }
   },
   "outputs": [
    {
     "data": {
      "text/html": [
       "<table class=\"dataframe\">\n",
       "<caption>A data.frame: 6 × 814</caption>\n",
       "<thead>\n",
       "\t<tr><th></th><th scope=col>sex</th><th scope=col>hsg</th><th scope=col>scl</th><th scope=col>clg</th><th scope=col>ad</th><th scope=col>so</th><th scope=col>we</th><th scope=col>ne</th><th scope=col>exp1</th><th scope=col>exp2</th><th scope=col>⋯</th><th scope=col>occ2_22_ind2_11</th><th scope=col>occ2_22_ind2_13</th><th scope=col>occ2_22_ind2_14</th><th scope=col>occ2_22_ind2_16</th><th scope=col>occ2_22_ind2_17</th><th scope=col>occ2_22_ind2_18</th><th scope=col>occ2_22_ind2_19</th><th scope=col>occ2_22_ind2_20</th><th scope=col>occ2_22_ind2_21</th><th scope=col>occ2_22_ind2_22</th></tr>\n",
       "\t<tr><th></th><th scope=col>&lt;dbl&gt;</th><th scope=col>&lt;dbl&gt;</th><th scope=col>&lt;dbl&gt;</th><th scope=col>&lt;dbl&gt;</th><th scope=col>&lt;dbl&gt;</th><th scope=col>&lt;dbl&gt;</th><th scope=col>&lt;dbl&gt;</th><th scope=col>&lt;dbl&gt;</th><th scope=col>&lt;dbl&gt;</th><th scope=col>&lt;dbl&gt;</th><th scope=col>⋯</th><th scope=col>&lt;int&gt;</th><th scope=col>&lt;int&gt;</th><th scope=col>&lt;int&gt;</th><th scope=col>&lt;int&gt;</th><th scope=col>&lt;int&gt;</th><th scope=col>&lt;int&gt;</th><th scope=col>&lt;int&gt;</th><th scope=col>&lt;int&gt;</th><th scope=col>&lt;int&gt;</th><th scope=col>&lt;int&gt;</th></tr>\n",
       "</thead>\n",
       "<tbody>\n",
       "\t<tr><th scope=row>1</th><td>1</td><td>0</td><td>0</td><td>1</td><td>0</td><td>0</td><td>0</td><td>1</td><td> 7</td><td>0.49</td><td>⋯</td><td>0</td><td>0</td><td>0</td><td>0</td><td>0</td><td>0</td><td>0</td><td>0</td><td>0</td><td>0</td></tr>\n",
       "\t<tr><th scope=row>2</th><td>0</td><td>0</td><td>0</td><td>1</td><td>0</td><td>0</td><td>0</td><td>1</td><td>31</td><td>9.61</td><td>⋯</td><td>0</td><td>0</td><td>0</td><td>0</td><td>0</td><td>0</td><td>0</td><td>0</td><td>0</td><td>0</td></tr>\n",
       "\t<tr><th scope=row>3</th><td>0</td><td>1</td><td>0</td><td>0</td><td>0</td><td>0</td><td>0</td><td>1</td><td>18</td><td>3.24</td><td>⋯</td><td>0</td><td>0</td><td>0</td><td>0</td><td>0</td><td>0</td><td>0</td><td>0</td><td>0</td><td>0</td></tr>\n",
       "\t<tr><th scope=row>4</th><td>1</td><td>0</td><td>0</td><td>0</td><td>1</td><td>0</td><td>0</td><td>1</td><td>25</td><td>6.25</td><td>⋯</td><td>0</td><td>0</td><td>0</td><td>0</td><td>0</td><td>0</td><td>0</td><td>0</td><td>0</td><td>0</td></tr>\n",
       "\t<tr><th scope=row>5</th><td>1</td><td>0</td><td>0</td><td>1</td><td>0</td><td>0</td><td>0</td><td>1</td><td>22</td><td>4.84</td><td>⋯</td><td>0</td><td>0</td><td>0</td><td>0</td><td>0</td><td>0</td><td>0</td><td>0</td><td>0</td><td>0</td></tr>\n",
       "\t<tr><th scope=row>6</th><td>1</td><td>0</td><td>0</td><td>1</td><td>0</td><td>0</td><td>0</td><td>1</td><td> 1</td><td>0.01</td><td>⋯</td><td>0</td><td>0</td><td>0</td><td>0</td><td>0</td><td>0</td><td>0</td><td>0</td><td>0</td><td>0</td></tr>\n",
       "</tbody>\n",
       "</table>\n"
      ],
      "text/latex": [
       "A data.frame: 6 × 814\n",
       "\\begin{tabular}{r|lllllllllllllllllllll}\n",
       "  & sex & hsg & scl & clg & ad & so & we & ne & exp1 & exp2 & ⋯ & occ2\\_22\\_ind2\\_11 & occ2\\_22\\_ind2\\_13 & occ2\\_22\\_ind2\\_14 & occ2\\_22\\_ind2\\_16 & occ2\\_22\\_ind2\\_17 & occ2\\_22\\_ind2\\_18 & occ2\\_22\\_ind2\\_19 & occ2\\_22\\_ind2\\_20 & occ2\\_22\\_ind2\\_21 & occ2\\_22\\_ind2\\_22\\\\\n",
       "  & <dbl> & <dbl> & <dbl> & <dbl> & <dbl> & <dbl> & <dbl> & <dbl> & <dbl> & <dbl> & ⋯ & <int> & <int> & <int> & <int> & <int> & <int> & <int> & <int> & <int> & <int>\\\\\n",
       "\\hline\n",
       "\t1 & 1 & 0 & 0 & 1 & 0 & 0 & 0 & 1 &  7 & 0.49 & ⋯ & 0 & 0 & 0 & 0 & 0 & 0 & 0 & 0 & 0 & 0\\\\\n",
       "\t2 & 0 & 0 & 0 & 1 & 0 & 0 & 0 & 1 & 31 & 9.61 & ⋯ & 0 & 0 & 0 & 0 & 0 & 0 & 0 & 0 & 0 & 0\\\\\n",
       "\t3 & 0 & 1 & 0 & 0 & 0 & 0 & 0 & 1 & 18 & 3.24 & ⋯ & 0 & 0 & 0 & 0 & 0 & 0 & 0 & 0 & 0 & 0\\\\\n",
       "\t4 & 1 & 0 & 0 & 0 & 1 & 0 & 0 & 1 & 25 & 6.25 & ⋯ & 0 & 0 & 0 & 0 & 0 & 0 & 0 & 0 & 0 & 0\\\\\n",
       "\t5 & 1 & 0 & 0 & 1 & 0 & 0 & 0 & 1 & 22 & 4.84 & ⋯ & 0 & 0 & 0 & 0 & 0 & 0 & 0 & 0 & 0 & 0\\\\\n",
       "\t6 & 1 & 0 & 0 & 1 & 0 & 0 & 0 & 1 &  1 & 0.01 & ⋯ & 0 & 0 & 0 & 0 & 0 & 0 & 0 & 0 & 0 & 0\\\\\n",
       "\\end{tabular}\n"
      ],
      "text/markdown": [
       "\n",
       "A data.frame: 6 × 814\n",
       "\n",
       "| <!--/--> | sex &lt;dbl&gt; | hsg &lt;dbl&gt; | scl &lt;dbl&gt; | clg &lt;dbl&gt; | ad &lt;dbl&gt; | so &lt;dbl&gt; | we &lt;dbl&gt; | ne &lt;dbl&gt; | exp1 &lt;dbl&gt; | exp2 &lt;dbl&gt; | ⋯ ⋯ | occ2_22_ind2_11 &lt;int&gt; | occ2_22_ind2_13 &lt;int&gt; | occ2_22_ind2_14 &lt;int&gt; | occ2_22_ind2_16 &lt;int&gt; | occ2_22_ind2_17 &lt;int&gt; | occ2_22_ind2_18 &lt;int&gt; | occ2_22_ind2_19 &lt;int&gt; | occ2_22_ind2_20 &lt;int&gt; | occ2_22_ind2_21 &lt;int&gt; | occ2_22_ind2_22 &lt;int&gt; |\n",
       "|---|---|---|---|---|---|---|---|---|---|---|---|---|---|---|---|---|---|---|---|---|---|\n",
       "| 1 | 1 | 0 | 0 | 1 | 0 | 0 | 0 | 1 |  7 | 0.49 | ⋯ | 0 | 0 | 0 | 0 | 0 | 0 | 0 | 0 | 0 | 0 |\n",
       "| 2 | 0 | 0 | 0 | 1 | 0 | 0 | 0 | 1 | 31 | 9.61 | ⋯ | 0 | 0 | 0 | 0 | 0 | 0 | 0 | 0 | 0 | 0 |\n",
       "| 3 | 0 | 1 | 0 | 0 | 0 | 0 | 0 | 1 | 18 | 3.24 | ⋯ | 0 | 0 | 0 | 0 | 0 | 0 | 0 | 0 | 0 | 0 |\n",
       "| 4 | 1 | 0 | 0 | 0 | 1 | 0 | 0 | 1 | 25 | 6.25 | ⋯ | 0 | 0 | 0 | 0 | 0 | 0 | 0 | 0 | 0 | 0 |\n",
       "| 5 | 1 | 0 | 0 | 1 | 0 | 0 | 0 | 1 | 22 | 4.84 | ⋯ | 0 | 0 | 0 | 0 | 0 | 0 | 0 | 0 | 0 | 0 |\n",
       "| 6 | 1 | 0 | 0 | 1 | 0 | 0 | 0 | 1 |  1 | 0.01 | ⋯ | 0 | 0 | 0 | 0 | 0 | 0 | 0 | 0 | 0 | 0 |\n",
       "\n"
      ],
      "text/plain": [
       "  sex hsg scl clg ad so we ne exp1 exp2 ⋯ occ2_22_ind2_11 occ2_22_ind2_13\n",
       "1 1   0   0   1   0  0  0  1   7   0.49 ⋯ 0               0              \n",
       "2 0   0   0   1   0  0  0  1  31   9.61 ⋯ 0               0              \n",
       "3 0   1   0   0   0  0  0  1  18   3.24 ⋯ 0               0              \n",
       "4 1   0   0   0   1  0  0  1  25   6.25 ⋯ 0               0              \n",
       "5 1   0   0   1   0  0  0  1  22   4.84 ⋯ 0               0              \n",
       "6 1   0   0   1   0  0  0  1   1   0.01 ⋯ 0               0              \n",
       "  occ2_22_ind2_14 occ2_22_ind2_16 occ2_22_ind2_17 occ2_22_ind2_18\n",
       "1 0               0               0               0              \n",
       "2 0               0               0               0              \n",
       "3 0               0               0               0              \n",
       "4 0               0               0               0              \n",
       "5 0               0               0               0              \n",
       "6 0               0               0               0              \n",
       "  occ2_22_ind2_19 occ2_22_ind2_20 occ2_22_ind2_21 occ2_22_ind2_22\n",
       "1 0               0               0               0              \n",
       "2 0               0               0               0              \n",
       "3 0               0               0               0              \n",
       "4 0               0               0               0              \n",
       "5 0               0               0               0              \n",
       "6 0               0               0               0              "
      ]
     },
     "metadata": {},
     "output_type": "display_data"
    }
   ],
   "source": [
    "# eliminar columnas que tienen 0\n",
    "cols_to_keep <- colSums(extra_flexible_independent_variables != 0) > 0\n",
    "\n",
    "# Filtrar el DataFrame para mantener solo las columnas deseadas\n",
    "extra_flexible_independent_variables <- extra_flexible_independent_variables[, cols_to_keep]\n",
    "\n",
    "# Mostrar el DataFrame filtrado\n",
    "head( extra_flexible_independent_variables)\n"
   ]
  },
  {
   "cell_type": "code",
   "execution_count": 24,
   "metadata": {
    "vscode": {
     "languageId": "r"
    }
   },
   "outputs": [],
   "source": [
    "\n",
    "# Renombro las diferentes versiones de las variables independientes\n",
    "x_extra_flexible <-(extra_flexible_independent_variables)\n",
    "x <- (independent_variables)\n",
    "x_flexible <- (flexible_independent_variables)\n",
    "\n"
   ]
  },
  {
   "cell_type": "code",
   "execution_count": 25,
   "metadata": {
    "vscode": {
     "languageId": "r"
    }
   },
   "outputs": [],
   "source": [
    "# Renombro la variable dependiente\n",
    "y <- (lwage)\n"
   ]
  },
  {
   "cell_type": "markdown",
   "metadata": {},
   "source": [
    "## 3 "
   ]
  },
  {
   "cell_type": "markdown",
   "metadata": {},
   "source": [
    "#### 3.9 separación de dataframe"
   ]
  },
  {
   "cell_type": "code",
   "execution_count": 26,
   "metadata": {
    "vscode": {
     "languageId": "r"
    }
   },
   "outputs": [],
   "source": [
    "data_basico <- data.frame(y,x)\n",
    "data_flexible <- data.frame(y,x_flexible)\n",
    "data_extraflexible <- data.frame(y,x_extra_flexible)"
   ]
  },
  {
   "cell_type": "markdown",
   "metadata": {},
   "source": [
    "#### 3.10 Estimación de modelos"
   ]
  },
  {
   "cell_type": "markdown",
   "metadata": {},
   "source": [
    "#### Modelo Basico"
   ]
  },
  {
   "cell_type": "code",
   "execution_count": 27,
   "metadata": {
    "vscode": {
     "languageId": "r"
    }
   },
   "outputs": [],
   "source": [
    "# Separo los datos en testeo y entrenamiento\n",
    "sample_1 <- sample.split(data_basico$y, SplitRatio = 0.8)\n",
    "train_1 <- subset(data_basico, sample_1 == TRUE)\n",
    "test_1 <- subset(data_basico, sample_1 == FALSE)\n"
   ]
  },
  {
   "cell_type": "code",
   "execution_count": 28,
   "metadata": {
    "vscode": {
     "languageId": "r"
    }
   },
   "outputs": [
    {
     "data": {
      "text/plain": [
       "\n",
       "Call:\n",
       "lm(formula = y ~ . - 1, data = train_1)\n",
       "\n",
       "Coefficients:\n",
       "     sex       hsg       scl       clg        ad        so        we        ne  \n",
       "-0.01865   0.65851   0.80851   1.12730   1.30781   0.06616   0.11944   0.07422  \n",
       "    exp1      exp2      exp3      exp4    occ2_2    occ2_3    occ2_4    occ2_5  \n",
       " 0.11251  -0.78532   0.23748  -0.02526   0.08009   0.07065   0.11056  -0.01864  \n",
       "  occ2_6    occ2_7    occ2_8    occ2_9   occ2_10   occ2_11   occ2_12   occ2_13  \n",
       "-0.31910   0.10513  -0.29344  -0.09554   0.11019  -0.29239  -0.08443  -0.21617  \n",
       " occ2_14   occ2_15   occ2_16   occ2_17   occ2_18   occ2_19   occ2_20   occ2_21  \n",
       "-0.31069  -0.30611  -0.11163  -0.28522  -0.12339   0.27966   0.01128  -0.07856  \n",
       " occ2_22    ind2_3    ind2_4    ind2_5    ind2_6    ind2_7    ind2_8    ind2_9  \n",
       "-0.19615   1.64850   1.46029   1.58573   1.64186   1.82277   1.71553   1.49390  \n",
       " ind2_10   ind2_11   ind2_12   ind2_13   ind2_14   ind2_15   ind2_16   ind2_17  \n",
       " 1.65334   1.67360   1.80009   1.71265   1.68437   1.57717   1.59942   1.58242  \n",
       " ind2_18   ind2_19   ind2_20   ind2_21   ind2_22  \n",
       " 1.52361   1.47776   1.36578   1.54025   1.71284  \n"
      ]
     },
     "metadata": {},
     "output_type": "display_data"
    }
   ],
   "source": [
    "# Estimación del modelo\n",
    "model_1 <- lm(y ~ . - 1, data = train_1)\n",
    "model_1"
   ]
  },
  {
   "cell_type": "code",
   "execution_count": 29,
   "metadata": {
    "vscode": {
     "languageId": "r"
    }
   },
   "outputs": [],
   "source": [
    "y_1_train = train_1$y\n"
   ]
  },
  {
   "cell_type": "code",
   "execution_count": 30,
   "metadata": {
    "vscode": {
     "languageId": "r"
    }
   },
   "outputs": [],
   "source": [
    "# Predigo los salarios con la data de entrenamiento\n",
    "y_1_hat_train = predict(model_1, train_1)\n"
   ]
  },
  {
   "cell_type": "code",
   "execution_count": 31,
   "metadata": {
    "vscode": {
     "languageId": "r"
    }
   },
   "outputs": [],
   "source": [
    "y_1_test = test_1$y\n"
   ]
  },
  {
   "cell_type": "code",
   "execution_count": 32,
   "metadata": {
    "vscode": {
     "languageId": "r"
    }
   },
   "outputs": [],
   "source": [
    "# Predigo los salarios con la data de testeo\n",
    "y_1_hat_test = predict(model_1, test_1)\n"
   ]
  },
  {
   "cell_type": "markdown",
   "metadata": {},
   "source": [
    "### Modelo Flexible"
   ]
  },
  {
   "cell_type": "code",
   "execution_count": 33,
   "metadata": {
    "vscode": {
     "languageId": "r"
    }
   },
   "outputs": [],
   "source": [
    "## Separo los datos\n",
    "sample_2 <- sample.split(data_flexible$y, SplitRatio = 0.8)\n",
    "train_2 <- subset(data_flexible, sample_2 == TRUE)\n",
    "test_2 <- subset(data_flexible, sample_2 == FALSE)\n"
   ]
  },
  {
   "cell_type": "code",
   "execution_count": 34,
   "metadata": {
    "vscode": {
     "languageId": "r"
    }
   },
   "outputs": [
    {
     "data": {
      "text/plain": [
       "\n",
       "Call:\n",
       "lm(formula = y ~ . - 1, data = train_2)\n",
       "\n",
       "Coefficients:\n",
       "         sex           hsg           scl           clg            ad  \n",
       "   -0.077362      3.096161      3.404311      3.617463      3.642079  \n",
       "          so            we            ne          exp1          exp2  \n",
       "   -0.153527     -0.142243     -0.138291      0.502704     -1.616391  \n",
       "        exp3          exp4        occ2_2        occ2_3        occ2_4  \n",
       "   -0.202248      0.093423      0.332114      0.290680      0.208459  \n",
       "      occ2_5        occ2_6        occ2_7        occ2_8        occ2_9  \n",
       "   -0.296901     -0.127788      0.311781     -0.093820     -0.137232  \n",
       "     occ2_10       occ2_11       occ2_12       occ2_13       occ2_14  \n",
       "    0.111055     -0.463592     -0.051266     -0.151905      0.272220  \n",
       "     occ2_15       occ2_16       occ2_17       occ2_18       occ2_19  \n",
       "   -0.040542      0.091844     -0.333007     -0.520659     -0.347189  \n",
       "     occ2_20       occ2_21       occ2_22        ind2_3        ind2_4  \n",
       "   -0.364253     -0.490765     -0.636431     -1.178989      0.160751  \n",
       "      ind2_5        ind2_6        ind2_7        ind2_8        ind2_9  \n",
       "   -0.214143     -0.309419     -0.374486     -0.473838     -0.644232  \n",
       "     ind2_10       ind2_11       ind2_12       ind2_13       ind2_14  \n",
       "   -0.437990     -0.823526     -0.489872     -0.813548     -0.316805  \n",
       "     ind2_15       ind2_16       ind2_17       ind2_18       ind2_19  \n",
       "   -0.175468     -0.299270     -0.646515     -0.484163     -0.519858  \n",
       "     ind2_20       ind2_21       ind2_22      exp1_hsg      exp1_scl  \n",
       "   -0.616277     -0.378991     -0.103764     -0.531732     -0.600089  \n",
       "    exp1_clg       exp1_ad       exp1_so       exp1_we       exp1_ne  \n",
       "   -0.575424     -0.521840      0.034569      0.042698      0.043015  \n",
       " exp1_occ2_2   exp1_occ2_3   exp1_occ2_4   exp1_occ2_5   exp1_occ2_6  \n",
       "   -0.146343     -0.130935     -0.152451      0.068826     -0.077344  \n",
       " exp1_occ2_7   exp1_occ2_8   exp1_occ2_9  exp1_occ2_10  exp1_occ2_11  \n",
       "   -0.234684     -0.106330     -0.055946     -0.027260      0.046003  \n",
       "exp1_occ2_12  exp1_occ2_13  exp1_occ2_14  exp1_occ2_15  exp1_occ2_16  \n",
       "   -0.117601     -0.016588     -0.147683     -0.108447     -0.121585  \n",
       "exp1_occ2_17  exp1_occ2_18  exp1_occ2_19  exp1_occ2_20  exp1_occ2_21  \n",
       "   -0.025180      0.117220      0.019744      0.037360      0.075299  \n",
       "exp1_occ2_22   exp1_ind2_3   exp1_ind2_4   exp1_ind2_5   exp1_ind2_6  \n",
       "    0.048022      0.483469     -0.018140      0.047298      0.081193  \n",
       " exp1_ind2_7   exp1_ind2_8   exp1_ind2_9  exp1_ind2_10  exp1_ind2_11  \n",
       "    0.059692      0.212207      0.123717      0.122254      0.288251  \n",
       "exp1_ind2_12  exp1_ind2_13  exp1_ind2_14  exp1_ind2_15  exp1_ind2_16  \n",
       "    0.223078      0.296768      0.107170     -0.075813      0.020820  \n",
       "exp1_ind2_17  exp1_ind2_18  exp1_ind2_19  exp1_ind2_20  exp1_ind2_21  \n",
       "    0.151571      0.099496      0.054038      0.051345      0.121224  \n",
       "exp1_ind2_22      exp2_hsg      exp2_scl      exp2_clg       exp2_ad  \n",
       "    0.057175      3.001140      3.666863      3.293496      2.933268  \n",
       "     exp2_so       exp2_we       exp2_ne   exp2_occ2_2   exp2_occ2_3  \n",
       "   -0.236014     -0.290686     -0.358557      1.550550      1.452053  \n",
       " exp2_occ2_4   exp2_occ2_5   exp2_occ2_6   exp2_occ2_7   exp2_occ2_8  \n",
       "    1.877449     -0.805256      0.513055      3.281357      0.990980  \n",
       " exp2_occ2_9  exp2_occ2_10  exp2_occ2_11  exp2_occ2_12  exp2_occ2_13  \n",
       "    0.933997      0.037374     -0.648541      1.230552      0.057768  \n",
       "exp2_occ2_14  exp2_occ2_15  exp2_occ2_16  exp2_occ2_17  exp2_occ2_18  \n",
       "    0.968381      0.683721      1.119451      0.162809     -2.550717  \n",
       "exp2_occ2_19  exp2_occ2_20  exp2_occ2_21  exp2_occ2_22   exp2_ind2_3  \n",
       "   -0.306024     -0.415973     -0.804084     -0.299941     -6.350768  \n",
       " exp2_ind2_4   exp2_ind2_5   exp2_ind2_6   exp2_ind2_7   exp2_ind2_8  \n",
       "   -1.122539     -1.591838     -1.695756     -0.907171     -3.056879  \n",
       " exp2_ind2_9  exp2_ind2_10  exp2_ind2_11  exp2_ind2_12  exp2_ind2_13  \n",
       "   -2.003531     -2.187234     -3.790212     -3.178154     -3.747314  \n",
       "exp2_ind2_14  exp2_ind2_15  exp2_ind2_16  exp2_ind2_17  exp2_ind2_18  \n",
       "   -2.171493      0.150092     -0.993410     -2.206883     -1.861434  \n",
       "exp2_ind2_19  exp2_ind2_20  exp2_ind2_21  exp2_ind2_22      exp3_hsg  \n",
       "   -1.175754     -1.405179     -2.384797     -1.617706     -0.662235  \n",
       "    exp3_scl      exp3_clg       exp3_ad       exp3_so       exp3_we  \n",
       "   -0.897695     -0.732272     -0.651281      0.059626      0.083651  \n",
       "     exp3_ne   exp3_occ2_2   exp3_occ2_3   exp3_occ2_4   exp3_occ2_5  \n",
       "    0.114142     -0.591205     -0.605690     -0.806207      0.306401  \n",
       " exp3_occ2_6   exp3_occ2_7   exp3_occ2_8   exp3_occ2_9  exp3_occ2_10  \n",
       "   -0.087379     -1.470034     -0.322366     -0.463719      0.085361  \n",
       "exp3_occ2_11  exp3_occ2_12  exp3_occ2_13  exp3_occ2_14  exp3_occ2_15  \n",
       "    0.258226     -0.385004     -0.033614     -0.251644     -0.116732  \n",
       "exp3_occ2_16  exp3_occ2_17  exp3_occ2_18  exp3_occ2_19  exp3_occ2_20  \n",
       "   -0.329624     -0.014593      1.378870      0.188275      0.186313  \n",
       "exp3_occ2_21  exp3_occ2_22   exp3_ind2_3   exp3_ind2_4   exp3_ind2_5  \n",
       "    0.328030      0.085846      2.931185      0.829349      0.952577  \n",
       " exp3_ind2_6   exp3_ind2_7   exp3_ind2_8   exp3_ind2_9  exp3_ind2_10  \n",
       "    0.933685      0.488261      1.364295      1.012664      1.136551  \n",
       "exp3_ind2_11  exp3_ind2_12  exp3_ind2_13  exp3_ind2_14  exp3_ind2_15  \n",
       "    1.724225      1.501347      1.619603      1.205189      0.257470  \n",
       "exp3_ind2_16  exp3_ind2_17  exp3_ind2_18  exp3_ind2_19  exp3_ind2_20  \n",
       "    0.667529      1.081186      1.013035      0.685575      0.871157  \n",
       "exp3_ind2_21  exp3_ind2_22      exp4_hsg      exp4_scl      exp4_clg  \n",
       "    1.272438      0.986556      0.048442      0.075069      0.053067  \n",
       "     exp4_ad       exp4_so       exp4_we       exp4_ne   exp4_occ2_2  \n",
       "    0.047273     -0.004686     -0.008789     -0.011644      0.071696  \n",
       " exp4_occ2_3   exp4_occ2_4   exp4_occ2_5   exp4_occ2_6   exp4_occ2_7  \n",
       "    0.082034      0.107245     -0.037143     -0.002196      0.202407  \n",
       " exp4_occ2_8   exp4_occ2_9  exp4_occ2_10  exp4_occ2_11  exp4_occ2_12  \n",
       "    0.034411      0.068747     -0.021945     -0.031684      0.032648  \n",
       "exp4_occ2_13  exp4_occ2_14  exp4_occ2_15  exp4_occ2_16  exp4_occ2_17  \n",
       "    0.004499      0.020635     -0.001319      0.027122     -0.004732  \n",
       "exp4_occ2_18  exp4_occ2_19  exp4_occ2_20  exp4_occ2_21  exp4_occ2_22  \n",
       "   -0.206627     -0.034040     -0.026858     -0.045808     -0.010751  \n",
       " exp4_ind2_3   exp4_ind2_4   exp4_ind2_5   exp4_ind2_6   exp4_ind2_7  \n",
       "   -0.429456     -0.141273     -0.150607     -0.144167     -0.073755  \n",
       " exp4_ind2_8   exp4_ind2_9  exp4_ind2_10  exp4_ind2_11  exp4_ind2_12  \n",
       "   -0.185399     -0.150084     -0.169671     -0.244201     -0.216583  \n",
       "exp4_ind2_13  exp4_ind2_14  exp4_ind2_15  exp4_ind2_16  exp4_ind2_17  \n",
       "   -0.220020     -0.187573     -0.066471     -0.112692     -0.159327  \n",
       "exp4_ind2_18  exp4_ind2_19  exp4_ind2_20  exp4_ind2_21  exp4_ind2_22  \n",
       "   -0.157627     -0.107729     -0.143805     -0.194297     -0.161517  \n"
      ]
     },
     "metadata": {},
     "output_type": "display_data"
    }
   ],
   "source": [
    "# Estimo el modelo\n",
    "model_2 <- lm(y ~ . - 1, data = train_2)\n",
    "model_2"
   ]
  },
  {
   "cell_type": "code",
   "execution_count": 35,
   "metadata": {
    "vscode": {
     "languageId": "r"
    }
   },
   "outputs": [],
   "source": [
    "# Predigo el entrenamiento\n",
    "y_2_train = train_2$y\n",
    "y_2_hat_train = predict(model_2, train_2)\n",
    "\n"
   ]
  },
  {
   "cell_type": "code",
   "execution_count": 36,
   "metadata": {
    "vscode": {
     "languageId": "r"
    }
   },
   "outputs": [],
   "source": [
    "# Predigo con los datos de testeo\n",
    "y_2_test = test_2$y\n",
    "y_2_hat_test = predict(model_2, test_2)\n"
   ]
  },
  {
   "cell_type": "markdown",
   "metadata": {},
   "source": [
    "### Modelo Extraflexible"
   ]
  },
  {
   "cell_type": "code",
   "execution_count": 37,
   "metadata": {
    "vscode": {
     "languageId": "r"
    }
   },
   "outputs": [],
   "source": [
    "sample_3 <- sample.split(data_extraflexible$y, SplitRatio = 0.8)\n",
    "train_3 <- subset(data_extraflexible, sample_3 == TRUE)\n",
    "test_3 <- subset(data_extraflexible, sample_3 == FALSE)\n"
   ]
  },
  {
   "cell_type": "code",
   "execution_count": 38,
   "metadata": {
    "vscode": {
     "languageId": "r"
    }
   },
   "outputs": [
    {
     "data": {
      "text/plain": [
       "\n",
       "Call:\n",
       "lm(formula = y ~ . - 1, data = train_3)\n",
       "\n",
       "Coefficients:\n",
       "            sex              hsg              scl              clg  \n",
       "     -0.0638462        1.4372240        1.8880515        2.9073203  \n",
       "             ad               so               we               ne  \n",
       "      1.7433756       -0.0514323        0.5588682       -0.7617758  \n",
       "           exp1             exp2             exp3             exp4  \n",
       "      0.3406102       -0.8273736        0.7067231       -1.2655604  \n",
       "         occ2_2           occ2_3           occ2_4           occ2_5  \n",
       "     -0.0030793       -0.0278242        2.1191240       -0.5634510  \n",
       "         occ2_6           occ2_7           occ2_8           occ2_9  \n",
       "     -0.7225926       -0.9584974       -0.2480670       -0.6790634  \n",
       "        occ2_10          occ2_11          occ2_12          occ2_13  \n",
       "     -0.5794300       -0.6395140        0.6737268       -0.3218901  \n",
       "        occ2_14          occ2_15          occ2_16          occ2_17  \n",
       "      0.1780546       -1.8150304        0.9518920       -0.4528011  \n",
       "        occ2_18          occ2_19          occ2_20          occ2_21  \n",
       "      0.6393161       -0.0035728        0.2046954       -0.4229066  \n",
       "        occ2_22           ind2_3           ind2_4           ind2_5  \n",
       "     -0.3557881        1.1580521        2.1314903        1.0284901  \n",
       "         ind2_6           ind2_7           ind2_8           ind2_9  \n",
       "      1.0306005        1.7178327        1.3351203        1.6499168  \n",
       "        ind2_10          ind2_11          ind2_12          ind2_13  \n",
       "      1.8655325        1.0957285        1.4378553        0.5682459  \n",
       "        ind2_14          ind2_15          ind2_16          ind2_17  \n",
       "      1.8334055        8.0746300        1.5328491        2.2435206  \n",
       "        ind2_18          ind2_19          ind2_20          ind2_21  \n",
       "      1.5411858        3.1570064        1.3106160        1.3397426  \n",
       "        ind2_22        exp1_exp1        exp1_exp2        exp1_exp3  \n",
       "      1.8960078               NA               NA               NA  \n",
       "      exp1_exp4         exp1_hsg         exp1_scl         exp1_clg  \n",
       "      0.0713831       -0.1294498       -0.1648346       -0.1061374  \n",
       "        exp1_ad          exp1_so          exp1_we          exp1_ne  \n",
       "     -0.0527815       -0.0019206       -0.0208865        0.0095366  \n",
       "    exp1_occ2_2      exp1_occ2_3      exp1_occ2_4      exp1_occ2_5  \n",
       "     -0.0967459       -0.0196145        0.0046063        0.2034151  \n",
       "    exp1_occ2_6      exp1_occ2_7      exp1_occ2_8      exp1_occ2_9  \n",
       "     -0.0835474       -0.1380467       -0.0410524        0.0423463  \n",
       "   exp1_occ2_10     exp1_occ2_11     exp1_occ2_12     exp1_occ2_13  \n",
       "      0.0515546        0.1163676       -0.0726580        0.0310990  \n",
       "   exp1_occ2_14     exp1_occ2_15     exp1_occ2_16     exp1_occ2_17  \n",
       "     -0.0516215       -0.0300726       -0.0047096        0.0432578  \n",
       "   exp1_occ2_18     exp1_occ2_19     exp1_occ2_20     exp1_occ2_21  \n",
       "     -0.4527710        0.0107311        0.0465317        0.0432375  \n",
       "   exp1_occ2_22      exp1_ind2_3      exp1_ind2_4      exp1_ind2_5  \n",
       "      0.1159265       -0.2335264       -0.3202941       -0.2218852  \n",
       "    exp1_ind2_6      exp1_ind2_7      exp1_ind2_8      exp1_ind2_9  \n",
       "     -0.2112647       -0.4741623       -0.1084803       -0.2542991  \n",
       "   exp1_ind2_10     exp1_ind2_11     exp1_ind2_12     exp1_ind2_13  \n",
       "     -0.1769097       -0.1495495       -0.1163732       -0.0991803  \n",
       "   exp1_ind2_14     exp1_ind2_15     exp1_ind2_16     exp1_ind2_17  \n",
       "     -0.2843571       -2.5731883       -0.3280598       -0.1894768  \n",
       "   exp1_ind2_18     exp1_ind2_19     exp1_ind2_20     exp1_ind2_21  \n",
       "     -0.2388930       -0.2305036       -0.2910349       -0.1519183  \n",
       "   exp1_ind2_22        exp2_exp2        exp2_exp3        exp2_exp4  \n",
       "     -0.3213599               NA               NA       -0.1857299  \n",
       "       exp2_hsg         exp2_scl         exp2_clg          exp2_ad  \n",
       "      0.1016533        0.4630265       -0.2307246       -0.7719968  \n",
       "        exp2_so          exp2_we          exp2_ne      exp2_occ2_2  \n",
       "      0.1720546        0.4387009        0.0813996        0.9534500  \n",
       "    exp2_occ2_3      exp2_occ2_4      exp2_occ2_5      exp2_occ2_6  \n",
       "      0.0687739        0.2795898       -2.0885343        0.8675089  \n",
       "    exp2_occ2_7      exp2_occ2_8      exp2_occ2_9     exp2_occ2_10  \n",
       "      2.4712629        0.4512270        0.0444426       -0.6037639  \n",
       "   exp2_occ2_11     exp2_occ2_12     exp2_occ2_13     exp2_occ2_14  \n",
       "     -1.0919973        0.6785101       -0.4915345       -0.0536303  \n",
       "   exp2_occ2_15     exp2_occ2_16     exp2_occ2_17     exp2_occ2_18  \n",
       "     -0.2605130       -0.1073601       -0.5931710        3.2174128  \n",
       "   exp2_occ2_19     exp2_occ2_20     exp2_occ2_21     exp2_occ2_22  \n",
       "     -0.4016069       -0.7210969       -0.6212845       -1.1662497  \n",
       "    exp2_ind2_3      exp2_ind2_4      exp2_ind2_5      exp2_ind2_6  \n",
       "     -0.2327045        1.2704844        0.3281482        0.5663318  \n",
       "    exp2_ind2_7      exp2_ind2_8      exp2_ind2_9     exp2_ind2_10  \n",
       "      3.6877310       -0.3928294        1.0071067        0.1366017  \n",
       "   exp2_ind2_11     exp2_ind2_12     exp2_ind2_13     exp2_ind2_14  \n",
       "     -0.0104468       -0.5461056       -0.5422888        1.1366308  \n",
       "   exp2_ind2_15     exp2_ind2_16     exp2_ind2_17     exp2_ind2_18  \n",
       "     25.9921274        1.6614618        0.2890700        0.5549638  \n",
       "   exp2_ind2_19     exp2_ind2_20     exp2_ind2_21     exp2_ind2_22  \n",
       "      0.9615469        1.2121157       -0.4271661        1.4245882  \n",
       "      exp3_exp3        exp3_exp4         exp3_hsg         exp3_scl  \n",
       "             NA        0.0239531        0.1294026        0.0062676  \n",
       "       exp3_clg          exp3_ad          exp3_so          exp3_we  \n",
       "      0.2811697        0.4897348       -0.0912976       -0.2127075  \n",
       "        exp3_ne      exp3_occ2_2      exp3_occ2_3      exp3_occ2_4  \n",
       "     -0.0700438       -0.3181117       -0.0176855       -0.2246532  \n",
       "    exp3_occ2_5      exp3_occ2_6      exp3_occ2_7      exp3_occ2_8  \n",
       "      0.7799415       -0.2814715       -1.2151842       -0.1576618  \n",
       "    exp3_occ2_9     exp3_occ2_10     exp3_occ2_11     exp3_occ2_12  \n",
       "     -0.1403151        0.2979158        0.3573117       -0.1433903  \n",
       "   exp3_occ2_13     exp3_occ2_14     exp3_occ2_15     exp3_occ2_16  \n",
       "      0.1893365        0.1545970        0.2512742        0.1353040  \n",
       "   exp3_occ2_17     exp3_occ2_18     exp3_occ2_19     exp3_occ2_20  \n",
       "      0.2912215       -0.5518869        0.3029054        0.3697711  \n",
       "   exp3_occ2_21     exp3_occ2_22      exp3_ind2_3      exp3_ind2_4  \n",
       "      0.2937269        0.4507830        0.9467960        0.1129178  \n",
       "    exp3_ind2_5      exp3_ind2_6      exp3_ind2_7      exp3_ind2_8  \n",
       "      0.4861828        0.3132272       -1.0322491        0.5690811  \n",
       "    exp3_ind2_9     exp3_ind2_10     exp3_ind2_11     exp3_ind2_12  \n",
       "      0.1454238        0.4845941        0.5282657        0.7540045  \n",
       "   exp3_ind2_13     exp3_ind2_14     exp3_ind2_15     exp3_ind2_16  \n",
       "      0.6645741        0.1685335       -8.2345398       -0.0845135  \n",
       "   exp3_ind2_17     exp3_ind2_18     exp3_ind2_19     exp3_ind2_20  \n",
       "      0.4246246        0.4014181        0.0989894        0.1461097  \n",
       "   exp3_ind2_21     exp3_ind2_22        exp4_exp4         exp4_hsg  \n",
       "      0.7741259        0.0709770       -0.0012111       -0.0228027  \n",
       "       exp4_scl         exp4_clg          exp4_ad          exp4_so  \n",
       "     -0.0101467       -0.0445516       -0.0713803        0.0131688  \n",
       "        exp4_we          exp4_ne      exp4_occ2_2      exp4_occ2_3  \n",
       "      0.0297440        0.0125082        0.0317244        0.0040324  \n",
       "    exp4_occ2_4      exp4_occ2_5      exp4_occ2_6      exp4_occ2_7  \n",
       "      0.0374597       -0.0979979        0.0261905        0.1748370  \n",
       "    exp4_occ2_8      exp4_occ2_9     exp4_occ2_10     exp4_occ2_11  \n",
       "      0.0167225        0.0273524       -0.0465452       -0.0387364  \n",
       "   exp4_occ2_12     exp4_occ2_13     exp4_occ2_14     exp4_occ2_15  \n",
       "      0.0002460       -0.0234802       -0.0318368       -0.0443465  \n",
       "   exp4_occ2_16     exp4_occ2_17     exp4_occ2_18     exp4_occ2_19  \n",
       "     -0.0305043       -0.0450278               NA       -0.0566178  \n",
       "   exp4_occ2_20     exp4_occ2_21     exp4_occ2_22      exp4_ind2_3  \n",
       "     -0.0574003       -0.0459086       -0.0594010       -0.2108391  \n",
       "    exp4_ind2_4      exp4_ind2_5      exp4_ind2_6      exp4_ind2_7  \n",
       "     -0.0703739       -0.1188488       -0.0911746        0.0948328  \n",
       "    exp4_ind2_8      exp4_ind2_9     exp4_ind2_10     exp4_ind2_11  \n",
       "     -0.1108399       -0.0707145       -0.1121839       -0.1195035  \n",
       "   exp4_ind2_12     exp4_ind2_13     exp4_ind2_14     exp4_ind2_15  \n",
       "     -0.1482431       -0.1275114       -0.0814674        0.8079430  \n",
       "   exp4_ind2_16     exp4_ind2_17     exp4_ind2_18     exp4_ind2_19  \n",
       "     -0.0444215       -0.1062999       -0.1123169       -0.0580684  \n",
       "   exp4_ind2_20     exp4_ind2_21     exp4_ind2_22           hsg_so  \n",
       "     -0.0821224       -0.1567374       -0.0712111       -0.0260188  \n",
       "         hsg_we           hsg_ne       hsg_occ2_2       hsg_occ2_3  \n",
       "     -0.0476290        0.0120755       -0.3437607        0.1486753  \n",
       "     hsg_occ2_4       hsg_occ2_5       hsg_occ2_6       hsg_occ2_7  \n",
       "     -1.2216743        0.5461109        0.4512429       -0.9575975  \n",
       "     hsg_occ2_8       hsg_occ2_9      hsg_occ2_10      hsg_occ2_11  \n",
       "     -0.3354909        0.0421931       -0.0722487        0.0492561  \n",
       "    hsg_occ2_12      hsg_occ2_13      hsg_occ2_14      hsg_occ2_15  \n",
       "     -0.9107890       -0.2033834       -0.0570425        0.1756638  \n",
       "    hsg_occ2_16      hsg_occ2_17      hsg_occ2_18      hsg_occ2_19  \n",
       "     -0.9053740        0.2908857               NA        0.4552306  \n",
       "    hsg_occ2_20      hsg_occ2_21      hsg_occ2_22       hsg_ind2_3  \n",
       "      0.2938696       -0.1623000        0.2750641        0.4986424  \n",
       "     hsg_ind2_4       hsg_ind2_5       hsg_ind2_6       hsg_ind2_7  \n",
       "     -0.4444194        0.4072744        0.2212905        0.1074356  \n",
       "     hsg_ind2_8       hsg_ind2_9      hsg_ind2_10      hsg_ind2_11  \n",
       "      0.0602055       -0.1765913       -0.5447375        0.3730901  \n",
       "    hsg_ind2_12      hsg_ind2_13      hsg_ind2_14      hsg_ind2_15  \n",
       "      0.0519608        0.3511547       -0.1921247       -6.7247603  \n",
       "    hsg_ind2_16      hsg_ind2_17      hsg_ind2_18      hsg_ind2_19  \n",
       "      0.1466955       -0.8418754       -0.0820294       -1.7330788  \n",
       "    hsg_ind2_20      hsg_ind2_21      hsg_ind2_22           scl_so  \n",
       "      0.2015929       -0.2638797        0.0939707        0.0883817  \n",
       "         scl_we           scl_ne       scl_occ2_2       scl_occ2_3  \n",
       "      0.0611694        0.0400210        0.1730913        0.0157668  \n",
       "     scl_occ2_4       scl_occ2_5       scl_occ2_6       scl_occ2_7  \n",
       "     -1.2734314       -0.4032363        0.4203543       -0.3842852  \n",
       "     scl_occ2_8       scl_occ2_9      scl_occ2_10      scl_occ2_11  \n",
       "     -0.3182290        0.1474244        0.0247628        0.0981424  \n",
       "    scl_occ2_12      scl_occ2_13      scl_occ2_14      scl_occ2_15  \n",
       "     -0.6592108       -0.1419304       -0.1794663        0.4128949  \n",
       "    scl_occ2_16      scl_occ2_17      scl_occ2_18      scl_occ2_19  \n",
       "     -0.8861047        0.2405134               NA        0.3811645  \n",
       "    scl_occ2_20      scl_occ2_21      scl_occ2_22       scl_ind2_3  \n",
       "      0.3565924       -0.1875053        0.2545084        0.2588906  \n",
       "     scl_ind2_4       scl_ind2_5       scl_ind2_6       scl_ind2_7  \n",
       "     -0.7379229       -0.0582251        0.0354362        0.0516246  \n",
       "     scl_ind2_8       scl_ind2_9      scl_ind2_10      scl_ind2_11  \n",
       "     -0.3528105       -0.5666236       -0.8472909       -0.1170844  \n",
       "    scl_ind2_12      scl_ind2_13      scl_ind2_14      scl_ind2_15  \n",
       "     -0.2270063        0.1086385       -0.4317149       -7.1096014  \n",
       "    scl_ind2_16      scl_ind2_17      scl_ind2_18      scl_ind2_19  \n",
       "     -0.1123434       -1.0951166       -0.4852228       -2.0812068  \n",
       "    scl_ind2_20      scl_ind2_21      scl_ind2_22           clg_so  \n",
       "     -0.2287013       -0.3806300       -0.2513911       -0.0007956  \n",
       "         clg_we           clg_ne       clg_occ2_2       clg_occ2_3  \n",
       "     -0.1304686       -0.0660374       -0.0658899        0.0769368  \n",
       "     clg_occ2_4       clg_occ2_5       clg_occ2_6       clg_occ2_7  \n",
       "     -1.0340858       -0.1406337        0.2335793       -0.5318283  \n",
       "     clg_occ2_8       clg_occ2_9      clg_occ2_10      clg_occ2_11  \n",
       "     -0.0535102        0.2183460        0.0290132        0.2197748  \n",
       "    clg_occ2_12      clg_occ2_13      clg_occ2_14      clg_occ2_15  \n",
       "     -0.5942636       -0.0675456       -0.2337389        0.2352644  \n",
       "    clg_occ2_16      clg_occ2_17      clg_occ2_18      clg_occ2_19  \n",
       "     -0.7504950        0.2796056               NA        0.3159931  \n",
       "    clg_occ2_20      clg_occ2_21      clg_occ2_22       clg_ind2_3  \n",
       "     -0.0733200       -0.4642663        0.1379204       -0.0518558  \n",
       "     clg_ind2_4       clg_ind2_5       clg_ind2_6       clg_ind2_7  \n",
       "     -1.7497464       -0.5849342       -0.7435316       -1.4471812  \n",
       "     clg_ind2_8       clg_ind2_9      clg_ind2_10      clg_ind2_11  \n",
       "     -1.1564712       -1.4729406       -1.5902060       -0.9826579  \n",
       "    clg_ind2_12      clg_ind2_13      clg_ind2_14      clg_ind2_15  \n",
       "     -1.0550575       -0.5452682       -1.2798294       -3.9961456  \n",
       "    clg_ind2_16      clg_ind2_17      clg_ind2_18      clg_ind2_19  \n",
       "     -1.1768720       -2.0495303       -1.2249638       -2.8041647  \n",
       "    clg_ind2_20      clg_ind2_21      clg_ind2_22            ad_so  \n",
       "     -1.1562231       -1.0488010       -1.0970281        0.0362772  \n",
       "          ad_we            ad_ne        ad_occ2_2        ad_occ2_3  \n",
       "     -0.1268644       -0.1528890               NA               NA  \n",
       "      ad_occ2_4        ad_occ2_5        ad_occ2_6        ad_occ2_7  \n",
       "     -1.4489805               NA               NA               NA  \n",
       "      ad_occ2_8        ad_occ2_9       ad_occ2_10       ad_occ2_11  \n",
       "             NA               NA               NA               NA  \n",
       "     ad_occ2_12       ad_occ2_13       ad_occ2_14       ad_occ2_15  \n",
       "     -1.0271110       -0.8705279       -0.1116289        0.3555154  \n",
       "     ad_occ2_16       ad_occ2_17       ad_occ2_19       ad_occ2_21  \n",
       "     -0.8503441        0.2969189       -0.4237888       -0.3446579  \n",
       "     ad_occ2_22        ad_ind2_3        ad_ind2_4        ad_ind2_5  \n",
       "     -0.7039862               NA       -0.1238050        0.8824161  \n",
       "      ad_ind2_6        ad_ind2_7        ad_ind2_8        ad_ind2_9  \n",
       "      0.2451216       -0.0123221        0.5682241        0.1594123  \n",
       "     ad_ind2_10       ad_ind2_11       ad_ind2_12       ad_ind2_13  \n",
       "     -0.6169985               NA               NA        1.0739361  \n",
       "     ad_ind2_14       ad_ind2_15       ad_ind2_16       ad_ind2_17  \n",
       "             NA               NA        0.1973299       -0.8622172  \n",
       "     ad_ind2_18       ad_ind2_19       ad_ind2_20       ad_ind2_21  \n",
       "      0.0268844       -1.7589156        0.4712145               NA  \n",
       "     ad_ind2_22        so_occ2_2        so_occ2_3        so_occ2_4  \n",
       "             NA       -0.1876152       -0.0549627        0.0046569  \n",
       "      so_occ2_5        so_occ2_6        so_occ2_7        so_occ2_8  \n",
       "     -0.0769710        0.0495811       -0.1658441       -0.1022193  \n",
       "      so_occ2_9       so_occ2_10       so_occ2_11       so_occ2_12  \n",
       "      0.1691858       -0.0850388       -0.1244554       -0.5978059  \n",
       "     so_occ2_13       so_occ2_14       so_occ2_15       so_occ2_16  \n",
       "     -0.0142740       -0.1867443       -0.0707362       -0.2640007  \n",
       "     so_occ2_17       so_occ2_19       so_occ2_20       so_occ2_21  \n",
       "     -0.1230916       -0.5329650       -0.2755538       -0.0917113  \n",
       "     so_occ2_22        so_ind2_3        so_ind2_4        so_ind2_5  \n",
       "     -0.2496183        0.3579112        0.3144916        0.2087747  \n",
       "      so_ind2_6        so_ind2_7        so_ind2_8        so_ind2_9  \n",
       "     -0.0054146        0.2660276        0.2099255        0.0593770  \n",
       "     so_ind2_10       so_ind2_11       so_ind2_12       so_ind2_13  \n",
       "      0.1968395        0.0783449       -0.0145759        0.2728432  \n",
       "     so_ind2_14       so_ind2_15       so_ind2_16       so_ind2_17  \n",
       "      0.0982089               NA       -0.0103770        0.0101438  \n",
       "     so_ind2_18       so_ind2_19       so_ind2_20       so_ind2_21  \n",
       "      0.1386389        0.0062892       -0.1047703        0.1356664  \n",
       "     so_ind2_22        we_occ2_2        we_occ2_3        we_occ2_4  \n",
       "      0.2566731       -0.1167217        0.0119614       -0.0647923  \n",
       "      we_occ2_5        we_occ2_6        we_occ2_7        we_occ2_8  \n",
       "      0.2154725        0.1475968       -0.2982391       -0.0471618  \n",
       "      we_occ2_9       we_occ2_10       we_occ2_11       we_occ2_12  \n",
       "      0.0038840       -0.0098263       -0.0706616       -0.1276521  \n",
       "     we_occ2_13       we_occ2_14       we_occ2_15       we_occ2_16  \n",
       "     -0.0201319       -0.0556854       -0.0993908       -0.0536558  \n",
       "     we_occ2_17       we_occ2_18       we_occ2_19       we_occ2_20  \n",
       "     -0.0779756               NA       -0.3786680       -0.2540757  \n",
       "     we_occ2_21       we_occ2_22        we_ind2_3        we_ind2_4  \n",
       "     -0.1063296       -0.0412513       -0.2366807       -0.1232947  \n",
       "      we_ind2_5        we_ind2_6        we_ind2_7        we_ind2_8  \n",
       "     -0.3388545       -0.4520535        0.0054825       -0.3231353  \n",
       "      we_ind2_9       we_ind2_10       we_ind2_11       we_ind2_12  \n",
       "     -0.3834333       -0.7107253       -0.2314612       -0.5519240  \n",
       "     we_ind2_13       we_ind2_14       we_ind2_15       we_ind2_16  \n",
       "     -0.3447366       -0.4815453               NA       -0.6858221  \n",
       "     we_ind2_17       we_ind2_18       we_ind2_19       we_ind2_20  \n",
       "     -0.4002248       -0.4126005       -0.4241111       -0.5362899  \n",
       "     we_ind2_21       we_ind2_22        ne_occ2_2        ne_occ2_3  \n",
       "     -0.4555173       -0.4207598       -0.0896898        0.0657640  \n",
       "      ne_occ2_4        ne_occ2_5        ne_occ2_6        ne_occ2_7  \n",
       "     -0.0392731        0.2797029        0.3205867        0.0356051  \n",
       "      ne_occ2_8        ne_occ2_9       ne_occ2_10       ne_occ2_11  \n",
       "      0.1466934        0.3789475        0.3297113        0.0563314  \n",
       "     ne_occ2_12       ne_occ2_13       ne_occ2_14       ne_occ2_15  \n",
       "      0.1217180        0.0454858        0.0163990        0.1791842  \n",
       "     ne_occ2_16       ne_occ2_17       ne_occ2_18       ne_occ2_19  \n",
       "     -0.0852478        0.0518352               NA       -0.1424848  \n",
       "     ne_occ2_20       ne_occ2_21       ne_occ2_22        ne_ind2_3  \n",
       "     -0.2174878       -0.0906232       -0.1199413        0.8959078  \n",
       "      ne_ind2_4        ne_ind2_5        ne_ind2_6        ne_ind2_7  \n",
       "      0.7965056        0.6872642        0.6170717        0.9741107  \n",
       "      ne_ind2_8        ne_ind2_9       ne_ind2_10       ne_ind2_11  \n",
       "      0.6512815        0.6985847        0.5154952        0.8853583  \n",
       "     ne_ind2_12       ne_ind2_13       ne_ind2_14       ne_ind2_15  \n",
       "      0.6742383        0.7983542        0.7374601               NA  \n",
       "     ne_ind2_16       ne_ind2_17       ne_ind2_18       ne_ind2_19  \n",
       "      0.6611257        0.6125391        0.5569286        0.6961872  \n",
       "     ne_ind2_20       ne_ind2_21       ne_ind2_22    occ2_2_ind2_3  \n",
       "      0.5777830        0.6876571        0.6725527       -0.1430596  \n",
       "  occ2_2_ind2_4    occ2_2_ind2_5    occ2_2_ind2_6    occ2_2_ind2_7  \n",
       "      0.5447821        0.1817284        0.5188580        0.7516114  \n",
       "  occ2_2_ind2_8    occ2_2_ind2_9   occ2_2_ind2_10   occ2_2_ind2_11  \n",
       "     -0.0019578        0.6886767       -0.0840584        0.5845311  \n",
       " occ2_2_ind2_12   occ2_2_ind2_13   occ2_2_ind2_14   occ2_2_ind2_15  \n",
       "      0.3404884       -0.3202563        0.2539222               NA  \n",
       " occ2_2_ind2_16   occ2_2_ind2_17   occ2_2_ind2_18   occ2_2_ind2_19  \n",
       "      0.5875845        0.3064560        0.4075323       -0.0889568  \n",
       " occ2_2_ind2_20   occ2_2_ind2_21   occ2_2_ind2_22    occ2_3_ind2_4  \n",
       "     -0.3276169        0.2709211        0.2568557       -0.1770348  \n",
       "  occ2_3_ind2_5    occ2_3_ind2_6    occ2_3_ind2_7    occ2_3_ind2_8  \n",
       "      0.0146863        0.4133325        0.7763887       -0.7154302  \n",
       "  occ2_3_ind2_9   occ2_3_ind2_10   occ2_3_ind2_11   occ2_3_ind2_12  \n",
       "     -0.3023555       -0.2859924       -0.3535814        0.0128972  \n",
       " occ2_3_ind2_14   occ2_3_ind2_16   occ2_3_ind2_17   occ2_3_ind2_18  \n",
       "      0.0397275        0.4187259       -0.0246677        0.5145334  \n",
       " occ2_3_ind2_19   occ2_3_ind2_20   occ2_3_ind2_21   occ2_3_ind2_22  \n",
       "      0.3318936       -0.6112751       -0.2445282               NA  \n",
       "  occ2_4_ind2_3    occ2_4_ind2_4    occ2_4_ind2_5    occ2_4_ind2_6  \n",
       "     -1.2680747       -1.0788908       -0.8726573       -0.9007759  \n",
       "  occ2_4_ind2_7   occ2_4_ind2_11   occ2_4_ind2_14   occ2_4_ind2_17  \n",
       "     -1.0996508       -1.3869066       -1.0362915       -1.0745268  \n",
       " occ2_4_ind2_21   occ2_4_ind2_22    occ2_5_ind2_3    occ2_5_ind2_5  \n",
       "     -0.4865642       -1.5188983       -0.7017856       -0.0772367  \n",
       "  occ2_5_ind2_6   occ2_5_ind2_14   occ2_5_ind2_16   occ2_5_ind2_17  \n",
       "             NA       -0.3228666        0.6422447       -0.1449127  \n",
       " occ2_5_ind2_18   occ2_5_ind2_19   occ2_5_ind2_21   occ2_5_ind2_22  \n",
       "     -0.0451986       -0.0608879        0.0869040       -0.0236669  \n",
       "  occ2_6_ind2_6   occ2_6_ind2_16   occ2_6_ind2_17   occ2_6_ind2_18  \n",
       "      0.2393847        0.7495217        0.6083186        0.1829161  \n",
       " occ2_6_ind2_19   occ2_6_ind2_21   occ2_6_ind2_22    occ2_7_ind2_9  \n",
       "      0.0159422        0.1545685               NA        1.6598777  \n",
       " occ2_7_ind2_11   occ2_7_ind2_12   occ2_7_ind2_14   occ2_7_ind2_16  \n",
       "      1.9017911        1.8343742        1.2317163        1.0785484  \n",
       " occ2_7_ind2_17   occ2_7_ind2_19   occ2_7_ind2_21   occ2_7_ind2_22  \n",
       "      1.5830966        1.0268477        1.0616372        1.2524967  \n",
       "  occ2_8_ind2_4   occ2_8_ind2_11   occ2_8_ind2_12   occ2_8_ind2_14  \n",
       "      0.0909193       -0.1891455       -0.5504900               NA  \n",
       " occ2_8_ind2_17   occ2_8_ind2_18   occ2_8_ind2_19   occ2_8_ind2_20  \n",
       "      0.0936876        0.1040660        0.0641377        0.4969655  \n",
       " occ2_8_ind2_21   occ2_8_ind2_22    occ2_9_ind2_5    occ2_9_ind2_6  \n",
       "      0.1268347               NA       -0.4080183        0.0294128  \n",
       "  occ2_9_ind2_7    occ2_9_ind2_9   occ2_9_ind2_10   occ2_9_ind2_11  \n",
       "      0.6255349        0.0393320       -0.4955003       -0.2273926  \n",
       " occ2_9_ind2_12   occ2_9_ind2_14   occ2_9_ind2_16   occ2_9_ind2_17  \n",
       "      0.2969846        0.0397003        0.6816977       -0.4207136  \n",
       " occ2_9_ind2_18   occ2_9_ind2_19   occ2_9_ind2_21   occ2_9_ind2_22  \n",
       "      0.0057406       -0.4412016       -0.0570414       -0.4112897  \n",
       " occ2_10_ind2_5   occ2_10_ind2_9  occ2_10_ind2_12  occ2_10_ind2_14  \n",
       "     -0.5404560        0.4105010        0.6361920        0.6102583  \n",
       "occ2_10_ind2_16  occ2_10_ind2_17  occ2_10_ind2_18  occ2_10_ind2_21  \n",
       "             NA        0.0206513        0.4333225        0.0574009  \n",
       "occ2_10_ind2_22   occ2_11_ind2_9  occ2_11_ind2_14  occ2_11_ind2_16  \n",
       "             NA       -0.2760770       -0.6015947       -0.0580354  \n",
       "occ2_11_ind2_17  occ2_11_ind2_18  occ2_11_ind2_19  occ2_11_ind2_22  \n",
       "     -0.2967606       -0.0611042        0.1477515               NA  \n",
       " occ2_12_ind2_3   occ2_12_ind2_8   occ2_12_ind2_9  occ2_12_ind2_10  \n",
       "     -0.6262785        0.3154521        0.1346407       -0.7799977  \n",
       "occ2_12_ind2_12  occ2_12_ind2_16  occ2_12_ind2_17  occ2_12_ind2_18  \n",
       "      0.7029792        0.1445236       -0.1115861        0.1826313  \n",
       "occ2_12_ind2_19  occ2_12_ind2_20  occ2_12_ind2_22   occ2_13_ind2_5  \n",
       "     -0.8045923        0.2510482               NA       -0.0203762  \n",
       " occ2_13_ind2_7   occ2_13_ind2_9  occ2_13_ind2_14  occ2_13_ind2_17  \n",
       "      0.6334906       -0.1273605       -0.7867473       -0.4947537  \n",
       "occ2_13_ind2_18  occ2_13_ind2_19  occ2_13_ind2_20  occ2_13_ind2_21  \n",
       "      0.2768960        0.0637548        0.2665228               NA  \n",
       " occ2_14_ind2_5   occ2_14_ind2_6   occ2_14_ind2_8   occ2_14_ind2_9  \n",
       "     -0.0962417       -0.1046527        0.0719769       -0.3935164  \n",
       "occ2_14_ind2_10  occ2_14_ind2_11  occ2_14_ind2_12  occ2_14_ind2_13  \n",
       "      0.4982291       -0.8625239       -0.2725718        0.4479744  \n",
       "occ2_14_ind2_14  occ2_14_ind2_16  occ2_14_ind2_17  occ2_14_ind2_18  \n",
       "     -0.9169770        0.0613022       -0.0693366        0.2295975  \n",
       "occ2_14_ind2_19  occ2_14_ind2_20  occ2_14_ind2_21  occ2_14_ind2_22  \n",
       "      0.1838888        0.0810804       -0.1925239               NA  \n",
       " occ2_15_ind2_9  occ2_15_ind2_10  occ2_15_ind2_13  occ2_15_ind2_17  \n",
       "      1.4943914               NA        2.0577106        1.2824771  \n",
       "occ2_15_ind2_18  occ2_15_ind2_19  occ2_15_ind2_20  occ2_15_ind2_21  \n",
       "      1.4035197        1.0773936        1.9180956        1.5924722  \n",
       "occ2_15_ind2_22   occ2_16_ind2_4   occ2_16_ind2_5   occ2_16_ind2_6  \n",
       "             NA        0.6137733       -0.4715476        0.1614855  \n",
       " occ2_16_ind2_7   occ2_16_ind2_8   occ2_16_ind2_9  occ2_16_ind2_10  \n",
       "      0.0826964       -0.3275278       -0.2935787       -0.3326662  \n",
       "occ2_16_ind2_11  occ2_16_ind2_12  occ2_16_ind2_13  occ2_16_ind2_14  \n",
       "     -0.0285047       -0.1992490       -0.0969980        0.1019840  \n",
       "occ2_16_ind2_16  occ2_16_ind2_17  occ2_16_ind2_19  occ2_16_ind2_20  \n",
       "      0.1298482               NA       -0.5992426       -0.3824773  \n",
       "occ2_16_ind2_21  occ2_16_ind2_22   occ2_17_ind2_3   occ2_17_ind2_4  \n",
       "     -0.2032529       -0.6492436       -0.4895566       -0.0078133  \n",
       " occ2_17_ind2_5   occ2_17_ind2_6   occ2_17_ind2_7   occ2_17_ind2_8  \n",
       "     -0.3101667       -0.1972263       -0.4167366       -0.5548827  \n",
       " occ2_17_ind2_9  occ2_17_ind2_10  occ2_17_ind2_11  occ2_17_ind2_12  \n",
       "     -0.2681235       -0.1877320       -0.4016893       -0.4707976  \n",
       "occ2_17_ind2_13  occ2_17_ind2_14  occ2_17_ind2_16  occ2_17_ind2_17  \n",
       "     -0.0460996       -0.2272806       -0.0076934       -0.2458943  \n",
       "occ2_17_ind2_18  occ2_17_ind2_19  occ2_17_ind2_20  occ2_17_ind2_21  \n",
       "     -0.0885567       -0.4330435       -0.1796924       -0.2823767  \n",
       "occ2_17_ind2_22   occ2_18_ind2_5  occ2_18_ind2_21  occ2_18_ind2_22  \n",
       "     -0.3926808               NA               NA               NA  \n",
       " occ2_19_ind2_3   occ2_19_ind2_4   occ2_19_ind2_5   occ2_19_ind2_6  \n",
       "     -0.5064418       -0.3314386       -0.1982783       -0.0534115  \n",
       " occ2_19_ind2_7   occ2_19_ind2_9  occ2_19_ind2_11  occ2_19_ind2_12  \n",
       "     -0.6982001       -0.3728409       -1.3815608               NA  \n",
       "occ2_19_ind2_14  occ2_19_ind2_16  occ2_19_ind2_17  occ2_19_ind2_18  \n",
       "     -0.5703598        0.1843430       -0.1515987       -0.6314503  \n",
       "occ2_19_ind2_20  occ2_19_ind2_21  occ2_19_ind2_22   occ2_20_ind2_3  \n",
       "     -0.2106090       -0.2288714       -0.6322674       -0.2520885  \n",
       " occ2_20_ind2_4   occ2_20_ind2_5   occ2_20_ind2_6   occ2_20_ind2_7  \n",
       "     -0.5542706       -0.2555125       -0.5849927        0.3485503  \n",
       " occ2_20_ind2_8   occ2_20_ind2_9  occ2_20_ind2_10  occ2_20_ind2_11  \n",
       "      0.2191448       -0.6021491       -0.7088188       -0.6609578  \n",
       "occ2_20_ind2_12  occ2_20_ind2_13  occ2_20_ind2_14  occ2_20_ind2_16  \n",
       "     -0.8956246       -0.2072857       -1.6171453       -0.2782868  \n",
       "occ2_20_ind2_17  occ2_20_ind2_18  occ2_20_ind2_19  occ2_20_ind2_20  \n",
       "             NA       -0.7246141       -1.1032054       -1.0451787  \n",
       "occ2_20_ind2_21  occ2_20_ind2_22   occ2_21_ind2_3   occ2_21_ind2_4  \n",
       "     -0.3502327       -0.6144549        0.5518038        0.6370480  \n",
       " occ2_21_ind2_5   occ2_21_ind2_6   occ2_21_ind2_7   occ2_21_ind2_8  \n",
       "      0.4562985        0.4797408       -0.0077490               NA  \n",
       " occ2_21_ind2_9  occ2_21_ind2_10  occ2_21_ind2_14  occ2_21_ind2_16  \n",
       "      0.3237028        1.1118595        0.4979419        1.0427869  \n",
       "occ2_21_ind2_18  occ2_21_ind2_20  occ2_21_ind2_21  occ2_21_ind2_22  \n",
       "     -0.0642535        0.4802985        0.5784932        0.9015541  \n",
       " occ2_22_ind2_3   occ2_22_ind2_4   occ2_22_ind2_5   occ2_22_ind2_6  \n",
       "     -0.5997846       -0.0287697       -0.6071474       -0.5678152  \n",
       " occ2_22_ind2_7   occ2_22_ind2_8   occ2_22_ind2_9  occ2_22_ind2_10  \n",
       "     -0.5060527       -0.5943712       -0.5220810       -0.3704617  \n",
       "occ2_22_ind2_11  occ2_22_ind2_13  occ2_22_ind2_14  occ2_22_ind2_16  \n",
       "     -0.5174706       -0.4003958       -0.3919817       -0.4740591  \n",
       "occ2_22_ind2_17  occ2_22_ind2_18  occ2_22_ind2_19  occ2_22_ind2_20  \n",
       "     -0.6606907       -0.7598199               NA       -0.5720122  \n",
       "occ2_22_ind2_21  occ2_22_ind2_22  \n",
       "     -0.3467209       -0.3921210  \n"
      ]
     },
     "metadata": {},
     "output_type": "display_data"
    }
   ],
   "source": [
    "model_3 <- lm(y ~ . - 1, data = train_3)\n",
    "model_3"
   ]
  },
  {
   "cell_type": "code",
   "execution_count": 39,
   "metadata": {
    "vscode": {
     "languageId": "r"
    }
   },
   "outputs": [
    {
     "name": "stderr",
     "output_type": "stream",
     "text": [
      "Warning message in predict.lm(model_3, train_3):\n",
      "\"prediction from rank-deficient fit; attr(*, \"non-estim\") has doubtful cases\"\n"
     ]
    }
   ],
   "source": [
    "y_3_train = train_3$y\n",
    "y_3_hat_train = predict(model_3, train_3)"
   ]
  },
  {
   "cell_type": "code",
   "execution_count": 40,
   "metadata": {
    "vscode": {
     "languageId": "r"
    }
   },
   "outputs": [
    {
     "name": "stderr",
     "output_type": "stream",
     "text": [
      "Warning message in predict.lm(model_3, test_3):\n",
      "\"prediction from rank-deficient fit; attr(*, \"non-estim\") has doubtful cases\"\n"
     ]
    }
   ],
   "source": [
    "y_3_test = test_3$y\n",
    "y_3_hat_test = predict(model_3, test_3)"
   ]
  },
  {
   "cell_type": "markdown",
   "metadata": {},
   "source": [
    "### 3.11 MSE,$R^2$ Y $R^2$ ajustado"
   ]
  },
  {
   "cell_type": "markdown",
   "metadata": {},
   "source": [
    "#### Modelo Basico"
   ]
  },
  {
   "cell_type": "markdown",
   "metadata": {},
   "source": [
    "##### Entrenamiento"
   ]
  },
  {
   "cell_type": "code",
   "execution_count": 41,
   "metadata": {
    "vscode": {
     "languageId": "r"
    }
   },
   "outputs": [
    {
     "name": "stdout",
     "output_type": "stream",
     "text": [
      "[1] \"MSE del modelo básico en el conjunto de entrenamiento : 0.272798272625811\"\n",
      "[1] \"El R-cuadrado del modelo básico con los datos de entrenamiento: 0.187114454913061\"\n"
     ]
    }
   ],
   "source": [
    "mse_1_train <- mean((y_1_train - y_1_hat_train)^2)\n",
    "\n",
    "print(paste(\"MSE del modelo básico en el conjunto de entrenamiento :\", mse_1_train))\n",
    "\n",
    "R_sq_1_train <- 1 - mse_1_train / mean((y_1_train - mean(y_1_train))^2)\n",
    "\n",
    "# Imprimir el R-squared\n",
    "print(paste(\"El R-cuadrado del modelo básico con los datos de entrenamiento:\", R_sq_1_train))\n"
   ]
  },
  {
   "cell_type": "markdown",
   "metadata": {
    "vscode": {
     "languageId": "r"
    }
   },
   "source": [
    "##### Testeo"
   ]
  },
  {
   "cell_type": "code",
   "execution_count": 42,
   "metadata": {
    "vscode": {
     "languageId": "r"
    }
   },
   "outputs": [
    {
     "name": "stdout",
     "output_type": "stream",
     "text": [
      "[1] \"El MSE del modelo básico en el conjunto de prueba: 0.245933246447757\"\n",
      "[1] \"El R-cuadrado del modelo básico en el conjunto de prueba: 0.0979535032025193\"\n",
      "[1] \"R-cuadrado Ajustado del modelo básico en el conjunto de prueba: 0.0376654019033181\"\n"
     ]
    }
   ],
   "source": [
    "mse_1_test = mean((y_1_test - y_1_hat_test)^2)\n",
    "print(paste0(\"El MSE del modelo básico en el conjunto de prueba: \", mse_1_test))\n",
    "\n",
    "R_sq_1_test = 1 - mse_1_test / mean((y_1_test - mean(y_1_test))^2)\n",
    "print(paste0(\"El R-cuadrado del modelo básico en el conjunto de prueba: \", R_sq_1_test))\n",
    "\n",
    "num_predictors <- ncol(x)\n",
    "n <- length(y_1_test)\n",
    "adjR_sq_1_test <- 1 - (1 - R_sq_1_test) * (n - 1) / (n - num_predictors - 1)\n",
    "print(paste0(\"R-cuadrado Ajustado del modelo básico en el conjunto de prueba: \", adjR_sq_1_test))\n"
   ]
  },
  {
   "cell_type": "markdown",
   "metadata": {},
   "source": [
    "#### Modelo flexible"
   ]
  },
  {
   "cell_type": "markdown",
   "metadata": {},
   "source": [
    "##### Entrenamiento"
   ]
  },
  {
   "cell_type": "code",
   "execution_count": 43,
   "metadata": {
    "vscode": {
     "languageId": "r"
    }
   },
   "outputs": [
    {
     "name": "stdout",
     "output_type": "stream",
     "text": [
      "[1] \"El MSE del modelo flexible en el conjunto de entrenamiento: 0.216664847626302\"\n",
      "[1] \"El R-cuadrado del modelo flexible en el conjunto de entrenamiento: 0.35438109241451\"\n"
     ]
    }
   ],
   "source": [
    "# Calcular el error cuadrático medio (MSE) del modelo flexible en el conjunto de entrenamiento\n",
    "mse_2_train = mean((y_2_train - y_2_hat_train)^2)\n",
    "print(paste0(\"El MSE del modelo flexible en el conjunto de entrenamiento: \", mse_2_train))\n",
    "\n",
    "# Calcular el coeficiente de determinación (R-cuadrado) del modelo flexible en el conjunto de entrenamiento\n",
    "R_sq_2_train = 1 - mse_2_train / mean((y_2_train - mean(y_2_train))^2)\n",
    "print(paste0(\"El R-cuadrado del modelo flexible en el conjunto de entrenamiento: \", R_sq_2_train))\n"
   ]
  },
  {
   "cell_type": "markdown",
   "metadata": {},
   "source": [
    "##### Testeo"
   ]
  },
  {
   "cell_type": "code",
   "execution_count": 44,
   "metadata": {
    "vscode": {
     "languageId": "r"
    }
   },
   "outputs": [
    {
     "name": "stdout",
     "output_type": "stream",
     "text": [
      "[1] \"El MSE del modelo flexible en el conjunto de prueba: 0.20281102829242\"\n",
      "[1] \"El R-cuadrado del modelo flexible en el conjunto de prueba: 0.256119372937509\"\n",
      "[1] \"R-cuadrado Ajustado del modelo flexible en el conjunto de prueba: -0.0471264733691643\"\n"
     ]
    }
   ],
   "source": [
    "mse_2_test = mean((y_2_test - y_2_hat_test)^2)\n",
    "print(paste0(\"El MSE del modelo flexible en el conjunto de prueba: \", mse_2_test))\n",
    "\n",
    "R_sq_2_test = 1 - mse_2_test / mean((y_2_test - mean(y_2_test))^2)\n",
    "print(paste0(\"El R-cuadrado del modelo flexible en el conjunto de prueba: \", R_sq_2_test))\n",
    "\n",
    "num_predictors <- ncol(x_flexible)\n",
    "n <- length(y_2_test)\n",
    "adjR_sq_2_test <- 1 - (1 - R_sq_2_test) * (n - 1) / (n - num_predictors - 1)\n",
    "print(paste0(\"R-cuadrado Ajustado del modelo flexible en el conjunto de prueba: \", adjR_sq_2_test))\n"
   ]
  },
  {
   "cell_type": "markdown",
   "metadata": {},
   "source": [
    "#### Modelo Extraflexible"
   ]
  },
  {
   "cell_type": "markdown",
   "metadata": {},
   "source": [
    "##### Entrenamiento"
   ]
  },
  {
   "cell_type": "code",
   "execution_count": 45,
   "metadata": {
    "vscode": {
     "languageId": "r"
    }
   },
   "outputs": [
    {
     "name": "stdout",
     "output_type": "stream",
     "text": [
      "[1] \"El MSE del modelo extraflexible en el conjunto de entrenamiento: 0.178283915793937\"\n",
      "[1] \"El R-cuadrado del modelo extraflexible en el conjunto de entrenamiento: 0.468748769281334\"\n"
     ]
    }
   ],
   "source": [
    "mse_3_train = mean((y_3_train - y_3_hat_train)^2)\n",
    "print(paste0(\"El MSE del modelo extraflexible en el conjunto de entrenamiento: \", mse_3_train))\n",
    "\n",
    "R_sq_3_train = 1 - mse_3_train / mean((y_3_train - mean(y_3_train))^2)\n",
    "print(paste0(\"El R-cuadrado del modelo extraflexible en el conjunto de entrenamiento: \", R_sq_3_train))\n"
   ]
  },
  {
   "cell_type": "markdown",
   "metadata": {},
   "source": [
    "##### Testeo"
   ]
  },
  {
   "cell_type": "code",
   "execution_count": 46,
   "metadata": {
    "vscode": {
     "languageId": "r"
    }
   },
   "outputs": [
    {
     "name": "stdout",
     "output_type": "stream",
     "text": [
      "[1] \"El MSE del modelo extraflexible en el conjunto de prueba: 0.346599961847386\"\n"
     ]
    },
    {
     "name": "stdout",
     "output_type": "stream",
     "text": [
      "[1] \"El R-cuadrado del modelo extraflexible en el conjunto de prueba: -0.271277006628667\"\n",
      "[1] \"El R-cuadrado Ajustado del modelo extraflexible en el conjunto de prueba: -32.6093858627454\"\n"
     ]
    }
   ],
   "source": [
    "mse_3_test = mean((y_3_test - y_3_hat_test)^2)\n",
    "print(paste0(\"El MSE del modelo extraflexible en el conjunto de prueba: \", mse_3_test))\n",
    "\n",
    "R_sq_3_test = 1 - mse_3_test / mean((y_3_test - mean(y_3_test))^2)\n",
    "print(paste0(\"El R-cuadrado del modelo extraflexible en el conjunto de prueba: \", R_sq_3_test))\n",
    "\n",
    "num_predictors <- ncol(x_extra_flexible)\n",
    "n <- length(y_3_test)\n",
    "adjR_sq_3_test <- 1 - (1 - R_sq_3_test) * (n - 1) / (n - num_predictors - 1)\n",
    "print(paste0(\"El R-cuadrado Ajustado del modelo extraflexible en el conjunto de prueba: \", adjR_sq_3_test))\n"
   ]
  },
  {
   "cell_type": "markdown",
   "metadata": {},
   "source": [
    "## Comentario final\n",
    "\n"
   ]
  },
  {
   "cell_type": "code",
   "execution_count": null,
   "metadata": {
    "vscode": {
     "languageId": "r"
    }
   },
   "outputs": [],
   "source": [
    "# El modelo extraflexible tiene un R cuadrado ajustado que resulta problematico por lo cuál se descarta el modelo.\n",
    "# El modelo flexible también tiene problemas\n",
    "# El modelo basico queda como el más optimo"
   ]
  }
 ],
 "metadata": {
  "kernelspec": {
   "display_name": "R",
   "language": "R",
   "name": "ir"
  },
  "language_info": {
   "codemirror_mode": "r",
   "file_extension": ".r",
   "mimetype": "text/x-r-source",
   "name": "R",
   "pygments_lexer": "r",
   "version": "4.3.1"
  }
 },
 "nbformat": 4,
 "nbformat_minor": 2
}
