{
 "cells": [
  {
   "cell_type": "markdown",
   "metadata": {},
   "source": [
    "# 1. Data Analysis"
   ]
  },
  {
   "cell_type": "markdown",
   "metadata": {},
   "source": [
    "Librerias relevantes para el análisis"
   ]
  },
  {
   "cell_type": "code",
   "execution_count": 24,
   "metadata": {
    "vscode": {
     "languageId": "r"
    }
   },
   "outputs": [],
   "source": [
    "library(rio)\n",
    "library(ggplot2)\n",
    "library(caTools)\n",
    "library(DescTools)\n",
    "library(dplyr)\n",
    "library(Hmisc)\n",
    "library(psych)"
   ]
  },
  {
   "cell_type": "code",
   "execution_count": 25,
   "metadata": {
    "vscode": {
     "languageId": "r"
    }
   },
   "outputs": [],
   "source": [
    "url=\"https://raw.githubusercontent.com/d2cml-ai/CausalAI-Course/main/data/wage2015_subsample_inference.csv\"\n",
    "wage<-read.csv(url)"
   ]
  },
  {
   "cell_type": "code",
   "execution_count": 26,
   "metadata": {
    "vscode": {
     "languageId": "r"
    }
   },
   "outputs": [
    {
     "data": {
      "text/html": [
       "<style>\n",
       ".list-inline {list-style: none; margin:0; padding: 0}\n",
       ".list-inline>li {display: inline-block}\n",
       ".list-inline>li:not(:last-child)::after {content: \"\\00b7\"; padding: 0 .5ex}\n",
       "</style>\n",
       "<ol class=list-inline><li>'rownames'</li><li>'wage'</li><li>'lwage'</li><li>'sex'</li><li>'shs'</li><li>'hsg'</li><li>'scl'</li><li>'clg'</li><li>'ad'</li><li>'mw'</li><li>'so'</li><li>'we'</li><li>'ne'</li><li>'exp1'</li><li>'exp2'</li><li>'exp3'</li><li>'exp4'</li><li>'occ'</li><li>'occ2'</li><li>'ind'</li><li>'ind2'</li></ol>\n"
      ],
      "text/latex": [
       "\\begin{enumerate*}\n",
       "\\item 'rownames'\n",
       "\\item 'wage'\n",
       "\\item 'lwage'\n",
       "\\item 'sex'\n",
       "\\item 'shs'\n",
       "\\item 'hsg'\n",
       "\\item 'scl'\n",
       "\\item 'clg'\n",
       "\\item 'ad'\n",
       "\\item 'mw'\n",
       "\\item 'so'\n",
       "\\item 'we'\n",
       "\\item 'ne'\n",
       "\\item 'exp1'\n",
       "\\item 'exp2'\n",
       "\\item 'exp3'\n",
       "\\item 'exp4'\n",
       "\\item 'occ'\n",
       "\\item 'occ2'\n",
       "\\item 'ind'\n",
       "\\item 'ind2'\n",
       "\\end{enumerate*}\n"
      ],
      "text/markdown": [
       "1. 'rownames'\n",
       "2. 'wage'\n",
       "3. 'lwage'\n",
       "4. 'sex'\n",
       "5. 'shs'\n",
       "6. 'hsg'\n",
       "7. 'scl'\n",
       "8. 'clg'\n",
       "9. 'ad'\n",
       "10. 'mw'\n",
       "11. 'so'\n",
       "12. 'we'\n",
       "13. 'ne'\n",
       "14. 'exp1'\n",
       "15. 'exp2'\n",
       "16. 'exp3'\n",
       "17. 'exp4'\n",
       "18. 'occ'\n",
       "19. 'occ2'\n",
       "20. 'ind'\n",
       "21. 'ind2'\n",
       "\n",
       "\n"
      ],
      "text/plain": [
       " [1] \"rownames\" \"wage\"     \"lwage\"    \"sex\"      \"shs\"      \"hsg\"     \n",
       " [7] \"scl\"      \"clg\"      \"ad\"       \"mw\"       \"so\"       \"we\"      \n",
       "[13] \"ne\"       \"exp1\"     \"exp2\"     \"exp3\"     \"exp4\"     \"occ\"     \n",
       "[19] \"occ2\"     \"ind\"      \"ind2\"    "
      ]
     },
     "metadata": {},
     "output_type": "display_data"
    }
   ],
   "source": [
    "names(wage)"
   ]
  },
  {
   "cell_type": "markdown",
   "metadata": {},
   "source": [
    "2. Reporte de NAs\n"
   ]
  },
  {
   "cell_type": "code",
   "execution_count": 27,
   "metadata": {
    "vscode": {
     "languageId": "r"
    }
   },
   "outputs": [
    {
     "data": {
      "text/html": [
       "<style>\n",
       ".dl-inline {width: auto; margin:0; padding: 0}\n",
       ".dl-inline>dt, .dl-inline>dd {float: none; width: auto; display: inline-block}\n",
       ".dl-inline>dt::after {content: \":\\0020\"; padding-right: .5ex}\n",
       ".dl-inline>dt:not(:first-of-type) {padding-left: .5ex}\n",
       "</style><dl class=dl-inline><dt>rownames</dt><dd>0</dd><dt>wage</dt><dd>0</dd><dt>lwage</dt><dd>0</dd><dt>sex</dt><dd>0</dd><dt>shs</dt><dd>0</dd><dt>hsg</dt><dd>0</dd><dt>scl</dt><dd>0</dd><dt>clg</dt><dd>0</dd><dt>ad</dt><dd>0</dd><dt>mw</dt><dd>0</dd><dt>so</dt><dd>0</dd><dt>we</dt><dd>0</dd><dt>ne</dt><dd>0</dd><dt>exp1</dt><dd>0</dd><dt>exp2</dt><dd>0</dd><dt>exp3</dt><dd>0</dd><dt>exp4</dt><dd>0</dd><dt>occ</dt><dd>0</dd><dt>occ2</dt><dd>0</dd><dt>ind</dt><dd>0</dd><dt>ind2</dt><dd>0</dd></dl>\n"
      ],
      "text/latex": [
       "\\begin{description*}\n",
       "\\item[rownames] 0\n",
       "\\item[wage] 0\n",
       "\\item[lwage] 0\n",
       "\\item[sex] 0\n",
       "\\item[shs] 0\n",
       "\\item[hsg] 0\n",
       "\\item[scl] 0\n",
       "\\item[clg] 0\n",
       "\\item[ad] 0\n",
       "\\item[mw] 0\n",
       "\\item[so] 0\n",
       "\\item[we] 0\n",
       "\\item[ne] 0\n",
       "\\item[exp1] 0\n",
       "\\item[exp2] 0\n",
       "\\item[exp3] 0\n",
       "\\item[exp4] 0\n",
       "\\item[occ] 0\n",
       "\\item[occ2] 0\n",
       "\\item[ind] 0\n",
       "\\item[ind2] 0\n",
       "\\end{description*}\n"
      ],
      "text/markdown": [
       "rownames\n",
       ":   0wage\n",
       ":   0lwage\n",
       ":   0sex\n",
       ":   0shs\n",
       ":   0hsg\n",
       ":   0scl\n",
       ":   0clg\n",
       ":   0ad\n",
       ":   0mw\n",
       ":   0so\n",
       ":   0we\n",
       ":   0ne\n",
       ":   0exp1\n",
       ":   0exp2\n",
       ":   0exp3\n",
       ":   0exp4\n",
       ":   0occ\n",
       ":   0occ2\n",
       ":   0ind\n",
       ":   0ind2\n",
       ":   0\n",
       "\n"
      ],
      "text/plain": [
       "rownames     wage    lwage      sex      shs      hsg      scl      clg \n",
       "       0        0        0        0        0        0        0        0 \n",
       "      ad       mw       so       we       ne     exp1     exp2     exp3 \n",
       "       0        0        0        0        0        0        0        0 \n",
       "    exp4      occ     occ2      ind     ind2 \n",
       "       0        0        0        0        0 "
      ]
     },
     "metadata": {},
     "output_type": "display_data"
    }
   ],
   "source": [
    "colSums(is.na(wage))"
   ]
  },
  {
   "cell_type": "markdown",
   "metadata": {},
   "source": [
    "No existen datos perdidos en la base de datos"
   ]
  },
  {
   "cell_type": "markdown",
   "metadata": {},
   "source": [
    "### 3.  Reporte de estadísticas descriptivas"
   ]
  },
  {
   "cell_type": "code",
   "execution_count": 28,
   "metadata": {
    "vscode": {
     "languageId": "r"
    }
   },
   "outputs": [
    {
     "data": {
      "text/html": [
       "<table class=\"dataframe\">\n",
       "<caption>A psych: 1 × 13</caption>\n",
       "<thead>\n",
       "\t<tr><th></th><th scope=col>vars</th><th scope=col>n</th><th scope=col>mean</th><th scope=col>sd</th><th scope=col>median</th><th scope=col>trimmed</th><th scope=col>mad</th><th scope=col>min</th><th scope=col>max</th><th scope=col>range</th><th scope=col>skew</th><th scope=col>kurtosis</th><th scope=col>se</th></tr>\n",
       "\t<tr><th></th><th scope=col>&lt;dbl&gt;</th><th scope=col>&lt;dbl&gt;</th><th scope=col>&lt;dbl&gt;</th><th scope=col>&lt;dbl&gt;</th><th scope=col>&lt;dbl&gt;</th><th scope=col>&lt;dbl&gt;</th><th scope=col>&lt;dbl&gt;</th><th scope=col>&lt;dbl&gt;</th><th scope=col>&lt;dbl&gt;</th><th scope=col>&lt;dbl&gt;</th><th scope=col>&lt;dbl&gt;</th><th scope=col>&lt;dbl&gt;</th><th scope=col>&lt;dbl&gt;</th></tr>\n",
       "</thead>\n",
       "<tbody>\n",
       "\t<tr><th scope=row>X1</th><td>1</td><td>5150</td><td>23.41041</td><td>21.00302</td><td>19.23077</td><td>20.53559</td><td>10.26415</td><td>3.021978</td><td>528.8457</td><td>525.8237</td><td>10.76153</td><td>210.9187</td><td>0.2926699</td></tr>\n",
       "</tbody>\n",
       "</table>\n"
      ],
      "text/latex": [
       "A psych: 1 × 13\n",
       "\\begin{tabular}{r|lllllllllllll}\n",
       "  & vars & n & mean & sd & median & trimmed & mad & min & max & range & skew & kurtosis & se\\\\\n",
       "  & <dbl> & <dbl> & <dbl> & <dbl> & <dbl> & <dbl> & <dbl> & <dbl> & <dbl> & <dbl> & <dbl> & <dbl> & <dbl>\\\\\n",
       "\\hline\n",
       "\tX1 & 1 & 5150 & 23.41041 & 21.00302 & 19.23077 & 20.53559 & 10.26415 & 3.021978 & 528.8457 & 525.8237 & 10.76153 & 210.9187 & 0.2926699\\\\\n",
       "\\end{tabular}\n"
      ],
      "text/markdown": [
       "\n",
       "A psych: 1 × 13\n",
       "\n",
       "| <!--/--> | vars &lt;dbl&gt; | n &lt;dbl&gt; | mean &lt;dbl&gt; | sd &lt;dbl&gt; | median &lt;dbl&gt; | trimmed &lt;dbl&gt; | mad &lt;dbl&gt; | min &lt;dbl&gt; | max &lt;dbl&gt; | range &lt;dbl&gt; | skew &lt;dbl&gt; | kurtosis &lt;dbl&gt; | se &lt;dbl&gt; |\n",
       "|---|---|---|---|---|---|---|---|---|---|---|---|---|---|\n",
       "| X1 | 1 | 5150 | 23.41041 | 21.00302 | 19.23077 | 20.53559 | 10.26415 | 3.021978 | 528.8457 | 525.8237 | 10.76153 | 210.9187 | 0.2926699 |\n",
       "\n"
      ],
      "text/plain": [
       "   vars n    mean     sd       median   trimmed  mad      min      max     \n",
       "X1 1    5150 23.41041 21.00302 19.23077 20.53559 10.26415 3.021978 528.8457\n",
       "   range    skew     kurtosis se       \n",
       "X1 525.8237 10.76153 210.9187 0.2926699"
      ]
     },
     "metadata": {},
     "output_type": "display_data"
    }
   ],
   "source": [
    "describe(wage$wage)"
   ]
  },
  {
   "cell_type": "markdown",
   "metadata": {},
   "source": [
    "**Interpretación** : se puede extraer información relevante si nos enfocamos en la variable del salario del individuo. Se puede observar que el salario promedio de la muestra es de 23.41 dólares.No obstante, la desviación estándar es muy alta(21), lo cual quiere decir que existe una alta dispersión del salario con respecto al promedio. Por ejemplo, existe un individuo cuyo salario es de 528.85 dólares y otro cuyo salario es de 3.02 dólares. En aras de obtener información más estable sobre el salario se recurre a la mediana, la cual nos dice que el 50% de la muestra posee un salario entre los 3.02 y 19.23 dólares. Por último, la muestra presenta una asimetría positiva, lo cual implica que existe un mayor número de trabajadores con un salario menor al promedio."
   ]
  },
  {
   "cell_type": "markdown",
   "metadata": {},
   "source": [
    "4. Obtener el número de mujeres con un grado académico alto que poseen un salario del 25% más rico de la muestra"
   ]
  },
  {
   "cell_type": "markdown",
   "metadata": {},
   "source": [
    "4.1 Identificación de cuantiles"
   ]
  },
  {
   "cell_type": "code",
   "execution_count": 29,
   "metadata": {
    "vscode": {
     "languageId": "r"
    }
   },
   "outputs": [
    {
     "data": {
      "text/plain": [
       "   Min. 1st Qu.  Median    Mean 3rd Qu.    Max. \n",
       "  3.022  13.461  19.231  23.410  27.778 528.846 "
      ]
     },
     "metadata": {},
     "output_type": "display_data"
    }
   ],
   "source": [
    "summary(wage$wage)"
   ]
  },
  {
   "cell_type": "markdown",
   "metadata": {},
   "source": [
    "4.2 Creamos nueva variable"
   ]
  },
  {
   "cell_type": "code",
   "execution_count": 30,
   "metadata": {
    "vscode": {
     "languageId": "r"
    }
   },
   "outputs": [
    {
     "data": {
      "text/plain": [
       "\n",
       "Muy bajo     Bajo     Alto Muy alto \n",
       "    1269     1462     1132     1287 "
      ]
     },
     "metadata": {},
     "output_type": "display_data"
    }
   ],
   "source": [
    "wage$wage_ordinal=cut(wage$wage, breaks = c(0,13.461,19.231,27.778,528.846),\n",
    "                      include.lowest = T, ordered_result = T,\n",
    "                      labels=c(\"Muy bajo\", \"Bajo\", \"Alto\",\"Muy alto\"))\n",
    "table(wage$wage_ordinal)"
   ]
  },
  {
   "cell_type": "markdown",
   "metadata": {},
   "source": [
    "4.3 Creamos dos subsets que solo contengan a uno de los sexos"
   ]
  },
  {
   "cell_type": "code",
   "execution_count": 31,
   "metadata": {
    "vscode": {
     "languageId": "r"
    }
   },
   "outputs": [],
   "source": [
    "wage_only_women=wage%>%filter(sex == 1)\n",
    "wage_only_men= wage%>%filter(sex == 0)\n",
    "wage_only_women$case<- c(1)\n",
    "wage_only_men$case<- c(1)"
   ]
  },
  {
   "cell_type": "markdown",
   "metadata": {},
   "source": [
    "4.4 Agrupamos"
   ]
  },
  {
   "cell_type": "code",
   "execution_count": 32,
   "metadata": {
    "vscode": {
     "languageId": "r"
    }
   },
   "outputs": [
    {
     "name": "stderr",
     "output_type": "stream",
     "text": [
      "\u001b[1m\u001b[22m`summarise()` has grouped output by 'clg'. You can override using the `.groups`\n",
      "argument.\n"
     ]
    },
    {
     "data": {
      "text/html": [
       "<table class=\"dataframe\">\n",
       "<caption>A grouped_df: 8 × 3</caption>\n",
       "<thead>\n",
       "\t<tr><th scope=col>clg</th><th scope=col>wage_ordinal</th><th scope=col>Casos</th></tr>\n",
       "\t<tr><th scope=col>&lt;dbl&gt;</th><th scope=col>&lt;ord&gt;</th><th scope=col>&lt;dbl&gt;</th></tr>\n",
       "</thead>\n",
       "<tbody>\n",
       "\t<tr><td>0</td><td>Muy bajo</td><td>484</td></tr>\n",
       "\t<tr><td>0</td><td>Bajo    </td><td>434</td></tr>\n",
       "\t<tr><td>0</td><td>Alto    </td><td>281</td></tr>\n",
       "\t<tr><td>0</td><td>Muy alto</td><td>295</td></tr>\n",
       "\t<tr><td>1</td><td>Muy bajo</td><td>107</td></tr>\n",
       "\t<tr><td>1</td><td>Bajo    </td><td>227</td></tr>\n",
       "\t<tr><td>1</td><td>Alto    </td><td>224</td></tr>\n",
       "\t<tr><td>1</td><td>Muy alto</td><td>237</td></tr>\n",
       "</tbody>\n",
       "</table>\n"
      ],
      "text/latex": [
       "A grouped\\_df: 8 × 3\n",
       "\\begin{tabular}{lll}\n",
       " clg & wage\\_ordinal & Casos\\\\\n",
       " <dbl> & <ord> & <dbl>\\\\\n",
       "\\hline\n",
       "\t 0 & Muy bajo & 484\\\\\n",
       "\t 0 & Bajo     & 434\\\\\n",
       "\t 0 & Alto     & 281\\\\\n",
       "\t 0 & Muy alto & 295\\\\\n",
       "\t 1 & Muy bajo & 107\\\\\n",
       "\t 1 & Bajo     & 227\\\\\n",
       "\t 1 & Alto     & 224\\\\\n",
       "\t 1 & Muy alto & 237\\\\\n",
       "\\end{tabular}\n"
      ],
      "text/markdown": [
       "\n",
       "A grouped_df: 8 × 3\n",
       "\n",
       "| clg &lt;dbl&gt; | wage_ordinal &lt;ord&gt; | Casos &lt;dbl&gt; |\n",
       "|---|---|---|\n",
       "| 0 | Muy bajo | 484 |\n",
       "| 0 | Bajo     | 434 |\n",
       "| 0 | Alto     | 281 |\n",
       "| 0 | Muy alto | 295 |\n",
       "| 1 | Muy bajo | 107 |\n",
       "| 1 | Bajo     | 227 |\n",
       "| 1 | Alto     | 224 |\n",
       "| 1 | Muy alto | 237 |\n",
       "\n"
      ],
      "text/plain": [
       "  clg wage_ordinal Casos\n",
       "1 0   Muy bajo     484  \n",
       "2 0   Bajo         434  \n",
       "3 0   Alto         281  \n",
       "4 0   Muy alto     295  \n",
       "5 1   Muy bajo     107  \n",
       "6 1   Bajo         227  \n",
       "7 1   Alto         224  \n",
       "8 1   Muy alto     237  "
      ]
     },
     "metadata": {},
     "output_type": "display_data"
    }
   ],
   "source": [
    "wage_only_women%>%group_by(clg,wage_ordinal)%>%summarise(Casos=sum(case))"
   ]
  },
  {
   "cell_type": "markdown",
   "metadata": {},
   "source": [
    "\n",
    "Existen 237 mujeres con un college dregee que poseen un salario del 25% más rico de la muestra."
   ]
  },
  {
   "cell_type": "code",
   "execution_count": 33,
   "metadata": {
    "vscode": {
     "languageId": "r"
    }
   },
   "outputs": [
    {
     "name": "stderr",
     "output_type": "stream",
     "text": [
      "\u001b[1m\u001b[22m`summarise()` has grouped output by 'ad'. You can override using the `.groups`\n",
      "argument.\n"
     ]
    },
    {
     "data": {
      "text/html": [
       "<table class=\"dataframe\">\n",
       "<caption>A grouped_df: 8 × 3</caption>\n",
       "<thead>\n",
       "\t<tr><th scope=col>ad</th><th scope=col>wage_ordinal</th><th scope=col>Casos</th></tr>\n",
       "\t<tr><th scope=col>&lt;dbl&gt;</th><th scope=col>&lt;ord&gt;</th><th scope=col>&lt;dbl&gt;</th></tr>\n",
       "</thead>\n",
       "<tbody>\n",
       "\t<tr><td>0</td><td>Muy bajo</td><td>558</td></tr>\n",
       "\t<tr><td>0</td><td>Bajo    </td><td>581</td></tr>\n",
       "\t<tr><td>0</td><td>Alto    </td><td>392</td></tr>\n",
       "\t<tr><td>0</td><td>Muy alto</td><td>357</td></tr>\n",
       "\t<tr><td>1</td><td>Muy bajo</td><td> 33</td></tr>\n",
       "\t<tr><td>1</td><td>Bajo    </td><td> 80</td></tr>\n",
       "\t<tr><td>1</td><td>Alto    </td><td>113</td></tr>\n",
       "\t<tr><td>1</td><td>Muy alto</td><td>175</td></tr>\n",
       "</tbody>\n",
       "</table>\n"
      ],
      "text/latex": [
       "A grouped\\_df: 8 × 3\n",
       "\\begin{tabular}{lll}\n",
       " ad & wage\\_ordinal & Casos\\\\\n",
       " <dbl> & <ord> & <dbl>\\\\\n",
       "\\hline\n",
       "\t 0 & Muy bajo & 558\\\\\n",
       "\t 0 & Bajo     & 581\\\\\n",
       "\t 0 & Alto     & 392\\\\\n",
       "\t 0 & Muy alto & 357\\\\\n",
       "\t 1 & Muy bajo &  33\\\\\n",
       "\t 1 & Bajo     &  80\\\\\n",
       "\t 1 & Alto     & 113\\\\\n",
       "\t 1 & Muy alto & 175\\\\\n",
       "\\end{tabular}\n"
      ],
      "text/markdown": [
       "\n",
       "A grouped_df: 8 × 3\n",
       "\n",
       "| ad &lt;dbl&gt; | wage_ordinal &lt;ord&gt; | Casos &lt;dbl&gt; |\n",
       "|---|---|---|\n",
       "| 0 | Muy bajo | 558 |\n",
       "| 0 | Bajo     | 581 |\n",
       "| 0 | Alto     | 392 |\n",
       "| 0 | Muy alto | 357 |\n",
       "| 1 | Muy bajo |  33 |\n",
       "| 1 | Bajo     |  80 |\n",
       "| 1 | Alto     | 113 |\n",
       "| 1 | Muy alto | 175 |\n",
       "\n"
      ],
      "text/plain": [
       "  ad wage_ordinal Casos\n",
       "1 0  Muy bajo     558  \n",
       "2 0  Bajo         581  \n",
       "3 0  Alto         392  \n",
       "4 0  Muy alto     357  \n",
       "5 1  Muy bajo      33  \n",
       "6 1  Bajo          80  \n",
       "7 1  Alto         113  \n",
       "8 1  Muy alto     175  "
      ]
     },
     "metadata": {},
     "output_type": "display_data"
    }
   ],
   "source": [
    "wage_only_women%>%group_by(ad,wage_ordinal)%>%summarise(Casos=sum(case))"
   ]
  },
  {
   "cell_type": "markdown",
   "metadata": {},
   "source": [
    "Existen 175 mujeres con un advanced degree que poseen un salario del 25% más rico de la muestra. En ambos dataframes, las mujeres que no poseen alguno de estos grados académicos tienden a ser más propensas a tener un salario del 25% menos rico de la muestra, en comparación a las mujeres que sí poseen un mayor nivel académico. Ello nos lleva a inferir que probablemente el nivel educativo puede influir en la obtención de mejores salarios."
   ]
  },
  {
   "cell_type": "markdown",
   "metadata": {},
   "source": [
    "5. Obtener el número de hombres con un grado académico medio-bajo que poseen un salario perteneciente al 25% más rico de la muestra"
   ]
  },
  {
   "cell_type": "code",
   "execution_count": 34,
   "metadata": {
    "vscode": {
     "languageId": "r"
    }
   },
   "outputs": [
    {
     "name": "stderr",
     "output_type": "stream",
     "text": [
      "\u001b[1m\u001b[22m`summarise()` has grouped output by 'hsg'. You can override using the `.groups`\n",
      "argument.\n"
     ]
    },
    {
     "data": {
      "text/html": [
       "<table class=\"dataframe\">\n",
       "<caption>A grouped_df: 8 × 3</caption>\n",
       "<thead>\n",
       "\t<tr><th scope=col>hsg</th><th scope=col>wage_ordinal</th><th scope=col>Casos</th></tr>\n",
       "\t<tr><th scope=col>&lt;dbl&gt;</th><th scope=col>&lt;ord&gt;</th><th scope=col>&lt;dbl&gt;</th></tr>\n",
       "</thead>\n",
       "<tbody>\n",
       "\t<tr><td>0</td><td>Muy bajo</td><td>369</td></tr>\n",
       "\t<tr><td>0</td><td>Bajo    </td><td>525</td></tr>\n",
       "\t<tr><td>0</td><td>Alto    </td><td>477</td></tr>\n",
       "\t<tr><td>0</td><td>Muy alto</td><td>648</td></tr>\n",
       "\t<tr><td>1</td><td>Muy bajo</td><td>309</td></tr>\n",
       "\t<tr><td>1</td><td>Bajo    </td><td>276</td></tr>\n",
       "\t<tr><td>1</td><td>Alto    </td><td>150</td></tr>\n",
       "\t<tr><td>1</td><td>Muy alto</td><td>107</td></tr>\n",
       "</tbody>\n",
       "</table>\n"
      ],
      "text/latex": [
       "A grouped\\_df: 8 × 3\n",
       "\\begin{tabular}{lll}\n",
       " hsg & wage\\_ordinal & Casos\\\\\n",
       " <dbl> & <ord> & <dbl>\\\\\n",
       "\\hline\n",
       "\t 0 & Muy bajo & 369\\\\\n",
       "\t 0 & Bajo     & 525\\\\\n",
       "\t 0 & Alto     & 477\\\\\n",
       "\t 0 & Muy alto & 648\\\\\n",
       "\t 1 & Muy bajo & 309\\\\\n",
       "\t 1 & Bajo     & 276\\\\\n",
       "\t 1 & Alto     & 150\\\\\n",
       "\t 1 & Muy alto & 107\\\\\n",
       "\\end{tabular}\n"
      ],
      "text/markdown": [
       "\n",
       "A grouped_df: 8 × 3\n",
       "\n",
       "| hsg &lt;dbl&gt; | wage_ordinal &lt;ord&gt; | Casos &lt;dbl&gt; |\n",
       "|---|---|---|\n",
       "| 0 | Muy bajo | 369 |\n",
       "| 0 | Bajo     | 525 |\n",
       "| 0 | Alto     | 477 |\n",
       "| 0 | Muy alto | 648 |\n",
       "| 1 | Muy bajo | 309 |\n",
       "| 1 | Bajo     | 276 |\n",
       "| 1 | Alto     | 150 |\n",
       "| 1 | Muy alto | 107 |\n",
       "\n"
      ],
      "text/plain": [
       "  hsg wage_ordinal Casos\n",
       "1 0   Muy bajo     369  \n",
       "2 0   Bajo         525  \n",
       "3 0   Alto         477  \n",
       "4 0   Muy alto     648  \n",
       "5 1   Muy bajo     309  \n",
       "6 1   Bajo         276  \n",
       "7 1   Alto         150  \n",
       "8 1   Muy alto     107  "
      ]
     },
     "metadata": {},
     "output_type": "display_data"
    }
   ],
   "source": [
    "wage_only_men%>%group_by(hsg, wage_ordinal)%>%summarise(Casos=sum(case))"
   ]
  },
  {
   "cell_type": "markdown",
   "metadata": {},
   "source": [
    "Existen 107 trabajadores hombres con secundaria completa que poseen un salario perteneciente al 25% más rico de la muestra."
   ]
  },
  {
   "cell_type": "code",
   "execution_count": 35,
   "metadata": {
    "vscode": {
     "languageId": "r"
    }
   },
   "outputs": [
    {
     "name": "stderr",
     "output_type": "stream",
     "text": [
      "\u001b[1m\u001b[22m`summarise()` has grouped output by 'shs'. You can override using the `.groups`\n",
      "argument.\n"
     ]
    },
    {
     "data": {
      "text/html": [
       "<table class=\"dataframe\">\n",
       "<caption>A grouped_df: 8 × 3</caption>\n",
       "<thead>\n",
       "\t<tr><th scope=col>shs</th><th scope=col>wage_ordinal</th><th scope=col>Casos</th></tr>\n",
       "\t<tr><th scope=col>&lt;dbl&gt;</th><th scope=col>&lt;ord&gt;</th><th scope=col>&lt;dbl&gt;</th></tr>\n",
       "</thead>\n",
       "<tbody>\n",
       "\t<tr><td>0</td><td>Muy bajo</td><td>634</td></tr>\n",
       "\t<tr><td>0</td><td>Bajo    </td><td>775</td></tr>\n",
       "\t<tr><td>0</td><td>Alto    </td><td>614</td></tr>\n",
       "\t<tr><td>0</td><td>Muy alto</td><td>747</td></tr>\n",
       "\t<tr><td>1</td><td>Muy bajo</td><td> 44</td></tr>\n",
       "\t<tr><td>1</td><td>Bajo    </td><td> 26</td></tr>\n",
       "\t<tr><td>1</td><td>Alto    </td><td> 13</td></tr>\n",
       "\t<tr><td>1</td><td>Muy alto</td><td>  8</td></tr>\n",
       "</tbody>\n",
       "</table>\n"
      ],
      "text/latex": [
       "A grouped\\_df: 8 × 3\n",
       "\\begin{tabular}{lll}\n",
       " shs & wage\\_ordinal & Casos\\\\\n",
       " <dbl> & <ord> & <dbl>\\\\\n",
       "\\hline\n",
       "\t 0 & Muy bajo & 634\\\\\n",
       "\t 0 & Bajo     & 775\\\\\n",
       "\t 0 & Alto     & 614\\\\\n",
       "\t 0 & Muy alto & 747\\\\\n",
       "\t 1 & Muy bajo &  44\\\\\n",
       "\t 1 & Bajo     &  26\\\\\n",
       "\t 1 & Alto     &  13\\\\\n",
       "\t 1 & Muy alto &   8\\\\\n",
       "\\end{tabular}\n"
      ],
      "text/markdown": [
       "\n",
       "A grouped_df: 8 × 3\n",
       "\n",
       "| shs &lt;dbl&gt; | wage_ordinal &lt;ord&gt; | Casos &lt;dbl&gt; |\n",
       "|---|---|---|\n",
       "| 0 | Muy bajo | 634 |\n",
       "| 0 | Bajo     | 775 |\n",
       "| 0 | Alto     | 614 |\n",
       "| 0 | Muy alto | 747 |\n",
       "| 1 | Muy bajo |  44 |\n",
       "| 1 | Bajo     |  26 |\n",
       "| 1 | Alto     |  13 |\n",
       "| 1 | Muy alto |   8 |\n",
       "\n"
      ],
      "text/plain": [
       "  shs wage_ordinal Casos\n",
       "1 0   Muy bajo     634  \n",
       "2 0   Bajo         775  \n",
       "3 0   Alto         614  \n",
       "4 0   Muy alto     747  \n",
       "5 1   Muy bajo      44  \n",
       "6 1   Bajo          26  \n",
       "7 1   Alto          13  \n",
       "8 1   Muy alto       8  "
      ]
     },
     "metadata": {},
     "output_type": "display_data"
    }
   ],
   "source": [
    "wage_only_men%>%group_by(shs, wage_ordinal)%>%summarise(Casos=sum(case))"
   ]
  },
  {
   "cell_type": "markdown",
   "metadata": {},
   "source": [
    "Existen solo 8 trabajadores hombres con secundaria incompleta que tienen un salario perteneciente al 25% más rico de la muestra. Para ambos casos, los hombres que no poseen alguno de estos grados educativos son más propensos a poseer un salario pertenenciente al 25% más pobre. Si comparamos estos resultados con el anterior grupo, podemos observar que hay más mujeres con un salario altísimo en comparación con los hombres, pero ello puede deberse al mayor nivel educativo que poseen."
   ]
  },
  {
   "cell_type": "markdown",
   "metadata": {},
   "source": [
    "6. Creación de dos bases de datos"
   ]
  },
  {
   "cell_type": "code",
   "execution_count": 36,
   "metadata": {
    "vscode": {
     "languageId": "r"
    }
   },
   "outputs": [],
   "source": [
    "Y=wage%>%select(3)"
   ]
  },
  {
   "cell_type": "code",
   "execution_count": 37,
   "metadata": {
    "vscode": {
     "languageId": "r"
    }
   },
   "outputs": [],
   "source": [
    "X=wage%>%select(!(2:3))"
   ]
  }
 ],
 "metadata": {
  "kernelspec": {
   "display_name": "R",
   "language": "R",
   "name": "ir"
  },
  "language_info": {
   "codemirror_mode": "r",
   "file_extension": ".r",
   "mimetype": "text/x-r-source",
   "name": "R",
   "pygments_lexer": "r",
   "version": "4.4.1"
  }
 },
 "nbformat": 4,
 "nbformat_minor": 2
}
