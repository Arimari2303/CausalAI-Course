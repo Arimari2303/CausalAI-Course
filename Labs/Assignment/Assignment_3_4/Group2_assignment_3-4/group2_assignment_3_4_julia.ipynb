{
 "cells": [
  {
   "cell_type": "markdown",
   "metadata": {},
   "source": [
    "# Grupo 2 - PC3/4"
   ]
  },
  {
   "cell_type": "markdown",
   "metadata": {},
   "source": [
    "### Integrantes\n",
    "- GARCIA RODRIGUEZ, EMILIO ALONSO\n",
    "- PADILLA AQUISE, ALESSANDRO PIERO\n",
    "- RIEGA NUÑEZ, GABRIEL ANTONIO FERMIN\n",
    "- SALAMANCA FERNANDEZ, LUCAS PABLO\n",
    "- SILVA ANDUJAR, NICOLAS"
   ]
  },
  {
   "cell_type": "markdown",
   "metadata": {},
   "source": [
    "## Part 1"
   ]
  },
  {
   "cell_type": "code",
   "execution_count": 1,
   "metadata": {},
   "outputs": [],
   "source": [
    "using CSV\n",
    "using DataFrames\n",
    "using CategoricalArrays\n",
    "using Pkg\n",
    "using Distributions\n",
    "using Dates\n",
    "using Plots\n",
    "using Random\n",
    "using LinearAlgebra\n",
    "using LaTeXStrings\n",
    "using Lasso\n",
    "using Statistics\n",
    "using GLMNet\n",
    "using StatsModels\n",
    "using HDMjl\n",
    "\n",
    "data = CSV.read(\"wage2015_subsample_inference.csv\", DataFrame,\n",
    "                types = Dict(:occ2 => String, :ind2 => String));\n",
    "\n",
    "data = select(data, Not([\"wage\", \"rownames\"])); \n",
    "\n",
    "\n"
   ]
  },
  {
   "cell_type": "code",
   "execution_count": 67,
   "metadata": {},
   "outputs": [],
   "source": [
    "\n",
    "categorical_vars = [\"sex\", \"clg\", \"mw\", \"so\", \"we\", \"ne\", \"occ2\", \"ind2\"]\n",
    "\n",
    "for var in categorical_vars\n",
    "    data[!, var] = categorical(data[!, var])\n",
    "end\n"
   ]
  },
  {
   "cell_type": "code",
   "execution_count": 68,
   "metadata": {},
   "outputs": [],
   "source": [
    "# Create the design matrix with adjusted formula\n",
    "design = @formula(\n",
    "    lwage ~ 1 + sex + clg * sex + clg * (mw + so + we + ne) + sex * (mw + so + we + ne)+ clg * sex * (mw + so + we + ne) + (exp1 + exp2 + exp3 + exp4) * (hsg + scl + clg + ad + mw + so + we + ne + occ2 + ind2)\n",
    "    + (hsg + scl + clg + ad) * (mw + so + we + ne + occ2 + ind2) + (mw + so + we + ne) * (occ2 + ind2) + occ2 * ind2\n",
    ");"
   ]
  },
  {
   "cell_type": "code",
   "execution_count": 77,
   "metadata": {},
   "outputs": [
    {
     "name": "stdout",
     "output_type": "stream",
     "text": [
      "Coefficient Names:\n",
      "[\"sex: 1.0\", \"clg: 1.0\", \"mw: 1.0\", \"so: 1.0\", \"we: 1.0\", \"ne: 1.0\", \"exp1\", \"exp2\", \"exp3\", \"exp4\", \"hsg\", \"scl\", \"ad\", \"occ2: 10\", \"occ2: 11\", \"occ2: 12\", \"occ2: 13\", \"occ2: 14\", \"occ2: 15\", \"occ2: 16\", \"occ2: 17\", \"occ2: 18\", \"occ2: 19\", \"occ2: 2\", \"occ2: 20\", \"occ2: 21\", \"occ2: 22\", \"occ2: 3\", \"occ2: 4\", \"occ2: 5\", \"occ2: 6\", \"occ2: 7\", \"occ2: 8\", \"occ2: 9\", \"ind2: 11\", \"ind2: 12\", \"ind2: 13\", \"ind2: 14\", \"ind2: 15\", \"ind2: 16\", \"ind2: 17\", \"ind2: 18\", \"ind2: 19\", \"ind2: 2\", \"ind2: 20\", \"ind2: 21\", \"ind2: 22\", \"ind2: 3\", \"ind2: 4\", \"ind2: 5\", \"ind2: 6\", \"ind2: 7\", \"ind2: 8\", \"ind2: 9\", \"clg: 1.0 & sex: 1.0\", \"clg: 1.0 & mw: 1.0\", \"clg: 1.0 & so: 1.0\", \"clg: 1.0 & we: 1.0\", \"clg: 1.0 & ne: 1.0\", \"sex: 1.0 & mw: 1.0\", \"sex: 1.0 & so: 1.0\", \"sex: 1.0 & we: 1.0\", \"sex: 1.0 & ne: 1.0\", \"exp1 & hsg\", \"exp1 & scl\", \"exp1 & clg: 1.0\", \"exp1 & ad\", \"exp1 & mw: 1.0\", \"exp1 & so: 1.0\", \"exp1 & we: 1.0\", \"exp1 & ne: 1.0\", \"exp1 & occ2: 10\", \"exp1 & occ2: 11\", \"exp1 & occ2: 12\", \"exp1 & occ2: 13\", \"exp1 & occ2: 14\", \"exp1 & occ2: 15\", \"exp1 & occ2: 16\", \"exp1 & occ2: 17\", \"exp1 & occ2: 18\", \"exp1 & occ2: 19\", \"exp1 & occ2: 2\", \"exp1 & occ2: 20\", \"exp1 & occ2: 21\", \"exp1 & occ2: 22\", \"exp1 & occ2: 3\", \"exp1 & occ2: 4\", \"exp1 & occ2: 5\", \"exp1 & occ2: 6\", \"exp1 & occ2: 7\", \"exp1 & occ2: 8\", \"exp1 & occ2: 9\", \"exp1 & ind2: 11\", \"exp1 & ind2: 12\", \"exp1 & ind2: 13\", \"exp1 & ind2: 14\", \"exp1 & ind2: 15\", \"exp1 & ind2: 16\", \"exp1 & ind2: 17\", \"exp1 & ind2: 18\", \"exp1 & ind2: 19\", \"exp1 & ind2: 2\", \"exp1 & ind2: 20\", \"exp1 & ind2: 21\", \"exp1 & ind2: 22\", \"exp1 & ind2: 3\", \"exp1 & ind2: 4\", \"exp1 & ind2: 5\", \"exp1 & ind2: 6\", \"exp1 & ind2: 7\", \"exp1 & ind2: 8\", \"exp1 & ind2: 9\", \"exp2 & hsg\", \"exp2 & scl\", \"exp2 & clg: 1.0\", \"exp2 & ad\", \"exp2 & mw: 1.0\", \"exp2 & so: 1.0\", \"exp2 & we: 1.0\", \"exp2 & ne: 1.0\", \"exp2 & occ2: 10\", \"exp2 & occ2: 11\", \"exp2 & occ2: 12\", \"exp2 & occ2: 13\", \"exp2 & occ2: 14\", \"exp2 & occ2: 15\", \"exp2 & occ2: 16\", \"exp2 & occ2: 17\", \"exp2 & occ2: 18\", \"exp2 & occ2: 19\", \"exp2 & occ2: 2\", \"exp2 & occ2: 20\", \"exp2 & occ2: 21\", \"exp2 & occ2: 22\", \"exp2 & occ2: 3\", \"exp2 & occ2: 4\", \"exp2 & occ2: 5\", \"exp2 & occ2: 6\", \"exp2 & occ2: 7\", \"exp2 & occ2: 8\", \"exp2 & occ2: 9\", \"exp2 & ind2: 11\", \"exp2 & ind2: 12\", \"exp2 & ind2: 13\", \"exp2 & ind2: 14\", \"exp2 & ind2: 15\", \"exp2 & ind2: 16\", \"exp2 & ind2: 17\", \"exp2 & ind2: 18\", \"exp2 & ind2: 19\", \"exp2 & ind2: 2\", \"exp2 & ind2: 20\", \"exp2 & ind2: 21\", \"exp2 & ind2: 22\", \"exp2 & ind2: 3\", \"exp2 & ind2: 4\", \"exp2 & ind2: 5\", \"exp2 & ind2: 6\", \"exp2 & ind2: 7\", \"exp2 & ind2: 8\", \"exp2 & ind2: 9\", \"exp3 & hsg\", \"exp3 & scl\", \"exp3 & clg: 1.0\", \"exp3 & ad\", \"exp3 & mw: 1.0\", \"exp3 & so: 1.0\", \"exp3 & we: 1.0\", \"exp3 & ne: 1.0\", \"exp3 & occ2: 10\", \"exp3 & occ2: 11\", \"exp3 & occ2: 12\", \"exp3 & occ2: 13\", \"exp3 & occ2: 14\", \"exp3 & occ2: 15\", \"exp3 & occ2: 16\", \"exp3 & occ2: 17\", \"exp3 & occ2: 18\", \"exp3 & occ2: 19\", \"exp3 & occ2: 2\", \"exp3 & occ2: 20\", \"exp3 & occ2: 21\", \"exp3 & occ2: 22\", \"exp3 & occ2: 3\", \"exp3 & occ2: 4\", \"exp3 & occ2: 5\", \"exp3 & occ2: 6\", \"exp3 & occ2: 7\", \"exp3 & occ2: 8\", \"exp3 & occ2: 9\", \"exp3 & ind2: 11\", \"exp3 & ind2: 12\", \"exp3 & ind2: 13\", \"exp3 & ind2: 14\", \"exp3 & ind2: 15\", \"exp3 & ind2: 16\", \"exp3 & ind2: 17\", \"exp3 & ind2: 18\", \"exp3 & ind2: 19\", \"exp3 & ind2: 2\", \"exp3 & ind2: 20\", \"exp3 & ind2: 21\", \"exp3 & ind2: 22\", \"exp3 & ind2: 3\", \"exp3 & ind2: 4\", \"exp3 & ind2: 5\", \"exp3 & ind2: 6\", \"exp3 & ind2: 7\", \"exp3 & ind2: 8\", \"exp3 & ind2: 9\", \"exp4 & hsg\", \"exp4 & scl\", \"exp4 & clg: 1.0\", \"exp4 & ad\", \"exp4 & mw: 1.0\", \"exp4 & so: 1.0\", \"exp4 & we: 1.0\", \"exp4 & ne: 1.0\", \"exp4 & occ2: 10\", \"exp4 & occ2: 11\", \"exp4 & occ2: 12\", \"exp4 & occ2: 13\", \"exp4 & occ2: 14\", \"exp4 & occ2: 15\", \"exp4 & occ2: 16\", \"exp4 & occ2: 17\", \"exp4 & occ2: 18\", \"exp4 & occ2: 19\", \"exp4 & occ2: 2\", \"exp4 & occ2: 20\", \"exp4 & occ2: 21\", \"exp4 & occ2: 22\", \"exp4 & occ2: 3\", \"exp4 & occ2: 4\", \"exp4 & occ2: 5\", \"exp4 & occ2: 6\", \"exp4 & occ2: 7\", \"exp4 & occ2: 8\", \"exp4 & occ2: 9\", \"exp4 & ind2: 11\", \"exp4 & ind2: 12\", \"exp4 & ind2: 13\", \"exp4 & ind2: 14\", \"exp4 & ind2: 15\", \"exp4 & ind2: 16\", \"exp4 & ind2: 17\", \"exp4 & ind2: 18\", \"exp4 & ind2: 19\", \"exp4 & ind2: 2\", \"exp4 & ind2: 20\", \"exp4 & ind2: 21\", \"exp4 & ind2: 22\", \"exp4 & ind2: 3\", \"exp4 & ind2: 4\", \"exp4 & ind2: 5\", \"exp4 & ind2: 6\", \"exp4 & ind2: 7\", \"exp4 & ind2: 8\", \"exp4 & ind2: 9\", \"hsg & mw: 1.0\", \"hsg & so: 1.0\", \"hsg & we: 1.0\", \"hsg & ne: 1.0\", \"hsg & occ2: 10\", \"hsg & occ2: 11\", \"hsg & occ2: 12\", \"hsg & occ2: 13\", \"hsg & occ2: 14\", \"hsg & occ2: 15\", \"hsg & occ2: 16\", \"hsg & occ2: 17\", \"hsg & occ2: 18\", \"hsg & occ2: 19\", \"hsg & occ2: 2\", \"hsg & occ2: 20\", \"hsg & occ2: 21\", \"hsg & occ2: 22\", \"hsg & occ2: 3\", \"hsg & occ2: 4\", \"hsg & occ2: 5\", \"hsg & occ2: 6\", \"hsg & occ2: 7\", \"hsg & occ2: 8\", \"hsg & occ2: 9\", \"hsg & ind2: 11\", \"hsg & ind2: 12\", \"hsg & ind2: 13\", \"hsg & ind2: 14\", \"hsg & ind2: 15\", \"hsg & ind2: 16\", \"hsg & ind2: 17\", \"hsg & ind2: 18\", \"hsg & ind2: 19\", \"hsg & ind2: 2\", \"hsg & ind2: 20\", \"hsg & ind2: 21\", \"hsg & ind2: 22\", \"hsg & ind2: 3\", \"hsg & ind2: 4\", \"hsg & ind2: 5\", \"hsg & ind2: 6\", \"hsg & ind2: 7\", \"hsg & ind2: 8\", \"hsg & ind2: 9\", \"scl & mw: 1.0\", \"scl & so: 1.0\", \"scl & we: 1.0\", \"scl & ne: 1.0\", \"scl & occ2: 10\", \"scl & occ2: 11\", \"scl & occ2: 12\", \"scl & occ2: 13\", \"scl & occ2: 14\", \"scl & occ2: 15\", \"scl & occ2: 16\", \"scl & occ2: 17\", \"scl & occ2: 18\", \"scl & occ2: 19\", \"scl & occ2: 2\", \"scl & occ2: 20\", \"scl & occ2: 21\", \"scl & occ2: 22\", \"scl & occ2: 3\", \"scl & occ2: 4\", \"scl & occ2: 5\", \"scl & occ2: 6\", \"scl & occ2: 7\", \"scl & occ2: 8\", \"scl & occ2: 9\", \"scl & ind2: 11\", \"scl & ind2: 12\", \"scl & ind2: 13\", \"scl & ind2: 14\", \"scl & ind2: 15\", \"scl & ind2: 16\", \"scl & ind2: 17\", \"scl & ind2: 18\", \"scl & ind2: 19\", \"scl & ind2: 2\", \"scl & ind2: 20\", \"scl & ind2: 21\", \"scl & ind2: 22\", \"scl & ind2: 3\", \"scl & ind2: 4\", \"scl & ind2: 5\", \"scl & ind2: 6\", \"scl & ind2: 7\", \"scl & ind2: 8\", \"scl & ind2: 9\", \"clg: 1.0 & occ2: 10\", \"clg: 1.0 & occ2: 11\", \"clg: 1.0 & occ2: 12\", \"clg: 1.0 & occ2: 13\", \"clg: 1.0 & occ2: 14\", \"clg: 1.0 & occ2: 15\", \"clg: 1.0 & occ2: 16\", \"clg: 1.0 & occ2: 17\", \"clg: 1.0 & occ2: 18\", \"clg: 1.0 & occ2: 19\", \"clg: 1.0 & occ2: 2\", \"clg: 1.0 & occ2: 20\", \"clg: 1.0 & occ2: 21\", \"clg: 1.0 & occ2: 22\", \"clg: 1.0 & occ2: 3\", \"clg: 1.0 & occ2: 4\", \"clg: 1.0 & occ2: 5\", \"clg: 1.0 & occ2: 6\", \"clg: 1.0 & occ2: 7\", \"clg: 1.0 & occ2: 8\", \"clg: 1.0 & occ2: 9\", \"clg: 1.0 & ind2: 11\", \"clg: 1.0 & ind2: 12\", \"clg: 1.0 & ind2: 13\", \"clg: 1.0 & ind2: 14\", \"clg: 1.0 & ind2: 15\", \"clg: 1.0 & ind2: 16\", \"clg: 1.0 & ind2: 17\", \"clg: 1.0 & ind2: 18\", \"clg: 1.0 & ind2: 19\", \"clg: 1.0 & ind2: 2\", \"clg: 1.0 & ind2: 20\", \"clg: 1.0 & ind2: 21\", \"clg: 1.0 & ind2: 22\", \"clg: 1.0 & ind2: 3\", \"clg: 1.0 & ind2: 4\", \"clg: 1.0 & ind2: 5\", \"clg: 1.0 & ind2: 6\", \"clg: 1.0 & ind2: 7\", \"clg: 1.0 & ind2: 8\", \"clg: 1.0 & ind2: 9\", \"ad & mw: 1.0\", \"ad & so: 1.0\", \"ad & we: 1.0\", \"ad & ne: 1.0\", \"ad & occ2: 10\", \"ad & occ2: 11\", \"ad & occ2: 12\", \"ad & occ2: 13\", \"ad & occ2: 14\", \"ad & occ2: 15\", \"ad & occ2: 16\", \"ad & occ2: 17\", \"ad & occ2: 18\", \"ad & occ2: 19\", \"ad & occ2: 2\", \"ad & occ2: 20\", \"ad & occ2: 21\", \"ad & occ2: 22\", \"ad & occ2: 3\", \"ad & occ2: 4\", \"ad & occ2: 5\", \"ad & occ2: 6\", \"ad & occ2: 7\", \"ad & occ2: 8\", \"ad & occ2: 9\", \"ad & ind2: 11\", \"ad & ind2: 12\", \"ad & ind2: 13\", \"ad & ind2: 14\", \"ad & ind2: 15\", \"ad & ind2: 16\", \"ad & ind2: 17\", \"ad & ind2: 18\", \"ad & ind2: 19\", \"ad & ind2: 2\", \"ad & ind2: 20\", \"ad & ind2: 21\", \"ad & ind2: 22\", \"ad & ind2: 3\", \"ad & ind2: 4\", \"ad & ind2: 5\", \"ad & ind2: 6\", \"ad & ind2: 7\", \"ad & ind2: 8\", \"ad & ind2: 9\", \"mw: 1.0 & occ2: 10\", \"mw: 1.0 & occ2: 11\", \"mw: 1.0 & occ2: 12\", \"mw: 1.0 & occ2: 13\", \"mw: 1.0 & occ2: 14\", \"mw: 1.0 & occ2: 15\", \"mw: 1.0 & occ2: 16\", \"mw: 1.0 & occ2: 17\", \"mw: 1.0 & occ2: 18\", \"mw: 1.0 & occ2: 19\", \"mw: 1.0 & occ2: 2\", \"mw: 1.0 & occ2: 20\", \"mw: 1.0 & occ2: 21\", \"mw: 1.0 & occ2: 22\", \"mw: 1.0 & occ2: 3\", \"mw: 1.0 & occ2: 4\", \"mw: 1.0 & occ2: 5\", \"mw: 1.0 & occ2: 6\", \"mw: 1.0 & occ2: 7\", \"mw: 1.0 & occ2: 8\", \"mw: 1.0 & occ2: 9\", \"mw: 1.0 & ind2: 11\", \"mw: 1.0 & ind2: 12\", \"mw: 1.0 & ind2: 13\", \"mw: 1.0 & ind2: 14\", \"mw: 1.0 & ind2: 15\", \"mw: 1.0 & ind2: 16\", \"mw: 1.0 & ind2: 17\", \"mw: 1.0 & ind2: 18\", \"mw: 1.0 & ind2: 19\", \"mw: 1.0 & ind2: 2\", \"mw: 1.0 & ind2: 20\", \"mw: 1.0 & ind2: 21\", \"mw: 1.0 & ind2: 22\", \"mw: 1.0 & ind2: 3\", \"mw: 1.0 & ind2: 4\", \"mw: 1.0 & ind2: 5\", \"mw: 1.0 & ind2: 6\", \"mw: 1.0 & ind2: 7\", \"mw: 1.0 & ind2: 8\", \"mw: 1.0 & ind2: 9\", \"so: 1.0 & occ2: 10\", \"so: 1.0 & occ2: 11\", \"so: 1.0 & occ2: 12\", \"so: 1.0 & occ2: 13\", \"so: 1.0 & occ2: 14\", \"so: 1.0 & occ2: 15\", \"so: 1.0 & occ2: 16\", \"so: 1.0 & occ2: 17\", \"so: 1.0 & occ2: 18\", \"so: 1.0 & occ2: 19\", \"so: 1.0 & occ2: 2\", \"so: 1.0 & occ2: 20\", \"so: 1.0 & occ2: 21\", \"so: 1.0 & occ2: 22\", \"so: 1.0 & occ2: 3\", \"so: 1.0 & occ2: 4\", \"so: 1.0 & occ2: 5\", \"so: 1.0 & occ2: 6\", \"so: 1.0 & occ2: 7\", \"so: 1.0 & occ2: 8\", \"so: 1.0 & occ2: 9\", \"so: 1.0 & ind2: 11\", \"so: 1.0 & ind2: 12\", \"so: 1.0 & ind2: 13\", \"so: 1.0 & ind2: 14\", \"so: 1.0 & ind2: 15\", \"so: 1.0 & ind2: 16\", \"so: 1.0 & ind2: 17\", \"so: 1.0 & ind2: 18\", \"so: 1.0 & ind2: 19\", \"so: 1.0 & ind2: 2\", \"so: 1.0 & ind2: 20\", \"so: 1.0 & ind2: 21\", \"so: 1.0 & ind2: 22\", \"so: 1.0 & ind2: 3\", \"so: 1.0 & ind2: 4\", \"so: 1.0 & ind2: 5\", \"so: 1.0 & ind2: 6\", \"so: 1.0 & ind2: 7\", \"so: 1.0 & ind2: 8\", \"so: 1.0 & ind2: 9\", \"we: 1.0 & occ2: 10\", \"we: 1.0 & occ2: 11\", \"we: 1.0 & occ2: 12\", \"we: 1.0 & occ2: 13\", \"we: 1.0 & occ2: 14\", \"we: 1.0 & occ2: 15\", \"we: 1.0 & occ2: 16\", \"we: 1.0 & occ2: 17\", \"we: 1.0 & occ2: 18\", \"we: 1.0 & occ2: 19\", \"we: 1.0 & occ2: 2\", \"we: 1.0 & occ2: 20\", \"we: 1.0 & occ2: 21\", \"we: 1.0 & occ2: 22\", \"we: 1.0 & occ2: 3\", \"we: 1.0 & occ2: 4\", \"we: 1.0 & occ2: 5\", \"we: 1.0 & occ2: 6\", \"we: 1.0 & occ2: 7\", \"we: 1.0 & occ2: 8\", \"we: 1.0 & occ2: 9\", \"we: 1.0 & ind2: 11\", \"we: 1.0 & ind2: 12\", \"we: 1.0 & ind2: 13\", \"we: 1.0 & ind2: 14\", \"we: 1.0 & ind2: 15\", \"we: 1.0 & ind2: 16\", \"we: 1.0 & ind2: 17\", \"we: 1.0 & ind2: 18\", \"we: 1.0 & ind2: 19\", \"we: 1.0 & ind2: 2\", \"we: 1.0 & ind2: 20\", \"we: 1.0 & ind2: 21\", \"we: 1.0 & ind2: 22\", \"we: 1.0 & ind2: 3\", \"we: 1.0 & ind2: 4\", \"we: 1.0 & ind2: 5\", \"we: 1.0 & ind2: 6\", \"we: 1.0 & ind2: 7\", \"we: 1.0 & ind2: 8\", \"we: 1.0 & ind2: 9\", \"ne: 1.0 & occ2: 10\", \"ne: 1.0 & occ2: 11\", \"ne: 1.0 & occ2: 12\", \"ne: 1.0 & occ2: 13\", \"ne: 1.0 & occ2: 14\", \"ne: 1.0 & occ2: 15\", \"ne: 1.0 & occ2: 16\", \"ne: 1.0 & occ2: 17\", \"ne: 1.0 & occ2: 18\", \"ne: 1.0 & occ2: 19\", \"ne: 1.0 & occ2: 2\", \"ne: 1.0 & occ2: 20\", \"ne: 1.0 & occ2: 21\", \"ne: 1.0 & occ2: 22\", \"ne: 1.0 & occ2: 3\", \"ne: 1.0 & occ2: 4\", \"ne: 1.0 & occ2: 5\", \"ne: 1.0 & occ2: 6\", \"ne: 1.0 & occ2: 7\", \"ne: 1.0 & occ2: 8\", \"ne: 1.0 & occ2: 9\", \"ne: 1.0 & ind2: 11\", \"ne: 1.0 & ind2: 12\", \"ne: 1.0 & ind2: 13\", \"ne: 1.0 & ind2: 14\", \"ne: 1.0 & ind2: 15\", \"ne: 1.0 & ind2: 16\", \"ne: 1.0 & ind2: 17\", \"ne: 1.0 & ind2: 18\", \"ne: 1.0 & ind2: 19\", \"ne: 1.0 & ind2: 2\", \"ne: 1.0 & ind2: 20\", \"ne: 1.0 & ind2: 21\", \"ne: 1.0 & ind2: 22\", \"ne: 1.0 & ind2: 3\", \"ne: 1.0 & ind2: 4\", \"ne: 1.0 & ind2: 5\", \"ne: 1.0 & ind2: 6\", \"ne: 1.0 & ind2: 7\", \"ne: 1.0 & ind2: 8\", \"ne: 1.0 & ind2: 9\", \"occ2: 10 & ind2: 11\", \"occ2: 11 & ind2: 11\", \"occ2: 12 & ind2: 11\", \"occ2: 13 & ind2: 11\", \"occ2: 14 & ind2: 11\", \"occ2: 15 & ind2: 11\", \"occ2: 16 & ind2: 11\", \"occ2: 17 & ind2: 11\", \"occ2: 18 & ind2: 11\", \"occ2: 19 & ind2: 11\", \"occ2: 2 & ind2: 11\", \"occ2: 20 & ind2: 11\", \"occ2: 21 & ind2: 11\", \"occ2: 22 & ind2: 11\", \"occ2: 3 & ind2: 11\", \"occ2: 4 & ind2: 11\", \"occ2: 5 & ind2: 11\", \"occ2: 6 & ind2: 11\", \"occ2: 7 & ind2: 11\", \"occ2: 8 & ind2: 11\", \"occ2: 9 & ind2: 11\", \"occ2: 10 & ind2: 12\", \"occ2: 11 & ind2: 12\", \"occ2: 12 & ind2: 12\", \"occ2: 13 & ind2: 12\", \"occ2: 14 & ind2: 12\", \"occ2: 15 & ind2: 12\", \"occ2: 16 & ind2: 12\", \"occ2: 17 & ind2: 12\", \"occ2: 18 & ind2: 12\", \"occ2: 19 & ind2: 12\", \"occ2: 2 & ind2: 12\", \"occ2: 20 & ind2: 12\", \"occ2: 21 & ind2: 12\", \"occ2: 22 & ind2: 12\", \"occ2: 3 & ind2: 12\", \"occ2: 4 & ind2: 12\", \"occ2: 5 & ind2: 12\", \"occ2: 6 & ind2: 12\", \"occ2: 7 & ind2: 12\", \"occ2: 8 & ind2: 12\", \"occ2: 9 & ind2: 12\", \"occ2: 10 & ind2: 13\", \"occ2: 11 & ind2: 13\", \"occ2: 12 & ind2: 13\", \"occ2: 13 & ind2: 13\", \"occ2: 14 & ind2: 13\", \"occ2: 15 & ind2: 13\", \"occ2: 16 & ind2: 13\", \"occ2: 17 & ind2: 13\", \"occ2: 18 & ind2: 13\", \"occ2: 19 & ind2: 13\", \"occ2: 2 & ind2: 13\", \"occ2: 20 & ind2: 13\", \"occ2: 21 & ind2: 13\", \"occ2: 22 & ind2: 13\", \"occ2: 3 & ind2: 13\", \"occ2: 4 & ind2: 13\", \"occ2: 5 & ind2: 13\", \"occ2: 6 & ind2: 13\", \"occ2: 7 & ind2: 13\", \"occ2: 8 & ind2: 13\", \"occ2: 9 & ind2: 13\", \"occ2: 10 & ind2: 14\", \"occ2: 11 & ind2: 14\", \"occ2: 12 & ind2: 14\", \"occ2: 13 & ind2: 14\", \"occ2: 14 & ind2: 14\", \"occ2: 15 & ind2: 14\", \"occ2: 16 & ind2: 14\", \"occ2: 17 & ind2: 14\", \"occ2: 18 & ind2: 14\", \"occ2: 19 & ind2: 14\", \"occ2: 2 & ind2: 14\", \"occ2: 20 & ind2: 14\", \"occ2: 21 & ind2: 14\", \"occ2: 22 & ind2: 14\", \"occ2: 3 & ind2: 14\", \"occ2: 4 & ind2: 14\", \"occ2: 5 & ind2: 14\", \"occ2: 6 & ind2: 14\", \"occ2: 7 & ind2: 14\", \"occ2: 8 & ind2: 14\", \"occ2: 9 & ind2: 14\", \"occ2: 10 & ind2: 15\", \"occ2: 11 & ind2: 15\", \"occ2: 12 & ind2: 15\", \"occ2: 13 & ind2: 15\", \"occ2: 14 & ind2: 15\", \"occ2: 15 & ind2: 15\", \"occ2: 16 & ind2: 15\", \"occ2: 17 & ind2: 15\", \"occ2: 18 & ind2: 15\", \"occ2: 19 & ind2: 15\", \"occ2: 2 & ind2: 15\", \"occ2: 20 & ind2: 15\", \"occ2: 21 & ind2: 15\", \"occ2: 22 & ind2: 15\", \"occ2: 3 & ind2: 15\", \"occ2: 4 & ind2: 15\", \"occ2: 5 & ind2: 15\", \"occ2: 6 & ind2: 15\", \"occ2: 7 & ind2: 15\", \"occ2: 8 & ind2: 15\", \"occ2: 9 & ind2: 15\", \"occ2: 10 & ind2: 16\", \"occ2: 11 & ind2: 16\", \"occ2: 12 & ind2: 16\", \"occ2: 13 & ind2: 16\", \"occ2: 14 & ind2: 16\", \"occ2: 15 & ind2: 16\", \"occ2: 16 & ind2: 16\", \"occ2: 17 & ind2: 16\", \"occ2: 18 & ind2: 16\", \"occ2: 19 & ind2: 16\", \"occ2: 2 & ind2: 16\", \"occ2: 20 & ind2: 16\", \"occ2: 21 & ind2: 16\", \"occ2: 22 & ind2: 16\", \"occ2: 3 & ind2: 16\", \"occ2: 4 & ind2: 16\", \"occ2: 5 & ind2: 16\", \"occ2: 6 & ind2: 16\", \"occ2: 7 & ind2: 16\", \"occ2: 8 & ind2: 16\", \"occ2: 9 & ind2: 16\", \"occ2: 10 & ind2: 17\", \"occ2: 11 & ind2: 17\", \"occ2: 12 & ind2: 17\", \"occ2: 13 & ind2: 17\", \"occ2: 14 & ind2: 17\", \"occ2: 15 & ind2: 17\", \"occ2: 16 & ind2: 17\", \"occ2: 17 & ind2: 17\", \"occ2: 18 & ind2: 17\", \"occ2: 19 & ind2: 17\", \"occ2: 2 & ind2: 17\", \"occ2: 20 & ind2: 17\", \"occ2: 21 & ind2: 17\", \"occ2: 22 & ind2: 17\", \"occ2: 3 & ind2: 17\", \"occ2: 4 & ind2: 17\", \"occ2: 5 & ind2: 17\", \"occ2: 6 & ind2: 17\", \"occ2: 7 & ind2: 17\", \"occ2: 8 & ind2: 17\", \"occ2: 9 & ind2: 17\", \"occ2: 10 & ind2: 18\", \"occ2: 11 & ind2: 18\", \"occ2: 12 & ind2: 18\", \"occ2: 13 & ind2: 18\", \"occ2: 14 & ind2: 18\", \"occ2: 15 & ind2: 18\", \"occ2: 16 & ind2: 18\", \"occ2: 17 & ind2: 18\", \"occ2: 18 & ind2: 18\", \"occ2: 19 & ind2: 18\", \"occ2: 2 & ind2: 18\", \"occ2: 20 & ind2: 18\", \"occ2: 21 & ind2: 18\", \"occ2: 22 & ind2: 18\", \"occ2: 3 & ind2: 18\", \"occ2: 4 & ind2: 18\", \"occ2: 5 & ind2: 18\", \"occ2: 6 & ind2: 18\", \"occ2: 7 & ind2: 18\", \"occ2: 8 & ind2: 18\", \"occ2: 9 & ind2: 18\", \"occ2: 10 & ind2: 19\", \"occ2: 11 & ind2: 19\", \"occ2: 12 & ind2: 19\", \"occ2: 13 & ind2: 19\", \"occ2: 14 & ind2: 19\", \"occ2: 15 & ind2: 19\", \"occ2: 16 & ind2: 19\", \"occ2: 17 & ind2: 19\", \"occ2: 18 & ind2: 19\", \"occ2: 19 & ind2: 19\", \"occ2: 2 & ind2: 19\", \"occ2: 20 & ind2: 19\", \"occ2: 21 & ind2: 19\", \"occ2: 22 & ind2: 19\", \"occ2: 3 & ind2: 19\", \"occ2: 4 & ind2: 19\", \"occ2: 5 & ind2: 19\", \"occ2: 6 & ind2: 19\", \"occ2: 7 & ind2: 19\", \"occ2: 8 & ind2: 19\", \"occ2: 9 & ind2: 19\", \"occ2: 10 & ind2: 2\", \"occ2: 11 & ind2: 2\", \"occ2: 12 & ind2: 2\", \"occ2: 13 & ind2: 2\", \"occ2: 14 & ind2: 2\", \"occ2: 15 & ind2: 2\", \"occ2: 16 & ind2: 2\", \"occ2: 17 & ind2: 2\", \"occ2: 18 & ind2: 2\", \"occ2: 19 & ind2: 2\", \"occ2: 2 & ind2: 2\", \"occ2: 20 & ind2: 2\", \"occ2: 21 & ind2: 2\", \"occ2: 22 & ind2: 2\", \"occ2: 3 & ind2: 2\", \"occ2: 4 & ind2: 2\", \"occ2: 5 & ind2: 2\", \"occ2: 6 & ind2: 2\", \"occ2: 7 & ind2: 2\", \"occ2: 8 & ind2: 2\", \"occ2: 9 & ind2: 2\", \"occ2: 10 & ind2: 20\", \"occ2: 11 & ind2: 20\", \"occ2: 12 & ind2: 20\", \"occ2: 13 & ind2: 20\", \"occ2: 14 & ind2: 20\", \"occ2: 15 & ind2: 20\", \"occ2: 16 & ind2: 20\", \"occ2: 17 & ind2: 20\", \"occ2: 18 & ind2: 20\", \"occ2: 19 & ind2: 20\", \"occ2: 2 & ind2: 20\", \"occ2: 20 & ind2: 20\", \"occ2: 21 & ind2: 20\", \"occ2: 22 & ind2: 20\", \"occ2: 3 & ind2: 20\", \"occ2: 4 & ind2: 20\", \"occ2: 5 & ind2: 20\", \"occ2: 6 & ind2: 20\", \"occ2: 7 & ind2: 20\", \"occ2: 8 & ind2: 20\", \"occ2: 9 & ind2: 20\", \"occ2: 10 & ind2: 21\", \"occ2: 11 & ind2: 21\", \"occ2: 12 & ind2: 21\", \"occ2: 13 & ind2: 21\", \"occ2: 14 & ind2: 21\", \"occ2: 15 & ind2: 21\", \"occ2: 16 & ind2: 21\", \"occ2: 17 & ind2: 21\", \"occ2: 18 & ind2: 21\", \"occ2: 19 & ind2: 21\", \"occ2: 2 & ind2: 21\", \"occ2: 20 & ind2: 21\", \"occ2: 21 & ind2: 21\", \"occ2: 22 & ind2: 21\", \"occ2: 3 & ind2: 21\", \"occ2: 4 & ind2: 21\", \"occ2: 5 & ind2: 21\", \"occ2: 6 & ind2: 21\", \"occ2: 7 & ind2: 21\", \"occ2: 8 & ind2: 21\", \"occ2: 9 & ind2: 21\", \"occ2: 10 & ind2: 22\", \"occ2: 11 & ind2: 22\", \"occ2: 12 & ind2: 22\", \"occ2: 13 & ind2: 22\", \"occ2: 14 & ind2: 22\", \"occ2: 15 & ind2: 22\", \"occ2: 16 & ind2: 22\", \"occ2: 17 & ind2: 22\", \"occ2: 18 & ind2: 22\", \"occ2: 19 & ind2: 22\", \"occ2: 2 & ind2: 22\", \"occ2: 20 & ind2: 22\", \"occ2: 21 & ind2: 22\", \"occ2: 22 & ind2: 22\", \"occ2: 3 & ind2: 22\", \"occ2: 4 & ind2: 22\", \"occ2: 5 & ind2: 22\", \"occ2: 6 & ind2: 22\", \"occ2: 7 & ind2: 22\", \"occ2: 8 & ind2: 22\", \"occ2: 9 & ind2: 22\", \"occ2: 10 & ind2: 3\", \"occ2: 11 & ind2: 3\", \"occ2: 12 & ind2: 3\", \"occ2: 13 & ind2: 3\", \"occ2: 14 & ind2: 3\", \"occ2: 15 & ind2: 3\", \"occ2: 16 & ind2: 3\", \"occ2: 17 & ind2: 3\", \"occ2: 18 & ind2: 3\", \"occ2: 19 & ind2: 3\", \"occ2: 2 & ind2: 3\", \"occ2: 20 & ind2: 3\", \"occ2: 21 & ind2: 3\", \"occ2: 22 & ind2: 3\", \"occ2: 3 & ind2: 3\", \"occ2: 4 & ind2: 3\", \"occ2: 5 & ind2: 3\", \"occ2: 6 & ind2: 3\", \"occ2: 7 & ind2: 3\", \"occ2: 8 & ind2: 3\", \"occ2: 9 & ind2: 3\", \"occ2: 10 & ind2: 4\", \"occ2: 11 & ind2: 4\", \"occ2: 12 & ind2: 4\", \"occ2: 13 & ind2: 4\", \"occ2: 14 & ind2: 4\", \"occ2: 15 & ind2: 4\", \"occ2: 16 & ind2: 4\", \"occ2: 17 & ind2: 4\", \"occ2: 18 & ind2: 4\", \"occ2: 19 & ind2: 4\", \"occ2: 2 & ind2: 4\", \"occ2: 20 & ind2: 4\", \"occ2: 21 & ind2: 4\", \"occ2: 22 & ind2: 4\", \"occ2: 3 & ind2: 4\", \"occ2: 4 & ind2: 4\", \"occ2: 5 & ind2: 4\", \"occ2: 6 & ind2: 4\", \"occ2: 7 & ind2: 4\", \"occ2: 8 & ind2: 4\", \"occ2: 9 & ind2: 4\", \"occ2: 10 & ind2: 5\", \"occ2: 11 & ind2: 5\", \"occ2: 12 & ind2: 5\", \"occ2: 13 & ind2: 5\", \"occ2: 14 & ind2: 5\", \"occ2: 15 & ind2: 5\", \"occ2: 16 & ind2: 5\", \"occ2: 17 & ind2: 5\", \"occ2: 18 & ind2: 5\", \"occ2: 19 & ind2: 5\", \"occ2: 2 & ind2: 5\", \"occ2: 20 & ind2: 5\", \"occ2: 21 & ind2: 5\", \"occ2: 22 & ind2: 5\", \"occ2: 3 & ind2: 5\", \"occ2: 4 & ind2: 5\", \"occ2: 5 & ind2: 5\", \"occ2: 6 & ind2: 5\", \"occ2: 7 & ind2: 5\", \"occ2: 8 & ind2: 5\", \"occ2: 9 & ind2: 5\", \"occ2: 10 & ind2: 6\", \"occ2: 11 & ind2: 6\", \"occ2: 12 & ind2: 6\", \"occ2: 13 & ind2: 6\", \"occ2: 14 & ind2: 6\", \"occ2: 15 & ind2: 6\", \"occ2: 16 & ind2: 6\", \"occ2: 17 & ind2: 6\", \"occ2: 18 & ind2: 6\", \"occ2: 19 & ind2: 6\", \"occ2: 2 & ind2: 6\", \"occ2: 20 & ind2: 6\", \"occ2: 21 & ind2: 6\", \"occ2: 22 & ind2: 6\", \"occ2: 3 & ind2: 6\", \"occ2: 4 & ind2: 6\", \"occ2: 5 & ind2: 6\", \"occ2: 6 & ind2: 6\", \"occ2: 7 & ind2: 6\", \"occ2: 8 & ind2: 6\", \"occ2: 9 & ind2: 6\", \"occ2: 10 & ind2: 7\", \"occ2: 11 & ind2: 7\", \"occ2: 12 & ind2: 7\", \"occ2: 13 & ind2: 7\", \"occ2: 14 & ind2: 7\", \"occ2: 15 & ind2: 7\", \"occ2: 16 & ind2: 7\", \"occ2: 17 & ind2: 7\", \"occ2: 18 & ind2: 7\", \"occ2: 19 & ind2: 7\", \"occ2: 2 & ind2: 7\", \"occ2: 20 & ind2: 7\", \"occ2: 21 & ind2: 7\", \"occ2: 22 & ind2: 7\", \"occ2: 3 & ind2: 7\", \"occ2: 4 & ind2: 7\", \"occ2: 5 & ind2: 7\", \"occ2: 6 & ind2: 7\", \"occ2: 7 & ind2: 7\", \"occ2: 8 & ind2: 7\", \"occ2: 9 & ind2: 7\", \"occ2: 10 & ind2: 8\", \"occ2: 11 & ind2: 8\", \"occ2: 12 & ind2: 8\", \"occ2: 13 & ind2: 8\", \"occ2: 14 & ind2: 8\", \"occ2: 15 & ind2: 8\", \"occ2: 16 & ind2: 8\", \"occ2: 17 & ind2: 8\", \"occ2: 18 & ind2: 8\", \"occ2: 19 & ind2: 8\", \"occ2: 2 & ind2: 8\", \"occ2: 20 & ind2: 8\", \"occ2: 21 & ind2: 8\", \"occ2: 22 & ind2: 8\", \"occ2: 3 & ind2: 8\", \"occ2: 4 & ind2: 8\", \"occ2: 5 & ind2: 8\", \"occ2: 6 & ind2: 8\", \"occ2: 7 & ind2: 8\", \"occ2: 8 & ind2: 8\", \"occ2: 9 & ind2: 8\", \"occ2: 10 & ind2: 9\", \"occ2: 11 & ind2: 9\", \"occ2: 12 & ind2: 9\", \"occ2: 13 & ind2: 9\", \"occ2: 14 & ind2: 9\", \"occ2: 15 & ind2: 9\", \"occ2: 16 & ind2: 9\", \"occ2: 17 & ind2: 9\", \"occ2: 18 & ind2: 9\", \"occ2: 19 & ind2: 9\", \"occ2: 2 & ind2: 9\", \"occ2: 20 & ind2: 9\", \"occ2: 21 & ind2: 9\", \"occ2: 22 & ind2: 9\", \"occ2: 3 & ind2: 9\", \"occ2: 4 & ind2: 9\", \"occ2: 5 & ind2: 9\", \"occ2: 6 & ind2: 9\", \"occ2: 7 & ind2: 9\", \"occ2: 8 & ind2: 9\", \"occ2: 9 & ind2: 9\", \"clg: 1.0 & sex: 1.0 & mw: 1.0\", \"clg: 1.0 & sex: 1.0 & so: 1.0\", \"clg: 1.0 & sex: 1.0 & we: 1.0\", \"clg: 1.0 & sex: 1.0 & ne: 1.0\"]\n"
     ]
    },
    {
     "data": {
      "text/plain": [
       "5150-element Vector{Float64}:\n",
       " 2.2633643798407643\n",
       " 3.872802292274865\n",
       " 2.403126322215923\n",
       " 2.634927936273247\n",
       " 3.361976668508874\n",
       " 2.4622152385859297\n",
       " 2.9565115604007097\n",
       " 2.9565115604007097\n",
       " 2.4849066497880004\n",
       " 2.9565115604007097\n",
       " ⋮\n",
       " 3.117779707996832\n",
       " 2.822980167776187\n",
       " 3.1796551117149194\n",
       " 2.6280074934286737\n",
       " 2.6925460145662448\n",
       " 3.138833117194664\n",
       " 3.649658740960655\n",
       " 3.4955080611333966\n",
       " 2.8511510447428834"
      ]
     },
     "metadata": {},
     "output_type": "display_data"
    }
   ],
   "source": [
    "# Create a ModelFrame which retains the formula and data structure\n",
    "mf = ModelFrame(design, data)\n",
    "\n",
    "# Extract column names using coefnames from the ModelFrame\n",
    "X_names = coefnames(mf)\n",
    "X_names = X_names[2:end]  # Exclude the intercept\n",
    "\n",
    "# Verify the content of X_names\n",
    "println(\"Coefficient Names:\")\n",
    "println(X_names)\n",
    "\n",
    "# Create the ModelMatrix from the ModelFrame\n",
    "mm = modelmatrix(mf)\n",
    "\n",
    "# Convert the predictors to a plain Matrix, excluding the intercept\n",
    "X = mm[:, 2:end]\n",
    "\n",
    "# Extract the target variable\n",
    "y = data.lwage\n",
    "\n",
    "\n"
   ]
  },
  {
   "cell_type": "code",
   "execution_count": 80,
   "metadata": {},
   "outputs": [
    {
     "name": "stdout",
     "output_type": "stream",
     "text": [
      "\n",
      "Treatment Variables Identified:\n",
      "[\"clg: 1.0\", \"clg: 1.0 & sex: 1.0\", \"clg: 1.0 & mw: 1.0\", \"clg: 1.0 & so: 1.0\", \"clg: 1.0 & we: 1.0\", \"clg: 1.0 & ne: 1.0\", \"clg: 1.0 & sex: 1.0 & mw: 1.0\", \"clg: 1.0 & sex: 1.0 & so: 1.0\", \"clg: 1.0 & sex: 1.0 & we: 1.0\", \"clg: 1.0 & sex: 1.0 & ne: 1.0\"]\n",
      "[\"sex: 1.0\", \"mw: 1.0\", \"so: 1.0\", \"we: 1.0\", \"ne: 1.0\", \"exp1\", \"exp2\", \"exp3\", \"exp4\", \"hsg\", \"scl\", \"ad\", \"occ2: 10\", \"occ2: 11\", \"occ2: 12\", \"occ2: 13\", \"occ2: 14\", \"occ2: 15\", \"occ2: 16\", \"occ2: 17\", \"occ2: 18\", \"occ2: 19\", \"occ2: 2\", \"occ2: 20\", \"occ2: 21\", \"occ2: 22\", \"occ2: 3\", \"occ2: 4\", \"occ2: 5\", \"occ2: 6\", \"occ2: 7\", \"occ2: 8\", \"occ2: 9\", \"ind2: 11\", \"ind2: 12\", \"ind2: 13\", \"ind2: 14\", \"ind2: 15\", \"ind2: 16\", \"ind2: 17\", \"ind2: 18\", \"ind2: 19\", \"ind2: 2\", \"ind2: 20\", \"ind2: 21\", \"ind2: 22\", \"ind2: 3\", \"ind2: 4\", \"ind2: 5\", \"ind2: 6\", \"ind2: 7\", \"ind2: 8\", \"ind2: 9\", \"sex: 1.0 & mw: 1.0\", \"sex: 1.0 & so: 1.0\", \"sex: 1.0 & we: 1.0\", \"sex: 1.0 & ne: 1.0\", \"exp1 & hsg\", \"exp1 & scl\", \"exp1 & clg: 1.0\", \"exp1 & ad\", \"exp1 & mw: 1.0\", \"exp1 & so: 1.0\", \"exp1 & we: 1.0\", \"exp1 & ne: 1.0\", \"exp1 & occ2: 10\", \"exp1 & occ2: 11\", \"exp1 & occ2: 12\", \"exp1 & occ2: 13\", \"exp1 & occ2: 14\", \"exp1 & occ2: 15\", \"exp1 & occ2: 16\", \"exp1 & occ2: 17\", \"exp1 & occ2: 18\", \"exp1 & occ2: 19\", \"exp1 & occ2: 2\", \"exp1 & occ2: 20\", \"exp1 & occ2: 21\", \"exp1 & occ2: 22\", \"exp1 & occ2: 3\", \"exp1 & occ2: 4\", \"exp1 & occ2: 5\", \"exp1 & occ2: 6\", \"exp1 & occ2: 7\", \"exp1 & occ2: 8\", \"exp1 & occ2: 9\", \"exp1 & ind2: 11\", \"exp1 & ind2: 12\", \"exp1 & ind2: 13\", \"exp1 & ind2: 14\", \"exp1 & ind2: 15\", \"exp1 & ind2: 16\", \"exp1 & ind2: 17\", \"exp1 & ind2: 18\", \"exp1 & ind2: 19\", \"exp1 & ind2: 2\", \"exp1 & ind2: 20\", \"exp1 & ind2: 21\", \"exp1 & ind2: 22\", \"exp1 & ind2: 3\", \"exp1 & ind2: 4\", \"exp1 & ind2: 5\", \"exp1 & ind2: 6\", \"exp1 & ind2: 7\", \"exp1 & ind2: 8\", \"exp1 & ind2: 9\", \"exp2 & hsg\", \"exp2 & scl\", \"exp2 & clg: 1.0\", \"exp2 & ad\", \"exp2 & mw: 1.0\", \"exp2 & so: 1.0\", \"exp2 & we: 1.0\", \"exp2 & ne: 1.0\", \"exp2 & occ2: 10\", \"exp2 & occ2: 11\", \"exp2 & occ2: 12\", \"exp2 & occ2: 13\", \"exp2 & occ2: 14\", \"exp2 & occ2: 15\", \"exp2 & occ2: 16\", \"exp2 & occ2: 17\", \"exp2 & occ2: 18\", \"exp2 & occ2: 19\", \"exp2 & occ2: 2\", \"exp2 & occ2: 20\", \"exp2 & occ2: 21\", \"exp2 & occ2: 22\", \"exp2 & occ2: 3\", \"exp2 & occ2: 4\", \"exp2 & occ2: 5\", \"exp2 & occ2: 6\", \"exp2 & occ2: 7\", \"exp2 & occ2: 8\", \"exp2 & occ2: 9\", \"exp2 & ind2: 11\", \"exp2 & ind2: 12\", \"exp2 & ind2: 13\", \"exp2 & ind2: 14\", \"exp2 & ind2: 15\", \"exp2 & ind2: 16\", \"exp2 & ind2: 17\", \"exp2 & ind2: 18\", \"exp2 & ind2: 19\", \"exp2 & ind2: 2\", \"exp2 & ind2: 20\", \"exp2 & ind2: 21\", \"exp2 & ind2: 22\", \"exp2 & ind2: 3\", \"exp2 & ind2: 4\", \"exp2 & ind2: 5\", \"exp2 & ind2: 6\", \"exp2 & ind2: 7\", \"exp2 & ind2: 8\", \"exp2 & ind2: 9\", \"exp3 & hsg\", \"exp3 & scl\", \"exp3 & clg: 1.0\", \"exp3 & ad\", \"exp3 & mw: 1.0\", \"exp3 & so: 1.0\", \"exp3 & we: 1.0\", \"exp3 & ne: 1.0\", \"exp3 & occ2: 10\", \"exp3 & occ2: 11\", \"exp3 & occ2: 12\", \"exp3 & occ2: 13\", \"exp3 & occ2: 14\", \"exp3 & occ2: 15\", \"exp3 & occ2: 16\", \"exp3 & occ2: 17\", \"exp3 & occ2: 18\", \"exp3 & occ2: 19\", \"exp3 & occ2: 2\", \"exp3 & occ2: 20\", \"exp3 & occ2: 21\", \"exp3 & occ2: 22\", \"exp3 & occ2: 3\", \"exp3 & occ2: 4\", \"exp3 & occ2: 5\", \"exp3 & occ2: 6\", \"exp3 & occ2: 7\", \"exp3 & occ2: 8\", \"exp3 & occ2: 9\", \"exp3 & ind2: 11\", \"exp3 & ind2: 12\", \"exp3 & ind2: 13\", \"exp3 & ind2: 14\", \"exp3 & ind2: 15\", \"exp3 & ind2: 16\", \"exp3 & ind2: 17\", \"exp3 & ind2: 18\", \"exp3 & ind2: 19\", \"exp3 & ind2: 2\", \"exp3 & ind2: 20\", \"exp3 & ind2: 21\", \"exp3 & ind2: 22\", \"exp3 & ind2: 3\", \"exp3 & ind2: 4\", \"exp3 & ind2: 5\", \"exp3 & ind2: 6\", \"exp3 & ind2: 7\", \"exp3 & ind2: 8\", \"exp3 & ind2: 9\", \"exp4 & hsg\", \"exp4 & scl\", \"exp4 & clg: 1.0\", \"exp4 & ad\", \"exp4 & mw: 1.0\", \"exp4 & so: 1.0\", \"exp4 & we: 1.0\", \"exp4 & ne: 1.0\", \"exp4 & occ2: 10\", \"exp4 & occ2: 11\", \"exp4 & occ2: 12\", \"exp4 & occ2: 13\", \"exp4 & occ2: 14\", \"exp4 & occ2: 15\", \"exp4 & occ2: 16\", \"exp4 & occ2: 17\", \"exp4 & occ2: 18\", \"exp4 & occ2: 19\", \"exp4 & occ2: 2\", \"exp4 & occ2: 20\", \"exp4 & occ2: 21\", \"exp4 & occ2: 22\", \"exp4 & occ2: 3\", \"exp4 & occ2: 4\", \"exp4 & occ2: 5\", \"exp4 & occ2: 6\", \"exp4 & occ2: 7\", \"exp4 & occ2: 8\", \"exp4 & occ2: 9\", \"exp4 & ind2: 11\", \"exp4 & ind2: 12\", \"exp4 & ind2: 13\", \"exp4 & ind2: 14\", \"exp4 & ind2: 15\", \"exp4 & ind2: 16\", \"exp4 & ind2: 17\", \"exp4 & ind2: 18\", \"exp4 & ind2: 19\", \"exp4 & ind2: 2\", \"exp4 & ind2: 20\", \"exp4 & ind2: 21\", \"exp4 & ind2: 22\", \"exp4 & ind2: 3\", \"exp4 & ind2: 4\", \"exp4 & ind2: 5\", \"exp4 & ind2: 6\", \"exp4 & ind2: 7\", \"exp4 & ind2: 8\", \"exp4 & ind2: 9\", \"hsg & mw: 1.0\", \"hsg & so: 1.0\", \"hsg & we: 1.0\", \"hsg & ne: 1.0\", \"hsg & occ2: 10\", \"hsg & occ2: 11\", \"hsg & occ2: 12\", \"hsg & occ2: 13\", \"hsg & occ2: 14\", \"hsg & occ2: 15\", \"hsg & occ2: 16\", \"hsg & occ2: 17\", \"hsg & occ2: 18\", \"hsg & occ2: 19\", \"hsg & occ2: 2\", \"hsg & occ2: 20\", \"hsg & occ2: 21\", \"hsg & occ2: 22\", \"hsg & occ2: 3\", \"hsg & occ2: 4\", \"hsg & occ2: 5\", \"hsg & occ2: 6\", \"hsg & occ2: 7\", \"hsg & occ2: 8\", \"hsg & occ2: 9\", \"hsg & ind2: 11\", \"hsg & ind2: 12\", \"hsg & ind2: 13\", \"hsg & ind2: 14\", \"hsg & ind2: 15\", \"hsg & ind2: 16\", \"hsg & ind2: 17\", \"hsg & ind2: 18\", \"hsg & ind2: 19\", \"hsg & ind2: 2\", \"hsg & ind2: 20\", \"hsg & ind2: 21\", \"hsg & ind2: 22\", \"hsg & ind2: 3\", \"hsg & ind2: 4\", \"hsg & ind2: 5\", \"hsg & ind2: 6\", \"hsg & ind2: 7\", \"hsg & ind2: 8\", \"hsg & ind2: 9\", \"scl & mw: 1.0\", \"scl & so: 1.0\", \"scl & we: 1.0\", \"scl & ne: 1.0\", \"scl & occ2: 10\", \"scl & occ2: 11\", \"scl & occ2: 12\", \"scl & occ2: 13\", \"scl & occ2: 14\", \"scl & occ2: 15\", \"scl & occ2: 16\", \"scl & occ2: 17\", \"scl & occ2: 18\", \"scl & occ2: 19\", \"scl & occ2: 2\", \"scl & occ2: 20\", \"scl & occ2: 21\", \"scl & occ2: 22\", \"scl & occ2: 3\", \"scl & occ2: 4\", \"scl & occ2: 5\", \"scl & occ2: 6\", \"scl & occ2: 7\", \"scl & occ2: 8\", \"scl & occ2: 9\", \"scl & ind2: 11\", \"scl & ind2: 12\", \"scl & ind2: 13\", \"scl & ind2: 14\", \"scl & ind2: 15\", \"scl & ind2: 16\", \"scl & ind2: 17\", \"scl & ind2: 18\", \"scl & ind2: 19\", \"scl & ind2: 2\", \"scl & ind2: 20\", \"scl & ind2: 21\", \"scl & ind2: 22\", \"scl & ind2: 3\", \"scl & ind2: 4\", \"scl & ind2: 5\", \"scl & ind2: 6\", \"scl & ind2: 7\", \"scl & ind2: 8\", \"scl & ind2: 9\", \"clg: 1.0 & occ2: 10\", \"clg: 1.0 & occ2: 11\", \"clg: 1.0 & occ2: 12\", \"clg: 1.0 & occ2: 13\", \"clg: 1.0 & occ2: 14\", \"clg: 1.0 & occ2: 15\", \"clg: 1.0 & occ2: 16\", \"clg: 1.0 & occ2: 17\", \"clg: 1.0 & occ2: 18\", \"clg: 1.0 & occ2: 19\", \"clg: 1.0 & occ2: 2\", \"clg: 1.0 & occ2: 20\", \"clg: 1.0 & occ2: 21\", \"clg: 1.0 & occ2: 22\", \"clg: 1.0 & occ2: 3\", \"clg: 1.0 & occ2: 4\", \"clg: 1.0 & occ2: 5\", \"clg: 1.0 & occ2: 6\", \"clg: 1.0 & occ2: 7\", \"clg: 1.0 & occ2: 8\", \"clg: 1.0 & occ2: 9\", \"clg: 1.0 & ind2: 11\", \"clg: 1.0 & ind2: 12\", \"clg: 1.0 & ind2: 13\", \"clg: 1.0 & ind2: 14\", \"clg: 1.0 & ind2: 15\", \"clg: 1.0 & ind2: 16\", \"clg: 1.0 & ind2: 17\", \"clg: 1.0 & ind2: 18\", \"clg: 1.0 & ind2: 19\", \"clg: 1.0 & ind2: 2\", \"clg: 1.0 & ind2: 20\", \"clg: 1.0 & ind2: 21\", \"clg: 1.0 & ind2: 22\", \"clg: 1.0 & ind2: 3\", \"clg: 1.0 & ind2: 4\", \"clg: 1.0 & ind2: 5\", \"clg: 1.0 & ind2: 6\", \"clg: 1.0 & ind2: 7\", \"clg: 1.0 & ind2: 8\", \"clg: 1.0 & ind2: 9\", \"ad & mw: 1.0\", \"ad & so: 1.0\", \"ad & we: 1.0\", \"ad & ne: 1.0\", \"ad & occ2: 10\", \"ad & occ2: 11\", \"ad & occ2: 12\", \"ad & occ2: 13\", \"ad & occ2: 14\", \"ad & occ2: 15\", \"ad & occ2: 16\", \"ad & occ2: 17\", \"ad & occ2: 18\", \"ad & occ2: 19\", \"ad & occ2: 2\", \"ad & occ2: 20\", \"ad & occ2: 21\", \"ad & occ2: 22\", \"ad & occ2: 3\", \"ad & occ2: 4\", \"ad & occ2: 5\", \"ad & occ2: 6\", \"ad & occ2: 7\", \"ad & occ2: 8\", \"ad & occ2: 9\", \"ad & ind2: 11\", \"ad & ind2: 12\", \"ad & ind2: 13\", \"ad & ind2: 14\", \"ad & ind2: 15\", \"ad & ind2: 16\", \"ad & ind2: 17\", \"ad & ind2: 18\", \"ad & ind2: 19\", \"ad & ind2: 2\", \"ad & ind2: 20\", \"ad & ind2: 21\", \"ad & ind2: 22\", \"ad & ind2: 3\", \"ad & ind2: 4\", \"ad & ind2: 5\", \"ad & ind2: 6\", \"ad & ind2: 7\", \"ad & ind2: 8\", \"ad & ind2: 9\", \"mw: 1.0 & occ2: 10\", \"mw: 1.0 & occ2: 11\", \"mw: 1.0 & occ2: 12\", \"mw: 1.0 & occ2: 13\", \"mw: 1.0 & occ2: 14\", \"mw: 1.0 & occ2: 15\", \"mw: 1.0 & occ2: 16\", \"mw: 1.0 & occ2: 17\", \"mw: 1.0 & occ2: 18\", \"mw: 1.0 & occ2: 19\", \"mw: 1.0 & occ2: 2\", \"mw: 1.0 & occ2: 20\", \"mw: 1.0 & occ2: 21\", \"mw: 1.0 & occ2: 22\", \"mw: 1.0 & occ2: 3\", \"mw: 1.0 & occ2: 4\", \"mw: 1.0 & occ2: 5\", \"mw: 1.0 & occ2: 6\", \"mw: 1.0 & occ2: 7\", \"mw: 1.0 & occ2: 8\", \"mw: 1.0 & occ2: 9\", \"mw: 1.0 & ind2: 11\", \"mw: 1.0 & ind2: 12\", \"mw: 1.0 & ind2: 13\", \"mw: 1.0 & ind2: 14\", \"mw: 1.0 & ind2: 15\", \"mw: 1.0 & ind2: 16\", \"mw: 1.0 & ind2: 17\", \"mw: 1.0 & ind2: 18\", \"mw: 1.0 & ind2: 19\", \"mw: 1.0 & ind2: 2\", \"mw: 1.0 & ind2: 20\", \"mw: 1.0 & ind2: 21\", \"mw: 1.0 & ind2: 22\", \"mw: 1.0 & ind2: 3\", \"mw: 1.0 & ind2: 4\", \"mw: 1.0 & ind2: 5\", \"mw: 1.0 & ind2: 6\", \"mw: 1.0 & ind2: 7\", \"mw: 1.0 & ind2: 8\", \"mw: 1.0 & ind2: 9\", \"so: 1.0 & occ2: 10\", \"so: 1.0 & occ2: 11\", \"so: 1.0 & occ2: 12\", \"so: 1.0 & occ2: 13\", \"so: 1.0 & occ2: 14\", \"so: 1.0 & occ2: 15\", \"so: 1.0 & occ2: 16\", \"so: 1.0 & occ2: 17\", \"so: 1.0 & occ2: 18\", \"so: 1.0 & occ2: 19\", \"so: 1.0 & occ2: 2\", \"so: 1.0 & occ2: 20\", \"so: 1.0 & occ2: 21\", \"so: 1.0 & occ2: 22\", \"so: 1.0 & occ2: 3\", \"so: 1.0 & occ2: 4\", \"so: 1.0 & occ2: 5\", \"so: 1.0 & occ2: 6\", \"so: 1.0 & occ2: 7\", \"so: 1.0 & occ2: 8\", \"so: 1.0 & occ2: 9\", \"so: 1.0 & ind2: 11\", \"so: 1.0 & ind2: 12\", \"so: 1.0 & ind2: 13\", \"so: 1.0 & ind2: 14\", \"so: 1.0 & ind2: 15\", \"so: 1.0 & ind2: 16\", \"so: 1.0 & ind2: 17\", \"so: 1.0 & ind2: 18\", \"so: 1.0 & ind2: 19\", \"so: 1.0 & ind2: 2\", \"so: 1.0 & ind2: 20\", \"so: 1.0 & ind2: 21\", \"so: 1.0 & ind2: 22\", \"so: 1.0 & ind2: 3\", \"so: 1.0 & ind2: 4\", \"so: 1.0 & ind2: 5\", \"so: 1.0 & ind2: 6\", \"so: 1.0 & ind2: 7\", \"so: 1.0 & ind2: 8\", \"so: 1.0 & ind2: 9\", \"we: 1.0 & occ2: 10\", \"we: 1.0 & occ2: 11\", \"we: 1.0 & occ2: 12\", \"we: 1.0 & occ2: 13\", \"we: 1.0 & occ2: 14\", \"we: 1.0 & occ2: 15\", \"we: 1.0 & occ2: 16\", \"we: 1.0 & occ2: 17\", \"we: 1.0 & occ2: 18\", \"we: 1.0 & occ2: 19\", \"we: 1.0 & occ2: 2\", \"we: 1.0 & occ2: 20\", \"we: 1.0 & occ2: 21\", \"we: 1.0 & occ2: 22\", \"we: 1.0 & occ2: 3\", \"we: 1.0 & occ2: 4\", \"we: 1.0 & occ2: 5\", \"we: 1.0 & occ2: 6\", \"we: 1.0 & occ2: 7\", \"we: 1.0 & occ2: 8\", \"we: 1.0 & occ2: 9\", \"we: 1.0 & ind2: 11\", \"we: 1.0 & ind2: 12\", \"we: 1.0 & ind2: 13\", \"we: 1.0 & ind2: 14\", \"we: 1.0 & ind2: 15\", \"we: 1.0 & ind2: 16\", \"we: 1.0 & ind2: 17\", \"we: 1.0 & ind2: 18\", \"we: 1.0 & ind2: 19\", \"we: 1.0 & ind2: 2\", \"we: 1.0 & ind2: 20\", \"we: 1.0 & ind2: 21\", \"we: 1.0 & ind2: 22\", \"we: 1.0 & ind2: 3\", \"we: 1.0 & ind2: 4\", \"we: 1.0 & ind2: 5\", \"we: 1.0 & ind2: 6\", \"we: 1.0 & ind2: 7\", \"we: 1.0 & ind2: 8\", \"we: 1.0 & ind2: 9\", \"ne: 1.0 & occ2: 10\", \"ne: 1.0 & occ2: 11\", \"ne: 1.0 & occ2: 12\", \"ne: 1.0 & occ2: 13\", \"ne: 1.0 & occ2: 14\", \"ne: 1.0 & occ2: 15\", \"ne: 1.0 & occ2: 16\", \"ne: 1.0 & occ2: 17\", \"ne: 1.0 & occ2: 18\", \"ne: 1.0 & occ2: 19\", \"ne: 1.0 & occ2: 2\", \"ne: 1.0 & occ2: 20\", \"ne: 1.0 & occ2: 21\", \"ne: 1.0 & occ2: 22\", \"ne: 1.0 & occ2: 3\", \"ne: 1.0 & occ2: 4\", \"ne: 1.0 & occ2: 5\", \"ne: 1.0 & occ2: 6\", \"ne: 1.0 & occ2: 7\", \"ne: 1.0 & occ2: 8\", \"ne: 1.0 & occ2: 9\", \"ne: 1.0 & ind2: 11\", \"ne: 1.0 & ind2: 12\", \"ne: 1.0 & ind2: 13\", \"ne: 1.0 & ind2: 14\", \"ne: 1.0 & ind2: 15\", \"ne: 1.0 & ind2: 16\", \"ne: 1.0 & ind2: 17\", \"ne: 1.0 & ind2: 18\", \"ne: 1.0 & ind2: 19\", \"ne: 1.0 & ind2: 2\", \"ne: 1.0 & ind2: 20\", \"ne: 1.0 & ind2: 21\", \"ne: 1.0 & ind2: 22\", \"ne: 1.0 & ind2: 3\", \"ne: 1.0 & ind2: 4\", \"ne: 1.0 & ind2: 5\", \"ne: 1.0 & ind2: 6\", \"ne: 1.0 & ind2: 7\", \"ne: 1.0 & ind2: 8\", \"ne: 1.0 & ind2: 9\", \"occ2: 10 & ind2: 11\", \"occ2: 11 & ind2: 11\", \"occ2: 12 & ind2: 11\", \"occ2: 13 & ind2: 11\", \"occ2: 14 & ind2: 11\", \"occ2: 15 & ind2: 11\", \"occ2: 16 & ind2: 11\", \"occ2: 17 & ind2: 11\", \"occ2: 18 & ind2: 11\", \"occ2: 19 & ind2: 11\", \"occ2: 2 & ind2: 11\", \"occ2: 20 & ind2: 11\", \"occ2: 21 & ind2: 11\", \"occ2: 22 & ind2: 11\", \"occ2: 3 & ind2: 11\", \"occ2: 4 & ind2: 11\", \"occ2: 5 & ind2: 11\", \"occ2: 6 & ind2: 11\", \"occ2: 7 & ind2: 11\", \"occ2: 8 & ind2: 11\", \"occ2: 9 & ind2: 11\", \"occ2: 10 & ind2: 12\", \"occ2: 11 & ind2: 12\", \"occ2: 12 & ind2: 12\", \"occ2: 13 & ind2: 12\", \"occ2: 14 & ind2: 12\", \"occ2: 15 & ind2: 12\", \"occ2: 16 & ind2: 12\", \"occ2: 17 & ind2: 12\", \"occ2: 18 & ind2: 12\", \"occ2: 19 & ind2: 12\", \"occ2: 2 & ind2: 12\", \"occ2: 20 & ind2: 12\", \"occ2: 21 & ind2: 12\", \"occ2: 22 & ind2: 12\", \"occ2: 3 & ind2: 12\", \"occ2: 4 & ind2: 12\", \"occ2: 5 & ind2: 12\", \"occ2: 6 & ind2: 12\", \"occ2: 7 & ind2: 12\", \"occ2: 8 & ind2: 12\", \"occ2: 9 & ind2: 12\", \"occ2: 10 & ind2: 13\", \"occ2: 11 & ind2: 13\", \"occ2: 12 & ind2: 13\", \"occ2: 13 & ind2: 13\", \"occ2: 14 & ind2: 13\", \"occ2: 15 & ind2: 13\", \"occ2: 16 & ind2: 13\", \"occ2: 17 & ind2: 13\", \"occ2: 18 & ind2: 13\", \"occ2: 19 & ind2: 13\", \"occ2: 2 & ind2: 13\", \"occ2: 20 & ind2: 13\", \"occ2: 21 & ind2: 13\", \"occ2: 22 & ind2: 13\", \"occ2: 3 & ind2: 13\", \"occ2: 4 & ind2: 13\", \"occ2: 5 & ind2: 13\", \"occ2: 6 & ind2: 13\", \"occ2: 7 & ind2: 13\", \"occ2: 8 & ind2: 13\", \"occ2: 9 & ind2: 13\", \"occ2: 10 & ind2: 14\", \"occ2: 11 & ind2: 14\", \"occ2: 12 & ind2: 14\", \"occ2: 13 & ind2: 14\", \"occ2: 14 & ind2: 14\", \"occ2: 15 & ind2: 14\", \"occ2: 16 & ind2: 14\", \"occ2: 17 & ind2: 14\", \"occ2: 18 & ind2: 14\", \"occ2: 19 & ind2: 14\", \"occ2: 2 & ind2: 14\", \"occ2: 20 & ind2: 14\", \"occ2: 21 & ind2: 14\", \"occ2: 22 & ind2: 14\", \"occ2: 3 & ind2: 14\", \"occ2: 4 & ind2: 14\", \"occ2: 5 & ind2: 14\", \"occ2: 6 & ind2: 14\", \"occ2: 7 & ind2: 14\", \"occ2: 8 & ind2: 14\", \"occ2: 9 & ind2: 14\", \"occ2: 10 & ind2: 15\", \"occ2: 11 & ind2: 15\", \"occ2: 12 & ind2: 15\", \"occ2: 13 & ind2: 15\", \"occ2: 14 & ind2: 15\", \"occ2: 15 & ind2: 15\", \"occ2: 16 & ind2: 15\", \"occ2: 17 & ind2: 15\", \"occ2: 18 & ind2: 15\", \"occ2: 19 & ind2: 15\", \"occ2: 2 & ind2: 15\", \"occ2: 20 & ind2: 15\", \"occ2: 21 & ind2: 15\", \"occ2: 22 & ind2: 15\", \"occ2: 3 & ind2: 15\", \"occ2: 4 & ind2: 15\", \"occ2: 5 & ind2: 15\", \"occ2: 6 & ind2: 15\", \"occ2: 7 & ind2: 15\", \"occ2: 8 & ind2: 15\", \"occ2: 9 & ind2: 15\", \"occ2: 10 & ind2: 16\", \"occ2: 11 & ind2: 16\", \"occ2: 12 & ind2: 16\", \"occ2: 13 & ind2: 16\", \"occ2: 14 & ind2: 16\", \"occ2: 15 & ind2: 16\", \"occ2: 16 & ind2: 16\", \"occ2: 17 & ind2: 16\", \"occ2: 18 & ind2: 16\", \"occ2: 19 & ind2: 16\", \"occ2: 2 & ind2: 16\", \"occ2: 20 & ind2: 16\", \"occ2: 21 & ind2: 16\", \"occ2: 22 & ind2: 16\", \"occ2: 3 & ind2: 16\", \"occ2: 4 & ind2: 16\", \"occ2: 5 & ind2: 16\", \"occ2: 6 & ind2: 16\", \"occ2: 7 & ind2: 16\", \"occ2: 8 & ind2: 16\", \"occ2: 9 & ind2: 16\", \"occ2: 10 & ind2: 17\", \"occ2: 11 & ind2: 17\", \"occ2: 12 & ind2: 17\", \"occ2: 13 & ind2: 17\", \"occ2: 14 & ind2: 17\", \"occ2: 15 & ind2: 17\", \"occ2: 16 & ind2: 17\", \"occ2: 17 & ind2: 17\", \"occ2: 18 & ind2: 17\", \"occ2: 19 & ind2: 17\", \"occ2: 2 & ind2: 17\", \"occ2: 20 & ind2: 17\", \"occ2: 21 & ind2: 17\", \"occ2: 22 & ind2: 17\", \"occ2: 3 & ind2: 17\", \"occ2: 4 & ind2: 17\", \"occ2: 5 & ind2: 17\", \"occ2: 6 & ind2: 17\", \"occ2: 7 & ind2: 17\", \"occ2: 8 & ind2: 17\", \"occ2: 9 & ind2: 17\", \"occ2: 10 & ind2: 18\", \"occ2: 11 & ind2: 18\", \"occ2: 12 & ind2: 18\", \"occ2: 13 & ind2: 18\", \"occ2: 14 & ind2: 18\", \"occ2: 15 & ind2: 18\", \"occ2: 16 & ind2: 18\", \"occ2: 17 & ind2: 18\", \"occ2: 18 & ind2: 18\", \"occ2: 19 & ind2: 18\", \"occ2: 2 & ind2: 18\", \"occ2: 20 & ind2: 18\", \"occ2: 21 & ind2: 18\", \"occ2: 22 & ind2: 18\", \"occ2: 3 & ind2: 18\", \"occ2: 4 & ind2: 18\", \"occ2: 5 & ind2: 18\", \"occ2: 6 & ind2: 18\", \"occ2: 7 & ind2: 18\", \"occ2: 8 & ind2: 18\", \"occ2: 9 & ind2: 18\", \"occ2: 10 & ind2: 19\", \"occ2: 11 & ind2: 19\", \"occ2: 12 & ind2: 19\", \"occ2: 13 & ind2: 19\", \"occ2: 14 & ind2: 19\", \"occ2: 15 & ind2: 19\", \"occ2: 16 & ind2: 19\", \"occ2: 17 & ind2: 19\", \"occ2: 18 & ind2: 19\", \"occ2: 19 & ind2: 19\", \"occ2: 2 & ind2: 19\", \"occ2: 20 & ind2: 19\", \"occ2: 21 & ind2: 19\", \"occ2: 22 & ind2: 19\", \"occ2: 3 & ind2: 19\", \"occ2: 4 & ind2: 19\", \"occ2: 5 & ind2: 19\", \"occ2: 6 & ind2: 19\", \"occ2: 7 & ind2: 19\", \"occ2: 8 & ind2: 19\", \"occ2: 9 & ind2: 19\", \"occ2: 10 & ind2: 2\", \"occ2: 11 & ind2: 2\", \"occ2: 12 & ind2: 2\", \"occ2: 13 & ind2: 2\", \"occ2: 14 & ind2: 2\", \"occ2: 15 & ind2: 2\", \"occ2: 16 & ind2: 2\", \"occ2: 17 & ind2: 2\", \"occ2: 18 & ind2: 2\", \"occ2: 19 & ind2: 2\", \"occ2: 2 & ind2: 2\", \"occ2: 20 & ind2: 2\", \"occ2: 21 & ind2: 2\", \"occ2: 22 & ind2: 2\", \"occ2: 3 & ind2: 2\", \"occ2: 4 & ind2: 2\", \"occ2: 5 & ind2: 2\", \"occ2: 6 & ind2: 2\", \"occ2: 7 & ind2: 2\", \"occ2: 8 & ind2: 2\", \"occ2: 9 & ind2: 2\", \"occ2: 10 & ind2: 20\", \"occ2: 11 & ind2: 20\", \"occ2: 12 & ind2: 20\", \"occ2: 13 & ind2: 20\", \"occ2: 14 & ind2: 20\", \"occ2: 15 & ind2: 20\", \"occ2: 16 & ind2: 20\", \"occ2: 17 & ind2: 20\", \"occ2: 18 & ind2: 20\", \"occ2: 19 & ind2: 20\", \"occ2: 2 & ind2: 20\", \"occ2: 20 & ind2: 20\", \"occ2: 21 & ind2: 20\", \"occ2: 22 & ind2: 20\", \"occ2: 3 & ind2: 20\", \"occ2: 4 & ind2: 20\", \"occ2: 5 & ind2: 20\", \"occ2: 6 & ind2: 20\", \"occ2: 7 & ind2: 20\", \"occ2: 8 & ind2: 20\", \"occ2: 9 & ind2: 20\", \"occ2: 10 & ind2: 21\", \"occ2: 11 & ind2: 21\", \"occ2: 12 & ind2: 21\", \"occ2: 13 & ind2: 21\", \"occ2: 14 & ind2: 21\", \"occ2: 15 & ind2: 21\", \"occ2: 16 & ind2: 21\", \"occ2: 17 & ind2: 21\", \"occ2: 18 & ind2: 21\", \"occ2: 19 & ind2: 21\", \"occ2: 2 & ind2: 21\", \"occ2: 20 & ind2: 21\", \"occ2: 21 & ind2: 21\", \"occ2: 22 & ind2: 21\", \"occ2: 3 & ind2: 21\", \"occ2: 4 & ind2: 21\", \"occ2: 5 & ind2: 21\", \"occ2: 6 & ind2: 21\", \"occ2: 7 & ind2: 21\", \"occ2: 8 & ind2: 21\", \"occ2: 9 & ind2: 21\", \"occ2: 10 & ind2: 22\", \"occ2: 11 & ind2: 22\", \"occ2: 12 & ind2: 22\", \"occ2: 13 & ind2: 22\", \"occ2: 14 & ind2: 22\", \"occ2: 15 & ind2: 22\", \"occ2: 16 & ind2: 22\", \"occ2: 17 & ind2: 22\", \"occ2: 18 & ind2: 22\", \"occ2: 19 & ind2: 22\", \"occ2: 2 & ind2: 22\", \"occ2: 20 & ind2: 22\", \"occ2: 21 & ind2: 22\", \"occ2: 22 & ind2: 22\", \"occ2: 3 & ind2: 22\", \"occ2: 4 & ind2: 22\", \"occ2: 5 & ind2: 22\", \"occ2: 6 & ind2: 22\", \"occ2: 7 & ind2: 22\", \"occ2: 8 & ind2: 22\", \"occ2: 9 & ind2: 22\", \"occ2: 10 & ind2: 3\", \"occ2: 11 & ind2: 3\", \"occ2: 12 & ind2: 3\", \"occ2: 13 & ind2: 3\", \"occ2: 14 & ind2: 3\", \"occ2: 15 & ind2: 3\", \"occ2: 16 & ind2: 3\", \"occ2: 17 & ind2: 3\", \"occ2: 18 & ind2: 3\", \"occ2: 19 & ind2: 3\", \"occ2: 2 & ind2: 3\", \"occ2: 20 & ind2: 3\", \"occ2: 21 & ind2: 3\", \"occ2: 22 & ind2: 3\", \"occ2: 3 & ind2: 3\", \"occ2: 4 & ind2: 3\", \"occ2: 5 & ind2: 3\", \"occ2: 6 & ind2: 3\", \"occ2: 7 & ind2: 3\", \"occ2: 8 & ind2: 3\", \"occ2: 9 & ind2: 3\", \"occ2: 10 & ind2: 4\", \"occ2: 11 & ind2: 4\", \"occ2: 12 & ind2: 4\", \"occ2: 13 & ind2: 4\", \"occ2: 14 & ind2: 4\", \"occ2: 15 & ind2: 4\", \"occ2: 16 & ind2: 4\", \"occ2: 17 & ind2: 4\", \"occ2: 18 & ind2: 4\", \"occ2: 19 & ind2: 4\", \"occ2: 2 & ind2: 4\", \"occ2: 20 & ind2: 4\", \"occ2: 21 & ind2: 4\", \"occ2: 22 & ind2: 4\", \"occ2: 3 & ind2: 4\", \"occ2: 4 & ind2: 4\", \"occ2: 5 & ind2: 4\", \"occ2: 6 & ind2: 4\", \"occ2: 7 & ind2: 4\", \"occ2: 8 & ind2: 4\", \"occ2: 9 & ind2: 4\", \"occ2: 10 & ind2: 5\", \"occ2: 11 & ind2: 5\", \"occ2: 12 & ind2: 5\", \"occ2: 13 & ind2: 5\", \"occ2: 14 & ind2: 5\", \"occ2: 15 & ind2: 5\", \"occ2: 16 & ind2: 5\", \"occ2: 17 & ind2: 5\", \"occ2: 18 & ind2: 5\", \"occ2: 19 & ind2: 5\", \"occ2: 2 & ind2: 5\", \"occ2: 20 & ind2: 5\", \"occ2: 21 & ind2: 5\", \"occ2: 22 & ind2: 5\", \"occ2: 3 & ind2: 5\", \"occ2: 4 & ind2: 5\", \"occ2: 5 & ind2: 5\", \"occ2: 6 & ind2: 5\", \"occ2: 7 & ind2: 5\", \"occ2: 8 & ind2: 5\", \"occ2: 9 & ind2: 5\", \"occ2: 10 & ind2: 6\", \"occ2: 11 & ind2: 6\", \"occ2: 12 & ind2: 6\", \"occ2: 13 & ind2: 6\", \"occ2: 14 & ind2: 6\", \"occ2: 15 & ind2: 6\", \"occ2: 16 & ind2: 6\", \"occ2: 17 & ind2: 6\", \"occ2: 18 & ind2: 6\", \"occ2: 19 & ind2: 6\", \"occ2: 2 & ind2: 6\", \"occ2: 20 & ind2: 6\", \"occ2: 21 & ind2: 6\", \"occ2: 22 & ind2: 6\", \"occ2: 3 & ind2: 6\", \"occ2: 4 & ind2: 6\", \"occ2: 5 & ind2: 6\", \"occ2: 6 & ind2: 6\", \"occ2: 7 & ind2: 6\", \"occ2: 8 & ind2: 6\", \"occ2: 9 & ind2: 6\", \"occ2: 10 & ind2: 7\", \"occ2: 11 & ind2: 7\", \"occ2: 12 & ind2: 7\", \"occ2: 13 & ind2: 7\", \"occ2: 14 & ind2: 7\", \"occ2: 15 & ind2: 7\", \"occ2: 16 & ind2: 7\", \"occ2: 17 & ind2: 7\", \"occ2: 18 & ind2: 7\", \"occ2: 19 & ind2: 7\", \"occ2: 2 & ind2: 7\", \"occ2: 20 & ind2: 7\", \"occ2: 21 & ind2: 7\", \"occ2: 22 & ind2: 7\", \"occ2: 3 & ind2: 7\", \"occ2: 4 & ind2: 7\", \"occ2: 5 & ind2: 7\", \"occ2: 6 & ind2: 7\", \"occ2: 7 & ind2: 7\", \"occ2: 8 & ind2: 7\", \"occ2: 9 & ind2: 7\", \"occ2: 10 & ind2: 8\", \"occ2: 11 & ind2: 8\", \"occ2: 12 & ind2: 8\", \"occ2: 13 & ind2: 8\", \"occ2: 14 & ind2: 8\", \"occ2: 15 & ind2: 8\", \"occ2: 16 & ind2: 8\", \"occ2: 17 & ind2: 8\", \"occ2: 18 & ind2: 8\", \"occ2: 19 & ind2: 8\", \"occ2: 2 & ind2: 8\", \"occ2: 20 & ind2: 8\", \"occ2: 21 & ind2: 8\", \"occ2: 22 & ind2: 8\", \"occ2: 3 & ind2: 8\", \"occ2: 4 & ind2: 8\", \"occ2: 5 & ind2: 8\", \"occ2: 6 & ind2: 8\", \"occ2: 7 & ind2: 8\", \"occ2: 8 & ind2: 8\", \"occ2: 9 & ind2: 8\", \"occ2: 10 & ind2: 9\", \"occ2: 11 & ind2: 9\", \"occ2: 12 & ind2: 9\", \"occ2: 13 & ind2: 9\", \"occ2: 14 & ind2: 9\", \"occ2: 15 & ind2: 9\", \"occ2: 16 & ind2: 9\", \"occ2: 17 & ind2: 9\", \"occ2: 18 & ind2: 9\", \"occ2: 19 & ind2: 9\", \"occ2: 2 & ind2: 9\", \"occ2: 20 & ind2: 9\", \"occ2: 21 & ind2: 9\", \"occ2: 22 & ind2: 9\", \"occ2: 3 & ind2: 9\", \"occ2: 4 & ind2: 9\", \"occ2: 5 & ind2: 9\", \"occ2: 6 & ind2: 9\", \"occ2: 7 & ind2: 9\", \"occ2: 8 & ind2: 9\", \"occ2: 9 & ind2: 9\"]\n"
     ]
    }
   ],
   "source": [
    "#  Identify Treatment and Control Variables \n",
    "\n",
    "# Define regular expressions to match treatment variables and their interactions\n",
    "treatment_patterns = [\n",
    "    r\"^clg: 1\\.0$\",                      # clg\n",
    "    r\"^clg: 1\\.0 & sex: 1\\.0$\",          # clg:sex\n",
    "    r\"^clg: 1\\.0 & (mw|so|we|ne): 1\\.0$\",# clg:mw, clg:so, clg:we, clg:ne\n",
    "    r\"^clg: 1\\.0 & sex: 1\\.0 & (mw|so|we|ne): 1\\.0$\" # clg:sex:mw, clg:sex:so, etc.\n",
    "]\n",
    "\n",
    "\n",
    "# Identify indices of treatment variables based on the patterns\n",
    "treatment_indices = [\n",
    "    i for (i, name) in enumerate(X_names)\n",
    "    if any(occursin(pat, name) for pat in treatment_patterns)\n",
    "]\n",
    "\n",
    "# Identify control indices as all other variables\n",
    "control_indices = setdiff(1:length(X_names), treatment_indices)\n",
    "\n",
    "# Verify identified treatment variables\n",
    "println(\"\\nTreatment Variables Identified:\")\n",
    "println(X_names[treatment_indices])\n",
    "println(X_names[control_indices])"
   ]
  },
  {
   "cell_type": "code",
   "execution_count": 82,
   "metadata": {},
   "outputs": [
    {
     "name": "stdout",
     "output_type": "stream",
     "text": [
      "\n",
      "Dimensions of D (Treatment): (5150, 10)\n",
      "Dimensions of Z (Control): (5150, 1013)\n",
      "Length of y (Target): 5150\n"
     ]
    }
   ],
   "source": [
    "\n",
    "# Separate treatment and control matrices\n",
    "D = X[:, treatment_indices]      # Treatment variables\n",
    "Z = X[:, control_indices]        # Control variables\n",
    "\n",
    "# Check if D and Z have the expected dimensions\n",
    "println(\"\\nDimensions of D (Treatment): \", size(D))\n",
    "println(\"Dimensions of Z (Control): \", size(Z))\n",
    "println(\"Length of y (Target): \", length(y))\n",
    "\n",
    "\n"
   ]
  },
  {
   "cell_type": "code",
   "execution_count": 86,
   "metadata": {},
   "outputs": [
    {
     "name": "stdout",
     "output_type": "stream",
     "text": [
      "\n",
      "Performing Double Lasso for Treatment Variable: clg: 1.0\n",
      "Keys in the result: [\"alpha\", \"t\", \"se\", \"no_select\", \"coefficients_reg\", \"sample_size\", \"coefficient\", \"selection_index\", \"residuals\", \"coefficients\"]\n",
      "\n",
      "Performing Double Lasso for Treatment Variable: clg: 1.0 & sex: 1.0\n",
      "Keys in the result: [\"alpha\", \"t\", \"se\", \"no_select\", \"coefficients_reg\", \"sample_size\", \"coefficient\", \"selection_index\", \"residuals\", \"coefficients\"]\n",
      "\n",
      "Performing Double Lasso for Treatment Variable: clg: 1.0 & mw: 1.0\n",
      "Keys in the result: [\"alpha\", \"t\", \"se\", \"no_select\", \"coefficients_reg\", \"sample_size\", \"coefficient\", \"selection_index\", \"residuals\", \"coefficients\"]\n",
      "\n",
      "Performing Double Lasso for Treatment Variable: clg: 1.0 & so: 1.0\n",
      "Keys in the result: [\"alpha\", \"t\", \"se\", \"no_select\", \"coefficients_reg\", \"sample_size\", \"coefficient\", \"selection_index\", \"residuals\", \"coefficients\"]\n",
      "\n",
      "Performing Double Lasso for Treatment Variable: clg: 1.0 & we: 1.0\n",
      "Keys in the result: [\"alpha\", \"t\", \"se\", \"no_select\", \"coefficients_reg\", \"sample_size\", \"coefficient\", \"selection_index\", \"residuals\", \"coefficients\"]\n",
      "\n",
      "Performing Double Lasso for Treatment Variable: clg: 1.0 & ne: 1.0\n",
      "Keys in the result: [\"alpha\", \"t\", \"se\", \"no_select\", \"coefficients_reg\", \"sample_size\", \"coefficient\", \"selection_index\", \"residuals\", \"coefficients\"]\n",
      "\n",
      "Performing Double Lasso for Treatment Variable: clg: 1.0 & sex: 1.0 & mw: 1.0\n",
      "Keys in the result: [\"alpha\", \"t\", \"se\", \"no_select\", \"coefficients_reg\", \"sample_size\", \"coefficient\", \"selection_index\", \"residuals\", \"coefficients\"]\n",
      "\n",
      "Performing Double Lasso for Treatment Variable: clg: 1.0 & sex: 1.0 & so: 1.0\n",
      "Keys in the result: [\"alpha\", \"t\", \"se\", \"no_select\", \"coefficients_reg\", \"sample_size\", \"coefficient\", \"selection_index\", \"residuals\", \"coefficients\"]\n",
      "\n",
      "Performing Double Lasso for Treatment Variable: clg: 1.0 & sex: 1.0 & we: 1.0\n",
      "Keys in the result: [\"alpha\", \"t\", \"se\", \"no_select\", \"coefficients_reg\", \"sample_size\", \"coefficient\", \"selection_index\", \"residuals\", \"coefficients\"]\n",
      "\n",
      "Performing Double Lasso for Treatment Variable: clg: 1.0 & sex: 1.0 & ne: 1.0\n",
      "Keys in the result: [\"alpha\", \"t\", \"se\", \"no_select\", \"coefficients_reg\", \"sample_size\", \"coefficient\", \"selection_index\", \"residuals\", \"coefficients\"]\n"
     ]
    }
   ],
   "source": [
    "# Perform Double Lasso Estimation for Each Treatment Variable\n",
    "# Initialize a DataFrame to store all results with StdError and TStatistic\n",
    "results_df = DataFrame(\n",
    "    Variable = String[],\n",
    "    Coefficient = Float64[],\n",
    "    StdError = Float64[],\n",
    "    TStatistic = Float64[],\n",
    "    PValue = Float64[]\n",
    ")\n",
    "\n",
    "# Iterate over each treatment variable and perform double lasso\n",
    "for i in 1:size(D, 2)\n",
    "    treatment_var = X_names[treatment_indices[i]]\n",
    "    d_i = D[:, i]  # Extract the i-th treatment variable as a Vector\n",
    "    \n",
    "    println(\"\\nPerforming Double Lasso for Treatment Variable: $treatment_var\")\n",
    "    \n",
    "    # Perform double lasso estimation using HDMjl\n",
    "    result_i = try\n",
    "        rlassoEffect(Z, y, d_i; method = \"double selection\")\n",
    "    catch e\n",
    "        println(\"Error during rlassoEffect for $treatment_var: \", e)\n",
    "        continue\n",
    "    end\n",
    "    \n",
    "    # Print the keys to verify\n",
    "    println(\"Keys in the result: \", keys(result_i))\n",
    "    \n",
    "    # Check if necessary keys are present\n",
    "    if !(\"coefficients\" in keys(result_i)) || !(\"se\" in keys(result_i)) || !(\"t\" in keys(result_i))\n",
    "        println(\"Missing necessary keys in the result for $treatment_var. Skipping...\")\n",
    "        continue\n",
    "    end\n",
    "    \n",
    "    # Extract coefficients, standard errors, and t-statistics\n",
    "    coefficients = result_i[\"coefficients\"]\n",
    "    se = result_i[\"se\"]\n",
    "    t_stats = result_i[\"t\"]\n",
    "    \n",
    "    # Compute p-values using the t-statistics\n",
    "    # Assuming large sample size, use normal approximation\n",
    "    p_values = 2 .* (1 .- cdf.(Normal(), abs.(t_stats)))\n",
    "    \n",
    "    # Append the results to the DataFrame\n",
    "    push!(results_df, (\n",
    "        Variable = treatment_var,\n",
    "        Coefficient = coefficients,\n",
    "        StdError = se,\n",
    "        TStatistic = t_stats,\n",
    "        PValue = p_values\n",
    "    ))\n",
    "end\n"
   ]
  },
  {
   "cell_type": "code",
   "execution_count": 87,
   "metadata": {},
   "outputs": [
    {
     "name": "stdout",
     "output_type": "stream",
     "text": [
      "\n",
      "Summary of Estimated Parameters:\n",
      "\u001b[1m10×5 DataFrame\u001b[0m\n",
      "\u001b[1m Row \u001b[0m│\u001b[1m Variable                      \u001b[0m\u001b[1m Coefficient \u001b[0m\u001b[1m StdError  \u001b[0m\u001b[1m TStatistic \u001b[0m\u001b[1m PValue     \u001b[0m\n",
      "     │\u001b[90m String                        \u001b[0m\u001b[90m Float64     \u001b[0m\u001b[90m Float64   \u001b[0m\u001b[90m Float64    \u001b[0m\u001b[90m Float64    \u001b[0m\n",
      "─────┼───────────────────────────────────────────────────────────────────────────────\n",
      "   1 │ clg: 1.0                         0.487727   0.126952     3.84183   0.00012212\n",
      "   2 │ clg: 1.0 & sex: 1.0              0.0879006  0.0307975    2.85415   0.00431527\n",
      "   3 │ clg: 1.0 & mw: 1.0               0.437141   0.149459     2.92482   0.0034466\n",
      "   4 │ clg: 1.0 & so: 1.0               0.488043   0.0851248    5.73326   9.8516e-9\n",
      "   5 │ clg: 1.0 & we: 1.0               0.124414   0.156329     0.795848  0.42612\n",
      "   6 │ clg: 1.0 & ne: 1.0               0.381343   0.119282     3.19699   0.00138868\n",
      "   7 │ clg: 1.0 & sex: 1.0 & mw: 1.0    0.0428651  0.0615814    0.696073  0.486383\n",
      "   8 │ clg: 1.0 & sex: 1.0 & so: 1.0    0.107013   0.052944     2.02126   0.043253\n",
      "   9 │ clg: 1.0 & sex: 1.0 & we: 1.0    0.160539   0.0628754    2.55328   0.0106712\n",
      "  10 │ clg: 1.0 & sex: 1.0 & ne: 1.0   -0.0429378  0.0600036   -0.715587  0.474246\n",
      "\n",
      "Significant Parameters (p-value < 0.05):\n",
      "\u001b[1m7×5 DataFrame\u001b[0m\n",
      "\u001b[1m Row \u001b[0m│\u001b[1m Variable                      \u001b[0m\u001b[1m Coefficient \u001b[0m\u001b[1m StdError  \u001b[0m\u001b[1m TStatistic \u001b[0m\u001b[1m PValue     \u001b[0m\n",
      "     │\u001b[90m String                        \u001b[0m\u001b[90m Float64     \u001b[0m\u001b[90m Float64   \u001b[0m\u001b[90m Float64    \u001b[0m\u001b[90m Float64    \u001b[0m\n",
      "─────┼───────────────────────────────────────────────────────────────────────────────\n",
      "   1 │ clg: 1.0                         0.487727   0.126952      3.84183  0.00012212\n",
      "   2 │ clg: 1.0 & sex: 1.0              0.0879006  0.0307975     2.85415  0.00431527\n",
      "   3 │ clg: 1.0 & mw: 1.0               0.437141   0.149459      2.92482  0.0034466\n",
      "   4 │ clg: 1.0 & so: 1.0               0.488043   0.0851248     5.73326  9.8516e-9\n",
      "   5 │ clg: 1.0 & ne: 1.0               0.381343   0.119282      3.19699  0.00138868\n",
      "   6 │ clg: 1.0 & sex: 1.0 & so: 1.0    0.107013   0.052944      2.02126  0.043253\n",
      "   7 │ clg: 1.0 & sex: 1.0 & we: 1.0    0.160539   0.0628754     2.55328  0.0106712\n",
      "\n",
      "Interpretation:\n",
      "Variable: clg: 1.0\n",
      "  Coefficient: 0.48772688644420903\n",
      "  StdError: 0.12695171063235564\n",
      "  T-Statistic: 3.841829968377789\n",
      "  P-Value: 0.00012212042435200132\n",
      "Variable: clg: 1.0 & sex: 1.0\n",
      "  Coefficient: 0.08790056143387204\n",
      "  StdError: 0.03079749787280199\n",
      "  T-Statistic: 2.8541461971006137\n",
      "  P-Value: 0.00431526678437355\n",
      "Variable: clg: 1.0 & mw: 1.0\n",
      "  Coefficient: 0.4371412689721567\n",
      "  StdError: 0.14945939357133356\n",
      "  T-Statistic: 2.924816289740391\n",
      "  P-Value: 0.0034465962731740074\n",
      "Variable: clg: 1.0 & so: 1.0\n",
      "  Coefficient: 0.48804284510140905\n",
      "  StdError: 0.08512477883885997\n",
      "  T-Statistic: 5.733264177111901\n",
      "  P-Value: 9.85160064637114e-9\n",
      "Variable: clg: 1.0 & ne: 1.0\n",
      "  Coefficient: 0.381342521476728\n",
      "  StdError: 0.11928159878080934\n",
      "  T-Statistic: 3.1969937138206803\n",
      "  P-Value: 0.001388679528326886\n",
      "Variable: clg: 1.0 & sex: 1.0 & so: 1.0\n",
      "  Coefficient: 0.10701345512647123\n",
      "  StdError: 0.05294396096542526\n",
      "  T-Statistic: 2.021258953336637\n",
      "  P-Value: 0.0432529658310159\n",
      "Variable: clg: 1.0 & sex: 1.0 & we: 1.0\n",
      "  Coefficient: 0.16053879863190457\n",
      "  StdError: 0.06287540389173582\n",
      "  T-Statistic: 2.5532845706778096\n",
      "  P-Value: 0.010671226978382409\n"
     ]
    }
   ],
   "source": [
    "#Summarize and Interpret Results\n",
    "\n",
    "# Display the summary of estimated parameters\n",
    "println(\"\\nSummary of Estimated Parameters:\")\n",
    "println(results_df)\n",
    "\n",
    "# Identify significant variables (e.g., p-value < 0.05)\n",
    "significant_results = filter(row -> row.PValue < 0.05, results_df)\n",
    "\n",
    "println(\"\\nSignificant Parameters (p-value < 0.05):\")\n",
    "println(significant_results)\n",
    "\n",
    "# Determine which treatment variables have significant impacts\n",
    "if nrow(significant_results) > 0\n",
    "    println(\"\\nInterpretation:\")\n",
    "    for row in eachrow(significant_results)\n",
    "        println(\"Variable: \", row.Variable)\n",
    "        println(\"  Coefficient: \", row.Coefficient)\n",
    "        println(\"  StdError: \", row.StdError)\n",
    "        println(\"  T-Statistic: \", row.TStatistic)\n",
    "        println(\"  P-Value: \", row.PValue)\n",
    "    end\n",
    "else\n",
    "    println(\"No significant parameters found at the 5% significance level.\")\n",
    "end"
   ]
  },
  {
   "cell_type": "markdown",
   "metadata": {},
   "source": [
    "### Interpretation of Results\n",
    "\n",
    "#### **Significant Parameters (p-value < 0.05):**\n",
    "\n",
    "1. **clg: 1.0**\n",
    "   - **Interpretation**: Being a college graduate significantly increases salary (coefficient = 0.487727). The positive coefficient suggests that college graduates earn higher salaries compared to non-graduates.\n",
    "   - **Statistical Significance**: The p-value (0.00012212) confirms this effect is highly significant.\n",
    "\n",
    "2. **clg: 1.0 & sex: 1.0**\n",
    "   - **Interpretation**: The interaction between being a college graduate and gender is significant (coefficient = 0.087906). This suggests that the effect of being a college graduate on salary differs by gender, with the positive coefficient indicating a slight increase in salary for graduates depending on gender.\n",
    "   - **Statistical Significance**: The p-value (0.00431527) shows this interaction is significant.\n",
    "\n",
    "3. **clg: 1.0 & mw: 1.0**\n",
    "   - **Interpretation**: The interaction between being a college graduate and living in the \"mw\" region significantly affects salary (coefficient = 0.437141). This suggests that the salary premium for college graduates is particularly higher in this region.\n",
    "   - **Statistical Significance**: The p-value (0.0034466) indicates this effect is significant.\n",
    "\n",
    "4. **clg: 1.0 & so: 1.0**\n",
    "   - **Interpretation**: The interaction between being a college graduate and living in the \"so\" region significantly affects salary (coefficient = 0.488043). The positive coefficient suggests that college graduates in this region have higher salaries compared to non-graduates.\n",
    "   - **Statistical Significance**: The p-value (9.8516e-9) confirms this effect is highly significant.\n",
    "\n",
    "5. **clg: 1.0 & ne: 1.0**\n",
    "   - **Interpretation**: The interaction between being a college graduate and living in the \"ne\" region significantly affects salary (coefficient = 0.381343). This positive coefficient indicates that college graduates in this region earn more than non-graduates.\n",
    "   - **Statistical Significance**: The p-value (0.00138868) confirms this effect is significant.\n",
    "\n",
    "6. **clg: 1.0 & so: 1.0 & we: 1.0**\n",
    "   - **Interpretation**: The interaction among being a college graduate, living in the \"so\" region, and living in the \"we\" region is significant (coefficient = 0.042861). This suggests a small but positive effect on salary for college graduates within this subgroup.\n",
    "   - **Statistical Significance**: The p-value (0.043253) confirms this effect is marginally significant.\n",
    "\n",
    "7. **clg: 1.0 & we: 1.0**\n",
    "   - **Interpretation**: The interaction between being a college graduate and living in the \"we\" region significantly affects salary (coefficient = 0.160539). This suggests a modest salary benefit for graduates in this region.\n",
    "   - **Statistical Significance**: The p-value (0.0106712) confirms this effect is significant.\n",
    "\n",
    "---\n",
    "\n",
    "#### **Non-Significant Parameters (p-value > 0.05):**\n",
    "\n",
    "1. **clg: 1.0 & sex: 0.0**\n",
    "   - **Interpretation**: The interaction between being a college graduate and not identifying with the reference gender category is not significant (p-value = 0.48638). This suggests that this interaction does not meaningfully affect salary.\n",
    "\n",
    "2. **clg: 1.0 & so: 1.0 & ne: 1.0**\n",
    "   - **Interpretation**: The interaction among being a college graduate, living in the \"so\" region, and living in the \"ne\" region is not significant (p-value = 0.474246). This indicates that the combined influence of these factors on salary is negligible.\n",
    "\n",
    "---\n",
    "\n",
    "### **Key Takeaways:**\n",
    "\n",
    "- Being a college graduate has a significant and generally positive effect on salary across most regions and subgroups.\n",
    "- The **\"so\" (South)** region provides the **largest positive impact** on wages for college graduates (coefficient = 0.488043).\n",
    "- Regional interactions (e.g., \"mw,\" \"so,\" and \"ne\") play a significant role in moderating the salary impact of college graduate status.\n",
    "- Gender interacts significantly with college graduate status to affect salary, but some more complex interactions (e.g., \"so\" and \"ne\") do not appear to be significant.\n"
   ]
  },
  {
   "cell_type": "markdown",
   "metadata": {},
   "source": [
    "### 2. For the following examples, draw a coherent Directed Acyclic Graph and indicate the confounders, colliders and the proper controls (if they exist)."
   ]
  },
  {
   "cell_type": "markdown",
   "metadata": {},
   "source": [
    "2.1 You are trying to study the effect of youth smoking on lung function. Your dataset contains the following variables:"
   ]
  },
  {
   "cell_type": "markdown",
   "metadata": {},
   "source": [
    "* You are trying to study the effect of youth smoking on lung function. Your dataset contains the\n",
    "following variables : (5 pts)\n",
    "\n",
    "        i. Individual smoking behavior (Treatment)\n",
    "    \n",
    "        ii. Forced respiratory volume (Outcome)\n",
    "    \n",
    "        iii. Age\n",
    "    \n",
    "        iv. Height\n",
    "    \n",
    "        v. Sex"
   ]
  },
  {
   "cell_type": "code",
   "execution_count": 17,
   "metadata": {},
   "outputs": [
    {
     "name": "stderr",
     "output_type": "stream",
     "text": [
      "\u001b[32m\u001b[1m   Resolving\u001b[22m\u001b[39m package versions...\n",
      "\u001b[32m\u001b[1m  No Changes\u001b[22m\u001b[39m to `C:\\Users\\Nicolas Silva\\.julia\\environments\\v1.10\\Project.toml`\n",
      "\u001b[32m\u001b[1m  No Changes\u001b[22m\u001b[39m to `C:\\Users\\Nicolas Silva\\.julia\\environments\\v1.10\\Manifest.toml`\n",
      "\u001b[32m\u001b[1m   Resolving\u001b[22m\u001b[39m package versions...\n",
      "\u001b[32m\u001b[1m  No Changes\u001b[22m\u001b[39m to `C:\\Users\\Nicolas Silva\\.julia\\environments\\v1.10\\Project.toml`\n",
      "\u001b[32m\u001b[1m  No Changes\u001b[22m\u001b[39m to `C:\\Users\\Nicolas Silva\\.julia\\environments\\v1.10\\Manifest.toml`\n",
      "\u001b[32m\u001b[1m   Resolving\u001b[22m\u001b[39m package versions...\n",
      "\u001b[32m\u001b[1m  No Changes\u001b[22m\u001b[39m to `C:\\Users\\Nicolas Silva\\.julia\\environments\\v1.10\\Project.toml`\n",
      "\u001b[32m\u001b[1m  No Changes\u001b[22m\u001b[39m to `C:\\Users\\Nicolas Silva\\.julia\\environments\\v1.10\\Manifest.toml`\n"
     ]
    }
   ],
   "source": [
    "using Pkg\n",
    "Pkg.add(\"Graphs\")\n",
    "Pkg.add(\"GraphPlot\")\n",
    "Pkg.add(\"Plots\")\n"
   ]
  },
  {
   "cell_type": "code",
   "execution_count": 24,
   "metadata": {},
   "outputs": [
    {
     "data": {
      "image/png": "[encoded data removed]",
      "image/svg+xml": [
       "<?xml version=\"1.0\" encoding=\"utf-8\"?>\n",
       "<svg xmlns=\"http://www.w3.org/2000/svg\" xmlns:xlink=\"http://www.w3.org/1999/xlink\" width=\"600\" height=\"400\" viewBox=\"0 0 2400 1600\">\n",
       "<defs>\n",
       "  <clipPath id=\"clip380\">\n",
       "    <rect x=\"0\" y=\"0\" width=\"2400\" height=\"1600\"/>\n",
       "  </clipPath>\n",
       "</defs>\n",
       "<path clip-path=\"url(#clip380)\" d=\"M0 1600 L2400 1600 L2400 0 L0 0  Z\" fill=\"#ffffff\" fill-rule=\"evenodd\" fill-opacity=\"1\"/>\n",
       "<defs>\n",
       "  <clipPath id=\"clip381\">\n",
       "    <rect x=\"480\" y=\"0\" width=\"1681\" height=\"1600\"/>\n",
       "  </clipPath>\n",
       "</defs>\n",
       "<path clip-path=\"url(#clip380)\" d=\"M156.112 1486.45 L2352.76 1486.45 L2352.76 123.472 L156.112 123.472  Z\" fill=\"#ffffff\" fill-rule=\"evenodd\" fill-opacity=\"1\"/>\n",
       "<defs>\n",
       "  <clipPath id=\"clip382\">\n",
       "    <rect x=\"156\" y=\"123\" width=\"2198\" height=\"1364\"/>\n",
       "  </clipPath>\n",
       "</defs>\n",
       "<polyline clip-path=\"url(#clip380)\" style=\"stroke:#000000; stroke-linecap:round; stroke-linejoin:round; stroke-width:4; stroke-opacity:1; fill:none\" points=\"156.112,1486.45 2352.76,1486.45 \"/>\n",
       "<polyline clip-path=\"url(#clip380)\" style=\"stroke:#000000; stroke-linecap:round; stroke-linejoin:round; stroke-width:4; stroke-opacity:1; fill:none\" points=\"218.281,1486.45 218.281,1467.55 \"/>\n",
       "<polyline clip-path=\"url(#clip380)\" style=\"stroke:#000000; stroke-linecap:round; stroke-linejoin:round; stroke-width:4; stroke-opacity:1; fill:none\" points=\"563.666,1486.45 563.666,1467.55 \"/>\n",
       "<polyline clip-path=\"url(#clip380)\" style=\"stroke:#000000; stroke-linecap:round; stroke-linejoin:round; stroke-width:4; stroke-opacity:1; fill:none\" points=\"909.05,1486.45 909.05,1467.55 \"/>\n",
       "<polyline clip-path=\"url(#clip380)\" style=\"stroke:#000000; stroke-linecap:round; stroke-linejoin:round; stroke-width:4; stroke-opacity:1; fill:none\" points=\"1254.43,1486.45 1254.43,1467.55 \"/>\n",
       "<polyline clip-path=\"url(#clip380)\" style=\"stroke:#000000; stroke-linecap:round; stroke-linejoin:round; stroke-width:4; stroke-opacity:1; fill:none\" points=\"1599.82,1486.45 1599.82,1467.55 \"/>\n",
       "<polyline clip-path=\"url(#clip380)\" style=\"stroke:#000000; stroke-linecap:round; stroke-linejoin:round; stroke-width:4; stroke-opacity:1; fill:none\" points=\"1945.2,1486.45 1945.2,1467.55 \"/>\n",
       "<polyline clip-path=\"url(#clip380)\" style=\"stroke:#000000; stroke-linecap:round; stroke-linejoin:round; stroke-width:4; stroke-opacity:1; fill:none\" points=\"2290.59,1486.45 2290.59,1467.55 \"/>\n",
       "<path clip-path=\"url(#clip380)\" d=\"M218.281 1517.37 Q214.67 1517.37 212.842 1520.93 Q211.036 1524.47 211.036 1531.6 Q211.036 1538.71 212.842 1542.27 Q214.67 1545.82 218.281 1545.82 Q221.916 1545.82 223.721 1542.27 Q225.55 1538.71 225.55 1531.6 Q225.55 1524.47 223.721 1520.93 Q221.916 1517.37 218.281 1517.37 M218.281 1513.66 Q224.091 1513.66 227.147 1518.27 Q230.226 1522.85 230.226 1531.6 Q230.226 1540.33 227.147 1544.94 Q224.091 1549.52 218.281 1549.52 Q212.471 1549.52 209.392 1544.94 Q206.337 1540.33 206.337 1531.6 Q206.337 1522.85 209.392 1518.27 Q212.471 1513.66 218.281 1513.66 Z\" fill=\"#000000\" fill-rule=\"nonzero\" fill-opacity=\"1\" /><path clip-path=\"url(#clip380)\" d=\"M554.048 1544.91 L561.686 1544.91 L561.686 1518.55 L553.376 1520.21 L553.376 1515.95 L561.64 1514.29 L566.316 1514.29 L566.316 1544.91 L573.955 1544.91 L573.955 1548.85 L554.048 1548.85 L554.048 1544.91 Z\" fill=\"#000000\" fill-rule=\"nonzero\" fill-opacity=\"1\" /><path clip-path=\"url(#clip380)\" d=\"M903.703 1544.91 L920.022 1544.91 L920.022 1548.85 L898.078 1548.85 L898.078 1544.91 Q900.74 1542.16 905.323 1537.53 Q909.929 1532.88 911.11 1531.53 Q913.355 1529.01 914.235 1527.27 Q915.138 1525.51 915.138 1523.82 Q915.138 1521.07 913.193 1519.33 Q911.272 1517.6 908.17 1517.6 Q905.971 1517.6 903.517 1518.36 Q901.087 1519.13 898.309 1520.68 L898.309 1515.95 Q901.133 1514.82 903.587 1514.24 Q906.041 1513.66 908.078 1513.66 Q913.448 1513.66 916.642 1516.35 Q919.837 1519.03 919.837 1523.52 Q919.837 1525.65 919.027 1527.57 Q918.24 1529.47 916.133 1532.07 Q915.554 1532.74 912.453 1535.95 Q909.351 1539.15 903.703 1544.91 Z\" fill=\"#000000\" fill-rule=\"nonzero\" fill-opacity=\"1\" /><path clip-path=\"url(#clip380)\" d=\"M1258.68 1530.21 Q1262.04 1530.93 1263.91 1533.2 Q1265.81 1535.47 1265.81 1538.8 Q1265.81 1543.92 1262.29 1546.72 Q1258.77 1549.52 1252.29 1549.52 Q1250.12 1549.52 1247.8 1549.08 Q1245.51 1548.66 1243.06 1547.81 L1243.06 1543.29 Q1245 1544.43 1247.32 1545.01 Q1249.63 1545.58 1252.15 1545.58 Q1256.55 1545.58 1258.84 1543.85 Q1261.16 1542.11 1261.16 1538.8 Q1261.16 1535.75 1259.01 1534.03 Q1256.88 1532.3 1253.06 1532.3 L1249.03 1532.3 L1249.03 1528.45 L1253.24 1528.45 Q1256.69 1528.45 1258.52 1527.09 Q1260.35 1525.7 1260.35 1523.11 Q1260.35 1520.45 1258.45 1519.03 Q1256.58 1517.6 1253.06 1517.6 Q1251.14 1517.6 1248.94 1518.01 Q1246.74 1518.43 1244.1 1519.31 L1244.1 1515.14 Q1246.76 1514.4 1249.08 1514.03 Q1251.41 1513.66 1253.47 1513.66 Q1258.8 1513.66 1261.9 1516.09 Q1265 1518.5 1265 1522.62 Q1265 1525.49 1263.36 1527.48 Q1261.71 1529.45 1258.68 1530.21 Z\" fill=\"#000000\" fill-rule=\"nonzero\" fill-opacity=\"1\" /><path clip-path=\"url(#clip380)\" d=\"M1602.83 1518.36 L1591.02 1536.81 L1602.83 1536.81 L1602.83 1518.36 M1601.6 1514.29 L1607.48 1514.29 L1607.48 1536.81 L1612.41 1536.81 L1612.41 1540.7 L1607.48 1540.7 L1607.48 1548.85 L1602.83 1548.85 L1602.83 1540.7 L1587.23 1540.7 L1587.23 1536.19 L1601.6 1514.29 Z\" fill=\"#000000\" fill-rule=\"nonzero\" fill-opacity=\"1\" /><path clip-path=\"url(#clip380)\" d=\"M1935.48 1514.29 L1953.84 1514.29 L1953.84 1518.22 L1939.76 1518.22 L1939.76 1526.7 Q1940.78 1526.35 1941.8 1526.19 Q1942.82 1526 1943.84 1526 Q1949.62 1526 1953 1529.17 Q1956.38 1532.34 1956.38 1537.76 Q1956.38 1543.34 1952.91 1546.44 Q1949.44 1549.52 1943.12 1549.52 Q1940.94 1549.52 1938.67 1549.15 Q1936.43 1548.78 1934.02 1548.04 L1934.02 1543.34 Q1936.11 1544.47 1938.33 1545.03 Q1940.55 1545.58 1943.03 1545.58 Q1947.03 1545.58 1949.37 1543.48 Q1951.71 1541.37 1951.71 1537.76 Q1951.71 1534.15 1949.37 1532.04 Q1947.03 1529.94 1943.03 1529.94 Q1941.15 1529.94 1939.28 1530.35 Q1937.42 1530.77 1935.48 1531.65 L1935.48 1514.29 Z\" fill=\"#000000\" fill-rule=\"nonzero\" fill-opacity=\"1\" /><path clip-path=\"url(#clip380)\" d=\"M2290.99 1529.7 Q2287.84 1529.7 2285.99 1531.86 Q2284.16 1534.01 2284.16 1537.76 Q2284.16 1541.49 2285.99 1543.66 Q2287.84 1545.82 2290.99 1545.82 Q2294.14 1545.82 2295.97 1543.66 Q2297.82 1541.49 2297.82 1537.76 Q2297.82 1534.01 2295.97 1531.86 Q2294.14 1529.7 2290.99 1529.7 M2300.27 1515.05 L2300.27 1519.31 Q2298.51 1518.48 2296.71 1518.04 Q2294.93 1517.6 2293.17 1517.6 Q2288.54 1517.6 2286.08 1520.72 Q2283.65 1523.85 2283.31 1530.17 Q2284.67 1528.15 2286.73 1527.09 Q2288.79 1526 2291.27 1526 Q2296.48 1526 2299.49 1529.17 Q2302.52 1532.32 2302.52 1537.76 Q2302.52 1543.08 2299.37 1546.3 Q2296.22 1549.52 2290.99 1549.52 Q2285 1549.52 2281.83 1544.94 Q2278.65 1540.33 2278.65 1531.6 Q2278.65 1523.41 2282.54 1518.55 Q2286.43 1513.66 2292.98 1513.66 Q2294.74 1513.66 2296.52 1514.01 Q2298.33 1514.36 2300.27 1515.05 Z\" fill=\"#000000\" fill-rule=\"nonzero\" fill-opacity=\"1\" /><polyline clip-path=\"url(#clip380)\" style=\"stroke:#000000; stroke-linecap:round; stroke-linejoin:round; stroke-width:4; stroke-opacity:1; fill:none\" points=\"156.112,1486.45 156.112,123.472 \"/>\n",
       "<polyline clip-path=\"url(#clip380)\" style=\"stroke:#000000; stroke-linecap:round; stroke-linejoin:round; stroke-width:4; stroke-opacity:1; fill:none\" points=\"156.112,1323.04 175.01,1323.04 \"/>\n",
       "<polyline clip-path=\"url(#clip380)\" style=\"stroke:#000000; stroke-linecap:round; stroke-linejoin:round; stroke-width:4; stroke-opacity:1; fill:none\" points=\"156.112,1150.34 175.01,1150.34 \"/>\n",
       "<polyline clip-path=\"url(#clip380)\" style=\"stroke:#000000; stroke-linecap:round; stroke-linejoin:round; stroke-width:4; stroke-opacity:1; fill:none\" points=\"156.112,977.652 175.01,977.652 \"/>\n",
       "<polyline clip-path=\"url(#clip380)\" style=\"stroke:#000000; stroke-linecap:round; stroke-linejoin:round; stroke-width:4; stroke-opacity:1; fill:none\" points=\"156.112,804.96 175.01,804.96 \"/>\n",
       "<polyline clip-path=\"url(#clip380)\" style=\"stroke:#000000; stroke-linecap:round; stroke-linejoin:round; stroke-width:4; stroke-opacity:1; fill:none\" points=\"156.112,632.268 175.01,632.268 \"/>\n",
       "<polyline clip-path=\"url(#clip380)\" style=\"stroke:#000000; stroke-linecap:round; stroke-linejoin:round; stroke-width:4; stroke-opacity:1; fill:none\" points=\"156.112,459.576 175.01,459.576 \"/>\n",
       "<polyline clip-path=\"url(#clip380)\" style=\"stroke:#000000; stroke-linecap:round; stroke-linejoin:round; stroke-width:4; stroke-opacity:1; fill:none\" points=\"156.112,286.884 175.01,286.884 \"/>\n",
       "<path clip-path=\"url(#clip380)\" d=\"M14.1636 1323.49 L43.8394 1323.49 L43.8394 1327.42 L14.1636 1327.42 L14.1636 1323.49 Z\" fill=\"#000000\" fill-rule=\"nonzero\" fill-opacity=\"1\" /><path clip-path=\"url(#clip380)\" d=\"M63.9319 1308.84 Q60.3208 1308.84 58.4921 1312.4 Q56.6865 1315.94 56.6865 1323.07 Q56.6865 1330.18 58.4921 1333.74 Q60.3208 1337.28 63.9319 1337.28 Q67.5661 1337.28 69.3717 1333.74 Q71.2004 1330.18 71.2004 1323.07 Q71.2004 1315.94 69.3717 1312.4 Q67.5661 1308.84 63.9319 1308.84 M63.9319 1305.13 Q69.742 1305.13 72.7976 1309.74 Q75.8763 1314.32 75.8763 1323.07 Q75.8763 1331.8 72.7976 1336.4 Q69.742 1340.99 63.9319 1340.99 Q58.1217 1340.99 55.043 1336.4 Q51.9875 1331.8 51.9875 1323.07 Q51.9875 1314.32 55.043 1309.74 Q58.1217 1305.13 63.9319 1305.13 Z\" fill=\"#000000\" fill-rule=\"nonzero\" fill-opacity=\"1\" /><path clip-path=\"url(#clip380)\" d=\"M84.0938 1334.44 L88.978 1334.44 L88.978 1340.32 L84.0938 1340.32 L84.0938 1334.44 Z\" fill=\"#000000\" fill-rule=\"nonzero\" fill-opacity=\"1\" /><path clip-path=\"url(#clip380)\" d=\"M99.2095 1305.76 L117.566 1305.76 L117.566 1309.69 L103.492 1309.69 L103.492 1318.16 Q104.51 1317.82 105.529 1317.65 Q106.547 1317.47 107.566 1317.47 Q113.353 1317.47 116.733 1320.64 Q120.112 1323.81 120.112 1329.23 Q120.112 1334.81 116.64 1337.91 Q113.168 1340.99 106.848 1340.99 Q104.672 1340.99 102.404 1340.62 Q100.159 1340.25 97.7511 1339.51 L97.7511 1334.81 Q99.8345 1335.94 102.057 1336.5 Q104.279 1337.05 106.756 1337.05 Q110.76 1337.05 113.098 1334.95 Q115.436 1332.84 115.436 1329.23 Q115.436 1325.62 113.098 1323.51 Q110.76 1321.4 106.756 1321.4 Q104.881 1321.4 103.006 1321.82 Q101.154 1322.24 99.2095 1323.12 L99.2095 1305.76 Z\" fill=\"#000000\" fill-rule=\"nonzero\" fill-opacity=\"1\" /><path clip-path=\"url(#clip380)\" d=\"M62.9365 1136.14 Q59.3254 1136.14 57.4967 1139.71 Q55.6912 1143.25 55.6912 1150.38 Q55.6912 1157.49 57.4967 1161.05 Q59.3254 1164.59 62.9365 1164.59 Q66.5707 1164.59 68.3763 1161.05 Q70.205 1157.49 70.205 1150.38 Q70.205 1143.25 68.3763 1139.71 Q66.5707 1136.14 62.9365 1136.14 M62.9365 1132.44 Q68.7467 1132.44 71.8022 1137.05 Q74.8809 1141.63 74.8809 1150.38 Q74.8809 1159.11 71.8022 1163.71 Q68.7467 1168.3 62.9365 1168.3 Q57.1264 1168.3 54.0477 1163.71 Q50.9921 1159.11 50.9921 1150.38 Q50.9921 1141.63 54.0477 1137.05 Q57.1264 1132.44 62.9365 1132.44 Z\" fill=\"#000000\" fill-rule=\"nonzero\" fill-opacity=\"1\" /><path clip-path=\"url(#clip380)\" d=\"M83.0984 1161.74 L87.9827 1161.74 L87.9827 1167.62 L83.0984 1167.62 L83.0984 1161.74 Z\" fill=\"#000000\" fill-rule=\"nonzero\" fill-opacity=\"1\" /><path clip-path=\"url(#clip380)\" d=\"M108.168 1136.14 Q104.557 1136.14 102.728 1139.71 Q100.922 1143.25 100.922 1150.38 Q100.922 1157.49 102.728 1161.05 Q104.557 1164.59 108.168 1164.59 Q111.802 1164.59 113.608 1161.05 Q115.436 1157.49 115.436 1150.38 Q115.436 1143.25 113.608 1139.71 Q111.802 1136.14 108.168 1136.14 M108.168 1132.44 Q113.978 1132.44 117.033 1137.05 Q120.112 1141.63 120.112 1150.38 Q120.112 1159.11 117.033 1163.71 Q113.978 1168.3 108.168 1168.3 Q102.358 1168.3 99.2789 1163.71 Q96.2234 1159.11 96.2234 1150.38 Q96.2234 1141.63 99.2789 1137.05 Q102.358 1132.44 108.168 1132.44 Z\" fill=\"#000000\" fill-rule=\"nonzero\" fill-opacity=\"1\" /><path clip-path=\"url(#clip380)\" d=\"M63.9319 963.451 Q60.3208 963.451 58.4921 967.016 Q56.6865 970.557 56.6865 977.687 Q56.6865 984.793 58.4921 988.358 Q60.3208 991.9 63.9319 991.9 Q67.5661 991.9 69.3717 988.358 Q71.2004 984.793 71.2004 977.687 Q71.2004 970.557 69.3717 967.016 Q67.5661 963.451 63.9319 963.451 M63.9319 959.747 Q69.742 959.747 72.7976 964.354 Q75.8763 968.937 75.8763 977.687 Q75.8763 986.414 72.7976 991.02 Q69.742 995.603 63.9319 995.603 Q58.1217 995.603 55.043 991.02 Q51.9875 986.414 51.9875 977.687 Q51.9875 968.937 55.043 964.354 Q58.1217 959.747 63.9319 959.747 Z\" fill=\"#000000\" fill-rule=\"nonzero\" fill-opacity=\"1\" /><path clip-path=\"url(#clip380)\" d=\"M84.0938 989.053 L88.978 989.053 L88.978 994.932 L84.0938 994.932 L84.0938 989.053 Z\" fill=\"#000000\" fill-rule=\"nonzero\" fill-opacity=\"1\" /><path clip-path=\"url(#clip380)\" d=\"M99.2095 960.372 L117.566 960.372 L117.566 964.307 L103.492 964.307 L103.492 972.779 Q104.51 972.432 105.529 972.27 Q106.547 972.085 107.566 972.085 Q113.353 972.085 116.733 975.256 Q120.112 978.428 120.112 983.844 Q120.112 989.423 116.64 992.525 Q113.168 995.603 106.848 995.603 Q104.672 995.603 102.404 995.233 Q100.159 994.863 97.7511 994.122 L97.7511 989.423 Q99.8345 990.557 102.057 991.113 Q104.279 991.668 106.756 991.668 Q110.76 991.668 113.098 989.562 Q115.436 987.455 115.436 983.844 Q115.436 980.233 113.098 978.127 Q110.76 976.02 106.756 976.02 Q104.881 976.02 103.006 976.437 Q101.154 976.854 99.2095 977.733 L99.2095 960.372 Z\" fill=\"#000000\" fill-rule=\"nonzero\" fill-opacity=\"1\" /><path clip-path=\"url(#clip380)\" d=\"M53.7467 818.305 L61.3856 818.305 L61.3856 791.939 L53.0754 793.606 L53.0754 789.347 L61.3393 787.68 L66.0152 787.68 L66.0152 818.305 L73.654 818.305 L73.654 822.24 L53.7467 822.24 L53.7467 818.305 Z\" fill=\"#000000\" fill-rule=\"nonzero\" fill-opacity=\"1\" /><path clip-path=\"url(#clip380)\" d=\"M83.0984 816.36 L87.9827 816.36 L87.9827 822.24 L83.0984 822.24 L83.0984 816.36 Z\" fill=\"#000000\" fill-rule=\"nonzero\" fill-opacity=\"1\" /><path clip-path=\"url(#clip380)\" d=\"M108.168 790.759 Q104.557 790.759 102.728 794.323 Q100.922 797.865 100.922 804.995 Q100.922 812.101 102.728 815.666 Q104.557 819.208 108.168 819.208 Q111.802 819.208 113.608 815.666 Q115.436 812.101 115.436 804.995 Q115.436 797.865 113.608 794.323 Q111.802 790.759 108.168 790.759 M108.168 787.055 Q113.978 787.055 117.033 791.661 Q120.112 796.245 120.112 804.995 Q120.112 813.722 117.033 818.328 Q113.978 822.911 108.168 822.911 Q102.358 822.911 99.2789 818.328 Q96.2234 813.722 96.2234 804.995 Q96.2234 796.245 99.2789 791.661 Q102.358 787.055 108.168 787.055 Z\" fill=\"#000000\" fill-rule=\"nonzero\" fill-opacity=\"1\" /><path clip-path=\"url(#clip380)\" d=\"M54.7421 645.613 L62.381 645.613 L62.381 619.247 L54.0708 620.914 L54.0708 616.655 L62.3347 614.988 L67.0106 614.988 L67.0106 645.613 L74.6494 645.613 L74.6494 649.548 L54.7421 649.548 L54.7421 645.613 Z\" fill=\"#000000\" fill-rule=\"nonzero\" fill-opacity=\"1\" /><path clip-path=\"url(#clip380)\" d=\"M84.0938 643.668 L88.978 643.668 L88.978 649.548 L84.0938 649.548 L84.0938 643.668 Z\" fill=\"#000000\" fill-rule=\"nonzero\" fill-opacity=\"1\" /><path clip-path=\"url(#clip380)\" d=\"M99.2095 614.988 L117.566 614.988 L117.566 618.923 L103.492 618.923 L103.492 627.395 Q104.51 627.048 105.529 626.886 Q106.547 626.701 107.566 626.701 Q113.353 626.701 116.733 629.872 Q120.112 633.043 120.112 638.46 Q120.112 644.039 116.64 647.14 Q113.168 650.219 106.848 650.219 Q104.672 650.219 102.404 649.849 Q100.159 649.478 97.7511 648.738 L97.7511 644.039 Q99.8345 645.173 102.057 645.728 Q104.279 646.284 106.756 646.284 Q110.76 646.284 113.098 644.178 Q115.436 642.071 115.436 638.46 Q115.436 634.849 113.098 632.742 Q110.76 630.636 106.756 630.636 Q104.881 630.636 103.006 631.053 Q101.154 631.469 99.2095 632.349 L99.2095 614.988 Z\" fill=\"#000000\" fill-rule=\"nonzero\" fill-opacity=\"1\" /><path clip-path=\"url(#clip380)\" d=\"M56.9643 472.921 L73.2837 472.921 L73.2837 476.856 L51.3393 476.856 L51.3393 472.921 Q54.0014 470.166 58.5847 465.536 Q63.1911 460.884 64.3717 459.541 Q66.617 457.018 67.4967 455.282 Q68.3994 453.523 68.3994 451.833 Q68.3994 449.078 66.455 447.342 Q64.5337 445.606 61.4319 445.606 Q59.2328 445.606 56.7791 446.37 Q54.3486 447.134 51.5708 448.685 L51.5708 443.962 Q54.3949 442.828 56.8486 442.249 Q59.3023 441.671 61.3393 441.671 Q66.7096 441.671 69.9041 444.356 Q73.0985 447.041 73.0985 451.532 Q73.0985 453.661 72.2883 455.583 Q71.5013 457.481 69.3948 460.073 Q68.8161 460.745 65.7143 463.962 Q62.6124 467.157 56.9643 472.921 Z\" fill=\"#000000\" fill-rule=\"nonzero\" fill-opacity=\"1\" /><path clip-path=\"url(#clip380)\" d=\"M83.0984 470.976 L87.9827 470.976 L87.9827 476.856 L83.0984 476.856 L83.0984 470.976 Z\" fill=\"#000000\" fill-rule=\"nonzero\" fill-opacity=\"1\" /><path clip-path=\"url(#clip380)\" d=\"M108.168 445.374 Q104.557 445.374 102.728 448.939 Q100.922 452.481 100.922 459.61 Q100.922 466.717 102.728 470.282 Q104.557 473.823 108.168 473.823 Q111.802 473.823 113.608 470.282 Q115.436 466.717 115.436 459.61 Q115.436 452.481 113.608 448.939 Q111.802 445.374 108.168 445.374 M108.168 441.671 Q113.978 441.671 117.033 446.277 Q120.112 450.861 120.112 459.61 Q120.112 468.337 117.033 472.944 Q113.978 477.527 108.168 477.527 Q102.358 477.527 99.2789 472.944 Q96.2234 468.337 96.2234 459.61 Q96.2234 450.861 99.2789 446.277 Q102.358 441.671 108.168 441.671 Z\" fill=\"#000000\" fill-rule=\"nonzero\" fill-opacity=\"1\" /><path clip-path=\"url(#clip380)\" d=\"M57.9597 300.228 L74.279 300.228 L74.279 304.164 L52.3347 304.164 L52.3347 300.228 Q54.9967 297.474 59.58 292.844 Q64.1865 288.192 65.367 286.849 Q67.6124 284.326 68.492 282.59 Q69.3948 280.83 69.3948 279.141 Q69.3948 276.386 67.4504 274.65 Q65.5291 272.914 62.4272 272.914 Q60.2282 272.914 57.7745 273.678 Q55.344 274.442 52.5662 275.992 L52.5662 271.27 Q55.3903 270.136 57.8439 269.557 Q60.2976 268.979 62.3347 268.979 Q67.705 268.979 70.8994 271.664 Q74.0939 274.349 74.0939 278.84 Q74.0939 280.969 73.2837 282.891 Q72.4966 284.789 70.3902 287.381 Q69.8115 288.053 66.7096 291.27 Q63.6078 294.465 57.9597 300.228 Z\" fill=\"#000000\" fill-rule=\"nonzero\" fill-opacity=\"1\" /><path clip-path=\"url(#clip380)\" d=\"M84.0938 298.284 L88.978 298.284 L88.978 304.164 L84.0938 304.164 L84.0938 298.284 Z\" fill=\"#000000\" fill-rule=\"nonzero\" fill-opacity=\"1\" /><path clip-path=\"url(#clip380)\" d=\"M99.2095 269.604 L117.566 269.604 L117.566 273.539 L103.492 273.539 L103.492 282.011 Q104.51 281.664 105.529 281.502 Q106.547 281.317 107.566 281.317 Q113.353 281.317 116.733 284.488 Q120.112 287.659 120.112 293.076 Q120.112 298.654 116.64 301.756 Q113.168 304.835 106.848 304.835 Q104.672 304.835 102.404 304.465 Q100.159 304.094 97.7511 303.353 L97.7511 298.654 Q99.8345 299.789 102.057 300.344 Q104.279 300.9 106.756 300.9 Q110.76 300.9 113.098 298.793 Q115.436 296.687 115.436 293.076 Q115.436 289.465 113.098 287.358 Q110.76 285.252 106.756 285.252 Q104.881 285.252 103.006 285.668 Q101.154 286.085 99.2095 286.965 L99.2095 269.604 Z\" fill=\"#000000\" fill-rule=\"nonzero\" fill-opacity=\"1\" /><path clip-path=\"url(#clip380)\" d=\"M379.884 18.8205 L379.884 65.8515 L389.769 65.8515 Q402.286 65.8515 408.079 60.1802 Q413.912 54.509 413.912 42.2752 Q413.912 30.1225 408.079 24.4918 Q402.286 18.8205 389.769 18.8205 L379.884 18.8205 M371.701 12.096 L388.513 12.096 Q406.094 12.096 414.317 19.4281 Q422.54 26.7198 422.54 42.2752 Q422.54 57.9117 414.276 65.2439 Q406.013 72.576 388.513 72.576 L371.701 72.576 L371.701 12.096 Z\" fill=\"#000000\" fill-rule=\"nonzero\" fill-opacity=\"1\" /><path clip-path=\"url(#clip380)\" d=\"M454.34 20.1573 L443.24 50.2555 L465.48 50.2555 L454.34 20.1573 M449.722 12.096 L458.998 12.096 L482.048 72.576 L473.541 72.576 L468.032 57.061 L440.769 57.061 L435.26 72.576 L426.632 72.576 L449.722 12.096 Z\" fill=\"#000000\" fill-rule=\"nonzero\" fill-opacity=\"1\" /><path clip-path=\"url(#clip380)\" d=\"M530.659 63.9476 L530.659 47.7034 L517.291 47.7034 L517.291 40.9789 L538.761 40.9789 L538.761 66.9452 Q534.021 70.3075 528.309 72.0494 Q522.598 73.7508 516.116 73.7508 Q501.938 73.7508 493.917 65.4869 Q485.937 57.1826 485.937 42.3968 Q485.937 27.5705 493.917 19.3066 Q501.938 11.0023 516.116 11.0023 Q522.031 11.0023 527.337 12.4606 Q532.684 13.9189 537.181 16.7545 L537.181 25.464 Q532.644 21.6156 527.54 19.6712 Q522.436 17.7268 516.805 17.7268 Q505.705 17.7268 500.115 23.9246 Q494.565 30.1225 494.565 42.3968 Q494.565 54.6305 500.115 60.8284 Q505.705 67.0263 516.805 67.0263 Q521.139 67.0263 524.542 66.2971 Q527.945 65.5274 530.659 63.9476 Z\" fill=\"#000000\" fill-rule=\"nonzero\" fill-opacity=\"1\" /><path clip-path=\"url(#clip380)\" d=\"M602.725 9.54393 L602.725 15.7418 L595.595 15.7418 Q591.585 15.7418 590.005 17.3622 Q588.465 18.9825 588.465 23.1955 L588.465 27.2059 L600.74 27.2059 L600.74 32.9987 L588.465 32.9987 L588.465 72.576 L580.971 72.576 L580.971 32.9987 L573.842 32.9987 L573.842 27.2059 L580.971 27.2059 L580.971 24.0462 Q580.971 16.471 584.495 13.0277 Q588.02 9.54393 595.676 9.54393 L602.725 9.54393 Z\" fill=\"#000000\" fill-rule=\"nonzero\" fill-opacity=\"1\" /><path clip-path=\"url(#clip380)\" d=\"M626.544 32.4315 Q620.549 32.4315 617.065 37.1306 Q613.581 41.7891 613.581 49.9314 Q613.581 58.0738 617.024 62.7728 Q620.508 67.4314 626.544 67.4314 Q632.499 67.4314 635.982 62.7323 Q639.466 58.0333 639.466 49.9314 Q639.466 41.8701 635.982 37.1711 Q632.499 32.4315 626.544 32.4315 M626.544 26.1121 Q636.266 26.1121 641.816 32.4315 Q647.366 38.7509 647.366 49.9314 Q647.366 61.0714 641.816 67.4314 Q636.266 73.7508 626.544 73.7508 Q616.781 73.7508 611.231 67.4314 Q605.722 61.0714 605.722 49.9314 Q605.722 38.7509 611.231 32.4315 Q616.781 26.1121 626.544 26.1121 Z\" fill=\"#000000\" fill-rule=\"nonzero\" fill-opacity=\"1\" /><path clip-path=\"url(#clip380)\" d=\"M686.011 34.1734 Q684.755 33.4443 683.257 33.1202 Q681.798 32.7556 680.016 32.7556 Q673.696 32.7556 670.294 36.8875 Q666.931 40.9789 666.931 48.6757 L666.931 72.576 L659.437 72.576 L659.437 27.2059 L666.931 27.2059 L666.931 34.2544 Q669.281 30.1225 673.048 28.1376 Q676.816 26.1121 682.203 26.1121 Q682.973 26.1121 683.905 26.2337 Q684.836 26.3147 685.971 26.5172 L686.011 34.1734 Z\" fill=\"#000000\" fill-rule=\"nonzero\" fill-opacity=\"1\" /><path clip-path=\"url(#clip380)\" d=\"M728.708 43.6931 L728.708 65.8515 L741.833 65.8515 Q748.436 65.8515 751.595 63.1374 Q754.795 60.3828 754.795 54.752 Q754.795 49.0808 751.595 46.4072 Q748.436 43.6931 741.833 43.6931 L728.708 43.6931 M728.708 18.8205 L728.708 37.0496 L740.82 37.0496 Q746.815 37.0496 749.732 34.8216 Q752.689 32.5531 752.689 27.935 Q752.689 23.3575 749.732 21.089 Q746.815 18.8205 740.82 18.8205 L728.708 18.8205 M720.525 12.096 L741.428 12.096 Q750.785 12.096 755.849 15.9849 Q760.912 19.8737 760.912 27.0438 Q760.912 32.5936 758.32 35.8748 Q755.727 39.156 750.704 39.9662 Q756.74 41.2625 760.062 45.3944 Q763.424 49.4858 763.424 55.6432 Q763.424 63.745 757.915 68.1605 Q752.405 72.576 742.238 72.576 L720.525 72.576 L720.525 12.096 Z\" fill=\"#000000\" fill-rule=\"nonzero\" fill-opacity=\"1\" /><path clip-path=\"url(#clip380)\" d=\"M803.406 34.1734 Q802.151 33.4443 800.652 33.1202 Q799.193 32.7556 797.411 32.7556 Q791.092 32.7556 787.689 36.8875 Q784.327 40.9789 784.327 48.6757 L784.327 72.576 L776.832 72.576 L776.832 27.2059 L784.327 27.2059 L784.327 34.2544 Q786.676 30.1225 790.443 28.1376 Q794.211 26.1121 799.598 26.1121 Q800.368 26.1121 801.3 26.2337 Q802.232 26.3147 803.366 26.5172 L803.406 34.1734 Z\" fill=\"#000000\" fill-rule=\"nonzero\" fill-opacity=\"1\" /><path clip-path=\"url(#clip380)\" d=\"M848.209 48.0275 L848.209 51.6733 L813.939 51.6733 Q814.425 59.3701 818.557 63.421 Q822.729 67.4314 830.142 67.4314 Q834.436 67.4314 838.447 66.3781 Q842.498 65.3249 846.467 63.2184 L846.467 70.267 Q842.457 71.9684 838.244 72.8596 Q834.031 73.7508 829.697 73.7508 Q818.84 73.7508 812.48 67.4314 Q806.161 61.1119 806.161 50.3365 Q806.161 39.1965 812.156 32.6746 Q818.192 26.1121 828.4 26.1121 Q837.555 26.1121 842.862 32.0264 Q848.209 37.9003 848.209 48.0275 M840.756 45.84 Q840.675 39.7232 837.312 36.0774 Q833.991 32.4315 828.481 32.4315 Q822.243 32.4315 818.476 35.9558 Q814.749 39.4801 814.182 45.8805 L840.756 45.84 Z\" fill=\"#000000\" fill-rule=\"nonzero\" fill-opacity=\"1\" /><path clip-path=\"url(#clip380)\" d=\"M881.062 49.7694 Q872.029 49.7694 868.545 51.8354 Q865.061 53.9013 865.061 58.8839 Q865.061 62.8538 867.654 65.2034 Q870.287 67.5124 874.783 67.5124 Q880.981 67.5124 884.708 63.1374 Q888.475 58.7219 888.475 51.4303 L888.475 49.7694 L881.062 49.7694 M895.929 46.6907 L895.929 72.576 L888.475 72.576 L888.475 65.6895 Q885.923 69.8214 882.115 71.8063 Q878.308 73.7508 872.798 73.7508 Q865.831 73.7508 861.699 69.8619 Q857.607 65.9325 857.607 59.3701 Q857.607 51.7138 862.712 47.825 Q867.856 43.9361 878.024 43.9361 L888.475 43.9361 L888.475 43.2069 Q888.475 38.0623 885.073 35.2672 Q881.71 32.4315 875.593 32.4315 Q871.705 32.4315 868.018 33.3632 Q864.332 34.295 860.929 36.1584 L860.929 29.2718 Q865.021 27.692 868.869 26.9223 Q872.717 26.1121 876.363 26.1121 Q886.207 26.1121 891.068 31.2163 Q895.929 36.3204 895.929 46.6907 Z\" fill=\"#000000\" fill-rule=\"nonzero\" fill-opacity=\"1\" /><path clip-path=\"url(#clip380)\" d=\"M940.205 28.5427 L940.205 35.5912 Q937.046 33.9709 933.643 33.1607 Q930.24 32.3505 926.594 32.3505 Q921.045 32.3505 918.249 34.0519 Q915.495 35.7533 915.495 39.156 Q915.495 41.7486 917.48 43.2475 Q919.465 44.7058 925.46 46.0426 L928.012 46.6097 Q935.952 48.3111 939.274 51.4303 Q942.636 54.509 942.636 60.0587 Q942.636 66.3781 937.613 70.0644 Q932.63 73.7508 923.88 73.7508 Q920.234 73.7508 916.265 73.0216 Q912.335 72.3329 907.96 70.9151 L907.96 63.2184 Q912.092 65.3654 916.102 66.4591 Q920.113 67.5124 924.042 67.5124 Q929.308 67.5124 932.144 65.73 Q934.98 63.9071 934.98 60.6258 Q934.98 57.5877 932.914 55.9673 Q930.888 54.3469 923.961 52.8481 L921.369 52.2405 Q914.442 50.7821 911.363 47.7845 Q908.284 44.7463 908.284 39.4801 Q908.284 33.0797 912.821 29.5959 Q917.358 26.1121 925.703 26.1121 Q929.835 26.1121 933.481 26.7198 Q937.127 27.3274 940.205 28.5427 Z\" fill=\"#000000\" fill-rule=\"nonzero\" fill-opacity=\"1\" /><path clip-path=\"url(#clip380)\" d=\"M961.878 14.324 L961.878 27.2059 L977.231 27.2059 L977.231 32.9987 L961.878 32.9987 L961.878 57.6282 Q961.878 63.1779 963.377 64.7578 Q964.916 66.3376 969.574 66.3376 L977.231 66.3376 L977.231 72.576 L969.574 72.576 Q960.946 72.576 957.665 69.3758 Q954.384 66.1351 954.384 57.6282 L954.384 32.9987 L948.915 32.9987 L948.915 27.2059 L954.384 27.2059 L954.384 14.324 L961.878 14.324 Z\" fill=\"#000000\" fill-rule=\"nonzero\" fill-opacity=\"1\" /><path clip-path=\"url(#clip380)\" d=\"M1010 9.54393 L1010 15.7418 L1002.87 15.7418 Q998.862 15.7418 997.283 17.3622 Q995.743 18.9825 995.743 23.1955 L995.743 27.2059 L1008.02 27.2059 L1008.02 32.9987 L995.743 32.9987 L995.743 72.576 L988.249 72.576 L988.249 32.9987 L981.12 32.9987 L981.12 27.2059 L988.249 27.2059 L988.249 24.0462 Q988.249 16.471 991.773 13.0277 Q995.298 9.54393 1002.95 9.54393 L1010 9.54393 Z\" fill=\"#000000\" fill-rule=\"nonzero\" fill-opacity=\"1\" /><path clip-path=\"url(#clip380)\" d=\"M1055.05 48.0275 L1055.05 51.6733 L1020.78 51.6733 Q1021.26 59.3701 1025.4 63.421 Q1029.57 67.4314 1036.98 67.4314 Q1041.28 67.4314 1045.29 66.3781 Q1049.34 65.3249 1053.31 63.2184 L1053.31 70.267 Q1049.3 71.9684 1045.08 72.8596 Q1040.87 73.7508 1036.54 73.7508 Q1025.68 73.7508 1019.32 67.4314 Q1013 61.1119 1013 50.3365 Q1013 39.1965 1019 32.6746 Q1025.03 26.1121 1035.24 26.1121 Q1044.39 26.1121 1049.7 32.0264 Q1055.05 37.9003 1055.05 48.0275 M1047.59 45.84 Q1047.51 39.7232 1044.15 36.0774 Q1040.83 32.4315 1035.32 32.4315 Q1029.08 32.4315 1025.31 35.9558 Q1021.59 39.4801 1021.02 45.8805 L1047.59 45.84 Z\" fill=\"#000000\" fill-rule=\"nonzero\" fill-opacity=\"1\" /><path clip-path=\"url(#clip380)\" d=\"M1106.09 48.0275 L1106.09 51.6733 L1071.82 51.6733 Q1072.31 59.3701 1076.44 63.421 Q1080.61 67.4314 1088.02 67.4314 Q1092.32 67.4314 1096.33 66.3781 Q1100.38 65.3249 1104.35 63.2184 L1104.35 70.267 Q1100.34 71.9684 1096.12 72.8596 Q1091.91 73.7508 1087.58 73.7508 Q1076.72 73.7508 1070.36 67.4314 Q1064.04 61.1119 1064.04 50.3365 Q1064.04 39.1965 1070.04 32.6746 Q1076.07 26.1121 1086.28 26.1121 Q1095.44 26.1121 1100.74 32.0264 Q1106.09 37.9003 1106.09 48.0275 M1098.64 45.84 Q1098.56 39.7232 1095.19 36.0774 Q1091.87 32.4315 1086.36 32.4315 Q1080.12 32.4315 1076.36 35.9558 Q1072.63 39.4801 1072.06 45.8805 L1098.64 45.84 Z\" fill=\"#000000\" fill-rule=\"nonzero\" fill-opacity=\"1\" /><path clip-path=\"url(#clip380)\" d=\"M1148.18 34.0924 L1148.18 9.54393 L1155.63 9.54393 L1155.63 72.576 L1148.18 72.576 L1148.18 65.7705 Q1145.83 69.8214 1142.22 71.8063 Q1138.66 73.7508 1133.64 73.7508 Q1125.41 73.7508 1120.23 67.1883 Q1115.08 60.6258 1115.08 49.9314 Q1115.08 39.2371 1120.23 32.6746 Q1125.41 26.1121 1133.64 26.1121 Q1138.66 26.1121 1142.22 28.0971 Q1145.83 30.0415 1148.18 34.0924 M1122.78 49.9314 Q1122.78 58.1548 1126.14 62.8538 Q1129.54 67.5124 1135.46 67.5124 Q1141.37 67.5124 1144.78 62.8538 Q1148.18 58.1548 1148.18 49.9314 Q1148.18 41.7081 1144.78 37.0496 Q1141.37 32.3505 1135.46 32.3505 Q1129.54 32.3505 1126.14 37.0496 Q1122.78 41.7081 1122.78 49.9314 Z\" fill=\"#000000\" fill-rule=\"nonzero\" fill-opacity=\"1\" /><path clip-path=\"url(#clip380)\" d=\"M1170.99 27.2059 L1178.44 27.2059 L1178.44 72.576 L1170.99 72.576 L1170.99 27.2059 M1170.99 9.54393 L1178.44 9.54393 L1178.44 18.9825 L1170.99 18.9825 L1170.99 9.54393 Z\" fill=\"#000000\" fill-rule=\"nonzero\" fill-opacity=\"1\" /><path clip-path=\"url(#clip380)\" d=\"M1231.75 45.1919 L1231.75 72.576 L1224.3 72.576 L1224.3 45.4349 Q1224.3 38.994 1221.78 35.7938 Q1219.27 32.5936 1214.25 32.5936 Q1208.21 32.5936 1204.73 36.4419 Q1201.25 40.2903 1201.25 46.9338 L1201.25 72.576 L1193.75 72.576 L1193.75 27.2059 L1201.25 27.2059 L1201.25 34.2544 Q1203.92 30.163 1207.52 28.1376 Q1211.17 26.1121 1215.91 26.1121 Q1223.73 26.1121 1227.74 30.9732 Q1231.75 35.7938 1231.75 45.1919 Z\" fill=\"#000000\" fill-rule=\"nonzero\" fill-opacity=\"1\" /><path clip-path=\"url(#clip380)\" d=\"M1276.47 49.3643 Q1276.47 41.2625 1273.11 36.8065 Q1269.79 32.3505 1263.75 32.3505 Q1257.76 32.3505 1254.39 36.8065 Q1251.07 41.2625 1251.07 49.3643 Q1251.07 57.4256 1254.39 61.8816 Q1257.76 66.3376 1263.75 66.3376 Q1269.79 66.3376 1273.11 61.8816 Q1276.47 57.4256 1276.47 49.3643 M1283.92 66.9452 Q1283.92 78.5308 1278.78 84.1616 Q1273.64 89.8329 1263.02 89.8329 Q1259.09 89.8329 1255.61 89.2252 Q1252.13 88.6581 1248.84 87.4428 L1248.84 80.1917 Q1252.13 81.9741 1255.33 82.8248 Q1258.53 83.6755 1261.85 83.6755 Q1269.18 83.6755 1272.83 79.8271 Q1276.47 76.0193 1276.47 68.282 L1276.47 64.5957 Q1274.16 68.6061 1270.56 70.5911 Q1266.95 72.576 1261.93 72.576 Q1253.58 72.576 1248.48 66.2161 Q1243.38 59.8562 1243.38 49.3643 Q1243.38 38.832 1248.48 32.472 Q1253.58 26.1121 1261.93 26.1121 Q1266.95 26.1121 1270.56 28.0971 Q1274.16 30.082 1276.47 34.0924 L1276.47 27.2059 L1283.92 27.2059 L1283.92 66.9452 Z\" fill=\"#000000\" fill-rule=\"nonzero\" fill-opacity=\"1\" /><path clip-path=\"url(#clip380)\" d=\"M1346.27 49.7694 Q1337.23 49.7694 1333.75 51.8354 Q1330.27 53.9013 1330.27 58.8839 Q1330.27 62.8538 1332.86 65.2034 Q1335.49 67.5124 1339.99 67.5124 Q1346.19 67.5124 1349.91 63.1374 Q1353.68 58.7219 1353.68 51.4303 L1353.68 49.7694 L1346.27 49.7694 M1361.13 46.6907 L1361.13 72.576 L1353.68 72.576 L1353.68 65.6895 Q1351.13 69.8214 1347.32 71.8063 Q1343.51 73.7508 1338 73.7508 Q1331.04 73.7508 1326.9 69.8619 Q1322.81 65.9325 1322.81 59.3701 Q1322.81 51.7138 1327.92 47.825 Q1333.06 43.9361 1343.23 43.9361 L1353.68 43.9361 L1353.68 43.2069 Q1353.68 38.0623 1350.28 35.2672 Q1346.92 32.4315 1340.8 32.4315 Q1336.91 32.4315 1333.22 33.3632 Q1329.54 34.295 1326.14 36.1584 L1326.14 29.2718 Q1330.23 27.692 1334.07 26.9223 Q1337.92 26.1121 1341.57 26.1121 Q1351.41 26.1121 1356.27 31.2163 Q1361.13 36.3204 1361.13 46.6907 Z\" fill=\"#000000\" fill-rule=\"nonzero\" fill-opacity=\"1\" /><path clip-path=\"url(#clip380)\" d=\"M1414.2 45.1919 L1414.2 72.576 L1406.75 72.576 L1406.75 45.4349 Q1406.75 38.994 1404.24 35.7938 Q1401.72 32.5936 1396.7 32.5936 Q1390.67 32.5936 1387.18 36.4419 Q1383.7 40.2903 1383.7 46.9338 L1383.7 72.576 L1376.2 72.576 L1376.2 27.2059 L1383.7 27.2059 L1383.7 34.2544 Q1386.37 30.163 1389.98 28.1376 Q1393.62 26.1121 1398.36 26.1121 Q1406.18 26.1121 1410.19 30.9732 Q1414.2 35.7938 1414.2 45.1919 Z\" fill=\"#000000\" fill-rule=\"nonzero\" fill-opacity=\"1\" /><path clip-path=\"url(#clip380)\" d=\"M1458.92 34.0924 L1458.92 9.54393 L1466.38 9.54393 L1466.38 72.576 L1458.92 72.576 L1458.92 65.7705 Q1456.57 69.8214 1452.97 71.8063 Q1449.4 73.7508 1444.38 73.7508 Q1436.16 73.7508 1430.97 67.1883 Q1425.83 60.6258 1425.83 49.9314 Q1425.83 39.2371 1430.97 32.6746 Q1436.16 26.1121 1444.38 26.1121 Q1449.4 26.1121 1452.97 28.0971 Q1456.57 30.0415 1458.92 34.0924 M1433.52 49.9314 Q1433.52 58.1548 1436.89 62.8538 Q1440.29 67.5124 1446.2 67.5124 Q1452.12 67.5124 1455.52 62.8538 Q1458.92 58.1548 1458.92 49.9314 Q1458.92 41.7081 1455.52 37.0496 Q1452.12 32.3505 1446.2 32.3505 Q1440.29 32.3505 1436.89 37.0496 Q1433.52 41.7081 1433.52 49.9314 Z\" fill=\"#000000\" fill-rule=\"nonzero\" fill-opacity=\"1\" /><path clip-path=\"url(#clip380)\" d=\"M1516.61 43.6931 L1516.61 65.8515 L1529.73 65.8515 Q1536.34 65.8515 1539.5 63.1374 Q1542.7 60.3828 1542.7 54.752 Q1542.7 49.0808 1539.5 46.4072 Q1536.34 43.6931 1529.73 43.6931 L1516.61 43.6931 M1516.61 18.8205 L1516.61 37.0496 L1528.72 37.0496 Q1534.72 37.0496 1537.63 34.8216 Q1540.59 32.5531 1540.59 27.935 Q1540.59 23.3575 1537.63 21.089 Q1534.72 18.8205 1528.72 18.8205 L1516.61 18.8205 M1508.43 12.096 L1529.33 12.096 Q1538.69 12.096 1543.75 15.9849 Q1548.81 19.8737 1548.81 27.0438 Q1548.81 32.5936 1546.22 35.8748 Q1543.63 39.156 1538.6 39.9662 Q1544.64 41.2625 1547.96 45.3944 Q1551.32 49.4858 1551.32 55.6432 Q1551.32 63.745 1545.82 68.1605 Q1540.31 72.576 1530.14 72.576 L1508.43 72.576 L1508.43 12.096 Z\" fill=\"#000000\" fill-rule=\"nonzero\" fill-opacity=\"1\" /><path clip-path=\"url(#clip380)\" d=\"M1585.64 49.7694 Q1576.6 49.7694 1573.12 51.8354 Q1569.63 53.9013 1569.63 58.8839 Q1569.63 62.8538 1572.23 65.2034 Q1574.86 67.5124 1579.36 67.5124 Q1585.55 67.5124 1589.28 63.1374 Q1593.05 58.7219 1593.05 51.4303 L1593.05 49.7694 L1585.64 49.7694 M1600.5 46.6907 L1600.5 72.576 L1593.05 72.576 L1593.05 65.6895 Q1590.5 69.8214 1586.69 71.8063 Q1582.88 73.7508 1577.37 73.7508 Q1570.4 73.7508 1566.27 69.8619 Q1562.18 65.9325 1562.18 59.3701 Q1562.18 51.7138 1567.29 47.825 Q1572.43 43.9361 1582.6 43.9361 L1593.05 43.9361 L1593.05 43.2069 Q1593.05 38.0623 1589.65 35.2672 Q1586.28 32.4315 1580.17 32.4315 Q1576.28 32.4315 1572.59 33.3632 Q1568.91 34.295 1565.5 36.1584 L1565.5 29.2718 Q1569.59 27.692 1573.44 26.9223 Q1577.29 26.1121 1580.94 26.1121 Q1590.78 26.1121 1595.64 31.2163 Q1600.5 36.3204 1600.5 46.6907 Z\" fill=\"#000000\" fill-rule=\"nonzero\" fill-opacity=\"1\" /><path clip-path=\"url(#clip380)\" d=\"M1648.42 49.9314 Q1648.42 41.7081 1645.02 37.0496 Q1641.66 32.3505 1635.75 32.3505 Q1629.83 32.3505 1626.43 37.0496 Q1623.07 41.7081 1623.07 49.9314 Q1623.07 58.1548 1626.43 62.8538 Q1629.83 67.5124 1635.75 67.5124 Q1641.66 67.5124 1645.02 62.8538 Q1648.42 58.1548 1648.42 49.9314 M1623.07 34.0924 Q1625.42 30.0415 1628.98 28.0971 Q1632.59 26.1121 1637.57 26.1121 Q1645.83 26.1121 1650.98 32.6746 Q1656.16 39.2371 1656.16 49.9314 Q1656.16 60.6258 1650.98 67.1883 Q1645.83 73.7508 1637.57 73.7508 Q1632.59 73.7508 1628.98 71.8063 Q1625.42 69.8214 1623.07 65.7705 L1623.07 72.576 L1615.57 72.576 L1615.57 9.54393 L1623.07 9.54393 L1623.07 34.0924 Z\" fill=\"#000000\" fill-rule=\"nonzero\" fill-opacity=\"1\" /><path clip-path=\"url(#clip380)\" d=\"M1687.39 76.7889 Q1684.23 84.8907 1681.24 87.3618 Q1678.24 89.8329 1673.22 89.8329 L1667.26 89.8329 L1667.26 83.5945 L1671.64 83.5945 Q1674.72 83.5945 1676.42 82.1361 Q1678.12 80.6778 1680.18 75.2496 L1681.52 71.8468 L1663.17 27.2059 L1671.07 27.2059 L1685.25 62.6918 L1699.43 27.2059 L1707.33 27.2059 L1687.39 76.7889 Z\" fill=\"#000000\" fill-rule=\"nonzero\" fill-opacity=\"1\" /><path clip-path=\"url(#clip380)\" d=\"M1744.31 12.096 L1752.49 12.096 L1752.49 72.576 L1744.31 72.576 L1744.31 12.096 Z\" fill=\"#000000\" fill-rule=\"nonzero\" fill-opacity=\"1\" /><path clip-path=\"url(#clip380)\" d=\"M1806.17 45.1919 L1806.17 72.576 L1798.71 72.576 L1798.71 45.4349 Q1798.71 38.994 1796.2 35.7938 Q1793.69 32.5936 1788.67 32.5936 Q1782.63 32.5936 1779.15 36.4419 Q1775.66 40.2903 1775.66 46.9338 L1775.66 72.576 L1768.17 72.576 L1768.17 27.2059 L1775.66 27.2059 L1775.66 34.2544 Q1778.34 30.163 1781.94 28.1376 Q1785.59 26.1121 1790.33 26.1121 Q1798.15 26.1121 1802.16 30.9732 Q1806.17 35.7938 1806.17 45.1919 Z\" fill=\"#000000\" fill-rule=\"nonzero\" fill-opacity=\"1\" /><path clip-path=\"url(#clip380)\" d=\"M1844 9.54393 L1844 15.7418 L1836.87 15.7418 Q1832.86 15.7418 1831.28 17.3622 Q1829.74 18.9825 1829.74 23.1955 L1829.74 27.2059 L1842.02 27.2059 L1842.02 32.9987 L1829.74 32.9987 L1829.74 72.576 L1822.25 72.576 L1822.25 32.9987 L1815.12 32.9987 L1815.12 27.2059 L1822.25 27.2059 L1822.25 24.0462 Q1822.25 16.471 1825.77 13.0277 Q1829.3 9.54393 1836.95 9.54393 L1844 9.54393 Z\" fill=\"#000000\" fill-rule=\"nonzero\" fill-opacity=\"1\" /><path clip-path=\"url(#clip380)\" d=\"M1889.05 48.0275 L1889.05 51.6733 L1854.78 51.6733 Q1855.26 59.3701 1859.4 63.421 Q1863.57 67.4314 1870.98 67.4314 Q1875.28 67.4314 1879.29 66.3781 Q1883.34 65.3249 1887.31 63.2184 L1887.31 70.267 Q1883.3 71.9684 1879.08 72.8596 Q1874.87 73.7508 1870.54 73.7508 Q1859.68 73.7508 1853.32 67.4314 Q1847 61.1119 1847 50.3365 Q1847 39.1965 1853 32.6746 Q1859.03 26.1121 1869.24 26.1121 Q1878.39 26.1121 1883.7 32.0264 Q1889.05 37.9003 1889.05 48.0275 M1881.6 45.84 Q1881.51 39.7232 1878.15 36.0774 Q1874.83 32.4315 1869.32 32.4315 Q1863.08 32.4315 1859.32 35.9558 Q1855.59 39.4801 1855.02 45.8805 L1881.6 45.84 Z\" fill=\"#000000\" fill-rule=\"nonzero\" fill-opacity=\"1\" /><path clip-path=\"url(#clip380)\" d=\"M1933.93 28.9478 L1933.93 35.9153 Q1930.77 34.1734 1927.57 33.3227 Q1924.41 32.4315 1921.17 32.4315 Q1913.92 32.4315 1909.91 37.0496 Q1905.9 41.6271 1905.9 49.9314 Q1905.9 58.2358 1909.91 62.8538 Q1913.92 67.4314 1921.17 67.4314 Q1924.41 67.4314 1927.57 66.5807 Q1930.77 65.6895 1933.93 63.9476 L1933.93 70.8341 Q1930.81 72.2924 1927.45 73.0216 Q1924.13 73.7508 1920.36 73.7508 Q1910.11 73.7508 1904.08 67.3098 Q1898.04 60.8689 1898.04 49.9314 Q1898.04 38.832 1904.12 32.472 Q1910.23 26.1121 1920.85 26.1121 Q1924.29 26.1121 1927.57 26.8413 Q1930.85 27.5299 1933.93 28.9478 Z\" fill=\"#000000\" fill-rule=\"nonzero\" fill-opacity=\"1\" /><path clip-path=\"url(#clip380)\" d=\"M1954.27 14.324 L1954.27 27.2059 L1969.62 27.2059 L1969.62 32.9987 L1954.27 32.9987 L1954.27 57.6282 Q1954.27 63.1779 1955.77 64.7578 Q1957.31 66.3376 1961.96 66.3376 L1969.62 66.3376 L1969.62 72.576 L1961.96 72.576 Q1953.34 72.576 1950.06 69.3758 Q1946.77 66.1351 1946.77 57.6282 L1946.77 32.9987 L1941.31 32.9987 L1941.31 27.2059 L1946.77 27.2059 L1946.77 14.324 L1954.27 14.324 Z\" fill=\"#000000\" fill-rule=\"nonzero\" fill-opacity=\"1\" /><path clip-path=\"url(#clip380)\" d=\"M1979.42 27.2059 L1986.88 27.2059 L1986.88 72.576 L1979.42 72.576 L1979.42 27.2059 M1979.42 9.54393 L1986.88 9.54393 L1986.88 18.9825 L1979.42 18.9825 L1979.42 9.54393 Z\" fill=\"#000000\" fill-rule=\"nonzero\" fill-opacity=\"1\" /><path clip-path=\"url(#clip380)\" d=\"M2020.05 32.4315 Q2014.06 32.4315 2010.58 37.1306 Q2007.09 41.7891 2007.09 49.9314 Q2007.09 58.0738 2010.54 62.7728 Q2014.02 67.4314 2020.05 67.4314 Q2026.01 67.4314 2029.49 62.7323 Q2032.98 58.0333 2032.98 49.9314 Q2032.98 41.8701 2029.49 37.1711 Q2026.01 32.4315 2020.05 32.4315 M2020.05 26.1121 Q2029.78 26.1121 2035.33 32.4315 Q2040.88 38.7509 2040.88 49.9314 Q2040.88 61.0714 2035.33 67.4314 Q2029.78 73.7508 2020.05 73.7508 Q2010.29 73.7508 2004.74 67.4314 Q1999.23 61.0714 1999.23 49.9314 Q1999.23 38.7509 2004.74 32.4315 Q2010.29 26.1121 2020.05 26.1121 Z\" fill=\"#000000\" fill-rule=\"nonzero\" fill-opacity=\"1\" /><path clip-path=\"url(#clip380)\" d=\"M2090.95 45.1919 L2090.95 72.576 L2083.49 72.576 L2083.49 45.4349 Q2083.49 38.994 2080.98 35.7938 Q2078.47 32.5936 2073.45 32.5936 Q2067.41 32.5936 2063.93 36.4419 Q2060.44 40.2903 2060.44 46.9338 L2060.44 72.576 L2052.95 72.576 L2052.95 27.2059 L2060.44 27.2059 L2060.44 34.2544 Q2063.12 30.163 2066.72 28.1376 Q2070.37 26.1121 2075.11 26.1121 Q2082.92 26.1121 2086.94 30.9732 Q2090.95 35.7938 2090.95 45.1919 Z\" fill=\"#000000\" fill-rule=\"nonzero\" fill-opacity=\"1\" /><path clip-path=\"url(#clip380)\" d=\"M2134.74 28.5427 L2134.74 35.5912 Q2131.58 33.9709 2128.17 33.1607 Q2124.77 32.3505 2121.12 32.3505 Q2115.58 32.3505 2112.78 34.0519 Q2110.03 35.7533 2110.03 39.156 Q2110.03 41.7486 2112.01 43.2475 Q2114 44.7058 2119.99 46.0426 L2122.54 46.6097 Q2130.48 48.3111 2133.8 51.4303 Q2137.17 54.509 2137.17 60.0587 Q2137.17 66.3781 2132.14 70.0644 Q2127.16 73.7508 2118.41 73.7508 Q2114.77 73.7508 2110.8 73.0216 Q2106.87 72.3329 2102.49 70.9151 L2102.49 63.2184 Q2106.62 65.3654 2110.63 66.4591 Q2114.64 67.5124 2118.57 67.5124 Q2123.84 67.5124 2126.67 65.73 Q2129.51 63.9071 2129.51 60.6258 Q2129.51 57.5877 2127.44 55.9673 Q2125.42 54.3469 2118.49 52.8481 L2115.9 52.2405 Q2108.97 50.7821 2105.89 47.7845 Q2102.81 44.7463 2102.81 39.4801 Q2102.81 33.0797 2107.35 29.5959 Q2111.89 26.1121 2120.23 26.1121 Q2124.37 26.1121 2128.01 26.7198 Q2131.66 27.3274 2134.74 28.5427 Z\" fill=\"#000000\" fill-rule=\"nonzero\" fill-opacity=\"1\" /><circle clip-path=\"url(#clip382)\" cx=\"218.281\" cy=\"459.576\" r=\"54\" fill=\"#90ee90\" fill-rule=\"evenodd\" fill-opacity=\"1\" stroke=\"#000000\" stroke-opacity=\"1\" stroke-width=\"3.2\"/>\n",
       "<circle clip-path=\"url(#clip382)\" cx=\"218.281\" cy=\"804.96\" r=\"54\" fill=\"#90ee90\" fill-rule=\"evenodd\" fill-opacity=\"1\" stroke=\"#000000\" stroke-opacity=\"1\" stroke-width=\"3.2\"/>\n",
       "<circle clip-path=\"url(#clip382)\" cx=\"218.281\" cy=\"1150.34\" r=\"54\" fill=\"#90ee90\" fill-rule=\"evenodd\" fill-opacity=\"1\" stroke=\"#000000\" stroke-opacity=\"1\" stroke-width=\"3.2\"/>\n",
       "<circle clip-path=\"url(#clip382)\" cx=\"909.05\" cy=\"804.96\" r=\"54\" fill=\"#90ee90\" fill-rule=\"evenodd\" fill-opacity=\"1\" stroke=\"#000000\" stroke-opacity=\"1\" stroke-width=\"3.2\"/>\n",
       "<circle clip-path=\"url(#clip382)\" cx=\"1599.82\" cy=\"804.96\" r=\"54\" fill=\"#90ee90\" fill-rule=\"evenodd\" fill-opacity=\"1\" stroke=\"#000000\" stroke-opacity=\"1\" stroke-width=\"3.2\"/>\n",
       "<circle clip-path=\"url(#clip382)\" cx=\"1599.82\" cy=\"1150.34\" r=\"54\" fill=\"#90ee90\" fill-rule=\"evenodd\" fill-opacity=\"1\" stroke=\"#000000\" stroke-opacity=\"1\" stroke-width=\"3.2\"/>\n",
       "<circle clip-path=\"url(#clip382)\" cx=\"2290.59\" cy=\"804.96\" r=\"54\" fill=\"#90ee90\" fill-rule=\"evenodd\" fill-opacity=\"1\" stroke=\"#000000\" stroke-opacity=\"1\" stroke-width=\"3.2\"/>\n",
       "<polyline clip-path=\"url(#clip382)\" style=\"stroke:#000000; stroke-linecap:round; stroke-linejoin:round; stroke-width:4; stroke-opacity:1; fill:none\" points=\"218.281,459.576 1599.82,804.96 \"/>\n",
       "<polyline clip-path=\"url(#clip382)\" style=\"stroke:#000000; stroke-linecap:round; stroke-linejoin:round; stroke-width:4; stroke-opacity:1; fill:none\" points=\"1569.26,778.766 1599.82,804.96 1560.53,813.691 \"/>\n",
       "<polyline clip-path=\"url(#clip382)\" style=\"stroke:#000000; stroke-linecap:round; stroke-linejoin:round; stroke-width:4; stroke-opacity:1; fill:none\" points=\"1599.82,804.96 218.281,459.576 \"/>\n",
       "<polyline clip-path=\"url(#clip382)\" style=\"stroke:#000000; stroke-linecap:round; stroke-linejoin:round; stroke-width:4; stroke-opacity:1; fill:none\" points=\"218.281,804.96 1599.82,804.96 \"/>\n",
       "<polyline clip-path=\"url(#clip382)\" style=\"stroke:#000000; stroke-linecap:round; stroke-linejoin:round; stroke-width:4; stroke-opacity:1; fill:none\" points=\"1563.82,786.96 1599.82,804.96 1563.82,822.96 \"/>\n",
       "<polyline clip-path=\"url(#clip382)\" style=\"stroke:#000000; stroke-linecap:round; stroke-linejoin:round; stroke-width:4; stroke-opacity:1; fill:none\" points=\"1599.82,804.96 218.281,804.96 \"/>\n",
       "<polyline clip-path=\"url(#clip382)\" style=\"stroke:#000000; stroke-linecap:round; stroke-linejoin:round; stroke-width:4; stroke-opacity:1; fill:none\" points=\"218.281,1150.34 1599.82,804.96 \"/>\n",
       "<polyline clip-path=\"url(#clip382)\" style=\"stroke:#000000; stroke-linecap:round; stroke-linejoin:round; stroke-width:4; stroke-opacity:1; fill:none\" points=\"1560.53,796.229 1599.82,804.96 1569.26,831.154 \"/>\n",
       "<polyline clip-path=\"url(#clip382)\" style=\"stroke:#000000; stroke-linecap:round; stroke-linejoin:round; stroke-width:4; stroke-opacity:1; fill:none\" points=\"1599.82,804.96 218.281,1150.34 \"/>\n",
       "<polyline clip-path=\"url(#clip382)\" style=\"stroke:#000000; stroke-linecap:round; stroke-linejoin:round; stroke-width:4; stroke-opacity:1; fill:none\" points=\"909.05,804.96 1599.82,804.96 \"/>\n",
       "<polyline clip-path=\"url(#clip382)\" style=\"stroke:#000000; stroke-linecap:round; stroke-linejoin:round; stroke-width:4; stroke-opacity:1; fill:none\" points=\"1563.82,786.96 1599.82,804.96 1563.82,822.96 \"/>\n",
       "<polyline clip-path=\"url(#clip382)\" style=\"stroke:#000000; stroke-linecap:round; stroke-linejoin:round; stroke-width:4; stroke-opacity:1; fill:none\" points=\"1599.82,804.96 909.05,804.96 \"/>\n",
       "<polyline clip-path=\"url(#clip382)\" style=\"stroke:#000000; stroke-linecap:round; stroke-linejoin:round; stroke-width:4; stroke-opacity:1; fill:none\" points=\"218.281,459.576 909.05,804.96 \"/>\n",
       "<polyline clip-path=\"url(#clip382)\" style=\"stroke:#000000; stroke-linecap:round; stroke-linejoin:round; stroke-width:4; stroke-opacity:1; fill:none\" points=\"884.9,772.761 909.05,804.96 868.801,804.96 \"/>\n",
       "<polyline clip-path=\"url(#clip382)\" style=\"stroke:#000000; stroke-linecap:round; stroke-linejoin:round; stroke-width:4; stroke-opacity:1; fill:none\" points=\"909.05,804.96 218.281,459.576 \"/>\n",
       "<polyline clip-path=\"url(#clip382)\" style=\"stroke:#000000; stroke-linecap:round; stroke-linejoin:round; stroke-width:4; stroke-opacity:1; fill:none\" points=\"218.281,804.96 909.05,804.96 \"/>\n",
       "<polyline clip-path=\"url(#clip382)\" style=\"stroke:#000000; stroke-linecap:round; stroke-linejoin:round; stroke-width:4; stroke-opacity:1; fill:none\" points=\"873.05,786.96 909.05,804.96 873.05,822.96 \"/>\n",
       "<polyline clip-path=\"url(#clip382)\" style=\"stroke:#000000; stroke-linecap:round; stroke-linejoin:round; stroke-width:4; stroke-opacity:1; fill:none\" points=\"909.05,804.96 218.281,804.96 \"/>\n",
       "<polyline clip-path=\"url(#clip382)\" style=\"stroke:#000000; stroke-linecap:round; stroke-linejoin:round; stroke-width:4; stroke-opacity:1; fill:none\" points=\"218.281,1150.34 909.05,804.96 \"/>\n",
       "<polyline clip-path=\"url(#clip382)\" style=\"stroke:#000000; stroke-linecap:round; stroke-linejoin:round; stroke-width:4; stroke-opacity:1; fill:none\" points=\"868.801,804.96 909.05,804.96 884.9,837.159 \"/>\n",
       "<polyline clip-path=\"url(#clip382)\" style=\"stroke:#000000; stroke-linecap:round; stroke-linejoin:round; stroke-width:4; stroke-opacity:1; fill:none\" points=\"909.05,804.96 218.281,1150.34 \"/>\n",
       "<polyline clip-path=\"url(#clip382)\" style=\"stroke:#000000; stroke-linecap:round; stroke-linejoin:round; stroke-width:4; stroke-opacity:1; fill:none\" points=\"909.05,804.96 2290.59,804.96 \"/>\n",
       "<polyline clip-path=\"url(#clip382)\" style=\"stroke:#000000; stroke-linecap:round; stroke-linejoin:round; stroke-width:4; stroke-opacity:1; fill:none\" points=\"2254.59,786.96 2290.59,804.96 2254.59,822.96 \"/>\n",
       "<polyline clip-path=\"url(#clip382)\" style=\"stroke:#000000; stroke-linecap:round; stroke-linejoin:round; stroke-width:4; stroke-opacity:1; fill:none\" points=\"2290.59,804.96 909.05,804.96 \"/>\n",
       "<polyline clip-path=\"url(#clip382)\" style=\"stroke:#000000; stroke-linecap:round; stroke-linejoin:round; stroke-width:4; stroke-opacity:1; fill:none\" points=\"1599.82,1150.34 2290.59,804.96 \"/>\n",
       "<polyline clip-path=\"url(#clip382)\" style=\"stroke:#000000; stroke-linecap:round; stroke-linejoin:round; stroke-width:4; stroke-opacity:1; fill:none\" points=\"2250.34,804.96 2290.59,804.96 2266.44,837.159 \"/>\n",
       "<polyline clip-path=\"url(#clip382)\" style=\"stroke:#000000; stroke-linecap:round; stroke-linejoin:round; stroke-width:4; stroke-opacity:1; fill:none\" points=\"2290.59,804.96 1599.82,1150.34 \"/>\n",
       "<polyline clip-path=\"url(#clip382)\" style=\"stroke:#000000; stroke-linecap:round; stroke-linejoin:round; stroke-width:4; stroke-opacity:1; fill:none\" points=\"218.281,459.576 1599.82,1150.34 \"/>\n",
       "<polyline clip-path=\"url(#clip382)\" style=\"stroke:#000000; stroke-linecap:round; stroke-linejoin:round; stroke-width:4; stroke-opacity:1; fill:none\" points=\"1575.67,1118.14 1599.82,1150.34 1559.57,1150.34 \"/>\n",
       "<polyline clip-path=\"url(#clip382)\" style=\"stroke:#000000; stroke-linecap:round; stroke-linejoin:round; stroke-width:4; stroke-opacity:1; fill:none\" points=\"1599.82,1150.34 218.281,459.576 \"/>\n",
       "<polyline clip-path=\"url(#clip382)\" style=\"stroke:#000000; stroke-linecap:round; stroke-linejoin:round; stroke-width:4; stroke-opacity:1; fill:none\" points=\"218.281,804.96 1599.82,1150.34 \"/>\n",
       "<polyline clip-path=\"url(#clip382)\" style=\"stroke:#000000; stroke-linecap:round; stroke-linejoin:round; stroke-width:4; stroke-opacity:1; fill:none\" points=\"1569.26,1124.15 1599.82,1150.34 1560.53,1159.08 \"/>\n",
       "<polyline clip-path=\"url(#clip382)\" style=\"stroke:#000000; stroke-linecap:round; stroke-linejoin:round; stroke-width:4; stroke-opacity:1; fill:none\" points=\"1599.82,1150.34 218.281,804.96 \"/>\n",
       "<polyline clip-path=\"url(#clip382)\" style=\"stroke:#000000; stroke-linecap:round; stroke-linejoin:round; stroke-width:4; stroke-opacity:1; fill:none\" points=\"218.281,1150.34 1599.82,1150.34 \"/>\n",
       "<polyline clip-path=\"url(#clip382)\" style=\"stroke:#000000; stroke-linecap:round; stroke-linejoin:round; stroke-width:4; stroke-opacity:1; fill:none\" points=\"1563.82,1132.34 1599.82,1150.34 1563.82,1168.34 \"/>\n",
       "<polyline clip-path=\"url(#clip382)\" style=\"stroke:#000000; stroke-linecap:round; stroke-linejoin:round; stroke-width:4; stroke-opacity:1; fill:none\" points=\"1599.82,1150.34 218.281,1150.34 \"/>\n",
       "<polyline clip-path=\"url(#clip382)\" style=\"stroke:#000000; stroke-linecap:round; stroke-linejoin:round; stroke-width:4; stroke-opacity:1; fill:none\" points=\"1599.82,804.96 2290.59,804.96 \"/>\n",
       "<polyline clip-path=\"url(#clip382)\" style=\"stroke:#000000; stroke-linecap:round; stroke-linejoin:round; stroke-width:4; stroke-opacity:1; fill:none\" points=\"2254.59,786.96 2290.59,804.96 2254.59,822.96 \"/>\n",
       "<polyline clip-path=\"url(#clip382)\" style=\"stroke:#000000; stroke-linecap:round; stroke-linejoin:round; stroke-width:4; stroke-opacity:1; fill:none\" points=\"2290.59,804.96 1599.82,804.96 \"/>\n",
       "<polyline clip-path=\"url(#clip382)\" style=\"stroke:#000000; stroke-linecap:round; stroke-linejoin:round; stroke-width:4; stroke-opacity:1; fill:none\" points=\"1599.82,804.96 1599.82,1150.34 \"/>\n",
       "<polyline clip-path=\"url(#clip382)\" style=\"stroke:#000000; stroke-linecap:round; stroke-linejoin:round; stroke-width:4; stroke-opacity:1; fill:none\" points=\"1617.82,1114.34 1599.82,1150.34 1581.82,1114.34 \"/>\n",
       "<polyline clip-path=\"url(#clip382)\" style=\"stroke:#000000; stroke-linecap:round; stroke-linejoin:round; stroke-width:4; stroke-opacity:1; fill:none\" points=\"1599.82,1150.34 1599.82,804.96 \"/>\n",
       "<path clip-path=\"url(#clip380)\" d=\"M190.614 429.336 L202.807 429.336 L218.241 470.493 L233.756 429.336 L245.949 429.336 L245.949 489.816 L237.969 489.816 L237.969 436.708 L222.373 478.19 L214.149 478.19 L198.553 436.708 L198.553 489.816 L190.614 489.816 L190.614 429.336 Z\" fill=\"#000000\" fill-rule=\"nonzero\" fill-opacity=\"1\" /><path clip-path=\"url(#clip380)\" d=\"M214.19 774.72 L222.373 774.72 L222.373 835.2 L214.19 835.2 L214.19 774.72 Z\" fill=\"#000000\" fill-rule=\"nonzero\" fill-opacity=\"1\" /><path clip-path=\"url(#clip380)\" d=\"M198.796 1120.1 L237.037 1120.1 L237.037 1126.99 L206.979 1126.99 L206.979 1144.9 L235.781 1144.9 L235.781 1151.78 L206.979 1151.78 L206.979 1173.7 L237.766 1173.7 L237.766 1180.58 L198.796 1180.58 L198.796 1120.1 Z\" fill=\"#000000\" fill-rule=\"nonzero\" fill-opacity=\"1\" /><path clip-path=\"url(#clip380)\" d=\"M886.162 774.72 L897.181 774.72 L923.998 825.316 L923.998 774.72 L931.937 774.72 L931.937 835.2 L920.919 835.2 L894.102 784.604 L894.102 835.2 L886.162 835.2 L886.162 774.72 Z\" fill=\"#000000\" fill-rule=\"nonzero\" fill-opacity=\"1\" /><path clip-path=\"url(#clip380)\" d=\"M1574.24 774.72 L1625.4 774.72 L1625.4 781.607 L1603.93 781.607 L1603.93 835.2 L1595.71 835.2 L1595.71 781.607 L1574.24 781.607 L1574.24 774.72 Z\" fill=\"#000000\" fill-rule=\"nonzero\" fill-opacity=\"1\" /><path clip-path=\"url(#clip380)\" d=\"M1624.2 1124.76 L1624.2 1133.39 Q1620.07 1129.54 1615.37 1127.64 Q1610.72 1125.73 1605.45 1125.73 Q1595.08 1125.73 1589.57 1132.09 Q1584.06 1138.41 1584.06 1150.41 Q1584.06 1162.36 1589.57 1168.72 Q1595.08 1175.03 1605.45 1175.03 Q1610.72 1175.03 1615.37 1173.13 Q1620.07 1171.23 1624.2 1167.38 L1624.2 1175.93 Q1619.91 1178.84 1615.09 1180.3 Q1610.31 1181.76 1604.96 1181.76 Q1591.23 1181.76 1583.33 1173.37 Q1575.43 1164.95 1575.43 1150.41 Q1575.43 1135.82 1583.33 1127.44 Q1591.23 1119.01 1604.96 1119.01 Q1610.39 1119.01 1615.17 1120.47 Q1619.99 1121.89 1624.2 1124.76 Z\" fill=\"#000000\" fill-rule=\"nonzero\" fill-opacity=\"1\" /><path clip-path=\"url(#clip380)\" d=\"M2265.09 774.72 L2273.88 774.72 L2290.65 799.593 L2307.3 774.72 L2316.09 774.72 L2294.7 806.398 L2294.7 835.2 L2286.48 835.2 L2286.48 806.398 L2265.09 774.72 Z\" fill=\"#000000\" fill-rule=\"nonzero\" fill-opacity=\"1\" /></svg>\n"
      ],
      "text/html": [
       "<?xml version=\"1.0\" encoding=\"utf-8\"?>\n",
       "<svg xmlns=\"http://www.w3.org/2000/svg\" xmlns:xlink=\"http://www.w3.org/1999/xlink\" width=\"600\" height=\"400\" viewBox=\"0 0 2400 1600\">\n",
       "<defs>\n",
       "  <clipPath id=\"clip430\">\n",
       "    <rect x=\"0\" y=\"0\" width=\"2400\" height=\"1600\"/>\n",
       "  </clipPath>\n",
       "</defs>\n",
       "<path clip-path=\"url(#clip430)\" d=\"M0 1600 L2400 1600 L2400 0 L0 0  Z\" fill=\"#ffffff\" fill-rule=\"evenodd\" fill-opacity=\"1\"/>\n",
       "<defs>\n",
       "  <clipPath id=\"clip431\">\n",
       "    <rect x=\"480\" y=\"0\" width=\"1681\" height=\"1600\"/>\n",
       "  </clipPath>\n",
       "</defs>\n",
       "<path clip-path=\"url(#clip430)\" d=\"M192.941 1486.45 L2352.76 1486.45 L2352.76 123.472 L192.941 123.472  Z\" fill=\"#ffffff\" fill-rule=\"evenodd\" fill-opacity=\"1\"/>\n",
       "<defs>\n",
       "  <clipPath id=\"clip432\">\n",
       "    <rect x=\"192\" y=\"123\" width=\"2161\" height=\"1364\"/>\n",
       "  </clipPath>\n",
       "</defs>\n",
       "<polyline clip-path=\"url(#clip430)\" style=\"stroke:#000000; stroke-linecap:round; stroke-linejoin:round; stroke-width:4; stroke-opacity:1; fill:none\" points=\"192.941,1486.45 2352.76,1486.45 \"/>\n",
       "<polyline clip-path=\"url(#clip430)\" style=\"stroke:#000000; stroke-linecap:round; stroke-linejoin:round; stroke-width:4; stroke-opacity:1; fill:none\" points=\"254.067,1486.45 254.067,1467.55 \"/>\n",
       "<polyline clip-path=\"url(#clip430)\" style=\"stroke:#000000; stroke-linecap:round; stroke-linejoin:round; stroke-width:4; stroke-opacity:1; fill:none\" points=\"593.661,1486.45 593.661,1467.55 \"/>\n",
       "<polyline clip-path=\"url(#clip430)\" style=\"stroke:#000000; stroke-linecap:round; stroke-linejoin:round; stroke-width:4; stroke-opacity:1; fill:none\" points=\"933.255,1486.45 933.255,1467.55 \"/>\n",
       "<polyline clip-path=\"url(#clip430)\" style=\"stroke:#000000; stroke-linecap:round; stroke-linejoin:round; stroke-width:4; stroke-opacity:1; fill:none\" points=\"1272.85,1486.45 1272.85,1467.55 \"/>\n",
       "<polyline clip-path=\"url(#clip430)\" style=\"stroke:#000000; stroke-linecap:round; stroke-linejoin:round; stroke-width:4; stroke-opacity:1; fill:none\" points=\"1612.44,1486.45 1612.44,1467.55 \"/>\n",
       "<polyline clip-path=\"url(#clip430)\" style=\"stroke:#000000; stroke-linecap:round; stroke-linejoin:round; stroke-width:4; stroke-opacity:1; fill:none\" points=\"1952.04,1486.45 1952.04,1467.55 \"/>\n",
       "<polyline clip-path=\"url(#clip430)\" style=\"stroke:#000000; stroke-linecap:round; stroke-linejoin:round; stroke-width:4; stroke-opacity:1; fill:none\" points=\"2291.63,1486.45 2291.63,1467.55 \"/>\n",
       "<path clip-path=\"url(#clip430)\" d=\"M254.067 1517.37 Q250.456 1517.37 248.628 1520.93 Q246.822 1524.47 246.822 1531.6 Q246.822 1538.71 248.628 1542.27 Q250.456 1545.82 254.067 1545.82 Q257.702 1545.82 259.507 1542.27 Q261.336 1538.71 261.336 1531.6 Q261.336 1524.47 259.507 1520.93 Q257.702 1517.37 254.067 1517.37 M254.067 1513.66 Q259.878 1513.66 262.933 1518.27 Q266.012 1522.85 266.012 1531.6 Q266.012 1540.33 262.933 1544.94 Q259.878 1549.52 254.067 1549.52 Q248.257 1549.52 245.179 1544.94 Q242.123 1540.33 242.123 1531.6 Q242.123 1522.85 245.179 1518.27 Q248.257 1513.66 254.067 1513.66 Z\" fill=\"#000000\" fill-rule=\"nonzero\" fill-opacity=\"1\" /><path clip-path=\"url(#clip430)\" d=\"M584.043 1544.91 L591.682 1544.91 L591.682 1518.55 L583.372 1520.21 L583.372 1515.95 L591.636 1514.29 L596.312 1514.29 L596.312 1544.91 L603.95 1544.91 L603.95 1548.85 L584.043 1548.85 L584.043 1544.91 Z\" fill=\"#000000\" fill-rule=\"nonzero\" fill-opacity=\"1\" /><path clip-path=\"url(#clip430)\" d=\"M927.907 1544.91 L944.227 1544.91 L944.227 1548.85 L922.283 1548.85 L922.283 1544.91 Q924.945 1542.16 929.528 1537.53 Q934.134 1532.88 935.315 1531.53 Q937.56 1529.01 938.44 1527.27 Q939.343 1525.51 939.343 1523.82 Q939.343 1521.07 937.398 1519.33 Q935.477 1517.6 932.375 1517.6 Q930.176 1517.6 927.722 1518.36 Q925.292 1519.13 922.514 1520.68 L922.514 1515.95 Q925.338 1514.82 927.792 1514.24 Q930.245 1513.66 932.282 1513.66 Q937.653 1513.66 940.847 1516.35 Q944.042 1519.03 944.042 1523.52 Q944.042 1525.65 943.231 1527.57 Q942.444 1529.47 940.338 1532.07 Q939.759 1532.74 936.657 1535.95 Q933.556 1539.15 927.907 1544.91 Z\" fill=\"#000000\" fill-rule=\"nonzero\" fill-opacity=\"1\" /><path clip-path=\"url(#clip430)\" d=\"M1277.1 1530.21 Q1280.45 1530.93 1282.33 1533.2 Q1284.23 1535.47 1284.23 1538.8 Q1284.23 1543.92 1280.71 1546.72 Q1277.19 1549.52 1270.71 1549.52 Q1268.53 1549.52 1266.22 1549.08 Q1263.92 1548.66 1261.47 1547.81 L1261.47 1543.29 Q1263.42 1544.43 1265.73 1545.01 Q1268.05 1545.58 1270.57 1545.58 Q1274.97 1545.58 1277.26 1543.85 Q1279.57 1542.11 1279.57 1538.8 Q1279.57 1535.75 1277.42 1534.03 Q1275.29 1532.3 1271.47 1532.3 L1267.44 1532.3 L1267.44 1528.45 L1271.66 1528.45 Q1275.11 1528.45 1276.93 1527.09 Q1278.76 1525.7 1278.76 1523.11 Q1278.76 1520.45 1276.86 1519.03 Q1274.99 1517.6 1271.47 1517.6 Q1269.55 1517.6 1267.35 1518.01 Q1265.15 1518.43 1262.51 1519.31 L1262.51 1515.14 Q1265.17 1514.4 1267.49 1514.03 Q1269.83 1513.66 1271.89 1513.66 Q1277.21 1513.66 1280.31 1516.09 Q1283.42 1518.5 1283.42 1522.62 Q1283.42 1525.49 1281.77 1527.48 Q1280.13 1529.45 1277.1 1530.21 Z\" fill=\"#000000\" fill-rule=\"nonzero\" fill-opacity=\"1\" /><path clip-path=\"url(#clip430)\" d=\"M1615.45 1518.36 L1603.65 1536.81 L1615.45 1536.81 L1615.45 1518.36 M1614.22 1514.29 L1620.1 1514.29 L1620.1 1536.81 L1625.03 1536.81 L1625.03 1540.7 L1620.1 1540.7 L1620.1 1548.85 L1615.45 1548.85 L1615.45 1540.7 L1599.85 1540.7 L1599.85 1536.19 L1614.22 1514.29 Z\" fill=\"#000000\" fill-rule=\"nonzero\" fill-opacity=\"1\" /><path clip-path=\"url(#clip430)\" d=\"M1942.31 1514.29 L1960.67 1514.29 L1960.67 1518.22 L1946.6 1518.22 L1946.6 1526.7 Q1947.61 1526.35 1948.63 1526.19 Q1949.65 1526 1950.67 1526 Q1956.46 1526 1959.84 1529.17 Q1963.22 1532.34 1963.22 1537.76 Q1963.22 1543.34 1959.74 1546.44 Q1956.27 1549.52 1949.95 1549.52 Q1947.78 1549.52 1945.51 1549.15 Q1943.26 1548.78 1940.85 1548.04 L1940.85 1543.34 Q1942.94 1544.47 1945.16 1545.03 Q1947.38 1545.58 1949.86 1545.58 Q1953.86 1545.58 1956.2 1543.48 Q1958.54 1541.37 1958.54 1537.76 Q1958.54 1534.15 1956.2 1532.04 Q1953.86 1529.94 1949.86 1529.94 Q1947.98 1529.94 1946.11 1530.35 Q1944.26 1530.77 1942.31 1531.65 L1942.31 1514.29 Z\" fill=\"#000000\" fill-rule=\"nonzero\" fill-opacity=\"1\" /><path clip-path=\"url(#clip430)\" d=\"M2292.03 1529.7 Q2288.89 1529.7 2287.03 1531.86 Q2285.21 1534.01 2285.21 1537.76 Q2285.21 1541.49 2287.03 1543.66 Q2288.89 1545.82 2292.03 1545.82 Q2295.18 1545.82 2297.01 1543.66 Q2298.86 1541.49 2298.86 1537.76 Q2298.86 1534.01 2297.01 1531.86 Q2295.18 1529.7 2292.03 1529.7 M2301.32 1515.05 L2301.32 1519.31 Q2299.56 1518.48 2297.75 1518.04 Q2295.97 1517.6 2294.21 1517.6 Q2289.58 1517.6 2287.13 1520.72 Q2284.7 1523.85 2284.35 1530.17 Q2285.71 1528.15 2287.77 1527.09 Q2289.84 1526 2292.31 1526 Q2297.52 1526 2300.53 1529.17 Q2303.56 1532.32 2303.56 1537.76 Q2303.56 1543.08 2300.41 1546.3 Q2297.27 1549.52 2292.03 1549.52 Q2286.04 1549.52 2282.87 1544.94 Q2279.7 1540.33 2279.7 1531.6 Q2279.7 1523.41 2283.59 1518.55 Q2287.47 1513.66 2294.02 1513.66 Q2295.78 1513.66 2297.57 1514.01 Q2299.37 1514.36 2301.32 1515.05 Z\" fill=\"#000000\" fill-rule=\"nonzero\" fill-opacity=\"1\" /><polyline clip-path=\"url(#clip430)\" style=\"stroke:#000000; stroke-linecap:round; stroke-linejoin:round; stroke-width:4; stroke-opacity:1; fill:none\" points=\"192.941,1486.45 192.941,123.472 \"/>\n",
       "<polyline clip-path=\"url(#clip430)\" style=\"stroke:#000000; stroke-linecap:round; stroke-linejoin:round; stroke-width:4; stroke-opacity:1; fill:none\" points=\"192.941,1484.15 211.838,1484.15 \"/>\n",
       "<polyline clip-path=\"url(#clip430)\" style=\"stroke:#000000; stroke-linecap:round; stroke-linejoin:round; stroke-width:4; stroke-opacity:1; fill:none\" points=\"192.941,1144.55 211.838,1144.55 \"/>\n",
       "<polyline clip-path=\"url(#clip430)\" style=\"stroke:#000000; stroke-linecap:round; stroke-linejoin:round; stroke-width:4; stroke-opacity:1; fill:none\" points=\"192.941,804.96 211.838,804.96 \"/>\n",
       "<polyline clip-path=\"url(#clip430)\" style=\"stroke:#000000; stroke-linecap:round; stroke-linejoin:round; stroke-width:4; stroke-opacity:1; fill:none\" points=\"192.941,465.366 211.838,465.366 \"/>\n",
       "<polyline clip-path=\"url(#clip430)\" style=\"stroke:#000000; stroke-linecap:round; stroke-linejoin:round; stroke-width:4; stroke-opacity:1; fill:none\" points=\"192.941,125.773 211.838,125.773 \"/>\n",
       "<path clip-path=\"url(#clip430)\" d=\"M96.4548 1484.6 L126.131 1484.6 L126.131 1488.53 L96.4548 1488.53 L96.4548 1484.6 Z\" fill=\"#000000\" fill-rule=\"nonzero\" fill-opacity=\"1\" /><path clip-path=\"url(#clip430)\" d=\"M137.033 1497.49 L144.672 1497.49 L144.672 1471.13 L136.362 1472.79 L136.362 1468.53 L144.626 1466.87 L149.302 1466.87 L149.302 1497.49 L156.941 1497.49 L156.941 1501.43 L137.033 1501.43 L137.033 1497.49 Z\" fill=\"#000000\" fill-rule=\"nonzero\" fill-opacity=\"1\" /><path clip-path=\"url(#clip430)\" d=\"M144.996 1130.35 Q141.385 1130.35 139.556 1133.92 Q137.751 1137.46 137.751 1144.59 Q137.751 1151.69 139.556 1155.26 Q141.385 1158.8 144.996 1158.8 Q148.63 1158.8 150.436 1155.26 Q152.265 1151.69 152.265 1144.59 Q152.265 1137.46 150.436 1133.92 Q148.63 1130.35 144.996 1130.35 M144.996 1126.65 Q150.806 1126.65 153.862 1131.26 Q156.941 1135.84 156.941 1144.59 Q156.941 1153.32 153.862 1157.92 Q150.806 1162.5 144.996 1162.5 Q139.186 1162.5 136.107 1157.92 Q133.052 1153.32 133.052 1144.59 Q133.052 1135.84 136.107 1131.26 Q139.186 1126.65 144.996 1126.65 Z\" fill=\"#000000\" fill-rule=\"nonzero\" fill-opacity=\"1\" /><path clip-path=\"url(#clip430)\" d=\"M137.033 818.305 L144.672 818.305 L144.672 791.939 L136.362 793.606 L136.362 789.347 L144.626 787.68 L149.302 787.68 L149.302 818.305 L156.941 818.305 L156.941 822.24 L137.033 822.24 L137.033 818.305 Z\" fill=\"#000000\" fill-rule=\"nonzero\" fill-opacity=\"1\" /><path clip-path=\"url(#clip430)\" d=\"M140.621 478.711 L156.941 478.711 L156.941 482.646 L134.996 482.646 L134.996 478.711 Q137.658 475.957 142.242 471.327 Q146.848 466.674 148.029 465.332 Q150.274 462.809 151.154 461.072 Q152.056 459.313 152.056 457.623 Q152.056 454.869 150.112 453.133 Q148.191 451.397 145.089 451.397 Q142.89 451.397 140.436 452.16 Q138.006 452.924 135.228 454.475 L135.228 449.753 Q138.052 448.619 140.506 448.04 Q142.959 447.461 144.996 447.461 Q150.367 447.461 153.561 450.147 Q156.755 452.832 156.755 457.322 Q156.755 459.452 155.945 461.373 Q155.158 463.272 153.052 465.864 Q152.473 466.535 149.371 469.753 Q146.269 472.947 140.621 478.711 Z\" fill=\"#000000\" fill-rule=\"nonzero\" fill-opacity=\"1\" /><path clip-path=\"url(#clip430)\" d=\"M149.811 124.419 Q153.168 125.136 155.042 127.405 Q156.941 129.673 156.941 133.007 Q156.941 138.122 153.422 140.923 Q149.904 143.724 143.422 143.724 Q141.246 143.724 138.931 143.284 Q136.64 142.868 134.186 142.011 L134.186 137.497 Q136.131 138.632 138.445 139.21 Q140.76 139.789 143.283 139.789 Q147.681 139.789 149.973 138.053 Q152.288 136.317 152.288 133.007 Q152.288 129.951 150.135 128.238 Q148.005 126.502 144.186 126.502 L140.158 126.502 L140.158 122.659 L144.371 122.659 Q147.82 122.659 149.649 121.294 Q151.478 119.905 151.478 117.312 Q151.478 114.65 149.58 113.238 Q147.705 111.803 144.186 111.803 Q142.265 111.803 140.066 112.22 Q137.867 112.636 135.228 113.516 L135.228 109.349 Q137.89 108.609 140.205 108.238 Q142.543 107.868 144.603 107.868 Q149.927 107.868 153.029 110.298 Q156.13 112.706 156.13 116.826 Q156.13 119.696 154.487 121.687 Q152.843 123.655 149.811 124.419 Z\" fill=\"#000000\" fill-rule=\"nonzero\" fill-opacity=\"1\" /><path clip-path=\"url(#clip430)\" d=\"M398.299 18.8205 L398.299 65.8515 L408.183 65.8515 Q420.7 65.8515 426.493 60.1802 Q432.326 54.509 432.326 42.2752 Q432.326 30.1225 426.493 24.4918 Q420.7 18.8205 408.183 18.8205 L398.299 18.8205 M390.116 12.096 L406.927 12.096 Q424.508 12.096 432.731 19.4281 Q440.955 26.7198 440.955 42.2752 Q440.955 57.9117 432.691 65.2439 Q424.427 72.576 406.927 72.576 L390.116 72.576 L390.116 12.096 Z\" fill=\"#000000\" fill-rule=\"nonzero\" fill-opacity=\"1\" /><path clip-path=\"url(#clip430)\" d=\"M472.754 20.1573 L461.655 50.2555 L483.894 50.2555 L472.754 20.1573 M468.136 12.096 L477.413 12.096 L500.462 72.576 L491.955 72.576 L486.446 57.061 L459.184 57.061 L453.674 72.576 L445.046 72.576 L468.136 12.096 Z\" fill=\"#000000\" fill-rule=\"nonzero\" fill-opacity=\"1\" /><path clip-path=\"url(#clip430)\" d=\"M549.073 63.9476 L549.073 47.7034 L535.705 47.7034 L535.705 40.9789 L557.175 40.9789 L557.175 66.9452 Q552.435 70.3075 546.724 72.0494 Q541.012 73.7508 534.53 73.7508 Q520.352 73.7508 512.332 65.4869 Q504.351 57.1826 504.351 42.3968 Q504.351 27.5705 512.332 19.3066 Q520.352 11.0023 534.53 11.0023 Q540.445 11.0023 545.751 12.4606 Q551.099 13.9189 555.595 16.7545 L555.595 25.464 Q551.058 21.6156 545.954 19.6712 Q540.85 17.7268 535.219 17.7268 Q524.12 17.7268 518.529 23.9246 Q512.98 30.1225 512.98 42.3968 Q512.98 54.6305 518.529 60.8284 Q524.12 67.0263 535.219 67.0263 Q539.554 67.0263 542.956 66.2971 Q546.359 65.5274 549.073 63.9476 Z\" fill=\"#000000\" fill-rule=\"nonzero\" fill-opacity=\"1\" /><path clip-path=\"url(#clip430)\" d=\"M621.139 9.54393 L621.139 15.7418 L614.009 15.7418 Q609.999 15.7418 608.419 17.3622 Q606.88 18.9825 606.88 23.1955 L606.88 27.2059 L619.154 27.2059 L619.154 32.9987 L606.88 32.9987 L606.88 72.576 L599.385 72.576 L599.385 32.9987 L592.256 32.9987 L592.256 27.2059 L599.385 27.2059 L599.385 24.0462 Q599.385 16.471 602.91 13.0277 Q606.434 9.54393 614.09 9.54393 L621.139 9.54393 Z\" fill=\"#000000\" fill-rule=\"nonzero\" fill-opacity=\"1\" /><path clip-path=\"url(#clip430)\" d=\"M644.958 32.4315 Q638.963 32.4315 635.479 37.1306 Q631.995 41.7891 631.995 49.9314 Q631.995 58.0738 635.438 62.7728 Q638.922 67.4314 644.958 67.4314 Q650.913 67.4314 654.397 62.7323 Q657.88 58.0333 657.88 49.9314 Q657.88 41.8701 654.397 37.1711 Q650.913 32.4315 644.958 32.4315 M644.958 26.1121 Q654.68 26.1121 660.23 32.4315 Q665.78 38.7509 665.78 49.9314 Q665.78 61.0714 660.23 67.4314 Q654.68 73.7508 644.958 73.7508 Q635.195 73.7508 629.646 67.4314 Q624.136 61.0714 624.136 49.9314 Q624.136 38.7509 629.646 32.4315 Q635.195 26.1121 644.958 26.1121 Z\" fill=\"#000000\" fill-rule=\"nonzero\" fill-opacity=\"1\" /><path clip-path=\"url(#clip430)\" d=\"M704.425 34.1734 Q703.17 33.4443 701.671 33.1202 Q700.212 32.7556 698.43 32.7556 Q692.111 32.7556 688.708 36.8875 Q685.346 40.9789 685.346 48.6757 L685.346 72.576 L677.851 72.576 L677.851 27.2059 L685.346 27.2059 L685.346 34.2544 Q687.695 30.1225 691.462 28.1376 Q695.23 26.1121 700.618 26.1121 Q701.387 26.1121 702.319 26.2337 Q703.251 26.3147 704.385 26.5172 L704.425 34.1734 Z\" fill=\"#000000\" fill-rule=\"nonzero\" fill-opacity=\"1\" /><path clip-path=\"url(#clip430)\" d=\"M747.122 43.6931 L747.122 65.8515 L760.247 65.8515 Q766.85 65.8515 770.01 63.1374 Q773.21 60.3828 773.21 54.752 Q773.21 49.0808 770.01 46.4072 Q766.85 43.6931 760.247 43.6931 L747.122 43.6931 M747.122 18.8205 L747.122 37.0496 L759.234 37.0496 Q765.229 37.0496 768.146 34.8216 Q771.103 32.5531 771.103 27.935 Q771.103 23.3575 768.146 21.089 Q765.229 18.8205 759.234 18.8205 L747.122 18.8205 M738.939 12.096 L759.842 12.096 Q769.199 12.096 774.263 15.9849 Q779.327 19.8737 779.327 27.0438 Q779.327 32.5936 776.734 35.8748 Q774.141 39.156 769.118 39.9662 Q775.154 41.2625 778.476 45.3944 Q781.838 49.4858 781.838 55.6432 Q781.838 63.745 776.329 68.1605 Q770.82 72.576 760.652 72.576 L738.939 72.576 L738.939 12.096 Z\" fill=\"#000000\" fill-rule=\"nonzero\" fill-opacity=\"1\" /><path clip-path=\"url(#clip430)\" d=\"M821.821 34.1734 Q820.565 33.4443 819.066 33.1202 Q817.608 32.7556 815.825 32.7556 Q809.506 32.7556 806.103 36.8875 Q802.741 40.9789 802.741 48.6757 L802.741 72.576 L795.247 72.576 L795.247 27.2059 L802.741 27.2059 L802.741 34.2544 Q805.09 30.1225 808.858 28.1376 Q812.625 26.1121 818.013 26.1121 Q818.782 26.1121 819.714 26.2337 Q820.646 26.3147 821.78 26.5172 L821.821 34.1734 Z\" fill=\"#000000\" fill-rule=\"nonzero\" fill-opacity=\"1\" /><path clip-path=\"url(#clip430)\" d=\"M866.624 48.0275 L866.624 51.6733 L832.353 51.6733 Q832.839 59.3701 836.971 63.421 Q841.143 67.4314 848.557 67.4314 Q852.851 67.4314 856.861 66.3781 Q860.912 65.3249 864.882 63.2184 L864.882 70.267 Q860.871 71.9684 856.658 72.8596 Q852.445 73.7508 848.111 73.7508 Q837.255 73.7508 830.895 67.4314 Q824.575 61.1119 824.575 50.3365 Q824.575 39.1965 830.571 32.6746 Q836.606 26.1121 846.815 26.1121 Q855.97 26.1121 861.276 32.0264 Q866.624 37.9003 866.624 48.0275 M859.17 45.84 Q859.089 39.7232 855.727 36.0774 Q852.405 32.4315 846.896 32.4315 Q840.657 32.4315 836.89 35.9558 Q833.163 39.4801 832.596 45.8805 L859.17 45.84 Z\" fill=\"#000000\" fill-rule=\"nonzero\" fill-opacity=\"1\" /><path clip-path=\"url(#clip430)\" d=\"M899.476 49.7694 Q890.443 49.7694 886.959 51.8354 Q883.475 53.9013 883.475 58.8839 Q883.475 62.8538 886.068 65.2034 Q888.701 67.5124 893.198 67.5124 Q899.395 67.5124 903.122 63.1374 Q906.89 58.7219 906.89 51.4303 L906.89 49.7694 L899.476 49.7694 M914.343 46.6907 L914.343 72.576 L906.89 72.576 L906.89 65.6895 Q904.338 69.8214 900.53 71.8063 Q896.722 73.7508 891.213 73.7508 Q884.245 73.7508 880.113 69.8619 Q876.022 65.9325 876.022 59.3701 Q876.022 51.7138 881.126 47.825 Q886.27 43.9361 896.438 43.9361 L906.89 43.9361 L906.89 43.2069 Q906.89 38.0623 903.487 35.2672 Q900.125 32.4315 894.008 32.4315 Q890.119 32.4315 886.433 33.3632 Q882.746 34.295 879.343 36.1584 L879.343 29.2718 Q883.435 27.692 887.283 26.9223 Q891.132 26.1121 894.777 26.1121 Q904.621 26.1121 909.482 31.2163 Q914.343 36.3204 914.343 46.6907 Z\" fill=\"#000000\" fill-rule=\"nonzero\" fill-opacity=\"1\" /><path clip-path=\"url(#clip430)\" d=\"M958.62 28.5427 L958.62 35.5912 Q955.46 33.9709 952.057 33.1607 Q948.654 32.3505 945.009 32.3505 Q939.459 32.3505 936.664 34.0519 Q933.909 35.7533 933.909 39.156 Q933.909 41.7486 935.894 43.2475 Q937.879 44.7058 943.874 46.0426 L946.426 46.6097 Q954.366 48.3111 957.688 51.4303 Q961.05 54.509 961.05 60.0587 Q961.05 66.3781 956.027 70.0644 Q951.044 73.7508 942.294 73.7508 Q938.649 73.7508 934.679 73.0216 Q930.749 72.3329 926.374 70.9151 L926.374 63.2184 Q930.506 65.3654 934.517 66.4591 Q938.527 67.5124 942.457 67.5124 Q947.723 67.5124 950.558 65.73 Q953.394 63.9071 953.394 60.6258 Q953.394 57.5877 951.328 55.9673 Q949.303 54.3469 942.376 52.8481 L939.783 52.2405 Q932.856 50.7821 929.777 47.7845 Q926.699 44.7463 926.699 39.4801 Q926.699 33.0797 931.236 29.5959 Q935.773 26.1121 944.117 26.1121 Q948.249 26.1121 951.895 26.7198 Q955.541 27.3274 958.62 28.5427 Z\" fill=\"#000000\" fill-rule=\"nonzero\" fill-opacity=\"1\" /><path clip-path=\"url(#clip430)\" d=\"M980.292 14.324 L980.292 27.2059 L995.645 27.2059 L995.645 32.9987 L980.292 32.9987 L980.292 57.6282 Q980.292 63.1779 981.791 64.7578 Q983.33 66.3376 987.989 66.3376 L995.645 66.3376 L995.645 72.576 L987.989 72.576 Q979.36 72.576 976.079 69.3758 Q972.798 66.1351 972.798 57.6282 L972.798 32.9987 L967.329 32.9987 L967.329 27.2059 L972.798 27.2059 L972.798 14.324 L980.292 14.324 Z\" fill=\"#000000\" fill-rule=\"nonzero\" fill-opacity=\"1\" /><path clip-path=\"url(#clip430)\" d=\"M1028.42 9.54393 L1028.42 15.7418 L1021.29 15.7418 Q1017.28 15.7418 1015.7 17.3622 Q1014.16 18.9825 1014.16 23.1955 L1014.16 27.2059 L1026.43 27.2059 L1026.43 32.9987 L1014.16 32.9987 L1014.16 72.576 L1006.66 72.576 L1006.66 32.9987 L999.534 32.9987 L999.534 27.2059 L1006.66 27.2059 L1006.66 24.0462 Q1006.66 16.471 1010.19 13.0277 Q1013.71 9.54393 1021.37 9.54393 L1028.42 9.54393 Z\" fill=\"#000000\" fill-rule=\"nonzero\" fill-opacity=\"1\" /><path clip-path=\"url(#clip430)\" d=\"M1073.46 48.0275 L1073.46 51.6733 L1039.19 51.6733 Q1039.68 59.3701 1043.81 63.421 Q1047.98 67.4314 1055.4 67.4314 Q1059.69 67.4314 1063.7 66.3781 Q1067.75 65.3249 1071.72 63.2184 L1071.72 70.267 Q1067.71 71.9684 1063.5 72.8596 Q1059.28 73.7508 1054.95 73.7508 Q1044.09 73.7508 1037.73 67.4314 Q1031.41 61.1119 1031.41 50.3365 Q1031.41 39.1965 1037.41 32.6746 Q1043.45 26.1121 1053.65 26.1121 Q1062.81 26.1121 1068.12 32.0264 Q1073.46 37.9003 1073.46 48.0275 M1066.01 45.84 Q1065.93 39.7232 1062.57 36.0774 Q1059.24 32.4315 1053.73 32.4315 Q1047.5 32.4315 1043.73 35.9558 Q1040 39.4801 1039.44 45.8805 L1066.01 45.84 Z\" fill=\"#000000\" fill-rule=\"nonzero\" fill-opacity=\"1\" /><path clip-path=\"url(#clip430)\" d=\"M1124.5 48.0275 L1124.5 51.6733 L1090.23 51.6733 Q1090.72 59.3701 1094.85 63.421 Q1099.02 67.4314 1106.44 67.4314 Q1110.73 67.4314 1114.74 66.3781 Q1118.79 65.3249 1122.76 63.2184 L1122.76 70.267 Q1118.75 71.9684 1114.54 72.8596 Q1110.33 73.7508 1105.99 73.7508 Q1095.14 73.7508 1088.78 67.4314 Q1082.46 61.1119 1082.46 50.3365 Q1082.46 39.1965 1088.45 32.6746 Q1094.49 26.1121 1104.7 26.1121 Q1113.85 26.1121 1119.16 32.0264 Q1124.5 37.9003 1124.5 48.0275 M1117.05 45.84 Q1116.97 39.7232 1113.61 36.0774 Q1110.29 32.4315 1104.78 32.4315 Q1098.54 32.4315 1094.77 35.9558 Q1091.04 39.4801 1090.48 45.8805 L1117.05 45.84 Z\" fill=\"#000000\" fill-rule=\"nonzero\" fill-opacity=\"1\" /><path clip-path=\"url(#clip430)\" d=\"M1166.59 34.0924 L1166.59 9.54393 L1174.05 9.54393 L1174.05 72.576 L1166.59 72.576 L1166.59 65.7705 Q1164.24 69.8214 1160.64 71.8063 Q1157.07 73.7508 1152.05 73.7508 Q1143.83 73.7508 1138.64 67.1883 Q1133.5 60.6258 1133.5 49.9314 Q1133.5 39.2371 1138.64 32.6746 Q1143.83 26.1121 1152.05 26.1121 Q1157.07 26.1121 1160.64 28.0971 Q1164.24 30.0415 1166.59 34.0924 M1141.19 49.9314 Q1141.19 58.1548 1144.56 62.8538 Q1147.96 67.5124 1153.87 67.5124 Q1159.79 67.5124 1163.19 62.8538 Q1166.59 58.1548 1166.59 49.9314 Q1166.59 41.7081 1163.19 37.0496 Q1159.79 32.3505 1153.87 32.3505 Q1147.96 32.3505 1144.56 37.0496 Q1141.19 41.7081 1141.19 49.9314 Z\" fill=\"#000000\" fill-rule=\"nonzero\" fill-opacity=\"1\" /><path clip-path=\"url(#clip430)\" d=\"M1189.4 27.2059 L1196.85 27.2059 L1196.85 72.576 L1189.4 72.576 L1189.4 27.2059 M1189.4 9.54393 L1196.85 9.54393 L1196.85 18.9825 L1189.4 18.9825 L1189.4 9.54393 Z\" fill=\"#000000\" fill-rule=\"nonzero\" fill-opacity=\"1\" /><path clip-path=\"url(#clip430)\" d=\"M1250.16 45.1919 L1250.16 72.576 L1242.71 72.576 L1242.71 45.4349 Q1242.71 38.994 1240.2 35.7938 Q1237.69 32.5936 1232.66 32.5936 Q1226.63 32.5936 1223.14 36.4419 Q1219.66 40.2903 1219.66 46.9338 L1219.66 72.576 L1212.17 72.576 L1212.17 27.2059 L1219.66 27.2059 L1219.66 34.2544 Q1222.33 30.163 1225.94 28.1376 Q1229.58 26.1121 1234.32 26.1121 Q1242.14 26.1121 1246.15 30.9732 Q1250.16 35.7938 1250.16 45.1919 Z\" fill=\"#000000\" fill-rule=\"nonzero\" fill-opacity=\"1\" /><path clip-path=\"url(#clip430)\" d=\"M1294.89 49.3643 Q1294.89 41.2625 1291.52 36.8065 Q1288.2 32.3505 1282.17 32.3505 Q1276.17 32.3505 1272.81 36.8065 Q1269.49 41.2625 1269.49 49.3643 Q1269.49 57.4256 1272.81 61.8816 Q1276.17 66.3376 1282.17 66.3376 Q1288.2 66.3376 1291.52 61.8816 Q1294.89 57.4256 1294.89 49.3643 M1302.34 66.9452 Q1302.34 78.5308 1297.19 84.1616 Q1292.05 89.8329 1281.44 89.8329 Q1277.51 89.8329 1274.02 89.2252 Q1270.54 88.6581 1267.26 87.4428 L1267.26 80.1917 Q1270.54 81.9741 1273.74 82.8248 Q1276.94 83.6755 1280.26 83.6755 Q1287.59 83.6755 1291.24 79.8271 Q1294.89 76.0193 1294.89 68.282 L1294.89 64.5957 Q1292.58 68.6061 1288.97 70.5911 Q1285.37 72.576 1280.34 72.576 Q1272 72.576 1266.89 66.2161 Q1261.79 59.8562 1261.79 49.3643 Q1261.79 38.832 1266.89 32.472 Q1272 26.1121 1280.34 26.1121 Q1285.37 26.1121 1288.97 28.0971 Q1292.58 30.082 1294.89 34.0924 L1294.89 27.2059 L1302.34 27.2059 L1302.34 66.9452 Z\" fill=\"#000000\" fill-rule=\"nonzero\" fill-opacity=\"1\" /><path clip-path=\"url(#clip430)\" d=\"M1364.68 49.7694 Q1355.65 49.7694 1352.16 51.8354 Q1348.68 53.9013 1348.68 58.8839 Q1348.68 62.8538 1351.27 65.2034 Q1353.91 67.5124 1358.4 67.5124 Q1364.6 67.5124 1368.33 63.1374 Q1372.1 58.7219 1372.1 51.4303 L1372.1 49.7694 L1364.68 49.7694 M1379.55 46.6907 L1379.55 72.576 L1372.1 72.576 L1372.1 65.6895 Q1369.54 69.8214 1365.74 71.8063 Q1361.93 73.7508 1356.42 73.7508 Q1349.45 73.7508 1345.32 69.8619 Q1341.23 65.9325 1341.23 59.3701 Q1341.23 51.7138 1346.33 47.825 Q1351.48 43.9361 1361.64 43.9361 L1372.1 43.9361 L1372.1 43.2069 Q1372.1 38.0623 1368.69 35.2672 Q1365.33 32.4315 1359.21 32.4315 Q1355.32 32.4315 1351.64 33.3632 Q1347.95 34.295 1344.55 36.1584 L1344.55 29.2718 Q1348.64 27.692 1352.49 26.9223 Q1356.34 26.1121 1359.98 26.1121 Q1369.83 26.1121 1374.69 31.2163 Q1379.55 36.3204 1379.55 46.6907 Z\" fill=\"#000000\" fill-rule=\"nonzero\" fill-opacity=\"1\" /><path clip-path=\"url(#clip430)\" d=\"M1432.62 45.1919 L1432.62 72.576 L1425.16 72.576 L1425.16 45.4349 Q1425.16 38.994 1422.65 35.7938 Q1420.14 32.5936 1415.12 32.5936 Q1409.08 32.5936 1405.6 36.4419 Q1402.11 40.2903 1402.11 46.9338 L1402.11 72.576 L1394.62 72.576 L1394.62 27.2059 L1402.11 27.2059 L1402.11 34.2544 Q1404.79 30.163 1408.39 28.1376 Q1412.04 26.1121 1416.78 26.1121 Q1424.6 26.1121 1428.61 30.9732 Q1432.62 35.7938 1432.62 45.1919 Z\" fill=\"#000000\" fill-rule=\"nonzero\" fill-opacity=\"1\" /><path clip-path=\"url(#clip430)\" d=\"M1477.34 34.0924 L1477.34 9.54393 L1484.79 9.54393 L1484.79 72.576 L1477.34 72.576 L1477.34 65.7705 Q1474.99 69.8214 1471.38 71.8063 Q1467.82 73.7508 1462.8 73.7508 Q1454.57 73.7508 1449.39 67.1883 Q1444.24 60.6258 1444.24 49.9314 Q1444.24 39.2371 1449.39 32.6746 Q1454.57 26.1121 1462.8 26.1121 Q1467.82 26.1121 1471.38 28.0971 Q1474.99 30.0415 1477.34 34.0924 M1451.94 49.9314 Q1451.94 58.1548 1455.3 62.8538 Q1458.7 67.5124 1464.62 67.5124 Q1470.53 67.5124 1473.94 62.8538 Q1477.34 58.1548 1477.34 49.9314 Q1477.34 41.7081 1473.94 37.0496 Q1470.53 32.3505 1464.62 32.3505 Q1458.7 32.3505 1455.3 37.0496 Q1451.94 41.7081 1451.94 49.9314 Z\" fill=\"#000000\" fill-rule=\"nonzero\" fill-opacity=\"1\" /><path clip-path=\"url(#clip430)\" d=\"M1535.02 43.6931 L1535.02 65.8515 L1548.15 65.8515 Q1554.75 65.8515 1557.91 63.1374 Q1561.11 60.3828 1561.11 54.752 Q1561.11 49.0808 1557.91 46.4072 Q1554.75 43.6931 1548.15 43.6931 L1535.02 43.6931 M1535.02 18.8205 L1535.02 37.0496 L1547.13 37.0496 Q1553.13 37.0496 1556.05 34.8216 Q1559 32.5531 1559 27.935 Q1559 23.3575 1556.05 21.089 Q1553.13 18.8205 1547.13 18.8205 L1535.02 18.8205 M1526.84 12.096 L1547.74 12.096 Q1557.1 12.096 1562.16 15.9849 Q1567.23 19.8737 1567.23 27.0438 Q1567.23 32.5936 1564.63 35.8748 Q1562.04 39.156 1557.02 39.9662 Q1563.06 41.2625 1566.38 45.3944 Q1569.74 49.4858 1569.74 55.6432 Q1569.74 63.745 1564.23 68.1605 Q1558.72 72.576 1548.55 72.576 L1526.84 72.576 L1526.84 12.096 Z\" fill=\"#000000\" fill-rule=\"nonzero\" fill-opacity=\"1\" /><path clip-path=\"url(#clip430)\" d=\"M1604.05 49.7694 Q1595.02 49.7694 1591.53 51.8354 Q1588.05 53.9013 1588.05 58.8839 Q1588.05 62.8538 1590.64 65.2034 Q1593.27 67.5124 1597.77 67.5124 Q1603.97 67.5124 1607.7 63.1374 Q1611.46 58.7219 1611.46 51.4303 L1611.46 49.7694 L1604.05 49.7694 M1618.92 46.6907 L1618.92 72.576 L1611.46 72.576 L1611.46 65.6895 Q1608.91 69.8214 1605.1 71.8063 Q1601.3 73.7508 1595.79 73.7508 Q1588.82 73.7508 1584.69 69.8619 Q1580.6 65.9325 1580.6 59.3701 Q1580.6 51.7138 1585.7 47.825 Q1590.84 43.9361 1601.01 43.9361 L1611.46 43.9361 L1611.46 43.2069 Q1611.46 38.0623 1608.06 35.2672 Q1604.7 32.4315 1598.58 32.4315 Q1594.69 32.4315 1591.01 33.3632 Q1587.32 34.295 1583.92 36.1584 L1583.92 29.2718 Q1588.01 27.692 1591.86 26.9223 Q1595.71 26.1121 1599.35 26.1121 Q1609.19 26.1121 1614.06 31.2163 Q1618.92 36.3204 1618.92 46.6907 Z\" fill=\"#000000\" fill-rule=\"nonzero\" fill-opacity=\"1\" /><path clip-path=\"url(#clip430)\" d=\"M1666.84 49.9314 Q1666.84 41.7081 1663.44 37.0496 Q1660.07 32.3505 1654.16 32.3505 Q1648.25 32.3505 1644.84 37.0496 Q1641.48 41.7081 1641.48 49.9314 Q1641.48 58.1548 1644.84 62.8538 Q1648.25 67.5124 1654.16 67.5124 Q1660.07 67.5124 1663.44 62.8538 Q1666.84 58.1548 1666.84 49.9314 M1641.48 34.0924 Q1643.83 30.0415 1647.39 28.0971 Q1651 26.1121 1655.98 26.1121 Q1664.25 26.1121 1669.39 32.6746 Q1674.58 39.2371 1674.58 49.9314 Q1674.58 60.6258 1669.39 67.1883 Q1664.25 73.7508 1655.98 73.7508 Q1651 73.7508 1647.39 71.8063 Q1643.83 69.8214 1641.48 65.7705 L1641.48 72.576 L1633.99 72.576 L1633.99 9.54393 L1641.48 9.54393 L1641.48 34.0924 Z\" fill=\"#000000\" fill-rule=\"nonzero\" fill-opacity=\"1\" /><path clip-path=\"url(#clip430)\" d=\"M1705.81 76.7889 Q1702.65 84.8907 1699.65 87.3618 Q1696.65 89.8329 1691.63 89.8329 L1685.68 89.8329 L1685.68 83.5945 L1690.05 83.5945 Q1693.13 83.5945 1694.83 82.1361 Q1696.53 80.6778 1698.6 75.2496 L1699.94 71.8468 L1681.58 27.2059 L1689.48 27.2059 L1703.66 62.6918 L1717.84 27.2059 L1725.74 27.2059 L1705.81 76.7889 Z\" fill=\"#000000\" fill-rule=\"nonzero\" fill-opacity=\"1\" /><path clip-path=\"url(#clip430)\" d=\"M1762.72 12.096 L1770.91 12.096 L1770.91 72.576 L1762.72 72.576 L1762.72 12.096 Z\" fill=\"#000000\" fill-rule=\"nonzero\" fill-opacity=\"1\" /><path clip-path=\"url(#clip430)\" d=\"M1824.58 45.1919 L1824.58 72.576 L1817.13 72.576 L1817.13 45.4349 Q1817.13 38.994 1814.62 35.7938 Q1812.1 32.5936 1807.08 32.5936 Q1801.05 32.5936 1797.56 36.4419 Q1794.08 40.2903 1794.08 46.9338 L1794.08 72.576 L1786.58 72.576 L1786.58 27.2059 L1794.08 27.2059 L1794.08 34.2544 Q1796.75 30.163 1800.36 28.1376 Q1804 26.1121 1808.74 26.1121 Q1816.56 26.1121 1820.57 30.9732 Q1824.58 35.7938 1824.58 45.1919 Z\" fill=\"#000000\" fill-rule=\"nonzero\" fill-opacity=\"1\" /><path clip-path=\"url(#clip430)\" d=\"M1862.42 9.54393 L1862.42 15.7418 L1855.29 15.7418 Q1851.28 15.7418 1849.7 17.3622 Q1848.16 18.9825 1848.16 23.1955 L1848.16 27.2059 L1860.43 27.2059 L1860.43 32.9987 L1848.16 32.9987 L1848.16 72.576 L1840.66 72.576 L1840.66 32.9987 L1833.53 32.9987 L1833.53 27.2059 L1840.66 27.2059 L1840.66 24.0462 Q1840.66 16.471 1844.19 13.0277 Q1847.71 9.54393 1855.37 9.54393 L1862.42 9.54393 Z\" fill=\"#000000\" fill-rule=\"nonzero\" fill-opacity=\"1\" /><path clip-path=\"url(#clip430)\" d=\"M1907.46 48.0275 L1907.46 51.6733 L1873.19 51.6733 Q1873.68 59.3701 1877.81 63.421 Q1881.98 67.4314 1889.4 67.4314 Q1893.69 67.4314 1897.7 66.3781 Q1901.75 65.3249 1905.72 63.2184 L1905.72 70.267 Q1901.71 71.9684 1897.5 72.8596 Q1893.28 73.7508 1888.95 73.7508 Q1878.09 73.7508 1871.73 67.4314 Q1865.41 61.1119 1865.41 50.3365 Q1865.41 39.1965 1871.41 32.6746 Q1877.45 26.1121 1887.65 26.1121 Q1896.81 26.1121 1902.12 32.0264 Q1907.46 37.9003 1907.46 48.0275 M1900.01 45.84 Q1899.93 39.7232 1896.57 36.0774 Q1893.24 32.4315 1887.74 32.4315 Q1881.5 32.4315 1877.73 35.9558 Q1874 39.4801 1873.44 45.8805 L1900.01 45.84 Z\" fill=\"#000000\" fill-rule=\"nonzero\" fill-opacity=\"1\" /><path clip-path=\"url(#clip430)\" d=\"M1952.35 28.9478 L1952.35 35.9153 Q1949.19 34.1734 1945.99 33.3227 Q1942.83 32.4315 1939.59 32.4315 Q1932.34 32.4315 1928.33 37.0496 Q1924.31 41.6271 1924.31 49.9314 Q1924.31 58.2358 1928.33 62.8538 Q1932.34 67.4314 1939.59 67.4314 Q1942.83 67.4314 1945.99 66.5807 Q1949.19 65.6895 1952.35 63.9476 L1952.35 70.8341 Q1949.23 72.2924 1945.87 73.0216 Q1942.54 73.7508 1938.78 73.7508 Q1928.53 73.7508 1922.49 67.3098 Q1916.46 60.8689 1916.46 49.9314 Q1916.46 38.832 1922.53 32.472 Q1928.65 26.1121 1939.26 26.1121 Q1942.71 26.1121 1945.99 26.8413 Q1949.27 27.5299 1952.35 28.9478 Z\" fill=\"#000000\" fill-rule=\"nonzero\" fill-opacity=\"1\" /><path clip-path=\"url(#clip430)\" d=\"M1972.68 14.324 L1972.68 27.2059 L1988.04 27.2059 L1988.04 32.9987 L1972.68 32.9987 L1972.68 57.6282 Q1972.68 63.1779 1974.18 64.7578 Q1975.72 66.3376 1980.38 66.3376 L1988.04 66.3376 L1988.04 72.576 L1980.38 72.576 Q1971.75 72.576 1968.47 69.3758 Q1965.19 66.1351 1965.19 57.6282 L1965.19 32.9987 L1959.72 32.9987 L1959.72 27.2059 L1965.19 27.2059 L1965.19 14.324 L1972.68 14.324 Z\" fill=\"#000000\" fill-rule=\"nonzero\" fill-opacity=\"1\" /><path clip-path=\"url(#clip430)\" d=\"M1997.84 27.2059 L2005.29 27.2059 L2005.29 72.576 L1997.84 72.576 L1997.84 27.2059 M1997.84 9.54393 L2005.29 9.54393 L2005.29 18.9825 L1997.84 18.9825 L1997.84 9.54393 Z\" fill=\"#000000\" fill-rule=\"nonzero\" fill-opacity=\"1\" /><path clip-path=\"url(#clip430)\" d=\"M2038.47 32.4315 Q2032.47 32.4315 2028.99 37.1306 Q2025.51 41.7891 2025.51 49.9314 Q2025.51 58.0738 2028.95 62.7728 Q2032.43 67.4314 2038.47 67.4314 Q2044.42 67.4314 2047.91 62.7323 Q2051.39 58.0333 2051.39 49.9314 Q2051.39 41.8701 2047.91 37.1711 Q2044.42 32.4315 2038.47 32.4315 M2038.47 26.1121 Q2048.19 26.1121 2053.74 32.4315 Q2059.29 38.7509 2059.29 49.9314 Q2059.29 61.0714 2053.74 67.4314 Q2048.19 73.7508 2038.47 73.7508 Q2028.71 73.7508 2023.16 67.4314 Q2017.65 61.0714 2017.65 49.9314 Q2017.65 38.7509 2023.16 32.4315 Q2028.71 26.1121 2038.47 26.1121 Z\" fill=\"#000000\" fill-rule=\"nonzero\" fill-opacity=\"1\" /><path clip-path=\"url(#clip430)\" d=\"M2109.36 45.1919 L2109.36 72.576 L2101.91 72.576 L2101.91 45.4349 Q2101.91 38.994 2099.39 35.7938 Q2096.88 32.5936 2091.86 32.5936 Q2085.82 32.5936 2082.34 36.4419 Q2078.86 40.2903 2078.86 46.9338 L2078.86 72.576 L2071.36 72.576 L2071.36 27.2059 L2078.86 27.2059 L2078.86 34.2544 Q2081.53 30.163 2085.14 28.1376 Q2088.78 26.1121 2093.52 26.1121 Q2101.34 26.1121 2105.35 30.9732 Q2109.36 35.7938 2109.36 45.1919 Z\" fill=\"#000000\" fill-rule=\"nonzero\" fill-opacity=\"1\" /><path clip-path=\"url(#clip430)\" d=\"M2153.15 28.5427 L2153.15 35.5912 Q2149.99 33.9709 2146.59 33.1607 Q2143.19 32.3505 2139.54 32.3505 Q2133.99 32.3505 2131.19 34.0519 Q2128.44 35.7533 2128.44 39.156 Q2128.44 41.7486 2130.42 43.2475 Q2132.41 44.7058 2138.4 46.0426 L2140.96 46.6097 Q2148.9 48.3111 2152.22 51.4303 Q2155.58 54.509 2155.58 60.0587 Q2155.58 66.3781 2150.56 70.0644 Q2145.58 73.7508 2136.83 73.7508 Q2133.18 73.7508 2129.21 73.0216 Q2125.28 72.3329 2120.91 70.9151 L2120.91 63.2184 Q2125.04 65.3654 2129.05 66.4591 Q2133.06 67.5124 2136.99 67.5124 Q2142.25 67.5124 2145.09 65.73 Q2147.92 63.9071 2147.92 60.6258 Q2147.92 57.5877 2145.86 55.9673 Q2143.83 54.3469 2136.91 52.8481 L2134.31 52.2405 Q2127.39 50.7821 2124.31 47.7845 Q2121.23 44.7463 2121.23 39.4801 Q2121.23 33.0797 2125.77 29.5959 Q2130.3 26.1121 2138.65 26.1121 Q2142.78 26.1121 2146.43 26.7198 Q2150.07 27.3274 2153.15 28.5427 Z\" fill=\"#000000\" fill-rule=\"nonzero\" fill-opacity=\"1\" /><circle clip-path=\"url(#clip432)\" cx=\"254.067\" cy=\"465.366\" r=\"54\" fill=\"#90ee90\" fill-rule=\"evenodd\" fill-opacity=\"1\" stroke=\"#000000\" stroke-opacity=\"1\" stroke-width=\"3.2\"/>\n",
       "<circle clip-path=\"url(#clip432)\" cx=\"254.067\" cy=\"804.96\" r=\"54\" fill=\"#90ee90\" fill-rule=\"evenodd\" fill-opacity=\"1\" stroke=\"#000000\" stroke-opacity=\"1\" stroke-width=\"3.2\"/>\n",
       "<circle clip-path=\"url(#clip432)\" cx=\"254.067\" cy=\"1144.55\" r=\"54\" fill=\"#90ee90\" fill-rule=\"evenodd\" fill-opacity=\"1\" stroke=\"#000000\" stroke-opacity=\"1\" stroke-width=\"3.2\"/>\n",
       "<circle clip-path=\"url(#clip432)\" cx=\"933.255\" cy=\"804.96\" r=\"54\" fill=\"#90ee90\" fill-rule=\"evenodd\" fill-opacity=\"1\" stroke=\"#000000\" stroke-opacity=\"1\" stroke-width=\"3.2\"/>\n",
       "<circle clip-path=\"url(#clip432)\" cx=\"1612.44\" cy=\"804.96\" r=\"54\" fill=\"#90ee90\" fill-rule=\"evenodd\" fill-opacity=\"1\" stroke=\"#000000\" stroke-opacity=\"1\" stroke-width=\"3.2\"/>\n",
       "<circle clip-path=\"url(#clip432)\" cx=\"1612.44\" cy=\"1144.55\" r=\"54\" fill=\"#90ee90\" fill-rule=\"evenodd\" fill-opacity=\"1\" stroke=\"#000000\" stroke-opacity=\"1\" stroke-width=\"3.2\"/>\n",
       "<circle clip-path=\"url(#clip432)\" cx=\"2291.63\" cy=\"804.96\" r=\"54\" fill=\"#90ee90\" fill-rule=\"evenodd\" fill-opacity=\"1\" stroke=\"#000000\" stroke-opacity=\"1\" stroke-width=\"3.2\"/>\n",
       "<polyline clip-path=\"url(#clip432)\" style=\"stroke:#000000; stroke-linecap:round; stroke-linejoin:round; stroke-width:4; stroke-opacity:1; fill:none\" points=\"254.067,465.366 1612.44,804.96 \"/>\n",
       "<polyline clip-path=\"url(#clip432)\" style=\"stroke:#000000; stroke-linecap:round; stroke-linejoin:round; stroke-width:4; stroke-opacity:1; fill:none\" points=\"1581.88,778.766 1612.44,804.96 1573.15,813.691 \"/>\n",
       "<polyline clip-path=\"url(#clip432)\" style=\"stroke:#000000; stroke-linecap:round; stroke-linejoin:round; stroke-width:4; stroke-opacity:1; fill:none\" points=\"1612.44,804.96 254.067,465.366 \"/>\n",
       "<polyline clip-path=\"url(#clip432)\" style=\"stroke:#000000; stroke-linecap:round; stroke-linejoin:round; stroke-width:4; stroke-opacity:1; fill:none\" points=\"254.067,804.96 1612.44,804.96 \"/>\n",
       "<polyline clip-path=\"url(#clip432)\" style=\"stroke:#000000; stroke-linecap:round; stroke-linejoin:round; stroke-width:4; stroke-opacity:1; fill:none\" points=\"1576.44,786.96 1612.44,804.96 1576.44,822.96 \"/>\n",
       "<polyline clip-path=\"url(#clip432)\" style=\"stroke:#000000; stroke-linecap:round; stroke-linejoin:round; stroke-width:4; stroke-opacity:1; fill:none\" points=\"1612.44,804.96 254.067,804.96 \"/>\n",
       "<polyline clip-path=\"url(#clip432)\" style=\"stroke:#000000; stroke-linecap:round; stroke-linejoin:round; stroke-width:4; stroke-opacity:1; fill:none\" points=\"254.067,1144.55 1612.44,804.96 \"/>\n",
       "<polyline clip-path=\"url(#clip432)\" style=\"stroke:#000000; stroke-linecap:round; stroke-linejoin:round; stroke-width:4; stroke-opacity:1; fill:none\" points=\"1573.15,796.229 1612.44,804.96 1581.88,831.154 \"/>\n",
       "<polyline clip-path=\"url(#clip432)\" style=\"stroke:#000000; stroke-linecap:round; stroke-linejoin:round; stroke-width:4; stroke-opacity:1; fill:none\" points=\"1612.44,804.96 254.067,1144.55 \"/>\n",
       "<polyline clip-path=\"url(#clip432)\" style=\"stroke:#000000; stroke-linecap:round; stroke-linejoin:round; stroke-width:4; stroke-opacity:1; fill:none\" points=\"933.255,804.96 1612.44,804.96 \"/>\n",
       "<polyline clip-path=\"url(#clip432)\" style=\"stroke:#000000; stroke-linecap:round; stroke-linejoin:round; stroke-width:4; stroke-opacity:1; fill:none\" points=\"1576.44,786.96 1612.44,804.96 1576.44,822.96 \"/>\n",
       "<polyline clip-path=\"url(#clip432)\" style=\"stroke:#000000; stroke-linecap:round; stroke-linejoin:round; stroke-width:4; stroke-opacity:1; fill:none\" points=\"1612.44,804.96 933.255,804.96 \"/>\n",
       "<polyline clip-path=\"url(#clip432)\" style=\"stroke:#000000; stroke-linecap:round; stroke-linejoin:round; stroke-width:4; stroke-opacity:1; fill:none\" points=\"254.067,465.366 933.255,804.96 \"/>\n",
       "<polyline clip-path=\"url(#clip432)\" style=\"stroke:#000000; stroke-linecap:round; stroke-linejoin:round; stroke-width:4; stroke-opacity:1; fill:none\" points=\"909.105,772.761 933.255,804.96 893.005,804.96 \"/>\n",
       "<polyline clip-path=\"url(#clip432)\" style=\"stroke:#000000; stroke-linecap:round; stroke-linejoin:round; stroke-width:4; stroke-opacity:1; fill:none\" points=\"933.255,804.96 254.067,465.366 \"/>\n",
       "<polyline clip-path=\"url(#clip432)\" style=\"stroke:#000000; stroke-linecap:round; stroke-linejoin:round; stroke-width:4; stroke-opacity:1; fill:none\" points=\"254.067,804.96 933.255,804.96 \"/>\n",
       "<polyline clip-path=\"url(#clip432)\" style=\"stroke:#000000; stroke-linecap:round; stroke-linejoin:round; stroke-width:4; stroke-opacity:1; fill:none\" points=\"897.255,786.96 933.255,804.96 897.255,822.96 \"/>\n",
       "<polyline clip-path=\"url(#clip432)\" style=\"stroke:#000000; stroke-linecap:round; stroke-linejoin:round; stroke-width:4; stroke-opacity:1; fill:none\" points=\"933.255,804.96 254.067,804.96 \"/>\n",
       "<polyline clip-path=\"url(#clip432)\" style=\"stroke:#000000; stroke-linecap:round; stroke-linejoin:round; stroke-width:4; stroke-opacity:1; fill:none\" points=\"254.067,1144.55 933.255,804.96 \"/>\n",
       "<polyline clip-path=\"url(#clip432)\" style=\"stroke:#000000; stroke-linecap:round; stroke-linejoin:round; stroke-width:4; stroke-opacity:1; fill:none\" points=\"893.005,804.96 933.255,804.96 909.105,837.159 \"/>\n",
       "<polyline clip-path=\"url(#clip432)\" style=\"stroke:#000000; stroke-linecap:round; stroke-linejoin:round; stroke-width:4; stroke-opacity:1; fill:none\" points=\"933.255,804.96 254.067,1144.55 \"/>\n",
       "<polyline clip-path=\"url(#clip432)\" style=\"stroke:#000000; stroke-linecap:round; stroke-linejoin:round; stroke-width:4; stroke-opacity:1; fill:none\" points=\"933.255,804.96 2291.63,804.96 \"/>\n",
       "<polyline clip-path=\"url(#clip432)\" style=\"stroke:#000000; stroke-linecap:round; stroke-linejoin:round; stroke-width:4; stroke-opacity:1; fill:none\" points=\"2255.63,786.96 2291.63,804.96 2255.63,822.96 \"/>\n",
       "<polyline clip-path=\"url(#clip432)\" style=\"stroke:#000000; stroke-linecap:round; stroke-linejoin:round; stroke-width:4; stroke-opacity:1; fill:none\" points=\"2291.63,804.96 933.255,804.96 \"/>\n",
       "<polyline clip-path=\"url(#clip432)\" style=\"stroke:#000000; stroke-linecap:round; stroke-linejoin:round; stroke-width:4; stroke-opacity:1; fill:none\" points=\"1612.44,1144.55 2291.63,804.96 \"/>\n",
       "<polyline clip-path=\"url(#clip432)\" style=\"stroke:#000000; stroke-linecap:round; stroke-linejoin:round; stroke-width:4; stroke-opacity:1; fill:none\" points=\"2251.38,804.96 2291.63,804.96 2267.48,837.159 \"/>\n",
       "<polyline clip-path=\"url(#clip432)\" style=\"stroke:#000000; stroke-linecap:round; stroke-linejoin:round; stroke-width:4; stroke-opacity:1; fill:none\" points=\"2291.63,804.96 1612.44,1144.55 \"/>\n",
       "<polyline clip-path=\"url(#clip432)\" style=\"stroke:#000000; stroke-linecap:round; stroke-linejoin:round; stroke-width:4; stroke-opacity:1; fill:none\" points=\"254.067,465.366 1612.44,1144.55 \"/>\n",
       "<polyline clip-path=\"url(#clip432)\" style=\"stroke:#000000; stroke-linecap:round; stroke-linejoin:round; stroke-width:4; stroke-opacity:1; fill:none\" points=\"1588.29,1112.35 1612.44,1144.55 1572.19,1144.55 \"/>\n",
       "<polyline clip-path=\"url(#clip432)\" style=\"stroke:#000000; stroke-linecap:round; stroke-linejoin:round; stroke-width:4; stroke-opacity:1; fill:none\" points=\"1612.44,1144.55 254.067,465.366 \"/>\n",
       "<polyline clip-path=\"url(#clip432)\" style=\"stroke:#000000; stroke-linecap:round; stroke-linejoin:round; stroke-width:4; stroke-opacity:1; fill:none\" points=\"254.067,804.96 1612.44,1144.55 \"/>\n",
       "<polyline clip-path=\"url(#clip432)\" style=\"stroke:#000000; stroke-linecap:round; stroke-linejoin:round; stroke-width:4; stroke-opacity:1; fill:none\" points=\"1581.88,1118.36 1612.44,1144.55 1573.15,1153.28 \"/>\n",
       "<polyline clip-path=\"url(#clip432)\" style=\"stroke:#000000; stroke-linecap:round; stroke-linejoin:round; stroke-width:4; stroke-opacity:1; fill:none\" points=\"1612.44,1144.55 254.067,804.96 \"/>\n",
       "<polyline clip-path=\"url(#clip432)\" style=\"stroke:#000000; stroke-linecap:round; stroke-linejoin:round; stroke-width:4; stroke-opacity:1; fill:none\" points=\"254.067,1144.55 1612.44,1144.55 \"/>\n",
       "<polyline clip-path=\"url(#clip432)\" style=\"stroke:#000000; stroke-linecap:round; stroke-linejoin:round; stroke-width:4; stroke-opacity:1; fill:none\" points=\"1576.44,1126.55 1612.44,1144.55 1576.44,1162.55 \"/>\n",
       "<polyline clip-path=\"url(#clip432)\" style=\"stroke:#000000; stroke-linecap:round; stroke-linejoin:round; stroke-width:4; stroke-opacity:1; fill:none\" points=\"1612.44,1144.55 254.067,1144.55 \"/>\n",
       "<polyline clip-path=\"url(#clip432)\" style=\"stroke:#000000; stroke-linecap:round; stroke-linejoin:round; stroke-width:4; stroke-opacity:1; fill:none\" points=\"1612.44,804.96 2291.63,804.96 \"/>\n",
       "<polyline clip-path=\"url(#clip432)\" style=\"stroke:#000000; stroke-linecap:round; stroke-linejoin:round; stroke-width:4; stroke-opacity:1; fill:none\" points=\"2255.63,786.96 2291.63,804.96 2255.63,822.96 \"/>\n",
       "<polyline clip-path=\"url(#clip432)\" style=\"stroke:#000000; stroke-linecap:round; stroke-linejoin:round; stroke-width:4; stroke-opacity:1; fill:none\" points=\"2291.63,804.96 1612.44,804.96 \"/>\n",
       "<polyline clip-path=\"url(#clip432)\" style=\"stroke:#000000; stroke-linecap:round; stroke-linejoin:round; stroke-width:4; stroke-opacity:1; fill:none\" points=\"1612.44,804.96 1612.44,1144.55 \"/>\n",
       "<polyline clip-path=\"url(#clip432)\" style=\"stroke:#000000; stroke-linecap:round; stroke-linejoin:round; stroke-width:4; stroke-opacity:1; fill:none\" points=\"1630.44,1108.55 1612.44,1144.55 1594.44,1108.55 \"/>\n",
       "<polyline clip-path=\"url(#clip432)\" style=\"stroke:#000000; stroke-linecap:round; stroke-linejoin:round; stroke-width:4; stroke-opacity:1; fill:none\" points=\"1612.44,1144.55 1612.44,804.96 \"/>\n",
       "<path clip-path=\"url(#clip430)\" d=\"M226.4 435.126 L238.593 435.126 L254.027 476.284 L269.542 435.126 L281.735 435.126 L281.735 495.606 L273.755 495.606 L273.755 442.499 L258.159 483.98 L249.936 483.98 L234.34 442.499 L234.34 495.606 L226.4 495.606 L226.4 435.126 Z\" fill=\"#000000\" fill-rule=\"nonzero\" fill-opacity=\"1\" /><path clip-path=\"url(#clip430)\" d=\"M249.976 774.72 L258.159 774.72 L258.159 835.2 L249.976 835.2 L249.976 774.72 Z\" fill=\"#000000\" fill-rule=\"nonzero\" fill-opacity=\"1\" /><path clip-path=\"url(#clip430)\" d=\"M234.583 1114.31 L272.823 1114.31 L272.823 1121.2 L242.765 1121.2 L242.765 1139.11 L271.567 1139.11 L271.567 1145.99 L242.765 1145.99 L242.765 1167.91 L273.552 1167.91 L273.552 1174.79 L234.583 1174.79 L234.583 1114.31 Z\" fill=\"#000000\" fill-rule=\"nonzero\" fill-opacity=\"1\" /><path clip-path=\"url(#clip430)\" d=\"M910.367 774.72 L921.386 774.72 L948.203 825.316 L948.203 774.72 L956.142 774.72 L956.142 835.2 L945.124 835.2 L918.307 784.604 L918.307 835.2 L910.367 835.2 L910.367 774.72 Z\" fill=\"#000000\" fill-rule=\"nonzero\" fill-opacity=\"1\" /><path clip-path=\"url(#clip430)\" d=\"M1586.86 774.72 L1638.02 774.72 L1638.02 781.607 L1616.55 781.607 L1616.55 835.2 L1608.33 835.2 L1608.33 781.607 L1586.86 781.607 L1586.86 774.72 Z\" fill=\"#000000\" fill-rule=\"nonzero\" fill-opacity=\"1\" /><path clip-path=\"url(#clip430)\" d=\"M1636.83 1118.97 L1636.83 1127.6 Q1632.7 1123.75 1628 1121.85 Q1623.34 1119.94 1618.07 1119.94 Q1607.7 1119.94 1602.19 1126.3 Q1596.68 1132.62 1596.68 1144.61 Q1596.68 1156.56 1602.19 1162.92 Q1607.7 1169.24 1618.07 1169.24 Q1623.34 1169.24 1628 1167.34 Q1632.7 1165.44 1636.83 1161.59 L1636.83 1170.14 Q1632.53 1173.05 1627.71 1174.51 Q1622.93 1175.97 1617.59 1175.97 Q1603.85 1175.97 1595.95 1167.58 Q1588.06 1159.16 1588.06 1144.61 Q1588.06 1130.03 1595.95 1121.65 Q1603.85 1113.22 1617.59 1113.22 Q1623.01 1113.22 1627.79 1114.68 Q1632.62 1116.1 1636.83 1118.97 Z\" fill=\"#000000\" fill-rule=\"nonzero\" fill-opacity=\"1\" /><path clip-path=\"url(#clip430)\" d=\"M2266.13 774.72 L2274.92 774.72 L2291.69 799.593 L2308.34 774.72 L2317.13 774.72 L2295.74 806.398 L2295.74 835.2 L2287.52 835.2 L2287.52 806.398 L2266.13 774.72 Z\" fill=\"#000000\" fill-rule=\"nonzero\" fill-opacity=\"1\" /></svg>\n"
      ]
     },
     "metadata": {},
     "output_type": "display_data"
    }
   ],
   "source": [
    "using Graphs\n",
    "using Plots\n",
    "\n",
    "# Crear el grafo dirigido\n",
    "G = DiGraph(7)\n",
    "\n",
    "# Etiquetas de los nodos (siglas)\n",
    "labels = Dict(\n",
    "    1 => \"M\",  # Marital Status\n",
    "    2 => \"I\",  # Family Income\n",
    "    3 => \"E\",  # Education\n",
    "    4 => \"N\",  # Number of Children\n",
    "    5 => \"T\",  # Breastfed\n",
    "    6 => \"C\",  # Childcare Outside Home\n",
    "    7 => \"Y\"   # Number of Infections\n",
    ")\n",
    "\n",
    "# Agregar aristas basadas en el DAG\n",
    "edges = [\n",
    "    (1, 5),  # M → T\n",
    "    (2, 5),  # I → T\n",
    "    (3, 5),  # E → T\n",
    "    (4, 5),  # N → T\n",
    "    (1, 4),  # M → N\n",
    "    (2, 4),  # I → N\n",
    "    (3, 4),  # E → N\n",
    "    (4, 7),  # N → Y\n",
    "    (6, 7),  # C → Y\n",
    "    (1, 6),  # M → C\n",
    "    (2, 6),  # I → C\n",
    "    (3, 6),  # E → C\n",
    "    (5, 7),  # T → Y\n",
    "    (5, 6)   # T → C\n",
    "]\n",
    "\n",
    "# Agregar aristas al grafo\n",
    "for (src, dest) in edges\n",
    "    add_edge!(G, src, dest)\n",
    "end\n",
    "\n",
    "# Coordenadas de los nodos\n",
    "positions = Dict(\n",
    "    1 => (0.0, 2.0),  # M\n",
    "    2 => (0.0, 1.0),  # I\n",
    "    3 => (0.0, 0.0),  # E\n",
    "    4 => (2.0, 1.0),  # N\n",
    "    5 => (4.0, 1.0),  # T\n",
    "    6 => (4.0, 0.0),  # C\n",
    "    7 => (6.0, 1.0)   # Y\n",
    ")\n",
    "\n",
    "# Extraer nodos y aristas\n",
    "x_coords = [positions[i][1] for i in 1:nv(G)]\n",
    "y_coords = [positions[i][2] for i in 1:nv(G)]\n",
    "edges_coords = [(positions[src][1], positions[src][2], positions[dest][1], positions[dest][2]) for (src, dest) in edges]\n",
    "\n",
    "# Graficar nodos\n",
    "scatter(\n",
    "    x_coords, y_coords,\n",
    "    label = \"\",\n",
    "    color = :lightgreen,\n",
    "    legend = false,\n",
    "    markersize = 15,\n",
    "    title = \"DAG for Breastfeeding and Baby Infections\",\n",
    "    grid = false,\n",
    "    aspect_ratio = :equal\n",
    ")\n",
    "\n",
    "# Agregar etiquetas con las siglas\n",
    "for (i, (x, y)) in enumerate(zip(x_coords, y_coords))\n",
    "    annotate!(x, y, labels[i])\n",
    "end\n",
    "\n",
    "# Graficar aristas\n",
    "for (x1, y1, x2, y2) in edges_coords\n",
    "    plot!([x1, x2], [y1, y2], arrow = true, color = :black, lw = 1)\n",
    "end\n",
    "\n",
    "# Mostrar el gráfico\n",
    "display(current())\n"
   ]
  },
  {
   "cell_type": "markdown",
   "metadata": {},
   "source": [
    "* **Confounders**:\n",
    "        \n",
    "        Age (A): It affects both Smoking Behavior (T) and Lung Function (Y).\n",
    "        \n",
    "        Sex (S): It affects both Smoking Behavior (T) and Lung Function (Y).\n",
    "\n",
    "* **Colliders**:\n",
    "        \n",
    "        Smoking Behavior (T): It has arrows coming in from Age (A) and Sex (S).\n",
    "        \n",
    "        Lung Function (Y): It has arrows coming in from Height (H) and Smoking Behavior (T).\n",
    "\n",
    "* **Controls**\n",
    "\n",
    "        Age (A): It affects both Height (H) and Lung Function (Y) directly. Controlling for age ensures that the causal effect of smoking behavior on lung function is not confounded by age-related differences in height or lung function.\n",
    "\n",
    "        Sex (S): It influences both Smoking Behavior (T) and Lung Function (Y). Controlling for sex removes bias caused by gender differences in smoking habits or physiological differences affecting lung function.   "
   ]
  },
  {
   "cell_type": "markdown",
   "metadata": {},
   "source": [
    "* You are trying to study the effect of breast feeding in the number of infections a baby is likely to\n",
    "have. Your dataset contains the following variables : (5 pts)\n",
    "\n",
    "        i. Breast fed (Treatment)\n",
    "        ii. Number of infections of the baby (Outcome)\n",
    "        iii. Marital status\n",
    "        iv. Family income\n",
    "        v. Education\n",
    "        vi. Number of children in the house\n",
    "        vii. Childcare outside the home"
   ]
  },
  {
   "cell_type": "code",
   "execution_count": 22,
   "metadata": {},
   "outputs": [
    {
     "data": {
      "image/png": "[encoded data removed]",
      "image/svg+xml": [
       "<?xml version=\"1.0\" encoding=\"utf-8\"?>\n",
       "<svg xmlns=\"http://www.w3.org/2000/svg\" xmlns:xlink=\"http://www.w3.org/1999/xlink\" width=\"600\" height=\"400\" viewBox=\"0 0 2400 1600\">\n",
       "<defs>\n",
       "  <clipPath id=\"clip200\">\n",
       "    <rect x=\"0\" y=\"0\" width=\"2400\" height=\"1600\"/>\n",
       "  </clipPath>\n",
       "</defs>\n",
       "<path clip-path=\"url(#clip200)\" d=\"M0 1600 L2400 1600 L2400 0 L0 0  Z\" fill=\"#ffffff\" fill-rule=\"evenodd\" fill-opacity=\"1\"/>\n",
       "<defs>\n",
       "  <clipPath id=\"clip201\">\n",
       "    <rect x=\"480\" y=\"0\" width=\"1681\" height=\"1600\"/>\n",
       "  </clipPath>\n",
       "</defs>\n",
       "<path clip-path=\"url(#clip200)\" d=\"M156.112 1486.45 L2352.76 1486.45 L2352.76 123.472 L156.112 123.472  Z\" fill=\"#ffffff\" fill-rule=\"evenodd\" fill-opacity=\"1\"/>\n",
       "<defs>\n",
       "  <clipPath id=\"clip202\">\n",
       "    <rect x=\"156\" y=\"123\" width=\"2198\" height=\"1364\"/>\n",
       "  </clipPath>\n",
       "</defs>\n",
       "<polyline clip-path=\"url(#clip200)\" style=\"stroke:#000000; stroke-linecap:round; stroke-linejoin:round; stroke-width:4; stroke-opacity:1; fill:none\" points=\"156.112,1486.45 2352.76,1486.45 \"/>\n",
       "<polyline clip-path=\"url(#clip200)\" style=\"stroke:#000000; stroke-linecap:round; stroke-linejoin:round; stroke-width:4; stroke-opacity:1; fill:none\" points=\"290.064,1486.45 290.064,1467.55 \"/>\n",
       "<polyline clip-path=\"url(#clip200)\" style=\"stroke:#000000; stroke-linecap:round; stroke-linejoin:round; stroke-width:4; stroke-opacity:1; fill:none\" points=\"932.977,1486.45 932.977,1467.55 \"/>\n",
       "<polyline clip-path=\"url(#clip200)\" style=\"stroke:#000000; stroke-linecap:round; stroke-linejoin:round; stroke-width:4; stroke-opacity:1; fill:none\" points=\"1575.89,1486.45 1575.89,1467.55 \"/>\n",
       "<polyline clip-path=\"url(#clip200)\" style=\"stroke:#000000; stroke-linecap:round; stroke-linejoin:round; stroke-width:4; stroke-opacity:1; fill:none\" points=\"2218.8,1486.45 2218.8,1467.55 \"/>\n",
       "<path clip-path=\"url(#clip200)\" d=\"M259.821 1532.02 L289.497 1532.02 L289.497 1535.95 L259.821 1535.95 L259.821 1532.02 Z\" fill=\"#000000\" fill-rule=\"nonzero\" fill-opacity=\"1\" /><path clip-path=\"url(#clip200)\" d=\"M300.4 1544.91 L308.039 1544.91 L308.039 1518.55 L299.729 1520.21 L299.729 1515.95 L307.993 1514.29 L312.668 1514.29 L312.668 1544.91 L320.307 1544.91 L320.307 1548.85 L300.4 1548.85 L300.4 1544.91 Z\" fill=\"#000000\" fill-rule=\"nonzero\" fill-opacity=\"1\" /><path clip-path=\"url(#clip200)\" d=\"M932.977 1517.37 Q929.366 1517.37 927.538 1520.93 Q925.732 1524.47 925.732 1531.6 Q925.732 1538.71 927.538 1542.27 Q929.366 1545.82 932.977 1545.82 Q936.612 1545.82 938.417 1542.27 Q940.246 1538.71 940.246 1531.6 Q940.246 1524.47 938.417 1520.93 Q936.612 1517.37 932.977 1517.37 M932.977 1513.66 Q938.788 1513.66 941.843 1518.27 Q944.922 1522.85 944.922 1531.6 Q944.922 1540.33 941.843 1544.94 Q938.788 1549.52 932.977 1549.52 Q927.167 1549.52 924.089 1544.94 Q921.033 1540.33 921.033 1531.6 Q921.033 1522.85 924.089 1518.27 Q927.167 1513.66 932.977 1513.66 Z\" fill=\"#000000\" fill-rule=\"nonzero\" fill-opacity=\"1\" /><path clip-path=\"url(#clip200)\" d=\"M1566.27 1544.91 L1573.91 1544.91 L1573.91 1518.55 L1565.6 1520.21 L1565.6 1515.95 L1573.87 1514.29 L1578.54 1514.29 L1578.54 1544.91 L1586.18 1544.91 L1586.18 1548.85 L1566.27 1548.85 L1566.27 1544.91 Z\" fill=\"#000000\" fill-rule=\"nonzero\" fill-opacity=\"1\" /><path clip-path=\"url(#clip200)\" d=\"M2213.46 1544.91 L2229.78 1544.91 L2229.78 1548.85 L2207.83 1548.85 L2207.83 1544.91 Q2210.49 1542.16 2215.08 1537.53 Q2219.68 1532.88 2220.86 1531.53 Q2223.11 1529.01 2223.99 1527.27 Q2224.89 1525.51 2224.89 1523.82 Q2224.89 1521.07 2222.95 1519.33 Q2221.03 1517.6 2217.92 1517.6 Q2215.72 1517.6 2213.27 1518.36 Q2210.84 1519.13 2208.06 1520.68 L2208.06 1515.95 Q2210.89 1514.82 2213.34 1514.24 Q2215.79 1513.66 2217.83 1513.66 Q2223.2 1513.66 2226.4 1516.35 Q2229.59 1519.03 2229.59 1523.52 Q2229.59 1525.65 2228.78 1527.57 Q2227.99 1529.47 2225.89 1532.07 Q2225.31 1532.74 2222.21 1535.95 Q2219.1 1539.15 2213.46 1544.91 Z\" fill=\"#000000\" fill-rule=\"nonzero\" fill-opacity=\"1\" /><polyline clip-path=\"url(#clip200)\" style=\"stroke:#000000; stroke-linecap:round; stroke-linejoin:round; stroke-width:4; stroke-opacity:1; fill:none\" points=\"156.112,1486.45 156.112,123.472 \"/>\n",
       "<polyline clip-path=\"url(#clip200)\" style=\"stroke:#000000; stroke-linecap:round; stroke-linejoin:round; stroke-width:4; stroke-opacity:1; fill:none\" points=\"156.112,1447.87 175.01,1447.87 \"/>\n",
       "<polyline clip-path=\"url(#clip200)\" style=\"stroke:#000000; stroke-linecap:round; stroke-linejoin:round; stroke-width:4; stroke-opacity:1; fill:none\" points=\"156.112,1126.42 175.01,1126.42 \"/>\n",
       "<polyline clip-path=\"url(#clip200)\" style=\"stroke:#000000; stroke-linecap:round; stroke-linejoin:round; stroke-width:4; stroke-opacity:1; fill:none\" points=\"156.112,804.96 175.01,804.96 \"/>\n",
       "<polyline clip-path=\"url(#clip200)\" style=\"stroke:#000000; stroke-linecap:round; stroke-linejoin:round; stroke-width:4; stroke-opacity:1; fill:none\" points=\"156.112,483.503 175.01,483.503 \"/>\n",
       "<polyline clip-path=\"url(#clip200)\" style=\"stroke:#000000; stroke-linecap:round; stroke-linejoin:round; stroke-width:4; stroke-opacity:1; fill:none\" points=\"156.112,162.047 175.01,162.047 \"/>\n",
       "<path clip-path=\"url(#clip200)\" d=\"M62.9365 1433.67 Q59.3254 1433.67 57.4967 1437.24 Q55.6912 1440.78 55.6912 1447.91 Q55.6912 1455.01 57.4967 1458.58 Q59.3254 1462.12 62.9365 1462.12 Q66.5707 1462.12 68.3763 1458.58 Q70.205 1455.01 70.205 1447.91 Q70.205 1440.78 68.3763 1437.24 Q66.5707 1433.67 62.9365 1433.67 M62.9365 1429.97 Q68.7467 1429.97 71.8022 1434.57 Q74.8809 1439.16 74.8809 1447.91 Q74.8809 1456.63 71.8022 1461.24 Q68.7467 1465.82 62.9365 1465.82 Q57.1264 1465.82 54.0477 1461.24 Q50.9921 1456.63 50.9921 1447.91 Q50.9921 1439.16 54.0477 1434.57 Q57.1264 1429.97 62.9365 1429.97 Z\" fill=\"#000000\" fill-rule=\"nonzero\" fill-opacity=\"1\" /><path clip-path=\"url(#clip200)\" d=\"M83.0984 1459.27 L87.9827 1459.27 L87.9827 1465.15 L83.0984 1465.15 L83.0984 1459.27 Z\" fill=\"#000000\" fill-rule=\"nonzero\" fill-opacity=\"1\" /><path clip-path=\"url(#clip200)\" d=\"M108.168 1433.67 Q104.557 1433.67 102.728 1437.24 Q100.922 1440.78 100.922 1447.91 Q100.922 1455.01 102.728 1458.58 Q104.557 1462.12 108.168 1462.12 Q111.802 1462.12 113.608 1458.58 Q115.436 1455.01 115.436 1447.91 Q115.436 1440.78 113.608 1437.24 Q111.802 1433.67 108.168 1433.67 M108.168 1429.97 Q113.978 1429.97 117.033 1434.57 Q120.112 1439.16 120.112 1447.91 Q120.112 1456.63 117.033 1461.24 Q113.978 1465.82 108.168 1465.82 Q102.358 1465.82 99.2789 1461.24 Q96.2234 1456.63 96.2234 1447.91 Q96.2234 1439.16 99.2789 1434.57 Q102.358 1429.97 108.168 1429.97 Z\" fill=\"#000000\" fill-rule=\"nonzero\" fill-opacity=\"1\" /><path clip-path=\"url(#clip200)\" d=\"M63.9319 1112.22 Q60.3208 1112.22 58.4921 1115.78 Q56.6865 1119.32 56.6865 1126.45 Q56.6865 1133.56 58.4921 1137.12 Q60.3208 1140.66 63.9319 1140.66 Q67.5661 1140.66 69.3717 1137.12 Q71.2004 1133.56 71.2004 1126.45 Q71.2004 1119.32 69.3717 1115.78 Q67.5661 1112.22 63.9319 1112.22 M63.9319 1108.51 Q69.742 1108.51 72.7976 1113.12 Q75.8763 1117.7 75.8763 1126.45 Q75.8763 1135.18 72.7976 1139.78 Q69.742 1144.37 63.9319 1144.37 Q58.1217 1144.37 55.043 1139.78 Q51.9875 1135.18 51.9875 1126.45 Q51.9875 1117.7 55.043 1113.12 Q58.1217 1108.51 63.9319 1108.51 Z\" fill=\"#000000\" fill-rule=\"nonzero\" fill-opacity=\"1\" /><path clip-path=\"url(#clip200)\" d=\"M84.0938 1137.82 L88.978 1137.82 L88.978 1143.7 L84.0938 1143.7 L84.0938 1137.82 Z\" fill=\"#000000\" fill-rule=\"nonzero\" fill-opacity=\"1\" /><path clip-path=\"url(#clip200)\" d=\"M99.2095 1109.14 L117.566 1109.14 L117.566 1113.07 L103.492 1113.07 L103.492 1121.54 Q104.51 1121.2 105.529 1121.03 Q106.547 1120.85 107.566 1120.85 Q113.353 1120.85 116.733 1124.02 Q120.112 1127.19 120.112 1132.61 Q120.112 1138.19 116.64 1141.29 Q113.168 1144.37 106.848 1144.37 Q104.672 1144.37 102.404 1144 Q100.159 1143.63 97.7511 1142.89 L97.7511 1138.19 Q99.8345 1139.32 102.057 1139.88 Q104.279 1140.43 106.756 1140.43 Q110.76 1140.43 113.098 1138.33 Q115.436 1136.22 115.436 1132.61 Q115.436 1129 113.098 1126.89 Q110.76 1124.78 106.756 1124.78 Q104.881 1124.78 103.006 1125.2 Q101.154 1125.62 99.2095 1126.5 L99.2095 1109.14 Z\" fill=\"#000000\" fill-rule=\"nonzero\" fill-opacity=\"1\" /><path clip-path=\"url(#clip200)\" d=\"M53.7467 818.305 L61.3856 818.305 L61.3856 791.939 L53.0754 793.606 L53.0754 789.347 L61.3393 787.68 L66.0152 787.68 L66.0152 818.305 L73.654 818.305 L73.654 822.24 L53.7467 822.24 L53.7467 818.305 Z\" fill=\"#000000\" fill-rule=\"nonzero\" fill-opacity=\"1\" /><path clip-path=\"url(#clip200)\" d=\"M83.0984 816.36 L87.9827 816.36 L87.9827 822.24 L83.0984 822.24 L83.0984 816.36 Z\" fill=\"#000000\" fill-rule=\"nonzero\" fill-opacity=\"1\" /><path clip-path=\"url(#clip200)\" d=\"M108.168 790.759 Q104.557 790.759 102.728 794.323 Q100.922 797.865 100.922 804.995 Q100.922 812.101 102.728 815.666 Q104.557 819.208 108.168 819.208 Q111.802 819.208 113.608 815.666 Q115.436 812.101 115.436 804.995 Q115.436 797.865 113.608 794.323 Q111.802 790.759 108.168 790.759 M108.168 787.055 Q113.978 787.055 117.033 791.661 Q120.112 796.245 120.112 804.995 Q120.112 813.722 117.033 818.328 Q113.978 822.911 108.168 822.911 Q102.358 822.911 99.2789 818.328 Q96.2234 813.722 96.2234 804.995 Q96.2234 796.245 99.2789 791.661 Q102.358 787.055 108.168 787.055 Z\" fill=\"#000000\" fill-rule=\"nonzero\" fill-opacity=\"1\" /><path clip-path=\"url(#clip200)\" d=\"M54.7421 496.848 L62.381 496.848 L62.381 470.483 L54.0708 472.149 L54.0708 467.89 L62.3347 466.223 L67.0106 466.223 L67.0106 496.848 L74.6494 496.848 L74.6494 500.783 L54.7421 500.783 L54.7421 496.848 Z\" fill=\"#000000\" fill-rule=\"nonzero\" fill-opacity=\"1\" /><path clip-path=\"url(#clip200)\" d=\"M84.0938 494.904 L88.978 494.904 L88.978 500.783 L84.0938 500.783 L84.0938 494.904 Z\" fill=\"#000000\" fill-rule=\"nonzero\" fill-opacity=\"1\" /><path clip-path=\"url(#clip200)\" d=\"M99.2095 466.223 L117.566 466.223 L117.566 470.159 L103.492 470.159 L103.492 478.631 Q104.51 478.284 105.529 478.122 Q106.547 477.936 107.566 477.936 Q113.353 477.936 116.733 481.108 Q120.112 484.279 120.112 489.696 Q120.112 495.274 116.64 498.376 Q113.168 501.455 106.848 501.455 Q104.672 501.455 102.404 501.084 Q100.159 500.714 97.7511 499.973 L97.7511 495.274 Q99.8345 496.408 102.057 496.964 Q104.279 497.52 106.756 497.52 Q110.76 497.52 113.098 495.413 Q115.436 493.307 115.436 489.696 Q115.436 486.084 113.098 483.978 Q110.76 481.872 106.756 481.872 Q104.881 481.872 103.006 482.288 Q101.154 482.705 99.2095 483.584 L99.2095 466.223 Z\" fill=\"#000000\" fill-rule=\"nonzero\" fill-opacity=\"1\" /><path clip-path=\"url(#clip200)\" d=\"M56.9643 175.392 L73.2837 175.392 L73.2837 179.327 L51.3393 179.327 L51.3393 175.392 Q54.0014 172.637 58.5847 168.008 Q63.1911 163.355 64.3717 162.012 Q66.617 159.489 67.4967 157.753 Q68.3994 155.994 68.3994 154.304 Q68.3994 151.549 66.455 149.813 Q64.5337 148.077 61.4319 148.077 Q59.2328 148.077 56.7791 148.841 Q54.3486 149.605 51.5708 151.156 L51.5708 146.434 Q54.3949 145.299 56.8486 144.721 Q59.3023 144.142 61.3393 144.142 Q66.7096 144.142 69.9041 146.827 Q73.0985 149.512 73.0985 154.003 Q73.0985 156.133 72.2883 158.054 Q71.5013 159.952 69.3948 162.545 Q68.8161 163.216 65.7143 166.433 Q62.6124 169.628 56.9643 175.392 Z\" fill=\"#000000\" fill-rule=\"nonzero\" fill-opacity=\"1\" /><path clip-path=\"url(#clip200)\" d=\"M83.0984 173.447 L87.9827 173.447 L87.9827 179.327 L83.0984 179.327 L83.0984 173.447 Z\" fill=\"#000000\" fill-rule=\"nonzero\" fill-opacity=\"1\" /><path clip-path=\"url(#clip200)\" d=\"M108.168 147.846 Q104.557 147.846 102.728 151.41 Q100.922 154.952 100.922 162.082 Q100.922 169.188 102.728 172.753 Q104.557 176.295 108.168 176.295 Q111.802 176.295 113.608 172.753 Q115.436 169.188 115.436 162.082 Q115.436 154.952 113.608 151.41 Q111.802 147.846 108.168 147.846 M108.168 144.142 Q113.978 144.142 117.033 148.748 Q120.112 153.332 120.112 162.082 Q120.112 170.808 117.033 175.415 Q113.978 179.998 108.168 179.998 Q102.358 179.998 99.2789 175.415 Q96.2234 170.808 96.2234 162.082 Q96.2234 153.332 99.2789 148.748 Q102.358 144.142 108.168 144.142 Z\" fill=\"#000000\" fill-rule=\"nonzero\" fill-opacity=\"1\" /><path clip-path=\"url(#clip200)\" d=\"M953.735 18.8205 L953.735 65.8515 L963.62 65.8515 Q976.137 65.8515 981.93 60.1802 Q987.763 54.509 987.763 42.2752 Q987.763 30.1225 981.93 24.4918 Q976.137 18.8205 963.62 18.8205 L953.735 18.8205 M945.553 12.096 L962.364 12.096 Q979.945 12.096 988.168 19.4281 Q996.391 26.7198 996.391 42.2752 Q996.391 57.9117 988.128 65.2439 Q979.864 72.576 962.364 72.576 L945.553 72.576 L945.553 12.096 Z\" fill=\"#000000\" fill-rule=\"nonzero\" fill-opacity=\"1\" /><path clip-path=\"url(#clip200)\" d=\"M1009.11 27.2059 L1016.56 27.2059 L1016.56 72.576 L1009.11 72.576 L1009.11 27.2059 M1009.11 9.54393 L1016.56 9.54393 L1016.56 18.9825 L1009.11 18.9825 L1009.11 9.54393 Z\" fill=\"#000000\" fill-rule=\"nonzero\" fill-opacity=\"1\" /><path clip-path=\"url(#clip200)\" d=\"M1058.45 34.1734 Q1057.2 33.4443 1055.7 33.1202 Q1054.24 32.7556 1052.46 32.7556 Q1046.14 32.7556 1042.73 36.8875 Q1039.37 40.9789 1039.37 48.6757 L1039.37 72.576 L1031.88 72.576 L1031.88 27.2059 L1039.37 27.2059 L1039.37 34.2544 Q1041.72 30.1225 1045.49 28.1376 Q1049.26 26.1121 1054.64 26.1121 Q1055.41 26.1121 1056.34 26.2337 Q1057.28 26.3147 1058.41 26.5172 L1058.45 34.1734 Z\" fill=\"#000000\" fill-rule=\"nonzero\" fill-opacity=\"1\" /><path clip-path=\"url(#clip200)\" d=\"M1103.25 48.0275 L1103.25 51.6733 L1068.98 51.6733 Q1069.47 59.3701 1073.6 63.421 Q1077.77 67.4314 1085.19 67.4314 Q1089.48 67.4314 1093.49 66.3781 Q1097.54 65.3249 1101.51 63.2184 L1101.51 70.267 Q1097.5 71.9684 1093.29 72.8596 Q1089.08 73.7508 1084.74 73.7508 Q1073.89 73.7508 1067.53 67.4314 Q1061.21 61.1119 1061.21 50.3365 Q1061.21 39.1965 1067.2 32.6746 Q1073.24 26.1121 1083.45 26.1121 Q1092.6 26.1121 1097.91 32.0264 Q1103.25 37.9003 1103.25 48.0275 M1095.8 45.84 Q1095.72 39.7232 1092.36 36.0774 Q1089.04 32.4315 1083.53 32.4315 Q1077.29 32.4315 1073.52 35.9558 Q1069.79 39.4801 1069.23 45.8805 L1095.8 45.84 Z\" fill=\"#000000\" fill-rule=\"nonzero\" fill-opacity=\"1\" /><path clip-path=\"url(#clip200)\" d=\"M1148.14 28.9478 L1148.14 35.9153 Q1144.98 34.1734 1141.78 33.3227 Q1138.62 32.4315 1135.38 32.4315 Q1128.13 32.4315 1124.12 37.0496 Q1120.11 41.6271 1120.11 49.9314 Q1120.11 58.2358 1124.12 62.8538 Q1128.13 67.4314 1135.38 67.4314 Q1138.62 67.4314 1141.78 66.5807 Q1144.98 65.6895 1148.14 63.9476 L1148.14 70.8341 Q1145.02 72.2924 1141.66 73.0216 Q1138.34 73.7508 1134.57 73.7508 Q1124.32 73.7508 1118.28 67.3098 Q1112.25 60.8689 1112.25 49.9314 Q1112.25 38.832 1118.32 32.472 Q1124.44 26.1121 1135.05 26.1121 Q1138.5 26.1121 1141.78 26.8413 Q1145.06 27.5299 1148.14 28.9478 Z\" fill=\"#000000\" fill-rule=\"nonzero\" fill-opacity=\"1\" /><path clip-path=\"url(#clip200)\" d=\"M1168.47 14.324 L1168.47 27.2059 L1183.83 27.2059 L1183.83 32.9987 L1168.47 32.9987 L1168.47 57.6282 Q1168.47 63.1779 1169.97 64.7578 Q1171.51 66.3376 1176.17 66.3376 L1183.83 66.3376 L1183.83 72.576 L1176.17 72.576 Q1167.54 72.576 1164.26 69.3758 Q1160.98 66.1351 1160.98 57.6282 L1160.98 32.9987 L1155.51 32.9987 L1155.51 27.2059 L1160.98 27.2059 L1160.98 14.324 L1168.47 14.324 Z\" fill=\"#000000\" fill-rule=\"nonzero\" fill-opacity=\"1\" /><path clip-path=\"url(#clip200)\" d=\"M1232.44 48.0275 L1232.44 51.6733 L1198.17 51.6733 Q1198.65 59.3701 1202.78 63.421 Q1206.96 67.4314 1214.37 67.4314 Q1218.66 67.4314 1222.67 66.3781 Q1226.73 65.3249 1230.7 63.2184 L1230.7 70.267 Q1226.69 71.9684 1222.47 72.8596 Q1218.26 73.7508 1213.92 73.7508 Q1203.07 73.7508 1196.71 67.4314 Q1190.39 61.1119 1190.39 50.3365 Q1190.39 39.1965 1196.38 32.6746 Q1202.42 26.1121 1212.63 26.1121 Q1221.78 26.1121 1227.09 32.0264 Q1232.44 37.9003 1232.44 48.0275 M1224.98 45.84 Q1224.9 39.7232 1221.54 36.0774 Q1218.22 32.4315 1212.71 32.4315 Q1206.47 32.4315 1202.7 35.9558 Q1198.98 39.4801 1198.41 45.8805 L1224.98 45.84 Z\" fill=\"#000000\" fill-rule=\"nonzero\" fill-opacity=\"1\" /><path clip-path=\"url(#clip200)\" d=\"M1274.53 34.0924 L1274.53 9.54393 L1281.98 9.54393 L1281.98 72.576 L1274.53 72.576 L1274.53 65.7705 Q1272.18 69.8214 1268.57 71.8063 Q1265.01 73.7508 1259.98 73.7508 Q1251.76 73.7508 1246.58 67.1883 Q1241.43 60.6258 1241.43 49.9314 Q1241.43 39.2371 1246.58 32.6746 Q1251.76 26.1121 1259.98 26.1121 Q1265.01 26.1121 1268.57 28.0971 Q1272.18 30.0415 1274.53 34.0924 M1249.13 49.9314 Q1249.13 58.1548 1252.49 62.8538 Q1255.89 67.5124 1261.81 67.5124 Q1267.72 67.5124 1271.12 62.8538 Q1274.53 58.1548 1274.53 49.9314 Q1274.53 41.7081 1271.12 37.0496 Q1267.72 32.3505 1261.81 32.3505 Q1255.89 32.3505 1252.49 37.0496 Q1249.13 41.7081 1249.13 49.9314 Z\" fill=\"#000000\" fill-rule=\"nonzero\" fill-opacity=\"1\" /><path clip-path=\"url(#clip200)\" d=\"M1365.27 63.9476 L1365.27 47.7034 L1351.9 47.7034 L1351.9 40.9789 L1373.37 40.9789 L1373.37 66.9452 Q1368.63 70.3075 1362.92 72.0494 Q1357.21 73.7508 1350.72 73.7508 Q1336.55 73.7508 1328.53 65.4869 Q1320.54 57.1826 1320.54 42.3968 Q1320.54 27.5705 1328.53 19.3066 Q1336.55 11.0023 1350.72 11.0023 Q1356.64 11.0023 1361.95 12.4606 Q1367.29 13.9189 1371.79 16.7545 L1371.79 25.464 Q1367.25 21.6156 1362.15 19.6712 Q1357.04 17.7268 1351.41 17.7268 Q1340.31 17.7268 1334.72 23.9246 Q1329.17 30.1225 1329.17 42.3968 Q1329.17 54.6305 1334.72 60.8284 Q1340.31 67.0263 1351.41 67.0263 Q1355.75 67.0263 1359.15 66.2971 Q1362.55 65.5274 1365.27 63.9476 Z\" fill=\"#000000\" fill-rule=\"nonzero\" fill-opacity=\"1\" /><path clip-path=\"url(#clip200)\" d=\"M1414.28 34.1734 Q1413.03 33.4443 1411.53 33.1202 Q1410.07 32.7556 1408.29 32.7556 Q1401.97 32.7556 1398.57 36.8875 Q1395.2 40.9789 1395.2 48.6757 L1395.2 72.576 L1387.71 72.576 L1387.71 27.2059 L1395.2 27.2059 L1395.2 34.2544 Q1397.55 30.1225 1401.32 28.1376 Q1405.09 26.1121 1410.47 26.1121 Q1411.24 26.1121 1412.18 26.2337 Q1413.11 26.3147 1414.24 26.5172 L1414.28 34.1734 Z\" fill=\"#000000\" fill-rule=\"nonzero\" fill-opacity=\"1\" /><path clip-path=\"url(#clip200)\" d=\"M1442.72 49.7694 Q1433.69 49.7694 1430.2 51.8354 Q1426.72 53.9013 1426.72 58.8839 Q1426.72 62.8538 1429.31 65.2034 Q1431.94 67.5124 1436.44 67.5124 Q1442.64 67.5124 1446.37 63.1374 Q1450.13 58.7219 1450.13 51.4303 L1450.13 49.7694 L1442.72 49.7694 M1457.59 46.6907 L1457.59 72.576 L1450.13 72.576 L1450.13 65.6895 Q1447.58 69.8214 1443.77 71.8063 Q1439.97 73.7508 1434.46 73.7508 Q1427.49 73.7508 1423.36 69.8619 Q1419.27 65.9325 1419.27 59.3701 Q1419.27 51.7138 1424.37 47.825 Q1429.51 43.9361 1439.68 43.9361 L1450.13 43.9361 L1450.13 43.2069 Q1450.13 38.0623 1446.73 35.2672 Q1443.37 32.4315 1437.25 32.4315 Q1433.36 32.4315 1429.68 33.3632 Q1425.99 34.295 1422.59 36.1584 L1422.59 29.2718 Q1426.68 27.692 1430.53 26.9223 Q1434.38 26.1121 1438.02 26.1121 Q1447.86 26.1121 1452.73 31.2163 Q1457.59 36.3204 1457.59 46.6907 Z\" fill=\"#000000\" fill-rule=\"nonzero\" fill-opacity=\"1\" /><path clip-path=\"url(#clip200)\" d=\"M1480.15 65.7705 L1480.15 89.8329 L1472.66 89.8329 L1472.66 27.2059 L1480.15 27.2059 L1480.15 34.0924 Q1482.5 30.0415 1486.06 28.0971 Q1489.67 26.1121 1494.65 26.1121 Q1502.92 26.1121 1508.06 32.6746 Q1513.25 39.2371 1513.25 49.9314 Q1513.25 60.6258 1508.06 67.1883 Q1502.92 73.7508 1494.65 73.7508 Q1489.67 73.7508 1486.06 71.8063 Q1482.5 69.8214 1480.15 65.7705 M1505.51 49.9314 Q1505.51 41.7081 1502.11 37.0496 Q1498.74 32.3505 1492.83 32.3505 Q1486.92 32.3505 1483.51 37.0496 Q1480.15 41.7081 1480.15 49.9314 Q1480.15 58.1548 1483.51 62.8538 Q1486.92 67.5124 1492.83 67.5124 Q1498.74 67.5124 1502.11 62.8538 Q1505.51 58.1548 1505.51 49.9314 Z\" fill=\"#000000\" fill-rule=\"nonzero\" fill-opacity=\"1\" /><path clip-path=\"url(#clip200)\" d=\"M1563.32 45.1919 L1563.32 72.576 L1555.86 72.576 L1555.86 45.4349 Q1555.86 38.994 1553.35 35.7938 Q1550.84 32.5936 1545.82 32.5936 Q1539.78 32.5936 1536.3 36.4419 Q1532.81 40.2903 1532.81 46.9338 L1532.81 72.576 L1525.32 72.576 L1525.32 9.54393 L1532.81 9.54393 L1532.81 34.2544 Q1535.49 30.163 1539.09 28.1376 Q1542.74 26.1121 1547.48 26.1121 Q1555.29 26.1121 1559.31 30.9732 Q1563.32 35.7938 1563.32 45.1919 Z\" fill=\"#000000\" fill-rule=\"nonzero\" fill-opacity=\"1\" /><circle clip-path=\"url(#clip202)\" cx=\"290.064\" cy=\"162.047\" r=\"36\" fill=\"#add8e6\" fill-rule=\"evenodd\" fill-opacity=\"1\" stroke=\"#000000\" stroke-opacity=\"1\" stroke-width=\"3.2\"/>\n",
       "<circle clip-path=\"url(#clip202)\" cx=\"290.064\" cy=\"804.96\" r=\"36\" fill=\"#add8e6\" fill-rule=\"evenodd\" fill-opacity=\"1\" stroke=\"#000000\" stroke-opacity=\"1\" stroke-width=\"3.2\"/>\n",
       "<circle clip-path=\"url(#clip202)\" cx=\"290.064\" cy=\"1447.87\" r=\"36\" fill=\"#add8e6\" fill-rule=\"evenodd\" fill-opacity=\"1\" stroke=\"#000000\" stroke-opacity=\"1\" stroke-width=\"3.2\"/>\n",
       "<circle clip-path=\"url(#clip202)\" cx=\"932.977\" cy=\"804.96\" r=\"36\" fill=\"#add8e6\" fill-rule=\"evenodd\" fill-opacity=\"1\" stroke=\"#000000\" stroke-opacity=\"1\" stroke-width=\"3.2\"/>\n",
       "<circle clip-path=\"url(#clip202)\" cx=\"1575.89\" cy=\"804.96\" r=\"36\" fill=\"#add8e6\" fill-rule=\"evenodd\" fill-opacity=\"1\" stroke=\"#000000\" stroke-opacity=\"1\" stroke-width=\"3.2\"/>\n",
       "<circle clip-path=\"url(#clip202)\" cx=\"1575.89\" cy=\"1447.87\" r=\"36\" fill=\"#add8e6\" fill-rule=\"evenodd\" fill-opacity=\"1\" stroke=\"#000000\" stroke-opacity=\"1\" stroke-width=\"3.2\"/>\n",
       "<circle clip-path=\"url(#clip202)\" cx=\"2218.8\" cy=\"804.96\" r=\"36\" fill=\"#add8e6\" fill-rule=\"evenodd\" fill-opacity=\"1\" stroke=\"#000000\" stroke-opacity=\"1\" stroke-width=\"3.2\"/>\n",
       "<polyline clip-path=\"url(#clip202)\" style=\"stroke:#000000; stroke-linecap:round; stroke-linejoin:round; stroke-width:4; stroke-opacity:1; fill:none\" points=\"290.064,162.047 1575.89,804.96 \"/>\n",
       "<polyline clip-path=\"url(#clip202)\" style=\"stroke:#000000; stroke-linecap:round; stroke-linejoin:round; stroke-width:4; stroke-opacity:1; fill:none\" points=\"1551.74,772.761 1575.89,804.96 1535.64,804.96 \"/>\n",
       "<polyline clip-path=\"url(#clip202)\" style=\"stroke:#000000; stroke-linecap:round; stroke-linejoin:round; stroke-width:4; stroke-opacity:1; fill:none\" points=\"1575.89,804.96 290.064,162.047 \"/>\n",
       "<polyline clip-path=\"url(#clip202)\" style=\"stroke:#000000; stroke-linecap:round; stroke-linejoin:round; stroke-width:4; stroke-opacity:1; fill:none\" points=\"290.064,804.96 1575.89,804.96 \"/>\n",
       "<polyline clip-path=\"url(#clip202)\" style=\"stroke:#000000; stroke-linecap:round; stroke-linejoin:round; stroke-width:4; stroke-opacity:1; fill:none\" points=\"1539.89,786.96 1575.89,804.96 1539.89,822.96 \"/>\n",
       "<polyline clip-path=\"url(#clip202)\" style=\"stroke:#000000; stroke-linecap:round; stroke-linejoin:round; stroke-width:4; stroke-opacity:1; fill:none\" points=\"1575.89,804.96 290.064,804.96 \"/>\n",
       "<polyline clip-path=\"url(#clip202)\" style=\"stroke:#000000; stroke-linecap:round; stroke-linejoin:round; stroke-width:4; stroke-opacity:1; fill:none\" points=\"290.064,1447.87 1575.89,804.96 \"/>\n",
       "<polyline clip-path=\"url(#clip202)\" style=\"stroke:#000000; stroke-linecap:round; stroke-linejoin:round; stroke-width:4; stroke-opacity:1; fill:none\" points=\"1535.64,804.96 1575.89,804.96 1551.74,837.159 \"/>\n",
       "<polyline clip-path=\"url(#clip202)\" style=\"stroke:#000000; stroke-linecap:round; stroke-linejoin:round; stroke-width:4; stroke-opacity:1; fill:none\" points=\"1575.89,804.96 290.064,1447.87 \"/>\n",
       "<polyline clip-path=\"url(#clip202)\" style=\"stroke:#000000; stroke-linecap:round; stroke-linejoin:round; stroke-width:4; stroke-opacity:1; fill:none\" points=\"932.977,804.96 1575.89,804.96 \"/>\n",
       "<polyline clip-path=\"url(#clip202)\" style=\"stroke:#000000; stroke-linecap:round; stroke-linejoin:round; stroke-width:4; stroke-opacity:1; fill:none\" points=\"1539.89,786.96 1575.89,804.96 1539.89,822.96 \"/>\n",
       "<polyline clip-path=\"url(#clip202)\" style=\"stroke:#000000; stroke-linecap:round; stroke-linejoin:round; stroke-width:4; stroke-opacity:1; fill:none\" points=\"1575.89,804.96 932.977,804.96 \"/>\n",
       "<polyline clip-path=\"url(#clip202)\" style=\"stroke:#000000; stroke-linecap:round; stroke-linejoin:round; stroke-width:4; stroke-opacity:1; fill:none\" points=\"290.064,162.047 932.977,804.96 \"/>\n",
       "<polyline clip-path=\"url(#clip202)\" style=\"stroke:#000000; stroke-linecap:round; stroke-linejoin:round; stroke-width:4; stroke-opacity:1; fill:none\" points=\"920.25,766.776 932.977,804.96 894.794,792.232 \"/>\n",
       "<polyline clip-path=\"url(#clip202)\" style=\"stroke:#000000; stroke-linecap:round; stroke-linejoin:round; stroke-width:4; stroke-opacity:1; fill:none\" points=\"932.977,804.96 290.064,162.047 \"/>\n",
       "<polyline clip-path=\"url(#clip202)\" style=\"stroke:#000000; stroke-linecap:round; stroke-linejoin:round; stroke-width:4; stroke-opacity:1; fill:none\" points=\"290.064,804.96 932.977,804.96 \"/>\n",
       "<polyline clip-path=\"url(#clip202)\" style=\"stroke:#000000; stroke-linecap:round; stroke-linejoin:round; stroke-width:4; stroke-opacity:1; fill:none\" points=\"896.977,786.96 932.977,804.96 896.977,822.96 \"/>\n",
       "<polyline clip-path=\"url(#clip202)\" style=\"stroke:#000000; stroke-linecap:round; stroke-linejoin:round; stroke-width:4; stroke-opacity:1; fill:none\" points=\"932.977,804.96 290.064,804.96 \"/>\n",
       "<polyline clip-path=\"url(#clip202)\" style=\"stroke:#000000; stroke-linecap:round; stroke-linejoin:round; stroke-width:4; stroke-opacity:1; fill:none\" points=\"290.064,1447.87 932.977,804.96 \"/>\n",
       "<polyline clip-path=\"url(#clip202)\" style=\"stroke:#000000; stroke-linecap:round; stroke-linejoin:round; stroke-width:4; stroke-opacity:1; fill:none\" points=\"894.794,817.688 932.977,804.96 920.25,843.144 \"/>\n",
       "<polyline clip-path=\"url(#clip202)\" style=\"stroke:#000000; stroke-linecap:round; stroke-linejoin:round; stroke-width:4; stroke-opacity:1; fill:none\" points=\"932.977,804.96 290.064,1447.87 \"/>\n",
       "<polyline clip-path=\"url(#clip202)\" style=\"stroke:#000000; stroke-linecap:round; stroke-linejoin:round; stroke-width:4; stroke-opacity:1; fill:none\" points=\"932.977,804.96 2218.8,804.96 \"/>\n",
       "<polyline clip-path=\"url(#clip202)\" style=\"stroke:#000000; stroke-linecap:round; stroke-linejoin:round; stroke-width:4; stroke-opacity:1; fill:none\" points=\"2182.8,786.96 2218.8,804.96 2182.8,822.96 \"/>\n",
       "<polyline clip-path=\"url(#clip202)\" style=\"stroke:#000000; stroke-linecap:round; stroke-linejoin:round; stroke-width:4; stroke-opacity:1; fill:none\" points=\"2218.8,804.96 932.977,804.96 \"/>\n",
       "<polyline clip-path=\"url(#clip202)\" style=\"stroke:#000000; stroke-linecap:round; stroke-linejoin:round; stroke-width:4; stroke-opacity:1; fill:none\" points=\"1575.89,1447.87 2218.8,804.96 \"/>\n",
       "<polyline clip-path=\"url(#clip202)\" style=\"stroke:#000000; stroke-linecap:round; stroke-linejoin:round; stroke-width:4; stroke-opacity:1; fill:none\" points=\"2180.62,817.688 2218.8,804.96 2206.08,843.144 \"/>\n",
       "<polyline clip-path=\"url(#clip202)\" style=\"stroke:#000000; stroke-linecap:round; stroke-linejoin:round; stroke-width:4; stroke-opacity:1; fill:none\" points=\"2218.8,804.96 1575.89,1447.87 \"/>\n",
       "<polyline clip-path=\"url(#clip202)\" style=\"stroke:#000000; stroke-linecap:round; stroke-linejoin:round; stroke-width:4; stroke-opacity:1; fill:none\" points=\"290.064,162.047 1575.89,1447.87 \"/>\n",
       "<polyline clip-path=\"url(#clip202)\" style=\"stroke:#000000; stroke-linecap:round; stroke-linejoin:round; stroke-width:4; stroke-opacity:1; fill:none\" points=\"1563.16,1409.69 1575.89,1447.87 1537.71,1435.15 \"/>\n",
       "<polyline clip-path=\"url(#clip202)\" style=\"stroke:#000000; stroke-linecap:round; stroke-linejoin:round; stroke-width:4; stroke-opacity:1; fill:none\" points=\"1575.89,1447.87 290.064,162.047 \"/>\n",
       "<polyline clip-path=\"url(#clip202)\" style=\"stroke:#000000; stroke-linecap:round; stroke-linejoin:round; stroke-width:4; stroke-opacity:1; fill:none\" points=\"290.064,804.96 1575.89,1447.87 \"/>\n",
       "<polyline clip-path=\"url(#clip202)\" style=\"stroke:#000000; stroke-linecap:round; stroke-linejoin:round; stroke-width:4; stroke-opacity:1; fill:none\" points=\"1551.74,1415.67 1575.89,1447.87 1535.64,1447.87 \"/>\n",
       "<polyline clip-path=\"url(#clip202)\" style=\"stroke:#000000; stroke-linecap:round; stroke-linejoin:round; stroke-width:4; stroke-opacity:1; fill:none\" points=\"1575.89,1447.87 290.064,804.96 \"/>\n",
       "<polyline clip-path=\"url(#clip202)\" style=\"stroke:#000000; stroke-linecap:round; stroke-linejoin:round; stroke-width:4; stroke-opacity:1; fill:none\" points=\"290.064,1447.87 1575.89,1447.87 \"/>\n",
       "<polyline clip-path=\"url(#clip202)\" style=\"stroke:#000000; stroke-linecap:round; stroke-linejoin:round; stroke-width:4; stroke-opacity:1; fill:none\" points=\"1539.89,1429.87 1575.89,1447.87 1539.89,1465.87 \"/>\n",
       "<polyline clip-path=\"url(#clip202)\" style=\"stroke:#000000; stroke-linecap:round; stroke-linejoin:round; stroke-width:4; stroke-opacity:1; fill:none\" points=\"1575.89,1447.87 290.064,1447.87 \"/>\n",
       "<polyline clip-path=\"url(#clip202)\" style=\"stroke:#000000; stroke-linecap:round; stroke-linejoin:round; stroke-width:4; stroke-opacity:1; fill:none\" points=\"1575.89,804.96 2218.8,804.96 \"/>\n",
       "<polyline clip-path=\"url(#clip202)\" style=\"stroke:#000000; stroke-linecap:round; stroke-linejoin:round; stroke-width:4; stroke-opacity:1; fill:none\" points=\"2182.8,786.96 2218.8,804.96 2182.8,822.96 \"/>\n",
       "<polyline clip-path=\"url(#clip202)\" style=\"stroke:#000000; stroke-linecap:round; stroke-linejoin:round; stroke-width:4; stroke-opacity:1; fill:none\" points=\"2218.8,804.96 1575.89,804.96 \"/>\n",
       "<polyline clip-path=\"url(#clip202)\" style=\"stroke:#000000; stroke-linecap:round; stroke-linejoin:round; stroke-width:4; stroke-opacity:1; fill:none\" points=\"1575.89,804.96 1575.89,1447.87 \"/>\n",
       "<polyline clip-path=\"url(#clip202)\" style=\"stroke:#000000; stroke-linecap:round; stroke-linejoin:round; stroke-width:4; stroke-opacity:1; fill:none\" points=\"1593.89,1411.87 1575.89,1447.87 1557.89,1411.87 \"/>\n",
       "<polyline clip-path=\"url(#clip202)\" style=\"stroke:#000000; stroke-linecap:round; stroke-linejoin:round; stroke-width:4; stroke-opacity:1; fill:none\" points=\"1575.89,1447.87 1575.89,804.96 \"/>\n",
       "<path clip-path=\"url(#clip200)\" d=\"M262.397 131.807 L274.59 131.807 L290.024 172.964 L305.539 131.807 L317.732 131.807 L317.732 192.287 L309.752 192.287 L309.752 139.18 L294.156 180.661 L285.932 180.661 L270.336 139.18 L270.336 192.287 L262.397 192.287 L262.397 131.807 Z\" fill=\"#000000\" fill-rule=\"nonzero\" fill-opacity=\"1\" /><path clip-path=\"url(#clip200)\" d=\"M285.973 774.72 L294.156 774.72 L294.156 835.2 L285.973 835.2 L285.973 774.72 Z\" fill=\"#000000\" fill-rule=\"nonzero\" fill-opacity=\"1\" /><path clip-path=\"url(#clip200)\" d=\"M270.58 1417.63 L308.82 1417.63 L308.82 1424.52 L278.762 1424.52 L278.762 1442.42 L307.564 1442.42 L307.564 1449.31 L278.762 1449.31 L278.762 1471.23 L309.549 1471.23 L309.549 1478.11 L270.58 1478.11 L270.58 1417.63 Z\" fill=\"#000000\" fill-rule=\"nonzero\" fill-opacity=\"1\" /><path clip-path=\"url(#clip200)\" d=\"M910.09 774.72 L921.108 774.72 L947.925 825.316 L947.925 774.72 L955.865 774.72 L955.865 835.2 L944.847 835.2 L918.03 784.604 L918.03 835.2 L910.09 835.2 L910.09 774.72 Z\" fill=\"#000000\" fill-rule=\"nonzero\" fill-opacity=\"1\" /><path clip-path=\"url(#clip200)\" d=\"M1550.31 774.72 L1601.47 774.72 L1601.47 781.607 L1580 781.607 L1580 835.2 L1571.78 835.2 L1571.78 781.607 L1550.31 781.607 L1550.31 774.72 Z\" fill=\"#000000\" fill-rule=\"nonzero\" fill-opacity=\"1\" /><path clip-path=\"url(#clip200)\" d=\"M1600.28 1422.29 L1600.28 1430.92 Q1596.15 1427.07 1591.45 1425.17 Q1586.79 1423.26 1581.52 1423.26 Q1571.15 1423.26 1565.64 1429.62 Q1560.13 1435.94 1560.13 1447.93 Q1560.13 1459.88 1565.64 1466.24 Q1571.15 1472.56 1581.52 1472.56 Q1586.79 1472.56 1591.45 1470.66 Q1596.15 1468.76 1600.28 1464.91 L1600.28 1473.45 Q1595.98 1476.37 1591.16 1477.83 Q1586.38 1479.29 1581.04 1479.29 Q1567.3 1479.29 1559.4 1470.9 Q1551.5 1462.48 1551.5 1447.93 Q1551.5 1433.35 1559.4 1424.97 Q1567.3 1416.54 1581.04 1416.54 Q1586.46 1416.54 1591.24 1418 Q1596.06 1419.42 1600.28 1422.29 Z\" fill=\"#000000\" fill-rule=\"nonzero\" fill-opacity=\"1\" /><path clip-path=\"url(#clip200)\" d=\"M2193.3 774.72 L2202.09 774.72 L2218.86 799.593 L2235.51 774.72 L2244.3 774.72 L2222.92 806.398 L2222.92 835.2 L2214.69 835.2 L2214.69 806.398 L2193.3 774.72 Z\" fill=\"#000000\" fill-rule=\"nonzero\" fill-opacity=\"1\" /></svg>\n"
      ],
      "text/html": [
       "<?xml version=\"1.0\" encoding=\"utf-8\"?>\n",
       "<svg xmlns=\"http://www.w3.org/2000/svg\" xmlns:xlink=\"http://www.w3.org/1999/xlink\" width=\"600\" height=\"400\" viewBox=\"0 0 2400 1600\">\n",
       "<defs>\n",
       "  <clipPath id=\"clip250\">\n",
       "    <rect x=\"0\" y=\"0\" width=\"2400\" height=\"1600\"/>\n",
       "  </clipPath>\n",
       "</defs>\n",
       "<path clip-path=\"url(#clip250)\" d=\"M0 1600 L2400 1600 L2400 0 L0 0  Z\" fill=\"#ffffff\" fill-rule=\"evenodd\" fill-opacity=\"1\"/>\n",
       "<defs>\n",
       "  <clipPath id=\"clip251\">\n",
       "    <rect x=\"480\" y=\"0\" width=\"1681\" height=\"1600\"/>\n",
       "  </clipPath>\n",
       "</defs>\n",
       "<path clip-path=\"url(#clip250)\" d=\"M156.112 1486.45 L2352.76 1486.45 L2352.76 123.472 L156.112 123.472  Z\" fill=\"#ffffff\" fill-rule=\"evenodd\" fill-opacity=\"1\"/>\n",
       "<defs>\n",
       "  <clipPath id=\"clip252\">\n",
       "    <rect x=\"156\" y=\"123\" width=\"2198\" height=\"1364\"/>\n",
       "  </clipPath>\n",
       "</defs>\n",
       "<polyline clip-path=\"url(#clip250)\" style=\"stroke:#000000; stroke-linecap:round; stroke-linejoin:round; stroke-width:4; stroke-opacity:1; fill:none\" points=\"156.112,1486.45 2352.76,1486.45 \"/>\n",
       "<polyline clip-path=\"url(#clip250)\" style=\"stroke:#000000; stroke-linecap:round; stroke-linejoin:round; stroke-width:4; stroke-opacity:1; fill:none\" points=\"290.064,1486.45 290.064,1467.55 \"/>\n",
       "<polyline clip-path=\"url(#clip250)\" style=\"stroke:#000000; stroke-linecap:round; stroke-linejoin:round; stroke-width:4; stroke-opacity:1; fill:none\" points=\"932.977,1486.45 932.977,1467.55 \"/>\n",
       "<polyline clip-path=\"url(#clip250)\" style=\"stroke:#000000; stroke-linecap:round; stroke-linejoin:round; stroke-width:4; stroke-opacity:1; fill:none\" points=\"1575.89,1486.45 1575.89,1467.55 \"/>\n",
       "<polyline clip-path=\"url(#clip250)\" style=\"stroke:#000000; stroke-linecap:round; stroke-linejoin:round; stroke-width:4; stroke-opacity:1; fill:none\" points=\"2218.8,1486.45 2218.8,1467.55 \"/>\n",
       "<path clip-path=\"url(#clip250)\" d=\"M259.821 1532.02 L289.497 1532.02 L289.497 1535.95 L259.821 1535.95 L259.821 1532.02 Z\" fill=\"#000000\" fill-rule=\"nonzero\" fill-opacity=\"1\" /><path clip-path=\"url(#clip250)\" d=\"M300.4 1544.91 L308.039 1544.91 L308.039 1518.55 L299.729 1520.21 L299.729 1515.95 L307.993 1514.29 L312.668 1514.29 L312.668 1544.91 L320.307 1544.91 L320.307 1548.85 L300.4 1548.85 L300.4 1544.91 Z\" fill=\"#000000\" fill-rule=\"nonzero\" fill-opacity=\"1\" /><path clip-path=\"url(#clip250)\" d=\"M932.977 1517.37 Q929.366 1517.37 927.538 1520.93 Q925.732 1524.47 925.732 1531.6 Q925.732 1538.71 927.538 1542.27 Q929.366 1545.82 932.977 1545.82 Q936.612 1545.82 938.417 1542.27 Q940.246 1538.71 940.246 1531.6 Q940.246 1524.47 938.417 1520.93 Q936.612 1517.37 932.977 1517.37 M932.977 1513.66 Q938.788 1513.66 941.843 1518.27 Q944.922 1522.85 944.922 1531.6 Q944.922 1540.33 941.843 1544.94 Q938.788 1549.52 932.977 1549.52 Q927.167 1549.52 924.089 1544.94 Q921.033 1540.33 921.033 1531.6 Q921.033 1522.85 924.089 1518.27 Q927.167 1513.66 932.977 1513.66 Z\" fill=\"#000000\" fill-rule=\"nonzero\" fill-opacity=\"1\" /><path clip-path=\"url(#clip250)\" d=\"M1566.27 1544.91 L1573.91 1544.91 L1573.91 1518.55 L1565.6 1520.21 L1565.6 1515.95 L1573.87 1514.29 L1578.54 1514.29 L1578.54 1544.91 L1586.18 1544.91 L1586.18 1548.85 L1566.27 1548.85 L1566.27 1544.91 Z\" fill=\"#000000\" fill-rule=\"nonzero\" fill-opacity=\"1\" /><path clip-path=\"url(#clip250)\" d=\"M2213.46 1544.91 L2229.78 1544.91 L2229.78 1548.85 L2207.83 1548.85 L2207.83 1544.91 Q2210.49 1542.16 2215.08 1537.53 Q2219.68 1532.88 2220.86 1531.53 Q2223.11 1529.01 2223.99 1527.27 Q2224.89 1525.51 2224.89 1523.82 Q2224.89 1521.07 2222.95 1519.33 Q2221.03 1517.6 2217.92 1517.6 Q2215.72 1517.6 2213.27 1518.36 Q2210.84 1519.13 2208.06 1520.68 L2208.06 1515.95 Q2210.89 1514.82 2213.34 1514.24 Q2215.79 1513.66 2217.83 1513.66 Q2223.2 1513.66 2226.4 1516.35 Q2229.59 1519.03 2229.59 1523.52 Q2229.59 1525.65 2228.78 1527.57 Q2227.99 1529.47 2225.89 1532.07 Q2225.31 1532.74 2222.21 1535.95 Q2219.1 1539.15 2213.46 1544.91 Z\" fill=\"#000000\" fill-rule=\"nonzero\" fill-opacity=\"1\" /><polyline clip-path=\"url(#clip250)\" style=\"stroke:#000000; stroke-linecap:round; stroke-linejoin:round; stroke-width:4; stroke-opacity:1; fill:none\" points=\"156.112,1486.45 156.112,123.472 \"/>\n",
       "<polyline clip-path=\"url(#clip250)\" style=\"stroke:#000000; stroke-linecap:round; stroke-linejoin:round; stroke-width:4; stroke-opacity:1; fill:none\" points=\"156.112,1447.87 175.01,1447.87 \"/>\n",
       "<polyline clip-path=\"url(#clip250)\" style=\"stroke:#000000; stroke-linecap:round; stroke-linejoin:round; stroke-width:4; stroke-opacity:1; fill:none\" points=\"156.112,1126.42 175.01,1126.42 \"/>\n",
       "<polyline clip-path=\"url(#clip250)\" style=\"stroke:#000000; stroke-linecap:round; stroke-linejoin:round; stroke-width:4; stroke-opacity:1; fill:none\" points=\"156.112,804.96 175.01,804.96 \"/>\n",
       "<polyline clip-path=\"url(#clip250)\" style=\"stroke:#000000; stroke-linecap:round; stroke-linejoin:round; stroke-width:4; stroke-opacity:1; fill:none\" points=\"156.112,483.503 175.01,483.503 \"/>\n",
       "<polyline clip-path=\"url(#clip250)\" style=\"stroke:#000000; stroke-linecap:round; stroke-linejoin:round; stroke-width:4; stroke-opacity:1; fill:none\" points=\"156.112,162.047 175.01,162.047 \"/>\n",
       "<path clip-path=\"url(#clip250)\" d=\"M62.9365 1433.67 Q59.3254 1433.67 57.4967 1437.24 Q55.6912 1440.78 55.6912 1447.91 Q55.6912 1455.01 57.4967 1458.58 Q59.3254 1462.12 62.9365 1462.12 Q66.5707 1462.12 68.3763 1458.58 Q70.205 1455.01 70.205 1447.91 Q70.205 1440.78 68.3763 1437.24 Q66.5707 1433.67 62.9365 1433.67 M62.9365 1429.97 Q68.7467 1429.97 71.8022 1434.57 Q74.8809 1439.16 74.8809 1447.91 Q74.8809 1456.63 71.8022 1461.24 Q68.7467 1465.82 62.9365 1465.82 Q57.1264 1465.82 54.0477 1461.24 Q50.9921 1456.63 50.9921 1447.91 Q50.9921 1439.16 54.0477 1434.57 Q57.1264 1429.97 62.9365 1429.97 Z\" fill=\"#000000\" fill-rule=\"nonzero\" fill-opacity=\"1\" /><path clip-path=\"url(#clip250)\" d=\"M83.0984 1459.27 L87.9827 1459.27 L87.9827 1465.15 L83.0984 1465.15 L83.0984 1459.27 Z\" fill=\"#000000\" fill-rule=\"nonzero\" fill-opacity=\"1\" /><path clip-path=\"url(#clip250)\" d=\"M108.168 1433.67 Q104.557 1433.67 102.728 1437.24 Q100.922 1440.78 100.922 1447.91 Q100.922 1455.01 102.728 1458.58 Q104.557 1462.12 108.168 1462.12 Q111.802 1462.12 113.608 1458.58 Q115.436 1455.01 115.436 1447.91 Q115.436 1440.78 113.608 1437.24 Q111.802 1433.67 108.168 1433.67 M108.168 1429.97 Q113.978 1429.97 117.033 1434.57 Q120.112 1439.16 120.112 1447.91 Q120.112 1456.63 117.033 1461.24 Q113.978 1465.82 108.168 1465.82 Q102.358 1465.82 99.2789 1461.24 Q96.2234 1456.63 96.2234 1447.91 Q96.2234 1439.16 99.2789 1434.57 Q102.358 1429.97 108.168 1429.97 Z\" fill=\"#000000\" fill-rule=\"nonzero\" fill-opacity=\"1\" /><path clip-path=\"url(#clip250)\" d=\"M63.9319 1112.22 Q60.3208 1112.22 58.4921 1115.78 Q56.6865 1119.32 56.6865 1126.45 Q56.6865 1133.56 58.4921 1137.12 Q60.3208 1140.66 63.9319 1140.66 Q67.5661 1140.66 69.3717 1137.12 Q71.2004 1133.56 71.2004 1126.45 Q71.2004 1119.32 69.3717 1115.78 Q67.5661 1112.22 63.9319 1112.22 M63.9319 1108.51 Q69.742 1108.51 72.7976 1113.12 Q75.8763 1117.7 75.8763 1126.45 Q75.8763 1135.18 72.7976 1139.78 Q69.742 1144.37 63.9319 1144.37 Q58.1217 1144.37 55.043 1139.78 Q51.9875 1135.18 51.9875 1126.45 Q51.9875 1117.7 55.043 1113.12 Q58.1217 1108.51 63.9319 1108.51 Z\" fill=\"#000000\" fill-rule=\"nonzero\" fill-opacity=\"1\" /><path clip-path=\"url(#clip250)\" d=\"M84.0938 1137.82 L88.978 1137.82 L88.978 1143.7 L84.0938 1143.7 L84.0938 1137.82 Z\" fill=\"#000000\" fill-rule=\"nonzero\" fill-opacity=\"1\" /><path clip-path=\"url(#clip250)\" d=\"M99.2095 1109.14 L117.566 1109.14 L117.566 1113.07 L103.492 1113.07 L103.492 1121.54 Q104.51 1121.2 105.529 1121.03 Q106.547 1120.85 107.566 1120.85 Q113.353 1120.85 116.733 1124.02 Q120.112 1127.19 120.112 1132.61 Q120.112 1138.19 116.64 1141.29 Q113.168 1144.37 106.848 1144.37 Q104.672 1144.37 102.404 1144 Q100.159 1143.63 97.7511 1142.89 L97.7511 1138.19 Q99.8345 1139.32 102.057 1139.88 Q104.279 1140.43 106.756 1140.43 Q110.76 1140.43 113.098 1138.33 Q115.436 1136.22 115.436 1132.61 Q115.436 1129 113.098 1126.89 Q110.76 1124.78 106.756 1124.78 Q104.881 1124.78 103.006 1125.2 Q101.154 1125.62 99.2095 1126.5 L99.2095 1109.14 Z\" fill=\"#000000\" fill-rule=\"nonzero\" fill-opacity=\"1\" /><path clip-path=\"url(#clip250)\" d=\"M53.7467 818.305 L61.3856 818.305 L61.3856 791.939 L53.0754 793.606 L53.0754 789.347 L61.3393 787.68 L66.0152 787.68 L66.0152 818.305 L73.654 818.305 L73.654 822.24 L53.7467 822.24 L53.7467 818.305 Z\" fill=\"#000000\" fill-rule=\"nonzero\" fill-opacity=\"1\" /><path clip-path=\"url(#clip250)\" d=\"M83.0984 816.36 L87.9827 816.36 L87.9827 822.24 L83.0984 822.24 L83.0984 816.36 Z\" fill=\"#000000\" fill-rule=\"nonzero\" fill-opacity=\"1\" /><path clip-path=\"url(#clip250)\" d=\"M108.168 790.759 Q104.557 790.759 102.728 794.323 Q100.922 797.865 100.922 804.995 Q100.922 812.101 102.728 815.666 Q104.557 819.208 108.168 819.208 Q111.802 819.208 113.608 815.666 Q115.436 812.101 115.436 804.995 Q115.436 797.865 113.608 794.323 Q111.802 790.759 108.168 790.759 M108.168 787.055 Q113.978 787.055 117.033 791.661 Q120.112 796.245 120.112 804.995 Q120.112 813.722 117.033 818.328 Q113.978 822.911 108.168 822.911 Q102.358 822.911 99.2789 818.328 Q96.2234 813.722 96.2234 804.995 Q96.2234 796.245 99.2789 791.661 Q102.358 787.055 108.168 787.055 Z\" fill=\"#000000\" fill-rule=\"nonzero\" fill-opacity=\"1\" /><path clip-path=\"url(#clip250)\" d=\"M54.7421 496.848 L62.381 496.848 L62.381 470.483 L54.0708 472.149 L54.0708 467.89 L62.3347 466.223 L67.0106 466.223 L67.0106 496.848 L74.6494 496.848 L74.6494 500.783 L54.7421 500.783 L54.7421 496.848 Z\" fill=\"#000000\" fill-rule=\"nonzero\" fill-opacity=\"1\" /><path clip-path=\"url(#clip250)\" d=\"M84.0938 494.904 L88.978 494.904 L88.978 500.783 L84.0938 500.783 L84.0938 494.904 Z\" fill=\"#000000\" fill-rule=\"nonzero\" fill-opacity=\"1\" /><path clip-path=\"url(#clip250)\" d=\"M99.2095 466.223 L117.566 466.223 L117.566 470.159 L103.492 470.159 L103.492 478.631 Q104.51 478.284 105.529 478.122 Q106.547 477.936 107.566 477.936 Q113.353 477.936 116.733 481.108 Q120.112 484.279 120.112 489.696 Q120.112 495.274 116.64 498.376 Q113.168 501.455 106.848 501.455 Q104.672 501.455 102.404 501.084 Q100.159 500.714 97.7511 499.973 L97.7511 495.274 Q99.8345 496.408 102.057 496.964 Q104.279 497.52 106.756 497.52 Q110.76 497.52 113.098 495.413 Q115.436 493.307 115.436 489.696 Q115.436 486.084 113.098 483.978 Q110.76 481.872 106.756 481.872 Q104.881 481.872 103.006 482.288 Q101.154 482.705 99.2095 483.584 L99.2095 466.223 Z\" fill=\"#000000\" fill-rule=\"nonzero\" fill-opacity=\"1\" /><path clip-path=\"url(#clip250)\" d=\"M56.9643 175.392 L73.2837 175.392 L73.2837 179.327 L51.3393 179.327 L51.3393 175.392 Q54.0014 172.637 58.5847 168.008 Q63.1911 163.355 64.3717 162.012 Q66.617 159.489 67.4967 157.753 Q68.3994 155.994 68.3994 154.304 Q68.3994 151.549 66.455 149.813 Q64.5337 148.077 61.4319 148.077 Q59.2328 148.077 56.7791 148.841 Q54.3486 149.605 51.5708 151.156 L51.5708 146.434 Q54.3949 145.299 56.8486 144.721 Q59.3023 144.142 61.3393 144.142 Q66.7096 144.142 69.9041 146.827 Q73.0985 149.512 73.0985 154.003 Q73.0985 156.133 72.2883 158.054 Q71.5013 159.952 69.3948 162.545 Q68.8161 163.216 65.7143 166.433 Q62.6124 169.628 56.9643 175.392 Z\" fill=\"#000000\" fill-rule=\"nonzero\" fill-opacity=\"1\" /><path clip-path=\"url(#clip250)\" d=\"M83.0984 173.447 L87.9827 173.447 L87.9827 179.327 L83.0984 179.327 L83.0984 173.447 Z\" fill=\"#000000\" fill-rule=\"nonzero\" fill-opacity=\"1\" /><path clip-path=\"url(#clip250)\" d=\"M108.168 147.846 Q104.557 147.846 102.728 151.41 Q100.922 154.952 100.922 162.082 Q100.922 169.188 102.728 172.753 Q104.557 176.295 108.168 176.295 Q111.802 176.295 113.608 172.753 Q115.436 169.188 115.436 162.082 Q115.436 154.952 113.608 151.41 Q111.802 147.846 108.168 147.846 M108.168 144.142 Q113.978 144.142 117.033 148.748 Q120.112 153.332 120.112 162.082 Q120.112 170.808 117.033 175.415 Q113.978 179.998 108.168 179.998 Q102.358 179.998 99.2789 175.415 Q96.2234 170.808 96.2234 162.082 Q96.2234 153.332 99.2789 148.748 Q102.358 144.142 108.168 144.142 Z\" fill=\"#000000\" fill-rule=\"nonzero\" fill-opacity=\"1\" /><path clip-path=\"url(#clip250)\" d=\"M953.735 18.8205 L953.735 65.8515 L963.62 65.8515 Q976.137 65.8515 981.93 60.1802 Q987.763 54.509 987.763 42.2752 Q987.763 30.1225 981.93 24.4918 Q976.137 18.8205 963.62 18.8205 L953.735 18.8205 M945.553 12.096 L962.364 12.096 Q979.945 12.096 988.168 19.4281 Q996.391 26.7198 996.391 42.2752 Q996.391 57.9117 988.128 65.2439 Q979.864 72.576 962.364 72.576 L945.553 72.576 L945.553 12.096 Z\" fill=\"#000000\" fill-rule=\"nonzero\" fill-opacity=\"1\" /><path clip-path=\"url(#clip250)\" d=\"M1009.11 27.2059 L1016.56 27.2059 L1016.56 72.576 L1009.11 72.576 L1009.11 27.2059 M1009.11 9.54393 L1016.56 9.54393 L1016.56 18.9825 L1009.11 18.9825 L1009.11 9.54393 Z\" fill=\"#000000\" fill-rule=\"nonzero\" fill-opacity=\"1\" /><path clip-path=\"url(#clip250)\" d=\"M1058.45 34.1734 Q1057.2 33.4443 1055.7 33.1202 Q1054.24 32.7556 1052.46 32.7556 Q1046.14 32.7556 1042.73 36.8875 Q1039.37 40.9789 1039.37 48.6757 L1039.37 72.576 L1031.88 72.576 L1031.88 27.2059 L1039.37 27.2059 L1039.37 34.2544 Q1041.72 30.1225 1045.49 28.1376 Q1049.26 26.1121 1054.64 26.1121 Q1055.41 26.1121 1056.34 26.2337 Q1057.28 26.3147 1058.41 26.5172 L1058.45 34.1734 Z\" fill=\"#000000\" fill-rule=\"nonzero\" fill-opacity=\"1\" /><path clip-path=\"url(#clip250)\" d=\"M1103.25 48.0275 L1103.25 51.6733 L1068.98 51.6733 Q1069.47 59.3701 1073.6 63.421 Q1077.77 67.4314 1085.19 67.4314 Q1089.48 67.4314 1093.49 66.3781 Q1097.54 65.3249 1101.51 63.2184 L1101.51 70.267 Q1097.5 71.9684 1093.29 72.8596 Q1089.08 73.7508 1084.74 73.7508 Q1073.89 73.7508 1067.53 67.4314 Q1061.21 61.1119 1061.21 50.3365 Q1061.21 39.1965 1067.2 32.6746 Q1073.24 26.1121 1083.45 26.1121 Q1092.6 26.1121 1097.91 32.0264 Q1103.25 37.9003 1103.25 48.0275 M1095.8 45.84 Q1095.72 39.7232 1092.36 36.0774 Q1089.04 32.4315 1083.53 32.4315 Q1077.29 32.4315 1073.52 35.9558 Q1069.79 39.4801 1069.23 45.8805 L1095.8 45.84 Z\" fill=\"#000000\" fill-rule=\"nonzero\" fill-opacity=\"1\" /><path clip-path=\"url(#clip250)\" d=\"M1148.14 28.9478 L1148.14 35.9153 Q1144.98 34.1734 1141.78 33.3227 Q1138.62 32.4315 1135.38 32.4315 Q1128.13 32.4315 1124.12 37.0496 Q1120.11 41.6271 1120.11 49.9314 Q1120.11 58.2358 1124.12 62.8538 Q1128.13 67.4314 1135.38 67.4314 Q1138.62 67.4314 1141.78 66.5807 Q1144.98 65.6895 1148.14 63.9476 L1148.14 70.8341 Q1145.02 72.2924 1141.66 73.0216 Q1138.34 73.7508 1134.57 73.7508 Q1124.32 73.7508 1118.28 67.3098 Q1112.25 60.8689 1112.25 49.9314 Q1112.25 38.832 1118.32 32.472 Q1124.44 26.1121 1135.05 26.1121 Q1138.5 26.1121 1141.78 26.8413 Q1145.06 27.5299 1148.14 28.9478 Z\" fill=\"#000000\" fill-rule=\"nonzero\" fill-opacity=\"1\" /><path clip-path=\"url(#clip250)\" d=\"M1168.47 14.324 L1168.47 27.2059 L1183.83 27.2059 L1183.83 32.9987 L1168.47 32.9987 L1168.47 57.6282 Q1168.47 63.1779 1169.97 64.7578 Q1171.51 66.3376 1176.17 66.3376 L1183.83 66.3376 L1183.83 72.576 L1176.17 72.576 Q1167.54 72.576 1164.26 69.3758 Q1160.98 66.1351 1160.98 57.6282 L1160.98 32.9987 L1155.51 32.9987 L1155.51 27.2059 L1160.98 27.2059 L1160.98 14.324 L1168.47 14.324 Z\" fill=\"#000000\" fill-rule=\"nonzero\" fill-opacity=\"1\" /><path clip-path=\"url(#clip250)\" d=\"M1232.44 48.0275 L1232.44 51.6733 L1198.17 51.6733 Q1198.65 59.3701 1202.78 63.421 Q1206.96 67.4314 1214.37 67.4314 Q1218.66 67.4314 1222.67 66.3781 Q1226.73 65.3249 1230.7 63.2184 L1230.7 70.267 Q1226.69 71.9684 1222.47 72.8596 Q1218.26 73.7508 1213.92 73.7508 Q1203.07 73.7508 1196.71 67.4314 Q1190.39 61.1119 1190.39 50.3365 Q1190.39 39.1965 1196.38 32.6746 Q1202.42 26.1121 1212.63 26.1121 Q1221.78 26.1121 1227.09 32.0264 Q1232.44 37.9003 1232.44 48.0275 M1224.98 45.84 Q1224.9 39.7232 1221.54 36.0774 Q1218.22 32.4315 1212.71 32.4315 Q1206.47 32.4315 1202.7 35.9558 Q1198.98 39.4801 1198.41 45.8805 L1224.98 45.84 Z\" fill=\"#000000\" fill-rule=\"nonzero\" fill-opacity=\"1\" /><path clip-path=\"url(#clip250)\" d=\"M1274.53 34.0924 L1274.53 9.54393 L1281.98 9.54393 L1281.98 72.576 L1274.53 72.576 L1274.53 65.7705 Q1272.18 69.8214 1268.57 71.8063 Q1265.01 73.7508 1259.98 73.7508 Q1251.76 73.7508 1246.58 67.1883 Q1241.43 60.6258 1241.43 49.9314 Q1241.43 39.2371 1246.58 32.6746 Q1251.76 26.1121 1259.98 26.1121 Q1265.01 26.1121 1268.57 28.0971 Q1272.18 30.0415 1274.53 34.0924 M1249.13 49.9314 Q1249.13 58.1548 1252.49 62.8538 Q1255.89 67.5124 1261.81 67.5124 Q1267.72 67.5124 1271.12 62.8538 Q1274.53 58.1548 1274.53 49.9314 Q1274.53 41.7081 1271.12 37.0496 Q1267.72 32.3505 1261.81 32.3505 Q1255.89 32.3505 1252.49 37.0496 Q1249.13 41.7081 1249.13 49.9314 Z\" fill=\"#000000\" fill-rule=\"nonzero\" fill-opacity=\"1\" /><path clip-path=\"url(#clip250)\" d=\"M1365.27 63.9476 L1365.27 47.7034 L1351.9 47.7034 L1351.9 40.9789 L1373.37 40.9789 L1373.37 66.9452 Q1368.63 70.3075 1362.92 72.0494 Q1357.21 73.7508 1350.72 73.7508 Q1336.55 73.7508 1328.53 65.4869 Q1320.54 57.1826 1320.54 42.3968 Q1320.54 27.5705 1328.53 19.3066 Q1336.55 11.0023 1350.72 11.0023 Q1356.64 11.0023 1361.95 12.4606 Q1367.29 13.9189 1371.79 16.7545 L1371.79 25.464 Q1367.25 21.6156 1362.15 19.6712 Q1357.04 17.7268 1351.41 17.7268 Q1340.31 17.7268 1334.72 23.9246 Q1329.17 30.1225 1329.17 42.3968 Q1329.17 54.6305 1334.72 60.8284 Q1340.31 67.0263 1351.41 67.0263 Q1355.75 67.0263 1359.15 66.2971 Q1362.55 65.5274 1365.27 63.9476 Z\" fill=\"#000000\" fill-rule=\"nonzero\" fill-opacity=\"1\" /><path clip-path=\"url(#clip250)\" d=\"M1414.28 34.1734 Q1413.03 33.4443 1411.53 33.1202 Q1410.07 32.7556 1408.29 32.7556 Q1401.97 32.7556 1398.57 36.8875 Q1395.2 40.9789 1395.2 48.6757 L1395.2 72.576 L1387.71 72.576 L1387.71 27.2059 L1395.2 27.2059 L1395.2 34.2544 Q1397.55 30.1225 1401.32 28.1376 Q1405.09 26.1121 1410.47 26.1121 Q1411.24 26.1121 1412.18 26.2337 Q1413.11 26.3147 1414.24 26.5172 L1414.28 34.1734 Z\" fill=\"#000000\" fill-rule=\"nonzero\" fill-opacity=\"1\" /><path clip-path=\"url(#clip250)\" d=\"M1442.72 49.7694 Q1433.69 49.7694 1430.2 51.8354 Q1426.72 53.9013 1426.72 58.8839 Q1426.72 62.8538 1429.31 65.2034 Q1431.94 67.5124 1436.44 67.5124 Q1442.64 67.5124 1446.37 63.1374 Q1450.13 58.7219 1450.13 51.4303 L1450.13 49.7694 L1442.72 49.7694 M1457.59 46.6907 L1457.59 72.576 L1450.13 72.576 L1450.13 65.6895 Q1447.58 69.8214 1443.77 71.8063 Q1439.97 73.7508 1434.46 73.7508 Q1427.49 73.7508 1423.36 69.8619 Q1419.27 65.9325 1419.27 59.3701 Q1419.27 51.7138 1424.37 47.825 Q1429.51 43.9361 1439.68 43.9361 L1450.13 43.9361 L1450.13 43.2069 Q1450.13 38.0623 1446.73 35.2672 Q1443.37 32.4315 1437.25 32.4315 Q1433.36 32.4315 1429.68 33.3632 Q1425.99 34.295 1422.59 36.1584 L1422.59 29.2718 Q1426.68 27.692 1430.53 26.9223 Q1434.38 26.1121 1438.02 26.1121 Q1447.86 26.1121 1452.73 31.2163 Q1457.59 36.3204 1457.59 46.6907 Z\" fill=\"#000000\" fill-rule=\"nonzero\" fill-opacity=\"1\" /><path clip-path=\"url(#clip250)\" d=\"M1480.15 65.7705 L1480.15 89.8329 L1472.66 89.8329 L1472.66 27.2059 L1480.15 27.2059 L1480.15 34.0924 Q1482.5 30.0415 1486.06 28.0971 Q1489.67 26.1121 1494.65 26.1121 Q1502.92 26.1121 1508.06 32.6746 Q1513.25 39.2371 1513.25 49.9314 Q1513.25 60.6258 1508.06 67.1883 Q1502.92 73.7508 1494.65 73.7508 Q1489.67 73.7508 1486.06 71.8063 Q1482.5 69.8214 1480.15 65.7705 M1505.51 49.9314 Q1505.51 41.7081 1502.11 37.0496 Q1498.74 32.3505 1492.83 32.3505 Q1486.92 32.3505 1483.51 37.0496 Q1480.15 41.7081 1480.15 49.9314 Q1480.15 58.1548 1483.51 62.8538 Q1486.92 67.5124 1492.83 67.5124 Q1498.74 67.5124 1502.11 62.8538 Q1505.51 58.1548 1505.51 49.9314 Z\" fill=\"#000000\" fill-rule=\"nonzero\" fill-opacity=\"1\" /><path clip-path=\"url(#clip250)\" d=\"M1563.32 45.1919 L1563.32 72.576 L1555.86 72.576 L1555.86 45.4349 Q1555.86 38.994 1553.35 35.7938 Q1550.84 32.5936 1545.82 32.5936 Q1539.78 32.5936 1536.3 36.4419 Q1532.81 40.2903 1532.81 46.9338 L1532.81 72.576 L1525.32 72.576 L1525.32 9.54393 L1532.81 9.54393 L1532.81 34.2544 Q1535.49 30.163 1539.09 28.1376 Q1542.74 26.1121 1547.48 26.1121 Q1555.29 26.1121 1559.31 30.9732 Q1563.32 35.7938 1563.32 45.1919 Z\" fill=\"#000000\" fill-rule=\"nonzero\" fill-opacity=\"1\" /><circle clip-path=\"url(#clip252)\" cx=\"290.064\" cy=\"162.047\" r=\"36\" fill=\"#add8e6\" fill-rule=\"evenodd\" fill-opacity=\"1\" stroke=\"#000000\" stroke-opacity=\"1\" stroke-width=\"3.2\"/>\n",
       "<circle clip-path=\"url(#clip252)\" cx=\"290.064\" cy=\"804.96\" r=\"36\" fill=\"#add8e6\" fill-rule=\"evenodd\" fill-opacity=\"1\" stroke=\"#000000\" stroke-opacity=\"1\" stroke-width=\"3.2\"/>\n",
       "<circle clip-path=\"url(#clip252)\" cx=\"290.064\" cy=\"1447.87\" r=\"36\" fill=\"#add8e6\" fill-rule=\"evenodd\" fill-opacity=\"1\" stroke=\"#000000\" stroke-opacity=\"1\" stroke-width=\"3.2\"/>\n",
       "<circle clip-path=\"url(#clip252)\" cx=\"932.977\" cy=\"804.96\" r=\"36\" fill=\"#add8e6\" fill-rule=\"evenodd\" fill-opacity=\"1\" stroke=\"#000000\" stroke-opacity=\"1\" stroke-width=\"3.2\"/>\n",
       "<circle clip-path=\"url(#clip252)\" cx=\"1575.89\" cy=\"804.96\" r=\"36\" fill=\"#add8e6\" fill-rule=\"evenodd\" fill-opacity=\"1\" stroke=\"#000000\" stroke-opacity=\"1\" stroke-width=\"3.2\"/>\n",
       "<circle clip-path=\"url(#clip252)\" cx=\"1575.89\" cy=\"1447.87\" r=\"36\" fill=\"#add8e6\" fill-rule=\"evenodd\" fill-opacity=\"1\" stroke=\"#000000\" stroke-opacity=\"1\" stroke-width=\"3.2\"/>\n",
       "<circle clip-path=\"url(#clip252)\" cx=\"2218.8\" cy=\"804.96\" r=\"36\" fill=\"#add8e6\" fill-rule=\"evenodd\" fill-opacity=\"1\" stroke=\"#000000\" stroke-opacity=\"1\" stroke-width=\"3.2\"/>\n",
       "<polyline clip-path=\"url(#clip252)\" style=\"stroke:#000000; stroke-linecap:round; stroke-linejoin:round; stroke-width:4; stroke-opacity:1; fill:none\" points=\"290.064,162.047 1575.89,804.96 \"/>\n",
       "<polyline clip-path=\"url(#clip252)\" style=\"stroke:#000000; stroke-linecap:round; stroke-linejoin:round; stroke-width:4; stroke-opacity:1; fill:none\" points=\"1551.74,772.761 1575.89,804.96 1535.64,804.96 \"/>\n",
       "<polyline clip-path=\"url(#clip252)\" style=\"stroke:#000000; stroke-linecap:round; stroke-linejoin:round; stroke-width:4; stroke-opacity:1; fill:none\" points=\"1575.89,804.96 290.064,162.047 \"/>\n",
       "<polyline clip-path=\"url(#clip252)\" style=\"stroke:#000000; stroke-linecap:round; stroke-linejoin:round; stroke-width:4; stroke-opacity:1; fill:none\" points=\"290.064,804.96 1575.89,804.96 \"/>\n",
       "<polyline clip-path=\"url(#clip252)\" style=\"stroke:#000000; stroke-linecap:round; stroke-linejoin:round; stroke-width:4; stroke-opacity:1; fill:none\" points=\"1539.89,786.96 1575.89,804.96 1539.89,822.96 \"/>\n",
       "<polyline clip-path=\"url(#clip252)\" style=\"stroke:#000000; stroke-linecap:round; stroke-linejoin:round; stroke-width:4; stroke-opacity:1; fill:none\" points=\"1575.89,804.96 290.064,804.96 \"/>\n",
       "<polyline clip-path=\"url(#clip252)\" style=\"stroke:#000000; stroke-linecap:round; stroke-linejoin:round; stroke-width:4; stroke-opacity:1; fill:none\" points=\"290.064,1447.87 1575.89,804.96 \"/>\n",
       "<polyline clip-path=\"url(#clip252)\" style=\"stroke:#000000; stroke-linecap:round; stroke-linejoin:round; stroke-width:4; stroke-opacity:1; fill:none\" points=\"1535.64,804.96 1575.89,804.96 1551.74,837.159 \"/>\n",
       "<polyline clip-path=\"url(#clip252)\" style=\"stroke:#000000; stroke-linecap:round; stroke-linejoin:round; stroke-width:4; stroke-opacity:1; fill:none\" points=\"1575.89,804.96 290.064,1447.87 \"/>\n",
       "<polyline clip-path=\"url(#clip252)\" style=\"stroke:#000000; stroke-linecap:round; stroke-linejoin:round; stroke-width:4; stroke-opacity:1; fill:none\" points=\"932.977,804.96 1575.89,804.96 \"/>\n",
       "<polyline clip-path=\"url(#clip252)\" style=\"stroke:#000000; stroke-linecap:round; stroke-linejoin:round; stroke-width:4; stroke-opacity:1; fill:none\" points=\"1539.89,786.96 1575.89,804.96 1539.89,822.96 \"/>\n",
       "<polyline clip-path=\"url(#clip252)\" style=\"stroke:#000000; stroke-linecap:round; stroke-linejoin:round; stroke-width:4; stroke-opacity:1; fill:none\" points=\"1575.89,804.96 932.977,804.96 \"/>\n",
       "<polyline clip-path=\"url(#clip252)\" style=\"stroke:#000000; stroke-linecap:round; stroke-linejoin:round; stroke-width:4; stroke-opacity:1; fill:none\" points=\"290.064,162.047 932.977,804.96 \"/>\n",
       "<polyline clip-path=\"url(#clip252)\" style=\"stroke:#000000; stroke-linecap:round; stroke-linejoin:round; stroke-width:4; stroke-opacity:1; fill:none\" points=\"920.25,766.776 932.977,804.96 894.794,792.232 \"/>\n",
       "<polyline clip-path=\"url(#clip252)\" style=\"stroke:#000000; stroke-linecap:round; stroke-linejoin:round; stroke-width:4; stroke-opacity:1; fill:none\" points=\"932.977,804.96 290.064,162.047 \"/>\n",
       "<polyline clip-path=\"url(#clip252)\" style=\"stroke:#000000; stroke-linecap:round; stroke-linejoin:round; stroke-width:4; stroke-opacity:1; fill:none\" points=\"290.064,804.96 932.977,804.96 \"/>\n",
       "<polyline clip-path=\"url(#clip252)\" style=\"stroke:#000000; stroke-linecap:round; stroke-linejoin:round; stroke-width:4; stroke-opacity:1; fill:none\" points=\"896.977,786.96 932.977,804.96 896.977,822.96 \"/>\n",
       "<polyline clip-path=\"url(#clip252)\" style=\"stroke:#000000; stroke-linecap:round; stroke-linejoin:round; stroke-width:4; stroke-opacity:1; fill:none\" points=\"932.977,804.96 290.064,804.96 \"/>\n",
       "<polyline clip-path=\"url(#clip252)\" style=\"stroke:#000000; stroke-linecap:round; stroke-linejoin:round; stroke-width:4; stroke-opacity:1; fill:none\" points=\"290.064,1447.87 932.977,804.96 \"/>\n",
       "<polyline clip-path=\"url(#clip252)\" style=\"stroke:#000000; stroke-linecap:round; stroke-linejoin:round; stroke-width:4; stroke-opacity:1; fill:none\" points=\"894.794,817.688 932.977,804.96 920.25,843.144 \"/>\n",
       "<polyline clip-path=\"url(#clip252)\" style=\"stroke:#000000; stroke-linecap:round; stroke-linejoin:round; stroke-width:4; stroke-opacity:1; fill:none\" points=\"932.977,804.96 290.064,1447.87 \"/>\n",
       "<polyline clip-path=\"url(#clip252)\" style=\"stroke:#000000; stroke-linecap:round; stroke-linejoin:round; stroke-width:4; stroke-opacity:1; fill:none\" points=\"932.977,804.96 2218.8,804.96 \"/>\n",
       "<polyline clip-path=\"url(#clip252)\" style=\"stroke:#000000; stroke-linecap:round; stroke-linejoin:round; stroke-width:4; stroke-opacity:1; fill:none\" points=\"2182.8,786.96 2218.8,804.96 2182.8,822.96 \"/>\n",
       "<polyline clip-path=\"url(#clip252)\" style=\"stroke:#000000; stroke-linecap:round; stroke-linejoin:round; stroke-width:4; stroke-opacity:1; fill:none\" points=\"2218.8,804.96 932.977,804.96 \"/>\n",
       "<polyline clip-path=\"url(#clip252)\" style=\"stroke:#000000; stroke-linecap:round; stroke-linejoin:round; stroke-width:4; stroke-opacity:1; fill:none\" points=\"1575.89,1447.87 2218.8,804.96 \"/>\n",
       "<polyline clip-path=\"url(#clip252)\" style=\"stroke:#000000; stroke-linecap:round; stroke-linejoin:round; stroke-width:4; stroke-opacity:1; fill:none\" points=\"2180.62,817.688 2218.8,804.96 2206.08,843.144 \"/>\n",
       "<polyline clip-path=\"url(#clip252)\" style=\"stroke:#000000; stroke-linecap:round; stroke-linejoin:round; stroke-width:4; stroke-opacity:1; fill:none\" points=\"2218.8,804.96 1575.89,1447.87 \"/>\n",
       "<polyline clip-path=\"url(#clip252)\" style=\"stroke:#000000; stroke-linecap:round; stroke-linejoin:round; stroke-width:4; stroke-opacity:1; fill:none\" points=\"290.064,162.047 1575.89,1447.87 \"/>\n",
       "<polyline clip-path=\"url(#clip252)\" style=\"stroke:#000000; stroke-linecap:round; stroke-linejoin:round; stroke-width:4; stroke-opacity:1; fill:none\" points=\"1563.16,1409.69 1575.89,1447.87 1537.71,1435.15 \"/>\n",
       "<polyline clip-path=\"url(#clip252)\" style=\"stroke:#000000; stroke-linecap:round; stroke-linejoin:round; stroke-width:4; stroke-opacity:1; fill:none\" points=\"1575.89,1447.87 290.064,162.047 \"/>\n",
       "<polyline clip-path=\"url(#clip252)\" style=\"stroke:#000000; stroke-linecap:round; stroke-linejoin:round; stroke-width:4; stroke-opacity:1; fill:none\" points=\"290.064,804.96 1575.89,1447.87 \"/>\n",
       "<polyline clip-path=\"url(#clip252)\" style=\"stroke:#000000; stroke-linecap:round; stroke-linejoin:round; stroke-width:4; stroke-opacity:1; fill:none\" points=\"1551.74,1415.67 1575.89,1447.87 1535.64,1447.87 \"/>\n",
       "<polyline clip-path=\"url(#clip252)\" style=\"stroke:#000000; stroke-linecap:round; stroke-linejoin:round; stroke-width:4; stroke-opacity:1; fill:none\" points=\"1575.89,1447.87 290.064,804.96 \"/>\n",
       "<polyline clip-path=\"url(#clip252)\" style=\"stroke:#000000; stroke-linecap:round; stroke-linejoin:round; stroke-width:4; stroke-opacity:1; fill:none\" points=\"290.064,1447.87 1575.89,1447.87 \"/>\n",
       "<polyline clip-path=\"url(#clip252)\" style=\"stroke:#000000; stroke-linecap:round; stroke-linejoin:round; stroke-width:4; stroke-opacity:1; fill:none\" points=\"1539.89,1429.87 1575.89,1447.87 1539.89,1465.87 \"/>\n",
       "<polyline clip-path=\"url(#clip252)\" style=\"stroke:#000000; stroke-linecap:round; stroke-linejoin:round; stroke-width:4; stroke-opacity:1; fill:none\" points=\"1575.89,1447.87 290.064,1447.87 \"/>\n",
       "<polyline clip-path=\"url(#clip252)\" style=\"stroke:#000000; stroke-linecap:round; stroke-linejoin:round; stroke-width:4; stroke-opacity:1; fill:none\" points=\"1575.89,804.96 2218.8,804.96 \"/>\n",
       "<polyline clip-path=\"url(#clip252)\" style=\"stroke:#000000; stroke-linecap:round; stroke-linejoin:round; stroke-width:4; stroke-opacity:1; fill:none\" points=\"2182.8,786.96 2218.8,804.96 2182.8,822.96 \"/>\n",
       "<polyline clip-path=\"url(#clip252)\" style=\"stroke:#000000; stroke-linecap:round; stroke-linejoin:round; stroke-width:4; stroke-opacity:1; fill:none\" points=\"2218.8,804.96 1575.89,804.96 \"/>\n",
       "<polyline clip-path=\"url(#clip252)\" style=\"stroke:#000000; stroke-linecap:round; stroke-linejoin:round; stroke-width:4; stroke-opacity:1; fill:none\" points=\"1575.89,804.96 1575.89,1447.87 \"/>\n",
       "<polyline clip-path=\"url(#clip252)\" style=\"stroke:#000000; stroke-linecap:round; stroke-linejoin:round; stroke-width:4; stroke-opacity:1; fill:none\" points=\"1593.89,1411.87 1575.89,1447.87 1557.89,1411.87 \"/>\n",
       "<polyline clip-path=\"url(#clip252)\" style=\"stroke:#000000; stroke-linecap:round; stroke-linejoin:round; stroke-width:4; stroke-opacity:1; fill:none\" points=\"1575.89,1447.87 1575.89,804.96 \"/>\n",
       "<path clip-path=\"url(#clip250)\" d=\"M262.397 131.807 L274.59 131.807 L290.024 172.964 L305.539 131.807 L317.732 131.807 L317.732 192.287 L309.752 192.287 L309.752 139.18 L294.156 180.661 L285.932 180.661 L270.336 139.18 L270.336 192.287 L262.397 192.287 L262.397 131.807 Z\" fill=\"#000000\" fill-rule=\"nonzero\" fill-opacity=\"1\" /><path clip-path=\"url(#clip250)\" d=\"M285.973 774.72 L294.156 774.72 L294.156 835.2 L285.973 835.2 L285.973 774.72 Z\" fill=\"#000000\" fill-rule=\"nonzero\" fill-opacity=\"1\" /><path clip-path=\"url(#clip250)\" d=\"M270.58 1417.63 L308.82 1417.63 L308.82 1424.52 L278.762 1424.52 L278.762 1442.42 L307.564 1442.42 L307.564 1449.31 L278.762 1449.31 L278.762 1471.23 L309.549 1471.23 L309.549 1478.11 L270.58 1478.11 L270.58 1417.63 Z\" fill=\"#000000\" fill-rule=\"nonzero\" fill-opacity=\"1\" /><path clip-path=\"url(#clip250)\" d=\"M910.09 774.72 L921.108 774.72 L947.925 825.316 L947.925 774.72 L955.865 774.72 L955.865 835.2 L944.847 835.2 L918.03 784.604 L918.03 835.2 L910.09 835.2 L910.09 774.72 Z\" fill=\"#000000\" fill-rule=\"nonzero\" fill-opacity=\"1\" /><path clip-path=\"url(#clip250)\" d=\"M1550.31 774.72 L1601.47 774.72 L1601.47 781.607 L1580 781.607 L1580 835.2 L1571.78 835.2 L1571.78 781.607 L1550.31 781.607 L1550.31 774.72 Z\" fill=\"#000000\" fill-rule=\"nonzero\" fill-opacity=\"1\" /><path clip-path=\"url(#clip250)\" d=\"M1600.28 1422.29 L1600.28 1430.92 Q1596.15 1427.07 1591.45 1425.17 Q1586.79 1423.26 1581.52 1423.26 Q1571.15 1423.26 1565.64 1429.62 Q1560.13 1435.94 1560.13 1447.93 Q1560.13 1459.88 1565.64 1466.24 Q1571.15 1472.56 1581.52 1472.56 Q1586.79 1472.56 1591.45 1470.66 Q1596.15 1468.76 1600.28 1464.91 L1600.28 1473.45 Q1595.98 1476.37 1591.16 1477.83 Q1586.38 1479.29 1581.04 1479.29 Q1567.3 1479.29 1559.4 1470.9 Q1551.5 1462.48 1551.5 1447.93 Q1551.5 1433.35 1559.4 1424.97 Q1567.3 1416.54 1581.04 1416.54 Q1586.46 1416.54 1591.24 1418 Q1596.06 1419.42 1600.28 1422.29 Z\" fill=\"#000000\" fill-rule=\"nonzero\" fill-opacity=\"1\" /><path clip-path=\"url(#clip250)\" d=\"M2193.3 774.72 L2202.09 774.72 L2218.86 799.593 L2235.51 774.72 L2244.3 774.72 L2222.92 806.398 L2222.92 835.2 L2214.69 835.2 L2214.69 806.398 L2193.3 774.72 Z\" fill=\"#000000\" fill-rule=\"nonzero\" fill-opacity=\"1\" /></svg>\n"
      ]
     },
     "metadata": {},
     "output_type": "display_data"
    }
   ],
   "source": [
    "using Graphs\n",
    "using Plots\n",
    "\n",
    "# Crear el grafo dirigido\n",
    "G = DiGraph(7)\n",
    "\n",
    "# Agregar aristas\n",
    "edges = [\n",
    "    (1, 5), (2, 5), (3, 5), (4, 5), # De M, I, E, N → T\n",
    "    (1, 4), (2, 4), (3, 4),         # De M, I, E → N\n",
    "    (4, 7),                         # De N → Y\n",
    "    (6, 7),                         # De C → Y\n",
    "    (1, 6), (2, 6), (3, 6),         # De M, I, E → C\n",
    "    (5, 7), (5, 6)                  # De T → Y y T → C\n",
    "]\n",
    "for (src, dest) in edges\n",
    "    add_edge!(G, src, dest)\n",
    "end\n",
    "\n",
    "# Coordenadas de los nodos\n",
    "positions = [\n",
    "    (-1.0, 2.0),  # M\n",
    "    (-1.0, 1.0),  # I\n",
    "    (-1.0, 0.0),  # E\n",
    "    (0.0, 1.0),   # N\n",
    "    (1.0, 1.0),   # T\n",
    "    (1.0, 0.0),   # C\n",
    "    (2.0, 1.0)    # Y\n",
    "]\n",
    "\n",
    "# Etiquetas de los nodos (siglas)\n",
    "labels = [\"M\", \"I\", \"E\", \"N\", \"T\", \"C\", \"Y\"]\n",
    "\n",
    "# Extraer nodos y aristas\n",
    "x_coords = [pos[1] for pos in positions]\n",
    "y_coords = [pos[2] for pos in positions]\n",
    "edges_coords = [(positions[src][1], positions[src][2], positions[dest][1], positions[dest][2]) for (src, dest) in edges]\n",
    "\n",
    "# Graficar nodos\n",
    "scatter(\n",
    "    x_coords, y_coords,\n",
    "    label = \"Nodos\",\n",
    "    color = :lightblue,\n",
    "    legend = false,\n",
    "    markersize = 10,\n",
    "    title = \"Directed Graph\",\n",
    "    xlabel = \"\",\n",
    "    ylabel = \"\",\n",
    "    grid = false,\n",
    "    aspect_ratio = :equal\n",
    ")\n",
    "\n",
    "# Agregar etiquetas con las siglas\n",
    "for (i, (x, y)) in enumerate(zip(x_coords, y_coords))\n",
    "    annotate!(x, y, labels[i])\n",
    "end\n",
    "\n",
    "# Graficar aristas\n",
    "for (x1, y1, x2, y2) in edges_coords\n",
    "    plot!([x1, x2], [y1, y2], arrow = true, color = :black, lw = 1)\n",
    "end\n",
    "\n",
    "# Mostrar el gráfico\n",
    "display(current())\n"
   ]
  },
  {
   "cell_type": "markdown",
   "metadata": {},
   "source": [
    "* **Confounders**\n",
    "\n",
    "        Marital Status (M): Influences both Breastfeeding (T) and Number of Infections (Y) by affecting access to resources and support for childcare.\n",
    "\n",
    "        Family Income (I): Affects Breastfeeding (T) due to resource availability and Number of Infections (Y) through access to better healthcare and living conditions.\n",
    "\n",
    "        Education (E): Impacts Breastfeeding (T) as more educated mothers are aware of the benefits and Number of Infections (Y) through better hygiene and healthcare practices.\n",
    "\n",
    "* **Colliders**\n",
    "        \n",
    "        Number of Children (N): It has arrows coming from Marital Status (M), Family Income (I), and Education (E). Conditioning on N would create spurious associations between these variables.\n",
    "\n",
    "        Childcare Outside Home (C): It has arrows coming from Number of Children (N), Breastfeeding (T), and Family Income (I). Conditioning on C would introduce bias by linking unrelated variables.\n",
    "\n",
    "* **Controls**\n",
    "\n",
    "        Marital Status (M): Control this confounder to remove spurious associations with Breastfeeding (T) and Number of Infections (Y).\n",
    "\n",
    "        Family Income (I): Control this confounder to adjust for its influence on both Breastfeeding (T) and Number of Infections (Y).\n",
    "\n",
    "        Education (E): Control this confounder to account for its effects on both Breastfeeding (T) and Number of Infections (Y).\n"
   ]
  },
  {
   "cell_type": "markdown",
   "metadata": {},
   "source": [
    "## Part 2"
   ]
  },
  {
   "cell_type": "code",
   "execution_count": 59,
   "metadata": {},
   "outputs": [
    {
     "data": {
      "text/html": [
       "<div><div style = \"float: left;\"><span>5×20 DataFrame</span></div><div style = \"clear: both;\"></div></div><div class = \"data-frame\" style = \"overflow-x: scroll;\"><table class = \"data-frame\" style = \"margin-bottom: 6px;\"><thead><tr class = \"header\"><th class = \"rowNumber\" style = \"font-weight: bold; text-align: right;\">Row</th><th style = \"text-align: left;\">AtBat</th><th style = \"text-align: left;\">Hits</th><th style = \"text-align: left;\">HmRun</th><th style = \"text-align: left;\">Runs</th><th style = \"text-align: left;\">RBI</th><th style = \"text-align: left;\">Walks</th><th style = \"text-align: left;\">Years</th><th style = \"text-align: left;\">CAtBat</th><th style = \"text-align: left;\">CHits</th><th style = \"text-align: left;\">CHmRun</th><th style = \"text-align: left;\">CRuns</th><th style = \"text-align: left;\">CRBI</th><th style = \"text-align: left;\">CWalks</th><th style = \"text-align: left;\">League</th><th style = \"text-align: left;\">Division</th><th style = \"text-align: left;\">PutOuts</th><th style = \"text-align: left;\">Assists</th><th style = \"text-align: left;\">Errors</th><th style = \"text-align: left;\">Salary</th><th style = \"text-align: left;\">NewLeague</th></tr><tr class = \"subheader headerLastRow\"><th class = \"rowNumber\" style = \"font-weight: bold; text-align: right;\"></th><th title = \"Int32\" style = \"text-align: left;\">Int32</th><th title = \"Int32\" style = \"text-align: left;\">Int32</th><th title = \"Int32\" style = \"text-align: left;\">Int32</th><th title = \"Int32\" style = \"text-align: left;\">Int32</th><th title = \"Int32\" style = \"text-align: left;\">Int32</th><th title = \"Int32\" style = \"text-align: left;\">Int32</th><th title = \"Int32\" style = \"text-align: left;\">Int32</th><th title = \"Int32\" style = \"text-align: left;\">Int32</th><th title = \"Int32\" style = \"text-align: left;\">Int32</th><th title = \"Int32\" style = \"text-align: left;\">Int32</th><th title = \"Int32\" style = \"text-align: left;\">Int32</th><th title = \"Int32\" style = \"text-align: left;\">Int32</th><th title = \"Int32\" style = \"text-align: left;\">Int32</th><th title = \"CategoricalValue{String, UInt8}\" style = \"text-align: left;\">Cat…</th><th title = \"CategoricalValue{String, UInt8}\" style = \"text-align: left;\">Cat…</th><th title = \"Int32\" style = \"text-align: left;\">Int32</th><th title = \"Int32\" style = \"text-align: left;\">Int32</th><th title = \"Int32\" style = \"text-align: left;\">Int32</th><th title = \"Union{Missing, Float64}\" style = \"text-align: left;\">Float64?</th><th title = \"CategoricalValue{String, UInt8}\" style = \"text-align: left;\">Cat…</th></tr></thead><tbody><tr><td class = \"rowNumber\" style = \"font-weight: bold; text-align: right;\">1</td><td style = \"text-align: right;\">293</td><td style = \"text-align: right;\">66</td><td style = \"text-align: right;\">1</td><td style = \"text-align: right;\">30</td><td style = \"text-align: right;\">29</td><td style = \"text-align: right;\">14</td><td style = \"text-align: right;\">1</td><td style = \"text-align: right;\">293</td><td style = \"text-align: right;\">66</td><td style = \"text-align: right;\">1</td><td style = \"text-align: right;\">30</td><td style = \"text-align: right;\">29</td><td style = \"text-align: right;\">14</td><td style = \"text-align: left;\">A</td><td style = \"text-align: left;\">E</td><td style = \"text-align: right;\">446</td><td style = \"text-align: right;\">33</td><td style = \"text-align: right;\">20</td><td style = \"font-style: italic; text-align: right;\">missing</td><td style = \"text-align: left;\">A</td></tr><tr><td class = \"rowNumber\" style = \"font-weight: bold; text-align: right;\">2</td><td style = \"text-align: right;\">315</td><td style = \"text-align: right;\">81</td><td style = \"text-align: right;\">7</td><td style = \"text-align: right;\">24</td><td style = \"text-align: right;\">38</td><td style = \"text-align: right;\">39</td><td style = \"text-align: right;\">14</td><td style = \"text-align: right;\">3449</td><td style = \"text-align: right;\">835</td><td style = \"text-align: right;\">69</td><td style = \"text-align: right;\">321</td><td style = \"text-align: right;\">414</td><td style = \"text-align: right;\">375</td><td style = \"text-align: left;\">N</td><td style = \"text-align: left;\">W</td><td style = \"text-align: right;\">632</td><td style = \"text-align: right;\">43</td><td style = \"text-align: right;\">10</td><td style = \"text-align: right;\">475.0</td><td style = \"text-align: left;\">N</td></tr><tr><td class = \"rowNumber\" style = \"font-weight: bold; text-align: right;\">3</td><td style = \"text-align: right;\">479</td><td style = \"text-align: right;\">130</td><td style = \"text-align: right;\">18</td><td style = \"text-align: right;\">66</td><td style = \"text-align: right;\">72</td><td style = \"text-align: right;\">76</td><td style = \"text-align: right;\">3</td><td style = \"text-align: right;\">1624</td><td style = \"text-align: right;\">457</td><td style = \"text-align: right;\">63</td><td style = \"text-align: right;\">224</td><td style = \"text-align: right;\">266</td><td style = \"text-align: right;\">263</td><td style = \"text-align: left;\">A</td><td style = \"text-align: left;\">W</td><td style = \"text-align: right;\">880</td><td style = \"text-align: right;\">82</td><td style = \"text-align: right;\">14</td><td style = \"text-align: right;\">480.0</td><td style = \"text-align: left;\">A</td></tr><tr><td class = \"rowNumber\" style = \"font-weight: bold; text-align: right;\">4</td><td style = \"text-align: right;\">496</td><td style = \"text-align: right;\">141</td><td style = \"text-align: right;\">20</td><td style = \"text-align: right;\">65</td><td style = \"text-align: right;\">78</td><td style = \"text-align: right;\">37</td><td style = \"text-align: right;\">11</td><td style = \"text-align: right;\">5628</td><td style = \"text-align: right;\">1575</td><td style = \"text-align: right;\">225</td><td style = \"text-align: right;\">828</td><td style = \"text-align: right;\">838</td><td style = \"text-align: right;\">354</td><td style = \"text-align: left;\">N</td><td style = \"text-align: left;\">E</td><td style = \"text-align: right;\">200</td><td style = \"text-align: right;\">11</td><td style = \"text-align: right;\">3</td><td style = \"text-align: right;\">500.0</td><td style = \"text-align: left;\">N</td></tr><tr><td class = \"rowNumber\" style = \"font-weight: bold; text-align: right;\">5</td><td style = \"text-align: right;\">321</td><td style = \"text-align: right;\">87</td><td style = \"text-align: right;\">10</td><td style = \"text-align: right;\">39</td><td style = \"text-align: right;\">42</td><td style = \"text-align: right;\">30</td><td style = \"text-align: right;\">2</td><td style = \"text-align: right;\">396</td><td style = \"text-align: right;\">101</td><td style = \"text-align: right;\">12</td><td style = \"text-align: right;\">48</td><td style = \"text-align: right;\">46</td><td style = \"text-align: right;\">33</td><td style = \"text-align: left;\">N</td><td style = \"text-align: left;\">E</td><td style = \"text-align: right;\">805</td><td style = \"text-align: right;\">40</td><td style = \"text-align: right;\">4</td><td style = \"text-align: right;\">91.5</td><td style = \"text-align: left;\">N</td></tr></tbody></table></div>"
      ],
      "text/latex": [
       "\\begin{tabular}{r|ccccccccccccc}\n",
       "\t& AtBat & Hits & HmRun & Runs & RBI & Walks & Years & CAtBat & CHits & CHmRun & CRuns & CRBI & \\\\\n",
       "\t\\hline\n",
       "\t& Int32 & Int32 & Int32 & Int32 & Int32 & Int32 & Int32 & Int32 & Int32 & Int32 & Int32 & Int32 & \\\\\n",
       "\t\\hline\n",
       "\t1 & 293 & 66 & 1 & 30 & 29 & 14 & 1 & 293 & 66 & 1 & 30 & 29 & $\\dots$ \\\\\n",
       "\t2 & 315 & 81 & 7 & 24 & 38 & 39 & 14 & 3449 & 835 & 69 & 321 & 414 & $\\dots$ \\\\\n",
       "\t3 & 479 & 130 & 18 & 66 & 72 & 76 & 3 & 1624 & 457 & 63 & 224 & 266 & $\\dots$ \\\\\n",
       "\t4 & 496 & 141 & 20 & 65 & 78 & 37 & 11 & 5628 & 1575 & 225 & 828 & 838 & $\\dots$ \\\\\n",
       "\t5 & 321 & 87 & 10 & 39 & 42 & 30 & 2 & 396 & 101 & 12 & 48 & 46 & $\\dots$ \\\\\n",
       "\\end{tabular}\n"
      ],
      "text/plain": [
       "\u001b[1m5×20 DataFrame\u001b[0m\n",
       "\u001b[1m Row \u001b[0m│\u001b[1m AtBat \u001b[0m\u001b[1m Hits  \u001b[0m\u001b[1m HmRun \u001b[0m\u001b[1m Runs  \u001b[0m\u001b[1m RBI   \u001b[0m\u001b[1m Walks \u001b[0m\u001b[1m Years \u001b[0m\u001b[1m CAtBat \u001b[0m\u001b[1m CHits \u001b[0m\u001b[1m CHmRun \u001b[0m\u001b[1m\u001b[0m ⋯\n",
       "     │\u001b[90m Int32 \u001b[0m\u001b[90m Int32 \u001b[0m\u001b[90m Int32 \u001b[0m\u001b[90m Int32 \u001b[0m\u001b[90m Int32 \u001b[0m\u001b[90m Int32 \u001b[0m\u001b[90m Int32 \u001b[0m\u001b[90m Int32  \u001b[0m\u001b[90m Int32 \u001b[0m\u001b[90m Int32  \u001b[0m\u001b[90m\u001b[0m ⋯\n",
       "─────┼──────────────────────────────────────────────────────────────────────────\n",
       "   1 │   293     66      1     30     29     14      1     293     66       1  ⋯\n",
       "   2 │   315     81      7     24     38     39     14    3449    835      69\n",
       "   3 │   479    130     18     66     72     76      3    1624    457      63\n",
       "   4 │   496    141     20     65     78     37     11    5628   1575     225\n",
       "   5 │   321     87     10     39     42     30      2     396    101      12  ⋯\n",
       "\u001b[36m                                                              10 columns omitted\u001b[0m"
      ]
     },
     "metadata": {},
     "output_type": "display_data"
    }
   ],
   "source": [
    "using RDatasets, DataFrames, MLJ, MLJDecisionTreeInterface, DecisionTree, StatsPlots, MLJModels\n",
    "\n",
    "hitters = dataset(\"ISLR\", \"Hitters\")\n",
    "hitters[1:5, :]"
   ]
  },
  {
   "cell_type": "code",
   "execution_count": 60,
   "metadata": {},
   "outputs": [
    {
     "data": {
      "text/html": [
       "<div><div style = \"float: left;\"><span>20×2 DataFrame</span></div><div style = \"clear: both;\"></div></div><div class = \"data-frame\" style = \"overflow-x: scroll;\"><table class = \"data-frame\" style = \"margin-bottom: 6px;\"><thead><tr class = \"header\"><th class = \"rowNumber\" style = \"font-weight: bold; text-align: right;\">Row</th><th style = \"text-align: left;\">variable</th><th style = \"text-align: left;\">nmissing</th></tr><tr class = \"subheader headerLastRow\"><th class = \"rowNumber\" style = \"font-weight: bold; text-align: right;\"></th><th title = \"Symbol\" style = \"text-align: left;\">Symbol</th><th title = \"Int64\" style = \"text-align: left;\">Int64</th></tr></thead><tbody><tr><td class = \"rowNumber\" style = \"font-weight: bold; text-align: right;\">1</td><td style = \"text-align: left;\">AtBat</td><td style = \"text-align: right;\">0</td></tr><tr><td class = \"rowNumber\" style = \"font-weight: bold; text-align: right;\">2</td><td style = \"text-align: left;\">Hits</td><td style = \"text-align: right;\">0</td></tr><tr><td class = \"rowNumber\" style = \"font-weight: bold; text-align: right;\">3</td><td style = \"text-align: left;\">HmRun</td><td style = \"text-align: right;\">0</td></tr><tr><td class = \"rowNumber\" style = \"font-weight: bold; text-align: right;\">4</td><td style = \"text-align: left;\">Runs</td><td style = \"text-align: right;\">0</td></tr><tr><td class = \"rowNumber\" style = \"font-weight: bold; text-align: right;\">5</td><td style = \"text-align: left;\">RBI</td><td style = \"text-align: right;\">0</td></tr><tr><td class = \"rowNumber\" style = \"font-weight: bold; text-align: right;\">6</td><td style = \"text-align: left;\">Walks</td><td style = \"text-align: right;\">0</td></tr><tr><td class = \"rowNumber\" style = \"font-weight: bold; text-align: right;\">7</td><td style = \"text-align: left;\">Years</td><td style = \"text-align: right;\">0</td></tr><tr><td class = \"rowNumber\" style = \"font-weight: bold; text-align: right;\">8</td><td style = \"text-align: left;\">CAtBat</td><td style = \"text-align: right;\">0</td></tr><tr><td class = \"rowNumber\" style = \"font-weight: bold; text-align: right;\">9</td><td style = \"text-align: left;\">CHits</td><td style = \"text-align: right;\">0</td></tr><tr><td class = \"rowNumber\" style = \"font-weight: bold; text-align: right;\">10</td><td style = \"text-align: left;\">CHmRun</td><td style = \"text-align: right;\">0</td></tr><tr><td class = \"rowNumber\" style = \"font-weight: bold; text-align: right;\">11</td><td style = \"text-align: left;\">CRuns</td><td style = \"text-align: right;\">0</td></tr><tr><td class = \"rowNumber\" style = \"font-weight: bold; text-align: right;\">12</td><td style = \"text-align: left;\">CRBI</td><td style = \"text-align: right;\">0</td></tr><tr><td class = \"rowNumber\" style = \"font-weight: bold; text-align: right;\">13</td><td style = \"text-align: left;\">CWalks</td><td style = \"text-align: right;\">0</td></tr><tr><td class = \"rowNumber\" style = \"font-weight: bold; text-align: right;\">14</td><td style = \"text-align: left;\">League</td><td style = \"text-align: right;\">0</td></tr><tr><td class = \"rowNumber\" style = \"font-weight: bold; text-align: right;\">15</td><td style = \"text-align: left;\">Division</td><td style = \"text-align: right;\">0</td></tr><tr><td class = \"rowNumber\" style = \"font-weight: bold; text-align: right;\">16</td><td style = \"text-align: left;\">PutOuts</td><td style = \"text-align: right;\">0</td></tr><tr><td class = \"rowNumber\" style = \"font-weight: bold; text-align: right;\">17</td><td style = \"text-align: left;\">Assists</td><td style = \"text-align: right;\">0</td></tr><tr><td class = \"rowNumber\" style = \"font-weight: bold; text-align: right;\">18</td><td style = \"text-align: left;\">Errors</td><td style = \"text-align: right;\">0</td></tr><tr><td class = \"rowNumber\" style = \"font-weight: bold; text-align: right;\">19</td><td style = \"text-align: left;\">Salary</td><td style = \"text-align: right;\">59</td></tr><tr><td class = \"rowNumber\" style = \"font-weight: bold; text-align: right;\">20</td><td style = \"text-align: left;\">NewLeague</td><td style = \"text-align: right;\">0</td></tr></tbody></table></div>"
      ],
      "text/latex": [
       "\\begin{tabular}{r|cc}\n",
       "\t& variable & nmissing\\\\\n",
       "\t\\hline\n",
       "\t& Symbol & Int64\\\\\n",
       "\t\\hline\n",
       "\t1 & AtBat & 0 \\\\\n",
       "\t2 & Hits & 0 \\\\\n",
       "\t3 & HmRun & 0 \\\\\n",
       "\t4 & Runs & 0 \\\\\n",
       "\t5 & RBI & 0 \\\\\n",
       "\t6 & Walks & 0 \\\\\n",
       "\t7 & Years & 0 \\\\\n",
       "\t8 & CAtBat & 0 \\\\\n",
       "\t9 & CHits & 0 \\\\\n",
       "\t10 & CHmRun & 0 \\\\\n",
       "\t11 & CRuns & 0 \\\\\n",
       "\t12 & CRBI & 0 \\\\\n",
       "\t13 & CWalks & 0 \\\\\n",
       "\t14 & League & 0 \\\\\n",
       "\t15 & Division & 0 \\\\\n",
       "\t16 & PutOuts & 0 \\\\\n",
       "\t17 & Assists & 0 \\\\\n",
       "\t18 & Errors & 0 \\\\\n",
       "\t19 & Salary & 59 \\\\\n",
       "\t20 & NewLeague & 0 \\\\\n",
       "\\end{tabular}\n"
      ],
      "text/plain": [
       "\u001b[1m20×2 DataFrame\u001b[0m\n",
       "\u001b[1m Row \u001b[0m│\u001b[1m variable  \u001b[0m\u001b[1m nmissing \u001b[0m\n",
       "     │\u001b[90m Symbol    \u001b[0m\u001b[90m Int64    \u001b[0m\n",
       "─────┼─────────────────────\n",
       "   1 │ AtBat             0\n",
       "   2 │ Hits              0\n",
       "   3 │ HmRun             0\n",
       "   4 │ Runs              0\n",
       "   5 │ RBI               0\n",
       "   6 │ Walks             0\n",
       "   7 │ Years             0\n",
       "   8 │ CAtBat            0\n",
       "  ⋮  │     ⋮         ⋮\n",
       "  14 │ League            0\n",
       "  15 │ Division          0\n",
       "  16 │ PutOuts           0\n",
       "  17 │ Assists           0\n",
       "  18 │ Errors            0\n",
       "  19 │ Salary           59\n",
       "  20 │ NewLeague         0\n",
       "\u001b[36m             5 rows omitted\u001b[0m"
      ]
     },
     "metadata": {},
     "output_type": "display_data"
    }
   ],
   "source": [
    "describe(hitters, :nmissing)\n",
    "\n",
    "#59 salaries missing"
   ]
  },
  {
   "cell_type": "code",
   "execution_count": 61,
   "metadata": {},
   "outputs": [],
   "source": [
    "hitters = dropmissing(hitters, :Salary);"
   ]
  },
  {
   "cell_type": "code",
   "execution_count": 62,
   "metadata": {},
   "outputs": [
    {
     "name": "stderr",
     "output_type": "stream",
     "text": [
      "┌ Info: Training machine(OneHotEncoder(features = [:League, :Division, :NewLeague], …), …).\n",
      "└ @ MLJBase /Users/lucassalamanca/.julia/packages/MLJBase/7nGJF/src/machines.jl:499\n",
      "┌ Info: Spawning 2 sub-features to one-hot encode feature :League.\n",
      "└ @ MLJModels /Users/lucassalamanca/.julia/packages/MLJModels/8W54X/src/builtins/Transformers.jl:795\n",
      "┌ Info: Spawning 2 sub-features to one-hot encode feature :Division.\n",
      "└ @ MLJModels /Users/lucassalamanca/.julia/packages/MLJModels/8W54X/src/builtins/Transformers.jl:795\n",
      "┌ Info: Spawning 2 sub-features to one-hot encode feature :NewLeague.\n",
      "└ @ MLJModels /Users/lucassalamanca/.julia/packages/MLJModels/8W54X/src/builtins/Transformers.jl:795\n"
     ]
    }
   ],
   "source": [
    "\n",
    "# Separate the target variable `Salary` and the features\n",
    "y, X = unpack(hitters, ==(:Salary), !=(:Salary))\n",
    "\n",
    "# Transform categorical variables to dummies using one-hot encoding\n",
    "onehotencoder = @load OneHotEncoder pkg=MLJModels verbosity=0\n",
    "ohe = onehotencoder(features=[:League, :Division, :NewLeague])\n",
    "ohe_machine = machine(ohe, X)\n",
    "MLJ.fit!(ohe_machine);\n",
    "X = MLJ.transform(ohe_machine, X);\n"
   ]
  },
  {
   "cell_type": "code",
   "execution_count": 63,
   "metadata": {},
   "outputs": [
    {
     "data": {
      "text/plain": [
       "┌──────────────┬────────────┬─────────┐\n",
       "│\u001b[22m names        \u001b[0m│\u001b[22m scitypes   \u001b[0m│\u001b[22m types   \u001b[0m│\n",
       "├──────────────┼────────────┼─────────┤\n",
       "│ AtBat        │ Count      │ Int32   │\n",
       "│ Hits         │ Count      │ Int32   │\n",
       "│ HmRun        │ Count      │ Int32   │\n",
       "│ Runs         │ Count      │ Int32   │\n",
       "│ RBI          │ Count      │ Int32   │\n",
       "│ Walks        │ Count      │ Int32   │\n",
       "│ Years        │ Count      │ Int32   │\n",
       "│ CAtBat       │ Count      │ Int32   │\n",
       "│ CHits        │ Count      │ Int32   │\n",
       "│ CHmRun       │ Count      │ Int32   │\n",
       "│ CRuns        │ Count      │ Int32   │\n",
       "│ CRBI         │ Count      │ Int32   │\n",
       "│ CWalks       │ Count      │ Int32   │\n",
       "│ League__A    │ Continuous │ Float64 │\n",
       "│ League__N    │ Continuous │ Float64 │\n",
       "│ Division__E  │ Continuous │ Float64 │\n",
       "│      ⋮       │     ⋮      │    ⋮    │\n",
       "└──────────────┴────────────┴─────────┘\n",
       "\u001b[36m                         6 rows omitted\u001b[0m\n"
      ]
     },
     "metadata": {},
     "output_type": "display_data"
    }
   ],
   "source": [
    "MLJ.schema(X)"
   ]
  },
  {
   "cell_type": "code",
   "execution_count": 64,
   "metadata": {},
   "outputs": [],
   "source": [
    "# Coerce counts to continuous variables\n",
    "MLJ.coerce!(X, Count => MLJ.Continuous)\n",
    "\n",
    "# Combine `X` and `y` into a single DataFrame\n",
    "df = hcat(X, y);\n"
   ]
  },
  {
   "cell_type": "code",
   "execution_count": 94,
   "metadata": {},
   "outputs": [],
   "source": [
    "train_indices, test_indices = partition(eachindex(y), 0.9, rng=1)\n",
    "train_df = df[train_indices, :];\n",
    "test_df = df[test_indices, :];\n",
    "\n",
    "rename!(train_df, :x1 => :Salary);\n",
    "rename!(test_df, :x1 => :Salary);\n",
    "\n",
    "# Transform Salary to LogSalary and then drop Salary\n",
    "train_df.LogSalary = log.(train_df.Salary)\n",
    "test_df.LogSalary = log.(test_df.Salary)\n",
    "\n",
    "select!(train_df, Not(:Salary));\n",
    "select!(test_df, Not(:Salary));"
   ]
  },
  {
   "cell_type": "code",
   "execution_count": 95,
   "metadata": {},
   "outputs": [
    {
     "name": "stdout",
     "output_type": "stream",
     "text": [
      "[\"AtBat\", \"Hits\", \"HmRun\", \"Runs\", \"RBI\", \"Walks\", \"Years\", \"CAtBat\", \"CHits\", \"CHmRun\", \"CRuns\", \"CRBI\", \"CWalks\", \"League__A\", \"League__N\", \"Division__E\", \"Division__W\", \"PutOuts\", \"Assists\", \"Errors\", \"NewLeague__A\", \"NewLeague__N\", \"LogSalary\"]\n"
     ]
    }
   ],
   "source": [
    "println(names(train_df))\n"
   ]
  },
  {
   "cell_type": "code",
   "execution_count": 96,
   "metadata": {},
   "outputs": [
    {
     "data": {
      "text/plain": [
       "StatsModels.TableRegressionModel{LinearModel{GLM.LmResp{Vector{Float64}}, GLM.DensePredChol{Float64, CholeskyPivoted{Float64, Matrix{Float64}, Vector{Int64}}}}, Matrix{Float64}}\n",
       "\n",
       "LogSalary ~ 1 + AtBat + Hits + HmRun + Runs + RBI + Walks + Years + CAtBat + CHits + CHmRun + CRuns + CRBI + CWalks + League__A + League__N + Division__E + Division__W + PutOuts + Assists + Errors + NewLeague__A + NewLeague__N\n",
       "\n",
       "Coefficients:\n",
       "─────────────────────────────────────────────────────────────────────────────────────────\n",
       "                     Coef.     Std. Error       t  Pr(>|t|)      Lower 95%      Upper 95%\n",
       "─────────────────────────────────────────────────────────────────────────────────────────\n",
       "(Intercept)    0.0          NaN            NaN       NaN     NaN            NaN\n",
       "AtBat         -0.00300308     0.00127893    -2.35    0.0198   -0.00552379    -0.000482369\n",
       "Hits           0.013848       0.00475219     2.91    0.0039    0.00448162     0.0232143\n",
       "HmRun          0.0143693      0.0128716      1.12    0.2655   -0.011          0.0397385\n",
       "Runs          -0.00222725     0.0061755     -0.36    0.7187   -0.0143989      0.00994438\n",
       "RBI           -0.00202885     0.00529067    -0.38    0.7017   -0.0124565      0.00839883\n",
       "Walks          0.0112585      0.00375287     3.00    0.0030    0.00386171     0.0186552\n",
       "Years          0.059781       0.024899       2.40    0.0172    0.0107062      0.108856\n",
       "CAtBat         0.000102541    0.000271617    0.38    0.7062   -0.000432804    0.000637886\n",
       "CHits         -0.000589925    0.00136309    -0.43    0.6656   -0.00327652     0.00209667\n",
       "CHmRun        -0.00132008     0.00327108    -0.40    0.6869   -0.00776724     0.00512708\n",
       "CRuns          0.00163084     0.00153508     1.06    0.2892   -0.00139473     0.00465642\n",
       "CRBI           0.0007515      0.0013892      0.54    0.5891   -0.00198656     0.00348956\n",
       "CWalks        -0.00153384     0.000678867   -2.26    0.0249   -0.00287186    -0.000195828\n",
       "League__A      0.0          NaN            NaN       NaN     NaN            NaN\n",
       "League__N      0.27472        0.16369        1.68    0.0947   -0.0479065      0.597346\n",
       "Division__E    4.40546        0.24163       18.23    <1e-44    3.92922        4.8817\n",
       "Division__W    4.25922        0.239816      17.76    <1e-43    3.78655        4.73188\n",
       "PutOuts        0.000332623    0.000155438    2.14    0.0335    2.62606e-5     0.000638985\n",
       "Assists        0.000648577    0.000462265    1.40    0.1620   -0.000262528    0.00155968\n",
       "Errors        -0.0136249      0.00949028    -1.44    0.1525   -0.0323298      0.00508004\n",
       "NewLeague__A   0.141972       0.162731       0.87    0.3839   -0.178763       0.462707\n",
       "NewLeague__N   0.0          NaN            NaN       NaN     NaN            NaN\n",
       "─────────────────────────────────────────────────────────────────────────────────────────"
      ]
     },
     "metadata": {},
     "output_type": "display_data"
    }
   ],
   "source": [
    "# Fit OLS model with all regressors from training set\n",
    "fmla = @formula(LogSalary ~ 1 + AtBat + Hits + HmRun + Runs + RBI + Walks + Years + CAtBat + CHits + CHmRun + CRuns + CRBI + CWalks + League__A + League__N + Division__E + Division__W + PutOuts + Assists + Errors + NewLeague__A + NewLeague__N)\n",
    "ols_model= lm(fmla, train_df)"
   ]
  },
  {
   "cell_type": "code",
   "execution_count": 97,
   "metadata": {},
   "outputs": [
    {
     "data": {
      "text/plain": [
       "23"
      ]
     },
     "metadata": {},
     "output_type": "display_data"
    }
   ],
   "source": [
    "# Calculate the OLS point estimate using the training set\n",
    "b_hat = GLM.coef(ols_model)\n",
    "\n",
    "# Number of features (including the intercept)\n",
    "n_features = length(b_hat)\n"
   ]
  },
  {
   "cell_type": "code",
   "execution_count": 98,
   "metadata": {},
   "outputs": [
    {
     "data": {
      "text/plain": [
       "(10000, 23)"
      ]
     },
     "metadata": {},
     "output_type": "display_data"
    }
   ],
   "source": [
    "# Bootstrapping\n",
    "# loop to generate 10,000 bootstrap estimates\n",
    "n_boots = 10_000\n",
    "b_boots = zeros(n_boots, n_features)\n",
    "n_train = nrow(train_df)\n",
    "Random.seed!(123)  # For reproducibility\n",
    "\n",
    "for i in 1:n_boots\n",
    "    # Sample indices with replacement\n",
    "    indices = rand(1:n_train, n_train)\n",
    "    boot_df = train_df[indices, :]\n",
    "    # Fit OLS model on the bootstrap sample\n",
    "    boot_model = lm(fmla, boot_df)\n",
    "    # Store the bootstrap coefficients\n",
    "    b_boots[i, :] = GLM.coef(boot_model)\n",
    "end\n",
    "\n",
    "n_b_boots = size(b_boots)\n"
   ]
  },
  {
   "cell_type": "code",
   "execution_count": 99,
   "metadata": {},
   "outputs": [
    {
     "data": {
      "text/plain": [
       "23"
      ]
     },
     "metadata": {},
     "output_type": "display_data"
    }
   ],
   "source": [
    "# Initialize arrays to store the lower and upper bounds\n",
    "b_lower = zeros(n_features)\n",
    "b_upper = zeros(n_features)\n",
    "\n",
    "# Calculate the 2.5% and 97.5% percentiles for each coefficient\n",
    "for j in 1:n_features\n",
    "    b_lower[j] = quantile(b_boots[:, j], 0.025)\n",
    "    b_upper[j] = quantile(b_boots[:, j], 0.975)\n",
    "end\n",
    "length(b_lower)"
   ]
  },
  {
   "cell_type": "code",
   "execution_count": 100,
   "metadata": {},
   "outputs": [
    {
     "name": "stdout",
     "output_type": "stream",
     "text": [
      "Coefficient: (Intercept)\n",
      "Point Estimate: 0.0\n",
      "95% Confidence Interval: [-5.04095559033421, 0.0]\n",
      "\n",
      "Coefficient: AtBat\n",
      "Point Estimate: -0.003003080877000832\n",
      "95% Confidence Interval: [-0.003132829699431419, 0.002782304085091096]\n",
      "\n",
      "Coefficient: Hits\n",
      "Point Estimate: 0.013847980469040684\n",
      "95% Confidence Interval: [-0.01021413388260433, 0.012314851720600572]\n",
      "\n",
      "Coefficient: HmRun\n",
      "Point Estimate: 0.014369266563085643\n",
      "95% Confidence Interval: [-0.022223722247232482, 0.024545385736341532]\n",
      "\n",
      "Coefficient: Runs\n",
      "Point Estimate: -0.002227253601035212\n",
      "95% Confidence Interval: [-0.012118733887187583, 0.011141028608431917]\n",
      "\n",
      "Coefficient: RBI\n",
      "Point Estimate: -0.002028846420315926\n",
      "95% Confidence Interval: [-0.010242957585293994, 0.009027796347411316]\n",
      "\n",
      "Coefficient: Walks\n",
      "Point Estimate: 0.011258456969750624\n",
      "95% Confidence Interval: [-0.006510491415869738, 0.007616700617107296]\n",
      "\n",
      "Coefficient: Years\n",
      "Point Estimate: 0.059781031523779025\n",
      "95% Confidence Interval: [-0.046701667029519646, 0.04645525549964947]\n",
      "\n",
      "Coefficient: CAtBat\n",
      "Point Estimate: 0.00010254118657184797\n",
      "95% Confidence Interval: [-0.0005313198796116059, 0.0005713963664066163]\n",
      "\n",
      "Coefficient: CHits\n",
      "Point Estimate: -0.0005899254684643672\n",
      "95% Confidence Interval: [-0.0030326008750428774, 0.0024560394886387693]\n",
      "\n",
      "Coefficient: CHmRun\n",
      "Point Estimate: -0.0013200803815733894\n",
      "95% Confidence Interval: [-0.00812622885397067, 0.006079613628057383]\n",
      "\n",
      "Coefficient: CRuns\n",
      "Point Estimate: 0.0016308420395938423\n",
      "95% Confidence Interval: [-0.0027715915832714696, 0.003211715185587066]\n",
      "\n",
      "Coefficient: CRBI\n",
      "Point Estimate: 0.0007514995532233017\n",
      "95% Confidence Interval: [-0.002490131424686893, 0.0033017551179532105]\n",
      "\n",
      "Coefficient: CWalks\n",
      "Point Estimate: -0.0015338443518260055\n",
      "95% Confidence Interval: [-0.001518006847114699, 0.0012495296704923226]\n",
      "\n",
      "Coefficient: League__A\n",
      "Point Estimate: 0.0\n",
      "95% Confidence Interval: [-4.769548459880917, 0.4750798854042021]\n",
      "\n",
      "Coefficient: League__N\n",
      "Point Estimate: 0.27471991362459414\n",
      "95% Confidence Interval: [-4.77909393722741, 0.27471991362459414]\n",
      "\n",
      "Coefficient: Division__E\n",
      "Point Estimate: 4.4054601743203055\n",
      "95% Confidence Interval: [-0.5353954750199179, 4.4054601743203055]\n",
      "\n",
      "Coefficient: Division__W\n",
      "Point Estimate: 4.259218153915753\n",
      "95% Confidence Interval: [-0.5165430637993405, 4.545422306880761]\n",
      "\n",
      "Coefficient: PutOuts\n",
      "Point Estimate: 0.0003326226842943833\n",
      "95% Confidence Interval: [-0.0003846173552966962, 0.0003592121454779611]\n",
      "\n",
      "Coefficient: Assists\n",
      "Point Estimate: 0.0006485774588877005\n",
      "95% Confidence Interval: [-0.001080520364071057, 0.0010130408546832484]\n",
      "\n",
      "Coefficient: Errors\n",
      "Point Estimate: -0.013624896123758863\n",
      "95% Confidence Interval: [-0.017024386792669464, 0.01770224823020803]\n",
      "\n",
      "Coefficient: NewLeague__A\n",
      "Point Estimate: 0.14197210750688252\n",
      "95% Confidence Interval: [-4.780901027222603, 0.2885971352915972]\n",
      "\n",
      "Coefficient: NewLeague__N\n",
      "Point Estimate: 0.0\n",
      "95% Confidence Interval: [-4.778122273064499, 0.34401297044664525]\n",
      "\n"
     ]
    }
   ],
   "source": [
    "# Calculate confidence intervals\n",
    "b_conf_lower = b_hat .- b_upper\n",
    "b_conf_upper = b_hat .- b_lower\n",
    "\n",
    "# Display the results\n",
    "coef_names = coefnames(ols_model)\n",
    "for i in 1:n_features\n",
    "    println(\"Coefficient: $(coef_names[i])\")\n",
    "    println(\"Point Estimate: $(b_hat[i])\")\n",
    "    println(\"95% Confidence Interval: [$(b_conf_lower[i]), $(b_conf_upper[i])]\")\n",
    "    println()\n",
    "end"
   ]
  },
  {
   "cell_type": "code",
   "execution_count": 103,
   "metadata": {},
   "outputs": [
    {
     "name": "stdout",
     "output_type": "stream",
     "text": [
      "Out-of-sample MSE: 0.39155911700950213\n"
     ]
    }
   ],
   "source": [
    "using Statistics\n",
    "\n",
    "# Predict on the test set\n",
    "y_pred = MLJModels.predict(ols_model, test_df)\n",
    "\n",
    "# Calculate the MSE\n",
    "mse = mean((test_df.LogSalary - y_pred).^2)\n",
    "\n",
    "println(\"Out-of-sample MSE: $mse\")"
   ]
  },
  {
   "cell_type": "code",
   "execution_count": 109,
   "metadata": {},
   "outputs": [
    {
     "name": "stderr",
     "output_type": "stream",
     "text": [
      "┌ Info: Training machine(DecisionTreeRegressor(max_depth = -1, …), …).\n",
      "└ @ MLJBase /Users/lucassalamanca/.julia/packages/MLJBase/7nGJF/src/machines.jl:499\n"
     ]
    },
    {
     "data": {
      "text/plain": [
       "trained Machine; caches model-specific representations of data\n",
       "  model: DecisionTreeRegressor(max_depth = -1, …)\n",
       "  args: \n",
       "    1:\tSource @543 ⏎ Table{AbstractVector{ScientificTypesBase.Continuous}}\n",
       "    2:\tSource @222 ⏎ AbstractVector{ScientificTypesBase.Continuous}\n"
      ]
     },
     "metadata": {},
     "output_type": "display_data"
    }
   ],
   "source": [
    "# Load the DecisionTreeRegressor\n",
    "train, test = partition(eachindex(y), 0.9, rng = 1);\n",
    "DecisionTreeRegressor = @load DecisionTreeRegressor pkg=DecisionTree verbosity=0\n",
    "\n",
    "tree_model = DecisionTreeRegressor()\n",
    "tree_machine = machine(tree_model, X[train, :], y[train])\n",
    "MLJ.fit!(tree_machine)\n"
   ]
  },
  {
   "cell_type": "code",
   "execution_count": 110,
   "metadata": {},
   "outputs": [
    {
     "data": {
      "text/plain": [
       "CHits < 450.0\n",
       "├─ AtBat < 147.0\n",
       "│  ├─ 709.4666 (0/5)\n",
       "│  └─ CRBI < 114.5\n",
       "│     ├─ CRuns < 81.0\n",
       "│     │  ├─ CRuns < 64.0\n",
       "│     │  │  ├─ Hits < 69.5\n",
       "│     │  │  │  ⋮\n",
       "│     │  │  │  \n",
       "│     │  │  └─ Runs < 45.0\n",
       "│     │  │     ⋮\n",
       "│     │  │     \n",
       "│     │  └─ CAtBat < 842.5\n",
       "│     │     ├─ CRuns < 100.5\n",
       "│     │     │  ⋮\n",
       "│     │     │  \n",
       "│     │     └─ PutOuts < 151.5\n",
       "│     │        ⋮\n",
       "│     │        \n",
       "│     └─ CWalks < 120.0\n",
       "│        ├─ Walks < 29.5\n",
       "│        │  ├─ 318.9375 (0/8)\n",
       "│        │  └─ 215.0 (2/7)\n",
       "│        └─ Walks < 45.0\n",
       "│           ├─ 338.5 (0/5)\n",
       "│           └─ 447.22222222222223 (0/9)\n",
       "└─ Walks < 61.0\n",
       "   ├─ AtBat < 365.0\n",
       "   │  ├─ NewLeague__N < 0.5\n",
       "   │  │  ├─ Hits < 76.5\n",
       "   │  │  │  ├─ Errors < 5.5\n",
       "   │  │  │  │  ⋮\n",
       "   │  │  │  │  \n",
       "   │  │  │  └─ 500.4166666666667 (0/6)\n",
       "   │  │  └─ Years < 12.5\n",
       "   │  │     ├─ CWalks < 264.5\n",
       "   │  │     │  ⋮\n",
       "   │  │     │  \n",
       "   │  │     └─ PutOuts < 118.0\n",
       "   │  │        ⋮\n",
       "   │  │        \n",
       "   │  └─ PutOuts < 771.0\n",
       "   │     ├─ CRBI < 279.0\n",
       "   │     │  ├─ CWalks < 177.0\n",
       "   │     │  │  ⋮\n",
       "   │     │  │  \n",
       "   │     │  └─ AtBat < 585.0\n",
       "   │     │     ⋮\n",
       "   │     │     \n",
       "   │     └─ 1156.6666666666667 (0/6)\n",
       "   └─ RBI < 73.5\n",
       "      ├─ PutOuts < 239.5\n",
       "      │  ├─ 1156.0714285714287 (0/7)\n",
       "      │  └─ PutOuts < 308.0\n",
       "      │     ├─ 620.0 (0/6)\n",
       "      │     └─ 842.2916250000001 (0/8)\n",
       "      └─ Years < 13.5\n",
       "         ├─ CAtBat < 3814.0\n",
       "         │  ├─ 1118.5714285714287 (0/7)\n",
       "         │  └─ 2028.0118333333332 (0/6)\n",
       "         └─ 992.4654999999999 (0/6)\n"
      ]
     },
     "metadata": {},
     "output_type": "display_data"
    }
   ],
   "source": [
    "fitted_params(tree_machine)[1]"
   ]
  },
  {
   "cell_type": "code",
   "execution_count": 112,
   "metadata": {},
   "outputs": [
    {
     "data": {
      "text/plain": [
       "212.79287325701367"
      ]
     },
     "metadata": {},
     "output_type": "display_data"
    }
   ],
   "source": [
    "predictions = MLJ.predict(tree_machine, X[test, :])\n",
    "sqrt(mean((predictions - y[test]) .^ 2))"
   ]
  },
  {
   "cell_type": "code",
   "execution_count": 116,
   "metadata": {},
   "outputs": [
    {
     "name": "stderr",
     "output_type": "stream",
     "text": [
      "┌ Info: Training machine(DecisionTreeRegressor(max_depth = -1, …), …).\n",
      "└ @ MLJBase /Users/lucassalamanca/.julia/packages/MLJBase/7nGJF/src/machines.jl:499\n",
      "\u001b[33mEvaluating over 3 folds: 100%[=========================] Time: 0:00:05\u001b[39m\u001b[K\n"
     ]
    },
    {
     "data": {
      "text/plain": [
       "0.1998876140751445"
      ]
     },
     "metadata": {},
     "output_type": "display_data"
    }
   ],
   "source": [
    "\n",
    "tree_model_prune = DecisionTreeRegressor(post_prune = true, merge_purity_threshold = 0.09)\n",
    "tree_machine_prune = machine(tree_model_prune, X[train, :], y[train])\n",
    "MLJ.fit!(tree_machine_prune);\n",
    "\n",
    "thresholds = exp.(collect(-10:0.01:0))\n",
    "rmses = []\n",
    "\n",
    "for threshold in thresholds\n",
    "        tree_model_prune.merge_purity_threshold = threshold\n",
    "        evaluation = evaluate!(\n",
    "                tree_machine_prune,\n",
    "                resampling = CV(nfolds = 3, shuffle = true, rng = 123),\n",
    "                measure = rmse\n",
    "        )\n",
    "        rmses = [rmses; evaluation.measurement]\n",
    "end\n",
    "\n",
    "thresholds[argmin(rmses)]\n",
    "\n"
   ]
  },
  {
   "cell_type": "code",
   "execution_count": 119,
   "metadata": {},
   "outputs": [
    {
     "name": "stderr",
     "output_type": "stream",
     "text": [
      "┌ Info: Training machine(DecisionTreeRegressor(max_depth = -1, …), …).\n",
      "└ @ MLJBase /Users/lucassalamanca/.julia/packages/MLJBase/7nGJF/src/machines.jl:499\n"
     ]
    },
    {
     "data": {
      "text/plain": [
       "212.9207044349215"
      ]
     },
     "metadata": {},
     "output_type": "display_data"
    }
   ],
   "source": [
    "tree_model_prune = DecisionTreeRegressor(post_prune = true, merge_purity_threshold = thresholds[argmin(rmses)])\n",
    "tree_machine_prune = machine(tree_model_prune, X[train, :], y[train])\n",
    "MLJ.fit!(tree_machine_prune);\n",
    "predictions_prune = MLJ.predict(tree_machine_prune, X[test, :])\n",
    "sqrt(mean((predictions_prune - y[test]) .^ 2))"
   ]
  },
  {
   "cell_type": "markdown",
   "metadata": {},
   "source": [
    "When comparing the MSE of both models, the bootstrapping model has an MSE of 0.39155911700950213, while the decision tree has an MSE of 212.9207044349215. Since the MSE of the bootstrapping model is lower, this model demonstrates better predictive accuracy according to this metric.\n",
    "\n",
    "\n",
    "\n",
    "\n",
    "\n",
    "\n"
   ]
  }
 ],
 "metadata": {
  "kernelspec": {
   "display_name": "Julia 1.10.4",
   "language": "julia",
   "name": "julia-1.10"
  },
  "language_info": {
   "file_extension": ".jl",
   "mimetype": "application/julia",
   "name": "julia",
   "version": "1.10.4"
  }
 },
 "nbformat": 4,
 "nbformat_minor": 2
}
