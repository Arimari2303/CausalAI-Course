{
 "cells": [
  {
   "cell_type": "code",
   "execution_count": 150,
   "metadata": {},
   "outputs": [
    {
     "name": "stderr",
     "output_type": "stream",
     "text": [
      "\u001b[32m\u001b[1m   Resolving\u001b[22m\u001b[39m package versions...\n",
      "\u001b[32m\u001b[1m  No Changes\u001b[22m\u001b[39m to `C:\\Users\\sophi\\.julia\\environments\\v1.10\\Project.toml`\n",
      "\u001b[32m\u001b[1m  No Changes\u001b[22m\u001b[39m to `C:\\Users\\sophi\\.julia\\environments\\v1.10\\Manifest.toml`\n",
      "\u001b[32m\u001b[1m   Resolving\u001b[22m\u001b[39m package versions...\n",
      "\u001b[32m\u001b[1m  No Changes\u001b[22m\u001b[39m to `C:\\Users\\sophi\\.julia\\environments\\v1.10\\Project.toml`\n",
      "\u001b[32m\u001b[1m  No Changes\u001b[22m\u001b[39m to `C:\\Users\\sophi\\.julia\\environments\\v1.10\\Manifest.toml`\n"
     ]
    }
   ],
   "source": [
    "using Pkg\n",
    "Pkg.add(\"GLM\")\n",
    "Pkg.add(\"StatsModels\")"
   ]
  },
  {
   "cell_type": "markdown",
   "metadata": {},
   "source": [
    "# 3. Bootstrapping and Decision Trees"
   ]
  },
  {
   "cell_type": "markdown",
   "metadata": {},
   "source": [
    "3.1 Generar el dataset, transformar las variables categóricas en dummies."
   ]
  },
  {
   "cell_type": "code",
   "execution_count": 7,
   "metadata": {},
   "outputs": [
    {
     "name": "stdout",
     "output_type": "stream",
     "text": [
      "Generamos el dataset base:\n"
     ]
    },
    {
     "data": {
      "text/html": [
       "<div><div style = \"float: left;\"><span>5×20 DataFrame</span></div><div style = \"clear: both;\"></div></div><div class = \"data-frame\" style = \"overflow-x: scroll;\"><table class = \"data-frame\" style = \"margin-bottom: 6px;\"><thead><tr class = \"header\"><th class = \"rowNumber\" style = \"font-weight: bold; text-align: right;\">Row</th><th style = \"text-align: left;\">AtBat</th><th style = \"text-align: left;\">Hits</th><th style = \"text-align: left;\">HmRun</th><th style = \"text-align: left;\">Runs</th><th style = \"text-align: left;\">RBI</th><th style = \"text-align: left;\">Walks</th><th style = \"text-align: left;\">Years</th><th style = \"text-align: left;\">CAtBat</th><th style = \"text-align: left;\">CHits</th><th style = \"text-align: left;\">CHmRun</th><th style = \"text-align: left;\">CRuns</th><th style = \"text-align: left;\">CRBI</th><th style = \"text-align: left;\">CWalks</th><th style = \"text-align: left;\">League</th><th style = \"text-align: left;\">Division</th><th style = \"text-align: left;\">PutOuts</th><th style = \"text-align: left;\">Assists</th><th style = \"text-align: left;\">Errors</th><th style = \"text-align: left;\">Salary</th><th style = \"text-align: left;\">NewLeague</th></tr><tr class = \"subheader headerLastRow\"><th class = \"rowNumber\" style = \"font-weight: bold; text-align: right;\"></th><th title = \"Int32\" style = \"text-align: left;\">Int32</th><th title = \"Int32\" style = \"text-align: left;\">Int32</th><th title = \"Int32\" style = \"text-align: left;\">Int32</th><th title = \"Int32\" style = \"text-align: left;\">Int32</th><th title = \"Int32\" style = \"text-align: left;\">Int32</th><th title = \"Int32\" style = \"text-align: left;\">Int32</th><th title = \"Int32\" style = \"text-align: left;\">Int32</th><th title = \"Int32\" style = \"text-align: left;\">Int32</th><th title = \"Int32\" style = \"text-align: left;\">Int32</th><th title = \"Int32\" style = \"text-align: left;\">Int32</th><th title = \"Int32\" style = \"text-align: left;\">Int32</th><th title = \"Int32\" style = \"text-align: left;\">Int32</th><th title = \"Int32\" style = \"text-align: left;\">Int32</th><th title = \"CategoricalArrays.CategoricalValue{String, UInt8}\" style = \"text-align: left;\">Cat…</th><th title = \"CategoricalArrays.CategoricalValue{String, UInt8}\" style = \"text-align: left;\">Cat…</th><th title = \"Int32\" style = \"text-align: left;\">Int32</th><th title = \"Int32\" style = \"text-align: left;\">Int32</th><th title = \"Int32\" style = \"text-align: left;\">Int32</th><th title = \"Union{Missing, Float64}\" style = \"text-align: left;\">Float64?</th><th title = \"CategoricalArrays.CategoricalValue{String, UInt8}\" style = \"text-align: left;\">Cat…</th></tr></thead><tbody><tr><td class = \"rowNumber\" style = \"font-weight: bold; text-align: right;\">1</td><td style = \"text-align: right;\">293</td><td style = \"text-align: right;\">66</td><td style = \"text-align: right;\">1</td><td style = \"text-align: right;\">30</td><td style = \"text-align: right;\">29</td><td style = \"text-align: right;\">14</td><td style = \"text-align: right;\">1</td><td style = \"text-align: right;\">293</td><td style = \"text-align: right;\">66</td><td style = \"text-align: right;\">1</td><td style = \"text-align: right;\">30</td><td style = \"text-align: right;\">29</td><td style = \"text-align: right;\">14</td><td style = \"text-align: left;\">A</td><td style = \"text-align: left;\">E</td><td style = \"text-align: right;\">446</td><td style = \"text-align: right;\">33</td><td style = \"text-align: right;\">20</td><td style = \"font-style: italic; text-align: right;\">missing</td><td style = \"text-align: left;\">A</td></tr><tr><td class = \"rowNumber\" style = \"font-weight: bold; text-align: right;\">2</td><td style = \"text-align: right;\">315</td><td style = \"text-align: right;\">81</td><td style = \"text-align: right;\">7</td><td style = \"text-align: right;\">24</td><td style = \"text-align: right;\">38</td><td style = \"text-align: right;\">39</td><td style = \"text-align: right;\">14</td><td style = \"text-align: right;\">3449</td><td style = \"text-align: right;\">835</td><td style = \"text-align: right;\">69</td><td style = \"text-align: right;\">321</td><td style = \"text-align: right;\">414</td><td style = \"text-align: right;\">375</td><td style = \"text-align: left;\">N</td><td style = \"text-align: left;\">W</td><td style = \"text-align: right;\">632</td><td style = \"text-align: right;\">43</td><td style = \"text-align: right;\">10</td><td style = \"text-align: right;\">475.0</td><td style = \"text-align: left;\">N</td></tr><tr><td class = \"rowNumber\" style = \"font-weight: bold; text-align: right;\">3</td><td style = \"text-align: right;\">479</td><td style = \"text-align: right;\">130</td><td style = \"text-align: right;\">18</td><td style = \"text-align: right;\">66</td><td style = \"text-align: right;\">72</td><td style = \"text-align: right;\">76</td><td style = \"text-align: right;\">3</td><td style = \"text-align: right;\">1624</td><td style = \"text-align: right;\">457</td><td style = \"text-align: right;\">63</td><td style = \"text-align: right;\">224</td><td style = \"text-align: right;\">266</td><td style = \"text-align: right;\">263</td><td style = \"text-align: left;\">A</td><td style = \"text-align: left;\">W</td><td style = \"text-align: right;\">880</td><td style = \"text-align: right;\">82</td><td style = \"text-align: right;\">14</td><td style = \"text-align: right;\">480.0</td><td style = \"text-align: left;\">A</td></tr><tr><td class = \"rowNumber\" style = \"font-weight: bold; text-align: right;\">4</td><td style = \"text-align: right;\">496</td><td style = \"text-align: right;\">141</td><td style = \"text-align: right;\">20</td><td style = \"text-align: right;\">65</td><td style = \"text-align: right;\">78</td><td style = \"text-align: right;\">37</td><td style = \"text-align: right;\">11</td><td style = \"text-align: right;\">5628</td><td style = \"text-align: right;\">1575</td><td style = \"text-align: right;\">225</td><td style = \"text-align: right;\">828</td><td style = \"text-align: right;\">838</td><td style = \"text-align: right;\">354</td><td style = \"text-align: left;\">N</td><td style = \"text-align: left;\">E</td><td style = \"text-align: right;\">200</td><td style = \"text-align: right;\">11</td><td style = \"text-align: right;\">3</td><td style = \"text-align: right;\">500.0</td><td style = \"text-align: left;\">N</td></tr><tr><td class = \"rowNumber\" style = \"font-weight: bold; text-align: right;\">5</td><td style = \"text-align: right;\">321</td><td style = \"text-align: right;\">87</td><td style = \"text-align: right;\">10</td><td style = \"text-align: right;\">39</td><td style = \"text-align: right;\">42</td><td style = \"text-align: right;\">30</td><td style = \"text-align: right;\">2</td><td style = \"text-align: right;\">396</td><td style = \"text-align: right;\">101</td><td style = \"text-align: right;\">12</td><td style = \"text-align: right;\">48</td><td style = \"text-align: right;\">46</td><td style = \"text-align: right;\">33</td><td style = \"text-align: left;\">N</td><td style = \"text-align: left;\">E</td><td style = \"text-align: right;\">805</td><td style = \"text-align: right;\">40</td><td style = \"text-align: right;\">4</td><td style = \"text-align: right;\">91.5</td><td style = \"text-align: left;\">N</td></tr></tbody></table></div>"
      ],
      "text/latex": [
       "\\begin{tabular}{r|ccccccccccccc}\n",
       "\t& AtBat & Hits & HmRun & Runs & RBI & Walks & Years & CAtBat & CHits & CHmRun & CRuns & CRBI & \\\\\n",
       "\t\\hline\n",
       "\t& Int32 & Int32 & Int32 & Int32 & Int32 & Int32 & Int32 & Int32 & Int32 & Int32 & Int32 & Int32 & \\\\\n",
       "\t\\hline\n",
       "\t1 & 293 & 66 & 1 & 30 & 29 & 14 & 1 & 293 & 66 & 1 & 30 & 29 & $\\dots$ \\\\\n",
       "\t2 & 315 & 81 & 7 & 24 & 38 & 39 & 14 & 3449 & 835 & 69 & 321 & 414 & $\\dots$ \\\\\n",
       "\t3 & 479 & 130 & 18 & 66 & 72 & 76 & 3 & 1624 & 457 & 63 & 224 & 266 & $\\dots$ \\\\\n",
       "\t4 & 496 & 141 & 20 & 65 & 78 & 37 & 11 & 5628 & 1575 & 225 & 828 & 838 & $\\dots$ \\\\\n",
       "\t5 & 321 & 87 & 10 & 39 & 42 & 30 & 2 & 396 & 101 & 12 & 48 & 46 & $\\dots$ \\\\\n",
       "\\end{tabular}\n"
      ],
      "text/plain": [
       "\u001b[1m5×20 DataFrame\u001b[0m\n",
       "\u001b[1m Row \u001b[0m│\u001b[1m AtBat \u001b[0m\u001b[1m Hits  \u001b[0m\u001b[1m HmRun \u001b[0m\u001b[1m Runs  \u001b[0m\u001b[1m RBI   \u001b[0m\u001b[1m Walks \u001b[0m\u001b[1m Years \u001b[0m\u001b[1m CAtBat \u001b[0m\u001b[1m CHits \u001b[0m\u001b[1m CHmRun \u001b[0m\u001b[1m\u001b[0m ⋯\n",
       "     │\u001b[90m Int32 \u001b[0m\u001b[90m Int32 \u001b[0m\u001b[90m Int32 \u001b[0m\u001b[90m Int32 \u001b[0m\u001b[90m Int32 \u001b[0m\u001b[90m Int32 \u001b[0m\u001b[90m Int32 \u001b[0m\u001b[90m Int32  \u001b[0m\u001b[90m Int32 \u001b[0m\u001b[90m Int32  \u001b[0m\u001b[90m\u001b[0m ⋯\n",
       "─────┼──────────────────────────────────────────────────────────────────────────\n",
       "   1 │   293     66      1     30     29     14      1     293     66       1  ⋯\n",
       "   2 │   315     81      7     24     38     39     14    3449    835      69\n",
       "   3 │   479    130     18     66     72     76      3    1624    457      63\n",
       "   4 │   496    141     20     65     78     37     11    5628   1575     225\n",
       "   5 │   321     87     10     39     42     30      2     396    101      12  ⋯\n",
       "\u001b[36m                                                              10 columns omitted\u001b[0m"
      ]
     },
     "execution_count": 7,
     "metadata": {},
     "output_type": "execute_result"
    }
   ],
   "source": [
    "println(\"Generamos el dataset base:\")\n",
    "using RDatasets, DataFrames\n",
    "Hitters = dataset(\"ISLR\", \"Hitters\")\n",
    "Hitters[1:5, :]"
   ]
  },
  {
   "cell_type": "code",
   "execution_count": 10,
   "metadata": {},
   "outputs": [
    {
     "data": {
      "text/html": [
       "<div><div style = \"float: left;\"><span>322×20 DataFrame</span></div><div style = \"float: right;\"><span style = \"font-style: italic;\">297 rows omitted</span></div><div style = \"clear: both;\"></div></div><div class = \"data-frame\" style = \"overflow-x: scroll;\"><table class = \"data-frame\" style = \"margin-bottom: 6px;\"><thead><tr class = \"header\"><th class = \"rowNumber\" style = \"font-weight: bold; text-align: right;\">Row</th><th style = \"text-align: left;\">AtBat</th><th style = \"text-align: left;\">Hits</th><th style = \"text-align: left;\">HmRun</th><th style = \"text-align: left;\">Runs</th><th style = \"text-align: left;\">RBI</th><th style = \"text-align: left;\">Walks</th><th style = \"text-align: left;\">Years</th><th style = \"text-align: left;\">CAtBat</th><th style = \"text-align: left;\">CHits</th><th style = \"text-align: left;\">CHmRun</th><th style = \"text-align: left;\">CRuns</th><th style = \"text-align: left;\">CRBI</th><th style = \"text-align: left;\">CWalks</th><th style = \"text-align: left;\">League</th><th style = \"text-align: left;\">Division</th><th style = \"text-align: left;\">PutOuts</th><th style = \"text-align: left;\">Assists</th><th style = \"text-align: left;\">Errors</th><th style = \"text-align: left;\">Salary</th><th style = \"text-align: left;\">NewLeague</th></tr><tr class = \"subheader headerLastRow\"><th class = \"rowNumber\" style = \"font-weight: bold; text-align: right;\"></th><th title = \"Int32\" style = \"text-align: left;\">Int32</th><th title = \"Int32\" style = \"text-align: left;\">Int32</th><th title = \"Int32\" style = \"text-align: left;\">Int32</th><th title = \"Int32\" style = \"text-align: left;\">Int32</th><th title = \"Int32\" style = \"text-align: left;\">Int32</th><th title = \"Int32\" style = \"text-align: left;\">Int32</th><th title = \"Int32\" style = \"text-align: left;\">Int32</th><th title = \"Int32\" style = \"text-align: left;\">Int32</th><th title = \"Int32\" style = \"text-align: left;\">Int32</th><th title = \"Int32\" style = \"text-align: left;\">Int32</th><th title = \"Int32\" style = \"text-align: left;\">Int32</th><th title = \"Int32\" style = \"text-align: left;\">Int32</th><th title = \"Int32\" style = \"text-align: left;\">Int32</th><th title = \"CategoricalArrays.CategoricalValue{String, UInt8}\" style = \"text-align: left;\">Cat…</th><th title = \"CategoricalArrays.CategoricalValue{String, UInt8}\" style = \"text-align: left;\">Cat…</th><th title = \"Int32\" style = \"text-align: left;\">Int32</th><th title = \"Int32\" style = \"text-align: left;\">Int32</th><th title = \"Int32\" style = \"text-align: left;\">Int32</th><th title = \"Union{Missing, Float64}\" style = \"text-align: left;\">Float64?</th><th title = \"CategoricalArrays.CategoricalValue{String, UInt8}\" style = \"text-align: left;\">Cat…</th></tr></thead><tbody><tr><td class = \"rowNumber\" style = \"font-weight: bold; text-align: right;\">1</td><td style = \"text-align: right;\">293</td><td style = \"text-align: right;\">66</td><td style = \"text-align: right;\">1</td><td style = \"text-align: right;\">30</td><td style = \"text-align: right;\">29</td><td style = \"text-align: right;\">14</td><td style = \"text-align: right;\">1</td><td style = \"text-align: right;\">293</td><td style = \"text-align: right;\">66</td><td style = \"text-align: right;\">1</td><td style = \"text-align: right;\">30</td><td style = \"text-align: right;\">29</td><td style = \"text-align: right;\">14</td><td style = \"text-align: left;\">A</td><td style = \"text-align: left;\">E</td><td style = \"text-align: right;\">446</td><td style = \"text-align: right;\">33</td><td style = \"text-align: right;\">20</td><td style = \"font-style: italic; text-align: right;\">missing</td><td style = \"text-align: left;\">A</td></tr><tr><td class = \"rowNumber\" style = \"font-weight: bold; text-align: right;\">2</td><td style = \"text-align: right;\">315</td><td style = \"text-align: right;\">81</td><td style = \"text-align: right;\">7</td><td style = \"text-align: right;\">24</td><td style = \"text-align: right;\">38</td><td style = \"text-align: right;\">39</td><td style = \"text-align: right;\">14</td><td style = \"text-align: right;\">3449</td><td style = \"text-align: right;\">835</td><td style = \"text-align: right;\">69</td><td style = \"text-align: right;\">321</td><td style = \"text-align: right;\">414</td><td style = \"text-align: right;\">375</td><td style = \"text-align: left;\">N</td><td style = \"text-align: left;\">W</td><td style = \"text-align: right;\">632</td><td style = \"text-align: right;\">43</td><td style = \"text-align: right;\">10</td><td style = \"text-align: right;\">475.0</td><td style = \"text-align: left;\">N</td></tr><tr><td class = \"rowNumber\" style = \"font-weight: bold; text-align: right;\">3</td><td style = \"text-align: right;\">479</td><td style = \"text-align: right;\">130</td><td style = \"text-align: right;\">18</td><td style = \"text-align: right;\">66</td><td style = \"text-align: right;\">72</td><td style = \"text-align: right;\">76</td><td style = \"text-align: right;\">3</td><td style = \"text-align: right;\">1624</td><td style = \"text-align: right;\">457</td><td style = \"text-align: right;\">63</td><td style = \"text-align: right;\">224</td><td style = \"text-align: right;\">266</td><td style = \"text-align: right;\">263</td><td style = \"text-align: left;\">A</td><td style = \"text-align: left;\">W</td><td style = \"text-align: right;\">880</td><td style = \"text-align: right;\">82</td><td style = \"text-align: right;\">14</td><td style = \"text-align: right;\">480.0</td><td style = \"text-align: left;\">A</td></tr><tr><td class = \"rowNumber\" style = \"font-weight: bold; text-align: right;\">4</td><td style = \"text-align: right;\">496</td><td style = \"text-align: right;\">141</td><td style = \"text-align: right;\">20</td><td style = \"text-align: right;\">65</td><td style = \"text-align: right;\">78</td><td style = \"text-align: right;\">37</td><td style = \"text-align: right;\">11</td><td style = \"text-align: right;\">5628</td><td style = \"text-align: right;\">1575</td><td style = \"text-align: right;\">225</td><td style = \"text-align: right;\">828</td><td style = \"text-align: right;\">838</td><td style = \"text-align: right;\">354</td><td style = \"text-align: left;\">N</td><td style = \"text-align: left;\">E</td><td style = \"text-align: right;\">200</td><td style = \"text-align: right;\">11</td><td style = \"text-align: right;\">3</td><td style = \"text-align: right;\">500.0</td><td style = \"text-align: left;\">N</td></tr><tr><td class = \"rowNumber\" style = \"font-weight: bold; text-align: right;\">5</td><td style = \"text-align: right;\">321</td><td style = \"text-align: right;\">87</td><td style = \"text-align: right;\">10</td><td style = \"text-align: right;\">39</td><td style = \"text-align: right;\">42</td><td style = \"text-align: right;\">30</td><td style = \"text-align: right;\">2</td><td style = \"text-align: right;\">396</td><td style = \"text-align: right;\">101</td><td style = \"text-align: right;\">12</td><td style = \"text-align: right;\">48</td><td style = \"text-align: right;\">46</td><td style = \"text-align: right;\">33</td><td style = \"text-align: left;\">N</td><td style = \"text-align: left;\">E</td><td style = \"text-align: right;\">805</td><td style = \"text-align: right;\">40</td><td style = \"text-align: right;\">4</td><td style = \"text-align: right;\">91.5</td><td style = \"text-align: left;\">N</td></tr><tr><td class = \"rowNumber\" style = \"font-weight: bold; text-align: right;\">6</td><td style = \"text-align: right;\">594</td><td style = \"text-align: right;\">169</td><td style = \"text-align: right;\">4</td><td style = \"text-align: right;\">74</td><td style = \"text-align: right;\">51</td><td style = \"text-align: right;\">35</td><td style = \"text-align: right;\">11</td><td style = \"text-align: right;\">4408</td><td style = \"text-align: right;\">1133</td><td style = \"text-align: right;\">19</td><td style = \"text-align: right;\">501</td><td style = \"text-align: right;\">336</td><td style = \"text-align: right;\">194</td><td style = \"text-align: left;\">A</td><td style = \"text-align: left;\">W</td><td style = \"text-align: right;\">282</td><td style = \"text-align: right;\">421</td><td style = \"text-align: right;\">25</td><td style = \"text-align: right;\">750.0</td><td style = \"text-align: left;\">A</td></tr><tr><td class = \"rowNumber\" style = \"font-weight: bold; text-align: right;\">7</td><td style = \"text-align: right;\">185</td><td style = \"text-align: right;\">37</td><td style = \"text-align: right;\">1</td><td style = \"text-align: right;\">23</td><td style = \"text-align: right;\">8</td><td style = \"text-align: right;\">21</td><td style = \"text-align: right;\">2</td><td style = \"text-align: right;\">214</td><td style = \"text-align: right;\">42</td><td style = \"text-align: right;\">1</td><td style = \"text-align: right;\">30</td><td style = \"text-align: right;\">9</td><td style = \"text-align: right;\">24</td><td style = \"text-align: left;\">N</td><td style = \"text-align: left;\">E</td><td style = \"text-align: right;\">76</td><td style = \"text-align: right;\">127</td><td style = \"text-align: right;\">7</td><td style = \"text-align: right;\">70.0</td><td style = \"text-align: left;\">A</td></tr><tr><td class = \"rowNumber\" style = \"font-weight: bold; text-align: right;\">8</td><td style = \"text-align: right;\">298</td><td style = \"text-align: right;\">73</td><td style = \"text-align: right;\">0</td><td style = \"text-align: right;\">24</td><td style = \"text-align: right;\">24</td><td style = \"text-align: right;\">7</td><td style = \"text-align: right;\">3</td><td style = \"text-align: right;\">509</td><td style = \"text-align: right;\">108</td><td style = \"text-align: right;\">0</td><td style = \"text-align: right;\">41</td><td style = \"text-align: right;\">37</td><td style = \"text-align: right;\">12</td><td style = \"text-align: left;\">A</td><td style = \"text-align: left;\">W</td><td style = \"text-align: right;\">121</td><td style = \"text-align: right;\">283</td><td style = \"text-align: right;\">9</td><td style = \"text-align: right;\">100.0</td><td style = \"text-align: left;\">A</td></tr><tr><td class = \"rowNumber\" style = \"font-weight: bold; text-align: right;\">9</td><td style = \"text-align: right;\">323</td><td style = \"text-align: right;\">81</td><td style = \"text-align: right;\">6</td><td style = \"text-align: right;\">26</td><td style = \"text-align: right;\">32</td><td style = \"text-align: right;\">8</td><td style = \"text-align: right;\">2</td><td style = \"text-align: right;\">341</td><td style = \"text-align: right;\">86</td><td style = \"text-align: right;\">6</td><td style = \"text-align: right;\">32</td><td style = \"text-align: right;\">34</td><td style = \"text-align: right;\">8</td><td style = \"text-align: left;\">N</td><td style = \"text-align: left;\">W</td><td style = \"text-align: right;\">143</td><td style = \"text-align: right;\">290</td><td style = \"text-align: right;\">19</td><td style = \"text-align: right;\">75.0</td><td style = \"text-align: left;\">N</td></tr><tr><td class = \"rowNumber\" style = \"font-weight: bold; text-align: right;\">10</td><td style = \"text-align: right;\">401</td><td style = \"text-align: right;\">92</td><td style = \"text-align: right;\">17</td><td style = \"text-align: right;\">49</td><td style = \"text-align: right;\">66</td><td style = \"text-align: right;\">65</td><td style = \"text-align: right;\">13</td><td style = \"text-align: right;\">5206</td><td style = \"text-align: right;\">1332</td><td style = \"text-align: right;\">253</td><td style = \"text-align: right;\">784</td><td style = \"text-align: right;\">890</td><td style = \"text-align: right;\">866</td><td style = \"text-align: left;\">A</td><td style = \"text-align: left;\">E</td><td style = \"text-align: right;\">0</td><td style = \"text-align: right;\">0</td><td style = \"text-align: right;\">0</td><td style = \"text-align: right;\">1100.0</td><td style = \"text-align: left;\">A</td></tr><tr><td class = \"rowNumber\" style = \"font-weight: bold; text-align: right;\">11</td><td style = \"text-align: right;\">574</td><td style = \"text-align: right;\">159</td><td style = \"text-align: right;\">21</td><td style = \"text-align: right;\">107</td><td style = \"text-align: right;\">75</td><td style = \"text-align: right;\">59</td><td style = \"text-align: right;\">10</td><td style = \"text-align: right;\">4631</td><td style = \"text-align: right;\">1300</td><td style = \"text-align: right;\">90</td><td style = \"text-align: right;\">702</td><td style = \"text-align: right;\">504</td><td style = \"text-align: right;\">488</td><td style = \"text-align: left;\">A</td><td style = \"text-align: left;\">E</td><td style = \"text-align: right;\">238</td><td style = \"text-align: right;\">445</td><td style = \"text-align: right;\">22</td><td style = \"text-align: right;\">517.143</td><td style = \"text-align: left;\">A</td></tr><tr><td class = \"rowNumber\" style = \"font-weight: bold; text-align: right;\">12</td><td style = \"text-align: right;\">202</td><td style = \"text-align: right;\">53</td><td style = \"text-align: right;\">4</td><td style = \"text-align: right;\">31</td><td style = \"text-align: right;\">26</td><td style = \"text-align: right;\">27</td><td style = \"text-align: right;\">9</td><td style = \"text-align: right;\">1876</td><td style = \"text-align: right;\">467</td><td style = \"text-align: right;\">15</td><td style = \"text-align: right;\">192</td><td style = \"text-align: right;\">186</td><td style = \"text-align: right;\">161</td><td style = \"text-align: left;\">N</td><td style = \"text-align: left;\">W</td><td style = \"text-align: right;\">304</td><td style = \"text-align: right;\">45</td><td style = \"text-align: right;\">11</td><td style = \"text-align: right;\">512.5</td><td style = \"text-align: left;\">N</td></tr><tr><td class = \"rowNumber\" style = \"font-weight: bold; text-align: right;\">13</td><td style = \"text-align: right;\">418</td><td style = \"text-align: right;\">113</td><td style = \"text-align: right;\">13</td><td style = \"text-align: right;\">48</td><td style = \"text-align: right;\">61</td><td style = \"text-align: right;\">47</td><td style = \"text-align: right;\">4</td><td style = \"text-align: right;\">1512</td><td style = \"text-align: right;\">392</td><td style = \"text-align: right;\">41</td><td style = \"text-align: right;\">205</td><td style = \"text-align: right;\">204</td><td style = \"text-align: right;\">203</td><td style = \"text-align: left;\">N</td><td style = \"text-align: left;\">E</td><td style = \"text-align: right;\">211</td><td style = \"text-align: right;\">11</td><td style = \"text-align: right;\">7</td><td style = \"text-align: right;\">550.0</td><td style = \"text-align: left;\">N</td></tr><tr><td style = \"text-align: right;\">&vellip;</td><td style = \"text-align: right;\">&vellip;</td><td style = \"text-align: right;\">&vellip;</td><td style = \"text-align: right;\">&vellip;</td><td style = \"text-align: right;\">&vellip;</td><td style = \"text-align: right;\">&vellip;</td><td style = \"text-align: right;\">&vellip;</td><td style = \"text-align: right;\">&vellip;</td><td style = \"text-align: right;\">&vellip;</td><td style = \"text-align: right;\">&vellip;</td><td style = \"text-align: right;\">&vellip;</td><td style = \"text-align: right;\">&vellip;</td><td style = \"text-align: right;\">&vellip;</td><td style = \"text-align: right;\">&vellip;</td><td style = \"text-align: right;\">&vellip;</td><td style = \"text-align: right;\">&vellip;</td><td style = \"text-align: right;\">&vellip;</td><td style = \"text-align: right;\">&vellip;</td><td style = \"text-align: right;\">&vellip;</td><td style = \"text-align: right;\">&vellip;</td><td style = \"text-align: right;\">&vellip;</td></tr><tr><td class = \"rowNumber\" style = \"font-weight: bold; text-align: right;\">311</td><td style = \"text-align: right;\">610</td><td style = \"text-align: right;\">186</td><td style = \"text-align: right;\">19</td><td style = \"text-align: right;\">107</td><td style = \"text-align: right;\">98</td><td style = \"text-align: right;\">74</td><td style = \"text-align: right;\">6</td><td style = \"text-align: right;\">2728</td><td style = \"text-align: right;\">753</td><td style = \"text-align: right;\">69</td><td style = \"text-align: right;\">399</td><td style = \"text-align: right;\">366</td><td style = \"text-align: right;\">286</td><td style = \"text-align: left;\">N</td><td style = \"text-align: left;\">E</td><td style = \"text-align: right;\">1182</td><td style = \"text-align: right;\">96</td><td style = \"text-align: right;\">13</td><td style = \"text-align: right;\">1300.0</td><td style = \"text-align: left;\">N</td></tr><tr><td class = \"rowNumber\" style = \"font-weight: bold; text-align: right;\">312</td><td style = \"text-align: right;\">360</td><td style = \"text-align: right;\">81</td><td style = \"text-align: right;\">5</td><td style = \"text-align: right;\">37</td><td style = \"text-align: right;\">44</td><td style = \"text-align: right;\">37</td><td style = \"text-align: right;\">7</td><td style = \"text-align: right;\">2268</td><td style = \"text-align: right;\">566</td><td style = \"text-align: right;\">41</td><td style = \"text-align: right;\">279</td><td style = \"text-align: right;\">257</td><td style = \"text-align: right;\">246</td><td style = \"text-align: left;\">N</td><td style = \"text-align: left;\">E</td><td style = \"text-align: right;\">170</td><td style = \"text-align: right;\">284</td><td style = \"text-align: right;\">3</td><td style = \"text-align: right;\">525.0</td><td style = \"text-align: left;\">N</td></tr><tr><td class = \"rowNumber\" style = \"font-weight: bold; text-align: right;\">313</td><td style = \"text-align: right;\">387</td><td style = \"text-align: right;\">124</td><td style = \"text-align: right;\">1</td><td style = \"text-align: right;\">67</td><td style = \"text-align: right;\">27</td><td style = \"text-align: right;\">36</td><td style = \"text-align: right;\">7</td><td style = \"text-align: right;\">1775</td><td style = \"text-align: right;\">506</td><td style = \"text-align: right;\">6</td><td style = \"text-align: right;\">272</td><td style = \"text-align: right;\">125</td><td style = \"text-align: right;\">194</td><td style = \"text-align: left;\">N</td><td style = \"text-align: left;\">E</td><td style = \"text-align: right;\">186</td><td style = \"text-align: right;\">290</td><td style = \"text-align: right;\">17</td><td style = \"text-align: right;\">550.0</td><td style = \"text-align: left;\">N</td></tr><tr><td class = \"rowNumber\" style = \"font-weight: bold; text-align: right;\">314</td><td style = \"text-align: right;\">580</td><td style = \"text-align: right;\">207</td><td style = \"text-align: right;\">8</td><td style = \"text-align: right;\">107</td><td style = \"text-align: right;\">71</td><td style = \"text-align: right;\">105</td><td style = \"text-align: right;\">5</td><td style = \"text-align: right;\">2778</td><td style = \"text-align: right;\">978</td><td style = \"text-align: right;\">32</td><td style = \"text-align: right;\">474</td><td style = \"text-align: right;\">322</td><td style = \"text-align: right;\">417</td><td style = \"text-align: left;\">A</td><td style = \"text-align: left;\">E</td><td style = \"text-align: right;\">121</td><td style = \"text-align: right;\">267</td><td style = \"text-align: right;\">19</td><td style = \"text-align: right;\">1600.0</td><td style = \"text-align: left;\">A</td></tr><tr><td class = \"rowNumber\" style = \"font-weight: bold; text-align: right;\">315</td><td style = \"text-align: right;\">408</td><td style = \"text-align: right;\">117</td><td style = \"text-align: right;\">11</td><td style = \"text-align: right;\">66</td><td style = \"text-align: right;\">41</td><td style = \"text-align: right;\">34</td><td style = \"text-align: right;\">1</td><td style = \"text-align: right;\">408</td><td style = \"text-align: right;\">117</td><td style = \"text-align: right;\">11</td><td style = \"text-align: right;\">66</td><td style = \"text-align: right;\">41</td><td style = \"text-align: right;\">34</td><td style = \"text-align: left;\">N</td><td style = \"text-align: left;\">W</td><td style = \"text-align: right;\">942</td><td style = \"text-align: right;\">72</td><td style = \"text-align: right;\">11</td><td style = \"text-align: right;\">120.0</td><td style = \"text-align: left;\">N</td></tr><tr><td class = \"rowNumber\" style = \"font-weight: bold; text-align: right;\">316</td><td style = \"text-align: right;\">593</td><td style = \"text-align: right;\">172</td><td style = \"text-align: right;\">22</td><td style = \"text-align: right;\">82</td><td style = \"text-align: right;\">100</td><td style = \"text-align: right;\">57</td><td style = \"text-align: right;\">1</td><td style = \"text-align: right;\">593</td><td style = \"text-align: right;\">172</td><td style = \"text-align: right;\">22</td><td style = \"text-align: right;\">82</td><td style = \"text-align: right;\">100</td><td style = \"text-align: right;\">57</td><td style = \"text-align: left;\">A</td><td style = \"text-align: left;\">W</td><td style = \"text-align: right;\">1222</td><td style = \"text-align: right;\">139</td><td style = \"text-align: right;\">15</td><td style = \"text-align: right;\">165.0</td><td style = \"text-align: left;\">A</td></tr><tr><td class = \"rowNumber\" style = \"font-weight: bold; text-align: right;\">317</td><td style = \"text-align: right;\">221</td><td style = \"text-align: right;\">53</td><td style = \"text-align: right;\">2</td><td style = \"text-align: right;\">21</td><td style = \"text-align: right;\">23</td><td style = \"text-align: right;\">22</td><td style = \"text-align: right;\">8</td><td style = \"text-align: right;\">1063</td><td style = \"text-align: right;\">283</td><td style = \"text-align: right;\">15</td><td style = \"text-align: right;\">107</td><td style = \"text-align: right;\">124</td><td style = \"text-align: right;\">106</td><td style = \"text-align: left;\">N</td><td style = \"text-align: left;\">E</td><td style = \"text-align: right;\">325</td><td style = \"text-align: right;\">58</td><td style = \"text-align: right;\">6</td><td style = \"font-style: italic; text-align: right;\">missing</td><td style = \"text-align: left;\">N</td></tr><tr><td class = \"rowNumber\" style = \"font-weight: bold; text-align: right;\">318</td><td style = \"text-align: right;\">497</td><td style = \"text-align: right;\">127</td><td style = \"text-align: right;\">7</td><td style = \"text-align: right;\">65</td><td style = \"text-align: right;\">48</td><td style = \"text-align: right;\">37</td><td style = \"text-align: right;\">5</td><td style = \"text-align: right;\">2703</td><td style = \"text-align: right;\">806</td><td style = \"text-align: right;\">32</td><td style = \"text-align: right;\">379</td><td style = \"text-align: right;\">311</td><td style = \"text-align: right;\">138</td><td style = \"text-align: left;\">N</td><td style = \"text-align: left;\">E</td><td style = \"text-align: right;\">325</td><td style = \"text-align: right;\">9</td><td style = \"text-align: right;\">3</td><td style = \"text-align: right;\">700.0</td><td style = \"text-align: left;\">N</td></tr><tr><td class = \"rowNumber\" style = \"font-weight: bold; text-align: right;\">319</td><td style = \"text-align: right;\">492</td><td style = \"text-align: right;\">136</td><td style = \"text-align: right;\">5</td><td style = \"text-align: right;\">76</td><td style = \"text-align: right;\">50</td><td style = \"text-align: right;\">94</td><td style = \"text-align: right;\">12</td><td style = \"text-align: right;\">5511</td><td style = \"text-align: right;\">1511</td><td style = \"text-align: right;\">39</td><td style = \"text-align: right;\">897</td><td style = \"text-align: right;\">451</td><td style = \"text-align: right;\">875</td><td style = \"text-align: left;\">A</td><td style = \"text-align: left;\">E</td><td style = \"text-align: right;\">313</td><td style = \"text-align: right;\">381</td><td style = \"text-align: right;\">20</td><td style = \"text-align: right;\">875.0</td><td style = \"text-align: left;\">A</td></tr><tr><td class = \"rowNumber\" style = \"font-weight: bold; text-align: right;\">320</td><td style = \"text-align: right;\">475</td><td style = \"text-align: right;\">126</td><td style = \"text-align: right;\">3</td><td style = \"text-align: right;\">61</td><td style = \"text-align: right;\">43</td><td style = \"text-align: right;\">52</td><td style = \"text-align: right;\">6</td><td style = \"text-align: right;\">1700</td><td style = \"text-align: right;\">433</td><td style = \"text-align: right;\">7</td><td style = \"text-align: right;\">217</td><td style = \"text-align: right;\">93</td><td style = \"text-align: right;\">146</td><td style = \"text-align: left;\">A</td><td style = \"text-align: left;\">W</td><td style = \"text-align: right;\">37</td><td style = \"text-align: right;\">113</td><td style = \"text-align: right;\">7</td><td style = \"text-align: right;\">385.0</td><td style = \"text-align: left;\">A</td></tr><tr><td class = \"rowNumber\" style = \"font-weight: bold; text-align: right;\">321</td><td style = \"text-align: right;\">573</td><td style = \"text-align: right;\">144</td><td style = \"text-align: right;\">9</td><td style = \"text-align: right;\">85</td><td style = \"text-align: right;\">60</td><td style = \"text-align: right;\">78</td><td style = \"text-align: right;\">8</td><td style = \"text-align: right;\">3198</td><td style = \"text-align: right;\">857</td><td style = \"text-align: right;\">97</td><td style = \"text-align: right;\">470</td><td style = \"text-align: right;\">420</td><td style = \"text-align: right;\">332</td><td style = \"text-align: left;\">A</td><td style = \"text-align: left;\">E</td><td style = \"text-align: right;\">1314</td><td style = \"text-align: right;\">131</td><td style = \"text-align: right;\">12</td><td style = \"text-align: right;\">960.0</td><td style = \"text-align: left;\">A</td></tr><tr><td class = \"rowNumber\" style = \"font-weight: bold; text-align: right;\">322</td><td style = \"text-align: right;\">631</td><td style = \"text-align: right;\">170</td><td style = \"text-align: right;\">9</td><td style = \"text-align: right;\">77</td><td style = \"text-align: right;\">44</td><td style = \"text-align: right;\">31</td><td style = \"text-align: right;\">11</td><td style = \"text-align: right;\">4908</td><td style = \"text-align: right;\">1457</td><td style = \"text-align: right;\">30</td><td style = \"text-align: right;\">775</td><td style = \"text-align: right;\">357</td><td style = \"text-align: right;\">249</td><td style = \"text-align: left;\">A</td><td style = \"text-align: left;\">W</td><td style = \"text-align: right;\">408</td><td style = \"text-align: right;\">4</td><td style = \"text-align: right;\">3</td><td style = \"text-align: right;\">1000.0</td><td style = \"text-align: left;\">A</td></tr></tbody></table></div>"
      ],
      "text/latex": [
       "\\begin{tabular}{r|ccccccccccccc}\n",
       "\t& AtBat & Hits & HmRun & Runs & RBI & Walks & Years & CAtBat & CHits & CHmRun & CRuns & CRBI & \\\\\n",
       "\t\\hline\n",
       "\t& Int32 & Int32 & Int32 & Int32 & Int32 & Int32 & Int32 & Int32 & Int32 & Int32 & Int32 & Int32 & \\\\\n",
       "\t\\hline\n",
       "\t1 & 293 & 66 & 1 & 30 & 29 & 14 & 1 & 293 & 66 & 1 & 30 & 29 & $\\dots$ \\\\\n",
       "\t2 & 315 & 81 & 7 & 24 & 38 & 39 & 14 & 3449 & 835 & 69 & 321 & 414 & $\\dots$ \\\\\n",
       "\t3 & 479 & 130 & 18 & 66 & 72 & 76 & 3 & 1624 & 457 & 63 & 224 & 266 & $\\dots$ \\\\\n",
       "\t4 & 496 & 141 & 20 & 65 & 78 & 37 & 11 & 5628 & 1575 & 225 & 828 & 838 & $\\dots$ \\\\\n",
       "\t5 & 321 & 87 & 10 & 39 & 42 & 30 & 2 & 396 & 101 & 12 & 48 & 46 & $\\dots$ \\\\\n",
       "\t6 & 594 & 169 & 4 & 74 & 51 & 35 & 11 & 4408 & 1133 & 19 & 501 & 336 & $\\dots$ \\\\\n",
       "\t7 & 185 & 37 & 1 & 23 & 8 & 21 & 2 & 214 & 42 & 1 & 30 & 9 & $\\dots$ \\\\\n",
       "\t8 & 298 & 73 & 0 & 24 & 24 & 7 & 3 & 509 & 108 & 0 & 41 & 37 & $\\dots$ \\\\\n",
       "\t9 & 323 & 81 & 6 & 26 & 32 & 8 & 2 & 341 & 86 & 6 & 32 & 34 & $\\dots$ \\\\\n",
       "\t10 & 401 & 92 & 17 & 49 & 66 & 65 & 13 & 5206 & 1332 & 253 & 784 & 890 & $\\dots$ \\\\\n",
       "\t11 & 574 & 159 & 21 & 107 & 75 & 59 & 10 & 4631 & 1300 & 90 & 702 & 504 & $\\dots$ \\\\\n",
       "\t12 & 202 & 53 & 4 & 31 & 26 & 27 & 9 & 1876 & 467 & 15 & 192 & 186 & $\\dots$ \\\\\n",
       "\t13 & 418 & 113 & 13 & 48 & 61 & 47 & 4 & 1512 & 392 & 41 & 205 & 204 & $\\dots$ \\\\\n",
       "\t14 & 239 & 60 & 0 & 30 & 11 & 22 & 6 & 1941 & 510 & 4 & 309 & 103 & $\\dots$ \\\\\n",
       "\t15 & 196 & 43 & 7 & 29 & 27 & 30 & 13 & 3231 & 825 & 36 & 376 & 290 & $\\dots$ \\\\\n",
       "\t16 & 183 & 39 & 3 & 20 & 15 & 11 & 3 & 201 & 42 & 3 & 20 & 16 & $\\dots$ \\\\\n",
       "\t17 & 568 & 158 & 20 & 89 & 75 & 73 & 15 & 8068 & 2273 & 177 & 1045 & 993 & $\\dots$ \\\\\n",
       "\t18 & 190 & 46 & 2 & 24 & 8 & 15 & 5 & 479 & 102 & 5 & 65 & 23 & $\\dots$ \\\\\n",
       "\t19 & 407 & 104 & 6 & 57 & 43 & 65 & 12 & 5233 & 1478 & 100 & 643 & 658 & $\\dots$ \\\\\n",
       "\t20 & 127 & 32 & 8 & 16 & 22 & 14 & 8 & 727 & 180 & 24 & 67 & 82 & $\\dots$ \\\\\n",
       "\t21 & 413 & 92 & 16 & 72 & 48 & 65 & 1 & 413 & 92 & 16 & 72 & 48 & $\\dots$ \\\\\n",
       "\t22 & 426 & 109 & 3 & 55 & 43 & 62 & 1 & 426 & 109 & 3 & 55 & 43 & $\\dots$ \\\\\n",
       "\t23 & 22 & 10 & 1 & 4 & 2 & 1 & 6 & 84 & 26 & 2 & 9 & 9 & $\\dots$ \\\\\n",
       "\t24 & 472 & 116 & 16 & 60 & 62 & 74 & 6 & 1924 & 489 & 67 & 242 & 251 & $\\dots$ \\\\\n",
       "\t25 & 629 & 168 & 18 & 73 & 102 & 40 & 18 & 8424 & 2464 & 164 & 1008 & 1072 & $\\dots$ \\\\\n",
       "\t26 & 587 & 163 & 4 & 92 & 51 & 70 & 6 & 2695 & 747 & 17 & 442 & 198 & $\\dots$ \\\\\n",
       "\t27 & 324 & 73 & 4 & 32 & 18 & 22 & 7 & 1931 & 491 & 13 & 291 & 108 & $\\dots$ \\\\\n",
       "\t28 & 474 & 129 & 10 & 50 & 56 & 40 & 10 & 2331 & 604 & 61 & 246 & 327 & $\\dots$ \\\\\n",
       "\t29 & 550 & 152 & 6 & 92 & 37 & 81 & 5 & 2308 & 633 & 32 & 349 & 182 & $\\dots$ \\\\\n",
       "\t30 & 513 & 137 & 20 & 90 & 95 & 90 & 14 & 5201 & 1382 & 166 & 763 & 734 & $\\dots$ \\\\\n",
       "\t$\\dots$ & $\\dots$ & $\\dots$ & $\\dots$ & $\\dots$ & $\\dots$ & $\\dots$ & $\\dots$ & $\\dots$ & $\\dots$ & $\\dots$ & $\\dots$ & $\\dots$ &  \\\\\n",
       "\\end{tabular}\n"
      ],
      "text/plain": [
       "\u001b[1m322×20 DataFrame\u001b[0m\n",
       "\u001b[1m Row \u001b[0m│\u001b[1m AtBat \u001b[0m\u001b[1m Hits  \u001b[0m\u001b[1m HmRun \u001b[0m\u001b[1m Runs  \u001b[0m\u001b[1m RBI   \u001b[0m\u001b[1m Walks \u001b[0m\u001b[1m Years \u001b[0m\u001b[1m CAtBat \u001b[0m\u001b[1m CHits \u001b[0m\u001b[1m CHmRun \u001b[0m\u001b[1m\u001b[0m ⋯\n",
       "     │\u001b[90m Int32 \u001b[0m\u001b[90m Int32 \u001b[0m\u001b[90m Int32 \u001b[0m\u001b[90m Int32 \u001b[0m\u001b[90m Int32 \u001b[0m\u001b[90m Int32 \u001b[0m\u001b[90m Int32 \u001b[0m\u001b[90m Int32  \u001b[0m\u001b[90m Int32 \u001b[0m\u001b[90m Int32  \u001b[0m\u001b[90m\u001b[0m ⋯\n",
       "─────┼──────────────────────────────────────────────────────────────────────────\n",
       "   1 │   293     66      1     30     29     14      1     293     66       1  ⋯\n",
       "   2 │   315     81      7     24     38     39     14    3449    835      69\n",
       "   3 │   479    130     18     66     72     76      3    1624    457      63\n",
       "   4 │   496    141     20     65     78     37     11    5628   1575     225\n",
       "   5 │   321     87     10     39     42     30      2     396    101      12  ⋯\n",
       "   6 │   594    169      4     74     51     35     11    4408   1133      19\n",
       "   7 │   185     37      1     23      8     21      2     214     42       1\n",
       "   8 │   298     73      0     24     24      7      3     509    108       0\n",
       "   9 │   323     81      6     26     32      8      2     341     86       6  ⋯\n",
       "  10 │   401     92     17     49     66     65     13    5206   1332     253\n",
       "  11 │   574    159     21    107     75     59     10    4631   1300      90\n",
       "  ⋮  │   ⋮      ⋮      ⋮      ⋮      ⋮      ⋮      ⋮      ⋮       ⋮      ⋮     ⋱\n",
       " 313 │   387    124      1     67     27     36      7    1775    506       6\n",
       " 314 │   580    207      8    107     71    105      5    2778    978      32  ⋯\n",
       " 315 │   408    117     11     66     41     34      1     408    117      11\n",
       " 316 │   593    172     22     82    100     57      1     593    172      22\n",
       " 317 │   221     53      2     21     23     22      8    1063    283      15\n",
       " 318 │   497    127      7     65     48     37      5    2703    806      32  ⋯\n",
       " 319 │   492    136      5     76     50     94     12    5511   1511      39\n",
       " 320 │   475    126      3     61     43     52      6    1700    433       7\n",
       " 321 │   573    144      9     85     60     78      8    3198    857      97\n",
       " 322 │   631    170      9     77     44     31     11    4908   1457      30  ⋯\n",
       "\u001b[36m                                                 10 columns and 301 rows omitted\u001b[0m"
      ]
     },
     "execution_count": 10,
     "metadata": {},
     "output_type": "execute_result"
    }
   ],
   "source": [
    "Hitters"
   ]
  },
  {
   "cell_type": "code",
   "execution_count": 11,
   "metadata": {},
   "outputs": [
    {
     "name": "stdout",
     "output_type": "stream",
     "text": [
      "Identificamos los valores faltantes:\n"
     ]
    },
    {
     "data": {
      "text/html": [
       "<div><div style = \"float: left;\"><span>20×2 DataFrame</span></div><div style = \"clear: both;\"></div></div><div class = \"data-frame\" style = \"overflow-x: scroll;\"><table class = \"data-frame\" style = \"margin-bottom: 6px;\"><thead><tr class = \"header\"><th class = \"rowNumber\" style = \"font-weight: bold; text-align: right;\">Row</th><th style = \"text-align: left;\">variable</th><th style = \"text-align: left;\">nmissing</th></tr><tr class = \"subheader headerLastRow\"><th class = \"rowNumber\" style = \"font-weight: bold; text-align: right;\"></th><th title = \"Symbol\" style = \"text-align: left;\">Symbol</th><th title = \"Int64\" style = \"text-align: left;\">Int64</th></tr></thead><tbody><tr><td class = \"rowNumber\" style = \"font-weight: bold; text-align: right;\">1</td><td style = \"text-align: left;\">AtBat</td><td style = \"text-align: right;\">0</td></tr><tr><td class = \"rowNumber\" style = \"font-weight: bold; text-align: right;\">2</td><td style = \"text-align: left;\">Hits</td><td style = \"text-align: right;\">0</td></tr><tr><td class = \"rowNumber\" style = \"font-weight: bold; text-align: right;\">3</td><td style = \"text-align: left;\">HmRun</td><td style = \"text-align: right;\">0</td></tr><tr><td class = \"rowNumber\" style = \"font-weight: bold; text-align: right;\">4</td><td style = \"text-align: left;\">Runs</td><td style = \"text-align: right;\">0</td></tr><tr><td class = \"rowNumber\" style = \"font-weight: bold; text-align: right;\">5</td><td style = \"text-align: left;\">RBI</td><td style = \"text-align: right;\">0</td></tr><tr><td class = \"rowNumber\" style = \"font-weight: bold; text-align: right;\">6</td><td style = \"text-align: left;\">Walks</td><td style = \"text-align: right;\">0</td></tr><tr><td class = \"rowNumber\" style = \"font-weight: bold; text-align: right;\">7</td><td style = \"text-align: left;\">Years</td><td style = \"text-align: right;\">0</td></tr><tr><td class = \"rowNumber\" style = \"font-weight: bold; text-align: right;\">8</td><td style = \"text-align: left;\">CAtBat</td><td style = \"text-align: right;\">0</td></tr><tr><td class = \"rowNumber\" style = \"font-weight: bold; text-align: right;\">9</td><td style = \"text-align: left;\">CHits</td><td style = \"text-align: right;\">0</td></tr><tr><td class = \"rowNumber\" style = \"font-weight: bold; text-align: right;\">10</td><td style = \"text-align: left;\">CHmRun</td><td style = \"text-align: right;\">0</td></tr><tr><td class = \"rowNumber\" style = \"font-weight: bold; text-align: right;\">11</td><td style = \"text-align: left;\">CRuns</td><td style = \"text-align: right;\">0</td></tr><tr><td class = \"rowNumber\" style = \"font-weight: bold; text-align: right;\">12</td><td style = \"text-align: left;\">CRBI</td><td style = \"text-align: right;\">0</td></tr><tr><td class = \"rowNumber\" style = \"font-weight: bold; text-align: right;\">13</td><td style = \"text-align: left;\">CWalks</td><td style = \"text-align: right;\">0</td></tr><tr><td class = \"rowNumber\" style = \"font-weight: bold; text-align: right;\">14</td><td style = \"text-align: left;\">League</td><td style = \"text-align: right;\">0</td></tr><tr><td class = \"rowNumber\" style = \"font-weight: bold; text-align: right;\">15</td><td style = \"text-align: left;\">Division</td><td style = \"text-align: right;\">0</td></tr><tr><td class = \"rowNumber\" style = \"font-weight: bold; text-align: right;\">16</td><td style = \"text-align: left;\">PutOuts</td><td style = \"text-align: right;\">0</td></tr><tr><td class = \"rowNumber\" style = \"font-weight: bold; text-align: right;\">17</td><td style = \"text-align: left;\">Assists</td><td style = \"text-align: right;\">0</td></tr><tr><td class = \"rowNumber\" style = \"font-weight: bold; text-align: right;\">18</td><td style = \"text-align: left;\">Errors</td><td style = \"text-align: right;\">0</td></tr><tr><td class = \"rowNumber\" style = \"font-weight: bold; text-align: right;\">19</td><td style = \"text-align: left;\">Salary</td><td style = \"text-align: right;\">59</td></tr><tr><td class = \"rowNumber\" style = \"font-weight: bold; text-align: right;\">20</td><td style = \"text-align: left;\">NewLeague</td><td style = \"text-align: right;\">0</td></tr></tbody></table></div>"
      ],
      "text/latex": [
       "\\begin{tabular}{r|cc}\n",
       "\t& variable & nmissing\\\\\n",
       "\t\\hline\n",
       "\t& Symbol & Int64\\\\\n",
       "\t\\hline\n",
       "\t1 & AtBat & 0 \\\\\n",
       "\t2 & Hits & 0 \\\\\n",
       "\t3 & HmRun & 0 \\\\\n",
       "\t4 & Runs & 0 \\\\\n",
       "\t5 & RBI & 0 \\\\\n",
       "\t6 & Walks & 0 \\\\\n",
       "\t7 & Years & 0 \\\\\n",
       "\t8 & CAtBat & 0 \\\\\n",
       "\t9 & CHits & 0 \\\\\n",
       "\t10 & CHmRun & 0 \\\\\n",
       "\t11 & CRuns & 0 \\\\\n",
       "\t12 & CRBI & 0 \\\\\n",
       "\t13 & CWalks & 0 \\\\\n",
       "\t14 & League & 0 \\\\\n",
       "\t15 & Division & 0 \\\\\n",
       "\t16 & PutOuts & 0 \\\\\n",
       "\t17 & Assists & 0 \\\\\n",
       "\t18 & Errors & 0 \\\\\n",
       "\t19 & Salary & 59 \\\\\n",
       "\t20 & NewLeague & 0 \\\\\n",
       "\\end{tabular}\n"
      ],
      "text/plain": [
       "\u001b[1m20×2 DataFrame\u001b[0m\n",
       "\u001b[1m Row \u001b[0m│\u001b[1m variable  \u001b[0m\u001b[1m nmissing \u001b[0m\n",
       "     │\u001b[90m Symbol    \u001b[0m\u001b[90m Int64    \u001b[0m\n",
       "─────┼─────────────────────\n",
       "   1 │ AtBat             0\n",
       "   2 │ Hits              0\n",
       "   3 │ HmRun             0\n",
       "   4 │ Runs              0\n",
       "   5 │ RBI               0\n",
       "   6 │ Walks             0\n",
       "   7 │ Years             0\n",
       "   8 │ CAtBat            0\n",
       "   9 │ CHits             0\n",
       "  10 │ CHmRun            0\n",
       "  11 │ CRuns             0\n",
       "  12 │ CRBI              0\n",
       "  13 │ CWalks            0\n",
       "  14 │ League            0\n",
       "  15 │ Division          0\n",
       "  16 │ PutOuts           0\n",
       "  17 │ Assists           0\n",
       "  18 │ Errors            0\n",
       "  19 │ Salary           59\n",
       "  20 │ NewLeague         0"
      ]
     },
     "execution_count": 11,
     "metadata": {},
     "output_type": "execute_result"
    }
   ],
   "source": [
    "println(\"Identificamos los valores faltantes:\")\n",
    "describe(Hitters, :nmissing)"
   ]
  },
  {
   "cell_type": "code",
   "execution_count": 12,
   "metadata": {},
   "outputs": [
    {
     "name": "stdout",
     "output_type": "stream",
     "text": [
      "Habiendo identificado que solo hay valores faltantes en la columna 'Salario', nos deshacemos de estos\n"
     ]
    }
   ],
   "source": [
    "println(\"Habiendo identificado que solo hay valores faltantes en la columna 'Salario', nos deshacemos de estos\")\n",
    "Hitters = dropmissing(Hitters, :Salary);"
   ]
  },
  {
   "cell_type": "code",
   "execution_count": null,
   "metadata": {},
   "outputs": [
    {
     "name": "stdout",
     "output_type": "stream",
     "text": [
      "Definimos nuestro vector y la matriz objetivos\n"
     ]
    }
   ],
   "source": [
    "println(\"Definimos nuestro vector y la matriz objetivos\")\n",
    "using MLJ\n",
    "Y, X = unpack(Hitters, ==(:Salary), !=(:Salary));"
   ]
  },
  {
   "cell_type": "code",
   "execution_count": 14,
   "metadata": {},
   "outputs": [
    {
     "name": "stdout",
     "output_type": "stream",
     "text": [
      "Verificamos los tipos de datos\n"
     ]
    },
    {
     "data": {
      "text/plain": [
       "┌───────────┬───────────────┬─────────────────────────────────┐\n",
       "│\u001b[22m names     \u001b[0m│\u001b[22m scitypes      \u001b[0m│\u001b[22m types                           \u001b[0m│\n",
       "├───────────┼───────────────┼─────────────────────────────────┤\n",
       "│ AtBat     │ Count         │ Int32                           │\n",
       "│ Hits      │ Count         │ Int32                           │\n",
       "│ HmRun     │ Count         │ Int32                           │\n",
       "│ Runs      │ Count         │ Int32                           │\n",
       "│ RBI       │ Count         │ Int32                           │\n",
       "│ Walks     │ Count         │ Int32                           │\n",
       "│ Years     │ Count         │ Int32                           │\n",
       "│ CAtBat    │ Count         │ Int32                           │\n",
       "│ CHits     │ Count         │ Int32                           │\n",
       "│ CHmRun    │ Count         │ Int32                           │\n",
       "│ CRuns     │ Count         │ Int32                           │\n",
       "│ CRBI      │ Count         │ Int32                           │\n",
       "│ CWalks    │ Count         │ Int32                           │\n",
       "│ League    │ Multiclass{2} │ CategoricalValue{String, UInt8} │\n",
       "│ Division  │ Multiclass{2} │ CategoricalValue{String, UInt8} │\n",
       "│ PutOuts   │ Count         │ Int32                           │\n",
       "│ Assists   │ Count         │ Int32                           │\n",
       "│ Errors    │ Count         │ Int32                           │\n",
       "│ NewLeague │ Multiclass{2} │ CategoricalValue{String, UInt8} │\n",
       "└───────────┴───────────────┴─────────────────────────────────┘\n"
      ]
     },
     "execution_count": 14,
     "metadata": {},
     "output_type": "execute_result"
    }
   ],
   "source": [
    "println(\"Verificamos los tipos de datos\")\n",
    "schema(X)"
   ]
  },
  {
   "cell_type": "code",
   "execution_count": 15,
   "metadata": {},
   "outputs": [
    {
     "name": "stdout",
     "output_type": "stream",
     "text": [
      "Tranformamos los datos 'Multiclass' en dummies continuas y los datos 'Count' en continuos\n"
     ]
    },
    {
     "name": "stderr",
     "output_type": "stream",
     "text": [
      "\u001b[36m\u001b[1m[ \u001b[22m\u001b[39m\u001b[36m\u001b[1mInfo: \u001b[22m\u001b[39mTraining machine(OneHotEncoder(features = [:League, :Division, :NewLeague], …), …).\n",
      "\u001b[36m\u001b[1m[ \u001b[22m\u001b[39m\u001b[36m\u001b[1mInfo: \u001b[22m\u001b[39mSpawning 2 sub-features to one-hot encode feature :League.\n",
      "\u001b[36m\u001b[1m[ \u001b[22m\u001b[39m\u001b[36m\u001b[1mInfo: \u001b[22m\u001b[39mSpawning 2 sub-features to one-hot encode feature :Division.\n",
      "\u001b[36m\u001b[1m[ \u001b[22m\u001b[39m\u001b[36m\u001b[1mInfo: \u001b[22m\u001b[39mSpawning 2 sub-features to one-hot encode feature :NewLeague.\n"
     ]
    },
    {
     "data": {
      "text/plain": [
       "┌──────────────┬────────────┬─────────┐\n",
       "│\u001b[22m names        \u001b[0m│\u001b[22m scitypes   \u001b[0m│\u001b[22m types   \u001b[0m│\n",
       "├──────────────┼────────────┼─────────┤\n",
       "│ AtBat        │ Continuous │ Float64 │\n",
       "│ Hits         │ Continuous │ Float64 │\n",
       "│ HmRun        │ Continuous │ Float64 │\n",
       "│ Runs         │ Continuous │ Float64 │\n",
       "│ RBI          │ Continuous │ Float64 │\n",
       "│ Walks        │ Continuous │ Float64 │\n",
       "│ Years        │ Continuous │ Float64 │\n",
       "│ CAtBat       │ Continuous │ Float64 │\n",
       "│ CHits        │ Continuous │ Float64 │\n",
       "│ CHmRun       │ Continuous │ Float64 │\n",
       "│ CRuns        │ Continuous │ Float64 │\n",
       "│ CRBI         │ Continuous │ Float64 │\n",
       "│ CWalks       │ Continuous │ Float64 │\n",
       "│ League__A    │ Continuous │ Float64 │\n",
       "│ League__N    │ Continuous │ Float64 │\n",
       "│ Division__E  │ Continuous │ Float64 │\n",
       "│ Division__W  │ Continuous │ Float64 │\n",
       "│ PutOuts      │ Continuous │ Float64 │\n",
       "│ Assists      │ Continuous │ Float64 │\n",
       "│ Errors       │ Continuous │ Float64 │\n",
       "│ NewLeague__A │ Continuous │ Float64 │\n",
       "│ NewLeague__N │ Continuous │ Float64 │\n",
       "└──────────────┴────────────┴─────────┘\n"
      ]
     },
     "execution_count": 15,
     "metadata": {},
     "output_type": "execute_result"
    }
   ],
   "source": [
    "println(\"Tranformamos los datos 'Multiclass' en dummies continuas y los datos 'Count' en continuos\")\n",
    "Onehotencoder = @load OneHotEncoder pkg=MLJModels verbosity=0\n",
    "\n",
    "ohe = Onehotencoder(features = [:League, :Division, :NewLeague])\n",
    "ohe_machine = machine(ohe, X)\n",
    "fit!(ohe_machine);\n",
    "X = MLJ.transform(ohe_machine, X);\n",
    "coerce!(X, Count => Continuous);\n",
    "\n",
    "schema(X)"
   ]
  },
  {
   "cell_type": "markdown",
   "metadata": {},
   "source": [
    "3.2 Dividir el sample en dos sets: Training (90%) y Test (10%)"
   ]
  },
  {
   "cell_type": "code",
   "execution_count": 16,
   "metadata": {},
   "outputs": [],
   "source": [
    "train, test = partition(eachindex(Y), 0.9, rng = 1);"
   ]
  },
  {
   "cell_type": "code",
   "execution_count": 115,
   "metadata": {},
   "outputs": [
    {
     "data": {
      "text/html": [
       "<div><div style = \"float: left;\"><span>263×23 DataFrame</span></div><div style = \"float: right;\"><span style = \"font-style: italic;\">238 rows omitted</span></div><div style = \"clear: both;\"></div></div><div class = \"data-frame\" style = \"overflow-x: scroll;\"><table class = \"data-frame\" style = \"margin-bottom: 6px;\"><thead><tr class = \"header\"><th class = \"rowNumber\" style = \"font-weight: bold; text-align: right;\">Row</th><th style = \"text-align: left;\">AtBat</th><th style = \"text-align: left;\">Hits</th><th style = \"text-align: left;\">HmRun</th><th style = \"text-align: left;\">Runs</th><th style = \"text-align: left;\">RBI</th><th style = \"text-align: left;\">Walks</th><th style = \"text-align: left;\">Years</th><th style = \"text-align: left;\">CAtBat</th><th style = \"text-align: left;\">CHits</th><th style = \"text-align: left;\">CHmRun</th><th style = \"text-align: left;\">CRuns</th><th style = \"text-align: left;\">CRBI</th><th style = \"text-align: left;\">CWalks</th><th style = \"text-align: left;\">League__A</th><th style = \"text-align: left;\">League__N</th><th style = \"text-align: left;\">Division__E</th><th style = \"text-align: left;\">Division__W</th><th style = \"text-align: left;\">PutOuts</th><th style = \"text-align: left;\">Assists</th><th style = \"text-align: left;\">Errors</th><th style = \"text-align: left;\">NewLeague__A</th><th style = \"text-align: left;\">NewLeague__N</th><th style = \"text-align: left;\">x1</th></tr><tr class = \"subheader headerLastRow\"><th class = \"rowNumber\" style = \"font-weight: bold; text-align: right;\"></th><th title = \"Float64\" style = \"text-align: left;\">Float64</th><th title = \"Float64\" style = \"text-align: left;\">Float64</th><th title = \"Float64\" style = \"text-align: left;\">Float64</th><th title = \"Float64\" style = \"text-align: left;\">Float64</th><th title = \"Float64\" style = \"text-align: left;\">Float64</th><th title = \"Float64\" style = \"text-align: left;\">Float64</th><th title = \"Float64\" style = \"text-align: left;\">Float64</th><th title = \"Float64\" style = \"text-align: left;\">Float64</th><th title = \"Float64\" style = \"text-align: left;\">Float64</th><th title = \"Float64\" style = \"text-align: left;\">Float64</th><th title = \"Float64\" style = \"text-align: left;\">Float64</th><th title = \"Float64\" style = \"text-align: left;\">Float64</th><th title = \"Float64\" style = \"text-align: left;\">Float64</th><th title = \"Float64\" style = \"text-align: left;\">Float64</th><th title = \"Float64\" style = \"text-align: left;\">Float64</th><th title = \"Float64\" style = \"text-align: left;\">Float64</th><th title = \"Float64\" style = \"text-align: left;\">Float64</th><th title = \"Float64\" style = \"text-align: left;\">Float64</th><th title = \"Float64\" style = \"text-align: left;\">Float64</th><th title = \"Float64\" style = \"text-align: left;\">Float64</th><th title = \"Float64\" style = \"text-align: left;\">Float64</th><th title = \"Float64\" style = \"text-align: left;\">Float64</th><th title = \"Float64\" style = \"text-align: left;\">Float64</th></tr></thead><tbody><tr><td class = \"rowNumber\" style = \"font-weight: bold; text-align: right;\">1</td><td style = \"text-align: right;\">315.0</td><td style = \"text-align: right;\">81.0</td><td style = \"text-align: right;\">7.0</td><td style = \"text-align: right;\">24.0</td><td style = \"text-align: right;\">38.0</td><td style = \"text-align: right;\">39.0</td><td style = \"text-align: right;\">14.0</td><td style = \"text-align: right;\">3449.0</td><td style = \"text-align: right;\">835.0</td><td style = \"text-align: right;\">69.0</td><td style = \"text-align: right;\">321.0</td><td style = \"text-align: right;\">414.0</td><td style = \"text-align: right;\">375.0</td><td style = \"text-align: right;\">0.0</td><td style = \"text-align: right;\">1.0</td><td style = \"text-align: right;\">0.0</td><td style = \"text-align: right;\">1.0</td><td style = \"text-align: right;\">632.0</td><td style = \"text-align: right;\">43.0</td><td style = \"text-align: right;\">10.0</td><td style = \"text-align: right;\">0.0</td><td style = \"text-align: right;\">1.0</td><td style = \"text-align: right;\">475.0</td></tr><tr><td class = \"rowNumber\" style = \"font-weight: bold; text-align: right;\">2</td><td style = \"text-align: right;\">479.0</td><td style = \"text-align: right;\">130.0</td><td style = \"text-align: right;\">18.0</td><td style = \"text-align: right;\">66.0</td><td style = \"text-align: right;\">72.0</td><td style = \"text-align: right;\">76.0</td><td style = \"text-align: right;\">3.0</td><td style = \"text-align: right;\">1624.0</td><td style = \"text-align: right;\">457.0</td><td style = \"text-align: right;\">63.0</td><td style = \"text-align: right;\">224.0</td><td style = \"text-align: right;\">266.0</td><td style = \"text-align: right;\">263.0</td><td style = \"text-align: right;\">1.0</td><td style = \"text-align: right;\">0.0</td><td style = \"text-align: right;\">0.0</td><td style = \"text-align: right;\">1.0</td><td style = \"text-align: right;\">880.0</td><td style = \"text-align: right;\">82.0</td><td style = \"text-align: right;\">14.0</td><td style = \"text-align: right;\">1.0</td><td style = \"text-align: right;\">0.0</td><td style = \"text-align: right;\">480.0</td></tr><tr><td class = \"rowNumber\" style = \"font-weight: bold; text-align: right;\">3</td><td style = \"text-align: right;\">496.0</td><td style = \"text-align: right;\">141.0</td><td style = \"text-align: right;\">20.0</td><td style = \"text-align: right;\">65.0</td><td style = \"text-align: right;\">78.0</td><td style = \"text-align: right;\">37.0</td><td style = \"text-align: right;\">11.0</td><td style = \"text-align: right;\">5628.0</td><td style = \"text-align: right;\">1575.0</td><td style = \"text-align: right;\">225.0</td><td style = \"text-align: right;\">828.0</td><td style = \"text-align: right;\">838.0</td><td style = \"text-align: right;\">354.0</td><td style = \"text-align: right;\">0.0</td><td style = \"text-align: right;\">1.0</td><td style = \"text-align: right;\">1.0</td><td style = \"text-align: right;\">0.0</td><td style = \"text-align: right;\">200.0</td><td style = \"text-align: right;\">11.0</td><td style = \"text-align: right;\">3.0</td><td style = \"text-align: right;\">0.0</td><td style = \"text-align: right;\">1.0</td><td style = \"text-align: right;\">500.0</td></tr><tr><td class = \"rowNumber\" style = \"font-weight: bold; text-align: right;\">4</td><td style = \"text-align: right;\">321.0</td><td style = \"text-align: right;\">87.0</td><td style = \"text-align: right;\">10.0</td><td style = \"text-align: right;\">39.0</td><td style = \"text-align: right;\">42.0</td><td style = \"text-align: right;\">30.0</td><td style = \"text-align: right;\">2.0</td><td style = \"text-align: right;\">396.0</td><td style = \"text-align: right;\">101.0</td><td style = \"text-align: right;\">12.0</td><td style = \"text-align: right;\">48.0</td><td style = \"text-align: right;\">46.0</td><td style = \"text-align: right;\">33.0</td><td style = \"text-align: right;\">0.0</td><td style = \"text-align: right;\">1.0</td><td style = \"text-align: right;\">1.0</td><td style = \"text-align: right;\">0.0</td><td style = \"text-align: right;\">805.0</td><td style = \"text-align: right;\">40.0</td><td style = \"text-align: right;\">4.0</td><td style = \"text-align: right;\">0.0</td><td style = \"text-align: right;\">1.0</td><td style = \"text-align: right;\">91.5</td></tr><tr><td class = \"rowNumber\" style = \"font-weight: bold; text-align: right;\">5</td><td style = \"text-align: right;\">594.0</td><td style = \"text-align: right;\">169.0</td><td style = \"text-align: right;\">4.0</td><td style = \"text-align: right;\">74.0</td><td style = \"text-align: right;\">51.0</td><td style = \"text-align: right;\">35.0</td><td style = \"text-align: right;\">11.0</td><td style = \"text-align: right;\">4408.0</td><td style = \"text-align: right;\">1133.0</td><td style = \"text-align: right;\">19.0</td><td style = \"text-align: right;\">501.0</td><td style = \"text-align: right;\">336.0</td><td style = \"text-align: right;\">194.0</td><td style = \"text-align: right;\">1.0</td><td style = \"text-align: right;\">0.0</td><td style = \"text-align: right;\">0.0</td><td style = \"text-align: right;\">1.0</td><td style = \"text-align: right;\">282.0</td><td style = \"text-align: right;\">421.0</td><td style = \"text-align: right;\">25.0</td><td style = \"text-align: right;\">1.0</td><td style = \"text-align: right;\">0.0</td><td style = \"text-align: right;\">750.0</td></tr><tr><td class = \"rowNumber\" style = \"font-weight: bold; text-align: right;\">6</td><td style = \"text-align: right;\">185.0</td><td style = \"text-align: right;\">37.0</td><td style = \"text-align: right;\">1.0</td><td style = \"text-align: right;\">23.0</td><td style = \"text-align: right;\">8.0</td><td style = \"text-align: right;\">21.0</td><td style = \"text-align: right;\">2.0</td><td style = \"text-align: right;\">214.0</td><td style = \"text-align: right;\">42.0</td><td style = \"text-align: right;\">1.0</td><td style = \"text-align: right;\">30.0</td><td style = \"text-align: right;\">9.0</td><td style = \"text-align: right;\">24.0</td><td style = \"text-align: right;\">0.0</td><td style = \"text-align: right;\">1.0</td><td style = \"text-align: right;\">1.0</td><td style = \"text-align: right;\">0.0</td><td style = \"text-align: right;\">76.0</td><td style = \"text-align: right;\">127.0</td><td style = \"text-align: right;\">7.0</td><td style = \"text-align: right;\">1.0</td><td style = \"text-align: right;\">0.0</td><td style = \"text-align: right;\">70.0</td></tr><tr><td class = \"rowNumber\" style = \"font-weight: bold; text-align: right;\">7</td><td style = \"text-align: right;\">298.0</td><td style = \"text-align: right;\">73.0</td><td style = \"text-align: right;\">0.0</td><td style = \"text-align: right;\">24.0</td><td style = \"text-align: right;\">24.0</td><td style = \"text-align: right;\">7.0</td><td style = \"text-align: right;\">3.0</td><td style = \"text-align: right;\">509.0</td><td style = \"text-align: right;\">108.0</td><td style = \"text-align: right;\">0.0</td><td style = \"text-align: right;\">41.0</td><td style = \"text-align: right;\">37.0</td><td style = \"text-align: right;\">12.0</td><td style = \"text-align: right;\">1.0</td><td style = \"text-align: right;\">0.0</td><td style = \"text-align: right;\">0.0</td><td style = \"text-align: right;\">1.0</td><td style = \"text-align: right;\">121.0</td><td style = \"text-align: right;\">283.0</td><td style = \"text-align: right;\">9.0</td><td style = \"text-align: right;\">1.0</td><td style = \"text-align: right;\">0.0</td><td style = \"text-align: right;\">100.0</td></tr><tr><td class = \"rowNumber\" style = \"font-weight: bold; text-align: right;\">8</td><td style = \"text-align: right;\">323.0</td><td style = \"text-align: right;\">81.0</td><td style = \"text-align: right;\">6.0</td><td style = \"text-align: right;\">26.0</td><td style = \"text-align: right;\">32.0</td><td style = \"text-align: right;\">8.0</td><td style = \"text-align: right;\">2.0</td><td style = \"text-align: right;\">341.0</td><td style = \"text-align: right;\">86.0</td><td style = \"text-align: right;\">6.0</td><td style = \"text-align: right;\">32.0</td><td style = \"text-align: right;\">34.0</td><td style = \"text-align: right;\">8.0</td><td style = \"text-align: right;\">0.0</td><td style = \"text-align: right;\">1.0</td><td style = \"text-align: right;\">0.0</td><td style = \"text-align: right;\">1.0</td><td style = \"text-align: right;\">143.0</td><td style = \"text-align: right;\">290.0</td><td style = \"text-align: right;\">19.0</td><td style = \"text-align: right;\">0.0</td><td style = \"text-align: right;\">1.0</td><td style = \"text-align: right;\">75.0</td></tr><tr><td class = \"rowNumber\" style = \"font-weight: bold; text-align: right;\">9</td><td style = \"text-align: right;\">401.0</td><td style = \"text-align: right;\">92.0</td><td style = \"text-align: right;\">17.0</td><td style = \"text-align: right;\">49.0</td><td style = \"text-align: right;\">66.0</td><td style = \"text-align: right;\">65.0</td><td style = \"text-align: right;\">13.0</td><td style = \"text-align: right;\">5206.0</td><td style = \"text-align: right;\">1332.0</td><td style = \"text-align: right;\">253.0</td><td style = \"text-align: right;\">784.0</td><td style = \"text-align: right;\">890.0</td><td style = \"text-align: right;\">866.0</td><td style = \"text-align: right;\">1.0</td><td style = \"text-align: right;\">0.0</td><td style = \"text-align: right;\">1.0</td><td style = \"text-align: right;\">0.0</td><td style = \"text-align: right;\">0.0</td><td style = \"text-align: right;\">0.0</td><td style = \"text-align: right;\">0.0</td><td style = \"text-align: right;\">1.0</td><td style = \"text-align: right;\">0.0</td><td style = \"text-align: right;\">1100.0</td></tr><tr><td class = \"rowNumber\" style = \"font-weight: bold; text-align: right;\">10</td><td style = \"text-align: right;\">574.0</td><td style = \"text-align: right;\">159.0</td><td style = \"text-align: right;\">21.0</td><td style = \"text-align: right;\">107.0</td><td style = \"text-align: right;\">75.0</td><td style = \"text-align: right;\">59.0</td><td style = \"text-align: right;\">10.0</td><td style = \"text-align: right;\">4631.0</td><td style = \"text-align: right;\">1300.0</td><td style = \"text-align: right;\">90.0</td><td style = \"text-align: right;\">702.0</td><td style = \"text-align: right;\">504.0</td><td style = \"text-align: right;\">488.0</td><td style = \"text-align: right;\">1.0</td><td style = \"text-align: right;\">0.0</td><td style = \"text-align: right;\">1.0</td><td style = \"text-align: right;\">0.0</td><td style = \"text-align: right;\">238.0</td><td style = \"text-align: right;\">445.0</td><td style = \"text-align: right;\">22.0</td><td style = \"text-align: right;\">1.0</td><td style = \"text-align: right;\">0.0</td><td style = \"text-align: right;\">517.143</td></tr><tr><td class = \"rowNumber\" style = \"font-weight: bold; text-align: right;\">11</td><td style = \"text-align: right;\">202.0</td><td style = \"text-align: right;\">53.0</td><td style = \"text-align: right;\">4.0</td><td style = \"text-align: right;\">31.0</td><td style = \"text-align: right;\">26.0</td><td style = \"text-align: right;\">27.0</td><td style = \"text-align: right;\">9.0</td><td style = \"text-align: right;\">1876.0</td><td style = \"text-align: right;\">467.0</td><td style = \"text-align: right;\">15.0</td><td style = \"text-align: right;\">192.0</td><td style = \"text-align: right;\">186.0</td><td style = \"text-align: right;\">161.0</td><td style = \"text-align: right;\">0.0</td><td style = \"text-align: right;\">1.0</td><td style = \"text-align: right;\">0.0</td><td style = \"text-align: right;\">1.0</td><td style = \"text-align: right;\">304.0</td><td style = \"text-align: right;\">45.0</td><td style = \"text-align: right;\">11.0</td><td style = \"text-align: right;\">0.0</td><td style = \"text-align: right;\">1.0</td><td style = \"text-align: right;\">512.5</td></tr><tr><td class = \"rowNumber\" style = \"font-weight: bold; text-align: right;\">12</td><td style = \"text-align: right;\">418.0</td><td style = \"text-align: right;\">113.0</td><td style = \"text-align: right;\">13.0</td><td style = \"text-align: right;\">48.0</td><td style = \"text-align: right;\">61.0</td><td style = \"text-align: right;\">47.0</td><td style = \"text-align: right;\">4.0</td><td style = \"text-align: right;\">1512.0</td><td style = \"text-align: right;\">392.0</td><td style = \"text-align: right;\">41.0</td><td style = \"text-align: right;\">205.0</td><td style = \"text-align: right;\">204.0</td><td style = \"text-align: right;\">203.0</td><td style = \"text-align: right;\">0.0</td><td style = \"text-align: right;\">1.0</td><td style = \"text-align: right;\">1.0</td><td style = \"text-align: right;\">0.0</td><td style = \"text-align: right;\">211.0</td><td style = \"text-align: right;\">11.0</td><td style = \"text-align: right;\">7.0</td><td style = \"text-align: right;\">0.0</td><td style = \"text-align: right;\">1.0</td><td style = \"text-align: right;\">550.0</td></tr><tr><td class = \"rowNumber\" style = \"font-weight: bold; text-align: right;\">13</td><td style = \"text-align: right;\">239.0</td><td style = \"text-align: right;\">60.0</td><td style = \"text-align: right;\">0.0</td><td style = \"text-align: right;\">30.0</td><td style = \"text-align: right;\">11.0</td><td style = \"text-align: right;\">22.0</td><td style = \"text-align: right;\">6.0</td><td style = \"text-align: right;\">1941.0</td><td style = \"text-align: right;\">510.0</td><td style = \"text-align: right;\">4.0</td><td style = \"text-align: right;\">309.0</td><td style = \"text-align: right;\">103.0</td><td style = \"text-align: right;\">207.0</td><td style = \"text-align: right;\">1.0</td><td style = \"text-align: right;\">0.0</td><td style = \"text-align: right;\">1.0</td><td style = \"text-align: right;\">0.0</td><td style = \"text-align: right;\">121.0</td><td style = \"text-align: right;\">151.0</td><td style = \"text-align: right;\">6.0</td><td style = \"text-align: right;\">1.0</td><td style = \"text-align: right;\">0.0</td><td style = \"text-align: right;\">700.0</td></tr><tr><td style = \"text-align: right;\">&vellip;</td><td style = \"text-align: right;\">&vellip;</td><td style = \"text-align: right;\">&vellip;</td><td style = \"text-align: right;\">&vellip;</td><td style = \"text-align: right;\">&vellip;</td><td style = \"text-align: right;\">&vellip;</td><td style = \"text-align: right;\">&vellip;</td><td style = \"text-align: right;\">&vellip;</td><td style = \"text-align: right;\">&vellip;</td><td style = \"text-align: right;\">&vellip;</td><td style = \"text-align: right;\">&vellip;</td><td style = \"text-align: right;\">&vellip;</td><td style = \"text-align: right;\">&vellip;</td><td style = \"text-align: right;\">&vellip;</td><td style = \"text-align: right;\">&vellip;</td><td style = \"text-align: right;\">&vellip;</td><td style = \"text-align: right;\">&vellip;</td><td style = \"text-align: right;\">&vellip;</td><td style = \"text-align: right;\">&vellip;</td><td style = \"text-align: right;\">&vellip;</td><td style = \"text-align: right;\">&vellip;</td><td style = \"text-align: right;\">&vellip;</td><td style = \"text-align: right;\">&vellip;</td><td style = \"text-align: right;\">&vellip;</td></tr><tr><td class = \"rowNumber\" style = \"font-weight: bold; text-align: right;\">252</td><td style = \"text-align: right;\">600.0</td><td style = \"text-align: right;\">139.0</td><td style = \"text-align: right;\">0.0</td><td style = \"text-align: right;\">94.0</td><td style = \"text-align: right;\">29.0</td><td style = \"text-align: right;\">60.0</td><td style = \"text-align: right;\">2.0</td><td style = \"text-align: right;\">1236.0</td><td style = \"text-align: right;\">309.0</td><td style = \"text-align: right;\">1.0</td><td style = \"text-align: right;\">201.0</td><td style = \"text-align: right;\">69.0</td><td style = \"text-align: right;\">110.0</td><td style = \"text-align: right;\">0.0</td><td style = \"text-align: right;\">1.0</td><td style = \"text-align: right;\">1.0</td><td style = \"text-align: right;\">0.0</td><td style = \"text-align: right;\">300.0</td><td style = \"text-align: right;\">12.0</td><td style = \"text-align: right;\">9.0</td><td style = \"text-align: right;\">0.0</td><td style = \"text-align: right;\">1.0</td><td style = \"text-align: right;\">160.0</td></tr><tr><td class = \"rowNumber\" style = \"font-weight: bold; text-align: right;\">253</td><td style = \"text-align: right;\">610.0</td><td style = \"text-align: right;\">186.0</td><td style = \"text-align: right;\">19.0</td><td style = \"text-align: right;\">107.0</td><td style = \"text-align: right;\">98.0</td><td style = \"text-align: right;\">74.0</td><td style = \"text-align: right;\">6.0</td><td style = \"text-align: right;\">2728.0</td><td style = \"text-align: right;\">753.0</td><td style = \"text-align: right;\">69.0</td><td style = \"text-align: right;\">399.0</td><td style = \"text-align: right;\">366.0</td><td style = \"text-align: right;\">286.0</td><td style = \"text-align: right;\">0.0</td><td style = \"text-align: right;\">1.0</td><td style = \"text-align: right;\">1.0</td><td style = \"text-align: right;\">0.0</td><td style = \"text-align: right;\">1182.0</td><td style = \"text-align: right;\">96.0</td><td style = \"text-align: right;\">13.0</td><td style = \"text-align: right;\">0.0</td><td style = \"text-align: right;\">1.0</td><td style = \"text-align: right;\">1300.0</td></tr><tr><td class = \"rowNumber\" style = \"font-weight: bold; text-align: right;\">254</td><td style = \"text-align: right;\">360.0</td><td style = \"text-align: right;\">81.0</td><td style = \"text-align: right;\">5.0</td><td style = \"text-align: right;\">37.0</td><td style = \"text-align: right;\">44.0</td><td style = \"text-align: right;\">37.0</td><td style = \"text-align: right;\">7.0</td><td style = \"text-align: right;\">2268.0</td><td style = \"text-align: right;\">566.0</td><td style = \"text-align: right;\">41.0</td><td style = \"text-align: right;\">279.0</td><td style = \"text-align: right;\">257.0</td><td style = \"text-align: right;\">246.0</td><td style = \"text-align: right;\">0.0</td><td style = \"text-align: right;\">1.0</td><td style = \"text-align: right;\">1.0</td><td style = \"text-align: right;\">0.0</td><td style = \"text-align: right;\">170.0</td><td style = \"text-align: right;\">284.0</td><td style = \"text-align: right;\">3.0</td><td style = \"text-align: right;\">0.0</td><td style = \"text-align: right;\">1.0</td><td style = \"text-align: right;\">525.0</td></tr><tr><td class = \"rowNumber\" style = \"font-weight: bold; text-align: right;\">255</td><td style = \"text-align: right;\">387.0</td><td style = \"text-align: right;\">124.0</td><td style = \"text-align: right;\">1.0</td><td style = \"text-align: right;\">67.0</td><td style = \"text-align: right;\">27.0</td><td style = \"text-align: right;\">36.0</td><td style = \"text-align: right;\">7.0</td><td style = \"text-align: right;\">1775.0</td><td style = \"text-align: right;\">506.0</td><td style = \"text-align: right;\">6.0</td><td style = \"text-align: right;\">272.0</td><td style = \"text-align: right;\">125.0</td><td style = \"text-align: right;\">194.0</td><td style = \"text-align: right;\">0.0</td><td style = \"text-align: right;\">1.0</td><td style = \"text-align: right;\">1.0</td><td style = \"text-align: right;\">0.0</td><td style = \"text-align: right;\">186.0</td><td style = \"text-align: right;\">290.0</td><td style = \"text-align: right;\">17.0</td><td style = \"text-align: right;\">0.0</td><td style = \"text-align: right;\">1.0</td><td style = \"text-align: right;\">550.0</td></tr><tr><td class = \"rowNumber\" style = \"font-weight: bold; text-align: right;\">256</td><td style = \"text-align: right;\">580.0</td><td style = \"text-align: right;\">207.0</td><td style = \"text-align: right;\">8.0</td><td style = \"text-align: right;\">107.0</td><td style = \"text-align: right;\">71.0</td><td style = \"text-align: right;\">105.0</td><td style = \"text-align: right;\">5.0</td><td style = \"text-align: right;\">2778.0</td><td style = \"text-align: right;\">978.0</td><td style = \"text-align: right;\">32.0</td><td style = \"text-align: right;\">474.0</td><td style = \"text-align: right;\">322.0</td><td style = \"text-align: right;\">417.0</td><td style = \"text-align: right;\">1.0</td><td style = \"text-align: right;\">0.0</td><td style = \"text-align: right;\">1.0</td><td style = \"text-align: right;\">0.0</td><td style = \"text-align: right;\">121.0</td><td style = \"text-align: right;\">267.0</td><td style = \"text-align: right;\">19.0</td><td style = \"text-align: right;\">1.0</td><td style = \"text-align: right;\">0.0</td><td style = \"text-align: right;\">1600.0</td></tr><tr><td class = \"rowNumber\" style = \"font-weight: bold; text-align: right;\">257</td><td style = \"text-align: right;\">408.0</td><td style = \"text-align: right;\">117.0</td><td style = \"text-align: right;\">11.0</td><td style = \"text-align: right;\">66.0</td><td style = \"text-align: right;\">41.0</td><td style = \"text-align: right;\">34.0</td><td style = \"text-align: right;\">1.0</td><td style = \"text-align: right;\">408.0</td><td style = \"text-align: right;\">117.0</td><td style = \"text-align: right;\">11.0</td><td style = \"text-align: right;\">66.0</td><td style = \"text-align: right;\">41.0</td><td style = \"text-align: right;\">34.0</td><td style = \"text-align: right;\">0.0</td><td style = \"text-align: right;\">1.0</td><td style = \"text-align: right;\">0.0</td><td style = \"text-align: right;\">1.0</td><td style = \"text-align: right;\">942.0</td><td style = \"text-align: right;\">72.0</td><td style = \"text-align: right;\">11.0</td><td style = \"text-align: right;\">0.0</td><td style = \"text-align: right;\">1.0</td><td style = \"text-align: right;\">120.0</td></tr><tr><td class = \"rowNumber\" style = \"font-weight: bold; text-align: right;\">258</td><td style = \"text-align: right;\">593.0</td><td style = \"text-align: right;\">172.0</td><td style = \"text-align: right;\">22.0</td><td style = \"text-align: right;\">82.0</td><td style = \"text-align: right;\">100.0</td><td style = \"text-align: right;\">57.0</td><td style = \"text-align: right;\">1.0</td><td style = \"text-align: right;\">593.0</td><td style = \"text-align: right;\">172.0</td><td style = \"text-align: right;\">22.0</td><td style = \"text-align: right;\">82.0</td><td style = \"text-align: right;\">100.0</td><td style = \"text-align: right;\">57.0</td><td style = \"text-align: right;\">1.0</td><td style = \"text-align: right;\">0.0</td><td style = \"text-align: right;\">0.0</td><td style = \"text-align: right;\">1.0</td><td style = \"text-align: right;\">1222.0</td><td style = \"text-align: right;\">139.0</td><td style = \"text-align: right;\">15.0</td><td style = \"text-align: right;\">1.0</td><td style = \"text-align: right;\">0.0</td><td style = \"text-align: right;\">165.0</td></tr><tr><td class = \"rowNumber\" style = \"font-weight: bold; text-align: right;\">259</td><td style = \"text-align: right;\">497.0</td><td style = \"text-align: right;\">127.0</td><td style = \"text-align: right;\">7.0</td><td style = \"text-align: right;\">65.0</td><td style = \"text-align: right;\">48.0</td><td style = \"text-align: right;\">37.0</td><td style = \"text-align: right;\">5.0</td><td style = \"text-align: right;\">2703.0</td><td style = \"text-align: right;\">806.0</td><td style = \"text-align: right;\">32.0</td><td style = \"text-align: right;\">379.0</td><td style = \"text-align: right;\">311.0</td><td style = \"text-align: right;\">138.0</td><td style = \"text-align: right;\">0.0</td><td style = \"text-align: right;\">1.0</td><td style = \"text-align: right;\">1.0</td><td style = \"text-align: right;\">0.0</td><td style = \"text-align: right;\">325.0</td><td style = \"text-align: right;\">9.0</td><td style = \"text-align: right;\">3.0</td><td style = \"text-align: right;\">0.0</td><td style = \"text-align: right;\">1.0</td><td style = \"text-align: right;\">700.0</td></tr><tr><td class = \"rowNumber\" style = \"font-weight: bold; text-align: right;\">260</td><td style = \"text-align: right;\">492.0</td><td style = \"text-align: right;\">136.0</td><td style = \"text-align: right;\">5.0</td><td style = \"text-align: right;\">76.0</td><td style = \"text-align: right;\">50.0</td><td style = \"text-align: right;\">94.0</td><td style = \"text-align: right;\">12.0</td><td style = \"text-align: right;\">5511.0</td><td style = \"text-align: right;\">1511.0</td><td style = \"text-align: right;\">39.0</td><td style = \"text-align: right;\">897.0</td><td style = \"text-align: right;\">451.0</td><td style = \"text-align: right;\">875.0</td><td style = \"text-align: right;\">1.0</td><td style = \"text-align: right;\">0.0</td><td style = \"text-align: right;\">1.0</td><td style = \"text-align: right;\">0.0</td><td style = \"text-align: right;\">313.0</td><td style = \"text-align: right;\">381.0</td><td style = \"text-align: right;\">20.0</td><td style = \"text-align: right;\">1.0</td><td style = \"text-align: right;\">0.0</td><td style = \"text-align: right;\">875.0</td></tr><tr><td class = \"rowNumber\" style = \"font-weight: bold; text-align: right;\">261</td><td style = \"text-align: right;\">475.0</td><td style = \"text-align: right;\">126.0</td><td style = \"text-align: right;\">3.0</td><td style = \"text-align: right;\">61.0</td><td style = \"text-align: right;\">43.0</td><td style = \"text-align: right;\">52.0</td><td style = \"text-align: right;\">6.0</td><td style = \"text-align: right;\">1700.0</td><td style = \"text-align: right;\">433.0</td><td style = \"text-align: right;\">7.0</td><td style = \"text-align: right;\">217.0</td><td style = \"text-align: right;\">93.0</td><td style = \"text-align: right;\">146.0</td><td style = \"text-align: right;\">1.0</td><td style = \"text-align: right;\">0.0</td><td style = \"text-align: right;\">0.0</td><td style = \"text-align: right;\">1.0</td><td style = \"text-align: right;\">37.0</td><td style = \"text-align: right;\">113.0</td><td style = \"text-align: right;\">7.0</td><td style = \"text-align: right;\">1.0</td><td style = \"text-align: right;\">0.0</td><td style = \"text-align: right;\">385.0</td></tr><tr><td class = \"rowNumber\" style = \"font-weight: bold; text-align: right;\">262</td><td style = \"text-align: right;\">573.0</td><td style = \"text-align: right;\">144.0</td><td style = \"text-align: right;\">9.0</td><td style = \"text-align: right;\">85.0</td><td style = \"text-align: right;\">60.0</td><td style = \"text-align: right;\">78.0</td><td style = \"text-align: right;\">8.0</td><td style = \"text-align: right;\">3198.0</td><td style = \"text-align: right;\">857.0</td><td style = \"text-align: right;\">97.0</td><td style = \"text-align: right;\">470.0</td><td style = \"text-align: right;\">420.0</td><td style = \"text-align: right;\">332.0</td><td style = \"text-align: right;\">1.0</td><td style = \"text-align: right;\">0.0</td><td style = \"text-align: right;\">1.0</td><td style = \"text-align: right;\">0.0</td><td style = \"text-align: right;\">1314.0</td><td style = \"text-align: right;\">131.0</td><td style = \"text-align: right;\">12.0</td><td style = \"text-align: right;\">1.0</td><td style = \"text-align: right;\">0.0</td><td style = \"text-align: right;\">960.0</td></tr><tr><td class = \"rowNumber\" style = \"font-weight: bold; text-align: right;\">263</td><td style = \"text-align: right;\">631.0</td><td style = \"text-align: right;\">170.0</td><td style = \"text-align: right;\">9.0</td><td style = \"text-align: right;\">77.0</td><td style = \"text-align: right;\">44.0</td><td style = \"text-align: right;\">31.0</td><td style = \"text-align: right;\">11.0</td><td style = \"text-align: right;\">4908.0</td><td style = \"text-align: right;\">1457.0</td><td style = \"text-align: right;\">30.0</td><td style = \"text-align: right;\">775.0</td><td style = \"text-align: right;\">357.0</td><td style = \"text-align: right;\">249.0</td><td style = \"text-align: right;\">1.0</td><td style = \"text-align: right;\">0.0</td><td style = \"text-align: right;\">0.0</td><td style = \"text-align: right;\">1.0</td><td style = \"text-align: right;\">408.0</td><td style = \"text-align: right;\">4.0</td><td style = \"text-align: right;\">3.0</td><td style = \"text-align: right;\">1.0</td><td style = \"text-align: right;\">0.0</td><td style = \"text-align: right;\">1000.0</td></tr></tbody></table></div>"
      ],
      "text/latex": [
       "\\begin{tabular}{r|cccccccccc}\n",
       "\t& AtBat & Hits & HmRun & Runs & RBI & Walks & Years & CAtBat & CHits & \\\\\n",
       "\t\\hline\n",
       "\t& Float64 & Float64 & Float64 & Float64 & Float64 & Float64 & Float64 & Float64 & Float64 & \\\\\n",
       "\t\\hline\n",
       "\t1 & 315.0 & 81.0 & 7.0 & 24.0 & 38.0 & 39.0 & 14.0 & 3449.0 & 835.0 & $\\dots$ \\\\\n",
       "\t2 & 479.0 & 130.0 & 18.0 & 66.0 & 72.0 & 76.0 & 3.0 & 1624.0 & 457.0 & $\\dots$ \\\\\n",
       "\t3 & 496.0 & 141.0 & 20.0 & 65.0 & 78.0 & 37.0 & 11.0 & 5628.0 & 1575.0 & $\\dots$ \\\\\n",
       "\t4 & 321.0 & 87.0 & 10.0 & 39.0 & 42.0 & 30.0 & 2.0 & 396.0 & 101.0 & $\\dots$ \\\\\n",
       "\t5 & 594.0 & 169.0 & 4.0 & 74.0 & 51.0 & 35.0 & 11.0 & 4408.0 & 1133.0 & $\\dots$ \\\\\n",
       "\t6 & 185.0 & 37.0 & 1.0 & 23.0 & 8.0 & 21.0 & 2.0 & 214.0 & 42.0 & $\\dots$ \\\\\n",
       "\t7 & 298.0 & 73.0 & 0.0 & 24.0 & 24.0 & 7.0 & 3.0 & 509.0 & 108.0 & $\\dots$ \\\\\n",
       "\t8 & 323.0 & 81.0 & 6.0 & 26.0 & 32.0 & 8.0 & 2.0 & 341.0 & 86.0 & $\\dots$ \\\\\n",
       "\t9 & 401.0 & 92.0 & 17.0 & 49.0 & 66.0 & 65.0 & 13.0 & 5206.0 & 1332.0 & $\\dots$ \\\\\n",
       "\t10 & 574.0 & 159.0 & 21.0 & 107.0 & 75.0 & 59.0 & 10.0 & 4631.0 & 1300.0 & $\\dots$ \\\\\n",
       "\t11 & 202.0 & 53.0 & 4.0 & 31.0 & 26.0 & 27.0 & 9.0 & 1876.0 & 467.0 & $\\dots$ \\\\\n",
       "\t12 & 418.0 & 113.0 & 13.0 & 48.0 & 61.0 & 47.0 & 4.0 & 1512.0 & 392.0 & $\\dots$ \\\\\n",
       "\t13 & 239.0 & 60.0 & 0.0 & 30.0 & 11.0 & 22.0 & 6.0 & 1941.0 & 510.0 & $\\dots$ \\\\\n",
       "\t14 & 196.0 & 43.0 & 7.0 & 29.0 & 27.0 & 30.0 & 13.0 & 3231.0 & 825.0 & $\\dots$ \\\\\n",
       "\t15 & 568.0 & 158.0 & 20.0 & 89.0 & 75.0 & 73.0 & 15.0 & 8068.0 & 2273.0 & $\\dots$ \\\\\n",
       "\t16 & 190.0 & 46.0 & 2.0 & 24.0 & 8.0 & 15.0 & 5.0 & 479.0 & 102.0 & $\\dots$ \\\\\n",
       "\t17 & 127.0 & 32.0 & 8.0 & 16.0 & 22.0 & 14.0 & 8.0 & 727.0 & 180.0 & $\\dots$ \\\\\n",
       "\t18 & 413.0 & 92.0 & 16.0 & 72.0 & 48.0 & 65.0 & 1.0 & 413.0 & 92.0 & $\\dots$ \\\\\n",
       "\t19 & 426.0 & 109.0 & 3.0 & 55.0 & 43.0 & 62.0 & 1.0 & 426.0 & 109.0 & $\\dots$ \\\\\n",
       "\t20 & 472.0 & 116.0 & 16.0 & 60.0 & 62.0 & 74.0 & 6.0 & 1924.0 & 489.0 & $\\dots$ \\\\\n",
       "\t21 & 629.0 & 168.0 & 18.0 & 73.0 & 102.0 & 40.0 & 18.0 & 8424.0 & 2464.0 & $\\dots$ \\\\\n",
       "\t22 & 587.0 & 163.0 & 4.0 & 92.0 & 51.0 & 70.0 & 6.0 & 2695.0 & 747.0 & $\\dots$ \\\\\n",
       "\t23 & 324.0 & 73.0 & 4.0 & 32.0 & 18.0 & 22.0 & 7.0 & 1931.0 & 491.0 & $\\dots$ \\\\\n",
       "\t24 & 474.0 & 129.0 & 10.0 & 50.0 & 56.0 & 40.0 & 10.0 & 2331.0 & 604.0 & $\\dots$ \\\\\n",
       "\t25 & 550.0 & 152.0 & 6.0 & 92.0 & 37.0 & 81.0 & 5.0 & 2308.0 & 633.0 & $\\dots$ \\\\\n",
       "\t26 & 513.0 & 137.0 & 20.0 & 90.0 & 95.0 & 90.0 & 14.0 & 5201.0 & 1382.0 & $\\dots$ \\\\\n",
       "\t27 & 419.0 & 108.0 & 6.0 & 55.0 & 36.0 & 22.0 & 3.0 & 591.0 & 149.0 & $\\dots$ \\\\\n",
       "\t28 & 583.0 & 168.0 & 17.0 & 83.0 & 80.0 & 56.0 & 5.0 & 1646.0 & 452.0 & $\\dots$ \\\\\n",
       "\t29 & 204.0 & 49.0 & 6.0 & 23.0 & 25.0 & 12.0 & 7.0 & 1309.0 & 308.0 & $\\dots$ \\\\\n",
       "\t30 & 379.0 & 106.0 & 10.0 & 38.0 & 60.0 & 30.0 & 14.0 & 6207.0 & 1906.0 & $\\dots$ \\\\\n",
       "\t$\\dots$ & $\\dots$ & $\\dots$ & $\\dots$ & $\\dots$ & $\\dots$ & $\\dots$ & $\\dots$ & $\\dots$ & $\\dots$ &  \\\\\n",
       "\\end{tabular}\n"
      ],
      "text/plain": [
       "\u001b[1m263×23 DataFrame\u001b[0m\n",
       "\u001b[1m Row \u001b[0m│\u001b[1m AtBat   \u001b[0m\u001b[1m Hits    \u001b[0m\u001b[1m HmRun   \u001b[0m\u001b[1m Runs    \u001b[0m\u001b[1m RBI     \u001b[0m\u001b[1m Walks   \u001b[0m\u001b[1m Years   \u001b[0m\u001b[1m CAtBat  \u001b[0m\u001b[1m\u001b[0m ⋯\n",
       "     │\u001b[90m Float64 \u001b[0m\u001b[90m Float64 \u001b[0m\u001b[90m Float64 \u001b[0m\u001b[90m Float64 \u001b[0m\u001b[90m Float64 \u001b[0m\u001b[90m Float64 \u001b[0m\u001b[90m Float64 \u001b[0m\u001b[90m Float64 \u001b[0m\u001b[90m\u001b[0m ⋯\n",
       "─────┼──────────────────────────────────────────────────────────────────────────\n",
       "   1 │   315.0     81.0      7.0     24.0     38.0     39.0     14.0   3449.0  ⋯\n",
       "   2 │   479.0    130.0     18.0     66.0     72.0     76.0      3.0   1624.0\n",
       "   3 │   496.0    141.0     20.0     65.0     78.0     37.0     11.0   5628.0\n",
       "   4 │   321.0     87.0     10.0     39.0     42.0     30.0      2.0    396.0\n",
       "   5 │   594.0    169.0      4.0     74.0     51.0     35.0     11.0   4408.0  ⋯\n",
       "   6 │   185.0     37.0      1.0     23.0      8.0     21.0      2.0    214.0\n",
       "   7 │   298.0     73.0      0.0     24.0     24.0      7.0      3.0    509.0\n",
       "   8 │   323.0     81.0      6.0     26.0     32.0      8.0      2.0    341.0\n",
       "   9 │   401.0     92.0     17.0     49.0     66.0     65.0     13.0   5206.0  ⋯\n",
       "  10 │   574.0    159.0     21.0    107.0     75.0     59.0     10.0   4631.0\n",
       "  11 │   202.0     53.0      4.0     31.0     26.0     27.0      9.0   1876.0\n",
       "  ⋮  │    ⋮        ⋮        ⋮        ⋮        ⋮        ⋮        ⋮        ⋮     ⋱\n",
       " 254 │   360.0     81.0      5.0     37.0     44.0     37.0      7.0   2268.0\n",
       " 255 │   387.0    124.0      1.0     67.0     27.0     36.0      7.0   1775.0  ⋯\n",
       " 256 │   580.0    207.0      8.0    107.0     71.0    105.0      5.0   2778.0\n",
       " 257 │   408.0    117.0     11.0     66.0     41.0     34.0      1.0    408.0\n",
       " 258 │   593.0    172.0     22.0     82.0    100.0     57.0      1.0    593.0\n",
       " 259 │   497.0    127.0      7.0     65.0     48.0     37.0      5.0   2703.0  ⋯\n",
       " 260 │   492.0    136.0      5.0     76.0     50.0     94.0     12.0   5511.0\n",
       " 261 │   475.0    126.0      3.0     61.0     43.0     52.0      6.0   1700.0\n",
       " 262 │   573.0    144.0      9.0     85.0     60.0     78.0      8.0   3198.0\n",
       " 263 │   631.0    170.0      9.0     77.0     44.0     31.0     11.0   4908.0  ⋯\n",
       "\u001b[36m                                                 15 columns and 242 rows omitted\u001b[0m"
      ]
     },
     "execution_count": 115,
     "metadata": {},
     "output_type": "execute_result"
    }
   ],
   "source": [
    "Hitters2 = hcat(X, Hitters.Salary)"
   ]
  },
  {
   "cell_type": "markdown",
   "metadata": {},
   "source": [
    "3.3 Haz una regresión OSL y predice el salario de los Hitters usando todas las características del dataset y proporciona intervalos de confianza bootstrap"
   ]
  },
  {
   "cell_type": "code",
   "execution_count": 168,
   "metadata": {},
   "outputs": [
    {
     "ename": "LoadError",
     "evalue": "LoadError: ArgumentError: interpolation with $ not supported in @formula.  Use @eval @formula(...) instead.\nin expression starting at In[168]:7",
     "output_type": "error",
     "traceback": [
      "LoadError: ArgumentError: interpolation with $ not supported in @formula.  Use @eval @formula(...) instead.\nin expression starting at In[168]:7",
      "",
      "Stacktrace:",
      "  [1] catch_dollar",
      "    @ C:\\Users\\sophi\\.julia\\packages\\StatsModels\\mPD8T\\src\\formula.jl:20 [inlined]",
      "  [2] parse!(ex::Expr, protected::Bool)",
      "    @ StatsModels C:\\Users\\sophi\\.julia\\packages\\StatsModels\\mPD8T\\src\\formula.jl:67",
      "  [3] _broadcast_getindex_evalf",
      "    @ .\\broadcast.jl:709 [inlined]",
      "  [4] _broadcast_getindex",
      "    @ .\\broadcast.jl:682 [inlined]",
      "  [5] getindex",
      "    @ .\\broadcast.jl:636 [inlined]",
      "  [6] macro expansion",
      "    @ .\\broadcast.jl:1004 [inlined]",
      "  [7] macro expansion",
      "    @ .\\simdloop.jl:77 [inlined]",
      "  [8] copyto!",
      "    @ .\\broadcast.jl:1003 [inlined]",
      "  [9] copyto!",
      "    @ .\\broadcast.jl:956 [inlined]",
      " [10] materialize!",
      "    @ .\\broadcast.jl:914 [inlined]",
      " [11] materialize!",
      "    @ .\\broadcast.jl:911 [inlined]",
      " [12] parse!(ex::Expr, protected::Bool)",
      "    @ StatsModels C:\\Users\\sophi\\.julia\\packages\\StatsModels\\mPD8T\\src\\formula.jl:72",
      " [13] parse!(ex::Expr)",
      "    @ StatsModels C:\\Users\\sophi\\.julia\\packages\\StatsModels\\mPD8T\\src\\formula.jl:67",
      " [14] var\"@formula\"(__source__::LineNumberNode, __module__::Module, ex::Any)",
      "    @ StatsModels C:\\Users\\sophi\\.julia\\packages\\StatsModels\\mPD8T\\src\\formula.jl:63"
     ]
    }
   ],
   "source": [
    "using StatsModels\n",
    "using GLM\n",
    "\n",
    "X_vars = Symbol.(names(X))\n",
    "Salary = Hitters.Salary\n",
    "\n",
    "model_formula = @formula(Salary ~ $(join(X_vars, \" + \")))"
   ]
  },
  {
   "cell_type": "code",
   "execution_count": 48,
   "metadata": {},
   "outputs": [
    {
     "name": "stdout",
     "output_type": "stream",
     "text": [
      "Creamos el vector de B_hat_boots:\n"
     ]
    },
    {
     "data": {
      "text/plain": [
       "10000×263 Matrix{Float64}:\n",
       " 0.339244   0.773537   0.0808173  …  0.518323   0.53725   0.999601\n",
       " 0.383738   0.192218   0.743327      0.729472   0.316701  0.965987\n",
       " 0.689514   0.539809   0.524315      0.518689   0.566412  0.0400008\n",
       " 0.530946   0.0122695  0.83262       0.163464   0.120104  0.261369\n",
       " 0.48237    0.307493   0.91917       0.146891   0.346369  0.828299\n",
       " 0.252274   0.372526   0.350457   …  0.180362   0.411003  0.57587\n",
       " 0.333878   0.791699   0.222861      0.974897   0.789758  0.735722\n",
       " 0.441965   0.0591824  0.55588       0.21989    0.519456  0.251246\n",
       " 0.467006   0.509064   0.907581      0.667842   0.122263  0.560039\n",
       " 0.223126   0.1578     0.371354      0.986012   0.983256  0.444088\n",
       " 0.480698   0.0616754  0.0124986  …  0.670657   0.14321   0.769541\n",
       " 0.392418   0.24853    0.330743      0.0932704  0.430037  0.0202539\n",
       " 0.899171   0.690329   0.526703      0.431965   0.639213  0.176557\n",
       " ⋮                                ⋱  ⋮                    \n",
       " 0.630512   0.906461   0.0761811     0.210908   0.543357  0.929342\n",
       " 0.518425   0.407164   0.301094      0.179737   0.590172  0.129468\n",
       " 0.967352   0.677292   0.512727   …  0.736851   0.463313  0.896471\n",
       " 0.575756   0.800982   0.252028      0.845853   0.99906   0.594367\n",
       " 0.273654   0.423919   0.0845877     0.290968   0.180682  0.588827\n",
       " 0.0176909  0.583726   0.474965      0.439962   0.23017   0.376195\n",
       " 0.648635   0.260075   0.105032      0.968191   0.943093  0.790556\n",
       " 0.981831   0.91311    0.272742   …  0.8104     0.553317  0.00681749\n",
       " 0.830766   0.709332   0.433396      0.309846   0.882409  0.930467\n",
       " 0.563152   0.864312   0.66024       0.383762   0.755743  0.0205741\n",
       " 0.0751968  0.245031   0.310929      0.927726   0.766619  0.91265\n",
       " 0.628344   0.456615   0.649642      0.0278889  0.416321  0.0942943"
      ]
     },
     "execution_count": 48,
     "metadata": {},
     "output_type": "execute_result"
    }
   ],
   "source": [
    "using Statistics\n",
    "\n",
    "N = nrow(Hitters)\n",
    "Boot_reps = 10000\n",
    "Y_hat_bootstrap = zeros(Boot_reps)\n",
    "\n",
    "for i in 1:Boot_reps\n",
    "    Y_bootstrap = rand(Boot_reps, N)\n",
    "    Y_hat_bootstrap[i] = mean(Y_bootstrap)\n",
    "end\n",
    "\n",
    "println(\"Creamos el vector de B_hat_boots:\")\n",
    "B_hat_boot = rand(Boot_reps, N)"
   ]
  },
  {
   "cell_type": "code",
   "execution_count": 165,
   "metadata": {},
   "outputs": [
    {
     "ename": "LoadError",
     "evalue": "MethodError: no method matching quantile!(::Matrix{Float64}, ::Float64; sorted::Bool, alpha::Float64, beta::Float64)\n\n\u001b[0mClosest candidates are:\n\u001b[0m  quantile!(\u001b[91m::AbstractVector\u001b[39m, ::Real; sorted, alpha, beta)\n\u001b[0m\u001b[90m   @\u001b[39m \u001b[32mStatistics\u001b[39m \u001b[90mD:\\Riot Games\\Julia-1.10.5\\share\\julia\\stdlib\\v1.10\\Statistics\\src\\\u001b[39m\u001b[90m\u001b[4mStatistics.jl:976\u001b[24m\u001b[39m\n\u001b[0m  quantile!(::AbstractArray, \u001b[91m::AbstractVector\u001b[39m, \u001b[91m::AbstractArray\u001b[39m; sorted, alpha, beta)\n\u001b[0m\u001b[90m   @\u001b[39m \u001b[32mStatistics\u001b[39m \u001b[90mD:\\Riot Games\\Julia-1.10.5\\share\\julia\\stdlib\\v1.10\\Statistics\\src\\\u001b[39m\u001b[90m\u001b[4mStatistics.jl:943\u001b[24m\u001b[39m\n\u001b[0m  quantile!(::AbstractArray, \u001b[91m::AbstractArray\u001b[39m, \u001b[91m::Union{Tuple{Vararg{Real}}, AbstractArray}\u001b[39m; sorted, alpha, beta)\n\u001b[0m\u001b[90m   @\u001b[39m \u001b[32mStatistics\u001b[39m \u001b[90mD:\\Riot Games\\Julia-1.10.5\\share\\julia\\stdlib\\v1.10\\Statistics\\src\\\u001b[39m\u001b[90m\u001b[4mStatistics.jl:972\u001b[24m\u001b[39m\n\u001b[0m  ...\n",
     "output_type": "error",
     "traceback": [
      "MethodError: no method matching quantile!(::Matrix{Float64}, ::Float64; sorted::Bool, alpha::Float64, beta::Float64)\n\n\u001b[0mClosest candidates are:\n\u001b[0m  quantile!(\u001b[91m::AbstractVector\u001b[39m, ::Real; sorted, alpha, beta)\n\u001b[0m\u001b[90m   @\u001b[39m \u001b[32mStatistics\u001b[39m \u001b[90mD:\\Riot Games\\Julia-1.10.5\\share\\julia\\stdlib\\v1.10\\Statistics\\src\\\u001b[39m\u001b[90m\u001b[4mStatistics.jl:976\u001b[24m\u001b[39m\n\u001b[0m  quantile!(::AbstractArray, \u001b[91m::AbstractVector\u001b[39m, \u001b[91m::AbstractArray\u001b[39m; sorted, alpha, beta)\n\u001b[0m\u001b[90m   @\u001b[39m \u001b[32mStatistics\u001b[39m \u001b[90mD:\\Riot Games\\Julia-1.10.5\\share\\julia\\stdlib\\v1.10\\Statistics\\src\\\u001b[39m\u001b[90m\u001b[4mStatistics.jl:943\u001b[24m\u001b[39m\n\u001b[0m  quantile!(::AbstractArray, \u001b[91m::AbstractArray\u001b[39m, \u001b[91m::Union{Tuple{Vararg{Real}}, AbstractArray}\u001b[39m; sorted, alpha, beta)\n\u001b[0m\u001b[90m   @\u001b[39m \u001b[32mStatistics\u001b[39m \u001b[90mD:\\Riot Games\\Julia-1.10.5\\share\\julia\\stdlib\\v1.10\\Statistics\\src\\\u001b[39m\u001b[90m\u001b[4mStatistics.jl:972\u001b[24m\u001b[39m\n\u001b[0m  ...\n",
      "",
      "Stacktrace:",
      " [1] quantile(itr::Matrix{Float64}, p::Float64; sorted::Bool, alpha::Float64, beta::Float64)",
      "   @ Statistics D:\\Riot Games\\Julia-1.10.5\\share\\julia\\stdlib\\v1.10\\Statistics\\src\\Statistics.jl:1086",
      " [2] top-level scope",
      "   @ In[165]:1"
     ]
    }
   ],
   "source": [
    "Lower_bound_boots = quantile(B_hat_boot, 0.025)\n",
    "Upper_bound_boots = quantile(B_hat_boot, 0.975)\n",
    "println(\"Calculamos\")\n",
    "println(Lower_bound_boots)\n",
    "println(Upper_bound_boots)"
   ]
  },
  {
   "cell_type": "code",
   "execution_count": 55,
   "metadata": {},
   "outputs": [
    {
     "name": "stdout",
     "output_type": "stream",
     "text": [
      "Calculamos la media de la raíz del error fuera del modelo:\n"
     ]
    },
    {
     "data": {
      "text/plain": [
       "214.76305971641648"
      ]
     },
     "execution_count": 55,
     "metadata": {},
     "output_type": "execute_result"
    }
   ],
   "source": [
    "println(\"Calculamos la media de la raíz del error fuera del modelo:\")\n",
    "MSE = sqrt(mean((Y[test] .- predictions).^2))"
   ]
  },
  {
   "cell_type": "markdown",
   "metadata": {},
   "source": [
    "3.4 Haz una regresión del árbol de decisiones usando todas las características del set."
   ]
  },
  {
   "cell_type": "code",
   "execution_count": 163,
   "metadata": {},
   "outputs": [
    {
     "name": "stderr",
     "output_type": "stream",
     "text": [
      "\u001b[36m\u001b[1m[ \u001b[22m\u001b[39m\u001b[36m\u001b[1mInfo: \u001b[22m\u001b[39mTraining machine(DecisionTreeRegressor(max_depth = -1, …), …).\n"
     ]
    }
   ],
   "source": [
    "DecisionTreeRegressor = (@load DecisionTreeRegressor pkg=DecisionTree verbosity=0)\n",
    "tree_model = DecisionTreeRegressor()\n",
    "tree_machine = machine(tree_model, X[train, :], Y[train])\n",
    "fit!(tree_machine);"
   ]
  },
  {
   "cell_type": "code",
   "execution_count": 171,
   "metadata": {},
   "outputs": [
    {
     "name": "stderr",
     "output_type": "stream",
     "text": [
      "\u001b[36m\u001b[1m[ \u001b[22m\u001b[39m\u001b[36m\u001b[1mInfo: \u001b[22m\u001b[39mTraining machine(DecisionTreeRegressor(max_depth = -1, …), …).\n"
     ]
    }
   ],
   "source": [
    "tree_model_prune = DecisionTreeRegressor(post_prune = true, merge_purity_threshold = 0.09)\n",
    "tree_machine_prune = machine(tree_model_prune, X[train, :], Y[train])\n",
    "fit!(tree_machine_prune);"
   ]
  },
  {
   "cell_type": "code",
   "execution_count": 172,
   "metadata": {},
   "outputs": [
    {
     "name": "stderr",
     "output_type": "stream",
     "text": [
      "\u001b[33mEvaluating over 3 folds: 100%[=========================] Time: 0:00:04\u001b[39m\n"
     ]
    }
   ],
   "source": [
    "thresholds = exp.(collect(-10:0.01:0))\n",
    "rmses = []\n",
    "\n",
    "for threshold in thresholds\n",
    "        tree_model_prune.merge_purity_threshold = threshold\n",
    "        evaluation = evaluate!(\n",
    "                tree_machine_prune,\n",
    "                resampling = CV(nfolds = 3, shuffle = true, rng = 123),\n",
    "                measure = rmse\n",
    "        )\n",
    "        rmses = [rmses; evaluation.measurement]\n",
    "end"
   ]
  },
  {
   "cell_type": "code",
   "execution_count": null,
   "metadata": {},
   "outputs": [],
   "source": []
  }
 ],
 "metadata": {
  "kernelspec": {
   "display_name": "Julia 1.10.5",
   "language": "julia",
   "name": "julia-1.10"
  },
  "language_info": {
   "file_extension": ".jl",
   "mimetype": "application/julia",
   "name": "julia",
   "version": "1.10.5"
  }
 },
 "nbformat": 4,
 "nbformat_minor": 2
}
