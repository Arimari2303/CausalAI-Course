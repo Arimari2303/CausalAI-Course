{
 "cells": [
  {
   "cell_type": "markdown",
   "metadata": {},
   "source": [
    "# Part 1: Double Lasso and DAGs (20 points)"
   ]
  },
  {
   "cell_type": "markdown",
   "metadata": {},
   "source": [
    "1. Consider the US census data from the year 2015 to analyse the effect of college graduate (clg) status\n",
    "and it’s interaction effects with gender (sex), location (mw, so,we, ne) and both on wage jointly. All\n",
    "other variables denote some other socio-economic characteristics, e.g. marital status, occupation, and\n",
    "experience."
   ]
  },
  {
   "cell_type": "code",
   "execution_count": null,
   "metadata": {},
   "outputs": [],
   "source": []
  },
  {
   "cell_type": "code",
   "execution_count": null,
   "metadata": {},
   "outputs": [],
   "source": [
    "using CSV, DataFrames, GLM, StatsModels, Lasso\n",
    "\n",
    "# Cargar el archivo CSV\n",
    "file_path = \"/mnt/data/wage2015_subsample_inference.csv\"\n",
    "data = CSV.read(file_path, DataFrame)\n",
    "\n",
    "# Transformar variables categóricas a dummies (suponiendo que 'sex' y 'location' son categóricas)\n",
    "data_transformed = DataFrames.transform(data, :sex => categorical => x -> ifelse(x == \"male\", 1, 0), renamecols=false)\n",
    "\n",
    "# Si existen más variables categóricas, aplicamos el mismo procedimiento (deberás ajustar según las variables específicas)\n",
    "# Aquí generaremos las interacciones binarias.\n",
    "using DataFramesMeta\n",
    "interaction_data = @linq data_transformed |> select(_all_, :treat => \"\"\"\n",
    "\n"
   ]
  },
  {
   "cell_type": "markdown",
   "metadata": {},
   "source": [
    "- Generate the dataset with all the two-way interactions between variables. Make sure that the categorical variables are transformed to dummies properly. Also, note that the resulting dataset contains the treatment and it’s interactions with the other variables of interest, so you don’t need to generate them separately. (2 pts)"
   ]
  },
  {
   "cell_type": "markdown",
   "metadata": {},
   "source": [
    "- Use the double lasso technique to find the effect of the treatment and it’s relevant interactions on the wage. To tune the penalization parameter in the lasso step, cross-validate it. (4 pts)"
   ]
  },
  {
   "cell_type": "markdown",
   "metadata": {},
   "source": [
    "- Report a summary of the estimation of the parameters of interest. (2 pts)"
   ]
  },
  {
   "cell_type": "markdown",
   "metadata": {},
   "source": [
    "- Interpret your results. In which group does the college graduate status has more impact over the wage? (2 pts)"
   ]
  },
  {
   "cell_type": "markdown",
   "metadata": {},
   "source": [
    "2. For the following examples, draw a coherent Directed Acyclic Graph and indicate the confounders, colliders and the proper controls (if they exist)."
   ]
  },
  {
   "cell_type": "markdown",
   "metadata": {},
   "source": [
    "- You are trying to study the effect of youth smoking on lung function. Your dataset contains the following variables : (5 pts)\n",
    "\n",
    "i. Individual smoking behavior (Treatment)\n",
    "ii. Forced respiratory volume (Outcome)\n",
    "iii. Age\n",
    "iv. Height\n",
    "v. Sex"
   ]
  },
  {
   "cell_type": "markdown",
   "metadata": {},
   "source": [
    "- You are trying to study the effect of breast feeding in the number of infections a baby is likely to have. Your dataset contains the following variables : (5 pts)\n",
    "\n",
    "i. Breast fed (Treatment)\n",
    "ii. Number of infections of the baby (Outcome)\n",
    "iii. Marital status\n",
    "iv. Family income\n",
    "v. Education\n",
    "vi. Number of children in the house\n",
    "vii. Childcare outside the home"
   ]
  }
 ],
 "metadata": {
  "kernelspec": {
   "display_name": "Julia 1.11.1",
   "language": "julia",
   "name": "julia-1.11"
  },
  "language_info": {
   "file_extension": ".jl",
   "mimetype": "application/julia",
   "name": "julia",
   "version": "1.11.1"
  }
 },
 "nbformat": 4,
 "nbformat_minor": 2
}
