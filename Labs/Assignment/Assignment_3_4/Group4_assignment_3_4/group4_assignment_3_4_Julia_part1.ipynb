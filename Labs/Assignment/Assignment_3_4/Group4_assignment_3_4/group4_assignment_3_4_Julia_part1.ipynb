{
 "cells": [
  {
   "cell_type": "markdown",
   "metadata": {},
   "source": [
    "# Part 1: Double Lasso and DAGs (20 points)"
   ]
  },
  {
   "cell_type": "code",
   "execution_count": 1,
   "metadata": {},
   "outputs": [
    {
     "name": "stderr",
     "output_type": "stream",
     "text": [
      "\u001b[32m\u001b[1m   Resolving\u001b[22m\u001b[39m package versions...\n",
      "\u001b[32m\u001b[1m  No Changes\u001b[22m\u001b[39m to `C:\\Users\\KARL\\.julia\\environments\\v1.11\\Project.toml`\n",
      "\u001b[32m\u001b[1m  No Changes\u001b[22m\u001b[39m to `C:\\Users\\KARL\\.julia\\environments\\v1.11\\Manifest.toml`\n"
     ]
    }
   ],
   "source": [
    "using Pkg\n",
    "Pkg.add([\"CSV\", \"DataFrames\", \"GLM\", \"MLJLinearModels\", \"MLJBase\"])"
   ]
  },
  {
   "cell_type": "code",
   "execution_count": 2,
   "metadata": {},
   "outputs": [],
   "source": [
    "using CSV\n",
    "using DataFrames\n",
    "using GLM\n",
    "using MLJLinearModels\n",
    "using MLJBase"
   ]
  },
  {
   "cell_type": "code",
   "execution_count": 3,
   "metadata": {},
   "outputs": [
    {
     "data": {
      "text/html": [
       "<div><div style = \"float: left;\"><span>5150×21 DataFrame</span></div><div style = \"float: right;\"><span style = \"font-style: italic;\">5125 rows omitted</span></div><div style = \"clear: both;\"></div></div><div class = \"data-frame\" style = \"overflow-x: scroll;\"><table class = \"data-frame\" style = \"margin-bottom: 6px;\"><thead><tr class = \"header\"><th class = \"rowNumber\" style = \"font-weight: bold; text-align: right;\">Row</th><th style = \"text-align: left;\">rownames</th><th style = \"text-align: left;\">wage</th><th style = \"text-align: left;\">lwage</th><th style = \"text-align: left;\">sex</th><th style = \"text-align: left;\">shs</th><th style = \"text-align: left;\">hsg</th><th style = \"text-align: left;\">scl</th><th style = \"text-align: left;\">clg</th><th style = \"text-align: left;\">ad</th><th style = \"text-align: left;\">mw</th><th style = \"text-align: left;\">so</th><th style = \"text-align: left;\">we</th><th style = \"text-align: left;\">ne</th><th style = \"text-align: left;\">exp1</th><th style = \"text-align: left;\">exp2</th><th style = \"text-align: left;\">exp3</th><th style = \"text-align: left;\">exp4</th><th style = \"text-align: left;\">occ</th><th style = \"text-align: left;\">occ2</th><th style = \"text-align: left;\">ind</th><th style = \"text-align: left;\">ind2</th></tr><tr class = \"subheader headerLastRow\"><th class = \"rowNumber\" style = \"font-weight: bold; text-align: right;\"></th><th title = \"Int64\" style = \"text-align: left;\">Int64</th><th title = \"Float64\" style = \"text-align: left;\">Float64</th><th title = \"Float64\" style = \"text-align: left;\">Float64</th><th title = \"Float64\" style = \"text-align: left;\">Float64</th><th title = \"Float64\" style = \"text-align: left;\">Float64</th><th title = \"Float64\" style = \"text-align: left;\">Float64</th><th title = \"Float64\" style = \"text-align: left;\">Float64</th><th title = \"Float64\" style = \"text-align: left;\">Float64</th><th title = \"Float64\" style = \"text-align: left;\">Float64</th><th title = \"Float64\" style = \"text-align: left;\">Float64</th><th title = \"Float64\" style = \"text-align: left;\">Float64</th><th title = \"Float64\" style = \"text-align: left;\">Float64</th><th title = \"Float64\" style = \"text-align: left;\">Float64</th><th title = \"Float64\" style = \"text-align: left;\">Float64</th><th title = \"Float64\" style = \"text-align: left;\">Float64</th><th title = \"Float64\" style = \"text-align: left;\">Float64</th><th title = \"Float64\" style = \"text-align: left;\">Float64</th><th title = \"Float64\" style = \"text-align: left;\">Float64</th><th title = \"Int64\" style = \"text-align: left;\">Int64</th><th title = \"Float64\" style = \"text-align: left;\">Float64</th><th title = \"Int64\" style = \"text-align: left;\">Int64</th></tr></thead><tbody><tr><td class = \"rowNumber\" style = \"font-weight: bold; text-align: right;\">1</td><td style = \"text-align: right;\">10</td><td style = \"text-align: right;\">9.61538</td><td style = \"text-align: right;\">2.26336</td><td style = \"text-align: right;\">1.0</td><td style = \"text-align: right;\">0.0</td><td style = \"text-align: right;\">0.0</td><td style = \"text-align: right;\">0.0</td><td style = \"text-align: right;\">1.0</td><td style = \"text-align: right;\">0.0</td><td style = \"text-align: right;\">0.0</td><td style = \"text-align: right;\">0.0</td><td style = \"text-align: right;\">0.0</td><td style = \"text-align: right;\">1.0</td><td style = \"text-align: right;\">7.0</td><td style = \"text-align: right;\">0.49</td><td style = \"text-align: right;\">0.343</td><td style = \"text-align: right;\">0.2401</td><td style = \"text-align: right;\">3600.0</td><td style = \"text-align: right;\">11</td><td style = \"text-align: right;\">8370.0</td><td style = \"text-align: right;\">18</td></tr><tr><td class = \"rowNumber\" style = \"font-weight: bold; text-align: right;\">2</td><td style = \"text-align: right;\">12</td><td style = \"text-align: right;\">48.0769</td><td style = \"text-align: right;\">3.8728</td><td style = \"text-align: right;\">0.0</td><td style = \"text-align: right;\">0.0</td><td style = \"text-align: right;\">0.0</td><td style = \"text-align: right;\">0.0</td><td style = \"text-align: right;\">1.0</td><td style = \"text-align: right;\">0.0</td><td style = \"text-align: right;\">0.0</td><td style = \"text-align: right;\">0.0</td><td style = \"text-align: right;\">0.0</td><td style = \"text-align: right;\">1.0</td><td style = \"text-align: right;\">31.0</td><td style = \"text-align: right;\">9.61</td><td style = \"text-align: right;\">29.791</td><td style = \"text-align: right;\">92.3521</td><td style = \"text-align: right;\">3050.0</td><td style = \"text-align: right;\">10</td><td style = \"text-align: right;\">5070.0</td><td style = \"text-align: right;\">9</td></tr><tr><td class = \"rowNumber\" style = \"font-weight: bold; text-align: right;\">3</td><td style = \"text-align: right;\">15</td><td style = \"text-align: right;\">11.0577</td><td style = \"text-align: right;\">2.40313</td><td style = \"text-align: right;\">0.0</td><td style = \"text-align: right;\">0.0</td><td style = \"text-align: right;\">1.0</td><td style = \"text-align: right;\">0.0</td><td style = \"text-align: right;\">0.0</td><td style = \"text-align: right;\">0.0</td><td style = \"text-align: right;\">0.0</td><td style = \"text-align: right;\">0.0</td><td style = \"text-align: right;\">0.0</td><td style = \"text-align: right;\">1.0</td><td style = \"text-align: right;\">18.0</td><td style = \"text-align: right;\">3.24</td><td style = \"text-align: right;\">5.832</td><td style = \"text-align: right;\">10.4976</td><td style = \"text-align: right;\">6260.0</td><td style = \"text-align: right;\">19</td><td style = \"text-align: right;\">770.0</td><td style = \"text-align: right;\">4</td></tr><tr><td class = \"rowNumber\" style = \"font-weight: bold; text-align: right;\">4</td><td style = \"text-align: right;\">18</td><td style = \"text-align: right;\">13.9423</td><td style = \"text-align: right;\">2.63493</td><td style = \"text-align: right;\">1.0</td><td style = \"text-align: right;\">0.0</td><td style = \"text-align: right;\">0.0</td><td style = \"text-align: right;\">0.0</td><td style = \"text-align: right;\">0.0</td><td style = \"text-align: right;\">1.0</td><td style = \"text-align: right;\">0.0</td><td style = \"text-align: right;\">0.0</td><td style = \"text-align: right;\">0.0</td><td style = \"text-align: right;\">1.0</td><td style = \"text-align: right;\">25.0</td><td style = \"text-align: right;\">6.25</td><td style = \"text-align: right;\">15.625</td><td style = \"text-align: right;\">39.0625</td><td style = \"text-align: right;\">420.0</td><td style = \"text-align: right;\">1</td><td style = \"text-align: right;\">6990.0</td><td style = \"text-align: right;\">12</td></tr><tr><td class = \"rowNumber\" style = \"font-weight: bold; text-align: right;\">5</td><td style = \"text-align: right;\">19</td><td style = \"text-align: right;\">28.8462</td><td style = \"text-align: right;\">3.36198</td><td style = \"text-align: right;\">1.0</td><td style = \"text-align: right;\">0.0</td><td style = \"text-align: right;\">0.0</td><td style = \"text-align: right;\">0.0</td><td style = \"text-align: right;\">1.0</td><td style = \"text-align: right;\">0.0</td><td style = \"text-align: right;\">0.0</td><td style = \"text-align: right;\">0.0</td><td style = \"text-align: right;\">0.0</td><td style = \"text-align: right;\">1.0</td><td style = \"text-align: right;\">22.0</td><td style = \"text-align: right;\">4.84</td><td style = \"text-align: right;\">10.648</td><td style = \"text-align: right;\">23.4256</td><td style = \"text-align: right;\">2015.0</td><td style = \"text-align: right;\">6</td><td style = \"text-align: right;\">9470.0</td><td style = \"text-align: right;\">22</td></tr><tr><td class = \"rowNumber\" style = \"font-weight: bold; text-align: right;\">6</td><td style = \"text-align: right;\">30</td><td style = \"text-align: right;\">11.7308</td><td style = \"text-align: right;\">2.46222</td><td style = \"text-align: right;\">1.0</td><td style = \"text-align: right;\">0.0</td><td style = \"text-align: right;\">0.0</td><td style = \"text-align: right;\">0.0</td><td style = \"text-align: right;\">1.0</td><td style = \"text-align: right;\">0.0</td><td style = \"text-align: right;\">0.0</td><td style = \"text-align: right;\">0.0</td><td style = \"text-align: right;\">0.0</td><td style = \"text-align: right;\">1.0</td><td style = \"text-align: right;\">1.0</td><td style = \"text-align: right;\">0.01</td><td style = \"text-align: right;\">0.001</td><td style = \"text-align: right;\">0.0001</td><td style = \"text-align: right;\">1650.0</td><td style = \"text-align: right;\">5</td><td style = \"text-align: right;\">7460.0</td><td style = \"text-align: right;\">14</td></tr><tr><td class = \"rowNumber\" style = \"font-weight: bold; text-align: right;\">7</td><td style = \"text-align: right;\">43</td><td style = \"text-align: right;\">19.2308</td><td style = \"text-align: right;\">2.95651</td><td style = \"text-align: right;\">1.0</td><td style = \"text-align: right;\">0.0</td><td style = \"text-align: right;\">1.0</td><td style = \"text-align: right;\">0.0</td><td style = \"text-align: right;\">0.0</td><td style = \"text-align: right;\">0.0</td><td style = \"text-align: right;\">0.0</td><td style = \"text-align: right;\">0.0</td><td style = \"text-align: right;\">0.0</td><td style = \"text-align: right;\">1.0</td><td style = \"text-align: right;\">42.0</td><td style = \"text-align: right;\">17.64</td><td style = \"text-align: right;\">74.088</td><td style = \"text-align: right;\">311.17</td><td style = \"text-align: right;\">5120.0</td><td style = \"text-align: right;\">17</td><td style = \"text-align: right;\">7280.0</td><td style = \"text-align: right;\">14</td></tr><tr><td class = \"rowNumber\" style = \"font-weight: bold; text-align: right;\">8</td><td style = \"text-align: right;\">44</td><td style = \"text-align: right;\">19.2308</td><td style = \"text-align: right;\">2.95651</td><td style = \"text-align: right;\">0.0</td><td style = \"text-align: right;\">0.0</td><td style = \"text-align: right;\">1.0</td><td style = \"text-align: right;\">0.0</td><td style = \"text-align: right;\">0.0</td><td style = \"text-align: right;\">0.0</td><td style = \"text-align: right;\">0.0</td><td style = \"text-align: right;\">0.0</td><td style = \"text-align: right;\">0.0</td><td style = \"text-align: right;\">1.0</td><td style = \"text-align: right;\">37.0</td><td style = \"text-align: right;\">13.69</td><td style = \"text-align: right;\">50.653</td><td style = \"text-align: right;\">187.416</td><td style = \"text-align: right;\">5240.0</td><td style = \"text-align: right;\">17</td><td style = \"text-align: right;\">5680.0</td><td style = \"text-align: right;\">9</td></tr><tr><td class = \"rowNumber\" style = \"font-weight: bold; text-align: right;\">9</td><td style = \"text-align: right;\">47</td><td style = \"text-align: right;\">12.0</td><td style = \"text-align: right;\">2.48491</td><td style = \"text-align: right;\">1.0</td><td style = \"text-align: right;\">0.0</td><td style = \"text-align: right;\">1.0</td><td style = \"text-align: right;\">0.0</td><td style = \"text-align: right;\">0.0</td><td style = \"text-align: right;\">0.0</td><td style = \"text-align: right;\">0.0</td><td style = \"text-align: right;\">0.0</td><td style = \"text-align: right;\">0.0</td><td style = \"text-align: right;\">1.0</td><td style = \"text-align: right;\">31.0</td><td style = \"text-align: right;\">9.61</td><td style = \"text-align: right;\">29.791</td><td style = \"text-align: right;\">92.3521</td><td style = \"text-align: right;\">4040.0</td><td style = \"text-align: right;\">13</td><td style = \"text-align: right;\">8590.0</td><td style = \"text-align: right;\">19</td></tr><tr><td class = \"rowNumber\" style = \"font-weight: bold; text-align: right;\">10</td><td style = \"text-align: right;\">71</td><td style = \"text-align: right;\">19.2308</td><td style = \"text-align: right;\">2.95651</td><td style = \"text-align: right;\">1.0</td><td style = \"text-align: right;\">0.0</td><td style = \"text-align: right;\">0.0</td><td style = \"text-align: right;\">0.0</td><td style = \"text-align: right;\">1.0</td><td style = \"text-align: right;\">0.0</td><td style = \"text-align: right;\">0.0</td><td style = \"text-align: right;\">0.0</td><td style = \"text-align: right;\">0.0</td><td style = \"text-align: right;\">1.0</td><td style = \"text-align: right;\">4.0</td><td style = \"text-align: right;\">0.16</td><td style = \"text-align: right;\">0.064</td><td style = \"text-align: right;\">0.0256</td><td style = \"text-align: right;\">3255.0</td><td style = \"text-align: right;\">10</td><td style = \"text-align: right;\">8190.0</td><td style = \"text-align: right;\">18</td></tr><tr><td class = \"rowNumber\" style = \"font-weight: bold; text-align: right;\">11</td><td style = \"text-align: right;\">73</td><td style = \"text-align: right;\">17.3077</td><td style = \"text-align: right;\">2.85115</td><td style = \"text-align: right;\">1.0</td><td style = \"text-align: right;\">0.0</td><td style = \"text-align: right;\">1.0</td><td style = \"text-align: right;\">0.0</td><td style = \"text-align: right;\">0.0</td><td style = \"text-align: right;\">0.0</td><td style = \"text-align: right;\">0.0</td><td style = \"text-align: right;\">0.0</td><td style = \"text-align: right;\">0.0</td><td style = \"text-align: right;\">1.0</td><td style = \"text-align: right;\">7.0</td><td style = \"text-align: right;\">0.49</td><td style = \"text-align: right;\">0.343</td><td style = \"text-align: right;\">0.2401</td><td style = \"text-align: right;\">4020.0</td><td style = \"text-align: right;\">13</td><td style = \"text-align: right;\">8270.0</td><td style = \"text-align: right;\">18</td></tr><tr><td class = \"rowNumber\" style = \"font-weight: bold; text-align: right;\">12</td><td style = \"text-align: right;\">77</td><td style = \"text-align: right;\">12.0192</td><td style = \"text-align: right;\">2.48651</td><td style = \"text-align: right;\">0.0</td><td style = \"text-align: right;\">0.0</td><td style = \"text-align: right;\">1.0</td><td style = \"text-align: right;\">0.0</td><td style = \"text-align: right;\">0.0</td><td style = \"text-align: right;\">0.0</td><td style = \"text-align: right;\">0.0</td><td style = \"text-align: right;\">0.0</td><td style = \"text-align: right;\">0.0</td><td style = \"text-align: right;\">1.0</td><td style = \"text-align: right;\">30.0</td><td style = \"text-align: right;\">9.0</td><td style = \"text-align: right;\">27.0</td><td style = \"text-align: right;\">81.0</td><td style = \"text-align: right;\">4220.0</td><td style = \"text-align: right;\">14</td><td style = \"text-align: right;\">8270.0</td><td style = \"text-align: right;\">18</td></tr><tr><td class = \"rowNumber\" style = \"font-weight: bold; text-align: right;\">13</td><td style = \"text-align: right;\">84</td><td style = \"text-align: right;\">12.0192</td><td style = \"text-align: right;\">2.48651</td><td style = \"text-align: right;\">1.0</td><td style = \"text-align: right;\">0.0</td><td style = \"text-align: right;\">0.0</td><td style = \"text-align: right;\">1.0</td><td style = \"text-align: right;\">0.0</td><td style = \"text-align: right;\">0.0</td><td style = \"text-align: right;\">0.0</td><td style = \"text-align: right;\">0.0</td><td style = \"text-align: right;\">0.0</td><td style = \"text-align: right;\">1.0</td><td style = \"text-align: right;\">5.5</td><td style = \"text-align: right;\">0.3025</td><td style = \"text-align: right;\">0.166375</td><td style = \"text-align: right;\">0.0915062</td><td style = \"text-align: right;\">3600.0</td><td style = \"text-align: right;\">11</td><td style = \"text-align: right;\">8270.0</td><td style = \"text-align: right;\">18</td></tr><tr><td style = \"text-align: right;\">&vellip;</td><td style = \"text-align: right;\">&vellip;</td><td style = \"text-align: right;\">&vellip;</td><td style = \"text-align: right;\">&vellip;</td><td style = \"text-align: right;\">&vellip;</td><td style = \"text-align: right;\">&vellip;</td><td style = \"text-align: right;\">&vellip;</td><td style = \"text-align: right;\">&vellip;</td><td style = \"text-align: right;\">&vellip;</td><td style = \"text-align: right;\">&vellip;</td><td style = \"text-align: right;\">&vellip;</td><td style = \"text-align: right;\">&vellip;</td><td style = \"text-align: right;\">&vellip;</td><td style = \"text-align: right;\">&vellip;</td><td style = \"text-align: right;\">&vellip;</td><td style = \"text-align: right;\">&vellip;</td><td style = \"text-align: right;\">&vellip;</td><td style = \"text-align: right;\">&vellip;</td><td style = \"text-align: right;\">&vellip;</td><td style = \"text-align: right;\">&vellip;</td><td style = \"text-align: right;\">&vellip;</td><td style = \"text-align: right;\">&vellip;</td></tr><tr><td class = \"rowNumber\" style = \"font-weight: bold; text-align: right;\">5139</td><td style = \"text-align: right;\">32591</td><td style = \"text-align: right;\">19.7115</td><td style = \"text-align: right;\">2.9812</td><td style = \"text-align: right;\">1.0</td><td style = \"text-align: right;\">0.0</td><td style = \"text-align: right;\">0.0</td><td style = \"text-align: right;\">0.0</td><td style = \"text-align: right;\">0.0</td><td style = \"text-align: right;\">1.0</td><td style = \"text-align: right;\">0.0</td><td style = \"text-align: right;\">0.0</td><td style = \"text-align: right;\">1.0</td><td style = \"text-align: right;\">0.0</td><td style = \"text-align: right;\">8.0</td><td style = \"text-align: right;\">0.64</td><td style = \"text-align: right;\">0.512</td><td style = \"text-align: right;\">0.4096</td><td style = \"text-align: right;\">2000.0</td><td style = \"text-align: right;\">6</td><td style = \"text-align: right;\">8090.0</td><td style = \"text-align: right;\">18</td></tr><tr><td class = \"rowNumber\" style = \"font-weight: bold; text-align: right;\">5140</td><td style = \"text-align: right;\">32593</td><td style = \"text-align: right;\">21.1538</td><td style = \"text-align: right;\">3.05182</td><td style = \"text-align: right;\">0.0</td><td style = \"text-align: right;\">0.0</td><td style = \"text-align: right;\">0.0</td><td style = \"text-align: right;\">0.0</td><td style = \"text-align: right;\">1.0</td><td style = \"text-align: right;\">0.0</td><td style = \"text-align: right;\">0.0</td><td style = \"text-align: right;\">0.0</td><td style = \"text-align: right;\">1.0</td><td style = \"text-align: right;\">0.0</td><td style = \"text-align: right;\">28.0</td><td style = \"text-align: right;\">7.84</td><td style = \"text-align: right;\">21.952</td><td style = \"text-align: right;\">61.4656</td><td style = \"text-align: right;\">40.0</td><td style = \"text-align: right;\">1</td><td style = \"text-align: right;\">9170.0</td><td style = \"text-align: right;\">21</td></tr><tr><td class = \"rowNumber\" style = \"font-weight: bold; text-align: right;\">5141</td><td style = \"text-align: right;\">32596</td><td style = \"text-align: right;\">45.5466</td><td style = \"text-align: right;\">3.81874</td><td style = \"text-align: right;\">1.0</td><td style = \"text-align: right;\">0.0</td><td style = \"text-align: right;\">0.0</td><td style = \"text-align: right;\">0.0</td><td style = \"text-align: right;\">1.0</td><td style = \"text-align: right;\">0.0</td><td style = \"text-align: right;\">0.0</td><td style = \"text-align: right;\">0.0</td><td style = \"text-align: right;\">1.0</td><td style = \"text-align: right;\">0.0</td><td style = \"text-align: right;\">5.0</td><td style = \"text-align: right;\">0.25</td><td style = \"text-align: right;\">0.125</td><td style = \"text-align: right;\">0.0625</td><td style = \"text-align: right;\">3255.0</td><td style = \"text-align: right;\">10</td><td style = \"text-align: right;\">8190.0</td><td style = \"text-align: right;\">18</td></tr><tr><td class = \"rowNumber\" style = \"font-weight: bold; text-align: right;\">5142</td><td style = \"text-align: right;\">32599</td><td style = \"text-align: right;\">22.5962</td><td style = \"text-align: right;\">3.11778</td><td style = \"text-align: right;\">0.0</td><td style = \"text-align: right;\">0.0</td><td style = \"text-align: right;\">1.0</td><td style = \"text-align: right;\">0.0</td><td style = \"text-align: right;\">0.0</td><td style = \"text-align: right;\">0.0</td><td style = \"text-align: right;\">0.0</td><td style = \"text-align: right;\">0.0</td><td style = \"text-align: right;\">1.0</td><td style = \"text-align: right;\">0.0</td><td style = \"text-align: right;\">15.0</td><td style = \"text-align: right;\">2.25</td><td style = \"text-align: right;\">3.375</td><td style = \"text-align: right;\">5.0625</td><td style = \"text-align: right;\">9620.0</td><td style = \"text-align: right;\">22</td><td style = \"text-align: right;\">5390.0</td><td style = \"text-align: right;\">9</td></tr><tr><td class = \"rowNumber\" style = \"font-weight: bold; text-align: right;\">5143</td><td style = \"text-align: right;\">32603</td><td style = \"text-align: right;\">16.8269</td><td style = \"text-align: right;\">2.82298</td><td style = \"text-align: right;\">0.0</td><td style = \"text-align: right;\">0.0</td><td style = \"text-align: right;\">1.0</td><td style = \"text-align: right;\">0.0</td><td style = \"text-align: right;\">0.0</td><td style = \"text-align: right;\">0.0</td><td style = \"text-align: right;\">0.0</td><td style = \"text-align: right;\">0.0</td><td style = \"text-align: right;\">1.0</td><td style = \"text-align: right;\">0.0</td><td style = \"text-align: right;\">11.0</td><td style = \"text-align: right;\">1.21</td><td style = \"text-align: right;\">1.331</td><td style = \"text-align: right;\">1.4641</td><td style = \"text-align: right;\">7150.0</td><td style = \"text-align: right;\">20</td><td style = \"text-align: right;\">8770.0</td><td style = \"text-align: right;\">21</td></tr><tr><td class = \"rowNumber\" style = \"font-weight: bold; text-align: right;\">5144</td><td style = \"text-align: right;\">32606</td><td style = \"text-align: right;\">24.0385</td><td style = \"text-align: right;\">3.17966</td><td style = \"text-align: right;\">1.0</td><td style = \"text-align: right;\">0.0</td><td style = \"text-align: right;\">0.0</td><td style = \"text-align: right;\">0.0</td><td style = \"text-align: right;\">1.0</td><td style = \"text-align: right;\">0.0</td><td style = \"text-align: right;\">0.0</td><td style = \"text-align: right;\">0.0</td><td style = \"text-align: right;\">1.0</td><td style = \"text-align: right;\">0.0</td><td style = \"text-align: right;\">17.0</td><td style = \"text-align: right;\">2.89</td><td style = \"text-align: right;\">4.913</td><td style = \"text-align: right;\">8.3521</td><td style = \"text-align: right;\">2550.0</td><td style = \"text-align: right;\">8</td><td style = \"text-align: right;\">9480.0</td><td style = \"text-align: right;\">22</td></tr><tr><td class = \"rowNumber\" style = \"font-weight: bold; text-align: right;\">5145</td><td style = \"text-align: right;\">32619</td><td style = \"text-align: right;\">13.8462</td><td style = \"text-align: right;\">2.62801</td><td style = \"text-align: right;\">0.0</td><td style = \"text-align: right;\">0.0</td><td style = \"text-align: right;\">0.0</td><td style = \"text-align: right;\">0.0</td><td style = \"text-align: right;\">1.0</td><td style = \"text-align: right;\">0.0</td><td style = \"text-align: right;\">0.0</td><td style = \"text-align: right;\">0.0</td><td style = \"text-align: right;\">1.0</td><td style = \"text-align: right;\">0.0</td><td style = \"text-align: right;\">10.0</td><td style = \"text-align: right;\">1.0</td><td style = \"text-align: right;\">1.0</td><td style = \"text-align: right;\">1.0</td><td style = \"text-align: right;\">800.0</td><td style = \"text-align: right;\">2</td><td style = \"text-align: right;\">770.0</td><td style = \"text-align: right;\">4</td></tr><tr><td class = \"rowNumber\" style = \"font-weight: bold; text-align: right;\">5146</td><td style = \"text-align: right;\">32620</td><td style = \"text-align: right;\">14.7692</td><td style = \"text-align: right;\">2.69255</td><td style = \"text-align: right;\">0.0</td><td style = \"text-align: right;\">0.0</td><td style = \"text-align: right;\">0.0</td><td style = \"text-align: right;\">0.0</td><td style = \"text-align: right;\">1.0</td><td style = \"text-align: right;\">0.0</td><td style = \"text-align: right;\">0.0</td><td style = \"text-align: right;\">0.0</td><td style = \"text-align: right;\">1.0</td><td style = \"text-align: right;\">0.0</td><td style = \"text-align: right;\">9.0</td><td style = \"text-align: right;\">0.81</td><td style = \"text-align: right;\">0.729</td><td style = \"text-align: right;\">0.6561</td><td style = \"text-align: right;\">4700.0</td><td style = \"text-align: right;\">16</td><td style = \"text-align: right;\">4970.0</td><td style = \"text-align: right;\">9</td></tr><tr><td class = \"rowNumber\" style = \"font-weight: bold; text-align: right;\">5147</td><td style = \"text-align: right;\">32624</td><td style = \"text-align: right;\">23.0769</td><td style = \"text-align: right;\">3.13883</td><td style = \"text-align: right;\">1.0</td><td style = \"text-align: right;\">0.0</td><td style = \"text-align: right;\">0.0</td><td style = \"text-align: right;\">1.0</td><td style = \"text-align: right;\">0.0</td><td style = \"text-align: right;\">0.0</td><td style = \"text-align: right;\">0.0</td><td style = \"text-align: right;\">0.0</td><td style = \"text-align: right;\">1.0</td><td style = \"text-align: right;\">0.0</td><td style = \"text-align: right;\">12.0</td><td style = \"text-align: right;\">1.44</td><td style = \"text-align: right;\">1.728</td><td style = \"text-align: right;\">2.0736</td><td style = \"text-align: right;\">4110.0</td><td style = \"text-align: right;\">13</td><td style = \"text-align: right;\">8680.0</td><td style = \"text-align: right;\">20</td></tr><tr><td class = \"rowNumber\" style = \"font-weight: bold; text-align: right;\">5148</td><td style = \"text-align: right;\">32626</td><td style = \"text-align: right;\">38.4615</td><td style = \"text-align: right;\">3.64966</td><td style = \"text-align: right;\">0.0</td><td style = \"text-align: right;\">0.0</td><td style = \"text-align: right;\">0.0</td><td style = \"text-align: right;\">0.0</td><td style = \"text-align: right;\">0.0</td><td style = \"text-align: right;\">1.0</td><td style = \"text-align: right;\">0.0</td><td style = \"text-align: right;\">0.0</td><td style = \"text-align: right;\">1.0</td><td style = \"text-align: right;\">0.0</td><td style = \"text-align: right;\">11.0</td><td style = \"text-align: right;\">1.21</td><td style = \"text-align: right;\">1.331</td><td style = \"text-align: right;\">1.4641</td><td style = \"text-align: right;\">1550.0</td><td style = \"text-align: right;\">4</td><td style = \"text-align: right;\">3680.0</td><td style = \"text-align: right;\">6</td></tr><tr><td class = \"rowNumber\" style = \"font-weight: bold; text-align: right;\">5149</td><td style = \"text-align: right;\">32631</td><td style = \"text-align: right;\">32.967</td><td style = \"text-align: right;\">3.49551</td><td style = \"text-align: right;\">0.0</td><td style = \"text-align: right;\">0.0</td><td style = \"text-align: right;\">1.0</td><td style = \"text-align: right;\">0.0</td><td style = \"text-align: right;\">0.0</td><td style = \"text-align: right;\">0.0</td><td style = \"text-align: right;\">0.0</td><td style = \"text-align: right;\">0.0</td><td style = \"text-align: right;\">1.0</td><td style = \"text-align: right;\">0.0</td><td style = \"text-align: right;\">10.0</td><td style = \"text-align: right;\">1.0</td><td style = \"text-align: right;\">1.0</td><td style = \"text-align: right;\">1.0</td><td style = \"text-align: right;\">2920.0</td><td style = \"text-align: right;\">9</td><td style = \"text-align: right;\">6570.0</td><td style = \"text-align: right;\">11</td></tr><tr><td class = \"rowNumber\" style = \"font-weight: bold; text-align: right;\">5150</td><td style = \"text-align: right;\">32643</td><td style = \"text-align: right;\">17.3077</td><td style = \"text-align: right;\">2.85115</td><td style = \"text-align: right;\">0.0</td><td style = \"text-align: right;\">0.0</td><td style = \"text-align: right;\">0.0</td><td style = \"text-align: right;\">0.0</td><td style = \"text-align: right;\">0.0</td><td style = \"text-align: right;\">1.0</td><td style = \"text-align: right;\">0.0</td><td style = \"text-align: right;\">0.0</td><td style = \"text-align: right;\">1.0</td><td style = \"text-align: right;\">0.0</td><td style = \"text-align: right;\">14.0</td><td style = \"text-align: right;\">1.96</td><td style = \"text-align: right;\">2.744</td><td style = \"text-align: right;\">3.8416</td><td style = \"text-align: right;\">1610.0</td><td style = \"text-align: right;\">5</td><td style = \"text-align: right;\">7460.0</td><td style = \"text-align: right;\">14</td></tr></tbody></table></div>"
      ],
      "text/latex": [
       "\\begin{tabular}{r|cccccccccc}\n",
       "\t& rownames & wage & lwage & sex & shs & hsg & scl & clg & ad & \\\\\n",
       "\t\\hline\n",
       "\t& Int64 & Float64 & Float64 & Float64 & Float64 & Float64 & Float64 & Float64 & Float64 & \\\\\n",
       "\t\\hline\n",
       "\t1 & 10 & 9.61538 & 2.26336 & 1.0 & 0.0 & 0.0 & 0.0 & 1.0 & 0.0 & $\\dots$ \\\\\n",
       "\t2 & 12 & 48.0769 & 3.8728 & 0.0 & 0.0 & 0.0 & 0.0 & 1.0 & 0.0 & $\\dots$ \\\\\n",
       "\t3 & 15 & 11.0577 & 2.40313 & 0.0 & 0.0 & 1.0 & 0.0 & 0.0 & 0.0 & $\\dots$ \\\\\n",
       "\t4 & 18 & 13.9423 & 2.63493 & 1.0 & 0.0 & 0.0 & 0.0 & 0.0 & 1.0 & $\\dots$ \\\\\n",
       "\t5 & 19 & 28.8462 & 3.36198 & 1.0 & 0.0 & 0.0 & 0.0 & 1.0 & 0.0 & $\\dots$ \\\\\n",
       "\t6 & 30 & 11.7308 & 2.46222 & 1.0 & 0.0 & 0.0 & 0.0 & 1.0 & 0.0 & $\\dots$ \\\\\n",
       "\t7 & 43 & 19.2308 & 2.95651 & 1.0 & 0.0 & 1.0 & 0.0 & 0.0 & 0.0 & $\\dots$ \\\\\n",
       "\t8 & 44 & 19.2308 & 2.95651 & 0.0 & 0.0 & 1.0 & 0.0 & 0.0 & 0.0 & $\\dots$ \\\\\n",
       "\t9 & 47 & 12.0 & 2.48491 & 1.0 & 0.0 & 1.0 & 0.0 & 0.0 & 0.0 & $\\dots$ \\\\\n",
       "\t10 & 71 & 19.2308 & 2.95651 & 1.0 & 0.0 & 0.0 & 0.0 & 1.0 & 0.0 & $\\dots$ \\\\\n",
       "\t11 & 73 & 17.3077 & 2.85115 & 1.0 & 0.0 & 1.0 & 0.0 & 0.0 & 0.0 & $\\dots$ \\\\\n",
       "\t12 & 77 & 12.0192 & 2.48651 & 0.0 & 0.0 & 1.0 & 0.0 & 0.0 & 0.0 & $\\dots$ \\\\\n",
       "\t13 & 84 & 12.0192 & 2.48651 & 1.0 & 0.0 & 0.0 & 1.0 & 0.0 & 0.0 & $\\dots$ \\\\\n",
       "\t14 & 89 & 13.4615 & 2.59984 & 1.0 & 0.0 & 0.0 & 1.0 & 0.0 & 0.0 & $\\dots$ \\\\\n",
       "\t15 & 96 & 16.3462 & 2.79399 & 1.0 & 0.0 & 0.0 & 0.0 & 1.0 & 0.0 & $\\dots$ \\\\\n",
       "\t16 & 113 & 27.8846 & 3.32808 & 0.0 & 0.0 & 1.0 & 0.0 & 0.0 & 0.0 & $\\dots$ \\\\\n",
       "\t17 & 115 & 21.6 & 3.07269 & 0.0 & 0.0 & 1.0 & 0.0 & 0.0 & 0.0 & $\\dots$ \\\\\n",
       "\t18 & 119 & 8.65385 & 2.158 & 0.0 & 0.0 & 0.0 & 1.0 & 0.0 & 0.0 & $\\dots$ \\\\\n",
       "\t19 & 128 & 19.2308 & 2.95651 & 0.0 & 0.0 & 1.0 & 0.0 & 0.0 & 0.0 & $\\dots$ \\\\\n",
       "\t20 & 129 & 13.1868 & 2.57922 & 0.0 & 0.0 & 1.0 & 0.0 & 0.0 & 0.0 & $\\dots$ \\\\\n",
       "\t21 & 135 & 10.6838 & 2.36872 & 1.0 & 0.0 & 0.0 & 1.0 & 0.0 & 0.0 & $\\dots$ \\\\\n",
       "\t22 & 144 & 11.5385 & 2.44569 & 1.0 & 0.0 & 0.0 & 1.0 & 0.0 & 0.0 & $\\dots$ \\\\\n",
       "\t23 & 145 & 17.7885 & 2.87855 & 1.0 & 0.0 & 0.0 & 0.0 & 0.0 & 1.0 & $\\dots$ \\\\\n",
       "\t24 & 149 & 19.2308 & 2.95651 & 0.0 & 0.0 & 0.0 & 0.0 & 1.0 & 0.0 & $\\dots$ \\\\\n",
       "\t$\\dots$ & $\\dots$ & $\\dots$ & $\\dots$ & $\\dots$ & $\\dots$ & $\\dots$ & $\\dots$ & $\\dots$ & $\\dots$ &  \\\\\n",
       "\\end{tabular}\n"
      ],
      "text/plain": [
       "\u001b[1m5150×21 DataFrame\u001b[0m\n",
       "\u001b[1m  Row \u001b[0m│\u001b[1m rownames \u001b[0m\u001b[1m wage     \u001b[0m\u001b[1m lwage   \u001b[0m\u001b[1m sex     \u001b[0m\u001b[1m shs     \u001b[0m\u001b[1m hsg     \u001b[0m\u001b[1m scl     \u001b[0m\u001b[1m clg  \u001b[0m ⋯\n",
       "      │\u001b[90m Int64    \u001b[0m\u001b[90m Float64  \u001b[0m\u001b[90m Float64 \u001b[0m\u001b[90m Float64 \u001b[0m\u001b[90m Float64 \u001b[0m\u001b[90m Float64 \u001b[0m\u001b[90m Float64 \u001b[0m\u001b[90m Float\u001b[0m ⋯\n",
       "──────┼─────────────────────────────────────────────────────────────────────────\n",
       "    1 │       10   9.61538  2.26336      1.0      0.0      0.0      0.0      1 ⋯\n",
       "    2 │       12  48.0769   3.8728       0.0      0.0      0.0      0.0      1\n",
       "    3 │       15  11.0577   2.40313      0.0      0.0      1.0      0.0      0\n",
       "    4 │       18  13.9423   2.63493      1.0      0.0      0.0      0.0      0\n",
       "    5 │       19  28.8462   3.36198      1.0      0.0      0.0      0.0      1 ⋯\n",
       "    6 │       30  11.7308   2.46222      1.0      0.0      0.0      0.0      1\n",
       "    7 │       43  19.2308   2.95651      1.0      0.0      1.0      0.0      0\n",
       "    8 │       44  19.2308   2.95651      0.0      0.0      1.0      0.0      0\n",
       "  ⋮   │    ⋮         ⋮         ⋮        ⋮        ⋮        ⋮        ⋮        ⋮  ⋱\n",
       " 5144 │    32606  24.0385   3.17966      1.0      0.0      0.0      0.0      1 ⋯\n",
       " 5145 │    32619  13.8462   2.62801      0.0      0.0      0.0      0.0      1\n",
       " 5146 │    32620  14.7692   2.69255      0.0      0.0      0.0      0.0      1\n",
       " 5147 │    32624  23.0769   3.13883      1.0      0.0      0.0      1.0      0\n",
       " 5148 │    32626  38.4615   3.64966      0.0      0.0      0.0      0.0      0 ⋯\n",
       " 5149 │    32631  32.967    3.49551      0.0      0.0      1.0      0.0      0\n",
       " 5150 │    32643  17.3077   2.85115      0.0      0.0      0.0      0.0      0\n",
       "\u001b[36m                                                14 columns and 5135 rows omitted\u001b[0m"
      ]
     },
     "metadata": {},
     "output_type": "display_data"
    }
   ],
   "source": [
    "file_path = \"F:/Programas/GitHub Desktop/CausalAI-Course/data/wage2015_subsample_inference.csv\"\n",
    "data = CSV.read(file_path, DataFrame)"
   ]
  },
  {
   "cell_type": "markdown",
   "metadata": {},
   "source": [
    "1. Consider the US census data from the year 2015 to analyse the effect of college graduate (clg) status\n",
    "and it’s interaction effects with gender (sex), location (mw, so,we, ne) and both on wage jointly. All\n",
    "other variables denote some other socio-economic characteristics, e.g. marital status, occupation, and\n",
    "experience."
   ]
  },
  {
   "cell_type": "code",
   "execution_count": 4,
   "metadata": {},
   "outputs": [
    {
     "data": {
      "text/html": [
       "<div><div style = \"float: left;\"><span>5×36 DataFrame</span></div><div style = \"clear: both;\"></div></div><div class = \"data-frame\" style = \"overflow-x: scroll;\"><table class = \"data-frame\" style = \"margin-bottom: 6px;\"><thead><tr class = \"header\"><th class = \"rowNumber\" style = \"font-weight: bold; text-align: right;\">Row</th><th style = \"text-align: left;\">rownames</th><th style = \"text-align: left;\">wage</th><th style = \"text-align: left;\">lwage</th><th style = \"text-align: left;\">sex</th><th style = \"text-align: left;\">shs</th><th style = \"text-align: left;\">hsg</th><th style = \"text-align: left;\">scl</th><th style = \"text-align: left;\">clg</th><th style = \"text-align: left;\">ad</th><th style = \"text-align: left;\">mw</th><th style = \"text-align: left;\">so</th><th style = \"text-align: left;\">we</th><th style = \"text-align: left;\">ne</th><th style = \"text-align: left;\">exp1</th><th style = \"text-align: left;\">exp2</th><th style = \"text-align: left;\">exp3</th><th style = \"text-align: left;\">exp4</th><th style = \"text-align: left;\">occ</th><th style = \"text-align: left;\">occ2</th><th style = \"text-align: left;\">ind</th><th style = \"text-align: left;\">ind2</th><th style = \"text-align: left;\">sex_dummy</th><th style = \"text-align: left;\">mw_dummy</th><th style = \"text-align: left;\">so_dummy</th><th style = \"text-align: left;\">we_dummy</th><th style = \"text-align: left;\">ne_dummy</th><th style = \"text-align: left;\">sex_x_mw</th><th style = \"text-align: left;\">sex_x_so</th><th style = \"text-align: left;\">sex_x_we</th><th style = \"text-align: left;\">sex_x_ne</th><th style = \"text-align: left;\">mw_x_so</th><th style = \"text-align: left;\">mw_x_we</th><th style = \"text-align: left;\">mw_x_ne</th><th style = \"text-align: left;\">so_x_we</th><th style = \"text-align: left;\">so_x_ne</th><th style = \"text-align: left;\">we_x_ne</th></tr><tr class = \"subheader headerLastRow\"><th class = \"rowNumber\" style = \"font-weight: bold; text-align: right;\"></th><th title = \"Int64\" style = \"text-align: left;\">Int64</th><th title = \"Float64\" style = \"text-align: left;\">Float64</th><th title = \"Float64\" style = \"text-align: left;\">Float64</th><th title = \"Float64\" style = \"text-align: left;\">Float64</th><th title = \"Float64\" style = \"text-align: left;\">Float64</th><th title = \"Float64\" style = \"text-align: left;\">Float64</th><th title = \"Float64\" style = \"text-align: left;\">Float64</th><th title = \"Float64\" style = \"text-align: left;\">Float64</th><th title = \"Float64\" style = \"text-align: left;\">Float64</th><th title = \"Float64\" style = \"text-align: left;\">Float64</th><th title = \"Float64\" style = \"text-align: left;\">Float64</th><th title = \"Float64\" style = \"text-align: left;\">Float64</th><th title = \"Float64\" style = \"text-align: left;\">Float64</th><th title = \"Float64\" style = \"text-align: left;\">Float64</th><th title = \"Float64\" style = \"text-align: left;\">Float64</th><th title = \"Float64\" style = \"text-align: left;\">Float64</th><th title = \"Float64\" style = \"text-align: left;\">Float64</th><th title = \"Float64\" style = \"text-align: left;\">Float64</th><th title = \"Int64\" style = \"text-align: left;\">Int64</th><th title = \"Float64\" style = \"text-align: left;\">Float64</th><th title = \"Int64\" style = \"text-align: left;\">Int64</th><th title = \"Int64\" style = \"text-align: left;\">Int64</th><th title = \"Int64\" style = \"text-align: left;\">Int64</th><th title = \"Int64\" style = \"text-align: left;\">Int64</th><th title = \"Int64\" style = \"text-align: left;\">Int64</th><th title = \"Int64\" style = \"text-align: left;\">Int64</th><th title = \"Int64\" style = \"text-align: left;\">Int64</th><th title = \"Int64\" style = \"text-align: left;\">Int64</th><th title = \"Int64\" style = \"text-align: left;\">Int64</th><th title = \"Int64\" style = \"text-align: left;\">Int64</th><th title = \"Int64\" style = \"text-align: left;\">Int64</th><th title = \"Int64\" style = \"text-align: left;\">Int64</th><th title = \"Int64\" style = \"text-align: left;\">Int64</th><th title = \"Int64\" style = \"text-align: left;\">Int64</th><th title = \"Int64\" style = \"text-align: left;\">Int64</th><th title = \"Int64\" style = \"text-align: left;\">Int64</th></tr></thead><tbody><tr><td class = \"rowNumber\" style = \"font-weight: bold; text-align: right;\">1</td><td style = \"text-align: right;\">10</td><td style = \"text-align: right;\">9.61538</td><td style = \"text-align: right;\">2.26336</td><td style = \"text-align: right;\">1.0</td><td style = \"text-align: right;\">0.0</td><td style = \"text-align: right;\">0.0</td><td style = \"text-align: right;\">0.0</td><td style = \"text-align: right;\">1.0</td><td style = \"text-align: right;\">0.0</td><td style = \"text-align: right;\">0.0</td><td style = \"text-align: right;\">0.0</td><td style = \"text-align: right;\">0.0</td><td style = \"text-align: right;\">1.0</td><td style = \"text-align: right;\">7.0</td><td style = \"text-align: right;\">0.49</td><td style = \"text-align: right;\">0.343</td><td style = \"text-align: right;\">0.2401</td><td style = \"text-align: right;\">3600.0</td><td style = \"text-align: right;\">11</td><td style = \"text-align: right;\">8370.0</td><td style = \"text-align: right;\">18</td><td style = \"text-align: right;\">1</td><td style = \"text-align: right;\">0</td><td style = \"text-align: right;\">0</td><td style = \"text-align: right;\">0</td><td style = \"text-align: right;\">1</td><td style = \"text-align: right;\">0</td><td style = \"text-align: right;\">0</td><td style = \"text-align: right;\">0</td><td style = \"text-align: right;\">1</td><td style = \"text-align: right;\">0</td><td style = \"text-align: right;\">0</td><td style = \"text-align: right;\">0</td><td style = \"text-align: right;\">0</td><td style = \"text-align: right;\">0</td><td style = \"text-align: right;\">0</td></tr><tr><td class = \"rowNumber\" style = \"font-weight: bold; text-align: right;\">2</td><td style = \"text-align: right;\">12</td><td style = \"text-align: right;\">48.0769</td><td style = \"text-align: right;\">3.8728</td><td style = \"text-align: right;\">0.0</td><td style = \"text-align: right;\">0.0</td><td style = \"text-align: right;\">0.0</td><td style = \"text-align: right;\">0.0</td><td style = \"text-align: right;\">1.0</td><td style = \"text-align: right;\">0.0</td><td style = \"text-align: right;\">0.0</td><td style = \"text-align: right;\">0.0</td><td style = \"text-align: right;\">0.0</td><td style = \"text-align: right;\">1.0</td><td style = \"text-align: right;\">31.0</td><td style = \"text-align: right;\">9.61</td><td style = \"text-align: right;\">29.791</td><td style = \"text-align: right;\">92.3521</td><td style = \"text-align: right;\">3050.0</td><td style = \"text-align: right;\">10</td><td style = \"text-align: right;\">5070.0</td><td style = \"text-align: right;\">9</td><td style = \"text-align: right;\">0</td><td style = \"text-align: right;\">0</td><td style = \"text-align: right;\">0</td><td style = \"text-align: right;\">0</td><td style = \"text-align: right;\">1</td><td style = \"text-align: right;\">0</td><td style = \"text-align: right;\">0</td><td style = \"text-align: right;\">0</td><td style = \"text-align: right;\">0</td><td style = \"text-align: right;\">0</td><td style = \"text-align: right;\">0</td><td style = \"text-align: right;\">0</td><td style = \"text-align: right;\">0</td><td style = \"text-align: right;\">0</td><td style = \"text-align: right;\">0</td></tr><tr><td class = \"rowNumber\" style = \"font-weight: bold; text-align: right;\">3</td><td style = \"text-align: right;\">15</td><td style = \"text-align: right;\">11.0577</td><td style = \"text-align: right;\">2.40313</td><td style = \"text-align: right;\">0.0</td><td style = \"text-align: right;\">0.0</td><td style = \"text-align: right;\">1.0</td><td style = \"text-align: right;\">0.0</td><td style = \"text-align: right;\">0.0</td><td style = \"text-align: right;\">0.0</td><td style = \"text-align: right;\">0.0</td><td style = \"text-align: right;\">0.0</td><td style = \"text-align: right;\">0.0</td><td style = \"text-align: right;\">1.0</td><td style = \"text-align: right;\">18.0</td><td style = \"text-align: right;\">3.24</td><td style = \"text-align: right;\">5.832</td><td style = \"text-align: right;\">10.4976</td><td style = \"text-align: right;\">6260.0</td><td style = \"text-align: right;\">19</td><td style = \"text-align: right;\">770.0</td><td style = \"text-align: right;\">4</td><td style = \"text-align: right;\">0</td><td style = \"text-align: right;\">0</td><td style = \"text-align: right;\">0</td><td style = \"text-align: right;\">0</td><td style = \"text-align: right;\">1</td><td style = \"text-align: right;\">0</td><td style = \"text-align: right;\">0</td><td style = \"text-align: right;\">0</td><td style = \"text-align: right;\">0</td><td style = \"text-align: right;\">0</td><td style = \"text-align: right;\">0</td><td style = \"text-align: right;\">0</td><td style = \"text-align: right;\">0</td><td style = \"text-align: right;\">0</td><td style = \"text-align: right;\">0</td></tr><tr><td class = \"rowNumber\" style = \"font-weight: bold; text-align: right;\">4</td><td style = \"text-align: right;\">18</td><td style = \"text-align: right;\">13.9423</td><td style = \"text-align: right;\">2.63493</td><td style = \"text-align: right;\">1.0</td><td style = \"text-align: right;\">0.0</td><td style = \"text-align: right;\">0.0</td><td style = \"text-align: right;\">0.0</td><td style = \"text-align: right;\">0.0</td><td style = \"text-align: right;\">1.0</td><td style = \"text-align: right;\">0.0</td><td style = \"text-align: right;\">0.0</td><td style = \"text-align: right;\">0.0</td><td style = \"text-align: right;\">1.0</td><td style = \"text-align: right;\">25.0</td><td style = \"text-align: right;\">6.25</td><td style = \"text-align: right;\">15.625</td><td style = \"text-align: right;\">39.0625</td><td style = \"text-align: right;\">420.0</td><td style = \"text-align: right;\">1</td><td style = \"text-align: right;\">6990.0</td><td style = \"text-align: right;\">12</td><td style = \"text-align: right;\">1</td><td style = \"text-align: right;\">0</td><td style = \"text-align: right;\">0</td><td style = \"text-align: right;\">0</td><td style = \"text-align: right;\">1</td><td style = \"text-align: right;\">0</td><td style = \"text-align: right;\">0</td><td style = \"text-align: right;\">0</td><td style = \"text-align: right;\">1</td><td style = \"text-align: right;\">0</td><td style = \"text-align: right;\">0</td><td style = \"text-align: right;\">0</td><td style = \"text-align: right;\">0</td><td style = \"text-align: right;\">0</td><td style = \"text-align: right;\">0</td></tr><tr><td class = \"rowNumber\" style = \"font-weight: bold; text-align: right;\">5</td><td style = \"text-align: right;\">19</td><td style = \"text-align: right;\">28.8462</td><td style = \"text-align: right;\">3.36198</td><td style = \"text-align: right;\">1.0</td><td style = \"text-align: right;\">0.0</td><td style = \"text-align: right;\">0.0</td><td style = \"text-align: right;\">0.0</td><td style = \"text-align: right;\">1.0</td><td style = \"text-align: right;\">0.0</td><td style = \"text-align: right;\">0.0</td><td style = \"text-align: right;\">0.0</td><td style = \"text-align: right;\">0.0</td><td style = \"text-align: right;\">1.0</td><td style = \"text-align: right;\">22.0</td><td style = \"text-align: right;\">4.84</td><td style = \"text-align: right;\">10.648</td><td style = \"text-align: right;\">23.4256</td><td style = \"text-align: right;\">2015.0</td><td style = \"text-align: right;\">6</td><td style = \"text-align: right;\">9470.0</td><td style = \"text-align: right;\">22</td><td style = \"text-align: right;\">1</td><td style = \"text-align: right;\">0</td><td style = \"text-align: right;\">0</td><td style = \"text-align: right;\">0</td><td style = \"text-align: right;\">1</td><td style = \"text-align: right;\">0</td><td style = \"text-align: right;\">0</td><td style = \"text-align: right;\">0</td><td style = \"text-align: right;\">1</td><td style = \"text-align: right;\">0</td><td style = \"text-align: right;\">0</td><td style = \"text-align: right;\">0</td><td style = \"text-align: right;\">0</td><td style = \"text-align: right;\">0</td><td style = \"text-align: right;\">0</td></tr></tbody></table></div>"
      ],
      "text/latex": [
       "\\begin{tabular}{r|cccccccccc}\n",
       "\t& rownames & wage & lwage & sex & shs & hsg & scl & clg & ad & \\\\\n",
       "\t\\hline\n",
       "\t& Int64 & Float64 & Float64 & Float64 & Float64 & Float64 & Float64 & Float64 & Float64 & \\\\\n",
       "\t\\hline\n",
       "\t1 & 10 & 9.61538 & 2.26336 & 1.0 & 0.0 & 0.0 & 0.0 & 1.0 & 0.0 & $\\dots$ \\\\\n",
       "\t2 & 12 & 48.0769 & 3.8728 & 0.0 & 0.0 & 0.0 & 0.0 & 1.0 & 0.0 & $\\dots$ \\\\\n",
       "\t3 & 15 & 11.0577 & 2.40313 & 0.0 & 0.0 & 1.0 & 0.0 & 0.0 & 0.0 & $\\dots$ \\\\\n",
       "\t4 & 18 & 13.9423 & 2.63493 & 1.0 & 0.0 & 0.0 & 0.0 & 0.0 & 1.0 & $\\dots$ \\\\\n",
       "\t5 & 19 & 28.8462 & 3.36198 & 1.0 & 0.0 & 0.0 & 0.0 & 1.0 & 0.0 & $\\dots$ \\\\\n",
       "\\end{tabular}\n"
      ],
      "text/plain": [
       "\u001b[1m5×36 DataFrame\u001b[0m\n",
       "\u001b[1m Row \u001b[0m│\u001b[1m rownames \u001b[0m\u001b[1m wage     \u001b[0m\u001b[1m lwage   \u001b[0m\u001b[1m sex     \u001b[0m\u001b[1m shs     \u001b[0m\u001b[1m hsg     \u001b[0m\u001b[1m scl     \u001b[0m\u001b[1m clg   \u001b[0m ⋯\n",
       "     │\u001b[90m Int64    \u001b[0m\u001b[90m Float64  \u001b[0m\u001b[90m Float64 \u001b[0m\u001b[90m Float64 \u001b[0m\u001b[90m Float64 \u001b[0m\u001b[90m Float64 \u001b[0m\u001b[90m Float64 \u001b[0m\u001b[90m Float6\u001b[0m ⋯\n",
       "─────┼──────────────────────────────────────────────────────────────────────────\n",
       "   1 │       10   9.61538  2.26336      1.0      0.0      0.0      0.0      1. ⋯\n",
       "   2 │       12  48.0769   3.8728       0.0      0.0      0.0      0.0      1.\n",
       "   3 │       15  11.0577   2.40313      0.0      0.0      1.0      0.0      0.\n",
       "   4 │       18  13.9423   2.63493      1.0      0.0      0.0      0.0      0.\n",
       "   5 │       19  28.8462   3.36198      1.0      0.0      0.0      0.0      1. ⋯\n",
       "\u001b[36m                                                              29 columns omitted\u001b[0m"
      ]
     },
     "metadata": {},
     "output_type": "display_data"
    }
   ],
   "source": [
    "categorical_vars = [:sex, :mw, :so, :we, :ne]\n",
    "\n",
    "for var in categorical_vars\n",
    "    data[!, Symbol(string(var, \"_dummy\"))] = convert(Vector{Int}, data[!, var] .== 1)\n",
    "end\n",
    "\n",
    "for i in 1:length(categorical_vars)\n",
    "    for j in i+1:length(categorical_vars)\n",
    "        interaction_col = Symbol(string(categorical_vars[i], \"_x_\", categorical_vars[j]))\n",
    "        # Multiplicación de las dummies convertidas\n",
    "        data[!, interaction_col] = data[!, Symbol(string(categorical_vars[i], \"_dummy\"))] .* data[!, Symbol(string(categorical_vars[j], \"_dummy\"))]\n",
    "    end\n",
    "end\n",
    "\n",
    "first(data, 5)"
   ]
  },
  {
   "cell_type": "markdown",
   "metadata": {},
   "source": [
    "- Use the double lasso technique to find the effect of the treatment and it’s relevant interactions on the wage. To tune the penalization parameter in the lasso step, cross-validate it. (4 pts)"
   ]
  },
  {
   "cell_type": "code",
   "execution_count": null,
   "metadata": {},
   "outputs": [],
   "source": [
    "using Pkg\n",
    "Pkg.add([\"MLJ\"])\n",
    "using MLJ"
   ]
  },
  {
   "cell_type": "code",
   "execution_count": null,
   "metadata": {},
   "outputs": [],
   "source": [
    "X = select(data, Not(:wage))  \n",
    "y = data.wage\n",
    "\n",
    "X_matrix = MLJBase.matrix(X)\n",
    "\n",
    "lasso_model = LassoPath()\n",
    "lasso_fit = machine(lasso_model, X_matrix, y)\n",
    "\n",
    "r = range(lasso_model, :alpha, lower=0.01, upper=1.0, length=10)  \n",
    "cv = CV(nfolds=5, shuffle=true, rng=42)\n",
    "tuned_model = TunedModel(model=lasso_model, resampling=cv, range=r, measure=rms)\n",
    "mach = machine(tuned_model, X_matrix, y)\n",
    "fit!(mach)\n",
    "\n",
    "report(mach)"
   ]
  },
  {
   "cell_type": "code",
   "execution_count": null,
   "metadata": {},
   "outputs": [],
   "source": [
    "- Report a summary of the estimation of the parameters of interest. (2 pts)"
   ]
  },
  {
   "cell_type": "code",
   "execution_count": null,
   "metadata": {},
   "outputs": [],
   "source": [
    "fitted_model = fitted_params(mach).best_model\n",
    "coefficients = fitted_model.coefs\n",
    "\n",
    "for (name, value) in zip(names(X), coefficients)\n",
    "    println(\"Variable: \", name, \", Coeficiente: \", value)\n",
    "end\n"
   ]
  },
  {
   "cell_type": "markdown",
   "metadata": {},
   "source": [
    "- Interpret your results. In which group does the college graduate status has more impact over the wage? (2 pts)"
   ]
  }
 ],
 "metadata": {
  "kernelspec": {
   "display_name": "Julia 1.11.1",
   "language": "julia",
   "name": "julia-1.11"
  },
  "language_info": {
   "file_extension": ".jl",
   "mimetype": "application/julia",
   "name": "julia",
   "version": "1.11.1"
  }
 },
 "nbformat": 4,
 "nbformat_minor": 2
}
