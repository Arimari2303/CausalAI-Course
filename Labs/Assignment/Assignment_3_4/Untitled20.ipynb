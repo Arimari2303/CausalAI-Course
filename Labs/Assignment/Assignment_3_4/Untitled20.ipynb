{
  "nbformat": 4,
  "nbformat_minor": 0,
  "metadata": {
    "colab": {
      "provenance": []
    },
    "kernelspec": {
      "name": "ir",
      "display_name": "R"
    },
    "language_info": {
      "name": "R"
    }
  },
  "cells": [
    {
      "cell_type": "code",
      "execution_count": 4,
      "metadata": {
        "colab": {
          "base_uri": "https://localhost:8080/"
        },
        "collapsed": true,
        "id": "LK5RMoJyiK6y",
        "outputId": "d9150765-b06f-44cc-b461-585ca68e902d"
      },
      "outputs": [
        {
          "output_type": "stream",
          "name": "stderr",
          "text": [
            "── \u001b[1mAttaching core tidyverse packages\u001b[22m ──────────────────────── tidyverse 2.0.0 ──\n",
            "\u001b[32m✔\u001b[39m \u001b[34mdplyr    \u001b[39m 1.1.4     \u001b[32m✔\u001b[39m \u001b[34mreadr    \u001b[39m 2.1.5\n",
            "\u001b[32m✔\u001b[39m \u001b[34mforcats  \u001b[39m 1.0.0     \u001b[32m✔\u001b[39m \u001b[34mstringr  \u001b[39m 1.5.1\n",
            "\u001b[32m✔\u001b[39m \u001b[34mggplot2  \u001b[39m 3.5.1     \u001b[32m✔\u001b[39m \u001b[34mtibble   \u001b[39m 3.2.1\n",
            "\u001b[32m✔\u001b[39m \u001b[34mlubridate\u001b[39m 1.9.3     \u001b[32m✔\u001b[39m \u001b[34mtidyr    \u001b[39m 1.3.1\n",
            "\u001b[32m✔\u001b[39m \u001b[34mpurrr    \u001b[39m 1.0.2     \n",
            "── \u001b[1mConflicts\u001b[22m ────────────────────────────────────────── tidyverse_conflicts() ──\n",
            "\u001b[31m✖\u001b[39m \u001b[34mdplyr\u001b[39m::\u001b[32mfilter()\u001b[39m masks \u001b[34mstats\u001b[39m::filter()\n",
            "\u001b[31m✖\u001b[39m \u001b[34mdplyr\u001b[39m::\u001b[32mlag()\u001b[39m    masks \u001b[34mstats\u001b[39m::lag()\n",
            "\u001b[36mℹ\u001b[39m Use the conflicted package (\u001b[3m\u001b[34m<http://conflicted.r-lib.org/>\u001b[39m\u001b[23m) to force all conflicts to become errors\n",
            "Loading required package: lattice\n",
            "\n",
            "\n",
            "Attaching package: ‘caret’\n",
            "\n",
            "\n",
            "The following object is masked from ‘package:purrr’:\n",
            "\n",
            "    lift\n",
            "\n",
            "\n",
            "\n",
            "Attaching package: ‘boot’\n",
            "\n",
            "\n",
            "The following object is masked from ‘package:lattice’:\n",
            "\n",
            "    melanoma\n",
            "\n",
            "\n"
          ]
        }
      ],
      "source": [
        "# Load required libraries\n",
        "library(ISLR)\n",
        "library(tidyverse)\n",
        "library(caret)\n",
        "library(rpart)\n",
        "library(rpart.plot)\n",
        "library(boot)\n",
        "set.seed(123)\n"
      ]
    },
    {
      "cell_type": "markdown",
      "source": [
        "Preparación de Datos:\n",
        "\n",
        "Revisamos N.As"
      ],
      "metadata": {
        "id": "mWPWWsnJnAu-"
      }
    },
    {
      "cell_type": "code",
      "source": [
        "# 1. Data Preparation\n",
        "# Load and clean data\n",
        "data(\"Hitters\")\n",
        "hitters_clean <- Hitters %>%\n",
        "  na.omit() %>%\n",
        "  mutate(League = as.factor(League),\n",
        "         Division = as.factor(Division),\n",
        "         NewLeague = as.factor(NewLeague))"
      ],
      "metadata": {
        "id": "1D1ak-u_iPYM"
      },
      "execution_count": 5,
      "outputs": []
    },
    {
      "cell_type": "markdown",
      "source": [
        "Creamos las variables dummys de las categóricas."
      ],
      "metadata": {
        "id": "0hCcg2KgnLKw"
      }
    },
    {
      "cell_type": "code",
      "source": [
        "# Create dummy variables\n",
        "hitters_dummy <- model.matrix(~ . - 1, data = hitters_clean)"
      ],
      "metadata": {
        "id": "wyTBc54eiVYn"
      },
      "execution_count": 6,
      "outputs": []
    },
    {
      "cell_type": "markdown",
      "source": [
        "Además, realizamos el split [training (90%) y testing (10%)"
      ],
      "metadata": {
        "id": "G-v6EE8GneW1"
      }
    },
    {
      "cell_type": "code",
      "source": [
        "# 2. Split the data\n",
        "n <- nrow(hitters_dummy)\n",
        "train_idx <- sample(1:n, size = floor(0.9 * n))\n",
        "X_train <- hitters_dummy[train_idx, -which(colnames(hitters_dummy) == \"Salary\")]\n",
        "y_train <- hitters_dummy[train_idx, \"Salary\"]\n",
        "X_test <- hitters_dummy[-train_idx, -which(colnames(hitters_dummy) == \"Salary\")]\n",
        "y_test <- hitters_dummy[-train_idx, \"Salary\"]"
      ],
      "metadata": {
        "id": "-ciIbOUanciW"
      },
      "execution_count": null,
      "outputs": []
    },
    {
      "cell_type": "code",
      "source": [
        "# 3. OLS Regression and Bootstrap\n",
        "# Initial OLS fit\n",
        "train_data <- data.frame(Salary = y_train, X_train)\n",
        "ols_model <- lm(Salary ~ ., data = train_data)\n",
        "beta_hat <- coef(ols_model)\n",
        "\n",
        "# Modified bootstrap function with error handling\n",
        "bootstrap_ols <- function(data, indices) {\n",
        "  tryCatch({\n",
        "    sample_data <- data[indices, ]\n",
        "    model <- lm(Salary ~ ., data = sample_data)\n",
        "    return(coef(model))\n",
        "  }, error = function(e) {\n",
        "    return(rep(NA, length(beta_hat)))\n",
        "  })\n",
        "}\n"
      ],
      "metadata": {
        "id": "RNR4kCn_iWKf"
      },
      "execution_count": 12,
      "outputs": []
    },
    {
      "cell_type": "code",
      "source": [
        "# Perform bootstrap\n",
        "n_boot <- 10000\n",
        "boot_results <- boot(data = train_data,\n",
        "                    statistic = bootstrap_ols,\n",
        "                    R = n_boot)"
      ],
      "metadata": {
        "id": "LLpxCyEclwMw"
      },
      "execution_count": 13,
      "outputs": []
    },
    {
      "cell_type": "code",
      "source": [
        "# Calculate confidence intervals with NA handling\n",
        "beta_boots <- t(sapply(1:n_boot, function(i) boot_results$t[i,]))"
      ],
      "metadata": {
        "id": "CXpdzvOjl5ft"
      },
      "execution_count": 14,
      "outputs": []
    },
    {
      "cell_type": "code",
      "source": [
        "# Function to calculate quantiles with NA handling\n",
        "safe_quantile <- function(x, probs) {\n",
        "  quantile(x, probs = probs, na.rm = TRUE)\n",
        "}\n"
      ],
      "metadata": {
        "id": "VcKr-4k5l832"
      },
      "execution_count": 15,
      "outputs": []
    },
    {
      "cell_type": "code",
      "source": [
        "# Calculate confidence intervals\n",
        "beta_boots_lower <- apply(beta_boots, 2, function(x) safe_quantile(x, 0.025))\n",
        "beta_boots_upper <- apply(beta_boots, 2, function(x) safe_quantile(x, 0.975))"
      ],
      "metadata": {
        "id": "NO6Atyubl_m2"
      },
      "execution_count": 16,
      "outputs": []
    },
    {
      "cell_type": "code",
      "source": [
        "# Calculate OLS out-of-sample MSE\n",
        "ols_predictions <- predict(ols_model, newdata = data.frame(X_test))\n",
        "ols_mse <- mean((y_test - ols_predictions)^2)"
      ],
      "metadata": {
        "id": "j9TupxFwmCRu"
      },
      "execution_count": 17,
      "outputs": []
    },
    {
      "cell_type": "code",
      "source": [
        "# 4. Regression Tree\n",
        "# Fit full tree\n",
        "tree_model <- rpart(Salary ~ .,\n",
        "                   data = train_data,\n",
        "                   method = \"anova\",\n",
        "                   control = rpart.control(minsplit = 2, cp = 0))"
      ],
      "metadata": {
        "id": "lqhHqE6MmEQ3"
      },
      "execution_count": 18,
      "outputs": []
    },
    {
      "cell_type": "code",
      "source": [
        "# Cross-validate to find optimal cp\n",
        "cpTable <- printcp(tree_model)\n",
        "optimal_cp <- cpTable[which.min(cpTable[,\"xerror\"]), \"CP\"]\n"
      ],
      "metadata": {
        "colab": {
          "base_uri": "https://localhost:8080/"
        },
        "collapsed": true,
        "id": "NPKIor81mGY-",
        "outputId": "13679f2c-0569-42b1-ab0b-c3435b559b2f"
      },
      "execution_count": 19,
      "outputs": [
        {
          "output_type": "stream",
          "name": "stdout",
          "text": [
            "\n",
            "Regression tree:\n",
            "rpart(formula = Salary ~ ., data = train_data, method = \"anova\", \n",
            "    control = rpart.control(minsplit = 2, cp = 0))\n",
            "\n",
            "Variables actually used in tree construction:\n",
            " [1] Assists    AtBat      CAtBat     CHits      CHmRun     CRBI      \n",
            " [7] CRuns      CWalks     DivisionW  Errors     Hits       HmRun     \n",
            "[13] LeagueA    NewLeagueN PutOuts    RBI        Runs       Walks     \n",
            "[19] Years     \n",
            "\n",
            "Root node error: 49071704/236 = 207931\n",
            "\n",
            "n= 236 \n",
            "\n",
            "            CP nsplit  rel error  xerror    xstd\n",
            "1   3.8835e-01      0 1.0000e+00 1.01439 0.14787\n",
            "2   1.5330e-01      1 6.1165e-01 0.63003 0.12393\n",
            "3   7.4640e-02      2 4.5835e-01 0.50708 0.10814\n",
            "4   5.2206e-02      3 3.8371e-01 0.58348 0.11666\n",
            "5   4.1054e-02      4 3.3150e-01 0.60729 0.11818\n",
            "6   3.3081e-02      5 2.9045e-01 0.62457 0.12030\n",
            "7   3.0969e-02      6 2.5737e-01 0.63076 0.12045\n",
            "8   2.3431e-02      7 2.2640e-01 0.62432 0.12089\n",
            "9   1.7296e-02      8 2.0297e-01 0.63225 0.12440\n",
            "10  1.3205e-02      9 1.8567e-01 0.62975 0.12870\n",
            "11  1.2441e-02     10 1.7247e-01 0.64221 0.12487\n",
            "12  1.2321e-02     11 1.6003e-01 0.67129 0.12649\n",
            "13  1.1481e-02     12 1.4771e-01 0.66932 0.12652\n",
            "14  9.4785e-03     13 1.3623e-01 0.68388 0.12806\n",
            "15  8.6790e-03     14 1.2675e-01 0.67491 0.12681\n",
            "16  7.3330e-03     15 1.1807e-01 0.69227 0.12592\n",
            "17  6.4905e-03     16 1.1073e-01 0.69998 0.12602\n",
            "18  5.8828e-03     17 1.0424e-01 0.68868 0.12074\n",
            "19  5.5905e-03     18 9.8362e-02 0.68365 0.12062\n",
            "20  5.3154e-03     19 9.2771e-02 0.69458 0.12093\n",
            "21  4.2986e-03     20 8.7456e-02 0.69872 0.11975\n",
            "22  4.2061e-03     21 8.3157e-02 0.70040 0.11950\n",
            "23  4.1165e-03     22 7.8951e-02 0.70311 0.12151\n",
            "24  3.8640e-03     23 7.4834e-02 0.69140 0.12079\n",
            "25  3.7690e-03     24 7.0970e-02 0.71142 0.12503\n",
            "26  3.6808e-03     25 6.7201e-02 0.70709 0.12508\n",
            "27  3.6089e-03     26 6.3521e-02 0.70540 0.12510\n",
            "28  3.5430e-03     27 5.9912e-02 0.70893 0.12507\n",
            "29  3.1000e-03     28 5.6369e-02 0.71425 0.12514\n",
            "30  3.0156e-03     29 5.3269e-02 0.71482 0.12515\n",
            "31  2.9618e-03     30 5.0253e-02 0.72114 0.12536\n",
            "32  2.8978e-03     31 4.7291e-02 0.72089 0.12537\n",
            "33  2.3308e-03     32 4.4394e-02 0.73869 0.12570\n",
            "34  2.2467e-03     34 3.9732e-02 0.73736 0.12526\n",
            "35  2.2350e-03     35 3.7485e-02 0.73736 0.12526\n",
            "36  2.1194e-03     36 3.5250e-02 0.73521 0.12530\n",
            "37  1.7929e-03     37 3.3131e-02 0.73321 0.12508\n",
            "38  1.5014e-03     38 3.1338e-02 0.73524 0.12461\n",
            "39  1.4921e-03     39 2.9837e-02 0.74749 0.12704\n",
            "40  1.4276e-03     40 2.8344e-02 0.75176 0.12847\n",
            "41  1.4166e-03     41 2.6917e-02 0.75724 0.12879\n",
            "42  1.4142e-03     42 2.5500e-02 0.75658 0.12879\n",
            "43  1.3826e-03     43 2.4086e-02 0.75658 0.12879\n",
            "44  1.3147e-03     44 2.2704e-02 0.75526 0.12867\n",
            "45  1.1779e-03     45 2.1389e-02 0.76219 0.12997\n",
            "46  9.8631e-04     46 2.0211e-02 0.76866 0.13007\n",
            "47  9.8563e-04     47 1.9225e-02 0.77266 0.13008\n",
            "48  8.8503e-04     48 1.8239e-02 0.77440 0.13025\n",
            "49  8.1974e-04     49 1.7354e-02 0.77619 0.13020\n",
            "50  7.3540e-04     50 1.6534e-02 0.77888 0.13017\n",
            "51  7.1758e-04     51 1.5799e-02 0.77948 0.13017\n",
            "52  6.6625e-04     52 1.5081e-02 0.76968 0.12962\n",
            "53  6.3682e-04     53 1.4415e-02 0.76882 0.12962\n",
            "54  5.8000e-04     54 1.3778e-02 0.76960 0.12961\n",
            "55  5.6361e-04     55 1.3198e-02 0.76877 0.12967\n",
            "56  5.5480e-04     56 1.2635e-02 0.76820 0.12966\n",
            "57  5.4592e-04     57 1.2080e-02 0.76820 0.12966\n",
            "58  5.4050e-04     58 1.1534e-02 0.76719 0.12965\n",
            "59  5.3255e-04     59 1.0993e-02 0.76715 0.12965\n",
            "60  5.2007e-04     60 1.0461e-02 0.76715 0.12965\n",
            "61  5.1643e-04     61 9.9408e-03 0.76715 0.12965\n",
            "62  4.6510e-04     62 9.4243e-03 0.76635 0.12966\n",
            "63  4.0120e-04     63 8.9592e-03 0.76984 0.12982\n",
            "64  3.8166e-04     64 8.5580e-03 0.76900 0.12984\n",
            "65  3.3202e-04     65 8.1764e-03 0.76912 0.12984\n",
            "66  3.1528e-04     66 7.8443e-03 0.76623 0.12968\n",
            "67  2.8564e-04     67 7.5291e-03 0.76396 0.12963\n",
            "68  2.8084e-04     68 7.2434e-03 0.76653 0.12964\n",
            "69  2.7587e-04     69 6.9626e-03 0.76653 0.12964\n",
            "70  2.7171e-04     70 6.6867e-03 0.76653 0.12964\n",
            "71  2.5390e-04     71 6.4150e-03 0.76653 0.12964\n",
            "72  2.4760e-04     72 6.1611e-03 0.76651 0.12962\n",
            "73  2.4011e-04     73 5.9135e-03 0.76667 0.12961\n",
            "74  2.3967e-04     74 5.6734e-03 0.76813 0.12969\n",
            "75  2.3606e-04     75 5.4337e-03 0.76813 0.12969\n",
            "76  2.2926e-04     76 5.1977e-03 0.76813 0.12969\n",
            "77  2.0805e-04     77 4.9684e-03 0.76662 0.12952\n",
            "78  2.0424e-04     78 4.7604e-03 0.76736 0.12951\n",
            "79  2.0111e-04     79 4.5561e-03 0.76724 0.12951\n",
            "80  1.9344e-04     80 4.3550e-03 0.76802 0.12950\n",
            "81  1.8246e-04     81 4.1616e-03 0.76155 0.12524\n",
            "82  1.7648e-04     82 3.9791e-03 0.76176 0.12524\n",
            "83  1.6434e-04     83 3.8026e-03 0.76194 0.12524\n",
            "84  1.6051e-04     84 3.6383e-03 0.76012 0.12525\n",
            "85  1.5921e-04     85 3.4778e-03 0.76012 0.12525\n",
            "86  1.5602e-04     86 3.3186e-03 0.76005 0.12525\n",
            "87  1.5103e-04     87 3.1626e-03 0.75855 0.12519\n",
            "88  1.4675e-04     88 3.0115e-03 0.75862 0.12519\n",
            "89  1.4672e-04     89 2.8648e-03 0.75862 0.12519\n",
            "90  1.4202e-04     90 2.7181e-03 0.75860 0.12519\n",
            "91  1.3399e-04     91 2.5760e-03 0.75795 0.12519\n",
            "92  1.1272e-04     92 2.4420e-03 0.75936 0.12522\n",
            "93  1.0873e-04     94 2.2166e-03 0.76076 0.12529\n",
            "94  1.0189e-04     95 2.1079e-03 0.76088 0.12515\n",
            "95  9.9854e-05     96 2.0060e-03 0.76082 0.12516\n",
            "96  9.8156e-05     97 1.9061e-03 0.76082 0.12516\n",
            "97  9.7816e-05     98 1.8080e-03 0.76297 0.12536\n",
            "98  9.2993e-05     99 1.7102e-03 0.76314 0.12536\n",
            "99  8.8542e-05    100 1.6172e-03 0.76336 0.12536\n",
            "100 8.2460e-05    101 1.5286e-03 0.76306 0.12534\n",
            "101 7.8126e-05    102 1.4462e-03 0.76334 0.12533\n",
            "102 7.2819e-05    103 1.3680e-03 0.76333 0.12533\n",
            "103 7.0742e-05    104 1.2952e-03 0.76254 0.12533\n",
            "104 6.2717e-05    105 1.2245e-03 0.76040 0.12519\n",
            "105 6.1899e-05    106 1.1618e-03 0.76031 0.12519\n",
            "106 5.5174e-05    107 1.0999e-03 0.75990 0.12520\n",
            "107 5.4451e-05    108 1.0447e-03 0.76051 0.12520\n",
            "108 5.3511e-05    109 9.9023e-04 0.76051 0.12520\n",
            "109 5.0045e-05    110 9.3672e-04 0.76090 0.12520\n",
            "110 3.6681e-05    111 8.8668e-04 0.76245 0.12568\n",
            "111 3.4317e-05    112 8.5000e-04 0.76195 0.12535\n",
            "112 3.0822e-05    113 8.1568e-04 0.76259 0.12536\n",
            "113 3.0288e-05    114 7.8486e-04 0.76396 0.12548\n",
            "114 2.9904e-05    115 7.5457e-04 0.76381 0.12548\n",
            "115 2.7511e-05    116 7.2466e-04 0.76372 0.12548\n",
            "116 2.5473e-05    117 6.9715e-04 0.76449 0.12547\n",
            "117 2.4522e-05    122 5.6979e-04 0.76511 0.12559\n",
            "118 2.2989e-05    123 5.4527e-04 0.76519 0.12558\n",
            "119 2.0685e-05    125 4.9929e-04 0.76527 0.12558\n",
            "120 1.9105e-05    126 4.7860e-04 0.76497 0.12559\n",
            "121 1.8761e-05    127 4.5950e-04 0.76497 0.12559\n",
            "122 1.6982e-05    128 4.4074e-04 0.76576 0.12592\n",
            "123 1.6303e-05    129 4.2375e-04 0.76480 0.12578\n",
            "124 1.5859e-05    133 3.5854e-04 0.76481 0.12578\n",
            "125 1.5326e-05    134 3.4268e-04 0.76515 0.12578\n",
            "126 1.5134e-05    135 3.2736e-04 0.76570 0.12582\n",
            "127 1.4350e-05    136 3.1222e-04 0.76569 0.12582\n",
            "128 1.4329e-05    137 2.9787e-04 0.76569 0.12582\n",
            "129 1.2482e-05    138 2.8355e-04 0.76558 0.12582\n",
            "130 1.2482e-05    139 2.7106e-04 0.76536 0.12580\n",
            "131 1.2269e-05    141 2.4610e-04 0.76536 0.12580\n",
            "132 1.2227e-05    142 2.3383e-04 0.76536 0.12580\n",
            "133 1.1321e-05    143 2.2160e-04 0.76533 0.12580\n",
            "134 1.0869e-05    144 2.1028e-04 0.76555 0.12579\n",
            "135 1.0643e-05    145 1.9941e-04 0.76555 0.12579\n",
            "136 1.0317e-05    146 1.8877e-04 0.76555 0.12579\n",
            "137 9.3613e-06    147 1.7846e-04 0.76548 0.12579\n",
            "138 9.1703e-06    148 1.6909e-04 0.76571 0.12579\n",
            "139 8.4910e-06    149 1.5992e-04 0.76566 0.12579\n",
            "140 8.3212e-06    152 1.3445e-04 0.76534 0.12579\n",
            "141 8.1513e-06    153 1.2613e-04 0.76534 0.12579\n",
            "142 6.8777e-06    154 1.1798e-04 0.76541 0.12579\n",
            "143 6.5502e-06    155 1.1110e-04 0.76532 0.12578\n",
            "144 6.3682e-06    156 1.0455e-04 0.76521 0.12579\n",
            "145 6.0321e-06    159 8.5446e-05 0.76521 0.12579\n",
            "146 5.4342e-06    160 7.9413e-05 0.76525 0.12579\n",
            "147 5.4342e-06    161 7.3979e-05 0.76527 0.12578\n",
            "148 4.9201e-06    163 6.3111e-05 0.76527 0.12578\n",
            "149 4.4043e-06    165 5.3271e-05 0.76530 0.12578\n",
            "150 4.0757e-06    166 4.8866e-05 0.76535 0.12578\n",
            "151 4.0426e-06    167 4.4791e-05 0.76533 0.12578\n",
            "152 3.7739e-06    168 4.0748e-05 0.76533 0.12578\n",
            "153 2.8304e-06    169 3.6974e-05 0.76554 0.12579\n",
            "154 2.2926e-06    170 3.4144e-05 0.76552 0.12575\n",
            "155 1.6982e-06    174 2.4973e-05 0.76549 0.12575\n",
            "156 1.5005e-06    175 2.3275e-05 0.76546 0.12575\n",
            "157 1.4978e-06    176 2.1775e-05 0.76545 0.12575\n",
            "158 1.3869e-06    177 2.0277e-05 0.76546 0.12575\n",
            "159 1.3586e-06    178 1.8890e-05 0.76546 0.12575\n",
            "160 1.0189e-06    179 1.7531e-05 0.76547 0.12575\n",
            "161 9.7918e-07    189 7.3422e-06 0.76519 0.12575\n",
            "162 7.6419e-07    190 6.3630e-06 0.76519 0.12575\n",
            "163 7.0752e-07    191 5.5988e-06 0.76506 0.12575\n",
            "164 6.2900e-07    192 4.8913e-06 0.76506 0.12575\n",
            "165 5.7314e-07    193 4.2623e-06 0.76511 0.12575\n",
            "166 5.3069e-07    194 3.6892e-06 0.76512 0.12575\n",
            "167 4.3049e-07    195 3.1585e-06 0.76512 0.12575\n",
            "168 3.8209e-07    196 2.7280e-06 0.76513 0.12575\n",
            "169 3.3964e-07    197 2.3459e-06 0.76512 0.12575\n",
            "170 2.5473e-07    198 2.0062e-06 0.76507 0.12575\n",
            "171 1.9105e-07    202 9.8733e-07 0.76496 0.12574\n",
            "172 1.6303e-07    203 7.9628e-07 0.76494 0.12574\n",
            "173 1.2482e-07    204 6.3326e-07 0.76494 0.12574\n",
            "174 1.2380e-07    205 5.0844e-07 0.76494 0.12574\n",
            "175 8.4910e-08    206 3.8464e-07 0.76495 0.12574\n",
            "176 6.3682e-08    208 2.1482e-07 0.76495 0.12574\n",
            "177 5.4342e-08    210 8.7457e-08 0.76492 0.12574\n",
            "178 3.0568e-08    211 3.3115e-08 0.76492 0.12574\n",
            "179 2.5473e-09    212 2.5473e-09 0.76492 0.12574\n",
            "180 0.0000e+00    213 0.0000e+00 0.76492 0.12574\n"
          ]
        }
      ]
    },
    {
      "cell_type": "code",
      "source": [
        "\n",
        "# Prune tree\n",
        "pruned_tree <- prune(tree_model, cp = optimal_cp)\n",
        "\n",
        "# Calculate tree out-of-sample MSE\n",
        "tree_predictions <- predict(pruned_tree,\n",
        "                          newdata = data.frame(X_test))\n",
        "tree_mse <- mean((y_test - tree_predictions)^2)"
      ],
      "metadata": {
        "id": "KGUB8hx2mLv9"
      },
      "execution_count": 21,
      "outputs": []
    },
    {
      "cell_type": "code",
      "source": [
        "# 5. Results\n",
        "cat(\"\\nModel Performance Comparison:\")\n",
        "cat(\"\\n-------------------------\")\n",
        "cat(\"\\nOLS Out-of-Sample MSE:\", round(ols_mse, 2))\n",
        "cat(\"\\nTree Out-of-Sample MSE:\", round(tree_mse, 2))\n",
        "cat(\"\\n\\nBest performing model:\",\n",
        "    ifelse(ols_mse < tree_mse, \"OLS Regression\", \"Regression Tree\"))"
      ],
      "metadata": {
        "colab": {
          "base_uri": "https://localhost:8080/"
        },
        "id": "dqXZgVtHmPfN",
        "outputId": "7b1a011f-672b-446d-a813-3871fb3110ed"
      },
      "execution_count": 22,
      "outputs": [
        {
          "output_type": "stream",
          "name": "stdout",
          "text": [
            "\n",
            "Model Performance Comparison:\n",
            "-------------------------\n",
            "OLS Out-of-Sample MSE: 205028.4\n",
            "Tree Out-of-Sample MSE: 176619.1\n",
            "\n",
            "Best performing model: Regression Tree"
          ]
        }
      ]
    },
    {
      "cell_type": "code",
      "source": [
        "# Print confidence intervals for OLS coefficients\n",
        "ci_table <- data.frame(\n",
        "  Coefficient = names(beta_hat),\n",
        "  Estimate = round(beta_hat, 4),\n",
        "  Lower_CI = round(beta_boots_lower, 4),\n",
        "  Upper_CI = round(beta_boots_upper, 4)\n",
        ")\n",
        "print(\"\\nOLS Coefficient Estimates and 95% Confidence Intervals:\")\n",
        "print(ci_table)\n",
        "\n"
      ],
      "metadata": {
        "colab": {
          "base_uri": "https://localhost:8080/"
        },
        "id": "BDcdeiT2lSfH",
        "outputId": "1da39b24-3d02-403e-a107-2d01f693d427"
      },
      "execution_count": 23,
      "outputs": [
        {
          "output_type": "stream",
          "name": "stdout",
          "text": [
            "[1] \"\\nOLS Coefficient Estimates and 95% Confidence Intervals:\"\n",
            "            Coefficient  Estimate  Lower_CI Upper_CI\n",
            "(Intercept) (Intercept)  195.7404  -63.8590 508.9423\n",
            "AtBat             AtBat   -1.6186   -3.2370   0.0137\n",
            "Hits               Hits    5.1974   -1.0708  11.1677\n",
            "HmRun             HmRun   -0.9441  -13.2088  12.0465\n",
            "Runs               Runs   -1.2292   -7.9399   5.5174\n",
            "RBI                 RBI    0.1647   -5.3647   5.7422\n",
            "Walks             Walks    6.4475    2.1877  10.3037\n",
            "Years             Years  -11.8179  -38.5881  14.0835\n",
            "CAtBat           CAtBat   -0.2542   -0.6579   0.1648\n",
            "CHits             CHits    0.6910   -1.0520   2.4616\n",
            "CHmRun           CHmRun    1.2268   -2.6233   5.7945\n",
            "CRuns             CRuns    1.1571   -0.6337   2.9705\n",
            "CRBI               CRBI    0.4689   -1.3651   2.0403\n",
            "CWalks           CWalks   -0.7005   -1.5151   0.1446\n",
            "LeagueA         LeagueA  -25.5772 -151.9728  95.4706\n",
            "LeagueN         LeagueN        NA        NA       NA\n",
            "DivisionW     DivisionW -102.3984 -177.8478 -25.0119\n",
            "PutOuts         PutOuts    0.2074    0.0200   0.4083\n",
            "Assists         Assists    0.4111   -0.1308   1.0701\n",
            "Errors           Errors   -3.3923  -12.9361   5.1252\n",
            "NewLeagueN   NewLeagueN   37.2298  -89.9576 165.0185\n"
          ]
        }
      ]
    },
    {
      "cell_type": "code",
      "source": [
        "# Plot the pruned tree\n",
        "par(mar = c(1,1,1,1))\n",
        "rpart.plot(pruned_tree,\n",
        "           box.palette = \"Blues\",\n",
        "           shadow.col = \"gray\",\n",
        "           fallen.leaves = TRUE)"
      ],
      "metadata": {
        "colab": {
          "base_uri": "https://localhost:8080/",
          "height": 437
        },
        "id": "svBUIqpHmX2l",
        "outputId": "c4252361-49d6-46e3-9803-5c151b4e396c"
      },
      "execution_count": 24,
      "outputs": [
        {
          "output_type": "display_data",
          "data": {
            "text/plain": [
              "plot without title"
            ],
            "image/png": "[encoded data removed]"
          },
          "metadata": {
            "image/png": {
              "width": 420,
              "height": 420
            }
          }
        }
      ]
    }
  ]
}