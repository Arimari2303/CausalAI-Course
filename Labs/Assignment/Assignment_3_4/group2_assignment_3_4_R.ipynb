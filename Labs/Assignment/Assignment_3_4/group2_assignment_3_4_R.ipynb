{
 "cells": [
  {
   "cell_type": "markdown",
   "id": "9295de20",
   "metadata": {
    "id": "9295de20"
   },
   "source": [
    "## Group 2 - Assignment 2_3\n",
    "\n"
   ]
  },
  {
   "cell_type": "markdown",
   "id": "908f369a",
   "metadata": {},
   "source": [
    "### Integrantes\n",
    "- GARCIA RODRIGUEZ, EMILIO ALONSO\n",
    "- PADILLA AQUISE, ALESSANDRO PIERO\n",
    "- RIEGA NUÑEZ, GABRIEL ANTONIO FERMIN\n",
    "- SALAMANCA FERNANDEZ, LUCAS PABLO\n",
    "- SILVA ANDUJAR, NICOLAS"
   ]
  },
  {
   "cell_type": "code",
   "execution_count": null,
   "id": "66f526ee",
   "metadata": {
    "vscode": {
     "languageId": "r"
    }
   },
   "outputs": [
    {
     "name": "stderr",
     "output_type": "stream",
     "text": [
      "Loading required package: Matrix\n",
      "\n",
      "Loaded glmnet 4.1-8\n",
      "\n"
     ]
    }
   ],
   "source": [
    "# install.packages(\"hdm\")\n",
    "# install.packages(\"xtable\")\n",
    "library(hdm)\n",
    "library(xtable)\n",
    "library(hdm)\n",
    "library(glmnet)"
   ]
  },
  {
   "cell_type": "markdown",
   "id": "37ca519d",
   "metadata": {},
   "source": [
    "1. Consider the US census data from the year 2015 to analyse the effect of college graduate (clg) status and it’s interaction effects with gender (sex), location (mw, so,we, ne) and both on wage jointly. All other variables denote some other socio-economic characteristics, e.g. marital status, occupation, and experience.\n"
   ]
  },
  {
   "cell_type": "code",
   "execution_count": 4,
   "id": "5a5707c4",
   "metadata": {
    "vscode": {
     "languageId": "r"
    }
   },
   "outputs": [],
   "source": [
    "\n",
    "url = \"https://github.com/d2cml-ai/CausalAI-Course/raw/refs/heads/main/data/wage2015_subsample_inference.csv\"\n",
    "data<- read.csv(url)"
   ]
  },
  {
   "cell_type": "markdown",
   "id": "b1dc0466",
   "metadata": {},
   "source": [
    "Generate the dataset with all the two-way interactions between variables. Make sure that the categorical variables are transformed to dummies properly. Also, note that the resulting dataset contains the treatment and it’s interactions with the other variables of interest, so you don’t need to generate them separately. (2 pts)\n",
    "\n"
   ]
  },
  {
   "cell_type": "code",
   "execution_count": 5,
   "id": "6decc8ef",
   "metadata": {
    "vscode": {
     "languageId": "r"
    }
   },
   "outputs": [],
   "source": [
    "y <- data$lwage\n",
    "Z <- subset(data, select = -c(lwage, wage))"
   ]
  },
  {
   "cell_type": "code",
   "execution_count": 6,
   "id": "fee663e6",
   "metadata": {
    "vscode": {
     "languageId": "r"
    }
   },
   "outputs": [],
   "source": [
    "center_colmeans <- function(x) {\n",
    "  xcenter <- colMeans(x)\n",
    "  x - rep(xcenter, rep.int(nrow(x), ncol(x)))\n",
    "}"
   ]
  },
  {
   "cell_type": "code",
   "execution_count": 8,
   "id": "04f6e0ae",
   "metadata": {
    "vscode": {
     "languageId": "r"
    }
   },
   "outputs": [],
   "source": [
    "data$we <- as.factor(data$we)          \n",
    "data$sex <- as.factor(data$sex)        \n",
    "data$mw <- as.factor(data$mw)          \n",
    "data$clg <- as.factor(data$clg)        \n",
    "data$so <- as.factor(data$so)          \n",
    "data$ne <- as.factor(data$ ne)         "
   ]
  },
  {
   "cell_type": "code",
   "execution_count": 10,
   "id": "b9d789b6",
   "metadata": {
    "vscode": {
     "languageId": "r"
    }
   },
   "outputs": [],
   "source": [
    "# create the model matrix for the covariates\n",
    "controls_formula <- \"~ 0 + (shs + hsg + scl + sex + C(occ2) + C(ind2) + mw + so + we + exp1 + exp2 + exp3 + exp4)\"\n",
    "Zcontrols <- model.matrix(as.formula(controls_formula), data = Z)\n",
    "Zcontrols <- center_colmeans(Zcontrols)"
   ]
  },
  {
   "cell_type": "code",
   "execution_count": 11,
   "id": "8324dbc3",
   "metadata": {
    "vscode": {
     "languageId": "r"
    }
   },
   "outputs": [],
   "source": [
    "# create the model matrix for the linear heterogeneity\n",
    "linear_het_formula <- \"~ -1 +(shs+hsg+scl+sex+mw+so+we+exp1+exp2+exp3+exp4)\"\n",
    "Zhet <- model.matrix(as.formula(linear_het_formula), data = Z)\n",
    "Zhet <- center_colmeans(Zhet)"
   ]
  },
  {
   "cell_type": "code",
   "execution_count": 12,
   "id": "7dafe3f2",
   "metadata": {
    "vscode": {
     "languageId": "r"
    }
   },
   "outputs": [],
   "source": [
    "# create the model matrix for the higher order heterogeneity\n",
    "Zhet <- as.data.frame(cbind(Zhet, \"clg\" = Z$clg))\n",
    "nonlin_het_formula <- \"~ -1 + clg + clg * (shs+hsg+scl+sex+mw+so+we+exp1+exp2+exp3+exp4)\"\n",
    "Zinteractions <- model.matrix(as.formula(nonlin_het_formula), data = Zhet)\n",
    "interaction_cols <- Zinteractions[, grepl(\"clg\", colnames(Zinteractions))]"
   ]
  },
  {
   "cell_type": "code",
   "execution_count": 13,
   "id": "a073e8d7",
   "metadata": {
    "vscode": {
     "languageId": "r"
    }
   },
   "outputs": [],
   "source": [
    "#putting variables together\n",
    "X <- cbind(Zinteractions, Zcontrols)\n"
   ]
  },
  {
   "cell_type": "code",
   "execution_count": 14,
   "id": "4911f4fe",
   "metadata": {
    "vscode": {
     "languageId": "r"
    }
   },
   "outputs": [
    {
     "data": {
      "text/html": [
       "<table class=\"dataframe\">\n",
       "<caption>A matrix: 12 × 4 of type dbl</caption>\n",
       "<thead>\n",
       "\t<tr><th></th><th scope=col>Estimate.</th><th scope=col>Std. Error</th><th scope=col>t value</th><th scope=col>Pr(&gt;|t|)</th></tr>\n",
       "</thead>\n",
       "<tbody>\n",
       "\t<tr><th scope=row>clg</th><td>-3.713819e+11</td><td>1.980543e+11</td><td>-1.8751517</td><td>0.060771856</td></tr>\n",
       "\t<tr><th scope=row>clg:shs</th><td> 8.169637e+13</td><td>4.356780e+13</td><td> 1.8751548</td><td>0.060771429</td></tr>\n",
       "\t<tr><th scope=row>clg:hsg</th><td>-1.021203e+12</td><td>5.445975e+11</td><td>-1.8751513</td><td>0.060771911</td></tr>\n",
       "\t<tr><th scope=row>clg:scl</th><td> 1.992336e+12</td><td>1.062494e+12</td><td> 1.8751513</td><td>0.060771911</td></tr>\n",
       "\t<tr><th scope=row>clg:sex</th><td> 2.971526e-02</td><td>2.949708e-02</td><td> 1.0073965</td><td>0.313744260</td></tr>\n",
       "\t<tr><th scope=row>clg:mw</th><td> 4.330385e-02</td><td>4.121881e-02</td><td> 1.0505845</td><td>0.293449450</td></tr>\n",
       "\t<tr><th scope=row>clg:so</th><td> 2.608537e-02</td><td>3.944054e-02</td><td> 0.6613848</td><td>0.508365603</td></tr>\n",
       "\t<tr><th scope=row>clg:we</th><td>-6.952062e-02</td><td>4.238509e-02</td><td>-1.6402138</td><td>0.100960715</td></tr>\n",
       "\t<tr><th scope=row>clg:exp1</th><td> 9.197416e-04</td><td>7.860151e-03</td><td> 0.1170132</td><td>0.906849570</td></tr>\n",
       "\t<tr><th scope=row>clg:exp2</th><td> 6.947514e-02</td><td>6.367845e-02</td><td> 1.0910307</td><td>0.275259371</td></tr>\n",
       "\t<tr><th scope=row>clg:exp3</th><td>-9.501260e-03</td><td>5.122370e-02</td><td>-0.1854856</td><td>0.852848163</td></tr>\n",
       "\t<tr><th scope=row>clg:exp4</th><td>-8.456555e-03</td><td>3.085244e-03</td><td>-2.7409678</td><td>0.006125851</td></tr>\n",
       "</tbody>\n",
       "</table>\n"
      ],
      "text/latex": [
       "A matrix: 12 × 4 of type dbl\n",
       "\\begin{tabular}{r|llll}\n",
       "  & Estimate. & Std. Error & t value & Pr(>\\textbar{}t\\textbar{})\\\\\n",
       "\\hline\n",
       "\tclg & -3.713819e+11 & 1.980543e+11 & -1.8751517 & 0.060771856\\\\\n",
       "\tclg:shs &  8.169637e+13 & 4.356780e+13 &  1.8751548 & 0.060771429\\\\\n",
       "\tclg:hsg & -1.021203e+12 & 5.445975e+11 & -1.8751513 & 0.060771911\\\\\n",
       "\tclg:scl &  1.992336e+12 & 1.062494e+12 &  1.8751513 & 0.060771911\\\\\n",
       "\tclg:sex &  2.971526e-02 & 2.949708e-02 &  1.0073965 & 0.313744260\\\\\n",
       "\tclg:mw &  4.330385e-02 & 4.121881e-02 &  1.0505845 & 0.293449450\\\\\n",
       "\tclg:so &  2.608537e-02 & 3.944054e-02 &  0.6613848 & 0.508365603\\\\\n",
       "\tclg:we & -6.952062e-02 & 4.238509e-02 & -1.6402138 & 0.100960715\\\\\n",
       "\tclg:exp1 &  9.197416e-04 & 7.860151e-03 &  0.1170132 & 0.906849570\\\\\n",
       "\tclg:exp2 &  6.947514e-02 & 6.367845e-02 &  1.0910307 & 0.275259371\\\\\n",
       "\tclg:exp3 & -9.501260e-03 & 5.122370e-02 & -0.1854856 & 0.852848163\\\\\n",
       "\tclg:exp4 & -8.456555e-03 & 3.085244e-03 & -2.7409678 & 0.006125851\\\\\n",
       "\\end{tabular}\n"
      ],
      "text/markdown": [
       "\n",
       "A matrix: 12 × 4 of type dbl\n",
       "\n",
       "| <!--/--> | Estimate. | Std. Error | t value | Pr(&gt;|t|) |\n",
       "|---|---|---|---|---|\n",
       "| clg | -3.713819e+11 | 1.980543e+11 | -1.8751517 | 0.060771856 |\n",
       "| clg:shs |  8.169637e+13 | 4.356780e+13 |  1.8751548 | 0.060771429 |\n",
       "| clg:hsg | -1.021203e+12 | 5.445975e+11 | -1.8751513 | 0.060771911 |\n",
       "| clg:scl |  1.992336e+12 | 1.062494e+12 |  1.8751513 | 0.060771911 |\n",
       "| clg:sex |  2.971526e-02 | 2.949708e-02 |  1.0073965 | 0.313744260 |\n",
       "| clg:mw |  4.330385e-02 | 4.121881e-02 |  1.0505845 | 0.293449450 |\n",
       "| clg:so |  2.608537e-02 | 3.944054e-02 |  0.6613848 | 0.508365603 |\n",
       "| clg:we | -6.952062e-02 | 4.238509e-02 | -1.6402138 | 0.100960715 |\n",
       "| clg:exp1 |  9.197416e-04 | 7.860151e-03 |  0.1170132 | 0.906849570 |\n",
       "| clg:exp2 |  6.947514e-02 | 6.367845e-02 |  1.0910307 | 0.275259371 |\n",
       "| clg:exp3 | -9.501260e-03 | 5.122370e-02 | -0.1854856 | 0.852848163 |\n",
       "| clg:exp4 | -8.456555e-03 | 3.085244e-03 | -2.7409678 | 0.006125851 |\n",
       "\n"
      ],
      "text/plain": [
       "         Estimate.     Std. Error   t value    Pr(>|t|)   \n",
       "clg      -3.713819e+11 1.980543e+11 -1.8751517 0.060771856\n",
       "clg:shs   8.169637e+13 4.356780e+13  1.8751548 0.060771429\n",
       "clg:hsg  -1.021203e+12 5.445975e+11 -1.8751513 0.060771911\n",
       "clg:scl   1.992336e+12 1.062494e+12  1.8751513 0.060771911\n",
       "clg:sex   2.971526e-02 2.949708e-02  1.0073965 0.313744260\n",
       "clg:mw    4.330385e-02 4.121881e-02  1.0505845 0.293449450\n",
       "clg:so    2.608537e-02 3.944054e-02  0.6613848 0.508365603\n",
       "clg:we   -6.952062e-02 4.238509e-02 -1.6402138 0.100960715\n",
       "clg:exp1  9.197416e-04 7.860151e-03  0.1170132 0.906849570\n",
       "clg:exp2  6.947514e-02 6.367845e-02  1.0910307 0.275259371\n",
       "clg:exp3 -9.501260e-03 5.122370e-02 -0.1854856 0.852848163\n",
       "clg:exp4 -8.456555e-03 3.085244e-03 -2.7409678 0.006125851"
      ]
     },
     "metadata": {},
     "output_type": "display_data"
    },
    {
     "name": "stdout",
     "output_type": "stream",
     "text": [
      "% latex table generated in R 4.3.3 by xtable 1.8-4 package\n",
      "% Mon Nov 18 19:38:24 2024\n",
      "\\begin{table}[ht]\n",
      "\\centering\n",
      "\\begin{tabular}{rrrr}\n",
      "  \\hline\n",
      " & Estimate. & Std. Error & Pr($>$$|$t$|$) \\\\ \n",
      "  \\hline\n",
      "clg & -371381875189.89 & 198054309181.87 & 0.06 \\\\ \n",
      "  clg:shs & 81696372192327.00 & 43567801276256.99 & 0.06 \\\\ \n",
      "  clg:hsg & -1021202720706.16 & 544597504743.39 & 0.06 \\\\ \n",
      "  clg:scl & 1992336257966.37 & 1062493599652.66 & 0.06 \\\\ \n",
      "  clg:sex & 0.03 & 0.03 & 0.31 \\\\ \n",
      "  clg:mw & 0.04 & 0.04 & 0.29 \\\\ \n",
      "  clg:so & 0.03 & 0.04 & 0.51 \\\\ \n",
      "  clg:we & -0.07 & 0.04 & 0.10 \\\\ \n",
      "  clg:exp1 & 0.00 & 0.01 & 0.91 \\\\ \n",
      "  clg:exp2 & 0.07 & 0.06 & 0.28 \\\\ \n",
      "  clg:exp3 & -0.01 & 0.05 & 0.85 \\\\ \n",
      "  clg:exp4 & -0.01 & 0.00 & 0.01 \\\\ \n",
      "   \\hline\n",
      "\\end{tabular}\n",
      "\\end{table}\n"
     ]
    }
   ],
   "source": [
    "# Ajustar el índice para la variable de interés 'clg'\n",
    "index_clg <- grep(\"clg\", colnames(Zinteractions))\n",
    "\n",
    "# Estimar los efectos con la variable de interés 'clg'\n",
    "effects_clg <- hdm::rlassoEffects(x = X, y = y, index = index_clg, post = FALSE)\n",
    "\n",
    "# Resumir los resultados\n",
    "result <- summary(effects_clg)\n",
    "\n",
    "# Extraer y mostrar los coeficientes\n",
    "result$coef\n",
    "print(xtable(result$coef[, c(1, 2, 4)], type = \"latex\"), digits = 3)\n"
   ]
  },
  {
   "cell_type": "code",
   "execution_count": 15,
   "id": "a08231da",
   "metadata": {
    "vscode": {
     "languageId": "r"
    }
   },
   "outputs": [
    {
     "data": {
      "text/html": [
       "<table class=\"dataframe\">\n",
       "<caption>A matrix: 12 × 2 of type dbl</caption>\n",
       "<thead>\n",
       "\t<tr><th></th><th scope=col>2.5 %</th><th scope=col>97.5 %</th></tr>\n",
       "</thead>\n",
       "<tbody>\n",
       "\t<tr><th scope=row>clg</th><td>-7.595612e+11</td><td> 1.679744e+10</td></tr>\n",
       "\t<tr><th scope=row>clg:shs</th><td>-3.694949e+12</td><td> 1.670877e+14</td></tr>\n",
       "\t<tr><th scope=row>clg:hsg</th><td>-2.088594e+12</td><td> 4.618877e+10</td></tr>\n",
       "\t<tr><th scope=row>clg:scl</th><td>-9.011293e+10</td><td> 4.074785e+12</td></tr>\n",
       "\t<tr><th scope=row>clg:sex</th><td>-2.809796e-02</td><td> 8.752848e-02</td></tr>\n",
       "\t<tr><th scope=row>clg:mw</th><td>-3.748354e-02</td><td> 1.240912e-01</td></tr>\n",
       "\t<tr><th scope=row>clg:so</th><td>-5.121666e-02</td><td> 1.033874e-01</td></tr>\n",
       "\t<tr><th scope=row>clg:we</th><td>-1.525939e-01</td><td> 1.355264e-02</td></tr>\n",
       "\t<tr><th scope=row>clg:exp1</th><td>-1.448587e-02</td><td> 1.632535e-02</td></tr>\n",
       "\t<tr><th scope=row>clg:exp2</th><td>-5.533232e-02</td><td> 1.942826e-01</td></tr>\n",
       "\t<tr><th scope=row>clg:exp3</th><td>-1.098979e-01</td><td> 9.089536e-02</td></tr>\n",
       "\t<tr><th scope=row>clg:exp4</th><td>-1.450352e-02</td><td>-2.409588e-03</td></tr>\n",
       "</tbody>\n",
       "</table>\n"
      ],
      "text/latex": [
       "A matrix: 12 × 2 of type dbl\n",
       "\\begin{tabular}{r|ll}\n",
       "  & 2.5 \\% & 97.5 \\%\\\\\n",
       "\\hline\n",
       "\tclg & -7.595612e+11 &  1.679744e+10\\\\\n",
       "\tclg:shs & -3.694949e+12 &  1.670877e+14\\\\\n",
       "\tclg:hsg & -2.088594e+12 &  4.618877e+10\\\\\n",
       "\tclg:scl & -9.011293e+10 &  4.074785e+12\\\\\n",
       "\tclg:sex & -2.809796e-02 &  8.752848e-02\\\\\n",
       "\tclg:mw & -3.748354e-02 &  1.240912e-01\\\\\n",
       "\tclg:so & -5.121666e-02 &  1.033874e-01\\\\\n",
       "\tclg:we & -1.525939e-01 &  1.355264e-02\\\\\n",
       "\tclg:exp1 & -1.448587e-02 &  1.632535e-02\\\\\n",
       "\tclg:exp2 & -5.533232e-02 &  1.942826e-01\\\\\n",
       "\tclg:exp3 & -1.098979e-01 &  9.089536e-02\\\\\n",
       "\tclg:exp4 & -1.450352e-02 & -2.409588e-03\\\\\n",
       "\\end{tabular}\n"
      ],
      "text/markdown": [
       "\n",
       "A matrix: 12 × 2 of type dbl\n",
       "\n",
       "| <!--/--> | 2.5 % | 97.5 % |\n",
       "|---|---|---|\n",
       "| clg | -7.595612e+11 |  1.679744e+10 |\n",
       "| clg:shs | -3.694949e+12 |  1.670877e+14 |\n",
       "| clg:hsg | -2.088594e+12 |  4.618877e+10 |\n",
       "| clg:scl | -9.011293e+10 |  4.074785e+12 |\n",
       "| clg:sex | -2.809796e-02 |  8.752848e-02 |\n",
       "| clg:mw | -3.748354e-02 |  1.240912e-01 |\n",
       "| clg:so | -5.121666e-02 |  1.033874e-01 |\n",
       "| clg:we | -1.525939e-01 |  1.355264e-02 |\n",
       "| clg:exp1 | -1.448587e-02 |  1.632535e-02 |\n",
       "| clg:exp2 | -5.533232e-02 |  1.942826e-01 |\n",
       "| clg:exp3 | -1.098979e-01 |  9.089536e-02 |\n",
       "| clg:exp4 | -1.450352e-02 | -2.409588e-03 |\n",
       "\n"
      ],
      "text/plain": [
       "         2.5 %         97.5 %       \n",
       "clg      -7.595612e+11  1.679744e+10\n",
       "clg:shs  -3.694949e+12  1.670877e+14\n",
       "clg:hsg  -2.088594e+12  4.618877e+10\n",
       "clg:scl  -9.011293e+10  4.074785e+12\n",
       "clg:sex  -2.809796e-02  8.752848e-02\n",
       "clg:mw   -3.748354e-02  1.240912e-01\n",
       "clg:so   -5.121666e-02  1.033874e-01\n",
       "clg:we   -1.525939e-01  1.355264e-02\n",
       "clg:exp1 -1.448587e-02  1.632535e-02\n",
       "clg:exp2 -5.533232e-02  1.942826e-01\n",
       "clg:exp3 -1.098979e-01  9.089536e-02\n",
       "clg:exp4 -1.450352e-02 -2.409588e-03"
      ]
     },
     "metadata": {},
     "output_type": "display_data"
    },
    {
     "name": "stdout",
     "output_type": "stream",
     "text": [
      "% latex table generated in R 4.3.3 by xtable 1.8-4 package\n",
      "% Mon Nov 18 19:38:48 2024\n",
      "\\begin{table}[ht]\n",
      "\\centering\n",
      "\\begin{tabular}{rrr}\n",
      "  \\hline\n",
      " & 2.5 \\% & 97.5 \\% \\\\ \n",
      "  \\hline\n",
      "clg & -759561188169.32 & 16797437789.55 \\\\ \n",
      "  clg:shs & -3694949194734.89 & 167087693579388.88 \\\\ \n",
      "  clg:hsg & -2088594216073.59 & 46188774661.27 \\\\ \n",
      "  clg:scl & -90112931157.16 & 4074785447089.91 \\\\ \n",
      "  clg:sex & -0.03 & 0.09 \\\\ \n",
      "  clg:mw & -0.04 & 0.12 \\\\ \n",
      "  clg:so & -0.05 & 0.10 \\\\ \n",
      "  clg:we & -0.15 & 0.01 \\\\ \n",
      "  clg:exp1 & -0.01 & 0.02 \\\\ \n",
      "  clg:exp2 & -0.06 & 0.19 \\\\ \n",
      "  clg:exp3 & -0.11 & 0.09 \\\\ \n",
      "  clg:exp4 & -0.01 & -0.00 \\\\ \n",
      "   \\hline\n",
      "\\end{tabular}\n",
      "\\end{table}\n"
     ]
    }
   ],
   "source": [
    "pointwise_ci <- confint(effects_clg, level =0.95)\n",
    "pointwise_ci\n",
    "print(xtable(pointwise_ci), type= \"latex\")"
   ]
  },
  {
   "cell_type": "code",
   "execution_count": 16,
   "id": "ee253519",
   "metadata": {
    "vscode": {
     "languageId": "r"
    }
   },
   "outputs": [
    {
     "data": {
      "text/html": [
       "<table class=\"dataframe\">\n",
       "<caption>A matrix: 12 × 2 of type dbl</caption>\n",
       "<thead>\n",
       "\t<tr><th></th><th scope=col>2.5 %</th><th scope=col>97.5 %</th></tr>\n",
       "</thead>\n",
       "<tbody>\n",
       "\t<tr><th scope=row>clg</th><td>-2.590178e+12</td><td>1.847414e+12</td></tr>\n",
       "\t<tr><th scope=row>clg:shs</th><td>-4.064304e+14</td><td>5.698231e+14</td></tr>\n",
       "\t<tr><th scope=row>clg:hsg</th><td>-7.122217e+12</td><td>5.079811e+12</td></tr>\n",
       "\t<tr><th scope=row>clg:scl</th><td>-9.910788e+12</td><td>1.389546e+13</td></tr>\n",
       "\t<tr><th scope=row>clg:sex</th><td>-3.003057e-01</td><td>3.597362e-01</td></tr>\n",
       "\t<tr><th scope=row>clg:mw</th><td>-4.224165e-01</td><td>5.090242e-01</td></tr>\n",
       "\t<tr><th scope=row>clg:so</th><td>-4.127636e-01</td><td>4.649343e-01</td></tr>\n",
       "\t<tr><th scope=row>clg:we</th><td>-5.368470e-01</td><td>3.978058e-01</td></tr>\n",
       "\t<tr><th scope=row>clg:exp1</th><td>-8.846032e-02</td><td>9.029980e-02</td></tr>\n",
       "\t<tr><th scope=row>clg:exp2</th><td>-6.761469e-01</td><td>8.150972e-01</td></tr>\n",
       "\t<tr><th scope=row>clg:exp3</th><td>-6.045955e-01</td><td>5.855930e-01</td></tr>\n",
       "\t<tr><th scope=row>clg:exp4</th><td>-4.441752e-02</td><td>2.750441e-02</td></tr>\n",
       "</tbody>\n",
       "</table>\n"
      ],
      "text/latex": [
       "A matrix: 12 × 2 of type dbl\n",
       "\\begin{tabular}{r|ll}\n",
       "  & 2.5 \\% & 97.5 \\%\\\\\n",
       "\\hline\n",
       "\tclg & -2.590178e+12 & 1.847414e+12\\\\\n",
       "\tclg:shs & -4.064304e+14 & 5.698231e+14\\\\\n",
       "\tclg:hsg & -7.122217e+12 & 5.079811e+12\\\\\n",
       "\tclg:scl & -9.910788e+12 & 1.389546e+13\\\\\n",
       "\tclg:sex & -3.003057e-01 & 3.597362e-01\\\\\n",
       "\tclg:mw & -4.224165e-01 & 5.090242e-01\\\\\n",
       "\tclg:so & -4.127636e-01 & 4.649343e-01\\\\\n",
       "\tclg:we & -5.368470e-01 & 3.978058e-01\\\\\n",
       "\tclg:exp1 & -8.846032e-02 & 9.029980e-02\\\\\n",
       "\tclg:exp2 & -6.761469e-01 & 8.150972e-01\\\\\n",
       "\tclg:exp3 & -6.045955e-01 & 5.855930e-01\\\\\n",
       "\tclg:exp4 & -4.441752e-02 & 2.750441e-02\\\\\n",
       "\\end{tabular}\n"
      ],
      "text/markdown": [
       "\n",
       "A matrix: 12 × 2 of type dbl\n",
       "\n",
       "| <!--/--> | 2.5 % | 97.5 % |\n",
       "|---|---|---|\n",
       "| clg | -2.590178e+12 | 1.847414e+12 |\n",
       "| clg:shs | -4.064304e+14 | 5.698231e+14 |\n",
       "| clg:hsg | -7.122217e+12 | 5.079811e+12 |\n",
       "| clg:scl | -9.910788e+12 | 1.389546e+13 |\n",
       "| clg:sex | -3.003057e-01 | 3.597362e-01 |\n",
       "| clg:mw | -4.224165e-01 | 5.090242e-01 |\n",
       "| clg:so | -4.127636e-01 | 4.649343e-01 |\n",
       "| clg:we | -5.368470e-01 | 3.978058e-01 |\n",
       "| clg:exp1 | -8.846032e-02 | 9.029980e-02 |\n",
       "| clg:exp2 | -6.761469e-01 | 8.150972e-01 |\n",
       "| clg:exp3 | -6.045955e-01 | 5.855930e-01 |\n",
       "| clg:exp4 | -4.441752e-02 | 2.750441e-02 |\n",
       "\n"
      ],
      "text/plain": [
       "         2.5 %         97.5 %      \n",
       "clg      -2.590178e+12 1.847414e+12\n",
       "clg:shs  -4.064304e+14 5.698231e+14\n",
       "clg:hsg  -7.122217e+12 5.079811e+12\n",
       "clg:scl  -9.910788e+12 1.389546e+13\n",
       "clg:sex  -3.003057e-01 3.597362e-01\n",
       "clg:mw   -4.224165e-01 5.090242e-01\n",
       "clg:so   -4.127636e-01 4.649343e-01\n",
       "clg:we   -5.368470e-01 3.978058e-01\n",
       "clg:exp1 -8.846032e-02 9.029980e-02\n",
       "clg:exp2 -6.761469e-01 8.150972e-01\n",
       "clg:exp3 -6.045955e-01 5.855930e-01\n",
       "clg:exp4 -4.441752e-02 2.750441e-02"
      ]
     },
     "metadata": {},
     "output_type": "display_data"
    },
    {
     "name": "stdout",
     "output_type": "stream",
     "text": [
      "% latex table generated in R 4.3.3 by xtable 1.8-4 package\n",
      "% Mon Nov 18 19:39:23 2024\n",
      "\\begin{table}[ht]\n",
      "\\centering\n",
      "\\begin{tabular}{rrr}\n",
      "  \\hline\n",
      " & 2.5 \\% & 97.5 \\% \\\\ \n",
      "  \\hline\n",
      "clg & -2590177664541.48 & 1847413914161.70 \\\\ \n",
      "  clg:shs & -406430355269216.69 & 569823099653870.75 \\\\ \n",
      "  clg:hsg & -7122216554824.21 & 5079811113411.89 \\\\ \n",
      "  clg:scl & -9910788155696.04 & 13895460671628.79 \\\\ \n",
      "  clg:sex & -0.30 & 0.36 \\\\ \n",
      "  clg:mw & -0.42 & 0.51 \\\\ \n",
      "  clg:so & -0.41 & 0.46 \\\\ \n",
      "  clg:we & -0.54 & 0.40 \\\\ \n",
      "  clg:exp1 & -0.09 & 0.09 \\\\ \n",
      "  clg:exp2 & -0.68 & 0.82 \\\\ \n",
      "  clg:exp3 & -0.60 & 0.59 \\\\ \n",
      "  clg:exp4 & -0.04 & 0.03 \\\\ \n",
      "   \\hline\n",
      "\\end{tabular}\n",
      "\\end{table}\n"
     ]
    }
   ],
   "source": [
    "#comparing pointwise confidence intervarls to joint confidence intervals\n",
    "joint_ci <- confint(effects_clg, level = 0.95, joint = TRUE)\n",
    "joint_ci\n",
    "print(xtable(joint_ci), type = \"latex\")"
   ]
  },
  {
   "cell_type": "markdown",
   "id": "82cd7865",
   "metadata": {},
   "source": [
    "## Key Findings\n",
    "\n",
    "1. **Main Effect of `clg`**:\n",
    "   - The coefficient for `clg` is **-2590177664541.48**, with a **very wide confidence interval**:\n",
    "     - **2.5%**: -1847413914161.70\n",
    "     - **97.5%**: 1847413914161.70\n",
    "   - This suggests that the overall effect of `clg` on the dependent variable (`y`) is **not statistically significant**, as the confidence interval includes zero.\n",
    "\n",
    "2. **Regional Interactions**:\n",
    "   - The interaction terms involving `clg` and specific regions (e.g., `clg:ne`, `clg:sw`) provide insights into regional variations:\n",
    "     - **`clg:shs`** (likely representing the `southwest` or related region):\n",
    "       - Coefficient: **-40640355269216.69**\n",
    "       - Confidence Interval: Includes zero → Not statistically significant.\n",
    "     - **`clg:hsg`** (potentially `northeast` or related region):\n",
    "       - Coefficient: **-712216554842.21**\n",
    "       - Confidence Interval: Includes zero → Not statistically significant.\n",
    "     - **`clg:scl`**:\n",
    "       - Coefficient: **-9910788155696.04**\n",
    "       - Confidence Interval: Includes zero → Not statistically significant.\n",
    "\n",
    "3. **Significance by Region**:\n",
    "   - None of the regional interactions (`ne`, `sw`, or similar) show statistical significance, as their confidence intervals include zero.\n",
    "   - Despite large coefficients for regions like `clg:shs` (southwest) and `clg:hsg` (northeast), the high variance makes it impossible to conclude a meaningful impact.\n",
    "\n",
    "## Region with the Highest Impact\n",
    "While none of the regions achieve statistical significance, the **southwest (`clg:shs`)** has the **largest coefficient in absolute terms**:\n",
    "   - Coefficient: **-40640355269216.69**\n",
    "   - This suggests that the southwest might show the strongest association, but due to the wide confidence interval, the result is not conclusive.\n"
   ]
  },
  {
   "cell_type": "markdown",
   "id": "9e3bb8cd",
   "metadata": {},
   "source": [
    "### 2. For the following examples, draw a coherent Directed Acyclic Graph and indicate the confounders, colliders and the proper controls (if they exist)."
   ]
  },
  {
   "cell_type": "markdown",
   "id": "f8359777",
   "metadata": {},
   "source": [
    "* You are trying to study the effect of youth smoking on lung function. Your dataset contains the\n",
    "following variables : (5 pts)\n",
    "\n",
    "        i. Individual smoking behavior (Treatment)\n",
    "    \n",
    "        ii. Forced respiratory volume (Outcome)\n",
    "    \n",
    "        iii. Age\n",
    "    \n",
    "        iv. Height\n",
    "    \n",
    "        v. Sex"
   ]
  },
  {
   "cell_type": "code",
   "execution_count": 18,
   "id": "4dhjwd4Q3lqM",
   "metadata": {
    "colab": {
     "base_uri": "https://localhost:8080/",
     "height": 529
    },
    "id": "4dhjwd4Q3lqM",
    "outputId": "ec2e0585-5af0-472d-fc73-5f6a0e51af1c",
    "vscode": {
     "languageId": "r"
    }
   },
   "outputs": [
    {
     "name": "stderr",
     "output_type": "stream",
     "text": [
      "Plot coordinates for graph not supplied! Generating coordinates, see ?coordinates for how to set your own.\n",
      "\n"
     ]
    },
    {
     "data": {
      "image/png": "[encoded data removed]",
      "text/plain": [
       "plot without title"
      ]
     },
     "metadata": {
      "image/png": {
       "height": 420,
       "width": 420
      }
     },
     "output_type": "display_data"
    }
   ],
   "source": [
    "# Instalar y cargar el paquete necesario\n",
    "#install.packages(\"dagitty\")\n",
    "library(dagitty)\n",
    "\n",
    "# Crear el DAG con comillas dobles\n",
    "dag_smoking <- dagitty(\"dag {\n",
    "  T [label=\\\"Smoking Behavior\\\"]\n",
    "  Y [label=\\\"Lung Function\\\"]\n",
    "  A [label=\\\"Age\\\"]\n",
    "  H [label=\\\"Height\\\"]\n",
    "  S [label=\\\"Sex\\\"]\n",
    "  \n",
    "  S -> T\n",
    "  S -> Y\n",
    "  A -> T\n",
    "  A -> H\n",
    "  A -> Y\n",
    "  H -> Y\n",
    "  T -> Y\n",
    "}\")\n",
    "\n",
    "# Mostrar el gráfico del DAG\n",
    "plot(dag_smoking)"
   ]
  },
  {
   "cell_type": "markdown",
   "id": "9349976f",
   "metadata": {},
   "source": [
    "* **Confounders**:\n",
    "        \n",
    "        Age (A): It affects both Smoking Behavior (T) and Lung Function (Y).\n",
    "        \n",
    "        Sex (S): It affects both Smoking Behavior (T) and Lung Function (Y).\n",
    "\n",
    "* **Colliders**:\n",
    "        \n",
    "        Smoking Behavior (T): It has arrows coming in from Age (A) and Sex (S).\n",
    "        \n",
    "        Lung Function (Y): It has arrows coming in from Height (H) and Smoking Behavior (T).\n",
    "\n",
    "* **Controls**\n",
    "\n",
    "        Age (A): It affects both Height (H) and Lung Function (Y) directly. Controlling for age ensures that the causal effect of smoking behavior on lung function is not confounded by age-related differences in height or lung function.\n",
    "\n",
    "        Sex (S): It influences both Smoking Behavior (T) and Lung Function (Y). Controlling for sex removes bias caused by gender differences in smoking habits or physiological differences affecting lung function.   "
   ]
  },
  {
   "cell_type": "markdown",
   "id": "01730770",
   "metadata": {},
   "source": [
    "* You are trying to study the effect of breast feeding in the number of infections a baby is likely to\n",
    "have. Your dataset contains the following variables : (5 pts)\n",
    "\n",
    "        i. Breast fed (Treatment)\n",
    "        ii. Number of infections of the baby (Outcome)\n",
    "        iii. Marital status\n",
    "        iv. Family income\n",
    "        v. Education\n",
    "        vi. Number of children in the house\n",
    "        vii. Childcare outside the home"
   ]
  },
  {
   "cell_type": "code",
   "execution_count": 21,
   "id": "y4H4pcXN3wD6",
   "metadata": {
    "colab": {
     "base_uri": "https://localhost:8080/",
     "height": 474
    },
    "id": "y4H4pcXN3wD6",
    "outputId": "1baea45a-4bfc-48bd-c943-cee2e6f783e8",
    "vscode": {
     "languageId": "r"
    }
   },
   "outputs": [
    {
     "name": "stderr",
     "output_type": "stream",
     "text": [
      "Plot coordinates for graph not supplied! Generating coordinates, see ?coordinates for how to set your own.\n",
      "\n"
     ]
    },
    {
     "data": {
      "image/png": "[encoded data removed]",
      "text/plain": [
       "plot without title"
      ]
     },
     "metadata": {
      "image/png": {
       "height": 420,
       "width": 420
      }
     },
     "output_type": "display_data"
    }
   ],
   "source": [
    "# Crear el DAG sin comentarios en el string\n",
    "dag_breastfeeding <- dagitty(\"dag {\n",
    "  T [label=\\\"Breastfed (T)\\\"]\n",
    "  Y [label=\\\"Number of Infections (Y)\\\"]\n",
    "  M [label=\\\"Marital Status (M)\\\"]\n",
    "  I [label=\\\"Family Income (I)\\\"]\n",
    "  E [label=\\\"Education (E)\\\"]\n",
    "  N [label=\\\"Number of Children (N)\\\"]\n",
    "  C [label=\\\"Childcare Outside Home (C)\\\"]\n",
    "  \n",
    "  M -> T\n",
    "  I -> T\n",
    "  E -> T\n",
    "  N -> T\n",
    "  M -> N\n",
    "  I -> N\n",
    "  E -> N\n",
    "  N -> Y\n",
    "  C -> Y\n",
    "  M -> C\n",
    "  I -> C\n",
    "  E -> C\n",
    "  T -> Y\n",
    "  T -> C\n",
    "}\")\n",
    "\n",
    "# Mostrar el gráfico del DAG\n",
    "plot(dag_breastfeeding)"
   ]
  },
  {
   "cell_type": "markdown",
   "id": "cMFxvuGs3xah",
   "metadata": {
    "id": "cMFxvuGs3xah",
    "vscode": {
     "languageId": "r"
    }
   },
   "source": [
    "* **Confounders**\n",
    "\n",
    "        Marital Status (M): Influences both Breastfeeding (T) and Number of Infections (Y) by affecting access to resources and support for childcare.\n",
    "\n",
    "        Family Income (I): Affects Breastfeeding (T) due to resource availability and Number of Infections (Y) through access to better healthcare and living conditions.\n",
    "\n",
    "        Education (E): Impacts Breastfeeding (T) as more educated mothers are aware of the benefits and Number of Infections (Y) through better hygiene and healthcare practices.\n",
    "\n",
    "* **Colliders**\n",
    "        \n",
    "        Number of Children (N): It has arrows coming from Marital Status (M), Family Income (I), and Education (E). Conditioning on N would create spurious associations between these variables.\n",
    "\n",
    "        Childcare Outside Home (C): It has arrows coming from Number of Children (N), Breastfeeding (T), and Family Income (I). Conditioning on C would introduce bias by linking unrelated variables.\n",
    "\n",
    "* **Controls**\n",
    "\n",
    "        Marital Status (M): Control this confounder to remove spurious associations with Breastfeeding (T) and Number of Infections (Y).\n",
    "\n",
    "        Family Income (I): Control this confounder to adjust for its influence on both Breastfeeding (T) and Number of Infections (Y).\n",
    "\n",
    "        Education (E): Control this confounder to account for its effects on both Breastfeeding (T) and Number of Infections (Y).\n"
   ]
  },
  {
   "cell_type": "markdown",
   "id": "mvDfVhLBNrHY",
   "metadata": {
    "id": "mvDfVhLBNrHY"
   },
   "source": [
    "## Part 2\n"
   ]
  },
  {
   "cell_type": "code",
   "execution_count": null,
   "id": "969cfb51",
   "metadata": {
    "vscode": {
     "languageId": "r"
    }
   },
   "outputs": [
    {
     "name": "stderr",
     "output_type": "stream",
     "text": [
      "Installing package into 'C:/Users/Nicolas Silva/AppData/Local/R/win-library/4.3'\n",
      "(as 'lib' is unspecified)\n",
      "\n"
     ]
    },
    {
     "name": "stdout",
     "output_type": "stream",
     "text": [
      "package 'rpart.plot' successfully unpacked and MD5 sums checked\n",
      "\n",
      "The downloaded binary packages are in\n",
      "\tC:\\Users\\Nicolas Silva\\AppData\\Local\\Temp\\Rtmp0SniOb\\downloaded_packages\n"
     ]
    },
    {
     "name": "stderr",
     "output_type": "stream",
     "text": [
      "\n",
      "Attaching package: 'boot'\n",
      "\n",
      "\n",
      "The following object is masked from 'package:lattice':\n",
      "\n",
      "    melanoma\n",
      "\n",
      "\n"
     ]
    }
   ],
   "source": [
    "# Load required libraries\n",
    "#install.packages(\"ISLR\")\n",
    "#install.packages(\"rpart.plot\")\n",
    "library(ISLR)\n",
    "library(tidyverse)\n",
    "library(caret)\n",
    "library(rpart)\n",
    "library(rpart.plot)\n",
    "library(boot)\n",
    "set.seed(123)\n"
   ]
  },
  {
   "cell_type": "code",
   "execution_count": 25,
   "id": "EdyUak7-NvfQ",
   "metadata": {
    "colab": {
     "base_uri": "https://localhost:8080/"
    },
    "id": "EdyUak7-NvfQ",
    "outputId": "80ba137c-8e21-4c09-e36d-ee207f5cd1bf",
    "vscode": {
     "languageId": "r"
    }
   },
   "outputs": [],
   "source": [
    "# 1. Data Preparation\n",
    "# Load and clean data\n",
    "data(\"Hitters\")\n",
    "hitters_clean <- Hitters %>%\n",
    "  na.omit() %>%\n",
    "  mutate(League = as.factor(League),\n",
    "         Division = as.factor(Division),\n",
    "         NewLeague = as.factor(NewLeague))"
   ]
  },
  {
   "cell_type": "code",
   "execution_count": 26,
   "id": "bJ4ki-bOOIde",
   "metadata": {
    "colab": {
     "base_uri": "https://localhost:8080/"
    },
    "id": "bJ4ki-bOOIde",
    "outputId": "c98a4ef3-a5d9-4989-e9a9-73b6307bac8d",
    "vscode": {
     "languageId": "r"
    }
   },
   "outputs": [],
   "source": [
    "# Create dummy variables\n",
    "hitters_dummy <- model.matrix(~ . - 1, data = hitters_clean)"
   ]
  },
  {
   "cell_type": "code",
   "execution_count": 27,
   "id": "sCTaP_CqOKYE",
   "metadata": {
    "colab": {
     "base_uri": "https://localhost:8080/"
    },
    "id": "sCTaP_CqOKYE",
    "outputId": "dd0667b8-822c-4b93-f11c-3c6c7b39b491",
    "vscode": {
     "languageId": "r"
    }
   },
   "outputs": [],
   "source": [
    "# 2. Split the data\n",
    "n <- nrow(hitters_dummy)\n",
    "train_idx <- sample(1:n, size = floor(0.9 * n))\n",
    "X_train <- hitters_dummy[train_idx, -which(colnames(hitters_dummy) == \"Salary\")]\n",
    "y_train <- hitters_dummy[train_idx, \"Salary\"]\n",
    "X_test <- hitters_dummy[-train_idx, -which(colnames(hitters_dummy) == \"Salary\")]\n",
    "y_test <- hitters_dummy[-train_idx, \"Salary\"]"
   ]
  },
  {
   "cell_type": "code",
   "execution_count": 28,
   "id": "YKyYZY7oQOba",
   "metadata": {
    "colab": {
     "base_uri": "https://localhost:8080/"
    },
    "id": "YKyYZY7oQOba",
    "outputId": "5fe27740-d13d-467f-874b-fb6fb8c3e193",
    "vscode": {
     "languageId": "r"
    }
   },
   "outputs": [],
   "source": [
    "# 3. OLS Regression and Bootstrap\n",
    "# Initial OLS fit\n",
    "train_data <- data.frame(Salary = y_train, X_train)\n",
    "ols_model <- lm(Salary ~ ., data = train_data)\n",
    "beta_hat <- coef(ols_model)\n",
    "\n",
    "# Modified bootstrap function with error handling\n",
    "bootstrap_ols <- function(data, indices) {\n",
    "  tryCatch({\n",
    "    sample_data <- data[indices, ]\n",
    "    model <- lm(Salary ~ ., data = sample_data)\n",
    "    return(coef(model))\n",
    "  }, error = function(e) {\n",
    "    return(rep(NA, length(beta_hat)))\n",
    "  })\n",
    "}\n"
   ]
  },
  {
   "cell_type": "code",
   "execution_count": 30,
   "id": "4edNA3O7QQLd",
   "metadata": {
    "colab": {
     "base_uri": "https://localhost:8080/"
    },
    "id": "4edNA3O7QQLd",
    "outputId": "ccec1016-035f-4eb5-928a-81af52325f44",
    "vscode": {
     "languageId": "r"
    }
   },
   "outputs": [],
   "source": [
    "# Perform bootstrap\n",
    "n_boot <- 10000\n",
    "boot_results <- boot(data = train_data,\n",
    "                    statistic = bootstrap_ols,\n",
    "                    R = n_boot)"
   ]
  },
  {
   "cell_type": "code",
   "execution_count": 31,
   "id": "R-VUbnp-ROUH",
   "metadata": {
    "colab": {
     "base_uri": "https://localhost:8080/"
    },
    "id": "R-VUbnp-ROUH",
    "outputId": "10b6770e-dc49-423f-b2ca-fbd7e1dea0fc",
    "vscode": {
     "languageId": "r"
    }
   },
   "outputs": [],
   "source": [
    "# Calculate confidence intervals with NA handling\n",
    "beta_boots <- t(sapply(1:n_boot, function(i) boot_results$t[i,]))"
   ]
  },
  {
   "cell_type": "code",
   "execution_count": 32,
   "id": "bSKVLMOxRUwF",
   "metadata": {
    "colab": {
     "base_uri": "https://localhost:8080/"
    },
    "id": "bSKVLMOxRUwF",
    "outputId": "ea1ddaad-d2a0-4835-b91c-684cc5c6ca60",
    "vscode": {
     "languageId": "r"
    }
   },
   "outputs": [],
   "source": [
    "# Function to calculate quantiles with NA handling\n",
    "safe_quantile <- function(x, probs) {\n",
    "  quantile(x, probs = probs, na.rm = TRUE)\n",
    "}\n"
   ]
  },
  {
   "cell_type": "code",
   "execution_count": 33,
   "id": "lTB2YZLPRYA7",
   "metadata": {
    "colab": {
     "base_uri": "https://localhost:8080/"
    },
    "id": "lTB2YZLPRYA7",
    "outputId": "22e7da4d-2992-437a-d5b1-5f3b358766cd",
    "vscode": {
     "languageId": "r"
    }
   },
   "outputs": [],
   "source": [
    "# Calculate confidence intervals\n",
    "beta_boots_lower <- apply(beta_boots, 2, function(x) safe_quantile(x, 0.025))\n",
    "beta_boots_upper <- apply(beta_boots, 2, function(x) safe_quantile(x, 0.975))"
   ]
  },
  {
   "cell_type": "code",
   "execution_count": 34,
   "id": "Qmki-Dl6Rmyf",
   "metadata": {
    "colab": {
     "base_uri": "https://localhost:8080/"
    },
    "id": "Qmki-Dl6Rmyf",
    "outputId": "67fab595-e51d-4ac6-e7b4-49246d60458a",
    "vscode": {
     "languageId": "r"
    }
   },
   "outputs": [],
   "source": [
    "# Calculate OLS out-of-sample MSE\n",
    "ols_predictions <- predict(ols_model, newdata = data.frame(X_test))\n",
    "ols_mse <- mean((y_test - ols_predictions)^2)"
   ]
  },
  {
   "cell_type": "code",
   "execution_count": 35,
   "id": "qSQu60arhwmA",
   "metadata": {
    "id": "qSQu60arhwmA",
    "vscode": {
     "languageId": "r"
    }
   },
   "outputs": [],
   "source": [
    "# 4. Regression Tree\n",
    "# Fit full tree\n",
    "tree_model <- rpart(Salary ~ .,\n",
    "                   data = train_data,\n",
    "                   method = \"anova\",\n",
    "                   control = rpart.control(minsplit = 2, cp = 0))"
   ]
  },
  {
   "cell_type": "code",
   "execution_count": 36,
   "id": "607f0b5b",
   "metadata": {
    "vscode": {
     "languageId": "r"
    }
   },
   "outputs": [
    {
     "name": "stdout",
     "output_type": "stream",
     "text": [
      "\n",
      "Regression tree:\n",
      "rpart(formula = Salary ~ ., data = train_data, method = \"anova\", \n",
      "    control = rpart.control(minsplit = 2, cp = 0))\n",
      "\n",
      "Variables actually used in tree construction:\n",
      " [1] Assists    AtBat      CAtBat     CHits      CHmRun     CRBI      \n",
      " [7] CRuns      CWalks     DivisionW  Errors     Hits       HmRun     \n",
      "[13] LeagueA    NewLeagueN PutOuts    RBI        Runs       Walks     \n",
      "[19] Years     \n",
      "\n",
      "Root node error: 49071704/236 = 207931\n",
      "\n",
      "n= 236 \n",
      "\n",
      "            CP nsplit  rel error  xerror    xstd\n",
      "1   3.8835e-01      0 1.0000e+00 1.01439 0.14787\n",
      "2   1.5330e-01      1 6.1165e-01 0.63003 0.12393\n",
      "3   7.4640e-02      2 4.5835e-01 0.50708 0.10814\n",
      "4   5.2206e-02      3 3.8371e-01 0.58348 0.11666\n",
      "5   4.1054e-02      4 3.3150e-01 0.60729 0.11818\n",
      "6   3.3081e-02      5 2.9045e-01 0.62457 0.12030\n",
      "7   3.0969e-02      6 2.5737e-01 0.63076 0.12045\n",
      "8   2.3431e-02      7 2.2640e-01 0.62432 0.12089\n",
      "9   1.7296e-02      8 2.0297e-01 0.63225 0.12440\n",
      "10  1.3205e-02      9 1.8567e-01 0.62975 0.12870\n",
      "11  1.2441e-02     10 1.7247e-01 0.64221 0.12487\n",
      "12  1.2321e-02     11 1.6003e-01 0.67129 0.12649\n",
      "13  1.1481e-02     12 1.4771e-01 0.66932 0.12652\n",
      "14  9.4785e-03     13 1.3623e-01 0.68388 0.12806\n",
      "15  8.6790e-03     14 1.2675e-01 0.67491 0.12681\n",
      "16  7.3330e-03     15 1.1807e-01 0.69227 0.12592\n",
      "17  6.4905e-03     16 1.1073e-01 0.69998 0.12602\n",
      "18  5.8828e-03     17 1.0424e-01 0.68868 0.12074\n",
      "19  5.5905e-03     18 9.8362e-02 0.68365 0.12062\n",
      "20  5.3154e-03     19 9.2771e-02 0.69458 0.12093\n",
      "21  4.2986e-03     20 8.7456e-02 0.69872 0.11975\n",
      "22  4.2061e-03     21 8.3157e-02 0.70040 0.11950\n",
      "23  4.1165e-03     22 7.8951e-02 0.70311 0.12151\n",
      "24  3.8640e-03     23 7.4834e-02 0.69140 0.12079\n",
      "25  3.7690e-03     24 7.0970e-02 0.71142 0.12503\n",
      "26  3.6808e-03     25 6.7201e-02 0.70709 0.12508\n",
      "27  3.6089e-03     26 6.3521e-02 0.70540 0.12510\n",
      "28  3.5430e-03     27 5.9912e-02 0.70893 0.12507\n",
      "29  3.1000e-03     28 5.6369e-02 0.71425 0.12514\n",
      "30  3.0156e-03     29 5.3269e-02 0.71482 0.12515\n",
      "31  2.9618e-03     30 5.0253e-02 0.72114 0.12536\n",
      "32  2.8978e-03     31 4.7291e-02 0.72089 0.12537\n",
      "33  2.3308e-03     32 4.4394e-02 0.73869 0.12570\n",
      "34  2.2467e-03     34 3.9732e-02 0.73736 0.12526\n",
      "35  2.2350e-03     35 3.7485e-02 0.73736 0.12526\n",
      "36  2.1194e-03     36 3.5250e-02 0.73521 0.12530\n",
      "37  1.7929e-03     37 3.3131e-02 0.73321 0.12508\n",
      "38  1.5014e-03     38 3.1338e-02 0.73524 0.12461\n",
      "39  1.4921e-03     39 2.9837e-02 0.74749 0.12704\n",
      "40  1.4276e-03     40 2.8344e-02 0.75176 0.12847\n",
      "41  1.4166e-03     41 2.6917e-02 0.75724 0.12879\n",
      "42  1.4142e-03     42 2.5500e-02 0.75658 0.12879\n",
      "43  1.3826e-03     43 2.4086e-02 0.75658 0.12879\n",
      "44  1.3147e-03     44 2.2704e-02 0.75526 0.12867\n",
      "45  1.1779e-03     45 2.1389e-02 0.76219 0.12997\n",
      "46  9.8631e-04     46 2.0211e-02 0.76866 0.13007\n",
      "47  9.8563e-04     47 1.9225e-02 0.77266 0.13008\n",
      "48  8.8503e-04     48 1.8239e-02 0.77440 0.13025\n",
      "49  8.1974e-04     49 1.7354e-02 0.77619 0.13020\n",
      "50  7.3540e-04     50 1.6534e-02 0.77888 0.13017\n",
      "51  7.1758e-04     51 1.5799e-02 0.77948 0.13017\n",
      "52  6.6625e-04     52 1.5081e-02 0.76968 0.12962\n",
      "53  6.3682e-04     53 1.4415e-02 0.76882 0.12962\n",
      "54  5.8000e-04     54 1.3778e-02 0.76960 0.12961\n",
      "55  5.6361e-04     55 1.3198e-02 0.76877 0.12967\n",
      "56  5.5480e-04     56 1.2635e-02 0.76820 0.12966\n",
      "57  5.4592e-04     57 1.2080e-02 0.76820 0.12966\n",
      "58  5.4050e-04     58 1.1534e-02 0.76719 0.12965\n",
      "59  5.3255e-04     59 1.0993e-02 0.76715 0.12965\n",
      "60  5.2007e-04     60 1.0461e-02 0.76715 0.12965\n",
      "61  5.1643e-04     61 9.9408e-03 0.76715 0.12965\n",
      "62  4.6510e-04     62 9.4243e-03 0.76635 0.12966\n",
      "63  4.0120e-04     63 8.9592e-03 0.76984 0.12982\n",
      "64  3.8166e-04     64 8.5580e-03 0.76900 0.12984\n",
      "65  3.3202e-04     65 8.1764e-03 0.76912 0.12984\n",
      "66  3.1528e-04     66 7.8443e-03 0.76623 0.12968\n",
      "67  2.8564e-04     67 7.5291e-03 0.76396 0.12963\n",
      "68  2.8084e-04     68 7.2434e-03 0.76653 0.12964\n",
      "69  2.7587e-04     69 6.9626e-03 0.76653 0.12964\n",
      "70  2.7171e-04     70 6.6867e-03 0.76653 0.12964\n",
      "71  2.5390e-04     71 6.4150e-03 0.76653 0.12964\n",
      "72  2.4760e-04     72 6.1611e-03 0.76651 0.12962\n",
      "73  2.4011e-04     73 5.9135e-03 0.76667 0.12961\n",
      "74  2.3967e-04     74 5.6734e-03 0.76813 0.12969\n",
      "75  2.3606e-04     75 5.4337e-03 0.76813 0.12969\n",
      "76  2.2926e-04     76 5.1977e-03 0.76813 0.12969\n",
      "77  2.0805e-04     77 4.9684e-03 0.76662 0.12952\n",
      "78  2.0424e-04     78 4.7604e-03 0.76736 0.12951\n",
      "79  2.0111e-04     79 4.5561e-03 0.76724 0.12951\n",
      "80  1.9344e-04     80 4.3550e-03 0.76802 0.12950\n",
      "81  1.8246e-04     81 4.1616e-03 0.76155 0.12524\n",
      "82  1.7648e-04     82 3.9791e-03 0.76176 0.12524\n",
      "83  1.6434e-04     83 3.8026e-03 0.76194 0.12524\n",
      "84  1.6051e-04     84 3.6383e-03 0.76012 0.12525\n",
      "85  1.5921e-04     85 3.4778e-03 0.76012 0.12525\n",
      "86  1.5602e-04     86 3.3186e-03 0.76005 0.12525\n",
      "87  1.5103e-04     87 3.1626e-03 0.75855 0.12519\n",
      "88  1.4675e-04     88 3.0115e-03 0.75862 0.12519\n",
      "89  1.4672e-04     89 2.8648e-03 0.75862 0.12519\n",
      "90  1.4202e-04     90 2.7181e-03 0.75860 0.12519\n",
      "91  1.3399e-04     91 2.5760e-03 0.75795 0.12519\n",
      "92  1.1272e-04     92 2.4420e-03 0.75936 0.12522\n",
      "93  1.0873e-04     94 2.2166e-03 0.76076 0.12529\n",
      "94  1.0189e-04     95 2.1079e-03 0.76088 0.12515\n",
      "95  9.9854e-05     96 2.0060e-03 0.76082 0.12516\n",
      "96  9.8156e-05     97 1.9061e-03 0.76082 0.12516\n",
      "97  9.7816e-05     98 1.8080e-03 0.76297 0.12536\n",
      "98  9.2993e-05     99 1.7102e-03 0.76314 0.12536\n",
      "99  8.8542e-05    100 1.6172e-03 0.76336 0.12536\n",
      "100 8.2460e-05    101 1.5286e-03 0.76306 0.12534\n",
      "101 7.8126e-05    102 1.4462e-03 0.76334 0.12533\n",
      "102 7.2819e-05    103 1.3680e-03 0.76333 0.12533\n",
      "103 7.0742e-05    104 1.2952e-03 0.76254 0.12533\n",
      "104 6.2717e-05    105 1.2245e-03 0.76040 0.12519\n",
      "105 6.1899e-05    106 1.1618e-03 0.76031 0.12519\n",
      "106 5.5174e-05    107 1.0999e-03 0.75990 0.12520\n",
      "107 5.4451e-05    108 1.0447e-03 0.76051 0.12520\n",
      "108 5.3511e-05    109 9.9023e-04 0.76051 0.12520\n",
      "109 5.0045e-05    110 9.3672e-04 0.76090 0.12520\n",
      "110 3.6681e-05    111 8.8668e-04 0.76245 0.12568\n",
      "111 3.4317e-05    112 8.5000e-04 0.76195 0.12535\n",
      "112 3.0822e-05    113 8.1568e-04 0.76259 0.12536\n",
      "113 3.0288e-05    114 7.8486e-04 0.76396 0.12548\n",
      "114 2.9904e-05    115 7.5457e-04 0.76381 0.12548\n",
      "115 2.7511e-05    116 7.2466e-04 0.76372 0.12548\n",
      "116 2.5473e-05    117 6.9715e-04 0.76449 0.12547\n",
      "117 2.4522e-05    122 5.6979e-04 0.76511 0.12559\n",
      "118 2.2989e-05    123 5.4527e-04 0.76519 0.12558\n",
      "119 2.0685e-05    125 4.9929e-04 0.76527 0.12558\n",
      "120 1.9105e-05    126 4.7860e-04 0.76497 0.12559\n",
      "121 1.8761e-05    127 4.5950e-04 0.76497 0.12559\n",
      "122 1.6982e-05    128 4.4074e-04 0.76576 0.12592\n",
      "123 1.6303e-05    129 4.2375e-04 0.76480 0.12578\n",
      "124 1.5859e-05    133 3.5854e-04 0.76481 0.12578\n",
      "125 1.5326e-05    134 3.4268e-04 0.76515 0.12578\n",
      "126 1.5134e-05    135 3.2736e-04 0.76570 0.12582\n",
      "127 1.4350e-05    136 3.1222e-04 0.76569 0.12582\n",
      "128 1.4329e-05    137 2.9787e-04 0.76569 0.12582\n",
      "129 1.2482e-05    138 2.8355e-04 0.76558 0.12582\n",
      "130 1.2482e-05    139 2.7106e-04 0.76536 0.12580\n",
      "131 1.2269e-05    141 2.4610e-04 0.76536 0.12580\n",
      "132 1.2227e-05    142 2.3383e-04 0.76536 0.12580\n",
      "133 1.1321e-05    143 2.2160e-04 0.76533 0.12580\n",
      "134 1.0869e-05    144 2.1028e-04 0.76555 0.12579\n",
      "135 1.0643e-05    145 1.9941e-04 0.76555 0.12579\n",
      "136 1.0317e-05    146 1.8877e-04 0.76555 0.12579\n",
      "137 9.3613e-06    147 1.7846e-04 0.76548 0.12579\n",
      "138 9.1703e-06    148 1.6909e-04 0.76571 0.12579\n",
      "139 8.4910e-06    149 1.5992e-04 0.76566 0.12579\n",
      "140 8.3212e-06    152 1.3445e-04 0.76534 0.12579\n",
      "141 8.1513e-06    153 1.2613e-04 0.76534 0.12579\n",
      "142 6.8777e-06    154 1.1798e-04 0.76541 0.12579\n",
      "143 6.5502e-06    155 1.1110e-04 0.76532 0.12578\n",
      "144 6.3682e-06    156 1.0455e-04 0.76521 0.12579\n",
      "145 6.0321e-06    159 8.5446e-05 0.76521 0.12579\n",
      "146 5.4342e-06    160 7.9413e-05 0.76525 0.12579\n",
      "147 5.4342e-06    161 7.3979e-05 0.76527 0.12578\n",
      "148 4.9201e-06    163 6.3111e-05 0.76527 0.12578\n",
      "149 4.4043e-06    165 5.3271e-05 0.76530 0.12578\n",
      "150 4.0757e-06    166 4.8866e-05 0.76535 0.12578\n",
      "151 4.0426e-06    167 4.4791e-05 0.76533 0.12578\n",
      "152 3.7739e-06    168 4.0748e-05 0.76533 0.12578\n",
      "153 2.8304e-06    169 3.6974e-05 0.76554 0.12579\n",
      "154 2.2926e-06    170 3.4144e-05 0.76552 0.12575\n",
      "155 1.6982e-06    174 2.4973e-05 0.76549 0.12575\n",
      "156 1.5005e-06    175 2.3275e-05 0.76546 0.12575\n",
      "157 1.4978e-06    176 2.1775e-05 0.76545 0.12575\n",
      "158 1.3869e-06    177 2.0277e-05 0.76546 0.12575\n",
      "159 1.3586e-06    178 1.8890e-05 0.76546 0.12575\n",
      "160 1.0189e-06    179 1.7531e-05 0.76547 0.12575\n",
      "161 9.7918e-07    189 7.3422e-06 0.76519 0.12575\n",
      "162 7.6419e-07    190 6.3630e-06 0.76519 0.12575\n",
      "163 7.0752e-07    191 5.5988e-06 0.76506 0.12575\n",
      "164 6.2900e-07    192 4.8913e-06 0.76506 0.12575\n",
      "165 5.7314e-07    193 4.2623e-06 0.76511 0.12575\n",
      "166 5.3069e-07    194 3.6892e-06 0.76512 0.12575\n",
      "167 4.3049e-07    195 3.1585e-06 0.76512 0.12575\n",
      "168 3.8209e-07    196 2.7280e-06 0.76513 0.12575\n",
      "169 3.3964e-07    197 2.3459e-06 0.76512 0.12575\n",
      "170 2.5473e-07    198 2.0062e-06 0.76507 0.12575\n",
      "171 1.9105e-07    202 9.8733e-07 0.76496 0.12574\n",
      "172 1.6303e-07    203 7.9628e-07 0.76494 0.12574\n",
      "173 1.2482e-07    204 6.3326e-07 0.76494 0.12574\n",
      "174 1.2380e-07    205 5.0844e-07 0.76494 0.12574\n",
      "175 8.4910e-08    206 3.8464e-07 0.76495 0.12574\n",
      "176 6.3682e-08    208 2.1482e-07 0.76495 0.12574\n",
      "177 5.4342e-08    210 8.7457e-08 0.76492 0.12574\n",
      "178 3.0568e-08    211 3.3115e-08 0.76492 0.12574\n",
      "179 2.5473e-09    212 2.5473e-09 0.76492 0.12574\n",
      "180 0.0000e+00    213 0.0000e+00 0.76492 0.12574\n"
     ]
    }
   ],
   "source": [
    "# Cross-validate to find optimal cp\n",
    "cpTable <- printcp(tree_model)\n",
    "optimal_cp <- cpTable[which.min(cpTable[,\"xerror\"]), \"CP\"]\n"
   ]
  },
  {
   "cell_type": "code",
   "execution_count": 37,
   "id": "a7027c41",
   "metadata": {
    "vscode": {
     "languageId": "r"
    }
   },
   "outputs": [],
   "source": [
    "\n",
    "# Prune tree\n",
    "pruned_tree <- prune(tree_model, cp = optimal_cp)\n",
    "\n",
    "# Calculate tree out-of-sample MSE\n",
    "tree_predictions <- predict(pruned_tree,\n",
    "                          newdata = data.frame(X_test))\n",
    "tree_mse <- mean((y_test - tree_predictions)^2)"
   ]
  },
  {
   "cell_type": "code",
   "execution_count": 38,
   "id": "4a7eabb3",
   "metadata": {
    "vscode": {
     "languageId": "r"
    }
   },
   "outputs": [
    {
     "name": "stdout",
     "output_type": "stream",
     "text": [
      "\n",
      "Model Performance Comparison:\n",
      "-------------------------\n",
      "OLS Out-of-Sample MSE: 205028.4\n",
      "Tree Out-of-Sample MSE: 176619.1\n",
      "\n",
      "Best performing model: Regression Tree"
     ]
    }
   ],
   "source": [
    "# 5. Results\n",
    "cat(\"\\nModel Performance Comparison:\")\n",
    "cat(\"\\n-------------------------\")\n",
    "cat(\"\\nOLS Out-of-Sample MSE:\", round(ols_mse, 2))\n",
    "cat(\"\\nTree Out-of-Sample MSE:\", round(tree_mse, 2))\n",
    "cat(\"\\n\\nBest performing model:\",\n",
    "    ifelse(ols_mse < tree_mse, \"OLS Regression\", \"Regression Tree\"))"
   ]
  },
  {
   "cell_type": "code",
   "execution_count": 39,
   "id": "84eb35cc",
   "metadata": {
    "vscode": {
     "languageId": "r"
    }
   },
   "outputs": [
    {
     "name": "stderr",
     "output_type": "stream",
     "text": [
      "Warning message in plot.window(...):\n",
      "\"\"pretty\" is not a graphical parameter\"\n",
      "Warning message in plot.xy(xy, type, ...):\n",
      "\"\"pretty\" is not a graphical parameter\"\n",
      "Warning message in title(...):\n",
      "\"\"pretty\" is not a graphical parameter\"\n"
     ]
    },
    {
     "data": {
      "image/png": "[encoded data removed]",
      "text/plain": [
       "plot without title"
      ]
     },
     "metadata": {
      "image/png": {
       "height": 420,
       "width": 420
      }
     },
     "output_type": "display_data"
    }
   ],
   "source": [
    "# Plot the pruned tree\n",
    "plot(tree_model, pretty = 0)"
   ]
  },
  {
   "cell_type": "markdown",
   "id": "96fe6de3",
   "metadata": {},
   "source": [
    "# Model Performance Comparison\n",
    "\n",
    "## Out-of-Sample Mean Squared Error (MSE):\n",
    "- **OLS Model**: 205028.4  \n",
    "- **Regression Tree**: 176619.1  \n",
    "\n",
    "## Best Performing Model:\n",
    "Based on the out-of-sample MSE, the **Regression Tree** performs better than the OLS model, as it has a lower MSE (176619.1 compared to 205028.4). This indicates that the Regression Tree provides more accurate predictions for the given dataset.\n"
   ]
  }
 ],
 "metadata": {
  "colab": {
   "provenance": []
  },
  "jupytext": {
   "cell_metadata_filter": "-all",
   "main_language": "R",
   "notebook_metadata_filter": "-all"
  },
  "kernelspec": {
   "display_name": "R",
   "language": "R",
   "name": "ir"
  },
  "language_info": {
   "codemirror_mode": "r",
   "file_extension": ".r",
   "mimetype": "text/x-r-source",
   "name": "R",
   "pygments_lexer": "r",
   "version": "4.3.3"
  }
 },
 "nbformat": 4,
 "nbformat_minor": 5
}
