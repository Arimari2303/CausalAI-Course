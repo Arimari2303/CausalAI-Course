{
 "cells": [
  {
   "cell_type": "markdown",
   "metadata": {},
   "source": [
    "# Grupo 2 - PC3/4"
   ]
  },
  {
   "cell_type": "markdown",
   "metadata": {},
   "source": [
    "### Integrantes\n",
    "- GARCIA RODRIGUEZ, EMILIO ALONSO (Python)\n",
    "- PADILLA AQUISE, ALESSANDRO PIERO (R)\n",
    "- RIEGA NUÑEZ, GABRIEL ANTONIO FERMIN (R)\n",
    "- SALAMANCA FERNANDEZ, LUCAS PABLO (Julia)\n",
    "- SILVA ANDUJAR, NICOLAS (Python)"
   ]
  },
  {
   "cell_type": "markdown",
   "metadata": {},
   "source": [
    "## Part 1"
   ]
  },
  {
   "cell_type": "code",
   "execution_count": 1,
   "metadata": {},
   "outputs": [],
   "source": [
    "using CSV\n",
    "using DataFrames\n",
    "using CategoricalArrays\n",
    "using Pkg\n",
    "using Distributions\n",
    "using Dates\n",
    "using Plots\n",
    "using Random\n",
    "using LinearAlgebra\n",
    "using LaTeXStrings\n",
    "using Lasso\n",
    "using Statistics\n",
    "using GLMNet\n",
    "using StatsModels\n",
    "using HDMjl\n",
    "\n",
    "data = CSV.read(\"wage2015_subsample_inference.csv\", DataFrame,\n",
    "                types = Dict(:occ2 => String, :ind2 => String));\n",
    "\n",
    "data = select(data, Not([\"wage\", \"rownames\"])); \n",
    "\n",
    "\n"
   ]
  },
  {
   "cell_type": "code",
   "execution_count": 67,
   "metadata": {},
   "outputs": [],
   "source": [
    "\n",
    "categorical_vars = [\"sex\", \"clg\", \"mw\", \"so\", \"we\", \"ne\", \"occ2\", \"ind2\"]\n",
    "\n",
    "for var in categorical_vars\n",
    "    data[!, var] = categorical(data[!, var])\n",
    "end\n"
   ]
  },
  {
   "cell_type": "code",
   "execution_count": 68,
   "metadata": {},
   "outputs": [],
   "source": [
    "# Create the design matrix with adjusted formula\n",
    "design = @formula(\n",
    "    lwage ~ 1 + sex + clg * sex + clg * (mw + so + we + ne) + sex * (mw + so + we + ne)+ clg * sex * (mw + so + we + ne) + (exp1 + exp2 + exp3 + exp4) * (hsg + scl + clg + ad + mw + so + we + ne + occ2 + ind2)\n",
    "    + (hsg + scl + clg + ad) * (mw + so + we + ne + occ2 + ind2) + (mw + so + we + ne) * (occ2 + ind2) + occ2 * ind2\n",
    ");"
   ]
  },
  {
   "cell_type": "code",
   "execution_count": 77,
   "metadata": {},
   "outputs": [
    {
     "name": "stdout",
     "output_type": "stream",
     "text": [
      "Coefficient Names:\n",
      "[\"sex: 1.0\", \"clg: 1.0\", \"mw: 1.0\", \"so: 1.0\", \"we: 1.0\", \"ne: 1.0\", \"exp1\", \"exp2\", \"exp3\", \"exp4\", \"hsg\", \"scl\", \"ad\", \"occ2: 10\", \"occ2: 11\", \"occ2: 12\", \"occ2: 13\", \"occ2: 14\", \"occ2: 15\", \"occ2: 16\", \"occ2: 17\", \"occ2: 18\", \"occ2: 19\", \"occ2: 2\", \"occ2: 20\", \"occ2: 21\", \"occ2: 22\", \"occ2: 3\", \"occ2: 4\", \"occ2: 5\", \"occ2: 6\", \"occ2: 7\", \"occ2: 8\", \"occ2: 9\", \"ind2: 11\", \"ind2: 12\", \"ind2: 13\", \"ind2: 14\", \"ind2: 15\", \"ind2: 16\", \"ind2: 17\", \"ind2: 18\", \"ind2: 19\", \"ind2: 2\", \"ind2: 20\", \"ind2: 21\", \"ind2: 22\", \"ind2: 3\", \"ind2: 4\", \"ind2: 5\", \"ind2: 6\", \"ind2: 7\", \"ind2: 8\", \"ind2: 9\", \"clg: 1.0 & sex: 1.0\", \"clg: 1.0 & mw: 1.0\", \"clg: 1.0 & so: 1.0\", \"clg: 1.0 & we: 1.0\", \"clg: 1.0 & ne: 1.0\", \"sex: 1.0 & mw: 1.0\", \"sex: 1.0 & so: 1.0\", \"sex: 1.0 & we: 1.0\", \"sex: 1.0 & ne: 1.0\", \"exp1 & hsg\", \"exp1 & scl\", \"exp1 & clg: 1.0\", \"exp1 & ad\", \"exp1 & mw: 1.0\", \"exp1 & so: 1.0\", \"exp1 & we: 1.0\", \"exp1 & ne: 1.0\", \"exp1 & occ2: 10\", \"exp1 & occ2: 11\", \"exp1 & occ2: 12\", \"exp1 & occ2: 13\", \"exp1 & occ2: 14\", \"exp1 & occ2: 15\", \"exp1 & occ2: 16\", \"exp1 & occ2: 17\", \"exp1 & occ2: 18\", \"exp1 & occ2: 19\", \"exp1 & occ2: 2\", \"exp1 & occ2: 20\", \"exp1 & occ2: 21\", \"exp1 & occ2: 22\", \"exp1 & occ2: 3\", \"exp1 & occ2: 4\", \"exp1 & occ2: 5\", \"exp1 & occ2: 6\", \"exp1 & occ2: 7\", \"exp1 & occ2: 8\", \"exp1 & occ2: 9\", \"exp1 & ind2: 11\", \"exp1 & ind2: 12\", \"exp1 & ind2: 13\", \"exp1 & ind2: 14\", \"exp1 & ind2: 15\", \"exp1 & ind2: 16\", \"exp1 & ind2: 17\", \"exp1 & ind2: 18\", \"exp1 & ind2: 19\", \"exp1 & ind2: 2\", \"exp1 & ind2: 20\", \"exp1 & ind2: 21\", \"exp1 & ind2: 22\", \"exp1 & ind2: 3\", \"exp1 & ind2: 4\", \"exp1 & ind2: 5\", \"exp1 & ind2: 6\", \"exp1 & ind2: 7\", \"exp1 & ind2: 8\", \"exp1 & ind2: 9\", \"exp2 & hsg\", \"exp2 & scl\", \"exp2 & clg: 1.0\", \"exp2 & ad\", \"exp2 & mw: 1.0\", \"exp2 & so: 1.0\", \"exp2 & we: 1.0\", \"exp2 & ne: 1.0\", \"exp2 & occ2: 10\", \"exp2 & occ2: 11\", \"exp2 & occ2: 12\", \"exp2 & occ2: 13\", \"exp2 & occ2: 14\", \"exp2 & occ2: 15\", \"exp2 & occ2: 16\", \"exp2 & occ2: 17\", \"exp2 & occ2: 18\", \"exp2 & occ2: 19\", \"exp2 & occ2: 2\", \"exp2 & occ2: 20\", \"exp2 & occ2: 21\", \"exp2 & occ2: 22\", \"exp2 & occ2: 3\", \"exp2 & occ2: 4\", \"exp2 & occ2: 5\", \"exp2 & occ2: 6\", \"exp2 & occ2: 7\", \"exp2 & occ2: 8\", \"exp2 & occ2: 9\", \"exp2 & ind2: 11\", \"exp2 & ind2: 12\", \"exp2 & ind2: 13\", \"exp2 & ind2: 14\", \"exp2 & ind2: 15\", \"exp2 & ind2: 16\", \"exp2 & ind2: 17\", \"exp2 & ind2: 18\", \"exp2 & ind2: 19\", \"exp2 & ind2: 2\", \"exp2 & ind2: 20\", \"exp2 & ind2: 21\", \"exp2 & ind2: 22\", \"exp2 & ind2: 3\", \"exp2 & ind2: 4\", \"exp2 & ind2: 5\", \"exp2 & ind2: 6\", \"exp2 & ind2: 7\", \"exp2 & ind2: 8\", \"exp2 & ind2: 9\", \"exp3 & hsg\", \"exp3 & scl\", \"exp3 & clg: 1.0\", \"exp3 & ad\", \"exp3 & mw: 1.0\", \"exp3 & so: 1.0\", \"exp3 & we: 1.0\", \"exp3 & ne: 1.0\", \"exp3 & occ2: 10\", \"exp3 & occ2: 11\", \"exp3 & occ2: 12\", \"exp3 & occ2: 13\", \"exp3 & occ2: 14\", \"exp3 & occ2: 15\", \"exp3 & occ2: 16\", \"exp3 & occ2: 17\", \"exp3 & occ2: 18\", \"exp3 & occ2: 19\", \"exp3 & occ2: 2\", \"exp3 & occ2: 20\", \"exp3 & occ2: 21\", \"exp3 & occ2: 22\", \"exp3 & occ2: 3\", \"exp3 & occ2: 4\", \"exp3 & occ2: 5\", \"exp3 & occ2: 6\", \"exp3 & occ2: 7\", \"exp3 & occ2: 8\", \"exp3 & occ2: 9\", \"exp3 & ind2: 11\", \"exp3 & ind2: 12\", \"exp3 & ind2: 13\", \"exp3 & ind2: 14\", \"exp3 & ind2: 15\", \"exp3 & ind2: 16\", \"exp3 & ind2: 17\", \"exp3 & ind2: 18\", \"exp3 & ind2: 19\", \"exp3 & ind2: 2\", \"exp3 & ind2: 20\", \"exp3 & ind2: 21\", \"exp3 & ind2: 22\", \"exp3 & ind2: 3\", \"exp3 & ind2: 4\", \"exp3 & ind2: 5\", \"exp3 & ind2: 6\", \"exp3 & ind2: 7\", \"exp3 & ind2: 8\", \"exp3 & ind2: 9\", \"exp4 & hsg\", \"exp4 & scl\", \"exp4 & clg: 1.0\", \"exp4 & ad\", \"exp4 & mw: 1.0\", \"exp4 & so: 1.0\", \"exp4 & we: 1.0\", \"exp4 & ne: 1.0\", \"exp4 & occ2: 10\", \"exp4 & occ2: 11\", \"exp4 & occ2: 12\", \"exp4 & occ2: 13\", \"exp4 & occ2: 14\", \"exp4 & occ2: 15\", \"exp4 & occ2: 16\", \"exp4 & occ2: 17\", \"exp4 & occ2: 18\", \"exp4 & occ2: 19\", \"exp4 & occ2: 2\", \"exp4 & occ2: 20\", \"exp4 & occ2: 21\", \"exp4 & occ2: 22\", \"exp4 & occ2: 3\", \"exp4 & occ2: 4\", \"exp4 & occ2: 5\", \"exp4 & occ2: 6\", \"exp4 & occ2: 7\", \"exp4 & occ2: 8\", \"exp4 & occ2: 9\", \"exp4 & ind2: 11\", \"exp4 & ind2: 12\", \"exp4 & ind2: 13\", \"exp4 & ind2: 14\", \"exp4 & ind2: 15\", \"exp4 & ind2: 16\", \"exp4 & ind2: 17\", \"exp4 & ind2: 18\", \"exp4 & ind2: 19\", \"exp4 & ind2: 2\", \"exp4 & ind2: 20\", \"exp4 & ind2: 21\", \"exp4 & ind2: 22\", \"exp4 & ind2: 3\", \"exp4 & ind2: 4\", \"exp4 & ind2: 5\", \"exp4 & ind2: 6\", \"exp4 & ind2: 7\", \"exp4 & ind2: 8\", \"exp4 & ind2: 9\", \"hsg & mw: 1.0\", \"hsg & so: 1.0\", \"hsg & we: 1.0\", \"hsg & ne: 1.0\", \"hsg & occ2: 10\", \"hsg & occ2: 11\", \"hsg & occ2: 12\", \"hsg & occ2: 13\", \"hsg & occ2: 14\", \"hsg & occ2: 15\", \"hsg & occ2: 16\", \"hsg & occ2: 17\", \"hsg & occ2: 18\", \"hsg & occ2: 19\", \"hsg & occ2: 2\", \"hsg & occ2: 20\", \"hsg & occ2: 21\", \"hsg & occ2: 22\", \"hsg & occ2: 3\", \"hsg & occ2: 4\", \"hsg & occ2: 5\", \"hsg & occ2: 6\", \"hsg & occ2: 7\", \"hsg & occ2: 8\", \"hsg & occ2: 9\", \"hsg & ind2: 11\", \"hsg & ind2: 12\", \"hsg & ind2: 13\", \"hsg & ind2: 14\", \"hsg & ind2: 15\", \"hsg & ind2: 16\", \"hsg & ind2: 17\", \"hsg & ind2: 18\", \"hsg & ind2: 19\", \"hsg & ind2: 2\", \"hsg & ind2: 20\", \"hsg & ind2: 21\", \"hsg & ind2: 22\", \"hsg & ind2: 3\", \"hsg & ind2: 4\", \"hsg & ind2: 5\", \"hsg & ind2: 6\", \"hsg & ind2: 7\", \"hsg & ind2: 8\", \"hsg & ind2: 9\", \"scl & mw: 1.0\", \"scl & so: 1.0\", \"scl & we: 1.0\", \"scl & ne: 1.0\", \"scl & occ2: 10\", \"scl & occ2: 11\", \"scl & occ2: 12\", \"scl & occ2: 13\", \"scl & occ2: 14\", \"scl & occ2: 15\", \"scl & occ2: 16\", \"scl & occ2: 17\", \"scl & occ2: 18\", \"scl & occ2: 19\", \"scl & occ2: 2\", \"scl & occ2: 20\", \"scl & occ2: 21\", \"scl & occ2: 22\", \"scl & occ2: 3\", \"scl & occ2: 4\", \"scl & occ2: 5\", \"scl & occ2: 6\", \"scl & occ2: 7\", \"scl & occ2: 8\", \"scl & occ2: 9\", \"scl & ind2: 11\", \"scl & ind2: 12\", \"scl & ind2: 13\", \"scl & ind2: 14\", \"scl & ind2: 15\", \"scl & ind2: 16\", \"scl & ind2: 17\", \"scl & ind2: 18\", \"scl & ind2: 19\", \"scl & ind2: 2\", \"scl & ind2: 20\", \"scl & ind2: 21\", \"scl & ind2: 22\", \"scl & ind2: 3\", \"scl & ind2: 4\", \"scl & ind2: 5\", \"scl & ind2: 6\", \"scl & ind2: 7\", \"scl & ind2: 8\", \"scl & ind2: 9\", \"clg: 1.0 & occ2: 10\", \"clg: 1.0 & occ2: 11\", \"clg: 1.0 & occ2: 12\", \"clg: 1.0 & occ2: 13\", \"clg: 1.0 & occ2: 14\", \"clg: 1.0 & occ2: 15\", \"clg: 1.0 & occ2: 16\", \"clg: 1.0 & occ2: 17\", \"clg: 1.0 & occ2: 18\", \"clg: 1.0 & occ2: 19\", \"clg: 1.0 & occ2: 2\", \"clg: 1.0 & occ2: 20\", \"clg: 1.0 & occ2: 21\", \"clg: 1.0 & occ2: 22\", \"clg: 1.0 & occ2: 3\", \"clg: 1.0 & occ2: 4\", \"clg: 1.0 & occ2: 5\", \"clg: 1.0 & occ2: 6\", \"clg: 1.0 & occ2: 7\", \"clg: 1.0 & occ2: 8\", \"clg: 1.0 & occ2: 9\", \"clg: 1.0 & ind2: 11\", \"clg: 1.0 & ind2: 12\", \"clg: 1.0 & ind2: 13\", \"clg: 1.0 & ind2: 14\", \"clg: 1.0 & ind2: 15\", \"clg: 1.0 & ind2: 16\", \"clg: 1.0 & ind2: 17\", \"clg: 1.0 & ind2: 18\", \"clg: 1.0 & ind2: 19\", \"clg: 1.0 & ind2: 2\", \"clg: 1.0 & ind2: 20\", \"clg: 1.0 & ind2: 21\", \"clg: 1.0 & ind2: 22\", \"clg: 1.0 & ind2: 3\", \"clg: 1.0 & ind2: 4\", \"clg: 1.0 & ind2: 5\", \"clg: 1.0 & ind2: 6\", \"clg: 1.0 & ind2: 7\", \"clg: 1.0 & ind2: 8\", \"clg: 1.0 & ind2: 9\", \"ad & mw: 1.0\", \"ad & so: 1.0\", \"ad & we: 1.0\", \"ad & ne: 1.0\", \"ad & occ2: 10\", \"ad & occ2: 11\", \"ad & occ2: 12\", \"ad & occ2: 13\", \"ad & occ2: 14\", \"ad & occ2: 15\", \"ad & occ2: 16\", \"ad & occ2: 17\", \"ad & occ2: 18\", \"ad & occ2: 19\", \"ad & occ2: 2\", \"ad & occ2: 20\", \"ad & occ2: 21\", \"ad & occ2: 22\", \"ad & occ2: 3\", \"ad & occ2: 4\", \"ad & occ2: 5\", \"ad & occ2: 6\", \"ad & occ2: 7\", \"ad & occ2: 8\", \"ad & occ2: 9\", \"ad & ind2: 11\", \"ad & ind2: 12\", \"ad & ind2: 13\", \"ad & ind2: 14\", \"ad & ind2: 15\", \"ad & ind2: 16\", \"ad & ind2: 17\", \"ad & ind2: 18\", \"ad & ind2: 19\", \"ad & ind2: 2\", \"ad & ind2: 20\", \"ad & ind2: 21\", \"ad & ind2: 22\", \"ad & ind2: 3\", \"ad & ind2: 4\", \"ad & ind2: 5\", \"ad & ind2: 6\", \"ad & ind2: 7\", \"ad & ind2: 8\", \"ad & ind2: 9\", \"mw: 1.0 & occ2: 10\", \"mw: 1.0 & occ2: 11\", \"mw: 1.0 & occ2: 12\", \"mw: 1.0 & occ2: 13\", \"mw: 1.0 & occ2: 14\", \"mw: 1.0 & occ2: 15\", \"mw: 1.0 & occ2: 16\", \"mw: 1.0 & occ2: 17\", \"mw: 1.0 & occ2: 18\", \"mw: 1.0 & occ2: 19\", \"mw: 1.0 & occ2: 2\", \"mw: 1.0 & occ2: 20\", \"mw: 1.0 & occ2: 21\", \"mw: 1.0 & occ2: 22\", \"mw: 1.0 & occ2: 3\", \"mw: 1.0 & occ2: 4\", \"mw: 1.0 & occ2: 5\", \"mw: 1.0 & occ2: 6\", \"mw: 1.0 & occ2: 7\", \"mw: 1.0 & occ2: 8\", \"mw: 1.0 & occ2: 9\", \"mw: 1.0 & ind2: 11\", \"mw: 1.0 & ind2: 12\", \"mw: 1.0 & ind2: 13\", \"mw: 1.0 & ind2: 14\", \"mw: 1.0 & ind2: 15\", \"mw: 1.0 & ind2: 16\", \"mw: 1.0 & ind2: 17\", \"mw: 1.0 & ind2: 18\", \"mw: 1.0 & ind2: 19\", \"mw: 1.0 & ind2: 2\", \"mw: 1.0 & ind2: 20\", \"mw: 1.0 & ind2: 21\", \"mw: 1.0 & ind2: 22\", \"mw: 1.0 & ind2: 3\", \"mw: 1.0 & ind2: 4\", \"mw: 1.0 & ind2: 5\", \"mw: 1.0 & ind2: 6\", \"mw: 1.0 & ind2: 7\", \"mw: 1.0 & ind2: 8\", \"mw: 1.0 & ind2: 9\", \"so: 1.0 & occ2: 10\", \"so: 1.0 & occ2: 11\", \"so: 1.0 & occ2: 12\", \"so: 1.0 & occ2: 13\", \"so: 1.0 & occ2: 14\", \"so: 1.0 & occ2: 15\", \"so: 1.0 & occ2: 16\", \"so: 1.0 & occ2: 17\", \"so: 1.0 & occ2: 18\", \"so: 1.0 & occ2: 19\", \"so: 1.0 & occ2: 2\", \"so: 1.0 & occ2: 20\", \"so: 1.0 & occ2: 21\", \"so: 1.0 & occ2: 22\", \"so: 1.0 & occ2: 3\", \"so: 1.0 & occ2: 4\", \"so: 1.0 & occ2: 5\", \"so: 1.0 & occ2: 6\", \"so: 1.0 & occ2: 7\", \"so: 1.0 & occ2: 8\", \"so: 1.0 & occ2: 9\", \"so: 1.0 & ind2: 11\", \"so: 1.0 & ind2: 12\", \"so: 1.0 & ind2: 13\", \"so: 1.0 & ind2: 14\", \"so: 1.0 & ind2: 15\", \"so: 1.0 & ind2: 16\", \"so: 1.0 & ind2: 17\", \"so: 1.0 & ind2: 18\", \"so: 1.0 & ind2: 19\", \"so: 1.0 & ind2: 2\", \"so: 1.0 & ind2: 20\", \"so: 1.0 & ind2: 21\", \"so: 1.0 & ind2: 22\", \"so: 1.0 & ind2: 3\", \"so: 1.0 & ind2: 4\", \"so: 1.0 & ind2: 5\", \"so: 1.0 & ind2: 6\", \"so: 1.0 & ind2: 7\", \"so: 1.0 & ind2: 8\", \"so: 1.0 & ind2: 9\", \"we: 1.0 & occ2: 10\", \"we: 1.0 & occ2: 11\", \"we: 1.0 & occ2: 12\", \"we: 1.0 & occ2: 13\", \"we: 1.0 & occ2: 14\", \"we: 1.0 & occ2: 15\", \"we: 1.0 & occ2: 16\", \"we: 1.0 & occ2: 17\", \"we: 1.0 & occ2: 18\", \"we: 1.0 & occ2: 19\", \"we: 1.0 & occ2: 2\", \"we: 1.0 & occ2: 20\", \"we: 1.0 & occ2: 21\", \"we: 1.0 & occ2: 22\", \"we: 1.0 & occ2: 3\", \"we: 1.0 & occ2: 4\", \"we: 1.0 & occ2: 5\", \"we: 1.0 & occ2: 6\", \"we: 1.0 & occ2: 7\", \"we: 1.0 & occ2: 8\", \"we: 1.0 & occ2: 9\", \"we: 1.0 & ind2: 11\", \"we: 1.0 & ind2: 12\", \"we: 1.0 & ind2: 13\", \"we: 1.0 & ind2: 14\", \"we: 1.0 & ind2: 15\", \"we: 1.0 & ind2: 16\", \"we: 1.0 & ind2: 17\", \"we: 1.0 & ind2: 18\", \"we: 1.0 & ind2: 19\", \"we: 1.0 & ind2: 2\", \"we: 1.0 & ind2: 20\", \"we: 1.0 & ind2: 21\", \"we: 1.0 & ind2: 22\", \"we: 1.0 & ind2: 3\", \"we: 1.0 & ind2: 4\", \"we: 1.0 & ind2: 5\", \"we: 1.0 & ind2: 6\", \"we: 1.0 & ind2: 7\", \"we: 1.0 & ind2: 8\", \"we: 1.0 & ind2: 9\", \"ne: 1.0 & occ2: 10\", \"ne: 1.0 & occ2: 11\", \"ne: 1.0 & occ2: 12\", \"ne: 1.0 & occ2: 13\", \"ne: 1.0 & occ2: 14\", \"ne: 1.0 & occ2: 15\", \"ne: 1.0 & occ2: 16\", \"ne: 1.0 & occ2: 17\", \"ne: 1.0 & occ2: 18\", \"ne: 1.0 & occ2: 19\", \"ne: 1.0 & occ2: 2\", \"ne: 1.0 & occ2: 20\", \"ne: 1.0 & occ2: 21\", \"ne: 1.0 & occ2: 22\", \"ne: 1.0 & occ2: 3\", \"ne: 1.0 & occ2: 4\", \"ne: 1.0 & occ2: 5\", \"ne: 1.0 & occ2: 6\", \"ne: 1.0 & occ2: 7\", \"ne: 1.0 & occ2: 8\", \"ne: 1.0 & occ2: 9\", \"ne: 1.0 & ind2: 11\", \"ne: 1.0 & ind2: 12\", \"ne: 1.0 & ind2: 13\", \"ne: 1.0 & ind2: 14\", \"ne: 1.0 & ind2: 15\", \"ne: 1.0 & ind2: 16\", \"ne: 1.0 & ind2: 17\", \"ne: 1.0 & ind2: 18\", \"ne: 1.0 & ind2: 19\", \"ne: 1.0 & ind2: 2\", \"ne: 1.0 & ind2: 20\", \"ne: 1.0 & ind2: 21\", \"ne: 1.0 & ind2: 22\", \"ne: 1.0 & ind2: 3\", \"ne: 1.0 & ind2: 4\", \"ne: 1.0 & ind2: 5\", \"ne: 1.0 & ind2: 6\", \"ne: 1.0 & ind2: 7\", \"ne: 1.0 & ind2: 8\", \"ne: 1.0 & ind2: 9\", \"occ2: 10 & ind2: 11\", \"occ2: 11 & ind2: 11\", \"occ2: 12 & ind2: 11\", \"occ2: 13 & ind2: 11\", \"occ2: 14 & ind2: 11\", \"occ2: 15 & ind2: 11\", \"occ2: 16 & ind2: 11\", \"occ2: 17 & ind2: 11\", \"occ2: 18 & ind2: 11\", \"occ2: 19 & ind2: 11\", \"occ2: 2 & ind2: 11\", \"occ2: 20 & ind2: 11\", \"occ2: 21 & ind2: 11\", \"occ2: 22 & ind2: 11\", \"occ2: 3 & ind2: 11\", \"occ2: 4 & ind2: 11\", \"occ2: 5 & ind2: 11\", \"occ2: 6 & ind2: 11\", \"occ2: 7 & ind2: 11\", \"occ2: 8 & ind2: 11\", \"occ2: 9 & ind2: 11\", \"occ2: 10 & ind2: 12\", \"occ2: 11 & ind2: 12\", \"occ2: 12 & ind2: 12\", \"occ2: 13 & ind2: 12\", \"occ2: 14 & ind2: 12\", \"occ2: 15 & ind2: 12\", \"occ2: 16 & ind2: 12\", \"occ2: 17 & ind2: 12\", \"occ2: 18 & ind2: 12\", \"occ2: 19 & ind2: 12\", \"occ2: 2 & ind2: 12\", \"occ2: 20 & ind2: 12\", \"occ2: 21 & ind2: 12\", \"occ2: 22 & ind2: 12\", \"occ2: 3 & ind2: 12\", \"occ2: 4 & ind2: 12\", \"occ2: 5 & ind2: 12\", \"occ2: 6 & ind2: 12\", \"occ2: 7 & ind2: 12\", \"occ2: 8 & ind2: 12\", \"occ2: 9 & ind2: 12\", \"occ2: 10 & ind2: 13\", \"occ2: 11 & ind2: 13\", \"occ2: 12 & ind2: 13\", \"occ2: 13 & ind2: 13\", \"occ2: 14 & ind2: 13\", \"occ2: 15 & ind2: 13\", \"occ2: 16 & ind2: 13\", \"occ2: 17 & ind2: 13\", \"occ2: 18 & ind2: 13\", \"occ2: 19 & ind2: 13\", \"occ2: 2 & ind2: 13\", \"occ2: 20 & ind2: 13\", \"occ2: 21 & ind2: 13\", \"occ2: 22 & ind2: 13\", \"occ2: 3 & ind2: 13\", \"occ2: 4 & ind2: 13\", \"occ2: 5 & ind2: 13\", \"occ2: 6 & ind2: 13\", \"occ2: 7 & ind2: 13\", \"occ2: 8 & ind2: 13\", \"occ2: 9 & ind2: 13\", \"occ2: 10 & ind2: 14\", \"occ2: 11 & ind2: 14\", \"occ2: 12 & ind2: 14\", \"occ2: 13 & ind2: 14\", \"occ2: 14 & ind2: 14\", \"occ2: 15 & ind2: 14\", \"occ2: 16 & ind2: 14\", \"occ2: 17 & ind2: 14\", \"occ2: 18 & ind2: 14\", \"occ2: 19 & ind2: 14\", \"occ2: 2 & ind2: 14\", \"occ2: 20 & ind2: 14\", \"occ2: 21 & ind2: 14\", \"occ2: 22 & ind2: 14\", \"occ2: 3 & ind2: 14\", \"occ2: 4 & ind2: 14\", \"occ2: 5 & ind2: 14\", \"occ2: 6 & ind2: 14\", \"occ2: 7 & ind2: 14\", \"occ2: 8 & ind2: 14\", \"occ2: 9 & ind2: 14\", \"occ2: 10 & ind2: 15\", \"occ2: 11 & ind2: 15\", \"occ2: 12 & ind2: 15\", \"occ2: 13 & ind2: 15\", \"occ2: 14 & ind2: 15\", \"occ2: 15 & ind2: 15\", \"occ2: 16 & ind2: 15\", \"occ2: 17 & ind2: 15\", \"occ2: 18 & ind2: 15\", \"occ2: 19 & ind2: 15\", \"occ2: 2 & ind2: 15\", \"occ2: 20 & ind2: 15\", \"occ2: 21 & ind2: 15\", \"occ2: 22 & ind2: 15\", \"occ2: 3 & ind2: 15\", \"occ2: 4 & ind2: 15\", \"occ2: 5 & ind2: 15\", \"occ2: 6 & ind2: 15\", \"occ2: 7 & ind2: 15\", \"occ2: 8 & ind2: 15\", \"occ2: 9 & ind2: 15\", \"occ2: 10 & ind2: 16\", \"occ2: 11 & ind2: 16\", \"occ2: 12 & ind2: 16\", \"occ2: 13 & ind2: 16\", \"occ2: 14 & ind2: 16\", \"occ2: 15 & ind2: 16\", \"occ2: 16 & ind2: 16\", \"occ2: 17 & ind2: 16\", \"occ2: 18 & ind2: 16\", \"occ2: 19 & ind2: 16\", \"occ2: 2 & ind2: 16\", \"occ2: 20 & ind2: 16\", \"occ2: 21 & ind2: 16\", \"occ2: 22 & ind2: 16\", \"occ2: 3 & ind2: 16\", \"occ2: 4 & ind2: 16\", \"occ2: 5 & ind2: 16\", \"occ2: 6 & ind2: 16\", \"occ2: 7 & ind2: 16\", \"occ2: 8 & ind2: 16\", \"occ2: 9 & ind2: 16\", \"occ2: 10 & ind2: 17\", \"occ2: 11 & ind2: 17\", \"occ2: 12 & ind2: 17\", \"occ2: 13 & ind2: 17\", \"occ2: 14 & ind2: 17\", \"occ2: 15 & ind2: 17\", \"occ2: 16 & ind2: 17\", \"occ2: 17 & ind2: 17\", \"occ2: 18 & ind2: 17\", \"occ2: 19 & ind2: 17\", \"occ2: 2 & ind2: 17\", \"occ2: 20 & ind2: 17\", \"occ2: 21 & ind2: 17\", \"occ2: 22 & ind2: 17\", \"occ2: 3 & ind2: 17\", \"occ2: 4 & ind2: 17\", \"occ2: 5 & ind2: 17\", \"occ2: 6 & ind2: 17\", \"occ2: 7 & ind2: 17\", \"occ2: 8 & ind2: 17\", \"occ2: 9 & ind2: 17\", \"occ2: 10 & ind2: 18\", \"occ2: 11 & ind2: 18\", \"occ2: 12 & ind2: 18\", \"occ2: 13 & ind2: 18\", \"occ2: 14 & ind2: 18\", \"occ2: 15 & ind2: 18\", \"occ2: 16 & ind2: 18\", \"occ2: 17 & ind2: 18\", \"occ2: 18 & ind2: 18\", \"occ2: 19 & ind2: 18\", \"occ2: 2 & ind2: 18\", \"occ2: 20 & ind2: 18\", \"occ2: 21 & ind2: 18\", \"occ2: 22 & ind2: 18\", \"occ2: 3 & ind2: 18\", \"occ2: 4 & ind2: 18\", \"occ2: 5 & ind2: 18\", \"occ2: 6 & ind2: 18\", \"occ2: 7 & ind2: 18\", \"occ2: 8 & ind2: 18\", \"occ2: 9 & ind2: 18\", \"occ2: 10 & ind2: 19\", \"occ2: 11 & ind2: 19\", \"occ2: 12 & ind2: 19\", \"occ2: 13 & ind2: 19\", \"occ2: 14 & ind2: 19\", \"occ2: 15 & ind2: 19\", \"occ2: 16 & ind2: 19\", \"occ2: 17 & ind2: 19\", \"occ2: 18 & ind2: 19\", \"occ2: 19 & ind2: 19\", \"occ2: 2 & ind2: 19\", \"occ2: 20 & ind2: 19\", \"occ2: 21 & ind2: 19\", \"occ2: 22 & ind2: 19\", \"occ2: 3 & ind2: 19\", \"occ2: 4 & ind2: 19\", \"occ2: 5 & ind2: 19\", \"occ2: 6 & ind2: 19\", \"occ2: 7 & ind2: 19\", \"occ2: 8 & ind2: 19\", \"occ2: 9 & ind2: 19\", \"occ2: 10 & ind2: 2\", \"occ2: 11 & ind2: 2\", \"occ2: 12 & ind2: 2\", \"occ2: 13 & ind2: 2\", \"occ2: 14 & ind2: 2\", \"occ2: 15 & ind2: 2\", \"occ2: 16 & ind2: 2\", \"occ2: 17 & ind2: 2\", \"occ2: 18 & ind2: 2\", \"occ2: 19 & ind2: 2\", \"occ2: 2 & ind2: 2\", \"occ2: 20 & ind2: 2\", \"occ2: 21 & ind2: 2\", \"occ2: 22 & ind2: 2\", \"occ2: 3 & ind2: 2\", \"occ2: 4 & ind2: 2\", \"occ2: 5 & ind2: 2\", \"occ2: 6 & ind2: 2\", \"occ2: 7 & ind2: 2\", \"occ2: 8 & ind2: 2\", \"occ2: 9 & ind2: 2\", \"occ2: 10 & ind2: 20\", \"occ2: 11 & ind2: 20\", \"occ2: 12 & ind2: 20\", \"occ2: 13 & ind2: 20\", \"occ2: 14 & ind2: 20\", \"occ2: 15 & ind2: 20\", \"occ2: 16 & ind2: 20\", \"occ2: 17 & ind2: 20\", \"occ2: 18 & ind2: 20\", \"occ2: 19 & ind2: 20\", \"occ2: 2 & ind2: 20\", \"occ2: 20 & ind2: 20\", \"occ2: 21 & ind2: 20\", \"occ2: 22 & ind2: 20\", \"occ2: 3 & ind2: 20\", \"occ2: 4 & ind2: 20\", \"occ2: 5 & ind2: 20\", \"occ2: 6 & ind2: 20\", \"occ2: 7 & ind2: 20\", \"occ2: 8 & ind2: 20\", \"occ2: 9 & ind2: 20\", \"occ2: 10 & ind2: 21\", \"occ2: 11 & ind2: 21\", \"occ2: 12 & ind2: 21\", \"occ2: 13 & ind2: 21\", \"occ2: 14 & ind2: 21\", \"occ2: 15 & ind2: 21\", \"occ2: 16 & ind2: 21\", \"occ2: 17 & ind2: 21\", \"occ2: 18 & ind2: 21\", \"occ2: 19 & ind2: 21\", \"occ2: 2 & ind2: 21\", \"occ2: 20 & ind2: 21\", \"occ2: 21 & ind2: 21\", \"occ2: 22 & ind2: 21\", \"occ2: 3 & ind2: 21\", \"occ2: 4 & ind2: 21\", \"occ2: 5 & ind2: 21\", \"occ2: 6 & ind2: 21\", \"occ2: 7 & ind2: 21\", \"occ2: 8 & ind2: 21\", \"occ2: 9 & ind2: 21\", \"occ2: 10 & ind2: 22\", \"occ2: 11 & ind2: 22\", \"occ2: 12 & ind2: 22\", \"occ2: 13 & ind2: 22\", \"occ2: 14 & ind2: 22\", \"occ2: 15 & ind2: 22\", \"occ2: 16 & ind2: 22\", \"occ2: 17 & ind2: 22\", \"occ2: 18 & ind2: 22\", \"occ2: 19 & ind2: 22\", \"occ2: 2 & ind2: 22\", \"occ2: 20 & ind2: 22\", \"occ2: 21 & ind2: 22\", \"occ2: 22 & ind2: 22\", \"occ2: 3 & ind2: 22\", \"occ2: 4 & ind2: 22\", \"occ2: 5 & ind2: 22\", \"occ2: 6 & ind2: 22\", \"occ2: 7 & ind2: 22\", \"occ2: 8 & ind2: 22\", \"occ2: 9 & ind2: 22\", \"occ2: 10 & ind2: 3\", \"occ2: 11 & ind2: 3\", \"occ2: 12 & ind2: 3\", \"occ2: 13 & ind2: 3\", \"occ2: 14 & ind2: 3\", \"occ2: 15 & ind2: 3\", \"occ2: 16 & ind2: 3\", \"occ2: 17 & ind2: 3\", \"occ2: 18 & ind2: 3\", \"occ2: 19 & ind2: 3\", \"occ2: 2 & ind2: 3\", \"occ2: 20 & ind2: 3\", \"occ2: 21 & ind2: 3\", \"occ2: 22 & ind2: 3\", \"occ2: 3 & ind2: 3\", \"occ2: 4 & ind2: 3\", \"occ2: 5 & ind2: 3\", \"occ2: 6 & ind2: 3\", \"occ2: 7 & ind2: 3\", \"occ2: 8 & ind2: 3\", \"occ2: 9 & ind2: 3\", \"occ2: 10 & ind2: 4\", \"occ2: 11 & ind2: 4\", \"occ2: 12 & ind2: 4\", \"occ2: 13 & ind2: 4\", \"occ2: 14 & ind2: 4\", \"occ2: 15 & ind2: 4\", \"occ2: 16 & ind2: 4\", \"occ2: 17 & ind2: 4\", \"occ2: 18 & ind2: 4\", \"occ2: 19 & ind2: 4\", \"occ2: 2 & ind2: 4\", \"occ2: 20 & ind2: 4\", \"occ2: 21 & ind2: 4\", \"occ2: 22 & ind2: 4\", \"occ2: 3 & ind2: 4\", \"occ2: 4 & ind2: 4\", \"occ2: 5 & ind2: 4\", \"occ2: 6 & ind2: 4\", \"occ2: 7 & ind2: 4\", \"occ2: 8 & ind2: 4\", \"occ2: 9 & ind2: 4\", \"occ2: 10 & ind2: 5\", \"occ2: 11 & ind2: 5\", \"occ2: 12 & ind2: 5\", \"occ2: 13 & ind2: 5\", \"occ2: 14 & ind2: 5\", \"occ2: 15 & ind2: 5\", \"occ2: 16 & ind2: 5\", \"occ2: 17 & ind2: 5\", \"occ2: 18 & ind2: 5\", \"occ2: 19 & ind2: 5\", \"occ2: 2 & ind2: 5\", \"occ2: 20 & ind2: 5\", \"occ2: 21 & ind2: 5\", \"occ2: 22 & ind2: 5\", \"occ2: 3 & ind2: 5\", \"occ2: 4 & ind2: 5\", \"occ2: 5 & ind2: 5\", \"occ2: 6 & ind2: 5\", \"occ2: 7 & ind2: 5\", \"occ2: 8 & ind2: 5\", \"occ2: 9 & ind2: 5\", \"occ2: 10 & ind2: 6\", \"occ2: 11 & ind2: 6\", \"occ2: 12 & ind2: 6\", \"occ2: 13 & ind2: 6\", \"occ2: 14 & ind2: 6\", \"occ2: 15 & ind2: 6\", \"occ2: 16 & ind2: 6\", \"occ2: 17 & ind2: 6\", \"occ2: 18 & ind2: 6\", \"occ2: 19 & ind2: 6\", \"occ2: 2 & ind2: 6\", \"occ2: 20 & ind2: 6\", \"occ2: 21 & ind2: 6\", \"occ2: 22 & ind2: 6\", \"occ2: 3 & ind2: 6\", \"occ2: 4 & ind2: 6\", \"occ2: 5 & ind2: 6\", \"occ2: 6 & ind2: 6\", \"occ2: 7 & ind2: 6\", \"occ2: 8 & ind2: 6\", \"occ2: 9 & ind2: 6\", \"occ2: 10 & ind2: 7\", \"occ2: 11 & ind2: 7\", \"occ2: 12 & ind2: 7\", \"occ2: 13 & ind2: 7\", \"occ2: 14 & ind2: 7\", \"occ2: 15 & ind2: 7\", \"occ2: 16 & ind2: 7\", \"occ2: 17 & ind2: 7\", \"occ2: 18 & ind2: 7\", \"occ2: 19 & ind2: 7\", \"occ2: 2 & ind2: 7\", \"occ2: 20 & ind2: 7\", \"occ2: 21 & ind2: 7\", \"occ2: 22 & ind2: 7\", \"occ2: 3 & ind2: 7\", \"occ2: 4 & ind2: 7\", \"occ2: 5 & ind2: 7\", \"occ2: 6 & ind2: 7\", \"occ2: 7 & ind2: 7\", \"occ2: 8 & ind2: 7\", \"occ2: 9 & ind2: 7\", \"occ2: 10 & ind2: 8\", \"occ2: 11 & ind2: 8\", \"occ2: 12 & ind2: 8\", \"occ2: 13 & ind2: 8\", \"occ2: 14 & ind2: 8\", \"occ2: 15 & ind2: 8\", \"occ2: 16 & ind2: 8\", \"occ2: 17 & ind2: 8\", \"occ2: 18 & ind2: 8\", \"occ2: 19 & ind2: 8\", \"occ2: 2 & ind2: 8\", \"occ2: 20 & ind2: 8\", \"occ2: 21 & ind2: 8\", \"occ2: 22 & ind2: 8\", \"occ2: 3 & ind2: 8\", \"occ2: 4 & ind2: 8\", \"occ2: 5 & ind2: 8\", \"occ2: 6 & ind2: 8\", \"occ2: 7 & ind2: 8\", \"occ2: 8 & ind2: 8\", \"occ2: 9 & ind2: 8\", \"occ2: 10 & ind2: 9\", \"occ2: 11 & ind2: 9\", \"occ2: 12 & ind2: 9\", \"occ2: 13 & ind2: 9\", \"occ2: 14 & ind2: 9\", \"occ2: 15 & ind2: 9\", \"occ2: 16 & ind2: 9\", \"occ2: 17 & ind2: 9\", \"occ2: 18 & ind2: 9\", \"occ2: 19 & ind2: 9\", \"occ2: 2 & ind2: 9\", \"occ2: 20 & ind2: 9\", \"occ2: 21 & ind2: 9\", \"occ2: 22 & ind2: 9\", \"occ2: 3 & ind2: 9\", \"occ2: 4 & ind2: 9\", \"occ2: 5 & ind2: 9\", \"occ2: 6 & ind2: 9\", \"occ2: 7 & ind2: 9\", \"occ2: 8 & ind2: 9\", \"occ2: 9 & ind2: 9\", \"clg: 1.0 & sex: 1.0 & mw: 1.0\", \"clg: 1.0 & sex: 1.0 & so: 1.0\", \"clg: 1.0 & sex: 1.0 & we: 1.0\", \"clg: 1.0 & sex: 1.0 & ne: 1.0\"]\n"
     ]
    },
    {
     "data": {
      "text/plain": [
       "5150-element Vector{Float64}:\n",
       " 2.2633643798407643\n",
       " 3.872802292274865\n",
       " 2.403126322215923\n",
       " 2.634927936273247\n",
       " 3.361976668508874\n",
       " 2.4622152385859297\n",
       " 2.9565115604007097\n",
       " 2.9565115604007097\n",
       " 2.4849066497880004\n",
       " 2.9565115604007097\n",
       " ⋮\n",
       " 3.117779707996832\n",
       " 2.822980167776187\n",
       " 3.1796551117149194\n",
       " 2.6280074934286737\n",
       " 2.6925460145662448\n",
       " 3.138833117194664\n",
       " 3.649658740960655\n",
       " 3.4955080611333966\n",
       " 2.8511510447428834"
      ]
     },
     "metadata": {},
     "output_type": "display_data"
    }
   ],
   "source": [
    "# Create a ModelFrame which retains the formula and data structure\n",
    "mf = ModelFrame(design, data)\n",
    "\n",
    "# Extract column names using coefnames from the ModelFrame\n",
    "X_names = coefnames(mf)\n",
    "X_names = X_names[2:end]  # Exclude the intercept\n",
    "\n",
    "# Verify the content of X_names\n",
    "println(\"Coefficient Names:\")\n",
    "println(X_names)\n",
    "\n",
    "# Create the ModelMatrix from the ModelFrame\n",
    "mm = modelmatrix(mf)\n",
    "\n",
    "# Convert the predictors to a plain Matrix, excluding the intercept\n",
    "X = mm[:, 2:end]\n",
    "\n",
    "# Extract the target variable\n",
    "y = data.lwage\n",
    "\n",
    "\n"
   ]
  },
  {
   "cell_type": "code",
   "execution_count": 80,
   "metadata": {},
   "outputs": [
    {
     "name": "stdout",
     "output_type": "stream",
     "text": [
      "\n",
      "Treatment Variables Identified:\n",
      "[\"clg: 1.0\", \"clg: 1.0 & sex: 1.0\", \"clg: 1.0 & mw: 1.0\", \"clg: 1.0 & so: 1.0\", \"clg: 1.0 & we: 1.0\", \"clg: 1.0 & ne: 1.0\", \"clg: 1.0 & sex: 1.0 & mw: 1.0\", \"clg: 1.0 & sex: 1.0 & so: 1.0\", \"clg: 1.0 & sex: 1.0 & we: 1.0\", \"clg: 1.0 & sex: 1.0 & ne: 1.0\"]\n",
      "[\"sex: 1.0\", \"mw: 1.0\", \"so: 1.0\", \"we: 1.0\", \"ne: 1.0\", \"exp1\", \"exp2\", \"exp3\", \"exp4\", \"hsg\", \"scl\", \"ad\", \"occ2: 10\", \"occ2: 11\", \"occ2: 12\", \"occ2: 13\", \"occ2: 14\", \"occ2: 15\", \"occ2: 16\", \"occ2: 17\", \"occ2: 18\", \"occ2: 19\", \"occ2: 2\", \"occ2: 20\", \"occ2: 21\", \"occ2: 22\", \"occ2: 3\", \"occ2: 4\", \"occ2: 5\", \"occ2: 6\", \"occ2: 7\", \"occ2: 8\", \"occ2: 9\", \"ind2: 11\", \"ind2: 12\", \"ind2: 13\", \"ind2: 14\", \"ind2: 15\", \"ind2: 16\", \"ind2: 17\", \"ind2: 18\", \"ind2: 19\", \"ind2: 2\", \"ind2: 20\", \"ind2: 21\", \"ind2: 22\", \"ind2: 3\", \"ind2: 4\", \"ind2: 5\", \"ind2: 6\", \"ind2: 7\", \"ind2: 8\", \"ind2: 9\", \"sex: 1.0 & mw: 1.0\", \"sex: 1.0 & so: 1.0\", \"sex: 1.0 & we: 1.0\", \"sex: 1.0 & ne: 1.0\", \"exp1 & hsg\", \"exp1 & scl\", \"exp1 & clg: 1.0\", \"exp1 & ad\", \"exp1 & mw: 1.0\", \"exp1 & so: 1.0\", \"exp1 & we: 1.0\", \"exp1 & ne: 1.0\", \"exp1 & occ2: 10\", \"exp1 & occ2: 11\", \"exp1 & occ2: 12\", \"exp1 & occ2: 13\", \"exp1 & occ2: 14\", \"exp1 & occ2: 15\", \"exp1 & occ2: 16\", \"exp1 & occ2: 17\", \"exp1 & occ2: 18\", \"exp1 & occ2: 19\", \"exp1 & occ2: 2\", \"exp1 & occ2: 20\", \"exp1 & occ2: 21\", \"exp1 & occ2: 22\", \"exp1 & occ2: 3\", \"exp1 & occ2: 4\", \"exp1 & occ2: 5\", \"exp1 & occ2: 6\", \"exp1 & occ2: 7\", \"exp1 & occ2: 8\", \"exp1 & occ2: 9\", \"exp1 & ind2: 11\", \"exp1 & ind2: 12\", \"exp1 & ind2: 13\", \"exp1 & ind2: 14\", \"exp1 & ind2: 15\", \"exp1 & ind2: 16\", \"exp1 & ind2: 17\", \"exp1 & ind2: 18\", \"exp1 & ind2: 19\", \"exp1 & ind2: 2\", \"exp1 & ind2: 20\", \"exp1 & ind2: 21\", \"exp1 & ind2: 22\", \"exp1 & ind2: 3\", \"exp1 & ind2: 4\", \"exp1 & ind2: 5\", \"exp1 & ind2: 6\", \"exp1 & ind2: 7\", \"exp1 & ind2: 8\", \"exp1 & ind2: 9\", \"exp2 & hsg\", \"exp2 & scl\", \"exp2 & clg: 1.0\", \"exp2 & ad\", \"exp2 & mw: 1.0\", \"exp2 & so: 1.0\", \"exp2 & we: 1.0\", \"exp2 & ne: 1.0\", \"exp2 & occ2: 10\", \"exp2 & occ2: 11\", \"exp2 & occ2: 12\", \"exp2 & occ2: 13\", \"exp2 & occ2: 14\", \"exp2 & occ2: 15\", \"exp2 & occ2: 16\", \"exp2 & occ2: 17\", \"exp2 & occ2: 18\", \"exp2 & occ2: 19\", \"exp2 & occ2: 2\", \"exp2 & occ2: 20\", \"exp2 & occ2: 21\", \"exp2 & occ2: 22\", \"exp2 & occ2: 3\", \"exp2 & occ2: 4\", \"exp2 & occ2: 5\", \"exp2 & occ2: 6\", \"exp2 & occ2: 7\", \"exp2 & occ2: 8\", \"exp2 & occ2: 9\", \"exp2 & ind2: 11\", \"exp2 & ind2: 12\", \"exp2 & ind2: 13\", \"exp2 & ind2: 14\", \"exp2 & ind2: 15\", \"exp2 & ind2: 16\", \"exp2 & ind2: 17\", \"exp2 & ind2: 18\", \"exp2 & ind2: 19\", \"exp2 & ind2: 2\", \"exp2 & ind2: 20\", \"exp2 & ind2: 21\", \"exp2 & ind2: 22\", \"exp2 & ind2: 3\", \"exp2 & ind2: 4\", \"exp2 & ind2: 5\", \"exp2 & ind2: 6\", \"exp2 & ind2: 7\", \"exp2 & ind2: 8\", \"exp2 & ind2: 9\", \"exp3 & hsg\", \"exp3 & scl\", \"exp3 & clg: 1.0\", \"exp3 & ad\", \"exp3 & mw: 1.0\", \"exp3 & so: 1.0\", \"exp3 & we: 1.0\", \"exp3 & ne: 1.0\", \"exp3 & occ2: 10\", \"exp3 & occ2: 11\", \"exp3 & occ2: 12\", \"exp3 & occ2: 13\", \"exp3 & occ2: 14\", \"exp3 & occ2: 15\", \"exp3 & occ2: 16\", \"exp3 & occ2: 17\", \"exp3 & occ2: 18\", \"exp3 & occ2: 19\", \"exp3 & occ2: 2\", \"exp3 & occ2: 20\", \"exp3 & occ2: 21\", \"exp3 & occ2: 22\", \"exp3 & occ2: 3\", \"exp3 & occ2: 4\", \"exp3 & occ2: 5\", \"exp3 & occ2: 6\", \"exp3 & occ2: 7\", \"exp3 & occ2: 8\", \"exp3 & occ2: 9\", \"exp3 & ind2: 11\", \"exp3 & ind2: 12\", \"exp3 & ind2: 13\", \"exp3 & ind2: 14\", \"exp3 & ind2: 15\", \"exp3 & ind2: 16\", \"exp3 & ind2: 17\", \"exp3 & ind2: 18\", \"exp3 & ind2: 19\", \"exp3 & ind2: 2\", \"exp3 & ind2: 20\", \"exp3 & ind2: 21\", \"exp3 & ind2: 22\", \"exp3 & ind2: 3\", \"exp3 & ind2: 4\", \"exp3 & ind2: 5\", \"exp3 & ind2: 6\", \"exp3 & ind2: 7\", \"exp3 & ind2: 8\", \"exp3 & ind2: 9\", \"exp4 & hsg\", \"exp4 & scl\", \"exp4 & clg: 1.0\", \"exp4 & ad\", \"exp4 & mw: 1.0\", \"exp4 & so: 1.0\", \"exp4 & we: 1.0\", \"exp4 & ne: 1.0\", \"exp4 & occ2: 10\", \"exp4 & occ2: 11\", \"exp4 & occ2: 12\", \"exp4 & occ2: 13\", \"exp4 & occ2: 14\", \"exp4 & occ2: 15\", \"exp4 & occ2: 16\", \"exp4 & occ2: 17\", \"exp4 & occ2: 18\", \"exp4 & occ2: 19\", \"exp4 & occ2: 2\", \"exp4 & occ2: 20\", \"exp4 & occ2: 21\", \"exp4 & occ2: 22\", \"exp4 & occ2: 3\", \"exp4 & occ2: 4\", \"exp4 & occ2: 5\", \"exp4 & occ2: 6\", \"exp4 & occ2: 7\", \"exp4 & occ2: 8\", \"exp4 & occ2: 9\", \"exp4 & ind2: 11\", \"exp4 & ind2: 12\", \"exp4 & ind2: 13\", \"exp4 & ind2: 14\", \"exp4 & ind2: 15\", \"exp4 & ind2: 16\", \"exp4 & ind2: 17\", \"exp4 & ind2: 18\", \"exp4 & ind2: 19\", \"exp4 & ind2: 2\", \"exp4 & ind2: 20\", \"exp4 & ind2: 21\", \"exp4 & ind2: 22\", \"exp4 & ind2: 3\", \"exp4 & ind2: 4\", \"exp4 & ind2: 5\", \"exp4 & ind2: 6\", \"exp4 & ind2: 7\", \"exp4 & ind2: 8\", \"exp4 & ind2: 9\", \"hsg & mw: 1.0\", \"hsg & so: 1.0\", \"hsg & we: 1.0\", \"hsg & ne: 1.0\", \"hsg & occ2: 10\", \"hsg & occ2: 11\", \"hsg & occ2: 12\", \"hsg & occ2: 13\", \"hsg & occ2: 14\", \"hsg & occ2: 15\", \"hsg & occ2: 16\", \"hsg & occ2: 17\", \"hsg & occ2: 18\", \"hsg & occ2: 19\", \"hsg & occ2: 2\", \"hsg & occ2: 20\", \"hsg & occ2: 21\", \"hsg & occ2: 22\", \"hsg & occ2: 3\", \"hsg & occ2: 4\", \"hsg & occ2: 5\", \"hsg & occ2: 6\", \"hsg & occ2: 7\", \"hsg & occ2: 8\", \"hsg & occ2: 9\", \"hsg & ind2: 11\", \"hsg & ind2: 12\", \"hsg & ind2: 13\", \"hsg & ind2: 14\", \"hsg & ind2: 15\", \"hsg & ind2: 16\", \"hsg & ind2: 17\", \"hsg & ind2: 18\", \"hsg & ind2: 19\", \"hsg & ind2: 2\", \"hsg & ind2: 20\", \"hsg & ind2: 21\", \"hsg & ind2: 22\", \"hsg & ind2: 3\", \"hsg & ind2: 4\", \"hsg & ind2: 5\", \"hsg & ind2: 6\", \"hsg & ind2: 7\", \"hsg & ind2: 8\", \"hsg & ind2: 9\", \"scl & mw: 1.0\", \"scl & so: 1.0\", \"scl & we: 1.0\", \"scl & ne: 1.0\", \"scl & occ2: 10\", \"scl & occ2: 11\", \"scl & occ2: 12\", \"scl & occ2: 13\", \"scl & occ2: 14\", \"scl & occ2: 15\", \"scl & occ2: 16\", \"scl & occ2: 17\", \"scl & occ2: 18\", \"scl & occ2: 19\", \"scl & occ2: 2\", \"scl & occ2: 20\", \"scl & occ2: 21\", \"scl & occ2: 22\", \"scl & occ2: 3\", \"scl & occ2: 4\", \"scl & occ2: 5\", \"scl & occ2: 6\", \"scl & occ2: 7\", \"scl & occ2: 8\", \"scl & occ2: 9\", \"scl & ind2: 11\", \"scl & ind2: 12\", \"scl & ind2: 13\", \"scl & ind2: 14\", \"scl & ind2: 15\", \"scl & ind2: 16\", \"scl & ind2: 17\", \"scl & ind2: 18\", \"scl & ind2: 19\", \"scl & ind2: 2\", \"scl & ind2: 20\", \"scl & ind2: 21\", \"scl & ind2: 22\", \"scl & ind2: 3\", \"scl & ind2: 4\", \"scl & ind2: 5\", \"scl & ind2: 6\", \"scl & ind2: 7\", \"scl & ind2: 8\", \"scl & ind2: 9\", \"clg: 1.0 & occ2: 10\", \"clg: 1.0 & occ2: 11\", \"clg: 1.0 & occ2: 12\", \"clg: 1.0 & occ2: 13\", \"clg: 1.0 & occ2: 14\", \"clg: 1.0 & occ2: 15\", \"clg: 1.0 & occ2: 16\", \"clg: 1.0 & occ2: 17\", \"clg: 1.0 & occ2: 18\", \"clg: 1.0 & occ2: 19\", \"clg: 1.0 & occ2: 2\", \"clg: 1.0 & occ2: 20\", \"clg: 1.0 & occ2: 21\", \"clg: 1.0 & occ2: 22\", \"clg: 1.0 & occ2: 3\", \"clg: 1.0 & occ2: 4\", \"clg: 1.0 & occ2: 5\", \"clg: 1.0 & occ2: 6\", \"clg: 1.0 & occ2: 7\", \"clg: 1.0 & occ2: 8\", \"clg: 1.0 & occ2: 9\", \"clg: 1.0 & ind2: 11\", \"clg: 1.0 & ind2: 12\", \"clg: 1.0 & ind2: 13\", \"clg: 1.0 & ind2: 14\", \"clg: 1.0 & ind2: 15\", \"clg: 1.0 & ind2: 16\", \"clg: 1.0 & ind2: 17\", \"clg: 1.0 & ind2: 18\", \"clg: 1.0 & ind2: 19\", \"clg: 1.0 & ind2: 2\", \"clg: 1.0 & ind2: 20\", \"clg: 1.0 & ind2: 21\", \"clg: 1.0 & ind2: 22\", \"clg: 1.0 & ind2: 3\", \"clg: 1.0 & ind2: 4\", \"clg: 1.0 & ind2: 5\", \"clg: 1.0 & ind2: 6\", \"clg: 1.0 & ind2: 7\", \"clg: 1.0 & ind2: 8\", \"clg: 1.0 & ind2: 9\", \"ad & mw: 1.0\", \"ad & so: 1.0\", \"ad & we: 1.0\", \"ad & ne: 1.0\", \"ad & occ2: 10\", \"ad & occ2: 11\", \"ad & occ2: 12\", \"ad & occ2: 13\", \"ad & occ2: 14\", \"ad & occ2: 15\", \"ad & occ2: 16\", \"ad & occ2: 17\", \"ad & occ2: 18\", \"ad & occ2: 19\", \"ad & occ2: 2\", \"ad & occ2: 20\", \"ad & occ2: 21\", \"ad & occ2: 22\", \"ad & occ2: 3\", \"ad & occ2: 4\", \"ad & occ2: 5\", \"ad & occ2: 6\", \"ad & occ2: 7\", \"ad & occ2: 8\", \"ad & occ2: 9\", \"ad & ind2: 11\", \"ad & ind2: 12\", \"ad & ind2: 13\", \"ad & ind2: 14\", \"ad & ind2: 15\", \"ad & ind2: 16\", \"ad & ind2: 17\", \"ad & ind2: 18\", \"ad & ind2: 19\", \"ad & ind2: 2\", \"ad & ind2: 20\", \"ad & ind2: 21\", \"ad & ind2: 22\", \"ad & ind2: 3\", \"ad & ind2: 4\", \"ad & ind2: 5\", \"ad & ind2: 6\", \"ad & ind2: 7\", \"ad & ind2: 8\", \"ad & ind2: 9\", \"mw: 1.0 & occ2: 10\", \"mw: 1.0 & occ2: 11\", \"mw: 1.0 & occ2: 12\", \"mw: 1.0 & occ2: 13\", \"mw: 1.0 & occ2: 14\", \"mw: 1.0 & occ2: 15\", \"mw: 1.0 & occ2: 16\", \"mw: 1.0 & occ2: 17\", \"mw: 1.0 & occ2: 18\", \"mw: 1.0 & occ2: 19\", \"mw: 1.0 & occ2: 2\", \"mw: 1.0 & occ2: 20\", \"mw: 1.0 & occ2: 21\", \"mw: 1.0 & occ2: 22\", \"mw: 1.0 & occ2: 3\", \"mw: 1.0 & occ2: 4\", \"mw: 1.0 & occ2: 5\", \"mw: 1.0 & occ2: 6\", \"mw: 1.0 & occ2: 7\", \"mw: 1.0 & occ2: 8\", \"mw: 1.0 & occ2: 9\", \"mw: 1.0 & ind2: 11\", \"mw: 1.0 & ind2: 12\", \"mw: 1.0 & ind2: 13\", \"mw: 1.0 & ind2: 14\", \"mw: 1.0 & ind2: 15\", \"mw: 1.0 & ind2: 16\", \"mw: 1.0 & ind2: 17\", \"mw: 1.0 & ind2: 18\", \"mw: 1.0 & ind2: 19\", \"mw: 1.0 & ind2: 2\", \"mw: 1.0 & ind2: 20\", \"mw: 1.0 & ind2: 21\", \"mw: 1.0 & ind2: 22\", \"mw: 1.0 & ind2: 3\", \"mw: 1.0 & ind2: 4\", \"mw: 1.0 & ind2: 5\", \"mw: 1.0 & ind2: 6\", \"mw: 1.0 & ind2: 7\", \"mw: 1.0 & ind2: 8\", \"mw: 1.0 & ind2: 9\", \"so: 1.0 & occ2: 10\", \"so: 1.0 & occ2: 11\", \"so: 1.0 & occ2: 12\", \"so: 1.0 & occ2: 13\", \"so: 1.0 & occ2: 14\", \"so: 1.0 & occ2: 15\", \"so: 1.0 & occ2: 16\", \"so: 1.0 & occ2: 17\", \"so: 1.0 & occ2: 18\", \"so: 1.0 & occ2: 19\", \"so: 1.0 & occ2: 2\", \"so: 1.0 & occ2: 20\", \"so: 1.0 & occ2: 21\", \"so: 1.0 & occ2: 22\", \"so: 1.0 & occ2: 3\", \"so: 1.0 & occ2: 4\", \"so: 1.0 & occ2: 5\", \"so: 1.0 & occ2: 6\", \"so: 1.0 & occ2: 7\", \"so: 1.0 & occ2: 8\", \"so: 1.0 & occ2: 9\", \"so: 1.0 & ind2: 11\", \"so: 1.0 & ind2: 12\", \"so: 1.0 & ind2: 13\", \"so: 1.0 & ind2: 14\", \"so: 1.0 & ind2: 15\", \"so: 1.0 & ind2: 16\", \"so: 1.0 & ind2: 17\", \"so: 1.0 & ind2: 18\", \"so: 1.0 & ind2: 19\", \"so: 1.0 & ind2: 2\", \"so: 1.0 & ind2: 20\", \"so: 1.0 & ind2: 21\", \"so: 1.0 & ind2: 22\", \"so: 1.0 & ind2: 3\", \"so: 1.0 & ind2: 4\", \"so: 1.0 & ind2: 5\", \"so: 1.0 & ind2: 6\", \"so: 1.0 & ind2: 7\", \"so: 1.0 & ind2: 8\", \"so: 1.0 & ind2: 9\", \"we: 1.0 & occ2: 10\", \"we: 1.0 & occ2: 11\", \"we: 1.0 & occ2: 12\", \"we: 1.0 & occ2: 13\", \"we: 1.0 & occ2: 14\", \"we: 1.0 & occ2: 15\", \"we: 1.0 & occ2: 16\", \"we: 1.0 & occ2: 17\", \"we: 1.0 & occ2: 18\", \"we: 1.0 & occ2: 19\", \"we: 1.0 & occ2: 2\", \"we: 1.0 & occ2: 20\", \"we: 1.0 & occ2: 21\", \"we: 1.0 & occ2: 22\", \"we: 1.0 & occ2: 3\", \"we: 1.0 & occ2: 4\", \"we: 1.0 & occ2: 5\", \"we: 1.0 & occ2: 6\", \"we: 1.0 & occ2: 7\", \"we: 1.0 & occ2: 8\", \"we: 1.0 & occ2: 9\", \"we: 1.0 & ind2: 11\", \"we: 1.0 & ind2: 12\", \"we: 1.0 & ind2: 13\", \"we: 1.0 & ind2: 14\", \"we: 1.0 & ind2: 15\", \"we: 1.0 & ind2: 16\", \"we: 1.0 & ind2: 17\", \"we: 1.0 & ind2: 18\", \"we: 1.0 & ind2: 19\", \"we: 1.0 & ind2: 2\", \"we: 1.0 & ind2: 20\", \"we: 1.0 & ind2: 21\", \"we: 1.0 & ind2: 22\", \"we: 1.0 & ind2: 3\", \"we: 1.0 & ind2: 4\", \"we: 1.0 & ind2: 5\", \"we: 1.0 & ind2: 6\", \"we: 1.0 & ind2: 7\", \"we: 1.0 & ind2: 8\", \"we: 1.0 & ind2: 9\", \"ne: 1.0 & occ2: 10\", \"ne: 1.0 & occ2: 11\", \"ne: 1.0 & occ2: 12\", \"ne: 1.0 & occ2: 13\", \"ne: 1.0 & occ2: 14\", \"ne: 1.0 & occ2: 15\", \"ne: 1.0 & occ2: 16\", \"ne: 1.0 & occ2: 17\", \"ne: 1.0 & occ2: 18\", \"ne: 1.0 & occ2: 19\", \"ne: 1.0 & occ2: 2\", \"ne: 1.0 & occ2: 20\", \"ne: 1.0 & occ2: 21\", \"ne: 1.0 & occ2: 22\", \"ne: 1.0 & occ2: 3\", \"ne: 1.0 & occ2: 4\", \"ne: 1.0 & occ2: 5\", \"ne: 1.0 & occ2: 6\", \"ne: 1.0 & occ2: 7\", \"ne: 1.0 & occ2: 8\", \"ne: 1.0 & occ2: 9\", \"ne: 1.0 & ind2: 11\", \"ne: 1.0 & ind2: 12\", \"ne: 1.0 & ind2: 13\", \"ne: 1.0 & ind2: 14\", \"ne: 1.0 & ind2: 15\", \"ne: 1.0 & ind2: 16\", \"ne: 1.0 & ind2: 17\", \"ne: 1.0 & ind2: 18\", \"ne: 1.0 & ind2: 19\", \"ne: 1.0 & ind2: 2\", \"ne: 1.0 & ind2: 20\", \"ne: 1.0 & ind2: 21\", \"ne: 1.0 & ind2: 22\", \"ne: 1.0 & ind2: 3\", \"ne: 1.0 & ind2: 4\", \"ne: 1.0 & ind2: 5\", \"ne: 1.0 & ind2: 6\", \"ne: 1.0 & ind2: 7\", \"ne: 1.0 & ind2: 8\", \"ne: 1.0 & ind2: 9\", \"occ2: 10 & ind2: 11\", \"occ2: 11 & ind2: 11\", \"occ2: 12 & ind2: 11\", \"occ2: 13 & ind2: 11\", \"occ2: 14 & ind2: 11\", \"occ2: 15 & ind2: 11\", \"occ2: 16 & ind2: 11\", \"occ2: 17 & ind2: 11\", \"occ2: 18 & ind2: 11\", \"occ2: 19 & ind2: 11\", \"occ2: 2 & ind2: 11\", \"occ2: 20 & ind2: 11\", \"occ2: 21 & ind2: 11\", \"occ2: 22 & ind2: 11\", \"occ2: 3 & ind2: 11\", \"occ2: 4 & ind2: 11\", \"occ2: 5 & ind2: 11\", \"occ2: 6 & ind2: 11\", \"occ2: 7 & ind2: 11\", \"occ2: 8 & ind2: 11\", \"occ2: 9 & ind2: 11\", \"occ2: 10 & ind2: 12\", \"occ2: 11 & ind2: 12\", \"occ2: 12 & ind2: 12\", \"occ2: 13 & ind2: 12\", \"occ2: 14 & ind2: 12\", \"occ2: 15 & ind2: 12\", \"occ2: 16 & ind2: 12\", \"occ2: 17 & ind2: 12\", \"occ2: 18 & ind2: 12\", \"occ2: 19 & ind2: 12\", \"occ2: 2 & ind2: 12\", \"occ2: 20 & ind2: 12\", \"occ2: 21 & ind2: 12\", \"occ2: 22 & ind2: 12\", \"occ2: 3 & ind2: 12\", \"occ2: 4 & ind2: 12\", \"occ2: 5 & ind2: 12\", \"occ2: 6 & ind2: 12\", \"occ2: 7 & ind2: 12\", \"occ2: 8 & ind2: 12\", \"occ2: 9 & ind2: 12\", \"occ2: 10 & ind2: 13\", \"occ2: 11 & ind2: 13\", \"occ2: 12 & ind2: 13\", \"occ2: 13 & ind2: 13\", \"occ2: 14 & ind2: 13\", \"occ2: 15 & ind2: 13\", \"occ2: 16 & ind2: 13\", \"occ2: 17 & ind2: 13\", \"occ2: 18 & ind2: 13\", \"occ2: 19 & ind2: 13\", \"occ2: 2 & ind2: 13\", \"occ2: 20 & ind2: 13\", \"occ2: 21 & ind2: 13\", \"occ2: 22 & ind2: 13\", \"occ2: 3 & ind2: 13\", \"occ2: 4 & ind2: 13\", \"occ2: 5 & ind2: 13\", \"occ2: 6 & ind2: 13\", \"occ2: 7 & ind2: 13\", \"occ2: 8 & ind2: 13\", \"occ2: 9 & ind2: 13\", \"occ2: 10 & ind2: 14\", \"occ2: 11 & ind2: 14\", \"occ2: 12 & ind2: 14\", \"occ2: 13 & ind2: 14\", \"occ2: 14 & ind2: 14\", \"occ2: 15 & ind2: 14\", \"occ2: 16 & ind2: 14\", \"occ2: 17 & ind2: 14\", \"occ2: 18 & ind2: 14\", \"occ2: 19 & ind2: 14\", \"occ2: 2 & ind2: 14\", \"occ2: 20 & ind2: 14\", \"occ2: 21 & ind2: 14\", \"occ2: 22 & ind2: 14\", \"occ2: 3 & ind2: 14\", \"occ2: 4 & ind2: 14\", \"occ2: 5 & ind2: 14\", \"occ2: 6 & ind2: 14\", \"occ2: 7 & ind2: 14\", \"occ2: 8 & ind2: 14\", \"occ2: 9 & ind2: 14\", \"occ2: 10 & ind2: 15\", \"occ2: 11 & ind2: 15\", \"occ2: 12 & ind2: 15\", \"occ2: 13 & ind2: 15\", \"occ2: 14 & ind2: 15\", \"occ2: 15 & ind2: 15\", \"occ2: 16 & ind2: 15\", \"occ2: 17 & ind2: 15\", \"occ2: 18 & ind2: 15\", \"occ2: 19 & ind2: 15\", \"occ2: 2 & ind2: 15\", \"occ2: 20 & ind2: 15\", \"occ2: 21 & ind2: 15\", \"occ2: 22 & ind2: 15\", \"occ2: 3 & ind2: 15\", \"occ2: 4 & ind2: 15\", \"occ2: 5 & ind2: 15\", \"occ2: 6 & ind2: 15\", \"occ2: 7 & ind2: 15\", \"occ2: 8 & ind2: 15\", \"occ2: 9 & ind2: 15\", \"occ2: 10 & ind2: 16\", \"occ2: 11 & ind2: 16\", \"occ2: 12 & ind2: 16\", \"occ2: 13 & ind2: 16\", \"occ2: 14 & ind2: 16\", \"occ2: 15 & ind2: 16\", \"occ2: 16 & ind2: 16\", \"occ2: 17 & ind2: 16\", \"occ2: 18 & ind2: 16\", \"occ2: 19 & ind2: 16\", \"occ2: 2 & ind2: 16\", \"occ2: 20 & ind2: 16\", \"occ2: 21 & ind2: 16\", \"occ2: 22 & ind2: 16\", \"occ2: 3 & ind2: 16\", \"occ2: 4 & ind2: 16\", \"occ2: 5 & ind2: 16\", \"occ2: 6 & ind2: 16\", \"occ2: 7 & ind2: 16\", \"occ2: 8 & ind2: 16\", \"occ2: 9 & ind2: 16\", \"occ2: 10 & ind2: 17\", \"occ2: 11 & ind2: 17\", \"occ2: 12 & ind2: 17\", \"occ2: 13 & ind2: 17\", \"occ2: 14 & ind2: 17\", \"occ2: 15 & ind2: 17\", \"occ2: 16 & ind2: 17\", \"occ2: 17 & ind2: 17\", \"occ2: 18 & ind2: 17\", \"occ2: 19 & ind2: 17\", \"occ2: 2 & ind2: 17\", \"occ2: 20 & ind2: 17\", \"occ2: 21 & ind2: 17\", \"occ2: 22 & ind2: 17\", \"occ2: 3 & ind2: 17\", \"occ2: 4 & ind2: 17\", \"occ2: 5 & ind2: 17\", \"occ2: 6 & ind2: 17\", \"occ2: 7 & ind2: 17\", \"occ2: 8 & ind2: 17\", \"occ2: 9 & ind2: 17\", \"occ2: 10 & ind2: 18\", \"occ2: 11 & ind2: 18\", \"occ2: 12 & ind2: 18\", \"occ2: 13 & ind2: 18\", \"occ2: 14 & ind2: 18\", \"occ2: 15 & ind2: 18\", \"occ2: 16 & ind2: 18\", \"occ2: 17 & ind2: 18\", \"occ2: 18 & ind2: 18\", \"occ2: 19 & ind2: 18\", \"occ2: 2 & ind2: 18\", \"occ2: 20 & ind2: 18\", \"occ2: 21 & ind2: 18\", \"occ2: 22 & ind2: 18\", \"occ2: 3 & ind2: 18\", \"occ2: 4 & ind2: 18\", \"occ2: 5 & ind2: 18\", \"occ2: 6 & ind2: 18\", \"occ2: 7 & ind2: 18\", \"occ2: 8 & ind2: 18\", \"occ2: 9 & ind2: 18\", \"occ2: 10 & ind2: 19\", \"occ2: 11 & ind2: 19\", \"occ2: 12 & ind2: 19\", \"occ2: 13 & ind2: 19\", \"occ2: 14 & ind2: 19\", \"occ2: 15 & ind2: 19\", \"occ2: 16 & ind2: 19\", \"occ2: 17 & ind2: 19\", \"occ2: 18 & ind2: 19\", \"occ2: 19 & ind2: 19\", \"occ2: 2 & ind2: 19\", \"occ2: 20 & ind2: 19\", \"occ2: 21 & ind2: 19\", \"occ2: 22 & ind2: 19\", \"occ2: 3 & ind2: 19\", \"occ2: 4 & ind2: 19\", \"occ2: 5 & ind2: 19\", \"occ2: 6 & ind2: 19\", \"occ2: 7 & ind2: 19\", \"occ2: 8 & ind2: 19\", \"occ2: 9 & ind2: 19\", \"occ2: 10 & ind2: 2\", \"occ2: 11 & ind2: 2\", \"occ2: 12 & ind2: 2\", \"occ2: 13 & ind2: 2\", \"occ2: 14 & ind2: 2\", \"occ2: 15 & ind2: 2\", \"occ2: 16 & ind2: 2\", \"occ2: 17 & ind2: 2\", \"occ2: 18 & ind2: 2\", \"occ2: 19 & ind2: 2\", \"occ2: 2 & ind2: 2\", \"occ2: 20 & ind2: 2\", \"occ2: 21 & ind2: 2\", \"occ2: 22 & ind2: 2\", \"occ2: 3 & ind2: 2\", \"occ2: 4 & ind2: 2\", \"occ2: 5 & ind2: 2\", \"occ2: 6 & ind2: 2\", \"occ2: 7 & ind2: 2\", \"occ2: 8 & ind2: 2\", \"occ2: 9 & ind2: 2\", \"occ2: 10 & ind2: 20\", \"occ2: 11 & ind2: 20\", \"occ2: 12 & ind2: 20\", \"occ2: 13 & ind2: 20\", \"occ2: 14 & ind2: 20\", \"occ2: 15 & ind2: 20\", \"occ2: 16 & ind2: 20\", \"occ2: 17 & ind2: 20\", \"occ2: 18 & ind2: 20\", \"occ2: 19 & ind2: 20\", \"occ2: 2 & ind2: 20\", \"occ2: 20 & ind2: 20\", \"occ2: 21 & ind2: 20\", \"occ2: 22 & ind2: 20\", \"occ2: 3 & ind2: 20\", \"occ2: 4 & ind2: 20\", \"occ2: 5 & ind2: 20\", \"occ2: 6 & ind2: 20\", \"occ2: 7 & ind2: 20\", \"occ2: 8 & ind2: 20\", \"occ2: 9 & ind2: 20\", \"occ2: 10 & ind2: 21\", \"occ2: 11 & ind2: 21\", \"occ2: 12 & ind2: 21\", \"occ2: 13 & ind2: 21\", \"occ2: 14 & ind2: 21\", \"occ2: 15 & ind2: 21\", \"occ2: 16 & ind2: 21\", \"occ2: 17 & ind2: 21\", \"occ2: 18 & ind2: 21\", \"occ2: 19 & ind2: 21\", \"occ2: 2 & ind2: 21\", \"occ2: 20 & ind2: 21\", \"occ2: 21 & ind2: 21\", \"occ2: 22 & ind2: 21\", \"occ2: 3 & ind2: 21\", \"occ2: 4 & ind2: 21\", \"occ2: 5 & ind2: 21\", \"occ2: 6 & ind2: 21\", \"occ2: 7 & ind2: 21\", \"occ2: 8 & ind2: 21\", \"occ2: 9 & ind2: 21\", \"occ2: 10 & ind2: 22\", \"occ2: 11 & ind2: 22\", \"occ2: 12 & ind2: 22\", \"occ2: 13 & ind2: 22\", \"occ2: 14 & ind2: 22\", \"occ2: 15 & ind2: 22\", \"occ2: 16 & ind2: 22\", \"occ2: 17 & ind2: 22\", \"occ2: 18 & ind2: 22\", \"occ2: 19 & ind2: 22\", \"occ2: 2 & ind2: 22\", \"occ2: 20 & ind2: 22\", \"occ2: 21 & ind2: 22\", \"occ2: 22 & ind2: 22\", \"occ2: 3 & ind2: 22\", \"occ2: 4 & ind2: 22\", \"occ2: 5 & ind2: 22\", \"occ2: 6 & ind2: 22\", \"occ2: 7 & ind2: 22\", \"occ2: 8 & ind2: 22\", \"occ2: 9 & ind2: 22\", \"occ2: 10 & ind2: 3\", \"occ2: 11 & ind2: 3\", \"occ2: 12 & ind2: 3\", \"occ2: 13 & ind2: 3\", \"occ2: 14 & ind2: 3\", \"occ2: 15 & ind2: 3\", \"occ2: 16 & ind2: 3\", \"occ2: 17 & ind2: 3\", \"occ2: 18 & ind2: 3\", \"occ2: 19 & ind2: 3\", \"occ2: 2 & ind2: 3\", \"occ2: 20 & ind2: 3\", \"occ2: 21 & ind2: 3\", \"occ2: 22 & ind2: 3\", \"occ2: 3 & ind2: 3\", \"occ2: 4 & ind2: 3\", \"occ2: 5 & ind2: 3\", \"occ2: 6 & ind2: 3\", \"occ2: 7 & ind2: 3\", \"occ2: 8 & ind2: 3\", \"occ2: 9 & ind2: 3\", \"occ2: 10 & ind2: 4\", \"occ2: 11 & ind2: 4\", \"occ2: 12 & ind2: 4\", \"occ2: 13 & ind2: 4\", \"occ2: 14 & ind2: 4\", \"occ2: 15 & ind2: 4\", \"occ2: 16 & ind2: 4\", \"occ2: 17 & ind2: 4\", \"occ2: 18 & ind2: 4\", \"occ2: 19 & ind2: 4\", \"occ2: 2 & ind2: 4\", \"occ2: 20 & ind2: 4\", \"occ2: 21 & ind2: 4\", \"occ2: 22 & ind2: 4\", \"occ2: 3 & ind2: 4\", \"occ2: 4 & ind2: 4\", \"occ2: 5 & ind2: 4\", \"occ2: 6 & ind2: 4\", \"occ2: 7 & ind2: 4\", \"occ2: 8 & ind2: 4\", \"occ2: 9 & ind2: 4\", \"occ2: 10 & ind2: 5\", \"occ2: 11 & ind2: 5\", \"occ2: 12 & ind2: 5\", \"occ2: 13 & ind2: 5\", \"occ2: 14 & ind2: 5\", \"occ2: 15 & ind2: 5\", \"occ2: 16 & ind2: 5\", \"occ2: 17 & ind2: 5\", \"occ2: 18 & ind2: 5\", \"occ2: 19 & ind2: 5\", \"occ2: 2 & ind2: 5\", \"occ2: 20 & ind2: 5\", \"occ2: 21 & ind2: 5\", \"occ2: 22 & ind2: 5\", \"occ2: 3 & ind2: 5\", \"occ2: 4 & ind2: 5\", \"occ2: 5 & ind2: 5\", \"occ2: 6 & ind2: 5\", \"occ2: 7 & ind2: 5\", \"occ2: 8 & ind2: 5\", \"occ2: 9 & ind2: 5\", \"occ2: 10 & ind2: 6\", \"occ2: 11 & ind2: 6\", \"occ2: 12 & ind2: 6\", \"occ2: 13 & ind2: 6\", \"occ2: 14 & ind2: 6\", \"occ2: 15 & ind2: 6\", \"occ2: 16 & ind2: 6\", \"occ2: 17 & ind2: 6\", \"occ2: 18 & ind2: 6\", \"occ2: 19 & ind2: 6\", \"occ2: 2 & ind2: 6\", \"occ2: 20 & ind2: 6\", \"occ2: 21 & ind2: 6\", \"occ2: 22 & ind2: 6\", \"occ2: 3 & ind2: 6\", \"occ2: 4 & ind2: 6\", \"occ2: 5 & ind2: 6\", \"occ2: 6 & ind2: 6\", \"occ2: 7 & ind2: 6\", \"occ2: 8 & ind2: 6\", \"occ2: 9 & ind2: 6\", \"occ2: 10 & ind2: 7\", \"occ2: 11 & ind2: 7\", \"occ2: 12 & ind2: 7\", \"occ2: 13 & ind2: 7\", \"occ2: 14 & ind2: 7\", \"occ2: 15 & ind2: 7\", \"occ2: 16 & ind2: 7\", \"occ2: 17 & ind2: 7\", \"occ2: 18 & ind2: 7\", \"occ2: 19 & ind2: 7\", \"occ2: 2 & ind2: 7\", \"occ2: 20 & ind2: 7\", \"occ2: 21 & ind2: 7\", \"occ2: 22 & ind2: 7\", \"occ2: 3 & ind2: 7\", \"occ2: 4 & ind2: 7\", \"occ2: 5 & ind2: 7\", \"occ2: 6 & ind2: 7\", \"occ2: 7 & ind2: 7\", \"occ2: 8 & ind2: 7\", \"occ2: 9 & ind2: 7\", \"occ2: 10 & ind2: 8\", \"occ2: 11 & ind2: 8\", \"occ2: 12 & ind2: 8\", \"occ2: 13 & ind2: 8\", \"occ2: 14 & ind2: 8\", \"occ2: 15 & ind2: 8\", \"occ2: 16 & ind2: 8\", \"occ2: 17 & ind2: 8\", \"occ2: 18 & ind2: 8\", \"occ2: 19 & ind2: 8\", \"occ2: 2 & ind2: 8\", \"occ2: 20 & ind2: 8\", \"occ2: 21 & ind2: 8\", \"occ2: 22 & ind2: 8\", \"occ2: 3 & ind2: 8\", \"occ2: 4 & ind2: 8\", \"occ2: 5 & ind2: 8\", \"occ2: 6 & ind2: 8\", \"occ2: 7 & ind2: 8\", \"occ2: 8 & ind2: 8\", \"occ2: 9 & ind2: 8\", \"occ2: 10 & ind2: 9\", \"occ2: 11 & ind2: 9\", \"occ2: 12 & ind2: 9\", \"occ2: 13 & ind2: 9\", \"occ2: 14 & ind2: 9\", \"occ2: 15 & ind2: 9\", \"occ2: 16 & ind2: 9\", \"occ2: 17 & ind2: 9\", \"occ2: 18 & ind2: 9\", \"occ2: 19 & ind2: 9\", \"occ2: 2 & ind2: 9\", \"occ2: 20 & ind2: 9\", \"occ2: 21 & ind2: 9\", \"occ2: 22 & ind2: 9\", \"occ2: 3 & ind2: 9\", \"occ2: 4 & ind2: 9\", \"occ2: 5 & ind2: 9\", \"occ2: 6 & ind2: 9\", \"occ2: 7 & ind2: 9\", \"occ2: 8 & ind2: 9\", \"occ2: 9 & ind2: 9\"]\n"
     ]
    }
   ],
   "source": [
    "#  Identify Treatment and Control Variables \n",
    "\n",
    "# Define regular expressions to match treatment variables and their interactions\n",
    "treatment_patterns = [\n",
    "    r\"^clg: 1\\.0$\",                      # clg\n",
    "    r\"^clg: 1\\.0 & sex: 1\\.0$\",          # clg:sex\n",
    "    r\"^clg: 1\\.0 & (mw|so|we|ne): 1\\.0$\",# clg:mw, clg:so, clg:we, clg:ne\n",
    "    r\"^clg: 1\\.0 & sex: 1\\.0 & (mw|so|we|ne): 1\\.0$\" # clg:sex:mw, clg:sex:so, etc.\n",
    "]\n",
    "\n",
    "\n",
    "# Identify indices of treatment variables based on the patterns\n",
    "treatment_indices = [\n",
    "    i for (i, name) in enumerate(X_names)\n",
    "    if any(occursin(pat, name) for pat in treatment_patterns)\n",
    "]\n",
    "\n",
    "# Identify control indices as all other variables\n",
    "control_indices = setdiff(1:length(X_names), treatment_indices)\n",
    "\n",
    "# Verify identified treatment variables\n",
    "println(\"\\nTreatment Variables Identified:\")\n",
    "println(X_names[treatment_indices])\n",
    "println(X_names[control_indices])"
   ]
  },
  {
   "cell_type": "code",
   "execution_count": 82,
   "metadata": {},
   "outputs": [
    {
     "name": "stdout",
     "output_type": "stream",
     "text": [
      "\n",
      "Dimensions of D (Treatment): (5150, 10)\n",
      "Dimensions of Z (Control): (5150, 1013)\n",
      "Length of y (Target): 5150\n"
     ]
    }
   ],
   "source": [
    "\n",
    "# Separate treatment and control matrices\n",
    "D = X[:, treatment_indices]      # Treatment variables\n",
    "Z = X[:, control_indices]        # Control variables\n",
    "\n",
    "# Check if D and Z have the expected dimensions\n",
    "println(\"\\nDimensions of D (Treatment): \", size(D))\n",
    "println(\"Dimensions of Z (Control): \", size(Z))\n",
    "println(\"Length of y (Target): \", length(y))\n",
    "\n",
    "\n"
   ]
  },
  {
   "cell_type": "code",
   "execution_count": 86,
   "metadata": {},
   "outputs": [
    {
     "name": "stdout",
     "output_type": "stream",
     "text": [
      "\n",
      "Performing Double Lasso for Treatment Variable: clg: 1.0\n",
      "Keys in the result: [\"alpha\", \"t\", \"se\", \"no_select\", \"coefficients_reg\", \"sample_size\", \"coefficient\", \"selection_index\", \"residuals\", \"coefficients\"]\n",
      "\n",
      "Performing Double Lasso for Treatment Variable: clg: 1.0 & sex: 1.0\n",
      "Keys in the result: [\"alpha\", \"t\", \"se\", \"no_select\", \"coefficients_reg\", \"sample_size\", \"coefficient\", \"selection_index\", \"residuals\", \"coefficients\"]\n",
      "\n",
      "Performing Double Lasso for Treatment Variable: clg: 1.0 & mw: 1.0\n",
      "Keys in the result: [\"alpha\", \"t\", \"se\", \"no_select\", \"coefficients_reg\", \"sample_size\", \"coefficient\", \"selection_index\", \"residuals\", \"coefficients\"]\n",
      "\n",
      "Performing Double Lasso for Treatment Variable: clg: 1.0 & so: 1.0\n",
      "Keys in the result: [\"alpha\", \"t\", \"se\", \"no_select\", \"coefficients_reg\", \"sample_size\", \"coefficient\", \"selection_index\", \"residuals\", \"coefficients\"]\n",
      "\n",
      "Performing Double Lasso for Treatment Variable: clg: 1.0 & we: 1.0\n",
      "Keys in the result: [\"alpha\", \"t\", \"se\", \"no_select\", \"coefficients_reg\", \"sample_size\", \"coefficient\", \"selection_index\", \"residuals\", \"coefficients\"]\n",
      "\n",
      "Performing Double Lasso for Treatment Variable: clg: 1.0 & ne: 1.0\n",
      "Keys in the result: [\"alpha\", \"t\", \"se\", \"no_select\", \"coefficients_reg\", \"sample_size\", \"coefficient\", \"selection_index\", \"residuals\", \"coefficients\"]\n",
      "\n",
      "Performing Double Lasso for Treatment Variable: clg: 1.0 & sex: 1.0 & mw: 1.0\n",
      "Keys in the result: [\"alpha\", \"t\", \"se\", \"no_select\", \"coefficients_reg\", \"sample_size\", \"coefficient\", \"selection_index\", \"residuals\", \"coefficients\"]\n",
      "\n",
      "Performing Double Lasso for Treatment Variable: clg: 1.0 & sex: 1.0 & so: 1.0\n",
      "Keys in the result: [\"alpha\", \"t\", \"se\", \"no_select\", \"coefficients_reg\", \"sample_size\", \"coefficient\", \"selection_index\", \"residuals\", \"coefficients\"]\n",
      "\n",
      "Performing Double Lasso for Treatment Variable: clg: 1.0 & sex: 1.0 & we: 1.0\n",
      "Keys in the result: [\"alpha\", \"t\", \"se\", \"no_select\", \"coefficients_reg\", \"sample_size\", \"coefficient\", \"selection_index\", \"residuals\", \"coefficients\"]\n",
      "\n",
      "Performing Double Lasso for Treatment Variable: clg: 1.0 & sex: 1.0 & ne: 1.0\n",
      "Keys in the result: [\"alpha\", \"t\", \"se\", \"no_select\", \"coefficients_reg\", \"sample_size\", \"coefficient\", \"selection_index\", \"residuals\", \"coefficients\"]\n"
     ]
    }
   ],
   "source": [
    "# Perform Double Lasso Estimation for Each Treatment Variable\n",
    "# Initialize a DataFrame to store all results with StdError and TStatistic\n",
    "results_df = DataFrame(\n",
    "    Variable = String[],\n",
    "    Coefficient = Float64[],\n",
    "    StdError = Float64[],\n",
    "    TStatistic = Float64[],\n",
    "    PValue = Float64[]\n",
    ")\n",
    "\n",
    "# Iterate over each treatment variable and perform double lasso\n",
    "for i in 1:size(D, 2)\n",
    "    treatment_var = X_names[treatment_indices[i]]\n",
    "    d_i = D[:, i]  # Extract the i-th treatment variable as a Vector\n",
    "    \n",
    "    println(\"\\nPerforming Double Lasso for Treatment Variable: $treatment_var\")\n",
    "    \n",
    "    # Perform double lasso estimation using HDMjl\n",
    "    result_i = try\n",
    "        rlassoEffect(Z, y, d_i; method = \"double selection\")\n",
    "    catch e\n",
    "        println(\"Error during rlassoEffect for $treatment_var: \", e)\n",
    "        continue\n",
    "    end\n",
    "    \n",
    "    # Print the keys to verify\n",
    "    println(\"Keys in the result: \", keys(result_i))\n",
    "    \n",
    "    # Check if necessary keys are present\n",
    "    if !(\"coefficients\" in keys(result_i)) || !(\"se\" in keys(result_i)) || !(\"t\" in keys(result_i))\n",
    "        println(\"Missing necessary keys in the result for $treatment_var. Skipping...\")\n",
    "        continue\n",
    "    end\n",
    "    \n",
    "    # Extract coefficients, standard errors, and t-statistics\n",
    "    coefficients = result_i[\"coefficients\"]\n",
    "    se = result_i[\"se\"]\n",
    "    t_stats = result_i[\"t\"]\n",
    "    \n",
    "    # Compute p-values using the t-statistics\n",
    "    # Assuming large sample size, use normal approximation\n",
    "    p_values = 2 .* (1 .- cdf.(Normal(), abs.(t_stats)))\n",
    "    \n",
    "    # Append the results to the DataFrame\n",
    "    push!(results_df, (\n",
    "        Variable = treatment_var,\n",
    "        Coefficient = coefficients,\n",
    "        StdError = se,\n",
    "        TStatistic = t_stats,\n",
    "        PValue = p_values\n",
    "    ))\n",
    "end\n"
   ]
  },
  {
   "cell_type": "code",
   "execution_count": 87,
   "metadata": {},
   "outputs": [
    {
     "name": "stdout",
     "output_type": "stream",
     "text": [
      "\n",
      "Summary of Estimated Parameters:\n",
      "\u001b[1m10×5 DataFrame\u001b[0m\n",
      "\u001b[1m Row \u001b[0m│\u001b[1m Variable                      \u001b[0m\u001b[1m Coefficient \u001b[0m\u001b[1m StdError  \u001b[0m\u001b[1m TStatistic \u001b[0m\u001b[1m PValue     \u001b[0m\n",
      "     │\u001b[90m String                        \u001b[0m\u001b[90m Float64     \u001b[0m\u001b[90m Float64   \u001b[0m\u001b[90m Float64    \u001b[0m\u001b[90m Float64    \u001b[0m\n",
      "─────┼───────────────────────────────────────────────────────────────────────────────\n",
      "   1 │ clg: 1.0                         0.487727   0.126952     3.84183   0.00012212\n",
      "   2 │ clg: 1.0 & sex: 1.0              0.0879006  0.0307975    2.85415   0.00431527\n",
      "   3 │ clg: 1.0 & mw: 1.0               0.437141   0.149459     2.92482   0.0034466\n",
      "   4 │ clg: 1.0 & so: 1.0               0.488043   0.0851248    5.73326   9.8516e-9\n",
      "   5 │ clg: 1.0 & we: 1.0               0.124414   0.156329     0.795848  0.42612\n",
      "   6 │ clg: 1.0 & ne: 1.0               0.381343   0.119282     3.19699   0.00138868\n",
      "   7 │ clg: 1.0 & sex: 1.0 & mw: 1.0    0.0428651  0.0615814    0.696073  0.486383\n",
      "   8 │ clg: 1.0 & sex: 1.0 & so: 1.0    0.107013   0.052944     2.02126   0.043253\n",
      "   9 │ clg: 1.0 & sex: 1.0 & we: 1.0    0.160539   0.0628754    2.55328   0.0106712\n",
      "  10 │ clg: 1.0 & sex: 1.0 & ne: 1.0   -0.0429378  0.0600036   -0.715587  0.474246\n",
      "\n",
      "Significant Parameters (p-value < 0.05):\n",
      "\u001b[1m7×5 DataFrame\u001b[0m\n",
      "\u001b[1m Row \u001b[0m│\u001b[1m Variable                      \u001b[0m\u001b[1m Coefficient \u001b[0m\u001b[1m StdError  \u001b[0m\u001b[1m TStatistic \u001b[0m\u001b[1m PValue     \u001b[0m\n",
      "     │\u001b[90m String                        \u001b[0m\u001b[90m Float64     \u001b[0m\u001b[90m Float64   \u001b[0m\u001b[90m Float64    \u001b[0m\u001b[90m Float64    \u001b[0m\n",
      "─────┼───────────────────────────────────────────────────────────────────────────────\n",
      "   1 │ clg: 1.0                         0.487727   0.126952      3.84183  0.00012212\n",
      "   2 │ clg: 1.0 & sex: 1.0              0.0879006  0.0307975     2.85415  0.00431527\n",
      "   3 │ clg: 1.0 & mw: 1.0               0.437141   0.149459      2.92482  0.0034466\n",
      "   4 │ clg: 1.0 & so: 1.0               0.488043   0.0851248     5.73326  9.8516e-9\n",
      "   5 │ clg: 1.0 & ne: 1.0               0.381343   0.119282      3.19699  0.00138868\n",
      "   6 │ clg: 1.0 & sex: 1.0 & so: 1.0    0.107013   0.052944      2.02126  0.043253\n",
      "   7 │ clg: 1.0 & sex: 1.0 & we: 1.0    0.160539   0.0628754     2.55328  0.0106712\n",
      "\n",
      "Interpretation:\n",
      "Variable: clg: 1.0\n",
      "  Coefficient: 0.48772688644420903\n",
      "  StdError: 0.12695171063235564\n",
      "  T-Statistic: 3.841829968377789\n",
      "  P-Value: 0.00012212042435200132\n",
      "Variable: clg: 1.0 & sex: 1.0\n",
      "  Coefficient: 0.08790056143387204\n",
      "  StdError: 0.03079749787280199\n",
      "  T-Statistic: 2.8541461971006137\n",
      "  P-Value: 0.00431526678437355\n",
      "Variable: clg: 1.0 & mw: 1.0\n",
      "  Coefficient: 0.4371412689721567\n",
      "  StdError: 0.14945939357133356\n",
      "  T-Statistic: 2.924816289740391\n",
      "  P-Value: 0.0034465962731740074\n",
      "Variable: clg: 1.0 & so: 1.0\n",
      "  Coefficient: 0.48804284510140905\n",
      "  StdError: 0.08512477883885997\n",
      "  T-Statistic: 5.733264177111901\n",
      "  P-Value: 9.85160064637114e-9\n",
      "Variable: clg: 1.0 & ne: 1.0\n",
      "  Coefficient: 0.381342521476728\n",
      "  StdError: 0.11928159878080934\n",
      "  T-Statistic: 3.1969937138206803\n",
      "  P-Value: 0.001388679528326886\n",
      "Variable: clg: 1.0 & sex: 1.0 & so: 1.0\n",
      "  Coefficient: 0.10701345512647123\n",
      "  StdError: 0.05294396096542526\n",
      "  T-Statistic: 2.021258953336637\n",
      "  P-Value: 0.0432529658310159\n",
      "Variable: clg: 1.0 & sex: 1.0 & we: 1.0\n",
      "  Coefficient: 0.16053879863190457\n",
      "  StdError: 0.06287540389173582\n",
      "  T-Statistic: 2.5532845706778096\n",
      "  P-Value: 0.010671226978382409\n"
     ]
    }
   ],
   "source": [
    "#Summarize and Interpret Results\n",
    "\n",
    "# Display the summary of estimated parameters\n",
    "println(\"\\nSummary of Estimated Parameters:\")\n",
    "println(results_df)\n",
    "\n",
    "# Identify significant variables (e.g., p-value < 0.05)\n",
    "significant_results = filter(row -> row.PValue < 0.05, results_df)\n",
    "\n",
    "println(\"\\nSignificant Parameters (p-value < 0.05):\")\n",
    "println(significant_results)\n",
    "\n",
    "# Determine which treatment variables have significant impacts\n",
    "if nrow(significant_results) > 0\n",
    "    println(\"\\nInterpretation:\")\n",
    "    for row in eachrow(significant_results)\n",
    "        println(\"Variable: \", row.Variable)\n",
    "        println(\"  Coefficient: \", row.Coefficient)\n",
    "        println(\"  StdError: \", row.StdError)\n",
    "        println(\"  T-Statistic: \", row.TStatistic)\n",
    "        println(\"  P-Value: \", row.PValue)\n",
    "    end\n",
    "else\n",
    "    println(\"No significant parameters found at the 5% significance level.\")\n",
    "end"
   ]
  },
  {
   "cell_type": "markdown",
   "metadata": {},
   "source": [
    "### Discussion\n",
    "First, the coefficient of having a college degree by itself is asociated with an increase in wages by approximately 49%. Next, when interacting this term with sex, the coefficient is 0.088 and significant, hihglighting that a wage gender premium exists even when accounting for college graduates. The same applies when the college graduate variable is interacted with both sex and south and sex and west, showing that this wage premium is even stronger in these regions, which makes sense, as these are more conservative regions. There are also some interesting wage premiums by just geographical location, in the case of the mid-west, south and north east, due to them being regions with considerably stronger and larger industries. "
   ]
  },
  {
   "cell_type": "markdown",
   "metadata": {},
   "source": [
    "## Part 2"
   ]
  },
  {
   "cell_type": "code",
   "execution_count": 59,
   "metadata": {},
   "outputs": [
    {
     "data": {
      "text/html": [
       "<div><div style = \"float: left;\"><span>5×20 DataFrame</span></div><div style = \"clear: both;\"></div></div><div class = \"data-frame\" style = \"overflow-x: scroll;\"><table class = \"data-frame\" style = \"margin-bottom: 6px;\"><thead><tr class = \"header\"><th class = \"rowNumber\" style = \"font-weight: bold; text-align: right;\">Row</th><th style = \"text-align: left;\">AtBat</th><th style = \"text-align: left;\">Hits</th><th style = \"text-align: left;\">HmRun</th><th style = \"text-align: left;\">Runs</th><th style = \"text-align: left;\">RBI</th><th style = \"text-align: left;\">Walks</th><th style = \"text-align: left;\">Years</th><th style = \"text-align: left;\">CAtBat</th><th style = \"text-align: left;\">CHits</th><th style = \"text-align: left;\">CHmRun</th><th style = \"text-align: left;\">CRuns</th><th style = \"text-align: left;\">CRBI</th><th style = \"text-align: left;\">CWalks</th><th style = \"text-align: left;\">League</th><th style = \"text-align: left;\">Division</th><th style = \"text-align: left;\">PutOuts</th><th style = \"text-align: left;\">Assists</th><th style = \"text-align: left;\">Errors</th><th style = \"text-align: left;\">Salary</th><th style = \"text-align: left;\">NewLeague</th></tr><tr class = \"subheader headerLastRow\"><th class = \"rowNumber\" style = \"font-weight: bold; text-align: right;\"></th><th title = \"Int32\" style = \"text-align: left;\">Int32</th><th title = \"Int32\" style = \"text-align: left;\">Int32</th><th title = \"Int32\" style = \"text-align: left;\">Int32</th><th title = \"Int32\" style = \"text-align: left;\">Int32</th><th title = \"Int32\" style = \"text-align: left;\">Int32</th><th title = \"Int32\" style = \"text-align: left;\">Int32</th><th title = \"Int32\" style = \"text-align: left;\">Int32</th><th title = \"Int32\" style = \"text-align: left;\">Int32</th><th title = \"Int32\" style = \"text-align: left;\">Int32</th><th title = \"Int32\" style = \"text-align: left;\">Int32</th><th title = \"Int32\" style = \"text-align: left;\">Int32</th><th title = \"Int32\" style = \"text-align: left;\">Int32</th><th title = \"Int32\" style = \"text-align: left;\">Int32</th><th title = \"CategoricalValue{String, UInt8}\" style = \"text-align: left;\">Cat…</th><th title = \"CategoricalValue{String, UInt8}\" style = \"text-align: left;\">Cat…</th><th title = \"Int32\" style = \"text-align: left;\">Int32</th><th title = \"Int32\" style = \"text-align: left;\">Int32</th><th title = \"Int32\" style = \"text-align: left;\">Int32</th><th title = \"Union{Missing, Float64}\" style = \"text-align: left;\">Float64?</th><th title = \"CategoricalValue{String, UInt8}\" style = \"text-align: left;\">Cat…</th></tr></thead><tbody><tr><td class = \"rowNumber\" style = \"font-weight: bold; text-align: right;\">1</td><td style = \"text-align: right;\">293</td><td style = \"text-align: right;\">66</td><td style = \"text-align: right;\">1</td><td style = \"text-align: right;\">30</td><td style = \"text-align: right;\">29</td><td style = \"text-align: right;\">14</td><td style = \"text-align: right;\">1</td><td style = \"text-align: right;\">293</td><td style = \"text-align: right;\">66</td><td style = \"text-align: right;\">1</td><td style = \"text-align: right;\">30</td><td style = \"text-align: right;\">29</td><td style = \"text-align: right;\">14</td><td style = \"text-align: left;\">A</td><td style = \"text-align: left;\">E</td><td style = \"text-align: right;\">446</td><td style = \"text-align: right;\">33</td><td style = \"text-align: right;\">20</td><td style = \"font-style: italic; text-align: right;\">missing</td><td style = \"text-align: left;\">A</td></tr><tr><td class = \"rowNumber\" style = \"font-weight: bold; text-align: right;\">2</td><td style = \"text-align: right;\">315</td><td style = \"text-align: right;\">81</td><td style = \"text-align: right;\">7</td><td style = \"text-align: right;\">24</td><td style = \"text-align: right;\">38</td><td style = \"text-align: right;\">39</td><td style = \"text-align: right;\">14</td><td style = \"text-align: right;\">3449</td><td style = \"text-align: right;\">835</td><td style = \"text-align: right;\">69</td><td style = \"text-align: right;\">321</td><td style = \"text-align: right;\">414</td><td style = \"text-align: right;\">375</td><td style = \"text-align: left;\">N</td><td style = \"text-align: left;\">W</td><td style = \"text-align: right;\">632</td><td style = \"text-align: right;\">43</td><td style = \"text-align: right;\">10</td><td style = \"text-align: right;\">475.0</td><td style = \"text-align: left;\">N</td></tr><tr><td class = \"rowNumber\" style = \"font-weight: bold; text-align: right;\">3</td><td style = \"text-align: right;\">479</td><td style = \"text-align: right;\">130</td><td style = \"text-align: right;\">18</td><td style = \"text-align: right;\">66</td><td style = \"text-align: right;\">72</td><td style = \"text-align: right;\">76</td><td style = \"text-align: right;\">3</td><td style = \"text-align: right;\">1624</td><td style = \"text-align: right;\">457</td><td style = \"text-align: right;\">63</td><td style = \"text-align: right;\">224</td><td style = \"text-align: right;\">266</td><td style = \"text-align: right;\">263</td><td style = \"text-align: left;\">A</td><td style = \"text-align: left;\">W</td><td style = \"text-align: right;\">880</td><td style = \"text-align: right;\">82</td><td style = \"text-align: right;\">14</td><td style = \"text-align: right;\">480.0</td><td style = \"text-align: left;\">A</td></tr><tr><td class = \"rowNumber\" style = \"font-weight: bold; text-align: right;\">4</td><td style = \"text-align: right;\">496</td><td style = \"text-align: right;\">141</td><td style = \"text-align: right;\">20</td><td style = \"text-align: right;\">65</td><td style = \"text-align: right;\">78</td><td style = \"text-align: right;\">37</td><td style = \"text-align: right;\">11</td><td style = \"text-align: right;\">5628</td><td style = \"text-align: right;\">1575</td><td style = \"text-align: right;\">225</td><td style = \"text-align: right;\">828</td><td style = \"text-align: right;\">838</td><td style = \"text-align: right;\">354</td><td style = \"text-align: left;\">N</td><td style = \"text-align: left;\">E</td><td style = \"text-align: right;\">200</td><td style = \"text-align: right;\">11</td><td style = \"text-align: right;\">3</td><td style = \"text-align: right;\">500.0</td><td style = \"text-align: left;\">N</td></tr><tr><td class = \"rowNumber\" style = \"font-weight: bold; text-align: right;\">5</td><td style = \"text-align: right;\">321</td><td style = \"text-align: right;\">87</td><td style = \"text-align: right;\">10</td><td style = \"text-align: right;\">39</td><td style = \"text-align: right;\">42</td><td style = \"text-align: right;\">30</td><td style = \"text-align: right;\">2</td><td style = \"text-align: right;\">396</td><td style = \"text-align: right;\">101</td><td style = \"text-align: right;\">12</td><td style = \"text-align: right;\">48</td><td style = \"text-align: right;\">46</td><td style = \"text-align: right;\">33</td><td style = \"text-align: left;\">N</td><td style = \"text-align: left;\">E</td><td style = \"text-align: right;\">805</td><td style = \"text-align: right;\">40</td><td style = \"text-align: right;\">4</td><td style = \"text-align: right;\">91.5</td><td style = \"text-align: left;\">N</td></tr></tbody></table></div>"
      ],
      "text/latex": [
       "\\begin{tabular}{r|ccccccccccccc}\n",
       "\t& AtBat & Hits & HmRun & Runs & RBI & Walks & Years & CAtBat & CHits & CHmRun & CRuns & CRBI & \\\\\n",
       "\t\\hline\n",
       "\t& Int32 & Int32 & Int32 & Int32 & Int32 & Int32 & Int32 & Int32 & Int32 & Int32 & Int32 & Int32 & \\\\\n",
       "\t\\hline\n",
       "\t1 & 293 & 66 & 1 & 30 & 29 & 14 & 1 & 293 & 66 & 1 & 30 & 29 & $\\dots$ \\\\\n",
       "\t2 & 315 & 81 & 7 & 24 & 38 & 39 & 14 & 3449 & 835 & 69 & 321 & 414 & $\\dots$ \\\\\n",
       "\t3 & 479 & 130 & 18 & 66 & 72 & 76 & 3 & 1624 & 457 & 63 & 224 & 266 & $\\dots$ \\\\\n",
       "\t4 & 496 & 141 & 20 & 65 & 78 & 37 & 11 & 5628 & 1575 & 225 & 828 & 838 & $\\dots$ \\\\\n",
       "\t5 & 321 & 87 & 10 & 39 & 42 & 30 & 2 & 396 & 101 & 12 & 48 & 46 & $\\dots$ \\\\\n",
       "\\end{tabular}\n"
      ],
      "text/plain": [
       "\u001b[1m5×20 DataFrame\u001b[0m\n",
       "\u001b[1m Row \u001b[0m│\u001b[1m AtBat \u001b[0m\u001b[1m Hits  \u001b[0m\u001b[1m HmRun \u001b[0m\u001b[1m Runs  \u001b[0m\u001b[1m RBI   \u001b[0m\u001b[1m Walks \u001b[0m\u001b[1m Years \u001b[0m\u001b[1m CAtBat \u001b[0m\u001b[1m CHits \u001b[0m\u001b[1m CHmRun \u001b[0m\u001b[1m\u001b[0m ⋯\n",
       "     │\u001b[90m Int32 \u001b[0m\u001b[90m Int32 \u001b[0m\u001b[90m Int32 \u001b[0m\u001b[90m Int32 \u001b[0m\u001b[90m Int32 \u001b[0m\u001b[90m Int32 \u001b[0m\u001b[90m Int32 \u001b[0m\u001b[90m Int32  \u001b[0m\u001b[90m Int32 \u001b[0m\u001b[90m Int32  \u001b[0m\u001b[90m\u001b[0m ⋯\n",
       "─────┼──────────────────────────────────────────────────────────────────────────\n",
       "   1 │   293     66      1     30     29     14      1     293     66       1  ⋯\n",
       "   2 │   315     81      7     24     38     39     14    3449    835      69\n",
       "   3 │   479    130     18     66     72     76      3    1624    457      63\n",
       "   4 │   496    141     20     65     78     37     11    5628   1575     225\n",
       "   5 │   321     87     10     39     42     30      2     396    101      12  ⋯\n",
       "\u001b[36m                                                              10 columns omitted\u001b[0m"
      ]
     },
     "metadata": {},
     "output_type": "display_data"
    }
   ],
   "source": [
    "using RDatasets, DataFrames, MLJ, MLJDecisionTreeInterface, DecisionTree, StatsPlots, MLJModels\n",
    "\n",
    "hitters = dataset(\"ISLR\", \"Hitters\")\n",
    "hitters[1:5, :]"
   ]
  },
  {
   "cell_type": "code",
   "execution_count": 60,
   "metadata": {},
   "outputs": [
    {
     "data": {
      "text/html": [
       "<div><div style = \"float: left;\"><span>20×2 DataFrame</span></div><div style = \"clear: both;\"></div></div><div class = \"data-frame\" style = \"overflow-x: scroll;\"><table class = \"data-frame\" style = \"margin-bottom: 6px;\"><thead><tr class = \"header\"><th class = \"rowNumber\" style = \"font-weight: bold; text-align: right;\">Row</th><th style = \"text-align: left;\">variable</th><th style = \"text-align: left;\">nmissing</th></tr><tr class = \"subheader headerLastRow\"><th class = \"rowNumber\" style = \"font-weight: bold; text-align: right;\"></th><th title = \"Symbol\" style = \"text-align: left;\">Symbol</th><th title = \"Int64\" style = \"text-align: left;\">Int64</th></tr></thead><tbody><tr><td class = \"rowNumber\" style = \"font-weight: bold; text-align: right;\">1</td><td style = \"text-align: left;\">AtBat</td><td style = \"text-align: right;\">0</td></tr><tr><td class = \"rowNumber\" style = \"font-weight: bold; text-align: right;\">2</td><td style = \"text-align: left;\">Hits</td><td style = \"text-align: right;\">0</td></tr><tr><td class = \"rowNumber\" style = \"font-weight: bold; text-align: right;\">3</td><td style = \"text-align: left;\">HmRun</td><td style = \"text-align: right;\">0</td></tr><tr><td class = \"rowNumber\" style = \"font-weight: bold; text-align: right;\">4</td><td style = \"text-align: left;\">Runs</td><td style = \"text-align: right;\">0</td></tr><tr><td class = \"rowNumber\" style = \"font-weight: bold; text-align: right;\">5</td><td style = \"text-align: left;\">RBI</td><td style = \"text-align: right;\">0</td></tr><tr><td class = \"rowNumber\" style = \"font-weight: bold; text-align: right;\">6</td><td style = \"text-align: left;\">Walks</td><td style = \"text-align: right;\">0</td></tr><tr><td class = \"rowNumber\" style = \"font-weight: bold; text-align: right;\">7</td><td style = \"text-align: left;\">Years</td><td style = \"text-align: right;\">0</td></tr><tr><td class = \"rowNumber\" style = \"font-weight: bold; text-align: right;\">8</td><td style = \"text-align: left;\">CAtBat</td><td style = \"text-align: right;\">0</td></tr><tr><td class = \"rowNumber\" style = \"font-weight: bold; text-align: right;\">9</td><td style = \"text-align: left;\">CHits</td><td style = \"text-align: right;\">0</td></tr><tr><td class = \"rowNumber\" style = \"font-weight: bold; text-align: right;\">10</td><td style = \"text-align: left;\">CHmRun</td><td style = \"text-align: right;\">0</td></tr><tr><td class = \"rowNumber\" style = \"font-weight: bold; text-align: right;\">11</td><td style = \"text-align: left;\">CRuns</td><td style = \"text-align: right;\">0</td></tr><tr><td class = \"rowNumber\" style = \"font-weight: bold; text-align: right;\">12</td><td style = \"text-align: left;\">CRBI</td><td style = \"text-align: right;\">0</td></tr><tr><td class = \"rowNumber\" style = \"font-weight: bold; text-align: right;\">13</td><td style = \"text-align: left;\">CWalks</td><td style = \"text-align: right;\">0</td></tr><tr><td class = \"rowNumber\" style = \"font-weight: bold; text-align: right;\">14</td><td style = \"text-align: left;\">League</td><td style = \"text-align: right;\">0</td></tr><tr><td class = \"rowNumber\" style = \"font-weight: bold; text-align: right;\">15</td><td style = \"text-align: left;\">Division</td><td style = \"text-align: right;\">0</td></tr><tr><td class = \"rowNumber\" style = \"font-weight: bold; text-align: right;\">16</td><td style = \"text-align: left;\">PutOuts</td><td style = \"text-align: right;\">0</td></tr><tr><td class = \"rowNumber\" style = \"font-weight: bold; text-align: right;\">17</td><td style = \"text-align: left;\">Assists</td><td style = \"text-align: right;\">0</td></tr><tr><td class = \"rowNumber\" style = \"font-weight: bold; text-align: right;\">18</td><td style = \"text-align: left;\">Errors</td><td style = \"text-align: right;\">0</td></tr><tr><td class = \"rowNumber\" style = \"font-weight: bold; text-align: right;\">19</td><td style = \"text-align: left;\">Salary</td><td style = \"text-align: right;\">59</td></tr><tr><td class = \"rowNumber\" style = \"font-weight: bold; text-align: right;\">20</td><td style = \"text-align: left;\">NewLeague</td><td style = \"text-align: right;\">0</td></tr></tbody></table></div>"
      ],
      "text/latex": [
       "\\begin{tabular}{r|cc}\n",
       "\t& variable & nmissing\\\\\n",
       "\t\\hline\n",
       "\t& Symbol & Int64\\\\\n",
       "\t\\hline\n",
       "\t1 & AtBat & 0 \\\\\n",
       "\t2 & Hits & 0 \\\\\n",
       "\t3 & HmRun & 0 \\\\\n",
       "\t4 & Runs & 0 \\\\\n",
       "\t5 & RBI & 0 \\\\\n",
       "\t6 & Walks & 0 \\\\\n",
       "\t7 & Years & 0 \\\\\n",
       "\t8 & CAtBat & 0 \\\\\n",
       "\t9 & CHits & 0 \\\\\n",
       "\t10 & CHmRun & 0 \\\\\n",
       "\t11 & CRuns & 0 \\\\\n",
       "\t12 & CRBI & 0 \\\\\n",
       "\t13 & CWalks & 0 \\\\\n",
       "\t14 & League & 0 \\\\\n",
       "\t15 & Division & 0 \\\\\n",
       "\t16 & PutOuts & 0 \\\\\n",
       "\t17 & Assists & 0 \\\\\n",
       "\t18 & Errors & 0 \\\\\n",
       "\t19 & Salary & 59 \\\\\n",
       "\t20 & NewLeague & 0 \\\\\n",
       "\\end{tabular}\n"
      ],
      "text/plain": [
       "\u001b[1m20×2 DataFrame\u001b[0m\n",
       "\u001b[1m Row \u001b[0m│\u001b[1m variable  \u001b[0m\u001b[1m nmissing \u001b[0m\n",
       "     │\u001b[90m Symbol    \u001b[0m\u001b[90m Int64    \u001b[0m\n",
       "─────┼─────────────────────\n",
       "   1 │ AtBat             0\n",
       "   2 │ Hits              0\n",
       "   3 │ HmRun             0\n",
       "   4 │ Runs              0\n",
       "   5 │ RBI               0\n",
       "   6 │ Walks             0\n",
       "   7 │ Years             0\n",
       "   8 │ CAtBat            0\n",
       "  ⋮  │     ⋮         ⋮\n",
       "  14 │ League            0\n",
       "  15 │ Division          0\n",
       "  16 │ PutOuts           0\n",
       "  17 │ Assists           0\n",
       "  18 │ Errors            0\n",
       "  19 │ Salary           59\n",
       "  20 │ NewLeague         0\n",
       "\u001b[36m             5 rows omitted\u001b[0m"
      ]
     },
     "metadata": {},
     "output_type": "display_data"
    }
   ],
   "source": [
    "describe(hitters, :nmissing)\n",
    "\n",
    "#59 salaries missing"
   ]
  },
  {
   "cell_type": "code",
   "execution_count": 61,
   "metadata": {},
   "outputs": [],
   "source": [
    "hitters = dropmissing(hitters, :Salary);"
   ]
  },
  {
   "cell_type": "code",
   "execution_count": 62,
   "metadata": {},
   "outputs": [
    {
     "name": "stderr",
     "output_type": "stream",
     "text": [
      "┌ Info: Training machine(OneHotEncoder(features = [:League, :Division, :NewLeague], …), …).\n",
      "└ @ MLJBase /Users/lucassalamanca/.julia/packages/MLJBase/7nGJF/src/machines.jl:499\n",
      "┌ Info: Spawning 2 sub-features to one-hot encode feature :League.\n",
      "└ @ MLJModels /Users/lucassalamanca/.julia/packages/MLJModels/8W54X/src/builtins/Transformers.jl:795\n",
      "┌ Info: Spawning 2 sub-features to one-hot encode feature :Division.\n",
      "└ @ MLJModels /Users/lucassalamanca/.julia/packages/MLJModels/8W54X/src/builtins/Transformers.jl:795\n",
      "┌ Info: Spawning 2 sub-features to one-hot encode feature :NewLeague.\n",
      "└ @ MLJModels /Users/lucassalamanca/.julia/packages/MLJModels/8W54X/src/builtins/Transformers.jl:795\n"
     ]
    }
   ],
   "source": [
    "\n",
    "# Separate the target variable `Salary` and the features\n",
    "y, X = unpack(hitters, ==(:Salary), !=(:Salary))\n",
    "\n",
    "# Transform categorical variables to dummies using one-hot encoding\n",
    "onehotencoder = @load OneHotEncoder pkg=MLJModels verbosity=0\n",
    "ohe = onehotencoder(features=[:League, :Division, :NewLeague])\n",
    "ohe_machine = machine(ohe, X)\n",
    "MLJ.fit!(ohe_machine);\n",
    "X = MLJ.transform(ohe_machine, X);\n"
   ]
  },
  {
   "cell_type": "code",
   "execution_count": 63,
   "metadata": {},
   "outputs": [
    {
     "data": {
      "text/plain": [
       "┌──────────────┬────────────┬─────────┐\n",
       "│\u001b[22m names        \u001b[0m│\u001b[22m scitypes   \u001b[0m│\u001b[22m types   \u001b[0m│\n",
       "├──────────────┼────────────┼─────────┤\n",
       "│ AtBat        │ Count      │ Int32   │\n",
       "│ Hits         │ Count      │ Int32   │\n",
       "│ HmRun        │ Count      │ Int32   │\n",
       "│ Runs         │ Count      │ Int32   │\n",
       "│ RBI          │ Count      │ Int32   │\n",
       "│ Walks        │ Count      │ Int32   │\n",
       "│ Years        │ Count      │ Int32   │\n",
       "│ CAtBat       │ Count      │ Int32   │\n",
       "│ CHits        │ Count      │ Int32   │\n",
       "│ CHmRun       │ Count      │ Int32   │\n",
       "│ CRuns        │ Count      │ Int32   │\n",
       "│ CRBI         │ Count      │ Int32   │\n",
       "│ CWalks       │ Count      │ Int32   │\n",
       "│ League__A    │ Continuous │ Float64 │\n",
       "│ League__N    │ Continuous │ Float64 │\n",
       "│ Division__E  │ Continuous │ Float64 │\n",
       "│      ⋮       │     ⋮      │    ⋮    │\n",
       "└──────────────┴────────────┴─────────┘\n",
       "\u001b[36m                         6 rows omitted\u001b[0m\n"
      ]
     },
     "metadata": {},
     "output_type": "display_data"
    }
   ],
   "source": [
    "MLJ.schema(X)"
   ]
  },
  {
   "cell_type": "code",
   "execution_count": 64,
   "metadata": {},
   "outputs": [],
   "source": [
    "# Coerce counts to continuous variables\n",
    "MLJ.coerce!(X, Count => MLJ.Continuous)\n",
    "\n",
    "# Combine `X` and `y` into a single DataFrame\n",
    "df = hcat(X, y);\n"
   ]
  },
  {
   "cell_type": "code",
   "execution_count": 94,
   "metadata": {},
   "outputs": [],
   "source": [
    "train_indices, test_indices = partition(eachindex(y), 0.9, rng=1)\n",
    "train_df = df[train_indices, :];\n",
    "test_df = df[test_indices, :];\n",
    "\n",
    "rename!(train_df, :x1 => :Salary);\n",
    "rename!(test_df, :x1 => :Salary);\n",
    "\n",
    "# Transform Salary to LogSalary and then drop Salary\n",
    "train_df.LogSalary = log.(train_df.Salary)\n",
    "test_df.LogSalary = log.(test_df.Salary)\n",
    "\n",
    "select!(train_df, Not(:Salary));\n",
    "select!(test_df, Not(:Salary));"
   ]
  },
  {
   "cell_type": "code",
   "execution_count": 95,
   "metadata": {},
   "outputs": [
    {
     "name": "stdout",
     "output_type": "stream",
     "text": [
      "[\"AtBat\", \"Hits\", \"HmRun\", \"Runs\", \"RBI\", \"Walks\", \"Years\", \"CAtBat\", \"CHits\", \"CHmRun\", \"CRuns\", \"CRBI\", \"CWalks\", \"League__A\", \"League__N\", \"Division__E\", \"Division__W\", \"PutOuts\", \"Assists\", \"Errors\", \"NewLeague__A\", \"NewLeague__N\", \"LogSalary\"]\n"
     ]
    }
   ],
   "source": [
    "println(names(train_df))\n"
   ]
  },
  {
   "cell_type": "code",
   "execution_count": 96,
   "metadata": {},
   "outputs": [
    {
     "data": {
      "text/plain": [
       "StatsModels.TableRegressionModel{LinearModel{GLM.LmResp{Vector{Float64}}, GLM.DensePredChol{Float64, CholeskyPivoted{Float64, Matrix{Float64}, Vector{Int64}}}}, Matrix{Float64}}\n",
       "\n",
       "LogSalary ~ 1 + AtBat + Hits + HmRun + Runs + RBI + Walks + Years + CAtBat + CHits + CHmRun + CRuns + CRBI + CWalks + League__A + League__N + Division__E + Division__W + PutOuts + Assists + Errors + NewLeague__A + NewLeague__N\n",
       "\n",
       "Coefficients:\n",
       "─────────────────────────────────────────────────────────────────────────────────────────\n",
       "                     Coef.     Std. Error       t  Pr(>|t|)      Lower 95%      Upper 95%\n",
       "─────────────────────────────────────────────────────────────────────────────────────────\n",
       "(Intercept)    0.0          NaN            NaN       NaN     NaN            NaN\n",
       "AtBat         -0.00300308     0.00127893    -2.35    0.0198   -0.00552379    -0.000482369\n",
       "Hits           0.013848       0.00475219     2.91    0.0039    0.00448162     0.0232143\n",
       "HmRun          0.0143693      0.0128716      1.12    0.2655   -0.011          0.0397385\n",
       "Runs          -0.00222725     0.0061755     -0.36    0.7187   -0.0143989      0.00994438\n",
       "RBI           -0.00202885     0.00529067    -0.38    0.7017   -0.0124565      0.00839883\n",
       "Walks          0.0112585      0.00375287     3.00    0.0030    0.00386171     0.0186552\n",
       "Years          0.059781       0.024899       2.40    0.0172    0.0107062      0.108856\n",
       "CAtBat         0.000102541    0.000271617    0.38    0.7062   -0.000432804    0.000637886\n",
       "CHits         -0.000589925    0.00136309    -0.43    0.6656   -0.00327652     0.00209667\n",
       "CHmRun        -0.00132008     0.00327108    -0.40    0.6869   -0.00776724     0.00512708\n",
       "CRuns          0.00163084     0.00153508     1.06    0.2892   -0.00139473     0.00465642\n",
       "CRBI           0.0007515      0.0013892      0.54    0.5891   -0.00198656     0.00348956\n",
       "CWalks        -0.00153384     0.000678867   -2.26    0.0249   -0.00287186    -0.000195828\n",
       "League__A      0.0          NaN            NaN       NaN     NaN            NaN\n",
       "League__N      0.27472        0.16369        1.68    0.0947   -0.0479065      0.597346\n",
       "Division__E    4.40546        0.24163       18.23    <1e-44    3.92922        4.8817\n",
       "Division__W    4.25922        0.239816      17.76    <1e-43    3.78655        4.73188\n",
       "PutOuts        0.000332623    0.000155438    2.14    0.0335    2.62606e-5     0.000638985\n",
       "Assists        0.000648577    0.000462265    1.40    0.1620   -0.000262528    0.00155968\n",
       "Errors        -0.0136249      0.00949028    -1.44    0.1525   -0.0323298      0.00508004\n",
       "NewLeague__A   0.141972       0.162731       0.87    0.3839   -0.178763       0.462707\n",
       "NewLeague__N   0.0          NaN            NaN       NaN     NaN            NaN\n",
       "─────────────────────────────────────────────────────────────────────────────────────────"
      ]
     },
     "metadata": {},
     "output_type": "display_data"
    }
   ],
   "source": [
    "# Fit OLS model with all regressors from training set\n",
    "fmla = @formula(LogSalary ~ 1 + AtBat + Hits + HmRun + Runs + RBI + Walks + Years + CAtBat + CHits + CHmRun + CRuns + CRBI + CWalks + League__A + League__N + Division__E + Division__W + PutOuts + Assists + Errors + NewLeague__A + NewLeague__N)\n",
    "ols_model= lm(fmla, train_df)"
   ]
  },
  {
   "cell_type": "code",
   "execution_count": 97,
   "metadata": {},
   "outputs": [
    {
     "data": {
      "text/plain": [
       "23"
      ]
     },
     "metadata": {},
     "output_type": "display_data"
    }
   ],
   "source": [
    "# Calculate the OLS point estimate using the training set\n",
    "b_hat = GLM.coef(ols_model)\n",
    "\n",
    "# Number of features (including the intercept)\n",
    "n_features = length(b_hat)\n"
   ]
  },
  {
   "cell_type": "code",
   "execution_count": 98,
   "metadata": {},
   "outputs": [
    {
     "data": {
      "text/plain": [
       "(10000, 23)"
      ]
     },
     "metadata": {},
     "output_type": "display_data"
    }
   ],
   "source": [
    "# Bootstrapping\n",
    "# loop to generate 10,000 bootstrap estimates\n",
    "n_boots = 10_000\n",
    "b_boots = zeros(n_boots, n_features)\n",
    "n_train = nrow(train_df)\n",
    "Random.seed!(123)  # For reproducibility\n",
    "\n",
    "for i in 1:n_boots\n",
    "    # Sample indices with replacement\n",
    "    indices = rand(1:n_train, n_train)\n",
    "    boot_df = train_df[indices, :]\n",
    "    # Fit OLS model on the bootstrap sample\n",
    "    boot_model = lm(fmla, boot_df)\n",
    "    # Store the bootstrap coefficients\n",
    "    b_boots[i, :] = GLM.coef(boot_model)\n",
    "end\n",
    "\n",
    "n_b_boots = size(b_boots)\n"
   ]
  },
  {
   "cell_type": "code",
   "execution_count": 99,
   "metadata": {},
   "outputs": [
    {
     "data": {
      "text/plain": [
       "23"
      ]
     },
     "metadata": {},
     "output_type": "display_data"
    }
   ],
   "source": [
    "# Initialize arrays to store the lower and upper bounds\n",
    "b_lower = zeros(n_features)\n",
    "b_upper = zeros(n_features)\n",
    "\n",
    "# Calculate the 2.5% and 97.5% percentiles for each coefficient\n",
    "for j in 1:n_features\n",
    "    b_lower[j] = quantile(b_boots[:, j], 0.025)\n",
    "    b_upper[j] = quantile(b_boots[:, j], 0.975)\n",
    "end\n",
    "length(b_lower)"
   ]
  },
  {
   "cell_type": "code",
   "execution_count": 100,
   "metadata": {},
   "outputs": [
    {
     "name": "stdout",
     "output_type": "stream",
     "text": [
      "Coefficient: (Intercept)\n",
      "Point Estimate: 0.0\n",
      "95% Confidence Interval: [-5.04095559033421, 0.0]\n",
      "\n",
      "Coefficient: AtBat\n",
      "Point Estimate: -0.003003080877000832\n",
      "95% Confidence Interval: [-0.003132829699431419, 0.002782304085091096]\n",
      "\n",
      "Coefficient: Hits\n",
      "Point Estimate: 0.013847980469040684\n",
      "95% Confidence Interval: [-0.01021413388260433, 0.012314851720600572]\n",
      "\n",
      "Coefficient: HmRun\n",
      "Point Estimate: 0.014369266563085643\n",
      "95% Confidence Interval: [-0.022223722247232482, 0.024545385736341532]\n",
      "\n",
      "Coefficient: Runs\n",
      "Point Estimate: -0.002227253601035212\n",
      "95% Confidence Interval: [-0.012118733887187583, 0.011141028608431917]\n",
      "\n",
      "Coefficient: RBI\n",
      "Point Estimate: -0.002028846420315926\n",
      "95% Confidence Interval: [-0.010242957585293994, 0.009027796347411316]\n",
      "\n",
      "Coefficient: Walks\n",
      "Point Estimate: 0.011258456969750624\n",
      "95% Confidence Interval: [-0.006510491415869738, 0.007616700617107296]\n",
      "\n",
      "Coefficient: Years\n",
      "Point Estimate: 0.059781031523779025\n",
      "95% Confidence Interval: [-0.046701667029519646, 0.04645525549964947]\n",
      "\n",
      "Coefficient: CAtBat\n",
      "Point Estimate: 0.00010254118657184797\n",
      "95% Confidence Interval: [-0.0005313198796116059, 0.0005713963664066163]\n",
      "\n",
      "Coefficient: CHits\n",
      "Point Estimate: -0.0005899254684643672\n",
      "95% Confidence Interval: [-0.0030326008750428774, 0.0024560394886387693]\n",
      "\n",
      "Coefficient: CHmRun\n",
      "Point Estimate: -0.0013200803815733894\n",
      "95% Confidence Interval: [-0.00812622885397067, 0.006079613628057383]\n",
      "\n",
      "Coefficient: CRuns\n",
      "Point Estimate: 0.0016308420395938423\n",
      "95% Confidence Interval: [-0.0027715915832714696, 0.003211715185587066]\n",
      "\n",
      "Coefficient: CRBI\n",
      "Point Estimate: 0.0007514995532233017\n",
      "95% Confidence Interval: [-0.002490131424686893, 0.0033017551179532105]\n",
      "\n",
      "Coefficient: CWalks\n",
      "Point Estimate: -0.0015338443518260055\n",
      "95% Confidence Interval: [-0.001518006847114699, 0.0012495296704923226]\n",
      "\n",
      "Coefficient: League__A\n",
      "Point Estimate: 0.0\n",
      "95% Confidence Interval: [-4.769548459880917, 0.4750798854042021]\n",
      "\n",
      "Coefficient: League__N\n",
      "Point Estimate: 0.27471991362459414\n",
      "95% Confidence Interval: [-4.77909393722741, 0.27471991362459414]\n",
      "\n",
      "Coefficient: Division__E\n",
      "Point Estimate: 4.4054601743203055\n",
      "95% Confidence Interval: [-0.5353954750199179, 4.4054601743203055]\n",
      "\n",
      "Coefficient: Division__W\n",
      "Point Estimate: 4.259218153915753\n",
      "95% Confidence Interval: [-0.5165430637993405, 4.545422306880761]\n",
      "\n",
      "Coefficient: PutOuts\n",
      "Point Estimate: 0.0003326226842943833\n",
      "95% Confidence Interval: [-0.0003846173552966962, 0.0003592121454779611]\n",
      "\n",
      "Coefficient: Assists\n",
      "Point Estimate: 0.0006485774588877005\n",
      "95% Confidence Interval: [-0.001080520364071057, 0.0010130408546832484]\n",
      "\n",
      "Coefficient: Errors\n",
      "Point Estimate: -0.013624896123758863\n",
      "95% Confidence Interval: [-0.017024386792669464, 0.01770224823020803]\n",
      "\n",
      "Coefficient: NewLeague__A\n",
      "Point Estimate: 0.14197210750688252\n",
      "95% Confidence Interval: [-4.780901027222603, 0.2885971352915972]\n",
      "\n",
      "Coefficient: NewLeague__N\n",
      "Point Estimate: 0.0\n",
      "95% Confidence Interval: [-4.778122273064499, 0.34401297044664525]\n",
      "\n"
     ]
    }
   ],
   "source": [
    "# Calculate confidence intervals\n",
    "b_conf_lower = b_hat .- b_upper\n",
    "b_conf_upper = b_hat .- b_lower\n",
    "\n",
    "# Display the results\n",
    "coef_names = coefnames(ols_model)\n",
    "for i in 1:n_features\n",
    "    println(\"Coefficient: $(coef_names[i])\")\n",
    "    println(\"Point Estimate: $(b_hat[i])\")\n",
    "    println(\"95% Confidence Interval: [$(b_conf_lower[i]), $(b_conf_upper[i])]\")\n",
    "    println()\n",
    "end"
   ]
  },
  {
   "cell_type": "code",
   "execution_count": 103,
   "metadata": {},
   "outputs": [
    {
     "name": "stdout",
     "output_type": "stream",
     "text": [
      "Out-of-sample MSE: 0.39155911700950213\n"
     ]
    }
   ],
   "source": [
    "using Statistics\n",
    "\n",
    "# Predict on the test set\n",
    "y_pred = MLJModels.predict(ols_model, test_df)\n",
    "\n",
    "# Calculate the MSE\n",
    "mse = mean((test_df.LogSalary - y_pred).^2)\n",
    "\n",
    "println(\"Out-of-sample MSE: $mse\")"
   ]
  },
  {
   "cell_type": "code",
   "execution_count": 109,
   "metadata": {},
   "outputs": [
    {
     "name": "stderr",
     "output_type": "stream",
     "text": [
      "┌ Info: Training machine(DecisionTreeRegressor(max_depth = -1, …), …).\n",
      "└ @ MLJBase /Users/lucassalamanca/.julia/packages/MLJBase/7nGJF/src/machines.jl:499\n"
     ]
    },
    {
     "data": {
      "text/plain": [
       "trained Machine; caches model-specific representations of data\n",
       "  model: DecisionTreeRegressor(max_depth = -1, …)\n",
       "  args: \n",
       "    1:\tSource @543 ⏎ Table{AbstractVector{ScientificTypesBase.Continuous}}\n",
       "    2:\tSource @222 ⏎ AbstractVector{ScientificTypesBase.Continuous}\n"
      ]
     },
     "metadata": {},
     "output_type": "display_data"
    }
   ],
   "source": [
    "# Load the DecisionTreeRegressor\n",
    "train, test = partition(eachindex(y), 0.9, rng = 1);\n",
    "DecisionTreeRegressor = @load DecisionTreeRegressor pkg=DecisionTree verbosity=0\n",
    "\n",
    "tree_model = DecisionTreeRegressor()\n",
    "tree_machine = machine(tree_model, X[train, :], y[train])\n",
    "MLJ.fit!(tree_machine)\n"
   ]
  },
  {
   "cell_type": "code",
   "execution_count": 110,
   "metadata": {},
   "outputs": [
    {
     "data": {
      "text/plain": [
       "CHits < 450.0\n",
       "├─ AtBat < 147.0\n",
       "│  ├─ 709.4666 (0/5)\n",
       "│  └─ CRBI < 114.5\n",
       "│     ├─ CRuns < 81.0\n",
       "│     │  ├─ CRuns < 64.0\n",
       "│     │  │  ├─ Hits < 69.5\n",
       "│     │  │  │  ⋮\n",
       "│     │  │  │  \n",
       "│     │  │  └─ Runs < 45.0\n",
       "│     │  │     ⋮\n",
       "│     │  │     \n",
       "│     │  └─ CAtBat < 842.5\n",
       "│     │     ├─ CRuns < 100.5\n",
       "│     │     │  ⋮\n",
       "│     │     │  \n",
       "│     │     └─ PutOuts < 151.5\n",
       "│     │        ⋮\n",
       "│     │        \n",
       "│     └─ CWalks < 120.0\n",
       "│        ├─ Walks < 29.5\n",
       "│        │  ├─ 318.9375 (0/8)\n",
       "│        │  └─ 215.0 (2/7)\n",
       "│        └─ Walks < 45.0\n",
       "│           ├─ 338.5 (0/5)\n",
       "│           └─ 447.22222222222223 (0/9)\n",
       "└─ Walks < 61.0\n",
       "   ├─ AtBat < 365.0\n",
       "   │  ├─ NewLeague__N < 0.5\n",
       "   │  │  ├─ Hits < 76.5\n",
       "   │  │  │  ├─ Errors < 5.5\n",
       "   │  │  │  │  ⋮\n",
       "   │  │  │  │  \n",
       "   │  │  │  └─ 500.4166666666667 (0/6)\n",
       "   │  │  └─ Years < 12.5\n",
       "   │  │     ├─ CWalks < 264.5\n",
       "   │  │     │  ⋮\n",
       "   │  │     │  \n",
       "   │  │     └─ PutOuts < 118.0\n",
       "   │  │        ⋮\n",
       "   │  │        \n",
       "   │  └─ PutOuts < 771.0\n",
       "   │     ├─ CRBI < 279.0\n",
       "   │     │  ├─ CWalks < 177.0\n",
       "   │     │  │  ⋮\n",
       "   │     │  │  \n",
       "   │     │  └─ AtBat < 585.0\n",
       "   │     │     ⋮\n",
       "   │     │     \n",
       "   │     └─ 1156.6666666666667 (0/6)\n",
       "   └─ RBI < 73.5\n",
       "      ├─ PutOuts < 239.5\n",
       "      │  ├─ 1156.0714285714287 (0/7)\n",
       "      │  └─ PutOuts < 308.0\n",
       "      │     ├─ 620.0 (0/6)\n",
       "      │     └─ 842.2916250000001 (0/8)\n",
       "      └─ Years < 13.5\n",
       "         ├─ CAtBat < 3814.0\n",
       "         │  ├─ 1118.5714285714287 (0/7)\n",
       "         │  └─ 2028.0118333333332 (0/6)\n",
       "         └─ 992.4654999999999 (0/6)\n"
      ]
     },
     "metadata": {},
     "output_type": "display_data"
    }
   ],
   "source": [
    "# Fit the tree\n",
    "fitted_params(tree_machine)[1]"
   ]
  },
  {
   "cell_type": "code",
   "execution_count": 112,
   "metadata": {},
   "outputs": [
    {
     "data": {
      "text/plain": [
       "212.79287325701367"
      ]
     },
     "metadata": {},
     "output_type": "display_data"
    }
   ],
   "source": [
    "# Calculate RMSE\n",
    "predictions = MLJ.predict(tree_machine, X[test, :])\n",
    "sqrt(mean((predictions - y[test]) .^ 2))"
   ]
  },
  {
   "cell_type": "code",
   "execution_count": 127,
   "metadata": {},
   "outputs": [
    {
     "name": "stderr",
     "output_type": "stream",
     "text": [
      "┌ Info: Training machine(DecisionTreeRegressor(max_depth = -1, …), …).\n",
      "└ @ MLJBase /Users/lucassalamanca/.julia/packages/MLJBase/7nGJF/src/machines.jl:499\n",
      "\u001b[33mEvaluating over 3 folds: 100%[=========================] Time: 0:00:00\u001b[39m\u001b[K\n",
      "\u001b[33mEvaluating over 3 folds: 100%[=========================] Time: 0:00:02\u001b[39m\u001b[K\n"
     ]
    },
    {
     "data": {
      "text/plain": [
       "0.1939800422908919"
      ]
     },
     "metadata": {},
     "output_type": "display_data"
    }
   ],
   "source": [
    "# Cross validate different trees and then obtain threshold with lowerst RMSE\n",
    "tree_model_prune = DecisionTreeRegressor(post_prune = true, merge_purity_threshold = 0.6)\n",
    "tree_machine_prune = machine(tree_model_prune, X[train, :], y[train])\n",
    "MLJ.fit!(tree_machine_prune);\n",
    "\n",
    "thresholds = exp.(collect(-10:0.01:0))\n",
    "rmses = []\n",
    "\n",
    "for threshold in thresholds\n",
    "        tree_model_prune.merge_purity_threshold = threshold\n",
    "        evaluation = evaluate!(\n",
    "                tree_machine_prune,\n",
    "                resampling = CV(nfolds = 3, shuffle = true, rng = 123),\n",
    "                measure = rmse\n",
    "        )\n",
    "        rmses = [rmses; evaluation.measurement]\n",
    "end\n",
    "\n",
    "thresholds[argmin(rmses)]\n",
    "\n"
   ]
  },
  {
   "cell_type": "code",
   "execution_count": 128,
   "metadata": {},
   "outputs": [
    {
     "name": "stderr",
     "output_type": "stream",
     "text": [
      "┌ Info: Training machine(DecisionTreeRegressor(max_depth = -1, …), …).\n",
      "└ @ MLJBase /Users/lucassalamanca/.julia/packages/MLJBase/7nGJF/src/machines.jl:499\n"
     ]
    },
    {
     "data": {
      "text/plain": [
       "214.8897188951691"
      ]
     },
     "metadata": {},
     "output_type": "display_data"
    }
   ],
   "source": [
    "# Use threshold that minimizes RMSE to create pruned tree\n",
    "tree_model_prune = DecisionTreeRegressor(post_prune = true, merge_purity_threshold = thresholds[argmin(rmses)])\n",
    "tree_machine_prune = machine(tree_model_prune, X[train, :], y[train])\n",
    "MLJ.fit!(tree_machine_prune);\n",
    "predictions_prune = MLJ.predict(tree_machine_prune, X[test, :])\n",
    "sqrt(mean((predictions_prune - y[test]) .^ 2))"
   ]
  },
  {
   "cell_type": "code",
   "execution_count": 129,
   "metadata": {},
   "outputs": [
    {
     "name": "stdout",
     "output_type": "stream",
     "text": [
      "Model Comparison Summary:\n",
      "\u001b[1m3×2 DataFrame\u001b[0m\n",
      "\u001b[1m Row \u001b[0m│\u001b[1m Model                  \u001b[0m\u001b[1m RMSE       \u001b[0m\n",
      "     │\u001b[90m String                 \u001b[0m\u001b[90m Float64    \u001b[0m\n",
      "─────┼────────────────────────────────────\n",
      "   1 │ OLS with Bootstrapping    0.625747\n",
      "   2 │ Unpruned Tree           212.793\n",
      "   3 │ Pruned Tree             214.89\n"
     ]
    }
   ],
   "source": [
    "# Compare models\n",
    "results_df = DataFrame(\n",
    "    Model = String[], \n",
    "    RMSE = Float64[]\n",
    ")\n",
    "\n",
    "# 1. Calculate RMSE for OLS with bootstrapping\n",
    "ols_rmse = sqrt(mean((test_df.LogSalary - y_pred).^2))  \n",
    "push!(results_df, (\"OLS with Bootstrapping\", ols_rmse))\n",
    "\n",
    "# 2. Calculate RMSE for unpruned tree\n",
    "unpruned_tree_rmse = sqrt(mean((y[test] - predictions).^2))  \n",
    "push!(results_df, (\"Unpruned Tree\", unpruned_tree_rmse))\n",
    "\n",
    "# 3. Calculate RMSE for pruned tree\n",
    "pruned_tree_rmse = sqrt(mean((y[test] - predictions_prune).^2)) \n",
    "push!(results_df, (\"Pruned Tree\", pruned_tree_rmse))\n",
    "\n",
    "# summary of RMSE\n",
    "println(\"Model Comparison Summary:\")\n",
    "println(results_df)\n"
   ]
  }
 ],
 "metadata": {
  "kernelspec": {
   "display_name": "Julia 1.10.4",
   "language": "julia",
   "name": "julia-1.10"
  },
  "language_info": {
   "file_extension": ".jl",
   "mimetype": "application/julia",
   "name": "julia",
   "version": "1.10.4"
  }
 },
 "nbformat": 4,
 "nbformat_minor": 2
}
