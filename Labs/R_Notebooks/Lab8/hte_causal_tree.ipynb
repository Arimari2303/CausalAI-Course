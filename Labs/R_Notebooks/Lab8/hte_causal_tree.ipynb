{
 "cells": [
  {
   "cell_type": "markdown",
   "id": "c71700dc",
   "metadata": {},
   "source": [
    "# HTE I: Binary treatment"
   ]
  },
  {
   "cell_type": "markdown",
   "id": "be154cd7",
   "metadata": {},
   "source": [
    "## Experiment Description\n",
    "As a running example, in what follows we'll be using an abridged version of a public dataset from the General Social Survey (GSS) [(Smith, 2016)](https://gss.norc.org/Documents/reports/project-reports/GSSProject%20report32.pdf). The setting is a randomized control trial. Individuals were asked about their thoughts on government spending on the social safety net. The treatment is the wording of the question: about half of the individuals were asked if they thought government spends too much on \"welfare\" $(W_i = 1)$, while the remaining half was asked about \"assistance to the poor\" $(W_i = 0)$. The outcome is binary, with $Y_i = 1$ corresponding to a positive answer. In the data set below, we also collect a few other demographic covariates."
   ]
  },
  {
   "cell_type": "markdown",
   "id": "0fbbfc3f",
   "metadata": {},
   "source": [
    "## Analysis"
   ]
  },
  {
   "cell_type": "markdown",
   "id": "a7193f4a",
   "metadata": {},
   "source": [
    "Source RMD file: [link](https://docs.google.com/uc?export=download&id=1FSUi4WLfYYKnvWsNWypiQORhkqf5IlFP)\n",
    "\n",
    "In the previous chapter, we learned how to estimate the effect of a binary treatment averaged over the entire population. However, the average may obscure important details about how different individuals react to the treatment. In this chapter, we will learn how to estimate the **conditional average treatment effect (CATE)**,\n",
    "\\begin{equation}\n",
    "  \\tau(x) := E[Y_i(1) - Y_i(0) | X_i = x],\n",
    "\\end{equation}\n",
    "which is a \"localized\" version of the average treatment effect conditional on a vector of observable characteristics. \n",
    "\n",
    "It's often the case that \\@ref(eq:cate) is too general to be immediately useful, especially when the observable covariates are high-dimensional. It can be hard to estimate reliably without making strong modeling assumptions, and hard to summarize in a useful manner after estimation. In such situations, we will instead try to estimate treatment effect averages for simpler groups\n",
    "\\begin{equation}\n",
    "  E[Y_i(1) - Y_i(0) | G_i = g],\n",
    "\\end{equation}\n",
    "where $G_i$ indexes subgroups of interest. Below you'll learn how to estimate and test hypotheses about pre-defined subgroups, and also how to discover subgroups of interest from the data. In this tutorial, you will learn how to use estimates of \\@ref(eq:cate) to suggest relevant subgroups $G_i$ (and in the next chapters you will find out other uses of \\@ref(eq:cate) in policy learning and evaluation).\n",
    "\n",
    "We'll continue using the abridged version of the General Social Survey (GSS) [(Smith, 2016)](https://gss.norc.org/Documents/reports/project-reports/GSSProject%20report32.pdf) dataset that was introduced in the previous chapter. In this dataset, individuals were sent to treatment or control with equal probability, so we are in a randomized setting. However, many of the techniques and code shown below should also work in an observational setting provided that unconfoundedness and overlap are satisfied (these assumptions were defined in the previous chapter)."
   ]
  },
  {
   "cell_type": "code",
   "execution_count": 47,
   "id": "ae22439f",
   "metadata": {},
   "outputs": [],
   "source": [
    "# The causalTree package is not in CRAN, the most common R repository.\n",
    "# To install it, uncomment the next lines as appropriate.\n",
    "#install.packages(\"devtools\")  # if you don't have this installed yet.\n",
    "#devtools::install_github('susanathey/causalTree') \n",
    "library(causalTree)\n",
    "\n",
    "# use e.g., install.packages(\"grf\") to install any of the following packages.\n",
    "library(grf)\n",
    "library(rpart)\n",
    "library(glmnet)\n",
    "library(splines)\n",
    "library(MASS)\n",
    "library(lmtest)\n",
    "library(sandwich)\n",
    "library(ggplot2)"
   ]
  },
  {
   "cell_type": "markdown",
   "id": "e91f579e",
   "metadata": {},
   "source": [
    "As with other chapters in this tutorial, the code below should still work by replacing the next snippet of code with a different dataset, provided that you update the key variables `treatment`, `outcome`, and `covariates` below. Also, please make sure to read the comments as they may be subtle differences depending on whether your dataset was created in a randomized or observational setting."
   ]
  },
  {
   "cell_type": "code",
   "execution_count": 48,
   "id": "359f1352",
   "metadata": {},
   "outputs": [],
   "source": [
    "# Read in data\n",
    "data <- read.csv(\"https://docs.google.com/uc?id=1kSxrVci_EUcSr_Lg1JKk1l7Xd5I9zfRC&export=download\")\n",
    "n <- nrow(data)\n",
    "\n",
    "# Treatment: does the the gov't spend too much on \"welfare\" (1) or \"assistance to the poor\" (0)\n",
    "treatment <- \"w\"\n",
    "\n",
    "# Outcome: 1 for 'yes', 0 for 'no'\n",
    "outcome <- \"y\"\n",
    "\n",
    "# Additional covariates\n",
    "covariates <- c(\"age\", \"polviews\", \"income\", \"educ\", \"marital\", \"sex\")"
   ]
  },
  {
   "cell_type": "markdown",
   "id": "a56b92a4",
   "metadata": {},
   "source": [
    "## Pre-specified hypotheses\n",
    "\n",
    "We will begin by learning how to test pre-specified null hypotheses of the form\n",
    "\\begin{equation} \n",
    "\\label{eq:1}\n",
    "H_{0}: E[Y(1) - Y(0) | G_i = 1] = E[Y(1) - Y(0) | G_i = 0] \n",
    "\\end{equation}\n",
    "\n",
    "That is, that the treatment effect is the same regardless of membership to some group\n",
    "$G_i$. Importantly, for now we’ll assume that the group $G_i$ was **pre-specified** -- it was decided _before_ looking at the data.\n",
    "\n",
    "In a randomized setting, if the both the treatment  $W_i$ and group membership $G_i$ are binary, we can write\n",
    "\\begin{equation}\n",
    "  E[Y_i(W_i)|G_i] = E[Y_i|W_i, G_i] = \\beta_0 + \\beta_w W_i + \\beta_g G_i + \\beta_{wg} W_i G_i\n",
    "\\end{equation}\n",
    "\n",
    "<font size=1>\n",
    "When $W_i$ and $G_i$ are binary, this decomposition is true without loss of generality. Why?\n",
    "</font>\n",
    "\n",
    "This allows us to write the average effects of $W_i$ and $G_i$ on $Y_i$ as\n",
    "\\begin{equation}\n",
    "  \\begin{aligned}\n",
    "    E[Y(1) | G_i=1] &= \\beta_0 + \\beta_w W_i + \\beta_g G_i + \\beta_{wg} W_i G_i, \\\\\n",
    "    E[Y(1) | G_i=0] &= \\beta_0 + \\beta_w W_i,  \\\\\n",
    "    E[Y(0) | G_i=1] &= \\beta_0 + \\beta_g G_i,  \\\\\n",
    "    E[Y(0) | G_i=0] &= \\beta_0.\n",
    "  \\end{aligned}\n",
    "\\end{equation}\n",
    "\n",
    "Rewriting the null hypothesis \\ref{eq:1} in terms of the decomposition \\@ref(eq:decomp), we see that it boils down to a test about the coefficient in the interaction: $\\beta_{xw} = 0$. Here’s an example that tests whether the treatment effect is the same for \"conservative\" (`polviews` < 4) and \"liberal\" (`polviews` $\\geq$ 4) individuals."
   ]
  },
  {
   "cell_type": "code",
   "execution_count": 49,
   "id": "83ddb686",
   "metadata": {},
   "outputs": [
    {
     "data": {
      "text/plain": [
       "\n",
       "t test of coefficients:\n",
       "\n",
       "                     Estimate Std. Error t value  Pr(>|t|)    \n",
       "(Intercept)         0.4836473  0.0050842  95.127 < 2.2e-16 ***\n",
       "w                  -0.3789182  0.0058604 -64.657 < 2.2e-16 ***\n",
       "conservativeTRUE   -0.1590214  0.0092479 -17.195 < 2.2e-16 ***\n",
       "w:conservativeTRUE  0.1160034  0.0103710  11.185 < 2.2e-16 ***\n",
       "---\n",
       "Signif. codes:  0 '***' 0.001 '**' 0.01 '*' 0.05 '.' 0.1 ' ' 1\n"
      ]
     },
     "metadata": {},
     "output_type": "display_data"
    }
   ],
   "source": [
    "# Only valid in randomized settings\n",
    "\n",
    "# Suppose this his group was defined prior to collecting the data\n",
    "data$conservative <- factor(data$polviews < 4)  # a binary group\n",
    "group <- 'conservative'\n",
    "\n",
    "# Recall from last chapter -- this is equivalent to running a t-test\n",
    "fmla <- formula(paste(outcome, ' ~ ', treatment, '*', group))\n",
    "ols <- lm(fmla, data=data)\n",
    "coeftest(ols, vcov=vcovHC(ols, type='HC2'))"
   ]
  },
  {
   "cell_type": "markdown",
   "id": "286bcdc7",
   "metadata": {},
   "source": [
    "## Data-driven hypotheses\n",
    "\n",
    "Pre-specifying hypotheses prior to looking at the data is in general good practice to avoid \"p-hacking\" (e.g., slicing the data into different subgroups until a significant result is found). However, valid tests can also be attained if by **sample splitting**: we can use a subset of the sample to find promising subgroups, then test hypotheses about these subgroups in the remaining sample. This kind of sample splitting for hypothesis testing is called **honesty**.\n",
    "\n",
    "### Via causal trees\n",
    "\n",
    "**Causal trees** [(Athey and Imbens)](PNAS, 2016)](https://www.pnas.org/content/pnas/113/27/7353.full.pdf) are an intuitive algorithm that is available in the randomized setting to discover subgroups with different treatment effects.\n",
    "\n",
    "At a high level, the idea is to divide the sample into three subsets (not necessarily of equal size). The `splitting` subset is used to fit a decision tree whose objective is modified to maximize heterogeneity in treatment effect estimates across leaves. The `estimation` subset is then used to produce a valid estimate of the treatment effect at each leaf of the fitted tree. Finally, a `test` subset can be used to validate the tree estimates.\n",
    "\n",
    "The next snippet uses `honest.causalTree` function from the [`causalTree`](https://github.com/susanathey/causalTree) package. For more details, see the [causalTree documentation](https://github.com/susanathey/causalTree/blob/master/briefintro.pdf)."
   ]
  },
  {
   "cell_type": "code",
   "execution_count": 50,
   "id": "2504a129",
   "metadata": {},
   "outputs": [
    {
     "data": {
      "text/html": [
       "<span style=white-space:pre-wrap>'y  ~ age + polviews + income + educ + marital + sex'</span>"
      ],
      "text/latex": [
       "'y  \\textasciitilde{} age + polviews + income + educ + marital + sex'"
      ],
      "text/markdown": [
       "<span style=white-space:pre-wrap>'y  ~ age + polviews + income + educ + marital + sex'</span>"
      ],
      "text/plain": [
       "[1] \"y  ~ age + polviews + income + educ + marital + sex\""
      ]
     },
     "metadata": {},
     "output_type": "display_data"
    }
   ],
   "source": [
    "# Only valid for randomized data!\n",
    "fmla <- paste(outcome, \" ~\", paste(covariates, collapse = \" + \"))\n",
    "fmla"
   ]
  },
  {
   "cell_type": "code",
   "execution_count": 51,
   "id": "43ff8f7f",
   "metadata": {},
   "outputs": [
    {
     "data": {
      "text/html": [
       "<table class=\"dataframe\">\n",
       "<caption>A data.frame: 28653 × 10</caption>\n",
       "<thead>\n",
       "\t<tr><th scope=col>X</th><th scope=col>y</th><th scope=col>w</th><th scope=col>age</th><th scope=col>polviews</th><th scope=col>income</th><th scope=col>educ</th><th scope=col>marital</th><th scope=col>sex</th><th scope=col>conservative</th></tr>\n",
       "\t<tr><th scope=col>&lt;int&gt;</th><th scope=col>&lt;int&gt;</th><th scope=col>&lt;int&gt;</th><th scope=col>&lt;int&gt;</th><th scope=col>&lt;int&gt;</th><th scope=col>&lt;int&gt;</th><th scope=col>&lt;int&gt;</th><th scope=col>&lt;int&gt;</th><th scope=col>&lt;int&gt;</th><th scope=col>&lt;fct&gt;</th></tr>\n",
       "</thead>\n",
       "<tbody>\n",
       "\t<tr><td> 1</td><td>0</td><td>0</td><td>28</td><td>4</td><td>11</td><td>14</td><td>5</td><td>1</td><td>FALSE</td></tr>\n",
       "\t<tr><td> 2</td><td>1</td><td>0</td><td>54</td><td>6</td><td>12</td><td>16</td><td>2</td><td>2</td><td>FALSE</td></tr>\n",
       "\t<tr><td> 3</td><td>1</td><td>0</td><td>44</td><td>2</td><td>12</td><td>16</td><td>5</td><td>2</td><td>TRUE </td></tr>\n",
       "\t<tr><td> 6</td><td>0</td><td>0</td><td>47</td><td>1</td><td> 5</td><td>10</td><td>4</td><td>1</td><td>TRUE </td></tr>\n",
       "\t<tr><td> 7</td><td>0</td><td>1</td><td>19</td><td>4</td><td> 9</td><td>10</td><td>5</td><td>2</td><td>FALSE</td></tr>\n",
       "\t<tr><td> 8</td><td>0</td><td>0</td><td>36</td><td>2</td><td> 8</td><td>18</td><td>1</td><td>1</td><td>TRUE </td></tr>\n",
       "\t<tr><td> 9</td><td>0</td><td>0</td><td>27</td><td>2</td><td> 8</td><td>17</td><td>5</td><td>2</td><td>TRUE </td></tr>\n",
       "\t<tr><td>10</td><td>1</td><td>1</td><td>51</td><td>5</td><td>11</td><td>18</td><td>3</td><td>1</td><td>FALSE</td></tr>\n",
       "\t<tr><td>11</td><td>1</td><td>0</td><td>24</td><td>4</td><td>12</td><td>12</td><td>5</td><td>2</td><td>FALSE</td></tr>\n",
       "\t<tr><td>13</td><td>0</td><td>1</td><td>25</td><td>1</td><td> 9</td><td>11</td><td>5</td><td>1</td><td>TRUE </td></tr>\n",
       "\t<tr><td>14</td><td>0</td><td>0</td><td>36</td><td>1</td><td> 8</td><td> 6</td><td>3</td><td>2</td><td>TRUE </td></tr>\n",
       "\t<tr><td>15</td><td>1</td><td>0</td><td>66</td><td>6</td><td> 7</td><td> 8</td><td>2</td><td>2</td><td>FALSE</td></tr>\n",
       "\t<tr><td>16</td><td>1</td><td>0</td><td>63</td><td>3</td><td> 4</td><td>10</td><td>1</td><td>1</td><td>TRUE </td></tr>\n",
       "\t<tr><td>17</td><td>0</td><td>1</td><td>36</td><td>3</td><td>12</td><td>11</td><td>5</td><td>1</td><td>TRUE </td></tr>\n",
       "\t<tr><td>20</td><td>0</td><td>0</td><td>35</td><td>5</td><td>12</td><td>14</td><td>1</td><td>2</td><td>FALSE</td></tr>\n",
       "\t<tr><td>24</td><td>1</td><td>0</td><td>27</td><td>6</td><td>12</td><td>16</td><td>1</td><td>2</td><td>FALSE</td></tr>\n",
       "\t<tr><td>26</td><td>1</td><td>0</td><td>67</td><td>4</td><td> 9</td><td>12</td><td>1</td><td>1</td><td>FALSE</td></tr>\n",
       "\t<tr><td>27</td><td>1</td><td>0</td><td>52</td><td>6</td><td>12</td><td>11</td><td>1</td><td>2</td><td>FALSE</td></tr>\n",
       "\t<tr><td>28</td><td>0</td><td>0</td><td>20</td><td>4</td><td>12</td><td>14</td><td>5</td><td>1</td><td>FALSE</td></tr>\n",
       "\t<tr><td>29</td><td>1</td><td>1</td><td>29</td><td>4</td><td>11</td><td>12</td><td>1</td><td>1</td><td>FALSE</td></tr>\n",
       "\t<tr><td>31</td><td>0</td><td>1</td><td>30</td><td>5</td><td>11</td><td>16</td><td>4</td><td>2</td><td>FALSE</td></tr>\n",
       "\t<tr><td>32</td><td>0</td><td>1</td><td>34</td><td>3</td><td>12</td><td>12</td><td>1</td><td>2</td><td>TRUE </td></tr>\n",
       "\t<tr><td>33</td><td>0</td><td>1</td><td>46</td><td>6</td><td>12</td><td>14</td><td>1</td><td>2</td><td>FALSE</td></tr>\n",
       "\t<tr><td>34</td><td>0</td><td>0</td><td>36</td><td>4</td><td> 5</td><td>13</td><td>5</td><td>2</td><td>FALSE</td></tr>\n",
       "\t<tr><td>35</td><td>0</td><td>0</td><td>22</td><td>5</td><td>12</td><td>12</td><td>1</td><td>2</td><td>FALSE</td></tr>\n",
       "\t<tr><td>36</td><td>0</td><td>1</td><td>22</td><td>3</td><td>12</td><td>15</td><td>5</td><td>1</td><td>TRUE </td></tr>\n",
       "\t<tr><td>38</td><td>0</td><td>1</td><td>57</td><td>4</td><td>12</td><td>12</td><td>1</td><td>1</td><td>FALSE</td></tr>\n",
       "\t<tr><td>39</td><td>0</td><td>1</td><td>40</td><td>5</td><td>12</td><td>18</td><td>1</td><td>2</td><td>FALSE</td></tr>\n",
       "\t<tr><td>40</td><td>0</td><td>1</td><td>58</td><td>4</td><td>12</td><td>12</td><td>2</td><td>2</td><td>FALSE</td></tr>\n",
       "\t<tr><td>41</td><td>1</td><td>1</td><td>27</td><td>6</td><td>12</td><td>18</td><td>1</td><td>1</td><td>FALSE</td></tr>\n",
       "\t<tr><td>⋮</td><td>⋮</td><td>⋮</td><td>⋮</td><td>⋮</td><td>⋮</td><td>⋮</td><td>⋮</td><td>⋮</td><td>⋮</td></tr>\n",
       "\t<tr><td>36471</td><td>0</td><td>1</td><td>53</td><td>7</td><td>11</td><td>14</td><td>3</td><td>2</td><td>FALSE</td></tr>\n",
       "\t<tr><td>36472</td><td>0</td><td>0</td><td>50</td><td>2</td><td>12</td><td>18</td><td>3</td><td>2</td><td>TRUE </td></tr>\n",
       "\t<tr><td>36473</td><td>0</td><td>0</td><td>71</td><td>4</td><td> 2</td><td> 6</td><td>2</td><td>1</td><td>FALSE</td></tr>\n",
       "\t<tr><td>36474</td><td>0</td><td>1</td><td>19</td><td>5</td><td>12</td><td>11</td><td>5</td><td>1</td><td>FALSE</td></tr>\n",
       "\t<tr><td>36475</td><td>1</td><td>0</td><td>19</td><td>2</td><td> 9</td><td>12</td><td>1</td><td>1</td><td>TRUE </td></tr>\n",
       "\t<tr><td>36476</td><td>0</td><td>0</td><td>44</td><td>3</td><td>12</td><td>14</td><td>3</td><td>1</td><td>TRUE </td></tr>\n",
       "\t<tr><td>36477</td><td>0</td><td>1</td><td>76</td><td>6</td><td>12</td><td>12</td><td>1</td><td>2</td><td>FALSE</td></tr>\n",
       "\t<tr><td>36478</td><td>1</td><td>0</td><td>70</td><td>4</td><td>12</td><td>12</td><td>1</td><td>1</td><td>FALSE</td></tr>\n",
       "\t<tr><td>36479</td><td>0</td><td>0</td><td>30</td><td>7</td><td>11</td><td> 9</td><td>1</td><td>1</td><td>FALSE</td></tr>\n",
       "\t<tr><td>36481</td><td>0</td><td>0</td><td>42</td><td>4</td><td> 9</td><td>12</td><td>5</td><td>2</td><td>FALSE</td></tr>\n",
       "\t<tr><td>36482</td><td>0</td><td>1</td><td>25</td><td>4</td><td> 6</td><td>15</td><td>5</td><td>1</td><td>FALSE</td></tr>\n",
       "\t<tr><td>36483</td><td>0</td><td>0</td><td>62</td><td>4</td><td>11</td><td> 7</td><td>3</td><td>2</td><td>FALSE</td></tr>\n",
       "\t<tr><td>36484</td><td>0</td><td>1</td><td>65</td><td>5</td><td> 7</td><td>16</td><td>3</td><td>1</td><td>FALSE</td></tr>\n",
       "\t<tr><td>36485</td><td>0</td><td>1</td><td>49</td><td>4</td><td>11</td><td>10</td><td>3</td><td>2</td><td>FALSE</td></tr>\n",
       "\t<tr><td>36486</td><td>0</td><td>1</td><td>69</td><td>3</td><td>12</td><td>12</td><td>1</td><td>2</td><td>TRUE </td></tr>\n",
       "\t<tr><td>36487</td><td>0</td><td>1</td><td>43</td><td>4</td><td>12</td><td>15</td><td>4</td><td>2</td><td>FALSE</td></tr>\n",
       "\t<tr><td>36488</td><td>1</td><td>0</td><td>36</td><td>6</td><td>12</td><td>11</td><td>1</td><td>1</td><td>FALSE</td></tr>\n",
       "\t<tr><td>36489</td><td>0</td><td>1</td><td>34</td><td>3</td><td> 9</td><td>10</td><td>5</td><td>1</td><td>TRUE </td></tr>\n",
       "\t<tr><td>36490</td><td>0</td><td>0</td><td>43</td><td>1</td><td> 9</td><td>16</td><td>3</td><td>2</td><td>TRUE </td></tr>\n",
       "\t<tr><td>36491</td><td>0</td><td>1</td><td>48</td><td>4</td><td>12</td><td>12</td><td>1</td><td>2</td><td>FALSE</td></tr>\n",
       "\t<tr><td>36492</td><td>0</td><td>1</td><td>23</td><td>4</td><td>12</td><td>12</td><td>1</td><td>1</td><td>FALSE</td></tr>\n",
       "\t<tr><td>36493</td><td>1</td><td>0</td><td>67</td><td>5</td><td>12</td><td>12</td><td>1</td><td>2</td><td>FALSE</td></tr>\n",
       "\t<tr><td>36494</td><td>0</td><td>1</td><td>21</td><td>5</td><td>12</td><td>12</td><td>5</td><td>2</td><td>FALSE</td></tr>\n",
       "\t<tr><td>36495</td><td>1</td><td>0</td><td>70</td><td>4</td><td> 9</td><td>11</td><td>1</td><td>1</td><td>FALSE</td></tr>\n",
       "\t<tr><td>36496</td><td>1</td><td>1</td><td>63</td><td>4</td><td>12</td><td>12</td><td>3</td><td>1</td><td>FALSE</td></tr>\n",
       "\t<tr><td>36497</td><td>0</td><td>0</td><td>62</td><td>5</td><td>12</td><td>16</td><td>1</td><td>1</td><td>FALSE</td></tr>\n",
       "\t<tr><td>36498</td><td>1</td><td>0</td><td>66</td><td>7</td><td> 9</td><td>12</td><td>2</td><td>2</td><td>FALSE</td></tr>\n",
       "\t<tr><td>36499</td><td>0</td><td>1</td><td>54</td><td>3</td><td>11</td><td>12</td><td>4</td><td>2</td><td>TRUE </td></tr>\n",
       "\t<tr><td>36500</td><td>0</td><td>0</td><td>57</td><td>3</td><td> 6</td><td>16</td><td>3</td><td>2</td><td>TRUE </td></tr>\n",
       "\t<tr><td>36501</td><td>1</td><td>0</td><td>30</td><td>4</td><td>12</td><td>14</td><td>5</td><td>1</td><td>FALSE</td></tr>\n",
       "</tbody>\n",
       "</table>\n"
      ],
      "text/latex": [
       "A data.frame: 28653 × 10\n",
       "\\begin{tabular}{llllllllll}\n",
       " X & y & w & age & polviews & income & educ & marital & sex & conservative\\\\\n",
       " <int> & <int> & <int> & <int> & <int> & <int> & <int> & <int> & <int> & <fct>\\\\\n",
       "\\hline\n",
       "\t  1 & 0 & 0 & 28 & 4 & 11 & 14 & 5 & 1 & FALSE\\\\\n",
       "\t  2 & 1 & 0 & 54 & 6 & 12 & 16 & 2 & 2 & FALSE\\\\\n",
       "\t  3 & 1 & 0 & 44 & 2 & 12 & 16 & 5 & 2 & TRUE \\\\\n",
       "\t  6 & 0 & 0 & 47 & 1 &  5 & 10 & 4 & 1 & TRUE \\\\\n",
       "\t  7 & 0 & 1 & 19 & 4 &  9 & 10 & 5 & 2 & FALSE\\\\\n",
       "\t  8 & 0 & 0 & 36 & 2 &  8 & 18 & 1 & 1 & TRUE \\\\\n",
       "\t  9 & 0 & 0 & 27 & 2 &  8 & 17 & 5 & 2 & TRUE \\\\\n",
       "\t 10 & 1 & 1 & 51 & 5 & 11 & 18 & 3 & 1 & FALSE\\\\\n",
       "\t 11 & 1 & 0 & 24 & 4 & 12 & 12 & 5 & 2 & FALSE\\\\\n",
       "\t 13 & 0 & 1 & 25 & 1 &  9 & 11 & 5 & 1 & TRUE \\\\\n",
       "\t 14 & 0 & 0 & 36 & 1 &  8 &  6 & 3 & 2 & TRUE \\\\\n",
       "\t 15 & 1 & 0 & 66 & 6 &  7 &  8 & 2 & 2 & FALSE\\\\\n",
       "\t 16 & 1 & 0 & 63 & 3 &  4 & 10 & 1 & 1 & TRUE \\\\\n",
       "\t 17 & 0 & 1 & 36 & 3 & 12 & 11 & 5 & 1 & TRUE \\\\\n",
       "\t 20 & 0 & 0 & 35 & 5 & 12 & 14 & 1 & 2 & FALSE\\\\\n",
       "\t 24 & 1 & 0 & 27 & 6 & 12 & 16 & 1 & 2 & FALSE\\\\\n",
       "\t 26 & 1 & 0 & 67 & 4 &  9 & 12 & 1 & 1 & FALSE\\\\\n",
       "\t 27 & 1 & 0 & 52 & 6 & 12 & 11 & 1 & 2 & FALSE\\\\\n",
       "\t 28 & 0 & 0 & 20 & 4 & 12 & 14 & 5 & 1 & FALSE\\\\\n",
       "\t 29 & 1 & 1 & 29 & 4 & 11 & 12 & 1 & 1 & FALSE\\\\\n",
       "\t 31 & 0 & 1 & 30 & 5 & 11 & 16 & 4 & 2 & FALSE\\\\\n",
       "\t 32 & 0 & 1 & 34 & 3 & 12 & 12 & 1 & 2 & TRUE \\\\\n",
       "\t 33 & 0 & 1 & 46 & 6 & 12 & 14 & 1 & 2 & FALSE\\\\\n",
       "\t 34 & 0 & 0 & 36 & 4 &  5 & 13 & 5 & 2 & FALSE\\\\\n",
       "\t 35 & 0 & 0 & 22 & 5 & 12 & 12 & 1 & 2 & FALSE\\\\\n",
       "\t 36 & 0 & 1 & 22 & 3 & 12 & 15 & 5 & 1 & TRUE \\\\\n",
       "\t 38 & 0 & 1 & 57 & 4 & 12 & 12 & 1 & 1 & FALSE\\\\\n",
       "\t 39 & 0 & 1 & 40 & 5 & 12 & 18 & 1 & 2 & FALSE\\\\\n",
       "\t 40 & 0 & 1 & 58 & 4 & 12 & 12 & 2 & 2 & FALSE\\\\\n",
       "\t 41 & 1 & 1 & 27 & 6 & 12 & 18 & 1 & 1 & FALSE\\\\\n",
       "\t ⋮ & ⋮ & ⋮ & ⋮ & ⋮ & ⋮ & ⋮ & ⋮ & ⋮ & ⋮\\\\\n",
       "\t 36471 & 0 & 1 & 53 & 7 & 11 & 14 & 3 & 2 & FALSE\\\\\n",
       "\t 36472 & 0 & 0 & 50 & 2 & 12 & 18 & 3 & 2 & TRUE \\\\\n",
       "\t 36473 & 0 & 0 & 71 & 4 &  2 &  6 & 2 & 1 & FALSE\\\\\n",
       "\t 36474 & 0 & 1 & 19 & 5 & 12 & 11 & 5 & 1 & FALSE\\\\\n",
       "\t 36475 & 1 & 0 & 19 & 2 &  9 & 12 & 1 & 1 & TRUE \\\\\n",
       "\t 36476 & 0 & 0 & 44 & 3 & 12 & 14 & 3 & 1 & TRUE \\\\\n",
       "\t 36477 & 0 & 1 & 76 & 6 & 12 & 12 & 1 & 2 & FALSE\\\\\n",
       "\t 36478 & 1 & 0 & 70 & 4 & 12 & 12 & 1 & 1 & FALSE\\\\\n",
       "\t 36479 & 0 & 0 & 30 & 7 & 11 &  9 & 1 & 1 & FALSE\\\\\n",
       "\t 36481 & 0 & 0 & 42 & 4 &  9 & 12 & 5 & 2 & FALSE\\\\\n",
       "\t 36482 & 0 & 1 & 25 & 4 &  6 & 15 & 5 & 1 & FALSE\\\\\n",
       "\t 36483 & 0 & 0 & 62 & 4 & 11 &  7 & 3 & 2 & FALSE\\\\\n",
       "\t 36484 & 0 & 1 & 65 & 5 &  7 & 16 & 3 & 1 & FALSE\\\\\n",
       "\t 36485 & 0 & 1 & 49 & 4 & 11 & 10 & 3 & 2 & FALSE\\\\\n",
       "\t 36486 & 0 & 1 & 69 & 3 & 12 & 12 & 1 & 2 & TRUE \\\\\n",
       "\t 36487 & 0 & 1 & 43 & 4 & 12 & 15 & 4 & 2 & FALSE\\\\\n",
       "\t 36488 & 1 & 0 & 36 & 6 & 12 & 11 & 1 & 1 & FALSE\\\\\n",
       "\t 36489 & 0 & 1 & 34 & 3 &  9 & 10 & 5 & 1 & TRUE \\\\\n",
       "\t 36490 & 0 & 0 & 43 & 1 &  9 & 16 & 3 & 2 & TRUE \\\\\n",
       "\t 36491 & 0 & 1 & 48 & 4 & 12 & 12 & 1 & 2 & FALSE\\\\\n",
       "\t 36492 & 0 & 1 & 23 & 4 & 12 & 12 & 1 & 1 & FALSE\\\\\n",
       "\t 36493 & 1 & 0 & 67 & 5 & 12 & 12 & 1 & 2 & FALSE\\\\\n",
       "\t 36494 & 0 & 1 & 21 & 5 & 12 & 12 & 5 & 2 & FALSE\\\\\n",
       "\t 36495 & 1 & 0 & 70 & 4 &  9 & 11 & 1 & 1 & FALSE\\\\\n",
       "\t 36496 & 1 & 1 & 63 & 4 & 12 & 12 & 3 & 1 & FALSE\\\\\n",
       "\t 36497 & 0 & 0 & 62 & 5 & 12 & 16 & 1 & 1 & FALSE\\\\\n",
       "\t 36498 & 1 & 0 & 66 & 7 &  9 & 12 & 2 & 2 & FALSE\\\\\n",
       "\t 36499 & 0 & 1 & 54 & 3 & 11 & 12 & 4 & 2 & TRUE \\\\\n",
       "\t 36500 & 0 & 0 & 57 & 3 &  6 & 16 & 3 & 2 & TRUE \\\\\n",
       "\t 36501 & 1 & 0 & 30 & 4 & 12 & 14 & 5 & 1 & FALSE\\\\\n",
       "\\end{tabular}\n"
      ],
      "text/markdown": [
       "\n",
       "A data.frame: 28653 × 10\n",
       "\n",
       "| X &lt;int&gt; | y &lt;int&gt; | w &lt;int&gt; | age &lt;int&gt; | polviews &lt;int&gt; | income &lt;int&gt; | educ &lt;int&gt; | marital &lt;int&gt; | sex &lt;int&gt; | conservative &lt;fct&gt; |\n",
       "|---|---|---|---|---|---|---|---|---|---|\n",
       "|  1 | 0 | 0 | 28 | 4 | 11 | 14 | 5 | 1 | FALSE |\n",
       "|  2 | 1 | 0 | 54 | 6 | 12 | 16 | 2 | 2 | FALSE |\n",
       "|  3 | 1 | 0 | 44 | 2 | 12 | 16 | 5 | 2 | TRUE  |\n",
       "|  6 | 0 | 0 | 47 | 1 |  5 | 10 | 4 | 1 | TRUE  |\n",
       "|  7 | 0 | 1 | 19 | 4 |  9 | 10 | 5 | 2 | FALSE |\n",
       "|  8 | 0 | 0 | 36 | 2 |  8 | 18 | 1 | 1 | TRUE  |\n",
       "|  9 | 0 | 0 | 27 | 2 |  8 | 17 | 5 | 2 | TRUE  |\n",
       "| 10 | 1 | 1 | 51 | 5 | 11 | 18 | 3 | 1 | FALSE |\n",
       "| 11 | 1 | 0 | 24 | 4 | 12 | 12 | 5 | 2 | FALSE |\n",
       "| 13 | 0 | 1 | 25 | 1 |  9 | 11 | 5 | 1 | TRUE  |\n",
       "| 14 | 0 | 0 | 36 | 1 |  8 |  6 | 3 | 2 | TRUE  |\n",
       "| 15 | 1 | 0 | 66 | 6 |  7 |  8 | 2 | 2 | FALSE |\n",
       "| 16 | 1 | 0 | 63 | 3 |  4 | 10 | 1 | 1 | TRUE  |\n",
       "| 17 | 0 | 1 | 36 | 3 | 12 | 11 | 5 | 1 | TRUE  |\n",
       "| 20 | 0 | 0 | 35 | 5 | 12 | 14 | 1 | 2 | FALSE |\n",
       "| 24 | 1 | 0 | 27 | 6 | 12 | 16 | 1 | 2 | FALSE |\n",
       "| 26 | 1 | 0 | 67 | 4 |  9 | 12 | 1 | 1 | FALSE |\n",
       "| 27 | 1 | 0 | 52 | 6 | 12 | 11 | 1 | 2 | FALSE |\n",
       "| 28 | 0 | 0 | 20 | 4 | 12 | 14 | 5 | 1 | FALSE |\n",
       "| 29 | 1 | 1 | 29 | 4 | 11 | 12 | 1 | 1 | FALSE |\n",
       "| 31 | 0 | 1 | 30 | 5 | 11 | 16 | 4 | 2 | FALSE |\n",
       "| 32 | 0 | 1 | 34 | 3 | 12 | 12 | 1 | 2 | TRUE  |\n",
       "| 33 | 0 | 1 | 46 | 6 | 12 | 14 | 1 | 2 | FALSE |\n",
       "| 34 | 0 | 0 | 36 | 4 |  5 | 13 | 5 | 2 | FALSE |\n",
       "| 35 | 0 | 0 | 22 | 5 | 12 | 12 | 1 | 2 | FALSE |\n",
       "| 36 | 0 | 1 | 22 | 3 | 12 | 15 | 5 | 1 | TRUE  |\n",
       "| 38 | 0 | 1 | 57 | 4 | 12 | 12 | 1 | 1 | FALSE |\n",
       "| 39 | 0 | 1 | 40 | 5 | 12 | 18 | 1 | 2 | FALSE |\n",
       "| 40 | 0 | 1 | 58 | 4 | 12 | 12 | 2 | 2 | FALSE |\n",
       "| 41 | 1 | 1 | 27 | 6 | 12 | 18 | 1 | 1 | FALSE |\n",
       "| ⋮ | ⋮ | ⋮ | ⋮ | ⋮ | ⋮ | ⋮ | ⋮ | ⋮ | ⋮ |\n",
       "| 36471 | 0 | 1 | 53 | 7 | 11 | 14 | 3 | 2 | FALSE |\n",
       "| 36472 | 0 | 0 | 50 | 2 | 12 | 18 | 3 | 2 | TRUE  |\n",
       "| 36473 | 0 | 0 | 71 | 4 |  2 |  6 | 2 | 1 | FALSE |\n",
       "| 36474 | 0 | 1 | 19 | 5 | 12 | 11 | 5 | 1 | FALSE |\n",
       "| 36475 | 1 | 0 | 19 | 2 |  9 | 12 | 1 | 1 | TRUE  |\n",
       "| 36476 | 0 | 0 | 44 | 3 | 12 | 14 | 3 | 1 | TRUE  |\n",
       "| 36477 | 0 | 1 | 76 | 6 | 12 | 12 | 1 | 2 | FALSE |\n",
       "| 36478 | 1 | 0 | 70 | 4 | 12 | 12 | 1 | 1 | FALSE |\n",
       "| 36479 | 0 | 0 | 30 | 7 | 11 |  9 | 1 | 1 | FALSE |\n",
       "| 36481 | 0 | 0 | 42 | 4 |  9 | 12 | 5 | 2 | FALSE |\n",
       "| 36482 | 0 | 1 | 25 | 4 |  6 | 15 | 5 | 1 | FALSE |\n",
       "| 36483 | 0 | 0 | 62 | 4 | 11 |  7 | 3 | 2 | FALSE |\n",
       "| 36484 | 0 | 1 | 65 | 5 |  7 | 16 | 3 | 1 | FALSE |\n",
       "| 36485 | 0 | 1 | 49 | 4 | 11 | 10 | 3 | 2 | FALSE |\n",
       "| 36486 | 0 | 1 | 69 | 3 | 12 | 12 | 1 | 2 | TRUE  |\n",
       "| 36487 | 0 | 1 | 43 | 4 | 12 | 15 | 4 | 2 | FALSE |\n",
       "| 36488 | 1 | 0 | 36 | 6 | 12 | 11 | 1 | 1 | FALSE |\n",
       "| 36489 | 0 | 1 | 34 | 3 |  9 | 10 | 5 | 1 | TRUE  |\n",
       "| 36490 | 0 | 0 | 43 | 1 |  9 | 16 | 3 | 2 | TRUE  |\n",
       "| 36491 | 0 | 1 | 48 | 4 | 12 | 12 | 1 | 2 | FALSE |\n",
       "| 36492 | 0 | 1 | 23 | 4 | 12 | 12 | 1 | 1 | FALSE |\n",
       "| 36493 | 1 | 0 | 67 | 5 | 12 | 12 | 1 | 2 | FALSE |\n",
       "| 36494 | 0 | 1 | 21 | 5 | 12 | 12 | 5 | 2 | FALSE |\n",
       "| 36495 | 1 | 0 | 70 | 4 |  9 | 11 | 1 | 1 | FALSE |\n",
       "| 36496 | 1 | 1 | 63 | 4 | 12 | 12 | 3 | 1 | FALSE |\n",
       "| 36497 | 0 | 0 | 62 | 5 | 12 | 16 | 1 | 1 | FALSE |\n",
       "| 36498 | 1 | 0 | 66 | 7 |  9 | 12 | 2 | 2 | FALSE |\n",
       "| 36499 | 0 | 1 | 54 | 3 | 11 | 12 | 4 | 2 | TRUE  |\n",
       "| 36500 | 0 | 0 | 57 | 3 |  6 | 16 | 3 | 2 | TRUE  |\n",
       "| 36501 | 1 | 0 | 30 | 4 | 12 | 14 | 5 | 1 | FALSE |\n",
       "\n"
      ],
      "text/plain": [
       "      X     y w age polviews income educ marital sex conservative\n",
       "1      1    0 0 28  4        11     14   5       1   FALSE       \n",
       "2      2    1 0 54  6        12     16   2       2   FALSE       \n",
       "3      3    1 0 44  2        12     16   5       2   TRUE        \n",
       "4      6    0 0 47  1         5     10   4       1   TRUE        \n",
       "5      7    0 1 19  4         9     10   5       2   FALSE       \n",
       "6      8    0 0 36  2         8     18   1       1   TRUE        \n",
       "7      9    0 0 27  2         8     17   5       2   TRUE        \n",
       "8     10    1 1 51  5        11     18   3       1   FALSE       \n",
       "9     11    1 0 24  4        12     12   5       2   FALSE       \n",
       "10    13    0 1 25  1         9     11   5       1   TRUE        \n",
       "11    14    0 0 36  1         8      6   3       2   TRUE        \n",
       "12    15    1 0 66  6         7      8   2       2   FALSE       \n",
       "13    16    1 0 63  3         4     10   1       1   TRUE        \n",
       "14    17    0 1 36  3        12     11   5       1   TRUE        \n",
       "15    20    0 0 35  5        12     14   1       2   FALSE       \n",
       "16    24    1 0 27  6        12     16   1       2   FALSE       \n",
       "17    26    1 0 67  4         9     12   1       1   FALSE       \n",
       "18    27    1 0 52  6        12     11   1       2   FALSE       \n",
       "19    28    0 0 20  4        12     14   5       1   FALSE       \n",
       "20    29    1 1 29  4        11     12   1       1   FALSE       \n",
       "21    31    0 1 30  5        11     16   4       2   FALSE       \n",
       "22    32    0 1 34  3        12     12   1       2   TRUE        \n",
       "23    33    0 1 46  6        12     14   1       2   FALSE       \n",
       "24    34    0 0 36  4         5     13   5       2   FALSE       \n",
       "25    35    0 0 22  5        12     12   1       2   FALSE       \n",
       "26    36    0 1 22  3        12     15   5       1   TRUE        \n",
       "27    38    0 1 57  4        12     12   1       1   FALSE       \n",
       "28    39    0 1 40  5        12     18   1       2   FALSE       \n",
       "29    40    0 1 58  4        12     12   2       2   FALSE       \n",
       "30    41    1 1 27  6        12     18   1       1   FALSE       \n",
       "⋮     ⋮     ⋮ ⋮ ⋮   ⋮        ⋮      ⋮    ⋮       ⋮   ⋮           \n",
       "28624 36471 0 1 53  7        11     14   3       2   FALSE       \n",
       "28625 36472 0 0 50  2        12     18   3       2   TRUE        \n",
       "28626 36473 0 0 71  4         2      6   2       1   FALSE       \n",
       "28627 36474 0 1 19  5        12     11   5       1   FALSE       \n",
       "28628 36475 1 0 19  2         9     12   1       1   TRUE        \n",
       "28629 36476 0 0 44  3        12     14   3       1   TRUE        \n",
       "28630 36477 0 1 76  6        12     12   1       2   FALSE       \n",
       "28631 36478 1 0 70  4        12     12   1       1   FALSE       \n",
       "28632 36479 0 0 30  7        11      9   1       1   FALSE       \n",
       "28633 36481 0 0 42  4         9     12   5       2   FALSE       \n",
       "28634 36482 0 1 25  4         6     15   5       1   FALSE       \n",
       "28635 36483 0 0 62  4        11      7   3       2   FALSE       \n",
       "28636 36484 0 1 65  5         7     16   3       1   FALSE       \n",
       "28637 36485 0 1 49  4        11     10   3       2   FALSE       \n",
       "28638 36486 0 1 69  3        12     12   1       2   TRUE        \n",
       "28639 36487 0 1 43  4        12     15   4       2   FALSE       \n",
       "28640 36488 1 0 36  6        12     11   1       1   FALSE       \n",
       "28641 36489 0 1 34  3         9     10   5       1   TRUE        \n",
       "28642 36490 0 0 43  1         9     16   3       2   TRUE        \n",
       "28643 36491 0 1 48  4        12     12   1       2   FALSE       \n",
       "28644 36492 0 1 23  4        12     12   1       1   FALSE       \n",
       "28645 36493 1 0 67  5        12     12   1       2   FALSE       \n",
       "28646 36494 0 1 21  5        12     12   5       2   FALSE       \n",
       "28647 36495 1 0 70  4         9     11   1       1   FALSE       \n",
       "28648 36496 1 1 63  4        12     12   3       1   FALSE       \n",
       "28649 36497 0 0 62  5        12     16   1       1   FALSE       \n",
       "28650 36498 1 0 66  7         9     12   2       2   FALSE       \n",
       "28651 36499 0 1 54  3        11     12   4       2   TRUE        \n",
       "28652 36500 0 0 57  3         6     16   3       2   TRUE        \n",
       "28653 36501 1 0 30  4        12     14   5       1   FALSE       "
      ]
     },
     "metadata": {},
     "output_type": "display_data"
    }
   ],
   "source": [
    "data"
   ]
  },
  {
   "cell_type": "code",
   "execution_count": 52,
   "id": "598b4225",
   "metadata": {},
   "outputs": [],
   "source": [
    "# Dividing data into three subsets\n",
    "indices <- split(seq(nrow(data)), sort(seq(nrow(data)) %% 3))\n",
    "names(indices) <- c('split', 'est', 'test')"
   ]
  },
  {
   "cell_type": "code",
   "execution_count": 53,
   "id": "f7e2c46c",
   "metadata": {},
   "outputs": [
    {
     "data": {
      "text/html": [
       "<style>\n",
       ".list-inline {list-style: none; margin:0; padding: 0}\n",
       ".list-inline>li {display: inline-block}\n",
       ".list-inline>li:not(:last-child)::after {content: \"\\00b7\"; padding: 0 .5ex}\n",
       "</style>\n",
       "<ol class=list-inline><li>28653</li><li>10</li></ol>\n"
      ],
      "text/latex": [
       "\\begin{enumerate*}\n",
       "\\item 28653\n",
       "\\item 10\n",
       "\\end{enumerate*}\n"
      ],
      "text/markdown": [
       "1. 28653\n",
       "2. 10\n",
       "\n",
       "\n"
      ],
      "text/plain": [
       "[1] 28653    10"
      ]
     },
     "metadata": {},
     "output_type": "display_data"
    }
   ],
   "source": [
    "dim(data)"
   ]
  },
  {
   "cell_type": "code",
   "execution_count": 54,
   "id": "52b4b487",
   "metadata": {},
   "outputs": [
    {
     "data": {
      "text/html": [
       "<style>\n",
       ".list-inline {list-style: none; margin:0; padding: 0}\n",
       ".list-inline>li {display: inline-block}\n",
       ".list-inline>li:not(:last-child)::after {content: \"\\00b7\"; padding: 0 .5ex}\n",
       "</style>\n",
       "<ol class=list-inline><li>9551</li><li>10</li></ol>\n"
      ],
      "text/latex": [
       "\\begin{enumerate*}\n",
       "\\item 9551\n",
       "\\item 10\n",
       "\\end{enumerate*}\n"
      ],
      "text/markdown": [
       "1. 9551\n",
       "2. 10\n",
       "\n",
       "\n"
      ],
      "text/plain": [
       "[1] 9551   10"
      ]
     },
     "metadata": {},
     "output_type": "display_data"
    }
   ],
   "source": [
    "dim(data[indices$est,])"
   ]
  },
  {
   "cell_type": "code",
   "execution_count": null,
   "id": "d29a528e",
   "metadata": {},
   "outputs": [],
   "source": [
    "# Fitting the forest\n",
    "ct.unpruned <- honest.causalTree(\n",
    "  formula=fmla,            # Define the model\n",
    "  data=data[indices$split,],\n",
    "  treatment=data[indices$split, treatment],\n",
    "  est_data=data[indices$est,],\n",
    "  est_treatment=data[indices$est, treatment],\n",
    "  minsize=1,                 # Min. number of treatment and control cases in each leaf\n",
    "  HonestSampleSize=length(indices$est), #  Num obs used in estimation after splitting\n",
    "  \n",
    "  # We recommend not changing the parameters below\n",
    "  split.Rule=\"CT\",            # Define the splitting option\n",
    "  cv.option=\"TOT\",            # Cross validation options\n",
    "  cp=0,                       # Complexity parameter\n",
    "  split.Honest=TRUE,          # Use honesty when splitting\n",
    "  cv.Honest=TRUE              # Use honesty when performing cross-validation\n",
    ")\n",
    "\n",
    "\n"
   ]
  },
  {
   "cell_type": "code",
   "execution_count": null,
   "id": "9aa2a0d6",
   "metadata": {},
   "outputs": [],
   "source": [
    "# Table of cross-validated values by tuning parameter.\n",
    "\n",
    "ct.cptable <- as.data.frame(ct.unpruned$cptable)"
   ]
  },
  {
   "cell_type": "code",
   "execution_count": null,
   "id": "b841dcef",
   "metadata": {},
   "outputs": [],
   "source": [
    "# Obtain optimal complexity parameter to prune tree.\n",
    "cp.selected <- which.min(ct.cptable$xerror)"
   ]
  },
  {
   "cell_type": "code",
   "execution_count": null,
   "id": "51ea6209",
   "metadata": {},
   "outputs": [],
   "source": [
    "cp.optimal <- ct.cptable[cp.selected, \"CP\"]\n",
    "\n",
    "# Prune the tree at optimal complexity parameter.\n",
    "ct.pruned <- prune(tree=ct.unpruned, cp=cp.optimal)"
   ]
  },
  {
   "cell_type": "code",
   "execution_count": null,
   "id": "891d0cb2",
   "metadata": {},
   "outputs": [],
   "source": [
    "# Predict point estimates (on estimation sample)\n",
    "tau.hat.est <- predict(ct.pruned, newdata=data[indices$est,])\n",
    "\n",
    "# Create a factor column 'leaf' indicating leaf assignment in the estimation set\n",
    "num.leaves <- length(unique(tau.hat.est))\n",
    "leaf <- factor(tau.hat.est, levels=sort(unique(tau.hat.est)), labels = seq(num.leaves))"
   ]
  },
  {
   "cell_type": "code",
   "execution_count": null,
   "id": "02a98420",
   "metadata": {},
   "outputs": [],
   "source": [
    "unique(tau.hat.est)"
   ]
  },
  {
   "cell_type": "code",
   "execution_count": null,
   "id": "2facf69e",
   "metadata": {},
   "outputs": [],
   "source": [
    "num.leaves"
   ]
  },
  {
   "cell_type": "markdown",
   "id": "579d80b4",
   "metadata": {},
   "source": [
    "Note: if your tree is not splitting at all, try decreasing the parameter `minsize` that controls the minimum size of each leaf. The next snippet plots the learned tree. The values in the cell are the estimated treatment effect and an estimate of the fraction of the population that falls within each leaf. Both are estimated using the `estimation` sample."
   ]
  },
  {
   "cell_type": "code",
   "execution_count": null,
   "id": "7d3c6dc3",
   "metadata": {},
   "outputs": [],
   "source": [
    "rpart.plot(\n",
    "  x=ct.pruned,        # Pruned tree\n",
    "  type=3,             # Draw separate split labels for the left and right directions\n",
    "  fallen=TRUE,        # Position the leaf nodes at the bottom of the graph\n",
    "  leaf.round=1,       # Rounding of the corners of the leaf node boxes\n",
    "  extra=100,          # Display the percentage of observations in the node\n",
    "  branch=.1,          # Shape of the branch lines\n",
    "  box.palette=\"RdBu\") # Palette for coloring the node"
   ]
  },
  {
   "cell_type": "markdown",
   "id": "266dd53b",
   "metadata": {},
   "source": [
    "<font size=1>\n",
    "Interpret the heatmap above. What describes the subgroups with strongest and weakest estimated treatment effect?\n",
    "</font>\n",
    "\n",
    "\n",
    "### Via grf\n",
    "\n",
    "The function `causal_forest` from the package `grf` allows us to get estimates of the CATE \\@ref(eq:cate). "
   ]
  },
  {
   "cell_type": "code",
   "execution_count": null,
   "id": "edc48615",
   "metadata": {},
   "outputs": [],
   "source": [
    "# Get predictions from forest fitted above.\n",
    "tau.hat <- predict(forest.tau)$predictions  # tau(X) estimates"
   ]
  },
  {
   "cell_type": "markdown",
   "id": "dfbde9a1",
   "metadata": {},
   "source": [
    "Having fit a non-parametric method such as a causal forest, a researcher may (incorrectly) start by looking at the distribution of its predictions of the treatment effect. One might be tempted to think: \"if the histogram is concentrated at a point, then there is no heterogeneity; if the histogram is spread out, then our estimator has found interesting heterogeneity.\" However, this may be false."
   ]
  },
  {
   "cell_type": "code",
   "execution_count": null,
   "id": "d399abda",
   "metadata": {},
   "outputs": [],
   "source": [
    "# Do not use this for assessing heterogeneity. See text above.\n",
    "hist(tau.hat, main=\"CATE estimates\", freq=F)"
   ]
  },
  {
   "cell_type": "markdown",
   "id": "f2e426c8",
   "metadata": {},
   "source": [
    "If the histogram is concentrated at a point, we may simply be underpowered: our method was not able to detect any heterogeneity, but maybe it would detect it if we had more data. If the histogram is spread out, we may be overfitting: our model is producing very noisy estimates $\\widehat{\\tau}(x)$, but in fact the true  $\\tau(x)$ can be much smoother as a function of $x$.\n",
    "\n",
    "The `grf` package also produces a measure of variable importance that indicates how often a variable was used in a tree split. Again, much like the histogram above, this can be a rough diagnostic, but it should not be interpreted as indicating that, for example, variable with low importance is not related to heterogeneity. The reasoning is the same as the one presented in the causal trees section: if two covariates are highly correlated, the trees might split on one covariate but not the other, even though both (or maybe neither) are relevant in the true data-generating process."
   ]
  },
  {
   "cell_type": "code",
   "execution_count": null,
   "id": "a678e91e",
   "metadata": {},
   "outputs": [],
   "source": [
    "var_imp <- c(variable_importance(forest.tau))\n",
    "names(var_imp) <- covariates\n",
    "sorted_var_imp <- sort(var_imp, decreasing = TRUE)\n",
    "sorted_var_imp[1:5]  # showing only first few"
   ]
  },
  {
   "cell_type": "markdown",
   "id": "657c34e9",
   "metadata": {},
   "source": [
    "#### Data-driven subgroups\n",
    "\n",
    "Just as with causal trees, we can use causal forests to divide our observations into subgroups. In place of leaves, we'll rank observation into (say) quintiles according to their estimated CATE prediction; see, e.g., [Chernozhukov, Demirer, Duflo, Fernández-Val (2020)](https://arxiv.org/abs/1712.04802) for similar ideas.\n",
    "\n",
    "There's a subtle but important point that needs to be addressed here. As we have mentioned before, when predicting the conditional average treatment effect $\\tau(X_i)$ for observation $i$ we should in general avoid using a model that was fitted using observation $i$. This sort of sample splitting (which we called **honesty** above) is one of the required ingredients to get unbiased estimates of the CATE using the methods described here. However, when ranking estimates of two observations $i$ and $j$, we need something a little stronger: we must ensure that the model was not fit using _either_ $i$ _or_ $j$'s data. \n",
    "\n",
    "One way of overcoming this obstacle is simple. First, divide the data into $K$ folds (subsets). Then, cycle through the folds, fitting a CATE model on $K-1$ folds. Next, for each held-out fold, _separately_ rank the unseen observations into $Q$ groups based on their prediction  (i.e., if $Q=5$, then we rank observations by estimated CATE into \"top quintile\", \"second quintile\", and so on). After concatenating the independent rankings together, we can study the differences in observations in each rank-group. \n",
    "\n",
    "[This gist](https://gist.github.com/halflearned/bea4e5137c0c81fd18a75f682da466c8) computes the above for `grf`, and it should not be hard to modify it so as to replace forests by any other non-parametric method. However, for `grf` specifically, there's a small trick that allows us to obtain a valid ranking: we can pass a vector of fold indices to the argument `clusters` and rank observations within each fold. This works because estimates for each fold (\"cluster\")   trees are computed using trees that were not fit using observations from that fold. Here's how to do it. \n"
   ]
  },
  {
   "cell_type": "code",
   "execution_count": null,
   "id": "7e03becd",
   "metadata": {},
   "outputs": [],
   "source": [
    "# Valid randomized data and observational data with unconfoundedness+overlap.\n",
    "# Note: read the comments below carefully. \n",
    "# In randomized settings, do not estimate forest.e and e.hat; use known assignment probs.\n",
    "\n",
    "# Prepare dataset\n",
    "fmla <- formula(paste0(\"~ 0 + \", paste0(covariates, collapse=\"+\")))\n",
    "X <- model.matrix(fmla, data)\n",
    "W <- data[,treatment]\n",
    "Y <- data[,outcome]\n",
    "\n",
    "# Number of rankings that the predictions will be ranking on \n",
    "# (e.g., 2 for above/below median estimated CATE, 5 for estimated CATE quintiles, etc.)\n",
    "num.rankings <- 5  \n",
    "\n",
    "# Prepare for data.splitting\n",
    "# Assign a fold number to each observation.\n",
    "# The argument 'clusters' in the next step will mimick K-fold cross-fitting.\n",
    "num.folds <- 10\n",
    "folds <- sort(seq(n) %% num.folds) + 1\n",
    "\n",
    "# Comment or uncomment depending on your setting.\n",
    "# Observational setting with unconfoundedness+overlap (unknown assignment probs):\n",
    "# forest <- causal_forest(X, Y, W, clusters = folds)\n",
    "# Randomized settings with fixed and known probabilities (here: 0.5).\n",
    "forest <- causal_forest(X, Y, W, W.hat=.5, clusters = folds)\n",
    "\n",
    "# Retrieve out-of-bag predictions.\n",
    "# Predictions for observation in fold k will be computed using \n",
    "# trees that were not trained using observations for that fold.\n",
    "tau.hat <- predict(forest)$predictions\n",
    "\n",
    "# Rank observations *within each fold* into quintiles according to their CATE predictions.\n",
    "ranking <- rep(NA, n)\n",
    "for (fold in seq(num.folds)) {\n",
    "  tau.hat.quantiles <- quantile(tau.hat[folds == fold], probs = seq(0, 1, by=1/num.rankings))\n",
    "  ranking[folds == fold] <- cut(tau.hat[folds == fold], tau.hat.quantiles, include.lowest=TRUE,labels=seq(num.rankings))\n",
    "}"
   ]
  },
  {
   "cell_type": "markdown",
   "id": "b7b5fbfb",
   "metadata": {},
   "source": [
    "The next snippet computes the average treatment effect within each group defined above, i.e., $\\E[Y_i(1) - Y_i(0)|G_i = g]$. This can done in two ways. First, by computing a simple difference-in-means estimate of the ATE based on observations within each group. This is valid only in randomized settings."
   ]
  },
  {
   "cell_type": "code",
   "execution_count": null,
   "id": "44f00aa9",
   "metadata": {
    "scrolled": true
   },
   "outputs": [],
   "source": [
    "# Valid only in randomized settings.\n",
    "# Average difference-in-means within each ranking\n",
    "\n",
    "# Formula y ~ 0 + ranking + ranking:w\n",
    "fmla <- paste0(outcome, \" ~ 0 + ranking + ranking:\", treatment)\n",
    "ols.ate <- lm(fmla, data=transform(data, ranking=factor(ranking)))\n",
    "ols.ate <- coeftest(ols.ate, vcov=vcovHC(ols.ate, type='HC2'))\n",
    "interact <- which(grepl(\":\", rownames(ols.ate)))\n",
    "ols.ate <- data.frame(\"ols\", paste0(\"Q\", seq(num.rankings)), ols.ate[interact, 1:2])\n",
    "rownames(ols.ate) <- NULL # just for display\n",
    "colnames(ols.ate) <- c(\"method\", \"ranking\", \"estimate\", \"std.err\")\n",
    "ols.ate"
   ]
  },
  {
   "cell_type": "markdown",
   "id": "8456eabc",
   "metadata": {},
   "source": [
    "Another option is to average the AIPW scores within each group. This valid for both randomized settings and observational settings with unconfoundedness and overlap. Moreover, AIPW-based estimators should produce estimates with tighter confidence intervals in large samples."
   ]
  },
  {
   "cell_type": "code",
   "execution_count": null,
   "id": "0762ad48",
   "metadata": {},
   "outputs": [],
   "source": [
    "# Computing AIPW scores.\n",
    "tau.hat <- predict(forest)$predictions\n",
    "e.hat <- forest$W.hat # P[W=1|X]\n",
    "m.hat <- forest$Y.hat # E[Y|X]\n",
    "\n",
    "# Estimating mu.hat(X, 1) and mu.hat(X, 0) for obs in held-out sample\n",
    "# Note: to understand this, read equations 6-8 in this vignette:\n",
    "# https://grf-labs.github.io/grf/articles/muhats.html\n",
    "mu.hat.0 <- m.hat - e.hat * tau.hat        # E[Y|X,W=0] = E[Y|X] - e(X)*tau(X)\n",
    "mu.hat.1 <- m.hat + (1 - e.hat) * tau.hat  # E[Y|X,W=1] = E[Y|X] + (1 - e(X))*tau(X)\n",
    "\n",
    "# AIPW scores\n",
    "aipw.scores <- tau.hat + W / e.hat * (Y -  mu.hat.1) - (1 - W) / (1 - e.hat) * (Y -  mu.hat.0)\n",
    "ols <- lm(aipw.scores ~ 0 + factor(ranking))\n",
    "forest.ate <- data.frame(\"aipw\", paste0(\"Q\", seq(num.rankings)), coeftest(ols, vcov=vcovHC(ols, \"HC2\"))[,1:2])\n",
    "colnames(forest.ate) <- c(\"method\", \"ranking\", \"estimate\", \"std.err\")\n",
    "rownames(forest.ate) <- NULL # just for display\n",
    "forest.ate"
   ]
  },
  {
   "cell_type": "markdown",
   "id": "54214c8a",
   "metadata": {},
   "source": [
    "The code below plots the estimates."
   ]
  },
  {
   "cell_type": "code",
   "execution_count": null,
   "id": "18043342",
   "metadata": {
    "scrolled": true
   },
   "outputs": [],
   "source": [
    "# Concatenate the two results.\n",
    "res <- rbind(forest.ate, ols.ate)\n",
    "\n",
    "# Plotting the point estimate of average treatment effect \n",
    "# and 95% confidence intervals around it.\n",
    "ggplot(res) +\n",
    "  aes(x = ranking, y = estimate, group=method, color=method) + \n",
    "  geom_point(position=position_dodge(0.2)) +\n",
    "  geom_errorbar(aes(ymin=estimate-2*std.err, ymax=estimate+2*std.err), width=.2, position=position_dodge(0.2)) +\n",
    "  ylab(\"\") + xlab(\"\") +\n",
    "  ggtitle(\"Average CATE within each ranking (as defined by predicted CATE)\") +\n",
    "  theme_minimal() +\n",
    "  theme(legend.position=\"bottom\", legend.title = element_blank())"
   ]
  },
  {
   "cell_type": "markdown",
   "id": "f341d6c0",
   "metadata": {},
   "source": [
    "When there isn't much detectable heterogeneity, the plot above can end up being non-monotonic. This can mean that the number of observations is too small for us to be able to detect subgroups with relevant differences in treatment effect.\n",
    "\n",
    "<font size=1>\n",
    "As an exercise, try running the previous two snippets on few data points (e.g., the first thousand observations only). You will likely see the \"non-monotonicity\" phenomenon just described.\n",
    "</font>\n",
    "\n",
    "Next, as we did for leaves in a causal tree, we can test e.g., if the prediction for groups 2, 3, etc. are larger than the one in the first group. Here's how to do it based on a difference-in-means estimator. Note the Romano-Wolf multiple-hypothesis testing correction."
   ]
  },
  {
   "cell_type": "code",
   "execution_count": null,
   "id": "e4cf29ba",
   "metadata": {},
   "outputs": [],
   "source": [
    "# Valid in randomized settings only.\n",
    "\n",
    "# y ~ ranking + w + ranking:w\n",
    "fmla <- paste0(outcome, \"~ ranking + \", treatment, \" + ranking:\", treatment) \n",
    "ols <- lm(fmla, data=transform(data, ranking=factor(ranking)))\n",
    "interact <- which(sapply(names(coef(ols)), function(x) grepl(\":\", x)))\n",
    "res <- summary_rw_lm(ols, indices=interact)\n",
    "rownames(res) <- paste(\"Rank\", 2:num.rankings, \"- Rank 1\") # just for display\n",
    "res"
   ]
  },
  {
   "cell_type": "markdown",
   "id": "59c503bb",
   "metadata": {},
   "source": [
    "Here's how to do it for AIPW-based estimates, again with Romano-Wolf correction for multiple hypothesis testing. "
   ]
  },
  {
   "cell_type": "code",
   "execution_count": null,
   "id": "3475950c",
   "metadata": {},
   "outputs": [],
   "source": [
    "# Valid in randomized and observational settings with unconfoundedness+overlap.\n",
    "\n",
    "# Using AIPW scores computed above\n",
    "ols <- lm(aipw.scores ~ 1 + factor(ranking))\n",
    "res <- summary_rw_lm(ols, indices=2:num.rankings)\n",
    "rownames(res) <- paste(\"Rank\", 2:num.rankings, \"- Rank 1\") # just for display\n",
    "res"
   ]
  },
  {
   "cell_type": "markdown",
   "id": "99c1f110",
   "metadata": {},
   "source": [
    "Finally, we can also check if different groups have different average covariate levels across rankings. "
   ]
  },
  {
   "cell_type": "code",
   "execution_count": null,
   "id": "204b1f16",
   "metadata": {},
   "outputs": [],
   "source": [
    "df <- mapply(function(covariate) {\n",
    "      # Looping over covariate names\n",
    "      # Compute average covariate value per ranking (with correct standard errors)\n",
    "      fmla <- formula(paste0(covariate, \"~ 0 + ranking\"))\n",
    "      ols <- lm(fmla, data=transform(data, ranking=factor(ranking)))\n",
    "      ols.res <- coeftest(ols, vcov=vcovHC(ols, \"HC2\"))\n",
    "    \n",
    "      # Retrieve results\n",
    "      avg <- ols.res[,1]\n",
    "      stderr <- ols.res[,2]\n",
    "      \n",
    "      # Tally up results\n",
    "      data.frame(covariate, avg, stderr, ranking=paste0(\"Q\", seq(num.rankings)), \n",
    "                 # Used for coloring\n",
    "                 scaling=pnorm((avg - mean(avg))/sd(avg)), \n",
    "                 # We will order based on how much variation is 'explain' by the averages\n",
    "                 # relative to the total variation of the covariate in the data\n",
    "                 variation=sd(avg) / sd(data[,covariate]),\n",
    "                 # String to print in each cell in heatmap below\n",
    "                 labels=paste0(signif(avg, 3), \"\\n\", \"(\", signif(stderr, 3), \")\"))\n",
    "}, covariates, SIMPLIFY = FALSE)\n",
    "df <- do.call(rbind, df)\n",
    "\n",
    "# a small optional trick to ensure heatmap will be in decreasing order of 'variation'\n",
    "df$covariate <- reorder(df$covariate, order(df$variation))\n",
    "\n",
    "# plot heatmap\n",
    "ggplot(df) +\n",
    "    aes(ranking, covariate) +\n",
    "    geom_tile(aes(fill = scaling)) + \n",
    "    geom_text(aes(label = labels)) +\n",
    "    scale_fill_gradient(low = \"#E1BE6A\", high = \"#40B0A6\") +\n",
    "    ggtitle(paste0(\"Average covariate values within group (based on CATE estimate ranking)\")) +\n",
    "    theme_minimal() + \n",
    "    ylab(\"\") + xlab(\"CATE estimate ranking\") +\n",
    "    theme(plot.title = element_text(size = 11, face = \"bold\"),\n",
    "          axis.text=element_text(size=11)) "
   ]
  },
  {
   "cell_type": "markdown",
   "id": "984574a0",
   "metadata": {},
   "source": [
    "<font size=1>\n",
    "Interpret the heatmap above. What describes the subgroups with strongest and weakest estimated treatment effect? Are there variables that seem to increase or decrease monotonically across rankings?\n",
    "</font>"
   ]
  },
  {
   "cell_type": "markdown",
   "id": "721c6198",
   "metadata": {},
   "source": [
    "#### Best linear projection\n",
    "\n",
    "This function provides a doubly robust fit to the linear model $\\widehat{\\tau}(X_i) = \\beta_0 + A_i'\\beta_1$, where $A_i$ can be a subset of the covariate columns. The coefficients in this regression are suggestive of general trends, but they should not be interpret as partial effects -- that would only be true if the true model were really linear in covariates, and that's an assumption we shouldn't be willing to make in general."
   ]
  },
  {
   "cell_type": "code",
   "execution_count": null,
   "id": "d5b691cd",
   "metadata": {},
   "outputs": [],
   "source": [
    "# Best linear projection of the conditional average treatment effect on covariates\n",
    "best_linear_projection(forest.tau, X)"
   ]
  },
  {
   "cell_type": "markdown",
   "id": "680e62e1",
   "metadata": {},
   "source": [
    "#### Assessing heterogeneity\n",
    "\n",
    "The function `test_calibration` computes an estimate of the best linear predictor of true CATE based on out-of-bag predictions $\\hat{\\tau}^{-i}(\\cdot)$. The exact implementation seeks to fit the following linear model:\n",
    "\\begin{equation}\n",
    "Y_{i} - \\hat{m}^{-i}(X_{i}) = \\alpha\\bar{\\tau}\\left(W_{i} - \\hat{e}^{-i}(X_{i})\\right) + \\beta \\left(\\hat{\\tau}^{-i}(X_{i}) - \\bar{\\tau} \\right) \\left(W_{i} - \\hat{e}^{-i}(X_{i}) \\right) + \\epsilon,\n",
    "\\end{equation}\n",
    "\n",
    "where $\\bar{\\tau} := n^{-1}\\sum_{i=1}^{n} \\hat{\\tau}^{-i}(X_{i})$. The coefficients $\\alpha$ and $\\beta$ allow us to evaluate the performance of our estimates. If $\\alpha = 1$, then the average prediction produced by the forest is correct. Meanwhile, if $\\beta = 1$, then the forest predictions adequately capture the underlying heterogeneity.\n",
    "\n",
    "The slope $\\beta$ is a measure of how the CATE predictions covary with true CATE. Therefore, the p-value on the estimate of coefficient also acts as an omnibus test for the presence of heterogeneity. If the coefficient is significantly greater than zero, then we can reject the null of no heterogeneity. However, coefficients smaller than 0 are not meaningful and show not be interpreted."
   ]
  },
  {
   "cell_type": "code",
   "execution_count": null,
   "id": "68b0257a",
   "metadata": {},
   "outputs": [],
   "source": [
    "test_calibration(forest.tau)"
   ]
  },
  {
   "cell_type": "markdown",
   "id": "8be7c2f6",
   "metadata": {},
   "source": [
    "<font size=1>\n",
    "Interpret the test above. Is the forest producing correct estimate of the average treatment effect? Is it capturing the underlying heterogeneity?\n",
    "</font>"
   ]
  },
  {
   "cell_type": "markdown",
   "id": "2e8e0faf",
   "metadata": {},
   "source": [
    "#### Partial dependence\n",
    "\n",
    "It may also be interesting to examine how our CATE estimates behave when we change a single covariate, while keeping all the other covariates at a some fixed value. In the plot below we evaluate a variable of interest across quantiles, while keeping all other covariates at their median. \n",
    "\n",
    "It is important to recognize that by keeping some variables at their median we may be evaluating the CATE at $x$ values in regions where there are few or no data points. Also, it may be the case that varying some particular variable while keeping others fixed may just not be very interesting.\n",
    "\n",
    "In what follows we'll again use `causal_forest` predictions, along with their variance estimates (set `estimate.variances=TRUE` when predicting to we get estimates of the asymptotic variance of the prediction for each point). Since `grf` predictions are asymptotically normal, we can construct 95\\% confidence intervals in the usual manner (i.e., $\\hat{\\tau}(x) \\pm 1.96\\sqrt{\\widehat{\\text{Var}}(\\hat{\\tau}(x))}$)."
   ]
  },
  {
   "cell_type": "code",
   "execution_count": null,
   "id": "2fd9332f",
   "metadata": {},
   "outputs": [],
   "source": [
    "selected.covariate <- \"polviews\"\n",
    "other.covariates <- covariates[which(covariates != selected.covariate)]\n",
    "\n",
    "# Fitting a forest \n",
    "# (commented for convenience; no need re-fit if already fitted above)\n",
    "fmla <- formula(paste0(\"~ 0 + \", paste0(covariates, collapse=\"+\")))\n",
    "# Note: For smaller confidence intervals, set num.trees ~ sample size\n",
    "# X <- model.matrix(fmla, data)\n",
    "# W <- data[,treatment]\n",
    "# Y <- data[,outcome]\n",
    "# forest.tau <- causal_forest(X, Y, W, W.hat=.5)  # few trees for speed here\n",
    "\n",
    "# Compute a grid of values appropriate for the selected covariate\n",
    "grid.size <- 7 \n",
    "covariate.grid <- seq(min(data[,selected.covariate]), max(data[,selected.covariate]), length.out=grid.size)\n",
    "\n",
    "# Other options for constructing a grid:\n",
    "# For a binary variable, simply use 0 and 1\n",
    "# grid.size <- 2\n",
    "# covariate.grid <- c(0, 1)  \n",
    "\n",
    "# For a continuous variable, select appropriate percentiles\n",
    "# percentiles <- c(.1, .25, .5, .75, .9)\n",
    "# grid.size <- length(percentiles)\n",
    "# covariate.grid <- quantile(data[,selected.covariate], probs=percentiles)\n",
    "\n",
    "# Take median of other covariates \n",
    "medians <- apply(data[, other.covariates, F], 2, median)\n",
    "\n",
    "# Construct a dataset\n",
    "data.grid <- data.frame(sapply(medians, function(x) rep(x, grid.size)), covariate.grid)\n",
    "colnames(data.grid) <- c(other.covariates, selected.covariate)\n",
    "\n",
    "# Expand the data\n",
    "X.grid <- model.matrix(fmla, data.grid)\n",
    "\n",
    "# Point predictions of the CATE and standard errors \n",
    "forest.pred <- predict(forest.tau, newdata = X.grid, estimate.variance=TRUE)\n",
    "tau.hat <- forest.pred$predictions\n",
    "tau.hat.se <- sqrt(forest.pred$variance.estimates)\n",
    "\n",
    "# Plot predictions for each group and 95% confidence intervals around them.\n",
    "data.pred <- transform(data.grid, tau.hat=tau.hat, ci.low = tau.hat - 2*tau.hat.se, ci.high = tau.hat + 2*tau.hat.se)\n",
    "ggplot(data.pred) +\n",
    "  geom_line(aes_string(x=selected.covariate, y=\"tau.hat\", group = 1), color=\"black\") +\n",
    "  geom_errorbar(aes_string(x=selected.covariate, ymin=\"ci.low\", ymax=\"ci.high\", width=.2), color=\"blue\") +\n",
    "   ylab(\"\") +\n",
    "  ggtitle(paste0(\"Predicted treatment effect varying '\", selected.covariate, \"' (other variables fixed at median)\")) +\n",
    "  scale_x_continuous(\"polviews\", breaks=covariate.grid, labels=signif(covariate.grid, 2)) +\n",
    "  theme_minimal() +\n",
    "  theme(plot.title = element_text(size = 11, face = \"bold\")) "
   ]
  },
  {
   "cell_type": "markdown",
   "id": "233242d6",
   "metadata": {},
   "source": [
    "Note that, in this example, we got fairly large confidence intervals. This can be explained in two ways. First, as we mentioned above, there's a data scarcity problem. For example, even though the number of observations with `polviews` equal to `6` is not small,"
   ]
  },
  {
   "cell_type": "code",
   "execution_count": null,
   "id": "3b8e90a4",
   "metadata": {},
   "outputs": [],
   "source": [
    "with(data, mean(polviews == 6))"
   ]
  },
  {
   "cell_type": "markdown",
   "id": "1fa0a458",
   "metadata": {},
   "source": [
    "there's a much smaller fraction of individuals with `polviews` equal to `6` and (say) age close to the median age,"
   ]
  },
  {
   "cell_type": "code",
   "execution_count": null,
   "id": "b175466a",
   "metadata": {},
   "outputs": [],
   "source": [
    "mean(with(data, (polviews == 6) & (abs(age - median(age)) <= 3))) # at most 3 yrs away"
   ]
  },
  {
   "cell_type": "markdown",
   "id": "89c6984c",
   "metadata": {},
   "source": [
    "and an even smaller fraction of observations with `polviews` equal to `6` and every other variable close to the median. The second cause of wide confidence intervals is statistical. Since `grf` is a non-parametric model, we should expect fairly wide confidence intervals, especially in high-dimensional problems -- that is an unavoidable consequence of avoiding modeling assumptions. \n",
    "\n",
    "<font size=2>\n",
    "As documented in the original paper on generalized random forests ([Athey, Tibshirani and Wager, 2019](https://arxiv.org/abs/1610.01271)), the coverage of `grf` confidence intervals can drop if the signal is too dense or too complex relative to the number of observations. Also, to a point, it's possible to get tighter confidence intervals by increasing the number of trees; see this [short vignette](https://grf-labs.github.io/grf/articles/ci_and_num.trees.html) for more information. \n",
    "</font>\n",
    "\n",
    "We can vary more than one variable at a time. The next snippet shows predictions and standard errors varying two variables."
   ]
  },
  {
   "cell_type": "code",
   "execution_count": null,
   "id": "30815015",
   "metadata": {},
   "outputs": [],
   "source": [
    "x1 <- 'polviews'\n",
    "x2 <- 'age'\n",
    "selected.covariates <- c(x1, x2)\n",
    "other.covariates <- covariates[-which(covariates %in% selected.covariates)]\n",
    "\n",
    "# Compute a grid of values appropriate for the selected covariate\n",
    "# See other options for constructing grids in the snippet above.\n",
    "x1.grid.size <- 7\n",
    "x2.grid.size <- 5\n",
    "x1.grid <- seq(min(data[,x1]), max(data[,x1]), length.out=x1.grid.size)\n",
    "x2.grid <- seq(min(data[,x2]), max(data[,x2]), length.out=x2.grid.size)\n",
    "\n",
    "# Take median of other covariates \n",
    "medians <- apply(data[, other.covariates, F], 2, median)\n",
    "\n",
    "# Construct dataset\n",
    "data.grid <- data.frame(\n",
    "                sapply(medians, function(x) rep(x, grid.size)), \n",
    "                expand.grid(x1.grid, x2.grid))\n",
    "colnames(data.grid) <- c(other.covariates, selected.covariates)\n",
    "\n",
    "# Expand the data according to formula used to fit forest\n",
    "X.grid <- model.matrix(fmla, data.grid)\n",
    "\n",
    "# Forest-based point estimates of CATE and standard errors around them\n",
    "forest.pred <- predict(forest.tau, newdata = X.grid, estimate.variance=TRUE)\n",
    "tau.hat <- forest.pred$predictions\n",
    "tau.hat.se <- sqrt(forest.pred$variance.estimates)\n",
    "\n",
    "# A vector of labels for plotting below\n",
    "labels <- mapply(function(est, se) paste0(signif(est, 3), \"\\n\", \"(\", signif(se, 3), \")\"), tau.hat, tau.hat.se)\n",
    "df <- data.frame(X.grid, tau.hat, labels)\n",
    "\n",
    "# Plotting\n",
    "ggplot(df) +\n",
    "    aes(age, polviews) +\n",
    "    geom_tile(aes(fill = tau.hat)) + \n",
    "    geom_text(aes(label = labels)) +\n",
    "    scale_fill_gradient(low = \"blue\", high = \"orange\") +\n",
    "    scale_y_continuous(\"polviews\", breaks=x1.grid, labels=signif(x1.grid, 2)) +\n",
    "    scale_x_continuous(\"age\", breaks=x2.grid, labels=signif(x2.grid, 2)) +\n",
    "    ggtitle(paste0(\"Predicted treatment effect varying '\", x1, \"' and '\", x2, \"' (other variables fixed at median)\")) +\n",
    "    theme_minimal() +\n",
    "    theme(plot.title = element_text(size = 10, face = \"bold\")) "
   ]
  },
  {
   "cell_type": "markdown",
   "id": "83dc4bdc",
   "metadata": {},
   "source": [
    "## Further reading\n",
    "\n",
    "A readable summary of different method for hypothesis testing correction is laid out in the introduction to [Clarke, Romano and Wolf (2009)](http://ftp.iza.org/dp12845.pdf).\n",
    "\n",
    "[Athey and Wager (2019)](https://arxiv.org/abs/1902.07409) shows an application of causal forests to heterogeity analysis in a setting with clustering."
   ]
  }
 ],
 "metadata": {
  "kernelspec": {
   "display_name": "R",
   "language": "R",
   "name": "ir"
  },
  "language_info": {
   "codemirror_mode": "r",
   "file_extension": ".r",
   "mimetype": "text/x-r-source",
   "name": "R",
   "pygments_lexer": "r",
   "version": "4.2.0"
  }
 },
 "nbformat": 4,
 "nbformat_minor": 5
}
