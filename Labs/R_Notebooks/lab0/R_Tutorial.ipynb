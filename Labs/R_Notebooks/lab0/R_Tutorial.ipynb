{
 "cells": [
  {
   "cell_type": "markdown",
   "metadata": {},
   "source": [
    "# R Basic Tutorial"
   ]
  },
  {
   "cell_type": "markdown",
   "metadata": {},
   "source": [
    "## 1.0 Assignment\n",
    "Use `<-`, not `=`, for assignment.\n",
    "The symbol `=` is preferable for arguments in functions. Additionally, it can not be used in some syntax context. More information [here](https://stackoverflow.com/questions/1741820/what-are-the-differences-between-and-assignment-operators-in-r)."
   ]
  },
  {
   "cell_type": "code",
   "execution_count": 1,
   "metadata": {},
   "outputs": [],
   "source": [
    "a = 1\n",
    "b <- 1"
   ]
  },
  {
   "cell_type": "code",
   "execution_count": 2,
   "metadata": {},
   "outputs": [
    {
     "data": {
      "text/html": [
       "1"
      ],
      "text/latex": [
       "1"
      ],
      "text/markdown": [
       "1"
      ],
      "text/plain": [
       "[1] 1"
      ]
     },
     "metadata": {},
     "output_type": "display_data"
    }
   ],
   "source": [
    "b"
   ]
  },
  {
   "cell_type": "code",
   "execution_count": 3,
   "metadata": {},
   "outputs": [
    {
     "data": {
      "text/html": [
       "1"
      ],
      "text/latex": [
       "1"
      ],
      "text/markdown": [
       "1"
      ],
      "text/plain": [
       "[1] 1"
      ]
     },
     "metadata": {},
     "output_type": "display_data"
    }
   ],
   "source": [
    "b"
   ]
  },
  {
   "cell_type": "code",
   "execution_count": 4,
   "metadata": {},
   "outputs": [],
   "source": [
    "c <- b <- 11"
   ]
  },
  {
   "cell_type": "code",
   "execution_count": 5,
   "metadata": {},
   "outputs": [
    {
     "data": {
      "text/html": [
       "11"
      ],
      "text/latex": [
       "11"
      ],
      "text/markdown": [
       "11"
      ],
      "text/plain": [
       "[1] 11"
      ]
     },
     "metadata": {},
     "output_type": "display_data"
    }
   ],
   "source": [
    "c"
   ]
  },
  {
   "cell_type": "code",
   "execution_count": 6,
   "metadata": {},
   "outputs": [
    {
     "name": "stdout",
     "output_type": "stream",
     "text": [
      "[1] 11\n"
     ]
    }
   ],
   "source": [
    "c <- b <- 11\n",
    "print(c)"
   ]
  },
  {
   "cell_type": "markdown",
   "metadata": {},
   "source": [
    "## 2.0 Objects"
   ]
  },
  {
   "cell_type": "markdown",
   "metadata": {},
   "source": [
    "### Clases\n",
    "\n",
    "R is a functional programming language. It means that the programs are constructed by applying and composing functions. However, It can use Object Oriented Programming to construct tools for data analysis. Class is the blueprint that helps to create an object and contains its member variable along with the attributes. We have two main classes: S3 and S4. [info](https://www.datacamp.com/community/tutorials/r-objects-and-classes)\n",
    "\n",
    "### Objects\n",
    "Objects are the instance of a class. It means that it has some methods that can act upon its attributes. In R, everything is an object. We will cover four main objects: vector, matrix, list and dataframes. All of them comes from a class."
   ]
  },
  {
   "cell_type": "markdown",
   "metadata": {},
   "source": [
    "#### Data Types\n",
    "There are four data types: `character`, `numeric`, `integer` and `boolean`."
   ]
  },
  {
   "cell_type": "code",
   "execution_count": 7,
   "metadata": {},
   "outputs": [
    {
     "name": "stdout",
     "output_type": "stream",
     "text": [
      "[1] \"character\"\n",
      "[1] \"character\"\n"
     ]
    }
   ],
   "source": [
    "a <- 'Hola'\n",
    "print(class( a ))   # type of object\n",
    "print(typeof( a )) # how object is stored in memory"
   ]
  },
  {
   "cell_type": "code",
   "execution_count": 8,
   "metadata": {},
   "outputs": [
    {
     "name": "stdout",
     "output_type": "stream",
     "text": [
      "[1] \"numeric\"\n"
     ]
    },
    {
     "data": {
      "text/html": [
       "20.5"
      ],
      "text/latex": [
       "20.5"
      ],
      "text/markdown": [
       "20.5"
      ],
      "text/plain": [
       "[1] 20.5"
      ]
     },
     "metadata": {},
     "output_type": "display_data"
    }
   ],
   "source": [
    "b <- 20.5\n",
    "print(class( b ))\n",
    "b"
   ]
  },
  {
   "cell_type": "code",
   "execution_count": 9,
   "metadata": {},
   "outputs": [
    {
     "data": {
      "text/html": [
       "20"
      ],
      "text/latex": [
       "20"
      ],
      "text/markdown": [
       "20"
      ],
      "text/plain": [
       "[1] 20"
      ]
     },
     "metadata": {},
     "output_type": "display_data"
    },
    {
     "name": "stdout",
     "output_type": "stream",
     "text": [
      "[1] \"integer\"\n"
     ]
    }
   ],
   "source": [
    "c <- as.integer(20.5)\n",
    "c\n",
    "print(class( c ))\n"
   ]
  },
  {
   "cell_type": "code",
   "execution_count": 10,
   "metadata": {},
   "outputs": [
    {
     "data": {
      "text/html": [
       "'double'"
      ],
      "text/latex": [
       "'double'"
      ],
      "text/markdown": [
       "'double'"
      ],
      "text/plain": [
       "[1] \"double\""
      ]
     },
     "metadata": {},
     "output_type": "display_data"
    },
    {
     "data": {
      "text/html": [
       "'numeric'"
      ],
      "text/latex": [
       "'numeric'"
      ],
      "text/markdown": [
       "'numeric'"
      ],
      "text/plain": [
       "[1] \"numeric\""
      ]
     },
     "metadata": {},
     "output_type": "display_data"
    }
   ],
   "source": [
    "# typeof helps us to understand how this object is store in memory.\n",
    "typeof(b)\n",
    "# Class helps us to understand the type of a object\n",
    "class(b)"
   ]
  },
  {
   "cell_type": "code",
   "execution_count": 11,
   "metadata": {},
   "outputs": [
    {
     "name": "stdout",
     "output_type": "stream",
     "text": [
      "Machine Learning    Causal inference"
     ]
    }
   ],
   "source": [
    "c1 <- \"Machine Learning\"\n",
    "c2 <- \"Causal inference\"\n",
    "cat(c1,\"  \",c2)"
   ]
  },
  {
   "cell_type": "code",
   "execution_count": 12,
   "metadata": {},
   "outputs": [
    {
     "name": "stderr",
     "output_type": "stream",
     "text": [
      "Installing package into 'C:/Users/Roberto/AppData/Local/R/win-library/4.2'\n",
      "(as 'lib' is unspecified)\n",
      "\n"
     ]
    },
    {
     "name": "stdout",
     "output_type": "stream",
     "text": [
      "package 'devtools' successfully unpacked and MD5 sums checked\n",
      "\n",
      "The downloaded binary packages are in\n",
      "\tC:\\Users\\Roberto\\AppData\\Local\\Temp\\RtmpATAaZL\\downloaded_packages\n"
     ]
    },
    {
     "data": {
      "text/html": [
       "'Machine Learning y Causal inference course'"
      ],
      "text/latex": [
       "'Machine Learning y Causal inference course'"
      ],
      "text/markdown": [
       "'Machine Learning y Causal inference course'"
      ],
      "text/plain": [
       "Machine Learning y Causal inference course"
      ]
     },
     "metadata": {},
     "output_type": "display_data"
    }
   ],
   "source": [
    "install.packages(\"devtools\")\n",
    "library(glue)\n",
    "glue('{c1} y {c2} course')"
   ]
  },
  {
   "cell_type": "code",
   "execution_count": 13,
   "metadata": {},
   "outputs": [
    {
     "name": "stdout",
     "output_type": "stream",
     "text": [
      "[1] \"logical\"\n",
      "TRUE \n",
      " FALSE \n",
      " TRUE"
     ]
    },
    {
     "data": {
      "text/html": [
       "'integer'"
      ],
      "text/latex": [
       "'integer'"
      ],
      "text/markdown": [
       "'integer'"
      ],
      "text/plain": [
       "[1] \"integer\""
      ]
     },
     "metadata": {},
     "output_type": "display_data"
    },
    {
     "data": {
      "text/html": [
       "'integer'"
      ],
      "text/latex": [
       "'integer'"
      ],
      "text/markdown": [
       "'integer'"
      ],
      "text/plain": [
       "[1] \"integer\""
      ]
     },
     "metadata": {},
     "output_type": "display_data"
    }
   ],
   "source": [
    "# Boolean variables\n",
    "\n",
    "log_true <- TRUE\n",
    "print(class( log_true ))\n",
    "\n",
    "z1 <- (1==1)\n",
    "\n",
    "z2 <- (10 > 20)\n",
    "\n",
    "z3 <- (1==1)\n",
    "\n",
    "cat(z1,'\\n',z2,'\\n',z3)\n",
    "\n",
    "class(as.integer(z3))\n",
    "\n",
    "typeof(as.integer(z3))"
   ]
  },
  {
   "cell_type": "markdown",
   "metadata": {},
   "source": [
    "# 3.0 List\n",
    "\n",
    "A list in R can contain many different data types inside it. A list is a collection of data which is ordered and changeable."
   ]
  },
  {
   "cell_type": "markdown",
   "metadata": {},
   "source": [
    "#### Lists\n",
    "This data structure does not require that all members be of the same data type."
   ]
  },
  {
   "cell_type": "code",
   "execution_count": 14,
   "metadata": {},
   "outputs": [
    {
     "name": "stderr",
     "output_type": "stream",
     "text": [
      "Installing package into 'C:/Users/Roberto/AppData/Local/R/win-library/4.2'\n",
      "(as 'lib' is unspecified)\n",
      "\n"
     ]
    },
    {
     "name": "stdout",
     "output_type": "stream",
     "text": [
      "package 'rlist' successfully unpacked and MD5 sums checked\n",
      "\n",
      "The downloaded binary packages are in\n",
      "\tC:\\Users\\Roberto\\AppData\\Local\\Temp\\RtmpATAaZL\\downloaded_packages\n"
     ]
    }
   ],
   "source": [
    "# imnstall packeg to operate list functions\n",
    "install.packages(\"rlist\")\n",
    "library(rlist)"
   ]
  },
  {
   "cell_type": "code",
   "execution_count": 15,
   "metadata": {},
   "outputs": [
    {
     "data": {
      "text/html": [
       "<ol>\n",
       "\t<li>'good'</li>\n",
       "\t<li>'bad'</li>\n",
       "\t<li>'ugly'</li>\n",
       "\t<li>'good'</li>\n",
       "\t<li>'bad'</li>\n",
       "\t<li>1</li>\n",
       "</ol>\n"
      ],
      "text/latex": [
       "\\begin{enumerate}\n",
       "\\item 'good'\n",
       "\\item 'bad'\n",
       "\\item 'ugly'\n",
       "\\item 'good'\n",
       "\\item 'bad'\n",
       "\\item 1\n",
       "\\end{enumerate}\n"
      ],
      "text/markdown": [
       "1. 'good'\n",
       "2. 'bad'\n",
       "3. 'ugly'\n",
       "4. 'good'\n",
       "5. 'bad'\n",
       "6. 1\n",
       "\n",
       "\n"
      ],
      "text/plain": [
       "[[1]]\n",
       "[1] \"good\"\n",
       "\n",
       "[[2]]\n",
       "[1] \"bad\"\n",
       "\n",
       "[[3]]\n",
       "[1] \"ugly\"\n",
       "\n",
       "[[4]]\n",
       "[1] \"good\"\n",
       "\n",
       "[[5]]\n",
       "[1] \"bad\"\n",
       "\n",
       "[[6]]\n",
       "[1] 1\n"
      ]
     },
     "metadata": {},
     "output_type": "display_data"
    }
   ],
   "source": [
    "list_1 <- list( \"good\", \"bad\", \"ugly\",\"good\", \"bad\", 1)\n",
    "list_1"
   ]
  },
  {
   "cell_type": "code",
   "execution_count": 16,
   "metadata": {},
   "outputs": [
    {
     "data": {
      "text/html": [
       "<ol>\n",
       "\t<li>'good'</li>\n",
       "\t<li>'bad'</li>\n",
       "\t<li>'ugly'</li>\n",
       "\t<li>'good'</li>\n",
       "\t<li>'bad'</li>\n",
       "</ol>\n"
      ],
      "text/latex": [
       "\\begin{enumerate}\n",
       "\\item 'good'\n",
       "\\item 'bad'\n",
       "\\item 'ugly'\n",
       "\\item 'good'\n",
       "\\item 'bad'\n",
       "\\end{enumerate}\n"
      ],
      "text/markdown": [
       "1. 'good'\n",
       "2. 'bad'\n",
       "3. 'ugly'\n",
       "4. 'good'\n",
       "5. 'bad'\n",
       "\n",
       "\n"
      ],
      "text/plain": [
       "[[1]]\n",
       "[1] \"good\"\n",
       "\n",
       "[[2]]\n",
       "[1] \"bad\"\n",
       "\n",
       "[[3]]\n",
       "[1] \"ugly\"\n",
       "\n",
       "[[4]]\n",
       "[1] \"good\"\n",
       "\n",
       "[[5]]\n",
       "[1] \"bad\"\n"
      ]
     },
     "metadata": {},
     "output_type": "display_data"
    }
   ],
   "source": [
    "list_1[1:5]"
   ]
  },
  {
   "cell_type": "code",
   "execution_count": 17,
   "metadata": {},
   "outputs": [
    {
     "data": {
      "text/html": [
       "<ol>\n",
       "\t<li>'good'</li>\n",
       "\t<li>'bad'</li>\n",
       "\t<li>'ugly'</li>\n",
       "\t<li>'good'</li>\n",
       "\t<li>'bad'</li>\n",
       "\t<li>1</li>\n",
       "\t<li>'bad'</li>\n",
       "</ol>\n"
      ],
      "text/latex": [
       "\\begin{enumerate}\n",
       "\\item 'good'\n",
       "\\item 'bad'\n",
       "\\item 'ugly'\n",
       "\\item 'good'\n",
       "\\item 'bad'\n",
       "\\item 1\n",
       "\\item 'bad'\n",
       "\\end{enumerate}\n"
      ],
      "text/markdown": [
       "1. 'good'\n",
       "2. 'bad'\n",
       "3. 'ugly'\n",
       "4. 'good'\n",
       "5. 'bad'\n",
       "6. 1\n",
       "7. 'bad'\n",
       "\n",
       "\n"
      ],
      "text/plain": [
       "[[1]]\n",
       "[1] \"good\"\n",
       "\n",
       "[[2]]\n",
       "[1] \"bad\"\n",
       "\n",
       "[[3]]\n",
       "[1] \"ugly\"\n",
       "\n",
       "[[4]]\n",
       "[1] \"good\"\n",
       "\n",
       "[[5]]\n",
       "[1] \"bad\"\n",
       "\n",
       "[[6]]\n",
       "[1] 1\n",
       "\n",
       "[[7]]\n",
       "[1] \"bad\"\n"
      ]
     },
     "metadata": {},
     "output_type": "display_data"
    }
   ],
   "source": [
    "list_1 <- append(list_1, \"bad\")\n",
    "list_1"
   ]
  },
  {
   "cell_type": "code",
   "execution_count": 18,
   "metadata": {},
   "outputs": [
    {
     "data": {
      "text/html": [
       "<style>\n",
       ".list-inline {list-style: none; margin:0; padding: 0}\n",
       ".list-inline>li {display: inline-block}\n",
       ".list-inline>li:not(:last-child)::after {content: \"\\00b7\"; padding: 0 .5ex}\n",
       "</style>\n",
       "<ol class=list-inline><li>good</li><li>bad</li><li>ugly</li><li>good</li><li>bad</li><li>ugly</li><li>5</li></ol>\n",
       "\n",
       "<details>\n",
       "\t<summary style=display:list-item;cursor:pointer>\n",
       "\t\t<strong>Levels</strong>:\n",
       "\t</summary>\n",
       "\t<style>\n",
       "\t.list-inline {list-style: none; margin:0; padding: 0}\n",
       "\t.list-inline>li {display: inline-block}\n",
       "\t.list-inline>li:not(:last-child)::after {content: \"\\00b7\"; padding: 0 .5ex}\n",
       "\t</style>\n",
       "\t<ol class=list-inline><li>'5'</li><li>'bad'</li><li>'good'</li><li>'ugly'</li></ol>\n",
       "</details>"
      ],
      "text/latex": [
       "\\begin{enumerate*}\n",
       "\\item good\n",
       "\\item bad\n",
       "\\item ugly\n",
       "\\item good\n",
       "\\item bad\n",
       "\\item ugly\n",
       "\\item 5\n",
       "\\end{enumerate*}\n",
       "\n",
       "\\emph{Levels}: \\begin{enumerate*}\n",
       "\\item '5'\n",
       "\\item 'bad'\n",
       "\\item 'good'\n",
       "\\item 'ugly'\n",
       "\\end{enumerate*}\n"
      ],
      "text/markdown": [
       "1. good\n",
       "2. bad\n",
       "3. ugly\n",
       "4. good\n",
       "5. bad\n",
       "6. ugly\n",
       "7. 5\n",
       "\n",
       "\n",
       "\n",
       "**Levels**: 1. '5'\n",
       "2. 'bad'\n",
       "3. 'good'\n",
       "4. 'ugly'\n",
       "\n",
       "\n"
      ],
      "text/plain": [
       "[1] good bad  ugly good bad  ugly 5   \n",
       "Levels: 5 bad good ugly"
      ]
     },
     "metadata": {},
     "output_type": "display_data"
    }
   ],
   "source": [
    "# factor grouped categorical variables\n",
    "\n",
    "fac_2 <- factor( c( \"good\", \"bad\", \"ugly\",\"good\", \"bad\", \"ugly\", 5 ) )\n",
    "fac_2"
   ]
  },
  {
   "cell_type": "code",
   "execution_count": 19,
   "metadata": {},
   "outputs": [
    {
     "name": "stdout",
     "output_type": "stream",
     "text": [
      "[1] good bad  ugly good bad  ugly\n",
      "Levels: bad good ugly\n"
     ]
    },
    {
     "data": {
      "text/html": [
       "'integer'"
      ],
      "text/latex": [
       "'integer'"
      ],
      "text/markdown": [
       "'integer'"
      ],
      "text/plain": [
       "[1] \"integer\""
      ]
     },
     "metadata": {},
     "output_type": "display_data"
    },
    {
     "data": {
      "text/html": [
       "'factor'"
      ],
      "text/latex": [
       "'factor'"
      ],
      "text/markdown": [
       "'factor'"
      ],
      "text/plain": [
       "[1] \"factor\""
      ]
     },
     "metadata": {},
     "output_type": "display_data"
    }
   ],
   "source": [
    "fac <- factor( c( \"good\", \"bad\", \"ugly\",\"good\", \"bad\", \"ugly\" ) )\n",
    "print( fac )\n",
    "# Type of class\n",
    "typeof( fac )\n",
    "class( fac )"
   ]
  },
  {
   "cell_type": "code",
   "execution_count": 20,
   "metadata": {},
   "outputs": [
    {
     "data": {
      "text/html": [
       "<style>\n",
       ".list-inline {list-style: none; margin:0; padding: 0}\n",
       ".list-inline>li {display: inline-block}\n",
       ".list-inline>li:not(:last-child)::after {content: \"\\00b7\"; padding: 0 .5ex}\n",
       "</style>\n",
       "<ol class=list-inline><li>'bad'</li><li>'good'</li><li>'ugly'</li></ol>\n"
      ],
      "text/latex": [
       "\\begin{enumerate*}\n",
       "\\item 'bad'\n",
       "\\item 'good'\n",
       "\\item 'ugly'\n",
       "\\end{enumerate*}\n"
      ],
      "text/markdown": [
       "1. 'bad'\n",
       "2. 'good'\n",
       "3. 'ugly'\n",
       "\n",
       "\n"
      ],
      "text/plain": [
       "[1] \"bad\"  \"good\" \"ugly\""
      ]
     },
     "metadata": {},
     "output_type": "display_data"
    },
    {
     "data": {
      "text/html": [
       "3"
      ],
      "text/latex": [
       "3"
      ],
      "text/markdown": [
       "3"
      ],
      "text/plain": [
       "[1] 3"
      ]
     },
     "metadata": {},
     "output_type": "display_data"
    }
   ],
   "source": [
    "# Levels o categories \n",
    "levels( fac )\n",
    "# Number of Levels\n",
    "nlevels( fac )"
   ]
  },
  {
   "cell_type": "code",
   "execution_count": 21,
   "metadata": {},
   "outputs": [
    {
     "data": {
      "text/html": [
       "<style>\n",
       ".list-inline {list-style: none; margin:0; padding: 0}\n",
       ".list-inline>li {display: inline-block}\n",
       ".list-inline>li:not(:last-child)::after {content: \"\\00b7\"; padding: 0 .5ex}\n",
       "</style>\n",
       "<ol class=list-inline><li>'a'</li><li>'b'</li><li>'c'</li><li>'c1'</li><li>'c2'</li><li>'fac'</li><li>'fac_2'</li><li>'list_1'</li><li>'log_true'</li><li>'z1'</li><li>'z2'</li><li>'z3'</li></ol>\n"
      ],
      "text/latex": [
       "\\begin{enumerate*}\n",
       "\\item 'a'\n",
       "\\item 'b'\n",
       "\\item 'c'\n",
       "\\item 'c1'\n",
       "\\item 'c2'\n",
       "\\item 'fac'\n",
       "\\item 'fac\\_2'\n",
       "\\item 'list\\_1'\n",
       "\\item 'log\\_true'\n",
       "\\item 'z1'\n",
       "\\item 'z2'\n",
       "\\item 'z3'\n",
       "\\end{enumerate*}\n"
      ],
      "text/markdown": [
       "1. 'a'\n",
       "2. 'b'\n",
       "3. 'c'\n",
       "4. 'c1'\n",
       "5. 'c2'\n",
       "6. 'fac'\n",
       "7. 'fac_2'\n",
       "8. 'list_1'\n",
       "9. 'log_true'\n",
       "10. 'z1'\n",
       "11. 'z2'\n",
       "12. 'z3'\n",
       "\n",
       "\n"
      ],
      "text/plain": [
       " [1] \"a\"        \"b\"        \"c\"        \"c1\"       \"c2\"       \"fac\"     \n",
       " [7] \"fac_2\"    \"list_1\"   \"log_true\" \"z1\"       \"z2\"       \"z3\"      "
      ]
     },
     "metadata": {},
     "output_type": "display_data"
    }
   ],
   "source": [
    "# Check the variables that you defined\n",
    "ls()"
   ]
  },
  {
   "cell_type": "markdown",
   "metadata": {},
   "source": [
    "Basic data structures in R include the vector, list, matrix, data frame, and factors. Some of these structures require that all members be of the same data type (e.g. vectors, matrices) while others permit multiple data types (e.g. lists, data frames)."
   ]
  },
  {
   "cell_type": "code",
   "execution_count": 22,
   "metadata": {},
   "outputs": [
    {
     "data": {
      "text/html": [
       "<dl>\n",
       "\t<dt>$num_UEFA</dt>\n",
       "\t\t<dd><style>\n",
       ".list-inline {list-style: none; margin:0; padding: 0}\n",
       ".list-inline>li {display: inline-block}\n",
       ".list-inline>li:not(:last-child)::after {content: \"\\00b7\"; padding: 0 .5ex}\n",
       "</style>\n",
       "<ol class=list-inline><li>13</li><li>7</li><li>6</li></ol>\n",
       "</dd>\n",
       "\t<dt>$clubs</dt>\n",
       "\t\t<dd><style>\n",
       ".list-inline {list-style: none; margin:0; padding: 0}\n",
       ".list-inline>li {display: inline-block}\n",
       ".list-inline>li:not(:last-child)::after {content: \"\\00b7\"; padding: 0 .5ex}\n",
       "</style>\n",
       "<ol class=list-inline><li>'Real Madrid'</li><li>'AC Milan'</li><li>'Liverpool FC'</li></ol>\n",
       "</dd>\n",
       "\t<dt>$last_year</dt>\n",
       "\t\t<dd><style>\n",
       ".list-inline {list-style: none; margin:0; padding: 0}\n",
       ".list-inline>li {display: inline-block}\n",
       ".list-inline>li:not(:last-child)::after {content: \"\\00b7\"; padding: 0 .5ex}\n",
       "</style>\n",
       "<ol class=list-inline><li>2018</li><li>2007</li><li>2019</li></ol>\n",
       "</dd>\n",
       "</dl>\n"
      ],
      "text/latex": [
       "\\begin{description}\n",
       "\\item[\\$num\\_UEFA] \\begin{enumerate*}\n",
       "\\item 13\n",
       "\\item 7\n",
       "\\item 6\n",
       "\\end{enumerate*}\n",
       "\n",
       "\\item[\\$clubs] \\begin{enumerate*}\n",
       "\\item 'Real Madrid'\n",
       "\\item 'AC Milan'\n",
       "\\item 'Liverpool FC'\n",
       "\\end{enumerate*}\n",
       "\n",
       "\\item[\\$last\\_year] \\begin{enumerate*}\n",
       "\\item 2018\n",
       "\\item 2007\n",
       "\\item 2019\n",
       "\\end{enumerate*}\n",
       "\n",
       "\\end{description}\n"
      ],
      "text/markdown": [
       "$num_UEFA\n",
       ":   1. 13\n",
       "2. 7\n",
       "3. 6\n",
       "\n",
       "\n",
       "\n",
       "$clubs\n",
       ":   1. 'Real Madrid'\n",
       "2. 'AC Milan'\n",
       "3. 'Liverpool FC'\n",
       "\n",
       "\n",
       "\n",
       "$last_year\n",
       ":   1. 2018\n",
       "2. 2007\n",
       "3. 2019\n",
       "\n",
       "\n",
       "\n",
       "\n",
       "\n"
      ],
      "text/plain": [
       "$num_UEFA\n",
       "[1] 13  7  6\n",
       "\n",
       "$clubs\n",
       "[1] \"Real Madrid\"  \"AC Milan\"     \"Liverpool FC\"\n",
       "\n",
       "$last_year\n",
       "[1] 2018 2007 2019\n"
      ]
     },
     "metadata": {},
     "output_type": "display_data"
    }
   ],
   "source": [
    "mylist <- list( num_UEFA = c( 13 , 7 , 6 ) , clubs = c( \"Real Madrid\" , \"AC Milan\" , \"Liverpool FC\" ) , \n",
    "               last_year = c( 2018 , 2007 , 2019 ) )\n",
    "\n",
    "mylist"
   ]
  },
  {
   "cell_type": "code",
   "execution_count": 23,
   "metadata": {},
   "outputs": [
    {
     "data": {
      "text/html": [
       "<style>\n",
       ".list-inline {list-style: none; margin:0; padding: 0}\n",
       ".list-inline>li {display: inline-block}\n",
       ".list-inline>li:not(:last-child)::after {content: \"\\00b7\"; padding: 0 .5ex}\n",
       "</style>\n",
       "<ol class=list-inline><li>13</li><li>7</li><li>6</li></ol>\n"
      ],
      "text/latex": [
       "\\begin{enumerate*}\n",
       "\\item 13\n",
       "\\item 7\n",
       "\\item 6\n",
       "\\end{enumerate*}\n"
      ],
      "text/markdown": [
       "1. 13\n",
       "2. 7\n",
       "3. 6\n",
       "\n",
       "\n"
      ],
      "text/plain": [
       "[1] 13  7  6"
      ]
     },
     "metadata": {},
     "output_type": "display_data"
    }
   ],
   "source": [
    "mylist$num_UEFA"
   ]
  },
  {
   "cell_type": "code",
   "execution_count": 24,
   "metadata": {},
   "outputs": [
    {
     "data": {
      "text/html": [
       "<style>\n",
       ".list-inline {list-style: none; margin:0; padding: 0}\n",
       ".list-inline>li {display: inline-block}\n",
       ".list-inline>li:not(:last-child)::after {content: \"\\00b7\"; padding: 0 .5ex}\n",
       "</style>\n",
       "<ol class=list-inline><li>2018</li><li>2007</li><li>2019</li></ol>\n"
      ],
      "text/latex": [
       "\\begin{enumerate*}\n",
       "\\item 2018\n",
       "\\item 2007\n",
       "\\item 2019\n",
       "\\end{enumerate*}\n"
      ],
      "text/markdown": [
       "1. 2018\n",
       "2. 2007\n",
       "3. 2019\n",
       "\n",
       "\n"
      ],
      "text/plain": [
       "[1] 2018 2007 2019"
      ]
     },
     "metadata": {},
     "output_type": "display_data"
    }
   ],
   "source": [
    "# Indexing vectors\n",
    "mylist[[3]]"
   ]
  },
  {
   "cell_type": "code",
   "execution_count": 25,
   "metadata": {},
   "outputs": [
    {
     "data": {
      "text/html": [
       "<style>\n",
       ".list-inline {list-style: none; margin:0; padding: 0}\n",
       ".list-inline>li {display: inline-block}\n",
       ".list-inline>li:not(:last-child)::after {content: \"\\00b7\"; padding: 0 .5ex}\n",
       "</style>\n",
       "<ol class=list-inline><li>2007</li><li>2019</li></ol>\n"
      ],
      "text/latex": [
       "\\begin{enumerate*}\n",
       "\\item 2007\n",
       "\\item 2019\n",
       "\\end{enumerate*}\n"
      ],
      "text/markdown": [
       "1. 2007\n",
       "2. 2019\n",
       "\n",
       "\n"
      ],
      "text/plain": [
       "[1] 2007 2019"
      ]
     },
     "metadata": {},
     "output_type": "display_data"
    }
   ],
   "source": [
    "# Indexing group of vectors\n",
    "mylist[[3]][2:3]"
   ]
  },
  {
   "cell_type": "code",
   "execution_count": 26,
   "metadata": {},
   "outputs": [
    {
     "data": {
      "text/html": [
       "<strong>$last_year</strong> = <style>\n",
       ".list-inline {list-style: none; margin:0; padding: 0}\n",
       ".list-inline>li {display: inline-block}\n",
       ".list-inline>li:not(:last-child)::after {content: \"\\00b7\"; padding: 0 .5ex}\n",
       "</style>\n",
       "<ol class=list-inline><li>2018</li><li>2007</li><li>2019</li></ol>\n"
      ],
      "text/latex": [
       "\\textbf{\\$last\\_year} = \\begin{enumerate*}\n",
       "\\item 2018\n",
       "\\item 2007\n",
       "\\item 2019\n",
       "\\end{enumerate*}\n"
      ],
      "text/markdown": [
       "**$last_year** = 1. 2018\n",
       "2. 2007\n",
       "3. 2019\n",
       "\n",
       "\n"
      ],
      "text/plain": [
       "$last_year\n",
       "[1] 2018 2007 2019\n"
      ]
     },
     "metadata": {},
     "output_type": "display_data"
    }
   ],
   "source": [
    "# Indexing group of vectors\n",
    "mylist[3][1]"
   ]
  },
  {
   "cell_type": "code",
   "execution_count": 27,
   "metadata": {},
   "outputs": [
    {
     "data": {
      "text/html": [
       "<dl>\n",
       "\t<dt>$num_UEFA</dt>\n",
       "\t\t<dd><style>\n",
       ".list-inline {list-style: none; margin:0; padding: 0}\n",
       ".list-inline>li {display: inline-block}\n",
       ".list-inline>li:not(:last-child)::after {content: \"\\00b7\"; padding: 0 .5ex}\n",
       "</style>\n",
       "<ol class=list-inline><li>13</li><li>7</li><li>6</li></ol>\n",
       "</dd>\n",
       "\t<dt>$clubs</dt>\n",
       "\t\t<dd><style>\n",
       ".list-inline {list-style: none; margin:0; padding: 0}\n",
       ".list-inline>li {display: inline-block}\n",
       ".list-inline>li:not(:last-child)::after {content: \"\\00b7\"; padding: 0 .5ex}\n",
       "</style>\n",
       "<ol class=list-inline><li>'Real Madrid'</li><li>'AC Milan'</li><li>'Liverpool FC'</li></ol>\n",
       "</dd>\n",
       "</dl>\n"
      ],
      "text/latex": [
       "\\begin{description}\n",
       "\\item[\\$num\\_UEFA] \\begin{enumerate*}\n",
       "\\item 13\n",
       "\\item 7\n",
       "\\item 6\n",
       "\\end{enumerate*}\n",
       "\n",
       "\\item[\\$clubs] \\begin{enumerate*}\n",
       "\\item 'Real Madrid'\n",
       "\\item 'AC Milan'\n",
       "\\item 'Liverpool FC'\n",
       "\\end{enumerate*}\n",
       "\n",
       "\\end{description}\n"
      ],
      "text/markdown": [
       "$num_UEFA\n",
       ":   1. 13\n",
       "2. 7\n",
       "3. 6\n",
       "\n",
       "\n",
       "\n",
       "$clubs\n",
       ":   1. 'Real Madrid'\n",
       "2. 'AC Milan'\n",
       "3. 'Liverpool FC'\n",
       "\n",
       "\n",
       "\n",
       "\n",
       "\n"
      ],
      "text/plain": [
       "$num_UEFA\n",
       "[1] 13  7  6\n",
       "\n",
       "$clubs\n",
       "[1] \"Real Madrid\"  \"AC Milan\"     \"Liverpool FC\"\n"
      ]
     },
     "metadata": {},
     "output_type": "display_data"
    }
   ],
   "source": [
    "list.remove(mylist,\"last_year\")"
   ]
  },
  {
   "cell_type": "code",
   "execution_count": 28,
   "metadata": {},
   "outputs": [
    {
     "data": {
      "text/html": [
       "<dl>\n",
       "\t<dt>$num_UEFA</dt>\n",
       "\t\t<dd><style>\n",
       ".list-inline {list-style: none; margin:0; padding: 0}\n",
       ".list-inline>li {display: inline-block}\n",
       ".list-inline>li:not(:last-child)::after {content: \"\\00b7\"; padding: 0 .5ex}\n",
       "</style>\n",
       "<ol class=list-inline><li>13</li><li>7</li><li>6</li></ol>\n",
       "</dd>\n",
       "\t<dt>$clubs</dt>\n",
       "\t\t<dd><style>\n",
       ".list-inline {list-style: none; margin:0; padding: 0}\n",
       ".list-inline>li {display: inline-block}\n",
       ".list-inline>li:not(:last-child)::after {content: \"\\00b7\"; padding: 0 .5ex}\n",
       "</style>\n",
       "<ol class=list-inline><li>'Real Madrid'</li><li>'AC Milan'</li><li>'Liverpool FC'</li></ol>\n",
       "</dd>\n",
       "\t<dt>$last_year</dt>\n",
       "\t\t<dd><style>\n",
       ".list-inline {list-style: none; margin:0; padding: 0}\n",
       ".list-inline>li {display: inline-block}\n",
       ".list-inline>li:not(:last-child)::after {content: \"\\00b7\"; padding: 0 .5ex}\n",
       "</style>\n",
       "<ol class=list-inline><li>2018</li><li>2007</li><li>2019</li></ol>\n",
       "</dd>\n",
       "\t<dt>[[4]]</dt>\n",
       "\t\t<dd>4000</dd>\n",
       "</dl>\n"
      ],
      "text/latex": [
       "\\begin{description}\n",
       "\\item[\\$num\\_UEFA] \\begin{enumerate*}\n",
       "\\item 13\n",
       "\\item 7\n",
       "\\item 6\n",
       "\\end{enumerate*}\n",
       "\n",
       "\\item[\\$clubs] \\begin{enumerate*}\n",
       "\\item 'Real Madrid'\n",
       "\\item 'AC Milan'\n",
       "\\item 'Liverpool FC'\n",
       "\\end{enumerate*}\n",
       "\n",
       "\\item[\\$last\\_year] \\begin{enumerate*}\n",
       "\\item 2018\n",
       "\\item 2007\n",
       "\\item 2019\n",
       "\\end{enumerate*}\n",
       "\n",
       "\\item[{[[4]]}] 4000\n",
       "\\end{description}\n"
      ],
      "text/markdown": [
       "$num_UEFA\n",
       ":   1. 13\n",
       "2. 7\n",
       "3. 6\n",
       "\n",
       "\n",
       "\n",
       "$clubs\n",
       ":   1. 'Real Madrid'\n",
       "2. 'AC Milan'\n",
       "3. 'Liverpool FC'\n",
       "\n",
       "\n",
       "\n",
       "$last_year\n",
       ":   1. 2018\n",
       "2. 2007\n",
       "3. 2019\n",
       "\n",
       "\n",
       "\n",
       "[[4]]\n",
       ":   4000\n",
       "\n",
       "\n"
      ],
      "text/plain": [
       "$num_UEFA\n",
       "[1] 13  7  6\n",
       "\n",
       "$clubs\n",
       "[1] \"Real Madrid\"  \"AC Milan\"     \"Liverpool FC\"\n",
       "\n",
       "$last_year\n",
       "[1] 2018 2007 2019\n",
       "\n",
       "[[4]]\n",
       "[1] 4000\n"
      ]
     },
     "metadata": {},
     "output_type": "display_data"
    }
   ],
   "source": [
    "Postal_code <- append(mylist, 4000)\n",
    "Postal_code"
   ]
  },
  {
   "cell_type": "markdown",
   "metadata": {},
   "source": [
    "#### Vectors\n",
    "This data structure requires that all members be of the same data type."
   ]
  },
  {
   "cell_type": "code",
   "execution_count": 29,
   "metadata": {},
   "outputs": [
    {
     "name": "stdout",
     "output_type": "stream",
     "text": [
      "[1] \"character\"\n",
      "[1] TRUE\n",
      "[1] 5\n"
     ]
    }
   ],
   "source": [
    "vec_str <-  c( \"good\", \"bad\", \"ugly\",\"good\", \"bad\")\n",
    "print( class( vec_str ) )\n",
    "print( is.vector( vec_str ) )\n",
    "print( length( vec_str ) )"
   ]
  },
  {
   "cell_type": "code",
   "execution_count": 30,
   "metadata": {},
   "outputs": [
    {
     "data": {
      "text/html": [
       "<style>\n",
       ".list-inline {list-style: none; margin:0; padding: 0}\n",
       ".list-inline>li {display: inline-block}\n",
       ".list-inline>li:not(:last-child)::after {content: \"\\00b7\"; padding: 0 .5ex}\n",
       "</style>\n",
       "<ol class=list-inline><li>2</li><li>3</li><li>4</li><li>5</li><li>6</li><li>4</li></ol>\n"
      ],
      "text/latex": [
       "\\begin{enumerate*}\n",
       "\\item 2\n",
       "\\item 3\n",
       "\\item 4\n",
       "\\item 5\n",
       "\\item 6\n",
       "\\item 4\n",
       "\\end{enumerate*}\n"
      ],
      "text/markdown": [
       "1. 2\n",
       "2. 3\n",
       "3. 4\n",
       "4. 5\n",
       "5. 6\n",
       "6. 4\n",
       "\n",
       "\n"
      ],
      "text/plain": [
       "[1] 2 3 4 5 6 4"
      ]
     },
     "metadata": {},
     "output_type": "display_data"
    }
   ],
   "source": [
    "vec <- c( 2 , 3 , 4 , 5 , 6 , 4 )\n",
    "vec "
   ]
  },
  {
   "cell_type": "code",
   "execution_count": 31,
   "metadata": {},
   "outputs": [
    {
     "name": "stdout",
     "output_type": "stream",
     "text": [
      "[1] \"numeric\"\n",
      "[1] TRUE\n",
      "[1] 6\n"
     ]
    }
   ],
   "source": [
    "print( class( vec ) )\n",
    "print( is.vector( vec ) )\n",
    "print( length( vec ) )"
   ]
  },
  {
   "cell_type": "code",
   "execution_count": 32,
   "metadata": {},
   "outputs": [
    {
     "data": {
      "text/html": [
       "<style>\n",
       ".list-inline {list-style: none; margin:0; padding: 0}\n",
       ".list-inline>li {display: inline-block}\n",
       ".list-inline>li:not(:last-child)::after {content: \"\\00b7\"; padding: 0 .5ex}\n",
       "</style>\n",
       "<ol class=list-inline><li>1</li><li>3</li><li>5</li><li>7</li><li>9</li><li>11</li><li>13</li><li>15</li><li>17</li><li>19</li></ol>\n"
      ],
      "text/latex": [
       "\\begin{enumerate*}\n",
       "\\item 1\n",
       "\\item 3\n",
       "\\item 5\n",
       "\\item 7\n",
       "\\item 9\n",
       "\\item 11\n",
       "\\item 13\n",
       "\\item 15\n",
       "\\item 17\n",
       "\\item 19\n",
       "\\end{enumerate*}\n"
      ],
      "text/markdown": [
       "1. 1\n",
       "2. 3\n",
       "3. 5\n",
       "4. 7\n",
       "5. 9\n",
       "6. 11\n",
       "7. 13\n",
       "8. 15\n",
       "9. 17\n",
       "10. 19\n",
       "\n",
       "\n"
      ],
      "text/plain": [
       " [1]  1  3  5  7  9 11 13 15 17 19"
      ]
     },
     "metadata": {},
     "output_type": "display_data"
    }
   ],
   "source": [
    "sec_1_20 <- seq(1,20,2)\n",
    "sec_1_20"
   ]
  },
  {
   "cell_type": "code",
   "execution_count": 33,
   "metadata": {},
   "outputs": [
    {
     "data": {
      "text/html": [
       "<style>\n",
       ".list-inline {list-style: none; margin:0; padding: 0}\n",
       ".list-inline>li {display: inline-block}\n",
       ".list-inline>li:not(:last-child)::after {content: \"\\00b7\"; padding: 0 .5ex}\n",
       "</style>\n",
       "<ol class=list-inline><li>1</li><li>2</li><li>3</li><li>4</li><li>5</li><li>6</li><li>7</li><li>8</li><li>9</li><li>10</li></ol>\n"
      ],
      "text/latex": [
       "\\begin{enumerate*}\n",
       "\\item 1\n",
       "\\item 2\n",
       "\\item 3\n",
       "\\item 4\n",
       "\\item 5\n",
       "\\item 6\n",
       "\\item 7\n",
       "\\item 8\n",
       "\\item 9\n",
       "\\item 10\n",
       "\\end{enumerate*}\n"
      ],
      "text/markdown": [
       "1. 1\n",
       "2. 2\n",
       "3. 3\n",
       "4. 4\n",
       "5. 5\n",
       "6. 6\n",
       "7. 7\n",
       "8. 8\n",
       "9. 9\n",
       "10. 10\n",
       "\n",
       "\n"
      ],
      "text/plain": [
       " [1]  1  2  3  4  5  6  7  8  9 10"
      ]
     },
     "metadata": {},
     "output_type": "display_data"
    }
   ],
   "source": [
    "sec_1_9 <- seq(1,10)\n",
    "sec_1_9"
   ]
  },
  {
   "cell_type": "markdown",
   "metadata": {},
   "source": [
    "#### Indexing"
   ]
  },
  {
   "cell_type": "code",
   "execution_count": 34,
   "metadata": {},
   "outputs": [
    {
     "data": {
      "text/html": [
       "'numeric'"
      ],
      "text/latex": [
       "'numeric'"
      ],
      "text/markdown": [
       "'numeric'"
      ],
      "text/plain": [
       "[1] \"numeric\""
      ]
     },
     "metadata": {},
     "output_type": "display_data"
    }
   ],
   "source": [
    "index_vec  <- vec[ c( 3, 1, 6, 2 ) ]\n",
    "class(index_vec)"
   ]
  },
  {
   "cell_type": "code",
   "execution_count": 35,
   "metadata": {},
   "outputs": [
    {
     "name": "stdout",
     "output_type": "stream",
     "text": [
      "[1] 4 2 4 3\n",
      "[1] 4 2 3\n"
     ]
    }
   ],
   "source": [
    "print(index_vec)\n",
    "print(index_vec[ -3 ])"
   ]
  },
  {
   "cell_type": "code",
   "execution_count": 36,
   "metadata": {},
   "outputs": [
    {
     "name": "stdout",
     "output_type": "stream",
     "text": [
      "[1] 2\n"
     ]
    }
   ],
   "source": [
    "print( index_vec[ index_vec < 3 ] )"
   ]
  },
  {
   "cell_type": "code",
   "execution_count": 37,
   "metadata": {},
   "outputs": [
    {
     "name": "stdout",
     "output_type": "stream",
     "text": [
      "[1] 2 4 3\n"
     ]
    }
   ],
   "source": [
    "print( index_vec[ 2:4 ] )"
   ]
  },
  {
   "cell_type": "markdown",
   "metadata": {},
   "source": [
    "#### Matrix\n",
    "This data structure requires that all members be of the same data type."
   ]
  },
  {
   "cell_type": "code",
   "execution_count": 38,
   "metadata": {},
   "outputs": [
    {
     "data": {
      "text/html": [
       "<table class=\"dataframe\">\n",
       "<caption>A matrix: 3 × 3 of type dbl</caption>\n",
       "<thead>\n",
       "\t<tr><th></th><th scope=col>colA</th><th scope=col>colB</th><th scope=col>colC</th></tr>\n",
       "</thead>\n",
       "<tbody>\n",
       "\t<tr><th scope=row>rowA</th><td>3</td><td>6</td><td>6</td></tr>\n",
       "\t<tr><th scope=row>rowB</th><td>5</td><td>7</td><td>3</td></tr>\n",
       "\t<tr><th scope=row>rowC</th><td>2</td><td>1</td><td>7</td></tr>\n",
       "</tbody>\n",
       "</table>\n"
      ],
      "text/latex": [
       "A matrix: 3 × 3 of type dbl\n",
       "\\begin{tabular}{r|lll}\n",
       "  & colA & colB & colC\\\\\n",
       "\\hline\n",
       "\trowA & 3 & 6 & 6\\\\\n",
       "\trowB & 5 & 7 & 3\\\\\n",
       "\trowC & 2 & 1 & 7\\\\\n",
       "\\end{tabular}\n"
      ],
      "text/markdown": [
       "\n",
       "A matrix: 3 × 3 of type dbl\n",
       "\n",
       "| <!--/--> | colA | colB | colC |\n",
       "|---|---|---|---|\n",
       "| rowA | 3 | 6 | 6 |\n",
       "| rowB | 5 | 7 | 3 |\n",
       "| rowC | 2 | 1 | 7 |\n",
       "\n"
      ],
      "text/plain": [
       "     colA colB colC\n",
       "rowA 3    6    6   \n",
       "rowB 5    7    3   \n",
       "rowC 2    1    7   "
      ]
     },
     "metadata": {},
     "output_type": "display_data"
    }
   ],
   "source": [
    "A = matrix( c(3, 5, 2, 6, 7, 1, 6, 3, 7 ) , nrow = 3, ncol = 3 , byrow = FALSE, \n",
    "            dimnames = list( c( \"rowA\" , \"rowB\" , \"rowC\" ), c( \"colA\" , \"colB\" , \"colC\" ) ) )\n",
    "A"
   ]
  },
  {
   "cell_type": "code",
   "execution_count": 39,
   "metadata": {},
   "outputs": [
    {
     "data": {
      "text/html": [
       "<table class=\"dataframe\">\n",
       "<caption>A matrix: 3 × 3 of type dbl</caption>\n",
       "<tbody>\n",
       "\t<tr><td>3</td><td>5</td><td>2</td></tr>\n",
       "\t<tr><td>6</td><td>7</td><td>1</td></tr>\n",
       "\t<tr><td>6</td><td>3</td><td>7</td></tr>\n",
       "</tbody>\n",
       "</table>\n"
      ],
      "text/latex": [
       "A matrix: 3 × 3 of type dbl\n",
       "\\begin{tabular}{lll}\n",
       "\t 3 & 5 & 2\\\\\n",
       "\t 6 & 7 & 1\\\\\n",
       "\t 6 & 3 & 7\\\\\n",
       "\\end{tabular}\n"
      ],
      "text/markdown": [
       "\n",
       "A matrix: 3 × 3 of type dbl\n",
       "\n",
       "| 3 | 5 | 2 |\n",
       "| 6 | 7 | 1 |\n",
       "| 6 | 3 | 7 |\n",
       "\n"
      ],
      "text/plain": [
       "     [,1] [,2] [,3]\n",
       "[1,] 3    5    2   \n",
       "[2,] 6    7    1   \n",
       "[3,] 6    3    7   "
      ]
     },
     "metadata": {},
     "output_type": "display_data"
    }
   ],
   "source": [
    "A = matrix( c(3, 5, 2, 6, 7, 1, 6, 3, 7 ) , nrow = 3, ncol = 3 , byrow = TRUE)\n",
    "A"
   ]
  },
  {
   "cell_type": "code",
   "execution_count": 40,
   "metadata": {
    "scrolled": true
   },
   "outputs": [
    {
     "name": "stdout",
     "output_type": "stream",
     "text": [
      "     colA colB colC\n",
      "rowA    3    5    2\n",
      "rowB    6    7    1\n",
      "rowC    6    3    7\n"
     ]
    }
   ],
   "source": [
    "A = matrix( c(3, 5, 2, 6, 7, 1, 6, 3, 7 ) , nrow = 3, ncol = 3 , byrow = TRUE, \n",
    "            dimnames = list( c( \"rowA\" , \"rowB\" , \"rowC\" ), c( \"colA\" , \"colB\" , \"colC\" ) ) )\n",
    "print( A )"
   ]
  },
  {
   "cell_type": "code",
   "execution_count": 41,
   "metadata": {},
   "outputs": [
    {
     "data": {
      "text/html": [
       "<style>\n",
       ".list-inline {list-style: none; margin:0; padding: 0}\n",
       ".list-inline>li {display: inline-block}\n",
       ".list-inline>li:not(:last-child)::after {content: \"\\00b7\"; padding: 0 .5ex}\n",
       "</style>\n",
       "<ol class=list-inline><li>'matrix'</li><li>'array'</li></ol>\n"
      ],
      "text/latex": [
       "\\begin{enumerate*}\n",
       "\\item 'matrix'\n",
       "\\item 'array'\n",
       "\\end{enumerate*}\n"
      ],
      "text/markdown": [
       "1. 'matrix'\n",
       "2. 'array'\n",
       "\n",
       "\n"
      ],
      "text/plain": [
       "[1] \"matrix\" \"array\" "
      ]
     },
     "metadata": {},
     "output_type": "display_data"
    },
    {
     "data": {
      "text/html": [
       "'double'"
      ],
      "text/latex": [
       "'double'"
      ],
      "text/markdown": [
       "'double'"
      ],
      "text/plain": [
       "[1] \"double\""
      ]
     },
     "metadata": {},
     "output_type": "display_data"
    }
   ],
   "source": [
    "class(A)\n",
    "typeof(A)"
   ]
  },
  {
   "cell_type": "code",
   "execution_count": 42,
   "metadata": {},
   "outputs": [
    {
     "data": {
      "text/html": [
       "<style>\n",
       ".list-inline {list-style: none; margin:0; padding: 0}\n",
       ".list-inline>li {display: inline-block}\n",
       ".list-inline>li:not(:last-child)::after {content: \"\\00b7\"; padding: 0 .5ex}\n",
       "</style>\n",
       "<ol class=list-inline><li>3</li><li>3</li></ol>\n"
      ],
      "text/latex": [
       "\\begin{enumerate*}\n",
       "\\item 3\n",
       "\\item 3\n",
       "\\end{enumerate*}\n"
      ],
      "text/markdown": [
       "1. 3\n",
       "2. 3\n",
       "\n",
       "\n"
      ],
      "text/plain": [
       "[1] 3 3"
      ]
     },
     "metadata": {},
     "output_type": "display_data"
    }
   ],
   "source": [
    "dim(A)"
   ]
  },
  {
   "cell_type": "code",
   "execution_count": 43,
   "metadata": {},
   "outputs": [
    {
     "name": "stdout",
     "output_type": "stream",
     "text": [
      "rows:  3 \n",
      " Columns:  3"
     ]
    }
   ],
   "source": [
    "cat(\"rows: \", dim(A)[1], '\\n', \"Columns: \", dim(A)[2])"
   ]
  },
  {
   "cell_type": "code",
   "execution_count": 44,
   "metadata": {},
   "outputs": [
    {
     "data": {
      "text/html": [
       "<table class=\"dataframe\">\n",
       "<caption>A matrix: 3 × 3 of type dbl</caption>\n",
       "<thead>\n",
       "\t<tr><th></th><th scope=col>rowA</th><th scope=col>rowB</th><th scope=col>rowC</th></tr>\n",
       "</thead>\n",
       "<tbody>\n",
       "\t<tr><th scope=row>rowA</th><td> 1.000000e+00</td><td>0</td><td>5.551115e-17</td></tr>\n",
       "\t<tr><th scope=row>rowB</th><td>-3.885781e-16</td><td>1</td><td>2.775558e-17</td></tr>\n",
       "\t<tr><th scope=row>rowC</th><td>-4.440892e-16</td><td>0</td><td>1.000000e+00</td></tr>\n",
       "</tbody>\n",
       "</table>\n"
      ],
      "text/latex": [
       "A matrix: 3 × 3 of type dbl\n",
       "\\begin{tabular}{r|lll}\n",
       "  & rowA & rowB & rowC\\\\\n",
       "\\hline\n",
       "\trowA &  1.000000e+00 & 0 & 5.551115e-17\\\\\n",
       "\trowB & -3.885781e-16 & 1 & 2.775558e-17\\\\\n",
       "\trowC & -4.440892e-16 & 0 & 1.000000e+00\\\\\n",
       "\\end{tabular}\n"
      ],
      "text/markdown": [
       "\n",
       "A matrix: 3 × 3 of type dbl\n",
       "\n",
       "| <!--/--> | rowA | rowB | rowC |\n",
       "|---|---|---|---|\n",
       "| rowA |  1.000000e+00 | 0 | 5.551115e-17 |\n",
       "| rowB | -3.885781e-16 | 1 | 2.775558e-17 |\n",
       "| rowC | -4.440892e-16 | 0 | 1.000000e+00 |\n",
       "\n"
      ],
      "text/plain": [
       "     rowA          rowB rowC        \n",
       "rowA  1.000000e+00 0    5.551115e-17\n",
       "rowB -3.885781e-16 1    2.775558e-17\n",
       "rowC -4.440892e-16 0    1.000000e+00"
      ]
     },
     "metadata": {},
     "output_type": "display_data"
    }
   ],
   "source": [
    "B = A %*% solve( A )\n",
    "B"
   ]
  },
  {
   "cell_type": "code",
   "execution_count": 45,
   "metadata": {},
   "outputs": [
    {
     "data": {
      "text/html": [
       "<table class=\"dataframe\">\n",
       "<caption>A matrix: 3 × 3 of type dbl</caption>\n",
       "<thead>\n",
       "\t<tr><th></th><th scope=col>rowA</th><th scope=col>rowB</th><th scope=col>rowC</th></tr>\n",
       "</thead>\n",
       "<tbody>\n",
       "\t<tr><th scope=row>rowA</th><td>1</td><td>0</td><td>0</td></tr>\n",
       "\t<tr><th scope=row>rowB</th><td>0</td><td>1</td><td>0</td></tr>\n",
       "\t<tr><th scope=row>rowC</th><td>0</td><td>0</td><td>1</td></tr>\n",
       "</tbody>\n",
       "</table>\n"
      ],
      "text/latex": [
       "A matrix: 3 × 3 of type dbl\n",
       "\\begin{tabular}{r|lll}\n",
       "  & rowA & rowB & rowC\\\\\n",
       "\\hline\n",
       "\trowA & 1 & 0 & 0\\\\\n",
       "\trowB & 0 & 1 & 0\\\\\n",
       "\trowC & 0 & 0 & 1\\\\\n",
       "\\end{tabular}\n"
      ],
      "text/markdown": [
       "\n",
       "A matrix: 3 × 3 of type dbl\n",
       "\n",
       "| <!--/--> | rowA | rowB | rowC |\n",
       "|---|---|---|---|\n",
       "| rowA | 1 | 0 | 0 |\n",
       "| rowB | 0 | 1 | 0 |\n",
       "| rowC | 0 | 0 | 1 |\n",
       "\n"
      ],
      "text/plain": [
       "     rowA rowB rowC\n",
       "rowA 1    0    0   \n",
       "rowB 0    1    0   \n",
       "rowC 0    0    1   "
      ]
     },
     "metadata": {},
     "output_type": "display_data"
    }
   ],
   "source": [
    "# Solve for getting inverse matrix\n",
    "# %*% Matrix Multiplication\n",
    "# round output of the matrix\n",
    "B = round( A %*% solve( A ) , 2 )\n",
    "B"
   ]
  },
  {
   "cell_type": "code",
   "execution_count": 46,
   "metadata": {},
   "outputs": [
    {
     "name": "stdout",
     "output_type": "stream",
     "text": [
      "rowA rowB rowC \n",
      "   1    1    1 \n"
     ]
    }
   ],
   "source": [
    "print( diag( B ) )  \n"
   ]
  },
  {
   "cell_type": "code",
   "execution_count": 47,
   "metadata": {},
   "outputs": [
    {
     "name": "stdout",
     "output_type": "stream",
     "text": [
      "     rowA rowB rowC\n",
      "colA    3    6    6\n",
      "colB    5    7    3\n",
      "colC    2    1    7\n"
     ]
    }
   ],
   "source": [
    "print( t( A ) )"
   ]
  },
  {
   "cell_type": "code",
   "execution_count": 48,
   "metadata": {},
   "outputs": [
    {
     "name": "stdout",
     "output_type": "stream",
     "text": [
      "     [,1] [,2] [,3] [,4] [,5] [,6] [,7] [,8] [,9] [,10]\n",
      "[1,]    0    1    2    3    4    5    6    7    8     9\n",
      "[2,]   10   11   12   13   14   15   16   17   18    19\n",
      "[3,]   30   31   32   33   34   35   36   37   38    39\n",
      "[4,]  -20  -19  -18  -17  -16  -15  -14  -13  -12   -11\n",
      "[5,]    2    4    6    8   10   12   14   16   18    20\n"
     ]
    }
   ],
   "source": [
    "A <- matrix(c(seq(0, 9), seq( 10, 19), seq( 30, 39), seq( -20, -11), seq( 2, 20,2)), nrow = 5, byrow =TRUE)\n",
    "print(A)"
   ]
  },
  {
   "cell_type": "code",
   "execution_count": 49,
   "metadata": {},
   "outputs": [
    {
     "data": {
      "text/html": [
       "<table class=\"dataframe\">\n",
       "<caption>A matrix: 3 × 10 of type dbl</caption>\n",
       "<tbody>\n",
       "\t<tr><td> 10</td><td> 11</td><td> 12</td><td> 13</td><td> 14</td><td> 15</td><td> 16</td><td> 17</td><td> 18</td><td> 19</td></tr>\n",
       "\t<tr><td> 30</td><td> 31</td><td> 32</td><td> 33</td><td> 34</td><td> 35</td><td> 36</td><td> 37</td><td> 38</td><td> 39</td></tr>\n",
       "\t<tr><td>-20</td><td>-19</td><td>-18</td><td>-17</td><td>-16</td><td>-15</td><td>-14</td><td>-13</td><td>-12</td><td>-11</td></tr>\n",
       "</tbody>\n",
       "</table>\n"
      ],
      "text/latex": [
       "A matrix: 3 × 10 of type dbl\n",
       "\\begin{tabular}{llllllllll}\n",
       "\t  10 &  11 &  12 &  13 &  14 &  15 &  16 &  17 &  18 &  19\\\\\n",
       "\t  30 &  31 &  32 &  33 &  34 &  35 &  36 &  37 &  38 &  39\\\\\n",
       "\t -20 & -19 & -18 & -17 & -16 & -15 & -14 & -13 & -12 & -11\\\\\n",
       "\\end{tabular}\n"
      ],
      "text/markdown": [
       "\n",
       "A matrix: 3 × 10 of type dbl\n",
       "\n",
       "|  10 |  11 |  12 |  13 |  14 |  15 |  16 |  17 |  18 |  19 |\n",
       "|  30 |  31 |  32 |  33 |  34 |  35 |  36 |  37 |  38 |  39 |\n",
       "| -20 | -19 | -18 | -17 | -16 | -15 | -14 | -13 | -12 | -11 |\n",
       "\n"
      ],
      "text/plain": [
       "     [,1] [,2] [,3] [,4] [,5] [,6] [,7] [,8] [,9] [,10]\n",
       "[1,]  10   11   12   13   14   15   16   17   18   19  \n",
       "[2,]  30   31   32   33   34   35   36   37   38   39  \n",
       "[3,] -20  -19  -18  -17  -16  -15  -14  -13  -12  -11  "
      ]
     },
     "metadata": {},
     "output_type": "display_data"
    }
   ],
   "source": [
    "A[2:4,] # rows selecrtion"
   ]
  },
  {
   "cell_type": "code",
   "execution_count": 50,
   "metadata": {
    "scrolled": true
   },
   "outputs": [
    {
     "data": {
      "text/html": [
       "<table class=\"dataframe\">\n",
       "<caption>A matrix: 5 × 6 of type dbl</caption>\n",
       "<tbody>\n",
       "\t<tr><td>  0</td><td>  1</td><td>  2</td><td>  3</td><td>  4</td><td>  5</td></tr>\n",
       "\t<tr><td> 10</td><td> 11</td><td> 12</td><td> 13</td><td> 14</td><td> 15</td></tr>\n",
       "\t<tr><td> 30</td><td> 31</td><td> 32</td><td> 33</td><td> 34</td><td> 35</td></tr>\n",
       "\t<tr><td>-20</td><td>-19</td><td>-18</td><td>-17</td><td>-16</td><td>-15</td></tr>\n",
       "\t<tr><td>  2</td><td>  4</td><td>  6</td><td>  8</td><td> 10</td><td> 12</td></tr>\n",
       "</tbody>\n",
       "</table>\n"
      ],
      "text/latex": [
       "A matrix: 5 × 6 of type dbl\n",
       "\\begin{tabular}{llllll}\n",
       "\t   0 &   1 &   2 &   3 &   4 &   5\\\\\n",
       "\t  10 &  11 &  12 &  13 &  14 &  15\\\\\n",
       "\t  30 &  31 &  32 &  33 &  34 &  35\\\\\n",
       "\t -20 & -19 & -18 & -17 & -16 & -15\\\\\n",
       "\t   2 &   4 &   6 &   8 &  10 &  12\\\\\n",
       "\\end{tabular}\n"
      ],
      "text/markdown": [
       "\n",
       "A matrix: 5 × 6 of type dbl\n",
       "\n",
       "|   0 |   1 |   2 |   3 |   4 |   5 |\n",
       "|  10 |  11 |  12 |  13 |  14 |  15 |\n",
       "|  30 |  31 |  32 |  33 |  34 |  35 |\n",
       "| -20 | -19 | -18 | -17 | -16 | -15 |\n",
       "|   2 |   4 |   6 |   8 |  10 |  12 |\n",
       "\n"
      ],
      "text/plain": [
       "     [,1] [,2] [,3] [,4] [,5] [,6]\n",
       "[1,]   0    1    2    3    4    5 \n",
       "[2,]  10   11   12   13   14   15 \n",
       "[3,]  30   31   32   33   34   35 \n",
       "[4,] -20  -19  -18  -17  -16  -15 \n",
       "[5,]   2    4    6    8   10   12 "
      ]
     },
     "metadata": {},
     "output_type": "display_data"
    }
   ],
   "source": [
    "A[,1:6]  # columns selecrtion"
   ]
  },
  {
   "cell_type": "code",
   "execution_count": 51,
   "metadata": {},
   "outputs": [
    {
     "name": "stdout",
     "output_type": "stream",
     "text": [
      "     [,1] [,2]\n",
      "[1,]    0    0\n",
      "[2,]    0    0\n",
      "[3,]    0    0\n",
      "[4,]    0    0\n",
      "[5,]    0    0\n",
      "[6,]    0    0\n",
      "[7,]    0    0\n",
      "[8,]    0    0\n"
     ]
    }
   ],
   "source": [
    "M1 <- matrix(0,8,2)\n",
    "\n",
    "print(M1)"
   ]
  },
  {
   "cell_type": "code",
   "execution_count": 52,
   "metadata": {},
   "outputs": [
    {
     "name": "stdout",
     "output_type": "stream",
     "text": [
      "     [,1] [,2] [,3] [,4]\n",
      "[1,]    1    1    1    1\n",
      "[2,]    1    1    1    1\n",
      "[3,]    1    1    1    1\n",
      "[4,]    1    1    1    1\n",
      "[5,]    1    1    1    1\n",
      "[6,]    1    1    1    1\n",
      "[7,]    1    1    1    1\n",
      "[8,]    1    1    1    1\n"
     ]
    }
   ],
   "source": [
    "M2 <- matrix(1,8, 4) \n",
    "print(M2)"
   ]
  },
  {
   "cell_type": "code",
   "execution_count": 53,
   "metadata": {},
   "outputs": [
    {
     "data": {
      "text/html": [
       "<table class=\"dataframe\">\n",
       "<caption>A matrix: 8 × 6 of type dbl</caption>\n",
       "<tbody>\n",
       "\t<tr><td>0</td><td>0</td><td>1</td><td>1</td><td>1</td><td>1</td></tr>\n",
       "\t<tr><td>0</td><td>0</td><td>1</td><td>1</td><td>1</td><td>1</td></tr>\n",
       "\t<tr><td>0</td><td>0</td><td>1</td><td>1</td><td>1</td><td>1</td></tr>\n",
       "\t<tr><td>0</td><td>0</td><td>1</td><td>1</td><td>1</td><td>1</td></tr>\n",
       "\t<tr><td>0</td><td>0</td><td>1</td><td>1</td><td>1</td><td>1</td></tr>\n",
       "\t<tr><td>0</td><td>0</td><td>1</td><td>1</td><td>1</td><td>1</td></tr>\n",
       "\t<tr><td>0</td><td>0</td><td>1</td><td>1</td><td>1</td><td>1</td></tr>\n",
       "\t<tr><td>0</td><td>0</td><td>1</td><td>1</td><td>1</td><td>1</td></tr>\n",
       "</tbody>\n",
       "</table>\n"
      ],
      "text/latex": [
       "A matrix: 8 × 6 of type dbl\n",
       "\\begin{tabular}{llllll}\n",
       "\t 0 & 0 & 1 & 1 & 1 & 1\\\\\n",
       "\t 0 & 0 & 1 & 1 & 1 & 1\\\\\n",
       "\t 0 & 0 & 1 & 1 & 1 & 1\\\\\n",
       "\t 0 & 0 & 1 & 1 & 1 & 1\\\\\n",
       "\t 0 & 0 & 1 & 1 & 1 & 1\\\\\n",
       "\t 0 & 0 & 1 & 1 & 1 & 1\\\\\n",
       "\t 0 & 0 & 1 & 1 & 1 & 1\\\\\n",
       "\t 0 & 0 & 1 & 1 & 1 & 1\\\\\n",
       "\\end{tabular}\n"
      ],
      "text/markdown": [
       "\n",
       "A matrix: 8 × 6 of type dbl\n",
       "\n",
       "| 0 | 0 | 1 | 1 | 1 | 1 |\n",
       "| 0 | 0 | 1 | 1 | 1 | 1 |\n",
       "| 0 | 0 | 1 | 1 | 1 | 1 |\n",
       "| 0 | 0 | 1 | 1 | 1 | 1 |\n",
       "| 0 | 0 | 1 | 1 | 1 | 1 |\n",
       "| 0 | 0 | 1 | 1 | 1 | 1 |\n",
       "| 0 | 0 | 1 | 1 | 1 | 1 |\n",
       "| 0 | 0 | 1 | 1 | 1 | 1 |\n",
       "\n"
      ],
      "text/plain": [
       "     [,1] [,2] [,3] [,4] [,5] [,6]\n",
       "[1,] 0    0    1    1    1    1   \n",
       "[2,] 0    0    1    1    1    1   \n",
       "[3,] 0    0    1    1    1    1   \n",
       "[4,] 0    0    1    1    1    1   \n",
       "[5,] 0    0    1    1    1    1   \n",
       "[6,] 0    0    1    1    1    1   \n",
       "[7,] 0    0    1    1    1    1   \n",
       "[8,] 0    0    1    1    1    1   "
      ]
     },
     "metadata": {},
     "output_type": "display_data"
    }
   ],
   "source": [
    "M3 <- cbind(M1,M2)\n",
    "M3"
   ]
  },
  {
   "cell_type": "code",
   "execution_count": 54,
   "metadata": {},
   "outputs": [
    {
     "name": "stdout",
     "output_type": "stream",
     "text": [
      "     [,1] [,2] [,3] [,4] [,5] [,6]\n",
      "[1,]    2    2    3    4    5    1\n",
      "[2,]    1    5    5    9    8    2\n"
     ]
    }
   ],
   "source": [
    "M4 = matrix(c(2,2,3,4,5,1,1,5,5,9,8,2), nrow =2, byrow = TRUE)\n",
    "print(M4)"
   ]
  },
  {
   "cell_type": "code",
   "execution_count": 55,
   "metadata": {},
   "outputs": [
    {
     "name": "stdout",
     "output_type": "stream",
     "text": [
      "      [,1] [,2] [,3] [,4] [,5] [,6]\n",
      " [1,]    0    0    1    1    1    1\n",
      " [2,]    0    0    1    1    1    1\n",
      " [3,]    0    0    1    1    1    1\n",
      " [4,]    0    0    1    1    1    1\n",
      " [5,]    0    0    1    1    1    1\n",
      " [6,]    0    0    1    1    1    1\n",
      " [7,]    0    0    1    1    1    1\n",
      " [8,]    0    0    1    1    1    1\n",
      " [9,]    2    2    3    4    5    1\n",
      "[10,]    1    5    5    9    8    2\n"
     ]
    }
   ],
   "source": [
    "M5 <- rbind(M3,M4)\n",
    "print(M5)"
   ]
  },
  {
   "cell_type": "markdown",
   "metadata": {},
   "source": [
    "#### DataFrame\n",
    "This data structure does not require that all members be of the same data type."
   ]
  },
  {
   "cell_type": "code",
   "execution_count": 56,
   "metadata": {},
   "outputs": [
    {
     "data": {
      "text/html": [
       "<table class=\"dataframe\">\n",
       "<caption>A data.frame: 8 × 4</caption>\n",
       "<thead>\n",
       "\t<tr><th scope=col>Student_Name</th><th scope=col>Age</th><th scope=col>Gender</th><th scope=col>GPA</th></tr>\n",
       "\t<tr><th scope=col>&lt;chr&gt;</th><th scope=col>&lt;dbl&gt;</th><th scope=col>&lt;chr&gt;</th><th scope=col>&lt;dbl&gt;</th></tr>\n",
       "</thead>\n",
       "<tbody>\n",
       "\t<tr><td>Amy   </td><td>27</td><td>F</td><td>3.26</td></tr>\n",
       "\t<tr><td>Bob   </td><td>55</td><td>M</td><td>3.75</td></tr>\n",
       "\t<tr><td>Chuck </td><td>34</td><td>M</td><td>2.98</td></tr>\n",
       "\t<tr><td>Daisy </td><td>42</td><td>F</td><td>3.40</td></tr>\n",
       "\t<tr><td>Ellie </td><td>20</td><td>F</td><td>2.75</td></tr>\n",
       "\t<tr><td>Frank </td><td>27</td><td>M</td><td>3.32</td></tr>\n",
       "\t<tr><td>George</td><td>34</td><td>M</td><td>3.68</td></tr>\n",
       "\t<tr><td>Helen </td><td>42</td><td>F</td><td>3.97</td></tr>\n",
       "</tbody>\n",
       "</table>\n"
      ],
      "text/latex": [
       "A data.frame: 8 × 4\n",
       "\\begin{tabular}{llll}\n",
       " Student\\_Name & Age & Gender & GPA\\\\\n",
       " <chr> & <dbl> & <chr> & <dbl>\\\\\n",
       "\\hline\n",
       "\t Amy    & 27 & F & 3.26\\\\\n",
       "\t Bob    & 55 & M & 3.75\\\\\n",
       "\t Chuck  & 34 & M & 2.98\\\\\n",
       "\t Daisy  & 42 & F & 3.40\\\\\n",
       "\t Ellie  & 20 & F & 2.75\\\\\n",
       "\t Frank  & 27 & M & 3.32\\\\\n",
       "\t George & 34 & M & 3.68\\\\\n",
       "\t Helen  & 42 & F & 3.97\\\\\n",
       "\\end{tabular}\n"
      ],
      "text/markdown": [
       "\n",
       "A data.frame: 8 × 4\n",
       "\n",
       "| Student_Name &lt;chr&gt; | Age &lt;dbl&gt; | Gender &lt;chr&gt; | GPA &lt;dbl&gt; |\n",
       "|---|---|---|---|\n",
       "| Amy    | 27 | F | 3.26 |\n",
       "| Bob    | 55 | M | 3.75 |\n",
       "| Chuck  | 34 | M | 2.98 |\n",
       "| Daisy  | 42 | F | 3.40 |\n",
       "| Ellie  | 20 | F | 2.75 |\n",
       "| Frank  | 27 | M | 3.32 |\n",
       "| George | 34 | M | 3.68 |\n",
       "| Helen  | 42 | F | 3.97 |\n",
       "\n"
      ],
      "text/plain": [
       "  Student_Name Age Gender GPA \n",
       "1 Amy          27  F      3.26\n",
       "2 Bob          55  M      3.75\n",
       "3 Chuck        34  M      2.98\n",
       "4 Daisy        42  F      3.40\n",
       "5 Ellie        20  F      2.75\n",
       "6 Frank        27  M      3.32\n",
       "7 George       34  M      3.68\n",
       "8 Helen        42  F      3.97"
      ]
     },
     "metadata": {},
     "output_type": "display_data"
    }
   ],
   "source": [
    "Student_Name <- c(\"Amy\", \"Bob\", \"Chuck\", \"Daisy\", \"Ellie\", \"Frank\", \n",
    "                  \"George\", \"Helen\")\n",
    "\n",
    "Age <- c(27, 55, 34, 42, 20, 27, 34, 42)\n",
    "\n",
    "Gender <- c(\"F\", \"M\", \"M\", \"F\", \"F\", \"M\", \"M\", \"F\")\n",
    "\n",
    "GPA <- c(3.26, 3.75, 2.98, 3.40, 2.75, 3.32, 3.68, 3.97)\n",
    "\n",
    "nsc <- data.frame(Student_Name, Age, Gender, GPA)   # Naming the data frame\n",
    "nsc # Generates the data frame"
   ]
  },
  {
   "cell_type": "code",
   "execution_count": 57,
   "metadata": {},
   "outputs": [
    {
     "data": {
      "text/html": [
       "<style>\n",
       ".list-inline {list-style: none; margin:0; padding: 0}\n",
       ".list-inline>li {display: inline-block}\n",
       ".list-inline>li:not(:last-child)::after {content: \"\\00b7\"; padding: 0 .5ex}\n",
       "</style>\n",
       "<ol class=list-inline><li>'Student_Name'</li><li>'Age'</li><li>'Gender'</li><li>'GPA'</li></ol>\n"
      ],
      "text/latex": [
       "\\begin{enumerate*}\n",
       "\\item 'Student\\_Name'\n",
       "\\item 'Age'\n",
       "\\item 'Gender'\n",
       "\\item 'GPA'\n",
       "\\end{enumerate*}\n"
      ],
      "text/markdown": [
       "1. 'Student_Name'\n",
       "2. 'Age'\n",
       "3. 'Gender'\n",
       "4. 'GPA'\n",
       "\n",
       "\n"
      ],
      "text/plain": [
       "[1] \"Student_Name\" \"Age\"          \"Gender\"       \"GPA\"         "
      ]
     },
     "metadata": {},
     "output_type": "display_data"
    }
   ],
   "source": [
    "# Lists variables\n",
    "names(nsc)   "
   ]
  },
  {
   "cell_type": "code",
   "execution_count": 58,
   "metadata": {},
   "outputs": [],
   "source": [
    "select_col <- c(1,3)\n",
    "select_row <- c(1,5)"
   ]
  },
  {
   "cell_type": "code",
   "execution_count": 59,
   "metadata": {},
   "outputs": [
    {
     "data": {
      "text/html": [
       "<table class=\"dataframe\">\n",
       "<caption>A data.frame: 2 × 2</caption>\n",
       "<thead>\n",
       "\t<tr><th></th><th scope=col>Student_Name</th><th scope=col>Gender</th></tr>\n",
       "\t<tr><th></th><th scope=col>&lt;chr&gt;</th><th scope=col>&lt;chr&gt;</th></tr>\n",
       "</thead>\n",
       "<tbody>\n",
       "\t<tr><th scope=row>1</th><td>Amy  </td><td>F</td></tr>\n",
       "\t<tr><th scope=row>5</th><td>Ellie</td><td>F</td></tr>\n",
       "</tbody>\n",
       "</table>\n"
      ],
      "text/latex": [
       "A data.frame: 2 × 2\n",
       "\\begin{tabular}{r|ll}\n",
       "  & Student\\_Name & Gender\\\\\n",
       "  & <chr> & <chr>\\\\\n",
       "\\hline\n",
       "\t1 & Amy   & F\\\\\n",
       "\t5 & Ellie & F\\\\\n",
       "\\end{tabular}\n"
      ],
      "text/markdown": [
       "\n",
       "A data.frame: 2 × 2\n",
       "\n",
       "| <!--/--> | Student_Name &lt;chr&gt; | Gender &lt;chr&gt; |\n",
       "|---|---|---|\n",
       "| 1 | Amy   | F |\n",
       "| 5 | Ellie | F |\n",
       "\n"
      ],
      "text/plain": [
       "  Student_Name Gender\n",
       "1 Amy          F     \n",
       "5 Ellie        F     "
      ]
     },
     "metadata": {},
     "output_type": "display_data"
    }
   ],
   "source": [
    "nsc[select_row, select_col]"
   ]
  },
  {
   "cell_type": "code",
   "execution_count": 60,
   "metadata": {},
   "outputs": [
    {
     "data": {
      "text/html": [
       "<table class=\"dataframe\">\n",
       "<caption>A data.frame: 3 × 3</caption>\n",
       "<thead>\n",
       "\t<tr><th></th><th scope=col>Age</th><th scope=col>Gender</th><th scope=col>GPA</th></tr>\n",
       "\t<tr><th></th><th scope=col>&lt;dbl&gt;</th><th scope=col>&lt;chr&gt;</th><th scope=col>&lt;dbl&gt;</th></tr>\n",
       "</thead>\n",
       "<tbody>\n",
       "\t<tr><th scope=row>3</th><td>34</td><td>M</td><td>2.98</td></tr>\n",
       "\t<tr><th scope=row>4</th><td>42</td><td>F</td><td>3.40</td></tr>\n",
       "\t<tr><th scope=row>5</th><td>20</td><td>F</td><td>2.75</td></tr>\n",
       "</tbody>\n",
       "</table>\n"
      ],
      "text/latex": [
       "A data.frame: 3 × 3\n",
       "\\begin{tabular}{r|lll}\n",
       "  & Age & Gender & GPA\\\\\n",
       "  & <dbl> & <chr> & <dbl>\\\\\n",
       "\\hline\n",
       "\t3 & 34 & M & 2.98\\\\\n",
       "\t4 & 42 & F & 3.40\\\\\n",
       "\t5 & 20 & F & 2.75\\\\\n",
       "\\end{tabular}\n"
      ],
      "text/markdown": [
       "\n",
       "A data.frame: 3 × 3\n",
       "\n",
       "| <!--/--> | Age &lt;dbl&gt; | Gender &lt;chr&gt; | GPA &lt;dbl&gt; |\n",
       "|---|---|---|---|\n",
       "| 3 | 34 | M | 2.98 |\n",
       "| 4 | 42 | F | 3.40 |\n",
       "| 5 | 20 | F | 2.75 |\n",
       "\n"
      ],
      "text/plain": [
       "  Age Gender GPA \n",
       "3 34  M      2.98\n",
       "4 42  F      3.40\n",
       "5 20  F      2.75"
      ]
     },
     "metadata": {},
     "output_type": "display_data"
    }
   ],
   "source": [
    "# indexing dataframes\n",
    "nsc[3:5 , 2:4]   "
   ]
  },
  {
   "cell_type": "code",
   "execution_count": 61,
   "metadata": {},
   "outputs": [
    {
     "data": {
      "text/html": [
       "<table class=\"dataframe\">\n",
       "<caption>A data.frame: 4 × 2</caption>\n",
       "<thead>\n",
       "\t<tr><th></th><th scope=col>Gender</th><th scope=col>Age</th></tr>\n",
       "\t<tr><th></th><th scope=col>&lt;chr&gt;</th><th scope=col>&lt;dbl&gt;</th></tr>\n",
       "</thead>\n",
       "<tbody>\n",
       "\t<tr><th scope=row>1</th><td>F</td><td>27</td></tr>\n",
       "\t<tr><th scope=row>2</th><td>M</td><td>55</td></tr>\n",
       "\t<tr><th scope=row>4</th><td>F</td><td>42</td></tr>\n",
       "\t<tr><th scope=row>6</th><td>M</td><td>27</td></tr>\n",
       "</tbody>\n",
       "</table>\n"
      ],
      "text/latex": [
       "A data.frame: 4 × 2\n",
       "\\begin{tabular}{r|ll}\n",
       "  & Gender & Age\\\\\n",
       "  & <chr> & <dbl>\\\\\n",
       "\\hline\n",
       "\t1 & F & 27\\\\\n",
       "\t2 & M & 55\\\\\n",
       "\t4 & F & 42\\\\\n",
       "\t6 & M & 27\\\\\n",
       "\\end{tabular}\n"
      ],
      "text/markdown": [
       "\n",
       "A data.frame: 4 × 2\n",
       "\n",
       "| <!--/--> | Gender &lt;chr&gt; | Age &lt;dbl&gt; |\n",
       "|---|---|---|\n",
       "| 1 | F | 27 |\n",
       "| 2 | M | 55 |\n",
       "| 4 | F | 42 |\n",
       "| 6 | M | 27 |\n",
       "\n"
      ],
      "text/plain": [
       "  Gender Age\n",
       "1 F      27 \n",
       "2 M      55 \n",
       "4 F      42 \n",
       "6 M      27 "
      ]
     },
     "metadata": {},
     "output_type": "display_data"
    }
   ],
   "source": [
    "# indexing dataframes\n",
    "nsc[ c( 1 , 2 , 4, 6 ) , c( 3 , 2 ) ]"
   ]
  },
  {
   "cell_type": "code",
   "execution_count": 62,
   "metadata": {},
   "outputs": [
    {
     "data": {
      "text/html": [
       "<style>\n",
       ".list-inline {list-style: none; margin:0; padding: 0}\n",
       ".list-inline>li {display: inline-block}\n",
       ".list-inline>li:not(:last-child)::after {content: \"\\00b7\"; padding: 0 .5ex}\n",
       "</style>\n",
       "<ol class=list-inline><li>'Amy'</li><li>'Bob'</li><li>'Chuck'</li><li>'Daisy'</li><li>'Ellie'</li><li>'Frank'</li><li>'George'</li><li>'Helen'</li></ol>\n"
      ],
      "text/latex": [
       "\\begin{enumerate*}\n",
       "\\item 'Amy'\n",
       "\\item 'Bob'\n",
       "\\item 'Chuck'\n",
       "\\item 'Daisy'\n",
       "\\item 'Ellie'\n",
       "\\item 'Frank'\n",
       "\\item 'George'\n",
       "\\item 'Helen'\n",
       "\\end{enumerate*}\n"
      ],
      "text/markdown": [
       "1. 'Amy'\n",
       "2. 'Bob'\n",
       "3. 'Chuck'\n",
       "4. 'Daisy'\n",
       "5. 'Ellie'\n",
       "6. 'Frank'\n",
       "7. 'George'\n",
       "8. 'Helen'\n",
       "\n",
       "\n"
      ],
      "text/plain": [
       "[1] \"Amy\"    \"Bob\"    \"Chuck\"  \"Daisy\"  \"Ellie\"  \"Frank\"  \"George\" \"Helen\" "
      ]
     },
     "metadata": {},
     "output_type": "display_data"
    }
   ],
   "source": [
    "nsc$Student_Name"
   ]
  },
  {
   "cell_type": "markdown",
   "metadata": {},
   "source": [
    "## Load  files : CSV, Excel\n",
    "## Working with DataFrames"
   ]
  },
  {
   "cell_type": "code",
   "execution_count": 63,
   "metadata": {},
   "outputs": [],
   "source": [
    "#install.packages(\"readxl\")\n",
    "library(readxl)"
   ]
  },
  {
   "cell_type": "code",
   "execution_count": 65,
   "metadata": {},
   "outputs": [
    {
     "name": "stderr",
     "output_type": "stream",
     "text": [
      "\u001b[1m\u001b[22mNew names:\n",
      "\u001b[36m•\u001b[39m `` -> `...1`\n"
     ]
    },
    {
     "data": {
      "text/html": [
       "<table class=\"dataframe\">\n",
       "<caption>A tibble: 6 × 21</caption>\n",
       "<thead>\n",
       "\t<tr><th scope=col>...1</th><th scope=col>wage</th><th scope=col>lwage</th><th scope=col>sex</th><th scope=col>shs</th><th scope=col>hsg</th><th scope=col>scl</th><th scope=col>clg</th><th scope=col>ad</th><th scope=col>mw</th><th scope=col>⋯</th><th scope=col>we</th><th scope=col>ne</th><th scope=col>exp1</th><th scope=col>exp2</th><th scope=col>exp3</th><th scope=col>exp4</th><th scope=col>occ</th><th scope=col>occ2</th><th scope=col>ind</th><th scope=col>ind2</th></tr>\n",
       "\t<tr><th scope=col>&lt;dbl&gt;</th><th scope=col>&lt;dbl&gt;</th><th scope=col>&lt;dbl&gt;</th><th scope=col>&lt;dbl&gt;</th><th scope=col>&lt;dbl&gt;</th><th scope=col>&lt;dbl&gt;</th><th scope=col>&lt;dbl&gt;</th><th scope=col>&lt;dbl&gt;</th><th scope=col>&lt;dbl&gt;</th><th scope=col>&lt;dbl&gt;</th><th scope=col>⋯</th><th scope=col>&lt;dbl&gt;</th><th scope=col>&lt;dbl&gt;</th><th scope=col>&lt;dbl&gt;</th><th scope=col>&lt;dbl&gt;</th><th scope=col>&lt;dbl&gt;</th><th scope=col>&lt;dbl&gt;</th><th scope=col>&lt;dbl&gt;</th><th scope=col>&lt;dbl&gt;</th><th scope=col>&lt;dbl&gt;</th><th scope=col>&lt;dbl&gt;</th></tr>\n",
       "</thead>\n",
       "<tbody>\n",
       "\t<tr><td>10</td><td> 9.615385</td><td>2.263364</td><td>1</td><td>0</td><td>0</td><td>0</td><td>1</td><td>0</td><td>0</td><td>⋯</td><td>0</td><td>1</td><td> 7</td><td>0.49</td><td> 0.343</td><td> 0.2401</td><td>3600</td><td>11</td><td>8370</td><td>18</td></tr>\n",
       "\t<tr><td>12</td><td>48.076923</td><td>3.872802</td><td>0</td><td>0</td><td>0</td><td>0</td><td>1</td><td>0</td><td>0</td><td>⋯</td><td>0</td><td>1</td><td>31</td><td>9.61</td><td>29.791</td><td>92.3521</td><td>3050</td><td>10</td><td>5070</td><td> 9</td></tr>\n",
       "\t<tr><td>15</td><td>11.057692</td><td>2.403126</td><td>0</td><td>0</td><td>1</td><td>0</td><td>0</td><td>0</td><td>0</td><td>⋯</td><td>0</td><td>1</td><td>18</td><td>3.24</td><td> 5.832</td><td>10.4976</td><td>6260</td><td>19</td><td> 770</td><td> 4</td></tr>\n",
       "\t<tr><td>18</td><td>13.942308</td><td>2.634928</td><td>1</td><td>0</td><td>0</td><td>0</td><td>0</td><td>1</td><td>0</td><td>⋯</td><td>0</td><td>1</td><td>25</td><td>6.25</td><td>15.625</td><td>39.0625</td><td> 420</td><td> 1</td><td>6990</td><td>12</td></tr>\n",
       "\t<tr><td>19</td><td>28.846154</td><td>3.361977</td><td>1</td><td>0</td><td>0</td><td>0</td><td>1</td><td>0</td><td>0</td><td>⋯</td><td>0</td><td>1</td><td>22</td><td>4.84</td><td>10.648</td><td>23.4256</td><td>2015</td><td> 6</td><td>9470</td><td>22</td></tr>\n",
       "\t<tr><td>30</td><td>11.730769</td><td>2.462215</td><td>1</td><td>0</td><td>0</td><td>0</td><td>1</td><td>0</td><td>0</td><td>⋯</td><td>0</td><td>1</td><td> 1</td><td>0.01</td><td> 0.001</td><td> 0.0001</td><td>1650</td><td> 5</td><td>7460</td><td>14</td></tr>\n",
       "</tbody>\n",
       "</table>\n"
      ],
      "text/latex": [
       "A tibble: 6 × 21\n",
       "\\begin{tabular}{lllllllllllllllllllll}\n",
       " ...1 & wage & lwage & sex & shs & hsg & scl & clg & ad & mw & ⋯ & we & ne & exp1 & exp2 & exp3 & exp4 & occ & occ2 & ind & ind2\\\\\n",
       " <dbl> & <dbl> & <dbl> & <dbl> & <dbl> & <dbl> & <dbl> & <dbl> & <dbl> & <dbl> & ⋯ & <dbl> & <dbl> & <dbl> & <dbl> & <dbl> & <dbl> & <dbl> & <dbl> & <dbl> & <dbl>\\\\\n",
       "\\hline\n",
       "\t 10 &  9.615385 & 2.263364 & 1 & 0 & 0 & 0 & 1 & 0 & 0 & ⋯ & 0 & 1 &  7 & 0.49 &  0.343 &  0.2401 & 3600 & 11 & 8370 & 18\\\\\n",
       "\t 12 & 48.076923 & 3.872802 & 0 & 0 & 0 & 0 & 1 & 0 & 0 & ⋯ & 0 & 1 & 31 & 9.61 & 29.791 & 92.3521 & 3050 & 10 & 5070 &  9\\\\\n",
       "\t 15 & 11.057692 & 2.403126 & 0 & 0 & 1 & 0 & 0 & 0 & 0 & ⋯ & 0 & 1 & 18 & 3.24 &  5.832 & 10.4976 & 6260 & 19 &  770 &  4\\\\\n",
       "\t 18 & 13.942308 & 2.634928 & 1 & 0 & 0 & 0 & 0 & 1 & 0 & ⋯ & 0 & 1 & 25 & 6.25 & 15.625 & 39.0625 &  420 &  1 & 6990 & 12\\\\\n",
       "\t 19 & 28.846154 & 3.361977 & 1 & 0 & 0 & 0 & 1 & 0 & 0 & ⋯ & 0 & 1 & 22 & 4.84 & 10.648 & 23.4256 & 2015 &  6 & 9470 & 22\\\\\n",
       "\t 30 & 11.730769 & 2.462215 & 1 & 0 & 0 & 0 & 1 & 0 & 0 & ⋯ & 0 & 1 &  1 & 0.01 &  0.001 &  0.0001 & 1650 &  5 & 7460 & 14\\\\\n",
       "\\end{tabular}\n"
      ],
      "text/markdown": [
       "\n",
       "A tibble: 6 × 21\n",
       "\n",
       "| ...1 &lt;dbl&gt; | wage &lt;dbl&gt; | lwage &lt;dbl&gt; | sex &lt;dbl&gt; | shs &lt;dbl&gt; | hsg &lt;dbl&gt; | scl &lt;dbl&gt; | clg &lt;dbl&gt; | ad &lt;dbl&gt; | mw &lt;dbl&gt; | ⋯ ⋯ | we &lt;dbl&gt; | ne &lt;dbl&gt; | exp1 &lt;dbl&gt; | exp2 &lt;dbl&gt; | exp3 &lt;dbl&gt; | exp4 &lt;dbl&gt; | occ &lt;dbl&gt; | occ2 &lt;dbl&gt; | ind &lt;dbl&gt; | ind2 &lt;dbl&gt; |\n",
       "|---|---|---|---|---|---|---|---|---|---|---|---|---|---|---|---|---|---|---|---|---|\n",
       "| 10 |  9.615385 | 2.263364 | 1 | 0 | 0 | 0 | 1 | 0 | 0 | ⋯ | 0 | 1 |  7 | 0.49 |  0.343 |  0.2401 | 3600 | 11 | 8370 | 18 |\n",
       "| 12 | 48.076923 | 3.872802 | 0 | 0 | 0 | 0 | 1 | 0 | 0 | ⋯ | 0 | 1 | 31 | 9.61 | 29.791 | 92.3521 | 3050 | 10 | 5070 |  9 |\n",
       "| 15 | 11.057692 | 2.403126 | 0 | 0 | 1 | 0 | 0 | 0 | 0 | ⋯ | 0 | 1 | 18 | 3.24 |  5.832 | 10.4976 | 6260 | 19 |  770 |  4 |\n",
       "| 18 | 13.942308 | 2.634928 | 1 | 0 | 0 | 0 | 0 | 1 | 0 | ⋯ | 0 | 1 | 25 | 6.25 | 15.625 | 39.0625 |  420 |  1 | 6990 | 12 |\n",
       "| 19 | 28.846154 | 3.361977 | 1 | 0 | 0 | 0 | 1 | 0 | 0 | ⋯ | 0 | 1 | 22 | 4.84 | 10.648 | 23.4256 | 2015 |  6 | 9470 | 22 |\n",
       "| 30 | 11.730769 | 2.462215 | 1 | 0 | 0 | 0 | 1 | 0 | 0 | ⋯ | 0 | 1 |  1 | 0.01 |  0.001 |  0.0001 | 1650 |  5 | 7460 | 14 |\n",
       "\n"
      ],
      "text/plain": [
       "  ...1 wage      lwage    sex shs hsg scl clg ad mw ⋯ we ne exp1 exp2 exp3  \n",
       "1 10    9.615385 2.263364 1   0   0   0   1   0  0  ⋯ 0  1   7   0.49  0.343\n",
       "2 12   48.076923 3.872802 0   0   0   0   1   0  0  ⋯ 0  1  31   9.61 29.791\n",
       "3 15   11.057692 2.403126 0   0   1   0   0   0  0  ⋯ 0  1  18   3.24  5.832\n",
       "4 18   13.942308 2.634928 1   0   0   0   0   1  0  ⋯ 0  1  25   6.25 15.625\n",
       "5 19   28.846154 3.361977 1   0   0   0   1   0  0  ⋯ 0  1  22   4.84 10.648\n",
       "6 30   11.730769 2.462215 1   0   0   0   1   0  0  ⋯ 0  1   1   0.01  0.001\n",
       "  exp4    occ  occ2 ind  ind2\n",
       "1  0.2401 3600 11   8370 18  \n",
       "2 92.3521 3050 10   5070  9  \n",
       "3 10.4976 6260 19    770  4  \n",
       "4 39.0625  420  1   6990 12  \n",
       "5 23.4256 2015  6   9470 22  \n",
       "6  0.0001 1650  5   7460 14  "
      ]
     },
     "metadata": {},
     "output_type": "display_data"
    }
   ],
   "source": [
    "base <- read_excel(\"../../../data/base1.xlsx\", sheet = \"data\")\n",
    "head(base)"
   ]
  },
  {
   "cell_type": "code",
   "execution_count": 66,
   "metadata": {
    "scrolled": true
   },
   "outputs": [
    {
     "data": {
      "text/html": [
       "<table class=\"dataframe\">\n",
       "<caption>A data.frame: 6 × 21</caption>\n",
       "<thead>\n",
       "\t<tr><th></th><th scope=col>X</th><th scope=col>wage</th><th scope=col>lwage</th><th scope=col>sex</th><th scope=col>shs</th><th scope=col>hsg</th><th scope=col>scl</th><th scope=col>clg</th><th scope=col>ad</th><th scope=col>mw</th><th scope=col>⋯</th><th scope=col>we</th><th scope=col>ne</th><th scope=col>exp1</th><th scope=col>exp2</th><th scope=col>exp3</th><th scope=col>exp4</th><th scope=col>occ</th><th scope=col>occ2</th><th scope=col>ind</th><th scope=col>ind2</th></tr>\n",
       "\t<tr><th></th><th scope=col>&lt;int&gt;</th><th scope=col>&lt;dbl&gt;</th><th scope=col>&lt;dbl&gt;</th><th scope=col>&lt;int&gt;</th><th scope=col>&lt;int&gt;</th><th scope=col>&lt;int&gt;</th><th scope=col>&lt;int&gt;</th><th scope=col>&lt;int&gt;</th><th scope=col>&lt;int&gt;</th><th scope=col>&lt;int&gt;</th><th scope=col>⋯</th><th scope=col>&lt;int&gt;</th><th scope=col>&lt;int&gt;</th><th scope=col>&lt;dbl&gt;</th><th scope=col>&lt;dbl&gt;</th><th scope=col>&lt;dbl&gt;</th><th scope=col>&lt;dbl&gt;</th><th scope=col>&lt;dbl&gt;</th><th scope=col>&lt;int&gt;</th><th scope=col>&lt;dbl&gt;</th><th scope=col>&lt;int&gt;</th></tr>\n",
       "</thead>\n",
       "<tbody>\n",
       "\t<tr><th scope=row>1</th><td>10</td><td> 9.615385</td><td>2.263364</td><td>1</td><td>0</td><td>0</td><td>0</td><td>1</td><td>0</td><td>0</td><td>⋯</td><td>0</td><td>1</td><td> 7</td><td>0.49</td><td> 0.343</td><td> 0.2401</td><td>3600</td><td>11</td><td>8370</td><td>18</td></tr>\n",
       "\t<tr><th scope=row>2</th><td>12</td><td>48.076923</td><td>3.872802</td><td>0</td><td>0</td><td>0</td><td>0</td><td>1</td><td>0</td><td>0</td><td>⋯</td><td>0</td><td>1</td><td>31</td><td>9.61</td><td>29.791</td><td>92.3521</td><td>3050</td><td>10</td><td>5070</td><td> 9</td></tr>\n",
       "\t<tr><th scope=row>3</th><td>15</td><td>11.057692</td><td>2.403126</td><td>0</td><td>0</td><td>1</td><td>0</td><td>0</td><td>0</td><td>0</td><td>⋯</td><td>0</td><td>1</td><td>18</td><td>3.24</td><td> 5.832</td><td>10.4976</td><td>6260</td><td>19</td><td> 770</td><td> 4</td></tr>\n",
       "\t<tr><th scope=row>4</th><td>18</td><td>13.942308</td><td>2.634928</td><td>1</td><td>0</td><td>0</td><td>0</td><td>0</td><td>1</td><td>0</td><td>⋯</td><td>0</td><td>1</td><td>25</td><td>6.25</td><td>15.625</td><td>39.0625</td><td> 420</td><td> 1</td><td>6990</td><td>12</td></tr>\n",
       "\t<tr><th scope=row>5</th><td>19</td><td>28.846154</td><td>3.361977</td><td>1</td><td>0</td><td>0</td><td>0</td><td>1</td><td>0</td><td>0</td><td>⋯</td><td>0</td><td>1</td><td>22</td><td>4.84</td><td>10.648</td><td>23.4256</td><td>2015</td><td> 6</td><td>9470</td><td>22</td></tr>\n",
       "\t<tr><th scope=row>6</th><td>30</td><td>11.730769</td><td>2.462215</td><td>1</td><td>0</td><td>0</td><td>0</td><td>1</td><td>0</td><td>0</td><td>⋯</td><td>0</td><td>1</td><td> 1</td><td>0.01</td><td> 0.001</td><td> 0.0001</td><td>1650</td><td> 5</td><td>7460</td><td>14</td></tr>\n",
       "</tbody>\n",
       "</table>\n"
      ],
      "text/latex": [
       "A data.frame: 6 × 21\n",
       "\\begin{tabular}{r|lllllllllllllllllllll}\n",
       "  & X & wage & lwage & sex & shs & hsg & scl & clg & ad & mw & ⋯ & we & ne & exp1 & exp2 & exp3 & exp4 & occ & occ2 & ind & ind2\\\\\n",
       "  & <int> & <dbl> & <dbl> & <int> & <int> & <int> & <int> & <int> & <int> & <int> & ⋯ & <int> & <int> & <dbl> & <dbl> & <dbl> & <dbl> & <dbl> & <int> & <dbl> & <int>\\\\\n",
       "\\hline\n",
       "\t1 & 10 &  9.615385 & 2.263364 & 1 & 0 & 0 & 0 & 1 & 0 & 0 & ⋯ & 0 & 1 &  7 & 0.49 &  0.343 &  0.2401 & 3600 & 11 & 8370 & 18\\\\\n",
       "\t2 & 12 & 48.076923 & 3.872802 & 0 & 0 & 0 & 0 & 1 & 0 & 0 & ⋯ & 0 & 1 & 31 & 9.61 & 29.791 & 92.3521 & 3050 & 10 & 5070 &  9\\\\\n",
       "\t3 & 15 & 11.057692 & 2.403126 & 0 & 0 & 1 & 0 & 0 & 0 & 0 & ⋯ & 0 & 1 & 18 & 3.24 &  5.832 & 10.4976 & 6260 & 19 &  770 &  4\\\\\n",
       "\t4 & 18 & 13.942308 & 2.634928 & 1 & 0 & 0 & 0 & 0 & 1 & 0 & ⋯ & 0 & 1 & 25 & 6.25 & 15.625 & 39.0625 &  420 &  1 & 6990 & 12\\\\\n",
       "\t5 & 19 & 28.846154 & 3.361977 & 1 & 0 & 0 & 0 & 1 & 0 & 0 & ⋯ & 0 & 1 & 22 & 4.84 & 10.648 & 23.4256 & 2015 &  6 & 9470 & 22\\\\\n",
       "\t6 & 30 & 11.730769 & 2.462215 & 1 & 0 & 0 & 0 & 1 & 0 & 0 & ⋯ & 0 & 1 &  1 & 0.01 &  0.001 &  0.0001 & 1650 &  5 & 7460 & 14\\\\\n",
       "\\end{tabular}\n"
      ],
      "text/markdown": [
       "\n",
       "A data.frame: 6 × 21\n",
       "\n",
       "| <!--/--> | X &lt;int&gt; | wage &lt;dbl&gt; | lwage &lt;dbl&gt; | sex &lt;int&gt; | shs &lt;int&gt; | hsg &lt;int&gt; | scl &lt;int&gt; | clg &lt;int&gt; | ad &lt;int&gt; | mw &lt;int&gt; | ⋯ ⋯ | we &lt;int&gt; | ne &lt;int&gt; | exp1 &lt;dbl&gt; | exp2 &lt;dbl&gt; | exp3 &lt;dbl&gt; | exp4 &lt;dbl&gt; | occ &lt;dbl&gt; | occ2 &lt;int&gt; | ind &lt;dbl&gt; | ind2 &lt;int&gt; |\n",
       "|---|---|---|---|---|---|---|---|---|---|---|---|---|---|---|---|---|---|---|---|---|---|\n",
       "| 1 | 10 |  9.615385 | 2.263364 | 1 | 0 | 0 | 0 | 1 | 0 | 0 | ⋯ | 0 | 1 |  7 | 0.49 |  0.343 |  0.2401 | 3600 | 11 | 8370 | 18 |\n",
       "| 2 | 12 | 48.076923 | 3.872802 | 0 | 0 | 0 | 0 | 1 | 0 | 0 | ⋯ | 0 | 1 | 31 | 9.61 | 29.791 | 92.3521 | 3050 | 10 | 5070 |  9 |\n",
       "| 3 | 15 | 11.057692 | 2.403126 | 0 | 0 | 1 | 0 | 0 | 0 | 0 | ⋯ | 0 | 1 | 18 | 3.24 |  5.832 | 10.4976 | 6260 | 19 |  770 |  4 |\n",
       "| 4 | 18 | 13.942308 | 2.634928 | 1 | 0 | 0 | 0 | 0 | 1 | 0 | ⋯ | 0 | 1 | 25 | 6.25 | 15.625 | 39.0625 |  420 |  1 | 6990 | 12 |\n",
       "| 5 | 19 | 28.846154 | 3.361977 | 1 | 0 | 0 | 0 | 1 | 0 | 0 | ⋯ | 0 | 1 | 22 | 4.84 | 10.648 | 23.4256 | 2015 |  6 | 9470 | 22 |\n",
       "| 6 | 30 | 11.730769 | 2.462215 | 1 | 0 | 0 | 0 | 1 | 0 | 0 | ⋯ | 0 | 1 |  1 | 0.01 |  0.001 |  0.0001 | 1650 |  5 | 7460 | 14 |\n",
       "\n"
      ],
      "text/plain": [
       "  X  wage      lwage    sex shs hsg scl clg ad mw ⋯ we ne exp1 exp2 exp3  \n",
       "1 10  9.615385 2.263364 1   0   0   0   1   0  0  ⋯ 0  1   7   0.49  0.343\n",
       "2 12 48.076923 3.872802 0   0   0   0   1   0  0  ⋯ 0  1  31   9.61 29.791\n",
       "3 15 11.057692 2.403126 0   0   1   0   0   0  0  ⋯ 0  1  18   3.24  5.832\n",
       "4 18 13.942308 2.634928 1   0   0   0   0   1  0  ⋯ 0  1  25   6.25 15.625\n",
       "5 19 28.846154 3.361977 1   0   0   0   1   0  0  ⋯ 0  1  22   4.84 10.648\n",
       "6 30 11.730769 2.462215 1   0   0   0   1   0  0  ⋯ 0  1   1   0.01  0.001\n",
       "  exp4    occ  occ2 ind  ind2\n",
       "1  0.2401 3600 11   8370 18  \n",
       "2 92.3521 3050 10   5070  9  \n",
       "3 10.4976 6260 19    770  4  \n",
       "4 39.0625  420  1   6990 12  \n",
       "5 23.4256 2015  6   9470 22  \n",
       "6  0.0001 1650  5   7460 14  "
      ]
     },
     "metadata": {},
     "output_type": "display_data"
    }
   ],
   "source": [
    "base <- read.csv(file = \"../../../data/base0.csv\")\n",
    "head(base)"
   ]
  },
  {
   "cell_type": "code",
   "execution_count": 67,
   "metadata": {},
   "outputs": [
    {
     "data": {
      "text/html": [
       "<style>\n",
       ".dl-inline {width: auto; margin:0; padding: 0}\n",
       ".dl-inline>dt, .dl-inline>dd {float: none; width: auto; display: inline-block}\n",
       ".dl-inline>dt::after {content: \":\\0020\"; padding-right: .5ex}\n",
       ".dl-inline>dt:not(:first-of-type) {padding-left: .5ex}\n",
       "</style><dl class=dl-inline><dt>X</dt><dd>'integer'</dd><dt>wage</dt><dd>'double'</dd><dt>lwage</dt><dd>'double'</dd><dt>sex</dt><dd>'integer'</dd><dt>shs</dt><dd>'integer'</dd><dt>hsg</dt><dd>'integer'</dd><dt>scl</dt><dd>'integer'</dd><dt>clg</dt><dd>'integer'</dd><dt>ad</dt><dd>'integer'</dd><dt>mw</dt><dd>'integer'</dd><dt>so</dt><dd>'integer'</dd><dt>we</dt><dd>'integer'</dd><dt>ne</dt><dd>'integer'</dd><dt>exp1</dt><dd>'double'</dd><dt>exp2</dt><dd>'double'</dd><dt>exp3</dt><dd>'double'</dd><dt>exp4</dt><dd>'double'</dd><dt>occ</dt><dd>'double'</dd><dt>occ2</dt><dd>'integer'</dd><dt>ind</dt><dd>'double'</dd><dt>ind2</dt><dd>'integer'</dd></dl>\n"
      ],
      "text/latex": [
       "\\begin{description*}\n",
       "\\item[X] 'integer'\n",
       "\\item[wage] 'double'\n",
       "\\item[lwage] 'double'\n",
       "\\item[sex] 'integer'\n",
       "\\item[shs] 'integer'\n",
       "\\item[hsg] 'integer'\n",
       "\\item[scl] 'integer'\n",
       "\\item[clg] 'integer'\n",
       "\\item[ad] 'integer'\n",
       "\\item[mw] 'integer'\n",
       "\\item[so] 'integer'\n",
       "\\item[we] 'integer'\n",
       "\\item[ne] 'integer'\n",
       "\\item[exp1] 'double'\n",
       "\\item[exp2] 'double'\n",
       "\\item[exp3] 'double'\n",
       "\\item[exp4] 'double'\n",
       "\\item[occ] 'double'\n",
       "\\item[occ2] 'integer'\n",
       "\\item[ind] 'double'\n",
       "\\item[ind2] 'integer'\n",
       "\\end{description*}\n"
      ],
      "text/markdown": [
       "X\n",
       ":   'integer'wage\n",
       ":   'double'lwage\n",
       ":   'double'sex\n",
       ":   'integer'shs\n",
       ":   'integer'hsg\n",
       ":   'integer'scl\n",
       ":   'integer'clg\n",
       ":   'integer'ad\n",
       ":   'integer'mw\n",
       ":   'integer'so\n",
       ":   'integer'we\n",
       ":   'integer'ne\n",
       ":   'integer'exp1\n",
       ":   'double'exp2\n",
       ":   'double'exp3\n",
       ":   'double'exp4\n",
       ":   'double'occ\n",
       ":   'double'occ2\n",
       ":   'integer'ind\n",
       ":   'double'ind2\n",
       ":   'integer'\n",
       "\n"
      ],
      "text/plain": [
       "        X      wage     lwage       sex       shs       hsg       scl       clg \n",
       "\"integer\"  \"double\"  \"double\" \"integer\" \"integer\" \"integer\" \"integer\" \"integer\" \n",
       "       ad        mw        so        we        ne      exp1      exp2      exp3 \n",
       "\"integer\" \"integer\" \"integer\" \"integer\" \"integer\"  \"double\"  \"double\"  \"double\" \n",
       "     exp4       occ      occ2       ind      ind2 \n",
       " \"double\"  \"double\" \"integer\"  \"double\" \"integer\" "
      ]
     },
     "metadata": {},
     "output_type": "display_data"
    }
   ],
   "source": [
    "sapply(base, typeof)"
   ]
  },
  {
   "cell_type": "code",
   "execution_count": 68,
   "metadata": {},
   "outputs": [
    {
     "name": "stdout",
     "output_type": "stream",
     "text": [
      "'data.frame':\t5150 obs. of  21 variables:\n",
      " $ X    : int  10 12 15 18 19 30 43 44 47 71 ...\n",
      " $ wage : num  9.62 48.08 11.06 13.94 28.85 ...\n",
      " $ lwage: num  2.26 3.87 2.4 2.63 3.36 ...\n",
      " $ sex  : int  1 0 0 1 1 1 1 0 1 1 ...\n",
      " $ shs  : int  0 0 0 0 0 0 0 0 0 0 ...\n",
      " $ hsg  : int  0 0 1 0 0 0 1 1 1 0 ...\n",
      " $ scl  : int  0 0 0 0 0 0 0 0 0 0 ...\n",
      " $ clg  : int  1 1 0 0 1 1 0 0 0 1 ...\n",
      " $ ad   : int  0 0 0 1 0 0 0 0 0 0 ...\n",
      " $ mw   : int  0 0 0 0 0 0 0 0 0 0 ...\n",
      " $ so   : int  0 0 0 0 0 0 0 0 0 0 ...\n",
      " $ we   : int  0 0 0 0 0 0 0 0 0 0 ...\n",
      " $ ne   : int  1 1 1 1 1 1 1 1 1 1 ...\n",
      " $ exp1 : num  7 31 18 25 22 1 42 37 31 4 ...\n",
      " $ exp2 : num  0.49 9.61 3.24 6.25 4.84 ...\n",
      " $ exp3 : num  0.343 29.791 5.832 15.625 10.648 ...\n",
      " $ exp4 : num  0.24 92.35 10.5 39.06 23.43 ...\n",
      " $ occ  : num  3600 3050 6260 420 2015 ...\n",
      " $ occ2 : int  11 10 19 1 6 5 17 17 13 10 ...\n",
      " $ ind  : num  8370 5070 770 6990 9470 7460 7280 5680 8590 8190 ...\n",
      " $ ind2 : int  18 9 4 12 22 14 14 9 19 18 ...\n"
     ]
    }
   ],
   "source": [
    "str(base)"
   ]
  },
  {
   "cell_type": "code",
   "execution_count": 69,
   "metadata": {},
   "outputs": [
    {
     "name": "stderr",
     "output_type": "stream",
     "text": [
      "\n",
      "Attaching package: 'dplyr'\n",
      "\n",
      "\n",
      "The following objects are masked from 'package:stats':\n",
      "\n",
      "    filter, lag\n",
      "\n",
      "\n",
      "The following objects are masked from 'package:base':\n",
      "\n",
      "    intersect, setdiff, setequal, union\n",
      "\n",
      "\n"
     ]
    }
   ],
   "source": [
    "#install.packages(\"dplyr\")\n",
    "library(dplyr)"
   ]
  },
  {
   "cell_type": "code",
   "execution_count": 70,
   "metadata": {
    "scrolled": false
   },
   "outputs": [
    {
     "data": {
      "text/html": [
       "<table class=\"dataframe\">\n",
       "<caption>A data.frame: 6 × 21</caption>\n",
       "<thead>\n",
       "\t<tr><th></th><th scope=col>id</th><th scope=col>salario</th><th scope=col>lwage</th><th scope=col>sex</th><th scope=col>shs</th><th scope=col>hsg</th><th scope=col>scl</th><th scope=col>clg</th><th scope=col>ad</th><th scope=col>mw</th><th scope=col>⋯</th><th scope=col>we</th><th scope=col>ne</th><th scope=col>exp1</th><th scope=col>exp2</th><th scope=col>exp3</th><th scope=col>exp4</th><th scope=col>occ</th><th scope=col>occ2</th><th scope=col>ind</th><th scope=col>ind2</th></tr>\n",
       "\t<tr><th></th><th scope=col>&lt;int&gt;</th><th scope=col>&lt;dbl&gt;</th><th scope=col>&lt;dbl&gt;</th><th scope=col>&lt;int&gt;</th><th scope=col>&lt;int&gt;</th><th scope=col>&lt;int&gt;</th><th scope=col>&lt;int&gt;</th><th scope=col>&lt;int&gt;</th><th scope=col>&lt;int&gt;</th><th scope=col>&lt;int&gt;</th><th scope=col>⋯</th><th scope=col>&lt;int&gt;</th><th scope=col>&lt;int&gt;</th><th scope=col>&lt;dbl&gt;</th><th scope=col>&lt;dbl&gt;</th><th scope=col>&lt;dbl&gt;</th><th scope=col>&lt;dbl&gt;</th><th scope=col>&lt;dbl&gt;</th><th scope=col>&lt;int&gt;</th><th scope=col>&lt;dbl&gt;</th><th scope=col>&lt;int&gt;</th></tr>\n",
       "</thead>\n",
       "<tbody>\n",
       "\t<tr><th scope=row>1</th><td>10</td><td> 9.615385</td><td>2.263364</td><td>1</td><td>0</td><td>0</td><td>0</td><td>1</td><td>0</td><td>0</td><td>⋯</td><td>0</td><td>1</td><td> 7</td><td>0.49</td><td> 0.343</td><td> 0.2401</td><td>3600</td><td>11</td><td>8370</td><td>18</td></tr>\n",
       "\t<tr><th scope=row>2</th><td>12</td><td>48.076923</td><td>3.872802</td><td>0</td><td>0</td><td>0</td><td>0</td><td>1</td><td>0</td><td>0</td><td>⋯</td><td>0</td><td>1</td><td>31</td><td>9.61</td><td>29.791</td><td>92.3521</td><td>3050</td><td>10</td><td>5070</td><td> 9</td></tr>\n",
       "\t<tr><th scope=row>3</th><td>15</td><td>11.057692</td><td>2.403126</td><td>0</td><td>0</td><td>1</td><td>0</td><td>0</td><td>0</td><td>0</td><td>⋯</td><td>0</td><td>1</td><td>18</td><td>3.24</td><td> 5.832</td><td>10.4976</td><td>6260</td><td>19</td><td> 770</td><td> 4</td></tr>\n",
       "\t<tr><th scope=row>4</th><td>18</td><td>13.942308</td><td>2.634928</td><td>1</td><td>0</td><td>0</td><td>0</td><td>0</td><td>1</td><td>0</td><td>⋯</td><td>0</td><td>1</td><td>25</td><td>6.25</td><td>15.625</td><td>39.0625</td><td> 420</td><td> 1</td><td>6990</td><td>12</td></tr>\n",
       "\t<tr><th scope=row>5</th><td>19</td><td>28.846154</td><td>3.361977</td><td>1</td><td>0</td><td>0</td><td>0</td><td>1</td><td>0</td><td>0</td><td>⋯</td><td>0</td><td>1</td><td>22</td><td>4.84</td><td>10.648</td><td>23.4256</td><td>2015</td><td> 6</td><td>9470</td><td>22</td></tr>\n",
       "\t<tr><th scope=row>6</th><td>30</td><td>11.730769</td><td>2.462215</td><td>1</td><td>0</td><td>0</td><td>0</td><td>1</td><td>0</td><td>0</td><td>⋯</td><td>0</td><td>1</td><td> 1</td><td>0.01</td><td> 0.001</td><td> 0.0001</td><td>1650</td><td> 5</td><td>7460</td><td>14</td></tr>\n",
       "</tbody>\n",
       "</table>\n"
      ],
      "text/latex": [
       "A data.frame: 6 × 21\n",
       "\\begin{tabular}{r|lllllllllllllllllllll}\n",
       "  & id & salario & lwage & sex & shs & hsg & scl & clg & ad & mw & ⋯ & we & ne & exp1 & exp2 & exp3 & exp4 & occ & occ2 & ind & ind2\\\\\n",
       "  & <int> & <dbl> & <dbl> & <int> & <int> & <int> & <int> & <int> & <int> & <int> & ⋯ & <int> & <int> & <dbl> & <dbl> & <dbl> & <dbl> & <dbl> & <int> & <dbl> & <int>\\\\\n",
       "\\hline\n",
       "\t1 & 10 &  9.615385 & 2.263364 & 1 & 0 & 0 & 0 & 1 & 0 & 0 & ⋯ & 0 & 1 &  7 & 0.49 &  0.343 &  0.2401 & 3600 & 11 & 8370 & 18\\\\\n",
       "\t2 & 12 & 48.076923 & 3.872802 & 0 & 0 & 0 & 0 & 1 & 0 & 0 & ⋯ & 0 & 1 & 31 & 9.61 & 29.791 & 92.3521 & 3050 & 10 & 5070 &  9\\\\\n",
       "\t3 & 15 & 11.057692 & 2.403126 & 0 & 0 & 1 & 0 & 0 & 0 & 0 & ⋯ & 0 & 1 & 18 & 3.24 &  5.832 & 10.4976 & 6260 & 19 &  770 &  4\\\\\n",
       "\t4 & 18 & 13.942308 & 2.634928 & 1 & 0 & 0 & 0 & 0 & 1 & 0 & ⋯ & 0 & 1 & 25 & 6.25 & 15.625 & 39.0625 &  420 &  1 & 6990 & 12\\\\\n",
       "\t5 & 19 & 28.846154 & 3.361977 & 1 & 0 & 0 & 0 & 1 & 0 & 0 & ⋯ & 0 & 1 & 22 & 4.84 & 10.648 & 23.4256 & 2015 &  6 & 9470 & 22\\\\\n",
       "\t6 & 30 & 11.730769 & 2.462215 & 1 & 0 & 0 & 0 & 1 & 0 & 0 & ⋯ & 0 & 1 &  1 & 0.01 &  0.001 &  0.0001 & 1650 &  5 & 7460 & 14\\\\\n",
       "\\end{tabular}\n"
      ],
      "text/markdown": [
       "\n",
       "A data.frame: 6 × 21\n",
       "\n",
       "| <!--/--> | id &lt;int&gt; | salario &lt;dbl&gt; | lwage &lt;dbl&gt; | sex &lt;int&gt; | shs &lt;int&gt; | hsg &lt;int&gt; | scl &lt;int&gt; | clg &lt;int&gt; | ad &lt;int&gt; | mw &lt;int&gt; | ⋯ ⋯ | we &lt;int&gt; | ne &lt;int&gt; | exp1 &lt;dbl&gt; | exp2 &lt;dbl&gt; | exp3 &lt;dbl&gt; | exp4 &lt;dbl&gt; | occ &lt;dbl&gt; | occ2 &lt;int&gt; | ind &lt;dbl&gt; | ind2 &lt;int&gt; |\n",
       "|---|---|---|---|---|---|---|---|---|---|---|---|---|---|---|---|---|---|---|---|---|---|\n",
       "| 1 | 10 |  9.615385 | 2.263364 | 1 | 0 | 0 | 0 | 1 | 0 | 0 | ⋯ | 0 | 1 |  7 | 0.49 |  0.343 |  0.2401 | 3600 | 11 | 8370 | 18 |\n",
       "| 2 | 12 | 48.076923 | 3.872802 | 0 | 0 | 0 | 0 | 1 | 0 | 0 | ⋯ | 0 | 1 | 31 | 9.61 | 29.791 | 92.3521 | 3050 | 10 | 5070 |  9 |\n",
       "| 3 | 15 | 11.057692 | 2.403126 | 0 | 0 | 1 | 0 | 0 | 0 | 0 | ⋯ | 0 | 1 | 18 | 3.24 |  5.832 | 10.4976 | 6260 | 19 |  770 |  4 |\n",
       "| 4 | 18 | 13.942308 | 2.634928 | 1 | 0 | 0 | 0 | 0 | 1 | 0 | ⋯ | 0 | 1 | 25 | 6.25 | 15.625 | 39.0625 |  420 |  1 | 6990 | 12 |\n",
       "| 5 | 19 | 28.846154 | 3.361977 | 1 | 0 | 0 | 0 | 1 | 0 | 0 | ⋯ | 0 | 1 | 22 | 4.84 | 10.648 | 23.4256 | 2015 |  6 | 9470 | 22 |\n",
       "| 6 | 30 | 11.730769 | 2.462215 | 1 | 0 | 0 | 0 | 1 | 0 | 0 | ⋯ | 0 | 1 |  1 | 0.01 |  0.001 |  0.0001 | 1650 |  5 | 7460 | 14 |\n",
       "\n"
      ],
      "text/plain": [
       "  id salario   lwage    sex shs hsg scl clg ad mw ⋯ we ne exp1 exp2 exp3  \n",
       "1 10  9.615385 2.263364 1   0   0   0   1   0  0  ⋯ 0  1   7   0.49  0.343\n",
       "2 12 48.076923 3.872802 0   0   0   0   1   0  0  ⋯ 0  1  31   9.61 29.791\n",
       "3 15 11.057692 2.403126 0   0   1   0   0   0  0  ⋯ 0  1  18   3.24  5.832\n",
       "4 18 13.942308 2.634928 1   0   0   0   0   1  0  ⋯ 0  1  25   6.25 15.625\n",
       "5 19 28.846154 3.361977 1   0   0   0   1   0  0  ⋯ 0  1  22   4.84 10.648\n",
       "6 30 11.730769 2.462215 1   0   0   0   1   0  0  ⋯ 0  1   1   0.01  0.001\n",
       "  exp4    occ  occ2 ind  ind2\n",
       "1  0.2401 3600 11   8370 18  \n",
       "2 92.3521 3050 10   5070  9  \n",
       "3 10.4976 6260 19    770  4  \n",
       "4 39.0625  420  1   6990 12  \n",
       "5 23.4256 2015  6   9470 22  \n",
       "6  0.0001 1650  5   7460 14  "
      ]
     },
     "metadata": {},
     "output_type": "display_data"
    }
   ],
   "source": [
    "base1 <- base %>% rename(salario = wage, id = X)\n",
    "\n",
    "head(base1)"
   ]
  },
  {
   "cell_type": "code",
   "execution_count": 71,
   "metadata": {},
   "outputs": [],
   "source": [
    "base1 <- base1 %>% select(-c(id,ind2))"
   ]
  },
  {
   "cell_type": "code",
   "execution_count": 72,
   "metadata": {
    "scrolled": false
   },
   "outputs": [
    {
     "data": {
      "text/html": [
       "<table class=\"dataframe\">\n",
       "<caption>A data.frame: 6 × 19</caption>\n",
       "<thead>\n",
       "\t<tr><th></th><th scope=col>salario</th><th scope=col>lwage</th><th scope=col>sex</th><th scope=col>shs</th><th scope=col>hsg</th><th scope=col>scl</th><th scope=col>clg</th><th scope=col>ad</th><th scope=col>mw</th><th scope=col>so</th><th scope=col>we</th><th scope=col>ne</th><th scope=col>exp1</th><th scope=col>exp2</th><th scope=col>exp3</th><th scope=col>exp4</th><th scope=col>occ</th><th scope=col>occ2</th><th scope=col>ind</th></tr>\n",
       "\t<tr><th></th><th scope=col>&lt;dbl&gt;</th><th scope=col>&lt;dbl&gt;</th><th scope=col>&lt;int&gt;</th><th scope=col>&lt;int&gt;</th><th scope=col>&lt;int&gt;</th><th scope=col>&lt;int&gt;</th><th scope=col>&lt;int&gt;</th><th scope=col>&lt;int&gt;</th><th scope=col>&lt;int&gt;</th><th scope=col>&lt;int&gt;</th><th scope=col>&lt;int&gt;</th><th scope=col>&lt;int&gt;</th><th scope=col>&lt;dbl&gt;</th><th scope=col>&lt;dbl&gt;</th><th scope=col>&lt;dbl&gt;</th><th scope=col>&lt;dbl&gt;</th><th scope=col>&lt;dbl&gt;</th><th scope=col>&lt;int&gt;</th><th scope=col>&lt;dbl&gt;</th></tr>\n",
       "</thead>\n",
       "<tbody>\n",
       "\t<tr><th scope=row>1</th><td> 9.615385</td><td>2.263364</td><td>1</td><td>0</td><td>0</td><td>0</td><td>1</td><td>0</td><td>0</td><td>0</td><td>0</td><td>1</td><td> 7</td><td>0.49</td><td> 0.343</td><td> 0.2401</td><td>3600</td><td>11</td><td>8370</td></tr>\n",
       "\t<tr><th scope=row>2</th><td>48.076923</td><td>3.872802</td><td>0</td><td>0</td><td>0</td><td>0</td><td>1</td><td>0</td><td>0</td><td>0</td><td>0</td><td>1</td><td>31</td><td>9.61</td><td>29.791</td><td>92.3521</td><td>3050</td><td>10</td><td>5070</td></tr>\n",
       "\t<tr><th scope=row>3</th><td>11.057692</td><td>2.403126</td><td>0</td><td>0</td><td>1</td><td>0</td><td>0</td><td>0</td><td>0</td><td>0</td><td>0</td><td>1</td><td>18</td><td>3.24</td><td> 5.832</td><td>10.4976</td><td>6260</td><td>19</td><td> 770</td></tr>\n",
       "\t<tr><th scope=row>4</th><td>13.942308</td><td>2.634928</td><td>1</td><td>0</td><td>0</td><td>0</td><td>0</td><td>1</td><td>0</td><td>0</td><td>0</td><td>1</td><td>25</td><td>6.25</td><td>15.625</td><td>39.0625</td><td> 420</td><td> 1</td><td>6990</td></tr>\n",
       "\t<tr><th scope=row>5</th><td>28.846154</td><td>3.361977</td><td>1</td><td>0</td><td>0</td><td>0</td><td>1</td><td>0</td><td>0</td><td>0</td><td>0</td><td>1</td><td>22</td><td>4.84</td><td>10.648</td><td>23.4256</td><td>2015</td><td> 6</td><td>9470</td></tr>\n",
       "\t<tr><th scope=row>6</th><td>11.730769</td><td>2.462215</td><td>1</td><td>0</td><td>0</td><td>0</td><td>1</td><td>0</td><td>0</td><td>0</td><td>0</td><td>1</td><td> 1</td><td>0.01</td><td> 0.001</td><td> 0.0001</td><td>1650</td><td> 5</td><td>7460</td></tr>\n",
       "</tbody>\n",
       "</table>\n"
      ],
      "text/latex": [
       "A data.frame: 6 × 19\n",
       "\\begin{tabular}{r|lllllllllllllllllll}\n",
       "  & salario & lwage & sex & shs & hsg & scl & clg & ad & mw & so & we & ne & exp1 & exp2 & exp3 & exp4 & occ & occ2 & ind\\\\\n",
       "  & <dbl> & <dbl> & <int> & <int> & <int> & <int> & <int> & <int> & <int> & <int> & <int> & <int> & <dbl> & <dbl> & <dbl> & <dbl> & <dbl> & <int> & <dbl>\\\\\n",
       "\\hline\n",
       "\t1 &  9.615385 & 2.263364 & 1 & 0 & 0 & 0 & 1 & 0 & 0 & 0 & 0 & 1 &  7 & 0.49 &  0.343 &  0.2401 & 3600 & 11 & 8370\\\\\n",
       "\t2 & 48.076923 & 3.872802 & 0 & 0 & 0 & 0 & 1 & 0 & 0 & 0 & 0 & 1 & 31 & 9.61 & 29.791 & 92.3521 & 3050 & 10 & 5070\\\\\n",
       "\t3 & 11.057692 & 2.403126 & 0 & 0 & 1 & 0 & 0 & 0 & 0 & 0 & 0 & 1 & 18 & 3.24 &  5.832 & 10.4976 & 6260 & 19 &  770\\\\\n",
       "\t4 & 13.942308 & 2.634928 & 1 & 0 & 0 & 0 & 0 & 1 & 0 & 0 & 0 & 1 & 25 & 6.25 & 15.625 & 39.0625 &  420 &  1 & 6990\\\\\n",
       "\t5 & 28.846154 & 3.361977 & 1 & 0 & 0 & 0 & 1 & 0 & 0 & 0 & 0 & 1 & 22 & 4.84 & 10.648 & 23.4256 & 2015 &  6 & 9470\\\\\n",
       "\t6 & 11.730769 & 2.462215 & 1 & 0 & 0 & 0 & 1 & 0 & 0 & 0 & 0 & 1 &  1 & 0.01 &  0.001 &  0.0001 & 1650 &  5 & 7460\\\\\n",
       "\\end{tabular}\n"
      ],
      "text/markdown": [
       "\n",
       "A data.frame: 6 × 19\n",
       "\n",
       "| <!--/--> | salario &lt;dbl&gt; | lwage &lt;dbl&gt; | sex &lt;int&gt; | shs &lt;int&gt; | hsg &lt;int&gt; | scl &lt;int&gt; | clg &lt;int&gt; | ad &lt;int&gt; | mw &lt;int&gt; | so &lt;int&gt; | we &lt;int&gt; | ne &lt;int&gt; | exp1 &lt;dbl&gt; | exp2 &lt;dbl&gt; | exp3 &lt;dbl&gt; | exp4 &lt;dbl&gt; | occ &lt;dbl&gt; | occ2 &lt;int&gt; | ind &lt;dbl&gt; |\n",
       "|---|---|---|---|---|---|---|---|---|---|---|---|---|---|---|---|---|---|---|---|\n",
       "| 1 |  9.615385 | 2.263364 | 1 | 0 | 0 | 0 | 1 | 0 | 0 | 0 | 0 | 1 |  7 | 0.49 |  0.343 |  0.2401 | 3600 | 11 | 8370 |\n",
       "| 2 | 48.076923 | 3.872802 | 0 | 0 | 0 | 0 | 1 | 0 | 0 | 0 | 0 | 1 | 31 | 9.61 | 29.791 | 92.3521 | 3050 | 10 | 5070 |\n",
       "| 3 | 11.057692 | 2.403126 | 0 | 0 | 1 | 0 | 0 | 0 | 0 | 0 | 0 | 1 | 18 | 3.24 |  5.832 | 10.4976 | 6260 | 19 |  770 |\n",
       "| 4 | 13.942308 | 2.634928 | 1 | 0 | 0 | 0 | 0 | 1 | 0 | 0 | 0 | 1 | 25 | 6.25 | 15.625 | 39.0625 |  420 |  1 | 6990 |\n",
       "| 5 | 28.846154 | 3.361977 | 1 | 0 | 0 | 0 | 1 | 0 | 0 | 0 | 0 | 1 | 22 | 4.84 | 10.648 | 23.4256 | 2015 |  6 | 9470 |\n",
       "| 6 | 11.730769 | 2.462215 | 1 | 0 | 0 | 0 | 1 | 0 | 0 | 0 | 0 | 1 |  1 | 0.01 |  0.001 |  0.0001 | 1650 |  5 | 7460 |\n",
       "\n"
      ],
      "text/plain": [
       "  salario   lwage    sex shs hsg scl clg ad mw so we ne exp1 exp2 exp3  \n",
       "1  9.615385 2.263364 1   0   0   0   1   0  0  0  0  1   7   0.49  0.343\n",
       "2 48.076923 3.872802 0   0   0   0   1   0  0  0  0  1  31   9.61 29.791\n",
       "3 11.057692 2.403126 0   0   1   0   0   0  0  0  0  1  18   3.24  5.832\n",
       "4 13.942308 2.634928 1   0   0   0   0   1  0  0  0  1  25   6.25 15.625\n",
       "5 28.846154 3.361977 1   0   0   0   1   0  0  0  0  1  22   4.84 10.648\n",
       "6 11.730769 2.462215 1   0   0   0   1   0  0  0  0  1   1   0.01  0.001\n",
       "  exp4    occ  occ2 ind \n",
       "1  0.2401 3600 11   8370\n",
       "2 92.3521 3050 10   5070\n",
       "3 10.4976 6260 19    770\n",
       "4 39.0625  420  1   6990\n",
       "5 23.4256 2015  6   9470\n",
       "6  0.0001 1650  5   7460"
      ]
     },
     "metadata": {},
     "output_type": "display_data"
    }
   ],
   "source": [
    "head(base1)"
   ]
  },
  {
   "cell_type": "code",
   "execution_count": 73,
   "metadata": {
    "scrolled": true
   },
   "outputs": [
    {
     "data": {
      "text/html": [
       "<table class=\"dataframe\">\n",
       "<caption>A data.frame: 6 × 19</caption>\n",
       "<thead>\n",
       "\t<tr><th></th><th scope=col>salario</th><th scope=col>lwage</th><th scope=col>sex</th><th scope=col>shs</th><th scope=col>hsg</th><th scope=col>scl</th><th scope=col>clg</th><th scope=col>ad</th><th scope=col>mw</th><th scope=col>so</th><th scope=col>we</th><th scope=col>ne</th><th scope=col>exp1</th><th scope=col>exp2</th><th scope=col>exp3</th><th scope=col>exp4</th><th scope=col>occ</th><th scope=col>occ2</th><th scope=col>ind</th></tr>\n",
       "\t<tr><th></th><th scope=col>&lt;dbl&gt;</th><th scope=col>&lt;dbl&gt;</th><th scope=col>&lt;int&gt;</th><th scope=col>&lt;int&gt;</th><th scope=col>&lt;int&gt;</th><th scope=col>&lt;int&gt;</th><th scope=col>&lt;int&gt;</th><th scope=col>&lt;int&gt;</th><th scope=col>&lt;int&gt;</th><th scope=col>&lt;int&gt;</th><th scope=col>&lt;int&gt;</th><th scope=col>&lt;int&gt;</th><th scope=col>&lt;dbl&gt;</th><th scope=col>&lt;dbl&gt;</th><th scope=col>&lt;dbl&gt;</th><th scope=col>&lt;dbl&gt;</th><th scope=col>&lt;dbl&gt;</th><th scope=col>&lt;int&gt;</th><th scope=col>&lt;dbl&gt;</th></tr>\n",
       "</thead>\n",
       "<tbody>\n",
       "\t<tr><th scope=row>1</th><td>48.07692</td><td>3.872802</td><td>0</td><td>0</td><td>0</td><td>0</td><td>1</td><td>0</td><td>0</td><td>0</td><td>0</td><td>1</td><td>31</td><td> 9.61</td><td>29.791</td><td> 92.3521</td><td>3050</td><td>10</td><td>5070</td></tr>\n",
       "\t<tr><th scope=row>2</th><td>13.94231</td><td>2.634928</td><td>1</td><td>0</td><td>0</td><td>0</td><td>0</td><td>1</td><td>0</td><td>0</td><td>0</td><td>1</td><td>25</td><td> 6.25</td><td>15.625</td><td> 39.0625</td><td> 420</td><td> 1</td><td>6990</td></tr>\n",
       "\t<tr><th scope=row>3</th><td>28.84615</td><td>3.361977</td><td>1</td><td>0</td><td>0</td><td>0</td><td>1</td><td>0</td><td>0</td><td>0</td><td>0</td><td>1</td><td>22</td><td> 4.84</td><td>10.648</td><td> 23.4256</td><td>2015</td><td> 6</td><td>9470</td></tr>\n",
       "\t<tr><th scope=row>4</th><td>11.73077</td><td>2.462215</td><td>1</td><td>0</td><td>0</td><td>0</td><td>1</td><td>0</td><td>0</td><td>0</td><td>0</td><td>1</td><td> 1</td><td> 0.01</td><td> 0.001</td><td>  0.0001</td><td>1650</td><td> 5</td><td>7460</td></tr>\n",
       "\t<tr><th scope=row>5</th><td>19.23077</td><td>2.956512</td><td>1</td><td>0</td><td>1</td><td>0</td><td>0</td><td>0</td><td>0</td><td>0</td><td>0</td><td>1</td><td>42</td><td>17.64</td><td>74.088</td><td>311.1696</td><td>5120</td><td>17</td><td>7280</td></tr>\n",
       "\t<tr><th scope=row>6</th><td>19.23077</td><td>2.956512</td><td>0</td><td>0</td><td>1</td><td>0</td><td>0</td><td>0</td><td>0</td><td>0</td><td>0</td><td>1</td><td>37</td><td>13.69</td><td>50.653</td><td>187.4161</td><td>5240</td><td>17</td><td>5680</td></tr>\n",
       "</tbody>\n",
       "</table>\n"
      ],
      "text/latex": [
       "A data.frame: 6 × 19\n",
       "\\begin{tabular}{r|lllllllllllllllllll}\n",
       "  & salario & lwage & sex & shs & hsg & scl & clg & ad & mw & so & we & ne & exp1 & exp2 & exp3 & exp4 & occ & occ2 & ind\\\\\n",
       "  & <dbl> & <dbl> & <int> & <int> & <int> & <int> & <int> & <int> & <int> & <int> & <int> & <int> & <dbl> & <dbl> & <dbl> & <dbl> & <dbl> & <int> & <dbl>\\\\\n",
       "\\hline\n",
       "\t1 & 48.07692 & 3.872802 & 0 & 0 & 0 & 0 & 1 & 0 & 0 & 0 & 0 & 1 & 31 &  9.61 & 29.791 &  92.3521 & 3050 & 10 & 5070\\\\\n",
       "\t2 & 13.94231 & 2.634928 & 1 & 0 & 0 & 0 & 0 & 1 & 0 & 0 & 0 & 1 & 25 &  6.25 & 15.625 &  39.0625 &  420 &  1 & 6990\\\\\n",
       "\t3 & 28.84615 & 3.361977 & 1 & 0 & 0 & 0 & 1 & 0 & 0 & 0 & 0 & 1 & 22 &  4.84 & 10.648 &  23.4256 & 2015 &  6 & 9470\\\\\n",
       "\t4 & 11.73077 & 2.462215 & 1 & 0 & 0 & 0 & 1 & 0 & 0 & 0 & 0 & 1 &  1 &  0.01 &  0.001 &   0.0001 & 1650 &  5 & 7460\\\\\n",
       "\t5 & 19.23077 & 2.956512 & 1 & 0 & 1 & 0 & 0 & 0 & 0 & 0 & 0 & 1 & 42 & 17.64 & 74.088 & 311.1696 & 5120 & 17 & 7280\\\\\n",
       "\t6 & 19.23077 & 2.956512 & 0 & 0 & 1 & 0 & 0 & 0 & 0 & 0 & 0 & 1 & 37 & 13.69 & 50.653 & 187.4161 & 5240 & 17 & 5680\\\\\n",
       "\\end{tabular}\n"
      ],
      "text/markdown": [
       "\n",
       "A data.frame: 6 × 19\n",
       "\n",
       "| <!--/--> | salario &lt;dbl&gt; | lwage &lt;dbl&gt; | sex &lt;int&gt; | shs &lt;int&gt; | hsg &lt;int&gt; | scl &lt;int&gt; | clg &lt;int&gt; | ad &lt;int&gt; | mw &lt;int&gt; | so &lt;int&gt; | we &lt;int&gt; | ne &lt;int&gt; | exp1 &lt;dbl&gt; | exp2 &lt;dbl&gt; | exp3 &lt;dbl&gt; | exp4 &lt;dbl&gt; | occ &lt;dbl&gt; | occ2 &lt;int&gt; | ind &lt;dbl&gt; |\n",
       "|---|---|---|---|---|---|---|---|---|---|---|---|---|---|---|---|---|---|---|---|\n",
       "| 1 | 48.07692 | 3.872802 | 0 | 0 | 0 | 0 | 1 | 0 | 0 | 0 | 0 | 1 | 31 |  9.61 | 29.791 |  92.3521 | 3050 | 10 | 5070 |\n",
       "| 2 | 13.94231 | 2.634928 | 1 | 0 | 0 | 0 | 0 | 1 | 0 | 0 | 0 | 1 | 25 |  6.25 | 15.625 |  39.0625 |  420 |  1 | 6990 |\n",
       "| 3 | 28.84615 | 3.361977 | 1 | 0 | 0 | 0 | 1 | 0 | 0 | 0 | 0 | 1 | 22 |  4.84 | 10.648 |  23.4256 | 2015 |  6 | 9470 |\n",
       "| 4 | 11.73077 | 2.462215 | 1 | 0 | 0 | 0 | 1 | 0 | 0 | 0 | 0 | 1 |  1 |  0.01 |  0.001 |   0.0001 | 1650 |  5 | 7460 |\n",
       "| 5 | 19.23077 | 2.956512 | 1 | 0 | 1 | 0 | 0 | 0 | 0 | 0 | 0 | 1 | 42 | 17.64 | 74.088 | 311.1696 | 5120 | 17 | 7280 |\n",
       "| 6 | 19.23077 | 2.956512 | 0 | 0 | 1 | 0 | 0 | 0 | 0 | 0 | 0 | 1 | 37 | 13.69 | 50.653 | 187.4161 | 5240 | 17 | 5680 |\n",
       "\n"
      ],
      "text/plain": [
       "  salario  lwage    sex shs hsg scl clg ad mw so we ne exp1 exp2  exp3  \n",
       "1 48.07692 3.872802 0   0   0   0   1   0  0  0  0  1  31    9.61 29.791\n",
       "2 13.94231 2.634928 1   0   0   0   0   1  0  0  0  1  25    6.25 15.625\n",
       "3 28.84615 3.361977 1   0   0   0   1   0  0  0  0  1  22    4.84 10.648\n",
       "4 11.73077 2.462215 1   0   0   0   1   0  0  0  0  1   1    0.01  0.001\n",
       "5 19.23077 2.956512 1   0   1   0   0   0  0  0  0  1  42   17.64 74.088\n",
       "6 19.23077 2.956512 0   0   1   0   0   0  0  0  0  1  37   13.69 50.653\n",
       "  exp4     occ  occ2 ind \n",
       "1  92.3521 3050 10   5070\n",
       "2  39.0625  420  1   6990\n",
       "3  23.4256 2015  6   9470\n",
       "4   0.0001 1650  5   7460\n",
       "5 311.1696 5120 17   7280\n",
       "6 187.4161 5240 17   5680"
      ]
     },
     "metadata": {},
     "output_type": "display_data"
    }
   ],
   "source": [
    "head(base1 %>%   slice(-c(1,3)) )"
   ]
  },
  {
   "cell_type": "markdown",
   "metadata": {},
   "source": [
    "## Slicing  dataframe "
   ]
  },
  {
   "cell_type": "code",
   "execution_count": 74,
   "metadata": {
    "scrolled": true
   },
   "outputs": [
    {
     "data": {
      "text/html": [
       "<table class=\"dataframe\">\n",
       "<caption>A data.frame: 10 × 19</caption>\n",
       "<thead>\n",
       "\t<tr><th></th><th scope=col>salario</th><th scope=col>lwage</th><th scope=col>sex</th><th scope=col>shs</th><th scope=col>hsg</th><th scope=col>scl</th><th scope=col>clg</th><th scope=col>ad</th><th scope=col>mw</th><th scope=col>so</th><th scope=col>we</th><th scope=col>ne</th><th scope=col>exp1</th><th scope=col>exp2</th><th scope=col>exp3</th><th scope=col>exp4</th><th scope=col>occ</th><th scope=col>occ2</th><th scope=col>ind</th></tr>\n",
       "\t<tr><th></th><th scope=col>&lt;dbl&gt;</th><th scope=col>&lt;dbl&gt;</th><th scope=col>&lt;int&gt;</th><th scope=col>&lt;int&gt;</th><th scope=col>&lt;int&gt;</th><th scope=col>&lt;int&gt;</th><th scope=col>&lt;int&gt;</th><th scope=col>&lt;int&gt;</th><th scope=col>&lt;int&gt;</th><th scope=col>&lt;int&gt;</th><th scope=col>&lt;int&gt;</th><th scope=col>&lt;int&gt;</th><th scope=col>&lt;dbl&gt;</th><th scope=col>&lt;dbl&gt;</th><th scope=col>&lt;dbl&gt;</th><th scope=col>&lt;dbl&gt;</th><th scope=col>&lt;dbl&gt;</th><th scope=col>&lt;int&gt;</th><th scope=col>&lt;dbl&gt;</th></tr>\n",
       "</thead>\n",
       "<tbody>\n",
       "\t<tr><th scope=row>1</th><td> 9.615385</td><td>2.263364</td><td>1</td><td>0</td><td>0</td><td>0</td><td>1</td><td>0</td><td>0</td><td>0</td><td>0</td><td>1</td><td> 7</td><td> 0.49</td><td> 0.343</td><td>  0.2401</td><td>3600</td><td>11</td><td>8370</td></tr>\n",
       "\t<tr><th scope=row>2</th><td>48.076923</td><td>3.872802</td><td>0</td><td>0</td><td>0</td><td>0</td><td>1</td><td>0</td><td>0</td><td>0</td><td>0</td><td>1</td><td>31</td><td> 9.61</td><td>29.791</td><td> 92.3521</td><td>3050</td><td>10</td><td>5070</td></tr>\n",
       "\t<tr><th scope=row>3</th><td>11.057692</td><td>2.403126</td><td>0</td><td>0</td><td>1</td><td>0</td><td>0</td><td>0</td><td>0</td><td>0</td><td>0</td><td>1</td><td>18</td><td> 3.24</td><td> 5.832</td><td> 10.4976</td><td>6260</td><td>19</td><td> 770</td></tr>\n",
       "\t<tr><th scope=row>4</th><td>13.942308</td><td>2.634928</td><td>1</td><td>0</td><td>0</td><td>0</td><td>0</td><td>1</td><td>0</td><td>0</td><td>0</td><td>1</td><td>25</td><td> 6.25</td><td>15.625</td><td> 39.0625</td><td> 420</td><td> 1</td><td>6990</td></tr>\n",
       "\t<tr><th scope=row>5</th><td>28.846154</td><td>3.361977</td><td>1</td><td>0</td><td>0</td><td>0</td><td>1</td><td>0</td><td>0</td><td>0</td><td>0</td><td>1</td><td>22</td><td> 4.84</td><td>10.648</td><td> 23.4256</td><td>2015</td><td> 6</td><td>9470</td></tr>\n",
       "\t<tr><th scope=row>6</th><td>11.730769</td><td>2.462215</td><td>1</td><td>0</td><td>0</td><td>0</td><td>1</td><td>0</td><td>0</td><td>0</td><td>0</td><td>1</td><td> 1</td><td> 0.01</td><td> 0.001</td><td>  0.0001</td><td>1650</td><td> 5</td><td>7460</td></tr>\n",
       "\t<tr><th scope=row>7</th><td>19.230769</td><td>2.956512</td><td>1</td><td>0</td><td>1</td><td>0</td><td>0</td><td>0</td><td>0</td><td>0</td><td>0</td><td>1</td><td>42</td><td>17.64</td><td>74.088</td><td>311.1696</td><td>5120</td><td>17</td><td>7280</td></tr>\n",
       "\t<tr><th scope=row>8</th><td>19.230769</td><td>2.956512</td><td>0</td><td>0</td><td>1</td><td>0</td><td>0</td><td>0</td><td>0</td><td>0</td><td>0</td><td>1</td><td>37</td><td>13.69</td><td>50.653</td><td>187.4161</td><td>5240</td><td>17</td><td>5680</td></tr>\n",
       "\t<tr><th scope=row>9</th><td>12.000000</td><td>2.484907</td><td>1</td><td>0</td><td>1</td><td>0</td><td>0</td><td>0</td><td>0</td><td>0</td><td>0</td><td>1</td><td>31</td><td> 9.61</td><td>29.791</td><td> 92.3521</td><td>4040</td><td>13</td><td>8590</td></tr>\n",
       "\t<tr><th scope=row>10</th><td>19.230769</td><td>2.956512</td><td>1</td><td>0</td><td>0</td><td>0</td><td>1</td><td>0</td><td>0</td><td>0</td><td>0</td><td>1</td><td> 4</td><td> 0.16</td><td> 0.064</td><td>  0.0256</td><td>3255</td><td>10</td><td>8190</td></tr>\n",
       "</tbody>\n",
       "</table>\n"
      ],
      "text/latex": [
       "A data.frame: 10 × 19\n",
       "\\begin{tabular}{r|lllllllllllllllllll}\n",
       "  & salario & lwage & sex & shs & hsg & scl & clg & ad & mw & so & we & ne & exp1 & exp2 & exp3 & exp4 & occ & occ2 & ind\\\\\n",
       "  & <dbl> & <dbl> & <int> & <int> & <int> & <int> & <int> & <int> & <int> & <int> & <int> & <int> & <dbl> & <dbl> & <dbl> & <dbl> & <dbl> & <int> & <dbl>\\\\\n",
       "\\hline\n",
       "\t1 &  9.615385 & 2.263364 & 1 & 0 & 0 & 0 & 1 & 0 & 0 & 0 & 0 & 1 &  7 &  0.49 &  0.343 &   0.2401 & 3600 & 11 & 8370\\\\\n",
       "\t2 & 48.076923 & 3.872802 & 0 & 0 & 0 & 0 & 1 & 0 & 0 & 0 & 0 & 1 & 31 &  9.61 & 29.791 &  92.3521 & 3050 & 10 & 5070\\\\\n",
       "\t3 & 11.057692 & 2.403126 & 0 & 0 & 1 & 0 & 0 & 0 & 0 & 0 & 0 & 1 & 18 &  3.24 &  5.832 &  10.4976 & 6260 & 19 &  770\\\\\n",
       "\t4 & 13.942308 & 2.634928 & 1 & 0 & 0 & 0 & 0 & 1 & 0 & 0 & 0 & 1 & 25 &  6.25 & 15.625 &  39.0625 &  420 &  1 & 6990\\\\\n",
       "\t5 & 28.846154 & 3.361977 & 1 & 0 & 0 & 0 & 1 & 0 & 0 & 0 & 0 & 1 & 22 &  4.84 & 10.648 &  23.4256 & 2015 &  6 & 9470\\\\\n",
       "\t6 & 11.730769 & 2.462215 & 1 & 0 & 0 & 0 & 1 & 0 & 0 & 0 & 0 & 1 &  1 &  0.01 &  0.001 &   0.0001 & 1650 &  5 & 7460\\\\\n",
       "\t7 & 19.230769 & 2.956512 & 1 & 0 & 1 & 0 & 0 & 0 & 0 & 0 & 0 & 1 & 42 & 17.64 & 74.088 & 311.1696 & 5120 & 17 & 7280\\\\\n",
       "\t8 & 19.230769 & 2.956512 & 0 & 0 & 1 & 0 & 0 & 0 & 0 & 0 & 0 & 1 & 37 & 13.69 & 50.653 & 187.4161 & 5240 & 17 & 5680\\\\\n",
       "\t9 & 12.000000 & 2.484907 & 1 & 0 & 1 & 0 & 0 & 0 & 0 & 0 & 0 & 1 & 31 &  9.61 & 29.791 &  92.3521 & 4040 & 13 & 8590\\\\\n",
       "\t10 & 19.230769 & 2.956512 & 1 & 0 & 0 & 0 & 1 & 0 & 0 & 0 & 0 & 1 &  4 &  0.16 &  0.064 &   0.0256 & 3255 & 10 & 8190\\\\\n",
       "\\end{tabular}\n"
      ],
      "text/markdown": [
       "\n",
       "A data.frame: 10 × 19\n",
       "\n",
       "| <!--/--> | salario &lt;dbl&gt; | lwage &lt;dbl&gt; | sex &lt;int&gt; | shs &lt;int&gt; | hsg &lt;int&gt; | scl &lt;int&gt; | clg &lt;int&gt; | ad &lt;int&gt; | mw &lt;int&gt; | so &lt;int&gt; | we &lt;int&gt; | ne &lt;int&gt; | exp1 &lt;dbl&gt; | exp2 &lt;dbl&gt; | exp3 &lt;dbl&gt; | exp4 &lt;dbl&gt; | occ &lt;dbl&gt; | occ2 &lt;int&gt; | ind &lt;dbl&gt; |\n",
       "|---|---|---|---|---|---|---|---|---|---|---|---|---|---|---|---|---|---|---|---|\n",
       "| 1 |  9.615385 | 2.263364 | 1 | 0 | 0 | 0 | 1 | 0 | 0 | 0 | 0 | 1 |  7 |  0.49 |  0.343 |   0.2401 | 3600 | 11 | 8370 |\n",
       "| 2 | 48.076923 | 3.872802 | 0 | 0 | 0 | 0 | 1 | 0 | 0 | 0 | 0 | 1 | 31 |  9.61 | 29.791 |  92.3521 | 3050 | 10 | 5070 |\n",
       "| 3 | 11.057692 | 2.403126 | 0 | 0 | 1 | 0 | 0 | 0 | 0 | 0 | 0 | 1 | 18 |  3.24 |  5.832 |  10.4976 | 6260 | 19 |  770 |\n",
       "| 4 | 13.942308 | 2.634928 | 1 | 0 | 0 | 0 | 0 | 1 | 0 | 0 | 0 | 1 | 25 |  6.25 | 15.625 |  39.0625 |  420 |  1 | 6990 |\n",
       "| 5 | 28.846154 | 3.361977 | 1 | 0 | 0 | 0 | 1 | 0 | 0 | 0 | 0 | 1 | 22 |  4.84 | 10.648 |  23.4256 | 2015 |  6 | 9470 |\n",
       "| 6 | 11.730769 | 2.462215 | 1 | 0 | 0 | 0 | 1 | 0 | 0 | 0 | 0 | 1 |  1 |  0.01 |  0.001 |   0.0001 | 1650 |  5 | 7460 |\n",
       "| 7 | 19.230769 | 2.956512 | 1 | 0 | 1 | 0 | 0 | 0 | 0 | 0 | 0 | 1 | 42 | 17.64 | 74.088 | 311.1696 | 5120 | 17 | 7280 |\n",
       "| 8 | 19.230769 | 2.956512 | 0 | 0 | 1 | 0 | 0 | 0 | 0 | 0 | 0 | 1 | 37 | 13.69 | 50.653 | 187.4161 | 5240 | 17 | 5680 |\n",
       "| 9 | 12.000000 | 2.484907 | 1 | 0 | 1 | 0 | 0 | 0 | 0 | 0 | 0 | 1 | 31 |  9.61 | 29.791 |  92.3521 | 4040 | 13 | 8590 |\n",
       "| 10 | 19.230769 | 2.956512 | 1 | 0 | 0 | 0 | 1 | 0 | 0 | 0 | 0 | 1 |  4 |  0.16 |  0.064 |   0.0256 | 3255 | 10 | 8190 |\n",
       "\n"
      ],
      "text/plain": [
       "   salario   lwage    sex shs hsg scl clg ad mw so we ne exp1 exp2  exp3  \n",
       "1   9.615385 2.263364 1   0   0   0   1   0  0  0  0  1   7    0.49  0.343\n",
       "2  48.076923 3.872802 0   0   0   0   1   0  0  0  0  1  31    9.61 29.791\n",
       "3  11.057692 2.403126 0   0   1   0   0   0  0  0  0  1  18    3.24  5.832\n",
       "4  13.942308 2.634928 1   0   0   0   0   1  0  0  0  1  25    6.25 15.625\n",
       "5  28.846154 3.361977 1   0   0   0   1   0  0  0  0  1  22    4.84 10.648\n",
       "6  11.730769 2.462215 1   0   0   0   1   0  0  0  0  1   1    0.01  0.001\n",
       "7  19.230769 2.956512 1   0   1   0   0   0  0  0  0  1  42   17.64 74.088\n",
       "8  19.230769 2.956512 0   0   1   0   0   0  0  0  0  1  37   13.69 50.653\n",
       "9  12.000000 2.484907 1   0   1   0   0   0  0  0  0  1  31    9.61 29.791\n",
       "10 19.230769 2.956512 1   0   0   0   1   0  0  0  0  1   4    0.16  0.064\n",
       "   exp4     occ  occ2 ind \n",
       "1    0.2401 3600 11   8370\n",
       "2   92.3521 3050 10   5070\n",
       "3   10.4976 6260 19    770\n",
       "4   39.0625  420  1   6990\n",
       "5   23.4256 2015  6   9470\n",
       "6    0.0001 1650  5   7460\n",
       "7  311.1696 5120 17   7280\n",
       "8  187.4161 5240 17   5680\n",
       "9   92.3521 4040 13   8590\n",
       "10   0.0256 3255 10   8190"
      ]
     },
     "metadata": {},
     "output_type": "display_data"
    }
   ],
   "source": [
    "base1[1:10,]"
   ]
  },
  {
   "cell_type": "code",
   "execution_count": 75,
   "metadata": {
    "scrolled": true
   },
   "outputs": [
    {
     "data": {
      "text/html": [
       "<table class=\"dataframe\">\n",
       "<caption>A data.frame: 5150 × 5</caption>\n",
       "<thead>\n",
       "\t<tr><th scope=col>salario</th><th scope=col>lwage</th><th scope=col>sex</th><th scope=col>shs</th><th scope=col>hsg</th></tr>\n",
       "\t<tr><th scope=col>&lt;dbl&gt;</th><th scope=col>&lt;dbl&gt;</th><th scope=col>&lt;int&gt;</th><th scope=col>&lt;int&gt;</th><th scope=col>&lt;int&gt;</th></tr>\n",
       "</thead>\n",
       "<tbody>\n",
       "\t<tr><td> 9.615385</td><td>2.263364</td><td>1</td><td>0</td><td>0</td></tr>\n",
       "\t<tr><td>48.076923</td><td>3.872802</td><td>0</td><td>0</td><td>0</td></tr>\n",
       "\t<tr><td>11.057692</td><td>2.403126</td><td>0</td><td>0</td><td>1</td></tr>\n",
       "\t<tr><td>13.942308</td><td>2.634928</td><td>1</td><td>0</td><td>0</td></tr>\n",
       "\t<tr><td>28.846154</td><td>3.361977</td><td>1</td><td>0</td><td>0</td></tr>\n",
       "\t<tr><td>11.730769</td><td>2.462215</td><td>1</td><td>0</td><td>0</td></tr>\n",
       "\t<tr><td>19.230769</td><td>2.956512</td><td>1</td><td>0</td><td>1</td></tr>\n",
       "\t<tr><td>19.230769</td><td>2.956512</td><td>0</td><td>0</td><td>1</td></tr>\n",
       "\t<tr><td>12.000000</td><td>2.484907</td><td>1</td><td>0</td><td>1</td></tr>\n",
       "\t<tr><td>19.230769</td><td>2.956512</td><td>1</td><td>0</td><td>0</td></tr>\n",
       "\t<tr><td>17.307692</td><td>2.851151</td><td>1</td><td>0</td><td>1</td></tr>\n",
       "\t<tr><td>12.019231</td><td>2.486508</td><td>0</td><td>0</td><td>1</td></tr>\n",
       "\t<tr><td>12.019231</td><td>2.486508</td><td>1</td><td>0</td><td>0</td></tr>\n",
       "\t<tr><td>13.461538</td><td>2.599837</td><td>1</td><td>0</td><td>0</td></tr>\n",
       "\t<tr><td>16.346154</td><td>2.793993</td><td>1</td><td>0</td><td>0</td></tr>\n",
       "\t<tr><td>27.884615</td><td>3.328075</td><td>0</td><td>0</td><td>1</td></tr>\n",
       "\t<tr><td>21.600000</td><td>3.072693</td><td>0</td><td>0</td><td>1</td></tr>\n",
       "\t<tr><td> 8.653846</td><td>2.158004</td><td>0</td><td>0</td><td>0</td></tr>\n",
       "\t<tr><td>19.230769</td><td>2.956512</td><td>0</td><td>0</td><td>1</td></tr>\n",
       "\t<tr><td>13.186813</td><td>2.579217</td><td>0</td><td>0</td><td>1</td></tr>\n",
       "\t<tr><td>10.683761</td><td>2.368725</td><td>1</td><td>0</td><td>0</td></tr>\n",
       "\t<tr><td>11.538462</td><td>2.445686</td><td>1</td><td>0</td><td>0</td></tr>\n",
       "\t<tr><td>17.788462</td><td>2.878550</td><td>1</td><td>0</td><td>0</td></tr>\n",
       "\t<tr><td>19.230769</td><td>2.956512</td><td>0</td><td>0</td><td>0</td></tr>\n",
       "\t<tr><td>16.304348</td><td>2.791432</td><td>1</td><td>0</td><td>0</td></tr>\n",
       "\t<tr><td>19.230769</td><td>2.956512</td><td>0</td><td>0</td><td>1</td></tr>\n",
       "\t<tr><td>14.423077</td><td>2.668829</td><td>1</td><td>0</td><td>1</td></tr>\n",
       "\t<tr><td>12.000000</td><td>2.484907</td><td>0</td><td>0</td><td>0</td></tr>\n",
       "\t<tr><td>16.826923</td><td>2.822980</td><td>0</td><td>0</td><td>0</td></tr>\n",
       "\t<tr><td>19.670330</td><td>2.979111</td><td>0</td><td>0</td><td>0</td></tr>\n",
       "\t<tr><td>⋮</td><td>⋮</td><td>⋮</td><td>⋮</td><td>⋮</td></tr>\n",
       "\t<tr><td>13.986014</td><td>2.638058</td><td>1</td><td>0</td><td>0</td></tr>\n",
       "\t<tr><td>15.865385</td><td>2.764140</td><td>0</td><td>0</td><td>0</td></tr>\n",
       "\t<tr><td>38.461538</td><td>3.649659</td><td>1</td><td>0</td><td>0</td></tr>\n",
       "\t<tr><td>28.846154</td><td>3.361977</td><td>0</td><td>0</td><td>0</td></tr>\n",
       "\t<tr><td>24.475524</td><td>3.197674</td><td>1</td><td>0</td><td>0</td></tr>\n",
       "\t<tr><td>27.884615</td><td>3.328075</td><td>0</td><td>0</td><td>0</td></tr>\n",
       "\t<tr><td> 8.653846</td><td>2.158004</td><td>1</td><td>0</td><td>1</td></tr>\n",
       "\t<tr><td>12.019231</td><td>2.486508</td><td>0</td><td>0</td><td>1</td></tr>\n",
       "\t<tr><td>38.461538</td><td>3.649659</td><td>0</td><td>0</td><td>0</td></tr>\n",
       "\t<tr><td>12.500000</td><td>2.525729</td><td>1</td><td>0</td><td>1</td></tr>\n",
       "\t<tr><td>35.256410</td><td>3.562647</td><td>0</td><td>0</td><td>0</td></tr>\n",
       "\t<tr><td>48.076923</td><td>3.872802</td><td>1</td><td>0</td><td>0</td></tr>\n",
       "\t<tr><td> 9.615385</td><td>2.263364</td><td>0</td><td>0</td><td>1</td></tr>\n",
       "\t<tr><td>12.019231</td><td>2.486508</td><td>0</td><td>0</td><td>1</td></tr>\n",
       "\t<tr><td>12.019231</td><td>2.486508</td><td>0</td><td>0</td><td>0</td></tr>\n",
       "\t<tr><td>12.980769</td><td>2.563469</td><td>0</td><td>0</td><td>1</td></tr>\n",
       "\t<tr><td>26.442308</td><td>3.274965</td><td>1</td><td>0</td><td>0</td></tr>\n",
       "\t<tr><td>13.461538</td><td>2.599837</td><td>1</td><td>0</td><td>1</td></tr>\n",
       "\t<tr><td>19.711538</td><td>2.981204</td><td>1</td><td>0</td><td>0</td></tr>\n",
       "\t<tr><td>21.153846</td><td>3.051822</td><td>0</td><td>0</td><td>0</td></tr>\n",
       "\t<tr><td>45.546559</td><td>3.818735</td><td>1</td><td>0</td><td>0</td></tr>\n",
       "\t<tr><td>22.596154</td><td>3.117780</td><td>0</td><td>0</td><td>1</td></tr>\n",
       "\t<tr><td>16.826923</td><td>2.822980</td><td>0</td><td>0</td><td>1</td></tr>\n",
       "\t<tr><td>24.038462</td><td>3.179655</td><td>1</td><td>0</td><td>0</td></tr>\n",
       "\t<tr><td>13.846154</td><td>2.628007</td><td>0</td><td>0</td><td>0</td></tr>\n",
       "\t<tr><td>14.769231</td><td>2.692546</td><td>0</td><td>0</td><td>0</td></tr>\n",
       "\t<tr><td>23.076923</td><td>3.138833</td><td>1</td><td>0</td><td>0</td></tr>\n",
       "\t<tr><td>38.461538</td><td>3.649659</td><td>0</td><td>0</td><td>0</td></tr>\n",
       "\t<tr><td>32.967033</td><td>3.495508</td><td>0</td><td>0</td><td>1</td></tr>\n",
       "\t<tr><td>17.307692</td><td>2.851151</td><td>0</td><td>0</td><td>0</td></tr>\n",
       "</tbody>\n",
       "</table>\n"
      ],
      "text/latex": [
       "A data.frame: 5150 × 5\n",
       "\\begin{tabular}{lllll}\n",
       " salario & lwage & sex & shs & hsg\\\\\n",
       " <dbl> & <dbl> & <int> & <int> & <int>\\\\\n",
       "\\hline\n",
       "\t  9.615385 & 2.263364 & 1 & 0 & 0\\\\\n",
       "\t 48.076923 & 3.872802 & 0 & 0 & 0\\\\\n",
       "\t 11.057692 & 2.403126 & 0 & 0 & 1\\\\\n",
       "\t 13.942308 & 2.634928 & 1 & 0 & 0\\\\\n",
       "\t 28.846154 & 3.361977 & 1 & 0 & 0\\\\\n",
       "\t 11.730769 & 2.462215 & 1 & 0 & 0\\\\\n",
       "\t 19.230769 & 2.956512 & 1 & 0 & 1\\\\\n",
       "\t 19.230769 & 2.956512 & 0 & 0 & 1\\\\\n",
       "\t 12.000000 & 2.484907 & 1 & 0 & 1\\\\\n",
       "\t 19.230769 & 2.956512 & 1 & 0 & 0\\\\\n",
       "\t 17.307692 & 2.851151 & 1 & 0 & 1\\\\\n",
       "\t 12.019231 & 2.486508 & 0 & 0 & 1\\\\\n",
       "\t 12.019231 & 2.486508 & 1 & 0 & 0\\\\\n",
       "\t 13.461538 & 2.599837 & 1 & 0 & 0\\\\\n",
       "\t 16.346154 & 2.793993 & 1 & 0 & 0\\\\\n",
       "\t 27.884615 & 3.328075 & 0 & 0 & 1\\\\\n",
       "\t 21.600000 & 3.072693 & 0 & 0 & 1\\\\\n",
       "\t  8.653846 & 2.158004 & 0 & 0 & 0\\\\\n",
       "\t 19.230769 & 2.956512 & 0 & 0 & 1\\\\\n",
       "\t 13.186813 & 2.579217 & 0 & 0 & 1\\\\\n",
       "\t 10.683761 & 2.368725 & 1 & 0 & 0\\\\\n",
       "\t 11.538462 & 2.445686 & 1 & 0 & 0\\\\\n",
       "\t 17.788462 & 2.878550 & 1 & 0 & 0\\\\\n",
       "\t 19.230769 & 2.956512 & 0 & 0 & 0\\\\\n",
       "\t 16.304348 & 2.791432 & 1 & 0 & 0\\\\\n",
       "\t 19.230769 & 2.956512 & 0 & 0 & 1\\\\\n",
       "\t 14.423077 & 2.668829 & 1 & 0 & 1\\\\\n",
       "\t 12.000000 & 2.484907 & 0 & 0 & 0\\\\\n",
       "\t 16.826923 & 2.822980 & 0 & 0 & 0\\\\\n",
       "\t 19.670330 & 2.979111 & 0 & 0 & 0\\\\\n",
       "\t ⋮ & ⋮ & ⋮ & ⋮ & ⋮\\\\\n",
       "\t 13.986014 & 2.638058 & 1 & 0 & 0\\\\\n",
       "\t 15.865385 & 2.764140 & 0 & 0 & 0\\\\\n",
       "\t 38.461538 & 3.649659 & 1 & 0 & 0\\\\\n",
       "\t 28.846154 & 3.361977 & 0 & 0 & 0\\\\\n",
       "\t 24.475524 & 3.197674 & 1 & 0 & 0\\\\\n",
       "\t 27.884615 & 3.328075 & 0 & 0 & 0\\\\\n",
       "\t  8.653846 & 2.158004 & 1 & 0 & 1\\\\\n",
       "\t 12.019231 & 2.486508 & 0 & 0 & 1\\\\\n",
       "\t 38.461538 & 3.649659 & 0 & 0 & 0\\\\\n",
       "\t 12.500000 & 2.525729 & 1 & 0 & 1\\\\\n",
       "\t 35.256410 & 3.562647 & 0 & 0 & 0\\\\\n",
       "\t 48.076923 & 3.872802 & 1 & 0 & 0\\\\\n",
       "\t  9.615385 & 2.263364 & 0 & 0 & 1\\\\\n",
       "\t 12.019231 & 2.486508 & 0 & 0 & 1\\\\\n",
       "\t 12.019231 & 2.486508 & 0 & 0 & 0\\\\\n",
       "\t 12.980769 & 2.563469 & 0 & 0 & 1\\\\\n",
       "\t 26.442308 & 3.274965 & 1 & 0 & 0\\\\\n",
       "\t 13.461538 & 2.599837 & 1 & 0 & 1\\\\\n",
       "\t 19.711538 & 2.981204 & 1 & 0 & 0\\\\\n",
       "\t 21.153846 & 3.051822 & 0 & 0 & 0\\\\\n",
       "\t 45.546559 & 3.818735 & 1 & 0 & 0\\\\\n",
       "\t 22.596154 & 3.117780 & 0 & 0 & 1\\\\\n",
       "\t 16.826923 & 2.822980 & 0 & 0 & 1\\\\\n",
       "\t 24.038462 & 3.179655 & 1 & 0 & 0\\\\\n",
       "\t 13.846154 & 2.628007 & 0 & 0 & 0\\\\\n",
       "\t 14.769231 & 2.692546 & 0 & 0 & 0\\\\\n",
       "\t 23.076923 & 3.138833 & 1 & 0 & 0\\\\\n",
       "\t 38.461538 & 3.649659 & 0 & 0 & 0\\\\\n",
       "\t 32.967033 & 3.495508 & 0 & 0 & 1\\\\\n",
       "\t 17.307692 & 2.851151 & 0 & 0 & 0\\\\\n",
       "\\end{tabular}\n"
      ],
      "text/markdown": [
       "\n",
       "A data.frame: 5150 × 5\n",
       "\n",
       "| salario &lt;dbl&gt; | lwage &lt;dbl&gt; | sex &lt;int&gt; | shs &lt;int&gt; | hsg &lt;int&gt; |\n",
       "|---|---|---|---|---|\n",
       "|  9.615385 | 2.263364 | 1 | 0 | 0 |\n",
       "| 48.076923 | 3.872802 | 0 | 0 | 0 |\n",
       "| 11.057692 | 2.403126 | 0 | 0 | 1 |\n",
       "| 13.942308 | 2.634928 | 1 | 0 | 0 |\n",
       "| 28.846154 | 3.361977 | 1 | 0 | 0 |\n",
       "| 11.730769 | 2.462215 | 1 | 0 | 0 |\n",
       "| 19.230769 | 2.956512 | 1 | 0 | 1 |\n",
       "| 19.230769 | 2.956512 | 0 | 0 | 1 |\n",
       "| 12.000000 | 2.484907 | 1 | 0 | 1 |\n",
       "| 19.230769 | 2.956512 | 1 | 0 | 0 |\n",
       "| 17.307692 | 2.851151 | 1 | 0 | 1 |\n",
       "| 12.019231 | 2.486508 | 0 | 0 | 1 |\n",
       "| 12.019231 | 2.486508 | 1 | 0 | 0 |\n",
       "| 13.461538 | 2.599837 | 1 | 0 | 0 |\n",
       "| 16.346154 | 2.793993 | 1 | 0 | 0 |\n",
       "| 27.884615 | 3.328075 | 0 | 0 | 1 |\n",
       "| 21.600000 | 3.072693 | 0 | 0 | 1 |\n",
       "|  8.653846 | 2.158004 | 0 | 0 | 0 |\n",
       "| 19.230769 | 2.956512 | 0 | 0 | 1 |\n",
       "| 13.186813 | 2.579217 | 0 | 0 | 1 |\n",
       "| 10.683761 | 2.368725 | 1 | 0 | 0 |\n",
       "| 11.538462 | 2.445686 | 1 | 0 | 0 |\n",
       "| 17.788462 | 2.878550 | 1 | 0 | 0 |\n",
       "| 19.230769 | 2.956512 | 0 | 0 | 0 |\n",
       "| 16.304348 | 2.791432 | 1 | 0 | 0 |\n",
       "| 19.230769 | 2.956512 | 0 | 0 | 1 |\n",
       "| 14.423077 | 2.668829 | 1 | 0 | 1 |\n",
       "| 12.000000 | 2.484907 | 0 | 0 | 0 |\n",
       "| 16.826923 | 2.822980 | 0 | 0 | 0 |\n",
       "| 19.670330 | 2.979111 | 0 | 0 | 0 |\n",
       "| ⋮ | ⋮ | ⋮ | ⋮ | ⋮ |\n",
       "| 13.986014 | 2.638058 | 1 | 0 | 0 |\n",
       "| 15.865385 | 2.764140 | 0 | 0 | 0 |\n",
       "| 38.461538 | 3.649659 | 1 | 0 | 0 |\n",
       "| 28.846154 | 3.361977 | 0 | 0 | 0 |\n",
       "| 24.475524 | 3.197674 | 1 | 0 | 0 |\n",
       "| 27.884615 | 3.328075 | 0 | 0 | 0 |\n",
       "|  8.653846 | 2.158004 | 1 | 0 | 1 |\n",
       "| 12.019231 | 2.486508 | 0 | 0 | 1 |\n",
       "| 38.461538 | 3.649659 | 0 | 0 | 0 |\n",
       "| 12.500000 | 2.525729 | 1 | 0 | 1 |\n",
       "| 35.256410 | 3.562647 | 0 | 0 | 0 |\n",
       "| 48.076923 | 3.872802 | 1 | 0 | 0 |\n",
       "|  9.615385 | 2.263364 | 0 | 0 | 1 |\n",
       "| 12.019231 | 2.486508 | 0 | 0 | 1 |\n",
       "| 12.019231 | 2.486508 | 0 | 0 | 0 |\n",
       "| 12.980769 | 2.563469 | 0 | 0 | 1 |\n",
       "| 26.442308 | 3.274965 | 1 | 0 | 0 |\n",
       "| 13.461538 | 2.599837 | 1 | 0 | 1 |\n",
       "| 19.711538 | 2.981204 | 1 | 0 | 0 |\n",
       "| 21.153846 | 3.051822 | 0 | 0 | 0 |\n",
       "| 45.546559 | 3.818735 | 1 | 0 | 0 |\n",
       "| 22.596154 | 3.117780 | 0 | 0 | 1 |\n",
       "| 16.826923 | 2.822980 | 0 | 0 | 1 |\n",
       "| 24.038462 | 3.179655 | 1 | 0 | 0 |\n",
       "| 13.846154 | 2.628007 | 0 | 0 | 0 |\n",
       "| 14.769231 | 2.692546 | 0 | 0 | 0 |\n",
       "| 23.076923 | 3.138833 | 1 | 0 | 0 |\n",
       "| 38.461538 | 3.649659 | 0 | 0 | 0 |\n",
       "| 32.967033 | 3.495508 | 0 | 0 | 1 |\n",
       "| 17.307692 | 2.851151 | 0 | 0 | 0 |\n",
       "\n"
      ],
      "text/plain": [
       "     salario   lwage    sex shs hsg\n",
       "1     9.615385 2.263364 1   0   0  \n",
       "2    48.076923 3.872802 0   0   0  \n",
       "3    11.057692 2.403126 0   0   1  \n",
       "4    13.942308 2.634928 1   0   0  \n",
       "5    28.846154 3.361977 1   0   0  \n",
       "6    11.730769 2.462215 1   0   0  \n",
       "7    19.230769 2.956512 1   0   1  \n",
       "8    19.230769 2.956512 0   0   1  \n",
       "9    12.000000 2.484907 1   0   1  \n",
       "10   19.230769 2.956512 1   0   0  \n",
       "11   17.307692 2.851151 1   0   1  \n",
       "12   12.019231 2.486508 0   0   1  \n",
       "13   12.019231 2.486508 1   0   0  \n",
       "14   13.461538 2.599837 1   0   0  \n",
       "15   16.346154 2.793993 1   0   0  \n",
       "16   27.884615 3.328075 0   0   1  \n",
       "17   21.600000 3.072693 0   0   1  \n",
       "18    8.653846 2.158004 0   0   0  \n",
       "19   19.230769 2.956512 0   0   1  \n",
       "20   13.186813 2.579217 0   0   1  \n",
       "21   10.683761 2.368725 1   0   0  \n",
       "22   11.538462 2.445686 1   0   0  \n",
       "23   17.788462 2.878550 1   0   0  \n",
       "24   19.230769 2.956512 0   0   0  \n",
       "25   16.304348 2.791432 1   0   0  \n",
       "26   19.230769 2.956512 0   0   1  \n",
       "27   14.423077 2.668829 1   0   1  \n",
       "28   12.000000 2.484907 0   0   0  \n",
       "29   16.826923 2.822980 0   0   0  \n",
       "30   19.670330 2.979111 0   0   0  \n",
       "⋮    ⋮         ⋮        ⋮   ⋮   ⋮  \n",
       "5121 13.986014 2.638058 1   0   0  \n",
       "5122 15.865385 2.764140 0   0   0  \n",
       "5123 38.461538 3.649659 1   0   0  \n",
       "5124 28.846154 3.361977 0   0   0  \n",
       "5125 24.475524 3.197674 1   0   0  \n",
       "5126 27.884615 3.328075 0   0   0  \n",
       "5127  8.653846 2.158004 1   0   1  \n",
       "5128 12.019231 2.486508 0   0   1  \n",
       "5129 38.461538 3.649659 0   0   0  \n",
       "5130 12.500000 2.525729 1   0   1  \n",
       "5131 35.256410 3.562647 0   0   0  \n",
       "5132 48.076923 3.872802 1   0   0  \n",
       "5133  9.615385 2.263364 0   0   1  \n",
       "5134 12.019231 2.486508 0   0   1  \n",
       "5135 12.019231 2.486508 0   0   0  \n",
       "5136 12.980769 2.563469 0   0   1  \n",
       "5137 26.442308 3.274965 1   0   0  \n",
       "5138 13.461538 2.599837 1   0   1  \n",
       "5139 19.711538 2.981204 1   0   0  \n",
       "5140 21.153846 3.051822 0   0   0  \n",
       "5141 45.546559 3.818735 1   0   0  \n",
       "5142 22.596154 3.117780 0   0   1  \n",
       "5143 16.826923 2.822980 0   0   1  \n",
       "5144 24.038462 3.179655 1   0   0  \n",
       "5145 13.846154 2.628007 0   0   0  \n",
       "5146 14.769231 2.692546 0   0   0  \n",
       "5147 23.076923 3.138833 1   0   0  \n",
       "5148 38.461538 3.649659 0   0   0  \n",
       "5149 32.967033 3.495508 0   0   1  \n",
       "5150 17.307692 2.851151 0   0   0  "
      ]
     },
     "metadata": {},
     "output_type": "display_data"
    }
   ],
   "source": [
    "base1[,1:5]"
   ]
  },
  {
   "cell_type": "code",
   "execution_count": 76,
   "metadata": {
    "scrolled": false
   },
   "outputs": [
    {
     "data": {
      "text/html": [
       "<table class=\"dataframe\">\n",
       "<caption>A data.frame: 10 × 2</caption>\n",
       "<thead>\n",
       "\t<tr><th></th><th scope=col>salario</th><th scope=col>lwage</th></tr>\n",
       "\t<tr><th></th><th scope=col>&lt;dbl&gt;</th><th scope=col>&lt;dbl&gt;</th></tr>\n",
       "</thead>\n",
       "<tbody>\n",
       "\t<tr><th scope=row>1</th><td> 9.615385</td><td>2.263364</td></tr>\n",
       "\t<tr><th scope=row>2</th><td>48.076923</td><td>3.872802</td></tr>\n",
       "\t<tr><th scope=row>3</th><td>11.057692</td><td>2.403126</td></tr>\n",
       "\t<tr><th scope=row>4</th><td>13.942308</td><td>2.634928</td></tr>\n",
       "\t<tr><th scope=row>5</th><td>28.846154</td><td>3.361977</td></tr>\n",
       "\t<tr><th scope=row>6</th><td>11.730769</td><td>2.462215</td></tr>\n",
       "\t<tr><th scope=row>7</th><td>19.230769</td><td>2.956512</td></tr>\n",
       "\t<tr><th scope=row>8</th><td>19.230769</td><td>2.956512</td></tr>\n",
       "\t<tr><th scope=row>9</th><td>12.000000</td><td>2.484907</td></tr>\n",
       "\t<tr><th scope=row>10</th><td>19.230769</td><td>2.956512</td></tr>\n",
       "</tbody>\n",
       "</table>\n"
      ],
      "text/latex": [
       "A data.frame: 10 × 2\n",
       "\\begin{tabular}{r|ll}\n",
       "  & salario & lwage\\\\\n",
       "  & <dbl> & <dbl>\\\\\n",
       "\\hline\n",
       "\t1 &  9.615385 & 2.263364\\\\\n",
       "\t2 & 48.076923 & 3.872802\\\\\n",
       "\t3 & 11.057692 & 2.403126\\\\\n",
       "\t4 & 13.942308 & 2.634928\\\\\n",
       "\t5 & 28.846154 & 3.361977\\\\\n",
       "\t6 & 11.730769 & 2.462215\\\\\n",
       "\t7 & 19.230769 & 2.956512\\\\\n",
       "\t8 & 19.230769 & 2.956512\\\\\n",
       "\t9 & 12.000000 & 2.484907\\\\\n",
       "\t10 & 19.230769 & 2.956512\\\\\n",
       "\\end{tabular}\n"
      ],
      "text/markdown": [
       "\n",
       "A data.frame: 10 × 2\n",
       "\n",
       "| <!--/--> | salario &lt;dbl&gt; | lwage &lt;dbl&gt; |\n",
       "|---|---|---|\n",
       "| 1 |  9.615385 | 2.263364 |\n",
       "| 2 | 48.076923 | 3.872802 |\n",
       "| 3 | 11.057692 | 2.403126 |\n",
       "| 4 | 13.942308 | 2.634928 |\n",
       "| 5 | 28.846154 | 3.361977 |\n",
       "| 6 | 11.730769 | 2.462215 |\n",
       "| 7 | 19.230769 | 2.956512 |\n",
       "| 8 | 19.230769 | 2.956512 |\n",
       "| 9 | 12.000000 | 2.484907 |\n",
       "| 10 | 19.230769 | 2.956512 |\n",
       "\n"
      ],
      "text/plain": [
       "   salario   lwage   \n",
       "1   9.615385 2.263364\n",
       "2  48.076923 3.872802\n",
       "3  11.057692 2.403126\n",
       "4  13.942308 2.634928\n",
       "5  28.846154 3.361977\n",
       "6  11.730769 2.462215\n",
       "7  19.230769 2.956512\n",
       "8  19.230769 2.956512\n",
       "9  12.000000 2.484907\n",
       "10 19.230769 2.956512"
      ]
     },
     "metadata": {},
     "output_type": "display_data"
    }
   ],
   "source": [
    "base1[1:10,] %>% select(salario, lwage)\n"
   ]
  },
  {
   "cell_type": "code",
   "execution_count": 77,
   "metadata": {},
   "outputs": [
    {
     "data": {
      "text/html": [
       "<table class=\"dataframe\">\n",
       "<caption>A data.frame: 10 × 2</caption>\n",
       "<thead>\n",
       "\t<tr><th></th><th scope=col>salario</th><th scope=col>lwage</th></tr>\n",
       "\t<tr><th></th><th scope=col>&lt;dbl&gt;</th><th scope=col>&lt;dbl&gt;</th></tr>\n",
       "</thead>\n",
       "<tbody>\n",
       "\t<tr><th scope=row>1</th><td> 9.615385</td><td>2.263364</td></tr>\n",
       "\t<tr><th scope=row>2</th><td>48.076923</td><td>3.872802</td></tr>\n",
       "\t<tr><th scope=row>3</th><td>11.057692</td><td>2.403126</td></tr>\n",
       "\t<tr><th scope=row>4</th><td>13.942308</td><td>2.634928</td></tr>\n",
       "\t<tr><th scope=row>5</th><td>28.846154</td><td>3.361977</td></tr>\n",
       "\t<tr><th scope=row>6</th><td>11.730769</td><td>2.462215</td></tr>\n",
       "\t<tr><th scope=row>7</th><td>19.230769</td><td>2.956512</td></tr>\n",
       "\t<tr><th scope=row>8</th><td>19.230769</td><td>2.956512</td></tr>\n",
       "\t<tr><th scope=row>9</th><td>12.000000</td><td>2.484907</td></tr>\n",
       "\t<tr><th scope=row>10</th><td>19.230769</td><td>2.956512</td></tr>\n",
       "</tbody>\n",
       "</table>\n"
      ],
      "text/latex": [
       "A data.frame: 10 × 2\n",
       "\\begin{tabular}{r|ll}\n",
       "  & salario & lwage\\\\\n",
       "  & <dbl> & <dbl>\\\\\n",
       "\\hline\n",
       "\t1 &  9.615385 & 2.263364\\\\\n",
       "\t2 & 48.076923 & 3.872802\\\\\n",
       "\t3 & 11.057692 & 2.403126\\\\\n",
       "\t4 & 13.942308 & 2.634928\\\\\n",
       "\t5 & 28.846154 & 3.361977\\\\\n",
       "\t6 & 11.730769 & 2.462215\\\\\n",
       "\t7 & 19.230769 & 2.956512\\\\\n",
       "\t8 & 19.230769 & 2.956512\\\\\n",
       "\t9 & 12.000000 & 2.484907\\\\\n",
       "\t10 & 19.230769 & 2.956512\\\\\n",
       "\\end{tabular}\n"
      ],
      "text/markdown": [
       "\n",
       "A data.frame: 10 × 2\n",
       "\n",
       "| <!--/--> | salario &lt;dbl&gt; | lwage &lt;dbl&gt; |\n",
       "|---|---|---|\n",
       "| 1 |  9.615385 | 2.263364 |\n",
       "| 2 | 48.076923 | 3.872802 |\n",
       "| 3 | 11.057692 | 2.403126 |\n",
       "| 4 | 13.942308 | 2.634928 |\n",
       "| 5 | 28.846154 | 3.361977 |\n",
       "| 6 | 11.730769 | 2.462215 |\n",
       "| 7 | 19.230769 | 2.956512 |\n",
       "| 8 | 19.230769 | 2.956512 |\n",
       "| 9 | 12.000000 | 2.484907 |\n",
       "| 10 | 19.230769 | 2.956512 |\n",
       "\n"
      ],
      "text/plain": [
       "   salario   lwage   \n",
       "1   9.615385 2.263364\n",
       "2  48.076923 3.872802\n",
       "3  11.057692 2.403126\n",
       "4  13.942308 2.634928\n",
       "5  28.846154 3.361977\n",
       "6  11.730769 2.462215\n",
       "7  19.230769 2.956512\n",
       "8  19.230769 2.956512\n",
       "9  12.000000 2.484907\n",
       "10 19.230769 2.956512"
      ]
     },
     "metadata": {},
     "output_type": "display_data"
    }
   ],
   "source": [
    "select(base1[1:10,], salario,lwage)"
   ]
  },
  {
   "cell_type": "code",
   "execution_count": 78,
   "metadata": {
    "scrolled": true
   },
   "outputs": [
    {
     "data": {
      "text/html": [
       "<table class=\"dataframe\">\n",
       "<caption>A data.frame: 2289 × 19</caption>\n",
       "<thead>\n",
       "\t<tr><th scope=col>salario</th><th scope=col>lwage</th><th scope=col>sex</th><th scope=col>shs</th><th scope=col>hsg</th><th scope=col>scl</th><th scope=col>clg</th><th scope=col>ad</th><th scope=col>mw</th><th scope=col>so</th><th scope=col>we</th><th scope=col>ne</th><th scope=col>exp1</th><th scope=col>exp2</th><th scope=col>exp3</th><th scope=col>exp4</th><th scope=col>occ</th><th scope=col>occ2</th><th scope=col>ind</th></tr>\n",
       "\t<tr><th scope=col>&lt;dbl&gt;</th><th scope=col>&lt;dbl&gt;</th><th scope=col>&lt;int&gt;</th><th scope=col>&lt;int&gt;</th><th scope=col>&lt;int&gt;</th><th scope=col>&lt;int&gt;</th><th scope=col>&lt;int&gt;</th><th scope=col>&lt;int&gt;</th><th scope=col>&lt;int&gt;</th><th scope=col>&lt;int&gt;</th><th scope=col>&lt;int&gt;</th><th scope=col>&lt;int&gt;</th><th scope=col>&lt;dbl&gt;</th><th scope=col>&lt;dbl&gt;</th><th scope=col>&lt;dbl&gt;</th><th scope=col>&lt;dbl&gt;</th><th scope=col>&lt;dbl&gt;</th><th scope=col>&lt;int&gt;</th><th scope=col>&lt;dbl&gt;</th></tr>\n",
       "</thead>\n",
       "<tbody>\n",
       "\t<tr><td> 9.615385</td><td>2.263364</td><td>1</td><td>0</td><td>0</td><td>0</td><td>1</td><td>0</td><td>0</td><td>0</td><td>0</td><td>1</td><td> 7.0</td><td> 0.4900</td><td> 0.343000</td><td>  0.24010000</td><td>3600</td><td>11</td><td>8370</td></tr>\n",
       "\t<tr><td>13.942308</td><td>2.634928</td><td>1</td><td>0</td><td>0</td><td>0</td><td>0</td><td>1</td><td>0</td><td>0</td><td>0</td><td>1</td><td>25.0</td><td> 6.2500</td><td>15.625000</td><td> 39.06250000</td><td> 420</td><td> 1</td><td>6990</td></tr>\n",
       "\t<tr><td>28.846154</td><td>3.361977</td><td>1</td><td>0</td><td>0</td><td>0</td><td>1</td><td>0</td><td>0</td><td>0</td><td>0</td><td>1</td><td>22.0</td><td> 4.8400</td><td>10.648000</td><td> 23.42560000</td><td>2015</td><td> 6</td><td>9470</td></tr>\n",
       "\t<tr><td>11.730769</td><td>2.462215</td><td>1</td><td>0</td><td>0</td><td>0</td><td>1</td><td>0</td><td>0</td><td>0</td><td>0</td><td>1</td><td> 1.0</td><td> 0.0100</td><td> 0.001000</td><td>  0.00010000</td><td>1650</td><td> 5</td><td>7460</td></tr>\n",
       "\t<tr><td>19.230769</td><td>2.956512</td><td>1</td><td>0</td><td>1</td><td>0</td><td>0</td><td>0</td><td>0</td><td>0</td><td>0</td><td>1</td><td>42.0</td><td>17.6400</td><td>74.088000</td><td>311.16960000</td><td>5120</td><td>17</td><td>7280</td></tr>\n",
       "\t<tr><td>12.000000</td><td>2.484907</td><td>1</td><td>0</td><td>1</td><td>0</td><td>0</td><td>0</td><td>0</td><td>0</td><td>0</td><td>1</td><td>31.0</td><td> 9.6100</td><td>29.791000</td><td> 92.35210000</td><td>4040</td><td>13</td><td>8590</td></tr>\n",
       "\t<tr><td>19.230769</td><td>2.956512</td><td>1</td><td>0</td><td>0</td><td>0</td><td>1</td><td>0</td><td>0</td><td>0</td><td>0</td><td>1</td><td> 4.0</td><td> 0.1600</td><td> 0.064000</td><td>  0.02560000</td><td>3255</td><td>10</td><td>8190</td></tr>\n",
       "\t<tr><td>17.307692</td><td>2.851151</td><td>1</td><td>0</td><td>1</td><td>0</td><td>0</td><td>0</td><td>0</td><td>0</td><td>0</td><td>1</td><td> 7.0</td><td> 0.4900</td><td> 0.343000</td><td>  0.24010000</td><td>4020</td><td>13</td><td>8270</td></tr>\n",
       "\t<tr><td>12.019231</td><td>2.486508</td><td>1</td><td>0</td><td>0</td><td>1</td><td>0</td><td>0</td><td>0</td><td>0</td><td>0</td><td>1</td><td> 5.5</td><td> 0.3025</td><td> 0.166375</td><td>  0.09150625</td><td>3600</td><td>11</td><td>8270</td></tr>\n",
       "\t<tr><td>13.461538</td><td>2.599837</td><td>1</td><td>0</td><td>0</td><td>1</td><td>0</td><td>0</td><td>0</td><td>0</td><td>0</td><td>1</td><td>20.5</td><td> 4.2025</td><td> 8.615125</td><td> 17.66100625</td><td>3645</td><td>11</td><td>8190</td></tr>\n",
       "\t<tr><td>16.346154</td><td>2.793993</td><td>1</td><td>0</td><td>0</td><td>0</td><td>1</td><td>0</td><td>0</td><td>0</td><td>0</td><td>1</td><td>25.0</td><td> 6.2500</td><td>15.625000</td><td> 39.06250000</td><td> 110</td><td> 1</td><td>7870</td></tr>\n",
       "\t<tr><td>10.683761</td><td>2.368725</td><td>1</td><td>0</td><td>0</td><td>1</td><td>0</td><td>0</td><td>0</td><td>0</td><td>0</td><td>1</td><td> 6.5</td><td> 0.4225</td><td> 0.274625</td><td>  0.17850625</td><td>4300</td><td>15</td><td>8590</td></tr>\n",
       "\t<tr><td>11.538462</td><td>2.445686</td><td>1</td><td>0</td><td>0</td><td>1</td><td>0</td><td>0</td><td>0</td><td>0</td><td>0</td><td>1</td><td> 8.5</td><td> 0.7225</td><td> 0.614125</td><td>  0.52200625</td><td>3600</td><td>11</td><td>8190</td></tr>\n",
       "\t<tr><td>17.788462</td><td>2.878550</td><td>1</td><td>0</td><td>0</td><td>0</td><td>0</td><td>1</td><td>0</td><td>0</td><td>0</td><td>1</td><td>11.0</td><td> 1.2100</td><td> 1.331000</td><td>  1.46410000</td><td>2310</td><td> 8</td><td>7860</td></tr>\n",
       "\t<tr><td>16.304348</td><td>2.791432</td><td>1</td><td>0</td><td>0</td><td>1</td><td>0</td><td>0</td><td>0</td><td>0</td><td>0</td><td>1</td><td>24.5</td><td> 6.0025</td><td>14.706125</td><td> 36.03000625</td><td>  20</td><td> 1</td><td>5480</td></tr>\n",
       "\t<tr><td>14.423077</td><td>2.668829</td><td>1</td><td>0</td><td>1</td><td>0</td><td>0</td><td>0</td><td>0</td><td>0</td><td>0</td><td>1</td><td> 5.0</td><td> 0.2500</td><td> 0.125000</td><td>  0.06250000</td><td> 430</td><td> 1</td><td>7390</td></tr>\n",
       "\t<tr><td>42.307692</td><td>3.744969</td><td>1</td><td>0</td><td>0</td><td>0</td><td>0</td><td>1</td><td>0</td><td>0</td><td>0</td><td>1</td><td> 0.0</td><td> 0.0000</td><td> 0.000000</td><td>  0.00000000</td><td>4700</td><td>16</td><td>4795</td></tr>\n",
       "\t<tr><td>13.942308</td><td>2.634928</td><td>1</td><td>0</td><td>0</td><td>1</td><td>0</td><td>0</td><td>0</td><td>0</td><td>0</td><td>1</td><td>15.5</td><td> 2.4025</td><td> 3.723875</td><td>  5.77200625</td><td>5860</td><td>17</td><td>4670</td></tr>\n",
       "\t<tr><td>10.096154</td><td>2.312155</td><td>1</td><td>0</td><td>0</td><td>1</td><td>0</td><td>0</td><td>0</td><td>0</td><td>0</td><td>1</td><td> 9.0</td><td> 0.8100</td><td> 0.729000</td><td>  0.65610000</td><td>3500</td><td>10</td><td>8090</td></tr>\n",
       "\t<tr><td>14.053254</td><td>2.642854</td><td>1</td><td>0</td><td>0</td><td>0</td><td>0</td><td>1</td><td>0</td><td>0</td><td>0</td><td>1</td><td>14.0</td><td> 1.9600</td><td> 2.744000</td><td>  3.84160000</td><td>2330</td><td> 8</td><td>7860</td></tr>\n",
       "\t<tr><td>11.965812</td><td>2.482054</td><td>1</td><td>0</td><td>1</td><td>0</td><td>0</td><td>0</td><td>0</td><td>0</td><td>0</td><td>1</td><td>14.0</td><td> 1.9600</td><td> 2.744000</td><td>  3.84160000</td><td> 430</td><td> 1</td><td>2980</td></tr>\n",
       "\t<tr><td>24.038462</td><td>3.179655</td><td>1</td><td>0</td><td>0</td><td>0</td><td>1</td><td>0</td><td>0</td><td>0</td><td>0</td><td>1</td><td>31.0</td><td> 9.6100</td><td>29.791000</td><td> 92.35210000</td><td>2630</td><td> 9</td><td>4870</td></tr>\n",
       "\t<tr><td>41.208791</td><td>3.718652</td><td>1</td><td>0</td><td>0</td><td>0</td><td>1</td><td>0</td><td>0</td><td>0</td><td>0</td><td>1</td><td>11.0</td><td> 1.2100</td><td> 1.331000</td><td>  1.46410000</td><td>4700</td><td>16</td><td>5790</td></tr>\n",
       "\t<tr><td>21.634615</td><td>3.074295</td><td>1</td><td>0</td><td>0</td><td>1</td><td>0</td><td>0</td><td>0</td><td>0</td><td>0</td><td>1</td><td>17.5</td><td> 3.0625</td><td> 5.359375</td><td>  9.37890625</td><td>5400</td><td>17</td><td>6695</td></tr>\n",
       "\t<tr><td> 6.730769</td><td>1.906689</td><td>1</td><td>0</td><td>1</td><td>0</td><td>0</td><td>0</td><td>0</td><td>0</td><td>0</td><td>1</td><td>15.0</td><td> 2.2500</td><td> 3.375000</td><td>  5.06250000</td><td>3600</td><td>11</td><td>8270</td></tr>\n",
       "\t<tr><td>12.019231</td><td>2.486508</td><td>1</td><td>0</td><td>0</td><td>1</td><td>0</td><td>0</td><td>0</td><td>0</td><td>0</td><td>1</td><td> 6.5</td><td> 0.4225</td><td> 0.274625</td><td>  0.17850625</td><td>4110</td><td>13</td><td>8680</td></tr>\n",
       "\t<tr><td> 7.211538</td><td>1.975682</td><td>1</td><td>0</td><td>0</td><td>1</td><td>0</td><td>0</td><td>0</td><td>0</td><td>0</td><td>1</td><td>17.5</td><td> 3.0625</td><td> 5.359375</td><td>  9.37890625</td><td>4720</td><td>16</td><td>4980</td></tr>\n",
       "\t<tr><td>11.778846</td><td>2.466305</td><td>1</td><td>0</td><td>0</td><td>0</td><td>1</td><td>0</td><td>0</td><td>0</td><td>0</td><td>1</td><td> 7.0</td><td> 0.4900</td><td> 0.343000</td><td>  0.24010000</td><td>5860</td><td>17</td><td>6870</td></tr>\n",
       "\t<tr><td>13.076923</td><td>2.570849</td><td>1</td><td>0</td><td>0</td><td>0</td><td>1</td><td>0</td><td>0</td><td>0</td><td>0</td><td>1</td><td>10.0</td><td> 1.0000</td><td> 1.000000</td><td>  1.00000000</td><td> 725</td><td> 2</td><td>8590</td></tr>\n",
       "\t<tr><td>22.500000</td><td>3.113515</td><td>1</td><td>0</td><td>0</td><td>0</td><td>0</td><td>1</td><td>0</td><td>0</td><td>0</td><td>1</td><td>35.0</td><td>12.2500</td><td>42.875000</td><td>150.06250000</td><td>2310</td><td> 8</td><td>7860</td></tr>\n",
       "\t<tr><td>⋮</td><td>⋮</td><td>⋮</td><td>⋮</td><td>⋮</td><td>⋮</td><td>⋮</td><td>⋮</td><td>⋮</td><td>⋮</td><td>⋮</td><td>⋮</td><td>⋮</td><td>⋮</td><td>⋮</td><td>⋮</td><td>⋮</td><td>⋮</td><td>⋮</td></tr>\n",
       "\t<tr><td>48.076923</td><td>3.872802</td><td>1</td><td>0</td><td>0</td><td>0</td><td>0</td><td>1</td><td>0</td><td>0</td><td>1</td><td>0</td><td> 0.0</td><td> 0.0000</td><td> 0.000000</td><td>  0.00000000</td><td>3050</td><td>10</td><td>8090</td></tr>\n",
       "\t<tr><td>20.673077</td><td>3.028832</td><td>1</td><td>0</td><td>0</td><td>0</td><td>1</td><td>0</td><td>0</td><td>0</td><td>1</td><td>0</td><td> 6.0</td><td> 0.3600</td><td> 0.216000</td><td>  0.12960000</td><td>5000</td><td>17</td><td>6870</td></tr>\n",
       "\t<tr><td> 8.894231</td><td>2.185403</td><td>1</td><td>0</td><td>1</td><td>0</td><td>0</td><td>0</td><td>0</td><td>0</td><td>1</td><td>0</td><td> 5.0</td><td> 0.2500</td><td> 0.125000</td><td>  0.06250000</td><td>4720</td><td>16</td><td>8680</td></tr>\n",
       "\t<tr><td>30.145530</td><td>3.406037</td><td>1</td><td>0</td><td>0</td><td>0</td><td>1</td><td>0</td><td>0</td><td>0</td><td>1</td><td>0</td><td>15.0</td><td> 2.2500</td><td> 3.375000</td><td>  5.06250000</td><td> 120</td><td> 1</td><td>6870</td></tr>\n",
       "\t<tr><td>12.019231</td><td>2.486508</td><td>1</td><td>0</td><td>0</td><td>1</td><td>0</td><td>0</td><td>0</td><td>0</td><td>1</td><td>0</td><td> 9.5</td><td> 0.9025</td><td> 0.857375</td><td>  0.81450625</td><td>4760</td><td>16</td><td>4890</td></tr>\n",
       "\t<tr><td>24.038462</td><td>3.179655</td><td>1</td><td>0</td><td>1</td><td>0</td><td>0</td><td>0</td><td>0</td><td>0</td><td>1</td><td>0</td><td> 7.0</td><td> 0.4900</td><td> 0.343000</td><td>  0.24010000</td><td> 120</td><td> 1</td><td>6890</td></tr>\n",
       "\t<tr><td>22.596154</td><td>3.117780</td><td>1</td><td>0</td><td>0</td><td>1</td><td>0</td><td>0</td><td>0</td><td>0</td><td>1</td><td>0</td><td>11.5</td><td> 1.3225</td><td> 1.520875</td><td>  1.74900625</td><td>5240</td><td>17</td><td>6690</td></tr>\n",
       "\t<tr><td> 7.211538</td><td>1.975682</td><td>1</td><td>0</td><td>0</td><td>0</td><td>0</td><td>1</td><td>0</td><td>0</td><td>1</td><td>0</td><td> 2.0</td><td> 0.0400</td><td> 0.008000</td><td>  0.00160000</td><td>2200</td><td> 8</td><td>7870</td></tr>\n",
       "\t<tr><td>18.750000</td><td>2.931194</td><td>1</td><td>0</td><td>0</td><td>1</td><td>0</td><td>0</td><td>0</td><td>0</td><td>1</td><td>0</td><td>19.0</td><td> 3.6100</td><td> 6.859000</td><td> 13.03210000</td><td>3649</td><td>11</td><td>8190</td></tr>\n",
       "\t<tr><td>29.914530</td><td>3.398344</td><td>1</td><td>0</td><td>0</td><td>0</td><td>1</td><td>0</td><td>0</td><td>0</td><td>1</td><td>0</td><td>39.0</td><td>15.2100</td><td>59.319000</td><td>231.34410000</td><td>4700</td><td>16</td><td>5380</td></tr>\n",
       "\t<tr><td>11.298077</td><td>2.424633</td><td>1</td><td>0</td><td>0</td><td>0</td><td>1</td><td>0</td><td>0</td><td>0</td><td>1</td><td>0</td><td>10.0</td><td> 1.0000</td><td> 1.000000</td><td>  1.00000000</td><td>2060</td><td> 6</td><td>9160</td></tr>\n",
       "\t<tr><td>16.025641</td><td>2.774190</td><td>1</td><td>0</td><td>0</td><td>1</td><td>0</td><td>0</td><td>0</td><td>0</td><td>1</td><td>0</td><td>11.0</td><td> 1.2100</td><td> 1.331000</td><td>  1.46410000</td><td>4720</td><td>16</td><td>5080</td></tr>\n",
       "\t<tr><td>16.826923</td><td>2.822980</td><td>1</td><td>0</td><td>0</td><td>0</td><td>1</td><td>0</td><td>0</td><td>0</td><td>1</td><td>0</td><td> 4.0</td><td> 0.1600</td><td> 0.064000</td><td>  0.02560000</td><td>3648</td><td>11</td><td>7480</td></tr>\n",
       "\t<tr><td>15.865385</td><td>2.764140</td><td>1</td><td>0</td><td>0</td><td>0</td><td>0</td><td>1</td><td>0</td><td>0</td><td>1</td><td>0</td><td> 0.0</td><td> 0.0000</td><td> 0.000000</td><td>  0.00000000</td><td>3230</td><td>10</td><td>8180</td></tr>\n",
       "\t<tr><td>18.750000</td><td>2.931194</td><td>1</td><td>0</td><td>0</td><td>0</td><td>1</td><td>0</td><td>0</td><td>0</td><td>1</td><td>0</td><td> 2.0</td><td> 0.0400</td><td> 0.008000</td><td>  0.00160000</td><td>2000</td><td> 6</td><td>8370</td></tr>\n",
       "\t<tr><td>20.913462</td><td>3.040393</td><td>1</td><td>0</td><td>0</td><td>1</td><td>0</td><td>0</td><td>0</td><td>0</td><td>1</td><td>0</td><td> 4.5</td><td> 0.2025</td><td> 0.091125</td><td>  0.04100625</td><td>4600</td><td>15</td><td>8470</td></tr>\n",
       "\t<tr><td>15.697863</td><td>2.753525</td><td>1</td><td>0</td><td>1</td><td>0</td><td>0</td><td>0</td><td>0</td><td>0</td><td>1</td><td>0</td><td>40.0</td><td>16.0000</td><td>64.000000</td><td>256.00000000</td><td>4850</td><td>16</td><td>4470</td></tr>\n",
       "\t<tr><td>12.237762</td><td>2.504526</td><td>1</td><td>0</td><td>0</td><td>0</td><td>0</td><td>1</td><td>0</td><td>0</td><td>1</td><td>0</td><td> 6.0</td><td> 0.3600</td><td> 0.216000</td><td>  0.12960000</td><td>3820</td><td>12</td><td>9590</td></tr>\n",
       "\t<tr><td>13.986014</td><td>2.638058</td><td>1</td><td>0</td><td>0</td><td>0</td><td>0</td><td>1</td><td>0</td><td>0</td><td>1</td><td>0</td><td> 7.0</td><td> 0.4900</td><td> 0.343000</td><td>  0.24010000</td><td>3820</td><td>12</td><td>9590</td></tr>\n",
       "\t<tr><td>38.461538</td><td>3.649659</td><td>1</td><td>0</td><td>0</td><td>1</td><td>0</td><td>0</td><td>0</td><td>0</td><td>1</td><td>0</td><td> 7.5</td><td> 0.5625</td><td> 0.421875</td><td>  0.31640625</td><td> 220</td><td> 1</td><td> 770</td></tr>\n",
       "\t<tr><td>24.475524</td><td>3.197674</td><td>1</td><td>0</td><td>0</td><td>0</td><td>0</td><td>1</td><td>0</td><td>0</td><td>1</td><td>0</td><td>24.0</td><td> 5.7600</td><td>13.824000</td><td> 33.17760000</td><td>2310</td><td> 8</td><td>7860</td></tr>\n",
       "\t<tr><td> 8.653846</td><td>2.158004</td><td>1</td><td>0</td><td>1</td><td>0</td><td>0</td><td>0</td><td>0</td><td>0</td><td>1</td><td>0</td><td>25.0</td><td> 6.2500</td><td>15.625000</td><td> 39.06250000</td><td>3930</td><td>12</td><td>7680</td></tr>\n",
       "\t<tr><td>12.500000</td><td>2.525729</td><td>1</td><td>0</td><td>1</td><td>0</td><td>0</td><td>0</td><td>0</td><td>0</td><td>1</td><td>0</td><td>12.0</td><td> 1.4400</td><td> 1.728000</td><td>  2.07360000</td><td>4010</td><td>13</td><td>8680</td></tr>\n",
       "\t<tr><td>48.076923</td><td>3.872802</td><td>1</td><td>0</td><td>0</td><td>0</td><td>1</td><td>0</td><td>0</td><td>0</td><td>1</td><td>0</td><td>25.0</td><td> 6.2500</td><td>15.625000</td><td> 39.06250000</td><td>3255</td><td>10</td><td>8170</td></tr>\n",
       "\t<tr><td>26.442308</td><td>3.274965</td><td>1</td><td>0</td><td>0</td><td>0</td><td>1</td><td>0</td><td>0</td><td>0</td><td>1</td><td>0</td><td>34.0</td><td>11.5600</td><td>39.304000</td><td>133.63360000</td><td>2310</td><td> 8</td><td>7860</td></tr>\n",
       "\t<tr><td>13.461538</td><td>2.599837</td><td>1</td><td>0</td><td>1</td><td>0</td><td>0</td><td>0</td><td>0</td><td>0</td><td>1</td><td>0</td><td> 8.0</td><td> 0.6400</td><td> 0.512000</td><td>  0.40960000</td><td>4720</td><td>16</td><td>8590</td></tr>\n",
       "\t<tr><td>19.711538</td><td>2.981204</td><td>1</td><td>0</td><td>0</td><td>0</td><td>0</td><td>1</td><td>0</td><td>0</td><td>1</td><td>0</td><td> 8.0</td><td> 0.6400</td><td> 0.512000</td><td>  0.40960000</td><td>2000</td><td> 6</td><td>8090</td></tr>\n",
       "\t<tr><td>45.546559</td><td>3.818735</td><td>1</td><td>0</td><td>0</td><td>0</td><td>1</td><td>0</td><td>0</td><td>0</td><td>1</td><td>0</td><td> 5.0</td><td> 0.2500</td><td> 0.125000</td><td>  0.06250000</td><td>3255</td><td>10</td><td>8190</td></tr>\n",
       "\t<tr><td>24.038462</td><td>3.179655</td><td>1</td><td>0</td><td>0</td><td>0</td><td>1</td><td>0</td><td>0</td><td>0</td><td>1</td><td>0</td><td>17.0</td><td> 2.8900</td><td> 4.913000</td><td>  8.35210000</td><td>2550</td><td> 8</td><td>9480</td></tr>\n",
       "\t<tr><td>23.076923</td><td>3.138833</td><td>1</td><td>0</td><td>0</td><td>1</td><td>0</td><td>0</td><td>0</td><td>0</td><td>1</td><td>0</td><td>12.0</td><td> 1.4400</td><td> 1.728000</td><td>  2.07360000</td><td>4110</td><td>13</td><td>8680</td></tr>\n",
       "</tbody>\n",
       "</table>\n"
      ],
      "text/latex": [
       "A data.frame: 2289 × 19\n",
       "\\begin{tabular}{lllllllllllllllllll}\n",
       " salario & lwage & sex & shs & hsg & scl & clg & ad & mw & so & we & ne & exp1 & exp2 & exp3 & exp4 & occ & occ2 & ind\\\\\n",
       " <dbl> & <dbl> & <int> & <int> & <int> & <int> & <int> & <int> & <int> & <int> & <int> & <int> & <dbl> & <dbl> & <dbl> & <dbl> & <dbl> & <int> & <dbl>\\\\\n",
       "\\hline\n",
       "\t  9.615385 & 2.263364 & 1 & 0 & 0 & 0 & 1 & 0 & 0 & 0 & 0 & 1 &  7.0 &  0.4900 &  0.343000 &   0.24010000 & 3600 & 11 & 8370\\\\\n",
       "\t 13.942308 & 2.634928 & 1 & 0 & 0 & 0 & 0 & 1 & 0 & 0 & 0 & 1 & 25.0 &  6.2500 & 15.625000 &  39.06250000 &  420 &  1 & 6990\\\\\n",
       "\t 28.846154 & 3.361977 & 1 & 0 & 0 & 0 & 1 & 0 & 0 & 0 & 0 & 1 & 22.0 &  4.8400 & 10.648000 &  23.42560000 & 2015 &  6 & 9470\\\\\n",
       "\t 11.730769 & 2.462215 & 1 & 0 & 0 & 0 & 1 & 0 & 0 & 0 & 0 & 1 &  1.0 &  0.0100 &  0.001000 &   0.00010000 & 1650 &  5 & 7460\\\\\n",
       "\t 19.230769 & 2.956512 & 1 & 0 & 1 & 0 & 0 & 0 & 0 & 0 & 0 & 1 & 42.0 & 17.6400 & 74.088000 & 311.16960000 & 5120 & 17 & 7280\\\\\n",
       "\t 12.000000 & 2.484907 & 1 & 0 & 1 & 0 & 0 & 0 & 0 & 0 & 0 & 1 & 31.0 &  9.6100 & 29.791000 &  92.35210000 & 4040 & 13 & 8590\\\\\n",
       "\t 19.230769 & 2.956512 & 1 & 0 & 0 & 0 & 1 & 0 & 0 & 0 & 0 & 1 &  4.0 &  0.1600 &  0.064000 &   0.02560000 & 3255 & 10 & 8190\\\\\n",
       "\t 17.307692 & 2.851151 & 1 & 0 & 1 & 0 & 0 & 0 & 0 & 0 & 0 & 1 &  7.0 &  0.4900 &  0.343000 &   0.24010000 & 4020 & 13 & 8270\\\\\n",
       "\t 12.019231 & 2.486508 & 1 & 0 & 0 & 1 & 0 & 0 & 0 & 0 & 0 & 1 &  5.5 &  0.3025 &  0.166375 &   0.09150625 & 3600 & 11 & 8270\\\\\n",
       "\t 13.461538 & 2.599837 & 1 & 0 & 0 & 1 & 0 & 0 & 0 & 0 & 0 & 1 & 20.5 &  4.2025 &  8.615125 &  17.66100625 & 3645 & 11 & 8190\\\\\n",
       "\t 16.346154 & 2.793993 & 1 & 0 & 0 & 0 & 1 & 0 & 0 & 0 & 0 & 1 & 25.0 &  6.2500 & 15.625000 &  39.06250000 &  110 &  1 & 7870\\\\\n",
       "\t 10.683761 & 2.368725 & 1 & 0 & 0 & 1 & 0 & 0 & 0 & 0 & 0 & 1 &  6.5 &  0.4225 &  0.274625 &   0.17850625 & 4300 & 15 & 8590\\\\\n",
       "\t 11.538462 & 2.445686 & 1 & 0 & 0 & 1 & 0 & 0 & 0 & 0 & 0 & 1 &  8.5 &  0.7225 &  0.614125 &   0.52200625 & 3600 & 11 & 8190\\\\\n",
       "\t 17.788462 & 2.878550 & 1 & 0 & 0 & 0 & 0 & 1 & 0 & 0 & 0 & 1 & 11.0 &  1.2100 &  1.331000 &   1.46410000 & 2310 &  8 & 7860\\\\\n",
       "\t 16.304348 & 2.791432 & 1 & 0 & 0 & 1 & 0 & 0 & 0 & 0 & 0 & 1 & 24.5 &  6.0025 & 14.706125 &  36.03000625 &   20 &  1 & 5480\\\\\n",
       "\t 14.423077 & 2.668829 & 1 & 0 & 1 & 0 & 0 & 0 & 0 & 0 & 0 & 1 &  5.0 &  0.2500 &  0.125000 &   0.06250000 &  430 &  1 & 7390\\\\\n",
       "\t 42.307692 & 3.744969 & 1 & 0 & 0 & 0 & 0 & 1 & 0 & 0 & 0 & 1 &  0.0 &  0.0000 &  0.000000 &   0.00000000 & 4700 & 16 & 4795\\\\\n",
       "\t 13.942308 & 2.634928 & 1 & 0 & 0 & 1 & 0 & 0 & 0 & 0 & 0 & 1 & 15.5 &  2.4025 &  3.723875 &   5.77200625 & 5860 & 17 & 4670\\\\\n",
       "\t 10.096154 & 2.312155 & 1 & 0 & 0 & 1 & 0 & 0 & 0 & 0 & 0 & 1 &  9.0 &  0.8100 &  0.729000 &   0.65610000 & 3500 & 10 & 8090\\\\\n",
       "\t 14.053254 & 2.642854 & 1 & 0 & 0 & 0 & 0 & 1 & 0 & 0 & 0 & 1 & 14.0 &  1.9600 &  2.744000 &   3.84160000 & 2330 &  8 & 7860\\\\\n",
       "\t 11.965812 & 2.482054 & 1 & 0 & 1 & 0 & 0 & 0 & 0 & 0 & 0 & 1 & 14.0 &  1.9600 &  2.744000 &   3.84160000 &  430 &  1 & 2980\\\\\n",
       "\t 24.038462 & 3.179655 & 1 & 0 & 0 & 0 & 1 & 0 & 0 & 0 & 0 & 1 & 31.0 &  9.6100 & 29.791000 &  92.35210000 & 2630 &  9 & 4870\\\\\n",
       "\t 41.208791 & 3.718652 & 1 & 0 & 0 & 0 & 1 & 0 & 0 & 0 & 0 & 1 & 11.0 &  1.2100 &  1.331000 &   1.46410000 & 4700 & 16 & 5790\\\\\n",
       "\t 21.634615 & 3.074295 & 1 & 0 & 0 & 1 & 0 & 0 & 0 & 0 & 0 & 1 & 17.5 &  3.0625 &  5.359375 &   9.37890625 & 5400 & 17 & 6695\\\\\n",
       "\t  6.730769 & 1.906689 & 1 & 0 & 1 & 0 & 0 & 0 & 0 & 0 & 0 & 1 & 15.0 &  2.2500 &  3.375000 &   5.06250000 & 3600 & 11 & 8270\\\\\n",
       "\t 12.019231 & 2.486508 & 1 & 0 & 0 & 1 & 0 & 0 & 0 & 0 & 0 & 1 &  6.5 &  0.4225 &  0.274625 &   0.17850625 & 4110 & 13 & 8680\\\\\n",
       "\t  7.211538 & 1.975682 & 1 & 0 & 0 & 1 & 0 & 0 & 0 & 0 & 0 & 1 & 17.5 &  3.0625 &  5.359375 &   9.37890625 & 4720 & 16 & 4980\\\\\n",
       "\t 11.778846 & 2.466305 & 1 & 0 & 0 & 0 & 1 & 0 & 0 & 0 & 0 & 1 &  7.0 &  0.4900 &  0.343000 &   0.24010000 & 5860 & 17 & 6870\\\\\n",
       "\t 13.076923 & 2.570849 & 1 & 0 & 0 & 0 & 1 & 0 & 0 & 0 & 0 & 1 & 10.0 &  1.0000 &  1.000000 &   1.00000000 &  725 &  2 & 8590\\\\\n",
       "\t 22.500000 & 3.113515 & 1 & 0 & 0 & 0 & 0 & 1 & 0 & 0 & 0 & 1 & 35.0 & 12.2500 & 42.875000 & 150.06250000 & 2310 &  8 & 7860\\\\\n",
       "\t ⋮ & ⋮ & ⋮ & ⋮ & ⋮ & ⋮ & ⋮ & ⋮ & ⋮ & ⋮ & ⋮ & ⋮ & ⋮ & ⋮ & ⋮ & ⋮ & ⋮ & ⋮ & ⋮\\\\\n",
       "\t 48.076923 & 3.872802 & 1 & 0 & 0 & 0 & 0 & 1 & 0 & 0 & 1 & 0 &  0.0 &  0.0000 &  0.000000 &   0.00000000 & 3050 & 10 & 8090\\\\\n",
       "\t 20.673077 & 3.028832 & 1 & 0 & 0 & 0 & 1 & 0 & 0 & 0 & 1 & 0 &  6.0 &  0.3600 &  0.216000 &   0.12960000 & 5000 & 17 & 6870\\\\\n",
       "\t  8.894231 & 2.185403 & 1 & 0 & 1 & 0 & 0 & 0 & 0 & 0 & 1 & 0 &  5.0 &  0.2500 &  0.125000 &   0.06250000 & 4720 & 16 & 8680\\\\\n",
       "\t 30.145530 & 3.406037 & 1 & 0 & 0 & 0 & 1 & 0 & 0 & 0 & 1 & 0 & 15.0 &  2.2500 &  3.375000 &   5.06250000 &  120 &  1 & 6870\\\\\n",
       "\t 12.019231 & 2.486508 & 1 & 0 & 0 & 1 & 0 & 0 & 0 & 0 & 1 & 0 &  9.5 &  0.9025 &  0.857375 &   0.81450625 & 4760 & 16 & 4890\\\\\n",
       "\t 24.038462 & 3.179655 & 1 & 0 & 1 & 0 & 0 & 0 & 0 & 0 & 1 & 0 &  7.0 &  0.4900 &  0.343000 &   0.24010000 &  120 &  1 & 6890\\\\\n",
       "\t 22.596154 & 3.117780 & 1 & 0 & 0 & 1 & 0 & 0 & 0 & 0 & 1 & 0 & 11.5 &  1.3225 &  1.520875 &   1.74900625 & 5240 & 17 & 6690\\\\\n",
       "\t  7.211538 & 1.975682 & 1 & 0 & 0 & 0 & 0 & 1 & 0 & 0 & 1 & 0 &  2.0 &  0.0400 &  0.008000 &   0.00160000 & 2200 &  8 & 7870\\\\\n",
       "\t 18.750000 & 2.931194 & 1 & 0 & 0 & 1 & 0 & 0 & 0 & 0 & 1 & 0 & 19.0 &  3.6100 &  6.859000 &  13.03210000 & 3649 & 11 & 8190\\\\\n",
       "\t 29.914530 & 3.398344 & 1 & 0 & 0 & 0 & 1 & 0 & 0 & 0 & 1 & 0 & 39.0 & 15.2100 & 59.319000 & 231.34410000 & 4700 & 16 & 5380\\\\\n",
       "\t 11.298077 & 2.424633 & 1 & 0 & 0 & 0 & 1 & 0 & 0 & 0 & 1 & 0 & 10.0 &  1.0000 &  1.000000 &   1.00000000 & 2060 &  6 & 9160\\\\\n",
       "\t 16.025641 & 2.774190 & 1 & 0 & 0 & 1 & 0 & 0 & 0 & 0 & 1 & 0 & 11.0 &  1.2100 &  1.331000 &   1.46410000 & 4720 & 16 & 5080\\\\\n",
       "\t 16.826923 & 2.822980 & 1 & 0 & 0 & 0 & 1 & 0 & 0 & 0 & 1 & 0 &  4.0 &  0.1600 &  0.064000 &   0.02560000 & 3648 & 11 & 7480\\\\\n",
       "\t 15.865385 & 2.764140 & 1 & 0 & 0 & 0 & 0 & 1 & 0 & 0 & 1 & 0 &  0.0 &  0.0000 &  0.000000 &   0.00000000 & 3230 & 10 & 8180\\\\\n",
       "\t 18.750000 & 2.931194 & 1 & 0 & 0 & 0 & 1 & 0 & 0 & 0 & 1 & 0 &  2.0 &  0.0400 &  0.008000 &   0.00160000 & 2000 &  6 & 8370\\\\\n",
       "\t 20.913462 & 3.040393 & 1 & 0 & 0 & 1 & 0 & 0 & 0 & 0 & 1 & 0 &  4.5 &  0.2025 &  0.091125 &   0.04100625 & 4600 & 15 & 8470\\\\\n",
       "\t 15.697863 & 2.753525 & 1 & 0 & 1 & 0 & 0 & 0 & 0 & 0 & 1 & 0 & 40.0 & 16.0000 & 64.000000 & 256.00000000 & 4850 & 16 & 4470\\\\\n",
       "\t 12.237762 & 2.504526 & 1 & 0 & 0 & 0 & 0 & 1 & 0 & 0 & 1 & 0 &  6.0 &  0.3600 &  0.216000 &   0.12960000 & 3820 & 12 & 9590\\\\\n",
       "\t 13.986014 & 2.638058 & 1 & 0 & 0 & 0 & 0 & 1 & 0 & 0 & 1 & 0 &  7.0 &  0.4900 &  0.343000 &   0.24010000 & 3820 & 12 & 9590\\\\\n",
       "\t 38.461538 & 3.649659 & 1 & 0 & 0 & 1 & 0 & 0 & 0 & 0 & 1 & 0 &  7.5 &  0.5625 &  0.421875 &   0.31640625 &  220 &  1 &  770\\\\\n",
       "\t 24.475524 & 3.197674 & 1 & 0 & 0 & 0 & 0 & 1 & 0 & 0 & 1 & 0 & 24.0 &  5.7600 & 13.824000 &  33.17760000 & 2310 &  8 & 7860\\\\\n",
       "\t  8.653846 & 2.158004 & 1 & 0 & 1 & 0 & 0 & 0 & 0 & 0 & 1 & 0 & 25.0 &  6.2500 & 15.625000 &  39.06250000 & 3930 & 12 & 7680\\\\\n",
       "\t 12.500000 & 2.525729 & 1 & 0 & 1 & 0 & 0 & 0 & 0 & 0 & 1 & 0 & 12.0 &  1.4400 &  1.728000 &   2.07360000 & 4010 & 13 & 8680\\\\\n",
       "\t 48.076923 & 3.872802 & 1 & 0 & 0 & 0 & 1 & 0 & 0 & 0 & 1 & 0 & 25.0 &  6.2500 & 15.625000 &  39.06250000 & 3255 & 10 & 8170\\\\\n",
       "\t 26.442308 & 3.274965 & 1 & 0 & 0 & 0 & 1 & 0 & 0 & 0 & 1 & 0 & 34.0 & 11.5600 & 39.304000 & 133.63360000 & 2310 &  8 & 7860\\\\\n",
       "\t 13.461538 & 2.599837 & 1 & 0 & 1 & 0 & 0 & 0 & 0 & 0 & 1 & 0 &  8.0 &  0.6400 &  0.512000 &   0.40960000 & 4720 & 16 & 8590\\\\\n",
       "\t 19.711538 & 2.981204 & 1 & 0 & 0 & 0 & 0 & 1 & 0 & 0 & 1 & 0 &  8.0 &  0.6400 &  0.512000 &   0.40960000 & 2000 &  6 & 8090\\\\\n",
       "\t 45.546559 & 3.818735 & 1 & 0 & 0 & 0 & 1 & 0 & 0 & 0 & 1 & 0 &  5.0 &  0.2500 &  0.125000 &   0.06250000 & 3255 & 10 & 8190\\\\\n",
       "\t 24.038462 & 3.179655 & 1 & 0 & 0 & 0 & 1 & 0 & 0 & 0 & 1 & 0 & 17.0 &  2.8900 &  4.913000 &   8.35210000 & 2550 &  8 & 9480\\\\\n",
       "\t 23.076923 & 3.138833 & 1 & 0 & 0 & 1 & 0 & 0 & 0 & 0 & 1 & 0 & 12.0 &  1.4400 &  1.728000 &   2.07360000 & 4110 & 13 & 8680\\\\\n",
       "\\end{tabular}\n"
      ],
      "text/markdown": [
       "\n",
       "A data.frame: 2289 × 19\n",
       "\n",
       "| salario &lt;dbl&gt; | lwage &lt;dbl&gt; | sex &lt;int&gt; | shs &lt;int&gt; | hsg &lt;int&gt; | scl &lt;int&gt; | clg &lt;int&gt; | ad &lt;int&gt; | mw &lt;int&gt; | so &lt;int&gt; | we &lt;int&gt; | ne &lt;int&gt; | exp1 &lt;dbl&gt; | exp2 &lt;dbl&gt; | exp3 &lt;dbl&gt; | exp4 &lt;dbl&gt; | occ &lt;dbl&gt; | occ2 &lt;int&gt; | ind &lt;dbl&gt; |\n",
       "|---|---|---|---|---|---|---|---|---|---|---|---|---|---|---|---|---|---|---|\n",
       "|  9.615385 | 2.263364 | 1 | 0 | 0 | 0 | 1 | 0 | 0 | 0 | 0 | 1 |  7.0 |  0.4900 |  0.343000 |   0.24010000 | 3600 | 11 | 8370 |\n",
       "| 13.942308 | 2.634928 | 1 | 0 | 0 | 0 | 0 | 1 | 0 | 0 | 0 | 1 | 25.0 |  6.2500 | 15.625000 |  39.06250000 |  420 |  1 | 6990 |\n",
       "| 28.846154 | 3.361977 | 1 | 0 | 0 | 0 | 1 | 0 | 0 | 0 | 0 | 1 | 22.0 |  4.8400 | 10.648000 |  23.42560000 | 2015 |  6 | 9470 |\n",
       "| 11.730769 | 2.462215 | 1 | 0 | 0 | 0 | 1 | 0 | 0 | 0 | 0 | 1 |  1.0 |  0.0100 |  0.001000 |   0.00010000 | 1650 |  5 | 7460 |\n",
       "| 19.230769 | 2.956512 | 1 | 0 | 1 | 0 | 0 | 0 | 0 | 0 | 0 | 1 | 42.0 | 17.6400 | 74.088000 | 311.16960000 | 5120 | 17 | 7280 |\n",
       "| 12.000000 | 2.484907 | 1 | 0 | 1 | 0 | 0 | 0 | 0 | 0 | 0 | 1 | 31.0 |  9.6100 | 29.791000 |  92.35210000 | 4040 | 13 | 8590 |\n",
       "| 19.230769 | 2.956512 | 1 | 0 | 0 | 0 | 1 | 0 | 0 | 0 | 0 | 1 |  4.0 |  0.1600 |  0.064000 |   0.02560000 | 3255 | 10 | 8190 |\n",
       "| 17.307692 | 2.851151 | 1 | 0 | 1 | 0 | 0 | 0 | 0 | 0 | 0 | 1 |  7.0 |  0.4900 |  0.343000 |   0.24010000 | 4020 | 13 | 8270 |\n",
       "| 12.019231 | 2.486508 | 1 | 0 | 0 | 1 | 0 | 0 | 0 | 0 | 0 | 1 |  5.5 |  0.3025 |  0.166375 |   0.09150625 | 3600 | 11 | 8270 |\n",
       "| 13.461538 | 2.599837 | 1 | 0 | 0 | 1 | 0 | 0 | 0 | 0 | 0 | 1 | 20.5 |  4.2025 |  8.615125 |  17.66100625 | 3645 | 11 | 8190 |\n",
       "| 16.346154 | 2.793993 | 1 | 0 | 0 | 0 | 1 | 0 | 0 | 0 | 0 | 1 | 25.0 |  6.2500 | 15.625000 |  39.06250000 |  110 |  1 | 7870 |\n",
       "| 10.683761 | 2.368725 | 1 | 0 | 0 | 1 | 0 | 0 | 0 | 0 | 0 | 1 |  6.5 |  0.4225 |  0.274625 |   0.17850625 | 4300 | 15 | 8590 |\n",
       "| 11.538462 | 2.445686 | 1 | 0 | 0 | 1 | 0 | 0 | 0 | 0 | 0 | 1 |  8.5 |  0.7225 |  0.614125 |   0.52200625 | 3600 | 11 | 8190 |\n",
       "| 17.788462 | 2.878550 | 1 | 0 | 0 | 0 | 0 | 1 | 0 | 0 | 0 | 1 | 11.0 |  1.2100 |  1.331000 |   1.46410000 | 2310 |  8 | 7860 |\n",
       "| 16.304348 | 2.791432 | 1 | 0 | 0 | 1 | 0 | 0 | 0 | 0 | 0 | 1 | 24.5 |  6.0025 | 14.706125 |  36.03000625 |   20 |  1 | 5480 |\n",
       "| 14.423077 | 2.668829 | 1 | 0 | 1 | 0 | 0 | 0 | 0 | 0 | 0 | 1 |  5.0 |  0.2500 |  0.125000 |   0.06250000 |  430 |  1 | 7390 |\n",
       "| 42.307692 | 3.744969 | 1 | 0 | 0 | 0 | 0 | 1 | 0 | 0 | 0 | 1 |  0.0 |  0.0000 |  0.000000 |   0.00000000 | 4700 | 16 | 4795 |\n",
       "| 13.942308 | 2.634928 | 1 | 0 | 0 | 1 | 0 | 0 | 0 | 0 | 0 | 1 | 15.5 |  2.4025 |  3.723875 |   5.77200625 | 5860 | 17 | 4670 |\n",
       "| 10.096154 | 2.312155 | 1 | 0 | 0 | 1 | 0 | 0 | 0 | 0 | 0 | 1 |  9.0 |  0.8100 |  0.729000 |   0.65610000 | 3500 | 10 | 8090 |\n",
       "| 14.053254 | 2.642854 | 1 | 0 | 0 | 0 | 0 | 1 | 0 | 0 | 0 | 1 | 14.0 |  1.9600 |  2.744000 |   3.84160000 | 2330 |  8 | 7860 |\n",
       "| 11.965812 | 2.482054 | 1 | 0 | 1 | 0 | 0 | 0 | 0 | 0 | 0 | 1 | 14.0 |  1.9600 |  2.744000 |   3.84160000 |  430 |  1 | 2980 |\n",
       "| 24.038462 | 3.179655 | 1 | 0 | 0 | 0 | 1 | 0 | 0 | 0 | 0 | 1 | 31.0 |  9.6100 | 29.791000 |  92.35210000 | 2630 |  9 | 4870 |\n",
       "| 41.208791 | 3.718652 | 1 | 0 | 0 | 0 | 1 | 0 | 0 | 0 | 0 | 1 | 11.0 |  1.2100 |  1.331000 |   1.46410000 | 4700 | 16 | 5790 |\n",
       "| 21.634615 | 3.074295 | 1 | 0 | 0 | 1 | 0 | 0 | 0 | 0 | 0 | 1 | 17.5 |  3.0625 |  5.359375 |   9.37890625 | 5400 | 17 | 6695 |\n",
       "|  6.730769 | 1.906689 | 1 | 0 | 1 | 0 | 0 | 0 | 0 | 0 | 0 | 1 | 15.0 |  2.2500 |  3.375000 |   5.06250000 | 3600 | 11 | 8270 |\n",
       "| 12.019231 | 2.486508 | 1 | 0 | 0 | 1 | 0 | 0 | 0 | 0 | 0 | 1 |  6.5 |  0.4225 |  0.274625 |   0.17850625 | 4110 | 13 | 8680 |\n",
       "|  7.211538 | 1.975682 | 1 | 0 | 0 | 1 | 0 | 0 | 0 | 0 | 0 | 1 | 17.5 |  3.0625 |  5.359375 |   9.37890625 | 4720 | 16 | 4980 |\n",
       "| 11.778846 | 2.466305 | 1 | 0 | 0 | 0 | 1 | 0 | 0 | 0 | 0 | 1 |  7.0 |  0.4900 |  0.343000 |   0.24010000 | 5860 | 17 | 6870 |\n",
       "| 13.076923 | 2.570849 | 1 | 0 | 0 | 0 | 1 | 0 | 0 | 0 | 0 | 1 | 10.0 |  1.0000 |  1.000000 |   1.00000000 |  725 |  2 | 8590 |\n",
       "| 22.500000 | 3.113515 | 1 | 0 | 0 | 0 | 0 | 1 | 0 | 0 | 0 | 1 | 35.0 | 12.2500 | 42.875000 | 150.06250000 | 2310 |  8 | 7860 |\n",
       "| ⋮ | ⋮ | ⋮ | ⋮ | ⋮ | ⋮ | ⋮ | ⋮ | ⋮ | ⋮ | ⋮ | ⋮ | ⋮ | ⋮ | ⋮ | ⋮ | ⋮ | ⋮ | ⋮ |\n",
       "| 48.076923 | 3.872802 | 1 | 0 | 0 | 0 | 0 | 1 | 0 | 0 | 1 | 0 |  0.0 |  0.0000 |  0.000000 |   0.00000000 | 3050 | 10 | 8090 |\n",
       "| 20.673077 | 3.028832 | 1 | 0 | 0 | 0 | 1 | 0 | 0 | 0 | 1 | 0 |  6.0 |  0.3600 |  0.216000 |   0.12960000 | 5000 | 17 | 6870 |\n",
       "|  8.894231 | 2.185403 | 1 | 0 | 1 | 0 | 0 | 0 | 0 | 0 | 1 | 0 |  5.0 |  0.2500 |  0.125000 |   0.06250000 | 4720 | 16 | 8680 |\n",
       "| 30.145530 | 3.406037 | 1 | 0 | 0 | 0 | 1 | 0 | 0 | 0 | 1 | 0 | 15.0 |  2.2500 |  3.375000 |   5.06250000 |  120 |  1 | 6870 |\n",
       "| 12.019231 | 2.486508 | 1 | 0 | 0 | 1 | 0 | 0 | 0 | 0 | 1 | 0 |  9.5 |  0.9025 |  0.857375 |   0.81450625 | 4760 | 16 | 4890 |\n",
       "| 24.038462 | 3.179655 | 1 | 0 | 1 | 0 | 0 | 0 | 0 | 0 | 1 | 0 |  7.0 |  0.4900 |  0.343000 |   0.24010000 |  120 |  1 | 6890 |\n",
       "| 22.596154 | 3.117780 | 1 | 0 | 0 | 1 | 0 | 0 | 0 | 0 | 1 | 0 | 11.5 |  1.3225 |  1.520875 |   1.74900625 | 5240 | 17 | 6690 |\n",
       "|  7.211538 | 1.975682 | 1 | 0 | 0 | 0 | 0 | 1 | 0 | 0 | 1 | 0 |  2.0 |  0.0400 |  0.008000 |   0.00160000 | 2200 |  8 | 7870 |\n",
       "| 18.750000 | 2.931194 | 1 | 0 | 0 | 1 | 0 | 0 | 0 | 0 | 1 | 0 | 19.0 |  3.6100 |  6.859000 |  13.03210000 | 3649 | 11 | 8190 |\n",
       "| 29.914530 | 3.398344 | 1 | 0 | 0 | 0 | 1 | 0 | 0 | 0 | 1 | 0 | 39.0 | 15.2100 | 59.319000 | 231.34410000 | 4700 | 16 | 5380 |\n",
       "| 11.298077 | 2.424633 | 1 | 0 | 0 | 0 | 1 | 0 | 0 | 0 | 1 | 0 | 10.0 |  1.0000 |  1.000000 |   1.00000000 | 2060 |  6 | 9160 |\n",
       "| 16.025641 | 2.774190 | 1 | 0 | 0 | 1 | 0 | 0 | 0 | 0 | 1 | 0 | 11.0 |  1.2100 |  1.331000 |   1.46410000 | 4720 | 16 | 5080 |\n",
       "| 16.826923 | 2.822980 | 1 | 0 | 0 | 0 | 1 | 0 | 0 | 0 | 1 | 0 |  4.0 |  0.1600 |  0.064000 |   0.02560000 | 3648 | 11 | 7480 |\n",
       "| 15.865385 | 2.764140 | 1 | 0 | 0 | 0 | 0 | 1 | 0 | 0 | 1 | 0 |  0.0 |  0.0000 |  0.000000 |   0.00000000 | 3230 | 10 | 8180 |\n",
       "| 18.750000 | 2.931194 | 1 | 0 | 0 | 0 | 1 | 0 | 0 | 0 | 1 | 0 |  2.0 |  0.0400 |  0.008000 |   0.00160000 | 2000 |  6 | 8370 |\n",
       "| 20.913462 | 3.040393 | 1 | 0 | 0 | 1 | 0 | 0 | 0 | 0 | 1 | 0 |  4.5 |  0.2025 |  0.091125 |   0.04100625 | 4600 | 15 | 8470 |\n",
       "| 15.697863 | 2.753525 | 1 | 0 | 1 | 0 | 0 | 0 | 0 | 0 | 1 | 0 | 40.0 | 16.0000 | 64.000000 | 256.00000000 | 4850 | 16 | 4470 |\n",
       "| 12.237762 | 2.504526 | 1 | 0 | 0 | 0 | 0 | 1 | 0 | 0 | 1 | 0 |  6.0 |  0.3600 |  0.216000 |   0.12960000 | 3820 | 12 | 9590 |\n",
       "| 13.986014 | 2.638058 | 1 | 0 | 0 | 0 | 0 | 1 | 0 | 0 | 1 | 0 |  7.0 |  0.4900 |  0.343000 |   0.24010000 | 3820 | 12 | 9590 |\n",
       "| 38.461538 | 3.649659 | 1 | 0 | 0 | 1 | 0 | 0 | 0 | 0 | 1 | 0 |  7.5 |  0.5625 |  0.421875 |   0.31640625 |  220 |  1 |  770 |\n",
       "| 24.475524 | 3.197674 | 1 | 0 | 0 | 0 | 0 | 1 | 0 | 0 | 1 | 0 | 24.0 |  5.7600 | 13.824000 |  33.17760000 | 2310 |  8 | 7860 |\n",
       "|  8.653846 | 2.158004 | 1 | 0 | 1 | 0 | 0 | 0 | 0 | 0 | 1 | 0 | 25.0 |  6.2500 | 15.625000 |  39.06250000 | 3930 | 12 | 7680 |\n",
       "| 12.500000 | 2.525729 | 1 | 0 | 1 | 0 | 0 | 0 | 0 | 0 | 1 | 0 | 12.0 |  1.4400 |  1.728000 |   2.07360000 | 4010 | 13 | 8680 |\n",
       "| 48.076923 | 3.872802 | 1 | 0 | 0 | 0 | 1 | 0 | 0 | 0 | 1 | 0 | 25.0 |  6.2500 | 15.625000 |  39.06250000 | 3255 | 10 | 8170 |\n",
       "| 26.442308 | 3.274965 | 1 | 0 | 0 | 0 | 1 | 0 | 0 | 0 | 1 | 0 | 34.0 | 11.5600 | 39.304000 | 133.63360000 | 2310 |  8 | 7860 |\n",
       "| 13.461538 | 2.599837 | 1 | 0 | 1 | 0 | 0 | 0 | 0 | 0 | 1 | 0 |  8.0 |  0.6400 |  0.512000 |   0.40960000 | 4720 | 16 | 8590 |\n",
       "| 19.711538 | 2.981204 | 1 | 0 | 0 | 0 | 0 | 1 | 0 | 0 | 1 | 0 |  8.0 |  0.6400 |  0.512000 |   0.40960000 | 2000 |  6 | 8090 |\n",
       "| 45.546559 | 3.818735 | 1 | 0 | 0 | 0 | 1 | 0 | 0 | 0 | 1 | 0 |  5.0 |  0.2500 |  0.125000 |   0.06250000 | 3255 | 10 | 8190 |\n",
       "| 24.038462 | 3.179655 | 1 | 0 | 0 | 0 | 1 | 0 | 0 | 0 | 1 | 0 | 17.0 |  2.8900 |  4.913000 |   8.35210000 | 2550 |  8 | 9480 |\n",
       "| 23.076923 | 3.138833 | 1 | 0 | 0 | 1 | 0 | 0 | 0 | 0 | 1 | 0 | 12.0 |  1.4400 |  1.728000 |   2.07360000 | 4110 | 13 | 8680 |\n",
       "\n"
      ],
      "text/plain": [
       "     salario   lwage    sex shs hsg scl clg ad mw so we ne exp1 exp2   \n",
       "1     9.615385 2.263364 1   0   0   0   1   0  0  0  0  1   7.0  0.4900\n",
       "2    13.942308 2.634928 1   0   0   0   0   1  0  0  0  1  25.0  6.2500\n",
       "3    28.846154 3.361977 1   0   0   0   1   0  0  0  0  1  22.0  4.8400\n",
       "4    11.730769 2.462215 1   0   0   0   1   0  0  0  0  1   1.0  0.0100\n",
       "5    19.230769 2.956512 1   0   1   0   0   0  0  0  0  1  42.0 17.6400\n",
       "6    12.000000 2.484907 1   0   1   0   0   0  0  0  0  1  31.0  9.6100\n",
       "7    19.230769 2.956512 1   0   0   0   1   0  0  0  0  1   4.0  0.1600\n",
       "8    17.307692 2.851151 1   0   1   0   0   0  0  0  0  1   7.0  0.4900\n",
       "9    12.019231 2.486508 1   0   0   1   0   0  0  0  0  1   5.5  0.3025\n",
       "10   13.461538 2.599837 1   0   0   1   0   0  0  0  0  1  20.5  4.2025\n",
       "11   16.346154 2.793993 1   0   0   0   1   0  0  0  0  1  25.0  6.2500\n",
       "12   10.683761 2.368725 1   0   0   1   0   0  0  0  0  1   6.5  0.4225\n",
       "13   11.538462 2.445686 1   0   0   1   0   0  0  0  0  1   8.5  0.7225\n",
       "14   17.788462 2.878550 1   0   0   0   0   1  0  0  0  1  11.0  1.2100\n",
       "15   16.304348 2.791432 1   0   0   1   0   0  0  0  0  1  24.5  6.0025\n",
       "16   14.423077 2.668829 1   0   1   0   0   0  0  0  0  1   5.0  0.2500\n",
       "17   42.307692 3.744969 1   0   0   0   0   1  0  0  0  1   0.0  0.0000\n",
       "18   13.942308 2.634928 1   0   0   1   0   0  0  0  0  1  15.5  2.4025\n",
       "19   10.096154 2.312155 1   0   0   1   0   0  0  0  0  1   9.0  0.8100\n",
       "20   14.053254 2.642854 1   0   0   0   0   1  0  0  0  1  14.0  1.9600\n",
       "21   11.965812 2.482054 1   0   1   0   0   0  0  0  0  1  14.0  1.9600\n",
       "22   24.038462 3.179655 1   0   0   0   1   0  0  0  0  1  31.0  9.6100\n",
       "23   41.208791 3.718652 1   0   0   0   1   0  0  0  0  1  11.0  1.2100\n",
       "24   21.634615 3.074295 1   0   0   1   0   0  0  0  0  1  17.5  3.0625\n",
       "25    6.730769 1.906689 1   0   1   0   0   0  0  0  0  1  15.0  2.2500\n",
       "26   12.019231 2.486508 1   0   0   1   0   0  0  0  0  1   6.5  0.4225\n",
       "27    7.211538 1.975682 1   0   0   1   0   0  0  0  0  1  17.5  3.0625\n",
       "28   11.778846 2.466305 1   0   0   0   1   0  0  0  0  1   7.0  0.4900\n",
       "29   13.076923 2.570849 1   0   0   0   1   0  0  0  0  1  10.0  1.0000\n",
       "30   22.500000 3.113515 1   0   0   0   0   1  0  0  0  1  35.0 12.2500\n",
       "⋮    ⋮         ⋮        ⋮   ⋮   ⋮   ⋮   ⋮   ⋮  ⋮  ⋮  ⋮  ⋮  ⋮    ⋮      \n",
       "2260 48.076923 3.872802 1   0   0   0   0   1  0  0  1  0   0.0  0.0000\n",
       "2261 20.673077 3.028832 1   0   0   0   1   0  0  0  1  0   6.0  0.3600\n",
       "2262  8.894231 2.185403 1   0   1   0   0   0  0  0  1  0   5.0  0.2500\n",
       "2263 30.145530 3.406037 1   0   0   0   1   0  0  0  1  0  15.0  2.2500\n",
       "2264 12.019231 2.486508 1   0   0   1   0   0  0  0  1  0   9.5  0.9025\n",
       "2265 24.038462 3.179655 1   0   1   0   0   0  0  0  1  0   7.0  0.4900\n",
       "2266 22.596154 3.117780 1   0   0   1   0   0  0  0  1  0  11.5  1.3225\n",
       "2267  7.211538 1.975682 1   0   0   0   0   1  0  0  1  0   2.0  0.0400\n",
       "2268 18.750000 2.931194 1   0   0   1   0   0  0  0  1  0  19.0  3.6100\n",
       "2269 29.914530 3.398344 1   0   0   0   1   0  0  0  1  0  39.0 15.2100\n",
       "2270 11.298077 2.424633 1   0   0   0   1   0  0  0  1  0  10.0  1.0000\n",
       "2271 16.025641 2.774190 1   0   0   1   0   0  0  0  1  0  11.0  1.2100\n",
       "2272 16.826923 2.822980 1   0   0   0   1   0  0  0  1  0   4.0  0.1600\n",
       "2273 15.865385 2.764140 1   0   0   0   0   1  0  0  1  0   0.0  0.0000\n",
       "2274 18.750000 2.931194 1   0   0   0   1   0  0  0  1  0   2.0  0.0400\n",
       "2275 20.913462 3.040393 1   0   0   1   0   0  0  0  1  0   4.5  0.2025\n",
       "2276 15.697863 2.753525 1   0   1   0   0   0  0  0  1  0  40.0 16.0000\n",
       "2277 12.237762 2.504526 1   0   0   0   0   1  0  0  1  0   6.0  0.3600\n",
       "2278 13.986014 2.638058 1   0   0   0   0   1  0  0  1  0   7.0  0.4900\n",
       "2279 38.461538 3.649659 1   0   0   1   0   0  0  0  1  0   7.5  0.5625\n",
       "2280 24.475524 3.197674 1   0   0   0   0   1  0  0  1  0  24.0  5.7600\n",
       "2281  8.653846 2.158004 1   0   1   0   0   0  0  0  1  0  25.0  6.2500\n",
       "2282 12.500000 2.525729 1   0   1   0   0   0  0  0  1  0  12.0  1.4400\n",
       "2283 48.076923 3.872802 1   0   0   0   1   0  0  0  1  0  25.0  6.2500\n",
       "2284 26.442308 3.274965 1   0   0   0   1   0  0  0  1  0  34.0 11.5600\n",
       "2285 13.461538 2.599837 1   0   1   0   0   0  0  0  1  0   8.0  0.6400\n",
       "2286 19.711538 2.981204 1   0   0   0   0   1  0  0  1  0   8.0  0.6400\n",
       "2287 45.546559 3.818735 1   0   0   0   1   0  0  0  1  0   5.0  0.2500\n",
       "2288 24.038462 3.179655 1   0   0   0   1   0  0  0  1  0  17.0  2.8900\n",
       "2289 23.076923 3.138833 1   0   0   1   0   0  0  0  1  0  12.0  1.4400\n",
       "     exp3      exp4         occ  occ2 ind \n",
       "1     0.343000   0.24010000 3600 11   8370\n",
       "2    15.625000  39.06250000  420  1   6990\n",
       "3    10.648000  23.42560000 2015  6   9470\n",
       "4     0.001000   0.00010000 1650  5   7460\n",
       "5    74.088000 311.16960000 5120 17   7280\n",
       "6    29.791000  92.35210000 4040 13   8590\n",
       "7     0.064000   0.02560000 3255 10   8190\n",
       "8     0.343000   0.24010000 4020 13   8270\n",
       "9     0.166375   0.09150625 3600 11   8270\n",
       "10    8.615125  17.66100625 3645 11   8190\n",
       "11   15.625000  39.06250000  110  1   7870\n",
       "12    0.274625   0.17850625 4300 15   8590\n",
       "13    0.614125   0.52200625 3600 11   8190\n",
       "14    1.331000   1.46410000 2310  8   7860\n",
       "15   14.706125  36.03000625   20  1   5480\n",
       "16    0.125000   0.06250000  430  1   7390\n",
       "17    0.000000   0.00000000 4700 16   4795\n",
       "18    3.723875   5.77200625 5860 17   4670\n",
       "19    0.729000   0.65610000 3500 10   8090\n",
       "20    2.744000   3.84160000 2330  8   7860\n",
       "21    2.744000   3.84160000  430  1   2980\n",
       "22   29.791000  92.35210000 2630  9   4870\n",
       "23    1.331000   1.46410000 4700 16   5790\n",
       "24    5.359375   9.37890625 5400 17   6695\n",
       "25    3.375000   5.06250000 3600 11   8270\n",
       "26    0.274625   0.17850625 4110 13   8680\n",
       "27    5.359375   9.37890625 4720 16   4980\n",
       "28    0.343000   0.24010000 5860 17   6870\n",
       "29    1.000000   1.00000000  725  2   8590\n",
       "30   42.875000 150.06250000 2310  8   7860\n",
       "⋮    ⋮         ⋮            ⋮    ⋮    ⋮   \n",
       "2260  0.000000   0.00000000 3050 10   8090\n",
       "2261  0.216000   0.12960000 5000 17   6870\n",
       "2262  0.125000   0.06250000 4720 16   8680\n",
       "2263  3.375000   5.06250000  120  1   6870\n",
       "2264  0.857375   0.81450625 4760 16   4890\n",
       "2265  0.343000   0.24010000  120  1   6890\n",
       "2266  1.520875   1.74900625 5240 17   6690\n",
       "2267  0.008000   0.00160000 2200  8   7870\n",
       "2268  6.859000  13.03210000 3649 11   8190\n",
       "2269 59.319000 231.34410000 4700 16   5380\n",
       "2270  1.000000   1.00000000 2060  6   9160\n",
       "2271  1.331000   1.46410000 4720 16   5080\n",
       "2272  0.064000   0.02560000 3648 11   7480\n",
       "2273  0.000000   0.00000000 3230 10   8180\n",
       "2274  0.008000   0.00160000 2000  6   8370\n",
       "2275  0.091125   0.04100625 4600 15   8470\n",
       "2276 64.000000 256.00000000 4850 16   4470\n",
       "2277  0.216000   0.12960000 3820 12   9590\n",
       "2278  0.343000   0.24010000 3820 12   9590\n",
       "2279  0.421875   0.31640625  220  1    770\n",
       "2280 13.824000  33.17760000 2310  8   7860\n",
       "2281 15.625000  39.06250000 3930 12   7680\n",
       "2282  1.728000   2.07360000 4010 13   8680\n",
       "2283 15.625000  39.06250000 3255 10   8170\n",
       "2284 39.304000 133.63360000 2310  8   7860\n",
       "2285  0.512000   0.40960000 4720 16   8590\n",
       "2286  0.512000   0.40960000 2000  6   8090\n",
       "2287  0.125000   0.06250000 3255 10   8190\n",
       "2288  4.913000   8.35210000 2550  8   9480\n",
       "2289  1.728000   2.07360000 4110 13   8680"
      ]
     },
     "metadata": {},
     "output_type": "display_data"
    }
   ],
   "source": [
    "base1 %>% filter(sex == 1)"
   ]
  },
  {
   "cell_type": "code",
   "execution_count": 79,
   "metadata": {},
   "outputs": [
    {
     "data": {
      "text/html": [
       "<table class=\"dataframe\">\n",
       "<caption>A data.frame: 6 × 19</caption>\n",
       "<thead>\n",
       "\t<tr><th></th><th scope=col>salario</th><th scope=col>lwage</th><th scope=col>sex</th><th scope=col>shs</th><th scope=col>hsg</th><th scope=col>scl</th><th scope=col>clg</th><th scope=col>ad</th><th scope=col>mw</th><th scope=col>so</th><th scope=col>we</th><th scope=col>ne</th><th scope=col>exp1</th><th scope=col>exp2</th><th scope=col>exp3</th><th scope=col>exp4</th><th scope=col>occ</th><th scope=col>occ2</th><th scope=col>ind</th></tr>\n",
       "\t<tr><th></th><th scope=col>&lt;dbl&gt;</th><th scope=col>&lt;dbl&gt;</th><th scope=col>&lt;int&gt;</th><th scope=col>&lt;int&gt;</th><th scope=col>&lt;int&gt;</th><th scope=col>&lt;int&gt;</th><th scope=col>&lt;int&gt;</th><th scope=col>&lt;int&gt;</th><th scope=col>&lt;int&gt;</th><th scope=col>&lt;int&gt;</th><th scope=col>&lt;int&gt;</th><th scope=col>&lt;int&gt;</th><th scope=col>&lt;dbl&gt;</th><th scope=col>&lt;dbl&gt;</th><th scope=col>&lt;dbl&gt;</th><th scope=col>&lt;dbl&gt;</th><th scope=col>&lt;dbl&gt;</th><th scope=col>&lt;int&gt;</th><th scope=col>&lt;dbl&gt;</th></tr>\n",
       "</thead>\n",
       "<tbody>\n",
       "\t<tr><th scope=row>1</th><td>48.07692</td><td>3.872802</td><td>0</td><td>0</td><td>0</td><td>0</td><td>1</td><td>0</td><td>0</td><td>0</td><td>0</td><td>1</td><td>31</td><td> 9.61</td><td>29.791</td><td> 92.3521</td><td>3050</td><td>10</td><td>5070</td></tr>\n",
       "\t<tr><th scope=row>2</th><td>11.05769</td><td>2.403126</td><td>0</td><td>0</td><td>1</td><td>0</td><td>0</td><td>0</td><td>0</td><td>0</td><td>0</td><td>1</td><td>18</td><td> 3.24</td><td> 5.832</td><td> 10.4976</td><td>6260</td><td>19</td><td> 770</td></tr>\n",
       "\t<tr><th scope=row>3</th><td>13.94231</td><td>2.634928</td><td>1</td><td>0</td><td>0</td><td>0</td><td>0</td><td>1</td><td>0</td><td>0</td><td>0</td><td>1</td><td>25</td><td> 6.25</td><td>15.625</td><td> 39.0625</td><td> 420</td><td> 1</td><td>6990</td></tr>\n",
       "\t<tr><th scope=row>4</th><td>28.84615</td><td>3.361977</td><td>1</td><td>0</td><td>0</td><td>0</td><td>1</td><td>0</td><td>0</td><td>0</td><td>0</td><td>1</td><td>22</td><td> 4.84</td><td>10.648</td><td> 23.4256</td><td>2015</td><td> 6</td><td>9470</td></tr>\n",
       "\t<tr><th scope=row>5</th><td>19.23077</td><td>2.956512</td><td>1</td><td>0</td><td>1</td><td>0</td><td>0</td><td>0</td><td>0</td><td>0</td><td>0</td><td>1</td><td>42</td><td>17.64</td><td>74.088</td><td>311.1696</td><td>5120</td><td>17</td><td>7280</td></tr>\n",
       "\t<tr><th scope=row>6</th><td>19.23077</td><td>2.956512</td><td>0</td><td>0</td><td>1</td><td>0</td><td>0</td><td>0</td><td>0</td><td>0</td><td>0</td><td>1</td><td>37</td><td>13.69</td><td>50.653</td><td>187.4161</td><td>5240</td><td>17</td><td>5680</td></tr>\n",
       "</tbody>\n",
       "</table>\n"
      ],
      "text/latex": [
       "A data.frame: 6 × 19\n",
       "\\begin{tabular}{r|lllllllllllllllllll}\n",
       "  & salario & lwage & sex & shs & hsg & scl & clg & ad & mw & so & we & ne & exp1 & exp2 & exp3 & exp4 & occ & occ2 & ind\\\\\n",
       "  & <dbl> & <dbl> & <int> & <int> & <int> & <int> & <int> & <int> & <int> & <int> & <int> & <int> & <dbl> & <dbl> & <dbl> & <dbl> & <dbl> & <int> & <dbl>\\\\\n",
       "\\hline\n",
       "\t1 & 48.07692 & 3.872802 & 0 & 0 & 0 & 0 & 1 & 0 & 0 & 0 & 0 & 1 & 31 &  9.61 & 29.791 &  92.3521 & 3050 & 10 & 5070\\\\\n",
       "\t2 & 11.05769 & 2.403126 & 0 & 0 & 1 & 0 & 0 & 0 & 0 & 0 & 0 & 1 & 18 &  3.24 &  5.832 &  10.4976 & 6260 & 19 &  770\\\\\n",
       "\t3 & 13.94231 & 2.634928 & 1 & 0 & 0 & 0 & 0 & 1 & 0 & 0 & 0 & 1 & 25 &  6.25 & 15.625 &  39.0625 &  420 &  1 & 6990\\\\\n",
       "\t4 & 28.84615 & 3.361977 & 1 & 0 & 0 & 0 & 1 & 0 & 0 & 0 & 0 & 1 & 22 &  4.84 & 10.648 &  23.4256 & 2015 &  6 & 9470\\\\\n",
       "\t5 & 19.23077 & 2.956512 & 1 & 0 & 1 & 0 & 0 & 0 & 0 & 0 & 0 & 1 & 42 & 17.64 & 74.088 & 311.1696 & 5120 & 17 & 7280\\\\\n",
       "\t6 & 19.23077 & 2.956512 & 0 & 0 & 1 & 0 & 0 & 0 & 0 & 0 & 0 & 1 & 37 & 13.69 & 50.653 & 187.4161 & 5240 & 17 & 5680\\\\\n",
       "\\end{tabular}\n"
      ],
      "text/markdown": [
       "\n",
       "A data.frame: 6 × 19\n",
       "\n",
       "| <!--/--> | salario &lt;dbl&gt; | lwage &lt;dbl&gt; | sex &lt;int&gt; | shs &lt;int&gt; | hsg &lt;int&gt; | scl &lt;int&gt; | clg &lt;int&gt; | ad &lt;int&gt; | mw &lt;int&gt; | so &lt;int&gt; | we &lt;int&gt; | ne &lt;int&gt; | exp1 &lt;dbl&gt; | exp2 &lt;dbl&gt; | exp3 &lt;dbl&gt; | exp4 &lt;dbl&gt; | occ &lt;dbl&gt; | occ2 &lt;int&gt; | ind &lt;dbl&gt; |\n",
       "|---|---|---|---|---|---|---|---|---|---|---|---|---|---|---|---|---|---|---|---|\n",
       "| 1 | 48.07692 | 3.872802 | 0 | 0 | 0 | 0 | 1 | 0 | 0 | 0 | 0 | 1 | 31 |  9.61 | 29.791 |  92.3521 | 3050 | 10 | 5070 |\n",
       "| 2 | 11.05769 | 2.403126 | 0 | 0 | 1 | 0 | 0 | 0 | 0 | 0 | 0 | 1 | 18 |  3.24 |  5.832 |  10.4976 | 6260 | 19 |  770 |\n",
       "| 3 | 13.94231 | 2.634928 | 1 | 0 | 0 | 0 | 0 | 1 | 0 | 0 | 0 | 1 | 25 |  6.25 | 15.625 |  39.0625 |  420 |  1 | 6990 |\n",
       "| 4 | 28.84615 | 3.361977 | 1 | 0 | 0 | 0 | 1 | 0 | 0 | 0 | 0 | 1 | 22 |  4.84 | 10.648 |  23.4256 | 2015 |  6 | 9470 |\n",
       "| 5 | 19.23077 | 2.956512 | 1 | 0 | 1 | 0 | 0 | 0 | 0 | 0 | 0 | 1 | 42 | 17.64 | 74.088 | 311.1696 | 5120 | 17 | 7280 |\n",
       "| 6 | 19.23077 | 2.956512 | 0 | 0 | 1 | 0 | 0 | 0 | 0 | 0 | 0 | 1 | 37 | 13.69 | 50.653 | 187.4161 | 5240 | 17 | 5680 |\n",
       "\n"
      ],
      "text/plain": [
       "  salario  lwage    sex shs hsg scl clg ad mw so we ne exp1 exp2  exp3  \n",
       "1 48.07692 3.872802 0   0   0   0   1   0  0  0  0  1  31    9.61 29.791\n",
       "2 11.05769 2.403126 0   0   1   0   0   0  0  0  0  1  18    3.24  5.832\n",
       "3 13.94231 2.634928 1   0   0   0   0   1  0  0  0  1  25    6.25 15.625\n",
       "4 28.84615 3.361977 1   0   0   0   1   0  0  0  0  1  22    4.84 10.648\n",
       "5 19.23077 2.956512 1   0   1   0   0   0  0  0  0  1  42   17.64 74.088\n",
       "6 19.23077 2.956512 0   0   1   0   0   0  0  0  0  1  37   13.69 50.653\n",
       "  exp4     occ  occ2 ind \n",
       "1  92.3521 3050 10   5070\n",
       "2  10.4976 6260 19    770\n",
       "3  39.0625  420  1   6990\n",
       "4  23.4256 2015  6   9470\n",
       "5 311.1696 5120 17   7280\n",
       "6 187.4161 5240 17   5680"
      ]
     },
     "metadata": {},
     "output_type": "display_data"
    }
   ],
   "source": [
    "head(base1 %>% filter(exp1 > 10))"
   ]
  },
  {
   "cell_type": "code",
   "execution_count": 80,
   "metadata": {
    "scrolled": false
   },
   "outputs": [
    {
     "data": {
      "text/html": [
       "<table class=\"dataframe\">\n",
       "<caption>A data.frame: 6 × 19</caption>\n",
       "<thead>\n",
       "\t<tr><th></th><th scope=col>salario</th><th scope=col>lwage</th><th scope=col>sex</th><th scope=col>shs</th><th scope=col>hsg</th><th scope=col>scl</th><th scope=col>clg</th><th scope=col>ad</th><th scope=col>mw</th><th scope=col>so</th><th scope=col>we</th><th scope=col>ne</th><th scope=col>exp1</th><th scope=col>exp2</th><th scope=col>exp3</th><th scope=col>exp4</th><th scope=col>occ</th><th scope=col>occ2</th><th scope=col>ind</th></tr>\n",
       "\t<tr><th></th><th scope=col>&lt;dbl&gt;</th><th scope=col>&lt;dbl&gt;</th><th scope=col>&lt;int&gt;</th><th scope=col>&lt;int&gt;</th><th scope=col>&lt;int&gt;</th><th scope=col>&lt;int&gt;</th><th scope=col>&lt;int&gt;</th><th scope=col>&lt;int&gt;</th><th scope=col>&lt;int&gt;</th><th scope=col>&lt;int&gt;</th><th scope=col>&lt;int&gt;</th><th scope=col>&lt;int&gt;</th><th scope=col>&lt;dbl&gt;</th><th scope=col>&lt;dbl&gt;</th><th scope=col>&lt;dbl&gt;</th><th scope=col>&lt;dbl&gt;</th><th scope=col>&lt;dbl&gt;</th><th scope=col>&lt;int&gt;</th><th scope=col>&lt;dbl&gt;</th></tr>\n",
       "</thead>\n",
       "<tbody>\n",
       "\t<tr><th scope=row>1</th><td>13.94231</td><td>2.634928</td><td>1</td><td>0</td><td>0</td><td>0</td><td>0</td><td>1</td><td>0</td><td>0</td><td>0</td><td>1</td><td>25.0</td><td> 6.2500</td><td>15.625000</td><td> 39.06250</td><td> 420</td><td> 1</td><td>6990</td></tr>\n",
       "\t<tr><th scope=row>2</th><td>28.84615</td><td>3.361977</td><td>1</td><td>0</td><td>0</td><td>0</td><td>1</td><td>0</td><td>0</td><td>0</td><td>0</td><td>1</td><td>22.0</td><td> 4.8400</td><td>10.648000</td><td> 23.42560</td><td>2015</td><td> 6</td><td>9470</td></tr>\n",
       "\t<tr><th scope=row>3</th><td>19.23077</td><td>2.956512</td><td>1</td><td>0</td><td>1</td><td>0</td><td>0</td><td>0</td><td>0</td><td>0</td><td>0</td><td>1</td><td>42.0</td><td>17.6400</td><td>74.088000</td><td>311.16960</td><td>5120</td><td>17</td><td>7280</td></tr>\n",
       "\t<tr><th scope=row>4</th><td>12.00000</td><td>2.484907</td><td>1</td><td>0</td><td>1</td><td>0</td><td>0</td><td>0</td><td>0</td><td>0</td><td>0</td><td>1</td><td>31.0</td><td> 9.6100</td><td>29.791000</td><td> 92.35210</td><td>4040</td><td>13</td><td>8590</td></tr>\n",
       "\t<tr><th scope=row>5</th><td>13.46154</td><td>2.599837</td><td>1</td><td>0</td><td>0</td><td>1</td><td>0</td><td>0</td><td>0</td><td>0</td><td>0</td><td>1</td><td>20.5</td><td> 4.2025</td><td> 8.615125</td><td> 17.66101</td><td>3645</td><td>11</td><td>8190</td></tr>\n",
       "\t<tr><th scope=row>6</th><td>16.34615</td><td>2.793993</td><td>1</td><td>0</td><td>0</td><td>0</td><td>1</td><td>0</td><td>0</td><td>0</td><td>0</td><td>1</td><td>25.0</td><td> 6.2500</td><td>15.625000</td><td> 39.06250</td><td> 110</td><td> 1</td><td>7870</td></tr>\n",
       "</tbody>\n",
       "</table>\n"
      ],
      "text/latex": [
       "A data.frame: 6 × 19\n",
       "\\begin{tabular}{r|lllllllllllllllllll}\n",
       "  & salario & lwage & sex & shs & hsg & scl & clg & ad & mw & so & we & ne & exp1 & exp2 & exp3 & exp4 & occ & occ2 & ind\\\\\n",
       "  & <dbl> & <dbl> & <int> & <int> & <int> & <int> & <int> & <int> & <int> & <int> & <int> & <int> & <dbl> & <dbl> & <dbl> & <dbl> & <dbl> & <int> & <dbl>\\\\\n",
       "\\hline\n",
       "\t1 & 13.94231 & 2.634928 & 1 & 0 & 0 & 0 & 0 & 1 & 0 & 0 & 0 & 1 & 25.0 &  6.2500 & 15.625000 &  39.06250 &  420 &  1 & 6990\\\\\n",
       "\t2 & 28.84615 & 3.361977 & 1 & 0 & 0 & 0 & 1 & 0 & 0 & 0 & 0 & 1 & 22.0 &  4.8400 & 10.648000 &  23.42560 & 2015 &  6 & 9470\\\\\n",
       "\t3 & 19.23077 & 2.956512 & 1 & 0 & 1 & 0 & 0 & 0 & 0 & 0 & 0 & 1 & 42.0 & 17.6400 & 74.088000 & 311.16960 & 5120 & 17 & 7280\\\\\n",
       "\t4 & 12.00000 & 2.484907 & 1 & 0 & 1 & 0 & 0 & 0 & 0 & 0 & 0 & 1 & 31.0 &  9.6100 & 29.791000 &  92.35210 & 4040 & 13 & 8590\\\\\n",
       "\t5 & 13.46154 & 2.599837 & 1 & 0 & 0 & 1 & 0 & 0 & 0 & 0 & 0 & 1 & 20.5 &  4.2025 &  8.615125 &  17.66101 & 3645 & 11 & 8190\\\\\n",
       "\t6 & 16.34615 & 2.793993 & 1 & 0 & 0 & 0 & 1 & 0 & 0 & 0 & 0 & 1 & 25.0 &  6.2500 & 15.625000 &  39.06250 &  110 &  1 & 7870\\\\\n",
       "\\end{tabular}\n"
      ],
      "text/markdown": [
       "\n",
       "A data.frame: 6 × 19\n",
       "\n",
       "| <!--/--> | salario &lt;dbl&gt; | lwage &lt;dbl&gt; | sex &lt;int&gt; | shs &lt;int&gt; | hsg &lt;int&gt; | scl &lt;int&gt; | clg &lt;int&gt; | ad &lt;int&gt; | mw &lt;int&gt; | so &lt;int&gt; | we &lt;int&gt; | ne &lt;int&gt; | exp1 &lt;dbl&gt; | exp2 &lt;dbl&gt; | exp3 &lt;dbl&gt; | exp4 &lt;dbl&gt; | occ &lt;dbl&gt; | occ2 &lt;int&gt; | ind &lt;dbl&gt; |\n",
       "|---|---|---|---|---|---|---|---|---|---|---|---|---|---|---|---|---|---|---|---|\n",
       "| 1 | 13.94231 | 2.634928 | 1 | 0 | 0 | 0 | 0 | 1 | 0 | 0 | 0 | 1 | 25.0 |  6.2500 | 15.625000 |  39.06250 |  420 |  1 | 6990 |\n",
       "| 2 | 28.84615 | 3.361977 | 1 | 0 | 0 | 0 | 1 | 0 | 0 | 0 | 0 | 1 | 22.0 |  4.8400 | 10.648000 |  23.42560 | 2015 |  6 | 9470 |\n",
       "| 3 | 19.23077 | 2.956512 | 1 | 0 | 1 | 0 | 0 | 0 | 0 | 0 | 0 | 1 | 42.0 | 17.6400 | 74.088000 | 311.16960 | 5120 | 17 | 7280 |\n",
       "| 4 | 12.00000 | 2.484907 | 1 | 0 | 1 | 0 | 0 | 0 | 0 | 0 | 0 | 1 | 31.0 |  9.6100 | 29.791000 |  92.35210 | 4040 | 13 | 8590 |\n",
       "| 5 | 13.46154 | 2.599837 | 1 | 0 | 0 | 1 | 0 | 0 | 0 | 0 | 0 | 1 | 20.5 |  4.2025 |  8.615125 |  17.66101 | 3645 | 11 | 8190 |\n",
       "| 6 | 16.34615 | 2.793993 | 1 | 0 | 0 | 0 | 1 | 0 | 0 | 0 | 0 | 1 | 25.0 |  6.2500 | 15.625000 |  39.06250 |  110 |  1 | 7870 |\n",
       "\n"
      ],
      "text/plain": [
       "  salario  lwage    sex shs hsg scl clg ad mw so we ne exp1 exp2    exp3     \n",
       "1 13.94231 2.634928 1   0   0   0   0   1  0  0  0  1  25.0  6.2500 15.625000\n",
       "2 28.84615 3.361977 1   0   0   0   1   0  0  0  0  1  22.0  4.8400 10.648000\n",
       "3 19.23077 2.956512 1   0   1   0   0   0  0  0  0  1  42.0 17.6400 74.088000\n",
       "4 12.00000 2.484907 1   0   1   0   0   0  0  0  0  1  31.0  9.6100 29.791000\n",
       "5 13.46154 2.599837 1   0   0   1   0   0  0  0  0  1  20.5  4.2025  8.615125\n",
       "6 16.34615 2.793993 1   0   0   0   1   0  0  0  0  1  25.0  6.2500 15.625000\n",
       "  exp4      occ  occ2 ind \n",
       "1  39.06250  420  1   6990\n",
       "2  23.42560 2015  6   9470\n",
       "3 311.16960 5120 17   7280\n",
       "4  92.35210 4040 13   8590\n",
       "5  17.66101 3645 11   8190\n",
       "6  39.06250  110  1   7870"
      ]
     },
     "metadata": {},
     "output_type": "display_data"
    },
    {
     "data": {
      "text/html": [
       "<table class=\"dataframe\">\n",
       "<caption>A data.frame: 6 × 19</caption>\n",
       "<thead>\n",
       "\t<tr><th></th><th scope=col>salario</th><th scope=col>lwage</th><th scope=col>sex</th><th scope=col>shs</th><th scope=col>hsg</th><th scope=col>scl</th><th scope=col>clg</th><th scope=col>ad</th><th scope=col>mw</th><th scope=col>so</th><th scope=col>we</th><th scope=col>ne</th><th scope=col>exp1</th><th scope=col>exp2</th><th scope=col>exp3</th><th scope=col>exp4</th><th scope=col>occ</th><th scope=col>occ2</th><th scope=col>ind</th></tr>\n",
       "\t<tr><th></th><th scope=col>&lt;dbl&gt;</th><th scope=col>&lt;dbl&gt;</th><th scope=col>&lt;int&gt;</th><th scope=col>&lt;int&gt;</th><th scope=col>&lt;int&gt;</th><th scope=col>&lt;int&gt;</th><th scope=col>&lt;int&gt;</th><th scope=col>&lt;int&gt;</th><th scope=col>&lt;int&gt;</th><th scope=col>&lt;int&gt;</th><th scope=col>&lt;int&gt;</th><th scope=col>&lt;int&gt;</th><th scope=col>&lt;dbl&gt;</th><th scope=col>&lt;dbl&gt;</th><th scope=col>&lt;dbl&gt;</th><th scope=col>&lt;dbl&gt;</th><th scope=col>&lt;dbl&gt;</th><th scope=col>&lt;int&gt;</th><th scope=col>&lt;dbl&gt;</th></tr>\n",
       "</thead>\n",
       "<tbody>\n",
       "\t<tr><th scope=row>1</th><td> 9.615385</td><td>2.263364</td><td>1</td><td>0</td><td>0</td><td>0</td><td>1</td><td>0</td><td>0</td><td>0</td><td>0</td><td>1</td><td> 7</td><td>0.49</td><td> 0.343</td><td> 0.2401</td><td>3600</td><td>11</td><td>8370</td></tr>\n",
       "\t<tr><th scope=row>2</th><td>48.076923</td><td>3.872802</td><td>0</td><td>0</td><td>0</td><td>0</td><td>1</td><td>0</td><td>0</td><td>0</td><td>0</td><td>1</td><td>31</td><td>9.61</td><td>29.791</td><td>92.3521</td><td>3050</td><td>10</td><td>5070</td></tr>\n",
       "\t<tr><th scope=row>3</th><td>11.057692</td><td>2.403126</td><td>0</td><td>0</td><td>1</td><td>0</td><td>0</td><td>0</td><td>0</td><td>0</td><td>0</td><td>1</td><td>18</td><td>3.24</td><td> 5.832</td><td>10.4976</td><td>6260</td><td>19</td><td> 770</td></tr>\n",
       "\t<tr><th scope=row>4</th><td>13.942308</td><td>2.634928</td><td>1</td><td>0</td><td>0</td><td>0</td><td>0</td><td>1</td><td>0</td><td>0</td><td>0</td><td>1</td><td>25</td><td>6.25</td><td>15.625</td><td>39.0625</td><td> 420</td><td> 1</td><td>6990</td></tr>\n",
       "\t<tr><th scope=row>5</th><td>28.846154</td><td>3.361977</td><td>1</td><td>0</td><td>0</td><td>0</td><td>1</td><td>0</td><td>0</td><td>0</td><td>0</td><td>1</td><td>22</td><td>4.84</td><td>10.648</td><td>23.4256</td><td>2015</td><td> 6</td><td>9470</td></tr>\n",
       "\t<tr><th scope=row>6</th><td>11.730769</td><td>2.462215</td><td>1</td><td>0</td><td>0</td><td>0</td><td>1</td><td>0</td><td>0</td><td>0</td><td>0</td><td>1</td><td> 1</td><td>0.01</td><td> 0.001</td><td> 0.0001</td><td>1650</td><td> 5</td><td>7460</td></tr>\n",
       "</tbody>\n",
       "</table>\n"
      ],
      "text/latex": [
       "A data.frame: 6 × 19\n",
       "\\begin{tabular}{r|lllllllllllllllllll}\n",
       "  & salario & lwage & sex & shs & hsg & scl & clg & ad & mw & so & we & ne & exp1 & exp2 & exp3 & exp4 & occ & occ2 & ind\\\\\n",
       "  & <dbl> & <dbl> & <int> & <int> & <int> & <int> & <int> & <int> & <int> & <int> & <int> & <int> & <dbl> & <dbl> & <dbl> & <dbl> & <dbl> & <int> & <dbl>\\\\\n",
       "\\hline\n",
       "\t1 &  9.615385 & 2.263364 & 1 & 0 & 0 & 0 & 1 & 0 & 0 & 0 & 0 & 1 &  7 & 0.49 &  0.343 &  0.2401 & 3600 & 11 & 8370\\\\\n",
       "\t2 & 48.076923 & 3.872802 & 0 & 0 & 0 & 0 & 1 & 0 & 0 & 0 & 0 & 1 & 31 & 9.61 & 29.791 & 92.3521 & 3050 & 10 & 5070\\\\\n",
       "\t3 & 11.057692 & 2.403126 & 0 & 0 & 1 & 0 & 0 & 0 & 0 & 0 & 0 & 1 & 18 & 3.24 &  5.832 & 10.4976 & 6260 & 19 &  770\\\\\n",
       "\t4 & 13.942308 & 2.634928 & 1 & 0 & 0 & 0 & 0 & 1 & 0 & 0 & 0 & 1 & 25 & 6.25 & 15.625 & 39.0625 &  420 &  1 & 6990\\\\\n",
       "\t5 & 28.846154 & 3.361977 & 1 & 0 & 0 & 0 & 1 & 0 & 0 & 0 & 0 & 1 & 22 & 4.84 & 10.648 & 23.4256 & 2015 &  6 & 9470\\\\\n",
       "\t6 & 11.730769 & 2.462215 & 1 & 0 & 0 & 0 & 1 & 0 & 0 & 0 & 0 & 1 &  1 & 0.01 &  0.001 &  0.0001 & 1650 &  5 & 7460\\\\\n",
       "\\end{tabular}\n"
      ],
      "text/markdown": [
       "\n",
       "A data.frame: 6 × 19\n",
       "\n",
       "| <!--/--> | salario &lt;dbl&gt; | lwage &lt;dbl&gt; | sex &lt;int&gt; | shs &lt;int&gt; | hsg &lt;int&gt; | scl &lt;int&gt; | clg &lt;int&gt; | ad &lt;int&gt; | mw &lt;int&gt; | so &lt;int&gt; | we &lt;int&gt; | ne &lt;int&gt; | exp1 &lt;dbl&gt; | exp2 &lt;dbl&gt; | exp3 &lt;dbl&gt; | exp4 &lt;dbl&gt; | occ &lt;dbl&gt; | occ2 &lt;int&gt; | ind &lt;dbl&gt; |\n",
       "|---|---|---|---|---|---|---|---|---|---|---|---|---|---|---|---|---|---|---|---|\n",
       "| 1 |  9.615385 | 2.263364 | 1 | 0 | 0 | 0 | 1 | 0 | 0 | 0 | 0 | 1 |  7 | 0.49 |  0.343 |  0.2401 | 3600 | 11 | 8370 |\n",
       "| 2 | 48.076923 | 3.872802 | 0 | 0 | 0 | 0 | 1 | 0 | 0 | 0 | 0 | 1 | 31 | 9.61 | 29.791 | 92.3521 | 3050 | 10 | 5070 |\n",
       "| 3 | 11.057692 | 2.403126 | 0 | 0 | 1 | 0 | 0 | 0 | 0 | 0 | 0 | 1 | 18 | 3.24 |  5.832 | 10.4976 | 6260 | 19 |  770 |\n",
       "| 4 | 13.942308 | 2.634928 | 1 | 0 | 0 | 0 | 0 | 1 | 0 | 0 | 0 | 1 | 25 | 6.25 | 15.625 | 39.0625 |  420 |  1 | 6990 |\n",
       "| 5 | 28.846154 | 3.361977 | 1 | 0 | 0 | 0 | 1 | 0 | 0 | 0 | 0 | 1 | 22 | 4.84 | 10.648 | 23.4256 | 2015 |  6 | 9470 |\n",
       "| 6 | 11.730769 | 2.462215 | 1 | 0 | 0 | 0 | 1 | 0 | 0 | 0 | 0 | 1 |  1 | 0.01 |  0.001 |  0.0001 | 1650 |  5 | 7460 |\n",
       "\n"
      ],
      "text/plain": [
       "  salario   lwage    sex shs hsg scl clg ad mw so we ne exp1 exp2 exp3  \n",
       "1  9.615385 2.263364 1   0   0   0   1   0  0  0  0  1   7   0.49  0.343\n",
       "2 48.076923 3.872802 0   0   0   0   1   0  0  0  0  1  31   9.61 29.791\n",
       "3 11.057692 2.403126 0   0   1   0   0   0  0  0  0  1  18   3.24  5.832\n",
       "4 13.942308 2.634928 1   0   0   0   0   1  0  0  0  1  25   6.25 15.625\n",
       "5 28.846154 3.361977 1   0   0   0   1   0  0  0  0  1  22   4.84 10.648\n",
       "6 11.730769 2.462215 1   0   0   0   1   0  0  0  0  1   1   0.01  0.001\n",
       "  exp4    occ  occ2 ind \n",
       "1  0.2401 3600 11   8370\n",
       "2 92.3521 3050 10   5070\n",
       "3 10.4976 6260 19    770\n",
       "4 39.0625  420  1   6990\n",
       "5 23.4256 2015  6   9470\n",
       "6  0.0001 1650  5   7460"
      ]
     },
     "metadata": {},
     "output_type": "display_data"
    }
   ],
   "source": [
    "head(base1 %>% filter(sex == 1 & exp1 > 10))\n",
    "\n",
    "head(base1  %>% filter(sex == 1 | exp1 > 10))"
   ]
  },
  {
   "cell_type": "code",
   "execution_count": 81,
   "metadata": {},
   "outputs": [
    {
     "data": {
      "text/html": [
       "<table class=\"dataframe\">\n",
       "<caption>A data.frame: 6 × 19</caption>\n",
       "<thead>\n",
       "\t<tr><th></th><th scope=col>salario</th><th scope=col>lwage</th><th scope=col>sex</th><th scope=col>shs</th><th scope=col>hsg</th><th scope=col>scl</th><th scope=col>clg</th><th scope=col>ad</th><th scope=col>mw</th><th scope=col>so</th><th scope=col>we</th><th scope=col>ne</th><th scope=col>exp1</th><th scope=col>exp2</th><th scope=col>exp3</th><th scope=col>exp4</th><th scope=col>occ</th><th scope=col>occ2</th><th scope=col>ind</th></tr>\n",
       "\t<tr><th></th><th scope=col>&lt;dbl&gt;</th><th scope=col>&lt;dbl&gt;</th><th scope=col>&lt;int&gt;</th><th scope=col>&lt;int&gt;</th><th scope=col>&lt;int&gt;</th><th scope=col>&lt;int&gt;</th><th scope=col>&lt;int&gt;</th><th scope=col>&lt;int&gt;</th><th scope=col>&lt;int&gt;</th><th scope=col>&lt;int&gt;</th><th scope=col>&lt;int&gt;</th><th scope=col>&lt;int&gt;</th><th scope=col>&lt;dbl&gt;</th><th scope=col>&lt;dbl&gt;</th><th scope=col>&lt;dbl&gt;</th><th scope=col>&lt;dbl&gt;</th><th scope=col>&lt;dbl&gt;</th><th scope=col>&lt;int&gt;</th><th scope=col>&lt;dbl&gt;</th></tr>\n",
       "</thead>\n",
       "<tbody>\n",
       "\t<tr><th scope=row>1</th><td>13.94231</td><td>2.634928</td><td>1</td><td>0</td><td>0</td><td>0</td><td>0</td><td>1</td><td>0</td><td>0</td><td>0</td><td>1</td><td>25.0</td><td> 6.2500</td><td>15.625000</td><td> 39.06250</td><td> 420</td><td> 1</td><td>6990</td></tr>\n",
       "\t<tr><th scope=row>2</th><td>28.84615</td><td>3.361977</td><td>1</td><td>0</td><td>0</td><td>0</td><td>1</td><td>0</td><td>0</td><td>0</td><td>0</td><td>1</td><td>22.0</td><td> 4.8400</td><td>10.648000</td><td> 23.42560</td><td>2015</td><td> 6</td><td>9470</td></tr>\n",
       "\t<tr><th scope=row>3</th><td>19.23077</td><td>2.956512</td><td>1</td><td>0</td><td>1</td><td>0</td><td>0</td><td>0</td><td>0</td><td>0</td><td>0</td><td>1</td><td>42.0</td><td>17.6400</td><td>74.088000</td><td>311.16960</td><td>5120</td><td>17</td><td>7280</td></tr>\n",
       "\t<tr><th scope=row>4</th><td>12.00000</td><td>2.484907</td><td>1</td><td>0</td><td>1</td><td>0</td><td>0</td><td>0</td><td>0</td><td>0</td><td>0</td><td>1</td><td>31.0</td><td> 9.6100</td><td>29.791000</td><td> 92.35210</td><td>4040</td><td>13</td><td>8590</td></tr>\n",
       "\t<tr><th scope=row>5</th><td>13.46154</td><td>2.599837</td><td>1</td><td>0</td><td>0</td><td>1</td><td>0</td><td>0</td><td>0</td><td>0</td><td>0</td><td>1</td><td>20.5</td><td> 4.2025</td><td> 8.615125</td><td> 17.66101</td><td>3645</td><td>11</td><td>8190</td></tr>\n",
       "\t<tr><th scope=row>6</th><td>16.34615</td><td>2.793993</td><td>1</td><td>0</td><td>0</td><td>0</td><td>1</td><td>0</td><td>0</td><td>0</td><td>0</td><td>1</td><td>25.0</td><td> 6.2500</td><td>15.625000</td><td> 39.06250</td><td> 110</td><td> 1</td><td>7870</td></tr>\n",
       "</tbody>\n",
       "</table>\n"
      ],
      "text/latex": [
       "A data.frame: 6 × 19\n",
       "\\begin{tabular}{r|lllllllllllllllllll}\n",
       "  & salario & lwage & sex & shs & hsg & scl & clg & ad & mw & so & we & ne & exp1 & exp2 & exp3 & exp4 & occ & occ2 & ind\\\\\n",
       "  & <dbl> & <dbl> & <int> & <int> & <int> & <int> & <int> & <int> & <int> & <int> & <int> & <int> & <dbl> & <dbl> & <dbl> & <dbl> & <dbl> & <int> & <dbl>\\\\\n",
       "\\hline\n",
       "\t1 & 13.94231 & 2.634928 & 1 & 0 & 0 & 0 & 0 & 1 & 0 & 0 & 0 & 1 & 25.0 &  6.2500 & 15.625000 &  39.06250 &  420 &  1 & 6990\\\\\n",
       "\t2 & 28.84615 & 3.361977 & 1 & 0 & 0 & 0 & 1 & 0 & 0 & 0 & 0 & 1 & 22.0 &  4.8400 & 10.648000 &  23.42560 & 2015 &  6 & 9470\\\\\n",
       "\t3 & 19.23077 & 2.956512 & 1 & 0 & 1 & 0 & 0 & 0 & 0 & 0 & 0 & 1 & 42.0 & 17.6400 & 74.088000 & 311.16960 & 5120 & 17 & 7280\\\\\n",
       "\t4 & 12.00000 & 2.484907 & 1 & 0 & 1 & 0 & 0 & 0 & 0 & 0 & 0 & 1 & 31.0 &  9.6100 & 29.791000 &  92.35210 & 4040 & 13 & 8590\\\\\n",
       "\t5 & 13.46154 & 2.599837 & 1 & 0 & 0 & 1 & 0 & 0 & 0 & 0 & 0 & 1 & 20.5 &  4.2025 &  8.615125 &  17.66101 & 3645 & 11 & 8190\\\\\n",
       "\t6 & 16.34615 & 2.793993 & 1 & 0 & 0 & 0 & 1 & 0 & 0 & 0 & 0 & 1 & 25.0 &  6.2500 & 15.625000 &  39.06250 &  110 &  1 & 7870\\\\\n",
       "\\end{tabular}\n"
      ],
      "text/markdown": [
       "\n",
       "A data.frame: 6 × 19\n",
       "\n",
       "| <!--/--> | salario &lt;dbl&gt; | lwage &lt;dbl&gt; | sex &lt;int&gt; | shs &lt;int&gt; | hsg &lt;int&gt; | scl &lt;int&gt; | clg &lt;int&gt; | ad &lt;int&gt; | mw &lt;int&gt; | so &lt;int&gt; | we &lt;int&gt; | ne &lt;int&gt; | exp1 &lt;dbl&gt; | exp2 &lt;dbl&gt; | exp3 &lt;dbl&gt; | exp4 &lt;dbl&gt; | occ &lt;dbl&gt; | occ2 &lt;int&gt; | ind &lt;dbl&gt; |\n",
       "|---|---|---|---|---|---|---|---|---|---|---|---|---|---|---|---|---|---|---|---|\n",
       "| 1 | 13.94231 | 2.634928 | 1 | 0 | 0 | 0 | 0 | 1 | 0 | 0 | 0 | 1 | 25.0 |  6.2500 | 15.625000 |  39.06250 |  420 |  1 | 6990 |\n",
       "| 2 | 28.84615 | 3.361977 | 1 | 0 | 0 | 0 | 1 | 0 | 0 | 0 | 0 | 1 | 22.0 |  4.8400 | 10.648000 |  23.42560 | 2015 |  6 | 9470 |\n",
       "| 3 | 19.23077 | 2.956512 | 1 | 0 | 1 | 0 | 0 | 0 | 0 | 0 | 0 | 1 | 42.0 | 17.6400 | 74.088000 | 311.16960 | 5120 | 17 | 7280 |\n",
       "| 4 | 12.00000 | 2.484907 | 1 | 0 | 1 | 0 | 0 | 0 | 0 | 0 | 0 | 1 | 31.0 |  9.6100 | 29.791000 |  92.35210 | 4040 | 13 | 8590 |\n",
       "| 5 | 13.46154 | 2.599837 | 1 | 0 | 0 | 1 | 0 | 0 | 0 | 0 | 0 | 1 | 20.5 |  4.2025 |  8.615125 |  17.66101 | 3645 | 11 | 8190 |\n",
       "| 6 | 16.34615 | 2.793993 | 1 | 0 | 0 | 0 | 1 | 0 | 0 | 0 | 0 | 1 | 25.0 |  6.2500 | 15.625000 |  39.06250 |  110 |  1 | 7870 |\n",
       "\n"
      ],
      "text/plain": [
       "  salario  lwage    sex shs hsg scl clg ad mw so we ne exp1 exp2    exp3     \n",
       "1 13.94231 2.634928 1   0   0   0   0   1  0  0  0  1  25.0  6.2500 15.625000\n",
       "2 28.84615 3.361977 1   0   0   0   1   0  0  0  0  1  22.0  4.8400 10.648000\n",
       "3 19.23077 2.956512 1   0   1   0   0   0  0  0  0  1  42.0 17.6400 74.088000\n",
       "4 12.00000 2.484907 1   0   1   0   0   0  0  0  0  1  31.0  9.6100 29.791000\n",
       "5 13.46154 2.599837 1   0   0   1   0   0  0  0  0  1  20.5  4.2025  8.615125\n",
       "6 16.34615 2.793993 1   0   0   0   1   0  0  0  0  1  25.0  6.2500 15.625000\n",
       "  exp4      occ  occ2 ind \n",
       "1  39.06250  420  1   6990\n",
       "2  23.42560 2015  6   9470\n",
       "3 311.16960 5120 17   7280\n",
       "4  92.35210 4040 13   8590\n",
       "5  17.66101 3645 11   8190\n",
       "6  39.06250  110  1   7870"
      ]
     },
     "metadata": {},
     "output_type": "display_data"
    },
    {
     "data": {
      "text/html": [
       "<table class=\"dataframe\">\n",
       "<caption>A data.frame: 6 × 19</caption>\n",
       "<thead>\n",
       "\t<tr><th></th><th scope=col>salario</th><th scope=col>lwage</th><th scope=col>sex</th><th scope=col>shs</th><th scope=col>hsg</th><th scope=col>scl</th><th scope=col>clg</th><th scope=col>ad</th><th scope=col>mw</th><th scope=col>so</th><th scope=col>we</th><th scope=col>ne</th><th scope=col>exp1</th><th scope=col>exp2</th><th scope=col>exp3</th><th scope=col>exp4</th><th scope=col>occ</th><th scope=col>occ2</th><th scope=col>ind</th></tr>\n",
       "\t<tr><th></th><th scope=col>&lt;dbl&gt;</th><th scope=col>&lt;dbl&gt;</th><th scope=col>&lt;int&gt;</th><th scope=col>&lt;int&gt;</th><th scope=col>&lt;int&gt;</th><th scope=col>&lt;int&gt;</th><th scope=col>&lt;int&gt;</th><th scope=col>&lt;int&gt;</th><th scope=col>&lt;int&gt;</th><th scope=col>&lt;int&gt;</th><th scope=col>&lt;int&gt;</th><th scope=col>&lt;int&gt;</th><th scope=col>&lt;dbl&gt;</th><th scope=col>&lt;dbl&gt;</th><th scope=col>&lt;dbl&gt;</th><th scope=col>&lt;dbl&gt;</th><th scope=col>&lt;dbl&gt;</th><th scope=col>&lt;int&gt;</th><th scope=col>&lt;dbl&gt;</th></tr>\n",
       "</thead>\n",
       "<tbody>\n",
       "\t<tr><th scope=row>1</th><td> 9.615385</td><td>2.263364</td><td>1</td><td>0</td><td>0</td><td>0</td><td>1</td><td>0</td><td>0</td><td>0</td><td>0</td><td>1</td><td> 7</td><td>0.49</td><td> 0.343</td><td> 0.2401</td><td>3600</td><td>11</td><td>8370</td></tr>\n",
       "\t<tr><th scope=row>2</th><td>48.076923</td><td>3.872802</td><td>0</td><td>0</td><td>0</td><td>0</td><td>1</td><td>0</td><td>0</td><td>0</td><td>0</td><td>1</td><td>31</td><td>9.61</td><td>29.791</td><td>92.3521</td><td>3050</td><td>10</td><td>5070</td></tr>\n",
       "\t<tr><th scope=row>3</th><td>11.057692</td><td>2.403126</td><td>0</td><td>0</td><td>1</td><td>0</td><td>0</td><td>0</td><td>0</td><td>0</td><td>0</td><td>1</td><td>18</td><td>3.24</td><td> 5.832</td><td>10.4976</td><td>6260</td><td>19</td><td> 770</td></tr>\n",
       "\t<tr><th scope=row>4</th><td>13.942308</td><td>2.634928</td><td>1</td><td>0</td><td>0</td><td>0</td><td>0</td><td>1</td><td>0</td><td>0</td><td>0</td><td>1</td><td>25</td><td>6.25</td><td>15.625</td><td>39.0625</td><td> 420</td><td> 1</td><td>6990</td></tr>\n",
       "\t<tr><th scope=row>5</th><td>28.846154</td><td>3.361977</td><td>1</td><td>0</td><td>0</td><td>0</td><td>1</td><td>0</td><td>0</td><td>0</td><td>0</td><td>1</td><td>22</td><td>4.84</td><td>10.648</td><td>23.4256</td><td>2015</td><td> 6</td><td>9470</td></tr>\n",
       "\t<tr><th scope=row>6</th><td>11.730769</td><td>2.462215</td><td>1</td><td>0</td><td>0</td><td>0</td><td>1</td><td>0</td><td>0</td><td>0</td><td>0</td><td>1</td><td> 1</td><td>0.01</td><td> 0.001</td><td> 0.0001</td><td>1650</td><td> 5</td><td>7460</td></tr>\n",
       "</tbody>\n",
       "</table>\n"
      ],
      "text/latex": [
       "A data.frame: 6 × 19\n",
       "\\begin{tabular}{r|lllllllllllllllllll}\n",
       "  & salario & lwage & sex & shs & hsg & scl & clg & ad & mw & so & we & ne & exp1 & exp2 & exp3 & exp4 & occ & occ2 & ind\\\\\n",
       "  & <dbl> & <dbl> & <int> & <int> & <int> & <int> & <int> & <int> & <int> & <int> & <int> & <int> & <dbl> & <dbl> & <dbl> & <dbl> & <dbl> & <int> & <dbl>\\\\\n",
       "\\hline\n",
       "\t1 &  9.615385 & 2.263364 & 1 & 0 & 0 & 0 & 1 & 0 & 0 & 0 & 0 & 1 &  7 & 0.49 &  0.343 &  0.2401 & 3600 & 11 & 8370\\\\\n",
       "\t2 & 48.076923 & 3.872802 & 0 & 0 & 0 & 0 & 1 & 0 & 0 & 0 & 0 & 1 & 31 & 9.61 & 29.791 & 92.3521 & 3050 & 10 & 5070\\\\\n",
       "\t3 & 11.057692 & 2.403126 & 0 & 0 & 1 & 0 & 0 & 0 & 0 & 0 & 0 & 1 & 18 & 3.24 &  5.832 & 10.4976 & 6260 & 19 &  770\\\\\n",
       "\t4 & 13.942308 & 2.634928 & 1 & 0 & 0 & 0 & 0 & 1 & 0 & 0 & 0 & 1 & 25 & 6.25 & 15.625 & 39.0625 &  420 &  1 & 6990\\\\\n",
       "\t5 & 28.846154 & 3.361977 & 1 & 0 & 0 & 0 & 1 & 0 & 0 & 0 & 0 & 1 & 22 & 4.84 & 10.648 & 23.4256 & 2015 &  6 & 9470\\\\\n",
       "\t6 & 11.730769 & 2.462215 & 1 & 0 & 0 & 0 & 1 & 0 & 0 & 0 & 0 & 1 &  1 & 0.01 &  0.001 &  0.0001 & 1650 &  5 & 7460\\\\\n",
       "\\end{tabular}\n"
      ],
      "text/markdown": [
       "\n",
       "A data.frame: 6 × 19\n",
       "\n",
       "| <!--/--> | salario &lt;dbl&gt; | lwage &lt;dbl&gt; | sex &lt;int&gt; | shs &lt;int&gt; | hsg &lt;int&gt; | scl &lt;int&gt; | clg &lt;int&gt; | ad &lt;int&gt; | mw &lt;int&gt; | so &lt;int&gt; | we &lt;int&gt; | ne &lt;int&gt; | exp1 &lt;dbl&gt; | exp2 &lt;dbl&gt; | exp3 &lt;dbl&gt; | exp4 &lt;dbl&gt; | occ &lt;dbl&gt; | occ2 &lt;int&gt; | ind &lt;dbl&gt; |\n",
       "|---|---|---|---|---|---|---|---|---|---|---|---|---|---|---|---|---|---|---|---|\n",
       "| 1 |  9.615385 | 2.263364 | 1 | 0 | 0 | 0 | 1 | 0 | 0 | 0 | 0 | 1 |  7 | 0.49 |  0.343 |  0.2401 | 3600 | 11 | 8370 |\n",
       "| 2 | 48.076923 | 3.872802 | 0 | 0 | 0 | 0 | 1 | 0 | 0 | 0 | 0 | 1 | 31 | 9.61 | 29.791 | 92.3521 | 3050 | 10 | 5070 |\n",
       "| 3 | 11.057692 | 2.403126 | 0 | 0 | 1 | 0 | 0 | 0 | 0 | 0 | 0 | 1 | 18 | 3.24 |  5.832 | 10.4976 | 6260 | 19 |  770 |\n",
       "| 4 | 13.942308 | 2.634928 | 1 | 0 | 0 | 0 | 0 | 1 | 0 | 0 | 0 | 1 | 25 | 6.25 | 15.625 | 39.0625 |  420 |  1 | 6990 |\n",
       "| 5 | 28.846154 | 3.361977 | 1 | 0 | 0 | 0 | 1 | 0 | 0 | 0 | 0 | 1 | 22 | 4.84 | 10.648 | 23.4256 | 2015 |  6 | 9470 |\n",
       "| 6 | 11.730769 | 2.462215 | 1 | 0 | 0 | 0 | 1 | 0 | 0 | 0 | 0 | 1 |  1 | 0.01 |  0.001 |  0.0001 | 1650 |  5 | 7460 |\n",
       "\n"
      ],
      "text/plain": [
       "  salario   lwage    sex shs hsg scl clg ad mw so we ne exp1 exp2 exp3  \n",
       "1  9.615385 2.263364 1   0   0   0   1   0  0  0  0  1   7   0.49  0.343\n",
       "2 48.076923 3.872802 0   0   0   0   1   0  0  0  0  1  31   9.61 29.791\n",
       "3 11.057692 2.403126 0   0   1   0   0   0  0  0  0  1  18   3.24  5.832\n",
       "4 13.942308 2.634928 1   0   0   0   0   1  0  0  0  1  25   6.25 15.625\n",
       "5 28.846154 3.361977 1   0   0   0   1   0  0  0  0  1  22   4.84 10.648\n",
       "6 11.730769 2.462215 1   0   0   0   1   0  0  0  0  1   1   0.01  0.001\n",
       "  exp4    occ  occ2 ind \n",
       "1  0.2401 3600 11   8370\n",
       "2 92.3521 3050 10   5070\n",
       "3 10.4976 6260 19    770\n",
       "4 39.0625  420  1   6990\n",
       "5 23.4256 2015  6   9470\n",
       "6  0.0001 1650  5   7460"
      ]
     },
     "metadata": {},
     "output_type": "display_data"
    }
   ],
   "source": [
    "head(filter(base1, sex == 1 & exp1 > 10))\n",
    "head(filter(base1, sex == 1 | exp1 > 10))"
   ]
  },
  {
   "cell_type": "code",
   "execution_count": 82,
   "metadata": {},
   "outputs": [
    {
     "data": {
      "text/html": [
       "<table class=\"dataframe\">\n",
       "<caption>A data.frame: 6 × 19</caption>\n",
       "<thead>\n",
       "\t<tr><th></th><th scope=col>salario</th><th scope=col>lwage</th><th scope=col>sex</th><th scope=col>shs</th><th scope=col>hsg</th><th scope=col>scl</th><th scope=col>clg</th><th scope=col>ad</th><th scope=col>mw</th><th scope=col>so</th><th scope=col>we</th><th scope=col>ne</th><th scope=col>exp1</th><th scope=col>exp2</th><th scope=col>exp3</th><th scope=col>exp4</th><th scope=col>occ</th><th scope=col>occ2</th><th scope=col>ind</th></tr>\n",
       "\t<tr><th></th><th scope=col>&lt;dbl&gt;</th><th scope=col>&lt;dbl&gt;</th><th scope=col>&lt;int&gt;</th><th scope=col>&lt;int&gt;</th><th scope=col>&lt;int&gt;</th><th scope=col>&lt;int&gt;</th><th scope=col>&lt;int&gt;</th><th scope=col>&lt;int&gt;</th><th scope=col>&lt;int&gt;</th><th scope=col>&lt;int&gt;</th><th scope=col>&lt;int&gt;</th><th scope=col>&lt;int&gt;</th><th scope=col>&lt;dbl&gt;</th><th scope=col>&lt;dbl&gt;</th><th scope=col>&lt;dbl&gt;</th><th scope=col>&lt;dbl&gt;</th><th scope=col>&lt;dbl&gt;</th><th scope=col>&lt;int&gt;</th><th scope=col>&lt;dbl&gt;</th></tr>\n",
       "</thead>\n",
       "<tbody>\n",
       "\t<tr><th scope=row>1</th><td> 4.250000</td><td>1.446919</td><td>1</td><td>0</td><td>0</td><td>0</td><td>0</td><td>1</td><td>0</td><td>1</td><td>0</td><td>0</td><td>0</td><td>0</td><td>0</td><td>0</td><td>1860</td><td> 5</td><td>7870</td></tr>\n",
       "\t<tr><th scope=row>2</th><td> 5.128205</td><td>1.634756</td><td>1</td><td>0</td><td>0</td><td>0</td><td>0</td><td>1</td><td>1</td><td>0</td><td>0</td><td>0</td><td>0</td><td>0</td><td>0</td><td>0</td><td>9620</td><td>22</td><td>4970</td></tr>\n",
       "\t<tr><th scope=row>3</th><td> 9.135769</td><td>2.212197</td><td>0</td><td>0</td><td>0</td><td>0</td><td>0</td><td>1</td><td>0</td><td>1</td><td>0</td><td>0</td><td>0</td><td>0</td><td>0</td><td>0</td><td>2310</td><td> 8</td><td>7860</td></tr>\n",
       "\t<tr><th scope=row>4</th><td> 9.615385</td><td>2.263364</td><td>1</td><td>0</td><td>0</td><td>0</td><td>0</td><td>1</td><td>0</td><td>0</td><td>1</td><td>0</td><td>0</td><td>0</td><td>0</td><td>0</td><td>2430</td><td> 8</td><td>7860</td></tr>\n",
       "\t<tr><th scope=row>5</th><td> 9.615385</td><td>2.263364</td><td>1</td><td>0</td><td>0</td><td>0</td><td>0</td><td>1</td><td>0</td><td>0</td><td>1</td><td>0</td><td>0</td><td>0</td><td>0</td><td>0</td><td>3160</td><td>10</td><td>8090</td></tr>\n",
       "\t<tr><th scope=row>6</th><td>10.025000</td><td>2.305082</td><td>1</td><td>0</td><td>0</td><td>0</td><td>0</td><td>1</td><td>0</td><td>0</td><td>0</td><td>1</td><td>0</td><td>0</td><td>0</td><td>0</td><td>2540</td><td> 8</td><td>7860</td></tr>\n",
       "</tbody>\n",
       "</table>\n"
      ],
      "text/latex": [
       "A data.frame: 6 × 19\n",
       "\\begin{tabular}{r|lllllllllllllllllll}\n",
       "  & salario & lwage & sex & shs & hsg & scl & clg & ad & mw & so & we & ne & exp1 & exp2 & exp3 & exp4 & occ & occ2 & ind\\\\\n",
       "  & <dbl> & <dbl> & <int> & <int> & <int> & <int> & <int> & <int> & <int> & <int> & <int> & <int> & <dbl> & <dbl> & <dbl> & <dbl> & <dbl> & <int> & <dbl>\\\\\n",
       "\\hline\n",
       "\t1 &  4.250000 & 1.446919 & 1 & 0 & 0 & 0 & 0 & 1 & 0 & 1 & 0 & 0 & 0 & 0 & 0 & 0 & 1860 &  5 & 7870\\\\\n",
       "\t2 &  5.128205 & 1.634756 & 1 & 0 & 0 & 0 & 0 & 1 & 1 & 0 & 0 & 0 & 0 & 0 & 0 & 0 & 9620 & 22 & 4970\\\\\n",
       "\t3 &  9.135769 & 2.212197 & 0 & 0 & 0 & 0 & 0 & 1 & 0 & 1 & 0 & 0 & 0 & 0 & 0 & 0 & 2310 &  8 & 7860\\\\\n",
       "\t4 &  9.615385 & 2.263364 & 1 & 0 & 0 & 0 & 0 & 1 & 0 & 0 & 1 & 0 & 0 & 0 & 0 & 0 & 2430 &  8 & 7860\\\\\n",
       "\t5 &  9.615385 & 2.263364 & 1 & 0 & 0 & 0 & 0 & 1 & 0 & 0 & 1 & 0 & 0 & 0 & 0 & 0 & 3160 & 10 & 8090\\\\\n",
       "\t6 & 10.025000 & 2.305082 & 1 & 0 & 0 & 0 & 0 & 1 & 0 & 0 & 0 & 1 & 0 & 0 & 0 & 0 & 2540 &  8 & 7860\\\\\n",
       "\\end{tabular}\n"
      ],
      "text/markdown": [
       "\n",
       "A data.frame: 6 × 19\n",
       "\n",
       "| <!--/--> | salario &lt;dbl&gt; | lwage &lt;dbl&gt; | sex &lt;int&gt; | shs &lt;int&gt; | hsg &lt;int&gt; | scl &lt;int&gt; | clg &lt;int&gt; | ad &lt;int&gt; | mw &lt;int&gt; | so &lt;int&gt; | we &lt;int&gt; | ne &lt;int&gt; | exp1 &lt;dbl&gt; | exp2 &lt;dbl&gt; | exp3 &lt;dbl&gt; | exp4 &lt;dbl&gt; | occ &lt;dbl&gt; | occ2 &lt;int&gt; | ind &lt;dbl&gt; |\n",
       "|---|---|---|---|---|---|---|---|---|---|---|---|---|---|---|---|---|---|---|---|\n",
       "| 1 |  4.250000 | 1.446919 | 1 | 0 | 0 | 0 | 0 | 1 | 0 | 1 | 0 | 0 | 0 | 0 | 0 | 0 | 1860 |  5 | 7870 |\n",
       "| 2 |  5.128205 | 1.634756 | 1 | 0 | 0 | 0 | 0 | 1 | 1 | 0 | 0 | 0 | 0 | 0 | 0 | 0 | 9620 | 22 | 4970 |\n",
       "| 3 |  9.135769 | 2.212197 | 0 | 0 | 0 | 0 | 0 | 1 | 0 | 1 | 0 | 0 | 0 | 0 | 0 | 0 | 2310 |  8 | 7860 |\n",
       "| 4 |  9.615385 | 2.263364 | 1 | 0 | 0 | 0 | 0 | 1 | 0 | 0 | 1 | 0 | 0 | 0 | 0 | 0 | 2430 |  8 | 7860 |\n",
       "| 5 |  9.615385 | 2.263364 | 1 | 0 | 0 | 0 | 0 | 1 | 0 | 0 | 1 | 0 | 0 | 0 | 0 | 0 | 3160 | 10 | 8090 |\n",
       "| 6 | 10.025000 | 2.305082 | 1 | 0 | 0 | 0 | 0 | 1 | 0 | 0 | 0 | 1 | 0 | 0 | 0 | 0 | 2540 |  8 | 7860 |\n",
       "\n"
      ],
      "text/plain": [
       "  salario   lwage    sex shs hsg scl clg ad mw so we ne exp1 exp2 exp3 exp4\n",
       "1  4.250000 1.446919 1   0   0   0   0   1  0  1  0  0  0    0    0    0   \n",
       "2  5.128205 1.634756 1   0   0   0   0   1  1  0  0  0  0    0    0    0   \n",
       "3  9.135769 2.212197 0   0   0   0   0   1  0  1  0  0  0    0    0    0   \n",
       "4  9.615385 2.263364 1   0   0   0   0   1  0  0  1  0  0    0    0    0   \n",
       "5  9.615385 2.263364 1   0   0   0   0   1  0  0  1  0  0    0    0    0   \n",
       "6 10.025000 2.305082 1   0   0   0   0   1  0  0  0  1  0    0    0    0   \n",
       "  occ  occ2 ind \n",
       "1 1860  5   7870\n",
       "2 9620 22   4970\n",
       "3 2310  8   7860\n",
       "4 2430  8   7860\n",
       "5 3160 10   8090\n",
       "6 2540  8   7860"
      ]
     },
     "metadata": {},
     "output_type": "display_data"
    }
   ],
   "source": [
    "head(arrange(base1, exp1, salario))"
   ]
  },
  {
   "cell_type": "code",
   "execution_count": 83,
   "metadata": {},
   "outputs": [
    {
     "data": {
      "text/html": [
       "<table class=\"dataframe\">\n",
       "<caption>A data.frame: 5150 × 20</caption>\n",
       "<thead>\n",
       "\t<tr><th scope=col>salario</th><th scope=col>lwage</th><th scope=col>sex</th><th scope=col>shs</th><th scope=col>hsg</th><th scope=col>scl</th><th scope=col>clg</th><th scope=col>ad</th><th scope=col>mw</th><th scope=col>so</th><th scope=col>we</th><th scope=col>ne</th><th scope=col>exp1</th><th scope=col>exp2</th><th scope=col>exp3</th><th scope=col>exp4</th><th scope=col>occ</th><th scope=col>occ2</th><th scope=col>ind</th><th scope=col>dummy</th></tr>\n",
       "\t<tr><th scope=col>&lt;dbl&gt;</th><th scope=col>&lt;dbl&gt;</th><th scope=col>&lt;int&gt;</th><th scope=col>&lt;int&gt;</th><th scope=col>&lt;int&gt;</th><th scope=col>&lt;int&gt;</th><th scope=col>&lt;int&gt;</th><th scope=col>&lt;int&gt;</th><th scope=col>&lt;int&gt;</th><th scope=col>&lt;int&gt;</th><th scope=col>&lt;int&gt;</th><th scope=col>&lt;int&gt;</th><th scope=col>&lt;dbl&gt;</th><th scope=col>&lt;dbl&gt;</th><th scope=col>&lt;dbl&gt;</th><th scope=col>&lt;dbl&gt;</th><th scope=col>&lt;dbl&gt;</th><th scope=col>&lt;int&gt;</th><th scope=col>&lt;dbl&gt;</th><th scope=col>&lt;chr&gt;</th></tr>\n",
       "</thead>\n",
       "<tbody>\n",
       "\t<tr><td> 9.615385</td><td>2.263364</td><td>1</td><td>0</td><td>0</td><td>0</td><td>1</td><td>0</td><td>0</td><td>0</td><td>0</td><td>1</td><td> 7.0</td><td> 0.4900</td><td> 0.343000</td><td>  0.24010000</td><td>3600</td><td>11</td><td>8370</td><td>NA</td></tr>\n",
       "\t<tr><td>48.076923</td><td>3.872802</td><td>0</td><td>0</td><td>0</td><td>0</td><td>1</td><td>0</td><td>0</td><td>0</td><td>0</td><td>1</td><td>31.0</td><td> 9.6100</td><td>29.791000</td><td> 92.35210000</td><td>3050</td><td>10</td><td>5070</td><td>NA</td></tr>\n",
       "\t<tr><td>11.057692</td><td>2.403126</td><td>0</td><td>0</td><td>1</td><td>0</td><td>0</td><td>0</td><td>0</td><td>0</td><td>0</td><td>1</td><td>18.0</td><td> 3.2400</td><td> 5.832000</td><td> 10.49760000</td><td>6260</td><td>19</td><td> 770</td><td>NA</td></tr>\n",
       "\t<tr><td>13.942308</td><td>2.634928</td><td>1</td><td>0</td><td>0</td><td>0</td><td>0</td><td>1</td><td>0</td><td>0</td><td>0</td><td>1</td><td>25.0</td><td> 6.2500</td><td>15.625000</td><td> 39.06250000</td><td> 420</td><td> 1</td><td>6990</td><td>NA</td></tr>\n",
       "\t<tr><td>28.846154</td><td>3.361977</td><td>1</td><td>0</td><td>0</td><td>0</td><td>1</td><td>0</td><td>0</td><td>0</td><td>0</td><td>1</td><td>22.0</td><td> 4.8400</td><td>10.648000</td><td> 23.42560000</td><td>2015</td><td> 6</td><td>9470</td><td>NA</td></tr>\n",
       "\t<tr><td>11.730769</td><td>2.462215</td><td>1</td><td>0</td><td>0</td><td>0</td><td>1</td><td>0</td><td>0</td><td>0</td><td>0</td><td>1</td><td> 1.0</td><td> 0.0100</td><td> 0.001000</td><td>  0.00010000</td><td>1650</td><td> 5</td><td>7460</td><td>NA</td></tr>\n",
       "\t<tr><td>19.230769</td><td>2.956512</td><td>1</td><td>0</td><td>1</td><td>0</td><td>0</td><td>0</td><td>0</td><td>0</td><td>0</td><td>1</td><td>42.0</td><td>17.6400</td><td>74.088000</td><td>311.16960000</td><td>5120</td><td>17</td><td>7280</td><td>NA</td></tr>\n",
       "\t<tr><td>19.230769</td><td>2.956512</td><td>0</td><td>0</td><td>1</td><td>0</td><td>0</td><td>0</td><td>0</td><td>0</td><td>0</td><td>1</td><td>37.0</td><td>13.6900</td><td>50.653000</td><td>187.41610000</td><td>5240</td><td>17</td><td>5680</td><td>NA</td></tr>\n",
       "\t<tr><td>12.000000</td><td>2.484907</td><td>1</td><td>0</td><td>1</td><td>0</td><td>0</td><td>0</td><td>0</td><td>0</td><td>0</td><td>1</td><td>31.0</td><td> 9.6100</td><td>29.791000</td><td> 92.35210000</td><td>4040</td><td>13</td><td>8590</td><td>NA</td></tr>\n",
       "\t<tr><td>19.230769</td><td>2.956512</td><td>1</td><td>0</td><td>0</td><td>0</td><td>1</td><td>0</td><td>0</td><td>0</td><td>0</td><td>1</td><td> 4.0</td><td> 0.1600</td><td> 0.064000</td><td>  0.02560000</td><td>3255</td><td>10</td><td>8190</td><td>NA</td></tr>\n",
       "\t<tr><td>17.307692</td><td>2.851151</td><td>1</td><td>0</td><td>1</td><td>0</td><td>0</td><td>0</td><td>0</td><td>0</td><td>0</td><td>1</td><td> 7.0</td><td> 0.4900</td><td> 0.343000</td><td>  0.24010000</td><td>4020</td><td>13</td><td>8270</td><td>NA</td></tr>\n",
       "\t<tr><td>12.019231</td><td>2.486508</td><td>0</td><td>0</td><td>1</td><td>0</td><td>0</td><td>0</td><td>0</td><td>0</td><td>0</td><td>1</td><td>30.0</td><td> 9.0000</td><td>27.000000</td><td> 81.00000000</td><td>4220</td><td>14</td><td>8270</td><td>NA</td></tr>\n",
       "\t<tr><td>12.019231</td><td>2.486508</td><td>1</td><td>0</td><td>0</td><td>1</td><td>0</td><td>0</td><td>0</td><td>0</td><td>0</td><td>1</td><td> 5.5</td><td> 0.3025</td><td> 0.166375</td><td>  0.09150625</td><td>3600</td><td>11</td><td>8270</td><td>NA</td></tr>\n",
       "\t<tr><td>13.461538</td><td>2.599837</td><td>1</td><td>0</td><td>0</td><td>1</td><td>0</td><td>0</td><td>0</td><td>0</td><td>0</td><td>1</td><td>20.5</td><td> 4.2025</td><td> 8.615125</td><td> 17.66100625</td><td>3645</td><td>11</td><td>8190</td><td>NA</td></tr>\n",
       "\t<tr><td>16.346154</td><td>2.793993</td><td>1</td><td>0</td><td>0</td><td>0</td><td>1</td><td>0</td><td>0</td><td>0</td><td>0</td><td>1</td><td>25.0</td><td> 6.2500</td><td>15.625000</td><td> 39.06250000</td><td> 110</td><td> 1</td><td>7870</td><td>NA</td></tr>\n",
       "\t<tr><td>27.884615</td><td>3.328075</td><td>0</td><td>0</td><td>1</td><td>0</td><td>0</td><td>0</td><td>0</td><td>0</td><td>0</td><td>1</td><td>16.0</td><td> 2.5600</td><td> 4.096000</td><td>  6.55360000</td><td>6355</td><td>19</td><td> 770</td><td>NA</td></tr>\n",
       "\t<tr><td>21.600000</td><td>3.072693</td><td>0</td><td>0</td><td>1</td><td>0</td><td>0</td><td>0</td><td>0</td><td>0</td><td>0</td><td>1</td><td>27.0</td><td> 7.2900</td><td>19.683000</td><td> 53.14410000</td><td>6320</td><td>19</td><td> 770</td><td>NA</td></tr>\n",
       "\t<tr><td> 8.653846</td><td>2.158004</td><td>0</td><td>0</td><td>0</td><td>1</td><td>0</td><td>0</td><td>0</td><td>0</td><td>0</td><td>1</td><td> 3.5</td><td> 0.1225</td><td> 0.042875</td><td>  0.01500625</td><td>7410</td><td>20</td><td> 570</td><td>NA</td></tr>\n",
       "\t<tr><td>19.230769</td><td>2.956512</td><td>0</td><td>0</td><td>1</td><td>0</td><td>0</td><td>0</td><td>0</td><td>0</td><td>0</td><td>1</td><td> 6.0</td><td> 0.3600</td><td> 0.216000</td><td>  0.12960000</td><td>7000</td><td>20</td><td>4690</td><td>NA</td></tr>\n",
       "\t<tr><td>13.186813</td><td>2.579217</td><td>0</td><td>0</td><td>1</td><td>0</td><td>0</td><td>0</td><td>0</td><td>0</td><td>0</td><td>1</td><td> 8.0</td><td> 0.6400</td><td> 0.512000</td><td>  0.40960000</td><td>4000</td><td>13</td><td>8680</td><td>NA</td></tr>\n",
       "\t<tr><td>10.683761</td><td>2.368725</td><td>1</td><td>0</td><td>0</td><td>1</td><td>0</td><td>0</td><td>0</td><td>0</td><td>0</td><td>1</td><td> 6.5</td><td> 0.4225</td><td> 0.274625</td><td>  0.17850625</td><td>4300</td><td>15</td><td>8590</td><td>NA</td></tr>\n",
       "\t<tr><td>11.538462</td><td>2.445686</td><td>1</td><td>0</td><td>0</td><td>1</td><td>0</td><td>0</td><td>0</td><td>0</td><td>0</td><td>1</td><td> 8.5</td><td> 0.7225</td><td> 0.614125</td><td>  0.52200625</td><td>3600</td><td>11</td><td>8190</td><td>NA</td></tr>\n",
       "\t<tr><td>17.788462</td><td>2.878550</td><td>1</td><td>0</td><td>0</td><td>0</td><td>0</td><td>1</td><td>0</td><td>0</td><td>0</td><td>1</td><td>11.0</td><td> 1.2100</td><td> 1.331000</td><td>  1.46410000</td><td>2310</td><td> 8</td><td>7860</td><td>NA</td></tr>\n",
       "\t<tr><td>19.230769</td><td>2.956512</td><td>0</td><td>0</td><td>0</td><td>0</td><td>1</td><td>0</td><td>0</td><td>0</td><td>0</td><td>1</td><td>11.0</td><td> 1.2100</td><td> 1.331000</td><td>  1.46410000</td><td>6200</td><td>19</td><td> 770</td><td>NA</td></tr>\n",
       "\t<tr><td>16.304348</td><td>2.791432</td><td>1</td><td>0</td><td>0</td><td>1</td><td>0</td><td>0</td><td>0</td><td>0</td><td>0</td><td>1</td><td>24.5</td><td> 6.0025</td><td>14.706125</td><td> 36.03000625</td><td>  20</td><td> 1</td><td>5480</td><td>NA</td></tr>\n",
       "\t<tr><td>19.230769</td><td>2.956512</td><td>0</td><td>0</td><td>1</td><td>0</td><td>0</td><td>0</td><td>0</td><td>0</td><td>0</td><td>1</td><td> 8.0</td><td> 0.6400</td><td> 0.512000</td><td>  0.40960000</td><td>4800</td><td>16</td><td>7390</td><td>NA</td></tr>\n",
       "\t<tr><td>14.423077</td><td>2.668829</td><td>1</td><td>0</td><td>1</td><td>0</td><td>0</td><td>0</td><td>0</td><td>0</td><td>0</td><td>1</td><td> 5.0</td><td> 0.2500</td><td> 0.125000</td><td>  0.06250000</td><td> 430</td><td> 1</td><td>7390</td><td>NA</td></tr>\n",
       "\t<tr><td>12.000000</td><td>2.484907</td><td>0</td><td>0</td><td>0</td><td>1</td><td>0</td><td>0</td><td>0</td><td>0</td><td>0</td><td>1</td><td> 4.5</td><td> 0.2025</td><td> 0.091125</td><td>  0.04100625</td><td>6330</td><td>19</td><td> 770</td><td>NA</td></tr>\n",
       "\t<tr><td>16.826923</td><td>2.822980</td><td>0</td><td>0</td><td>0</td><td>0</td><td>1</td><td>0</td><td>0</td><td>0</td><td>0</td><td>1</td><td> 8.0</td><td> 0.6400</td><td> 0.512000</td><td>  0.40960000</td><td>5400</td><td>17</td><td>4870</td><td>NA</td></tr>\n",
       "\t<tr><td>19.670330</td><td>2.979111</td><td>0</td><td>0</td><td>0</td><td>0</td><td>1</td><td>0</td><td>0</td><td>0</td><td>0</td><td>1</td><td>26.0</td><td> 6.7600</td><td>17.576000</td><td> 45.69760000</td><td>6230</td><td>19</td><td>6570</td><td>NA</td></tr>\n",
       "\t<tr><td>⋮</td><td>⋮</td><td>⋮</td><td>⋮</td><td>⋮</td><td>⋮</td><td>⋮</td><td>⋮</td><td>⋮</td><td>⋮</td><td>⋮</td><td>⋮</td><td>⋮</td><td>⋮</td><td>⋮</td><td>⋮</td><td>⋮</td><td>⋮</td><td>⋮</td><td>⋮</td></tr>\n",
       "\t<tr><td>13.986014</td><td>2.638058</td><td>1</td><td>0</td><td>0</td><td>0</td><td>0</td><td>1</td><td>0</td><td>0</td><td>1</td><td>0</td><td> 7.0</td><td> 0.4900</td><td> 0.343000</td><td>  0.2401000</td><td>3820</td><td>12</td><td>9590</td><td>NA</td></tr>\n",
       "\t<tr><td>15.865385</td><td>2.764140</td><td>0</td><td>0</td><td>0</td><td>0</td><td>0</td><td>1</td><td>0</td><td>0</td><td>1</td><td>0</td><td> 2.0</td><td> 0.0400</td><td> 0.008000</td><td>  0.0016000</td><td>2200</td><td> 8</td><td>7870</td><td>NA</td></tr>\n",
       "\t<tr><td>38.461538</td><td>3.649659</td><td>1</td><td>0</td><td>0</td><td>1</td><td>0</td><td>0</td><td>0</td><td>0</td><td>1</td><td>0</td><td> 7.5</td><td> 0.5625</td><td> 0.421875</td><td>  0.3164062</td><td> 220</td><td> 1</td><td> 770</td><td>NA</td></tr>\n",
       "\t<tr><td>28.846154</td><td>3.361977</td><td>0</td><td>0</td><td>0</td><td>0</td><td>1</td><td>0</td><td>0</td><td>0</td><td>1</td><td>0</td><td> 5.0</td><td> 0.2500</td><td> 0.125000</td><td>  0.0625000</td><td>1360</td><td> 4</td><td> 770</td><td>NA</td></tr>\n",
       "\t<tr><td>24.475524</td><td>3.197674</td><td>1</td><td>0</td><td>0</td><td>0</td><td>0</td><td>1</td><td>0</td><td>0</td><td>1</td><td>0</td><td>24.0</td><td> 5.7600</td><td>13.824000</td><td> 33.1776000</td><td>2310</td><td> 8</td><td>7860</td><td>NA</td></tr>\n",
       "\t<tr><td>27.884615</td><td>3.328075</td><td>0</td><td>0</td><td>0</td><td>1</td><td>0</td><td>0</td><td>0</td><td>0</td><td>1</td><td>0</td><td>28.5</td><td> 8.1225</td><td>23.149125</td><td> 65.9750063</td><td>8140</td><td>21</td><td> 770</td><td>NA</td></tr>\n",
       "\t<tr><td> 8.653846</td><td>2.158004</td><td>1</td><td>0</td><td>1</td><td>0</td><td>0</td><td>0</td><td>0</td><td>0</td><td>1</td><td>0</td><td>25.0</td><td> 6.2500</td><td>15.625000</td><td> 39.0625000</td><td>3930</td><td>12</td><td>7680</td><td>NA</td></tr>\n",
       "\t<tr><td>12.019231</td><td>2.486508</td><td>0</td><td>0</td><td>1</td><td>0</td><td>0</td><td>0</td><td>0</td><td>0</td><td>1</td><td>0</td><td>19.0</td><td> 3.6100</td><td> 6.859000</td><td> 13.0321000</td><td>2750</td><td> 9</td><td>8560</td><td>NA</td></tr>\n",
       "\t<tr><td>38.461538</td><td>3.649659</td><td>0</td><td>0</td><td>0</td><td>0</td><td>1</td><td>0</td><td>0</td><td>0</td><td>1</td><td>0</td><td> 8.0</td><td> 0.6400</td><td> 0.512000</td><td>  0.4096000</td><td> 710</td><td> 2</td><td>6870</td><td>NA</td></tr>\n",
       "\t<tr><td>12.500000</td><td>2.525729</td><td>1</td><td>0</td><td>1</td><td>0</td><td>0</td><td>0</td><td>0</td><td>0</td><td>1</td><td>0</td><td>12.0</td><td> 1.4400</td><td> 1.728000</td><td>  2.0736000</td><td>4010</td><td>13</td><td>8680</td><td>NA</td></tr>\n",
       "\t<tr><td>35.256410</td><td>3.562647</td><td>0</td><td>0</td><td>0</td><td>0</td><td>0</td><td>1</td><td>0</td><td>0</td><td>1</td><td>0</td><td> 6.0</td><td> 0.3600</td><td> 0.216000</td><td>  0.1296000</td><td>2320</td><td> 8</td><td>7860</td><td>NA</td></tr>\n",
       "\t<tr><td>48.076923</td><td>3.872802</td><td>1</td><td>0</td><td>0</td><td>0</td><td>1</td><td>0</td><td>0</td><td>0</td><td>1</td><td>0</td><td>25.0</td><td> 6.2500</td><td>15.625000</td><td> 39.0625000</td><td>3255</td><td>10</td><td>8170</td><td>NA</td></tr>\n",
       "\t<tr><td> 9.615385</td><td>2.263364</td><td>0</td><td>0</td><td>1</td><td>0</td><td>0</td><td>0</td><td>0</td><td>0</td><td>1</td><td>0</td><td>20.0</td><td> 4.0000</td><td> 8.000000</td><td> 16.0000000</td><td>4110</td><td>13</td><td>8680</td><td>NA</td></tr>\n",
       "\t<tr><td>12.019231</td><td>2.486508</td><td>0</td><td>0</td><td>1</td><td>0</td><td>0</td><td>0</td><td>0</td><td>0</td><td>1</td><td>0</td><td>17.0</td><td> 2.8900</td><td> 4.913000</td><td>  8.3521000</td><td>9620</td><td>22</td><td>6290</td><td>NA</td></tr>\n",
       "\t<tr><td>12.019231</td><td>2.486508</td><td>0</td><td>0</td><td>0</td><td>1</td><td>0</td><td>0</td><td>0</td><td>0</td><td>1</td><td>0</td><td>31.5</td><td> 9.9225</td><td>31.255875</td><td> 98.4560063</td><td>5510</td><td>17</td><td>6380</td><td>NA</td></tr>\n",
       "\t<tr><td>12.980769</td><td>2.563469</td><td>0</td><td>0</td><td>1</td><td>0</td><td>0</td><td>0</td><td>0</td><td>0</td><td>1</td><td>0</td><td>15.0</td><td> 2.2500</td><td> 3.375000</td><td>  5.0625000</td><td>2010</td><td> 6</td><td>9370</td><td>NA</td></tr>\n",
       "\t<tr><td>26.442308</td><td>3.274965</td><td>1</td><td>0</td><td>0</td><td>0</td><td>1</td><td>0</td><td>0</td><td>0</td><td>1</td><td>0</td><td>34.0</td><td>11.5600</td><td>39.304000</td><td>133.6336000</td><td>2310</td><td> 8</td><td>7860</td><td>NA</td></tr>\n",
       "\t<tr><td>13.461538</td><td>2.599837</td><td>1</td><td>0</td><td>1</td><td>0</td><td>0</td><td>0</td><td>0</td><td>0</td><td>1</td><td>0</td><td> 8.0</td><td> 0.6400</td><td> 0.512000</td><td>  0.4096000</td><td>4720</td><td>16</td><td>8590</td><td>NA</td></tr>\n",
       "\t<tr><td>19.711538</td><td>2.981204</td><td>1</td><td>0</td><td>0</td><td>0</td><td>0</td><td>1</td><td>0</td><td>0</td><td>1</td><td>0</td><td> 8.0</td><td> 0.6400</td><td> 0.512000</td><td>  0.4096000</td><td>2000</td><td> 6</td><td>8090</td><td>NA</td></tr>\n",
       "\t<tr><td>21.153846</td><td>3.051822</td><td>0</td><td>0</td><td>0</td><td>0</td><td>1</td><td>0</td><td>0</td><td>0</td><td>1</td><td>0</td><td>28.0</td><td> 7.8400</td><td>21.952000</td><td> 61.4656000</td><td>  40</td><td> 1</td><td>9170</td><td>NA</td></tr>\n",
       "\t<tr><td>45.546559</td><td>3.818735</td><td>1</td><td>0</td><td>0</td><td>0</td><td>1</td><td>0</td><td>0</td><td>0</td><td>1</td><td>0</td><td> 5.0</td><td> 0.2500</td><td> 0.125000</td><td>  0.0625000</td><td>3255</td><td>10</td><td>8190</td><td>NA</td></tr>\n",
       "\t<tr><td>22.596154</td><td>3.117780</td><td>0</td><td>0</td><td>1</td><td>0</td><td>0</td><td>0</td><td>0</td><td>0</td><td>1</td><td>0</td><td>15.0</td><td> 2.2500</td><td> 3.375000</td><td>  5.0625000</td><td>9620</td><td>22</td><td>5390</td><td>NA</td></tr>\n",
       "\t<tr><td>16.826923</td><td>2.822980</td><td>0</td><td>0</td><td>1</td><td>0</td><td>0</td><td>0</td><td>0</td><td>0</td><td>1</td><td>0</td><td>11.0</td><td> 1.2100</td><td> 1.331000</td><td>  1.4641000</td><td>7150</td><td>20</td><td>8770</td><td>NA</td></tr>\n",
       "\t<tr><td>24.038462</td><td>3.179655</td><td>1</td><td>0</td><td>0</td><td>0</td><td>1</td><td>0</td><td>0</td><td>0</td><td>1</td><td>0</td><td>17.0</td><td> 2.8900</td><td> 4.913000</td><td>  8.3521000</td><td>2550</td><td> 8</td><td>9480</td><td>NA</td></tr>\n",
       "\t<tr><td>13.846154</td><td>2.628007</td><td>0</td><td>0</td><td>0</td><td>0</td><td>1</td><td>0</td><td>0</td><td>0</td><td>1</td><td>0</td><td>10.0</td><td> 1.0000</td><td> 1.000000</td><td>  1.0000000</td><td> 800</td><td> 2</td><td> 770</td><td>NA</td></tr>\n",
       "\t<tr><td>14.769231</td><td>2.692546</td><td>0</td><td>0</td><td>0</td><td>0</td><td>1</td><td>0</td><td>0</td><td>0</td><td>1</td><td>0</td><td> 9.0</td><td> 0.8100</td><td> 0.729000</td><td>  0.6561000</td><td>4700</td><td>16</td><td>4970</td><td>NA</td></tr>\n",
       "\t<tr><td>23.076923</td><td>3.138833</td><td>1</td><td>0</td><td>0</td><td>1</td><td>0</td><td>0</td><td>0</td><td>0</td><td>1</td><td>0</td><td>12.0</td><td> 1.4400</td><td> 1.728000</td><td>  2.0736000</td><td>4110</td><td>13</td><td>8680</td><td>NA</td></tr>\n",
       "\t<tr><td>38.461538</td><td>3.649659</td><td>0</td><td>0</td><td>0</td><td>0</td><td>0</td><td>1</td><td>0</td><td>0</td><td>1</td><td>0</td><td>11.0</td><td> 1.2100</td><td> 1.331000</td><td>  1.4641000</td><td>1550</td><td> 4</td><td>3680</td><td>NA</td></tr>\n",
       "\t<tr><td>32.967033</td><td>3.495508</td><td>0</td><td>0</td><td>1</td><td>0</td><td>0</td><td>0</td><td>0</td><td>0</td><td>1</td><td>0</td><td>10.0</td><td> 1.0000</td><td> 1.000000</td><td>  1.0000000</td><td>2920</td><td> 9</td><td>6570</td><td>NA</td></tr>\n",
       "\t<tr><td>17.307692</td><td>2.851151</td><td>0</td><td>0</td><td>0</td><td>0</td><td>0</td><td>1</td><td>0</td><td>0</td><td>1</td><td>0</td><td>14.0</td><td> 1.9600</td><td> 2.744000</td><td>  3.8416000</td><td>1610</td><td> 5</td><td>7460</td><td>NA</td></tr>\n",
       "</tbody>\n",
       "</table>\n"
      ],
      "text/latex": [
       "A data.frame: 5150 × 20\n",
       "\\begin{tabular}{llllllllllllllllllll}\n",
       " salario & lwage & sex & shs & hsg & scl & clg & ad & mw & so & we & ne & exp1 & exp2 & exp3 & exp4 & occ & occ2 & ind & dummy\\\\\n",
       " <dbl> & <dbl> & <int> & <int> & <int> & <int> & <int> & <int> & <int> & <int> & <int> & <int> & <dbl> & <dbl> & <dbl> & <dbl> & <dbl> & <int> & <dbl> & <chr>\\\\\n",
       "\\hline\n",
       "\t  9.615385 & 2.263364 & 1 & 0 & 0 & 0 & 1 & 0 & 0 & 0 & 0 & 1 &  7.0 &  0.4900 &  0.343000 &   0.24010000 & 3600 & 11 & 8370 & NA\\\\\n",
       "\t 48.076923 & 3.872802 & 0 & 0 & 0 & 0 & 1 & 0 & 0 & 0 & 0 & 1 & 31.0 &  9.6100 & 29.791000 &  92.35210000 & 3050 & 10 & 5070 & NA\\\\\n",
       "\t 11.057692 & 2.403126 & 0 & 0 & 1 & 0 & 0 & 0 & 0 & 0 & 0 & 1 & 18.0 &  3.2400 &  5.832000 &  10.49760000 & 6260 & 19 &  770 & NA\\\\\n",
       "\t 13.942308 & 2.634928 & 1 & 0 & 0 & 0 & 0 & 1 & 0 & 0 & 0 & 1 & 25.0 &  6.2500 & 15.625000 &  39.06250000 &  420 &  1 & 6990 & NA\\\\\n",
       "\t 28.846154 & 3.361977 & 1 & 0 & 0 & 0 & 1 & 0 & 0 & 0 & 0 & 1 & 22.0 &  4.8400 & 10.648000 &  23.42560000 & 2015 &  6 & 9470 & NA\\\\\n",
       "\t 11.730769 & 2.462215 & 1 & 0 & 0 & 0 & 1 & 0 & 0 & 0 & 0 & 1 &  1.0 &  0.0100 &  0.001000 &   0.00010000 & 1650 &  5 & 7460 & NA\\\\\n",
       "\t 19.230769 & 2.956512 & 1 & 0 & 1 & 0 & 0 & 0 & 0 & 0 & 0 & 1 & 42.0 & 17.6400 & 74.088000 & 311.16960000 & 5120 & 17 & 7280 & NA\\\\\n",
       "\t 19.230769 & 2.956512 & 0 & 0 & 1 & 0 & 0 & 0 & 0 & 0 & 0 & 1 & 37.0 & 13.6900 & 50.653000 & 187.41610000 & 5240 & 17 & 5680 & NA\\\\\n",
       "\t 12.000000 & 2.484907 & 1 & 0 & 1 & 0 & 0 & 0 & 0 & 0 & 0 & 1 & 31.0 &  9.6100 & 29.791000 &  92.35210000 & 4040 & 13 & 8590 & NA\\\\\n",
       "\t 19.230769 & 2.956512 & 1 & 0 & 0 & 0 & 1 & 0 & 0 & 0 & 0 & 1 &  4.0 &  0.1600 &  0.064000 &   0.02560000 & 3255 & 10 & 8190 & NA\\\\\n",
       "\t 17.307692 & 2.851151 & 1 & 0 & 1 & 0 & 0 & 0 & 0 & 0 & 0 & 1 &  7.0 &  0.4900 &  0.343000 &   0.24010000 & 4020 & 13 & 8270 & NA\\\\\n",
       "\t 12.019231 & 2.486508 & 0 & 0 & 1 & 0 & 0 & 0 & 0 & 0 & 0 & 1 & 30.0 &  9.0000 & 27.000000 &  81.00000000 & 4220 & 14 & 8270 & NA\\\\\n",
       "\t 12.019231 & 2.486508 & 1 & 0 & 0 & 1 & 0 & 0 & 0 & 0 & 0 & 1 &  5.5 &  0.3025 &  0.166375 &   0.09150625 & 3600 & 11 & 8270 & NA\\\\\n",
       "\t 13.461538 & 2.599837 & 1 & 0 & 0 & 1 & 0 & 0 & 0 & 0 & 0 & 1 & 20.5 &  4.2025 &  8.615125 &  17.66100625 & 3645 & 11 & 8190 & NA\\\\\n",
       "\t 16.346154 & 2.793993 & 1 & 0 & 0 & 0 & 1 & 0 & 0 & 0 & 0 & 1 & 25.0 &  6.2500 & 15.625000 &  39.06250000 &  110 &  1 & 7870 & NA\\\\\n",
       "\t 27.884615 & 3.328075 & 0 & 0 & 1 & 0 & 0 & 0 & 0 & 0 & 0 & 1 & 16.0 &  2.5600 &  4.096000 &   6.55360000 & 6355 & 19 &  770 & NA\\\\\n",
       "\t 21.600000 & 3.072693 & 0 & 0 & 1 & 0 & 0 & 0 & 0 & 0 & 0 & 1 & 27.0 &  7.2900 & 19.683000 &  53.14410000 & 6320 & 19 &  770 & NA\\\\\n",
       "\t  8.653846 & 2.158004 & 0 & 0 & 0 & 1 & 0 & 0 & 0 & 0 & 0 & 1 &  3.5 &  0.1225 &  0.042875 &   0.01500625 & 7410 & 20 &  570 & NA\\\\\n",
       "\t 19.230769 & 2.956512 & 0 & 0 & 1 & 0 & 0 & 0 & 0 & 0 & 0 & 1 &  6.0 &  0.3600 &  0.216000 &   0.12960000 & 7000 & 20 & 4690 & NA\\\\\n",
       "\t 13.186813 & 2.579217 & 0 & 0 & 1 & 0 & 0 & 0 & 0 & 0 & 0 & 1 &  8.0 &  0.6400 &  0.512000 &   0.40960000 & 4000 & 13 & 8680 & NA\\\\\n",
       "\t 10.683761 & 2.368725 & 1 & 0 & 0 & 1 & 0 & 0 & 0 & 0 & 0 & 1 &  6.5 &  0.4225 &  0.274625 &   0.17850625 & 4300 & 15 & 8590 & NA\\\\\n",
       "\t 11.538462 & 2.445686 & 1 & 0 & 0 & 1 & 0 & 0 & 0 & 0 & 0 & 1 &  8.5 &  0.7225 &  0.614125 &   0.52200625 & 3600 & 11 & 8190 & NA\\\\\n",
       "\t 17.788462 & 2.878550 & 1 & 0 & 0 & 0 & 0 & 1 & 0 & 0 & 0 & 1 & 11.0 &  1.2100 &  1.331000 &   1.46410000 & 2310 &  8 & 7860 & NA\\\\\n",
       "\t 19.230769 & 2.956512 & 0 & 0 & 0 & 0 & 1 & 0 & 0 & 0 & 0 & 1 & 11.0 &  1.2100 &  1.331000 &   1.46410000 & 6200 & 19 &  770 & NA\\\\\n",
       "\t 16.304348 & 2.791432 & 1 & 0 & 0 & 1 & 0 & 0 & 0 & 0 & 0 & 1 & 24.5 &  6.0025 & 14.706125 &  36.03000625 &   20 &  1 & 5480 & NA\\\\\n",
       "\t 19.230769 & 2.956512 & 0 & 0 & 1 & 0 & 0 & 0 & 0 & 0 & 0 & 1 &  8.0 &  0.6400 &  0.512000 &   0.40960000 & 4800 & 16 & 7390 & NA\\\\\n",
       "\t 14.423077 & 2.668829 & 1 & 0 & 1 & 0 & 0 & 0 & 0 & 0 & 0 & 1 &  5.0 &  0.2500 &  0.125000 &   0.06250000 &  430 &  1 & 7390 & NA\\\\\n",
       "\t 12.000000 & 2.484907 & 0 & 0 & 0 & 1 & 0 & 0 & 0 & 0 & 0 & 1 &  4.5 &  0.2025 &  0.091125 &   0.04100625 & 6330 & 19 &  770 & NA\\\\\n",
       "\t 16.826923 & 2.822980 & 0 & 0 & 0 & 0 & 1 & 0 & 0 & 0 & 0 & 1 &  8.0 &  0.6400 &  0.512000 &   0.40960000 & 5400 & 17 & 4870 & NA\\\\\n",
       "\t 19.670330 & 2.979111 & 0 & 0 & 0 & 0 & 1 & 0 & 0 & 0 & 0 & 1 & 26.0 &  6.7600 & 17.576000 &  45.69760000 & 6230 & 19 & 6570 & NA\\\\\n",
       "\t ⋮ & ⋮ & ⋮ & ⋮ & ⋮ & ⋮ & ⋮ & ⋮ & ⋮ & ⋮ & ⋮ & ⋮ & ⋮ & ⋮ & ⋮ & ⋮ & ⋮ & ⋮ & ⋮ & ⋮\\\\\n",
       "\t 13.986014 & 2.638058 & 1 & 0 & 0 & 0 & 0 & 1 & 0 & 0 & 1 & 0 &  7.0 &  0.4900 &  0.343000 &   0.2401000 & 3820 & 12 & 9590 & NA\\\\\n",
       "\t 15.865385 & 2.764140 & 0 & 0 & 0 & 0 & 0 & 1 & 0 & 0 & 1 & 0 &  2.0 &  0.0400 &  0.008000 &   0.0016000 & 2200 &  8 & 7870 & NA\\\\\n",
       "\t 38.461538 & 3.649659 & 1 & 0 & 0 & 1 & 0 & 0 & 0 & 0 & 1 & 0 &  7.5 &  0.5625 &  0.421875 &   0.3164062 &  220 &  1 &  770 & NA\\\\\n",
       "\t 28.846154 & 3.361977 & 0 & 0 & 0 & 0 & 1 & 0 & 0 & 0 & 1 & 0 &  5.0 &  0.2500 &  0.125000 &   0.0625000 & 1360 &  4 &  770 & NA\\\\\n",
       "\t 24.475524 & 3.197674 & 1 & 0 & 0 & 0 & 0 & 1 & 0 & 0 & 1 & 0 & 24.0 &  5.7600 & 13.824000 &  33.1776000 & 2310 &  8 & 7860 & NA\\\\\n",
       "\t 27.884615 & 3.328075 & 0 & 0 & 0 & 1 & 0 & 0 & 0 & 0 & 1 & 0 & 28.5 &  8.1225 & 23.149125 &  65.9750063 & 8140 & 21 &  770 & NA\\\\\n",
       "\t  8.653846 & 2.158004 & 1 & 0 & 1 & 0 & 0 & 0 & 0 & 0 & 1 & 0 & 25.0 &  6.2500 & 15.625000 &  39.0625000 & 3930 & 12 & 7680 & NA\\\\\n",
       "\t 12.019231 & 2.486508 & 0 & 0 & 1 & 0 & 0 & 0 & 0 & 0 & 1 & 0 & 19.0 &  3.6100 &  6.859000 &  13.0321000 & 2750 &  9 & 8560 & NA\\\\\n",
       "\t 38.461538 & 3.649659 & 0 & 0 & 0 & 0 & 1 & 0 & 0 & 0 & 1 & 0 &  8.0 &  0.6400 &  0.512000 &   0.4096000 &  710 &  2 & 6870 & NA\\\\\n",
       "\t 12.500000 & 2.525729 & 1 & 0 & 1 & 0 & 0 & 0 & 0 & 0 & 1 & 0 & 12.0 &  1.4400 &  1.728000 &   2.0736000 & 4010 & 13 & 8680 & NA\\\\\n",
       "\t 35.256410 & 3.562647 & 0 & 0 & 0 & 0 & 0 & 1 & 0 & 0 & 1 & 0 &  6.0 &  0.3600 &  0.216000 &   0.1296000 & 2320 &  8 & 7860 & NA\\\\\n",
       "\t 48.076923 & 3.872802 & 1 & 0 & 0 & 0 & 1 & 0 & 0 & 0 & 1 & 0 & 25.0 &  6.2500 & 15.625000 &  39.0625000 & 3255 & 10 & 8170 & NA\\\\\n",
       "\t  9.615385 & 2.263364 & 0 & 0 & 1 & 0 & 0 & 0 & 0 & 0 & 1 & 0 & 20.0 &  4.0000 &  8.000000 &  16.0000000 & 4110 & 13 & 8680 & NA\\\\\n",
       "\t 12.019231 & 2.486508 & 0 & 0 & 1 & 0 & 0 & 0 & 0 & 0 & 1 & 0 & 17.0 &  2.8900 &  4.913000 &   8.3521000 & 9620 & 22 & 6290 & NA\\\\\n",
       "\t 12.019231 & 2.486508 & 0 & 0 & 0 & 1 & 0 & 0 & 0 & 0 & 1 & 0 & 31.5 &  9.9225 & 31.255875 &  98.4560063 & 5510 & 17 & 6380 & NA\\\\\n",
       "\t 12.980769 & 2.563469 & 0 & 0 & 1 & 0 & 0 & 0 & 0 & 0 & 1 & 0 & 15.0 &  2.2500 &  3.375000 &   5.0625000 & 2010 &  6 & 9370 & NA\\\\\n",
       "\t 26.442308 & 3.274965 & 1 & 0 & 0 & 0 & 1 & 0 & 0 & 0 & 1 & 0 & 34.0 & 11.5600 & 39.304000 & 133.6336000 & 2310 &  8 & 7860 & NA\\\\\n",
       "\t 13.461538 & 2.599837 & 1 & 0 & 1 & 0 & 0 & 0 & 0 & 0 & 1 & 0 &  8.0 &  0.6400 &  0.512000 &   0.4096000 & 4720 & 16 & 8590 & NA\\\\\n",
       "\t 19.711538 & 2.981204 & 1 & 0 & 0 & 0 & 0 & 1 & 0 & 0 & 1 & 0 &  8.0 &  0.6400 &  0.512000 &   0.4096000 & 2000 &  6 & 8090 & NA\\\\\n",
       "\t 21.153846 & 3.051822 & 0 & 0 & 0 & 0 & 1 & 0 & 0 & 0 & 1 & 0 & 28.0 &  7.8400 & 21.952000 &  61.4656000 &   40 &  1 & 9170 & NA\\\\\n",
       "\t 45.546559 & 3.818735 & 1 & 0 & 0 & 0 & 1 & 0 & 0 & 0 & 1 & 0 &  5.0 &  0.2500 &  0.125000 &   0.0625000 & 3255 & 10 & 8190 & NA\\\\\n",
       "\t 22.596154 & 3.117780 & 0 & 0 & 1 & 0 & 0 & 0 & 0 & 0 & 1 & 0 & 15.0 &  2.2500 &  3.375000 &   5.0625000 & 9620 & 22 & 5390 & NA\\\\\n",
       "\t 16.826923 & 2.822980 & 0 & 0 & 1 & 0 & 0 & 0 & 0 & 0 & 1 & 0 & 11.0 &  1.2100 &  1.331000 &   1.4641000 & 7150 & 20 & 8770 & NA\\\\\n",
       "\t 24.038462 & 3.179655 & 1 & 0 & 0 & 0 & 1 & 0 & 0 & 0 & 1 & 0 & 17.0 &  2.8900 &  4.913000 &   8.3521000 & 2550 &  8 & 9480 & NA\\\\\n",
       "\t 13.846154 & 2.628007 & 0 & 0 & 0 & 0 & 1 & 0 & 0 & 0 & 1 & 0 & 10.0 &  1.0000 &  1.000000 &   1.0000000 &  800 &  2 &  770 & NA\\\\\n",
       "\t 14.769231 & 2.692546 & 0 & 0 & 0 & 0 & 1 & 0 & 0 & 0 & 1 & 0 &  9.0 &  0.8100 &  0.729000 &   0.6561000 & 4700 & 16 & 4970 & NA\\\\\n",
       "\t 23.076923 & 3.138833 & 1 & 0 & 0 & 1 & 0 & 0 & 0 & 0 & 1 & 0 & 12.0 &  1.4400 &  1.728000 &   2.0736000 & 4110 & 13 & 8680 & NA\\\\\n",
       "\t 38.461538 & 3.649659 & 0 & 0 & 0 & 0 & 0 & 1 & 0 & 0 & 1 & 0 & 11.0 &  1.2100 &  1.331000 &   1.4641000 & 1550 &  4 & 3680 & NA\\\\\n",
       "\t 32.967033 & 3.495508 & 0 & 0 & 1 & 0 & 0 & 0 & 0 & 0 & 1 & 0 & 10.0 &  1.0000 &  1.000000 &   1.0000000 & 2920 &  9 & 6570 & NA\\\\\n",
       "\t 17.307692 & 2.851151 & 0 & 0 & 0 & 0 & 0 & 1 & 0 & 0 & 1 & 0 & 14.0 &  1.9600 &  2.744000 &   3.8416000 & 1610 &  5 & 7460 & NA\\\\\n",
       "\\end{tabular}\n"
      ],
      "text/markdown": [
       "\n",
       "A data.frame: 5150 × 20\n",
       "\n",
       "| salario &lt;dbl&gt; | lwage &lt;dbl&gt; | sex &lt;int&gt; | shs &lt;int&gt; | hsg &lt;int&gt; | scl &lt;int&gt; | clg &lt;int&gt; | ad &lt;int&gt; | mw &lt;int&gt; | so &lt;int&gt; | we &lt;int&gt; | ne &lt;int&gt; | exp1 &lt;dbl&gt; | exp2 &lt;dbl&gt; | exp3 &lt;dbl&gt; | exp4 &lt;dbl&gt; | occ &lt;dbl&gt; | occ2 &lt;int&gt; | ind &lt;dbl&gt; | dummy &lt;chr&gt; |\n",
       "|---|---|---|---|---|---|---|---|---|---|---|---|---|---|---|---|---|---|---|---|\n",
       "|  9.615385 | 2.263364 | 1 | 0 | 0 | 0 | 1 | 0 | 0 | 0 | 0 | 1 |  7.0 |  0.4900 |  0.343000 |   0.24010000 | 3600 | 11 | 8370 | NA |\n",
       "| 48.076923 | 3.872802 | 0 | 0 | 0 | 0 | 1 | 0 | 0 | 0 | 0 | 1 | 31.0 |  9.6100 | 29.791000 |  92.35210000 | 3050 | 10 | 5070 | NA |\n",
       "| 11.057692 | 2.403126 | 0 | 0 | 1 | 0 | 0 | 0 | 0 | 0 | 0 | 1 | 18.0 |  3.2400 |  5.832000 |  10.49760000 | 6260 | 19 |  770 | NA |\n",
       "| 13.942308 | 2.634928 | 1 | 0 | 0 | 0 | 0 | 1 | 0 | 0 | 0 | 1 | 25.0 |  6.2500 | 15.625000 |  39.06250000 |  420 |  1 | 6990 | NA |\n",
       "| 28.846154 | 3.361977 | 1 | 0 | 0 | 0 | 1 | 0 | 0 | 0 | 0 | 1 | 22.0 |  4.8400 | 10.648000 |  23.42560000 | 2015 |  6 | 9470 | NA |\n",
       "| 11.730769 | 2.462215 | 1 | 0 | 0 | 0 | 1 | 0 | 0 | 0 | 0 | 1 |  1.0 |  0.0100 |  0.001000 |   0.00010000 | 1650 |  5 | 7460 | NA |\n",
       "| 19.230769 | 2.956512 | 1 | 0 | 1 | 0 | 0 | 0 | 0 | 0 | 0 | 1 | 42.0 | 17.6400 | 74.088000 | 311.16960000 | 5120 | 17 | 7280 | NA |\n",
       "| 19.230769 | 2.956512 | 0 | 0 | 1 | 0 | 0 | 0 | 0 | 0 | 0 | 1 | 37.0 | 13.6900 | 50.653000 | 187.41610000 | 5240 | 17 | 5680 | NA |\n",
       "| 12.000000 | 2.484907 | 1 | 0 | 1 | 0 | 0 | 0 | 0 | 0 | 0 | 1 | 31.0 |  9.6100 | 29.791000 |  92.35210000 | 4040 | 13 | 8590 | NA |\n",
       "| 19.230769 | 2.956512 | 1 | 0 | 0 | 0 | 1 | 0 | 0 | 0 | 0 | 1 |  4.0 |  0.1600 |  0.064000 |   0.02560000 | 3255 | 10 | 8190 | NA |\n",
       "| 17.307692 | 2.851151 | 1 | 0 | 1 | 0 | 0 | 0 | 0 | 0 | 0 | 1 |  7.0 |  0.4900 |  0.343000 |   0.24010000 | 4020 | 13 | 8270 | NA |\n",
       "| 12.019231 | 2.486508 | 0 | 0 | 1 | 0 | 0 | 0 | 0 | 0 | 0 | 1 | 30.0 |  9.0000 | 27.000000 |  81.00000000 | 4220 | 14 | 8270 | NA |\n",
       "| 12.019231 | 2.486508 | 1 | 0 | 0 | 1 | 0 | 0 | 0 | 0 | 0 | 1 |  5.5 |  0.3025 |  0.166375 |   0.09150625 | 3600 | 11 | 8270 | NA |\n",
       "| 13.461538 | 2.599837 | 1 | 0 | 0 | 1 | 0 | 0 | 0 | 0 | 0 | 1 | 20.5 |  4.2025 |  8.615125 |  17.66100625 | 3645 | 11 | 8190 | NA |\n",
       "| 16.346154 | 2.793993 | 1 | 0 | 0 | 0 | 1 | 0 | 0 | 0 | 0 | 1 | 25.0 |  6.2500 | 15.625000 |  39.06250000 |  110 |  1 | 7870 | NA |\n",
       "| 27.884615 | 3.328075 | 0 | 0 | 1 | 0 | 0 | 0 | 0 | 0 | 0 | 1 | 16.0 |  2.5600 |  4.096000 |   6.55360000 | 6355 | 19 |  770 | NA |\n",
       "| 21.600000 | 3.072693 | 0 | 0 | 1 | 0 | 0 | 0 | 0 | 0 | 0 | 1 | 27.0 |  7.2900 | 19.683000 |  53.14410000 | 6320 | 19 |  770 | NA |\n",
       "|  8.653846 | 2.158004 | 0 | 0 | 0 | 1 | 0 | 0 | 0 | 0 | 0 | 1 |  3.5 |  0.1225 |  0.042875 |   0.01500625 | 7410 | 20 |  570 | NA |\n",
       "| 19.230769 | 2.956512 | 0 | 0 | 1 | 0 | 0 | 0 | 0 | 0 | 0 | 1 |  6.0 |  0.3600 |  0.216000 |   0.12960000 | 7000 | 20 | 4690 | NA |\n",
       "| 13.186813 | 2.579217 | 0 | 0 | 1 | 0 | 0 | 0 | 0 | 0 | 0 | 1 |  8.0 |  0.6400 |  0.512000 |   0.40960000 | 4000 | 13 | 8680 | NA |\n",
       "| 10.683761 | 2.368725 | 1 | 0 | 0 | 1 | 0 | 0 | 0 | 0 | 0 | 1 |  6.5 |  0.4225 |  0.274625 |   0.17850625 | 4300 | 15 | 8590 | NA |\n",
       "| 11.538462 | 2.445686 | 1 | 0 | 0 | 1 | 0 | 0 | 0 | 0 | 0 | 1 |  8.5 |  0.7225 |  0.614125 |   0.52200625 | 3600 | 11 | 8190 | NA |\n",
       "| 17.788462 | 2.878550 | 1 | 0 | 0 | 0 | 0 | 1 | 0 | 0 | 0 | 1 | 11.0 |  1.2100 |  1.331000 |   1.46410000 | 2310 |  8 | 7860 | NA |\n",
       "| 19.230769 | 2.956512 | 0 | 0 | 0 | 0 | 1 | 0 | 0 | 0 | 0 | 1 | 11.0 |  1.2100 |  1.331000 |   1.46410000 | 6200 | 19 |  770 | NA |\n",
       "| 16.304348 | 2.791432 | 1 | 0 | 0 | 1 | 0 | 0 | 0 | 0 | 0 | 1 | 24.5 |  6.0025 | 14.706125 |  36.03000625 |   20 |  1 | 5480 | NA |\n",
       "| 19.230769 | 2.956512 | 0 | 0 | 1 | 0 | 0 | 0 | 0 | 0 | 0 | 1 |  8.0 |  0.6400 |  0.512000 |   0.40960000 | 4800 | 16 | 7390 | NA |\n",
       "| 14.423077 | 2.668829 | 1 | 0 | 1 | 0 | 0 | 0 | 0 | 0 | 0 | 1 |  5.0 |  0.2500 |  0.125000 |   0.06250000 |  430 |  1 | 7390 | NA |\n",
       "| 12.000000 | 2.484907 | 0 | 0 | 0 | 1 | 0 | 0 | 0 | 0 | 0 | 1 |  4.5 |  0.2025 |  0.091125 |   0.04100625 | 6330 | 19 |  770 | NA |\n",
       "| 16.826923 | 2.822980 | 0 | 0 | 0 | 0 | 1 | 0 | 0 | 0 | 0 | 1 |  8.0 |  0.6400 |  0.512000 |   0.40960000 | 5400 | 17 | 4870 | NA |\n",
       "| 19.670330 | 2.979111 | 0 | 0 | 0 | 0 | 1 | 0 | 0 | 0 | 0 | 1 | 26.0 |  6.7600 | 17.576000 |  45.69760000 | 6230 | 19 | 6570 | NA |\n",
       "| ⋮ | ⋮ | ⋮ | ⋮ | ⋮ | ⋮ | ⋮ | ⋮ | ⋮ | ⋮ | ⋮ | ⋮ | ⋮ | ⋮ | ⋮ | ⋮ | ⋮ | ⋮ | ⋮ | ⋮ |\n",
       "| 13.986014 | 2.638058 | 1 | 0 | 0 | 0 | 0 | 1 | 0 | 0 | 1 | 0 |  7.0 |  0.4900 |  0.343000 |   0.2401000 | 3820 | 12 | 9590 | NA |\n",
       "| 15.865385 | 2.764140 | 0 | 0 | 0 | 0 | 0 | 1 | 0 | 0 | 1 | 0 |  2.0 |  0.0400 |  0.008000 |   0.0016000 | 2200 |  8 | 7870 | NA |\n",
       "| 38.461538 | 3.649659 | 1 | 0 | 0 | 1 | 0 | 0 | 0 | 0 | 1 | 0 |  7.5 |  0.5625 |  0.421875 |   0.3164062 |  220 |  1 |  770 | NA |\n",
       "| 28.846154 | 3.361977 | 0 | 0 | 0 | 0 | 1 | 0 | 0 | 0 | 1 | 0 |  5.0 |  0.2500 |  0.125000 |   0.0625000 | 1360 |  4 |  770 | NA |\n",
       "| 24.475524 | 3.197674 | 1 | 0 | 0 | 0 | 0 | 1 | 0 | 0 | 1 | 0 | 24.0 |  5.7600 | 13.824000 |  33.1776000 | 2310 |  8 | 7860 | NA |\n",
       "| 27.884615 | 3.328075 | 0 | 0 | 0 | 1 | 0 | 0 | 0 | 0 | 1 | 0 | 28.5 |  8.1225 | 23.149125 |  65.9750063 | 8140 | 21 |  770 | NA |\n",
       "|  8.653846 | 2.158004 | 1 | 0 | 1 | 0 | 0 | 0 | 0 | 0 | 1 | 0 | 25.0 |  6.2500 | 15.625000 |  39.0625000 | 3930 | 12 | 7680 | NA |\n",
       "| 12.019231 | 2.486508 | 0 | 0 | 1 | 0 | 0 | 0 | 0 | 0 | 1 | 0 | 19.0 |  3.6100 |  6.859000 |  13.0321000 | 2750 |  9 | 8560 | NA |\n",
       "| 38.461538 | 3.649659 | 0 | 0 | 0 | 0 | 1 | 0 | 0 | 0 | 1 | 0 |  8.0 |  0.6400 |  0.512000 |   0.4096000 |  710 |  2 | 6870 | NA |\n",
       "| 12.500000 | 2.525729 | 1 | 0 | 1 | 0 | 0 | 0 | 0 | 0 | 1 | 0 | 12.0 |  1.4400 |  1.728000 |   2.0736000 | 4010 | 13 | 8680 | NA |\n",
       "| 35.256410 | 3.562647 | 0 | 0 | 0 | 0 | 0 | 1 | 0 | 0 | 1 | 0 |  6.0 |  0.3600 |  0.216000 |   0.1296000 | 2320 |  8 | 7860 | NA |\n",
       "| 48.076923 | 3.872802 | 1 | 0 | 0 | 0 | 1 | 0 | 0 | 0 | 1 | 0 | 25.0 |  6.2500 | 15.625000 |  39.0625000 | 3255 | 10 | 8170 | NA |\n",
       "|  9.615385 | 2.263364 | 0 | 0 | 1 | 0 | 0 | 0 | 0 | 0 | 1 | 0 | 20.0 |  4.0000 |  8.000000 |  16.0000000 | 4110 | 13 | 8680 | NA |\n",
       "| 12.019231 | 2.486508 | 0 | 0 | 1 | 0 | 0 | 0 | 0 | 0 | 1 | 0 | 17.0 |  2.8900 |  4.913000 |   8.3521000 | 9620 | 22 | 6290 | NA |\n",
       "| 12.019231 | 2.486508 | 0 | 0 | 0 | 1 | 0 | 0 | 0 | 0 | 1 | 0 | 31.5 |  9.9225 | 31.255875 |  98.4560063 | 5510 | 17 | 6380 | NA |\n",
       "| 12.980769 | 2.563469 | 0 | 0 | 1 | 0 | 0 | 0 | 0 | 0 | 1 | 0 | 15.0 |  2.2500 |  3.375000 |   5.0625000 | 2010 |  6 | 9370 | NA |\n",
       "| 26.442308 | 3.274965 | 1 | 0 | 0 | 0 | 1 | 0 | 0 | 0 | 1 | 0 | 34.0 | 11.5600 | 39.304000 | 133.6336000 | 2310 |  8 | 7860 | NA |\n",
       "| 13.461538 | 2.599837 | 1 | 0 | 1 | 0 | 0 | 0 | 0 | 0 | 1 | 0 |  8.0 |  0.6400 |  0.512000 |   0.4096000 | 4720 | 16 | 8590 | NA |\n",
       "| 19.711538 | 2.981204 | 1 | 0 | 0 | 0 | 0 | 1 | 0 | 0 | 1 | 0 |  8.0 |  0.6400 |  0.512000 |   0.4096000 | 2000 |  6 | 8090 | NA |\n",
       "| 21.153846 | 3.051822 | 0 | 0 | 0 | 0 | 1 | 0 | 0 | 0 | 1 | 0 | 28.0 |  7.8400 | 21.952000 |  61.4656000 |   40 |  1 | 9170 | NA |\n",
       "| 45.546559 | 3.818735 | 1 | 0 | 0 | 0 | 1 | 0 | 0 | 0 | 1 | 0 |  5.0 |  0.2500 |  0.125000 |   0.0625000 | 3255 | 10 | 8190 | NA |\n",
       "| 22.596154 | 3.117780 | 0 | 0 | 1 | 0 | 0 | 0 | 0 | 0 | 1 | 0 | 15.0 |  2.2500 |  3.375000 |   5.0625000 | 9620 | 22 | 5390 | NA |\n",
       "| 16.826923 | 2.822980 | 0 | 0 | 1 | 0 | 0 | 0 | 0 | 0 | 1 | 0 | 11.0 |  1.2100 |  1.331000 |   1.4641000 | 7150 | 20 | 8770 | NA |\n",
       "| 24.038462 | 3.179655 | 1 | 0 | 0 | 0 | 1 | 0 | 0 | 0 | 1 | 0 | 17.0 |  2.8900 |  4.913000 |   8.3521000 | 2550 |  8 | 9480 | NA |\n",
       "| 13.846154 | 2.628007 | 0 | 0 | 0 | 0 | 1 | 0 | 0 | 0 | 1 | 0 | 10.0 |  1.0000 |  1.000000 |   1.0000000 |  800 |  2 |  770 | NA |\n",
       "| 14.769231 | 2.692546 | 0 | 0 | 0 | 0 | 1 | 0 | 0 | 0 | 1 | 0 |  9.0 |  0.8100 |  0.729000 |   0.6561000 | 4700 | 16 | 4970 | NA |\n",
       "| 23.076923 | 3.138833 | 1 | 0 | 0 | 1 | 0 | 0 | 0 | 0 | 1 | 0 | 12.0 |  1.4400 |  1.728000 |   2.0736000 | 4110 | 13 | 8680 | NA |\n",
       "| 38.461538 | 3.649659 | 0 | 0 | 0 | 0 | 0 | 1 | 0 | 0 | 1 | 0 | 11.0 |  1.2100 |  1.331000 |   1.4641000 | 1550 |  4 | 3680 | NA |\n",
       "| 32.967033 | 3.495508 | 0 | 0 | 1 | 0 | 0 | 0 | 0 | 0 | 1 | 0 | 10.0 |  1.0000 |  1.000000 |   1.0000000 | 2920 |  9 | 6570 | NA |\n",
       "| 17.307692 | 2.851151 | 0 | 0 | 0 | 0 | 0 | 1 | 0 | 0 | 1 | 0 | 14.0 |  1.9600 |  2.744000 |   3.8416000 | 1610 |  5 | 7460 | NA |\n",
       "\n"
      ],
      "text/plain": [
       "     salario   lwage    sex shs hsg scl clg ad mw so we ne exp1 exp2   \n",
       "1     9.615385 2.263364 1   0   0   0   1   0  0  0  0  1   7.0  0.4900\n",
       "2    48.076923 3.872802 0   0   0   0   1   0  0  0  0  1  31.0  9.6100\n",
       "3    11.057692 2.403126 0   0   1   0   0   0  0  0  0  1  18.0  3.2400\n",
       "4    13.942308 2.634928 1   0   0   0   0   1  0  0  0  1  25.0  6.2500\n",
       "5    28.846154 3.361977 1   0   0   0   1   0  0  0  0  1  22.0  4.8400\n",
       "6    11.730769 2.462215 1   0   0   0   1   0  0  0  0  1   1.0  0.0100\n",
       "7    19.230769 2.956512 1   0   1   0   0   0  0  0  0  1  42.0 17.6400\n",
       "8    19.230769 2.956512 0   0   1   0   0   0  0  0  0  1  37.0 13.6900\n",
       "9    12.000000 2.484907 1   0   1   0   0   0  0  0  0  1  31.0  9.6100\n",
       "10   19.230769 2.956512 1   0   0   0   1   0  0  0  0  1   4.0  0.1600\n",
       "11   17.307692 2.851151 1   0   1   0   0   0  0  0  0  1   7.0  0.4900\n",
       "12   12.019231 2.486508 0   0   1   0   0   0  0  0  0  1  30.0  9.0000\n",
       "13   12.019231 2.486508 1   0   0   1   0   0  0  0  0  1   5.5  0.3025\n",
       "14   13.461538 2.599837 1   0   0   1   0   0  0  0  0  1  20.5  4.2025\n",
       "15   16.346154 2.793993 1   0   0   0   1   0  0  0  0  1  25.0  6.2500\n",
       "16   27.884615 3.328075 0   0   1   0   0   0  0  0  0  1  16.0  2.5600\n",
       "17   21.600000 3.072693 0   0   1   0   0   0  0  0  0  1  27.0  7.2900\n",
       "18    8.653846 2.158004 0   0   0   1   0   0  0  0  0  1   3.5  0.1225\n",
       "19   19.230769 2.956512 0   0   1   0   0   0  0  0  0  1   6.0  0.3600\n",
       "20   13.186813 2.579217 0   0   1   0   0   0  0  0  0  1   8.0  0.6400\n",
       "21   10.683761 2.368725 1   0   0   1   0   0  0  0  0  1   6.5  0.4225\n",
       "22   11.538462 2.445686 1   0   0   1   0   0  0  0  0  1   8.5  0.7225\n",
       "23   17.788462 2.878550 1   0   0   0   0   1  0  0  0  1  11.0  1.2100\n",
       "24   19.230769 2.956512 0   0   0   0   1   0  0  0  0  1  11.0  1.2100\n",
       "25   16.304348 2.791432 1   0   0   1   0   0  0  0  0  1  24.5  6.0025\n",
       "26   19.230769 2.956512 0   0   1   0   0   0  0  0  0  1   8.0  0.6400\n",
       "27   14.423077 2.668829 1   0   1   0   0   0  0  0  0  1   5.0  0.2500\n",
       "28   12.000000 2.484907 0   0   0   1   0   0  0  0  0  1   4.5  0.2025\n",
       "29   16.826923 2.822980 0   0   0   0   1   0  0  0  0  1   8.0  0.6400\n",
       "30   19.670330 2.979111 0   0   0   0   1   0  0  0  0  1  26.0  6.7600\n",
       "⋮    ⋮         ⋮        ⋮   ⋮   ⋮   ⋮   ⋮   ⋮  ⋮  ⋮  ⋮  ⋮  ⋮    ⋮      \n",
       "5121 13.986014 2.638058 1   0   0   0   0   1  0  0  1  0   7.0  0.4900\n",
       "5122 15.865385 2.764140 0   0   0   0   0   1  0  0  1  0   2.0  0.0400\n",
       "5123 38.461538 3.649659 1   0   0   1   0   0  0  0  1  0   7.5  0.5625\n",
       "5124 28.846154 3.361977 0   0   0   0   1   0  0  0  1  0   5.0  0.2500\n",
       "5125 24.475524 3.197674 1   0   0   0   0   1  0  0  1  0  24.0  5.7600\n",
       "5126 27.884615 3.328075 0   0   0   1   0   0  0  0  1  0  28.5  8.1225\n",
       "5127  8.653846 2.158004 1   0   1   0   0   0  0  0  1  0  25.0  6.2500\n",
       "5128 12.019231 2.486508 0   0   1   0   0   0  0  0  1  0  19.0  3.6100\n",
       "5129 38.461538 3.649659 0   0   0   0   1   0  0  0  1  0   8.0  0.6400\n",
       "5130 12.500000 2.525729 1   0   1   0   0   0  0  0  1  0  12.0  1.4400\n",
       "5131 35.256410 3.562647 0   0   0   0   0   1  0  0  1  0   6.0  0.3600\n",
       "5132 48.076923 3.872802 1   0   0   0   1   0  0  0  1  0  25.0  6.2500\n",
       "5133  9.615385 2.263364 0   0   1   0   0   0  0  0  1  0  20.0  4.0000\n",
       "5134 12.019231 2.486508 0   0   1   0   0   0  0  0  1  0  17.0  2.8900\n",
       "5135 12.019231 2.486508 0   0   0   1   0   0  0  0  1  0  31.5  9.9225\n",
       "5136 12.980769 2.563469 0   0   1   0   0   0  0  0  1  0  15.0  2.2500\n",
       "5137 26.442308 3.274965 1   0   0   0   1   0  0  0  1  0  34.0 11.5600\n",
       "5138 13.461538 2.599837 1   0   1   0   0   0  0  0  1  0   8.0  0.6400\n",
       "5139 19.711538 2.981204 1   0   0   0   0   1  0  0  1  0   8.0  0.6400\n",
       "5140 21.153846 3.051822 0   0   0   0   1   0  0  0  1  0  28.0  7.8400\n",
       "5141 45.546559 3.818735 1   0   0   0   1   0  0  0  1  0   5.0  0.2500\n",
       "5142 22.596154 3.117780 0   0   1   0   0   0  0  0  1  0  15.0  2.2500\n",
       "5143 16.826923 2.822980 0   0   1   0   0   0  0  0  1  0  11.0  1.2100\n",
       "5144 24.038462 3.179655 1   0   0   0   1   0  0  0  1  0  17.0  2.8900\n",
       "5145 13.846154 2.628007 0   0   0   0   1   0  0  0  1  0  10.0  1.0000\n",
       "5146 14.769231 2.692546 0   0   0   0   1   0  0  0  1  0   9.0  0.8100\n",
       "5147 23.076923 3.138833 1   0   0   1   0   0  0  0  1  0  12.0  1.4400\n",
       "5148 38.461538 3.649659 0   0   0   0   0   1  0  0  1  0  11.0  1.2100\n",
       "5149 32.967033 3.495508 0   0   1   0   0   0  0  0  1  0  10.0  1.0000\n",
       "5150 17.307692 2.851151 0   0   0   0   0   1  0  0  1  0  14.0  1.9600\n",
       "     exp3      exp4         occ  occ2 ind  dummy\n",
       "1     0.343000   0.24010000 3600 11   8370 NA   \n",
       "2    29.791000  92.35210000 3050 10   5070 NA   \n",
       "3     5.832000  10.49760000 6260 19    770 NA   \n",
       "4    15.625000  39.06250000  420  1   6990 NA   \n",
       "5    10.648000  23.42560000 2015  6   9470 NA   \n",
       "6     0.001000   0.00010000 1650  5   7460 NA   \n",
       "7    74.088000 311.16960000 5120 17   7280 NA   \n",
       "8    50.653000 187.41610000 5240 17   5680 NA   \n",
       "9    29.791000  92.35210000 4040 13   8590 NA   \n",
       "10    0.064000   0.02560000 3255 10   8190 NA   \n",
       "11    0.343000   0.24010000 4020 13   8270 NA   \n",
       "12   27.000000  81.00000000 4220 14   8270 NA   \n",
       "13    0.166375   0.09150625 3600 11   8270 NA   \n",
       "14    8.615125  17.66100625 3645 11   8190 NA   \n",
       "15   15.625000  39.06250000  110  1   7870 NA   \n",
       "16    4.096000   6.55360000 6355 19    770 NA   \n",
       "17   19.683000  53.14410000 6320 19    770 NA   \n",
       "18    0.042875   0.01500625 7410 20    570 NA   \n",
       "19    0.216000   0.12960000 7000 20   4690 NA   \n",
       "20    0.512000   0.40960000 4000 13   8680 NA   \n",
       "21    0.274625   0.17850625 4300 15   8590 NA   \n",
       "22    0.614125   0.52200625 3600 11   8190 NA   \n",
       "23    1.331000   1.46410000 2310  8   7860 NA   \n",
       "24    1.331000   1.46410000 6200 19    770 NA   \n",
       "25   14.706125  36.03000625   20  1   5480 NA   \n",
       "26    0.512000   0.40960000 4800 16   7390 NA   \n",
       "27    0.125000   0.06250000  430  1   7390 NA   \n",
       "28    0.091125   0.04100625 6330 19    770 NA   \n",
       "29    0.512000   0.40960000 5400 17   4870 NA   \n",
       "30   17.576000  45.69760000 6230 19   6570 NA   \n",
       "⋮    ⋮         ⋮            ⋮    ⋮    ⋮    ⋮    \n",
       "5121  0.343000   0.2401000  3820 12   9590 NA   \n",
       "5122  0.008000   0.0016000  2200  8   7870 NA   \n",
       "5123  0.421875   0.3164062   220  1    770 NA   \n",
       "5124  0.125000   0.0625000  1360  4    770 NA   \n",
       "5125 13.824000  33.1776000  2310  8   7860 NA   \n",
       "5126 23.149125  65.9750063  8140 21    770 NA   \n",
       "5127 15.625000  39.0625000  3930 12   7680 NA   \n",
       "5128  6.859000  13.0321000  2750  9   8560 NA   \n",
       "5129  0.512000   0.4096000   710  2   6870 NA   \n",
       "5130  1.728000   2.0736000  4010 13   8680 NA   \n",
       "5131  0.216000   0.1296000  2320  8   7860 NA   \n",
       "5132 15.625000  39.0625000  3255 10   8170 NA   \n",
       "5133  8.000000  16.0000000  4110 13   8680 NA   \n",
       "5134  4.913000   8.3521000  9620 22   6290 NA   \n",
       "5135 31.255875  98.4560063  5510 17   6380 NA   \n",
       "5136  3.375000   5.0625000  2010  6   9370 NA   \n",
       "5137 39.304000 133.6336000  2310  8   7860 NA   \n",
       "5138  0.512000   0.4096000  4720 16   8590 NA   \n",
       "5139  0.512000   0.4096000  2000  6   8090 NA   \n",
       "5140 21.952000  61.4656000    40  1   9170 NA   \n",
       "5141  0.125000   0.0625000  3255 10   8190 NA   \n",
       "5142  3.375000   5.0625000  9620 22   5390 NA   \n",
       "5143  1.331000   1.4641000  7150 20   8770 NA   \n",
       "5144  4.913000   8.3521000  2550  8   9480 NA   \n",
       "5145  1.000000   1.0000000   800  2    770 NA   \n",
       "5146  0.729000   0.6561000  4700 16   4970 NA   \n",
       "5147  1.728000   2.0736000  4110 13   8680 NA   \n",
       "5148  1.331000   1.4641000  1550  4   3680 NA   \n",
       "5149  1.000000   1.0000000  2920  9   6570 NA   \n",
       "5150  2.744000   3.8416000  1610  5   7460 NA   "
      ]
     },
     "metadata": {},
     "output_type": "display_data"
    }
   ],
   "source": [
    "base1$dummy = \"NA\"\n",
    "base1"
   ]
  },
  {
   "cell_type": "code",
   "execution_count": 84,
   "metadata": {
    "scrolled": true
   },
   "outputs": [
    {
     "data": {
      "text/html": [
       "<table class=\"dataframe\">\n",
       "<caption>A data.frame: 5150 × 20</caption>\n",
       "<thead>\n",
       "\t<tr><th scope=col>salario</th><th scope=col>lwage</th><th scope=col>sex</th><th scope=col>shs</th><th scope=col>hsg</th><th scope=col>scl</th><th scope=col>clg</th><th scope=col>ad</th><th scope=col>mw</th><th scope=col>so</th><th scope=col>we</th><th scope=col>ne</th><th scope=col>exp1</th><th scope=col>exp2</th><th scope=col>exp3</th><th scope=col>exp4</th><th scope=col>occ</th><th scope=col>occ2</th><th scope=col>ind</th><th scope=col>dummy</th></tr>\n",
       "\t<tr><th scope=col>&lt;dbl&gt;</th><th scope=col>&lt;dbl&gt;</th><th scope=col>&lt;int&gt;</th><th scope=col>&lt;int&gt;</th><th scope=col>&lt;int&gt;</th><th scope=col>&lt;int&gt;</th><th scope=col>&lt;int&gt;</th><th scope=col>&lt;int&gt;</th><th scope=col>&lt;int&gt;</th><th scope=col>&lt;int&gt;</th><th scope=col>&lt;int&gt;</th><th scope=col>&lt;int&gt;</th><th scope=col>&lt;dbl&gt;</th><th scope=col>&lt;dbl&gt;</th><th scope=col>&lt;dbl&gt;</th><th scope=col>&lt;dbl&gt;</th><th scope=col>&lt;dbl&gt;</th><th scope=col>&lt;int&gt;</th><th scope=col>&lt;dbl&gt;</th><th scope=col>&lt;chr&gt;</th></tr>\n",
       "</thead>\n",
       "<tbody>\n",
       "\t<tr><td> 9.615385</td><td>2.263364</td><td>1</td><td>0</td><td>0</td><td>0</td><td>1</td><td>0</td><td>0</td><td>0</td><td>0</td><td>1</td><td> 7.0</td><td> 0.4900</td><td> 0.343000</td><td>  0.24010000</td><td>3600</td><td>11</td><td>8370</td><td>NA</td></tr>\n",
       "\t<tr><td>48.076923</td><td>3.872802</td><td>0</td><td>0</td><td>0</td><td>0</td><td>1</td><td>0</td><td>0</td><td>0</td><td>0</td><td>1</td><td>31.0</td><td> 9.6100</td><td>29.791000</td><td> 92.35210000</td><td>3050</td><td>10</td><td>5070</td><td>1 </td></tr>\n",
       "\t<tr><td>11.057692</td><td>2.403126</td><td>0</td><td>0</td><td>1</td><td>0</td><td>0</td><td>0</td><td>0</td><td>0</td><td>0</td><td>1</td><td>18.0</td><td> 3.2400</td><td> 5.832000</td><td> 10.49760000</td><td>6260</td><td>19</td><td> 770</td><td>1 </td></tr>\n",
       "\t<tr><td>13.942308</td><td>2.634928</td><td>1</td><td>0</td><td>0</td><td>0</td><td>0</td><td>1</td><td>0</td><td>0</td><td>0</td><td>1</td><td>25.0</td><td> 6.2500</td><td>15.625000</td><td> 39.06250000</td><td> 420</td><td> 1</td><td>6990</td><td>1 </td></tr>\n",
       "\t<tr><td>28.846154</td><td>3.361977</td><td>1</td><td>0</td><td>0</td><td>0</td><td>1</td><td>0</td><td>0</td><td>0</td><td>0</td><td>1</td><td>22.0</td><td> 4.8400</td><td>10.648000</td><td> 23.42560000</td><td>2015</td><td> 6</td><td>9470</td><td>1 </td></tr>\n",
       "\t<tr><td>11.730769</td><td>2.462215</td><td>1</td><td>0</td><td>0</td><td>0</td><td>1</td><td>0</td><td>0</td><td>0</td><td>0</td><td>1</td><td> 1.0</td><td> 0.0100</td><td> 0.001000</td><td>  0.00010000</td><td>1650</td><td> 5</td><td>7460</td><td>NA</td></tr>\n",
       "\t<tr><td>19.230769</td><td>2.956512</td><td>1</td><td>0</td><td>1</td><td>0</td><td>0</td><td>0</td><td>0</td><td>0</td><td>0</td><td>1</td><td>42.0</td><td>17.6400</td><td>74.088000</td><td>311.16960000</td><td>5120</td><td>17</td><td>7280</td><td>1 </td></tr>\n",
       "\t<tr><td>19.230769</td><td>2.956512</td><td>0</td><td>0</td><td>1</td><td>0</td><td>0</td><td>0</td><td>0</td><td>0</td><td>0</td><td>1</td><td>37.0</td><td>13.6900</td><td>50.653000</td><td>187.41610000</td><td>5240</td><td>17</td><td>5680</td><td>1 </td></tr>\n",
       "\t<tr><td>12.000000</td><td>2.484907</td><td>1</td><td>0</td><td>1</td><td>0</td><td>0</td><td>0</td><td>0</td><td>0</td><td>0</td><td>1</td><td>31.0</td><td> 9.6100</td><td>29.791000</td><td> 92.35210000</td><td>4040</td><td>13</td><td>8590</td><td>1 </td></tr>\n",
       "\t<tr><td>19.230769</td><td>2.956512</td><td>1</td><td>0</td><td>0</td><td>0</td><td>1</td><td>0</td><td>0</td><td>0</td><td>0</td><td>1</td><td> 4.0</td><td> 0.1600</td><td> 0.064000</td><td>  0.02560000</td><td>3255</td><td>10</td><td>8190</td><td>NA</td></tr>\n",
       "\t<tr><td>17.307692</td><td>2.851151</td><td>1</td><td>0</td><td>1</td><td>0</td><td>0</td><td>0</td><td>0</td><td>0</td><td>0</td><td>1</td><td> 7.0</td><td> 0.4900</td><td> 0.343000</td><td>  0.24010000</td><td>4020</td><td>13</td><td>8270</td><td>NA</td></tr>\n",
       "\t<tr><td>12.019231</td><td>2.486508</td><td>0</td><td>0</td><td>1</td><td>0</td><td>0</td><td>0</td><td>0</td><td>0</td><td>0</td><td>1</td><td>30.0</td><td> 9.0000</td><td>27.000000</td><td> 81.00000000</td><td>4220</td><td>14</td><td>8270</td><td>1 </td></tr>\n",
       "\t<tr><td>12.019231</td><td>2.486508</td><td>1</td><td>0</td><td>0</td><td>1</td><td>0</td><td>0</td><td>0</td><td>0</td><td>0</td><td>1</td><td> 5.5</td><td> 0.3025</td><td> 0.166375</td><td>  0.09150625</td><td>3600</td><td>11</td><td>8270</td><td>NA</td></tr>\n",
       "\t<tr><td>13.461538</td><td>2.599837</td><td>1</td><td>0</td><td>0</td><td>1</td><td>0</td><td>0</td><td>0</td><td>0</td><td>0</td><td>1</td><td>20.5</td><td> 4.2025</td><td> 8.615125</td><td> 17.66100625</td><td>3645</td><td>11</td><td>8190</td><td>1 </td></tr>\n",
       "\t<tr><td>16.346154</td><td>2.793993</td><td>1</td><td>0</td><td>0</td><td>0</td><td>1</td><td>0</td><td>0</td><td>0</td><td>0</td><td>1</td><td>25.0</td><td> 6.2500</td><td>15.625000</td><td> 39.06250000</td><td> 110</td><td> 1</td><td>7870</td><td>1 </td></tr>\n",
       "\t<tr><td>27.884615</td><td>3.328075</td><td>0</td><td>0</td><td>1</td><td>0</td><td>0</td><td>0</td><td>0</td><td>0</td><td>0</td><td>1</td><td>16.0</td><td> 2.5600</td><td> 4.096000</td><td>  6.55360000</td><td>6355</td><td>19</td><td> 770</td><td>1 </td></tr>\n",
       "\t<tr><td>21.600000</td><td>3.072693</td><td>0</td><td>0</td><td>1</td><td>0</td><td>0</td><td>0</td><td>0</td><td>0</td><td>0</td><td>1</td><td>27.0</td><td> 7.2900</td><td>19.683000</td><td> 53.14410000</td><td>6320</td><td>19</td><td> 770</td><td>1 </td></tr>\n",
       "\t<tr><td> 8.653846</td><td>2.158004</td><td>0</td><td>0</td><td>0</td><td>1</td><td>0</td><td>0</td><td>0</td><td>0</td><td>0</td><td>1</td><td> 3.5</td><td> 0.1225</td><td> 0.042875</td><td>  0.01500625</td><td>7410</td><td>20</td><td> 570</td><td>NA</td></tr>\n",
       "\t<tr><td>19.230769</td><td>2.956512</td><td>0</td><td>0</td><td>1</td><td>0</td><td>0</td><td>0</td><td>0</td><td>0</td><td>0</td><td>1</td><td> 6.0</td><td> 0.3600</td><td> 0.216000</td><td>  0.12960000</td><td>7000</td><td>20</td><td>4690</td><td>NA</td></tr>\n",
       "\t<tr><td>13.186813</td><td>2.579217</td><td>0</td><td>0</td><td>1</td><td>0</td><td>0</td><td>0</td><td>0</td><td>0</td><td>0</td><td>1</td><td> 8.0</td><td> 0.6400</td><td> 0.512000</td><td>  0.40960000</td><td>4000</td><td>13</td><td>8680</td><td>NA</td></tr>\n",
       "\t<tr><td>10.683761</td><td>2.368725</td><td>1</td><td>0</td><td>0</td><td>1</td><td>0</td><td>0</td><td>0</td><td>0</td><td>0</td><td>1</td><td> 6.5</td><td> 0.4225</td><td> 0.274625</td><td>  0.17850625</td><td>4300</td><td>15</td><td>8590</td><td>NA</td></tr>\n",
       "\t<tr><td>11.538462</td><td>2.445686</td><td>1</td><td>0</td><td>0</td><td>1</td><td>0</td><td>0</td><td>0</td><td>0</td><td>0</td><td>1</td><td> 8.5</td><td> 0.7225</td><td> 0.614125</td><td>  0.52200625</td><td>3600</td><td>11</td><td>8190</td><td>NA</td></tr>\n",
       "\t<tr><td>17.788462</td><td>2.878550</td><td>1</td><td>0</td><td>0</td><td>0</td><td>0</td><td>1</td><td>0</td><td>0</td><td>0</td><td>1</td><td>11.0</td><td> 1.2100</td><td> 1.331000</td><td>  1.46410000</td><td>2310</td><td> 8</td><td>7860</td><td>1 </td></tr>\n",
       "\t<tr><td>19.230769</td><td>2.956512</td><td>0</td><td>0</td><td>0</td><td>0</td><td>1</td><td>0</td><td>0</td><td>0</td><td>0</td><td>1</td><td>11.0</td><td> 1.2100</td><td> 1.331000</td><td>  1.46410000</td><td>6200</td><td>19</td><td> 770</td><td>1 </td></tr>\n",
       "\t<tr><td>16.304348</td><td>2.791432</td><td>1</td><td>0</td><td>0</td><td>1</td><td>0</td><td>0</td><td>0</td><td>0</td><td>0</td><td>1</td><td>24.5</td><td> 6.0025</td><td>14.706125</td><td> 36.03000625</td><td>  20</td><td> 1</td><td>5480</td><td>1 </td></tr>\n",
       "\t<tr><td>19.230769</td><td>2.956512</td><td>0</td><td>0</td><td>1</td><td>0</td><td>0</td><td>0</td><td>0</td><td>0</td><td>0</td><td>1</td><td> 8.0</td><td> 0.6400</td><td> 0.512000</td><td>  0.40960000</td><td>4800</td><td>16</td><td>7390</td><td>NA</td></tr>\n",
       "\t<tr><td>14.423077</td><td>2.668829</td><td>1</td><td>0</td><td>1</td><td>0</td><td>0</td><td>0</td><td>0</td><td>0</td><td>0</td><td>1</td><td> 5.0</td><td> 0.2500</td><td> 0.125000</td><td>  0.06250000</td><td> 430</td><td> 1</td><td>7390</td><td>NA</td></tr>\n",
       "\t<tr><td>12.000000</td><td>2.484907</td><td>0</td><td>0</td><td>0</td><td>1</td><td>0</td><td>0</td><td>0</td><td>0</td><td>0</td><td>1</td><td> 4.5</td><td> 0.2025</td><td> 0.091125</td><td>  0.04100625</td><td>6330</td><td>19</td><td> 770</td><td>NA</td></tr>\n",
       "\t<tr><td>16.826923</td><td>2.822980</td><td>0</td><td>0</td><td>0</td><td>0</td><td>1</td><td>0</td><td>0</td><td>0</td><td>0</td><td>1</td><td> 8.0</td><td> 0.6400</td><td> 0.512000</td><td>  0.40960000</td><td>5400</td><td>17</td><td>4870</td><td>NA</td></tr>\n",
       "\t<tr><td>19.670330</td><td>2.979111</td><td>0</td><td>0</td><td>0</td><td>0</td><td>1</td><td>0</td><td>0</td><td>0</td><td>0</td><td>1</td><td>26.0</td><td> 6.7600</td><td>17.576000</td><td> 45.69760000</td><td>6230</td><td>19</td><td>6570</td><td>1 </td></tr>\n",
       "\t<tr><td>⋮</td><td>⋮</td><td>⋮</td><td>⋮</td><td>⋮</td><td>⋮</td><td>⋮</td><td>⋮</td><td>⋮</td><td>⋮</td><td>⋮</td><td>⋮</td><td>⋮</td><td>⋮</td><td>⋮</td><td>⋮</td><td>⋮</td><td>⋮</td><td>⋮</td><td>⋮</td></tr>\n",
       "\t<tr><td>13.986014</td><td>2.638058</td><td>1</td><td>0</td><td>0</td><td>0</td><td>0</td><td>1</td><td>0</td><td>0</td><td>1</td><td>0</td><td> 7.0</td><td> 0.4900</td><td> 0.343000</td><td>  0.2401000</td><td>3820</td><td>12</td><td>9590</td><td>NA</td></tr>\n",
       "\t<tr><td>15.865385</td><td>2.764140</td><td>0</td><td>0</td><td>0</td><td>0</td><td>0</td><td>1</td><td>0</td><td>0</td><td>1</td><td>0</td><td> 2.0</td><td> 0.0400</td><td> 0.008000</td><td>  0.0016000</td><td>2200</td><td> 8</td><td>7870</td><td>NA</td></tr>\n",
       "\t<tr><td>38.461538</td><td>3.649659</td><td>1</td><td>0</td><td>0</td><td>1</td><td>0</td><td>0</td><td>0</td><td>0</td><td>1</td><td>0</td><td> 7.5</td><td> 0.5625</td><td> 0.421875</td><td>  0.3164062</td><td> 220</td><td> 1</td><td> 770</td><td>NA</td></tr>\n",
       "\t<tr><td>28.846154</td><td>3.361977</td><td>0</td><td>0</td><td>0</td><td>0</td><td>1</td><td>0</td><td>0</td><td>0</td><td>1</td><td>0</td><td> 5.0</td><td> 0.2500</td><td> 0.125000</td><td>  0.0625000</td><td>1360</td><td> 4</td><td> 770</td><td>NA</td></tr>\n",
       "\t<tr><td>24.475524</td><td>3.197674</td><td>1</td><td>0</td><td>0</td><td>0</td><td>0</td><td>1</td><td>0</td><td>0</td><td>1</td><td>0</td><td>24.0</td><td> 5.7600</td><td>13.824000</td><td> 33.1776000</td><td>2310</td><td> 8</td><td>7860</td><td>1 </td></tr>\n",
       "\t<tr><td>27.884615</td><td>3.328075</td><td>0</td><td>0</td><td>0</td><td>1</td><td>0</td><td>0</td><td>0</td><td>0</td><td>1</td><td>0</td><td>28.5</td><td> 8.1225</td><td>23.149125</td><td> 65.9750063</td><td>8140</td><td>21</td><td> 770</td><td>1 </td></tr>\n",
       "\t<tr><td> 8.653846</td><td>2.158004</td><td>1</td><td>0</td><td>1</td><td>0</td><td>0</td><td>0</td><td>0</td><td>0</td><td>1</td><td>0</td><td>25.0</td><td> 6.2500</td><td>15.625000</td><td> 39.0625000</td><td>3930</td><td>12</td><td>7680</td><td>1 </td></tr>\n",
       "\t<tr><td>12.019231</td><td>2.486508</td><td>0</td><td>0</td><td>1</td><td>0</td><td>0</td><td>0</td><td>0</td><td>0</td><td>1</td><td>0</td><td>19.0</td><td> 3.6100</td><td> 6.859000</td><td> 13.0321000</td><td>2750</td><td> 9</td><td>8560</td><td>1 </td></tr>\n",
       "\t<tr><td>38.461538</td><td>3.649659</td><td>0</td><td>0</td><td>0</td><td>0</td><td>1</td><td>0</td><td>0</td><td>0</td><td>1</td><td>0</td><td> 8.0</td><td> 0.6400</td><td> 0.512000</td><td>  0.4096000</td><td> 710</td><td> 2</td><td>6870</td><td>NA</td></tr>\n",
       "\t<tr><td>12.500000</td><td>2.525729</td><td>1</td><td>0</td><td>1</td><td>0</td><td>0</td><td>0</td><td>0</td><td>0</td><td>1</td><td>0</td><td>12.0</td><td> 1.4400</td><td> 1.728000</td><td>  2.0736000</td><td>4010</td><td>13</td><td>8680</td><td>1 </td></tr>\n",
       "\t<tr><td>35.256410</td><td>3.562647</td><td>0</td><td>0</td><td>0</td><td>0</td><td>0</td><td>1</td><td>0</td><td>0</td><td>1</td><td>0</td><td> 6.0</td><td> 0.3600</td><td> 0.216000</td><td>  0.1296000</td><td>2320</td><td> 8</td><td>7860</td><td>NA</td></tr>\n",
       "\t<tr><td>48.076923</td><td>3.872802</td><td>1</td><td>0</td><td>0</td><td>0</td><td>1</td><td>0</td><td>0</td><td>0</td><td>1</td><td>0</td><td>25.0</td><td> 6.2500</td><td>15.625000</td><td> 39.0625000</td><td>3255</td><td>10</td><td>8170</td><td>1 </td></tr>\n",
       "\t<tr><td> 9.615385</td><td>2.263364</td><td>0</td><td>0</td><td>1</td><td>0</td><td>0</td><td>0</td><td>0</td><td>0</td><td>1</td><td>0</td><td>20.0</td><td> 4.0000</td><td> 8.000000</td><td> 16.0000000</td><td>4110</td><td>13</td><td>8680</td><td>1 </td></tr>\n",
       "\t<tr><td>12.019231</td><td>2.486508</td><td>0</td><td>0</td><td>1</td><td>0</td><td>0</td><td>0</td><td>0</td><td>0</td><td>1</td><td>0</td><td>17.0</td><td> 2.8900</td><td> 4.913000</td><td>  8.3521000</td><td>9620</td><td>22</td><td>6290</td><td>1 </td></tr>\n",
       "\t<tr><td>12.019231</td><td>2.486508</td><td>0</td><td>0</td><td>0</td><td>1</td><td>0</td><td>0</td><td>0</td><td>0</td><td>1</td><td>0</td><td>31.5</td><td> 9.9225</td><td>31.255875</td><td> 98.4560063</td><td>5510</td><td>17</td><td>6380</td><td>1 </td></tr>\n",
       "\t<tr><td>12.980769</td><td>2.563469</td><td>0</td><td>0</td><td>1</td><td>0</td><td>0</td><td>0</td><td>0</td><td>0</td><td>1</td><td>0</td><td>15.0</td><td> 2.2500</td><td> 3.375000</td><td>  5.0625000</td><td>2010</td><td> 6</td><td>9370</td><td>1 </td></tr>\n",
       "\t<tr><td>26.442308</td><td>3.274965</td><td>1</td><td>0</td><td>0</td><td>0</td><td>1</td><td>0</td><td>0</td><td>0</td><td>1</td><td>0</td><td>34.0</td><td>11.5600</td><td>39.304000</td><td>133.6336000</td><td>2310</td><td> 8</td><td>7860</td><td>1 </td></tr>\n",
       "\t<tr><td>13.461538</td><td>2.599837</td><td>1</td><td>0</td><td>1</td><td>0</td><td>0</td><td>0</td><td>0</td><td>0</td><td>1</td><td>0</td><td> 8.0</td><td> 0.6400</td><td> 0.512000</td><td>  0.4096000</td><td>4720</td><td>16</td><td>8590</td><td>NA</td></tr>\n",
       "\t<tr><td>19.711538</td><td>2.981204</td><td>1</td><td>0</td><td>0</td><td>0</td><td>0</td><td>1</td><td>0</td><td>0</td><td>1</td><td>0</td><td> 8.0</td><td> 0.6400</td><td> 0.512000</td><td>  0.4096000</td><td>2000</td><td> 6</td><td>8090</td><td>NA</td></tr>\n",
       "\t<tr><td>21.153846</td><td>3.051822</td><td>0</td><td>0</td><td>0</td><td>0</td><td>1</td><td>0</td><td>0</td><td>0</td><td>1</td><td>0</td><td>28.0</td><td> 7.8400</td><td>21.952000</td><td> 61.4656000</td><td>  40</td><td> 1</td><td>9170</td><td>1 </td></tr>\n",
       "\t<tr><td>45.546559</td><td>3.818735</td><td>1</td><td>0</td><td>0</td><td>0</td><td>1</td><td>0</td><td>0</td><td>0</td><td>1</td><td>0</td><td> 5.0</td><td> 0.2500</td><td> 0.125000</td><td>  0.0625000</td><td>3255</td><td>10</td><td>8190</td><td>NA</td></tr>\n",
       "\t<tr><td>22.596154</td><td>3.117780</td><td>0</td><td>0</td><td>1</td><td>0</td><td>0</td><td>0</td><td>0</td><td>0</td><td>1</td><td>0</td><td>15.0</td><td> 2.2500</td><td> 3.375000</td><td>  5.0625000</td><td>9620</td><td>22</td><td>5390</td><td>1 </td></tr>\n",
       "\t<tr><td>16.826923</td><td>2.822980</td><td>0</td><td>0</td><td>1</td><td>0</td><td>0</td><td>0</td><td>0</td><td>0</td><td>1</td><td>0</td><td>11.0</td><td> 1.2100</td><td> 1.331000</td><td>  1.4641000</td><td>7150</td><td>20</td><td>8770</td><td>1 </td></tr>\n",
       "\t<tr><td>24.038462</td><td>3.179655</td><td>1</td><td>0</td><td>0</td><td>0</td><td>1</td><td>0</td><td>0</td><td>0</td><td>1</td><td>0</td><td>17.0</td><td> 2.8900</td><td> 4.913000</td><td>  8.3521000</td><td>2550</td><td> 8</td><td>9480</td><td>1 </td></tr>\n",
       "\t<tr><td>13.846154</td><td>2.628007</td><td>0</td><td>0</td><td>0</td><td>0</td><td>1</td><td>0</td><td>0</td><td>0</td><td>1</td><td>0</td><td>10.0</td><td> 1.0000</td><td> 1.000000</td><td>  1.0000000</td><td> 800</td><td> 2</td><td> 770</td><td>NA</td></tr>\n",
       "\t<tr><td>14.769231</td><td>2.692546</td><td>0</td><td>0</td><td>0</td><td>0</td><td>1</td><td>0</td><td>0</td><td>0</td><td>1</td><td>0</td><td> 9.0</td><td> 0.8100</td><td> 0.729000</td><td>  0.6561000</td><td>4700</td><td>16</td><td>4970</td><td>NA</td></tr>\n",
       "\t<tr><td>23.076923</td><td>3.138833</td><td>1</td><td>0</td><td>0</td><td>1</td><td>0</td><td>0</td><td>0</td><td>0</td><td>1</td><td>0</td><td>12.0</td><td> 1.4400</td><td> 1.728000</td><td>  2.0736000</td><td>4110</td><td>13</td><td>8680</td><td>1 </td></tr>\n",
       "\t<tr><td>38.461538</td><td>3.649659</td><td>0</td><td>0</td><td>0</td><td>0</td><td>0</td><td>1</td><td>0</td><td>0</td><td>1</td><td>0</td><td>11.0</td><td> 1.2100</td><td> 1.331000</td><td>  1.4641000</td><td>1550</td><td> 4</td><td>3680</td><td>1 </td></tr>\n",
       "\t<tr><td>32.967033</td><td>3.495508</td><td>0</td><td>0</td><td>1</td><td>0</td><td>0</td><td>0</td><td>0</td><td>0</td><td>1</td><td>0</td><td>10.0</td><td> 1.0000</td><td> 1.000000</td><td>  1.0000000</td><td>2920</td><td> 9</td><td>6570</td><td>NA</td></tr>\n",
       "\t<tr><td>17.307692</td><td>2.851151</td><td>0</td><td>0</td><td>0</td><td>0</td><td>0</td><td>1</td><td>0</td><td>0</td><td>1</td><td>0</td><td>14.0</td><td> 1.9600</td><td> 2.744000</td><td>  3.8416000</td><td>1610</td><td> 5</td><td>7460</td><td>1 </td></tr>\n",
       "</tbody>\n",
       "</table>\n"
      ],
      "text/latex": [
       "A data.frame: 5150 × 20\n",
       "\\begin{tabular}{llllllllllllllllllll}\n",
       " salario & lwage & sex & shs & hsg & scl & clg & ad & mw & so & we & ne & exp1 & exp2 & exp3 & exp4 & occ & occ2 & ind & dummy\\\\\n",
       " <dbl> & <dbl> & <int> & <int> & <int> & <int> & <int> & <int> & <int> & <int> & <int> & <int> & <dbl> & <dbl> & <dbl> & <dbl> & <dbl> & <int> & <dbl> & <chr>\\\\\n",
       "\\hline\n",
       "\t  9.615385 & 2.263364 & 1 & 0 & 0 & 0 & 1 & 0 & 0 & 0 & 0 & 1 &  7.0 &  0.4900 &  0.343000 &   0.24010000 & 3600 & 11 & 8370 & NA\\\\\n",
       "\t 48.076923 & 3.872802 & 0 & 0 & 0 & 0 & 1 & 0 & 0 & 0 & 0 & 1 & 31.0 &  9.6100 & 29.791000 &  92.35210000 & 3050 & 10 & 5070 & 1 \\\\\n",
       "\t 11.057692 & 2.403126 & 0 & 0 & 1 & 0 & 0 & 0 & 0 & 0 & 0 & 1 & 18.0 &  3.2400 &  5.832000 &  10.49760000 & 6260 & 19 &  770 & 1 \\\\\n",
       "\t 13.942308 & 2.634928 & 1 & 0 & 0 & 0 & 0 & 1 & 0 & 0 & 0 & 1 & 25.0 &  6.2500 & 15.625000 &  39.06250000 &  420 &  1 & 6990 & 1 \\\\\n",
       "\t 28.846154 & 3.361977 & 1 & 0 & 0 & 0 & 1 & 0 & 0 & 0 & 0 & 1 & 22.0 &  4.8400 & 10.648000 &  23.42560000 & 2015 &  6 & 9470 & 1 \\\\\n",
       "\t 11.730769 & 2.462215 & 1 & 0 & 0 & 0 & 1 & 0 & 0 & 0 & 0 & 1 &  1.0 &  0.0100 &  0.001000 &   0.00010000 & 1650 &  5 & 7460 & NA\\\\\n",
       "\t 19.230769 & 2.956512 & 1 & 0 & 1 & 0 & 0 & 0 & 0 & 0 & 0 & 1 & 42.0 & 17.6400 & 74.088000 & 311.16960000 & 5120 & 17 & 7280 & 1 \\\\\n",
       "\t 19.230769 & 2.956512 & 0 & 0 & 1 & 0 & 0 & 0 & 0 & 0 & 0 & 1 & 37.0 & 13.6900 & 50.653000 & 187.41610000 & 5240 & 17 & 5680 & 1 \\\\\n",
       "\t 12.000000 & 2.484907 & 1 & 0 & 1 & 0 & 0 & 0 & 0 & 0 & 0 & 1 & 31.0 &  9.6100 & 29.791000 &  92.35210000 & 4040 & 13 & 8590 & 1 \\\\\n",
       "\t 19.230769 & 2.956512 & 1 & 0 & 0 & 0 & 1 & 0 & 0 & 0 & 0 & 1 &  4.0 &  0.1600 &  0.064000 &   0.02560000 & 3255 & 10 & 8190 & NA\\\\\n",
       "\t 17.307692 & 2.851151 & 1 & 0 & 1 & 0 & 0 & 0 & 0 & 0 & 0 & 1 &  7.0 &  0.4900 &  0.343000 &   0.24010000 & 4020 & 13 & 8270 & NA\\\\\n",
       "\t 12.019231 & 2.486508 & 0 & 0 & 1 & 0 & 0 & 0 & 0 & 0 & 0 & 1 & 30.0 &  9.0000 & 27.000000 &  81.00000000 & 4220 & 14 & 8270 & 1 \\\\\n",
       "\t 12.019231 & 2.486508 & 1 & 0 & 0 & 1 & 0 & 0 & 0 & 0 & 0 & 1 &  5.5 &  0.3025 &  0.166375 &   0.09150625 & 3600 & 11 & 8270 & NA\\\\\n",
       "\t 13.461538 & 2.599837 & 1 & 0 & 0 & 1 & 0 & 0 & 0 & 0 & 0 & 1 & 20.5 &  4.2025 &  8.615125 &  17.66100625 & 3645 & 11 & 8190 & 1 \\\\\n",
       "\t 16.346154 & 2.793993 & 1 & 0 & 0 & 0 & 1 & 0 & 0 & 0 & 0 & 1 & 25.0 &  6.2500 & 15.625000 &  39.06250000 &  110 &  1 & 7870 & 1 \\\\\n",
       "\t 27.884615 & 3.328075 & 0 & 0 & 1 & 0 & 0 & 0 & 0 & 0 & 0 & 1 & 16.0 &  2.5600 &  4.096000 &   6.55360000 & 6355 & 19 &  770 & 1 \\\\\n",
       "\t 21.600000 & 3.072693 & 0 & 0 & 1 & 0 & 0 & 0 & 0 & 0 & 0 & 1 & 27.0 &  7.2900 & 19.683000 &  53.14410000 & 6320 & 19 &  770 & 1 \\\\\n",
       "\t  8.653846 & 2.158004 & 0 & 0 & 0 & 1 & 0 & 0 & 0 & 0 & 0 & 1 &  3.5 &  0.1225 &  0.042875 &   0.01500625 & 7410 & 20 &  570 & NA\\\\\n",
       "\t 19.230769 & 2.956512 & 0 & 0 & 1 & 0 & 0 & 0 & 0 & 0 & 0 & 1 &  6.0 &  0.3600 &  0.216000 &   0.12960000 & 7000 & 20 & 4690 & NA\\\\\n",
       "\t 13.186813 & 2.579217 & 0 & 0 & 1 & 0 & 0 & 0 & 0 & 0 & 0 & 1 &  8.0 &  0.6400 &  0.512000 &   0.40960000 & 4000 & 13 & 8680 & NA\\\\\n",
       "\t 10.683761 & 2.368725 & 1 & 0 & 0 & 1 & 0 & 0 & 0 & 0 & 0 & 1 &  6.5 &  0.4225 &  0.274625 &   0.17850625 & 4300 & 15 & 8590 & NA\\\\\n",
       "\t 11.538462 & 2.445686 & 1 & 0 & 0 & 1 & 0 & 0 & 0 & 0 & 0 & 1 &  8.5 &  0.7225 &  0.614125 &   0.52200625 & 3600 & 11 & 8190 & NA\\\\\n",
       "\t 17.788462 & 2.878550 & 1 & 0 & 0 & 0 & 0 & 1 & 0 & 0 & 0 & 1 & 11.0 &  1.2100 &  1.331000 &   1.46410000 & 2310 &  8 & 7860 & 1 \\\\\n",
       "\t 19.230769 & 2.956512 & 0 & 0 & 0 & 0 & 1 & 0 & 0 & 0 & 0 & 1 & 11.0 &  1.2100 &  1.331000 &   1.46410000 & 6200 & 19 &  770 & 1 \\\\\n",
       "\t 16.304348 & 2.791432 & 1 & 0 & 0 & 1 & 0 & 0 & 0 & 0 & 0 & 1 & 24.5 &  6.0025 & 14.706125 &  36.03000625 &   20 &  1 & 5480 & 1 \\\\\n",
       "\t 19.230769 & 2.956512 & 0 & 0 & 1 & 0 & 0 & 0 & 0 & 0 & 0 & 1 &  8.0 &  0.6400 &  0.512000 &   0.40960000 & 4800 & 16 & 7390 & NA\\\\\n",
       "\t 14.423077 & 2.668829 & 1 & 0 & 1 & 0 & 0 & 0 & 0 & 0 & 0 & 1 &  5.0 &  0.2500 &  0.125000 &   0.06250000 &  430 &  1 & 7390 & NA\\\\\n",
       "\t 12.000000 & 2.484907 & 0 & 0 & 0 & 1 & 0 & 0 & 0 & 0 & 0 & 1 &  4.5 &  0.2025 &  0.091125 &   0.04100625 & 6330 & 19 &  770 & NA\\\\\n",
       "\t 16.826923 & 2.822980 & 0 & 0 & 0 & 0 & 1 & 0 & 0 & 0 & 0 & 1 &  8.0 &  0.6400 &  0.512000 &   0.40960000 & 5400 & 17 & 4870 & NA\\\\\n",
       "\t 19.670330 & 2.979111 & 0 & 0 & 0 & 0 & 1 & 0 & 0 & 0 & 0 & 1 & 26.0 &  6.7600 & 17.576000 &  45.69760000 & 6230 & 19 & 6570 & 1 \\\\\n",
       "\t ⋮ & ⋮ & ⋮ & ⋮ & ⋮ & ⋮ & ⋮ & ⋮ & ⋮ & ⋮ & ⋮ & ⋮ & ⋮ & ⋮ & ⋮ & ⋮ & ⋮ & ⋮ & ⋮ & ⋮\\\\\n",
       "\t 13.986014 & 2.638058 & 1 & 0 & 0 & 0 & 0 & 1 & 0 & 0 & 1 & 0 &  7.0 &  0.4900 &  0.343000 &   0.2401000 & 3820 & 12 & 9590 & NA\\\\\n",
       "\t 15.865385 & 2.764140 & 0 & 0 & 0 & 0 & 0 & 1 & 0 & 0 & 1 & 0 &  2.0 &  0.0400 &  0.008000 &   0.0016000 & 2200 &  8 & 7870 & NA\\\\\n",
       "\t 38.461538 & 3.649659 & 1 & 0 & 0 & 1 & 0 & 0 & 0 & 0 & 1 & 0 &  7.5 &  0.5625 &  0.421875 &   0.3164062 &  220 &  1 &  770 & NA\\\\\n",
       "\t 28.846154 & 3.361977 & 0 & 0 & 0 & 0 & 1 & 0 & 0 & 0 & 1 & 0 &  5.0 &  0.2500 &  0.125000 &   0.0625000 & 1360 &  4 &  770 & NA\\\\\n",
       "\t 24.475524 & 3.197674 & 1 & 0 & 0 & 0 & 0 & 1 & 0 & 0 & 1 & 0 & 24.0 &  5.7600 & 13.824000 &  33.1776000 & 2310 &  8 & 7860 & 1 \\\\\n",
       "\t 27.884615 & 3.328075 & 0 & 0 & 0 & 1 & 0 & 0 & 0 & 0 & 1 & 0 & 28.5 &  8.1225 & 23.149125 &  65.9750063 & 8140 & 21 &  770 & 1 \\\\\n",
       "\t  8.653846 & 2.158004 & 1 & 0 & 1 & 0 & 0 & 0 & 0 & 0 & 1 & 0 & 25.0 &  6.2500 & 15.625000 &  39.0625000 & 3930 & 12 & 7680 & 1 \\\\\n",
       "\t 12.019231 & 2.486508 & 0 & 0 & 1 & 0 & 0 & 0 & 0 & 0 & 1 & 0 & 19.0 &  3.6100 &  6.859000 &  13.0321000 & 2750 &  9 & 8560 & 1 \\\\\n",
       "\t 38.461538 & 3.649659 & 0 & 0 & 0 & 0 & 1 & 0 & 0 & 0 & 1 & 0 &  8.0 &  0.6400 &  0.512000 &   0.4096000 &  710 &  2 & 6870 & NA\\\\\n",
       "\t 12.500000 & 2.525729 & 1 & 0 & 1 & 0 & 0 & 0 & 0 & 0 & 1 & 0 & 12.0 &  1.4400 &  1.728000 &   2.0736000 & 4010 & 13 & 8680 & 1 \\\\\n",
       "\t 35.256410 & 3.562647 & 0 & 0 & 0 & 0 & 0 & 1 & 0 & 0 & 1 & 0 &  6.0 &  0.3600 &  0.216000 &   0.1296000 & 2320 &  8 & 7860 & NA\\\\\n",
       "\t 48.076923 & 3.872802 & 1 & 0 & 0 & 0 & 1 & 0 & 0 & 0 & 1 & 0 & 25.0 &  6.2500 & 15.625000 &  39.0625000 & 3255 & 10 & 8170 & 1 \\\\\n",
       "\t  9.615385 & 2.263364 & 0 & 0 & 1 & 0 & 0 & 0 & 0 & 0 & 1 & 0 & 20.0 &  4.0000 &  8.000000 &  16.0000000 & 4110 & 13 & 8680 & 1 \\\\\n",
       "\t 12.019231 & 2.486508 & 0 & 0 & 1 & 0 & 0 & 0 & 0 & 0 & 1 & 0 & 17.0 &  2.8900 &  4.913000 &   8.3521000 & 9620 & 22 & 6290 & 1 \\\\\n",
       "\t 12.019231 & 2.486508 & 0 & 0 & 0 & 1 & 0 & 0 & 0 & 0 & 1 & 0 & 31.5 &  9.9225 & 31.255875 &  98.4560063 & 5510 & 17 & 6380 & 1 \\\\\n",
       "\t 12.980769 & 2.563469 & 0 & 0 & 1 & 0 & 0 & 0 & 0 & 0 & 1 & 0 & 15.0 &  2.2500 &  3.375000 &   5.0625000 & 2010 &  6 & 9370 & 1 \\\\\n",
       "\t 26.442308 & 3.274965 & 1 & 0 & 0 & 0 & 1 & 0 & 0 & 0 & 1 & 0 & 34.0 & 11.5600 & 39.304000 & 133.6336000 & 2310 &  8 & 7860 & 1 \\\\\n",
       "\t 13.461538 & 2.599837 & 1 & 0 & 1 & 0 & 0 & 0 & 0 & 0 & 1 & 0 &  8.0 &  0.6400 &  0.512000 &   0.4096000 & 4720 & 16 & 8590 & NA\\\\\n",
       "\t 19.711538 & 2.981204 & 1 & 0 & 0 & 0 & 0 & 1 & 0 & 0 & 1 & 0 &  8.0 &  0.6400 &  0.512000 &   0.4096000 & 2000 &  6 & 8090 & NA\\\\\n",
       "\t 21.153846 & 3.051822 & 0 & 0 & 0 & 0 & 1 & 0 & 0 & 0 & 1 & 0 & 28.0 &  7.8400 & 21.952000 &  61.4656000 &   40 &  1 & 9170 & 1 \\\\\n",
       "\t 45.546559 & 3.818735 & 1 & 0 & 0 & 0 & 1 & 0 & 0 & 0 & 1 & 0 &  5.0 &  0.2500 &  0.125000 &   0.0625000 & 3255 & 10 & 8190 & NA\\\\\n",
       "\t 22.596154 & 3.117780 & 0 & 0 & 1 & 0 & 0 & 0 & 0 & 0 & 1 & 0 & 15.0 &  2.2500 &  3.375000 &   5.0625000 & 9620 & 22 & 5390 & 1 \\\\\n",
       "\t 16.826923 & 2.822980 & 0 & 0 & 1 & 0 & 0 & 0 & 0 & 0 & 1 & 0 & 11.0 &  1.2100 &  1.331000 &   1.4641000 & 7150 & 20 & 8770 & 1 \\\\\n",
       "\t 24.038462 & 3.179655 & 1 & 0 & 0 & 0 & 1 & 0 & 0 & 0 & 1 & 0 & 17.0 &  2.8900 &  4.913000 &   8.3521000 & 2550 &  8 & 9480 & 1 \\\\\n",
       "\t 13.846154 & 2.628007 & 0 & 0 & 0 & 0 & 1 & 0 & 0 & 0 & 1 & 0 & 10.0 &  1.0000 &  1.000000 &   1.0000000 &  800 &  2 &  770 & NA\\\\\n",
       "\t 14.769231 & 2.692546 & 0 & 0 & 0 & 0 & 1 & 0 & 0 & 0 & 1 & 0 &  9.0 &  0.8100 &  0.729000 &   0.6561000 & 4700 & 16 & 4970 & NA\\\\\n",
       "\t 23.076923 & 3.138833 & 1 & 0 & 0 & 1 & 0 & 0 & 0 & 0 & 1 & 0 & 12.0 &  1.4400 &  1.728000 &   2.0736000 & 4110 & 13 & 8680 & 1 \\\\\n",
       "\t 38.461538 & 3.649659 & 0 & 0 & 0 & 0 & 0 & 1 & 0 & 0 & 1 & 0 & 11.0 &  1.2100 &  1.331000 &   1.4641000 & 1550 &  4 & 3680 & 1 \\\\\n",
       "\t 32.967033 & 3.495508 & 0 & 0 & 1 & 0 & 0 & 0 & 0 & 0 & 1 & 0 & 10.0 &  1.0000 &  1.000000 &   1.0000000 & 2920 &  9 & 6570 & NA\\\\\n",
       "\t 17.307692 & 2.851151 & 0 & 0 & 0 & 0 & 0 & 1 & 0 & 0 & 1 & 0 & 14.0 &  1.9600 &  2.744000 &   3.8416000 & 1610 &  5 & 7460 & 1 \\\\\n",
       "\\end{tabular}\n"
      ],
      "text/markdown": [
       "\n",
       "A data.frame: 5150 × 20\n",
       "\n",
       "| salario &lt;dbl&gt; | lwage &lt;dbl&gt; | sex &lt;int&gt; | shs &lt;int&gt; | hsg &lt;int&gt; | scl &lt;int&gt; | clg &lt;int&gt; | ad &lt;int&gt; | mw &lt;int&gt; | so &lt;int&gt; | we &lt;int&gt; | ne &lt;int&gt; | exp1 &lt;dbl&gt; | exp2 &lt;dbl&gt; | exp3 &lt;dbl&gt; | exp4 &lt;dbl&gt; | occ &lt;dbl&gt; | occ2 &lt;int&gt; | ind &lt;dbl&gt; | dummy &lt;chr&gt; |\n",
       "|---|---|---|---|---|---|---|---|---|---|---|---|---|---|---|---|---|---|---|---|\n",
       "|  9.615385 | 2.263364 | 1 | 0 | 0 | 0 | 1 | 0 | 0 | 0 | 0 | 1 |  7.0 |  0.4900 |  0.343000 |   0.24010000 | 3600 | 11 | 8370 | NA |\n",
       "| 48.076923 | 3.872802 | 0 | 0 | 0 | 0 | 1 | 0 | 0 | 0 | 0 | 1 | 31.0 |  9.6100 | 29.791000 |  92.35210000 | 3050 | 10 | 5070 | 1  |\n",
       "| 11.057692 | 2.403126 | 0 | 0 | 1 | 0 | 0 | 0 | 0 | 0 | 0 | 1 | 18.0 |  3.2400 |  5.832000 |  10.49760000 | 6260 | 19 |  770 | 1  |\n",
       "| 13.942308 | 2.634928 | 1 | 0 | 0 | 0 | 0 | 1 | 0 | 0 | 0 | 1 | 25.0 |  6.2500 | 15.625000 |  39.06250000 |  420 |  1 | 6990 | 1  |\n",
       "| 28.846154 | 3.361977 | 1 | 0 | 0 | 0 | 1 | 0 | 0 | 0 | 0 | 1 | 22.0 |  4.8400 | 10.648000 |  23.42560000 | 2015 |  6 | 9470 | 1  |\n",
       "| 11.730769 | 2.462215 | 1 | 0 | 0 | 0 | 1 | 0 | 0 | 0 | 0 | 1 |  1.0 |  0.0100 |  0.001000 |   0.00010000 | 1650 |  5 | 7460 | NA |\n",
       "| 19.230769 | 2.956512 | 1 | 0 | 1 | 0 | 0 | 0 | 0 | 0 | 0 | 1 | 42.0 | 17.6400 | 74.088000 | 311.16960000 | 5120 | 17 | 7280 | 1  |\n",
       "| 19.230769 | 2.956512 | 0 | 0 | 1 | 0 | 0 | 0 | 0 | 0 | 0 | 1 | 37.0 | 13.6900 | 50.653000 | 187.41610000 | 5240 | 17 | 5680 | 1  |\n",
       "| 12.000000 | 2.484907 | 1 | 0 | 1 | 0 | 0 | 0 | 0 | 0 | 0 | 1 | 31.0 |  9.6100 | 29.791000 |  92.35210000 | 4040 | 13 | 8590 | 1  |\n",
       "| 19.230769 | 2.956512 | 1 | 0 | 0 | 0 | 1 | 0 | 0 | 0 | 0 | 1 |  4.0 |  0.1600 |  0.064000 |   0.02560000 | 3255 | 10 | 8190 | NA |\n",
       "| 17.307692 | 2.851151 | 1 | 0 | 1 | 0 | 0 | 0 | 0 | 0 | 0 | 1 |  7.0 |  0.4900 |  0.343000 |   0.24010000 | 4020 | 13 | 8270 | NA |\n",
       "| 12.019231 | 2.486508 | 0 | 0 | 1 | 0 | 0 | 0 | 0 | 0 | 0 | 1 | 30.0 |  9.0000 | 27.000000 |  81.00000000 | 4220 | 14 | 8270 | 1  |\n",
       "| 12.019231 | 2.486508 | 1 | 0 | 0 | 1 | 0 | 0 | 0 | 0 | 0 | 1 |  5.5 |  0.3025 |  0.166375 |   0.09150625 | 3600 | 11 | 8270 | NA |\n",
       "| 13.461538 | 2.599837 | 1 | 0 | 0 | 1 | 0 | 0 | 0 | 0 | 0 | 1 | 20.5 |  4.2025 |  8.615125 |  17.66100625 | 3645 | 11 | 8190 | 1  |\n",
       "| 16.346154 | 2.793993 | 1 | 0 | 0 | 0 | 1 | 0 | 0 | 0 | 0 | 1 | 25.0 |  6.2500 | 15.625000 |  39.06250000 |  110 |  1 | 7870 | 1  |\n",
       "| 27.884615 | 3.328075 | 0 | 0 | 1 | 0 | 0 | 0 | 0 | 0 | 0 | 1 | 16.0 |  2.5600 |  4.096000 |   6.55360000 | 6355 | 19 |  770 | 1  |\n",
       "| 21.600000 | 3.072693 | 0 | 0 | 1 | 0 | 0 | 0 | 0 | 0 | 0 | 1 | 27.0 |  7.2900 | 19.683000 |  53.14410000 | 6320 | 19 |  770 | 1  |\n",
       "|  8.653846 | 2.158004 | 0 | 0 | 0 | 1 | 0 | 0 | 0 | 0 | 0 | 1 |  3.5 |  0.1225 |  0.042875 |   0.01500625 | 7410 | 20 |  570 | NA |\n",
       "| 19.230769 | 2.956512 | 0 | 0 | 1 | 0 | 0 | 0 | 0 | 0 | 0 | 1 |  6.0 |  0.3600 |  0.216000 |   0.12960000 | 7000 | 20 | 4690 | NA |\n",
       "| 13.186813 | 2.579217 | 0 | 0 | 1 | 0 | 0 | 0 | 0 | 0 | 0 | 1 |  8.0 |  0.6400 |  0.512000 |   0.40960000 | 4000 | 13 | 8680 | NA |\n",
       "| 10.683761 | 2.368725 | 1 | 0 | 0 | 1 | 0 | 0 | 0 | 0 | 0 | 1 |  6.5 |  0.4225 |  0.274625 |   0.17850625 | 4300 | 15 | 8590 | NA |\n",
       "| 11.538462 | 2.445686 | 1 | 0 | 0 | 1 | 0 | 0 | 0 | 0 | 0 | 1 |  8.5 |  0.7225 |  0.614125 |   0.52200625 | 3600 | 11 | 8190 | NA |\n",
       "| 17.788462 | 2.878550 | 1 | 0 | 0 | 0 | 0 | 1 | 0 | 0 | 0 | 1 | 11.0 |  1.2100 |  1.331000 |   1.46410000 | 2310 |  8 | 7860 | 1  |\n",
       "| 19.230769 | 2.956512 | 0 | 0 | 0 | 0 | 1 | 0 | 0 | 0 | 0 | 1 | 11.0 |  1.2100 |  1.331000 |   1.46410000 | 6200 | 19 |  770 | 1  |\n",
       "| 16.304348 | 2.791432 | 1 | 0 | 0 | 1 | 0 | 0 | 0 | 0 | 0 | 1 | 24.5 |  6.0025 | 14.706125 |  36.03000625 |   20 |  1 | 5480 | 1  |\n",
       "| 19.230769 | 2.956512 | 0 | 0 | 1 | 0 | 0 | 0 | 0 | 0 | 0 | 1 |  8.0 |  0.6400 |  0.512000 |   0.40960000 | 4800 | 16 | 7390 | NA |\n",
       "| 14.423077 | 2.668829 | 1 | 0 | 1 | 0 | 0 | 0 | 0 | 0 | 0 | 1 |  5.0 |  0.2500 |  0.125000 |   0.06250000 |  430 |  1 | 7390 | NA |\n",
       "| 12.000000 | 2.484907 | 0 | 0 | 0 | 1 | 0 | 0 | 0 | 0 | 0 | 1 |  4.5 |  0.2025 |  0.091125 |   0.04100625 | 6330 | 19 |  770 | NA |\n",
       "| 16.826923 | 2.822980 | 0 | 0 | 0 | 0 | 1 | 0 | 0 | 0 | 0 | 1 |  8.0 |  0.6400 |  0.512000 |   0.40960000 | 5400 | 17 | 4870 | NA |\n",
       "| 19.670330 | 2.979111 | 0 | 0 | 0 | 0 | 1 | 0 | 0 | 0 | 0 | 1 | 26.0 |  6.7600 | 17.576000 |  45.69760000 | 6230 | 19 | 6570 | 1  |\n",
       "| ⋮ | ⋮ | ⋮ | ⋮ | ⋮ | ⋮ | ⋮ | ⋮ | ⋮ | ⋮ | ⋮ | ⋮ | ⋮ | ⋮ | ⋮ | ⋮ | ⋮ | ⋮ | ⋮ | ⋮ |\n",
       "| 13.986014 | 2.638058 | 1 | 0 | 0 | 0 | 0 | 1 | 0 | 0 | 1 | 0 |  7.0 |  0.4900 |  0.343000 |   0.2401000 | 3820 | 12 | 9590 | NA |\n",
       "| 15.865385 | 2.764140 | 0 | 0 | 0 | 0 | 0 | 1 | 0 | 0 | 1 | 0 |  2.0 |  0.0400 |  0.008000 |   0.0016000 | 2200 |  8 | 7870 | NA |\n",
       "| 38.461538 | 3.649659 | 1 | 0 | 0 | 1 | 0 | 0 | 0 | 0 | 1 | 0 |  7.5 |  0.5625 |  0.421875 |   0.3164062 |  220 |  1 |  770 | NA |\n",
       "| 28.846154 | 3.361977 | 0 | 0 | 0 | 0 | 1 | 0 | 0 | 0 | 1 | 0 |  5.0 |  0.2500 |  0.125000 |   0.0625000 | 1360 |  4 |  770 | NA |\n",
       "| 24.475524 | 3.197674 | 1 | 0 | 0 | 0 | 0 | 1 | 0 | 0 | 1 | 0 | 24.0 |  5.7600 | 13.824000 |  33.1776000 | 2310 |  8 | 7860 | 1  |\n",
       "| 27.884615 | 3.328075 | 0 | 0 | 0 | 1 | 0 | 0 | 0 | 0 | 1 | 0 | 28.5 |  8.1225 | 23.149125 |  65.9750063 | 8140 | 21 |  770 | 1  |\n",
       "|  8.653846 | 2.158004 | 1 | 0 | 1 | 0 | 0 | 0 | 0 | 0 | 1 | 0 | 25.0 |  6.2500 | 15.625000 |  39.0625000 | 3930 | 12 | 7680 | 1  |\n",
       "| 12.019231 | 2.486508 | 0 | 0 | 1 | 0 | 0 | 0 | 0 | 0 | 1 | 0 | 19.0 |  3.6100 |  6.859000 |  13.0321000 | 2750 |  9 | 8560 | 1  |\n",
       "| 38.461538 | 3.649659 | 0 | 0 | 0 | 0 | 1 | 0 | 0 | 0 | 1 | 0 |  8.0 |  0.6400 |  0.512000 |   0.4096000 |  710 |  2 | 6870 | NA |\n",
       "| 12.500000 | 2.525729 | 1 | 0 | 1 | 0 | 0 | 0 | 0 | 0 | 1 | 0 | 12.0 |  1.4400 |  1.728000 |   2.0736000 | 4010 | 13 | 8680 | 1  |\n",
       "| 35.256410 | 3.562647 | 0 | 0 | 0 | 0 | 0 | 1 | 0 | 0 | 1 | 0 |  6.0 |  0.3600 |  0.216000 |   0.1296000 | 2320 |  8 | 7860 | NA |\n",
       "| 48.076923 | 3.872802 | 1 | 0 | 0 | 0 | 1 | 0 | 0 | 0 | 1 | 0 | 25.0 |  6.2500 | 15.625000 |  39.0625000 | 3255 | 10 | 8170 | 1  |\n",
       "|  9.615385 | 2.263364 | 0 | 0 | 1 | 0 | 0 | 0 | 0 | 0 | 1 | 0 | 20.0 |  4.0000 |  8.000000 |  16.0000000 | 4110 | 13 | 8680 | 1  |\n",
       "| 12.019231 | 2.486508 | 0 | 0 | 1 | 0 | 0 | 0 | 0 | 0 | 1 | 0 | 17.0 |  2.8900 |  4.913000 |   8.3521000 | 9620 | 22 | 6290 | 1  |\n",
       "| 12.019231 | 2.486508 | 0 | 0 | 0 | 1 | 0 | 0 | 0 | 0 | 1 | 0 | 31.5 |  9.9225 | 31.255875 |  98.4560063 | 5510 | 17 | 6380 | 1  |\n",
       "| 12.980769 | 2.563469 | 0 | 0 | 1 | 0 | 0 | 0 | 0 | 0 | 1 | 0 | 15.0 |  2.2500 |  3.375000 |   5.0625000 | 2010 |  6 | 9370 | 1  |\n",
       "| 26.442308 | 3.274965 | 1 | 0 | 0 | 0 | 1 | 0 | 0 | 0 | 1 | 0 | 34.0 | 11.5600 | 39.304000 | 133.6336000 | 2310 |  8 | 7860 | 1  |\n",
       "| 13.461538 | 2.599837 | 1 | 0 | 1 | 0 | 0 | 0 | 0 | 0 | 1 | 0 |  8.0 |  0.6400 |  0.512000 |   0.4096000 | 4720 | 16 | 8590 | NA |\n",
       "| 19.711538 | 2.981204 | 1 | 0 | 0 | 0 | 0 | 1 | 0 | 0 | 1 | 0 |  8.0 |  0.6400 |  0.512000 |   0.4096000 | 2000 |  6 | 8090 | NA |\n",
       "| 21.153846 | 3.051822 | 0 | 0 | 0 | 0 | 1 | 0 | 0 | 0 | 1 | 0 | 28.0 |  7.8400 | 21.952000 |  61.4656000 |   40 |  1 | 9170 | 1  |\n",
       "| 45.546559 | 3.818735 | 1 | 0 | 0 | 0 | 1 | 0 | 0 | 0 | 1 | 0 |  5.0 |  0.2500 |  0.125000 |   0.0625000 | 3255 | 10 | 8190 | NA |\n",
       "| 22.596154 | 3.117780 | 0 | 0 | 1 | 0 | 0 | 0 | 0 | 0 | 1 | 0 | 15.0 |  2.2500 |  3.375000 |   5.0625000 | 9620 | 22 | 5390 | 1  |\n",
       "| 16.826923 | 2.822980 | 0 | 0 | 1 | 0 | 0 | 0 | 0 | 0 | 1 | 0 | 11.0 |  1.2100 |  1.331000 |   1.4641000 | 7150 | 20 | 8770 | 1  |\n",
       "| 24.038462 | 3.179655 | 1 | 0 | 0 | 0 | 1 | 0 | 0 | 0 | 1 | 0 | 17.0 |  2.8900 |  4.913000 |   8.3521000 | 2550 |  8 | 9480 | 1  |\n",
       "| 13.846154 | 2.628007 | 0 | 0 | 0 | 0 | 1 | 0 | 0 | 0 | 1 | 0 | 10.0 |  1.0000 |  1.000000 |   1.0000000 |  800 |  2 |  770 | NA |\n",
       "| 14.769231 | 2.692546 | 0 | 0 | 0 | 0 | 1 | 0 | 0 | 0 | 1 | 0 |  9.0 |  0.8100 |  0.729000 |   0.6561000 | 4700 | 16 | 4970 | NA |\n",
       "| 23.076923 | 3.138833 | 1 | 0 | 0 | 1 | 0 | 0 | 0 | 0 | 1 | 0 | 12.0 |  1.4400 |  1.728000 |   2.0736000 | 4110 | 13 | 8680 | 1  |\n",
       "| 38.461538 | 3.649659 | 0 | 0 | 0 | 0 | 0 | 1 | 0 | 0 | 1 | 0 | 11.0 |  1.2100 |  1.331000 |   1.4641000 | 1550 |  4 | 3680 | 1  |\n",
       "| 32.967033 | 3.495508 | 0 | 0 | 1 | 0 | 0 | 0 | 0 | 0 | 1 | 0 | 10.0 |  1.0000 |  1.000000 |   1.0000000 | 2920 |  9 | 6570 | NA |\n",
       "| 17.307692 | 2.851151 | 0 | 0 | 0 | 0 | 0 | 1 | 0 | 0 | 1 | 0 | 14.0 |  1.9600 |  2.744000 |   3.8416000 | 1610 |  5 | 7460 | 1  |\n",
       "\n"
      ],
      "text/plain": [
       "     salario   lwage    sex shs hsg scl clg ad mw so we ne exp1 exp2   \n",
       "1     9.615385 2.263364 1   0   0   0   1   0  0  0  0  1   7.0  0.4900\n",
       "2    48.076923 3.872802 0   0   0   0   1   0  0  0  0  1  31.0  9.6100\n",
       "3    11.057692 2.403126 0   0   1   0   0   0  0  0  0  1  18.0  3.2400\n",
       "4    13.942308 2.634928 1   0   0   0   0   1  0  0  0  1  25.0  6.2500\n",
       "5    28.846154 3.361977 1   0   0   0   1   0  0  0  0  1  22.0  4.8400\n",
       "6    11.730769 2.462215 1   0   0   0   1   0  0  0  0  1   1.0  0.0100\n",
       "7    19.230769 2.956512 1   0   1   0   0   0  0  0  0  1  42.0 17.6400\n",
       "8    19.230769 2.956512 0   0   1   0   0   0  0  0  0  1  37.0 13.6900\n",
       "9    12.000000 2.484907 1   0   1   0   0   0  0  0  0  1  31.0  9.6100\n",
       "10   19.230769 2.956512 1   0   0   0   1   0  0  0  0  1   4.0  0.1600\n",
       "11   17.307692 2.851151 1   0   1   0   0   0  0  0  0  1   7.0  0.4900\n",
       "12   12.019231 2.486508 0   0   1   0   0   0  0  0  0  1  30.0  9.0000\n",
       "13   12.019231 2.486508 1   0   0   1   0   0  0  0  0  1   5.5  0.3025\n",
       "14   13.461538 2.599837 1   0   0   1   0   0  0  0  0  1  20.5  4.2025\n",
       "15   16.346154 2.793993 1   0   0   0   1   0  0  0  0  1  25.0  6.2500\n",
       "16   27.884615 3.328075 0   0   1   0   0   0  0  0  0  1  16.0  2.5600\n",
       "17   21.600000 3.072693 0   0   1   0   0   0  0  0  0  1  27.0  7.2900\n",
       "18    8.653846 2.158004 0   0   0   1   0   0  0  0  0  1   3.5  0.1225\n",
       "19   19.230769 2.956512 0   0   1   0   0   0  0  0  0  1   6.0  0.3600\n",
       "20   13.186813 2.579217 0   0   1   0   0   0  0  0  0  1   8.0  0.6400\n",
       "21   10.683761 2.368725 1   0   0   1   0   0  0  0  0  1   6.5  0.4225\n",
       "22   11.538462 2.445686 1   0   0   1   0   0  0  0  0  1   8.5  0.7225\n",
       "23   17.788462 2.878550 1   0   0   0   0   1  0  0  0  1  11.0  1.2100\n",
       "24   19.230769 2.956512 0   0   0   0   1   0  0  0  0  1  11.0  1.2100\n",
       "25   16.304348 2.791432 1   0   0   1   0   0  0  0  0  1  24.5  6.0025\n",
       "26   19.230769 2.956512 0   0   1   0   0   0  0  0  0  1   8.0  0.6400\n",
       "27   14.423077 2.668829 1   0   1   0   0   0  0  0  0  1   5.0  0.2500\n",
       "28   12.000000 2.484907 0   0   0   1   0   0  0  0  0  1   4.5  0.2025\n",
       "29   16.826923 2.822980 0   0   0   0   1   0  0  0  0  1   8.0  0.6400\n",
       "30   19.670330 2.979111 0   0   0   0   1   0  0  0  0  1  26.0  6.7600\n",
       "⋮    ⋮         ⋮        ⋮   ⋮   ⋮   ⋮   ⋮   ⋮  ⋮  ⋮  ⋮  ⋮  ⋮    ⋮      \n",
       "5121 13.986014 2.638058 1   0   0   0   0   1  0  0  1  0   7.0  0.4900\n",
       "5122 15.865385 2.764140 0   0   0   0   0   1  0  0  1  0   2.0  0.0400\n",
       "5123 38.461538 3.649659 1   0   0   1   0   0  0  0  1  0   7.5  0.5625\n",
       "5124 28.846154 3.361977 0   0   0   0   1   0  0  0  1  0   5.0  0.2500\n",
       "5125 24.475524 3.197674 1   0   0   0   0   1  0  0  1  0  24.0  5.7600\n",
       "5126 27.884615 3.328075 0   0   0   1   0   0  0  0  1  0  28.5  8.1225\n",
       "5127  8.653846 2.158004 1   0   1   0   0   0  0  0  1  0  25.0  6.2500\n",
       "5128 12.019231 2.486508 0   0   1   0   0   0  0  0  1  0  19.0  3.6100\n",
       "5129 38.461538 3.649659 0   0   0   0   1   0  0  0  1  0   8.0  0.6400\n",
       "5130 12.500000 2.525729 1   0   1   0   0   0  0  0  1  0  12.0  1.4400\n",
       "5131 35.256410 3.562647 0   0   0   0   0   1  0  0  1  0   6.0  0.3600\n",
       "5132 48.076923 3.872802 1   0   0   0   1   0  0  0  1  0  25.0  6.2500\n",
       "5133  9.615385 2.263364 0   0   1   0   0   0  0  0  1  0  20.0  4.0000\n",
       "5134 12.019231 2.486508 0   0   1   0   0   0  0  0  1  0  17.0  2.8900\n",
       "5135 12.019231 2.486508 0   0   0   1   0   0  0  0  1  0  31.5  9.9225\n",
       "5136 12.980769 2.563469 0   0   1   0   0   0  0  0  1  0  15.0  2.2500\n",
       "5137 26.442308 3.274965 1   0   0   0   1   0  0  0  1  0  34.0 11.5600\n",
       "5138 13.461538 2.599837 1   0   1   0   0   0  0  0  1  0   8.0  0.6400\n",
       "5139 19.711538 2.981204 1   0   0   0   0   1  0  0  1  0   8.0  0.6400\n",
       "5140 21.153846 3.051822 0   0   0   0   1   0  0  0  1  0  28.0  7.8400\n",
       "5141 45.546559 3.818735 1   0   0   0   1   0  0  0  1  0   5.0  0.2500\n",
       "5142 22.596154 3.117780 0   0   1   0   0   0  0  0  1  0  15.0  2.2500\n",
       "5143 16.826923 2.822980 0   0   1   0   0   0  0  0  1  0  11.0  1.2100\n",
       "5144 24.038462 3.179655 1   0   0   0   1   0  0  0  1  0  17.0  2.8900\n",
       "5145 13.846154 2.628007 0   0   0   0   1   0  0  0  1  0  10.0  1.0000\n",
       "5146 14.769231 2.692546 0   0   0   0   1   0  0  0  1  0   9.0  0.8100\n",
       "5147 23.076923 3.138833 1   0   0   1   0   0  0  0  1  0  12.0  1.4400\n",
       "5148 38.461538 3.649659 0   0   0   0   0   1  0  0  1  0  11.0  1.2100\n",
       "5149 32.967033 3.495508 0   0   1   0   0   0  0  0  1  0  10.0  1.0000\n",
       "5150 17.307692 2.851151 0   0   0   0   0   1  0  0  1  0  14.0  1.9600\n",
       "     exp3      exp4         occ  occ2 ind  dummy\n",
       "1     0.343000   0.24010000 3600 11   8370 NA   \n",
       "2    29.791000  92.35210000 3050 10   5070 1    \n",
       "3     5.832000  10.49760000 6260 19    770 1    \n",
       "4    15.625000  39.06250000  420  1   6990 1    \n",
       "5    10.648000  23.42560000 2015  6   9470 1    \n",
       "6     0.001000   0.00010000 1650  5   7460 NA   \n",
       "7    74.088000 311.16960000 5120 17   7280 1    \n",
       "8    50.653000 187.41610000 5240 17   5680 1    \n",
       "9    29.791000  92.35210000 4040 13   8590 1    \n",
       "10    0.064000   0.02560000 3255 10   8190 NA   \n",
       "11    0.343000   0.24010000 4020 13   8270 NA   \n",
       "12   27.000000  81.00000000 4220 14   8270 1    \n",
       "13    0.166375   0.09150625 3600 11   8270 NA   \n",
       "14    8.615125  17.66100625 3645 11   8190 1    \n",
       "15   15.625000  39.06250000  110  1   7870 1    \n",
       "16    4.096000   6.55360000 6355 19    770 1    \n",
       "17   19.683000  53.14410000 6320 19    770 1    \n",
       "18    0.042875   0.01500625 7410 20    570 NA   \n",
       "19    0.216000   0.12960000 7000 20   4690 NA   \n",
       "20    0.512000   0.40960000 4000 13   8680 NA   \n",
       "21    0.274625   0.17850625 4300 15   8590 NA   \n",
       "22    0.614125   0.52200625 3600 11   8190 NA   \n",
       "23    1.331000   1.46410000 2310  8   7860 1    \n",
       "24    1.331000   1.46410000 6200 19    770 1    \n",
       "25   14.706125  36.03000625   20  1   5480 1    \n",
       "26    0.512000   0.40960000 4800 16   7390 NA   \n",
       "27    0.125000   0.06250000  430  1   7390 NA   \n",
       "28    0.091125   0.04100625 6330 19    770 NA   \n",
       "29    0.512000   0.40960000 5400 17   4870 NA   \n",
       "30   17.576000  45.69760000 6230 19   6570 1    \n",
       "⋮    ⋮         ⋮            ⋮    ⋮    ⋮    ⋮    \n",
       "5121  0.343000   0.2401000  3820 12   9590 NA   \n",
       "5122  0.008000   0.0016000  2200  8   7870 NA   \n",
       "5123  0.421875   0.3164062   220  1    770 NA   \n",
       "5124  0.125000   0.0625000  1360  4    770 NA   \n",
       "5125 13.824000  33.1776000  2310  8   7860 1    \n",
       "5126 23.149125  65.9750063  8140 21    770 1    \n",
       "5127 15.625000  39.0625000  3930 12   7680 1    \n",
       "5128  6.859000  13.0321000  2750  9   8560 1    \n",
       "5129  0.512000   0.4096000   710  2   6870 NA   \n",
       "5130  1.728000   2.0736000  4010 13   8680 1    \n",
       "5131  0.216000   0.1296000  2320  8   7860 NA   \n",
       "5132 15.625000  39.0625000  3255 10   8170 1    \n",
       "5133  8.000000  16.0000000  4110 13   8680 1    \n",
       "5134  4.913000   8.3521000  9620 22   6290 1    \n",
       "5135 31.255875  98.4560063  5510 17   6380 1    \n",
       "5136  3.375000   5.0625000  2010  6   9370 1    \n",
       "5137 39.304000 133.6336000  2310  8   7860 1    \n",
       "5138  0.512000   0.4096000  4720 16   8590 NA   \n",
       "5139  0.512000   0.4096000  2000  6   8090 NA   \n",
       "5140 21.952000  61.4656000    40  1   9170 1    \n",
       "5141  0.125000   0.0625000  3255 10   8190 NA   \n",
       "5142  3.375000   5.0625000  9620 22   5390 1    \n",
       "5143  1.331000   1.4641000  7150 20   8770 1    \n",
       "5144  4.913000   8.3521000  2550  8   9480 1    \n",
       "5145  1.000000   1.0000000   800  2    770 NA   \n",
       "5146  0.729000   0.6561000  4700 16   4970 NA   \n",
       "5147  1.728000   2.0736000  4110 13   8680 1    \n",
       "5148  1.331000   1.4641000  1550  4   3680 1    \n",
       "5149  1.000000   1.0000000  2920  9   6570 NA   \n",
       "5150  2.744000   3.8416000  1610  5   7460 1    "
      ]
     },
     "metadata": {},
     "output_type": "display_data"
    }
   ],
   "source": [
    "base1$dummy[base1$exp1 > 10] <- 1\n",
    "base1"
   ]
  },
  {
   "cell_type": "markdown",
   "metadata": {},
   "source": [
    "## If condition\n",
    "The body of the if condition is excuted if the `test_expression` is `TRUE`. The ouput of the test expression should be a `boolean`variable. \n",
    "\n",
    "<img src=\"if-statement.jpg\" alt=\"image info\" />\n"
   ]
  },
  {
   "cell_type": "markdown",
   "metadata": {},
   "source": [
    "The structure of the code is the following: <br><br>\n",
    "\n",
    "<font size=\"4\">\n",
    "if <font color='green'>(test expresion)</font>{<br>\n",
    "&nbsp;&nbsp;&nbsp;&nbsp;Code to excute<br>\n",
    "}</font>\n",
    "\n",
    "The function **if** tests the veracity of a logic expression. The result of test statement should be a **<font color='red'>boolean</font>**. In other words, the output of the test statemen must be **<font color='red'>TRUE</font>** or **<font color='red'>FALSE</font>**. To sum, any function that its output is **boolean** can be used as a test expression in the **if** function. "
   ]
  },
  {
   "cell_type": "code",
   "execution_count": 85,
   "metadata": {},
   "outputs": [],
   "source": [
    "x <- -4\n",
    "\n",
    "if(x > 0){\n",
    "print(\"Non-negative number\")\n",
    "}"
   ]
  },
  {
   "cell_type": "markdown",
   "metadata": {},
   "source": [
    "### Tests more than 1 expression\n",
    "\n",
    "We will use **else if**. This function allows us to add more test expressions.  <br><br>\n",
    "\n",
    "<font size=\"3\">\n",
    "if <font color='green'>(Test expression 1)</font>{ <br>\n",
    "&nbsp;&nbsp;&nbsp;&nbsp;Code1<br><br>\n",
    "} else if <font color='green'>(Test expression 2)</font>{<br>\n",
    "&nbsp;&nbsp;&nbsp;&nbsp;Code2<br><br>\n",
    "} else if <font color='green'>(Test expression 3)</font>{<br>\n",
    "&nbsp;&nbsp;&nbsp;&nbsp;Code3<br><br>\n",
    "} else if <font color='green'>(Test expression 4)</font>{<br>\n",
    "&nbsp;&nbsp;&nbsp;&nbsp;Code4<br><br>\n",
    "} else if <font color='green'>(Test expression 5)</font>{<br>\n",
    "&nbsp;&nbsp;&nbsp;&nbsp;Code5<br><br>\n",
    "}else{<br>&nbsp;&nbsp;&nbsp;&nbsp;Code6<br><br>\n",
    "}</font>\n",
    "\n",
    "R will read the conditions of the test in order. If **Test expression 1** is `TRUE`, the rest of the test expressions will not be evaluated. R execute **Code2** and will not test the next conditions. <br>\n",
    "\n",
    "In case no Test expression is `TRUE`, the **Code6** will be excuted."
   ]
  },
  {
   "cell_type": "code",
   "execution_count": 86,
   "metadata": {},
   "outputs": [],
   "source": [
    "if (3 > 9) {\n",
    "    print('xsd')\n",
    "}"
   ]
  },
  {
   "cell_type": "code",
   "execution_count": 87,
   "metadata": {},
   "outputs": [
    {
     "name": "stdout",
     "output_type": "stream",
     "text": [
      "[1] \"xsd\"\n"
     ]
    }
   ],
   "source": [
    "if ((z <- 12) >= 9){\n",
    "    print('xsd')\n",
    "}"
   ]
  },
  {
   "cell_type": "code",
   "execution_count": 88,
   "metadata": {},
   "outputs": [
    {
     "name": "stdout",
     "output_type": "stream",
     "text": [
      "[1] \"Positive number\"\n"
     ]
    }
   ],
   "source": [
    "x <- 5\n",
    "\n",
    "if (x < 0) {\n",
    "print(\"Negative number\")\n",
    "} else if (x > 0) {\n",
    "print(\"Positive number\")\n",
    "} else {\n",
    "print(\"Zero\")}"
   ]
  },
  {
   "cell_type": "markdown",
   "metadata": {},
   "source": [
    "## Loops\n",
    "A for loop is used for iterating over a sequence. It has the following structure:\n",
    "\n",
    "<img src=\"for_loop.jpg\" alt=\"image info\" />\n",
    "\n"
   ]
  },
  {
   "cell_type": "code",
   "execution_count": 89,
   "metadata": {},
   "outputs": [
    {
     "data": {
      "text/html": [
       "<pre class=language-r><code>.Primitive(\"length\")</code></pre>"
      ],
      "text/latex": [
       "\\begin{minted}{r}\n",
       ".Primitive(\"length\")\n",
       "\\end{minted}"
      ],
      "text/markdown": [
       "```r\n",
       ".Primitive(\"length\")\n",
       "```"
      ],
      "text/plain": [
       "function (x)  .Primitive(\"length\")"
      ]
     },
     "metadata": {},
     "output_type": "display_data"
    }
   ],
   "source": [
    "age = c( 20 , 27 , 31 , 25 , 28 )\n",
    "years = c( 2023 , 2021 , 2022 , 2026 , 2027, 2028 )\n",
    "length"
   ]
  },
  {
   "cell_type": "code",
   "execution_count": 90,
   "metadata": {},
   "outputs": [
    {
     "data": {
      "text/html": [
       "<style>\n",
       ".list-inline {list-style: none; margin:0; padding: 0}\n",
       ".list-inline>li {display: inline-block}\n",
       ".list-inline>li:not(:last-child)::after {content: \"\\00b7\"; padding: 0 .5ex}\n",
       "</style>\n",
       "<ol class=list-inline><li>0</li><li>0</li><li>0</li><li>0</li><li>0</li></ol>\n"
      ],
      "text/latex": [
       "\\begin{enumerate*}\n",
       "\\item 0\n",
       "\\item 0\n",
       "\\item 0\n",
       "\\item 0\n",
       "\\item 0\n",
       "\\end{enumerate*}\n"
      ],
      "text/markdown": [
       "1. 0\n",
       "2. 0\n",
       "3. 0\n",
       "4. 0\n",
       "5. 0\n",
       "\n",
       "\n"
      ],
      "text/plain": [
       "[1] 0 0 0 0 0"
      ]
     },
     "metadata": {},
     "output_type": "display_data"
    }
   ],
   "source": [
    "age_finish <- numeric( length = length( age ) )\n",
    "age_finish"
   ]
  },
  {
   "cell_type": "code",
   "execution_count": 91,
   "metadata": {},
   "outputs": [
    {
     "name": "stdout",
     "output_type": "stream",
     "text": [
      "[1] 2\n",
      "[1] 3\n",
      "[1] 4\n",
      "[1] 5\n",
      "[1] 6\n"
     ]
    }
   ],
   "source": [
    "for ( i in c(1:length(age)) ) {\n",
    "  print(i + 1)\n",
    "}"
   ]
  },
  {
   "cell_type": "code",
   "execution_count": 92,
   "metadata": {},
   "outputs": [
    {
     "name": "stdout",
     "output_type": "stream",
     "text": [
      "[1] 22 27 32 30 34\n"
     ]
    }
   ],
   "source": [
    "for ( i in c( 1:length( age ) ) ) {\n",
    "  age_finish[ i ] = age[ i ] + years[ i ] - 2021\n",
    "}\n",
    "print( age_finish )"
   ]
  },
  {
   "cell_type": "markdown",
   "metadata": {},
   "source": [
    "## Functions in R\n",
    "\n",
    "- `Arguments` − Elements that the function will use to make operations. Arguments are optional and can have default values.\n",
    "\n",
    "- `Function Body` − This defines what your function does.\n",
    "- `return` − Specifies the variable that will be the output of the function.\n",
    "\n",
    "Return Value − The return value of a function is the last expression in the function body to be evaluated.\n",
    "<br><br>\n",
    "<font size=\"4\">\n",
    "function <font color='green'>(arg_1, arg_2, ...) </font>{<br><br>\n",
    "&nbsp;&nbsp;&nbsp;&nbsp;Function body <br>\n",
    "    <br> &nbsp;&nbsp;&nbsp;&nbsp;return <br>\n",
    "}</font>\n"
   ]
  },
  {
   "cell_type": "code",
   "execution_count": 93,
   "metadata": {},
   "outputs": [],
   "source": [
    "demean<- function(x){ \n",
    "    new_var = x - mean(x)\n",
    "    new_var_2 = new_var^4\n",
    "    return( new_var_2 )\n",
    "}"
   ]
  },
  {
   "cell_type": "code",
   "execution_count": 94,
   "metadata": {},
   "outputs": [],
   "source": [
    "vector_2 = c(2 , 3, 4)"
   ]
  },
  {
   "cell_type": "code",
   "execution_count": 95,
   "metadata": {},
   "outputs": [
    {
     "data": {
      "text/html": [
       "<style>\n",
       ".list-inline {list-style: none; margin:0; padding: 0}\n",
       ".list-inline>li {display: inline-block}\n",
       ".list-inline>li:not(:last-child)::after {content: \"\\00b7\"; padding: 0 .5ex}\n",
       "</style>\n",
       "<ol class=list-inline><li>1</li><li>0</li><li>1</li></ol>\n"
      ],
      "text/latex": [
       "\\begin{enumerate*}\n",
       "\\item 1\n",
       "\\item 0\n",
       "\\item 1\n",
       "\\end{enumerate*}\n"
      ],
      "text/markdown": [
       "1. 1\n",
       "2. 0\n",
       "3. 1\n",
       "\n",
       "\n"
      ],
      "text/plain": [
       "[1] 1 0 1"
      ]
     },
     "metadata": {},
     "output_type": "display_data"
    }
   ],
   "source": [
    "demean( vector_2 )"
   ]
  },
  {
   "cell_type": "markdown",
   "metadata": {},
   "source": [
    "## Linear Regressions"
   ]
  },
  {
   "cell_type": "markdown",
   "metadata": {},
   "source": [
    "## Packages"
   ]
  },
  {
   "cell_type": "code",
   "execution_count": 96,
   "metadata": {},
   "outputs": [
    {
     "name": "stderr",
     "output_type": "stream",
     "text": [
      "Installing package into 'C:/Users/Roberto/AppData/Local/R/win-library/4.2'\n",
      "(as 'lib' is unspecified)\n",
      "\n"
     ]
    },
    {
     "name": "stdout",
     "output_type": "stream",
     "text": [
      "package 'glmnet' successfully unpacked and MD5 sums checked\n",
      "\n",
      "The downloaded binary packages are in\n",
      "\tC:\\Users\\Roberto\\AppData\\Local\\Temp\\RtmpATAaZL\\downloaded_packages\n"
     ]
    }
   ],
   "source": [
    "install.packages( \"glmnet\" )"
   ]
  },
  {
   "cell_type": "code",
   "execution_count": 97,
   "metadata": {},
   "outputs": [
    {
     "name": "stderr",
     "output_type": "stream",
     "text": [
      "Loading required package: Matrix\n",
      "\n",
      "Loaded glmnet 4.1-4\n",
      "\n"
     ]
    }
   ],
   "source": [
    "library(glmnet)"
   ]
  },
  {
   "cell_type": "code",
   "execution_count": 99,
   "metadata": {},
   "outputs": [
    {
     "data": {
      "text/html": [
       "<style>\n",
       ".list-inline {list-style: none; margin:0; padding: 0}\n",
       ".list-inline>li {display: inline-block}\n",
       ".list-inline>li:not(:last-child)::after {content: \"\\00b7\"; padding: 0 .5ex}\n",
       "</style>\n",
       "<ol class=list-inline><li>13913</li><li>23</li></ol>\n"
      ],
      "text/latex": [
       "\\begin{enumerate*}\n",
       "\\item 13913\n",
       "\\item 23\n",
       "\\end{enumerate*}\n"
      ],
      "text/markdown": [
       "1. 13913\n",
       "2. 23\n",
       "\n",
       "\n"
      ],
      "text/plain": [
       "[1] 13913    23"
      ]
     },
     "metadata": {},
     "output_type": "display_data"
    }
   ],
   "source": [
    "\n",
    "# Reading data and converting to dataframe\n",
    "Penn <- as.data.frame(read.table(\"../../../data/penn_jae.dat\", header=T ))\n",
    "dim(Penn)"
   ]
  },
  {
   "cell_type": "code",
   "execution_count": 100,
   "metadata": {},
   "outputs": [
    {
     "data": {
      "text/html": [
       "<table class=\"dataframe\">\n",
       "<caption>A data.frame: 13913 × 23</caption>\n",
       "<thead>\n",
       "\t<tr><th scope=col>abdt</th><th scope=col>tg</th><th scope=col>inuidur1</th><th scope=col>inuidur2</th><th scope=col>female</th><th scope=col>black</th><th scope=col>hispanic</th><th scope=col>othrace</th><th scope=col>dep</th><th scope=col>q1</th><th scope=col>⋯</th><th scope=col>q5</th><th scope=col>q6</th><th scope=col>recall</th><th scope=col>agelt35</th><th scope=col>agegt54</th><th scope=col>durable</th><th scope=col>nondurable</th><th scope=col>lusd</th><th scope=col>husd</th><th scope=col>muld</th></tr>\n",
       "\t<tr><th scope=col>&lt;int&gt;</th><th scope=col>&lt;int&gt;</th><th scope=col>&lt;int&gt;</th><th scope=col>&lt;int&gt;</th><th scope=col>&lt;int&gt;</th><th scope=col>&lt;int&gt;</th><th scope=col>&lt;int&gt;</th><th scope=col>&lt;int&gt;</th><th scope=col>&lt;int&gt;</th><th scope=col>&lt;int&gt;</th><th scope=col>⋯</th><th scope=col>&lt;int&gt;</th><th scope=col>&lt;int&gt;</th><th scope=col>&lt;int&gt;</th><th scope=col>&lt;int&gt;</th><th scope=col>&lt;int&gt;</th><th scope=col>&lt;int&gt;</th><th scope=col>&lt;int&gt;</th><th scope=col>&lt;int&gt;</th><th scope=col>&lt;int&gt;</th><th scope=col>&lt;int&gt;</th></tr>\n",
       "</thead>\n",
       "<tbody>\n",
       "\t<tr><td>10824</td><td>0</td><td>18</td><td>18</td><td>0</td><td>0</td><td>0</td><td>0</td><td>2</td><td>0</td><td>⋯</td><td>1</td><td>0</td><td>0</td><td>0</td><td>0</td><td>0</td><td>0</td><td>0</td><td>1</td><td>0</td></tr>\n",
       "\t<tr><td>10635</td><td>2</td><td> 7</td><td> 3</td><td>0</td><td>0</td><td>0</td><td>0</td><td>0</td><td>0</td><td>⋯</td><td>0</td><td>0</td><td>0</td><td>1</td><td>0</td><td>0</td><td>0</td><td>1</td><td>0</td><td>0</td></tr>\n",
       "\t<tr><td>10551</td><td>5</td><td>18</td><td> 6</td><td>1</td><td>0</td><td>0</td><td>0</td><td>0</td><td>0</td><td>⋯</td><td>0</td><td>0</td><td>1</td><td>0</td><td>1</td><td>0</td><td>0</td><td>0</td><td>0</td><td>0</td></tr>\n",
       "\t<tr><td>10824</td><td>0</td><td> 1</td><td> 1</td><td>0</td><td>0</td><td>0</td><td>0</td><td>0</td><td>0</td><td>⋯</td><td>1</td><td>0</td><td>0</td><td>0</td><td>0</td><td>0</td><td>0</td><td>1</td><td>0</td><td>0</td></tr>\n",
       "\t<tr><td>10747</td><td>0</td><td>27</td><td>27</td><td>0</td><td>0</td><td>0</td><td>0</td><td>0</td><td>0</td><td>⋯</td><td>0</td><td>0</td><td>0</td><td>0</td><td>0</td><td>0</td><td>0</td><td>1</td><td>0</td><td>0</td></tr>\n",
       "\t<tr><td>10544</td><td>6</td><td> 7</td><td> 7</td><td>0</td><td>0</td><td>0</td><td>0</td><td>0</td><td>0</td><td>⋯</td><td>0</td><td>0</td><td>0</td><td>0</td><td>0</td><td>0</td><td>0</td><td>0</td><td>0</td><td>1</td></tr>\n",
       "\t<tr><td>10845</td><td>1</td><td> 1</td><td> 1</td><td>0</td><td>0</td><td>0</td><td>0</td><td>0</td><td>0</td><td>⋯</td><td>1</td><td>0</td><td>0</td><td>1</td><td>0</td><td>0</td><td>0</td><td>1</td><td>0</td><td>0</td></tr>\n",
       "\t<tr><td>10670</td><td>3</td><td> 3</td><td> 3</td><td>1</td><td>0</td><td>0</td><td>0</td><td>2</td><td>0</td><td>⋯</td><td>0</td><td>0</td><td>0</td><td>1</td><td>0</td><td>0</td><td>0</td><td>0</td><td>0</td><td>1</td></tr>\n",
       "\t<tr><td>10768</td><td>3</td><td>28</td><td>11</td><td>1</td><td>0</td><td>0</td><td>0</td><td>0</td><td>0</td><td>⋯</td><td>0</td><td>0</td><td>0</td><td>0</td><td>0</td><td>0</td><td>0</td><td>0</td><td>0</td><td>1</td></tr>\n",
       "\t<tr><td>10754</td><td>2</td><td>20</td><td>20</td><td>1</td><td>0</td><td>0</td><td>0</td><td>0</td><td>0</td><td>⋯</td><td>0</td><td>0</td><td>0</td><td>0</td><td>0</td><td>0</td><td>0</td><td>0</td><td>0</td><td>1</td></tr>\n",
       "\t<tr><td>10712</td><td>3</td><td> 6</td><td> 6</td><td>0</td><td>0</td><td>0</td><td>0</td><td>2</td><td>0</td><td>⋯</td><td>0</td><td>0</td><td>0</td><td>0</td><td>0</td><td>1</td><td>0</td><td>0</td><td>0</td><td>1</td></tr>\n",
       "\t<tr><td>10607</td><td>4</td><td> 9</td><td> 9</td><td>0</td><td>0</td><td>0</td><td>0</td><td>0</td><td>0</td><td>⋯</td><td>0</td><td>0</td><td>0</td><td>1</td><td>0</td><td>0</td><td>0</td><td>0</td><td>0</td><td>1</td></tr>\n",
       "\t<tr><td>10831</td><td>0</td><td>27</td><td>27</td><td>0</td><td>0</td><td>0</td><td>0</td><td>1</td><td>0</td><td>⋯</td><td>1</td><td>0</td><td>0</td><td>0</td><td>1</td><td>1</td><td>0</td><td>1</td><td>0</td><td>0</td></tr>\n",
       "\t<tr><td>10845</td><td>0</td><td>27</td><td>27</td><td>1</td><td>0</td><td>0</td><td>0</td><td>0</td><td>0</td><td>⋯</td><td>1</td><td>0</td><td>0</td><td>0</td><td>1</td><td>0</td><td>0</td><td>1</td><td>0</td><td>0</td></tr>\n",
       "\t<tr><td>10831</td><td>0</td><td> 9</td><td> 9</td><td>1</td><td>0</td><td>0</td><td>0</td><td>1</td><td>0</td><td>⋯</td><td>1</td><td>0</td><td>0</td><td>0</td><td>1</td><td>0</td><td>0</td><td>1</td><td>0</td><td>0</td></tr>\n",
       "\t<tr><td>10551</td><td>3</td><td>27</td><td>27</td><td>1</td><td>0</td><td>0</td><td>0</td><td>0</td><td>0</td><td>⋯</td><td>0</td><td>0</td><td>0</td><td>1</td><td>0</td><td>0</td><td>1</td><td>1</td><td>0</td><td>0</td></tr>\n",
       "\t<tr><td>10859</td><td>0</td><td>27</td><td>27</td><td>1</td><td>0</td><td>0</td><td>0</td><td>1</td><td>0</td><td>⋯</td><td>0</td><td>1</td><td>0</td><td>0</td><td>0</td><td>0</td><td>0</td><td>1</td><td>0</td><td>0</td></tr>\n",
       "\t<tr><td>10740</td><td>1</td><td>15</td><td>15</td><td>1</td><td>0</td><td>0</td><td>0</td><td>2</td><td>0</td><td>⋯</td><td>0</td><td>0</td><td>0</td><td>0</td><td>0</td><td>0</td><td>0</td><td>1</td><td>0</td><td>0</td></tr>\n",
       "\t<tr><td>10537</td><td>1</td><td> 1</td><td> 1</td><td>0</td><td>1</td><td>0</td><td>0</td><td>0</td><td>0</td><td>⋯</td><td>0</td><td>0</td><td>0</td><td>1</td><td>0</td><td>0</td><td>0</td><td>0</td><td>0</td><td>1</td></tr>\n",
       "\t<tr><td>10663</td><td>6</td><td>26</td><td>26</td><td>1</td><td>0</td><td>0</td><td>0</td><td>0</td><td>0</td><td>⋯</td><td>0</td><td>0</td><td>0</td><td>0</td><td>1</td><td>0</td><td>0</td><td>0</td><td>1</td><td>0</td></tr>\n",
       "\t<tr><td>10656</td><td>5</td><td>30</td><td> 9</td><td>0</td><td>0</td><td>0</td><td>0</td><td>1</td><td>0</td><td>⋯</td><td>0</td><td>0</td><td>0</td><td>0</td><td>0</td><td>0</td><td>0</td><td>1</td><td>0</td><td>0</td></tr>\n",
       "\t<tr><td>10628</td><td>2</td><td>27</td><td>27</td><td>0</td><td>0</td><td>0</td><td>0</td><td>0</td><td>0</td><td>⋯</td><td>0</td><td>0</td><td>0</td><td>0</td><td>0</td><td>0</td><td>0</td><td>0</td><td>0</td><td>1</td></tr>\n",
       "\t<tr><td>10516</td><td>0</td><td>15</td><td>15</td><td>1</td><td>0</td><td>0</td><td>0</td><td>0</td><td>0</td><td>⋯</td><td>0</td><td>0</td><td>0</td><td>0</td><td>0</td><td>0</td><td>0</td><td>1</td><td>0</td><td>0</td></tr>\n",
       "\t<tr><td>10803</td><td>2</td><td> 3</td><td> 3</td><td>1</td><td>0</td><td>0</td><td>0</td><td>0</td><td>0</td><td>⋯</td><td>1</td><td>0</td><td>0</td><td>0</td><td>0</td><td>0</td><td>0</td><td>0</td><td>1</td><td>0</td></tr>\n",
       "\t<tr><td>10663</td><td>0</td><td>28</td><td>11</td><td>1</td><td>0</td><td>0</td><td>0</td><td>0</td><td>0</td><td>⋯</td><td>0</td><td>0</td><td>0</td><td>0</td><td>1</td><td>0</td><td>0</td><td>1</td><td>0</td><td>0</td></tr>\n",
       "\t<tr><td>10747</td><td>0</td><td>12</td><td>12</td><td>1</td><td>0</td><td>0</td><td>0</td><td>2</td><td>0</td><td>⋯</td><td>0</td><td>0</td><td>1</td><td>1</td><td>0</td><td>0</td><td>0</td><td>0</td><td>0</td><td>1</td></tr>\n",
       "\t<tr><td>10551</td><td>4</td><td>22</td><td>22</td><td>1</td><td>0</td><td>1</td><td>0</td><td>2</td><td>0</td><td>⋯</td><td>0</td><td>0</td><td>0</td><td>1</td><td>0</td><td>0</td><td>0</td><td>0</td><td>0</td><td>1</td></tr>\n",
       "\t<tr><td>10635</td><td>2</td><td>17</td><td>10</td><td>1</td><td>0</td><td>0</td><td>0</td><td>0</td><td>0</td><td>⋯</td><td>0</td><td>0</td><td>0</td><td>0</td><td>0</td><td>0</td><td>0</td><td>1</td><td>0</td><td>0</td></tr>\n",
       "\t<tr><td>10761</td><td>2</td><td>13</td><td>13</td><td>0</td><td>0</td><td>0</td><td>0</td><td>0</td><td>0</td><td>⋯</td><td>0</td><td>0</td><td>0</td><td>1</td><td>0</td><td>0</td><td>0</td><td>0</td><td>0</td><td>1</td></tr>\n",
       "\t<tr><td>10586</td><td>1</td><td> 8</td><td> 8</td><td>1</td><td>0</td><td>0</td><td>0</td><td>1</td><td>0</td><td>⋯</td><td>0</td><td>0</td><td>0</td><td>0</td><td>0</td><td>0</td><td>0</td><td>0</td><td>0</td><td>1</td></tr>\n",
       "\t<tr><td>⋮</td><td>⋮</td><td>⋮</td><td>⋮</td><td>⋮</td><td>⋮</td><td>⋮</td><td>⋮</td><td>⋮</td><td>⋮</td><td>⋱</td><td>⋮</td><td>⋮</td><td>⋮</td><td>⋮</td><td>⋮</td><td>⋮</td><td>⋮</td><td>⋮</td><td>⋮</td><td>⋮</td></tr>\n",
       "\t<tr><td>10873</td><td>3</td><td>25</td><td>25</td><td>0</td><td>0</td><td>1</td><td>0</td><td>0</td><td>0</td><td>⋯</td><td>0</td><td>1</td><td>0</td><td>1</td><td>0</td><td>0</td><td>0</td><td>1</td><td>0</td><td>0</td></tr>\n",
       "\t<tr><td>10873</td><td>1</td><td>11</td><td>11</td><td>0</td><td>0</td><td>1</td><td>0</td><td>0</td><td>0</td><td>⋯</td><td>0</td><td>1</td><td>0</td><td>1</td><td>0</td><td>0</td><td>0</td><td>0</td><td>0</td><td>1</td></tr>\n",
       "\t<tr><td>10614</td><td>6</td><td> 5</td><td> 5</td><td>0</td><td>0</td><td>1</td><td>0</td><td>2</td><td>0</td><td>⋯</td><td>0</td><td>0</td><td>0</td><td>1</td><td>0</td><td>1</td><td>0</td><td>0</td><td>0</td><td>1</td></tr>\n",
       "\t<tr><td>10621</td><td>3</td><td> 1</td><td> 1</td><td>0</td><td>0</td><td>1</td><td>0</td><td>0</td><td>0</td><td>⋯</td><td>0</td><td>0</td><td>0</td><td>1</td><td>0</td><td>1</td><td>0</td><td>0</td><td>0</td><td>1</td></tr>\n",
       "\t<tr><td>10642</td><td>0</td><td>10</td><td>10</td><td>0</td><td>0</td><td>0</td><td>0</td><td>0</td><td>0</td><td>⋯</td><td>0</td><td>0</td><td>0</td><td>1</td><td>0</td><td>1</td><td>0</td><td>1</td><td>0</td><td>0</td></tr>\n",
       "\t<tr><td>10796</td><td>3</td><td>10</td><td>10</td><td>0</td><td>0</td><td>0</td><td>0</td><td>2</td><td>0</td><td>⋯</td><td>1</td><td>0</td><td>0</td><td>0</td><td>0</td><td>1</td><td>0</td><td>1</td><td>0</td><td>0</td></tr>\n",
       "\t<tr><td>10852</td><td>5</td><td> 4</td><td> 4</td><td>1</td><td>0</td><td>0</td><td>0</td><td>0</td><td>0</td><td>⋯</td><td>1</td><td>0</td><td>0</td><td>0</td><td>0</td><td>1</td><td>0</td><td>1</td><td>0</td><td>0</td></tr>\n",
       "\t<tr><td>10670</td><td>0</td><td>20</td><td>20</td><td>0</td><td>0</td><td>0</td><td>0</td><td>0</td><td>0</td><td>⋯</td><td>0</td><td>0</td><td>0</td><td>1</td><td>0</td><td>1</td><td>0</td><td>0</td><td>1</td><td>0</td></tr>\n",
       "\t<tr><td>10530</td><td>0</td><td>27</td><td>27</td><td>1</td><td>0</td><td>0</td><td>1</td><td>0</td><td>0</td><td>⋯</td><td>0</td><td>0</td><td>0</td><td>1</td><td>0</td><td>0</td><td>0</td><td>0</td><td>0</td><td>1</td></tr>\n",
       "\t<tr><td>10691</td><td>0</td><td>27</td><td>27</td><td>1</td><td>0</td><td>0</td><td>1</td><td>0</td><td>0</td><td>⋯</td><td>0</td><td>0</td><td>0</td><td>0</td><td>0</td><td>1</td><td>0</td><td>1</td><td>0</td><td>0</td></tr>\n",
       "\t<tr><td>10796</td><td>0</td><td>15</td><td>15</td><td>1</td><td>0</td><td>0</td><td>1</td><td>0</td><td>0</td><td>⋯</td><td>1</td><td>0</td><td>0</td><td>1</td><td>0</td><td>1</td><td>0</td><td>1</td><td>0</td><td>0</td></tr>\n",
       "\t<tr><td>10635</td><td>4</td><td>20</td><td>20</td><td>0</td><td>0</td><td>0</td><td>1</td><td>0</td><td>0</td><td>⋯</td><td>0</td><td>0</td><td>0</td><td>1</td><td>0</td><td>0</td><td>0</td><td>0</td><td>0</td><td>1</td></tr>\n",
       "\t<tr><td>10859</td><td>0</td><td> 1</td><td> 1</td><td>1</td><td>0</td><td>0</td><td>1</td><td>0</td><td>0</td><td>⋯</td><td>0</td><td>1</td><td>0</td><td>1</td><td>0</td><td>0</td><td>0</td><td>1</td><td>0</td><td>0</td></tr>\n",
       "\t<tr><td>10663</td><td>5</td><td> 1</td><td> 1</td><td>1</td><td>1</td><td>0</td><td>0</td><td>0</td><td>0</td><td>⋯</td><td>0</td><td>0</td><td>0</td><td>0</td><td>0</td><td>0</td><td>0</td><td>1</td><td>0</td><td>0</td></tr>\n",
       "\t<tr><td>10789</td><td>5</td><td> 2</td><td> 2</td><td>1</td><td>0</td><td>0</td><td>1</td><td>2</td><td>0</td><td>⋯</td><td>1</td><td>0</td><td>0</td><td>1</td><td>0</td><td>1</td><td>0</td><td>1</td><td>0</td><td>0</td></tr>\n",
       "\t<tr><td>10796</td><td>0</td><td>23</td><td>23</td><td>0</td><td>1</td><td>0</td><td>0</td><td>0</td><td>0</td><td>⋯</td><td>1</td><td>0</td><td>0</td><td>0</td><td>0</td><td>0</td><td>0</td><td>0</td><td>0</td><td>1</td></tr>\n",
       "\t<tr><td>10740</td><td>4</td><td>13</td><td>13</td><td>1</td><td>1</td><td>0</td><td>0</td><td>0</td><td>0</td><td>⋯</td><td>0</td><td>0</td><td>1</td><td>1</td><td>0</td><td>0</td><td>0</td><td>1</td><td>0</td><td>0</td></tr>\n",
       "\t<tr><td>10845</td><td>0</td><td> 6</td><td> 6</td><td>1</td><td>0</td><td>0</td><td>1</td><td>2</td><td>0</td><td>⋯</td><td>1</td><td>0</td><td>0</td><td>0</td><td>0</td><td>0</td><td>1</td><td>0</td><td>0</td><td>1</td></tr>\n",
       "\t<tr><td>10705</td><td>2</td><td>14</td><td>14</td><td>0</td><td>1</td><td>0</td><td>0</td><td>0</td><td>0</td><td>⋯</td><td>0</td><td>0</td><td>0</td><td>0</td><td>0</td><td>1</td><td>0</td><td>0</td><td>0</td><td>1</td></tr>\n",
       "\t<tr><td>10768</td><td>3</td><td>28</td><td>28</td><td>0</td><td>0</td><td>1</td><td>0</td><td>0</td><td>0</td><td>⋯</td><td>1</td><td>0</td><td>1</td><td>1</td><td>0</td><td>0</td><td>0</td><td>1</td><td>0</td><td>0</td></tr>\n",
       "\t<tr><td>10747</td><td>3</td><td>15</td><td>15</td><td>1</td><td>0</td><td>1</td><td>0</td><td>0</td><td>0</td><td>⋯</td><td>0</td><td>0</td><td>0</td><td>1</td><td>0</td><td>0</td><td>0</td><td>1</td><td>0</td><td>0</td></tr>\n",
       "\t<tr><td>10628</td><td>4</td><td>10</td><td>10</td><td>0</td><td>0</td><td>1</td><td>0</td><td>0</td><td>0</td><td>⋯</td><td>0</td><td>0</td><td>0</td><td>1</td><td>0</td><td>0</td><td>0</td><td>0</td><td>0</td><td>1</td></tr>\n",
       "\t<tr><td>10523</td><td>4</td><td> 4</td><td> 4</td><td>0</td><td>0</td><td>1</td><td>0</td><td>2</td><td>0</td><td>⋯</td><td>0</td><td>0</td><td>0</td><td>0</td><td>0</td><td>0</td><td>0</td><td>0</td><td>0</td><td>1</td></tr>\n",
       "\t<tr><td>10558</td><td>0</td><td> 9</td><td> 9</td><td>0</td><td>0</td><td>0</td><td>0</td><td>2</td><td>0</td><td>⋯</td><td>0</td><td>0</td><td>0</td><td>1</td><td>0</td><td>0</td><td>0</td><td>1</td><td>0</td><td>0</td></tr>\n",
       "\t<tr><td>10621</td><td>1</td><td> 1</td><td> 1</td><td>0</td><td>0</td><td>0</td><td>0</td><td>0</td><td>0</td><td>⋯</td><td>0</td><td>0</td><td>0</td><td>1</td><td>0</td><td>0</td><td>0</td><td>1</td><td>0</td><td>0</td></tr>\n",
       "\t<tr><td>10831</td><td>5</td><td>27</td><td>27</td><td>0</td><td>0</td><td>0</td><td>0</td><td>0</td><td>0</td><td>⋯</td><td>1</td><td>0</td><td>1</td><td>0</td><td>1</td><td>1</td><td>0</td><td>0</td><td>1</td><td>0</td></tr>\n",
       "\t<tr><td>10677</td><td>2</td><td> 4</td><td> 4</td><td>1</td><td>0</td><td>0</td><td>0</td><td>0</td><td>0</td><td>⋯</td><td>0</td><td>0</td><td>0</td><td>0</td><td>1</td><td>0</td><td>0</td><td>1</td><td>0</td><td>0</td></tr>\n",
       "\t<tr><td>10817</td><td>4</td><td> 4</td><td> 4</td><td>0</td><td>0</td><td>0</td><td>0</td><td>0</td><td>0</td><td>⋯</td><td>1</td><td>0</td><td>0</td><td>0</td><td>1</td><td>0</td><td>0</td><td>0</td><td>0</td><td>0</td></tr>\n",
       "\t<tr><td>10691</td><td>0</td><td>27</td><td>27</td><td>0</td><td>0</td><td>0</td><td>0</td><td>0</td><td>0</td><td>⋯</td><td>0</td><td>0</td><td>0</td><td>0</td><td>1</td><td>1</td><td>0</td><td>1</td><td>0</td><td>0</td></tr>\n",
       "\t<tr><td>10677</td><td>5</td><td>25</td><td>25</td><td>0</td><td>0</td><td>0</td><td>0</td><td>0</td><td>0</td><td>⋯</td><td>0</td><td>0</td><td>0</td><td>0</td><td>1</td><td>0</td><td>1</td><td>0</td><td>1</td><td>0</td></tr>\n",
       "</tbody>\n",
       "</table>\n"
      ],
      "text/latex": [
       "A data.frame: 13913 × 23\n",
       "\\begin{tabular}{lllllllllllllllllllll}\n",
       " abdt & tg & inuidur1 & inuidur2 & female & black & hispanic & othrace & dep & q1 & ⋯ & q5 & q6 & recall & agelt35 & agegt54 & durable & nondurable & lusd & husd & muld\\\\\n",
       " <int> & <int> & <int> & <int> & <int> & <int> & <int> & <int> & <int> & <int> & ⋯ & <int> & <int> & <int> & <int> & <int> & <int> & <int> & <int> & <int> & <int>\\\\\n",
       "\\hline\n",
       "\t 10824 & 0 & 18 & 18 & 0 & 0 & 0 & 0 & 2 & 0 & ⋯ & 1 & 0 & 0 & 0 & 0 & 0 & 0 & 0 & 1 & 0\\\\\n",
       "\t 10635 & 2 &  7 &  3 & 0 & 0 & 0 & 0 & 0 & 0 & ⋯ & 0 & 0 & 0 & 1 & 0 & 0 & 0 & 1 & 0 & 0\\\\\n",
       "\t 10551 & 5 & 18 &  6 & 1 & 0 & 0 & 0 & 0 & 0 & ⋯ & 0 & 0 & 1 & 0 & 1 & 0 & 0 & 0 & 0 & 0\\\\\n",
       "\t 10824 & 0 &  1 &  1 & 0 & 0 & 0 & 0 & 0 & 0 & ⋯ & 1 & 0 & 0 & 0 & 0 & 0 & 0 & 1 & 0 & 0\\\\\n",
       "\t 10747 & 0 & 27 & 27 & 0 & 0 & 0 & 0 & 0 & 0 & ⋯ & 0 & 0 & 0 & 0 & 0 & 0 & 0 & 1 & 0 & 0\\\\\n",
       "\t 10544 & 6 &  7 &  7 & 0 & 0 & 0 & 0 & 0 & 0 & ⋯ & 0 & 0 & 0 & 0 & 0 & 0 & 0 & 0 & 0 & 1\\\\\n",
       "\t 10845 & 1 &  1 &  1 & 0 & 0 & 0 & 0 & 0 & 0 & ⋯ & 1 & 0 & 0 & 1 & 0 & 0 & 0 & 1 & 0 & 0\\\\\n",
       "\t 10670 & 3 &  3 &  3 & 1 & 0 & 0 & 0 & 2 & 0 & ⋯ & 0 & 0 & 0 & 1 & 0 & 0 & 0 & 0 & 0 & 1\\\\\n",
       "\t 10768 & 3 & 28 & 11 & 1 & 0 & 0 & 0 & 0 & 0 & ⋯ & 0 & 0 & 0 & 0 & 0 & 0 & 0 & 0 & 0 & 1\\\\\n",
       "\t 10754 & 2 & 20 & 20 & 1 & 0 & 0 & 0 & 0 & 0 & ⋯ & 0 & 0 & 0 & 0 & 0 & 0 & 0 & 0 & 0 & 1\\\\\n",
       "\t 10712 & 3 &  6 &  6 & 0 & 0 & 0 & 0 & 2 & 0 & ⋯ & 0 & 0 & 0 & 0 & 0 & 1 & 0 & 0 & 0 & 1\\\\\n",
       "\t 10607 & 4 &  9 &  9 & 0 & 0 & 0 & 0 & 0 & 0 & ⋯ & 0 & 0 & 0 & 1 & 0 & 0 & 0 & 0 & 0 & 1\\\\\n",
       "\t 10831 & 0 & 27 & 27 & 0 & 0 & 0 & 0 & 1 & 0 & ⋯ & 1 & 0 & 0 & 0 & 1 & 1 & 0 & 1 & 0 & 0\\\\\n",
       "\t 10845 & 0 & 27 & 27 & 1 & 0 & 0 & 0 & 0 & 0 & ⋯ & 1 & 0 & 0 & 0 & 1 & 0 & 0 & 1 & 0 & 0\\\\\n",
       "\t 10831 & 0 &  9 &  9 & 1 & 0 & 0 & 0 & 1 & 0 & ⋯ & 1 & 0 & 0 & 0 & 1 & 0 & 0 & 1 & 0 & 0\\\\\n",
       "\t 10551 & 3 & 27 & 27 & 1 & 0 & 0 & 0 & 0 & 0 & ⋯ & 0 & 0 & 0 & 1 & 0 & 0 & 1 & 1 & 0 & 0\\\\\n",
       "\t 10859 & 0 & 27 & 27 & 1 & 0 & 0 & 0 & 1 & 0 & ⋯ & 0 & 1 & 0 & 0 & 0 & 0 & 0 & 1 & 0 & 0\\\\\n",
       "\t 10740 & 1 & 15 & 15 & 1 & 0 & 0 & 0 & 2 & 0 & ⋯ & 0 & 0 & 0 & 0 & 0 & 0 & 0 & 1 & 0 & 0\\\\\n",
       "\t 10537 & 1 &  1 &  1 & 0 & 1 & 0 & 0 & 0 & 0 & ⋯ & 0 & 0 & 0 & 1 & 0 & 0 & 0 & 0 & 0 & 1\\\\\n",
       "\t 10663 & 6 & 26 & 26 & 1 & 0 & 0 & 0 & 0 & 0 & ⋯ & 0 & 0 & 0 & 0 & 1 & 0 & 0 & 0 & 1 & 0\\\\\n",
       "\t 10656 & 5 & 30 &  9 & 0 & 0 & 0 & 0 & 1 & 0 & ⋯ & 0 & 0 & 0 & 0 & 0 & 0 & 0 & 1 & 0 & 0\\\\\n",
       "\t 10628 & 2 & 27 & 27 & 0 & 0 & 0 & 0 & 0 & 0 & ⋯ & 0 & 0 & 0 & 0 & 0 & 0 & 0 & 0 & 0 & 1\\\\\n",
       "\t 10516 & 0 & 15 & 15 & 1 & 0 & 0 & 0 & 0 & 0 & ⋯ & 0 & 0 & 0 & 0 & 0 & 0 & 0 & 1 & 0 & 0\\\\\n",
       "\t 10803 & 2 &  3 &  3 & 1 & 0 & 0 & 0 & 0 & 0 & ⋯ & 1 & 0 & 0 & 0 & 0 & 0 & 0 & 0 & 1 & 0\\\\\n",
       "\t 10663 & 0 & 28 & 11 & 1 & 0 & 0 & 0 & 0 & 0 & ⋯ & 0 & 0 & 0 & 0 & 1 & 0 & 0 & 1 & 0 & 0\\\\\n",
       "\t 10747 & 0 & 12 & 12 & 1 & 0 & 0 & 0 & 2 & 0 & ⋯ & 0 & 0 & 1 & 1 & 0 & 0 & 0 & 0 & 0 & 1\\\\\n",
       "\t 10551 & 4 & 22 & 22 & 1 & 0 & 1 & 0 & 2 & 0 & ⋯ & 0 & 0 & 0 & 1 & 0 & 0 & 0 & 0 & 0 & 1\\\\\n",
       "\t 10635 & 2 & 17 & 10 & 1 & 0 & 0 & 0 & 0 & 0 & ⋯ & 0 & 0 & 0 & 0 & 0 & 0 & 0 & 1 & 0 & 0\\\\\n",
       "\t 10761 & 2 & 13 & 13 & 0 & 0 & 0 & 0 & 0 & 0 & ⋯ & 0 & 0 & 0 & 1 & 0 & 0 & 0 & 0 & 0 & 1\\\\\n",
       "\t 10586 & 1 &  8 &  8 & 1 & 0 & 0 & 0 & 1 & 0 & ⋯ & 0 & 0 & 0 & 0 & 0 & 0 & 0 & 0 & 0 & 1\\\\\n",
       "\t ⋮ & ⋮ & ⋮ & ⋮ & ⋮ & ⋮ & ⋮ & ⋮ & ⋮ & ⋮ & ⋱ & ⋮ & ⋮ & ⋮ & ⋮ & ⋮ & ⋮ & ⋮ & ⋮ & ⋮ & ⋮\\\\\n",
       "\t 10873 & 3 & 25 & 25 & 0 & 0 & 1 & 0 & 0 & 0 & ⋯ & 0 & 1 & 0 & 1 & 0 & 0 & 0 & 1 & 0 & 0\\\\\n",
       "\t 10873 & 1 & 11 & 11 & 0 & 0 & 1 & 0 & 0 & 0 & ⋯ & 0 & 1 & 0 & 1 & 0 & 0 & 0 & 0 & 0 & 1\\\\\n",
       "\t 10614 & 6 &  5 &  5 & 0 & 0 & 1 & 0 & 2 & 0 & ⋯ & 0 & 0 & 0 & 1 & 0 & 1 & 0 & 0 & 0 & 1\\\\\n",
       "\t 10621 & 3 &  1 &  1 & 0 & 0 & 1 & 0 & 0 & 0 & ⋯ & 0 & 0 & 0 & 1 & 0 & 1 & 0 & 0 & 0 & 1\\\\\n",
       "\t 10642 & 0 & 10 & 10 & 0 & 0 & 0 & 0 & 0 & 0 & ⋯ & 0 & 0 & 0 & 1 & 0 & 1 & 0 & 1 & 0 & 0\\\\\n",
       "\t 10796 & 3 & 10 & 10 & 0 & 0 & 0 & 0 & 2 & 0 & ⋯ & 1 & 0 & 0 & 0 & 0 & 1 & 0 & 1 & 0 & 0\\\\\n",
       "\t 10852 & 5 &  4 &  4 & 1 & 0 & 0 & 0 & 0 & 0 & ⋯ & 1 & 0 & 0 & 0 & 0 & 1 & 0 & 1 & 0 & 0\\\\\n",
       "\t 10670 & 0 & 20 & 20 & 0 & 0 & 0 & 0 & 0 & 0 & ⋯ & 0 & 0 & 0 & 1 & 0 & 1 & 0 & 0 & 1 & 0\\\\\n",
       "\t 10530 & 0 & 27 & 27 & 1 & 0 & 0 & 1 & 0 & 0 & ⋯ & 0 & 0 & 0 & 1 & 0 & 0 & 0 & 0 & 0 & 1\\\\\n",
       "\t 10691 & 0 & 27 & 27 & 1 & 0 & 0 & 1 & 0 & 0 & ⋯ & 0 & 0 & 0 & 0 & 0 & 1 & 0 & 1 & 0 & 0\\\\\n",
       "\t 10796 & 0 & 15 & 15 & 1 & 0 & 0 & 1 & 0 & 0 & ⋯ & 1 & 0 & 0 & 1 & 0 & 1 & 0 & 1 & 0 & 0\\\\\n",
       "\t 10635 & 4 & 20 & 20 & 0 & 0 & 0 & 1 & 0 & 0 & ⋯ & 0 & 0 & 0 & 1 & 0 & 0 & 0 & 0 & 0 & 1\\\\\n",
       "\t 10859 & 0 &  1 &  1 & 1 & 0 & 0 & 1 & 0 & 0 & ⋯ & 0 & 1 & 0 & 1 & 0 & 0 & 0 & 1 & 0 & 0\\\\\n",
       "\t 10663 & 5 &  1 &  1 & 1 & 1 & 0 & 0 & 0 & 0 & ⋯ & 0 & 0 & 0 & 0 & 0 & 0 & 0 & 1 & 0 & 0\\\\\n",
       "\t 10789 & 5 &  2 &  2 & 1 & 0 & 0 & 1 & 2 & 0 & ⋯ & 1 & 0 & 0 & 1 & 0 & 1 & 0 & 1 & 0 & 0\\\\\n",
       "\t 10796 & 0 & 23 & 23 & 0 & 1 & 0 & 0 & 0 & 0 & ⋯ & 1 & 0 & 0 & 0 & 0 & 0 & 0 & 0 & 0 & 1\\\\\n",
       "\t 10740 & 4 & 13 & 13 & 1 & 1 & 0 & 0 & 0 & 0 & ⋯ & 0 & 0 & 1 & 1 & 0 & 0 & 0 & 1 & 0 & 0\\\\\n",
       "\t 10845 & 0 &  6 &  6 & 1 & 0 & 0 & 1 & 2 & 0 & ⋯ & 1 & 0 & 0 & 0 & 0 & 0 & 1 & 0 & 0 & 1\\\\\n",
       "\t 10705 & 2 & 14 & 14 & 0 & 1 & 0 & 0 & 0 & 0 & ⋯ & 0 & 0 & 0 & 0 & 0 & 1 & 0 & 0 & 0 & 1\\\\\n",
       "\t 10768 & 3 & 28 & 28 & 0 & 0 & 1 & 0 & 0 & 0 & ⋯ & 1 & 0 & 1 & 1 & 0 & 0 & 0 & 1 & 0 & 0\\\\\n",
       "\t 10747 & 3 & 15 & 15 & 1 & 0 & 1 & 0 & 0 & 0 & ⋯ & 0 & 0 & 0 & 1 & 0 & 0 & 0 & 1 & 0 & 0\\\\\n",
       "\t 10628 & 4 & 10 & 10 & 0 & 0 & 1 & 0 & 0 & 0 & ⋯ & 0 & 0 & 0 & 1 & 0 & 0 & 0 & 0 & 0 & 1\\\\\n",
       "\t 10523 & 4 &  4 &  4 & 0 & 0 & 1 & 0 & 2 & 0 & ⋯ & 0 & 0 & 0 & 0 & 0 & 0 & 0 & 0 & 0 & 1\\\\\n",
       "\t 10558 & 0 &  9 &  9 & 0 & 0 & 0 & 0 & 2 & 0 & ⋯ & 0 & 0 & 0 & 1 & 0 & 0 & 0 & 1 & 0 & 0\\\\\n",
       "\t 10621 & 1 &  1 &  1 & 0 & 0 & 0 & 0 & 0 & 0 & ⋯ & 0 & 0 & 0 & 1 & 0 & 0 & 0 & 1 & 0 & 0\\\\\n",
       "\t 10831 & 5 & 27 & 27 & 0 & 0 & 0 & 0 & 0 & 0 & ⋯ & 1 & 0 & 1 & 0 & 1 & 1 & 0 & 0 & 1 & 0\\\\\n",
       "\t 10677 & 2 &  4 &  4 & 1 & 0 & 0 & 0 & 0 & 0 & ⋯ & 0 & 0 & 0 & 0 & 1 & 0 & 0 & 1 & 0 & 0\\\\\n",
       "\t 10817 & 4 &  4 &  4 & 0 & 0 & 0 & 0 & 0 & 0 & ⋯ & 1 & 0 & 0 & 0 & 1 & 0 & 0 & 0 & 0 & 0\\\\\n",
       "\t 10691 & 0 & 27 & 27 & 0 & 0 & 0 & 0 & 0 & 0 & ⋯ & 0 & 0 & 0 & 0 & 1 & 1 & 0 & 1 & 0 & 0\\\\\n",
       "\t 10677 & 5 & 25 & 25 & 0 & 0 & 0 & 0 & 0 & 0 & ⋯ & 0 & 0 & 0 & 0 & 1 & 0 & 1 & 0 & 1 & 0\\\\\n",
       "\\end{tabular}\n"
      ],
      "text/markdown": [
       "\n",
       "A data.frame: 13913 × 23\n",
       "\n",
       "| abdt &lt;int&gt; | tg &lt;int&gt; | inuidur1 &lt;int&gt; | inuidur2 &lt;int&gt; | female &lt;int&gt; | black &lt;int&gt; | hispanic &lt;int&gt; | othrace &lt;int&gt; | dep &lt;int&gt; | q1 &lt;int&gt; | ⋯ ⋯ | q5 &lt;int&gt; | q6 &lt;int&gt; | recall &lt;int&gt; | agelt35 &lt;int&gt; | agegt54 &lt;int&gt; | durable &lt;int&gt; | nondurable &lt;int&gt; | lusd &lt;int&gt; | husd &lt;int&gt; | muld &lt;int&gt; |\n",
       "|---|---|---|---|---|---|---|---|---|---|---|---|---|---|---|---|---|---|---|---|---|\n",
       "| 10824 | 0 | 18 | 18 | 0 | 0 | 0 | 0 | 2 | 0 | ⋯ | 1 | 0 | 0 | 0 | 0 | 0 | 0 | 0 | 1 | 0 |\n",
       "| 10635 | 2 |  7 |  3 | 0 | 0 | 0 | 0 | 0 | 0 | ⋯ | 0 | 0 | 0 | 1 | 0 | 0 | 0 | 1 | 0 | 0 |\n",
       "| 10551 | 5 | 18 |  6 | 1 | 0 | 0 | 0 | 0 | 0 | ⋯ | 0 | 0 | 1 | 0 | 1 | 0 | 0 | 0 | 0 | 0 |\n",
       "| 10824 | 0 |  1 |  1 | 0 | 0 | 0 | 0 | 0 | 0 | ⋯ | 1 | 0 | 0 | 0 | 0 | 0 | 0 | 1 | 0 | 0 |\n",
       "| 10747 | 0 | 27 | 27 | 0 | 0 | 0 | 0 | 0 | 0 | ⋯ | 0 | 0 | 0 | 0 | 0 | 0 | 0 | 1 | 0 | 0 |\n",
       "| 10544 | 6 |  7 |  7 | 0 | 0 | 0 | 0 | 0 | 0 | ⋯ | 0 | 0 | 0 | 0 | 0 | 0 | 0 | 0 | 0 | 1 |\n",
       "| 10845 | 1 |  1 |  1 | 0 | 0 | 0 | 0 | 0 | 0 | ⋯ | 1 | 0 | 0 | 1 | 0 | 0 | 0 | 1 | 0 | 0 |\n",
       "| 10670 | 3 |  3 |  3 | 1 | 0 | 0 | 0 | 2 | 0 | ⋯ | 0 | 0 | 0 | 1 | 0 | 0 | 0 | 0 | 0 | 1 |\n",
       "| 10768 | 3 | 28 | 11 | 1 | 0 | 0 | 0 | 0 | 0 | ⋯ | 0 | 0 | 0 | 0 | 0 | 0 | 0 | 0 | 0 | 1 |\n",
       "| 10754 | 2 | 20 | 20 | 1 | 0 | 0 | 0 | 0 | 0 | ⋯ | 0 | 0 | 0 | 0 | 0 | 0 | 0 | 0 | 0 | 1 |\n",
       "| 10712 | 3 |  6 |  6 | 0 | 0 | 0 | 0 | 2 | 0 | ⋯ | 0 | 0 | 0 | 0 | 0 | 1 | 0 | 0 | 0 | 1 |\n",
       "| 10607 | 4 |  9 |  9 | 0 | 0 | 0 | 0 | 0 | 0 | ⋯ | 0 | 0 | 0 | 1 | 0 | 0 | 0 | 0 | 0 | 1 |\n",
       "| 10831 | 0 | 27 | 27 | 0 | 0 | 0 | 0 | 1 | 0 | ⋯ | 1 | 0 | 0 | 0 | 1 | 1 | 0 | 1 | 0 | 0 |\n",
       "| 10845 | 0 | 27 | 27 | 1 | 0 | 0 | 0 | 0 | 0 | ⋯ | 1 | 0 | 0 | 0 | 1 | 0 | 0 | 1 | 0 | 0 |\n",
       "| 10831 | 0 |  9 |  9 | 1 | 0 | 0 | 0 | 1 | 0 | ⋯ | 1 | 0 | 0 | 0 | 1 | 0 | 0 | 1 | 0 | 0 |\n",
       "| 10551 | 3 | 27 | 27 | 1 | 0 | 0 | 0 | 0 | 0 | ⋯ | 0 | 0 | 0 | 1 | 0 | 0 | 1 | 1 | 0 | 0 |\n",
       "| 10859 | 0 | 27 | 27 | 1 | 0 | 0 | 0 | 1 | 0 | ⋯ | 0 | 1 | 0 | 0 | 0 | 0 | 0 | 1 | 0 | 0 |\n",
       "| 10740 | 1 | 15 | 15 | 1 | 0 | 0 | 0 | 2 | 0 | ⋯ | 0 | 0 | 0 | 0 | 0 | 0 | 0 | 1 | 0 | 0 |\n",
       "| 10537 | 1 |  1 |  1 | 0 | 1 | 0 | 0 | 0 | 0 | ⋯ | 0 | 0 | 0 | 1 | 0 | 0 | 0 | 0 | 0 | 1 |\n",
       "| 10663 | 6 | 26 | 26 | 1 | 0 | 0 | 0 | 0 | 0 | ⋯ | 0 | 0 | 0 | 0 | 1 | 0 | 0 | 0 | 1 | 0 |\n",
       "| 10656 | 5 | 30 |  9 | 0 | 0 | 0 | 0 | 1 | 0 | ⋯ | 0 | 0 | 0 | 0 | 0 | 0 | 0 | 1 | 0 | 0 |\n",
       "| 10628 | 2 | 27 | 27 | 0 | 0 | 0 | 0 | 0 | 0 | ⋯ | 0 | 0 | 0 | 0 | 0 | 0 | 0 | 0 | 0 | 1 |\n",
       "| 10516 | 0 | 15 | 15 | 1 | 0 | 0 | 0 | 0 | 0 | ⋯ | 0 | 0 | 0 | 0 | 0 | 0 | 0 | 1 | 0 | 0 |\n",
       "| 10803 | 2 |  3 |  3 | 1 | 0 | 0 | 0 | 0 | 0 | ⋯ | 1 | 0 | 0 | 0 | 0 | 0 | 0 | 0 | 1 | 0 |\n",
       "| 10663 | 0 | 28 | 11 | 1 | 0 | 0 | 0 | 0 | 0 | ⋯ | 0 | 0 | 0 | 0 | 1 | 0 | 0 | 1 | 0 | 0 |\n",
       "| 10747 | 0 | 12 | 12 | 1 | 0 | 0 | 0 | 2 | 0 | ⋯ | 0 | 0 | 1 | 1 | 0 | 0 | 0 | 0 | 0 | 1 |\n",
       "| 10551 | 4 | 22 | 22 | 1 | 0 | 1 | 0 | 2 | 0 | ⋯ | 0 | 0 | 0 | 1 | 0 | 0 | 0 | 0 | 0 | 1 |\n",
       "| 10635 | 2 | 17 | 10 | 1 | 0 | 0 | 0 | 0 | 0 | ⋯ | 0 | 0 | 0 | 0 | 0 | 0 | 0 | 1 | 0 | 0 |\n",
       "| 10761 | 2 | 13 | 13 | 0 | 0 | 0 | 0 | 0 | 0 | ⋯ | 0 | 0 | 0 | 1 | 0 | 0 | 0 | 0 | 0 | 1 |\n",
       "| 10586 | 1 |  8 |  8 | 1 | 0 | 0 | 0 | 1 | 0 | ⋯ | 0 | 0 | 0 | 0 | 0 | 0 | 0 | 0 | 0 | 1 |\n",
       "| ⋮ | ⋮ | ⋮ | ⋮ | ⋮ | ⋮ | ⋮ | ⋮ | ⋮ | ⋮ | ⋱ | ⋮ | ⋮ | ⋮ | ⋮ | ⋮ | ⋮ | ⋮ | ⋮ | ⋮ | ⋮ |\n",
       "| 10873 | 3 | 25 | 25 | 0 | 0 | 1 | 0 | 0 | 0 | ⋯ | 0 | 1 | 0 | 1 | 0 | 0 | 0 | 1 | 0 | 0 |\n",
       "| 10873 | 1 | 11 | 11 | 0 | 0 | 1 | 0 | 0 | 0 | ⋯ | 0 | 1 | 0 | 1 | 0 | 0 | 0 | 0 | 0 | 1 |\n",
       "| 10614 | 6 |  5 |  5 | 0 | 0 | 1 | 0 | 2 | 0 | ⋯ | 0 | 0 | 0 | 1 | 0 | 1 | 0 | 0 | 0 | 1 |\n",
       "| 10621 | 3 |  1 |  1 | 0 | 0 | 1 | 0 | 0 | 0 | ⋯ | 0 | 0 | 0 | 1 | 0 | 1 | 0 | 0 | 0 | 1 |\n",
       "| 10642 | 0 | 10 | 10 | 0 | 0 | 0 | 0 | 0 | 0 | ⋯ | 0 | 0 | 0 | 1 | 0 | 1 | 0 | 1 | 0 | 0 |\n",
       "| 10796 | 3 | 10 | 10 | 0 | 0 | 0 | 0 | 2 | 0 | ⋯ | 1 | 0 | 0 | 0 | 0 | 1 | 0 | 1 | 0 | 0 |\n",
       "| 10852 | 5 |  4 |  4 | 1 | 0 | 0 | 0 | 0 | 0 | ⋯ | 1 | 0 | 0 | 0 | 0 | 1 | 0 | 1 | 0 | 0 |\n",
       "| 10670 | 0 | 20 | 20 | 0 | 0 | 0 | 0 | 0 | 0 | ⋯ | 0 | 0 | 0 | 1 | 0 | 1 | 0 | 0 | 1 | 0 |\n",
       "| 10530 | 0 | 27 | 27 | 1 | 0 | 0 | 1 | 0 | 0 | ⋯ | 0 | 0 | 0 | 1 | 0 | 0 | 0 | 0 | 0 | 1 |\n",
       "| 10691 | 0 | 27 | 27 | 1 | 0 | 0 | 1 | 0 | 0 | ⋯ | 0 | 0 | 0 | 0 | 0 | 1 | 0 | 1 | 0 | 0 |\n",
       "| 10796 | 0 | 15 | 15 | 1 | 0 | 0 | 1 | 0 | 0 | ⋯ | 1 | 0 | 0 | 1 | 0 | 1 | 0 | 1 | 0 | 0 |\n",
       "| 10635 | 4 | 20 | 20 | 0 | 0 | 0 | 1 | 0 | 0 | ⋯ | 0 | 0 | 0 | 1 | 0 | 0 | 0 | 0 | 0 | 1 |\n",
       "| 10859 | 0 |  1 |  1 | 1 | 0 | 0 | 1 | 0 | 0 | ⋯ | 0 | 1 | 0 | 1 | 0 | 0 | 0 | 1 | 0 | 0 |\n",
       "| 10663 | 5 |  1 |  1 | 1 | 1 | 0 | 0 | 0 | 0 | ⋯ | 0 | 0 | 0 | 0 | 0 | 0 | 0 | 1 | 0 | 0 |\n",
       "| 10789 | 5 |  2 |  2 | 1 | 0 | 0 | 1 | 2 | 0 | ⋯ | 1 | 0 | 0 | 1 | 0 | 1 | 0 | 1 | 0 | 0 |\n",
       "| 10796 | 0 | 23 | 23 | 0 | 1 | 0 | 0 | 0 | 0 | ⋯ | 1 | 0 | 0 | 0 | 0 | 0 | 0 | 0 | 0 | 1 |\n",
       "| 10740 | 4 | 13 | 13 | 1 | 1 | 0 | 0 | 0 | 0 | ⋯ | 0 | 0 | 1 | 1 | 0 | 0 | 0 | 1 | 0 | 0 |\n",
       "| 10845 | 0 |  6 |  6 | 1 | 0 | 0 | 1 | 2 | 0 | ⋯ | 1 | 0 | 0 | 0 | 0 | 0 | 1 | 0 | 0 | 1 |\n",
       "| 10705 | 2 | 14 | 14 | 0 | 1 | 0 | 0 | 0 | 0 | ⋯ | 0 | 0 | 0 | 0 | 0 | 1 | 0 | 0 | 0 | 1 |\n",
       "| 10768 | 3 | 28 | 28 | 0 | 0 | 1 | 0 | 0 | 0 | ⋯ | 1 | 0 | 1 | 1 | 0 | 0 | 0 | 1 | 0 | 0 |\n",
       "| 10747 | 3 | 15 | 15 | 1 | 0 | 1 | 0 | 0 | 0 | ⋯ | 0 | 0 | 0 | 1 | 0 | 0 | 0 | 1 | 0 | 0 |\n",
       "| 10628 | 4 | 10 | 10 | 0 | 0 | 1 | 0 | 0 | 0 | ⋯ | 0 | 0 | 0 | 1 | 0 | 0 | 0 | 0 | 0 | 1 |\n",
       "| 10523 | 4 |  4 |  4 | 0 | 0 | 1 | 0 | 2 | 0 | ⋯ | 0 | 0 | 0 | 0 | 0 | 0 | 0 | 0 | 0 | 1 |\n",
       "| 10558 | 0 |  9 |  9 | 0 | 0 | 0 | 0 | 2 | 0 | ⋯ | 0 | 0 | 0 | 1 | 0 | 0 | 0 | 1 | 0 | 0 |\n",
       "| 10621 | 1 |  1 |  1 | 0 | 0 | 0 | 0 | 0 | 0 | ⋯ | 0 | 0 | 0 | 1 | 0 | 0 | 0 | 1 | 0 | 0 |\n",
       "| 10831 | 5 | 27 | 27 | 0 | 0 | 0 | 0 | 0 | 0 | ⋯ | 1 | 0 | 1 | 0 | 1 | 1 | 0 | 0 | 1 | 0 |\n",
       "| 10677 | 2 |  4 |  4 | 1 | 0 | 0 | 0 | 0 | 0 | ⋯ | 0 | 0 | 0 | 0 | 1 | 0 | 0 | 1 | 0 | 0 |\n",
       "| 10817 | 4 |  4 |  4 | 0 | 0 | 0 | 0 | 0 | 0 | ⋯ | 1 | 0 | 0 | 0 | 1 | 0 | 0 | 0 | 0 | 0 |\n",
       "| 10691 | 0 | 27 | 27 | 0 | 0 | 0 | 0 | 0 | 0 | ⋯ | 0 | 0 | 0 | 0 | 1 | 1 | 0 | 1 | 0 | 0 |\n",
       "| 10677 | 5 | 25 | 25 | 0 | 0 | 0 | 0 | 0 | 0 | ⋯ | 0 | 0 | 0 | 0 | 1 | 0 | 1 | 0 | 1 | 0 |\n",
       "\n"
      ],
      "text/plain": [
       "      abdt  tg inuidur1 inuidur2 female black hispanic othrace dep q1 ⋯ q5 q6\n",
       "1     10824 0  18       18       0      0     0        0       2   0  ⋯ 1  0 \n",
       "2     10635 2   7        3       0      0     0        0       0   0  ⋯ 0  0 \n",
       "3     10551 5  18        6       1      0     0        0       0   0  ⋯ 0  0 \n",
       "4     10824 0   1        1       0      0     0        0       0   0  ⋯ 1  0 \n",
       "5     10747 0  27       27       0      0     0        0       0   0  ⋯ 0  0 \n",
       "6     10544 6   7        7       0      0     0        0       0   0  ⋯ 0  0 \n",
       "7     10845 1   1        1       0      0     0        0       0   0  ⋯ 1  0 \n",
       "8     10670 3   3        3       1      0     0        0       2   0  ⋯ 0  0 \n",
       "9     10768 3  28       11       1      0     0        0       0   0  ⋯ 0  0 \n",
       "10    10754 2  20       20       1      0     0        0       0   0  ⋯ 0  0 \n",
       "11    10712 3   6        6       0      0     0        0       2   0  ⋯ 0  0 \n",
       "12    10607 4   9        9       0      0     0        0       0   0  ⋯ 0  0 \n",
       "13    10831 0  27       27       0      0     0        0       1   0  ⋯ 1  0 \n",
       "14    10845 0  27       27       1      0     0        0       0   0  ⋯ 1  0 \n",
       "15    10831 0   9        9       1      0     0        0       1   0  ⋯ 1  0 \n",
       "16    10551 3  27       27       1      0     0        0       0   0  ⋯ 0  0 \n",
       "17    10859 0  27       27       1      0     0        0       1   0  ⋯ 0  1 \n",
       "18    10740 1  15       15       1      0     0        0       2   0  ⋯ 0  0 \n",
       "19    10537 1   1        1       0      1     0        0       0   0  ⋯ 0  0 \n",
       "20    10663 6  26       26       1      0     0        0       0   0  ⋯ 0  0 \n",
       "21    10656 5  30        9       0      0     0        0       1   0  ⋯ 0  0 \n",
       "22    10628 2  27       27       0      0     0        0       0   0  ⋯ 0  0 \n",
       "23    10516 0  15       15       1      0     0        0       0   0  ⋯ 0  0 \n",
       "24    10803 2   3        3       1      0     0        0       0   0  ⋯ 1  0 \n",
       "25    10663 0  28       11       1      0     0        0       0   0  ⋯ 0  0 \n",
       "26    10747 0  12       12       1      0     0        0       2   0  ⋯ 0  0 \n",
       "27    10551 4  22       22       1      0     1        0       2   0  ⋯ 0  0 \n",
       "28    10635 2  17       10       1      0     0        0       0   0  ⋯ 0  0 \n",
       "29    10761 2  13       13       0      0     0        0       0   0  ⋯ 0  0 \n",
       "30    10586 1   8        8       1      0     0        0       1   0  ⋯ 0  0 \n",
       "⋮     ⋮     ⋮  ⋮        ⋮        ⋮      ⋮     ⋮        ⋮       ⋮   ⋮  ⋱ ⋮  ⋮ \n",
       "13884 10873 3  25       25       0      0     1        0       0   0  ⋯ 0  1 \n",
       "13885 10873 1  11       11       0      0     1        0       0   0  ⋯ 0  1 \n",
       "13886 10614 6   5        5       0      0     1        0       2   0  ⋯ 0  0 \n",
       "13887 10621 3   1        1       0      0     1        0       0   0  ⋯ 0  0 \n",
       "13888 10642 0  10       10       0      0     0        0       0   0  ⋯ 0  0 \n",
       "13889 10796 3  10       10       0      0     0        0       2   0  ⋯ 1  0 \n",
       "13890 10852 5   4        4       1      0     0        0       0   0  ⋯ 1  0 \n",
       "13891 10670 0  20       20       0      0     0        0       0   0  ⋯ 0  0 \n",
       "13892 10530 0  27       27       1      0     0        1       0   0  ⋯ 0  0 \n",
       "13893 10691 0  27       27       1      0     0        1       0   0  ⋯ 0  0 \n",
       "13894 10796 0  15       15       1      0     0        1       0   0  ⋯ 1  0 \n",
       "13895 10635 4  20       20       0      0     0        1       0   0  ⋯ 0  0 \n",
       "13896 10859 0   1        1       1      0     0        1       0   0  ⋯ 0  1 \n",
       "13897 10663 5   1        1       1      1     0        0       0   0  ⋯ 0  0 \n",
       "13898 10789 5   2        2       1      0     0        1       2   0  ⋯ 1  0 \n",
       "13899 10796 0  23       23       0      1     0        0       0   0  ⋯ 1  0 \n",
       "13900 10740 4  13       13       1      1     0        0       0   0  ⋯ 0  0 \n",
       "13901 10845 0   6        6       1      0     0        1       2   0  ⋯ 1  0 \n",
       "13902 10705 2  14       14       0      1     0        0       0   0  ⋯ 0  0 \n",
       "13903 10768 3  28       28       0      0     1        0       0   0  ⋯ 1  0 \n",
       "13904 10747 3  15       15       1      0     1        0       0   0  ⋯ 0  0 \n",
       "13905 10628 4  10       10       0      0     1        0       0   0  ⋯ 0  0 \n",
       "13906 10523 4   4        4       0      0     1        0       2   0  ⋯ 0  0 \n",
       "13907 10558 0   9        9       0      0     0        0       2   0  ⋯ 0  0 \n",
       "13908 10621 1   1        1       0      0     0        0       0   0  ⋯ 0  0 \n",
       "13909 10831 5  27       27       0      0     0        0       0   0  ⋯ 1  0 \n",
       "13910 10677 2   4        4       1      0     0        0       0   0  ⋯ 0  0 \n",
       "13911 10817 4   4        4       0      0     0        0       0   0  ⋯ 1  0 \n",
       "13912 10691 0  27       27       0      0     0        0       0   0  ⋯ 0  0 \n",
       "13913 10677 5  25       25       0      0     0        0       0   0  ⋯ 0  0 \n",
       "      recall agelt35 agegt54 durable nondurable lusd husd muld\n",
       "1     0      0       0       0       0          0    1    0   \n",
       "2     0      1       0       0       0          1    0    0   \n",
       "3     1      0       1       0       0          0    0    0   \n",
       "4     0      0       0       0       0          1    0    0   \n",
       "5     0      0       0       0       0          1    0    0   \n",
       "6     0      0       0       0       0          0    0    1   \n",
       "7     0      1       0       0       0          1    0    0   \n",
       "8     0      1       0       0       0          0    0    1   \n",
       "9     0      0       0       0       0          0    0    1   \n",
       "10    0      0       0       0       0          0    0    1   \n",
       "11    0      0       0       1       0          0    0    1   \n",
       "12    0      1       0       0       0          0    0    1   \n",
       "13    0      0       1       1       0          1    0    0   \n",
       "14    0      0       1       0       0          1    0    0   \n",
       "15    0      0       1       0       0          1    0    0   \n",
       "16    0      1       0       0       1          1    0    0   \n",
       "17    0      0       0       0       0          1    0    0   \n",
       "18    0      0       0       0       0          1    0    0   \n",
       "19    0      1       0       0       0          0    0    1   \n",
       "20    0      0       1       0       0          0    1    0   \n",
       "21    0      0       0       0       0          1    0    0   \n",
       "22    0      0       0       0       0          0    0    1   \n",
       "23    0      0       0       0       0          1    0    0   \n",
       "24    0      0       0       0       0          0    1    0   \n",
       "25    0      0       1       0       0          1    0    0   \n",
       "26    1      1       0       0       0          0    0    1   \n",
       "27    0      1       0       0       0          0    0    1   \n",
       "28    0      0       0       0       0          1    0    0   \n",
       "29    0      1       0       0       0          0    0    1   \n",
       "30    0      0       0       0       0          0    0    1   \n",
       "⋮     ⋮      ⋮       ⋮       ⋮       ⋮          ⋮    ⋮    ⋮   \n",
       "13884 0      1       0       0       0          1    0    0   \n",
       "13885 0      1       0       0       0          0    0    1   \n",
       "13886 0      1       0       1       0          0    0    1   \n",
       "13887 0      1       0       1       0          0    0    1   \n",
       "13888 0      1       0       1       0          1    0    0   \n",
       "13889 0      0       0       1       0          1    0    0   \n",
       "13890 0      0       0       1       0          1    0    0   \n",
       "13891 0      1       0       1       0          0    1    0   \n",
       "13892 0      1       0       0       0          0    0    1   \n",
       "13893 0      0       0       1       0          1    0    0   \n",
       "13894 0      1       0       1       0          1    0    0   \n",
       "13895 0      1       0       0       0          0    0    1   \n",
       "13896 0      1       0       0       0          1    0    0   \n",
       "13897 0      0       0       0       0          1    0    0   \n",
       "13898 0      1       0       1       0          1    0    0   \n",
       "13899 0      0       0       0       0          0    0    1   \n",
       "13900 1      1       0       0       0          1    0    0   \n",
       "13901 0      0       0       0       1          0    0    1   \n",
       "13902 0      0       0       1       0          0    0    1   \n",
       "13903 1      1       0       0       0          1    0    0   \n",
       "13904 0      1       0       0       0          1    0    0   \n",
       "13905 0      1       0       0       0          0    0    1   \n",
       "13906 0      0       0       0       0          0    0    1   \n",
       "13907 0      1       0       0       0          1    0    0   \n",
       "13908 0      1       0       0       0          1    0    0   \n",
       "13909 1      0       1       1       0          0    1    0   \n",
       "13910 0      0       1       0       0          1    0    0   \n",
       "13911 0      0       1       0       0          0    0    0   \n",
       "13912 0      0       1       1       0          1    0    0   \n",
       "13913 0      0       1       0       1          0    1    0   "
      ]
     },
     "metadata": {},
     "output_type": "display_data"
    }
   ],
   "source": [
    "Penn"
   ]
  },
  {
   "cell_type": "code",
   "execution_count": 101,
   "metadata": {},
   "outputs": [],
   "source": [
    "#Number of rows\n",
    "n <- dim(Penn)[1]\n",
    "\n",
    "# Number of columns\n",
    "p_1 <- dim(Penn)[2]"
   ]
  },
  {
   "cell_type": "code",
   "execution_count": 102,
   "metadata": {},
   "outputs": [],
   "source": [
    "# Filtering data to tg==4 | tg==0\n",
    "Penn<- subset(Penn, tg==4 | tg==0)\n",
    "\n",
    "# we are making the columns of the data frame as vectors available with its own name\n",
    "attach(Penn)"
   ]
  },
  {
   "cell_type": "code",
   "execution_count": 103,
   "metadata": {},
   "outputs": [
    {
     "data": {
      "text/html": [
       "'logical'"
      ],
      "text/latex": [
       "'logical'"
      ],
      "text/markdown": [
       "'logical'"
      ],
      "text/plain": [
       "[1] \"logical\""
      ]
     },
     "metadata": {},
     "output_type": "display_data"
    }
   ],
   "source": [
    "T4 <- (tg==4)\n",
    "typeof(T4)"
   ]
  },
  {
   "cell_type": "code",
   "execution_count": 104,
   "metadata": {},
   "outputs": [
    {
     "data": {
      "text/plain": [
       "   Mode   FALSE    TRUE \n",
       "logical    3354    1745 "
      ]
     },
     "metadata": {},
     "output_type": "display_data"
    }
   ],
   "source": [
    "summary(T4)"
   ]
  },
  {
   "cell_type": "markdown",
   "metadata": {},
   "source": [
    "### Formula\n",
    "For more information [link1](https://thomasleeper.com/Rcourse/Tutorials/formulae.html), [link2](https://www.datacamp.com/community/tutorials/r-formula-tutorial)."
   ]
  },
  {
   "cell_type": "code",
   "execution_count": 105,
   "metadata": {
    "scrolled": true
   },
   "outputs": [
    {
     "name": "stderr",
     "output_type": "stream",
     "text": [
      "Installing package into 'C:/Users/Roberto/AppData/Local/R/win-library/4.2'\n",
      "(as 'lib' is unspecified)\n",
      "\n"
     ]
    },
    {
     "name": "stdout",
     "output_type": "stream",
     "text": [
      "package 'lmtest' successfully unpacked and MD5 sums checked\n",
      "\n",
      "The downloaded binary packages are in\n",
      "\tC:\\Users\\Roberto\\AppData\\Local\\Temp\\RtmpATAaZL\\downloaded_packages\n"
     ]
    },
    {
     "name": "stderr",
     "output_type": "stream",
     "text": [
      "Installing package into 'C:/Users/Roberto/AppData/Local/R/win-library/4.2'\n",
      "(as 'lib' is unspecified)\n",
      "\n"
     ]
    },
    {
     "name": "stdout",
     "output_type": "stream",
     "text": [
      "package 'sandwich' successfully unpacked and MD5 sums checked\n",
      "\n",
      "The downloaded binary packages are in\n",
      "\tC:\\Users\\Roberto\\AppData\\Local\\Temp\\RtmpATAaZL\\downloaded_packages\n"
     ]
    },
    {
     "name": "stderr",
     "output_type": "stream",
     "text": [
      "Loading required package: zoo\n",
      "\n",
      "\n",
      "Attaching package: 'zoo'\n",
      "\n",
      "\n",
      "The following objects are masked from 'package:base':\n",
      "\n",
      "    as.Date, as.Date.numeric\n",
      "\n",
      "\n"
     ]
    }
   ],
   "source": [
    "#install.packages( \"lmtest\" )\n",
    "#install.packages( \"sandwich\" )\n",
    "library(lmtest)\n",
    "library(sandwich)\n",
    "# Suggestion for update your R version"
   ]
  },
  {
   "cell_type": "code",
   "execution_count": 117,
   "metadata": {},
   "outputs": [],
   "source": [
    "# Formula regression\n",
    "# Generation of formulas for regressions\n",
    "# The class formula\n",
    "\n",
    "formula1 <- T4 ~ female\n",
    "\n",
    "formula2 <-  T4 ~ female + black\n",
    "\n",
    "# We include only the interaction\n",
    "\n",
    "formula3 <-  T4 ~ female + black + female:(black + lusd)\n",
    "\n",
    "# We include the two terms and their interaction\n",
    "\n",
    "formula4 <-  T4 ~ female*black\n",
    "\n",
    "# drop intercep\n",
    "\n",
    "formula5 <-  T4 ~ -1 + female + black + female:black\n",
    "\n",
    "formula5 <-  T4 ~ 0 + female + black + female:black\n",
    "\n",
    "# polinomial independent varibles\n",
    "\n",
    "formula6 <- T4 ~ -1 + female + black + female:black + lusd + lusd^2 \n",
    "\n",
    "# interaction effects & categorical variables \n",
    "\n",
    "formula7 <-  T4~(female+black+othrace+factor(dep)+q2+q3+q4+q5+q6+agelt35+agegt54+durable+lusd+husd)^2"
   ]
  },
  {
   "cell_type": "code",
   "execution_count": null,
   "metadata": {},
   "outputs": [],
   "source": [
    "all.vars(formula1)"
   ]
  },
  {
   "cell_type": "code",
   "execution_count": null,
   "metadata": {},
   "outputs": [],
   "source": [
    "# We can use multiple independent variables b simply separating them with the plus symbol(+)\n",
    "\n",
    "formula2 <- (T4 ~ female + black )\n",
    "# See the variables in the formula\n",
    "all.vars( formula2 )"
   ]
  },
  {
   "cell_type": "code",
   "execution_count": 108,
   "metadata": {
    "scrolled": true
   },
   "outputs": [
    {
     "name": "stdout",
     "output_type": "stream",
     "text": [
      "T4 ~ female - black\n",
      "attr(,\"variables\")\n",
      "list(T4, female, black)\n",
      "attr(,\"factors\")\n",
      "       female\n",
      "T4          0\n",
      "female      1\n",
      "black       0\n",
      "attr(,\"term.labels\")\n",
      "[1] \"female\"\n",
      "attr(,\"order\")\n",
      "[1] 1\n",
      "attr(,\"intercept\")\n",
      "[1] 1\n",
      "attr(,\"response\")\n",
      "[1] 1\n",
      "attr(,\".Environment\")\n",
      "<environment: R_GlobalEnv>\n"
     ]
    }
   ],
   "source": [
    "formula3 <- (T4 ~ female - black )\n",
    "print( terms( formula3 ) )"
   ]
  },
  {
   "cell_type": "code",
   "execution_count": null,
   "metadata": {},
   "outputs": [],
   "source": [
    "# Interactions terms\n",
    "# We include the two terms and their interaction\n",
    "formula5  <- (T4 ~ female * black)\n",
    "print( terms( formula5 ) )\n"
   ]
  },
  {
   "cell_type": "code",
   "execution_count": 116,
   "metadata": {
    "scrolled": true
   },
   "outputs": [
    {
     "data": {
      "text/plain": [
       "T4 ~ female:(black + lusd)"
      ]
     },
     "metadata": {},
     "output_type": "display_data"
    }
   ],
   "source": [
    "\n",
    "# We include only the interaction\n",
    "formula6  <- (T4 ~ female:(black+lusd))\n",
    "#print( terms( formula6 ) )\n",
    "formula6"
   ]
  },
  {
   "cell_type": "code",
   "execution_count": null,
   "metadata": {
    "scrolled": true
   },
   "outputs": [],
   "source": [
    "# Factor in regression Analysis\n",
    "# dep is a factor variable but as defaul it is a vector\n",
    "\n",
    "class(dep)\n",
    "\n",
    "#factor(dep) == as.factor( dep )\n",
    "\n",
    "# we need to specify that dep is a factor variable in a regression formula to not be treated as a numeric vector\n",
    "## by default, the factor's first level treated as a baseline\n",
    "\n",
    "formula6  <- (T4 ~  female * black + factor( dep ) )\n",
    "print( terms( formula6 ) )\n",
    "\n",
    "formula7  <- (T4 ~  female * black + dep )\n",
    "print( terms( formula7 ) )"
   ]
  },
  {
   "cell_type": "code",
   "execution_count": 119,
   "metadata": {
    "scrolled": true
   },
   "outputs": [
    {
     "data": {
      "text/html": [
       "<table class=\"dataframe\">\n",
       "<caption>A matrix: 5 × 4 of type dbl</caption>\n",
       "<thead>\n",
       "\t<tr><th></th><th scope=col>Estimate</th><th scope=col>Std. Error</th><th scope=col>t value</th><th scope=col>Pr(&gt;|t|)</th></tr>\n",
       "</thead>\n",
       "<tbody>\n",
       "\t<tr><th scope=row>(Intercept)</th><td> 0.34601044</td><td>0.00916312</td><td>37.7612034</td><td>2.422046e-275</td></tr>\n",
       "\t<tr><th scope=row>female</th><td>-0.01729238</td><td>0.01595743</td><td>-1.0836568</td><td> 2.785683e-01</td></tr>\n",
       "\t<tr><th scope=row>black</th><td>-0.02108047</td><td>0.02673466</td><td>-0.7885071</td><td> 4.304368e-01</td></tr>\n",
       "\t<tr><th scope=row>female:black</th><td> 0.06188757</td><td>0.04119282</td><td> 1.5023873</td><td> 1.330591e-01</td></tr>\n",
       "\t<tr><th scope=row>female:lusd</th><td> 0.02338764</td><td>0.02362259</td><td> 0.9900541</td><td> 3.221947e-01</td></tr>\n",
       "</tbody>\n",
       "</table>\n"
      ],
      "text/latex": [
       "A matrix: 5 × 4 of type dbl\n",
       "\\begin{tabular}{r|llll}\n",
       "  & Estimate & Std. Error & t value & Pr(>\\textbar{}t\\textbar{})\\\\\n",
       "\\hline\n",
       "\t(Intercept) &  0.34601044 & 0.00916312 & 37.7612034 & 2.422046e-275\\\\\n",
       "\tfemale & -0.01729238 & 0.01595743 & -1.0836568 &  2.785683e-01\\\\\n",
       "\tblack & -0.02108047 & 0.02673466 & -0.7885071 &  4.304368e-01\\\\\n",
       "\tfemale:black &  0.06188757 & 0.04119282 &  1.5023873 &  1.330591e-01\\\\\n",
       "\tfemale:lusd &  0.02338764 & 0.02362259 &  0.9900541 &  3.221947e-01\\\\\n",
       "\\end{tabular}\n"
      ],
      "text/markdown": [
       "\n",
       "A matrix: 5 × 4 of type dbl\n",
       "\n",
       "| <!--/--> | Estimate | Std. Error | t value | Pr(&gt;|t|) |\n",
       "|---|---|---|---|---|\n",
       "| (Intercept) |  0.34601044 | 0.00916312 | 37.7612034 | 2.422046e-275 |\n",
       "| female | -0.01729238 | 0.01595743 | -1.0836568 |  2.785683e-01 |\n",
       "| black | -0.02108047 | 0.02673466 | -0.7885071 |  4.304368e-01 |\n",
       "| female:black |  0.06188757 | 0.04119282 |  1.5023873 |  1.330591e-01 |\n",
       "| female:lusd |  0.02338764 | 0.02362259 |  0.9900541 |  3.221947e-01 |\n",
       "\n"
      ],
      "text/plain": [
       "             Estimate    Std. Error t value    Pr(>|t|)     \n",
       "(Intercept)   0.34601044 0.00916312 37.7612034 2.422046e-275\n",
       "female       -0.01729238 0.01595743 -1.0836568  2.785683e-01\n",
       "black        -0.02108047 0.02673466 -0.7885071  4.304368e-01\n",
       "female:black  0.06188757 0.04119282  1.5023873  1.330591e-01\n",
       "female:lusd   0.02338764 0.02362259  0.9900541  3.221947e-01"
      ]
     },
     "metadata": {},
     "output_type": "display_data"
    },
    {
     "data": {
      "text/html": [
       "0.000619227129391823"
      ],
      "text/latex": [
       "0.000619227129391823"
      ],
      "text/markdown": [
       "0.000619227129391823"
      ],
      "text/plain": [
       "[1] 0.0006192271"
      ]
     },
     "metadata": {},
     "output_type": "display_data"
    }
   ],
   "source": [
    "# regression\n",
    "\n",
    "reg <- lm(formula3, Penn)\n",
    "#summary(reg )\n",
    "\n",
    "summary( reg )$coefficient\n",
    "summary( reg )$r.squared"
   ]
  },
  {
   "cell_type": "code",
   "execution_count": null,
   "metadata": {},
   "outputs": [],
   "source": [
    "names(reg)\n",
    "typeof(reg$residuals)"
   ]
  },
  {
   "cell_type": "code",
   "execution_count": null,
   "metadata": {},
   "outputs": [],
   "source": [
    "summary(reg)$coefficients"
   ]
  },
  {
   "cell_type": "code",
   "execution_count": null,
   "metadata": {},
   "outputs": [],
   "source": [
    "reg <- lm(formula3, Penn)\n",
    "\n",
    "summary( reg )$coefficient\n"
   ]
  },
  {
   "cell_type": "code",
   "execution_count": null,
   "metadata": {
    "scrolled": true
   },
   "outputs": [],
   "source": [
    "reg <- lm(formula7, Penn)\n",
    "\n",
    "summary( reg )$coefficient\n"
   ]
  },
  {
   "cell_type": "code",
   "execution_count": null,
   "metadata": {},
   "outputs": [],
   "source": [
    "# We can update formulas \n",
    "formula_modelA  <- (T4 ~  female + black + lusd + lusd ^ 2 )\n",
    "print( terms( formula_modelA ) )\n",
    "class( formula_modelA )\n",
    "\n",
    "# formula for model B\n",
    "formula_modelB  <- update( formula_modelA, ~ . + factor(dep))\n",
    "print( terms( formula_modelB ) )"
   ]
  },
  {
   "cell_type": "markdown",
   "metadata": {},
   "source": [
    "## Regressions Objects\n",
    "We will understand the output from a regression"
   ]
  },
  {
   "cell_type": "code",
   "execution_count": null,
   "metadata": {},
   "outputs": [],
   "source": [
    "key_columns  <-  c('female', 'black', 'lusd' , 'dep', 'T4')"
   ]
  },
  {
   "cell_type": "code",
   "execution_count": null,
   "metadata": {},
   "outputs": [],
   "source": [
    "data2  <-  data.frame( Penn[(names( Penn ) %in% key_columns ) ] )"
   ]
  },
  {
   "cell_type": "code",
   "execution_count": null,
   "metadata": {},
   "outputs": [],
   "source": [
    "data2"
   ]
  },
  {
   "cell_type": "code",
   "execution_count": null,
   "metadata": {
    "scrolled": true
   },
   "outputs": [],
   "source": [
    "# Regression\n",
    "reg1 <- lm(formula_modelB , data2 )\n",
    "\n",
    "# The output is a list of elements\n",
    "typeof(reg1)\n",
    "is.list( reg1 )\n",
    "# All the elements in the list are detailed in the table bellow.\n",
    "names(summary( reg1 ))"
   ]
  },
  {
   "cell_type": "code",
   "execution_count": null,
   "metadata": {},
   "outputs": [],
   "source": [
    "summary(reg1)$aliased"
   ]
  },
  {
   "cell_type": "code",
   "execution_count": null,
   "metadata": {
    "scrolled": true
   },
   "outputs": [],
   "source": [
    "cat(\"Parameters: \")\n",
    "summary(reg1)$coefficients\n",
    "\n",
    "cat(\"R2:\", summary(reg1)$r.squared,'\\n')\n",
    "\n",
    "print(\"Predictived values:\")\n",
    "\n",
    "predict(reg1)"
   ]
  },
  {
   "cell_type": "code",
   "execution_count": null,
   "metadata": {},
   "outputs": [],
   "source": [
    "# Summary of regression is a list\n",
    "is.list(summary( reg1 ))\n",
    "is.data.frame(summary( reg1 ))\n",
    "is.matrix(summary( reg1 )$coefficients)\n"
   ]
  },
  {
   "cell_type": "markdown",
   "metadata": {},
   "source": [
    "| Elements \t| Definition \t|\n",
    "|---\t|---\t|\n",
    "| coefficients \t| Vector of coefficients. \t|\n",
    "| residuals \t| Vector of residuals. \t|\n",
    "| effects \t| Vector of the uncorrelated single-degree-of-freedom <br>values obtained by projecting the data onto the successive <br>orthogonal subspaces generated by the QR decomposition <br>during the fitting process. \t|\n",
    "| rank \t| Number of independent columns. \t|\n",
    "| fitted.values \t| Vector of fitted values. \t|\n",
    "| qr \t| The QR decomposition. \t|\n",
    "| df.residual \t| The degrees of freedom of the residuals. \t|\n",
    "| contrasts \t| A contrast is a linear combination of variables <br>that allows comparison of different treatments. \t|\n",
    "| xlevels \t| Levels of the factor variables. \t|\n",
    "| call \t| The formula. \t|\n",
    "| terms \t| Variables of the regression. \t|\n",
    "| model \t| DataFrame of the variables in the model. \t|"
   ]
  },
  {
   "cell_type": "markdown",
   "metadata": {},
   "source": [
    "#### Predictions\n",
    "We can get the vector of predictions using the formula `predict`."
   ]
  },
  {
   "cell_type": "code",
   "execution_count": null,
   "metadata": {},
   "outputs": [],
   "source": [
    "new_obs  <- data.frame(matrix( c(0, 0, 1 , 1), ncol= 4, dimnames = list( c() , c( \"female\" , \"black\" , \"dep\", \"lusd\"  ) ) ))"
   ]
  },
  {
   "cell_type": "code",
   "execution_count": null,
   "metadata": {},
   "outputs": [],
   "source": [
    "new_obs"
   ]
  },
  {
   "cell_type": "code",
   "execution_count": null,
   "metadata": {},
   "outputs": [],
   "source": [
    "y_hat  <- predict(reg1,  new_obs )\n",
    "y_hat"
   ]
  }
 ],
 "metadata": {
  "hide_input": false,
  "kernelspec": {
   "display_name": "R",
   "language": "R",
   "name": "ir"
  },
  "language_info": {
   "codemirror_mode": "r",
   "file_extension": ".r",
   "mimetype": "text/x-r-source",
   "name": "R",
   "pygments_lexer": "r",
   "version": "4.2.0"
  }
 },
 "nbformat": 4,
 "nbformat_minor": 4
}
