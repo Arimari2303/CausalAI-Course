{
 "cells": [
  {
   "cell_type": "markdown",
   "id": "56ab5dc2",
   "metadata": {},
   "source": [
    "## Group3\n",
    "### Members\n",
    "1.Andrea Ulloa \n",
    "2.Ana Angulo (20171627)\n",
    "3.Angela Coapaza (20171636) "
   ]
  },
  {
   "cell_type": "markdown",
   "id": "3d1477a5",
   "id": "d78deea1",
   "metadata": {},
   "source": [
    "# Replication of the PM1_Notebook1_Prediction_newdata using a restricted da"
   ]
  },
  {
   "cell_type": "markdown",
<<<<<<< Updated upstream
   "id": "a97c66d5",
=======
   "id": "c5595947",
>>>>>>> Stashed changes
   "metadata": {},
   "source": [
    "## Introduction"
   ]
  },
  {
   "cell_type": "markdown",
<<<<<<< Updated upstream
   "id": "364d01b7",
=======
   "id": "d55774b0",
>>>>>>> Stashed changes
   "metadata": {},
   "source": [
    "In this wage example, Y is the hourly wage of a worker and X is a vector of worker's characteristics, e.g., education, experience, gender. Two main questions here are:\n",
    "\n",
    "How to use job-relevant characteristics, such as education and experience, to best predict wages?\n",
    "\n",
    "What is the difference in predicted wages between men and women with the same job-relevant characteristics?\n",
    "\n",
    "In this lab, we focus on the prediction question first."
   ]
  },
  {
   "cell_type": "markdown",
<<<<<<< Updated upstream
   "id": "30f2c09e",
=======
   "id": "f2a3eb87",
>>>>>>> Stashed changes
   "metadata": {},
   "source": [
    "## Data"
   ]
  },
  {
   "cell_type": "markdown",
<<<<<<< Updated upstream
   "id": "59ef6b47",
=======
   "id": "3aa7ab7f",
>>>>>>> Stashed changes
   "metadata": {},
   "source": [
    "The data set we consider is from the March Supplement of the U.S. Current Population Survey, year 2015. We select white non-hispanic individuals, aged 25 to 64 years, and working more than 35 hours per week during at least 50 weeks of the year. We exclude self-employed workers; individuals living in group quarters; individuals in the military, agricultural or private household sectors; individuals with inconsistent reports on earnings and employment status; individuals with allocated or missing information in any of the variables used in the analysis; and individuals with hourly wage below  3 .\n",
    "\n",
    "The variable of interest  Y  is the hourly wage rate constructed as the ratio of the annual earnings to the total number of hours worked, which is constructed in turn as the product of number of weeks worked and the usual number of hours worked per week. In our analysis, we also focus on single (never married) workers. The final sample is of size  **n=5150** ."
   ]
  },
  {
   "cell_type": "markdown",
<<<<<<< Updated upstream
   "id": "bd6fee4c",
=======
   "id": "e46f81af",
>>>>>>> Stashed changes
   "metadata": {},
   "source": [
    "## Data analysis"
   ]
  },
  {
   "cell_type": "markdown",
   "id": "3a6f4fd0",
   "metadata": {},
   "source": [
    "We start by loading the data set."
   ]
  },
  {
   "cell_type": "code",
   "execution_count": 18,
<<<<<<< Updated upstream
   "id": "1dba2bd5",
=======
   "id": "aea2ac75",
>>>>>>> Stashed changes
   "metadata": {},
   "outputs": [
    {
     "name": "stderr",
     "output_type": "stream",
     "text": [
      "\u001b[32m\u001b[1m   Resolving\u001b[22m\u001b[39m package versions...\n",
      "\u001b[32m\u001b[1m  No Changes\u001b[22m\u001b[39m to `C:\\Users\\acoap\\.julia\\environments\\v1.7\\Project.toml`\n",
      "\u001b[32m\u001b[1m  No Changes\u001b[22m\u001b[39m to `C:\\Users\\acoap\\.julia\\environments\\v1.7\\Manifest.toml`\n",
      "\u001b[32m\u001b[1m   Resolving\u001b[22m\u001b[39m package versions...\n",
      "\u001b[32m\u001b[1m  No Changes\u001b[22m\u001b[39m to `C:\\Users\\acoap\\.julia\\environments\\v1.7\\Project.toml`\n",
      "\u001b[32m\u001b[1m  No Changes\u001b[22m\u001b[39m to `C:\\Users\\acoap\\.julia\\environments\\v1.7\\Manifest.toml`\n",
      "\u001b[32m\u001b[1m   Resolving\u001b[22m\u001b[39m package versions...\n",
      "\u001b[32m\u001b[1m  No Changes\u001b[22m\u001b[39m to `C:\\Users\\acoap\\.julia\\environments\\v1.7\\Project.toml`\n",
      "\u001b[32m\u001b[1m  No Changes\u001b[22m\u001b[39m to `C:\\Users\\acoap\\.julia\\environments\\v1.7\\Manifest.toml`\n",
      "\u001b[32m\u001b[1m   Resolving\u001b[22m\u001b[39m package versions...\n",
      "\u001b[32m\u001b[1m  No Changes\u001b[22m\u001b[39m to `C:\\Users\\acoap\\.julia\\environments\\v1.7\\Project.toml`\n",
      "\u001b[32m\u001b[1m  No Changes\u001b[22m\u001b[39m to `C:\\Users\\acoap\\.julia\\environments\\v1.7\\Manifest.toml`\n",
      "\u001b[32m\u001b[1m   Resolving\u001b[22m\u001b[39m package versions...\n",
      "\u001b[32m\u001b[1m  No Changes\u001b[22m\u001b[39m to `C:\\Users\\acoap\\.julia\\environments\\v1.7\\Project.toml`\n",
      "\u001b[32m\u001b[1m  No Changes\u001b[22m\u001b[39m to `C:\\Users\\acoap\\.julia\\environments\\v1.7\\Manifest.toml`\n",
      "\u001b[32m\u001b[1m   Resolving\u001b[22m\u001b[39m package versions...\n",
      "\u001b[32m\u001b[1m  No Changes\u001b[22m\u001b[39m to `C:\\Users\\acoap\\.julia\\environments\\v1.7\\Project.toml`\n",
      "\u001b[32m\u001b[1m  No Changes\u001b[22m\u001b[39m to `C:\\Users\\acoap\\.julia\\environments\\v1.7\\Manifest.toml`\n",
      "\u001b[32m\u001b[1m   Resolving\u001b[22m\u001b[39m package versions...\n",
      "\u001b[32m\u001b[1m  No Changes\u001b[22m\u001b[39m to `C:\\Users\\acoap\\.julia\\environments\\v1.7\\Project.toml`\n",
      "\u001b[32m\u001b[1m  No Changes\u001b[22m\u001b[39m to `C:\\Users\\acoap\\.julia\\environments\\v1.7\\Manifest.toml`\n",
      "\u001b[32m\u001b[1m   Resolving\u001b[22m\u001b[39m package versions...\n",
      "\u001b[32m\u001b[1m  No Changes\u001b[22m\u001b[39m to `C:\\Users\\acoap\\.julia\\environments\\v1.7\\Project.toml`\n",
      "\u001b[32m\u001b[1m  No Changes\u001b[22m\u001b[39m to `C:\\Users\\acoap\\.julia\\environments\\v1.7\\Manifest.toml`\n",
      "\u001b[32m\u001b[1m   Resolving\u001b[22m\u001b[39m package versions...\n",
      "\u001b[32m\u001b[1m  No Changes\u001b[22m\u001b[39m to `C:\\Users\\acoap\\.julia\\environments\\v1.7\\Project.toml`\n",
      "\u001b[32m\u001b[1m  No Changes\u001b[22m\u001b[39m to `C:\\Users\\acoap\\.julia\\environments\\v1.7\\Manifest.toml`\n",
      "\u001b[32m\u001b[1m   Resolving\u001b[22m\u001b[39m package versions...\n",
      "\u001b[32m\u001b[1m  No Changes\u001b[22m\u001b[39m to `C:\\Users\\acoap\\.julia\\environments\\v1.7\\Project.toml`\n",
      "\u001b[32m\u001b[1m  No Changes\u001b[22m\u001b[39m to `C:\\Users\\acoap\\.julia\\environments\\v1.7\\Manifest.toml`\n",
      "\u001b[32m\u001b[1m   Resolving\u001b[22m\u001b[39m package versions...\n",
      "\u001b[32m\u001b[1m  No Changes\u001b[22m\u001b[39m to `C:\\Users\\acoap\\.julia\\environments\\v1.7\\Project.toml`\n",
      "\u001b[32m\u001b[1m  No Changes\u001b[22m\u001b[39m to `C:\\Users\\acoap\\.julia\\environments\\v1.7\\Manifest.toml`\n",
      "\u001b[32m\u001b[1m   Resolving\u001b[22m\u001b[39m package versions...\n",
      "\u001b[32m\u001b[1m  No Changes\u001b[22m\u001b[39m to `C:\\Users\\acoap\\.julia\\environments\\v1.7\\Project.toml`\n",
      "\u001b[32m\u001b[1m  No Changes\u001b[22m\u001b[39m to `C:\\Users\\acoap\\.julia\\environments\\v1.7\\Manifest.toml`\n",
      "\u001b[32m\u001b[1m   Resolving\u001b[22m\u001b[39m package versions...\n",
      "\u001b[32m\u001b[1m   Installed\u001b[22m\u001b[39m WeakRefStrings ─ v1.4.2\n",
      "\u001b[32m\u001b[1m   Installed\u001b[22m\u001b[39m FilePathsBase ── v0.9.18\n",
      "\u001b[32m\u001b[1m   Installed\u001b[22m\u001b[39m CSV ──────────── v0.10.4\n",
      "\u001b[32m\u001b[1m    Updating\u001b[22m\u001b[39m `C:\\Users\\acoap\\.julia\\environments\\v1.7\\Project.toml`\n",
      " \u001b[90m [336ed68f] \u001b[39m\u001b[92m+ CSV v0.10.4\u001b[39m\n",
      "\u001b[32m\u001b[1m    Updating\u001b[22m\u001b[39m `C:\\Users\\acoap\\.julia\\environments\\v1.7\\Manifest.toml`\n",
      " \u001b[90m [336ed68f] \u001b[39m\u001b[92m+ CSV v0.10.4\u001b[39m\n",
      " \u001b[90m [48062228] \u001b[39m\u001b[92m+ FilePathsBase v0.9.18\u001b[39m\n",
      " \u001b[90m [ea10d353] \u001b[39m\u001b[92m+ WeakRefStrings v1.4.2\u001b[39m\n",
      "\u001b[32m\u001b[1mPrecompiling\u001b[22m\u001b[39m project...\n",
      "\u001b[32m  ✓ \u001b[39m\u001b[90mFilePathsBase\u001b[39m\n",
      "\u001b[32m  ✓ \u001b[39m\u001b[90mWeakRefStrings\u001b[39m\n",
      "\u001b[32m  ✓ \u001b[39mCSV\n",
      "  3 dependencies successfully precompiled in 6 seconds (181 already precompiled, 21 skipped during auto due to previous errors)\n"
     ]
    }
   ],
   "source": [
    "using Pkg\n",
    "\n",
    "\n",
    "Pkg.add(\"DataFrames\")\n",
    "Pkg.add(\"Dates\")\n",
    "Pkg.add(\"Plots\")\n",
    "Pkg.add(\"CategoricalArrays\")\n",
    "Pkg.add(\"RData\")\n",
    "Pkg.add(\"Lathe\")\n",
    "Pkg.add(\"GLM\") # package to run models \n",
    "Pkg.add(\"StatsPlots\")\n",
    "Pkg.add(\"MLBase\")\n",
    "Pkg.add(\"Tables\")\n",
    "Pkg.add(\"CovarianceMatrices\") # robust standar error\n",
    "Pkg.add(\"PyPlot\")\n",
    "Pkg.add(\"CSV\")\n",
    "\n",
    "using DataFrames\n",
    "using Dates\n",
    "using Plots\n",
    "using Statistics,RData  #upload data of R format \n",
    "using CategoricalArrays # categorical data\n",
    "using DataFrames\n",
    "using Tables\n",
    "using Lathe\n",
    "using GLM\n",
    "using CovarianceMatrices\n",
    "using StatsPlots\n",
    "using Statistics"
   ]
  },
  {
   "cell_type": "markdown",
<<<<<<< Updated upstream
   "id": "189e99e2",
=======
   "id": "3c9f5fa8",
>>>>>>> Stashed changes
   "metadata": {},
   "source": [
    "## Then we load some packages that will help us to use the Lasso Metod."
   ]
  },
  {
   "cell_type": "code",
   "execution_count": 3,
<<<<<<< Updated upstream
   "id": "5ebd3da0",
=======
   "id": "baaa8d3f",
>>>>>>> Stashed changes
   "metadata": {},
   "outputs": [
    {
     "name": "stderr",
     "output_type": "stream",
     "text": [
      "\u001b[32m\u001b[1m   Resolving\u001b[22m\u001b[39m package versions...\n",
      "\u001b[32m\u001b[1m  No Changes\u001b[22m\u001b[39m to `C:\\Users\\acoap\\.julia\\environments\\v1.7\\Project.toml`\n",
      "\u001b[32m\u001b[1m  No Changes\u001b[22m\u001b[39m to `C:\\Users\\acoap\\.julia\\environments\\v1.7\\Manifest.toml`\n",
      "\u001b[32m\u001b[1m   Resolving\u001b[22m\u001b[39m package versions...\n",
      "\u001b[32m\u001b[1m   Installed\u001b[22m\u001b[39m CodecBzip2 ─ v0.7.2\n",
      "\u001b[32m\u001b[1m    Updating\u001b[22m\u001b[39m `C:\\Users\\acoap\\.julia\\environments\\v1.7\\Project.toml`\n",
      " \u001b[90m [523fee87] \u001b[39m\u001b[92m+ CodecBzip2 v0.7.2\u001b[39m\n",
      "\u001b[32m\u001b[1m    Updating\u001b[22m\u001b[39m `C:\\Users\\acoap\\.julia\\environments\\v1.7\\Manifest.toml`\n",
      " \u001b[90m [523fee87] \u001b[39m\u001b[92m+ CodecBzip2 v0.7.2\u001b[39m\n",
      "\u001b[32m\u001b[1mPrecompiling\u001b[22m\u001b[39m project...\n",
      "\u001b[32m  ✓ \u001b[39mCodecBzip2\n",
      "  1 dependency successfully precompiled in 1 seconds (193 already precompiled, 1 skipped during auto due to previous errors)\n",
      "\u001b[32m\u001b[1m   Resolving\u001b[22m\u001b[39m package versions...\n",
      "\u001b[32m\u001b[1m    Updating\u001b[22m\u001b[39m `C:\\Users\\acoap\\.julia\\environments\\v1.7\\Project.toml`\n",
      " \u001b[90m [864edb3b] \u001b[39m\u001b[92m+ DataStructures v0.18.11\u001b[39m\n",
      "\u001b[32m\u001b[1m  No Changes\u001b[22m\u001b[39m to `C:\\Users\\acoap\\.julia\\environments\\v1.7\\Manifest.toml`\n",
      "\u001b[32m\u001b[1m   Resolving\u001b[22m\u001b[39m package versions...\n",
      "\u001b[32m\u001b[1m   Installed\u001b[22m\u001b[39m NamedArrays ─── v0.9.6\n",
      "\u001b[32m\u001b[1m   Installed\u001b[22m\u001b[39m Combinatorics ─ v1.0.2\n",
      "\u001b[32m\u001b[1m    Updating\u001b[22m\u001b[39m `C:\\Users\\acoap\\.julia\\environments\\v1.7\\Project.toml`\n",
      " \u001b[90m [86f7a689] \u001b[39m\u001b[92m+ NamedArrays v0.9.6\u001b[39m\n",
      "\u001b[32m\u001b[1m    Updating\u001b[22m\u001b[39m `C:\\Users\\acoap\\.julia\\environments\\v1.7\\Manifest.toml`\n",
      " \u001b[90m [861a8166] \u001b[39m\u001b[92m+ Combinatorics v1.0.2\u001b[39m\n",
      " \u001b[90m [86f7a689] \u001b[39m\u001b[92m+ NamedArrays v0.9.6\u001b[39m\n",
      "\u001b[32m\u001b[1mPrecompiling\u001b[22m\u001b[39m project...\n",
      "\u001b[32m  ✓ \u001b[39m\u001b[90mCombinatorics\u001b[39m\n",
      "\u001b[32m  ✓ \u001b[39mNamedArrays\n",
      "  2 dependencies successfully precompiled in 2 seconds (194 already precompiled, 1 skipped during auto due to previous errors)\n",
      "\u001b[32m\u001b[1m   Resolving\u001b[22m\u001b[39m package versions...\n",
      "\u001b[32m\u001b[1m    Updating\u001b[22m\u001b[39m `C:\\Users\\acoap\\.julia\\environments\\v1.7\\Project.toml`\n",
      " \u001b[90m [08abe8d2] \u001b[39m\u001b[92m+ PrettyTables v0.11.1\u001b[39m\n",
      "\u001b[32m\u001b[1m  No Changes\u001b[22m\u001b[39m to `C:\\Users\\acoap\\.julia\\environments\\v1.7\\Manifest.toml`\n",
      "\u001b[32m\u001b[1m   Resolving\u001b[22m\u001b[39m package versions...\n",
      "\u001b[32m\u001b[1m   Installed\u001b[22m\u001b[39m StatsFuns ────────── v0.9.7\n",
      "\u001b[32m\u001b[1m   Installed\u001b[22m\u001b[39m PooledArrays ─────── v0.5.3\n",
      "\u001b[32m\u001b[1m   Installed\u001b[22m\u001b[39m MLBase ───────────── v0.8.0\n",
      "\u001b[32m\u001b[1m   Installed\u001b[22m\u001b[39m Reexport ─────────── v0.2.0\n",
      "\u001b[32m\u001b[1m   Installed\u001b[22m\u001b[39m MutableArithmetics ─ v1.0.0\n",
      "\u001b[32m\u001b[1m   Installed\u001b[22m\u001b[39m CategoricalArrays ── v0.8.3\n",
      "\u001b[32m\u001b[1m   Installed\u001b[22m\u001b[39m Polynomials ──────── v3.0.0\n",
      "\u001b[32m\u001b[1m   Installed\u001b[22m\u001b[39m Arpack_jll ───────── v3.8.0+0\n",
      "\u001b[32m\u001b[1m   Installed\u001b[22m\u001b[39m Arpack ───────────── v0.5.0\n",
      "\u001b[32m\u001b[1m   Installed\u001b[22m\u001b[39m FillArrays ───────── v0.12.8\n",
      "\u001b[32m\u001b[1m   Installed\u001b[22m\u001b[39m DSP ──────────────── v0.7.5\n",
      "\u001b[32m\u001b[1m   Installed\u001b[22m\u001b[39m Lasso ────────────── v0.6.2\n",
      "\u001b[32m\u001b[1m   Installed\u001b[22m\u001b[39m Lathe ────────────── v0.1.3\n",
      "\u001b[32m\u001b[1m   Installed\u001b[22m\u001b[39m DensityInterface ─── v0.4.0\n",
      "\u001b[32m\u001b[1m   Installed\u001b[22m\u001b[39m DataFrames ───────── v0.21.8\n",
      "\u001b[32m\u001b[1m   Installed\u001b[22m\u001b[39m Distributions ────── v0.25.45\n",
      "\u001b[32m\u001b[1m    Updating\u001b[22m\u001b[39m `C:\\Users\\acoap\\.julia\\environments\\v1.7\\Project.toml`\n",
      " \u001b[90m [324d7699] \u001b[39m\u001b[95m↓ CategoricalArrays v0.9.7 ⇒ v0.8.3\u001b[39m\n",
      " \u001b[90m [a93c6f00] \u001b[39m\u001b[95m↓ DataFrames v0.22.7 ⇒ v0.21.8\u001b[39m\n",
      " \u001b[90m [b4fcebef] \u001b[39m\u001b[92m+ Lasso v0.6.2\u001b[39m\n",
      " \u001b[90m [38d8eb38] \u001b[39m\u001b[95m↓ Lathe v0.1.6 ⇒ v0.1.3\u001b[39m\n",
      " \u001b[90m [f0e99cf1] \u001b[39m\u001b[95m↓ MLBase v0.9.0 ⇒ v0.8.0\u001b[39m\n",
      " \u001b[90m [08abe8d2] \u001b[39m\u001b[93m↑ PrettyTables v0.11.1 ⇒ v1.3.1\u001b[39m\n",
      "\u001b[32m\u001b[1m    Updating\u001b[22m\u001b[39m `C:\\Users\\acoap\\.julia\\environments\\v1.7\\Manifest.toml`\n",
      " \u001b[90m [7d9fca2a] \u001b[39m\u001b[95m↓ Arpack v0.5.3 ⇒ v0.5.0\u001b[39m\n",
      " \u001b[90m [324d7699] \u001b[39m\u001b[95m↓ CategoricalArrays v0.9.7 ⇒ v0.8.3\u001b[39m\n",
      " \u001b[90m [717857b8] \u001b[39m\u001b[92m+ DSP v0.7.5\u001b[39m\n",
      " \u001b[90m [a93c6f00] \u001b[39m\u001b[95m↓ DataFrames v0.22.7 ⇒ v0.21.8\u001b[39m\n",
      " \u001b[90m [b429d917] \u001b[39m\u001b[92m+ DensityInterface v0.4.0\u001b[39m\n",
      " \u001b[90m [31c24e10] \u001b[39m\u001b[93m↑ Distributions v0.24.18 ⇒ v0.25.45\u001b[39m\n",
      " \u001b[90m [1a297f60] \u001b[39m\u001b[93m↑ FillArrays v0.11.9 ⇒ v0.12.8\u001b[39m\n",
      " \u001b[90m [b4fcebef] \u001b[39m\u001b[92m+ Lasso v0.6.2\u001b[39m\n",
      " \u001b[90m [38d8eb38] \u001b[39m\u001b[95m↓ Lathe v0.1.6 ⇒ v0.1.3\u001b[39m\n",
      " \u001b[90m [f0e99cf1] \u001b[39m\u001b[95m↓ MLBase v0.9.0 ⇒ v0.8.0\u001b[39m\n",
      " \u001b[90m [d8a4904e] \u001b[39m\u001b[92m+ MutableArithmetics v1.0.0\u001b[39m\n",
      " \u001b[90m [f27b6e38] \u001b[39m\u001b[92m+ Polynomials v3.0.0\u001b[39m\n",
      " \u001b[90m [2dfb63ee] \u001b[39m\u001b[95m↓ PooledArrays v1.4.1 ⇒ v0.5.3\u001b[39m\n",
      " \u001b[90m [08abe8d2] \u001b[39m\u001b[93m↑ PrettyTables v0.11.1 ⇒ v1.3.1\u001b[39m\n",
      " \u001b[90m [189a3867] \u001b[39m\u001b[95m↓ Reexport v1.2.2 ⇒ v0.2.0\u001b[39m\n",
      " \u001b[90m [4c63d2b9] \u001b[39m\u001b[95m↓ StatsFuns v0.9.18 ⇒ v0.9.7\u001b[39m\n",
      " \u001b[90m [68821587] \u001b[39m\u001b[93m↑ Arpack_jll v3.5.1+1 ⇒ v3.8.0+0\u001b[39m\n",
      "\u001b[32m\u001b[1mPrecompiling\u001b[22m\u001b[39m project...\n",
      "\u001b[33m  ✓ \u001b[39m\u001b[90mReexport\u001b[39m\n",
      "\u001b[32m  ✓ \u001b[39m\u001b[90mDensityInterface\u001b[39m\n",
      "\u001b[33m  ✓ \u001b[39m\u001b[90mPooledArrays\u001b[39m\n",
      "\u001b[33m  ✓ \u001b[39m\u001b[90mFillArrays\u001b[39m\n",
      "\u001b[91m  ✗ \u001b[39m\u001b[90mArpack_jll\u001b[39m\n",
      "\u001b[91m  ✗ \u001b[39m\u001b[90mStatsFuns\u001b[39m\n",
      "\u001b[91m  ✗ \u001b[39m\u001b[90mColors\u001b[39m\n",
      "\u001b[91m  ✗ \u001b[39mMLBase\n",
      "\u001b[33m  ✓ \u001b[39mCategoricalArrays\n",
      "\u001b[91m  ✗ \u001b[39mPrettyTables\n",
      "\u001b[91m  ✗ \u001b[39m\u001b[90mDistributions\u001b[39m\n",
      "\u001b[91m  ✗ \u001b[39m\u001b[90mFFTW\u001b[39m\n",
      "\u001b[91m  ✗ \u001b[39m\u001b[90mPlotUtils\u001b[39m\n",
      "\u001b[91m  ✗ \u001b[39m\u001b[90mMutableArithmetics\u001b[39m\n",
      "\u001b[91m  ✗ \u001b[39mDataFrames\n",
      "\u001b[91m  ✗ \u001b[39m\u001b[90mPolynomials\u001b[39m\n",
      "\u001b[91m  ✗ \u001b[39m\u001b[90mArpack\u001b[39m\n",
      "\u001b[91m  ✗ \u001b[39mRData\n",
      "\u001b[91m  ✗ \u001b[39m\u001b[90mDSP\u001b[39m\n",
      "\u001b[91m  ✗ \u001b[39mCovarianceMatrices\n",
      "\u001b[91m  ✗ \u001b[39mLathe\n",
      "\u001b[91m  ✗ \u001b[39mGLM\n",
      "\u001b[91m  ✗ \u001b[39mLasso\n",
      "\u001b[91m  ✗ \u001b[39mPlots\n",
      "\u001b[91m  ✗ \u001b[39mStatsPlots\n",
      "  5 dependencies successfully precompiled in 29 seconds (176 already precompiled, 1 skipped during auto due to previous errors)\n",
      "  \u001b[33m4\u001b[39m dependencies precompiled but different versions are currently loaded. Restart julia to access the new versions\n",
      "  \u001b[91m20\u001b[39m dependencies errored. To see a full report either run `import Pkg; Pkg.precompile()` or load the packages\n"
     ]
    }
   ],
   "source": [
    "import Pkg; Pkg.add(\"RData\")\n",
    "import Pkg; Pkg.add(\"CodecBzip2\")\n",
    "import Pkg; Pkg.add(\"DataStructures\")\n",
    "import Pkg; Pkg.add(\"NamedArrays\")\n",
    "import Pkg; Pkg.add(\"PrettyTables\")\n",
    "import Pkg; Pkg.add(\"Lasso\")"
   ]
  },
  {
   "cell_type": "code",
<<<<<<< Updated upstream
   "execution_count": 22,
   "id": "719f964a",
=======
   "execution_count": 26,
   "id": "f6c8112b",
>>>>>>> Stashed changes
   "metadata": {},
   "outputs": [
    {
     "name": "stderr",
     "output_type": "stream",
     "text": [
      "\u001b[32m\u001b[1m   Resolving\u001b[22m\u001b[39m package versions...\n",
      "\u001b[32m\u001b[1m  No Changes\u001b[22m\u001b[39m to `C:\\Users\\acoap\\.julia\\environments\\v1.7\\Project.toml`\n",
      "\u001b[32m\u001b[1m  No Changes\u001b[22m\u001b[39m to `C:\\Users\\acoap\\.julia\\environments\\v1.7\\Manifest.toml`\n"
     ]
    }
   ],
   "source": [
    "using Pkg\n",
    "Pkg.add(\"CSV\")"
   ]
  },
  {
   "cell_type": "code",
<<<<<<< Updated upstream
   "execution_count": 13,
   "id": "ecad819a",
   "metadata": {
    "scrolled": true
=======
   "execution_count": 58,
   "id": "24e943a3",
   "metadata": {
    "scrolled": false
>>>>>>> Stashed changes
   },
   "outputs": [
    {
     "name": "stdout",
     "output_type": "stream",
     "text": [
      "Number of Rows : 5150\n",
      "Number of Columns : 20\n"
     ]
    }
   ],
   "source": [
    "data = load(\"../../data/wage2015_subsample_inference.RData\")\n",
<<<<<<< Updated upstream
    "data = data[\"data\"]\n",
=======
    "data=data[\"data\"]\n",
>>>>>>> Stashed changes
    "names(data)\n",
    "println(\"Number of Rows : \", size(data)[1],\"\\n\",\"Number of Columns : \", size(data)[2],) #rows and columns"
   ]
  },
  {
<<<<<<< Updated upstream
   "cell_type": "code",
   "execution_count": 24,
   "id": "a8f3dd12",
=======
   "cell_type": "markdown",
   "id": "07c714a2",
   "metadata": {},
   "source": [
    "Now, we focus only on a subset of the data. For this porpouse, we use scl and clg variables."
   ]
  },
  {
   "cell_type": "code",
   "execution_count": 60,
   "id": "ef9ddf5f",
   "metadata": {
    "scrolled": false
   },
   "outputs": [
    {
     "data": {
      "text/html": [
       "<table class=\"data-frame\"><thead><tr><th></th><th>wage</th><th>lwage</th><th>sex</th><th>shs</th><th>hsg</th><th>scl</th><th>clg</th><th>ad</th><th>mw</th></tr><tr><th></th><th>Float64</th><th>Float64</th><th>Float64</th><th>Float64</th><th>Float64</th><th>Float64</th><th>Float64</th><th>Float64</th><th>Float64</th></tr></thead><tbody><p>3,068 rows × 20 columns (omitted printing of 11 columns)</p><tr><th>1</th><td>9.61538</td><td>2.26336</td><td>1.0</td><td>0.0</td><td>0.0</td><td>0.0</td><td>1.0</td><td>0.0</td><td>0.0</td></tr><tr><th>2</th><td>48.0769</td><td>3.8728</td><td>0.0</td><td>0.0</td><td>0.0</td><td>0.0</td><td>1.0</td><td>0.0</td><td>0.0</td></tr><tr><th>3</th><td>28.8462</td><td>3.36198</td><td>1.0</td><td>0.0</td><td>0.0</td><td>0.0</td><td>1.0</td><td>0.0</td><td>0.0</td></tr><tr><th>4</th><td>11.7308</td><td>2.46222</td><td>1.0</td><td>0.0</td><td>0.0</td><td>0.0</td><td>1.0</td><td>0.0</td><td>0.0</td></tr><tr><th>5</th><td>19.2308</td><td>2.95651</td><td>1.0</td><td>0.0</td><td>0.0</td><td>0.0</td><td>1.0</td><td>0.0</td><td>0.0</td></tr><tr><th>6</th><td>12.0192</td><td>2.48651</td><td>1.0</td><td>0.0</td><td>0.0</td><td>1.0</td><td>0.0</td><td>0.0</td><td>0.0</td></tr><tr><th>7</th><td>13.4615</td><td>2.59984</td><td>1.0</td><td>0.0</td><td>0.0</td><td>1.0</td><td>0.0</td><td>0.0</td><td>0.0</td></tr><tr><th>8</th><td>16.3462</td><td>2.79399</td><td>1.0</td><td>0.0</td><td>0.0</td><td>0.0</td><td>1.0</td><td>0.0</td><td>0.0</td></tr><tr><th>9</th><td>8.65385</td><td>2.158</td><td>0.0</td><td>0.0</td><td>0.0</td><td>1.0</td><td>0.0</td><td>0.0</td><td>0.0</td></tr><tr><th>10</th><td>10.6838</td><td>2.36872</td><td>1.0</td><td>0.0</td><td>0.0</td><td>1.0</td><td>0.0</td><td>0.0</td><td>0.0</td></tr><tr><th>11</th><td>11.5385</td><td>2.44569</td><td>1.0</td><td>0.0</td><td>0.0</td><td>1.0</td><td>0.0</td><td>0.0</td><td>0.0</td></tr><tr><th>12</th><td>19.2308</td><td>2.95651</td><td>0.0</td><td>0.0</td><td>0.0</td><td>0.0</td><td>1.0</td><td>0.0</td><td>0.0</td></tr><tr><th>13</th><td>16.3043</td><td>2.79143</td><td>1.0</td><td>0.0</td><td>0.0</td><td>1.0</td><td>0.0</td><td>0.0</td><td>0.0</td></tr><tr><th>14</th><td>12.0</td><td>2.48491</td><td>0.0</td><td>0.0</td><td>0.0</td><td>1.0</td><td>0.0</td><td>0.0</td><td>0.0</td></tr><tr><th>15</th><td>16.8269</td><td>2.82298</td><td>0.0</td><td>0.0</td><td>0.0</td><td>0.0</td><td>1.0</td><td>0.0</td><td>0.0</td></tr><tr><th>16</th><td>19.6703</td><td>2.97911</td><td>0.0</td><td>0.0</td><td>0.0</td><td>0.0</td><td>1.0</td><td>0.0</td><td>0.0</td></tr><tr><th>17</th><td>13.9423</td><td>2.63493</td><td>1.0</td><td>0.0</td><td>0.0</td><td>1.0</td><td>0.0</td><td>0.0</td><td>0.0</td></tr><tr><th>18</th><td>10.0962</td><td>2.31215</td><td>1.0</td><td>0.0</td><td>0.0</td><td>1.0</td><td>0.0</td><td>0.0</td><td>0.0</td></tr><tr><th>19</th><td>24.0385</td><td>3.17966</td><td>1.0</td><td>0.0</td><td>0.0</td><td>0.0</td><td>1.0</td><td>0.0</td><td>0.0</td></tr><tr><th>20</th><td>41.2088</td><td>3.71865</td><td>1.0</td><td>0.0</td><td>0.0</td><td>0.0</td><td>1.0</td><td>0.0</td><td>0.0</td></tr><tr><th>21</th><td>21.6346</td><td>3.07429</td><td>1.0</td><td>0.0</td><td>0.0</td><td>1.0</td><td>0.0</td><td>0.0</td><td>0.0</td></tr><tr><th>22</th><td>12.0192</td><td>2.48651</td><td>1.0</td><td>0.0</td><td>0.0</td><td>1.0</td><td>0.0</td><td>0.0</td><td>0.0</td></tr><tr><th>23</th><td>7.21154</td><td>1.97568</td><td>1.0</td><td>0.0</td><td>0.0</td><td>1.0</td><td>0.0</td><td>0.0</td><td>0.0</td></tr><tr><th>24</th><td>11.7788</td><td>2.46631</td><td>1.0</td><td>0.0</td><td>0.0</td><td>0.0</td><td>1.0</td><td>0.0</td><td>0.0</td></tr><tr><th>25</th><td>12.9371</td><td>2.5601</td><td>0.0</td><td>0.0</td><td>0.0</td><td>1.0</td><td>0.0</td><td>0.0</td><td>0.0</td></tr><tr><th>26</th><td>13.0769</td><td>2.57085</td><td>1.0</td><td>0.0</td><td>0.0</td><td>0.0</td><td>1.0</td><td>0.0</td><td>0.0</td></tr><tr><th>27</th><td>21.6346</td><td>3.07429</td><td>1.0</td><td>0.0</td><td>0.0</td><td>0.0</td><td>1.0</td><td>0.0</td><td>0.0</td></tr><tr><th>28</th><td>8.50592</td><td>2.14076</td><td>0.0</td><td>0.0</td><td>0.0</td><td>1.0</td><td>0.0</td><td>0.0</td><td>0.0</td></tr><tr><th>29</th><td>33.9893</td><td>3.52604</td><td>0.0</td><td>0.0</td><td>0.0</td><td>0.0</td><td>1.0</td><td>0.0</td><td>0.0</td></tr><tr><th>30</th><td>15.7212</td><td>2.75501</td><td>1.0</td><td>0.0</td><td>0.0</td><td>0.0</td><td>1.0</td><td>0.0</td><td>0.0</td></tr><tr><th>&vellip;</th><td>&vellip;</td><td>&vellip;</td><td>&vellip;</td><td>&vellip;</td><td>&vellip;</td><td>&vellip;</td><td>&vellip;</td><td>&vellip;</td><td>&vellip;</td></tr></tbody></table>"
      ],
      "text/latex": [
       "\\begin{tabular}{r|cccccccccc}\n",
       "\t& wage & lwage & sex & shs & hsg & scl & clg & ad & mw & \\\\\n",
       "\t\\hline\n",
       "\t& Float64 & Float64 & Float64 & Float64 & Float64 & Float64 & Float64 & Float64 & Float64 & \\\\\n",
       "\t\\hline\n",
       "\t1 & 9.61538 & 2.26336 & 1.0 & 0.0 & 0.0 & 0.0 & 1.0 & 0.0 & 0.0 & $\\dots$ \\\\\n",
       "\t2 & 48.0769 & 3.8728 & 0.0 & 0.0 & 0.0 & 0.0 & 1.0 & 0.0 & 0.0 & $\\dots$ \\\\\n",
       "\t3 & 28.8462 & 3.36198 & 1.0 & 0.0 & 0.0 & 0.0 & 1.0 & 0.0 & 0.0 & $\\dots$ \\\\\n",
       "\t4 & 11.7308 & 2.46222 & 1.0 & 0.0 & 0.0 & 0.0 & 1.0 & 0.0 & 0.0 & $\\dots$ \\\\\n",
       "\t5 & 19.2308 & 2.95651 & 1.0 & 0.0 & 0.0 & 0.0 & 1.0 & 0.0 & 0.0 & $\\dots$ \\\\\n",
       "\t6 & 12.0192 & 2.48651 & 1.0 & 0.0 & 0.0 & 1.0 & 0.0 & 0.0 & 0.0 & $\\dots$ \\\\\n",
       "\t7 & 13.4615 & 2.59984 & 1.0 & 0.0 & 0.0 & 1.0 & 0.0 & 0.0 & 0.0 & $\\dots$ \\\\\n",
       "\t8 & 16.3462 & 2.79399 & 1.0 & 0.0 & 0.0 & 0.0 & 1.0 & 0.0 & 0.0 & $\\dots$ \\\\\n",
       "\t9 & 8.65385 & 2.158 & 0.0 & 0.0 & 0.0 & 1.0 & 0.0 & 0.0 & 0.0 & $\\dots$ \\\\\n",
       "\t10 & 10.6838 & 2.36872 & 1.0 & 0.0 & 0.0 & 1.0 & 0.0 & 0.0 & 0.0 & $\\dots$ \\\\\n",
       "\t11 & 11.5385 & 2.44569 & 1.0 & 0.0 & 0.0 & 1.0 & 0.0 & 0.0 & 0.0 & $\\dots$ \\\\\n",
       "\t12 & 19.2308 & 2.95651 & 0.0 & 0.0 & 0.0 & 0.0 & 1.0 & 0.0 & 0.0 & $\\dots$ \\\\\n",
       "\t13 & 16.3043 & 2.79143 & 1.0 & 0.0 & 0.0 & 1.0 & 0.0 & 0.0 & 0.0 & $\\dots$ \\\\\n",
       "\t14 & 12.0 & 2.48491 & 0.0 & 0.0 & 0.0 & 1.0 & 0.0 & 0.0 & 0.0 & $\\dots$ \\\\\n",
       "\t15 & 16.8269 & 2.82298 & 0.0 & 0.0 & 0.0 & 0.0 & 1.0 & 0.0 & 0.0 & $\\dots$ \\\\\n",
       "\t16 & 19.6703 & 2.97911 & 0.0 & 0.0 & 0.0 & 0.0 & 1.0 & 0.0 & 0.0 & $\\dots$ \\\\\n",
       "\t17 & 13.9423 & 2.63493 & 1.0 & 0.0 & 0.0 & 1.0 & 0.0 & 0.0 & 0.0 & $\\dots$ \\\\\n",
       "\t18 & 10.0962 & 2.31215 & 1.0 & 0.0 & 0.0 & 1.0 & 0.0 & 0.0 & 0.0 & $\\dots$ \\\\\n",
       "\t19 & 24.0385 & 3.17966 & 1.0 & 0.0 & 0.0 & 0.0 & 1.0 & 0.0 & 0.0 & $\\dots$ \\\\\n",
       "\t20 & 41.2088 & 3.71865 & 1.0 & 0.0 & 0.0 & 0.0 & 1.0 & 0.0 & 0.0 & $\\dots$ \\\\\n",
       "\t21 & 21.6346 & 3.07429 & 1.0 & 0.0 & 0.0 & 1.0 & 0.0 & 0.0 & 0.0 & $\\dots$ \\\\\n",
       "\t22 & 12.0192 & 2.48651 & 1.0 & 0.0 & 0.0 & 1.0 & 0.0 & 0.0 & 0.0 & $\\dots$ \\\\\n",
       "\t23 & 7.21154 & 1.97568 & 1.0 & 0.0 & 0.0 & 1.0 & 0.0 & 0.0 & 0.0 & $\\dots$ \\\\\n",
       "\t24 & 11.7788 & 2.46631 & 1.0 & 0.0 & 0.0 & 0.0 & 1.0 & 0.0 & 0.0 & $\\dots$ \\\\\n",
       "\t25 & 12.9371 & 2.5601 & 0.0 & 0.0 & 0.0 & 1.0 & 0.0 & 0.0 & 0.0 & $\\dots$ \\\\\n",
       "\t26 & 13.0769 & 2.57085 & 1.0 & 0.0 & 0.0 & 0.0 & 1.0 & 0.0 & 0.0 & $\\dots$ \\\\\n",
       "\t27 & 21.6346 & 3.07429 & 1.0 & 0.0 & 0.0 & 0.0 & 1.0 & 0.0 & 0.0 & $\\dots$ \\\\\n",
       "\t28 & 8.50592 & 2.14076 & 0.0 & 0.0 & 0.0 & 1.0 & 0.0 & 0.0 & 0.0 & $\\dots$ \\\\\n",
       "\t29 & 33.9893 & 3.52604 & 0.0 & 0.0 & 0.0 & 0.0 & 1.0 & 0.0 & 0.0 & $\\dots$ \\\\\n",
       "\t30 & 15.7212 & 2.75501 & 1.0 & 0.0 & 0.0 & 0.0 & 1.0 & 0.0 & 0.0 & $\\dots$ \\\\\n",
       "\t$\\dots$ & $\\dots$ & $\\dots$ & $\\dots$ & $\\dots$ & $\\dots$ & $\\dots$ & $\\dots$ & $\\dots$ & $\\dots$ &  \\\\\n",
       "\\end{tabular}\n"
      ],
      "text/plain": [
       "\u001b[1m3068×20 DataFrame\u001b[0m\n",
       "\u001b[1m  Row \u001b[0m│\u001b[1m wage     \u001b[0m\u001b[1m lwage   \u001b[0m\u001b[1m sex     \u001b[0m\u001b[1m shs     \u001b[0m\u001b[1m hsg     \u001b[0m\u001b[1m scl     \u001b[0m\u001b[1m clg     \u001b[0m\u001b[1m ad    \u001b[0m ⋯\n",
       "\u001b[1m      \u001b[0m│\u001b[90m Float64  \u001b[0m\u001b[90m Float64 \u001b[0m\u001b[90m Float64 \u001b[0m\u001b[90m Float64 \u001b[0m\u001b[90m Float64 \u001b[0m\u001b[90m Float64 \u001b[0m\u001b[90m Float64 \u001b[0m\u001b[90m Float6\u001b[0m ⋯\n",
       "──────┼─────────────────────────────────────────────────────────────────────────\n",
       "    1 │  9.61538  2.26336      1.0      0.0      0.0      0.0      1.0      0. ⋯\n",
       "    2 │ 48.0769   3.8728       0.0      0.0      0.0      0.0      1.0      0.\n",
       "    3 │ 28.8462   3.36198      1.0      0.0      0.0      0.0      1.0      0.\n",
       "    4 │ 11.7308   2.46222      1.0      0.0      0.0      0.0      1.0      0.\n",
       "    5 │ 19.2308   2.95651      1.0      0.0      0.0      0.0      1.0      0. ⋯\n",
       "    6 │ 12.0192   2.48651      1.0      0.0      0.0      1.0      0.0      0.\n",
       "    7 │ 13.4615   2.59984      1.0      0.0      0.0      1.0      0.0      0.\n",
       "    8 │ 16.3462   2.79399      1.0      0.0      0.0      0.0      1.0      0.\n",
       "    9 │  8.65385  2.158        0.0      0.0      0.0      1.0      0.0      0. ⋯\n",
       "   10 │ 10.6838   2.36872      1.0      0.0      0.0      1.0      0.0      0.\n",
       "   11 │ 11.5385   2.44569      1.0      0.0      0.0      1.0      0.0      0.\n",
       "  ⋮   │    ⋮         ⋮        ⋮        ⋮        ⋮        ⋮        ⋮        ⋮   ⋱\n",
       " 3059 │ 38.4615   3.64966      0.0      0.0      0.0      0.0      1.0      0.\n",
       " 3060 │ 48.0769   3.8728       1.0      0.0      0.0      0.0      1.0      0. ⋯\n",
       " 3061 │ 12.0192   2.48651      0.0      0.0      0.0      1.0      0.0      0.\n",
       " 3062 │ 26.4423   3.27497      1.0      0.0      0.0      0.0      1.0      0.\n",
       " 3063 │ 21.1538   3.05182      0.0      0.0      0.0      0.0      1.0      0.\n",
       " 3064 │ 45.5466   3.81874      1.0      0.0      0.0      0.0      1.0      0. ⋯\n",
       " 3065 │ 24.0385   3.17966      1.0      0.0      0.0      0.0      1.0      0.\n",
       " 3066 │ 13.8462   2.62801      0.0      0.0      0.0      0.0      1.0      0.\n",
       " 3067 │ 14.7692   2.69255      0.0      0.0      0.0      0.0      1.0      0.\n",
       " 3068 │ 23.0769   3.13883      1.0      0.0      0.0      1.0      0.0      0. ⋯\n",
       "\u001b[36m                                                13 columns and 3047 rows omitted\u001b[0m"
      ]
     },
     "execution_count": 60,
     "metadata": {},
     "output_type": "execute_result"
    }
   ],
   "source": [
    "data_new = filter(row -> (row.scl == 1 || row.clg == 1) , data) "
   ]
  },
  {
   "cell_type": "markdown",
   "id": "d44cd55b",
   "metadata": {},
   "source": [
    "Let's have a look at the structure of the data."
   ]
  },
  {
   "cell_type": "code",
   "execution_count": 61,
   "id": "0cdbac6c",
>>>>>>> Stashed changes
   "metadata": {},
   "outputs": [
    {
     "data": {
      "text/plain": [
       "20-element Vector{DataType}:\n",
       " Float64\n",
       " Float64\n",
       " Float64\n",
       " Float64\n",
       " Float64\n",
       " Float64\n",
       " Float64\n",
       " Float64\n",
       " Float64\n",
       " Float64\n",
       " Float64\n",
       " Float64\n",
       " Float64\n",
       " Float64\n",
       " Float64\n",
       " Float64\n",
       " CategoricalValue{String, UInt16}\n",
       " CategoricalValue{String, UInt8}\n",
       " CategoricalValue{String, UInt8}\n",
       " CategoricalValue{String, UInt8}"
      ]
     },
<<<<<<< Updated upstream
     "execution_count": 24,
=======
     "execution_count": 61,
>>>>>>> Stashed changes
     "metadata": {},
     "output_type": "execute_result"
    }
   ],
   "source": [
<<<<<<< Updated upstream
    "[eltype(col) for col = eachcol(data)]"
=======
    "[eltype(col) for col = eachcol(data_new)]"
>>>>>>> Stashed changes
   ]
  },
  {
   "cell_type": "code",
<<<<<<< Updated upstream
   "execution_count": 23,
   "id": "79021aae",
   "metadata": {},
   "outputs": [
    {
     "ename": "LoadError",
     "evalue": "UndefVarError: CSV not defined",
     "output_type": "error",
     "traceback": [
      "UndefVarError: CSV not defined",
      "",
      "Stacktrace:",
      " [1] top-level scope",
      "   @ In[23]:3",
      " [2] eval",
      "   @ .\\boot.jl:373 [inlined]",
      " [3] include_string(mapexpr::typeof(REPL.softscope), mod::Module, code::String, filename::String)",
      "   @ Base .\\loading.jl:1196"
     ]
    }
   ],
   "source": [
    "#Reading the CSV file into a DataFrame\n",
    "#We have to set the category type for some variable\n",
    "data = CSV.File(\"wage2015_subsample_inference.csv\"; types = Dict(\"occ\" => String,\"occ2\"=> String,\"ind\"=>String,\"ind2\"=>String)) |> DataFrame\n",
    "println(\"Number of Rows : \", size(data)[1],\"\\n\",\"Number of Columns : \", size(data)[2],) #rows\n"
=======
   "execution_count": 62,
   "id": "d5f0f595",
   "metadata": {},
   "outputs": [
    {
     "data": {
      "text/html": [
       "<table class=\"data-frame\"><thead><tr><th></th><th>wage</th><th>lwage</th><th>sex</th><th>shs</th><th>hsg</th><th>scl</th><th>clg</th><th>ad</th><th>mw</th></tr><tr><th></th><th>Float64</th><th>Float64</th><th>Float64</th><th>Float64</th><th>Float64</th><th>Float64</th><th>Float64</th><th>Float64</th><th>Float64</th></tr></thead><tbody><p>10 rows × 20 columns (omitted printing of 11 columns)</p><tr><th>1</th><td>9.61538</td><td>2.26336</td><td>1.0</td><td>0.0</td><td>0.0</td><td>0.0</td><td>1.0</td><td>0.0</td><td>0.0</td></tr><tr><th>2</th><td>48.0769</td><td>3.8728</td><td>0.0</td><td>0.0</td><td>0.0</td><td>0.0</td><td>1.0</td><td>0.0</td><td>0.0</td></tr><tr><th>3</th><td>28.8462</td><td>3.36198</td><td>1.0</td><td>0.0</td><td>0.0</td><td>0.0</td><td>1.0</td><td>0.0</td><td>0.0</td></tr><tr><th>4</th><td>11.7308</td><td>2.46222</td><td>1.0</td><td>0.0</td><td>0.0</td><td>0.0</td><td>1.0</td><td>0.0</td><td>0.0</td></tr><tr><th>5</th><td>19.2308</td><td>2.95651</td><td>1.0</td><td>0.0</td><td>0.0</td><td>0.0</td><td>1.0</td><td>0.0</td><td>0.0</td></tr><tr><th>6</th><td>12.0192</td><td>2.48651</td><td>1.0</td><td>0.0</td><td>0.0</td><td>1.0</td><td>0.0</td><td>0.0</td><td>0.0</td></tr><tr><th>7</th><td>13.4615</td><td>2.59984</td><td>1.0</td><td>0.0</td><td>0.0</td><td>1.0</td><td>0.0</td><td>0.0</td><td>0.0</td></tr><tr><th>8</th><td>16.3462</td><td>2.79399</td><td>1.0</td><td>0.0</td><td>0.0</td><td>0.0</td><td>1.0</td><td>0.0</td><td>0.0</td></tr><tr><th>9</th><td>8.65385</td><td>2.158</td><td>0.0</td><td>0.0</td><td>0.0</td><td>1.0</td><td>0.0</td><td>0.0</td><td>0.0</td></tr><tr><th>10</th><td>10.6838</td><td>2.36872</td><td>1.0</td><td>0.0</td><td>0.0</td><td>1.0</td><td>0.0</td><td>0.0</td><td>0.0</td></tr></tbody></table>"
      ],
      "text/latex": [
       "\\begin{tabular}{r|cccccccccc}\n",
       "\t& wage & lwage & sex & shs & hsg & scl & clg & ad & mw & \\\\\n",
       "\t\\hline\n",
       "\t& Float64 & Float64 & Float64 & Float64 & Float64 & Float64 & Float64 & Float64 & Float64 & \\\\\n",
       "\t\\hline\n",
       "\t1 & 9.61538 & 2.26336 & 1.0 & 0.0 & 0.0 & 0.0 & 1.0 & 0.0 & 0.0 & $\\dots$ \\\\\n",
       "\t2 & 48.0769 & 3.8728 & 0.0 & 0.0 & 0.0 & 0.0 & 1.0 & 0.0 & 0.0 & $\\dots$ \\\\\n",
       "\t3 & 28.8462 & 3.36198 & 1.0 & 0.0 & 0.0 & 0.0 & 1.0 & 0.0 & 0.0 & $\\dots$ \\\\\n",
       "\t4 & 11.7308 & 2.46222 & 1.0 & 0.0 & 0.0 & 0.0 & 1.0 & 0.0 & 0.0 & $\\dots$ \\\\\n",
       "\t5 & 19.2308 & 2.95651 & 1.0 & 0.0 & 0.0 & 0.0 & 1.0 & 0.0 & 0.0 & $\\dots$ \\\\\n",
       "\t6 & 12.0192 & 2.48651 & 1.0 & 0.0 & 0.0 & 1.0 & 0.0 & 0.0 & 0.0 & $\\dots$ \\\\\n",
       "\t7 & 13.4615 & 2.59984 & 1.0 & 0.0 & 0.0 & 1.0 & 0.0 & 0.0 & 0.0 & $\\dots$ \\\\\n",
       "\t8 & 16.3462 & 2.79399 & 1.0 & 0.0 & 0.0 & 0.0 & 1.0 & 0.0 & 0.0 & $\\dots$ \\\\\n",
       "\t9 & 8.65385 & 2.158 & 0.0 & 0.0 & 0.0 & 1.0 & 0.0 & 0.0 & 0.0 & $\\dots$ \\\\\n",
       "\t10 & 10.6838 & 2.36872 & 1.0 & 0.0 & 0.0 & 1.0 & 0.0 & 0.0 & 0.0 & $\\dots$ \\\\\n",
       "\\end{tabular}\n"
      ],
      "text/plain": [
       "\u001b[1m10×20 DataFrame\u001b[0m\n",
       "\u001b[1m Row \u001b[0m│\u001b[1m wage     \u001b[0m\u001b[1m lwage   \u001b[0m\u001b[1m sex     \u001b[0m\u001b[1m shs     \u001b[0m\u001b[1m hsg     \u001b[0m\u001b[1m scl     \u001b[0m\u001b[1m clg     \u001b[0m\u001b[1m ad     \u001b[0m ⋯\n",
       "\u001b[1m     \u001b[0m│\u001b[90m Float64  \u001b[0m\u001b[90m Float64 \u001b[0m\u001b[90m Float64 \u001b[0m\u001b[90m Float64 \u001b[0m\u001b[90m Float64 \u001b[0m\u001b[90m Float64 \u001b[0m\u001b[90m Float64 \u001b[0m\u001b[90m Float64\u001b[0m ⋯\n",
       "─────┼──────────────────────────────────────────────────────────────────────────\n",
       "   1 │  9.61538  2.26336      1.0      0.0      0.0      0.0      1.0      0.0 ⋯\n",
       "   2 │ 48.0769   3.8728       0.0      0.0      0.0      0.0      1.0      0.0\n",
       "   3 │ 28.8462   3.36198      1.0      0.0      0.0      0.0      1.0      0.0\n",
       "   4 │ 11.7308   2.46222      1.0      0.0      0.0      0.0      1.0      0.0\n",
       "   5 │ 19.2308   2.95651      1.0      0.0      0.0      0.0      1.0      0.0 ⋯\n",
       "   6 │ 12.0192   2.48651      1.0      0.0      0.0      1.0      0.0      0.0\n",
       "   7 │ 13.4615   2.59984      1.0      0.0      0.0      1.0      0.0      0.0\n",
       "   8 │ 16.3462   2.79399      1.0      0.0      0.0      0.0      1.0      0.0\n",
       "   9 │  8.65385  2.158        0.0      0.0      0.0      1.0      0.0      0.0 ⋯\n",
       "  10 │ 10.6838   2.36872      1.0      0.0      0.0      1.0      0.0      0.0\n",
       "\u001b[36m                                                              12 columns omitted\u001b[0m"
      ]
     },
     "execution_count": 62,
     "metadata": {},
     "output_type": "execute_result"
    }
   ],
   "source": [
    "# first 10 lines of the data\n",
    "first(data_new,10)"
   ]
  },
  {
   "cell_type": "code",
   "execution_count": 64,
   "id": "0d702f98",
   "metadata": {},
   "outputs": [
    {
     "data": {
      "text/html": [
       "<table class=\"data-frame\"><thead><tr><th></th><th>variable</th><th>mean</th><th>min</th><th>median</th><th>max</th><th>nmissing</th><th>eltype</th></tr><tr><th></th><th>Symbol</th><th>Union…</th><th>Any</th><th>Union…</th><th>Any</th><th>Int64</th><th>DataType</th></tr></thead><tbody><p>20 rows × 7 columns</p><tr><th>1</th><td>wage</td><td>23.6574</td><td>3.02198</td><td>19.2308</td><td>490.196</td><td>0</td><td>Float64</td></tr><tr><th>2</th><td>lwage</td><td>3.00002</td><td>1.10591</td><td>2.95651</td><td>6.19481</td><td>0</td><td>Float64</td></tr><tr><th>3</th><td>sex</td><td>0.470991</td><td>0.0</td><td>0.0</td><td>1.0</td><td>0</td><td>Float64</td></tr><tr><th>4</th><td>shs</td><td>0.0</td><td>0.0</td><td>0.0</td><td>0.0</td><td>0</td><td>Float64</td></tr><tr><th>5</th><td>hsg</td><td>0.0</td><td>0.0</td><td>0.0</td><td>0.0</td><td>0</td><td>Float64</td></tr><tr><th>6</th><td>scl</td><td>0.466754</td><td>0.0</td><td>0.0</td><td>1.0</td><td>0</td><td>Float64</td></tr><tr><th>7</th><td>clg</td><td>0.533246</td><td>0.0</td><td>1.0</td><td>1.0</td><td>0</td><td>Float64</td></tr><tr><th>8</th><td>ad</td><td>0.0</td><td>0.0</td><td>0.0</td><td>0.0</td><td>0</td><td>Float64</td></tr><tr><th>9</th><td>mw</td><td>0.265971</td><td>0.0</td><td>0.0</td><td>1.0</td><td>0</td><td>Float64</td></tr><tr><th>10</th><td>so</td><td>0.285854</td><td>0.0</td><td>0.0</td><td>1.0</td><td>0</td><td>Float64</td></tr><tr><th>11</th><td>we</td><td>0.221643</td><td>0.0</td><td>0.0</td><td>1.0</td><td>0</td><td>Float64</td></tr><tr><th>12</th><td>ne</td><td>0.226532</td><td>0.0</td><td>0.0</td><td>1.0</td><td>0</td><td>Float64</td></tr><tr><th>13</th><td>exp1</td><td>12.7009</td><td>1.0</td><td>9.0</td><td>42.5</td><td>0</td><td>Float64</td></tr><tr><th>14</th><td>exp2</td><td>2.67634</td><td>0.01</td><td>0.81</td><td>18.0625</td><td>0</td><td>Float64</td></tr><tr><th>15</th><td>exp3</td><td>7.13381</td><td>0.001</td><td>0.729</td><td>76.7656</td><td>0</td><td>Float64</td></tr><tr><th>16</th><td>exp4</td><td>21.3456</td><td>0.0001</td><td>0.6561</td><td>326.254</td><td>0</td><td>Float64</td></tr><tr><th>17</th><td>occ</td><td></td><td>10</td><td></td><td>1e+05</td><td>0</td><td>CategoricalValue{String, UInt16}</td></tr><tr><th>18</th><td>occ2</td><td></td><td>1</td><td></td><td>22</td><td>0</td><td>CategoricalValue{String, UInt8}</td></tr><tr><th>19</th><td>ind</td><td></td><td>370</td><td></td><td>1e+05</td><td>0</td><td>CategoricalValue{String, UInt8}</td></tr><tr><th>20</th><td>ind2</td><td></td><td>2</td><td></td><td>22</td><td>0</td><td>CategoricalValue{String, UInt8}</td></tr></tbody></table>"
      ],
      "text/latex": [
       "\\begin{tabular}{r|ccccccc}\n",
       "\t& variable & mean & min & median & max & nmissing & eltype\\\\\n",
       "\t\\hline\n",
       "\t& Symbol & Union… & Any & Union… & Any & Int64 & DataType\\\\\n",
       "\t\\hline\n",
       "\t1 & wage & 23.6574 & 3.02198 & 19.2308 & 490.196 & 0 & Float64 \\\\\n",
       "\t2 & lwage & 3.00002 & 1.10591 & 2.95651 & 6.19481 & 0 & Float64 \\\\\n",
       "\t3 & sex & 0.470991 & 0.0 & 0.0 & 1.0 & 0 & Float64 \\\\\n",
       "\t4 & shs & 0.0 & 0.0 & 0.0 & 0.0 & 0 & Float64 \\\\\n",
       "\t5 & hsg & 0.0 & 0.0 & 0.0 & 0.0 & 0 & Float64 \\\\\n",
       "\t6 & scl & 0.466754 & 0.0 & 0.0 & 1.0 & 0 & Float64 \\\\\n",
       "\t7 & clg & 0.533246 & 0.0 & 1.0 & 1.0 & 0 & Float64 \\\\\n",
       "\t8 & ad & 0.0 & 0.0 & 0.0 & 0.0 & 0 & Float64 \\\\\n",
       "\t9 & mw & 0.265971 & 0.0 & 0.0 & 1.0 & 0 & Float64 \\\\\n",
       "\t10 & so & 0.285854 & 0.0 & 0.0 & 1.0 & 0 & Float64 \\\\\n",
       "\t11 & we & 0.221643 & 0.0 & 0.0 & 1.0 & 0 & Float64 \\\\\n",
       "\t12 & ne & 0.226532 & 0.0 & 0.0 & 1.0 & 0 & Float64 \\\\\n",
       "\t13 & exp1 & 12.7009 & 1.0 & 9.0 & 42.5 & 0 & Float64 \\\\\n",
       "\t14 & exp2 & 2.67634 & 0.01 & 0.81 & 18.0625 & 0 & Float64 \\\\\n",
       "\t15 & exp3 & 7.13381 & 0.001 & 0.729 & 76.7656 & 0 & Float64 \\\\\n",
       "\t16 & exp4 & 21.3456 & 0.0001 & 0.6561 & 326.254 & 0 & Float64 \\\\\n",
       "\t17 & occ &  & 10 &  & 1e+05 & 0 & CategoricalValue\\{String, UInt16\\} \\\\\n",
       "\t18 & occ2 &  & 1 &  & 22 & 0 & CategoricalValue\\{String, UInt8\\} \\\\\n",
       "\t19 & ind &  & 370 &  & 1e+05 & 0 & CategoricalValue\\{String, UInt8\\} \\\\\n",
       "\t20 & ind2 &  & 2 &  & 22 & 0 & CategoricalValue\\{String, UInt8\\} \\\\\n",
       "\\end{tabular}\n"
      ],
      "text/plain": [
       "\u001b[1m20×7 DataFrame\u001b[0m\n",
       "\u001b[1m Row \u001b[0m│\u001b[1m variable \u001b[0m\u001b[1m mean     \u001b[0m\u001b[1m min     \u001b[0m\u001b[1m median  \u001b[0m\u001b[1m max     \u001b[0m\u001b[1m nmissing \u001b[0m\u001b[1m eltype        \u001b[0m ⋯\n",
       "\u001b[1m     \u001b[0m│\u001b[90m Symbol   \u001b[0m\u001b[90m Union…   \u001b[0m\u001b[90m Any     \u001b[0m\u001b[90m Union…  \u001b[0m\u001b[90m Any     \u001b[0m\u001b[90m Int64    \u001b[0m\u001b[90m DataType      \u001b[0m ⋯\n",
       "─────┼──────────────────────────────────────────────────────────────────────────\n",
       "   1 │ wage      23.6574   3.02198  19.2308  490.196         0  Float64        ⋯\n",
       "   2 │ lwage     3.00002   1.10591  2.95651  6.19481         0  Float64\n",
       "   3 │ sex       0.470991  0.0      0.0      1.0             0  Float64\n",
       "   4 │ shs       0.0       0.0      0.0      0.0             0  Float64\n",
       "   5 │ hsg       0.0       0.0      0.0      0.0             0  Float64        ⋯\n",
       "   6 │ scl       0.466754  0.0      0.0      1.0             0  Float64\n",
       "   7 │ clg       0.533246  0.0      1.0      1.0             0  Float64\n",
       "   8 │ ad        0.0       0.0      0.0      0.0             0  Float64\n",
       "   9 │ mw        0.265971  0.0      0.0      1.0             0  Float64        ⋯\n",
       "  10 │ so        0.285854  0.0      0.0      1.0             0  Float64\n",
       "  11 │ we        0.221643  0.0      0.0      1.0             0  Float64\n",
       "  12 │ ne        0.226532  0.0      0.0      1.0             0  Float64\n",
       "  13 │ exp1      12.7009   1.0      9.0      42.5            0  Float64        ⋯\n",
       "  14 │ exp2      2.67634   0.01     0.81     18.0625         0  Float64\n",
       "  15 │ exp3      7.13381   0.001    0.729    76.7656         0  Float64\n",
       "  16 │ exp4      21.3456   0.0001   0.6561   326.254         0  Float64\n",
       "  17 │ occ      \u001b[90m          \u001b[0m 10      \u001b[90m         \u001b[0m 1e+05           0  CategoricalVal ⋯\n",
       "  18 │ occ2     \u001b[90m          \u001b[0m 1       \u001b[90m         \u001b[0m 22              0  CategoricalVal\n",
       "  19 │ ind      \u001b[90m          \u001b[0m 370     \u001b[90m         \u001b[0m 1e+05           0  CategoricalVal\n",
       "  20 │ ind2     \u001b[90m          \u001b[0m 2       \u001b[90m         \u001b[0m 22              0  CategoricalVal\n",
       "\u001b[36m                                                                1 column omitted\u001b[0m"
      ]
     },
     "execution_count": 64,
     "metadata": {},
     "output_type": "execute_result"
    }
   ],
   "source": [
    "describe(data_new)"
>>>>>>> Stashed changes
   ]
  },
  {
   "cell_type": "markdown",
<<<<<<< Updated upstream
   "id": "2d8f593d",
   "metadata": {},
   "source": [
    "Let's have a look at the structure of the data."
=======
   "id": "8920eaf0",
   "metadata": {},
   "source": [
    "Now, we are constructing the output variable $Y$ and the matrix $Z$ which includes the characteristics of workers that are given in the data."
>>>>>>> Stashed changes
   ]
  },
  {
   "cell_type": "code",
<<<<<<< Updated upstream
   "execution_count": null,
   "id": "9f6ab596",
   "metadata": {},
   "outputs": [],
   "source": [
    "***Variable description***\n",
    "\n",
    "- occ : occupational classification\n",
    "- ind : industry classification\n",
    "- lwage : log hourly wage\n",
    "- sex : gender (1 female) (0 male)\n",
    "- shs : some high school\n",
    "- hsg : High school graduated\n",
    "- scl : Some College\n",
    "- clg: College Graduate\n",
    "- ad: Advanced Degree\n",
    "- ne: Northeast\n",
    "- mw: Midwest\n",
    "- so: South\n",
    "- we: West\n",
    "- exp1: experience"
=======
   "execution_count": 65,
   "id": "037352e0",
   "metadata": {},
   "outputs": [
    {
     "name": "stdout",
     "output_type": "stream",
     "text": [
      "Number of observations : 3068\n",
      "Number of raw regressors:18\n"
     ]
    }
   ],
   "source": [
    "n = size(data_new)[1]\n",
    "z = select(data_new, Not([:lwage, :wage]))\n",
    "p = size(z)[2] \n",
    "\n",
    "println(\"Number of observations : \", n, \"\\n\",\"Number of raw regressors:\", p )"
>>>>>>> Stashed changes
   ]
  },
  {
   "cell_type": "code",
   "execution_count": null,
<<<<<<< Updated upstream
   "id": "bb19bfce",
=======
   "id": "edfaf3f4",
>>>>>>> Stashed changes
   "metadata": {},
   "outputs": [],
   "source": []
  }
 ],
 "metadata": {
  "kernelspec": {
   "display_name": "Julia 1.7.2",
   "language": "julia",
   "name": "julia-1.7"
  },
  "language_info": {
   "file_extension": ".jl",
   "mimetype": "application/julia",
   "name": "julia",
   "version": "1.7.2"
  }
 },
 "nbformat": 4,
 "nbformat_minor": 5
}
