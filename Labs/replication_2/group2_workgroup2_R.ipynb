{
 "cells": [
  {
   "cell_type": "code",
   "execution_count": null,
   "id": "d0b55bc8",
   "metadata": {},
   "outputs": [
    {
     "name": "stderr",
     "output_type": "stream",
     "text": [
      "also installing the dependencies 'lattice', 'colorspace', 'cli', 'utf8', 'nlme', 'Matrix', 'farver', 'labeling', 'lifecycle', 'munsell', 'R6', 'RColorBrewer', 'viridisLite', 'ellipsis', 'fansi', 'magrittr', 'pillar', 'pkgconfig', 'vctrs', 'glue', 'gtable', 'isoband', 'MASS', 'mgcv', 'rlang', 'scales', 'tibble', 'withr'\n",
      "\n"
     ]
    },
    {
     "name": "stdout",
     "output_type": "stream",
     "text": [
      "\n",
      "  There are binary versions available but the source versions are later:\n",
      "              binary  source needs_compilation\n",
      "lattice      0.20-44 0.20-45              TRUE\n",
      "colorspace     2.0-1   2.0-3              TRUE\n",
      "cli            2.5.0   3.2.0              TRUE\n",
      "utf8           1.2.1   1.2.2              TRUE\n",
      "nlme         3.1-152 3.1-157              TRUE\n",
      "Matrix         1.3-3   1.4-1              TRUE\n",
      "lifecycle      1.0.0   1.0.1             FALSE\n",
      "R6             2.5.0   2.5.1             FALSE\n",
      "RColorBrewer   1.1-2   1.1-3             FALSE\n",
      "fansi          0.4.2   1.0.3              TRUE\n",
      "magrittr       2.0.1   2.0.3              TRUE\n",
      "pillar         1.6.0   1.7.0             FALSE\n",
      "vctrs          0.3.8   0.4.1              TRUE\n",
      "glue           1.4.2   1.6.2              TRUE\n",
      "isoband        0.2.4   0.2.5              TRUE\n",
      "MASS          7.3-54  7.3-56              TRUE\n",
      "mgcv          1.8-35  1.8-40              TRUE\n",
      "rlang         0.4.11   1.0.2              TRUE\n",
      "scales         1.1.1   1.2.0             FALSE\n",
      "tibble         3.1.1   3.1.6              TRUE\n",
      "withr          2.4.2   2.5.0             FALSE\n",
      "ggplot2        3.3.3   3.3.5             FALSE\n",
      "\n",
      "  Binaries will be installed\n",
      "package 'lattice' successfully unpacked and MD5 sums checked\n",
      "package 'colorspace' successfully unpacked and MD5 sums checked\n",
      "package 'cli' successfully unpacked and MD5 sums checked\n",
      "package 'utf8' successfully unpacked and MD5 sums checked\n",
      "package 'nlme' successfully unpacked and MD5 sums checked\n",
      "package 'Matrix' successfully unpacked and MD5 sums checked\n",
      "package 'farver' successfully unpacked and MD5 sums checked\n",
      "package 'labeling' successfully unpacked and MD5 sums checked\n",
      "package 'munsell' successfully unpacked and MD5 sums checked\n",
      "package 'viridisLite' successfully unpacked and MD5 sums checked\n",
      "package 'ellipsis' successfully unpacked and MD5 sums checked\n",
      "package 'fansi' successfully unpacked and MD5 sums checked\n",
      "package 'magrittr' successfully unpacked and MD5 sums checked\n",
      "package 'pkgconfig' successfully unpacked and MD5 sums checked\n",
      "package 'vctrs' successfully unpacked and MD5 sums checked\n",
      "package 'glue' successfully unpacked and MD5 sums checked\n",
      "package 'gtable' successfully unpacked and MD5 sums checked\n",
      "package 'isoband' successfully unpacked and MD5 sums checked\n",
      "package 'MASS' successfully unpacked and MD5 sums checked\n",
      "package 'mgcv' successfully unpacked and MD5 sums checked\n",
      "package 'rlang' successfully unpacked and MD5 sums checked\n",
      "package 'tibble' successfully unpacked and MD5 sums checked\n",
      "\n",
      "The downloaded binary packages are in\n",
      "\tC:\\Users\\Luis\\AppData\\Local\\Temp\\Rtmpeq8aJ0\\downloaded_packages\n"
     ]
    },
    {
     "name": "stderr",
     "output_type": "stream",
     "text": [
      "installing the source packages 'lifecycle', 'R6', 'RColorBrewer', 'pillar', 'scales', 'withr', 'ggplot2'\n",
      "\n",
      "Warning message in install.packages(\"ggplot2\"):\n",
      "\"installation of package 'scales' had non-zero exit status\"Warning message in install.packages(\"ggplot2\"):\n",
      "\"installation of package 'ggplot2' had non-zero exit status\"also installing the dependencies 'fastmap', 'sys', 'bit', 'ps', 'htmltools', 'sass', 'glue', 'rappdirs', 'rematch', 'askpass', 'bit64', 'prettyunits', 'processx', 'evaluate', 'highr', 'yaml', 'xfun', 'bslib', 'jquerylib', 'tinytex', 'backports', 'generics', 'assertthat', 'blob', 'DBI', 'tidyselect', 'rlang', 'data.table', 'cli', 'gargle', 'cellranger', 'curl', 'ids', 'rematch2', 'scales', 'cpp11', 'mime', 'openssl', 'clipr', 'vroom', 'tzdb', 'progress', 'callr', 'fs', 'knitr', 'rmarkdown', 'selectr', 'stringi', 'broom', 'crayon', 'dbplyr', 'dplyr', 'dtplyr', 'forcats', 'googledrive', 'googlesheets4', 'ggplot2', 'haven', 'hms', 'httr', 'jsonlite', 'lubridate', 'modelr', 'purrr', 'readr', 'readxl', 'reprex', 'rstudioapi', 'rvest', 'stringr', 'tidyr', 'xml2'\n",
      "\n"
     ]
    }
   ],
   "source": [
    "#install relevant pkgs\n",
    "install.packages(\"ggplot2\")\n",
    "install.packages(\"tidyverse\")\n",
    "install.packages( \"glmnet\" )\n",
    "install.packages( \"lmtest\" )\n",
    "install.packages( \"sandwich\")\n",
    "install.packages( \"coefplot\")\n",
    "install.packages('collapse')\n",
    "install.packages('doBy')\n",
    "library('doBy')\n",
    "library('collapse')\n",
    "library(\"ggplot2\")\n",
    "library(\"tidyverse\")\n",
    "library(\"lubridate\")\n",
    "library(\"glmnet\")\n",
    "library(\"lmtest\")\n",
    "library(\"sandwich\")"
   ]
  },
  {
   "cell_type": "code",
   "execution_count": null,
   "id": "fca94b7f",
   "metadata": {},
   "outputs": [],
   "source": [
    "#load the dataset\n",
    "load(\"../../data/wage2015_subsample_inference.Rdata\")\n",
    "df<-as.data.frame(data)\n",
    "df"
   ]
  }
 ],
 "metadata": {
  "kernelspec": {
   "display_name": "R",
   "language": "R",
   "name": "ir"
  },
  "language_info": {
   "codemirror_mode": "r",
   "file_extension": ".r",
   "mimetype": "text/x-r-source",
   "name": "R",
   "pygments_lexer": "r",
   "version": "3.6.1"
  }
 },
 "nbformat": 4,
 "nbformat_minor": 5
}
