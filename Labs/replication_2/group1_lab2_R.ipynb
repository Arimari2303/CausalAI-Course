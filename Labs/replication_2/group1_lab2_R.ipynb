{
 "cells": [
  {
   "cell_type": "markdown",
   "metadata": {},
   "source": [
    "## 1. Data Splitting"
   ]
  },
  {
   "cell_type": "markdown",
   "metadata": {},
   "source": [
    "This method consists in randomly spliting a given sample in two subsamples: train and test. Usually, as a convention, it is set 75% for train and 25% for test. The training sample is used for estimating the parameters of the underlying model, while the testing sample is used to evalute the predictive capacity of the model with out-of-sample data. \n",
    "\n",
    "Let's suppose that we have a training sample, and we estimate the following model:\n",
    "\n",
    "$$Y^{TR} = \\beta_1 X_1^{TR}+\\beta_2 X_2^{TR} + \\epsilon^{TR}$$\n",
    "\n",
    "Which will yield estimated values for the coefficients: $\\widehat{\\beta_1}$, $\\widehat{\\beta_2}$. Now, to evaluate the ability of this particular model to predict out-of-sample observations, we construct the predicted values of the testing sample:\n",
    "\n",
    "$$\\widehat{Y^{TE}} =\\widehat{\\beta_1} X_1^{TE}+\\widehat{\\beta_2} X_2^{TE}$$\n",
    "\n",
    "Then, we could measure the MSE of these predictions:\n",
    "\n",
    "$$MSE^{TE} = \\frac{1}{N^{TE}}\\sum_{i=1}^{N^{TE}} \\left(Y^{TE}-\\widehat{Y^{TE}}\\right)^2$$\n",
    "\n",
    "And therefore have a more accurate measure of the ability of the model to predict."
   ]
  },
  {
   "cell_type": "markdown",
   "metadata": {},
   "source": [
    "## 2. k-fold Cross Validation"
   ]
  },
  {
   "cell_type": "markdown",
   "metadata": {},
   "source": [
    "It's an algorithm to estimate prediction errors.\n",
    "\n",
    "Consider a sample that is partitioned in K blocks, or folds (generally, K = 5,10). The idea is to make recursive estimations of a given model, with varying training and testing samples. The k-fold cross validation method relies on the following steps:\n",
    "\n",
    "Consider a number of values for the tuning parameter $\\lambda_j = {\\lambda_1,...,\\lambda_m}$\n",
    "\n",
    "Consider a number of folds $k = {1,...,K}$\n",
    "\n",
    "1. For each $\\lambda_j = {\\lambda_1,...,\\lambda_m}$\n",
    "\n",
    "   1.1 For each $k = {1,...,K}$:\n",
    "     \n",
    "          1.1.1 Estimate the model using every fold BUT i-fold.\n",
    "\n",
    "          1.1.2 With the coefficients estimated in (1.1.1), make an out-of-sample prediction of i-fold, calculate the estimation error and store it.\n",
    "    \n",
    "          1.1.3 Return to (1.1), and iterate over all others k = {1,...,K}.\n",
    "\n",
    "   1.2 Return to (1) and iterate over all others  $\\lambda_j = {\\lambda_1,...,\\lambda_m}$\n",
    "\n",
    "\n",
    "This process will yield a set of estimation errors: for every observation inside an i-fold, for every fold, and for every $\\lambda_j$. Over a particular $\\lambda_j$, consider that the average error of all folds is given by:\n",
    "\n",
    "$$Average Error (\\lambda) = \\frac{1}{N}\\sum_{k=1}^K \\sum_{i \\in F_k} \\left(y_i-\\widehat{y_{\\lambda}^{-k}}\\right)^2$$\n",
    "\n",
    "Where $\\widehat{y_{\\lambda}^{-k}}$ is the prediction of a particular observation in fold \"k\", made with coefficients from a regression over all other folds.\n",
    "\n",
    "The optimal $\\lambda$, from all posible $\\lambda_j = {\\lambda_1,...,\\lambda_m}$ is be the one that minimizes the Average Error, that is:\n",
    "\n",
    "$$\\hat\\lambda = \\underset{\\lambda \\in {\\lambda_1,...,\\lambda_m}} {argmin} Average Error (\\lambda)$$\n",
    "\n",
    "We used K-cross Validation to estimate an optimal lambda in a context of a Lasso regression"
   ]
  },
  {
   "cell_type": "markdown",
   "metadata": {},
   "source": [
    "## 3. Replication of PM1_Notebook1_Prediction_newdata"
   ]
  },
  {
   "cell_type": "markdown",
   "metadata": {},
   "source": [
    "install.packages(\"caret\")\n",
    "install.packages(\"ggplot2\")\n",
    "install.packages(\"tidyverse\")\n",
    "install.packages( \"glmnet\" )\n",
    "install.packages( \"lmtest\" )\n",
    "install.packages( \"sandwich\")\n",
    "install.packages( \"coefplot\")\n",
    "install.packages('collapse')\n",
    "install.packages('doBy')\n",
    "install.packages(\"hdm\")"
   ]
  },
  {
   "cell_type": "code",
   "execution_count": 1,
   "metadata": {},
   "outputs": [
    {
     "name": "stderr",
     "output_type": "stream",
     "text": [
      "collapse 1.7.6, see ?`collapse-package` or ?`collapse-documentation`\n",
      "\n",
      "\n",
      "Attaching package: 'collapse'\n",
      "\n",
      "\n",
      "The following object is masked from 'package:stats':\n",
      "\n",
      "    D\n",
      "\n",
      "\n",
      "-- \u001b[1mAttaching packages\u001b[22m ------------------------------------------------------------------------------- tidyverse 1.3.1 --\n",
      "\n",
      "\u001b[32mv\u001b[39m \u001b[34mtibble \u001b[39m 3.1.6     \u001b[32mv\u001b[39m \u001b[34mdplyr  \u001b[39m 1.0.8\n",
      "\u001b[32mv\u001b[39m \u001b[34mtidyr  \u001b[39m 1.2.0     \u001b[32mv\u001b[39m \u001b[34mstringr\u001b[39m 1.4.0\n",
      "\u001b[32mv\u001b[39m \u001b[34mreadr  \u001b[39m 2.1.2     \u001b[32mv\u001b[39m \u001b[34mforcats\u001b[39m 0.5.1\n",
      "\u001b[32mv\u001b[39m \u001b[34mpurrr  \u001b[39m 0.3.4     \n",
      "\n",
      "-- \u001b[1mConflicts\u001b[22m ---------------------------------------------------------------------------------- tidyverse_conflicts() --\n",
      "\u001b[31mx\u001b[39m \u001b[34mdplyr\u001b[39m::\u001b[32mfilter()\u001b[39m   masks \u001b[34mstats\u001b[39m::filter()\n",
      "\u001b[31mx\u001b[39m \u001b[34mdplyr\u001b[39m::\u001b[32mlag()\u001b[39m      masks \u001b[34mstats\u001b[39m::lag()\n",
      "\u001b[31mx\u001b[39m \u001b[34mdplyr\u001b[39m::\u001b[32morder_by()\u001b[39m masks \u001b[34mdoBy\u001b[39m::order_by()\n",
      "\n",
      "\n",
      "Attaching package: 'lubridate'\n",
      "\n",
      "\n",
      "The following object is masked from 'package:collapse':\n",
      "\n",
      "    is.Date\n",
      "\n",
      "\n",
      "The following objects are masked from 'package:base':\n",
      "\n",
      "    date, intersect, setdiff, union\n",
      "\n",
      "\n",
      "Loading required package: Matrix\n",
      "\n",
      "\n",
      "Attaching package: 'Matrix'\n",
      "\n",
      "\n",
      "The following objects are masked from 'package:tidyr':\n",
      "\n",
      "    expand, pack, unpack\n",
      "\n",
      "\n",
      "Loaded glmnet 4.1-3\n",
      "\n",
      "Loading required package: zoo\n",
      "\n",
      "\n",
      "Attaching package: 'zoo'\n",
      "\n",
      "\n",
      "The following object is masked from 'package:collapse':\n",
      "\n",
      "    is.regular\n",
      "\n",
      "\n",
      "The following objects are masked from 'package:base':\n",
      "\n",
      "    as.Date, as.Date.numeric\n",
      "\n",
      "\n",
      "Loading required package: lattice\n",
      "\n",
      "\n",
      "Attaching package: 'caret'\n",
      "\n",
      "\n",
      "The following object is masked from 'package:purrr':\n",
      "\n",
      "    lift\n",
      "\n",
      "\n"
     ]
    }
   ],
   "source": [
    "library(\"hdm\")\n",
    "library('doBy')\n",
    "library('collapse')\n",
    "library(\"ggplot2\")\n",
    "library(\"tidyverse\")\n",
    "library(\"lubridate\")\n",
    "library(\"glmnet\")\n",
    "library(\"lmtest\")\n",
    "library(\"sandwich\")\n",
    "library(\"readr\")\n",
    "library(\"dplyr\")\n",
    "library(\"caret\")\n",
    "library(\"repr\")"
   ]
  },
  {
   "cell_type": "code",
   "execution_count": 2,
   "metadata": {},
   "outputs": [],
   "source": [
    "#Charge data, transform to dataframe\n",
    "load(\"wage2015_subsample_inference.Rdata\")\n",
    "df <- as.data.frame(data)"
   ]
  },
  {
   "cell_type": "code",
   "execution_count": 3,
   "metadata": {},
   "outputs": [
    {
     "data": {
      "text/html": [
       "'Wages have a long tail at the right(extreme values). Looks like a log-Normal distribution'"
      ],
      "text/latex": [
       "'Wages have a long tail at the right(extreme values). Looks like a log-Normal distribution'"
      ],
      "text/markdown": [
       "'Wages have a long tail at the right(extreme values). Looks like a log-Normal distribution'"
      ],
      "text/plain": [
       "[1] \"Wages have a long tail at the right(extreme values). Looks like a log-Normal distribution\""
      ]
     },
     "metadata": {},
     "output_type": "display_data"
    },
    {
     "data": {
      "image/png": "[encoded data removed]",
      "text/plain": [
       "plot without title"
      ]
     },
     "metadata": {
      "image/png": {
       "height": 420,
       "width": 420
      }
     },
     "output_type": "display_data"
    }
   ],
   "source": [
    "'Wages have a long tail at the right(extreme values). Looks like a log-Normal distribution'\n",
    "ggplot(data)+geom_density(aes(.data$wage), fill=\"blue\")+theme_classic()\n"
   ]
  },
  {
   "cell_type": "code",
   "execution_count": 4,
   "metadata": {},
   "outputs": [
    {
     "data": {
      "text/html": [
       "'LogWages have a long tail at the right(extreme values), but it is less notorious.'"
      ],
      "text/latex": [
       "'LogWages have a long tail at the right(extreme values), but it is less notorious.'"
      ],
      "text/markdown": [
       "'LogWages have a long tail at the right(extreme values), but it is less notorious.'"
      ],
      "text/plain": [
       "[1] \"LogWages have a long tail at the right(extreme values), but it is less notorious.\""
      ]
     },
     "metadata": {},
     "output_type": "display_data"
    },
    {
     "data": {
      "image/png": "[encoded data removed]",
      "text/plain": [
       "plot without title"
      ]
     },
     "metadata": {
      "image/png": {
       "height": 420,
       "width": 420
      }
     },
     "output_type": "display_data"
    }
   ],
   "source": [
    "'LogWages have a long tail at the right(extreme values), but it is less notorious.'\n",
    "ggplot(data)+geom_density(aes(.data$lwage), fill=\"blue\")+theme_classic()\n"
   ]
  },
  {
   "cell_type": "code",
   "execution_count": 5,
   "metadata": {},
   "outputs": [
    {
     "data": {
      "text/html": [
       "'The Database has mostly men'"
      ],
      "text/latex": [
       "'The Database has mostly men'"
      ],
      "text/markdown": [
       "'The Database has mostly men'"
      ],
      "text/plain": [
       "[1] \"The Database has mostly men\""
      ]
     },
     "metadata": {},
     "output_type": "display_data"
    },
    {
     "data": {
      "image/png": "[encoded data removed]",
      "text/plain": [
       "plot without title"
      ]
     },
     "metadata": {
      "image/png": {
       "height": 420,
       "width": 420
      }
     },
     "output_type": "display_data"
    }
   ],
   "source": [
    "'The Database has mostly men'\n",
    "ggplot(data,aes(sex))+geom_bar(aes(y=stat(prop),group=1))\n"
   ]
  },
  {
   "cell_type": "code",
   "execution_count": 6,
   "metadata": {},
   "outputs": [
    {
     "data": {
      "text/html": [
       "'The distribution between SHS (Some High School), HSG(High School Graduate), SCL(Some College),\\nCLG(College Graduate) y AD (Advance) is presented in the figure below. The sample is represented mostly by high-school and college graduates'"
      ],
      "text/latex": [
       "'The distribution between SHS (Some High School), HSG(High School Graduate), SCL(Some College),\\textbackslash{}nCLG(College Graduate) y AD (Advance) is presented in the figure below. The sample is represented mostly by high-school and college graduates'"
      ],
      "text/markdown": [
       "'The distribution between SHS (Some High School), HSG(High School Graduate), SCL(Some College),\\nCLG(College Graduate) y AD (Advance) is presented in the figure below. The sample is represented mostly by high-school and college graduates'"
      ],
      "text/plain": [
       "[1] \"The distribution between SHS (Some High School), HSG(High School Graduate), SCL(Some College),\\nCLG(College Graduate) y AD (Advance) is presented in the figure below. The sample is represented mostly by high-school and college graduates\""
      ]
     },
     "metadata": {},
     "output_type": "display_data"
    },
    {
     "data": {
      "image/png": "[encoded data removed]",
      "text/plain": [
       "plot without title"
      ]
     },
     "metadata": {
      "image/png": {
       "height": 420,
       "width": 420
      }
     },
     "output_type": "display_data"
    }
   ],
   "source": [
    "'The distribution between SHS (Some High School), HSG(High School Graduate), SCL(Some College),\n",
    "CLG(College Graduate) y AD (Advance) is presented in the figure below. The sample is represented mostly by high-school and college graduates'\n",
    "educationgraph <- data.frame(name=c(\"shs\",\"hsg\",\"scl\",\"clg\",\"ad\"),value=c(sum(data$shs),sum(data$hsg),sum(data$scl),sum(data$clg),sum(data$ad)))\n",
    "barplot(height=educationgraph$value,names=educationgraph$name)\n"
   ]
  },
  {
   "cell_type": "code",
   "execution_count": 7,
   "metadata": {},
   "outputs": [
    {
     "data": {
      "text/html": [
       "'The distribution of experience has some sort of left bias'"
      ],
      "text/latex": [
       "'The distribution of experience has some sort of left bias'"
      ],
      "text/markdown": [
       "'The distribution of experience has some sort of left bias'"
      ],
      "text/plain": [
       "[1] \"The distribution of experience has some sort of left bias\""
      ]
     },
     "metadata": {},
     "output_type": "display_data"
    },
    {
     "data": {
      "image/png": "[encoded data removed]",
      "text/plain": [
       "plot without title"
      ]
     },
     "metadata": {
      "image/png": {
       "height": 420,
       "width": 420
      }
     },
     "output_type": "display_data"
    }
   ],
   "source": [
    "'The distribution of experience has some sort of left bias'\n",
    "ggplot(data)+geom_density(aes(.data$exp1), fill=\"pink\")+theme_classic()"
   ]
  },
  {
   "cell_type": "markdown",
   "metadata": {},
   "source": [
    "Now, filtering the dataframe, to consider only observations that **did not** go to college."
   ]
  },
  {
   "cell_type": "code",
   "execution_count": 8,
   "metadata": {},
   "outputs": [],
   "source": [
    "#Filtering df\n",
    "df[\"intercept\"] <- 1\n",
    "df <- filter(df,(shs==1|hsg==1))\n",
    "row.names(df) <- NULL"
   ]
  },
  {
   "cell_type": "code",
   "execution_count": 9,
   "metadata": {},
   "outputs": [
    {
     "data": {
      "text/html": [
       "<style>\n",
       ".list-inline {list-style: none; margin:0; padding: 0}\n",
       ".list-inline>li {display: inline-block}\n",
       ".list-inline>li:not(:last-child)::after {content: \"\\00b7\"; padding: 0 .5ex}\n",
       "</style>\n",
       "<ol class=list-inline><li>1376</li><li>21</li></ol>\n"
      ],
      "text/latex": [
       "\\begin{enumerate*}\n",
       "\\item 1376\n",
       "\\item 21\n",
       "\\end{enumerate*}\n"
      ],
      "text/markdown": [
       "1. 1376\n",
       "2. 21\n",
       "\n",
       "\n"
      ],
      "text/plain": [
       "[1] 1376   21"
      ]
     },
     "metadata": {},
     "output_type": "display_data"
    }
   ],
   "source": [
    "dim(df)"
   ]
  },
  {
   "cell_type": "markdown",
   "metadata": {},
   "source": [
    "Let's have a look at the data"
   ]
  },
  {
   "cell_type": "code",
   "execution_count": 10,
   "metadata": {},
   "outputs": [
    {
     "data": {
      "text/plain": [
       "      wage             lwage            sex              shs         \n",
       " Min.   :  3.365   Min.   :1.214   Min.   :0.0000   Min.   :0.00000  \n",
       " 1st Qu.: 10.989   1st Qu.:2.397   1st Qu.:0.0000   1st Qu.:0.00000  \n",
       " Median : 14.615   Median :2.682   Median :0.0000   Median :0.00000  \n",
       " Mean   : 17.854   Mean   :2.719   Mean   :0.3219   Mean   :0.08721  \n",
       " 3rd Qu.: 20.097   3rd Qu.:3.001   3rd Qu.:1.0000   3rd Qu.:0.00000  \n",
       " Max.   :528.846   Max.   :6.271   Max.   :1.0000   Max.   :1.00000  \n",
       "                                                                     \n",
       "      hsg              scl         clg          ad          mw        \n",
       " Min.   :0.0000   Min.   :0   Min.   :0   Min.   :0   Min.   :0.0000  \n",
       " 1st Qu.:1.0000   1st Qu.:0   1st Qu.:0   1st Qu.:0   1st Qu.:0.0000  \n",
       " Median :1.0000   Median :0   Median :0   Median :0   Median :0.0000  \n",
       " Mean   :0.9128   Mean   :0   Mean   :0   Mean   :0   Mean   :0.2863  \n",
       " 3rd Qu.:1.0000   3rd Qu.:0   3rd Qu.:0   3rd Qu.:0   3rd Qu.:1.0000  \n",
       " Max.   :1.0000   Max.   :0   Max.   :0   Max.   :0   Max.   :1.0000  \n",
       "                                                                      \n",
       "       so               we               ne              exp1      \n",
       " Min.   :0.0000   Min.   :0.0000   Min.   :0.0000   Min.   : 5.00  \n",
       " 1st Qu.:0.0000   1st Qu.:0.0000   1st Qu.:0.0000   1st Qu.: 9.00  \n",
       " Median :0.0000   Median :0.0000   Median :0.0000   Median :14.00  \n",
       " Mean   :0.2914   Mean   :0.1984   Mean   :0.2238   Mean   :17.19  \n",
       " 3rd Qu.:1.0000   3rd Qu.:0.0000   3rd Qu.:0.0000   3rd Qu.:25.00  \n",
       " Max.   :1.0000   Max.   :1.0000   Max.   :1.0000   Max.   :47.00  \n",
       "                                                                   \n",
       "      exp2            exp3              exp4               occ      \n",
       " Min.   : 0.25   Min.   :  0.125   Min.   :  0.0625   9130   :  51  \n",
       " 1st Qu.: 0.81   1st Qu.:  0.729   1st Qu.:  0.6561   4700   :  49  \n",
       " Median : 1.96   Median :  2.744   Median :  3.8416   9620   :  42  \n",
       " Mean   : 4.03   Mean   : 11.434   Mean   : 36.1583   4220   :  41  \n",
       " 3rd Qu.: 6.25   3rd Qu.: 15.625   3rd Qu.: 39.0625   4760   :  35  \n",
       " Max.   :22.09   Max.   :103.823   Max.   :487.9681   7750   :  33  \n",
       "                                                      (Other):1125  \n",
       "      occ2          ind           ind2       intercept\n",
       " 21     :194   770    :157   9      :229   Min.   :1  \n",
       " 17     :193   8680   :114   6      :173   1st Qu.:1  \n",
       " 16     :146   5380   : 40   4      :157   Median :1  \n",
       " 19     :144   4970   : 38   20     :151   Mean   :1  \n",
       " 22     :139   8190   : 36   18     :117   3rd Qu.:1  \n",
       " 13     :111   3570   : 32   5      : 75   Max.   :1  \n",
       " (Other):449   (Other):959   (Other):474              "
      ]
     },
     "metadata": {},
     "output_type": "display_data"
    }
   ],
   "source": [
    "summary(df)"
   ]
  },
  {
   "cell_type": "markdown",
   "metadata": {},
   "source": [
    "#### Normal, OLS Regressions"
   ]
  },
  {
   "cell_type": "code",
   "execution_count": 11,
   "metadata": {},
   "outputs": [],
   "source": [
    "#Setting models\n",
    "basic_model <- \"lwage ~ sex + exp1 + shs + hsg+ scl + clg + mw + so + we + occ2+ ind2\"\n",
    "flex_model <- \"lwage ~ sex + (exp1+exp2+exp3+exp4+shs+hsg+scl+clg+occ2+ind2+mw+so+we)^2\""
   ]
  },
  {
   "cell_type": "markdown",
   "metadata": {},
   "source": [
    "#### Basic Model"
   ]
  },
  {
   "cell_type": "code",
   "execution_count": 12,
   "metadata": {},
   "outputs": [],
   "source": [
    "basic_results <- lm(basic_model,data = df)\n",
    "est_basic <- basic_results$coef[2]\n",
    "std_basic <- summary(basic_results)$coef[2,2]\n",
    "ci_basic <- confint(basic_results)[2,]"
   ]
  },
  {
   "cell_type": "code",
   "execution_count": 13,
   "metadata": {},
   "outputs": [
    {
     "name": "stdout",
     "output_type": "stream",
     "text": [
      "[1] \"The coefficient asocciated with sex is -0.0733094462839272\"\n",
      "[1] \"and it has a standard deviation of 0.0314431124627201\"\n"
     ]
    }
   ],
   "source": [
    "print(paste0(\"The coefficient asocciated with sex is \",est_basic))\n",
    "print(paste0(\"and it has a standard deviation of \",std_basic))"
   ]
  },
  {
   "cell_type": "markdown",
   "metadata": {},
   "source": [
    "#### Flexible Model"
   ]
  },
  {
   "cell_type": "code",
   "execution_count": 14,
   "metadata": {},
   "outputs": [],
   "source": [
    "flex_results <- lm(flex_model,data=df)\n",
    "est_flex <- flex_results$coef[2]\n",
    "std_flex <- summary(flex_results)$coef[2,2]\n",
    "ci_flex <- confint(flex_results)[2,]"
   ]
  },
  {
   "cell_type": "code",
   "execution_count": 15,
   "metadata": {},
   "outputs": [
    {
     "name": "stdout",
     "output_type": "stream",
     "text": [
      "[1] \"The coefficient asocciated with sex is -0.0883294670230902\"\n",
      "[1] \"and it has a standard deviation of 0.0383266150021248\"\n"
     ]
    }
   ],
   "source": [
    "print(paste0(\"The coefficient asocciated with sex is \",est_flex))\n",
    "print(paste0(\"and it has a standard deviation of \",std_flex))"
   ]
  },
  {
   "cell_type": "code",
   "execution_count": 16,
   "metadata": {},
   "outputs": [
    {
     "data": {
      "text/html": [
       "<strong>sex:</strong> -0.0883294670230902"
      ],
      "text/latex": [
       "\\textbf{sex:} -0.0883294670230902"
      ],
      "text/markdown": [
       "**sex:** -0.0883294670230902"
      ],
      "text/plain": [
       "        sex \n",
       "-0.08832947 "
      ]
     },
     "metadata": {},
     "output_type": "display_data"
    },
    {
     "data": {
      "text/html": [
       "0.0383266150021248"
      ],
      "text/latex": [
       "0.0383266150021248"
      ],
      "text/markdown": [
       "0.0383266150021248"
      ],
      "text/plain": [
       "[1] 0.03832662"
      ]
     },
     "metadata": {},
     "output_type": "display_data"
    }
   ],
   "source": [
    "est_flex\n",
    "std_flex"
   ]
  },
  {
   "cell_type": "code",
   "execution_count": 17,
   "metadata": {},
   "outputs": [
    {
     "data": {
      "text/html": [
       "'Plotting confidence intervals'"
      ],
      "text/latex": [
       "'Plotting confidence intervals'"
      ],
      "text/markdown": [
       "'Plotting confidence intervals'"
      ],
      "text/plain": [
       "[1] \"Plotting confidence intervals\""
      ]
     },
     "metadata": {},
     "output_type": "display_data"
    },
    {
     "data": {
      "image/png": "[encoded data removed]",
      "text/plain": [
       "plot without title"
      ]
     },
     "metadata": {
      "image/png": {
       "height": 420,
       "width": 420
      }
     },
     "output_type": "display_data"
    }
   ],
   "source": [
    "'Plotting confidence intervals'\n",
    "CIdf <- data.frame(x = c('Basic (linear)','Flexible (cuadratic)'),\n",
    "                         y = c(est_basic,est_flex),\n",
    "                         lower = c(ci_basic[1] ,ci_flex[1]),\n",
    "                         upper = c(ci_basic[2] ,ci_flex[2]))\n",
    "\n",
    "ggplot(CIdf, aes(x, y)) +        # ggplot2 plot with confidence intervals\n",
    "  geom_point() +\n",
    "  geom_errorbar(aes(ymin = lower, ymax = upper),size=1,width=0)+\n",
    "  xlab(\"Models\")+ ylab(\"Confidence intervals for sex coefficient\")\n"
   ]
  },
  {
   "cell_type": "code",
   "execution_count": null,
   "metadata": {},
   "outputs": [],
   "source": []
  },
  {
   "cell_type": "code",
   "execution_count": null,
   "metadata": {},
   "outputs": [],
   "source": []
  },
  {
   "cell_type": "markdown",
   "metadata": {},
   "source": [
    "## 4. Partialling-out via Lasso"
   ]
  },
  {
   "cell_type": "markdown",
   "metadata": {},
   "source": [
    "We make the Partialling Out procedure to recover the sex coefficient. Specifically, the intermediate-regressions are done with the lasso regression, in order to penalize the large number of independent variables. Hence, some of the estimated coefficients will be set to zero by this method.\n",
    "\n",
    "The case 1 is a linear specification of the dependent variables, where we only use one variable to measure experience.\n",
    "\n",
    "The case 2 is a cuadratic specification of the dependent variables, that allows for mixed effects. Hence, we will have more regressors than in case 1, but the Lasso regression will set most of them to zero. We also use the four variables for experience.\n",
    "\n",
    "The idea behind Lasso Regression is to reduce the variance of some coefficients in a context of a high number of independent variables relative to the sample size. This will allow to make a better inference of them."
   ]
  },
  {
   "cell_type": "markdown",
   "metadata": {},
   "source": [
    "### <span style=\"color:blue\">Case 1</span>"
   ]
  },
  {
   "cell_type": "code",
   "execution_count": 137,
   "metadata": {},
   "outputs": [],
   "source": [
    "r.Y_1 <- rlasso(\"lwage ~ exp1 + shs + hsg+ scl + clg + mw + so + we + occ2+ ind2\",data=df, post=TRUE,intercept = TRUE)$res\n",
    "r.D_1 <- rlasso(\"sex ~ exp1 + shs + hsg+ scl + clg + mw + so + we + occ2+ ind2\",data=df, post=TRUE,intercept = TRUE)$res\n",
    "partial.lasso_1 <- lm(r.Y_1 ~ r.D_1-1)\n",
    "est_lasso_1 <- partial.lasso_1$coef[1]\n",
    "std_lasso_1 <- summary(partial.lasso_1)$coef[1,2]\n",
    "ci_lasso_1 <- confint(partial.lasso_1)[1,]"
   ]
  },
  {
   "cell_type": "code",
   "execution_count": 143,
   "metadata": {
    "scrolled": true
   },
   "outputs": [
    {
     "data": {
      "text/html": [
       "296.313223588726"
      ],
      "text/latex": [
       "296.313223588726"
      ],
      "text/markdown": [
       "296.313223588726"
      ],
      "text/plain": [
       "[1] 296.3132"
      ]
     },
     "metadata": {},
     "output_type": "display_data"
    },
    {
     "data": {
      "text/html": [
       "296.313223588726"
      ],
      "text/latex": [
       "296.313223588726"
      ],
      "text/markdown": [
       "296.313223588726"
      ],
      "text/plain": [
       "[1] 296.3132"
      ]
     },
     "metadata": {},
     "output_type": "display_data"
    }
   ],
   "source": [
    "rlasso(\"sex ~ exp1 + shs + hsg+ scl + clg + mw + so + we + occ2+ ind2\",data=df, post=TRUE)$lambda0\n",
    "rlasso(\"lwage ~ exp1 + shs + hsg+ scl + clg + mw + so + we + occ2+ ind2\",data=df, post=TRUE,intercept = TRUE)$lambda0"
   ]
  },
  {
   "cell_type": "code",
   "execution_count": null,
   "metadata": {},
   "outputs": [],
   "source": []
  },
  {
   "cell_type": "markdown",
   "metadata": {},
   "source": [
    "### <span style=\"color:blue\">Case 2</span>\n"
   ]
  },
  {
   "cell_type": "code",
   "execution_count": 120,
   "metadata": {},
   "outputs": [],
   "source": [
    "r.Y_2 <- rlasso(\"lwage ~ (exp1+exp2+exp3+exp4+shs+hsg+occ2+ind2+mw+so+we)^2\",data=df, post=TRUE,lambda.start=0.00077)$res\n",
    "r.D_2 <- rlasso(\"sex ~ (exp1+exp2+exp3+exp4+shs+hsg+occ2+ind2+mw+so+we)^2\",data=df, post=TRUE,lambda.start=0.00077)$res\n",
    "partial.lasso_2 <- lm(r.Y_2 ~ r.D_2-1)\n",
    "est_lasso_2 <- partial.lasso_2$coef[1]\n",
    "std_lasso_2 <- summary(partial.lasso_2)$coef[1,2]\n",
    "ci_lasso_2 <- confint(partial.lasso_2)[1,]"
   ]
  },
  {
   "cell_type": "code",
   "execution_count": null,
   "metadata": {},
   "outputs": [],
   "source": [
    "rlasso(\"lwage ~ (exp1+exp2+exp3+exp4+shs+hsg+occ2+ind2+mw+so+we)^2\",data=df, post=TRUE)$lambda0\n",
    "rlasso(\"sex ~ (exp1+exp2+exp3+exp4+shs+hsg+occ2+ind2+mw+so+we)^2\",data=df, post=TRUE)$lambda0"
   ]
  },
  {
   "cell_type": "markdown",
   "metadata": {},
   "source": [
    "This table summarizes the main results for the variable sex.\n",
    "\n",
    "As we can see, the Double Lasso **does not** help to reduce variance in the linear specification. \n",
    "\n",
    "However, the Double Lasso **does help** to reduce variance in the cuadratic specification, leading to a smaller confidence interval, and, although a lower coefficient, to a higher t-statistic."
   ]
  },
  {
   "cell_type": "code",
   "execution_count": 121,
   "metadata": {},
   "outputs": [
    {
     "data": {
      "text/html": [
       "<table class=\"dataframe\">\n",
       "<caption>A xtable: 4 × 4</caption>\n",
       "<thead>\n",
       "\t<tr><th></th><th scope=col>Estimator</th><th scope=col>Standard error</th><th scope=col>Lower bound CI</th><th scope=col>Upper bound CI</th></tr>\n",
       "\t<tr><th></th><th scope=col>&lt;dbl&gt;</th><th scope=col>&lt;dbl&gt;</th><th scope=col>&lt;dbl&gt;</th><th scope=col>&lt;dbl&gt;</th></tr>\n",
       "</thead>\n",
       "<tbody>\n",
       "\t<tr><th scope=row>Basic OLS</th><td>-0.07330945</td><td>0.03144311</td><td>-0.1349930</td><td>-0.02890829</td></tr>\n",
       "\t<tr><th scope=row>Basic: PO / Double Lasso</th><td>-0.09065628</td><td>0.03147693</td><td>-0.1524043</td><td>-0.02890829</td></tr>\n",
       "\t<tr><th scope=row>Flexible OLS</th><td>-0.08832947</td><td>0.03832662</td><td>-0.1635516</td><td>-0.01310734</td></tr>\n",
       "\t<tr><th scope=row>Flexible: PO / Double Lasso</th><td>-0.08141371</td><td>0.03167691</td><td>-0.1435540</td><td>-0.01927342</td></tr>\n",
       "</tbody>\n",
       "</table>\n"
      ],
      "text/latex": [
       "A xtable: 4 × 4\n",
       "\\begin{tabular}{r|llll}\n",
       "  & Estimator & Standard error & Lower bound CI & Upper bound CI\\\\\n",
       "  & <dbl> & <dbl> & <dbl> & <dbl>\\\\\n",
       "\\hline\n",
       "\tBasic OLS & -0.07330945 & 0.03144311 & -0.1349930 & -0.02890829\\\\\n",
       "\tBasic: PO / Double Lasso & -0.09065628 & 0.03147693 & -0.1524043 & -0.02890829\\\\\n",
       "\tFlexible OLS & -0.08832947 & 0.03832662 & -0.1635516 & -0.01310734\\\\\n",
       "\tFlexible: PO / Double Lasso & -0.08141371 & 0.03167691 & -0.1435540 & -0.01927342\\\\\n",
       "\\end{tabular}\n"
      ],
      "text/markdown": [
       "\n",
       "A xtable: 4 × 4\n",
       "\n",
       "| <!--/--> | Estimator &lt;dbl&gt; | Standard error &lt;dbl&gt; | Lower bound CI &lt;dbl&gt; | Upper bound CI &lt;dbl&gt; |\n",
       "|---|---|---|---|---|\n",
       "| Basic OLS | -0.07330945 | 0.03144311 | -0.1349930 | -0.02890829 |\n",
       "| Basic: PO / Double Lasso | -0.09065628 | 0.03147693 | -0.1524043 | -0.02890829 |\n",
       "| Flexible OLS | -0.08832947 | 0.03832662 | -0.1635516 | -0.01310734 |\n",
       "| Flexible: PO / Double Lasso | -0.08141371 | 0.03167691 | -0.1435540 | -0.01927342 |\n",
       "\n"
      ],
      "text/plain": [
       "                            Estimator   Standard error Lower bound CI\n",
       "Basic OLS                   -0.07330945 0.03144311     -0.1349930    \n",
       "Basic: PO / Double Lasso    -0.09065628 0.03147693     -0.1524043    \n",
       "Flexible OLS                -0.08832947 0.03832662     -0.1635516    \n",
       "Flexible: PO / Double Lasso -0.08141371 0.03167691     -0.1435540    \n",
       "                            Upper bound CI\n",
       "Basic OLS                   -0.02890829   \n",
       "Basic: PO / Double Lasso    -0.02890829   \n",
       "Flexible OLS                -0.01310734   \n",
       "Flexible: PO / Double Lasso -0.01927342   "
      ]
     },
     "metadata": {},
     "output_type": "display_data"
    }
   ],
   "source": [
    "library(xtable)\n",
    "table <- matrix(0, 4, 4)\n",
    "table[1,1:4]   <- c(est_basic,std_basic,ci_basic[1],ci_lasso_1[2])\n",
    "table[2,1:4]   <- c(est_lasso_1,std_lasso_1,ci_lasso_1[1],ci_lasso_1[2])\n",
    "table[3,1:4]   <- c(est_flex,std_flex,ci_flex[1],ci_flex[2])\n",
    "table[4,1:4]   <- c(est_lasso_2,std_lasso_2,ci_lasso_2[1],ci_lasso_2[2])\n",
    "colnames(table) <-c(\"Estimator\",\"Standard error\", \"Lower bound CI\", \"Upper bound CI\")\n",
    "rownames(table) <-c(\"Basic OLS\",\"Basic: PO / Double Lasso\",\"Flexible OLS\",\"Flexible: PO / Double Lasso\")\n",
    "tab<- xtable(table, digits = 3)\n",
    "tab"
   ]
  },
  {
   "cell_type": "markdown",
   "metadata": {},
   "source": [
    "In all models, the coefficient for the variable sex is negative, reproducing the fact that, in the sample, on average, women earn less than men."
   ]
  },
  {
   "cell_type": "code",
   "execution_count": 154,
   "metadata": {},
   "outputs": [
    {
     "data": {
      "text/html": [
       "'Plotting confidence intervals'"
      ],
      "text/latex": [
       "'Plotting confidence intervals'"
      ],
      "text/markdown": [
       "'Plotting confidence intervals'"
      ],
      "text/plain": [
       "[1] \"Plotting confidence intervals\""
      ]
     },
     "metadata": {},
     "output_type": "display_data"
    },
    {
     "data": {
      "image/png": "[encoded data removed]",
      "text/plain": [
       "plot without title"
      ]
     },
     "metadata": {
      "image/png": {
       "height": 420,
       "width": 420
      }
     },
     "output_type": "display_data"
    }
   ],
   "source": [
    "'Plotting confidence intervals'\n",
    "CIdf <- data.frame(x = c('Basic', 'Basic Lasso','Flexible','Flexible Lasso'),\n",
    "                         y = c(est_basic,est_lasso_1,est_flex,est_lasso_2),\n",
    "                         lower = c(ci_basic[1],ci_lasso_1[1],ci_flex[1] ,ci_lasso_2[1]),\n",
    "                         upper = c(ci_basic[2],ci_lasso_1[2],ci_flex[2] ,ci_lasso_2[2]))\n",
    "\n",
    "ggplot(CIdf, aes(x, y)) +        # ggplot2 plot with confidence intervals\n",
    "  geom_point() +\n",
    "  geom_errorbar(aes(ymin = lower, ymax = upper),size=1,width=0)+\n",
    "  xlab(\"Models\")+ ylab(\"Confidence intervals for sex coefficient\")\n"
   ]
  },
  {
   "cell_type": "code",
   "execution_count": null,
   "metadata": {},
   "outputs": [],
   "source": []
  },
  {
   "cell_type": "code",
   "execution_count": null,
   "metadata": {},
   "outputs": [],
   "source": []
  },
  {
   "cell_type": "code",
   "execution_count": null,
   "metadata": {},
   "outputs": [],
   "source": []
  },
  {
   "cell_type": "code",
   "execution_count": null,
   "metadata": {},
   "outputs": [],
   "source": []
  },
  {
   "cell_type": "code",
   "execution_count": null,
   "metadata": {},
   "outputs": [],
   "source": []
  },
  {
   "cell_type": "code",
   "execution_count": null,
   "metadata": {},
   "outputs": [],
   "source": []
  }
 ],
 "metadata": {
  "kernelspec": {
   "display_name": "R",
   "language": "R",
   "name": "ir"
  },
  "language_info": {
   "codemirror_mode": "r",
   "file_extension": ".r",
   "mimetype": "text/x-r-source",
   "name": "R",
   "pygments_lexer": "r",
   "version": "4.1.3"
  }
 },
 "nbformat": 4,
 "nbformat_minor": 4
}
