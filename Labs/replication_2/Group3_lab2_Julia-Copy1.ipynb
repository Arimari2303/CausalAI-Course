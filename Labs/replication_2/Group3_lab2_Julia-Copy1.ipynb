{
 "cells": [
  {
   "cell_type": "markdown",
   "id": "8cdde34e",
   "metadata": {},
   "source": [
    "## Group3\n",
    "### Members\n",
    "1.Andrea Ulloa \n",
    "2.Ana Angulo (20171627)\n",
    "3.Angela Coapaza (20171636) "
   ]
  },
  {
   "cell_type": "markdown",
   "id": "0b91e9c2",
   "metadata": {},
   "source": [
    "# Replication of the PM1_Notebook1_Prediction_newdata using a restricted da"
   ]
  },
  {
   "cell_type": "markdown",
   "id": "c9d7fe3f",
   "metadata": {},
   "source": [
    "## Introduction"
   ]
  },
  {
   "cell_type": "markdown",
   "id": "4b4aade2",
   "metadata": {},
   "source": [
    "In this wage example, Y is the hourly wage of a worker and X is a vector of worker's characteristics, e.g., education, experience, gender. Two main questions here are:\n",
    "\n",
    "How to use job-relevant characteristics, such as education and experience, to best predict wages?\n",
    "\n",
    "What is the difference in predicted wages between men and women with the same job-relevant characteristics?\n",
    "\n",
    "In this lab, we focus on the prediction question first."
   ]
  },
  {
   "cell_type": "markdown",
   "id": "1e9a57e8",
   "metadata": {},
   "source": [
    "## Data"
   ]
  },
  {
   "cell_type": "markdown",
   "id": "fa212c33",
   "metadata": {},
   "source": [
    "The data set we consider is from the March Supplement of the U.S. Current Population Survey, year 2015. We select white non-hispanic individuals, aged 25 to 64 years, and working more than 35 hours per week during at least 50 weeks of the year. We exclude self-employed workers; individuals living in group quarters; individuals in the military, agricultural or private household sectors; individuals with inconsistent reports on earnings and employment status; individuals with allocated or missing information in any of the variables used in the analysis; and individuals with hourly wage below  3 .\n",
    "\n",
    "The variable of interest  Y  is the hourly wage rate constructed as the ratio of the annual earnings to the total number of hours worked, which is constructed in turn as the product of number of weeks worked and the usual number of hours worked per week. In our analysis, we also focus on single (never married) workers. The final sample is of size  **n=5150** ."
   ]
  },
  {
   "cell_type": "markdown",
   "id": "687fa1e9",
   "metadata": {},
   "source": [
    "## Data analysis"
   ]
  },
  {
   "cell_type": "markdown",
   "id": "94a50b61",
   "metadata": {},
   "source": [
    "We start by loading the data set."
   ]
  },
  {
   "cell_type": "code",
   "execution_count": null,
   "id": "75f8c110",
   "metadata": {},
   "outputs": [],
   "source": [
    "using Pkg\n",
    "Pkg.add(\"CSV\")\n",
    "Pkg.add(\"DataFrames\")\n",
    "Pkg.add(\"Dates\")\n",
    "Pkg.add(\"Plots\")\n",
    "using CSV\n",
    "using DataFrames\n",
    "using Dates\n",
    "using Plots"
   ]
  },
  {
   "cell_type": "code",
   "execution_count": null,
   "id": "a2acfd1e",
   "metadata": {},
   "outputs": [],
   "source": [
    "data = load(\"../../data/wage2015_subsample_inference.RData\")\n",
    "data=data[\"data\"]\n",
    "names(data)\n",
    "println(\"Number of Rows : \", size(data)[1],\"\\n\",\"Number of Columns : \", size(data)[2],) #rows and columns"
   ]
  },
  {
   "cell_type": "code",
   "execution_count": null,
   "id": "dbe65b32",
   "metadata": {},
   "outputs": [],
   "source": [
    "Now, we focus only on a subset of the data. For this porpouse, we use scl and clg variables."
   ]
  },
  {
   "cell_type": "code",
   "execution_count": null,
   "id": "807c9542",
   "metadata": {},
   "outputs": [],
   "source": [
    "data_new = filter(row -> (row.scl == 1 || row.clg == 1) , data) "
   ]
  },
  {
   "cell_type": "code",
   "execution_count": null,
   "id": "37ac6251",
   "metadata": {},
   "outputs": [],
   "source": [
    "Let's have a look at the structure of the data."
   ]
  },
  {
   "cell_type": "code",
   "execution_count": null,
   "id": "66be5ccf",
   "metadata": {},
   "outputs": [],
   "source": [
    "[eltype(col) for col = eachcol(data_new)]"
   ]
  },
  {
   "cell_type": "code",
   "execution_count": null,
   "id": "e2620b4e",
   "metadata": {},
   "outputs": [],
   "source": [
    "# first 10 lines of the data\n",
    "first(data_new,10)"
   ]
  },
  {
   "cell_type": "code",
   "execution_count": null,
   "id": "84f2c09b",
   "metadata": {},
   "outputs": [],
   "source": [
    "describe(data_new)"
   ]
  },
  {
   "cell_type": "code",
   "execution_count": null,
   "id": "503c2d9d",
   "metadata": {},
   "outputs": [],
   "source": [
    "Now, we are constructing the output variable $Y$ and the matrix $Z$ which includes the characteristics of workers that are given in the data."
   ]
  },
  {
   "cell_type": "code",
   "execution_count": null,
   "id": "d853fdb1",
   "metadata": {},
   "outputs": [],
   "source": [
    "n = size(data_new)[1]\n",
    "z = select(data_new, Not([:lwage, :wage]))\n",
    "p = size(z)[2] \n",
    "\n",
    "println(\"Number of observations : \", n, \"\\n\",\"Number of raw regressors:\", p )"
   ]
  }
 ],
 "metadata": {
  "kernelspec": {
   "display_name": "Julia 1.7.2",
   "language": "julia",
   "name": "julia-1.7"
  },
  "language_info": {
   "file_extension": ".jl",
   "mimetype": "application/julia",
   "name": "julia",
   "version": "1.7.2"
  }
 },
 "nbformat": 4,
 "nbformat_minor": 5
}
