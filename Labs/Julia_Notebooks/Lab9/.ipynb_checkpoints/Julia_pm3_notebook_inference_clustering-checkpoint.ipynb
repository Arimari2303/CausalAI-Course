{
 "cells": [
  {
   "cell_type": "markdown",
   "metadata": {},
   "source": [
    "# A Case Study: The Effect of Gun Ownership on Gun-Homicide Rates"
   ]
  },
  {
   "cell_type": "markdown",
   "metadata": {},
   "source": [
    "We consider the problem of estimating the effect of gun\n",
    "ownership on the homicide rate. For this purpose, we estimate the following partially\n",
    "linear model\n",
    "\n",
    "$$\n",
    " Y_{j,t} = \\beta D_{j,(t-1)} + g(Z_{j,t}) + \\epsilon_{j,t}.\n",
    "$$"
   ]
  },
  {
   "cell_type": "markdown",
   "metadata": {},
   "source": [
    "## Data"
   ]
  },
  {
   "cell_type": "markdown",
   "metadata": {},
   "source": [
    "$Y_{j,t}$ is log homicide rate in county $j$ at time $t$, $D_{j, t-1}$ is log  fraction of suicides committed with a firearm in county $j$ at time $t-1$, which we use as a proxy for gun ownership,  and  $Z_{j,t}$ is a set of demographic and economic characteristics of county $j$ at time $t$. The parameter $\\beta$ is the effect of gun ownership on the\n",
    "homicide rates, controlling for county-level demographic and economic characteristics. \n",
    "\n",
    "The sample covers 195 large United States counties between the years 1980 through 1999, giving us 3900 observations."
   ]
  },
  {
   "cell_type": "code",
   "execution_count": 83,
   "metadata": {},
   "outputs": [],
   "source": [
    "using Pkg\n",
    "#Pkg.add(\"CSV\"), using CSV\n",
    "#Pkg.add(\"DataFrames\"), using DataFrames\n",
    "#Pkg.add(\"StatsModels\"), using StatsModels\n",
    "#Pkg.add(\"GLM\"), using GLM\n",
    "#Pkg.add(\"Random\"), using Random"
   ]
  },
  {
   "cell_type": "code",
   "execution_count": 84,
   "metadata": {
    "scrolled": true
   },
   "outputs": [],
   "source": [
    "using CSV, DataFrames, StatsModels, GLM, Random"
   ]
  },
  {
   "cell_type": "code",
   "execution_count": 85,
   "metadata": {},
   "outputs": [
    {
     "name": "stdout",
     "output_type": "stream",
     "text": [
      "Number of rows: 3900\n",
      "Number of columns: 415\n"
     ]
    }
   ],
   "source": [
    "data = CSV.File(\"../../../data/gun_clean.csv\") |> DataFrame;\n",
    "println(\"Number of rows: \",size(data,1))\n",
    "println(\"Number of columns: \",size(data,2))"
   ]
  },
  {
   "cell_type": "code",
   "execution_count": 86,
   "metadata": {},
   "outputs": [
    {
     "data": {
      "text/html": [
       "<div class=\"data-frame\"><p>3,900 rows × 415 columns (omitted printing of 406 columns)</p><table class=\"data-frame\"><thead><tr><th></th><th>Column1</th><th>CountyCode</th><th>logfssl</th><th>BPS030D</th><th>BPS130D</th><th>BPS230D</th><th>BNK010D</th><th>BNK050D</th><th>AGE010D</th></tr><tr><th></th><th title=\"Int64\">Int64</th><th title=\"Int64\">Int64</th><th title=\"Float64\">Float64</th><th title=\"Float64\">Float64</th><th title=\"Float64\">Float64</th><th title=\"Float64\">Float64</th><th title=\"Float64\">Float64</th><th title=\"Float64\">Float64</th><th title=\"Float64\">Float64</th></tr></thead><tbody><tr><th>1</th><td>1</td><td>1073</td><td>3.57217</td><td>6.55878</td><td>10.3356</td><td>6.38017</td><td>4.05163</td><td>12.2093</td><td>10.9079</td></tr><tr><th>2</th><td>2</td><td>1073</td><td>3.54975</td><td>6.55878</td><td>10.3356</td><td>6.38017</td><td>4.05163</td><td>12.2093</td><td>10.9079</td></tr><tr><th>3</th><td>3</td><td>1073</td><td>3.55551</td><td>6.55878</td><td>10.3356</td><td>6.38017</td><td>4.05163</td><td>12.2093</td><td>10.9079</td></tr><tr><th>4</th><td>4</td><td>1073</td><td>3.57985</td><td>6.55878</td><td>10.3356</td><td>6.38017</td><td>4.05163</td><td>12.2093</td><td>10.9079</td></tr><tr><th>5</th><td>5</td><td>1073</td><td>3.53965</td><td>6.55878</td><td>10.3356</td><td>6.38017</td><td>4.05163</td><td>12.2093</td><td>10.9079</td></tr><tr><th>6</th><td>6</td><td>1073</td><td>3.48119</td><td>6.55878</td><td>10.3356</td><td>6.38017</td><td>4.04605</td><td>12.4579</td><td>10.9079</td></tr><tr><th>7</th><td>7</td><td>1073</td><td>3.57639</td><td>6.55878</td><td>10.3356</td><td>6.38017</td><td>4.07361</td><td>12.6188</td><td>10.9079</td></tr><tr><th>8</th><td>8</td><td>1073</td><td>3.3858</td><td>6.55878</td><td>10.3356</td><td>6.38017</td><td>4.07361</td><td>12.6969</td><td>10.9079</td></tr><tr><th>9</th><td>9</td><td>1073</td><td>3.46706</td><td>6.55878</td><td>10.3356</td><td>6.38017</td><td>4.095</td><td>12.7511</td><td>10.9079</td></tr><tr><th>10</th><td>10</td><td>1073</td><td>3.43092</td><td>6.55878</td><td>10.3356</td><td>6.38017</td><td>4.11585</td><td>12.826</td><td>10.9079</td></tr><tr><th>11</th><td>11</td><td>1073</td><td>3.52288</td><td>6.55878</td><td>10.3356</td><td>6.38017</td><td>4.2173</td><td>12.8568</td><td>10.8836</td></tr><tr><th>12</th><td>12</td><td>1073</td><td>3.62135</td><td>6.55878</td><td>10.3356</td><td>6.38017</td><td>4.21275</td><td>12.9526</td><td>10.8836</td></tr><tr><th>13</th><td>13</td><td>1073</td><td>3.54178</td><td>6.55878</td><td>10.3356</td><td>6.38017</td><td>4.25285</td><td>12.9811</td><td>10.8836</td></tr><tr><th>14</th><td>14</td><td>1073</td><td>3.51538</td><td>6.55878</td><td>10.3356</td><td>6.38017</td><td>4.2615</td><td>13.0065</td><td>10.8836</td></tr><tr><th>15</th><td>15</td><td>1073</td><td>3.4794</td><td>6.55878</td><td>10.3356</td><td>6.38017</td><td>4.28691</td><td>13.0235</td><td>10.8836</td></tr><tr><th>16</th><td>16</td><td>1073</td><td>3.43661</td><td>6.7692</td><td>10.4152</td><td>6.36251</td><td>4.27006</td><td>13.0495</td><td>10.8836</td></tr><tr><th>17</th><td>17</td><td>1073</td><td>3.55224</td><td>6.77567</td><td>10.4694</td><td>6.44895</td><td>4.25719</td><td>13.0827</td><td>10.8836</td></tr><tr><th>18</th><td>18</td><td>1073</td><td>3.44893</td><td>6.52095</td><td>10.4247</td><td>6.37315</td><td>4.27853</td><td>13.174</td><td>10.8836</td></tr><tr><th>19</th><td>19</td><td>1073</td><td>3.48506</td><td>6.76584</td><td>10.5317</td><td>6.46941</td><td>4.28691</td><td>13.319</td><td>10.8836</td></tr><tr><th>20</th><td>20</td><td>1073</td><td>3.48073</td><td>6.67078</td><td>10.5875</td><td>6.4565</td><td>4.27006</td><td>13.4165</td><td>10.8836</td></tr><tr><th>21</th><td>21</td><td>1097</td><td>2.6804</td><td>4.64583</td><td>6.91026</td><td>4.52458</td><td>2.58619</td><td>8.74413</td><td>7.93478</td></tr><tr><th>22</th><td>22</td><td>1097</td><td>2.74737</td><td>4.64583</td><td>6.91026</td><td>4.52458</td><td>2.58619</td><td>8.74413</td><td>7.93478</td></tr><tr><th>23</th><td>23</td><td>1097</td><td>2.63943</td><td>4.64583</td><td>6.91026</td><td>4.52458</td><td>2.58619</td><td>8.74413</td><td>7.93478</td></tr><tr><th>24</th><td>24</td><td>1097</td><td>2.70366</td><td>4.64583</td><td>6.91026</td><td>4.52458</td><td>2.58619</td><td>8.74413</td><td>7.93478</td></tr><tr><th>25</th><td>25</td><td>1097</td><td>2.67904</td><td>4.64583</td><td>6.91026</td><td>4.52458</td><td>2.58619</td><td>8.74413</td><td>7.93478</td></tr><tr><th>26</th><td>26</td><td>1097</td><td>2.72988</td><td>4.64583</td><td>6.91026</td><td>4.52458</td><td>2.6581</td><td>8.8433</td><td>7.93478</td></tr><tr><th>27</th><td>27</td><td>1097</td><td>2.64061</td><td>4.64583</td><td>6.91026</td><td>4.52458</td><td>2.64089</td><td>8.82001</td><td>7.93478</td></tr><tr><th>28</th><td>28</td><td>1097</td><td>2.67107</td><td>4.64583</td><td>6.91026</td><td>4.52458</td><td>2.6321</td><td>8.88391</td><td>7.93478</td></tr><tr><th>29</th><td>29</td><td>1097</td><td>2.70121</td><td>4.64583</td><td>6.91026</td><td>4.52458</td><td>2.6321</td><td>8.96566</td><td>7.93478</td></tr><tr><th>30</th><td>30</td><td>1097</td><td>2.58825</td><td>4.64583</td><td>6.91026</td><td>4.52458</td><td>2.64955</td><td>9.0414</td><td>7.93478</td></tr><tr><th>&vellip;</th><td>&vellip;</td><td>&vellip;</td><td>&vellip;</td><td>&vellip;</td><td>&vellip;</td><td>&vellip;</td><td>&vellip;</td><td>&vellip;</td><td>&vellip;</td></tr></tbody></table></div>"
      ],
      "text/latex": [
       "\\begin{tabular}{r|cccccccccc}\n",
       "\t& Column1 & CountyCode & logfssl & BPS030D & BPS130D & BPS230D & BNK010D & BNK050D & AGE010D & \\\\\n",
       "\t\\hline\n",
       "\t& Int64 & Int64 & Float64 & Float64 & Float64 & Float64 & Float64 & Float64 & Float64 & \\\\\n",
       "\t\\hline\n",
       "\t1 & 1 & 1073 & 3.57217 & 6.55878 & 10.3356 & 6.38017 & 4.05163 & 12.2093 & 10.9079 & $\\dots$ \\\\\n",
       "\t2 & 2 & 1073 & 3.54975 & 6.55878 & 10.3356 & 6.38017 & 4.05163 & 12.2093 & 10.9079 & $\\dots$ \\\\\n",
       "\t3 & 3 & 1073 & 3.55551 & 6.55878 & 10.3356 & 6.38017 & 4.05163 & 12.2093 & 10.9079 & $\\dots$ \\\\\n",
       "\t4 & 4 & 1073 & 3.57985 & 6.55878 & 10.3356 & 6.38017 & 4.05163 & 12.2093 & 10.9079 & $\\dots$ \\\\\n",
       "\t5 & 5 & 1073 & 3.53965 & 6.55878 & 10.3356 & 6.38017 & 4.05163 & 12.2093 & 10.9079 & $\\dots$ \\\\\n",
       "\t6 & 6 & 1073 & 3.48119 & 6.55878 & 10.3356 & 6.38017 & 4.04605 & 12.4579 & 10.9079 & $\\dots$ \\\\\n",
       "\t7 & 7 & 1073 & 3.57639 & 6.55878 & 10.3356 & 6.38017 & 4.07361 & 12.6188 & 10.9079 & $\\dots$ \\\\\n",
       "\t8 & 8 & 1073 & 3.3858 & 6.55878 & 10.3356 & 6.38017 & 4.07361 & 12.6969 & 10.9079 & $\\dots$ \\\\\n",
       "\t9 & 9 & 1073 & 3.46706 & 6.55878 & 10.3356 & 6.38017 & 4.095 & 12.7511 & 10.9079 & $\\dots$ \\\\\n",
       "\t10 & 10 & 1073 & 3.43092 & 6.55878 & 10.3356 & 6.38017 & 4.11585 & 12.826 & 10.9079 & $\\dots$ \\\\\n",
       "\t11 & 11 & 1073 & 3.52288 & 6.55878 & 10.3356 & 6.38017 & 4.2173 & 12.8568 & 10.8836 & $\\dots$ \\\\\n",
       "\t12 & 12 & 1073 & 3.62135 & 6.55878 & 10.3356 & 6.38017 & 4.21275 & 12.9526 & 10.8836 & $\\dots$ \\\\\n",
       "\t13 & 13 & 1073 & 3.54178 & 6.55878 & 10.3356 & 6.38017 & 4.25285 & 12.9811 & 10.8836 & $\\dots$ \\\\\n",
       "\t14 & 14 & 1073 & 3.51538 & 6.55878 & 10.3356 & 6.38017 & 4.2615 & 13.0065 & 10.8836 & $\\dots$ \\\\\n",
       "\t15 & 15 & 1073 & 3.4794 & 6.55878 & 10.3356 & 6.38017 & 4.28691 & 13.0235 & 10.8836 & $\\dots$ \\\\\n",
       "\t16 & 16 & 1073 & 3.43661 & 6.7692 & 10.4152 & 6.36251 & 4.27006 & 13.0495 & 10.8836 & $\\dots$ \\\\\n",
       "\t17 & 17 & 1073 & 3.55224 & 6.77567 & 10.4694 & 6.44895 & 4.25719 & 13.0827 & 10.8836 & $\\dots$ \\\\\n",
       "\t18 & 18 & 1073 & 3.44893 & 6.52095 & 10.4247 & 6.37315 & 4.27853 & 13.174 & 10.8836 & $\\dots$ \\\\\n",
       "\t19 & 19 & 1073 & 3.48506 & 6.76584 & 10.5317 & 6.46941 & 4.28691 & 13.319 & 10.8836 & $\\dots$ \\\\\n",
       "\t20 & 20 & 1073 & 3.48073 & 6.67078 & 10.5875 & 6.4565 & 4.27006 & 13.4165 & 10.8836 & $\\dots$ \\\\\n",
       "\t21 & 21 & 1097 & 2.6804 & 4.64583 & 6.91026 & 4.52458 & 2.58619 & 8.74413 & 7.93478 & $\\dots$ \\\\\n",
       "\t22 & 22 & 1097 & 2.74737 & 4.64583 & 6.91026 & 4.52458 & 2.58619 & 8.74413 & 7.93478 & $\\dots$ \\\\\n",
       "\t23 & 23 & 1097 & 2.63943 & 4.64583 & 6.91026 & 4.52458 & 2.58619 & 8.74413 & 7.93478 & $\\dots$ \\\\\n",
       "\t24 & 24 & 1097 & 2.70366 & 4.64583 & 6.91026 & 4.52458 & 2.58619 & 8.74413 & 7.93478 & $\\dots$ \\\\\n",
       "\t25 & 25 & 1097 & 2.67904 & 4.64583 & 6.91026 & 4.52458 & 2.58619 & 8.74413 & 7.93478 & $\\dots$ \\\\\n",
       "\t26 & 26 & 1097 & 2.72988 & 4.64583 & 6.91026 & 4.52458 & 2.6581 & 8.8433 & 7.93478 & $\\dots$ \\\\\n",
       "\t27 & 27 & 1097 & 2.64061 & 4.64583 & 6.91026 & 4.52458 & 2.64089 & 8.82001 & 7.93478 & $\\dots$ \\\\\n",
       "\t28 & 28 & 1097 & 2.67107 & 4.64583 & 6.91026 & 4.52458 & 2.6321 & 8.88391 & 7.93478 & $\\dots$ \\\\\n",
       "\t29 & 29 & 1097 & 2.70121 & 4.64583 & 6.91026 & 4.52458 & 2.6321 & 8.96566 & 7.93478 & $\\dots$ \\\\\n",
       "\t30 & 30 & 1097 & 2.58825 & 4.64583 & 6.91026 & 4.52458 & 2.64955 & 9.0414 & 7.93478 & $\\dots$ \\\\\n",
       "\t$\\dots$ & $\\dots$ & $\\dots$ & $\\dots$ & $\\dots$ & $\\dots$ & $\\dots$ & $\\dots$ & $\\dots$ & $\\dots$ &  \\\\\n",
       "\\end{tabular}\n"
      ],
      "text/plain": [
       "\u001b[1m3900×415 DataFrame\u001b[0m\n",
       "\u001b[1m  Row \u001b[0m│\u001b[1m Column1 \u001b[0m\u001b[1m CountyCode \u001b[0m\u001b[1m logfssl \u001b[0m\u001b[1m BPS030D \u001b[0m\u001b[1m BPS130D  \u001b[0m\u001b[1m BPS230D \u001b[0m\u001b[1m BNK010D \u001b[0m\u001b[1m BNK\u001b[0m ⋯\n",
       "\u001b[1m      \u001b[0m│\u001b[90m Int64   \u001b[0m\u001b[90m Int64      \u001b[0m\u001b[90m Float64 \u001b[0m\u001b[90m Float64 \u001b[0m\u001b[90m Float64  \u001b[0m\u001b[90m Float64 \u001b[0m\u001b[90m Float64 \u001b[0m\u001b[90m Flo\u001b[0m ⋯\n",
       "──────┼─────────────────────────────────────────────────────────────────────────\n",
       "    1 │       1        1073  3.57217  6.55878  10.3356   6.38017  4.05163  12. ⋯\n",
       "    2 │       2        1073  3.54975  6.55878  10.3356   6.38017  4.05163  12.\n",
       "    3 │       3        1073  3.55551  6.55878  10.3356   6.38017  4.05163  12.\n",
       "    4 │       4        1073  3.57985  6.55878  10.3356   6.38017  4.05163  12.\n",
       "    5 │       5        1073  3.53965  6.55878  10.3356   6.38017  4.05163  12. ⋯\n",
       "    6 │       6        1073  3.48119  6.55878  10.3356   6.38017  4.04605  12.\n",
       "    7 │       7        1073  3.57639  6.55878  10.3356   6.38017  4.07361  12.\n",
       "    8 │       8        1073  3.3858   6.55878  10.3356   6.38017  4.07361  12.\n",
       "    9 │       9        1073  3.46706  6.55878  10.3356   6.38017  4.095    12. ⋯\n",
       "   10 │      10        1073  3.43092  6.55878  10.3356   6.38017  4.11585  12.\n",
       "   11 │      11        1073  3.52288  6.55878  10.3356   6.38017  4.2173   12.\n",
       "  ⋮   │    ⋮         ⋮          ⋮        ⋮        ⋮         ⋮        ⋮         ⋱\n",
       " 3891 │    3891       55133  2.10734  4.54342   7.16619  4.29539  2.41556   8.\n",
       " 3892 │    3892       55133  2.2572   4.54342   7.16619  4.29539  2.48245   8. ⋯\n",
       " 3893 │    3893       55133  2.08354  4.54342   7.16619  4.29539  2.46321   8.\n",
       " 3894 │    3894       55133  2.14196  4.54342   7.16619  4.29539  2.58563   8.\n",
       " 3895 │    3895       55133  2.06408  4.54342   7.16619  4.29539  2.60617   8.\n",
       " 3896 │    3896       55133  2.15083  4.4651    7.07995  4.16048  2.61118   8. ⋯\n",
       " 3897 │    3897       55133  2.30588  4.49111   7.13281  4.21926  2.60617   8.\n",
       " 3898 │    3898       55133  2.25912  4.47817   7.11593  4.13067  2.7359    8.\n",
       " 3899 │    3899       55133  1.97887  4.46791   7.18675  4.21761  2.7555    8.\n",
       " 3900 │    3900       55133  2.34731  4.48706   7.26051  4.2684   2.78182   8. ⋯\n",
       "\u001b[36m                                               408 columns and 3879 rows omitted\u001b[0m"
      ]
     },
     "execution_count": 86,
     "metadata": {},
     "output_type": "execute_result"
    }
   ],
   "source": [
    "data"
   ]
  },
  {
   "cell_type": "code",
   "execution_count": 87,
   "metadata": {},
   "outputs": [
    {
     "data": {
      "text/html": [
       "<div class=\"data-frame\"><p>415 rows × 7 columns</p><table class=\"data-frame\"><thead><tr><th></th><th>variable</th><th>mean</th><th>min</th><th>median</th><th>max</th><th>nmissing</th><th>eltype</th></tr><tr><th></th><th title=\"Symbol\">Symbol</th><th title=\"Float64\">Float64</th><th title=\"Real\">Real</th><th title=\"Float64\">Float64</th><th title=\"Real\">Real</th><th title=\"Int64\">Int64</th><th title=\"DataType\">DataType</th></tr></thead><tbody><tr><th>1</th><td>Column1</td><td>1950.5</td><td>1</td><td>1950.5</td><td>3900</td><td>0</td><td>Int64</td></tr><tr><th>2</th><td>CountyCode</td><td>27837.3</td><td>1073</td><td>27123.0</td><td>55133</td><td>0</td><td>Int64</td></tr><tr><th>3</th><td>logfssl</td><td>2.9783</td><td>1.24684</td><td>2.63039</td><td>11.677</td><td>0</td><td>Float64</td></tr><tr><th>4</th><td>BPS030D</td><td>6.02131</td><td>2.09628</td><td>5.12222</td><td>27.9254</td><td>0</td><td>Float64</td></tr><tr><th>5</th><td>BPS130D</td><td>9.51085</td><td>4.85407</td><td>8.03839</td><td>42.2708</td><td>0</td><td>Float64</td></tr><tr><th>6</th><td>BPS230D</td><td>5.70655</td><td>0.0</td><td>4.91669</td><td>26.2124</td><td>0</td><td>Float64</td></tr><tr><th>7</th><td>BNK010D</td><td>3.80986</td><td>1.38362</td><td>3.16765</td><td>21.6038</td><td>0</td><td>Float64</td></tr><tr><th>8</th><td>BNK050D</td><td>11.8449</td><td>6.14298</td><td>10.2418</td><td>54.6835</td><td>0</td><td>Float64</td></tr><tr><th>9</th><td>AGE010D</td><td>10.1894</td><td>5.86912</td><td>8.83267</td><td>46.7731</td><td>0</td><td>Float64</td></tr><tr><th>10</th><td>AGE050D</td><td>2.63741</td><td>1.59889</td><td>2.33065</td><td>10.0118</td><td>0</td><td>Float64</td></tr><tr><th>11</th><td>AGE110D</td><td>8.17057</td><td>4.59307</td><td>7.07864</td><td>39.4986</td><td>0</td><td>Float64</td></tr><tr><th>12</th><td>AGE170D</td><td>8.69828</td><td>5.00457</td><td>7.52655</td><td>41.0062</td><td>0</td><td>Float64</td></tr><tr><th>13</th><td>AGE180D</td><td>8.91093</td><td>5.14451</td><td>7.69484</td><td>41.7492</td><td>0</td><td>Float64</td></tr><tr><th>14</th><td>AGE270D</td><td>9.15844</td><td>5.27823</td><td>7.93313</td><td>42.862</td><td>0</td><td>Float64</td></tr><tr><th>15</th><td>AGE310D</td><td>9.95659</td><td>5.70098</td><td>8.60409</td><td>45.8831</td><td>0</td><td>Float64</td></tr><tr><th>16</th><td>AGE320D</td><td>8.30963</td><td>4.68052</td><td>7.11253</td><td>39.7694</td><td>0</td><td>Float64</td></tr><tr><th>17</th><td>AGE350D</td><td>8.34366</td><td>4.70845</td><td>7.16736</td><td>40.0845</td><td>0</td><td>Float64</td></tr><tr><th>18</th><td>AGE380D</td><td>8.85789</td><td>5.06358</td><td>7.64871</td><td>42.0429</td><td>0</td><td>Float64</td></tr><tr><th>19</th><td>AGE410D</td><td>8.31079</td><td>4.72026</td><td>7.1492</td><td>39.9465</td><td>0</td><td>Float64</td></tr><tr><th>20</th><td>AGE470D</td><td>8.64807</td><td>4.87783</td><td>7.45319</td><td>41.2421</td><td>0</td><td>Float64</td></tr><tr><th>21</th><td>AGE570D</td><td>8.43847</td><td>4.73633</td><td>7.25886</td><td>39.9025</td><td>0</td><td>Float64</td></tr><tr><th>22</th><td>AGE640D</td><td>7.83681</td><td>4.30038</td><td>6.71362</td><td>37.5986</td><td>0</td><td>Float64</td></tr><tr><th>23</th><td>AGE670D</td><td>7.76656</td><td>4.12959</td><td>6.66549</td><td>37.0249</td><td>0</td><td>Float64</td></tr><tr><th>24</th><td>AGE760D</td><td>8.5012</td><td>4.42236</td><td>7.38492</td><td>39.9547</td><td>0</td><td>Float64</td></tr><tr><th>25</th><td>HIS010D</td><td>10.1894</td><td>5.86912</td><td>8.83267</td><td>46.7731</td><td>0</td><td>Float64</td></tr><tr><th>26</th><td>HIS020D</td><td>7.75251</td><td>3.34929</td><td>6.47258</td><td>43.8899</td><td>0</td><td>Float64</td></tr><tr><th>27</th><td>HIS030D</td><td>7.2115</td><td>2.97459</td><td>6.03647</td><td>41.7733</td><td>0</td><td>Float64</td></tr><tr><th>28</th><td>HIS040D</td><td>7.23214</td><td>3.05162</td><td>6.05192</td><td>41.9505</td><td>0</td><td>Float64</td></tr><tr><th>29</th><td>HIS110D</td><td>6.48975</td><td>2.55069</td><td>5.43759</td><td>38.9635</td><td>0</td><td>Float64</td></tr><tr><th>30</th><td>HIS120D</td><td>7.40047</td><td>3.14414</td><td>6.16257</td><td>42.6111</td><td>0</td><td>Float64</td></tr><tr><th>&vellip;</th><td>&vellip;</td><td>&vellip;</td><td>&vellip;</td><td>&vellip;</td><td>&vellip;</td><td>&vellip;</td><td>&vellip;</td></tr></tbody></table></div>"
      ],
      "text/latex": [
       "\\begin{tabular}{r|ccccccc}\n",
       "\t& variable & mean & min & median & max & nmissing & eltype\\\\\n",
       "\t\\hline\n",
       "\t& Symbol & Float64 & Real & Float64 & Real & Int64 & DataType\\\\\n",
       "\t\\hline\n",
       "\t1 & Column1 & 1950.5 & 1 & 1950.5 & 3900 & 0 & Int64 \\\\\n",
       "\t2 & CountyCode & 27837.3 & 1073 & 27123.0 & 55133 & 0 & Int64 \\\\\n",
       "\t3 & logfssl & 2.9783 & 1.24684 & 2.63039 & 11.677 & 0 & Float64 \\\\\n",
       "\t4 & BPS030D & 6.02131 & 2.09628 & 5.12222 & 27.9254 & 0 & Float64 \\\\\n",
       "\t5 & BPS130D & 9.51085 & 4.85407 & 8.03839 & 42.2708 & 0 & Float64 \\\\\n",
       "\t6 & BPS230D & 5.70655 & 0.0 & 4.91669 & 26.2124 & 0 & Float64 \\\\\n",
       "\t7 & BNK010D & 3.80986 & 1.38362 & 3.16765 & 21.6038 & 0 & Float64 \\\\\n",
       "\t8 & BNK050D & 11.8449 & 6.14298 & 10.2418 & 54.6835 & 0 & Float64 \\\\\n",
       "\t9 & AGE010D & 10.1894 & 5.86912 & 8.83267 & 46.7731 & 0 & Float64 \\\\\n",
       "\t10 & AGE050D & 2.63741 & 1.59889 & 2.33065 & 10.0118 & 0 & Float64 \\\\\n",
       "\t11 & AGE110D & 8.17057 & 4.59307 & 7.07864 & 39.4986 & 0 & Float64 \\\\\n",
       "\t12 & AGE170D & 8.69828 & 5.00457 & 7.52655 & 41.0062 & 0 & Float64 \\\\\n",
       "\t13 & AGE180D & 8.91093 & 5.14451 & 7.69484 & 41.7492 & 0 & Float64 \\\\\n",
       "\t14 & AGE270D & 9.15844 & 5.27823 & 7.93313 & 42.862 & 0 & Float64 \\\\\n",
       "\t15 & AGE310D & 9.95659 & 5.70098 & 8.60409 & 45.8831 & 0 & Float64 \\\\\n",
       "\t16 & AGE320D & 8.30963 & 4.68052 & 7.11253 & 39.7694 & 0 & Float64 \\\\\n",
       "\t17 & AGE350D & 8.34366 & 4.70845 & 7.16736 & 40.0845 & 0 & Float64 \\\\\n",
       "\t18 & AGE380D & 8.85789 & 5.06358 & 7.64871 & 42.0429 & 0 & Float64 \\\\\n",
       "\t19 & AGE410D & 8.31079 & 4.72026 & 7.1492 & 39.9465 & 0 & Float64 \\\\\n",
       "\t20 & AGE470D & 8.64807 & 4.87783 & 7.45319 & 41.2421 & 0 & Float64 \\\\\n",
       "\t21 & AGE570D & 8.43847 & 4.73633 & 7.25886 & 39.9025 & 0 & Float64 \\\\\n",
       "\t22 & AGE640D & 7.83681 & 4.30038 & 6.71362 & 37.5986 & 0 & Float64 \\\\\n",
       "\t23 & AGE670D & 7.76656 & 4.12959 & 6.66549 & 37.0249 & 0 & Float64 \\\\\n",
       "\t24 & AGE760D & 8.5012 & 4.42236 & 7.38492 & 39.9547 & 0 & Float64 \\\\\n",
       "\t25 & HIS010D & 10.1894 & 5.86912 & 8.83267 & 46.7731 & 0 & Float64 \\\\\n",
       "\t26 & HIS020D & 7.75251 & 3.34929 & 6.47258 & 43.8899 & 0 & Float64 \\\\\n",
       "\t27 & HIS030D & 7.2115 & 2.97459 & 6.03647 & 41.7733 & 0 & Float64 \\\\\n",
       "\t28 & HIS040D & 7.23214 & 3.05162 & 6.05192 & 41.9505 & 0 & Float64 \\\\\n",
       "\t29 & HIS110D & 6.48975 & 2.55069 & 5.43759 & 38.9635 & 0 & Float64 \\\\\n",
       "\t30 & HIS120D & 7.40047 & 3.14414 & 6.16257 & 42.6111 & 0 & Float64 \\\\\n",
       "\t$\\dots$ & $\\dots$ & $\\dots$ & $\\dots$ & $\\dots$ & $\\dots$ & $\\dots$ & $\\dots$ \\\\\n",
       "\\end{tabular}\n"
      ],
      "text/plain": [
       "\u001b[1m415×7 DataFrame\u001b[0m\n",
       "\u001b[1m Row \u001b[0m│\u001b[1m variable   \u001b[0m\u001b[1m mean           \u001b[0m\u001b[1m min          \u001b[0m\u001b[1m median      \u001b[0m\u001b[1m max         \u001b[0m\u001b[1m nmi\u001b[0m ⋯\n",
       "\u001b[1m     \u001b[0m│\u001b[90m Symbol     \u001b[0m\u001b[90m Float64        \u001b[0m\u001b[90m Real         \u001b[0m\u001b[90m Float64     \u001b[0m\u001b[90m Real        \u001b[0m\u001b[90m Int\u001b[0m ⋯\n",
       "─────┼──────────────────────────────────────────────────────────────────────────\n",
       "   1 │ Column1      1950.5            1           1950.5       3900            ⋯\n",
       "   2 │ CountyCode  27837.3         1073          27123.0      55133\n",
       "   3 │ logfssl         2.9783         1.24684        2.63039     11.677\n",
       "   4 │ BPS030D         6.02131        2.09628        5.12222     27.9254\n",
       "   5 │ BPS130D         9.51085        4.85407        8.03839     42.2708       ⋯\n",
       "   6 │ BPS230D         5.70655        0.0            4.91669     26.2124\n",
       "   7 │ BNK010D         3.80986        1.38362        3.16765     21.6038\n",
       "   8 │ BNK050D        11.8449         6.14298       10.2418      54.6835\n",
       "   9 │ AGE010D        10.1894         5.86912        8.83267     46.7731       ⋯\n",
       "  10 │ AGE050D         2.63741        1.59889        2.33065     10.0118\n",
       "  11 │ AGE110D         8.17057        4.59307        7.07864     39.4986\n",
       "  ⋮  │     ⋮             ⋮              ⋮             ⋮            ⋮           ⋱\n",
       " 406 │ X_Jfips191      0.00512821     0              0.0          1\n",
       " 407 │ X_Jfips192      0.00512821     0              0.0          1            ⋯\n",
       " 408 │ X_Jfips193      0.00512821     0              0.0          1\n",
       " 409 │ X_Jfips194      0.00512821     0              0.0          1\n",
       " 410 │ X_Jfips195      0.00512821     0              0.0          1\n",
       " 411 │ newblack        1.03907       -1.76138        0.97675      6.46917      ⋯\n",
       " 412 │ newfhh          1.29517        0.538189       1.14985      5.42967\n",
       " 413 │ newmove         3.30692        2.08508        2.94936     12.5864\n",
       " 414 │ newdens         2.90055        1.48071        2.54623     11.4125\n",
       " 415 │ newmal          0.838444      -0.0343388      0.74312      5.52642      ⋯\n",
       "\u001b[36m                                                  2 columns and 394 rows omitted\u001b[0m"
      ]
     },
     "execution_count": 87,
     "metadata": {},
     "output_type": "execute_result"
    }
   ],
   "source": [
    "describe(data)"
   ]
  },
  {
   "cell_type": "markdown",
   "metadata": {},
   "source": [
    "### Preprocessing"
   ]
  },
  {
   "cell_type": "markdown",
   "metadata": {},
   "source": [
    "To account for heterogeneity across counties and time trends in  all variables, we remove from them county-specific and time-specific effects in the following preprocessing."
   ]
  },
  {
   "cell_type": "code",
   "execution_count": 88,
   "metadata": {},
   "outputs": [
    {
     "data": {
      "text/plain": [
       "varlist (generic function with 5 methods)"
      ]
     },
     "execution_count": 88,
     "metadata": {},
     "output_type": "execute_result"
    }
   ],
   "source": [
    "#################################  Find Variable Names from Dataset ########################\n",
    "\n",
    "function varlist(df = nothing , type_dataframe = [\"numeric\",\"categorical\",\"string\"], pattern=String , exclude =  nothing)\n",
    "\n",
    "    varrs = []\n",
    "    if \"numeric\" in type_dataframe\n",
    "        append!(varrs, [i for i in names(data) if eltype(eachcol(data)[i]) <: Number])    \n",
    "    end\n",
    "    if \"categorical\" in type_dataframe\n",
    "        append!(varrs,[i for i in names(data) if eltype(eachcol(data)[i]) <: CategoricalVector])\n",
    "    end\n",
    "    if \"string\" in type_dataframe\n",
    "        append!(varrs,[i for i in names(data) if eltype(eachcol(data)[i]) <: String])\n",
    "    end\n",
    "    varrs[(!varrs in exclude) & varrs[findall(x->contains(x,pattern),names(data))]]\n",
    "end"
   ]
  },
  {
   "cell_type": "code",
   "execution_count": 89,
   "metadata": {},
   "outputs": [],
   "source": [
    "################################# Create Variables ###############################\n",
    "\n",
    "# Dummy Variables for Year and County Fixed Effects\n",
    "fixed = filter(x->contains(x, \"X_Jfips\"), names(data));\n",
    "year = filter(x->contains(x, \"X_Tyear\"), names(data));"
   ]
  },
  {
   "cell_type": "code",
   "execution_count": 90,
   "metadata": {},
   "outputs": [
    {
     "data": {
      "text/html": [
       "<div class=\"data-frame\"><p>3,900 rows × 195 columns (omitted printing of 187 columns)</p><table class=\"data-frame\"><thead><tr><th></th><th>X_Jfips1</th><th>X_Jfips2</th><th>X_Jfips3</th><th>X_Jfips4</th><th>X_Jfips5</th><th>X_Jfips6</th><th>X_Jfips7</th><th>X_Jfips8</th></tr><tr><th></th><th title=\"Int64\">Int64</th><th title=\"Int64\">Int64</th><th title=\"Int64\">Int64</th><th title=\"Int64\">Int64</th><th title=\"Int64\">Int64</th><th title=\"Int64\">Int64</th><th title=\"Int64\">Int64</th><th title=\"Int64\">Int64</th></tr></thead><tbody><tr><th>1</th><td>1</td><td>0</td><td>0</td><td>0</td><td>0</td><td>0</td><td>0</td><td>0</td></tr><tr><th>2</th><td>1</td><td>0</td><td>0</td><td>0</td><td>0</td><td>0</td><td>0</td><td>0</td></tr><tr><th>3</th><td>1</td><td>0</td><td>0</td><td>0</td><td>0</td><td>0</td><td>0</td><td>0</td></tr><tr><th>4</th><td>1</td><td>0</td><td>0</td><td>0</td><td>0</td><td>0</td><td>0</td><td>0</td></tr><tr><th>5</th><td>1</td><td>0</td><td>0</td><td>0</td><td>0</td><td>0</td><td>0</td><td>0</td></tr><tr><th>6</th><td>1</td><td>0</td><td>0</td><td>0</td><td>0</td><td>0</td><td>0</td><td>0</td></tr><tr><th>7</th><td>1</td><td>0</td><td>0</td><td>0</td><td>0</td><td>0</td><td>0</td><td>0</td></tr><tr><th>8</th><td>1</td><td>0</td><td>0</td><td>0</td><td>0</td><td>0</td><td>0</td><td>0</td></tr><tr><th>9</th><td>1</td><td>0</td><td>0</td><td>0</td><td>0</td><td>0</td><td>0</td><td>0</td></tr><tr><th>10</th><td>1</td><td>0</td><td>0</td><td>0</td><td>0</td><td>0</td><td>0</td><td>0</td></tr><tr><th>11</th><td>1</td><td>0</td><td>0</td><td>0</td><td>0</td><td>0</td><td>0</td><td>0</td></tr><tr><th>12</th><td>1</td><td>0</td><td>0</td><td>0</td><td>0</td><td>0</td><td>0</td><td>0</td></tr><tr><th>13</th><td>1</td><td>0</td><td>0</td><td>0</td><td>0</td><td>0</td><td>0</td><td>0</td></tr><tr><th>14</th><td>1</td><td>0</td><td>0</td><td>0</td><td>0</td><td>0</td><td>0</td><td>0</td></tr><tr><th>15</th><td>1</td><td>0</td><td>0</td><td>0</td><td>0</td><td>0</td><td>0</td><td>0</td></tr><tr><th>16</th><td>1</td><td>0</td><td>0</td><td>0</td><td>0</td><td>0</td><td>0</td><td>0</td></tr><tr><th>17</th><td>1</td><td>0</td><td>0</td><td>0</td><td>0</td><td>0</td><td>0</td><td>0</td></tr><tr><th>18</th><td>1</td><td>0</td><td>0</td><td>0</td><td>0</td><td>0</td><td>0</td><td>0</td></tr><tr><th>19</th><td>1</td><td>0</td><td>0</td><td>0</td><td>0</td><td>0</td><td>0</td><td>0</td></tr><tr><th>20</th><td>1</td><td>0</td><td>0</td><td>0</td><td>0</td><td>0</td><td>0</td><td>0</td></tr><tr><th>21</th><td>0</td><td>1</td><td>0</td><td>0</td><td>0</td><td>0</td><td>0</td><td>0</td></tr><tr><th>22</th><td>0</td><td>1</td><td>0</td><td>0</td><td>0</td><td>0</td><td>0</td><td>0</td></tr><tr><th>23</th><td>0</td><td>1</td><td>0</td><td>0</td><td>0</td><td>0</td><td>0</td><td>0</td></tr><tr><th>24</th><td>0</td><td>1</td><td>0</td><td>0</td><td>0</td><td>0</td><td>0</td><td>0</td></tr><tr><th>25</th><td>0</td><td>1</td><td>0</td><td>0</td><td>0</td><td>0</td><td>0</td><td>0</td></tr><tr><th>26</th><td>0</td><td>1</td><td>0</td><td>0</td><td>0</td><td>0</td><td>0</td><td>0</td></tr><tr><th>27</th><td>0</td><td>1</td><td>0</td><td>0</td><td>0</td><td>0</td><td>0</td><td>0</td></tr><tr><th>28</th><td>0</td><td>1</td><td>0</td><td>0</td><td>0</td><td>0</td><td>0</td><td>0</td></tr><tr><th>29</th><td>0</td><td>1</td><td>0</td><td>0</td><td>0</td><td>0</td><td>0</td><td>0</td></tr><tr><th>30</th><td>0</td><td>1</td><td>0</td><td>0</td><td>0</td><td>0</td><td>0</td><td>0</td></tr><tr><th>&vellip;</th><td>&vellip;</td><td>&vellip;</td><td>&vellip;</td><td>&vellip;</td><td>&vellip;</td><td>&vellip;</td><td>&vellip;</td><td>&vellip;</td></tr></tbody></table></div>"
      ],
      "text/latex": [
       "\\begin{tabular}{r|ccccccccc}\n",
       "\t& X\\_Jfips1 & X\\_Jfips2 & X\\_Jfips3 & X\\_Jfips4 & X\\_Jfips5 & X\\_Jfips6 & X\\_Jfips7 & X\\_Jfips8 & \\\\\n",
       "\t\\hline\n",
       "\t& Int64 & Int64 & Int64 & Int64 & Int64 & Int64 & Int64 & Int64 & \\\\\n",
       "\t\\hline\n",
       "\t1 & 1 & 0 & 0 & 0 & 0 & 0 & 0 & 0 & $\\dots$ \\\\\n",
       "\t2 & 1 & 0 & 0 & 0 & 0 & 0 & 0 & 0 & $\\dots$ \\\\\n",
       "\t3 & 1 & 0 & 0 & 0 & 0 & 0 & 0 & 0 & $\\dots$ \\\\\n",
       "\t4 & 1 & 0 & 0 & 0 & 0 & 0 & 0 & 0 & $\\dots$ \\\\\n",
       "\t5 & 1 & 0 & 0 & 0 & 0 & 0 & 0 & 0 & $\\dots$ \\\\\n",
       "\t6 & 1 & 0 & 0 & 0 & 0 & 0 & 0 & 0 & $\\dots$ \\\\\n",
       "\t7 & 1 & 0 & 0 & 0 & 0 & 0 & 0 & 0 & $\\dots$ \\\\\n",
       "\t8 & 1 & 0 & 0 & 0 & 0 & 0 & 0 & 0 & $\\dots$ \\\\\n",
       "\t9 & 1 & 0 & 0 & 0 & 0 & 0 & 0 & 0 & $\\dots$ \\\\\n",
       "\t10 & 1 & 0 & 0 & 0 & 0 & 0 & 0 & 0 & $\\dots$ \\\\\n",
       "\t11 & 1 & 0 & 0 & 0 & 0 & 0 & 0 & 0 & $\\dots$ \\\\\n",
       "\t12 & 1 & 0 & 0 & 0 & 0 & 0 & 0 & 0 & $\\dots$ \\\\\n",
       "\t13 & 1 & 0 & 0 & 0 & 0 & 0 & 0 & 0 & $\\dots$ \\\\\n",
       "\t14 & 1 & 0 & 0 & 0 & 0 & 0 & 0 & 0 & $\\dots$ \\\\\n",
       "\t15 & 1 & 0 & 0 & 0 & 0 & 0 & 0 & 0 & $\\dots$ \\\\\n",
       "\t16 & 1 & 0 & 0 & 0 & 0 & 0 & 0 & 0 & $\\dots$ \\\\\n",
       "\t17 & 1 & 0 & 0 & 0 & 0 & 0 & 0 & 0 & $\\dots$ \\\\\n",
       "\t18 & 1 & 0 & 0 & 0 & 0 & 0 & 0 & 0 & $\\dots$ \\\\\n",
       "\t19 & 1 & 0 & 0 & 0 & 0 & 0 & 0 & 0 & $\\dots$ \\\\\n",
       "\t20 & 1 & 0 & 0 & 0 & 0 & 0 & 0 & 0 & $\\dots$ \\\\\n",
       "\t21 & 0 & 1 & 0 & 0 & 0 & 0 & 0 & 0 & $\\dots$ \\\\\n",
       "\t22 & 0 & 1 & 0 & 0 & 0 & 0 & 0 & 0 & $\\dots$ \\\\\n",
       "\t23 & 0 & 1 & 0 & 0 & 0 & 0 & 0 & 0 & $\\dots$ \\\\\n",
       "\t24 & 0 & 1 & 0 & 0 & 0 & 0 & 0 & 0 & $\\dots$ \\\\\n",
       "\t25 & 0 & 1 & 0 & 0 & 0 & 0 & 0 & 0 & $\\dots$ \\\\\n",
       "\t26 & 0 & 1 & 0 & 0 & 0 & 0 & 0 & 0 & $\\dots$ \\\\\n",
       "\t27 & 0 & 1 & 0 & 0 & 0 & 0 & 0 & 0 & $\\dots$ \\\\\n",
       "\t28 & 0 & 1 & 0 & 0 & 0 & 0 & 0 & 0 & $\\dots$ \\\\\n",
       "\t29 & 0 & 1 & 0 & 0 & 0 & 0 & 0 & 0 & $\\dots$ \\\\\n",
       "\t30 & 0 & 1 & 0 & 0 & 0 & 0 & 0 & 0 & $\\dots$ \\\\\n",
       "\t$\\dots$ & $\\dots$ & $\\dots$ & $\\dots$ & $\\dots$ & $\\dots$ & $\\dots$ & $\\dots$ & $\\dots$ &  \\\\\n",
       "\\end{tabular}\n"
      ],
      "text/plain": [
       "\u001b[1m3900×195 DataFrame\u001b[0m\n",
       "\u001b[1m  Row \u001b[0m│\u001b[1m X_Jfips1 \u001b[0m\u001b[1m X_Jfips2 \u001b[0m\u001b[1m X_Jfips3 \u001b[0m\u001b[1m X_Jfips4 \u001b[0m\u001b[1m X_Jfips5 \u001b[0m\u001b[1m X_Jfips6 \u001b[0m\u001b[1m X_Jfips7 \u001b[0m\u001b[1m \u001b[0m ⋯\n",
       "\u001b[1m      \u001b[0m│\u001b[90m Int64    \u001b[0m\u001b[90m Int64    \u001b[0m\u001b[90m Int64    \u001b[0m\u001b[90m Int64    \u001b[0m\u001b[90m Int64    \u001b[0m\u001b[90m Int64    \u001b[0m\u001b[90m Int64    \u001b[0m\u001b[90m \u001b[0m ⋯\n",
       "──────┼─────────────────────────────────────────────────────────────────────────\n",
       "    1 │        1         0         0         0         0         0         0   ⋯\n",
       "    2 │        1         0         0         0         0         0         0\n",
       "    3 │        1         0         0         0         0         0         0\n",
       "    4 │        1         0         0         0         0         0         0\n",
       "    5 │        1         0         0         0         0         0         0   ⋯\n",
       "    6 │        1         0         0         0         0         0         0\n",
       "    7 │        1         0         0         0         0         0         0\n",
       "    8 │        1         0         0         0         0         0         0\n",
       "    9 │        1         0         0         0         0         0         0   ⋯\n",
       "   10 │        1         0         0         0         0         0         0\n",
       "   11 │        1         0         0         0         0         0         0\n",
       "  ⋮   │    ⋮         ⋮         ⋮         ⋮         ⋮         ⋮         ⋮       ⋱\n",
       " 3891 │        0         0         0         0         0         0         0\n",
       " 3892 │        0         0         0         0         0         0         0   ⋯\n",
       " 3893 │        0         0         0         0         0         0         0\n",
       " 3894 │        0         0         0         0         0         0         0\n",
       " 3895 │        0         0         0         0         0         0         0\n",
       " 3896 │        0         0         0         0         0         0         0   ⋯\n",
       " 3897 │        0         0         0         0         0         0         0\n",
       " 3898 │        0         0         0         0         0         0         0\n",
       " 3899 │        0         0         0         0         0         0         0\n",
       " 3900 │        0         0         0         0         0         0         0   ⋯\n",
       "\u001b[36m                                               188 columns and 3879 rows omitted\u001b[0m"
      ]
     },
     "execution_count": 90,
     "metadata": {},
     "output_type": "execute_result"
    }
   ],
   "source": [
    "data[!,year]\n",
    "data[!,fixed]"
   ]
  },
  {
   "cell_type": "code",
   "execution_count": 91,
   "metadata": {},
   "outputs": [],
   "source": [
    "census = []\n",
    "census_var = [\"AGE\", \"BN\", \"BP\", \"BZ\", \"ED\", \"EL\", \"HI\", \"HS\", \"INC\", \"LF\", \"LN\", \"PI\", \"PO\", \"PP\", \"PV\", \"SPR\", \"VS\"]\n",
    "\n",
    "for i in 1:size(census_var,1) \n",
    "    append!(census, filter(x->contains(x, census_var[i]), names(data)))\n",
    "end"
   ]
  },
  {
   "cell_type": "code",
   "execution_count": 92,
   "metadata": {},
   "outputs": [],
   "source": [
    "################################ Variables ##################################\n",
    "\n",
    "# Treatment Variable\n",
    "d = [\"logfssl\"];\n",
    "\n",
    "# Outcome Variable\n",
    "y = [\"logghomr\"];\n",
    "\n",
    "# Other Control Variables\n",
    "X1 = [\"logrobr\", \"logburg\", \"burg_missing\", \"robrate_missing\"];\n",
    "X2 = [\"newblack\", \"newfhh\", \"newmove\", \"newdens\", \"newmal\"];"
   ]
  },
  {
   "cell_type": "code",
   "execution_count": 93,
   "metadata": {},
   "outputs": [],
   "source": [
    "#################################  Partial out Fixed Effects ########################\n",
    "\n",
    "# Variables to be Partialled-out\n",
    "variable = [y, d,X1, X2, census]\n",
    "varlis = []\n",
    "\n",
    "# Partial out Variables in varlist from year and county fixed effect\n",
    "for i in variable\n",
    "    append!(varlis,i)\n",
    "end"
   ]
  },
  {
   "cell_type": "code",
   "execution_count": 94,
   "metadata": {},
   "outputs": [],
   "source": [
    "# Running the following lines takes aprox. 10 minutes (depends on your CPU)\n",
    "\n",
    "example = DataFrame(CountyCode = data[:,\"CountyCode\"]);\n",
    "rdata = DataFrame(CountyCode = data[:,\"CountyCode\"]);\n",
    "\n",
    "for i in 1:size(varlis,1)\n",
    "    rdata[!,varlis[i]]= residuals(lm(term(Symbol(varlis[i])) ~ sum(term.(Symbol.(year))) + sum(term.(Symbol.(fixed))), data))\n",
    "end"
   ]
  },
  {
   "cell_type": "code",
   "execution_count": 95,
   "metadata": {},
   "outputs": [
    {
     "data": {
      "text/html": [
       "<div class=\"data-frame\"><p>3,900 rows × 1 columns</p><table class=\"data-frame\"><thead><tr><th></th><th>CountyCode</th></tr><tr><th></th><th title=\"Int64\">Int64</th></tr></thead><tbody><tr><th>1</th><td>1073</td></tr><tr><th>2</th><td>1073</td></tr><tr><th>3</th><td>1073</td></tr><tr><th>4</th><td>1073</td></tr><tr><th>5</th><td>1073</td></tr><tr><th>6</th><td>1073</td></tr><tr><th>7</th><td>1073</td></tr><tr><th>8</th><td>1073</td></tr><tr><th>9</th><td>1073</td></tr><tr><th>10</th><td>1073</td></tr><tr><th>11</th><td>1073</td></tr><tr><th>12</th><td>1073</td></tr><tr><th>13</th><td>1073</td></tr><tr><th>14</th><td>1073</td></tr><tr><th>15</th><td>1073</td></tr><tr><th>16</th><td>1073</td></tr><tr><th>17</th><td>1073</td></tr><tr><th>18</th><td>1073</td></tr><tr><th>19</th><td>1073</td></tr><tr><th>20</th><td>1073</td></tr><tr><th>21</th><td>1097</td></tr><tr><th>22</th><td>1097</td></tr><tr><th>23</th><td>1097</td></tr><tr><th>24</th><td>1097</td></tr><tr><th>25</th><td>1097</td></tr><tr><th>26</th><td>1097</td></tr><tr><th>27</th><td>1097</td></tr><tr><th>28</th><td>1097</td></tr><tr><th>29</th><td>1097</td></tr><tr><th>30</th><td>1097</td></tr><tr><th>&vellip;</th><td>&vellip;</td></tr></tbody></table></div>"
      ],
      "text/latex": [
       "\\begin{tabular}{r|c}\n",
       "\t& CountyCode\\\\\n",
       "\t\\hline\n",
       "\t& Int64\\\\\n",
       "\t\\hline\n",
       "\t1 & 1073 \\\\\n",
       "\t2 & 1073 \\\\\n",
       "\t3 & 1073 \\\\\n",
       "\t4 & 1073 \\\\\n",
       "\t5 & 1073 \\\\\n",
       "\t6 & 1073 \\\\\n",
       "\t7 & 1073 \\\\\n",
       "\t8 & 1073 \\\\\n",
       "\t9 & 1073 \\\\\n",
       "\t10 & 1073 \\\\\n",
       "\t11 & 1073 \\\\\n",
       "\t12 & 1073 \\\\\n",
       "\t13 & 1073 \\\\\n",
       "\t14 & 1073 \\\\\n",
       "\t15 & 1073 \\\\\n",
       "\t16 & 1073 \\\\\n",
       "\t17 & 1073 \\\\\n",
       "\t18 & 1073 \\\\\n",
       "\t19 & 1073 \\\\\n",
       "\t20 & 1073 \\\\\n",
       "\t21 & 1097 \\\\\n",
       "\t22 & 1097 \\\\\n",
       "\t23 & 1097 \\\\\n",
       "\t24 & 1097 \\\\\n",
       "\t25 & 1097 \\\\\n",
       "\t26 & 1097 \\\\\n",
       "\t27 & 1097 \\\\\n",
       "\t28 & 1097 \\\\\n",
       "\t29 & 1097 \\\\\n",
       "\t30 & 1097 \\\\\n",
       "\t$\\dots$ & $\\dots$ \\\\\n",
       "\\end{tabular}\n"
      ],
      "text/plain": [
       "\u001b[1m3900×1 DataFrame\u001b[0m\n",
       "\u001b[1m  Row \u001b[0m│\u001b[1m CountyCode \u001b[0m\n",
       "\u001b[1m      \u001b[0m│\u001b[90m Int64      \u001b[0m\n",
       "──────┼────────────\n",
       "    1 │       1073\n",
       "    2 │       1073\n",
       "    3 │       1073\n",
       "    4 │       1073\n",
       "    5 │       1073\n",
       "    6 │       1073\n",
       "    7 │       1073\n",
       "    8 │       1073\n",
       "    9 │       1073\n",
       "   10 │       1073\n",
       "   11 │       1073\n",
       "  ⋮   │     ⋮\n",
       " 3891 │      55133\n",
       " 3892 │      55133\n",
       " 3893 │      55133\n",
       " 3894 │      55133\n",
       " 3895 │      55133\n",
       " 3896 │      55133\n",
       " 3897 │      55133\n",
       " 3898 │      55133\n",
       " 3899 │      55133\n",
       " 3900 │      55133\n",
       "\u001b[36m  3879 rows omitted\u001b[0m"
      ]
     },
     "execution_count": 95,
     "metadata": {},
     "output_type": "execute_result"
    }
   ],
   "source": [
    "example"
   ]
  },
  {
   "cell_type": "code",
   "execution_count": 96,
   "metadata": {},
   "outputs": [
    {
     "data": {
      "text/html": [
       "<div class=\"data-frame\"><p>6 rows × 198 columns (omitted printing of 191 columns)</p><table class=\"data-frame\"><thead><tr><th></th><th>CountyCode</th><th>logghomr</th><th>logfssl</th><th>logrobr</th><th>logburg</th><th>burg_missing</th><th>robrate_missing</th></tr><tr><th></th><th title=\"Int64\">Int64</th><th title=\"Float64\">Float64</th><th title=\"Float64\">Float64</th><th title=\"Float64\">Float64</th><th title=\"Float64\">Float64</th><th title=\"Float64\">Float64</th><th title=\"Float64\">Float64</th></tr></thead><tbody><tr><th>1</th><td>1073</td><td>-0.134778</td><td>0.0961271</td><td>0.150893</td><td>-0.124395</td><td>0.0104613</td><td>-0.021229</td></tr><tr><th>2</th><td>1073</td><td>-0.239622</td><td>0.0808094</td><td>0.0401683</td><td>-0.134781</td><td>0.0104613</td><td>-0.0194181</td></tr><tr><th>3</th><td>1073</td><td>-0.0786772</td><td>0.0573399</td><td>-0.017679</td><td>-0.167909</td><td>0.0104613</td><td>-0.0220374</td></tr><tr><th>4</th><td>1073</td><td>-0.331465</td><td>0.0816945</td><td>-0.00963344</td><td>-0.22925</td><td>0.0104613</td><td>-0.0194181</td></tr><tr><th>5</th><td>1073</td><td>-0.31664</td><td>0.0253655</td><td>-0.0267151</td><td>-0.176635</td><td>0.00324793</td><td>-0.0208037</td></tr><tr><th>6</th><td>1073</td><td>0.105132</td><td>-0.00677726</td><td>-0.151487</td><td>-0.189069</td><td>0.0104613</td><td>0.016953</td></tr></tbody></table></div>"
      ],
      "text/latex": [
       "\\begin{tabular}{r|cccccccc}\n",
       "\t& CountyCode & logghomr & logfssl & logrobr & logburg & burg\\_missing & robrate\\_missing & \\\\\n",
       "\t\\hline\n",
       "\t& Int64 & Float64 & Float64 & Float64 & Float64 & Float64 & Float64 & \\\\\n",
       "\t\\hline\n",
       "\t1 & 1073 & -0.134778 & 0.0961271 & 0.150893 & -0.124395 & 0.0104613 & -0.021229 & $\\dots$ \\\\\n",
       "\t2 & 1073 & -0.239622 & 0.0808094 & 0.0401683 & -0.134781 & 0.0104613 & -0.0194181 & $\\dots$ \\\\\n",
       "\t3 & 1073 & -0.0786772 & 0.0573399 & -0.017679 & -0.167909 & 0.0104613 & -0.0220374 & $\\dots$ \\\\\n",
       "\t4 & 1073 & -0.331465 & 0.0816945 & -0.00963344 & -0.22925 & 0.0104613 & -0.0194181 & $\\dots$ \\\\\n",
       "\t5 & 1073 & -0.31664 & 0.0253655 & -0.0267151 & -0.176635 & 0.00324793 & -0.0208037 & $\\dots$ \\\\\n",
       "\t6 & 1073 & 0.105132 & -0.00677726 & -0.151487 & -0.189069 & 0.0104613 & 0.016953 & $\\dots$ \\\\\n",
       "\\end{tabular}\n"
      ],
      "text/plain": [
       "\u001b[1m6×198 DataFrame\u001b[0m\n",
       "\u001b[1m Row \u001b[0m│\u001b[1m CountyCode \u001b[0m\u001b[1m logghomr   \u001b[0m\u001b[1m logfssl     \u001b[0m\u001b[1m logrobr     \u001b[0m\u001b[1m logburg   \u001b[0m\u001b[1m burg_missi\u001b[0m ⋯\n",
       "\u001b[1m     \u001b[0m│\u001b[90m Int64      \u001b[0m\u001b[90m Float64    \u001b[0m\u001b[90m Float64     \u001b[0m\u001b[90m Float64     \u001b[0m\u001b[90m Float64   \u001b[0m\u001b[90m Float64   \u001b[0m ⋯\n",
       "─────┼──────────────────────────────────────────────────────────────────────────\n",
       "   1 │       1073  -0.134778    0.0961271    0.150893    -0.124395    0.010461 ⋯\n",
       "   2 │       1073  -0.239622    0.0808094    0.0401683   -0.134781    0.010461\n",
       "   3 │       1073  -0.0786772   0.0573399   -0.017679    -0.167909    0.010461\n",
       "   4 │       1073  -0.331465    0.0816945   -0.00963344  -0.22925     0.010461\n",
       "   5 │       1073  -0.31664     0.0253655   -0.0267151   -0.176635    0.003247 ⋯\n",
       "   6 │       1073   0.105132   -0.00677726  -0.151487    -0.189069    0.010461\n",
       "\u001b[36m                                                             193 columns omitted\u001b[0m"
      ]
     },
     "execution_count": 96,
     "metadata": {},
     "output_type": "execute_result"
    }
   ],
   "source": [
    "first(rdata, 6)"
   ]
  },
  {
   "cell_type": "markdown",
   "metadata": {},
   "source": [
    "## We check that our results are equal to R results at 6 decimals"
   ]
  },
  {
   "cell_type": "code",
   "execution_count": 97,
   "metadata": {},
   "outputs": [
    {
     "data": {
      "text/plain": [
       "3900"
      ]
     },
     "execution_count": 97,
     "metadata": {},
     "output_type": "execute_result"
    }
   ],
   "source": [
    "# load dataset\n",
    "rdata_read = CSV.File(\"../../../data/gun_clean2.csv\") |> DataFrame\n",
    "data_1 = rdata_read[!, names(rdata)]\n",
    "n = size(data_1,1)"
   ]
  },
  {
   "cell_type": "code",
   "execution_count": 98,
   "metadata": {},
   "outputs": [
    {
     "data": {
      "text/html": [
       "<div class=\"data-frame\"><p>3,900 rows × 198 columns (omitted printing of 191 columns)</p><table class=\"data-frame\"><thead><tr><th></th><th>CountyCode</th><th>logghomr</th><th>logfssl</th><th>logrobr</th><th>logburg</th><th>burg_missing</th><th>robrate_missing</th></tr><tr><th></th><th title=\"Int64\">Int64</th><th title=\"Float64\">Float64</th><th title=\"Float64\">Float64</th><th title=\"Float64\">Float64</th><th title=\"Float64\">Float64</th><th title=\"Float64\">Float64</th><th title=\"Float64\">Float64</th></tr></thead><tbody><tr><th>1</th><td>1073</td><td>-0.134778</td><td>0.0961271</td><td>0.150893</td><td>-0.124395</td><td>0.0104613</td><td>-0.021229</td></tr><tr><th>2</th><td>1073</td><td>-0.239622</td><td>0.0808094</td><td>0.0401683</td><td>-0.134781</td><td>0.0104613</td><td>-0.0194181</td></tr><tr><th>3</th><td>1073</td><td>-0.0786772</td><td>0.0573399</td><td>-0.017679</td><td>-0.167909</td><td>0.0104613</td><td>-0.0220374</td></tr><tr><th>4</th><td>1073</td><td>-0.331465</td><td>0.0816945</td><td>-0.00963344</td><td>-0.22925</td><td>0.0104613</td><td>-0.0194181</td></tr><tr><th>5</th><td>1073</td><td>-0.31664</td><td>0.0253655</td><td>-0.0267151</td><td>-0.176635</td><td>0.00324793</td><td>-0.0208037</td></tr><tr><th>6</th><td>1073</td><td>0.105132</td><td>-0.00677726</td><td>-0.151487</td><td>-0.189069</td><td>0.0104613</td><td>0.016953</td></tr><tr><th>7</th><td>1073</td><td>-0.0373401</td><td>0.0773061</td><td>-0.166729</td><td>-0.117739</td><td>0.0104613</td><td>0.0245505</td></tr><tr><th>8</th><td>1073</td><td>-0.0520609</td><td>-0.108433</td><td>-0.0996453</td><td>-0.0833094</td><td>0.00448964</td><td>0.021457</td></tr><tr><th>9</th><td>1073</td><td>0.0547007</td><td>-0.0340988</td><td>0.151557</td><td>0.319282</td><td>-0.0448348</td><td>-0.0366629</td></tr><tr><th>10</th><td>1073</td><td>0.122094</td><td>-0.0824292</td><td>0.0476034</td><td>-0.0144728</td><td>-0.00233214</td><td>0.00765442</td></tr><tr><th>11</th><td>1073</td><td>0.110314</td><td>-0.0243444</td><td>0.00814297</td><td>-0.0349694</td><td>0.0104613</td><td>0.0101673</td></tr><tr><th>12</th><td>1073</td><td>0.256268</td><td>0.0634195</td><td>-0.0811847</td><td>0.0441466</td><td>0.00848568</td><td>0.0169169</td></tr><tr><th>13</th><td>1073</td><td>0.079057</td><td>0.00661864</td><td>-0.153504</td><td>0.393015</td><td>-0.0484441</td><td>0.0230577</td></tr><tr><th>14</th><td>1073</td><td>-0.0133902</td><td>-0.0132008</td><td>-0.148069</td><td>-0.0146316</td><td>0.00886135</td><td>0.0161103</td></tr><tr><th>15</th><td>1073</td><td>0.0277005</td><td>-0.0806736</td><td>0.0247091</td><td>0.0531618</td><td>0.00677168</td><td>0.0155368</td></tr><tr><th>16</th><td>1073</td><td>0.0707179</td><td>-0.104579</td><td>0.235093</td><td>0.178299</td><td>-0.00374318</td><td>0.000594213</td></tr><tr><th>17</th><td>1073</td><td>0.22407</td><td>0.0292543</td><td>0.294984</td><td>0.146047</td><td>-0.00460173</td><td>-0.0205562</td></tr><tr><th>18</th><td>1073</td><td>0.154477</td><td>-0.0506763</td><td>0.0237644</td><td>0.0162414</td><td>0.00588019</td><td>0.00584345</td></tr><tr><th>19</th><td>1073</td><td>0.0420251</td><td>-0.00620195</td><td>-0.116843</td><td>-0.0173146</td><td>0.00543154</td><td>0.0053948</td></tr><tr><th>20</th><td>1073</td><td>-0.0425827</td><td>-0.00652045</td><td>-0.00542654</td><td>0.154285</td><td>-0.0124411</td><td>-0.00411101</td></tr><tr><th>21</th><td>1097</td><td>0.267062</td><td>0.0433706</td><td>0.106903</td><td>-0.117615</td><td>0.00797198</td><td>-0.0161775</td></tr><tr><th>22</th><td>1097</td><td>0.286461</td><td>0.115747</td><td>0.0906478</td><td>-0.0953381</td><td>0.00797198</td><td>-0.0147974</td></tr><tr><th>23</th><td>1097</td><td>0.0824029</td><td>-0.0144649</td><td>0.0844482</td><td>-0.115481</td><td>0.00797198</td><td>-0.0167935</td></tr><tr><th>24</th><td>1097</td><td>-0.248465</td><td>0.0497808</td><td>0.0297359</td><td>-0.187202</td><td>0.00797198</td><td>-0.0147974</td></tr><tr><th>25</th><td>1097</td><td>-0.0636725</td><td>0.0128667</td><td>-0.0270093</td><td>-0.187794</td><td>0.00247507</td><td>-0.0158534</td></tr><tr><th>26</th><td>1097</td><td>-0.284223</td><td>0.0837605</td><td>-0.220044</td><td>-0.148477</td><td>0.00797198</td><td>0.0129189</td></tr><tr><th>27</th><td>1097</td><td>-0.143405</td><td>-0.0139795</td><td>-0.2442</td><td>-0.0289042</td><td>0.00797198</td><td>0.0187086</td></tr><tr><th>28</th><td>1097</td><td>-0.217032</td><td>0.02018</td><td>-0.217045</td><td>0.127496</td><td>0.00342131</td><td>0.0163512</td></tr><tr><th>29</th><td>1097</td><td>0.139978</td><td>0.0450422</td><td>0.10424</td><td>0.393619</td><td>-0.0341662</td><td>-0.0279388</td></tr><tr><th>30</th><td>1097</td><td>-0.0775231</td><td>-0.077206</td><td>-0.172381</td><td>-0.00919521</td><td>-0.0017772</td><td>0.00583301</td></tr><tr><th>&vellip;</th><td>&vellip;</td><td>&vellip;</td><td>&vellip;</td><td>&vellip;</td><td>&vellip;</td><td>&vellip;</td><td>&vellip;</td></tr></tbody></table></div>"
      ],
      "text/latex": [
       "\\begin{tabular}{r|cccccccc}\n",
       "\t& CountyCode & logghomr & logfssl & logrobr & logburg & burg\\_missing & robrate\\_missing & \\\\\n",
       "\t\\hline\n",
       "\t& Int64 & Float64 & Float64 & Float64 & Float64 & Float64 & Float64 & \\\\\n",
       "\t\\hline\n",
       "\t1 & 1073 & -0.134778 & 0.0961271 & 0.150893 & -0.124395 & 0.0104613 & -0.021229 & $\\dots$ \\\\\n",
       "\t2 & 1073 & -0.239622 & 0.0808094 & 0.0401683 & -0.134781 & 0.0104613 & -0.0194181 & $\\dots$ \\\\\n",
       "\t3 & 1073 & -0.0786772 & 0.0573399 & -0.017679 & -0.167909 & 0.0104613 & -0.0220374 & $\\dots$ \\\\\n",
       "\t4 & 1073 & -0.331465 & 0.0816945 & -0.00963344 & -0.22925 & 0.0104613 & -0.0194181 & $\\dots$ \\\\\n",
       "\t5 & 1073 & -0.31664 & 0.0253655 & -0.0267151 & -0.176635 & 0.00324793 & -0.0208037 & $\\dots$ \\\\\n",
       "\t6 & 1073 & 0.105132 & -0.00677726 & -0.151487 & -0.189069 & 0.0104613 & 0.016953 & $\\dots$ \\\\\n",
       "\t7 & 1073 & -0.0373401 & 0.0773061 & -0.166729 & -0.117739 & 0.0104613 & 0.0245505 & $\\dots$ \\\\\n",
       "\t8 & 1073 & -0.0520609 & -0.108433 & -0.0996453 & -0.0833094 & 0.00448964 & 0.021457 & $\\dots$ \\\\\n",
       "\t9 & 1073 & 0.0547007 & -0.0340988 & 0.151557 & 0.319282 & -0.0448348 & -0.0366629 & $\\dots$ \\\\\n",
       "\t10 & 1073 & 0.122094 & -0.0824292 & 0.0476034 & -0.0144728 & -0.00233214 & 0.00765442 & $\\dots$ \\\\\n",
       "\t11 & 1073 & 0.110314 & -0.0243444 & 0.00814297 & -0.0349694 & 0.0104613 & 0.0101673 & $\\dots$ \\\\\n",
       "\t12 & 1073 & 0.256268 & 0.0634195 & -0.0811847 & 0.0441466 & 0.00848568 & 0.0169169 & $\\dots$ \\\\\n",
       "\t13 & 1073 & 0.079057 & 0.00661864 & -0.153504 & 0.393015 & -0.0484441 & 0.0230577 & $\\dots$ \\\\\n",
       "\t14 & 1073 & -0.0133902 & -0.0132008 & -0.148069 & -0.0146316 & 0.00886135 & 0.0161103 & $\\dots$ \\\\\n",
       "\t15 & 1073 & 0.0277005 & -0.0806736 & 0.0247091 & 0.0531618 & 0.00677168 & 0.0155368 & $\\dots$ \\\\\n",
       "\t16 & 1073 & 0.0707179 & -0.104579 & 0.235093 & 0.178299 & -0.00374318 & 0.000594213 & $\\dots$ \\\\\n",
       "\t17 & 1073 & 0.22407 & 0.0292543 & 0.294984 & 0.146047 & -0.00460173 & -0.0205562 & $\\dots$ \\\\\n",
       "\t18 & 1073 & 0.154477 & -0.0506763 & 0.0237644 & 0.0162414 & 0.00588019 & 0.00584345 & $\\dots$ \\\\\n",
       "\t19 & 1073 & 0.0420251 & -0.00620195 & -0.116843 & -0.0173146 & 0.00543154 & 0.0053948 & $\\dots$ \\\\\n",
       "\t20 & 1073 & -0.0425827 & -0.00652045 & -0.00542654 & 0.154285 & -0.0124411 & -0.00411101 & $\\dots$ \\\\\n",
       "\t21 & 1097 & 0.267062 & 0.0433706 & 0.106903 & -0.117615 & 0.00797198 & -0.0161775 & $\\dots$ \\\\\n",
       "\t22 & 1097 & 0.286461 & 0.115747 & 0.0906478 & -0.0953381 & 0.00797198 & -0.0147974 & $\\dots$ \\\\\n",
       "\t23 & 1097 & 0.0824029 & -0.0144649 & 0.0844482 & -0.115481 & 0.00797198 & -0.0167935 & $\\dots$ \\\\\n",
       "\t24 & 1097 & -0.248465 & 0.0497808 & 0.0297359 & -0.187202 & 0.00797198 & -0.0147974 & $\\dots$ \\\\\n",
       "\t25 & 1097 & -0.0636725 & 0.0128667 & -0.0270093 & -0.187794 & 0.00247507 & -0.0158534 & $\\dots$ \\\\\n",
       "\t26 & 1097 & -0.284223 & 0.0837605 & -0.220044 & -0.148477 & 0.00797198 & 0.0129189 & $\\dots$ \\\\\n",
       "\t27 & 1097 & -0.143405 & -0.0139795 & -0.2442 & -0.0289042 & 0.00797198 & 0.0187086 & $\\dots$ \\\\\n",
       "\t28 & 1097 & -0.217032 & 0.02018 & -0.217045 & 0.127496 & 0.00342131 & 0.0163512 & $\\dots$ \\\\\n",
       "\t29 & 1097 & 0.139978 & 0.0450422 & 0.10424 & 0.393619 & -0.0341662 & -0.0279388 & $\\dots$ \\\\\n",
       "\t30 & 1097 & -0.0775231 & -0.077206 & -0.172381 & -0.00919521 & -0.0017772 & 0.00583301 & $\\dots$ \\\\\n",
       "\t$\\dots$ & $\\dots$ & $\\dots$ & $\\dots$ & $\\dots$ & $\\dots$ & $\\dots$ & $\\dots$ &  \\\\\n",
       "\\end{tabular}\n"
      ],
      "text/plain": [
       "\u001b[1m3900×198 DataFrame\u001b[0m\n",
       "\u001b[1m  Row \u001b[0m│\u001b[1m CountyCode \u001b[0m\u001b[1m logghomr   \u001b[0m\u001b[1m logfssl     \u001b[0m\u001b[1m logrobr     \u001b[0m\u001b[1m logburg     \u001b[0m\u001b[1m burg_mi\u001b[0m ⋯\n",
       "\u001b[1m      \u001b[0m│\u001b[90m Int64      \u001b[0m\u001b[90m Float64    \u001b[0m\u001b[90m Float64     \u001b[0m\u001b[90m Float64     \u001b[0m\u001b[90m Float64     \u001b[0m\u001b[90m Float64\u001b[0m ⋯\n",
       "──────┼─────────────────────────────────────────────────────────────────────────\n",
       "    1 │       1073  -0.134778    0.0961271    0.150893    -0.124395      0.010 ⋯\n",
       "    2 │       1073  -0.239622    0.0808094    0.0401683   -0.134781      0.010\n",
       "    3 │       1073  -0.0786772   0.0573399   -0.017679    -0.167909      0.010\n",
       "    4 │       1073  -0.331465    0.0816945   -0.00963344  -0.22925       0.010\n",
       "    5 │       1073  -0.31664     0.0253655   -0.0267151   -0.176635      0.003 ⋯\n",
       "    6 │       1073   0.105132   -0.00677726  -0.151487    -0.189069      0.010\n",
       "    7 │       1073  -0.0373401   0.0773061   -0.166729    -0.117739      0.010\n",
       "    8 │       1073  -0.0520609  -0.108433    -0.0996453   -0.0833094     0.004\n",
       "    9 │       1073   0.0547007  -0.0340988    0.151557     0.319282     -0.044 ⋯\n",
       "   10 │       1073   0.122094   -0.0824292    0.0476034   -0.0144728    -0.002\n",
       "   11 │       1073   0.110314   -0.0243444    0.00814297  -0.0349694     0.010\n",
       "  ⋮   │     ⋮           ⋮            ⋮            ⋮            ⋮            ⋮  ⋱\n",
       " 3891 │      55133  -0.54942    -0.00681523   0.0786474    0.13458      -0.020\n",
       " 3892 │      55133  -0.660408    0.135748     0.0561803    0.134567     -0.021 ⋯\n",
       " 3893 │      55133  -0.676525   -0.0223923    0.209323     0.390146     -0.060\n",
       " 3894 │      55133  -0.697525    0.0405164   -0.0858534    0.15756      -0.021\n",
       " 3895 │      55133  -0.0384095  -0.058838    -0.0983204    0.126737     -0.023\n",
       " 3896 │      55133   0.0280962   0.0407888    0.0182247    0.107714     -0.030 ⋯\n",
       " 3897 │      55133   0.0801447   0.208251     0.251402     0.151313     -0.030\n",
       " 3898 │      55133   0.497987    0.177444     0.179985     0.116497     -0.023\n",
       " 3899 │      55133   0.568542   -0.0971269   -1.3754      -3.02227       0.530\n",
       " 3900 │      55133   0.609022    0.274062     0.336788     0.171876     -0.036 ⋯\n",
       "\u001b[36m                                               193 columns and 3879 rows omitted\u001b[0m"
      ]
     },
     "execution_count": 98,
     "metadata": {},
     "output_type": "execute_result"
    }
   ],
   "source": [
    "data_1"
   ]
  },
  {
   "cell_type": "code",
   "execution_count": 99,
   "metadata": {},
   "outputs": [
    {
     "name": "stdout",
     "output_type": "stream",
     "text": [
      "Column CountyCode are equal at 6 decimals\n",
      "Column logghomr are equal at 6 decimals\n",
      "Column logfssl are equal at 6 decimals\n",
      "Column logrobr are equal at 6 decimals\n",
      "Column logburg are equal at 6 decimals\n",
      "Column burg_missing are equal at 6 decimals\n",
      "Column robrate_missing are equal at 6 decimals\n",
      "Column newblack are equal at 6 decimals\n",
      "Column newfhh are equal at 6 decimals\n",
      "Column newmove are equal at 6 decimals\n",
      "Column newdens are equal at 6 decimals\n",
      "Column newmal are equal at 6 decimals\n",
      "Column AGE010D are equal at 6 decimals\n",
      "Column AGE050D are equal at 6 decimals\n",
      "Column AGE110D are equal at 6 decimals\n",
      "Column AGE170D are equal at 6 decimals\n",
      "Column AGE180D are equal at 6 decimals\n",
      "Column AGE270D are equal at 6 decimals\n",
      "Column AGE310D are equal at 6 decimals\n",
      "Column AGE320D are equal at 6 decimals\n",
      "Column AGE350D are equal at 6 decimals\n",
      "Column AGE380D are equal at 6 decimals\n",
      "Column AGE410D are equal at 6 decimals\n",
      "Column AGE470D are equal at 6 decimals\n",
      "Column AGE570D are equal at 6 decimals\n",
      "Column AGE640D are equal at 6 decimals\n",
      "Column AGE670D are equal at 6 decimals\n",
      "Column AGE760D are equal at 6 decimals\n",
      "Column BNK010D are equal at 6 decimals\n",
      "Column BNK050D are equal at 6 decimals\n",
      "Column BPS030D are equal at 6 decimals\n",
      "Column BPS130D are equal at 6 decimals\n",
      "Column BPS230D are equal at 6 decimals\n",
      "Column BPS020D are equal at 6 decimals\n",
      "Column BPS120D are equal at 6 decimals\n",
      "Column BPS220D are equal at 6 decimals\n",
      "Column BPS820D are equal at 6 decimals\n",
      "Column BZA010D are equal at 6 decimals\n",
      "Column BZA110D are equal at 6 decimals\n",
      "Column BZA210D are equal at 6 decimals\n",
      "Column EDU100D are equal at 6 decimals\n",
      "Column EDU200D are equal at 6 decimals\n",
      "Column EDU600D are equal at 6 decimals\n",
      "Column EDU610D are equal at 6 decimals\n",
      "Column EDU620D are equal at 6 decimals\n",
      "Column EDU630D are equal at 6 decimals\n",
      "Column EDU635D are equal at 6 decimals\n",
      "Column EDU640D are equal at 6 decimals\n",
      "Column EDU650D are equal at 6 decimals\n",
      "Column EDU680D are equal at 6 decimals\n",
      "Column EDU685D are equal at 6 decimals\n",
      "Column ELE010D are equal at 6 decimals\n",
      "Column ELE020D are equal at 6 decimals\n",
      "Column ELE025D are equal at 6 decimals\n",
      "Column ELE030D are equal at 6 decimals\n",
      "Column ELE035D are equal at 6 decimals\n",
      "Column ELE060D are equal at 6 decimals\n",
      "Column ELE065D are equal at 6 decimals\n",
      "Column ELE210D are equal at 6 decimals\n",
      "Column ELE220D are equal at 6 decimals\n",
      "Column HIS010D are equal at 6 decimals\n",
      "Column HIS020D are equal at 6 decimals\n",
      "Column HIS030D are equal at 6 decimals\n",
      "Column HIS040D are equal at 6 decimals\n",
      "Column HIS110D are equal at 6 decimals\n",
      "Column HIS120D are equal at 6 decimals\n",
      "Column HIS130D are equal at 6 decimals\n",
      "Column HIS140D are equal at 6 decimals\n",
      "Column HIS200D are equal at 6 decimals\n",
      "Column HIS300D are equal at 6 decimals\n",
      "Column HIS500D are equal at 6 decimals\n",
      "Column HIS700D are equal at 6 decimals\n",
      "Column HSD010D are equal at 6 decimals\n",
      "Column HSD020D are equal at 6 decimals\n",
      "Column HSD030D are equal at 6 decimals\n",
      "Column HSD110D are equal at 6 decimals\n",
      "Column HSD120D are equal at 6 decimals\n",
      "Column HSD130D are equal at 6 decimals\n",
      "Column HSD140D are equal at 6 decimals\n",
      "Column HSD150D are equal at 6 decimals\n",
      "Column HSD170D are equal at 6 decimals\n",
      "Column HSD200D are equal at 6 decimals\n",
      "Column HSD210D are equal at 6 decimals\n",
      "Column HSD230D are equal at 6 decimals\n",
      "Column HSD300D are equal at 6 decimals\n",
      "Column HSD310D are equal at 6 decimals\n",
      "Column HSG030D are equal at 6 decimals\n",
      "Column HSG195D are equal at 6 decimals\n",
      "Column HSG200D are equal at 6 decimals\n",
      "Column HSG220D are equal at 6 decimals\n",
      "Column HSG440D are equal at 6 decimals\n",
      "Column HSG445D are equal at 6 decimals\n",
      "Column HSG460D are equal at 6 decimals\n",
      "Column HSG680D are equal at 6 decimals\n",
      "Column HSG700D are equal at 6 decimals\n",
      "Column HSD410D are equal at 6 decimals\n",
      "Column HSD500D are equal at 6 decimals\n",
      "Column HSD510D are equal at 6 decimals\n",
      "Column HSD520D are equal at 6 decimals\n",
      "Column HSD530D are equal at 6 decimals\n",
      "Column HSD540D are equal at 6 decimals\n",
      "Column HSD550D are equal at 6 decimals\n",
      "Column HSD560D are equal at 6 decimals\n",
      "Column HSD570D are equal at 6 decimals\n",
      "Column HSD580D are equal at 6 decimals\n",
      "Column HSD590D are equal at 6 decimals\n",
      "Column HSD610D are equal at 6 decimals\n",
      "Column HSD620D are equal at 6 decimals\n",
      "Column HSD710D are equal at 6 decimals\n",
      "Column HSD720D are equal at 6 decimals\n",
      "Column HSD730D are equal at 6 decimals\n",
      "Column HSD740D are equal at 6 decimals\n",
      "Column HSD750D are equal at 6 decimals\n",
      "Column HSD760D are equal at 6 decimals\n",
      "Column HSD770D are equal at 6 decimals\n",
      "Column HSD780D are equal at 6 decimals\n",
      "Column HSG040D are equal at 6 decimals\n",
      "Column HSG045D are equal at 6 decimals\n",
      "Column HSG050D are equal at 6 decimals\n",
      "Column HSG182D are equal at 6 decimals\n",
      "Column HSG210D are equal at 6 decimals\n",
      "Column HSG230D are equal at 6 decimals\n",
      "Column HSG240D are equal at 6 decimals\n",
      "Column HSG250D are equal at 6 decimals\n",
      "Column HSG310D are equal at 6 decimals\n",
      "Column HSG315D are equal at 6 decimals\n",
      "Column HSG320D are equal at 6 decimals\n",
      "Column HSG325D are equal at 6 decimals\n",
      "Column HSG335D are equal at 6 decimals\n",
      "Column HSG350D are equal at 6 decimals\n",
      "Column HSG370D are equal at 6 decimals\n",
      "Column HSG375D are equal at 6 decimals\n",
      "Column HSG380D are equal at 6 decimals\n",
      "Column HSG450D are equal at 6 decimals\n",
      "Column HSG490D are equal at 6 decimals\n",
      "Column HSG500D are equal at 6 decimals\n",
      "Column HSG510D are equal at 6 decimals\n",
      "Column HSG520D are equal at 6 decimals\n",
      "Column HSG530D are equal at 6 decimals\n",
      "Column HSG540D are equal at 6 decimals\n",
      "Column HSG550D are equal at 6 decimals\n",
      "Column HSG560D are equal at 6 decimals\n",
      "Column HSG570D are equal at 6 decimals\n",
      "Column HSG650D are equal at 6 decimals\n",
      "Column HSG690D are equal at 6 decimals\n",
      "Column HSG710D are equal at 6 decimals\n",
      "Column HSG730D are equal at 6 decimals\n",
      "Column INC110D are equal at 6 decimals\n",
      "Column INC650D are equal at 6 decimals\n",
      "Column INC670D are equal at 6 decimals\n",
      "Column INC680D are equal at 6 decimals\n",
      "Column INC690D are equal at 6 decimals\n",
      "Column INC700D are equal at 6 decimals\n",
      "Column INC710D are equal at 6 decimals\n",
      "Column INC720D are equal at 6 decimals\n",
      "Column INC730D are equal at 6 decimals\n",
      "Column INC760D are equal at 6 decimals\n",
      "Column INC790D are equal at 6 decimals\n",
      "Column LFE020D are equal at 6 decimals\n",
      "Column LFE023D are equal at 6 decimals\n",
      "Column LFE030D are equal at 6 decimals\n",
      "Column LFE080D are equal at 6 decimals\n",
      "Column LFE090D are equal at 6 decimals\n",
      "Column LFE210D are equal at 6 decimals\n",
      "Column LFE220D are equal at 6 decimals\n",
      "Column LND110D are equal at 6 decimals\n",
      "Column PIN020D are equal at 6 decimals\n",
      "Column POP110D are equal at 6 decimals\n",
      "Column POP210D are equal at 6 decimals\n",
      "Column POP240D are equal at 6 decimals\n",
      "Column POP440D are equal at 6 decimals\n",
      "Column POP450D are equal at 6 decimals\n",
      "Column POP470D are equal at 6 decimals\n",
      "Column POP480D are equal at 6 decimals\n",
      "Column POP540D are equal at 6 decimals\n",
      "Column POP550D are equal at 6 decimals\n",
      "Column POP570D are equal at 6 decimals\n",
      "Column POP580D are equal at 6 decimals\n",
      "Column POP700D are equal at 6 decimals\n",
      "Column POP710D are equal at 6 decimals\n",
      "Column POP720D are equal at 6 decimals\n",
      "Column POP740D are equal at 6 decimals\n",
      "Column PPQ010D are equal at 6 decimals\n",
      "Column PPQ100D are equal at 6 decimals\n",
      "Column PPQ110D are equal at 6 decimals\n",
      "Column PPQ120D are equal at 6 decimals\n",
      "Column PVY020D are equal at 6 decimals\n",
      "Column PVY120D are equal at 6 decimals\n",
      "Column PVY210D are equal at 6 decimals\n",
      "Column PVY310D are equal at 6 decimals\n",
      "Column PVY420D are equal at 6 decimals\n",
      "Column PVY520D are equal at 6 decimals\n",
      "Column SPR030D are equal at 6 decimals\n",
      "Column SPR130D are equal at 6 decimals\n",
      "Column SPR230D are equal at 6 decimals\n",
      "Column SPR330D are equal at 6 decimals\n",
      "Column SPR440D are equal at 6 decimals\n",
      "Column VST020D are equal at 6 decimals\n"
     ]
    }
   ],
   "source": [
    "column_names = names(data_1)\n",
    "result = []\n",
    "\n",
    "for i in 1:size(data_1,1)\n",
    "    for j in 1:size(data_1,2)\n",
    "        data_1[i,j] = round(data_1[i,j], digits=6)\n",
    "        rdata[i,j] = round(rdata[i,j], digits=6)\n",
    "    end\n",
    "end\n",
    "\n",
    "for col in column_names\n",
    "    result = sum(data_1[!,col] .== rdata[!,col])\n",
    "\n",
    "    if result .== 3900\n",
    "        println(\"Column \", col,  \" are equal at 6 decimals\")\n",
    "    else\n",
    "        println(\"Column \", col,  \" are not equal at 6 decimals\")\n",
    "    end\n",
    "\n",
    "end"
   ]
  },
  {
   "cell_type": "markdown",
   "metadata": {},
   "source": [
    "Now, we can construct the treatment variable, the outcome variable and the matrix $Z$ that includes the control variables."
   ]
  },
  {
   "cell_type": "code",
   "execution_count": 100,
   "metadata": {},
   "outputs": [],
   "source": [
    "# Treatment variable\n",
    "D = rdata[!,d]\n",
    "\n",
    "# Outcome variable\n",
    "Y = rdata[!,y];\n",
    "\n",
    "# Construct matrix Z\n",
    "Z = rdata[!, varlis[3:end]];\n"
   ]
  },
  {
   "cell_type": "markdown",
   "metadata": {},
   "source": [
    "We have in total 195 control variables. The control variables $Z_{j,t}$ are from the U.S. Census Bureau and  contain demographic and economic characteristics of the counties such as  the age distribution, the income distribution, crime rates, federal spending, home ownership rates, house prices, educational attainment, voting paterns, employment statistics, and migration rates. "
   ]
  },
  {
   "cell_type": "code",
   "execution_count": 101,
   "metadata": {},
   "outputs": [
    {
     "data": {
      "text/html": [
       "<div class=\"data-frame\"><p>6 rows × 198 columns (omitted printing of 191 columns)</p><table class=\"data-frame\"><thead><tr><th></th><th>logghomr</th><th>logfssl</th><th>logrobr</th><th>logburg</th><th>burg_missing</th><th>robrate_missing</th><th>newblack</th></tr><tr><th></th><th title=\"Float64\">Float64</th><th title=\"Float64\">Float64</th><th title=\"Float64\">Float64</th><th title=\"Float64\">Float64</th><th title=\"Float64\">Float64</th><th title=\"Float64\">Float64</th><th title=\"Float64\">Float64</th></tr></thead><tbody><tr><th>1</th><td>-0.134778</td><td>0.096127</td><td>0.150893</td><td>-0.124395</td><td>0.010461</td><td>-0.021229</td><td>0.030947</td></tr><tr><th>2</th><td>-0.239622</td><td>0.080809</td><td>0.040168</td><td>-0.134781</td><td>0.010461</td><td>-0.019418</td><td>0.030947</td></tr><tr><th>3</th><td>-0.078677</td><td>0.05734</td><td>-0.017679</td><td>-0.167909</td><td>0.010461</td><td>-0.022037</td><td>0.030947</td></tr><tr><th>4</th><td>-0.331465</td><td>0.081694</td><td>-0.009633</td><td>-0.22925</td><td>0.010461</td><td>-0.019418</td><td>0.030947</td></tr><tr><th>5</th><td>-0.31664</td><td>0.025366</td><td>-0.026715</td><td>-0.176635</td><td>0.003248</td><td>-0.020804</td><td>0.030947</td></tr><tr><th>6</th><td>0.105132</td><td>-0.006777</td><td>-0.151487</td><td>-0.189069</td><td>0.010461</td><td>0.016953</td><td>0.030947</td></tr></tbody></table></div>"
      ],
      "text/latex": [
       "\\begin{tabular}{r|cccccccc}\n",
       "\t& logghomr & logfssl & logrobr & logburg & burg\\_missing & robrate\\_missing & newblack & \\\\\n",
       "\t\\hline\n",
       "\t& Float64 & Float64 & Float64 & Float64 & Float64 & Float64 & Float64 & \\\\\n",
       "\t\\hline\n",
       "\t1 & -0.134778 & 0.096127 & 0.150893 & -0.124395 & 0.010461 & -0.021229 & 0.030947 & $\\dots$ \\\\\n",
       "\t2 & -0.239622 & 0.080809 & 0.040168 & -0.134781 & 0.010461 & -0.019418 & 0.030947 & $\\dots$ \\\\\n",
       "\t3 & -0.078677 & 0.05734 & -0.017679 & -0.167909 & 0.010461 & -0.022037 & 0.030947 & $\\dots$ \\\\\n",
       "\t4 & -0.331465 & 0.081694 & -0.009633 & -0.22925 & 0.010461 & -0.019418 & 0.030947 & $\\dots$ \\\\\n",
       "\t5 & -0.31664 & 0.025366 & -0.026715 & -0.176635 & 0.003248 & -0.020804 & 0.030947 & $\\dots$ \\\\\n",
       "\t6 & 0.105132 & -0.006777 & -0.151487 & -0.189069 & 0.010461 & 0.016953 & 0.030947 & $\\dots$ \\\\\n",
       "\\end{tabular}\n"
      ],
      "text/plain": [
       "\u001b[1m6×198 DataFrame\u001b[0m\n",
       "\u001b[1m Row \u001b[0m│\u001b[1m logghomr  \u001b[0m\u001b[1m logfssl   \u001b[0m\u001b[1m logrobr   \u001b[0m\u001b[1m logburg   \u001b[0m\u001b[1m burg_missing \u001b[0m\u001b[1m robrate_missi\u001b[0m ⋯\n",
       "\u001b[1m     \u001b[0m│\u001b[90m Float64   \u001b[0m\u001b[90m Float64   \u001b[0m\u001b[90m Float64   \u001b[0m\u001b[90m Float64   \u001b[0m\u001b[90m Float64      \u001b[0m\u001b[90m Float64      \u001b[0m ⋯\n",
       "─────┼──────────────────────────────────────────────────────────────────────────\n",
       "   1 │ -0.134778   0.096127   0.150893  -0.124395      0.010461        -0.0212 ⋯\n",
       "   2 │ -0.239622   0.080809   0.040168  -0.134781      0.010461        -0.0194\n",
       "   3 │ -0.078677   0.05734   -0.017679  -0.167909      0.010461        -0.0220\n",
       "   4 │ -0.331465   0.081694  -0.009633  -0.22925       0.010461        -0.0194\n",
       "   5 │ -0.31664    0.025366  -0.026715  -0.176635      0.003248        -0.0208 ⋯\n",
       "   6 │  0.105132  -0.006777  -0.151487  -0.189069      0.010461         0.0169\n",
       "\u001b[36m                                                             193 columns omitted\u001b[0m"
      ]
     },
     "execution_count": 101,
     "metadata": {},
     "output_type": "execute_result"
    }
   ],
   "source": [
    "clu = select(rdata,:CountyCode)\n",
    "data = hcat(Y,D,Z,clu);\n",
    "first(data, 6)"
   ]
  },
  {
   "cell_type": "code",
   "execution_count": 102,
   "metadata": {},
   "outputs": [
    {
     "data": {
      "text/plain": [
       "((3900, 198), (3900, 198))"
      ]
     },
     "execution_count": 102,
     "metadata": {},
     "output_type": "execute_result"
    }
   ],
   "source": [
    "size(data), size(rdata)"
   ]
  },
  {
   "cell_type": "markdown",
   "metadata": {},
   "source": [
    "## The effect of gun ownership\n"
   ]
  },
  {
   "cell_type": "markdown",
   "metadata": {},
   "source": [
    "### OLS"
   ]
  },
  {
   "cell_type": "markdown",
   "metadata": {},
   "source": [
    "After preprocessing the data, we first look at simple regression of $Y_{j,t}$ on $D_{j,t-1}$ without controls as a baseline model."
   ]
  },
  {
   "cell_type": "code",
   "execution_count": 103,
   "metadata": {},
   "outputs": [],
   "source": [
    "#Pkg.add(\"FixedEffectModels\")"
   ]
  },
  {
   "cell_type": "code",
   "execution_count": 104,
   "metadata": {},
   "outputs": [],
   "source": [
    "using FixedEffectModels"
   ]
  },
  {
   "cell_type": "code",
   "execution_count": 105,
   "metadata": {},
   "outputs": [
    {
     "data": {
      "text/plain": [
       "                        Fixed Effect Model                        \n",
       "==================================================================\n",
       "Number of obs:              3900  Degrees of freedom:            2\n",
       "R2:                        0.006  R2 Adjusted:               0.006\n",
       "F-Stat:                  18.9732  p-value:                   0.000\n",
       "R2 within:                 0.006  Iterations:                    1\n",
       "==================================================================\n",
       "logghomr | Estimate Std.Error t value Pr(>|t|) Lower 95% Upper 95%\n",
       "------------------------------------------------------------------\n",
       "logfssl  | 0.282304 0.0648108 4.35582    0.000  0.155238   0.40937\n",
       "==================================================================\n"
      ]
     },
     "execution_count": 105,
     "metadata": {},
     "output_type": "execute_result"
    }
   ],
   "source": [
    "# OLS clustering at the County level\n",
    "\n",
    "fm_1 = @formula(logghomr ~ 0 + logfssl + fe(CountyCode))\n",
    "baseline_ols = reg(data, fm_1, Vcov.cluster(:CountyCode))"
   ]
  },
  {
   "cell_type": "code",
   "execution_count": 106,
   "metadata": {},
   "outputs": [
    {
     "name": "stdout",
     "output_type": "stream",
     "text": [
      "2.5% : [0.15523789539597124]\n",
      "97.5% : [0.409370438768637]\n",
      "Estimate: [0.2823041670823041]\n",
      "Cluster s.e. : 0.006193251272214595\n",
      "T-value : [4.355820406592105]\n",
      "Pr(>|t|) : [1.3597928318408112e-5]\n"
     ]
    }
   ],
   "source": [
    "println(\"2.5% : \", GLM.coeftable(baseline_ols).cols[5])\n",
    "println(\"97.5% : \" , GLM.coeftable(baseline_ols).cols[6])\n",
    "println(\"Estimate: \", GLM.coeftable(baseline_ols).cols[1])\n",
    "println(\"Cluster s.e. : \" , GLM.r2(baseline_ols))\n",
    "println(\"T-value : \", GLM.coeftable(baseline_ols).cols[3])\n",
    "println(\"Pr(>|t|) : \" , GLM.coeftable(baseline_ols).cols[4])"
   ]
  },
  {
   "cell_type": "markdown",
   "metadata": {},
   "source": [
    "The point estimate is $0.282$ with the confidence interval ranging from 0.155 to 0.409. This\n",
    "suggests that increases in gun ownership rates are related to gun homicide rates - if gun ownership increases by 1% relative\n",
    "to a trend then the predicted gun homicide rate goes up by 0.28%, without controlling for counties' characteristics.\n",
    "\n",
    "Since our goal is to estimate the effect of gun ownership after controlling for a rich set county characteristics we next include the controls. First, we estimate the model by ols and then by an array of the modern regression methods using the double machine learning approach."
   ]
  },
  {
   "cell_type": "code",
   "execution_count": 107,
   "metadata": {
    "scrolled": true
   },
   "outputs": [
    {
     "data": {
      "text/plain": [
       "                                Fixed Effect Model                                \n",
       "==================================================================================\n",
       "Number of obs:                      3900  Degrees of freedom:                  375\n",
       "R2:                                0.203  R2 Adjusted:                       0.118\n",
       "F-Stat:                           4.9868  p-value:                           0.000\n",
       "R2 within:                         0.203  Iterations:                            1\n",
       "==================================================================================\n",
       "logghomr        |   Estimate Std.Error    t value Pr(>|t|)   Lower 95%   Upper 95%\n",
       "----------------------------------------------------------------------------------\n",
       "logfssl         |   0.190671  0.057892    3.29355    0.001   0.0771653    0.304176\n",
       "logrobr         |    0.18903 0.0439518    4.30086    0.000    0.102857    0.275204\n",
       "logburg         |   0.219294  0.062193    3.52602    0.000   0.0973559    0.341232\n",
       "burg_missing    |     1.5298  0.452913    3.37768    0.001    0.641798      2.4178\n",
       "robrate_missing |    1.13297  0.258478    4.38322    0.000    0.626185     1.63975\n",
       "newblack        |   -4.34682   1.01651   -4.27621    0.000    -6.33983    -2.35381\n",
       "newfhh          |    7.80009   6.39636    1.21946    0.223    -4.74084      20.341\n",
       "newmove         |    42.2304    28.037    1.50624    0.132    -12.7399     97.2007\n",
       "newdens         |   -2.40914   1.53448   -1.57001    0.117     -5.4177    0.599413\n",
       "newmal          |   0.612434  0.273092     2.2426    0.025   0.0770006     1.14787\n",
       "AGE010D         |   -31.0129   46.3811  -0.668653    0.504    -121.949     59.9237\n",
       "AGE050D         |     10.436   5.60226    1.86282    0.063   -0.547999       21.42\n",
       "AGE110D         |   -6.47538   4.34908   -1.48891    0.137    -15.0024     2.05159\n",
       "AGE170D         |   -6.46665   4.56589   -1.41629    0.157    -15.4187     2.48541\n",
       "AGE180D         |   -11.5616   14.4841  -0.798225    0.425    -39.9597     16.8365\n",
       "AGE270D         |    35.7176   20.0734    1.77935    0.075    -3.63909     75.0742\n",
       "AGE310D         |    19.3671    25.065   0.772674    0.440    -29.7763     68.5105\n",
       "AGE320D         |    1.58143   1.50496    1.05081    0.293    -1.36926     4.53211\n",
       "AGE350D         |    -9.2839   12.9611  -0.716289    0.474    -34.6959     16.1281\n",
       "AGE380D         |    27.0533   26.3287    1.02752    0.304    -24.5678     78.6745\n",
       "AGE410D         |   -9.22949   12.4322  -0.742386    0.458    -33.6045     15.1455\n",
       "AGE470D         |    5.17333   2.36651    2.18606    0.029    0.533458     9.81319\n",
       "AGE570D         |    3.81493   1.91954    1.98742    0.047   0.0514088     7.57846\n",
       "AGE640D         |    1.96683   1.38677    1.41828    0.156   -0.752128     4.68578\n",
       "AGE670D         |   -1.73173   1.22119   -1.41807    0.156    -4.12604    0.662578\n",
       "AGE760D         |    0.81316   3.00492   0.270609    0.787     -5.0784     6.70472\n",
       "BNK010D         | -0.0757231   0.08018  -0.944415    0.345   -0.232927   0.0814807\n",
       "BNK050D         |   0.018521 0.0748173   0.247549    0.804   -0.128169    0.165211\n",
       "BPS030D         |  -0.066928   0.13632  -0.490962    0.623   -0.334202    0.200346\n",
       "BPS130D         |  0.0280607  0.141942   0.197692    0.843   -0.250235    0.306357\n",
       "BPS230D         | -0.0730004 0.0672531   -1.08546    0.278   -0.204859   0.0588585\n",
       "BPS020D         | -0.0832063 0.0854571  -0.973661    0.330   -0.250757   0.0843441\n",
       "BPS120D         |   0.035453 0.0734404   0.482746    0.629   -0.108537    0.179443\n",
       "BPS220D         |  0.0676791  0.040517    1.67039    0.095    -0.01176    0.147118\n",
       "BPS820D         |   0.031421  0.019525    1.60927    0.108 -0.00686042   0.0697023\n",
       "BZA010D         |   0.341567   0.30688    1.11303    0.266   -0.260113    0.943246\n",
       "BZA110D         |  -0.135707  0.128624   -1.05507    0.291   -0.387893    0.116478\n",
       "BZA210D         | -0.0975973  0.175943   -0.55471    0.579   -0.442557    0.247363\n",
       "EDU100D         |        0.0       NaN        NaN      NaN         NaN         NaN\n",
       "EDU200D         |        0.0       NaN        NaN      NaN         NaN         NaN\n",
       "EDU600D         |   -51.0255   58.3448   -0.87455    0.382    -165.419     63.3676\n",
       "EDU610D         |  -0.428712  0.414615     -1.034    0.301    -1.24162    0.384197\n",
       "EDU620D         |    1.09965  0.633167    1.73674    0.083   -0.141763     2.34106\n",
       "EDU630D         |    28.8101    54.579    0.52786    0.598    -78.1995      135.82\n",
       "EDU635D         |   -23.0591   54.2639  -0.424944    0.671    -129.451     83.3327\n",
       "EDU640D         |   -1.00045   1.09439  -0.914157    0.361    -3.14616     1.14526\n",
       "EDU650D         |    -2.0153  0.979365   -2.05776    0.040    -3.93548  -0.0951175\n",
       "EDU680D         |   -8.01946   15.3704  -0.521746    0.602    -38.1553     22.1164\n",
       "EDU685D         |    7.19363    15.335     0.4691    0.639    -22.8727       37.26\n",
       "ELE010D         |    16.0876    18.938   0.849487    0.396     -21.043     53.2181\n",
       "ELE020D         |      2.217   13.6311   0.162642    0.871    -24.5087     28.9427\n",
       "ELE025D         |   -2.54703   13.6227   -0.18697    0.852    -29.2562     24.1621\n",
       "ELE030D         |   -18.6818   13.0846   -1.42777    0.153    -44.3361     6.97237\n",
       "ELE035D         |     18.695   13.0746    1.42987    0.153    -6.93952     44.3295\n",
       "ELE060D         | 0.00555918 0.0178078   0.312176    0.755  -0.0293555   0.0404738\n",
       "ELE065D         | -0.0142989 0.0210802  -0.678306    0.498  -0.0556296   0.0270319\n",
       "ELE210D         |  -0.329741  0.131982   -2.49839    0.013    -0.58851  -0.0709729\n",
       "ELE220D         | -0.0028114 0.0551689 -0.0509598    0.959   -0.110978    0.105355\n",
       "HIS010D         |        0.0       NaN        NaN      NaN         NaN         NaN\n",
       "HIS020D         |    18.9964   10.7855    1.76129    0.078    -2.15008      40.143\n",
       "HIS030D         |   -9.14996   5.23304    -1.7485    0.080    -19.4101     1.11013\n",
       "HIS040D         |   -9.47229   5.59826   -1.69201    0.091    -20.4485     1.50387\n",
       "HIS110D         |  -0.834092  0.421234   -1.98012    0.048    -1.65998 -0.00820545\n",
       "HIS120D         |  0.0635037   1.18971  0.0533775    0.957    -2.26908     2.39609\n",
       "HIS130D         | -0.0266082 0.0991409  -0.268387    0.788   -0.220988    0.167771\n",
       "HIS140D         |  -0.143874  0.136091   -1.05719    0.290   -0.410699     0.12295\n",
       "HIS200D         |        0.0       NaN        NaN      NaN         NaN         NaN\n",
       "HIS300D         |        0.0       NaN        NaN      NaN         NaN         NaN\n",
       "HIS500D         |        0.0       NaN        NaN      NaN         NaN         NaN\n",
       "HIS700D         |        0.0       NaN        NaN      NaN         NaN         NaN\n",
       "HSD010D         |    74.7136   110.368    0.67695    0.498    -141.678     291.105\n",
       "HSD020D         |  -0.153163 0.0594706   -2.57543    0.010   -0.269763  -0.0365623\n",
       "HSD030D         |    5.62845   3.39784    1.65648    0.098    -1.03348     12.2904\n",
       "HSD110D         |    77.9393   69.7768    1.11698    0.264    -58.8676     214.746\n",
       "HSD120D         |   -17.7825   10.6899   -1.66348    0.096    -38.7414     3.17653\n",
       "HSD130D         |   -78.6351   32.2568   -2.43778    0.015    -141.879    -15.3912\n",
       "HSD140D         |    12.5451    8.1709    1.53534    0.125    -3.47504     28.5653\n",
       "HSD150D         |   -2.98228   2.16803   -1.37557    0.169    -7.23299     1.26844\n",
       "HSD170D         |   -6.87859   5.60133   -1.22803    0.220    -17.8608     4.10359\n",
       "HSD200D         |   -58.7677   20.8011   -2.82522    0.005    -99.5512    -17.9842\n",
       "HSD210D         |    33.4792   11.8298    2.83007    0.005     10.2853     56.6731\n",
       "HSD230D         |   -3.21019   3.03941   -1.05619    0.291    -9.16936     2.74898\n",
       "HSD300D         |    12.9237   106.502   0.121347    0.903    -195.888     221.736\n",
       "HSD310D         |   -20.5243   20.0659   -1.02284    0.306    -59.8662     18.8177\n",
       "HSG030D         |   -66.4703   81.6095  -0.814493    0.415    -226.477     93.5363\n",
       "HSG195D         | -0.0669171  0.364675  -0.183498    0.854   -0.781912    0.648078\n",
       "HSG200D         |        0.0       NaN        NaN      NaN         NaN         NaN\n",
       "HSG220D         |   -1.34903   1.80197  -0.748638    0.454    -4.88204     2.18399\n",
       "HSG440D         |    -395.28   237.851   -1.66188    0.097    -861.619     71.0593\n",
       "HSG445D         |    63.9775   59.6792    1.07202    0.284    -53.0318     180.987\n",
       "HSG460D         |   0.387424  0.819219   0.472918    0.636    -1.21877     1.99362\n",
       "HSG680D         |    -80.298   114.257  -0.702783    0.482    -304.315     143.719\n",
       "HSG700D         |    1.19125  0.999929    1.19134    0.234   -0.769246     3.15175\n",
       "HSD410D         |   -32.8443   74.2684  -0.442237    0.658    -178.458     112.769\n",
       "HSD500D         |   -87.7911   70.9676   -1.23706    0.216    -226.933     51.3505\n",
       "HSD510D         |    97.0692   30.9313    3.13822    0.002     36.4241     157.714\n",
       "HSD520D         |   -8.15462    6.5401   -1.24687    0.213    -20.9774     4.66814\n",
       "HSD530D         |   -0.76657   6.52594  -0.117465    0.906    -13.5616     12.0284\n",
       "HSD540D         |    4.75311   2.64671    1.79586    0.073   -0.436131     9.94236\n",
       "HSD550D         |  -0.831879    1.0161  -0.818699    0.413    -2.82408     1.16032\n",
       "HSD560D         |  -0.336192   1.37159  -0.245112    0.806    -3.02537     2.35299\n",
       "HSD570D         |        0.0       NaN        NaN      NaN         NaN         NaN\n",
       "HSD580D         |    2.33012   2.04286    1.14062    0.254    -1.67518     6.33543\n",
       "HSD590D         |    2.70812   1.44144    1.87876    0.060   -0.118017     5.53426\n",
       "HSD610D         |    28.0312   23.6313    1.18619    0.236    -18.3011     74.3635\n",
       "HSD620D         |    -31.376   12.8894   -2.43425    0.015    -56.6474     -6.1046\n",
       "HSD710D         |    40.5412   95.7387   0.423457    0.672    -147.168      228.25\n",
       "HSD720D         |        0.0       NaN        NaN      NaN         NaN         NaN\n",
       "HSD730D         |   -7.48619   8.94711  -0.836717    0.403    -25.0282     10.0558\n",
       "HSD740D         |   -14.6966   6.09624   -2.41076    0.016    -26.6491    -2.74405\n",
       "HSD750D         |   0.864033  0.399077    2.16508    0.030   0.0815875     1.64648\n",
       "HSD760D         |    12.9187   4.98508    2.59147    0.010     3.14473     22.6926\n",
       "HSD770D         |    14.3445   7.30583    1.96343    0.050   0.0203841     28.6685\n",
       "HSD780D         |    -2.0194  0.862714   -2.34075    0.019    -3.71087   -0.327931\n",
       "HSG040D         |    60.4532   82.7994   0.730117    0.465    -101.886     222.793\n",
       "HSG045D         |   0.225893  0.108442    2.08307    0.037   0.0132764    0.438509\n",
       "HSG050D         |        0.0       NaN        NaN      NaN         NaN         NaN\n",
       "HSG182D         |    329.057   220.654    1.49128    0.136    -103.565     761.679\n",
       "HSG210D         |    5.42263   1.90808    2.84193    0.005     1.68158     9.16369\n",
       "HSG230D         |        0.0       NaN        NaN      NaN         NaN         NaN\n",
       "HSG240D         |    13.3743   6.53489    2.04659    0.041    0.561716     26.1868\n",
       "HSG250D         |   0.116296  0.332129   0.350153    0.726   -0.534888     0.76748\n",
       "HSG310D         |   0.182972  0.335041   0.546118    0.585   -0.473922    0.839865\n",
       "HSG315D         |  0.0783068  0.156586   0.500088    0.617   -0.228701    0.385315\n",
       "HSG320D         |   0.179122  0.219265   0.816917    0.414   -0.250778    0.609021\n",
       "HSG325D         | -0.0160598 0.0874932  -0.183555    0.854   -0.187602    0.155483\n",
       "HSG335D         |  0.0767097  0.105241   0.728895    0.466    -0.12963    0.283049\n",
       "HSG350D         |  0.0525682 0.0497807      1.056    0.291  -0.0450337     0.15017\n",
       "HSG370D         |    -1.0667  0.618607   -1.72435    0.085    -2.27956    0.146169\n",
       "HSG375D         |  -0.840496   1.53386  -0.547963    0.584    -3.84783     2.16684\n",
       "HSG380D         |   -2.11185   2.36896  -0.891464    0.373    -6.75652     2.53283\n",
       "HSG450D         |   0.204103  0.848188   0.240634    0.810    -1.45889     1.86709\n",
       "HSG490D         |   0.713268  0.433349    1.64594    0.100   -0.136373     1.56291\n",
       "HSG500D         |  0.0763035  0.161638   0.472066    0.637   -0.240609    0.393216\n",
       "HSG510D         | -0.0543294  0.254214  -0.213715    0.831   -0.552751    0.444093\n",
       "HSG520D         |   0.338498  0.326439    1.03694    0.300    -0.30153    0.978526\n",
       "HSG530D         |  -0.488831  0.249327    -1.9606    0.050   -0.977672  9.74176e-6\n",
       "HSG540D         |   0.390977  0.186498    2.09641    0.036   0.0253208    0.756632\n",
       "HSG550D         |  -0.177963  0.176823   -1.00645    0.314   -0.524649    0.168723\n",
       "HSG560D         |  0.0427852  0.212574   0.201272    0.840   -0.373995    0.459565\n",
       "HSG570D         | -0.0291685  0.157929  -0.184693    0.853   -0.338811    0.280474\n",
       "HSG650D         |    0.67878  0.830559   0.817256    0.414   -0.949646      2.3072\n",
       "HSG690D         |  -0.449311   1.06084  -0.423542    0.672    -2.52924     1.63061\n",
       "HSG710D         |    78.9608   114.028   0.692467    0.489    -144.607     302.529\n",
       "HSG730D         |  -0.924762  0.607011   -1.52347    0.128    -2.11489    0.265366\n",
       "INC110D         |   -1.23486   1.05831   -1.16682    0.243    -3.30983    0.840101\n",
       "INC650D         |  -0.644575  0.999925  -0.644623    0.519    -2.60507     1.31592\n",
       "INC670D         |  -0.170094  0.557048   -0.30535    0.760    -1.26226    0.922074\n",
       "INC680D         |  -0.592061  0.710945  -0.832781    0.405    -1.98597    0.801843\n",
       "INC690D         |    0.58468  0.780248   0.749351    0.454   -0.945104     2.11446\n",
       "INC700D         |   0.116918  0.740576   0.157875    0.875    -1.33508     1.56892\n",
       "INC710D         |   0.347385  0.888028   0.391187    0.696    -1.39372     2.08848\n",
       "INC720D         |   -1.70833  0.844538    -2.0228    0.043    -3.36417  -0.0525011\n",
       "INC730D         |   0.148578  0.951031   0.156229    0.876    -1.71605     2.01321\n",
       "INC760D         |    1.01708   0.74768    1.36031    0.174    -0.44885     2.48301\n",
       "INC790D         |  -0.665111  0.472571   -1.40743    0.159    -1.59165    0.261429\n",
       "LFE020D         |   -11.1075   6.72052   -1.65278    0.098     -24.284     2.06897\n",
       "LFE023D         |    5.51498    5.5732   0.989553    0.322    -5.41204      16.442\n",
       "LFE030D         |   0.192547 0.0815323     2.3616    0.018   0.0326913    0.352402\n",
       "LFE080D         |  -0.190895   0.68214  -0.279847    0.780    -1.52832     1.14653\n",
       "LFE090D         |   0.991377   3.18147    0.31161    0.755    -5.24633     7.22908\n",
       "LFE210D         |      2.536    1.9221    1.31939    0.187    -1.23254     6.30454\n",
       "LFE220D         |   0.194703  0.556449   0.349903    0.726   -0.896291      1.2857\n",
       "LND110D         |  -0.957567   1.25942  -0.760322    0.447    -3.42684      1.5117\n",
       "PIN020D         |   0.238782  0.322369   0.740709    0.459   -0.393267     0.87083\n",
       "POP110D         |        0.0       NaN        NaN      NaN         NaN         NaN\n",
       "POP210D         |  -0.973626  0.862197   -1.12924    0.259    -2.66408    0.716829\n",
       "POP240D         |        0.0       NaN        NaN      NaN         NaN         NaN\n",
       "POP440D         |   -3.88742   2.36801   -1.64164    0.101    -8.53023    0.755385\n",
       "POP450D         |    11.6002   8.56743    1.35398    0.176    -5.19746     28.3978\n",
       "POP470D         |   -3.54817   1.20799   -2.93726    0.003    -5.91659    -1.17974\n",
       "POP480D         |   -1.77516   1.34225   -1.32253    0.186    -4.40683    0.856501\n",
       "POP540D         |   -1.49392   2.19723  -0.679913    0.497     -5.8019     2.81405\n",
       "POP550D         |   -28.2174   10.8679   -2.59641    0.009    -49.5253    -6.90945\n",
       "POP570D         |   0.166053   1.84646  0.0899306    0.928    -3.45418     3.78628\n",
       "POP580D         |     2.2468   1.71544    1.30975    0.190    -1.11656     5.61015\n",
       "POP700D         |    44.3309    33.866    1.30901    0.191     -22.068      110.73\n",
       "POP710D         |   -13.1519   8.33143   -1.57859    0.115    -29.4869     3.18299\n",
       "POP720D         |    0.89423  0.817357    1.09405    0.274    -0.70831     2.49677\n",
       "POP740D         |   0.408881  0.386132    1.05892    0.290   -0.348183     1.16595\n",
       "PPQ010D         |  -0.313905  0.402498  -0.779892    0.436    -1.10306    0.475248\n",
       "PPQ100D         |    0.49144  0.261421    1.87988    0.060  -0.0211126     1.00399\n",
       "PPQ110D         |        0.0       NaN        NaN      NaN         NaN         NaN\n",
       "PPQ120D         |        0.0       NaN        NaN      NaN         NaN         NaN\n",
       "PVY020D         |   -1.14767   2.74039  -0.418798    0.675    -6.52058     4.22524\n",
       "PVY120D         |    2.03167   1.93463    1.05016    0.294    -1.76143     5.82478\n",
       "PVY210D         |   0.307108  0.505802    0.60717    0.544   -0.684586      1.2988\n",
       "PVY310D         |  -0.428608  0.849485  -0.504551    0.614    -2.09414     1.23692\n",
       "PVY420D         |   0.612425   1.82106   0.336301    0.737    -2.95801     4.18286\n",
       "PVY520D         |  -0.326862  0.690405  -0.473435    0.636     -1.6805     1.02677\n",
       "SPR030D         |  -0.500299  0.443755   -1.12742    0.260    -1.37034    0.369743\n",
       "SPR130D         |   -1.65654  0.831633   -1.99192    0.046    -3.28707  -0.0260153\n",
       "SPR230D         |    1.44786  0.797212    1.81615    0.069   -0.115185      3.0109\n",
       "SPR330D         | -0.0339982  0.322708  -0.105353    0.916   -0.666711    0.598715\n",
       "SPR440D         |  -0.431514  0.293289   -1.47129    0.141    -1.00655    0.143519\n",
       "VST020D         |   0.532223  0.264856    2.00948    0.045   0.0129361     1.05151\n",
       "==================================================================================\n"
      ]
     },
     "execution_count": 107,
     "metadata": {},
     "output_type": "execute_result"
    }
   ],
   "source": [
    "control_formula = term(:logghomr) ~ term(:logfssl) + sum(term.(Symbol.(names(Z)))) + fe(:CountyCode)\n",
    "control_ols = reg(data, control_formula)"
   ]
  },
  {
   "cell_type": "code",
   "execution_count": 108,
   "metadata": {},
   "outputs": [
    {
     "name": "stdout",
     "output_type": "stream",
     "text": [
      "For <<logfssl>> variable: \n",
      "2.5% : 0.07716526389391981\n",
      "97.5% : 0.3041757996811467\n",
      "Estimate: 0.19067053178753327\n",
      "Cluster s.e. : 0.20296178723373293\n",
      "T-value : 3.2935540687742195\n",
      "Pr(>|t|) : 0.0009990606412285847\n"
     ]
    }
   ],
   "source": [
    "println(\"For <<logfssl>> variable: \")\n",
    "println(\"2.5% : \", GLM.coeftable(control_ols).cols[5][1])\n",
    "println(\"97.5% : \" , GLM.coeftable(control_ols).cols[6][1])\n",
    "println(\"Estimate: \", GLM.coeftable(control_ols).cols[1][1])\n",
    "println(\"Cluster s.e. : \" , GLM.r2(control_ols))\n",
    "println(\"T-value : \", GLM.coeftable(control_ols).cols[3][1])\n",
    "println(\"Pr(>|t|) : \" , GLM.coeftable(control_ols).cols[4][1])"
   ]
  },
  {
   "cell_type": "markdown",
   "metadata": {},
   "source": [
    "# DML algorithm\n",
    "\n",
    "Here we perform inference of the predictive coefficient $\\beta$ in our partially linear statistical model, \n",
    "\n",
    "$$\n",
    "Y = D\\beta + g(Z) + \\epsilon, \\quad E (\\epsilon | D, Z) = 0,\n",
    "$$\n",
    "\n",
    "using the **double machine learning** approach. \n",
    "\n",
    "For $\\tilde Y = Y- E(Y|Z)$ and $\\tilde D= D- E(D|Z)$, we can write\n",
    "$$\n",
    "\\tilde Y = \\alpha \\tilde D + \\epsilon, \\quad E (\\epsilon |\\tilde D) =0.\n",
    "$$\n",
    "\n",
    "Using cross-fitting, we employ modern regression methods\n",
    "to build estimators $\\hat \\ell(Z)$ and $\\hat m(Z)$ of $\\ell(Z):=E(Y|Z)$ and $m(Z):=E(D|Z)$ to obtain the estimates of the residualized quantities:\n",
    "\n",
    "$$\n",
    "\\tilde Y_i = Y_i  - \\hat \\ell (Z_i),   \\quad \\tilde D_i = D_i - \\hat m(Z_i), \\quad \\text{ for each } i = 1,\\dots,n.\n",
    "$$\n",
    "\n",
    "Finally, using ordinary least squares of $\\tilde Y_i$ on $\\tilde D_i$, we obtain the \n",
    "estimate of $\\beta$."
   ]
  },
  {
   "cell_type": "code",
   "execution_count": 109,
   "metadata": {},
   "outputs": [],
   "source": [
    "using  MLDataUtils, MLBase"
   ]
  },
  {
   "cell_type": "code",
   "execution_count": 110,
   "metadata": {},
   "outputs": [
    {
     "data": {
      "text/plain": [
       "3510-element Vector{Int64}:\n",
       "    1\n",
       "    2\n",
       "    3\n",
       "    4\n",
       "    6\n",
       "    7\n",
       "    8\n",
       "    9\n",
       "   10\n",
       "   11\n",
       "   13\n",
       "   14\n",
       "   15\n",
       "    ⋮\n",
       " 3889\n",
       " 3890\n",
       " 3891\n",
       " 3892\n",
       " 3893\n",
       " 3894\n",
       " 3895\n",
       " 3896\n",
       " 3897\n",
       " 3898\n",
       " 3899\n",
       " 3900"
      ]
     },
     "execution_count": 110,
     "metadata": {},
     "output_type": "execute_result"
    }
   ],
   "source": [
    "foldid = collect(Kfold(size(Z)[1], 10))[1]"
   ]
  },
  {
   "cell_type": "code",
   "execution_count": 111,
   "metadata": {},
   "outputs": [
    {
     "data": {
      "text/plain": [
       "DML2_for_PLM (generic function with 1 method)"
      ]
     },
     "execution_count": 111,
     "metadata": {},
     "output_type": "execute_result"
    }
   ],
   "source": [
    "function DML2_for_PLM(z , d , y, dreg , yreg , nfold, clu)\n",
    "    \n",
    "    # Num ob observations\n",
    "    nobser = size(z,1)\n",
    "    \n",
    "    # Define folds indices \n",
    "    foldid = collect(Kfold(size(z)[1], nfold))\n",
    "    \n",
    "    # Create array to save errors \n",
    "    ytil = ones(nobser)\n",
    "    dtil = ones(nobser)\n",
    "    println(\"Folds: \" )\n",
    "    \n",
    "    # loop to save results\n",
    "    for i in 1:nfold\n",
    "        \n",
    "        # Lasso regression, excluding folds selected \n",
    "        dfit = dreg(z[foldid[i],:], d[foldid[i]])\n",
    "        yfit = yreg(z[foldid[i],:], y[foldid[i]])\n",
    "        \n",
    "        # Predict estimates using the \n",
    "        dhat = GLM.predict(dfit, z[Not(foldid[i]),:])\n",
    "        yhat = GLM.predict(yfit, z[Not(foldid[i]),:])\n",
    "        \n",
    "        # Save errors \n",
    "        dtil[Not(foldid[i])] = (d[Not(foldid[i])] - dhat)\n",
    "        ytil[Not(foldid[i])] = (y[Not(foldid[i])] - yhat)\n",
    "        println(i)\n",
    "    end\n",
    "    \n",
    "    # Create dataframe \n",
    "    data = DataFrame(ytil = ytil, dtil = dtil, clu=clu)\n",
    "    \n",
    "    # OLS clustering at the County level\n",
    "    rfit = reg(data, @formula(ytil ~ dtil +fe(clu)))\n",
    "    coef_est = coef(rfit)[1]\n",
    "    se = FixedEffectModels.coeftable(rfit).cols[2]\n",
    "\n",
    "    println(\" coef (se) = \", coef_est ,\"(\",se,\")\")\n",
    "    \n",
    "    return rfit, data;\n",
    "    \n",
    "end"
   ]
  },
  {
   "cell_type": "markdown",
   "metadata": {},
   "source": [
    "Now, we apply the Double Machine Learning (DML) approach with different machine learning methods. First, we load the relevant libraries."
   ]
  },
  {
   "cell_type": "markdown",
   "metadata": {},
   "source": [
    "Let us, construct the input matrices."
   ]
  },
  {
   "cell_type": "code",
   "execution_count": 112,
   "metadata": {},
   "outputs": [
    {
     "data": {
      "text/html": [
       "<div class=\"data-frame\"><p>6 rows × 3 columns</p><table class=\"data-frame\"><thead><tr><th></th><th>logghomr</th><th>logfssl</th><th>CountyCode</th></tr><tr><th></th><th title=\"Float64\">Float64</th><th title=\"Float64\">Float64</th><th title=\"Int64\">Int64</th></tr></thead><tbody><tr><th>1</th><td>-0.134778</td><td>0.096127</td><td>1073</td></tr><tr><th>2</th><td>-0.239622</td><td>0.080809</td><td>1073</td></tr><tr><th>3</th><td>-0.078677</td><td>0.05734</td><td>1073</td></tr><tr><th>4</th><td>-0.331465</td><td>0.081694</td><td>1073</td></tr><tr><th>5</th><td>-0.31664</td><td>0.025366</td><td>1073</td></tr><tr><th>6</th><td>0.105132</td><td>-0.006777</td><td>1073</td></tr></tbody></table></div>"
      ],
      "text/latex": [
       "\\begin{tabular}{r|ccc}\n",
       "\t& logghomr & logfssl & CountyCode\\\\\n",
       "\t\\hline\n",
       "\t& Float64 & Float64 & Int64\\\\\n",
       "\t\\hline\n",
       "\t1 & -0.134778 & 0.096127 & 1073 \\\\\n",
       "\t2 & -0.239622 & 0.080809 & 1073 \\\\\n",
       "\t3 & -0.078677 & 0.05734 & 1073 \\\\\n",
       "\t4 & -0.331465 & 0.081694 & 1073 \\\\\n",
       "\t5 & -0.31664 & 0.025366 & 1073 \\\\\n",
       "\t6 & 0.105132 & -0.006777 & 1073 \\\\\n",
       "\\end{tabular}\n"
      ],
      "text/plain": [
       "\u001b[1m6×3 DataFrame\u001b[0m\n",
       "\u001b[1m Row \u001b[0m│\u001b[1m logghomr  \u001b[0m\u001b[1m logfssl   \u001b[0m\u001b[1m CountyCode \u001b[0m\n",
       "\u001b[1m     \u001b[0m│\u001b[90m Float64   \u001b[0m\u001b[90m Float64   \u001b[0m\u001b[90m Int64      \u001b[0m\n",
       "─────┼──────────────────────────────────\n",
       "   1 │ -0.134778   0.096127        1073\n",
       "   2 │ -0.239622   0.080809        1073\n",
       "   3 │ -0.078677   0.05734         1073\n",
       "   4 │ -0.331465   0.081694        1073\n",
       "   5 │ -0.31664    0.025366        1073\n",
       "   6 │  0.105132  -0.006777        1073"
      ]
     },
     "execution_count": 112,
     "metadata": {},
     "output_type": "execute_result"
    }
   ],
   "source": [
    "# Create main variables\n",
    "z = Matrix(Z);\n",
    "d = D[!,1];\n",
    "y = Y[!,1];\n",
    "clu = rdata[!, :CountyCode];\n",
    "first(DataFrame(logghomr = y,logfssl = d,CountyCode = clu ),6)"
   ]
  },
  {
   "cell_type": "markdown",
   "metadata": {},
   "source": [
    "In the following, we apply the DML approach with the differnt versions of lasso.\n"
   ]
  },
  {
   "cell_type": "markdown",
   "metadata": {},
   "source": [
    "## Lasso"
   ]
  },
  {
   "cell_type": "code",
   "execution_count": 113,
   "metadata": {},
   "outputs": [],
   "source": [
    "using Lasso"
   ]
  },
  {
   "cell_type": "code",
   "execution_count": 114,
   "metadata": {
    "scrolled": false
   },
   "outputs": [
    {
     "name": "stdout",
     "output_type": "stream",
     "text": [
      "Folds: \n",
      "1\n",
      "2\n",
      "3\n",
      "4\n",
      "5\n",
      "6\n",
      "7\n",
      "8\n",
      "9\n",
      "10\n",
      " coef (se) = 0.212029671273402([0.056430449973936744])\n"
     ]
    }
   ],
   "source": [
    "Random.seed!(123)\n",
    "dreg(z,d) = fit(LassoModel, z, d, standardize = false)\n",
    "yreg(z,y) = fit(LassoModel, z, y, standardize = false)\n",
    "DML2_lasso = DML2_for_PLM(z, d, y, dreg, yreg, 10, clu);"
   ]
  },
  {
   "cell_type": "markdown",
   "metadata": {},
   "source": [
    "## HDM.JL\n",
    "We are going to replicate the above regressions but using `hmd` library."
   ]
  },
  {
   "cell_type": "code",
   "execution_count": 115,
   "metadata": {
    "scrolled": true
   },
   "outputs": [],
   "source": [
    "include(\"../hdmjl/hdmjl.jl\")"
   ]
  },
  {
   "cell_type": "code",
   "execution_count": 116,
   "metadata": {},
   "outputs": [
    {
     "data": {
      "text/plain": [
       "DML2_lasso_hdm (generic function with 1 method)"
      ]
     },
     "execution_count": 116,
     "metadata": {},
     "output_type": "execute_result"
    }
   ],
   "source": [
    "function DML2_lasso_hdm(z , d , y, dreg , yreg , nfold, clu)\n",
    "    \n",
    "    # Num ob observations\n",
    "    nobser = size(z,1)\n",
    "    \n",
    "    # Define folds indices\n",
    "    foldid = collect(Kfold(size(z)[1], nfold))\n",
    "    \n",
    "    # Create array to save errors \n",
    "    ytil = ones(nobser)\n",
    "    dtil = ones(nobser)\n",
    "    println(\"Folds: \" )\n",
    "    \n",
    "    # loop to save results\n",
    "    for i in 1:nfold\n",
    "        \n",
    "        # Lasso regression, excluding folds selected \n",
    "        coef_D= dreg(Z[foldid[i],:], D[foldid[i],:]) # coefficients from not Double Lasso\n",
    "        coef_Y= dreg(Z[foldid[i],:], Y[foldid[i],:]) # coefficients from not Double Lasso\n",
    "        \n",
    "        # Predict estimates using the \n",
    "        dhat = hcat(ones(size(z[Not(foldid[i]),:])[1]),Matrix(z[Not(foldid[i]),:]))*coef_D\n",
    "        yhat = hcat(ones(size(z[Not(foldid[i]),:])[1]),Matrix(z[Not(foldid[i]),:]))*coef_Y\n",
    "        \n",
    "        # Save errors \n",
    "        dtil[Not(foldid[i])] = (d[Not(foldid[i])] - dhat)\n",
    "        ytil[Not(foldid[i])] = (y[Not(foldid[i])] - yhat)\n",
    "        \n",
    "        println(i)\n",
    "    end\n",
    "    \n",
    "    # Create dataframe \n",
    "    data = DataFrame(ytil = ytil, dtil = dtil)\n",
    "    \n",
    "    # OLS clustering at the County level\n",
    "    rfit = reg(data, @formula(ytil ~ 0 + dtil))\n",
    "    coef_est = coef(rfit)[1]\n",
    "    se = FixedEffectModels.coeftable(rfit).cols[2]\n",
    "\n",
    "    println(\" coef (se) = \", coef_est ,\"(\",se,\")\")\n",
    "    \n",
    "    return rfit, data;\n",
    "    \n",
    "end"
   ]
  },
  {
   "cell_type": "code",
   "execution_count": 117,
   "metadata": {},
   "outputs": [
    {
     "name": "stdout",
     "output_type": "stream",
     "text": [
      "Folds: \n",
      "1\n",
      "2\n",
      "3\n",
      "4\n",
      "5\n",
      "6\n",
      "7\n",
      "8\n",
      "9\n",
      "10\n",
      " coef (se) = 0.2187170988213041([0.057064691768603334])\n"
     ]
    }
   ],
   "source": [
    "function dreg(Z, Y)\n",
    "    res_Y_0 = rlasso_arg( Z, Y, nothing, false, true, true, false, false, \n",
    "                    nothing, 1.1, nothing, 5000, 15, 10^(-5), -Inf, true, Inf, true )\n",
    "    betas_Y = rlasso(res_Y_0)[\"coefficients\"][:,2] # coefficients from not Double Lasso\n",
    "end\n",
    "\n",
    "function yreg(Z, D)\n",
    "    res_D_0 = rlasso_arg( Z, D, nothing, false, true, true, false, false, \n",
    "                        nothing, 1.1, nothing, 5000, 15, 10^(-5), -Inf, true, Inf, true )\n",
    "    betas_D = rlasso(res_D_0)[\"coefficients\"][:,2] # coefficients from not Double Lasso\n",
    "end\n",
    "\n",
    "DML_lasso_hdm = DML2_lasso_hdm(z, d, y, dreg, yreg, 10, clu);"
   ]
  },
  {
   "cell_type": "markdown",
   "metadata": {},
   "source": [
    "## Post - Lasso (HDM)"
   ]
  },
  {
   "cell_type": "code",
   "execution_count": 118,
   "metadata": {},
   "outputs": [
    {
     "data": {
      "text/plain": [
       "DML2_post_lasso_hdm (generic function with 1 method)"
      ]
     },
     "execution_count": 118,
     "metadata": {},
     "output_type": "execute_result"
    }
   ],
   "source": [
    "function DML2_post_lasso_hdm(z , d , y, dreg , yreg , nfold, clu)\n",
    "    \n",
    "    # Num ob observations\n",
    "    nobser = size(z,1)\n",
    "    \n",
    "    # Define folds indices\n",
    "    foldid = collect(Kfold(size(z)[1], nfold))\n",
    "    \n",
    "    # Create array to save errors \n",
    "    ytil = ones(nobser)\n",
    "    dtil = ones(nobser)\n",
    "    println(\"Folds: \" )\n",
    "    \n",
    "    # loop to save results\n",
    "    for i in 1:nfold\n",
    "        \n",
    "        # Lasso regression, excluding folds selected \n",
    "        coef_D= dreg(Z[foldid[i],:], D[foldid[i],:]) # coefficients from not Double Lasso\n",
    "        coef_Y= dreg(Z[foldid[i],:], Y[foldid[i],:]) # coefficients from not Double Lasso\n",
    "        \n",
    "        # Predict estimates using the \n",
    "        dhat = hcat(ones(size(z[Not(foldid[i]),:])[1]),Matrix(z[Not(foldid[i]),:]))*coef_D\n",
    "        yhat = hcat(ones(size(z[Not(foldid[i]),:])[1]),Matrix(z[Not(foldid[i]),:]))*coef_Y\n",
    "        \n",
    "        # Save errors \n",
    "        dtil[Not(foldid[i])] = (d[Not(foldid[i])] - dhat)\n",
    "        ytil[Not(foldid[i])] = (y[Not(foldid[i])] - yhat)\n",
    "        \n",
    "        println(i)\n",
    "    end\n",
    "    \n",
    "    # Create dataframe \n",
    "    data = DataFrame(ytil = ytil, dtil = dtil)\n",
    "    \n",
    "    # OLS clustering at the County level\n",
    "    rfit = reg(data, @formula(ytil ~ 0 + dtil))\n",
    "    coef_est = coef(rfit)[1]\n",
    "    se = FixedEffectModels.coeftable(rfit).cols[2]\n",
    "\n",
    "    println(\" coef (se) = \", coef_est ,\"(\",se,\")\")\n",
    "    \n",
    "    return rfit, data;\n",
    "    \n",
    "end"
   ]
  },
  {
   "cell_type": "code",
   "execution_count": 119,
   "metadata": {},
   "outputs": [
    {
     "name": "stdout",
     "output_type": "stream",
     "text": [
      "Folds: \n",
      "1\n",
      "2\n",
      "3\n",
      "4\n",
      "5\n",
      "6\n",
      "7\n",
      "8\n",
      "9\n",
      "10\n",
      " coef (se) = 0.22551301323407133([0.056432894506908915])\n"
     ]
    }
   ],
   "source": [
    "function dreg(Z, Y)\n",
    "    res_Y_0 = rlasso_arg( Z, Y, nothing, true, true, true, false, false, \n",
    "                    nothing, 1.1, nothing, 5000, 15, 10^(-5), -Inf, true, Inf, true )\n",
    "    betas_Y = rlasso(res_Y_0)[\"coefficients\"][:,2] # coefficients from not Double Lasso\n",
    "end\n",
    "\n",
    "function yreg(Z, D)\n",
    "    res_D_0 = rlasso_arg( Z, D, nothing, true, true, true, false, false, \n",
    "                        nothing, 1.1, nothing, 5000, 15, 10^(-5), -Inf, true, Inf, true )\n",
    "    betas_D = rlasso(res_D_0)[\"coefficients\"][:,2] # coefficients from not Double Lasso\n",
    "end\n",
    "\n",
    "DML_post_lasso_hdm = DML2_post_lasso_hdm(z, d, y, dreg, yreg, 10, clu);"
   ]
  },
  {
   "cell_type": "markdown",
   "metadata": {},
   "source": [
    "## GLMNET"
   ]
  },
  {
   "cell_type": "code",
   "execution_count": 120,
   "metadata": {},
   "outputs": [],
   "source": [
    "using GLMNet"
   ]
  },
  {
   "cell_type": "code",
   "execution_count": 121,
   "metadata": {},
   "outputs": [
    {
     "data": {
      "text/plain": [
       "DML2_lasso_cv (generic function with 1 method)"
      ]
     },
     "execution_count": 121,
     "metadata": {},
     "output_type": "execute_result"
    }
   ],
   "source": [
    "function DML2_lasso_cv(z , d , y, dreg , yreg , nfold, clu)\n",
    "    \n",
    "    # Num ob observations\n",
    "    nobser = size(z,1)\n",
    "    \n",
    "    # Define folds indices\n",
    "    foldid = collect(Kfold(size(z)[1], nfold))\n",
    "    \n",
    "    # Create array to save errors \n",
    "    ytil = ones(nobser)\n",
    "    dtil = ones(nobser)\n",
    "    println(\"Folds: \" )\n",
    "    \n",
    "    # loop to save results\n",
    "    for i in 1:nfold\n",
    "        dfit = dreg(z[foldid[i],:], d[foldid[i]])\n",
    "        yfit = yreg(z[foldid[i],:], y[foldid[i]])\n",
    "        dhat = GLMNet.predict(dfit, z[Not(foldid[i]),:])\n",
    "        yhat = GLMNet.predict(yfit, z[Not(foldid[i]),:])\n",
    "        dtil[Not(foldid[i])]   = (d[Not(foldid[i])] - dhat)\n",
    "        ytil[Not(foldid[i])]   = (y[Not(foldid[i])] - yhat)\n",
    "        println(i)\n",
    "    end\n",
    "    \n",
    "    # Create dataframe \n",
    "    data = DataFrame(ytil = ytil, dtil = dtil, clu=clu)\n",
    "    \n",
    "    # OLS clustering at the County level\n",
    "    rfit = reg(data, @formula(ytil ~ dtil +fe(clu)))\n",
    "    coef_est = coef(rfit)[1]\n",
    "    se = FixedEffectModels.coeftable(rfit).cols[2]\n",
    "\n",
    "    println(\" coef (se) = \", coef_est ,\"(\",se,\")\")\n",
    "    \n",
    "    return rfit, data;\n",
    "    \n",
    "end"
   ]
  },
  {
   "cell_type": "markdown",
   "metadata": {},
   "source": [
    "#### ML method = lasso from glmnet "
   ]
  },
  {
   "cell_type": "code",
   "execution_count": 122,
   "metadata": {},
   "outputs": [
    {
     "data": {
      "text/plain": [
       "yreg (generic function with 1 method)"
      ]
     },
     "execution_count": 122,
     "metadata": {},
     "output_type": "execute_result"
    }
   ],
   "source": [
    "##ML method = lasso from glmnet \n",
    "dreg(z, d) = glmnetcv(z, d, alpha = 1)    \n",
    "yreg(z, y) = glmnetcv(z, y, alpha = 1)   "
   ]
  },
  {
   "cell_type": "code",
   "execution_count": 123,
   "metadata": {},
   "outputs": [
    {
     "name": "stdout",
     "output_type": "stream",
     "text": [
      "Folds: \n",
      "1\n",
      "2\n",
      "3\n",
      "4\n",
      "5\n",
      "6\n",
      "7\n",
      "8\n",
      "9\n",
      "10\n",
      " coef (se) = 0.2126013359306773([0.05692742601004886])\n"
     ]
    }
   ],
   "source": [
    "DML2_lasso_cv_1 = DML2_lasso_cv(z, d, y, dreg, yreg, 10, clu);"
   ]
  },
  {
   "cell_type": "markdown",
   "metadata": {},
   "source": [
    "#### ML method = Elastic net from glmnet "
   ]
  },
  {
   "cell_type": "code",
   "execution_count": 124,
   "metadata": {},
   "outputs": [
    {
     "name": "stdout",
     "output_type": "stream",
     "text": [
      "Folds: \n",
      "1\n",
      "2\n",
      "3\n",
      "4\n",
      "5\n",
      "6\n",
      "7\n",
      "8\n",
      "9\n",
      "10\n",
      " coef (se) = 0.2054309363031906([0.056549975407562784])\n"
     ]
    }
   ],
   "source": [
    "##ML method = elastic net from glmnet \n",
    "dreg(z, d) = glmnetcv(z, d, alpha = 0.5) \n",
    "yreg(z, y) = glmnetcv(z, y, alpha = 0.5)\n",
    "\n",
    "DML2_elnet =  DML2_lasso_cv(z, d, y, dreg, yreg, 10, clu);"
   ]
  },
  {
   "cell_type": "markdown",
   "metadata": {},
   "source": [
    "#### ML method = Ridge from glmnet "
   ]
  },
  {
   "cell_type": "code",
   "execution_count": 125,
   "metadata": {},
   "outputs": [
    {
     "name": "stdout",
     "output_type": "stream",
     "text": [
      "Folds: \n",
      "1\n",
      "2\n",
      "3\n",
      "4\n",
      "5\n",
      "6\n",
      "7\n",
      "8\n",
      "9\n",
      "10\n",
      " coef (se) = 0.21555142508838096([0.05674055794597588])\n"
     ]
    }
   ],
   "source": [
    "##ML method = elastic net from glmnet \n",
    "dreg(z, d) = glmnetcv(z, d, alpha = 0) \n",
    "yreg(z, y) = glmnetcv(z, y, alpha = 0)\n",
    "\n",
    "DML2_ridge = DML2_lasso_cv(z, d, y, dreg, yreg, 10, clu);"
   ]
  },
  {
   "cell_type": "markdown",
   "metadata": {},
   "source": [
    "Here we also compute DML with OLS used as the ML method"
   ]
  },
  {
   "cell_type": "code",
   "execution_count": 141,
   "metadata": {
    "scrolled": true
   },
   "outputs": [
    {
     "name": "stdout",
     "output_type": "stream",
     "text": [
      "Folds: \n",
      "1\n",
      "2\n",
      "3\n",
      "4\n",
      "5\n",
      "6\n",
      "7\n",
      "8\n",
      "9\n",
      "10\n",
      " coef (se) = 0.1984429455595527([0.05536820383975084])\n"
     ]
    }
   ],
   "source": [
    "Random.seed!(123)\n",
    "dreg(z,d) = lm(z,d)\n",
    "yreg(z,y) = lm(z,y)\n",
    "DML2_ols = DML2_for_PLM(z, d, y, dreg, yreg, 10, clu);"
   ]
  },
  {
   "cell_type": "markdown",
   "metadata": {},
   "source": [
    "Next, we also apply Random Forest for comparison purposes."
   ]
  },
  {
   "cell_type": "markdown",
   "metadata": {},
   "source": [
    "### Random Forest\n"
   ]
  },
  {
   "cell_type": "code",
   "execution_count": 127,
   "metadata": {},
   "outputs": [],
   "source": [
    "#import Pkg; Pkg.add(\"MLJ\")\n",
    "#import Pkg; Pkg.add(\"DecisionTree\")\n",
    "#Pkg.add(\"ScikitLearn\")"
   ]
  },
  {
   "cell_type": "code",
   "execution_count": 128,
   "metadata": {},
   "outputs": [],
   "source": [
    "using DecisionTree, MLJ, ScikitLearn"
   ]
  },
  {
   "cell_type": "code",
   "execution_count": 139,
   "metadata": {
    "scrolled": true
   },
   "outputs": [
    {
     "data": {
      "text/plain": [
       "DML2_RF (generic function with 1 method)"
      ]
     },
     "execution_count": 139,
     "metadata": {},
     "output_type": "execute_result"
    }
   ],
   "source": [
    "function DML2_RF(z , d , y, dreg , yreg , nfold, clu)\n",
    "    \n",
    "    # Num ob observations\n",
    "    nobser = size(z,1)\n",
    "    \n",
    "    # Define folds indices\n",
    "    foldid = collect(Kfold(size(z)[1], nfold))\n",
    "    \n",
    "    # Create array to save errors \n",
    "    ytil = ones(nobser)\n",
    "    dtil = ones(nobser)\n",
    "    println(\"Folds: \" )\n",
    "    \n",
    "    # loop to save results\n",
    "    for i in 1:nfold\n",
    "        dfit = dreg(z[foldid[i],:], d[foldid[i]])\n",
    "        yfit = yreg(z[foldid[i],:], y[foldid[i]])\n",
    "        dhat = apply_forest(dfit,z[Not(foldid[i]),:])\n",
    "        yhat = apply_forest(yfit,z[Not(foldid[i]),:])\n",
    "        dtil[Not(foldid[i])]   = (d[Not(foldid[i])] - dhat)\n",
    "        ytil[Not(foldid[i])]   = (y[Not(foldid[i])] - yhat)\n",
    "        println(i)\n",
    "    end\n",
    "    \n",
    "    # Create dataframe \n",
    "    data = DataFrame(ytil = ytil, dtil = dtil, clu=clu)\n",
    "    \n",
    "    # OLS clustering at the County level\n",
    "    rfit = reg(data, @formula(ytil ~ dtil +fe(clu)))\n",
    "    coef_est = coef(rfit)[1]\n",
    "    se = FixedEffectModels.coeftable(rfit).cols[2]\n",
    "\n",
    "    println(\" coef (se) = \", coef_est ,\"(\",se,\")\")\n",
    "    \n",
    "    return rfit, data;\n",
    "    \n",
    "end"
   ]
  },
  {
   "cell_type": "code",
   "execution_count": 140,
   "metadata": {},
   "outputs": [
    {
     "name": "stdout",
     "output_type": "stream",
     "text": [
      "Folds: \n",
      "1\n",
      "2\n",
      "3\n",
      "4\n",
      "5\n",
      "6\n",
      "7\n",
      "8\n",
      "9\n",
      "10\n"
     ]
    },
    {
     "ename": "LoadError",
     "evalue": "\"Some observations for the dependent variable are infinite\"",
     "output_type": "error",
     "traceback": [
      "\"Some observations for the dependent variable are infinite\"",
      "",
      "Stacktrace:",
      " [1] reg(df::Any, formula::FormulaTerm, vcov::CovarianceEstimator; contrasts::Dict, weights::Union{Nothing, Symbol}, save::Union{Bool, Symbol}, method::Symbol, nthreads::Integer, double_precision::Bool, tol::Real, maxiter::Integer, drop_singletons::Bool, progress_bar::Bool, dof_add::Integer, subset::Union{Nothing, AbstractVector}, first_stage::Bool)",
      "   @ FixedEffectModels C:\\Users\\Roberto\\.julia\\packages\\FixedEffectModels\\3LUMK\\src\\fit.jl:176",
      " [2] reg (repeats 2 times)",
      "   @ C:\\Users\\Roberto\\.julia\\packages\\FixedEffectModels\\3LUMK\\src\\fit.jl:61 [inlined]",
      " [3] DML2_RF(z::Matrix{Float64}, d::Vector{Float64}, y::Vector{Float64}, dreg::typeof(dreg), yreg::typeof(yreg), nfold::Int64, clu::Vector{Int64})",
      "   @ Main .\\In[139]:29",
      " [4] top-level scope",
      "   @ In[140]:12",
      " [5] eval",
      "   @ .\\boot.jl:373 [inlined]",
      " [6] include_string(mapexpr::typeof(REPL.softscope), mod::Module, code::String, filename::String)",
      "   @ Base .\\loading.jl:1196"
     ]
    }
   ],
   "source": [
    "function dreg(z,d)\n",
    "    # rf = RandomForestRegressor(n_trees = 500, n_subfeatures = 65, min_samples_leaf = 5, rng =0)\n",
    "   # dfit = ScikitLearn.fit!(rf, z, d )\n",
    "    RFmodel = build_forest(d,z)\n",
    "end\n",
    "function yreg(z,y)\n",
    "   # rf = RandomForestRegressor(n_trees = 500, n_subfeatures = 65, min_samples_leaf = 5, rng =0)\n",
    "   # yfit = ScikitLearn.fit!(rf, z, y )\n",
    "    RFmodel = build_forest(y,z)\n",
    "end\n",
    "\n",
    "DML2_RF_1 = DML2_RF(z, d, y, dreg, yreg, 10, clu);"
   ]
  },
  {
   "cell_type": "markdown",
   "metadata": {},
   "source": [
    "We conclude that the gun ownership rates are related to gun homicide rates - if gun ownership increases by 1% relative\n",
    "to a trend then the predicted gun homicide rate goes up by about 0.20% controlling for counties' characteristics."
   ]
  },
  {
   "cell_type": "markdown",
   "metadata": {},
   "source": [
    "Finally, let's see which method is actually better. We compute RMSE for predicting D and Y, and see which\n",
    "of the methods works better."
   ]
  },
  {
   "cell_type": "code",
   "execution_count": 131,
   "metadata": {},
   "outputs": [],
   "source": [
    "#Pkg.add(\"PrettyTables\")"
   ]
  },
  {
   "cell_type": "code",
   "execution_count": 132,
   "metadata": {},
   "outputs": [],
   "source": [
    "using PrettyTables"
   ]
  },
  {
   "cell_type": "code",
   "execution_count": 133,
   "metadata": {},
   "outputs": [
    {
     "ename": "LoadError",
     "evalue": "UndefVarError: DML2_RF_1 not defined",
     "output_type": "error",
     "traceback": [
      "UndefVarError: DML2_RF_1 not defined",
      "",
      "Stacktrace:",
      " [1] top-level scope",
      "   @ In[133]:1",
      " [2] eval",
      "   @ .\\boot.jl:373 [inlined]",
      " [3] include_string(mapexpr::typeof(REPL.softscope), mod::Module, code::String, filename::String)",
      "   @ Base .\\loading.jl:1196"
     ]
    }
   ],
   "source": [
    "mods = [DML2_ols, DML_lasso_hdm, DML_post_lasso_hdm, DML2_lasso_cv_1, DML2_ridge, DML2_elnet, DML2_RF_1];\n",
    "mods_name = [\"DML2_ols\", \"DML2_lasso\", \"DML2_post_lasso\", \"DML2_lasso_cv\", \"DML2_ridge\", \"DML2_elnet\", \"DML2_RF\"];"
   ]
  },
  {
   "cell_type": "code",
   "execution_count": 134,
   "metadata": {},
   "outputs": [
    {
     "ename": "LoadError",
     "evalue": "UndefVarError: mods not defined",
     "output_type": "error",
     "traceback": [
      "UndefVarError: mods not defined",
      "",
      "Stacktrace:",
      " [1] top-level scope",
      "   @ .\\In[134]:4",
      " [2] eval",
      "   @ .\\boot.jl:373 [inlined]",
      " [3] include_string(mapexpr::typeof(REPL.softscope), mod::Module, code::String, filename::String)",
      "   @ Base .\\loading.jl:1196"
     ]
    }
   ],
   "source": [
    "RMSE_Y = []\n",
    "RMSE_D = []\n",
    "\n",
    "for i in mods\n",
    "    push!(RMSE_Y, sqrt(mean(i[2][!,1])^2))\n",
    "    push!(RMSE_D, sqrt(mean(i[2][!,2])^2))\n",
    "end\n",
    "\n",
    "result = DataFrame([mods_name RMSE_Y RMSE_D], [:Models, :RMSE_Y, :RMSE_D])\n",
    "pretty_table(result; formatters = ft_printf(\"%5.10f\"))"
   ]
  },
  {
   "cell_type": "markdown",
   "metadata": {},
   "source": [
    "It looks like the best method for predicting D is Lasso, and the best method for predicting Y is CV Ridge."
   ]
  },
  {
   "cell_type": "code",
   "execution_count": 135,
   "metadata": {},
   "outputs": [
    {
     "name": "stdout",
     "output_type": "stream",
     "text": [
      "Folds: \n",
      "1\n",
      "2\n",
      "3\n",
      "4\n",
      "5\n",
      "6\n",
      "7\n",
      "8\n",
      "9\n",
      "10\n",
      " coef (se) = 0.22111658387364352([0.056539747708417326])\n"
     ]
    }
   ],
   "source": [
    "#DML with cross-validated Lasso:\n",
    "dreg(z,d) = glmnetcv(z,d, alpha = 1)\n",
    "yreg(z,y) = glmnetcv(z,y, alpha = 0)\n",
    "\n",
    "DML2_best = DML2_lasso_cv(z, d, y, dreg, yreg, 10, clu);"
   ]
  },
  {
   "cell_type": "code",
   "execution_count": 136,
   "metadata": {},
   "outputs": [
    {
     "ename": "LoadError",
     "evalue": "UndefVarError: DML2_RF_1 not defined",
     "output_type": "error",
     "traceback": [
      "UndefVarError: DML2_RF_1 not defined",
      "",
      "Stacktrace:",
      " [1] top-level scope",
      "   @ In[136]:15",
      " [2] eval",
      "   @ .\\boot.jl:373 [inlined]",
      " [3] include_string(mapexpr::typeof(REPL.softscope), mod::Module, code::String, filename::String)",
      "   @ Base .\\loading.jl:1196"
     ]
    }
   ],
   "source": [
    "ols_coef = GLM.coeftable(baseline_ols).cols[1][1]\n",
    "ols_std = GLM.coeftable(baseline_ols).cols[2][1]\n",
    "control_ols_coef = GLM.coeftable(control_ols).cols[1][1]\n",
    "control_ols_std = GLM.coeftable(control_ols).cols[2][1]\n",
    "lasso_coef = GLM.coeftable(DML_lasso_hdm[1]).cols[1][1]\n",
    "lasso_std = GLM.coeftable(DML_lasso_hdm[1]).cols[2][1]\n",
    "lasso_post_coef = GLM.coeftable(DML_post_lasso_hdm[1]).cols[1][1]\n",
    "lasso_post_std = GLM.coeftable(DML_post_lasso_hdm[1]).cols[2][1]\n",
    "DML2_lasso_cv_1_coef = GLM.coeftable(DML2_lasso_cv_1[1]).cols[1][1]\n",
    "DML2_lasso_cv_1_std = GLM.coeftable(DML2_lasso_cv_1[1]).cols[2][1]\n",
    "DML2_elnet_coef = GLM.coeftable(DML2_elnet[1]).cols[1][1]\n",
    "DML2_elnet_std = GLM.coeftable(DML2_elnet[1]).cols[2][1]\n",
    "DML2_ridge_coef = GLM.coeftable(DML2_ridge[1]).cols[1][1]\n",
    "DML2_ridge_std = GLM.coeftable(DML2_ridge[1]).cols[2][1]\n",
    "DML2_RF_1_coef = GLM.coeftable(DML2_RF_1[1]).cols[1][1]\n",
    "DML2_RF_1_std = GLM.coeftable(DML2_RF_1[1]).cols[2][1]\n",
    "DML2_best_coef = GLM.coeftable(DML2_best).cols[1][1]\n",
    "DML2_best_std = GLM.coeftable(DML2_best).cols[2][1];"
   ]
  },
  {
   "cell_type": "code",
   "execution_count": 137,
   "metadata": {},
   "outputs": [
    {
     "ename": "LoadError",
     "evalue": "UndefVarError: DML2_RF_1_coef not defined",
     "output_type": "error",
     "traceback": [
      "UndefVarError: DML2_RF_1_coef not defined",
      "",
      "Stacktrace:",
      " [1] top-level scope",
      "   @ In[137]:1",
      " [2] eval",
      "   @ .\\boot.jl:373 [inlined]",
      " [3] include_string(mapexpr::typeof(REPL.softscope), mod::Module, code::String, filename::String)",
      "   @ Base .\\loading.jl:1196"
     ]
    }
   ],
   "source": [
    "tabla = DataFrame(modelos = [\"Baseline OLS\", \"Least Squares with controls\", \"Lasso\", \"Post_Lasso\", \"CV Lasso\", \"CV Elnet\", \"CV Ridge\", \"Random Forest\", \"Best\"], \n",
    "Estimate = [ols_coef, control_ols_coef, lasso_coef, lasso_post_coef , DML2_lasso_cv_1_coef, DML2_elnet_coef, DML2_ridge_coef, DML2_RF_1_coef, DML2_best_coef], \n",
    "StdError = [ols_std, control_ols_std, lasso_std, lasso_post_std , DML2_lasso_cv_1_std, DML2_elnet_std, DML2_ridge_std, DML2_RF_1_std, DML2_best_std])"
   ]
  },
  {
   "cell_type": "code",
   "execution_count": 138,
   "metadata": {},
   "outputs": [
    {
     "ename": "LoadError",
     "evalue": "UndefVarError: asso_post_coef not defined",
     "output_type": "error",
     "traceback": [
      "UndefVarError: asso_post_coef not defined",
      "",
      "Stacktrace:",
      " [1] top-level scope",
      "   @ In[138]:2",
      " [2] eval",
      "   @ .\\boot.jl:373 [inlined]",
      " [3] include_string(mapexpr::typeof(REPL.softscope), mod::Module, code::String, filename::String)",
      "   @ Base .\\loading.jl:1196"
     ]
    }
   ],
   "source": [
    "# The table in latex\n",
    "show(stdout, MIME(\"text/latex\"), DataFrame(modelos = [\"Baseline OLS\", \"Least Squares with controls\", \"Lasso\", \"Post_Lasso\",\"CV Lasso\", \"CV Elnet\", \"CV Ridge\"], \n",
    "Estimate = [ols_coef, control_ols_coef, lasso_coef, asso_post_coef , DML2_lasso_cv_1_coef, DML2_elnet_coef, DML2_ridge_coef], \n",
    "StdError = [ols_std, control_ols_std, lasso_std, lasso_post_std, DML2_lasso_cv_1_std, DML2_elnet_std, DML2_ridge_std]))"
   ]
  }
 ],
 "metadata": {
  "kernelspec": {
   "display_name": "Julia 1.7.3",
   "language": "julia",
   "name": "julia-1.7"
  },
  "language_info": {
   "file_extension": ".jl",
   "mimetype": "application/julia",
   "name": "julia",
   "version": "1.7.3"
  }
 },
 "nbformat": 4,
 "nbformat_minor": 2
}
