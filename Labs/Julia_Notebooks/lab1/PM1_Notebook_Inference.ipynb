{
 "cells": [
  {
   "cell_type": "markdown",
   "metadata": {},
   "source": [
    "* Python code replication of: \" https://www.kaggle.com/janniskueck/pm1-notebook-inference \"\n",
    "* Created by: Anzony Quispe & Alexander Quispe"
   ]
  },
  {
   "cell_type": "markdown",
   "metadata": {},
   "source": [
    "This notebook contains an example for teaching."
   ]
  },
  {
   "cell_type": "markdown",
   "metadata": {},
   "source": [
    "# An inferential problem: The Gender Wage Gap"
   ]
  },
  {
   "cell_type": "markdown",
   "metadata": {},
   "source": [
    "In the previous lab, we already analyzed data from the March Supplement of the U.S. Current Population Survey (2015) and answered the question how to use job-relevant characteristics, such as education and experience, to best predict wages. Now, we focus on the following inference question:\n",
    "\n",
    "What is the difference in predicted wages between men and women with the same job-relevant characteristics?\n",
    "\n",
    "Thus, we analyze if there is a difference in the payment of men and women (*gender wage gap*). The gender wage gap may partly reflect *discrimination* against women in the labor market or may partly reflect a *selection effect*, namely that women are relatively more likely to take on occupations that pay somewhat less (for example, school teaching)."
   ]
  },
  {
   "cell_type": "markdown",
   "metadata": {},
   "source": [
    "To investigate the gender wage gap, we consider the following log-linear regression model\n",
    "\n",
    "\\begin{align}\n",
    "\\log(Y) &= \\beta'X + \\epsilon\\\\\n",
    "&= \\beta_1 D  + \\beta_2' W + \\epsilon,\n",
    "\\end{align}\n",
    "\n",
    "where $D$ is the indicator of being female ($1$ if female and $0$ otherwise) and the\n",
    "$W$'s are controls explaining variation in wages. Considering transformed wages by the logarithm, we are analyzing the relative difference in the payment of men and women."
   ]
  },
  {
   "cell_type": "markdown",
   "metadata": {},
   "source": [
    "## Data Analysis"
   ]
  },
  {
   "cell_type": "markdown",
   "metadata": {},
   "source": [
    "We consider the same subsample of the U.S. Current Population Survey (2015) as in the previous lab. Let us load the data set.\n",
    "\n"
   ]
  },
  {
   "cell_type": "code",
   "execution_count": null,
   "metadata": {},
   "outputs": [],
   "source": [
    "using Pkg\n",
    "Pkg.add(\"CSV\")\n",
    "Pkg.add(\"DataFrames\")\n",
    "Pkg.add(\"Dates\")\n",
    "Pkg.add(\"Plots\")\n",
    "Pkg.add(\"GLMNet\")\n",
    "Pkg.add(\"CategoricalArrays\")\n",
    "using GLMNet\n",
    "using CSV\n",
    "using DataFrames\n",
    "using Dates\n",
    "using Plots\n",
    "using Statistics\n",
    "using CategoricalArrays"
   ]
  },
  {
   "cell_type": "code",
   "execution_count": 8,
   "metadata": {},
   "outputs": [
    {
     "name": "stdout",
     "output_type": "stream",
     "text": [
      "Number of Rows : 5150\n",
      "Number of Columns : 21\n"
     ]
    }
   ],
   "source": [
    "cd(\"C:\\\\Users\\\\Roberto Carlos\\\\Documents\\\\GitHub\\\\ECO224\\\\data\")\n",
    "\n",
    "data = CSV.File(\"wage2015_subsample_inference.csv\"; types = Dict(\"occ\" => String,\"occ2\"=> String,\"ind\"=>String,\"ind2\"=>String)) |> DataFrame\n",
    "println(\"Number of Rows : \", size(data)[1],\"\\n\",\"Number of Columns : \", size(data)[2],) #rows and columns"
   ]
  },
  {
   "cell_type": "markdown",
   "metadata": {},
   "source": [
    "***Variable description***\n",
    "\n",
    "- occ : occupational classification\n",
    "- ind : industry classification\n",
    "- lwage : log hourly wage\n",
    "- sex : gender (1 female) (0 male)\n",
    "- shs : some high school\n",
    "- hsg : High school graduated\n",
    "- scl : Some College\n",
    "- clg: College Graduate\n",
    "- ad: Advanced Degree\n",
    "- ne: Northeast\n",
    "- mw: Midwest\n",
    "- so: South\n",
    "- we: West\n",
    "- exp1: experience"
   ]
  },
  {
   "cell_type": "code",
   "execution_count": 9,
   "metadata": {},
   "outputs": [
    {
     "data": {
      "text/html": [
       "<div class=\"data-frame\"><p>21 rows × 7 columns</p><table class=\"data-frame\"><thead><tr><th></th><th>variable</th><th>mean</th><th>min</th><th>median</th><th>max</th><th>nmissing</th><th>eltype</th></tr><tr><th></th><th title=\"Symbol\">Symbol</th><th title=\"Union{Nothing, Float64}\">Union…</th><th title=\"Any\">Any</th><th title=\"Union{Nothing, Float64}\">Union…</th><th title=\"Any\">Any</th><th title=\"Int64\">Int64</th><th title=\"DataType\">DataType</th></tr></thead><tbody><tr><th>1</th><td>rownames</td><td>15636.3</td><td>10</td><td>15260.0</td><td>32643</td><td>0</td><td>Int64</td></tr><tr><th>2</th><td>wage</td><td>23.4104</td><td>3.02198</td><td>19.2308</td><td>528.846</td><td>0</td><td>Float64</td></tr><tr><th>3</th><td>lwage</td><td>2.97079</td><td>1.10591</td><td>2.95651</td><td>6.2707</td><td>0</td><td>Float64</td></tr><tr><th>4</th><td>sex</td><td>0.444466</td><td>0.0</td><td>0.0</td><td>1.0</td><td>0</td><td>Float64</td></tr><tr><th>5</th><td>shs</td><td>0.023301</td><td>0.0</td><td>0.0</td><td>1.0</td><td>0</td><td>Float64</td></tr><tr><th>6</th><td>hsg</td><td>0.243883</td><td>0.0</td><td>0.0</td><td>1.0</td><td>0</td><td>Float64</td></tr><tr><th>7</th><td>scl</td><td>0.278058</td><td>0.0</td><td>0.0</td><td>1.0</td><td>0</td><td>Float64</td></tr><tr><th>8</th><td>clg</td><td>0.31767</td><td>0.0</td><td>0.0</td><td>1.0</td><td>0</td><td>Float64</td></tr><tr><th>9</th><td>ad</td><td>0.137087</td><td>0.0</td><td>0.0</td><td>1.0</td><td>0</td><td>Float64</td></tr><tr><th>10</th><td>mw</td><td>0.259612</td><td>0.0</td><td>0.0</td><td>1.0</td><td>0</td><td>Float64</td></tr><tr><th>11</th><td>so</td><td>0.296505</td><td>0.0</td><td>0.0</td><td>1.0</td><td>0</td><td>Float64</td></tr><tr><th>12</th><td>we</td><td>0.216117</td><td>0.0</td><td>0.0</td><td>1.0</td><td>0</td><td>Float64</td></tr><tr><th>13</th><td>ne</td><td>0.227767</td><td>0.0</td><td>0.0</td><td>1.0</td><td>0</td><td>Float64</td></tr><tr><th>14</th><td>exp1</td><td>13.7606</td><td>0.0</td><td>10.0</td><td>47.0</td><td>0</td><td>Float64</td></tr><tr><th>15</th><td>exp2</td><td>3.01893</td><td>0.0</td><td>1.0</td><td>22.09</td><td>0</td><td>Float64</td></tr><tr><th>16</th><td>exp3</td><td>8.23587</td><td>0.0</td><td>1.0</td><td>103.823</td><td>0</td><td>Float64</td></tr><tr><th>17</th><td>exp4</td><td>25.118</td><td>0.0</td><td>1.0</td><td>487.968</td><td>0</td><td>Float64</td></tr><tr><th>18</th><td>occ</td><td></td><td>10</td><td></td><td>9750</td><td>0</td><td>String</td></tr><tr><th>19</th><td>occ2</td><td></td><td>1</td><td></td><td>9</td><td>0</td><td>String</td></tr><tr><th>20</th><td>ind</td><td></td><td>1070</td><td></td><td>9590</td><td>0</td><td>String</td></tr><tr><th>21</th><td>ind2</td><td></td><td>10</td><td></td><td>9</td><td>0</td><td>String</td></tr></tbody></table></div>"
      ],
      "text/latex": [
       "\\begin{tabular}{r|ccccccc}\n",
       "\t& variable & mean & min & median & max & nmissing & eltype\\\\\n",
       "\t\\hline\n",
       "\t& Symbol & Union… & Any & Union… & Any & Int64 & DataType\\\\\n",
       "\t\\hline\n",
       "\t1 & rownames & 15636.3 & 10 & 15260.0 & 32643 & 0 & Int64 \\\\\n",
       "\t2 & wage & 23.4104 & 3.02198 & 19.2308 & 528.846 & 0 & Float64 \\\\\n",
       "\t3 & lwage & 2.97079 & 1.10591 & 2.95651 & 6.2707 & 0 & Float64 \\\\\n",
       "\t4 & sex & 0.444466 & 0.0 & 0.0 & 1.0 & 0 & Float64 \\\\\n",
       "\t5 & shs & 0.023301 & 0.0 & 0.0 & 1.0 & 0 & Float64 \\\\\n",
       "\t6 & hsg & 0.243883 & 0.0 & 0.0 & 1.0 & 0 & Float64 \\\\\n",
       "\t7 & scl & 0.278058 & 0.0 & 0.0 & 1.0 & 0 & Float64 \\\\\n",
       "\t8 & clg & 0.31767 & 0.0 & 0.0 & 1.0 & 0 & Float64 \\\\\n",
       "\t9 & ad & 0.137087 & 0.0 & 0.0 & 1.0 & 0 & Float64 \\\\\n",
       "\t10 & mw & 0.259612 & 0.0 & 0.0 & 1.0 & 0 & Float64 \\\\\n",
       "\t11 & so & 0.296505 & 0.0 & 0.0 & 1.0 & 0 & Float64 \\\\\n",
       "\t12 & we & 0.216117 & 0.0 & 0.0 & 1.0 & 0 & Float64 \\\\\n",
       "\t13 & ne & 0.227767 & 0.0 & 0.0 & 1.0 & 0 & Float64 \\\\\n",
       "\t14 & exp1 & 13.7606 & 0.0 & 10.0 & 47.0 & 0 & Float64 \\\\\n",
       "\t15 & exp2 & 3.01893 & 0.0 & 1.0 & 22.09 & 0 & Float64 \\\\\n",
       "\t16 & exp3 & 8.23587 & 0.0 & 1.0 & 103.823 & 0 & Float64 \\\\\n",
       "\t17 & exp4 & 25.118 & 0.0 & 1.0 & 487.968 & 0 & Float64 \\\\\n",
       "\t18 & occ &  & 10 &  & 9750 & 0 & String \\\\\n",
       "\t19 & occ2 &  & 1 &  & 9 & 0 & String \\\\\n",
       "\t20 & ind &  & 1070 &  & 9590 & 0 & String \\\\\n",
       "\t21 & ind2 &  & 10 &  & 9 & 0 & String \\\\\n",
       "\\end{tabular}\n"
      ],
      "text/plain": [
       "\u001b[1m21×7 DataFrame\u001b[0m\n",
       "\u001b[1m Row \u001b[0m│\u001b[1m variable \u001b[0m\u001b[1m mean     \u001b[0m\u001b[1m min     \u001b[0m\u001b[1m median  \u001b[0m\u001b[1m max     \u001b[0m\u001b[1m nmissing \u001b[0m\u001b[1m eltype   \u001b[0m\n",
       "\u001b[1m     \u001b[0m│\u001b[90m Symbol   \u001b[0m\u001b[90m Union…   \u001b[0m\u001b[90m Any     \u001b[0m\u001b[90m Union…  \u001b[0m\u001b[90m Any     \u001b[0m\u001b[90m Int64    \u001b[0m\u001b[90m DataType \u001b[0m\n",
       "─────┼───────────────────────────────────────────────────────────────────\n",
       "   1 │ rownames  15636.3   10       15260.0  32643           0  Int64\n",
       "   2 │ wage      23.4104   3.02198  19.2308  528.846         0  Float64\n",
       "   3 │ lwage     2.97079   1.10591  2.95651  6.2707          0  Float64\n",
       "   4 │ sex       0.444466  0.0      0.0      1.0             0  Float64\n",
       "   5 │ shs       0.023301  0.0      0.0      1.0             0  Float64\n",
       "   6 │ hsg       0.243883  0.0      0.0      1.0             0  Float64\n",
       "   7 │ scl       0.278058  0.0      0.0      1.0             0  Float64\n",
       "   8 │ clg       0.31767   0.0      0.0      1.0             0  Float64\n",
       "   9 │ ad        0.137087  0.0      0.0      1.0             0  Float64\n",
       "  10 │ mw        0.259612  0.0      0.0      1.0             0  Float64\n",
       "  11 │ so        0.296505  0.0      0.0      1.0             0  Float64\n",
       "  12 │ we        0.216117  0.0      0.0      1.0             0  Float64\n",
       "  13 │ ne        0.227767  0.0      0.0      1.0             0  Float64\n",
       "  14 │ exp1      13.7606   0.0      10.0     47.0            0  Float64\n",
       "  15 │ exp2      3.01893   0.0      1.0      22.09           0  Float64\n",
       "  16 │ exp3      8.23587   0.0      1.0      103.823         0  Float64\n",
       "  17 │ exp4      25.118    0.0      1.0      487.968         0  Float64\n",
       "  18 │ occ      \u001b[90m          \u001b[0m 10      \u001b[90m         \u001b[0m 9750            0  String\n",
       "  19 │ occ2     \u001b[90m          \u001b[0m 1       \u001b[90m         \u001b[0m 9               0  String\n",
       "  20 │ ind      \u001b[90m          \u001b[0m 1070    \u001b[90m         \u001b[0m 9590            0  String\n",
       "  21 │ ind2     \u001b[90m          \u001b[0m 10      \u001b[90m         \u001b[0m 9               0  String"
      ]
     },
     "execution_count": 9,
     "metadata": {},
     "output_type": "execute_result"
    }
   ],
   "source": [
    "describe(data)"
   ]
  },
  {
   "cell_type": "code",
   "execution_count": 10,
   "metadata": {},
   "outputs": [
    {
     "data": {
      "text/plain": [
       "21-element Vector{DataType}:\n",
       " Int64\n",
       " Float64\n",
       " Float64\n",
       " Float64\n",
       " Float64\n",
       " Float64\n",
       " Float64\n",
       " Float64\n",
       " Float64\n",
       " Float64\n",
       " Float64\n",
       " Float64\n",
       " Float64\n",
       " Float64\n",
       " Float64\n",
       " Float64\n",
       " Float64\n",
       " String\n",
       " String\n",
       " String\n",
       " String"
      ]
     },
     "execution_count": 10,
     "metadata": {},
     "output_type": "execute_result"
    }
   ],
   "source": [
    "#we have to verify that all the columns has the appropiate data type because we use some categorical variable in this julia_notebooks\n",
    "[eltype(col) for col = eachcol(data)]"
   ]
  },
  {
   "cell_type": "code",
   "execution_count": 11,
   "metadata": {},
   "outputs": [
    {
     "ename": "LoadError",
     "evalue": "UndefVarError: categorical! not defined",
     "output_type": "error",
     "traceback": [
      "UndefVarError: categorical! not defined",
      "",
      "Stacktrace:",
      " [1] top-level scope",
      "   @ In[11]:2",
      " [2] eval",
      "   @ .\\boot.jl:373 [inlined]",
      " [3] include_string(mapexpr::typeof(REPL.softscope), mod::Module, code::String, filename::String)",
      "   @ Base .\\loading.jl:1196"
     ]
    }
   ],
   "source": [
    "# we can notice that some categorical features now are string so we have to change this \n",
    "categorical!(data, [:occ,:occ2,:ind,:ind2])\n",
    "[eltype(col) for col = eachcol(data)]"
   ]
  },
  {
   "cell_type": "markdown",
   "metadata": {},
   "source": [
    "To start our (causal) analysis, we compare the sample means given gender:"
   ]
  },
  {
   "cell_type": "code",
   "execution_count": 12,
   "metadata": {},
   "outputs": [
    {
     "data": {
      "text/html": [
       "<div class=\"data-frame\"><p>12 rows × 4 columns</p><table class=\"data-frame\"><thead><tr><th></th><th>variables</th><th>All</th><th>Men</th><th>Female</th></tr><tr><th></th><th title=\"String\">String</th><th title=\"Float64\">Float64</th><th title=\"Float64\">Float64</th><th title=\"Float64\">Float64</th></tr></thead><tbody><tr><th>1</th><td>lwage</td><td>2.97079</td><td>2.98783</td><td>2.94948</td></tr><tr><th>2</th><td>sex</td><td>0.444466</td><td>0.0</td><td>1.0</td></tr><tr><th>3</th><td>shs</td><td>0.023301</td><td>0.0318071</td><td>0.0126693</td></tr><tr><th>4</th><td>hsg</td><td>0.243883</td><td>0.294303</td><td>0.180865</td></tr><tr><th>5</th><td>scl</td><td>0.278058</td><td>0.273331</td><td>0.283967</td></tr><tr><th>6</th><td>clg</td><td>0.31767</td><td>0.293953</td><td>0.347313</td></tr><tr><th>7</th><td>ad</td><td>0.137087</td><td>0.106606</td><td>0.175186</td></tr><tr><th>8</th><td>ne</td><td>0.227767</td><td>0.22195</td><td>0.235037</td></tr><tr><th>9</th><td>mw</td><td>0.259612</td><td>0.259</td><td>0.260376</td></tr><tr><th>10</th><td>so</td><td>0.296505</td><td>0.298148</td><td>0.294452</td></tr><tr><th>11</th><td>we</td><td>0.216117</td><td>0.220902</td><td>0.210135</td></tr><tr><th>12</th><td>exp1</td><td>13.7606</td><td>13.784</td><td>13.7313</td></tr></tbody></table></div>"
      ],
      "text/latex": [
       "\\begin{tabular}{r|cccc}\n",
       "\t& variables & All & Men & Female\\\\\n",
       "\t\\hline\n",
       "\t& String & Float64 & Float64 & Float64\\\\\n",
       "\t\\hline\n",
       "\t1 & lwage & 2.97079 & 2.98783 & 2.94948 \\\\\n",
       "\t2 & sex & 0.444466 & 0.0 & 1.0 \\\\\n",
       "\t3 & shs & 0.023301 & 0.0318071 & 0.0126693 \\\\\n",
       "\t4 & hsg & 0.243883 & 0.294303 & 0.180865 \\\\\n",
       "\t5 & scl & 0.278058 & 0.273331 & 0.283967 \\\\\n",
       "\t6 & clg & 0.31767 & 0.293953 & 0.347313 \\\\\n",
       "\t7 & ad & 0.137087 & 0.106606 & 0.175186 \\\\\n",
       "\t8 & ne & 0.227767 & 0.22195 & 0.235037 \\\\\n",
       "\t9 & mw & 0.259612 & 0.259 & 0.260376 \\\\\n",
       "\t10 & so & 0.296505 & 0.298148 & 0.294452 \\\\\n",
       "\t11 & we & 0.216117 & 0.220902 & 0.210135 \\\\\n",
       "\t12 & exp1 & 13.7606 & 13.784 & 13.7313 \\\\\n",
       "\\end{tabular}\n"
      ],
      "text/plain": [
       "\u001b[1m12×4 DataFrame\u001b[0m\n",
       "\u001b[1m Row \u001b[0m│\u001b[1m variables \u001b[0m\u001b[1m All       \u001b[0m\u001b[1m Men        \u001b[0m\u001b[1m Female     \u001b[0m\n",
       "\u001b[1m     \u001b[0m│\u001b[90m String    \u001b[0m\u001b[90m Float64   \u001b[0m\u001b[90m Float64    \u001b[0m\u001b[90m Float64    \u001b[0m\n",
       "─────┼──────────────────────────────────────────────\n",
       "   1 │ lwage       2.97079    2.98783     2.94948\n",
       "   2 │ sex         0.444466   0.0         1.0\n",
       "   3 │ shs         0.023301   0.0318071   0.0126693\n",
       "   4 │ hsg         0.243883   0.294303    0.180865\n",
       "   5 │ scl         0.278058   0.273331    0.283967\n",
       "   6 │ clg         0.31767    0.293953    0.347313\n",
       "   7 │ ad          0.137087   0.106606    0.175186\n",
       "   8 │ ne          0.227767   0.22195     0.235037\n",
       "   9 │ mw          0.259612   0.259       0.260376\n",
       "  10 │ so          0.296505   0.298148    0.294452\n",
       "  11 │ we          0.216117   0.220902    0.210135\n",
       "  12 │ exp1       13.7606    13.784      13.7313"
      ]
     },
     "execution_count": 12,
     "metadata": {},
     "output_type": "execute_result"
    }
   ],
   "source": [
    "Z = select(data, [\"lwage\",\"sex\",\"shs\",\"hsg\",\"scl\",\"clg\",\"ad\",\"ne\",\"mw\",\"so\",\"we\",\"exp1\"])\n",
    "\n",
    "data_female = filter(row -> row.sex == 1, data)\n",
    "Z_female = select(data_female,[\"lwage\",\"sex\",\"shs\",\"hsg\",\"scl\",\"clg\",\"ad\",\"ne\",\"mw\",\"so\",\"we\",\"exp1\"] )\n",
    "\n",
    "data_male = filter(row -> row.sex == 0, data)\n",
    "Z_male = select(data_male,[\"lwage\",\"sex\",\"shs\",\"hsg\",\"scl\",\"clg\",\"ad\",\"ne\",\"mw\",\"so\",\"we\",\"exp1\"] )\n",
    "\n",
    "means = DataFrame( variables = names(Z), All = describe(Z, :mean)[!,2], Men = describe(Z_male,:mean)[!,2], Female = describe(Z_female,:mean)[!,2])\n"
   ]
  },
  {
   "cell_type": "markdown",
   "metadata": {},
   "source": [
    "In particular, the table above shows that the difference in average logwage between men and women is equal to $0,038$"
   ]
  },
  {
   "cell_type": "code",
   "execution_count": 13,
   "metadata": {},
   "outputs": [
    {
     "data": {
      "text/plain": [
       "-0.03834473367441493"
      ]
     },
     "execution_count": 13,
     "metadata": {},
     "output_type": "execute_result"
    }
   ],
   "source": [
    "mean(Z_female[:,:lwage]) - mean(Z_male[:,:lwage])"
   ]
  },
  {
   "cell_type": "markdown",
   "metadata": {},
   "source": [
    "Thus, the unconditional gender wage gap is about $3,8$\\% for the group of never married workers (women get paid less on average in our sample). We also observe that never married working women are relatively more educated than working men and have lower working experience."
   ]
  },
  {
   "cell_type": "markdown",
   "metadata": {},
   "source": [
    "This unconditional (predictive) effect of gender equals the coefficient $\\beta$ in the univariate ols regression of $Y$ on $D$:\n",
    "\n",
    "\\begin{align}\n",
    "\\log(Y) &=\\beta D + \\epsilon.\n",
    "\\end{align}"
   ]
  },
  {
   "cell_type": "markdown",
   "metadata": {},
   "source": [
    "We verify this by running an ols regression in Julia."
   ]
  },
  {
   "cell_type": "code",
   "execution_count": null,
   "metadata": {},
   "outputs": [
    {
     "name": "stderr",
     "output_type": "stream",
     "text": [
      "\u001b[32m\u001b[1m   Resolving\u001b[22m\u001b[39m package versions...\n",
      "\u001b[32m\u001b[1m  No Changes\u001b[22m\u001b[39m to `C:\\Users\\Roberto Carlos\\.julia\\environments\\v1.7\\Project.toml`\n",
      "\u001b[32m\u001b[1m  No Changes\u001b[22m\u001b[39m to `C:\\Users\\Roberto Carlos\\.julia\\environments\\v1.7\\Manifest.toml`\n",
      "\u001b[32m\u001b[1m   Resolving\u001b[22m\u001b[39m package versions...\n",
      "\u001b[32m\u001b[1m   Installed\u001b[22m\u001b[39m StatsFuns ────────────── v0.9.7\n",
      "\u001b[32m\u001b[1m   Installed\u001b[22m\u001b[39m PDMats ───────────────── v0.11.7\n",
      "\u001b[32m\u001b[1m   Installed\u001b[22m\u001b[39m GR_jll ───────────────── v0.64.2+0\n",
      "\u001b[32m\u001b[1m   Installed\u001b[22m\u001b[39m StaticArrays ─────────── v1.4.3\n",
      "\u001b[32m\u001b[1m   Installed\u001b[22m\u001b[39m DSP ──────────────────── v0.6.10\n",
      "\u001b[32m\u001b[1m   Installed\u001b[22m\u001b[39m DoubleFloats ─────────── v1.1.28\n",
      "\u001b[32m\u001b[1m   Installed\u001b[22m\u001b[39m ProgressMeter ────────── v1.7.2\n",
      "\u001b[32m\u001b[1m   Installed\u001b[22m\u001b[39m PlotUtils ────────────── v1.2.0\n",
      "\u001b[32m\u001b[1m   Installed\u001b[22m\u001b[39m Roots ────────────────── v1.4.0\n",
      "\u001b[32m\u001b[1m   Installed\u001b[22m\u001b[39m RecipesPipeline ──────── v0.5.2\n",
      "\u001b[32m\u001b[1m   Installed\u001b[22m\u001b[39m MLBase ───────────────── v0.8.0\n",
      "\u001b[32m\u001b[1m   Installed\u001b[22m\u001b[39m StructuralCausalModels ─ v1.0.8\n",
      "\u001b[32m\u001b[1m   Installed\u001b[22m\u001b[39m GPUArrays ────────────── v8.3.1\n",
      "\u001b[32m\u001b[1m   Installed\u001b[22m\u001b[39m Polynomials ──────────── v1.2.1\n",
      "\u001b[32m\u001b[1m   Installed\u001b[22m\u001b[39m GLM ──────────────────── v1.6.2\n",
      "\u001b[32m\u001b[1m   Installed\u001b[22m\u001b[39m DataFrames ───────────── v0.22.7\n",
      "\u001b[32m\u001b[1m   Installed\u001b[22m\u001b[39m EllipsisNotation ─────── v1.5.0\n",
      "\u001b[32m\u001b[1m   Installed\u001b[22m\u001b[39m WeakRefStrings ───────── v1.1.0\n",
      "\u001b[32m\u001b[1m   Installed\u001b[22m\u001b[39m SpecialFunctions ─────── v1.8.4\n",
      "\u001b[32m\u001b[1m   Installed\u001b[22m\u001b[39m HypothesisTests ──────── v0.10.8\n",
      "\u001b[32m\u001b[1m   Installed\u001b[22m\u001b[39m Lasso ────────────────── v0.6.1\n",
      "\u001b[32m\u001b[1m   Installed\u001b[22m\u001b[39m GR ───────────────────── v0.64.2\n",
      "\u001b[32m\u001b[1m   Installed\u001b[22m\u001b[39m ChainRules ───────────── v1.28.1\n",
      "\u001b[32m\u001b[1m   Installed\u001b[22m\u001b[39m Plots ────────────────── v1.27.4\n",
      "\u001b[32m\u001b[1m   Installed\u001b[22m\u001b[39m StanSample ───────────── v3.0.11\n",
      "\u001b[32m\u001b[1m   Installed\u001b[22m\u001b[39m MonteCarloMeasurements ─ v0.10.4\n",
      "\u001b[32m\u001b[1m   Installed\u001b[22m\u001b[39m FreeTypeAbstraction ──── v0.9.7\n",
      "\u001b[32m\u001b[1m   Installed\u001b[22m\u001b[39m Expat_jll ────────────── v2.4.8+0\n",
      "\u001b[32m\u001b[1m   Installed\u001b[22m\u001b[39m Intervals ────────────── v1.5.0\n",
      "\u001b[32m\u001b[1m   Installed\u001b[22m\u001b[39m Parsers ──────────────── v1.1.2\n",
      "\u001b[32m\u001b[1m   Installed\u001b[22m\u001b[39m PooledArrays ─────────── v1.4.1\n",
      "\u001b[32m\u001b[1m   Installed\u001b[22m\u001b[39m Hwloc_jll ────────────── v2.7.1+0\n",
      "\u001b[32m\u001b[1m   Installed\u001b[22m\u001b[39m PrettyTables ─────────── v0.11.1\n",
      "\u001b[32m\u001b[1m   Installed\u001b[22m\u001b[39m Reexport ─────────────── v0.2.0\n",
      "\u001b[32m\u001b[1m   Installed\u001b[22m\u001b[39m TimeZones ────────────── v1.5.9\n",
      "\u001b[32m\u001b[1m   Installed\u001b[22m\u001b[39m Zygote ───────────────── v0.6.37\n",
      "\u001b[32m\u001b[1m   Installed\u001b[22m\u001b[39m ChainRulesCore ───────── v1.14.0\n",
      "\u001b[32m\u001b[1m   Installed\u001b[22m\u001b[39m LogExpFunctions ──────── v0.3.10\n",
      "\u001b[32m\u001b[1m   Installed\u001b[22m\u001b[39m IntervalSets ─────────── v0.5.4\n",
      "\u001b[32m\u001b[1m   Installed\u001b[22m\u001b[39m VectorizationBase ────── v0.21.26\n",
      "\u001b[32m\u001b[1m   Installed\u001b[22m\u001b[39m OpenSSL_jll ──────────── v1.1.14+0\n",
      "\u001b[32m\u001b[1m   Installed\u001b[22m\u001b[39m CPUSummary ───────────── v0.1.18\n",
      "\u001b[32m\u001b[1m   Installed\u001b[22m\u001b[39m Dictionaries ─────────── v0.3.19\n",
      "\u001b[32m\u001b[1m   Installed\u001b[22m\u001b[39m Latexify ─────────────── v0.15.14\n",
      "\u001b[32m\u001b[1m   Installed\u001b[22m\u001b[39m CairoMakie ───────────── v0.7.5\n",
      "\u001b[32m\u001b[1m   Installed\u001b[22m\u001b[39m StanBase ─────────────── v2.4.1\n",
      "\u001b[32m\u001b[1m   Installed\u001b[22m\u001b[39m FilePathsBase ────────── v0.9.18\n",
      "\u001b[32m\u001b[1m   Installed\u001b[22m\u001b[39m FillArrays ───────────── v0.11.9\n",
      "\u001b[32m\u001b[1m   Installed\u001b[22m\u001b[39m Lathe ────────────────── v0.1.6\n",
      "\u001b[32m\u001b[1m   Installed\u001b[22m\u001b[39m CSV ──────────────────── v0.8.5\n",
      "\u001b[32m\u001b[1m   Installed\u001b[22m\u001b[39m SortingAlgorithms ────── v0.3.1\n",
      "\u001b[32m\u001b[1m   Installed\u001b[22m\u001b[39m Distributions ────────── v0.24.18\n",
      "\u001b[32m\u001b[1m   Installed\u001b[22m\u001b[39m Documenter ───────────── v0.27.15\n",
      "\u001b[32m\u001b[1m   Installed\u001b[22m\u001b[39m CUDA ─────────────────── v3.8.5\n",
      "\u001b[32m\u001b[1m   Installed\u001b[22m\u001b[39m Makie ────────────────── v0.16.6\n",
      "\u001b[32m\u001b[1m    Updating\u001b[22m\u001b[39m `C:\\Users\\Roberto Carlos\\.julia\\environments\\v1.7\\Project.toml`\n",
      " \u001b[90m [336ed68f] \u001b[39m\u001b[95m↓ CSV v0.10.3 ⇒ v0.8.5\u001b[39m\n",
      " \u001b[90m [13f3f980] \u001b[39m\u001b[93m↑ CairoMakie v0.7.4 ⇒ v0.7.5\u001b[39m\n",
      " \u001b[90m [a93c6f00] \u001b[39m\u001b[95m↓ DataFrames v1.3.2 ⇒ v0.22.7\u001b[39m\n",
      " \u001b[90m [31c24e10] \u001b[39m\u001b[95m↓ Distributions v0.25.49 ⇒ v0.24.18\u001b[39m\n",
      " \u001b[90m [38e38edf] \u001b[39m\u001b[93m↑ GLM v1.6.1 ⇒ v1.6.2\u001b[39m\n",
      " \u001b[90m [09f84164] \u001b[39m\u001b[93m↑ HypothesisTests v0.10.7 ⇒ v0.10.8\u001b[39m\n",
      " \u001b[90m [b4fcebef] \u001b[39m\u001b[95m↓ Lasso v0.6.3 ⇒ v0.6.1\u001b[39m\n",
      " \u001b[90m [23fbe1c1] \u001b[39m\u001b[93m↑ Latexify v0.15.13 ⇒ v0.15.14\u001b[39m\n",
      " \u001b[90m [38d8eb38] \u001b[39m\u001b[92m+ Lathe v0.1.6\u001b[39m\n",
      " \u001b[90m [91a5bcdd] \u001b[39m\u001b[93m↑ Plots v1.26.0 ⇒ v1.27.4\u001b[39m\n",
      " \u001b[90m [08abe8d2] \u001b[39m\u001b[95m↓ PrettyTables v1.3.1 ⇒ v0.11.1\u001b[39m\n",
      " \u001b[90m [c1514b29] \u001b[39m\u001b[95m↓ StanSample v6.4.0 ⇒ v3.0.11\u001b[39m\n",
      " \u001b[90m [a41e6734] \u001b[39m\u001b[95m↓ StructuralCausalModels v1.3.1 ⇒ v1.0.8\u001b[39m\n",
      " \u001b[90m [e88e6eb3] \u001b[39m\u001b[93m↑ Zygote v0.6.36 ⇒ v0.6.37\u001b[39m\n",
      "\u001b[32m\u001b[1m    Updating\u001b[22m\u001b[39m `C:\\Users\\Roberto Carlos\\.julia\\environments\\v1.7\\Manifest.toml`\n",
      " \u001b[90m [2a0fbf3d] \u001b[39m\u001b[93m↑ CPUSummary v0.1.15 ⇒ v0.1.18\u001b[39m\n",
      " \u001b[90m [336ed68f] \u001b[39m\u001b[95m↓ CSV v0.10.3 ⇒ v0.8.5\u001b[39m\n",
      " \u001b[90m [052768ef] \u001b[39m\u001b[93m↑ CUDA v3.8.3 ⇒ v3.8.5\u001b[39m\n",
      " \u001b[90m [13f3f980] \u001b[39m\u001b[93m↑ CairoMakie v0.7.4 ⇒ v0.7.5\u001b[39m\n",
      " \u001b[90m [49dc2e85] \u001b[39m\u001b[91m- Calculus v0.5.1\u001b[39m\n",
      " \u001b[90m [082447d4] \u001b[39m\u001b[93m↑ ChainRules v1.28.0 ⇒ v1.28.1\u001b[39m\n",
      " \u001b[90m [d360d2e6] \u001b[39m\u001b[93m↑ ChainRulesCore v1.13.0 ⇒ v1.14.0\u001b[39m\n",
      " \u001b[90m [5224ae11] \u001b[39m\u001b[91m- CompatHelperLocal v0.1.20\u001b[39m\n",
      " \u001b[90m [717857b8] \u001b[39m\u001b[95m↓ DSP v0.7.5 ⇒ v0.6.10\u001b[39m\n",
      " \u001b[90m [a93c6f00] \u001b[39m\u001b[95m↓ DataFrames v1.3.2 ⇒ v0.22.7\u001b[39m\n",
      " \u001b[90m [b429d917] \u001b[39m\u001b[91m- DensityInterface v0.4.0\u001b[39m\n",
      " \u001b[90m [85a47980] \u001b[39m\u001b[93m↑ Dictionaries v0.3.18 ⇒ v0.3.19\u001b[39m\n",
      " \u001b[90m [31c24e10] \u001b[39m\u001b[95m↓ Distributions v0.25.49 ⇒ v0.24.18\u001b[39m\n",
      " \u001b[90m [e30172f5] \u001b[39m\u001b[93m↑ Documenter v0.27.14 ⇒ v0.27.15\u001b[39m\n",
      " \u001b[90m [497a8b3b] \u001b[39m\u001b[93m↑ DoubleFloats v1.1.27 ⇒ v1.1.28\u001b[39m\n",
      " \u001b[90m [fa6b7ba4] \u001b[39m\u001b[91m- DualNumbers v0.6.7\u001b[39m\n",
      " \u001b[90m [da5c29d0] \u001b[39m\u001b[93m↑ EllipsisNotation v1.3.0 ⇒ v1.5.0\u001b[39m\n",
      " \u001b[90m [48062228] \u001b[39m\u001b[93m↑ FilePathsBase v0.9.17 ⇒ v0.9.18\u001b[39m\n",
      " \u001b[90m [1a297f60] \u001b[39m\u001b[95m↓ FillArrays v0.13.1 ⇒ v0.11.9\u001b[39m\n",
      " \u001b[90m [663a7486] \u001b[39m\u001b[93m↑ FreeTypeAbstraction v0.9.5 ⇒ v0.9.7\u001b[39m\n",
      " \u001b[90m [38e38edf] \u001b[39m\u001b[93m↑ GLM v1.6.1 ⇒ v1.6.2\u001b[39m\n",
      " \u001b[90m [0c68f7d7] \u001b[39m\u001b[93m↑ GPUArrays v8.2.1 ⇒ v8.3.1\u001b[39m\n",
      " \u001b[90m [28b8d3ca] \u001b[39m\u001b[93m↑ GR v0.64.0 ⇒ v0.64.2\u001b[39m\n",
      " \u001b[90m [34004b35] \u001b[39m\u001b[91m- HypergeometricFunctions v0.3.8\u001b[39m\n",
      " \u001b[90m [09f84164] \u001b[39m\u001b[93m↑ HypothesisTests v0.10.7 ⇒ v0.10.8\u001b[39m\n",
      " \u001b[90m [842dd82b] \u001b[39m\u001b[91m- InlineStrings v1.1.2\u001b[39m\n",
      " \u001b[90m [8197267c] \u001b[39m\u001b[93m↑ IntervalSets v0.5.3 ⇒ v0.5.4\u001b[39m\n",
      " \u001b[90m [d8418881] \u001b[39m\u001b[92m+ Intervals v1.5.0\u001b[39m\n",
      " \u001b[90m [b4fcebef] \u001b[39m\u001b[95m↓ Lasso v0.6.3 ⇒ v0.6.1\u001b[39m\n",
      " \u001b[90m [23fbe1c1] \u001b[39m\u001b[93m↑ Latexify v0.15.13 ⇒ v0.15.14\u001b[39m\n",
      " \u001b[90m [38d8eb38] \u001b[39m\u001b[92m+ Lathe v0.1.6\u001b[39m\n",
      " \u001b[90m [2ab3a3ac] \u001b[39m\u001b[93m↑ LogExpFunctions v0.3.7 ⇒ v0.3.10\u001b[39m\n",
      " \u001b[90m [f0e99cf1] \u001b[39m\u001b[95m↓ MLBase v0.9.0 ⇒ v0.8.0\u001b[39m\n",
      " \u001b[90m [ee78f7c6] \u001b[39m\u001b[93m↑ Makie v0.16.5 ⇒ v0.16.6\u001b[39m\n",
      " \u001b[90m [0987c9cc] \u001b[39m\u001b[95m↓ MonteCarloMeasurements v1.0.8 ⇒ v0.10.4\u001b[39m\n",
      " \u001b[90m [d8a4904e] \u001b[39m\u001b[91m- MutableArithmetics v1.0.0\u001b[39m\n",
      " \u001b[90m [d9ec5142] \u001b[39m\u001b[91m- NamedTupleTools v0.14.0\u001b[39m\n",
      " \u001b[90m [90014a1f] \u001b[39m\u001b[93m↑ PDMats v0.11.6 ⇒ v0.11.7\u001b[39m\n",
      " \u001b[90m [69de0a69] \u001b[39m\u001b[95m↓ Parsers v2.2.3 ⇒ v1.1.2\u001b[39m\n",
      " \u001b[90m [995b91a9] \u001b[39m\u001b[93m↑ PlotUtils v1.1.3 ⇒ v1.2.0\u001b[39m\n",
      " \u001b[90m [91a5bcdd] \u001b[39m\u001b[93m↑ Plots v1.26.0 ⇒ v1.27.4\u001b[39m\n",
      " \u001b[90m [f27b6e38] \u001b[39m\u001b[95m↓ Polynomials v3.0.0 ⇒ v1.2.1\u001b[39m\n",
      " \u001b[90m [2dfb63ee] \u001b[39m\u001b[93m↑ PooledArrays v1.4.0 ⇒ v1.4.1\u001b[39m\n",
      " \u001b[90m [08abe8d2] \u001b[39m\u001b[95m↓ PrettyTables v1.3.1 ⇒ v0.11.1\u001b[39m\n",
      " \u001b[90m [92933f4c] \u001b[39m\u001b[93m↑ ProgressMeter v1.7.1 ⇒ v1.7.2\u001b[39m\n",
      " \u001b[90m [01d81517] \u001b[39m\u001b[93m↑ RecipesPipeline v0.5.1 ⇒ v0.5.2\u001b[39m\n",
      " \u001b[90m [189a3867] \u001b[39m\u001b[95m↓ Reexport v1.2.2 ⇒ v0.2.0\u001b[39m\n",
      " \u001b[90m [f2b01f46] \u001b[39m\u001b[93m↑ Roots v1.3.14 ⇒ v1.4.0\u001b[39m\n",
      " \u001b[90m [a2af1166] \u001b[39m\u001b[95m↓ SortingAlgorithms v1.0.1 ⇒ v0.3.1\u001b[39m\n",
      " \u001b[90m [276daf66] \u001b[39m\u001b[95m↓ SpecialFunctions v2.1.4 ⇒ v1.8.4\u001b[39m\n",
      " \u001b[90m [d0ee94f6] \u001b[39m\u001b[95m↓ StanBase v4.4.0 ⇒ v2.4.1\u001b[39m\n",
      " \u001b[90m [c1514b29] \u001b[39m\u001b[95m↓ StanSample v6.4.0 ⇒ v3.0.11\u001b[39m\n",
      " \u001b[90m [90137ffa] \u001b[39m\u001b[93m↑ StaticArrays v1.4.1 ⇒ v1.4.3\u001b[39m\n",
      " \u001b[90m [4c63d2b9] \u001b[39m\u001b[95m↓ StatsFuns v0.9.16 ⇒ v0.9.7\u001b[39m\n",
      " \u001b[90m [a41e6734] \u001b[39m\u001b[95m↓ StructuralCausalModels v1.3.1 ⇒ v1.0.8\u001b[39m\n",
      " \u001b[90m [f269a46b] \u001b[39m\u001b[95m↓ TimeZones v1.7.2 ⇒ v1.5.9\u001b[39m\n",
      " \u001b[90m [3d5dd08c] \u001b[39m\u001b[93m↑ VectorizationBase v0.21.25 ⇒ v0.21.26\u001b[39m\n",
      " \u001b[90m [ea10d353] \u001b[39m\u001b[95m↓ WeakRefStrings v1.4.2 ⇒ v1.1.0\u001b[39m\n",
      " \u001b[90m [e88e6eb3] \u001b[39m\u001b[93m↑ Zygote v0.6.36 ⇒ v0.6.37\u001b[39m"
     ]
    }
   ],
   "source": [
    "#install all the package that we can need\n",
    "Pkg.add(\"Plots\")\n",
    "Pkg.add(\"Lathe\")\n",
    "Pkg.add(\"GLM\")\n",
    "Pkg.add(\"StatsPlots\")\n",
    "Pkg.add(\"MLBase\")\n",
    "Pkg.add(\"Tables\")\n",
    "\n",
    "# Load the installed packages\n",
    "using DataFrames\n",
    "using CSV\n",
    "using Tables\n",
    "using Plots\n",
    "using Lathe\n",
    "using GLM\n",
    "\n"
   ]
  },
  {
   "cell_type": "code",
   "execution_count": null,
   "metadata": {},
   "outputs": [],
   "source": [
    "nocontrol_model = lm(@formula(lwage ~ sex),data)\n",
    "nocontrol_est = GLM.coef(nocontrol_model)[2]\n",
    "nocontrol_se = GLM.coeftable(nocontrol_model).cols[2][2]\n",
    "\n",
    "println(\"The estimated gender coefficient is \", nocontrol_est ,\" and the corresponding robust standard error is \" ,nocontrol_se )"
   ]
  },
  {
   "cell_type": "markdown",
   "metadata": {},
   "source": [
    "Next, we run an ols regression of $Y$ on $(D,W)$ to control for the effect of covariates summarized in $W$:\n",
    "\n",
    "\\begin{align}\n",
    "\\log(Y) &=\\beta_1 D  + \\beta_2' W + \\epsilon.\n",
    "\\end{align}\n",
    "\n",
    "Here, we are considering the flexible model from the previous lab. Hence, $W$ controls for experience, education, region, and occupation and industry indicators plus transformations and two-way interactions."
   ]
  },
  {
   "cell_type": "markdown",
   "metadata": {},
   "source": [
    "Let us run the ols regression with controls."
   ]
  },
  {
   "cell_type": "markdown",
   "metadata": {},
   "source": [
    "## Ols regression with controls"
   ]
  },
  {
   "cell_type": "code",
   "execution_count": null,
   "metadata": {},
   "outputs": [],
   "source": [
    "flex = @formula(lwage ~ sex + (exp1+exp2+exp3+exp4) * (shs+hsg+scl+clg+occ2+ind2+mw+so+we))\n",
    "control_model = lm(flex , data)\n",
    "control_est = GLM.coef(control_model)[2]\n",
    "control_se = GLM.coeftable(control_model).cols[2][2]\n",
    "println(control_model)\n",
    "println(\"Coefficient for OLS with controls \" , control_est)\n",
    "\n"
   ]
  },
  {
   "cell_type": "markdown",
   "metadata": {},
   "source": [
    "The estimated regression coefficient $\\beta_1\\approx-0.0696$ measures how our linear prediction of wage changes if we set the gender variable $D$ from 0 to 1, holding the controls $W$ fixed.\n",
    "We can call this the *predictive effect* (PE), as it measures the impact of a variable on the prediction we make. Overall, we see that the unconditional wage gap of size $4$\\% for women increases to about $7$\\% after controlling for worker characteristics.  \n"
   ]
  },
  {
   "cell_type": "markdown",
   "metadata": {},
   "source": [
    "Next, we are using the Frisch-Waugh-Lovell theorem from the lecture partialling-out the linear effect of the controls via ols."
   ]
  },
  {
   "cell_type": "markdown",
   "metadata": {},
   "source": [
    "## Partialling-Out using ols"
   ]
  },
  {
   "cell_type": "code",
   "execution_count": null,
   "metadata": {},
   "outputs": [],
   "source": [
    "# models\n",
    "# model for Y\n",
    "flex_y = @formula(lwage ~ (exp1+exp2+exp3+exp4) * (shs+hsg+scl+clg+occ2+ind2+mw+so+we))\n",
    "flex_d = @formula(sex ~ (exp1+exp2+exp3+exp4) * (shs+hsg+scl+clg+occ2+ind2+mw+so+we))\n",
    "\n",
    "# partialling-out the linear effect of W from Y\n",
    "t_Y = residuals(lm(flex_y, data))\n",
    "\n",
    "# partialling-out the linear effect of W from D\n",
    "t_D = residuals(lm(flex_d, data))\n",
    "\n",
    "data_res = DataFrame(t_Y = t_Y, t_D = t_D )\n",
    "# regression of Y on D after partialling-out the effect of W\n",
    "partial_fit = lm(@formula(t_Y ~ t_D), data_res)\n",
    "partial_est = GLM.coef(partial_fit)[2]\n",
    "\n",
    "println(\"Coefficient for D via partiallig-out \", partial_est)\n",
    "\n",
    "# standard error\n",
    "partial_se = GLM.coeftable(partial_fit).cols[2][2]\n",
    "\n",
    "#condifence interval\n",
    "GLM.confint(partial_fit)[2,:]"
   ]
  },
  {
   "cell_type": "markdown",
   "metadata": {},
   "source": [
    "Again, the estimated coefficient measures the linear predictive effect (PE) of $D$ on $Y$ after taking out the linear effect of $W$ on both of these variables. This coefficient equals the estimated coefficient from the ols regression with controls."
   ]
  },
  {
   "cell_type": "markdown",
   "metadata": {},
   "source": [
    "We know that the partialling-out approach works well when the dimension of $W$ is low\n",
    "in relation to the sample size $n$. When the dimension of $W$ is relatively high, we need to use variable selection\n",
    "or penalization for regularization purposes. \n",
    "\n",
    "In the following, we illustrate the partialling-out approach using lasso instead of ols. "
   ]
  },
  {
   "cell_type": "markdown",
   "metadata": {},
   "source": [
    "## Summarize the results"
   ]
  },
  {
   "cell_type": "code",
   "execution_count": null,
   "metadata": {},
   "outputs": [],
   "source": [
    "DataFrame(modelos = [ \"Without controls\", \"full reg\", \"partial reg\" ], \n",
    "Estimate = [nocontrol_est,control_est,partial_est], \n",
    "StdError = [nocontrol_se,control_se, partial_se])"
   ]
  },
  {
   "cell_type": "markdown",
   "metadata": {},
   "source": [
    "It it worth to notice that controlling for worker characteristics increases the gender wage gap from less that 4\\% to 7\\%. The controls we used in our analysis include 5 educational attainment indicators (less than high school graduates, high school graduates, some college, college graduate, and advanced degree), 4 region indicators (midwest, south, west, and northeast);  a quartic term (first, second, third, and fourth power) in experience and 22 occupation and 23 industry indicators.\n",
    "\n",
    "Keep in mind that the predictive effect (PE) does not only measures discrimination (causal effect of being female), it also may reflect\n",
    "selection effects of unobserved differences in covariates between men and women in our sample.\n"
   ]
  },
  {
   "cell_type": "markdown",
   "metadata": {},
   "source": [
    "Next we try \"extra\" flexible model, where we take interactions of all controls, giving us about 1000 controls."
   ]
  },
  {
   "cell_type": "markdown",
   "metadata": {},
   "source": [
    "## \"Extra\" flexible model"
   ]
  },
  {
   "cell_type": "code",
   "execution_count": null,
   "metadata": {},
   "outputs": [],
   "source": [
    "import Pkg\n",
    "Pkg.add(\"StatsModels\")\n",
    "Pkg.add(\"Combinatorics\")\n",
    "Pkg.add(\"IterTools\")\n",
    "# we have to configure the package internaly with the itertools package, this because \n",
    "#julia dont iunderstand (a formula) ^2, it takes as an entire term not as interactions \n",
    "#between variables"
   ]
  },
  {
   "cell_type": "code",
   "execution_count": null,
   "metadata": {},
   "outputs": [],
   "source": [
    "#this code fix the problem mencioned above\n",
    "using StatsModels, Combinatorics, IterTools\n",
    "\n",
    "combinations_upto(x, n) = Iterators.flatten(combinations(x, i) for i in 1:n)\n",
    "expand_exp(args, deg::ConstantTerm) =\n",
    "    tuple(((&)(terms...) for terms in combinations_upto(args, deg.n))...)\n",
    "\n",
    "StatsModels.apply_schema(t::FunctionTerm{typeof(^)}, sch::StatsModels.Schema, ctx::Type) =\n",
    "    apply_schema.(expand_exp(t.args_parsed...), Ref(sch), ctx)\n",
    "\n",
    "StatsModels.apply_schema(t::FunctionTerm{typeof(^)}, sch::StatsModels.FullRank, ctx::Type) =\n",
    "    apply_schema.(expand_exp(t.args_parsed...), Ref(sch), ctx)"
   ]
  },
  {
   "cell_type": "code",
   "execution_count": null,
   "metadata": {},
   "outputs": [],
   "source": [
    "extra_flex = @formula(lwage ~  sex + (exp1+exp2+exp3+exp4+shs+hsg+scl+clg+occ2+ind2+mw+so+we)^2)\n",
    "\n",
    "control_fit = lm(extra_flex, data)\n",
    "control_est = GLM.coef(control_fit)[2]\n",
    "\n",
    "println(\"Number of Extra-Flex Controls: \", size(modelmatrix(control_fit))[2] -1) #minus the intercept\n",
    "println(\"Coefficient for OLS with extra flex controls \", control_est)\n",
    "\n",
    "#std error\n",
    "control_se = GLM.stderror(control_fit)[2];"
   ]
  }
 ],
 "metadata": {
  "kernelspec": {
   "display_name": "Julia 1.7.2",
   "language": "julia",
   "name": "julia-1.7"
  },
  "language_info": {
   "file_extension": ".jl",
   "mimetype": "application/julia",
   "name": "julia",
   "version": "1.7.2"
  }
 },
 "nbformat": 4,
 "nbformat_minor": 2
}
