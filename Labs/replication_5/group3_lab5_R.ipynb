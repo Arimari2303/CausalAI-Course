{
 "cells": [
  {
   "cell_type": "markdown",
   "id": "33fc6623",
   "metadata": {},
   "source": [
    "## Worgroup 5\n",
    "\n",
    "- Andrea Ulloa\n",
    "- Ángela Coapaza\n",
    "- Ana Ángulo"
   ]
  },
  {
   "cell_type": "markdown",
   "id": "0f6b5347",
   "metadata": {},
   "source": [
    "### Bootstrapping"
   ]
  },
  {
   "cell_type": "code",
   "execution_count": 1,
   "id": "6c191005",
   "metadata": {},
   "outputs": [],
   "source": [
    "library(ISLR2)\n",
    "set.seed(1)\n",
    "library(boot)"
   ]
  },
  {
   "cell_type": "code",
   "execution_count": 2,
   "id": "8839a538",
   "metadata": {},
   "outputs": [],
   "source": [
    "data_penn <- as.data.frame(read.table(\"../../data/penn_jae.dat\", header=T ))"
   ]
  },
  {
   "cell_type": "code",
   "execution_count": 3,
   "id": "a99aab9a",
   "metadata": {},
   "outputs": [
    {
     "data": {
      "text/plain": [
       "   Mode   FALSE    TRUE \n",
       "logical    3354    1745 "
      ]
     },
     "metadata": {},
     "output_type": "display_data"
    }
   ],
   "source": [
    "# Quedandome solo con las observaciones del tratamiento 4 y control\n",
    "data_penn<- subset(data_penn, tg==4 | tg==0)\n",
    "attach(data_penn)\n",
    "T4<- (tg==4)\n",
    "summary(T4)"
   ]
  },
  {
   "cell_type": "code",
   "execution_count": 4,
   "id": "8056c023",
   "metadata": {},
   "outputs": [
    {
     "data": {
      "text/html": [
       "<style>\n",
       ".list-inline {list-style: none; margin:0; padding: 0}\n",
       ".list-inline>li {display: inline-block}\n",
       ".list-inline>li:not(:last-child)::after {content: \"\\00b7\"; padding: 0 .5ex}\n",
       "</style>\n",
       "<ol class=list-inline><li>5099</li><li>23</li></ol>\n"
      ],
      "text/latex": [
       "\\begin{enumerate*}\n",
       "\\item 5099\n",
       "\\item 23\n",
       "\\end{enumerate*}\n"
      ],
      "text/markdown": [
       "1. 5099\n",
       "2. 23\n",
       "\n",
       "\n"
      ],
      "text/plain": [
       "[1] 5099   23"
      ]
     },
     "metadata": {},
     "output_type": "display_data"
    }
   ],
   "source": [
    "dim(data_penn)"
   ]
  },
  {
   "cell_type": "markdown",
   "id": "137aee39",
   "metadata": {},
   "source": [
    "#### STEPS"
   ]
  },
  {
   "cell_type": "markdown",
   "id": "db8ea890",
   "metadata": {},
   "source": [
    "##### Step 1\n",
    "First, we create a function boot.fn(), which takes the data set and the set of indices for the observations as arguments. The function returns the intercept and slope estimates for the linear regression model defined in the function."
   ]
  },
  {
   "cell_type": "code",
   "execution_count": 5,
   "id": "4d4f5d2d",
   "metadata": {},
   "outputs": [],
   "source": [
    "boot.fn <- function(data, index)\n",
    "  coef(lm(log(inuidur1)~T4+ (female+black+othrace+factor(dep)+q2+q3+q4+q5+q6+agelt35+agegt54+durable+lusd+husd) , data = data, subset = index))"
   ]
  },
  {
   "cell_type": "markdown",
   "id": "e7f629ff",
   "metadata": {},
   "source": [
    "##### Step 2\n",
    "\n",
    "Second, we apply that function to the entire data set, the base $datapenn$, which is 5,099 observations. Doing this is the same as performing simple regression without using the function. We get the same coefficients. For example, the coefficient for T4 is -0.07169, for female it is 0.126368 and for black it is -0.29376."
   ]
  },
  {
   "cell_type": "code",
   "execution_count": 6,
   "id": "4c8587f0",
   "metadata": {},
   "outputs": [
    {
     "data": {
      "text/html": [
       "<style>\n",
       ".dl-inline {width: auto; margin:0; padding: 0}\n",
       ".dl-inline>dt, .dl-inline>dd {float: none; width: auto; display: inline-block}\n",
       ".dl-inline>dt::after {content: \":\\0020\"; padding-right: .5ex}\n",
       ".dl-inline>dt:not(:first-of-type) {padding-left: .5ex}\n",
       "</style><dl class=dl-inline><dt>(Intercept)</dt><dd>2.17846232630817</dd><dt>T4TRUE</dt><dd>-0.0716924841364681</dd><dt>female</dt><dd>0.126368328293608</dd><dt>black</dt><dd>-0.293767980365654</dd><dt>othrace</dt><dd>-0.472445058087243</dd><dt>factor(dep)1</dt><dd>0.0298668989349174</dd><dt>factor(dep)2</dt><dd>0.096186516925531</dd><dt>q2</dt><dd>0.0736780722085169</dd><dt>q3</dt><dd>-0.0385065372217564</dd><dt>q4</dt><dd>-0.0549491953882691</dd><dt>q5</dt><dd>-0.144177911604078</dd><dt>q6</dt><dd>0.00336131816771324</dd><dt>agelt35</dt><dd>-0.162772168142166</dd><dt>agegt54</dt><dd>0.229666707975404</dd><dt>durable</dt><dd>0.12655735874827</dd><dt>lusd</dt><dd>-0.175352571995837</dd><dt>husd</dt><dd>-0.105224726753909</dd></dl>\n"
      ],
      "text/latex": [
       "\\begin{description*}\n",
       "\\item[(Intercept)] 2.17846232630817\n",
       "\\item[T4TRUE] -0.0716924841364681\n",
       "\\item[female] 0.126368328293608\n",
       "\\item[black] -0.293767980365654\n",
       "\\item[othrace] -0.472445058087243\n",
       "\\item[factor(dep)1] 0.0298668989349174\n",
       "\\item[factor(dep)2] 0.096186516925531\n",
       "\\item[q2] 0.0736780722085169\n",
       "\\item[q3] -0.0385065372217564\n",
       "\\item[q4] -0.0549491953882691\n",
       "\\item[q5] -0.144177911604078\n",
       "\\item[q6] 0.00336131816771324\n",
       "\\item[agelt35] -0.162772168142166\n",
       "\\item[agegt54] 0.229666707975404\n",
       "\\item[durable] 0.12655735874827\n",
       "\\item[lusd] -0.175352571995837\n",
       "\\item[husd] -0.105224726753909\n",
       "\\end{description*}\n"
      ],
      "text/markdown": [
       "(Intercept)\n",
       ":   2.17846232630817T4TRUE\n",
       ":   -0.0716924841364681female\n",
       ":   0.126368328293608black\n",
       ":   -0.293767980365654othrace\n",
       ":   -0.472445058087243factor(dep)1\n",
       ":   0.0298668989349174factor(dep)2\n",
       ":   0.096186516925531q2\n",
       ":   0.0736780722085169q3\n",
       ":   -0.0385065372217564q4\n",
       ":   -0.0549491953882691q5\n",
       ":   -0.144177911604078q6\n",
       ":   0.00336131816771324agelt35\n",
       ":   -0.162772168142166agegt54\n",
       ":   0.229666707975404durable\n",
       ":   0.12655735874827lusd\n",
       ":   -0.175352571995837husd\n",
       ":   -0.105224726753909\n",
       "\n"
      ],
      "text/plain": [
       " (Intercept)       T4TRUE       female        black      othrace factor(dep)1 \n",
       " 2.178462326 -0.071692484  0.126368328 -0.293767980 -0.472445058  0.029866899 \n",
       "factor(dep)2           q2           q3           q4           q5           q6 \n",
       " 0.096186517  0.073678072 -0.038506537 -0.054949195 -0.144177912  0.003361318 \n",
       "     agelt35      agegt54      durable         lusd         husd \n",
       "-0.162772168  0.229666708  0.126557359 -0.175352572 -0.105224727 "
      ]
     },
     "metadata": {},
     "output_type": "display_data"
    }
   ],
   "source": [
    "boot.fn(data_penn, 1:5099) "
   ]
  },
  {
   "cell_type": "code",
   "execution_count": 7,
   "id": "cbb12ad1",
   "metadata": {},
   "outputs": [
    {
     "data": {
      "text/plain": [
       "\n",
       "Call:\n",
       "lm(formula = log(inuidur1) ~ T4 + (female + black + othrace + \n",
       "    factor(dep) + q2 + q3 + q4 + q5 + q6 + agelt35 + agegt54 + \n",
       "    durable + lusd + husd), data = data_penn)\n",
       "\n",
       "Coefficients:\n",
       " (Intercept)        T4TRUE        female         black       othrace  \n",
       "    2.178462     -0.071692      0.126368     -0.293768     -0.472445  \n",
       "factor(dep)1  factor(dep)2            q2            q3            q4  \n",
       "    0.029867      0.096187      0.073678     -0.038507     -0.054949  \n",
       "          q5            q6       agelt35       agegt54       durable  \n",
       "   -0.144178      0.003361     -0.162772      0.229667      0.126557  \n",
       "        lusd          husd  \n",
       "   -0.175353     -0.105225  \n"
      ]
     },
     "metadata": {},
     "output_type": "display_data"
    }
   ],
   "source": [
    "ols = lm(log(inuidur1)~T4+ (female+black+othrace+factor(dep)+q2+q3+q4+q5+q6+agelt35+agegt54+durable+lusd+husd), data = data_penn)\n",
    "ols"
   ]
  },
  {
   "cell_type": "markdown",
   "id": "b5ab9720",
   "metadata": {},
   "source": [
    "##### Step 3\n",
    "\n",
    "Next, let's see how this changes if we choose a sample of the data with replacement (this is bootstrapping). Now the coefficient of T4 is -0.12279, of female is 0.15065 and of black -0.38063. This is because different data is being used."
   ]
  },
  {
   "cell_type": "code",
   "execution_count": 8,
   "id": "13b131d8",
   "metadata": {},
   "outputs": [
    {
     "data": {
      "text/html": [
       "<style>\n",
       ".dl-inline {width: auto; margin:0; padding: 0}\n",
       ".dl-inline>dt, .dl-inline>dd {float: none; width: auto; display: inline-block}\n",
       ".dl-inline>dt::after {content: \":\\0020\"; padding-right: .5ex}\n",
       ".dl-inline>dt:not(:first-of-type) {padding-left: .5ex}\n",
       "</style><dl class=dl-inline><dt>(Intercept)</dt><dd>2.25911643174722</dd><dt>T4TRUE</dt><dd>-0.122798931358069</dd><dt>female</dt><dd>0.150650119606488</dd><dt>black</dt><dd>-0.380631692240881</dd><dt>othrace</dt><dd>-0.629980305353413</dd><dt>factor(dep)1</dt><dd>0.00530612927656858</dd><dt>factor(dep)2</dt><dd>0.0906594962097091</dd><dt>q2</dt><dd>0.00118448373410929</dd><dt>q3</dt><dd>-0.122812966650768</dd><dt>q4</dt><dd>-0.122959139412923</dd><dt>q5</dt><dd>-0.188794385975658</dd><dt>q6</dt><dd>0.0362113238967659</dd><dt>agelt35</dt><dd>-0.15270472857289</dd><dt>agegt54</dt><dd>0.192703661884739</dd><dt>durable</dt><dd>0.0849248584854212</dd><dt>lusd</dt><dd>-0.158110489164406</dd><dt>husd</dt><dd>-0.0947819463881133</dd></dl>\n"
      ],
      "text/latex": [
       "\\begin{description*}\n",
       "\\item[(Intercept)] 2.25911643174722\n",
       "\\item[T4TRUE] -0.122798931358069\n",
       "\\item[female] 0.150650119606488\n",
       "\\item[black] -0.380631692240881\n",
       "\\item[othrace] -0.629980305353413\n",
       "\\item[factor(dep)1] 0.00530612927656858\n",
       "\\item[factor(dep)2] 0.0906594962097091\n",
       "\\item[q2] 0.00118448373410929\n",
       "\\item[q3] -0.122812966650768\n",
       "\\item[q4] -0.122959139412923\n",
       "\\item[q5] -0.188794385975658\n",
       "\\item[q6] 0.0362113238967659\n",
       "\\item[agelt35] -0.15270472857289\n",
       "\\item[agegt54] 0.192703661884739\n",
       "\\item[durable] 0.0849248584854212\n",
       "\\item[lusd] -0.158110489164406\n",
       "\\item[husd] -0.0947819463881133\n",
       "\\end{description*}\n"
      ],
      "text/markdown": [
       "(Intercept)\n",
       ":   2.25911643174722T4TRUE\n",
       ":   -0.122798931358069female\n",
       ":   0.150650119606488black\n",
       ":   -0.380631692240881othrace\n",
       ":   -0.629980305353413factor(dep)1\n",
       ":   0.00530612927656858factor(dep)2\n",
       ":   0.0906594962097091q2\n",
       ":   0.00118448373410929q3\n",
       ":   -0.122812966650768q4\n",
       ":   -0.122959139412923q5\n",
       ":   -0.188794385975658q6\n",
       ":   0.0362113238967659agelt35\n",
       ":   -0.15270472857289agegt54\n",
       ":   0.192703661884739durable\n",
       ":   0.0849248584854212lusd\n",
       ":   -0.158110489164406husd\n",
       ":   -0.0947819463881133\n",
       "\n"
      ],
      "text/plain": [
       " (Intercept)       T4TRUE       female        black      othrace factor(dep)1 \n",
       " 2.259116432 -0.122798931  0.150650120 -0.380631692 -0.629980305  0.005306129 \n",
       "factor(dep)2           q2           q3           q4           q5           q6 \n",
       " 0.090659496  0.001184484 -0.122812967 -0.122959139 -0.188794386  0.036211324 \n",
       "     agelt35      agegt54      durable         lusd         husd \n",
       "-0.152704729  0.192703662  0.084924858 -0.158110489 -0.094781946 "
      ]
     },
     "metadata": {},
     "output_type": "display_data"
    }
   ],
   "source": [
    "set.seed(0)\n",
    "boot.fn(data_penn, sample(1:5099, 5099, replace = T))"
   ]
  },
  {
   "cell_type": "markdown",
   "id": "4b23e678",
   "metadata": {},
   "source": [
    "##### Step 4\n",
    "\n",
    "Bootstrapping is doing what was done before, but often outsampling with replacement. Perform the regression on them and obtain the estimated coefficients. For each coefficient of the variable, a more precise standard error can be obtained than the one we obtain when doing the simple regression with the original data."
   ]
  },
  {
   "cell_type": "code",
   "execution_count": 9,
   "id": "40e07b90",
   "metadata": {},
   "outputs": [
    {
     "data": {
      "text/plain": [
       "\n",
       "ORDINARY NONPARAMETRIC BOOTSTRAP\n",
       "\n",
       "\n",
       "Call:\n",
       "boot(data = data_penn, statistic = boot.fn, R = 1000)\n",
       "\n",
       "\n",
       "Bootstrap Statistics :\n",
       "         original        bias    std. error\n",
       "t1*   2.178462326  0.0012832697  0.15865465\n",
       "t2*  -0.071692484 -0.0005860200  0.03489811\n",
       "t3*   0.126368328 -0.0013043846  0.03455738\n",
       "t4*  -0.293767980 -0.0009245988  0.05761879\n",
       "t5*  -0.472445058 -0.0077422757  0.24210824\n",
       "t6*   0.029866899 -0.0003484188  0.05536533\n",
       "t7*   0.096186517  0.0022106925  0.04551685\n",
       "t8*   0.073678072 -0.0008127062  0.15700186\n",
       "t9*  -0.038506537  0.0002238988  0.15575116\n",
       "t10* -0.054949195 -0.0003289622  0.15612960\n",
       "t11* -0.144177912 -0.0006477493  0.15593809\n",
       "t12*  0.003361318 -0.0008459619  0.16878399\n",
       "t13* -0.162772168 -0.0005475727  0.03675451\n",
       "t14*  0.229666708  0.0035442268  0.05676727\n",
       "t15*  0.126557359 -0.0012015760  0.04974203\n",
       "t16* -0.175352572  0.0002818018  0.04136647\n",
       "t17* -0.105224727  0.0001764256  0.04420184"
      ]
     },
     "metadata": {},
     "output_type": "display_data"
    }
   ],
   "source": [
    "reg_lineal = boot(data_penn, boot.fn, 1000)\n",
    "reg_lineal # ¿Cómo obtener los valores std.error del cuadro de abajo? "
   ]
  },
  {
   "cell_type": "code",
   "execution_count": 10,
   "id": "79aa90a6",
   "metadata": {},
   "outputs": [
    {
     "data": {
      "text/html": [
       "<table class=\"dataframe\">\n",
       "<caption>A matrix: 17 × 4 of type dbl</caption>\n",
       "<thead>\n",
       "\t<tr><th></th><th scope=col>Estimate</th><th scope=col>Std. Error</th><th scope=col>t value</th><th scope=col>Pr(&gt;|t|)</th></tr>\n",
       "</thead>\n",
       "<tbody>\n",
       "\t<tr><th scope=row>(Intercept)</th><td> 2.178462326</td><td>0.15901507</td><td>13.69972271</td><td>5.631260e-42</td></tr>\n",
       "\t<tr><th scope=row>T4TRUE</th><td>-0.071692484</td><td>0.03546326</td><td>-2.02159887</td><td>4.327012e-02</td></tr>\n",
       "\t<tr><th scope=row>female</th><td> 0.126368328</td><td>0.03482493</td><td> 3.62867401</td><td>2.876799e-04</td></tr>\n",
       "\t<tr><th scope=row>black</th><td>-0.293767980</td><td>0.05297556</td><td>-5.54534899</td><td>3.081966e-08</td></tr>\n",
       "\t<tr><th scope=row>othrace</th><td>-0.472445058</td><td>0.19839750</td><td>-2.38130547</td><td>1.728801e-02</td></tr>\n",
       "\t<tr><th scope=row>factor(dep)1</th><td> 0.029866899</td><td>0.05414025</td><td> 0.55165799</td><td>5.812070e-01</td></tr>\n",
       "\t<tr><th scope=row>factor(dep)2</th><td> 0.096186517</td><td>0.04686228</td><td> 2.05253621</td><td>4.016868e-02</td></tr>\n",
       "\t<tr><th scope=row>q2</th><td> 0.073678072</td><td>0.15682593</td><td> 0.46980799</td><td>6.385124e-01</td></tr>\n",
       "\t<tr><th scope=row>q3</th><td>-0.038506537</td><td>0.15647802</td><td>-0.24608272</td><td>8.056281e-01</td></tr>\n",
       "\t<tr><th scope=row>q4</th><td>-0.054949195</td><td>0.15656019</td><td>-0.35097809</td><td>7.256193e-01</td></tr>\n",
       "\t<tr><th scope=row>q5</th><td>-0.144177912</td><td>0.15588797</td><td>-0.92488160</td><td>3.550714e-01</td></tr>\n",
       "\t<tr><th scope=row>q6</th><td> 0.003361318</td><td>0.16645573</td><td> 0.02019347</td><td>9.838898e-01</td></tr>\n",
       "\t<tr><th scope=row>agelt35</th><td>-0.162772168</td><td>0.03696505</td><td>-4.40340780</td><td>1.087509e-05</td></tr>\n",
       "\t<tr><th scope=row>agegt54</th><td> 0.229666708</td><td>0.05917173</td><td> 3.88135887</td><td>1.051906e-04</td></tr>\n",
       "\t<tr><th scope=row>durable</th><td> 0.126557359</td><td>0.04814585</td><td> 2.62862426</td><td>8.598901e-03</td></tr>\n",
       "\t<tr><th scope=row>lusd</th><td>-0.175352572</td><td>0.04098250</td><td>-4.27871860</td><td>1.914271e-05</td></tr>\n",
       "\t<tr><th scope=row>husd</th><td>-0.105224727</td><td>0.04490864</td><td>-2.34308443</td><td>1.916341e-02</td></tr>\n",
       "</tbody>\n",
       "</table>\n"
      ],
      "text/latex": [
       "A matrix: 17 × 4 of type dbl\n",
       "\\begin{tabular}{r|llll}\n",
       "  & Estimate & Std. Error & t value & Pr(>\\textbar{}t\\textbar{})\\\\\n",
       "\\hline\n",
       "\t(Intercept) &  2.178462326 & 0.15901507 & 13.69972271 & 5.631260e-42\\\\\n",
       "\tT4TRUE & -0.071692484 & 0.03546326 & -2.02159887 & 4.327012e-02\\\\\n",
       "\tfemale &  0.126368328 & 0.03482493 &  3.62867401 & 2.876799e-04\\\\\n",
       "\tblack & -0.293767980 & 0.05297556 & -5.54534899 & 3.081966e-08\\\\\n",
       "\tothrace & -0.472445058 & 0.19839750 & -2.38130547 & 1.728801e-02\\\\\n",
       "\tfactor(dep)1 &  0.029866899 & 0.05414025 &  0.55165799 & 5.812070e-01\\\\\n",
       "\tfactor(dep)2 &  0.096186517 & 0.04686228 &  2.05253621 & 4.016868e-02\\\\\n",
       "\tq2 &  0.073678072 & 0.15682593 &  0.46980799 & 6.385124e-01\\\\\n",
       "\tq3 & -0.038506537 & 0.15647802 & -0.24608272 & 8.056281e-01\\\\\n",
       "\tq4 & -0.054949195 & 0.15656019 & -0.35097809 & 7.256193e-01\\\\\n",
       "\tq5 & -0.144177912 & 0.15588797 & -0.92488160 & 3.550714e-01\\\\\n",
       "\tq6 &  0.003361318 & 0.16645573 &  0.02019347 & 9.838898e-01\\\\\n",
       "\tagelt35 & -0.162772168 & 0.03696505 & -4.40340780 & 1.087509e-05\\\\\n",
       "\tagegt54 &  0.229666708 & 0.05917173 &  3.88135887 & 1.051906e-04\\\\\n",
       "\tdurable &  0.126557359 & 0.04814585 &  2.62862426 & 8.598901e-03\\\\\n",
       "\tlusd & -0.175352572 & 0.04098250 & -4.27871860 & 1.914271e-05\\\\\n",
       "\thusd & -0.105224727 & 0.04490864 & -2.34308443 & 1.916341e-02\\\\\n",
       "\\end{tabular}\n"
      ],
      "text/markdown": [
       "\n",
       "A matrix: 17 × 4 of type dbl\n",
       "\n",
       "| <!--/--> | Estimate | Std. Error | t value | Pr(&gt;|t|) |\n",
       "|---|---|---|---|---|\n",
       "| (Intercept) |  2.178462326 | 0.15901507 | 13.69972271 | 5.631260e-42 |\n",
       "| T4TRUE | -0.071692484 | 0.03546326 | -2.02159887 | 4.327012e-02 |\n",
       "| female |  0.126368328 | 0.03482493 |  3.62867401 | 2.876799e-04 |\n",
       "| black | -0.293767980 | 0.05297556 | -5.54534899 | 3.081966e-08 |\n",
       "| othrace | -0.472445058 | 0.19839750 | -2.38130547 | 1.728801e-02 |\n",
       "| factor(dep)1 |  0.029866899 | 0.05414025 |  0.55165799 | 5.812070e-01 |\n",
       "| factor(dep)2 |  0.096186517 | 0.04686228 |  2.05253621 | 4.016868e-02 |\n",
       "| q2 |  0.073678072 | 0.15682593 |  0.46980799 | 6.385124e-01 |\n",
       "| q3 | -0.038506537 | 0.15647802 | -0.24608272 | 8.056281e-01 |\n",
       "| q4 | -0.054949195 | 0.15656019 | -0.35097809 | 7.256193e-01 |\n",
       "| q5 | -0.144177912 | 0.15588797 | -0.92488160 | 3.550714e-01 |\n",
       "| q6 |  0.003361318 | 0.16645573 |  0.02019347 | 9.838898e-01 |\n",
       "| agelt35 | -0.162772168 | 0.03696505 | -4.40340780 | 1.087509e-05 |\n",
       "| agegt54 |  0.229666708 | 0.05917173 |  3.88135887 | 1.051906e-04 |\n",
       "| durable |  0.126557359 | 0.04814585 |  2.62862426 | 8.598901e-03 |\n",
       "| lusd | -0.175352572 | 0.04098250 | -4.27871860 | 1.914271e-05 |\n",
       "| husd | -0.105224727 | 0.04490864 | -2.34308443 | 1.916341e-02 |\n",
       "\n"
      ],
      "text/plain": [
       "             Estimate     Std. Error t value     Pr(>|t|)    \n",
       "(Intercept)   2.178462326 0.15901507 13.69972271 5.631260e-42\n",
       "T4TRUE       -0.071692484 0.03546326 -2.02159887 4.327012e-02\n",
       "female        0.126368328 0.03482493  3.62867401 2.876799e-04\n",
       "black        -0.293767980 0.05297556 -5.54534899 3.081966e-08\n",
       "othrace      -0.472445058 0.19839750 -2.38130547 1.728801e-02\n",
       "factor(dep)1  0.029866899 0.05414025  0.55165799 5.812070e-01\n",
       "factor(dep)2  0.096186517 0.04686228  2.05253621 4.016868e-02\n",
       "q2            0.073678072 0.15682593  0.46980799 6.385124e-01\n",
       "q3           -0.038506537 0.15647802 -0.24608272 8.056281e-01\n",
       "q4           -0.054949195 0.15656019 -0.35097809 7.256193e-01\n",
       "q5           -0.144177912 0.15588797 -0.92488160 3.550714e-01\n",
       "q6            0.003361318 0.16645573  0.02019347 9.838898e-01\n",
       "agelt35      -0.162772168 0.03696505 -4.40340780 1.087509e-05\n",
       "agegt54       0.229666708 0.05917173  3.88135887 1.051906e-04\n",
       "durable       0.126557359 0.04814585  2.62862426 8.598901e-03\n",
       "lusd         -0.175352572 0.04098250 -4.27871860 1.914271e-05\n",
       "husd         -0.105224727 0.04490864 -2.34308443 1.916341e-02"
      ]
     },
     "metadata": {},
     "output_type": "display_data"
    }
   ],
   "source": [
    "ols = lm(log(inuidur1)~T4+ (female+black+othrace+factor(dep)+q2+q3+q4+q5+q6+agelt35+agegt54+durable+lusd+husd), data = data_penn)\n",
    "summary(ols)$coeff"
   ]
  },
  {
   "cell_type": "markdown",
   "id": "a47f8a01",
   "metadata": {},
   "source": [
    "The estimates of the standard error for the estimates of T4, female and black by regressing a simple OLS are somewhat different than with the bootstrap method. The bootstrap approach does not rely on any assumptions about standard errors, in contrast to the classical linear model. Therefore, the bootstrap method is likely to provide a more accurate estimate of the standard errors of the estimates of the variables in the model that was regressed."
   ]
  },
  {
   "cell_type": "code",
   "execution_count": 12,
   "id": "59b8475f",
   "metadata": {},
   "outputs": [
    {
     "data": {
      "text/html": [
       "<table class=\"dataframe\">\n",
       "<caption>A xtable: 3 × 2</caption>\n",
       "<thead>\n",
       "\t<tr><th></th><th scope=col>Original</th><th scope=col>Bootstrapping</th></tr>\n",
       "\t<tr><th></th><th scope=col>&lt;dbl&gt;</th><th scope=col>&lt;dbl&gt;</th></tr>\n",
       "</thead>\n",
       "<tbody>\n",
       "\t<tr><th scope=row>Std.error(T4)</th><td>0.03546326</td><td>0.03489811</td></tr>\n",
       "\t<tr><th scope=row>Std.error(female)</th><td>0.03482493</td><td>0.03455738</td></tr>\n",
       "\t<tr><th scope=row>Std.error(black)</th><td>0.05297556</td><td>0.05761879</td></tr>\n",
       "</tbody>\n",
       "</table>\n"
      ],
      "text/latex": [
       "A xtable: 3 × 2\n",
       "\\begin{tabular}{r|ll}\n",
       "  & Original & Bootstrapping\\\\\n",
       "  & <dbl> & <dbl>\\\\\n",
       "\\hline\n",
       "\tStd.error(T4) & 0.03546326 & 0.03489811\\\\\n",
       "\tStd.error(female) & 0.03482493 & 0.03455738\\\\\n",
       "\tStd.error(black) & 0.05297556 & 0.05761879\\\\\n",
       "\\end{tabular}\n"
      ],
      "text/markdown": [
       "\n",
       "A xtable: 3 × 2\n",
       "\n",
       "| <!--/--> | Original &lt;dbl&gt; | Bootstrapping &lt;dbl&gt; |\n",
       "|---|---|---|\n",
       "| Std.error(T4) | 0.03546326 | 0.03489811 |\n",
       "| Std.error(female) | 0.03482493 | 0.03455738 |\n",
       "| Std.error(black) | 0.05297556 | 0.05761879 |\n",
       "\n"
      ],
      "text/plain": [
       "                  Original   Bootstrapping\n",
       "Std.error(T4)     0.03546326 0.03489811   \n",
       "Std.error(female) 0.03482493 0.03455738   \n",
       "Std.error(black)  0.05297556 0.05761879   "
      ]
     },
     "metadata": {},
     "output_type": "display_data"
    }
   ],
   "source": [
    "#install.packages(\"xtable\")\n",
    "library(xtable)\n",
    "table<- matrix(0, 3, 2)\n",
    "\n",
    "table[1,1]<-  summary(ols)$coeff[2,2]\n",
    "table[2,1]<-  summary(ols)$coeff[3,2]\n",
    "table[3,1]<-  summary(ols)$coeff[4,2]\n",
    "\n",
    "table[1,2]<-  0.03489811\n",
    "table[2,2]<-  0.03455738\n",
    "table[3,2]<-  0.05761879\n",
    "\n",
    "colnames(table)<- c(\"Original\",\"Bootstrapping\")\n",
    "rownames(table)<- c(\"Std.error(T4)\", \"Std.error(female)\", \"Std.error(black)\")\n",
    "tab<- xtable(table, digits=5)\n",
    "tab"
   ]
  },
  {
   "cell_type": "markdown",
   "id": "4a97d584",
   "metadata": {},
   "source": [
    "### Comparative models"
   ]
  },
  {
   "cell_type": "markdown",
   "id": "0574b832",
   "metadata": {},
   "source": [
    "#### Data"
   ]
  },
  {
   "cell_type": "code",
   "execution_count": 15,
   "id": "cd9203d2",
   "metadata": {},
   "outputs": [
    {
     "data": {
      "text/html": [
       "<style>\n",
       ".list-inline {list-style: none; margin:0; padding: 0}\n",
       ".list-inline>li {display: inline-block}\n",
       ".list-inline>li:not(:last-child)::after {content: \"\\00b7\"; padding: 0 .5ex}\n",
       "</style>\n",
       "<ol class=list-inline><li>29217</li><li>23</li></ol>\n"
      ],
      "text/latex": [
       "\\begin{enumerate*}\n",
       "\\item 29217\n",
       "\\item 23\n",
       "\\end{enumerate*}\n"
      ],
      "text/markdown": [
       "1. 29217\n",
       "2. 23\n",
       "\n",
       "\n"
      ],
      "text/plain": [
       "[1] 29217    23"
      ]
     },
     "metadata": {},
     "output_type": "display_data"
    }
   ],
   "source": [
    "load(\"../../data/cps2012.RData\")\n",
    "dim(data)"
   ]
  },
  {
   "cell_type": "code",
   "execution_count": 20,
   "id": "665a0915",
   "metadata": {},
   "outputs": [
    {
     "data": {
      "text/html": [
       "<table class=\"dataframe\">\n",
       "<caption>A data.frame: 6 × 23</caption>\n",
       "<thead>\n",
       "\t<tr><th></th><th scope=col>year</th><th scope=col>lnw</th><th scope=col>female</th><th scope=col>widowed</th><th scope=col>divorced</th><th scope=col>separated</th><th scope=col>nevermarried</th><th scope=col>hsd08</th><th scope=col>hsd911</th><th scope=col>hsg</th><th scope=col>...</th><th scope=col>so</th><th scope=col>we</th><th scope=col>exp1</th><th scope=col>exp2</th><th scope=col>exp3</th><th scope=col>exp4</th><th scope=col>weight</th><th scope=col>married</th><th scope=col>ne</th><th scope=col>sc</th></tr>\n",
       "\t<tr><th></th><th scope=col>&lt;dbl&gt;</th><th scope=col>&lt;dbl&gt;</th><th scope=col>&lt;dbl&gt;</th><th scope=col>&lt;dbl&gt;</th><th scope=col>&lt;dbl&gt;</th><th scope=col>&lt;dbl&gt;</th><th scope=col>&lt;dbl&gt;</th><th scope=col>&lt;dbl&gt;</th><th scope=col>&lt;dbl&gt;</th><th scope=col>&lt;dbl&gt;</th><th scope=col>...</th><th scope=col>&lt;dbl&gt;</th><th scope=col>&lt;dbl&gt;</th><th scope=col>&lt;dbl&gt;</th><th scope=col>&lt;dbl&gt;</th><th scope=col>&lt;dbl&gt;</th><th scope=col>&lt;dbl&gt;</th><th scope=col>&lt;dbl&gt;</th><th scope=col>&lt;lgl&gt;</th><th scope=col>&lt;lgl&gt;</th><th scope=col>&lt;lgl&gt;</th></tr>\n",
       "</thead>\n",
       "<tbody>\n",
       "\t<tr><th scope=row>1663459</th><td>2012</td><td>1.909543</td><td>1</td><td>0</td><td>0</td><td>0</td><td>0</td><td>0</td><td>0</td><td>0</td><td>...</td><td>0</td><td>0</td><td>22</td><td>4.84</td><td>10.648</td><td>23.4256</td><td>569.43</td><td>TRUE</td><td>TRUE</td><td> TRUE</td></tr>\n",
       "\t<tr><th scope=row>1663462</th><td>2012</td><td>1.365773</td><td>1</td><td>0</td><td>0</td><td>0</td><td>0</td><td>0</td><td>1</td><td>0</td><td>...</td><td>0</td><td>0</td><td>30</td><td>9.00</td><td>27.000</td><td>81.0000</td><td>625.96</td><td>TRUE</td><td>TRUE</td><td>FALSE</td></tr>\n",
       "\t<tr><th scope=row>1663463</th><td>2012</td><td>2.540223</td><td>0</td><td>0</td><td>0</td><td>0</td><td>0</td><td>0</td><td>0</td><td>1</td><td>...</td><td>0</td><td>0</td><td>19</td><td>3.61</td><td> 6.859</td><td>13.0321</td><td>264.22</td><td>TRUE</td><td>TRUE</td><td>FALSE</td></tr>\n",
       "\t<tr><th scope=row>1663465</th><td>2012</td><td>1.801091</td><td>1</td><td>0</td><td>0</td><td>0</td><td>0</td><td>0</td><td>0</td><td>1</td><td>...</td><td>0</td><td>0</td><td>14</td><td>1.96</td><td> 2.744</td><td> 3.8416</td><td>256.81</td><td>TRUE</td><td>TRUE</td><td>FALSE</td></tr>\n",
       "\t<tr><th scope=row>1663468</th><td>2012</td><td>3.349904</td><td>0</td><td>0</td><td>0</td><td>0</td><td>0</td><td>0</td><td>0</td><td>0</td><td>...</td><td>0</td><td>0</td><td>15</td><td>2.25</td><td> 3.375</td><td> 5.0625</td><td>256.81</td><td>TRUE</td><td>TRUE</td><td>FALSE</td></tr>\n",
       "\t<tr><th scope=row>1663469</th><td>2012</td><td>2.002830</td><td>0</td><td>0</td><td>0</td><td>0</td><td>0</td><td>0</td><td>0</td><td>1</td><td>...</td><td>0</td><td>0</td><td>23</td><td>5.29</td><td>12.167</td><td>27.9841</td><td>513.03</td><td>TRUE</td><td>TRUE</td><td>FALSE</td></tr>\n",
       "</tbody>\n",
       "</table>\n"
      ],
      "text/latex": [
       "A data.frame: 6 × 23\n",
       "\\begin{tabular}{r|lllllllllllllllllllll}\n",
       "  & year & lnw & female & widowed & divorced & separated & nevermarried & hsd08 & hsd911 & hsg & ... & so & we & exp1 & exp2 & exp3 & exp4 & weight & married & ne & sc\\\\\n",
       "  & <dbl> & <dbl> & <dbl> & <dbl> & <dbl> & <dbl> & <dbl> & <dbl> & <dbl> & <dbl> & ... & <dbl> & <dbl> & <dbl> & <dbl> & <dbl> & <dbl> & <dbl> & <lgl> & <lgl> & <lgl>\\\\\n",
       "\\hline\n",
       "\t1663459 & 2012 & 1.909543 & 1 & 0 & 0 & 0 & 0 & 0 & 0 & 0 & ... & 0 & 0 & 22 & 4.84 & 10.648 & 23.4256 & 569.43 & TRUE & TRUE &  TRUE\\\\\n",
       "\t1663462 & 2012 & 1.365773 & 1 & 0 & 0 & 0 & 0 & 0 & 1 & 0 & ... & 0 & 0 & 30 & 9.00 & 27.000 & 81.0000 & 625.96 & TRUE & TRUE & FALSE\\\\\n",
       "\t1663463 & 2012 & 2.540223 & 0 & 0 & 0 & 0 & 0 & 0 & 0 & 1 & ... & 0 & 0 & 19 & 3.61 &  6.859 & 13.0321 & 264.22 & TRUE & TRUE & FALSE\\\\\n",
       "\t1663465 & 2012 & 1.801091 & 1 & 0 & 0 & 0 & 0 & 0 & 0 & 1 & ... & 0 & 0 & 14 & 1.96 &  2.744 &  3.8416 & 256.81 & TRUE & TRUE & FALSE\\\\\n",
       "\t1663468 & 2012 & 3.349904 & 0 & 0 & 0 & 0 & 0 & 0 & 0 & 0 & ... & 0 & 0 & 15 & 2.25 &  3.375 &  5.0625 & 256.81 & TRUE & TRUE & FALSE\\\\\n",
       "\t1663469 & 2012 & 2.002830 & 0 & 0 & 0 & 0 & 0 & 0 & 0 & 1 & ... & 0 & 0 & 23 & 5.29 & 12.167 & 27.9841 & 513.03 & TRUE & TRUE & FALSE\\\\\n",
       "\\end{tabular}\n"
      ],
      "text/markdown": [
       "\n",
       "A data.frame: 6 × 23\n",
       "\n",
       "| <!--/--> | year &lt;dbl&gt; | lnw &lt;dbl&gt; | female &lt;dbl&gt; | widowed &lt;dbl&gt; | divorced &lt;dbl&gt; | separated &lt;dbl&gt; | nevermarried &lt;dbl&gt; | hsd08 &lt;dbl&gt; | hsd911 &lt;dbl&gt; | hsg &lt;dbl&gt; | ... ... | so &lt;dbl&gt; | we &lt;dbl&gt; | exp1 &lt;dbl&gt; | exp2 &lt;dbl&gt; | exp3 &lt;dbl&gt; | exp4 &lt;dbl&gt; | weight &lt;dbl&gt; | married &lt;lgl&gt; | ne &lt;lgl&gt; | sc &lt;lgl&gt; |\n",
       "|---|---|---|---|---|---|---|---|---|---|---|---|---|---|---|---|---|---|---|---|---|---|\n",
       "| 1663459 | 2012 | 1.909543 | 1 | 0 | 0 | 0 | 0 | 0 | 0 | 0 | ... | 0 | 0 | 22 | 4.84 | 10.648 | 23.4256 | 569.43 | TRUE | TRUE |  TRUE |\n",
       "| 1663462 | 2012 | 1.365773 | 1 | 0 | 0 | 0 | 0 | 0 | 1 | 0 | ... | 0 | 0 | 30 | 9.00 | 27.000 | 81.0000 | 625.96 | TRUE | TRUE | FALSE |\n",
       "| 1663463 | 2012 | 2.540223 | 0 | 0 | 0 | 0 | 0 | 0 | 0 | 1 | ... | 0 | 0 | 19 | 3.61 |  6.859 | 13.0321 | 264.22 | TRUE | TRUE | FALSE |\n",
       "| 1663465 | 2012 | 1.801091 | 1 | 0 | 0 | 0 | 0 | 0 | 0 | 1 | ... | 0 | 0 | 14 | 1.96 |  2.744 |  3.8416 | 256.81 | TRUE | TRUE | FALSE |\n",
       "| 1663468 | 2012 | 3.349904 | 0 | 0 | 0 | 0 | 0 | 0 | 0 | 0 | ... | 0 | 0 | 15 | 2.25 |  3.375 |  5.0625 | 256.81 | TRUE | TRUE | FALSE |\n",
       "| 1663469 | 2012 | 2.002830 | 0 | 0 | 0 | 0 | 0 | 0 | 0 | 1 | ... | 0 | 0 | 23 | 5.29 | 12.167 | 27.9841 | 513.03 | TRUE | TRUE | FALSE |\n",
       "\n"
      ],
      "text/plain": [
       "        year lnw      female widowed divorced separated nevermarried hsd08\n",
       "1663459 2012 1.909543 1      0       0        0         0            0    \n",
       "1663462 2012 1.365773 1      0       0        0         0            0    \n",
       "1663463 2012 2.540223 0      0       0        0         0            0    \n",
       "1663465 2012 1.801091 1      0       0        0         0            0    \n",
       "1663468 2012 3.349904 0      0       0        0         0            0    \n",
       "1663469 2012 2.002830 0      0       0        0         0            0    \n",
       "        hsd911 hsg ... so we exp1 exp2 exp3   exp4    weight married ne   sc   \n",
       "1663459 0      0   ... 0  0  22   4.84 10.648 23.4256 569.43 TRUE    TRUE  TRUE\n",
       "1663462 1      0   ... 0  0  30   9.00 27.000 81.0000 625.96 TRUE    TRUE FALSE\n",
       "1663463 0      1   ... 0  0  19   3.61  6.859 13.0321 264.22 TRUE    TRUE FALSE\n",
       "1663465 0      1   ... 0  0  14   1.96  2.744  3.8416 256.81 TRUE    TRUE FALSE\n",
       "1663468 0      0   ... 0  0  15   2.25  3.375  5.0625 256.81 TRUE    TRUE FALSE\n",
       "1663469 0      1   ... 0  0  23   5.29 12.167 27.9841 513.03 TRUE    TRUE FALSE"
      ]
     },
     "metadata": {},
     "output_type": "display_data"
    }
   ],
   "source": [
    "head(data)"
   ]
  },
  {
   "cell_type": "markdown",
   "id": "12e88137",
   "metadata": {},
   "source": [
    "To evaluate the out-of-sample performance, we split the data first."
   ]
  },
  {
   "cell_type": "code",
   "execution_count": 27,
   "id": "ae896a6f",
   "metadata": {},
   "outputs": [
    {
     "data": {
      "text/html": [
       "<style>\n",
       ".list-inline {list-style: none; margin:0; padding: 0}\n",
       ".list-inline>li {display: inline-block}\n",
       ".list-inline>li:not(:last-child)::after {content: \"\\00b7\"; padding: 0 .5ex}\n",
       "</style>\n",
       "<ol class=list-inline><li>21912</li><li>23</li></ol>\n"
      ],
      "text/latex": [
       "\\begin{enumerate*}\n",
       "\\item 21912\n",
       "\\item 23\n",
       "\\end{enumerate*}\n"
      ],
      "text/markdown": [
       "1. 21912\n",
       "2. 23\n",
       "\n",
       "\n"
      ],
      "text/plain": [
       "[1] 21912    23"
      ]
     },
     "metadata": {},
     "output_type": "display_data"
    },
    {
     "data": {
      "text/html": [
       "<style>\n",
       ".list-inline {list-style: none; margin:0; padding: 0}\n",
       ".list-inline>li {display: inline-block}\n",
       ".list-inline>li:not(:last-child)::after {content: \"\\00b7\"; padding: 0 .5ex}\n",
       "</style>\n",
       "<ol class=list-inline><li>7305</li><li>23</li></ol>\n"
      ],
      "text/latex": [
       "\\begin{enumerate*}\n",
       "\\item 7305\n",
       "\\item 23\n",
       "\\end{enumerate*}\n"
      ],
      "text/markdown": [
       "1. 7305\n",
       "2. 23\n",
       "\n",
       "\n"
      ],
      "text/plain": [
       "[1] 7305   23"
      ]
     },
     "metadata": {},
     "output_type": "display_data"
    }
   ],
   "source": [
    "set.seed(1234)\n",
    "training <- sample(nrow(data), nrow(data)*(3/4), replace=FALSE)\n",
    "\n",
    "data_train <- data[training,]\n",
    "data_test <- data[-training,]\n",
    "dim(data_train)\n",
    "dim(data_test)"
   ]
  },
  {
   "cell_type": "markdown",
   "id": "1dff9826",
   "metadata": {},
   "source": [
    "We construct the two different model matrices $X_{basic}$ and $X_{flex}$ for both the training and the test sample:"
   ]
  },
  {
   "cell_type": "markdown",
   "id": "d6583260",
   "metadata": {},
   "source": [
    "#### Basic and Flexible model"
   ]
  },
  {
   "cell_type": "code",
   "execution_count": 25,
   "id": "1c9481f7",
   "metadata": {},
   "outputs": [],
   "source": [
    "X_basic <- \"female + widowed + divorced + separated + nevermarried + hsd08 + hsd911 + hsg + cg + ad + mw + so + we + exp1 + exp2 + exp3\"\n",
    "X_flex <- \"female + widowed + divorced + separated + nevermarried + hsd08 + hsd911 + hsg + cg + ad + mw + so + we + exp1 + exp2 + exp3 + (widowed + divorced + separated + nevermarried + hsd08 + hsd911 + hsg + cg + ad + mw + so + we + exp1 + exp2 + exp3)^2\""
   ]
  },
  {
   "cell_type": "code",
   "execution_count": 26,
   "id": "fc63e8fe",
   "metadata": {},
   "outputs": [],
   "source": [
    "formula_basic <- as.formula(paste(\"lnw\", \"~\", X_basic))\n",
    "formula_flex <- as.formula(paste(\"lnw\", \"~\", X_flex))"
   ]
  },
  {
   "cell_type": "code",
   "execution_count": 31,
   "id": "e24af0eb",
   "metadata": {},
   "outputs": [
    {
     "data": {
      "text/html": [
       "17"
      ],
      "text/latex": [
       "17"
      ],
      "text/markdown": [
       "17"
      ],
      "text/plain": [
       "[1] 17"
      ]
     },
     "metadata": {},
     "output_type": "display_data"
    }
   ],
   "source": [
    "model_X_basic_train <- model.matrix(formula_basic,data_train)\n",
    "model_X_basic_test <- model.matrix(formula_basic,data_test)\n",
    "p_basic <- dim(model_X_basic_train)[2]\n",
    "p_basic"
   ]
  },
  {
   "cell_type": "code",
   "execution_count": 33,
   "id": "8116dcb6",
   "metadata": {},
   "outputs": [
    {
     "data": {
      "text/html": [
       "122"
      ],
      "text/latex": [
       "122"
      ],
      "text/markdown": [
       "122"
      ],
      "text/plain": [
       "[1] 122"
      ]
     },
     "metadata": {},
     "output_type": "display_data"
    }
   ],
   "source": [
    "model_X_flex_train <- model.matrix(formula_flex,data_train)\n",
    "model_X_flex_test <- model.matrix(formula_flex,data_test)\n",
    "p_flex <- dim(model_X_flex_train)[2]\n",
    "p_flex"
   ]
  },
  {
   "cell_type": "code",
   "execution_count": 48,
   "id": "51380419",
   "metadata": {},
   "outputs": [],
   "source": [
    "Y_train <- data_train$lnw\n",
    "Y_test <- data_test$lnw"
   ]
  },
  {
   "cell_type": "markdown",
   "id": "5d9431b0",
   "metadata": {},
   "source": [
    "### LINEAL MODELS"
   ]
  },
  {
   "cell_type": "markdown",
   "id": "959f532f",
   "metadata": {},
   "source": [
    "#### OLS"
   ]
  },
  {
   "cell_type": "markdown",
   "id": "e099bce5",
   "metadata": {},
   "source": [
    "We fit the basic model to our training data by running an ols regression and compute the mean squared error on the test sample. Also we let's calculate the MSE's standar error and R^2."
   ]
  },
  {
   "cell_type": "code",
   "execution_count": 36,
   "id": "ec3c0f51",
   "metadata": {},
   "outputs": [
    {
     "data": {
      "text/plain": [
       "\n",
       "Call:\n",
       "lm(formula = formula_basic, data = data_train)\n",
       "\n",
       "Coefficients:\n",
       " (Intercept)        female       widowed      divorced     separated  \n",
       "    2.421983     -0.276551     -0.154677     -0.083467     -0.119423  \n",
       "nevermarried         hsd08        hsd911           hsg            cg  \n",
       "   -0.131808     -0.652235     -0.408063     -0.172417      0.353061  \n",
       "          ad            mw            so            we          exp1  \n",
       "    0.612882     -0.105725     -0.051414     -0.006778      0.053966  \n",
       "        exp2          exp3  \n",
       "   -0.204559      0.027365  \n"
      ]
     },
     "metadata": {},
     "output_type": "display_data"
    }
   ],
   "source": [
    "# ols basic model\n",
    "fit.lm.basic <- lm(formula_basic, data_train)\n",
    "fit.lm.basic"
   ]
  },
  {
   "cell_type": "code",
   "execution_count": 37,
   "id": "701e00de",
   "metadata": {},
   "outputs": [
    {
     "name": "stdout",
     "output_type": "stream",
     "text": [
      "The mean squared error (MSE) using the basic model is equal to 0.3424951"
     ]
    }
   ],
   "source": [
    "# Compute the Out-Of-Sample Performance\n",
    "yhat.lm.basic <- predict(fit.lm.basic, newdata=data_test)\n",
    "cat(\"The mean squared error (MSE) using the basic model is equal to\" , mean((Y_test-yhat.lm.basic)^2)) # MSE OLS (basic model)"
   ]
  },
  {
   "cell_type": "markdown",
   "id": "714a5423",
   "metadata": {},
   "source": [
    "To determine the out-of-sample $MSE$ and the standard error in one step, we can use the function *lm*:"
   ]
  },
  {
   "cell_type": "code",
   "execution_count": 38,
   "id": "fe051e3b",
   "metadata": {},
   "outputs": [
    {
     "data": {
      "text/html": [
       "<style>\n",
       ".list-inline {list-style: none; margin:0; padding: 0}\n",
       ".list-inline>li {display: inline-block}\n",
       ".list-inline>li:not(:last-child)::after {content: \"\\00b7\"; padding: 0 .5ex}\n",
       "</style>\n",
       "<ol class=list-inline><li>0.342495084419634</li><li>0.0219411867184768</li></ol>\n"
      ],
      "text/latex": [
       "\\begin{enumerate*}\n",
       "\\item 0.342495084419634\n",
       "\\item 0.0219411867184768\n",
       "\\end{enumerate*}\n"
      ],
      "text/markdown": [
       "1. 0.342495084419634\n",
       "2. 0.0219411867184768\n",
       "\n",
       "\n"
      ],
      "text/plain": [
       "[1] 0.34249508 0.02194119"
      ]
     },
     "metadata": {},
     "output_type": "display_data"
    }
   ],
   "source": [
    "MSE.lm.basic <- summary(lm((Y_test-yhat.lm.basic)^2~1))$coef[1:2]\n",
    "MSE.lm.basic"
   ]
  },
  {
   "cell_type": "markdown",
   "id": "1efde8e1",
   "metadata": {},
   "source": [
    "We also compute the out-of-sample $R^2$:"
   ]
  },
  {
   "cell_type": "code",
   "execution_count": 41,
   "id": "6e111631",
   "metadata": {},
   "outputs": [
    {
     "name": "stdout",
     "output_type": "stream",
     "text": [
      "The R^2 using the basic model is equal to 0.2284326"
     ]
    }
   ],
   "source": [
    "R2.lm.basic <- 1-MSE.lm.basic[1]/var(Y_test)\n",
    "cat(\"The R^2 using the basic model is equal to\",R2.lm.basic) # MSE OLS (basic model) "
   ]
  },
  {
   "cell_type": "markdown",
   "id": "746465e7",
   "metadata": {},
   "source": [
    "We do the same for the flexible model"
   ]
  },
  {
   "cell_type": "code",
   "execution_count": 46,
   "id": "bfc3422b",
   "metadata": {},
   "outputs": [
    {
     "data": {
      "text/html": [
       "<style>\n",
       ".list-inline {list-style: none; margin:0; padding: 0}\n",
       ".list-inline>li {display: inline-block}\n",
       ".list-inline>li:not(:last-child)::after {content: \"\\00b7\"; padding: 0 .5ex}\n",
       "</style>\n",
       "<ol class=list-inline><li>0.343046555060948</li><li>0.0218207909693877</li></ol>\n"
      ],
      "text/latex": [
       "\\begin{enumerate*}\n",
       "\\item 0.343046555060948\n",
       "\\item 0.0218207909693877\n",
       "\\end{enumerate*}\n"
      ],
      "text/markdown": [
       "1. 0.343046555060948\n",
       "2. 0.0218207909693877\n",
       "\n",
       "\n"
      ],
      "text/plain": [
       "[1] 0.34304656 0.02182079"
      ]
     },
     "metadata": {},
     "output_type": "display_data"
    },
    {
     "name": "stdout",
     "output_type": "stream",
     "text": [
      "The R^2 using the flexible model is equal to 0.2271902"
     ]
    }
   ],
   "source": [
    "# ols (flexible model)\n",
    "fit.lm.flex <- lm(formula_flex, data_train) \n",
    "\n",
    "# Compute the Out-Of-Sample Performance\n",
    "options(warn=-1)\n",
    "yhat.lm.flex <- predict(fit.lm.flex, newdata=data_test)\n",
    "MSE.lm.flex <- summary(lm((Y_test-yhat.lm.flex)^2~1))$coef[1:2]\n",
    "MSE.lm.flex\n",
    "\n",
    "R2.lm.flex <- 1-MSE.lm.flex[1]/var(Y_test)\n",
    "cat(\"The R^2 using the flexible model is equal to\",R2.lm.flex) # MSE OLS (flexible model) "
   ]
  },
  {
   "cell_type": "markdown",
   "id": "af875335",
   "metadata": {},
   "source": [
    "We observe that ols regression works better for the basic model with smaller $p/n$ ratio. We are proceeding by running lasso regressions and its versions."
   ]
  },
  {
   "cell_type": "markdown",
   "id": "69ccc184",
   "metadata": {},
   "source": [
    "#### LASSO, RIDGE AND ELASTIC NET"
   ]
  },
  {
   "cell_type": "markdown",
   "id": "141b92e4",
   "metadata": {},
   "source": [
    "Considering the basic model, we run a lasso/post-lasso regression first and then we compute the measures for the out-of-sample performance. Note that applying the package *hdm* and the function *rlasso* we rely on a theoretical based choice of the penalty level $\\lambda$ in the lasso regression."
   ]
  },
  {
   "cell_type": "code",
   "execution_count": 52,
   "id": "e4791530",
   "metadata": {},
   "outputs": [
    {
     "name": "stdout",
     "output_type": "stream",
     "text": [
      "The R^2 using the basic model is equal to 0.2246978 for lasso and 0.223038 for post-lasso"
     ]
    }
   ],
   "source": [
    "library(hdm) \n",
    "fit.rlasso  <- rlasso(formula_basic, data_train, post=FALSE)\n",
    "fit.rlasso.post <- rlasso(formula_basic, data_train, post=TRUE)\n",
    "\n",
    "yhat.rlasso   <- predict(fit.rlasso, newdata=data_test)\n",
    "yhat.rlasso.post   <- predict(fit.rlasso.post, newdata=data_test)\n",
    "\n",
    "MSE.lasso <- summary(lm((Y_test-yhat.rlasso)^2~1))$coef[1:2]\n",
    "MSE.lasso.post <- summary(lm((Y_test-yhat.rlasso.post)^2~1))$coef[1:2]\n",
    "\n",
    "R2.lasso <- 1-MSE.lasso[1]/var(Y_test)\n",
    "R2.lasso.post <- 1-MSE.lasso.post[1]/var(Y_test)\n",
    "cat(\"The R^2 using the basic model is equal to\",R2.lasso,\"for lasso and\",R2.lasso.post,\"for post-lasso\") # R^2 lasso/post-lasso (basic model) "
   ]
  },
  {
   "cell_type": "code",
   "execution_count": 53,
   "id": "262472b1",
   "metadata": {},
   "outputs": [
    {
     "data": {
      "text/html": [
       "<style>\n",
       ".list-inline {list-style: none; margin:0; padding: 0}\n",
       ".list-inline>li {display: inline-block}\n",
       ".list-inline>li:not(:last-child)::after {content: \"\\00b7\"; padding: 0 .5ex}\n",
       "</style>\n",
       "<ol class=list-inline><li>0.344152905198439</li><li>0.0217826040297106</li></ol>\n"
      ],
      "text/latex": [
       "\\begin{enumerate*}\n",
       "\\item 0.344152905198439\n",
       "\\item 0.0217826040297106\n",
       "\\end{enumerate*}\n"
      ],
      "text/markdown": [
       "1. 0.344152905198439\n",
       "2. 0.0217826040297106\n",
       "\n",
       "\n"
      ],
      "text/plain": [
       "[1] 0.3441529 0.0217826"
      ]
     },
     "metadata": {},
     "output_type": "display_data"
    },
    {
     "data": {
      "text/html": [
       "<style>\n",
       ".list-inline {list-style: none; margin:0; padding: 0}\n",
       ".list-inline>li {display: inline-block}\n",
       ".list-inline>li:not(:last-child)::after {content: \"\\00b7\"; padding: 0 .5ex}\n",
       "</style>\n",
       "<ol class=list-inline><li>0.344889713426754</li><li>0.0217782952809567</li></ol>\n"
      ],
      "text/latex": [
       "\\begin{enumerate*}\n",
       "\\item 0.344889713426754\n",
       "\\item 0.0217782952809567\n",
       "\\end{enumerate*}\n"
      ],
      "text/markdown": [
       "1. 0.344889713426754\n",
       "2. 0.0217782952809567\n",
       "\n",
       "\n"
      ],
      "text/plain": [
       "[1] 0.3448897 0.0217783"
      ]
     },
     "metadata": {},
     "output_type": "display_data"
    },
    {
     "data": {
      "text/html": [
       "0.224697843826622"
      ],
      "text/latex": [
       "0.224697843826622"
      ],
      "text/markdown": [
       "0.224697843826622"
      ],
      "text/plain": [
       "[1] 0.2246978"
      ]
     },
     "metadata": {},
     "output_type": "display_data"
    },
    {
     "data": {
      "text/html": [
       "0.22303797404354"
      ],
      "text/latex": [
       "0.22303797404354"
      ],
      "text/markdown": [
       "0.22303797404354"
      ],
      "text/plain": [
       "[1] 0.223038"
      ]
     },
     "metadata": {},
     "output_type": "display_data"
    }
   ],
   "source": [
    "MSE.lasso\n",
    "MSE.lasso.post\n",
    "R2.lasso\n",
    "R2.lasso.post"
   ]
  },
  {
   "cell_type": "markdown",
   "id": "24aa192e",
   "metadata": {},
   "source": [
    "Now, we repeat the same procedure for the flexible model."
   ]
  },
  {
   "cell_type": "code",
   "execution_count": 55,
   "id": "ecd40162",
   "metadata": {},
   "outputs": [
    {
     "name": "stdout",
     "output_type": "stream",
     "text": [
      "The R^2 using the flexible model is equal to 0.2258277 for lasso and 0.2248546 for post-lasso"
     ]
    }
   ],
   "source": [
    "fit.rlasso.flex  <- rlasso(formula_flex, data_train, post=FALSE)\n",
    "fit.rlasso.post.flex <- rlasso(formula_flex, data_train, post=TRUE)\n",
    "yhat.rlasso.flex   <- predict(fit.rlasso.flex, newdata=data_test)\n",
    "yhat.rlasso.post.flex   <- predict(fit.rlasso.post.flex, newdata=data_test)\n",
    "\n",
    "MSE.lasso.flex <- summary(lm((Y_test-yhat.rlasso.flex)^2~1))$coef[1:2]\n",
    "MSE.lasso.post.flex <- summary(lm((Y_test-yhat.rlasso.post.flex)^2~1))$coef[1:2]\n",
    "\n",
    "R2.lasso.flex <- 1-MSE.lasso.flex[1]/var(Y_test)\n",
    "R2.lasso.post.flex <- 1-MSE.lasso.post.flex[1]/var(Y_test)\n",
    "cat(\"The R^2 using the flexible model is equal to\",R2.lasso.flex,\"for lasso and\",R2.lasso.post.flex,\"for post-lasso\") # R^2 lasso/post-lasso (flexible model) "
   ]
  },
  {
   "cell_type": "code",
   "execution_count": 57,
   "id": "4ad7dcf8",
   "metadata": {},
   "outputs": [
    {
     "data": {
      "text/html": [
       "<style>\n",
       ".list-inline {list-style: none; margin:0; padding: 0}\n",
       ".list-inline>li {display: inline-block}\n",
       ".list-inline>li:not(:last-child)::after {content: \"\\00b7\"; padding: 0 .5ex}\n",
       "</style>\n",
       "<ol class=list-inline><li>0.343651383592972</li><li>0.0217531970099611</li></ol>\n"
      ],
      "text/latex": [
       "\\begin{enumerate*}\n",
       "\\item 0.343651383592972\n",
       "\\item 0.0217531970099611\n",
       "\\end{enumerate*}\n"
      ],
      "text/markdown": [
       "1. 0.343651383592972\n",
       "2. 0.0217531970099611\n",
       "\n",
       "\n"
      ],
      "text/plain": [
       "[1] 0.3436514 0.0217532"
      ]
     },
     "metadata": {},
     "output_type": "display_data"
    },
    {
     "data": {
      "text/html": [
       "<style>\n",
       ".list-inline {list-style: none; margin:0; padding: 0}\n",
       ".list-inline>li {display: inline-block}\n",
       ".list-inline>li:not(:last-child)::after {content: \"\\00b7\"; padding: 0 .5ex}\n",
       "</style>\n",
       "<ol class=list-inline><li>0.344083300566465</li><li>0.0218046298883339</li></ol>\n"
      ],
      "text/latex": [
       "\\begin{enumerate*}\n",
       "\\item 0.344083300566465\n",
       "\\item 0.0218046298883339\n",
       "\\end{enumerate*}\n"
      ],
      "text/markdown": [
       "1. 0.344083300566465\n",
       "2. 0.0218046298883339\n",
       "\n",
       "\n"
      ],
      "text/plain": [
       "[1] 0.34408330 0.02180463"
      ]
     },
     "metadata": {},
     "output_type": "display_data"
    },
    {
     "data": {
      "text/html": [
       "0.225827663671851"
      ],
      "text/latex": [
       "0.225827663671851"
      ],
      "text/markdown": [
       "0.225827663671851"
      ],
      "text/plain": [
       "[1] 0.2258277"
      ]
     },
     "metadata": {},
     "output_type": "display_data"
    },
    {
     "data": {
      "text/html": [
       "0.224854648027411"
      ],
      "text/latex": [
       "0.224854648027411"
      ],
      "text/markdown": [
       "0.224854648027411"
      ],
      "text/plain": [
       "[1] 0.2248546"
      ]
     },
     "metadata": {},
     "output_type": "display_data"
    }
   ],
   "source": [
    "MSE.lasso.flex\n",
    "MSE.lasso.post.flex\n",
    "R2.lasso.flex\n",
    "R2.lasso.post.flex"
   ]
  },
  {
   "cell_type": "markdown",
   "id": "2729c6e7",
   "metadata": {},
   "source": [
    "We can notice that lasso regresion works better than de post lasso regresion"
   ]
  },
  {
   "cell_type": "markdown",
   "id": "41fd9c86",
   "metadata": {},
   "source": [
    "In contrast to a theoretical based choice of the tuning parameter $\\lambda$ in the lasso regression, we can also use cross-validation to determine the penalty level by applying the package *glmnet* and the function cv.glmnet. In this context, we also run a ridge and a elastic net regression by adjusting the parameter *alpha*."
   ]
  },
  {
   "cell_type": "code",
   "execution_count": 59,
   "id": "01a2ce50",
   "metadata": {},
   "outputs": [
    {
     "name": "stderr",
     "output_type": "stream",
     "text": [
      "Loading required package: Matrix\n",
      "\n",
      "Loaded glmnet 4.1-4\n",
      "\n"
     ]
    },
    {
     "name": "stdout",
     "output_type": "stream",
     "text": [
      "R^2 using cross-validation for lasso, ridge and elastic net in the basic model: 0.1988669 0.2083085 0.2092577"
     ]
    }
   ],
   "source": [
    "# BASIC MODEL\n",
    "\n",
    "library(glmnet)\n",
    "fit.lasso.cv   <- cv.glmnet(model_X_basic_train, Y_train, family=\"gaussian\", alpha=1)\n",
    "fit.ridge   <- cv.glmnet(model_X_basic_train, Y_train, family=\"gaussian\", alpha=0)\n",
    "fit.elnet   <- cv.glmnet(model_X_basic_train, Y_train, family=\"gaussian\", alpha=.5)\n",
    "\n",
    "yhat.lasso.cv    <- predict(fit.lasso.cv, newx = model_X_basic_test)\n",
    "yhat.ridge   <- predict(fit.ridge, newx = model_X_basic_test)\n",
    "yhat.elnet   <- predict(fit.elnet, newx = model_X_basic_test)\n",
    "\n",
    "MSE.lasso.cv <- summary(lm((Y_test-yhat.lasso.cv)^2~1))$coef[1:2]\n",
    "MSE.ridge <- summary(lm((Y_test-yhat.ridge)^2~1))$coef[1:2]\n",
    "MSE.elnet <- summary(lm((Y_test-yhat.elnet)^2~1))$coef[1:2]\n",
    "\n",
    "R2.lasso.cv <- 1-MSE.lasso.cv[1]/var(Y_test)\n",
    "R2.ridge <- 1-MSE.ridge[1]/var(Y_test)\n",
    "R2.elnet <- 1-MSE.elnet[1]/var(Y_test)\n",
    "\n",
    "# R^2 using cross-validation (basic model) \n",
    "cat(\"R^2 using cross-validation for lasso, ridge and elastic net in the basic model:\",R2.lasso.cv,R2.ridge,R2.elnet)"
   ]
  },
  {
   "cell_type": "code",
   "execution_count": 60,
   "id": "272a64e2",
   "metadata": {},
   "outputs": [
    {
     "data": {
      "text/html": [
       "<style>\n",
       ".list-inline {list-style: none; margin:0; padding: 0}\n",
       ".list-inline>li {display: inline-block}\n",
       ".list-inline>li:not(:last-child)::after {content: \"\\00b7\"; padding: 0 .5ex}\n",
       "</style>\n",
       "<ol class=list-inline><li>0.355619114980981</li><li>0.0216752053768584</li></ol>\n"
      ],
      "text/latex": [
       "\\begin{enumerate*}\n",
       "\\item 0.355619114980981\n",
       "\\item 0.0216752053768584\n",
       "\\end{enumerate*}\n"
      ],
      "text/markdown": [
       "1. 0.355619114980981\n",
       "2. 0.0216752053768584\n",
       "\n",
       "\n"
      ],
      "text/plain": [
       "[1] 0.35561911 0.02167521"
      ]
     },
     "metadata": {},
     "output_type": "display_data"
    },
    {
     "data": {
      "text/html": [
       "<style>\n",
       ".list-inline {list-style: none; margin:0; padding: 0}\n",
       ".list-inline>li {display: inline-block}\n",
       ".list-inline>li:not(:last-child)::after {content: \"\\00b7\"; padding: 0 .5ex}\n",
       "</style>\n",
       "<ol class=list-inline><li>0.351428042013394</li><li>0.0216611209200024</li></ol>\n"
      ],
      "text/latex": [
       "\\begin{enumerate*}\n",
       "\\item 0.351428042013394\n",
       "\\item 0.0216611209200024\n",
       "\\end{enumerate*}\n"
      ],
      "text/markdown": [
       "1. 0.351428042013394\n",
       "2. 0.0216611209200024\n",
       "\n",
       "\n"
      ],
      "text/plain": [
       "[1] 0.35142804 0.02166112"
      ]
     },
     "metadata": {},
     "output_type": "display_data"
    },
    {
     "data": {
      "text/html": [
       "<style>\n",
       ".list-inline {list-style: none; margin:0; padding: 0}\n",
       ".list-inline>li {display: inline-block}\n",
       ".list-inline>li:not(:last-child)::after {content: \"\\00b7\"; padding: 0 .5ex}\n",
       "</style>\n",
       "<ol class=list-inline><li>0.3510066912319</li><li>0.0216603099645835</li></ol>\n"
      ],
      "text/latex": [
       "\\begin{enumerate*}\n",
       "\\item 0.3510066912319\n",
       "\\item 0.0216603099645835\n",
       "\\end{enumerate*}\n"
      ],
      "text/markdown": [
       "1. 0.3510066912319\n",
       "2. 0.0216603099645835\n",
       "\n",
       "\n"
      ],
      "text/plain": [
       "[1] 0.35100669 0.02166031"
      ]
     },
     "metadata": {},
     "output_type": "display_data"
    },
    {
     "data": {
      "text/html": [
       "0.198866949961539"
      ],
      "text/latex": [
       "0.198866949961539"
      ],
      "text/markdown": [
       "0.198866949961539"
      ],
      "text/plain": [
       "[1] 0.1988669"
      ]
     },
     "metadata": {},
     "output_type": "display_data"
    },
    {
     "data": {
      "text/html": [
       "0.208308532058823"
      ],
      "text/latex": [
       "0.208308532058823"
      ],
      "text/markdown": [
       "0.208308532058823"
      ],
      "text/plain": [
       "[1] 0.2083085"
      ]
     },
     "metadata": {},
     "output_type": "display_data"
    },
    {
     "data": {
      "text/html": [
       "0.209257744355053"
      ],
      "text/latex": [
       "0.209257744355053"
      ],
      "text/markdown": [
       "0.209257744355053"
      ],
      "text/plain": [
       "[1] 0.2092577"
      ]
     },
     "metadata": {},
     "output_type": "display_data"
    }
   ],
   "source": [
    "MSE.lasso.cv\n",
    "MSE.ridge\n",
    "MSE.elnet\n",
    "R2.lasso.cv\n",
    "R2.ridge\n",
    "R2.elnet\n",
    "# El ridge y elastic net regresion parecen ser los mejores en R2. En MSE la regresion elastic es el mejor."
   ]
  },
  {
   "cell_type": "markdown",
   "id": "1bf3cfe0",
   "metadata": {},
   "source": [
    "Note that the following calculations for the flexible model need some computation time."
   ]
  },
  {
   "cell_type": "code",
   "execution_count": 62,
   "id": "1cc8409b",
   "metadata": {},
   "outputs": [
    {
     "name": "stdout",
     "output_type": "stream",
     "text": [
      "R^2 using cross-validation for lasso, ridge and elastic net in the flexible model: 0.2106096 0.2079365 0.2029036"
     ]
    }
   ],
   "source": [
    "# FLEXIBLE MODEL\n",
    "\n",
    "fit.lasso.cv.flex   <- cv.glmnet(model_X_flex_train, Y_train, family=\"gaussian\", alpha=1)\n",
    "fit.ridge.flex   <- cv.glmnet(model_X_flex_train, Y_train, family=\"gaussian\", alpha=0)\n",
    "fit.elnet.flex   <- cv.glmnet(model_X_flex_train, Y_train, family=\"gaussian\", alpha=.5)\n",
    "\n",
    "yhat.lasso.cv.flex    <- predict(fit.lasso.cv.flex , newx = model_X_flex_test)\n",
    "yhat.ridge.flex    <- predict(fit.ridge.flex , newx = model_X_flex_test)\n",
    "yhat.elnet.flex    <- predict(fit.elnet.flex , newx = model_X_flex_test)\n",
    "\n",
    "MSE.lasso.cv.flex  <- summary(lm((Y_test-yhat.lasso.cv.flex )^2~1))$coef[1:2]\n",
    "MSE.ridge.flex  <- summary(lm((Y_test-yhat.ridge.flex )^2~1))$coef[1:2]\n",
    "MSE.elnet.flex  <- summary(lm((Y_test-yhat.elnet.flex )^2~1))$coef[1:2]\n",
    "\n",
    "R2.lasso.cv.flex  <- 1-MSE.lasso.cv.flex [1]/var(Y_test)\n",
    "R2.ridge.flex  <- 1-MSE.ridge.flex [1]/var(Y_test)\n",
    "R2.elnet.flex  <- 1-MSE.elnet.flex [1]/var(Y_test)\n",
    "\n",
    "# R^2 using cross-validation (flexible model) \n",
    "cat(\"R^2 using cross-validation for lasso, ridge and elastic net in the flexible model:\",R2.lasso.cv.flex,R2.ridge.flex,R2.elnet.flex)"
   ]
  },
  {
   "cell_type": "code",
   "execution_count": 63,
   "id": "cb7588b1",
   "metadata": {},
   "outputs": [
    {
     "data": {
      "text/html": [
       "<style>\n",
       ".list-inline {list-style: none; margin:0; padding: 0}\n",
       ".list-inline>li {display: inline-block}\n",
       ".list-inline>li:not(:last-child)::after {content: \"\\00b7\"; padding: 0 .5ex}\n",
       "</style>\n",
       "<ol class=list-inline><li>0.350406593228598</li><li>0.0217403435330155</li></ol>\n"
      ],
      "text/latex": [
       "\\begin{enumerate*}\n",
       "\\item 0.350406593228598\n",
       "\\item 0.0217403435330155\n",
       "\\end{enumerate*}\n"
      ],
      "text/markdown": [
       "1. 0.350406593228598\n",
       "2. 0.0217403435330155\n",
       "\n",
       "\n"
      ],
      "text/plain": [
       "[1] 0.35040659 0.02174034"
      ]
     },
     "metadata": {},
     "output_type": "display_data"
    },
    {
     "data": {
      "text/html": [
       "<style>\n",
       ".list-inline {list-style: none; margin:0; padding: 0}\n",
       ".list-inline>li {display: inline-block}\n",
       ".list-inline>li:not(:last-child)::after {content: \"\\00b7\"; padding: 0 .5ex}\n",
       "</style>\n",
       "<ol class=list-inline><li>0.351593169382076</li><li>0.021721617873654</li></ol>\n"
      ],
      "text/latex": [
       "\\begin{enumerate*}\n",
       "\\item 0.351593169382076\n",
       "\\item 0.021721617873654\n",
       "\\end{enumerate*}\n"
      ],
      "text/markdown": [
       "1. 0.351593169382076\n",
       "2. 0.021721617873654\n",
       "\n",
       "\n"
      ],
      "text/plain": [
       "[1] 0.35159317 0.02172162"
      ]
     },
     "metadata": {},
     "output_type": "display_data"
    },
    {
     "data": {
      "text/html": [
       "<style>\n",
       ".list-inline {list-style: none; margin:0; padding: 0}\n",
       ".list-inline>li {display: inline-block}\n",
       ".list-inline>li:not(:last-child)::after {content: \"\\00b7\"; padding: 0 .5ex}\n",
       "</style>\n",
       "<ol class=list-inline><li>0.353827254776702</li><li>0.0217421983289081</li></ol>\n"
      ],
      "text/latex": [
       "\\begin{enumerate*}\n",
       "\\item 0.353827254776702\n",
       "\\item 0.0217421983289081\n",
       "\\end{enumerate*}\n"
      ],
      "text/markdown": [
       "1. 0.353827254776702\n",
       "2. 0.0217421983289081\n",
       "\n",
       "\n"
      ],
      "text/plain": [
       "[1] 0.3538273 0.0217422"
      ]
     },
     "metadata": {},
     "output_type": "display_data"
    },
    {
     "data": {
      "text/html": [
       "0.210609635531469"
      ],
      "text/latex": [
       "0.210609635531469"
      ],
      "text/markdown": [
       "0.210609635531469"
      ],
      "text/plain": [
       "[1] 0.2106096"
      ]
     },
     "metadata": {},
     "output_type": "display_data"
    },
    {
     "data": {
      "text/html": [
       "0.207936535765756"
      ],
      "text/latex": [
       "0.207936535765756"
      ],
      "text/markdown": [
       "0.207936535765756"
      ],
      "text/plain": [
       "[1] 0.2079365"
      ]
     },
     "metadata": {},
     "output_type": "display_data"
    },
    {
     "data": {
      "text/html": [
       "0.202903623948463"
      ],
      "text/latex": [
       "0.202903623948463"
      ],
      "text/markdown": [
       "0.202903623948463"
      ],
      "text/plain": [
       "[1] 0.2029036"
      ]
     },
     "metadata": {},
     "output_type": "display_data"
    }
   ],
   "source": [
    "MSE.lasso.cv.flex\n",
    "MSE.ridge.flex\n",
    "MSE.elnet.flex\n",
    "R2.lasso.cv.flex\n",
    "R2.ridge.flex\n",
    "R2.elnet.flex\n",
    "# Los mejores en R2 son el modelo lasso y ridge. En MSE el mejor (el que tiene menor valor) es el modelo lasso"
   ]
  },
  {
   "cell_type": "markdown",
   "id": "dc215cc0",
   "metadata": {},
   "source": [
    "### NO LINEAR MODELS"
   ]
  },
  {
   "cell_type": "code",
   "execution_count": 64,
   "id": "56e6f7a3",
   "metadata": {},
   "outputs": [
    {
     "name": "stderr",
     "output_type": "stream",
     "text": [
      "Installing package into 'C:/Users/Andrea/OneDrive/Documentos/R/win-library/4.1'\n",
      "(as 'lib' is unspecified)\n",
      "\n"
     ]
    },
    {
     "name": "stdout",
     "output_type": "stream",
     "text": [
      "package 'randomForest' successfully unpacked and MD5 sums checked\n",
      "\n",
      "The downloaded binary packages are in\n",
      "\tC:\\Users\\Andrea\\AppData\\Local\\Temp\\RtmpCEDsfi\\downloaded_packages\n"
     ]
    },
    {
     "name": "stderr",
     "output_type": "stream",
     "text": [
      "Installing package into 'C:/Users/Andrea/OneDrive/Documentos/R/win-library/4.1'\n",
      "(as 'lib' is unspecified)\n",
      "\n"
     ]
    },
    {
     "name": "stdout",
     "output_type": "stream",
     "text": [
      "package 'gbm' successfully unpacked and MD5 sums checked\n",
      "\n",
      "The downloaded binary packages are in\n",
      "\tC:\\Users\\Andrea\\AppData\\Local\\Temp\\RtmpCEDsfi\\downloaded_packages\n"
     ]
    },
    {
     "name": "stderr",
     "output_type": "stream",
     "text": [
      "Installing package into 'C:/Users/Andrea/OneDrive/Documentos/R/win-library/4.1'\n",
      "(as 'lib' is unspecified)\n",
      "\n",
      "also installing the dependencies 'RcppTOML', 'here', 'png', 'config', 'tfautograph', 'reticulate', 'tensorflow', 'tfruns', 'zeallot'\n",
      "\n",
      "\n"
     ]
    },
    {
     "name": "stdout",
     "output_type": "stream",
     "text": [
      "package 'RcppTOML' successfully unpacked and MD5 sums checked\n",
      "package 'here' successfully unpacked and MD5 sums checked\n",
      "package 'png' successfully unpacked and MD5 sums checked\n",
      "package 'config' successfully unpacked and MD5 sums checked\n",
      "package 'tfautograph' successfully unpacked and MD5 sums checked\n",
      "package 'reticulate' successfully unpacked and MD5 sums checked\n",
      "package 'tensorflow' successfully unpacked and MD5 sums checked\n",
      "package 'tfruns' successfully unpacked and MD5 sums checked\n",
      "package 'zeallot' successfully unpacked and MD5 sums checked\n",
      "package 'keras' successfully unpacked and MD5 sums checked\n",
      "\n",
      "The downloaded binary packages are in\n",
      "\tC:\\Users\\Andrea\\AppData\\Local\\Temp\\RtmpCEDsfi\\downloaded_packages\n"
     ]
    }
   ],
   "source": [
    "install.packages(\"randomForest\")\n",
    "install.packages(\"gbm\")\n",
    "install.packages(\"keras\")"
   ]
  },
  {
   "cell_type": "code",
   "execution_count": 65,
   "id": "cc586a74",
   "metadata": {},
   "outputs": [
    {
     "name": "stderr",
     "output_type": "stream",
     "text": [
      "randomForest 4.7-1.1\n",
      "\n",
      "Type rfNews() to see new features/changes/bug fixes.\n",
      "\n",
      "Loaded gbm 2.1.8\n",
      "\n"
     ]
    }
   ],
   "source": [
    "library(randomForest)\n",
    "library(rpart)\n",
    "library(nnet)\n",
    "library(gbm)\n",
    "library(rpart.plot)\n",
    "library(keras)"
   ]
  },
  {
   "cell_type": "markdown",
   "id": "bce3cfa2",
   "metadata": {},
   "source": [
    "#### Tree regresion"
   ]
  },
  {
   "cell_type": "markdown",
   "id": "20fcbaf7",
   "metadata": {},
   "source": [
    "We fit a regression tree to the training data using the basic model. The variable *cp* controls the complexity of the regression tree, i.e. how deep we build the tree."
   ]
  },
  {
   "cell_type": "code",
   "execution_count": 66,
   "id": "6c2bdebd",
   "metadata": {},
   "outputs": [
    {
     "name": "stdout",
     "output_type": "stream",
     "text": [
      "cex 0.15   xlim c(0, 1)   ylim c(0, 1)\n"
     ]
    },
    {
     "data": {
      "image/png": "[encoded data removed]",
      "text/plain": [
       "plot without title"
      ]
     },
     "metadata": {
      "image/png": {
       "height": 420,
       "width": 420
      }
     },
     "output_type": "display_data"
    }
   ],
   "source": [
    "# tree\n",
    "fit.trees <- rpart(formula_basic, data_train, cp = 0)\n",
    "prp(fit.trees, leaf.round=1, space=2, yspace=2, split.space=2, shadow.col = \"gray\", trace = 1) # plotting the tree"
   ]
  },
  {
   "cell_type": "markdown",
   "id": "5edecdf0",
   "metadata": {},
   "source": [
    "#### Prune tree regresion"
   ]
  },
  {
   "cell_type": "markdown",
   "id": "c275f993",
   "metadata": {},
   "source": [
    "An important method to improve predictive performance is called \"Pruning the Tree\". This\n",
    "means the process of cutting down the branches of a tree. We apply pruning to the complex tree above to reduce the depth. Initially, we determine the optimal complexity of the regression tree."
   ]
  },
  {
   "cell_type": "code",
   "execution_count": 67,
   "id": "757cc37b",
   "metadata": {},
   "outputs": [
    {
     "name": "stdout",
     "output_type": "stream",
     "text": [
      "cex 0.538   xlim c(0, 1)   ylim c(0, 1)\n"
     ]
    },
    {
     "data": {
      "image/png": "[encoded data removed]",
      "text/plain": [
       "plot without title"
      ]
     },
     "metadata": {
      "image/png": {
       "height": 420,
       "width": 420
      }
     },
     "output_type": "display_data"
    }
   ],
   "source": [
    "fit.trees <- rpart(formula_basic, data_train, cp = 0.001)\n",
    "prp(fit.trees, leaf.round=1, space=2, yspace=2, split.space=2, shadow.col = \"gray\", trace = 1) # plotting the tree"
   ]
  },
  {
   "cell_type": "code",
   "execution_count": 68,
   "id": "5d7616f5",
   "metadata": {},
   "outputs": [
    {
     "data": {
      "text/html": [
       "<table class=\"dataframe\">\n",
       "<caption>A matrix: 21 × 5 of type dbl</caption>\n",
       "<thead>\n",
       "\t<tr><th></th><th scope=col>CP</th><th scope=col>nsplit</th><th scope=col>rel error</th><th scope=col>xerror</th><th scope=col>xstd</th></tr>\n",
       "</thead>\n",
       "<tbody>\n",
       "\t<tr><th scope=row>1</th><td>0.081430568</td><td> 0</td><td>1.0000000</td><td>1.0000661</td><td>0.02439466</td></tr>\n",
       "\t<tr><th scope=row>2</th><td>0.066583565</td><td> 1</td><td>0.9185694</td><td>0.9186953</td><td>0.02395927</td></tr>\n",
       "\t<tr><th scope=row>3</th><td>0.023898064</td><td> 2</td><td>0.8519859</td><td>0.8522100</td><td>0.02370428</td></tr>\n",
       "\t<tr><th scope=row>4</th><td>0.012678659</td><td> 3</td><td>0.8280878</td><td>0.8283599</td><td>0.02356925</td></tr>\n",
       "\t<tr><th scope=row>5</th><td>0.010605052</td><td> 4</td><td>0.8154091</td><td>0.8163259</td><td>0.02367407</td></tr>\n",
       "\t<tr><th scope=row>6</th><td>0.009387934</td><td> 5</td><td>0.8048041</td><td>0.8073898</td><td>0.02376217</td></tr>\n",
       "\t<tr><th scope=row>7</th><td>0.007983296</td><td> 6</td><td>0.7954162</td><td>0.7963475</td><td>0.02363006</td></tr>\n",
       "\t<tr><th scope=row>8</th><td>0.004177217</td><td> 7</td><td>0.7874329</td><td>0.7884293</td><td>0.02355477</td></tr>\n",
       "\t<tr><th scope=row>9</th><td>0.002648821</td><td> 8</td><td>0.7832556</td><td>0.7851567</td><td>0.02353832</td></tr>\n",
       "\t<tr><th scope=row>10</th><td>0.002615364</td><td>10</td><td>0.7779580</td><td>0.7821894</td><td>0.02362792</td></tr>\n",
       "\t<tr><th scope=row>11</th><td>0.002601857</td><td>11</td><td>0.7753426</td><td>0.7821276</td><td>0.02362843</td></tr>\n",
       "\t<tr><th scope=row>12</th><td>0.001756100</td><td>12</td><td>0.7727408</td><td>0.7766749</td><td>0.02361348</td></tr>\n",
       "\t<tr><th scope=row>13</th><td>0.001541961</td><td>13</td><td>0.7709847</td><td>0.7751453</td><td>0.02365932</td></tr>\n",
       "\t<tr><th scope=row>14</th><td>0.001440929</td><td>14</td><td>0.7694427</td><td>0.7736340</td><td>0.02367600</td></tr>\n",
       "\t<tr><th scope=row>15</th><td>0.001421361</td><td>15</td><td>0.7680018</td><td>0.7732486</td><td>0.02368076</td></tr>\n",
       "\t<tr><th scope=row>16</th><td>0.001347171</td><td>16</td><td>0.7665804</td><td>0.7725563</td><td>0.02368762</td></tr>\n",
       "\t<tr><th scope=row>17</th><td>0.001245009</td><td>18</td><td>0.7638861</td><td>0.7716735</td><td>0.02370033</td></tr>\n",
       "\t<tr><th scope=row>18</th><td>0.001213494</td><td>19</td><td>0.7626411</td><td>0.7697508</td><td>0.02365574</td></tr>\n",
       "\t<tr><th scope=row>19</th><td>0.001171251</td><td>20</td><td>0.7614276</td><td>0.7696637</td><td>0.02365690</td></tr>\n",
       "\t<tr><th scope=row>20</th><td>0.001103153</td><td>21</td><td>0.7602563</td><td>0.7688803</td><td>0.02369905</td></tr>\n",
       "\t<tr><th scope=row>21</th><td>0.001000000</td><td>22</td><td>0.7591532</td><td>0.7667735</td><td>0.02369419</td></tr>\n",
       "</tbody>\n",
       "</table>\n"
      ],
      "text/latex": [
       "A matrix: 21 × 5 of type dbl\n",
       "\\begin{tabular}{r|lllll}\n",
       "  & CP & nsplit & rel error & xerror & xstd\\\\\n",
       "\\hline\n",
       "\t1 & 0.081430568 &  0 & 1.0000000 & 1.0000661 & 0.02439466\\\\\n",
       "\t2 & 0.066583565 &  1 & 0.9185694 & 0.9186953 & 0.02395927\\\\\n",
       "\t3 & 0.023898064 &  2 & 0.8519859 & 0.8522100 & 0.02370428\\\\\n",
       "\t4 & 0.012678659 &  3 & 0.8280878 & 0.8283599 & 0.02356925\\\\\n",
       "\t5 & 0.010605052 &  4 & 0.8154091 & 0.8163259 & 0.02367407\\\\\n",
       "\t6 & 0.009387934 &  5 & 0.8048041 & 0.8073898 & 0.02376217\\\\\n",
       "\t7 & 0.007983296 &  6 & 0.7954162 & 0.7963475 & 0.02363006\\\\\n",
       "\t8 & 0.004177217 &  7 & 0.7874329 & 0.7884293 & 0.02355477\\\\\n",
       "\t9 & 0.002648821 &  8 & 0.7832556 & 0.7851567 & 0.02353832\\\\\n",
       "\t10 & 0.002615364 & 10 & 0.7779580 & 0.7821894 & 0.02362792\\\\\n",
       "\t11 & 0.002601857 & 11 & 0.7753426 & 0.7821276 & 0.02362843\\\\\n",
       "\t12 & 0.001756100 & 12 & 0.7727408 & 0.7766749 & 0.02361348\\\\\n",
       "\t13 & 0.001541961 & 13 & 0.7709847 & 0.7751453 & 0.02365932\\\\\n",
       "\t14 & 0.001440929 & 14 & 0.7694427 & 0.7736340 & 0.02367600\\\\\n",
       "\t15 & 0.001421361 & 15 & 0.7680018 & 0.7732486 & 0.02368076\\\\\n",
       "\t16 & 0.001347171 & 16 & 0.7665804 & 0.7725563 & 0.02368762\\\\\n",
       "\t17 & 0.001245009 & 18 & 0.7638861 & 0.7716735 & 0.02370033\\\\\n",
       "\t18 & 0.001213494 & 19 & 0.7626411 & 0.7697508 & 0.02365574\\\\\n",
       "\t19 & 0.001171251 & 20 & 0.7614276 & 0.7696637 & 0.02365690\\\\\n",
       "\t20 & 0.001103153 & 21 & 0.7602563 & 0.7688803 & 0.02369905\\\\\n",
       "\t21 & 0.001000000 & 22 & 0.7591532 & 0.7667735 & 0.02369419\\\\\n",
       "\\end{tabular}\n"
      ],
      "text/markdown": [
       "\n",
       "A matrix: 21 × 5 of type dbl\n",
       "\n",
       "| <!--/--> | CP | nsplit | rel error | xerror | xstd |\n",
       "|---|---|---|---|---|---|\n",
       "| 1 | 0.081430568 |  0 | 1.0000000 | 1.0000661 | 0.02439466 |\n",
       "| 2 | 0.066583565 |  1 | 0.9185694 | 0.9186953 | 0.02395927 |\n",
       "| 3 | 0.023898064 |  2 | 0.8519859 | 0.8522100 | 0.02370428 |\n",
       "| 4 | 0.012678659 |  3 | 0.8280878 | 0.8283599 | 0.02356925 |\n",
       "| 5 | 0.010605052 |  4 | 0.8154091 | 0.8163259 | 0.02367407 |\n",
       "| 6 | 0.009387934 |  5 | 0.8048041 | 0.8073898 | 0.02376217 |\n",
       "| 7 | 0.007983296 |  6 | 0.7954162 | 0.7963475 | 0.02363006 |\n",
       "| 8 | 0.004177217 |  7 | 0.7874329 | 0.7884293 | 0.02355477 |\n",
       "| 9 | 0.002648821 |  8 | 0.7832556 | 0.7851567 | 0.02353832 |\n",
       "| 10 | 0.002615364 | 10 | 0.7779580 | 0.7821894 | 0.02362792 |\n",
       "| 11 | 0.002601857 | 11 | 0.7753426 | 0.7821276 | 0.02362843 |\n",
       "| 12 | 0.001756100 | 12 | 0.7727408 | 0.7766749 | 0.02361348 |\n",
       "| 13 | 0.001541961 | 13 | 0.7709847 | 0.7751453 | 0.02365932 |\n",
       "| 14 | 0.001440929 | 14 | 0.7694427 | 0.7736340 | 0.02367600 |\n",
       "| 15 | 0.001421361 | 15 | 0.7680018 | 0.7732486 | 0.02368076 |\n",
       "| 16 | 0.001347171 | 16 | 0.7665804 | 0.7725563 | 0.02368762 |\n",
       "| 17 | 0.001245009 | 18 | 0.7638861 | 0.7716735 | 0.02370033 |\n",
       "| 18 | 0.001213494 | 19 | 0.7626411 | 0.7697508 | 0.02365574 |\n",
       "| 19 | 0.001171251 | 20 | 0.7614276 | 0.7696637 | 0.02365690 |\n",
       "| 20 | 0.001103153 | 21 | 0.7602563 | 0.7688803 | 0.02369905 |\n",
       "| 21 | 0.001000000 | 22 | 0.7591532 | 0.7667735 | 0.02369419 |\n",
       "\n"
      ],
      "text/plain": [
       "   CP          nsplit rel error xerror    xstd      \n",
       "1  0.081430568  0     1.0000000 1.0000661 0.02439466\n",
       "2  0.066583565  1     0.9185694 0.9186953 0.02395927\n",
       "3  0.023898064  2     0.8519859 0.8522100 0.02370428\n",
       "4  0.012678659  3     0.8280878 0.8283599 0.02356925\n",
       "5  0.010605052  4     0.8154091 0.8163259 0.02367407\n",
       "6  0.009387934  5     0.8048041 0.8073898 0.02376217\n",
       "7  0.007983296  6     0.7954162 0.7963475 0.02363006\n",
       "8  0.004177217  7     0.7874329 0.7884293 0.02355477\n",
       "9  0.002648821  8     0.7832556 0.7851567 0.02353832\n",
       "10 0.002615364 10     0.7779580 0.7821894 0.02362792\n",
       "11 0.002601857 11     0.7753426 0.7821276 0.02362843\n",
       "12 0.001756100 12     0.7727408 0.7766749 0.02361348\n",
       "13 0.001541961 13     0.7709847 0.7751453 0.02365932\n",
       "14 0.001440929 14     0.7694427 0.7736340 0.02367600\n",
       "15 0.001421361 15     0.7680018 0.7732486 0.02368076\n",
       "16 0.001347171 16     0.7665804 0.7725563 0.02368762\n",
       "17 0.001245009 18     0.7638861 0.7716735 0.02370033\n",
       "18 0.001213494 19     0.7626411 0.7697508 0.02365574\n",
       "19 0.001171251 20     0.7614276 0.7696637 0.02365690\n",
       "20 0.001103153 21     0.7602563 0.7688803 0.02369905\n",
       "21 0.001000000 22     0.7591532 0.7667735 0.02369419"
      ]
     },
     "metadata": {},
     "output_type": "display_data"
    }
   ],
   "source": [
    "fit.trees$cptable"
   ]
  },
  {
   "cell_type": "code",
   "execution_count": 70,
   "id": "9443f208",
   "metadata": {},
   "outputs": [
    {
     "data": {
      "text/html": [
       "<strong>21:</strong> 21"
      ],
      "text/latex": [
       "\\textbf{21:} 21"
      ],
      "text/markdown": [
       "**21:** 21"
      ],
      "text/plain": [
       "21 \n",
       "21 "
      ]
     },
     "metadata": {},
     "output_type": "display_data"
    }
   ],
   "source": [
    "which.min(fit.trees$cptable[,\"xerror\"])"
   ]
  },
  {
   "cell_type": "code",
   "execution_count": 71,
   "id": "7c16e5c1",
   "metadata": {},
   "outputs": [
    {
     "data": {
      "text/html": [
       "0.001"
      ],
      "text/latex": [
       "0.001"
      ],
      "text/markdown": [
       "0.001"
      ],
      "text/plain": [
       "[1] 0.001"
      ]
     },
     "metadata": {},
     "output_type": "display_data"
    }
   ],
   "source": [
    "bestcp<- fit.trees$cptable[which.min(fit.trees$cptable[,\"xerror\"]),\"CP\"]\n",
    "bestcp"
   ]
  },
  {
   "cell_type": "markdown",
   "id": "a46da44d",
   "metadata": {},
   "source": [
    "Now, we can prune the tree and visualize the prediction rule"
   ]
  },
  {
   "cell_type": "code",
   "execution_count": 72,
   "id": "004d54ef",
   "metadata": {},
   "outputs": [
    {
     "data": {
      "image/png": "[encoded data removed]",
      "text/plain": [
       "plot without title"
      ]
     },
     "metadata": {
      "image/png": {
       "height": 420,
       "width": 420
      }
     },
     "output_type": "display_data"
    }
   ],
   "source": [
    "fit.prunedtree <- prune(fit.trees, cp=bestcp)\n",
    "plot1 <- rpart.plot(fit.prunedtree,leaf.round=1, space=1, yspace=1.5, split.space=1, shadow.col = \"gray\", type =4,\n",
    "          branch = 1, box.palette=\"GnBu\", cex = 0.7)"
   ]
  },
  {
   "cell_type": "markdown",
   "id": "54aa8702",
   "metadata": {},
   "source": [
    "Finally, we calculate the mean-squared error and the $R^2$ on the test sample to evaluate the out-of-sample performance of the pruned tree."
   ]
  },
  {
   "cell_type": "code",
   "execution_count": 75,
   "id": "bc65fe36",
   "metadata": {},
   "outputs": [
    {
     "name": "stdout",
     "output_type": "stream",
     "text": [
      "R^2 of the pruned tree: 0.2135014"
     ]
    }
   ],
   "source": [
    "yhat.pt <- predict(fit.prunedtree,newdata=data_test)\n",
    "\n",
    "MSE.pt <- summary(lm((Y_test-yhat.pt)^2~1))$coef[1:2]\n",
    "R2.pt  <- 1-MSE.pt[1]/var(Y_test)\n",
    "\n",
    "# R^2 of the pruned tree\n",
    "cat(\"R^2 of the pruned tree:\",R2.pt)"
   ]
  },
  {
   "cell_type": "code",
   "execution_count": 76,
   "id": "61e761bb",
   "metadata": {},
   "outputs": [
    {
     "data": {
      "text/html": [
       "<style>\n",
       ".list-inline {list-style: none; margin:0; padding: 0}\n",
       ".list-inline>li {display: inline-block}\n",
       ".list-inline>li:not(:last-child)::after {content: \"\\00b7\"; padding: 0 .5ex}\n",
       "</style>\n",
       "<ol class=list-inline><li>0.349122972424506</li><li>0.0222132368671586</li></ol>\n"
      ],
      "text/latex": [
       "\\begin{enumerate*}\n",
       "\\item 0.349122972424506\n",
       "\\item 0.0222132368671586\n",
       "\\end{enumerate*}\n"
      ],
      "text/markdown": [
       "1. 0.349122972424506\n",
       "2. 0.0222132368671586\n",
       "\n",
       "\n"
      ],
      "text/plain": [
       "[1] 0.34912297 0.02221324"
      ]
     },
     "metadata": {},
     "output_type": "display_data"
    },
    {
     "data": {
      "text/html": [
       "0.213501355932747"
      ],
      "text/latex": [
       "0.213501355932747"
      ],
      "text/markdown": [
       "0.213501355932747"
      ],
      "text/plain": [
       "[1] 0.2135014"
      ]
     },
     "metadata": {},
     "output_type": "display_data"
    }
   ],
   "source": [
    "MSE.pt\n",
    "R2.pt"
   ]
  },
  {
   "cell_type": "markdown",
   "id": "c98efbce",
   "metadata": {},
   "source": [
    "#### RESULTS"
   ]
  },
  {
   "cell_type": "code",
   "execution_count": 80,
   "id": "57a3557c",
   "metadata": {},
   "outputs": [
    {
     "data": {
      "text/html": [
       "<table class=\"dataframe\">\n",
       "<caption>A xtable: 13 × 3</caption>\n",
       "<thead>\n",
       "\t<tr><th></th><th scope=col>MSE</th><th scope=col>S.E. for MSE</th><th scope=col>R-squared</th></tr>\n",
       "\t<tr><th></th><th scope=col>&lt;dbl&gt;</th><th scope=col>&lt;dbl&gt;</th><th scope=col>&lt;dbl&gt;</th></tr>\n",
       "</thead>\n",
       "<tbody>\n",
       "\t<tr><th scope=row>Least Squares (basic)</th><td>0.3424951</td><td>0.02194119</td><td>0.2284326</td></tr>\n",
       "\t<tr><th scope=row>Least Squares (flexible)</th><td>0.3430466</td><td>0.02182079</td><td>0.2271902</td></tr>\n",
       "\t<tr><th scope=row>Lasso</th><td>0.3441529</td><td>0.02178260</td><td>0.2246978</td></tr>\n",
       "\t<tr><th scope=row>Post-Lasso</th><td>0.3448897</td><td>0.02177830</td><td>0.2230380</td></tr>\n",
       "\t<tr><th scope=row>Lasso (flexible)</th><td>0.3436514</td><td>0.02175320</td><td>0.2258277</td></tr>\n",
       "\t<tr><th scope=row>Post-Lasso (flexible)</th><td>0.3440833</td><td>0.02180463</td><td>0.2248546</td></tr>\n",
       "\t<tr><th scope=row>Cross-Validated lasso</th><td>0.3556191</td><td>0.02167521</td><td>0.1988669</td></tr>\n",
       "\t<tr><th scope=row>Cross-Validated ridge</th><td>0.3514280</td><td>0.02166112</td><td>0.2083085</td></tr>\n",
       "\t<tr><th scope=row>Cross-Validated elnet</th><td>0.3510067</td><td>0.02166031</td><td>0.2092577</td></tr>\n",
       "\t<tr><th scope=row>Cross-Validated lasso (flexible)</th><td>0.3504066</td><td>0.02174034</td><td>0.2106096</td></tr>\n",
       "\t<tr><th scope=row>Cross-Validated ridge (flexible)</th><td>0.3515932</td><td>0.02172162</td><td>0.2079365</td></tr>\n",
       "\t<tr><th scope=row>Cross-Validated elnet (flexible)</th><td>0.3538273</td><td>0.02174220</td><td>0.2029036</td></tr>\n",
       "\t<tr><th scope=row>Pruned Tree</th><td>0.3491230</td><td>0.02221324</td><td>0.2135014</td></tr>\n",
       "</tbody>\n",
       "</table>\n"
      ],
      "text/latex": [
       "A xtable: 13 × 3\n",
       "\\begin{tabular}{r|lll}\n",
       "  & MSE & S.E. for MSE & R-squared\\\\\n",
       "  & <dbl> & <dbl> & <dbl>\\\\\n",
       "\\hline\n",
       "\tLeast Squares (basic) & 0.3424951 & 0.02194119 & 0.2284326\\\\\n",
       "\tLeast Squares (flexible) & 0.3430466 & 0.02182079 & 0.2271902\\\\\n",
       "\tLasso & 0.3441529 & 0.02178260 & 0.2246978\\\\\n",
       "\tPost-Lasso & 0.3448897 & 0.02177830 & 0.2230380\\\\\n",
       "\tLasso (flexible) & 0.3436514 & 0.02175320 & 0.2258277\\\\\n",
       "\tPost-Lasso (flexible) & 0.3440833 & 0.02180463 & 0.2248546\\\\\n",
       "\tCross-Validated lasso & 0.3556191 & 0.02167521 & 0.1988669\\\\\n",
       "\tCross-Validated ridge & 0.3514280 & 0.02166112 & 0.2083085\\\\\n",
       "\tCross-Validated elnet & 0.3510067 & 0.02166031 & 0.2092577\\\\\n",
       "\tCross-Validated lasso (flexible) & 0.3504066 & 0.02174034 & 0.2106096\\\\\n",
       "\tCross-Validated ridge (flexible) & 0.3515932 & 0.02172162 & 0.2079365\\\\\n",
       "\tCross-Validated elnet (flexible) & 0.3538273 & 0.02174220 & 0.2029036\\\\\n",
       "\tPruned Tree & 0.3491230 & 0.02221324 & 0.2135014\\\\\n",
       "\\end{tabular}\n"
      ],
      "text/markdown": [
       "\n",
       "A xtable: 13 × 3\n",
       "\n",
       "| <!--/--> | MSE &lt;dbl&gt; | S.E. for MSE &lt;dbl&gt; | R-squared &lt;dbl&gt; |\n",
       "|---|---|---|---|\n",
       "| Least Squares (basic) | 0.3424951 | 0.02194119 | 0.2284326 |\n",
       "| Least Squares (flexible) | 0.3430466 | 0.02182079 | 0.2271902 |\n",
       "| Lasso | 0.3441529 | 0.02178260 | 0.2246978 |\n",
       "| Post-Lasso | 0.3448897 | 0.02177830 | 0.2230380 |\n",
       "| Lasso (flexible) | 0.3436514 | 0.02175320 | 0.2258277 |\n",
       "| Post-Lasso (flexible) | 0.3440833 | 0.02180463 | 0.2248546 |\n",
       "| Cross-Validated lasso | 0.3556191 | 0.02167521 | 0.1988669 |\n",
       "| Cross-Validated ridge | 0.3514280 | 0.02166112 | 0.2083085 |\n",
       "| Cross-Validated elnet | 0.3510067 | 0.02166031 | 0.2092577 |\n",
       "| Cross-Validated lasso (flexible) | 0.3504066 | 0.02174034 | 0.2106096 |\n",
       "| Cross-Validated ridge (flexible) | 0.3515932 | 0.02172162 | 0.2079365 |\n",
       "| Cross-Validated elnet (flexible) | 0.3538273 | 0.02174220 | 0.2029036 |\n",
       "| Pruned Tree | 0.3491230 | 0.02221324 | 0.2135014 |\n",
       "\n"
      ],
      "text/plain": [
       "                                 MSE       S.E. for MSE R-squared\n",
       "Least Squares (basic)            0.3424951 0.02194119   0.2284326\n",
       "Least Squares (flexible)         0.3430466 0.02182079   0.2271902\n",
       "Lasso                            0.3441529 0.02178260   0.2246978\n",
       "Post-Lasso                       0.3448897 0.02177830   0.2230380\n",
       "Lasso (flexible)                 0.3436514 0.02175320   0.2258277\n",
       "Post-Lasso (flexible)            0.3440833 0.02180463   0.2248546\n",
       "Cross-Validated lasso            0.3556191 0.02167521   0.1988669\n",
       "Cross-Validated ridge            0.3514280 0.02166112   0.2083085\n",
       "Cross-Validated elnet            0.3510067 0.02166031   0.2092577\n",
       "Cross-Validated lasso (flexible) 0.3504066 0.02174034   0.2106096\n",
       "Cross-Validated ridge (flexible) 0.3515932 0.02172162   0.2079365\n",
       "Cross-Validated elnet (flexible) 0.3538273 0.02174220   0.2029036\n",
       "Pruned Tree                      0.3491230 0.02221324   0.2135014"
      ]
     },
     "metadata": {},
     "output_type": "display_data"
    }
   ],
   "source": [
    "library(xtable)\n",
    "table<- matrix(0, 13, 3)\n",
    "table[1,1:2]   <- MSE.lm.basic\n",
    "table[2,1:2]   <- MSE.lm.flex\n",
    "table[3,1:2]   <- MSE.lasso\n",
    "table[4,1:2]   <- MSE.lasso.post\n",
    "table[5,1:2]   <- MSE.lasso.flex\n",
    "table[6,1:2]   <- MSE.lasso.post.flex\n",
    "table[7,1:2]   <- MSE.lasso.cv\n",
    "table[8,1:2]   <- MSE.ridge\n",
    "table[9,1:2]   <- MSE.elnet\n",
    "table[10,1:2]   <- MSE.lasso.cv.flex\n",
    "table[11,1:2]  <- MSE.ridge.flex\n",
    "table[12,1:2]  <- MSE.elnet.flex\n",
    "table[13,1:2]  <- MSE.pt\n",
    "\n",
    "\n",
    "\n",
    "table[1,3]   <- R2.lm.basic\n",
    "table[2,3]   <- R2.lm.flex\n",
    "table[3,3]   <- R2.lasso\n",
    "table[4,3]   <- R2.lasso.post\n",
    "table[5,3]   <- R2.lasso.flex\n",
    "table[6,3]   <- R2.lasso.post.flex\n",
    "table[7,3]   <- R2.lasso.cv\n",
    "table[8,3]   <- R2.ridge\n",
    "table[9,3]   <- R2.elnet\n",
    "table[10,3]   <- R2.lasso.cv.flex\n",
    "table[11,3]  <- R2.ridge.flex\n",
    "table[12,3]  <- R2.elnet.flex\n",
    "table[13,3]  <- R2.pt\n",
    "\n",
    "\n",
    "\n",
    "\n",
    "colnames(table)<- c(\"MSE\", \"S.E. for MSE\", \"R-squared\")\n",
    "rownames(table)<- c(\"Least Squares (basic)\",\"Least Squares (flexible)\", \"Lasso\", \"Post-Lasso\",\"Lasso (flexible)\",\"Post-Lasso (flexible)\", \n",
    "                    \"Cross-Validated lasso\", \"Cross-Validated ridge\",\"Cross-Validated elnet\",\"Cross-Validated lasso (flexible)\",\"Cross-Validated ridge (flexible)\",\"Cross-Validated elnet (flexible)\", \"Pruned Tree\")\n",
    "tab <- xtable(table, digits =3)\n",
    "tab"
   ]
  },
  {
   "cell_type": "code",
   "execution_count": 88,
   "id": "07688fb6",
   "metadata": {},
   "outputs": [
    {
     "data": {
      "text/html": [
       "1"
      ],
      "text/latex": [
       "1"
      ],
      "text/markdown": [
       "1"
      ],
      "text/plain": [
       "[1] 1"
      ]
     },
     "metadata": {},
     "output_type": "display_data"
    },
    {
     "data": {
      "text/html": [
       "7"
      ],
      "text/latex": [
       "7"
      ],
      "text/markdown": [
       "7"
      ],
      "text/plain": [
       "[1] 7"
      ]
     },
     "metadata": {},
     "output_type": "display_data"
    },
    {
     "data": {
      "text/html": [
       "7"
      ],
      "text/latex": [
       "7"
      ],
      "text/markdown": [
       "7"
      ],
      "text/plain": [
       "[1] 7"
      ]
     },
     "metadata": {},
     "output_type": "display_data"
    },
    {
     "data": {
      "text/html": [
       "1"
      ],
      "text/latex": [
       "1"
      ],
      "text/markdown": [
       "1"
      ],
      "text/plain": [
       "[1] 1"
      ]
     },
     "metadata": {},
     "output_type": "display_data"
    }
   ],
   "source": [
    "which.min(tab[,\"MSE\"]) # Least squared (basic)\n",
    "which.max(tab[,\"MSE\"]) # Cross-Validated lasso\n",
    "which.min(tab[,\"R-squared\"]) # Cross-Validated lasso\n",
    "which.max(tab[,\"R-squared\"]) # Least squared (basic)"
   ]
  },
  {
   "cell_type": "markdown",
   "id": "8a467754",
   "metadata": {},
   "source": [
    "The summary table above shows the MSE test in the first column, the MSE standard error in column two, and the R2 test in column 3. The OLS basic model is the best performer among all models showing the MSE more low and R2 higher. On the other hand, the cross validation lasso model is the one that performs the worst among the models since it presents the highest MSE and the lowest R2. Finally, the only nonlinear model, the prune tree regression is not too bad, but there are other nonlinear models that can improve that regression."
   ]
  },
  {
   "cell_type": "markdown",
   "id": "e5791399",
   "metadata": {},
   "source": [
    "### How to buid a tree regression?"
   ]
  },
  {
   "cell_type": "markdown",
   "id": "5eb033e9",
   "metadata": {},
   "source": [
    "#### Tree-building process\n",
    "\n",
    "- First of all, the process is a top-down approach because it starts at the top by mentioning which is the predictor that most affects the outcome variable (output) and chooses the cutoff that minimizes the residual sum of squares in each group divided by the cutoff $ \\sum_{i \\in R_j} (Y_i - \\hat{Y_{Rj}})^2 $ swhere the estimated value of Y is the mean of the Y values for the observations in $Rj$.Therefore, it is also called a greedy approach because at each step of the construction process the best split occurs at that particular step without looking ahead.  \n",
    "- Starting from the first predictor, the predictor space is successively divided, choosing at each step which predictor most affects or determines the result variable. That way, it ultimately generates regions $ R_1, R_2, ... , R_J $, called terminal nodes or leaves, which are the mean of the values of the dependent variable for the observations in that region, given the predictors that are most measure determine Y in that region.\n",
    "- The goal is to find the regions $ R_1, R_2, ... , R_J $ that minimize the residual sum of squares (RSS):\n",
    "\\begin{align}\n",
    "\\sum_{j=1}^{j} \\sum_{i \\in R_j} (Y_i - \\hat{Y_{Rj}})^2\n",
    "\\end{align}\n",
    "where $ \\hat{Y_{Rj}} $ is the mean response for the training observations within the jth box.\n",
    "\n",
    "#### Pruning regression trees\n",
    "\n",
    "The deeper the tree, that is, the more we decompose and divide the observations according to the predictors, the better the approximation to the regression function. However, it increases the estimation noise because there are fewer observations per terminal node to estimate the predicted value of the node. To improve the predictive performance it is necessary to \"prune the tree\" or cut branches. The pruning regression tree tries to find the correct depth."
   ]
  }
 ],
 "metadata": {
  "kernelspec": {
   "display_name": "R",
   "language": "R",
   "name": "ir"
  },
  "language_info": {
   "codemirror_mode": "r",
   "file_extension": ".r",
   "mimetype": "text/x-r-source",
   "name": "R",
   "pygments_lexer": "r",
   "version": "4.1.1"
  }
 },
 "nbformat": 4,
 "nbformat_minor": 5
}
