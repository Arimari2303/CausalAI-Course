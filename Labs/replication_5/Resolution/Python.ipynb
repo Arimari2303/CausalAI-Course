{
 "cells": [
  {
   "cell_type": "markdown",
   "id": "508599bf",
   "metadata": {},
   "source": [
    " ## 1.0 The Bootstrap\n",
    " \n",
    " In this lab, we analyze the Pennsylvania re-employment bonus experiment, which was previously studied in \"Sequential testing of duration data: the case of the Pennsylvania ‘reemployment bonus’ experiment\" (Bilias, 2000), among others. These experiments were conducted in the 1980s by the U.S. Department of Labor to test the incentive effects of alternative compensation schemes for unemployment insurance (UI). In these experiments, UI claimants were randomly assigned either to a control group or one of five treatment groups. Actually, there are six treatment groups in the experiments. Here we focus on treatment group 4, but feel free to explore other treatment groups. In the control group the current rules of the UI applied. Individuals in the treatment groups were offered a cash bonus if they found a job within some pre-specified period of time (qualification period), provided that the job was retained for a specified duration. The treatments differed in the level of the bonus, the length of the qualification period, and whether the bonus was declining over time in the qualification period; see http://qed.econ.queensu.ca/jae/2000-v15.6/bilias/readme.b.txt for further details on data."
   ]
  },
  {
   "cell_type": "code",
   "execution_count": 6,
   "id": "95635d8f",
   "metadata": {},
   "outputs": [],
   "source": [
    "import pandas as pd\n",
    "import numpy as np\n",
    "\n",
    "from sklearn.preprocessing import PolynomialFeatures\n",
    "from sklearn.linear_model import LinearRegression\n",
    "from sklearn.model_selection import train_test_split,cross_val_score\n",
    "from sklearn.metrics import mean_squared_error\n",
    "\n",
    "import matplotlib.pyplot as plt\n",
    "import seaborn as sns\n",
    "\n",
    "import statsmodels.api as sm\n",
    "import statsmodels.formula.api as smf\n",
    "import patsy\n",
    "import numpy as np"
   ]
  },
  {
   "cell_type": "code",
   "execution_count": 22,
   "id": "fe055fc0",
   "metadata": {},
   "outputs": [],
   "source": [
    "Penn = pd.read_csv(\"../../../data/penn_jae.dat\" , sep='\\s', engine='python')\n",
    "\n",
    "n = Penn.shape[0]\n",
    "p_1 = Penn.shape[1]\n",
    "\n",
    "Penn = Penn[ (Penn['tg'] == 4) | (Penn['tg'] == 0) ]"
   ]
  },
  {
   "cell_type": "code",
   "execution_count": 23,
   "id": "3e68b4bd",
   "metadata": {},
   "outputs": [],
   "source": [
    "# Dependent variable\n",
    "Penn['T4'] = (Penn[['tg']]==4).astype(int)\n",
    "\n",
    "# Create category variable\n",
    "Penn['dep'] = Penn['dep'].astype( 'category' )\n",
    "Penn.head()\n",
    "\n",
    "# log - putcome variable \n",
    "Penn[\"log_inuidur1\"] = np.log( Penn[\"inuidur1\"] ) "
   ]
  },
  {
   "cell_type": "code",
   "execution_count": 25,
   "id": "178f6cb5",
   "metadata": {},
   "outputs": [],
   "source": [
    "# equivalent to sample function in lab\n",
    "def get_indices(data,num_samples):\n",
    "    return  np.random.choice(data.index, num_samples, replace=True)"
   ]
  },
  {
   "cell_type": "code",
   "execution_count": 81,
   "id": "f0cf32fb",
   "metadata": {},
   "outputs": [],
   "source": [
    "# T4, female and black \n",
    "\n",
    "def get_estimates(data,index):\n",
    "    formula1 = \" log_inuidur1 ~ 1+T4+female+black+othrace+C(dep)+q2+q3+q4+q5+q6+agelt35+agegt54+durable+lusd+husd\"\n",
    "    \n",
    "    model_results = smf.ols(formula1, data = data.loc[index]).fit()\n",
    "    coef = model_results.params[3:6]\n",
    "    return coef"
   ]
  },
  {
   "cell_type": "code",
   "execution_count": 77,
   "id": "7aa7e45f",
   "metadata": {},
   "outputs": [],
   "source": [
    "    formula1 = \" log_inuidur1 ~ 1+T4+female+black+othrace+C(dep)+q2+q3+q4+q5+q6+agelt35+agegt54+durable+lusd+husd\"\n",
    "    \n",
    "    model_results = smf.ols(formula1, data = Penn).fit()\n",
    "    coef = model_results.params[3:6]"
   ]
  },
  {
   "cell_type": "code",
   "execution_count": 80,
   "id": "db80d119",
   "metadata": {},
   "outputs": [
    {
     "data": {
      "text/plain": [
       "-0.3079053087767055"
      ]
     },
     "execution_count": 80,
     "metadata": {},
     "output_type": "execute_result"
    }
   ],
   "source": [
    "coef[2]"
   ]
  },
  {
   "cell_type": "code",
   "execution_count": 85,
   "id": "c1d93dfa",
   "metadata": {},
   "outputs": [],
   "source": [
    "#modifying the boot mentioned that we used earlier\n",
    "def boot(data,func,R):\n",
    "    coeff1 = []\n",
    "    coeff2 = []\n",
    "    coeff3 = []\n",
    "    for i in range(R):\n",
    "        coeff1.append(func(data,get_indices(data,n))[0]) \n",
    "        coeff2.append(func(data,get_indices(data,n))[1])\n",
    "        coeff3.append(func(data,get_indices(data,n))[2])\n",
    "\n",
    "    coeff1_statistices = {'Estimate':np.mean(coeff1),'Standar error':np.std(coeff1)}  \n",
    "    coeff2_statistices = {'Estimate':np.mean(coeff2),'Standar error':np.std(coeff2)} \n",
    "    coeff3_statistices = {'Estimate':np.mean(coeff3),'Standar error':np.std(coeff3)} \n",
    "    return {'T4':coeff1_statistices,\n",
    "            'Females':coeff2_statistices,'Black':coeff3_statistices}"
   ]
  },
  {
   "cell_type": "code",
   "execution_count": 87,
   "id": "ccd844a5",
   "metadata": {},
   "outputs": [
    {
     "name": "stdout",
     "output_type": "stream",
     "text": [
      "Result for coefficient term T4 {'Estimate': -0.07591474618268888, 'Standar error': 0.02133364485297246}\n",
      "Result for coefficient term female {'Estimate': 0.13675115446098726, 'Standar error': 0.020641534891696806}\n",
      "Result for coefficient term black {'Estimate': -0.30829835375312836, 'Standar error': 0.037403692175662646}\n"
     ]
    }
   ],
   "source": [
    "results = boot(Penn,get_estimates,1000)\n",
    "\n",
    "print('Result for coefficient term T4',results['T4'])\n",
    "print('Result for coefficient term female',results['Females'])\n",
    "print('Result for coefficient term black',results['Black'])"
   ]
  },
  {
   "cell_type": "code",
   "execution_count": 88,
   "id": "6cd70473",
   "metadata": {},
   "outputs": [
    {
     "data": {
      "text/html": [
       "<div>\n",
       "<style scoped>\n",
       "    .dataframe tbody tr th:only-of-type {\n",
       "        vertical-align: middle;\n",
       "    }\n",
       "\n",
       "    .dataframe tbody tr th {\n",
       "        vertical-align: top;\n",
       "    }\n",
       "\n",
       "    .dataframe thead th {\n",
       "        text-align: right;\n",
       "    }\n",
       "</style>\n",
       "<table border=\"1\" class=\"dataframe\">\n",
       "  <thead>\n",
       "    <tr style=\"text-align: right;\">\n",
       "      <th></th>\n",
       "      <th>T4</th>\n",
       "      <th>Females</th>\n",
       "      <th>Black</th>\n",
       "    </tr>\n",
       "  </thead>\n",
       "  <tbody>\n",
       "    <tr>\n",
       "      <th>Estimate</th>\n",
       "      <td>-0.075915</td>\n",
       "      <td>0.136751</td>\n",
       "      <td>-0.308298</td>\n",
       "    </tr>\n",
       "    <tr>\n",
       "      <th>Standar error</th>\n",
       "      <td>0.021334</td>\n",
       "      <td>0.020642</td>\n",
       "      <td>0.037404</td>\n",
       "    </tr>\n",
       "  </tbody>\n",
       "</table>\n",
       "</div>"
      ],
      "text/plain": [
       "                     T4   Females     Black\n",
       "Estimate      -0.075915  0.136751 -0.308298\n",
       "Standar error  0.021334  0.020642  0.037404"
      ]
     },
     "execution_count": 88,
     "metadata": {},
     "output_type": "execute_result"
    }
   ],
   "source": [
    "pd.DataFrame(results)"
   ]
  },
  {
   "cell_type": "markdown",
   "id": "e94e3e69",
   "metadata": {},
   "source": [
    "## Comparative Models "
   ]
  },
  {
   "cell_type": "code",
   "execution_count": 106,
   "id": "589109c3",
   "metadata": {},
   "outputs": [],
   "source": [
    "import pandas as pd\n",
    "import numpy as np\n",
    "import pyreadr\n",
    "import math\n",
    "import matplotlib.pyplot as plt\n",
    "import random"
   ]
  },
  {
   "cell_type": "code",
   "execution_count": 107,
   "id": "451fff19",
   "metadata": {},
   "outputs": [],
   "source": [
    "cps2012_env = pyreadr.read_r(\"../../../data/cps2012.Rdata\")\n",
    "cps2012 = cps2012_env[ 'data' ]"
   ]
  },
  {
   "cell_type": "code",
   "execution_count": 108,
   "id": "a60080d8",
   "metadata": {},
   "outputs": [],
   "source": [
    "nrow = cps2012.shape[0]\n",
    "length = int(nrow*(3/4))"
   ]
  },
  {
   "cell_type": "code",
   "execution_count": 109,
   "id": "0c6e2e82",
   "metadata": {},
   "outputs": [],
   "source": [
    "from numpy.random import default_rng\n",
    "\n",
    "random.seed(30)\n",
    "\n",
    "rng = default_rng()\n",
    "\n",
    "training = rng.choice(nrow, size = length, replace=False)\n",
    "\n",
    "training_bool = cps2012.index.isin( training )\n",
    "\n",
    "data_train = cps2012.iloc[training,:]\n",
    "\n",
    "data_train = cps2012[training_bool]\n",
    "data_test = cps2012[~training_bool]"
   ]
  },
  {
   "cell_type": "code",
   "execution_count": 110,
   "id": "4e24a101",
   "metadata": {},
   "outputs": [],
   "source": [
    "# Basic model \n",
    "\n",
    "formula_basic =  '''lnw ~ female + female:(widowed + divorced + separated + nevermarried +\n",
    "hsd08 + hsd911 + hsg + cg + ad + mw + so + we + exp1 + exp2 + exp3)  '''\n",
    "\n",
    "formula_flex =  '''lnw ~ female + female:(widowed + divorced + separated + nevermarried +\n",
    "hsd08 + hsd911 + hsg + cg + ad + mw + so + we + exp1 + exp2 + exp3) +(widowed +\n",
    "divorced + separated + nevermarried + hsd08 + hsd911 + hsg + cg + ad + mw + so +\n",
    "we + exp1 + exp2 + exp3) ** 2'''\n",
    "\n",
    "y_basic_train, model_X_basic_train = patsy.dmatrices(formula_basic, data_train, return_type='dataframe')\n",
    "y_basic_test, model_X_basic_test = patsy.dmatrices(formula_basic, data_test, return_type='dataframe')\n",
    "p_basic = model_X_basic_train.shape[ 1 ]\n",
    "\n",
    "y_flex_train, model_X_flex_train = patsy.dmatrices(formula_flex, data_train, return_type='dataframe')\n",
    "y_flex_test, model_X_flex_test = patsy.dmatrices(formula_flex, data_test, return_type='dataframe')\n",
    "p_flex = model_X_flex_train.shape[ 1 ]\n",
    "\n",
    "Y_train = data_train['lnw']\n",
    "Y_test = data_test['lnw']\n",
    "\n",
    "# step 2, drop constant variance variable\n",
    "\n",
    "variance_cols = model_X_basic_train.var().to_numpy() \n",
    "model_X_basic_train = model_X_basic_train.iloc[ : ,  np.where( variance_cols != 0   )[0] ]\n",
    "\n",
    "variance_cols = model_X_basic_test.var().to_numpy() \n",
    "model_X_basic_test = model_X_basic_test.iloc[ : ,  np.where( variance_cols != 0   )[0] ]\n",
    "\n",
    "\n",
    "variance_cols = model_X_flex_train.var().to_numpy() \n",
    "model_X_flex_train = model_X_flex_train.iloc[ : ,  np.where( variance_cols != 0   )[0] ]\n",
    "\n",
    "variance_cols = model_X_flex_test.var().to_numpy() \n",
    "model_X_flex_test = model_X_flex_test.iloc[ : ,  np.where( variance_cols != 0   )[0] ]"
   ]
  },
  {
   "cell_type": "markdown",
   "id": "c3468d77",
   "metadata": {},
   "source": [
    "### OLS"
   ]
  },
  {
   "cell_type": "code",
   "execution_count": 111,
   "id": "4a0b9e3d",
   "metadata": {},
   "outputs": [],
   "source": [
    "# ols (basic model)\n",
    "model_X_basic_train = sm.add_constant(model_X_basic_train)\n",
    "model_X_basic_test = sm.add_constant(model_X_basic_test)\n",
    "\n",
    "lm_basic = sm.OLS( Y_train, model_X_basic_train )\n",
    "fit_lm_basic = lm_basic.fit()\n",
    "\n",
    "# Compute the Out-Of-Sample Performance\n",
    "yhat_lm_basic = fit_lm_basic.predict( model_X_basic_test )\n",
    "\n",
    "resid_basic = (Y_test-yhat_lm_basic)**2\n",
    "\n",
    "# Compute MSE and R square \n",
    "MSE_lm_basic = sm.OLS( resid_basic , np.ones( resid_basic.shape[0] ) ).fit().summary2().tables[1].iloc[0, 0:2]\n",
    "R2_lm_basic = 1 - ( MSE_lm_basic[0]/Y_test.var() )"
   ]
  },
  {
   "cell_type": "code",
   "execution_count": 112,
   "id": "82b4823d",
   "metadata": {},
   "outputs": [],
   "source": [
    "# ols (flex model)\n",
    "model_X_flex_train = sm.add_constant(model_X_flex_train)\n",
    "model_X_flex_test = sm.add_constant(model_X_flex_test)\n",
    "\n",
    "lm_flex = sm.OLS( Y_train, model_X_flex_train )\n",
    "fit_lm_flex = lm_flex.fit()\n",
    "\n",
    "yhat_lm_flex = fit_lm_flex.predict( model_X_flex_test )\n",
    "\n",
    "resid_flex = (Y_test-yhat_lm_flex)**2\n",
    "\n",
    "MSE_lm_flex = sm.OLS( resid_flex , np.ones( resid_flex.shape[0] ) ).fit().summary2().tables[1].iloc[0, 0:2]\n",
    "MSE_lm_flex\n",
    "\n",
    "R2_lm_flex = 1 - ( MSE_lm_flex[0]/Y_test.var() )"
   ]
  },
  {
   "cell_type": "markdown",
   "id": "69b80fae",
   "metadata": {},
   "source": [
    "### Lasso, Ridge and Elastic Net"
   ]
  },
  {
   "cell_type": "code",
   "execution_count": 113,
   "id": "26927243",
   "metadata": {},
   "outputs": [],
   "source": [
    "import hdmpy"
   ]
  },
  {
   "cell_type": "code",
   "execution_count": 114,
   "id": "899e4bff",
   "metadata": {},
   "outputs": [
    {
     "name": "stderr",
     "output_type": "stream",
     "text": [
      "C:\\Users\\Roberto\\anaconda3\\lib\\site-packages\\numpy\\lib\\function_base.py:2691: RuntimeWarning: invalid value encountered in true_divide\n",
      "  c /= stddev[:, None]\n",
      "C:\\Users\\Roberto\\anaconda3\\lib\\site-packages\\numpy\\lib\\function_base.py:2692: RuntimeWarning: invalid value encountered in true_divide\n",
      "  c /= stddev[None, :]\n",
      "C:\\Users\\Roberto\\anaconda3\\lib\\site-packages\\numpy\\lib\\function_base.py:2691: RuntimeWarning: invalid value encountered in true_divide\n",
      "  c /= stddev[:, None]\n",
      "C:\\Users\\Roberto\\anaconda3\\lib\\site-packages\\numpy\\lib\\function_base.py:2692: RuntimeWarning: invalid value encountered in true_divide\n",
      "  c /= stddev[None, :]\n",
      "C:\\Users\\Roberto\\anaconda3\\lib\\site-packages\\numpy\\lib\\function_base.py:2691: RuntimeWarning: invalid value encountered in true_divide\n",
      "  c /= stddev[:, None]\n",
      "C:\\Users\\Roberto\\anaconda3\\lib\\site-packages\\numpy\\lib\\function_base.py:2692: RuntimeWarning: invalid value encountered in true_divide\n",
      "  c /= stddev[None, :]\n",
      "C:\\Users\\Roberto\\anaconda3\\lib\\site-packages\\numpy\\lib\\function_base.py:2691: RuntimeWarning: invalid value encountered in true_divide\n",
      "  c /= stddev[:, None]\n",
      "C:\\Users\\Roberto\\anaconda3\\lib\\site-packages\\numpy\\lib\\function_base.py:2692: RuntimeWarning: invalid value encountered in true_divide\n",
      "  c /= stddev[None, :]\n",
      "C:\\Users\\Roberto\\anaconda3\\lib\\site-packages\\numpy\\lib\\function_base.py:2691: RuntimeWarning: invalid value encountered in true_divide\n",
      "  c /= stddev[:, None]\n",
      "C:\\Users\\Roberto\\anaconda3\\lib\\site-packages\\numpy\\lib\\function_base.py:2692: RuntimeWarning: invalid value encountered in true_divide\n",
      "  c /= stddev[None, :]\n",
      "C:\\Users\\Roberto\\anaconda3\\lib\\site-packages\\numpy\\lib\\function_base.py:2691: RuntimeWarning: invalid value encountered in true_divide\n",
      "  c /= stddev[:, None]\n",
      "C:\\Users\\Roberto\\anaconda3\\lib\\site-packages\\numpy\\lib\\function_base.py:2692: RuntimeWarning: invalid value encountered in true_divide\n",
      "  c /= stddev[None, :]\n",
      "C:\\Users\\Roberto\\anaconda3\\lib\\site-packages\\numpy\\lib\\function_base.py:2691: RuntimeWarning: invalid value encountered in true_divide\n",
      "  c /= stddev[:, None]\n",
      "C:\\Users\\Roberto\\anaconda3\\lib\\site-packages\\numpy\\lib\\function_base.py:2692: RuntimeWarning: invalid value encountered in true_divide\n",
      "  c /= stddev[None, :]\n",
      "C:\\Users\\Roberto\\anaconda3\\lib\\site-packages\\numpy\\lib\\function_base.py:2691: RuntimeWarning: invalid value encountered in true_divide\n",
      "  c /= stddev[:, None]\n",
      "C:\\Users\\Roberto\\anaconda3\\lib\\site-packages\\numpy\\lib\\function_base.py:2692: RuntimeWarning: invalid value encountered in true_divide\n",
      "  c /= stddev[None, :]\n",
      "C:\\Users\\Roberto\\anaconda3\\lib\\site-packages\\numpy\\lib\\function_base.py:2691: RuntimeWarning: invalid value encountered in true_divide\n",
      "  c /= stddev[:, None]\n",
      "C:\\Users\\Roberto\\anaconda3\\lib\\site-packages\\numpy\\lib\\function_base.py:2692: RuntimeWarning: invalid value encountered in true_divide\n",
      "  c /= stddev[None, :]\n"
     ]
    }
   ],
   "source": [
    "fit_rlasso = hdmpy.rlasso( model_X_basic_train.to_numpy() , Y_train.to_numpy().reshape( Y_train.size , 1 ) , post = False )\n",
    "fit_rlasso_post = hdmpy.rlasso( model_X_basic_train.to_numpy() , Y_train.to_numpy().reshape( Y_train.size , 1 ) , post = True )"
   ]
  },
  {
   "cell_type": "markdown",
   "id": "1863288d",
   "metadata": {},
   "source": [
    "#### Estimating the predictions from rlasso models\n",
    "We have to know that the residuals output come from this formula:\n",
    "\n",
    "- x1 = x - np.ones( (x.shape[1] , 1) ) @ x.mean( axis = 0 )\n",
    "- beta = model.est['beta'].loc[ fit_rlasso.est['index'].iloc[:, 0].to_list(), ].to_numpy()\n",
    "- y1 = y - y.mean()\n",
    "- yhat = x1 @ beta + y.mean()\n",
    "\n",
    "So we have to apply those transfomations to original test data\n"
   ]
  },
  {
   "cell_type": "code",
   "execution_count": 115,
   "id": "a76c7612",
   "metadata": {},
   "outputs": [],
   "source": [
    "# Getting mean of each variable\n",
    "meanx = model_X_basic_test.mean( axis = 0 ).values.\\\n",
    "                        reshape( model_X_basic_test.shape[ 1 ] , 1 )\n",
    "\n",
    "# Reducing the mean\n",
    "new_x1 = model_X_basic_test.to_numpy() - \\\n",
    "                    (np.ones( ( model_X_basic_test.shape[ 0 ] , 1 ) ) @ meanx.T)\n",
    "\n",
    "\n",
    "# Getting the significant variables\n",
    "x1_est_rlasso = new_x1[ :, fit_rlasso.est['index'].iloc[:, 0].to_list()]\n",
    "\n",
    "# Getting the coef. from significant variables\n",
    "beta_rlasso = fit_rlasso.est['beta'].loc[ fit_rlasso.est['index'].\\\n",
    "                                     iloc[:, 0].to_list(), ].to_numpy()\n",
    "\n",
    "\n",
    "\n",
    "# yhat\n",
    "yhat_rlasso = (x1_est_rlasso @ beta_rlasso) + np.mean( Y_test.to_numpy() )\n",
    "residuals_rlasso = Y_test.to_numpy().reshape( Y_test.to_numpy().size, 1)  - yhat_rlasso"
   ]
  },
  {
   "cell_type": "code",
   "execution_count": 116,
   "id": "d09957c4",
   "metadata": {},
   "outputs": [],
   "source": [
    "# Post Lasso\n",
    "\n",
    "# Getting mean of each variable\n",
    "meanx = model_X_basic_test.mean( axis = 0 ).values.\\\n",
    "                        reshape( model_X_basic_test.shape[ 1 ] , 1 )\n",
    "\n",
    "# Reducing the mean\n",
    "new_x1 = model_X_basic_test.to_numpy() - \\\n",
    "                    (np.ones( ( model_X_basic_test.shape[ 0 ] , 1 ) ) @ meanx.T)\n",
    "\n",
    "# Getting the significant variables\n",
    "x1_est_rlasso_post = new_x1[ :, fit_rlasso_post.est['index'].iloc[:, 0].to_list()]\n",
    "\n",
    "# Getting the coef. from significant variables\n",
    "beta_rlasso_post = fit_rlasso_post.est['beta'].loc[ fit_rlasso_post.est['index'].\\\n",
    "                                     iloc[:, 0].to_list(), ].to_numpy()\n",
    "\n",
    "# yhat\n",
    "yhat_rlasso_post = (x1_est_rlasso_post @ beta_rlasso_post) + np.mean( Y_test.to_numpy() )\n",
    "residuals_rlasso_post = Y_test.to_numpy().reshape( Y_test.to_numpy().size, 1)  - yhat_rlasso_post"
   ]
  },
  {
   "cell_type": "code",
   "execution_count": 117,
   "id": "3b6d564a",
   "metadata": {},
   "outputs": [
    {
     "name": "stdout",
     "output_type": "stream",
     "text": [
      "The R^2 using the basic model is equal to 0.11854767892550122,for lasso and 0.11854767892550122 for post-lasso\n"
     ]
    }
   ],
   "source": [
    "MSE_lasso = sm.OLS( ( residuals_rlasso )**2 , np.ones( yhat_rlasso.size )  ).fit().summary2().tables[1].round(3)\n",
    "MSE_lasso_post = sm.OLS( ( residuals_rlasso_post )**2  , np.ones( yhat_rlasso_post.size )  ).fit().summary2().tables[1].round(3)\n",
    "\n",
    "R2_lasso = 1 - MSE_lasso.iloc[0, 0]/ np.var( Y_test )\n",
    "R2_lasso_post = 1 - MSE_lasso_post.iloc[0, 0]/ np.var( Y_test )\n",
    "\n",
    "print( f\"The R^2 using the basic model is equal to {R2_lasso},for lasso and {R2_lasso_post} for post-lasso\") # R^2 lasso/post-lasso (basic model) "
   ]
  },
  {
   "cell_type": "markdown",
   "id": "7414cb97",
   "metadata": {
    "papermill": {
     "duration": 0.049543,
     "end_time": "2021-02-13T18:19:47.757271",
     "exception": false,
     "start_time": "2021-02-13T18:19:47.707728",
     "status": "completed"
    },
    "tags": []
   },
   "source": [
    "Now, we repeat the same procedure for the flexible model."
   ]
  },
  {
   "cell_type": "code",
   "execution_count": 118,
   "id": "a0fcba30",
   "metadata": {},
   "outputs": [
    {
     "name": "stderr",
     "output_type": "stream",
     "text": [
      "C:\\Users\\Roberto\\anaconda3\\lib\\site-packages\\numpy\\lib\\function_base.py:2691: RuntimeWarning: invalid value encountered in true_divide\n",
      "  c /= stddev[:, None]\n",
      "C:\\Users\\Roberto\\anaconda3\\lib\\site-packages\\numpy\\lib\\function_base.py:2692: RuntimeWarning: invalid value encountered in true_divide\n",
      "  c /= stddev[None, :]\n",
      "C:\\Users\\Roberto\\anaconda3\\lib\\site-packages\\numpy\\lib\\function_base.py:2691: RuntimeWarning: invalid value encountered in true_divide\n",
      "  c /= stddev[:, None]\n",
      "C:\\Users\\Roberto\\anaconda3\\lib\\site-packages\\numpy\\lib\\function_base.py:2692: RuntimeWarning: invalid value encountered in true_divide\n",
      "  c /= stddev[None, :]\n",
      "C:\\Users\\Roberto\\anaconda3\\lib\\site-packages\\numpy\\lib\\function_base.py:2691: RuntimeWarning: invalid value encountered in true_divide\n",
      "  c /= stddev[:, None]\n",
      "C:\\Users\\Roberto\\anaconda3\\lib\\site-packages\\numpy\\lib\\function_base.py:2692: RuntimeWarning: invalid value encountered in true_divide\n",
      "  c /= stddev[None, :]\n",
      "C:\\Users\\Roberto\\anaconda3\\lib\\site-packages\\numpy\\lib\\function_base.py:2691: RuntimeWarning: invalid value encountered in true_divide\n",
      "  c /= stddev[:, None]\n",
      "C:\\Users\\Roberto\\anaconda3\\lib\\site-packages\\numpy\\lib\\function_base.py:2692: RuntimeWarning: invalid value encountered in true_divide\n",
      "  c /= stddev[None, :]\n",
      "C:\\Users\\Roberto\\anaconda3\\lib\\site-packages\\numpy\\lib\\function_base.py:2691: RuntimeWarning: invalid value encountered in true_divide\n",
      "  c /= stddev[:, None]\n",
      "C:\\Users\\Roberto\\anaconda3\\lib\\site-packages\\numpy\\lib\\function_base.py:2692: RuntimeWarning: invalid value encountered in true_divide\n",
      "  c /= stddev[None, :]\n",
      "C:\\Users\\Roberto\\anaconda3\\lib\\site-packages\\numpy\\lib\\function_base.py:2691: RuntimeWarning: invalid value encountered in true_divide\n",
      "  c /= stddev[:, None]\n",
      "C:\\Users\\Roberto\\anaconda3\\lib\\site-packages\\numpy\\lib\\function_base.py:2692: RuntimeWarning: invalid value encountered in true_divide\n",
      "  c /= stddev[None, :]\n",
      "C:\\Users\\Roberto\\anaconda3\\lib\\site-packages\\numpy\\lib\\function_base.py:2691: RuntimeWarning: invalid value encountered in true_divide\n",
      "  c /= stddev[:, None]\n",
      "C:\\Users\\Roberto\\anaconda3\\lib\\site-packages\\numpy\\lib\\function_base.py:2692: RuntimeWarning: invalid value encountered in true_divide\n",
      "  c /= stddev[None, :]\n",
      "C:\\Users\\Roberto\\anaconda3\\lib\\site-packages\\numpy\\lib\\function_base.py:2691: RuntimeWarning: invalid value encountered in true_divide\n",
      "  c /= stddev[:, None]\n",
      "C:\\Users\\Roberto\\anaconda3\\lib\\site-packages\\numpy\\lib\\function_base.py:2692: RuntimeWarning: invalid value encountered in true_divide\n",
      "  c /= stddev[None, :]\n",
      "C:\\Users\\Roberto\\anaconda3\\lib\\site-packages\\numpy\\lib\\function_base.py:2691: RuntimeWarning: invalid value encountered in true_divide\n",
      "  c /= stddev[:, None]\n",
      "C:\\Users\\Roberto\\anaconda3\\lib\\site-packages\\numpy\\lib\\function_base.py:2692: RuntimeWarning: invalid value encountered in true_divide\n",
      "  c /= stddev[None, :]\n"
     ]
    }
   ],
   "source": [
    "fit_rlasso_flex = hdmpy.rlasso( model_X_flex_train.to_numpy() , Y_train.to_numpy().reshape( Y_train.size , 1 ) , post = False )\n",
    "fit_rlasso_post_flex = hdmpy.rlasso( model_X_flex_train.to_numpy() , Y_train.to_numpy().reshape( Y_train.size , 1 ) , post = True )"
   ]
  },
  {
   "cell_type": "code",
   "execution_count": 119,
   "id": "b54fc133",
   "metadata": {},
   "outputs": [],
   "source": [
    "# Getting mean of each variable\n",
    "meanx = model_X_flex_test.mean( axis = 0 ).values.\\\n",
    "                        reshape( model_X_flex_test.shape[ 1 ] , 1 )\n",
    "\n",
    "# Reducing the mean\n",
    "new_x1 = model_X_flex_test.to_numpy() - \\\n",
    "                    (np.ones( ( model_X_flex_test.shape[ 0 ] , 1 ) ) @ meanx.T)\n",
    "\n",
    "# Getting the significant variables\n",
    "x1_est_rlasso_flex = new_x1[ :, fit_rlasso_flex.est['index'].iloc[:, 0].to_list()]\n",
    "\n",
    "# Getting the coef. from significant variables\n",
    "beta_rlasso_flex = fit_rlasso_flex.est['beta'].loc[ fit_rlasso_flex.est['index'].\\\n",
    "                                     iloc[:, 0].to_list(), ].to_numpy()\n",
    "\n",
    "# yhat\n",
    "yhat_rlasso_flex = (x1_est_rlasso_flex @ beta_rlasso_flex) + np.mean( Y_test.to_numpy() )\n",
    "residuals_rlasso_flex = Y_test.to_numpy().reshape( Y_test.to_numpy().size, 1)  - yhat_rlasso_flex"
   ]
  },
  {
   "cell_type": "code",
   "execution_count": 120,
   "id": "76769540",
   "metadata": {},
   "outputs": [],
   "source": [
    "# Getting mean of each variable\n",
    "meanx = model_X_flex_test.mean( axis = 0 ).values.\\\n",
    "                        reshape( model_X_flex_test.shape[ 1 ] , 1 )\n",
    "\n",
    "# Reducing the mean\n",
    "new_x1 = model_X_flex_test.to_numpy() - \\\n",
    "                    (np.ones( ( model_X_flex_test.shape[ 0 ] , 1 ) ) @ meanx.T)\n",
    "\n",
    "# Getting the significant variables\n",
    "x1_est_rlasso_post_flex = new_x1[ :, fit_rlasso_post_flex.est['index'].iloc[:, 0].to_list()]\n",
    "\n",
    "# Getting the coef. from significant variables\n",
    "beta_rlasso_post_flex = fit_rlasso_post_flex.est['beta'].loc[ fit_rlasso_post_flex.est['index'].\\\n",
    "                                     iloc[:, 0].to_list(), ].to_numpy()\n",
    "\n",
    "# yhat\n",
    "yhat_rlasso_post_flex = (x1_est_rlasso_post_flex @ beta_rlasso_post_flex) + np.mean( Y_test.to_numpy() )\n",
    "residuals_rlasso_post_flex = Y_test.to_numpy().reshape( Y_test.to_numpy().size, 1)  - yhat_rlasso_post_flex"
   ]
  },
  {
   "cell_type": "code",
   "execution_count": 121,
   "id": "cc8bed6e",
   "metadata": {},
   "outputs": [],
   "source": [
    "MSE_lasso_flex = sm.OLS( ( residuals_rlasso_flex )**2 , np.ones( yhat_rlasso_flex.size )  ).fit().summary2().tables[1].round(3)\n",
    "MSE_lasso_post_flex = sm.OLS( ( residuals_rlasso_post_flex )**2  , np.ones( yhat_rlasso_post_flex.size )  ).fit().summary2().tables[1].round(3)\n",
    "\n",
    "R2_lasso_flex = 1 - MSE_lasso.iloc[0, 0]/ np.var( Y_test )\n",
    "R2_lasso_post_flex = 1 - MSE_lasso_post_flex.iloc[0, 0]/ np.var( Y_test )\n",
    " "
   ]
  },
  {
   "cell_type": "markdown",
   "id": "9c2e8e68",
   "metadata": {
    "papermill": {
     "duration": 0.04206,
     "end_time": "2021-02-13T18:19:51.353816",
     "exception": false,
     "start_time": "2021-02-13T18:19:51.311756",
     "status": "completed"
    },
    "tags": []
   },
   "source": [
    "It is worth to notice that lasso regression works better for the more complex model."
   ]
  },
  {
   "cell_type": "markdown",
   "id": "68b10c81",
   "metadata": {
    "papermill": {
     "duration": 0.041452,
     "end_time": "2021-02-13T18:19:51.436401",
     "exception": false,
     "start_time": "2021-02-13T18:19:51.394949",
     "status": "completed"
    },
    "tags": []
   },
   "source": [
    "In contrast to a theoretical based choice of the tuning parameter $\\lambda$ in the lasso regression, we can also use cross-validation to determine the penalty level by applying the package *glmnet* and the function cv.glmnet. In this context, we also run a ridge and a elastic net regression by adjusting the parameter *alpha*."
   ]
  },
  {
   "cell_type": "code",
   "execution_count": 122,
   "id": "cbd63a5e",
   "metadata": {},
   "outputs": [],
   "source": [
    "from sklearn.linear_model import LassoCV\n",
    "from sklearn.preprocessing import StandardScaler\n",
    "from sklearn.linear_model import RidgeCV, ElasticNetCV\n",
    "import statsmodels.api as sm"
   ]
  },
  {
   "cell_type": "code",
   "execution_count": 123,
   "id": "9098cf4e",
   "metadata": {},
   "outputs": [
    {
     "data": {
      "text/plain": [
       "array([[-1.34502346],\n",
       "       [-2.16572393],\n",
       "       [-0.3931503 ],\n",
       "       ...,\n",
       "       [-0.11333549],\n",
       "       [ 0.51549868],\n",
       "       [-0.55405417]])"
      ]
     },
     "execution_count": 123,
     "metadata": {},
     "output_type": "execute_result"
    }
   ],
   "source": [
    "Y_vec = Y_train.to_numpy().reshape( Y_train.to_numpy().size, 1)\n",
    "\n",
    "# Scalar distribution\n",
    "scaler = StandardScaler()\n",
    "scaler.fit( Y_vec )\n",
    "\n",
    "std_Y = scaler.transform( Y_vec )\n",
    "\n",
    "std_Y "
   ]
  },
  {
   "cell_type": "code",
   "execution_count": 124,
   "id": "b5ab3994",
   "metadata": {},
   "outputs": [
    {
     "name": "stderr",
     "output_type": "stream",
     "text": [
      "C:\\Users\\Roberto\\anaconda3\\lib\\site-packages\\sklearn\\linear_model\\_coordinate_descent.py:1571: DataConversionWarning: A column-vector y was passed when a 1d array was expected. Please change the shape of y to (n_samples, ), for example using ravel().\n",
      "  y = column_or_1d(y, warn=True)\n",
      "C:\\Users\\Roberto\\anaconda3\\lib\\site-packages\\sklearn\\linear_model\\_coordinate_descent.py:633: ConvergenceWarning: Objective did not converge. You might want to increase the number of iterations. Duality gap: 6.0905710048245965, tolerance: 1.9717050221467523\n",
      "  model = cd_fast.enet_coordinate_descent_gram(\n",
      "C:\\Users\\Roberto\\anaconda3\\lib\\site-packages\\sklearn\\linear_model\\_coordinate_descent.py:633: ConvergenceWarning: Objective did not converge. You might want to increase the number of iterations. Duality gap: 9.775516529054585, tolerance: 1.9717050221467523\n",
      "  model = cd_fast.enet_coordinate_descent_gram(\n",
      "C:\\Users\\Roberto\\anaconda3\\lib\\site-packages\\sklearn\\linear_model\\_coordinate_descent.py:633: ConvergenceWarning: Objective did not converge. You might want to increase the number of iterations. Duality gap: 11.667726739302452, tolerance: 1.9717050221467523\n",
      "  model = cd_fast.enet_coordinate_descent_gram(\n",
      "C:\\Users\\Roberto\\anaconda3\\lib\\site-packages\\sklearn\\linear_model\\_coordinate_descent.py:633: ConvergenceWarning: Objective did not converge. You might want to increase the number of iterations. Duality gap: 3.0258869963108737, tolerance: 1.9298890758653369\n",
      "  model = cd_fast.enet_coordinate_descent_gram(\n",
      "C:\\Users\\Roberto\\anaconda3\\lib\\site-packages\\sklearn\\linear_model\\_coordinate_descent.py:633: ConvergenceWarning: Objective did not converge. You might want to increase the number of iterations. Duality gap: 8.04629582333655, tolerance: 1.9298890758653369\n",
      "  model = cd_fast.enet_coordinate_descent_gram(\n",
      "C:\\Users\\Roberto\\anaconda3\\lib\\site-packages\\sklearn\\linear_model\\_coordinate_descent.py:633: ConvergenceWarning: Objective did not converge. You might want to increase the number of iterations. Duality gap: 11.057047425674682, tolerance: 1.9298890758653369\n",
      "  model = cd_fast.enet_coordinate_descent_gram(\n",
      "C:\\Users\\Roberto\\anaconda3\\lib\\site-packages\\sklearn\\linear_model\\_coordinate_descent.py:633: ConvergenceWarning: Objective did not converge. You might want to increase the number of iterations. Duality gap: 3.230897127650678, tolerance: 1.97053645708006\n",
      "  model = cd_fast.enet_coordinate_descent_gram(\n",
      "C:\\Users\\Roberto\\anaconda3\\lib\\site-packages\\sklearn\\linear_model\\_coordinate_descent.py:633: ConvergenceWarning: Objective did not converge. You might want to increase the number of iterations. Duality gap: 7.8736065953089565, tolerance: 1.97053645708006\n",
      "  model = cd_fast.enet_coordinate_descent_gram(\n",
      "C:\\Users\\Roberto\\anaconda3\\lib\\site-packages\\sklearn\\linear_model\\_coordinate_descent.py:633: ConvergenceWarning: Objective did not converge. You might want to increase the number of iterations. Duality gap: 10.51490711369479, tolerance: 1.97053645708006\n",
      "  model = cd_fast.enet_coordinate_descent_gram(\n",
      "C:\\Users\\Roberto\\anaconda3\\lib\\site-packages\\sklearn\\linear_model\\_coordinate_descent.py:633: ConvergenceWarning: Objective did not converge. You might want to increase the number of iterations. Duality gap: 7.064091852364072, tolerance: 1.9938364050979698\n",
      "  model = cd_fast.enet_coordinate_descent_gram(\n",
      "C:\\Users\\Roberto\\anaconda3\\lib\\site-packages\\sklearn\\linear_model\\_coordinate_descent.py:633: ConvergenceWarning: Objective did not converge. You might want to increase the number of iterations. Duality gap: 10.223968590129516, tolerance: 1.9938364050979698\n",
      "  model = cd_fast.enet_coordinate_descent_gram(\n",
      "C:\\Users\\Roberto\\anaconda3\\lib\\site-packages\\sklearn\\linear_model\\_coordinate_descent.py:633: ConvergenceWarning: Objective did not converge. You might want to increase the number of iterations. Duality gap: 11.783533428406372, tolerance: 1.9938364050979698\n",
      "  model = cd_fast.enet_coordinate_descent_gram(\n",
      "C:\\Users\\Roberto\\anaconda3\\lib\\site-packages\\sklearn\\linear_model\\_coordinate_descent.py:633: ConvergenceWarning: Objective did not converge. You might want to increase the number of iterations. Duality gap: 5.763886530268792, tolerance: 1.9942962208965365\n",
      "  model = cd_fast.enet_coordinate_descent_gram(\n",
      "C:\\Users\\Roberto\\anaconda3\\lib\\site-packages\\sklearn\\linear_model\\_coordinate_descent.py:633: ConvergenceWarning: Objective did not converge. You might want to increase the number of iterations. Duality gap: 9.699044018292625, tolerance: 1.9942962208965365\n",
      "  model = cd_fast.enet_coordinate_descent_gram(\n",
      "C:\\Users\\Roberto\\anaconda3\\lib\\site-packages\\sklearn\\linear_model\\_coordinate_descent.py:633: ConvergenceWarning: Objective did not converge. You might want to increase the number of iterations. Duality gap: 11.750917411456612, tolerance: 1.9942962208965365\n",
      "  model = cd_fast.enet_coordinate_descent_gram(\n",
      "C:\\Users\\Roberto\\anaconda3\\lib\\site-packages\\sklearn\\linear_model\\_coordinate_descent.py:633: ConvergenceWarning: Objective did not converge. You might want to increase the number of iterations. Duality gap: 6.619541814303375, tolerance: 1.9841728640295901\n",
      "  model = cd_fast.enet_coordinate_descent_gram(\n",
      "C:\\Users\\Roberto\\anaconda3\\lib\\site-packages\\sklearn\\linear_model\\_coordinate_descent.py:633: ConvergenceWarning: Objective did not converge. You might want to increase the number of iterations. Duality gap: 10.692622689079144, tolerance: 1.9841728640295901\n",
      "  model = cd_fast.enet_coordinate_descent_gram(\n",
      "C:\\Users\\Roberto\\anaconda3\\lib\\site-packages\\sklearn\\linear_model\\_coordinate_descent.py:633: ConvergenceWarning: Objective did not converge. You might want to increase the number of iterations. Duality gap: 12.847670949606254, tolerance: 1.9841728640295901\n",
      "  model = cd_fast.enet_coordinate_descent_gram(\n",
      "C:\\Users\\Roberto\\anaconda3\\lib\\site-packages\\sklearn\\linear_model\\_coordinate_descent.py:633: ConvergenceWarning: Objective did not converge. You might want to increase the number of iterations. Duality gap: 18.108506524047698, tolerance: 1.9841728640295901\n",
      "  model = cd_fast.enet_coordinate_descent_gram(\n",
      "C:\\Users\\Roberto\\anaconda3\\lib\\site-packages\\sklearn\\linear_model\\_coordinate_descent.py:633: ConvergenceWarning: Objective did not converge. You might want to increase the number of iterations. Duality gap: 7.164439042604499, tolerance: 1.9843235215653596\n",
      "  model = cd_fast.enet_coordinate_descent_gram(\n",
      "C:\\Users\\Roberto\\anaconda3\\lib\\site-packages\\sklearn\\linear_model\\_coordinate_descent.py:633: ConvergenceWarning: Objective did not converge. You might want to increase the number of iterations. Duality gap: 10.43609457895218, tolerance: 1.9843235215653596\n",
      "  model = cd_fast.enet_coordinate_descent_gram(\n",
      "C:\\Users\\Roberto\\anaconda3\\lib\\site-packages\\sklearn\\linear_model\\_coordinate_descent.py:633: ConvergenceWarning: Objective did not converge. You might want to increase the number of iterations. Duality gap: 19.77491318477405, tolerance: 1.9843235215653596\n",
      "  model = cd_fast.enet_coordinate_descent_gram(\n",
      "C:\\Users\\Roberto\\anaconda3\\lib\\site-packages\\sklearn\\linear_model\\_coordinate_descent.py:633: ConvergenceWarning: Objective did not converge. You might want to increase the number of iterations. Duality gap: 4.736618654605991, tolerance: 1.9881911617039523\n",
      "  model = cd_fast.enet_coordinate_descent_gram(\n",
      "C:\\Users\\Roberto\\anaconda3\\lib\\site-packages\\sklearn\\linear_model\\_coordinate_descent.py:633: ConvergenceWarning: Objective did not converge. You might want to increase the number of iterations. Duality gap: 9.152334539787262, tolerance: 1.9881911617039523\n",
      "  model = cd_fast.enet_coordinate_descent_gram(\n",
      "C:\\Users\\Roberto\\anaconda3\\lib\\site-packages\\sklearn\\linear_model\\_coordinate_descent.py:633: ConvergenceWarning: Objective did not converge. You might want to increase the number of iterations. Duality gap: 11.554616400666418, tolerance: 1.9881911617039523\n",
      "  model = cd_fast.enet_coordinate_descent_gram(\n",
      "C:\\Users\\Roberto\\anaconda3\\lib\\site-packages\\sklearn\\linear_model\\_coordinate_descent.py:633: ConvergenceWarning: Objective did not converge. You might want to increase the number of iterations. Duality gap: 5.063379681276274, tolerance: 1.9881911617039523\n",
      "  model = cd_fast.enet_coordinate_descent_gram(\n",
      "C:\\Users\\Roberto\\anaconda3\\lib\\site-packages\\sklearn\\linear_model\\_coordinate_descent.py:633: ConvergenceWarning: Objective did not converge. You might want to increase the number of iterations. Duality gap: 6.948952440732683, tolerance: 1.9579037024445338\n",
      "  model = cd_fast.enet_coordinate_descent_gram(\n",
      "C:\\Users\\Roberto\\anaconda3\\lib\\site-packages\\sklearn\\linear_model\\_coordinate_descent.py:633: ConvergenceWarning: Objective did not converge. You might want to increase the number of iterations. Duality gap: 10.062013229166041, tolerance: 1.9579037024445338\n",
      "  model = cd_fast.enet_coordinate_descent_gram(\n",
      "C:\\Users\\Roberto\\anaconda3\\lib\\site-packages\\sklearn\\linear_model\\_coordinate_descent.py:633: ConvergenceWarning: Objective did not converge. You might want to increase the number of iterations. Duality gap: 19.134145215168246, tolerance: 1.9579037024445338\n",
      "  model = cd_fast.enet_coordinate_descent_gram(\n",
      "C:\\Users\\Roberto\\anaconda3\\lib\\site-packages\\sklearn\\linear_model\\_coordinate_descent.py:633: ConvergenceWarning: Objective did not converge. You might want to increase the number of iterations. Duality gap: 2.163455897985841, tolerance: 1.9419230696237204\n",
      "  model = cd_fast.enet_coordinate_descent_gram(\n",
      "C:\\Users\\Roberto\\anaconda3\\lib\\site-packages\\sklearn\\linear_model\\_coordinate_descent.py:633: ConvergenceWarning: Objective did not converge. You might want to increase the number of iterations. Duality gap: 7.066672781995294, tolerance: 1.9419230696237204\n",
      "  model = cd_fast.enet_coordinate_descent_gram(\n",
      "C:\\Users\\Roberto\\anaconda3\\lib\\site-packages\\sklearn\\linear_model\\_coordinate_descent.py:633: ConvergenceWarning: Objective did not converge. You might want to increase the number of iterations. Duality gap: 10.0642353699659, tolerance: 1.9419230696237204\n",
      "  model = cd_fast.enet_coordinate_descent_gram(\n",
      "C:\\Users\\Roberto\\anaconda3\\lib\\site-packages\\sklearn\\linear_model\\_coordinate_descent.py:633: ConvergenceWarning: Objective did not converge. You might want to increase the number of iterations. Duality gap: 2.824984552938986, tolerance: 1.9419230696237204\n",
      "  model = cd_fast.enet_coordinate_descent_gram(\n",
      "C:\\Users\\Roberto\\anaconda3\\lib\\site-packages\\sklearn\\linear_model\\_coordinate_descent.py:633: ConvergenceWarning: Objective did not converge. You might want to increase the number of iterations. Duality gap: 20.003932042776796, tolerance: 1.9419230696237204\n",
      "  model = cd_fast.enet_coordinate_descent_gram(\n",
      "C:\\Users\\Roberto\\anaconda3\\lib\\site-packages\\sklearn\\linear_model\\_base.py:141: FutureWarning: 'normalize' was deprecated in version 1.0 and will be removed in 1.2.\n",
      "If you wish to scale the data, use Pipeline with a StandardScaler in a preprocessing stage. To reproduce the previous behavior:\n",
      "\n",
      "from sklearn.pipeline import make_pipeline\n",
      "\n",
      "model = make_pipeline(StandardScaler(with_mean=False), Lasso())\n",
      "\n",
      "If you wish to pass a sample_weight parameter, you need to pass it as a fit parameter to each step of the pipeline as follows:\n",
      "\n",
      "kwargs = {s[0] + '__sample_weight': sample_weight for s in model.steps}\n",
      "model.fit(X, y, **kwargs)\n",
      "\n",
      "Set parameter alpha to: original_alpha * np.sqrt(n_samples). \n",
      "  warnings.warn(\n"
     ]
    },
    {
     "name": "stderr",
     "output_type": "stream",
     "text": [
      "C:\\Users\\Roberto\\anaconda3\\lib\\site-packages\\sklearn\\linear_model\\_coordinate_descent.py:647: ConvergenceWarning: Objective did not converge. You might want to increase the number of iterations, check the scale of the features or consider increasing regularisation. Duality gap: 6.275e+01, tolerance: 2.191e+00\n",
      "  model = cd_fast.enet_coordinate_descent(\n",
      "C:\\Users\\Roberto\\anaconda3\\lib\\site-packages\\sklearn\\linear_model\\_coordinate_descent.py:1571: DataConversionWarning: A column-vector y was passed when a 1d array was expected. Please change the shape of y to (n_samples, ), for example using ravel().\n",
      "  y = column_or_1d(y, warn=True)\n",
      "C:\\Users\\Roberto\\anaconda3\\lib\\site-packages\\sklearn\\linear_model\\_base.py:141: FutureWarning: 'normalize' was deprecated in version 1.0 and will be removed in 1.2.\n",
      "If you wish to scale the data, use Pipeline with a StandardScaler in a preprocessing stage. To reproduce the previous behavior:\n",
      "\n",
      "from sklearn.pipeline import make_pipeline\n",
      "\n",
      "model = make_pipeline(StandardScaler(with_mean=False), ElasticNet())\n",
      "\n",
      "If you wish to pass a sample_weight parameter, you need to pass it as a fit parameter to each step of the pipeline as follows:\n",
      "\n",
      "kwargs = {s[0] + '__sample_weight': sample_weight for s in model.steps}\n",
      "model.fit(X, y, **kwargs)\n",
      "\n",
      "Set parameter alpha to original_alpha * np.sqrt(n_samples) if l1_ratio is 1, and to original_alpha * n_samples if l1_ratio is 0. For other values of l1_ratio, no analytic formula is available.\n",
      "  warnings.warn(\n",
      "C:\\Users\\Roberto\\anaconda3\\lib\\site-packages\\sklearn\\linear_model\\_coordinate_descent.py:1571: DataConversionWarning: A column-vector y was passed when a 1d array was expected. Please change the shape of y to (n_samples, ), for example using ravel().\n",
      "  y = column_or_1d(y, warn=True)\n",
      "C:\\Users\\Roberto\\anaconda3\\lib\\site-packages\\sklearn\\linear_model\\_base.py:141: FutureWarning: 'normalize' was deprecated in version 1.0 and will be removed in 1.2.\n",
      "If you wish to scale the data, use Pipeline with a StandardScaler in a preprocessing stage. To reproduce the previous behavior:\n",
      "\n",
      "from sklearn.pipeline import make_pipeline\n",
      "\n",
      "model = make_pipeline(StandardScaler(with_mean=False), ElasticNet())\n",
      "\n",
      "If you wish to pass a sample_weight parameter, you need to pass it as a fit parameter to each step of the pipeline as follows:\n",
      "\n",
      "kwargs = {s[0] + '__sample_weight': sample_weight for s in model.steps}\n",
      "model.fit(X, y, **kwargs)\n",
      "\n",
      "Set parameter alpha to original_alpha * np.sqrt(n_samples) if l1_ratio is 1, and to original_alpha * n_samples if l1_ratio is 0. For other values of l1_ratio, no analytic formula is available.\n",
      "  warnings.warn(\n"
     ]
    }
   ],
   "source": [
    "# Reshaping Y variable\n",
    "Y_vec = Y_train.to_numpy().reshape(-1, 1)\n",
    "\n",
    "# Scalar distribution\n",
    "scaler = StandardScaler()\n",
    "scaler.fit( Y_vec )  # mean and standar deviation\n",
    "std_Y = scaler.transform( Y_vec )  # scale \n",
    "\n",
    "# Regressions\n",
    "fit_lasso_cv_basic = LassoCV(cv = 10 , random_state = 0 , normalize = True ).fit( model_X_basic_train, std_Y )\n",
    "\n",
    "fit_ridge_basic = ElasticNetCV( cv = 10 , normalize = True , random_state = 0 , l1_ratio = 0.0001 ).fit( model_X_basic_train , std_Y )\n",
    "fit_elnet_basic = ElasticNetCV( cv = 10 , normalize = True , random_state = 0 , l1_ratio = 0.5, max_iter = 100000 ).fit( model_X_basic_train , std_Y )\n",
    "\n",
    "\n",
    "\n",
    "# Predictions\n",
    "\n",
    "yhat_lasso_cv_basic = scaler.inverse_transform( fit_lasso_cv_basic.predict( model_X_basic_test ).reshape(-1, 1) )\n",
    "yhat_ridge_basic = scaler.inverse_transform( fit_ridge_basic.predict( model_X_basic_test ).reshape(-1, 1) )\n",
    "yhat_elnet_basic = scaler.inverse_transform( fit_elnet_basic.predict( model_X_basic_test ).reshape(-1, 1) )"
   ]
  },
  {
   "cell_type": "code",
   "execution_count": 125,
   "id": "ac7232e5",
   "metadata": {},
   "outputs": [],
   "source": [
    "MSE_lasso_cv_basic = sm.OLS( ((Y_test.to_numpy().reshape(-1,1) - yhat_lasso_cv_basic)**2 ) , np.ones( yhat_lasso_cv_basic.shape )  ).fit().summary2().tables[1].round(3)\n",
    "MSE_ridge_basic = sm.OLS( ((Y_test.to_numpy().reshape(-1,1) - yhat_ridge_basic)**2 ) , np.ones( yhat_ridge_basic.size )  ).fit().summary2().tables[1].round(3)\n",
    "MSE_elnet_basic = sm.OLS( ((Y_test.to_numpy().reshape(-1,1) - yhat_elnet_basic)**2 ) , np.ones( yhat_elnet_basic.size )  ).fit().summary2().tables[1].round(3)\n",
    "# our coefficient of MSE_elnet are far from r output"
   ]
  },
  {
   "cell_type": "code",
   "execution_count": 126,
   "id": "b7c418a5",
   "metadata": {},
   "outputs": [],
   "source": [
    "R2_lasso_cv_basic = 1- MSE_ridge_basic.iloc[0,0] / np.var( Y_test )\n",
    "R2_ridge_basic = 1- MSE_lasso_cv_basic.iloc[0,0] / np.var( Y_test )\n",
    "R2_elnet_basic = 1- MSE_elnet_basic.iloc[0,0] / np.var( Y_test )"
   ]
  },
  {
   "cell_type": "code",
   "execution_count": 127,
   "id": "2ab5478d",
   "metadata": {},
   "outputs": [
    {
     "name": "stderr",
     "output_type": "stream",
     "text": [
      "C:\\Users\\Roberto\\anaconda3\\lib\\site-packages\\sklearn\\linear_model\\_coordinate_descent.py:1571: DataConversionWarning: A column-vector y was passed when a 1d array was expected. Please change the shape of y to (n_samples, ), for example using ravel().\n",
      "  y = column_or_1d(y, warn=True)\n",
      "C:\\Users\\Roberto\\anaconda3\\lib\\site-packages\\sklearn\\linear_model\\_coordinate_descent.py:633: ConvergenceWarning: Objective did not converge. You might want to increase the number of iterations. Duality gap: 3.035704891917703, tolerance: 1.9717050221467523\n",
      "  model = cd_fast.enet_coordinate_descent_gram(\n",
      "C:\\Users\\Roberto\\anaconda3\\lib\\site-packages\\sklearn\\linear_model\\_coordinate_descent.py:633: ConvergenceWarning: Objective did not converge. You might want to increase the number of iterations. Duality gap: 3.703104430100211, tolerance: 1.9717050221467523\n",
      "  model = cd_fast.enet_coordinate_descent_gram(\n",
      "C:\\Users\\Roberto\\anaconda3\\lib\\site-packages\\sklearn\\linear_model\\_coordinate_descent.py:633: ConvergenceWarning: Objective did not converge. You might want to increase the number of iterations. Duality gap: 4.766579953047767, tolerance: 1.9717050221467523\n",
      "  model = cd_fast.enet_coordinate_descent_gram(\n",
      "C:\\Users\\Roberto\\anaconda3\\lib\\site-packages\\sklearn\\linear_model\\_coordinate_descent.py:633: ConvergenceWarning: Objective did not converge. You might want to increase the number of iterations. Duality gap: 2.7805113505128247, tolerance: 1.9298890758653369\n",
      "  model = cd_fast.enet_coordinate_descent_gram(\n",
      "C:\\Users\\Roberto\\anaconda3\\lib\\site-packages\\sklearn\\linear_model\\_coordinate_descent.py:633: ConvergenceWarning: Objective did not converge. You might want to increase the number of iterations. Duality gap: 2.9557642775216664, tolerance: 1.9298890758653369\n",
      "  model = cd_fast.enet_coordinate_descent_gram(\n",
      "C:\\Users\\Roberto\\anaconda3\\lib\\site-packages\\sklearn\\linear_model\\_coordinate_descent.py:633: ConvergenceWarning: Objective did not converge. You might want to increase the number of iterations. Duality gap: 4.372769796056673, tolerance: 1.9298890758653369\n",
      "  model = cd_fast.enet_coordinate_descent_gram(\n",
      "C:\\Users\\Roberto\\anaconda3\\lib\\site-packages\\sklearn\\linear_model\\_coordinate_descent.py:633: ConvergenceWarning: Objective did not converge. You might want to increase the number of iterations. Duality gap: 5.313743976365004, tolerance: 1.9298890758653369\n",
      "  model = cd_fast.enet_coordinate_descent_gram(\n",
      "C:\\Users\\Roberto\\anaconda3\\lib\\site-packages\\sklearn\\linear_model\\_coordinate_descent.py:633: ConvergenceWarning: Objective did not converge. You might want to increase the number of iterations. Duality gap: 2.7526179437045357, tolerance: 1.97053645708006\n",
      "  model = cd_fast.enet_coordinate_descent_gram(\n",
      "C:\\Users\\Roberto\\anaconda3\\lib\\site-packages\\sklearn\\linear_model\\_coordinate_descent.py:633: ConvergenceWarning: Objective did not converge. You might want to increase the number of iterations. Duality gap: 3.3792202706808894, tolerance: 1.97053645708006\n",
      "  model = cd_fast.enet_coordinate_descent_gram(\n",
      "C:\\Users\\Roberto\\anaconda3\\lib\\site-packages\\sklearn\\linear_model\\_coordinate_descent.py:633: ConvergenceWarning: Objective did not converge. You might want to increase the number of iterations. Duality gap: 2.0447915875683975, tolerance: 1.97053645708006\n",
      "  model = cd_fast.enet_coordinate_descent_gram(\n",
      "C:\\Users\\Roberto\\anaconda3\\lib\\site-packages\\sklearn\\linear_model\\_coordinate_descent.py:633: ConvergenceWarning: Objective did not converge. You might want to increase the number of iterations. Duality gap: 3.9027341070668626, tolerance: 1.97053645708006\n",
      "  model = cd_fast.enet_coordinate_descent_gram(\n",
      "C:\\Users\\Roberto\\anaconda3\\lib\\site-packages\\sklearn\\linear_model\\_coordinate_descent.py:633: ConvergenceWarning: Objective did not converge. You might want to increase the number of iterations. Duality gap: 2.9484030347230146, tolerance: 1.9938364050979698\n",
      "  model = cd_fast.enet_coordinate_descent_gram(\n",
      "C:\\Users\\Roberto\\anaconda3\\lib\\site-packages\\sklearn\\linear_model\\_coordinate_descent.py:633: ConvergenceWarning: Objective did not converge. You might want to increase the number of iterations. Duality gap: 3.395824223789532, tolerance: 1.9938364050979698\n",
      "  model = cd_fast.enet_coordinate_descent_gram(\n",
      "C:\\Users\\Roberto\\anaconda3\\lib\\site-packages\\sklearn\\linear_model\\_coordinate_descent.py:633: ConvergenceWarning: Objective did not converge. You might want to increase the number of iterations. Duality gap: 3.5961338987726776, tolerance: 1.9938364050979698\n",
      "  model = cd_fast.enet_coordinate_descent_gram(\n",
      "C:\\Users\\Roberto\\anaconda3\\lib\\site-packages\\sklearn\\linear_model\\_coordinate_descent.py:633: ConvergenceWarning: Objective did not converge. You might want to increase the number of iterations. Duality gap: 4.607027835725603, tolerance: 1.9938364050979698\n",
      "  model = cd_fast.enet_coordinate_descent_gram(\n",
      "C:\\Users\\Roberto\\anaconda3\\lib\\site-packages\\sklearn\\linear_model\\_coordinate_descent.py:633: ConvergenceWarning: Objective did not converge. You might want to increase the number of iterations. Duality gap: 5.235808648816601, tolerance: 1.9938364050979698\n",
      "  model = cd_fast.enet_coordinate_descent_gram(\n",
      "C:\\Users\\Roberto\\anaconda3\\lib\\site-packages\\sklearn\\linear_model\\_coordinate_descent.py:633: ConvergenceWarning: Objective did not converge. You might want to increase the number of iterations. Duality gap: 5.667239088372298, tolerance: 1.9938364050979698\n",
      "  model = cd_fast.enet_coordinate_descent_gram(\n",
      "C:\\Users\\Roberto\\anaconda3\\lib\\site-packages\\sklearn\\linear_model\\_coordinate_descent.py:633: ConvergenceWarning: Objective did not converge. You might want to increase the number of iterations. Duality gap: 3.190029786841478, tolerance: 1.9942962208965365\n",
      "  model = cd_fast.enet_coordinate_descent_gram(\n",
      "C:\\Users\\Roberto\\anaconda3\\lib\\site-packages\\sklearn\\linear_model\\_coordinate_descent.py:633: ConvergenceWarning: Objective did not converge. You might want to increase the number of iterations. Duality gap: 3.773367638439595, tolerance: 1.9942962208965365\n",
      "  model = cd_fast.enet_coordinate_descent_gram(\n",
      "C:\\Users\\Roberto\\anaconda3\\lib\\site-packages\\sklearn\\linear_model\\_coordinate_descent.py:633: ConvergenceWarning: Objective did not converge. You might want to increase the number of iterations. Duality gap: 2.5791232388037315, tolerance: 1.9942962208965365\n",
      "  model = cd_fast.enet_coordinate_descent_gram(\n",
      "C:\\Users\\Roberto\\anaconda3\\lib\\site-packages\\sklearn\\linear_model\\_coordinate_descent.py:633: ConvergenceWarning: Objective did not converge. You might want to increase the number of iterations. Duality gap: 2.0222802719417814, tolerance: 1.9841728640295901\n",
      "  model = cd_fast.enet_coordinate_descent_gram(\n",
      "C:\\Users\\Roberto\\anaconda3\\lib\\site-packages\\sklearn\\linear_model\\_coordinate_descent.py:633: ConvergenceWarning: Objective did not converge. You might want to increase the number of iterations. Duality gap: 2.5887831655527407, tolerance: 1.9841728640295901\n",
      "  model = cd_fast.enet_coordinate_descent_gram(\n",
      "C:\\Users\\Roberto\\anaconda3\\lib\\site-packages\\sklearn\\linear_model\\_coordinate_descent.py:633: ConvergenceWarning: Objective did not converge. You might want to increase the number of iterations. Duality gap: 3.1500794834264525, tolerance: 1.9841728640295901\n",
      "  model = cd_fast.enet_coordinate_descent_gram(\n",
      "C:\\Users\\Roberto\\anaconda3\\lib\\site-packages\\sklearn\\linear_model\\_coordinate_descent.py:633: ConvergenceWarning: Objective did not converge. You might want to increase the number of iterations. Duality gap: 3.050223309692228, tolerance: 1.9841728640295901\n",
      "  model = cd_fast.enet_coordinate_descent_gram(\n",
      "C:\\Users\\Roberto\\anaconda3\\lib\\site-packages\\sklearn\\linear_model\\_coordinate_descent.py:633: ConvergenceWarning: Objective did not converge. You might want to increase the number of iterations. Duality gap: 3.1136113975971966, tolerance: 1.9843235215653596\n",
      "  model = cd_fast.enet_coordinate_descent_gram(\n",
      "C:\\Users\\Roberto\\anaconda3\\lib\\site-packages\\sklearn\\linear_model\\_coordinate_descent.py:633: ConvergenceWarning: Objective did not converge. You might want to increase the number of iterations. Duality gap: 4.320670687047823, tolerance: 1.9843235215653596\n",
      "  model = cd_fast.enet_coordinate_descent_gram(\n"
     ]
    },
    {
     "name": "stderr",
     "output_type": "stream",
     "text": [
      "C:\\Users\\Roberto\\anaconda3\\lib\\site-packages\\sklearn\\linear_model\\_coordinate_descent.py:633: ConvergenceWarning: Objective did not converge. You might want to increase the number of iterations. Duality gap: 2.8863339080162405, tolerance: 1.9881911617039523\n",
      "  model = cd_fast.enet_coordinate_descent_gram(\n",
      "C:\\Users\\Roberto\\anaconda3\\lib\\site-packages\\sklearn\\linear_model\\_coordinate_descent.py:633: ConvergenceWarning: Objective did not converge. You might want to increase the number of iterations. Duality gap: 6.965663922550448, tolerance: 1.9881911617039523\n",
      "  model = cd_fast.enet_coordinate_descent_gram(\n",
      "C:\\Users\\Roberto\\anaconda3\\lib\\site-packages\\sklearn\\linear_model\\_coordinate_descent.py:633: ConvergenceWarning: Objective did not converge. You might want to increase the number of iterations. Duality gap: 3.6519159784002113, tolerance: 1.9881911617039523\n",
      "  model = cd_fast.enet_coordinate_descent_gram(\n",
      "C:\\Users\\Roberto\\anaconda3\\lib\\site-packages\\sklearn\\linear_model\\_coordinate_descent.py:633: ConvergenceWarning: Objective did not converge. You might want to increase the number of iterations. Duality gap: 4.809986714148181, tolerance: 1.9881911617039523\n",
      "  model = cd_fast.enet_coordinate_descent_gram(\n",
      "C:\\Users\\Roberto\\anaconda3\\lib\\site-packages\\sklearn\\linear_model\\_coordinate_descent.py:633: ConvergenceWarning: Objective did not converge. You might want to increase the number of iterations. Duality gap: 3.008751491914154, tolerance: 1.9579037024445338\n",
      "  model = cd_fast.enet_coordinate_descent_gram(\n",
      "C:\\Users\\Roberto\\anaconda3\\lib\\site-packages\\sklearn\\linear_model\\_coordinate_descent.py:633: ConvergenceWarning: Objective did not converge. You might want to increase the number of iterations. Duality gap: 3.6768941576374345, tolerance: 1.9579037024445338\n",
      "  model = cd_fast.enet_coordinate_descent_gram(\n",
      "C:\\Users\\Roberto\\anaconda3\\lib\\site-packages\\sklearn\\linear_model\\_coordinate_descent.py:633: ConvergenceWarning: Objective did not converge. You might want to increase the number of iterations. Duality gap: 3.630458715944769, tolerance: 1.9579037024445338\n",
      "  model = cd_fast.enet_coordinate_descent_gram(\n",
      "C:\\Users\\Roberto\\anaconda3\\lib\\site-packages\\sklearn\\linear_model\\_coordinate_descent.py:633: ConvergenceWarning: Objective did not converge. You might want to increase the number of iterations. Duality gap: 4.899860229283149, tolerance: 1.9579037024445338\n",
      "  model = cd_fast.enet_coordinate_descent_gram(\n",
      "C:\\Users\\Roberto\\anaconda3\\lib\\site-packages\\sklearn\\linear_model\\_coordinate_descent.py:633: ConvergenceWarning: Objective did not converge. You might want to increase the number of iterations. Duality gap: 2.880660005037498, tolerance: 1.9419230696237204\n",
      "  model = cd_fast.enet_coordinate_descent_gram(\n",
      "C:\\Users\\Roberto\\anaconda3\\lib\\site-packages\\sklearn\\linear_model\\_coordinate_descent.py:633: ConvergenceWarning: Objective did not converge. You might want to increase the number of iterations. Duality gap: 3.7814963405653543, tolerance: 1.9419230696237204\n",
      "  model = cd_fast.enet_coordinate_descent_gram(\n",
      "C:\\Users\\Roberto\\anaconda3\\lib\\site-packages\\sklearn\\linear_model\\_base.py:141: FutureWarning: 'normalize' was deprecated in version 1.0 and will be removed in 1.2.\n",
      "If you wish to scale the data, use Pipeline with a StandardScaler in a preprocessing stage. To reproduce the previous behavior:\n",
      "\n",
      "from sklearn.pipeline import make_pipeline\n",
      "\n",
      "model = make_pipeline(StandardScaler(with_mean=False), Lasso())\n",
      "\n",
      "If you wish to pass a sample_weight parameter, you need to pass it as a fit parameter to each step of the pipeline as follows:\n",
      "\n",
      "kwargs = {s[0] + '__sample_weight': sample_weight for s in model.steps}\n",
      "model.fit(X, y, **kwargs)\n",
      "\n",
      "Set parameter alpha to: original_alpha * np.sqrt(n_samples). \n",
      "  warnings.warn(\n",
      "C:\\Users\\Roberto\\anaconda3\\lib\\site-packages\\sklearn\\linear_model\\_coordinate_descent.py:1571: DataConversionWarning: A column-vector y was passed when a 1d array was expected. Please change the shape of y to (n_samples, ), for example using ravel().\n",
      "  y = column_or_1d(y, warn=True)\n",
      "C:\\Users\\Roberto\\anaconda3\\lib\\site-packages\\sklearn\\linear_model\\_base.py:141: FutureWarning: 'normalize' was deprecated in version 1.0 and will be removed in 1.2.\n",
      "If you wish to scale the data, use Pipeline with a StandardScaler in a preprocessing stage. To reproduce the previous behavior:\n",
      "\n",
      "from sklearn.pipeline import make_pipeline\n",
      "\n",
      "model = make_pipeline(StandardScaler(with_mean=False), ElasticNet())\n",
      "\n",
      "If you wish to pass a sample_weight parameter, you need to pass it as a fit parameter to each step of the pipeline as follows:\n",
      "\n",
      "kwargs = {s[0] + '__sample_weight': sample_weight for s in model.steps}\n",
      "model.fit(X, y, **kwargs)\n",
      "\n",
      "Set parameter alpha to original_alpha * np.sqrt(n_samples) if l1_ratio is 1, and to original_alpha * n_samples if l1_ratio is 0. For other values of l1_ratio, no analytic formula is available.\n",
      "  warnings.warn(\n",
      "C:\\Users\\Roberto\\anaconda3\\lib\\site-packages\\sklearn\\linear_model\\_coordinate_descent.py:1571: DataConversionWarning: A column-vector y was passed when a 1d array was expected. Please change the shape of y to (n_samples, ), for example using ravel().\n",
      "  y = column_or_1d(y, warn=True)\n",
      "C:\\Users\\Roberto\\anaconda3\\lib\\site-packages\\sklearn\\linear_model\\_base.py:141: FutureWarning: 'normalize' was deprecated in version 1.0 and will be removed in 1.2.\n",
      "If you wish to scale the data, use Pipeline with a StandardScaler in a preprocessing stage. To reproduce the previous behavior:\n",
      "\n",
      "from sklearn.pipeline import make_pipeline\n",
      "\n",
      "model = make_pipeline(StandardScaler(with_mean=False), ElasticNet())\n",
      "\n",
      "If you wish to pass a sample_weight parameter, you need to pass it as a fit parameter to each step of the pipeline as follows:\n",
      "\n",
      "kwargs = {s[0] + '__sample_weight': sample_weight for s in model.steps}\n",
      "model.fit(X, y, **kwargs)\n",
      "\n",
      "Set parameter alpha to original_alpha * np.sqrt(n_samples) if l1_ratio is 1, and to original_alpha * n_samples if l1_ratio is 0. For other values of l1_ratio, no analytic formula is available.\n",
      "  warnings.warn(\n"
     ]
    }
   ],
   "source": [
    "# Reshaping Y variable\n",
    "Y_vec = Y_train.to_numpy().reshape( -1, 1)\n",
    "\n",
    "# Scalar distribution\n",
    "scaler = StandardScaler()\n",
    "scaler.fit( Y_vec )\n",
    "std_Y = scaler.transform( Y_vec )\n",
    "\n",
    "# Regressions\n",
    "fit_lasso_cv_flex = LassoCV(cv = 10 , random_state = 0 , normalize = True ).fit( model_X_flex_train, std_Y )\n",
    "fit_ridge_flex = ElasticNetCV( cv = 10 , normalize = True , random_state = 0 , l1_ratio = 0.0001 ).fit( model_X_flex_train , std_Y )\n",
    "fit_elnet_flex = ElasticNetCV( cv = 10 , normalize = True , random_state = 0 , l1_ratio = 0.5, max_iter = 100000 ).fit( model_X_flex_train , std_Y )\n",
    "\n",
    "# Predictions\n",
    "yhat_lasso_cv_flex = scaler.inverse_transform( fit_lasso_cv_flex.predict( model_X_flex_test ).reshape(-1,1) )\n",
    "yhat_ridge_flex = scaler.inverse_transform( fit_ridge_flex.predict( model_X_flex_test ).reshape(-1,1) )\n",
    "yhat_elnet_flex = scaler.inverse_transform( fit_elnet_flex.predict( model_X_flex_test ).reshape(-1,1) )"
   ]
  },
  {
   "cell_type": "code",
   "execution_count": 128,
   "id": "f109c423",
   "metadata": {},
   "outputs": [],
   "source": [
    "MSE_lasso_cv_flex = sm.OLS( ((Y_test.to_numpy().reshape(-1,1) - yhat_lasso_cv_flex)**2 ) , np.ones( yhat_lasso_cv_flex.shape )  ).fit().summary2().tables[1].round(3)\n",
    "MSE_ridge_flex = sm.OLS( ((Y_test.to_numpy().reshape(-1,1) - yhat_ridge_flex)**2 ) , np.ones( yhat_ridge_flex.size )  ).fit().summary2().tables[1].round(3)\n",
    "MSE_elnet_flex = sm.OLS( ((Y_test.to_numpy().reshape(-1,1) - yhat_elnet_flex)**2 ) , np.ones( yhat_elnet_flex.size )  ).fit().summary2().tables[1].round(3)\n",
    "# our coefficient of MSE_elnet are far from r output"
   ]
  },
  {
   "cell_type": "code",
   "execution_count": 129,
   "id": "10554c5f",
   "metadata": {},
   "outputs": [],
   "source": [
    "R2_lasso_cv_flex = 1- MSE_ridge_flex.iloc[0,0] / np.var( Y_test )\n",
    "R2_ridge_flex = 1- MSE_lasso_cv_flex.iloc[0,0] / np.var( Y_test )\n",
    "R2_elnet_flex = 1- MSE_elnet_flex.iloc[0,0] / np.var( Y_test )"
   ]
  },
  {
   "cell_type": "markdown",
   "id": "00ab82f2",
   "metadata": {
    "papermill": {
     "duration": 0.042859,
     "end_time": "2021-02-13T18:20:07.614751",
     "exception": false,
     "start_time": "2021-02-13T18:20:07.571892",
     "status": "completed"
    },
    "tags": []
   },
   "source": [
    "## Non-linear models"
   ]
  },
  {
   "cell_type": "markdown",
   "id": "b5fcdaa4",
   "metadata": {
    "papermill": {
     "duration": 0.042125,
     "end_time": "2021-02-13T18:20:07.699092",
     "exception": false,
     "start_time": "2021-02-13T18:20:07.656967",
     "status": "completed"
    },
    "tags": []
   },
   "source": [
    "Besides linear regression models, we consider nonlinear regression models to build a predictive model. We are applying regression trees, random forests, boosted trees and neural nets to estimate the regression function $g(X)$. First, we load the relevant libraries"
   ]
  },
  {
   "cell_type": "markdown",
   "id": "dbee2f32",
   "metadata": {
    "papermill": {
     "duration": 0.043418,
     "end_time": "2021-02-13T18:20:08.174622",
     "exception": false,
     "start_time": "2021-02-13T18:20:08.131204",
     "status": "completed"
    },
    "tags": []
   },
   "source": [
    "and we illustrate the application of regression trees."
   ]
  },
  {
   "cell_type": "markdown",
   "id": "603bcd30",
   "metadata": {
    "papermill": {
     "duration": 0.043267,
     "end_time": "2021-02-13T18:20:08.261600",
     "exception": false,
     "start_time": "2021-02-13T18:20:08.218333",
     "status": "completed"
    },
    "tags": []
   },
   "source": [
    "### Regression Trees"
   ]
  },
  {
   "cell_type": "markdown",
   "id": "3bac3e82",
   "metadata": {
    "papermill": {
     "duration": 0.043445,
     "end_time": "2021-02-13T18:20:08.348402",
     "exception": false,
     "start_time": "2021-02-13T18:20:08.304957",
     "status": "completed"
    },
    "tags": []
   },
   "source": [
    "We fit a regression tree to the training data using the basic model. The variable *cp* controls the complexity of the regression tree, i.e. how deep we build the tree."
   ]
  },
  {
   "cell_type": "code",
   "execution_count": 130,
   "id": "ae81b4d3",
   "metadata": {},
   "outputs": [],
   "source": [
    "import os\n",
    "import pandas as pd\n",
    "import numpy as np\n",
    "import matplotlib.pyplot as plt\n",
    "from sklearn.model_selection import train_test_split\n",
    "from sklearn.tree import DecisionTreeRegressor\n",
    "from sklearn.ensemble import RandomForestRegressor\n",
    "from sklearn import tree\n",
    "from scipy.sparse import diags\n",
    "from IPython.display import Image, display\n",
    "from sklearn.model_selection import cross_val_score"
   ]
  },
  {
   "cell_type": "markdown",
   "id": "9aa4286f",
   "metadata": {},
   "source": [
    "**cp** = It is the amout by which splitting that node would decarease the relative error.\\\n",
    "It has the same meaning as min_impurity_decrease \n",
    "Apparently, Sklearn does not have tree prune function as stated in theis user guide. I take the info from [this link](https://stats.stackexchange.com/questions/152553/what-is-the-equivalent-of-the-complexity-parameter-rpart-in-r-in-python-for)"
   ]
  },
  {
   "cell_type": "markdown",
   "id": "85ab430c",
   "metadata": {},
   "source": [
    "we can Preprune and postprune decission trees.\n",
    "\n",
    "Preprunning is stopping the growth of decision tree on an early stage. we can limit paramters like max_depth, min_samples. We can grid search those parameters and choose the optimum values that gives better performance on test data. \n",
    "\n",
    "Cost complexity pruning\\\n",
    "It is all about finding the right parameter for alpha. We will get the alpha values for this tree\n",
    "\n",
    "we are going to cut some threes in order to not overfitting data. We will calculate the total sum of squared residuals from each leaf of each type of three and store that results.\n",
    "\n",
    "how to compare these threes?\n",
    "\n",
    "Tree Scores = SSR + alpha(Number of leafs) We will penalize for each additional three.\n",
    "We will get the alpha value from cross validation. We can check the code [here](https://www.kaggle.com/arunmohan003/pruning-decision-trees)."
   ]
  },
  {
   "cell_type": "markdown",
   "id": "df95cfcb",
   "metadata": {},
   "source": [
    "cp = It is the minimum value that the R-squared should decrease in order to make the next splitting \\\n",
    "Xerror = Cross-Validated Error Rate "
   ]
  },
  {
   "cell_type": "markdown",
   "id": "6bb1c5ea",
   "metadata": {},
   "source": [
    "## cost_complexity_pruning_path:\n",
    "\n",
    "DecisionTree in sklearn has a function called cost_complexity_pruning_path, which gives the effective alphas of subtrees during pruning and also the corresponding impurities. In other words, we can use these values of alpha to prune our decision tree-"
   ]
  },
  {
   "cell_type": "code",
   "execution_count": 131,
   "id": "bdd47102",
   "metadata": {},
   "outputs": [],
   "source": [
    "trees = DecisionTreeRegressor( random_state = 0, min_impurity_decrease = 0.001 )"
   ]
  },
  {
   "cell_type": "markdown",
   "id": "bea00bfa",
   "metadata": {},
   "source": [
    "https://scikit-learn.org/stable/auto_examples/tree/plot_cost_complexity_pruning.html"
   ]
  },
  {
   "cell_type": "code",
   "execution_count": 132,
   "id": "134615a0",
   "metadata": {},
   "outputs": [],
   "source": [
    "path = trees.cost_complexity_pruning_path( model_X_basic_train, y_basic_train )\n",
    "\n",
    "alphas, impurities = path.ccp_alphas, path.impurities"
   ]
  },
  {
   "cell_type": "code",
   "execution_count": 133,
   "id": "a94b17ba",
   "metadata": {},
   "outputs": [
    {
     "data": {
      "text/plain": [
       "array([0.        , 0.00130609, 0.00138138, 0.00771384, 0.00775005,\n",
       "       0.02109483])"
      ]
     },
     "execution_count": 133,
     "metadata": {},
     "output_type": "execute_result"
    }
   ],
   "source": [
    "alphas"
   ]
  },
  {
   "cell_type": "code",
   "execution_count": 134,
   "id": "6903ab01",
   "metadata": {},
   "outputs": [
    {
     "data": {
      "text/html": [
       "<div>\n",
       "<style scoped>\n",
       "    .dataframe tbody tr th:only-of-type {\n",
       "        vertical-align: middle;\n",
       "    }\n",
       "\n",
       "    .dataframe tbody tr th {\n",
       "        vertical-align: top;\n",
       "    }\n",
       "\n",
       "    .dataframe thead th {\n",
       "        text-align: right;\n",
       "    }\n",
       "</style>\n",
       "<table border=\"1\" class=\"dataframe\">\n",
       "  <thead>\n",
       "    <tr style=\"text-align: right;\">\n",
       "      <th></th>\n",
       "      <th>alpha</th>\n",
       "      <th>mean</th>\n",
       "      <th>std</th>\n",
       "    </tr>\n",
       "  </thead>\n",
       "  <tbody>\n",
       "    <tr>\n",
       "      <th>1</th>\n",
       "      <td>0.001306</td>\n",
       "      <td>0.394845</td>\n",
       "      <td>0.041061</td>\n",
       "    </tr>\n",
       "    <tr>\n",
       "      <th>2</th>\n",
       "      <td>0.001381</td>\n",
       "      <td>0.395935</td>\n",
       "      <td>0.041274</td>\n",
       "    </tr>\n",
       "    <tr>\n",
       "      <th>3</th>\n",
       "      <td>0.007714</td>\n",
       "      <td>0.409964</td>\n",
       "      <td>0.046103</td>\n",
       "    </tr>\n",
       "    <tr>\n",
       "      <th>4</th>\n",
       "      <td>0.007750</td>\n",
       "      <td>0.409964</td>\n",
       "      <td>0.046103</td>\n",
       "    </tr>\n",
       "    <tr>\n",
       "      <th>5</th>\n",
       "      <td>0.021095</td>\n",
       "      <td>0.431698</td>\n",
       "      <td>0.043923</td>\n",
       "    </tr>\n",
       "    <tr>\n",
       "      <th>0</th>\n",
       "      <td>0.000000</td>\n",
       "      <td>0.435915</td>\n",
       "      <td>0.046736</td>\n",
       "    </tr>\n",
       "  </tbody>\n",
       "</table>\n",
       "</div>"
      ],
      "text/plain": [
       "      alpha      mean       std\n",
       "1  0.001306  0.394845  0.041061\n",
       "2  0.001381  0.395935  0.041274\n",
       "3  0.007714  0.409964  0.046103\n",
       "4  0.007750  0.409964  0.046103\n",
       "5  0.021095  0.431698  0.043923\n",
       "0  0.000000  0.435915  0.046736"
      ]
     },
     "execution_count": 134,
     "metadata": {},
     "output_type": "execute_result"
    }
   ],
   "source": [
    "mean1, std1 = [], []\n",
    "\n",
    "for i in alphas:\n",
    "     tree_initial = DecisionTreeRegressor(ccp_alpha=i, random_state=0)\n",
    "# 10 fold cross validation for each alpha value\n",
    "     scores = cross_val_score(tree_initial, model_X_basic_train, y_basic_train, scoring='neg_mean_squared_error', cv=10)\n",
    "     mean1.append(scores.mean()), std1.append(scores.std())\n",
    "            \n",
    "# keep a record of the values of alpha, mean accuracy rate, standard deviation of accuracies\n",
    "\n",
    "table = pd.DataFrame({\"alpha\": alphas, \"mean\": mean1, \"std\": std1})\n",
    "table[\"mean\"] = (-1)*table[\"mean\"]\n",
    "table = table.sort_values([\"mean\"], ascending = True)\n",
    "table.head(10)\n"
   ]
  },
  {
   "cell_type": "code",
   "execution_count": 135,
   "id": "824908a1",
   "metadata": {},
   "outputs": [],
   "source": [
    "prune_tree =  DecisionTreeRegressor(ccp_alpha=table.iloc[1,0], random_state=0)\n",
    "\n",
    "prune_tree_fit = prune_tree.fit(model_X_basic_train, y_basic_train)"
   ]
  },
  {
   "cell_type": "code",
   "execution_count": 136,
   "id": "e5639ec5",
   "metadata": {},
   "outputs": [
    {
     "data": {
      "image/png": "[encoded data removed]",
      "text/plain": [
       "<Figure size 360x1080 with 1 Axes>"
      ]
     },
     "metadata": {
      "needs_background": "light"
     },
     "output_type": "display_data"
    }
   ],
   "source": [
    "fig = plt.figure(figsize=(5,15))\n",
    "_ = tree.plot_tree( prune_tree_fit , filled = True , rounded = True  )"
   ]
  },
  {
   "cell_type": "code",
   "execution_count": 137,
   "id": "7acf204d",
   "metadata": {},
   "outputs": [],
   "source": [
    "y_hat_pt = prune_tree_fit.predict(model_X_basic_test)\n",
    "\n",
    "MSE_pt= sm.OLS( ((Y_test.to_numpy().reshape(-1,1) - y_hat_pt.reshape(-1,1))**2 ) , np.ones( y_hat_pt.shape )  ).fit().summary2().tables[1].round(3)\n",
    "R2_pt = 1- MSE_pt.iloc[0,0] / np.var( Y_test )"
   ]
  },
  {
   "cell_type": "markdown",
   "id": "69d9f3a7",
   "metadata": {
    "papermill": {
     "duration": 0.052403,
     "end_time": "2021-02-13T18:21:08.603976",
     "exception": false,
     "start_time": "2021-02-13T18:21:08.551573",
     "status": "completed"
    },
    "tags": []
   },
   "source": [
    "## Results"
   ]
  },
  {
   "cell_type": "code",
   "execution_count": 138,
   "id": "38f364b2",
   "metadata": {},
   "outputs": [
    {
     "name": "stderr",
     "output_type": "stream",
     "text": [
      "C:\\Users\\Roberto\\AppData\\Local\\Temp\\ipykernel_10964\\1735838183.py:43: FutureWarning: In future versions `DataFrame.to_latex` is expected to utilise the base implementation of `Styler.to_latex` for formatting and rendering. The arguments signature may therefore change. It is recommended instead to use `DataFrame.style.to_latex` which also contains additional functionality.\n",
      "  table_html = table_pandas.to_latex()\n"
     ]
    },
    {
     "data": {
      "text/html": [
       "<div>\n",
       "<style scoped>\n",
       "    .dataframe tbody tr th:only-of-type {\n",
       "        vertical-align: middle;\n",
       "    }\n",
       "\n",
       "    .dataframe tbody tr th {\n",
       "        vertical-align: top;\n",
       "    }\n",
       "\n",
       "    .dataframe thead th {\n",
       "        text-align: right;\n",
       "    }\n",
       "</style>\n",
       "<table border=\"1\" class=\"dataframe\">\n",
       "  <thead>\n",
       "    <tr style=\"text-align: right;\">\n",
       "      <th></th>\n",
       "      <th>MSE</th>\n",
       "      <th>S_E_ for MSE</th>\n",
       "      <th>R-squared</th>\n",
       "    </tr>\n",
       "  </thead>\n",
       "  <tbody>\n",
       "    <tr>\n",
       "      <th>Least Squares (basic)</th>\n",
       "      <td>0.384</td>\n",
       "      <td>0.019</td>\n",
       "      <td>0.122</td>\n",
       "    </tr>\n",
       "    <tr>\n",
       "      <th>Least Squares (flexible)</th>\n",
       "      <td>0.330</td>\n",
       "      <td>0.018</td>\n",
       "      <td>0.248</td>\n",
       "    </tr>\n",
       "    <tr>\n",
       "      <th>Lasso</th>\n",
       "      <td>0.386</td>\n",
       "      <td>0.018</td>\n",
       "      <td>0.119</td>\n",
       "    </tr>\n",
       "    <tr>\n",
       "      <th>Post-Lasso</th>\n",
       "      <td>0.386</td>\n",
       "      <td>0.018</td>\n",
       "      <td>0.119</td>\n",
       "    </tr>\n",
       "    <tr>\n",
       "      <th>Lasso (flexible)</th>\n",
       "      <td>0.331</td>\n",
       "      <td>0.018</td>\n",
       "      <td>0.119</td>\n",
       "    </tr>\n",
       "    <tr>\n",
       "      <th>Post-Lasso (flexible)</th>\n",
       "      <td>0.331</td>\n",
       "      <td>0.018</td>\n",
       "      <td>0.244</td>\n",
       "    </tr>\n",
       "    <tr>\n",
       "      <th>Cross-Validated lasso</th>\n",
       "      <td>0.385</td>\n",
       "      <td>0.019</td>\n",
       "      <td>-0.000</td>\n",
       "    </tr>\n",
       "    <tr>\n",
       "      <th>Cross-Validated ridge</th>\n",
       "      <td>0.438</td>\n",
       "      <td>0.019</td>\n",
       "      <td>0.121</td>\n",
       "    </tr>\n",
       "    <tr>\n",
       "      <th>Cross-Validated elnet</th>\n",
       "      <td>0.386</td>\n",
       "      <td>0.019</td>\n",
       "      <td>0.119</td>\n",
       "    </tr>\n",
       "    <tr>\n",
       "      <th>Cross-Validated lasso (flexible)</th>\n",
       "      <td>0.329</td>\n",
       "      <td>0.018</td>\n",
       "      <td>0.004</td>\n",
       "    </tr>\n",
       "    <tr>\n",
       "      <th>Cross-Validated ridge (flexible)</th>\n",
       "      <td>0.436</td>\n",
       "      <td>0.019</td>\n",
       "      <td>0.249</td>\n",
       "    </tr>\n",
       "    <tr>\n",
       "      <th>Cross-Validated elnet (flexible)</th>\n",
       "      <td>0.329</td>\n",
       "      <td>0.018</td>\n",
       "      <td>0.249</td>\n",
       "    </tr>\n",
       "    <tr>\n",
       "      <th>Pruned Tree</th>\n",
       "      <td>0.390</td>\n",
       "      <td>0.018</td>\n",
       "      <td>0.109</td>\n",
       "    </tr>\n",
       "  </tbody>\n",
       "</table>\n",
       "</div>"
      ],
      "text/plain": [
       "                                    MSE  S_E_ for MSE  R-squared\n",
       "Least Squares (basic)             0.384         0.019      0.122\n",
       "Least Squares (flexible)          0.330         0.018      0.248\n",
       "Lasso                             0.386         0.018      0.119\n",
       "Post-Lasso                        0.386         0.018      0.119\n",
       "Lasso (flexible)                  0.331         0.018      0.119\n",
       "Post-Lasso (flexible)             0.331         0.018      0.244\n",
       "Cross-Validated lasso             0.385         0.019     -0.000\n",
       "Cross-Validated ridge             0.438         0.019      0.121\n",
       "Cross-Validated elnet             0.386         0.019      0.119\n",
       "Cross-Validated lasso (flexible)  0.329         0.018      0.004\n",
       "Cross-Validated ridge (flexible)  0.436         0.019      0.249\n",
       "Cross-Validated elnet (flexible)  0.329         0.018      0.249\n",
       "Pruned Tree                       0.390         0.018      0.109"
      ]
     },
     "execution_count": 138,
     "metadata": {},
     "output_type": "execute_result"
    }
   ],
   "source": [
    "table= np.zeros( (13, 3) )\n",
    "table[0,0:2]   = MSE_lm_basic\n",
    "table[1,0:2]   = MSE_lm_flex\n",
    "table[2,0:2]   = MSE_lasso.iloc[0, [0, 1]]\n",
    "table[3,0:2]   = MSE_lasso_post.iloc[0, [0, 1]]\n",
    "table[4,0:2]   = MSE_lasso_flex.iloc[0, [0, 1]]\n",
    "table[5,0:2]   = MSE_lasso_post_flex.iloc[0, [0, 1]]\n",
    "table[6,0:2]   = MSE_lasso_cv_basic.iloc[0, [0, 1]]\n",
    "table[7,0:2]   = MSE_ridge_basic.iloc[0, [0, 1]]\n",
    "table[8,0:2]   = MSE_elnet_basic.iloc[0, [0, 1]]\n",
    "table[9,0:2]   = MSE_lasso_cv_flex.iloc[0, [0, 1]]\n",
    "table[10,0:2]  = MSE_ridge_flex.iloc[0, [0, 1]]\n",
    "table[11,0:2]  = MSE_elnet_flex.iloc[0, [0, 1]]\n",
    "table[12,0:2]  = MSE_pt.iloc[0, [0, 1]]\n",
    "\n",
    "\n",
    "\n",
    "table[0,2]   = R2_lm_basic\n",
    "table[1,2]   = R2_lm_flex\n",
    "table[2,2]   = R2_lasso\n",
    "table[3,2]   = R2_lasso_post\n",
    "table[4,2]   = R2_lasso_flex\n",
    "table[5,2]   = R2_lasso_post_flex\n",
    "table[6,2]   = R2_lasso_cv_basic\n",
    "table[7,2]   = R2_ridge_basic\n",
    "table[8,2]   = R2_elnet_basic\n",
    "table[9,2]   = R2_lasso_cv_flex\n",
    "table[10,2]  = R2_ridge_flex\n",
    "table[11,2]  = R2_elnet_flex\n",
    "table[12,2]  = R2_pt\n",
    "\n",
    "\n",
    "\n",
    "\n",
    "colnames_table= [\"MSE\", \"S_E_ for MSE\", \"R-squared\"]\n",
    "rownames_table= [\"Least Squares (basic)\",\"Least Squares (flexible)\", \"Lasso\", \"Post-Lasso\",\"Lasso (flexible)\",\"Post-Lasso (flexible)\", \\\n",
    "                    \"Cross-Validated lasso\", \"Cross-Validated ridge\",\"Cross-Validated elnet\",\"Cross-Validated lasso (flexible)\",\"Cross-Validated ridge (flexible)\",\"Cross-Validated elnet (flexible)\",  \\\n",
    "                   \"Pruned Tree\"]\n",
    "table_pandas = pd.DataFrame( table, columns = colnames_table )\n",
    "table_pandas.index = rownames_table\n",
    "\n",
    "table_pandas = table_pandas.round(3)\n",
    "table_html = table_pandas.to_latex()\n",
    "table_pandas"
   ]
  },
  {
   "cell_type": "code",
   "execution_count": null,
   "id": "8e7573d8",
   "metadata": {},
   "outputs": [],
   "source": []
  },
  {
   "cell_type": "code",
   "execution_count": null,
   "id": "15624870",
   "metadata": {},
   "outputs": [],
   "source": []
  },
  {
   "cell_type": "code",
   "execution_count": null,
   "id": "f3491460",
   "metadata": {},
   "outputs": [],
   "source": []
  },
  {
   "cell_type": "code",
   "execution_count": null,
   "id": "209db702",
   "metadata": {},
   "outputs": [],
   "source": []
  },
  {
   "cell_type": "code",
   "execution_count": null,
   "id": "7ed51fc1",
   "metadata": {},
   "outputs": [],
   "source": []
  },
  {
   "cell_type": "code",
   "execution_count": null,
   "id": "d5e43752",
   "metadata": {},
   "outputs": [],
   "source": []
  },
  {
   "cell_type": "code",
   "execution_count": null,
   "id": "63648f54",
   "metadata": {},
   "outputs": [],
   "source": []
  },
  {
   "cell_type": "code",
   "execution_count": null,
   "id": "27df3995",
   "metadata": {},
   "outputs": [],
   "source": []
  },
  {
   "cell_type": "code",
   "execution_count": null,
   "id": "220ef40a",
   "metadata": {},
   "outputs": [],
   "source": []
  },
  {
   "cell_type": "code",
   "execution_count": null,
   "id": "7099dcea",
   "metadata": {},
   "outputs": [],
   "source": []
  },
  {
   "cell_type": "code",
   "execution_count": null,
   "id": "6737d2da",
   "metadata": {},
   "outputs": [],
   "source": []
  },
  {
   "cell_type": "code",
   "execution_count": null,
   "id": "d824efce",
   "metadata": {},
   "outputs": [],
   "source": []
  },
  {
   "cell_type": "code",
   "execution_count": null,
   "id": "3cc7d2dc",
   "metadata": {},
   "outputs": [],
   "source": []
  },
  {
   "cell_type": "code",
   "execution_count": null,
   "id": "9a4e4c9d",
   "metadata": {},
   "outputs": [],
   "source": []
  },
  {
   "cell_type": "code",
   "execution_count": null,
   "id": "e5ee5395",
   "metadata": {},
   "outputs": [],
   "source": []
  },
  {
   "cell_type": "code",
   "execution_count": null,
   "id": "17e621f8",
   "metadata": {},
   "outputs": [],
   "source": []
  }
 ],
 "metadata": {
  "kernelspec": {
   "display_name": "Python 3 (ipykernel)",
   "language": "python",
   "name": "python3"
  },
  "language_info": {
   "codemirror_mode": {
    "name": "ipython",
    "version": 3
   },
   "file_extension": ".py",
   "mimetype": "text/x-python",
   "name": "python",
   "nbconvert_exporter": "python",
   "pygments_lexer": "ipython3",
   "version": "3.9.7"
  }
 },
 "nbformat": 4,
 "nbformat_minor": 5
}
