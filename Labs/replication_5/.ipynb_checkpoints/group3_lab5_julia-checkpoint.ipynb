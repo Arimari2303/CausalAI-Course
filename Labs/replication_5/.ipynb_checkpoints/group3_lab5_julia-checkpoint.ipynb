{
 "cells": [
  {
   "cell_type": "markdown",
   "id": "1baf75fc",
   "metadata": {},
   "source": [
    "## Bootstraping - Scripts in (R, Python and Julia)\n",
    "For the bootstrap section you have to use the next equation:\n",
    "\n",
    "\n",
    "log(inuidur1)~T4+ (female+black+othrace+factor(dep)+q2+q3+q4+q5+q6+agelt35+agegt54+durable+lusd+husd)\n",
    "\n",
    "No quadratic tem is required!!!\n",
    "Next, you have to compute the standard errors of 1,000 bootstrap estimates for the T4, female and black variables.\n",
    "Describe in detail each step you follow, and what lines of code you changed.\n",
    "Finally, present your results in a table.\n",
    "\n",
    "Usar la base de datos penn_jae.dat\n"
   ]
  },
  {
   "cell_type": "code",
   "execution_count": 193,
   "id": "164a2e2a",
   "metadata": {},
   "outputs": [
    {
     "name": "stderr",
     "output_type": "stream",
     "text": [
      "\u001b[32m\u001b[1m   Resolving\u001b[22m\u001b[39m package versions...\n",
      "\u001b[32m\u001b[1m  No Changes\u001b[22m\u001b[39m to `C:\\Users\\acoap\\.julia\\environments\\v1.7\\Project.toml`\n",
      "\u001b[32m\u001b[1m  No Changes\u001b[22m\u001b[39m to `C:\\Users\\acoap\\.julia\\environments\\v1.7\\Manifest.toml`\n",
      "\u001b[32m\u001b[1m   Resolving\u001b[22m\u001b[39m package versions...\n",
      "\u001b[32m\u001b[1m  No Changes\u001b[22m\u001b[39m to `C:\\Users\\acoap\\.julia\\environments\\v1.7\\Project.toml`\n",
      "\u001b[32m\u001b[1m  No Changes\u001b[22m\u001b[39m to `C:\\Users\\acoap\\.julia\\environments\\v1.7\\Manifest.toml`\n",
      "\u001b[32m\u001b[1m   Resolving\u001b[22m\u001b[39m package versions...\n",
      "\u001b[32m\u001b[1m  No Changes\u001b[22m\u001b[39m to `C:\\Users\\acoap\\.julia\\environments\\v1.7\\Project.toml`\n",
      "\u001b[32m\u001b[1m  No Changes\u001b[22m\u001b[39m to `C:\\Users\\acoap\\.julia\\environments\\v1.7\\Manifest.toml`\n",
      "\u001b[32m\u001b[1m   Resolving\u001b[22m\u001b[39m package versions...\n",
      "\u001b[32m\u001b[1m   Installed\u001b[22m\u001b[39m ReadOnlyArrays ─ v0.1.1\n",
      "\u001b[32m\u001b[1m   Installed\u001b[22m\u001b[39m DataTables ───── v0.1.0\n",
      "\u001b[32m\u001b[1m    Updating\u001b[22m\u001b[39m `C:\\Users\\acoap\\.julia\\environments\\v1.7\\Project.toml`\n",
      " \u001b[90m [743a1d0a] \u001b[39m\u001b[92m+ DataTables v0.1.0\u001b[39m\n",
      "\u001b[32m\u001b[1m    Updating\u001b[22m\u001b[39m `C:\\Users\\acoap\\.julia\\environments\\v1.7\\Manifest.toml`\n",
      " \u001b[90m [743a1d0a] \u001b[39m\u001b[92m+ DataTables v0.1.0\u001b[39m\n",
      " \u001b[90m [988b38a3] \u001b[39m\u001b[92m+ ReadOnlyArrays v0.1.1\u001b[39m\n",
      "\u001b[32m\u001b[1mPrecompiling\u001b[22m\u001b[39m project...\n",
      "\u001b[32m  ✓ \u001b[39m\u001b[90mReadOnlyArrays\u001b[39m\n",
      "\u001b[32m  ✓ \u001b[39mDataTables\n",
      "  2 dependencies successfully precompiled in 1 seconds (216 already precompiled, 42 skipped during auto due to previous errors)\n",
      "\u001b[32m\u001b[1m   Resolving\u001b[22m\u001b[39m package versions...\n",
      "\u001b[32m\u001b[1m  No Changes\u001b[22m\u001b[39m to `C:\\Users\\acoap\\.julia\\environments\\v1.7\\Project.toml`\n",
      "\u001b[32m\u001b[1m  No Changes\u001b[22m\u001b[39m to `C:\\Users\\acoap\\.julia\\environments\\v1.7\\Manifest.toml`\n"
     ]
    }
   ],
   "source": [
    "import Pkg; Pkg.add(\"FilePaths\")\n",
    "import Pkg; Pkg.add(\"TypedTables\")\n",
    "import Pkg; Pkg.add(\"MacroTools\")\n",
    "import Pkg; Pkg.add(\"DataTables\")\n",
    "import Pkg; Pkg.add(\"GLM\")"
   ]
  },
  {
   "cell_type": "code",
   "execution_count": 194,
   "id": "4d368f9b",
   "metadata": {},
   "outputs": [],
   "source": [
    "using RData, LinearAlgebra, GLM, DataFrames, Statistics, Random, Distributions, \n",
    "DataStructures, DataTables,StatsBase, Statistics, NamedArrays, PrettyTables, StatsModels, Combinatorics, CSV, DelimitedFiles, DataFrames, Lasso, FilePaths, Combinatorics, CategoricalArrays, TypedTables, MacroTools, PrettyTables\n"
   ]
  },
  {
   "cell_type": "code",
   "execution_count": 195,
   "id": "c4919b21",
   "metadata": {},
   "outputs": [
    {
     "data": {
      "text/html": [
       "<table class=\"data-frame\"><thead><tr><th></th><th>variable</th><th>mean</th><th>min</th><th>median</th><th>max</th><th>nunique</th><th>nmissing</th><th>eltype</th></tr><tr><th></th><th>Symbol</th><th>Float64</th><th>Float64</th><th>Float64</th><th>Float64</th><th>Nothing</th><th>Nothing</th><th>DataType</th></tr></thead><tbody><p>23 rows × 8 columns</p><tr><th>1</th><td>abdt</td><td>10693.6</td><td>10404.0</td><td>10691.0</td><td>10880.0</td><td></td><td></td><td>Float64</td></tr><tr><th>2</th><td>tg</td><td>2.56889</td><td>0.0</td><td>2.0</td><td>6.0</td><td></td><td></td><td>Float64</td></tr><tr><th>3</th><td>inuidur1</td><td>12.9148</td><td>1.0</td><td>10.0</td><td>52.0</td><td></td><td></td><td>Float64</td></tr><tr><th>4</th><td>inuidur2</td><td>12.1938</td><td>0.0</td><td>9.0</td><td>52.0</td><td></td><td></td><td>Float64</td></tr><tr><th>5</th><td>female</td><td>0.402142</td><td>0.0</td><td>0.0</td><td>1.0</td><td></td><td></td><td>Float64</td></tr><tr><th>6</th><td>black</td><td>0.116653</td><td>0.0</td><td>0.0</td><td>1.0</td><td></td><td></td><td>Float64</td></tr><tr><th>7</th><td>hispanic</td><td>0.0363689</td><td>0.0</td><td>0.0</td><td>1.0</td><td></td><td></td><td>Float64</td></tr><tr><th>8</th><td>othrace</td><td>0.00575002</td><td>0.0</td><td>0.0</td><td>1.0</td><td></td><td></td><td>Float64</td></tr><tr><th>9</th><td>dep</td><td>0.444045</td><td>0.0</td><td>0.0</td><td>2.0</td><td></td><td></td><td>Float64</td></tr><tr><th>10</th><td>q1</td><td>0.0136563</td><td>0.0</td><td>0.0</td><td>1.0</td><td></td><td></td><td>Float64</td></tr><tr><th>11</th><td>q2</td><td>0.206498</td><td>0.0</td><td>0.0</td><td>1.0</td><td></td><td></td><td>Float64</td></tr><tr><th>12</th><td>q3</td><td>0.237691</td><td>0.0</td><td>0.0</td><td>1.0</td><td></td><td></td><td>Float64</td></tr><tr><th>13</th><td>q4</td><td>0.232229</td><td>0.0</td><td>0.0</td><td>1.0</td><td></td><td></td><td>Float64</td></tr><tr><th>14</th><td>q5</td><td>0.232948</td><td>0.0</td><td>0.0</td><td>1.0</td><td></td><td></td><td>Float64</td></tr><tr><th>15</th><td>q6</td><td>0.0769784</td><td>0.0</td><td>0.0</td><td>1.0</td><td></td><td></td><td>Float64</td></tr><tr><th>16</th><td>recall</td><td>0.108675</td><td>0.0</td><td>0.0</td><td>1.0</td><td></td><td></td><td>Float64</td></tr><tr><th>17</th><td>agelt35</td><td>0.543089</td><td>0.0</td><td>1.0</td><td>1.0</td><td></td><td></td><td>Float64</td></tr><tr><th>18</th><td>agegt54</td><td>0.106735</td><td>0.0</td><td>0.0</td><td>1.0</td><td></td><td></td><td>Float64</td></tr><tr><th>19</th><td>durable</td><td>0.148638</td><td>0.0</td><td>0.0</td><td>1.0</td><td></td><td></td><td>Float64</td></tr><tr><th>20</th><td>nondurable</td><td>0.10961</td><td>0.0</td><td>0.0</td><td>1.0</td><td></td><td></td><td>Float64</td></tr><tr><th>21</th><td>lusd</td><td>0.265435</td><td>0.0</td><td>0.0</td><td>1.0</td><td></td><td></td><td>Float64</td></tr><tr><th>22</th><td>husd</td><td>0.221807</td><td>0.0</td><td>0.0</td><td>1.0</td><td></td><td></td><td>Float64</td></tr><tr><th>23</th><td>muld</td><td>0.438008</td><td>0.0</td><td>0.0</td><td>1.0</td><td></td><td></td><td>Float64</td></tr></tbody></table>"
      ],
      "text/latex": [
       "\\begin{tabular}{r|cccccccc}\n",
       "\t& variable & mean & min & median & max & nunique & nmissing & eltype\\\\\n",
       "\t\\hline\n",
       "\t& Symbol & Float64 & Float64 & Float64 & Float64 & Nothing & Nothing & DataType\\\\\n",
       "\t\\hline\n",
       "\t1 & abdt & 10693.6 & 10404.0 & 10691.0 & 10880.0 &  &  & Float64 \\\\\n",
       "\t2 & tg & 2.56889 & 0.0 & 2.0 & 6.0 &  &  & Float64 \\\\\n",
       "\t3 & inuidur1 & 12.9148 & 1.0 & 10.0 & 52.0 &  &  & Float64 \\\\\n",
       "\t4 & inuidur2 & 12.1938 & 0.0 & 9.0 & 52.0 &  &  & Float64 \\\\\n",
       "\t5 & female & 0.402142 & 0.0 & 0.0 & 1.0 &  &  & Float64 \\\\\n",
       "\t6 & black & 0.116653 & 0.0 & 0.0 & 1.0 &  &  & Float64 \\\\\n",
       "\t7 & hispanic & 0.0363689 & 0.0 & 0.0 & 1.0 &  &  & Float64 \\\\\n",
       "\t8 & othrace & 0.00575002 & 0.0 & 0.0 & 1.0 &  &  & Float64 \\\\\n",
       "\t9 & dep & 0.444045 & 0.0 & 0.0 & 2.0 &  &  & Float64 \\\\\n",
       "\t10 & q1 & 0.0136563 & 0.0 & 0.0 & 1.0 &  &  & Float64 \\\\\n",
       "\t11 & q2 & 0.206498 & 0.0 & 0.0 & 1.0 &  &  & Float64 \\\\\n",
       "\t12 & q3 & 0.237691 & 0.0 & 0.0 & 1.0 &  &  & Float64 \\\\\n",
       "\t13 & q4 & 0.232229 & 0.0 & 0.0 & 1.0 &  &  & Float64 \\\\\n",
       "\t14 & q5 & 0.232948 & 0.0 & 0.0 & 1.0 &  &  & Float64 \\\\\n",
       "\t15 & q6 & 0.0769784 & 0.0 & 0.0 & 1.0 &  &  & Float64 \\\\\n",
       "\t16 & recall & 0.108675 & 0.0 & 0.0 & 1.0 &  &  & Float64 \\\\\n",
       "\t17 & agelt35 & 0.543089 & 0.0 & 1.0 & 1.0 &  &  & Float64 \\\\\n",
       "\t18 & agegt54 & 0.106735 & 0.0 & 0.0 & 1.0 &  &  & Float64 \\\\\n",
       "\t19 & durable & 0.148638 & 0.0 & 0.0 & 1.0 &  &  & Float64 \\\\\n",
       "\t20 & nondurable & 0.10961 & 0.0 & 0.0 & 1.0 &  &  & Float64 \\\\\n",
       "\t21 & lusd & 0.265435 & 0.0 & 0.0 & 1.0 &  &  & Float64 \\\\\n",
       "\t22 & husd & 0.221807 & 0.0 & 0.0 & 1.0 &  &  & Float64 \\\\\n",
       "\t23 & muld & 0.438008 & 0.0 & 0.0 & 1.0 &  &  & Float64 \\\\\n",
       "\\end{tabular}\n"
      ],
      "text/plain": [
       "23×8 DataFrame. Omitted printing of 2 columns\n",
       "│ Row │ variable   │ mean       │ min     │ median  │ max     │ nunique │\n",
       "│     │ \u001b[90mSymbol\u001b[39m     │ \u001b[90mFloat64\u001b[39m    │ \u001b[90mFloat64\u001b[39m │ \u001b[90mFloat64\u001b[39m │ \u001b[90mFloat64\u001b[39m │ \u001b[90mNothing\u001b[39m │\n",
       "├─────┼────────────┼────────────┼─────────┼─────────┼─────────┼─────────┤\n",
       "│ 1   │ abdt       │ 10693.6    │ 10404.0 │ 10691.0 │ 10880.0 │         │\n",
       "│ 2   │ tg         │ 2.56889    │ 0.0     │ 2.0     │ 6.0     │         │\n",
       "│ 3   │ inuidur1   │ 12.9148    │ 1.0     │ 10.0    │ 52.0    │         │\n",
       "│ 4   │ inuidur2   │ 12.1938    │ 0.0     │ 9.0     │ 52.0    │         │\n",
       "│ 5   │ female     │ 0.402142   │ 0.0     │ 0.0     │ 1.0     │         │\n",
       "│ 6   │ black      │ 0.116653   │ 0.0     │ 0.0     │ 1.0     │         │\n",
       "│ 7   │ hispanic   │ 0.0363689  │ 0.0     │ 0.0     │ 1.0     │         │\n",
       "│ 8   │ othrace    │ 0.00575002 │ 0.0     │ 0.0     │ 1.0     │         │\n",
       "│ 9   │ dep        │ 0.444045   │ 0.0     │ 0.0     │ 2.0     │         │\n",
       "│ 10  │ q1         │ 0.0136563  │ 0.0     │ 0.0     │ 1.0     │         │\n",
       "│ 11  │ q2         │ 0.206498   │ 0.0     │ 0.0     │ 1.0     │         │\n",
       "│ 12  │ q3         │ 0.237691   │ 0.0     │ 0.0     │ 1.0     │         │\n",
       "│ 13  │ q4         │ 0.232229   │ 0.0     │ 0.0     │ 1.0     │         │\n",
       "│ 14  │ q5         │ 0.232948   │ 0.0     │ 0.0     │ 1.0     │         │\n",
       "│ 15  │ q6         │ 0.0769784  │ 0.0     │ 0.0     │ 1.0     │         │\n",
       "│ 16  │ recall     │ 0.108675   │ 0.0     │ 0.0     │ 1.0     │         │\n",
       "│ 17  │ agelt35    │ 0.543089   │ 0.0     │ 1.0     │ 1.0     │         │\n",
       "│ 18  │ agegt54    │ 0.106735   │ 0.0     │ 0.0     │ 1.0     │         │\n",
       "│ 19  │ durable    │ 0.148638   │ 0.0     │ 0.0     │ 1.0     │         │\n",
       "│ 20  │ nondurable │ 0.10961    │ 0.0     │ 0.0     │ 1.0     │         │\n",
       "│ 21  │ lusd       │ 0.265435   │ 0.0     │ 0.0     │ 1.0     │         │\n",
       "│ 22  │ husd       │ 0.221807   │ 0.0     │ 0.0     │ 1.0     │         │\n",
       "│ 23  │ muld       │ 0.438008   │ 0.0     │ 0.0     │ 1.0     │         │"
      ]
     },
     "execution_count": 195,
     "metadata": {},
     "output_type": "execute_result"
    }
   ],
   "source": [
    "penn, head = readdlm(\"../../data/penn_jae.dat\", header=true, Float64)\n",
    "penn\n",
    "df =DataFrame(penn, vec(head))\n",
    "describe(df)\n"
   ]
  },
  {
   "cell_type": "markdown",
   "id": "b16def2a",
   "metadata": {},
   "source": [
    "Filter the data to obtain the control group and the treatment group number 4"
   ]
  },
  {
   "cell_type": "code",
   "execution_count": 204,
   "id": "a7be8d2b",
   "metadata": {},
   "outputs": [
    {
     "data": {
      "text/html": [
       "<table class=\"data-frame\"><thead><tr><th></th><th>abdt</th><th>tg</th><th>inuidur1</th><th>inuidur2</th><th>female</th><th>black</th><th>hispanic</th><th>othrace</th><th>dep</th></tr><tr><th></th><th>Float64</th><th>Float64</th><th>Float64</th><th>Float64</th><th>Float64</th><th>Float64</th><th>Float64</th><th>Float64</th><th>Float64</th></tr></thead><tbody><p>20 rows × 23 columns (omitted printing of 14 columns)</p><tr><th>1</th><td>10824.0</td><td>0.0</td><td>18.0</td><td>18.0</td><td>0.0</td><td>0.0</td><td>0.0</td><td>0.0</td><td>2.0</td></tr><tr><th>2</th><td>10824.0</td><td>0.0</td><td>1.0</td><td>1.0</td><td>0.0</td><td>0.0</td><td>0.0</td><td>0.0</td><td>0.0</td></tr><tr><th>3</th><td>10747.0</td><td>0.0</td><td>27.0</td><td>27.0</td><td>0.0</td><td>0.0</td><td>0.0</td><td>0.0</td><td>0.0</td></tr><tr><th>4</th><td>10607.0</td><td>4.0</td><td>9.0</td><td>9.0</td><td>0.0</td><td>0.0</td><td>0.0</td><td>0.0</td><td>0.0</td></tr><tr><th>5</th><td>10831.0</td><td>0.0</td><td>27.0</td><td>27.0</td><td>0.0</td><td>0.0</td><td>0.0</td><td>0.0</td><td>1.0</td></tr><tr><th>6</th><td>10845.0</td><td>0.0</td><td>27.0</td><td>27.0</td><td>1.0</td><td>0.0</td><td>0.0</td><td>0.0</td><td>0.0</td></tr><tr><th>7</th><td>10831.0</td><td>0.0</td><td>9.0</td><td>9.0</td><td>1.0</td><td>0.0</td><td>0.0</td><td>0.0</td><td>1.0</td></tr><tr><th>8</th><td>10859.0</td><td>0.0</td><td>27.0</td><td>27.0</td><td>1.0</td><td>0.0</td><td>0.0</td><td>0.0</td><td>1.0</td></tr><tr><th>9</th><td>10516.0</td><td>0.0</td><td>15.0</td><td>15.0</td><td>1.0</td><td>0.0</td><td>0.0</td><td>0.0</td><td>0.0</td></tr><tr><th>10</th><td>10663.0</td><td>0.0</td><td>28.0</td><td>11.0</td><td>1.0</td><td>0.0</td><td>0.0</td><td>0.0</td><td>0.0</td></tr><tr><th>11</th><td>10747.0</td><td>0.0</td><td>12.0</td><td>12.0</td><td>1.0</td><td>0.0</td><td>0.0</td><td>0.0</td><td>2.0</td></tr><tr><th>12</th><td>10551.0</td><td>4.0</td><td>22.0</td><td>22.0</td><td>1.0</td><td>0.0</td><td>1.0</td><td>0.0</td><td>2.0</td></tr><tr><th>13</th><td>10768.0</td><td>0.0</td><td>18.0</td><td>18.0</td><td>1.0</td><td>0.0</td><td>0.0</td><td>0.0</td><td>0.0</td></tr><tr><th>14</th><td>10537.0</td><td>0.0</td><td>1.0</td><td>1.0</td><td>1.0</td><td>0.0</td><td>0.0</td><td>0.0</td><td>2.0</td></tr><tr><th>15</th><td>10600.0</td><td>4.0</td><td>7.0</td><td>7.0</td><td>1.0</td><td>0.0</td><td>0.0</td><td>0.0</td><td>0.0</td></tr><tr><th>16</th><td>10866.0</td><td>0.0</td><td>18.0</td><td>18.0</td><td>0.0</td><td>0.0</td><td>0.0</td><td>0.0</td><td>0.0</td></tr><tr><th>17</th><td>10572.0</td><td>0.0</td><td>14.0</td><td>14.0</td><td>0.0</td><td>0.0</td><td>0.0</td><td>0.0</td><td>2.0</td></tr><tr><th>18</th><td>10663.0</td><td>0.0</td><td>5.0</td><td>5.0</td><td>0.0</td><td>0.0</td><td>0.0</td><td>0.0</td><td>0.0</td></tr><tr><th>19</th><td>10789.0</td><td>0.0</td><td>9.0</td><td>9.0</td><td>0.0</td><td>0.0</td><td>0.0</td><td>0.0</td><td>0.0</td></tr><tr><th>20</th><td>10768.0</td><td>0.0</td><td>3.0</td><td>3.0</td><td>0.0</td><td>1.0</td><td>0.0</td><td>0.0</td><td>0.0</td></tr></tbody></table>"
      ],
      "text/latex": [
       "\\begin{tabular}{r|cccccccccc}\n",
       "\t& abdt & tg & inuidur1 & inuidur2 & female & black & hispanic & othrace & dep & \\\\\n",
       "\t\\hline\n",
       "\t& Float64 & Float64 & Float64 & Float64 & Float64 & Float64 & Float64 & Float64 & Float64 & \\\\\n",
       "\t\\hline\n",
       "\t1 & 10824.0 & 0.0 & 18.0 & 18.0 & 0.0 & 0.0 & 0.0 & 0.0 & 2.0 & $\\dots$ \\\\\n",
       "\t2 & 10824.0 & 0.0 & 1.0 & 1.0 & 0.0 & 0.0 & 0.0 & 0.0 & 0.0 & $\\dots$ \\\\\n",
       "\t3 & 10747.0 & 0.0 & 27.0 & 27.0 & 0.0 & 0.0 & 0.0 & 0.0 & 0.0 & $\\dots$ \\\\\n",
       "\t4 & 10607.0 & 4.0 & 9.0 & 9.0 & 0.0 & 0.0 & 0.0 & 0.0 & 0.0 & $\\dots$ \\\\\n",
       "\t5 & 10831.0 & 0.0 & 27.0 & 27.0 & 0.0 & 0.0 & 0.0 & 0.0 & 1.0 & $\\dots$ \\\\\n",
       "\t6 & 10845.0 & 0.0 & 27.0 & 27.0 & 1.0 & 0.0 & 0.0 & 0.0 & 0.0 & $\\dots$ \\\\\n",
       "\t7 & 10831.0 & 0.0 & 9.0 & 9.0 & 1.0 & 0.0 & 0.0 & 0.0 & 1.0 & $\\dots$ \\\\\n",
       "\t8 & 10859.0 & 0.0 & 27.0 & 27.0 & 1.0 & 0.0 & 0.0 & 0.0 & 1.0 & $\\dots$ \\\\\n",
       "\t9 & 10516.0 & 0.0 & 15.0 & 15.0 & 1.0 & 0.0 & 0.0 & 0.0 & 0.0 & $\\dots$ \\\\\n",
       "\t10 & 10663.0 & 0.0 & 28.0 & 11.0 & 1.0 & 0.0 & 0.0 & 0.0 & 0.0 & $\\dots$ \\\\\n",
       "\t11 & 10747.0 & 0.0 & 12.0 & 12.0 & 1.0 & 0.0 & 0.0 & 0.0 & 2.0 & $\\dots$ \\\\\n",
       "\t12 & 10551.0 & 4.0 & 22.0 & 22.0 & 1.0 & 0.0 & 1.0 & 0.0 & 2.0 & $\\dots$ \\\\\n",
       "\t13 & 10768.0 & 0.0 & 18.0 & 18.0 & 1.0 & 0.0 & 0.0 & 0.0 & 0.0 & $\\dots$ \\\\\n",
       "\t14 & 10537.0 & 0.0 & 1.0 & 1.0 & 1.0 & 0.0 & 0.0 & 0.0 & 2.0 & $\\dots$ \\\\\n",
       "\t15 & 10600.0 & 4.0 & 7.0 & 7.0 & 1.0 & 0.0 & 0.0 & 0.0 & 0.0 & $\\dots$ \\\\\n",
       "\t16 & 10866.0 & 0.0 & 18.0 & 18.0 & 0.0 & 0.0 & 0.0 & 0.0 & 0.0 & $\\dots$ \\\\\n",
       "\t17 & 10572.0 & 0.0 & 14.0 & 14.0 & 0.0 & 0.0 & 0.0 & 0.0 & 2.0 & $\\dots$ \\\\\n",
       "\t18 & 10663.0 & 0.0 & 5.0 & 5.0 & 0.0 & 0.0 & 0.0 & 0.0 & 0.0 & $\\dots$ \\\\\n",
       "\t19 & 10789.0 & 0.0 & 9.0 & 9.0 & 0.0 & 0.0 & 0.0 & 0.0 & 0.0 & $\\dots$ \\\\\n",
       "\t20 & 10768.0 & 0.0 & 3.0 & 3.0 & 0.0 & 1.0 & 0.0 & 0.0 & 0.0 & $\\dots$ \\\\\n",
       "\\end{tabular}\n"
      ],
      "text/plain": [
       "20×23 DataFrame. Omitted printing of 16 columns\n",
       "│ Row │ abdt    │ tg      │ inuidur1 │ inuidur2 │ female  │ black   │ hispanic │\n",
       "│     │ \u001b[90mFloat64\u001b[39m │ \u001b[90mFloat64\u001b[39m │ \u001b[90mFloat64\u001b[39m  │ \u001b[90mFloat64\u001b[39m  │ \u001b[90mFloat64\u001b[39m │ \u001b[90mFloat64\u001b[39m │ \u001b[90mFloat64\u001b[39m  │\n",
       "├─────┼─────────┼─────────┼──────────┼──────────┼─────────┼─────────┼──────────┤\n",
       "│ 1   │ 10824.0 │ 0.0     │ 18.0     │ 18.0     │ 0.0     │ 0.0     │ 0.0      │\n",
       "│ 2   │ 10824.0 │ 0.0     │ 1.0      │ 1.0      │ 0.0     │ 0.0     │ 0.0      │\n",
       "│ 3   │ 10747.0 │ 0.0     │ 27.0     │ 27.0     │ 0.0     │ 0.0     │ 0.0      │\n",
       "│ 4   │ 10607.0 │ 4.0     │ 9.0      │ 9.0      │ 0.0     │ 0.0     │ 0.0      │\n",
       "│ 5   │ 10831.0 │ 0.0     │ 27.0     │ 27.0     │ 0.0     │ 0.0     │ 0.0      │\n",
       "│ 6   │ 10845.0 │ 0.0     │ 27.0     │ 27.0     │ 1.0     │ 0.0     │ 0.0      │\n",
       "│ 7   │ 10831.0 │ 0.0     │ 9.0      │ 9.0      │ 1.0     │ 0.0     │ 0.0      │\n",
       "│ 8   │ 10859.0 │ 0.0     │ 27.0     │ 27.0     │ 1.0     │ 0.0     │ 0.0      │\n",
       "│ 9   │ 10516.0 │ 0.0     │ 15.0     │ 15.0     │ 1.0     │ 0.0     │ 0.0      │\n",
       "│ 10  │ 10663.0 │ 0.0     │ 28.0     │ 11.0     │ 1.0     │ 0.0     │ 0.0      │\n",
       "│ 11  │ 10747.0 │ 0.0     │ 12.0     │ 12.0     │ 1.0     │ 0.0     │ 0.0      │\n",
       "│ 12  │ 10551.0 │ 4.0     │ 22.0     │ 22.0     │ 1.0     │ 0.0     │ 1.0      │\n",
       "│ 13  │ 10768.0 │ 0.0     │ 18.0     │ 18.0     │ 1.0     │ 0.0     │ 0.0      │\n",
       "│ 14  │ 10537.0 │ 0.0     │ 1.0      │ 1.0      │ 1.0     │ 0.0     │ 0.0      │\n",
       "│ 15  │ 10600.0 │ 4.0     │ 7.0      │ 7.0      │ 1.0     │ 0.0     │ 0.0      │\n",
       "│ 16  │ 10866.0 │ 0.0     │ 18.0     │ 18.0     │ 0.0     │ 0.0     │ 0.0      │\n",
       "│ 17  │ 10572.0 │ 0.0     │ 14.0     │ 14.0     │ 0.0     │ 0.0     │ 0.0      │\n",
       "│ 18  │ 10663.0 │ 0.0     │ 5.0      │ 5.0      │ 0.0     │ 0.0     │ 0.0      │\n",
       "│ 19  │ 10789.0 │ 0.0     │ 9.0      │ 9.0      │ 0.0     │ 0.0     │ 0.0      │\n",
       "│ 20  │ 10768.0 │ 0.0     │ 3.0      │ 3.0      │ 0.0     │ 1.0     │ 0.0      │"
      ]
     },
     "execution_count": 204,
     "metadata": {},
     "output_type": "execute_result"
    }
   ],
   "source": [
    "penn = filter(row -> row[:tg] in [4,0], df)\n",
    "\n",
    "first(penn,20)\n"
   ]
  },
  {
   "cell_type": "code",
   "execution_count": 205,
   "id": "41adcedb",
   "metadata": {},
   "outputs": [
    {
     "data": {
      "text/html": [
       "<table class=\"data-frame\"><thead><tr><th></th><th>abdt</th><th>T4</th><th>inuidur1</th><th>inuidur2</th><th>female</th><th>black</th><th>hispanic</th><th>othrace</th><th>dep</th></tr><tr><th></th><th>Float64</th><th>Float64</th><th>Float64</th><th>Float64</th><th>Float64</th><th>Float64</th><th>Float64</th><th>Float64</th><th>Float64</th></tr></thead><tbody><p>5,099 rows × 23 columns (omitted printing of 14 columns)</p><tr><th>1</th><td>10824.0</td><td>0.0</td><td>18.0</td><td>18.0</td><td>0.0</td><td>0.0</td><td>0.0</td><td>0.0</td><td>2.0</td></tr><tr><th>2</th><td>10824.0</td><td>0.0</td><td>1.0</td><td>1.0</td><td>0.0</td><td>0.0</td><td>0.0</td><td>0.0</td><td>0.0</td></tr><tr><th>3</th><td>10747.0</td><td>0.0</td><td>27.0</td><td>27.0</td><td>0.0</td><td>0.0</td><td>0.0</td><td>0.0</td><td>0.0</td></tr><tr><th>4</th><td>10607.0</td><td>1.0</td><td>9.0</td><td>9.0</td><td>0.0</td><td>0.0</td><td>0.0</td><td>0.0</td><td>0.0</td></tr><tr><th>5</th><td>10831.0</td><td>0.0</td><td>27.0</td><td>27.0</td><td>0.0</td><td>0.0</td><td>0.0</td><td>0.0</td><td>1.0</td></tr><tr><th>6</th><td>10845.0</td><td>0.0</td><td>27.0</td><td>27.0</td><td>1.0</td><td>0.0</td><td>0.0</td><td>0.0</td><td>0.0</td></tr><tr><th>7</th><td>10831.0</td><td>0.0</td><td>9.0</td><td>9.0</td><td>1.0</td><td>0.0</td><td>0.0</td><td>0.0</td><td>1.0</td></tr><tr><th>8</th><td>10859.0</td><td>0.0</td><td>27.0</td><td>27.0</td><td>1.0</td><td>0.0</td><td>0.0</td><td>0.0</td><td>1.0</td></tr><tr><th>9</th><td>10516.0</td><td>0.0</td><td>15.0</td><td>15.0</td><td>1.0</td><td>0.0</td><td>0.0</td><td>0.0</td><td>0.0</td></tr><tr><th>10</th><td>10663.0</td><td>0.0</td><td>28.0</td><td>11.0</td><td>1.0</td><td>0.0</td><td>0.0</td><td>0.0</td><td>0.0</td></tr><tr><th>11</th><td>10747.0</td><td>0.0</td><td>12.0</td><td>12.0</td><td>1.0</td><td>0.0</td><td>0.0</td><td>0.0</td><td>2.0</td></tr><tr><th>12</th><td>10551.0</td><td>1.0</td><td>22.0</td><td>22.0</td><td>1.0</td><td>0.0</td><td>1.0</td><td>0.0</td><td>2.0</td></tr><tr><th>13</th><td>10768.0</td><td>0.0</td><td>18.0</td><td>18.0</td><td>1.0</td><td>0.0</td><td>0.0</td><td>0.0</td><td>0.0</td></tr><tr><th>14</th><td>10537.0</td><td>0.0</td><td>1.0</td><td>1.0</td><td>1.0</td><td>0.0</td><td>0.0</td><td>0.0</td><td>2.0</td></tr><tr><th>15</th><td>10600.0</td><td>1.0</td><td>7.0</td><td>7.0</td><td>1.0</td><td>0.0</td><td>0.0</td><td>0.0</td><td>0.0</td></tr><tr><th>16</th><td>10866.0</td><td>0.0</td><td>18.0</td><td>18.0</td><td>0.0</td><td>0.0</td><td>0.0</td><td>0.0</td><td>0.0</td></tr><tr><th>17</th><td>10572.0</td><td>0.0</td><td>14.0</td><td>14.0</td><td>0.0</td><td>0.0</td><td>0.0</td><td>0.0</td><td>2.0</td></tr><tr><th>18</th><td>10663.0</td><td>0.0</td><td>5.0</td><td>5.0</td><td>0.0</td><td>0.0</td><td>0.0</td><td>0.0</td><td>0.0</td></tr><tr><th>19</th><td>10789.0</td><td>0.0</td><td>9.0</td><td>9.0</td><td>0.0</td><td>0.0</td><td>0.0</td><td>0.0</td><td>0.0</td></tr><tr><th>20</th><td>10768.0</td><td>0.0</td><td>3.0</td><td>3.0</td><td>0.0</td><td>1.0</td><td>0.0</td><td>0.0</td><td>0.0</td></tr><tr><th>21</th><td>10649.0</td><td>0.0</td><td>27.0</td><td>27.0</td><td>0.0</td><td>0.0</td><td>0.0</td><td>0.0</td><td>1.0</td></tr><tr><th>22</th><td>10670.0</td><td>1.0</td><td>27.0</td><td>27.0</td><td>1.0</td><td>0.0</td><td>0.0</td><td>0.0</td><td>2.0</td></tr><tr><th>23</th><td>10796.0</td><td>0.0</td><td>10.0</td><td>10.0</td><td>0.0</td><td>0.0</td><td>0.0</td><td>0.0</td><td>0.0</td></tr><tr><th>24</th><td>10558.0</td><td>0.0</td><td>25.0</td><td>25.0</td><td>0.0</td><td>0.0</td><td>1.0</td><td>0.0</td><td>2.0</td></tr><tr><th>25</th><td>10831.0</td><td>1.0</td><td>1.0</td><td>1.0</td><td>0.0</td><td>0.0</td><td>0.0</td><td>0.0</td><td>0.0</td></tr><tr><th>26</th><td>10810.0</td><td>1.0</td><td>3.0</td><td>3.0</td><td>0.0</td><td>0.0</td><td>0.0</td><td>0.0</td><td>0.0</td></tr><tr><th>27</th><td>10551.0</td><td>1.0</td><td>13.0</td><td>13.0</td><td>0.0</td><td>0.0</td><td>0.0</td><td>0.0</td><td>2.0</td></tr><tr><th>28</th><td>10796.0</td><td>0.0</td><td>1.0</td><td>1.0</td><td>0.0</td><td>0.0</td><td>0.0</td><td>0.0</td><td>0.0</td></tr><tr><th>29</th><td>10719.0</td><td>0.0</td><td>27.0</td><td>27.0</td><td>0.0</td><td>0.0</td><td>0.0</td><td>0.0</td><td>0.0</td></tr><tr><th>30</th><td>10726.0</td><td>1.0</td><td>14.0</td><td>14.0</td><td>0.0</td><td>0.0</td><td>0.0</td><td>0.0</td><td>2.0</td></tr><tr><th>&vellip;</th><td>&vellip;</td><td>&vellip;</td><td>&vellip;</td><td>&vellip;</td><td>&vellip;</td><td>&vellip;</td><td>&vellip;</td><td>&vellip;</td><td>&vellip;</td></tr></tbody></table>"
      ],
      "text/latex": [
       "\\begin{tabular}{r|cccccccccc}\n",
       "\t& abdt & T4 & inuidur1 & inuidur2 & female & black & hispanic & othrace & dep & \\\\\n",
       "\t\\hline\n",
       "\t& Float64 & Float64 & Float64 & Float64 & Float64 & Float64 & Float64 & Float64 & Float64 & \\\\\n",
       "\t\\hline\n",
       "\t1 & 10824.0 & 0.0 & 18.0 & 18.0 & 0.0 & 0.0 & 0.0 & 0.0 & 2.0 & $\\dots$ \\\\\n",
       "\t2 & 10824.0 & 0.0 & 1.0 & 1.0 & 0.0 & 0.0 & 0.0 & 0.0 & 0.0 & $\\dots$ \\\\\n",
       "\t3 & 10747.0 & 0.0 & 27.0 & 27.0 & 0.0 & 0.0 & 0.0 & 0.0 & 0.0 & $\\dots$ \\\\\n",
       "\t4 & 10607.0 & 1.0 & 9.0 & 9.0 & 0.0 & 0.0 & 0.0 & 0.0 & 0.0 & $\\dots$ \\\\\n",
       "\t5 & 10831.0 & 0.0 & 27.0 & 27.0 & 0.0 & 0.0 & 0.0 & 0.0 & 1.0 & $\\dots$ \\\\\n",
       "\t6 & 10845.0 & 0.0 & 27.0 & 27.0 & 1.0 & 0.0 & 0.0 & 0.0 & 0.0 & $\\dots$ \\\\\n",
       "\t7 & 10831.0 & 0.0 & 9.0 & 9.0 & 1.0 & 0.0 & 0.0 & 0.0 & 1.0 & $\\dots$ \\\\\n",
       "\t8 & 10859.0 & 0.0 & 27.0 & 27.0 & 1.0 & 0.0 & 0.0 & 0.0 & 1.0 & $\\dots$ \\\\\n",
       "\t9 & 10516.0 & 0.0 & 15.0 & 15.0 & 1.0 & 0.0 & 0.0 & 0.0 & 0.0 & $\\dots$ \\\\\n",
       "\t10 & 10663.0 & 0.0 & 28.0 & 11.0 & 1.0 & 0.0 & 0.0 & 0.0 & 0.0 & $\\dots$ \\\\\n",
       "\t11 & 10747.0 & 0.0 & 12.0 & 12.0 & 1.0 & 0.0 & 0.0 & 0.0 & 2.0 & $\\dots$ \\\\\n",
       "\t12 & 10551.0 & 1.0 & 22.0 & 22.0 & 1.0 & 0.0 & 1.0 & 0.0 & 2.0 & $\\dots$ \\\\\n",
       "\t13 & 10768.0 & 0.0 & 18.0 & 18.0 & 1.0 & 0.0 & 0.0 & 0.0 & 0.0 & $\\dots$ \\\\\n",
       "\t14 & 10537.0 & 0.0 & 1.0 & 1.0 & 1.0 & 0.0 & 0.0 & 0.0 & 2.0 & $\\dots$ \\\\\n",
       "\t15 & 10600.0 & 1.0 & 7.0 & 7.0 & 1.0 & 0.0 & 0.0 & 0.0 & 0.0 & $\\dots$ \\\\\n",
       "\t16 & 10866.0 & 0.0 & 18.0 & 18.0 & 0.0 & 0.0 & 0.0 & 0.0 & 0.0 & $\\dots$ \\\\\n",
       "\t17 & 10572.0 & 0.0 & 14.0 & 14.0 & 0.0 & 0.0 & 0.0 & 0.0 & 2.0 & $\\dots$ \\\\\n",
       "\t18 & 10663.0 & 0.0 & 5.0 & 5.0 & 0.0 & 0.0 & 0.0 & 0.0 & 0.0 & $\\dots$ \\\\\n",
       "\t19 & 10789.0 & 0.0 & 9.0 & 9.0 & 0.0 & 0.0 & 0.0 & 0.0 & 0.0 & $\\dots$ \\\\\n",
       "\t20 & 10768.0 & 0.0 & 3.0 & 3.0 & 0.0 & 1.0 & 0.0 & 0.0 & 0.0 & $\\dots$ \\\\\n",
       "\t21 & 10649.0 & 0.0 & 27.0 & 27.0 & 0.0 & 0.0 & 0.0 & 0.0 & 1.0 & $\\dots$ \\\\\n",
       "\t22 & 10670.0 & 1.0 & 27.0 & 27.0 & 1.0 & 0.0 & 0.0 & 0.0 & 2.0 & $\\dots$ \\\\\n",
       "\t23 & 10796.0 & 0.0 & 10.0 & 10.0 & 0.0 & 0.0 & 0.0 & 0.0 & 0.0 & $\\dots$ \\\\\n",
       "\t24 & 10558.0 & 0.0 & 25.0 & 25.0 & 0.0 & 0.0 & 1.0 & 0.0 & 2.0 & $\\dots$ \\\\\n",
       "\t25 & 10831.0 & 1.0 & 1.0 & 1.0 & 0.0 & 0.0 & 0.0 & 0.0 & 0.0 & $\\dots$ \\\\\n",
       "\t26 & 10810.0 & 1.0 & 3.0 & 3.0 & 0.0 & 0.0 & 0.0 & 0.0 & 0.0 & $\\dots$ \\\\\n",
       "\t27 & 10551.0 & 1.0 & 13.0 & 13.0 & 0.0 & 0.0 & 0.0 & 0.0 & 2.0 & $\\dots$ \\\\\n",
       "\t28 & 10796.0 & 0.0 & 1.0 & 1.0 & 0.0 & 0.0 & 0.0 & 0.0 & 0.0 & $\\dots$ \\\\\n",
       "\t29 & 10719.0 & 0.0 & 27.0 & 27.0 & 0.0 & 0.0 & 0.0 & 0.0 & 0.0 & $\\dots$ \\\\\n",
       "\t30 & 10726.0 & 1.0 & 14.0 & 14.0 & 0.0 & 0.0 & 0.0 & 0.0 & 2.0 & $\\dots$ \\\\\n",
       "\t$\\dots$ & $\\dots$ & $\\dots$ & $\\dots$ & $\\dots$ & $\\dots$ & $\\dots$ & $\\dots$ & $\\dots$ & $\\dots$ &  \\\\\n",
       "\\end{tabular}\n"
      ],
      "text/plain": [
       "5099×23 DataFrame. Omitted printing of 17 columns\n",
       "│ Row  │ abdt    │ T4      │ inuidur1 │ inuidur2 │ female  │ black   │\n",
       "│      │ \u001b[90mFloat64\u001b[39m │ \u001b[90mFloat64\u001b[39m │ \u001b[90mFloat64\u001b[39m  │ \u001b[90mFloat64\u001b[39m  │ \u001b[90mFloat64\u001b[39m │ \u001b[90mFloat64\u001b[39m │\n",
       "├──────┼─────────┼─────────┼──────────┼──────────┼─────────┼─────────┤\n",
       "│ 1    │ 10824.0 │ 0.0     │ 18.0     │ 18.0     │ 0.0     │ 0.0     │\n",
       "│ 2    │ 10824.0 │ 0.0     │ 1.0      │ 1.0      │ 0.0     │ 0.0     │\n",
       "│ 3    │ 10747.0 │ 0.0     │ 27.0     │ 27.0     │ 0.0     │ 0.0     │\n",
       "│ 4    │ 10607.0 │ 1.0     │ 9.0      │ 9.0      │ 0.0     │ 0.0     │\n",
       "│ 5    │ 10831.0 │ 0.0     │ 27.0     │ 27.0     │ 0.0     │ 0.0     │\n",
       "│ 6    │ 10845.0 │ 0.0     │ 27.0     │ 27.0     │ 1.0     │ 0.0     │\n",
       "│ 7    │ 10831.0 │ 0.0     │ 9.0      │ 9.0      │ 1.0     │ 0.0     │\n",
       "│ 8    │ 10859.0 │ 0.0     │ 27.0     │ 27.0     │ 1.0     │ 0.0     │\n",
       "│ 9    │ 10516.0 │ 0.0     │ 15.0     │ 15.0     │ 1.0     │ 0.0     │\n",
       "│ 10   │ 10663.0 │ 0.0     │ 28.0     │ 11.0     │ 1.0     │ 0.0     │\n",
       "⋮\n",
       "│ 5089 │ 10796.0 │ 0.0     │ 15.0     │ 15.0     │ 1.0     │ 0.0     │\n",
       "│ 5090 │ 10635.0 │ 1.0     │ 20.0     │ 20.0     │ 0.0     │ 0.0     │\n",
       "│ 5091 │ 10859.0 │ 0.0     │ 1.0      │ 1.0      │ 1.0     │ 0.0     │\n",
       "│ 5092 │ 10796.0 │ 0.0     │ 23.0     │ 23.0     │ 0.0     │ 1.0     │\n",
       "│ 5093 │ 10740.0 │ 1.0     │ 13.0     │ 13.0     │ 1.0     │ 1.0     │\n",
       "│ 5094 │ 10845.0 │ 0.0     │ 6.0      │ 6.0      │ 1.0     │ 0.0     │\n",
       "│ 5095 │ 10628.0 │ 1.0     │ 10.0     │ 10.0     │ 0.0     │ 0.0     │\n",
       "│ 5096 │ 10523.0 │ 1.0     │ 4.0      │ 4.0      │ 0.0     │ 0.0     │\n",
       "│ 5097 │ 10558.0 │ 0.0     │ 9.0      │ 9.0      │ 0.0     │ 0.0     │\n",
       "│ 5098 │ 10817.0 │ 1.0     │ 4.0      │ 4.0      │ 0.0     │ 0.0     │\n",
       "│ 5099 │ 10691.0 │ 0.0     │ 27.0     │ 27.0     │ 0.0     │ 0.0     │"
      ]
     },
     "execution_count": 205,
     "metadata": {},
     "output_type": "execute_result"
    }
   ],
   "source": [
    "# Treatment group n°4\n",
    "replace!(penn.tg, 4 => 1)\n",
    "\n",
    "\n",
    "rename!(penn, \"tg\" => \"T4\")\n",
    "\n",
    "\n",
    "\n",
    "\n",
    "\n",
    "penn"
   ]
  },
  {
   "cell_type": "code",
   "execution_count": 206,
   "id": "4726235c",
   "metadata": {},
   "outputs": [
    {
     "data": {
      "text/plain": [
       "5099"
      ]
     },
     "execution_count": 206,
     "metadata": {},
     "output_type": "execute_result"
    }
   ],
   "source": [
    "n = size(penn)[1]"
   ]
  },
  {
   "cell_type": "markdown",
   "id": "e0707234",
   "metadata": {},
   "source": [
    "Bootstrap Function"
   ]
  },
  {
   "cell_type": "code",
   "execution_count": 217,
   "id": "694935e5",
   "metadata": {},
   "outputs": [
    {
     "data": {
      "text/plain": [
       "boot_fn (generic function with 1 method)"
      ]
     },
     "execution_count": 217,
     "metadata": {},
     "output_type": "execute_result"
    }
   ],
   "source": [
    "function boot_fn(data,index)\n",
    "    model = lm(@formula(log(inuidur1)~T4+ (female+black+othrace+q2+q3+q4+q5+q6+agelt35+agegt54+durable+lusd+husd)), penn[index,:])\n",
    "    T4 = GLM.coeftable(model).cols[1][2]\n",
    "    female = GLM.coeftable(model).cols[1][3]\n",
    "    black = GLM.coeftable(model).cols[1][4]\n",
    "    return [T4, female, black]\n",
    "end\n"
   ]
  },
  {
   "cell_type": "code",
   "execution_count": 219,
   "id": "9405a952",
   "metadata": {},
   "outputs": [
    {
     "data": {
      "text/plain": [
       "3-element Vector{Float64}:\n",
       " -0.07109653401371768\n",
       "  0.12173628809565984\n",
       " -0.2978610361314576"
      ]
     },
     "execution_count": 219,
     "metadata": {},
     "output_type": "execute_result"
    }
   ],
   "source": [
    "boot_fn(penn,[1:n;])"
   ]
  },
  {
   "cell_type": "markdown",
   "id": "5b5a4567",
   "metadata": {},
   "source": [
    "Computing the standard errors of 1,000 bootstrap estimates for the T4, female and black variables."
   ]
  },
  {
   "cell_type": "code",
   "execution_count": 220,
   "id": "0f4ce3e1",
   "metadata": {},
   "outputs": [
    {
     "data": {
      "text/plain": [
       "boot_2 (generic function with 1 method)"
      ]
     },
     "execution_count": 220,
     "metadata": {},
     "output_type": "execute_result"
    }
   ],
   "source": [
    "function boot_2(data,func,R)\n",
    "            T4_boot2 = []\n",
    "            fem_boot2 = []\n",
    "            black_boot2 = []\n",
    "            for i in 1:R\n",
    "                append!(T4_boot2,func(data,sample([1:5099;], n, replace = true))[1])\n",
    "                append!(fem_boot2,func(data,sample([1:5099;], n, replace = true))[2])\n",
    "                append!(black_boot2,func(data,sample([1:5099;], n, replace = true))[3])\n",
    "            end\n",
    "        table = NamedArray(zeros(3, 3))\n",
    "\n",
    "        table[1,2] = mean(T4_boot2)\n",
    "        table[1,3] = std(T4_boot2, corrected=true)\n",
    "        table[2,2] = mean(fem_boot2)\n",
    "        table[2,3] = std(fem_boot2, corrected=true)\n",
    "        table[3,2] = mean(black_boot2)\n",
    "        table[3,3] = std(black_boot2, corrected=true)\n",
    "    \n",
    "        T = DataFrame(table, [ :\"Variable\", :\"Coefficient (boostrap)\", :\"Standar error (boostrap)\"]) \n",
    "        T[!,:Variable] = string.(T[!,:Variable]) \n",
    "\n",
    "        T[1,1] = \"T4_boot2\"\n",
    "        T[2,1] = \"fem_boot2\"\n",
    "        T[3,1] = \"black_boot2\"\n",
    "        \n",
    "        bootstrap_statistics = Dict{String,Any}(\"Table\" => T, \"T4_boot2\" => T4_boot2, \"fem_boot2\" => fem_boot2,\n",
    "        \"black_boot2\" => black_boot2)\n",
    "    return bootstrap_statistics\n",
    "end"
   ]
  },
  {
   "cell_type": "code",
   "execution_count": 222,
   "id": "0bc36ca5",
   "metadata": {},
   "outputs": [
    {
     "data": {
      "text/html": [
       "<table class=\"data-frame\"><thead><tr><th></th><th>Variable</th><th>Coefficient (boostrap)</th><th>Standar error (boostrap)</th></tr><tr><th></th><th>String</th><th>Float64</th><th>Float64</th></tr></thead><tbody><p>3 rows × 3 columns</p><tr><th>1</th><td>T4_boot2</td><td>-0.0726805</td><td>0.0372745</td></tr><tr><th>2</th><td>fem_boot2</td><td>0.122096</td><td>0.0341478</td></tr><tr><th>3</th><td>black_boot2</td><td>-0.29879</td><td>0.0592103</td></tr></tbody></table>"
      ],
      "text/latex": [
       "\\begin{tabular}{r|ccc}\n",
       "\t& Variable & Coefficient (boostrap) & Standar error (boostrap)\\\\\n",
       "\t\\hline\n",
       "\t& String & Float64 & Float64\\\\\n",
       "\t\\hline\n",
       "\t1 & T4\\_boot2 & -0.0726805 & 0.0372745 \\\\\n",
       "\t2 & fem\\_boot2 & 0.122096 & 0.0341478 \\\\\n",
       "\t3 & black\\_boot2 & -0.29879 & 0.0592103 \\\\\n",
       "\\end{tabular}\n"
      ],
      "text/plain": [
       "3×3 DataFrame\n",
       "│ Row │ Variable    │ Coefficient (boostrap) │ Standar error (boostrap) │\n",
       "│     │ \u001b[90mString\u001b[39m      │ \u001b[90mFloat64\u001b[39m                │ \u001b[90mFloat64\u001b[39m                  │\n",
       "├─────┼─────────────┼────────────────────────┼──────────────────────────┤\n",
       "│ 1   │ T4_boot2    │ -0.0726805             │ 0.0372745                │\n",
       "│ 2   │ fem_boot2   │ 0.122096               │ 0.0341478                │\n",
       "│ 3   │ black_boot2 │ -0.29879               │ 0.0592103                │"
      ]
     },
     "execution_count": 222,
     "metadata": {},
     "output_type": "execute_result"
    }
   ],
   "source": [
    "boot_2(Auto,boot_fn,1000)[\"Table\"]"
   ]
  },
  {
   "cell_type": "code",
   "execution_count": null,
   "id": "2a794008",
   "metadata": {},
   "outputs": [],
   "source": []
  },
  {
   "cell_type": "markdown",
   "id": "a72874a0",
   "metadata": {},
   "source": [
    "## Comparative models (R, Python and Julia)"
   ]
  },
  {
   "cell_type": "code",
   "execution_count": 47,
   "id": "38c52fdb",
   "metadata": {},
   "outputs": [
    {
     "name": "stderr",
     "output_type": "stream",
     "text": [
      "\u001b[32m\u001b[1m    Updating\u001b[22m\u001b[39m registry at `C:\\Users\\acoap\\.julia\\registries\\General.toml`\n",
      "\u001b[32m\u001b[1m   Resolving\u001b[22m\u001b[39m package versions...\n",
      "\u001b[32m\u001b[1m  No Changes\u001b[22m\u001b[39m to `C:\\Users\\acoap\\.julia\\environments\\v1.7\\Project.toml`\n",
      "\u001b[32m\u001b[1m  No Changes\u001b[22m\u001b[39m to `C:\\Users\\acoap\\.julia\\environments\\v1.7\\Manifest.toml`\n",
      "\u001b[32m\u001b[1m   Resolving\u001b[22m\u001b[39m package versions...\n",
      "\u001b[32m\u001b[1m    Updating\u001b[22m\u001b[39m `C:\\Users\\acoap\\.julia\\environments\\v1.7\\Project.toml`\n",
      " \u001b[90m [2913bbd2] \u001b[39m\u001b[92m+ StatsBase v0.33.16\u001b[39m\n",
      "\u001b[32m\u001b[1m  No Changes\u001b[22m\u001b[39m to `C:\\Users\\acoap\\.julia\\environments\\v1.7\\Manifest.toml`\n"
     ]
    }
   ],
   "source": [
    "\n",
    "import Pkg; Pkg.add(\"CodecBzip2\")\n",
    "import Pkg; Pkg.add(\"StatsBase\")"
   ]
  },
  {
   "cell_type": "code",
   "execution_count": 49,
   "id": "3ab9c3a7",
   "metadata": {},
   "outputs": [],
   "source": [
    "using RData, LinearAlgebra, GLM, DataFrames, Statistics, Random, Distributions, DataStructures, NamedArrays, PrettyTables,\n",
    "        Plots, StatsBase,StatsPlots, GLM, CodecBzip2"
   ]
  },
  {
   "cell_type": "code",
   "execution_count": 27,
   "id": "95ccd4b9",
   "metadata": {
    "scrolled": true
   },
   "outputs": [
    {
     "data": {
      "text/html": [
       "<table class=\"data-frame\"><thead><tr><th></th><th>year</th><th>lnw</th><th>female</th><th>widowed</th><th>divorced</th><th>separated</th><th>nevermarried</th><th>hsd08</th></tr><tr><th></th><th>Float64</th><th>Float64</th><th>Float64</th><th>Float64</th><th>Float64</th><th>Float64</th><th>Float64</th><th>Float64</th></tr></thead><tbody><p>29,217 rows × 23 columns (omitted printing of 15 columns)</p><tr><th>1</th><td>2012.0</td><td>1.90954</td><td>1.0</td><td>0.0</td><td>0.0</td><td>0.0</td><td>0.0</td><td>0.0</td></tr><tr><th>2</th><td>2012.0</td><td>1.36577</td><td>1.0</td><td>0.0</td><td>0.0</td><td>0.0</td><td>0.0</td><td>0.0</td></tr><tr><th>3</th><td>2012.0</td><td>2.54022</td><td>0.0</td><td>0.0</td><td>0.0</td><td>0.0</td><td>0.0</td><td>0.0</td></tr><tr><th>4</th><td>2012.0</td><td>1.80109</td><td>1.0</td><td>0.0</td><td>0.0</td><td>0.0</td><td>0.0</td><td>0.0</td></tr><tr><th>5</th><td>2012.0</td><td>3.3499</td><td>0.0</td><td>0.0</td><td>0.0</td><td>0.0</td><td>0.0</td><td>0.0</td></tr><tr><th>6</th><td>2012.0</td><td>2.00283</td><td>0.0</td><td>0.0</td><td>0.0</td><td>0.0</td><td>0.0</td><td>0.0</td></tr><tr><th>7</th><td>2012.0</td><td>2.45609</td><td>0.0</td><td>0.0</td><td>0.0</td><td>0.0</td><td>1.0</td><td>0.0</td></tr><tr><th>8</th><td>2012.0</td><td>3.57305</td><td>0.0</td><td>0.0</td><td>0.0</td><td>0.0</td><td>0.0</td><td>0.0</td></tr><tr><th>9</th><td>2012.0</td><td>2.51366</td><td>0.0</td><td>0.0</td><td>0.0</td><td>0.0</td><td>0.0</td><td>0.0</td></tr><tr><th>10</th><td>2012.0</td><td>0.289633</td><td>1.0</td><td>0.0</td><td>0.0</td><td>0.0</td><td>0.0</td><td>0.0</td></tr><tr><th>11</th><td>2012.0</td><td>2.49424</td><td>0.0</td><td>0.0</td><td>0.0</td><td>0.0</td><td>0.0</td><td>0.0</td></tr><tr><th>12</th><td>2012.0</td><td>3.31116</td><td>1.0</td><td>0.0</td><td>0.0</td><td>0.0</td><td>0.0</td><td>0.0</td></tr><tr><th>13</th><td>2012.0</td><td>2.57819</td><td>0.0</td><td>0.0</td><td>0.0</td><td>0.0</td><td>0.0</td><td>0.0</td></tr><tr><th>14</th><td>2012.0</td><td>2.5514</td><td>0.0</td><td>0.0</td><td>0.0</td><td>0.0</td><td>1.0</td><td>0.0</td></tr><tr><th>15</th><td>2012.0</td><td>3.14226</td><td>1.0</td><td>0.0</td><td>1.0</td><td>0.0</td><td>0.0</td><td>0.0</td></tr><tr><th>16</th><td>2012.0</td><td>1.75389</td><td>0.0</td><td>0.0</td><td>0.0</td><td>0.0</td><td>1.0</td><td>0.0</td></tr><tr><th>17</th><td>2012.0</td><td>2.05892</td><td>0.0</td><td>0.0</td><td>0.0</td><td>0.0</td><td>0.0</td><td>0.0</td></tr><tr><th>18</th><td>2012.0</td><td>2.52323</td><td>0.0</td><td>0.0</td><td>0.0</td><td>0.0</td><td>1.0</td><td>0.0</td></tr><tr><th>19</th><td>2012.0</td><td>2.42792</td><td>0.0</td><td>0.0</td><td>0.0</td><td>0.0</td><td>0.0</td><td>0.0</td></tr><tr><th>20</th><td>2012.0</td><td>2.91912</td><td>1.0</td><td>0.0</td><td>0.0</td><td>0.0</td><td>1.0</td><td>0.0</td></tr><tr><th>21</th><td>2012.0</td><td>2.43361</td><td>0.0</td><td>0.0</td><td>0.0</td><td>0.0</td><td>0.0</td><td>0.0</td></tr><tr><th>22</th><td>2012.0</td><td>2.65676</td><td>1.0</td><td>0.0</td><td>0.0</td><td>0.0</td><td>0.0</td><td>0.0</td></tr><tr><th>23</th><td>2012.0</td><td>2.82039</td><td>0.0</td><td>0.0</td><td>0.0</td><td>0.0</td><td>0.0</td><td>0.0</td></tr><tr><th>24</th><td>2012.0</td><td>2.43361</td><td>0.0</td><td>0.0</td><td>0.0</td><td>0.0</td><td>1.0</td><td>0.0</td></tr><tr><th>25</th><td>2012.0</td><td>2.05094</td><td>1.0</td><td>0.0</td><td>0.0</td><td>0.0</td><td>1.0</td><td>0.0</td></tr><tr><th>26</th><td>2012.0</td><td>3.37343</td><td>0.0</td><td>0.0</td><td>0.0</td><td>0.0</td><td>0.0</td><td>0.0</td></tr><tr><th>27</th><td>2012.0</td><td>3.00506</td><td>0.0</td><td>0.0</td><td>0.0</td><td>0.0</td><td>0.0</td><td>0.0</td></tr><tr><th>28</th><td>2012.0</td><td>2.23294</td><td>1.0</td><td>0.0</td><td>0.0</td><td>0.0</td><td>0.0</td><td>0.0</td></tr><tr><th>29</th><td>2012.0</td><td>2.52323</td><td>1.0</td><td>0.0</td><td>0.0</td><td>0.0</td><td>0.0</td><td>0.0</td></tr><tr><th>30</th><td>2012.0</td><td>2.49424</td><td>0.0</td><td>0.0</td><td>0.0</td><td>0.0</td><td>0.0</td><td>0.0</td></tr><tr><th>&vellip;</th><td>&vellip;</td><td>&vellip;</td><td>&vellip;</td><td>&vellip;</td><td>&vellip;</td><td>&vellip;</td><td>&vellip;</td><td>&vellip;</td></tr></tbody></table>"
      ],
      "text/latex": [
       "\\begin{tabular}{r|ccccccccc}\n",
       "\t& year & lnw & female & widowed & divorced & separated & nevermarried & hsd08 & \\\\\n",
       "\t\\hline\n",
       "\t& Float64 & Float64 & Float64 & Float64 & Float64 & Float64 & Float64 & Float64 & \\\\\n",
       "\t\\hline\n",
       "\t1 & 2012.0 & 1.90954 & 1.0 & 0.0 & 0.0 & 0.0 & 0.0 & 0.0 & $\\dots$ \\\\\n",
       "\t2 & 2012.0 & 1.36577 & 1.0 & 0.0 & 0.0 & 0.0 & 0.0 & 0.0 & $\\dots$ \\\\\n",
       "\t3 & 2012.0 & 2.54022 & 0.0 & 0.0 & 0.0 & 0.0 & 0.0 & 0.0 & $\\dots$ \\\\\n",
       "\t4 & 2012.0 & 1.80109 & 1.0 & 0.0 & 0.0 & 0.0 & 0.0 & 0.0 & $\\dots$ \\\\\n",
       "\t5 & 2012.0 & 3.3499 & 0.0 & 0.0 & 0.0 & 0.0 & 0.0 & 0.0 & $\\dots$ \\\\\n",
       "\t6 & 2012.0 & 2.00283 & 0.0 & 0.0 & 0.0 & 0.0 & 0.0 & 0.0 & $\\dots$ \\\\\n",
       "\t7 & 2012.0 & 2.45609 & 0.0 & 0.0 & 0.0 & 0.0 & 1.0 & 0.0 & $\\dots$ \\\\\n",
       "\t8 & 2012.0 & 3.57305 & 0.0 & 0.0 & 0.0 & 0.0 & 0.0 & 0.0 & $\\dots$ \\\\\n",
       "\t9 & 2012.0 & 2.51366 & 0.0 & 0.0 & 0.0 & 0.0 & 0.0 & 0.0 & $\\dots$ \\\\\n",
       "\t10 & 2012.0 & 0.289633 & 1.0 & 0.0 & 0.0 & 0.0 & 0.0 & 0.0 & $\\dots$ \\\\\n",
       "\t11 & 2012.0 & 2.49424 & 0.0 & 0.0 & 0.0 & 0.0 & 0.0 & 0.0 & $\\dots$ \\\\\n",
       "\t12 & 2012.0 & 3.31116 & 1.0 & 0.0 & 0.0 & 0.0 & 0.0 & 0.0 & $\\dots$ \\\\\n",
       "\t13 & 2012.0 & 2.57819 & 0.0 & 0.0 & 0.0 & 0.0 & 0.0 & 0.0 & $\\dots$ \\\\\n",
       "\t14 & 2012.0 & 2.5514 & 0.0 & 0.0 & 0.0 & 0.0 & 1.0 & 0.0 & $\\dots$ \\\\\n",
       "\t15 & 2012.0 & 3.14226 & 1.0 & 0.0 & 1.0 & 0.0 & 0.0 & 0.0 & $\\dots$ \\\\\n",
       "\t16 & 2012.0 & 1.75389 & 0.0 & 0.0 & 0.0 & 0.0 & 1.0 & 0.0 & $\\dots$ \\\\\n",
       "\t17 & 2012.0 & 2.05892 & 0.0 & 0.0 & 0.0 & 0.0 & 0.0 & 0.0 & $\\dots$ \\\\\n",
       "\t18 & 2012.0 & 2.52323 & 0.0 & 0.0 & 0.0 & 0.0 & 1.0 & 0.0 & $\\dots$ \\\\\n",
       "\t19 & 2012.0 & 2.42792 & 0.0 & 0.0 & 0.0 & 0.0 & 0.0 & 0.0 & $\\dots$ \\\\\n",
       "\t20 & 2012.0 & 2.91912 & 1.0 & 0.0 & 0.0 & 0.0 & 1.0 & 0.0 & $\\dots$ \\\\\n",
       "\t21 & 2012.0 & 2.43361 & 0.0 & 0.0 & 0.0 & 0.0 & 0.0 & 0.0 & $\\dots$ \\\\\n",
       "\t22 & 2012.0 & 2.65676 & 1.0 & 0.0 & 0.0 & 0.0 & 0.0 & 0.0 & $\\dots$ \\\\\n",
       "\t23 & 2012.0 & 2.82039 & 0.0 & 0.0 & 0.0 & 0.0 & 0.0 & 0.0 & $\\dots$ \\\\\n",
       "\t24 & 2012.0 & 2.43361 & 0.0 & 0.0 & 0.0 & 0.0 & 1.0 & 0.0 & $\\dots$ \\\\\n",
       "\t25 & 2012.0 & 2.05094 & 1.0 & 0.0 & 0.0 & 0.0 & 1.0 & 0.0 & $\\dots$ \\\\\n",
       "\t26 & 2012.0 & 3.37343 & 0.0 & 0.0 & 0.0 & 0.0 & 0.0 & 0.0 & $\\dots$ \\\\\n",
       "\t27 & 2012.0 & 3.00506 & 0.0 & 0.0 & 0.0 & 0.0 & 0.0 & 0.0 & $\\dots$ \\\\\n",
       "\t28 & 2012.0 & 2.23294 & 1.0 & 0.0 & 0.0 & 0.0 & 0.0 & 0.0 & $\\dots$ \\\\\n",
       "\t29 & 2012.0 & 2.52323 & 1.0 & 0.0 & 0.0 & 0.0 & 0.0 & 0.0 & $\\dots$ \\\\\n",
       "\t30 & 2012.0 & 2.49424 & 0.0 & 0.0 & 0.0 & 0.0 & 0.0 & 0.0 & $\\dots$ \\\\\n",
       "\t$\\dots$ & $\\dots$ & $\\dots$ & $\\dots$ & $\\dots$ & $\\dots$ & $\\dots$ & $\\dots$ & $\\dots$ &  \\\\\n",
       "\\end{tabular}\n"
      ],
      "text/plain": [
       "29217×23 DataFrame. Omitted printing of 17 columns\n",
       "│ Row   │ year    │ lnw      │ female  │ widowed │ divorced │ separated │\n",
       "│       │ \u001b[90mFloat64\u001b[39m │ \u001b[90mFloat64\u001b[39m  │ \u001b[90mFloat64\u001b[39m │ \u001b[90mFloat64\u001b[39m │ \u001b[90mFloat64\u001b[39m  │ \u001b[90mFloat64\u001b[39m   │\n",
       "├───────┼─────────┼──────────┼─────────┼─────────┼──────────┼───────────┤\n",
       "│ 1     │ 2012.0  │ 1.90954  │ 1.0     │ 0.0     │ 0.0      │ 0.0       │\n",
       "│ 2     │ 2012.0  │ 1.36577  │ 1.0     │ 0.0     │ 0.0      │ 0.0       │\n",
       "│ 3     │ 2012.0  │ 2.54022  │ 0.0     │ 0.0     │ 0.0      │ 0.0       │\n",
       "│ 4     │ 2012.0  │ 1.80109  │ 1.0     │ 0.0     │ 0.0      │ 0.0       │\n",
       "│ 5     │ 2012.0  │ 3.3499   │ 0.0     │ 0.0     │ 0.0      │ 0.0       │\n",
       "│ 6     │ 2012.0  │ 2.00283  │ 0.0     │ 0.0     │ 0.0      │ 0.0       │\n",
       "│ 7     │ 2012.0  │ 2.45609  │ 0.0     │ 0.0     │ 0.0      │ 0.0       │\n",
       "│ 8     │ 2012.0  │ 3.57305  │ 0.0     │ 0.0     │ 0.0      │ 0.0       │\n",
       "│ 9     │ 2012.0  │ 2.51366  │ 0.0     │ 0.0     │ 0.0      │ 0.0       │\n",
       "│ 10    │ 2012.0  │ 0.289633 │ 1.0     │ 0.0     │ 0.0      │ 0.0       │\n",
       "⋮\n",
       "│ 29207 │ 2012.0  │ 2.5514   │ 0.0     │ 0.0     │ 0.0      │ 0.0       │\n",
       "│ 29208 │ 2012.0  │ 2.91912  │ 1.0     │ 0.0     │ 0.0      │ 0.0       │\n",
       "│ 29209 │ 2012.0  │ 2.5514   │ 1.0     │ 0.0     │ 0.0      │ 0.0       │\n",
       "│ 29210 │ 2012.0  │ 3.28537  │ 0.0     │ 0.0     │ 0.0      │ 0.0       │\n",
       "│ 29211 │ 2012.0  │ 3.3746   │ 0.0     │ 0.0     │ 0.0      │ 0.0       │\n",
       "│ 29212 │ 2012.0  │ 2.70555  │ 1.0     │ 0.0     │ 0.0      │ 0.0       │\n",
       "│ 29213 │ 2012.0  │ 3.97851  │ 0.0     │ 0.0     │ 0.0      │ 0.0       │\n",
       "│ 29214 │ 2012.0  │ 3.14226  │ 1.0     │ 0.0     │ 0.0      │ 0.0       │\n",
       "│ 29215 │ 2012.0  │ 2.72562  │ 1.0     │ 0.0     │ 0.0      │ 0.0       │\n",
       "│ 29216 │ 2012.0  │ 3.14226  │ 0.0     │ 0.0     │ 0.0      │ 0.0       │\n",
       "│ 29217 │ 2012.0  │ 2.43361  │ 1.0     │ 0.0     │ 0.0      │ 0.0       │"
      ]
     },
     "execution_count": 27,
     "metadata": {},
     "output_type": "execute_result"
    }
   ],
   "source": [
    "rdata_read = load(\"../../data/cps2012.RData\")\n",
    "data = rdata_read[\"data\"]"
   ]
  },
  {
   "cell_type": "code",
   "execution_count": 28,
   "id": "fb814290",
   "metadata": {},
   "outputs": [
    {
     "data": {
      "text/plain": [
       "21-element Vector{String}:\n",
       " \"female\"\n",
       " \"widowed\"\n",
       " \"divorced\"\n",
       " \"separated\"\n",
       " \"nevermarried\"\n",
       " \"hsd08\"\n",
       " \"hsd911\"\n",
       " \"hsg\"\n",
       " \"cg\"\n",
       " \"ad\"\n",
       " \"mw\"\n",
       " \"so\"\n",
       " \"we\"\n",
       " \"exp1\"\n",
       " \"exp2\"\n",
       " \"exp3\"\n",
       " \"exp4\"\n",
       " \"weight\"\n",
       " \"married\"\n",
       " \"ne\"\n",
       " \"sc\""
      ]
     },
     "execution_count": 28,
     "metadata": {},
     "output_type": "execute_result"
    }
   ],
   "source": [
    "Z = select( data, Not( [\"year\", \"lnw\"]) )\n",
    "names( Z )"
   ]
  },
  {
   "cell_type": "code",
   "execution_count": 223,
   "id": "f57fcd47",
   "metadata": {},
   "outputs": [
    {
     "data": {
      "text/plain": [
       "TaskLocalRNG()"
      ]
     },
     "execution_count": 223,
     "metadata": {},
     "output_type": "execute_result"
    }
   ],
   "source": [
    "#Splitting the data\n",
    "Random.seed!(1234)"
   ]
  },
  {
   "cell_type": "code",
   "execution_count": 224,
   "id": "2bb83a1e",
   "metadata": {},
   "outputs": [
    {
     "data": {
      "text/html": [
       "<table class=\"data-frame\"><thead><tr><th></th><th>year</th><th>lnw</th><th>female</th><th>widowed</th><th>divorced</th><th>separated</th><th>nevermarried</th><th>hsd08</th></tr><tr><th></th><th>Float64</th><th>Float64</th><th>Float64</th><th>Float64</th><th>Float64</th><th>Float64</th><th>Float64</th><th>Float64</th></tr></thead><tbody><p>7,305 rows × 23 columns (omitted printing of 15 columns)</p><tr><th>1</th><td>2012.0</td><td>1.90954</td><td>1.0</td><td>0.0</td><td>0.0</td><td>0.0</td><td>0.0</td><td>0.0</td></tr><tr><th>2</th><td>2012.0</td><td>2.00283</td><td>0.0</td><td>0.0</td><td>0.0</td><td>0.0</td><td>0.0</td><td>0.0</td></tr><tr><th>3</th><td>2012.0</td><td>0.289633</td><td>1.0</td><td>0.0</td><td>0.0</td><td>0.0</td><td>0.0</td><td>0.0</td></tr><tr><th>4</th><td>2012.0</td><td>3.14226</td><td>1.0</td><td>0.0</td><td>1.0</td><td>0.0</td><td>0.0</td><td>0.0</td></tr><tr><th>5</th><td>2012.0</td><td>1.75389</td><td>0.0</td><td>0.0</td><td>0.0</td><td>0.0</td><td>1.0</td><td>0.0</td></tr><tr><th>6</th><td>2012.0</td><td>2.05892</td><td>0.0</td><td>0.0</td><td>0.0</td><td>0.0</td><td>0.0</td><td>0.0</td></tr><tr><th>7</th><td>2012.0</td><td>2.42792</td><td>0.0</td><td>0.0</td><td>0.0</td><td>0.0</td><td>0.0</td><td>0.0</td></tr><tr><th>8</th><td>2012.0</td><td>3.37343</td><td>0.0</td><td>0.0</td><td>0.0</td><td>0.0</td><td>0.0</td><td>0.0</td></tr><tr><th>9</th><td>2012.0</td><td>2.52323</td><td>1.0</td><td>0.0</td><td>0.0</td><td>0.0</td><td>0.0</td><td>0.0</td></tr><tr><th>10</th><td>2012.0</td><td>1.8693</td><td>1.0</td><td>0.0</td><td>0.0</td><td>0.0</td><td>0.0</td><td>0.0</td></tr><tr><th>11</th><td>2012.0</td><td>2.43361</td><td>0.0</td><td>0.0</td><td>0.0</td><td>0.0</td><td>0.0</td><td>0.0</td></tr><tr><th>12</th><td>2012.0</td><td>2.70555</td><td>0.0</td><td>0.0</td><td>0.0</td><td>0.0</td><td>0.0</td><td>0.0</td></tr><tr><th>13</th><td>2012.0</td><td>2.43361</td><td>0.0</td><td>0.0</td><td>0.0</td><td>0.0</td><td>0.0</td><td>0.0</td></tr><tr><th>14</th><td>2012.0</td><td>1.69666</td><td>0.0</td><td>0.0</td><td>0.0</td><td>0.0</td><td>1.0</td><td>0.0</td></tr><tr><th>15</th><td>2012.0</td><td>2.26371</td><td>1.0</td><td>0.0</td><td>1.0</td><td>0.0</td><td>0.0</td><td>0.0</td></tr><tr><th>16</th><td>2012.0</td><td>2.78779</td><td>1.0</td><td>0.0</td><td>0.0</td><td>0.0</td><td>0.0</td><td>0.0</td></tr><tr><th>17</th><td>2012.0</td><td>2.65676</td><td>1.0</td><td>0.0</td><td>0.0</td><td>0.0</td><td>0.0</td><td>0.0</td></tr><tr><th>18</th><td>2012.0</td><td>2.83111</td><td>0.0</td><td>0.0</td><td>0.0</td><td>0.0</td><td>0.0</td><td>0.0</td></tr><tr><th>19</th><td>2012.0</td><td>2.05892</td><td>1.0</td><td>0.0</td><td>0.0</td><td>0.0</td><td>0.0</td><td>0.0</td></tr><tr><th>20</th><td>2012.0</td><td>2.97521</td><td>1.0</td><td>0.0</td><td>0.0</td><td>0.0</td><td>1.0</td><td>0.0</td></tr><tr><th>21</th><td>2012.0</td><td>2.1829</td><td>1.0</td><td>0.0</td><td>0.0</td><td>0.0</td><td>1.0</td><td>0.0</td></tr><tr><th>22</th><td>2012.0</td><td>3.4189</td><td>0.0</td><td>0.0</td><td>0.0</td><td>0.0</td><td>0.0</td><td>0.0</td></tr><tr><th>23</th><td>2012.0</td><td>2.83908</td><td>0.0</td><td>0.0</td><td>0.0</td><td>0.0</td><td>1.0</td><td>0.0</td></tr><tr><th>24</th><td>2012.0</td><td>2.95686</td><td>0.0</td><td>0.0</td><td>0.0</td><td>0.0</td><td>0.0</td><td>0.0</td></tr><tr><th>25</th><td>2012.0</td><td>2.87545</td><td>1.0</td><td>0.0</td><td>0.0</td><td>0.0</td><td>1.0</td><td>0.0</td></tr><tr><th>26</th><td>2012.0</td><td>2.53897</td><td>0.0</td><td>0.0</td><td>0.0</td><td>0.0</td><td>0.0</td><td>0.0</td></tr><tr><th>27</th><td>2012.0</td><td>2.36907</td><td>1.0</td><td>0.0</td><td>0.0</td><td>0.0</td><td>1.0</td><td>0.0</td></tr><tr><th>28</th><td>2012.0</td><td>1.96361</td><td>1.0</td><td>0.0</td><td>0.0</td><td>0.0</td><td>0.0</td><td>0.0</td></tr><tr><th>29</th><td>2012.0</td><td>2.65676</td><td>0.0</td><td>0.0</td><td>0.0</td><td>0.0</td><td>0.0</td><td>0.0</td></tr><tr><th>30</th><td>2012.0</td><td>2.36907</td><td>0.0</td><td>0.0</td><td>0.0</td><td>0.0</td><td>1.0</td><td>0.0</td></tr><tr><th>&vellip;</th><td>&vellip;</td><td>&vellip;</td><td>&vellip;</td><td>&vellip;</td><td>&vellip;</td><td>&vellip;</td><td>&vellip;</td><td>&vellip;</td></tr></tbody></table>"
      ],
      "text/latex": [
       "\\begin{tabular}{r|ccccccccc}\n",
       "\t& year & lnw & female & widowed & divorced & separated & nevermarried & hsd08 & \\\\\n",
       "\t\\hline\n",
       "\t& Float64 & Float64 & Float64 & Float64 & Float64 & Float64 & Float64 & Float64 & \\\\\n",
       "\t\\hline\n",
       "\t1 & 2012.0 & 1.90954 & 1.0 & 0.0 & 0.0 & 0.0 & 0.0 & 0.0 & $\\dots$ \\\\\n",
       "\t2 & 2012.0 & 2.00283 & 0.0 & 0.0 & 0.0 & 0.0 & 0.0 & 0.0 & $\\dots$ \\\\\n",
       "\t3 & 2012.0 & 0.289633 & 1.0 & 0.0 & 0.0 & 0.0 & 0.0 & 0.0 & $\\dots$ \\\\\n",
       "\t4 & 2012.0 & 3.14226 & 1.0 & 0.0 & 1.0 & 0.0 & 0.0 & 0.0 & $\\dots$ \\\\\n",
       "\t5 & 2012.0 & 1.75389 & 0.0 & 0.0 & 0.0 & 0.0 & 1.0 & 0.0 & $\\dots$ \\\\\n",
       "\t6 & 2012.0 & 2.05892 & 0.0 & 0.0 & 0.0 & 0.0 & 0.0 & 0.0 & $\\dots$ \\\\\n",
       "\t7 & 2012.0 & 2.42792 & 0.0 & 0.0 & 0.0 & 0.0 & 0.0 & 0.0 & $\\dots$ \\\\\n",
       "\t8 & 2012.0 & 3.37343 & 0.0 & 0.0 & 0.0 & 0.0 & 0.0 & 0.0 & $\\dots$ \\\\\n",
       "\t9 & 2012.0 & 2.52323 & 1.0 & 0.0 & 0.0 & 0.0 & 0.0 & 0.0 & $\\dots$ \\\\\n",
       "\t10 & 2012.0 & 1.8693 & 1.0 & 0.0 & 0.0 & 0.0 & 0.0 & 0.0 & $\\dots$ \\\\\n",
       "\t11 & 2012.0 & 2.43361 & 0.0 & 0.0 & 0.0 & 0.0 & 0.0 & 0.0 & $\\dots$ \\\\\n",
       "\t12 & 2012.0 & 2.70555 & 0.0 & 0.0 & 0.0 & 0.0 & 0.0 & 0.0 & $\\dots$ \\\\\n",
       "\t13 & 2012.0 & 2.43361 & 0.0 & 0.0 & 0.0 & 0.0 & 0.0 & 0.0 & $\\dots$ \\\\\n",
       "\t14 & 2012.0 & 1.69666 & 0.0 & 0.0 & 0.0 & 0.0 & 1.0 & 0.0 & $\\dots$ \\\\\n",
       "\t15 & 2012.0 & 2.26371 & 1.0 & 0.0 & 1.0 & 0.0 & 0.0 & 0.0 & $\\dots$ \\\\\n",
       "\t16 & 2012.0 & 2.78779 & 1.0 & 0.0 & 0.0 & 0.0 & 0.0 & 0.0 & $\\dots$ \\\\\n",
       "\t17 & 2012.0 & 2.65676 & 1.0 & 0.0 & 0.0 & 0.0 & 0.0 & 0.0 & $\\dots$ \\\\\n",
       "\t18 & 2012.0 & 2.83111 & 0.0 & 0.0 & 0.0 & 0.0 & 0.0 & 0.0 & $\\dots$ \\\\\n",
       "\t19 & 2012.0 & 2.05892 & 1.0 & 0.0 & 0.0 & 0.0 & 0.0 & 0.0 & $\\dots$ \\\\\n",
       "\t20 & 2012.0 & 2.97521 & 1.0 & 0.0 & 0.0 & 0.0 & 1.0 & 0.0 & $\\dots$ \\\\\n",
       "\t21 & 2012.0 & 2.1829 & 1.0 & 0.0 & 0.0 & 0.0 & 1.0 & 0.0 & $\\dots$ \\\\\n",
       "\t22 & 2012.0 & 3.4189 & 0.0 & 0.0 & 0.0 & 0.0 & 0.0 & 0.0 & $\\dots$ \\\\\n",
       "\t23 & 2012.0 & 2.83908 & 0.0 & 0.0 & 0.0 & 0.0 & 1.0 & 0.0 & $\\dots$ \\\\\n",
       "\t24 & 2012.0 & 2.95686 & 0.0 & 0.0 & 0.0 & 0.0 & 0.0 & 0.0 & $\\dots$ \\\\\n",
       "\t25 & 2012.0 & 2.87545 & 1.0 & 0.0 & 0.0 & 0.0 & 1.0 & 0.0 & $\\dots$ \\\\\n",
       "\t26 & 2012.0 & 2.53897 & 0.0 & 0.0 & 0.0 & 0.0 & 0.0 & 0.0 & $\\dots$ \\\\\n",
       "\t27 & 2012.0 & 2.36907 & 1.0 & 0.0 & 0.0 & 0.0 & 1.0 & 0.0 & $\\dots$ \\\\\n",
       "\t28 & 2012.0 & 1.96361 & 1.0 & 0.0 & 0.0 & 0.0 & 0.0 & 0.0 & $\\dots$ \\\\\n",
       "\t29 & 2012.0 & 2.65676 & 0.0 & 0.0 & 0.0 & 0.0 & 0.0 & 0.0 & $\\dots$ \\\\\n",
       "\t30 & 2012.0 & 2.36907 & 0.0 & 0.0 & 0.0 & 0.0 & 1.0 & 0.0 & $\\dots$ \\\\\n",
       "\t$\\dots$ & $\\dots$ & $\\dots$ & $\\dots$ & $\\dots$ & $\\dots$ & $\\dots$ & $\\dots$ & $\\dots$ &  \\\\\n",
       "\\end{tabular}\n"
      ],
      "text/plain": [
       "7305×23 DataFrame. Omitted printing of 17 columns\n",
       "│ Row  │ year    │ lnw      │ female  │ widowed │ divorced │ separated │\n",
       "│      │ \u001b[90mFloat64\u001b[39m │ \u001b[90mFloat64\u001b[39m  │ \u001b[90mFloat64\u001b[39m │ \u001b[90mFloat64\u001b[39m │ \u001b[90mFloat64\u001b[39m  │ \u001b[90mFloat64\u001b[39m   │\n",
       "├──────┼─────────┼──────────┼─────────┼─────────┼──────────┼───────────┤\n",
       "│ 1    │ 2012.0  │ 1.90954  │ 1.0     │ 0.0     │ 0.0      │ 0.0       │\n",
       "│ 2    │ 2012.0  │ 2.00283  │ 0.0     │ 0.0     │ 0.0      │ 0.0       │\n",
       "│ 3    │ 2012.0  │ 0.289633 │ 1.0     │ 0.0     │ 0.0      │ 0.0       │\n",
       "│ 4    │ 2012.0  │ 3.14226  │ 1.0     │ 0.0     │ 1.0      │ 0.0       │\n",
       "│ 5    │ 2012.0  │ 1.75389  │ 0.0     │ 0.0     │ 0.0      │ 0.0       │\n",
       "│ 6    │ 2012.0  │ 2.05892  │ 0.0     │ 0.0     │ 0.0      │ 0.0       │\n",
       "│ 7    │ 2012.0  │ 2.42792  │ 0.0     │ 0.0     │ 0.0      │ 0.0       │\n",
       "│ 8    │ 2012.0  │ 3.37343  │ 0.0     │ 0.0     │ 0.0      │ 0.0       │\n",
       "│ 9    │ 2012.0  │ 2.52323  │ 1.0     │ 0.0     │ 0.0      │ 0.0       │\n",
       "│ 10   │ 2012.0  │ 1.8693   │ 1.0     │ 0.0     │ 0.0      │ 0.0       │\n",
       "⋮\n",
       "│ 7295 │ 2012.0  │ 3.44521  │ 0.0     │ 0.0     │ 0.0      │ 0.0       │\n",
       "│ 7296 │ 2012.0  │ 3.28537  │ 1.0     │ 0.0     │ 0.0      │ 0.0       │\n",
       "│ 7297 │ 2012.0  │ 2.50261  │ 1.0     │ 0.0     │ 0.0      │ 0.0       │\n",
       "│ 7298 │ 2012.0  │ 3.53223  │ 0.0     │ 0.0     │ 0.0      │ 0.0       │\n",
       "│ 7299 │ 2012.0  │ 2.52323  │ 1.0     │ 0.0     │ 0.0      │ 0.0       │\n",
       "│ 7300 │ 2012.0  │ 3.06222  │ 1.0     │ 0.0     │ 0.0      │ 0.0       │\n",
       "│ 7301 │ 2012.0  │ 2.93817  │ 0.0     │ 0.0     │ 0.0      │ 1.0       │\n",
       "│ 7302 │ 2012.0  │ 3.14226  │ 1.0     │ 0.0     │ 0.0      │ 0.0       │\n",
       "│ 7303 │ 2012.0  │ 3.57105  │ 0.0     │ 0.0     │ 0.0      │ 0.0       │\n",
       "│ 7304 │ 2012.0  │ 3.14226  │ 1.0     │ 0.0     │ 0.0      │ 0.0       │\n",
       "│ 7305 │ 2012.0  │ 3.14226  │ 0.0     │ 0.0     │ 0.0      │ 0.0       │"
      ]
     },
     "execution_count": 224,
     "metadata": {},
     "output_type": "execute_result"
    }
   ],
   "source": [
    "training = sample( collect(1:nrow( data ) ), trunc(Int, 3 * nrow( data ) / 4 ),  replace= false )\n",
    "\n",
    "data_train = data[ vec(training), : ]\n",
    "data_test = data[ Not(training), : ]"
   ]
  },
  {
   "cell_type": "markdown",
   "id": "7bc80e52",
   "metadata": {},
   "source": [
    "We construct the two different model matrices  𝑋𝑏𝑎𝑠𝑖𝑐  and  𝑋𝑓𝑙𝑒𝑥  for both the training and the test sample:"
   ]
  },
  {
   "cell_type": "code",
   "execution_count": 225,
   "id": "0c3fc997",
   "metadata": {},
   "outputs": [
    {
     "data": {
      "text/plain": [
       "(7305, 23)"
      ]
     },
     "execution_count": 225,
     "metadata": {},
     "output_type": "execute_result"
    }
   ],
   "source": [
    "size(data_test)"
   ]
  },
  {
   "cell_type": "code",
   "execution_count": 226,
   "id": "6909a8d4",
   "metadata": {},
   "outputs": [
    {
     "data": {
      "text/plain": [
       "(21912, 23)"
      ]
     },
     "execution_count": 226,
     "metadata": {},
     "output_type": "execute_result"
    }
   ],
   "source": [
    "size(data_train)"
   ]
  },
  {
   "cell_type": "code",
   "execution_count": 34,
   "id": "30cbf9df",
   "metadata": {
    "scrolled": true
   },
   "outputs": [
    {
     "data": {
      "text/plain": [
       "\"female + female : (widowed + divorced + separated + nevermarried +\\nhsd08 + hsd911 + hsg + cg + ad + mw + so + we + exp1 + exp2 + exp3) + (widowed + divorced + separated + nevermarried + hsd08 + hsd911 + hsg + cg + ad + mw + so +we + exp1 + exp2 + exp3) ^ 2\""
      ]
     },
     "execution_count": 34,
     "metadata": {},
     "output_type": "execute_result"
    }
   ],
   "source": [
    "X_basic =  \"female + female : (widowed + divorced + separated + nevermarried +\n",
    "hsd08 + hsd911 + hsg + cg + ad + mw + so + we + exp1 + exp2 + exp3)\"\n",
    "X_flex = \"female + female : (widowed + divorced + separated + nevermarried +\n",
    "hsd08 + hsd911 + hsg + cg + ad + mw + so + we + exp1 + exp2 + exp3) + (widowed + divorced + separated + nevermarried + hsd08 + hsd911 + hsg + cg + ad + mw + so +we + exp1 + exp2 + exp3) ^ 2\""
   ]
  },
  {
   "cell_type": "code",
   "execution_count": 227,
   "id": "f4174325",
   "metadata": {},
   "outputs": [
    {
     "data": {
      "text/plain": [
       "FormulaTerm\n",
       "Response:\n",
       "  lnw(unknown)\n",
       "Predictors:\n",
       "  female(unknown)\n",
       "  widowed(unknown)\n",
       "  divorced(unknown)\n",
       "  separated(unknown)\n",
       "  nevermarried(unknown)\n",
       "  hsd08(unknown)\n",
       "  hsd911(unknown)\n",
       "  hsg(unknown)\n",
       "  cg(unknown)\n",
       "  ad(unknown)\n",
       "  mw(unknown)\n",
       "  so(unknown)\n",
       "  we(unknown)\n",
       "  exp1(unknown)\n",
       "  exp2(unknown)\n",
       "  exp3(unknown)"
      ]
     },
     "execution_count": 227,
     "metadata": {},
     "output_type": "execute_result"
    }
   ],
   "source": [
    "formula_basic = @formula(lnw ~ (female + female + (widowed + divorced + separated + nevermarried +\n",
    "hsd08 + hsd911 + hsg + cg + ad + mw + so + we + exp1 + exp2 + exp3)))"
   ]
  },
  {
   "cell_type": "code",
   "execution_count": 228,
   "id": "b89f6352",
   "metadata": {},
   "outputs": [
    {
     "data": {
      "text/plain": [
       "FormulaTerm\n",
       "Response:\n",
       "  lnw(unknown)\n",
       "Predictors:\n",
       "  female(unknown)\n",
       "  widowed(unknown)\n",
       "  divorced(unknown)\n",
       "  separated(unknown)\n",
       "  nevermarried(unknown)\n",
       "  hsd08(unknown)\n",
       "  hsd911(unknown)\n",
       "  hsg(unknown)\n",
       "  cg(unknown)\n",
       "  ad(unknown)\n",
       "  mw(unknown)\n",
       "  so(unknown)\n",
       "  we(unknown)\n",
       "  exp1(unknown)\n",
       "  exp2(unknown)\n",
       "  exp3(unknown)\n",
       "  (widowed,divorced,separated,nevermarried,hsd08,hsd911,hsg,cg,ad,mw,so,we,exp1,exp2,exp3)->(widowed + divorced + separated + nevermarried + hsd08 + hsd911 + hsg + cg + ad + mw + so + we + exp1 + exp2 + exp3) ^ 2"
      ]
     },
     "execution_count": 228,
     "metadata": {},
     "output_type": "execute_result"
    }
   ],
   "source": [
    "formula_flex = @formula(lnw ~ (female + female +(widowed + divorced + separated + nevermarried +\n",
    "hsd08 + hsd911 + hsg + cg + ad + mw + so + we + exp1 + exp2 + exp3) + (widowed + divorced + separated + nevermarried + hsd08 + hsd911 + hsg + cg + ad + mw + so +we + exp1 + exp2 + exp3) ^ 2))\n"
   ]
  },
  {
   "cell_type": "code",
   "execution_count": 229,
   "id": "6f5c38c2",
   "metadata": {},
   "outputs": [
    {
     "data": {
      "text/plain": [
       "17"
      ]
     },
     "execution_count": 229,
     "metadata": {},
     "output_type": "execute_result"
    }
   ],
   "source": [
    "model_X_basic_train = ModelMatrix(ModelFrame(formula_basic,data_train)).m\n",
    "model_X_basic_test = ModelMatrix(ModelFrame(formula_basic,data_test)).m\n",
    "p_basic = size(model_X_basic_test)[2]"
   ]
  },
  {
   "cell_type": "code",
   "execution_count": 230,
   "id": "b1fd779e",
   "metadata": {},
   "outputs": [
    {
     "data": {
      "text/plain": [
       "18"
      ]
     },
     "execution_count": 230,
     "metadata": {},
     "output_type": "execute_result"
    }
   ],
   "source": [
    "model_X_flex_train = ModelMatrix(ModelFrame(formula_flex,data_train)).m\n",
    "model_X_flex_test = ModelMatrix(ModelFrame(formula_flex,data_test)).m\n",
    "p_flex = size(model_X_flex_test)[2]"
   ]
  },
  {
   "cell_type": "code",
   "execution_count": 134,
   "id": "47dc7860",
   "metadata": {},
   "outputs": [
    {
     "data": {
      "text/html": [
       "<table class=\"data-frame\"><thead><tr><th></th><th>lnw</th></tr><tr><th></th><th>Float64</th></tr></thead><tbody><p>7,305 rows × 1 columns</p><tr><th>1</th><td>1.90954</td></tr><tr><th>2</th><td>2.00283</td></tr><tr><th>3</th><td>0.289633</td></tr><tr><th>4</th><td>3.14226</td></tr><tr><th>5</th><td>1.75389</td></tr><tr><th>6</th><td>2.05892</td></tr><tr><th>7</th><td>2.42792</td></tr><tr><th>8</th><td>3.37343</td></tr><tr><th>9</th><td>2.52323</td></tr><tr><th>10</th><td>1.8693</td></tr><tr><th>11</th><td>2.43361</td></tr><tr><th>12</th><td>2.70555</td></tr><tr><th>13</th><td>2.43361</td></tr><tr><th>14</th><td>1.69666</td></tr><tr><th>15</th><td>2.26371</td></tr><tr><th>16</th><td>2.78779</td></tr><tr><th>17</th><td>2.65676</td></tr><tr><th>18</th><td>2.83111</td></tr><tr><th>19</th><td>2.05892</td></tr><tr><th>20</th><td>2.97521</td></tr><tr><th>21</th><td>2.1829</td></tr><tr><th>22</th><td>3.4189</td></tr><tr><th>23</th><td>2.83908</td></tr><tr><th>24</th><td>2.95686</td></tr><tr><th>25</th><td>2.87545</td></tr><tr><th>26</th><td>2.53897</td></tr><tr><th>27</th><td>2.36907</td></tr><tr><th>28</th><td>1.96361</td></tr><tr><th>29</th><td>2.65676</td></tr><tr><th>30</th><td>2.36907</td></tr><tr><th>&vellip;</th><td>&vellip;</td></tr></tbody></table>"
      ],
      "text/latex": [
       "\\begin{tabular}{r|c}\n",
       "\t& lnw\\\\\n",
       "\t\\hline\n",
       "\t& Float64\\\\\n",
       "\t\\hline\n",
       "\t1 & 1.90954 \\\\\n",
       "\t2 & 2.00283 \\\\\n",
       "\t3 & 0.289633 \\\\\n",
       "\t4 & 3.14226 \\\\\n",
       "\t5 & 1.75389 \\\\\n",
       "\t6 & 2.05892 \\\\\n",
       "\t7 & 2.42792 \\\\\n",
       "\t8 & 3.37343 \\\\\n",
       "\t9 & 2.52323 \\\\\n",
       "\t10 & 1.8693 \\\\\n",
       "\t11 & 2.43361 \\\\\n",
       "\t12 & 2.70555 \\\\\n",
       "\t13 & 2.43361 \\\\\n",
       "\t14 & 1.69666 \\\\\n",
       "\t15 & 2.26371 \\\\\n",
       "\t16 & 2.78779 \\\\\n",
       "\t17 & 2.65676 \\\\\n",
       "\t18 & 2.83111 \\\\\n",
       "\t19 & 2.05892 \\\\\n",
       "\t20 & 2.97521 \\\\\n",
       "\t21 & 2.1829 \\\\\n",
       "\t22 & 3.4189 \\\\\n",
       "\t23 & 2.83908 \\\\\n",
       "\t24 & 2.95686 \\\\\n",
       "\t25 & 2.87545 \\\\\n",
       "\t26 & 2.53897 \\\\\n",
       "\t27 & 2.36907 \\\\\n",
       "\t28 & 1.96361 \\\\\n",
       "\t29 & 2.65676 \\\\\n",
       "\t30 & 2.36907 \\\\\n",
       "\t$\\dots$ & $\\dots$ \\\\\n",
       "\\end{tabular}\n"
      ],
      "text/plain": [
       "7305×1 DataFrame\n",
       "│ Row  │ lnw      │\n",
       "│      │ \u001b[90mFloat64\u001b[39m  │\n",
       "├──────┼──────────┤\n",
       "│ 1    │ 1.90954  │\n",
       "│ 2    │ 2.00283  │\n",
       "│ 3    │ 0.289633 │\n",
       "│ 4    │ 3.14226  │\n",
       "│ 5    │ 1.75389  │\n",
       "│ 6    │ 2.05892  │\n",
       "│ 7    │ 2.42792  │\n",
       "│ 8    │ 3.37343  │\n",
       "│ 9    │ 2.52323  │\n",
       "│ 10   │ 1.8693   │\n",
       "⋮\n",
       "│ 7295 │ 3.44521  │\n",
       "│ 7296 │ 3.28537  │\n",
       "│ 7297 │ 2.50261  │\n",
       "│ 7298 │ 3.53223  │\n",
       "│ 7299 │ 2.52323  │\n",
       "│ 7300 │ 3.06222  │\n",
       "│ 7301 │ 2.93817  │\n",
       "│ 7302 │ 3.14226  │\n",
       "│ 7303 │ 3.57105  │\n",
       "│ 7304 │ 3.14226  │\n",
       "│ 7305 │ 3.14226  │"
      ]
     },
     "execution_count": 134,
     "metadata": {},
     "output_type": "execute_result"
    }
   ],
   "source": [
    "Y_train = data_train[!, [\"lnw\"]] # Dataframe format\n",
    "Y_test = data_test[ !,  [\"lnw\"]]"
   ]
  },
  {
   "cell_type": "code",
   "execution_count": 89,
   "id": "6126668b",
   "metadata": {},
   "outputs": [
    {
     "data": {
      "text/plain": [
       "18"
      ]
     },
     "execution_count": 89,
     "metadata": {},
     "output_type": "execute_result"
    }
   ],
   "source": [
    "p_basic\n",
    "p_flex"
   ]
  },
  {
   "cell_type": "markdown",
   "id": "2032df7f",
   "metadata": {},
   "source": [
    "# OLS\n"
   ]
  },
  {
   "cell_type": "markdown",
   "id": "543024e6",
   "metadata": {},
   "source": [
    "We fit the basic model to our training data by running an ols regression and compute the mean squared error on the test sample."
   ]
  },
  {
   "cell_type": "code",
   "execution_count": 90,
   "id": "8ded889c",
   "metadata": {},
   "outputs": [
    {
     "data": {
      "text/html": [
       "<table class=\"data-frame\"><thead><tr><th></th><th>year</th><th>lnw</th><th>female</th><th>widowed</th><th>divorced</th><th>separated</th><th>nevermarried</th><th>hsd08</th></tr><tr><th></th><th>Float64</th><th>Float64</th><th>Float64</th><th>Float64</th><th>Float64</th><th>Float64</th><th>Float64</th><th>Float64</th></tr></thead><tbody><p>21,912 rows × 23 columns (omitted printing of 15 columns)</p><tr><th>1</th><td>2012.0</td><td>3.2164</td><td>1.0</td><td>0.0</td><td>0.0</td><td>0.0</td><td>0.0</td><td>0.0</td></tr><tr><th>2</th><td>2012.0</td><td>3.46769</td><td>0.0</td><td>0.0</td><td>0.0</td><td>0.0</td><td>0.0</td><td>0.0</td></tr><tr><th>3</th><td>2012.0</td><td>2.75207</td><td>0.0</td><td>0.0</td><td>0.0</td><td>0.0</td><td>0.0</td><td>0.0</td></tr><tr><th>4</th><td>2012.0</td><td>3.38345</td><td>1.0</td><td>0.0</td><td>0.0</td><td>0.0</td><td>0.0</td><td>0.0</td></tr><tr><th>5</th><td>2012.0</td><td>3.18885</td><td>1.0</td><td>0.0</td><td>0.0</td><td>0.0</td><td>0.0</td><td>0.0</td></tr><tr><th>6</th><td>2012.0</td><td>2.46439</td><td>1.0</td><td>0.0</td><td>0.0</td><td>0.0</td><td>0.0</td><td>0.0</td></tr><tr><th>7</th><td>2012.0</td><td>3.22207</td><td>0.0</td><td>0.0</td><td>0.0</td><td>0.0</td><td>0.0</td><td>0.0</td></tr><tr><th>8</th><td>2012.0</td><td>2.26471</td><td>1.0</td><td>1.0</td><td>0.0</td><td>0.0</td><td>0.0</td><td>0.0</td></tr><tr><th>9</th><td>2012.0</td><td>2.99323</td><td>1.0</td><td>0.0</td><td>0.0</td><td>0.0</td><td>0.0</td><td>0.0</td></tr><tr><th>10</th><td>2012.0</td><td>2.05892</td><td>0.0</td><td>0.0</td><td>0.0</td><td>0.0</td><td>0.0</td><td>0.0</td></tr><tr><th>11</th><td>2012.0</td><td>3.12676</td><td>1.0</td><td>0.0</td><td>0.0</td><td>0.0</td><td>1.0</td><td>0.0</td></tr><tr><th>12</th><td>2012.0</td><td>3.83541</td><td>0.0</td><td>0.0</td><td>0.0</td><td>0.0</td><td>0.0</td><td>0.0</td></tr><tr><th>13</th><td>2012.0</td><td>2.62344</td><td>0.0</td><td>0.0</td><td>0.0</td><td>0.0</td><td>0.0</td><td>0.0</td></tr><tr><th>14</th><td>2012.0</td><td>2.77454</td><td>1.0</td><td>0.0</td><td>1.0</td><td>0.0</td><td>0.0</td><td>0.0</td></tr><tr><th>15</th><td>2012.0</td><td>2.74751</td><td>1.0</td><td>0.0</td><td>1.0</td><td>0.0</td><td>0.0</td><td>0.0</td></tr><tr><th>16</th><td>2012.0</td><td>2.09714</td><td>0.0</td><td>0.0</td><td>0.0</td><td>0.0</td><td>0.0</td><td>0.0</td></tr><tr><th>17</th><td>2012.0</td><td>2.91912</td><td>1.0</td><td>0.0</td><td>1.0</td><td>0.0</td><td>0.0</td><td>0.0</td></tr><tr><th>18</th><td>2012.0</td><td>3.24763</td><td>1.0</td><td>0.0</td><td>0.0</td><td>0.0</td><td>0.0</td><td>0.0</td></tr><tr><th>19</th><td>2012.0</td><td>1.96361</td><td>1.0</td><td>0.0</td><td>1.0</td><td>0.0</td><td>0.0</td><td>0.0</td></tr><tr><th>20</th><td>2012.0</td><td>2.33517</td><td>0.0</td><td>0.0</td><td>0.0</td><td>0.0</td><td>0.0</td><td>0.0</td></tr><tr><th>21</th><td>2012.0</td><td>3.01093</td><td>0.0</td><td>0.0</td><td>0.0</td><td>0.0</td><td>0.0</td><td>0.0</td></tr><tr><th>22</th><td>2012.0</td><td>2.05892</td><td>0.0</td><td>0.0</td><td>0.0</td><td>0.0</td><td>1.0</td><td>0.0</td></tr><tr><th>23</th><td>2012.0</td><td>1.99178</td><td>1.0</td><td>0.0</td><td>0.0</td><td>0.0</td><td>0.0</td><td>0.0</td></tr><tr><th>24</th><td>2012.0</td><td>2.50261</td><td>1.0</td><td>0.0</td><td>0.0</td><td>0.0</td><td>0.0</td><td>0.0</td></tr><tr><th>25</th><td>2012.0</td><td>2.70555</td><td>1.0</td><td>0.0</td><td>1.0</td><td>0.0</td><td>0.0</td><td>0.0</td></tr><tr><th>26</th><td>2012.0</td><td>2.4687</td><td>1.0</td><td>0.0</td><td>0.0</td><td>0.0</td><td>0.0</td><td>0.0</td></tr><tr><th>27</th><td>2012.0</td><td>3.0842</td><td>0.0</td><td>0.0</td><td>1.0</td><td>0.0</td><td>0.0</td><td>0.0</td></tr><tr><th>28</th><td>2012.0</td><td>3.12676</td><td>1.0</td><td>0.0</td><td>0.0</td><td>0.0</td><td>0.0</td><td>0.0</td></tr><tr><th>29</th><td>2012.0</td><td>2.8799</td><td>1.0</td><td>0.0</td><td>0.0</td><td>0.0</td><td>0.0</td><td>0.0</td></tr><tr><th>30</th><td>2012.0</td><td>2.85743</td><td>0.0</td><td>0.0</td><td>0.0</td><td>0.0</td><td>1.0</td><td>0.0</td></tr><tr><th>&vellip;</th><td>&vellip;</td><td>&vellip;</td><td>&vellip;</td><td>&vellip;</td><td>&vellip;</td><td>&vellip;</td><td>&vellip;</td><td>&vellip;</td></tr></tbody></table>"
      ],
      "text/latex": [
       "\\begin{tabular}{r|ccccccccc}\n",
       "\t& year & lnw & female & widowed & divorced & separated & nevermarried & hsd08 & \\\\\n",
       "\t\\hline\n",
       "\t& Float64 & Float64 & Float64 & Float64 & Float64 & Float64 & Float64 & Float64 & \\\\\n",
       "\t\\hline\n",
       "\t1 & 2012.0 & 3.2164 & 1.0 & 0.0 & 0.0 & 0.0 & 0.0 & 0.0 & $\\dots$ \\\\\n",
       "\t2 & 2012.0 & 3.46769 & 0.0 & 0.0 & 0.0 & 0.0 & 0.0 & 0.0 & $\\dots$ \\\\\n",
       "\t3 & 2012.0 & 2.75207 & 0.0 & 0.0 & 0.0 & 0.0 & 0.0 & 0.0 & $\\dots$ \\\\\n",
       "\t4 & 2012.0 & 3.38345 & 1.0 & 0.0 & 0.0 & 0.0 & 0.0 & 0.0 & $\\dots$ \\\\\n",
       "\t5 & 2012.0 & 3.18885 & 1.0 & 0.0 & 0.0 & 0.0 & 0.0 & 0.0 & $\\dots$ \\\\\n",
       "\t6 & 2012.0 & 2.46439 & 1.0 & 0.0 & 0.0 & 0.0 & 0.0 & 0.0 & $\\dots$ \\\\\n",
       "\t7 & 2012.0 & 3.22207 & 0.0 & 0.0 & 0.0 & 0.0 & 0.0 & 0.0 & $\\dots$ \\\\\n",
       "\t8 & 2012.0 & 2.26471 & 1.0 & 1.0 & 0.0 & 0.0 & 0.0 & 0.0 & $\\dots$ \\\\\n",
       "\t9 & 2012.0 & 2.99323 & 1.0 & 0.0 & 0.0 & 0.0 & 0.0 & 0.0 & $\\dots$ \\\\\n",
       "\t10 & 2012.0 & 2.05892 & 0.0 & 0.0 & 0.0 & 0.0 & 0.0 & 0.0 & $\\dots$ \\\\\n",
       "\t11 & 2012.0 & 3.12676 & 1.0 & 0.0 & 0.0 & 0.0 & 1.0 & 0.0 & $\\dots$ \\\\\n",
       "\t12 & 2012.0 & 3.83541 & 0.0 & 0.0 & 0.0 & 0.0 & 0.0 & 0.0 & $\\dots$ \\\\\n",
       "\t13 & 2012.0 & 2.62344 & 0.0 & 0.0 & 0.0 & 0.0 & 0.0 & 0.0 & $\\dots$ \\\\\n",
       "\t14 & 2012.0 & 2.77454 & 1.0 & 0.0 & 1.0 & 0.0 & 0.0 & 0.0 & $\\dots$ \\\\\n",
       "\t15 & 2012.0 & 2.74751 & 1.0 & 0.0 & 1.0 & 0.0 & 0.0 & 0.0 & $\\dots$ \\\\\n",
       "\t16 & 2012.0 & 2.09714 & 0.0 & 0.0 & 0.0 & 0.0 & 0.0 & 0.0 & $\\dots$ \\\\\n",
       "\t17 & 2012.0 & 2.91912 & 1.0 & 0.0 & 1.0 & 0.0 & 0.0 & 0.0 & $\\dots$ \\\\\n",
       "\t18 & 2012.0 & 3.24763 & 1.0 & 0.0 & 0.0 & 0.0 & 0.0 & 0.0 & $\\dots$ \\\\\n",
       "\t19 & 2012.0 & 1.96361 & 1.0 & 0.0 & 1.0 & 0.0 & 0.0 & 0.0 & $\\dots$ \\\\\n",
       "\t20 & 2012.0 & 2.33517 & 0.0 & 0.0 & 0.0 & 0.0 & 0.0 & 0.0 & $\\dots$ \\\\\n",
       "\t21 & 2012.0 & 3.01093 & 0.0 & 0.0 & 0.0 & 0.0 & 0.0 & 0.0 & $\\dots$ \\\\\n",
       "\t22 & 2012.0 & 2.05892 & 0.0 & 0.0 & 0.0 & 0.0 & 1.0 & 0.0 & $\\dots$ \\\\\n",
       "\t23 & 2012.0 & 1.99178 & 1.0 & 0.0 & 0.0 & 0.0 & 0.0 & 0.0 & $\\dots$ \\\\\n",
       "\t24 & 2012.0 & 2.50261 & 1.0 & 0.0 & 0.0 & 0.0 & 0.0 & 0.0 & $\\dots$ \\\\\n",
       "\t25 & 2012.0 & 2.70555 & 1.0 & 0.0 & 1.0 & 0.0 & 0.0 & 0.0 & $\\dots$ \\\\\n",
       "\t26 & 2012.0 & 2.4687 & 1.0 & 0.0 & 0.0 & 0.0 & 0.0 & 0.0 & $\\dots$ \\\\\n",
       "\t27 & 2012.0 & 3.0842 & 0.0 & 0.0 & 1.0 & 0.0 & 0.0 & 0.0 & $\\dots$ \\\\\n",
       "\t28 & 2012.0 & 3.12676 & 1.0 & 0.0 & 0.0 & 0.0 & 0.0 & 0.0 & $\\dots$ \\\\\n",
       "\t29 & 2012.0 & 2.8799 & 1.0 & 0.0 & 0.0 & 0.0 & 0.0 & 0.0 & $\\dots$ \\\\\n",
       "\t30 & 2012.0 & 2.85743 & 0.0 & 0.0 & 0.0 & 0.0 & 1.0 & 0.0 & $\\dots$ \\\\\n",
       "\t$\\dots$ & $\\dots$ & $\\dots$ & $\\dots$ & $\\dots$ & $\\dots$ & $\\dots$ & $\\dots$ & $\\dots$ &  \\\\\n",
       "\\end{tabular}\n"
      ],
      "text/plain": [
       "21912×23 DataFrame. Omitted printing of 17 columns\n",
       "│ Row   │ year    │ lnw      │ female  │ widowed │ divorced │ separated │\n",
       "│       │ \u001b[90mFloat64\u001b[39m │ \u001b[90mFloat64\u001b[39m  │ \u001b[90mFloat64\u001b[39m │ \u001b[90mFloat64\u001b[39m │ \u001b[90mFloat64\u001b[39m  │ \u001b[90mFloat64\u001b[39m   │\n",
       "├───────┼─────────┼──────────┼─────────┼─────────┼──────────┼───────────┤\n",
       "│ 1     │ 2012.0  │ 3.2164   │ 1.0     │ 0.0     │ 0.0      │ 0.0       │\n",
       "│ 2     │ 2012.0  │ 3.46769  │ 0.0     │ 0.0     │ 0.0      │ 0.0       │\n",
       "│ 3     │ 2012.0  │ 2.75207  │ 0.0     │ 0.0     │ 0.0      │ 0.0       │\n",
       "│ 4     │ 2012.0  │ 3.38345  │ 1.0     │ 0.0     │ 0.0      │ 0.0       │\n",
       "│ 5     │ 2012.0  │ 3.18885  │ 1.0     │ 0.0     │ 0.0      │ 0.0       │\n",
       "│ 6     │ 2012.0  │ 2.46439  │ 1.0     │ 0.0     │ 0.0      │ 0.0       │\n",
       "│ 7     │ 2012.0  │ 3.22207  │ 0.0     │ 0.0     │ 0.0      │ 0.0       │\n",
       "│ 8     │ 2012.0  │ 2.26471  │ 1.0     │ 1.0     │ 0.0      │ 0.0       │\n",
       "│ 9     │ 2012.0  │ 2.99323  │ 1.0     │ 0.0     │ 0.0      │ 0.0       │\n",
       "│ 10    │ 2012.0  │ 2.05892  │ 0.0     │ 0.0     │ 0.0      │ 0.0       │\n",
       "⋮\n",
       "│ 21902 │ 2012.0  │ 2.83908  │ 0.0     │ 0.0     │ 0.0      │ 0.0       │\n",
       "│ 21903 │ 2012.0  │ 4.24372  │ 0.0     │ 0.0     │ 0.0      │ 0.0       │\n",
       "│ 21904 │ 2012.0  │ 2.81091  │ 1.0     │ 0.0     │ 0.0      │ 0.0       │\n",
       "│ 21905 │ 2012.0  │ 3.66836  │ 1.0     │ 0.0     │ 0.0      │ 0.0       │\n",
       "│ 21906 │ 2012.0  │ 2.14593  │ 1.0     │ 0.0     │ 0.0      │ 0.0       │\n",
       "│ 21907 │ 2012.0  │ 0.577315 │ 0.0     │ 0.0     │ 0.0      │ 0.0       │\n",
       "│ 21908 │ 2012.0  │ 2.91912  │ 1.0     │ 0.0     │ 0.0      │ 0.0       │\n",
       "│ 21909 │ 2012.0  │ 3.02832  │ 1.0     │ 0.0     │ 0.0      │ 0.0       │\n",
       "│ 21910 │ 2012.0  │ 2.97521  │ 1.0     │ 0.0     │ 0.0      │ 0.0       │\n",
       "│ 21911 │ 2012.0  │ 2.52323  │ 1.0     │ 0.0     │ 0.0      │ 0.0       │\n",
       "│ 21912 │ 2012.0  │ 2.45423  │ 1.0     │ 0.0     │ 0.0      │ 0.0       │"
      ]
     },
     "execution_count": 90,
     "metadata": {},
     "output_type": "execute_result"
    }
   ],
   "source": [
    "data_train"
   ]
  },
  {
   "cell_type": "code",
   "execution_count": 91,
   "id": "ea528fb0",
   "metadata": {},
   "outputs": [
    {
     "data": {
      "text/plain": [
       "(21912, 23)"
      ]
     },
     "execution_count": 91,
     "metadata": {},
     "output_type": "execute_result"
    }
   ],
   "source": [
    "size( data_train )"
   ]
  },
  {
   "cell_type": "code",
   "execution_count": 92,
   "id": "e988c9cd",
   "metadata": {},
   "outputs": [
    {
     "data": {
      "text/plain": [
       "StatsModels.TableRegressionModel{LinearModel{GLM.LmResp{Vector{Float64}}, GLM.DensePredChol{Float64, CholeskyPivoted{Float64, Matrix{Float64}}}}, Matrix{Float64}}\n",
       "\n",
       "lnw ~ 1 + female + widowed + divorced + separated + nevermarried + hsd08 + hsd911 + hsg + cg + ad + mw + so + we + exp1 + exp2 + exp3\n",
       "\n",
       "Coefficients:\n",
       "────────────────────────────────────────────────────────────────────────────────\n",
       "                    Coef.  Std. Error       t  Pr(>|t|)    Lower 95%   Upper 95%\n",
       "────────────────────────────────────────────────────────────────────────────────\n",
       "(Intercept)    2.43808     0.0297804    81.87    <1e-99   2.37971      2.49646\n",
       "female        -0.2693      0.00796776  -33.80    <1e-99  -0.284918    -0.253683\n",
       "widowed       -0.191484    0.0456718    -4.19    <1e-04  -0.281005    -0.101964\n",
       "divorced      -0.0731377   0.0125568    -5.82    <1e-08  -0.09775     -0.0485254\n",
       "separated     -0.0949229   0.0309356    -3.07    0.0022  -0.155559    -0.0342869\n",
       "nevermarried  -0.130873    0.011549    -11.33    <1e-28  -0.15351     -0.108236\n",
       "hsd08         -0.619778    0.0629185    -9.85    <1e-22  -0.743103    -0.496453\n",
       "hsd911        -0.387876    0.0275539   -14.08    <1e-44  -0.441883    -0.333868\n",
       "hsg           -0.17241     0.0108462   -15.90    <1e-55  -0.19367     -0.151151\n",
       "cg             0.358489    0.0104628    34.26    <1e-99   0.337981     0.378997\n",
       "ad             0.602316    0.0125741    47.90    <1e-99   0.57767      0.626962\n",
       "mw            -0.106145    0.0109591    -9.69    <1e-21  -0.127625    -0.084664\n",
       "so            -0.0582388   0.0110344    -5.28    <1e-06  -0.079867    -0.0366106\n",
       "we            -0.00996044  0.0120149    -0.83    0.4071  -0.0335106    0.0135897\n",
       "exp1           0.0483742   0.00540415    8.95    <1e-18   0.0377816    0.0589667\n",
       "exp2          -0.166293    0.0321907    -5.17    <1e-06  -0.229389    -0.103197\n",
       "exp3           0.0201478   0.0057466     3.51    0.0005   0.00888409   0.0314116\n",
       "────────────────────────────────────────────────────────────────────────────────"
      ]
     },
     "execution_count": 92,
     "metadata": {},
     "output_type": "execute_result"
    }
   ],
   "source": [
    "fit_lm_basic = lm(formula_basic, data_train)"
   ]
  },
  {
   "cell_type": "code",
   "execution_count": 93,
   "id": "e369b25d",
   "metadata": {},
   "outputs": [
    {
     "name": "stdout",
     "output_type": "stream",
     "text": [
      "The mean squared error (MSE) using the basic model is equal to 0.33764952933988224"
     ]
    }
   ],
   "source": [
    "# Compute the Out-Of-Sample Performance\n",
    "yhat_lm_basic = GLM.predict( fit_lm_basic , data_test )\n",
    "res_lm_basic = ( Y_test[!,1] - yhat_lm_basic ).^ 2\n",
    "print(\"The mean squared error (MSE) using the basic model is equal to \" , mean( res_lm_basic ) ) # MSE OLS (basic model)  "
   ]
  },
  {
   "cell_type": "markdown",
   "id": "214bc86a",
   "metadata": {},
   "source": [
    "To determine the out-of-sample  𝑀𝑆𝐸  and the standard error in one step, we can use the function lm:"
   ]
  },
  {
   "cell_type": "code",
   "execution_count": 94,
   "id": "84daab4a",
   "metadata": {},
   "outputs": [
    {
     "data": {
      "text/plain": [
       "2-element Vector{Vector{Float64}}:\n",
       " [0.3376495293398821]\n",
       " [0.02338038641025037]"
      ]
     },
     "execution_count": 94,
     "metadata": {},
     "output_type": "execute_result"
    }
   ],
   "source": [
    "matrix_ones = ones( size(res_lm_basic)[1] ,1 )\n",
    "mean_residuals = lm(  matrix_ones, res_lm_basic )   # first argument (X), secind argument (Y)\n",
    "MSE_lm_basic = [ coef( mean_residuals ) , stderror( mean_residuals ) ]\n",
    "MSE_lm_basic"
   ]
  },
  {
   "cell_type": "markdown",
   "id": "4ae51ae2",
   "metadata": {},
   "source": [
    "We also compute the out-of-sample  𝑅2 :"
   ]
  },
  {
   "cell_type": "code",
   "execution_count": 95,
   "id": "e6312fdc",
   "metadata": {},
   "outputs": [
    {
     "name": "stdout",
     "output_type": "stream",
     "text": [
      "The R^2 using the basic model is equal to 0.2469955679371647"
     ]
    }
   ],
   "source": [
    "R2_lm_basic = 1 .- ( MSE_lm_basic[1] / var( Y_test[!,1] ) )\n",
    "print( \"The R^2 using the basic model is equal to \", R2_lm_basic[1] ) # MSE OLS (basic model) "
   ]
  },
  {
   "cell_type": "markdown",
   "id": "c11c10d4",
   "metadata": {},
   "source": [
    "We repeat the same procedure for the flexible model."
   ]
  },
  {
   "cell_type": "code",
   "execution_count": 107,
   "id": "0b783355",
   "metadata": {},
   "outputs": [
    {
     "name": "stdout",
     "output_type": "stream",
     "text": [
      "The R^2 using the basic model is equal to 0.24698185407019946"
     ]
    }
   ],
   "source": [
    "# ols (flexible model)\n",
    "fit_lm_flex = lm( formula_flex, data_train ) \n",
    "yhat_lm_flex = GLM.predict( fit_lm_flex, data_test)\n",
    "\n",
    "res_lm_flex = ( Y_test[!,1] - yhat_lm_flex ) .^ 2\n",
    "mean_residuals = lm(  matrix_ones, res_lm_flex )\n",
    "MSE_lm_flex = [ coef( mean_residuals ) , stderror( mean_residuals ) ]\n",
    "\n",
    "R2_lm_flex = 1 .- ( MSE_lm_flex[1] / var( Y_test[!,1] ) )\n",
    "print( \"The R^2 using the basic model is equal to \", R2_lm_flex[1] ) # MSE OLS (flex model) "
   ]
  },
  {
   "cell_type": "markdown",
   "id": "fa70d7b4",
   "metadata": {},
   "source": [
    "## Lasso, Ridge and Elastic Net"
   ]
  },
  {
   "cell_type": "markdown",
   "id": "5ad0cc18",
   "metadata": {},
   "source": [
    "Considering the basic model, we run a lasso/post-lasso regression first and then we compute the measures for the out-of-sample performance. Note that applying the package hdm and the function rlasso we rely on a theoretical based choice of the penalty level  𝜆  in the lasso regression."
   ]
  },
  {
   "cell_type": "code",
   "execution_count": 135,
   "id": "0db5219e",
   "metadata": {},
   "outputs": [
    {
     "name": "stderr",
     "output_type": "stream",
     "text": [
      "\u001b[32m\u001b[1m   Resolving\u001b[22m\u001b[39m package versions...\n",
      "\u001b[32m\u001b[1m  No Changes\u001b[22m\u001b[39m to `C:\\Users\\acoap\\.julia\\environments\\v1.7\\Project.toml`\n",
      "\u001b[32m\u001b[1m  No Changes\u001b[22m\u001b[39m to `C:\\Users\\acoap\\.julia\\environments\\v1.7\\Manifest.toml`\n",
      "\u001b[32m\u001b[1m   Resolving\u001b[22m\u001b[39m package versions...\n",
      "\u001b[32m\u001b[1m  No Changes\u001b[22m\u001b[39m to `C:\\Users\\acoap\\.julia\\environments\\v1.7\\Project.toml`\n",
      "\u001b[32m\u001b[1m  No Changes\u001b[22m\u001b[39m to `C:\\Users\\acoap\\.julia\\environments\\v1.7\\Manifest.toml`\n"
     ]
    }
   ],
   "source": [
    "\n",
    "import Pkg;Pkg.add(\"FreqTables\")\n",
    "\n",
    "import Pkg; Pkg.add(\"TableOperations\")\n",
    "using DelimitedFiles, DataFrames, Lasso"
   ]
  },
  {
   "cell_type": "code",
   "execution_count": 136,
   "id": "20ff5bf4",
   "metadata": {},
   "outputs": [],
   "source": [
    "# load HDM package\n",
    "\n",
    "include(\"C:\\\\Users\\\\acoap\\\\Documents\\\\Github_\\\\ECO224\\\\Labs\\\\Julia_Notebooks\\\\hdmjl\\\\hdmjl.jl\")"
   ]
  },
  {
   "cell_type": "code",
   "execution_count": 137,
   "id": "020d01fc",
   "metadata": {
    "scrolled": true
   },
   "outputs": [
    {
     "data": {
      "text/html": [
       "<table class=\"data-frame\"><thead><tr><th></th><th>(Intercept)</th><th>female</th><th>widowed</th><th>divorced</th><th>separated</th><th>nevermarried</th><th>hsd08</th><th>hsd911</th></tr><tr><th></th><th>Float64</th><th>Float64</th><th>Float64</th><th>Float64</th><th>Float64</th><th>Float64</th><th>Float64</th><th>Float64</th></tr></thead><tbody><p>21,912 rows × 17 columns (omitted printing of 9 columns)</p><tr><th>1</th><td>1.0</td><td>1.0</td><td>0.0</td><td>0.0</td><td>0.0</td><td>0.0</td><td>0.0</td><td>0.0</td></tr><tr><th>2</th><td>1.0</td><td>0.0</td><td>0.0</td><td>0.0</td><td>0.0</td><td>0.0</td><td>0.0</td><td>0.0</td></tr><tr><th>3</th><td>1.0</td><td>0.0</td><td>0.0</td><td>0.0</td><td>0.0</td><td>0.0</td><td>0.0</td><td>0.0</td></tr><tr><th>4</th><td>1.0</td><td>1.0</td><td>0.0</td><td>0.0</td><td>0.0</td><td>0.0</td><td>0.0</td><td>0.0</td></tr><tr><th>5</th><td>1.0</td><td>1.0</td><td>0.0</td><td>0.0</td><td>0.0</td><td>0.0</td><td>0.0</td><td>0.0</td></tr><tr><th>6</th><td>1.0</td><td>1.0</td><td>0.0</td><td>0.0</td><td>0.0</td><td>0.0</td><td>0.0</td><td>0.0</td></tr><tr><th>7</th><td>1.0</td><td>0.0</td><td>0.0</td><td>0.0</td><td>0.0</td><td>0.0</td><td>0.0</td><td>0.0</td></tr><tr><th>8</th><td>1.0</td><td>1.0</td><td>1.0</td><td>0.0</td><td>0.0</td><td>0.0</td><td>0.0</td><td>0.0</td></tr><tr><th>9</th><td>1.0</td><td>1.0</td><td>0.0</td><td>0.0</td><td>0.0</td><td>0.0</td><td>0.0</td><td>0.0</td></tr><tr><th>10</th><td>1.0</td><td>0.0</td><td>0.0</td><td>0.0</td><td>0.0</td><td>0.0</td><td>0.0</td><td>0.0</td></tr><tr><th>11</th><td>1.0</td><td>1.0</td><td>0.0</td><td>0.0</td><td>0.0</td><td>1.0</td><td>0.0</td><td>0.0</td></tr><tr><th>12</th><td>1.0</td><td>0.0</td><td>0.0</td><td>0.0</td><td>0.0</td><td>0.0</td><td>0.0</td><td>0.0</td></tr><tr><th>13</th><td>1.0</td><td>0.0</td><td>0.0</td><td>0.0</td><td>0.0</td><td>0.0</td><td>0.0</td><td>0.0</td></tr><tr><th>14</th><td>1.0</td><td>1.0</td><td>0.0</td><td>1.0</td><td>0.0</td><td>0.0</td><td>0.0</td><td>0.0</td></tr><tr><th>15</th><td>1.0</td><td>1.0</td><td>0.0</td><td>1.0</td><td>0.0</td><td>0.0</td><td>0.0</td><td>0.0</td></tr><tr><th>16</th><td>1.0</td><td>0.0</td><td>0.0</td><td>0.0</td><td>0.0</td><td>0.0</td><td>0.0</td><td>0.0</td></tr><tr><th>17</th><td>1.0</td><td>1.0</td><td>0.0</td><td>1.0</td><td>0.0</td><td>0.0</td><td>0.0</td><td>0.0</td></tr><tr><th>18</th><td>1.0</td><td>1.0</td><td>0.0</td><td>0.0</td><td>0.0</td><td>0.0</td><td>0.0</td><td>0.0</td></tr><tr><th>19</th><td>1.0</td><td>1.0</td><td>0.0</td><td>1.0</td><td>0.0</td><td>0.0</td><td>0.0</td><td>0.0</td></tr><tr><th>20</th><td>1.0</td><td>0.0</td><td>0.0</td><td>0.0</td><td>0.0</td><td>0.0</td><td>0.0</td><td>0.0</td></tr><tr><th>21</th><td>1.0</td><td>0.0</td><td>0.0</td><td>0.0</td><td>0.0</td><td>0.0</td><td>0.0</td><td>0.0</td></tr><tr><th>22</th><td>1.0</td><td>0.0</td><td>0.0</td><td>0.0</td><td>0.0</td><td>1.0</td><td>0.0</td><td>0.0</td></tr><tr><th>23</th><td>1.0</td><td>1.0</td><td>0.0</td><td>0.0</td><td>0.0</td><td>0.0</td><td>0.0</td><td>0.0</td></tr><tr><th>24</th><td>1.0</td><td>1.0</td><td>0.0</td><td>0.0</td><td>0.0</td><td>0.0</td><td>0.0</td><td>0.0</td></tr><tr><th>25</th><td>1.0</td><td>1.0</td><td>0.0</td><td>1.0</td><td>0.0</td><td>0.0</td><td>0.0</td><td>0.0</td></tr><tr><th>26</th><td>1.0</td><td>1.0</td><td>0.0</td><td>0.0</td><td>0.0</td><td>0.0</td><td>0.0</td><td>0.0</td></tr><tr><th>27</th><td>1.0</td><td>0.0</td><td>0.0</td><td>1.0</td><td>0.0</td><td>0.0</td><td>0.0</td><td>0.0</td></tr><tr><th>28</th><td>1.0</td><td>1.0</td><td>0.0</td><td>0.0</td><td>0.0</td><td>0.0</td><td>0.0</td><td>0.0</td></tr><tr><th>29</th><td>1.0</td><td>1.0</td><td>0.0</td><td>0.0</td><td>0.0</td><td>0.0</td><td>0.0</td><td>0.0</td></tr><tr><th>30</th><td>1.0</td><td>0.0</td><td>0.0</td><td>0.0</td><td>0.0</td><td>1.0</td><td>0.0</td><td>0.0</td></tr><tr><th>&vellip;</th><td>&vellip;</td><td>&vellip;</td><td>&vellip;</td><td>&vellip;</td><td>&vellip;</td><td>&vellip;</td><td>&vellip;</td><td>&vellip;</td></tr></tbody></table>"
      ],
      "text/latex": [
       "\\begin{tabular}{r|ccccccccc}\n",
       "\t& (Intercept) & female & widowed & divorced & separated & nevermarried & hsd08 & hsd911 & \\\\\n",
       "\t\\hline\n",
       "\t& Float64 & Float64 & Float64 & Float64 & Float64 & Float64 & Float64 & Float64 & \\\\\n",
       "\t\\hline\n",
       "\t1 & 1.0 & 1.0 & 0.0 & 0.0 & 0.0 & 0.0 & 0.0 & 0.0 & $\\dots$ \\\\\n",
       "\t2 & 1.0 & 0.0 & 0.0 & 0.0 & 0.0 & 0.0 & 0.0 & 0.0 & $\\dots$ \\\\\n",
       "\t3 & 1.0 & 0.0 & 0.0 & 0.0 & 0.0 & 0.0 & 0.0 & 0.0 & $\\dots$ \\\\\n",
       "\t4 & 1.0 & 1.0 & 0.0 & 0.0 & 0.0 & 0.0 & 0.0 & 0.0 & $\\dots$ \\\\\n",
       "\t5 & 1.0 & 1.0 & 0.0 & 0.0 & 0.0 & 0.0 & 0.0 & 0.0 & $\\dots$ \\\\\n",
       "\t6 & 1.0 & 1.0 & 0.0 & 0.0 & 0.0 & 0.0 & 0.0 & 0.0 & $\\dots$ \\\\\n",
       "\t7 & 1.0 & 0.0 & 0.0 & 0.0 & 0.0 & 0.0 & 0.0 & 0.0 & $\\dots$ \\\\\n",
       "\t8 & 1.0 & 1.0 & 1.0 & 0.0 & 0.0 & 0.0 & 0.0 & 0.0 & $\\dots$ \\\\\n",
       "\t9 & 1.0 & 1.0 & 0.0 & 0.0 & 0.0 & 0.0 & 0.0 & 0.0 & $\\dots$ \\\\\n",
       "\t10 & 1.0 & 0.0 & 0.0 & 0.0 & 0.0 & 0.0 & 0.0 & 0.0 & $\\dots$ \\\\\n",
       "\t11 & 1.0 & 1.0 & 0.0 & 0.0 & 0.0 & 1.0 & 0.0 & 0.0 & $\\dots$ \\\\\n",
       "\t12 & 1.0 & 0.0 & 0.0 & 0.0 & 0.0 & 0.0 & 0.0 & 0.0 & $\\dots$ \\\\\n",
       "\t13 & 1.0 & 0.0 & 0.0 & 0.0 & 0.0 & 0.0 & 0.0 & 0.0 & $\\dots$ \\\\\n",
       "\t14 & 1.0 & 1.0 & 0.0 & 1.0 & 0.0 & 0.0 & 0.0 & 0.0 & $\\dots$ \\\\\n",
       "\t15 & 1.0 & 1.0 & 0.0 & 1.0 & 0.0 & 0.0 & 0.0 & 0.0 & $\\dots$ \\\\\n",
       "\t16 & 1.0 & 0.0 & 0.0 & 0.0 & 0.0 & 0.0 & 0.0 & 0.0 & $\\dots$ \\\\\n",
       "\t17 & 1.0 & 1.0 & 0.0 & 1.0 & 0.0 & 0.0 & 0.0 & 0.0 & $\\dots$ \\\\\n",
       "\t18 & 1.0 & 1.0 & 0.0 & 0.0 & 0.0 & 0.0 & 0.0 & 0.0 & $\\dots$ \\\\\n",
       "\t19 & 1.0 & 1.0 & 0.0 & 1.0 & 0.0 & 0.0 & 0.0 & 0.0 & $\\dots$ \\\\\n",
       "\t20 & 1.0 & 0.0 & 0.0 & 0.0 & 0.0 & 0.0 & 0.0 & 0.0 & $\\dots$ \\\\\n",
       "\t21 & 1.0 & 0.0 & 0.0 & 0.0 & 0.0 & 0.0 & 0.0 & 0.0 & $\\dots$ \\\\\n",
       "\t22 & 1.0 & 0.0 & 0.0 & 0.0 & 0.0 & 1.0 & 0.0 & 0.0 & $\\dots$ \\\\\n",
       "\t23 & 1.0 & 1.0 & 0.0 & 0.0 & 0.0 & 0.0 & 0.0 & 0.0 & $\\dots$ \\\\\n",
       "\t24 & 1.0 & 1.0 & 0.0 & 0.0 & 0.0 & 0.0 & 0.0 & 0.0 & $\\dots$ \\\\\n",
       "\t25 & 1.0 & 1.0 & 0.0 & 1.0 & 0.0 & 0.0 & 0.0 & 0.0 & $\\dots$ \\\\\n",
       "\t26 & 1.0 & 1.0 & 0.0 & 0.0 & 0.0 & 0.0 & 0.0 & 0.0 & $\\dots$ \\\\\n",
       "\t27 & 1.0 & 0.0 & 0.0 & 1.0 & 0.0 & 0.0 & 0.0 & 0.0 & $\\dots$ \\\\\n",
       "\t28 & 1.0 & 1.0 & 0.0 & 0.0 & 0.0 & 0.0 & 0.0 & 0.0 & $\\dots$ \\\\\n",
       "\t29 & 1.0 & 1.0 & 0.0 & 0.0 & 0.0 & 0.0 & 0.0 & 0.0 & $\\dots$ \\\\\n",
       "\t30 & 1.0 & 0.0 & 0.0 & 0.0 & 0.0 & 1.0 & 0.0 & 0.0 & $\\dots$ \\\\\n",
       "\t$\\dots$ & $\\dots$ & $\\dots$ & $\\dots$ & $\\dots$ & $\\dots$ & $\\dots$ & $\\dots$ & $\\dots$ &  \\\\\n",
       "\\end{tabular}\n"
      ],
      "text/plain": [
       "21912×17 DataFrame. Omitted printing of 12 columns\n",
       "│ Row   │ (Intercept) │ female  │ widowed │ divorced │ separated │\n",
       "│       │ \u001b[90mFloat64\u001b[39m     │ \u001b[90mFloat64\u001b[39m │ \u001b[90mFloat64\u001b[39m │ \u001b[90mFloat64\u001b[39m  │ \u001b[90mFloat64\u001b[39m   │\n",
       "├───────┼─────────────┼─────────┼─────────┼──────────┼───────────┤\n",
       "│ 1     │ 1.0         │ 1.0     │ 0.0     │ 0.0      │ 0.0       │\n",
       "│ 2     │ 1.0         │ 0.0     │ 0.0     │ 0.0      │ 0.0       │\n",
       "│ 3     │ 1.0         │ 0.0     │ 0.0     │ 0.0      │ 0.0       │\n",
       "│ 4     │ 1.0         │ 1.0     │ 0.0     │ 0.0      │ 0.0       │\n",
       "│ 5     │ 1.0         │ 1.0     │ 0.0     │ 0.0      │ 0.0       │\n",
       "│ 6     │ 1.0         │ 1.0     │ 0.0     │ 0.0      │ 0.0       │\n",
       "│ 7     │ 1.0         │ 0.0     │ 0.0     │ 0.0      │ 0.0       │\n",
       "│ 8     │ 1.0         │ 1.0     │ 1.0     │ 0.0      │ 0.0       │\n",
       "│ 9     │ 1.0         │ 1.0     │ 0.0     │ 0.0      │ 0.0       │\n",
       "│ 10    │ 1.0         │ 0.0     │ 0.0     │ 0.0      │ 0.0       │\n",
       "⋮\n",
       "│ 21902 │ 1.0         │ 0.0     │ 0.0     │ 0.0      │ 0.0       │\n",
       "│ 21903 │ 1.0         │ 0.0     │ 0.0     │ 0.0      │ 0.0       │\n",
       "│ 21904 │ 1.0         │ 1.0     │ 0.0     │ 0.0      │ 0.0       │\n",
       "│ 21905 │ 1.0         │ 1.0     │ 0.0     │ 0.0      │ 0.0       │\n",
       "│ 21906 │ 1.0         │ 1.0     │ 0.0     │ 0.0      │ 0.0       │\n",
       "│ 21907 │ 1.0         │ 0.0     │ 0.0     │ 0.0      │ 0.0       │\n",
       "│ 21908 │ 1.0         │ 1.0     │ 0.0     │ 0.0      │ 0.0       │\n",
       "│ 21909 │ 1.0         │ 1.0     │ 0.0     │ 0.0      │ 0.0       │\n",
       "│ 21910 │ 1.0         │ 1.0     │ 0.0     │ 0.0      │ 0.0       │\n",
       "│ 21911 │ 1.0         │ 1.0     │ 0.0     │ 0.0      │ 0.0       │\n",
       "│ 21912 │ 1.0         │ 1.0     │ 0.0     │ 0.0      │ 0.0       │"
      ]
     },
     "execution_count": 137,
     "metadata": {},
     "output_type": "execute_result"
    }
   ],
   "source": [
    "names_col1 = Symbol.(coefnames(fit_lm_basic))\n",
    "X1 = DataFrame(model_X_basic_train, names_col1 )"
   ]
  },
  {
   "cell_type": "code",
   "execution_count": 231,
   "id": "c8bcaada",
   "metadata": {},
   "outputs": [
    {
     "ename": "LoadError",
     "evalue": "MethodError: no method matching DataFrame(::Vector{Vector}, ::Symbol)\n\u001b[0mClosest candidates are:\n\u001b[0m  DataFrame(::AbstractVector{<:AbstractVector}, \u001b[91m::AbstractVector{<:AbstractString}\u001b[39m; makeunique, copycols) at C:\\Users\\acoap\\.julia\\packages\\DataFrames\\GtZ1l\\src\\dataframe\\dataframe.jl:249\n\u001b[0m  DataFrame(::AbstractVector{<:AbstractVector}, \u001b[91m::AbstractVector{Symbol}\u001b[39m; makeunique, copycols) at C:\\Users\\acoap\\.julia\\packages\\DataFrames\\GtZ1l\\src\\dataframe\\dataframe.jl:242\n\u001b[0m  DataFrame(::AbstractVector, \u001b[91m::AbstractVector{<:AbstractString}\u001b[39m; makeunique, copycols) at C:\\Users\\acoap\\.julia\\packages\\DataFrames\\GtZ1l\\src\\dataframe\\dataframe.jl:237\n\u001b[0m  ...",
     "output_type": "error",
     "traceback": [
      "MethodError: no method matching DataFrame(::Vector{Vector}, ::Symbol)\n\u001b[0mClosest candidates are:\n\u001b[0m  DataFrame(::AbstractVector{<:AbstractVector}, \u001b[91m::AbstractVector{<:AbstractString}\u001b[39m; makeunique, copycols) at C:\\Users\\acoap\\.julia\\packages\\DataFrames\\GtZ1l\\src\\dataframe\\dataframe.jl:249\n\u001b[0m  DataFrame(::AbstractVector{<:AbstractVector}, \u001b[91m::AbstractVector{Symbol}\u001b[39m; makeunique, copycols) at C:\\Users\\acoap\\.julia\\packages\\DataFrames\\GtZ1l\\src\\dataframe\\dataframe.jl:242\n\u001b[0m  DataFrame(::AbstractVector, \u001b[91m::AbstractVector{<:AbstractString}\u001b[39m; makeunique, copycols) at C:\\Users\\acoap\\.julia\\packages\\DataFrames\\GtZ1l\\src\\dataframe\\dataframe.jl:237\n\u001b[0m  ...",
      "",
      "Stacktrace:",
      " [1] rlasso(self::rlasso_arg)",
      "   @ Main C:\\Users\\acoap\\Documents\\Github_\\ECO224\\Labs\\Julia_Notebooks\\hdmjl\\hdmjl.jl:668",
      " [2] top-level scope",
      "   @ In[231]:9",
      " [3] eval",
      "   @ .\\boot.jl:373 [inlined]",
      " [4] include_string(mapexpr::typeof(REPL.softscope), mod::Module, code::String, filename::String)",
      "   @ Base .\\loading.jl:1196"
     ]
    }
   ],
   "source": [
    "# basic model \n",
    "# not post - lasso (HDM)\n",
    "# first false for Not post lasso, second false for not intercetp\n",
    "\n",
    "\n",
    "rlasso_basic  = rlasso_arg( X1, Y_train, nothing, false, false, true, false, false, \n",
    "                    nothing, 1.1, nothing, 5000, 15, 10^(-5), -Inf, true, Inf, true )\n",
    "\n",
    "fit_rlasso_basic = rlasso(rlasso_basic)\n",
    "\n",
    "\n",
    "# post - lasso (HDM)\n",
    "rlasso_basic_post  = rlasso_arg( X1, Y_train, nothing, true, false, true, false, false, \n",
    "                    nothing, 1.1, nothing, 5000, 15, 10^(-5), -Inf, true, Inf, true )\n",
    "\n",
    "fit_rlasso_basic_post = rlasso(rlasso_basic_post)\n",
    "\n",
    "yhat_rlasso = model_X_basic_test*fit_rlasso_basic[\"coefficients\"] \n",
    "yhat_rlasso_post = model_X_basic_test*fit_rlasso_basic_post[\"coefficients\"] \n",
    "\n",
    "\n",
    "res_rlasso_basic = ( Y_test[!,1] - yhat_rlasso ).^ 2\n",
    "matrix_ones = ones( size(res_rlasso_basic)[1] ,1 )\n",
    "mean_residuals = lm(  matrix_ones, res_rlasso_basic )  \n",
    "MSE_rlasso_basic = [ coef( mean_residuals ) , stderror( mean_residuals ) ]\n",
    "R2_rlasso_basic = 1 .- ( MSE_rlasso_basic[1] / var(Y_test[!,1]) ) \n",
    "\n",
    "res_rlasso_basic_post = ( Y_test[!,1] - yhat_rlasso_post ).^ 2\n",
    "matrix_ones = ones( size(res_rlasso_basic_post)[1] ,1 )\n",
    "mean_residuals = lm(  matrix_ones, res_rlasso_basic_post )  \n",
    "MSE_rlasso_basic_post = [ coef( mean_residuals ) , stderror( mean_residuals ) ]\n",
    "R2_rlasso_basic_post = 1 .- ( MSE_rlasso_basic_post[1] / var(Y_test[!,1]) ) "
   ]
  },
  {
   "cell_type": "markdown",
   "id": "ab60682b",
   "metadata": {},
   "source": [
    "## Flexible Model"
   ]
  },
  {
   "cell_type": "code",
   "execution_count": 232,
   "id": "a6a4f6cc",
   "metadata": {},
   "outputs": [
    {
     "data": {
      "text/html": [
       "<table class=\"data-frame\"><thead><tr><th></th><th>(Intercept)</th><th>female</th><th>widowed</th><th>divorced</th><th>separated</th><th>nevermarried</th><th>hsd08</th><th>hsd911</th></tr><tr><th></th><th>Float64</th><th>Float64</th><th>Float64</th><th>Float64</th><th>Float64</th><th>Float64</th><th>Float64</th><th>Float64</th></tr></thead><tbody><p>21,912 rows × 18 columns (omitted printing of 10 columns)</p><tr><th>1</th><td>1.0</td><td>1.0</td><td>0.0</td><td>0.0</td><td>0.0</td><td>0.0</td><td>0.0</td><td>0.0</td></tr><tr><th>2</th><td>1.0</td><td>0.0</td><td>0.0</td><td>0.0</td><td>0.0</td><td>0.0</td><td>0.0</td><td>0.0</td></tr><tr><th>3</th><td>1.0</td><td>0.0</td><td>0.0</td><td>0.0</td><td>0.0</td><td>0.0</td><td>0.0</td><td>0.0</td></tr><tr><th>4</th><td>1.0</td><td>1.0</td><td>0.0</td><td>0.0</td><td>0.0</td><td>0.0</td><td>0.0</td><td>0.0</td></tr><tr><th>5</th><td>1.0</td><td>1.0</td><td>0.0</td><td>0.0</td><td>0.0</td><td>0.0</td><td>0.0</td><td>0.0</td></tr><tr><th>6</th><td>1.0</td><td>1.0</td><td>0.0</td><td>0.0</td><td>0.0</td><td>0.0</td><td>0.0</td><td>0.0</td></tr><tr><th>7</th><td>1.0</td><td>0.0</td><td>0.0</td><td>0.0</td><td>0.0</td><td>0.0</td><td>0.0</td><td>0.0</td></tr><tr><th>8</th><td>1.0</td><td>1.0</td><td>1.0</td><td>0.0</td><td>0.0</td><td>0.0</td><td>0.0</td><td>0.0</td></tr><tr><th>9</th><td>1.0</td><td>1.0</td><td>0.0</td><td>0.0</td><td>0.0</td><td>0.0</td><td>0.0</td><td>0.0</td></tr><tr><th>10</th><td>1.0</td><td>0.0</td><td>0.0</td><td>0.0</td><td>0.0</td><td>0.0</td><td>0.0</td><td>0.0</td></tr><tr><th>11</th><td>1.0</td><td>1.0</td><td>0.0</td><td>0.0</td><td>0.0</td><td>1.0</td><td>0.0</td><td>0.0</td></tr><tr><th>12</th><td>1.0</td><td>0.0</td><td>0.0</td><td>0.0</td><td>0.0</td><td>0.0</td><td>0.0</td><td>0.0</td></tr><tr><th>13</th><td>1.0</td><td>0.0</td><td>0.0</td><td>0.0</td><td>0.0</td><td>0.0</td><td>0.0</td><td>0.0</td></tr><tr><th>14</th><td>1.0</td><td>1.0</td><td>0.0</td><td>1.0</td><td>0.0</td><td>0.0</td><td>0.0</td><td>0.0</td></tr><tr><th>15</th><td>1.0</td><td>1.0</td><td>0.0</td><td>1.0</td><td>0.0</td><td>0.0</td><td>0.0</td><td>0.0</td></tr><tr><th>16</th><td>1.0</td><td>0.0</td><td>0.0</td><td>0.0</td><td>0.0</td><td>0.0</td><td>0.0</td><td>0.0</td></tr><tr><th>17</th><td>1.0</td><td>1.0</td><td>0.0</td><td>1.0</td><td>0.0</td><td>0.0</td><td>0.0</td><td>0.0</td></tr><tr><th>18</th><td>1.0</td><td>1.0</td><td>0.0</td><td>0.0</td><td>0.0</td><td>0.0</td><td>0.0</td><td>0.0</td></tr><tr><th>19</th><td>1.0</td><td>1.0</td><td>0.0</td><td>1.0</td><td>0.0</td><td>0.0</td><td>0.0</td><td>0.0</td></tr><tr><th>20</th><td>1.0</td><td>0.0</td><td>0.0</td><td>0.0</td><td>0.0</td><td>0.0</td><td>0.0</td><td>0.0</td></tr><tr><th>21</th><td>1.0</td><td>0.0</td><td>0.0</td><td>0.0</td><td>0.0</td><td>0.0</td><td>0.0</td><td>0.0</td></tr><tr><th>22</th><td>1.0</td><td>0.0</td><td>0.0</td><td>0.0</td><td>0.0</td><td>1.0</td><td>0.0</td><td>0.0</td></tr><tr><th>23</th><td>1.0</td><td>1.0</td><td>0.0</td><td>0.0</td><td>0.0</td><td>0.0</td><td>0.0</td><td>0.0</td></tr><tr><th>24</th><td>1.0</td><td>1.0</td><td>0.0</td><td>0.0</td><td>0.0</td><td>0.0</td><td>0.0</td><td>0.0</td></tr><tr><th>25</th><td>1.0</td><td>1.0</td><td>0.0</td><td>1.0</td><td>0.0</td><td>0.0</td><td>0.0</td><td>0.0</td></tr><tr><th>26</th><td>1.0</td><td>1.0</td><td>0.0</td><td>0.0</td><td>0.0</td><td>0.0</td><td>0.0</td><td>0.0</td></tr><tr><th>27</th><td>1.0</td><td>0.0</td><td>0.0</td><td>1.0</td><td>0.0</td><td>0.0</td><td>0.0</td><td>0.0</td></tr><tr><th>28</th><td>1.0</td><td>1.0</td><td>0.0</td><td>0.0</td><td>0.0</td><td>0.0</td><td>0.0</td><td>0.0</td></tr><tr><th>29</th><td>1.0</td><td>1.0</td><td>0.0</td><td>0.0</td><td>0.0</td><td>0.0</td><td>0.0</td><td>0.0</td></tr><tr><th>30</th><td>1.0</td><td>0.0</td><td>0.0</td><td>0.0</td><td>0.0</td><td>1.0</td><td>0.0</td><td>0.0</td></tr><tr><th>&vellip;</th><td>&vellip;</td><td>&vellip;</td><td>&vellip;</td><td>&vellip;</td><td>&vellip;</td><td>&vellip;</td><td>&vellip;</td><td>&vellip;</td></tr></tbody></table>"
      ],
      "text/latex": [
       "\\begin{tabular}{r|ccccccccc}\n",
       "\t& (Intercept) & female & widowed & divorced & separated & nevermarried & hsd08 & hsd911 & \\\\\n",
       "\t\\hline\n",
       "\t& Float64 & Float64 & Float64 & Float64 & Float64 & Float64 & Float64 & Float64 & \\\\\n",
       "\t\\hline\n",
       "\t1 & 1.0 & 1.0 & 0.0 & 0.0 & 0.0 & 0.0 & 0.0 & 0.0 & $\\dots$ \\\\\n",
       "\t2 & 1.0 & 0.0 & 0.0 & 0.0 & 0.0 & 0.0 & 0.0 & 0.0 & $\\dots$ \\\\\n",
       "\t3 & 1.0 & 0.0 & 0.0 & 0.0 & 0.0 & 0.0 & 0.0 & 0.0 & $\\dots$ \\\\\n",
       "\t4 & 1.0 & 1.0 & 0.0 & 0.0 & 0.0 & 0.0 & 0.0 & 0.0 & $\\dots$ \\\\\n",
       "\t5 & 1.0 & 1.0 & 0.0 & 0.0 & 0.0 & 0.0 & 0.0 & 0.0 & $\\dots$ \\\\\n",
       "\t6 & 1.0 & 1.0 & 0.0 & 0.0 & 0.0 & 0.0 & 0.0 & 0.0 & $\\dots$ \\\\\n",
       "\t7 & 1.0 & 0.0 & 0.0 & 0.0 & 0.0 & 0.0 & 0.0 & 0.0 & $\\dots$ \\\\\n",
       "\t8 & 1.0 & 1.0 & 1.0 & 0.0 & 0.0 & 0.0 & 0.0 & 0.0 & $\\dots$ \\\\\n",
       "\t9 & 1.0 & 1.0 & 0.0 & 0.0 & 0.0 & 0.0 & 0.0 & 0.0 & $\\dots$ \\\\\n",
       "\t10 & 1.0 & 0.0 & 0.0 & 0.0 & 0.0 & 0.0 & 0.0 & 0.0 & $\\dots$ \\\\\n",
       "\t11 & 1.0 & 1.0 & 0.0 & 0.0 & 0.0 & 1.0 & 0.0 & 0.0 & $\\dots$ \\\\\n",
       "\t12 & 1.0 & 0.0 & 0.0 & 0.0 & 0.0 & 0.0 & 0.0 & 0.0 & $\\dots$ \\\\\n",
       "\t13 & 1.0 & 0.0 & 0.0 & 0.0 & 0.0 & 0.0 & 0.0 & 0.0 & $\\dots$ \\\\\n",
       "\t14 & 1.0 & 1.0 & 0.0 & 1.0 & 0.0 & 0.0 & 0.0 & 0.0 & $\\dots$ \\\\\n",
       "\t15 & 1.0 & 1.0 & 0.0 & 1.0 & 0.0 & 0.0 & 0.0 & 0.0 & $\\dots$ \\\\\n",
       "\t16 & 1.0 & 0.0 & 0.0 & 0.0 & 0.0 & 0.0 & 0.0 & 0.0 & $\\dots$ \\\\\n",
       "\t17 & 1.0 & 1.0 & 0.0 & 1.0 & 0.0 & 0.0 & 0.0 & 0.0 & $\\dots$ \\\\\n",
       "\t18 & 1.0 & 1.0 & 0.0 & 0.0 & 0.0 & 0.0 & 0.0 & 0.0 & $\\dots$ \\\\\n",
       "\t19 & 1.0 & 1.0 & 0.0 & 1.0 & 0.0 & 0.0 & 0.0 & 0.0 & $\\dots$ \\\\\n",
       "\t20 & 1.0 & 0.0 & 0.0 & 0.0 & 0.0 & 0.0 & 0.0 & 0.0 & $\\dots$ \\\\\n",
       "\t21 & 1.0 & 0.0 & 0.0 & 0.0 & 0.0 & 0.0 & 0.0 & 0.0 & $\\dots$ \\\\\n",
       "\t22 & 1.0 & 0.0 & 0.0 & 0.0 & 0.0 & 1.0 & 0.0 & 0.0 & $\\dots$ \\\\\n",
       "\t23 & 1.0 & 1.0 & 0.0 & 0.0 & 0.0 & 0.0 & 0.0 & 0.0 & $\\dots$ \\\\\n",
       "\t24 & 1.0 & 1.0 & 0.0 & 0.0 & 0.0 & 0.0 & 0.0 & 0.0 & $\\dots$ \\\\\n",
       "\t25 & 1.0 & 1.0 & 0.0 & 1.0 & 0.0 & 0.0 & 0.0 & 0.0 & $\\dots$ \\\\\n",
       "\t26 & 1.0 & 1.0 & 0.0 & 0.0 & 0.0 & 0.0 & 0.0 & 0.0 & $\\dots$ \\\\\n",
       "\t27 & 1.0 & 0.0 & 0.0 & 1.0 & 0.0 & 0.0 & 0.0 & 0.0 & $\\dots$ \\\\\n",
       "\t28 & 1.0 & 1.0 & 0.0 & 0.0 & 0.0 & 0.0 & 0.0 & 0.0 & $\\dots$ \\\\\n",
       "\t29 & 1.0 & 1.0 & 0.0 & 0.0 & 0.0 & 0.0 & 0.0 & 0.0 & $\\dots$ \\\\\n",
       "\t30 & 1.0 & 0.0 & 0.0 & 0.0 & 0.0 & 1.0 & 0.0 & 0.0 & $\\dots$ \\\\\n",
       "\t$\\dots$ & $\\dots$ & $\\dots$ & $\\dots$ & $\\dots$ & $\\dots$ & $\\dots$ & $\\dots$ & $\\dots$ &  \\\\\n",
       "\\end{tabular}\n"
      ],
      "text/plain": [
       "21912×18 DataFrame. Omitted printing of 13 columns\n",
       "│ Row   │ (Intercept) │ female  │ widowed │ divorced │ separated │\n",
       "│       │ \u001b[90mFloat64\u001b[39m     │ \u001b[90mFloat64\u001b[39m │ \u001b[90mFloat64\u001b[39m │ \u001b[90mFloat64\u001b[39m  │ \u001b[90mFloat64\u001b[39m   │\n",
       "├───────┼─────────────┼─────────┼─────────┼──────────┼───────────┤\n",
       "│ 1     │ 1.0         │ 1.0     │ 0.0     │ 0.0      │ 0.0       │\n",
       "│ 2     │ 1.0         │ 0.0     │ 0.0     │ 0.0      │ 0.0       │\n",
       "│ 3     │ 1.0         │ 0.0     │ 0.0     │ 0.0      │ 0.0       │\n",
       "│ 4     │ 1.0         │ 1.0     │ 0.0     │ 0.0      │ 0.0       │\n",
       "│ 5     │ 1.0         │ 1.0     │ 0.0     │ 0.0      │ 0.0       │\n",
       "│ 6     │ 1.0         │ 1.0     │ 0.0     │ 0.0      │ 0.0       │\n",
       "│ 7     │ 1.0         │ 0.0     │ 0.0     │ 0.0      │ 0.0       │\n",
       "│ 8     │ 1.0         │ 1.0     │ 1.0     │ 0.0      │ 0.0       │\n",
       "│ 9     │ 1.0         │ 1.0     │ 0.0     │ 0.0      │ 0.0       │\n",
       "│ 10    │ 1.0         │ 0.0     │ 0.0     │ 0.0      │ 0.0       │\n",
       "⋮\n",
       "│ 21902 │ 1.0         │ 0.0     │ 0.0     │ 0.0      │ 0.0       │\n",
       "│ 21903 │ 1.0         │ 0.0     │ 0.0     │ 0.0      │ 0.0       │\n",
       "│ 21904 │ 1.0         │ 1.0     │ 0.0     │ 0.0      │ 0.0       │\n",
       "│ 21905 │ 1.0         │ 1.0     │ 0.0     │ 0.0      │ 0.0       │\n",
       "│ 21906 │ 1.0         │ 1.0     │ 0.0     │ 0.0      │ 0.0       │\n",
       "│ 21907 │ 1.0         │ 0.0     │ 0.0     │ 0.0      │ 0.0       │\n",
       "│ 21908 │ 1.0         │ 1.0     │ 0.0     │ 0.0      │ 0.0       │\n",
       "│ 21909 │ 1.0         │ 1.0     │ 0.0     │ 0.0      │ 0.0       │\n",
       "│ 21910 │ 1.0         │ 1.0     │ 0.0     │ 0.0      │ 0.0       │\n",
       "│ 21911 │ 1.0         │ 1.0     │ 0.0     │ 0.0      │ 0.0       │\n",
       "│ 21912 │ 1.0         │ 1.0     │ 0.0     │ 0.0      │ 0.0       │"
      ]
     },
     "execution_count": 232,
     "metadata": {},
     "output_type": "execute_result"
    }
   ],
   "source": [
    "names_col2 = Symbol.(coefnames(fit_lm_flex))\n",
    "X2 = DataFrame(model_X_flex_train, names_col2 )"
   ]
  },
  {
   "cell_type": "code",
   "execution_count": 237,
   "id": "9b950f92",
   "metadata": {},
   "outputs": [
    {
     "ename": "LoadError",
     "evalue": "MethodError: no method matching DataFrame(::Vector{Vector}, ::Symbol)\n\u001b[0mClosest candidates are:\n\u001b[0m  DataFrame(::AbstractVector{<:AbstractVector}, \u001b[91m::AbstractVector{<:AbstractString}\u001b[39m; makeunique, copycols) at C:\\Users\\acoap\\.julia\\packages\\DataFrames\\GtZ1l\\src\\dataframe\\dataframe.jl:249\n\u001b[0m  DataFrame(::AbstractVector{<:AbstractVector}, \u001b[91m::AbstractVector{Symbol}\u001b[39m; makeunique, copycols) at C:\\Users\\acoap\\.julia\\packages\\DataFrames\\GtZ1l\\src\\dataframe\\dataframe.jl:242\n\u001b[0m  DataFrame(::AbstractVector, \u001b[91m::AbstractVector{<:AbstractString}\u001b[39m; makeunique, copycols) at C:\\Users\\acoap\\.julia\\packages\\DataFrames\\GtZ1l\\src\\dataframe\\dataframe.jl:237\n\u001b[0m  ...",
     "output_type": "error",
     "traceback": [
      "MethodError: no method matching DataFrame(::Vector{Vector}, ::Symbol)\n\u001b[0mClosest candidates are:\n\u001b[0m  DataFrame(::AbstractVector{<:AbstractVector}, \u001b[91m::AbstractVector{<:AbstractString}\u001b[39m; makeunique, copycols) at C:\\Users\\acoap\\.julia\\packages\\DataFrames\\GtZ1l\\src\\dataframe\\dataframe.jl:249\n\u001b[0m  DataFrame(::AbstractVector{<:AbstractVector}, \u001b[91m::AbstractVector{Symbol}\u001b[39m; makeunique, copycols) at C:\\Users\\acoap\\.julia\\packages\\DataFrames\\GtZ1l\\src\\dataframe\\dataframe.jl:242\n\u001b[0m  DataFrame(::AbstractVector, \u001b[91m::AbstractVector{<:AbstractString}\u001b[39m; makeunique, copycols) at C:\\Users\\acoap\\.julia\\packages\\DataFrames\\GtZ1l\\src\\dataframe\\dataframe.jl:237\n\u001b[0m  ...",
      "",
      "Stacktrace:",
      " [1] rlasso(self::rlasso_arg)",
      "   @ Main C:\\Users\\acoap\\Documents\\Github_\\ECO224\\Labs\\Julia_Notebooks\\hdmjl\\hdmjl.jl:668",
      " [2] top-level scope",
      "   @ In[237]:8",
      " [3] eval",
      "   @ .\\boot.jl:373 [inlined]",
      " [4] include_string(mapexpr::typeof(REPL.softscope), mod::Module, code::String, filename::String)",
      "   @ Base .\\loading.jl:1196"
     ]
    }
   ],
   "source": [
    "# Flex - model\n",
    "# Not post - lasso (HDM)\n",
    "\n",
    "\n",
    "rlasso_flex  = rlasso_arg( X2, Y_train, nothing, false, false, true, false, false, \n",
    "                    nothing, 1.1, nothing, 5000, 15, 10^(-5), -Inf, true, Inf, true )\n",
    "\n",
    "fit_rlasso_flex = rlasso(rlasso_flex)\n",
    "\n",
    "\n",
    "# post - lasso (HDM)\n",
    "rlasso_flex_post  = rlasso_arg( X2, Y_train, nothing, true, false, true, false, false, \n",
    "                    nothing, 1.1, nothing, 5000, 15, 10^(-5), -Inf, true, Inf, true )\n",
    "\n",
    "fit_rlasso_flex_post = rlasso(rlasso_flex_post)\n",
    "\n",
    "yhat_rlasso_flex = model_X_flex_test*fit_rlasso_flex[\"coefficients\"] \n",
    "yhat_rlasso_flex_post = model_X_flex_test*fit_rlasso_flex_post[\"coefficients\"] \n",
    "\n",
    "\n",
    "res_rlasso_flex = ( Y_test[!,1] - yhat_rlasso_flex ).^ 2\n",
    "matrix_ones = ones( size(res_rlasso_flex)[1] ,1 )\n",
    "mean_residuals = lm(  matrix_ones, res_rlasso_flex )  \n",
    "MSE_rlasso_flex = [ coef( mean_residuals ) , stderror( mean_residuals ) ]\n",
    "R2_rlasso_flex = 1 .- ( MSE_rlasso_flex[1] / var(Y_test[!,1]) ) \n",
    "\n",
    "res_rlasso_flex_post = ( Y_test[!,1] - yhat_rlasso_flex_post ).^ 2\n",
    "matrix_ones = ones( size(res_rlasso_flex_post)[1] ,1 )\n",
    "mean_residuals = lm(  matrix_ones, res_rlasso_flex_post )  \n",
    "MSE_rlasso_flex_post = [ coef( mean_residuals ) , stderror( mean_residuals ) ]\n",
    "R2_rlasso_flex_post = 1 .- ( MSE_rlasso_flex_post[1] / var(Y_test[!,1]) ) \n"
   ]
  },
  {
   "cell_type": "code",
   "execution_count": 234,
   "id": "904e6241",
   "metadata": {},
   "outputs": [
    {
     "ename": "LoadError",
     "evalue": "UndefVarError: R2_rlasso_flex not defined",
     "output_type": "error",
     "traceback": [
      "UndefVarError: R2_rlasso_flex not defined",
      "",
      "Stacktrace:",
      " [1] top-level scope",
      "   @ In[234]:1",
      " [2] eval",
      "   @ .\\boot.jl:373 [inlined]",
      " [3] include_string(mapexpr::typeof(REPL.softscope), mod::Module, code::String, filename::String)",
      "   @ Base .\\loading.jl:1196"
     ]
    }
   ],
   "source": [
    "print( \"The R^2 using the basic model is  \", R2_rlasso_flex[1] ,\" for lasso and \", R2_rlasso_flex_post[1] , \" for Post - lasso\")"
   ]
  },
  {
   "cell_type": "markdown",
   "id": "7eed107a",
   "metadata": {},
   "source": [
    "Now, we repeat the same procedure for the flexible model."
   ]
  },
  {
   "cell_type": "code",
   "execution_count": 236,
   "id": "9b4387bf",
   "metadata": {},
   "outputs": [
    {
     "name": "stderr",
     "output_type": "stream",
     "text": [
      "\u001b[32m\u001b[1m   Resolving\u001b[22m\u001b[39m package versions...\n",
      "\u001b[32m\u001b[1m   Installed\u001b[22m\u001b[39m glmnet_jll ─ v5.0.0+0\n",
      "\u001b[32m\u001b[1m   Installed\u001b[22m\u001b[39m GLMNet ───── v0.7.0\n",
      "\u001b[32m\u001b[1m    Updating\u001b[22m\u001b[39m `C:\\Users\\acoap\\.julia\\environments\\v1.7\\Project.toml`\n",
      " \u001b[90m [8d5ece8b] \u001b[39m\u001b[92m+ GLMNet v0.7.0\u001b[39m\n",
      "\u001b[32m\u001b[1m    Updating\u001b[22m\u001b[39m `C:\\Users\\acoap\\.julia\\environments\\v1.7\\Manifest.toml`\n",
      " \u001b[90m [8d5ece8b] \u001b[39m\u001b[92m+ GLMNet v0.7.0\u001b[39m\n",
      " \u001b[90m [78c6b45d] \u001b[39m\u001b[92m+ glmnet_jll v5.0.0+0\u001b[39m\n",
      "\u001b[32m\u001b[1mPrecompiling\u001b[22m\u001b[39m project...\n",
      "\u001b[32m  ✓ \u001b[39m\u001b[90mglmnet_jll\u001b[39m\n",
      "\u001b[32m  ✓ \u001b[39mGLMNet\n",
      "  2 dependencies successfully precompiled in 3 seconds (218 already precompiled, 42 skipped during auto due to previous errors)\n",
      "WARNING: using GLMNet.predict in module Main conflicts with an existing identifier.\n",
      "WARNING: using GLMNet.coef in module Main conflicts with an existing identifier.\n"
     ]
    }
   ],
   "source": [
    "import Pkg; Pkg.add(\"GLMNet\")\n",
    "using GLMNet"
   ]
  },
  {
   "cell_type": "code",
   "execution_count": 239,
   "id": "24bc1c5d",
   "metadata": {},
   "outputs": [
    {
     "name": "stdout",
     "output_type": "stream",
     "text": [
      "R^2 using cross-validation for lasso, ridge and elastic net in the basic model:0.24545030031563497; 0.24427869819572956 y \n",
      "0.24563351325111782"
     ]
    }
   ],
   "source": [
    "fit_lasso_cv   = GLMNet.glmnetcv(model_X_basic_train, Y_train[!,1], alpha=1)\n",
    "fit_ridge   = GLMNet.glmnetcv(model_X_basic_train, Y_train[!,1], alpha=0)\n",
    "fit_elnet   = GLMNet.glmnetcv(model_X_basic_train, Y_train[!,1], alpha= 0.5)\n",
    "\n",
    "yhat_lasso_cv    = GLMNet.predict(fit_lasso_cv,  model_X_basic_test)\n",
    "yhat_ridge   = GLMNet.predict(fit_ridge,  model_X_basic_test)\n",
    "yhat_elnet   = GLMNet.predict(fit_elnet,  model_X_basic_test)\n",
    "\n",
    "res_lasso_cv = ( Y_test[!,1] - yhat_lasso_cv ) .^ 2\n",
    "mean_residuals = lm(  matrix_ones, res_lasso_cv )\n",
    "MSE_lasso_cv = [ coef( mean_residuals ) , stderror( mean_residuals ) ]\n",
    "\n",
    "res_ridge = ( Y_test[!,1] - yhat_ridge ) .^ 2\n",
    "mean_residuals = lm(  matrix_ones, res_ridge )\n",
    "MSE_ridge = [ coef( mean_residuals ) , stderror( mean_residuals ) ]\n",
    "\n",
    "res_elnet = ( Y_test[!,1] - yhat_elnet ) .^ 2\n",
    "mean_residuals = lm(  matrix_ones, res_elnet )\n",
    "MSE_elnet = [ coef( mean_residuals ) , stderror( mean_residuals ) ]\n",
    "\n",
    "R2_lasso_cv = 1 .- ( MSE_lasso_cv[1] / var( Y_test[!,1] ) )\n",
    "R2_ridge = 1 .- ( MSE_ridge[1] / var( Y_test[!,1] ) )\n",
    "R2_elnet = 1 .- ( MSE_elnet[1] / var( Y_test[!,1] ) )\n",
    "\n",
    "print(\"R^2 using cross-validation for lasso, ridge and elastic net in the basic model:\"\n",
    "    , R2_lasso_cv[1],\"; \",R2_ridge[1],\" y \\n\",R2_elnet[1])"
   ]
  },
  {
   "cell_type": "code",
   "execution_count": null,
   "id": "12d1d869",
   "metadata": {},
   "outputs": [],
   "source": []
  },
  {
   "cell_type": "code",
   "execution_count": 240,
   "id": "b5e60333",
   "metadata": {},
   "outputs": [
    {
     "name": "stdout",
     "output_type": "stream",
     "text": [
      "R^2 using cross-validation for lasso, ridge and elastic net in the flex model:0.24577847427356259; 0.24397002654385325y \n",
      "0.24549121661461581"
     ]
    }
   ],
   "source": [
    "fit_lasso_cv_flex   = GLMNet.glmnetcv(model_X_flex_train, Y_train[!,1], alpha=1)\n",
    "fit_ridge_flex   = GLMNet.glmnetcv(model_X_flex_train, Y_train[!,1], alpha=0)\n",
    "fit_elnet_flex   = GLMNet.glmnetcv(model_X_flex_train, Y_train[!,1], alpha= 0.5)\n",
    "\n",
    "yhat_lasso_cv_flex    = GLMNet.predict(fit_lasso_cv_flex,  model_X_flex_test)\n",
    "yhat_ridge_flex   = GLMNet.predict(fit_ridge_flex,  model_X_flex_test)\n",
    "yhat_elnet_flex   = GLMNet.predict(fit_elnet_flex,  model_X_flex_test)\n",
    "\n",
    "res_lasso_cv_flex = ( Y_test[!,1] - yhat_lasso_cv_flex ) .^ 2\n",
    "mean_residuals = lm(  matrix_ones, res_lasso_cv_flex )\n",
    "MSE_lasso_cv_flex = [ coef( mean_residuals ) , stderror( mean_residuals ) ]\n",
    "\n",
    "res_ridge_flex = ( Y_test[!,1] - yhat_ridge_flex ) .^ 2\n",
    "mean_residuals = lm(  matrix_ones, res_ridge_flex )\n",
    "MSE_ridge_flex = [ coef( mean_residuals ) , stderror( mean_residuals ) ]\n",
    "\n",
    "res_elnet_flex = ( Y_test[!,1] - yhat_elnet_flex ) .^ 2\n",
    "mean_residuals = lm(  matrix_ones, res_elnet_flex )\n",
    "MSE_elnet_flex = [ coef( mean_residuals ) , stderror( mean_residuals ) ]\n",
    "\n",
    "R2_lasso_cv_flex = ( 1 .- ( MSE_lasso_cv_flex[1] / var( Y_test[!,1] ) ) )[1]\n",
    "R2_ridge_flex = ( 1 .- ( MSE_ridge_flex[1] / var( Y_test[!,1] ) ) )[1]\n",
    "R2_elnet_flex = ( 1 .- ( MSE_elnet_flex[1] / var( Y_test[!,1] ) ) )[1]\n",
    "\n",
    "print(\"R^2 using cross-validation for lasso, ridge and elastic net in the flex model:\"\n",
    "    ,R2_lasso_cv_flex[1],\"; \",R2_ridge_flex[1],\"y \\n\",R2_elnet_flex[1])"
   ]
  },
  {
   "cell_type": "markdown",
   "id": "fec90d79",
   "metadata": {},
   "source": [
    "Comparing, we obtain a similar the perfomance between the Lasso regression with cross-validated penalty is quite similar to the performance of lasso using a theoretical based choice of the tuning parameter."
   ]
  },
  {
   "cell_type": "markdown",
   "id": "eec299fc",
   "metadata": {},
   "source": [
    "## Non - Linear Models"
   ]
  },
  {
   "cell_type": "code",
   "execution_count": 241,
   "id": "9de9341c",
   "metadata": {},
   "outputs": [
    {
     "name": "stderr",
     "output_type": "stream",
     "text": [
      "\u001b[32m\u001b[1m   Resolving\u001b[22m\u001b[39m package versions...\n",
      "\u001b[32m\u001b[1m   Installed\u001b[22m\u001b[39m ScikitLearnBase ─ v0.5.0\n",
      "\u001b[32m\u001b[1m   Installed\u001b[22m\u001b[39m ScikitLearn ───── v0.6.4\n",
      "\u001b[32m\u001b[1m    Updating\u001b[22m\u001b[39m `C:\\Users\\acoap\\.julia\\environments\\v1.7\\Project.toml`\n",
      " \u001b[90m [3646fa90] \u001b[39m\u001b[92m+ ScikitLearn v0.6.4\u001b[39m\n",
      "\u001b[32m\u001b[1m    Updating\u001b[22m\u001b[39m `C:\\Users\\acoap\\.julia\\environments\\v1.7\\Manifest.toml`\n",
      " \u001b[90m [3646fa90] \u001b[39m\u001b[92m+ ScikitLearn v0.6.4\u001b[39m\n",
      " \u001b[90m [6e75b9c4] \u001b[39m\u001b[92m+ ScikitLearnBase v0.5.0\u001b[39m\n",
      "\u001b[32m\u001b[1mPrecompiling\u001b[22m\u001b[39m project...\n",
      "\u001b[32m  ✓ \u001b[39m\u001b[90mScikitLearnBase\u001b[39m\n",
      "\u001b[32m  ✓ \u001b[39mScikitLearn\n",
      "  2 dependencies successfully precompiled in 4 seconds (220 already precompiled, 42 skipped during auto due to previous errors)\n",
      "\u001b[32m\u001b[1m   Resolving\u001b[22m\u001b[39m package versions...\n",
      "\u001b[32m\u001b[1m   Installed\u001b[22m\u001b[39m AbstractTrees ─ v0.3.4\n",
      "\u001b[32m\u001b[1m   Installed\u001b[22m\u001b[39m DecisionTree ── v0.10.12\n",
      "\u001b[32m\u001b[1m    Updating\u001b[22m\u001b[39m `C:\\Users\\acoap\\.julia\\environments\\v1.7\\Project.toml`\n",
      " \u001b[90m [7806a523] \u001b[39m\u001b[92m+ DecisionTree v0.10.12\u001b[39m\n",
      "\u001b[32m\u001b[1m    Updating\u001b[22m\u001b[39m `C:\\Users\\acoap\\.julia\\environments\\v1.7\\Manifest.toml`\n",
      " \u001b[90m [1520ce14] \u001b[39m\u001b[92m+ AbstractTrees v0.3.4\u001b[39m\n",
      " \u001b[90m [7806a523] \u001b[39m\u001b[92m+ DecisionTree v0.10.12\u001b[39m\n",
      "\u001b[32m\u001b[1mPrecompiling\u001b[22m\u001b[39m project...\n",
      "\u001b[32m  ✓ \u001b[39m\u001b[90mAbstractTrees\u001b[39m\n",
      "\u001b[32m  ✓ \u001b[39mDecisionTree\n",
      "  2 dependencies successfully precompiled in 1 seconds (222 already precompiled, 42 skipped during auto due to previous errors)\n"
     ]
    }
   ],
   "source": [
    "import Pkg; Pkg.add( \"ScikitLearn\" )\n",
    "\n",
    "import Pkg; Pkg.add(\"DecisionTree\")"
   ]
  },
  {
   "cell_type": "code",
   "execution_count": 242,
   "id": "6b6c9e4e",
   "metadata": {},
   "outputs": [
    {
     "name": "stderr",
     "output_type": "stream",
     "text": [
      "WARNING: using DecisionTree.predict in module Main conflicts with an existing identifier.\n"
     ]
    }
   ],
   "source": [
    "using ScikitLearn, DecisionTree"
   ]
  },
  {
   "cell_type": "code",
   "execution_count": 243,
   "id": "97da70d3",
   "metadata": {},
   "outputs": [
    {
     "data": {
      "text/plain": [
       "DecisionTreeRegressor\n",
       "max_depth:                -1\n",
       "min_samples_leaf:         1\n",
       "min_samples_split:        2\n",
       "min_purity_increase:      0.0\n",
       "pruning_purity_threshold: 1.0\n",
       "n_subfeatures:            0\n",
       "root:                     nothing"
      ]
     },
     "execution_count": 243,
     "metadata": {},
     "output_type": "execute_result"
    }
   ],
   "source": [
    "tree = DecisionTreeRegressor(min_purity_increase = 0, min_samples_leaf=1, min_samples_split = 2,rng = 0)"
   ]
  },
  {
   "cell_type": "markdown",
   "id": "224c037a",
   "metadata": {},
   "source": [
    "Now we apply pruning to the complex tree above to reduce the depth in each branches of the tree."
   ]
  },
  {
   "cell_type": "code",
   "execution_count": 247,
   "id": "38cf8db4",
   "metadata": {},
   "outputs": [
    {
     "data": {
      "text/plain": [
       "DecisionTreeRegressor\n",
       "max_depth:                -1\n",
       "min_samples_leaf:         1\n",
       "min_samples_split:        2\n",
       "min_purity_increase:      0.01\n",
       "pruning_purity_threshold: 1.0\n",
       "n_subfeatures:            0\n",
       "root:                     Decision Tree\n",
       "Leaves: 9\n",
       "Depth:  4"
      ]
     },
     "execution_count": 247,
     "metadata": {},
     "output_type": "execute_result"
    }
   ],
   "source": [
    "# Using prun purity parameter = 0.010\n",
    "\n",
    "tree1 = DecisionTreeRegressor( min_samples_leaf=1, min_samples_split = 2, rng = 0, min_purity_increase = 0.01)\n",
    "trees_fit1 =  ScikitLearn.fit!(tree1, model_X_basic_train, Y_train[!,1] )"
   ]
  },
  {
   "cell_type": "code",
   "execution_count": 250,
   "id": "6d10ea08",
   "metadata": {},
   "outputs": [],
   "source": [
    "using ScikitLearn.GridSearch: GridSearchCV"
   ]
  },
  {
   "cell_type": "code",
   "execution_count": 251,
   "id": "850dd0e8",
   "metadata": {},
   "outputs": [
    {
     "data": {
      "text/plain": [
       "GridSearchCV\n",
       "  estimator: DecisionTreeRegressor\n",
       "  param_grid: Dict{Symbol, AbstractRange}\n",
       "  scoring: Nothing nothing\n",
       "  loss_func: Nothing nothing\n",
       "  score_func: Nothing nothing\n",
       "  fit_params: Dict{Any, Any}\n",
       "  n_jobs: Int64 1\n",
       "  iid: Bool true\n",
       "  refit: Bool true\n",
       "  cv: Nothing nothing\n",
       "  verbose: Int64 0\n",
       "  error_score: String \"raise\"\n",
       "  scorer_: Nothing nothing\n",
       "  best_params_: Nothing nothing\n",
       "  best_score_: Nothing nothing\n",
       "  grid_scores_: Nothing nothing\n",
       "  best_estimator_: Nothing nothing\n"
      ]
     },
     "execution_count": 251,
     "metadata": {},
     "output_type": "execute_result"
    }
   ],
   "source": [
    "gridsearch = GridSearchCV(DecisionTreeRegressor(), Dict(:max_depth => 5:2:15 , :min_samples_split => 2:10:300,\n",
    "                                            :min_purity_increase => 0.001:0.001:0.005))"
   ]
  },
  {
   "cell_type": "code",
   "execution_count": 252,
   "id": "d90c21ad",
   "metadata": {},
   "outputs": [
    {
     "data": {
      "text/plain": [
       "GridSearchCV\n",
       "  estimator: DecisionTreeRegressor\n",
       "  param_grid: Dict{Symbol, AbstractRange}\n",
       "  scoring: Nothing nothing\n",
       "  loss_func: Nothing nothing\n",
       "  score_func: Nothing nothing\n",
       "  fit_params: Dict{Any, Any}\n",
       "  n_jobs: Int64 1\n",
       "  iid: Bool true\n",
       "  refit: Bool true\n",
       "  cv: Nothing nothing\n",
       "  verbose: Int64 0\n",
       "  error_score: String \"raise\"\n",
       "  scorer_: score (function of type typeof(ScikitLearnBase.score))\n",
       "  best_params_: Dict{Symbol, Any}\n",
       "  best_score_: Float64 -0.33582800992147227\n",
       "  grid_scores_: Array{ScikitLearn.Skcore.CVScoreTuple}((900,))\n",
       "  best_estimator_: DecisionTreeRegressor\n"
      ]
     },
     "execution_count": 252,
     "metadata": {},
     "output_type": "execute_result"
    }
   ],
   "source": [
    "ScikitLearn.fit!(gridsearch,  model_X_basic_train, Y_train[!,1])"
   ]
  },
  {
   "cell_type": "code",
   "execution_count": 253,
   "id": "f6c07f8c",
   "metadata": {},
   "outputs": [
    {
     "data": {
      "text/plain": [
       "DecisionTreeRegressor\n",
       "max_depth:                15\n",
       "min_samples_leaf:         1\n",
       "min_samples_split:        152\n",
       "min_purity_increase:      0.002\n",
       "pruning_purity_threshold: 1.0\n",
       "n_subfeatures:            0\n",
       "root:                     Decision Tree\n",
       "Leaves: 88\n",
       "Depth:  13"
      ]
     },
     "execution_count": 253,
     "metadata": {},
     "output_type": "execute_result"
    }
   ],
   "source": [
    "tree_prune = DecisionTreeRegressor(max_depth =15, min_samples_leaf=1, min_samples_split = 152, \n",
    "                                    min_purity_increase = 0.002 )\n",
    "tree_prune_tree =  ScikitLearn.fit!(tree_prune, model_X_basic_train, Y_train[!,1] )"
   ]
  },
  {
   "cell_type": "code",
   "execution_count": 258,
   "id": "e628b30e",
   "metadata": {},
   "outputs": [
    {
     "data": {
      "text/plain": [
       "7305-element Vector{Float64}:\n",
       " 2.4251145449795386\n",
       " 2.694345434271034\n",
       " 2.4251145449795386\n",
       " 2.4251145449795386\n",
       " 2.694345434271034\n",
       " 2.777988202043642\n",
       " 2.694345434271034\n",
       " 2.694345434271034\n",
       " 3.053316789762287\n",
       " 2.4251145449795386\n",
       " 2.694345434271034\n",
       " 2.694345434271034\n",
       " 2.777988202043642\n",
       " ⋮\n",
       " 2.694345434271034\n",
       " 3.1929101642475786\n",
       " 2.4251145449795386\n",
       " 2.777988202043642\n",
       " 3.429818935730825\n",
       " 2.4251145449795386\n",
       " 2.9038068695659414\n",
       " 3.1929101642475786\n",
       " 3.053316789762287\n",
       " 2.694345434271034\n",
       " 3.053316789762287\n",
       " 2.8147885457227977"
      ]
     },
     "execution_count": 258,
     "metadata": {},
     "output_type": "execute_result"
    }
   ],
   "source": [
    "y_hat_pt = ScikitLearn.predict(trees_fit1, model_X_basic_test)"
   ]
  },
  {
   "cell_type": "code",
   "execution_count": 259,
   "id": "fef16047",
   "metadata": {},
   "outputs": [
    {
     "name": "stdout",
     "output_type": "stream",
     "text": [
      "R^2 using Prune - tree:0.21129102476731831"
     ]
    }
   ],
   "source": [
    "res_tree = ( Y_test[!,1] - y_hat_pt ) .^ 2\n",
    "mean_residuals = lm(  matrix_ones, res_tree )\n",
    "MSE_tree = [ coef( mean_residuals ) , stderror( mean_residuals ) ]\n",
    "\n",
    "R2_tree = ( 1 .- ( MSE_tree[1] / var( Y_test[!,1] ) ) )[1]\n",
    "\n",
    "print(\"R^2 using Prune - tree:\", R2_tree)"
   ]
  },
  {
   "cell_type": "markdown",
   "id": "670d2a42",
   "metadata": {},
   "source": [
    "# Results"
   ]
  },
  {
   "cell_type": "code",
   "execution_count": 256,
   "id": "1fb8721d",
   "metadata": {},
   "outputs": [
    {
     "ename": "LoadError",
     "evalue": "UndefVarError: MSE_rlasso_basic not defined",
     "output_type": "error",
     "traceback": [
      "UndefVarError: MSE_rlasso_basic not defined",
      "",
      "Stacktrace:",
      " [1] top-level scope",
      "   @ In[256]:5",
      " [2] eval",
      "   @ .\\boot.jl:373 [inlined]",
      " [3] include_string(mapexpr::typeof(REPL.softscope), mod::Module, code::String, filename::String)",
      "   @ Base .\\loading.jl:1196"
     ]
    }
   ],
   "source": [
    "table = NamedArray(zeros(15, 4))\n",
    "\n",
    "table[1,2:3] = [MSE_lm_basic[1][1], MSE_lm_basic[2][1]]\n",
    "table[2,2:3] = [MSE_lm_flex[1][1], MSE_lm_flex[2][1]]\n",
    "table[3,2:3] = [MSE_rlasso_basic[1][1], MSE_rlasso_basic[2][1]]\n",
    "table[4,2:3] = [MSE_rlasso_basic_post[1][1], MSE_rlasso_basic_post[2][1]]\n",
    "table[5,2:3] = [MSE_rlasso_flex[1][1], MSE_rlasso_flex[2][1]]\n",
    "table[6,2:3] = [MSE_rlasso_flex_post[1][1], MSE_rlasso_flex_post[2][1]]\n",
    "table[7,2:3] = [MSE_lasso_cv[1][1], MSE_lasso_cv[2][1]]\n",
    "table[8,2:3] = [MSE_ridge[1][1], MSE_ridge[2][1]]\n",
    "table[9,2:3] = [MSE_elnet[1][1], MSE_elnet[2][1]]\n",
    "table[10,2:3] = [MSE_lasso_cv_flex[1][1], MSE_lasso_cv_flex[2][1]]\n",
    "table[11,2:3] = [MSE_ridge_flex[1][1], MSE_ridge_flex[2][1]]\n",
    "table[12,2:3] = [MSE_elnet_flex[1][1], MSE_elnet_flex[2][1]]\n",
    "table[13,2:3] = [MSE_prune_tree[1][1], MSE_prune_tree[2][1]]\n",
    "table[14,2:3] = [MSE_rf[1][1], MSE_rf[2][1]]\n",
    "#table[15,2:3] = [0,0]\n",
    "\n",
    "table[1,4] = R2_lm_basic[1]\n",
    "table[2,4] = R2_lm_flex[1]\n",
    "table[3,4] = R2_rlasso_basic[1]\n",
    "table[4,4] = R2_rlasso_basic_post[1]\n",
    "table[5,4] = R2_rlasso_flex[1]\n",
    "table[6,4] = R2_rlasso_flex_post[1]\n",
    "table[7,4] = R2_lasso_cv[1]\n",
    "table[8,4] = R2_ridge[1]\n",
    "table[9,4] = R2_elnet[1]\n",
    "table[10,4] = R2_lasso_cv_flex[1]\n",
    "table[11,4] = R2_ridge_flex[1]\n",
    "table[12,4] = R2_elnet_flex[1]\n",
    "table[13,4] = R2_prune_tree[1]\n",
    "table[14,4] = R2_rf[1]\n",
    "#table[15,4] = 0\n",
    "\n",
    "T = DataFrame(table, [ :\"Model\",:\"MSE\", :\"S.E. for MSE\", :\"R-squared\"]) \n",
    "T[!,:Model] = string.(T[!,:Model]) \n",
    "\n",
    "T[1,1] = \"Least Squares (basic)\"\n",
    "T[2,1] = \"Least Squares (flexible)\"\n",
    "T[3,1] = \"Lasso\"\n",
    "T[4,1] = \"Post-Lasso\"\n",
    "T[5,1] = \"Lasso (flexible)\"\n",
    "T[6,1] = \"Post-Lasso (flexible)\"\n",
    "T[7,1] = \"Cross-Validated lasso\"\n",
    "T[8,1] = \"Cross-Validated ridge\"\n",
    "T[9,1] = \"Cross-Validated elnet\"\n",
    "T[10,1] = \"Cross-Validated lasso (flexible)\"\n",
    "T[11,1] = \"Cross-Validated ridge (flexible)\"\n",
    "T[12,1] = \"Cross-Validated elnet (flexible)\"\n",
    "T[13,1] = \"Pruned Tree\"\n",
    "T[14,1] = \"Random Forest\"\n",
    "T[15,1] = \"Boosted Trees\"\n",
    "\n",
    "header = ([\"Model\", \"MSE\", \"S.E. for MSE\", \"R-squared\"])\n",
    "\n",
    "pretty_table(T; backend = Val(:html), header = header, formatters=ft_round(4), alignment=:c)"
   ]
  },
  {
   "cell_type": "markdown",
   "id": "4ea22eb3",
   "metadata": {},
   "source": [
    "## How to build a tree regresion?"
   ]
  },
  {
   "cell_type": "markdown",
   "id": "ca409f1f",
   "metadata": {},
   "source": [
    "#### Tree-building process\n",
    "\n",
    "- First of all, the process is a top-down approach because it starts at the top by mentioning which is the predictor that most affects the outcome variable (output) and chooses the cutoff that minimizes the residual sum of squares in each group divided by the cutoff $ \\sum_{i \\in R_j} (Y_i - \\hat{Y_{Rj}})^2 $ swhere the estimated value of Y is the mean of the Y values for the observations in $Rj$.Therefore, it is also called a greedy approach because at each step of the construction process the best split occurs at that particular step without looking ahead.  \n",
    "- Starting from the first predictor, the predictor space is successively divided, choosing at each step which predictor most affects or determines the result variable. That way, it ultimately generates regions $ R_1, R_2, ... , R_J $, called terminal nodes or leaves, which are the mean of the values of the dependent variable for the observations in that region, given the predictors that are most measure determine Y in that region.\n",
    "- The goal is to find the regions $ R_1, R_2, ... , R_J $ that minimize the residual sum of squares (RSS):\n",
    "\\begin{align}\n",
    "\\sum_{j=1}^{j} \\sum_{i \\in R_j} (Y_i - \\hat{Y_{Rj}})^2\n",
    "\\end{align}\n",
    "where $ \\hat{Y_{Rj}} $ is the mean response for the training observations within the jth box.\n",
    "\n",
    "#### Pruning regression trees\n",
    "\n",
    "The deeper the tree, that is, the more we decompose and divide the observations according to the predictors, the better the approximation to the regression function. However, it increases the estimation noise because there are fewer observations per terminal node to estimate the predicted value of the node. To improve the predictive performance it is necessary to \"prune the tree\" or cut branches. The pruning regression tree tries to find the correct depth."
   ]
  },
  {
   "cell_type": "code",
   "execution_count": null,
   "id": "f2d9a0c2",
   "metadata": {},
   "outputs": [],
   "source": []
  }
 ],
 "metadata": {
  "kernelspec": {
   "display_name": "Julia 1.7.2",
   "language": "julia",
   "name": "julia-1.7"
  },
  "language_info": {
   "file_extension": ".jl",
   "mimetype": "application/julia",
   "name": "julia",
   "version": "1.7.2"
  }
 },
 "nbformat": 4,
 "nbformat_minor": 5
}
