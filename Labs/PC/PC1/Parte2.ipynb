{
 "cells": [
  {
   "cell_type": "markdown",
   "metadata": {},
   "source": [
    "## 2. Data wrangling\n",
    "\n",
    "7. Make an array for our $Y$ variable, which will be the logarithm of wage (`lwage` column)\n",
    "\n",
    "8. Make three new arrays for our predictors:\n",
    "\n",
    "    8.1. The basic model will have the columns `sex` `hsg` `scl` `clg` `ad` `so` `we` `ne` `exp1` `occ2` `ind2`. **Make sure to convert `occ2` and `ind2` to dummies** and to drop the first dummy value to prevent multicolinearity. This means:\n",
    "\n",
    "    $$\n",
    "    sex + exp1 + hsg + scl + clg + ad + se + we + ne + dummy(occ2) + dummy(ind2)\n",
    "    $$\n",
    "\n",
    "    8.2 The flexible model will have the same columns, and will also include polynomials for experience (`exp2` `exp3` `exp4`), as well as the interactions between all experience variables and other variables except for sex. This means\n",
    "\n",
    "    $$\n",
    "    sex + exp1 + exp2 + exp3 + exp4 + hsg + scl + clg + ad + se + we + ne + dummy(occ2) + dummy(ind2) +\n",
    "    $$\n",
    "    $$\n",
    "    (exp1 + exp2 + exp3 + exp4) \\times (hsg + scl + clg + ad + se + we + ne + dummy(occ2) + dummy(ind2))\n",
    "    $$\n",
    "\n",
    "    *Hint: you can use a `for` loop to multiply the desired variables and create the interactions. Some packages might also have ways to easily specify the model variables with strings like R does by default*\n",
    "\n",
    "    8.3 The extra-flexible model will include all two-way interactions between variables, except for sex. This means\n",
    "\n",
    "    $$\n",
    "    sex + (exp1 + exp2 + exp3 + exp4 + hsg + scl + clg + ad + se + we + ne + dummy(occ2) + dummy(ind2)) ^ 2\n",
    "    $$\n",
    "\n",
    "    *Hint: If you use a `for` loop here, you might create several variables identical to others. You can make another procedure to get rid of duplicates*\n",
    "\n",
    "9. Normalize all the variables, including $Y$. This means that for each variable $V$, create $\\tilde{V}$ such that\n",
    "\n",
    "$$\n",
    "\\tilde{V} = \\frac{V - mean(V)}{sd(V)}\n",
    "$$\n",
    "\n",
    "## 3. Linear Regressions\n",
    "\n",
    "10. Split each of the dataframes created (basic, flexible and extra-flexible models) into a training sample (80% of the data) and a test sample. Use the normalized data for this.\n",
    "\n",
    "11. Estimate all three models\n",
    "\n",
    "12. Report the MSE and the $R^2$ for both samples of each model, and the adjusted $R^2$ for the training sample. Do we see overfitting? Which model has the best out-of-sample performance?"
   ]
  }
 ],
 "metadata": {
  "kernelspec": {
   "display_name": ".venv",
   "language": "python",
   "name": "python3"
  },
  "language_info": {
   "codemirror_mode": {
    "name": "ipython",
    "version": 3
   },
   "file_extension": ".py",
   "mimetype": "text/x-python",
   "name": "python",
   "nbconvert_exporter": "python",
   "pygments_lexer": "ipython3",
   "version": "3.11.5"
  }
 },
 "nbformat": 4,
 "nbformat_minor": 2
}
