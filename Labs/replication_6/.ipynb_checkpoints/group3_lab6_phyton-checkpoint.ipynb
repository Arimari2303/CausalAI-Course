{
 "cells": [
  {
   "cell_type": "markdown",
   "id": "116b1421",
   "metadata": {},
   "source": [
    "# Workgroup 4 \n",
    "\n",
    "- Andrea Ulloa\n",
    "- Angela Coapaza\n",
    "- Ana Angulo"
   ]
  },
  {
   "cell_type": "markdown",
   "id": "871b7b91",
   "metadata": {},
   "source": [
    "## 1. Causal Forest (R and Python script)"
   ]
  },
  {
   "cell_type": "markdown",
   "id": "db7e8595",
   "metadata": {},
   "source": [
    "In this lab, we are going to replicate the results obtained in the paper of Athey and Wager (2018) in phyton. First, we download all the packages that we are going to use."
   ]
  },
  {
   "cell_type": "code",
   "execution_count": 7,
   "id": "1b3d199f",
   "metadata": {
    "scrolled": true
   },
   "outputs": [
    {
     "name": "stdout",
     "output_type": "stream",
     "text": [
      "Requirement already satisfied: syncrng in c:\\users\\diana\\anaconda3_1\\lib\\site-packages (1.3.3)\n",
      "Note: you may need to restart the kernel to use updated packages.\n"
     ]
    }
   ],
   "source": [
    "pip install syncrng\n"
   ]
  },
  {
   "cell_type": "code",
   "execution_count": 37,
   "id": "cfc29d8d",
   "metadata": {},
   "outputs": [
    {
     "name": "stdout",
     "output_type": "stream",
     "text": [
      "Requirement already satisfied: pandas in c:\\users\\diana\\anaconda3_1\\lib\\site-packages (1.4.2)\n",
      "Requirement already satisfied: numpy>=1.18.5 in c:\\users\\diana\\anaconda3_1\\lib\\site-packages (from pandas) (1.21.5)\n",
      "Requirement already satisfied: pytz>=2020.1 in c:\\users\\diana\\anaconda3_1\\lib\\site-packages (from pandas) (2021.3)\n",
      "Requirement already satisfied: python-dateutil>=2.8.1 in c:\\users\\diana\\anaconda3_1\\lib\\site-packages (from pandas) (2.8.2)\n",
      "Requirement already satisfied: six>=1.5 in c:\\users\\diana\\anaconda3_1\\lib\\site-packages (from python-dateutil>=2.8.1->pandas) (1.16.0)\n",
      "Note: you may need to restart the kernel to use updated packages.\n"
     ]
    }
   ],
   "source": [
    "pip install pandas"
   ]
  },
  {
   "cell_type": "code",
   "execution_count": 14,
   "id": "2023ac8e",
   "metadata": {},
   "outputs": [
    {
     "name": "stdout",
     "output_type": "stream",
     "text": [
      "Requirement already satisfied: plotnine in c:\\users\\diana\\anaconda3_1\\lib\\site-packages (0.8.0)\n",
      "Requirement already satisfied: matplotlib>=3.1.1 in c:\\users\\diana\\anaconda3_1\\lib\\site-packages (from plotnine) (3.5.1)\n",
      "Requirement already satisfied: statsmodels>=0.12.1 in c:\\users\\diana\\anaconda3_1\\lib\\site-packages (from plotnine) (0.13.2)\n",
      "Requirement already satisfied: scipy>=1.5.0 in c:\\users\\diana\\anaconda3_1\\lib\\site-packages (from plotnine) (1.7.3)\n",
      "Requirement already satisfied: numpy>=1.19.0 in c:\\users\\diana\\anaconda3_1\\lib\\site-packages (from plotnine) (1.21.5)\n",
      "Requirement already satisfied: pandas>=1.1.0 in c:\\users\\diana\\anaconda3_1\\lib\\site-packages (from plotnine) (1.4.2)\n",
      "Requirement already satisfied: mizani>=0.7.3 in c:\\users\\diana\\anaconda3_1\\lib\\site-packages (from plotnine) (0.7.4)\n",
      "Requirement already satisfied: descartes>=1.1.0 in c:\\users\\diana\\anaconda3_1\\lib\\site-packages (from plotnine) (1.1.0)\n",
      "Requirement already satisfied: patsy>=0.5.1 in c:\\users\\diana\\anaconda3_1\\lib\\site-packages (from plotnine) (0.5.2)\n",
      "Requirement already satisfied: packaging>=20.0 in c:\\users\\diana\\anaconda3_1\\lib\\site-packages (from matplotlib>=3.1.1->plotnine) (21.3)\n",
      "Requirement already satisfied: pillow>=6.2.0 in c:\\users\\diana\\anaconda3_1\\lib\\site-packages (from matplotlib>=3.1.1->plotnine) (9.0.1)\n",
      "Requirement already satisfied: cycler>=0.10 in c:\\users\\diana\\anaconda3_1\\lib\\site-packages (from matplotlib>=3.1.1->plotnine) (0.11.0)\n",
      "Requirement already satisfied: pyparsing>=2.2.1 in c:\\users\\diana\\anaconda3_1\\lib\\site-packages (from matplotlib>=3.1.1->plotnine) (3.0.4)\n",
      "Requirement already satisfied: python-dateutil>=2.7 in c:\\users\\diana\\anaconda3_1\\lib\\site-packages (from matplotlib>=3.1.1->plotnine) (2.8.2)\n",
      "Requirement already satisfied: kiwisolver>=1.0.1 in c:\\users\\diana\\anaconda3_1\\lib\\site-packages (from matplotlib>=3.1.1->plotnine) (1.3.2)\n",
      "Requirement already satisfied: fonttools>=4.22.0 in c:\\users\\diana\\anaconda3_1\\lib\\site-packages (from matplotlib>=3.1.1->plotnine) (4.25.0)\n",
      "Requirement already satisfied: palettable in c:\\users\\diana\\anaconda3_1\\lib\\site-packages (from mizani>=0.7.3->plotnine) (3.3.0)\n",
      "Requirement already satisfied: pytz>=2020.1 in c:\\users\\diana\\anaconda3_1\\lib\\site-packages (from pandas>=1.1.0->plotnine) (2021.3)\n",
      "Requirement already satisfied: six in c:\\users\\diana\\anaconda3_1\\lib\\site-packages (from patsy>=0.5.1->plotnine) (1.16.0)\n",
      "Note: you may need to restart the kernel to use updated packages.\n"
     ]
    }
   ],
   "source": [
    "pip install plotnine"
   ]
  },
  {
   "cell_type": "code",
   "execution_count": 15,
   "id": "d170c9ea",
   "metadata": {},
   "outputs": [],
   "source": [
    "import random\n",
    "import pandas as pd\n",
    "import numpy as np\n",
    "from scipy.stats import norm\n",
    "\n",
    "import statsmodels.api as sm\n",
    "import statsmodels.formula.api as smf\n",
    "import patsy\n",
    "\n",
    "from SyncRNG import SyncRNG\n",
    "import numpy as np\n",
    "import re\n",
    "from statsmodels.sandbox.stats.multicomp import multipletests\n",
    "from scipy import linalg\n",
    "from itertools import chain\n",
    "\n",
    "from SyncRNG import SyncRNG\n",
    "\n",
    "from CTL.causal_tree_learn import CausalTree\n",
    "from sklearn.model_selection import train_test_split\n",
    "import plotnine as p\n",
    "import seaborn as sns\n",
    "import matplotlib.pyplot as plt\n",
    "import matplotlib.patches as mpatches"
   ]
  },
  {
   "cell_type": "code",
   "execution_count": 79,
   "id": "abbba2d6",
   "metadata": {},
   "outputs": [],
   "source": [
    "random.seed(1)"
   ]
  },
  {
   "cell_type": "code",
   "execution_count": 80,
   "id": "53f9db7c",
   "metadata": {},
   "outputs": [
    {
     "data": {
      "text/plain": [
       "13"
      ]
     },
     "execution_count": 80,
     "metadata": {},
     "output_type": "execute_result"
    }
   ],
   "source": [
    "## Next, we load the data\n",
    "dataall = pd.read_csv(\"../../../../data_lab/synthetic_data.csv\")\n",
    "dataall.shape[1]"
   ]
  },
  {
   "cell_type": "code",
   "execution_count": 81,
   "id": "5ac7fec7",
   "metadata": {},
   "outputs": [],
   "source": [
    "dataall.schoolid = np.multiply(dataall.schoolid,1)"
   ]
  },
  {
   "cell_type": "code",
   "execution_count": 82,
   "id": "6411a124",
   "metadata": {},
   "outputs": [],
   "source": [
    "school_id = pd.to_numeric(dataall.schoolid, errors='coerce').astype(int)"
   ]
  },
  {
   "cell_type": "code",
   "execution_count": 83,
   "id": "9a9e7728",
   "metadata": {},
   "outputs": [
    {
     "data": {
      "text/plain": [
       "0        76\n",
       "1        76\n",
       "2        76\n",
       "3        76\n",
       "4        76\n",
       "         ..\n",
       "10386     1\n",
       "10387     1\n",
       "10388     1\n",
       "10389     1\n",
       "10390     1\n",
       "Name: schoolid, Length: 10391, dtype: int32"
      ]
     },
     "execution_count": 83,
     "metadata": {},
     "output_type": "execute_result"
    }
   ],
   "source": [
    "school_id"
   ]
  },
  {
   "cell_type": "code",
   "execution_count": 84,
   "id": "67436613",
   "metadata": {},
   "outputs": [],
   "source": [
    "school_size = school_id.sum(axis = 0, skipna = True)"
   ]
  },
  {
   "cell_type": "code",
   "execution_count": 85,
   "id": "51d36aee",
   "metadata": {},
   "outputs": [
    {
     "data": {
      "text/plain": [
       "414485"
      ]
     },
     "execution_count": 85,
     "metadata": {},
     "output_type": "execute_result"
    }
   ],
   "source": [
    "school_size"
   ]
  },
  {
   "cell_type": "code",
   "execution_count": 86,
   "id": "fd56a753",
   "metadata": {},
   "outputs": [],
   "source": [
    "# It appears that school ID does not affect pscore. So ignore it\n",
    "# in modeling, and just treat it as source of per-cluster error.\n"
   ]
  },
  {
   "cell_type": "code",
   "execution_count": 87,
   "id": "c727fc14",
   "metadata": {},
   "outputs": [
    {
     "ename": "SyntaxError",
     "evalue": "invalid syntax (1718314684.py, line 1)",
     "output_type": "error",
     "traceback": [
      "\u001b[1;36m  Input \u001b[1;32mIn [87]\u001b[1;36m\u001b[0m\n\u001b[1;33m    w_lm = sm.GLM(Z, ., family=sm.families.Binomial())\u001b[0m\n\u001b[1;37m                     ^\u001b[0m\n\u001b[1;31mSyntaxError\u001b[0m\u001b[1;31m:\u001b[0m invalid syntax\n"
     ]
    }
   ],
   "source": [
    "w_lm = sm.GLM(Z, ., family=sm.families.Binomial())\n",
    "res = w_lm.fit()\n",
    "print(res.summary())"
   ]
  },
  {
   "cell_type": "code",
   "execution_count": null,
   "id": "e1460d61",
   "metadata": {},
   "outputs": [],
   "source": []
  }
 ],
 "metadata": {
  "kernelspec": {
   "display_name": "Python 3 (ipykernel)",
   "language": "python",
   "name": "python3"
  },
  "language_info": {
   "codemirror_mode": {
    "name": "ipython",
    "version": 3
   },
   "file_extension": ".py",
   "mimetype": "text/x-python",
   "name": "python",
   "nbconvert_exporter": "python",
   "pygments_lexer": "ipython3",
   "version": "3.9.12"
  }
 },
 "nbformat": 4,
 "nbformat_minor": 5
}
