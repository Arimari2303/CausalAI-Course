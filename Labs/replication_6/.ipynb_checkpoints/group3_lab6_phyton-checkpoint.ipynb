{
 "cells": [
  {
   "cell_type": "markdown",
   "id": "5afdc518",
   "metadata": {},
   "source": [
    "# Workgroup 4 \n",
    "\n",
    "- Andrea Ulloa\n",
    "- Angela Coapaza\n",
    "- Ana Angulo"
   ]
  },
  {
   "cell_type": "markdown",
   "id": "b6eac7c7",
   "metadata": {},
   "source": [
    "## 1. Causal Forest (R and Python script)"
   ]
  },
  {
   "cell_type": "markdown",
   "id": "4f8cfa27",
   "metadata": {},
   "source": [
    "In this lab, we are going to replicate the results obtained in the paper of Athey and Wager (2018) in phyton. First, we download all the packages that we are going to use."
   ]
  },
  {
   "cell_type": "code",
   "execution_count": 7,
   "id": "19349fe5",
   "metadata": {
    "scrolled": true
   },
   "outputs": [
    {
     "name": "stdout",
     "output_type": "stream",
     "text": [
      "Requirement already satisfied: syncrng in c:\\users\\diana\\anaconda3_1\\lib\\site-packages (1.3.3)\n",
      "Note: you may need to restart the kernel to use updated packages.\n"
     ]
    }
   ],
   "source": [
    "pip install syncrng\n"
   ]
  },
  {
   "cell_type": "code",
   "execution_count": 37,
   "id": "78a23eca",
   "metadata": {},
   "outputs": [
    {
     "name": "stdout",
     "output_type": "stream",
     "text": [
      "Requirement already satisfied: pandas in c:\\users\\diana\\anaconda3_1\\lib\\site-packages (1.4.2)\n",
      "Requirement already satisfied: numpy>=1.18.5 in c:\\users\\diana\\anaconda3_1\\lib\\site-packages (from pandas) (1.21.5)\n",
      "Requirement already satisfied: pytz>=2020.1 in c:\\users\\diana\\anaconda3_1\\lib\\site-packages (from pandas) (2021.3)\n",
      "Requirement already satisfied: python-dateutil>=2.8.1 in c:\\users\\diana\\anaconda3_1\\lib\\site-packages (from pandas) (2.8.2)\n",
      "Requirement already satisfied: six>=1.5 in c:\\users\\diana\\anaconda3_1\\lib\\site-packages (from python-dateutil>=2.8.1->pandas) (1.16.0)\n",
      "Note: you may need to restart the kernel to use updated packages.\n"
     ]
    }
   ],
   "source": [
    "pip install pandas"
   ]
  },
  {
   "cell_type": "code",
   "execution_count": 14,
   "id": "36d32a8a",
   "metadata": {},
   "outputs": [
    {
     "name": "stdout",
     "output_type": "stream",
     "text": [
      "Requirement already satisfied: plotnine in c:\\users\\diana\\anaconda3_1\\lib\\site-packages (0.8.0)\n",
      "Requirement already satisfied: matplotlib>=3.1.1 in c:\\users\\diana\\anaconda3_1\\lib\\site-packages (from plotnine) (3.5.1)\n",
      "Requirement already satisfied: statsmodels>=0.12.1 in c:\\users\\diana\\anaconda3_1\\lib\\site-packages (from plotnine) (0.13.2)\n",
      "Requirement already satisfied: scipy>=1.5.0 in c:\\users\\diana\\anaconda3_1\\lib\\site-packages (from plotnine) (1.7.3)\n",
      "Requirement already satisfied: numpy>=1.19.0 in c:\\users\\diana\\anaconda3_1\\lib\\site-packages (from plotnine) (1.21.5)\n",
      "Requirement already satisfied: pandas>=1.1.0 in c:\\users\\diana\\anaconda3_1\\lib\\site-packages (from plotnine) (1.4.2)\n",
      "Requirement already satisfied: mizani>=0.7.3 in c:\\users\\diana\\anaconda3_1\\lib\\site-packages (from plotnine) (0.7.4)\n",
      "Requirement already satisfied: descartes>=1.1.0 in c:\\users\\diana\\anaconda3_1\\lib\\site-packages (from plotnine) (1.1.0)\n",
      "Requirement already satisfied: patsy>=0.5.1 in c:\\users\\diana\\anaconda3_1\\lib\\site-packages (from plotnine) (0.5.2)\n",
      "Requirement already satisfied: packaging>=20.0 in c:\\users\\diana\\anaconda3_1\\lib\\site-packages (from matplotlib>=3.1.1->plotnine) (21.3)\n",
      "Requirement already satisfied: pillow>=6.2.0 in c:\\users\\diana\\anaconda3_1\\lib\\site-packages (from matplotlib>=3.1.1->plotnine) (9.0.1)\n",
      "Requirement already satisfied: cycler>=0.10 in c:\\users\\diana\\anaconda3_1\\lib\\site-packages (from matplotlib>=3.1.1->plotnine) (0.11.0)\n",
      "Requirement already satisfied: pyparsing>=2.2.1 in c:\\users\\diana\\anaconda3_1\\lib\\site-packages (from matplotlib>=3.1.1->plotnine) (3.0.4)\n",
      "Requirement already satisfied: python-dateutil>=2.7 in c:\\users\\diana\\anaconda3_1\\lib\\site-packages (from matplotlib>=3.1.1->plotnine) (2.8.2)\n",
      "Requirement already satisfied: kiwisolver>=1.0.1 in c:\\users\\diana\\anaconda3_1\\lib\\site-packages (from matplotlib>=3.1.1->plotnine) (1.3.2)\n",
      "Requirement already satisfied: fonttools>=4.22.0 in c:\\users\\diana\\anaconda3_1\\lib\\site-packages (from matplotlib>=3.1.1->plotnine) (4.25.0)\n",
      "Requirement already satisfied: palettable in c:\\users\\diana\\anaconda3_1\\lib\\site-packages (from mizani>=0.7.3->plotnine) (3.3.0)\n",
      "Requirement already satisfied: pytz>=2020.1 in c:\\users\\diana\\anaconda3_1\\lib\\site-packages (from pandas>=1.1.0->plotnine) (2021.3)\n",
      "Requirement already satisfied: six in c:\\users\\diana\\anaconda3_1\\lib\\site-packages (from patsy>=0.5.1->plotnine) (1.16.0)\n",
      "Note: you may need to restart the kernel to use updated packages.\n"
     ]
    }
   ],
   "source": [
    "pip install plotnine"
   ]
  },
  {
   "cell_type": "code",
   "execution_count": 2,
   "id": "c99988e2",
   "metadata": {},
   "outputs": [],
   "source": [
    "import random\n",
    "import pandas as pd\n",
    "import numpy as np\n",
    "from scipy.stats import norm\n",
    "\n",
    "import statsmodels.api as sm\n",
    "import statsmodels.formula.api as smf\n",
    "import patsy\n",
    "\n",
    "from SyncRNG import SyncRNG\n",
    "import numpy as np\n",
    "import re\n",
    "from statsmodels.sandbox.stats.multicomp import multipletests\n",
    "from scipy import linalg\n",
    "from itertools import chain\n",
    "\n",
    "from SyncRNG import SyncRNG\n",
    "\n",
    "from CTL.causal_tree_learn import CausalTree\n",
    "from sklearn.model_selection import train_test_split\n",
    "import plotnine as p\n",
    "import seaborn as sns\n",
    "import matplotlib.pyplot as plt\n",
    "import matplotlib.patches as mpatches"
   ]
  },
  {
   "cell_type": "code",
   "execution_count": 3,
   "id": "18a5ac75",
   "metadata": {},
   "outputs": [],
   "source": [
    "random.seed(1)"
   ]
  },
  {
   "cell_type": "code",
   "execution_count": 4,
   "id": "cac97a3b",
   "metadata": {},
   "outputs": [
    {
     "data": {
      "text/plain": [
       "13"
      ]
     },
     "execution_count": 4,
     "metadata": {},
     "output_type": "execute_result"
    }
   ],
   "source": [
    "## Next, we load the data\n",
    "dataall = pd.read_csv(\"../../../../data_lab/synthetic_data.csv\")\n",
    "dataall.shape[1]"
   ]
  },
  {
   "cell_type": "code",
   "execution_count": 5,
   "id": "02eff70f",
   "metadata": {},
   "outputs": [
    {
     "data": {
      "text/html": [
       "<div>\n",
       "<style scoped>\n",
       "    .dataframe tbody tr th:only-of-type {\n",
       "        vertical-align: middle;\n",
       "    }\n",
       "\n",
       "    .dataframe tbody tr th {\n",
       "        vertical-align: top;\n",
       "    }\n",
       "\n",
       "    .dataframe thead th {\n",
       "        text-align: right;\n",
       "    }\n",
       "</style>\n",
       "<table border=\"1\" class=\"dataframe\">\n",
       "  <thead>\n",
       "    <tr style=\"text-align: right;\">\n",
       "      <th></th>\n",
       "      <th>schoolid</th>\n",
       "      <th>Z</th>\n",
       "      <th>Y</th>\n",
       "      <th>S3</th>\n",
       "      <th>C1</th>\n",
       "      <th>C2</th>\n",
       "      <th>C3</th>\n",
       "      <th>XC</th>\n",
       "      <th>X1</th>\n",
       "      <th>X2</th>\n",
       "      <th>X3</th>\n",
       "      <th>X4</th>\n",
       "      <th>X5</th>\n",
       "    </tr>\n",
       "  </thead>\n",
       "  <tbody>\n",
       "    <tr>\n",
       "      <th>0</th>\n",
       "      <td>76</td>\n",
       "      <td>1</td>\n",
       "      <td>0.081602</td>\n",
       "      <td>6</td>\n",
       "      <td>4</td>\n",
       "      <td>2</td>\n",
       "      <td>1</td>\n",
       "      <td>4</td>\n",
       "      <td>0.334544</td>\n",
       "      <td>0.648586</td>\n",
       "      <td>-1.310927</td>\n",
       "      <td>0.224077</td>\n",
       "      <td>-0.426757</td>\n",
       "    </tr>\n",
       "    <tr>\n",
       "      <th>1</th>\n",
       "      <td>76</td>\n",
       "      <td>1</td>\n",
       "      <td>-0.385869</td>\n",
       "      <td>4</td>\n",
       "      <td>12</td>\n",
       "      <td>2</td>\n",
       "      <td>1</td>\n",
       "      <td>4</td>\n",
       "      <td>0.334544</td>\n",
       "      <td>0.648586</td>\n",
       "      <td>-1.310927</td>\n",
       "      <td>0.224077</td>\n",
       "      <td>-0.426757</td>\n",
       "    </tr>\n",
       "    <tr>\n",
       "      <th>2</th>\n",
       "      <td>76</td>\n",
       "      <td>1</td>\n",
       "      <td>0.398184</td>\n",
       "      <td>6</td>\n",
       "      <td>4</td>\n",
       "      <td>2</td>\n",
       "      <td>0</td>\n",
       "      <td>4</td>\n",
       "      <td>0.334544</td>\n",
       "      <td>0.648586</td>\n",
       "      <td>-1.310927</td>\n",
       "      <td>0.224077</td>\n",
       "      <td>-0.426757</td>\n",
       "    </tr>\n",
       "    <tr>\n",
       "      <th>3</th>\n",
       "      <td>76</td>\n",
       "      <td>1</td>\n",
       "      <td>-0.175037</td>\n",
       "      <td>6</td>\n",
       "      <td>4</td>\n",
       "      <td>2</td>\n",
       "      <td>0</td>\n",
       "      <td>4</td>\n",
       "      <td>0.334544</td>\n",
       "      <td>0.648586</td>\n",
       "      <td>-1.310927</td>\n",
       "      <td>0.224077</td>\n",
       "      <td>-0.426757</td>\n",
       "    </tr>\n",
       "    <tr>\n",
       "      <th>4</th>\n",
       "      <td>76</td>\n",
       "      <td>1</td>\n",
       "      <td>0.884583</td>\n",
       "      <td>6</td>\n",
       "      <td>4</td>\n",
       "      <td>1</td>\n",
       "      <td>0</td>\n",
       "      <td>4</td>\n",
       "      <td>0.334544</td>\n",
       "      <td>0.648586</td>\n",
       "      <td>-1.310927</td>\n",
       "      <td>0.224077</td>\n",
       "      <td>-0.426757</td>\n",
       "    </tr>\n",
       "  </tbody>\n",
       "</table>\n",
       "</div>"
      ],
      "text/plain": [
       "   schoolid  Z         Y  S3  C1  C2  C3  XC        X1        X2        X3  \\\n",
       "0        76  1  0.081602   6   4   2   1   4  0.334544  0.648586 -1.310927   \n",
       "1        76  1 -0.385869   4  12   2   1   4  0.334544  0.648586 -1.310927   \n",
       "2        76  1  0.398184   6   4   2   0   4  0.334544  0.648586 -1.310927   \n",
       "3        76  1 -0.175037   6   4   2   0   4  0.334544  0.648586 -1.310927   \n",
       "4        76  1  0.884583   6   4   1   0   4  0.334544  0.648586 -1.310927   \n",
       "\n",
       "         X4        X5  \n",
       "0  0.224077 -0.426757  \n",
       "1  0.224077 -0.426757  \n",
       "2  0.224077 -0.426757  \n",
       "3  0.224077 -0.426757  \n",
       "4  0.224077 -0.426757  "
      ]
     },
     "execution_count": 5,
     "metadata": {},
     "output_type": "execute_result"
    }
   ],
   "source": [
    "dataall.head(5)"
   ]
  },
  {
   "cell_type": "code",
   "execution_count": 6,
   "id": "cbe6e4ef",
   "metadata": {},
   "outputs": [],
   "source": [
    "dataall.schoolid = np.multiply(dataall.schoolid,1)"
   ]
  },
  {
   "cell_type": "code",
   "execution_count": 7,
   "id": "c8f81f2d",
   "metadata": {},
   "outputs": [],
   "source": [
    "school_id = pd.to_numeric(dataall.schoolid, errors='coerce').astype(int)"
   ]
  },
  {
   "cell_type": "code",
   "execution_count": 8,
   "id": "daf5c6da",
   "metadata": {},
   "outputs": [
    {
     "data": {
      "text/plain": [
       "0        76\n",
       "1        76\n",
       "2        76\n",
       "3        76\n",
       "4        76\n",
       "         ..\n",
       "10386     1\n",
       "10387     1\n",
       "10388     1\n",
       "10389     1\n",
       "10390     1\n",
       "Name: schoolid, Length: 10391, dtype: int32"
      ]
     },
     "execution_count": 8,
     "metadata": {},
     "output_type": "execute_result"
    }
   ],
   "source": [
    "school_id"
   ]
  },
  {
   "cell_type": "code",
   "execution_count": 9,
   "id": "63fd4eb0",
   "metadata": {},
   "outputs": [],
   "source": [
    "school_size = school_id.sum(axis = 0, skipna = True)"
   ]
  },
  {
   "cell_type": "code",
   "execution_count": 10,
   "id": "22cc3b0a",
   "metadata": {},
   "outputs": [
    {
     "data": {
      "text/plain": [
       "414485"
      ]
     },
     "execution_count": 10,
     "metadata": {},
     "output_type": "execute_result"
    }
   ],
   "source": [
    "school_size"
   ]
  },
  {
   "cell_type": "code",
   "execution_count": 11,
   "id": "e370d0b9",
   "metadata": {},
   "outputs": [],
   "source": [
    "# It appears that school ID does not affect pscore. So ignore it\n",
    "# in modeling, and just treat it as source of per-cluster error.\n"
   ]
  },
  {
   "cell_type": "code",
   "execution_count": 26,
   "id": "00c3137d",
   "metadata": {},
   "outputs": [],
   "source": [
    "W = dataall.Z.reset_index( drop = True )\n",
    "Y = dataall.Y.reset_index( drop = True )\n",
    "X_raw = dataall.iloc[:, 3:].reset_index( drop = True )"
   ]
  },
  {
   "cell_type": "code",
   "execution_count": 31,
   "id": "dd94799c",
   "metadata": {},
   "outputs": [],
   "source": [
    "W = pd.DataFrame(W)\n",
    "Y = pd.DataFrame(Y)"
   ]
  },
  {
   "cell_type": "code",
   "execution_count": 32,
   "id": "2e7c20e0",
   "metadata": {},
   "outputs": [
    {
     "data": {
      "text/html": [
       "<div>\n",
       "<style scoped>\n",
       "    .dataframe tbody tr th:only-of-type {\n",
       "        vertical-align: middle;\n",
       "    }\n",
       "\n",
       "    .dataframe tbody tr th {\n",
       "        vertical-align: top;\n",
       "    }\n",
       "\n",
       "    .dataframe thead th {\n",
       "        text-align: right;\n",
       "    }\n",
       "</style>\n",
       "<table border=\"1\" class=\"dataframe\">\n",
       "  <thead>\n",
       "    <tr style=\"text-align: right;\">\n",
       "      <th></th>\n",
       "      <th>Y</th>\n",
       "    </tr>\n",
       "  </thead>\n",
       "  <tbody>\n",
       "    <tr>\n",
       "      <th>0</th>\n",
       "      <td>0.081602</td>\n",
       "    </tr>\n",
       "    <tr>\n",
       "      <th>1</th>\n",
       "      <td>-0.385869</td>\n",
       "    </tr>\n",
       "    <tr>\n",
       "      <th>2</th>\n",
       "      <td>0.398184</td>\n",
       "    </tr>\n",
       "    <tr>\n",
       "      <th>3</th>\n",
       "      <td>-0.175037</td>\n",
       "    </tr>\n",
       "    <tr>\n",
       "      <th>4</th>\n",
       "      <td>0.884583</td>\n",
       "    </tr>\n",
       "    <tr>\n",
       "      <th>...</th>\n",
       "      <td>...</td>\n",
       "    </tr>\n",
       "    <tr>\n",
       "      <th>10386</th>\n",
       "      <td>0.423366</td>\n",
       "    </tr>\n",
       "    <tr>\n",
       "      <th>10387</th>\n",
       "      <td>-0.197092</td>\n",
       "    </tr>\n",
       "    <tr>\n",
       "      <th>10388</th>\n",
       "      <td>0.141698</td>\n",
       "    </tr>\n",
       "    <tr>\n",
       "      <th>10389</th>\n",
       "      <td>-0.351565</td>\n",
       "    </tr>\n",
       "    <tr>\n",
       "      <th>10390</th>\n",
       "      <td>0.211240</td>\n",
       "    </tr>\n",
       "  </tbody>\n",
       "</table>\n",
       "<p>10391 rows × 1 columns</p>\n",
       "</div>"
      ],
      "text/plain": [
       "              Y\n",
       "0      0.081602\n",
       "1     -0.385869\n",
       "2      0.398184\n",
       "3     -0.175037\n",
       "4      0.884583\n",
       "...         ...\n",
       "10386  0.423366\n",
       "10387 -0.197092\n",
       "10388  0.141698\n",
       "10389 -0.351565\n",
       "10390  0.211240\n",
       "\n",
       "[10391 rows x 1 columns]"
      ]
     },
     "execution_count": 32,
     "metadata": {},
     "output_type": "execute_result"
    }
   ],
   "source": [
    "Y"
   ]
  },
  {
   "cell_type": "code",
   "execution_count": 33,
   "id": "6f6dd414",
   "metadata": {
    "scrolled": true
   },
   "outputs": [
    {
     "data": {
      "text/html": [
       "<div>\n",
       "<style scoped>\n",
       "    .dataframe tbody tr th:only-of-type {\n",
       "        vertical-align: middle;\n",
       "    }\n",
       "\n",
       "    .dataframe tbody tr th {\n",
       "        vertical-align: top;\n",
       "    }\n",
       "\n",
       "    .dataframe thead th {\n",
       "        text-align: right;\n",
       "    }\n",
       "</style>\n",
       "<table border=\"1\" class=\"dataframe\">\n",
       "  <thead>\n",
       "    <tr style=\"text-align: right;\">\n",
       "      <th></th>\n",
       "      <th>S3</th>\n",
       "      <th>C1</th>\n",
       "      <th>C2</th>\n",
       "      <th>C3</th>\n",
       "      <th>XC</th>\n",
       "      <th>X1</th>\n",
       "      <th>X2</th>\n",
       "      <th>X3</th>\n",
       "      <th>X4</th>\n",
       "      <th>X5</th>\n",
       "    </tr>\n",
       "  </thead>\n",
       "  <tbody>\n",
       "    <tr>\n",
       "      <th>0</th>\n",
       "      <td>6</td>\n",
       "      <td>4</td>\n",
       "      <td>2</td>\n",
       "      <td>1</td>\n",
       "      <td>4</td>\n",
       "      <td>0.334544</td>\n",
       "      <td>0.648586</td>\n",
       "      <td>-1.310927</td>\n",
       "      <td>0.224077</td>\n",
       "      <td>-0.426757</td>\n",
       "    </tr>\n",
       "    <tr>\n",
       "      <th>1</th>\n",
       "      <td>4</td>\n",
       "      <td>12</td>\n",
       "      <td>2</td>\n",
       "      <td>1</td>\n",
       "      <td>4</td>\n",
       "      <td>0.334544</td>\n",
       "      <td>0.648586</td>\n",
       "      <td>-1.310927</td>\n",
       "      <td>0.224077</td>\n",
       "      <td>-0.426757</td>\n",
       "    </tr>\n",
       "    <tr>\n",
       "      <th>2</th>\n",
       "      <td>6</td>\n",
       "      <td>4</td>\n",
       "      <td>2</td>\n",
       "      <td>0</td>\n",
       "      <td>4</td>\n",
       "      <td>0.334544</td>\n",
       "      <td>0.648586</td>\n",
       "      <td>-1.310927</td>\n",
       "      <td>0.224077</td>\n",
       "      <td>-0.426757</td>\n",
       "    </tr>\n",
       "    <tr>\n",
       "      <th>3</th>\n",
       "      <td>6</td>\n",
       "      <td>4</td>\n",
       "      <td>2</td>\n",
       "      <td>0</td>\n",
       "      <td>4</td>\n",
       "      <td>0.334544</td>\n",
       "      <td>0.648586</td>\n",
       "      <td>-1.310927</td>\n",
       "      <td>0.224077</td>\n",
       "      <td>-0.426757</td>\n",
       "    </tr>\n",
       "    <tr>\n",
       "      <th>4</th>\n",
       "      <td>6</td>\n",
       "      <td>4</td>\n",
       "      <td>1</td>\n",
       "      <td>0</td>\n",
       "      <td>4</td>\n",
       "      <td>0.334544</td>\n",
       "      <td>0.648586</td>\n",
       "      <td>-1.310927</td>\n",
       "      <td>0.224077</td>\n",
       "      <td>-0.426757</td>\n",
       "    </tr>\n",
       "    <tr>\n",
       "      <th>...</th>\n",
       "      <td>...</td>\n",
       "      <td>...</td>\n",
       "      <td>...</td>\n",
       "      <td>...</td>\n",
       "      <td>...</td>\n",
       "      <td>...</td>\n",
       "      <td>...</td>\n",
       "      <td>...</td>\n",
       "      <td>...</td>\n",
       "      <td>...</td>\n",
       "    </tr>\n",
       "    <tr>\n",
       "      <th>10386</th>\n",
       "      <td>7</td>\n",
       "      <td>4</td>\n",
       "      <td>2</td>\n",
       "      <td>1</td>\n",
       "      <td>3</td>\n",
       "      <td>1.185986</td>\n",
       "      <td>-1.129889</td>\n",
       "      <td>1.009875</td>\n",
       "      <td>1.005063</td>\n",
       "      <td>-1.174702</td>\n",
       "    </tr>\n",
       "    <tr>\n",
       "      <th>10387</th>\n",
       "      <td>7</td>\n",
       "      <td>4</td>\n",
       "      <td>2</td>\n",
       "      <td>1</td>\n",
       "      <td>3</td>\n",
       "      <td>1.185986</td>\n",
       "      <td>-1.129889</td>\n",
       "      <td>1.009875</td>\n",
       "      <td>1.005063</td>\n",
       "      <td>-1.174702</td>\n",
       "    </tr>\n",
       "    <tr>\n",
       "      <th>10388</th>\n",
       "      <td>2</td>\n",
       "      <td>15</td>\n",
       "      <td>1</td>\n",
       "      <td>1</td>\n",
       "      <td>3</td>\n",
       "      <td>1.185986</td>\n",
       "      <td>-1.129889</td>\n",
       "      <td>1.009875</td>\n",
       "      <td>1.005063</td>\n",
       "      <td>-1.174702</td>\n",
       "    </tr>\n",
       "    <tr>\n",
       "      <th>10389</th>\n",
       "      <td>5</td>\n",
       "      <td>4</td>\n",
       "      <td>1</td>\n",
       "      <td>1</td>\n",
       "      <td>3</td>\n",
       "      <td>1.185986</td>\n",
       "      <td>-1.129889</td>\n",
       "      <td>1.009875</td>\n",
       "      <td>1.005063</td>\n",
       "      <td>-1.174702</td>\n",
       "    </tr>\n",
       "    <tr>\n",
       "      <th>10390</th>\n",
       "      <td>5</td>\n",
       "      <td>1</td>\n",
       "      <td>2</td>\n",
       "      <td>1</td>\n",
       "      <td>3</td>\n",
       "      <td>1.185986</td>\n",
       "      <td>-1.129889</td>\n",
       "      <td>1.009875</td>\n",
       "      <td>1.005063</td>\n",
       "      <td>-1.174702</td>\n",
       "    </tr>\n",
       "  </tbody>\n",
       "</table>\n",
       "<p>10391 rows × 10 columns</p>\n",
       "</div>"
      ],
      "text/plain": [
       "       S3  C1  C2  C3  XC        X1        X2        X3        X4        X5\n",
       "0       6   4   2   1   4  0.334544  0.648586 -1.310927  0.224077 -0.426757\n",
       "1       4  12   2   1   4  0.334544  0.648586 -1.310927  0.224077 -0.426757\n",
       "2       6   4   2   0   4  0.334544  0.648586 -1.310927  0.224077 -0.426757\n",
       "3       6   4   2   0   4  0.334544  0.648586 -1.310927  0.224077 -0.426757\n",
       "4       6   4   1   0   4  0.334544  0.648586 -1.310927  0.224077 -0.426757\n",
       "...    ..  ..  ..  ..  ..       ...       ...       ...       ...       ...\n",
       "10386   7   4   2   1   3  1.185986 -1.129889  1.009875  1.005063 -1.174702\n",
       "10387   7   4   2   1   3  1.185986 -1.129889  1.009875  1.005063 -1.174702\n",
       "10388   2  15   1   1   3  1.185986 -1.129889  1.009875  1.005063 -1.174702\n",
       "10389   5   4   1   1   3  1.185986 -1.129889  1.009875  1.005063 -1.174702\n",
       "10390   5   1   2   1   3  1.185986 -1.129889  1.009875  1.005063 -1.174702\n",
       "\n",
       "[10391 rows x 10 columns]"
      ]
     },
     "execution_count": 33,
     "metadata": {},
     "output_type": "execute_result"
    }
   ],
   "source": [
    "X_raw"
   ]
  },
  {
   "cell_type": "code",
   "execution_count": 34,
   "id": "af5c97c3",
   "metadata": {},
   "outputs": [],
   "source": [
    "import patsy"
   ]
  },
  {
   "cell_type": "code",
   "execution_count": 35,
   "id": "408d1cac",
   "metadata": {},
   "outputs": [],
   "source": [
    "C1_exp = patsy.dmatrix(X_raw.C1, dataall,return_type='dataframe')\n",
    "XC_exp = patsy.dmatrix(X_raw.XC, dataall,return_type='dataframe')"
   ]
  },
  {
   "cell_type": "code",
   "execution_count": 36,
   "id": "5c88c7be",
   "metadata": {},
   "outputs": [],
   "source": [
    "X = pd.concat([C1_exp,XC_exp],axis = 1)"
   ]
  },
  {
   "cell_type": "code",
   "execution_count": 37,
   "id": "a6d9b295",
   "metadata": {
    "scrolled": true
   },
   "outputs": [
    {
     "data": {
      "text/html": [
       "<div>\n",
       "<style scoped>\n",
       "    .dataframe tbody tr th:only-of-type {\n",
       "        vertical-align: middle;\n",
       "    }\n",
       "\n",
       "    .dataframe tbody tr th {\n",
       "        vertical-align: top;\n",
       "    }\n",
       "\n",
       "    .dataframe thead th {\n",
       "        text-align: right;\n",
       "    }\n",
       "</style>\n",
       "<table border=\"1\" class=\"dataframe\">\n",
       "  <thead>\n",
       "    <tr style=\"text-align: right;\">\n",
       "      <th></th>\n",
       "      <th>C1</th>\n",
       "      <th>XC</th>\n",
       "    </tr>\n",
       "  </thead>\n",
       "  <tbody>\n",
       "    <tr>\n",
       "      <th>0</th>\n",
       "      <td>4</td>\n",
       "      <td>4</td>\n",
       "    </tr>\n",
       "    <tr>\n",
       "      <th>1</th>\n",
       "      <td>12</td>\n",
       "      <td>4</td>\n",
       "    </tr>\n",
       "    <tr>\n",
       "      <th>2</th>\n",
       "      <td>4</td>\n",
       "      <td>4</td>\n",
       "    </tr>\n",
       "    <tr>\n",
       "      <th>3</th>\n",
       "      <td>4</td>\n",
       "      <td>4</td>\n",
       "    </tr>\n",
       "    <tr>\n",
       "      <th>4</th>\n",
       "      <td>4</td>\n",
       "      <td>4</td>\n",
       "    </tr>\n",
       "    <tr>\n",
       "      <th>...</th>\n",
       "      <td>...</td>\n",
       "      <td>...</td>\n",
       "    </tr>\n",
       "    <tr>\n",
       "      <th>10386</th>\n",
       "      <td>4</td>\n",
       "      <td>3</td>\n",
       "    </tr>\n",
       "    <tr>\n",
       "      <th>10387</th>\n",
       "      <td>4</td>\n",
       "      <td>3</td>\n",
       "    </tr>\n",
       "    <tr>\n",
       "      <th>10388</th>\n",
       "      <td>15</td>\n",
       "      <td>3</td>\n",
       "    </tr>\n",
       "    <tr>\n",
       "      <th>10389</th>\n",
       "      <td>4</td>\n",
       "      <td>3</td>\n",
       "    </tr>\n",
       "    <tr>\n",
       "      <th>10390</th>\n",
       "      <td>1</td>\n",
       "      <td>3</td>\n",
       "    </tr>\n",
       "  </tbody>\n",
       "</table>\n",
       "<p>10391 rows × 2 columns</p>\n",
       "</div>"
      ],
      "text/plain": [
       "       C1  XC\n",
       "0       4   4\n",
       "1      12   4\n",
       "2       4   4\n",
       "3       4   4\n",
       "4       4   4\n",
       "...    ..  ..\n",
       "10386   4   3\n",
       "10387   4   3\n",
       "10388  15   3\n",
       "10389   4   3\n",
       "10390   1   3\n",
       "\n",
       "[10391 rows x 2 columns]"
      ]
     },
     "execution_count": 37,
     "metadata": {},
     "output_type": "execute_result"
    }
   ],
   "source": [
    "X"
   ]
  },
  {
   "cell_type": "markdown",
   "id": "6a25c2ec",
   "metadata": {},
   "source": [
    "## How the tree was built?"
   ]
  },
  {
   "cell_type": "code",
   "execution_count": 38,
   "id": "5f604eb1",
   "metadata": {},
   "outputs": [],
   "source": [
    "#First, we are going to fit two separate regression forest (Y_forest and W_forest)"
   ]
  },
  {
   "cell_type": "code",
   "execution_count": 45,
   "id": "f3cd0cb1",
   "metadata": {},
   "outputs": [],
   "source": [
    "# Grow a forest. Add extra trees for the causal forest.\n",
    "from sklearn.tree import DecisionTreeRegressor\n",
    "from sklearn.ensemble import RandomForestRegressor\n",
    "from sklearn.ensemble import GradientBoostingRegressor"
   ]
  },
  {
   "cell_type": "code",
   "execution_count": 72,
   "id": "affaf778",
   "metadata": {},
   "outputs": [],
   "source": [
    "\n",
    "Y_forest = RandomForestRegressor(n_estimators=500,oob_score=True )\n",
    "Y_forest.fit(X, Y.values.ravel())\n",
    "\n",
    "Y_hat = Y_forest.predict\n",
    "\n"
   ]
  },
  {
   "cell_type": "code",
   "execution_count": 73,
   "id": "825fa4a4",
   "metadata": {},
   "outputs": [],
   "source": [
    "\n",
    "W_forest = RandomForestRegressor(n_estimators=500,oob_score=True)\n",
    "W_forest.fit(X, W.values.ravel())\n",
    "\n",
    "W_hat = W_forest.predict"
   ]
  },
  {
   "cell_type": "code",
   "execution_count": 87,
   "id": "ddcb1fbe",
   "metadata": {},
   "outputs": [],
   "source": [
    "import econml\n",
    "from econml.dml import CausalForestDML\n",
    "\n",
    "from sklearn.ensemble import RandomForestRegressor\n",
    "from econml.ortho_forest import ContinuousTreatmentOrthoForest as CausalForest\n"
   ]
  },
  {
   "cell_type": "code",
   "execution_count": 92,
   "id": "45c71902",
   "metadata": {},
   "outputs": [],
   "source": [
    "# Preparing data to fit a causal forest\n",
    "\n",
    "fmla = '0+S3+C2+C3+X1+X2+X3+X4+X5'\n",
    "desc = patsy.ModelDesc.from_formula(fmla)\n",
    "desc.describe()\n",
    "matrix = patsy.dmatrix(fmla, dataall, return_type = \"dataframe\")\n",
    "\n",
    "\n",
    "# Estimate a causal forest.\n",
    "\n",
    "def cluster_causal_forest(Y, X, W,  cluster):        \n",
    "        \n",
    "        base = pd.concat([Y,T], axis = 1)\n",
    "        \n",
    "        for i in range(cluster):\n",
    "        \n",
    "            index=range(X.shape[0]) \n",
    "            a = np.array_split(np.array(index),cluster)[i]  ## split index\n",
    "            \n",
    "            Y = base.drop(base.iloc[list(a),:].index).iloc[:,0]\n",
    "            T = base.drop(base.iloc[list(a),:].index).iloc[:,1]\n",
    "            XX = X.drop(X.iloc[list(a),:].index)\n",
    "            causal = CausalForestDML(model_t=RegressionForest(),\n",
    "                       model_y=RegressionForest(),\n",
    "                       n_estimators=200, min_samples_leaf=5,\n",
    "                       max_depth=50,\n",
    "                       verbose=0, random_state=123)\n",
    "            causal.fit(Y, T, X=XX, W=W)\n",
    "            \n",
    "            tau_hat = causal.effect(X=X.iloc[list(a),:]) # tau(X) estimates using validation data\n",
    "            vector = i*np.ones( len(list(a)) ) + 1\n",
    "            globals()[f'data_{i}'] = pd.DataFrame({\"tau_hat\":tau_hat, \"Cluster\":vector})\n",
    "                                                    \n",
    "        \n",
    "       \n",
    "        tau_predict = data_0.copy()\n",
    "\n",
    "        for k in range(1,10):\n",
    "            tau_predict = tau_predict.append(globals()[f'data_{k}'] , ignore_index=True)\n",
    "            \n",
    "        \n",
    "        \n",
    "        return tau_predict"
   ]
  },
  {
   "cell_type": "code",
   "execution_count": 101,
   "id": "d6f00c52",
   "metadata": {},
   "outputs": [
    {
     "ename": "NameError",
     "evalue": "name 'RegressionForest' is not defined",
     "output_type": "error",
     "traceback": [
      "\u001b[1;31m---------------------------------------------------------------------------\u001b[0m",
      "\u001b[1;31mNameError\u001b[0m                                 Traceback (most recent call last)",
      "Input \u001b[1;32mIn [101]\u001b[0m, in \u001b[0;36m<cell line: 22>\u001b[1;34m()\u001b[0m\n\u001b[0;32m     20\u001b[0m \u001b[38;5;66;03m# Estimate a causal forest.\u001b[39;00m\n\u001b[0;32m     21\u001b[0m T \u001b[38;5;241m=\u001b[39m \u001b[38;5;28;01mNone\u001b[39;00m\n\u001b[1;32m---> 22\u001b[0m tau_hat_cluster \u001b[38;5;241m=\u001b[39m \u001b[43mcluster_causal_forest\u001b[49m\u001b[43m(\u001b[49m\u001b[43mY\u001b[49m\u001b[43m,\u001b[49m\u001b[43m \u001b[49m\u001b[43mW\u001b[49m\u001b[43m,\u001b[49m\u001b[43m \u001b[49m\u001b[43mX\u001b[49m\u001b[43m,\u001b[49m\u001b[43m \u001b[49m\u001b[43mT\u001b[49m\u001b[43m,\u001b[49m\u001b[43m \u001b[49m\u001b[43mcluster\u001b[49m\u001b[43m \u001b[49m\u001b[38;5;241;43m=\u001b[39;49m\u001b[43m \u001b[49m\u001b[43mnum_folds\u001b[49m\u001b[43m)\u001b[49m\n\u001b[0;32m     24\u001b[0m data[\u001b[38;5;124m'\u001b[39m\u001b[38;5;124mranking\u001b[39m\u001b[38;5;124m'\u001b[39m] \u001b[38;5;241m=\u001b[39m np\u001b[38;5;241m.\u001b[39mnan\n\u001b[0;32m     26\u001b[0m \u001b[38;5;28;01mfor\u001b[39;00m i \u001b[38;5;129;01min\u001b[39;00m \u001b[38;5;28mrange\u001b[39m(\u001b[38;5;241m1\u001b[39m,num_folds\u001b[38;5;241m+\u001b[39m\u001b[38;5;241m1\u001b[39m):\n",
      "Input \u001b[1;32mIn [92]\u001b[0m, in \u001b[0;36mcluster_causal_forest\u001b[1;34m(Y, T, X, W, cluster)\u001b[0m\n\u001b[0;32m     21\u001b[0m T \u001b[38;5;241m=\u001b[39m base\u001b[38;5;241m.\u001b[39mdrop(base\u001b[38;5;241m.\u001b[39miloc[\u001b[38;5;28mlist\u001b[39m(a),:]\u001b[38;5;241m.\u001b[39mindex)\u001b[38;5;241m.\u001b[39miloc[:,\u001b[38;5;241m1\u001b[39m]\n\u001b[0;32m     22\u001b[0m XX \u001b[38;5;241m=\u001b[39m X\u001b[38;5;241m.\u001b[39mdrop(X\u001b[38;5;241m.\u001b[39miloc[\u001b[38;5;28mlist\u001b[39m(a),:]\u001b[38;5;241m.\u001b[39mindex)\n\u001b[1;32m---> 23\u001b[0m causal \u001b[38;5;241m=\u001b[39m CausalForestDML(model_t\u001b[38;5;241m=\u001b[39m\u001b[43mRegressionForest\u001b[49m(),\n\u001b[0;32m     24\u001b[0m            model_y\u001b[38;5;241m=\u001b[39mRegressionForest(),\n\u001b[0;32m     25\u001b[0m            n_estimators\u001b[38;5;241m=\u001b[39m\u001b[38;5;241m200\u001b[39m, min_samples_leaf\u001b[38;5;241m=\u001b[39m\u001b[38;5;241m5\u001b[39m,\n\u001b[0;32m     26\u001b[0m            max_depth\u001b[38;5;241m=\u001b[39m\u001b[38;5;241m50\u001b[39m,\n\u001b[0;32m     27\u001b[0m            verbose\u001b[38;5;241m=\u001b[39m\u001b[38;5;241m0\u001b[39m, random_state\u001b[38;5;241m=\u001b[39m\u001b[38;5;241m123\u001b[39m)\n\u001b[0;32m     28\u001b[0m causal\u001b[38;5;241m.\u001b[39mfit(Y, T, X\u001b[38;5;241m=\u001b[39mXX, W\u001b[38;5;241m=\u001b[39mW)\n\u001b[0;32m     30\u001b[0m tau_hat \u001b[38;5;241m=\u001b[39m causal\u001b[38;5;241m.\u001b[39meffect(X\u001b[38;5;241m=\u001b[39mX\u001b[38;5;241m.\u001b[39miloc[\u001b[38;5;28mlist\u001b[39m(a),:]) \u001b[38;5;66;03m# tau(X) estimates using validation data\u001b[39;00m\n",
      "\u001b[1;31mNameError\u001b[0m: name 'RegressionForest' is not defined"
     ]
    }
   ],
   "source": [
    "# Valid randomized data and observational data with unconfoundedness+overlap.\n",
    "# Note: read the comments below carefully. \n",
    "# In randomized settings, do not estimate forest.e and e.hat; use known assignment probs.\n",
    "\n",
    "#\n",
    "# Prepare dataset\n",
    "fmla = '0+S3+C2+C3+X1+X2+X3+X4+X5'\n",
    "desc = patsy.ModelDesc.from_formula(fmla)\n",
    "matrix = patsy.dmatrix(fmla, dataall, return_type = \"dataframe\")\n",
    "\n",
    "# Number of rankings that the predictions will be ranking on \n",
    "# (e.g., 2 for above/below median estimated CATE, 5 for estimated CATE quintiles, etc.)\n",
    "num_rankings = 5  \n",
    "\n",
    "# Prepare for data.splitting\n",
    "# Assign a fold number to each observation.\n",
    "# The argument 'clusters' in the next step will mimick K-fold cross-fitting.\n",
    "num_folds = 10\n",
    "\n",
    "# Estimate a causal forest.\n",
    "T = None\n",
    "tau_hat_cluster = cluster_causal_forest(Y, W, X, T, cluster = num_folds)\n",
    "\n",
    "data['ranking'] = np.nan\n",
    "\n",
    "for i in range(1,num_folds+1):\n",
    "    split = tau_hat_cluster.Cluster == i\n",
    "    index = tau_hat_cluster[split].index\n",
    "    tau_quantile = np.quantile(tau_hat_cluster[split].iloc[:,0], list(np.arange(0,1.1,0.2)))\n",
    "    labels =[i for i in range(1,6)]\n",
    "    data.loc[index , [\"ranking\"]] = pd.cut(tau_hat_cluster[split][\"tau_hat\"], \n",
    "                                               tau_quantile , right=False, labels=labels)"
   ]
  },
  {
   "cell_type": "code",
   "execution_count": null,
   "id": "9d34b875",
   "metadata": {},
   "outputs": [],
   "source": [
    "tau_ha"
   ]
  }
 ],
 "metadata": {
  "kernelspec": {
   "display_name": "Python 3 (ipykernel)",
   "language": "python",
   "name": "python3"
  },
  "language_info": {
   "codemirror_mode": {
    "name": "ipython",
    "version": 3
   },
   "file_extension": ".py",
   "mimetype": "text/x-python",
   "name": "python",
   "nbconvert_exporter": "python",
   "pygments_lexer": "ipython3",
   "version": "3.9.12"
  }
 },
 "nbformat": 4,
 "nbformat_minor": 5
}
