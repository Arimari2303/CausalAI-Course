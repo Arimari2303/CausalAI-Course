{
 "cells": [
  {
   "cell_type": "markdown",
   "id": "61fc8c70",
   "metadata": {},
   "source": [
    "## Worgroup 6\n",
    "\n",
    "- Andrea Ulloa\n",
    "- Ángela Coapaza\n",
    "- Ana Ángulo"
   ]
  },
  {
   "cell_type": "markdown",
   "id": "c98304b0",
   "metadata": {},
   "source": [
    "## CAUSAL FOREST\n",
    "\n",
    "We have to replicate the results found in the paper of Athey and Wager (2018). For this code we follow this \\href{repo}{} to help us for the work.\n",
    "\n",
    "And then we describe in detail the results we found in the next sections of the code:\n",
    "\n",
    "1. How the tree was built?\n",
    "2. Estimate ATE\n",
    "3. Run best linear predictor analysis\n",
    "4. Look at school-wise heterogeneity\n",
    "5. Analysis ignoring clusters. How do the results change?\n",
    "6. Analysis without fitting the propensity score\n",
    "7. The code plot six plots in the Make some plots section, so explain what you find there.\n",
    "8. Visualize school-level covariates by treatment heterogeneity\n",
    "9. CATE by school\n"
   ]
  },
  {
   "cell_type": "code",
   "execution_count": 1,
   "id": "e38c1450",
   "metadata": {},
   "outputs": [],
   "source": [
    "#install.packages(\"Hmisc\")\n",
    "set.seed(1)\n",
    "rm(list =ls())"
   ]
  },
  {
   "cell_type": "code",
   "execution_count": 2,
   "id": "fb794732",
   "metadata": {},
   "outputs": [
    {
     "name": "stderr",
     "output_type": "stream",
     "text": [
      "Loading required package: zoo\n",
      "\n",
      "\n",
      "Attaching package: 'zoo'\n",
      "\n",
      "\n",
      "The following objects are masked from 'package:base':\n",
      "\n",
      "    as.Date, as.Date.numeric\n",
      "\n",
      "\n",
      "Loading required package: lattice\n",
      "\n",
      "Loading required package: survival\n",
      "\n",
      "Loading required package: Formula\n",
      "\n",
      "Loading required package: ggplot2\n",
      "\n",
      "\n",
      "Attaching package: 'Hmisc'\n",
      "\n",
      "\n",
      "The following objects are masked from 'package:base':\n",
      "\n",
      "    format.pval, units\n",
      "\n",
      "\n"
     ]
    }
   ],
   "source": [
    "library(grf)\n",
    "if(packageVersion(\"grf\") < '0.10.2') {\n",
    "  warning(\"This script requires grf 0.10.2 or higher\")\n",
    "}\n",
    "library(sandwich)\n",
    "library(lmtest)\n",
    "library(Hmisc)\n",
    "library(ggplot2)"
   ]
  },
  {
   "cell_type": "code",
   "execution_count": 3,
   "id": "60115feb",
   "metadata": {
    "scrolled": true
   },
   "outputs": [
    {
     "data": {
      "text/html": [
       "<table class=\"dataframe\">\n",
       "<caption>A data.frame: 6 × 13</caption>\n",
       "<thead>\n",
       "\t<tr><th></th><th scope=col>schoolid</th><th scope=col>Z</th><th scope=col>Y</th><th scope=col>S3</th><th scope=col>C1</th><th scope=col>C2</th><th scope=col>C3</th><th scope=col>XC</th><th scope=col>X1</th><th scope=col>X2</th><th scope=col>X3</th><th scope=col>X4</th><th scope=col>X5</th></tr>\n",
       "\t<tr><th></th><th scope=col>&lt;int&gt;</th><th scope=col>&lt;int&gt;</th><th scope=col>&lt;dbl&gt;</th><th scope=col>&lt;int&gt;</th><th scope=col>&lt;int&gt;</th><th scope=col>&lt;int&gt;</th><th scope=col>&lt;int&gt;</th><th scope=col>&lt;int&gt;</th><th scope=col>&lt;dbl&gt;</th><th scope=col>&lt;dbl&gt;</th><th scope=col>&lt;dbl&gt;</th><th scope=col>&lt;dbl&gt;</th><th scope=col>&lt;dbl&gt;</th></tr>\n",
       "</thead>\n",
       "<tbody>\n",
       "\t<tr><th scope=row>1</th><td>76</td><td>1</td><td> 0.08160167</td><td>6</td><td> 4</td><td>2</td><td>1</td><td>4</td><td>0.3345435</td><td>0.6485856</td><td>-1.310927</td><td>0.2240765</td><td>-0.4267567</td></tr>\n",
       "\t<tr><th scope=row>2</th><td>76</td><td>1</td><td>-0.38586896</td><td>4</td><td>12</td><td>2</td><td>1</td><td>4</td><td>0.3345435</td><td>0.6485856</td><td>-1.310927</td><td>0.2240765</td><td>-0.4267567</td></tr>\n",
       "\t<tr><th scope=row>3</th><td>76</td><td>1</td><td> 0.39818373</td><td>6</td><td> 4</td><td>2</td><td>0</td><td>4</td><td>0.3345435</td><td>0.6485856</td><td>-1.310927</td><td>0.2240765</td><td>-0.4267567</td></tr>\n",
       "\t<tr><th scope=row>4</th><td>76</td><td>1</td><td>-0.17503685</td><td>6</td><td> 4</td><td>2</td><td>0</td><td>4</td><td>0.3345435</td><td>0.6485856</td><td>-1.310927</td><td>0.2240765</td><td>-0.4267567</td></tr>\n",
       "\t<tr><th scope=row>5</th><td>76</td><td>1</td><td> 0.88458337</td><td>6</td><td> 4</td><td>1</td><td>0</td><td>4</td><td>0.3345435</td><td>0.6485856</td><td>-1.310927</td><td>0.2240765</td><td>-0.4267567</td></tr>\n",
       "\t<tr><th scope=row>6</th><td>76</td><td>1</td><td>-0.09056477</td><td>6</td><td> 4</td><td>2</td><td>0</td><td>4</td><td>0.3345435</td><td>0.6485856</td><td>-1.310927</td><td>0.2240765</td><td>-0.4267567</td></tr>\n",
       "</tbody>\n",
       "</table>\n"
      ],
      "text/latex": [
       "A data.frame: 6 × 13\n",
       "\\begin{tabular}{r|lllllllllllll}\n",
       "  & schoolid & Z & Y & S3 & C1 & C2 & C3 & XC & X1 & X2 & X3 & X4 & X5\\\\\n",
       "  & <int> & <int> & <dbl> & <int> & <int> & <int> & <int> & <int> & <dbl> & <dbl> & <dbl> & <dbl> & <dbl>\\\\\n",
       "\\hline\n",
       "\t1 & 76 & 1 &  0.08160167 & 6 &  4 & 2 & 1 & 4 & 0.3345435 & 0.6485856 & -1.310927 & 0.2240765 & -0.4267567\\\\\n",
       "\t2 & 76 & 1 & -0.38586896 & 4 & 12 & 2 & 1 & 4 & 0.3345435 & 0.6485856 & -1.310927 & 0.2240765 & -0.4267567\\\\\n",
       "\t3 & 76 & 1 &  0.39818373 & 6 &  4 & 2 & 0 & 4 & 0.3345435 & 0.6485856 & -1.310927 & 0.2240765 & -0.4267567\\\\\n",
       "\t4 & 76 & 1 & -0.17503685 & 6 &  4 & 2 & 0 & 4 & 0.3345435 & 0.6485856 & -1.310927 & 0.2240765 & -0.4267567\\\\\n",
       "\t5 & 76 & 1 &  0.88458337 & 6 &  4 & 1 & 0 & 4 & 0.3345435 & 0.6485856 & -1.310927 & 0.2240765 & -0.4267567\\\\\n",
       "\t6 & 76 & 1 & -0.09056477 & 6 &  4 & 2 & 0 & 4 & 0.3345435 & 0.6485856 & -1.310927 & 0.2240765 & -0.4267567\\\\\n",
       "\\end{tabular}\n"
      ],
      "text/markdown": [
       "\n",
       "A data.frame: 6 × 13\n",
       "\n",
       "| <!--/--> | schoolid &lt;int&gt; | Z &lt;int&gt; | Y &lt;dbl&gt; | S3 &lt;int&gt; | C1 &lt;int&gt; | C2 &lt;int&gt; | C3 &lt;int&gt; | XC &lt;int&gt; | X1 &lt;dbl&gt; | X2 &lt;dbl&gt; | X3 &lt;dbl&gt; | X4 &lt;dbl&gt; | X5 &lt;dbl&gt; |\n",
       "|---|---|---|---|---|---|---|---|---|---|---|---|---|---|\n",
       "| 1 | 76 | 1 |  0.08160167 | 6 |  4 | 2 | 1 | 4 | 0.3345435 | 0.6485856 | -1.310927 | 0.2240765 | -0.4267567 |\n",
       "| 2 | 76 | 1 | -0.38586896 | 4 | 12 | 2 | 1 | 4 | 0.3345435 | 0.6485856 | -1.310927 | 0.2240765 | -0.4267567 |\n",
       "| 3 | 76 | 1 |  0.39818373 | 6 |  4 | 2 | 0 | 4 | 0.3345435 | 0.6485856 | -1.310927 | 0.2240765 | -0.4267567 |\n",
       "| 4 | 76 | 1 | -0.17503685 | 6 |  4 | 2 | 0 | 4 | 0.3345435 | 0.6485856 | -1.310927 | 0.2240765 | -0.4267567 |\n",
       "| 5 | 76 | 1 |  0.88458337 | 6 |  4 | 1 | 0 | 4 | 0.3345435 | 0.6485856 | -1.310927 | 0.2240765 | -0.4267567 |\n",
       "| 6 | 76 | 1 | -0.09056477 | 6 |  4 | 2 | 0 | 4 | 0.3345435 | 0.6485856 | -1.310927 | 0.2240765 | -0.4267567 |\n",
       "\n"
      ],
      "text/plain": [
       "  schoolid Z Y           S3 C1 C2 C3 XC X1        X2        X3        X4       \n",
       "1 76       1  0.08160167 6   4 2  1  4  0.3345435 0.6485856 -1.310927 0.2240765\n",
       "2 76       1 -0.38586896 4  12 2  1  4  0.3345435 0.6485856 -1.310927 0.2240765\n",
       "3 76       1  0.39818373 6   4 2  0  4  0.3345435 0.6485856 -1.310927 0.2240765\n",
       "4 76       1 -0.17503685 6   4 2  0  4  0.3345435 0.6485856 -1.310927 0.2240765\n",
       "5 76       1  0.88458337 6   4 1  0  4  0.3345435 0.6485856 -1.310927 0.2240765\n",
       "6 76       1 -0.09056477 6   4 2  0  4  0.3345435 0.6485856 -1.310927 0.2240765\n",
       "  X5        \n",
       "1 -0.4267567\n",
       "2 -0.4267567\n",
       "3 -0.4267567\n",
       "4 -0.4267567\n",
       "5 -0.4267567\n",
       "6 -0.4267567"
      ]
     },
     "metadata": {},
     "output_type": "display_data"
    }
   ],
   "source": [
    "data.all = read.csv(\"https://raw.githubusercontent.com/grf-labs/grf/master/experiments/acic18/synthetic_data.csv\")\n",
    "head(data.all)"
   ]
  },
  {
   "cell_type": "code",
   "execution_count": 4,
   "id": "c10ec7f6",
   "metadata": {},
   "outputs": [
    {
     "data": {
      "text/html": [
       "<table class=\"dataframe\">\n",
       "<caption>A data.frame: 6 × 13</caption>\n",
       "<thead>\n",
       "\t<tr><th></th><th scope=col>schoolid</th><th scope=col>Z</th><th scope=col>Y</th><th scope=col>S3</th><th scope=col>C1</th><th scope=col>C2</th><th scope=col>C3</th><th scope=col>XC</th><th scope=col>X1</th><th scope=col>X2</th><th scope=col>X3</th><th scope=col>X4</th><th scope=col>X5</th></tr>\n",
       "\t<tr><th></th><th scope=col>&lt;fct&gt;</th><th scope=col>&lt;int&gt;</th><th scope=col>&lt;dbl&gt;</th><th scope=col>&lt;int&gt;</th><th scope=col>&lt;int&gt;</th><th scope=col>&lt;int&gt;</th><th scope=col>&lt;int&gt;</th><th scope=col>&lt;int&gt;</th><th scope=col>&lt;dbl&gt;</th><th scope=col>&lt;dbl&gt;</th><th scope=col>&lt;dbl&gt;</th><th scope=col>&lt;dbl&gt;</th><th scope=col>&lt;dbl&gt;</th></tr>\n",
       "</thead>\n",
       "<tbody>\n",
       "\t<tr><th scope=row>1</th><td>76</td><td>1</td><td> 0.08160167</td><td>6</td><td> 4</td><td>2</td><td>1</td><td>4</td><td>0.3345435</td><td>0.6485856</td><td>-1.310927</td><td>0.2240765</td><td>-0.4267567</td></tr>\n",
       "\t<tr><th scope=row>2</th><td>76</td><td>1</td><td>-0.38586896</td><td>4</td><td>12</td><td>2</td><td>1</td><td>4</td><td>0.3345435</td><td>0.6485856</td><td>-1.310927</td><td>0.2240765</td><td>-0.4267567</td></tr>\n",
       "\t<tr><th scope=row>3</th><td>76</td><td>1</td><td> 0.39818373</td><td>6</td><td> 4</td><td>2</td><td>0</td><td>4</td><td>0.3345435</td><td>0.6485856</td><td>-1.310927</td><td>0.2240765</td><td>-0.4267567</td></tr>\n",
       "\t<tr><th scope=row>4</th><td>76</td><td>1</td><td>-0.17503685</td><td>6</td><td> 4</td><td>2</td><td>0</td><td>4</td><td>0.3345435</td><td>0.6485856</td><td>-1.310927</td><td>0.2240765</td><td>-0.4267567</td></tr>\n",
       "\t<tr><th scope=row>5</th><td>76</td><td>1</td><td> 0.88458337</td><td>6</td><td> 4</td><td>1</td><td>0</td><td>4</td><td>0.3345435</td><td>0.6485856</td><td>-1.310927</td><td>0.2240765</td><td>-0.4267567</td></tr>\n",
       "\t<tr><th scope=row>6</th><td>76</td><td>1</td><td>-0.09056477</td><td>6</td><td> 4</td><td>2</td><td>0</td><td>4</td><td>0.3345435</td><td>0.6485856</td><td>-1.310927</td><td>0.2240765</td><td>-0.4267567</td></tr>\n",
       "</tbody>\n",
       "</table>\n"
      ],
      "text/latex": [
       "A data.frame: 6 × 13\n",
       "\\begin{tabular}{r|lllllllllllll}\n",
       "  & schoolid & Z & Y & S3 & C1 & C2 & C3 & XC & X1 & X2 & X3 & X4 & X5\\\\\n",
       "  & <fct> & <int> & <dbl> & <int> & <int> & <int> & <int> & <int> & <dbl> & <dbl> & <dbl> & <dbl> & <dbl>\\\\\n",
       "\\hline\n",
       "\t1 & 76 & 1 &  0.08160167 & 6 &  4 & 2 & 1 & 4 & 0.3345435 & 0.6485856 & -1.310927 & 0.2240765 & -0.4267567\\\\\n",
       "\t2 & 76 & 1 & -0.38586896 & 4 & 12 & 2 & 1 & 4 & 0.3345435 & 0.6485856 & -1.310927 & 0.2240765 & -0.4267567\\\\\n",
       "\t3 & 76 & 1 &  0.39818373 & 6 &  4 & 2 & 0 & 4 & 0.3345435 & 0.6485856 & -1.310927 & 0.2240765 & -0.4267567\\\\\n",
       "\t4 & 76 & 1 & -0.17503685 & 6 &  4 & 2 & 0 & 4 & 0.3345435 & 0.6485856 & -1.310927 & 0.2240765 & -0.4267567\\\\\n",
       "\t5 & 76 & 1 &  0.88458337 & 6 &  4 & 1 & 0 & 4 & 0.3345435 & 0.6485856 & -1.310927 & 0.2240765 & -0.4267567\\\\\n",
       "\t6 & 76 & 1 & -0.09056477 & 6 &  4 & 2 & 0 & 4 & 0.3345435 & 0.6485856 & -1.310927 & 0.2240765 & -0.4267567\\\\\n",
       "\\end{tabular}\n"
      ],
      "text/markdown": [
       "\n",
       "A data.frame: 6 × 13\n",
       "\n",
       "| <!--/--> | schoolid &lt;fct&gt; | Z &lt;int&gt; | Y &lt;dbl&gt; | S3 &lt;int&gt; | C1 &lt;int&gt; | C2 &lt;int&gt; | C3 &lt;int&gt; | XC &lt;int&gt; | X1 &lt;dbl&gt; | X2 &lt;dbl&gt; | X3 &lt;dbl&gt; | X4 &lt;dbl&gt; | X5 &lt;dbl&gt; |\n",
       "|---|---|---|---|---|---|---|---|---|---|---|---|---|---|\n",
       "| 1 | 76 | 1 |  0.08160167 | 6 |  4 | 2 | 1 | 4 | 0.3345435 | 0.6485856 | -1.310927 | 0.2240765 | -0.4267567 |\n",
       "| 2 | 76 | 1 | -0.38586896 | 4 | 12 | 2 | 1 | 4 | 0.3345435 | 0.6485856 | -1.310927 | 0.2240765 | -0.4267567 |\n",
       "| 3 | 76 | 1 |  0.39818373 | 6 |  4 | 2 | 0 | 4 | 0.3345435 | 0.6485856 | -1.310927 | 0.2240765 | -0.4267567 |\n",
       "| 4 | 76 | 1 | -0.17503685 | 6 |  4 | 2 | 0 | 4 | 0.3345435 | 0.6485856 | -1.310927 | 0.2240765 | -0.4267567 |\n",
       "| 5 | 76 | 1 |  0.88458337 | 6 |  4 | 1 | 0 | 4 | 0.3345435 | 0.6485856 | -1.310927 | 0.2240765 | -0.4267567 |\n",
       "| 6 | 76 | 1 | -0.09056477 | 6 |  4 | 2 | 0 | 4 | 0.3345435 | 0.6485856 | -1.310927 | 0.2240765 | -0.4267567 |\n",
       "\n"
      ],
      "text/plain": [
       "  schoolid Z Y           S3 C1 C2 C3 XC X1        X2        X3        X4       \n",
       "1 76       1  0.08160167 6   4 2  1  4  0.3345435 0.6485856 -1.310927 0.2240765\n",
       "2 76       1 -0.38586896 4  12 2  1  4  0.3345435 0.6485856 -1.310927 0.2240765\n",
       "3 76       1  0.39818373 6   4 2  0  4  0.3345435 0.6485856 -1.310927 0.2240765\n",
       "4 76       1 -0.17503685 6   4 2  0  4  0.3345435 0.6485856 -1.310927 0.2240765\n",
       "5 76       1  0.88458337 6   4 1  0  4  0.3345435 0.6485856 -1.310927 0.2240765\n",
       "6 76       1 -0.09056477 6   4 2  0  4  0.3345435 0.6485856 -1.310927 0.2240765\n",
       "  X5        \n",
       "1 -0.4267567\n",
       "2 -0.4267567\n",
       "3 -0.4267567\n",
       "4 -0.4267567\n",
       "5 -0.4267567\n",
       "6 -0.4267567"
      ]
     },
     "metadata": {},
     "output_type": "display_data"
    }
   ],
   "source": [
    "# Changing the variable type of schoolid, from int to factor\n",
    "data.all$schoolid = factor(data.all$schoolid)\n",
    "head(data.all)"
   ]
  },
  {
   "cell_type": "code",
   "execution_count": 5,
   "id": "c9da7b19",
   "metadata": {},
   "outputs": [],
   "source": [
    "DF = data.all[,-1] # Without schoolid\n",
    "school.id = as.numeric(data.all$schoolid) # we get the numbers from the schoolid column"
   ]
  },
  {
   "cell_type": "code",
   "execution_count": 6,
   "id": "8c045745",
   "metadata": {},
   "outputs": [
    {
     "data": {
      "text/html": [
       "<table class=\"dataframe\">\n",
       "<caption>A matrix: 6 × 76 of type dbl</caption>\n",
       "<thead>\n",
       "\t<tr><th></th><th scope=col>schoolid1</th><th scope=col>schoolid2</th><th scope=col>schoolid3</th><th scope=col>schoolid4</th><th scope=col>schoolid5</th><th scope=col>schoolid6</th><th scope=col>schoolid7</th><th scope=col>schoolid8</th><th scope=col>schoolid9</th><th scope=col>schoolid10</th><th scope=col>...</th><th scope=col>schoolid67</th><th scope=col>schoolid68</th><th scope=col>schoolid69</th><th scope=col>schoolid70</th><th scope=col>schoolid71</th><th scope=col>schoolid72</th><th scope=col>schoolid73</th><th scope=col>schoolid74</th><th scope=col>schoolid75</th><th scope=col>schoolid76</th></tr>\n",
       "</thead>\n",
       "<tbody>\n",
       "\t<tr><th scope=row>1</th><td>0</td><td>0</td><td>0</td><td>0</td><td>0</td><td>0</td><td>0</td><td>0</td><td>0</td><td>0</td><td>...</td><td>0</td><td>0</td><td>0</td><td>0</td><td>0</td><td>0</td><td>0</td><td>0</td><td>0</td><td>1</td></tr>\n",
       "\t<tr><th scope=row>2</th><td>0</td><td>0</td><td>0</td><td>0</td><td>0</td><td>0</td><td>0</td><td>0</td><td>0</td><td>0</td><td>...</td><td>0</td><td>0</td><td>0</td><td>0</td><td>0</td><td>0</td><td>0</td><td>0</td><td>0</td><td>1</td></tr>\n",
       "\t<tr><th scope=row>3</th><td>0</td><td>0</td><td>0</td><td>0</td><td>0</td><td>0</td><td>0</td><td>0</td><td>0</td><td>0</td><td>...</td><td>0</td><td>0</td><td>0</td><td>0</td><td>0</td><td>0</td><td>0</td><td>0</td><td>0</td><td>1</td></tr>\n",
       "\t<tr><th scope=row>4</th><td>0</td><td>0</td><td>0</td><td>0</td><td>0</td><td>0</td><td>0</td><td>0</td><td>0</td><td>0</td><td>...</td><td>0</td><td>0</td><td>0</td><td>0</td><td>0</td><td>0</td><td>0</td><td>0</td><td>0</td><td>1</td></tr>\n",
       "\t<tr><th scope=row>5</th><td>0</td><td>0</td><td>0</td><td>0</td><td>0</td><td>0</td><td>0</td><td>0</td><td>0</td><td>0</td><td>...</td><td>0</td><td>0</td><td>0</td><td>0</td><td>0</td><td>0</td><td>0</td><td>0</td><td>0</td><td>1</td></tr>\n",
       "\t<tr><th scope=row>6</th><td>0</td><td>0</td><td>0</td><td>0</td><td>0</td><td>0</td><td>0</td><td>0</td><td>0</td><td>0</td><td>...</td><td>0</td><td>0</td><td>0</td><td>0</td><td>0</td><td>0</td><td>0</td><td>0</td><td>0</td><td>1</td></tr>\n",
       "</tbody>\n",
       "</table>\n"
      ],
      "text/latex": [
       "A matrix: 6 × 76 of type dbl\n",
       "\\begin{tabular}{r|lllllllllllllllllllll}\n",
       "  & schoolid1 & schoolid2 & schoolid3 & schoolid4 & schoolid5 & schoolid6 & schoolid7 & schoolid8 & schoolid9 & schoolid10 & ... & schoolid67 & schoolid68 & schoolid69 & schoolid70 & schoolid71 & schoolid72 & schoolid73 & schoolid74 & schoolid75 & schoolid76\\\\\n",
       "\\hline\n",
       "\t1 & 0 & 0 & 0 & 0 & 0 & 0 & 0 & 0 & 0 & 0 & ... & 0 & 0 & 0 & 0 & 0 & 0 & 0 & 0 & 0 & 1\\\\\n",
       "\t2 & 0 & 0 & 0 & 0 & 0 & 0 & 0 & 0 & 0 & 0 & ... & 0 & 0 & 0 & 0 & 0 & 0 & 0 & 0 & 0 & 1\\\\\n",
       "\t3 & 0 & 0 & 0 & 0 & 0 & 0 & 0 & 0 & 0 & 0 & ... & 0 & 0 & 0 & 0 & 0 & 0 & 0 & 0 & 0 & 1\\\\\n",
       "\t4 & 0 & 0 & 0 & 0 & 0 & 0 & 0 & 0 & 0 & 0 & ... & 0 & 0 & 0 & 0 & 0 & 0 & 0 & 0 & 0 & 1\\\\\n",
       "\t5 & 0 & 0 & 0 & 0 & 0 & 0 & 0 & 0 & 0 & 0 & ... & 0 & 0 & 0 & 0 & 0 & 0 & 0 & 0 & 0 & 1\\\\\n",
       "\t6 & 0 & 0 & 0 & 0 & 0 & 0 & 0 & 0 & 0 & 0 & ... & 0 & 0 & 0 & 0 & 0 & 0 & 0 & 0 & 0 & 1\\\\\n",
       "\\end{tabular}\n"
      ],
      "text/markdown": [
       "\n",
       "A matrix: 6 × 76 of type dbl\n",
       "\n",
       "| <!--/--> | schoolid1 | schoolid2 | schoolid3 | schoolid4 | schoolid5 | schoolid6 | schoolid7 | schoolid8 | schoolid9 | schoolid10 | ... | schoolid67 | schoolid68 | schoolid69 | schoolid70 | schoolid71 | schoolid72 | schoolid73 | schoolid74 | schoolid75 | schoolid76 |\n",
       "|---|---|---|---|---|---|---|---|---|---|---|---|---|---|---|---|---|---|---|---|---|---|\n",
       "| 1 | 0 | 0 | 0 | 0 | 0 | 0 | 0 | 0 | 0 | 0 | ... | 0 | 0 | 0 | 0 | 0 | 0 | 0 | 0 | 0 | 1 |\n",
       "| 2 | 0 | 0 | 0 | 0 | 0 | 0 | 0 | 0 | 0 | 0 | ... | 0 | 0 | 0 | 0 | 0 | 0 | 0 | 0 | 0 | 1 |\n",
       "| 3 | 0 | 0 | 0 | 0 | 0 | 0 | 0 | 0 | 0 | 0 | ... | 0 | 0 | 0 | 0 | 0 | 0 | 0 | 0 | 0 | 1 |\n",
       "| 4 | 0 | 0 | 0 | 0 | 0 | 0 | 0 | 0 | 0 | 0 | ... | 0 | 0 | 0 | 0 | 0 | 0 | 0 | 0 | 0 | 1 |\n",
       "| 5 | 0 | 0 | 0 | 0 | 0 | 0 | 0 | 0 | 0 | 0 | ... | 0 | 0 | 0 | 0 | 0 | 0 | 0 | 0 | 0 | 1 |\n",
       "| 6 | 0 | 0 | 0 | 0 | 0 | 0 | 0 | 0 | 0 | 0 | ... | 0 | 0 | 0 | 0 | 0 | 0 | 0 | 0 | 0 | 1 |\n",
       "\n"
      ],
      "text/plain": [
       "  schoolid1 schoolid2 schoolid3 schoolid4 schoolid5 schoolid6 schoolid7\n",
       "1 0         0         0         0         0         0         0        \n",
       "2 0         0         0         0         0         0         0        \n",
       "3 0         0         0         0         0         0         0        \n",
       "4 0         0         0         0         0         0         0        \n",
       "5 0         0         0         0         0         0         0        \n",
       "6 0         0         0         0         0         0         0        \n",
       "  schoolid8 schoolid9 schoolid10 ... schoolid67 schoolid68 schoolid69\n",
       "1 0         0         0          ... 0          0          0         \n",
       "2 0         0         0          ... 0          0          0         \n",
       "3 0         0         0          ... 0          0          0         \n",
       "4 0         0         0          ... 0          0          0         \n",
       "5 0         0         0          ... 0          0          0         \n",
       "6 0         0         0          ... 0          0          0         \n",
       "  schoolid70 schoolid71 schoolid72 schoolid73 schoolid74 schoolid75 schoolid76\n",
       "1 0          0          0          0          0          0          1         \n",
       "2 0          0          0          0          0          0          1         \n",
       "3 0          0          0          0          0          0          1         \n",
       "4 0          0          0          0          0          0          1         \n",
       "5 0          0          0          0          0          0          1         \n",
       "6 0          0          0          0          0          0          1         "
      ]
     },
     "metadata": {},
     "output_type": "display_data"
    },
    {
     "data": {
      "text/html": [
       "<style>\n",
       ".dl-inline {width: auto; margin:0; padding: 0}\n",
       ".dl-inline>dt, .dl-inline>dd {float: none; width: auto; display: inline-block}\n",
       ".dl-inline>dt::after {content: \":\\0020\"; padding-right: .5ex}\n",
       ".dl-inline>dt:not(:first-of-type) {padding-left: .5ex}\n",
       "</style><dl class=dl-inline><dt>schoolid1</dt><dd>72</dd><dt>schoolid2</dt><dd>321</dd><dt>schoolid3</dt><dd>201</dd><dt>schoolid4</dt><dd>292</dd><dt>schoolid5</dt><dd>189</dd><dt>schoolid6</dt><dd>141</dd><dt>schoolid7</dt><dd>120</dd><dt>schoolid8</dt><dd>152</dd><dt>schoolid9</dt><dd>154</dd><dt>schoolid10</dt><dd>192</dd><dt>schoolid11</dt><dd>21</dd><dt>schoolid12</dt><dd>22</dd><dt>schoolid13</dt><dd>46</dd><dt>schoolid14</dt><dd>24</dd><dt>schoolid15</dt><dd>106</dd><dt>schoolid16</dt><dd>226</dd><dt>schoolid17</dt><dd>128</dd><dt>schoolid18</dt><dd>178</dd><dt>schoolid19</dt><dd>108</dd><dt>schoolid20</dt><dd>161</dd><dt>schoolid21</dt><dd>187</dd><dt>schoolid22</dt><dd>42</dd><dt>schoolid23</dt><dd>78</dd><dt>schoolid24</dt><dd>107</dd><dt>schoolid25</dt><dd>341</dd><dt>schoolid26</dt><dd>224</dd><dt>schoolid27</dt><dd>143</dd><dt>schoolid28</dt><dd>230</dd><dt>schoolid29</dt><dd>107</dd><dt>schoolid30</dt><dd>117</dd><dt>schoolid31</dt><dd>14</dd><dt>schoolid32</dt><dd>47</dd><dt>schoolid33</dt><dd>50</dd><dt>schoolid34</dt><dd>172</dd><dt>schoolid35</dt><dd>54</dd><dt>schoolid36</dt><dd>55</dd><dt>schoolid37</dt><dd>109</dd><dt>schoolid38</dt><dd>55</dd><dt>schoolid39</dt><dd>78</dd><dt>schoolid40</dt><dd>63</dd><dt>schoolid41</dt><dd>76</dd><dt>schoolid42</dt><dd>74</dd><dt>schoolid43</dt><dd>46</dd><dt>schoolid44</dt><dd>60</dd><dt>schoolid45</dt><dd>113</dd><dt>schoolid46</dt><dd>141</dd><dt>schoolid47</dt><dd>325</dd><dt>schoolid48</dt><dd>88</dd><dt>schoolid49</dt><dd>92</dd><dt>schoolid50</dt><dd>45</dd><dt>schoolid51</dt><dd>29</dd><dt>schoolid52</dt><dd>47</dd><dt>schoolid53</dt><dd>35</dd><dt>schoolid54</dt><dd>53</dd><dt>schoolid55</dt><dd>44</dd><dt>schoolid56</dt><dd>121</dd><dt>schoolid57</dt><dd>211</dd><dt>schoolid58</dt><dd>393</dd><dt>schoolid59</dt><dd>196</dd><dt>schoolid60</dt><dd>51</dd><dt>schoolid61</dt><dd>114</dd><dt>schoolid62</dt><dd>529</dd><dt>schoolid63</dt><dd>95</dd><dt>schoolid64</dt><dd>328</dd><dt>schoolid65</dt><dd>43</dd><dt>schoolid66</dt><dd>186</dd><dt>schoolid67</dt><dd>197</dd><dt>schoolid68</dt><dd>104</dd><dt>schoolid69</dt><dd>225</dd><dt>schoolid70</dt><dd>46</dd><dt>schoolid71</dt><dd>37</dd><dt>schoolid72</dt><dd>233</dd><dt>schoolid73</dt><dd>270</dd><dt>schoolid74</dt><dd>258</dd><dt>schoolid75</dt><dd>163</dd><dt>schoolid76</dt><dd>196</dd></dl>\n"
      ],
      "text/latex": [
       "\\begin{description*}\n",
       "\\item[schoolid1] 72\n",
       "\\item[schoolid2] 321\n",
       "\\item[schoolid3] 201\n",
       "\\item[schoolid4] 292\n",
       "\\item[schoolid5] 189\n",
       "\\item[schoolid6] 141\n",
       "\\item[schoolid7] 120\n",
       "\\item[schoolid8] 152\n",
       "\\item[schoolid9] 154\n",
       "\\item[schoolid10] 192\n",
       "\\item[schoolid11] 21\n",
       "\\item[schoolid12] 22\n",
       "\\item[schoolid13] 46\n",
       "\\item[schoolid14] 24\n",
       "\\item[schoolid15] 106\n",
       "\\item[schoolid16] 226\n",
       "\\item[schoolid17] 128\n",
       "\\item[schoolid18] 178\n",
       "\\item[schoolid19] 108\n",
       "\\item[schoolid20] 161\n",
       "\\item[schoolid21] 187\n",
       "\\item[schoolid22] 42\n",
       "\\item[schoolid23] 78\n",
       "\\item[schoolid24] 107\n",
       "\\item[schoolid25] 341\n",
       "\\item[schoolid26] 224\n",
       "\\item[schoolid27] 143\n",
       "\\item[schoolid28] 230\n",
       "\\item[schoolid29] 107\n",
       "\\item[schoolid30] 117\n",
       "\\item[schoolid31] 14\n",
       "\\item[schoolid32] 47\n",
       "\\item[schoolid33] 50\n",
       "\\item[schoolid34] 172\n",
       "\\item[schoolid35] 54\n",
       "\\item[schoolid36] 55\n",
       "\\item[schoolid37] 109\n",
       "\\item[schoolid38] 55\n",
       "\\item[schoolid39] 78\n",
       "\\item[schoolid40] 63\n",
       "\\item[schoolid41] 76\n",
       "\\item[schoolid42] 74\n",
       "\\item[schoolid43] 46\n",
       "\\item[schoolid44] 60\n",
       "\\item[schoolid45] 113\n",
       "\\item[schoolid46] 141\n",
       "\\item[schoolid47] 325\n",
       "\\item[schoolid48] 88\n",
       "\\item[schoolid49] 92\n",
       "\\item[schoolid50] 45\n",
       "\\item[schoolid51] 29\n",
       "\\item[schoolid52] 47\n",
       "\\item[schoolid53] 35\n",
       "\\item[schoolid54] 53\n",
       "\\item[schoolid55] 44\n",
       "\\item[schoolid56] 121\n",
       "\\item[schoolid57] 211\n",
       "\\item[schoolid58] 393\n",
       "\\item[schoolid59] 196\n",
       "\\item[schoolid60] 51\n",
       "\\item[schoolid61] 114\n",
       "\\item[schoolid62] 529\n",
       "\\item[schoolid63] 95\n",
       "\\item[schoolid64] 328\n",
       "\\item[schoolid65] 43\n",
       "\\item[schoolid66] 186\n",
       "\\item[schoolid67] 197\n",
       "\\item[schoolid68] 104\n",
       "\\item[schoolid69] 225\n",
       "\\item[schoolid70] 46\n",
       "\\item[schoolid71] 37\n",
       "\\item[schoolid72] 233\n",
       "\\item[schoolid73] 270\n",
       "\\item[schoolid74] 258\n",
       "\\item[schoolid75] 163\n",
       "\\item[schoolid76] 196\n",
       "\\end{description*}\n"
      ],
      "text/markdown": [
       "schoolid1\n",
       ":   72schoolid2\n",
       ":   321schoolid3\n",
       ":   201schoolid4\n",
       ":   292schoolid5\n",
       ":   189schoolid6\n",
       ":   141schoolid7\n",
       ":   120schoolid8\n",
       ":   152schoolid9\n",
       ":   154schoolid10\n",
       ":   192schoolid11\n",
       ":   21schoolid12\n",
       ":   22schoolid13\n",
       ":   46schoolid14\n",
       ":   24schoolid15\n",
       ":   106schoolid16\n",
       ":   226schoolid17\n",
       ":   128schoolid18\n",
       ":   178schoolid19\n",
       ":   108schoolid20\n",
       ":   161schoolid21\n",
       ":   187schoolid22\n",
       ":   42schoolid23\n",
       ":   78schoolid24\n",
       ":   107schoolid25\n",
       ":   341schoolid26\n",
       ":   224schoolid27\n",
       ":   143schoolid28\n",
       ":   230schoolid29\n",
       ":   107schoolid30\n",
       ":   117schoolid31\n",
       ":   14schoolid32\n",
       ":   47schoolid33\n",
       ":   50schoolid34\n",
       ":   172schoolid35\n",
       ":   54schoolid36\n",
       ":   55schoolid37\n",
       ":   109schoolid38\n",
       ":   55schoolid39\n",
       ":   78schoolid40\n",
       ":   63schoolid41\n",
       ":   76schoolid42\n",
       ":   74schoolid43\n",
       ":   46schoolid44\n",
       ":   60schoolid45\n",
       ":   113schoolid46\n",
       ":   141schoolid47\n",
       ":   325schoolid48\n",
       ":   88schoolid49\n",
       ":   92schoolid50\n",
       ":   45schoolid51\n",
       ":   29schoolid52\n",
       ":   47schoolid53\n",
       ":   35schoolid54\n",
       ":   53schoolid55\n",
       ":   44schoolid56\n",
       ":   121schoolid57\n",
       ":   211schoolid58\n",
       ":   393schoolid59\n",
       ":   196schoolid60\n",
       ":   51schoolid61\n",
       ":   114schoolid62\n",
       ":   529schoolid63\n",
       ":   95schoolid64\n",
       ":   328schoolid65\n",
       ":   43schoolid66\n",
       ":   186schoolid67\n",
       ":   197schoolid68\n",
       ":   104schoolid69\n",
       ":   225schoolid70\n",
       ":   46schoolid71\n",
       ":   37schoolid72\n",
       ":   233schoolid73\n",
       ":   270schoolid74\n",
       ":   258schoolid75\n",
       ":   163schoolid76\n",
       ":   196\n",
       "\n"
      ],
      "text/plain": [
       " schoolid1  schoolid2  schoolid3  schoolid4  schoolid5  schoolid6  schoolid7 \n",
       "        72        321        201        292        189        141        120 \n",
       " schoolid8  schoolid9 schoolid10 schoolid11 schoolid12 schoolid13 schoolid14 \n",
       "       152        154        192         21         22         46         24 \n",
       "schoolid15 schoolid16 schoolid17 schoolid18 schoolid19 schoolid20 schoolid21 \n",
       "       106        226        128        178        108        161        187 \n",
       "schoolid22 schoolid23 schoolid24 schoolid25 schoolid26 schoolid27 schoolid28 \n",
       "        42         78        107        341        224        143        230 \n",
       "schoolid29 schoolid30 schoolid31 schoolid32 schoolid33 schoolid34 schoolid35 \n",
       "       107        117         14         47         50        172         54 \n",
       "schoolid36 schoolid37 schoolid38 schoolid39 schoolid40 schoolid41 schoolid42 \n",
       "        55        109         55         78         63         76         74 \n",
       "schoolid43 schoolid44 schoolid45 schoolid46 schoolid47 schoolid48 schoolid49 \n",
       "        46         60        113        141        325         88         92 \n",
       "schoolid50 schoolid51 schoolid52 schoolid53 schoolid54 schoolid55 schoolid56 \n",
       "        45         29         47         35         53         44        121 \n",
       "schoolid57 schoolid58 schoolid59 schoolid60 schoolid61 schoolid62 schoolid63 \n",
       "       211        393        196         51        114        529         95 \n",
       "schoolid64 schoolid65 schoolid66 schoolid67 schoolid68 schoolid69 schoolid70 \n",
       "       328         43        186        197        104        225         46 \n",
       "schoolid71 schoolid72 schoolid73 schoolid74 schoolid75 schoolid76 \n",
       "        37        233        270        258        163        196 "
      ]
     },
     "metadata": {},
     "output_type": "display_data"
    }
   ],
   "source": [
    "# We get a matrix with only the variable schoolid, without intercept\n",
    "school.mat = model.matrix(~ schoolid + 0, data = data.all) \n",
    "head(school.mat)\n",
    "school.size = colSums(school.mat) # sum the schoolid column of the array school.mat\n",
    "school.size "
   ]
  },
  {
   "cell_type": "code",
   "execution_count": 7,
   "id": "da4b74b7",
   "metadata": {},
   "outputs": [
    {
     "data": {
      "text/plain": [
       "\n",
       "Call:\n",
       "glm(formula = Z ~ ., family = binomial, data = data.all[, -3])\n",
       "\n",
       "Deviance Residuals: \n",
       "    Min       1Q   Median       3Q      Max  \n",
       "-1.2079  -0.9088  -0.8297   1.4176   1.9556  \n",
       "\n",
       "Coefficients: (6 not defined because of singularities)\n",
       "              Estimate Std. Error z value Pr(>|z|)    \n",
       "(Intercept) -0.9524636  0.2845173  -3.348 0.000815 ***\n",
       "schoolid2    0.0697302  0.2766287   0.252 0.800986    \n",
       "schoolid3    0.0382080  0.2911323   0.131 0.895586    \n",
       "schoolid4    0.1761334  0.2784711   0.633 0.527059    \n",
       "schoolid5   -0.0033389  0.2950180  -0.011 0.990970    \n",
       "schoolid6    0.0583548  0.3067481   0.190 0.849124    \n",
       "schoolid7   -0.1313759  0.3188190  -0.412 0.680288    \n",
       "schoolid8    0.1233661  0.3023736   0.408 0.683279    \n",
       "schoolid9   -0.1955428  0.3073344  -0.636 0.524611    \n",
       "schoolid10  -0.1892794  0.2968750  -0.638 0.523752    \n",
       "schoolid11  -0.2224060  0.5461005  -0.407 0.683816    \n",
       "schoolid12  -0.3312420  0.5414374  -0.612 0.540682    \n",
       "schoolid13  -0.0408540  0.3989507  -0.102 0.918436    \n",
       "schoolid14  -0.8681934  0.6033674  -1.439 0.150175    \n",
       "schoolid15  -0.1059135  0.3263162  -0.325 0.745504    \n",
       "schoolid16  -0.1063268  0.2885387  -0.369 0.712500    \n",
       "schoolid17   0.0854323  0.3119435   0.274 0.784184    \n",
       "schoolid18  -0.1924441  0.2997822  -0.642 0.520908    \n",
       "schoolid19  -0.0265326  0.3229712  -0.082 0.934526    \n",
       "schoolid20  -0.2179554  0.3041336  -0.717 0.473594    \n",
       "schoolid21  -0.2147440  0.2982822  -0.720 0.471565    \n",
       "schoolid22  -0.5115966  0.4410779  -1.160 0.246098    \n",
       "schoolid23   0.0039231  0.3475373   0.011 0.990994    \n",
       "schoolid24  -0.0848314  0.3259572  -0.260 0.794668    \n",
       "schoolid25   0.0521087  0.2754586   0.189 0.849959    \n",
       "schoolid26   0.0241212  0.2876511   0.084 0.933171    \n",
       "schoolid27  -0.2300630  0.3104796  -0.741 0.458698    \n",
       "schoolid28  -0.3519010  0.2924774  -1.203 0.228909    \n",
       "schoolid29  -0.2198764  0.3293288  -0.668 0.504357    \n",
       "schoolid30  -0.3146292  0.3257994  -0.966 0.334187    \n",
       "schoolid31   0.1398555  0.6137901   0.228 0.819759    \n",
       "schoolid32   0.1555524  0.3916156   0.397 0.691215    \n",
       "schoolid33  -0.0991693  0.3939370  -0.252 0.801243    \n",
       "schoolid34  -0.0073688  0.2980808  -0.025 0.980278    \n",
       "schoolid35  -0.3528987  0.3997273  -0.883 0.377318    \n",
       "schoolid36  -0.3751465  0.3988972  -0.940 0.346982    \n",
       "schoolid37  -0.0343169  0.3219646  -0.107 0.915117    \n",
       "schoolid38  -0.1346432  0.3851869  -0.350 0.726674    \n",
       "schoolid39  -0.4339936  0.3612869  -1.201 0.229657    \n",
       "schoolid40  -0.3993958  0.3834495  -1.042 0.297604    \n",
       "schoolid41  -0.1490784  0.3542105  -0.421 0.673846    \n",
       "schoolid42  -0.1545715  0.3551857  -0.435 0.663428    \n",
       "schoolid43  -0.5679567  0.4277455  -1.328 0.184247    \n",
       "schoolid44  -0.1425896  0.3774795  -0.378 0.705623    \n",
       "schoolid45  -0.1337888  0.3232493  -0.414 0.678957    \n",
       "schoolid46  -0.2573249  0.3129119  -0.822 0.410874    \n",
       "schoolid47   0.0027726  0.2770108   0.010 0.992014    \n",
       "schoolid48  -0.3406079  0.3470361  -0.981 0.326358    \n",
       "schoolid49  -0.3236117  0.3434541  -0.942 0.346077    \n",
       "schoolid50  -0.1185119  0.4086074  -0.290 0.771787    \n",
       "schoolid51   0.4087898  0.4506822   0.907 0.364382    \n",
       "schoolid52  -0.3144014  0.4118342  -0.763 0.445214    \n",
       "schoolid53  -0.2733677  0.4511280  -0.606 0.544538    \n",
       "schoolid54  -0.0889588  0.3872532  -0.230 0.818311    \n",
       "schoolid55  -0.1558106  0.4155020  -0.375 0.707665    \n",
       "schoolid56   0.1050353  0.3149235   0.334 0.738737    \n",
       "schoolid57  -0.0314901  0.2901719  -0.109 0.913581    \n",
       "schoolid58  -0.0383183  0.2730077  -0.140 0.888379    \n",
       "schoolid59  -0.0529637  0.2934895  -0.180 0.856790    \n",
       "schoolid60  -0.1624792  0.3972885  -0.409 0.682561    \n",
       "schoolid61  -0.0289549  0.3201953  -0.090 0.927946    \n",
       "schoolid62   0.0993158  0.2669678   0.372 0.709882    \n",
       "schoolid63   0.1684702  0.3282167   0.513 0.607749    \n",
       "schoolid64  -0.0693060  0.2770896  -0.250 0.802493    \n",
       "schoolid65  -0.0004197  0.4072922  -0.001 0.999178    \n",
       "schoolid66  -0.2130911  0.2984091  -0.714 0.475171    \n",
       "schoolid67   0.0358440  0.2921158   0.123 0.902341    \n",
       "schoolid68  -0.0871303  0.3290814  -0.265 0.791188    \n",
       "schoolid69  -0.2550387  0.2908992  -0.877 0.380636    \n",
       "schoolid70  -0.0268947  0.4032160  -0.067 0.946820    \n",
       "schoolid71   0.0037464  0.4268290   0.009 0.992997    \n",
       "schoolid72  -0.1304085  0.2881512  -0.453 0.650859    \n",
       "schoolid73  -0.2160697  0.2840030  -0.761 0.446776    \n",
       "schoolid74  -0.0935320  0.2842612  -0.329 0.742129    \n",
       "schoolid75  -0.1056241  0.3024204  -0.349 0.726892    \n",
       "schoolid76  -0.1052261  0.2939262  -0.358 0.720342    \n",
       "S3           0.1036077  0.0197345   5.250 1.52e-07 ***\n",
       "C1          -0.0015919  0.0053900  -0.295 0.767728    \n",
       "C2          -0.1038596  0.0424020  -2.449 0.014309 *  \n",
       "C3          -0.1319218  0.0461833  -2.856 0.004284 ** \n",
       "XC                  NA         NA      NA       NA    \n",
       "X1                  NA         NA      NA       NA    \n",
       "X2                  NA         NA      NA       NA    \n",
       "X3                  NA         NA      NA       NA    \n",
       "X4                  NA         NA      NA       NA    \n",
       "X5                  NA         NA      NA       NA    \n",
       "---\n",
       "Signif. codes:  0 '***' 0.001 '**' 0.01 '*' 0.05 '.' 0.1 ' ' 1\n",
       "\n",
       "(Dispersion parameter for binomial family taken to be 1)\n",
       "\n",
       "    Null deviance: 13115  on 10390  degrees of freedom\n",
       "Residual deviance: 13009  on 10311  degrees of freedom\n",
       "AIC: 13169\n",
       "\n",
       "Number of Fisher Scoring iterations: 4\n"
      ]
     },
     "metadata": {},
     "output_type": "display_data"
    }
   ],
   "source": [
    "# It appears that school ID does not affect pscore. So ignore it\n",
    "# in modeling, and just treat it as source of per-cluster error.\n",
    "w.lm = glm(Z ~ ., data = data.all[,-3], family = binomial)\n",
    "summary(w.lm)"
   ]
  },
  {
   "cell_type": "code",
   "execution_count": 8,
   "id": "3b4c6f20",
   "metadata": {},
   "outputs": [],
   "source": [
    "# We define the endogenous, treatment and control variables\n",
    "Y = DF$Y\n",
    "W = DF$Z\n",
    "X.raw = DF[,-(1:2)]"
   ]
  },
  {
   "cell_type": "code",
   "execution_count": 10,
   "id": "2e8846a2",
   "metadata": {},
   "outputs": [
    {
     "data": {
      "text/html": [
       "<table class=\"dataframe\">\n",
       "<caption>A matrix: 6 × 5 of type dbl</caption>\n",
       "<thead>\n",
       "\t<tr><th></th><th scope=col>factor(X.raw$XC)0</th><th scope=col>factor(X.raw$XC)1</th><th scope=col>factor(X.raw$XC)2</th><th scope=col>factor(X.raw$XC)3</th><th scope=col>factor(X.raw$XC)4</th></tr>\n",
       "</thead>\n",
       "<tbody>\n",
       "\t<tr><th scope=row>1</th><td>0</td><td>0</td><td>0</td><td>0</td><td>1</td></tr>\n",
       "\t<tr><th scope=row>2</th><td>0</td><td>0</td><td>0</td><td>0</td><td>1</td></tr>\n",
       "\t<tr><th scope=row>3</th><td>0</td><td>0</td><td>0</td><td>0</td><td>1</td></tr>\n",
       "\t<tr><th scope=row>4</th><td>0</td><td>0</td><td>0</td><td>0</td><td>1</td></tr>\n",
       "\t<tr><th scope=row>5</th><td>0</td><td>0</td><td>0</td><td>0</td><td>1</td></tr>\n",
       "\t<tr><th scope=row>6</th><td>0</td><td>0</td><td>0</td><td>0</td><td>1</td></tr>\n",
       "</tbody>\n",
       "</table>\n"
      ],
      "text/latex": [
       "A matrix: 6 × 5 of type dbl\n",
       "\\begin{tabular}{r|lllll}\n",
       "  & factor(X.raw\\$XC)0 & factor(X.raw\\$XC)1 & factor(X.raw\\$XC)2 & factor(X.raw\\$XC)3 & factor(X.raw\\$XC)4\\\\\n",
       "\\hline\n",
       "\t1 & 0 & 0 & 0 & 0 & 1\\\\\n",
       "\t2 & 0 & 0 & 0 & 0 & 1\\\\\n",
       "\t3 & 0 & 0 & 0 & 0 & 1\\\\\n",
       "\t4 & 0 & 0 & 0 & 0 & 1\\\\\n",
       "\t5 & 0 & 0 & 0 & 0 & 1\\\\\n",
       "\t6 & 0 & 0 & 0 & 0 & 1\\\\\n",
       "\\end{tabular}\n"
      ],
      "text/markdown": [
       "\n",
       "A matrix: 6 × 5 of type dbl\n",
       "\n",
       "| <!--/--> | factor(X.raw$XC)0 | factor(X.raw$XC)1 | factor(X.raw$XC)2 | factor(X.raw$XC)3 | factor(X.raw$XC)4 |\n",
       "|---|---|---|---|---|---|\n",
       "| 1 | 0 | 0 | 0 | 0 | 1 |\n",
       "| 2 | 0 | 0 | 0 | 0 | 1 |\n",
       "| 3 | 0 | 0 | 0 | 0 | 1 |\n",
       "| 4 | 0 | 0 | 0 | 0 | 1 |\n",
       "| 5 | 0 | 0 | 0 | 0 | 1 |\n",
       "| 6 | 0 | 0 | 0 | 0 | 1 |\n",
       "\n"
      ],
      "text/plain": [
       "  factor(X.raw$XC)0 factor(X.raw$XC)1 factor(X.raw$XC)2 factor(X.raw$XC)3\n",
       "1 0                 0                 0                 0                \n",
       "2 0                 0                 0                 0                \n",
       "3 0                 0                 0                 0                \n",
       "4 0                 0                 0                 0                \n",
       "5 0                 0                 0                 0                \n",
       "6 0                 0                 0                 0                \n",
       "  factor(X.raw$XC)4\n",
       "1 1                \n",
       "2 1                \n",
       "3 1                \n",
       "4 1                \n",
       "5 1                \n",
       "6 1                "
      ]
     },
     "metadata": {},
     "output_type": "display_data"
    },
    {
     "data": {
      "text/html": [
       "<table class=\"dataframe\">\n",
       "<caption>A matrix: 6 × 15 of type dbl</caption>\n",
       "<thead>\n",
       "\t<tr><th></th><th scope=col>factor(X.raw$C1)1</th><th scope=col>factor(X.raw$C1)2</th><th scope=col>factor(X.raw$C1)3</th><th scope=col>factor(X.raw$C1)4</th><th scope=col>factor(X.raw$C1)5</th><th scope=col>factor(X.raw$C1)6</th><th scope=col>factor(X.raw$C1)7</th><th scope=col>factor(X.raw$C1)8</th><th scope=col>factor(X.raw$C1)9</th><th scope=col>factor(X.raw$C1)10</th><th scope=col>factor(X.raw$C1)11</th><th scope=col>factor(X.raw$C1)12</th><th scope=col>factor(X.raw$C1)13</th><th scope=col>factor(X.raw$C1)14</th><th scope=col>factor(X.raw$C1)15</th></tr>\n",
       "</thead>\n",
       "<tbody>\n",
       "\t<tr><th scope=row>1</th><td>0</td><td>0</td><td>0</td><td>1</td><td>0</td><td>0</td><td>0</td><td>0</td><td>0</td><td>0</td><td>0</td><td>0</td><td>0</td><td>0</td><td>0</td></tr>\n",
       "\t<tr><th scope=row>2</th><td>0</td><td>0</td><td>0</td><td>0</td><td>0</td><td>0</td><td>0</td><td>0</td><td>0</td><td>0</td><td>0</td><td>1</td><td>0</td><td>0</td><td>0</td></tr>\n",
       "\t<tr><th scope=row>3</th><td>0</td><td>0</td><td>0</td><td>1</td><td>0</td><td>0</td><td>0</td><td>0</td><td>0</td><td>0</td><td>0</td><td>0</td><td>0</td><td>0</td><td>0</td></tr>\n",
       "\t<tr><th scope=row>4</th><td>0</td><td>0</td><td>0</td><td>1</td><td>0</td><td>0</td><td>0</td><td>0</td><td>0</td><td>0</td><td>0</td><td>0</td><td>0</td><td>0</td><td>0</td></tr>\n",
       "\t<tr><th scope=row>5</th><td>0</td><td>0</td><td>0</td><td>1</td><td>0</td><td>0</td><td>0</td><td>0</td><td>0</td><td>0</td><td>0</td><td>0</td><td>0</td><td>0</td><td>0</td></tr>\n",
       "\t<tr><th scope=row>6</th><td>0</td><td>0</td><td>0</td><td>1</td><td>0</td><td>0</td><td>0</td><td>0</td><td>0</td><td>0</td><td>0</td><td>0</td><td>0</td><td>0</td><td>0</td></tr>\n",
       "</tbody>\n",
       "</table>\n"
      ],
      "text/latex": [
       "A matrix: 6 × 15 of type dbl\n",
       "\\begin{tabular}{r|lllllllllllllll}\n",
       "  & factor(X.raw\\$C1)1 & factor(X.raw\\$C1)2 & factor(X.raw\\$C1)3 & factor(X.raw\\$C1)4 & factor(X.raw\\$C1)5 & factor(X.raw\\$C1)6 & factor(X.raw\\$C1)7 & factor(X.raw\\$C1)8 & factor(X.raw\\$C1)9 & factor(X.raw\\$C1)10 & factor(X.raw\\$C1)11 & factor(X.raw\\$C1)12 & factor(X.raw\\$C1)13 & factor(X.raw\\$C1)14 & factor(X.raw\\$C1)15\\\\\n",
       "\\hline\n",
       "\t1 & 0 & 0 & 0 & 1 & 0 & 0 & 0 & 0 & 0 & 0 & 0 & 0 & 0 & 0 & 0\\\\\n",
       "\t2 & 0 & 0 & 0 & 0 & 0 & 0 & 0 & 0 & 0 & 0 & 0 & 1 & 0 & 0 & 0\\\\\n",
       "\t3 & 0 & 0 & 0 & 1 & 0 & 0 & 0 & 0 & 0 & 0 & 0 & 0 & 0 & 0 & 0\\\\\n",
       "\t4 & 0 & 0 & 0 & 1 & 0 & 0 & 0 & 0 & 0 & 0 & 0 & 0 & 0 & 0 & 0\\\\\n",
       "\t5 & 0 & 0 & 0 & 1 & 0 & 0 & 0 & 0 & 0 & 0 & 0 & 0 & 0 & 0 & 0\\\\\n",
       "\t6 & 0 & 0 & 0 & 1 & 0 & 0 & 0 & 0 & 0 & 0 & 0 & 0 & 0 & 0 & 0\\\\\n",
       "\\end{tabular}\n"
      ],
      "text/markdown": [
       "\n",
       "A matrix: 6 × 15 of type dbl\n",
       "\n",
       "| <!--/--> | factor(X.raw$C1)1 | factor(X.raw$C1)2 | factor(X.raw$C1)3 | factor(X.raw$C1)4 | factor(X.raw$C1)5 | factor(X.raw$C1)6 | factor(X.raw$C1)7 | factor(X.raw$C1)8 | factor(X.raw$C1)9 | factor(X.raw$C1)10 | factor(X.raw$C1)11 | factor(X.raw$C1)12 | factor(X.raw$C1)13 | factor(X.raw$C1)14 | factor(X.raw$C1)15 |\n",
       "|---|---|---|---|---|---|---|---|---|---|---|---|---|---|---|---|\n",
       "| 1 | 0 | 0 | 0 | 1 | 0 | 0 | 0 | 0 | 0 | 0 | 0 | 0 | 0 | 0 | 0 |\n",
       "| 2 | 0 | 0 | 0 | 0 | 0 | 0 | 0 | 0 | 0 | 0 | 0 | 1 | 0 | 0 | 0 |\n",
       "| 3 | 0 | 0 | 0 | 1 | 0 | 0 | 0 | 0 | 0 | 0 | 0 | 0 | 0 | 0 | 0 |\n",
       "| 4 | 0 | 0 | 0 | 1 | 0 | 0 | 0 | 0 | 0 | 0 | 0 | 0 | 0 | 0 | 0 |\n",
       "| 5 | 0 | 0 | 0 | 1 | 0 | 0 | 0 | 0 | 0 | 0 | 0 | 0 | 0 | 0 | 0 |\n",
       "| 6 | 0 | 0 | 0 | 1 | 0 | 0 | 0 | 0 | 0 | 0 | 0 | 0 | 0 | 0 | 0 |\n",
       "\n"
      ],
      "text/plain": [
       "  factor(X.raw$C1)1 factor(X.raw$C1)2 factor(X.raw$C1)3 factor(X.raw$C1)4\n",
       "1 0                 0                 0                 1                \n",
       "2 0                 0                 0                 0                \n",
       "3 0                 0                 0                 1                \n",
       "4 0                 0                 0                 1                \n",
       "5 0                 0                 0                 1                \n",
       "6 0                 0                 0                 1                \n",
       "  factor(X.raw$C1)5 factor(X.raw$C1)6 factor(X.raw$C1)7 factor(X.raw$C1)8\n",
       "1 0                 0                 0                 0                \n",
       "2 0                 0                 0                 0                \n",
       "3 0                 0                 0                 0                \n",
       "4 0                 0                 0                 0                \n",
       "5 0                 0                 0                 0                \n",
       "6 0                 0                 0                 0                \n",
       "  factor(X.raw$C1)9 factor(X.raw$C1)10 factor(X.raw$C1)11 factor(X.raw$C1)12\n",
       "1 0                 0                  0                  0                 \n",
       "2 0                 0                  0                  1                 \n",
       "3 0                 0                  0                  0                 \n",
       "4 0                 0                  0                  0                 \n",
       "5 0                 0                  0                  0                 \n",
       "6 0                 0                  0                  0                 \n",
       "  factor(X.raw$C1)13 factor(X.raw$C1)14 factor(X.raw$C1)15\n",
       "1 0                  0                  0                 \n",
       "2 0                  0                  0                 \n",
       "3 0                  0                  0                 \n",
       "4 0                  0                  0                 \n",
       "5 0                  0                  0                 \n",
       "6 0                  0                  0                 "
      ]
     },
     "metadata": {},
     "output_type": "display_data"
    }
   ],
   "source": [
    "# hay 4 categorías de la varaible C1 (1 al 15) y 5 categorias de la varible XC (0 al 4)\n",
    "# Estamos creando dos matrices, una para la variable C1 que crea variables dummy para cada categoría, \n",
    "# y otra para la variable XC que crea variables dummy para cada categoría. \n",
    "# Marca 1 si es que la observación fue clasificada en esa categoría\n",
    "\n",
    "C1.exp = model.matrix(~ factor(X.raw$C1) + 0) \n",
    "XC.exp = model.matrix(~ factor(X.raw$XC) + 0)\n",
    "head(XC.exp) # 15 columnas \n",
    "head(C1.exp) # 5 columnas"
   ]
  },
  {
   "cell_type": "code",
   "execution_count": 11,
   "id": "df2d1ceb",
   "metadata": {},
   "outputs": [
    {
     "data": {
      "text/html": [
       "<table class=\"dataframe\">\n",
       "<caption>A data.frame: 6 × 28</caption>\n",
       "<thead>\n",
       "\t<tr><th></th><th scope=col>S3</th><th scope=col>C2</th><th scope=col>C3</th><th scope=col>X1</th><th scope=col>X2</th><th scope=col>X3</th><th scope=col>X4</th><th scope=col>X5</th><th scope=col>factor(X.raw$C1)1</th><th scope=col>factor(X.raw$C1)2</th><th scope=col>...</th><th scope=col>factor(X.raw$C1)11</th><th scope=col>factor(X.raw$C1)12</th><th scope=col>factor(X.raw$C1)13</th><th scope=col>factor(X.raw$C1)14</th><th scope=col>factor(X.raw$C1)15</th><th scope=col>factor(X.raw$XC)0</th><th scope=col>factor(X.raw$XC)1</th><th scope=col>factor(X.raw$XC)2</th><th scope=col>factor(X.raw$XC)3</th><th scope=col>factor(X.raw$XC)4</th></tr>\n",
       "\t<tr><th></th><th scope=col>&lt;int&gt;</th><th scope=col>&lt;int&gt;</th><th scope=col>&lt;int&gt;</th><th scope=col>&lt;dbl&gt;</th><th scope=col>&lt;dbl&gt;</th><th scope=col>&lt;dbl&gt;</th><th scope=col>&lt;dbl&gt;</th><th scope=col>&lt;dbl&gt;</th><th scope=col>&lt;dbl&gt;</th><th scope=col>&lt;dbl&gt;</th><th scope=col>...</th><th scope=col>&lt;dbl&gt;</th><th scope=col>&lt;dbl&gt;</th><th scope=col>&lt;dbl&gt;</th><th scope=col>&lt;dbl&gt;</th><th scope=col>&lt;dbl&gt;</th><th scope=col>&lt;dbl&gt;</th><th scope=col>&lt;dbl&gt;</th><th scope=col>&lt;dbl&gt;</th><th scope=col>&lt;dbl&gt;</th><th scope=col>&lt;dbl&gt;</th></tr>\n",
       "</thead>\n",
       "<tbody>\n",
       "\t<tr><th scope=row>1</th><td>6</td><td>2</td><td>1</td><td>0.3345435</td><td>0.6485856</td><td>-1.310927</td><td>0.2240765</td><td>-0.4267567</td><td>0</td><td>0</td><td>...</td><td>0</td><td>0</td><td>0</td><td>0</td><td>0</td><td>0</td><td>0</td><td>0</td><td>0</td><td>1</td></tr>\n",
       "\t<tr><th scope=row>2</th><td>4</td><td>2</td><td>1</td><td>0.3345435</td><td>0.6485856</td><td>-1.310927</td><td>0.2240765</td><td>-0.4267567</td><td>0</td><td>0</td><td>...</td><td>0</td><td>1</td><td>0</td><td>0</td><td>0</td><td>0</td><td>0</td><td>0</td><td>0</td><td>1</td></tr>\n",
       "\t<tr><th scope=row>3</th><td>6</td><td>2</td><td>0</td><td>0.3345435</td><td>0.6485856</td><td>-1.310927</td><td>0.2240765</td><td>-0.4267567</td><td>0</td><td>0</td><td>...</td><td>0</td><td>0</td><td>0</td><td>0</td><td>0</td><td>0</td><td>0</td><td>0</td><td>0</td><td>1</td></tr>\n",
       "\t<tr><th scope=row>4</th><td>6</td><td>2</td><td>0</td><td>0.3345435</td><td>0.6485856</td><td>-1.310927</td><td>0.2240765</td><td>-0.4267567</td><td>0</td><td>0</td><td>...</td><td>0</td><td>0</td><td>0</td><td>0</td><td>0</td><td>0</td><td>0</td><td>0</td><td>0</td><td>1</td></tr>\n",
       "\t<tr><th scope=row>5</th><td>6</td><td>1</td><td>0</td><td>0.3345435</td><td>0.6485856</td><td>-1.310927</td><td>0.2240765</td><td>-0.4267567</td><td>0</td><td>0</td><td>...</td><td>0</td><td>0</td><td>0</td><td>0</td><td>0</td><td>0</td><td>0</td><td>0</td><td>0</td><td>1</td></tr>\n",
       "\t<tr><th scope=row>6</th><td>6</td><td>2</td><td>0</td><td>0.3345435</td><td>0.6485856</td><td>-1.310927</td><td>0.2240765</td><td>-0.4267567</td><td>0</td><td>0</td><td>...</td><td>0</td><td>0</td><td>0</td><td>0</td><td>0</td><td>0</td><td>0</td><td>0</td><td>0</td><td>1</td></tr>\n",
       "</tbody>\n",
       "</table>\n"
      ],
      "text/latex": [
       "A data.frame: 6 × 28\n",
       "\\begin{tabular}{r|lllllllllllllllllllll}\n",
       "  & S3 & C2 & C3 & X1 & X2 & X3 & X4 & X5 & factor(X.raw\\$C1)1 & factor(X.raw\\$C1)2 & ... & factor(X.raw\\$C1)11 & factor(X.raw\\$C1)12 & factor(X.raw\\$C1)13 & factor(X.raw\\$C1)14 & factor(X.raw\\$C1)15 & factor(X.raw\\$XC)0 & factor(X.raw\\$XC)1 & factor(X.raw\\$XC)2 & factor(X.raw\\$XC)3 & factor(X.raw\\$XC)4\\\\\n",
       "  & <int> & <int> & <int> & <dbl> & <dbl> & <dbl> & <dbl> & <dbl> & <dbl> & <dbl> & ... & <dbl> & <dbl> & <dbl> & <dbl> & <dbl> & <dbl> & <dbl> & <dbl> & <dbl> & <dbl>\\\\\n",
       "\\hline\n",
       "\t1 & 6 & 2 & 1 & 0.3345435 & 0.6485856 & -1.310927 & 0.2240765 & -0.4267567 & 0 & 0 & ... & 0 & 0 & 0 & 0 & 0 & 0 & 0 & 0 & 0 & 1\\\\\n",
       "\t2 & 4 & 2 & 1 & 0.3345435 & 0.6485856 & -1.310927 & 0.2240765 & -0.4267567 & 0 & 0 & ... & 0 & 1 & 0 & 0 & 0 & 0 & 0 & 0 & 0 & 1\\\\\n",
       "\t3 & 6 & 2 & 0 & 0.3345435 & 0.6485856 & -1.310927 & 0.2240765 & -0.4267567 & 0 & 0 & ... & 0 & 0 & 0 & 0 & 0 & 0 & 0 & 0 & 0 & 1\\\\\n",
       "\t4 & 6 & 2 & 0 & 0.3345435 & 0.6485856 & -1.310927 & 0.2240765 & -0.4267567 & 0 & 0 & ... & 0 & 0 & 0 & 0 & 0 & 0 & 0 & 0 & 0 & 1\\\\\n",
       "\t5 & 6 & 1 & 0 & 0.3345435 & 0.6485856 & -1.310927 & 0.2240765 & -0.4267567 & 0 & 0 & ... & 0 & 0 & 0 & 0 & 0 & 0 & 0 & 0 & 0 & 1\\\\\n",
       "\t6 & 6 & 2 & 0 & 0.3345435 & 0.6485856 & -1.310927 & 0.2240765 & -0.4267567 & 0 & 0 & ... & 0 & 0 & 0 & 0 & 0 & 0 & 0 & 0 & 0 & 1\\\\\n",
       "\\end{tabular}\n"
      ],
      "text/markdown": [
       "\n",
       "A data.frame: 6 × 28\n",
       "\n",
       "| <!--/--> | S3 &lt;int&gt; | C2 &lt;int&gt; | C3 &lt;int&gt; | X1 &lt;dbl&gt; | X2 &lt;dbl&gt; | X3 &lt;dbl&gt; | X4 &lt;dbl&gt; | X5 &lt;dbl&gt; | factor(X.raw$C1)1 &lt;dbl&gt; | factor(X.raw$C1)2 &lt;dbl&gt; | ... ... | factor(X.raw$C1)11 &lt;dbl&gt; | factor(X.raw$C1)12 &lt;dbl&gt; | factor(X.raw$C1)13 &lt;dbl&gt; | factor(X.raw$C1)14 &lt;dbl&gt; | factor(X.raw$C1)15 &lt;dbl&gt; | factor(X.raw$XC)0 &lt;dbl&gt; | factor(X.raw$XC)1 &lt;dbl&gt; | factor(X.raw$XC)2 &lt;dbl&gt; | factor(X.raw$XC)3 &lt;dbl&gt; | factor(X.raw$XC)4 &lt;dbl&gt; |\n",
       "|---|---|---|---|---|---|---|---|---|---|---|---|---|---|---|---|---|---|---|---|---|---|\n",
       "| 1 | 6 | 2 | 1 | 0.3345435 | 0.6485856 | -1.310927 | 0.2240765 | -0.4267567 | 0 | 0 | ... | 0 | 0 | 0 | 0 | 0 | 0 | 0 | 0 | 0 | 1 |\n",
       "| 2 | 4 | 2 | 1 | 0.3345435 | 0.6485856 | -1.310927 | 0.2240765 | -0.4267567 | 0 | 0 | ... | 0 | 1 | 0 | 0 | 0 | 0 | 0 | 0 | 0 | 1 |\n",
       "| 3 | 6 | 2 | 0 | 0.3345435 | 0.6485856 | -1.310927 | 0.2240765 | -0.4267567 | 0 | 0 | ... | 0 | 0 | 0 | 0 | 0 | 0 | 0 | 0 | 0 | 1 |\n",
       "| 4 | 6 | 2 | 0 | 0.3345435 | 0.6485856 | -1.310927 | 0.2240765 | -0.4267567 | 0 | 0 | ... | 0 | 0 | 0 | 0 | 0 | 0 | 0 | 0 | 0 | 1 |\n",
       "| 5 | 6 | 1 | 0 | 0.3345435 | 0.6485856 | -1.310927 | 0.2240765 | -0.4267567 | 0 | 0 | ... | 0 | 0 | 0 | 0 | 0 | 0 | 0 | 0 | 0 | 1 |\n",
       "| 6 | 6 | 2 | 0 | 0.3345435 | 0.6485856 | -1.310927 | 0.2240765 | -0.4267567 | 0 | 0 | ... | 0 | 0 | 0 | 0 | 0 | 0 | 0 | 0 | 0 | 1 |\n",
       "\n"
      ],
      "text/plain": [
       "  S3 C2 C3 X1        X2        X3        X4        X5         factor(X.raw$C1)1\n",
       "1 6  2  1  0.3345435 0.6485856 -1.310927 0.2240765 -0.4267567 0                \n",
       "2 4  2  1  0.3345435 0.6485856 -1.310927 0.2240765 -0.4267567 0                \n",
       "3 6  2  0  0.3345435 0.6485856 -1.310927 0.2240765 -0.4267567 0                \n",
       "4 6  2  0  0.3345435 0.6485856 -1.310927 0.2240765 -0.4267567 0                \n",
       "5 6  1  0  0.3345435 0.6485856 -1.310927 0.2240765 -0.4267567 0                \n",
       "6 6  2  0  0.3345435 0.6485856 -1.310927 0.2240765 -0.4267567 0                \n",
       "  factor(X.raw$C1)2 ... factor(X.raw$C1)11 factor(X.raw$C1)12\n",
       "1 0                 ... 0                  0                 \n",
       "2 0                 ... 0                  1                 \n",
       "3 0                 ... 0                  0                 \n",
       "4 0                 ... 0                  0                 \n",
       "5 0                 ... 0                  0                 \n",
       "6 0                 ... 0                  0                 \n",
       "  factor(X.raw$C1)13 factor(X.raw$C1)14 factor(X.raw$C1)15 factor(X.raw$XC)0\n",
       "1 0                  0                  0                  0                \n",
       "2 0                  0                  0                  0                \n",
       "3 0                  0                  0                  0                \n",
       "4 0                  0                  0                  0                \n",
       "5 0                  0                  0                  0                \n",
       "6 0                  0                  0                  0                \n",
       "  factor(X.raw$XC)1 factor(X.raw$XC)2 factor(X.raw$XC)3 factor(X.raw$XC)4\n",
       "1 0                 0                 0                 1                \n",
       "2 0                 0                 0                 1                \n",
       "3 0                 0                 0                 1                \n",
       "4 0                 0                 0                 1                \n",
       "5 0                 0                 0                 1                \n",
       "6 0                 0                 0                 1                "
      ]
     },
     "metadata": {},
     "output_type": "display_data"
    }
   ],
   "source": [
    "# Por ultimo terminamos de contruimos la matriz X con las variables de control \n",
    "#y reemplazando en vez de solo una columna para C1 y XC, varias dummys según cada categoría\n",
    "X = cbind(X.raw[,-which(names(X.raw) %in% c(\"C1\", \"XC\"))], C1.exp, XC.exp)\n",
    "head(X) "
   ]
  },
  {
   "cell_type": "markdown",
   "id": "24ed0d6b",
   "metadata": {},
   "source": [
    "Grow a forest. Add extra trees for the causal forest.\n",
    "### 1. How the tree was built?"
   ]
  },
  {
   "cell_type": "code",
   "execution_count": 12,
   "id": "266c7085",
   "metadata": {},
   "outputs": [],
   "source": [
    "# First, we do two regression forest: Y.forest and W. forest, knowing that there are school clauster\n",
    "# Then, we calculate  the predicted values of the two variables (Y.hat and W.hat)\n",
    "Y.forest = regression_forest(X, Y, clusters = school.id, equalize.cluster.weights = TRUE)\n",
    "Y.hat = predict(Y.forest)$predictions\n",
    "W.forest = regression_forest(X, W, clusters = school.id, equalize.cluster.weights = TRUE)\n",
    "W.hat = predict(W.forest)$predictions"
   ]
  },
  {
   "cell_type": "code",
   "execution_count": 13,
   "id": "18a4de5e",
   "metadata": {},
   "outputs": [],
   "source": [
    "# Second, we use the predictions obtained before for the causal forest\n",
    "cf.raw = causal_forest(X, Y, W,\n",
    "                       Y.hat = Y.hat, W.hat = W.hat,\n",
    "                       clusters = school.id,\n",
    "                       equalize.cluster.weights = TRUE)"
   ]
  },
  {
   "cell_type": "code",
   "execution_count": 14,
   "id": "444255cc",
   "metadata": {},
   "outputs": [],
   "source": [
    "#we obtain the degree of importance of each control variable\n",
    "varimp = variable_importance(cf.raw)\n",
    "\n",
    "#We chose the most important variables because they are the ones with a degree of importance greater than the average.\n",
    "selected.idx = which(varimp > mean(varimp)) # 1 2 4 5 6 7 8 12"
   ]
  },
  {
   "cell_type": "markdown",
   "id": "243bac2a",
   "metadata": {},
   "source": [
    "We run a second causal forest again but only with the most important explanatory (or control) variables for the model."
   ]
  },
  {
   "cell_type": "code",
   "execution_count": 15,
   "id": "dbcc3730",
   "metadata": {},
   "outputs": [],
   "source": [
    "cf = causal_forest(X[,selected.idx], Y, W,\n",
    "                   Y.hat = Y.hat, W.hat = W.hat,\n",
    "                   clusters = school.id,\n",
    "                   equalize.cluster.weights = TRUE,\n",
    "                   tune.parameters = \"all\")\n",
    "tau.hat = predict(cf)$predictions # we get the estimated coefficients"
   ]
  },
  {
   "cell_type": "markdown",
   "id": "dfb93ad6",
   "metadata": {},
   "source": [
    "### 2. Estimate ATE"
   ]
  },
  {
   "cell_type": "code",
   "execution_count": 16,
   "id": "65c833a9",
   "metadata": {},
   "outputs": [
    {
     "data": {
      "text/html": [
       "'95% CI for the ATE: 0.248 +/- 0.039'"
      ],
      "text/latex": [
       "'95\\% CI for the ATE: 0.248 +/- 0.039'"
      ],
      "text/markdown": [
       "'95% CI for the ATE: 0.248 +/- 0.039'"
      ],
      "text/plain": [
       "[1] \"95% CI for the ATE: 0.248 +/- 0.039\""
      ]
     },
     "metadata": {},
     "output_type": "display_data"
    }
   ],
   "source": [
    "# The package grf has a built-in function for average treatment effect estimation, based on a variant\n",
    "# of augmented inverse propensity weighting.\n",
    "\n",
    "ATE = average_treatment_effect(cf)\n",
    "\n",
    "# Print results\n",
    "paste(\"95% CI for the ATE:\", round(ATE[1], 3),\n",
    "      \"+/-\", round(qnorm(0.975) * ATE[2], 3))"
   ]
  },
  {
   "cell_type": "markdown",
   "id": "bb9f9083",
   "metadata": {},
   "source": [
    "The average treatment effect is 0.248. So, the result suggests that the treatment was significantly positive on average. "
   ]
  },
  {
   "cell_type": "code",
   "execution_count": 17,
   "id": "e5b39eec",
   "metadata": {},
   "outputs": [
    {
     "data": {
      "text/html": [
       "<strong>null device:</strong> 1"
      ],
      "text/latex": [
       "\\textbf{null device:} 1"
      ],
      "text/markdown": [
       "**null device:** 1"
      ],
      "text/plain": [
       "null device \n",
       "          1 "
      ]
     },
     "metadata": {},
     "output_type": "display_data"
    },
    {
     "data": {
      "image/png": "[encoded data removed]",
      "text/plain": [
       "Plot with title \"\""
      ]
     },
     "metadata": {
      "image/png": {
       "height": 420,
       "width": 420
      }
     },
     "output_type": "display_data"
    }
   ],
   "source": [
    "pardef = par(mar = c(5, 4, 4, 2) + 0.5, cex.lab=1.5, cex.axis=1.5, cex.main=1.5, cex.sub=1.5)\n",
    "hist(tau.hat, xlab = \"estimated CATE\", main = \"\")\n",
    "dev.off()"
   ]
  },
  {
   "cell_type": "markdown",
   "id": "54212f26",
   "metadata": {},
   "source": [
    "As we can see in the figure before, the causal forest CATE estimates obviously exhibit variation"
   ]
  },
  {
   "cell_type": "markdown",
   "id": "4f59ead2",
   "metadata": {},
   "source": [
    "### Omnibus tests for heterogeneity - Run best linear predictor analysis"
   ]
  },
  {
   "cell_type": "code",
   "execution_count": 18,
   "id": "7e1ccdb6",
   "metadata": {},
   "outputs": [
    {
     "data": {
      "text/plain": [
       "\n",
       "Best linear fit using forest predictions (on held-out data)\n",
       "as well as the mean forest prediction as regressors, along\n",
       "with one-sided heteroskedasticity-robust (HC3) SEs:\n",
       "\n",
       "                               Estimate Std. Error t value Pr(>t)    \n",
       "mean.forest.prediction         0.996727   0.082132  12.136 <2e-16 ***\n",
       "differential.forest.prediction 0.200832   0.616050   0.326 0.3722    \n",
       "---\n",
       "Signif. codes:  0 '***' 0.001 '**' 0.01 '*' 0.05 '.' 0.1 ' ' 1\n"
      ]
     },
     "metadata": {},
     "output_type": "display_data"
    }
   ],
   "source": [
    "test_calibration(cf)"
   ]
  },
  {
   "cell_type": "markdown",
   "id": "188f0100",
   "metadata": {},
   "source": [
    "A first, simple approach to testing for heterogeneity involves grouping observations according to whether their out-of-bag CATE estimates are above or below the median CATE estimate, and then estimating average treatment effects in these two subgroups separately using the doubly robust approach."
   ]
  },
  {
   "cell_type": "code",
   "execution_count": 19,
   "id": "71e65dca",
   "metadata": {},
   "outputs": [
    {
     "data": {
      "text/html": [
       "'95% CI for difference in ATE: 0.058 +/- 0.07'"
      ],
      "text/latex": [
       "'95\\% CI for difference in ATE: 0.058 +/- 0.07'"
      ],
      "text/markdown": [
       "'95% CI for difference in ATE: 0.058 +/- 0.07'"
      ],
      "text/plain": [
       "[1] \"95% CI for difference in ATE: 0.058 +/- 0.07\""
      ]
     },
     "metadata": {},
     "output_type": "display_data"
    }
   ],
   "source": [
    "# This is another approach to test heterogeneity. Compare regions with high and low estimated CATEs\n",
    "high_effect = tau.hat > median(tau.hat)\n",
    "ate.high = average_treatment_effect(cf, subset = high_effect)\n",
    "ate.low = average_treatment_effect(cf, subset = !high_effect)\n",
    "paste(\"95% CI for difference in ATE:\",\n",
    "      round(ate.high[1] - ate.low[1], 3), \"+/-\",\n",
    "      round(qnorm(0.975) * sqrt(ate.high[2]^2 + ate.low[2]^2), 3))"
   ]
  },
  {
   "cell_type": "markdown",
   "id": "beb77196",
   "metadata": {},
   "source": [
    "The results of both the analysis of the best linear predictor and the comparison of regions with low and high estimated CATE show the presence of heterogeneity. However, they are not significant, because the confidence interval is observed to contain zero. Therefore, it appears that causal forests do not identify subgroups with heterogeneous effects that are clearly detectable."
   ]
  },
  {
   "cell_type": "markdown",
   "id": "70d60f2e",
   "metadata": {},
   "source": [
    "### 4. Look at school-wise heterogeneity"
   ]
  },
  {
   "cell_type": "markdown",
   "id": "a5ef01bf",
   "metadata": {},
   "source": [
    "Although our omnibus tests did not found strong evidence of treatment heterogeneity, this does not mean there is no heterogeneity present. Researchers had pre-specified interest in heterogeneity along two specific variables, namely pre-existing mindset (X1) and school-level achievement (X2), and it is\n",
    "plausible that a test for heterogeneity that focuses on these two variables may have more power than the agnostic tests explored above."
   ]
  },
  {
   "cell_type": "code",
   "execution_count": 20,
   "id": "4e82cef8",
   "metadata": {},
   "outputs": [
    {
     "ename": "ERROR",
     "evalue": "Error in hist(school.score, xlab = \"School Treatment Effect Estimate\", : objeto 'school.score' no encontrado\n",
     "output_type": "error",
     "traceback": [
      "Error in hist(school.score, xlab = \"School Treatment Effect Estimate\", : objeto 'school.score' no encontrado\nTraceback:\n",
      "1. hist(school.score, xlab = \"School Treatment Effect Estimate\", \n .     main = \"\")"
     ]
    }
   ],
   "source": [
    "pardef = par(mar = c(5, 4, 4, 2) + 0.5, cex.lab=1.5, cex.axis=1.5, cex.main=1.5, cex.sub=1.5)\n",
    "hist(school.score, xlab = \"School Treatment Effect Estimate\", main = \"\")\n",
    "dev.off()"
   ]
  },
  {
   "cell_type": "markdown",
   "id": "1af8592a",
   "metadata": {},
   "source": [
    "In the graph above, we can notice that the estimate of the treatment effect in schools is scattered. This leads to the assumption that there are heterogeneous effects by school."
   ]
  },
  {
   "cell_type": "markdown",
   "id": "8165280b",
   "metadata": {},
   "source": [
    "#### Formal test for X1 and X2"
   ]
  },
  {
   "cell_type": "code",
   "execution_count": 21,
   "id": "6339b4f8",
   "metadata": {},
   "outputs": [],
   "source": [
    "dr.score = tau.hat + W / cf$W.hat *\n",
    "  (Y - cf$Y.hat - (1 - cf$W.hat) * tau.hat) -\n",
    "  (1 - W) / (1 - cf$W.hat) * (Y - cf$Y.hat + cf$W.hat * tau.hat)\n",
    "school.score = t(school.mat) %*% dr.score / school.size"
   ]
  },
  {
   "cell_type": "code",
   "execution_count": 22,
   "id": "d5830496",
   "metadata": {},
   "outputs": [
    {
     "data": {
      "text/plain": [
       "\n",
       "\tWelch Two Sample t-test\n",
       "\n",
       "data:  school.score[high.X1] and school.score[!high.X1]\n",
       "t = -3.0365, df = 71.412, p-value = 0.00334\n",
       "alternative hypothesis: true difference in means is not equal to 0\n",
       "95 percent confidence interval:\n",
       " -0.19234741 -0.03987287\n",
       "sample estimates:\n",
       "mean of x mean of y \n",
       "0.1903880 0.3064981 \n"
      ]
     },
     "metadata": {},
     "output_type": "display_data"
    }
   ],
   "source": [
    "school.X1 = t(school.mat) %*% X$X1 / school.size\n",
    "high.X1 = school.X1 > median(school.X1)\n",
    "t.test(school.score[high.X1], school.score[!high.X1])"
   ]
  },
  {
   "cell_type": "code",
   "execution_count": 23,
   "id": "76f35686",
   "metadata": {},
   "outputs": [
    {
     "data": {
      "text/plain": [
       "\n",
       "\tWelch Two Sample t-test\n",
       "\n",
       "data:  school.score[high.X2] and school.score[!high.X2]\n",
       "t = 0.96525, df = 72.286, p-value = 0.3376\n",
       "alternative hypothesis: true difference in means is not equal to 0\n",
       "95 percent confidence interval:\n",
       " -0.0414292  0.1192237\n",
       "sample estimates:\n",
       "mean of x mean of y \n",
       "0.2678917 0.2289944 \n"
      ]
     },
     "metadata": {},
     "output_type": "display_data"
    }
   ],
   "source": [
    "school.X2 = (t(school.mat) %*% X$X2) / school.size\n",
    "high.X2 = school.X2 > median(school.X2)\n",
    "t.test(school.score[high.X2], school.score[!high.X2])"
   ]
  },
  {
   "cell_type": "code",
   "execution_count": 24,
   "id": "53bfaa52",
   "metadata": {},
   "outputs": [
    {
     "data": {
      "text/plain": [
       "                 Df Sum Sq Mean Sq F value Pr(>F)\n",
       "school.X2.levels  2 0.0807 0.04034    1.32  0.273\n",
       "Residuals        73 2.2313 0.03057               "
      ]
     },
     "metadata": {},
     "output_type": "display_data"
    }
   ],
   "source": [
    "school.X2.levels = cut(school.X2,\n",
    "  breaks = c(-Inf, quantile(school.X2, c(1/3, 2/3)), Inf))\n",
    "summary(aov(school.score ~ school.X2.levels))"
   ]
  },
  {
   "cell_type": "markdown",
   "id": "f8c808ab",
   "metadata": {},
   "source": [
    "Analysis uncovers notable heterogeneity along X1: schools with larger values of X1 appear to experience larger effects than schools with smaller values of X1. Conversely, we do not see much heterogeneity along X2 because the confidence interval contains zero."
   ]
  },
  {
   "cell_type": "code",
   "execution_count": 26,
   "id": "ab356b12",
   "metadata": {},
   "outputs": [
    {
     "data": {
      "text/plain": [
       "\n",
       "\tOne Sample t-test\n",
       "\n",
       "data:  school.score.XS3.high - school.score.XS3.low\n",
       "t = 2.244, df = 75, p-value = 0.02778\n",
       "alternative hypothesis: true mean is not equal to 0\n",
       "95 percent confidence interval:\n",
       " 0.009554619 0.160661883\n",
       "sample estimates:\n",
       " mean of x \n",
       "0.08510825 \n"
      ]
     },
     "metadata": {},
     "output_type": "display_data"
    },
    {
     "data": {
      "image/png": "[encoded data removed]",
      "text/plain": [
       "plot without title"
      ]
     },
     "metadata": {
      "image/png": {
       "height": 420,
       "width": 420
      }
     },
     "output_type": "display_data"
    }
   ],
   "source": [
    "# Formal test for S3 #\n",
    "school.score.XS3.high = t(school.mat) %*% (dr.score * (X$S3 >= 6)) /\n",
    "  t(school.mat) %*% (X$S3 >= 6)\n",
    "school.score.XS3.low = t(school.mat) %*% (dr.score * (X$S3 < 6)) /\n",
    "  t(school.mat) %*% (X$S3 < 6)\n",
    "\n",
    "plot(school.score.XS3.low, school.score.XS3.high)\n",
    "t.test(school.score.XS3.high - school.score.XS3.low)"
   ]
  },
  {
   "cell_type": "code",
   "execution_count": 28,
   "id": "a1fb30ab",
   "metadata": {},
   "outputs": [
    {
     "name": "stdout",
     "output_type": "stream",
     "text": [
      "[1] \"0.248 +/- 0.039\"\n"
     ]
    },
    {
     "data": {
      "image/png": "[encoded data removed]",
      "text/plain": [
       "plot without title"
      ]
     },
     "metadata": {
      "image/png": {
       "height": 420,
       "width": 420
      }
     },
     "output_type": "display_data"
    }
   ],
   "source": [
    "# Re-check ATE... sanity check only\n",
    "\n",
    "ate.hat = mean(school.score)\n",
    "se.hat = sqrt(var(school.score) / length(school.score - 1))\n",
    "print(paste(round(ate.hat, 3), \"+/-\", round(1.96 * se.hat, 3)))\n",
    "\n",
    "# Look at variation in propensity scores\n",
    "\n",
    "DF = X\n",
    "DF$W.hat = cf$W.hat\n",
    "\n",
    "#pdf(\"pscore.pdf\")\n",
    "pardef = par(mar = c(5, 4, 4, 2) + 0.5, cex.lab=1.5, cex.axis=1.5, cex.main=1.5, cex.sub=1.5)\n",
    "boxplot(W.hat ~ S3, data = DF, ylab = \"Propensity Score\", xlab = \"Student Expectation of Success\")\n",
    "lines(smooth.spline(X$S3, cf$W.hat), lwd = 2, col = 4)\n",
    "#dev.off("
   ]
  },
  {
   "cell_type": "markdown",
   "id": "434fa26f",
   "metadata": {},
   "source": [
    "The box plot above shows that students with higher expectations of success (S3) are more likely to receive the treatment."
   ]
  },
  {
   "cell_type": "markdown",
   "id": "40b50ffd",
   "metadata": {},
   "source": [
    "### 5.\tAnalysis ignoring clusters. How do the results change?"
   ]
  },
  {
   "cell_type": "code",
   "execution_count": 30,
   "id": "748926b8",
   "metadata": {},
   "outputs": [
    {
     "data": {
      "text/html": [
       "'95% CI for the ATE: 0.254 +/- 0.022'"
      ],
      "text/latex": [
       "'95\\% CI for the ATE: 0.254 +/- 0.022'"
      ],
      "text/markdown": [
       "'95% CI for the ATE: 0.254 +/- 0.022'"
      ],
      "text/plain": [
       "[1] \"95% CI for the ATE: 0.254 +/- 0.022\""
      ]
     },
     "metadata": {},
     "output_type": "display_data"
    }
   ],
   "source": [
    "# No especificamos que hay clusters\n",
    "cf.noclust = causal_forest(X[,selected.idx], Y, W,\n",
    "                           Y.hat = Y.hat, W.hat = W.hat,\n",
    "                           tune.parameters = \"all\")\n",
    "# Estimamos el ATE\n",
    "ATE.noclust = average_treatment_effect(cf.noclust)\n",
    "paste(\"95% CI for the ATE:\", round(ATE.noclust[1], 3),\n",
    "      \"+/-\", round(qnorm(0.975) * ATE.noclust[2], 3))"
   ]
  },
  {
   "cell_type": "code",
   "execution_count": 31,
   "id": "22e52aaa",
   "metadata": {},
   "outputs": [
    {
     "data": {
      "text/plain": [
       "\n",
       "Best linear fit using forest predictions (on held-out data)\n",
       "as well as the mean forest prediction as regressors, along\n",
       "with one-sided heteroskedasticity-robust (HC3) SEs:\n",
       "\n",
       "                               Estimate Std. Error t value    Pr(>t)    \n",
       "mean.forest.prediction         1.014372   0.045172  22.456 < 2.2e-16 ***\n",
       "differential.forest.prediction 0.534271   0.132375   4.036 2.738e-05 ***\n",
       "---\n",
       "Signif. codes:  0 '***' 0.001 '**' 0.01 '*' 0.05 '.' 0.1 ' ' 1\n"
      ]
     },
     "metadata": {},
     "output_type": "display_data"
    }
   ],
   "source": [
    "# Hacemos la prueba de heterogeneidad\n",
    "test_calibration(cf.noclust)"
   ]
  },
  {
   "cell_type": "markdown",
   "id": "b06d43ea",
   "metadata": {},
   "source": [
    "The previous test shows that there is heterogeneity, since both the mean of the forest predictions and the differential of the forest predictions are significant at 1%."
   ]
  },
  {
   "cell_type": "markdown",
   "id": "46539365",
   "metadata": {},
   "source": [
    "### 6. Analaysis without fitting the propensity score"
   ]
  },
  {
   "cell_type": "code",
   "execution_count": 32,
   "id": "d5102c71",
   "metadata": {},
   "outputs": [
    {
     "data": {
      "text/html": [
       "'95% CI for the ATE: 0.255 +/- 0.039'"
      ],
      "text/latex": [
       "'95\\% CI for the ATE: 0.255 +/- 0.039'"
      ],
      "text/markdown": [
       "'95% CI for the ATE: 0.255 +/- 0.039'"
      ],
      "text/plain": [
       "[1] \"95% CI for the ATE: 0.255 +/- 0.039\""
      ]
     },
     "metadata": {},
     "output_type": "display_data"
    },
    {
     "data": {
      "image/png": "[encoded data removed]",
      "text/plain": [
       "plot without title"
      ]
     },
     "metadata": {
      "image/png": {
       "height": 420,
       "width": 420
      }
     },
     "output_type": "display_data"
    }
   ],
   "source": [
    "cf.noprop = causal_forest(X[,selected.idx], Y, W,\n",
    "                          Y.hat = Y.hat, W.hat = mean(W),\n",
    "                          tune.parameters = \"all\",\n",
    "                          equalize.cluster.weights = TRUE,\n",
    "                          clusters = school.id)\n",
    "tau.hat.noprop = predict(cf.noprop)$predictions\n",
    "\n",
    "ATE.noprop = average_treatment_effect(cf.noprop)\n",
    "paste(\"95% CI for the ATE:\", round(ATE.noprop[1], 3),\n",
    "      \"+/-\", round(qnorm(0.975) * ATE.noprop[2], 3))\n",
    "\n",
    "\n",
    "pardef = par(mar = c(5, 4, 4, 2) + 0.5, cex.lab=1.5, cex.axis=1.5, cex.main=1.5, cex.sub=1.5)\n",
    "plot(tau.hat, tau.hat.noprop,\n",
    "     xlim = range(tau.hat, tau.hat.noprop),\n",
    "     ylim = range(tau.hat, tau.hat.noprop),\n",
    "     xlab = \"orthogonalized causal forest estimates\",\n",
    "     ylab = \"non-orthogonalized causal forest\")\n",
    "abline(0, 1, lwd = 2, lty = 2, col = 4)\n",
    "par = pardef"
   ]
  },
  {
   "cell_type": "markdown",
   "id": "be4a0b07",
   "metadata": {},
   "source": [
    "(cambiar) \n",
    "\n",
    "It is observed that forests trained with or without orthogonalization result in the same CATE estimates. So orthogonalization seems to be less important than clustering. This may be because for both W and Y forest , the variable of students' expectations of success(S3) is the most important predictor."
   ]
  },
  {
   "cell_type": "code",
   "execution_count": 33,
   "id": "01ebd762",
   "metadata": {},
   "outputs": [
    {
     "data": {
      "image/png": "[encoded data removed]",
      "text/plain": [
       "plot without title"
      ]
     },
     "metadata": {
      "image/png": {
       "height": 420,
       "width": 420
      }
     },
     "output_type": "display_data"
    }
   ],
   "source": [
    "# Ploting predictions of the causal forest without claustering\n",
    "\n",
    "tau.hat.noclust = predict(cf.noclust)$predict\n",
    "plot(school.id, tau.hat.noclust)"
   ]
  },
  {
   "cell_type": "code",
   "execution_count": 34,
   "id": "ac205518",
   "metadata": {},
   "outputs": [
    {
     "name": "stdout",
     "output_type": "stream",
     "text": [
      "[1] 1\n",
      "[1] 2\n",
      "[1] 3\n",
      "[1] 4\n",
      "[1] 5\n"
     ]
    },
    {
     "data": {
      "text/plain": [
       "\n",
       "Best linear fit using forest predictions (on held-out data)\n",
       "as well as the mean forest prediction as regressors, along\n",
       "with one-sided heteroskedasticity-robust (HC3) SEs:\n",
       "\n",
       "                               Estimate Std. Error t value Pr(>t)    \n",
       "mean.forest.prediction         1.001320   0.065828 15.2113 <2e-16 ***\n",
       "differential.forest.prediction 0.279860   0.239488  1.1686 0.1213    \n",
       "---\n",
       "Signif. codes:  0 '***' 0.001 '**' 0.01 '*' 0.05 '.' 0.1 ' ' 1\n"
      ]
     },
     "metadata": {},
     "output_type": "display_data"
    },
    {
     "data": {
      "text/html": [
       "<style>\n",
       ".list-inline {list-style: none; margin:0; padding: 0}\n",
       ".list-inline>li {display: inline-block}\n",
       ".list-inline>li:not(:last-child)::after {content: \"\\00b7\"; padding: 0 .5ex}\n",
       "</style>\n",
       "<ol class=list-inline><li>-2.2081498461668e-05</li><li>0.000393985093913585</li></ol>\n"
      ],
      "text/latex": [
       "\\begin{enumerate*}\n",
       "\\item -2.2081498461668e-05\n",
       "\\item 0.000393985093913585\n",
       "\\end{enumerate*}\n"
      ],
      "text/markdown": [
       "1. -2.2081498461668e-05\n",
       "2. 0.000393985093913585\n",
       "\n",
       "\n"
      ],
      "text/plain": [
       "[1] -0.0000220815  0.0003939851"
      ]
     },
     "metadata": {},
     "output_type": "display_data"
    },
    {
     "data": {
      "text/plain": [
       "                     Df Sum Sq Mean Sq F value   Pr(>F)    \n",
       "factor(school.id)    75    201   2.678   1.982 1.02e-06 ***\n",
       "Residuals         10315  13935   1.351                     \n",
       "---\n",
       "Signif. codes:  0 '***' 0.001 '**' 0.01 '*' 0.05 '.' 0.1 ' ' 1"
      ]
     },
     "metadata": {},
     "output_type": "display_data"
    }
   ],
   "source": [
    "nfold = 5\n",
    "school.levels = unique(school.id)\n",
    "cluster.folds = sample.int(nfold, length(school.levels), replace = TRUE)\n",
    "\n",
    "tau.hat.crossfold = rep(NA, length(Y))\n",
    "for (foldid in 1:nfold) {\n",
    "  print(foldid)\n",
    "  infold = school.id %in% school.levels[cluster.folds == foldid]\n",
    "  cf.fold = causal_forest(X[!infold, selected.idx], Y[!infold], W[!infold],\n",
    "                          Y.hat = Y.hat[!infold], W.hat = W.hat[!infold],\n",
    "                          tune.parameters = \"all\")\n",
    "  pred.fold = predict(cf.fold, X[infold, selected.idx])$predictions\n",
    "  tau.hat.crossfold[infold] = pred.fold\n",
    "}\n",
    "\n",
    "cf.noclust.cpy = cf.noclust\n",
    "cf.noclust.cpy$predictions = tau.hat.crossfold\n",
    "cf.noclust.cpy$clusters = school.id\n",
    "test_calibration(cf.noclust.cpy)\n",
    "\n",
    "Rloss = mean(((Y - Y.hat) - tau.hat * (W - W.hat))^2)\n",
    "Rloss.noclust = mean(((Y - Y.hat) - tau.hat.noclust * (W - W.hat))^2)\n",
    "Rloss.crossfold = mean(((Y - Y.hat) - tau.hat.crossfold * (W - W.hat))^2)\n",
    "\n",
    "c(Rloss.noclust - Rloss, Rloss.crossfold - Rloss)\n",
    "\n",
    "summary(aov(dr.score ~ factor(school.id)))"
   ]
  },
  {
   "cell_type": "code",
   "execution_count": 36,
   "id": "f13d3dbf",
   "metadata": {},
   "outputs": [
    {
     "data": {
      "text/html": [
       "'95% CI for the ATE: 0.254 +/- 0.039'"
      ],
      "text/latex": [
       "'95\\% CI for the ATE: 0.254 +/- 0.039'"
      ],
      "text/markdown": [
       "'95% CI for the ATE: 0.254 +/- 0.039'"
      ],
      "text/plain": [
       "[1] \"95% CI for the ATE: 0.254 +/- 0.039\""
      ]
     },
     "metadata": {},
     "output_type": "display_data"
    },
    {
     "data": {
      "image/png": "[encoded data removed]",
      "text/plain": [
       "plot without title"
      ]
     },
     "metadata": {
      "image/png": {
       "height": 420,
       "width": 420
      }
     },
     "output_type": "display_data"
    }
   ],
   "source": [
    "# Analaysis without fitting the propensity score\n",
    "\n",
    "cf.noprop = causal_forest(X[,selected.idx], Y, W,\n",
    "                          Y.hat = Y.hat, W.hat = mean(W),\n",
    "                          tune.parameters = \"all\",\n",
    "                          equalize.cluster.weights = TRUE,\n",
    "                          clusters = school.id)\n",
    "tau.hat.noprop = predict(cf.noprop)$predictions\n",
    "\n",
    "ATE.noprop = average_treatment_effect(cf.noprop)\n",
    "paste(\"95% CI for the ATE:\", round(ATE.noprop[1], 3),\n",
    "      \"+/-\", round(qnorm(0.975) * ATE.noprop[2], 3))\n",
    "\n",
    "#pdf(\"tauhat_noprop.pdf\")\n",
    "pardef = par(mar = c(5, 4, 4, 2) + 0.5, cex.lab=1.5, cex.axis=1.5, cex.main=1.5, cex.sub=1.5)\n",
    "plot(tau.hat, tau.hat.noprop,\n",
    "     xlim = range(tau.hat, tau.hat.noprop),\n",
    "     ylim = range(tau.hat, tau.hat.noprop),\n",
    "     xlab = \"orthogonalized causal forest estimates\",\n",
    "     ylab = \"non-orthogonalized causal forest\")\n",
    "abline(0, 1, lwd = 2, lty = 2, col = 4)\n",
    "par = pardef\n",
    "#dev.off()"
   ]
  },
  {
   "cell_type": "code",
   "execution_count": 37,
   "id": "d7e02dc2",
   "metadata": {},
   "outputs": [
    {
     "data": {
      "text/plain": [
       "\n",
       "Best linear fit using forest predictions (on held-out data)\n",
       "as well as the mean forest prediction as regressors, along\n",
       "with one-sided heteroskedasticity-robust (HC3) SEs:\n",
       "\n",
       "                               Estimate Std. Error t value Pr(>t)    \n",
       "mean.forest.prediction         1.003461   0.082404 12.1773 <2e-16 ***\n",
       "differential.forest.prediction 0.608767   0.712399  0.8545 0.1978    \n",
       "---\n",
       "Signif. codes:  0 '***' 0.001 '**' 0.01 '*' 0.05 '.' 0.1 ' ' 1\n"
      ]
     },
     "metadata": {},
     "output_type": "display_data"
    }
   ],
   "source": [
    "# Train forest on school-wise DR scores\n",
    "school.X = (t(school.mat) %*% as.matrix(X[,c(4:8, 25:28)])) / school.size\n",
    "school.X = data.frame(school.X)\n",
    "colnames(school.X) = c(\"X1\", \"X2\", \"X3\", \"X4\", \"X5\",\n",
    "                    \"XC.1\", \"XC.2\", \"XC.3\", \"XC.4\")\n",
    "\n",
    "dr.score = tau.hat + W / cf$W.hat * (Y - cf$Y.hat - (1 - cf$W.hat) * tau.hat) -\n",
    "  (1 - W) / (1 - cf$W.hat) * (Y - cf$Y.hat + cf$W.hat * tau.hat)\n",
    "school.score = t(school.mat) %*% dr.score / school.size\n",
    "\n",
    "school.forest = regression_forest(school.X, school.score)\n",
    "school.pred = predict(school.forest)$predictions\n",
    "test_calibration(school.forest)"
   ]
  },
  {
   "cell_type": "code",
   "execution_count": 38,
   "id": "11c161c7",
   "metadata": {},
   "outputs": [
    {
     "data": {
      "text/plain": [
       "\n",
       "t test of coefficients:\n",
       "\n",
       "              Estimate Std. Error t value Pr(>|t|)   \n",
       "(Intercept)  0.2412696  0.0771218  3.1284 0.002616 **\n",
       "X1          -0.0504144  0.0291605 -1.7289 0.088509 . \n",
       "X2           0.0127667  0.0336429  0.3795 0.705552   \n",
       "X3           0.0104740  0.0266411  0.3932 0.695474   \n",
       "X4           0.0235292  0.0255123  0.9223 0.359748   \n",
       "X5          -0.0357527  0.0269103 -1.3286 0.188559   \n",
       "XC.1         0.0013382  0.0937302  0.0143 0.988652   \n",
       "XC.2         0.0884114  0.1049088  0.8427 0.402415   \n",
       "XC.3        -0.1346624  0.0876731 -1.5360 0.129329   \n",
       "XC.4         0.0424256  0.0816214  0.5198 0.604952   \n",
       "---\n",
       "Signif. codes:  0 '***' 0.001 '**' 0.01 '*' 0.05 '.' 0.1 ' ' 1\n"
      ]
     },
     "metadata": {},
     "output_type": "display_data"
    }
   ],
   "source": [
    "# Alternative OLS analysis\n",
    "school.DF = data.frame(school.X, school.score=school.score)\n",
    "coeftest(lm(school.score ~ ., data = school.DF), vcov = vcovHC)"
   ]
  },
  {
   "cell_type": "markdown",
   "id": "204853bd",
   "metadata": {},
   "source": [
    "Although the p-value for heterogeneity along X1 is not small enough to withstand a Bonferroni test, it seems reasonable to take the detection along X1 seriously because heterogeneity along X1 was one of two prespecified hypotheses. Also, it's interesting that X1 was the most important variable in the causal forest."
   ]
  },
  {
   "cell_type": "markdown",
   "id": "e71ec95c",
   "metadata": {},
   "source": [
    "### 7. Describing 6 plots of the paper"
   ]
  },
  {
   "cell_type": "code",
   "execution_count": 39,
   "id": "9d73757c",
   "metadata": {},
   "outputs": [
    {
     "data": {
      "image/png": "[encoded data removed]",
      "text/plain": [
       "Plot with title \"\""
      ]
     },
     "metadata": {
      "image/png": {
       "height": 420,
       "width": 420
      }
     },
     "output_type": "display_data"
    }
   ],
   "source": [
    "#pdf(\"tauhat_hist.pdf\")\n",
    "pardef = par(mar = c(5, 4, 4, 2) + 0.5, cex.lab=1.5, cex.axis=1.5, cex.main=1.5, cex.sub=1.5)\n",
    "hist(tau.hat, xlab = \"estimated CATE\", main = \"\")\n",
    "#dev.off()"
   ]
  },
  {
   "cell_type": "markdown",
   "id": "d1061b1c",
   "metadata": {},
   "source": [
    "It is noted that the distribution has a mean around approximately 0.25 to 0.30, and is spread out around this. The fact that the distribution is scattered is not necessarily a sign of heterogeneity, but the initial tests of the work were carried out for this."
   ]
  },
  {
   "cell_type": "code",
   "execution_count": 40,
   "id": "1840b3ef",
   "metadata": {},
   "outputs": [
    {
     "data": {
      "image/png": "[encoded data removed]",
      "text/plain": [
       "Plot with title \"\""
      ]
     },
     "metadata": {
      "image/png": {
       "height": 420,
       "width": 420
      }
     },
     "output_type": "display_data"
    }
   ],
   "source": [
    "#pdf(\"tauhat_hist_noprop.pdf\")\n",
    "pardef = par(mar = c(5, 4, 4, 2) + 0.5, cex.lab=1.5, cex.axis=1.5, cex.main=1.5, cex.sub=1.5)\n",
    "hist(tau.hat.noprop, xlab = \"estimated CATE\", main = \"\")\n",
    "#dev.off()"
   ]
  },
  {
   "cell_type": "markdown",
   "id": "18805752",
   "metadata": {},
   "source": [
    "Is a histogram of CATE estimates trained using a causal forest that Does not account for school-level clustering."
   ]
  },
  {
   "cell_type": "code",
   "execution_count": 45,
   "id": "1186f787",
   "metadata": {},
   "outputs": [
    {
     "data": {
      "image/png": "[encoded data removed]",
      "text/plain": [
       "plot without title"
      ]
     },
     "metadata": {
      "image/png": {
       "height": 420,
       "width": 420
      }
     },
     "output_type": "display_data"
    }
   ],
   "source": [
    "#pdf(\"tauhat_vs_X1.pdf\")\n",
    "pardef = par(mar = c(5, 4, 4, 2) + 0.5, cex.lab=1.5, cex.axis=1.5, cex.main=1.5, cex.sub=1.5)\n",
    "boxplot(tau.hat ~ round(X$X1), xlab = \"X1\", ylab = \"estimated CATE\")\n",
    "lines(smooth.spline(4 + X[,\"X1\"], tau.hat, df = 4), lwd = 2, col = 4)\n",
    "#dev.off()"
   ]
  },
  {
   "cell_type": "markdown",
   "id": "a3c84e23",
   "metadata": {},
   "source": [
    "In this graph we observe that, as we had found before, the heterogeneity of X1 by school was significant. In other words, there is a different mean value for a different level of mentality per school."
   ]
  },
  {
   "cell_type": "code",
   "execution_count": 46,
   "id": "6803dd47",
   "metadata": {},
   "outputs": [
    {
     "data": {
      "image/png": "[encoded data removed]",
      "text/plain": [
       "plot without title"
      ]
     },
     "metadata": {
      "image/png": {
       "height": 420,
       "width": 420
      }
     },
     "output_type": "display_data"
    }
   ],
   "source": [
    "#pdf(\"tauhat_vs_X2.pdf\")\n",
    "pardef = par(mar = c(5, 4, 4, 2) + 0.5, cex.lab=1.5, cex.axis=1.5, cex.main=1.5, cex.sub=1.5)\n",
    "boxplot(tau.hat ~ round(X$X2), xlab = \"X2\", ylab = \"estimated CATE\")\n",
    "lines(smooth.spline(4 + X[,\"X2\"], tau.hat, df = 4), lwd = 2, col = 4)\n",
    "#dev.off()\n",
    "\n",
    "school.avg.tauhat = t(school.mat) %*% tau.hat / school.size"
   ]
  },
  {
   "cell_type": "markdown",
   "id": "70843eee",
   "metadata": {},
   "source": [
    "Also, in this graph we see that the mean value of the CATE varies according to the values of the level of school achievement (X2). However, we had previously found that there was no significant heterogeneity."
   ]
  },
  {
   "cell_type": "code",
   "execution_count": 47,
   "id": "e261abf7",
   "metadata": {},
   "outputs": [
    {
     "data": {
      "image/png": "[encoded data removed]",
      "text/plain": [
       "plot without title"
      ]
     },
     "metadata": {
      "image/png": {
       "height": 420,
       "width": 420
      }
     },
     "output_type": "display_data"
    }
   ],
   "source": [
    "#pdf(\"school_avg.pdf\")\n",
    "pardef = par(mar = c(5, 4, 4, 2) + 0.5, cex.lab=1.5, cex.axis=1.5, cex.main=1.5, cex.sub=1.5)\n",
    "plot(school.avg.tauhat, school.pred, cex = 1.5,\n",
    "     xlim = range(school.avg.tauhat, school.pred),\n",
    "     ylim = range(school.avg.tauhat, school.pred),\n",
    "     xlab = \"average CATE estimate in school\",\n",
    "     ylab = \"school-wise forest predictions\")\n",
    "abline(0, 1, lwd = 2, lty = 2, col = 4)\n",
    "par = pardef\n",
    "#dev.off()"
   ]
  },
  {
   "cell_type": "markdown",
   "id": "79c2e76c",
   "metadata": {},
   "source": [
    "This plot compares estimates from a regression forest trained to predict a doubly robust treatment using estimates of the school effect using school-level covariates, with estimates of school means from causal forests."
   ]
  },
  {
   "cell_type": "markdown",
   "id": "6447c854",
   "metadata": {},
   "source": [
    "#### Experiment with no orthogonalization"
   ]
  },
  {
   "cell_type": "code",
   "execution_count": 48,
   "id": "0c185038",
   "metadata": {},
   "outputs": [
    {
     "data": {
      "text/html": [
       "'95% CI for the ATE: -0.033 +/- 0.147'"
      ],
      "text/latex": [
       "'95\\% CI for the ATE: -0.033 +/- 0.147'"
      ],
      "text/markdown": [
       "'95% CI for the ATE: -0.033 +/- 0.147'"
      ],
      "text/plain": [
       "[1] \"95% CI for the ATE: -0.033 +/- 0.147\""
      ]
     },
     "metadata": {},
     "output_type": "display_data"
    },
    {
     "data": {
      "text/html": [
       "'95% CI for the ATE: 0.087 +/- 0.143'"
      ],
      "text/latex": [
       "'95\\% CI for the ATE: 0.087 +/- 0.143'"
      ],
      "text/markdown": [
       "'95% CI for the ATE: 0.087 +/- 0.143'"
      ],
      "text/plain": [
       "[1] \"95% CI for the ATE: 0.087 +/- 0.143\""
      ]
     },
     "metadata": {},
     "output_type": "display_data"
    }
   ],
   "source": [
    "n.synth = 1000\n",
    "p.synth = 10\n",
    "X.synth = matrix(rnorm(n.synth * p.synth), n.synth, p.synth)\n",
    "W.synth = rbinom(n.synth, 1, 1 / (1 + exp(-X.synth[,1])))\n",
    "Y.synth = 2 * rowMeans(X.synth[,1:6]) + rnorm(n.synth)\n",
    "\n",
    "Y.forest.synth = regression_forest(X.synth, Y.synth)\n",
    "Y.hat.synth = predict(Y.forest.synth)$predictions\n",
    "W.forest.synth = regression_forest(X.synth, W.synth)\n",
    "W.hat.synth = predict(W.forest.synth)$predictions\n",
    "\n",
    "cf.synth = causal_forest(X.synth, Y.synth, W.synth,\n",
    "                         Y.hat = Y.hat.synth, W.hat = W.hat.synth)\n",
    "ATE.synth = average_treatment_effect(cf.synth)\n",
    "paste(\"95% CI for the ATE:\", round(ATE.synth[1], 3),\n",
    "      \"+/-\", round(qnorm(0.975) * ATE.synth[2], 3))\n",
    "\n",
    "cf.synth.noprop = causal_forest(X.synth, Y.synth, W.synth,\n",
    "                                Y.hat = Y.hat.synth, W.hat = mean(W.synth))\n",
    "ATE.synth.noprop = average_treatment_effect(cf.synth.noprop)\n",
    "paste(\"95% CI for the ATE:\", round(ATE.synth.noprop[1], 3),\n",
    "      \"+/-\", round(qnorm(0.975) * ATE.synth.noprop[2], 3))"
   ]
  },
  {
   "cell_type": "markdown",
   "id": "b391815f",
   "metadata": {},
   "source": [
    "### 8. Visualize school-level covariates by treatment heterogeneity"
   ]
  },
  {
   "cell_type": "code",
   "execution_count": 49,
   "id": "2de4c22e",
   "metadata": {},
   "outputs": [
    {
     "data": {
      "text/html": [
       "0.210526315789474"
      ],
      "text/latex": [
       "0.210526315789474"
      ],
      "text/markdown": [
       "0.210526315789474"
      ],
      "text/plain": [
       "[1] 0.2105263"
      ]
     },
     "metadata": {},
     "output_type": "display_data"
    },
    {
     "data": {
      "text/html": [
       "0.538461538461538"
      ],
      "text/latex": [
       "0.538461538461538"
      ],
      "text/markdown": [
       "0.538461538461538"
      ],
      "text/plain": [
       "[1] 0.5384615"
      ]
     },
     "metadata": {},
     "output_type": "display_data"
    },
    {
     "data": {
      "image/png": "[encoded data removed]",
      "text/plain": [
       "plot without title"
      ]
     },
     "metadata": {
      "image/png": {
       "height": 420,
       "width": 420
      }
     },
     "output_type": "display_data"
    }
   ],
   "source": [
    "school.X.std = scale(school.X)\n",
    "school.tercile = cut(school.pred,\n",
    "                     breaks = c(-Inf, quantile(school.pred, c(1/3, 2/3)), Inf))\n",
    "school.tercile.mat = model.matrix(~ school.tercile + 0)\n",
    "school.means = diag(1 / colSums(school.tercile.mat)) %*% t(school.tercile.mat) %*% as.matrix(school.X.std)\n",
    "\n",
    "MM = max(abs(school.means))\n",
    "HC = heat.colors(21)\n",
    "school.col = apply(school.means, 1:2, function(aa) HC[1 + round(20 * (0.5 + aa))])\n",
    "\n",
    "DF.plot = data.frame(tercile=rep(factor(1:3, labels=c(\"low\", \"mid\", \"high\")), 9), mean=as.numeric(school.means),\n",
    "                     feature = factor(rbind(colnames(school.X), colnames(school.X), colnames(school.X))))\n",
    "\n",
    "ggplot(data = DF.plot, aes(x = feature, y = tercile, fill = mean)) +\n",
    "    geom_tile() + scale_fill_gradient(low = \"white\", high = \"steelblue\") +\n",
    "    theme(axis.text = element_text(size=12), axis.title = element_text(size=14),\n",
    "          legend.title = element_text(size=14), legend.text = element_text(size=12)) +\n",
    "    theme(panel.background = element_blank())\n",
    "ggsave(\"tercile_plot.pdf\", width = 8, height = 4.5, dpi = 120)\n",
    "\n",
    "mean(school.X$XC.3)\n",
    "mean(school.X$XC.3[as.numeric(school.tercile) == 1])\n"
   ]
  },
  {
   "cell_type": "markdown",
   "id": "194441bc",
   "metadata": {},
   "source": [
    "#### CATE by school"
   ]
  },
  {
   "cell_type": "code",
   "execution_count": 50,
   "id": "49f53ea7",
   "metadata": {},
   "outputs": [
    {
     "ename": "ERROR",
     "evalue": "Error in eval(predvars, data, env): objeto 'tau.hat.noclust' no encontrado\n",
     "output_type": "error",
     "traceback": [
      "Error in eval(predvars, data, env): objeto 'tau.hat.noclust' no encontrado\nTraceback:\n",
      "1. boxplot(tau.hat.noclust ~ school.sort, xaxt = \"n\", xlab = \"school\", \n .     ylab = \"estimated CATE\")",
      "2. boxplot.formula(tau.hat.noclust ~ school.sort, xaxt = \"n\", xlab = \"school\", \n .     ylab = \"estimated CATE\")",
      "3. eval(m, parent.frame())",
      "4. eval(m, parent.frame())",
      "5. stats::model.frame.default(formula = tau.hat.noclust ~ school.sort)",
      "6. eval(predvars, data, env)",
      "7. eval(predvars, data, env)"
     ]
    }
   ],
   "source": [
    "ord = order(order(school.pred))\n",
    "school.sort = ord[school.id]\n",
    "\n",
    "pdf(\"school_boxplot.pdf\")\n",
    "pardef = par(mar = c(5, 4, 4, 2) + 0.5, cex.lab=1.5, cex.axis=1.5, cex.main=1.5, cex.sub=1.5)\n",
    "boxplot(tau.hat.noclust ~ school.sort, xaxt = \"n\",\n",
    "        xlab = \"school\", ylab = \"estimated CATE\")\n",
    "points(1:76, sort(school.pred), col = 4, pch = 16)\n",
    "legend(\"topleft\", c(\"school mean CATE\", \"CATE w/o clustering\"), pch = c(16, 1), col = c(4, 1), cex = 1.5)\n",
    "par = pardef\n",
    "dev.off()"
   ]
  }
 ],
 "metadata": {
  "kernelspec": {
   "display_name": "R",
   "language": "R",
   "name": "ir"
  },
  "language_info": {
   "codemirror_mode": "r",
   "file_extension": ".r",
   "mimetype": "text/x-r-source",
   "name": "R",
   "pygments_lexer": "r",
   "version": "4.1.3"
  }
 },
 "nbformat": 4,
 "nbformat_minor": 5
}
