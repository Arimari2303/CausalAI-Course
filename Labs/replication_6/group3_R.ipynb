{
 "cells": [
  {
   "cell_type": "markdown",
   "id": "901c8610",
   "metadata": {},
   "source": [
    "## Worgroup 6\n",
    "\n",
    "- Andrea Ulloa\n",
    "- Ángela Coapaza\n",
    "- Ana Angulo"
   ]
  },
  {
   "cell_type": "markdown",
   "id": "147db878",
   "metadata": {},
   "source": [
    "## CAUSAL FOREST\n",
    "\n",
    "We have to replicate the results found in the paper of Athey and Wager (2018). For this code we follow this \\href{repo}{} to help us for the work.\n",
    "\n",
    "And then we describe in detail the results we found in the next sections of the code:\n",
    "\n",
    "1. How the tree was built?\n",
    "2. Estimate ATE\n",
    "3. Run best linear predictor analysis\n",
    "4. Look at school-wise heterogeneity\n",
    "5. Analysis ignoring clusters. How do the results change?\n",
    "6. Analysis without fitting the propensity score\n",
    "7. The code plot six plots in the Make some plots section, so explain what you find there.\n",
    "8. Visualize school-level covariates by treatment heterogeneity\n",
    "9. CATE by school"
   ]
  },
  {
   "cell_type": "code",
   "execution_count": 1,
   "id": "576df444",
   "metadata": {},
   "outputs": [],
   "source": [
    "# Notes:\n",
    "# - The paper refers to an argument called `samples.per.cluster`. This option was removed in grf version 1.0\n",
    "# and is now by default (`equalize.cluster.weights = FALSE`) internally set to the size of the largest cluster,\n",
    "# which means that large schools recieve larger weight than small schools. To be closer to the original behavior,\n",
    "# this script has been updated by setting `equalize.cluster.weights` to TRUE, which means each school receives\n",
    "# equal weight in ATE estimation.\n",
    "#\n",
    "# For more details on clustering in grf, see the algorithm reference at:\n",
    "# https://grf-labs.github.io/grf/REFERENCE.html#cluster-robust-estimation\n"
   ]
  },
  {
   "cell_type": "code",
   "execution_count": 2,
   "id": "b3ffecc0",
   "metadata": {},
   "outputs": [],
   "source": [
    "set.seed(1)\n",
    "rm(list = ls())"
   ]
  },
  {
   "cell_type": "code",
   "execution_count": 3,
   "id": "80854d72",
   "metadata": {},
   "outputs": [
    {
     "name": "stderr",
     "output_type": "stream",
     "text": [
      "Installing package into 'C:/Users/ANA/Documents/R/win-library/4.1'\n",
      "(as 'lib' is unspecified)\n",
      "\n"
     ]
    },
    {
     "name": "stdout",
     "output_type": "stream",
     "text": [
      "package 'grf' successfully unpacked and MD5 sums checked\n",
      "\n",
      "The downloaded binary packages are in\n",
      "\tC:\\Users\\ANA\\AppData\\Local\\Temp\\RtmpqYUAx2\\downloaded_packages\n"
     ]
    },
    {
     "name": "stderr",
     "output_type": "stream",
     "text": [
      "Installing package into 'C:/Users/ANA/Documents/R/win-library/4.1'\n",
      "(as 'lib' is unspecified)\n",
      "\n"
     ]
    },
    {
     "name": "stdout",
     "output_type": "stream",
     "text": [
      "package 'Hmisc' successfully unpacked and MD5 sums checked\n",
      "\n",
      "The downloaded binary packages are in\n",
      "\tC:\\Users\\ANA\\AppData\\Local\\Temp\\RtmpqYUAx2\\downloaded_packages\n"
     ]
    },
    {
     "name": "stderr",
     "output_type": "stream",
     "text": [
      "Warning message:\n",
      "\"package 'grf' was built under R version 4.1.3\"\n",
      "Warning message:\n",
      "\"package 'sandwich' was built under R version 4.1.3\"\n",
      "Warning message:\n",
      "\"package 'lmtest' was built under R version 4.1.3\"\n",
      "Loading required package: zoo\n",
      "\n",
      "Warning message:\n",
      "\"package 'zoo' was built under R version 4.1.3\"\n",
      "\n",
      "Attaching package: 'zoo'\n",
      "\n",
      "\n",
      "The following objects are masked from 'package:base':\n",
      "\n",
      "    as.Date, as.Date.numeric\n",
      "\n",
      "\n",
      "Warning message:\n",
      "\"package 'Hmisc' was built under R version 4.1.3\"\n",
      "Loading required package: lattice\n",
      "\n",
      "Loading required package: survival\n",
      "\n",
      "Loading required package: Formula\n",
      "\n",
      "Loading required package: ggplot2\n",
      "\n",
      "Warning message:\n",
      "\"replacing previous import 'lifecycle::last_warnings' by 'rlang::last_warnings' when loading 'tibble'\"\n",
      "\n",
      "Attaching package: 'Hmisc'\n",
      "\n",
      "\n",
      "The following objects are masked from 'package:base':\n",
      "\n",
      "    format.pval, units\n",
      "\n",
      "\n"
     ]
    }
   ],
   "source": [
    "install.packages(\"grf\")\n",
    "install.packages(\"Hmisc\")\n",
    "\n",
    "library(grf)\n",
    "if(packageVersion(\"grf\") < '0.10.2') {\n",
    "  warning(\"This script requires grf 0.10.2 or higher\")\n",
    "}\n",
    "library(sandwich)\n",
    "library(lmtest)\n",
    "library(Hmisc)\n",
    "library(ggplot2)\n"
   ]
  },
  {
   "cell_type": "code",
   "execution_count": 4,
   "id": "22659f95",
   "metadata": {},
   "outputs": [
    {
     "data": {
      "text/html": [
       "<table class=\"dataframe\">\n",
       "<caption>A data.frame: 6 × 13</caption>\n",
       "<thead>\n",
       "\t<tr><th></th><th scope=col>schoolid</th><th scope=col>Z</th><th scope=col>Y</th><th scope=col>S3</th><th scope=col>C1</th><th scope=col>C2</th><th scope=col>C3</th><th scope=col>XC</th><th scope=col>X1</th><th scope=col>X2</th><th scope=col>X3</th><th scope=col>X4</th><th scope=col>X5</th></tr>\n",
       "\t<tr><th></th><th scope=col>&lt;int&gt;</th><th scope=col>&lt;int&gt;</th><th scope=col>&lt;dbl&gt;</th><th scope=col>&lt;int&gt;</th><th scope=col>&lt;int&gt;</th><th scope=col>&lt;int&gt;</th><th scope=col>&lt;int&gt;</th><th scope=col>&lt;int&gt;</th><th scope=col>&lt;dbl&gt;</th><th scope=col>&lt;dbl&gt;</th><th scope=col>&lt;dbl&gt;</th><th scope=col>&lt;dbl&gt;</th><th scope=col>&lt;dbl&gt;</th></tr>\n",
       "</thead>\n",
       "<tbody>\n",
       "\t<tr><th scope=row>1</th><td>76</td><td>1</td><td> 0.08160167</td><td>6</td><td> 4</td><td>2</td><td>1</td><td>4</td><td>0.3345435</td><td>0.6485856</td><td>-1.310927</td><td>0.2240765</td><td>-0.4267567</td></tr>\n",
       "\t<tr><th scope=row>2</th><td>76</td><td>1</td><td>-0.38586896</td><td>4</td><td>12</td><td>2</td><td>1</td><td>4</td><td>0.3345435</td><td>0.6485856</td><td>-1.310927</td><td>0.2240765</td><td>-0.4267567</td></tr>\n",
       "\t<tr><th scope=row>3</th><td>76</td><td>1</td><td> 0.39818373</td><td>6</td><td> 4</td><td>2</td><td>0</td><td>4</td><td>0.3345435</td><td>0.6485856</td><td>-1.310927</td><td>0.2240765</td><td>-0.4267567</td></tr>\n",
       "\t<tr><th scope=row>4</th><td>76</td><td>1</td><td>-0.17503685</td><td>6</td><td> 4</td><td>2</td><td>0</td><td>4</td><td>0.3345435</td><td>0.6485856</td><td>-1.310927</td><td>0.2240765</td><td>-0.4267567</td></tr>\n",
       "\t<tr><th scope=row>5</th><td>76</td><td>1</td><td> 0.88458337</td><td>6</td><td> 4</td><td>1</td><td>0</td><td>4</td><td>0.3345435</td><td>0.6485856</td><td>-1.310927</td><td>0.2240765</td><td>-0.4267567</td></tr>\n",
       "\t<tr><th scope=row>6</th><td>76</td><td>1</td><td>-0.09056477</td><td>6</td><td> 4</td><td>2</td><td>0</td><td>4</td><td>0.3345435</td><td>0.6485856</td><td>-1.310927</td><td>0.2240765</td><td>-0.4267567</td></tr>\n",
       "</tbody>\n",
       "</table>\n"
      ],
      "text/latex": [
       "A data.frame: 6 × 13\n",
       "\\begin{tabular}{r|lllllllllllll}\n",
       "  & schoolid & Z & Y & S3 & C1 & C2 & C3 & XC & X1 & X2 & X3 & X4 & X5\\\\\n",
       "  & <int> & <int> & <dbl> & <int> & <int> & <int> & <int> & <int> & <dbl> & <dbl> & <dbl> & <dbl> & <dbl>\\\\\n",
       "\\hline\n",
       "\t1 & 76 & 1 &  0.08160167 & 6 &  4 & 2 & 1 & 4 & 0.3345435 & 0.6485856 & -1.310927 & 0.2240765 & -0.4267567\\\\\n",
       "\t2 & 76 & 1 & -0.38586896 & 4 & 12 & 2 & 1 & 4 & 0.3345435 & 0.6485856 & -1.310927 & 0.2240765 & -0.4267567\\\\\n",
       "\t3 & 76 & 1 &  0.39818373 & 6 &  4 & 2 & 0 & 4 & 0.3345435 & 0.6485856 & -1.310927 & 0.2240765 & -0.4267567\\\\\n",
       "\t4 & 76 & 1 & -0.17503685 & 6 &  4 & 2 & 0 & 4 & 0.3345435 & 0.6485856 & -1.310927 & 0.2240765 & -0.4267567\\\\\n",
       "\t5 & 76 & 1 &  0.88458337 & 6 &  4 & 1 & 0 & 4 & 0.3345435 & 0.6485856 & -1.310927 & 0.2240765 & -0.4267567\\\\\n",
       "\t6 & 76 & 1 & -0.09056477 & 6 &  4 & 2 & 0 & 4 & 0.3345435 & 0.6485856 & -1.310927 & 0.2240765 & -0.4267567\\\\\n",
       "\\end{tabular}\n"
      ],
      "text/markdown": [
       "\n",
       "A data.frame: 6 × 13\n",
       "\n",
       "| <!--/--> | schoolid &lt;int&gt; | Z &lt;int&gt; | Y &lt;dbl&gt; | S3 &lt;int&gt; | C1 &lt;int&gt; | C2 &lt;int&gt; | C3 &lt;int&gt; | XC &lt;int&gt; | X1 &lt;dbl&gt; | X2 &lt;dbl&gt; | X3 &lt;dbl&gt; | X4 &lt;dbl&gt; | X5 &lt;dbl&gt; |\n",
       "|---|---|---|---|---|---|---|---|---|---|---|---|---|---|\n",
       "| 1 | 76 | 1 |  0.08160167 | 6 |  4 | 2 | 1 | 4 | 0.3345435 | 0.6485856 | -1.310927 | 0.2240765 | -0.4267567 |\n",
       "| 2 | 76 | 1 | -0.38586896 | 4 | 12 | 2 | 1 | 4 | 0.3345435 | 0.6485856 | -1.310927 | 0.2240765 | -0.4267567 |\n",
       "| 3 | 76 | 1 |  0.39818373 | 6 |  4 | 2 | 0 | 4 | 0.3345435 | 0.6485856 | -1.310927 | 0.2240765 | -0.4267567 |\n",
       "| 4 | 76 | 1 | -0.17503685 | 6 |  4 | 2 | 0 | 4 | 0.3345435 | 0.6485856 | -1.310927 | 0.2240765 | -0.4267567 |\n",
       "| 5 | 76 | 1 |  0.88458337 | 6 |  4 | 1 | 0 | 4 | 0.3345435 | 0.6485856 | -1.310927 | 0.2240765 | -0.4267567 |\n",
       "| 6 | 76 | 1 | -0.09056477 | 6 |  4 | 2 | 0 | 4 | 0.3345435 | 0.6485856 | -1.310927 | 0.2240765 | -0.4267567 |\n",
       "\n"
      ],
      "text/plain": [
       "  schoolid Z Y           S3 C1 C2 C3 XC X1        X2        X3        X4       \n",
       "1 76       1  0.08160167 6   4 2  1  4  0.3345435 0.6485856 -1.310927 0.2240765\n",
       "2 76       1 -0.38586896 4  12 2  1  4  0.3345435 0.6485856 -1.310927 0.2240765\n",
       "3 76       1  0.39818373 6   4 2  0  4  0.3345435 0.6485856 -1.310927 0.2240765\n",
       "4 76       1 -0.17503685 6   4 2  0  4  0.3345435 0.6485856 -1.310927 0.2240765\n",
       "5 76       1  0.88458337 6   4 1  0  4  0.3345435 0.6485856 -1.310927 0.2240765\n",
       "6 76       1 -0.09056477 6   4 2  0  4  0.3345435 0.6485856 -1.310927 0.2240765\n",
       "  X5        \n",
       "1 -0.4267567\n",
       "2 -0.4267567\n",
       "3 -0.4267567\n",
       "4 -0.4267567\n",
       "5 -0.4267567\n",
       "6 -0.4267567"
      ]
     },
     "metadata": {},
     "output_type": "display_data"
    }
   ],
   "source": [
    "data.all = read.csv(\"../../../../data_lab/synthetic_data.csv\")\n",
    "head(data.all)"
   ]
  },
  {
   "cell_type": "code",
   "execution_count": 5,
   "id": "b6ba63b1",
   "metadata": {},
   "outputs": [],
   "source": [
    "# Changing the variable type of schoolid, from int to factor\n",
    "data.all$schoolid = factor(data.all$schoolid)"
   ]
  },
  {
   "cell_type": "code",
   "execution_count": 6,
   "id": "21e28e2a",
   "metadata": {},
   "outputs": [
    {
     "data": {
      "text/html": [
       "<table class=\"dataframe\">\n",
       "<caption>A matrix: 6 × 76 of type dbl</caption>\n",
       "<thead>\n",
       "\t<tr><th></th><th scope=col>schoolid1</th><th scope=col>schoolid2</th><th scope=col>schoolid3</th><th scope=col>schoolid4</th><th scope=col>schoolid5</th><th scope=col>schoolid6</th><th scope=col>schoolid7</th><th scope=col>schoolid8</th><th scope=col>schoolid9</th><th scope=col>schoolid10</th><th scope=col>...</th><th scope=col>schoolid67</th><th scope=col>schoolid68</th><th scope=col>schoolid69</th><th scope=col>schoolid70</th><th scope=col>schoolid71</th><th scope=col>schoolid72</th><th scope=col>schoolid73</th><th scope=col>schoolid74</th><th scope=col>schoolid75</th><th scope=col>schoolid76</th></tr>\n",
       "</thead>\n",
       "<tbody>\n",
       "\t<tr><th scope=row>1</th><td>0</td><td>0</td><td>0</td><td>0</td><td>0</td><td>0</td><td>0</td><td>0</td><td>0</td><td>0</td><td>...</td><td>0</td><td>0</td><td>0</td><td>0</td><td>0</td><td>0</td><td>0</td><td>0</td><td>0</td><td>1</td></tr>\n",
       "\t<tr><th scope=row>2</th><td>0</td><td>0</td><td>0</td><td>0</td><td>0</td><td>0</td><td>0</td><td>0</td><td>0</td><td>0</td><td>...</td><td>0</td><td>0</td><td>0</td><td>0</td><td>0</td><td>0</td><td>0</td><td>0</td><td>0</td><td>1</td></tr>\n",
       "\t<tr><th scope=row>3</th><td>0</td><td>0</td><td>0</td><td>0</td><td>0</td><td>0</td><td>0</td><td>0</td><td>0</td><td>0</td><td>...</td><td>0</td><td>0</td><td>0</td><td>0</td><td>0</td><td>0</td><td>0</td><td>0</td><td>0</td><td>1</td></tr>\n",
       "\t<tr><th scope=row>4</th><td>0</td><td>0</td><td>0</td><td>0</td><td>0</td><td>0</td><td>0</td><td>0</td><td>0</td><td>0</td><td>...</td><td>0</td><td>0</td><td>0</td><td>0</td><td>0</td><td>0</td><td>0</td><td>0</td><td>0</td><td>1</td></tr>\n",
       "\t<tr><th scope=row>5</th><td>0</td><td>0</td><td>0</td><td>0</td><td>0</td><td>0</td><td>0</td><td>0</td><td>0</td><td>0</td><td>...</td><td>0</td><td>0</td><td>0</td><td>0</td><td>0</td><td>0</td><td>0</td><td>0</td><td>0</td><td>1</td></tr>\n",
       "\t<tr><th scope=row>6</th><td>0</td><td>0</td><td>0</td><td>0</td><td>0</td><td>0</td><td>0</td><td>0</td><td>0</td><td>0</td><td>...</td><td>0</td><td>0</td><td>0</td><td>0</td><td>0</td><td>0</td><td>0</td><td>0</td><td>0</td><td>1</td></tr>\n",
       "</tbody>\n",
       "</table>\n"
      ],
      "text/latex": [
       "A matrix: 6 × 76 of type dbl\n",
       "\\begin{tabular}{r|lllllllllllllllllllll}\n",
       "  & schoolid1 & schoolid2 & schoolid3 & schoolid4 & schoolid5 & schoolid6 & schoolid7 & schoolid8 & schoolid9 & schoolid10 & ... & schoolid67 & schoolid68 & schoolid69 & schoolid70 & schoolid71 & schoolid72 & schoolid73 & schoolid74 & schoolid75 & schoolid76\\\\\n",
       "\\hline\n",
       "\t1 & 0 & 0 & 0 & 0 & 0 & 0 & 0 & 0 & 0 & 0 & ... & 0 & 0 & 0 & 0 & 0 & 0 & 0 & 0 & 0 & 1\\\\\n",
       "\t2 & 0 & 0 & 0 & 0 & 0 & 0 & 0 & 0 & 0 & 0 & ... & 0 & 0 & 0 & 0 & 0 & 0 & 0 & 0 & 0 & 1\\\\\n",
       "\t3 & 0 & 0 & 0 & 0 & 0 & 0 & 0 & 0 & 0 & 0 & ... & 0 & 0 & 0 & 0 & 0 & 0 & 0 & 0 & 0 & 1\\\\\n",
       "\t4 & 0 & 0 & 0 & 0 & 0 & 0 & 0 & 0 & 0 & 0 & ... & 0 & 0 & 0 & 0 & 0 & 0 & 0 & 0 & 0 & 1\\\\\n",
       "\t5 & 0 & 0 & 0 & 0 & 0 & 0 & 0 & 0 & 0 & 0 & ... & 0 & 0 & 0 & 0 & 0 & 0 & 0 & 0 & 0 & 1\\\\\n",
       "\t6 & 0 & 0 & 0 & 0 & 0 & 0 & 0 & 0 & 0 & 0 & ... & 0 & 0 & 0 & 0 & 0 & 0 & 0 & 0 & 0 & 1\\\\\n",
       "\\end{tabular}\n"
      ],
      "text/markdown": [
       "\n",
       "A matrix: 6 × 76 of type dbl\n",
       "\n",
       "| <!--/--> | schoolid1 | schoolid2 | schoolid3 | schoolid4 | schoolid5 | schoolid6 | schoolid7 | schoolid8 | schoolid9 | schoolid10 | ... | schoolid67 | schoolid68 | schoolid69 | schoolid70 | schoolid71 | schoolid72 | schoolid73 | schoolid74 | schoolid75 | schoolid76 |\n",
       "|---|---|---|---|---|---|---|---|---|---|---|---|---|---|---|---|---|---|---|---|---|---|\n",
       "| 1 | 0 | 0 | 0 | 0 | 0 | 0 | 0 | 0 | 0 | 0 | ... | 0 | 0 | 0 | 0 | 0 | 0 | 0 | 0 | 0 | 1 |\n",
       "| 2 | 0 | 0 | 0 | 0 | 0 | 0 | 0 | 0 | 0 | 0 | ... | 0 | 0 | 0 | 0 | 0 | 0 | 0 | 0 | 0 | 1 |\n",
       "| 3 | 0 | 0 | 0 | 0 | 0 | 0 | 0 | 0 | 0 | 0 | ... | 0 | 0 | 0 | 0 | 0 | 0 | 0 | 0 | 0 | 1 |\n",
       "| 4 | 0 | 0 | 0 | 0 | 0 | 0 | 0 | 0 | 0 | 0 | ... | 0 | 0 | 0 | 0 | 0 | 0 | 0 | 0 | 0 | 1 |\n",
       "| 5 | 0 | 0 | 0 | 0 | 0 | 0 | 0 | 0 | 0 | 0 | ... | 0 | 0 | 0 | 0 | 0 | 0 | 0 | 0 | 0 | 1 |\n",
       "| 6 | 0 | 0 | 0 | 0 | 0 | 0 | 0 | 0 | 0 | 0 | ... | 0 | 0 | 0 | 0 | 0 | 0 | 0 | 0 | 0 | 1 |\n",
       "\n"
      ],
      "text/plain": [
       "  schoolid1 schoolid2 schoolid3 schoolid4 schoolid5 schoolid6 schoolid7\n",
       "1 0         0         0         0         0         0         0        \n",
       "2 0         0         0         0         0         0         0        \n",
       "3 0         0         0         0         0         0         0        \n",
       "4 0         0         0         0         0         0         0        \n",
       "5 0         0         0         0         0         0         0        \n",
       "6 0         0         0         0         0         0         0        \n",
       "  schoolid8 schoolid9 schoolid10 ... schoolid67 schoolid68 schoolid69\n",
       "1 0         0         0          ... 0          0          0         \n",
       "2 0         0         0          ... 0          0          0         \n",
       "3 0         0         0          ... 0          0          0         \n",
       "4 0         0         0          ... 0          0          0         \n",
       "5 0         0         0          ... 0          0          0         \n",
       "6 0         0         0          ... 0          0          0         \n",
       "  schoolid70 schoolid71 schoolid72 schoolid73 schoolid74 schoolid75 schoolid76\n",
       "1 0          0          0          0          0          0          1         \n",
       "2 0          0          0          0          0          0          1         \n",
       "3 0          0          0          0          0          0          1         \n",
       "4 0          0          0          0          0          0          1         \n",
       "5 0          0          0          0          0          0          1         \n",
       "6 0          0          0          0          0          0          1         "
      ]
     },
     "metadata": {},
     "output_type": "display_data"
    }
   ],
   "source": [
    "DF = data.all[,-1] # Without schoolid\n",
    "school.id = as.numeric(data.all$schoolid) # we get the numbers from the schoolid column\n",
    "\n",
    "# We get a matrix with only the variable schoolid, without intercept\n",
    "school.mat = model.matrix(~ schoolid + 0, data = data.all)\n",
    "head(school.mat)\n",
    "\n",
    "# sum the schoolid column of the array school.mat\n",
    "school.size = colSums(school.mat)\n"
   ]
  },
  {
   "cell_type": "code",
   "execution_count": 7,
   "id": "8b8d2068",
   "metadata": {},
   "outputs": [
    {
     "data": {
      "text/plain": [
       "\n",
       "Call:\n",
       "glm(formula = Z ~ ., family = binomial, data = data.all[, -3])\n",
       "\n",
       "Deviance Residuals: \n",
       "    Min       1Q   Median       3Q      Max  \n",
       "-1.2079  -0.9088  -0.8297   1.4176   1.9556  \n",
       "\n",
       "Coefficients: (6 not defined because of singularities)\n",
       "              Estimate Std. Error z value Pr(>|z|)    \n",
       "(Intercept) -0.9524636  0.2845173  -3.348 0.000815 ***\n",
       "schoolid2    0.0697302  0.2766287   0.252 0.800986    \n",
       "schoolid3    0.0382080  0.2911323   0.131 0.895586    \n",
       "schoolid4    0.1761334  0.2784711   0.633 0.527059    \n",
       "schoolid5   -0.0033389  0.2950180  -0.011 0.990970    \n",
       "schoolid6    0.0583548  0.3067481   0.190 0.849124    \n",
       "schoolid7   -0.1313759  0.3188190  -0.412 0.680288    \n",
       "schoolid8    0.1233661  0.3023736   0.408 0.683279    \n",
       "schoolid9   -0.1955428  0.3073344  -0.636 0.524611    \n",
       "schoolid10  -0.1892794  0.2968750  -0.638 0.523752    \n",
       "schoolid11  -0.2224060  0.5461005  -0.407 0.683816    \n",
       "schoolid12  -0.3312420  0.5414374  -0.612 0.540682    \n",
       "schoolid13  -0.0408540  0.3989507  -0.102 0.918436    \n",
       "schoolid14  -0.8681934  0.6033674  -1.439 0.150175    \n",
       "schoolid15  -0.1059135  0.3263162  -0.325 0.745504    \n",
       "schoolid16  -0.1063268  0.2885387  -0.369 0.712500    \n",
       "schoolid17   0.0854323  0.3119435   0.274 0.784184    \n",
       "schoolid18  -0.1924441  0.2997822  -0.642 0.520908    \n",
       "schoolid19  -0.0265326  0.3229712  -0.082 0.934526    \n",
       "schoolid20  -0.2179554  0.3041336  -0.717 0.473594    \n",
       "schoolid21  -0.2147440  0.2982822  -0.720 0.471565    \n",
       "schoolid22  -0.5115966  0.4410779  -1.160 0.246098    \n",
       "schoolid23   0.0039231  0.3475373   0.011 0.990994    \n",
       "schoolid24  -0.0848314  0.3259572  -0.260 0.794668    \n",
       "schoolid25   0.0521087  0.2754586   0.189 0.849959    \n",
       "schoolid26   0.0241212  0.2876511   0.084 0.933171    \n",
       "schoolid27  -0.2300630  0.3104796  -0.741 0.458698    \n",
       "schoolid28  -0.3519010  0.2924774  -1.203 0.228909    \n",
       "schoolid29  -0.2198764  0.3293288  -0.668 0.504357    \n",
       "schoolid30  -0.3146292  0.3257994  -0.966 0.334187    \n",
       "schoolid31   0.1398555  0.6137901   0.228 0.819759    \n",
       "schoolid32   0.1555524  0.3916156   0.397 0.691215    \n",
       "schoolid33  -0.0991693  0.3939370  -0.252 0.801243    \n",
       "schoolid34  -0.0073688  0.2980808  -0.025 0.980278    \n",
       "schoolid35  -0.3528987  0.3997273  -0.883 0.377318    \n",
       "schoolid36  -0.3751465  0.3988972  -0.940 0.346982    \n",
       "schoolid37  -0.0343169  0.3219646  -0.107 0.915117    \n",
       "schoolid38  -0.1346432  0.3851869  -0.350 0.726674    \n",
       "schoolid39  -0.4339936  0.3612869  -1.201 0.229657    \n",
       "schoolid40  -0.3993958  0.3834495  -1.042 0.297604    \n",
       "schoolid41  -0.1490784  0.3542105  -0.421 0.673846    \n",
       "schoolid42  -0.1545715  0.3551857  -0.435 0.663428    \n",
       "schoolid43  -0.5679567  0.4277455  -1.328 0.184247    \n",
       "schoolid44  -0.1425896  0.3774795  -0.378 0.705623    \n",
       "schoolid45  -0.1337888  0.3232493  -0.414 0.678957    \n",
       "schoolid46  -0.2573249  0.3129119  -0.822 0.410874    \n",
       "schoolid47   0.0027726  0.2770108   0.010 0.992014    \n",
       "schoolid48  -0.3406079  0.3470361  -0.981 0.326358    \n",
       "schoolid49  -0.3236117  0.3434541  -0.942 0.346077    \n",
       "schoolid50  -0.1185119  0.4086074  -0.290 0.771787    \n",
       "schoolid51   0.4087898  0.4506822   0.907 0.364382    \n",
       "schoolid52  -0.3144014  0.4118342  -0.763 0.445214    \n",
       "schoolid53  -0.2733677  0.4511280  -0.606 0.544538    \n",
       "schoolid54  -0.0889588  0.3872532  -0.230 0.818311    \n",
       "schoolid55  -0.1558106  0.4155020  -0.375 0.707665    \n",
       "schoolid56   0.1050353  0.3149235   0.334 0.738737    \n",
       "schoolid57  -0.0314901  0.2901719  -0.109 0.913581    \n",
       "schoolid58  -0.0383183  0.2730077  -0.140 0.888379    \n",
       "schoolid59  -0.0529637  0.2934895  -0.180 0.856790    \n",
       "schoolid60  -0.1624792  0.3972885  -0.409 0.682561    \n",
       "schoolid61  -0.0289549  0.3201953  -0.090 0.927946    \n",
       "schoolid62   0.0993158  0.2669678   0.372 0.709882    \n",
       "schoolid63   0.1684702  0.3282167   0.513 0.607749    \n",
       "schoolid64  -0.0693060  0.2770896  -0.250 0.802493    \n",
       "schoolid65  -0.0004197  0.4072922  -0.001 0.999178    \n",
       "schoolid66  -0.2130911  0.2984091  -0.714 0.475171    \n",
       "schoolid67   0.0358440  0.2921158   0.123 0.902341    \n",
       "schoolid68  -0.0871303  0.3290814  -0.265 0.791188    \n",
       "schoolid69  -0.2550387  0.2908992  -0.877 0.380636    \n",
       "schoolid70  -0.0268947  0.4032160  -0.067 0.946820    \n",
       "schoolid71   0.0037464  0.4268290   0.009 0.992997    \n",
       "schoolid72  -0.1304085  0.2881512  -0.453 0.650859    \n",
       "schoolid73  -0.2160697  0.2840030  -0.761 0.446776    \n",
       "schoolid74  -0.0935320  0.2842612  -0.329 0.742129    \n",
       "schoolid75  -0.1056241  0.3024204  -0.349 0.726892    \n",
       "schoolid76  -0.1052261  0.2939262  -0.358 0.720342    \n",
       "S3           0.1036077  0.0197345   5.250 1.52e-07 ***\n",
       "C1          -0.0015919  0.0053900  -0.295 0.767728    \n",
       "C2          -0.1038596  0.0424020  -2.449 0.014309 *  \n",
       "C3          -0.1319218  0.0461833  -2.856 0.004284 ** \n",
       "XC                  NA         NA      NA       NA    \n",
       "X1                  NA         NA      NA       NA    \n",
       "X2                  NA         NA      NA       NA    \n",
       "X3                  NA         NA      NA       NA    \n",
       "X4                  NA         NA      NA       NA    \n",
       "X5                  NA         NA      NA       NA    \n",
       "---\n",
       "Signif. codes:  0 '***' 0.001 '**' 0.01 '*' 0.05 '.' 0.1 ' ' 1\n",
       "\n",
       "(Dispersion parameter for binomial family taken to be 1)\n",
       "\n",
       "    Null deviance: 13115  on 10390  degrees of freedom\n",
       "Residual deviance: 13009  on 10311  degrees of freedom\n",
       "AIC: 13169\n",
       "\n",
       "Number of Fisher Scoring iterations: 4\n"
      ]
     },
     "metadata": {},
     "output_type": "display_data"
    }
   ],
   "source": [
    "# It appears that school ID does not affect pscore. So ignore it\n",
    "# in modeling, and just treat it as source of per-cluster error.\n",
    "w.lm = glm(Z ~ ., data = data.all[,-3], family = binomial)\n",
    "summary(w.lm)"
   ]
  },
  {
   "cell_type": "code",
   "execution_count": 8,
   "id": "1fca1525",
   "metadata": {},
   "outputs": [
    {
     "data": {
      "text/html": [
       "<table class=\"dataframe\">\n",
       "<caption>A matrix: 6 × 5 of type dbl</caption>\n",
       "<thead>\n",
       "\t<tr><th></th><th scope=col>factor(X.raw$XC)0</th><th scope=col>factor(X.raw$XC)1</th><th scope=col>factor(X.raw$XC)2</th><th scope=col>factor(X.raw$XC)3</th><th scope=col>factor(X.raw$XC)4</th></tr>\n",
       "</thead>\n",
       "<tbody>\n",
       "\t<tr><th scope=row>1</th><td>0</td><td>0</td><td>0</td><td>0</td><td>1</td></tr>\n",
       "\t<tr><th scope=row>2</th><td>0</td><td>0</td><td>0</td><td>0</td><td>1</td></tr>\n",
       "\t<tr><th scope=row>3</th><td>0</td><td>0</td><td>0</td><td>0</td><td>1</td></tr>\n",
       "\t<tr><th scope=row>4</th><td>0</td><td>0</td><td>0</td><td>0</td><td>1</td></tr>\n",
       "\t<tr><th scope=row>5</th><td>0</td><td>0</td><td>0</td><td>0</td><td>1</td></tr>\n",
       "\t<tr><th scope=row>6</th><td>0</td><td>0</td><td>0</td><td>0</td><td>1</td></tr>\n",
       "</tbody>\n",
       "</table>\n"
      ],
      "text/latex": [
       "A matrix: 6 × 5 of type dbl\n",
       "\\begin{tabular}{r|lllll}\n",
       "  & factor(X.raw\\$XC)0 & factor(X.raw\\$XC)1 & factor(X.raw\\$XC)2 & factor(X.raw\\$XC)3 & factor(X.raw\\$XC)4\\\\\n",
       "\\hline\n",
       "\t1 & 0 & 0 & 0 & 0 & 1\\\\\n",
       "\t2 & 0 & 0 & 0 & 0 & 1\\\\\n",
       "\t3 & 0 & 0 & 0 & 0 & 1\\\\\n",
       "\t4 & 0 & 0 & 0 & 0 & 1\\\\\n",
       "\t5 & 0 & 0 & 0 & 0 & 1\\\\\n",
       "\t6 & 0 & 0 & 0 & 0 & 1\\\\\n",
       "\\end{tabular}\n"
      ],
      "text/markdown": [
       "\n",
       "A matrix: 6 × 5 of type dbl\n",
       "\n",
       "| <!--/--> | factor(X.raw$XC)0 | factor(X.raw$XC)1 | factor(X.raw$XC)2 | factor(X.raw$XC)3 | factor(X.raw$XC)4 |\n",
       "|---|---|---|---|---|---|\n",
       "| 1 | 0 | 0 | 0 | 0 | 1 |\n",
       "| 2 | 0 | 0 | 0 | 0 | 1 |\n",
       "| 3 | 0 | 0 | 0 | 0 | 1 |\n",
       "| 4 | 0 | 0 | 0 | 0 | 1 |\n",
       "| 5 | 0 | 0 | 0 | 0 | 1 |\n",
       "| 6 | 0 | 0 | 0 | 0 | 1 |\n",
       "\n"
      ],
      "text/plain": [
       "  factor(X.raw$XC)0 factor(X.raw$XC)1 factor(X.raw$XC)2 factor(X.raw$XC)3\n",
       "1 0                 0                 0                 0                \n",
       "2 0                 0                 0                 0                \n",
       "3 0                 0                 0                 0                \n",
       "4 0                 0                 0                 0                \n",
       "5 0                 0                 0                 0                \n",
       "6 0                 0                 0                 0                \n",
       "  factor(X.raw$XC)4\n",
       "1 1                \n",
       "2 1                \n",
       "3 1                \n",
       "4 1                \n",
       "5 1                \n",
       "6 1                "
      ]
     },
     "metadata": {},
     "output_type": "display_data"
    },
    {
     "data": {
      "text/html": [
       "<table class=\"dataframe\">\n",
       "<caption>A matrix: 6 × 15 of type dbl</caption>\n",
       "<thead>\n",
       "\t<tr><th></th><th scope=col>factor(X.raw$C1)1</th><th scope=col>factor(X.raw$C1)2</th><th scope=col>factor(X.raw$C1)3</th><th scope=col>factor(X.raw$C1)4</th><th scope=col>factor(X.raw$C1)5</th><th scope=col>factor(X.raw$C1)6</th><th scope=col>factor(X.raw$C1)7</th><th scope=col>factor(X.raw$C1)8</th><th scope=col>factor(X.raw$C1)9</th><th scope=col>factor(X.raw$C1)10</th><th scope=col>factor(X.raw$C1)11</th><th scope=col>factor(X.raw$C1)12</th><th scope=col>factor(X.raw$C1)13</th><th scope=col>factor(X.raw$C1)14</th><th scope=col>factor(X.raw$C1)15</th></tr>\n",
       "</thead>\n",
       "<tbody>\n",
       "\t<tr><th scope=row>1</th><td>0</td><td>0</td><td>0</td><td>1</td><td>0</td><td>0</td><td>0</td><td>0</td><td>0</td><td>0</td><td>0</td><td>0</td><td>0</td><td>0</td><td>0</td></tr>\n",
       "\t<tr><th scope=row>2</th><td>0</td><td>0</td><td>0</td><td>0</td><td>0</td><td>0</td><td>0</td><td>0</td><td>0</td><td>0</td><td>0</td><td>1</td><td>0</td><td>0</td><td>0</td></tr>\n",
       "\t<tr><th scope=row>3</th><td>0</td><td>0</td><td>0</td><td>1</td><td>0</td><td>0</td><td>0</td><td>0</td><td>0</td><td>0</td><td>0</td><td>0</td><td>0</td><td>0</td><td>0</td></tr>\n",
       "\t<tr><th scope=row>4</th><td>0</td><td>0</td><td>0</td><td>1</td><td>0</td><td>0</td><td>0</td><td>0</td><td>0</td><td>0</td><td>0</td><td>0</td><td>0</td><td>0</td><td>0</td></tr>\n",
       "\t<tr><th scope=row>5</th><td>0</td><td>0</td><td>0</td><td>1</td><td>0</td><td>0</td><td>0</td><td>0</td><td>0</td><td>0</td><td>0</td><td>0</td><td>0</td><td>0</td><td>0</td></tr>\n",
       "\t<tr><th scope=row>6</th><td>0</td><td>0</td><td>0</td><td>1</td><td>0</td><td>0</td><td>0</td><td>0</td><td>0</td><td>0</td><td>0</td><td>0</td><td>0</td><td>0</td><td>0</td></tr>\n",
       "</tbody>\n",
       "</table>\n"
      ],
      "text/latex": [
       "A matrix: 6 × 15 of type dbl\n",
       "\\begin{tabular}{r|lllllllllllllll}\n",
       "  & factor(X.raw\\$C1)1 & factor(X.raw\\$C1)2 & factor(X.raw\\$C1)3 & factor(X.raw\\$C1)4 & factor(X.raw\\$C1)5 & factor(X.raw\\$C1)6 & factor(X.raw\\$C1)7 & factor(X.raw\\$C1)8 & factor(X.raw\\$C1)9 & factor(X.raw\\$C1)10 & factor(X.raw\\$C1)11 & factor(X.raw\\$C1)12 & factor(X.raw\\$C1)13 & factor(X.raw\\$C1)14 & factor(X.raw\\$C1)15\\\\\n",
       "\\hline\n",
       "\t1 & 0 & 0 & 0 & 1 & 0 & 0 & 0 & 0 & 0 & 0 & 0 & 0 & 0 & 0 & 0\\\\\n",
       "\t2 & 0 & 0 & 0 & 0 & 0 & 0 & 0 & 0 & 0 & 0 & 0 & 1 & 0 & 0 & 0\\\\\n",
       "\t3 & 0 & 0 & 0 & 1 & 0 & 0 & 0 & 0 & 0 & 0 & 0 & 0 & 0 & 0 & 0\\\\\n",
       "\t4 & 0 & 0 & 0 & 1 & 0 & 0 & 0 & 0 & 0 & 0 & 0 & 0 & 0 & 0 & 0\\\\\n",
       "\t5 & 0 & 0 & 0 & 1 & 0 & 0 & 0 & 0 & 0 & 0 & 0 & 0 & 0 & 0 & 0\\\\\n",
       "\t6 & 0 & 0 & 0 & 1 & 0 & 0 & 0 & 0 & 0 & 0 & 0 & 0 & 0 & 0 & 0\\\\\n",
       "\\end{tabular}\n"
      ],
      "text/markdown": [
       "\n",
       "A matrix: 6 × 15 of type dbl\n",
       "\n",
       "| <!--/--> | factor(X.raw$C1)1 | factor(X.raw$C1)2 | factor(X.raw$C1)3 | factor(X.raw$C1)4 | factor(X.raw$C1)5 | factor(X.raw$C1)6 | factor(X.raw$C1)7 | factor(X.raw$C1)8 | factor(X.raw$C1)9 | factor(X.raw$C1)10 | factor(X.raw$C1)11 | factor(X.raw$C1)12 | factor(X.raw$C1)13 | factor(X.raw$C1)14 | factor(X.raw$C1)15 |\n",
       "|---|---|---|---|---|---|---|---|---|---|---|---|---|---|---|---|\n",
       "| 1 | 0 | 0 | 0 | 1 | 0 | 0 | 0 | 0 | 0 | 0 | 0 | 0 | 0 | 0 | 0 |\n",
       "| 2 | 0 | 0 | 0 | 0 | 0 | 0 | 0 | 0 | 0 | 0 | 0 | 1 | 0 | 0 | 0 |\n",
       "| 3 | 0 | 0 | 0 | 1 | 0 | 0 | 0 | 0 | 0 | 0 | 0 | 0 | 0 | 0 | 0 |\n",
       "| 4 | 0 | 0 | 0 | 1 | 0 | 0 | 0 | 0 | 0 | 0 | 0 | 0 | 0 | 0 | 0 |\n",
       "| 5 | 0 | 0 | 0 | 1 | 0 | 0 | 0 | 0 | 0 | 0 | 0 | 0 | 0 | 0 | 0 |\n",
       "| 6 | 0 | 0 | 0 | 1 | 0 | 0 | 0 | 0 | 0 | 0 | 0 | 0 | 0 | 0 | 0 |\n",
       "\n"
      ],
      "text/plain": [
       "  factor(X.raw$C1)1 factor(X.raw$C1)2 factor(X.raw$C1)3 factor(X.raw$C1)4\n",
       "1 0                 0                 0                 1                \n",
       "2 0                 0                 0                 0                \n",
       "3 0                 0                 0                 1                \n",
       "4 0                 0                 0                 1                \n",
       "5 0                 0                 0                 1                \n",
       "6 0                 0                 0                 1                \n",
       "  factor(X.raw$C1)5 factor(X.raw$C1)6 factor(X.raw$C1)7 factor(X.raw$C1)8\n",
       "1 0                 0                 0                 0                \n",
       "2 0                 0                 0                 0                \n",
       "3 0                 0                 0                 0                \n",
       "4 0                 0                 0                 0                \n",
       "5 0                 0                 0                 0                \n",
       "6 0                 0                 0                 0                \n",
       "  factor(X.raw$C1)9 factor(X.raw$C1)10 factor(X.raw$C1)11 factor(X.raw$C1)12\n",
       "1 0                 0                  0                  0                 \n",
       "2 0                 0                  0                  1                 \n",
       "3 0                 0                  0                  0                 \n",
       "4 0                 0                  0                  0                 \n",
       "5 0                 0                  0                  0                 \n",
       "6 0                 0                  0                  0                 \n",
       "  factor(X.raw$C1)13 factor(X.raw$C1)14 factor(X.raw$C1)15\n",
       "1 0                  0                  0                 \n",
       "2 0                  0                  0                 \n",
       "3 0                  0                  0                 \n",
       "4 0                  0                  0                 \n",
       "5 0                  0                  0                 \n",
       "6 0                  0                  0                 "
      ]
     },
     "metadata": {},
     "output_type": "display_data"
    }
   ],
   "source": [
    "W = DF$Z\n",
    "Y = DF$Y\n",
    "X.raw = DF[,-(1:2)]\n",
    "\n",
    "# There are 4 categories of the variable C1 (1 to 15) and 5 categories of the variable XC (0 to 4).\n",
    "# We are creating two arrays, one for the variable C1 that creates dummy variables for each category, \n",
    "# and another one for the variable XC that creates dummy variables for each category. \n",
    "# Mark 1 if the observation was classified in that category.\n",
    "\n",
    "C1.exp = model.matrix(~ factor(X.raw$C1) + 0)\n",
    "XC.exp = model.matrix(~ factor(X.raw$XC) + 0)\n",
    "\n",
    "head(XC.exp) # 15 columnas \n",
    "head(C1.exp) # 5 columnas\n"
   ]
  },
  {
   "cell_type": "code",
   "execution_count": 9,
   "id": "1bb85c19",
   "metadata": {},
   "outputs": [
    {
     "data": {
      "text/html": [
       "<table class=\"dataframe\">\n",
       "<caption>A data.frame: 6 × 28</caption>\n",
       "<thead>\n",
       "\t<tr><th></th><th scope=col>S3</th><th scope=col>C2</th><th scope=col>C3</th><th scope=col>X1</th><th scope=col>X2</th><th scope=col>X3</th><th scope=col>X4</th><th scope=col>X5</th><th scope=col>factor(X.raw$C1)1</th><th scope=col>factor(X.raw$C1)2</th><th scope=col>...</th><th scope=col>factor(X.raw$C1)11</th><th scope=col>factor(X.raw$C1)12</th><th scope=col>factor(X.raw$C1)13</th><th scope=col>factor(X.raw$C1)14</th><th scope=col>factor(X.raw$C1)15</th><th scope=col>factor(X.raw$XC)0</th><th scope=col>factor(X.raw$XC)1</th><th scope=col>factor(X.raw$XC)2</th><th scope=col>factor(X.raw$XC)3</th><th scope=col>factor(X.raw$XC)4</th></tr>\n",
       "\t<tr><th></th><th scope=col>&lt;int&gt;</th><th scope=col>&lt;int&gt;</th><th scope=col>&lt;int&gt;</th><th scope=col>&lt;dbl&gt;</th><th scope=col>&lt;dbl&gt;</th><th scope=col>&lt;dbl&gt;</th><th scope=col>&lt;dbl&gt;</th><th scope=col>&lt;dbl&gt;</th><th scope=col>&lt;dbl&gt;</th><th scope=col>&lt;dbl&gt;</th><th scope=col>...</th><th scope=col>&lt;dbl&gt;</th><th scope=col>&lt;dbl&gt;</th><th scope=col>&lt;dbl&gt;</th><th scope=col>&lt;dbl&gt;</th><th scope=col>&lt;dbl&gt;</th><th scope=col>&lt;dbl&gt;</th><th scope=col>&lt;dbl&gt;</th><th scope=col>&lt;dbl&gt;</th><th scope=col>&lt;dbl&gt;</th><th scope=col>&lt;dbl&gt;</th></tr>\n",
       "</thead>\n",
       "<tbody>\n",
       "\t<tr><th scope=row>1</th><td>6</td><td>2</td><td>1</td><td>0.3345435</td><td>0.6485856</td><td>-1.310927</td><td>0.2240765</td><td>-0.4267567</td><td>0</td><td>0</td><td>...</td><td>0</td><td>0</td><td>0</td><td>0</td><td>0</td><td>0</td><td>0</td><td>0</td><td>0</td><td>1</td></tr>\n",
       "\t<tr><th scope=row>2</th><td>4</td><td>2</td><td>1</td><td>0.3345435</td><td>0.6485856</td><td>-1.310927</td><td>0.2240765</td><td>-0.4267567</td><td>0</td><td>0</td><td>...</td><td>0</td><td>1</td><td>0</td><td>0</td><td>0</td><td>0</td><td>0</td><td>0</td><td>0</td><td>1</td></tr>\n",
       "\t<tr><th scope=row>3</th><td>6</td><td>2</td><td>0</td><td>0.3345435</td><td>0.6485856</td><td>-1.310927</td><td>0.2240765</td><td>-0.4267567</td><td>0</td><td>0</td><td>...</td><td>0</td><td>0</td><td>0</td><td>0</td><td>0</td><td>0</td><td>0</td><td>0</td><td>0</td><td>1</td></tr>\n",
       "\t<tr><th scope=row>4</th><td>6</td><td>2</td><td>0</td><td>0.3345435</td><td>0.6485856</td><td>-1.310927</td><td>0.2240765</td><td>-0.4267567</td><td>0</td><td>0</td><td>...</td><td>0</td><td>0</td><td>0</td><td>0</td><td>0</td><td>0</td><td>0</td><td>0</td><td>0</td><td>1</td></tr>\n",
       "\t<tr><th scope=row>5</th><td>6</td><td>1</td><td>0</td><td>0.3345435</td><td>0.6485856</td><td>-1.310927</td><td>0.2240765</td><td>-0.4267567</td><td>0</td><td>0</td><td>...</td><td>0</td><td>0</td><td>0</td><td>0</td><td>0</td><td>0</td><td>0</td><td>0</td><td>0</td><td>1</td></tr>\n",
       "\t<tr><th scope=row>6</th><td>6</td><td>2</td><td>0</td><td>0.3345435</td><td>0.6485856</td><td>-1.310927</td><td>0.2240765</td><td>-0.4267567</td><td>0</td><td>0</td><td>...</td><td>0</td><td>0</td><td>0</td><td>0</td><td>0</td><td>0</td><td>0</td><td>0</td><td>0</td><td>1</td></tr>\n",
       "</tbody>\n",
       "</table>\n"
      ],
      "text/latex": [
       "A data.frame: 6 × 28\n",
       "\\begin{tabular}{r|lllllllllllllllllllll}\n",
       "  & S3 & C2 & C3 & X1 & X2 & X3 & X4 & X5 & factor(X.raw\\$C1)1 & factor(X.raw\\$C1)2 & ... & factor(X.raw\\$C1)11 & factor(X.raw\\$C1)12 & factor(X.raw\\$C1)13 & factor(X.raw\\$C1)14 & factor(X.raw\\$C1)15 & factor(X.raw\\$XC)0 & factor(X.raw\\$XC)1 & factor(X.raw\\$XC)2 & factor(X.raw\\$XC)3 & factor(X.raw\\$XC)4\\\\\n",
       "  & <int> & <int> & <int> & <dbl> & <dbl> & <dbl> & <dbl> & <dbl> & <dbl> & <dbl> & ... & <dbl> & <dbl> & <dbl> & <dbl> & <dbl> & <dbl> & <dbl> & <dbl> & <dbl> & <dbl>\\\\\n",
       "\\hline\n",
       "\t1 & 6 & 2 & 1 & 0.3345435 & 0.6485856 & -1.310927 & 0.2240765 & -0.4267567 & 0 & 0 & ... & 0 & 0 & 0 & 0 & 0 & 0 & 0 & 0 & 0 & 1\\\\\n",
       "\t2 & 4 & 2 & 1 & 0.3345435 & 0.6485856 & -1.310927 & 0.2240765 & -0.4267567 & 0 & 0 & ... & 0 & 1 & 0 & 0 & 0 & 0 & 0 & 0 & 0 & 1\\\\\n",
       "\t3 & 6 & 2 & 0 & 0.3345435 & 0.6485856 & -1.310927 & 0.2240765 & -0.4267567 & 0 & 0 & ... & 0 & 0 & 0 & 0 & 0 & 0 & 0 & 0 & 0 & 1\\\\\n",
       "\t4 & 6 & 2 & 0 & 0.3345435 & 0.6485856 & -1.310927 & 0.2240765 & -0.4267567 & 0 & 0 & ... & 0 & 0 & 0 & 0 & 0 & 0 & 0 & 0 & 0 & 1\\\\\n",
       "\t5 & 6 & 1 & 0 & 0.3345435 & 0.6485856 & -1.310927 & 0.2240765 & -0.4267567 & 0 & 0 & ... & 0 & 0 & 0 & 0 & 0 & 0 & 0 & 0 & 0 & 1\\\\\n",
       "\t6 & 6 & 2 & 0 & 0.3345435 & 0.6485856 & -1.310927 & 0.2240765 & -0.4267567 & 0 & 0 & ... & 0 & 0 & 0 & 0 & 0 & 0 & 0 & 0 & 0 & 1\\\\\n",
       "\\end{tabular}\n"
      ],
      "text/markdown": [
       "\n",
       "A data.frame: 6 × 28\n",
       "\n",
       "| <!--/--> | S3 &lt;int&gt; | C2 &lt;int&gt; | C3 &lt;int&gt; | X1 &lt;dbl&gt; | X2 &lt;dbl&gt; | X3 &lt;dbl&gt; | X4 &lt;dbl&gt; | X5 &lt;dbl&gt; | factor(X.raw$C1)1 &lt;dbl&gt; | factor(X.raw$C1)2 &lt;dbl&gt; | ... ... | factor(X.raw$C1)11 &lt;dbl&gt; | factor(X.raw$C1)12 &lt;dbl&gt; | factor(X.raw$C1)13 &lt;dbl&gt; | factor(X.raw$C1)14 &lt;dbl&gt; | factor(X.raw$C1)15 &lt;dbl&gt; | factor(X.raw$XC)0 &lt;dbl&gt; | factor(X.raw$XC)1 &lt;dbl&gt; | factor(X.raw$XC)2 &lt;dbl&gt; | factor(X.raw$XC)3 &lt;dbl&gt; | factor(X.raw$XC)4 &lt;dbl&gt; |\n",
       "|---|---|---|---|---|---|---|---|---|---|---|---|---|---|---|---|---|---|---|---|---|---|\n",
       "| 1 | 6 | 2 | 1 | 0.3345435 | 0.6485856 | -1.310927 | 0.2240765 | -0.4267567 | 0 | 0 | ... | 0 | 0 | 0 | 0 | 0 | 0 | 0 | 0 | 0 | 1 |\n",
       "| 2 | 4 | 2 | 1 | 0.3345435 | 0.6485856 | -1.310927 | 0.2240765 | -0.4267567 | 0 | 0 | ... | 0 | 1 | 0 | 0 | 0 | 0 | 0 | 0 | 0 | 1 |\n",
       "| 3 | 6 | 2 | 0 | 0.3345435 | 0.6485856 | -1.310927 | 0.2240765 | -0.4267567 | 0 | 0 | ... | 0 | 0 | 0 | 0 | 0 | 0 | 0 | 0 | 0 | 1 |\n",
       "| 4 | 6 | 2 | 0 | 0.3345435 | 0.6485856 | -1.310927 | 0.2240765 | -0.4267567 | 0 | 0 | ... | 0 | 0 | 0 | 0 | 0 | 0 | 0 | 0 | 0 | 1 |\n",
       "| 5 | 6 | 1 | 0 | 0.3345435 | 0.6485856 | -1.310927 | 0.2240765 | -0.4267567 | 0 | 0 | ... | 0 | 0 | 0 | 0 | 0 | 0 | 0 | 0 | 0 | 1 |\n",
       "| 6 | 6 | 2 | 0 | 0.3345435 | 0.6485856 | -1.310927 | 0.2240765 | -0.4267567 | 0 | 0 | ... | 0 | 0 | 0 | 0 | 0 | 0 | 0 | 0 | 0 | 1 |\n",
       "\n"
      ],
      "text/plain": [
       "  S3 C2 C3 X1        X2        X3        X4        X5         factor(X.raw$C1)1\n",
       "1 6  2  1  0.3345435 0.6485856 -1.310927 0.2240765 -0.4267567 0                \n",
       "2 4  2  1  0.3345435 0.6485856 -1.310927 0.2240765 -0.4267567 0                \n",
       "3 6  2  0  0.3345435 0.6485856 -1.310927 0.2240765 -0.4267567 0                \n",
       "4 6  2  0  0.3345435 0.6485856 -1.310927 0.2240765 -0.4267567 0                \n",
       "5 6  1  0  0.3345435 0.6485856 -1.310927 0.2240765 -0.4267567 0                \n",
       "6 6  2  0  0.3345435 0.6485856 -1.310927 0.2240765 -0.4267567 0                \n",
       "  factor(X.raw$C1)2 ... factor(X.raw$C1)11 factor(X.raw$C1)12\n",
       "1 0                 ... 0                  0                 \n",
       "2 0                 ... 0                  1                 \n",
       "3 0                 ... 0                  0                 \n",
       "4 0                 ... 0                  0                 \n",
       "5 0                 ... 0                  0                 \n",
       "6 0                 ... 0                  0                 \n",
       "  factor(X.raw$C1)13 factor(X.raw$C1)14 factor(X.raw$C1)15 factor(X.raw$XC)0\n",
       "1 0                  0                  0                  0                \n",
       "2 0                  0                  0                  0                \n",
       "3 0                  0                  0                  0                \n",
       "4 0                  0                  0                  0                \n",
       "5 0                  0                  0                  0                \n",
       "6 0                  0                  0                  0                \n",
       "  factor(X.raw$XC)1 factor(X.raw$XC)2 factor(X.raw$XC)3 factor(X.raw$XC)4\n",
       "1 0                 0                 0                 1                \n",
       "2 0                 0                 0                 1                \n",
       "3 0                 0                 0                 1                \n",
       "4 0                 0                 0                 1                \n",
       "5 0                 0                 0                 1                \n",
       "6 0                 0                 0                 1                "
      ]
     },
     "metadata": {},
     "output_type": "display_data"
    }
   ],
   "source": [
    "# Finally we finish constructing the matrix X with the control variables \n",
    "# and replacing instead of only one column for C1 and XC, several dummies according to each category\n",
    "X = cbind(X.raw[,-which(names(X.raw) %in% c(\"C1\", \"XC\"))], C1.exp, XC.exp)\n",
    "head(X) "
   ]
  },
  {
   "cell_type": "markdown",
   "id": "d15f1970",
   "metadata": {},
   "source": [
    "Grow a forest. Add extra trees for the causal forest.\n",
    "### 1. How the tree was built?"
   ]
  },
  {
   "cell_type": "code",
   "execution_count": 10,
   "id": "787beb16",
   "metadata": {},
   "outputs": [],
   "source": [
    "# First, we do two regression forest: Y.forest and W. forest, knowing that there are school clauster\n",
    "# Then, we calculate  the predicted values of the two variables (Y.hat and W.hat)\n",
    "\n",
    "Y.forest = regression_forest(X, Y, clusters = school.id, equalize.cluster.weights = TRUE)\n",
    "Y.hat = predict(Y.forest)$predictions\n",
    "W.forest = regression_forest(X, W, clusters = school.id, equalize.cluster.weights = TRUE)\n",
    "W.hat = predict(W.forest)$predictions\n",
    "\n"
   ]
  },
  {
   "cell_type": "code",
   "execution_count": 11,
   "id": "e2eb6105",
   "metadata": {},
   "outputs": [],
   "source": [
    "# Second, we use the predictions obtained before for the causal forest\n",
    "\n",
    "cf.raw = causal_forest(X, Y, W,\n",
    "                       Y.hat = Y.hat, W.hat = W.hat,\n",
    "                       clusters = school.id,\n",
    "                       equalize.cluster.weights = TRUE)\n",
    "\n",
    "#we obtain the degree of importance of each control variable\n",
    "varimp = variable_importance(cf.raw)\n",
    "\n",
    "#We chose the most important variables because they are the ones with a degree \n",
    "#of importance greater than the average.\n",
    "selected.idx = which(varimp > mean(varimp))"
   ]
  },
  {
   "cell_type": "markdown",
   "id": "c152ff6a",
   "metadata": {},
   "source": [
    "We run a second causal forest again but only with the most important explanatory (or control) variables for the model."
   ]
  },
  {
   "cell_type": "code",
   "execution_count": 12,
   "id": "f331a614",
   "metadata": {},
   "outputs": [],
   "source": [
    "cf = causal_forest(X[,selected.idx], Y, W,\n",
    "                   Y.hat = Y.hat, W.hat = W.hat,\n",
    "                   clusters = school.id,\n",
    "                   equalize.cluster.weights = TRUE,\n",
    "                   tune.parameters = \"all\")\n",
    "tau.hat = predict(cf)$predictions # we get the estimated coefficients\n"
   ]
  },
  {
   "cell_type": "markdown",
   "id": "c96e70e5",
   "metadata": {},
   "source": [
    "### 2. Estimate ATE"
   ]
  },
  {
   "cell_type": "code",
   "execution_count": 13,
   "id": "79b8a6d7",
   "metadata": {},
   "outputs": [
    {
     "data": {
      "text/html": [
       "'95% CI for the ATE: 0.248 +/- 0.039'"
      ],
      "text/latex": [
       "'95\\% CI for the ATE: 0.248 +/- 0.039'"
      ],
      "text/markdown": [
       "'95% CI for the ATE: 0.248 +/- 0.039'"
      ],
      "text/plain": [
       "[1] \"95% CI for the ATE: 0.248 +/- 0.039\""
      ]
     },
     "metadata": {},
     "output_type": "display_data"
    }
   ],
   "source": [
    "# The package grf has a built-in function for average treatment effect estimation, based on a variant\n",
    "# of augmented inverse propensity weighting.\n",
    "\n",
    "ATE = average_treatment_effect(cf)\n",
    "\n",
    "# Print results\n",
    "paste(\"95% CI for the ATE:\", round(ATE[1], 3),\n",
    "      \"+/-\", round(qnorm(0.975) * ATE[2], 3))"
   ]
  },
  {
   "cell_type": "markdown",
   "id": "4bb532a3",
   "metadata": {},
   "source": [
    "The average treatment effect is 0.248. So, the result suggests that the treatment was significantly positive on average."
   ]
  },
  {
   "cell_type": "code",
   "execution_count": 14,
   "id": "d299a2a3",
   "metadata": {},
   "outputs": [
    {
     "data": {
      "text/html": [
       "<strong>null device:</strong> 1"
      ],
      "text/latex": [
       "\\textbf{null device:} 1"
      ],
      "text/markdown": [
       "**null device:** 1"
      ],
      "text/plain": [
       "null device \n",
       "          1 "
      ]
     },
     "metadata": {},
     "output_type": "display_data"
    },
    {
     "data": {
      "image/png": "[encoded data removed]",
      "text/plain": [
       "Plot with title \"\""
      ]
     },
     "metadata": {
      "image/png": {
       "height": 420,
       "width": 420
      }
     },
     "output_type": "display_data"
    }
   ],
   "source": [
    "pardef = par(mar = c(5, 4, 4, 2) + 0.5, cex.lab=1.5, cex.axis=1.5, cex.main=1.5, cex.sub=1.5)\n",
    "hist(tau.hat, xlab = \"estimated CATE\", main = \"\")\n",
    "dev.off()"
   ]
  },
  {
   "cell_type": "markdown",
   "id": "c96e77e5",
   "metadata": {},
   "source": [
    "As we can see in the figure before, the causal forest CATE estimates obviously exhibit variation"
   ]
  },
  {
   "cell_type": "markdown",
   "id": "187d9de5",
   "metadata": {},
   "source": [
    "### 3. Omnibus tests for heterogeneity - Run best linear predictor analysis"
   ]
  },
  {
   "cell_type": "code",
   "execution_count": 15,
   "id": "3977f86f",
   "metadata": {},
   "outputs": [
    {
     "data": {
      "text/plain": [
       "\n",
       "Best linear fit using forest predictions (on held-out data)\n",
       "as well as the mean forest prediction as regressors, along\n",
       "with one-sided heteroskedasticity-robust (HC3) SEs:\n",
       "\n",
       "                               Estimate Std. Error t value Pr(>t)    \n",
       "mean.forest.prediction         0.996727   0.082132  12.136 <2e-16 ***\n",
       "differential.forest.prediction 0.200832   0.616050   0.326 0.3722    \n",
       "---\n",
       "Signif. codes:  0 '***' 0.001 '**' 0.01 '*' 0.05 '.' 0.1 ' ' 1\n"
      ]
     },
     "metadata": {},
     "output_type": "display_data"
    }
   ],
   "source": [
    "test_calibration(cf)"
   ]
  },
  {
   "cell_type": "markdown",
   "id": "00b27fd7",
   "metadata": {},
   "source": [
    "A first, simple approach to testing for heterogeneity involves grouping observations according to whether their out-of-bag CATE estimates are above or below the median CATE estimate, and then estimating average treatment effects in these two subgroups separately using the doubly robust approach."
   ]
  },
  {
   "cell_type": "code",
   "execution_count": 16,
   "id": "80872736",
   "metadata": {},
   "outputs": [
    {
     "data": {
      "text/html": [
       "'95% CI for difference in ATE: 0.058 +/- 0.07'"
      ],
      "text/latex": [
       "'95\\% CI for difference in ATE: 0.058 +/- 0.07'"
      ],
      "text/markdown": [
       "'95% CI for difference in ATE: 0.058 +/- 0.07'"
      ],
      "text/plain": [
       "[1] \"95% CI for difference in ATE: 0.058 +/- 0.07\""
      ]
     },
     "metadata": {},
     "output_type": "display_data"
    }
   ],
   "source": [
    "# This is another approach to test heterogeneity. Compare regions with high and low estimated CATEs\n",
    "high_effect = tau.hat > median(tau.hat)\n",
    "ate.high = average_treatment_effect(cf, subset = high_effect)\n",
    "ate.low = average_treatment_effect(cf, subset = !high_effect)\n",
    "paste(\"95% CI for difference in ATE:\",\n",
    "      round(ate.high[1] - ate.low[1], 3), \"+/-\",\n",
    "      round(qnorm(0.975) * sqrt(ate.high[2]^2 + ate.low[2]^2), 3))\n"
   ]
  },
  {
   "cell_type": "markdown",
   "id": "fd71d651",
   "metadata": {},
   "source": [
    "The results of both the analysis of the best linear predictor and the comparison of regions with low and high estimated CATE show the presence of heterogeneity. However, they are not significant, because the confidence interval is observed to contain zero. Therefore, it appears that causal forests do not identify subgroups with heterogeneous effects that are clearly detectable."
   ]
  },
  {
   "cell_type": "markdown",
   "id": "63b8bb0e",
   "metadata": {},
   "source": [
    "### 4. Look at school-wise heterogeneity"
   ]
  },
  {
   "cell_type": "markdown",
   "id": "1a4e75dc",
   "metadata": {},
   "source": [
    "Although our omnibus tests did not found strong evidence of treatment heterogeneity, this does not mean there is no heterogeneity present. Researchers had pre-specified interest in heterogeneity along two specific variables, namely pre-existing mindset (X1) and school-level achievement (X2), and it is\n",
    "plausible that a test for heterogeneity that focuses on these two variables may have more power than the agnostic tests explored above."
   ]
  },
  {
   "cell_type": "markdown",
   "id": "faac79b0",
   "metadata": {},
   "source": [
    "#### Formal test for X1 and X2"
   ]
  },
  {
   "cell_type": "code",
   "execution_count": 17,
   "id": "db3b206b",
   "metadata": {},
   "outputs": [],
   "source": [
    "dr.score = tau.hat + W / cf$W.hat *\n",
    "  (Y - cf$Y.hat - (1 - cf$W.hat) * tau.hat) -\n",
    "  (1 - W) / (1 - cf$W.hat) * (Y - cf$Y.hat + cf$W.hat * tau.hat)\n",
    "school.score = t(school.mat) %*% dr.score / school.size"
   ]
  },
  {
   "cell_type": "code",
   "execution_count": 18,
   "id": "4853e178",
   "metadata": {},
   "outputs": [
    {
     "data": {
      "text/plain": [
       "\n",
       "\tWelch Two Sample t-test\n",
       "\n",
       "data:  school.score[high.X1] and school.score[!high.X1]\n",
       "t = -3.0365, df = 71.412, p-value = 0.00334\n",
       "alternative hypothesis: true difference in means is not equal to 0\n",
       "95 percent confidence interval:\n",
       " -0.19234741 -0.03987287\n",
       "sample estimates:\n",
       "mean of x mean of y \n",
       "0.1903880 0.3064981 \n"
      ]
     },
     "metadata": {},
     "output_type": "display_data"
    }
   ],
   "source": [
    "school.X1 = t(school.mat) %*% X$X1 / school.size\n",
    "high.X1 = school.X1 > median(school.X1)\n",
    "t.test(school.score[high.X1], school.score[!high.X1])"
   ]
  },
  {
   "cell_type": "code",
   "execution_count": 19,
   "id": "ca595e70",
   "metadata": {},
   "outputs": [
    {
     "data": {
      "text/plain": [
       "\n",
       "\tWelch Two Sample t-test\n",
       "\n",
       "data:  school.score[high.X2] and school.score[!high.X2]\n",
       "t = 0.96525, df = 72.286, p-value = 0.3376\n",
       "alternative hypothesis: true difference in means is not equal to 0\n",
       "95 percent confidence interval:\n",
       " -0.0414292  0.1192237\n",
       "sample estimates:\n",
       "mean of x mean of y \n",
       "0.2678917 0.2289944 \n"
      ]
     },
     "metadata": {},
     "output_type": "display_data"
    }
   ],
   "source": [
    "school.X2 = (t(school.mat) %*% X$X2) / school.size\n",
    "high.X2 = school.X2 > median(school.X2)\n",
    "t.test(school.score[high.X2], school.score[!high.X2])"
   ]
  },
  {
   "cell_type": "code",
   "execution_count": 20,
   "id": "1e48e70c",
   "metadata": {},
   "outputs": [
    {
     "data": {
      "text/plain": [
       "                 Df Sum Sq Mean Sq F value Pr(>F)\n",
       "school.X2.levels  2 0.0807 0.04034    1.32  0.273\n",
       "Residuals        73 2.2313 0.03057               "
      ]
     },
     "metadata": {},
     "output_type": "display_data"
    }
   ],
   "source": [
    "school.X2.levels = cut(school.X2,\n",
    "  breaks = c(-Inf, quantile(school.X2, c(1/3, 2/3)), Inf))\n",
    "summary(aov(school.score ~ school.X2.levels))"
   ]
  },
  {
   "cell_type": "markdown",
   "id": "3698b7b0",
   "metadata": {},
   "source": [
    "Analysis uncovers notable heterogeneity along X1: schools with larger values of X1 appear to experience larger effects than schools with smaller values of X1. Conversely, we do not see much heterogeneity along X2 because the confidence interval contains zero."
   ]
  },
  {
   "cell_type": "markdown",
   "id": "6618c9d2",
   "metadata": {},
   "source": [
    "### Formal test for S3"
   ]
  },
  {
   "cell_type": "code",
   "execution_count": 21,
   "id": "5b8177d2",
   "metadata": {},
   "outputs": [
    {
     "data": {
      "text/plain": [
       "\n",
       "\tOne Sample t-test\n",
       "\n",
       "data:  school.score.XS3.high - school.score.XS3.low\n",
       "t = 2.244, df = 75, p-value = 0.02778\n",
       "alternative hypothesis: true mean is not equal to 0\n",
       "95 percent confidence interval:\n",
       " 0.009554619 0.160661883\n",
       "sample estimates:\n",
       " mean of x \n",
       "0.08510825 \n"
      ]
     },
     "metadata": {},
     "output_type": "display_data"
    },
    {
     "data": {
      "image/png": "[encoded data removed]",
      "text/plain": [
       "plot without title"
      ]
     },
     "metadata": {
      "image/png": {
       "height": 420,
       "width": 420
      }
     },
     "output_type": "display_data"
    }
   ],
   "source": [
    "school.score.XS3.high = t(school.mat) %*% (dr.score * (X$S3 >= 6)) /\n",
    "  t(school.mat) %*% (X$S3 >= 6)\n",
    "school.score.XS3.low = t(school.mat) %*% (dr.score * (X$S3 < 6)) /\n",
    "  t(school.mat) %*% (X$S3 < 6)\n",
    "\n",
    "plot(school.score.XS3.low, school.score.XS3.high)\n",
    "t.test(school.score.XS3.high - school.score.XS3.low)\n",
    "\n"
   ]
  },
  {
   "cell_type": "code",
   "execution_count": 22,
   "id": "f14e64b7",
   "metadata": {},
   "outputs": [],
   "source": [
    "### Look at school-wise heterogeneity"
   ]
  },
  {
   "cell_type": "code",
   "execution_count": 23,
   "id": "1173ee68",
   "metadata": {},
   "outputs": [
    {
     "data": {
      "text/html": [
       "<strong>null device:</strong> 1"
      ],
      "text/latex": [
       "\\textbf{null device:} 1"
      ],
      "text/markdown": [
       "**null device:** 1"
      ],
      "text/plain": [
       "null device \n",
       "          1 "
      ]
     },
     "metadata": {},
     "output_type": "display_data"
    },
    {
     "data": {
      "image/png": "[encoded data removed]",
      "text/plain": [
       "Plot with title \"\""
      ]
     },
     "metadata": {
      "image/png": {
       "height": 420,
       "width": 420
      }
     },
     "output_type": "display_data"
    }
   ],
   "source": [
    "#pdf(\"school_hist.pdf\")\n",
    "pardef = par(mar = c(5, 4, 4, 2) + 0.5, cex.lab=1.5, cex.axis=1.5, cex.main=1.5, cex.sub=1.5)\n",
    "hist(school.score, xlab = \"School Treatment Effect Estimate\", main = \"\")\n",
    "dev.off()\n",
    "\n"
   ]
  },
  {
   "cell_type": "markdown",
   "id": "6cf2b673",
   "metadata": {},
   "source": [
    "In the graph above, we can notice that the estimate of the treatment effect in schools is scattered. This leads to the assumption that there are heterogeneous effects by school."
   ]
  },
  {
   "cell_type": "markdown",
   "id": "dc753c38",
   "metadata": {},
   "source": [
    "### Re-check ATE"
   ]
  },
  {
   "cell_type": "code",
   "execution_count": 24,
   "id": "345970eb",
   "metadata": {},
   "outputs": [
    {
     "name": "stdout",
     "output_type": "stream",
     "text": [
      "[1] \"0.248 +/- 0.039\"\n"
     ]
    }
   ],
   "source": [
    "ate.hat = mean(school.score)\n",
    "se.hat = sqrt(var(school.score) / length(school.score - 1))\n",
    "print(paste(round(ate.hat, 3), \"+/-\", round(1.96 * se.hat, 3)))\n"
   ]
  },
  {
   "cell_type": "code",
   "execution_count": 25,
   "id": "752b221a",
   "metadata": {},
   "outputs": [],
   "source": [
    "### Look at variation in propensity scores"
   ]
  },
  {
   "cell_type": "code",
   "execution_count": 26,
   "id": "d2f5fa15",
   "metadata": {
    "scrolled": true
   },
   "outputs": [
    {
     "data": {
      "text/html": [
       "<strong>null device:</strong> 1"
      ],
      "text/latex": [
       "\\textbf{null device:} 1"
      ],
      "text/markdown": [
       "**null device:** 1"
      ],
      "text/plain": [
       "null device \n",
       "          1 "
      ]
     },
     "metadata": {},
     "output_type": "display_data"
    },
    {
     "data": {
      "image/png": "[encoded data removed]",
      "text/plain": [
       "plot without title"
      ]
     },
     "metadata": {
      "image/png": {
       "height": 420,
       "width": 420
      }
     },
     "output_type": "display_data"
    }
   ],
   "source": [
    "DF = X\n",
    "DF$W.hat = cf$W.hat\n",
    "\n",
    "#pdf(\"pscore.pdf\")\n",
    "pardef = par(mar = c(5, 4, 4, 2) + 0.5, cex.lab=1.5, cex.axis=1.5, cex.main=1.5, cex.sub=1.5)\n",
    "boxplot(W.hat ~ S3, data = DF, ylab = \"Propensity Score\", xlab = \"Student Expectation of Success\")\n",
    "lines(smooth.spline(X$S3, cf$W.hat), lwd = 2, col = 4)\n",
    "dev.off()\n",
    "\n"
   ]
  },
  {
   "cell_type": "markdown",
   "id": "c3605147",
   "metadata": {},
   "source": [
    "The box plot above shows that students with higher expectations of success (S3) are more likely to receive the treatment."
   ]
  },
  {
   "cell_type": "markdown",
   "id": "0eae8544",
   "metadata": {},
   "source": [
    "### 5.\tAnalysis ignoring clusters. How do the results change?"
   ]
  },
  {
   "cell_type": "code",
   "execution_count": 27,
   "id": "5ea8745c",
   "metadata": {},
   "outputs": [
    {
     "data": {
      "text/html": [
       "'95% CI for the ATE: 0.254 +/- 0.022'"
      ],
      "text/latex": [
       "'95\\% CI for the ATE: 0.254 +/- 0.022'"
      ],
      "text/markdown": [
       "'95% CI for the ATE: 0.254 +/- 0.022'"
      ],
      "text/plain": [
       "[1] \"95% CI for the ATE: 0.254 +/- 0.022\""
      ]
     },
     "metadata": {},
     "output_type": "display_data"
    }
   ],
   "source": [
    "# We do not specify whether there are clusters\n",
    "cf.noclust = causal_forest(X[,selected.idx], Y, W,\n",
    "                           Y.hat = Y.hat, W.hat = W.hat,\n",
    "                           tune.parameters = \"all\")\n",
    "\n",
    "#Estimate ATE\n",
    "ATE.noclust = average_treatment_effect(cf.noclust)\n",
    "paste(\"95% CI for the ATE:\", round(ATE.noclust[1], 3),\n",
    "      \"+/-\", round(qnorm(0.975) * ATE.noclust[2], 3))\n"
   ]
  },
  {
   "cell_type": "code",
   "execution_count": 28,
   "id": "1110bc32",
   "metadata": {},
   "outputs": [
    {
     "data": {
      "text/plain": [
       "\n",
       "Best linear fit using forest predictions (on held-out data)\n",
       "as well as the mean forest prediction as regressors, along\n",
       "with one-sided heteroskedasticity-robust (HC3) SEs:\n",
       "\n",
       "                               Estimate Std. Error t value    Pr(>t)    \n",
       "mean.forest.prediction         1.014372   0.045172  22.456 < 2.2e-16 ***\n",
       "differential.forest.prediction 0.534271   0.132375   4.036 2.738e-05 ***\n",
       "---\n",
       "Signif. codes:  0 '***' 0.001 '**' 0.01 '*' 0.05 '.' 0.1 ' ' 1\n"
      ]
     },
     "metadata": {},
     "output_type": "display_data"
    }
   ],
   "source": [
    "# We test for heterogeneity\n",
    "test_calibration(cf.noclust)"
   ]
  },
  {
   "cell_type": "markdown",
   "id": "0584e36a",
   "metadata": {},
   "source": [
    "The previous test shows that there is heterogeneity, since both the mean of the forest predictions and the differential of the forest predictions are significant at 1%."
   ]
  },
  {
   "cell_type": "code",
   "execution_count": 29,
   "id": "cd45f945",
   "metadata": {},
   "outputs": [
    {
     "data": {
      "image/png": "[encoded data removed]",
      "text/plain": [
       "plot without title"
      ]
     },
     "metadata": {
      "image/png": {
       "height": 420,
       "width": 420
      }
     },
     "output_type": "display_data"
    }
   ],
   "source": [
    "# Ploting predictions of the causal forest without clustering\n",
    "tau.hat.noclust = predict(cf.noclust)$predict\n",
    "plot(school.id, tau.hat.noclust)"
   ]
  },
  {
   "cell_type": "code",
   "execution_count": 30,
   "id": "ce726841",
   "metadata": {},
   "outputs": [
    {
     "name": "stdout",
     "output_type": "stream",
     "text": [
      "[1] 1\n",
      "[1] 2\n",
      "[1] 3\n",
      "[1] 4\n",
      "[1] 5\n"
     ]
    },
    {
     "data": {
      "text/plain": [
       "\n",
       "Best linear fit using forest predictions (on held-out data)\n",
       "as well as the mean forest prediction as regressors, along\n",
       "with one-sided heteroskedasticity-robust (HC3) SEs:\n",
       "\n",
       "                               Estimate Std. Error t value  Pr(>t)    \n",
       "mean.forest.prediction         1.009952   0.065094 15.5153 < 2e-16 ***\n",
       "differential.forest.prediction 0.458118   0.245527  1.8659 0.03105 *  \n",
       "---\n",
       "Signif. codes:  0 '***' 0.001 '**' 0.01 '*' 0.05 '.' 0.1 ' ' 1\n"
      ]
     },
     "metadata": {},
     "output_type": "display_data"
    },
    {
     "data": {
      "text/html": [
       "<style>\n",
       ".list-inline {list-style: none; margin:0; padding: 0}\n",
       ".list-inline>li {display: inline-block}\n",
       ".list-inline>li:not(:last-child)::after {content: \"\\00b7\"; padding: 0 .5ex}\n",
       "</style>\n",
       "<ol class=list-inline><li>-2.2081498461668e-05</li><li>0.000142588448426795</li></ol>\n"
      ],
      "text/latex": [
       "\\begin{enumerate*}\n",
       "\\item -2.2081498461668e-05\n",
       "\\item 0.000142588448426795\n",
       "\\end{enumerate*}\n"
      ],
      "text/markdown": [
       "1. -2.2081498461668e-05\n",
       "2. 0.000142588448426795\n",
       "\n",
       "\n"
      ],
      "text/plain": [
       "[1] -0.0000220815  0.0001425884"
      ]
     },
     "metadata": {},
     "output_type": "display_data"
    },
    {
     "data": {
      "text/plain": [
       "                     Df Sum Sq Mean Sq F value   Pr(>F)    \n",
       "factor(school.id)    75    201   2.678   1.982 1.02e-06 ***\n",
       "Residuals         10315  13935   1.351                     \n",
       "---\n",
       "Signif. codes:  0 '***' 0.001 '**' 0.01 '*' 0.05 '.' 0.1 ' ' 1"
      ]
     },
     "metadata": {},
     "output_type": "display_data"
    }
   ],
   "source": [
    "nfold = 5\n",
    "school.levels = unique(school.id)\n",
    "cluster.folds = sample.int(nfold, length(school.levels), replace = TRUE)\n",
    "\n",
    "tau.hat.crossfold = rep(NA, length(Y))\n",
    "for (foldid in 1:nfold) {\n",
    "  print(foldid)\n",
    "  infold = school.id %in% school.levels[cluster.folds == foldid]\n",
    "  cf.fold = causal_forest(X[!infold, selected.idx], Y[!infold], W[!infold],\n",
    "                          Y.hat = Y.hat[!infold], W.hat = W.hat[!infold],\n",
    "                          tune.parameters = \"all\")\n",
    "  pred.fold = predict(cf.fold, X[infold, selected.idx])$predictions\n",
    "  tau.hat.crossfold[infold] = pred.fold\n",
    "}\n",
    "\n",
    "cf.noclust.cpy = cf.noclust\n",
    "cf.noclust.cpy$predictions = tau.hat.crossfold\n",
    "cf.noclust.cpy$clusters = school.id\n",
    "test_calibration(cf.noclust.cpy)\n",
    "\n",
    "Rloss = mean(((Y - Y.hat) - tau.hat * (W - W.hat))^2)\n",
    "Rloss.noclust = mean(((Y - Y.hat) - tau.hat.noclust * (W - W.hat))^2)\n",
    "Rloss.crossfold = mean(((Y - Y.hat) - tau.hat.crossfold * (W - W.hat))^2)\n",
    "\n",
    "c(Rloss.noclust - Rloss, Rloss.crossfold - Rloss)\n",
    "\n",
    "summary(aov(dr.score ~ factor(school.id)))\n"
   ]
  },
  {
   "cell_type": "markdown",
   "id": "2eff7130",
   "metadata": {},
   "source": [
    "### 6. Analaysis without fitting the propensity score"
   ]
  },
  {
   "cell_type": "code",
   "execution_count": 31,
   "id": "89427e91",
   "metadata": {},
   "outputs": [
    {
     "data": {
      "text/html": [
       "'95% CI for the ATE: 0.254 +/- 0.039'"
      ],
      "text/latex": [
       "'95\\% CI for the ATE: 0.254 +/- 0.039'"
      ],
      "text/markdown": [
       "'95% CI for the ATE: 0.254 +/- 0.039'"
      ],
      "text/plain": [
       "[1] \"95% CI for the ATE: 0.254 +/- 0.039\""
      ]
     },
     "metadata": {},
     "output_type": "display_data"
    },
    {
     "data": {
      "text/html": [
       "<strong>null device:</strong> 1"
      ],
      "text/latex": [
       "\\textbf{null device:} 1"
      ],
      "text/markdown": [
       "**null device:** 1"
      ],
      "text/plain": [
       "null device \n",
       "          1 "
      ]
     },
     "metadata": {},
     "output_type": "display_data"
    },
    {
     "data": {
      "image/png": "[encoded data removed]",
      "text/plain": [
       "plot without title"
      ]
     },
     "metadata": {
      "image/png": {
       "height": 420,
       "width": 420
      }
     },
     "output_type": "display_data"
    }
   ],
   "source": [
    "\n",
    "cf.noprop = causal_forest(X[,selected.idx], Y, W,\n",
    "                          Y.hat = Y.hat, W.hat = mean(W),\n",
    "                          tune.parameters = \"all\",\n",
    "                          equalize.cluster.weights = TRUE,\n",
    "                          clusters = school.id)\n",
    "tau.hat.noprop = predict(cf.noprop)$predictions\n",
    "\n",
    "ATE.noprop = average_treatment_effect(cf.noprop)\n",
    "paste(\"95% CI for the ATE:\", round(ATE.noprop[1], 3),\n",
    "      \"+/-\", round(qnorm(0.975) * ATE.noprop[2], 3))\n",
    "\n",
    "#pdf(\"tauhat_noprop.pdf\")\n",
    "pardef = par(mar = c(5, 4, 4, 2) + 0.5, cex.lab=1.5, cex.axis=1.5, cex.main=1.5, cex.sub=1.5)\n",
    "plot(tau.hat, tau.hat.noprop,\n",
    "     xlim = range(tau.hat, tau.hat.noprop),\n",
    "     ylim = range(tau.hat, tau.hat.noprop),\n",
    "     xlab = \"orthogonalized causal forest estimates\",\n",
    "     ylab = \"non-orthogonalized causal forest\")\n",
    "abline(0, 1, lwd = 2, lty = 2, col = 4)\n",
    "par = pardef\n",
    "dev.off()\n",
    "\n",
    "\n"
   ]
  },
  {
   "cell_type": "markdown",
   "id": "d6d611b3",
   "metadata": {},
   "source": [
    "It is observed that forests trained with or without orthogonalization result in the same CATE estimates. So orthogonalization seems to be less important than clustering. This may be because for both W and Y forest , the variable of students' expectations of success(S3) is the most important predictor."
   ]
  },
  {
   "cell_type": "markdown",
   "id": "53cc070f",
   "metadata": {},
   "source": [
    "### Train forest on school-wise DR scores"
   ]
  },
  {
   "cell_type": "code",
   "execution_count": 32,
   "id": "4f2a3344",
   "metadata": {},
   "outputs": [
    {
     "data": {
      "text/plain": [
       "\n",
       "Best linear fit using forest predictions (on held-out data)\n",
       "as well as the mean forest prediction as regressors, along\n",
       "with one-sided heteroskedasticity-robust (HC3) SEs:\n",
       "\n",
       "                               Estimate Std. Error t value Pr(>t)    \n",
       "mean.forest.prediction         0.999512   0.081949  12.197 <2e-16 ***\n",
       "differential.forest.prediction 0.680739   0.655182   1.039 0.1511    \n",
       "---\n",
       "Signif. codes:  0 '***' 0.001 '**' 0.01 '*' 0.05 '.' 0.1 ' ' 1\n"
      ]
     },
     "metadata": {},
     "output_type": "display_data"
    }
   ],
   "source": [
    "school.X = (t(school.mat) %*% as.matrix(X[,c(4:8, 25:28)])) / school.size\n",
    "school.X = data.frame(school.X)\n",
    "colnames(school.X) = c(\"X1\", \"X2\", \"X3\", \"X4\", \"X5\",\n",
    "                    \"XC.1\", \"XC.2\", \"XC.3\", \"XC.4\")\n",
    "\n",
    "dr.score = tau.hat + W / cf$W.hat * (Y - cf$Y.hat - (1 - cf$W.hat) * tau.hat) -\n",
    "  (1 - W) / (1 - cf$W.hat) * (Y - cf$Y.hat + cf$W.hat * tau.hat)\n",
    "school.score = t(school.mat) %*% dr.score / school.size\n",
    "\n",
    "school.forest = regression_forest(school.X, school.score)\n",
    "school.pred = predict(school.forest)$predictions\n",
    "test_calibration(school.forest)"
   ]
  },
  {
   "cell_type": "markdown",
   "id": "e0fcad54",
   "metadata": {},
   "source": [
    "Although the p-value for heterogeneity along X1 is not small enough to withstand a Bonferroni test, it seems reasonable to take the detection along X1 seriously because heterogeneity along X1 was one of two prespecified hypotheses. Also, it's interesting that X1 was the most important variable in the causal forest."
   ]
  },
  {
   "cell_type": "code",
   "execution_count": 33,
   "id": "2e882438",
   "metadata": {},
   "outputs": [
    {
     "data": {
      "text/plain": [
       "\n",
       "t test of coefficients:\n",
       "\n",
       "              Estimate Std. Error t value Pr(>|t|)   \n",
       "(Intercept)  0.2412696  0.0771218  3.1284 0.002616 **\n",
       "X1          -0.0504144  0.0291605 -1.7289 0.088509 . \n",
       "X2           0.0127667  0.0336429  0.3795 0.705552   \n",
       "X3           0.0104740  0.0266411  0.3932 0.695474   \n",
       "X4           0.0235292  0.0255123  0.9223 0.359748   \n",
       "X5          -0.0357527  0.0269103 -1.3286 0.188559   \n",
       "XC.1         0.0013382  0.0937302  0.0143 0.988652   \n",
       "XC.2         0.0884114  0.1049088  0.8427 0.402415   \n",
       "XC.3        -0.1346624  0.0876731 -1.5360 0.129329   \n",
       "XC.4         0.0424256  0.0816214  0.5198 0.604952   \n",
       "---\n",
       "Signif. codes:  0 '***' 0.001 '**' 0.01 '*' 0.05 '.' 0.1 ' ' 1\n"
      ]
     },
     "metadata": {},
     "output_type": "display_data"
    }
   ],
   "source": [
    "# Alternative OLS analysis\n",
    "school.DF = data.frame(school.X, school.score=school.score)\n",
    "coeftest(lm(school.score ~ ., data = school.DF), vcov = vcovHC)"
   ]
  },
  {
   "cell_type": "markdown",
   "id": "149c009c",
   "metadata": {},
   "source": [
    "### 7. Describing 6 plots of the paper"
   ]
  },
  {
   "cell_type": "code",
   "execution_count": 34,
   "id": "36c9115a",
   "metadata": {
    "scrolled": true
   },
   "outputs": [
    {
     "data": {
      "text/html": [
       "<strong>null device:</strong> 1"
      ],
      "text/latex": [
       "\\textbf{null device:} 1"
      ],
      "text/markdown": [
       "**null device:** 1"
      ],
      "text/plain": [
       "null device \n",
       "          1 "
      ]
     },
     "metadata": {},
     "output_type": "display_data"
    },
    {
     "data": {
      "image/png": "[encoded data removed]",
      "text/plain": [
       "Plot with title \"\""
      ]
     },
     "metadata": {
      "image/png": {
       "height": 420,
       "width": 420
      }
     },
     "output_type": "display_data"
    }
   ],
   "source": [
    "#pdf(\"tauhat_hist_noprop.pdf\")\n",
    "pardef = par(mar = c(5, 4, 4, 2) + 0.5, cex.lab=1.5, cex.axis=1.5, cex.main=1.5, cex.sub=1.5)\n",
    "hist(tau.hat.noprop, xlab = \"estimated CATE\", main = \"\")\n",
    "dev.off()\n",
    "\n"
   ]
  },
  {
   "cell_type": "code",
   "execution_count": 35,
   "id": "6e9874d0",
   "metadata": {},
   "outputs": [
    {
     "data": {
      "text/html": [
       "<strong>null device:</strong> 1"
      ],
      "text/latex": [
       "\\textbf{null device:} 1"
      ],
      "text/markdown": [
       "**null device:** 1"
      ],
      "text/plain": [
       "null device \n",
       "          1 "
      ]
     },
     "metadata": {},
     "output_type": "display_data"
    },
    {
     "data": {
      "image/png": "[encoded data removed]",
      "text/plain": [
       "Plot with title \"\""
      ]
     },
     "metadata": {
      "image/png": {
       "height": 420,
       "width": 420
      }
     },
     "output_type": "display_data"
    }
   ],
   "source": [
    "#pdf(\"tauhat_hist.pdf\")\n",
    "pardef = par(mar = c(5, 4, 4, 2) + 0.5, cex.lab=1.5, cex.axis=1.5, cex.main=1.5, cex.sub=1.5)\n",
    "hist(tau.hat, xlab = \"estimated CATE\", main = \"\")\n",
    "dev.off()"
   ]
  },
  {
   "cell_type": "markdown",
   "id": "9380af8d",
   "metadata": {},
   "source": [
    "It is noted that the distribution has a mean around approximately 0.25 to 0.30, and is spread out around this. The fact that the distribution is scattered is not necessarily a sign of heterogeneity, but the initial tests of the work were carried out for this."
   ]
  },
  {
   "cell_type": "code",
   "execution_count": 36,
   "id": "99c7d2bb",
   "metadata": {},
   "outputs": [
    {
     "data": {
      "text/html": [
       "<strong>null device:</strong> 1"
      ],
      "text/latex": [
       "\\textbf{null device:} 1"
      ],
      "text/markdown": [
       "**null device:** 1"
      ],
      "text/plain": [
       "null device \n",
       "          1 "
      ]
     },
     "metadata": {},
     "output_type": "display_data"
    },
    {
     "data": {
      "image/png": "[encoded data removed]",
      "text/plain": [
       "Plot with title \"\""
      ]
     },
     "metadata": {
      "image/png": {
       "height": 420,
       "width": 420
      }
     },
     "output_type": "display_data"
    }
   ],
   "source": [
    "#pdf(\"tauhat_hist_noclust.pdf\")\n",
    "pardef = par(mar = c(5, 4, 4, 2) + 0.5, cex.lab=1.5, cex.axis=1.5, cex.main=1.5, cex.sub=1.5)\n",
    "hist(tau.hat.noclust, xlab = \"estimated CATE\", main = \"\")\n",
    "dev.off()"
   ]
  },
  {
   "cell_type": "markdown",
   "id": "5c1bc0d2",
   "metadata": {},
   "source": [
    "Is a histogram of CATE estimates trained using a causal forest that Does not account for school-level clustering"
   ]
  },
  {
   "cell_type": "code",
   "execution_count": 37,
   "id": "e727ddc4",
   "metadata": {
    "scrolled": true
   },
   "outputs": [
    {
     "data": {
      "text/html": [
       "<strong>null device:</strong> 1"
      ],
      "text/latex": [
       "\\textbf{null device:} 1"
      ],
      "text/markdown": [
       "**null device:** 1"
      ],
      "text/plain": [
       "null device \n",
       "          1 "
      ]
     },
     "metadata": {},
     "output_type": "display_data"
    },
    {
     "data": {
      "image/png": "[encoded data removed]",
      "text/plain": [
       "plot without title"
      ]
     },
     "metadata": {
      "image/png": {
       "height": 420,
       "width": 420
      }
     },
     "output_type": "display_data"
    }
   ],
   "source": [
    "#pdf(\"tauhat_vs_X1.pdf\")\n",
    "pardef = par(mar = c(5, 4, 4, 2) + 0.5, cex.lab=1.5, cex.axis=1.5, cex.main=1.5, cex.sub=1.5)\n",
    "boxplot(tau.hat ~ round(X$X1), xlab = \"X1\", ylab = \"estimated CATE\")\n",
    "lines(smooth.spline(4 + X[,\"X1\"], tau.hat, df = 4), lwd = 2, col = 4)\n",
    "dev.off()\n",
    "\n",
    "\n"
   ]
  },
  {
   "cell_type": "markdown",
   "id": "3c425015",
   "metadata": {},
   "source": [
    "In this graph we observe that, as we had found before, the heterogeneity of X1 by school was significant. In other words, there is a different mean value for a different level of mentality per school."
   ]
  },
  {
   "cell_type": "code",
   "execution_count": 38,
   "id": "766f8c5c",
   "metadata": {},
   "outputs": [
    {
     "data": {
      "text/html": [
       "<strong>null device:</strong> 1"
      ],
      "text/latex": [
       "\\textbf{null device:} 1"
      ],
      "text/markdown": [
       "**null device:** 1"
      ],
      "text/plain": [
       "null device \n",
       "          1 "
      ]
     },
     "metadata": {},
     "output_type": "display_data"
    },
    {
     "data": {
      "image/png": "[encoded data removed]",
      "text/plain": [
       "plot without title"
      ]
     },
     "metadata": {
      "image/png": {
       "height": 420,
       "width": 420
      }
     },
     "output_type": "display_data"
    }
   ],
   "source": [
    "#pdf(\"tauhat_vs_X2.pdf\")\n",
    "pardef = par(mar = c(5, 4, 4, 2) + 0.5, cex.lab=1.5, cex.axis=1.5, cex.main=1.5, cex.sub=1.5)\n",
    "boxplot(tau.hat ~ round(X$X2), xlab = \"X2\", ylab = \"estimated CATE\")\n",
    "lines(smooth.spline(4 + X[,\"X2\"], tau.hat, df = 4), lwd = 2, col = 4)\n",
    "dev.off()\n",
    "\n",
    "school.avg.tauhat = t(school.mat) %*% tau.hat / school.size\n",
    "\n"
   ]
  },
  {
   "cell_type": "markdown",
   "id": "4df2d19a",
   "metadata": {},
   "source": [
    "Also, in this graph we see that the mean value of the CATE varies according to the values of the level of school achievement (X2). However, we had previously found that there was no significant heterogeneity."
   ]
  },
  {
   "cell_type": "code",
   "execution_count": 39,
   "id": "67a080e3",
   "metadata": {},
   "outputs": [
    {
     "data": {
      "text/html": [
       "<strong>null device:</strong> 1"
      ],
      "text/latex": [
       "\\textbf{null device:} 1"
      ],
      "text/markdown": [
       "**null device:** 1"
      ],
      "text/plain": [
       "null device \n",
       "          1 "
      ]
     },
     "metadata": {},
     "output_type": "display_data"
    },
    {
     "data": {
      "image/png": "[encoded data removed]",
      "text/plain": [
       "plot without title"
      ]
     },
     "metadata": {
      "image/png": {
       "height": 420,
       "width": 420
      }
     },
     "output_type": "display_data"
    }
   ],
   "source": [
    "#pdf(\"school_avg.pdf\")\n",
    "pardef = par(mar = c(5, 4, 4, 2) + 0.5, cex.lab=1.5, cex.axis=1.5, cex.main=1.5, cex.sub=1.5)\n",
    "plot(school.avg.tauhat, school.pred, cex = 1.5,\n",
    "     xlim = range(school.avg.tauhat, school.pred),\n",
    "     ylim = range(school.avg.tauhat, school.pred),\n",
    "     xlab = \"average CATE estimate in school\",\n",
    "     ylab = \"school-wise forest predictions\")\n",
    "abline(0, 1, lwd = 2, lty = 2, col = 4)\n",
    "par = pardef\n",
    "dev.off()"
   ]
  },
  {
   "cell_type": "markdown",
   "id": "91aadd3f",
   "metadata": {},
   "source": [
    "This plot compares estimates from a regression forest trained to predict a doubly robust treatment using estimates of the school effect using school-level covariates, with estimates of school means from causal forests."
   ]
  },
  {
   "cell_type": "code",
   "execution_count": 40,
   "id": "52daf778",
   "metadata": {},
   "outputs": [],
   "source": [
    "### Experiment with no orthogonalization"
   ]
  },
  {
   "cell_type": "code",
   "execution_count": 41,
   "id": "462e6a50",
   "metadata": {},
   "outputs": [
    {
     "data": {
      "text/html": [
       "'95% CI for the ATE: -0.055 +/- 0.144'"
      ],
      "text/latex": [
       "'95\\% CI for the ATE: -0.055 +/- 0.144'"
      ],
      "text/markdown": [
       "'95% CI for the ATE: -0.055 +/- 0.144'"
      ],
      "text/plain": [
       "[1] \"95% CI for the ATE: -0.055 +/- 0.144\""
      ]
     },
     "metadata": {},
     "output_type": "display_data"
    },
    {
     "data": {
      "text/html": [
       "'95% CI for the ATE: 0.055 +/- 0.143'"
      ],
      "text/latex": [
       "'95\\% CI for the ATE: 0.055 +/- 0.143'"
      ],
      "text/markdown": [
       "'95% CI for the ATE: 0.055 +/- 0.143'"
      ],
      "text/plain": [
       "[1] \"95% CI for the ATE: 0.055 +/- 0.143\""
      ]
     },
     "metadata": {},
     "output_type": "display_data"
    }
   ],
   "source": [
    "n.synth = 1000\n",
    "p.synth = 10\n",
    "X.synth = matrix(rnorm(n.synth * p.synth), n.synth, p.synth)\n",
    "W.synth = rbinom(n.synth, 1, 1 / (1 + exp(-X.synth[,1])))\n",
    "Y.synth = 2 * rowMeans(X.synth[,1:6]) + rnorm(n.synth)\n",
    "\n",
    "Y.forest.synth = regression_forest(X.synth, Y.synth)\n",
    "Y.hat.synth = predict(Y.forest.synth)$predictions\n",
    "W.forest.synth = regression_forest(X.synth, W.synth)\n",
    "W.hat.synth = predict(W.forest.synth)$predictions\n",
    "\n",
    "cf.synth = causal_forest(X.synth, Y.synth, W.synth,\n",
    "                         Y.hat = Y.hat.synth, W.hat = W.hat.synth)\n",
    "ATE.synth = average_treatment_effect(cf.synth)\n",
    "paste(\"95% CI for the ATE:\", round(ATE.synth[1], 3),\n",
    "      \"+/-\", round(qnorm(0.975) * ATE.synth[2], 3))\n",
    "\n",
    "cf.synth.noprop = causal_forest(X.synth, Y.synth, W.synth,\n",
    "                                Y.hat = Y.hat.synth, W.hat = mean(W.synth))\n",
    "ATE.synth.noprop = average_treatment_effect(cf.synth.noprop)\n",
    "paste(\"95% CI for the ATE:\", round(ATE.synth.noprop[1], 3),\n",
    "      \"+/-\", round(qnorm(0.975) * ATE.synth.noprop[2], 3))\n",
    "\n"
   ]
  },
  {
   "cell_type": "code",
   "execution_count": 42,
   "id": "2e23104b",
   "metadata": {},
   "outputs": [],
   "source": [
    "### Visualize school-level covariates by treatment heterogeneity"
   ]
  },
  {
   "cell_type": "code",
   "execution_count": 43,
   "id": "c810bd0a",
   "metadata": {},
   "outputs": [
    {
     "data": {
      "text/html": [
       "0.210526315789474"
      ],
      "text/latex": [
       "0.210526315789474"
      ],
      "text/markdown": [
       "0.210526315789474"
      ],
      "text/plain": [
       "[1] 0.2105263"
      ]
     },
     "metadata": {},
     "output_type": "display_data"
    },
    {
     "data": {
      "text/html": [
       "0.538461538461538"
      ],
      "text/latex": [
       "0.538461538461538"
      ],
      "text/markdown": [
       "0.538461538461538"
      ],
      "text/plain": [
       "[1] 0.5384615"
      ]
     },
     "metadata": {},
     "output_type": "display_data"
    },
    {
     "data": {
      "image/png": "[encoded data removed]",
      "text/plain": [
       "plot without title"
      ]
     },
     "metadata": {
      "image/png": {
       "height": 420,
       "width": 420
      }
     },
     "output_type": "display_data"
    }
   ],
   "source": [
    "school.X.std = scale(school.X)\n",
    "school.tercile = cut(school.pred,\n",
    "                     breaks = c(-Inf, quantile(school.pred, c(1/3, 2/3)), Inf))\n",
    "school.tercile.mat = model.matrix(~ school.tercile + 0)\n",
    "school.means = diag(1 / colSums(school.tercile.mat)) %*% t(school.tercile.mat) %*% as.matrix(school.X.std)\n",
    "\n",
    "MM = max(abs(school.means))\n",
    "HC = heat.colors(21)\n",
    "school.col = apply(school.means, 1:2, function(aa) HC[1 + round(20 * (0.5 + aa))])\n",
    "\n",
    "DF.plot = data.frame(tercile=rep(factor(1:3, labels=c(\"low\", \"mid\", \"high\")), 9), mean=as.numeric(school.means),\n",
    "                     feature = factor(rbind(colnames(school.X), colnames(school.X), colnames(school.X))))\n",
    "\n",
    "ggplot(data = DF.plot, aes(x = feature, y = tercile, fill = mean)) +\n",
    "    geom_tile() + scale_fill_gradient(low = \"white\", high = \"steelblue\") +\n",
    "    theme(axis.text = element_text(size=12), axis.title = element_text(size=14),\n",
    "          legend.title = element_text(size=14), legend.text = element_text(size=12)) +\n",
    "    theme(panel.background = element_blank())\n",
    "#ggsave(\"tercile_plot.pdf\", width = 8, height = 4.5, dpi = 120)\n",
    "\n",
    "mean(school.X$XC.3)\n",
    "mean(school.X$XC.3[as.numeric(school.tercile) == 1])\n",
    "\n"
   ]
  },
  {
   "cell_type": "markdown",
   "id": "ce575a13",
   "metadata": {},
   "source": [
    "### CATE by school"
   ]
  },
  {
   "cell_type": "code",
   "execution_count": 44,
   "id": "92cd8305",
   "metadata": {},
   "outputs": [
    {
     "data": {
      "text/html": [
       "<strong>null device:</strong> 1"
      ],
      "text/latex": [
       "\\textbf{null device:} 1"
      ],
      "text/markdown": [
       "**null device:** 1"
      ],
      "text/plain": [
       "null device \n",
       "          1 "
      ]
     },
     "metadata": {},
     "output_type": "display_data"
    },
    {
     "data": {
      "image/png": "[encoded data removed]",
      "text/plain": [
       "plot without title"
      ]
     },
     "metadata": {
      "image/png": {
       "height": 420,
       "width": 420
      }
     },
     "output_type": "display_data"
    }
   ],
   "source": [
    "ord = order(order(school.pred))\n",
    "school.sort = ord[school.id]\n",
    "\n",
    "#pdf(\"school_boxplot.pdf\")\n",
    "pardef = par(mar = c(5, 4, 4, 2) + 0.5, cex.lab=1.5, cex.axis=1.5, cex.main=1.5, cex.sub=1.5)\n",
    "boxplot(tau.hat.noclust ~ school.sort, xaxt = \"n\",\n",
    "        xlab = \"school\", ylab = \"estimated CATE\")\n",
    "points(1:76, sort(school.pred), col = 4, pch = 16)\n",
    "legend(\"topleft\", c(\"school mean CATE\", \"CATE w/o clustering\"), pch = c(16, 1), col = c(4, 1), cex = 1.5)\n",
    "par = pardef\n",
    "dev.off()"
   ]
  },
  {
   "cell_type": "code",
   "execution_count": null,
   "id": "e14aa118",
   "metadata": {},
   "outputs": [],
   "source": []
  }
 ],
 "metadata": {
  "kernelspec": {
   "display_name": "R",
   "language": "R",
   "name": "ir"
  },
  "language_info": {
   "codemirror_mode": "r",
   "file_extension": ".r",
   "mimetype": "text/x-r-source",
   "name": "R",
   "pygments_lexer": "r",
   "version": "4.1.1"
  }
 },
 "nbformat": 4,
 "nbformat_minor": 5
}
