{
 "cells": [
  {
   "cell_type": "markdown",
   "id": "5afdc518",
   "metadata": {},
   "source": [
    "# Workgroup 4 \n",
    "\n",
    "- Andrea Ulloa\n",
    "- Angela Coapaza\n",
    "- Ana Angulo"
   ]
  },
  {
   "cell_type": "markdown",
   "id": "b6eac7c7",
   "metadata": {},
   "source": [
    "## 1. Causal Forest (R and Python script)"
   ]
  },
  {
   "cell_type": "markdown",
   "id": "4f8cfa27",
   "metadata": {},
   "source": [
    "In this lab, we are going to replicate the results obtained in the paper of Athey and Wager (2018) in phyton. First, we download all the packages that we are going to use."
   ]
  },
  {
   "cell_type": "code",
   "execution_count": 7,
   "id": "19349fe5",
   "metadata": {
    "scrolled": true
   },
   "outputs": [
    {
     "name": "stdout",
     "output_type": "stream",
     "text": [
      "Requirement already satisfied: syncrng in c:\\users\\diana\\anaconda3_1\\lib\\site-packages (1.3.3)\n",
      "Note: you may need to restart the kernel to use updated packages.\n"
     ]
    }
   ],
   "source": [
    "pip install syncrng\n"
   ]
  },
  {
   "cell_type": "code",
   "execution_count": 37,
   "id": "78a23eca",
   "metadata": {},
   "outputs": [
    {
     "name": "stdout",
     "output_type": "stream",
     "text": [
      "Requirement already satisfied: pandas in c:\\users\\diana\\anaconda3_1\\lib\\site-packages (1.4.2)\n",
      "Requirement already satisfied: numpy>=1.18.5 in c:\\users\\diana\\anaconda3_1\\lib\\site-packages (from pandas) (1.21.5)\n",
      "Requirement already satisfied: pytz>=2020.1 in c:\\users\\diana\\anaconda3_1\\lib\\site-packages (from pandas) (2021.3)\n",
      "Requirement already satisfied: python-dateutil>=2.8.1 in c:\\users\\diana\\anaconda3_1\\lib\\site-packages (from pandas) (2.8.2)\n",
      "Requirement already satisfied: six>=1.5 in c:\\users\\diana\\anaconda3_1\\lib\\site-packages (from python-dateutil>=2.8.1->pandas) (1.16.0)\n",
      "Note: you may need to restart the kernel to use updated packages.\n"
     ]
    }
   ],
   "source": [
    "pip install pandas"
   ]
  },
  {
   "cell_type": "code",
   "execution_count": 14,
   "id": "36d32a8a",
   "metadata": {},
   "outputs": [
    {
     "name": "stdout",
     "output_type": "stream",
     "text": [
      "Requirement already satisfied: plotnine in c:\\users\\diana\\anaconda3_1\\lib\\site-packages (0.8.0)\n",
      "Requirement already satisfied: matplotlib>=3.1.1 in c:\\users\\diana\\anaconda3_1\\lib\\site-packages (from plotnine) (3.5.1)\n",
      "Requirement already satisfied: statsmodels>=0.12.1 in c:\\users\\diana\\anaconda3_1\\lib\\site-packages (from plotnine) (0.13.2)\n",
      "Requirement already satisfied: scipy>=1.5.0 in c:\\users\\diana\\anaconda3_1\\lib\\site-packages (from plotnine) (1.7.3)\n",
      "Requirement already satisfied: numpy>=1.19.0 in c:\\users\\diana\\anaconda3_1\\lib\\site-packages (from plotnine) (1.21.5)\n",
      "Requirement already satisfied: pandas>=1.1.0 in c:\\users\\diana\\anaconda3_1\\lib\\site-packages (from plotnine) (1.4.2)\n",
      "Requirement already satisfied: mizani>=0.7.3 in c:\\users\\diana\\anaconda3_1\\lib\\site-packages (from plotnine) (0.7.4)\n",
      "Requirement already satisfied: descartes>=1.1.0 in c:\\users\\diana\\anaconda3_1\\lib\\site-packages (from plotnine) (1.1.0)\n",
      "Requirement already satisfied: patsy>=0.5.1 in c:\\users\\diana\\anaconda3_1\\lib\\site-packages (from plotnine) (0.5.2)\n",
      "Requirement already satisfied: packaging>=20.0 in c:\\users\\diana\\anaconda3_1\\lib\\site-packages (from matplotlib>=3.1.1->plotnine) (21.3)\n",
      "Requirement already satisfied: pillow>=6.2.0 in c:\\users\\diana\\anaconda3_1\\lib\\site-packages (from matplotlib>=3.1.1->plotnine) (9.0.1)\n",
      "Requirement already satisfied: cycler>=0.10 in c:\\users\\diana\\anaconda3_1\\lib\\site-packages (from matplotlib>=3.1.1->plotnine) (0.11.0)\n",
      "Requirement already satisfied: pyparsing>=2.2.1 in c:\\users\\diana\\anaconda3_1\\lib\\site-packages (from matplotlib>=3.1.1->plotnine) (3.0.4)\n",
      "Requirement already satisfied: python-dateutil>=2.7 in c:\\users\\diana\\anaconda3_1\\lib\\site-packages (from matplotlib>=3.1.1->plotnine) (2.8.2)\n",
      "Requirement already satisfied: kiwisolver>=1.0.1 in c:\\users\\diana\\anaconda3_1\\lib\\site-packages (from matplotlib>=3.1.1->plotnine) (1.3.2)\n",
      "Requirement already satisfied: fonttools>=4.22.0 in c:\\users\\diana\\anaconda3_1\\lib\\site-packages (from matplotlib>=3.1.1->plotnine) (4.25.0)\n",
      "Requirement already satisfied: palettable in c:\\users\\diana\\anaconda3_1\\lib\\site-packages (from mizani>=0.7.3->plotnine) (3.3.0)\n",
      "Requirement already satisfied: pytz>=2020.1 in c:\\users\\diana\\anaconda3_1\\lib\\site-packages (from pandas>=1.1.0->plotnine) (2021.3)\n",
      "Requirement already satisfied: six in c:\\users\\diana\\anaconda3_1\\lib\\site-packages (from patsy>=0.5.1->plotnine) (1.16.0)\n",
      "Note: you may need to restart the kernel to use updated packages.\n"
     ]
    }
   ],
   "source": [
    "pip install plotnine"
   ]
  },
  {
   "cell_type": "code",
   "execution_count": 2,
   "id": "c99988e2",
   "metadata": {},
   "outputs": [],
   "source": [
    "import random\n",
    "import pandas as pd\n",
    "import numpy as np\n",
    "from scipy.stats import norm\n",
    "\n",
    "import statsmodels.api as sm\n",
    "import statsmodels.formula.api as smf\n",
    "import patsy\n",
    "\n",
    "from SyncRNG import SyncRNG\n",
    "import numpy as np\n",
    "import re\n",
    "from statsmodels.sandbox.stats.multicomp import multipletests\n",
    "from scipy import linalg\n",
    "from itertools import chain\n",
    "\n",
    "from SyncRNG import SyncRNG\n",
    "\n",
    "from CTL.causal_tree_learn import CausalTree\n",
    "from sklearn.model_selection import train_test_split\n",
    "import plotnine as p\n",
    "import seaborn as sns\n",
    "import matplotlib.pyplot as plt\n",
    "import matplotlib.patches as mpatches"
   ]
  },
  {
   "cell_type": "code",
   "execution_count": 3,
   "id": "18a5ac75",
   "metadata": {},
   "outputs": [],
   "source": [
    "random.seed(1)"
   ]
  },
  {
   "cell_type": "code",
   "execution_count": 4,
   "id": "cac97a3b",
   "metadata": {},
   "outputs": [
    {
     "data": {
      "text/plain": [
       "13"
      ]
     },
     "execution_count": 4,
     "metadata": {},
     "output_type": "execute_result"
    }
   ],
   "source": [
    "## Next, we load the data\n",
    "dataall = pd.read_csv(\"../../../../data_lab/synthetic_data.csv\")\n",
    "dataall.shape[1]"
   ]
  },
  {
   "cell_type": "code",
   "execution_count": 5,
   "id": "02eff70f",
   "metadata": {},
   "outputs": [
    {
     "data": {
      "text/html": [
       "<div>\n",
       "<style scoped>\n",
       "    .dataframe tbody tr th:only-of-type {\n",
       "        vertical-align: middle;\n",
       "    }\n",
       "\n",
       "    .dataframe tbody tr th {\n",
       "        vertical-align: top;\n",
       "    }\n",
       "\n",
       "    .dataframe thead th {\n",
       "        text-align: right;\n",
       "    }\n",
       "</style>\n",
       "<table border=\"1\" class=\"dataframe\">\n",
       "  <thead>\n",
       "    <tr style=\"text-align: right;\">\n",
       "      <th></th>\n",
       "      <th>schoolid</th>\n",
       "      <th>Z</th>\n",
       "      <th>Y</th>\n",
       "      <th>S3</th>\n",
       "      <th>C1</th>\n",
       "      <th>C2</th>\n",
       "      <th>C3</th>\n",
       "      <th>XC</th>\n",
       "      <th>X1</th>\n",
       "      <th>X2</th>\n",
       "      <th>X3</th>\n",
       "      <th>X4</th>\n",
       "      <th>X5</th>\n",
       "    </tr>\n",
       "  </thead>\n",
       "  <tbody>\n",
       "    <tr>\n",
       "      <th>0</th>\n",
       "      <td>76</td>\n",
       "      <td>1</td>\n",
       "      <td>0.081602</td>\n",
       "      <td>6</td>\n",
       "      <td>4</td>\n",
       "      <td>2</td>\n",
       "      <td>1</td>\n",
       "      <td>4</td>\n",
       "      <td>0.334544</td>\n",
       "      <td>0.648586</td>\n",
       "      <td>-1.310927</td>\n",
       "      <td>0.224077</td>\n",
       "      <td>-0.426757</td>\n",
       "    </tr>\n",
       "    <tr>\n",
       "      <th>1</th>\n",
       "      <td>76</td>\n",
       "      <td>1</td>\n",
       "      <td>-0.385869</td>\n",
       "      <td>4</td>\n",
       "      <td>12</td>\n",
       "      <td>2</td>\n",
       "      <td>1</td>\n",
       "      <td>4</td>\n",
       "      <td>0.334544</td>\n",
       "      <td>0.648586</td>\n",
       "      <td>-1.310927</td>\n",
       "      <td>0.224077</td>\n",
       "      <td>-0.426757</td>\n",
       "    </tr>\n",
       "    <tr>\n",
       "      <th>2</th>\n",
       "      <td>76</td>\n",
       "      <td>1</td>\n",
       "      <td>0.398184</td>\n",
       "      <td>6</td>\n",
       "      <td>4</td>\n",
       "      <td>2</td>\n",
       "      <td>0</td>\n",
       "      <td>4</td>\n",
       "      <td>0.334544</td>\n",
       "      <td>0.648586</td>\n",
       "      <td>-1.310927</td>\n",
       "      <td>0.224077</td>\n",
       "      <td>-0.426757</td>\n",
       "    </tr>\n",
       "    <tr>\n",
       "      <th>3</th>\n",
       "      <td>76</td>\n",
       "      <td>1</td>\n",
       "      <td>-0.175037</td>\n",
       "      <td>6</td>\n",
       "      <td>4</td>\n",
       "      <td>2</td>\n",
       "      <td>0</td>\n",
       "      <td>4</td>\n",
       "      <td>0.334544</td>\n",
       "      <td>0.648586</td>\n",
       "      <td>-1.310927</td>\n",
       "      <td>0.224077</td>\n",
       "      <td>-0.426757</td>\n",
       "    </tr>\n",
       "    <tr>\n",
       "      <th>4</th>\n",
       "      <td>76</td>\n",
       "      <td>1</td>\n",
       "      <td>0.884583</td>\n",
       "      <td>6</td>\n",
       "      <td>4</td>\n",
       "      <td>1</td>\n",
       "      <td>0</td>\n",
       "      <td>4</td>\n",
       "      <td>0.334544</td>\n",
       "      <td>0.648586</td>\n",
       "      <td>-1.310927</td>\n",
       "      <td>0.224077</td>\n",
       "      <td>-0.426757</td>\n",
       "    </tr>\n",
       "  </tbody>\n",
       "</table>\n",
       "</div>"
      ],
      "text/plain": [
       "   schoolid  Z         Y  S3  C1  C2  C3  XC        X1        X2        X3  \\\n",
       "0        76  1  0.081602   6   4   2   1   4  0.334544  0.648586 -1.310927   \n",
       "1        76  1 -0.385869   4  12   2   1   4  0.334544  0.648586 -1.310927   \n",
       "2        76  1  0.398184   6   4   2   0   4  0.334544  0.648586 -1.310927   \n",
       "3        76  1 -0.175037   6   4   2   0   4  0.334544  0.648586 -1.310927   \n",
       "4        76  1  0.884583   6   4   1   0   4  0.334544  0.648586 -1.310927   \n",
       "\n",
       "         X4        X5  \n",
       "0  0.224077 -0.426757  \n",
       "1  0.224077 -0.426757  \n",
       "2  0.224077 -0.426757  \n",
       "3  0.224077 -0.426757  \n",
       "4  0.224077 -0.426757  "
      ]
     },
     "execution_count": 5,
     "metadata": {},
     "output_type": "execute_result"
    }
   ],
   "source": [
    "dataall.head(5)"
   ]
  },
  {
   "cell_type": "code",
   "execution_count": 6,
   "id": "cbe6e4ef",
   "metadata": {},
   "outputs": [],
   "source": [
    "dataall.schoolid = np.multiply(dataall.schoolid,1)"
   ]
  },
  {
   "cell_type": "code",
   "execution_count": 7,
   "id": "c8f81f2d",
   "metadata": {},
   "outputs": [],
   "source": [
    "school_id = pd.to_numeric(dataall.schoolid, errors='coerce').astype(int)"
   ]
  },
  {
   "cell_type": "code",
   "execution_count": 8,
   "id": "daf5c6da",
   "metadata": {},
   "outputs": [
    {
     "data": {
      "text/plain": [
       "0        76\n",
       "1        76\n",
       "2        76\n",
       "3        76\n",
       "4        76\n",
       "         ..\n",
       "10386     1\n",
       "10387     1\n",
       "10388     1\n",
       "10389     1\n",
       "10390     1\n",
       "Name: schoolid, Length: 10391, dtype: int32"
      ]
     },
     "execution_count": 8,
     "metadata": {},
     "output_type": "execute_result"
    }
   ],
   "source": [
    "school_id"
   ]
  },
  {
   "cell_type": "code",
   "execution_count": 9,
   "id": "63fd4eb0",
   "metadata": {},
   "outputs": [],
   "source": [
    "school_size = school_id.sum(axis = 0, skipna = True)"
   ]
  },
  {
   "cell_type": "code",
   "execution_count": 10,
   "id": "22cc3b0a",
   "metadata": {},
   "outputs": [
    {
     "data": {
      "text/plain": [
       "414485"
      ]
     },
     "execution_count": 10,
     "metadata": {},
     "output_type": "execute_result"
    }
   ],
   "source": [
    "school_size"
   ]
  },
  {
   "cell_type": "code",
   "execution_count": 11,
   "id": "e370d0b9",
   "metadata": {},
   "outputs": [],
   "source": [
    "# It appears that school ID does not affect pscore. So ignore it\n",
    "# in modeling, and just treat it as source of per-cluster error.\n"
   ]
  },
  {
   "cell_type": "code",
   "execution_count": 26,
   "id": "00c3137d",
   "metadata": {},
   "outputs": [],
   "source": [
    "W = dataall.Z.reset_index( drop = True )\n",
    "Y = dataall.Y.reset_index( drop = True )\n",
    "X_raw = dataall.iloc[:, 3:].reset_index( drop = True )"
   ]
  },
  {
   "cell_type": "code",
   "execution_count": 31,
   "id": "83e809a6",
   "metadata": {},
   "outputs": [],
   "source": [
    "W = pd.DataFrame(W)\n",
    "Y = pd.DataFrame(Y)"
   ]
  },
  {
   "cell_type": "code",
   "execution_count": 32,
   "id": "a9adc3ff",
   "metadata": {},
   "outputs": [
    {
     "data": {
      "text/html": [
       "<div>\n",
       "<style scoped>\n",
       "    .dataframe tbody tr th:only-of-type {\n",
       "        vertical-align: middle;\n",
       "    }\n",
       "\n",
       "    .dataframe tbody tr th {\n",
       "        vertical-align: top;\n",
       "    }\n",
       "\n",
       "    .dataframe thead th {\n",
       "        text-align: right;\n",
       "    }\n",
       "</style>\n",
       "<table border=\"1\" class=\"dataframe\">\n",
       "  <thead>\n",
       "    <tr style=\"text-align: right;\">\n",
       "      <th></th>\n",
       "      <th>Y</th>\n",
       "    </tr>\n",
       "  </thead>\n",
       "  <tbody>\n",
       "    <tr>\n",
       "      <th>0</th>\n",
       "      <td>0.081602</td>\n",
       "    </tr>\n",
       "    <tr>\n",
       "      <th>1</th>\n",
       "      <td>-0.385869</td>\n",
       "    </tr>\n",
       "    <tr>\n",
       "      <th>2</th>\n",
       "      <td>0.398184</td>\n",
       "    </tr>\n",
       "    <tr>\n",
       "      <th>3</th>\n",
       "      <td>-0.175037</td>\n",
       "    </tr>\n",
       "    <tr>\n",
       "      <th>4</th>\n",
       "      <td>0.884583</td>\n",
       "    </tr>\n",
       "    <tr>\n",
       "      <th>...</th>\n",
       "      <td>...</td>\n",
       "    </tr>\n",
       "    <tr>\n",
       "      <th>10386</th>\n",
       "      <td>0.423366</td>\n",
       "    </tr>\n",
       "    <tr>\n",
       "      <th>10387</th>\n",
       "      <td>-0.197092</td>\n",
       "    </tr>\n",
       "    <tr>\n",
       "      <th>10388</th>\n",
       "      <td>0.141698</td>\n",
       "    </tr>\n",
       "    <tr>\n",
       "      <th>10389</th>\n",
       "      <td>-0.351565</td>\n",
       "    </tr>\n",
       "    <tr>\n",
       "      <th>10390</th>\n",
       "      <td>0.211240</td>\n",
       "    </tr>\n",
       "  </tbody>\n",
       "</table>\n",
       "<p>10391 rows × 1 columns</p>\n",
       "</div>"
      ],
      "text/plain": [
       "              Y\n",
       "0      0.081602\n",
       "1     -0.385869\n",
       "2      0.398184\n",
       "3     -0.175037\n",
       "4      0.884583\n",
       "...         ...\n",
       "10386  0.423366\n",
       "10387 -0.197092\n",
       "10388  0.141698\n",
       "10389 -0.351565\n",
       "10390  0.211240\n",
       "\n",
       "[10391 rows x 1 columns]"
      ]
     },
     "execution_count": 32,
     "metadata": {},
     "output_type": "execute_result"
    }
   ],
   "source": [
    "Y"
   ]
  },
  {
   "cell_type": "code",
   "execution_count": 33,
   "id": "6f6dd414",
   "metadata": {
    "scrolled": true
   },
   "outputs": [
    {
     "data": {
      "text/html": [
       "<div>\n",
       "<style scoped>\n",
       "    .dataframe tbody tr th:only-of-type {\n",
       "        vertical-align: middle;\n",
       "    }\n",
       "\n",
       "    .dataframe tbody tr th {\n",
       "        vertical-align: top;\n",
       "    }\n",
       "\n",
       "    .dataframe thead th {\n",
       "        text-align: right;\n",
       "    }\n",
       "</style>\n",
       "<table border=\"1\" class=\"dataframe\">\n",
       "  <thead>\n",
       "    <tr style=\"text-align: right;\">\n",
       "      <th></th>\n",
       "      <th>S3</th>\n",
       "      <th>C1</th>\n",
       "      <th>C2</th>\n",
       "      <th>C3</th>\n",
       "      <th>XC</th>\n",
       "      <th>X1</th>\n",
       "      <th>X2</th>\n",
       "      <th>X3</th>\n",
       "      <th>X4</th>\n",
       "      <th>X5</th>\n",
       "    </tr>\n",
       "  </thead>\n",
       "  <tbody>\n",
       "    <tr>\n",
       "      <th>0</th>\n",
       "      <td>6</td>\n",
       "      <td>4</td>\n",
       "      <td>2</td>\n",
       "      <td>1</td>\n",
       "      <td>4</td>\n",
       "      <td>0.334544</td>\n",
       "      <td>0.648586</td>\n",
       "      <td>-1.310927</td>\n",
       "      <td>0.224077</td>\n",
       "      <td>-0.426757</td>\n",
       "    </tr>\n",
       "    <tr>\n",
       "      <th>1</th>\n",
       "      <td>4</td>\n",
       "      <td>12</td>\n",
       "      <td>2</td>\n",
       "      <td>1</td>\n",
       "      <td>4</td>\n",
       "      <td>0.334544</td>\n",
       "      <td>0.648586</td>\n",
       "      <td>-1.310927</td>\n",
       "      <td>0.224077</td>\n",
       "      <td>-0.426757</td>\n",
       "    </tr>\n",
       "    <tr>\n",
       "      <th>2</th>\n",
       "      <td>6</td>\n",
       "      <td>4</td>\n",
       "      <td>2</td>\n",
       "      <td>0</td>\n",
       "      <td>4</td>\n",
       "      <td>0.334544</td>\n",
       "      <td>0.648586</td>\n",
       "      <td>-1.310927</td>\n",
       "      <td>0.224077</td>\n",
       "      <td>-0.426757</td>\n",
       "    </tr>\n",
       "    <tr>\n",
       "      <th>3</th>\n",
       "      <td>6</td>\n",
       "      <td>4</td>\n",
       "      <td>2</td>\n",
       "      <td>0</td>\n",
       "      <td>4</td>\n",
       "      <td>0.334544</td>\n",
       "      <td>0.648586</td>\n",
       "      <td>-1.310927</td>\n",
       "      <td>0.224077</td>\n",
       "      <td>-0.426757</td>\n",
       "    </tr>\n",
       "    <tr>\n",
       "      <th>4</th>\n",
       "      <td>6</td>\n",
       "      <td>4</td>\n",
       "      <td>1</td>\n",
       "      <td>0</td>\n",
       "      <td>4</td>\n",
       "      <td>0.334544</td>\n",
       "      <td>0.648586</td>\n",
       "      <td>-1.310927</td>\n",
       "      <td>0.224077</td>\n",
       "      <td>-0.426757</td>\n",
       "    </tr>\n",
       "    <tr>\n",
       "      <th>...</th>\n",
       "      <td>...</td>\n",
       "      <td>...</td>\n",
       "      <td>...</td>\n",
       "      <td>...</td>\n",
       "      <td>...</td>\n",
       "      <td>...</td>\n",
       "      <td>...</td>\n",
       "      <td>...</td>\n",
       "      <td>...</td>\n",
       "      <td>...</td>\n",
       "    </tr>\n",
       "    <tr>\n",
       "      <th>10386</th>\n",
       "      <td>7</td>\n",
       "      <td>4</td>\n",
       "      <td>2</td>\n",
       "      <td>1</td>\n",
       "      <td>3</td>\n",
       "      <td>1.185986</td>\n",
       "      <td>-1.129889</td>\n",
       "      <td>1.009875</td>\n",
       "      <td>1.005063</td>\n",
       "      <td>-1.174702</td>\n",
       "    </tr>\n",
       "    <tr>\n",
       "      <th>10387</th>\n",
       "      <td>7</td>\n",
       "      <td>4</td>\n",
       "      <td>2</td>\n",
       "      <td>1</td>\n",
       "      <td>3</td>\n",
       "      <td>1.185986</td>\n",
       "      <td>-1.129889</td>\n",
       "      <td>1.009875</td>\n",
       "      <td>1.005063</td>\n",
       "      <td>-1.174702</td>\n",
       "    </tr>\n",
       "    <tr>\n",
       "      <th>10388</th>\n",
       "      <td>2</td>\n",
       "      <td>15</td>\n",
       "      <td>1</td>\n",
       "      <td>1</td>\n",
       "      <td>3</td>\n",
       "      <td>1.185986</td>\n",
       "      <td>-1.129889</td>\n",
       "      <td>1.009875</td>\n",
       "      <td>1.005063</td>\n",
       "      <td>-1.174702</td>\n",
       "    </tr>\n",
       "    <tr>\n",
       "      <th>10389</th>\n",
       "      <td>5</td>\n",
       "      <td>4</td>\n",
       "      <td>1</td>\n",
       "      <td>1</td>\n",
       "      <td>3</td>\n",
       "      <td>1.185986</td>\n",
       "      <td>-1.129889</td>\n",
       "      <td>1.009875</td>\n",
       "      <td>1.005063</td>\n",
       "      <td>-1.174702</td>\n",
       "    </tr>\n",
       "    <tr>\n",
       "      <th>10390</th>\n",
       "      <td>5</td>\n",
       "      <td>1</td>\n",
       "      <td>2</td>\n",
       "      <td>1</td>\n",
       "      <td>3</td>\n",
       "      <td>1.185986</td>\n",
       "      <td>-1.129889</td>\n",
       "      <td>1.009875</td>\n",
       "      <td>1.005063</td>\n",
       "      <td>-1.174702</td>\n",
       "    </tr>\n",
       "  </tbody>\n",
       "</table>\n",
       "<p>10391 rows × 10 columns</p>\n",
       "</div>"
      ],
      "text/plain": [
       "       S3  C1  C2  C3  XC        X1        X2        X3        X4        X5\n",
       "0       6   4   2   1   4  0.334544  0.648586 -1.310927  0.224077 -0.426757\n",
       "1       4  12   2   1   4  0.334544  0.648586 -1.310927  0.224077 -0.426757\n",
       "2       6   4   2   0   4  0.334544  0.648586 -1.310927  0.224077 -0.426757\n",
       "3       6   4   2   0   4  0.334544  0.648586 -1.310927  0.224077 -0.426757\n",
       "4       6   4   1   0   4  0.334544  0.648586 -1.310927  0.224077 -0.426757\n",
       "...    ..  ..  ..  ..  ..       ...       ...       ...       ...       ...\n",
       "10386   7   4   2   1   3  1.185986 -1.129889  1.009875  1.005063 -1.174702\n",
       "10387   7   4   2   1   3  1.185986 -1.129889  1.009875  1.005063 -1.174702\n",
       "10388   2  15   1   1   3  1.185986 -1.129889  1.009875  1.005063 -1.174702\n",
       "10389   5   4   1   1   3  1.185986 -1.129889  1.009875  1.005063 -1.174702\n",
       "10390   5   1   2   1   3  1.185986 -1.129889  1.009875  1.005063 -1.174702\n",
       "\n",
       "[10391 rows x 10 columns]"
      ]
     },
     "execution_count": 33,
     "metadata": {},
     "output_type": "execute_result"
    }
   ],
   "source": [
    "X_raw"
   ]
  },
  {
   "cell_type": "code",
   "execution_count": 34,
   "id": "0151a4e1",
   "metadata": {},
   "outputs": [],
   "source": [
    "import patsy"
   ]
  },
  {
   "cell_type": "code",
   "execution_count": 35,
   "id": "408d1cac",
   "metadata": {},
   "outputs": [],
   "source": [
    "C1_exp = patsy.dmatrix(X_raw.C1, dataall,return_type='dataframe')\n",
    "XC_exp = patsy.dmatrix(X_raw.XC, dataall,return_type='dataframe')"
   ]
  },
  {
   "cell_type": "code",
   "execution_count": 36,
   "id": "5ef7bd53",
   "metadata": {},
   "outputs": [],
   "source": [
    "X = pd.concat([C1_exp,XC_exp],axis = 1)"
   ]
  },
  {
   "cell_type": "code",
   "execution_count": 37,
   "id": "d54ff9f0",
   "metadata": {
    "scrolled": true
   },
   "outputs": [
    {
     "data": {
      "text/html": [
       "<div>\n",
       "<style scoped>\n",
       "    .dataframe tbody tr th:only-of-type {\n",
       "        vertical-align: middle;\n",
       "    }\n",
       "\n",
       "    .dataframe tbody tr th {\n",
       "        vertical-align: top;\n",
       "    }\n",
       "\n",
       "    .dataframe thead th {\n",
       "        text-align: right;\n",
       "    }\n",
       "</style>\n",
       "<table border=\"1\" class=\"dataframe\">\n",
       "  <thead>\n",
       "    <tr style=\"text-align: right;\">\n",
       "      <th></th>\n",
       "      <th>C1</th>\n",
       "      <th>XC</th>\n",
       "    </tr>\n",
       "  </thead>\n",
       "  <tbody>\n",
       "    <tr>\n",
       "      <th>0</th>\n",
       "      <td>4</td>\n",
       "      <td>4</td>\n",
       "    </tr>\n",
       "    <tr>\n",
       "      <th>1</th>\n",
       "      <td>12</td>\n",
       "      <td>4</td>\n",
       "    </tr>\n",
       "    <tr>\n",
       "      <th>2</th>\n",
       "      <td>4</td>\n",
       "      <td>4</td>\n",
       "    </tr>\n",
       "    <tr>\n",
       "      <th>3</th>\n",
       "      <td>4</td>\n",
       "      <td>4</td>\n",
       "    </tr>\n",
       "    <tr>\n",
       "      <th>4</th>\n",
       "      <td>4</td>\n",
       "      <td>4</td>\n",
       "    </tr>\n",
       "    <tr>\n",
       "      <th>...</th>\n",
       "      <td>...</td>\n",
       "      <td>...</td>\n",
       "    </tr>\n",
       "    <tr>\n",
       "      <th>10386</th>\n",
       "      <td>4</td>\n",
       "      <td>3</td>\n",
       "    </tr>\n",
       "    <tr>\n",
       "      <th>10387</th>\n",
       "      <td>4</td>\n",
       "      <td>3</td>\n",
       "    </tr>\n",
       "    <tr>\n",
       "      <th>10388</th>\n",
       "      <td>15</td>\n",
       "      <td>3</td>\n",
       "    </tr>\n",
       "    <tr>\n",
       "      <th>10389</th>\n",
       "      <td>4</td>\n",
       "      <td>3</td>\n",
       "    </tr>\n",
       "    <tr>\n",
       "      <th>10390</th>\n",
       "      <td>1</td>\n",
       "      <td>3</td>\n",
       "    </tr>\n",
       "  </tbody>\n",
       "</table>\n",
       "<p>10391 rows × 2 columns</p>\n",
       "</div>"
      ],
      "text/plain": [
       "       C1  XC\n",
       "0       4   4\n",
       "1      12   4\n",
       "2       4   4\n",
       "3       4   4\n",
       "4       4   4\n",
       "...    ..  ..\n",
       "10386   4   3\n",
       "10387   4   3\n",
       "10388  15   3\n",
       "10389   4   3\n",
       "10390   1   3\n",
       "\n",
       "[10391 rows x 2 columns]"
      ]
     },
     "execution_count": 37,
     "metadata": {},
     "output_type": "execute_result"
    }
   ],
   "source": [
    "X"
   ]
  },
  {
   "cell_type": "markdown",
   "id": "68e9b479",
   "metadata": {},
   "source": [
    "## How the tree was built?"
   ]
  },
  {
   "cell_type": "code",
   "execution_count": 38,
   "id": "5e85e33b",
   "metadata": {},
   "outputs": [],
   "source": [
    "#First, we are going to fit two separate regression forest (Y_forest and W_forest)"
   ]
  },
  {
   "cell_type": "code",
   "execution_count": 45,
   "id": "11e7395f",
   "metadata": {},
   "outputs": [],
   "source": [
    "# Grow a forest. Add extra trees for the causal forest.\n",
    "from sklearn.tree import DecisionTreeRegressor\n",
    "from sklearn.ensemble import RandomForestRegressor\n",
    "from sklearn.ensemble import GradientBoostingRegressor"
   ]
  },
  {
   "cell_type": "code",
   "execution_count": 72,
   "id": "4c1653c0",
   "metadata": {},
   "outputs": [],
   "source": [
    "\n",
    "Y_forest = RandomForestRegressor(n_estimators=500,oob_score=True )\n",
    "Y_forest.fit(X, Y.values.ravel())\n",
    "\n",
    "Y_hat = Y_forest.predict\n",
    "\n"
   ]
  },
  {
   "cell_type": "code",
   "execution_count": 73,
   "id": "6f45df18",
   "metadata": {},
   "outputs": [],
   "source": [
    "\n",
    "W_forest = RandomForestRegressor(n_estimators=500,oob_score=True)\n",
    "W_forest.fit(X, W.values.ravel())\n",
    "\n",
    "W_hat = W_forest.predict"
   ]
  },
  {
   "cell_type": "code",
   "execution_count": 87,
   "id": "d2b36efb",
   "metadata": {},
   "outputs": [],
   "source": [
    "import econml\n",
    "from econml.dml import CausalForestDML\n",
    "\n",
    "from sklearn.ensemble import RandomForestRegressor\n",
    "from econml.ortho_forest import ContinuousTreatmentOrthoForest as CausalForest\n"
   ]
  },
  {
   "cell_type": "code",
   "execution_count": 91,
   "id": "4ed4fbc9",
   "metadata": {},
   "outputs": [
    {
     "name": "stderr",
     "output_type": "stream",
     "text": [
      "The econml.ortho_forest.ContinuousTreatmentOrthoForest class has been renamed to econml.orf.DMLOrthoForest; an upcoming release will remove support for the old name\n"
     ]
    }
   ],
   "source": [
    "estimator = CausalForest(n_trees=100,\n",
    "                         model_T=DecisionTreeRegressor(),\n",
    "                         model_Y=DecisionTreeRegressor())\n"
   ]
  },
  {
   "cell_type": "code",
   "execution_count": null,
   "id": "794e34a5",
   "metadata": {},
   "outputs": [],
   "source": []
  }
 ],
 "metadata": {
  "kernelspec": {
   "display_name": "Python 3 (ipykernel)",
   "language": "python",
   "name": "python3"
  },
  "language_info": {
   "codemirror_mode": {
    "name": "ipython",
    "version": 3
   },
   "file_extension": ".py",
   "mimetype": "text/x-python",
   "name": "python",
   "nbconvert_exporter": "python",
   "pygments_lexer": "ipython3",
   "version": "3.9.12"
  }
 },
 "nbformat": 4,
 "nbformat_minor": 5
}
