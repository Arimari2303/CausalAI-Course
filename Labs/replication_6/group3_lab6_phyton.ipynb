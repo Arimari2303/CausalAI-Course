{
 "cells": [
  {
   "cell_type": "markdown",
   "id": "5afdc518",
   "metadata": {},
   "source": [
    "# Workgroup 4 \n",
    "\n",
    "- Andrea Ulloa\n",
    "- Angela Coapaza\n",
    "- Ana Angulo"
   ]
  },
  {
   "cell_type": "markdown",
   "id": "b6eac7c7",
   "metadata": {},
   "source": [
    "## 1. Causal Forest (R and Python script)"
   ]
  },
  {
   "cell_type": "markdown",
   "id": "4f8cfa27",
   "metadata": {},
   "source": [
    "In this lab, we are going to replicate the results obtained in the paper of Athey and Wager (2018) in phyton. First, we download all the packages that we are going to use."
   ]
  },
  {
   "cell_type": "code",
   "execution_count": 7,
   "id": "19349fe5",
   "metadata": {
    "scrolled": true
   },
   "outputs": [
    {
     "name": "stdout",
     "output_type": "stream",
     "text": [
      "Requirement already satisfied: syncrng in c:\\users\\diana\\anaconda3_1\\lib\\site-packages (1.3.3)\n",
      "Note: you may need to restart the kernel to use updated packages.\n"
     ]
    }
   ],
   "source": [
    "pip install syncrng\n"
   ]
  },
  {
   "cell_type": "code",
   "execution_count": 37,
   "id": "78a23eca",
   "metadata": {},
   "outputs": [
    {
     "name": "stdout",
     "output_type": "stream",
     "text": [
      "Requirement already satisfied: pandas in c:\\users\\diana\\anaconda3_1\\lib\\site-packages (1.4.2)\n",
      "Requirement already satisfied: numpy>=1.18.5 in c:\\users\\diana\\anaconda3_1\\lib\\site-packages (from pandas) (1.21.5)\n",
      "Requirement already satisfied: pytz>=2020.1 in c:\\users\\diana\\anaconda3_1\\lib\\site-packages (from pandas) (2021.3)\n",
      "Requirement already satisfied: python-dateutil>=2.8.1 in c:\\users\\diana\\anaconda3_1\\lib\\site-packages (from pandas) (2.8.2)\n",
      "Requirement already satisfied: six>=1.5 in c:\\users\\diana\\anaconda3_1\\lib\\site-packages (from python-dateutil>=2.8.1->pandas) (1.16.0)\n",
      "Note: you may need to restart the kernel to use updated packages.\n"
     ]
    }
   ],
   "source": [
    "pip install pandas"
   ]
  },
  {
   "cell_type": "code",
   "execution_count": 14,
   "id": "36d32a8a",
   "metadata": {},
   "outputs": [
    {
     "name": "stdout",
     "output_type": "stream",
     "text": [
      "Requirement already satisfied: plotnine in c:\\users\\diana\\anaconda3_1\\lib\\site-packages (0.8.0)\n",
      "Requirement already satisfied: matplotlib>=3.1.1 in c:\\users\\diana\\anaconda3_1\\lib\\site-packages (from plotnine) (3.5.1)\n",
      "Requirement already satisfied: statsmodels>=0.12.1 in c:\\users\\diana\\anaconda3_1\\lib\\site-packages (from plotnine) (0.13.2)\n",
      "Requirement already satisfied: scipy>=1.5.0 in c:\\users\\diana\\anaconda3_1\\lib\\site-packages (from plotnine) (1.7.3)\n",
      "Requirement already satisfied: numpy>=1.19.0 in c:\\users\\diana\\anaconda3_1\\lib\\site-packages (from plotnine) (1.21.5)\n",
      "Requirement already satisfied: pandas>=1.1.0 in c:\\users\\diana\\anaconda3_1\\lib\\site-packages (from plotnine) (1.4.2)\n",
      "Requirement already satisfied: mizani>=0.7.3 in c:\\users\\diana\\anaconda3_1\\lib\\site-packages (from plotnine) (0.7.4)\n",
      "Requirement already satisfied: descartes>=1.1.0 in c:\\users\\diana\\anaconda3_1\\lib\\site-packages (from plotnine) (1.1.0)\n",
      "Requirement already satisfied: patsy>=0.5.1 in c:\\users\\diana\\anaconda3_1\\lib\\site-packages (from plotnine) (0.5.2)\n",
      "Requirement already satisfied: packaging>=20.0 in c:\\users\\diana\\anaconda3_1\\lib\\site-packages (from matplotlib>=3.1.1->plotnine) (21.3)\n",
      "Requirement already satisfied: pillow>=6.2.0 in c:\\users\\diana\\anaconda3_1\\lib\\site-packages (from matplotlib>=3.1.1->plotnine) (9.0.1)\n",
      "Requirement already satisfied: cycler>=0.10 in c:\\users\\diana\\anaconda3_1\\lib\\site-packages (from matplotlib>=3.1.1->plotnine) (0.11.0)\n",
      "Requirement already satisfied: pyparsing>=2.2.1 in c:\\users\\diana\\anaconda3_1\\lib\\site-packages (from matplotlib>=3.1.1->plotnine) (3.0.4)\n",
      "Requirement already satisfied: python-dateutil>=2.7 in c:\\users\\diana\\anaconda3_1\\lib\\site-packages (from matplotlib>=3.1.1->plotnine) (2.8.2)\n",
      "Requirement already satisfied: kiwisolver>=1.0.1 in c:\\users\\diana\\anaconda3_1\\lib\\site-packages (from matplotlib>=3.1.1->plotnine) (1.3.2)\n",
      "Requirement already satisfied: fonttools>=4.22.0 in c:\\users\\diana\\anaconda3_1\\lib\\site-packages (from matplotlib>=3.1.1->plotnine) (4.25.0)\n",
      "Requirement already satisfied: palettable in c:\\users\\diana\\anaconda3_1\\lib\\site-packages (from mizani>=0.7.3->plotnine) (3.3.0)\n",
      "Requirement already satisfied: pytz>=2020.1 in c:\\users\\diana\\anaconda3_1\\lib\\site-packages (from pandas>=1.1.0->plotnine) (2021.3)\n",
      "Requirement already satisfied: six in c:\\users\\diana\\anaconda3_1\\lib\\site-packages (from patsy>=0.5.1->plotnine) (1.16.0)\n",
      "Note: you may need to restart the kernel to use updated packages.\n"
     ]
    }
   ],
   "source": [
    "pip install plotnine"
   ]
  },
  {
   "cell_type": "code",
   "execution_count": 1,
   "id": "c99988e2",
   "metadata": {},
   "outputs": [],
   "source": [
    "import random\n",
    "import pandas as pd\n",
    "import numpy as np\n",
    "from scipy.stats import norm\n",
    "\n",
    "import statsmodels.api as sm\n",
    "import statsmodels.formula.api as smf\n",
    "import patsy\n",
    "\n",
    "from SyncRNG import SyncRNG\n",
    "import numpy as np\n",
    "import re\n",
    "from statsmodels.sandbox.stats.multicomp import multipletests\n",
    "from scipy import linalg\n",
    "from itertools import chain\n",
    "\n",
    "from SyncRNG import SyncRNG\n",
    "\n",
    "from CTL.causal_tree_learn import CausalTree\n",
    "from sklearn.model_selection import train_test_split\n",
    "import plotnine as p\n",
    "import seaborn as sns\n",
    "import matplotlib.pyplot as plt\n",
    "import matplotlib.patches as mpatches"
   ]
  },
  {
   "cell_type": "code",
   "execution_count": 208,
   "id": "18a5ac75",
   "metadata": {},
   "outputs": [],
   "source": [
    "random.seed(1)"
   ]
  },
  {
   "cell_type": "code",
   "execution_count": 209,
   "id": "cac97a3b",
   "metadata": {},
   "outputs": [
    {
     "data": {
      "image/png": "[encoded data removed]",
      "text/latex": [
       "$\\displaystyle 13$"
      ],
      "text/plain": [
       "13"
      ]
     },
     "execution_count": 209,
     "metadata": {},
     "output_type": "execute_result"
    }
   ],
   "source": [
    "## Next, we load the data\n",
    "dataall = pd.read_csv(\"../../../../data_lab/synthetic_data.csv\")\n",
    "dataall.shape[1]"
   ]
  },
  {
   "cell_type": "code",
   "execution_count": 210,
   "id": "02eff70f",
   "metadata": {},
   "outputs": [
    {
     "data": {
      "text/html": [
       "<div>\n",
       "<style scoped>\n",
       "    .dataframe tbody tr th:only-of-type {\n",
       "        vertical-align: middle;\n",
       "    }\n",
       "\n",
       "    .dataframe tbody tr th {\n",
       "        vertical-align: top;\n",
       "    }\n",
       "\n",
       "    .dataframe thead th {\n",
       "        text-align: right;\n",
       "    }\n",
       "</style>\n",
       "<table border=\"1\" class=\"dataframe\">\n",
       "  <thead>\n",
       "    <tr style=\"text-align: right;\">\n",
       "      <th></th>\n",
       "      <th>schoolid</th>\n",
       "      <th>Z</th>\n",
       "      <th>Y</th>\n",
       "      <th>S3</th>\n",
       "      <th>C1</th>\n",
       "      <th>C2</th>\n",
       "      <th>C3</th>\n",
       "      <th>XC</th>\n",
       "      <th>X1</th>\n",
       "      <th>X2</th>\n",
       "      <th>X3</th>\n",
       "      <th>X4</th>\n",
       "      <th>X5</th>\n",
       "    </tr>\n",
       "  </thead>\n",
       "  <tbody>\n",
       "    <tr>\n",
       "      <th>0</th>\n",
       "      <td>76</td>\n",
       "      <td>1</td>\n",
       "      <td>0.081602</td>\n",
       "      <td>6</td>\n",
       "      <td>4</td>\n",
       "      <td>2</td>\n",
       "      <td>1</td>\n",
       "      <td>4</td>\n",
       "      <td>0.334544</td>\n",
       "      <td>0.648586</td>\n",
       "      <td>-1.310927</td>\n",
       "      <td>0.224077</td>\n",
       "      <td>-0.426757</td>\n",
       "    </tr>\n",
       "    <tr>\n",
       "      <th>1</th>\n",
       "      <td>76</td>\n",
       "      <td>1</td>\n",
       "      <td>-0.385869</td>\n",
       "      <td>4</td>\n",
       "      <td>12</td>\n",
       "      <td>2</td>\n",
       "      <td>1</td>\n",
       "      <td>4</td>\n",
       "      <td>0.334544</td>\n",
       "      <td>0.648586</td>\n",
       "      <td>-1.310927</td>\n",
       "      <td>0.224077</td>\n",
       "      <td>-0.426757</td>\n",
       "    </tr>\n",
       "    <tr>\n",
       "      <th>2</th>\n",
       "      <td>76</td>\n",
       "      <td>1</td>\n",
       "      <td>0.398184</td>\n",
       "      <td>6</td>\n",
       "      <td>4</td>\n",
       "      <td>2</td>\n",
       "      <td>0</td>\n",
       "      <td>4</td>\n",
       "      <td>0.334544</td>\n",
       "      <td>0.648586</td>\n",
       "      <td>-1.310927</td>\n",
       "      <td>0.224077</td>\n",
       "      <td>-0.426757</td>\n",
       "    </tr>\n",
       "    <tr>\n",
       "      <th>3</th>\n",
       "      <td>76</td>\n",
       "      <td>1</td>\n",
       "      <td>-0.175037</td>\n",
       "      <td>6</td>\n",
       "      <td>4</td>\n",
       "      <td>2</td>\n",
       "      <td>0</td>\n",
       "      <td>4</td>\n",
       "      <td>0.334544</td>\n",
       "      <td>0.648586</td>\n",
       "      <td>-1.310927</td>\n",
       "      <td>0.224077</td>\n",
       "      <td>-0.426757</td>\n",
       "    </tr>\n",
       "    <tr>\n",
       "      <th>4</th>\n",
       "      <td>76</td>\n",
       "      <td>1</td>\n",
       "      <td>0.884583</td>\n",
       "      <td>6</td>\n",
       "      <td>4</td>\n",
       "      <td>1</td>\n",
       "      <td>0</td>\n",
       "      <td>4</td>\n",
       "      <td>0.334544</td>\n",
       "      <td>0.648586</td>\n",
       "      <td>-1.310927</td>\n",
       "      <td>0.224077</td>\n",
       "      <td>-0.426757</td>\n",
       "    </tr>\n",
       "  </tbody>\n",
       "</table>\n",
       "</div>"
      ],
      "text/plain": [
       "   schoolid  Z         Y  S3  C1  C2  C3  XC        X1        X2        X3  \\\n",
       "0        76  1  0.081602   6   4   2   1   4  0.334544  0.648586 -1.310927   \n",
       "1        76  1 -0.385869   4  12   2   1   4  0.334544  0.648586 -1.310927   \n",
       "2        76  1  0.398184   6   4   2   0   4  0.334544  0.648586 -1.310927   \n",
       "3        76  1 -0.175037   6   4   2   0   4  0.334544  0.648586 -1.310927   \n",
       "4        76  1  0.884583   6   4   1   0   4  0.334544  0.648586 -1.310927   \n",
       "\n",
       "         X4        X5  \n",
       "0  0.224077 -0.426757  \n",
       "1  0.224077 -0.426757  \n",
       "2  0.224077 -0.426757  \n",
       "3  0.224077 -0.426757  \n",
       "4  0.224077 -0.426757  "
      ]
     },
     "execution_count": 210,
     "metadata": {},
     "output_type": "execute_result"
    }
   ],
   "source": [
    "dataall.head(5)"
   ]
  },
  {
   "cell_type": "code",
   "execution_count": 211,
   "id": "cbe6e4ef",
   "metadata": {},
   "outputs": [],
   "source": [
    "dataall.schoolid = np.multiply(dataall.schoolid,1)"
   ]
  },
  {
   "cell_type": "code",
   "execution_count": 212,
   "id": "c8f81f2d",
   "metadata": {},
   "outputs": [],
   "source": [
    "school_id = pd.to_numeric(dataall.schoolid, errors='coerce').astype(int)"
   ]
  },
  {
   "cell_type": "code",
   "execution_count": 213,
   "id": "daf5c6da",
   "metadata": {},
   "outputs": [
    {
     "data": {
      "text/plain": [
       "0        76\n",
       "1        76\n",
       "2        76\n",
       "3        76\n",
       "4        76\n",
       "         ..\n",
       "10386     1\n",
       "10387     1\n",
       "10388     1\n",
       "10389     1\n",
       "10390     1\n",
       "Name: schoolid, Length: 10391, dtype: int32"
      ]
     },
     "execution_count": 213,
     "metadata": {},
     "output_type": "execute_result"
    }
   ],
   "source": [
    "school_id"
   ]
  },
  {
   "cell_type": "code",
   "execution_count": 214,
   "id": "63fd4eb0",
   "metadata": {},
   "outputs": [],
   "source": [
    "school_size = school_id.sum(axis = 0, skipna = True)"
   ]
  },
  {
   "cell_type": "code",
   "execution_count": 215,
   "id": "22cc3b0a",
   "metadata": {},
   "outputs": [
    {
     "data": {
      "text/plain": [
       "414485"
      ]
     },
     "execution_count": 215,
     "metadata": {},
     "output_type": "execute_result"
    }
   ],
   "source": [
    "school_size"
   ]
  },
  {
   "cell_type": "code",
   "execution_count": 216,
   "id": "e370d0b9",
   "metadata": {},
   "outputs": [],
   "source": [
    "# It appears that school ID does not affect pscore. So ignore it\n",
    "# in modeling, and just treat it as source of per-cluster error.\n"
   ]
  },
  {
   "cell_type": "code",
   "execution_count": 217,
   "id": "00c3137d",
   "metadata": {},
   "outputs": [],
   "source": [
    "W = dataall.Z.reset_index( drop = True )\n",
    "Y = dataall.Y.reset_index( drop = True )\n",
    "X_raw = dataall.iloc[:, 3:].reset_index( drop = True )"
   ]
  },
  {
   "cell_type": "code",
   "execution_count": 218,
   "id": "21060d1c",
   "metadata": {},
   "outputs": [],
   "source": [
    "#W = pd.DataFrame(W)\n",
    "Y = pd.DataFrame(Y)"
   ]
  },
  {
   "cell_type": "code",
   "execution_count": 219,
   "id": "2737f69b",
   "metadata": {},
   "outputs": [
    {
     "data": {
      "text/html": [
       "<div>\n",
       "<style scoped>\n",
       "    .dataframe tbody tr th:only-of-type {\n",
       "        vertical-align: middle;\n",
       "    }\n",
       "\n",
       "    .dataframe tbody tr th {\n",
       "        vertical-align: top;\n",
       "    }\n",
       "\n",
       "    .dataframe thead th {\n",
       "        text-align: right;\n",
       "    }\n",
       "</style>\n",
       "<table border=\"1\" class=\"dataframe\">\n",
       "  <thead>\n",
       "    <tr style=\"text-align: right;\">\n",
       "      <th></th>\n",
       "      <th>Y</th>\n",
       "    </tr>\n",
       "  </thead>\n",
       "  <tbody>\n",
       "    <tr>\n",
       "      <th>0</th>\n",
       "      <td>0.081602</td>\n",
       "    </tr>\n",
       "    <tr>\n",
       "      <th>1</th>\n",
       "      <td>-0.385869</td>\n",
       "    </tr>\n",
       "    <tr>\n",
       "      <th>2</th>\n",
       "      <td>0.398184</td>\n",
       "    </tr>\n",
       "    <tr>\n",
       "      <th>3</th>\n",
       "      <td>-0.175037</td>\n",
       "    </tr>\n",
       "    <tr>\n",
       "      <th>4</th>\n",
       "      <td>0.884583</td>\n",
       "    </tr>\n",
       "    <tr>\n",
       "      <th>...</th>\n",
       "      <td>...</td>\n",
       "    </tr>\n",
       "    <tr>\n",
       "      <th>10386</th>\n",
       "      <td>0.423366</td>\n",
       "    </tr>\n",
       "    <tr>\n",
       "      <th>10387</th>\n",
       "      <td>-0.197092</td>\n",
       "    </tr>\n",
       "    <tr>\n",
       "      <th>10388</th>\n",
       "      <td>0.141698</td>\n",
       "    </tr>\n",
       "    <tr>\n",
       "      <th>10389</th>\n",
       "      <td>-0.351565</td>\n",
       "    </tr>\n",
       "    <tr>\n",
       "      <th>10390</th>\n",
       "      <td>0.211240</td>\n",
       "    </tr>\n",
       "  </tbody>\n",
       "</table>\n",
       "<p>10391 rows × 1 columns</p>\n",
       "</div>"
      ],
      "text/plain": [
       "              Y\n",
       "0      0.081602\n",
       "1     -0.385869\n",
       "2      0.398184\n",
       "3     -0.175037\n",
       "4      0.884583\n",
       "...         ...\n",
       "10386  0.423366\n",
       "10387 -0.197092\n",
       "10388  0.141698\n",
       "10389 -0.351565\n",
       "10390  0.211240\n",
       "\n",
       "[10391 rows x 1 columns]"
      ]
     },
     "execution_count": 219,
     "metadata": {},
     "output_type": "execute_result"
    }
   ],
   "source": [
    "Y"
   ]
  },
  {
   "cell_type": "code",
   "execution_count": 220,
   "id": "6f6dd414",
   "metadata": {
    "scrolled": true
   },
   "outputs": [
    {
     "data": {
      "text/html": [
       "<div>\n",
       "<style scoped>\n",
       "    .dataframe tbody tr th:only-of-type {\n",
       "        vertical-align: middle;\n",
       "    }\n",
       "\n",
       "    .dataframe tbody tr th {\n",
       "        vertical-align: top;\n",
       "    }\n",
       "\n",
       "    .dataframe thead th {\n",
       "        text-align: right;\n",
       "    }\n",
       "</style>\n",
       "<table border=\"1\" class=\"dataframe\">\n",
       "  <thead>\n",
       "    <tr style=\"text-align: right;\">\n",
       "      <th></th>\n",
       "      <th>S3</th>\n",
       "      <th>C1</th>\n",
       "      <th>C2</th>\n",
       "      <th>C3</th>\n",
       "      <th>XC</th>\n",
       "      <th>X1</th>\n",
       "      <th>X2</th>\n",
       "      <th>X3</th>\n",
       "      <th>X4</th>\n",
       "      <th>X5</th>\n",
       "    </tr>\n",
       "  </thead>\n",
       "  <tbody>\n",
       "    <tr>\n",
       "      <th>0</th>\n",
       "      <td>6</td>\n",
       "      <td>4</td>\n",
       "      <td>2</td>\n",
       "      <td>1</td>\n",
       "      <td>4</td>\n",
       "      <td>0.334544</td>\n",
       "      <td>0.648586</td>\n",
       "      <td>-1.310927</td>\n",
       "      <td>0.224077</td>\n",
       "      <td>-0.426757</td>\n",
       "    </tr>\n",
       "    <tr>\n",
       "      <th>1</th>\n",
       "      <td>4</td>\n",
       "      <td>12</td>\n",
       "      <td>2</td>\n",
       "      <td>1</td>\n",
       "      <td>4</td>\n",
       "      <td>0.334544</td>\n",
       "      <td>0.648586</td>\n",
       "      <td>-1.310927</td>\n",
       "      <td>0.224077</td>\n",
       "      <td>-0.426757</td>\n",
       "    </tr>\n",
       "    <tr>\n",
       "      <th>2</th>\n",
       "      <td>6</td>\n",
       "      <td>4</td>\n",
       "      <td>2</td>\n",
       "      <td>0</td>\n",
       "      <td>4</td>\n",
       "      <td>0.334544</td>\n",
       "      <td>0.648586</td>\n",
       "      <td>-1.310927</td>\n",
       "      <td>0.224077</td>\n",
       "      <td>-0.426757</td>\n",
       "    </tr>\n",
       "    <tr>\n",
       "      <th>3</th>\n",
       "      <td>6</td>\n",
       "      <td>4</td>\n",
       "      <td>2</td>\n",
       "      <td>0</td>\n",
       "      <td>4</td>\n",
       "      <td>0.334544</td>\n",
       "      <td>0.648586</td>\n",
       "      <td>-1.310927</td>\n",
       "      <td>0.224077</td>\n",
       "      <td>-0.426757</td>\n",
       "    </tr>\n",
       "    <tr>\n",
       "      <th>4</th>\n",
       "      <td>6</td>\n",
       "      <td>4</td>\n",
       "      <td>1</td>\n",
       "      <td>0</td>\n",
       "      <td>4</td>\n",
       "      <td>0.334544</td>\n",
       "      <td>0.648586</td>\n",
       "      <td>-1.310927</td>\n",
       "      <td>0.224077</td>\n",
       "      <td>-0.426757</td>\n",
       "    </tr>\n",
       "    <tr>\n",
       "      <th>...</th>\n",
       "      <td>...</td>\n",
       "      <td>...</td>\n",
       "      <td>...</td>\n",
       "      <td>...</td>\n",
       "      <td>...</td>\n",
       "      <td>...</td>\n",
       "      <td>...</td>\n",
       "      <td>...</td>\n",
       "      <td>...</td>\n",
       "      <td>...</td>\n",
       "    </tr>\n",
       "    <tr>\n",
       "      <th>10386</th>\n",
       "      <td>7</td>\n",
       "      <td>4</td>\n",
       "      <td>2</td>\n",
       "      <td>1</td>\n",
       "      <td>3</td>\n",
       "      <td>1.185986</td>\n",
       "      <td>-1.129889</td>\n",
       "      <td>1.009875</td>\n",
       "      <td>1.005063</td>\n",
       "      <td>-1.174702</td>\n",
       "    </tr>\n",
       "    <tr>\n",
       "      <th>10387</th>\n",
       "      <td>7</td>\n",
       "      <td>4</td>\n",
       "      <td>2</td>\n",
       "      <td>1</td>\n",
       "      <td>3</td>\n",
       "      <td>1.185986</td>\n",
       "      <td>-1.129889</td>\n",
       "      <td>1.009875</td>\n",
       "      <td>1.005063</td>\n",
       "      <td>-1.174702</td>\n",
       "    </tr>\n",
       "    <tr>\n",
       "      <th>10388</th>\n",
       "      <td>2</td>\n",
       "      <td>15</td>\n",
       "      <td>1</td>\n",
       "      <td>1</td>\n",
       "      <td>3</td>\n",
       "      <td>1.185986</td>\n",
       "      <td>-1.129889</td>\n",
       "      <td>1.009875</td>\n",
       "      <td>1.005063</td>\n",
       "      <td>-1.174702</td>\n",
       "    </tr>\n",
       "    <tr>\n",
       "      <th>10389</th>\n",
       "      <td>5</td>\n",
       "      <td>4</td>\n",
       "      <td>1</td>\n",
       "      <td>1</td>\n",
       "      <td>3</td>\n",
       "      <td>1.185986</td>\n",
       "      <td>-1.129889</td>\n",
       "      <td>1.009875</td>\n",
       "      <td>1.005063</td>\n",
       "      <td>-1.174702</td>\n",
       "    </tr>\n",
       "    <tr>\n",
       "      <th>10390</th>\n",
       "      <td>5</td>\n",
       "      <td>1</td>\n",
       "      <td>2</td>\n",
       "      <td>1</td>\n",
       "      <td>3</td>\n",
       "      <td>1.185986</td>\n",
       "      <td>-1.129889</td>\n",
       "      <td>1.009875</td>\n",
       "      <td>1.005063</td>\n",
       "      <td>-1.174702</td>\n",
       "    </tr>\n",
       "  </tbody>\n",
       "</table>\n",
       "<p>10391 rows × 10 columns</p>\n",
       "</div>"
      ],
      "text/plain": [
       "       S3  C1  C2  C3  XC        X1        X2        X3        X4        X5\n",
       "0       6   4   2   1   4  0.334544  0.648586 -1.310927  0.224077 -0.426757\n",
       "1       4  12   2   1   4  0.334544  0.648586 -1.310927  0.224077 -0.426757\n",
       "2       6   4   2   0   4  0.334544  0.648586 -1.310927  0.224077 -0.426757\n",
       "3       6   4   2   0   4  0.334544  0.648586 -1.310927  0.224077 -0.426757\n",
       "4       6   4   1   0   4  0.334544  0.648586 -1.310927  0.224077 -0.426757\n",
       "...    ..  ..  ..  ..  ..       ...       ...       ...       ...       ...\n",
       "10386   7   4   2   1   3  1.185986 -1.129889  1.009875  1.005063 -1.174702\n",
       "10387   7   4   2   1   3  1.185986 -1.129889  1.009875  1.005063 -1.174702\n",
       "10388   2  15   1   1   3  1.185986 -1.129889  1.009875  1.005063 -1.174702\n",
       "10389   5   4   1   1   3  1.185986 -1.129889  1.009875  1.005063 -1.174702\n",
       "10390   5   1   2   1   3  1.185986 -1.129889  1.009875  1.005063 -1.174702\n",
       "\n",
       "[10391 rows x 10 columns]"
      ]
     },
     "execution_count": 220,
     "metadata": {},
     "output_type": "execute_result"
    }
   ],
   "source": [
    "X_raw"
   ]
  },
  {
   "cell_type": "code",
   "execution_count": 221,
   "id": "bc7ee5e9",
   "metadata": {},
   "outputs": [
    {
     "data": {
      "text/plain": [
       "Index(['S3', 'C1', 'C2', 'C3', 'XC', 'X1', 'X2', 'X3', 'X4', 'X5'], dtype='object')"
      ]
     },
     "execution_count": 221,
     "metadata": {},
     "output_type": "execute_result"
    }
   ],
   "source": [
    "X_raw.columns"
   ]
  },
  {
   "cell_type": "code",
   "execution_count": 222,
   "id": "408d1cac",
   "metadata": {},
   "outputs": [],
   "source": [
    "C1_exp = pd.get_dummies(X_raw[\"C1\"],prefix = \"C1\")\n",
    "XC_exp = pd.get_dummies(X_raw[\"XC\"],prefix = \"XC\")"
   ]
  },
  {
   "cell_type": "code",
   "execution_count": 223,
   "id": "d59b0466",
   "metadata": {},
   "outputs": [
    {
     "data": {
      "text/html": [
       "<div>\n",
       "<style scoped>\n",
       "    .dataframe tbody tr th:only-of-type {\n",
       "        vertical-align: middle;\n",
       "    }\n",
       "\n",
       "    .dataframe tbody tr th {\n",
       "        vertical-align: top;\n",
       "    }\n",
       "\n",
       "    .dataframe thead th {\n",
       "        text-align: right;\n",
       "    }\n",
       "</style>\n",
       "<table border=\"1\" class=\"dataframe\">\n",
       "  <thead>\n",
       "    <tr style=\"text-align: right;\">\n",
       "      <th></th>\n",
       "      <th>C1_1</th>\n",
       "      <th>C1_2</th>\n",
       "      <th>C1_3</th>\n",
       "      <th>C1_4</th>\n",
       "      <th>C1_5</th>\n",
       "      <th>C1_6</th>\n",
       "      <th>C1_7</th>\n",
       "      <th>C1_8</th>\n",
       "      <th>C1_9</th>\n",
       "      <th>C1_10</th>\n",
       "      <th>C1_11</th>\n",
       "      <th>C1_12</th>\n",
       "      <th>C1_13</th>\n",
       "      <th>C1_14</th>\n",
       "      <th>C1_15</th>\n",
       "    </tr>\n",
       "  </thead>\n",
       "  <tbody>\n",
       "    <tr>\n",
       "      <th>0</th>\n",
       "      <td>0</td>\n",
       "      <td>0</td>\n",
       "      <td>0</td>\n",
       "      <td>1</td>\n",
       "      <td>0</td>\n",
       "      <td>0</td>\n",
       "      <td>0</td>\n",
       "      <td>0</td>\n",
       "      <td>0</td>\n",
       "      <td>0</td>\n",
       "      <td>0</td>\n",
       "      <td>0</td>\n",
       "      <td>0</td>\n",
       "      <td>0</td>\n",
       "      <td>0</td>\n",
       "    </tr>\n",
       "    <tr>\n",
       "      <th>1</th>\n",
       "      <td>0</td>\n",
       "      <td>0</td>\n",
       "      <td>0</td>\n",
       "      <td>0</td>\n",
       "      <td>0</td>\n",
       "      <td>0</td>\n",
       "      <td>0</td>\n",
       "      <td>0</td>\n",
       "      <td>0</td>\n",
       "      <td>0</td>\n",
       "      <td>0</td>\n",
       "      <td>1</td>\n",
       "      <td>0</td>\n",
       "      <td>0</td>\n",
       "      <td>0</td>\n",
       "    </tr>\n",
       "    <tr>\n",
       "      <th>2</th>\n",
       "      <td>0</td>\n",
       "      <td>0</td>\n",
       "      <td>0</td>\n",
       "      <td>1</td>\n",
       "      <td>0</td>\n",
       "      <td>0</td>\n",
       "      <td>0</td>\n",
       "      <td>0</td>\n",
       "      <td>0</td>\n",
       "      <td>0</td>\n",
       "      <td>0</td>\n",
       "      <td>0</td>\n",
       "      <td>0</td>\n",
       "      <td>0</td>\n",
       "      <td>0</td>\n",
       "    </tr>\n",
       "    <tr>\n",
       "      <th>3</th>\n",
       "      <td>0</td>\n",
       "      <td>0</td>\n",
       "      <td>0</td>\n",
       "      <td>1</td>\n",
       "      <td>0</td>\n",
       "      <td>0</td>\n",
       "      <td>0</td>\n",
       "      <td>0</td>\n",
       "      <td>0</td>\n",
       "      <td>0</td>\n",
       "      <td>0</td>\n",
       "      <td>0</td>\n",
       "      <td>0</td>\n",
       "      <td>0</td>\n",
       "      <td>0</td>\n",
       "    </tr>\n",
       "    <tr>\n",
       "      <th>4</th>\n",
       "      <td>0</td>\n",
       "      <td>0</td>\n",
       "      <td>0</td>\n",
       "      <td>1</td>\n",
       "      <td>0</td>\n",
       "      <td>0</td>\n",
       "      <td>0</td>\n",
       "      <td>0</td>\n",
       "      <td>0</td>\n",
       "      <td>0</td>\n",
       "      <td>0</td>\n",
       "      <td>0</td>\n",
       "      <td>0</td>\n",
       "      <td>0</td>\n",
       "      <td>0</td>\n",
       "    </tr>\n",
       "    <tr>\n",
       "      <th>...</th>\n",
       "      <td>...</td>\n",
       "      <td>...</td>\n",
       "      <td>...</td>\n",
       "      <td>...</td>\n",
       "      <td>...</td>\n",
       "      <td>...</td>\n",
       "      <td>...</td>\n",
       "      <td>...</td>\n",
       "      <td>...</td>\n",
       "      <td>...</td>\n",
       "      <td>...</td>\n",
       "      <td>...</td>\n",
       "      <td>...</td>\n",
       "      <td>...</td>\n",
       "      <td>...</td>\n",
       "    </tr>\n",
       "    <tr>\n",
       "      <th>10386</th>\n",
       "      <td>0</td>\n",
       "      <td>0</td>\n",
       "      <td>0</td>\n",
       "      <td>1</td>\n",
       "      <td>0</td>\n",
       "      <td>0</td>\n",
       "      <td>0</td>\n",
       "      <td>0</td>\n",
       "      <td>0</td>\n",
       "      <td>0</td>\n",
       "      <td>0</td>\n",
       "      <td>0</td>\n",
       "      <td>0</td>\n",
       "      <td>0</td>\n",
       "      <td>0</td>\n",
       "    </tr>\n",
       "    <tr>\n",
       "      <th>10387</th>\n",
       "      <td>0</td>\n",
       "      <td>0</td>\n",
       "      <td>0</td>\n",
       "      <td>1</td>\n",
       "      <td>0</td>\n",
       "      <td>0</td>\n",
       "      <td>0</td>\n",
       "      <td>0</td>\n",
       "      <td>0</td>\n",
       "      <td>0</td>\n",
       "      <td>0</td>\n",
       "      <td>0</td>\n",
       "      <td>0</td>\n",
       "      <td>0</td>\n",
       "      <td>0</td>\n",
       "    </tr>\n",
       "    <tr>\n",
       "      <th>10388</th>\n",
       "      <td>0</td>\n",
       "      <td>0</td>\n",
       "      <td>0</td>\n",
       "      <td>0</td>\n",
       "      <td>0</td>\n",
       "      <td>0</td>\n",
       "      <td>0</td>\n",
       "      <td>0</td>\n",
       "      <td>0</td>\n",
       "      <td>0</td>\n",
       "      <td>0</td>\n",
       "      <td>0</td>\n",
       "      <td>0</td>\n",
       "      <td>0</td>\n",
       "      <td>1</td>\n",
       "    </tr>\n",
       "    <tr>\n",
       "      <th>10389</th>\n",
       "      <td>0</td>\n",
       "      <td>0</td>\n",
       "      <td>0</td>\n",
       "      <td>1</td>\n",
       "      <td>0</td>\n",
       "      <td>0</td>\n",
       "      <td>0</td>\n",
       "      <td>0</td>\n",
       "      <td>0</td>\n",
       "      <td>0</td>\n",
       "      <td>0</td>\n",
       "      <td>0</td>\n",
       "      <td>0</td>\n",
       "      <td>0</td>\n",
       "      <td>0</td>\n",
       "    </tr>\n",
       "    <tr>\n",
       "      <th>10390</th>\n",
       "      <td>1</td>\n",
       "      <td>0</td>\n",
       "      <td>0</td>\n",
       "      <td>0</td>\n",
       "      <td>0</td>\n",
       "      <td>0</td>\n",
       "      <td>0</td>\n",
       "      <td>0</td>\n",
       "      <td>0</td>\n",
       "      <td>0</td>\n",
       "      <td>0</td>\n",
       "      <td>0</td>\n",
       "      <td>0</td>\n",
       "      <td>0</td>\n",
       "      <td>0</td>\n",
       "    </tr>\n",
       "  </tbody>\n",
       "</table>\n",
       "<p>10391 rows × 15 columns</p>\n",
       "</div>"
      ],
      "text/plain": [
       "       C1_1  C1_2  C1_3  C1_4  C1_5  C1_6  C1_7  C1_8  C1_9  C1_10  C1_11  \\\n",
       "0         0     0     0     1     0     0     0     0     0      0      0   \n",
       "1         0     0     0     0     0     0     0     0     0      0      0   \n",
       "2         0     0     0     1     0     0     0     0     0      0      0   \n",
       "3         0     0     0     1     0     0     0     0     0      0      0   \n",
       "4         0     0     0     1     0     0     0     0     0      0      0   \n",
       "...     ...   ...   ...   ...   ...   ...   ...   ...   ...    ...    ...   \n",
       "10386     0     0     0     1     0     0     0     0     0      0      0   \n",
       "10387     0     0     0     1     0     0     0     0     0      0      0   \n",
       "10388     0     0     0     0     0     0     0     0     0      0      0   \n",
       "10389     0     0     0     1     0     0     0     0     0      0      0   \n",
       "10390     1     0     0     0     0     0     0     0     0      0      0   \n",
       "\n",
       "       C1_12  C1_13  C1_14  C1_15  \n",
       "0          0      0      0      0  \n",
       "1          1      0      0      0  \n",
       "2          0      0      0      0  \n",
       "3          0      0      0      0  \n",
       "4          0      0      0      0  \n",
       "...      ...    ...    ...    ...  \n",
       "10386      0      0      0      0  \n",
       "10387      0      0      0      0  \n",
       "10388      0      0      0      1  \n",
       "10389      0      0      0      0  \n",
       "10390      0      0      0      0  \n",
       "\n",
       "[10391 rows x 15 columns]"
      ]
     },
     "execution_count": 223,
     "metadata": {},
     "output_type": "execute_result"
    }
   ],
   "source": [
    "C1_exp"
   ]
  },
  {
   "cell_type": "code",
   "execution_count": 224,
   "id": "256be5b6",
   "metadata": {},
   "outputs": [],
   "source": [
    "X = pd.concat([X_raw,C1_exp,XC_exp],axis = 1)\n",
    "X = X.drop(labels= [\"C1\",\"XC\"], axis = 1)"
   ]
  },
  {
   "cell_type": "code",
   "execution_count": 225,
   "id": "b1358422",
   "metadata": {
    "scrolled": true
   },
   "outputs": [
    {
     "data": {
      "text/html": [
       "<div>\n",
       "<style scoped>\n",
       "    .dataframe tbody tr th:only-of-type {\n",
       "        vertical-align: middle;\n",
       "    }\n",
       "\n",
       "    .dataframe tbody tr th {\n",
       "        vertical-align: top;\n",
       "    }\n",
       "\n",
       "    .dataframe thead th {\n",
       "        text-align: right;\n",
       "    }\n",
       "</style>\n",
       "<table border=\"1\" class=\"dataframe\">\n",
       "  <thead>\n",
       "    <tr style=\"text-align: right;\">\n",
       "      <th></th>\n",
       "      <th>S3</th>\n",
       "      <th>C2</th>\n",
       "      <th>C3</th>\n",
       "      <th>X1</th>\n",
       "      <th>X2</th>\n",
       "      <th>X3</th>\n",
       "      <th>X4</th>\n",
       "      <th>X5</th>\n",
       "      <th>C1_1</th>\n",
       "      <th>C1_2</th>\n",
       "      <th>...</th>\n",
       "      <th>C1_11</th>\n",
       "      <th>C1_12</th>\n",
       "      <th>C1_13</th>\n",
       "      <th>C1_14</th>\n",
       "      <th>C1_15</th>\n",
       "      <th>XC_0</th>\n",
       "      <th>XC_1</th>\n",
       "      <th>XC_2</th>\n",
       "      <th>XC_3</th>\n",
       "      <th>XC_4</th>\n",
       "    </tr>\n",
       "  </thead>\n",
       "  <tbody>\n",
       "    <tr>\n",
       "      <th>0</th>\n",
       "      <td>6</td>\n",
       "      <td>2</td>\n",
       "      <td>1</td>\n",
       "      <td>0.334544</td>\n",
       "      <td>0.648586</td>\n",
       "      <td>-1.310927</td>\n",
       "      <td>0.224077</td>\n",
       "      <td>-0.426757</td>\n",
       "      <td>0</td>\n",
       "      <td>0</td>\n",
       "      <td>...</td>\n",
       "      <td>0</td>\n",
       "      <td>0</td>\n",
       "      <td>0</td>\n",
       "      <td>0</td>\n",
       "      <td>0</td>\n",
       "      <td>0</td>\n",
       "      <td>0</td>\n",
       "      <td>0</td>\n",
       "      <td>0</td>\n",
       "      <td>1</td>\n",
       "    </tr>\n",
       "    <tr>\n",
       "      <th>1</th>\n",
       "      <td>4</td>\n",
       "      <td>2</td>\n",
       "      <td>1</td>\n",
       "      <td>0.334544</td>\n",
       "      <td>0.648586</td>\n",
       "      <td>-1.310927</td>\n",
       "      <td>0.224077</td>\n",
       "      <td>-0.426757</td>\n",
       "      <td>0</td>\n",
       "      <td>0</td>\n",
       "      <td>...</td>\n",
       "      <td>0</td>\n",
       "      <td>1</td>\n",
       "      <td>0</td>\n",
       "      <td>0</td>\n",
       "      <td>0</td>\n",
       "      <td>0</td>\n",
       "      <td>0</td>\n",
       "      <td>0</td>\n",
       "      <td>0</td>\n",
       "      <td>1</td>\n",
       "    </tr>\n",
       "    <tr>\n",
       "      <th>2</th>\n",
       "      <td>6</td>\n",
       "      <td>2</td>\n",
       "      <td>0</td>\n",
       "      <td>0.334544</td>\n",
       "      <td>0.648586</td>\n",
       "      <td>-1.310927</td>\n",
       "      <td>0.224077</td>\n",
       "      <td>-0.426757</td>\n",
       "      <td>0</td>\n",
       "      <td>0</td>\n",
       "      <td>...</td>\n",
       "      <td>0</td>\n",
       "      <td>0</td>\n",
       "      <td>0</td>\n",
       "      <td>0</td>\n",
       "      <td>0</td>\n",
       "      <td>0</td>\n",
       "      <td>0</td>\n",
       "      <td>0</td>\n",
       "      <td>0</td>\n",
       "      <td>1</td>\n",
       "    </tr>\n",
       "    <tr>\n",
       "      <th>3</th>\n",
       "      <td>6</td>\n",
       "      <td>2</td>\n",
       "      <td>0</td>\n",
       "      <td>0.334544</td>\n",
       "      <td>0.648586</td>\n",
       "      <td>-1.310927</td>\n",
       "      <td>0.224077</td>\n",
       "      <td>-0.426757</td>\n",
       "      <td>0</td>\n",
       "      <td>0</td>\n",
       "      <td>...</td>\n",
       "      <td>0</td>\n",
       "      <td>0</td>\n",
       "      <td>0</td>\n",
       "      <td>0</td>\n",
       "      <td>0</td>\n",
       "      <td>0</td>\n",
       "      <td>0</td>\n",
       "      <td>0</td>\n",
       "      <td>0</td>\n",
       "      <td>1</td>\n",
       "    </tr>\n",
       "    <tr>\n",
       "      <th>4</th>\n",
       "      <td>6</td>\n",
       "      <td>1</td>\n",
       "      <td>0</td>\n",
       "      <td>0.334544</td>\n",
       "      <td>0.648586</td>\n",
       "      <td>-1.310927</td>\n",
       "      <td>0.224077</td>\n",
       "      <td>-0.426757</td>\n",
       "      <td>0</td>\n",
       "      <td>0</td>\n",
       "      <td>...</td>\n",
       "      <td>0</td>\n",
       "      <td>0</td>\n",
       "      <td>0</td>\n",
       "      <td>0</td>\n",
       "      <td>0</td>\n",
       "      <td>0</td>\n",
       "      <td>0</td>\n",
       "      <td>0</td>\n",
       "      <td>0</td>\n",
       "      <td>1</td>\n",
       "    </tr>\n",
       "    <tr>\n",
       "      <th>...</th>\n",
       "      <td>...</td>\n",
       "      <td>...</td>\n",
       "      <td>...</td>\n",
       "      <td>...</td>\n",
       "      <td>...</td>\n",
       "      <td>...</td>\n",
       "      <td>...</td>\n",
       "      <td>...</td>\n",
       "      <td>...</td>\n",
       "      <td>...</td>\n",
       "      <td>...</td>\n",
       "      <td>...</td>\n",
       "      <td>...</td>\n",
       "      <td>...</td>\n",
       "      <td>...</td>\n",
       "      <td>...</td>\n",
       "      <td>...</td>\n",
       "      <td>...</td>\n",
       "      <td>...</td>\n",
       "      <td>...</td>\n",
       "      <td>...</td>\n",
       "    </tr>\n",
       "    <tr>\n",
       "      <th>10386</th>\n",
       "      <td>7</td>\n",
       "      <td>2</td>\n",
       "      <td>1</td>\n",
       "      <td>1.185986</td>\n",
       "      <td>-1.129889</td>\n",
       "      <td>1.009875</td>\n",
       "      <td>1.005063</td>\n",
       "      <td>-1.174702</td>\n",
       "      <td>0</td>\n",
       "      <td>0</td>\n",
       "      <td>...</td>\n",
       "      <td>0</td>\n",
       "      <td>0</td>\n",
       "      <td>0</td>\n",
       "      <td>0</td>\n",
       "      <td>0</td>\n",
       "      <td>0</td>\n",
       "      <td>0</td>\n",
       "      <td>0</td>\n",
       "      <td>1</td>\n",
       "      <td>0</td>\n",
       "    </tr>\n",
       "    <tr>\n",
       "      <th>10387</th>\n",
       "      <td>7</td>\n",
       "      <td>2</td>\n",
       "      <td>1</td>\n",
       "      <td>1.185986</td>\n",
       "      <td>-1.129889</td>\n",
       "      <td>1.009875</td>\n",
       "      <td>1.005063</td>\n",
       "      <td>-1.174702</td>\n",
       "      <td>0</td>\n",
       "      <td>0</td>\n",
       "      <td>...</td>\n",
       "      <td>0</td>\n",
       "      <td>0</td>\n",
       "      <td>0</td>\n",
       "      <td>0</td>\n",
       "      <td>0</td>\n",
       "      <td>0</td>\n",
       "      <td>0</td>\n",
       "      <td>0</td>\n",
       "      <td>1</td>\n",
       "      <td>0</td>\n",
       "    </tr>\n",
       "    <tr>\n",
       "      <th>10388</th>\n",
       "      <td>2</td>\n",
       "      <td>1</td>\n",
       "      <td>1</td>\n",
       "      <td>1.185986</td>\n",
       "      <td>-1.129889</td>\n",
       "      <td>1.009875</td>\n",
       "      <td>1.005063</td>\n",
       "      <td>-1.174702</td>\n",
       "      <td>0</td>\n",
       "      <td>0</td>\n",
       "      <td>...</td>\n",
       "      <td>0</td>\n",
       "      <td>0</td>\n",
       "      <td>0</td>\n",
       "      <td>0</td>\n",
       "      <td>1</td>\n",
       "      <td>0</td>\n",
       "      <td>0</td>\n",
       "      <td>0</td>\n",
       "      <td>1</td>\n",
       "      <td>0</td>\n",
       "    </tr>\n",
       "    <tr>\n",
       "      <th>10389</th>\n",
       "      <td>5</td>\n",
       "      <td>1</td>\n",
       "      <td>1</td>\n",
       "      <td>1.185986</td>\n",
       "      <td>-1.129889</td>\n",
       "      <td>1.009875</td>\n",
       "      <td>1.005063</td>\n",
       "      <td>-1.174702</td>\n",
       "      <td>0</td>\n",
       "      <td>0</td>\n",
       "      <td>...</td>\n",
       "      <td>0</td>\n",
       "      <td>0</td>\n",
       "      <td>0</td>\n",
       "      <td>0</td>\n",
       "      <td>0</td>\n",
       "      <td>0</td>\n",
       "      <td>0</td>\n",
       "      <td>0</td>\n",
       "      <td>1</td>\n",
       "      <td>0</td>\n",
       "    </tr>\n",
       "    <tr>\n",
       "      <th>10390</th>\n",
       "      <td>5</td>\n",
       "      <td>2</td>\n",
       "      <td>1</td>\n",
       "      <td>1.185986</td>\n",
       "      <td>-1.129889</td>\n",
       "      <td>1.009875</td>\n",
       "      <td>1.005063</td>\n",
       "      <td>-1.174702</td>\n",
       "      <td>1</td>\n",
       "      <td>0</td>\n",
       "      <td>...</td>\n",
       "      <td>0</td>\n",
       "      <td>0</td>\n",
       "      <td>0</td>\n",
       "      <td>0</td>\n",
       "      <td>0</td>\n",
       "      <td>0</td>\n",
       "      <td>0</td>\n",
       "      <td>0</td>\n",
       "      <td>1</td>\n",
       "      <td>0</td>\n",
       "    </tr>\n",
       "  </tbody>\n",
       "</table>\n",
       "<p>10391 rows × 28 columns</p>\n",
       "</div>"
      ],
      "text/plain": [
       "       S3  C2  C3        X1        X2        X3        X4        X5  C1_1  \\\n",
       "0       6   2   1  0.334544  0.648586 -1.310927  0.224077 -0.426757     0   \n",
       "1       4   2   1  0.334544  0.648586 -1.310927  0.224077 -0.426757     0   \n",
       "2       6   2   0  0.334544  0.648586 -1.310927  0.224077 -0.426757     0   \n",
       "3       6   2   0  0.334544  0.648586 -1.310927  0.224077 -0.426757     0   \n",
       "4       6   1   0  0.334544  0.648586 -1.310927  0.224077 -0.426757     0   \n",
       "...    ..  ..  ..       ...       ...       ...       ...       ...   ...   \n",
       "10386   7   2   1  1.185986 -1.129889  1.009875  1.005063 -1.174702     0   \n",
       "10387   7   2   1  1.185986 -1.129889  1.009875  1.005063 -1.174702     0   \n",
       "10388   2   1   1  1.185986 -1.129889  1.009875  1.005063 -1.174702     0   \n",
       "10389   5   1   1  1.185986 -1.129889  1.009875  1.005063 -1.174702     0   \n",
       "10390   5   2   1  1.185986 -1.129889  1.009875  1.005063 -1.174702     1   \n",
       "\n",
       "       C1_2  ...  C1_11  C1_12  C1_13  C1_14  C1_15  XC_0  XC_1  XC_2  XC_3  \\\n",
       "0         0  ...      0      0      0      0      0     0     0     0     0   \n",
       "1         0  ...      0      1      0      0      0     0     0     0     0   \n",
       "2         0  ...      0      0      0      0      0     0     0     0     0   \n",
       "3         0  ...      0      0      0      0      0     0     0     0     0   \n",
       "4         0  ...      0      0      0      0      0     0     0     0     0   \n",
       "...     ...  ...    ...    ...    ...    ...    ...   ...   ...   ...   ...   \n",
       "10386     0  ...      0      0      0      0      0     0     0     0     1   \n",
       "10387     0  ...      0      0      0      0      0     0     0     0     1   \n",
       "10388     0  ...      0      0      0      0      1     0     0     0     1   \n",
       "10389     0  ...      0      0      0      0      0     0     0     0     1   \n",
       "10390     0  ...      0      0      0      0      0     0     0     0     1   \n",
       "\n",
       "       XC_4  \n",
       "0         1  \n",
       "1         1  \n",
       "2         1  \n",
       "3         1  \n",
       "4         1  \n",
       "...     ...  \n",
       "10386     0  \n",
       "10387     0  \n",
       "10388     0  \n",
       "10389     0  \n",
       "10390     0  \n",
       "\n",
       "[10391 rows x 28 columns]"
      ]
     },
     "execution_count": 225,
     "metadata": {},
     "output_type": "execute_result"
    }
   ],
   "source": [
    "X"
   ]
  },
  {
   "cell_type": "code",
   "execution_count": 226,
   "id": "add475f0",
   "metadata": {},
   "outputs": [
    {
     "data": {
      "text/plain": [
       "Index(['S3', 'C2', 'C3', 'X1', 'X2', 'X3', 'X4', 'X5', 'C1_1', 'C1_2', 'C1_3',\n",
       "       'C1_4', 'C1_5', 'C1_6', 'C1_7', 'C1_8', 'C1_9', 'C1_10', 'C1_11',\n",
       "       'C1_12', 'C1_13', 'C1_14', 'C1_15', 'XC_0', 'XC_1', 'XC_2', 'XC_3',\n",
       "       'XC_4'],\n",
       "      dtype='object')"
      ]
     },
     "execution_count": 226,
     "metadata": {},
     "output_type": "execute_result"
    }
   ],
   "source": [
    "X.columns"
   ]
  },
  {
   "cell_type": "markdown",
   "id": "b4ec6b67",
   "metadata": {},
   "source": [
    "## How the tree was built?"
   ]
  },
  {
   "cell_type": "code",
   "execution_count": 21,
   "id": "3e8ce796",
   "metadata": {},
   "outputs": [],
   "source": [
    "#First, we are going to fit two separate regression forest (Y_forest and W_forest)"
   ]
  },
  {
   "cell_type": "code",
   "execution_count": 22,
   "id": "e67de61b",
   "metadata": {},
   "outputs": [],
   "source": [
    "# Grow a forest. Add extra trees for the causal forest.\n",
    "from sklearn.tree import DecisionTreeRegressor\n",
    "from sklearn.ensemble import RandomForestRegressor\n",
    "from sklearn.ensemble import GradientBoostingRegressor"
   ]
  },
  {
   "cell_type": "code",
   "execution_count": 23,
   "id": "ab937489",
   "metadata": {},
   "outputs": [],
   "source": [
    "import econml\n",
    "# Main imports\n",
    "from econml.orf import DMLOrthoForest, DROrthoForest\n",
    "from econml.dml import CausalForestDML\n",
    "from econml.sklearn_extensions.linear_model import WeightedLassoCVWrapper, WeightedLasso, WeightedLassoCV\n",
    "from sklearn.linear_model import MultiTaskLassoCV\n",
    "# Helper imports\n",
    "import numpy as np\n",
    "from itertools import product\n",
    "from sklearn.linear_model import Lasso, LassoCV, LogisticRegression, LogisticRegressionCV\n",
    "import matplotlib.pyplot as plt\n",
    "from sklearn.tree import DecisionTreeRegressor\n",
    "from sklearn.ensemble import RandomForestRegressor\n",
    "from econml.grf import RegressionForest\n",
    "%matplotlib inline\n",
    "import patsy\n",
    "import seaborn as sns"
   ]
  },
  {
   "cell_type": "code",
   "execution_count": 158,
   "id": "b704dfbd",
   "metadata": {},
   "outputs": [],
   "source": [
    "\n",
    "Y_forest = RandomForestRegressor(n_estimators=500,oob_score=True )\n",
    "Y_forest.fit(X, Y.values.ravel())\n",
    "\n",
    "Y_hat = Y_forest.predict\n",
    "\n"
   ]
  },
  {
   "cell_type": "code",
   "execution_count": 159,
   "id": "7b59f2d0",
   "metadata": {},
   "outputs": [],
   "source": [
    "\n",
    "W_forest = RandomForestRegressor(n_estimators=500,oob_score=True)\n",
    "W_forest.fit(X, W.values.ravel())\n",
    "\n",
    "W_hat = W_forest.predict"
   ]
  },
  {
   "cell_type": "code",
   "execution_count": 160,
   "id": "a5f9f9aa",
   "metadata": {},
   "outputs": [],
   "source": [
    "import econml\n",
    "from econml.dml import CausalForestDML\n",
    "\n",
    "from sklearn.ensemble import RandomForestRegressor\n",
    "from econml.ortho_forest import ContinuousTreatmentOrthoForest as CausalForest\n",
    "from econml.grf import RegressionForest"
   ]
  },
  {
   "cell_type": "code",
   "execution_count": 192,
   "id": "e759d24d",
   "metadata": {},
   "outputs": [
    {
     "data": {
      "text/plain": [
       "<econml.dml.causal_forest.CausalForestDML at 0x2d001587eb0>"
      ]
     },
     "execution_count": 192,
     "metadata": {},
     "output_type": "execute_result"
    }
   ],
   "source": [
    "# Preparing data to fit a causal forest\n",
    "\n",
    "fmla = '0+S3+C2+C3+X1+X2+X3+X4+X5'\n",
    "desc = patsy.ModelDesc.from_formula(fmla)\n",
    "desc.describe()\n",
    "matrix = patsy.dmatrix(fmla, dataall, return_type = \"dataframe\")\n",
    "X = matrix\n",
    "W_1 = None\n",
    "\n",
    "# Estimate a causal forest.\n",
    "est2 = CausalForestDML(model_t=RegressionForest(),\n",
    "                       model_y=RegressionForest(),\n",
    "                       n_estimators=200, min_samples_leaf=5,\n",
    "                       max_depth=50,\n",
    "                       verbose=0, random_state=123)\n",
    "\n",
    "est2.tune(Y, W, X=X, W=W_1)\n",
    "est2.fit(Y, W, X=X, W=W_1)\n"
   ]
  },
  {
   "cell_type": "code",
   "execution_count": 193,
   "id": "97b6da77",
   "metadata": {},
   "outputs": [],
   "source": [
    "# Get residuals  and propensity \n",
    "residuals = est2.fit(Y, W, X=X, W=W_1, cache_values=True).residuals_\n",
    "W_res = residuals[1]\n",
    "e_hat = W - W_res \n",
    "\n"
   ]
  },
  {
   "cell_type": "code",
   "execution_count": 194,
   "id": "c650c842",
   "metadata": {},
   "outputs": [
    {
     "data": {
      "text/plain": [
       "0        0.320255\n",
       "1        0.256120\n",
       "2        0.334884\n",
       "3        0.334884\n",
       "4        0.362181\n",
       "           ...   \n",
       "10386    0.325966\n",
       "10387    0.325966\n",
       "10388    0.302009\n",
       "10389    0.334276\n",
       "10390    0.280145\n",
       "Name: Z, Length: 10391, dtype: float64"
      ]
     },
     "execution_count": 194,
     "metadata": {},
     "output_type": "execute_result"
    }
   ],
   "source": [
    "e_hat"
   ]
  },
  {
   "cell_type": "code",
   "execution_count": 195,
   "id": "c6ee502c",
   "metadata": {},
   "outputs": [
    {
     "data": {
      "text/plain": [
       "array([ 0.67974466,  0.74388004,  0.66511563, ..., -0.30200862,\n",
       "       -0.33427591, -0.28014527])"
      ]
     },
     "execution_count": 195,
     "metadata": {},
     "output_type": "execute_result"
    }
   ],
   "source": [
    "W_res"
   ]
  },
  {
   "cell_type": "code",
   "execution_count": 196,
   "id": "5d4a3bd4",
   "metadata": {},
   "outputs": [],
   "source": [
    "Prop = pd.DataFrame({\"p_score\":e_hat, \"Treatment\":W})"
   ]
  },
  {
   "cell_type": "code",
   "execution_count": 207,
   "id": "84e12115",
   "metadata": {},
   "outputs": [
    {
     "data": {
      "text/plain": [
       "<AxesSubplot:xlabel='p_score', ylabel='Count'>"
      ]
     },
     "execution_count": 207,
     "metadata": {},
     "output_type": "execute_result"
    },
    {
     "data": {
      "image/png": "[encoded data removed]",
      "text/plain": [
       "<Figure size 432x288 with 1 Axes>"
      ]
     },
     "metadata": {
      "needs_background": "light"
     },
     "output_type": "display_data"
    }
   ],
   "source": [
    "#Propensity score \n",
    "\n",
    "sns.histplot(data=Prop, x=\"p_score\", hue=\"Treatment\", bins=40, alpha = 0.4)"
   ]
  },
  {
   "cell_type": "code",
   "execution_count": 198,
   "id": "5677daf8",
   "metadata": {},
   "outputs": [],
   "source": [
    "tau_hat = est2.effect(X=X) # tau(X) estimates"
   ]
  },
  {
   "cell_type": "code",
   "execution_count": 199,
   "id": "47379166",
   "metadata": {},
   "outputs": [
    {
     "data": {
      "text/plain": [
       "array([[0.25718101],\n",
       "       [0.25667985],\n",
       "       [0.2543976 ],\n",
       "       ...,\n",
       "       [0.19854399],\n",
       "       [0.1980789 ],\n",
       "       [0.19826394]])"
      ]
     },
     "execution_count": 199,
     "metadata": {},
     "output_type": "execute_result"
    }
   ],
   "source": [
    "tau_hat"
   ]
  },
  {
   "cell_type": "code",
   "execution_count": 206,
   "id": "b58b1e5d",
   "metadata": {},
   "outputs": [
    {
     "data": {
      "text/plain": [
       "Text(0.5, 1.0, 'CATE estimates')"
      ]
     },
     "execution_count": 206,
     "metadata": {},
     "output_type": "execute_result"
    },
    {
     "data": {
      "image/png": "[encoded data removed]",
      "text/plain": [
       "<Figure size 402.375x360 with 1 Axes>"
      ]
     },
     "metadata": {
      "needs_background": "light"
     },
     "output_type": "display_data"
    }
   ],
   "source": [
    "# Do not use this for assessing heterogeneity. See text above.\n",
    "sns.displot( tau_hat, stat=\"density\", bins = 10)\n",
    "plt.title(\"CATE estimates\")"
   ]
  },
  {
   "cell_type": "code",
   "execution_count": 227,
   "id": "750a0a31",
   "metadata": {},
   "outputs": [
    {
     "data": {
      "text/plain": [
       "array([[0.03173128, 0.05978185, 0.04744732, 0.27180458, 0.16302308,\n",
       "        0.07823514, 0.10922692, 0.23874983]])"
      ]
     },
     "execution_count": 227,
     "metadata": {},
     "output_type": "execute_result"
    }
   ],
   "source": [
    "est2.feature_importances()"
   ]
  },
  {
   "cell_type": "code",
   "execution_count": 228,
   "id": "d33c6ba8",
   "metadata": {},
   "outputs": [
    {
     "ename": "ValueError",
     "evalue": "Per-column arrays must each be 1-dimensional",
     "output_type": "error",
     "traceback": [
      "\u001b[1;31m---------------------------------------------------------------------------\u001b[0m",
      "\u001b[1;31mValueError\u001b[0m                                Traceback (most recent call last)",
      "Input \u001b[1;32mIn [228]\u001b[0m, in \u001b[0;36m<cell line: 1>\u001b[1;34m()\u001b[0m\n\u001b[1;32m----> 1\u001b[0m importance \u001b[38;5;241m=\u001b[39m \u001b[43mpd\u001b[49m\u001b[38;5;241;43m.\u001b[39;49m\u001b[43mDataFrame\u001b[49m\u001b[43m(\u001b[49m\u001b[43m{\u001b[49m\u001b[38;5;124;43m\"\u001b[39;49m\u001b[38;5;124;43mcovariaties\u001b[39;49m\u001b[38;5;124;43m\"\u001b[39;49m\u001b[43m \u001b[49m\u001b[43m:\u001b[49m\u001b[43m \u001b[49m\u001b[38;5;28;43mlist\u001b[39;49m\u001b[43m(\u001b[49m\u001b[43mX\u001b[49m\u001b[38;5;241;43m.\u001b[39;49m\u001b[43mcolumns\u001b[49m\u001b[43m)\u001b[49m\u001b[43m,\u001b[49m\u001b[43m \u001b[49m\u001b[38;5;124;43m\"\u001b[39;49m\u001b[38;5;124;43mvalues\u001b[39;49m\u001b[38;5;124;43m\"\u001b[39;49m\u001b[43m \u001b[49m\u001b[43m:\u001b[49m\u001b[43m \u001b[49m\u001b[43mest2\u001b[49m\u001b[38;5;241;43m.\u001b[39;49m\u001b[43mfeature_importances\u001b[49m\u001b[43m(\u001b[49m\u001b[43m)\u001b[49m\u001b[43m}\u001b[49m\u001b[43m)\u001b[49m\n",
      "File \u001b[1;32m~\\anaconda3_1\\lib\\site-packages\\pandas\\core\\frame.py:636\u001b[0m, in \u001b[0;36mDataFrame.__init__\u001b[1;34m(self, data, index, columns, dtype, copy)\u001b[0m\n\u001b[0;32m    630\u001b[0m     mgr \u001b[38;5;241m=\u001b[39m \u001b[38;5;28mself\u001b[39m\u001b[38;5;241m.\u001b[39m_init_mgr(\n\u001b[0;32m    631\u001b[0m         data, axes\u001b[38;5;241m=\u001b[39m{\u001b[38;5;124m\"\u001b[39m\u001b[38;5;124mindex\u001b[39m\u001b[38;5;124m\"\u001b[39m: index, \u001b[38;5;124m\"\u001b[39m\u001b[38;5;124mcolumns\u001b[39m\u001b[38;5;124m\"\u001b[39m: columns}, dtype\u001b[38;5;241m=\u001b[39mdtype, copy\u001b[38;5;241m=\u001b[39mcopy\n\u001b[0;32m    632\u001b[0m     )\n\u001b[0;32m    634\u001b[0m \u001b[38;5;28;01melif\u001b[39;00m \u001b[38;5;28misinstance\u001b[39m(data, \u001b[38;5;28mdict\u001b[39m):\n\u001b[0;32m    635\u001b[0m     \u001b[38;5;66;03m# GH#38939 de facto copy defaults to False only in non-dict cases\u001b[39;00m\n\u001b[1;32m--> 636\u001b[0m     mgr \u001b[38;5;241m=\u001b[39m \u001b[43mdict_to_mgr\u001b[49m\u001b[43m(\u001b[49m\u001b[43mdata\u001b[49m\u001b[43m,\u001b[49m\u001b[43m \u001b[49m\u001b[43mindex\u001b[49m\u001b[43m,\u001b[49m\u001b[43m \u001b[49m\u001b[43mcolumns\u001b[49m\u001b[43m,\u001b[49m\u001b[43m \u001b[49m\u001b[43mdtype\u001b[49m\u001b[38;5;241;43m=\u001b[39;49m\u001b[43mdtype\u001b[49m\u001b[43m,\u001b[49m\u001b[43m \u001b[49m\u001b[43mcopy\u001b[49m\u001b[38;5;241;43m=\u001b[39;49m\u001b[43mcopy\u001b[49m\u001b[43m,\u001b[49m\u001b[43m \u001b[49m\u001b[43mtyp\u001b[49m\u001b[38;5;241;43m=\u001b[39;49m\u001b[43mmanager\u001b[49m\u001b[43m)\u001b[49m\n\u001b[0;32m    637\u001b[0m \u001b[38;5;28;01melif\u001b[39;00m \u001b[38;5;28misinstance\u001b[39m(data, ma\u001b[38;5;241m.\u001b[39mMaskedArray):\n\u001b[0;32m    638\u001b[0m     \u001b[38;5;28;01mimport\u001b[39;00m \u001b[38;5;21;01mnumpy\u001b[39;00m\u001b[38;5;21;01m.\u001b[39;00m\u001b[38;5;21;01mma\u001b[39;00m\u001b[38;5;21;01m.\u001b[39;00m\u001b[38;5;21;01mmrecords\u001b[39;00m \u001b[38;5;28;01mas\u001b[39;00m \u001b[38;5;21;01mmrecords\u001b[39;00m\n",
      "File \u001b[1;32m~\\anaconda3_1\\lib\\site-packages\\pandas\\core\\internals\\construction.py:502\u001b[0m, in \u001b[0;36mdict_to_mgr\u001b[1;34m(data, index, columns, dtype, typ, copy)\u001b[0m\n\u001b[0;32m    494\u001b[0m     arrays \u001b[38;5;241m=\u001b[39m [\n\u001b[0;32m    495\u001b[0m         x\n\u001b[0;32m    496\u001b[0m         \u001b[38;5;28;01mif\u001b[39;00m \u001b[38;5;129;01mnot\u001b[39;00m \u001b[38;5;28mhasattr\u001b[39m(x, \u001b[38;5;124m\"\u001b[39m\u001b[38;5;124mdtype\u001b[39m\u001b[38;5;124m\"\u001b[39m) \u001b[38;5;129;01mor\u001b[39;00m \u001b[38;5;129;01mnot\u001b[39;00m \u001b[38;5;28misinstance\u001b[39m(x\u001b[38;5;241m.\u001b[39mdtype, ExtensionDtype)\n\u001b[0;32m    497\u001b[0m         \u001b[38;5;28;01melse\u001b[39;00m x\u001b[38;5;241m.\u001b[39mcopy()\n\u001b[0;32m    498\u001b[0m         \u001b[38;5;28;01mfor\u001b[39;00m x \u001b[38;5;129;01min\u001b[39;00m arrays\n\u001b[0;32m    499\u001b[0m     ]\n\u001b[0;32m    500\u001b[0m     \u001b[38;5;66;03m# TODO: can we get rid of the dt64tz special case above?\u001b[39;00m\n\u001b[1;32m--> 502\u001b[0m \u001b[38;5;28;01mreturn\u001b[39;00m \u001b[43marrays_to_mgr\u001b[49m\u001b[43m(\u001b[49m\u001b[43marrays\u001b[49m\u001b[43m,\u001b[49m\u001b[43m \u001b[49m\u001b[43mcolumns\u001b[49m\u001b[43m,\u001b[49m\u001b[43m \u001b[49m\u001b[43mindex\u001b[49m\u001b[43m,\u001b[49m\u001b[43m \u001b[49m\u001b[43mdtype\u001b[49m\u001b[38;5;241;43m=\u001b[39;49m\u001b[43mdtype\u001b[49m\u001b[43m,\u001b[49m\u001b[43m \u001b[49m\u001b[43mtyp\u001b[49m\u001b[38;5;241;43m=\u001b[39;49m\u001b[43mtyp\u001b[49m\u001b[43m,\u001b[49m\u001b[43m \u001b[49m\u001b[43mconsolidate\u001b[49m\u001b[38;5;241;43m=\u001b[39;49m\u001b[43mcopy\u001b[49m\u001b[43m)\u001b[49m\n",
      "File \u001b[1;32m~\\anaconda3_1\\lib\\site-packages\\pandas\\core\\internals\\construction.py:120\u001b[0m, in \u001b[0;36marrays_to_mgr\u001b[1;34m(arrays, columns, index, dtype, verify_integrity, typ, consolidate)\u001b[0m\n\u001b[0;32m    117\u001b[0m \u001b[38;5;28;01mif\u001b[39;00m verify_integrity:\n\u001b[0;32m    118\u001b[0m     \u001b[38;5;66;03m# figure out the index, if necessary\u001b[39;00m\n\u001b[0;32m    119\u001b[0m     \u001b[38;5;28;01mif\u001b[39;00m index \u001b[38;5;129;01mis\u001b[39;00m \u001b[38;5;28;01mNone\u001b[39;00m:\n\u001b[1;32m--> 120\u001b[0m         index \u001b[38;5;241m=\u001b[39m \u001b[43m_extract_index\u001b[49m\u001b[43m(\u001b[49m\u001b[43marrays\u001b[49m\u001b[43m)\u001b[49m\n\u001b[0;32m    121\u001b[0m     \u001b[38;5;28;01melse\u001b[39;00m:\n\u001b[0;32m    122\u001b[0m         index \u001b[38;5;241m=\u001b[39m ensure_index(index)\n",
      "File \u001b[1;32m~\\anaconda3_1\\lib\\site-packages\\pandas\\core\\internals\\construction.py:661\u001b[0m, in \u001b[0;36m_extract_index\u001b[1;34m(data)\u001b[0m\n\u001b[0;32m    659\u001b[0m         raw_lengths\u001b[38;5;241m.\u001b[39mappend(\u001b[38;5;28mlen\u001b[39m(val))\n\u001b[0;32m    660\u001b[0m     \u001b[38;5;28;01melif\u001b[39;00m \u001b[38;5;28misinstance\u001b[39m(val, np\u001b[38;5;241m.\u001b[39mndarray) \u001b[38;5;129;01mand\u001b[39;00m val\u001b[38;5;241m.\u001b[39mndim \u001b[38;5;241m>\u001b[39m \u001b[38;5;241m1\u001b[39m:\n\u001b[1;32m--> 661\u001b[0m         \u001b[38;5;28;01mraise\u001b[39;00m \u001b[38;5;167;01mValueError\u001b[39;00m(\u001b[38;5;124m\"\u001b[39m\u001b[38;5;124mPer-column arrays must each be 1-dimensional\u001b[39m\u001b[38;5;124m\"\u001b[39m)\n\u001b[0;32m    663\u001b[0m \u001b[38;5;28;01mif\u001b[39;00m \u001b[38;5;129;01mnot\u001b[39;00m indexes \u001b[38;5;129;01mand\u001b[39;00m \u001b[38;5;129;01mnot\u001b[39;00m raw_lengths:\n\u001b[0;32m    664\u001b[0m     \u001b[38;5;28;01mraise\u001b[39;00m \u001b[38;5;167;01mValueError\u001b[39;00m(\u001b[38;5;124m\"\u001b[39m\u001b[38;5;124mIf using all scalar values, you must pass an index\u001b[39m\u001b[38;5;124m\"\u001b[39m)\n",
      "\u001b[1;31mValueError\u001b[0m: Per-column arrays must each be 1-dimensional"
     ]
    }
   ],
   "source": [
    "importance = pd.DataFrame({\"covariaties\" : list(X.columns), \"values\" : est2.feature_importances()})"
   ]
  },
  {
   "cell_type": "code",
   "execution_count": 204,
   "id": "b23cc44a",
   "metadata": {},
   "outputs": [
    {
     "data": {
      "text/plain": [
       "['S3', 'C2', 'C3', 'X1', 'X2', 'X3', 'X4', 'X5']"
      ]
     },
     "execution_count": 204,
     "metadata": {},
     "output_type": "execute_result"
    }
   ],
   "source": [
    "list(X.columns)\n"
   ]
  },
  {
   "cell_type": "code",
   "execution_count": 82,
   "id": "16fd3f6e",
   "metadata": {},
   "outputs": [
    {
     "ename": "NameError",
     "evalue": "name 'importance' is not defined",
     "output_type": "error",
     "traceback": [
      "\u001b[1;31m---------------------------------------------------------------------------\u001b[0m",
      "\u001b[1;31mNameError\u001b[0m                                 Traceback (most recent call last)",
      "Input \u001b[1;32mIn [82]\u001b[0m, in \u001b[0;36m<cell line: 1>\u001b[1;34m()\u001b[0m\n\u001b[1;32m----> 1\u001b[0m \u001b[43mimportance\u001b[49m\u001b[38;5;241m.\u001b[39msort_values(\u001b[38;5;124m'\u001b[39m\u001b[38;5;124mvalues\u001b[39m\u001b[38;5;124m'\u001b[39m, ascending \u001b[38;5;241m=\u001b[39m \u001b[38;5;28;01mFalse\u001b[39;00m)\n",
      "\u001b[1;31mNameError\u001b[0m: name 'importance' is not defined"
     ]
    }
   ],
   "source": [
    "importance.sort_values('values', ascending = False)"
   ]
  },
  {
   "cell_type": "code",
   "execution_count": null,
   "id": "ef835389",
   "metadata": {},
   "outputs": [],
   "source": []
  }
 ],
 "metadata": {
  "kernelspec": {
   "display_name": "Python 3 (ipykernel)",
   "language": "python",
   "name": "python3"
  },
  "language_info": {
   "codemirror_mode": {
    "name": "ipython",
    "version": 3
   },
   "file_extension": ".py",
   "mimetype": "text/x-python",
   "name": "python",
   "nbconvert_exporter": "python",
   "pygments_lexer": "ipython3",
   "version": "3.9.12"
  }
 },
 "nbformat": 4,
 "nbformat_minor": 5
}
