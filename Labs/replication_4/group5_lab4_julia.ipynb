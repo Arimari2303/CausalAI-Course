{
 "cells": [
  {
   "cell_type": "markdown",
   "metadata": {},
   "source": [
    "- Python Replication code of _R Notebook Experiment on Orthogonal Learning_ - Victor Chernozhukov"
   ]
  },
  {
   "cell_type": "code",
   "execution_count": 16,
   "metadata": {},
   "outputs": [
    {
     "ename": "LoadError",
     "evalue": "cannot document the following expression:\n\n\"##PSEUDOCODE##\\n\\n1. d\\n\"\n",
     "output_type": "error",
     "traceback": [
      "cannot document the following expression:\n\n\"##PSEUDOCODE##\\n\\n1. d\\n\"\n",
      "",
      "Stacktrace:",
      " [1] error(::String, ::String)",
      "   @ Base .\\error.jl:42",
      " [2] top-level scope",
      "   @ In[16]:1",
      " [3] eval",
      "   @ .\\boot.jl:373 [inlined]",
      " [4] include_string(mapexpr::typeof(REPL.softscope), mod::Module, code::String, filename::String)",
      "   @ Base .\\loading.jl:1196"
     ]
    }
   ],
   "source": [
    "\"\"\"\n",
    "##DOCSTRING##\n",
    "The following program focus on the design of a simulation. \n",
    "1. Set a seed for the random numbers that are being created, so the results can be reproducible. (https://docs.julialang.org/en/v1/stdlib/Random/)\n",
    "2. Set the number of trials for the experiment, B\n",
    "3. Set a matrix of zeros of dimensions B by B\n",
    "4. Set another matrix of zeros of dimensiones B by B\n",
    "\n",
    "5. Set a for loop, with B passes, that\n",
    "    5.1. contains two parameters n and p, that has value 100\n",
    "\"\"\"\n",
    "\"\"\"\n",
    "##PSEUDOCODE##\n",
    "\n",
    "1. d\n",
    "\"\"\""
   ]
  },
  {
   "cell_type": "code",
   "execution_count": 9,
   "metadata": {},
   "outputs": [
    {
     "data": {
      "text/plain": [
       "100×1 Matrix{Int64}:\n",
       " 0\n",
       " 0\n",
       " 0\n",
       " 0\n",
       " 0\n",
       " 0\n",
       " 0\n",
       " 0\n",
       " 0\n",
       " 0\n",
       " 0\n",
       " 0\n",
       " 0\n",
       " ⋮\n",
       " 0\n",
       " 0\n",
       " 0\n",
       " 0\n",
       " 0\n",
       " 0\n",
       " 0\n",
       " 0\n",
       " 0\n",
       " 0\n",
       " 0\n",
       " 0"
      ]
     },
     "execution_count": 9,
     "metadata": {},
     "output_type": "execute_result"
    }
   ],
   "source": [
    "using Random, Distributions\n",
    "Random.seed!(1234);\n",
    "B = 100\n",
    "Naive = zeros(Int64, B, 1)\n",
    "Orthogonal = zeros(Int64, B, 1)"
   ]
  },
  {
   "cell_type": "code",
   "execution_count": 13,
   "metadata": {},
   "outputs": [
    {
     "ename": "LoadError",
     "evalue": "UndefVarError: Normal not defined",
     "output_type": "error",
     "traceback": [
      "UndefVarError: Normal not defined",
      "",
      "Stacktrace:",
      " [1] top-level scope",
      "   @ In[13]:10",
      " [2] eval",
      "   @ .\\boot.jl:373 [inlined]",
      " [3] include_string(mapexpr::typeof(REPL.softscope), mod::Module, code::String, filename::String)",
      "   @ Base .\\loading.jl:1196"
     ]
    }
   ],
   "source": [
    "for i in range(0, B)\n",
    "    n = 100\n",
    "    p = 100\n",
    "    aux = (1 / (range(1, p).^2))\n",
    "    beta = reshape(aux, (p,1))\n",
    "    gamma = reshape(aux, (p,1))\n",
    "\n",
    "    mean = 0\n",
    "    sd = 1\n",
    "    X = rand(Normal(mean, sd), n * p)\n",
    "    D = dot(X, gamma) + rand(Normal(mean, sd, ))\n",
    "\n",
    "\n",
    "    "
   ]
  },
  {
   "cell_type": "code",
   "execution_count": 15,
   "metadata": {},
   "outputs": [
    {
     "data": {
      "text/plain": [
       "100×1 reshape(transpose(::Vector{Float64}), 100, 1) with eltype Float64:\n",
       " 4.877255738704691e-10\n",
       " 1.9509022954818765e-9\n",
       " 4.389530164834223e-9\n",
       " 7.803609181927506e-9\n",
       " 1.219313934676173e-8\n",
       " 1.755812065933689e-8\n",
       " 2.3898553119652987e-8\n",
       " 3.1214436727710024e-8\n",
       " 3.9505771483508e-8\n",
       " 4.877255738704692e-8\n",
       " 5.901479443832677e-8\n",
       " 7.023248263734756e-8\n",
       " 8.242562198410928e-8\n",
       " ⋮\n",
       " 3.863274270627986e-6\n",
       " 3.9505771483508e-6\n",
       " 4.038855477221355e-6\n",
       " 4.1281092572396505e-6\n",
       " 4.218338488405688e-6\n",
       " 4.309543170719465e-6\n",
       " 4.401723304180984e-6\n",
       " 4.494878888790244e-6\n",
       " 4.589009924547244e-6\n",
       " 4.684116411451985e-6\n",
       " 4.7801983495044685e-6\n",
       " 4.877255738704692e-6"
      ]
     },
     "execution_count": 15,
     "metadata": {},
     "output_type": "execute_result"
    }
   ],
   "source": [
    "reshape(aux, (p,1))"
   ]
  },
  {
   "cell_type": "code",
   "execution_count": 7,
   "metadata": {},
   "outputs": [
    {
     "data": {
      "text/plain": [
       "1:100"
      ]
     },
     "execution_count": 7,
     "metadata": {},
     "output_type": "execute_result"
    }
   ],
   "source": []
  },
  {
   "cell_type": "code",
   "execution_count": 3,
   "metadata": {},
   "outputs": [
    {
     "ename": "LoadError",
     "evalue": "syntax: use \"x^y\" instead of \"x**y\" for exponentiation, and \"x...\" instead of \"**x\" for splatting.",
     "output_type": "error",
     "traceback": [
      "syntax: use \"x^y\" instead of \"x**y\" for exponentiation, and \"x...\" instead of \"**x\" for splatting.",
      "",
      "Stacktrace:",
      " [1] top-level scope",
      "   @ In[3]:3",
      " [2] eval",
      "   @ .\\boot.jl:373 [inlined]",
      " [3] include_string(mapexpr::typeof(REPL.softscope), mod::Module, code::String, filename::String)",
      "   @ Base .\\loading.jl:1196"
     ]
    }
   ],
   "source": [
    "n = 100\n",
    "p = 100\n",
    "gamma = ( 1 / (np.arange( 1, p + 1 ) ** 2 ) ).reshape( p , 1 )\n",
    "\n",
    "mean = 0 \n",
    "sd = 1 \n",
    "X = rand(Normal(mean, sd), n * p)"
   ]
  },
  {
   "cell_type": "code",
   "execution_count": 13,
   "metadata": {},
   "outputs": [
    {
     "ename": "LoadError",
     "evalue": "syntax: use \"x^y\" instead of \"x**y\" for exponentiation, and \"x...\" instead of \"**x\" for splatting.",
     "output_type": "error",
     "traceback": [
      "syntax: use \"x^y\" instead of \"x**y\" for exponentiation, and \"x...\" instead of \"**x\" for splatting.",
      "",
      "Stacktrace:",
      " [1] top-level scope",
      "   @ In[13]:3",
      " [2] eval",
      "   @ .\\boot.jl:373 [inlined]",
      " [3] include_string(mapexpr::typeof(REPL.softscope), mod::Module, code::String, filename::String)",
      "   @ Base .\\loading.jl:1196"
     ]
    }
   ],
   "source": []
  },
  {
   "cell_type": "code",
   "execution_count": 12,
   "metadata": {},
   "outputs": [
    {
     "ename": "LoadError",
     "evalue": "UndefVarError: p not defined",
     "output_type": "error",
     "traceback": [
      "UndefVarError: p not defined",
      "",
      "Stacktrace:",
      " [1] top-level scope",
      "   @ In[12]:4",
      " [2] eval",
      "   @ .\\boot.jl:373 [inlined]",
      " [3] include_string(mapexpr::typeof(REPL.softscope), mod::Module, code::String, filename::String)",
      "   @ Base .\\loading.jl:1196"
     ]
    }
   ],
   "source": [
    "n = 10\n",
    "mean = 0 \n",
    "sd = 1 \n",
    "X = rand(Normal(mean, sd), n * p)"
   ]
  },
  {
   "cell_type": "code",
   "execution_count": 6,
   "metadata": {},
   "outputs": [
    {
     "ename": "LoadError",
     "evalue": "UndefVarError: Normal not defined",
     "output_type": "error",
     "traceback": [
      "UndefVarError: Normal not defined",
      "",
      "Stacktrace:",
      " [1] top-level scope",
      "   @ In[6]:1",
      " [2] eval",
      "   @ .\\boot.jl:373 [inlined]",
      " [3] include_string(mapexpr::typeof(REPL.softscope), mod::Module, code::String, filename::String)",
      "   @ Base .\\loading.jl:1196"
     ]
    }
   ],
   "source": [
    "rand(Normal(1, 2), 100)"
   ]
  }
 ],
 "metadata": {
  "interpreter": {
   "hash": "4bd3bf74fec6b83bf65c999f8e337fe145533c72b0c0a5d6cc8c76b27806031d"
  },
  "kernelspec": {
   "display_name": "Julia 1.7.2",
   "language": "julia",
   "name": "julia-1.7"
  },
  "language_info": {
   "file_extension": ".jl",
   "mimetype": "application/julia",
   "name": "julia",
   "version": "1.7.2"
  },
  "orig_nbformat": 4
 },
 "nbformat": 4,
 "nbformat_minor": 2
}
