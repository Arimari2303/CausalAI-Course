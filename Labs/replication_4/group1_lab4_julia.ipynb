{
 "cells": [
  {
   "cell_type": "markdown",
   "metadata": {},
   "source": [
    "# <span style=\"color:blue\">Orthogonal Learning</span>"
   ]
  },
  {
   "cell_type": "markdown",
   "metadata": {},
   "source": [
    "## Simulation Design 1"
   ]
  },
  {
   "cell_type": "code",
   "execution_count": 1,
   "metadata": {},
   "outputs": [
    {
     "name": "stderr",
     "output_type": "stream",
     "text": [
      "\u001b[32m\u001b[1m    Updating\u001b[22m\u001b[39m registry at `C:\\Users\\Alexander\\.julia\\registries\\General.toml`\n",
      "\u001b[32m\u001b[1m   Resolving\u001b[22m\u001b[39m package versions...\n",
      "\u001b[32m\u001b[1m   Installed\u001b[22m\u001b[39m Ratios ──────────── v0.4.3\n",
      "\u001b[32m\u001b[1m   Installed\u001b[22m\u001b[39m StatsPlots ──────── v0.14.33\n",
      "\u001b[32m\u001b[1m   Installed\u001b[22m\u001b[39m Distances ───────── v0.10.7\n",
      "\u001b[32m\u001b[1m   Installed\u001b[22m\u001b[39m OffsetArrays ────── v1.10.8\n",
      "\u001b[32m\u001b[1m   Installed\u001b[22m\u001b[39m NearestNeighbors ── v0.4.10\n",
      "\u001b[32m\u001b[1m   Installed\u001b[22m\u001b[39m DataValues ──────── v0.4.13\n",
      "\u001b[32m\u001b[1m   Installed\u001b[22m\u001b[39m KernelDensity ───── v0.6.3\n",
      "\u001b[32m\u001b[1m   Installed\u001b[22m\u001b[39m Arpack_jll ──────── v3.5.1+1\n",
      "\u001b[32m\u001b[1m   Installed\u001b[22m\u001b[39m AxisAlgorithms ──── v1.0.1\n",
      "\u001b[32m\u001b[1m   Installed\u001b[22m\u001b[39m Observables ─────── v0.4.0\n",
      "\u001b[32m\u001b[1m   Installed\u001b[22m\u001b[39m Arpack ──────────── v0.5.3\n",
      "\u001b[32m\u001b[1m   Installed\u001b[22m\u001b[39m MultivariateStats ─ v0.9.1\n",
      "\u001b[32m\u001b[1m   Installed\u001b[22m\u001b[39m Widgets ─────────── v0.6.5\n",
      "\u001b[32m\u001b[1m   Installed\u001b[22m\u001b[39m WoodburyMatrices ── v0.5.5\n",
      "\u001b[32m\u001b[1m   Installed\u001b[22m\u001b[39m Clustering ──────── v0.14.2\n",
      "\u001b[32m\u001b[1m   Installed\u001b[22m\u001b[39m Interpolations ──── v0.13.6\n",
      "\u001b[32m\u001b[1m    Updating\u001b[22m\u001b[39m `C:\\Users\\Alexander\\.julia\\environments\\v1.7\\Project.toml`\n",
      " \u001b[90m [f3b207a7] \u001b[39m\u001b[92m+ StatsPlots v0.14.33\u001b[39m\n",
      "\u001b[32m\u001b[1m    Updating\u001b[22m\u001b[39m `C:\\Users\\Alexander\\.julia\\environments\\v1.7\\Manifest.toml`\n",
      " \u001b[90m [7d9fca2a] \u001b[39m\u001b[92m+ Arpack v0.5.3\u001b[39m\n",
      " \u001b[90m [13072b0f] \u001b[39m\u001b[92m+ AxisAlgorithms v1.0.1\u001b[39m\n",
      " \u001b[90m [aaaa29a8] \u001b[39m\u001b[92m+ Clustering v0.14.2\u001b[39m\n",
      " \u001b[90m [e7dc6d0d] \u001b[39m\u001b[92m+ DataValues v0.4.13\u001b[39m\n",
      " \u001b[90m [b4f34e82] \u001b[39m\u001b[92m+ Distances v0.10.7\u001b[39m\n",
      " \u001b[90m [a98d9a8b] \u001b[39m\u001b[92m+ Interpolations v0.13.6\u001b[39m\n",
      " \u001b[90m [5ab0869b] \u001b[39m\u001b[92m+ KernelDensity v0.6.3\u001b[39m\n",
      " \u001b[90m [6f286f6a] \u001b[39m\u001b[92m+ MultivariateStats v0.9.1\u001b[39m\n",
      " \u001b[90m [b8a86587] \u001b[39m\u001b[92m+ NearestNeighbors v0.4.10\u001b[39m\n",
      " \u001b[90m [510215fc] \u001b[39m\u001b[92m+ Observables v0.4.0\u001b[39m\n",
      " \u001b[90m [6fe1bfb0] \u001b[39m\u001b[92m+ OffsetArrays v1.10.8\u001b[39m\n",
      " \u001b[90m [c84ed2f1] \u001b[39m\u001b[92m+ Ratios v0.4.3\u001b[39m\n",
      " \u001b[90m [f3b207a7] \u001b[39m\u001b[92m+ StatsPlots v0.14.33\u001b[39m\n",
      " \u001b[90m [cc8bc4a8] \u001b[39m\u001b[92m+ Widgets v0.6.5\u001b[39m\n",
      " \u001b[90m [efce3f68] \u001b[39m\u001b[92m+ WoodburyMatrices v0.5.5\u001b[39m\n",
      " \u001b[90m [68821587] \u001b[39m\u001b[92m+ Arpack_jll v3.5.1+1\u001b[39m\n",
      "\u001b[32m\u001b[1mPrecompiling\u001b[22m\u001b[39m project...\n",
      "\u001b[32m  ✓ \u001b[39m\u001b[90mWoodburyMatrices\u001b[39m\n",
      "\u001b[32m  ✓ \u001b[39m\u001b[90mObservables\u001b[39m\n",
      "\u001b[32m  ✓ \u001b[39m\u001b[90mRatios\u001b[39m\n",
      "\u001b[32m  ✓ \u001b[39m\u001b[90mDistances\u001b[39m\n",
      "\u001b[32m  ✓ \u001b[39m\u001b[90mAxisAlgorithms\u001b[39m\n",
      "\u001b[32m  ✓ \u001b[39m\u001b[90mDataValues\u001b[39m\n",
      "\u001b[32m  ✓ \u001b[39m\u001b[90mOffsetArrays\u001b[39m\n",
      "\u001b[32m  ✓ \u001b[39m\u001b[90mArpack_jll\u001b[39m\n",
      "\u001b[32m  ✓ \u001b[39m\u001b[90mWidgets\u001b[39m\n",
      "\u001b[32m  ✓ \u001b[39m\u001b[90mNearestNeighbors\u001b[39m\n",
      "\u001b[32m  ✓ \u001b[39m\u001b[90mArpack\u001b[39m\n",
      "\u001b[32m  ✓ \u001b[39m\u001b[90mMultivariateStats\u001b[39m\n",
      "\u001b[32m  ✓ \u001b[39m\u001b[90mInterpolations\u001b[39m\n",
      "\u001b[32m  ✓ \u001b[39m\u001b[90mClustering\u001b[39m\n",
      "\u001b[32m  ✓ \u001b[39m\u001b[90mKernelDensity\u001b[39m\n",
      "\u001b[91m  ✗ \u001b[39mStatsPlots\n",
      "  15 dependencies successfully precompiled in 21 seconds (185 already precompiled, 2 skipped during auto due to previous errors)\n",
      "  \u001b[91m1\u001b[39m dependency errored. To see a full report either run `import Pkg; Pkg.precompile()` or load the package\n",
      "\u001b[32m\u001b[1m   Resolving\u001b[22m\u001b[39m package versions...\n",
      "\u001b[32m\u001b[1m   Installed\u001b[22m\u001b[39m NetworkLayout ─ v0.4.4\n",
      "\u001b[32m\u001b[1m   Installed\u001b[22m\u001b[39m AbstractTrees ─ v0.3.4\n",
      "\u001b[32m\u001b[1m   Installed\u001b[22m\u001b[39m Inflate ─────── v0.1.2\n",
      "\u001b[32m\u001b[1m   Installed\u001b[22m\u001b[39m GraphRecipes ── v0.5.9\n",
      "\u001b[32m\u001b[1m   Installed\u001b[22m\u001b[39m SimpleTraits ── v0.9.4\n",
      "\u001b[32m\u001b[1m   Installed\u001b[22m\u001b[39m ArnoldiMethod ─ v0.2.0\n",
      "\u001b[32m\u001b[1m   Installed\u001b[22m\u001b[39m GeometryTypes ─ v0.8.5\n",
      "\u001b[32m\u001b[1m   Installed\u001b[22m\u001b[39m Graphs ──────── v1.6.0\n",
      "\u001b[32m\u001b[1m    Updating\u001b[22m\u001b[39m `C:\\Users\\Alexander\\.julia\\environments\\v1.7\\Project.toml`\n",
      " \u001b[90m [bd48cda9] \u001b[39m\u001b[92m+ GraphRecipes v0.5.9\u001b[39m\n",
      "\u001b[32m\u001b[1m    Updating\u001b[22m\u001b[39m `C:\\Users\\Alexander\\.julia\\environments\\v1.7\\Manifest.toml`\n",
      " \u001b[90m [1520ce14] \u001b[39m\u001b[92m+ AbstractTrees v0.3.4\u001b[39m\n",
      " \u001b[90m [ec485272] \u001b[39m\u001b[92m+ ArnoldiMethod v0.2.0\u001b[39m\n",
      " \u001b[90m [4d00f742] \u001b[39m\u001b[92m+ GeometryTypes v0.8.5\u001b[39m\n",
      " \u001b[90m [bd48cda9] \u001b[39m\u001b[92m+ GraphRecipes v0.5.9\u001b[39m\n",
      " \u001b[90m [86223c79] \u001b[39m\u001b[92m+ Graphs v1.6.0\u001b[39m\n",
      " \u001b[90m [d25df0c9] \u001b[39m\u001b[92m+ Inflate v0.1.2\u001b[39m\n",
      " \u001b[90m [46757867] \u001b[39m\u001b[92m+ NetworkLayout v0.4.4\u001b[39m\n",
      " \u001b[90m [699a6c99] \u001b[39m\u001b[92m+ SimpleTraits v0.9.4\u001b[39m\n",
      "\u001b[32m\u001b[1mPrecompiling\u001b[22m\u001b[39m project...\n",
      "\u001b[32m  ✓ \u001b[39m\u001b[90mAbstractTrees\u001b[39m\n",
      "\u001b[32m  ✓ \u001b[39m\u001b[90mInflate\u001b[39m\n",
      "\u001b[32m  ✓ \u001b[39m\u001b[90mSimpleTraits\u001b[39m\n",
      "\u001b[32m  ✓ \u001b[39m\u001b[90mArnoldiMethod\u001b[39m\n",
      "\u001b[32m  ✓ \u001b[39m\u001b[90mNetworkLayout\u001b[39m\n",
      "\u001b[32m  ✓ \u001b[39m\u001b[90mGeometryTypes\u001b[39m\n",
      "\u001b[32m  ✓ \u001b[39m\u001b[90mGraphs\u001b[39m\n",
      "\u001b[32m  ✓ \u001b[39mGraphRecipes\n",
      "  8 dependencies successfully precompiled in 11 seconds (200 already precompiled, 3 skipped during auto due to previous errors)\n",
      "\u001b[32m\u001b[1m   Resolving\u001b[22m\u001b[39m package versions...\n",
      "\u001b[32m\u001b[1m   Installed\u001b[22m\u001b[39m Media ────────── v0.5.0\n",
      "\u001b[32m\u001b[1m   Installed\u001b[22m\u001b[39m Hexagons ─────── v0.2.0\n",
      "\u001b[32m\u001b[1m   Installed\u001b[22m\u001b[39m Juno ─────────── v0.8.4\n",
      "\u001b[32m\u001b[1m   Installed\u001b[22m\u001b[39m IndirectArrays ─ v1.0.0\n",
      "\u001b[32m\u001b[1m   Installed\u001b[22m\u001b[39m Loess ────────── v0.5.4\n",
      "\u001b[32m\u001b[1m   Installed\u001b[22m\u001b[39m CoupledFields ── v0.2.0\n",
      "\u001b[32m\u001b[1m   Installed\u001b[22m\u001b[39m Compose ──────── v0.9.3\n",
      "\u001b[32m\u001b[1m   Installed\u001b[22m\u001b[39m Gadfly ───────── v1.3.4\n",
      "\u001b[32m\u001b[1m    Updating\u001b[22m\u001b[39m `C:\\Users\\Alexander\\.julia\\environments\\v1.7\\Project.toml`\n",
      " \u001b[90m [c91e804a] \u001b[39m\u001b[92m+ Gadfly v1.3.4\u001b[39m\n",
      "\u001b[32m\u001b[1m    Updating\u001b[22m\u001b[39m `C:\\Users\\Alexander\\.julia\\environments\\v1.7\\Manifest.toml`\n",
      " \u001b[90m [a81c6b42] \u001b[39m\u001b[92m+ Compose v0.9.3\u001b[39m\n",
      " \u001b[90m [7ad07ef1] \u001b[39m\u001b[92m+ CoupledFields v0.2.0\u001b[39m\n",
      " \u001b[90m [c91e804a] \u001b[39m\u001b[92m+ Gadfly v1.3.4\u001b[39m\n",
      " \u001b[90m [a1b4810d] \u001b[39m\u001b[92m+ Hexagons v0.2.0\u001b[39m\n",
      " \u001b[90m [9b13fd28] \u001b[39m\u001b[92m+ IndirectArrays v1.0.0\u001b[39m\n",
      " \u001b[90m [e5e0dc1b] \u001b[39m\u001b[92m+ Juno v0.8.4\u001b[39m\n",
      " \u001b[90m [4345ca2d] \u001b[39m\u001b[92m+ Loess v0.5.4\u001b[39m\n",
      " \u001b[90m [e89f7d12] \u001b[39m\u001b[92m+ Media v0.5.0\u001b[39m\n",
      " \u001b[90m [9abbd945] \u001b[39m\u001b[92m+ Profile\u001b[39m\n",
      "\u001b[32m\u001b[1mPrecompiling\u001b[22m\u001b[39m project...\n",
      "\u001b[32m  ✓ \u001b[39m\u001b[90mIndirectArrays\u001b[39m\n",
      "\u001b[32m  ✓ \u001b[39m\u001b[90mHexagons\u001b[39m\n",
      "\u001b[32m  ✓ \u001b[39m\u001b[90mLoess\u001b[39m\n",
      "\u001b[32m  ✓ \u001b[39m\u001b[90mMedia\u001b[39m\n",
      "\u001b[32m  ✓ \u001b[39m\u001b[90mCoupledFields\u001b[39m\n",
      "\u001b[32m  ✓ \u001b[39m\u001b[90mJuno\u001b[39m\n",
      "\u001b[32m  ✓ \u001b[39m\u001b[90mCompose\u001b[39m\n",
      "\u001b[32m  ✓ \u001b[39mGadfly\n",
      "  8 dependencies successfully precompiled in 11 seconds (208 already precompiled, 3 skipped during auto due to previous errors)\n",
      "\u001b[32m\u001b[1m   Resolving\u001b[22m\u001b[39m package versions...\n",
      "\u001b[32m\u001b[1m    Updating\u001b[22m\u001b[39m `C:\\Users\\Alexander\\.julia\\environments\\v1.7\\Project.toml`\n",
      " \u001b[90m [8f4d0f93] \u001b[39m\u001b[92m+ Conda v1.7.0\u001b[39m\n",
      "\u001b[32m\u001b[1m  No Changes\u001b[22m\u001b[39m to `C:\\Users\\Alexander\\.julia\\environments\\v1.7\\Manifest.toml`\n",
      "\u001b[32m\u001b[1m   Resolving\u001b[22m\u001b[39m package versions...\n",
      "\u001b[32m\u001b[1m    Updating\u001b[22m\u001b[39m `C:\\Users\\Alexander\\.julia\\environments\\v1.7\\Project.toml`\n",
      " \u001b[90m [9a3f8284] \u001b[39m\u001b[92m+ Random\u001b[39m\n",
      "\u001b[32m\u001b[1m  No Changes\u001b[22m\u001b[39m to `C:\\Users\\Alexander\\.julia\\environments\\v1.7\\Manifest.toml`\n",
      "\u001b[32m\u001b[1m   Resolving\u001b[22m\u001b[39m package versions...\n",
      "\u001b[32m\u001b[1m   Installed\u001b[22m\u001b[39m DataTables ─────── v0.1.0\n",
      "\u001b[32m\u001b[1m   Installed\u001b[22m\u001b[39m TableShowUtils ─── v0.2.5\n",
      "\u001b[32m\u001b[1m   Installed\u001b[22m\u001b[39m ReadOnlyArrays ─── v0.1.1\n",
      "\u001b[32m\u001b[1m   Installed\u001b[22m\u001b[39m TableTraitsUtils ─ v1.0.2\n",
      "\u001b[32m\u001b[1m    Updating\u001b[22m\u001b[39m `C:\\Users\\Alexander\\.julia\\environments\\v1.7\\Project.toml`\n",
      " \u001b[90m [743a1d0a] \u001b[39m\u001b[92m+ DataTables v0.1.0\u001b[39m\n",
      "\u001b[32m\u001b[1m    Updating\u001b[22m\u001b[39m `C:\\Users\\Alexander\\.julia\\environments\\v1.7\\Manifest.toml`\n",
      " \u001b[90m [743a1d0a] \u001b[39m\u001b[92m+ DataTables v0.1.0\u001b[39m\n",
      " \u001b[90m [988b38a3] \u001b[39m\u001b[92m+ ReadOnlyArrays v0.1.1\u001b[39m\n",
      " \u001b[90m [5e66a065] \u001b[39m\u001b[92m+ TableShowUtils v0.2.5\u001b[39m\n",
      " \u001b[90m [382cd787] \u001b[39m\u001b[92m+ TableTraitsUtils v1.0.2\u001b[39m\n",
      "\u001b[32m\u001b[1mPrecompiling\u001b[22m\u001b[39m project...\n",
      "\u001b[32m  ✓ \u001b[39m\u001b[90mReadOnlyArrays\u001b[39m\n",
      "\u001b[32m  ✓ \u001b[39m\u001b[90mTableTraitsUtils\u001b[39m\n",
      "\u001b[32m  ✓ \u001b[39m\u001b[90mTableShowUtils\u001b[39m\n",
      "\u001b[32m  ✓ \u001b[39mDataTables\n",
      "  4 dependencies successfully precompiled in 2 seconds (216 already precompiled, 3 skipped during auto due to previous errors)\n",
      "\u001b[32m\u001b[1m   Resolving\u001b[22m\u001b[39m package versions...\n",
      "\u001b[32m\u001b[1m   Installed\u001b[22m\u001b[39m Indexing ────────── v1.1.1\n",
      "\u001b[32m\u001b[1m   Installed\u001b[22m\u001b[39m SplitApplyCombine ─ v1.2.1\n",
      "\u001b[32m\u001b[1m   Installed\u001b[22m\u001b[39m TypedTables ─────── v1.4.0\n",
      "\u001b[32m\u001b[1m   Installed\u001b[22m\u001b[39m Dictionaries ────── v0.3.20\n",
      "\u001b[32m\u001b[1m    Updating\u001b[22m\u001b[39m `C:\\Users\\Alexander\\.julia\\environments\\v1.7\\Project.toml`\n",
      " \u001b[90m [9d95f2ec] \u001b[39m\u001b[92m+ TypedTables v1.4.0\u001b[39m\n",
      "\u001b[32m\u001b[1m    Updating\u001b[22m\u001b[39m `C:\\Users\\Alexander\\.julia\\environments\\v1.7\\Manifest.toml`\n",
      " \u001b[90m [85a47980] \u001b[39m\u001b[92m+ Dictionaries v0.3.20\u001b[39m\n",
      " \u001b[90m [313cdc1a] \u001b[39m\u001b[92m+ Indexing v1.1.1\u001b[39m\n",
      " \u001b[90m [03a91e81] \u001b[39m\u001b[92m+ SplitApplyCombine v1.2.1\u001b[39m\n",
      " \u001b[90m [9d95f2ec] \u001b[39m\u001b[92m+ TypedTables v1.4.0\u001b[39m\n",
      "\u001b[32m\u001b[1mPrecompiling\u001b[22m\u001b[39m project...\n",
      "\u001b[32m  ✓ \u001b[39m\u001b[90mIndexing\u001b[39m\n",
      "\u001b[32m  ✓ \u001b[39m\u001b[90mDictionaries\u001b[39m\n",
      "\u001b[32m  ✓ \u001b[39m\u001b[90mSplitApplyCombine\u001b[39m\n",
      "\u001b[32m  ✓ \u001b[39mTypedTables\n",
      "  4 dependencies successfully precompiled in 3 seconds (220 already precompiled, 3 skipped during auto due to previous errors)\n",
      "\u001b[32m\u001b[1m   Resolving\u001b[22m\u001b[39m package versions...\n",
      "\u001b[32m\u001b[1m    Updating\u001b[22m\u001b[39m `C:\\Users\\Alexander\\.julia\\environments\\v1.7\\Project.toml`\n",
      " \u001b[90m [1914dd2f] \u001b[39m\u001b[92m+ MacroTools v0.5.9\u001b[39m\n",
      "\u001b[32m\u001b[1m  No Changes\u001b[22m\u001b[39m to `C:\\Users\\Alexander\\.julia\\environments\\v1.7\\Manifest.toml`\n",
      "\u001b[32m\u001b[1m   Resolving\u001b[22m\u001b[39m package versions...\n",
      "\u001b[32m\u001b[1m   Installed\u001b[22m\u001b[39m TexTables ─ v0.2.6\n",
      "\u001b[32m\u001b[1m    Updating\u001b[22m\u001b[39m `C:\\Users\\Alexander\\.julia\\environments\\v1.7\\Project.toml`\n",
      " \u001b[90m [ebf5ac4f] \u001b[39m\u001b[92m+ TexTables v0.2.6\u001b[39m\n",
      "\u001b[32m\u001b[1m    Updating\u001b[22m\u001b[39m `C:\\Users\\Alexander\\.julia\\environments\\v1.7\\Manifest.toml`\n",
      " \u001b[90m [ebf5ac4f] \u001b[39m\u001b[92m+ TexTables v0.2.6\u001b[39m\n",
      "\u001b[32m\u001b[1mPrecompiling\u001b[22m\u001b[39m project...\n",
      "\u001b[32m  ✓ \u001b[39mTexTables\n"
     ]
    },
    {
     "name": "stderr",
     "output_type": "stream",
     "text": [
      "  1 dependency successfully precompiled in 4 seconds (224 already precompiled, 3 skipped during auto due to previous errors)\n",
      "\u001b[32m\u001b[1m   Resolving\u001b[22m\u001b[39m package versions...\n",
      "\u001b[32m\u001b[1m   Installed\u001b[22m\u001b[39m Hiccup ──────────────── v0.2.2\n",
      "\u001b[32m\u001b[1m   Installed\u001b[22m\u001b[39m URIParser ───────────── v0.4.1\n",
      "\u001b[32m\u001b[1m   Installed\u001b[22m\u001b[39m Pidfile ─────────────── v1.3.0\n",
      "\u001b[32m\u001b[1m   Installed\u001b[22m\u001b[39m AssetRegistry ───────── v0.1.0\n",
      "\u001b[32m\u001b[1m   Installed\u001b[22m\u001b[39m PlotlyBase ──────────── v0.8.18\n",
      "\u001b[32m\u001b[1m   Installed\u001b[22m\u001b[39m BinDeps ─────────────── v1.0.2\n",
      "\u001b[32m\u001b[1m   Installed\u001b[22m\u001b[39m Lazy ────────────────── v0.15.1\n",
      "\u001b[32m\u001b[1m   Installed\u001b[22m\u001b[39m Blink ───────────────── v0.12.5\n",
      "\u001b[32m\u001b[1m   Installed\u001b[22m\u001b[39m Kaleido_jll ─────────── v0.1.0+0\n",
      "\u001b[32m\u001b[1m   Installed\u001b[22m\u001b[39m JSExpr ──────────────── v0.5.3\n",
      "\u001b[32m\u001b[1m   Installed\u001b[22m\u001b[39m WebSockets ──────────── v1.5.9\n",
      "\u001b[32m\u001b[1m   Installed\u001b[22m\u001b[39m Mustache ────────────── v1.0.13\n",
      "\u001b[32m\u001b[1m   Installed\u001b[22m\u001b[39m FunctionalCollections ─ v0.5.0\n",
      "\u001b[32m\u001b[1m   Installed\u001b[22m\u001b[39m Mux ─────────────────── v0.7.6\n",
      "\u001b[32m\u001b[1m   Installed\u001b[22m\u001b[39m WebIO ───────────────── v0.8.17\n",
      "\u001b[32m\u001b[1m   Installed\u001b[22m\u001b[39m PlotlyJS ────────────── v0.18.8\n",
      "\u001b[32m\u001b[1m    Updating\u001b[22m\u001b[39m `C:\\Users\\Alexander\\.julia\\environments\\v1.7\\Project.toml`\n",
      " \u001b[90m [f0f68f2c] \u001b[39m\u001b[92m+ PlotlyJS v0.18.8\u001b[39m\n",
      "\u001b[32m\u001b[1m    Updating\u001b[22m\u001b[39m `C:\\Users\\Alexander\\.julia\\environments\\v1.7\\Manifest.toml`\n",
      " \u001b[90m [bf4720bc] \u001b[39m\u001b[92m+ AssetRegistry v0.1.0\u001b[39m\n",
      " \u001b[90m [9e28174c] \u001b[39m\u001b[92m+ BinDeps v1.0.2\u001b[39m\n",
      " \u001b[90m [ad839575] \u001b[39m\u001b[92m+ Blink v0.12.5\u001b[39m\n",
      " \u001b[90m [de31a74c] \u001b[39m\u001b[92m+ FunctionalCollections v0.5.0\u001b[39m\n",
      " \u001b[90m [9fb69e20] \u001b[39m\u001b[92m+ Hiccup v0.2.2\u001b[39m\n",
      " \u001b[90m [97c1335a] \u001b[39m\u001b[92m+ JSExpr v0.5.3\u001b[39m\n",
      " \u001b[90m [50d2b5c4] \u001b[39m\u001b[92m+ Lazy v0.15.1\u001b[39m\n",
      " \u001b[90m [ffc61752] \u001b[39m\u001b[92m+ Mustache v1.0.13\u001b[39m\n",
      " \u001b[90m [a975b10e] \u001b[39m\u001b[92m+ Mux v0.7.6\u001b[39m\n",
      " \u001b[90m [fa939f87] \u001b[39m\u001b[92m+ Pidfile v1.3.0\u001b[39m\n",
      " \u001b[90m [a03496cd] \u001b[39m\u001b[92m+ PlotlyBase v0.8.18\u001b[39m\n",
      " \u001b[90m [f0f68f2c] \u001b[39m\u001b[92m+ PlotlyJS v0.18.8\u001b[39m\n",
      " \u001b[90m [30578b45] \u001b[39m\u001b[92m+ URIParser v0.4.1\u001b[39m\n",
      " \u001b[90m [0f1e0344] \u001b[39m\u001b[92m+ WebIO v0.8.17\u001b[39m\n",
      " \u001b[90m [104b5d7c] \u001b[39m\u001b[92m+ WebSockets v1.5.9\u001b[39m\n",
      " \u001b[90m [f7e6163d] \u001b[39m\u001b[92m+ Kaleido_jll v0.1.0+0\u001b[39m\n",
      "\u001b[32m\u001b[1m    Building\u001b[22m\u001b[39m WebIO ───→ `C:\\Users\\Alexander\\.julia\\scratchspaces\\44cfe95a-1eb2-52ea-b672-e2afdf69b78f\\c9529be473e97fa0b3b2642cdafcd0896b4c9494\\build.log`\n",
      "\u001b[32m\u001b[1m    Building\u001b[22m\u001b[39m Blink ───→ `C:\\Users\\Alexander\\.julia\\scratchspaces\\44cfe95a-1eb2-52ea-b672-e2afdf69b78f\\08d0b679fd7caa49e2bca9214b131289e19808c0\\build.log`\n",
      "\u001b[32m\u001b[1m    Building\u001b[22m\u001b[39m PlotlyJS → `C:\\Users\\Alexander\\.julia\\scratchspaces\\44cfe95a-1eb2-52ea-b672-e2afdf69b78f\\53d6325e14d3bdb85fd387a085075f36082f35a3\\build.log`\n",
      "\u001b[32m\u001b[1mPrecompiling\u001b[22m\u001b[39m project...\n",
      "\u001b[32m  ✓ \u001b[39m\u001b[90mPidfile\u001b[39m\n",
      "\u001b[32m  ✓ \u001b[39m\u001b[90mMustache\u001b[39m\n",
      "\u001b[32m  ✓ \u001b[39m\u001b[90mFunctionalCollections\u001b[39m\n",
      "\u001b[32m  ✓ \u001b[39m\u001b[90mWebSockets\u001b[39m\n",
      "\u001b[32m  ✓ \u001b[39m\u001b[90mAssetRegistry\u001b[39m\n",
      "\u001b[32m  ✓ \u001b[39m\u001b[90mHiccup\u001b[39m\n",
      "\u001b[32m  ✓ \u001b[39m\u001b[90mKaleido_jll\u001b[39m\n",
      "\u001b[32m  ✓ \u001b[39m\u001b[90mMux\u001b[39m\n",
      "\u001b[32m  ✓ \u001b[39m\u001b[90mLazy\u001b[39m\n",
      "\u001b[32m  ✓ \u001b[39m\u001b[90mWebIO\u001b[39m\n",
      "\u001b[32m  ✓ \u001b[39m\u001b[90mPlotlyBase\u001b[39m\n",
      "\u001b[32m  ✓ \u001b[39m\u001b[90mJSExpr\u001b[39m\n",
      "\u001b[32m  ✓ \u001b[39m\u001b[90mBlink\u001b[39m\n",
      "\u001b[32m  ✓ \u001b[39mPlotlyJS\n",
      "  14 dependencies successfully precompiled in 13 seconds (227 already precompiled, 3 skipped during auto due to previous errors)\n",
      "\u001b[32m\u001b[1m   Resolving\u001b[22m\u001b[39m package versions...\n",
      "\u001b[32m\u001b[1m   Installed\u001b[22m\u001b[39m TiledIteration ──────────── v0.3.1\n",
      "\u001b[32m\u001b[1m   Installed\u001b[22m\u001b[39m ImageIO ─────────────────── v0.6.2\n",
      "\u001b[32m\u001b[1m   Installed\u001b[22m\u001b[39m ImageSegmentation ───────── v1.7.0\n",
      "\u001b[32m\u001b[1m   Installed\u001b[22m\u001b[39m ImageMagick ─────────────── v1.2.1\n",
      "\u001b[32m\u001b[1m   Installed\u001b[22m\u001b[39m JpegTurbo ───────────────── v0.1.1\n",
      "\u001b[32m\u001b[1m   Installed\u001b[22m\u001b[39m AxisArrays ──────────────── v0.4.5\n",
      "\u001b[32m\u001b[1m   Installed\u001b[22m\u001b[39m TiffImages ──────────────── v0.5.5\n",
      "\u001b[32m\u001b[1m   Installed\u001b[22m\u001b[39m PNGFiles ────────────────── v0.3.16\n",
      "\u001b[32m\u001b[1m   Installed\u001b[22m\u001b[39m ProgressMeter ───────────── v1.7.2\n",
      "\u001b[32m\u001b[1m   Installed\u001b[22m\u001b[39m Sixel ───────────────────── v0.1.2\n",
      "\u001b[32m\u001b[1m   Installed\u001b[22m\u001b[39m OpenEXR ─────────────────── v0.3.2\n",
      "\u001b[32m\u001b[1m   Installed\u001b[22m\u001b[39m MetaGraphs ──────────────── v0.7.1\n",
      "\u001b[32m\u001b[1m   Installed\u001b[22m\u001b[39m CEnum ───────────────────── v0.4.2\n",
      "\u001b[32m\u001b[1m   Installed\u001b[22m\u001b[39m Images ──────────────────── v0.25.2\n",
      "\u001b[32m\u001b[1m   Installed\u001b[22m\u001b[39m RegionTrees ─────────────── v0.3.2\n",
      "\u001b[32m\u001b[1m   Installed\u001b[22m\u001b[39m Netpbm ──────────────────── v1.0.2\n",
      "\u001b[32m\u001b[1m   Installed\u001b[22m\u001b[39m PkgVersion ──────────────── v0.1.1\n",
      "\u001b[32m\u001b[1m   Installed\u001b[22m\u001b[39m CustomUnitRanges ────────── v1.0.2\n",
      "\u001b[32m\u001b[1m   Installed\u001b[22m\u001b[39m ImageMetadata ───────────── v0.9.8\n",
      "\u001b[32m\u001b[1m   Installed\u001b[22m\u001b[39m Graphics ────────────────── v1.1.1\n",
      "\u001b[32m\u001b[1m   Installed\u001b[22m\u001b[39m JLD2 ────────────────────── v0.4.22\n",
      "\u001b[32m\u001b[1m   Installed\u001b[22m\u001b[39m QOI ─────────────────────── v1.0.0\n",
      "\u001b[32m\u001b[1m   Installed\u001b[22m\u001b[39m ComputationalResources ──── v0.3.2\n",
      "\u001b[32m\u001b[1m   Installed\u001b[22m\u001b[39m ImageMagick_jll ─────────── v6.9.12+2\n",
      "\u001b[32m\u001b[1m   Installed\u001b[22m\u001b[39m CatIndices ──────────────── v0.2.2\n",
      "\u001b[32m\u001b[1m   Installed\u001b[22m\u001b[39m MappedArrays ────────────── v0.4.1\n",
      "\u001b[32m\u001b[1m   Installed\u001b[22m\u001b[39m PaddedViews ─────────────── v0.5.11\n",
      "\u001b[32m\u001b[1m   Installed\u001b[22m\u001b[39m MosaicViews ─────────────── v0.3.3\n",
      "\u001b[32m\u001b[1m   Installed\u001b[22m\u001b[39m ImageTransformations ────── v0.9.4\n",
      "\u001b[32m\u001b[1m   Installed\u001b[22m\u001b[39m ImageShow ───────────────── v0.3.4\n",
      "\u001b[32m\u001b[1m   Installed\u001b[22m\u001b[39m TensorCore ──────────────── v0.1.1\n",
      "\u001b[32m\u001b[1m   Installed\u001b[22m\u001b[39m Imath_jll ───────────────── v3.1.2+0\n",
      "\u001b[32m\u001b[1m   Installed\u001b[22m\u001b[39m ImageQualityIndexes ─────── v0.3.0\n",
      "\u001b[32m\u001b[1m   Installed\u001b[22m\u001b[39m IntegralArrays ──────────── v0.1.4\n",
      "\u001b[32m\u001b[1m   Installed\u001b[22m\u001b[39m ColorVectorSpace ────────── v0.9.8\n",
      "\u001b[32m\u001b[1m   Installed\u001b[22m\u001b[39m CoordinateTransformations ─ v0.6.2\n",
      "\u001b[32m\u001b[1m   Installed\u001b[22m\u001b[39m Ghostscript_jll ─────────── v9.55.0+0\n",
      "\u001b[32m\u001b[1m   Installed\u001b[22m\u001b[39m StackViews ──────────────── v0.1.1\n",
      "\u001b[32m\u001b[1m   Installed\u001b[22m\u001b[39m ImageFiltering ──────────── v0.7.1\n",
      "\u001b[32m\u001b[1m   Installed\u001b[22m\u001b[39m Quaternions ─────────────── v0.5.6\n",
      "\u001b[32m\u001b[1m   Installed\u001b[22m\u001b[39m RangeArrays ─────────────── v0.3.2\n",
      "\u001b[32m\u001b[1m   Installed\u001b[22m\u001b[39m OpenEXR_jll ─────────────── v3.1.1+0\n",
      "\u001b[32m\u001b[1m   Installed\u001b[22m\u001b[39m ImageCore ───────────────── v0.9.3\n",
      "\u001b[32m\u001b[1m   Installed\u001b[22m\u001b[39m Rotations ───────────────── v1.3.1\n",
      "\u001b[32m\u001b[1m   Installed\u001b[22m\u001b[39m ImageBase ───────────────── v0.1.5\n",
      "\u001b[32m\u001b[1m   Installed\u001b[22m\u001b[39m SimpleWeightedGraphs ────── v1.2.1\n",
      "\u001b[32m\u001b[1m   Installed\u001b[22m\u001b[39m IntervalSets ────────────── v0.6.1\n",
      "\u001b[32m\u001b[1m   Installed\u001b[22m\u001b[39m libsixel_jll ────────────── v1.8.6+1\n",
      "\u001b[32m\u001b[1m   Installed\u001b[22m\u001b[39m ImageDistances ──────────── v0.2.15\n",
      "\u001b[32m\u001b[1m   Installed\u001b[22m\u001b[39m ImageMorphology ─────────── v0.3.1\n",
      "\u001b[32m\u001b[1m   Installed\u001b[22m\u001b[39m ImageAxes ───────────────── v0.6.10\n",
      "\u001b[32m\u001b[1m   Installed\u001b[22m\u001b[39m FFTViews ────────────────── v0.3.2\n",
      "\u001b[32m\u001b[1m   Installed\u001b[22m\u001b[39m ImageContrastAdjustment ─── v0.3.10\n",
      "\u001b[32m\u001b[1m    Updating\u001b[22m\u001b[39m `C:\\Users\\Alexander\\.julia\\environments\\v1.7\\Project.toml`\n",
      " \u001b[90m [916415d5] \u001b[39m\u001b[92m+ Images v0.25.2\u001b[39m\n",
      "\u001b[32m\u001b[1m    Updating\u001b[22m\u001b[39m `C:\\Users\\Alexander\\.julia\\environments\\v1.7\\Manifest.toml`\n",
      " \u001b[90m [39de3d68] \u001b[39m\u001b[92m+ AxisArrays v0.4.5\u001b[39m\n",
      " \u001b[90m [fa961155] \u001b[39m\u001b[92m+ CEnum v0.4.2\u001b[39m\n",
      " \u001b[90m [aafaddc9] \u001b[39m\u001b[92m+ CatIndices v0.2.2\u001b[39m\n",
      " \u001b[90m [c3611d14] \u001b[39m\u001b[92m+ ColorVectorSpace v0.9.8\u001b[39m\n",
      " \u001b[90m [ed09eef8] \u001b[39m\u001b[92m+ ComputationalResources v0.3.2\u001b[39m\n",
      " \u001b[90m [150eb455] \u001b[39m\u001b[92m+ CoordinateTransformations v0.6.2\u001b[39m\n",
      " \u001b[90m [dc8bdbbb] \u001b[39m\u001b[92m+ CustomUnitRanges v1.0.2\u001b[39m\n",
      " \u001b[90m [4f61f5a4] \u001b[39m\u001b[92m+ FFTViews v0.3.2\u001b[39m\n",
      " \u001b[90m [a2bd30eb] \u001b[39m\u001b[92m+ Graphics v1.1.1\u001b[39m\n",
      " \u001b[90m [2803e5a7] \u001b[39m\u001b[92m+ ImageAxes v0.6.10\u001b[39m\n",
      " \u001b[90m [c817782e] \u001b[39m\u001b[92m+ ImageBase v0.1.5\u001b[39m\n",
      " \u001b[90m [f332f351] \u001b[39m\u001b[92m+ ImageContrastAdjustment v0.3.10\u001b[39m\n",
      " \u001b[90m [a09fc81d] \u001b[39m\u001b[92m+ ImageCore v0.9.3\u001b[39m\n",
      " \u001b[90m [51556ac3] \u001b[39m\u001b[92m+ ImageDistances v0.2.15\u001b[39m\n",
      " \u001b[90m [6a3955dd] \u001b[39m\u001b[92m+ ImageFiltering v0.7.1\u001b[39m\n",
      " \u001b[90m [82e4d734] \u001b[39m\u001b[92m+ ImageIO v0.6.2\u001b[39m\n",
      " \u001b[90m [6218d12a] \u001b[39m\u001b[92m+ ImageMagick v1.2.1\u001b[39m\n",
      " \u001b[90m [bc367c6b] \u001b[39m\u001b[92m+ ImageMetadata v0.9.8\u001b[39m\n"
     ]
    },
    {
     "name": "stderr",
     "output_type": "stream",
     "text": [
      " \u001b[90m [787d08f9] \u001b[39m\u001b[92m+ ImageMorphology v0.3.1\u001b[39m\n",
      " \u001b[90m [2996bd0c] \u001b[39m\u001b[92m+ ImageQualityIndexes v0.3.0\u001b[39m\n",
      " \u001b[90m [80713f31] \u001b[39m\u001b[92m+ ImageSegmentation v1.7.0\u001b[39m\n",
      " \u001b[90m [4e3cecfd] \u001b[39m\u001b[92m+ ImageShow v0.3.4\u001b[39m\n",
      " \u001b[90m [02fcd773] \u001b[39m\u001b[92m+ ImageTransformations v0.9.4\u001b[39m\n",
      " \u001b[90m [916415d5] \u001b[39m\u001b[92m+ Images v0.25.2\u001b[39m\n",
      " \u001b[90m [1d092043] \u001b[39m\u001b[92m+ IntegralArrays v0.1.4\u001b[39m\n",
      " \u001b[90m [8197267c] \u001b[39m\u001b[92m+ IntervalSets v0.6.1\u001b[39m\n",
      " \u001b[90m [033835bb] \u001b[39m\u001b[92m+ JLD2 v0.4.22\u001b[39m\n",
      " \u001b[90m [b835a17e] \u001b[39m\u001b[92m+ JpegTurbo v0.1.1\u001b[39m\n",
      " \u001b[90m [dbb5928d] \u001b[39m\u001b[92m+ MappedArrays v0.4.1\u001b[39m\n",
      " \u001b[90m [626554b9] \u001b[39m\u001b[92m+ MetaGraphs v0.7.1\u001b[39m\n",
      " \u001b[90m [e94cdb99] \u001b[39m\u001b[92m+ MosaicViews v0.3.3\u001b[39m\n",
      " \u001b[90m [f09324ee] \u001b[39m\u001b[92m+ Netpbm v1.0.2\u001b[39m\n",
      " \u001b[90m [52e1d378] \u001b[39m\u001b[92m+ OpenEXR v0.3.2\u001b[39m\n",
      " \u001b[90m [f57f5aa1] \u001b[39m\u001b[92m+ PNGFiles v0.3.16\u001b[39m\n",
      " \u001b[90m [5432bcbf] \u001b[39m\u001b[92m+ PaddedViews v0.5.11\u001b[39m\n",
      " \u001b[90m [eebad327] \u001b[39m\u001b[92m+ PkgVersion v0.1.1\u001b[39m\n",
      " \u001b[90m [92933f4c] \u001b[39m\u001b[92m+ ProgressMeter v1.7.2\u001b[39m\n",
      " \u001b[90m [4b34888f] \u001b[39m\u001b[92m+ QOI v1.0.0\u001b[39m\n",
      " \u001b[90m [94ee1d12] \u001b[39m\u001b[92m+ Quaternions v0.5.6\u001b[39m\n",
      " \u001b[90m [b3c3ace0] \u001b[39m\u001b[92m+ RangeArrays v0.3.2\u001b[39m\n",
      " \u001b[90m [dee08c22] \u001b[39m\u001b[92m+ RegionTrees v0.3.2\u001b[39m\n",
      " \u001b[90m [6038ab10] \u001b[39m\u001b[92m+ Rotations v1.3.1\u001b[39m\n",
      " \u001b[90m [47aef6b3] \u001b[39m\u001b[92m+ SimpleWeightedGraphs v1.2.1\u001b[39m\n",
      " \u001b[90m [45858cf5] \u001b[39m\u001b[92m+ Sixel v0.1.2\u001b[39m\n",
      " \u001b[90m [cae243ae] \u001b[39m\u001b[92m+ StackViews v0.1.1\u001b[39m\n",
      " \u001b[90m [62fd8b95] \u001b[39m\u001b[92m+ TensorCore v0.1.1\u001b[39m\n",
      " \u001b[90m [731e570b] \u001b[39m\u001b[92m+ TiffImages v0.5.5\u001b[39m\n",
      " \u001b[90m [06e1c1a7] \u001b[39m\u001b[92m+ TiledIteration v0.3.1\u001b[39m\n",
      " \u001b[90m [61579ee1] \u001b[39m\u001b[92m+ Ghostscript_jll v9.55.0+0\u001b[39m\n",
      " \u001b[90m [c73af94c] \u001b[39m\u001b[92m+ ImageMagick_jll v6.9.12+2\u001b[39m\n",
      " \u001b[90m [905a6f67] \u001b[39m\u001b[92m+ Imath_jll v3.1.2+0\u001b[39m\n",
      " \u001b[90m [18a262bb] \u001b[39m\u001b[92m+ OpenEXR_jll v3.1.1+0\u001b[39m\n",
      " \u001b[90m [075b6546] \u001b[39m\u001b[92m+ libsixel_jll v1.8.6+1\u001b[39m\n",
      "\u001b[32m\u001b[1mPrecompiling\u001b[22m\u001b[39m project...\n",
      "\u001b[32m  ✓ \u001b[39m\u001b[90mRangeArrays\u001b[39m\n",
      "\u001b[32m  ✓ \u001b[39m\u001b[90mCEnum\u001b[39m\n",
      "\u001b[32m  ✓ \u001b[39m\u001b[90mComputationalResources\u001b[39m\n",
      "\u001b[32m  ✓ \u001b[39m\u001b[90mTensorCore\u001b[39m\n",
      "\u001b[32m  ✓ \u001b[39m\u001b[90mCustomUnitRanges\u001b[39m\n",
      "\u001b[32m  ✓ \u001b[39m\u001b[90mIntervalSets\u001b[39m\n",
      "\u001b[32m  ✓ \u001b[39m\u001b[90mProgressMeter\u001b[39m\n",
      "\u001b[32m  ✓ \u001b[39m\u001b[90mPkgVersion\u001b[39m\n",
      "\u001b[32m  ✓ \u001b[39m\u001b[90mMappedArrays\u001b[39m\n",
      "\u001b[32m  ✓ \u001b[39m\u001b[90mImath_jll\u001b[39m\n",
      "\u001b[32m  ✓ \u001b[39m\u001b[90mlibsixel_jll\u001b[39m\n",
      "\u001b[32m  ✓ \u001b[39m\u001b[90mGhostscript_jll\u001b[39m\n",
      "\u001b[32m  ✓ \u001b[39m\u001b[90mTiledIteration\u001b[39m\n",
      "\u001b[32m  ✓ \u001b[39m\u001b[90mQOI\u001b[39m\n",
      "\u001b[32m  ✓ \u001b[39m\u001b[90mCoordinateTransformations\u001b[39m\n",
      "\u001b[32m  ✓ \u001b[39m\u001b[90mRegionTrees\u001b[39m\n",
      "\u001b[32m  ✓ \u001b[39m\u001b[90mStackViews\u001b[39m\n",
      "\u001b[32m  ✓ \u001b[39m\u001b[90mPaddedViews\u001b[39m\n",
      "\u001b[32m  ✓ \u001b[39m\u001b[90mQuaternions\u001b[39m\n",
      "\u001b[32m  ✓ \u001b[39m\u001b[90mSimpleWeightedGraphs\u001b[39m\n",
      "\u001b[32m  ✓ \u001b[39m\u001b[90mGraphics\u001b[39m\n",
      "\u001b[32m  ✓ \u001b[39m\u001b[90mCatIndices\u001b[39m\n",
      "\u001b[32m  ✓ \u001b[39m\u001b[90mFFTViews\u001b[39m\n",
      "\u001b[32m  ✓ \u001b[39m\u001b[90mAxisArrays\u001b[39m\n",
      "\u001b[32m  ✓ \u001b[39m\u001b[90mIntegralArrays\u001b[39m\n",
      "\u001b[32m  ✓ \u001b[39m\u001b[90mMosaicViews\u001b[39m\n",
      "\u001b[32m  ✓ \u001b[39m\u001b[90mImageMagick_jll\u001b[39m\n",
      "\u001b[32m  ✓ \u001b[39m\u001b[90mOpenEXR_jll\u001b[39m\n",
      "\u001b[32m  ✓ \u001b[39m\u001b[90mColorVectorSpace\u001b[39m\n",
      "\u001b[32m  ✓ \u001b[39m\u001b[90mRotations\u001b[39m\n",
      "\u001b[32m  ✓ \u001b[39m\u001b[90mOpenEXR\u001b[39m\n",
      "\u001b[32m  ✓ \u001b[39m\u001b[90mJLD2\u001b[39m\n",
      "\u001b[32m  ✓ \u001b[39m\u001b[90mMetaGraphs\u001b[39m\n",
      "\u001b[32m  ✓ \u001b[39m\u001b[90mTiffImages\u001b[39m\n",
      "\u001b[32m  ✓ \u001b[39m\u001b[90mImageCore\u001b[39m\n",
      "\u001b[32m  ✓ \u001b[39m\u001b[90mNetpbm\u001b[39m\n",
      "\u001b[32m  ✓ \u001b[39m\u001b[90mImageMorphology\u001b[39m\n",
      "\u001b[32m  ✓ \u001b[39m\u001b[90mImageBase\u001b[39m\n",
      "\u001b[32m  ✓ \u001b[39m\u001b[90mJpegTurbo\u001b[39m\n",
      "\u001b[32m  ✓ \u001b[39m\u001b[90mSixel\u001b[39m\n",
      "\u001b[32m  ✓ \u001b[39m\u001b[90mPNGFiles\u001b[39m\n",
      "\u001b[32m  ✓ \u001b[39m\u001b[90mImageIO\u001b[39m\n",
      "\u001b[32m  ✓ \u001b[39m\u001b[90mImageMagick\u001b[39m\n",
      "\u001b[32m  ✓ \u001b[39m\u001b[90mImageDistances\u001b[39m\n",
      "\u001b[32m  ✓ \u001b[39m\u001b[90mImageShow\u001b[39m\n",
      "\u001b[32m  ✓ \u001b[39m\u001b[90mImageAxes\u001b[39m\n",
      "\u001b[32m  ✓ \u001b[39m\u001b[90mImageTransformations\u001b[39m\n",
      "\u001b[32m  ✓ \u001b[39m\u001b[90mImageMetadata\u001b[39m\n",
      "\u001b[32m  ✓ \u001b[39m\u001b[90mImageContrastAdjustment\u001b[39m\n",
      "\u001b[32m  ✓ \u001b[39m\u001b[90mImageFiltering\u001b[39m\n",
      "\u001b[32m  ✓ \u001b[39m\u001b[90mImageQualityIndexes\u001b[39m\n",
      "\u001b[32m  ✓ \u001b[39m\u001b[90mImageSegmentation\u001b[39m\n",
      "\u001b[32m  ✓ \u001b[39mImages\n",
      "  53 dependencies successfully precompiled in 56 seconds (241 already precompiled, 3 skipped during auto due to previous errors)\n",
      "\u001b[32m\u001b[1m   Resolving\u001b[22m\u001b[39m package versions...\n",
      "\u001b[32m\u001b[1m   Installed\u001b[22m\u001b[39m FileIO ─ v1.14.0\n",
      "\u001b[32m\u001b[1m    Updating\u001b[22m\u001b[39m `C:\\Users\\Alexander\\.julia\\environments\\v1.7\\Project.toml`\n",
      " \u001b[90m [5789e2e9] \u001b[39m\u001b[92m+ FileIO v1.14.0\u001b[39m\n",
      "\u001b[32m\u001b[1m    Updating\u001b[22m\u001b[39m `C:\\Users\\Alexander\\.julia\\environments\\v1.7\\Manifest.toml`\n",
      " \u001b[90m [5789e2e9] \u001b[39m\u001b[93m↑ FileIO v1.13.0 ⇒ v1.14.0\u001b[39m\n",
      "\u001b[32m\u001b[1mPrecompiling\u001b[22m\u001b[39m project...\n",
      "\u001b[32m  ✓ \u001b[39mFileIO\n",
      "\u001b[32m  ✓ \u001b[39m\u001b[90mQOI\u001b[39m\n",
      "\u001b[32m  ✓ \u001b[39m\u001b[90mOpenEXR\u001b[39m\n",
      "\u001b[32m  ✓ \u001b[39m\u001b[90mImageShow\u001b[39m\n",
      "\u001b[32m  ✓ \u001b[39m\u001b[90mNetpbm\u001b[39m\n",
      "\u001b[32m  ✓ \u001b[39m\u001b[90mJpegTurbo\u001b[39m\n",
      "\u001b[32m  ✓ \u001b[39m\u001b[90mSixel\u001b[39m\n",
      "\u001b[32m  ✓ \u001b[39m\u001b[90mImageMagick\u001b[39m\n",
      "\u001b[32m  ✓ \u001b[39mRData\n",
      "\u001b[32m  ✓ \u001b[39m\u001b[90mJLD2\u001b[39m\n",
      "\u001b[32m  ✓ \u001b[39m\u001b[90mMetaGraphs\u001b[39m\n",
      "\u001b[32m  ✓ \u001b[39m\u001b[90mImageSegmentation\u001b[39m\n",
      "\u001b[32m  ✓ \u001b[39m\u001b[90mTiffImages\u001b[39m\n",
      "\u001b[32m  ✓ \u001b[39m\u001b[90mImageIO\u001b[39m\n",
      "\u001b[32m  ✓ \u001b[39mImages\n",
      "  15 dependencies successfully precompiled in 25 seconds (279 already precompiled, 3 skipped during auto due to previous errors)\n",
      "\u001b[32m\u001b[1m   Resolving\u001b[22m\u001b[39m package versions...\n",
      "\u001b[32m\u001b[1m   Installed\u001b[22m\u001b[39m CommonSolve ──────────── v0.2.0\n",
      "\u001b[32m\u001b[1m   Installed\u001b[22m\u001b[39m ConstructionBase ─────── v1.3.0\n",
      "\u001b[32m\u001b[1m   Installed\u001b[22m\u001b[39m Setfield ─────────────── v0.8.2\n",
      "\u001b[32m\u001b[1m   Installed\u001b[22m\u001b[39m Roots ────────────────── v1.4.1\n",
      "\u001b[32m\u001b[1m   Installed\u001b[22m\u001b[39m ClinicalTrialUtilities ─ v0.6.5\n",
      "\u001b[32m\u001b[1m    Updating\u001b[22m\u001b[39m `C:\\Users\\Alexander\\.julia\\environments\\v1.7\\Project.toml`\n",
      " \u001b[90m [535c2557] \u001b[39m\u001b[92m+ ClinicalTrialUtilities v0.6.5\u001b[39m\n",
      "\u001b[32m\u001b[1m    Updating\u001b[22m\u001b[39m `C:\\Users\\Alexander\\.julia\\environments\\v1.7\\Manifest.toml`\n",
      " \u001b[90m [535c2557] \u001b[39m\u001b[92m+ ClinicalTrialUtilities v0.6.5\u001b[39m\n",
      " \u001b[90m [38540f10] \u001b[39m\u001b[92m+ CommonSolve v0.2.0\u001b[39m\n",
      " \u001b[90m [187b0558] \u001b[39m\u001b[92m+ ConstructionBase v1.3.0\u001b[39m\n",
      " \u001b[90m [f2b01f46] \u001b[39m\u001b[92m+ Roots v1.4.1\u001b[39m\n",
      " \u001b[90m [efcf1570] \u001b[39m\u001b[92m+ Setfield v0.8.2\u001b[39m\n",
      "\u001b[32m\u001b[1mPrecompiling\u001b[22m\u001b[39m project...\n",
      "\u001b[32m  ✓ \u001b[39m\u001b[90mCommonSolve\u001b[39m\n",
      "\u001b[32m  ✓ \u001b[39m\u001b[90mConstructionBase\u001b[39m\n",
      "\u001b[32m  ✓ \u001b[39m\u001b[90mSetfield\u001b[39m\n",
      "\u001b[32m  ✓ \u001b[39m\u001b[90mRoots\u001b[39m\n",
      "\u001b[32m  ✓ \u001b[39mClinicalTrialUtilities\n",
      "  5 dependencies successfully precompiled in 10 seconds (294 already precompiled, 3 skipped during auto due to previous errors)\n",
      "\u001b[32m\u001b[1m   Resolving\u001b[22m\u001b[39m package versions...\n",
      "\u001b[32m\u001b[1m    Updating\u001b[22m\u001b[39m `C:\\Users\\Alexander\\.julia\\environments\\v1.7\\Project.toml`\n",
      " \u001b[90m [5ab0869b] \u001b[39m\u001b[92m+ KernelDensity v0.6.3\u001b[39m\n",
      "\u001b[32m\u001b[1m  No Changes\u001b[22m\u001b[39m to `C:\\Users\\Alexander\\.julia\\environments\\v1.7\\Manifest.toml`\n"
     ]
    },
    {
     "ename": "LoadError",
     "evalue": "UndefVarError: Conda not defined",
     "output_type": "error",
     "traceback": [
      "UndefVarError: Conda not defined",
      "",
      "Stacktrace:",
      " [1] top-level scope",
      "   @ In[1]:16",
      " [2] eval",
      "   @ .\\boot.jl:373 [inlined]",
      " [3] include_string(mapexpr::typeof(REPL.softscope), mod::Module, code::String, filename::String)",
      "   @ Base .\\loading.jl:1196"
     ]
    }
   ],
   "source": [
    "using Pkg\n",
    "Pkg.add(\"StatsPlots\")\n",
    "Pkg.add(\"GraphRecipes\")\n",
    "Pkg.add(\"Gadfly\")\n",
    "Pkg.add(\"Conda\")\n",
    "Pkg.add(\"Random\")\n",
    "Pkg.add(\"DataTables\")\n",
    "Pkg.add(\"TypedTables\")\n",
    "Pkg.add(\"MacroTools\")\n",
    "Pkg.add(\"TexTables\")\n",
    "Pkg.add(\"PlotlyJS\")\n",
    "Pkg.add(\"Images\")\n",
    "Pkg.add(\"FileIO\")\n",
    "Pkg.add(\"ClinicalTrialUtilities\")\n",
    "Pkg.add(\"KernelDensity\")\n",
    "Conda.pip_interop(true)\n",
    "Conda.pip(\"install\", \"webio_jupyter_extension\")"
   ]
  },
  {
   "cell_type": "code",
   "execution_count": 3,
   "metadata": {},
   "outputs": [
    {
     "ename": "LoadError",
     "evalue": "ArgumentError: Package FilePaths not found in current path:\n- Run `import Pkg; Pkg.add(\"FilePaths\")` to install the FilePaths package.\n",
     "output_type": "error",
     "traceback": [
      "ArgumentError: Package FilePaths not found in current path:\n- Run `import Pkg; Pkg.add(\"FilePaths\")` to install the FilePaths package.\n",
      "",
      "Stacktrace:",
      " [1] require(into::Module, mod::Symbol)",
      "   @ Base .\\loading.jl:967",
      " [2] eval",
      "   @ .\\boot.jl:373 [inlined]",
      " [3] include_string(mapexpr::typeof(REPL.softscope), mod::Module, code::String, filename::String)",
      "   @ Base .\\loading.jl:1196"
     ]
    }
   ],
   "source": [
    "using Pkg\n",
    "using Random\n",
    "using GLM, StatsModels\n",
    "using DataTables\n",
    "using DelimitedFiles, DataFrames, Lasso\n",
    "using FilePaths\n",
    "using StatsModels, Combinatorics\n",
    "using CategoricalArrays\n",
    "using StatsBase, Statistics\n",
    "using TypedTables\n",
    "using MacroTools\n",
    "using NamedArrays\n",
    "using PrettyTables # Dataframe or Datatable to latex\n",
    "using TexTables # pretty regression table and tex outcome\n",
    "using Plots\n",
    "using Conda\n",
    "using Images, FileIO\n",
    "using ClinicalTrialUtilities\n",
    "using PlotlyJS\n",
    "using KernelDensity"
   ]
  },
  {
   "cell_type": "code",
   "execution_count": 4,
   "metadata": {},
   "outputs": [],
   "source": [
    "include(\"../Julia_Notebooks/hdmjl/hdmjl.jl\")"
   ]
  },
  {
   "cell_type": "code",
   "execution_count": 5,
   "metadata": {},
   "outputs": [
    {
     "data": {
      "text/plain": [
       "100-element Vector{Float64}:\n",
       " 0.0\n",
       " 0.0\n",
       " 0.0\n",
       " 0.0\n",
       " 0.0\n",
       " 0.0\n",
       " 0.0\n",
       " 0.0\n",
       " 0.0\n",
       " 0.0\n",
       " 0.0\n",
       " 0.0\n",
       " 0.0\n",
       " ⋮\n",
       " 0.0\n",
       " 0.0\n",
       " 0.0\n",
       " 0.0\n",
       " 0.0\n",
       " 0.0\n",
       " 0.0\n",
       " 0.0\n",
       " 0.0\n",
       " 0.0\n",
       " 0.0\n",
       " 0.0"
      ]
     },
     "execution_count": 5,
     "metadata": {},
     "output_type": "execute_result"
    }
   ],
   "source": [
    "# Set seed\n",
    "Random.seed!(23)\n",
    "B = 100\n",
    "Naive = zeros(B)\n",
    "Orthogonal = zeros(B)"
   ]
  },
  {
   "cell_type": "markdown",
   "metadata": {},
   "source": [
    "# Alex Codigo "
   ]
  },
  {
   "cell_type": "code",
   "execution_count": 13,
   "metadata": {},
   "outputs": [
    {
     "data": {
      "text/plain": [
       "100×1 Matrix{Float64}:\n",
       "  1.9465928740744107\n",
       "  1.0470949000492142\n",
       " -0.6923732819672987\n",
       " -2.11573587609869\n",
       "  5.650613819330908\n",
       " -0.618872562995657\n",
       " -3.823463057568077\n",
       " -0.08987696651360463\n",
       "  0.37930646013249314\n",
       " -0.31469789979958507\n",
       " -2.3135754960711306\n",
       " -0.9681258167208283\n",
       " -1.0093868341964842\n",
       "  ⋮\n",
       " -1.1343919971362095\n",
       "  1.1002283091326253\n",
       " -3.2333322710382206\n",
       "  0.8140624950616596\n",
       "  1.7538276595942857\n",
       " -0.6438607018138709\n",
       "  2.173906042319409\n",
       " -0.38534718358008957\n",
       "  0.2154801702628668\n",
       "  1.8472581778140393\n",
       "  0.6474173422349816\n",
       " -2.919248914311051"
      ]
     },
     "execution_count": 13,
     "metadata": {},
     "output_type": "execute_result"
    }
   ],
   "source": [
    "n = 100\n",
    "p = 100\n",
    "beta =  reshape(( 1 ./ (1:p).^ 2 ),100,1)\n",
    "gamma = reshape(( 1 ./ (1:p).^ 2 ),100,1)\n",
    "\n",
    "# mean = 0\n",
    "sd = 1\n",
    "X = randn(( n, p ))\n",
    "\n",
    "D = ( X * gamma ) + reshape(randn(n),n, 1)/4 \n",
    "\n",
    "# DGP \n",
    "Y = D + ( X * beta ) + reshape(randn( n ), n, 1 )"
   ]
  },
  {
   "cell_type": "code",
   "execution_count": 14,
   "metadata": {},
   "outputs": [
    {
     "data": {
      "text/html": [
       "<div class=\"data-frame\"><p>100 rows × 1 columns</p><table class=\"data-frame\"><thead><tr><th></th><th>x1</th></tr><tr><th></th><th title=\"Float64\">Float64</th></tr></thead><tbody><tr><th>1</th><td>1.94659</td></tr><tr><th>2</th><td>1.04709</td></tr><tr><th>3</th><td>-0.692373</td></tr><tr><th>4</th><td>-2.11574</td></tr><tr><th>5</th><td>5.65061</td></tr><tr><th>6</th><td>-0.618873</td></tr><tr><th>7</th><td>-3.82346</td></tr><tr><th>8</th><td>-0.089877</td></tr><tr><th>9</th><td>0.379306</td></tr><tr><th>10</th><td>-0.314698</td></tr><tr><th>11</th><td>-2.31358</td></tr><tr><th>12</th><td>-0.968126</td></tr><tr><th>13</th><td>-1.00939</td></tr><tr><th>14</th><td>-0.928284</td></tr><tr><th>15</th><td>-1.85699</td></tr><tr><th>16</th><td>2.32708</td></tr><tr><th>17</th><td>-3.75521</td></tr><tr><th>18</th><td>-0.139248</td></tr><tr><th>19</th><td>3.7108</td></tr><tr><th>20</th><td>-0.892433</td></tr><tr><th>21</th><td>-3.20597</td></tr><tr><th>22</th><td>0.0139356</td></tr><tr><th>23</th><td>2.47939</td></tr><tr><th>24</th><td>5.08263</td></tr><tr><th>25</th><td>-2.18404</td></tr><tr><th>26</th><td>-1.94392</td></tr><tr><th>27</th><td>-1.36012</td></tr><tr><th>28</th><td>-4.49772</td></tr><tr><th>29</th><td>0.834318</td></tr><tr><th>30</th><td>0.440066</td></tr><tr><th>&vellip;</th><td>&vellip;</td></tr></tbody></table></div>"
      ],
      "text/latex": [
       "\\begin{tabular}{r|c}\n",
       "\t& x1\\\\\n",
       "\t\\hline\n",
       "\t& Float64\\\\\n",
       "\t\\hline\n",
       "\t1 & 1.94659 \\\\\n",
       "\t2 & 1.04709 \\\\\n",
       "\t3 & -0.692373 \\\\\n",
       "\t4 & -2.11574 \\\\\n",
       "\t5 & 5.65061 \\\\\n",
       "\t6 & -0.618873 \\\\\n",
       "\t7 & -3.82346 \\\\\n",
       "\t8 & -0.089877 \\\\\n",
       "\t9 & 0.379306 \\\\\n",
       "\t10 & -0.314698 \\\\\n",
       "\t11 & -2.31358 \\\\\n",
       "\t12 & -0.968126 \\\\\n",
       "\t13 & -1.00939 \\\\\n",
       "\t14 & -0.928284 \\\\\n",
       "\t15 & -1.85699 \\\\\n",
       "\t16 & 2.32708 \\\\\n",
       "\t17 & -3.75521 \\\\\n",
       "\t18 & -0.139248 \\\\\n",
       "\t19 & 3.7108 \\\\\n",
       "\t20 & -0.892433 \\\\\n",
       "\t21 & -3.20597 \\\\\n",
       "\t22 & 0.0139356 \\\\\n",
       "\t23 & 2.47939 \\\\\n",
       "\t24 & 5.08263 \\\\\n",
       "\t25 & -2.18404 \\\\\n",
       "\t26 & -1.94392 \\\\\n",
       "\t27 & -1.36012 \\\\\n",
       "\t28 & -4.49772 \\\\\n",
       "\t29 & 0.834318 \\\\\n",
       "\t30 & 0.440066 \\\\\n",
       "\t$\\dots$ & $\\dots$ \\\\\n",
       "\\end{tabular}\n"
      ],
      "text/plain": [
       "\u001b[1m100×1 DataFrame\u001b[0m\n",
       "\u001b[1m Row \u001b[0m│\u001b[1m x1        \u001b[0m\n",
       "\u001b[1m     \u001b[0m│\u001b[90m Float64   \u001b[0m\n",
       "─────┼───────────\n",
       "   1 │  1.94659\n",
       "   2 │  1.04709\n",
       "   3 │ -0.692373\n",
       "   4 │ -2.11574\n",
       "   5 │  5.65061\n",
       "   6 │ -0.618873\n",
       "   7 │ -3.82346\n",
       "   8 │ -0.089877\n",
       "   9 │  0.379306\n",
       "  10 │ -0.314698\n",
       "  11 │ -2.31358\n",
       "  ⋮  │     ⋮\n",
       "  91 │ -3.23333\n",
       "  92 │  0.814062\n",
       "  93 │  1.75383\n",
       "  94 │ -0.643861\n",
       "  95 │  2.17391\n",
       "  96 │ -0.385347\n",
       "  97 │  0.21548\n",
       "  98 │  1.84726\n",
       "  99 │  0.647417\n",
       " 100 │ -2.91925\n",
       "\u001b[36m  79 rows omitted\u001b[0m"
      ]
     },
     "execution_count": 14,
     "metadata": {},
     "output_type": "execute_result"
    }
   ],
   "source": [
    "D = DataFrame(D, :auto)\n",
    "X = DataFrame(X,:auto)\n",
    "Y =  DataFrame(Y,:auto)"
   ]
  },
  {
   "cell_type": "code",
   "execution_count": 15,
   "metadata": {},
   "outputs": [
    {
     "data": {
      "text/plain": [
       "Dict{String, Any} with 19 entries:\n",
       "  \"tss\"          => 556.821\n",
       "  \"dev\"          => [2.11013, 1.21063, -0.528835, -1.9522, 5.81415, -0.455334, …\n",
       "  \"model\"        => [0.253488; 0.903214; … ; 0.407141; -0.762377;;]\n",
       "  \"loadings\"     => [0.892037;;]\n",
       "  \"sigma\"        => [1.08719]\n",
       "  \"lambda0\"      => 50.4971\n",
       "  \"lambda\"       => \u001b[1m1×2 DataFrame\u001b[0m…\n",
       "  \"intercept\"    => 0.096663\n",
       "  \"Xy\"           => [194.541]\n",
       "  \"iter\"         => 3\n",
       "  \"residuals\"    => [1.53706, -0.831296, 0.184907, -1.25922, 0.312366, 0.906997…\n",
       "  \"rss\"          => 556.821\n",
       "  \"index\"        => Bool[1]\n",
       "  \"beta\"         => \u001b[1m1×2 DataFrame\u001b[0m…\n",
       "  \"options\"      => Dict{String, Any}(\"intercept\"=>true, \"post\"=>true, \"meanx\"=…\n",
       "  \"x1\"           => [0.253488; 0.903214; … ; 0.407141; -0.762377;;]\n",
       "  \"pen\"          => Dict{String, Any}(\"lambda0\"=>50.4971, \"lambda\"=>[45.0453;;]…\n",
       "  \"startingval\"  => [1.53706, -0.831296, 0.184907, -1.25922, 0.312366, 0.906997…\n",
       "  \"coefficients\" => \u001b[1m2×2 DataFrame\u001b[0m…"
      ]
     },
     "execution_count": 15,
     "metadata": {},
     "output_type": "execute_result"
    }
   ],
   "source": [
    "# Y =  convert(DataFrame,Y)\n",
    "# rename!(Y,:x1 => :Y)\n",
    "# D = convert(DataFrame,D)\n",
    "# rename!(D,:x1 => :D)\n",
    "# X = convert(DataFrame,X)\n",
    "\n",
    "r_lasso_estimation = rlasso_arg( D , Y , nothing, true, true, true, false, false, \n",
    "                    nothing, 1.1, nothing, 5000, 15, 10^(-5), -Inf, true, Inf, true ) # Regress main equation by lasso\n",
    "coef_array = rlasso(r_lasso_estimation)"
   ]
  },
  {
   "cell_type": "code",
   "execution_count": null,
   "metadata": {},
   "outputs": [],
   "source": []
  },
  {
   "cell_type": "code",
   "execution_count": null,
   "metadata": {},
   "outputs": [],
   "source": [
    "SX_IDs  = findall(x-> x != 0,coef_array)"
   ]
  },
  {
   "cell_type": "markdown",
   "metadata": {},
   "source": [
    "###  <span style=\"color:red\">Error</span>"
   ]
  },
  {
   "cell_type": "code",
   "execution_count": null,
   "metadata": {},
   "outputs": [],
   "source": []
  },
  {
   "cell_type": "code",
   "execution_count": null,
   "metadata": {},
   "outputs": [],
   "source": []
  },
  {
   "cell_type": "code",
   "execution_count": null,
   "metadata": {},
   "outputs": [],
   "source": []
  },
  {
   "cell_type": "code",
   "execution_count": null,
   "metadata": {},
   "outputs": [],
   "source": []
  },
  {
   "cell_type": "code",
   "execution_count": null,
   "metadata": {},
   "outputs": [],
   "source": []
  },
  {
   "cell_type": "code",
   "execution_count": 4,
   "metadata": {},
   "outputs": [
    {
     "ename": "LoadError",
     "evalue": "MethodError: no method matching DataFrame(::Vector{Vector{T} where T}, ::Symbol)\n\u001b[0mClosest candidates are:\n\u001b[0m  DataFrame(::AbstractVector{var\"#s18\"} where var\"#s18\"<:(AbstractVector{T} where T), \u001b[91m::AbstractVector{Symbol}\u001b[39m; makeunique, copycols) at C:\\Users\\JARVIS\\.julia\\packages\\DataFrames\\GtZ1l\\src\\dataframe\\dataframe.jl:242\n\u001b[0m  DataFrame(::AbstractVector{var\"#s19\"} where var\"#s19\"<:(AbstractVector{T} where T), \u001b[91m::AbstractVector{var\"#s18\"} where var\"#s18\"<:AbstractString\u001b[39m; makeunique, copycols) at C:\\Users\\JARVIS\\.julia\\packages\\DataFrames\\GtZ1l\\src\\dataframe\\dataframe.jl:249\n\u001b[0m  DataFrame(::AbstractVector{T} where T, \u001b[91m::AbstractVector{var\"#s20\"} where var\"#s20\"<:AbstractString\u001b[39m; makeunique, copycols) at C:\\Users\\JARVIS\\.julia\\packages\\DataFrames\\GtZ1l\\src\\dataframe\\dataframe.jl:237\n\u001b[0m  ...",
     "output_type": "error",
     "traceback": [
      "MethodError: no method matching DataFrame(::Vector{Vector{T} where T}, ::Symbol)\n\u001b[0mClosest candidates are:\n\u001b[0m  DataFrame(::AbstractVector{var\"#s18\"} where var\"#s18\"<:(AbstractVector{T} where T), \u001b[91m::AbstractVector{Symbol}\u001b[39m; makeunique, copycols) at C:\\Users\\JARVIS\\.julia\\packages\\DataFrames\\GtZ1l\\src\\dataframe\\dataframe.jl:242\n\u001b[0m  DataFrame(::AbstractVector{var\"#s19\"} where var\"#s19\"<:(AbstractVector{T} where T), \u001b[91m::AbstractVector{var\"#s18\"} where var\"#s18\"<:AbstractString\u001b[39m; makeunique, copycols) at C:\\Users\\JARVIS\\.julia\\packages\\DataFrames\\GtZ1l\\src\\dataframe\\dataframe.jl:249\n\u001b[0m  DataFrame(::AbstractVector{T} where T, \u001b[91m::AbstractVector{var\"#s20\"} where var\"#s20\"<:AbstractString\u001b[39m; makeunique, copycols) at C:\\Users\\JARVIS\\.julia\\packages\\DataFrames\\GtZ1l\\src\\dataframe\\dataframe.jl:237\n\u001b[0m  ...",
      "",
      "Stacktrace:",
      " [1] rlasso(self::rlasso_arg)",
      "   @ Main C:\\Users\\JARVIS\\Documents\\GitHub\\ECO224\\Labs\\Julia_Notebooks\\hdmjl\\hdmjl.jl:668",
      " [2] top-level scope",
      "   @ In[4]:33",
      " [3] eval",
      "   @ .\\boot.jl:360 [inlined]",
      " [4] include_string(mapexpr::typeof(REPL.softscope), mod::Module, code::String, filename::String)",
      "   @ Base .\\loading.jl:1116"
     ]
    }
   ],
   "source": [
    "n = 100\n",
    "p = 100\n",
    "beta =  reshape(( 1 ./ (1:p).^ 2 ),100,1)\n",
    "gamma = reshape(( 1 ./ (1:p).^ 2 ),100,1)\n",
    "\n",
    "# mean = 0\n",
    "sd = 1\n",
    "X = randn(( n, p ))\n",
    "\n",
    "D = ( X * gamma ) + reshape(randn(n),n, 1)/4 \n",
    "\n",
    "# DGP \n",
    "Y = D + ( X * beta ) + reshape(randn( n ), n, 1 )\n",
    "\n",
    "\n",
    "D = convert(DataFrame,D)\n",
    "rename!(D,:x1 => :D)\n",
    "X = convert(DataFrame,X)\n",
    "Y =  convert(DataFrame,Y)\n",
    "rename!(Y,:x1 => :Y)\n",
    "\n",
    "DX = hcat( D , X)\n",
    "YD = hcat( Y , D)\n",
    "\n",
    "# Y =  convert(DataFrame,Y)\n",
    "# rename!(Y,:x1 => :Y)\n",
    "# D = convert(DataFrame,D)\n",
    "# rename!(D,:x1 => :D)\n",
    "# X = convert(DataFrame,X)\n",
    "\n",
    "r_lasso_estimation = rlasso_arg( DX , Y , nothing, true, true, true, false, false, \n",
    "                    nothing, 1.1, nothing, 5000, 15, 10^(-5), -Inf, true, Inf, true ) # Regress main equation by lasso\n",
    "coef_array = rlasso(r_lasso_estimation)[\"beta\"][2:end,2]\n",
    "SX_IDs  = findall(x-> x != 0,coef_array)"
   ]
  },
  {
   "cell_type": "markdown",
   "metadata": {},
   "source": [
    "###  <span style=\"color:red\">Son dataframes</span>"
   ]
  },
  {
   "cell_type": "code",
   "execution_count": 5,
   "metadata": {},
   "outputs": [
    {
     "data": {
      "text/plain": [
       "(DataFrame, DataFrame)"
      ]
     },
     "execution_count": 5,
     "metadata": {},
     "output_type": "execute_result"
    }
   ],
   "source": [
    "typeof(Y),typeof(DX)"
   ]
  },
  {
   "cell_type": "code",
   "execution_count": 6,
   "metadata": {},
   "outputs": [
    {
     "data": {
      "text/plain": [
       "rlasso_arg(100×101 DataFrame. Omitted printing of 96 columns\n",
       "│ Row │ D          │ x1         │ x2        │ x3        │ x4        │\n",
       "│     │ \u001b[90mFloat64\u001b[39m    │ \u001b[90mFloat64\u001b[39m    │ \u001b[90mFloat64\u001b[39m   │ \u001b[90mFloat64\u001b[39m   │ \u001b[90mFloat64\u001b[39m   │\n",
       "├─────┼────────────┼────────────┼───────────┼───────────┼───────────┤\n",
       "│ 1   │ -0.353761  │ 0.289581   │ -0.953054 │ 1.83341   │ -0.745618 │\n",
       "│ 2   │ -0.371052  │ -0.638607  │ 0.685025  │ 1.94144   │ -0.677401 │\n",
       "│ 3   │ 0.701629   │ 0.443883   │ 1.62411   │ 1.05002   │ 0.934413  │\n",
       "│ 4   │ 1.76462    │ 1.87079    │ -0.164695 │ -1.37862  │ -0.227641 │\n",
       "│ 5   │ -0.233734  │ -0.115     │ -0.532952 │ 0.0655356 │ 0.65679   │\n",
       "│ 6   │ 0.92019    │ 0.870427   │ 0.415723  │ 1.95379   │ -0.904642 │\n",
       "│ 7   │ -1.49862   │ -1.81103   │ 0.500987  │ 0.591362  │ 0.656447  │\n",
       "│ 8   │ 0.593295   │ 0.0349133  │ 2.75274   │ -1.32453  │ -1.87789  │\n",
       "│ 9   │ -0.0302368 │ -0.302082  │ 0.738428  │ -0.335426 │ -2.14037  │\n",
       "│ 10  │ 1.52456    │ 1.53132    │ 0.313429  │ 0.0812106 │ 1.33983   │\n",
       "⋮\n",
       "│ 90  │ -1.98485   │ -1.48835   │ -1.78022  │ 1.62054   │ -0.877997 │\n",
       "│ 91  │ -0.287558  │ -0.0822858 │ -0.793089 │ 1.60646   │ 0.569351  │\n",
       "│ 92  │ 1.33056    │ 1.44607    │ -0.222036 │ 1.64546   │ 0.052624  │\n",
       "│ 93  │ -1.26135   │ -1.27926   │ 0.595329  │ -0.55304  │ -0.138636 │\n",
       "│ 94  │ 1.88879    │ 2.08699    │ 0.0458823 │ -1.07672  │ 1.082     │\n",
       "│ 95  │ 0.685234   │ 1.01871    │ -0.424743 │ -1.14035  │ -2.93772  │\n",
       "│ 96  │ 0.155868   │ 0.279289   │ 0.238598  │ 0.806803  │ 0.844372  │\n",
       "│ 97  │ -0.440967  │ -0.562027  │ 1.19072   │ -1.20291  │ 0.197127  │\n",
       "│ 98  │ 0.604421   │ -0.212596  │ 0.957243  │ 0.59556   │ 2.05231   │\n",
       "│ 99  │ 1.43312    │ 1.58174    │ -1.14457  │ 1.31459   │ -0.192523 │\n",
       "│ 100 │ 1.37132    │ 1.21945    │ 0.58132   │ 2.33122   │ 0.662079  │, 100×1 DataFrame\n",
       "│ Row │ Y           │\n",
       "│     │ \u001b[90mFloat64\u001b[39m     │\n",
       "├─────┼─────────────┤\n",
       "│ 1   │ 0.964047    │\n",
       "│ 2   │ -0.76799    │\n",
       "│ 3   │ 1.01629     │\n",
       "│ 4   │ 2.26623     │\n",
       "│ 5   │ -0.300384   │\n",
       "│ 6   │ 4.10377     │\n",
       "│ 7   │ -2.65812    │\n",
       "│ 8   │ 0.559845    │\n",
       "│ 9   │ -0.00894549 │\n",
       "│ 10  │ 1.78483     │\n",
       "⋮\n",
       "│ 90  │ -6.32958    │\n",
       "│ 91  │ -1.99941    │\n",
       "│ 92  │ -0.11696    │\n",
       "│ 93  │ -1.76051    │\n",
       "│ 94  │ 3.21993     │\n",
       "│ 95  │ 1.92371     │\n",
       "│ 96  │ 1.48214     │\n",
       "│ 97  │ -1.47271    │\n",
       "│ 98  │ 1.19597     │\n",
       "│ 99  │ 3.25901     │\n",
       "│ 100 │ 3.35931     │, nothing, true, true, true, false, false, nothing, 1.1, nothing, 5000, 15, 1.0000000000000003e-5, -Inf, true, Inf, true)"
      ]
     },
     "execution_count": 6,
     "metadata": {},
     "output_type": "execute_result"
    }
   ],
   "source": [
    "#Esta parte sí corre\n",
    "r_lasso_estimation"
   ]
  },
  {
   "cell_type": "code",
   "execution_count": 5,
   "metadata": {
    "scrolled": true
   },
   "outputs": [
    {
     "ename": "LoadError",
     "evalue": "MethodError: no method matching DataFrame(::Vector{Vector{T} where T}, ::Symbol)\n\u001b[0mClosest candidates are:\n\u001b[0m  DataFrame(::AbstractVector{var\"#s18\"} where var\"#s18\"<:(AbstractVector{T} where T), \u001b[91m::AbstractVector{Symbol}\u001b[39m; makeunique, copycols) at C:\\Users\\JARVIS\\.julia\\packages\\DataFrames\\GtZ1l\\src\\dataframe\\dataframe.jl:242\n\u001b[0m  DataFrame(::AbstractVector{var\"#s19\"} where var\"#s19\"<:(AbstractVector{T} where T), \u001b[91m::AbstractVector{var\"#s18\"} where var\"#s18\"<:AbstractString\u001b[39m; makeunique, copycols) at C:\\Users\\JARVIS\\.julia\\packages\\DataFrames\\GtZ1l\\src\\dataframe\\dataframe.jl:249\n\u001b[0m  DataFrame(::AbstractVector{T} where T, \u001b[91m::AbstractVector{var\"#s20\"} where var\"#s20\"<:AbstractString\u001b[39m; makeunique, copycols) at C:\\Users\\JARVIS\\.julia\\packages\\DataFrames\\GtZ1l\\src\\dataframe\\dataframe.jl:237\n\u001b[0m  ...",
     "output_type": "error",
     "traceback": [
      "MethodError: no method matching DataFrame(::Vector{Vector{T} where T}, ::Symbol)\n\u001b[0mClosest candidates are:\n\u001b[0m  DataFrame(::AbstractVector{var\"#s18\"} where var\"#s18\"<:(AbstractVector{T} where T), \u001b[91m::AbstractVector{Symbol}\u001b[39m; makeunique, copycols) at C:\\Users\\JARVIS\\.julia\\packages\\DataFrames\\GtZ1l\\src\\dataframe\\dataframe.jl:242\n\u001b[0m  DataFrame(::AbstractVector{var\"#s19\"} where var\"#s19\"<:(AbstractVector{T} where T), \u001b[91m::AbstractVector{var\"#s18\"} where var\"#s18\"<:AbstractString\u001b[39m; makeunique, copycols) at C:\\Users\\JARVIS\\.julia\\packages\\DataFrames\\GtZ1l\\src\\dataframe\\dataframe.jl:249\n\u001b[0m  DataFrame(::AbstractVector{T} where T, \u001b[91m::AbstractVector{var\"#s20\"} where var\"#s20\"<:AbstractString\u001b[39m; makeunique, copycols) at C:\\Users\\JARVIS\\.julia\\packages\\DataFrames\\GtZ1l\\src\\dataframe\\dataframe.jl:237\n\u001b[0m  ...",
      "",
      "Stacktrace:",
      " [1] rlasso(self::rlasso_arg)",
      "   @ Main C:\\Users\\JARVIS\\Documents\\GitHub\\ECO224\\Labs\\Julia_Notebooks\\hdmjl\\hdmjl.jl:668",
      " [2] top-level scope",
      "   @ In[5]:34",
      " [3] eval",
      "   @ .\\boot.jl:360 [inlined]",
      " [4] include_string(mapexpr::typeof(REPL.softscope), mod::Module, code::String, filename::String)",
      "   @ Base .\\loading.jl:1116"
     ]
    }
   ],
   "source": [
    "for i in 1:B\n",
    "    n = 100\n",
    "    p = 100\n",
    "    beta =  reshape(( 1 ./ (1:p).^ 2 ),100,1)\n",
    "    gamma = reshape(( 1 ./ (1:p).^ 2 ),100,1)\n",
    "\n",
    "    # mean = 0\n",
    "    sd = 1\n",
    "    X = randn(( n, p ))\n",
    "\n",
    "    D = ( X * gamma ) + reshape(randn(n),n, 1)/4 \n",
    "\n",
    "    # DGP \n",
    "    Y = D + ( X * beta ) + reshape(randn( n ), n, 1 )\n",
    "\n",
    "\n",
    "    D = convert(DataFrame,D)\n",
    "    rename!(D,:x1 => :D)\n",
    "    X = convert(DataFrame,X)\n",
    "    Y =  convert(DataFrame,Y)\n",
    "    rename!(Y,:x1 => :Y)\n",
    "\n",
    "    DX = hcat( D , X)\n",
    "    YD = hcat( Y , D)\n",
    "\n",
    "    # Y =  convert(DataFrame,Y)\n",
    "    # rename!(Y,:x1 => :Y)\n",
    "    # D = convert(DataFrame,D)\n",
    "    # rename!(D,:x1 => :D)\n",
    "    # X = convert(DataFrame,X)\n",
    "\n",
    "    r_lasso_estimation = rlasso_arg( DX , Y , nothing, true, true, true, false, false, \n",
    "                        nothing, 1.1, nothing, 5000, 15, 10^(-5), -Inf, true, Inf, true ) # Regress main equation by lasso\n",
    "    coef_array = rlasso(r_lasso_estimation)[\"beta\"][2:end,2]\n",
    "    SX_IDs  = findall(x-> x != 0,coef_array)\n",
    "\n",
    "    # In case all X coefficients are zero, then regress Y on D\n",
    "    if sum(SX_IDs) == 0 \n",
    "        reg = lm( @formula(Y ~ D), YD )\n",
    "        Naive[i] = GLM.coeftable(reg).cols[1,1][2]\n",
    "\n",
    "    # Otherwise, then regress Y on X and D (but only in the selected coefficients)\n",
    "    elseif sum( SX_IDs ) > 0\n",
    "        X_D = hcat(Y, D, X[:, SX_IDs ],makeunique=true ) \n",
    "        rename!(X_D,:x1 => :Y)\n",
    "        rename!(X_D,:x1_1 => :D)\n",
    "        rename!(X_D,:x1_2 => :X)\n",
    "        reg = lm( @formula(Y ~ D+X),X_D )\n",
    "        Naive[ i ] = GLM.coeftable(reg).cols[1,1][2]\n",
    "    end\n",
    "    # In both cases we save D coefficient\n",
    "\n",
    "    # Regress residuals. \n",
    "    regY = rlasso_arg( X , Y , nothing, true, false, true, false, false, \n",
    "                        nothing, 1.1, nothing, 5000, 15, 10^(-5), -Inf, true, Inf, true )\n",
    "    resY = rlasso(regY)[\"residuals\"]\n",
    "\n",
    "    regD = rlasso_arg( X , D , nothing, true, false, true, false, false, \n",
    "                        nothing, 1.1, nothing, 5000, 15, 10^(-5), -Inf, true, Inf, true )\n",
    "    resD = rlasso(regD)[\"residuals\"]\n",
    "\n",
    "    eYeD = convert(DataFrame,hcat( resY , resD))\n",
    "    rename!(eYeD,:x1 => :resY)\n",
    "    rename!(eYeD,:x2 => :resD)\n",
    "\n",
    "    res_reg= lm( @formula(resY ~ resD), eYeD)\n",
    "    Orthogonal[ i ] = GLM.coeftable(reg).cols[1,1][2]\n",
    "        \n",
    "    end"
   ]
  },
  {
   "cell_type": "code",
   "execution_count": null,
   "metadata": {},
   "outputs": [],
   "source": []
  },
  {
   "cell_type": "code",
   "execution_count": null,
   "metadata": {},
   "outputs": [],
   "source": []
  },
  {
   "cell_type": "markdown",
   "metadata": {},
   "source": [
    "# <span style=\"color:blue\">Application: Heterogeneous Effect of Gender on Wage Using Double Lasso</span> "
   ]
  },
  {
   "cell_type": "markdown",
   "metadata": {},
   "source": [
    "We use US census data from the year 2012 to analyse the effect of gender and interaction effects of other variables with gender on wage jointly. The dependent variable is the logarithm of the wage, the target variable is female (in combination with other variables). All other variables denote some other socio-economic characteristics, e.g. marital status, education, and experience. For a detailed description of the variables we refer to the help page.\n",
    "\n",
    "This analysis allows a closer look how discrimination according to gender is related to other socio-economic variables."
   ]
  },
  {
   "cell_type": "code",
   "execution_count": null,
   "metadata": {},
   "outputs": [],
   "source": [
    "using RData, LinearAlgebra, GLM, DataFrames, Statistics, Random, Distributions, \n",
    "DataStructures, NamedArrays, PrettyTables, StatsModels, Combinatorics\n",
    "\n",
    "import CodecBzip2"
   ]
  },
  {
   "cell_type": "code",
   "execution_count": null,
   "metadata": {},
   "outputs": [],
   "source": [
    "# Importing .Rdata file\n",
    "\n",
    "cps2012 = load(\"GitHub/ECO224/data/cps2012.RData\")"
   ]
  },
  {
   "cell_type": "code",
   "execution_count": null,
   "metadata": {},
   "outputs": [],
   "source": [
    "keys(cps2012)   # get information from key"
   ]
  },
  {
   "cell_type": "code",
   "execution_count": null,
   "metadata": {},
   "outputs": [],
   "source": [
    "cps2012 = cps2012[\"data\"]\n",
    "\n",
    "names(cps2012)"
   ]
  },
  {
   "cell_type": "code",
   "execution_count": null,
   "metadata": {},
   "outputs": [],
   "source": [
    "# couples variables combinations \n",
    "    combinations_upto(x, n) = Iterators.flatten(combinations(x, i) for i in 1:n)\n",
    "\n",
    "    # combinations without same couple\n",
    "    expand_exp(args, deg::ConstantTerm) =\n",
    "        tuple(((&)(terms...) for terms in combinations_upto(args, deg.n))...)\n",
    "\n",
    "    StatsModels.apply_schema(t::FunctionTerm{typeof(^)}, sch::StatsModels.Schema, ctx::Type) =\n",
    "        apply_schema.(expand_exp(t.args_parsed...), Ref(sch), ctx)"
   ]
  },
  {
   "cell_type": "code",
   "execution_count": null,
   "metadata": {},
   "outputs": [],
   "source": [
    "# Basic model \n",
    "\n",
    "\n",
    "reg = @formula(lnw ~ -1 + female + female&(widowed + divorced + separated + nevermarried +\n",
    "hsd08 + hsd911 + hsg + cg + ad + mw + so + we + exp1 + exp2 + exp3) + (widowed +\n",
    "divorced + separated + nevermarried + hsd08 + hsd911 + hsg + cg + ad + mw + so +\n",
    "we + exp1 + exp2 + exp3)^2 )\n",
    "\n",
    "\n",
    "formula_basic = apply_schema(reg, schema(reg, cps2012))"
   ]
  },
  {
   "cell_type": "code",
   "execution_count": null,
   "metadata": {},
   "outputs": [],
   "source": [
    "formula_basic"
   ]
  },
  {
   "cell_type": "code",
   "execution_count": null,
   "metadata": {},
   "outputs": [],
   "source": [
    "coefnames(formula_basic)"
   ]
  },
  {
   "cell_type": "code",
   "execution_count": null,
   "metadata": {},
   "outputs": [],
   "source": [
    "Y = select(cps2012,:lnw)  # uptcome variable\n",
    "control = coefnames(formula_basic)[2]  # regresors control \n",
    "names_col = Symbol.(control)  # string to Symbol to create varaible's name"
   ]
  },
  {
   "cell_type": "code",
   "execution_count": null,
   "metadata": {},
   "outputs": [],
   "source": [
    "X = StatsModels.modelmatrix(formula_basic,cps2012)"
   ]
  },
  {
   "cell_type": "code",
   "execution_count": null,
   "metadata": {},
   "outputs": [],
   "source": [
    "X = DataFrame(X, names_col)"
   ]
  },
  {
   "cell_type": "code",
   "execution_count": null,
   "metadata": {},
   "outputs": [],
   "source": [
    "# Function to get index of constant columns   \n",
    "\n",
    "cons_column = []\n",
    "\n",
    "\n",
    "for i in 1:size(X,2)\n",
    "    if var(X[!,i]) == 0\n",
    "        append!(cons_column  , i)      \n",
    "    end       \n",
    "end"
   ]
  },
  {
   "cell_type": "code",
   "execution_count": null,
   "metadata": {},
   "outputs": [],
   "source": [
    "# Drop constant columns \n",
    "\n",
    "names(X)[cons_column]\n",
    "select!(X, Not(names(X)[cons_column]))"
   ]
  },
  {
   "cell_type": "code",
   "execution_count": null,
   "metadata": {},
   "outputs": [],
   "source": [
    "# demean function\n",
    "function desv_mean(a)\n",
    "    a = Matrix(a)   # dataframe to matrix \n",
    "    A = mean(a, dims = 1)\n",
    "    M = zeros(Float64, size(X,1), size(X,2))\n",
    "    \n",
    "    for i in 1:size(a,2)\n",
    "          M[:,i] = a[:,i] .- A[i]\n",
    "    end\n",
    "    \n",
    "    return M\n",
    "end    \n",
    "\n",
    "\n",
    "# Matrix Model & demean\n",
    "\n",
    "X = DataFrame(desv_mean(X), names(X)) # Dataframe and names"
   ]
  },
  {
   "cell_type": "code",
   "execution_count": null,
   "metadata": {},
   "outputs": [],
   "source": [
    "# index to get columns that contains female\n",
    "\n",
    "index = []\n",
    "\n",
    "for i in 1:size(X,2)  \n",
    "        if contains( names(X)[i] , \"female\")\n",
    "            append!(index, i)\n",
    "        end  \n",
    "end"
   ]
  },
  {
   "cell_type": "code",
   "execution_count": null,
   "metadata": {},
   "outputs": [],
   "source": [
    "# Control variables \n",
    "\n",
    "W = select(X, Not(names(X)[index]))"
   ]
  },
  {
   "cell_type": "markdown",
   "metadata": {},
   "source": [
    "## HDM package"
   ]
  },
  {
   "cell_type": "code",
   "execution_count": null,
   "metadata": {},
   "outputs": [],
   "source": [
    "table = NamedArray(zeros(16, 2))\n",
    "\n",
    "j = 0\n",
    "\n",
    "for i in 1:length(index)\n",
    "\n",
    "j = j + 1\n",
    "    \n",
    "#first step\n",
    "D = select(X, names(X)[index[i]])\n",
    "    \n",
    "D_reg_0  = rlasso_arg( W, D, nothing, true, true, true, false, false, \n",
    "                    nothing, 1.1, nothing, 5000, 15, 10^(-5), -Inf, true, Inf, true )\n",
    "\n",
    "\n",
    "D_resid[!,j] = rlasso(D_reg_0)[\"residuals\"]\n",
    "\n",
    "#second step\n",
    "    \n",
    "# third step\n",
    "    \n",
    "#Lasso_HDM = lm(D_resid, Y_resid)\n",
    "\n",
    "#table[j,1] = GLM.coeftable(Lasso_HDM).cols[5][1]\n",
    "#table[j,2] = GLM.coeftable(Lasso_HDM).cols[6][1]\n",
    "\n",
    "    \n",
    "end"
   ]
  },
  {
   "cell_type": "code",
   "execution_count": null,
   "metadata": {},
   "outputs": [],
   "source": []
  },
  {
   "cell_type": "code",
   "execution_count": null,
   "metadata": {},
   "outputs": [],
   "source": []
  },
  {
   "cell_type": "markdown",
   "metadata": {},
   "source": [
    "# <span style=\"color:blue\">Double Lasso - Testing the Convergence Hypothesis </span> "
   ]
  },
  {
   "cell_type": "markdown",
   "metadata": {},
   "source": [
    "## Introduction"
   ]
  },
  {
   "cell_type": "markdown",
   "metadata": {},
   "source": [
    "We provide an additional empirical example of partialling-out with Lasso to estimate the regression coefficient $\\beta$ in the high-dimensional linear regression model:\n",
    "\n",
    "$$ Y = \\beta_1 D + \\beta_2^{'}W + \\epsilon $$\n",
    "\n",
    "Specifically, we are interested in how the rates at which economies of different countries grow ($Y$) are related to the initial wealth levels in each country ($D$) controlling for country's institutional, educational, and other similar characteristics ($W$).\n",
    "\n",
    "The relationship is captured by $\\beta_1$, the speed of convergence/divergence, which measures the speed at which poor countries catch up ($\\beta_1$<0) or fall behind ($\\beta_2$>0) rich countries, after controlling for $W$ . Our inference question here is: do poor countries grow faster than rich countries, controlling for educational and other characteristics? In other words, is the speed of convergence negative: $\\beta_1$<0? This is the Convergence Hypothesis predicted by the Solow Growth Model. This is a structural economic model. Under some strong assumptions, that we won't state here, the predictive exercise we are doing here can be given causal interpretation.\n",
    "\n",
    "The outcome $Y$ is the realized annual growth rate of a country's wealth (Gross Domestic Product per capita). The target regressor ($D$) is the initial level of the country's wealth. The target parameter $\\beta_1$ is the speed of convergence, which measures the speed at which poor countries catch up with rich countries. The controls ($W$) include measures of education levels, quality of institutions, trade openness, and political stability in the country."
   ]
  },
  {
   "cell_type": "markdown",
   "metadata": {},
   "source": [
    "## Data analysis"
   ]
  },
  {
   "cell_type": "markdown",
   "metadata": {},
   "source": [
    "We consider the data set GrowthData which is included in the package hdm. First, let us load the data set to get familiar with the data."
   ]
  },
  {
   "cell_type": "code",
   "execution_count": null,
   "metadata": {},
   "outputs": [],
   "source": [
    "import Pkg\n",
    "Pkg.add(\"RData\")\n",
    "Pkg.add(\"CodecBzip2\")\n",
    "Pkg.add(\"DataStructures\")\n",
    "Pkg.add(\"NamedArrays\")\n",
    "Pkg.add(\"PrettyTables\")\n",
    "Pkg.add(\"Lasso\")"
   ]
  },
  {
   "cell_type": "code",
   "execution_count": null,
   "metadata": {},
   "outputs": [],
   "source": [
    "using RData, LinearAlgebra, GLM, DataFrames, Statistics, Random, Distributions, DataStructures, NamedArrays, PrettyTables\n",
    "import CodecBzip2"
   ]
  },
  {
   "cell_type": "code",
   "execution_count": null,
   "metadata": {},
   "outputs": [],
   "source": [
    "# Importing .Rdata file\n",
    "growth_read = load(\"GitHub/ECO224/data/GrowthData.RData\")"
   ]
  },
  {
   "cell_type": "code",
   "execution_count": null,
   "metadata": {},
   "outputs": [],
   "source": [
    "# Since growth_read is a dictionary, we check if there is a key called \"GrowthData\", the one we need for our analyze\n",
    "haskey(growth_read, \"GrowthData\")"
   ]
  },
  {
   "cell_type": "code",
   "execution_count": null,
   "metadata": {},
   "outputs": [],
   "source": [
    "# Now we save that dataframe with a new name\n",
    "growth = growth_read[\"GrowthData\"]\n",
    "names(growth)"
   ]
  },
  {
   "cell_type": "markdown",
   "metadata": {},
   "source": [
    "We determine the type and the dimension of our data set."
   ]
  },
  {
   "cell_type": "code",
   "execution_count": null,
   "metadata": {},
   "outputs": [],
   "source": [
    "typeof(growth), size(growth)"
   ]
  },
  {
   "cell_type": "markdown",
   "metadata": {},
   "source": [
    "The sample contains $90$ countries and $63$ controls. Thus $p \\approx 60$, $n=90$ and $p/n$ is not small. We expect the least squares method to provide a poor estimate of $\\beta_1$. We expect the method based on partialling-out with Lasso to provide a high quality estimate of $\\beta_1$.\n",
    "\n",
    "To check this hypothesis, we analyze the relation between the output variable $Y$ and the other country's characteristics by running a linear regression in the first step."
   ]
  },
  {
   "cell_type": "code",
   "execution_count": null,
   "metadata": {},
   "outputs": [],
   "source": [
    "y = growth[!, \"Outcome\"]\n",
    "y = DataFrame([y], [:y])"
   ]
  },
  {
   "cell_type": "code",
   "execution_count": null,
   "metadata": {},
   "outputs": [],
   "source": [
    "X = select(growth, Not([\"Outcome\"]))"
   ]
  },
  {
   "cell_type": "code",
   "execution_count": null,
   "metadata": {},
   "outputs": [],
   "source": [
    "data = [y X]"
   ]
  },
  {
   "cell_type": "markdown",
   "metadata": {},
   "source": [
    "## Testing the convergence hypothesis with OLS"
   ]
  },
  {
   "cell_type": "code",
   "execution_count": null,
   "metadata": {},
   "outputs": [],
   "source": [
    "# OLS regression\n",
    "reg_ols  = lm(term(:y) ~ sum(term.(names(data[!, Not([\"y\", \"intercept\"])]))), data, dropcollinear=false)"
   ]
  },
  {
   "cell_type": "code",
   "execution_count": null,
   "metadata": {},
   "outputs": [],
   "source": [
    "# output: estimated regression coefficient corresponding to the target regressor\n",
    "est_ols = coef(reg_ols)[2]\n",
    "\n",
    "# output: std. error\n",
    "std_ols = stderror(reg_ols)[2]\n",
    "\n",
    "# output: 95% confidence interval\n",
    "lower_ci = coeftable(reg_ols).cols[5][2]\n",
    "upper_ci = coeftable(reg_ols).cols[6][2]"
   ]
  },
  {
   "cell_type": "markdown",
   "metadata": {},
   "source": [
    "## Testing the convergence hypothesis with Double LASSO using cross Validation"
   ]
  },
  {
   "cell_type": "code",
   "execution_count": null,
   "metadata": {},
   "outputs": [],
   "source": [
    "using Lasso, GLM"
   ]
  },
  {
   "cell_type": "code",
   "execution_count": null,
   "metadata": {},
   "outputs": [],
   "source": [
    "Pkg.add(\"GLMNet\")\n",
    "using GLMNet"
   ]
  },
  {
   "cell_type": "code",
   "execution_count": null,
   "metadata": {},
   "outputs": [],
   "source": [
    "cv = glmnetcv(convert(Matrix,data[!, Not([\"y\", \"intercept\"])]),data[:,1])"
   ]
  },
  {
   "cell_type": "markdown",
   "metadata": {},
   "source": [
    "Best $\\lambda = 0.004$ for cross validation. Hence:"
   ]
  },
  {
   "cell_type": "code",
   "execution_count": null,
   "metadata": {},
   "outputs": [],
   "source": [
    "lasso_model = fit(LassoModel, term(:y) ~  sum(term.(names(data[!, Not([\"y\", \"intercept\",\"gdpsh465\"])]))), data;α = 0.004)\n",
    "r_Y = residuals(lasso_model)\n",
    "r_Y = DataFrame([r_Y], [:r_Y])\n",
    "\n",
    "# Part. out d\n",
    "\n",
    "lasso_model = fit(LassoModel, term(:gdpsh465) ~  sum(term.(names(data[!, Not([\"y\", \"intercept\",\"gdpsh465\"])]))), data;  α = 0.004)\n",
    "r_D = residuals(lasso_model)\n",
    "r_D = DataFrame([r_D], [:r_D])\n",
    "\n",
    "# ols \n",
    "data_aux = [r_Y r_D]\n",
    "fm_1 = @formula(r_Y ~ r_D)\n",
    "partial_lasso_fit = lm(fm_1, data_aux)"
   ]
  },
  {
   "cell_type": "markdown",
   "metadata": {},
   "source": [
    "## Double Lasso using theoretical Lambda (hdmjl.jl)"
   ]
  },
  {
   "cell_type": "code",
   "execution_count": null,
   "metadata": {},
   "outputs": [],
   "source": [
    "D_reg_0 = rlasso_arg( data[!,4:end], data[!,3:3], nothing, true, true, true, false, false, \n",
    "                    nothing, 1.1, nothing, 5000, 15, 10^(-5), -Inf, true, Inf, true )\n",
    "D_resid = rlasso(D_reg_0)[\"residuals\"]\n",
    "\n",
    "Y_reg_0  = rlasso_arg( data[!,4:end], data[!,1:1], nothing, true, true, true, false, false, \n",
    "                    nothing, 1.1, nothing, 5000, 15, 10^(-5), -Inf, true, Inf, true )\n",
    "Y_resid = rlasso(Y_reg_0)[\"residuals\"]"
   ]
  },
  {
   "cell_type": "code",
   "execution_count": null,
   "metadata": {},
   "outputs": [],
   "source": [
    "D_resid = reshape(D_resid, length(D_resid), 1)\n",
    "Lasso_ira = lm(D_resid, Y_resid)"
   ]
  },
  {
   "cell_type": "code",
   "execution_count": null,
   "metadata": {},
   "outputs": [],
   "source": []
  },
  {
   "cell_type": "code",
   "execution_count": null,
   "metadata": {},
   "outputs": [],
   "source": []
  },
  {
   "cell_type": "markdown",
   "metadata": {},
   "source": [
    "# <span style=\"color:blue\">Neyman Orthogonality Proof</span> "
   ]
  },
  {
   "cell_type": "markdown",
   "metadata": {},
   "source": [
    "Suppose that we have the following model:\n",
    "\n",
    "$$ Y = \\alpha D + \\beta^{'} W + \\epsilon$$\n",
    "\n",
    "And we make a partialling out procedure:\n",
    "\n",
    "$$\\tilde{Y} = Y - \\gamma_{YW} W $$\n",
    "\n",
    "$$\\tilde{D} = D - \\gamma_{DW} W$$\n",
    "\n",
    "$$\\tilde{Y} = \\alpha \\tilde{D} + \\epsilon$$\n",
    "\n",
    "Note that as $\\alpha$ is a function of $\\tilde{D} , \\tilde{Y}$ it will also be a function of $\\gamma_{YW} , \\gamma_{DW}$. In other words:\n",
    "\n",
    "$$\\eta^0 = (\\gamma_{YW} , \\gamma_{DW})$$\n",
    "\n",
    "$$\\alpha = \\alpha (\\eta^0)$$\n",
    "\n",
    "However, we may only be able to estimate these parameters to a certain degree of precision. \n",
    "\n",
    "$$\\eta = (\\eta_1,\\eta_2) = (\\widehat{\\gamma_{YW}} , \\widehat{\\gamma_{DW}})$$\n",
    "\n",
    "$$\\alpha = \\alpha (\\eta)$$\n",
    "\n",
    "In this regard, the main idea of double Lasso is that $\\alpha$ is locally insensitive (i.e. first-order insensitive) to perturbations on the nuisance parameters ($\\eta$) around their true values. That is:\n",
    "\n",
    "$$\\frac{\\partial \\alpha(\\eta^0)}{\\partial \\eta} = 0$$\n",
    "\n",
    "To prove this, consider the following identity, which is true under the assumptions from the Classical Linear Regression Model:\n",
    "\n",
    "$$ M (a,\\eta) = E \\left[\\left(\\tilde{Y}(\\eta_1)-a\\tilde{D}(\\eta_2)\\right)\\tilde{D}(\\eta_2)\\right] = 0$$\n",
    "\n",
    "**By the implicit function theorem** this last expression turns to\n",
    "\n",
    "$$ \\frac{\\partial M(\\alpha, \\eta^0)}{\\partial a} da + \\frac{\\partial M(\\alpha, \\eta^0)}{\\partial \\eta} d\\eta= 0$$\n",
    "\n",
    "$$\\frac{da}{d\\eta} = - \\frac{\\frac{\\partial M(\\alpha, \\eta^0)}{\\partial \\eta}}{\\frac{\\partial M(\\alpha, \\eta^0)}{\\partial a}}$$\n",
    "\n",
    "If we examine the numerator, it is possible to make explicit the partial derivative\n",
    "\n",
    "$$\\frac{\\partial M(\\alpha, \\eta^0)}{\\partial \\eta} = \\frac{\\partial M(\\alpha, \\eta^0)}{\\partial \\eta_1} + \\frac{\\partial M(\\alpha, \\eta^0)}{\\partial \\eta_2} $$\n",
    "\n",
    "$$\\frac{\\partial M(\\alpha, \\eta^0)}{\\partial \\eta} = E\\left[-W \\tilde{D}(\\eta_2)\\right] + E\\left[-W \\tilde{Y}(\\eta_1) + 2a\\left(W \\tilde{D}(\\eta_2)\\right)\\right] $$\n",
    "\n",
    "$$\\frac{\\partial M(\\alpha, \\eta^0)}{\\partial \\eta} = -E\\left[W (D - \\gamma_{DW} W)\\right] -E\\left[W(Y - \\gamma_{YW}W)\\right] + 2\\alpha E\\left[W(D-\\gamma_{DW}W)\\right]$$\n",
    "\n",
    "$$\\frac{\\partial M(\\alpha, \\eta^0)}{\\partial \\eta} = -E\\left[WD - W\\gamma_{DW} W)\\right] -E\\left[WY - W\\gamma_{YW}W)\\right] + 2\\alpha E\\left[WD-W\\gamma_{DW}W)\\right]$$\n",
    "\n",
    "Now recall that:\n",
    "\n",
    "$$\\gamma_{DW} = (W'W)^{-1}W'D$$\n",
    "\n",
    "$$\\gamma_{YW} = (W'W)^{-1}W'Y$$\n",
    "\n",
    "Then:\n",
    "\n",
    "$$\\frac{\\partial M(\\alpha, \\eta^0)}{\\partial \\eta} = -E\\left[WD - W \\left[(W'W)^{-1}W'D\\right] W)\\right] -E\\left[WY - W\\left[(W'W)^{-1}W'Y\\right]W)\\right] + 2\\alpha E\\left[WD-W\\left[(W'W)^{-1}W'D\\right]W)\\right]$$\n",
    "\n",
    "$$\\frac{\\partial M(\\alpha, \\eta^0)}{\\partial \\eta} = -E\\left[WD - WD\\right] -E\\left[WY - WY\\right] + 2\\alpha E\\left[WD-WD\\right] $$ \n",
    "\n",
    "$$\\frac{\\partial M(\\alpha, \\eta^0)}{\\partial \\eta} = 0 $$\n",
    "\n",
    "\n",
    "\n",
    "\n",
    "\n",
    "\n",
    "\n",
    "\n",
    "\n"
   ]
  },
  {
   "cell_type": "code",
   "execution_count": null,
   "metadata": {},
   "outputs": [],
   "source": []
  },
  {
   "cell_type": "code",
   "execution_count": null,
   "metadata": {},
   "outputs": [],
   "source": []
  },
  {
   "cell_type": "code",
   "execution_count": null,
   "metadata": {},
   "outputs": [],
   "source": []
  },
  {
   "cell_type": "code",
   "execution_count": null,
   "metadata": {},
   "outputs": [],
   "source": []
  }
 ],
 "metadata": {
  "@webio": {
   "lastCommId": "76ae560104ee406d834ff156d8512f0e",
   "lastKernelId": "4174c721-888d-4130-8fce-39b2da4844d6"
  },
  "kernelspec": {
   "display_name": "Julia 1.7.2",
   "language": "julia",
   "name": "julia-1.7"
  },
  "language_info": {
   "file_extension": ".jl",
   "mimetype": "application/julia",
   "name": "julia",
   "version": "1.7.2"
  }
 },
 "nbformat": 4,
 "nbformat_minor": 4
}
