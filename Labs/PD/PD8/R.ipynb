{
 "cells": [
  {
   "cell_type": "markdown",
   "metadata": {},
   "source": [
    "# Bootstrapping"
   ]
  },
  {
   "cell_type": "markdown",
   "metadata": {},
   "source": [
    "Bootstrapping is a statistical technique that allows us to access uncertainty about a certain point estimate. As far as we have seen in the course, whenever we wanted to calculate confidence intervals of an estimate, or calculate its standard errors, we would rely on asymptotic arguments. Those work well when we have large data sets. However, in small sample data sets, those arguments may be weaker and Boostrap methods can be useful. "
   ]
  },
  {
   "cell_type": "markdown",
   "metadata": {},
   "source": [
    "Bootstrapping consists in treating the sample we are using for point estimates as the population, so we can have access to uncertainty measures of the point estimates. In general, we would like to have confidence intervals or standard errors from some point estimate, say $\\hat{\\mu}$, calculated using our main sample of size $N$. To perform a bootstrap, we first have to resample our main sample $M$ times with replacement. For each of these new samples, we can calculate a new point estimate. That is, we will end up with a collection $\\{\\hat{\\mu}^{(1)},\\hat{\\mu}^{(2)},\\dots,\\hat{\\mu}^{(M)}\\}$. This collection of estimates can be treated as a sample from the theoretical distribution of $\\hat{\\mu}$, so we can calculate it's percentiles to calculate our desired measures of uncertainty."
   ]
  },
  {
   "cell_type": "markdown",
   "metadata": {},
   "source": [
    "We can start simple by working with the simple average. Let's generate an i.i.d. sample and calculate the 5 samples average\n",
    "\n",
    "\\begin{equation*}\n",
    "\n",
    "Y_i \\sim U(0,1) \n",
    "\n",
    "\\end{equation*}\n",
    "\n",
    "\\begin{equation*}\n",
    "\n",
    "\\mu_i = \\frac{1}{2}\n",
    "\\quad\n",
    "\\sigma^2_{i} = \\frac{1}{12}\n",
    "\n",
    "\\end{equation*}\n",
    "\n",
    "\\begin{equation*}\n",
    "\n",
    "\\bar{Y}=\\sum_{i=1}^{5}\\frac{Y_i}{5}\n",
    "\n",
    "\\end{equation*}\n",
    "\n"
   ]
  },
  {
   "cell_type": "markdown",
   "metadata": {},
   "source": [
    "We can conduct a monte carlo experiment to know with high level of accuracy the small sample properties of this average."
   ]
  },
  {
   "cell_type": "code",
   "execution_count": 55,
   "metadata": {
    "vscode": {
     "languageId": "r"
    }
   },
   "outputs": [
    {
     "name": "stdout",
     "output_type": "stream",
     "text": [
      "     2.5% \n",
      "0.3210373 \n",
      "    97.5% \n",
      "0.6794532 \n"
     ]
    }
   ],
   "source": [
    "N <- 10\n",
    "MC_reps <- 100000\n",
    "\n",
    "Y_hat_MC <- numeric(MC_reps)\n",
    "\n",
    "for (i in 1:MC_reps) {\n",
    "    sample <- runif(N)\n",
    "    Y_hat_MC[i] <- mean(sample)\n",
    "}\n",
    "\n",
    "lower_bound_MC <- quantile(Y_hat_MC, 0.025)\n",
    "upper_bound_MC <- quantile(Y_hat_MC, 0.975)\n",
    "\n",
    "print(lower_bound_MC)\n",
    "print(upper_bound_MC)"
   ]
  },
  {
   "cell_type": "markdown",
   "metadata": {},
   "source": [
    "Now, let's calculate the confidence intervals using asymptotic arguments. Let's take another sample from the distribution and calculate it's average"
   ]
  },
  {
   "cell_type": "code",
   "execution_count": 56,
   "metadata": {
    "vscode": {
     "languageId": "r"
    }
   },
   "outputs": [],
   "source": [
    "Y <- runif(N)\n",
    "Y_hat <- mean(Y)"
   ]
  },
  {
   "cell_type": "markdown",
   "metadata": {},
   "source": [
    "By the Central Limit Theorem for i.i.d. samples (Lindeberg-Lévy), the asymptotic distribution of the sample average is \n",
    "\n",
    "\\begin{equation*}\n",
    "\n",
    "\\bar{Y} \\overset{a}{\\sim} N\\left(\\frac{1}{2},\\frac{1}{12n}\\right)\n",
    "\n",
    "\\end{equation*}"
   ]
  },
  {
   "cell_type": "markdown",
   "metadata": {},
   "source": [
    "We can use scipy to calculate the 95% confidence interval around the mean"
   ]
  },
  {
   "cell_type": "code",
   "execution_count": 57,
   "metadata": {
    "vscode": {
     "languageId": "r"
    }
   },
   "outputs": [],
   "source": [
    "lower_bound <- qnorm(0.025, mean = 1/2, sd = 1/(12 * N))\n",
    "upper_bound <- qnorm(0.975, mean = 1/2, sd = 1/(12 * N))"
   ]
  },
  {
   "cell_type": "code",
   "execution_count": 58,
   "metadata": {
    "vscode": {
     "languageId": "r"
    }
   },
   "outputs": [
    {
     "name": "stdout",
     "output_type": "stream",
     "text": [
      "[1] 0.483667\n",
      "[1] 0.516333\n"
     ]
    }
   ],
   "source": [
    "print(lower_bound)\n",
    "print(upper_bound)"
   ]
  },
  {
   "cell_type": "markdown",
   "metadata": {},
   "source": [
    "The results are definitely not accurate"
   ]
  },
  {
   "cell_type": "markdown",
   "metadata": {},
   "source": [
    "Now, let's calculate the confidence intervals using bootstrap"
   ]
  },
  {
   "cell_type": "code",
   "execution_count": 59,
   "metadata": {
    "vscode": {
     "languageId": "r"
    }
   },
   "outputs": [
    {
     "name": "stdout",
     "output_type": "stream",
     "text": [
      "     2.5% \n",
      "0.2704985 \n",
      "    97.5% \n",
      "0.5461939 \n"
     ]
    }
   ],
   "source": [
    "M <- 100000\n",
    "\n",
    "Y_hat_boost <- numeric(M)\n",
    "\n",
    "for (i in 1:M) {\n",
    "    Y_boost <- sample(Y, N, replace = TRUE)\n",
    "    Y_hat_boost[i] <- mean(Y_boost)\n",
    "}\n",
    "\n",
    "lower_bound_boost <- quantile(Y_hat_boost, 0.025)\n",
    "upper_bound_boost <- quantile(Y_hat_boost, 0.975)\n",
    "\n",
    "print(lower_bound_boost)\n",
    "print(upper_bound_boost)"
   ]
  },
  {
   "cell_type": "code",
   "execution_count": 60,
   "metadata": {
    "vscode": {
     "languageId": "r"
    }
   },
   "outputs": [
    {
     "name": "stdout",
     "output_type": "stream",
     "text": [
      "    97.5% \n",
      "0.2599928 \n",
      "     2.5% \n",
      "0.5356882 \n"
     ]
    }
   ],
   "source": [
    "delta <- Y_hat_boost - Y_hat\n",
    "\n",
    "lower_bound_hall <- Y_hat - quantile(delta, 0.975)\n",
    "upper_bound_hall <- Y_hat - quantile(delta, 0.025)\n",
    "\n",
    "print(lower_bound_hall)\n",
    "print(upper_bound_hall)"
   ]
  },
  {
   "cell_type": "markdown",
   "metadata": {},
   "source": [
    "The bootstrap result is fairly more accurate than the asymptotic argument."
   ]
  },
  {
   "cell_type": "code",
   "execution_count": 61,
   "metadata": {
    "vscode": {
     "languageId": "r"
    }
   },
   "outputs": [
    {
     "data": {
      "image/png": "[encoded data removed]",
      "text/plain": [
       "plot without title"
      ]
     },
     "metadata": {
      "image/png": {
       "height": 420,
       "width": 420
      }
     },
     "output_type": "display_data"
    }
   ],
   "source": [
    "library(ggplot2)\n",
    "\n",
    "# Create a data frame for plotting\n",
    "df <- data.frame(Y_hat_MC = Y_hat_MC)\n",
    "\n",
    "# Plot the histogram\n",
    "ggplot(df, aes(x = Y_hat_MC)) +\n",
    "  geom_histogram(aes(y = ..density..), bins = 100, fill = \"lightblue\", color = \"lightblue\") +\n",
    "  \n",
    "  # Add vertical lines for confidence intervals\n",
    "  geom_vline(xintercept = lower_bound_MC, color = 'red',  size = 1, show.legend = TRUE) +\n",
    "  geom_vline(xintercept = upper_bound_MC, color = 'red',  size = 1) +\n",
    "  \n",
    "  geom_vline(xintercept = lower_bound, color = 'blue',  size = 1) +\n",
    "  geom_vline(xintercept = upper_bound, color = 'blue',  size = 1) +\n",
    "  \n",
    "  geom_vline(xintercept = lower_bound_boost, color = 'black', size = 1) +\n",
    "  geom_vline(xintercept = upper_bound_boost, color = 'black', size = 1) +\n",
    "  \n",
    "  geom_vline(xintercept = lower_bound_hall, color = 'purple', size = 1) +\n",
    "  geom_vline(xintercept = upper_bound_hall, color = 'purple', size = 1) +\n",
    "  \n",
    "  # Add legend and labels\n",
    "  labs(title = \"Density Histogram with Confidence Intervals\",\n",
    "       x = \"Y_hat_MC\", \n",
    "       y = \"Density\") +\n",
    "  theme_minimal()"
   ]
  },
  {
   "cell_type": "markdown",
   "metadata": {},
   "source": [
    "What about linear regression? We can perform the same task we did with the plain average. For simplicity, let's generate data from a bivariate linear regression:\n",
    "\n",
    "\\begin{equation*}\n",
    "\n",
    "Y_i = 2+ 3 x_i + \\varepsilon_i\n",
    "\n",
    "\\end{equation*}\n",
    "\n",
    "\\begin{equation*}\n",
    "\n",
    "x_i \\sim U(0,1)\n",
    "\n",
    "\\end{equation*}\n",
    "\n",
    "\\begin{equation*}\n",
    "\n",
    "\\varepsilon_i \\sim N(0,1)\n",
    "\\end{equation*}\n",
    "\n",
    "\\begin{equation*}\n",
    "\n",
    "\\hat{\\beta} = (X^\\prime X)^{-1}(X^\\prime Y)\n",
    "\\end{equation*}"
   ]
  },
  {
   "cell_type": "code",
   "execution_count": 62,
   "metadata": {
    "vscode": {
     "languageId": "r"
    }
   },
   "outputs": [],
   "source": [
    "beta_0 <- 2\n",
    "beta_1 <- 3\n",
    "x <- runif(N, min = 0, max = 1)"
   ]
  },
  {
   "cell_type": "markdown",
   "metadata": {},
   "source": [
    "Then, we conduct the monte carlo experiment to know with high level of accuracy the small sample properties of this average"
   ]
  },
  {
   "cell_type": "code",
   "execution_count": 63,
   "metadata": {
    "vscode": {
     "languageId": "r"
    }
   },
   "outputs": [],
   "source": [
    "MC_reps <- 100000\n",
    "\n",
    "beta_hat_MC <- matrix(0, nrow = MC_reps, ncol = 2)\n",
    "\n",
    "for (i in 1:MC_reps) {\n",
    "    e_MC <- rnorm(N, mean = 0, sd = 1)\n",
    "    Y_MC <- 2 + 3 * x + e_MC\n",
    "\n",
    "    model_MC <- lm(Y_MC ~ x)\n",
    "    \n",
    "    beta_hat_MC[i, ] <- c(coef(model_MC)[1], coef(model_MC)[2])\n",
    "}"
   ]
  },
  {
   "cell_type": "code",
   "execution_count": 64,
   "metadata": {
    "vscode": {
     "languageId": "r"
    }
   },
   "outputs": [
    {
     "name": "stdout",
     "output_type": "stream",
     "text": [
      "b0\n",
      "0.9375001 \n",
      "3.053342 \n"
     ]
    },
    {
     "name": "stdout",
     "output_type": "stream",
     "text": [
      "--------------------\n",
      "b1\n",
      "0.8253716 \n",
      "5.200885 \n"
     ]
    }
   ],
   "source": [
    "lower_bound_b0_MC <- quantile(beta_hat_MC[, 1], 0.025)\n",
    "upper_bound_b0_MC <- quantile(beta_hat_MC[, 1], 0.975)\n",
    "\n",
    "lower_bound_b1_MC <- quantile(beta_hat_MC[, 2], 0.025)\n",
    "upper_bound_b1_MC <- quantile(beta_hat_MC[, 2], 0.975)\n",
    "\n",
    "# Print results\n",
    "cat(\"b0\\n\")\n",
    "cat(lower_bound_b0_MC, \"\\n\")\n",
    "cat(upper_bound_b0_MC, \"\\n\")\n",
    "cat(\"--------------------\\n\")\n",
    "cat(\"b1\\n\")\n",
    "cat(lower_bound_b1_MC, \"\\n\")\n",
    "cat(upper_bound_b1_MC, \"\\n\")\n"
   ]
  },
  {
   "cell_type": "markdown",
   "metadata": {},
   "source": [
    "Now, let's calculate the confidence intervals using asymptotic arguments. Let's take another sample from the DGP and estimate the coefficients"
   ]
  },
  {
   "cell_type": "code",
   "execution_count": 65,
   "metadata": {
    "vscode": {
     "languageId": "r"
    }
   },
   "outputs": [],
   "source": [
    "Y <- 2 + 3 * x + rnorm(N, mean = 0, sd = 1)\n",
    "model_hat <- lm(Y ~ x)\n",
    "beta_hat <- c(coef(model_hat)[1], coef(model_hat)[2])"
   ]
  },
  {
   "cell_type": "markdown",
   "metadata": {},
   "source": [
    "By the Central Limit Theorem for linear regression, the asymptotic distribution of the coefficients is\n",
    "\n",
    "\\begin{equation*}\n",
    "\n",
    "\\hat{\\beta} \\overset{a}{\\sim} N\\left(\\beta,\\sigma^2(X^\\prime X)^{-1}\\right)\n",
    "\n",
    "\\end{equation*}\n",
    "\n",
    "Where\n",
    "\n",
    "\\begin{equation*}\n",
    "\n",
    "\\sigma^2 = 1\n",
    "\n",
    "\\end{equation*}\n",
    "\n",
    "\\begin{equation*}\n",
    "\n",
    "\\beta = (2,3)^\\prime\n",
    "\n",
    "\\end{equation*}"
   ]
  },
  {
   "cell_type": "code",
   "execution_count": 66,
   "metadata": {
    "vscode": {
     "languageId": "r"
    }
   },
   "outputs": [],
   "source": [
    "X <- cbind(1, x)  # Create a matrix with a column of ones and x\n",
    "\n",
    "cov_betas <- solve(t(X) %*% X)  # Calculate the covariance matrix\n",
    "\n",
    "lower_bound_b0 <- qnorm(0.025, mean = beta_0, sd = sqrt(cov_betas[1, 1]))\n",
    "upper_bound_b0 <- qnorm(0.975, mean = beta_0, sd = sqrt(cov_betas[1, 1]))\n",
    "\n",
    "lower_bound_b1 <- qnorm(0.025, mean = beta_1, sd = sqrt(cov_betas[2, 2]))\n",
    "upper_bound_b1 <- qnorm(0.975, mean = beta_1, sd = sqrt(cov_betas[2, 2]))"
   ]
  },
  {
   "cell_type": "code",
   "execution_count": 67,
   "metadata": {
    "vscode": {
     "languageId": "r"
    }
   },
   "outputs": [
    {
     "name": "stdout",
     "output_type": "stream",
     "text": [
      "b0 ols\n",
      "0.9431599 \n",
      "3.05684 \n",
      "--------------------\n",
      "b1 ols\n",
      "0.8128087 \n",
      "5.187191 \n"
     ]
    }
   ],
   "source": [
    "cat(\"b0 ols\\n\")\n",
    "cat(lower_bound_b0, \"\\n\")\n",
    "cat(upper_bound_b0, \"\\n\")\n",
    "cat(\"--------------------\\n\")\n",
    "cat(\"b1 ols\\n\")\n",
    "cat(lower_bound_b1, \"\\n\")\n",
    "cat(upper_bound_b1, \"\\n\")"
   ]
  },
  {
   "cell_type": "markdown",
   "metadata": {},
   "source": [
    "To perform a bootstrap for linear regression, there exist at least four methods: empirical/paired bootstrap, residual based bootstrap, wild bootstrap and block bootstrap . The first and second methods are the most commonly used when the basic assumptions of OLS hold (Gauss-Markov theorem). The third and four methods tackle the issues arising from heteroskedasticity and serial correlation. We will stick with the first approach due to it's similarity with the simple average procedure."
   ]
  },
  {
   "cell_type": "code",
   "execution_count": 68,
   "metadata": {
    "vscode": {
     "languageId": "r"
    }
   },
   "outputs": [
    {
     "name": "stdout",
     "output_type": "stream",
     "text": [
      "b0 simple bootstrap\n",
      "1.279174 \n",
      "3.146069 \n",
      "--------------------\n",
      "b1 simple bootstrap\n",
      "0.9082533 \n",
      "4.418698 \n"
     ]
    }
   ],
   "source": [
    "M <- 100000\n",
    "\n",
    "beta_hat_boost <- matrix(0, nrow = M, ncol = 2)\n",
    "\n",
    "for (i in 1:M) {\n",
    "    Z <- cbind(x, Y)  # Combine x and Y into a matrix\n",
    "    random_index <- sample(1:N, N, replace = TRUE)  # Randomly sample indices\n",
    "    Z_boost <- Z[random_index, ]  # Create bootstrap sample\n",
    "    \n",
    "    model_boost <- lm(Z_boost[, 2] ~ Z_boost[, 1])  # Fit the model\n",
    "    beta_hat_boost[i, ] <- c(coef(model_boost)[1], coef(model_boost)[2])  # Store coefficients\n",
    "}\n",
    "\n",
    "# Calculate confidence intervals\n",
    "lower_bound_b0_boost <- quantile(beta_hat_boost[, 1], 0.025)\n",
    "upper_bound_b0_boost <- quantile(beta_hat_boost[, 1], 0.975)\n",
    "\n",
    "lower_bound_b1_boost <- quantile(beta_hat_boost[, 2], 0.025)\n",
    "upper_bound_b1_boost <- quantile(beta_hat_boost[, 2], 0.975)\n",
    "\n",
    "# Print results\n",
    "cat(\"b0 simple bootstrap\\n\")\n",
    "cat(lower_bound_b0_boost, \"\\n\")\n",
    "cat(upper_bound_b0_boost, \"\\n\")\n",
    "cat(\"--------------------\\n\")\n",
    "cat(\"b1 simple bootstrap\\n\")\n",
    "cat(lower_bound_b1_boost, \"\\n\")\n",
    "cat(upper_bound_b1_boost, \"\\n\")"
   ]
  },
  {
   "cell_type": "code",
   "execution_count": 69,
   "metadata": {
    "vscode": {
     "languageId": "r"
    }
   },
   "outputs": [],
   "source": [
    "delta_b0 <- beta_hat_boost[, 1] - beta_hat[1]  # Calculate differences for b0\n",
    "delta_b1 <- beta_hat_boost[, 2] - beta_hat[2]  # Calculate differences for b1\n",
    "\n",
    "# Calculate Hall confidence intervals\n",
    "lower_bound_b0_hall <- beta_hat[1] - quantile(delta_b0, 0.975)\n",
    "upper_bound_b0_hall <- beta_hat[1] - quantile(delta_b0, 0.025)\n",
    "\n",
    "lower_bound_b1_hall <- beta_hat[2] - quantile(delta_b1, 0.975)\n",
    "upper_bound_b1_hall <- beta_hat[2] - quantile(delta_b1, 0.025)"
   ]
  },
  {
   "cell_type": "code",
   "execution_count": 70,
   "metadata": {
    "vscode": {
     "languageId": "r"
    }
   },
   "outputs": [
    {
     "name": "stdout",
     "output_type": "stream",
     "text": [
      "b0 empirical bootstrap\n",
      "1.168706 \n",
      "3.035601 \n",
      "--------------------\n",
      "b1 empirical bootstrap\n",
      "0.9387422 \n",
      "4.449187 \n"
     ]
    }
   ],
   "source": [
    "cat(\"b0 empirical bootstrap\\n\")\n",
    "cat(lower_bound_b0_hall, \"\\n\")\n",
    "cat(upper_bound_b0_hall, \"\\n\")\n",
    "cat(\"--------------------\\n\")\n",
    "cat(\"b1 empirical bootstrap\\n\")\n",
    "cat(lower_bound_b1_hall, \"\\n\")\n",
    "cat(upper_bound_b1_hall, \"\\n\")"
   ]
  },
  {
   "cell_type": "code",
   "execution_count": 71,
   "metadata": {
    "vscode": {
     "languageId": "r"
    }
   },
   "outputs": [
    {
     "data": {
      "image/png": "[encoded data removed]",
      "text/plain": [
       "plot without title"
      ]
     },
     "metadata": {
      "image/png": {
       "height": 420,
       "width": 420
      }
     },
     "output_type": "display_data"
    }
   ],
   "source": [
    "library(ggplot2)\n",
    "library(gridExtra)\n",
    "\n",
    "# Create data frames for b0 and b1\n",
    "df_b0 <- data.frame(beta_hat_MC = beta_hat_MC[, 1])\n",
    "df_b1 <- data.frame(beta_hat_MC = beta_hat_MC[, 2])\n",
    "\n",
    "# Histogram for b0\n",
    "p1 <- ggplot(df_b0, aes(x = beta_hat_MC)) +\n",
    "  geom_histogram(bins = 100, aes(y = ..density..), fill = \"lightblue\", color = \"lightblue\") +\n",
    "  geom_vline(xintercept = lower_bound_b0_MC, color = \"red\", size = 1) +\n",
    "  geom_vline(xintercept = upper_bound_b0_MC, color = \"red\", size = 1) +\n",
    "  geom_vline(xintercept = lower_bound_b0, color = \"blue\", linetype = 'dashed',size = 1) +\n",
    "  geom_vline(xintercept = upper_bound_b0, color = \"blue\", linetype = 'dashed',size = 1) +\n",
    "  geom_vline(xintercept = lower_bound_b0_boost, color = \"black\", size = 1) +\n",
    "  geom_vline(xintercept = upper_bound_b0_boost, color = \"black\",  size = 1) +\n",
    "  geom_vline(xintercept = lower_bound_b0_hall, color = \"purple\",  size = 1) +\n",
    "  geom_vline(xintercept = upper_bound_b0_hall, color = \"purple\", size = 1) +\n",
    "  labs(title = \"Histogram of b0 Estimates\", x = \"b0 Estimates\", y = \"Density\") +\n",
    "  theme_minimal()\n",
    "\n",
    "# Histogram for b1\n",
    "p2 <- ggplot(df_b1, aes(x = beta_hat_MC)) +\n",
    "  geom_histogram(bins = 100, aes(y = ..density..), fill = \"lightgreen\", color = \"lightgreen\") +\n",
    "  geom_vline(xintercept = lower_bound_b1_MC, color = \"red\", size = 1) +\n",
    "  geom_vline(xintercept = upper_bound_b1_MC, color = \"red\", size = 1) +\n",
    "  geom_vline(xintercept = lower_bound_b1, color = \"blue\", linetype = 'dashed',  size = 1) +\n",
    "  geom_vline(xintercept = upper_bound_b1, color = \"blue\", linetype = 'dashed',  size = 1) +\n",
    "  geom_vline(xintercept = lower_bound_b1_boost, color = \"black\", size = 1) +\n",
    "  geom_vline(xintercept = upper_bound_b1_boost, color = \"black\", size = 1) +\n",
    "  geom_vline(xintercept = lower_bound_b1_hall, color = \"purple\", size = 1) +\n",
    "  geom_vline(xintercept = upper_bound_b1_hall, color = \"purple\", size = 1) +\n",
    "  labs(title = \"Histogram of b1 Estimates\", x = \"b1 Estimates\", y = \"Density\") +\n",
    "  theme_minimal()\n",
    "\n",
    "# Arrange the plots\n",
    "grid.arrange(p1, p2, ncol = 1)\n"
   ]
  }
 ],
 "metadata": {
  "kernelspec": {
   "display_name": "R",
   "language": "R",
   "name": "ir"
  },
  "language_info": {
   "codemirror_mode": "r",
   "file_extension": ".r",
   "mimetype": "text/x-r-source",
   "name": "R",
   "pygments_lexer": "r",
   "version": "4.3.1"
  }
 },
 "nbformat": 4,
 "nbformat_minor": 2
}
