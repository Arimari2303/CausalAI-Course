{
 "cells": [
  {
   "cell_type": "markdown",
   "metadata": {},
   "source": [
    "# Bootstrapping"
   ]
  },
  {
   "cell_type": "markdown",
   "metadata": {},
   "source": [
    "Bootstrapping is a statistical technique that allows us to access uncertainty about a certain point estimate. As far as we have seen in the course, whenever we wanted to calculate confidence intervals of an estimate, or calculate its standard errors, we would rely on asymptotic arguments. Those work well when we have large data sets. However, in small sample data sets, those arguments may be weaker and Boostrap methods can be useful. "
   ]
  },
  {
   "cell_type": "markdown",
   "metadata": {},
   "source": [
    "Bootstrapping consists in treating the sample we are using for point estimates as the population, so we can have access to uncertainty measures of the point estimates. In general, we would like to have confidence intervals or standard errors from some point estimate, say $\\hat{\\mu}$, calculated using our main sample of size $N$. To perform a bootstrap, we first have to resample our main sample $M$ times with replacement. For each of these new samples, we can calculate a new point estimate. That is, we will end up with a collection $\\{\\hat{\\mu}^{(1)},\\hat{\\mu}^{(2)},\\dots,\\hat{\\mu}^{(M)}\\}$. This collection of estimates can be treated as a sample from the theoretical distribution of $\\hat{\\mu}$, so we can calculate it's percentiles to calculate our desired measures of uncertainty."
   ]
  },
  {
   "cell_type": "markdown",
   "metadata": {},
   "source": [
    "We can start simple by working with the simple average. Let's generate an i.i.d. sample and calculate the 5 samples average\n",
    "\n",
    "\\begin{equation*}\n",
    "\n",
    "Y_i \\sim U(0,1) \n",
    "\n",
    "\\end{equation*}\n",
    "\n",
    "\\begin{equation*}\n",
    "\n",
    "\\mu_i = \\frac{1}{2}\n",
    "\\quad\n",
    "\\sigma^2_{i} = \\frac{1}{12}\n",
    "\n",
    "\\end{equation*}\n",
    "\n",
    "\\begin{equation*}\n",
    "\n",
    "\\bar{Y}=\\sum_{i=1}^{5}\\frac{Y_i}{5}\n",
    "\n",
    "\\end{equation*}\n",
    "\n"
   ]
  },
  {
   "cell_type": "markdown",
   "metadata": {},
   "source": [
    "We can conduct a monte carlo experiment to know with high level of accuracy the small sample properties of this average."
   ]
  },
  {
   "cell_type": "code",
   "execution_count": 1,
   "metadata": {},
   "outputs": [
    {
     "name": "stdout",
     "output_type": "stream",
     "text": [
      "0.32169569735265807\n",
      "0.6782751602874962\n"
     ]
    }
   ],
   "source": [
    "import numpy as np \n",
    "\n",
    "N = 10\n",
    "\n",
    "MC_reps = 100_000\n",
    "\n",
    "Y_hat_MC = np.zeros(MC_reps)\n",
    "\n",
    "for i in range(MC_reps):\n",
    "\n",
    "    sample = np.random.rand(N)\n",
    "    Y_hat_MC[i] = np.mean(sample)\n",
    "\n",
    "lower_bound_MC = np.percentile(Y_hat_MC, 2.5)\n",
    "upper_bound_MC = np.percentile(Y_hat_MC, 97.5)\n",
    "\n",
    "print(lower_bound_MC)\n",
    "print(upper_bound_MC)"
   ]
  },
  {
   "cell_type": "markdown",
   "metadata": {},
   "source": [
    "Now, let's calculate the confidence intervals using asymptotic arguments. Let's take another sample from the distribution and calculate it's average"
   ]
  },
  {
   "cell_type": "code",
   "execution_count": 2,
   "metadata": {},
   "outputs": [],
   "source": [
    "Y = np.random.rand(N)\n",
    "Y_hat = np.mean(Y)"
   ]
  },
  {
   "cell_type": "markdown",
   "metadata": {},
   "source": [
    "By the Central Limit Theorem for i.i.d. samples (Lindeberg-Lévy), the asymptotic distribution of the sample average is \n",
    "\n",
    "\\begin{equation*}\n",
    "\n",
    "\\bar{Y} \\overset{a}{\\sim} N\\left(\\frac{1}{2},\\frac{1}{12n}\\right)\n",
    "\n",
    "\\end{equation*}"
   ]
  },
  {
   "cell_type": "markdown",
   "metadata": {},
   "source": [
    "We can use scipy to calculate the 95% confidence interval around the mean"
   ]
  },
  {
   "cell_type": "code",
   "execution_count": 3,
   "metadata": {},
   "outputs": [],
   "source": [
    "from scipy.stats import norm\n",
    "\n",
    "lower_bound = norm.ppf(0.025, loc = 1/2, scale = np.sqrt(1/(12*N)))\n",
    "upper_bound = norm.ppf(0.975, loc = 1/2, scale = np.sqrt(1/(12*N)))"
   ]
  },
  {
   "cell_type": "code",
   "execution_count": 4,
   "metadata": {},
   "outputs": [
    {
     "name": "stdout",
     "output_type": "stream",
     "text": [
      "0.32108058562828423\n",
      "0.6789194143717157\n"
     ]
    }
   ],
   "source": [
    "print(lower_bound)\n",
    "print(upper_bound)"
   ]
  },
  {
   "cell_type": "markdown",
   "metadata": {},
   "source": [
    "If we had all the samples as the Montecarlo experiment, we would be able to approach the theoretical limit. However, we only have one sample and its related estimates. What are the bounds when we look at those?"
   ]
  },
  {
   "cell_type": "code",
   "execution_count": 5,
   "metadata": {},
   "outputs": [
    {
     "data": {
      "text/plain": [
       "(np.float64(-0.1642452331077191), np.float64(1.019649286373678))"
      ]
     },
     "execution_count": 5,
     "metadata": {},
     "output_type": "execute_result"
    }
   ],
   "source": [
    "Y_hat - 1.96 * Y.std(), Y_hat + 1.96 * Y.std()"
   ]
  },
  {
   "cell_type": "markdown",
   "metadata": {},
   "source": [
    "Now we get very imprecise bounds that span almost the entire distribution."
   ]
  },
  {
   "cell_type": "markdown",
   "metadata": {},
   "source": [
    "Now, let's calculate the confidence intervals using bootstrap"
   ]
  },
  {
   "cell_type": "code",
   "execution_count": 6,
   "metadata": {},
   "outputs": [
    {
     "name": "stdout",
     "output_type": "stream",
     "text": [
      "0.2498822731096451\n",
      "0.6225780257435687\n"
     ]
    }
   ],
   "source": [
    "M = 100_000\n",
    "\n",
    "Y_hat_boost = np.zeros(M)\n",
    "\n",
    "for i in range(M):\n",
    "\n",
    "    Y_boost = np.random.choice(Y, N, replace= True)\n",
    "\n",
    "    Y_hat_boost[i] = np.mean(Y_boost)\n",
    "\n",
    "lower_bound_boost = np.percentile(Y_hat_boost, 2.5)\n",
    "\n",
    "upper_bound_boost = np.percentile(Y_hat_boost, 97.5)\n",
    "\n",
    "print(lower_bound_boost)\n",
    "print(upper_bound_boost)"
   ]
  },
  {
   "cell_type": "code",
   "execution_count": 7,
   "metadata": {},
   "outputs": [
    {
     "name": "stdout",
     "output_type": "stream",
     "text": [
      "0.23282602752239007\n",
      "0.6055217801563137\n"
     ]
    }
   ],
   "source": [
    "delta = Y_hat_boost - Y_hat\n",
    "\n",
    "lower_bound_hall = Y_hat - np.percentile(delta, 97.5)\n",
    "\n",
    "upper_bound_hall = Y_hat - np.percentile(delta, 2.5)\n",
    "\n",
    "print(lower_bound_hall)\n",
    "print(upper_bound_hall)"
   ]
  },
  {
   "cell_type": "markdown",
   "metadata": {},
   "source": [
    "The bootstrap result is fairly more accurate than the asymptotic argument."
   ]
  },
  {
   "cell_type": "code",
   "execution_count": 8,
   "metadata": {},
   "outputs": [
    {
     "data": {
      "text/plain": [
       "<matplotlib.legend.Legend at 0x20452f63950>"
      ]
     },
     "execution_count": 8,
     "metadata": {},
     "output_type": "execute_result"
    },
    {
     "data": {
      "image/png": "[encoded data removed]",
      "text/plain": [
       "<Figure size 640x480 with 1 Axes>"
      ]
     },
     "metadata": {},
     "output_type": "display_data"
    }
   ],
   "source": [
    "import matplotlib.pyplot as plt\n",
    "\n",
    "hist_mc = plt.hist(Y_hat_MC, bins = 100 ,density= True)\n",
    "plt.axvline(lower_bound_MC, color = 'red', label = 'Theoretical CI')\n",
    "plt.axvline(upper_bound_MC, color = 'red')\n",
    "\n",
    "plt.axvline(lower_bound, color = 'blue', label = 'Asymptotic CI')\n",
    "plt.axvline(upper_bound, color = 'blue')\n",
    "\n",
    "plt.axvline(lower_bound_boost, color = 'black', label = 'Standard Bootstrap CI')\n",
    "plt.axvline(upper_bound_boost, color = 'black')\n",
    "\n",
    "plt.axvline(lower_bound_hall, color = 'purple', label = 'Empirical Bootstrap CI')\n",
    "plt.axvline(upper_bound_hall, color = 'purple')\n",
    "\n",
    "plt.legend()"
   ]
  },
  {
   "cell_type": "markdown",
   "metadata": {},
   "source": [
    "What about linear regression? We can perform the same task we did with the plain average. For simplicity, let's generate data from a bivariate linear regression:\n",
    "\n",
    "\\begin{equation*}\n",
    "\n",
    "Y_i = 2+ 3 x_i + \\varepsilon_i\n",
    "\n",
    "\\end{equation*}\n",
    "\n",
    "\\begin{equation*}\n",
    "\n",
    "x_i \\sim U(0,1)\n",
    "\n",
    "\\end{equation*}\n",
    "\n",
    "\\begin{equation*}\n",
    "\n",
    "\\varepsilon_i \\sim N(0,1)\n",
    "\\end{equation*}\n",
    "\n",
    "\\begin{equation*}\n",
    "\n",
    "\\hat{\\beta} = (X^\\prime X)^{-1}(X^\\prime Y)\n",
    "\\end{equation*}"
   ]
  },
  {
   "cell_type": "code",
   "execution_count": 9,
   "metadata": {},
   "outputs": [],
   "source": [
    "beta_0 = 2\n",
    "beta_1 = 3\n",
    "x = np.random.uniform(0,1,N)"
   ]
  },
  {
   "cell_type": "markdown",
   "metadata": {},
   "source": [
    "Then, we conduct the monte carlo experiment to know with high level of accuracy the small sample properties of this average"
   ]
  },
  {
   "cell_type": "code",
   "execution_count": 10,
   "metadata": {},
   "outputs": [],
   "source": [
    "from sklearn.linear_model import LinearRegression\n",
    "\n",
    "MC_reps = 100_000\n",
    "\n",
    "beta_hat_MC = np.zeros((MC_reps,2))\n",
    "\n",
    "for i in range(MC_reps):\n",
    "\n",
    "    e_MC = np.random.normal(0,1,N)\n",
    "\n",
    "    Y_MC = 2 + 3*x + e_MC\n",
    "\n",
    "    model_MC = LinearRegression().fit(x.reshape(-1,1),Y_MC)\n",
    "\n",
    "    beta_hat_MC[i,:] = np.hstack((model_MC.intercept_,model_MC.coef_))\n",
    "\n",
    "\n"
   ]
  },
  {
   "cell_type": "code",
   "execution_count": 11,
   "metadata": {},
   "outputs": [
    {
     "name": "stdout",
     "output_type": "stream",
     "text": [
      "b0\n",
      "0.749170651394003\n",
      "3.2476489250832667\n",
      "--------------------\n",
      "b1\n",
      "1.010842308921385\n",
      "4.981600846977055\n"
     ]
    }
   ],
   "source": [
    "lower_bound_b0_MC = np.percentile(beta_hat_MC[:,0], 2.5)\n",
    "upper_bound_b0_MC = np.percentile(beta_hat_MC[:,0], 97.5)\n",
    "\n",
    "lower_bound_b1_MC = np.percentile(beta_hat_MC[:,1], 2.5)\n",
    "upper_bound_b1_MC = np.percentile(beta_hat_MC[:,1], 97.5)\n",
    "\n",
    "print('b0')\n",
    "print(lower_bound_b0_MC)\n",
    "print(upper_bound_b0_MC)\n",
    "print('--------------------')\n",
    "print('b1')\n",
    "print(lower_bound_b1_MC)\n",
    "print(upper_bound_b1_MC)\n"
   ]
  },
  {
   "cell_type": "markdown",
   "metadata": {},
   "source": [
    "Now, let's calculate the confidence intervals using asymptotic arguments. Let's take another sample from the DGP and estimate the coefficients"
   ]
  },
  {
   "cell_type": "code",
   "execution_count": 12,
   "metadata": {},
   "outputs": [],
   "source": [
    "Y = 2 + 3*x + np.random.normal(0,1,N)\n",
    "model_hat = LinearRegression().fit(x.reshape(-1,1),Y)\n",
    "beta_hat = np.hstack((model_hat.intercept_,model_hat.coef_))"
   ]
  },
  {
   "cell_type": "markdown",
   "metadata": {},
   "source": [
    "By the Central Limit Theorem for linear regression, the asymptotic distribution of the coefficients is\n",
    "\n",
    "\\begin{equation*}\n",
    "\n",
    "\\hat{\\beta} \\overset{a}{\\sim} N\\left(\\beta,\\sigma^2(X^\\prime X)^{-1}\\right)\n",
    "\n",
    "\\end{equation*}\n",
    "\n",
    "Where\n",
    "\n",
    "\\begin{equation*}\n",
    "\n",
    "\\sigma^2 = 1\n",
    "\n",
    "\\end{equation*}\n",
    "\n",
    "\\begin{equation*}\n",
    "\n",
    "\\beta = (2,3)^\\prime\n",
    "\n",
    "\\end{equation*}"
   ]
  },
  {
   "cell_type": "code",
   "execution_count": 13,
   "metadata": {},
   "outputs": [],
   "source": [
    "X = np.array([np.ones(N),x]).T\n",
    "\n",
    "cov_betas = np.linalg.inv(X.T@X)\n",
    "\n",
    "lower_bound_b0 = norm.ppf(0.025, loc = beta_0, scale = np.sqrt(cov_betas[0,0]))\n",
    "upper_bound_b0 = norm.ppf(0.975, loc = beta_0, scale = np.sqrt(cov_betas[0,0]))\n",
    "\n",
    "lower_bound_b1 = norm.ppf(0.025, loc = beta_1, scale = np.sqrt(cov_betas[1,1]))\n",
    "upper_bound_b1 = norm.ppf(0.975, loc = beta_1, scale = np.sqrt(cov_betas[1,1]))"
   ]
  },
  {
   "cell_type": "code",
   "execution_count": 14,
   "metadata": {},
   "outputs": [
    {
     "name": "stdout",
     "output_type": "stream",
     "text": [
      "b0 ols\n",
      "0.7528436003513104\n",
      "3.247156399648689\n",
      "--------------------\n",
      "b1 ols\n",
      "1.0160501113272864\n",
      "4.983949888672713\n"
     ]
    }
   ],
   "source": [
    "print('b0 ols')\n",
    "print(lower_bound_b0)\n",
    "print(upper_bound_b0)\n",
    "print('--------------------')\n",
    "print('b1 ols')\n",
    "print(lower_bound_b1)\n",
    "print(upper_bound_b1)"
   ]
  },
  {
   "cell_type": "markdown",
   "metadata": {},
   "source": [
    "To perform a bootstrap for linear regression, there exist at least four methods: empirical/paired bootstrap, residual based bootstrap, wild bootstrap and block bootstrap . The first and second methods are the most commonly used when the basic assumptions of OLS hold (Gauss-Markov theorem). The third and four methods tackle the issues arising from heteroskedasticity and serial correlation. We will stick with the first approach due to it's similarity with the simple average procedure."
   ]
  },
  {
   "cell_type": "code",
   "execution_count": 15,
   "metadata": {},
   "outputs": [
    {
     "name": "stdout",
     "output_type": "stream",
     "text": [
      "b0 simple bootstrap\n",
      "1.3827090299675469\n",
      "2.9195420178453806\n",
      "--------------------\n",
      "b1 simple bootstrap\n",
      "1.3635774423702434\n",
      "3.8284512147081617\n"
     ]
    }
   ],
   "source": [
    "# Residual based approach\n",
    "\n",
    "e = Y - (beta_hat[0]+beta_hat[1]*x)\n",
    "\n",
    "M = 100_000\n",
    "\n",
    "beta_hat_boost = np.zeros((M,2))\n",
    "\n",
    "for i in range(M):\n",
    "\n",
    "    Y_boost = beta_hat[0]+beta_hat[1]*x + np.random.choice(e, N, replace= True)\n",
    "\n",
    "    model_boost = LinearRegression().fit(x.reshape(-1,1),Y_boost)\n",
    "\n",
    "    beta_hat_boost[i,:] = np.hstack((model_boost.intercept_,model_boost.coef_))\n",
    "\n",
    "lower_bound_b0_boost = np.percentile(beta_hat_boost[:,0], 2.5)\n",
    "upper_bound_b0_boost = np.percentile(beta_hat_boost[:,0], 97.5)\n",
    "\n",
    "lower_bound_b1_boost = np.percentile(beta_hat_boost[:,1], 2.5)\n",
    "upper_bound_b1_boost = np.percentile(beta_hat_boost[:,1], 97.5)\n",
    "\n",
    "print('b0 simple bootstrap')\n",
    "print(lower_bound_b0_boost)\n",
    "print(upper_bound_b0_boost)\n",
    "print('--------------------')\n",
    "print('b1 simple bootstrap')\n",
    "print(lower_bound_b1_boost)\n",
    "print(upper_bound_b1_boost)"
   ]
  },
  {
   "cell_type": "code",
   "execution_count": 16,
   "metadata": {},
   "outputs": [],
   "source": [
    "# M = 100_000\n",
    "\n",
    "# beta_hat_boost = np.zeros((M,2))\n",
    "\n",
    "# for i in range(M):\n",
    "\n",
    "#     Z = np.hstack((x.reshape(-1,1),Y.reshape(-1,1)))\n",
    "\n",
    "#     random_index = np.random.choice(N,N,replace= True)\n",
    "\n",
    "#     Z_boost = Z[random_index]\n",
    "\n",
    "#     model_boost = LinearRegression().fit(Z_boost[:,0:1],Z_boost[:,1])\n",
    "\n",
    "#     beta_hat_boost[i,:] = np.hstack((model_boost.intercept_,model_boost.coef_))\n",
    "\n",
    "# lower_bound_b0_boost = np.percentile(beta_hat_boost[:,0], 2.5)\n",
    "# upper_bound_b0_boost = np.percentile(beta_hat_boost[:,0], 97.5)\n",
    "\n",
    "# lower_bound_b1_boost = np.percentile(beta_hat_boost[:,1], 2.5)\n",
    "# upper_bound_b1_boost = np.percentile(beta_hat_boost[:,1], 97.5)\n",
    "\n",
    "# print('b0 simple bootstrap')\n",
    "# print(lower_bound_b0_boost)\n",
    "# print(upper_bound_b0_boost)\n",
    "# print('--------------------')\n",
    "# print('b1 simple bootstrap')\n",
    "# print(lower_bound_b1_boost)\n",
    "# print(upper_bound_b1_boost)"
   ]
  },
  {
   "cell_type": "code",
   "execution_count": 17,
   "metadata": {},
   "outputs": [],
   "source": [
    "delta_b0 = beta_hat_boost[:,0] - beta_hat[0]\n",
    "delta_b1 = beta_hat_boost[:,1] - beta_hat[1]\n",
    "\n",
    "lower_bound_b0_hall = beta_hat[0] - np.percentile(delta_b0, 97.5)\n",
    "upper_bound_b0_hall = beta_hat[0] - np.percentile(delta_b0, 2.5)\n",
    "\n",
    "lower_bound_b1_hall = beta_hat[1] - np.percentile(delta_b1, 97.5)\n",
    "upper_bound_b1_hall = beta_hat[1] - np.percentile(delta_b1, 2.5)"
   ]
  },
  {
   "cell_type": "code",
   "execution_count": 18,
   "metadata": {},
   "outputs": [
    {
     "name": "stdout",
     "output_type": "stream",
     "text": [
      "b0 empirical bootstrap\n",
      "1.42239543168222\n",
      "2.959228419560054\n",
      "--------------------\n",
      "b1 empirical bootstrap\n",
      "1.35377648846943\n",
      "3.8186502608073485\n"
     ]
    }
   ],
   "source": [
    "print('b0 empirical bootstrap')\n",
    "print(lower_bound_b0_hall)\n",
    "print(upper_bound_b0_hall)\n",
    "print('--------------------')\n",
    "print('b1 empirical bootstrap')\n",
    "print(lower_bound_b1_hall)\n",
    "print(upper_bound_b1_hall)"
   ]
  },
  {
   "cell_type": "code",
   "execution_count": 19,
   "metadata": {},
   "outputs": [
    {
     "data": {
      "text/plain": [
       "<matplotlib.legend.Legend at 0x20456cbcf90>"
      ]
     },
     "execution_count": 19,
     "metadata": {},
     "output_type": "execute_result"
    },
    {
     "data": {
      "image/png": "[encoded data removed]",
      "text/plain": [
       "<Figure size 640x480 with 2 Axes>"
      ]
     },
     "metadata": {},
     "output_type": "display_data"
    }
   ],
   "source": [
    "fig, ax = plt.subplots(2,1)\n",
    "\n",
    "hist_b0 = ax[0].hist(beta_hat_MC[:,0], bins = 100 ,density= True)\n",
    "\n",
    "ax[0].axvline(lower_bound_b0_MC, color = 'red', label = 'Theoretical CI')\n",
    "ax[0].axvline(upper_bound_b0_MC, color = 'red')\n",
    "\n",
    "ax[0].axvline(lower_bound_b0, color = 'blue', label = 'Asymptotic CI')\n",
    "ax[0].axvline(upper_bound_b0, color = 'blue')\n",
    "\n",
    "ax[0].axvline(lower_bound_b0_boost, color = 'black', label = 'Simple bootstrap CI')\n",
    "ax[0].axvline(upper_bound_b0_boost, color = 'black')\n",
    "\n",
    "ax[0].axvline(lower_bound_b0_hall, color = 'purple', label = 'Empirical bootstrap CI')\n",
    "ax[0].axvline(upper_bound_b0_hall, color = 'purple')\n",
    "\n",
    "\n",
    "hist_b1 = ax[1].hist(beta_hat_MC[:,1], bins = 100 ,density= True)\n",
    "\n",
    "ax[1].axvline(lower_bound_b1_MC, color = 'red', label = 'Theoretical CI')\n",
    "ax[1].axvline(upper_bound_b1_MC, color = 'red')\n",
    "\n",
    "ax[1].axvline(lower_bound_b1, color = 'blue', label = 'Asymptotic CI')\n",
    "ax[1].axvline(upper_bound_b1, color = 'blue')\n",
    "\n",
    "ax[1].axvline(lower_bound_b1_boost, color = 'black', label = 'Simple bootstrap CI')\n",
    "ax[1].axvline(upper_bound_b1_boost, color = 'black')\n",
    "\n",
    "ax[1].axvline(lower_bound_b1_hall, color = 'purple', label = 'Empirical bootstrap CI')\n",
    "ax[1].axvline(upper_bound_b1_hall, color = 'purple')\n",
    "\n",
    "ax[0].legend()\n",
    "ax[1].legend()\n"
   ]
  }
 ],
 "metadata": {
  "kernelspec": {
   "display_name": ".venv",
   "language": "python",
   "name": "python3"
  },
  "language_info": {
   "codemirror_mode": {
    "name": "ipython",
    "version": 3
   },
   "file_extension": ".py",
   "mimetype": "text/x-python",
   "name": "python",
   "nbconvert_exporter": "python",
   "pygments_lexer": "ipython3",
   "version": "3.11.5"
  }
 },
 "nbformat": 4,
 "nbformat_minor": 2
}
