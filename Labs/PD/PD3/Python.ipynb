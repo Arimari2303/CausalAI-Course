{
 "cells": [
  {
   "cell_type": "markdown",
   "metadata": {},
   "source": [
    "# Lab 3: Asymptotic Properties of Best Linear Predictor and Partialling Out\n",
    "\n",
    "To see how partialling out functions both at the population and at the sample level, we will first review the asymptotic properties of the BLP that we defined in previous classes.\n",
    "\n",
    "First we load the libraries."
   ]
  },
  {
   "cell_type": "code",
   "execution_count": 1,
   "metadata": {},
   "outputs": [],
   "source": [
    "import numpy as np\n",
    "import statsmodels.api as sms"
   ]
  },
  {
   "cell_type": "markdown",
   "metadata": {},
   "source": [
    "Recall the usual linear model. We have a collection of random variables $(Y, X) \\in \\mathbb{R}\\times\\mathbb{R}^p$, with some joint distribution $\\mathcal{D}$, and . We can build a linear approximation of $Y$ given $X$ at the population level by finding a $\\beta$ such that\n",
    "\n",
    "\\begin{gather*}\n",
    "\\beta \\in \\arg\\min_{b\\in\\mathbb{R}^p}E\\left[\\left(Y-Xb\\right)^2\\right]\n",
    "\\end{gather*}\n",
    "\n",
    "However, when working with samples, we estimate $\\beta$ by building $\\hat{\\beta}$ such that\n",
    "\n",
    "\\begin{gather*}\n",
    "\\hat{\\beta} = \\arg\\min_{b\\in\\mathbb{R}^p}\\mathbb{E}_n\\left[\\left(Y-Xb\\right)^2\\right]\n",
    "\\end{gather*}\n",
    "\n",
    "Like in the previous lab, we will approximate $Y$ drawn from the following data generating process\n",
    "\n",
    "\\begin{align*}\n",
    "Y &= e^{4X} + \\epsilon_Y\\\\\n",
    "X &= \\epsilon_X\\\\\n",
    "\\epsilon_Y &\\sim\\mathcal{N}(0, 1)\\\\\n",
    "\\epsilon_X&\\sim\\mathcal{U}(0, 1)\n",
    "\\end{align*}"
   ]
  },
  {
   "cell_type": "code",
   "execution_count": 2,
   "metadata": {},
   "outputs": [],
   "source": [
    "N = 10_000_000\n",
    "X = np.random.uniform(0, 1, (N, 1))\n",
    "epsilon_y = np.random.normal(0, 1, (N, 1))\n",
    "y = np.exp(4 * X) + epsilon_y"
   ]
  },
  {
   "cell_type": "markdown",
   "metadata": {},
   "source": [
    "Remember that our initial goal is to approximate $Y$ through some linear function, which in this case means we want to approximate $g(X) = e^{4X}$. To do this, we will use a third degree polynomial like in last lab, meaning we will define $Z = (X, X^2, X^3)$ and use the least squares method to find $m(Z)\\approx g(X)$. With this approximation we have that\n",
    "\n",
    "\\begin{gather*}\n",
    "Y = m(Z) + \\varepsilon\\\\\n",
    "m(Z) = Z\\gamma_{YZ}\n",
    "\\end{gather*}\n",
    "\n",
    "where $\\gamma_{YZ}$ is the vector of coefficients. This time, we will take a closer look at these coefficients."
   ]
  },
  {
   "cell_type": "code",
   "execution_count": 3,
   "metadata": {},
   "outputs": [],
   "source": [
    "Z = np.hstack((X, X ** 2, X ** 3))"
   ]
  },
  {
   "cell_type": "code",
   "execution_count": 4,
   "metadata": {},
   "outputs": [
    {
     "name": "stdout",
     "output_type": "stream",
     "text": [
      "                                 OLS Regression Results                                \n",
      "=======================================================================================\n",
      "Dep. Variable:                      y   R-squared (uncentered):                   0.997\n",
      "Model:                            OLS   Adj. R-squared (uncentered):              0.997\n",
      "Method:                 Least Squares   F-statistic:                          1.026e+09\n",
      "Date:                Wed, 06 Aug 2025   Prob (F-statistic):                        0.00\n",
      "Time:                        11:44:20   Log-Likelihood:                     -1.5139e+07\n",
      "No. Observations:            10000000   AIC:                                  3.028e+07\n",
      "Df Residuals:                 9999997   BIC:                                  3.028e+07\n",
      "Df Model:                           3                                                  \n",
      "Covariance Type:            nonrobust                                                  \n",
      "==============================================================================\n",
      "                 coef    std err          t      P>|t|      [0.025      0.975]\n",
      "------------------------------------------------------------------------------\n",
      "x1            23.2606      0.006   3862.841      0.000      23.249      23.272\n",
      "x2           -67.5387      0.019  -3619.916      0.000     -67.575     -67.502\n",
      "x3            97.1532      0.014   7041.173      0.000      97.126      97.180\n",
      "==============================================================================\n",
      "Omnibus:                     2695.595   Durbin-Watson:                   2.000\n",
      "Prob(Omnibus):                  0.000   Jarque-Bera (JB):             2697.772\n",
      "Skew:                           0.040   Prob(JB):                         0.00\n",
      "Kurtosis:                       3.000   Cond. No.                         55.6\n",
      "==============================================================================\n",
      "\n",
      "Notes:\n",
      "[1] R² is computed without centering (uncentered) since the model does not contain a constant.\n",
      "[2] Standard Errors assume that the covariance matrix of the errors is correctly specified.\n"
     ]
    }
   ],
   "source": [
    "model = sms.OLS(y, Z)\n",
    "print(model.fit().summary())"
   ]
  },
  {
   "cell_type": "markdown",
   "metadata": {},
   "source": [
    "We now pick three samples: a small one (about 50 observations), a medium one (about 250 observations) and a large (close to 10 000 observations)"
   ]
  },
  {
   "cell_type": "code",
   "execution_count": 7,
   "metadata": {},
   "outputs": [
    {
     "name": "stdout",
     "output_type": "stream",
     "text": [
      "Small sample size: 58\n",
      "Medium sample size: 275\n",
      "Large sample size: 10014\n"
     ]
    }
   ],
   "source": [
    "sampling_values = np.random.uniform(0, 1, (N, 1))\n",
    "small_sample = (sampling_values < .000005).reshape(-1)\n",
    "medium_sample = (sampling_values < .000025).reshape(-1)\n",
    "large_sample = (sampling_values < .001).reshape(-1)\n",
    "\n",
    "print(\"Small sample size:\", small_sample.sum())\n",
    "print(\"Medium sample size:\", medium_sample.sum())\n",
    "print(\"Large sample size:\", large_sample.sum())"
   ]
  },
  {
   "cell_type": "markdown",
   "metadata": {},
   "source": [
    "Our $\\hat{\\beta}$ should more closely approximate $\\beta$'s distribution as $n$ grows. We can see this when we fit a model with all the population and compare it with larger and larger samples because our estimator $\\hat{\\beta}$ is distributed as\n",
    "\n",
    "\\begin{gather*}\n",
    "\\hat{\\beta}\\sim\\mathcal{N}(\\beta, \\bold{V}/n)\n",
    "\\end{gather*}\n",
    "\n",
    "Notice that the variance shrinks with the sample size. In the following example results, pay attention to what happens to the confidence intervals when as the sample size grows"
   ]
  },
  {
   "cell_type": "code",
   "execution_count": 8,
   "metadata": {},
   "outputs": [
    {
     "name": "stdout",
     "output_type": "stream",
     "text": [
      "                                 OLS Regression Results                                \n",
      "=======================================================================================\n",
      "Dep. Variable:                      y   R-squared (uncentered):                   0.997\n",
      "Model:                            OLS   Adj. R-squared (uncentered):              0.997\n",
      "Method:                 Least Squares   F-statistic:                              6456.\n",
      "Date:                Wed, 06 Aug 2025   Prob (F-statistic):                    5.11e-70\n",
      "Time:                        11:45:58   Log-Likelihood:                         -86.138\n",
      "No. Observations:                  58   AIC:                                      178.3\n",
      "Df Residuals:                      55   BIC:                                      184.5\n",
      "Df Model:                           3                                                  \n",
      "Covariance Type:            nonrobust                                                  \n",
      "==============================================================================\n",
      "                 coef    std err          t      P>|t|      [0.025      0.975]\n",
      "------------------------------------------------------------------------------\n",
      "x1            22.7271      2.545      8.930      0.000      17.627      27.827\n",
      "x2           -67.8694      7.978     -8.507      0.000     -83.857     -51.881\n",
      "x3            97.8457      6.014     16.270      0.000      85.794     109.898\n",
      "==============================================================================\n",
      "Omnibus:                        9.664   Durbin-Watson:                   2.077\n",
      "Prob(Omnibus):                  0.008   Jarque-Bera (JB):                9.195\n",
      "Skew:                           0.874   Prob(JB):                       0.0101\n",
      "Kurtosis:                       3.864   Cond. No.                         60.8\n",
      "==============================================================================\n",
      "\n",
      "Notes:\n",
      "[1] R² is computed without centering (uncentered) since the model does not contain a constant.\n",
      "[2] Standard Errors assume that the covariance matrix of the errors is correctly specified.\n"
     ]
    }
   ],
   "source": [
    "print(sms.OLS(y[small_sample], Z[small_sample, :]).fit().summary())"
   ]
  },
  {
   "cell_type": "code",
   "execution_count": 9,
   "metadata": {},
   "outputs": [
    {
     "name": "stdout",
     "output_type": "stream",
     "text": [
      "                                 OLS Regression Results                                \n",
      "=======================================================================================\n",
      "Dep. Variable:                      y   R-squared (uncentered):                   0.997\n",
      "Model:                            OLS   Adj. R-squared (uncentered):              0.997\n",
      "Method:                 Least Squares   F-statistic:                          3.195e+04\n",
      "Date:                Wed, 06 Aug 2025   Prob (F-statistic):                        0.00\n",
      "Time:                        11:46:00   Log-Likelihood:                         -417.14\n",
      "No. Observations:                 275   AIC:                                      840.3\n",
      "Df Residuals:                     272   BIC:                                      851.1\n",
      "Df Model:                           3                                                  \n",
      "Covariance Type:            nonrobust                                                  \n",
      "==============================================================================\n",
      "                 coef    std err          t      P>|t|      [0.025      0.975]\n",
      "------------------------------------------------------------------------------\n",
      "x1            22.0547      1.193     18.488      0.000      19.706      24.403\n",
      "x2           -64.0080      3.696    -17.317      0.000     -71.285     -56.731\n",
      "x3            94.5617      2.730     34.640      0.000      89.187      99.936\n",
      "==============================================================================\n",
      "Omnibus:                        0.330   Durbin-Watson:                   2.256\n",
      "Prob(Omnibus):                  0.848   Jarque-Bera (JB):                0.322\n",
      "Skew:                           0.082   Prob(JB):                        0.851\n",
      "Kurtosis:                       2.965   Cond. No.                         60.9\n",
      "==============================================================================\n",
      "\n",
      "Notes:\n",
      "[1] R² is computed without centering (uncentered) since the model does not contain a constant.\n",
      "[2] Standard Errors assume that the covariance matrix of the errors is correctly specified.\n"
     ]
    }
   ],
   "source": [
    "print(sms.OLS(y[medium_sample], Z[medium_sample]).fit().summary())"
   ]
  },
  {
   "cell_type": "code",
   "execution_count": 10,
   "metadata": {},
   "outputs": [
    {
     "name": "stdout",
     "output_type": "stream",
     "text": [
      "                                 OLS Regression Results                                \n",
      "=======================================================================================\n",
      "Dep. Variable:                      y   R-squared (uncentered):                   0.997\n",
      "Model:                            OLS   Adj. R-squared (uncentered):              0.997\n",
      "Method:                 Least Squares   F-statistic:                          1.068e+06\n",
      "Date:                Wed, 06 Aug 2025   Prob (F-statistic):                        0.00\n",
      "Time:                        11:46:05   Log-Likelihood:                         -15073.\n",
      "No. Observations:               10014   AIC:                                  3.015e+04\n",
      "Df Residuals:                   10011   BIC:                                  3.017e+04\n",
      "Df Model:                           3                                                  \n",
      "Covariance Type:            nonrobust                                                  \n",
      "==============================================================================\n",
      "                 coef    std err          t      P>|t|      [0.025      0.975]\n",
      "------------------------------------------------------------------------------\n",
      "x1            23.3644      0.189    123.689      0.000      22.994      23.735\n",
      "x2           -68.0192      0.586   -116.097      0.000     -69.168     -66.871\n",
      "x3            97.5295      0.434    224.973      0.000      96.680      98.379\n",
      "==============================================================================\n",
      "Omnibus:                       11.239   Durbin-Watson:                   1.993\n",
      "Prob(Omnibus):                  0.004   Jarque-Bera (JB):               11.430\n",
      "Skew:                           0.068   Prob(JB):                      0.00330\n",
      "Kurtosis:                       3.095   Cond. No.                         56.3\n",
      "==============================================================================\n",
      "\n",
      "Notes:\n",
      "[1] R² is computed without centering (uncentered) since the model does not contain a constant.\n",
      "[2] Standard Errors assume that the covariance matrix of the errors is correctly specified.\n"
     ]
    }
   ],
   "source": [
    "print(sms.OLS(y[large_sample], Z[large_sample]).fit().summary())"
   ]
  },
  {
   "cell_type": "markdown",
   "metadata": {},
   "source": [
    "Now that we have reviewed this, we can add another variable to the mix. This variable will be jointly distributed with X and with Y. We will define the data generating process as:\n",
    "\n",
    "\\begin{align*}\n",
    "Y &= \\theta D + e^{4X} + \\epsilon_Y\\\\\n",
    "D &= e^X - \\log{(X)} + \\epsilon_D\\\\\n",
    "X &= \\epsilon_X\\\\\n",
    "\\epsilon_Y, \\epsilon_D&\\sim\\text{i.i.d.}\\mathcal{N}(0, 1)\\\\\n",
    "\\epsilon_X&\\sim\\mathcal{U}(0, 1)\n",
    "\\end{align*}"
   ]
  },
  {
   "cell_type": "code",
   "execution_count": 11,
   "metadata": {},
   "outputs": [],
   "source": [
    "epsilon_d = np.random.normal(0, 1, (N, 1))\n",
    "D = np.exp(X) - np.log(X) + epsilon_d\n",
    "y = 3 * D + np.exp(4 * X) + epsilon_y"
   ]
  },
  {
   "cell_type": "markdown",
   "metadata": {},
   "source": [
    "We will focus on understanding partialling out with this example. We will go step by step to help illustrate each step of the partialling out process and how we get the results. First, let's take a look at the coefficients for our regressors when they are jointly estimated, meaning that we find the BLP of the form\n",
    "\n",
    "\\begin{gather*}\n",
    "Y = \\theta D + Z\\gamma + \\varepsilon \\quad\\quad(1)\n",
    "\\end{gather*}"
   ]
  },
  {
   "cell_type": "code",
   "execution_count": 12,
   "metadata": {},
   "outputs": [
    {
     "name": "stdout",
     "output_type": "stream",
     "text": [
      "                                 OLS Regression Results                                \n",
      "=======================================================================================\n",
      "Dep. Variable:                      y   R-squared (uncentered):                   0.998\n",
      "Model:                            OLS   Adj. R-squared (uncentered):              0.998\n",
      "Method:                 Least Squares   F-statistic:                          1.355e+09\n",
      "Date:                Wed, 06 Aug 2025   Prob (F-statistic):                        0.00\n",
      "Time:                        11:46:17   Log-Likelihood:                     -1.5137e+07\n",
      "No. Observations:            10000000   AIC:                                  3.027e+07\n",
      "Df Residuals:                 9999996   BIC:                                  3.027e+07\n",
      "Df Model:                           4                                                  \n",
      "Covariance Type:            nonrobust                                                  \n",
      "==============================================================================\n",
      "                 coef    std err          t      P>|t|      [0.025      0.975]\n",
      "------------------------------------------------------------------------------\n",
      "x1             3.0108      0.000   1.39e+04      0.000       3.010       3.011\n",
      "x2            23.0136      0.008   2950.425      0.000      22.998      23.029\n",
      "x3           -66.9903      0.022  -3092.525      0.000     -67.033     -66.948\n",
      "x4            96.8118      0.015   6284.703      0.000      96.782      96.842\n",
      "==============================================================================\n",
      "Omnibus:                     2670.781   Durbin-Watson:                   2.000\n",
      "Prob(Omnibus):                  0.000   Jarque-Bera (JB):             2672.916\n",
      "Skew:                           0.040   Prob(JB):                         0.00\n",
      "Kurtosis:                       3.001   Cond. No.                         239.\n",
      "==============================================================================\n",
      "\n",
      "Notes:\n",
      "[1] R² is computed without centering (uncentered) since the model does not contain a constant.\n",
      "[2] Standard Errors assume that the covariance matrix of the errors is correctly specified.\n"
     ]
    }
   ],
   "source": [
    "base_model_results = sms.OLS(y, np.hstack((D, Z))).fit()\n",
    "print(base_model_results.summary())"
   ]
  },
  {
   "cell_type": "markdown",
   "metadata": {},
   "source": [
    "Here we have a linear approximation that uses all the variables at the same time, and all coefficients are estimated jointly. As before, this means that\n",
    "\n",
    "\\begin{gather*}\n",
    "Y = \\hat{\\theta}D + Z\\hat{\\gamma} + \\varepsilon\n",
    "\\end{gather*}\n",
    "\n",
    "We will save the residuals $\\varepsilon$ of this regression for later"
   ]
  },
  {
   "cell_type": "code",
   "execution_count": 13,
   "metadata": {},
   "outputs": [],
   "source": [
    "y_residuals = base_model_results.resid.reshape((-1, 1))"
   ]
  },
  {
   "cell_type": "markdown",
   "metadata": {},
   "source": [
    "As we saw in class, partialling out consists of computing the residuals $\\~V$ for each variable $V$ in our regression with some collection of regressors $W$.\n",
    "\n",
    "\\begin{gather*}\n",
    "\\~V=V-\\hat{V}\n",
    "\\end{gather*}\n",
    "\n",
    "Where $\\hat{V}=m(W)$ is a prediction rule for $V$ with $W$. The vectors $\\~V$ are called the \"residuals of $V$ on $W$.\" In the following examples, we will focus on the best linear predictor built with $Z = (X, X^2, X^3)$. This means we estimate\n",
    "\n",
    "\\begin{align*}\n",
    "Y =& Z\\gamma_{ZY} + \\varepsilon_{ZY}\\\\\n",
    "D =& Z\\gamma_{ZD} + \\varepsilon_{ZD}\\\\\n",
    "&\\text{etc...}\n",
    "\\end{align*}\n",
    "\n",
    "After estimating these linear predictors, we build the residuals\n",
    "\n",
    "\\begin{align*}\n",
    "\\tilde{Y} =& Y - Z\\hat{\\gamma}_{ZY}\\\\\n",
    "\\tilde{D} =& D - Z\\hat{\\gamma}_{ZD}\\\\\n",
    "&\\text{etc...}\n",
    "\\end{align*}\n",
    "\n",
    "We will be building these residuals for all the variables in our regression on our collection of constructed regressors $Z$, starting with the residuals of $Y$ on $Z$, $\\~Y$"
   ]
  },
  {
   "cell_type": "code",
   "execution_count": 14,
   "metadata": {},
   "outputs": [
    {
     "name": "stdout",
     "output_type": "stream",
     "text": [
      "                                 OLS Regression Results                                \n",
      "=======================================================================================\n",
      "Dep. Variable:                      y   R-squared (uncentered):                   0.963\n",
      "Model:                            OLS   Adj. R-squared (uncentered):              0.963\n",
      "Method:                 Least Squares   F-statistic:                          8.587e+07\n",
      "Date:                Wed, 06 Aug 2025   Prob (F-statistic):                        0.00\n",
      "Time:                        11:46:28   Log-Likelihood:                     -3.0188e+07\n",
      "No. Observations:            10000000   AIC:                                  6.038e+07\n",
      "Df Residuals:                 9999997   BIC:                                  6.038e+07\n",
      "Df Model:                           3                                                  \n",
      "Covariance Type:            nonrobust                                                  \n",
      "==============================================================================\n",
      "                 coef    std err          t      P>|t|      [0.025      0.975]\n",
      "------------------------------------------------------------------------------\n",
      "x1            91.8885      0.027   3388.036      0.000      91.835      91.942\n",
      "x2          -219.9137      0.084  -2616.969      0.000    -220.078    -219.749\n",
      "x3           191.9915      0.062   3089.376      0.000     191.870     192.113\n",
      "==============================================================================\n",
      "Omnibus:                  2678258.840   Durbin-Watson:                   1.932\n",
      "Prob(Omnibus):                  0.000   Jarque-Bera (JB):          9014465.133\n",
      "Skew:                           1.347   Prob(JB):                         0.00\n",
      "Kurtosis:                       6.792   Cond. No.                         55.6\n",
      "==============================================================================\n",
      "\n",
      "Notes:\n",
      "[1] R² is computed without centering (uncentered) since the model does not contain a constant.\n",
      "[2] Standard Errors assume that the covariance matrix of the errors is correctly specified.\n"
     ]
    }
   ],
   "source": [
    "y_Z_model = sms.OLS(y, Z).fit()\n",
    "y_Z_residuals = y_Z_model.resid.reshape((-1, 1))\n",
    "print(y_Z_model.summary())"
   ]
  },
  {
   "cell_type": "markdown",
   "metadata": {},
   "source": [
    "$\\~D$:"
   ]
  },
  {
   "cell_type": "code",
   "execution_count": 15,
   "metadata": {},
   "outputs": [
    {
     "name": "stdout",
     "output_type": "stream",
     "text": [
      "                                 OLS Regression Results                                \n",
      "=======================================================================================\n",
      "Dep. Variable:                      y   R-squared (uncentered):                   0.709\n",
      "Model:                            OLS   Adj. R-squared (uncentered):              0.709\n",
      "Method:                 Least Squares   F-statistic:                          8.106e+06\n",
      "Date:                Wed, 06 Aug 2025   Prob (F-statistic):                        0.00\n",
      "Time:                        11:46:41   Log-Likelihood:                     -1.8914e+07\n",
      "No. Observations:            10000000   AIC:                                  3.783e+07\n",
      "Df Residuals:                 9999997   BIC:                                  3.783e+07\n",
      "Df Model:                           3                                                  \n",
      "Covariance Type:            nonrobust                                                  \n",
      "==============================================================================\n",
      "                 coef    std err          t      P>|t|      [0.025      0.975]\n",
      "------------------------------------------------------------------------------\n",
      "x1            22.8760      0.009   2604.487      0.000      22.859      22.893\n",
      "x2           -50.7916      0.027  -1866.356      0.000     -50.845     -50.738\n",
      "x3            31.6128      0.020   1570.751      0.000      31.573      31.652\n",
      "==============================================================================\n",
      "Omnibus:                  2494189.860   Durbin-Watson:                   1.927\n",
      "Prob(Omnibus):                  0.000   Jarque-Bera (JB):          7764689.157\n",
      "Skew:                           1.281   Prob(JB):                         0.00\n",
      "Kurtosis:                       6.474   Cond. No.                         55.6\n",
      "==============================================================================\n",
      "\n",
      "Notes:\n",
      "[1] R² is computed without centering (uncentered) since the model does not contain a constant.\n",
      "[2] Standard Errors assume that the covariance matrix of the errors is correctly specified.\n"
     ]
    }
   ],
   "source": [
    "D_Z_model = sms.OLS(D, Z).fit()\n",
    "D_Z_residuals = D_Z_model.resid.reshape((-1, 1))\n",
    "print(D_Z_model.summary())"
   ]
  },
  {
   "cell_type": "markdown",
   "metadata": {},
   "source": [
    "$\\~X$:"
   ]
  },
  {
   "cell_type": "code",
   "execution_count": 16,
   "metadata": {},
   "outputs": [
    {
     "name": "stdout",
     "output_type": "stream",
     "text": [
      "                                 OLS Regression Results                                \n",
      "=======================================================================================\n",
      "Dep. Variable:                      y   R-squared (uncentered):                   1.000\n",
      "Model:                            OLS   Adj. R-squared (uncentered):              1.000\n",
      "Method:                 Least Squares   F-statistic:                          4.519e+34\n",
      "Date:                Wed, 06 Aug 2025   Prob (F-statistic):                        0.00\n",
      "Time:                        11:46:51   Log-Likelihood:                      3.1519e+08\n",
      "No. Observations:            10000000   AIC:                                 -6.304e+08\n",
      "Df Residuals:                 9999997   BIC:                                 -6.304e+08\n",
      "Df Model:                           3                                                  \n",
      "Covariance Type:            nonrobust                                                  \n",
      "==============================================================================\n",
      "                 coef    std err          t      P>|t|      [0.025      0.975]\n",
      "------------------------------------------------------------------------------\n",
      "x1             1.0000   2.72e-17   3.68e+16      0.000       1.000       1.000\n",
      "x2          5.003e-16   8.41e-17      5.946      0.000    3.35e-16    6.65e-16\n",
      "x3          2.828e-18   6.22e-17      0.045      0.964   -1.19e-16    1.25e-16\n",
      "==============================================================================\n",
      "Omnibus:                  8945620.329   Durbin-Watson:                   0.514\n",
      "Prob(Omnibus):                  0.000   Jarque-Bera (JB):           603135.000\n",
      "Skew:                          -0.038   Prob(JB):                         0.00\n",
      "Kurtosis:                       1.799   Cond. No.                         55.6\n",
      "==============================================================================\n",
      "\n",
      "Notes:\n",
      "[1] R² is computed without centering (uncentered) since the model does not contain a constant.\n",
      "[2] Standard Errors assume that the covariance matrix of the errors is correctly specified.\n"
     ]
    }
   ],
   "source": [
    "X1_Z_model = sms.OLS(Z[:, 0], Z).fit()\n",
    "X1_Z_residuals= X1_Z_model.resid.reshape((-1, 1))\n",
    "print(X1_Z_model.summary())"
   ]
  },
  {
   "cell_type": "markdown",
   "metadata": {},
   "source": [
    "$\\tilde{X^2}$:"
   ]
  },
  {
   "cell_type": "code",
   "execution_count": 17,
   "metadata": {},
   "outputs": [
    {
     "name": "stdout",
     "output_type": "stream",
     "text": [
      "                                 OLS Regression Results                                \n",
      "=======================================================================================\n",
      "Dep. Variable:                      y   R-squared (uncentered):                   1.000\n",
      "Model:                            OLS   Adj. R-squared (uncentered):              1.000\n",
      "Method:                 Least Squares   F-statistic:                          1.252e+34\n",
      "Date:                Wed, 06 Aug 2025   Prob (F-statistic):                        0.00\n",
      "Time:                        11:46:59   Log-Likelihood:                      3.1132e+08\n",
      "No. Observations:            10000000   AIC:                                 -6.226e+08\n",
      "Df Residuals:                 9999997   BIC:                                 -6.226e+08\n",
      "Df Model:                           3                                                  \n",
      "Covariance Type:            nonrobust                                                  \n",
      "==============================================================================\n",
      "                 coef    std err          t      P>|t|      [0.025      0.975]\n",
      "------------------------------------------------------------------------------\n",
      "x1          1.952e-15      4e-17     48.844      0.000    1.87e-15    2.03e-15\n",
      "x2             1.0000   1.24e-16   8.08e+15      0.000       1.000       1.000\n",
      "x3          1.071e-16   9.16e-17      1.169      0.242   -7.24e-17    2.87e-16\n",
      "==============================================================================\n",
      "Omnibus:                  2020066.149   Durbin-Watson:                   0.825\n",
      "Prob(Omnibus):                  0.000   Jarque-Bera (JB):           909228.996\n",
      "Skew:                          -0.577   Prob(JB):                         0.00\n",
      "Kurtosis:                       2.078   Cond. No.                         55.6\n",
      "==============================================================================\n",
      "\n",
      "Notes:\n",
      "[1] R² is computed without centering (uncentered) since the model does not contain a constant.\n",
      "[2] Standard Errors assume that the covariance matrix of the errors is correctly specified.\n"
     ]
    }
   ],
   "source": [
    "X2_Z_model = sms.OLS(Z[:, 1], Z).fit()\n",
    "X2_Z_residuals= X2_Z_model.resid.reshape((-1, 1))\n",
    "print(X2_Z_model.summary())"
   ]
  },
  {
   "cell_type": "markdown",
   "metadata": {},
   "source": [
    "$\\tilde{X^3}$:"
   ]
  },
  {
   "cell_type": "code",
   "execution_count": 18,
   "metadata": {},
   "outputs": [
    {
     "name": "stdout",
     "output_type": "stream",
     "text": [
      "                                 OLS Regression Results                                \n",
      "=======================================================================================\n",
      "Dep. Variable:                      y   R-squared (uncentered):                   1.000\n",
      "Model:                            OLS   Adj. R-squared (uncentered):              1.000\n",
      "Method:                 Least Squares   F-statistic:                          1.235e+35\n",
      "Date:                Wed, 06 Aug 2025   Prob (F-statistic):                        0.00\n",
      "Time:                        11:47:10   Log-Likelihood:                      3.2445e+08\n",
      "No. Observations:            10000000   AIC:                                 -6.489e+08\n",
      "Df Residuals:                 9999997   BIC:                                 -6.489e+08\n",
      "Df Model:                           3                                                  \n",
      "Covariance Type:            nonrobust                                                  \n",
      "==============================================================================\n",
      "                 coef    std err          t      P>|t|      [0.025      0.975]\n",
      "------------------------------------------------------------------------------\n",
      "x1          4.543e-15   1.08e-17    422.392      0.000    4.52e-15    4.56e-15\n",
      "x2         -8.344e-15   3.33e-17   -250.395      0.000   -8.41e-15   -8.28e-15\n",
      "x3             1.0000   2.46e-17   4.06e+16      0.000       1.000       1.000\n",
      "==============================================================================\n",
      "Omnibus:                  1336808.133   Durbin-Watson:                   1.554\n",
      "Prob(Omnibus):                  0.000   Jarque-Bera (JB):          1962369.691\n",
      "Skew:                           1.084   Prob(JB):                         0.00\n",
      "Kurtosis:                       2.907   Cond. No.                         55.6\n",
      "==============================================================================\n",
      "\n",
      "Notes:\n",
      "[1] R² is computed without centering (uncentered) since the model does not contain a constant.\n",
      "[2] Standard Errors assume that the covariance matrix of the errors is correctly specified.\n"
     ]
    }
   ],
   "source": [
    "X3_Z_model = sms.OLS(Z[:, 2], Z).fit()\n",
    "X3_Z_residuals= X3_Z_model.resid.reshape((-1, 1))\n",
    "print(X3_Z_model.summary())"
   ]
  },
  {
   "cell_type": "markdown",
   "metadata": {},
   "source": [
    "$\\tilde{\\varepsilon_Y}$"
   ]
  },
  {
   "cell_type": "code",
   "execution_count": 19,
   "metadata": {},
   "outputs": [
    {
     "name": "stdout",
     "output_type": "stream",
     "text": [
      "                                 OLS Regression Results                                \n",
      "=======================================================================================\n",
      "Dep. Variable:                      y   R-squared (uncentered):                   0.000\n",
      "Model:                            OLS   Adj. R-squared (uncentered):             -0.000\n",
      "Method:                 Least Squares   F-statistic:                          5.136e-10\n",
      "Date:                Wed, 06 Aug 2025   Prob (F-statistic):                        1.00\n",
      "Time:                        11:47:21   Log-Likelihood:                     -1.5137e+07\n",
      "No. Observations:            10000000   AIC:                                  3.027e+07\n",
      "Df Residuals:                 9999997   BIC:                                  3.027e+07\n",
      "Df Model:                           3                                                  \n",
      "Covariance Type:            nonrobust                                                  \n",
      "==============================================================================\n",
      "                 coef    std err          t      P>|t|      [0.025      0.975]\n",
      "------------------------------------------------------------------------------\n",
      "x1         -1.923e-12      0.006  -3.19e-10      1.000      -0.012       0.012\n",
      "x2          7.287e-12      0.019   3.91e-10      1.000      -0.037       0.037\n",
      "x3          4.908e-12      0.014   3.56e-10      1.000      -0.027       0.027\n",
      "==============================================================================\n",
      "Omnibus:                     2670.781   Durbin-Watson:                   2.000\n",
      "Prob(Omnibus):                  0.000   Jarque-Bera (JB):             2672.916\n",
      "Skew:                           0.040   Prob(JB):                         0.00\n",
      "Kurtosis:                       3.001   Cond. No.                         55.6\n",
      "==============================================================================\n",
      "\n",
      "Notes:\n",
      "[1] R² is computed without centering (uncentered) since the model does not contain a constant.\n",
      "[2] Standard Errors assume that the covariance matrix of the errors is correctly specified.\n"
     ]
    }
   ],
   "source": [
    "residuals_Z_model = sms.OLS(y_residuals, Z).fit()\n",
    "residuals_Z_residuals = residuals_Z_model.resid.reshape((-1, 1))\n",
    "print(residuals_Z_model.summary())"
   ]
  },
  {
   "cell_type": "markdown",
   "metadata": {},
   "source": [
    "Now let us divert our attention to the relationship between the base model and a model constructed with the partialled out variables. The partialling out operation is linear, meaning that\n",
    "\n",
    "\\begin{align*}\n",
    "A = bB + cC \\Rightarrow \\tilde{A} = b\\tilde{B} + c\\tilde{C}\n",
    "\\end{align*}\n",
    "\n",
    "If we apply it to our initial BLP equation (1)\n",
    "\n",
    "\\begin{gather*}\n",
    "\\tilde{Y} = \\theta \\tilde{D} + \\tilde{Z}\\gamma + \\tilde{\\varepsilon} \\quad\\quad(2)\n",
    "\\end{gather*}\n",
    "\n",
    "We can verify this by computing the right side of this equation:\n",
    "\n",
    "\n"
   ]
  },
  {
   "cell_type": "code",
   "execution_count": 20,
   "metadata": {},
   "outputs": [
    {
     "data": {
      "text/plain": [
       "array([[-5.90340289],\n",
       "       [ 4.14541129],\n",
       "       [ 3.68388298],\n",
       "       ...,\n",
       "       [-0.13436055],\n",
       "       [ 0.41223384],\n",
       "       [-0.33203731]], shape=(10000000, 1))"
      ]
     },
     "execution_count": 20,
     "metadata": {},
     "output_type": "execute_result"
    }
   ],
   "source": [
    "right_side_residuals = sms.OLS(y_Z_residuals, np.hstack((D_Z_residuals, X1_Z_residuals, X2_Z_residuals, X3_Z_residuals))).fit().fittedvalues.reshape((-1, 1)) + residuals_Z_residuals\n",
    "right_side_residuals"
   ]
  },
  {
   "cell_type": "markdown",
   "metadata": {},
   "source": [
    "Now we compute the left side, which is just the residuals of $Y$ on $Z$"
   ]
  },
  {
   "cell_type": "code",
   "execution_count": 21,
   "metadata": {},
   "outputs": [
    {
     "data": {
      "text/plain": [
       "array([[-5.90274871],\n",
       "       [ 4.14594263],\n",
       "       [ 3.68433286],\n",
       "       ...,\n",
       "       [-0.13432159],\n",
       "       [ 0.41278974],\n",
       "       [-0.33181887]], shape=(10000000, 1))"
      ]
     },
     "execution_count": 21,
     "metadata": {},
     "output_type": "execute_result"
    }
   ],
   "source": [
    "y_Z_residuals"
   ]
  },
  {
   "cell_type": "markdown",
   "metadata": {},
   "source": [
    "If we compute the difference between the left side and the right side, we get extremely small values, which are likely due to floating point errors from our system"
   ]
  },
  {
   "cell_type": "code",
   "execution_count": 22,
   "metadata": {},
   "outputs": [
    {
     "data": {
      "text/plain": [
       "array([[6.54184905e-04],\n",
       "       [5.31336378e-04],\n",
       "       [4.49884625e-04],\n",
       "       ...,\n",
       "       [3.89607594e-05],\n",
       "       [5.55901212e-04],\n",
       "       [2.18442100e-04]], shape=(10000000, 1))"
      ]
     },
     "execution_count": 22,
     "metadata": {},
     "output_type": "execute_result"
    }
   ],
   "source": [
    "y_Z_residuals - right_side_residuals"
   ]
  },
  {
   "cell_type": "markdown",
   "metadata": {},
   "source": [
    "Why is the notable? If we take a look at (2), we should realize that\n",
    "1. $\\tilde{Z}=0$ as it can perfectly \"predict\" its own value; and\n",
    "2. $\\tilde{\\varepsilon}=\\varepsilon$ as $\\varepsilon$ is independent from (orthogonal to) X, and therefor cannot be predicted with it or with Z.\n",
    "\n",
    "This means that we can simplify (2) to\n",
    "\n",
    "\\begin{gather*}\n",
    "\\tilde{Y} = \\theta \\tilde{D} + \\varepsilon\\text{,}\\quad\\quad(3)\n",
    "\\end{gather*}\n",
    "\n",
    "meaning that we can regress $\\tilde{Y}$ on $\\tilde{D}$ and we will find the same result as with the jointly estimated predictor. To test this, first let's take a look again at the jointly estimated predictor."
   ]
  },
  {
   "cell_type": "code",
   "execution_count": 23,
   "metadata": {},
   "outputs": [
    {
     "name": "stdout",
     "output_type": "stream",
     "text": [
      "                                 OLS Regression Results                                \n",
      "=======================================================================================\n",
      "Dep. Variable:                      y   R-squared (uncentered):                   0.998\n",
      "Model:                            OLS   Adj. R-squared (uncentered):              0.998\n",
      "Method:                 Least Squares   F-statistic:                          1.355e+09\n",
      "Date:                Wed, 06 Aug 2025   Prob (F-statistic):                        0.00\n",
      "Time:                        11:48:20   Log-Likelihood:                     -1.5137e+07\n",
      "No. Observations:            10000000   AIC:                                  3.027e+07\n",
      "Df Residuals:                 9999996   BIC:                                  3.027e+07\n",
      "Df Model:                           4                                                  \n",
      "Covariance Type:            nonrobust                                                  \n",
      "==============================================================================\n",
      "                 coef    std err          t      P>|t|      [0.025      0.975]\n",
      "------------------------------------------------------------------------------\n",
      "x1             3.0108      0.000   1.39e+04      0.000       3.010       3.011\n",
      "x2            23.0136      0.008   2950.425      0.000      22.998      23.029\n",
      "x3           -66.9903      0.022  -3092.525      0.000     -67.033     -66.948\n",
      "x4            96.8118      0.015   6284.703      0.000      96.782      96.842\n",
      "==============================================================================\n",
      "Omnibus:                     2670.781   Durbin-Watson:                   2.000\n",
      "Prob(Omnibus):                  0.000   Jarque-Bera (JB):             2672.916\n",
      "Skew:                           0.040   Prob(JB):                         0.00\n",
      "Kurtosis:                       3.001   Cond. No.                         239.\n",
      "==============================================================================\n",
      "\n",
      "Notes:\n",
      "[1] R² is computed without centering (uncentered) since the model does not contain a constant.\n",
      "[2] Standard Errors assume that the covariance matrix of the errors is correctly specified.\n"
     ]
    }
   ],
   "source": [
    "print(base_model_results.summary())"
   ]
  },
  {
   "cell_type": "markdown",
   "metadata": {},
   "source": [
    "Now, according to (3), the result of regressing the residuals should be the same as above for $D$'s coefficient $\\theta$"
   ]
  },
  {
   "cell_type": "code",
   "execution_count": 24,
   "metadata": {},
   "outputs": [
    {
     "name": "stdout",
     "output_type": "stream",
     "text": [
      "                                 OLS Regression Results                                \n",
      "=======================================================================================\n",
      "Dep. Variable:                      y   R-squared (uncentered):                   0.951\n",
      "Model:                            OLS   Adj. R-squared (uncentered):              0.951\n",
      "Method:                 Least Squares   F-statistic:                          1.929e+08\n",
      "Date:                Wed, 06 Aug 2025   Prob (F-statistic):                        0.00\n",
      "Time:                        11:48:24   Log-Likelihood:                     -1.5137e+07\n",
      "No. Observations:            10000000   AIC:                                  3.027e+07\n",
      "Df Residuals:                 9999999   BIC:                                  3.027e+07\n",
      "Df Model:                           1                                                  \n",
      "Covariance Type:            nonrobust                                                  \n",
      "==============================================================================\n",
      "                 coef    std err          t      P>|t|      [0.025      0.975]\n",
      "------------------------------------------------------------------------------\n",
      "x1             3.0108      0.000   1.39e+04      0.000       3.010       3.011\n",
      "==============================================================================\n",
      "Omnibus:                     2670.781   Durbin-Watson:                   2.000\n",
      "Prob(Omnibus):                  0.000   Jarque-Bera (JB):             2672.916\n",
      "Skew:                           0.040   Prob(JB):                         0.00\n",
      "Kurtosis:                       3.001   Cond. No.                         1.00\n",
      "==============================================================================\n",
      "\n",
      "Notes:\n",
      "[1] R² is computed without centering (uncentered) since the model does not contain a constant.\n",
      "[2] Standard Errors assume that the covariance matrix of the errors is correctly specified.\n"
     ]
    }
   ],
   "source": [
    "print(sms.OLS(y_Z_residuals, D_Z_residuals).fit().summary())"
   ]
  }
 ],
 "metadata": {
  "kernelspec": {
   "display_name": "Python 3 (ipykernel)",
   "language": "python",
   "name": "python3"
  },
  "language_info": {
   "codemirror_mode": {
    "name": "ipython",
    "version": 3
   },
   "file_extension": ".py",
   "mimetype": "text/x-python",
   "name": "python",
   "nbconvert_exporter": "python",
   "pygments_lexer": "ipython3",
   "version": "3.11.13"
  }
 },
 "nbformat": 4,
 "nbformat_minor": 4
}
