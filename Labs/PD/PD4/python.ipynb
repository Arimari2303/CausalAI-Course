{
 "cells": [
  {
   "cell_type": "markdown",
   "metadata": {},
   "source": [
    "## 1. A simulation exercise in regularization framework: sparsity in population coefficients"
   ]
  },
  {
   "cell_type": "code",
   "execution_count": 103,
   "metadata": {},
   "outputs": [],
   "source": [
    "import matplotlib.pyplot as plt\n",
    "import random\n",
    "import numpy as np\n",
    "from sklearn.linear_model import LassoCV, Lasso, RidgeCV, Ridge, LinearRegression\n",
    "from sklearn.model_selection import KFold\n",
    "import pandas as pd\n",
    "random.seed(1)"
   ]
  },
  {
   "cell_type": "code",
   "execution_count": 77,
   "metadata": {},
   "outputs": [],
   "source": [
    "def gen_data(n, p, regime=\"sparse\"):\n",
    "    # constants chosen to get R^2 of approximately .80\n",
    "    if regime == \"sparse\":\n",
    "        beta = ((1 / np.arange(1, p + 1)) ** 2) * 7\n",
    "    elif regime == \"dense\":\n",
    "        beta = ((np.random.normal(0, 1, p)) * 0.35)\n",
    "    elif regime == \"sparsedense\":\n",
    "        # taking out either results in an R^2 of approximately .69\n",
    "        beta = (((1 / np.arange(1, p + 1)) ** 2) * 5) + ((np.random.normal(0, 1, p)) * 0.25)\n",
    "\n",
    "    def true_fn(x):\n",
    "        return x @ beta\n",
    "\n",
    "    X = np.random.uniform(-.5, .5, size=(n, p))\n",
    "    gX = true_fn(X)\n",
    "    y = gX + np.random.normal(0, 1, size=n)\n",
    "    Xtest = np.random.uniform(-.5, .5, size=(n, p))\n",
    "    gXtest = true_fn(Xtest)\n",
    "    ytest = gXtest + np.random.normal(0, 1, size=n)\n",
    "    Xpop = np.random.uniform(-.5, .5, size=(100000, p))  # almost population limit\n",
    "    gXpop = true_fn(Xpop)\n",
    "    ypop = gXpop + np.random.normal(0, 1, size=100000)  # almost population limit\n",
    "    return X, y, gX, Xtest, ytest, gXtest, Xpop, ypop, gXpop, beta"
   ]
  },
  {
   "cell_type": "markdown",
   "metadata": {},
   "source": [
    "## Sparse coefficients"
   ]
  },
  {
   "cell_type": "code",
   "execution_count": 78,
   "metadata": {},
   "outputs": [],
   "source": [
    "n = 100\n",
    "p = 400\n",
    "X, y, gX, Xtest, ytest, gXtest, Xpop, ypop, gXpop, betas = gen_data(n, p, regime=\"sparse\")"
   ]
  },
  {
   "cell_type": "code",
   "execution_count": 79,
   "metadata": {},
   "outputs": [
    {
     "name": "stdout",
     "output_type": "stream",
     "text": [
      "theoretical R^2:, 0.8147405100234308\n",
      "theoretical R^2:, 0.813809386452127\n"
     ]
    }
   ],
   "source": [
    "print(f\"theoretical R^2:, {1 - np.var(ypop - gXpop) / np.var(ypop)}\")\n",
    "print(f\"theoretical R^2:, {np.var(gXpop) / np.var(ypop)}\")"
   ]
  },
  {
   "cell_type": "code",
   "execution_count": 80,
   "metadata": {},
   "outputs": [
    {
     "data": {
      "image/png": "[encoded data removed]",
      "text/plain": [
       "<Figure size 640x480 with 1 Axes>"
      ]
     },
     "metadata": {},
     "output_type": "display_data"
    }
   ],
   "source": [
    "plt.figure()\n",
    "plt.scatter(range(len(betas)), abs(betas), s=5, color='b')\n",
    "plt.xlabel(r'$\\beta$')\n",
    "plt.ylabel('Magnitude (log scale)')\n",
    "plt.yscale('log')\n",
    "plt.title(r'$\\beta$ Magnitude')\n",
    "plt.show()"
   ]
  },
  {
   "cell_type": "code",
   "execution_count": 101,
   "metadata": {},
   "outputs": [
    {
     "data": {
      "text/plain": [
       "np.float64(0.09)"
      ]
     },
     "execution_count": 101,
     "metadata": {},
     "output_type": "execute_result"
    }
   ],
   "source": [
    "model_l1 = LassoCV(alphas=alpha).fit(X,y)\n",
    "model_l1.alpha_"
   ]
  },
  {
   "cell_type": "code",
   "execution_count": 102,
   "metadata": {},
   "outputs": [
    {
     "data": {
      "text/plain": [
       "array([0.07])"
      ]
     },
     "execution_count": 102,
     "metadata": {},
     "output_type": "execute_result"
    }
   ],
   "source": [
    "# Lasso cross validation from scratch (as stated in lecture 3)\n",
    "\n",
    "upper_bound = 1\n",
    "niter = 100\n",
    "alpha = np.arange(0,upper_bound,upper_bound/niter)\n",
    "kf = KFold(n_splits=5)\n",
    "\n",
    "avg_mspe = []\n",
    "\n",
    "for i in alpha:\n",
    "\n",
    "    fold_pe = []\n",
    "\n",
    "    for train_index, test_index in kf.split(X):\n",
    "        \n",
    "        X_train, X_test = X[train_index], X[test_index]\n",
    "        y_train, y_test = y[train_index], y[test_index]\n",
    "\n",
    "        model = Lasso(alpha=i).fit(X_train,y_train)\n",
    "\n",
    "        predict = model.predict(X_test)\n",
    "\n",
    "        pe = np.sum((y_test-predict)**2+i*np.sum(abs(model.coef_)))\n",
    "\n",
    "        fold_pe.append(pe)\n",
    "\n",
    "    avg_mspe.append(np.mean(np.array(fold_pe)))\n",
    "\n",
    "alpha[np.where(np.array(avg_mspe)==np.min(np.array(avg_mspe)))]"
   ]
  },
  {
   "cell_type": "code",
   "execution_count": 109,
   "metadata": {},
   "outputs": [
    {
     "data": {
      "text/plain": [
       "np.float64(10.0)"
      ]
     },
     "execution_count": 109,
     "metadata": {},
     "output_type": "execute_result"
    }
   ],
   "source": [
    "model_l2 = RidgeCV().fit(X,y)\n",
    "model_l2.alpha_"
   ]
  },
  {
   "cell_type": "code",
   "execution_count": 121,
   "metadata": {},
   "outputs": [
    {
     "data": {
      "text/plain": [
       "array([4.51])"
      ]
     },
     "execution_count": 121,
     "metadata": {},
     "output_type": "execute_result"
    }
   ],
   "source": [
    "# Ridge cross validation from scratch (as stated in lecture 3)\n",
    "\n",
    "upper_bound = 10\n",
    "niter = 100\n",
    "alpha = np.arange(0.01,upper_bound,upper_bound/niter)\n",
    "kf = KFold(n_splits=5)\n",
    "\n",
    "avg_mspe = []\n",
    "\n",
    "for i in alpha:\n",
    "\n",
    "    fold_pe = []\n",
    "\n",
    "    for train_index, test_index in kf.split(X):\n",
    "        \n",
    "        X_train, X_test = X[train_index], X[test_index]\n",
    "        y_train, y_test = y[train_index], y[test_index]\n",
    "\n",
    "        model = Ridge(alpha=i).fit(X_train,y_train)\n",
    "\n",
    "        predict = model.predict(X_test)\n",
    "\n",
    "        pe = np.sum((y_test-predict)**2+i*np.sum((model.coef_)**2))\n",
    "\n",
    "        fold_pe.append(pe)\n",
    "\n",
    "    avg_mspe.append(np.mean(np.array(fold_pe)))\n",
    "\n",
    "alpha[np.where(np.array(avg_mspe)==np.min(np.array(avg_mspe)))]"
   ]
  },
  {
   "cell_type": "markdown",
   "metadata": {},
   "source": [
    "## Dense coefficients"
   ]
  },
  {
   "cell_type": "code",
   "execution_count": 110,
   "metadata": {},
   "outputs": [],
   "source": [
    "n = 100\n",
    "p = 400\n",
    "X, y, gX, Xtest, ytest, gXtest, Xpop, ypop, gXpop, betas = gen_data(n, p, regime=\"dense\")"
   ]
  },
  {
   "cell_type": "code",
   "execution_count": 111,
   "metadata": {},
   "outputs": [
    {
     "name": "stdout",
     "output_type": "stream",
     "text": [
      "theoretical R^2:, 0.8125982476880653\n",
      "theoretical R^2:, 0.8116167085622936\n"
     ]
    }
   ],
   "source": [
    "print(f\"theoretical R^2:, {1 - np.var(ypop - gXpop) / np.var(ypop)}\")\n",
    "print(f\"theoretical R^2:, {np.var(gXpop) / np.var(ypop)}\")"
   ]
  },
  {
   "cell_type": "code",
   "execution_count": 112,
   "metadata": {},
   "outputs": [
    {
     "data": {
      "image/png": "[encoded data removed]",
      "text/plain": [
       "<Figure size 640x480 with 1 Axes>"
      ]
     },
     "metadata": {},
     "output_type": "display_data"
    }
   ],
   "source": [
    "plt.figure()\n",
    "plt.scatter(range(len(betas)), np.sort(abs(betas))[::-1], s=5, color='b')\n",
    "plt.xlabel(r'$\\beta$')\n",
    "plt.ylabel('Magnitude (log scale)')\n",
    "plt.title(r'$\\beta$ Magnitude')\n",
    "plt.show()"
   ]
  },
  {
   "cell_type": "markdown",
   "metadata": {},
   "source": [
    "## 2. A Simple Case Study using Wage Data from 2015"
   ]
  },
  {
   "cell_type": "code",
   "execution_count": 64,
   "metadata": {},
   "outputs": [],
   "source": [
    "import pandas as pd\n",
    "import numpy as np\n",
    "import matplotlib.pyplot as plt\n",
    "from sklearn.model_selection import train_test_split\n",
    "from sklearn.model_selection import cross_val_score, KFold\n",
    "from sklearn.metrics import r2_score\n",
    "from sklearn.linear_model import LassoCV, RidgeCV, ElasticNetCV, LinearRegression, Ridge\n",
    "import patsy\n",
    "import warnings\n",
    "from sklearn.base import BaseEstimator\n",
    "import statsmodels.api as sm\n",
    "warnings.simplefilter('ignore')\n",
    "np.random.seed(1234)"
   ]
  },
  {
   "cell_type": "markdown",
   "metadata": {},
   "source": [
    "### Data\n",
    "\n",
    "We consider data from the U.S. March Supplement of the Current Population Survey (CPS) in 2015.\n",
    "The preproccessed sample consists of $5150$ never-married individuals."
   ]
  },
  {
   "cell_type": "code",
   "execution_count": 60,
   "metadata": {},
   "outputs": [
    {
     "data": {
      "text/html": [
       "<div>\n",
       "<style scoped>\n",
       "    .dataframe tbody tr th:only-of-type {\n",
       "        vertical-align: middle;\n",
       "    }\n",
       "\n",
       "    .dataframe tbody tr th {\n",
       "        vertical-align: top;\n",
       "    }\n",
       "\n",
       "    .dataframe thead th {\n",
       "        text-align: right;\n",
       "    }\n",
       "</style>\n",
       "<table border=\"1\" class=\"dataframe\">\n",
       "  <thead>\n",
       "    <tr style=\"text-align: right;\">\n",
       "      <th></th>\n",
       "      <th>wage</th>\n",
       "      <th>lwage</th>\n",
       "      <th>sex</th>\n",
       "      <th>shs</th>\n",
       "      <th>hsg</th>\n",
       "      <th>scl</th>\n",
       "      <th>clg</th>\n",
       "      <th>ad</th>\n",
       "      <th>mw</th>\n",
       "      <th>so</th>\n",
       "      <th>we</th>\n",
       "      <th>ne</th>\n",
       "      <th>exp1</th>\n",
       "      <th>exp2</th>\n",
       "      <th>exp3</th>\n",
       "      <th>exp4</th>\n",
       "      <th>occ</th>\n",
       "      <th>occ2</th>\n",
       "      <th>ind</th>\n",
       "      <th>ind2</th>\n",
       "    </tr>\n",
       "  </thead>\n",
       "  <tbody>\n",
       "    <tr>\n",
       "      <th>count</th>\n",
       "      <td>5150.000000</td>\n",
       "      <td>5150.000000</td>\n",
       "      <td>5150.000000</td>\n",
       "      <td>5150.000000</td>\n",
       "      <td>5150.000000</td>\n",
       "      <td>5150.000000</td>\n",
       "      <td>5150.000000</td>\n",
       "      <td>5150.000000</td>\n",
       "      <td>5150.000000</td>\n",
       "      <td>5150.000000</td>\n",
       "      <td>5150.000000</td>\n",
       "      <td>5150.000000</td>\n",
       "      <td>5150.000000</td>\n",
       "      <td>5150.000000</td>\n",
       "      <td>5150.000000</td>\n",
       "      <td>5150.000000</td>\n",
       "      <td>5150.000000</td>\n",
       "      <td>5150.000000</td>\n",
       "      <td>5150.000000</td>\n",
       "      <td>5150.000000</td>\n",
       "    </tr>\n",
       "    <tr>\n",
       "      <th>mean</th>\n",
       "      <td>23.410410</td>\n",
       "      <td>2.970787</td>\n",
       "      <td>0.444466</td>\n",
       "      <td>0.023301</td>\n",
       "      <td>0.243883</td>\n",
       "      <td>0.278058</td>\n",
       "      <td>0.317670</td>\n",
       "      <td>0.137087</td>\n",
       "      <td>0.259612</td>\n",
       "      <td>0.296505</td>\n",
       "      <td>0.216117</td>\n",
       "      <td>0.227767</td>\n",
       "      <td>13.760583</td>\n",
       "      <td>3.018925</td>\n",
       "      <td>8.235867</td>\n",
       "      <td>25.118038</td>\n",
       "      <td>5310.737476</td>\n",
       "      <td>11.670874</td>\n",
       "      <td>6629.154951</td>\n",
       "      <td>13.316893</td>\n",
       "    </tr>\n",
       "    <tr>\n",
       "      <th>std</th>\n",
       "      <td>21.003016</td>\n",
       "      <td>0.570385</td>\n",
       "      <td>0.496955</td>\n",
       "      <td>0.150872</td>\n",
       "      <td>0.429465</td>\n",
       "      <td>0.448086</td>\n",
       "      <td>0.465616</td>\n",
       "      <td>0.343973</td>\n",
       "      <td>0.438464</td>\n",
       "      <td>0.456761</td>\n",
       "      <td>0.411635</td>\n",
       "      <td>0.419432</td>\n",
       "      <td>10.609465</td>\n",
       "      <td>4.000904</td>\n",
       "      <td>14.488962</td>\n",
       "      <td>53.530225</td>\n",
       "      <td>11874.356080</td>\n",
       "      <td>6.966684</td>\n",
       "      <td>5333.443992</td>\n",
       "      <td>5.701019</td>\n",
       "    </tr>\n",
       "    <tr>\n",
       "      <th>min</th>\n",
       "      <td>3.021978</td>\n",
       "      <td>1.105912</td>\n",
       "      <td>0.000000</td>\n",
       "      <td>0.000000</td>\n",
       "      <td>0.000000</td>\n",
       "      <td>0.000000</td>\n",
       "      <td>0.000000</td>\n",
       "      <td>0.000000</td>\n",
       "      <td>0.000000</td>\n",
       "      <td>0.000000</td>\n",
       "      <td>0.000000</td>\n",
       "      <td>0.000000</td>\n",
       "      <td>0.000000</td>\n",
       "      <td>0.000000</td>\n",
       "      <td>0.000000</td>\n",
       "      <td>0.000000</td>\n",
       "      <td>10.000000</td>\n",
       "      <td>1.000000</td>\n",
       "      <td>370.000000</td>\n",
       "      <td>2.000000</td>\n",
       "    </tr>\n",
       "    <tr>\n",
       "      <th>25%</th>\n",
       "      <td>13.461538</td>\n",
       "      <td>2.599837</td>\n",
       "      <td>0.000000</td>\n",
       "      <td>0.000000</td>\n",
       "      <td>0.000000</td>\n",
       "      <td>0.000000</td>\n",
       "      <td>0.000000</td>\n",
       "      <td>0.000000</td>\n",
       "      <td>0.000000</td>\n",
       "      <td>0.000000</td>\n",
       "      <td>0.000000</td>\n",
       "      <td>0.000000</td>\n",
       "      <td>5.000000</td>\n",
       "      <td>0.250000</td>\n",
       "      <td>0.125000</td>\n",
       "      <td>0.062500</td>\n",
       "      <td>1740.000000</td>\n",
       "      <td>5.000000</td>\n",
       "      <td>4880.000000</td>\n",
       "      <td>9.000000</td>\n",
       "    </tr>\n",
       "    <tr>\n",
       "      <th>50%</th>\n",
       "      <td>19.230769</td>\n",
       "      <td>2.956512</td>\n",
       "      <td>0.000000</td>\n",
       "      <td>0.000000</td>\n",
       "      <td>0.000000</td>\n",
       "      <td>0.000000</td>\n",
       "      <td>0.000000</td>\n",
       "      <td>0.000000</td>\n",
       "      <td>0.000000</td>\n",
       "      <td>0.000000</td>\n",
       "      <td>0.000000</td>\n",
       "      <td>0.000000</td>\n",
       "      <td>10.000000</td>\n",
       "      <td>1.000000</td>\n",
       "      <td>1.000000</td>\n",
       "      <td>1.000000</td>\n",
       "      <td>4040.000000</td>\n",
       "      <td>13.000000</td>\n",
       "      <td>7370.000000</td>\n",
       "      <td>14.000000</td>\n",
       "    </tr>\n",
       "    <tr>\n",
       "      <th>75%</th>\n",
       "      <td>27.777778</td>\n",
       "      <td>3.324236</td>\n",
       "      <td>1.000000</td>\n",
       "      <td>0.000000</td>\n",
       "      <td>0.000000</td>\n",
       "      <td>1.000000</td>\n",
       "      <td>1.000000</td>\n",
       "      <td>0.000000</td>\n",
       "      <td>1.000000</td>\n",
       "      <td>1.000000</td>\n",
       "      <td>0.000000</td>\n",
       "      <td>0.000000</td>\n",
       "      <td>21.000000</td>\n",
       "      <td>4.410000</td>\n",
       "      <td>9.261000</td>\n",
       "      <td>19.448100</td>\n",
       "      <td>5610.000000</td>\n",
       "      <td>17.000000</td>\n",
       "      <td>8190.000000</td>\n",
       "      <td>18.000000</td>\n",
       "    </tr>\n",
       "    <tr>\n",
       "      <th>max</th>\n",
       "      <td>528.845673</td>\n",
       "      <td>6.270697</td>\n",
       "      <td>1.000000</td>\n",
       "      <td>1.000000</td>\n",
       "      <td>1.000000</td>\n",
       "      <td>1.000000</td>\n",
       "      <td>1.000000</td>\n",
       "      <td>1.000000</td>\n",
       "      <td>1.000000</td>\n",
       "      <td>1.000000</td>\n",
       "      <td>1.000000</td>\n",
       "      <td>1.000000</td>\n",
       "      <td>47.000000</td>\n",
       "      <td>22.090000</td>\n",
       "      <td>103.823000</td>\n",
       "      <td>487.968100</td>\n",
       "      <td>100000.000000</td>\n",
       "      <td>22.000000</td>\n",
       "      <td>100000.000000</td>\n",
       "      <td>22.000000</td>\n",
       "    </tr>\n",
       "  </tbody>\n",
       "</table>\n",
       "</div>"
      ],
      "text/plain": [
       "              wage        lwage          sex          shs          hsg  \\\n",
       "count  5150.000000  5150.000000  5150.000000  5150.000000  5150.000000   \n",
       "mean     23.410410     2.970787     0.444466     0.023301     0.243883   \n",
       "std      21.003016     0.570385     0.496955     0.150872     0.429465   \n",
       "min       3.021978     1.105912     0.000000     0.000000     0.000000   \n",
       "25%      13.461538     2.599837     0.000000     0.000000     0.000000   \n",
       "50%      19.230769     2.956512     0.000000     0.000000     0.000000   \n",
       "75%      27.777778     3.324236     1.000000     0.000000     0.000000   \n",
       "max     528.845673     6.270697     1.000000     1.000000     1.000000   \n",
       "\n",
       "               scl          clg           ad           mw           so  \\\n",
       "count  5150.000000  5150.000000  5150.000000  5150.000000  5150.000000   \n",
       "mean      0.278058     0.317670     0.137087     0.259612     0.296505   \n",
       "std       0.448086     0.465616     0.343973     0.438464     0.456761   \n",
       "min       0.000000     0.000000     0.000000     0.000000     0.000000   \n",
       "25%       0.000000     0.000000     0.000000     0.000000     0.000000   \n",
       "50%       0.000000     0.000000     0.000000     0.000000     0.000000   \n",
       "75%       1.000000     1.000000     0.000000     1.000000     1.000000   \n",
       "max       1.000000     1.000000     1.000000     1.000000     1.000000   \n",
       "\n",
       "                we           ne         exp1         exp2         exp3  \\\n",
       "count  5150.000000  5150.000000  5150.000000  5150.000000  5150.000000   \n",
       "mean      0.216117     0.227767    13.760583     3.018925     8.235867   \n",
       "std       0.411635     0.419432    10.609465     4.000904    14.488962   \n",
       "min       0.000000     0.000000     0.000000     0.000000     0.000000   \n",
       "25%       0.000000     0.000000     5.000000     0.250000     0.125000   \n",
       "50%       0.000000     0.000000    10.000000     1.000000     1.000000   \n",
       "75%       0.000000     0.000000    21.000000     4.410000     9.261000   \n",
       "max       1.000000     1.000000    47.000000    22.090000   103.823000   \n",
       "\n",
       "              exp4            occ         occ2            ind         ind2  \n",
       "count  5150.000000    5150.000000  5150.000000    5150.000000  5150.000000  \n",
       "mean     25.118038    5310.737476    11.670874    6629.154951    13.316893  \n",
       "std      53.530225   11874.356080     6.966684    5333.443992     5.701019  \n",
       "min       0.000000      10.000000     1.000000     370.000000     2.000000  \n",
       "25%       0.062500    1740.000000     5.000000    4880.000000     9.000000  \n",
       "50%       1.000000    4040.000000    13.000000    7370.000000    14.000000  \n",
       "75%      19.448100    5610.000000    17.000000    8190.000000    18.000000  \n",
       "max     487.968100  100000.000000    22.000000  100000.000000    22.000000  "
      ]
     },
     "execution_count": 60,
     "metadata": {},
     "output_type": "execute_result"
    }
   ],
   "source": [
    "file = \"https://raw.githubusercontent.com/CausalAIBook/MetricsMLNotebooks/main/data/wage2015_subsample_inference.csv\"\n",
    "data = pd.read_csv(file)\n",
    "data.describe()"
   ]
  },
  {
   "cell_type": "code",
   "execution_count": 61,
   "metadata": {},
   "outputs": [
    {
     "data": {
      "text/plain": [
       "Index(['sex', 'shs', 'hsg', 'scl', 'clg', 'ad', 'mw', 'so', 'we', 'ne', 'exp1',\n",
       "       'exp2', 'exp3', 'exp4', 'occ', 'occ2', 'ind', 'ind2'],\n",
       "      dtype='object')"
      ]
     },
     "execution_count": 61,
     "metadata": {},
     "output_type": "execute_result"
    }
   ],
   "source": [
    "y = np.log(data['wage']).values\n",
    "Z = data.drop(['wage', 'lwage'], axis=1)\n",
    "Z.columns"
   ]
  },
  {
   "cell_type": "markdown",
   "metadata": {},
   "source": [
    "The following figure shows the weekly wage distribution from the US survey data."
   ]
  },
  {
   "cell_type": "code",
   "execution_count": 62,
   "metadata": {},
   "outputs": [
    {
     "data": {
      "text/plain": [
       "(0.0, 3000.0)"
      ]
     },
     "execution_count": 62,
     "metadata": {},
     "output_type": "execute_result"
    },
    {
     "data": {
      "image/png": "[encoded data removed]",
      "text/plain": [
       "<Figure size 640x480 with 1 Axes>"
      ]
     },
     "metadata": {},
     "output_type": "display_data"
    }
   ],
   "source": [
    "plt.hist(data.wage, bins=np.arange(0, 350, 20))\n",
    "plt.xlabel('hourly wage')\n",
    "plt.ylabel('Frequency')\n",
    "plt.title('Empirical wage distribution from the US survey data')\n",
    "plt.ylim((0, 3000))"
   ]
  },
  {
   "cell_type": "markdown",
   "metadata": {},
   "source": [
    "Wages show a high degree of skewness. Hence, wages are transformed in almost all studies by the logarithm."
   ]
  },
  {
   "cell_type": "markdown",
   "metadata": {},
   "source": [
    "Due to the skewness of the data, we are considering log wages which leads to the following regression model\n",
    "\n",
    "$$\\log(\\operatorname{wage}) = g(Z) + \\epsilon.$$"
   ]
  },
  {
   "cell_type": "markdown",
   "metadata": {},
   "source": [
    "In this notebook, we will evaluate *linear* prediction rules. In later notebooks, we will also utilize nonlinear prediction methods. In linear models, we estimate the prediction rule of the form\n",
    "\n",
    "$$\\hat g(Z) = \\hat \\beta'X.$$\n",
    "\n",
    "Again, we generate $X$ in three ways:\n",
    "\n",
    "1. Basic Model:   $X$ consists of a set of raw regressors (e.g. gender, experience, education indicators, regional indicators).\n",
    "\n",
    "\n",
    "2. Flexible Model:  $X$ consists of all raw regressors from the basic model plus occupation and industry indicators, transformations (e.g., $\\operatorname{exp}^2$ and $\\operatorname{exp}^3$) and additional two-way interactions.\n",
    "\n",
    "3. Extra Flexible Model: $X$ takes the flexible model and takes all pairwise interactions."
   ]
  },
  {
   "cell_type": "markdown",
   "metadata": {},
   "source": [
    "To evaluate the out-of-sample performance, we split the data first."
   ]
  },
  {
   "cell_type": "markdown",
   "metadata": {},
   "source": [
    "As known from our first lab, the basic model consists of $51$ regressors, and the flexible model has $246$ regressors. Let us fit our models to the training sample using the two different model specifications. We are starting by running a simple ols regression and computing the $R^2$ on the test sample."
   ]
  },
  {
   "cell_type": "markdown",
   "metadata": {},
   "source": [
    "### Low dimensional specification (basic)"
   ]
  },
  {
   "cell_type": "code",
   "execution_count": 65,
   "metadata": {},
   "outputs": [],
   "source": [
    "Zbase = patsy.dmatrix('0 + sex + exp1 + shs + hsg+ scl + clg + mw + so + we + C(occ2) + C(ind2)',\n",
    "                      Z, return_type='dataframe').values"
   ]
  },
  {
   "cell_type": "code",
   "execution_count": 66,
   "metadata": {},
   "outputs": [],
   "source": [
    "X_train, X_test, y_train, y_test = train_test_split(Zbase, y, test_size=0.25, random_state=123)"
   ]
  },
  {
   "cell_type": "code",
   "execution_count": 68,
   "metadata": {},
   "outputs": [],
   "source": [
    "lr_base = LinearRegression().fit(X_train, y_train)"
   ]
  },
  {
   "cell_type": "markdown",
   "metadata": {},
   "source": [
    "Let's calculate R-squared on the test set"
   ]
  },
  {
   "cell_type": "code",
   "execution_count": 69,
   "metadata": {},
   "outputs": [
    {
     "name": "stdout",
     "output_type": "stream",
     "text": [
      "0.2853\n"
     ]
    }
   ],
   "source": [
    "r2_base = 1 - np.mean((y_test - lr_base.predict(X_test))**2) / np.var(y_test)\n",
    "print(f'{r2_base:.4f}')"
   ]
  },
  {
   "cell_type": "markdown",
   "metadata": {},
   "source": [
    "In fact `sklearn` provides an implementation"
   ]
  },
  {
   "cell_type": "code",
   "execution_count": 70,
   "metadata": {},
   "outputs": [
    {
     "name": "stdout",
     "output_type": "stream",
     "text": [
      "0.2853\n"
     ]
    }
   ],
   "source": [
    "print(f'{r2_score(y_test, lr_base.predict(X_test)):.4f}')"
   ]
  },
  {
   "cell_type": "markdown",
   "metadata": {},
   "source": [
    "Since out of sample performance can be vary for different train-test splits, it is more stable to look at average performance across multiple splits, using K-fold cross validation."
   ]
  },
  {
   "cell_type": "code",
   "execution_count": null,
   "metadata": {},
   "outputs": [],
   "source": [
    "cv = KFold(n_splits=5, shuffle=True, random_state=123)\n",
    "rsquares = cross_val_score(LinearRegression(), Zbase, y, scoring='r2', cv=cv)\n",
    "print(f'{np.mean(rsquares):.4f}')"
   ]
  },
  {
   "cell_type": "markdown",
   "metadata": {},
   "source": [
    "### High-dimensional specification (flexible)"
   ]
  },
  {
   "cell_type": "markdown",
   "metadata": {},
   "source": [
    "We repeat the same procedure for the flexible model."
   ]
  },
  {
   "cell_type": "code",
   "execution_count": null,
   "metadata": {},
   "outputs": [],
   "source": [
    "Zflex = patsy.dmatrix('0 + sex + (exp1+exp2+exp3+exp4)*(shs+hsg+scl+clg+C(occ2)+C(ind2)+mw+so+we)',\n",
    "                      Z, return_type='dataframe').values"
   ]
  },
  {
   "cell_type": "code",
   "execution_count": null,
   "metadata": {},
   "outputs": [],
   "source": [
    "Zflex.shape"
   ]
  },
  {
   "cell_type": "code",
   "execution_count": null,
   "metadata": {},
   "outputs": [],
   "source": [
    "X_train, X_test, y_train, y_test = train_test_split(Zflex, y, test_size=0.25, random_state=123)"
   ]
  },
  {
   "cell_type": "code",
   "execution_count": null,
   "metadata": {},
   "outputs": [],
   "source": [
    "lr_flex = LinearRegression().fit(X_train, y_train)"
   ]
  },
  {
   "cell_type": "code",
   "execution_count": null,
   "metadata": {},
   "outputs": [],
   "source": [
    "print(f'{r2_score(y_test, lr_flex.predict(X_test)):.4f}')"
   ]
  },
  {
   "cell_type": "markdown",
   "metadata": {},
   "source": [
    "### Penalized regressions (flexible model)"
   ]
  },
  {
   "cell_type": "markdown",
   "metadata": {},
   "source": [
    "We observe that ols regression works better for the basic model with smaller $p/n$ ratio. We proceed by running penalized regressions first for the flexible model, tuned via cross-validation."
   ]
  },
  {
   "cell_type": "markdown",
   "metadata": {},
   "source": [
    "First we try a pure `l1` penalty, tuned using cross-validation. For penalized regressions it is important that our features have the same standard deviation, so that we are symmetrically penalizing them"
   ]
  },
  {
   "cell_type": "code",
   "execution_count": 71,
   "metadata": {},
   "outputs": [
    {
     "ename": "NameError",
     "evalue": "name 'Zflex' is not defined",
     "output_type": "error",
     "traceback": [
      "\u001b[1;31m---------------------------------------------------------------------------\u001b[0m",
      "\u001b[1;31mNameError\u001b[0m                                 Traceback (most recent call last)",
      "Cell \u001b[1;32mIn[71], line 2\u001b[0m\n\u001b[0;32m      1\u001b[0m \u001b[38;5;28;01mfrom\u001b[39;00m \u001b[38;5;21;01msklearn\u001b[39;00m\u001b[38;5;21;01m.\u001b[39;00m\u001b[38;5;21;01mpreprocessing\u001b[39;00m \u001b[38;5;28;01mimport\u001b[39;00m StandardScaler\n\u001b[1;32m----> 2\u001b[0m Zflex \u001b[38;5;241m=\u001b[39m StandardScaler()\u001b[38;5;241m.\u001b[39mfit_transform(\u001b[43mZflex\u001b[49m)\n",
      "\u001b[1;31mNameError\u001b[0m: name 'Zflex' is not defined"
     ]
    }
   ],
   "source": [
    "from sklearn.preprocessing import StandardScaler\n",
    "Zflex = StandardScaler().fit_transform(Zflex)"
   ]
  },
  {
   "cell_type": "code",
   "execution_count": null,
   "metadata": {},
   "outputs": [],
   "source": [
    "cv = KFold(n_splits=5, shuffle=True, random_state=123)\n",
    "rsquares = cross_val_score(LassoCV(cv=cv), Zflex, y, scoring='r2', cv=cv, n_jobs=-1)\n",
    "print('Flexible model R^2 (Lasso): ', f'{np.mean(rsquares):.4f}')"
   ]
  },
  {
   "cell_type": "markdown",
   "metadata": {},
   "source": [
    "Then we try a pure `l2` penalty, tuned using cross-validation"
   ]
  },
  {
   "cell_type": "code",
   "execution_count": null,
   "metadata": {},
   "outputs": [],
   "source": [
    "cv = KFold(n_splits=5, shuffle=True, random_state=123)\n",
    "rsquares = cross_val_score(RidgeCV(cv=cv), Zflex, y, scoring='r2', cv=cv, n_jobs=-1)\n",
    "print('Flexible model R^2 (Ridge): ', f'{np.mean(rsquares):.4f}')"
   ]
  },
  {
   "cell_type": "markdown",
   "metadata": {},
   "source": [
    "### Extra high-dimensional specification (extra flexible)\n",
    "\n",
    "We repeat the same procedure for the extra flexible model."
   ]
  },
  {
   "cell_type": "code",
   "execution_count": null,
   "metadata": {},
   "outputs": [],
   "source": [
    "Zextra = patsy.dmatrix('0 + sex + (exp1+exp2+exp3+exp4+shs+hsg+scl+clg+C(occ2)+C(ind2)+mw+so+we)**2',\n",
    "                       Z, return_type='dataframe').values\n",
    "Zextra.shape"
   ]
  },
  {
   "cell_type": "code",
   "execution_count": null,
   "metadata": {},
   "outputs": [],
   "source": [
    "X_train, X_test, y_train, y_test = train_test_split(Zextra, y, test_size=0.25, random_state=123)\n",
    "lr_extra = LinearRegression().fit(X_train, y_train)\n",
    "print(f'{r2_score(y_test, lr_extra.predict(X_test)):.4f}')"
   ]
  },
  {
   "cell_type": "code",
   "execution_count": null,
   "metadata": {},
   "outputs": [],
   "source": [
    "cv = KFold(n_splits=5, shuffle=True, random_state=123)\n",
    "rsquares = cross_val_score(StatsModelsOLS(), Zextra, y, scoring='r2', cv=cv, n_jobs=-1)\n",
    "print(f'{np.mean(rsquares):.4f}')"
   ]
  },
  {
   "cell_type": "markdown",
   "metadata": {},
   "source": [
    "#### Penalized regressions (extra flexible model)\n",
    "\n",
    "Now let's repeat our penalized regression analysis for the extra flexible model. Note this block takes a while!"
   ]
  },
  {
   "cell_type": "code",
   "execution_count": null,
   "metadata": {},
   "outputs": [],
   "source": [
    "Zextra = StandardScaler().fit_transform(Zextra)"
   ]
  },
  {
   "cell_type": "code",
   "execution_count": null,
   "metadata": {},
   "outputs": [],
   "source": [
    "cv = KFold(n_splits=5, shuffle=True, random_state=123)\n",
    "rsquares = cross_val_score(LassoCV(cv=cv), Zextra, y, scoring='r2', cv=cv, n_jobs=-1)\n",
    "print('Extra flexible model R^2 (Lasso): ', f'{np.mean(rsquares):.4f}')\n",
    "cv = KFold(n_splits=5, shuffle=True, random_state=123)\n",
    "rsquares = cross_val_score(RidgeCV(cv=cv), Zextra, y, scoring='r2', cv=cv, n_jobs=-1)\n",
    "print('Extra flexible model R^2 (Ridge): ', f'{np.mean(rsquares):.4f}')"
   ]
  }
 ],
 "metadata": {
  "kernelspec": {
   "display_name": "Python 3",
   "language": "python",
   "name": "python3"
  },
  "language_info": {
   "codemirror_mode": {
    "name": "ipython",
    "version": 3
   },
   "file_extension": ".py",
   "mimetype": "text/x-python",
   "name": "python",
   "nbconvert_exporter": "python",
   "pygments_lexer": "ipython3",
   "version": "3.12.0"
  }
 },
 "nbformat": 4,
 "nbformat_minor": 2
}
