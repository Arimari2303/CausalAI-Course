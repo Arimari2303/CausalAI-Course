{
 "cells": [
  {
   "cell_type": "code",
   "execution_count": 1,
   "metadata": {
    "vscode": {
     "languageId": "r"
    }
   },
   "outputs": [
    {
     "name": "stderr",
     "output_type": "stream",
     "text": [
      "Warning message:\n",
      "\"package 'ISLR2' was built under R version 4.4.2\"\n",
      "Warning message:\n",
      "\"package 'randomForest' was built under R version 4.4.2\"\n",
      "randomForest 4.7-1.2\n",
      "\n",
      "Type rfNews() to see new features/changes/bug fixes.\n",
      "\n",
      "\n",
      "Attaching package: 'ggplot2'\n",
      "\n",
      "\n",
      "The following object is masked from 'package:randomForest':\n",
      "\n",
      "    margin\n",
      "\n",
      "\n"
     ]
    }
   ],
   "source": [
    "library(ISLR2)\n",
    "library(randomForest)\n",
    "library(ggplot2)"
   ]
  },
  {
   "cell_type": "markdown",
   "metadata": {},
   "source": [
    "## Random Forests\n",
    "### Fitting Forests\n",
    "Here we fit a regression tree to the  `Boston`  data set.\n",
    "\n",
    "### The Boston Data\n",
    "\n",
    "A data set containing housing values in 506 suburbs of Boston.\n",
    "     \n",
    "- `crim`: per capita crime rate by town.\n",
    "\n",
    "- `zn`: proportion of residential land zoned for lots over 25,000\n",
    "sq.ft.\n",
    "\n",
    "- `indus`: proportion of non-retail business acres per town.\n",
    "\n",
    "- `chas`: Charles River dummy variable (= 1 if tract bounds river; 0 otherwise).\n",
    "\n",
    "- `nox`: nitrogen oxides concentration (parts per 10 million).\n",
    "\n",
    "- `rm`: average number of rooms per dwelling.\n",
    "\n",
    "- `age`: proportion of owner-occupied units built prior to 1940.\n",
    "\n",
    "- `dis`: weighted mean of distances to five Boston employment centres.\n",
    "\n",
    "- `rad`: index of accessibility to radial highways.\n",
    "\n",
    "- `tax`: full-value property-tax rate per $10,000.\n",
    "\n",
    "- `ptratio`: pupil-teacher ratio by town.\n",
    "\n",
    "- `lstat`: lower status of the population (percent).\n",
    "\n",
    "- `medv`: median value of owner-occupied homes in $1000s.\n",
    "\n",
    "This dataset was obtained from, and is slightly modified from, the\n",
    "Boston dataset that is part of the `R` library `MASS`.  References are\n",
    "available in the MASS library.\n",
    "\n",
    "The steps for regression trees are similar to those for classification trees."
   ]
  },
  {
   "cell_type": "code",
   "execution_count": 2,
   "metadata": {
    "vscode": {
     "languageId": "r"
    }
   },
   "outputs": [],
   "source": [
    "data(Boston)"
   ]
  },
  {
   "cell_type": "markdown",
   "metadata": {},
   "source": [
    "First, we split the data into training and test sets, and fit the tree\n",
    "to the training data. Here we use 30% of the data for the test set.\n"
   ]
  },
  {
   "cell_type": "code",
   "execution_count": 3,
   "metadata": {
    "vscode": {
     "languageId": "r"
    }
   },
   "outputs": [],
   "source": [
    "set.seed(1)\n",
    "train <- sample(1:nrow(Boston), nrow(Boston) / 2)"
   ]
  },
  {
   "cell_type": "markdown",
   "metadata": {},
   "source": [
    "## Bagging and Random Forests\n",
    "Here we apply bagging and random forests to the `Boston` data, using\n",
    "the `randomForest` function from the `randomForest` package. Recall\n",
    "that bagging is simply a special case of a random forest with\n",
    "$m=p$. Therefore, the `randomForest`  function can be used to\n",
    "perform both bagging and random forests. We start with bagging."
   ]
  },
  {
   "cell_type": "code",
   "execution_count": 12,
   "metadata": {
    "vscode": {
     "languageId": "r"
    }
   },
   "outputs": [
    {
     "data": {
      "text/plain": [
       "\n",
       "Call:\n",
       " randomForest(formula = medv ~ ., data = Boston, mtry = 12, importance = TRUE,      subset = train) \n",
       "               Type of random forest: regression\n",
       "                     Number of trees: 500\n",
       "No. of variables tried at each split: 12\n",
       "\n",
       "          Mean of squared residuals: 11.25779\n",
       "                    % Var explained: 85.35"
      ]
     },
     "metadata": {},
     "output_type": "display_data"
    }
   ],
   "source": [
    "rf_boston <- randomForest(formula = medv ~ ., data = Boston,\n",
    "                          mtry = 12,\n",
    "                          importance = TRUE, subset = train)\n",
    "rf_boston"
   ]
  },
  {
   "cell_type": "markdown",
   "metadata": {},
   "source": [
    "The argument `mtry` indicates that all 12 predictors should\n",
    "be considered for each split of the tree --- in other words, that\n",
    "bagging should be done.  How well does this bagged model perform on\n",
    "the test set?"
   ]
  },
  {
   "cell_type": "code",
   "execution_count": 13,
   "metadata": {
    "vscode": {
     "languageId": "r"
    }
   },
   "outputs": [
    {
     "data": {
      "text/html": [
       "23.4035930865098"
      ],
      "text/latex": [
       "23.4035930865098"
      ],
      "text/markdown": [
       "23.4035930865098"
      ],
      "text/plain": [
       "[1] 23.40359"
      ]
     },
     "metadata": {},
     "output_type": "display_data"
    }
   ],
   "source": [
    "yhat.rf <- predict(rf_boston, newdata = Boston[-train, ])\n",
    "boston_test <- Boston[-train, ]\n",
    "mean((yhat.rf - boston_test$medv)^2)"
   ]
  },
  {
   "cell_type": "code",
   "execution_count": 15,
   "metadata": {
    "vscode": {
     "languageId": "r"
    }
   },
   "outputs": [
    {
     "data": {
      "image/png": "[encoded data removed]",
      "text/plain": [
       "plot without title"
      ]
     },
     "metadata": {
      "image/png": {
       "height": 420,
       "width": 420
      }
     },
     "output_type": "display_data"
    }
   ],
   "source": [
    "boston_test$predictions <- yhat.rf\n",
    "\n",
    "plot <- ggplot(boston_test, aes(medv, predictions))\n",
    "plot + geom_point(size = 4)"
   ]
  },
  {
   "cell_type": "markdown",
   "metadata": {},
   "source": [
    "The test set MSE associated with the bagged regression tree is\n",
    "23.4. \n",
    "\n",
    "Growing a random forest proceeds in exactly the same way, except that\n",
    "we use a smaller value of the `mtry` argument. By default,\n",
    "`randomForest`  uses $p / 3$ variables when building a random\n",
    "forest of regression trees (i.e. it defaults to bagging), and \n",
    "$\\sqrt{p}$ variables when building a\n",
    "random forest of classification trees. Here we use `mtry=6`."
   ]
  },
  {
   "cell_type": "code",
   "execution_count": null,
   "metadata": {
    "vscode": {
     "languageId": "r"
    }
   },
   "outputs": [
    {
     "data": {
      "text/html": [
       "19.1318137722212"
      ],
      "text/latex": [
       "19.1318137722212"
      ],
      "text/markdown": [
       "19.1318137722212"
      ],
      "text/plain": [
       "[1] 19.13181"
      ]
     },
     "metadata": {},
     "output_type": "display_data"
    }
   ],
   "source": [
    "rf_boston <- randomForest(formula = medv ~ ., data = Boston,\n",
    "                          importance = TRUE, subset = train,\n",
    "                          mtry = 6)\n",
    "yhat.srf <- predict(rf_boston, newdata = Boston[-train, ])\n",
    "mean((yhat.srf - boston_test$medv)^2)"
   ]
  },
  {
   "cell_type": "code",
   "execution_count": 16,
   "metadata": {
    "vscode": {
     "languageId": "r"
    }
   },
   "outputs": [
    {
     "data": {
      "text/html": [
       "<table class=\"dataframe\">\n",
       "<caption>A matrix: 12 × 2 of type dbl</caption>\n",
       "<thead>\n",
       "\t<tr><th></th><th scope=col>%IncMSE</th><th scope=col>IncNodePurity</th></tr>\n",
       "</thead>\n",
       "<tbody>\n",
       "\t<tr><th scope=row>crim</th><td>25.7789395</td><td>  837.41518</td></tr>\n",
       "\t<tr><th scope=row>zn</th><td> 4.5247559</td><td>   63.76809</td></tr>\n",
       "\t<tr><th scope=row>indus</th><td> 3.6515890</td><td>  109.39475</td></tr>\n",
       "\t<tr><th scope=row>chas</th><td>-2.0917531</td><td>   14.85085</td></tr>\n",
       "\t<tr><th scope=row>nox</th><td>18.9566434</td><td>  278.64734</td></tr>\n",
       "\t<tr><th scope=row>rm</th><td>50.1429866</td><td>12345.48457</td></tr>\n",
       "\t<tr><th scope=row>age</th><td>17.4021374</td><td>  361.03617</td></tr>\n",
       "\t<tr><th scope=row>dis</th><td> 7.0482342</td><td>  275.04378</td></tr>\n",
       "\t<tr><th scope=row>rad</th><td> 0.9338507</td><td>   71.48245</td></tr>\n",
       "\t<tr><th scope=row>tax</th><td> 9.7454753</td><td>  138.84145</td></tr>\n",
       "\t<tr><th scope=row>ptratio</th><td> 8.7724030</td><td>  149.61895</td></tr>\n",
       "\t<tr><th scope=row>lstat</th><td>45.2820959</td><td> 4729.96535</td></tr>\n",
       "</tbody>\n",
       "</table>\n"
      ],
      "text/latex": [
       "A matrix: 12 × 2 of type dbl\n",
       "\\begin{tabular}{r|ll}\n",
       "  & \\%IncMSE & IncNodePurity\\\\\n",
       "\\hline\n",
       "\tcrim & 25.7789395 &   837.41518\\\\\n",
       "\tzn &  4.5247559 &    63.76809\\\\\n",
       "\tindus &  3.6515890 &   109.39475\\\\\n",
       "\tchas & -2.0917531 &    14.85085\\\\\n",
       "\tnox & 18.9566434 &   278.64734\\\\\n",
       "\trm & 50.1429866 & 12345.48457\\\\\n",
       "\tage & 17.4021374 &   361.03617\\\\\n",
       "\tdis &  7.0482342 &   275.04378\\\\\n",
       "\trad &  0.9338507 &    71.48245\\\\\n",
       "\ttax &  9.7454753 &   138.84145\\\\\n",
       "\tptratio &  8.7724030 &   149.61895\\\\\n",
       "\tlstat & 45.2820959 &  4729.96535\\\\\n",
       "\\end{tabular}\n"
      ],
      "text/markdown": [
       "\n",
       "A matrix: 12 × 2 of type dbl\n",
       "\n",
       "| <!--/--> | %IncMSE | IncNodePurity |\n",
       "|---|---|---|\n",
       "| crim | 25.7789395 |   837.41518 |\n",
       "| zn |  4.5247559 |    63.76809 |\n",
       "| indus |  3.6515890 |   109.39475 |\n",
       "| chas | -2.0917531 |    14.85085 |\n",
       "| nox | 18.9566434 |   278.64734 |\n",
       "| rm | 50.1429866 | 12345.48457 |\n",
       "| age | 17.4021374 |   361.03617 |\n",
       "| dis |  7.0482342 |   275.04378 |\n",
       "| rad |  0.9338507 |    71.48245 |\n",
       "| tax |  9.7454753 |   138.84145 |\n",
       "| ptratio |  8.7724030 |   149.61895 |\n",
       "| lstat | 45.2820959 |  4729.96535 |\n",
       "\n"
      ],
      "text/plain": [
       "        %IncMSE    IncNodePurity\n",
       "crim    25.7789395   837.41518  \n",
       "zn       4.5247559    63.76809  \n",
       "indus    3.6515890   109.39475  \n",
       "chas    -2.0917531    14.85085  \n",
       "nox     18.9566434   278.64734  \n",
       "rm      50.1429866 12345.48457  \n",
       "age     17.4021374   361.03617  \n",
       "dis      7.0482342   275.04378  \n",
       "rad      0.9338507    71.48245  \n",
       "tax      9.7454753   138.84145  \n",
       "ptratio  8.7724030   149.61895  \n",
       "lstat   45.2820959  4729.96535  "
      ]
     },
     "metadata": {},
     "output_type": "display_data"
    }
   ],
   "source": [
    "importance(rf_boston)"
   ]
  },
  {
   "cell_type": "markdown",
   "metadata": {},
   "source": [
    " This\n",
    "is a relative measure of the total decrease in node impurity that results from\n",
    "splits over that variable, averaged over all trees\n",
    "\n",
    "The results indicate that across all of the trees considered in the\n",
    "random forest, the wealth level of the community (`lstat`) and the\n",
    "house size (`rm`) are by far the two most important variables.\n",
    "\n"
   ]
  },
  {
   "cell_type": "markdown",
   "metadata": {},
   "source": [
    "## Causal Forest"
   ]
  },
  {
   "cell_type": "code",
   "execution_count": 17,
   "metadata": {
    "vscode": {
     "languageId": "r"
    }
   },
   "outputs": [
    {
     "data": {
      "text/html": [
       "<table class=\"dataframe\">\n",
       "<caption>A data.frame: 6 × 7</caption>\n",
       "<thead>\n",
       "\t<tr><th></th><th scope=col>X</th><th scope=col>time</th><th scope=col>device</th><th scope=col>browser</th><th scope=col>region</th><th scope=col>discount</th><th scope=col>spend</th></tr>\n",
       "\t<tr><th></th><th scope=col>&lt;int&gt;</th><th scope=col>&lt;dbl&gt;</th><th scope=col>&lt;chr&gt;</th><th scope=col>&lt;chr&gt;</th><th scope=col>&lt;int&gt;</th><th scope=col>&lt;int&gt;</th><th scope=col>&lt;dbl&gt;</th></tr>\n",
       "</thead>\n",
       "<tbody>\n",
       "\t<tr><th scope=row>1</th><td>0</td><td>10.7790063</td><td>mobile </td><td>edge    </td><td>9</td><td>0</td><td> 0.4551642</td></tr>\n",
       "\t<tr><th scope=row>2</th><td>1</td><td> 0.5689725</td><td>desktop</td><td>firefox </td><td>9</td><td>0</td><td>11.0368706</td></tr>\n",
       "\t<tr><th scope=row>3</th><td>2</td><td> 3.7438714</td><td>mobile </td><td>safari  </td><td>7</td><td>0</td><td> 1.8111930</td></tr>\n",
       "\t<tr><th scope=row>4</th><td>3</td><td>13.3734357</td><td>desktop</td><td>other   </td><td>5</td><td>0</td><td>31.9049439</td></tr>\n",
       "\t<tr><th scope=row>5</th><td>4</td><td> 0.7085752</td><td>mobile </td><td>explorer</td><td>2</td><td>1</td><td>15.4198624</td></tr>\n",
       "\t<tr><th scope=row>6</th><td>5</td><td>10.8320878</td><td>desktop</td><td>brave   </td><td>0</td><td>0</td><td>24.1239264</td></tr>\n",
       "</tbody>\n",
       "</table>\n"
      ],
      "text/latex": [
       "A data.frame: 6 × 7\n",
       "\\begin{tabular}{r|lllllll}\n",
       "  & X & time & device & browser & region & discount & spend\\\\\n",
       "  & <int> & <dbl> & <chr> & <chr> & <int> & <int> & <dbl>\\\\\n",
       "\\hline\n",
       "\t1 & 0 & 10.7790063 & mobile  & edge     & 9 & 0 &  0.4551642\\\\\n",
       "\t2 & 1 &  0.5689725 & desktop & firefox  & 9 & 0 & 11.0368706\\\\\n",
       "\t3 & 2 &  3.7438714 & mobile  & safari   & 7 & 0 &  1.8111930\\\\\n",
       "\t4 & 3 & 13.3734357 & desktop & other    & 5 & 0 & 31.9049439\\\\\n",
       "\t5 & 4 &  0.7085752 & mobile  & explorer & 2 & 1 & 15.4198624\\\\\n",
       "\t6 & 5 & 10.8320878 & desktop & brave    & 0 & 0 & 24.1239264\\\\\n",
       "\\end{tabular}\n"
      ],
      "text/markdown": [
       "\n",
       "A data.frame: 6 × 7\n",
       "\n",
       "| <!--/--> | X &lt;int&gt; | time &lt;dbl&gt; | device &lt;chr&gt; | browser &lt;chr&gt; | region &lt;int&gt; | discount &lt;int&gt; | spend &lt;dbl&gt; |\n",
       "|---|---|---|---|---|---|---|---|\n",
       "| 1 | 0 | 10.7790063 | mobile  | edge     | 9 | 0 |  0.4551642 |\n",
       "| 2 | 1 |  0.5689725 | desktop | firefox  | 9 | 0 | 11.0368706 |\n",
       "| 3 | 2 |  3.7438714 | mobile  | safari   | 7 | 0 |  1.8111930 |\n",
       "| 4 | 3 | 13.3734357 | desktop | other    | 5 | 0 | 31.9049439 |\n",
       "| 5 | 4 |  0.7085752 | mobile  | explorer | 2 | 1 | 15.4198624 |\n",
       "| 6 | 5 | 10.8320878 | desktop | brave    | 0 | 0 | 24.1239264 |\n",
       "\n"
      ],
      "text/plain": [
       "  X time       device  browser  region discount spend     \n",
       "1 0 10.7790063 mobile  edge     9      0         0.4551642\n",
       "2 1  0.5689725 desktop firefox  9      0        11.0368706\n",
       "3 2  3.7438714 mobile  safari   7      0         1.8111930\n",
       "4 3 13.3734357 desktop other    5      0        31.9049439\n",
       "5 4  0.7085752 mobile  explorer 2      1        15.4198624\n",
       "6 5 10.8320878 desktop brave    0      0        24.1239264"
      ]
     },
     "metadata": {},
     "output_type": "display_data"
    }
   ],
   "source": [
    "url <- \"https://raw.githubusercontent.com/d2cml-ai/CausalAI-Course/refs/heads/main/Labs/PD/PD10/online_discounts.csv\"\n",
    "df <- read.csv(url)\n",
    "head(df)"
   ]
  },
  {
   "cell_type": "markdown",
   "metadata": {},
   "source": [
    "We have data on 100.000 store visitors, for whom we observe the `time` of the day the acessed the website, the `device` they use, their `browser`, and their geographical `region`. We also see whether they were offered the `discount`, our treatment, and what is their `spend`, the outcome of interest. The following code snippet describes how this effect (the value of $Y_i(1)-Y_i(0)$ for each user $i$) is generated (in Python).\n",
    "\n",
    "```python\n",
    "effect = 7*np.exp(-(df.time-18)**2/100) + 3*(df.browser=='safari') - 2*(df.device=='desktop') + (df.region=='3') - 2.5\n",
    "```\n",
    "\n",
    "Since the treatment was randomly assigned, we can use a simple **difference-in-means** estimator to estimate the treatment effect. We expect the treatment and control group to be similar, except for the `discount`, therefore we can causally attribute any difference in `spend` to the `discount`."
   ]
  },
  {
   "cell_type": "code",
   "execution_count": 18,
   "metadata": {
    "vscode": {
     "languageId": "r"
    }
   },
   "outputs": [
    {
     "data": {
      "text/html": [
       "<table class=\"dataframe\">\n",
       "<caption>A matrix: 2 × 4 of type dbl</caption>\n",
       "<thead>\n",
       "\t<tr><th></th><th scope=col>Estimate</th><th scope=col>Std. Error</th><th scope=col>t value</th><th scope=col>Pr(&gt;|t|)</th></tr>\n",
       "</thead>\n",
       "<tbody>\n",
       "\t<tr><th scope=row>(Intercept)</th><td>5.122072</td><td>0.04543493</td><td>112.73424</td><td> 0.000000e+00</td></tr>\n",
       "\t<tr><th scope=row>discount</th><td>1.750692</td><td>0.06421938</td><td> 27.26111</td><td>4.866824e-163</td></tr>\n",
       "</tbody>\n",
       "</table>\n"
      ],
      "text/latex": [
       "A matrix: 2 × 4 of type dbl\n",
       "\\begin{tabular}{r|llll}\n",
       "  & Estimate & Std. Error & t value & Pr(>\\textbar{}t\\textbar{})\\\\\n",
       "\\hline\n",
       "\t(Intercept) & 5.122072 & 0.04543493 & 112.73424 &  0.000000e+00\\\\\n",
       "\tdiscount & 1.750692 & 0.06421938 &  27.26111 & 4.866824e-163\\\\\n",
       "\\end{tabular}\n"
      ],
      "text/markdown": [
       "\n",
       "A matrix: 2 × 4 of type dbl\n",
       "\n",
       "| <!--/--> | Estimate | Std. Error | t value | Pr(&gt;|t|) |\n",
       "|---|---|---|---|---|\n",
       "| (Intercept) | 5.122072 | 0.04543493 | 112.73424 |  0.000000e+00 |\n",
       "| discount | 1.750692 | 0.06421938 |  27.26111 | 4.866824e-163 |\n",
       "\n"
      ],
      "text/plain": [
       "            Estimate Std. Error t value   Pr(>|t|)     \n",
       "(Intercept) 5.122072 0.04543493 112.73424  0.000000e+00\n",
       "discount    1.750692 0.06421938  27.26111 4.866824e-163"
      ]
     },
     "metadata": {},
     "output_type": "display_data"
    }
   ],
   "source": [
    "model <- lm(spend ~ discount, data = df)\n",
    "\n",
    "summary(model)$coefficients"
   ]
  },
  {
   "cell_type": "markdown",
   "metadata": {},
   "source": [
    "The discount seems to be effective: on average the spend in the treatment group increases by 1.95$. But are all customers equally affected?\n",
    "\n",
    "To answer this question, we would like to estimate **heterogeneous treatment effects**, possibly at the individual level. \n",
    "There are many different options to compute heterogeneous treatment effects. The simplest one is to interact the outcome of interest with a dimension of heterogeneity. The problem with this approach is which variable to pick. Sometimes we have prior information that might guide out actions; for example, we might know that `mobile` users on average spend more than `desktop` users. Other times, we might be interested in one dimension for business reasons; for example we might want to invest more in a certain `region`. However, when we do not extra information we would like this process to be data-driven.\n",
    "\n",
    "In the previous Lab we have explored one data-driven approach to estimate heterogeneous treatment effects: **causal trees**. We will now expand them to causal forests.\n",
    "Causal Forests are the equivalent of random forests, but for the estimation of heterogeneous treatment effects, exaxtly as for causal trees and regression trees. Exactly as for Causal Trees, we have a fundamental problem: we are interested in predicting an object that we do not observe: the individua treatment effects $\\tau_i$. The solution is to create an auxiliary outcome variable $Y^*$ whose expected value for each single observation is exactly the treatment effect.\n",
    "\n",
    "$$\n",
    "Y_i^* = \\frac{Y_i}{D_i \\cdot p(X_i) - (1-D_i) \\cdot (1-p(X_i))}\n",
    "$$\n",
    "\n",
    "Once we have an outcome variable, there are still a couple of things we need to do in order to use Random Forests to estimate heterogeneous treatment effects. First, we need to build trees that have an equal number of treated and control units in each leaf. Second, we need to use different samples to build the tree and evaluate it, i.e. compute the average outcome per leaf. This procedure is often referred to as **honest trees** and it's extremely helpful for inference, since we can treat the sample of each leaf as independent from the tree structure. \n",
    "\n",
    "Before we go into the estimation, let's first generate dummy variables for our categorical variables, `device`, `browser` and `region`."
   ]
  },
  {
   "cell_type": "code",
   "execution_count": 19,
   "metadata": {
    "vscode": {
     "languageId": "r"
    }
   },
   "outputs": [],
   "source": [
    "library(grf)\n",
    "library(fastDummies)\n",
    "\n",
    "X <- df[, c(\"time\", \"device\", \"browser\", \"region\")]\n",
    "X <- dummy_cols(X, remove_first_dummy = TRUE, remove_selected_columns = TRUE)\n",
    "Y <- df[, \"spend\"]\n",
    "W <- df[, \"discount\"]\n",
    "cf <- causal_forest(X, Y, W)"
   ]
  },
  {
   "cell_type": "markdown",
   "metadata": {},
   "source": [
    "Differently from Causal Trees, Causal Forests are harder to interpret since we cannot visualize every single tree. We can use the `get_tree` function to inspect an equivalent representation of the Causal Forest algorithm."
   ]
  },
  {
   "cell_type": "code",
   "execution_count": null,
   "metadata": {
    "vscode": {
     "languageId": "r"
    }
   },
   "outputs": [
    {
     "data": {
      "text/plain": [
       "GRF tree object \n",
       "Number of training samples: 50000 \n",
       "Variable splits: \n",
       "(1) split_variable: time  split_value: 12.4745 \n",
       "  (2) split_variable: time  split_value: 8.36721 \n",
       "    (4) split_variable: time  split_value: 4.06721 \n",
       "      (8) * num_samples: 4230  avg_Y: 5.26 avg_W: 0.5 \n",
       "      (9) * num_samples: 4451  avg_Y: 5.02 avg_W: 0.5 \n",
       "    (5) * num_samples: 4170  avg_Y: 5.68 avg_W: 0.49 \n",
       "  (3) split_variable: device_mobile  split_value: 0 \n",
       "    (6) * num_samples: 6116  avg_Y: 6.17 avg_W: 0.5 \n",
       "    (7) * num_samples: 6033  avg_Y: 7.41 avg_W: 0.5 "
      ]
     },
     "metadata": {},
     "output_type": "display_data"
    }
   ],
   "source": [
    "cf_smalltrees <- causal_forest(X, Y, W, min.node.size = 3000)\n",
    "tree <- get_tree(cf_smalltrees, 1)\n",
    "tree"
   ]
  },
  {
   "cell_type": "markdown",
   "metadata": {},
   "source": [
    "We can interpret the tree diagram exactly as for the Causal Tree model.\n",
    "\n",
    "The problem with this representation is that, differently from the case of Causal Trees, it is only an interpretation of the model. Since Causal Forests are made of many bootstrapped trees, there is no way to directly inspect each decision tree. One way to understand which feature is most important in detemining the tree split is the so-called [feature importance](https://scikit-learn.org/stable/auto_examples/ensemble/plot_forest_importances.html)."
   ]
  },
  {
   "cell_type": "code",
   "execution_count": 21,
   "metadata": {
    "vscode": {
     "languageId": "r"
    }
   },
   "outputs": [
    {
     "data": {
      "text/html": [
       "<table class=\"dataframe\">\n",
       "<caption>A data.frame: 9 × 2</caption>\n",
       "<thead>\n",
       "\t<tr><th scope=col>variable</th><th scope=col>importance</th></tr>\n",
       "\t<tr><th scope=col>&lt;chr&gt;</th><th scope=col>&lt;dbl&gt;</th></tr>\n",
       "</thead>\n",
       "<tbody>\n",
       "\t<tr><td>time            </td><td>0.733292447</td></tr>\n",
       "\t<tr><td>browser_safari  </td><td>0.124886650</td></tr>\n",
       "\t<tr><td>device_mobile   </td><td>0.094473998</td></tr>\n",
       "\t<tr><td>region          </td><td>0.023791514</td></tr>\n",
       "\t<tr><td>browser_other   </td><td>0.007322667</td></tr>\n",
       "\t<tr><td>browser_edge    </td><td>0.006184542</td></tr>\n",
       "\t<tr><td>browser_chrome  </td><td>0.003713566</td></tr>\n",
       "\t<tr><td>browser_firefox </td><td>0.003315083</td></tr>\n",
       "\t<tr><td>browser_explorer</td><td>0.003019533</td></tr>\n",
       "</tbody>\n",
       "</table>\n"
      ],
      "text/latex": [
       "A data.frame: 9 × 2\n",
       "\\begin{tabular}{ll}\n",
       " variable & importance\\\\\n",
       " <chr> & <dbl>\\\\\n",
       "\\hline\n",
       "\t time             & 0.733292447\\\\\n",
       "\t browser\\_safari   & 0.124886650\\\\\n",
       "\t device\\_mobile    & 0.094473998\\\\\n",
       "\t region           & 0.023791514\\\\\n",
       "\t browser\\_other    & 0.007322667\\\\\n",
       "\t browser\\_edge     & 0.006184542\\\\\n",
       "\t browser\\_chrome   & 0.003713566\\\\\n",
       "\t browser\\_firefox  & 0.003315083\\\\\n",
       "\t browser\\_explorer & 0.003019533\\\\\n",
       "\\end{tabular}\n"
      ],
      "text/markdown": [
       "\n",
       "A data.frame: 9 × 2\n",
       "\n",
       "| variable &lt;chr&gt; | importance &lt;dbl&gt; |\n",
       "|---|---|\n",
       "| time             | 0.733292447 |\n",
       "| browser_safari   | 0.124886650 |\n",
       "| device_mobile    | 0.094473998 |\n",
       "| region           | 0.023791514 |\n",
       "| browser_other    | 0.007322667 |\n",
       "| browser_edge     | 0.006184542 |\n",
       "| browser_chrome   | 0.003713566 |\n",
       "| browser_firefox  | 0.003315083 |\n",
       "| browser_explorer | 0.003019533 |\n",
       "\n"
      ],
      "text/plain": [
       "  variable         importance \n",
       "1 time             0.733292447\n",
       "2 browser_safari   0.124886650\n",
       "3 device_mobile    0.094473998\n",
       "4 region           0.023791514\n",
       "5 browser_other    0.007322667\n",
       "6 browser_edge     0.006184542\n",
       "7 browser_chrome   0.003713566\n",
       "8 browser_firefox  0.003315083\n",
       "9 browser_explorer 0.003019533"
      ]
     },
     "metadata": {},
     "output_type": "display_data"
    }
   ],
   "source": [
    "varimp <- variable_importance(cf)\n",
    "ranked.vars <- order(varimp, decreasing = TRUE)\n",
    "importances <- data.frame(variable = colnames(X)[ranked.vars], importance = varimp[ranked.vars])\n",
    "importances"
   ]
  },
  {
   "cell_type": "code",
   "execution_count": 22,
   "metadata": {
    "vscode": {
     "languageId": "r"
    }
   },
   "outputs": [
    {
     "data": {
      "image/png": "[encoded data removed]",
      "text/plain": [
       "plot without title"
      ]
     },
     "metadata": {
      "image/png": {
       "height": 420,
       "width": 420
      }
     },
     "output_type": "display_data"
    }
   ],
   "source": [
    "library(forcats)\n",
    "figure <- ggplot(importances,\n",
    "                 aes(fct_rev(fct_reorder(variable, importance)), importance))\n",
    "figure + geom_col() +\n",
    "  scale_x_discrete(guide = guide_axis(angle = 45)) +\n",
    "  labs(x = \"Variable\", y = \"Importance\")"
   ]
  },
  {
   "cell_type": "markdown",
   "metadata": {},
   "source": [
    "Clearly `time` is the first dimension of heterogeneity, followed by `device` (mobile in particular) and `browser` (safari in particular). Other dimensions do not matter much.\n",
    "\n",
    "We can now do a more relevant test: how well the algorithm performs with a continuous variable such as `time`? First, let’s again isolate the predicted treatment effects on `time` and ignore the other covariates."
   ]
  },
  {
   "cell_type": "code",
   "execution_count": 23,
   "metadata": {
    "vscode": {
     "languageId": "r"
    }
   },
   "outputs": [],
   "source": [
    "df$effects <- 7 * exp(-(df$time - 18) ^ 2 / 100) +\n",
    "  3 * (df$browser == \"safari\") -\n",
    "  2 * (df$device == \"desktop\") +\n",
    "  (df$region == \"3\") - 2.5\n",
    "\n",
    "df$effects[df$effects < 0] = 0"
   ]
  },
  {
   "cell_type": "code",
   "execution_count": 24,
   "metadata": {
    "vscode": {
     "languageId": "r"
    }
   },
   "outputs": [
    {
     "data": {
      "image/png": "[encoded data removed]",
      "text/plain": [
       "Plot with title \"Actual vs Predicted Effects Bins\""
      ]
     },
     "metadata": {
      "image/png": {
       "height": 420,
       "width": 420
      }
     },
     "output_type": "display_data"
    }
   ],
   "source": [
    "# Assuming df is your data frame and X contains predictor column names\n",
    "\n",
    "# Create time_bins by rounding time to the nearest 0.5\n",
    "df$time_bins <- floor(df$time * 2) / 2\n",
    "\n",
    "# Calculate the mean effects for each time bin\n",
    "effects_bins <- aggregate(effects ~ time_bins, data = df, mean)\n",
    "\n",
    "# Generate predictions using the model (assuming forest_model is trained)\n",
    "df$predicted_effects <- predict(cf, X)$predictions\n",
    "\n",
    "# Calculate the mean predicted effects for each time bin\n",
    "predicted_effects_bins <- aggregate(predicted_effects ~ time_bins, data = df, mean)\n",
    "\n",
    "# Plot the actual vs. predicted effects bins\n",
    "plot(effects_bins$time_bins, effects_bins$effects, type = \"l\", col = \"blue\",\n",
    "     xlab = \"Time Bins\", ylab = \"Effects\", main = \"Actual vs Predicted Effects Bins\")\n",
    "lines(predicted_effects_bins$time_bins, predicted_effects_bins$predicted_effects, col = \"red\")\n",
    "legend(\"topright\", legend = c(\"Actual Effects\", \"Predicted Effects\"), col = c(\"blue\", \"red\"), lty = 1)"
   ]
  }
 ],
 "metadata": {
  "kernelspec": {
   "display_name": "R",
   "language": "R",
   "name": "ir"
  },
  "language_info": {
   "codemirror_mode": "r",
   "file_extension": ".r",
   "mimetype": "text/x-r-source",
   "name": "R",
   "pygments_lexer": "r",
   "version": "4.4.1"
  }
 },
 "nbformat": 4,
 "nbformat_minor": 2
}
