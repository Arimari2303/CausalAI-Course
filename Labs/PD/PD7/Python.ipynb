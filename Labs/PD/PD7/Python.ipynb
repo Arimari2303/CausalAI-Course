{
 "cells": [
  {
   "cell_type": "markdown",
   "metadata": {},
   "source": [
    "# PD7 - Directed Acyclic Graphs"
   ]
  },
  {
   "cell_type": "code",
   "execution_count": 1,
   "metadata": {},
   "outputs": [],
   "source": [
    "import numpy as np\n",
    "import statsmodels.api as sms"
   ]
  },
  {
   "cell_type": "code",
   "execution_count": 2,
   "metadata": {},
   "outputs": [
    {
     "data": {
      "text/plain": [
       "np.int64(963)"
      ]
     },
     "execution_count": 2,
     "metadata": {},
     "output_type": "execute_result"
    }
   ],
   "source": [
    "sample = np.random.uniform(0, 1, (1_000_000, 1)) < 0.001\n",
    "sample.sum()"
   ]
  },
  {
   "cell_type": "code",
   "execution_count": 3,
   "metadata": {},
   "outputs": [],
   "source": [
    "sample_indices = np.where(sample)[0]"
   ]
  },
  {
   "cell_type": "markdown",
   "metadata": {},
   "source": [
    "## 1.\n",
    "\n",
    "![](assets/dags1.png)"
   ]
  },
  {
   "cell_type": "code",
   "execution_count": 4,
   "metadata": {},
   "outputs": [],
   "source": [
    "pop_Z = np.random.normal(0, 1, (1_000_000, 1))\n",
    "pop_X = pop_Z + np.random.normal(0, 1, (1_000_000, 1))\n",
    "pop_Y = pop_Z + pop_X + np.random.normal(0, 1, (1_000_000, 1))"
   ]
  },
  {
   "cell_type": "code",
   "execution_count": 5,
   "metadata": {},
   "outputs": [
    {
     "name": "stdout",
     "output_type": "stream",
     "text": [
      "                                 OLS Regression Results                                \n",
      "=======================================================================================\n",
      "Dep. Variable:                      y   R-squared (uncentered):                   0.761\n",
      "Model:                            OLS   Adj. R-squared (uncentered):              0.760\n",
      "Method:                 Least Squares   F-statistic:                              3057.\n",
      "Date:                Wed, 06 Aug 2025   Prob (F-statistic):                   6.14e-301\n",
      "Time:                        12:35:03   Log-Likelihood:                         -1564.2\n",
      "No. Observations:                 963   AIC:                                      3130.\n",
      "Df Residuals:                     962   BIC:                                      3135.\n",
      "Df Model:                           1                                                  \n",
      "Covariance Type:            nonrobust                                                  \n",
      "==============================================================================\n",
      "                 coef    std err          t      P>|t|      [0.025      0.975]\n",
      "------------------------------------------------------------------------------\n",
      "x1             1.5479      0.028     55.292      0.000       1.493       1.603\n",
      "==============================================================================\n",
      "Omnibus:                        0.728   Durbin-Watson:                   1.940\n",
      "Prob(Omnibus):                  0.695   Jarque-Bera (JB):                0.802\n",
      "Skew:                          -0.019   Prob(JB):                        0.670\n",
      "Kurtosis:                       2.864   Cond. No.                         1.00\n",
      "==============================================================================\n",
      "\n",
      "Notes:\n",
      "[1] R² is computed without centering (uncentered) since the model does not contain a constant.\n",
      "[2] Standard Errors assume that the covariance matrix of the errors is correctly specified.\n"
     ]
    }
   ],
   "source": [
    "print(sms.OLS(pop_Y[sample_indices], pop_X[sample_indices]).fit().summary())"
   ]
  },
  {
   "cell_type": "code",
   "execution_count": 6,
   "metadata": {},
   "outputs": [
    {
     "name": "stdout",
     "output_type": "stream",
     "text": [
      "                                 OLS Regression Results                                \n",
      "=======================================================================================\n",
      "Dep. Variable:                      y   R-squared (uncentered):                   0.848\n",
      "Model:                            OLS   Adj. R-squared (uncentered):              0.848\n",
      "Method:                 Least Squares   F-statistic:                              2683.\n",
      "Date:                Wed, 06 Aug 2025   Prob (F-statistic):                        0.00\n",
      "Time:                        12:35:07   Log-Likelihood:                         -1345.2\n",
      "No. Observations:                 963   AIC:                                      2694.\n",
      "Df Residuals:                     961   BIC:                                      2704.\n",
      "Df Model:                           2                                                  \n",
      "Covariance Type:            nonrobust                                                  \n",
      "==============================================================================\n",
      "                 coef    std err          t      P>|t|      [0.025      0.975]\n",
      "------------------------------------------------------------------------------\n",
      "x1             1.0093      0.032     31.570      0.000       0.947       1.072\n",
      "x2             1.0681      0.045     23.525      0.000       0.979       1.157\n",
      "==============================================================================\n",
      "Omnibus:                        0.305   Durbin-Watson:                   1.896\n",
      "Prob(Omnibus):                  0.858   Jarque-Bera (JB):                0.204\n",
      "Skew:                          -0.014   Prob(JB):                        0.903\n",
      "Kurtosis:                       3.066   Cond. No.                         2.67\n",
      "==============================================================================\n",
      "\n",
      "Notes:\n",
      "[1] R² is computed without centering (uncentered) since the model does not contain a constant.\n",
      "[2] Standard Errors assume that the covariance matrix of the errors is correctly specified.\n"
     ]
    }
   ],
   "source": [
    "print(sms.OLS(pop_Y[sample_indices], np.hstack((pop_X, pop_Z))[sample_indices]).fit().summary())"
   ]
  },
  {
   "cell_type": "markdown",
   "metadata": {},
   "source": [
    "1. Good controls: controlling for a confounder"
   ]
  },
  {
   "cell_type": "code",
   "execution_count": 7,
   "metadata": {},
   "outputs": [],
   "source": [
    "pop_U = np.random.normal(0, 1, (1_000_000, 1))\n",
    "pop_Z = pop_U + np.random.normal(0, 1, (1_000_000, 1))\n",
    "pop_X = pop_Z + np.random.normal(0, 1, (1_000_000, 1))\n",
    "pop_Y = pop_U + pop_X + np.random.normal(0, 1, (1_000_000, 1))"
   ]
  },
  {
   "cell_type": "code",
   "execution_count": 8,
   "metadata": {},
   "outputs": [
    {
     "name": "stdout",
     "output_type": "stream",
     "text": [
      "                                 OLS Regression Results                                \n",
      "=======================================================================================\n",
      "Dep. Variable:                      y   R-squared (uncentered):                   0.757\n",
      "Model:                            OLS   Adj. R-squared (uncentered):              0.756\n",
      "Method:                 Least Squares   F-statistic:                              2989.\n",
      "Date:                Wed, 06 Aug 2025   Prob (F-statistic):                   2.23e-297\n",
      "Time:                        12:35:13   Log-Likelihood:                         -1592.3\n",
      "No. Observations:                 963   AIC:                                      3187.\n",
      "Df Residuals:                     962   BIC:                                      3191.\n",
      "Df Model:                           1                                                  \n",
      "Covariance Type:            nonrobust                                                  \n",
      "==============================================================================\n",
      "                 coef    std err          t      P>|t|      [0.025      0.975]\n",
      "------------------------------------------------------------------------------\n",
      "x1             1.3048      0.024     54.674      0.000       1.258       1.352\n",
      "==============================================================================\n",
      "Omnibus:                        3.017   Durbin-Watson:                   1.986\n",
      "Prob(Omnibus):                  0.221   Jarque-Bera (JB):                2.907\n",
      "Skew:                           0.102   Prob(JB):                        0.234\n",
      "Kurtosis:                       3.175   Cond. No.                         1.00\n",
      "==============================================================================\n",
      "\n",
      "Notes:\n",
      "[1] R² is computed without centering (uncentered) since the model does not contain a constant.\n",
      "[2] Standard Errors assume that the covariance matrix of the errors is correctly specified.\n"
     ]
    }
   ],
   "source": [
    "print(sms.OLS(pop_Y[sample_indices], pop_X[sample_indices]).fit().summary())"
   ]
  },
  {
   "cell_type": "code",
   "execution_count": 9,
   "metadata": {},
   "outputs": [
    {
     "name": "stdout",
     "output_type": "stream",
     "text": [
      "                                 OLS Regression Results                                \n",
      "=======================================================================================\n",
      "Dep. Variable:                      y   R-squared (uncentered):                   0.777\n",
      "Model:                            OLS   Adj. R-squared (uncentered):              0.777\n",
      "Method:                 Least Squares   F-statistic:                              1675.\n",
      "Date:                Wed, 06 Aug 2025   Prob (F-statistic):                   6.74e-314\n",
      "Time:                        12:35:17   Log-Likelihood:                         -1549.9\n",
      "No. Observations:                 963   AIC:                                      3104.\n",
      "Df Residuals:                     961   BIC:                                      3114.\n",
      "Df Model:                           2                                                  \n",
      "Covariance Type:            nonrobust                                                  \n",
      "==============================================================================\n",
      "                 coef    std err          t      P>|t|      [0.025      0.975]\n",
      "------------------------------------------------------------------------------\n",
      "x1             0.9873      0.041     24.208      0.000       0.907       1.067\n",
      "x2             0.4601      0.049      9.400      0.000       0.364       0.556\n",
      "==============================================================================\n",
      "Omnibus:                        1.003   Durbin-Watson:                   2.004\n",
      "Prob(Omnibus):                  0.606   Jarque-Bera (JB):                0.891\n",
      "Skew:                           0.066   Prob(JB):                        0.640\n",
      "Kurtosis:                       3.067   Cond. No.                         3.33\n",
      "==============================================================================\n",
      "\n",
      "Notes:\n",
      "[1] R² is computed without centering (uncentered) since the model does not contain a constant.\n",
      "[2] Standard Errors assume that the covariance matrix of the errors is correctly specified.\n"
     ]
    }
   ],
   "source": [
    "print(sms.OLS(pop_Y[sample_indices], np.hstack((pop_X, pop_Z))[sample_indices]).fit().summary())"
   ]
  },
  {
   "cell_type": "markdown",
   "metadata": {},
   "source": [
    "## 2. \n",
    "\n",
    "![](assets/dags2.png)"
   ]
  },
  {
   "cell_type": "code",
   "execution_count": 10,
   "metadata": {},
   "outputs": [],
   "source": [
    "pop_U = np.random.normal(0, 1, (1_000_000, 1))\n",
    "pop_Z = pop_U + np.random.normal(0, 1, (1_000_000, 1))\n",
    "pop_X = pop_U + np.random.normal(0, 1, (1_000_000, 1))\n",
    "pop_M = pop_Z + np.random.normal(0, 1, (1_000_000, 1))\n",
    "pop_Y = pop_X + pop_M + np.random.normal(0, 1, (1_000_000, 1))"
   ]
  },
  {
   "cell_type": "code",
   "execution_count": 11,
   "metadata": {},
   "outputs": [
    {
     "name": "stdout",
     "output_type": "stream",
     "text": [
      "                                 OLS Regression Results                                \n",
      "=======================================================================================\n",
      "Dep. Variable:                      y   R-squared (uncentered):                   0.578\n",
      "Model:                            OLS   Adj. R-squared (uncentered):              0.577\n",
      "Method:                 Least Squares   F-statistic:                              1316.\n",
      "Date:                Wed, 06 Aug 2025   Prob (F-statistic):                   2.62e-182\n",
      "Time:                        12:35:21   Log-Likelihood:                         -1941.0\n",
      "No. Observations:                 963   AIC:                                      3884.\n",
      "Df Residuals:                     962   BIC:                                      3889.\n",
      "Df Model:                           1                                                  \n",
      "Covariance Type:            nonrobust                                                  \n",
      "==============================================================================\n",
      "                 coef    std err          t      P>|t|      [0.025      0.975]\n",
      "------------------------------------------------------------------------------\n",
      "x1             1.5056      0.041     36.282      0.000       1.424       1.587\n",
      "==============================================================================\n",
      "Omnibus:                        0.003   Durbin-Watson:                   2.052\n",
      "Prob(Omnibus):                  0.998   Jarque-Bera (JB):                0.004\n",
      "Skew:                           0.001   Prob(JB):                        0.998\n",
      "Kurtosis:                       2.991   Cond. No.                         1.00\n",
      "==============================================================================\n",
      "\n",
      "Notes:\n",
      "[1] R² is computed without centering (uncentered) since the model does not contain a constant.\n",
      "[2] Standard Errors assume that the covariance matrix of the errors is correctly specified.\n"
     ]
    }
   ],
   "source": [
    "print(sms.OLS(pop_Y[sample_indices], pop_X[sample_indices]).fit().summary())"
   ]
  },
  {
   "cell_type": "code",
   "execution_count": 12,
   "metadata": {},
   "outputs": [
    {
     "name": "stdout",
     "output_type": "stream",
     "text": [
      "                                 OLS Regression Results                                \n",
      "=======================================================================================\n",
      "Dep. Variable:                      y   R-squared (uncentered):                   0.760\n",
      "Model:                            OLS   Adj. R-squared (uncentered):              0.759\n",
      "Method:                 Least Squares   F-statistic:                              1519.\n",
      "Date:                Wed, 06 Aug 2025   Prob (F-statistic):                   3.06e-298\n",
      "Time:                        12:35:23   Log-Likelihood:                         -1669.6\n",
      "No. Observations:                 963   AIC:                                      3343.\n",
      "Df Residuals:                     961   BIC:                                      3353.\n",
      "Df Model:                           2                                                  \n",
      "Covariance Type:            nonrobust                                                  \n",
      "==============================================================================\n",
      "                 coef    std err          t      P>|t|      [0.025      0.975]\n",
      "------------------------------------------------------------------------------\n",
      "x1             0.9969      0.037     27.265      0.000       0.925       1.069\n",
      "x2             1.0151      0.038     26.969      0.000       0.941       1.089\n",
      "==============================================================================\n",
      "Omnibus:                        1.184   Durbin-Watson:                   1.979\n",
      "Prob(Omnibus):                  0.553   Jarque-Bera (JB):                1.265\n",
      "Skew:                           0.069   Prob(JB):                        0.531\n",
      "Kurtosis:                       2.889   Cond. No.                         1.77\n",
      "==============================================================================\n",
      "\n",
      "Notes:\n",
      "[1] R² is computed without centering (uncentered) since the model does not contain a constant.\n",
      "[2] Standard Errors assume that the covariance matrix of the errors is correctly specified.\n"
     ]
    }
   ],
   "source": [
    "print(sms.OLS(pop_Y[sample_indices], np.hstack((pop_X, pop_Z))[sample_indices]).fit().summary())"
   ]
  },
  {
   "cell_type": "markdown",
   "metadata": {},
   "source": [
    "2. Good controls: controlling for a confounder"
   ]
  },
  {
   "cell_type": "markdown",
   "metadata": {},
   "source": [
    "## 3.\n",
    "\n",
    "![](assets/dags3.png)"
   ]
  },
  {
   "cell_type": "code",
   "execution_count": 19,
   "metadata": {},
   "outputs": [],
   "source": [
    "pop_U1 = np.random.normal(0, 1, (1_000_000, 1))\n",
    "pop_U2 = np.random.normal(0, 1, (1_000_000, 1))\n",
    "pop_Z = pop_U1 + pop_U2 + np.random.normal(0, 1, (1_000_000, 1))\n",
    "pop_X = pop_U1 + np.random.normal(0, 1, (1_000_000, 1))\n",
    "pop_Y = pop_X + pop_U2 + np.random.normal(0, 1, (1_000_000, 1))"
   ]
  },
  {
   "cell_type": "code",
   "execution_count": 20,
   "metadata": {},
   "outputs": [
    {
     "name": "stdout",
     "output_type": "stream",
     "text": [
      "                                 OLS Regression Results                                \n",
      "=======================================================================================\n",
      "Dep. Variable:                      y   R-squared (uncentered):                   0.493\n",
      "Model:                            OLS   Adj. R-squared (uncentered):              0.492\n",
      "Method:                 Least Squares   F-statistic:                              934.7\n",
      "Date:                Wed, 06 Aug 2025   Prob (F-statistic):                   5.69e-144\n",
      "Time:                        12:35:41   Log-Likelihood:                         -1710.1\n",
      "No. Observations:                 963   AIC:                                      3422.\n",
      "Df Residuals:                     962   BIC:                                      3427.\n",
      "Df Model:                           1                                                  \n",
      "Covariance Type:            nonrobust                                                  \n",
      "==============================================================================\n",
      "                 coef    std err          t      P>|t|      [0.025      0.975]\n",
      "------------------------------------------------------------------------------\n",
      "x1             1.0018      0.033     30.573      0.000       0.938       1.066\n",
      "==============================================================================\n",
      "Omnibus:                        1.439   Durbin-Watson:                   2.054\n",
      "Prob(Omnibus):                  0.487   Jarque-Bera (JB):                1.314\n",
      "Skew:                           0.050   Prob(JB):                        0.518\n",
      "Kurtosis:                       3.151   Cond. No.                         1.00\n",
      "==============================================================================\n",
      "\n",
      "Notes:\n",
      "[1] R² is computed without centering (uncentered) since the model does not contain a constant.\n",
      "[2] Standard Errors assume that the covariance matrix of the errors is correctly specified.\n"
     ]
    }
   ],
   "source": [
    "print(sms.OLS(pop_Y[sample_indices], pop_X[sample_indices]).fit().summary())"
   ]
  },
  {
   "cell_type": "code",
   "execution_count": 21,
   "metadata": {},
   "outputs": [
    {
     "name": "stdout",
     "output_type": "stream",
     "text": [
      "                                 OLS Regression Results                                \n",
      "=======================================================================================\n",
      "Dep. Variable:                      y   R-squared (uncentered):                   0.602\n",
      "Model:                            OLS   Adj. R-squared (uncentered):              0.601\n",
      "Method:                 Least Squares   F-statistic:                              727.7\n",
      "Date:                Wed, 06 Aug 2025   Prob (F-statistic):                   3.92e-193\n",
      "Time:                        12:35:42   Log-Likelihood:                         -1593.0\n",
      "No. Observations:                 963   AIC:                                      3190.\n",
      "Df Residuals:                     961   BIC:                                      3200.\n",
      "Df Model:                           2                                                  \n",
      "Covariance Type:            nonrobust                                                  \n",
      "==============================================================================\n",
      "                 coef    std err          t      P>|t|      [0.025      0.975]\n",
      "------------------------------------------------------------------------------\n",
      "x1             0.7625      0.033     23.428      0.000       0.699       0.826\n",
      "x2             0.4303      0.026     16.265      0.000       0.378       0.482\n",
      "==============================================================================\n",
      "Omnibus:                        0.495   Durbin-Watson:                   2.122\n",
      "Prob(Omnibus):                  0.781   Jarque-Bera (JB):                0.385\n",
      "Skew:                           0.033   Prob(JB):                        0.825\n",
      "Kurtosis:                       3.072   Cond. No.                         1.70\n",
      "==============================================================================\n",
      "\n",
      "Notes:\n",
      "[1] R² is computed without centering (uncentered) since the model does not contain a constant.\n",
      "[2] Standard Errors assume that the covariance matrix of the errors is correctly specified.\n"
     ]
    }
   ],
   "source": [
    "print(sms.OLS(pop_Y[sample_indices], np.hstack((pop_X, pop_Z))[sample_indices]).fit().summary())"
   ]
  },
  {
   "cell_type": "markdown",
   "metadata": {},
   "source": [
    "3. Bad control: controlling for a collider (M-graph)"
   ]
  },
  {
   "cell_type": "markdown",
   "metadata": {},
   "source": [
    "## 4. Damned if you do damned if you don't\n",
    "\n",
    "![](assets/dags4.png)"
   ]
  },
  {
   "cell_type": "markdown",
   "metadata": {},
   "source": [
    "In this situation, it is not clear whether Z will be a good or bad controls. Other tools may be needed like sensitivity analysis to assess the effect of using it as a control."
   ]
  },
  {
   "cell_type": "markdown",
   "metadata": {},
   "source": [
    "## 5.\n",
    "\n",
    "![](assets/dags5.png)"
   ]
  },
  {
   "cell_type": "code",
   "execution_count": 22,
   "metadata": {},
   "outputs": [],
   "source": [
    "pop_Z = np.random.normal(0, 1, (1_000_000, 1))\n",
    "pop_X = np.random.normal(0, 1, (1_000_000, 1))\n",
    "pop_Y = pop_X + pop_Z + np.random.normal(0, 1, (1_000_000, 1))"
   ]
  },
  {
   "cell_type": "code",
   "execution_count": 23,
   "metadata": {},
   "outputs": [
    {
     "name": "stdout",
     "output_type": "stream",
     "text": [
      "                                 OLS Regression Results                                \n",
      "=======================================================================================\n",
      "Dep. Variable:                      y   R-squared (uncentered):                   0.317\n",
      "Model:                            OLS   Adj. R-squared (uncentered):              0.316\n",
      "Method:                 Least Squares   F-statistic:                              446.8\n",
      "Date:                Wed, 06 Aug 2025   Prob (F-statistic):                    9.18e-82\n",
      "Time:                        12:35:54   Log-Likelihood:                         -1722.1\n",
      "No. Observations:                 963   AIC:                                      3446.\n",
      "Df Residuals:                     962   BIC:                                      3451.\n",
      "Df Model:                           1                                                  \n",
      "Covariance Type:            nonrobust                                                  \n",
      "==============================================================================\n",
      "                 coef    std err          t      P>|t|      [0.025      0.975]\n",
      "------------------------------------------------------------------------------\n",
      "x1             0.9786      0.046     21.139      0.000       0.888       1.069\n",
      "==============================================================================\n",
      "Omnibus:                        0.883   Durbin-Watson:                   2.051\n",
      "Prob(Omnibus):                  0.643   Jarque-Bera (JB):                0.937\n",
      "Skew:                          -0.071   Prob(JB):                        0.626\n",
      "Kurtosis:                       2.942   Cond. No.                         1.00\n",
      "==============================================================================\n",
      "\n",
      "Notes:\n",
      "[1] R² is computed without centering (uncentered) since the model does not contain a constant.\n",
      "[2] Standard Errors assume that the covariance matrix of the errors is correctly specified.\n"
     ]
    }
   ],
   "source": [
    "print(sms.OLS(pop_Y[sample_indices], pop_X[sample_indices]).fit().summary())"
   ]
  },
  {
   "cell_type": "code",
   "execution_count": 24,
   "metadata": {},
   "outputs": [
    {
     "name": "stdout",
     "output_type": "stream",
     "text": [
      "                                 OLS Regression Results                                \n",
      "=======================================================================================\n",
      "Dep. Variable:                      y   R-squared (uncentered):                   0.650\n",
      "Model:                            OLS   Adj. R-squared (uncentered):              0.649\n",
      "Method:                 Least Squares   F-statistic:                              892.0\n",
      "Date:                Wed, 06 Aug 2025   Prob (F-statistic):                   9.50e-220\n",
      "Time:                        12:35:56   Log-Likelihood:                         -1400.4\n",
      "No. Observations:                 963   AIC:                                      2805.\n",
      "Df Residuals:                     961   BIC:                                      2815.\n",
      "Df Model:                           2                                                  \n",
      "Covariance Type:            nonrobust                                                  \n",
      "==============================================================================\n",
      "                 coef    std err          t      P>|t|      [0.025      0.975]\n",
      "------------------------------------------------------------------------------\n",
      "x1             1.0191      0.033     30.703      0.000       0.954       1.084\n",
      "x2             1.0225      0.034     30.222      0.000       0.956       1.089\n",
      "==============================================================================\n",
      "Omnibus:                        3.929   Durbin-Watson:                   1.972\n",
      "Prob(Omnibus):                  0.140   Jarque-Bera (JB):                3.786\n",
      "Skew:                          -0.146   Prob(JB):                        0.151\n",
      "Kurtosis:                       3.098   Cond. No.                         1.05\n",
      "==============================================================================\n",
      "\n",
      "Notes:\n",
      "[1] R² is computed without centering (uncentered) since the model does not contain a constant.\n",
      "[2] Standard Errors assume that the covariance matrix of the errors is correctly specified.\n"
     ]
    }
   ],
   "source": [
    "print(sms.OLS(pop_Y[sample_indices], np.hstack((pop_X, pop_Z))[sample_indices]).fit().summary())"
   ]
  },
  {
   "cell_type": "markdown",
   "metadata": {},
   "source": [
    "5. Neutral control (but raises precision)"
   ]
  },
  {
   "cell_type": "markdown",
   "metadata": {},
   "source": [
    "## 6.\n",
    "\n",
    "![](assets/dags6.png)"
   ]
  },
  {
   "cell_type": "code",
   "execution_count": 25,
   "metadata": {},
   "outputs": [],
   "source": [
    "pop_Z = np.random.normal(0, 1, (1_000_000, 1))\n",
    "pop_X = pop_Z + np.random.normal(0, 1, (1_000_000, 1))\n",
    "pop_Y = pop_X + np.random.normal(0, 1, (1_000_000, 1))"
   ]
  },
  {
   "cell_type": "code",
   "execution_count": 26,
   "metadata": {},
   "outputs": [
    {
     "name": "stdout",
     "output_type": "stream",
     "text": [
      "                                 OLS Regression Results                                \n",
      "=======================================================================================\n",
      "Dep. Variable:                      y   R-squared (uncentered):                   0.651\n",
      "Model:                            OLS   Adj. R-squared (uncentered):              0.651\n",
      "Method:                 Least Squares   F-statistic:                              1794.\n",
      "Date:                Wed, 06 Aug 2025   Prob (F-statistic):                   4.50e-222\n",
      "Time:                        12:36:02   Log-Likelihood:                         -1376.4\n",
      "No. Observations:                 963   AIC:                                      2755.\n",
      "Df Residuals:                     962   BIC:                                      2760.\n",
      "Df Model:                           1                                                  \n",
      "Covariance Type:            nonrobust                                                  \n",
      "==============================================================================\n",
      "                 coef    std err          t      P>|t|      [0.025      0.975]\n",
      "------------------------------------------------------------------------------\n",
      "x1             1.0031      0.024     42.353      0.000       0.957       1.050\n",
      "==============================================================================\n",
      "Omnibus:                        0.069   Durbin-Watson:                   2.080\n",
      "Prob(Omnibus):                  0.966   Jarque-Bera (JB):                0.026\n",
      "Skew:                          -0.008   Prob(JB):                        0.987\n",
      "Kurtosis:                       3.020   Cond. No.                         1.00\n",
      "==============================================================================\n",
      "\n",
      "Notes:\n",
      "[1] R² is computed without centering (uncentered) since the model does not contain a constant.\n",
      "[2] Standard Errors assume that the covariance matrix of the errors is correctly specified.\n"
     ]
    }
   ],
   "source": [
    "print(sms.OLS(pop_Y[sample_indices], pop_X[sample_indices]).fit().summary())"
   ]
  },
  {
   "cell_type": "code",
   "execution_count": 27,
   "metadata": {},
   "outputs": [
    {
     "name": "stdout",
     "output_type": "stream",
     "text": [
      "                                 OLS Regression Results                                \n",
      "=======================================================================================\n",
      "Dep. Variable:                      y   R-squared (uncentered):                   0.652\n",
      "Model:                            OLS   Adj. R-squared (uncentered):              0.651\n",
      "Method:                 Least Squares   F-statistic:                              898.8\n",
      "Date:                Wed, 06 Aug 2025   Prob (F-statistic):                   8.88e-221\n",
      "Time:                        12:36:05   Log-Likelihood:                         -1375.4\n",
      "No. Observations:                 963   AIC:                                      2755.\n",
      "Df Residuals:                     961   BIC:                                      2765.\n",
      "Df Model:                           2                                                  \n",
      "Covariance Type:            nonrobust                                                  \n",
      "==============================================================================\n",
      "                 coef    std err          t      P>|t|      [0.025      0.975]\n",
      "------------------------------------------------------------------------------\n",
      "x1             0.9705      0.033     29.292      0.000       0.905       1.035\n",
      "x2             0.0673      0.048      1.408      0.159      -0.026       0.161\n",
      "==============================================================================\n",
      "Omnibus:                        0.074   Durbin-Watson:                   2.078\n",
      "Prob(Omnibus):                  0.964   Jarque-Bera (JB):                0.025\n",
      "Skew:                          -0.004   Prob(JB):                        0.987\n",
      "Kurtosis:                       3.024   Cond. No.                         2.61\n",
      "==============================================================================\n",
      "\n",
      "Notes:\n",
      "[1] R² is computed without centering (uncentered) since the model does not contain a constant.\n",
      "[2] Standard Errors assume that the covariance matrix of the errors is correctly specified.\n"
     ]
    }
   ],
   "source": [
    "print(sms.OLS(pop_Y[sample_indices], np.hstack((pop_X, pop_Z))[sample_indices]).fit().summary())"
   ]
  },
  {
   "cell_type": "markdown",
   "metadata": {},
   "source": [
    "6. Neutral control (but lowers precision)"
   ]
  },
  {
   "cell_type": "markdown",
   "metadata": {},
   "source": [
    "## 7."
   ]
  },
  {
   "cell_type": "markdown",
   "metadata": {},
   "source": [
    "![](assets/dags7.png)"
   ]
  },
  {
   "cell_type": "code",
   "execution_count": 28,
   "metadata": {},
   "outputs": [],
   "source": [
    "pop_X = np.random.normal(0, 1, (1_000_000, 1))\n",
    "pop_M = pop_X + np.random.normal(0, 1, (1_000_000, 1))\n",
    "pop_Z = pop_M + np.random.normal(0, 1, (1_000_000, 1))\n",
    "pop_Y = pop_M + np.random.normal(0, 1, (1_000_000, 1))"
   ]
  },
  {
   "cell_type": "code",
   "execution_count": 29,
   "metadata": {},
   "outputs": [
    {
     "name": "stdout",
     "output_type": "stream",
     "text": [
      "                                 OLS Regression Results                                \n",
      "=======================================================================================\n",
      "Dep. Variable:                      y   R-squared (uncentered):                   0.346\n",
      "Model:                            OLS   Adj. R-squared (uncentered):              0.346\n",
      "Method:                 Least Squares   F-statistic:                              509.6\n",
      "Date:                Wed, 06 Aug 2025   Prob (F-statistic):                    6.81e-91\n",
      "Time:                        12:36:14   Log-Likelihood:                         -1702.9\n",
      "No. Observations:                 963   AIC:                                      3408.\n",
      "Df Residuals:                     962   BIC:                                      3413.\n",
      "Df Model:                           1                                                  \n",
      "Covariance Type:            nonrobust                                                  \n",
      "==============================================================================\n",
      "                 coef    std err          t      P>|t|      [0.025      0.975]\n",
      "------------------------------------------------------------------------------\n",
      "x1             1.0422      0.046     22.575      0.000       0.952       1.133\n",
      "==============================================================================\n",
      "Omnibus:                        0.374   Durbin-Watson:                   1.965\n",
      "Prob(Omnibus):                  0.830   Jarque-Bera (JB):                0.261\n",
      "Skew:                           0.012   Prob(JB):                        0.877\n",
      "Kurtosis:                       3.077   Cond. No.                         1.00\n",
      "==============================================================================\n",
      "\n",
      "Notes:\n",
      "[1] R² is computed without centering (uncentered) since the model does not contain a constant.\n",
      "[2] Standard Errors assume that the covariance matrix of the errors is correctly specified.\n"
     ]
    }
   ],
   "source": [
    "print(sms.OLS(pop_Y[sample_indices], pop_X[sample_indices]).fit().summary())"
   ]
  },
  {
   "cell_type": "code",
   "execution_count": 30,
   "metadata": {},
   "outputs": [
    {
     "name": "stdout",
     "output_type": "stream",
     "text": [
      "                                 OLS Regression Results                                \n",
      "=======================================================================================\n",
      "Dep. Variable:                      y   R-squared (uncentered):                   0.524\n",
      "Model:                            OLS   Adj. R-squared (uncentered):              0.523\n",
      "Method:                 Least Squares   F-statistic:                              529.4\n",
      "Date:                Wed, 06 Aug 2025   Prob (F-statistic):                   1.01e-155\n",
      "Time:                        12:36:14   Log-Likelihood:                         -1550.0\n",
      "No. Observations:                 963   AIC:                                      3104.\n",
      "Df Residuals:                     961   BIC:                                      3114.\n",
      "Df Model:                           2                                                  \n",
      "Covariance Type:            nonrobust                                                  \n",
      "==============================================================================\n",
      "                 coef    std err          t      P>|t|      [0.025      0.975]\n",
      "------------------------------------------------------------------------------\n",
      "x1             0.5297      0.048     11.083      0.000       0.436       0.623\n",
      "x2             0.5090      0.027     18.955      0.000       0.456       0.562\n",
      "==============================================================================\n",
      "Omnibus:                        0.284   Durbin-Watson:                   1.869\n",
      "Prob(Omnibus):                  0.868   Jarque-Bera (JB):                0.216\n",
      "Skew:                           0.032   Prob(JB):                        0.898\n",
      "Kurtosis:                       3.036   Cond. No.                         2.43\n",
      "==============================================================================\n",
      "\n",
      "Notes:\n",
      "[1] R² is computed without centering (uncentered) since the model does not contain a constant.\n",
      "[2] Standard Errors assume that the covariance matrix of the errors is correctly specified.\n"
     ]
    }
   ],
   "source": [
    "print(sms.OLS(pop_Y[sample_indices], np.hstack((pop_X, pop_Z))[sample_indices]).fit().summary())"
   ]
  },
  {
   "cell_type": "markdown",
   "metadata": {},
   "source": [
    "7. Bad control: introduces overcontrol bias"
   ]
  },
  {
   "cell_type": "markdown",
   "metadata": {},
   "source": [
    "## 8."
   ]
  },
  {
   "cell_type": "markdown",
   "metadata": {},
   "source": [
    "![](assets/dags8.png)"
   ]
  },
  {
   "cell_type": "code",
   "execution_count": 31,
   "metadata": {},
   "outputs": [],
   "source": [
    "pop_X = np.random.normal(0, 1, (1_000_000, 1))\n",
    "pop_Z = np.random.normal(0, 1, (1_000_000, 1))\n",
    "pop_M = pop_X + pop_Z + np.random.normal(0, 1, (1_000_000, 1))\n",
    "pop_Y = pop_M + np.random.normal(0, 1, (1_000_000, 1))"
   ]
  },
  {
   "cell_type": "code",
   "execution_count": 32,
   "metadata": {},
   "outputs": [
    {
     "name": "stdout",
     "output_type": "stream",
     "text": [
      "                                 OLS Regression Results                                \n",
      "=======================================================================================\n",
      "Dep. Variable:                      y   R-squared (uncentered):                   0.299\n",
      "Model:                            OLS   Adj. R-squared (uncentered):              0.298\n",
      "Method:                 Least Squares   F-statistic:                              410.0\n",
      "Date:                Wed, 06 Aug 2025   Prob (F-statistic):                    3.20e-76\n",
      "Time:                        12:36:18   Log-Likelihood:                         -1868.6\n",
      "No. Observations:                 963   AIC:                                      3739.\n",
      "Df Residuals:                     962   BIC:                                      3744.\n",
      "Df Model:                           1                                                  \n",
      "Covariance Type:            nonrobust                                                  \n",
      "==============================================================================\n",
      "                 coef    std err          t      P>|t|      [0.025      0.975]\n",
      "------------------------------------------------------------------------------\n",
      "x1             1.0644      0.053     20.250      0.000       0.961       1.168\n",
      "==============================================================================\n",
      "Omnibus:                        4.090   Durbin-Watson:                   1.941\n",
      "Prob(Omnibus):                  0.129   Jarque-Bera (JB):                3.717\n",
      "Skew:                          -0.092   Prob(JB):                        0.156\n",
      "Kurtosis:                       2.758   Cond. No.                         1.00\n",
      "==============================================================================\n",
      "\n",
      "Notes:\n",
      "[1] R² is computed without centering (uncentered) since the model does not contain a constant.\n",
      "[2] Standard Errors assume that the covariance matrix of the errors is correctly specified.\n"
     ]
    }
   ],
   "source": [
    "print(sms.OLS(pop_Y[sample_indices], pop_X[sample_indices]).fit().summary())"
   ]
  },
  {
   "cell_type": "code",
   "execution_count": 33,
   "metadata": {},
   "outputs": [
    {
     "name": "stdout",
     "output_type": "stream",
     "text": [
      "                                 OLS Regression Results                                \n",
      "=======================================================================================\n",
      "Dep. Variable:                      y   R-squared (uncentered):                   0.520\n",
      "Model:                            OLS   Adj. R-squared (uncentered):              0.519\n",
      "Method:                 Least Squares   F-statistic:                              520.2\n",
      "Date:                Wed, 06 Aug 2025   Prob (F-statistic):                   8.05e-154\n",
      "Time:                        12:36:19   Log-Likelihood:                         -1686.3\n",
      "No. Observations:                 963   AIC:                                      3377.\n",
      "Df Residuals:                     961   BIC:                                      3386.\n",
      "Df Model:                           2                                                  \n",
      "Covariance Type:            nonrobust                                                  \n",
      "==============================================================================\n",
      "                 coef    std err          t      P>|t|      [0.025      0.975]\n",
      "------------------------------------------------------------------------------\n",
      "x1             1.0089      0.044     23.138      0.000       0.923       1.094\n",
      "x2             0.9586      0.046     21.030      0.000       0.869       1.048\n",
      "==============================================================================\n",
      "Omnibus:                        5.486   Durbin-Watson:                   1.967\n",
      "Prob(Omnibus):                  0.064   Jarque-Bera (JB):                5.036\n",
      "Skew:                          -0.125   Prob(JB):                       0.0806\n",
      "Kurtosis:                       2.749   Cond. No.                         1.08\n",
      "==============================================================================\n",
      "\n",
      "Notes:\n",
      "[1] R² is computed without centering (uncentered) since the model does not contain a constant.\n",
      "[2] Standard Errors assume that the covariance matrix of the errors is correctly specified.\n"
     ]
    }
   ],
   "source": [
    "print(sms.OLS(pop_Y[sample_indices], np.hstack((pop_X, pop_Z))[sample_indices]).fit().summary())"
   ]
  },
  {
   "cell_type": "markdown",
   "metadata": {},
   "source": [
    "8. Neutral control (but raises precision)"
   ]
  },
  {
   "cell_type": "markdown",
   "metadata": {},
   "source": [
    "## 9."
   ]
  },
  {
   "cell_type": "markdown",
   "metadata": {},
   "source": [
    "![](assets/dags9.png)"
   ]
  },
  {
   "cell_type": "code",
   "execution_count": 34,
   "metadata": {},
   "outputs": [],
   "source": [
    "pop_X = np.random.normal(0, 1, (1_000_000, 1))\n",
    "pop_U = np.random.normal(0, 1, (1_000_000, 1))\n",
    "pop_Y = pop_X + pop_U + np.random.normal(0, 1, (1_000_000, 1))\n",
    "pop_Z = pop_X + pop_U + np.random.normal(0, 1, (1_000_000, 1))"
   ]
  },
  {
   "cell_type": "code",
   "execution_count": 35,
   "metadata": {},
   "outputs": [
    {
     "name": "stdout",
     "output_type": "stream",
     "text": [
      "                                 OLS Regression Results                                \n",
      "=======================================================================================\n",
      "Dep. Variable:                      y   R-squared (uncentered):                   0.364\n",
      "Model:                            OLS   Adj. R-squared (uncentered):              0.363\n",
      "Method:                 Least Squares   F-statistic:                              549.5\n",
      "Date:                Wed, 06 Aug 2025   Prob (F-statistic):                    1.72e-96\n",
      "Time:                        12:36:22   Log-Likelihood:                         -1634.0\n",
      "No. Observations:                 963   AIC:                                      3270.\n",
      "Df Residuals:                     962   BIC:                                      3275.\n",
      "Df Model:                           1                                                  \n",
      "Covariance Type:            nonrobust                                                  \n",
      "==============================================================================\n",
      "                 coef    std err          t      P>|t|      [0.025      0.975]\n",
      "------------------------------------------------------------------------------\n",
      "x1             1.0150      0.043     23.442      0.000       0.930       1.100\n",
      "==============================================================================\n",
      "Omnibus:                        0.915   Durbin-Watson:                   1.966\n",
      "Prob(Omnibus):                  0.633   Jarque-Bera (JB):                0.788\n",
      "Skew:                           0.005   Prob(JB):                        0.674\n",
      "Kurtosis:                       3.140   Cond. No.                         1.00\n",
      "==============================================================================\n",
      "\n",
      "Notes:\n",
      "[1] R² is computed without centering (uncentered) since the model does not contain a constant.\n",
      "[2] Standard Errors assume that the covariance matrix of the errors is correctly specified.\n"
     ]
    }
   ],
   "source": [
    "print(sms.OLS(pop_Y[sample_indices], pop_X[sample_indices]).fit().summary())"
   ]
  },
  {
   "cell_type": "code",
   "execution_count": 36,
   "metadata": {},
   "outputs": [
    {
     "name": "stdout",
     "output_type": "stream",
     "text": [
      "                                 OLS Regression Results                                \n",
      "=======================================================================================\n",
      "Dep. Variable:                      y   R-squared (uncentered):                   0.514\n",
      "Model:                            OLS   Adj. R-squared (uncentered):              0.513\n",
      "Method:                 Least Squares   F-statistic:                              508.3\n",
      "Date:                Wed, 06 Aug 2025   Prob (F-statistic):                   2.55e-151\n",
      "Time:                        12:36:22   Log-Likelihood:                         -1504.1\n",
      "No. Observations:                 963   AIC:                                      3012.\n",
      "Df Residuals:                     961   BIC:                                      3022.\n",
      "Df Model:                           2                                                  \n",
      "Covariance Type:            nonrobust                                                  \n",
      "==============================================================================\n",
      "                 coef    std err          t      P>|t|      [0.025      0.975]\n",
      "------------------------------------------------------------------------------\n",
      "x1             0.5899      0.045     13.060      0.000       0.501       0.679\n",
      "x2             0.4597      0.027     17.251      0.000       0.407       0.512\n",
      "==============================================================================\n",
      "Omnibus:                        0.116   Durbin-Watson:                   1.946\n",
      "Prob(Omnibus):                  0.944   Jarque-Bera (JB):                0.053\n",
      "Skew:                           0.006   Prob(JB):                        0.974\n",
      "Kurtosis:                       3.034   Cond. No.                         2.29\n",
      "==============================================================================\n",
      "\n",
      "Notes:\n",
      "[1] R² is computed without centering (uncentered) since the model does not contain a constant.\n",
      "[2] Standard Errors assume that the covariance matrix of the errors is correctly specified.\n"
     ]
    }
   ],
   "source": [
    "print(sms.OLS(pop_Y[sample_indices], np.hstack((pop_X, pop_Z))[sample_indices]).fit().summary())"
   ]
  },
  {
   "cell_type": "markdown",
   "metadata": {},
   "source": [
    "9. Bad control: introduces selection bias"
   ]
  },
  {
   "cell_type": "markdown",
   "metadata": {},
   "source": [
    "## 10"
   ]
  },
  {
   "cell_type": "markdown",
   "metadata": {},
   "source": [
    "![](assets/dags10.png)"
   ]
  },
  {
   "cell_type": "code",
   "execution_count": 37,
   "metadata": {},
   "outputs": [],
   "source": [
    "pop_X = np.random.normal(0, 1, (1_000_000, 1))\n",
    "pop_Y = pop_X + np.random.normal(0, 1, (1_000_000, 1))\n",
    "pop_Z = pop_Y + np.random.normal(0, 1, (1_000_000, 1))"
   ]
  },
  {
   "cell_type": "code",
   "execution_count": 38,
   "metadata": {},
   "outputs": [
    {
     "name": "stdout",
     "output_type": "stream",
     "text": [
      "                                 OLS Regression Results                                \n",
      "=======================================================================================\n",
      "Dep. Variable:                      y   R-squared (uncentered):                   0.516\n",
      "Model:                            OLS   Adj. R-squared (uncentered):              0.515\n",
      "Method:                 Least Squares   F-statistic:                              1024.\n",
      "Date:                Wed, 06 Aug 2025   Prob (F-statistic):                   1.33e-153\n",
      "Time:                        12:36:25   Log-Likelihood:                         -1355.2\n",
      "No. Observations:                 963   AIC:                                      2712.\n",
      "Df Residuals:                     962   BIC:                                      2717.\n",
      "Df Model:                           1                                                  \n",
      "Covariance Type:            nonrobust                                                  \n",
      "==============================================================================\n",
      "                 coef    std err          t      P>|t|      [0.025      0.975]\n",
      "------------------------------------------------------------------------------\n",
      "x1             1.0592      0.033     32.001      0.000       0.994       1.124\n",
      "==============================================================================\n",
      "Omnibus:                        0.415   Durbin-Watson:                   2.115\n",
      "Prob(Omnibus):                  0.812   Jarque-Bera (JB):                0.501\n",
      "Skew:                          -0.033   Prob(JB):                        0.778\n",
      "Kurtosis:                       2.910   Cond. No.                         1.00\n",
      "==============================================================================\n",
      "\n",
      "Notes:\n",
      "[1] R² is computed without centering (uncentered) since the model does not contain a constant.\n",
      "[2] Standard Errors assume that the covariance matrix of the errors is correctly specified.\n"
     ]
    }
   ],
   "source": [
    "print(sms.OLS(pop_Y[sample_indices], pop_X[sample_indices]).fit().summary())"
   ]
  },
  {
   "cell_type": "code",
   "execution_count": 39,
   "metadata": {},
   "outputs": [
    {
     "name": "stdout",
     "output_type": "stream",
     "text": [
      "                                 OLS Regression Results                                \n",
      "=======================================================================================\n",
      "Dep. Variable:                      y   R-squared (uncentered):                   0.755\n",
      "Model:                            OLS   Adj. R-squared (uncentered):              0.754\n",
      "Method:                 Least Squares   F-statistic:                              1481.\n",
      "Date:                Wed, 06 Aug 2025   Prob (F-statistic):                   3.24e-294\n",
      "Time:                        12:36:25   Log-Likelihood:                         -1027.0\n",
      "No. Observations:                 963   AIC:                                      2058.\n",
      "Df Residuals:                     961   BIC:                                      2068.\n",
      "Df Model:                           2                                                  \n",
      "Covariance Type:            nonrobust                                                  \n",
      "==============================================================================\n",
      "                 coef    std err          t      P>|t|      [0.025      0.975]\n",
      "------------------------------------------------------------------------------\n",
      "x1             0.5370      0.029     18.471      0.000       0.480       0.594\n",
      "x2             0.5030      0.016     30.639      0.000       0.471       0.535\n",
      "==============================================================================\n",
      "Omnibus:                        0.065   Durbin-Watson:                   2.017\n",
      "Prob(Omnibus):                  0.968   Jarque-Bera (JB):                0.108\n",
      "Skew:                          -0.016   Prob(JB):                        0.948\n",
      "Kurtosis:                       2.960   Cond. No.                         2.48\n",
      "==============================================================================\n",
      "\n",
      "Notes:\n",
      "[1] R² is computed without centering (uncentered) since the model does not contain a constant.\n",
      "[2] Standard Errors assume that the covariance matrix of the errors is correctly specified.\n"
     ]
    }
   ],
   "source": [
    "print(sms.OLS(pop_Y[sample_indices], np.hstack((pop_X, pop_Z))[sample_indices]).fit().summary())"
   ]
  },
  {
   "cell_type": "markdown",
   "metadata": {},
   "source": [
    "10. Bad control: this is called case-control bias"
   ]
  }
 ],
 "metadata": {
  "kernelspec": {
   "display_name": "Python 3 (ipykernel)",
   "language": "python",
   "name": "python3"
  },
  "language_info": {
   "codemirror_mode": {
    "name": "ipython",
    "version": 3
   },
   "file_extension": ".py",
   "mimetype": "text/x-python",
   "name": "python",
   "nbconvert_exporter": "python",
   "pygments_lexer": "ipython3",
   "version": "3.11.13"
  }
 },
 "nbformat": 4,
 "nbformat_minor": 4
}
