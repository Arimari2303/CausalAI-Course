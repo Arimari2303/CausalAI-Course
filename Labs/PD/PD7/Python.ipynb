{
 "cells": [
  {
   "cell_type": "code",
   "execution_count": 4,
   "metadata": {},
   "outputs": [],
   "source": [
    "import numpy as np\n",
    "import statsmodels.api as sms"
   ]
  },
  {
   "cell_type": "code",
   "execution_count": 86,
   "metadata": {},
   "outputs": [],
   "source": [
    "sample = np.random.uniform(0, 1, (1_000_000, 1)) < 0.001\n",
    "sample.sum()"
   ]
  },
  {
   "cell_type": "code",
   "execution_count": 87,
   "metadata": {},
   "outputs": [],
   "source": [
    "sample_indices = np.where(sample)[0]"
   ]
  },
  {
   "cell_type": "code",
   "execution_count": 88,
   "metadata": {},
   "outputs": [],
   "source": [
    "pop_Z = np.random.normal(0, 1, (1_000_000, 1))\n",
    "pop_X = pop_Z + np.random.normal(0, 1, (1_000_000, 1))\n",
    "pop_Y = pop_Z + pop_X + np.random.normal(0, 1, (1_000_000, 1))"
   ]
  },
  {
   "cell_type": "code",
   "execution_count": 89,
   "metadata": {},
   "outputs": [
    {
     "name": "stdout",
     "output_type": "stream",
     "text": [
      "                                 OLS Regression Results                                \n",
      "=======================================================================================\n",
      "Dep. Variable:                      y   R-squared (uncentered):                   0.761\n",
      "Model:                            OLS   Adj. R-squared (uncentered):              0.761\n",
      "Method:                 Least Squares   F-statistic:                              3174.\n",
      "Date:                Wed, 02 Oct 2024   Prob (F-statistic):                   7.71e-312\n",
      "Time:                        19:47:30   Log-Likelihood:                         -1596.2\n",
      "No. Observations:                 996   AIC:                                      3194.\n",
      "Df Residuals:                     995   BIC:                                      3199.\n",
      "Df Model:                           1                                                  \n",
      "Covariance Type:            nonrobust                                                  \n",
      "==============================================================================\n",
      "                 coef    std err          t      P>|t|      [0.025      0.975]\n",
      "------------------------------------------------------------------------------\n",
      "x1             1.5241      0.027     56.343      0.000       1.471       1.577\n",
      "==============================================================================\n",
      "Omnibus:                        4.472   Durbin-Watson:                   1.977\n",
      "Prob(Omnibus):                  0.107   Jarque-Bera (JB):                3.723\n",
      "Skew:                          -0.056   Prob(JB):                        0.155\n",
      "Kurtosis:                       2.722   Cond. No.                         1.00\n",
      "==============================================================================\n",
      "\n",
      "Notes:\n",
      "[1] R² is computed without centering (uncentered) since the model does not contain a constant.\n",
      "[2] Standard Errors assume that the covariance matrix of the errors is correctly specified.\n"
     ]
    }
   ],
   "source": [
    "print(sms.OLS(pop_Y[sample_indices], pop_X[sample_indices]).fit().summary())"
   ]
  },
  {
   "cell_type": "code",
   "execution_count": 90,
   "metadata": {},
   "outputs": [
    {
     "name": "stdout",
     "output_type": "stream",
     "text": [
      "                                 OLS Regression Results                                \n",
      "=======================================================================================\n",
      "Dep. Variable:                      y   R-squared (uncentered):                   0.842\n",
      "Model:                            OLS   Adj. R-squared (uncentered):              0.842\n",
      "Method:                 Least Squares   F-statistic:                              2658.\n",
      "Date:                Wed, 02 Oct 2024   Prob (F-statistic):                        0.00\n",
      "Time:                        19:47:31   Log-Likelihood:                         -1389.3\n",
      "No. Observations:                 996   AIC:                                      2783.\n",
      "Df Residuals:                     994   BIC:                                      2792.\n",
      "Df Model:                           2                                                  \n",
      "Covariance Type:            nonrobust                                                  \n",
      "==============================================================================\n",
      "                 coef    std err          t      P>|t|      [0.025      0.975]\n",
      "------------------------------------------------------------------------------\n",
      "x1             1.0218      0.031     32.701      0.000       0.960       1.083\n",
      "x2             1.0004      0.044     22.627      0.000       0.914       1.087\n",
      "==============================================================================\n",
      "Omnibus:                        1.438   Durbin-Watson:                   2.044\n",
      "Prob(Omnibus):                  0.487   Jarque-Bera (JB):                1.308\n",
      "Skew:                          -0.055   Prob(JB):                        0.520\n",
      "Kurtosis:                       3.140   Cond. No.                         2.64\n",
      "==============================================================================\n",
      "\n",
      "Notes:\n",
      "[1] R² is computed without centering (uncentered) since the model does not contain a constant.\n",
      "[2] Standard Errors assume that the covariance matrix of the errors is correctly specified.\n"
     ]
    }
   ],
   "source": [
    "print(sms.OLS(pop_Y[sample_indices], np.hstack((pop_X, pop_Z))[sample_indices]).fit().summary())"
   ]
  },
  {
   "cell_type": "code",
   "execution_count": 91,
   "metadata": {},
   "outputs": [],
   "source": [
    "pop_U = np.random.normal(0, 1, (1_000_000, 1))\n",
    "pop_Z = pop_U + np.random.normal(0, 1, (1_000_000, 1))\n",
    "pop_X = pop_Z + np.random.normal(0, 1, (1_000_000, 1))\n",
    "pop_Y = pop_U + pop_X + np.random.normal(0, 1, (1_000_000, 1))"
   ]
  },
  {
   "cell_type": "code",
   "execution_count": 92,
   "metadata": {},
   "outputs": [
    {
     "name": "stdout",
     "output_type": "stream",
     "text": [
      "                                 OLS Regression Results                                \n",
      "=======================================================================================\n",
      "Dep. Variable:                      y   R-squared (uncentered):                   0.772\n",
      "Model:                            OLS   Adj. R-squared (uncentered):              0.772\n",
      "Method:                 Least Squares   F-statistic:                              3366.\n",
      "Date:                Wed, 02 Oct 2024   Prob (F-statistic):                   1.44e-321\n",
      "Time:                        19:47:31   Log-Likelihood:                         -1668.9\n",
      "No. Observations:                 996   AIC:                                      3340.\n",
      "Df Residuals:                     995   BIC:                                      3345.\n",
      "Df Model:                           1                                                  \n",
      "Covariance Type:            nonrobust                                                  \n",
      "==============================================================================\n",
      "                 coef    std err          t      P>|t|      [0.025      0.975]\n",
      "------------------------------------------------------------------------------\n",
      "x1             1.3295      0.023     58.021      0.000       1.285       1.374\n",
      "==============================================================================\n",
      "Omnibus:                        1.175   Durbin-Watson:                   1.920\n",
      "Prob(Omnibus):                  0.556   Jarque-Bera (JB):                1.249\n",
      "Skew:                          -0.075   Prob(JB):                        0.536\n",
      "Kurtosis:                       2.914   Cond. No.                         1.00\n",
      "==============================================================================\n",
      "\n",
      "Notes:\n",
      "[1] R² is computed without centering (uncentered) since the model does not contain a constant.\n",
      "[2] Standard Errors assume that the covariance matrix of the errors is correctly specified.\n"
     ]
    }
   ],
   "source": [
    "print(sms.OLS(pop_Y[sample_indices], pop_X[sample_indices]).fit().summary())"
   ]
  },
  {
   "cell_type": "code",
   "execution_count": 93,
   "metadata": {},
   "outputs": [
    {
     "name": "stdout",
     "output_type": "stream",
     "text": [
      "                                 OLS Regression Results                                \n",
      "=======================================================================================\n",
      "Dep. Variable:                      y   R-squared (uncentered):                   0.798\n",
      "Model:                            OLS   Adj. R-squared (uncentered):              0.798\n",
      "Method:                 Least Squares   F-statistic:                              1967.\n",
      "Date:                Wed, 02 Oct 2024   Prob (F-statistic):                        0.00\n",
      "Time:                        19:47:32   Log-Likelihood:                         -1607.5\n",
      "No. Observations:                 996   AIC:                                      3219.\n",
      "Df Residuals:                     994   BIC:                                      3229.\n",
      "Df Model:                           2                                                  \n",
      "Covariance Type:            nonrobust                                                  \n",
      "==============================================================================\n",
      "                 coef    std err          t      P>|t|      [0.025      0.975]\n",
      "------------------------------------------------------------------------------\n",
      "x1             0.9625      0.039     24.874      0.000       0.887       1.038\n",
      "x2             0.5550      0.049     11.420      0.000       0.460       0.650\n",
      "==============================================================================\n",
      "Omnibus:                        2.702   Durbin-Watson:                   1.920\n",
      "Prob(Omnibus):                  0.259   Jarque-Bera (JB):                2.757\n",
      "Skew:                          -0.110   Prob(JB):                        0.252\n",
      "Kurtosis:                       2.865   Cond. No.                         3.39\n",
      "==============================================================================\n",
      "\n",
      "Notes:\n",
      "[1] R² is computed without centering (uncentered) since the model does not contain a constant.\n",
      "[2] Standard Errors assume that the covariance matrix of the errors is correctly specified.\n"
     ]
    }
   ],
   "source": [
    "print(sms.OLS(pop_Y[sample_indices], np.hstack((pop_X, pop_Z))[sample_indices]).fit().summary())"
   ]
  },
  {
   "cell_type": "code",
   "execution_count": 94,
   "metadata": {},
   "outputs": [],
   "source": [
    "pop_U = np.random.normal(0, 1, (1_000_000, 1))\n",
    "pop_Z = pop_U + np.random.normal(0, 1, (1_000_000, 1))\n",
    "pop_X = pop_U + np.random.normal(0, 1, (1_000_000, 1))\n",
    "pop_M = pop_Z + np.random.normal(0, 1, (1_000_000, 1))\n",
    "pop_Y = pop_X + pop_M + np.random.normal(0, 1, (1_000_000, 1))"
   ]
  },
  {
   "cell_type": "code",
   "execution_count": 95,
   "metadata": {},
   "outputs": [
    {
     "name": "stdout",
     "output_type": "stream",
     "text": [
      "                                 OLS Regression Results                                \n",
      "=======================================================================================\n",
      "Dep. Variable:                      y   R-squared (uncentered):                   0.531\n",
      "Model:                            OLS   Adj. R-squared (uncentered):              0.530\n",
      "Method:                 Least Squares   F-statistic:                              1125.\n",
      "Date:                Wed, 02 Oct 2024   Prob (F-statistic):                   1.14e-165\n",
      "Time:                        19:47:32   Log-Likelihood:                         -2018.8\n",
      "No. Observations:                 996   AIC:                                      4040.\n",
      "Df Residuals:                     995   BIC:                                      4044.\n",
      "Df Model:                           1                                                  \n",
      "Covariance Type:            nonrobust                                                  \n",
      "==============================================================================\n",
      "                 coef    std err          t      P>|t|      [0.025      0.975]\n",
      "------------------------------------------------------------------------------\n",
      "x1             1.5130      0.045     33.548      0.000       1.424       1.601\n",
      "==============================================================================\n",
      "Omnibus:                        4.275   Durbin-Watson:                   2.000\n",
      "Prob(Omnibus):                  0.118   Jarque-Bera (JB):                4.142\n",
      "Skew:                           0.139   Prob(JB):                        0.126\n",
      "Kurtosis:                       3.151   Cond. No.                         1.00\n",
      "==============================================================================\n",
      "\n",
      "Notes:\n",
      "[1] R² is computed without centering (uncentered) since the model does not contain a constant.\n",
      "[2] Standard Errors assume that the covariance matrix of the errors is correctly specified.\n"
     ]
    }
   ],
   "source": [
    "print(sms.OLS(pop_Y[sample_indices], pop_X[sample_indices]).fit().summary())"
   ]
  },
  {
   "cell_type": "code",
   "execution_count": 96,
   "metadata": {},
   "outputs": [
    {
     "name": "stdout",
     "output_type": "stream",
     "text": [
      "                                 OLS Regression Results                                \n",
      "=======================================================================================\n",
      "Dep. Variable:                      y   R-squared (uncentered):                   0.719\n",
      "Model:                            OLS   Adj. R-squared (uncentered):              0.718\n",
      "Method:                 Least Squares   F-statistic:                              1269.\n",
      "Date:                Wed, 02 Oct 2024   Prob (F-statistic):                   1.94e-274\n",
      "Time:                        19:47:32   Log-Likelihood:                         -1764.1\n",
      "No. Observations:                 996   AIC:                                      3532.\n",
      "Df Residuals:                     994   BIC:                                      3542.\n",
      "Df Model:                           2                                                  \n",
      "Covariance Type:            nonrobust                                                  \n",
      "==============================================================================\n",
      "                 coef    std err          t      P>|t|      [0.025      0.975]\n",
      "------------------------------------------------------------------------------\n",
      "x1             1.0519      0.039     26.797      0.000       0.975       1.129\n",
      "x2             0.9172      0.036     25.762      0.000       0.847       0.987\n",
      "==============================================================================\n",
      "Omnibus:                        4.780   Durbin-Watson:                   2.012\n",
      "Prob(Omnibus):                  0.092   Jarque-Bera (JB):                4.801\n",
      "Skew:                           0.151   Prob(JB):                       0.0907\n",
      "Kurtosis:                       2.843   Cond. No.                         1.65\n",
      "==============================================================================\n",
      "\n",
      "Notes:\n",
      "[1] R² is computed without centering (uncentered) since the model does not contain a constant.\n",
      "[2] Standard Errors assume that the covariance matrix of the errors is correctly specified.\n"
     ]
    }
   ],
   "source": [
    "print(sms.OLS(pop_Y[sample_indices], np.hstack((pop_X, pop_Z))[sample_indices]).fit().summary())"
   ]
  },
  {
   "cell_type": "code",
   "execution_count": 97,
   "metadata": {},
   "outputs": [],
   "source": [
    "pop_U1 = np.random.normal(0, 1, (1_000_000, 1))\n",
    "pop_U2 = np.random.normal(0, 1, (1_000_000, 1))\n",
    "pop_Z = pop_U1 + pop_U2 + np.random.normal(0, 1, (1_000_000, 1))\n",
    "pop_X = pop_U1 + np.random.normal(0, 1, (1_000_000, 1))\n",
    "pop_Y = pop_X + pop_U2 + np.random.normal(0, 1, (1_000_000, 1))"
   ]
  },
  {
   "cell_type": "code",
   "execution_count": 98,
   "metadata": {},
   "outputs": [
    {
     "name": "stdout",
     "output_type": "stream",
     "text": [
      "                                 OLS Regression Results                                \n",
      "=======================================================================================\n",
      "Dep. Variable:                      y   R-squared (uncentered):                   0.479\n",
      "Model:                            OLS   Adj. R-squared (uncentered):              0.478\n",
      "Method:                 Least Squares   F-statistic:                              913.7\n",
      "Date:                Wed, 02 Oct 2024   Prob (F-statistic):                   6.44e-143\n",
      "Time:                        19:47:32   Log-Likelihood:                         -1769.8\n",
      "No. Observations:                 996   AIC:                                      3542.\n",
      "Df Residuals:                     995   BIC:                                      3547.\n",
      "Df Model:                           1                                                  \n",
      "Covariance Type:            nonrobust                                                  \n",
      "==============================================================================\n",
      "                 coef    std err          t      P>|t|      [0.025      0.975]\n",
      "------------------------------------------------------------------------------\n",
      "x1             0.9599      0.032     30.228      0.000       0.898       1.022\n",
      "==============================================================================\n",
      "Omnibus:                        2.354   Durbin-Watson:                   2.048\n",
      "Prob(Omnibus):                  0.308   Jarque-Bera (JB):                2.426\n",
      "Skew:                          -0.110   Prob(JB):                        0.297\n",
      "Kurtosis:                       2.901   Cond. No.                         1.00\n",
      "==============================================================================\n",
      "\n",
      "Notes:\n",
      "[1] R² is computed without centering (uncentered) since the model does not contain a constant.\n",
      "[2] Standard Errors assume that the covariance matrix of the errors is correctly specified.\n"
     ]
    }
   ],
   "source": [
    "print(sms.OLS(pop_Y[sample_indices], pop_X[sample_indices]).fit().summary())"
   ]
  },
  {
   "cell_type": "code",
   "execution_count": 99,
   "metadata": {},
   "outputs": [
    {
     "name": "stdout",
     "output_type": "stream",
     "text": [
      "                                 OLS Regression Results                                \n",
      "=======================================================================================\n",
      "Dep. Variable:                      y   R-squared (uncentered):                   0.591\n",
      "Model:                            OLS   Adj. R-squared (uncentered):              0.590\n",
      "Method:                 Least Squares   F-statistic:                              717.1\n",
      "Date:                Wed, 02 Oct 2024   Prob (F-statistic):                   1.65e-193\n",
      "Time:                        19:47:33   Log-Likelihood:                         -1649.5\n",
      "No. Observations:                 996   AIC:                                      3303.\n",
      "Df Residuals:                     994   BIC:                                      3313.\n",
      "Df Model:                           2                                                  \n",
      "Covariance Type:            nonrobust                                                  \n",
      "==============================================================================\n",
      "                 coef    std err          t      P>|t|      [0.025      0.975]\n",
      "------------------------------------------------------------------------------\n",
      "x1             0.7742      0.030     25.531      0.000       0.715       0.834\n",
      "x2             0.4290      0.026     16.486      0.000       0.378       0.480\n",
      "==============================================================================\n",
      "Omnibus:                        7.790   Durbin-Watson:                   2.087\n",
      "Prob(Omnibus):                  0.020   Jarque-Bera (JB):                7.753\n",
      "Skew:                          -0.214   Prob(JB):                       0.0207\n",
      "Kurtosis:                       3.057   Cond. No.                         1.52\n",
      "==============================================================================\n",
      "\n",
      "Notes:\n",
      "[1] R² is computed without centering (uncentered) since the model does not contain a constant.\n",
      "[2] Standard Errors assume that the covariance matrix of the errors is correctly specified.\n"
     ]
    }
   ],
   "source": [
    "print(sms.OLS(pop_Y[sample_indices], np.hstack((pop_X, pop_Z))[sample_indices]).fit().summary())"
   ]
  },
  {
   "cell_type": "code",
   "execution_count": 100,
   "metadata": {},
   "outputs": [],
   "source": [
    "pop_Z = np.random.normal(0, 1, (1_000_000, 1))\n",
    "pop_X = np.random.normal(0, 1, (1_000_000, 1))\n",
    "pop_Y = pop_X + pop_Z + np.random.normal(0, 1, (1_000_000, 1))"
   ]
  },
  {
   "cell_type": "code",
   "execution_count": 101,
   "metadata": {},
   "outputs": [
    {
     "name": "stdout",
     "output_type": "stream",
     "text": [
      "                                 OLS Regression Results                                \n",
      "=======================================================================================\n",
      "Dep. Variable:                      y   R-squared (uncentered):                   0.324\n",
      "Model:                            OLS   Adj. R-squared (uncentered):              0.324\n",
      "Method:                 Least Squares   F-statistic:                              477.7\n",
      "Date:                Wed, 02 Oct 2024   Prob (F-statistic):                    8.52e-87\n",
      "Time:                        19:47:34   Log-Likelihood:                         -1762.0\n",
      "No. Observations:                 996   AIC:                                      3526.\n",
      "Df Residuals:                     995   BIC:                                      3531.\n",
      "Df Model:                           1                                                  \n",
      "Covariance Type:            nonrobust                                                  \n",
      "==============================================================================\n",
      "                 coef    std err          t      P>|t|      [0.025      0.975]\n",
      "------------------------------------------------------------------------------\n",
      "x1             0.9850      0.045     21.856      0.000       0.897       1.073\n",
      "==============================================================================\n",
      "Omnibus:                        1.704   Durbin-Watson:                   2.006\n",
      "Prob(Omnibus):                  0.427   Jarque-Bera (JB):                1.641\n",
      "Skew:                          -0.099   Prob(JB):                        0.440\n",
      "Kurtosis:                       3.023   Cond. No.                         1.00\n",
      "==============================================================================\n",
      "\n",
      "Notes:\n",
      "[1] R² is computed without centering (uncentered) since the model does not contain a constant.\n",
      "[2] Standard Errors assume that the covariance matrix of the errors is correctly specified.\n"
     ]
    }
   ],
   "source": [
    "print(sms.OLS(pop_Y[sample_indices], pop_X[sample_indices]).fit().summary())"
   ]
  },
  {
   "cell_type": "code",
   "execution_count": 102,
   "metadata": {},
   "outputs": [
    {
     "name": "stdout",
     "output_type": "stream",
     "text": [
      "                                 OLS Regression Results                                \n",
      "=======================================================================================\n",
      "Dep. Variable:                      y   R-squared (uncentered):                   0.672\n",
      "Model:                            OLS   Adj. R-squared (uncentered):              0.672\n",
      "Method:                 Least Squares   F-statistic:                              1019.\n",
      "Date:                Wed, 02 Oct 2024   Prob (F-statistic):                   1.64e-241\n",
      "Time:                        19:47:34   Log-Likelihood:                         -1401.7\n",
      "No. Observations:                 996   AIC:                                      2807.\n",
      "Df Residuals:                     994   BIC:                                      2817.\n",
      "Df Model:                           2                                                  \n",
      "Covariance Type:            nonrobust                                                  \n",
      "==============================================================================\n",
      "                 coef    std err          t      P>|t|      [0.025      0.975]\n",
      "------------------------------------------------------------------------------\n",
      "x1             1.0040      0.031     31.964      0.000       0.942       1.066\n",
      "x2             0.9973      0.031     32.484      0.000       0.937       1.058\n",
      "==============================================================================\n",
      "Omnibus:                        0.178   Durbin-Watson:                   2.148\n",
      "Prob(Omnibus):                  0.915   Jarque-Bera (JB):                0.104\n",
      "Skew:                          -0.013   Prob(JB):                        0.949\n",
      "Kurtosis:                       3.042   Cond. No.                         1.03\n",
      "==============================================================================\n",
      "\n",
      "Notes:\n",
      "[1] R² is computed without centering (uncentered) since the model does not contain a constant.\n",
      "[2] Standard Errors assume that the covariance matrix of the errors is correctly specified.\n"
     ]
    }
   ],
   "source": [
    "print(sms.OLS(pop_Y[sample_indices], np.hstack((pop_X, pop_Z))[sample_indices]).fit().summary())"
   ]
  },
  {
   "cell_type": "code",
   "execution_count": 103,
   "metadata": {},
   "outputs": [],
   "source": [
    "pop_Z = np.random.normal(0, 1, (1_000_000, 1))\n",
    "pop_X = pop_Z + np.random.normal(0, 1, (1_000_000, 1))\n",
    "pop_Y = pop_X + np.random.normal(0, 1, (1_000_000, 1))"
   ]
  },
  {
   "cell_type": "code",
   "execution_count": 104,
   "metadata": {},
   "outputs": [
    {
     "name": "stdout",
     "output_type": "stream",
     "text": [
      "                                 OLS Regression Results                                \n",
      "=======================================================================================\n",
      "Dep. Variable:                      y   R-squared (uncentered):                   0.665\n",
      "Model:                            OLS   Adj. R-squared (uncentered):              0.665\n",
      "Method:                 Least Squares   F-statistic:                              1977.\n",
      "Date:                Wed, 02 Oct 2024   Prob (F-statistic):                   1.09e-238\n",
      "Time:                        19:52:47   Log-Likelihood:                         -1391.1\n",
      "No. Observations:                 996   AIC:                                      2784.\n",
      "Df Residuals:                     995   BIC:                                      2789.\n",
      "Df Model:                           1                                                  \n",
      "Covariance Type:            nonrobust                                                  \n",
      "==============================================================================\n",
      "                 coef    std err          t      P>|t|      [0.025      0.975]\n",
      "------------------------------------------------------------------------------\n",
      "x1             1.0045      0.023     44.468      0.000       0.960       1.049\n",
      "==============================================================================\n",
      "Omnibus:                        1.873   Durbin-Watson:                   2.073\n",
      "Prob(Omnibus):                  0.392   Jarque-Bera (JB):                1.771\n",
      "Skew:                          -0.100   Prob(JB):                        0.413\n",
      "Kurtosis:                       3.053   Cond. No.                         1.00\n",
      "==============================================================================\n",
      "\n",
      "Notes:\n",
      "[1] R² is computed without centering (uncentered) since the model does not contain a constant.\n",
      "[2] Standard Errors assume that the covariance matrix of the errors is correctly specified.\n"
     ]
    }
   ],
   "source": [
    "print(sms.OLS(pop_Y[sample_indices], pop_X[sample_indices]).fit().summary())"
   ]
  },
  {
   "cell_type": "code",
   "execution_count": 105,
   "metadata": {},
   "outputs": [
    {
     "name": "stdout",
     "output_type": "stream",
     "text": [
      "                                 OLS Regression Results                                \n",
      "=======================================================================================\n",
      "Dep. Variable:                      y   R-squared (uncentered):                   0.665\n",
      "Model:                            OLS   Adj. R-squared (uncentered):              0.665\n",
      "Method:                 Least Squares   F-statistic:                              988.0\n",
      "Date:                Wed, 02 Oct 2024   Prob (F-statistic):                   5.42e-237\n",
      "Time:                        19:52:58   Log-Likelihood:                         -1391.0\n",
      "No. Observations:                 996   AIC:                                      2786.\n",
      "Df Residuals:                     994   BIC:                                      2796.\n",
      "Df Model:                           2                                                  \n",
      "Covariance Type:            nonrobust                                                  \n",
      "==============================================================================\n",
      "                 coef    std err          t      P>|t|      [0.025      0.975]\n",
      "------------------------------------------------------------------------------\n",
      "x1             0.9941      0.031     31.700      0.000       0.933       1.056\n",
      "x2             0.0208      0.043      0.481      0.631      -0.064       0.105\n",
      "==============================================================================\n",
      "Omnibus:                        1.872   Durbin-Watson:                   2.076\n",
      "Prob(Omnibus):                  0.392   Jarque-Bera (JB):                1.769\n",
      "Skew:                          -0.100   Prob(JB):                        0.413\n",
      "Kurtosis:                       3.053   Cond. No.                         2.52\n",
      "==============================================================================\n",
      "\n",
      "Notes:\n",
      "[1] R² is computed without centering (uncentered) since the model does not contain a constant.\n",
      "[2] Standard Errors assume that the covariance matrix of the errors is correctly specified.\n"
     ]
    }
   ],
   "source": [
    "print(sms.OLS(pop_Y[sample_indices], np.hstack((pop_X, pop_Z))[sample_indices]).fit().summary())"
   ]
  },
  {
   "cell_type": "code",
   "execution_count": 106,
   "metadata": {},
   "outputs": [],
   "source": [
    "pop_X = np.random.normal(0, 1, (1_000_000, 1))\n",
    "pop_M = pop_X + np.random.normal(0, 1, (1_000_000, 1))\n",
    "pop_Z = pop_M + np.random.normal(0, 1, (1_000_000, 1))\n",
    "pop_Y = pop_M + np.random.normal(0, 1, (1_000_000, 1))"
   ]
  },
  {
   "cell_type": "code",
   "execution_count": 107,
   "metadata": {},
   "outputs": [
    {
     "name": "stdout",
     "output_type": "stream",
     "text": [
      "                                 OLS Regression Results                                \n",
      "=======================================================================================\n",
      "Dep. Variable:                      y   R-squared (uncentered):                   0.326\n",
      "Model:                            OLS   Adj. R-squared (uncentered):              0.325\n",
      "Method:                 Least Squares   F-statistic:                              481.4\n",
      "Date:                Wed, 02 Oct 2024   Prob (F-statistic):                    2.38e-87\n",
      "Time:                        20:02:44   Log-Likelihood:                         -1750.1\n",
      "No. Observations:                 996   AIC:                                      3502.\n",
      "Df Residuals:                     995   BIC:                                      3507.\n",
      "Df Model:                           1                                                  \n",
      "Covariance Type:            nonrobust                                                  \n",
      "==============================================================================\n",
      "                 coef    std err          t      P>|t|      [0.025      0.975]\n",
      "------------------------------------------------------------------------------\n",
      "x1             0.9919      0.045     21.942      0.000       0.903       1.081\n",
      "==============================================================================\n",
      "Omnibus:                        4.432   Durbin-Watson:                   1.914\n",
      "Prob(Omnibus):                  0.109   Jarque-Bera (JB):                3.528\n",
      "Skew:                          -0.011   Prob(JB):                        0.171\n",
      "Kurtosis:                       2.709   Cond. No.                         1.00\n",
      "==============================================================================\n",
      "\n",
      "Notes:\n",
      "[1] R² is computed without centering (uncentered) since the model does not contain a constant.\n",
      "[2] Standard Errors assume that the covariance matrix of the errors is correctly specified.\n"
     ]
    }
   ],
   "source": [
    "print(sms.OLS(pop_Y[sample_indices], pop_X[sample_indices]).fit().summary())"
   ]
  },
  {
   "cell_type": "code",
   "execution_count": 108,
   "metadata": {},
   "outputs": [
    {
     "name": "stdout",
     "output_type": "stream",
     "text": [
      "                                 OLS Regression Results                                \n",
      "=======================================================================================\n",
      "Dep. Variable:                      y   R-squared (uncentered):                   0.494\n",
      "Model:                            OLS   Adj. R-squared (uncentered):              0.493\n",
      "Method:                 Least Squares   F-statistic:                              485.6\n",
      "Date:                Wed, 02 Oct 2024   Prob (F-statistic):                   7.62e-148\n",
      "Time:                        20:02:55   Log-Likelihood:                         -1607.2\n",
      "No. Observations:                 996   AIC:                                      3218.\n",
      "Df Residuals:                     994   BIC:                                      3228.\n",
      "Df Model:                           2                                                  \n",
      "Covariance Type:            nonrobust                                                  \n",
      "==============================================================================\n",
      "                 coef    std err          t      P>|t|      [0.025      0.975]\n",
      "------------------------------------------------------------------------------\n",
      "x1             0.4796      0.048      9.936      0.000       0.385       0.574\n",
      "x2             0.4857      0.027     18.176      0.000       0.433       0.538\n",
      "==============================================================================\n",
      "Omnibus:                        0.202   Durbin-Watson:                   1.949\n",
      "Prob(Omnibus):                  0.904   Jarque-Bera (JB):                0.126\n",
      "Skew:                           0.016   Prob(JB):                        0.939\n",
      "Kurtosis:                       3.044   Cond. No.                         2.51\n",
      "==============================================================================\n",
      "\n",
      "Notes:\n",
      "[1] R² is computed without centering (uncentered) since the model does not contain a constant.\n",
      "[2] Standard Errors assume that the covariance matrix of the errors is correctly specified.\n"
     ]
    }
   ],
   "source": [
    "print(sms.OLS(pop_Y[sample_indices], np.hstack((pop_X, pop_Z))[sample_indices]).fit().summary())"
   ]
  },
  {
   "cell_type": "code",
   "execution_count": 112,
   "metadata": {},
   "outputs": [],
   "source": [
    "pop_X = np.random.normal(0, 1, (1_000_000, 1))\n",
    "pop_Z = np.random.normal(0, 1, (1_000_000, 1))\n",
    "pop_M = pop_X + pop_Z + np.random.normal(0, 1, (1_000_000, 1))\n",
    "pop_Y = pop_M + np.random.normal(0, 1, (1_000_000, 1))"
   ]
  },
  {
   "cell_type": "code",
   "execution_count": 113,
   "metadata": {},
   "outputs": [
    {
     "name": "stdout",
     "output_type": "stream",
     "text": [
      "                                 OLS Regression Results                                \n",
      "=======================================================================================\n",
      "Dep. Variable:                      y   R-squared (uncentered):                   0.268\n",
      "Model:                            OLS   Adj. R-squared (uncentered):              0.267\n",
      "Method:                 Least Squares   F-statistic:                              363.6\n",
      "Date:                Wed, 02 Oct 2024   Prob (F-statistic):                    2.50e-69\n",
      "Time:                        20:10:53   Log-Likelihood:                         -1990.2\n",
      "No. Observations:                 996   AIC:                                      3982.\n",
      "Df Residuals:                     995   BIC:                                      3987.\n",
      "Df Model:                           1                                                  \n",
      "Covariance Type:            nonrobust                                                  \n",
      "==============================================================================\n",
      "                 coef    std err          t      P>|t|      [0.025      0.975]\n",
      "------------------------------------------------------------------------------\n",
      "x1             1.0534      0.055     19.067      0.000       0.945       1.162\n",
      "==============================================================================\n",
      "Omnibus:                        0.093   Durbin-Watson:                   2.036\n",
      "Prob(Omnibus):                  0.954   Jarque-Bera (JB):                0.084\n",
      "Skew:                           0.022   Prob(JB):                        0.959\n",
      "Kurtosis:                       2.997   Cond. No.                         1.00\n",
      "==============================================================================\n",
      "\n",
      "Notes:\n",
      "[1] R² is computed without centering (uncentered) since the model does not contain a constant.\n",
      "[2] Standard Errors assume that the covariance matrix of the errors is correctly specified.\n"
     ]
    }
   ],
   "source": [
    "print(sms.OLS(pop_Y[sample_indices], pop_X[sample_indices]).fit().summary())"
   ]
  },
  {
   "cell_type": "code",
   "execution_count": 114,
   "metadata": {},
   "outputs": [
    {
     "name": "stdout",
     "output_type": "stream",
     "text": [
      "                                 OLS Regression Results                                \n",
      "=======================================================================================\n",
      "Dep. Variable:                      y   R-squared (uncentered):                   0.516\n",
      "Model:                            OLS   Adj. R-squared (uncentered):              0.515\n",
      "Method:                 Least Squares   F-statistic:                              529.5\n",
      "Date:                Wed, 02 Oct 2024   Prob (F-statistic):                   2.79e-157\n",
      "Time:                        20:10:56   Log-Likelihood:                         -1784.1\n",
      "No. Observations:                 996   AIC:                                      3572.\n",
      "Df Residuals:                     994   BIC:                                      3582.\n",
      "Df Model:                           2                                                  \n",
      "Covariance Type:            nonrobust                                                  \n",
      "==============================================================================\n",
      "                 coef    std err          t      P>|t|      [0.025      0.975]\n",
      "------------------------------------------------------------------------------\n",
      "x1             0.9950      0.045     22.103      0.000       0.907       1.083\n",
      "x2             1.0873      0.048     22.574      0.000       0.993       1.182\n",
      "==============================================================================\n",
      "Omnibus:                        1.007   Durbin-Watson:                   2.056\n",
      "Prob(Omnibus):                  0.604   Jarque-Bera (JB):                0.888\n",
      "Skew:                          -0.004   Prob(JB):                        0.641\n",
      "Kurtosis:                       3.146   Cond. No.                         1.09\n",
      "==============================================================================\n",
      "\n",
      "Notes:\n",
      "[1] R² is computed without centering (uncentered) since the model does not contain a constant.\n",
      "[2] Standard Errors assume that the covariance matrix of the errors is correctly specified.\n"
     ]
    }
   ],
   "source": [
    "print(sms.OLS(pop_Y[sample_indices], np.hstack((pop_X, pop_Z))[sample_indices]).fit().summary())"
   ]
  },
  {
   "cell_type": "code",
   "execution_count": 115,
   "metadata": {},
   "outputs": [],
   "source": [
    "pop_X = np.random.normal(0, 1, (1_000_000, 1))\n",
    "pop_Y = pop_X + np.random.normal(0, 1, (1_000_000, 1))\n",
    "pop_Z = pop_Y + np.random.normal(0, 1, (1_000_000, 1))"
   ]
  },
  {
   "cell_type": "code",
   "execution_count": 116,
   "metadata": {},
   "outputs": [
    {
     "name": "stdout",
     "output_type": "stream",
     "text": [
      "                                 OLS Regression Results                                \n",
      "=======================================================================================\n",
      "Dep. Variable:                      y   R-squared (uncentered):                   0.493\n",
      "Model:                            OLS   Adj. R-squared (uncentered):              0.492\n",
      "Method:                 Least Squares   F-statistic:                              966.0\n",
      "Date:                Wed, 02 Oct 2024   Prob (F-statistic):                   9.31e-149\n",
      "Time:                        20:20:20   Log-Likelihood:                         -1426.6\n",
      "No. Observations:                 996   AIC:                                      2855.\n",
      "Df Residuals:                     995   BIC:                                      2860.\n",
      "Df Model:                           1                                                  \n",
      "Covariance Type:            nonrobust                                                  \n",
      "==============================================================================\n",
      "                 coef    std err          t      P>|t|      [0.025      0.975]\n",
      "------------------------------------------------------------------------------\n",
      "x1             1.0287      0.033     31.080      0.000       0.964       1.094\n",
      "==============================================================================\n",
      "Omnibus:                        0.281   Durbin-Watson:                   1.943\n",
      "Prob(Omnibus):                  0.869   Jarque-Bera (JB):                0.327\n",
      "Skew:                          -0.038   Prob(JB):                        0.849\n",
      "Kurtosis:                       2.955   Cond. No.                         1.00\n",
      "==============================================================================\n",
      "\n",
      "Notes:\n",
      "[1] R² is computed without centering (uncentered) since the model does not contain a constant.\n",
      "[2] Standard Errors assume that the covariance matrix of the errors is correctly specified.\n"
     ]
    }
   ],
   "source": [
    "print(sms.OLS(pop_Y[sample_indices], pop_X[sample_indices]).fit().summary())"
   ]
  },
  {
   "cell_type": "code",
   "execution_count": 117,
   "metadata": {},
   "outputs": [
    {
     "name": "stdout",
     "output_type": "stream",
     "text": [
      "                                 OLS Regression Results                                \n",
      "=======================================================================================\n",
      "Dep. Variable:                      y   R-squared (uncentered):                   0.748\n",
      "Model:                            OLS   Adj. R-squared (uncentered):              0.748\n",
      "Method:                 Least Squares   F-statistic:                              1478.\n",
      "Date:                Wed, 02 Oct 2024   Prob (F-statistic):                   1.43e-298\n",
      "Time:                        20:20:22   Log-Likelihood:                         -1077.2\n",
      "No. Observations:                 996   AIC:                                      2158.\n",
      "Df Residuals:                     994   BIC:                                      2168.\n",
      "Df Model:                           2                                                  \n",
      "Covariance Type:            nonrobust                                                  \n",
      "==============================================================================\n",
      "                 coef    std err          t      P>|t|      [0.025      0.975]\n",
      "------------------------------------------------------------------------------\n",
      "x1             0.5258      0.028     18.661      0.000       0.471       0.581\n",
      "x2             0.5074      0.016     31.790      0.000       0.476       0.539\n",
      "==============================================================================\n",
      "Omnibus:                        2.495   Durbin-Watson:                   1.984\n",
      "Prob(Omnibus):                  0.287   Jarque-Bera (JB):                2.545\n",
      "Skew:                           0.102   Prob(JB):                        0.280\n",
      "Kurtosis:                       2.861   Cond. No.                         2.40\n",
      "==============================================================================\n",
      "\n",
      "Notes:\n",
      "[1] R² is computed without centering (uncentered) since the model does not contain a constant.\n",
      "[2] Standard Errors assume that the covariance matrix of the errors is correctly specified.\n"
     ]
    }
   ],
   "source": [
    "print(sms.OLS(pop_Y[sample_indices], np.hstack((pop_X, pop_Z))[sample_indices]).fit().summary())"
   ]
  }
 ],
 "metadata": {
  "kernelspec": {
   "display_name": ".venv",
   "language": "python",
   "name": "python3"
  },
  "language_info": {
   "codemirror_mode": {
    "name": "ipython",
    "version": 3
   },
   "file_extension": ".py",
   "mimetype": "text/x-python",
   "name": "python",
   "nbconvert_exporter": "python",
   "pygments_lexer": "ipython3",
   "version": "3.11.5"
  }
 },
 "nbformat": 4,
 "nbformat_minor": 2
}
