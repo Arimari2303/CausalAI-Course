{
 "cells": [
  {
   "cell_type": "code",
   "execution_count": 53,
   "metadata": {
    "vscode": {
     "languageId": "r"
    }
   },
   "outputs": [],
   "source": [
    "setwd(\"C:/Users/User/Downloads\")"
   ]
  },
  {
   "cell_type": "code",
   "execution_count": 54,
   "metadata": {
    "vscode": {
     "languageId": "r"
    }
   },
   "outputs": [
    {
     "data": {
      "text/html": [
       "<table class=\"dataframe\">\n",
       "<caption>A data.frame: 6 × 7</caption>\n",
       "<thead>\n",
       "\t<tr><th></th><th scope=col>X</th><th scope=col>time</th><th scope=col>device</th><th scope=col>browser</th><th scope=col>region</th><th scope=col>discount</th><th scope=col>spend</th></tr>\n",
       "\t<tr><th></th><th scope=col>&lt;int&gt;</th><th scope=col>&lt;dbl&gt;</th><th scope=col>&lt;chr&gt;</th><th scope=col>&lt;chr&gt;</th><th scope=col>&lt;int&gt;</th><th scope=col>&lt;int&gt;</th><th scope=col>&lt;dbl&gt;</th></tr>\n",
       "</thead>\n",
       "<tbody>\n",
       "\t<tr><th scope=row>1</th><td>0</td><td>10.7790063</td><td>mobile </td><td>edge    </td><td>9</td><td>0</td><td> 0.4551642</td></tr>\n",
       "\t<tr><th scope=row>2</th><td>1</td><td> 0.5689725</td><td>desktop</td><td>firefox </td><td>9</td><td>0</td><td>11.0368706</td></tr>\n",
       "\t<tr><th scope=row>3</th><td>2</td><td> 3.7438714</td><td>mobile </td><td>safari  </td><td>7</td><td>0</td><td> 1.8111930</td></tr>\n",
       "\t<tr><th scope=row>4</th><td>3</td><td>13.3734357</td><td>desktop</td><td>other   </td><td>5</td><td>0</td><td>31.9049439</td></tr>\n",
       "\t<tr><th scope=row>5</th><td>4</td><td> 0.7085752</td><td>mobile </td><td>explorer</td><td>2</td><td>1</td><td>15.4198624</td></tr>\n",
       "\t<tr><th scope=row>6</th><td>5</td><td>10.8320878</td><td>desktop</td><td>brave   </td><td>0</td><td>0</td><td>24.1239264</td></tr>\n",
       "</tbody>\n",
       "</table>\n"
      ],
      "text/latex": [
       "A data.frame: 6 × 7\n",
       "\\begin{tabular}{r|lllllll}\n",
       "  & X & time & device & browser & region & discount & spend\\\\\n",
       "  & <int> & <dbl> & <chr> & <chr> & <int> & <int> & <dbl>\\\\\n",
       "\\hline\n",
       "\t1 & 0 & 10.7790063 & mobile  & edge     & 9 & 0 &  0.4551642\\\\\n",
       "\t2 & 1 &  0.5689725 & desktop & firefox  & 9 & 0 & 11.0368706\\\\\n",
       "\t3 & 2 &  3.7438714 & mobile  & safari   & 7 & 0 &  1.8111930\\\\\n",
       "\t4 & 3 & 13.3734357 & desktop & other    & 5 & 0 & 31.9049439\\\\\n",
       "\t5 & 4 &  0.7085752 & mobile  & explorer & 2 & 1 & 15.4198624\\\\\n",
       "\t6 & 5 & 10.8320878 & desktop & brave    & 0 & 0 & 24.1239264\\\\\n",
       "\\end{tabular}\n"
      ],
      "text/markdown": [
       "\n",
       "A data.frame: 6 × 7\n",
       "\n",
       "| <!--/--> | X &lt;int&gt; | time &lt;dbl&gt; | device &lt;chr&gt; | browser &lt;chr&gt; | region &lt;int&gt; | discount &lt;int&gt; | spend &lt;dbl&gt; |\n",
       "|---|---|---|---|---|---|---|---|\n",
       "| 1 | 0 | 10.7790063 | mobile  | edge     | 9 | 0 |  0.4551642 |\n",
       "| 2 | 1 |  0.5689725 | desktop | firefox  | 9 | 0 | 11.0368706 |\n",
       "| 3 | 2 |  3.7438714 | mobile  | safari   | 7 | 0 |  1.8111930 |\n",
       "| 4 | 3 | 13.3734357 | desktop | other    | 5 | 0 | 31.9049439 |\n",
       "| 5 | 4 |  0.7085752 | mobile  | explorer | 2 | 1 | 15.4198624 |\n",
       "| 6 | 5 | 10.8320878 | desktop | brave    | 0 | 0 | 24.1239264 |\n",
       "\n"
      ],
      "text/plain": [
       "  X time       device  browser  region discount spend     \n",
       "1 0 10.7790063 mobile  edge     9      0         0.4551642\n",
       "2 1  0.5689725 desktop firefox  9      0        11.0368706\n",
       "3 2  3.7438714 mobile  safari   7      0         1.8111930\n",
       "4 3 13.3734357 desktop other    5      0        31.9049439\n",
       "5 4  0.7085752 mobile  explorer 2      1        15.4198624\n",
       "6 5 10.8320878 desktop brave    0      0        24.1239264"
      ]
     },
     "metadata": {},
     "output_type": "display_data"
    }
   ],
   "source": [
    "df <- read.csv(\"online_discounts.csv\")\n",
    "head(df)"
   ]
  },
  {
   "cell_type": "code",
   "execution_count": 55,
   "metadata": {
    "vscode": {
     "languageId": "r"
    }
   },
   "outputs": [
    {
     "data": {
      "text/html": [
       "<table class=\"dataframe\">\n",
       "<caption>A matrix: 2 × 4 of type dbl</caption>\n",
       "<thead>\n",
       "\t<tr><th></th><th scope=col>Estimate</th><th scope=col>Std. Error</th><th scope=col>t value</th><th scope=col>Pr(&gt;|t|)</th></tr>\n",
       "</thead>\n",
       "<tbody>\n",
       "\t<tr><th scope=row>(Intercept)</th><td>5.122072</td><td>0.04543493</td><td>112.73424</td><td> 0.000000e+00</td></tr>\n",
       "\t<tr><th scope=row>discount</th><td>1.750692</td><td>0.06421938</td><td> 27.26111</td><td>4.866824e-163</td></tr>\n",
       "</tbody>\n",
       "</table>\n"
      ],
      "text/latex": [
       "A matrix: 2 × 4 of type dbl\n",
       "\\begin{tabular}{r|llll}\n",
       "  & Estimate & Std. Error & t value & Pr(>\\textbar{}t\\textbar{})\\\\\n",
       "\\hline\n",
       "\t(Intercept) & 5.122072 & 0.04543493 & 112.73424 &  0.000000e+00\\\\\n",
       "\tdiscount & 1.750692 & 0.06421938 &  27.26111 & 4.866824e-163\\\\\n",
       "\\end{tabular}\n"
      ],
      "text/markdown": [
       "\n",
       "A matrix: 2 × 4 of type dbl\n",
       "\n",
       "| <!--/--> | Estimate | Std. Error | t value | Pr(&gt;|t|) |\n",
       "|---|---|---|---|---|\n",
       "| (Intercept) | 5.122072 | 0.04543493 | 112.73424 |  0.000000e+00 |\n",
       "| discount | 1.750692 | 0.06421938 |  27.26111 | 4.866824e-163 |\n",
       "\n"
      ],
      "text/plain": [
       "            Estimate Std. Error t value   Pr(>|t|)     \n",
       "(Intercept) 5.122072 0.04543493 112.73424  0.000000e+00\n",
       "discount    1.750692 0.06421938  27.26111 4.866824e-163"
      ]
     },
     "metadata": {},
     "output_type": "display_data"
    }
   ],
   "source": [
    "# Fit the linear model\n",
    "model <- lm(spend ~ discount, data = df)\n",
    "\n",
    "# Display the summary\n",
    "summary(model)$coefficients"
   ]
  },
  {
   "cell_type": "code",
   "execution_count": 56,
   "metadata": {
    "vscode": {
     "languageId": "r"
    }
   },
   "outputs": [
    {
     "data": {
      "text/html": [
       "<table class=\"dataframe\">\n",
       "<caption>A matrix: 4 × 4 of type dbl</caption>\n",
       "<thead>\n",
       "\t<tr><th></th><th scope=col>Estimate</th><th scope=col>Std. Error</th><th scope=col>t value</th><th scope=col>Pr(&gt;|t|)</th></tr>\n",
       "</thead>\n",
       "<tbody>\n",
       "\t<tr><th scope=row>(Intercept)</th><td>5.07573921</td><td>0.06408531</td><td>79.202852</td><td>0.000000e+00</td></tr>\n",
       "\t<tr><th scope=row>discount</th><td>1.08963150</td><td>0.09065748</td><td>12.019212</td><td>2.969281e-33</td></tr>\n",
       "\t<tr><th scope=row>devicemobile</th><td>0.09293248</td><td>0.09076034</td><td> 1.023933</td><td>3.058695e-01</td></tr>\n",
       "\t<tr><th scope=row>discount:devicemobile</th><td>1.32109134</td><td>0.12828371</td><td>10.298200</td><td>7.387657e-25</td></tr>\n",
       "</tbody>\n",
       "</table>\n"
      ],
      "text/latex": [
       "A matrix: 4 × 4 of type dbl\n",
       "\\begin{tabular}{r|llll}\n",
       "  & Estimate & Std. Error & t value & Pr(>\\textbar{}t\\textbar{})\\\\\n",
       "\\hline\n",
       "\t(Intercept) & 5.07573921 & 0.06408531 & 79.202852 & 0.000000e+00\\\\\n",
       "\tdiscount & 1.08963150 & 0.09065748 & 12.019212 & 2.969281e-33\\\\\n",
       "\tdevicemobile & 0.09293248 & 0.09076034 &  1.023933 & 3.058695e-01\\\\\n",
       "\tdiscount:devicemobile & 1.32109134 & 0.12828371 & 10.298200 & 7.387657e-25\\\\\n",
       "\\end{tabular}\n"
      ],
      "text/markdown": [
       "\n",
       "A matrix: 4 × 4 of type dbl\n",
       "\n",
       "| <!--/--> | Estimate | Std. Error | t value | Pr(&gt;|t|) |\n",
       "|---|---|---|---|---|\n",
       "| (Intercept) | 5.07573921 | 0.06408531 | 79.202852 | 0.000000e+00 |\n",
       "| discount | 1.08963150 | 0.09065748 | 12.019212 | 2.969281e-33 |\n",
       "| devicemobile | 0.09293248 | 0.09076034 |  1.023933 | 3.058695e-01 |\n",
       "| discount:devicemobile | 1.32109134 | 0.12828371 | 10.298200 | 7.387657e-25 |\n",
       "\n"
      ],
      "text/plain": [
       "                      Estimate   Std. Error t value   Pr(>|t|)    \n",
       "(Intercept)           5.07573921 0.06408531 79.202852 0.000000e+00\n",
       "discount              1.08963150 0.09065748 12.019212 2.969281e-33\n",
       "devicemobile          0.09293248 0.09076034  1.023933 3.058695e-01\n",
       "discount:devicemobile 1.32109134 0.12828371 10.298200 7.387657e-25"
      ]
     },
     "metadata": {},
     "output_type": "display_data"
    }
   ],
   "source": [
    "# Fit the linear model with interaction\n",
    "model <- lm(spend ~ discount * device, data = df)\n",
    "\n",
    "# Display the summary table of coefficients\n",
    "summary(model)$coefficients"
   ]
  },
  {
   "cell_type": "code",
   "execution_count": 57,
   "metadata": {
    "vscode": {
     "languageId": "r"
    }
   },
   "outputs": [],
   "source": [
    "# Load necessary packages\n",
    "# install.packages(\"dplyr\")\n",
    "library(dplyr)\n",
    "\n",
    "# Convert 'region' to a factor\n",
    "df <- df %>%\n",
    "  mutate(region = as.factor(region))\n",
    "\n",
    "df <- df %>%\n",
    "  mutate(browser = as.factor(browser))\n",
    "\n",
    "df <- df %>%\n",
    "  mutate(device = as.factor(device))\n",
    "\n",
    "X <- c('time', 'device', 'browser', 'region')"
   ]
  },
  {
   "cell_type": "code",
   "execution_count": 59,
   "metadata": {
    "vscode": {
     "languageId": "r"
    }
   },
   "outputs": [
    {
     "name": "stderr",
     "output_type": "stream",
     "text": [
      "Warning message:\n",
      "\"\u001b[1m\u001b[22mRemoved 4 rows containing missing values or values outside the scale range\n",
      "(`geom_bar()`).\"\n"
     ]
    },
    {
     "data": {
      "image/png": "[encoded data removed]",
      "text/plain": [
       "plot without title"
      ]
     },
     "metadata": {
      "image/png": {
       "height": 420,
       "width": 420
      }
     },
     "output_type": "display_data"
    }
   ],
   "source": [
    "# Load necessary packages\n",
    "# install.packages(\"ggplot2\")\n",
    "library(ggplot2)\n",
    "\n",
    "# Fit the logistic regression model to predict propensity scores\n",
    "logistic_model <- glm(discount ~ ., data = df[,c(X,'discount')], family = binomial)\n",
    "df$pscore <- predict(logistic_model, df[X], type = \"response\")\n",
    "\n",
    "# Plot the histogram with ggplot2\n",
    "ggplot(df, aes(x = pscore, fill = as.factor(discount))) +\n",
    "  geom_histogram(binwidth = 0.05, position = \"identity\", alpha = 0.7) +\n",
    "  labs(\n",
    "    title = \"Predicted Propensity Scores\",\n",
    "    x = \"Propensity Score\",\n",
    "    fill = \"Discount\"\n",
    "  ) +\n",
    "  xlim(0, 1)"
   ]
  },
  {
   "cell_type": "code",
   "execution_count": 61,
   "metadata": {
    "vscode": {
     "languageId": "r"
    }
   },
   "outputs": [],
   "source": [
    "df$y_star <- df$spend / (df$discount * df$pscore - (1 - df$discount) * (1 - df$pscore))"
   ]
  },
  {
   "cell_type": "code",
   "execution_count": 62,
   "metadata": {
    "vscode": {
     "languageId": "r"
    }
   },
   "outputs": [
    {
     "data": {
      "text/html": [
       "1.75715996579333"
      ],
      "text/latex": [
       "1.75715996579333"
      ],
      "text/markdown": [
       "1.75715996579333"
      ],
      "text/plain": [
       "[1] 1.75716"
      ]
     },
     "metadata": {},
     "output_type": "display_data"
    }
   ],
   "source": [
    "mean(df$y_star, na.rm = TRUE)"
   ]
  },
  {
   "cell_type": "code",
   "execution_count": 63,
   "metadata": {
    "vscode": {
     "languageId": "r"
    }
   },
   "outputs": [
    {
     "data": {
      "image/png": "[encoded data removed]",
      "text/plain": [
       "plot without title"
      ]
     },
     "metadata": {
      "image/png": {
       "height": 420,
       "width": 420
      }
     },
     "output_type": "display_data"
    }
   ],
   "source": [
    "# Load ggplot2 package if not already loaded\n",
    "# install.packages(\"ggplot2\")\n",
    "library(ggplot2)\n",
    "\n",
    "# Create the histogram with ggplot2\n",
    "ggplot(df, aes(x = y_star)) +\n",
    "  geom_histogram(binwidth = 0.05, fill = \"skyblue\", color = \"black\", alpha = 0.7) +\n",
    "  labs(title = \"Distribution of Auxiliary Variable\") +\n",
    "  theme_minimal()"
   ]
  },
  {
   "cell_type": "code",
   "execution_count": 71,
   "metadata": {
    "vscode": {
     "languageId": "r"
    }
   },
   "outputs": [],
   "source": [
    "library(tree)\n",
    "\n",
    "tree_model <- tree(y_star ~ .,\n",
    "                   data = df[, c(X, \"y_star\")],\n",
    "                   mincut = 1,\n",
    "                   minsize = 2,\n",
    "                   mindev = 1)"
   ]
  },
  {
   "cell_type": "code",
   "execution_count": 72,
   "metadata": {
    "vscode": {
     "languageId": "r"
    }
   },
   "outputs": [
    {
     "ename": "ERROR",
     "evalue": "Error in plot.tree(tree_model): cannot plot singlenode tree\n",
     "output_type": "error",
     "traceback": [
      "Error in plot.tree(tree_model): cannot plot singlenode tree\nTraceback:\n",
      "1. plot(tree_model)",
      "2. plot.tree(tree_model)",
      "3. stop(\"cannot plot singlenode tree\")"
     ]
    }
   ],
   "source": [
    "plot(tree_model)"
   ]
  },
  {
   "cell_type": "code",
   "execution_count": null,
   "metadata": {
    "vscode": {
     "languageId": "r"
    }
   },
   "outputs": [],
   "source": [
    "install"
   ]
  }
 ],
 "metadata": {
  "kernelspec": {
   "display_name": "R",
   "language": "R",
   "name": "ir"
  },
  "language_info": {
   "codemirror_mode": "r",
   "file_extension": ".r",
   "mimetype": "text/x-r-source",
   "name": "R",
   "pygments_lexer": "r",
   "version": "4.3.1"
  }
 },
 "nbformat": 4,
 "nbformat_minor": 2
}
