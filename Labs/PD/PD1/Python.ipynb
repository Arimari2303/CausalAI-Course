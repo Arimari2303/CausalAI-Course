{
 "cells": [
  {
   "cell_type": "markdown",
   "metadata": {},
   "source": [
    "# Python Basics\n",
    "\n",
    "Python is a general purpose language. Its main version is built with C (CPython). It supports a variety of programming paradigms, but we will mainly be using the procedural and object-oriented styles.\n",
    "\n",
    "## Base classes/types\n",
    "\n",
    "The most commonly used built-in data types in Python are\n",
    "\n",
    "### **`int`**\n",
    "Integer numbers. They have unlimited precision\n"
   ]
  },
  {
   "cell_type": "code",
   "execution_count": 1,
   "metadata": {},
   "outputs": [
    {
     "data": {
      "text/plain": [
       "153090103458041951154620325043801237641319743206933311288544235956760011447392195175450369025277569052617268428910122535686807015741471080782585043071649294869136754165183653769539196448293593632735232"
      ]
     },
     "execution_count": 1,
     "metadata": {},
     "output_type": "execute_result"
    }
   ],
   "source": [
    "2 ** 665"
   ]
  },
  {
   "cell_type": "markdown",
   "metadata": {},
   "source": [
    "### **`bool`**\n",
    "\n",
    "Booleans in Python are a subtype of integers. They represent logical truth values, where 0 is `False` and 1 is `True`."
   ]
  },
  {
   "cell_type": "code",
   "execution_count": 2,
   "metadata": {},
   "outputs": [
    {
     "data": {
      "text/plain": [
       "True"
      ]
     },
     "execution_count": 2,
     "metadata": {},
     "output_type": "execute_result"
    }
   ],
   "source": [
    "True"
   ]
  },
  {
   "cell_type": "code",
   "execution_count": 3,
   "metadata": {},
   "outputs": [
    {
     "data": {
      "text/plain": [
       "1"
      ]
     },
     "execution_count": 3,
     "metadata": {},
     "output_type": "execute_result"
    }
   ],
   "source": [
    "int(True)"
   ]
  },
  {
   "cell_type": "markdown",
   "metadata": {},
   "source": [
    "Booleans are also returned as the result of comparisons between other objects"
   ]
  },
  {
   "cell_type": "code",
   "execution_count": 4,
   "metadata": {},
   "outputs": [
    {
     "data": {
      "text/plain": [
       "True"
      ]
     },
     "execution_count": 4,
     "metadata": {},
     "output_type": "execute_result"
    }
   ],
   "source": [
    "2 + 2 == 4"
   ]
  },
  {
   "cell_type": "code",
   "execution_count": 5,
   "metadata": {},
   "outputs": [
    {
     "data": {
      "text/plain": [
       "False"
      ]
     },
     "execution_count": 5,
     "metadata": {},
     "output_type": "execute_result"
    }
   ],
   "source": [
    "16 / 4 > 5"
   ]
  },
  {
   "cell_type": "markdown",
   "metadata": {},
   "source": [
    "### **`float`**\n",
    "\"Real\" numbers, or numbers with decimals. They have *double* precision, meaning that they implement the [IEEE 754 standard](https://en.wikipedia.org/wiki/IEEE_754) for 64-bit representations."
   ]
  },
  {
   "cell_type": "code",
   "execution_count": 6,
   "metadata": {},
   "outputs": [
    {
     "data": {
      "text/plain": [
       "1.79e+308"
      ]
     },
     "execution_count": 6,
     "metadata": {},
     "output_type": "execute_result"
    }
   ],
   "source": [
    "1.79 * 10 ** 308"
   ]
  },
  {
   "cell_type": "code",
   "execution_count": 7,
   "metadata": {},
   "outputs": [
    {
     "data": {
      "text/plain": [
       "inf"
      ]
     },
     "execution_count": 7,
     "metadata": {},
     "output_type": "execute_result"
    }
   ],
   "source": [
    "1.79 * 10 ** 308 + 1. * 10 ** 306"
   ]
  },
  {
   "cell_type": "markdown",
   "metadata": {},
   "source": [
    "### **`tuple`**\n",
    "A *collection* type, meaning that it can store several entries of data. It is ordered, meaning we can specify an index and it will point to the item at that location"
   ]
  },
  {
   "cell_type": "code",
   "execution_count": 8,
   "metadata": {},
   "outputs": [
    {
     "data": {
      "text/plain": [
       "(1, 2, 3)"
      ]
     },
     "execution_count": 8,
     "metadata": {},
     "output_type": "execute_result"
    }
   ],
   "source": [
    "tuple_example = (1, 2, 3)\n",
    "tuple_example"
   ]
  },
  {
   "cell_type": "code",
   "execution_count": 9,
   "metadata": {},
   "outputs": [
    {
     "data": {
      "text/plain": [
       "2"
      ]
     },
     "execution_count": 9,
     "metadata": {},
     "output_type": "execute_result"
    }
   ],
   "source": [
    "tuple_example[1]"
   ]
  },
  {
   "cell_type": "markdown",
   "metadata": {},
   "source": [
    "`tuple`s are also immutable, which means we cannot change the values it contains after they have already been created. We can only append new ones"
   ]
  },
  {
   "cell_type": "code",
   "execution_count": 10,
   "metadata": {},
   "outputs": [
    {
     "ename": "TypeError",
     "evalue": "'tuple' object does not support item assignment",
     "output_type": "error",
     "traceback": [
      "\u001b[1;31m---------------------------------------------------------------------------\u001b[0m",
      "\u001b[1;31mTypeError\u001b[0m                                 Traceback (most recent call last)",
      "Cell \u001b[1;32mIn[10], line 1\u001b[0m\n\u001b[1;32m----> 1\u001b[0m \u001b[43mtuple_example\u001b[49m\u001b[43m[\u001b[49m\u001b[38;5;241;43m1\u001b[39;49m\u001b[43m]\u001b[49m \u001b[38;5;241m=\u001b[39m \u001b[38;5;241m0\u001b[39m\n",
      "\u001b[1;31mTypeError\u001b[0m: 'tuple' object does not support item assignment"
     ]
    }
   ],
   "source": [
    "tuple_example[1] = 0"
   ]
  },
  {
   "cell_type": "code",
   "execution_count": null,
   "metadata": {},
   "outputs": [
    {
     "data": {
      "text/plain": [
       "(1, 2, 3, 0)"
      ]
     },
     "execution_count": 48,
     "metadata": {},
     "output_type": "execute_result"
    }
   ],
   "source": [
    "tuple_example + (0, )"
   ]
  },
  {
   "cell_type": "markdown",
   "metadata": {},
   "source": [
    "### **`list`**\n",
    "\n",
    "Another ordered collection type"
   ]
  },
  {
   "cell_type": "code",
   "execution_count": null,
   "metadata": {},
   "outputs": [
    {
     "data": {
      "text/plain": [
       "[1, 2, 3]"
      ]
     },
     "execution_count": 90,
     "metadata": {},
     "output_type": "execute_result"
    }
   ],
   "source": [
    "list_example = [1, 2, 3]\n",
    "list_example"
   ]
  },
  {
   "cell_type": "markdown",
   "metadata": {},
   "source": [
    "Unlike `tuples`s, `list`s are mutable"
   ]
  },
  {
   "cell_type": "code",
   "execution_count": null,
   "metadata": {},
   "outputs": [],
   "source": [
    "list_example[1] = 0"
   ]
  },
  {
   "cell_type": "code",
   "execution_count": null,
   "metadata": {},
   "outputs": [
    {
     "data": {
      "text/plain": [
       "[1, 0, 3]"
      ]
     },
     "execution_count": 52,
     "metadata": {},
     "output_type": "execute_result"
    }
   ],
   "source": [
    "list_example"
   ]
  },
  {
   "cell_type": "markdown",
   "metadata": {},
   "source": [
    "They can also be appended to"
   ]
  },
  {
   "cell_type": "code",
   "execution_count": null,
   "metadata": {},
   "outputs": [
    {
     "data": {
      "text/plain": [
       "[1, 0, 3, 0]"
      ]
     },
     "execution_count": 53,
     "metadata": {},
     "output_type": "execute_result"
    }
   ],
   "source": [
    "list_example + [0]"
   ]
  },
  {
   "cell_type": "markdown",
   "metadata": {},
   "source": [
    "### **`str`**\n",
    "\n",
    "Strings are immutable, ordered collections used for text. They can be defined with single quotes `'`, double quotes `\"`, triple single quotes `'''` and triple double quotes `\"\"\"`\n"
   ]
  },
  {
   "cell_type": "code",
   "execution_count": null,
   "metadata": {},
   "outputs": [
    {
     "name": "stdout",
     "output_type": "stream",
     "text": [
      "The quick brown fox jumped over the 'lazy' dog\n"
     ]
    }
   ],
   "source": [
    "string_example = \"The quick brown fox jumped over the 'lazy' dog\"\n",
    "print(string_example)"
   ]
  },
  {
   "cell_type": "code",
   "execution_count": null,
   "metadata": {},
   "outputs": [
    {
     "name": "stdout",
     "output_type": "stream",
     "text": [
      "\n",
      "The quick brown fox jumped over the 'lazy' dog\n",
      "\n"
     ]
    }
   ],
   "source": [
    "string_example = \"\"\"\n",
    "The quick brown fox jumped over the 'lazy' dog\n",
    "\"\"\"\n",
    "print(string_example)"
   ]
  },
  {
   "cell_type": "markdown",
   "metadata": {},
   "source": [
    "Strings have special methods that other types do not. For example, we can modify the typesetting:"
   ]
  },
  {
   "cell_type": "code",
   "execution_count": null,
   "metadata": {},
   "outputs": [
    {
     "name": "stdout",
     "output_type": "stream",
     "text": [
      "The quick brown fox jumped over the lazy dog\n"
     ]
    }
   ],
   "source": [
    "string_example = \"The quick brown fox jumped over the lazy dog\"\n",
    "print(string_example)"
   ]
  },
  {
   "cell_type": "code",
   "execution_count": null,
   "metadata": {},
   "outputs": [
    {
     "name": "stdout",
     "output_type": "stream",
     "text": [
      "THE QUICK BROWN FOX JUMPED OVER THE LAZY DOG\n"
     ]
    }
   ],
   "source": [
    "print(string_example.upper())"
   ]
  },
  {
   "cell_type": "code",
   "execution_count": null,
   "metadata": {},
   "outputs": [
    {
     "name": "stdout",
     "output_type": "stream",
     "text": [
      "The Quick Brown Fox Jumped Over The Lazy Dog\n"
     ]
    }
   ],
   "source": [
    "print(string_example.title())"
   ]
  },
  {
   "cell_type": "markdown",
   "metadata": {},
   "source": [
    "### **`set`**\n",
    "\n",
    "This is a collection type that is unordered and immutable. It can be defined with `{}` characters. It also only accepts [\"hashable\"](https://en.wikipedia.org/wiki/Hash_function) data types. Of the types we have seen so far, we only `int`, `float`, `tuple`, and `str` are hashable.\n"
   ]
  },
  {
   "cell_type": "code",
   "execution_count": null,
   "metadata": {},
   "outputs": [
    {
     "data": {
      "text/plain": [
       "{(1, 2), 1, 2}"
      ]
     },
     "execution_count": 63,
     "metadata": {},
     "output_type": "execute_result"
    }
   ],
   "source": [
    "{1, 2, (1, 2)}"
   ]
  },
  {
   "cell_type": "code",
   "execution_count": null,
   "metadata": {},
   "outputs": [
    {
     "ename": "TypeError",
     "evalue": "unhashable type: 'list'",
     "output_type": "error",
     "traceback": [
      "\u001b[1;31m---------------------------------------------------------------------------\u001b[0m",
      "\u001b[1;31mTypeError\u001b[0m                                 Traceback (most recent call last)",
      "Cell \u001b[1;32mIn[64], line 1\u001b[0m\n\u001b[1;32m----> 1\u001b[0m {\u001b[38;5;241m1\u001b[39m, \u001b[38;5;241m2\u001b[39m, [\u001b[38;5;241m1\u001b[39m, \u001b[38;5;241m2\u001b[39m]}\n",
      "\u001b[1;31mTypeError\u001b[0m: unhashable type: 'list'"
     ]
    }
   ],
   "source": [
    "{1, 2, [1, 2]}"
   ]
  },
  {
   "cell_type": "markdown",
   "metadata": {},
   "source": [
    "Sets in Python function similarly to sets in mathematics. For example, repeat elements are not counted"
   ]
  },
  {
   "cell_type": "code",
   "execution_count": null,
   "metadata": {},
   "outputs": [
    {
     "data": {
      "text/plain": [
       "{1, 2, 3}"
      ]
     },
     "execution_count": 58,
     "metadata": {},
     "output_type": "execute_result"
    }
   ],
   "source": [
    "{1, 2, 2, 3}"
   ]
  },
  {
   "cell_type": "markdown",
   "metadata": {},
   "source": [
    "### **`dict`**\n",
    "\n",
    "Dictionaries are unordered, mutable collection types. They are also defined with the `{}` characters. They are what is called a \"mapping\" type, which means it contains a relationship or \"map\" from one element to another. These relationships are built in pairs, called \"key-value pairs\". The keys must be hashable"
   ]
  },
  {
   "cell_type": "code",
   "execution_count": null,
   "metadata": {},
   "outputs": [
    {
     "data": {
      "text/plain": [
       "{'a': 1, 'b': 2, 'c': 3}"
      ]
     },
     "execution_count": 65,
     "metadata": {},
     "output_type": "execute_result"
    }
   ],
   "source": [
    "{\"a\": 1, \"b\": 2, \"c\": 3}"
   ]
  },
  {
   "cell_type": "markdown",
   "metadata": {},
   "source": [
    "In this example, the keys are \"a\", \"b\", and \"c\". The values are 1, 2, and 3\n",
    "\n",
    "## Control Flow\n",
    "\n",
    "Sometimes it is necessary to iterate code, or only run it depending on certain conditions. This is called \"control flow\". Python offers several statements for control flow, and the most common ones are\n",
    "\n",
    "### **`while`**\n",
    "\n",
    "`while` loops keeps executing code as long as the condition that follows it is true. The following code removes a character from the end of a string until it becomes empty, at which point it stops\n",
    "\n"
   ]
  },
  {
   "cell_type": "code",
   "execution_count": null,
   "metadata": {},
   "outputs": [
    {
     "name": "stdout",
     "output_type": "stream",
     "text": [
      "The quick brown fox jumped over the lazy dog\n",
      "The quick brown fox jumped over the lazy do\n",
      "The quick brown fox jumped over the lazy d\n",
      "The quick brown fox jumped over the lazy \n",
      "The quick brown fox jumped over the lazy\n",
      "The quick brown fox jumped over the laz\n",
      "The quick brown fox jumped over the la\n",
      "The quick brown fox jumped over the l\n",
      "The quick brown fox jumped over the \n",
      "The quick brown fox jumped over the\n",
      "The quick brown fox jumped over th\n",
      "The quick brown fox jumped over t\n",
      "The quick brown fox jumped over \n",
      "The quick brown fox jumped over\n",
      "The quick brown fox jumped ove\n",
      "The quick brown fox jumped ov\n",
      "The quick brown fox jumped o\n",
      "The quick brown fox jumped \n",
      "The quick brown fox jumped\n",
      "The quick brown fox jumpe\n",
      "The quick brown fox jump\n",
      "The quick brown fox jum\n",
      "The quick brown fox ju\n",
      "The quick brown fox j\n",
      "The quick brown fox \n",
      "The quick brown fox\n",
      "The quick brown fo\n",
      "The quick brown f\n",
      "The quick brown \n",
      "The quick brown\n",
      "The quick brow\n",
      "The quick bro\n",
      "The quick br\n",
      "The quick b\n",
      "The quick \n",
      "The quick\n",
      "The quic\n",
      "The qui\n",
      "The qu\n",
      "The q\n",
      "The \n",
      "The\n",
      "Th\n",
      "T\n",
      "\n",
      "Finished\n"
     ]
    }
   ],
   "source": [
    "print(string_example)\n",
    "while string_example != \"\":\n",
    "        string_example = string_example[:-1]\n",
    "        print(string_example)\n",
    "print(\"Finished\")"
   ]
  },
  {
   "cell_type": "markdown",
   "metadata": {},
   "source": [
    "### **`for`**\n",
    "\n",
    "The `for` loops executes code for each of the elements in a collection. The following code prints the square of each element of the list it iterates over:"
   ]
  },
  {
   "cell_type": "code",
   "execution_count": null,
   "metadata": {},
   "outputs": [
    {
     "name": "stdout",
     "output_type": "stream",
     "text": [
      "1\n",
      "4\n",
      "9\n",
      "16\n",
      "25\n",
      "Finished\n"
     ]
    }
   ],
   "source": [
    "for number in [1, 2, 3, 4, 5]:\n",
    "        print(number ** 2)\n",
    "print(\"Finished\")"
   ]
  },
  {
   "cell_type": "markdown",
   "metadata": {},
   "source": [
    "### **`if`, `elif` and `else`**\n",
    "\n",
    "`if` statements execute code if the truth value of the expression that follows them is `True`.\n",
    "`elif` statements also execute code after a condition is met, but only if a previous `if` statement's condition was false\n",
    "`else` executes code after none of the preceding conditions were met\n",
    "\n",
    "For example, the following code prints \"Negative\" if the number is less than 0, \"Positive\" if the number is larger than 0, and \"Zero\" if it is equal to zero"
   ]
  },
  {
   "cell_type": "code",
   "execution_count": null,
   "metadata": {},
   "outputs": [
    {
     "name": "stdout",
     "output_type": "stream",
     "text": [
      "Positive\n"
     ]
    }
   ],
   "source": [
    "number = 1\n",
    "if number > 0:\n",
    "        print(\"Positive\")\n",
    "elif number < 0:\n",
    "        print(\"Negative\")\n",
    "else:\n",
    "        print(\"Zero\")"
   ]
  },
  {
   "cell_type": "markdown",
   "metadata": {},
   "source": [
    "## Functions\n",
    "\n",
    "So far, we have seen types and some of their related methods. Python allows us to build functions, which are procedures that, once defined, we can use again. Functions are defined with the `def` statement. For example, we can make a function that takes any string and reverses it."
   ]
  },
  {
   "cell_type": "code",
   "execution_count": null,
   "metadata": {},
   "outputs": [],
   "source": [
    "def reverse_string(string: str) -> str:\n",
    "        reversed_string = \"\"\n",
    "        for character in string:\n",
    "                reversed_string = character + reversed_string\n",
    "        return reversed_string"
   ]
  },
  {
   "cell_type": "code",
   "execution_count": null,
   "metadata": {},
   "outputs": [
    {
     "name": "stdout",
     "output_type": "stream",
     "text": [
      "god yzal eht revo depmuj xof nworb kciuq ehT\n"
     ]
    }
   ],
   "source": [
    "string_example = \"The quick brown fox jumped over the lazy dog\"\n",
    "print(reverse_string(string_example))"
   ]
  },
  {
   "cell_type": "code",
   "execution_count": null,
   "metadata": {},
   "outputs": [
    {
     "name": "stdout",
     "output_type": "stream",
     "text": [
      "orecauga noc ,siraP ne ériroM\n"
     ]
    }
   ],
   "source": [
    "print(reverse_string(\"Moriré en Paris, con aguacero\"))"
   ]
  },
  {
   "cell_type": "markdown",
   "metadata": {},
   "source": [
    "## Classes\n",
    "\n",
    "In Python, types are synonymous with classes. We can create our own custom classes. The advantage of this is that our custom class can store information that would not be stored in previously available type. Also each class has a number of methods associated with it, and our custom class can have custom methods. \n",
    "\n",
    "There is a lot to learn about classes, but the concepts we will cover today are *constructors* and *inheritance*\n",
    "\n",
    "A class's *constructor* is a method that is used to initialize an object of said class. In Python, the constructor method for every class has the name `__init__`. The created object is therefor called an *instance* of the class. Constructors usually take a list of arguments (like a function) and assign the to the classes *attributes*, which store information about the instance.\n",
    "\n",
    "In the following example, we describe a simple class, whose constructor takes a list and stores it, as well as a dictionary of each entry's index"
   ]
  },
  {
   "cell_type": "code",
   "execution_count": null,
   "metadata": {},
   "outputs": [],
   "source": [
    "class SpecialList:\n",
    "\n",
    "        def __init__(self, base_list: list) -> None:\n",
    "                self.base_list = base_list # Assign the base list to the attrubute base_list\n",
    "                self.element_indices = {}\n",
    "                \n",
    "                for index, element in enumerate(self.base_list):\n",
    "                        self.element_indices.update({index: element})\n",
    "                \n",
    "                return"
   ]
  },
  {
   "cell_type": "code",
   "execution_count": null,
   "metadata": {},
   "outputs": [],
   "source": [
    "special_list_example = SpecialList([\"Alicia\", \"José\", \"Mario\", \"Rebeca\"])"
   ]
  },
  {
   "cell_type": "code",
   "execution_count": null,
   "metadata": {},
   "outputs": [
    {
     "data": {
      "text/plain": [
       "['Alicia', 'José', 'Mario', 'Rebeca']"
      ]
     },
     "execution_count": 82,
     "metadata": {},
     "output_type": "execute_result"
    }
   ],
   "source": [
    "special_list_example.base_list"
   ]
  },
  {
   "cell_type": "code",
   "execution_count": null,
   "metadata": {},
   "outputs": [
    {
     "data": {
      "text/plain": [
       "{0: 'Alicia', 1: 'José', 2: 'Mario', 3: 'Rebeca'}"
      ]
     },
     "execution_count": 83,
     "metadata": {},
     "output_type": "execute_result"
    }
   ],
   "source": [
    "special_list_example.element_indices"
   ]
  },
  {
   "cell_type": "markdown",
   "metadata": {},
   "source": [
    "*Inheritance* is the capacity of a class to be defined by another class. This means that one may define class B to have the same methods as class A, and then add more methods to B. We say that A is the parent class of B, and B is a child class of A. Classes can have several parents. In the following example, we will define the `EnhancedString` class, based off of the `str` class. It will have the methods of a normal string, as well as a custom method."
   ]
  },
  {
   "cell_type": "code",
   "execution_count": null,
   "metadata": {},
   "outputs": [],
   "source": [
    "class EnhancedString(str):\n",
    "        def reverse_string(self) -> str:\n",
    "                reversed_string = \"\"\n",
    "                for character in self:\n",
    "                        reversed_string = character + reversed_string\n",
    "                return reversed_string"
   ]
  },
  {
   "cell_type": "code",
   "execution_count": null,
   "metadata": {},
   "outputs": [],
   "source": [
    "enhanced_string_example = EnhancedString(\"The quick brown fox\")"
   ]
  },
  {
   "cell_type": "code",
   "execution_count": null,
   "metadata": {},
   "outputs": [
    {
     "data": {
      "text/plain": [
       "'xof nworb kciuq ehT'"
      ]
     },
     "execution_count": 87,
     "metadata": {},
     "output_type": "execute_result"
    }
   ],
   "source": [
    "enhanced_string_example.reverse_string()"
   ]
  },
  {
   "cell_type": "code",
   "execution_count": null,
   "metadata": {},
   "outputs": [
    {
     "data": {
      "text/plain": [
       "'THE QUICK BROWN FOX'"
      ]
     },
     "execution_count": 88,
     "metadata": {},
     "output_type": "execute_result"
    }
   ],
   "source": [
    "enhanced_string_example.upper()"
   ]
  }
 ],
 "metadata": {
  "kernelspec": {
   "display_name": ".venv",
   "language": "python",
   "name": "python3"
  },
  "language_info": {
   "codemirror_mode": {
    "name": "ipython",
    "version": 3
   },
   "file_extension": ".py",
   "mimetype": "text/x-python",
   "name": "python",
   "nbconvert_exporter": "python",
   "pygments_lexer": "ipython3",
   "version": "3.11.5"
  }
 },
 "nbformat": 4,
 "nbformat_minor": 2
}
