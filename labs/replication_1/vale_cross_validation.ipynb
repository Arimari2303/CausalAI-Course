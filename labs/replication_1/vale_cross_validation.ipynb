{
 "cells": [
  {
   "cell_type": "markdown",
   "metadata": {},
   "source": [
    "### Cross-Validation in Lasso Regression - Manual Implementation Task"
   ]
  },
  {
   "cell_type": "code",
   "execution_count": 1,
   "metadata": {},
   "outputs": [
    {
     "name": "stderr",
     "output_type": "stream",
     "text": [
      "/Users/valerie/opt/anaconda3/lib/python3.9/site-packages/scipy/__init__.py:146: UserWarning: A NumPy version >=1.16.5 and <1.23.0 is required for this version of SciPy (detected version 1.24.3\n",
      "  warnings.warn(f\"A NumPy version >={np_minversion} and <{np_maxversion}\"\n"
     ]
    }
   ],
   "source": [
    "# Libraries\n",
    "import pandas as pd\n",
    "import numpy as np\n",
    "import pyreadr as rr\n",
    "import math\n",
    "import statsmodels.api as sm\n",
    "import statsmodels.formula.api as smf\n",
    "\n",
    "# Import relevant packages for lasso \n",
    "from sklearn.model_selection import KFold\n",
    "from sklearn.linear_model import LassoCV\n",
    "from sklearn import linear_model\n",
    "from sklearn.preprocessing import PolynomialFeatures\n",
    "from sklearn.metrics import mean_squared_error"
   ]
  },
  {
   "cell_type": "markdown",
   "metadata": {},
   "source": [
    "**1. Data Preparation**\n",
    "\n",
    "Load the March Supplement of the U.S. Current Population Survey, year 2015. (wage2015_subsample_inference.Rdata)"
   ]
  },
  {
   "cell_type": "code",
   "execution_count": 2,
   "metadata": {},
   "outputs": [],
   "source": [
    "rdata_read = rr.read_r(\"../../data/wage2015_subsample_inference.Rdata\")\n",
    "data = rdata_read[ 'data' ]"
   ]
  },
  {
   "cell_type": "code",
   "execution_count": 3,
   "metadata": {},
   "outputs": [
    {
     "name": "stdout",
     "output_type": "stream",
     "text": [
      "<class 'pandas.core.frame.DataFrame'>\n",
      "Index: 5150 entries, 10 to 32643\n",
      "Data columns (total 20 columns):\n",
      " #   Column  Non-Null Count  Dtype   \n",
      "---  ------  --------------  -----   \n",
      " 0   wage    5150 non-null   float64 \n",
      " 1   lwage   5150 non-null   float64 \n",
      " 2   sex     5150 non-null   float64 \n",
      " 3   shs     5150 non-null   float64 \n",
      " 4   hsg     5150 non-null   float64 \n",
      " 5   scl     5150 non-null   float64 \n",
      " 6   clg     5150 non-null   float64 \n",
      " 7   ad      5150 non-null   float64 \n",
      " 8   mw      5150 non-null   float64 \n",
      " 9   so      5150 non-null   float64 \n",
      " 10  we      5150 non-null   float64 \n",
      " 11  ne      5150 non-null   float64 \n",
      " 12  exp1    5150 non-null   float64 \n",
      " 13  exp2    5150 non-null   float64 \n",
      " 14  exp3    5150 non-null   float64 \n",
      " 15  exp4    5150 non-null   float64 \n",
      " 16  occ     5150 non-null   category\n",
      " 17  occ2    5150 non-null   category\n",
      " 18  ind     5150 non-null   category\n",
      " 19  ind2    5150 non-null   category\n",
      "dtypes: category(4), float64(16)\n",
      "memory usage: 736.3+ KB\n"
     ]
    }
   ],
   "source": [
    "data.info()"
   ]
  },
  {
   "cell_type": "markdown",
   "metadata": {},
   "source": [
    "We separate the X and y from flexible model"
   ]
  },
  {
   "cell_type": "code",
   "execution_count": 4,
   "metadata": {},
   "outputs": [
    {
     "name": "stdout",
     "output_type": "stream",
     "text": [
      "                            OLS Regression Results                            \n",
      "==============================================================================\n",
      "Dep. Variable:                  lwage   R-squared:                       0.351\n",
      "Model:                            OLS   Adj. R-squared:                  0.319\n",
      "Method:                 Least Squares   F-statistic:                     10.83\n",
      "Date:                Wed, 10 Apr 2024   Prob (F-statistic):          2.69e-305\n",
      "Time:                        23:12:28   Log-Likelihood:                -3301.9\n",
      "No. Observations:                5150   AIC:                             7096.\n",
      "Df Residuals:                    4904   BIC:                             8706.\n",
      "Df Model:                         245                                         \n",
      "Covariance Type:            nonrobust                                         \n",
      "===================================================================================\n",
      "                      coef    std err          t      P>|t|      [0.025      0.975]\n",
      "-----------------------------------------------------------------------------------\n",
      "Intercept           3.2797      0.284     11.540      0.000       2.723       3.837\n",
      "occ2[T.10]          0.0210      0.156      0.134      0.893      -0.286       0.328\n",
      "occ2[T.11]         -0.6424      0.309     -2.078      0.038      -1.248      -0.036\n",
      "occ2[T.12]         -0.0675      0.252     -0.268      0.789      -0.562       0.427\n",
      "occ2[T.13]         -0.2330      0.232     -1.006      0.314      -0.687       0.221\n",
      "occ2[T.14]          0.2562      0.323      0.794      0.427      -0.376       0.889\n",
      "occ2[T.15]         -0.1939      0.260     -0.747      0.455      -0.703       0.315\n",
      "occ2[T.16]         -0.0551      0.147     -0.375      0.708      -0.343       0.233\n",
      "occ2[T.17]         -0.4156      0.136     -3.053      0.002      -0.682      -0.149\n",
      "occ2[T.18]         -0.4822      1.044     -0.462      0.644      -2.530       1.565\n",
      "occ2[T.19]         -0.2579      0.333     -0.776      0.438      -0.910       0.394\n",
      "occ2[T.2]           0.1613      0.130      1.244      0.214      -0.093       0.416\n",
      "occ2[T.20]         -0.3010      0.234     -1.286      0.199      -0.760       0.158\n",
      "occ2[T.21]         -0.4272      0.221     -1.936      0.053      -0.860       0.005\n",
      "occ2[T.22]         -0.8695      0.298     -2.922      0.003      -1.453      -0.286\n",
      "occ2[T.3]           0.2102      0.169      1.246      0.213      -0.121       0.541\n",
      "occ2[T.4]           0.0709      0.184      0.386      0.700      -0.289       0.431\n",
      "occ2[T.5]          -0.3960      0.189     -2.100      0.036      -0.766      -0.026\n",
      "occ2[T.6]          -0.2311      0.187     -1.236      0.217      -0.598       0.135\n",
      "occ2[T.7]           0.3147      0.194      1.621      0.105      -0.066       0.695\n",
      "occ2[T.8]          -0.1875      0.169     -1.108      0.268      -0.519       0.144\n",
      "occ2[T.9]          -0.3390      0.167     -2.027      0.043      -0.667      -0.011\n",
      "ind2[T.11]         -0.4047      0.314     -1.288      0.198      -1.021       0.211\n",
      "ind2[T.12]         -0.1570      0.279     -0.562      0.574      -0.705       0.391\n",
      "ind2[T.13]         -0.4377      0.362     -1.210      0.226      -1.147       0.271\n",
      "ind2[T.14]         -0.0054      0.270     -0.020      0.984      -0.535       0.524\n",
      "ind2[T.15]          0.2004      0.501      0.400      0.689      -0.781       1.182\n",
      "ind2[T.16]          0.0102      0.300      0.034      0.973      -0.577       0.598\n",
      "ind2[T.17]         -0.2396      0.285     -0.841      0.401      -0.798       0.319\n",
      "ind2[T.18]         -0.1808      0.278     -0.649      0.516      -0.727       0.365\n",
      "ind2[T.19]         -0.3007      0.327     -0.921      0.357      -0.941       0.339\n",
      "ind2[T.2]           0.5806      0.481      1.207      0.227      -0.362       1.523\n",
      "ind2[T.20]         -0.3293      0.313     -1.052      0.293      -0.943       0.284\n",
      "ind2[T.21]         -0.1781      0.304     -0.586      0.558      -0.773       0.417\n",
      "ind2[T.22]          0.1765      0.296      0.596      0.551      -0.404       0.757\n",
      "ind2[T.3]          -0.6668      0.561     -1.189      0.234      -1.766       0.433\n",
      "ind2[T.4]           0.4858      0.350      1.389      0.165      -0.200       1.171\n",
      "ind2[T.5]           0.0512      0.298      0.172      0.863      -0.532       0.635\n",
      "ind2[T.6]          -0.0416      0.299     -0.139      0.889      -0.628       0.545\n",
      "ind2[T.7]           0.0758      0.387      0.196      0.845      -0.683       0.835\n",
      "ind2[T.8]          -0.1490      0.337     -0.441      0.659      -0.811       0.513\n",
      "ind2[T.9]          -0.2219      0.275     -0.808      0.419      -0.760       0.316\n",
      "sex                -0.0696      0.015     -4.570      0.000      -0.099      -0.040\n",
      "shs                -0.1233      0.907     -0.136      0.892      -1.901       1.654\n",
      "hsg                -0.5289      0.198     -2.675      0.008      -0.917      -0.141\n",
      "scl                -0.2921      0.126     -2.318      0.021      -0.539      -0.045\n",
      "clg                -0.0412      0.070     -0.585      0.559      -0.179       0.097\n",
      "mw                  0.1107      0.081      1.359      0.174      -0.049       0.270\n",
      "so                  0.0224      0.074      0.301      0.763      -0.123       0.168\n",
      "we                 -0.0216      0.084     -0.256      0.798      -0.187       0.143\n",
      "exp1                0.0835      0.094      0.884      0.377      -0.102       0.269\n",
      "exp1:occ2[T.10]     0.0076      0.058      0.130      0.897      -0.106       0.122\n",
      "exp1:occ2[T.11]     0.1014      0.101      1.009      0.313      -0.096       0.298\n",
      "exp1:occ2[T.12]    -0.0863      0.087     -0.986      0.324      -0.258       0.085\n",
      "exp1:occ2[T.13]     0.0067      0.076      0.088      0.930      -0.143       0.156\n",
      "exp1:occ2[T.14]    -0.1369      0.097     -1.405      0.160      -0.328       0.054\n",
      "exp1:occ2[T.15]    -0.0400      0.090     -0.445      0.656      -0.216       0.136\n",
      "exp1:occ2[T.16]    -0.0539      0.052     -1.035      0.301      -0.156       0.048\n",
      "exp1:occ2[T.17]     0.0147      0.047      0.315      0.753      -0.077       0.106\n",
      "exp1:occ2[T.18]     0.1074      0.472      0.228      0.820      -0.818       1.032\n",
      "exp1:occ2[T.19]     0.0047      0.106      0.044      0.965      -0.203       0.213\n",
      "exp1:occ2[T.2]     -0.0736      0.050     -1.469      0.142      -0.172       0.025\n",
      "exp1:occ2[T.20]     0.0243      0.074      0.327      0.744      -0.121       0.170\n",
      "exp1:occ2[T.21]     0.0792      0.070      1.136      0.256      -0.057       0.216\n",
      "exp1:occ2[T.22]     0.1093      0.088      1.241      0.215      -0.063       0.282\n",
      "exp1:occ2[T.3]     -0.0715      0.064     -1.121      0.262      -0.197       0.054\n",
      "exp1:occ2[T.4]     -0.0724      0.075     -0.968      0.333      -0.219       0.074\n",
      "exp1:occ2[T.5]      0.0947      0.079      1.192      0.233      -0.061       0.250\n",
      "exp1:occ2[T.6]     -0.0349      0.071     -0.490      0.624      -0.175       0.105\n",
      "exp1:occ2[T.7]     -0.2279      0.078     -2.904      0.004      -0.382      -0.074\n",
      "exp1:occ2[T.8]     -0.0727      0.065     -1.126      0.260      -0.199       0.054\n",
      "exp1:occ2[T.9]      0.0274      0.067      0.409      0.682      -0.104       0.159\n",
      "exp1:ind2[T.11]     0.1662      0.106      1.570      0.116      -0.041       0.374\n",
      "exp1:ind2[T.12]     0.1079      0.093      1.156      0.248      -0.075       0.291\n",
      "exp1:ind2[T.13]     0.1884      0.117      1.605      0.109      -0.042       0.418\n",
      "exp1:ind2[T.14]    -0.0071      0.089     -0.080      0.936      -0.182       0.168\n",
      "exp1:ind2[T.15]    -0.2081      0.203     -1.024      0.306      -0.607       0.190\n",
      "exp1:ind2[T.16]    -0.0665      0.099     -0.671      0.502      -0.261       0.128\n",
      "exp1:ind2[T.17]     0.0216      0.095      0.229      0.819      -0.164       0.207\n",
      "exp1:ind2[T.18]     0.0053      0.091      0.058      0.954      -0.172       0.183\n",
      "exp1:ind2[T.19]     0.0004      0.111      0.003      0.997      -0.217       0.217\n",
      "exp1:ind2[T.2]     -0.1513      0.164     -0.920      0.358      -0.474       0.171\n",
      "exp1:ind2[T.20]    -0.0186      0.102     -0.182      0.855      -0.219       0.182\n",
      "exp1:ind2[T.21]     0.0678      0.101      0.673      0.501      -0.130       0.265\n",
      "exp1:ind2[T.22]    -0.0367      0.096     -0.380      0.704      -0.226       0.152\n",
      "exp1:ind2[T.3]      0.3246      0.188      1.722      0.085      -0.045       0.694\n",
      "exp1:ind2[T.4]     -0.1365      0.114     -1.194      0.233      -0.361       0.088\n",
      "exp1:ind2[T.5]     -0.0256      0.096     -0.265      0.791      -0.215       0.163\n",
      "exp1:ind2[T.6]      0.0028      0.096      0.029      0.977      -0.185       0.191\n",
      "exp1:ind2[T.7]     -0.0483      0.133     -0.364      0.716      -0.309       0.212\n",
      "exp1:ind2[T.8]      0.0845      0.118      0.715      0.475      -0.147       0.316\n",
      "exp1:ind2[T.9]     -0.0153      0.087     -0.176      0.860      -0.186       0.156\n",
      "exp2               -0.5610      0.949     -0.591      0.554      -2.421       1.299\n",
      "exp2:occ2[T.10]    -0.2692      0.641     -0.420      0.674      -1.525       0.986\n",
      "exp2:occ2[T.11]    -1.0817      1.006     -1.075      0.282      -3.053       0.890\n",
      "exp2:occ2[T.12]     0.8324      0.934      0.891      0.373      -0.999       2.664\n",
      "exp2:occ2[T.13]    -0.2210      0.773     -0.286      0.775      -1.736       1.294\n",
      "exp2:occ2[T.14]     0.7511      0.927      0.810      0.418      -1.067       2.569\n",
      "exp2:occ2[T.15]    -0.0327      0.941     -0.035      0.972      -1.877       1.812\n",
      "exp2:occ2[T.16]     0.3636      0.551      0.660      0.509      -0.717       1.444\n",
      "exp2:occ2[T.17]    -0.2659      0.486     -0.547      0.584      -1.219       0.687\n",
      "exp2:occ2[T.18]    -2.5609      5.170     -0.495      0.620     -12.697       7.575\n",
      "exp2:occ2[T.19]    -0.1292      1.062     -0.122      0.903      -2.211       1.952\n",
      "exp2:occ2[T.2]      0.6632      0.552      1.201      0.230      -0.420       1.746\n",
      "exp2:occ2[T.20]    -0.3323      0.723     -0.460      0.646      -1.750       1.085\n",
      "exp2:occ2[T.21]    -0.9100      0.685     -1.328      0.184      -2.254       0.434\n",
      "exp2:occ2[T.22]    -0.8551      0.828     -1.033      0.302      -2.478       0.768\n",
      "exp2:occ2[T.3]      0.6415      0.710      0.903      0.366      -0.751       2.034\n",
      "exp2:occ2[T.4]      0.9748      0.866      1.126      0.260      -0.722       2.672\n",
      "exp2:occ2[T.5]     -0.9779      0.974     -1.004      0.315      -2.887       0.931\n",
      "exp2:occ2[T.6]      0.1051      0.800      0.131      0.896      -1.464       1.674\n",
      "exp2:occ2[T.7]      3.1407      0.939      3.345      0.001       1.300       4.981\n",
      "exp2:occ2[T.8]      0.6711      0.719      0.933      0.351      -0.739       2.081\n",
      "exp2:occ2[T.9]      0.0232      0.763      0.030      0.976      -1.472       1.519\n",
      "exp2:ind2[T.11]    -1.6804      1.080     -1.555      0.120      -3.798       0.438\n",
      "exp2:ind2[T.12]    -0.9717      0.935     -1.039      0.299      -2.804       0.861\n",
      "exp2:ind2[T.13]    -1.7679      1.156     -1.529      0.126      -4.035       0.499\n",
      "exp2:ind2[T.14]     0.1190      0.888      0.134      0.893      -1.622       1.860\n",
      "exp2:ind2[T.15]     2.3885      2.202      1.085      0.278      -1.928       6.705\n",
      "exp2:ind2[T.16]     0.8707      0.990      0.879      0.379      -1.070       2.812\n",
      "exp2:ind2[T.17]    -0.0030      0.948     -0.003      0.998      -1.862       1.856\n",
      "exp2:ind2[T.18]    -0.0033      0.889     -0.004      0.997      -1.746       1.740\n",
      "exp2:ind2[T.19]     0.2665      1.119      0.238      0.812      -1.927       2.460\n",
      "exp2:ind2[T.2]      2.1973      1.774      1.239      0.216      -1.280       5.675\n",
      "exp2:ind2[T.20]     0.2506      1.010      0.248      0.804      -1.729       2.231\n",
      "exp2:ind2[T.21]    -0.9154      1.015     -0.902      0.367      -2.904       1.074\n",
      "exp2:ind2[T.22]     0.3395      0.949      0.358      0.721      -1.522       2.201\n",
      "exp2:ind2[T.3]     -3.7396      1.959     -1.908      0.056      -7.581       0.102\n",
      "exp2:ind2[T.4]      1.0920      1.143      0.955      0.339      -1.149       3.333\n",
      "exp2:ind2[T.5]      0.1824      0.939      0.194      0.846      -1.658       2.023\n",
      "exp2:ind2[T.6]     -0.0304      0.930     -0.033      0.974      -1.853       1.792\n",
      "exp2:ind2[T.7]      0.7325      1.440      0.509      0.611      -2.090       3.555\n",
      "exp2:ind2[T.8]     -0.7507      1.203     -0.624      0.533      -3.108       1.607\n",
      "exp2:ind2[T.9]      0.4177      0.839      0.498      0.619      -1.227       2.062\n",
      "exp3                0.1293      0.357      0.363      0.717      -0.570       0.828\n",
      "exp3:occ2[T.10]     0.1855      0.258      0.720      0.471      -0.319       0.690\n",
      "exp3:occ2[T.11]     0.3932      0.382      1.030      0.303      -0.355       1.142\n",
      "exp3:occ2[T.12]    -0.2203      0.366     -0.602      0.547      -0.938       0.497\n",
      "exp3:occ2[T.13]     0.0950      0.290      0.327      0.744      -0.474       0.664\n",
      "exp3:occ2[T.14]    -0.1444      0.334     -0.432      0.666      -0.800       0.511\n",
      "exp3:occ2[T.15]     0.1477      0.365      0.405      0.685      -0.567       0.862\n",
      "exp3:occ2[T.16]    -0.0379      0.215     -0.176      0.860      -0.460       0.384\n",
      "exp3:occ2[T.17]     0.1510      0.188      0.804      0.421      -0.217       0.519\n",
      "exp3:occ2[T.18]     1.4084      1.885      0.747      0.455      -2.287       5.104\n",
      "exp3:occ2[T.19]     0.0923      0.404      0.228      0.819      -0.700       0.885\n",
      "exp3:occ2[T.2]     -0.2039      0.221     -0.922      0.356      -0.637       0.230\n",
      "exp3:occ2[T.20]     0.1807      0.265      0.681      0.496      -0.339       0.701\n",
      "exp3:occ2[T.21]     0.3779      0.255      1.480      0.139      -0.123       0.878\n",
      "exp3:occ2[T.22]     0.2855      0.298      0.957      0.339      -0.300       0.871\n",
      "exp3:occ2[T.3]     -0.2370      0.287     -0.826      0.409      -0.800       0.326\n",
      "exp3:occ2[T.4]     -0.4367      0.352     -1.241      0.215      -1.127       0.253\n",
      "exp3:occ2[T.5]      0.3885      0.412      0.943      0.346      -0.419       1.196\n",
      "exp3:occ2[T.6]      0.0485      0.329      0.147      0.883      -0.597       0.694\n",
      "exp3:occ2[T.7]     -1.3949      0.405     -3.444      0.001      -2.189      -0.601\n",
      "exp3:occ2[T.8]     -0.2054      0.290     -0.709      0.478      -0.773       0.362\n",
      "exp3:occ2[T.9]     -0.0910      0.314     -0.289      0.772      -0.707       0.525\n",
      "exp3:ind2[T.11]     0.6429      0.411      1.564      0.118      -0.163       1.449\n",
      "exp3:ind2[T.12]     0.3286      0.347      0.947      0.344      -0.351       1.009\n",
      "exp3:ind2[T.13]     0.5929      0.426      1.392      0.164      -0.242       1.428\n",
      "exp3:ind2[T.14]    -0.0285      0.328     -0.087      0.931      -0.672       0.615\n",
      "exp3:ind2[T.15]    -0.8569      0.844     -1.016      0.310      -2.511       0.797\n",
      "exp3:ind2[T.16]    -0.3558      0.368     -0.968      0.333      -1.077       0.365\n",
      "exp3:ind2[T.17]    -0.0363      0.352     -0.103      0.918      -0.727       0.654\n",
      "exp3:ind2[T.18]     0.0157      0.325      0.048      0.961      -0.621       0.653\n",
      "exp3:ind2[T.19]    -0.1488      0.421     -0.354      0.724      -0.974       0.676\n",
      "exp3:ind2[T.2]     -1.0448      0.707     -1.479      0.139      -2.430       0.341\n",
      "exp3:ind2[T.20]    -0.0679      0.370     -0.183      0.855      -0.794       0.658\n",
      "exp3:ind2[T.21]     0.3967      0.381      1.041      0.298      -0.351       1.144\n",
      "exp3:ind2[T.22]    -0.0760      0.349     -0.218      0.827      -0.760       0.608\n",
      "exp3:ind2[T.3]      1.6218      0.785      2.067      0.039       0.084       3.160\n",
      "exp3:ind2[T.4]     -0.3150      0.429     -0.735      0.463      -1.155       0.526\n",
      "exp3:ind2[T.5]     -0.0506      0.340     -0.149      0.882      -0.717       0.616\n",
      "exp3:ind2[T.6]      0.0193      0.336      0.058      0.954      -0.639       0.678\n",
      "exp3:ind2[T.7]     -0.3359      0.586     -0.573      0.567      -1.485       0.813\n",
      "exp3:ind2[T.8]      0.1893      0.452      0.419      0.675      -0.696       1.075\n",
      "exp3:ind2[T.9]     -0.2161      0.300     -0.721      0.471      -0.804       0.372\n",
      "exp4               -0.0053      0.045     -0.120      0.904      -0.093       0.082\n",
      "exp4:occ2[T.10]    -0.0333      0.034     -0.984      0.325      -0.100       0.033\n",
      "exp4:occ2[T.11]    -0.0466      0.048     -0.973      0.331      -0.141       0.047\n",
      "exp4:occ2[T.12]     0.0110      0.047      0.234      0.815      -0.081       0.103\n",
      "exp4:occ2[T.13]    -0.0137      0.036     -0.381      0.703      -0.084       0.057\n",
      "exp4:occ2[T.14]     0.0056      0.040      0.139      0.890      -0.073       0.084\n",
      "exp4:occ2[T.15]    -0.0327      0.046     -0.708      0.479      -0.123       0.058\n",
      "exp4:occ2[T.16]    -0.0090      0.028     -0.325      0.745      -0.063       0.045\n",
      "exp4:occ2[T.17]    -0.0257      0.024     -1.073      0.283      -0.073       0.021\n",
      "exp4:occ2[T.18]    -0.2121      0.220     -0.963      0.336      -0.644       0.220\n",
      "exp4:occ2[T.19]    -0.0169      0.051     -0.330      0.741      -0.118       0.084\n",
      "exp4:occ2[T.2]      0.0176      0.029      0.610      0.542      -0.039       0.074\n",
      "exp4:occ2[T.20]    -0.0296      0.032     -0.916      0.360      -0.093       0.034\n",
      "exp4:occ2[T.21]    -0.0525      0.032     -1.654      0.098      -0.115       0.010\n",
      "exp4:occ2[T.22]    -0.0351      0.036     -0.972      0.331      -0.106       0.036\n",
      "exp4:occ2[T.3]      0.0303      0.038      0.805      0.421      -0.044       0.104\n",
      "exp4:occ2[T.4]      0.0584      0.046      1.276      0.202      -0.031       0.148\n",
      "exp4:occ2[T.5]     -0.0515      0.055     -0.938      0.349      -0.159       0.056\n",
      "exp4:occ2[T.6]     -0.0170      0.044     -0.386      0.699      -0.103       0.069\n",
      "exp4:occ2[T.7]      0.1905      0.056      3.410      0.001       0.081       0.300\n",
      "exp4:occ2[T.8]      0.0197      0.038      0.518      0.604      -0.055       0.094\n",
      "exp4:occ2[T.9]      0.0190      0.042      0.451      0.652      -0.064       0.102\n",
      "exp4:ind2[T.11]    -0.0840      0.052     -1.619      0.106      -0.186       0.018\n",
      "exp4:ind2[T.12]    -0.0390      0.042     -0.918      0.359      -0.122       0.044\n",
      "exp4:ind2[T.13]    -0.0673      0.052     -1.297      0.195      -0.169       0.034\n",
      "exp4:ind2[T.14] -6.822e-05      0.040     -0.002      0.999      -0.079       0.078\n",
      "exp4:ind2[T.15]     0.0951      0.104      0.911      0.362      -0.110       0.300\n",
      "exp4:ind2[T.16]     0.0439      0.045      0.970      0.332      -0.045       0.132\n",
      "exp4:ind2[T.17]     0.0055      0.043      0.129      0.898      -0.079       0.090\n",
      "exp4:ind2[T.18]    -0.0063      0.039     -0.161      0.872      -0.084       0.071\n",
      "exp4:ind2[T.19]     0.0213      0.052      0.407      0.684      -0.081       0.124\n",
      "exp4:ind2[T.2]      0.1483      0.092      1.615      0.106      -0.032       0.328\n",
      "exp4:ind2[T.20]     0.0014      0.045      0.032      0.975      -0.087       0.089\n",
      "exp4:ind2[T.21]    -0.0550      0.047     -1.160      0.246      -0.148       0.038\n",
      "exp4:ind2[T.22]     0.0002      0.042      0.004      0.996      -0.083       0.083\n",
      "exp4:ind2[T.3]     -0.2369      0.107     -2.220      0.026      -0.446      -0.028\n",
      "exp4:ind2[T.4]      0.0273      0.053      0.511      0.609      -0.077       0.132\n",
      "exp4:ind2[T.5]      0.0042      0.041      0.103      0.918      -0.076       0.084\n",
      "exp4:ind2[T.6]     -0.0043      0.040     -0.108      0.914      -0.083       0.075\n",
      "exp4:ind2[T.7]      0.0481      0.078      0.613      0.540      -0.106       0.202\n",
      "exp4:ind2[T.8]     -0.0127      0.056     -0.226      0.821      -0.123       0.097\n",
      "exp4:ind2[T.9]      0.0305      0.035      0.861      0.389      -0.039       0.100\n",
      "exp1:shs           -0.1920      0.196     -0.982      0.326      -0.575       0.191\n",
      "exp1:hsg           -0.0173      0.057     -0.303      0.762      -0.130       0.095\n",
      "exp1:scl           -0.0665      0.043     -1.532      0.126      -0.151       0.019\n",
      "exp1:clg           -0.0550      0.031     -1.774      0.076      -0.116       0.006\n",
      "exp1:mw            -0.0280      0.030     -0.944      0.345      -0.086       0.030\n",
      "exp1:so            -0.0100      0.027     -0.374      0.709      -0.062       0.042\n",
      "exp1:we             0.0063      0.030      0.209      0.834      -0.053       0.065\n",
      "exp2:shs            1.9005      1.450      1.310      0.190      -0.943       4.744\n",
      "exp2:hsg            0.1172      0.551      0.213      0.832      -0.963       1.197\n",
      "exp2:scl            0.6218      0.463      1.343      0.179      -0.286       1.529\n",
      "exp2:clg            0.4097      0.380      1.077      0.281      -0.336       1.155\n",
      "exp2:mw             0.2006      0.317      0.632      0.527      -0.421       0.823\n",
      "exp2:so             0.0544      0.282      0.193      0.847      -0.498       0.606\n",
      "exp2:we             0.0013      0.321      0.004      0.997      -0.628       0.630\n",
      "exp3:shs           -0.6721      0.443     -1.518      0.129      -1.540       0.196\n",
      "exp3:hsg           -0.0180      0.208     -0.086      0.931      -0.426       0.390\n",
      "exp3:scl           -0.1998      0.186     -1.077      0.282      -0.563       0.164\n",
      "exp3:clg           -0.1025      0.164     -0.624      0.533      -0.425       0.220\n",
      "exp3:mw            -0.0626      0.124     -0.504      0.614      -0.306       0.181\n",
      "exp3:so            -0.0116      0.108     -0.107      0.915      -0.224       0.201\n",
      "exp3:we            -0.0125      0.125     -0.100      0.921      -0.258       0.233\n",
      "exp4:shs            0.0777      0.048      1.635      0.102      -0.015       0.171\n",
      "exp4:hsg            0.0005      0.027      0.018      0.985      -0.052       0.053\n",
      "exp4:scl            0.0211      0.025      0.859      0.390      -0.027       0.069\n",
      "exp4:clg            0.0079      0.023      0.346      0.729      -0.037       0.052\n",
      "exp4:mw             0.0062      0.016      0.393      0.694      -0.025       0.037\n",
      "exp4:so             0.0003      0.014      0.023      0.982      -0.026       0.027\n",
      "exp4:we             0.0018      0.016      0.111      0.912      -0.030       0.033\n",
      "==============================================================================\n",
      "Omnibus:                      395.012   Durbin-Watson:                   1.898\n",
      "Prob(Omnibus):                  0.000   Jarque-Bera (JB):             1529.250\n",
      "Skew:                           0.303   Prob(JB):                         0.00\n",
      "Kurtosis:                       5.600   Cond. No.                     6.87e+04\n",
      "==============================================================================\n",
      "\n",
      "Notes:\n",
      "[1] Standard Errors assume that the covariance matrix of the errors is correctly specified.\n",
      "[2] The condition number is large, 6.87e+04. This might indicate that there are\n",
      "strong multicollinearity or other numerical problems.\n",
      "Number of regressors in the basic model: 246 \n",
      "\n"
     ]
    }
   ],
   "source": [
    "# 2. flexible model\n",
    "flex = 'lwage ~ sex + shs+hsg+scl+clg+occ2+ind2+mw+so+we + (exp1+exp2+exp3+exp4)*(shs+hsg+scl+clg+occ2+ind2+mw+so+we)'\n",
    "flex_results_0 = smf.ols(flex, data=data)\n",
    "flex_results = smf.ols(flex, data=data).fit()\n",
    "print(flex_results.summary()) # estimated coefficients\n",
    "print( \"Number of regressors in the basic model:\",len(flex_results.params), '\\n') # number of regressors in the Flexible Model"
   ]
  },
  {
   "cell_type": "code",
   "execution_count": 5,
   "metadata": {},
   "outputs": [
    {
     "data": {
      "text/plain": [
       "(5150, 246)"
      ]
     },
     "execution_count": 5,
     "metadata": {},
     "output_type": "execute_result"
    }
   ],
   "source": [
    "# Get exogenous variables from flexible model\n",
    "X = flex_results_0.exog\n",
    "X.shape"
   ]
  },
  {
   "cell_type": "code",
   "execution_count": 6,
   "metadata": {},
   "outputs": [
    {
     "data": {
      "text/plain": [
       "(5150,)"
      ]
     },
     "execution_count": 6,
     "metadata": {},
     "output_type": "execute_result"
    }
   ],
   "source": [
    "# Set endogenous variable\n",
    "lwage = data[\"lwage\"]\n",
    "lwage.shape"
   ]
  },
  {
   "cell_type": "markdown",
   "metadata": {},
   "source": [
    "**2. Define a Range of Alpha (Lambda in our equation) Values**\n",
    "\n",
    "Create a list or array of alpha values to iterate over. These will be the different regularization strengths you will test. You should use at least 5 different values of alpha. Hint: You can use small numbers from 0.1 to 0.5"
   ]
  },
  {
   "cell_type": "code",
   "execution_count": 7,
   "metadata": {},
   "outputs": [],
   "source": [
    "alpha_values = [round(0.1 + i * 0.1, 1) for i in range(5)]"
   ]
  },
  {
   "cell_type": "markdown",
   "metadata": {},
   "source": [
    "**3. Partition the Dataset for k-Fold Cross-Validation**\n",
    "\n",
    "Divide the dataset into k subsets (or folds). If you are working with a regression task, ensure the data is shuffled. For classification tasks, the folds should be stratified."
   ]
  },
  {
   "cell_type": "markdown",
   "metadata": {},
   "source": [
    "check: https://scikit-learn.org/stable/modules/generated/sklearn.model_selection.KFold.html"
   ]
  },
  {
   "cell_type": "code",
   "execution_count": 9,
   "metadata": {},
   "outputs": [
    {
     "name": "stdout",
     "output_type": "stream",
     "text": [
      "Fold 0:\n",
      "  Train: index=[1717 1718 1719 ... 5147 5148 5149]\n",
      "  Test:  index=[   0    1    2 ... 1714 1715 1716]\n",
      "Fold 1:\n",
      "  Train: index=[   0    1    2 ... 5147 5148 5149]\n",
      "  Test:  index=[1717 1718 1719 ... 3431 3432 3433]\n",
      "Fold 2:\n",
      "  Train: index=[   0    1    2 ... 3431 3432 3433]\n",
      "  Test:  index=[3434 3435 3436 ... 5147 5148 5149]\n"
     ]
    }
   ],
   "source": [
    "kf = KFold(n_splits=3)\n",
    "\n",
    "for i, (train_index, test_index) in enumerate(kf.split(X)):\n",
    "     print(f\"Fold {i}:\")\n",
    "     print(f\"  Train: index={train_index}\")\n",
    "     print(f\"  Test:  index={test_index}\")"
   ]
  },
  {
   "cell_type": "markdown",
   "metadata": {},
   "source": [
    "**4. Lasso Regression Implementation**\n",
    "\n",
    "Implement a function to fit a Lasso Regression model given a training dataset and an alpha value. The function should return the model's coefficients and intercept."
   ]
  },
  {
   "cell_type": "code",
   "execution_count": null,
   "metadata": {},
   "outputs": [],
   "source": [
    "def cvK(X, y, tuning_params, partitions, k):\n",
    "  n_tuning_params = tuning_params.shape[0]\n",
    "\n",
    "  partition = partitions[k]\n",
    "  TRAIN = np.delete(np.arange(0, X.shape[0]), partition)\n",
    "  TEST = partition\n",
    "  X_train = X[TRAIN, :]\n",
    "  y_train = y[TRAIN]\n",
    "\n",
    "  X_test = X[TEST, :]\n",
    "  y_test = y[TEST]\n",
    "\n",
    "  accuracies = np.zeros(n_tuning_params)\n",
    "  for i in range(0, n_tuning_params):\n",
    "    lasso = svm.SVC(C = tuning_params[i], kernel = \"linear\") # change for lasso\n",
    "    accuracies[i] = svc.fit(X_train, y_train).score(X_test, y_test) # change for lasso\n",
    "  return accuracies"
   ]
  },
  {
   "cell_type": "code",
   "execution_count": null,
   "metadata": {},
   "outputs": [],
   "source": [
    "K = 5\n",
    "tuning_params = np.logspace(-6, -1, 10)\n",
    "partitions = np.array_split(np.random.permutation([i for i in range(0, X.shape[0])]), K)\n",
    "\n",
    "Accuracies = [cvK(X, y, tuning_params, partitions, k) for k in range(0, K)]\n",
    "\n",
    "CV_accuracy = np.mean(Accuracies, axis = 0)\n",
    "best_tuning_param = tuning_params[np.argmax(CV_accuracy)]\n",
    "print(best_tuning_param)"
   ]
  }
 ],
 "metadata": {
  "kernelspec": {
   "display_name": "base",
   "language": "python",
   "name": "python3"
  },
  "language_info": {
   "codemirror_mode": {
    "name": "ipython",
    "version": 3
   },
   "file_extension": ".py",
   "mimetype": "text/x-python",
   "name": "python",
   "nbconvert_exporter": "python",
   "pygments_lexer": "ipython3",
   "version": "3.9.16"
  }
 },
 "nbformat": 4,
 "nbformat_minor": 2
}
