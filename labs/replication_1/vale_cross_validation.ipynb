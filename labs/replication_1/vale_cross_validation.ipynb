{
 "cells": [
  {
   "cell_type": "markdown",
   "metadata": {},
   "source": [
    "### Cross-Validation in Lasso Regression - Manual Implementation Task"
   ]
  },
  {
   "cell_type": "code",
   "execution_count": 128,
   "metadata": {},
   "outputs": [],
   "source": [
    "# Libraries\n",
    "import numpy as np\n",
    "import pyreadr as rr\n",
    "import matplotlib.pyplot as plt\n",
    "import statsmodels.formula.api as smf\n",
    "\n",
    "from scipy.stats import pearsonr\n",
    "from sklearn.metrics import mean_absolute_error\n",
    "from sklearn.preprocessing import StandardScaler\n",
    "from sklearn.model_selection import KFold, train_test_split"
   ]
  },
  {
   "cell_type": "markdown",
   "metadata": {},
   "source": [
    "**1. Data Preparation**\n",
    "\n",
    "Load the March Supplement of the U.S. Current Population Survey, year 2015. (wage2015_subsample_inference.Rdata)"
   ]
  },
  {
   "cell_type": "code",
   "execution_count": 117,
   "metadata": {},
   "outputs": [],
   "source": [
    "rdata_read = rr.read_r(\"../../data/wage2015_subsample_inference.Rdata\")\n",
    "data = rdata_read[ 'data' ]"
   ]
  },
  {
   "cell_type": "code",
   "execution_count": 118,
   "metadata": {},
   "outputs": [
    {
     "name": "stdout",
     "output_type": "stream",
     "text": [
      "<class 'pandas.core.frame.DataFrame'>\n",
      "Index: 5150 entries, 10 to 32643\n",
      "Data columns (total 20 columns):\n",
      " #   Column  Non-Null Count  Dtype   \n",
      "---  ------  --------------  -----   \n",
      " 0   wage    5150 non-null   float64 \n",
      " 1   lwage   5150 non-null   float64 \n",
      " 2   sex     5150 non-null   float64 \n",
      " 3   shs     5150 non-null   float64 \n",
      " 4   hsg     5150 non-null   float64 \n",
      " 5   scl     5150 non-null   float64 \n",
      " 6   clg     5150 non-null   float64 \n",
      " 7   ad      5150 non-null   float64 \n",
      " 8   mw      5150 non-null   float64 \n",
      " 9   so      5150 non-null   float64 \n",
      " 10  we      5150 non-null   float64 \n",
      " 11  ne      5150 non-null   float64 \n",
      " 12  exp1    5150 non-null   float64 \n",
      " 13  exp2    5150 non-null   float64 \n",
      " 14  exp3    5150 non-null   float64 \n",
      " 15  exp4    5150 non-null   float64 \n",
      " 16  occ     5150 non-null   category\n",
      " 17  occ2    5150 non-null   category\n",
      " 18  ind     5150 non-null   category\n",
      " 19  ind2    5150 non-null   category\n",
      "dtypes: category(4), float64(16)\n",
      "memory usage: 736.3+ KB\n"
     ]
    }
   ],
   "source": [
    "data.info()"
   ]
  },
  {
   "cell_type": "markdown",
   "metadata": {},
   "source": [
    "We get the parameters vector (X) and the endogenous variable (y) from flexible model"
   ]
  },
  {
   "cell_type": "code",
   "execution_count": 119,
   "metadata": {},
   "outputs": [],
   "source": [
    "# We choose the parameters from flexible model (includes interactions)\n",
    "flex = 'lwage ~ sex + shs+hsg+scl+clg+occ2+ind2+mw+so+we + (exp1+exp2+exp3+exp4)*(shs+hsg+scl+clg+occ2+ind2+mw+so+we)'\n",
    "flex_results_0 = smf.ols(flex, data=data)"
   ]
  },
  {
   "cell_type": "code",
   "execution_count": 120,
   "metadata": {},
   "outputs": [],
   "source": [
    "# Get exogenous variables from flexible model\n",
    "X = flex_results_0.exog\n",
    "\n",
    "# Set endogenous variable\n",
    "y = data[\"lwage\"]"
   ]
  },
  {
   "cell_type": "code",
   "execution_count": 121,
   "metadata": {},
   "outputs": [],
   "source": [
    "# Separate the data into train and test\n",
    "X_train, X_test, y_train, y_test = train_test_split(X, y, test_size=0.2, random_state=24)"
   ]
  },
  {
   "cell_type": "code",
   "execution_count": 122,
   "metadata": {},
   "outputs": [],
   "source": [
    "# Se estandariza la data\n",
    "scale = StandardScaler()\n",
    "X_train = scale.fit_transform(X_train)\n",
    "X_test = scale.transform(X_test)"
   ]
  },
  {
   "cell_type": "markdown",
   "metadata": {},
   "source": [
    "**2. Define a Range of Alpha (Lambda in our equation) Values**\n",
    "\n",
    "We create a list or array of alpha values to iterate over. These will be the different regularization parameters we test. We started testing from 0.1 to 0.5 and found that the MSE in cross-validation was reducing when the alpha value was incrementing. Therefore, we tried with higher values."
   ]
  },
  {
   "cell_type": "code",
   "execution_count": 142,
   "metadata": {},
   "outputs": [],
   "source": [
    "alphas = [(45 + i * 5) for i in range(5)]"
   ]
  },
  {
   "cell_type": "markdown",
   "metadata": {},
   "source": [
    "**3. Partition the Dataset for k-Fold Cross-Validation**\n",
    "\n",
    "We divide the dataset into 5 subsets (or folds). Since we are working with a regression task (predicting the log of wage), we use the K-Fold cross-validator from sklearn. We ensure the data is shuffled by adding 'shuffle=True' and set a random state for a reproducible output. \n",
    "\n",
    "Source: https://scikit-learn.org/stable/modules/generated/sklearn.model_selection.KFold.html"
   ]
  },
  {
   "cell_type": "code",
   "execution_count": 143,
   "metadata": {},
   "outputs": [],
   "source": [
    "kf = KFold(n_splits=5, shuffle=True, random_state=24)"
   ]
  },
  {
   "cell_type": "markdown",
   "metadata": {},
   "source": [
    "**4. Lasso Regression Implementation**\n",
    "\n",
    "Implement a function to fit a Lasso Regression model given a training dataset and an alpha value. The function should return the model's coefficients and intercept."
   ]
  },
  {
   "cell_type": "code",
   "execution_count": 138,
   "metadata": {},
   "outputs": [],
   "source": [
    "def lasso_regression(X_train, y_train, alpha, iterations=100, learning_rate=0.01):\n",
    "    \"\"\"\n",
    "    Fits a Lasso Regression model\n",
    "\n",
    "    Args:\n",
    "        X_train: Training features\n",
    "        y_train: Target values\n",
    "        alpha: Regularization parameter (L1 penalty)\n",
    "        iterations: Number of iterations for gradient descent (default: 100)\n",
    "        learning_rate: Learning rate for gradient descent (default: 0.01)\n",
    "\n",
    "    Returns:\n",
    "        W: Model coefficients (weights)\n",
    "        b: Model intercept (bias)\n",
    "    \"\"\"\n",
    "    m, n = X_train.shape\n",
    "    W = np.zeros(n)\n",
    "    b = 0\n",
    "\n",
    "    for _ in range(iterations):\n",
    "        Y_pred = X_train.dot(W) + b\n",
    "        dW = np.zeros(n)\n",
    "        for j in range(n):\n",
    "            if W[j] > 0:\n",
    "                dW[j] = (-2 * X_train[:, j].dot(y_train - Y_pred) + alpha) / m\n",
    "            else:\n",
    "                dW[j] = (-2 * X_train[:, j].dot(y_train - Y_pred) - alpha) / m\n",
    "        db = -2 * np.sum(y_train - Y_pred) / m\n",
    "        W -= learning_rate * dW\n",
    "        b -= learning_rate * db\n",
    "\n",
    "    return W, b"
   ]
  },
  {
   "cell_type": "markdown",
   "metadata": {},
   "source": [
    "**5. Cross-Validation Loop**\n",
    "\n",
    "We immplement a for loop to fit the lasso regression.\n",
    "\n",
    "**6. Selection of Optimal Alpha**\n",
    "\n",
    "Also, we find the best value of alpha that reduces the average MSE for each fold."
   ]
  },
  {
   "cell_type": "code",
   "execution_count": 144,
   "metadata": {},
   "outputs": [
    {
     "name": "stdout",
     "output_type": "stream",
     "text": [
      "Alpha=45.0, Average MSE: 0.41942\n",
      "Alpha=50.0, Average MSE: 0.41920\n",
      "Alpha=55.0, Average MSE: 0.41912\n",
      "Alpha=60.0, Average MSE: 0.41906\n",
      "Alpha=65.0, Average MSE: 0.41907\n",
      "Best Alpha: 60.0, Minimum Average MSE: 0.41906\n"
     ]
    },
    {
     "data": {
      "image/png": "[encoded data removed]",
      "text/plain": [
       "<Figure size 800x600 with 1 Axes>"
      ]
     },
     "metadata": {},
     "output_type": "display_data"
    }
   ],
   "source": [
    "avg_mse_values = []\n",
    "best_alpha = None\n",
    "min_avg_mse = float('inf')\n",
    "\n",
    "for alpha in alphas:\n",
    "    mse_list = []  # Initialize an empty list to keep track of the MSE for each fold.\n",
    "    for train_index, val_index in kf.split(X_train):\n",
    "        X_train_fold, X_val_fold = X_train[train_index], X_train[val_index]\n",
    "        y_train_fold, y_val_fold = y_train[train_index], y_train[val_index]\n",
    "\n",
    "        # Train Lasso regression model with the current alpha\n",
    "        W, b = lasso_regression(X_train_fold, y_train_fold, alpha)\n",
    "        y_pred_val = X_val_fold.dot(W) + b\n",
    "\n",
    "        # Calculate MSE for this fold\n",
    "        mse_fold = np.mean((y_val_fold - y_pred_val) ** 2)\n",
    "        mse_list.append(mse_fold)\n",
    "\n",
    "    # Calculate average MSE across all folds\n",
    "    avg_mse = np.mean(mse_list)\n",
    "    avg_mse_values.append(avg_mse)\n",
    "    print(f\"Alpha={alpha:.1f}, Average MSE: {avg_mse:.5f}\")\n",
    "\n",
    "    # Update the best alpha and minimum average MSE\n",
    "    if avg_mse < min_avg_mse:\n",
    "        min_avg_mse = avg_mse\n",
    "        best_alpha = alpha\n",
    "\n",
    "print(f\"Best Alpha: {best_alpha:.1f}, Minimum Average MSE: {min_avg_mse:.5f}\")\n",
    "\n",
    "# Plotting the cross-validated MSE for each alpha value\n",
    "plt.figure(figsize=(8, 6))\n",
    "plt.plot(alphas, avg_mse_values, marker='o', linestyle='-')\n",
    "plt.title('Cross-Validated MSE for Different Alpha Values')\n",
    "plt.xlabel('Alpha')\n",
    "plt.ylabel('Average MSE')\n",
    "plt.xticks(alphas)\n",
    "plt.grid(True)\n",
    "plt.show()"
   ]
  },
  {
   "cell_type": "markdown",
   "metadata": {},
   "source": [
    "**7. Model Training and Evaluation**"
   ]
  },
  {
   "cell_type": "code",
   "execution_count": 145,
   "metadata": {},
   "outputs": [],
   "source": [
    "W, b = lasso_regression(X_train, y_train, best_alpha)\n",
    "y_pred = X_test.dot(W) + b"
   ]
  },
  {
   "cell_type": "code",
   "execution_count": 146,
   "metadata": {},
   "outputs": [
    {
     "name": "stdout",
     "output_type": "stream",
     "text": [
      "Correlación: 0.5041\n",
      "MAE: 0.4756\n"
     ]
    }
   ],
   "source": [
    "lasso_corr = pearsonr(y_test, y_pred)[0]\n",
    "lasso_mae = mean_absolute_error(y_test, y_pred)\n",
    "\n",
    "print(f\"Correlación: {lasso_corr:.4f}\")\n",
    "print(f\"MAE: {lasso_mae:.4f}\")"
   ]
  },
  {
   "cell_type": "markdown",
   "metadata": {},
   "source": [
    "**8. Report Results**"
   ]
  },
  {
   "cell_type": "code",
   "execution_count": null,
   "metadata": {},
   "outputs": [],
   "source": []
  }
 ],
 "metadata": {
  "kernelspec": {
   "display_name": "base",
   "language": "python",
   "name": "python3"
  },
  "language_info": {
   "codemirror_mode": {
    "name": "ipython",
    "version": 3
   },
   "file_extension": ".py",
   "mimetype": "text/x-python",
   "name": "python",
   "nbconvert_exporter": "python",
   "pygments_lexer": "ipython3",
   "version": "3.9.16"
  }
 },
 "nbformat": 4,
 "nbformat_minor": 2
}
