{
 "cells": [
  {
   "cell_type": "markdown",
   "metadata": {},
   "source": [
    "# An inferential problem: The Gender Wage Gap"
   ]
  },
  {
   "cell_type": "markdown",
   "metadata": {
    "papermill": {
     "duration": 0.019386,
     "end_time": "2021-02-21T17:17:47.847419",
     "exception": false,
     "start_time": "2021-02-21T17:17:47.828033",
     "status": "completed"
    },
    "tags": []
   },
   "source": [
    "In the previous lab, we already analyzed data from the March Supplement of the U.S. Current Population Survey (2015) and answered the question how to use job-relevant characteristics, such as education and experience, to best predict wages. Now, we focus on the following inference question:\n",
    "\n",
    "What is the difference in predicted wages between men and women with the same job-relevant characteristics?\n",
    "\n",
    "Thus, we analyze if there is a difference in the payment of men and women (*gender wage gap*). The gender wage gap may partly reflect *discrimination* against women in the labor market or may partly reflect a *selection effect*, namely that women are relatively more likely to take on occupations that pay somewhat less (for example, school teaching)."
   ]
  },
  {
   "cell_type": "markdown",
   "metadata": {
    "papermill": {
     "duration": 0.018623,
     "end_time": "2021-02-21T17:17:47.884840",
     "exception": false,
     "start_time": "2021-02-21T17:17:47.866217",
     "status": "completed"
    },
    "tags": []
   },
   "source": [
    "To investigate the gender wage gap, we consider the following log-linear regression model\n",
    "\n",
    "\\begin{align}\n",
    "\\log(Y) &= \\beta'X + \\epsilon\\\\\n",
    "&= \\beta_1 D  + \\beta_2' W + \\epsilon,\n",
    "\\end{align}\n",
    "\n",
    "where $D$ is the indicator of being female ($1$ if female and $0$ otherwise) and the\n",
    "$W$'s are controls explaining variation in wages. Considering transformed wages by the logarithm, we are analyzing the relative difference in the payment of men and women."
   ]
  },
  {
   "cell_type": "markdown",
   "metadata": {},
   "source": [
    "***Variable description***\n",
    "\n",
    "- occ : occupational classification\n",
    "- ind : industry classification\n",
    "- lwage : log hourly wage\n",
    "- sex : gender (1 female) (0 male)\n",
    "- shs : some high school\n",
    "- hsg : High school graduated\n",
    "- scl : Some College\n",
    "- clg: College Graduate\n",
    "- ad: Advanced Degree\n",
    "- ne: Northeast\n",
    "- mw: Midwest\n",
    "- so: South\n",
    "- we: West\n",
    "- exp1: experience"
   ]
  },
  {
   "cell_type": "markdown",
   "metadata": {},
   "source": [
    "### **1.  Analysis in the subset of workers with advanced college education (variables scl, clg, ad).**"
   ]
  },
  {
   "cell_type": "markdown",
   "metadata": {},
   "source": [
    "Next, we will conduct an analysis for the subset of workers with advanced college education. To do this, we will restrict our data and keep only those who have Some College, College Graduate, or Advanced Degree. "
   ]
  },
  {
   "cell_type": "markdown",
   "metadata": {
    "papermill": {
     "duration": 0.020634,
     "end_time": "2021-02-21T17:17:48.532828",
     "exception": false,
     "start_time": "2021-02-21T17:17:48.512194",
     "status": "completed"
    },
    "tags": []
   },
   "source": [
    "In particular, the table above shows that the difference in average *logwage* between men and women  with higher education is equal to $0.0750$"
   ]
  },
  {
   "cell_type": "markdown",
   "metadata": {
    "papermill": {
     "duration": 0.022161,
     "end_time": "2021-02-21T17:17:48.635417",
     "exception": false,
     "start_time": "2021-02-21T17:17:48.613256",
     "status": "completed"
    },
    "tags": []
   },
   "source": [
    "Thus, the unconditional gender wage gap is about $7,5$\\% for the group of never married workers (women get paid less on average in our sample). "
   ]
  },
  {
   "cell_type": "markdown",
   "metadata": {
    "papermill": {
     "duration": 0.020929,
     "end_time": "2021-02-21T17:17:48.718630",
     "exception": false,
     "start_time": "2021-02-21T17:17:48.697701",
     "status": "completed"
    },
    "tags": []
   },
   "source": [
    "#### 1.1 OLS estimation without controls"
   ]
  },
  {
   "cell_type": "markdown",
   "metadata": {},
   "source": [
    "#### 1.2 OLS estimation with controls"
   ]
  },
  {
   "cell_type": "markdown",
   "metadata": {
    "papermill": {
     "duration": 0.021605,
     "end_time": "2021-02-21T17:17:49.034485",
     "exception": false,
     "start_time": "2021-02-21T17:17:49.012880",
     "status": "completed"
    },
    "tags": []
   },
   "source": [
    "Next, we run an ols regression of $Y$ on $(D,W)$ to control for the effect of covariates summarized in $W$:\n",
    "\n",
    "\\begin{align}\n",
    "\\log(Y) &=\\beta_1 D  + \\beta_2' W + \\epsilon.\n",
    "\\end{align}\n",
    "\n",
    "Here, we are considering the flexible model from the previous lab. Hence, $W$ controls for experience, education, region, and occupation and industry indicators plus transformations and two-way interactions."
   ]
  },
  {
   "cell_type": "markdown",
   "metadata": {
    "papermill": {
     "duration": 0.023222,
     "end_time": "2021-02-21T17:17:49.931749",
     "exception": false,
     "start_time": "2021-02-21T17:17:49.908527",
     "status": "completed"
    },
    "tags": []
   },
   "source": [
    "#### 1.3 Partialling-Out using ols"
   ]
  },
  {
   "cell_type": "markdown",
   "metadata": {
    "papermill": {
     "duration": 0.024507,
     "end_time": "2021-02-21T17:17:50.507023",
     "exception": false,
     "start_time": "2021-02-21T17:17:50.482516",
     "status": "completed"
    },
    "tags": []
   },
   "source": [
    "We know that the partialling-out approach works well when the dimension of $W$ is low\n",
    "in relation to the sample size $n$. When the dimension of $W$ is relatively high, we need to use variable selection\n",
    "or penalization for regularization purposes. \n",
    "\n",
    "In the following, we illustrate the partialling-out approach using lasso instead of ols. "
   ]
  },
  {
   "cell_type": "markdown",
   "metadata": {
    "papermill": {
     "duration": 0.024337,
     "end_time": "2021-02-21T17:17:54.368605",
     "exception": false,
     "start_time": "2021-02-21T17:17:54.344268",
     "status": "completed"
    },
    "tags": []
   },
   "source": [
    "Next, we summarize the results."
   ]
  },
  {
   "cell_type": "markdown",
   "metadata": {
    "papermill": {
     "duration": 0.025752,
     "end_time": "2021-02-21T17:17:54.682415",
     "exception": false,
     "start_time": "2021-02-21T17:17:54.656663",
     "status": "completed"
    },
    "tags": []
   },
   "source": [
    "Next we try \"extra\" flexible model, where we take interactions of all controls, giving us about 1000 controls."
   ]
  },
  {
   "cell_type": "markdown",
   "metadata": {
    "papermill": {
     "duration": 0.028689,
     "end_time": "2021-02-21T17:18:37.699906",
     "exception": false,
     "start_time": "2021-02-21T17:18:37.671217",
     "status": "completed"
    },
    "tags": []
   },
   "source": [
    "### **2.   Descriptive statistics subset of workers with advanced college education (variables scl, clg, ad).**\n"
   ]
  },
  {
   "cell_type": "markdown",
   "metadata": {},
   "source": [
    "##### 2.1)  Wage & Lwage"
   ]
  },
  {
   "cell_type": "markdown",
   "metadata": {},
   "source": [
    "#### 2.2 Descriptive data by gender"
   ]
  },
  {
   "cell_type": "markdown",
   "metadata": {},
   "source": [
    "### **3. Confidence Interval of sex's coefficient for a different models:**\n"
   ]
  },
  {
   "cell_type": "markdown",
   "metadata": {},
   "source": [
    "### **4. Replication of the figure: Experience Profiles and Wage Gap for High School Graduates**\n"
   ]
  },
  {
   "cell_type": "markdown",
   "metadata": {
    "vscode": {
     "languageId": "r"
    }
   },
   "source": [
    "### Now, we will construct a prediction rule for (log) hourly wage **Y**, which depends linearly on job-relevant characteristics **X**:\r\n",
    "\r\n",
    "$$\r\n",
    "Y = \\beta'X + \\epsilon\r\n",
    "$$\r\n",
    "\r\n",
    "Our goals are:\r\n",
    "\r\n",
    "- Predict wages using various characteristics of workers.\r\n",
    "- Assess the predictive performance of a given model using the (adjusted) sample MSE, the (adjusted) sample $R^2$ and the out-of-sample MSE and $R^2$.\r\n",
    "\r\n",
    "Toward answering the latter, we measure the prediction quality of the two models via data splitting:\r\n",
    "\r\n",
    "1. Randomly split the data into one training sample and one testing sample. Here we just use a simple method (stratified splitting is a more sophisticated version of splitting that we might consider).\r\n",
    "2. Use the training sample to estimate the parameters of the Basic Model and the Flexible Model.\r\n",
    "\r\n",
    "Before using the testing sample, we evaluate in-sample fit.\r\n"
   ]
  },
  {
   "cell_type": "code",
   "execution_count": 19,
   "metadata": {},
   "outputs": [
    {
     "name": "stdout",
     "output_type": "stream",
     "text": [
      "[0.1 0.2 0.3 0.4 0.5]\n"
     ]
    }
   ],
   "source": [
    "import pandas as pd\n",
    "import numpy as np\n",
    "from sklearn.linear_model import LassoCV, LinearRegression\n",
    "from sklearn.metrics import mean_squared_error\n",
    "import matplotlib.pyplot as plt\n",
    "import seaborn as sns\n",
    "import statsmodels.api as sm\n",
    "import statsmodels.formula.api as smf\n",
    "\n",
    "# Load the data\n",
    "data = pd.read_csv(\"../../data/wage2015_subsample_inference.csv\")\n",
    "# Define alpha values for Lasso\n",
    "alphas = np.linspace(0.1, 0.5, 5)\n",
    "print(alphas)"
   ]
  },
  {
   "cell_type": "code",
   "execution_count": 20,
   "metadata": {},
   "outputs": [],
   "source": [
    "# Split data into training and test sets\n",
    "np.random.seed(1)\n",
    "train_indices = np.random.choice(data.index, size=int(len(data) * 0.8), replace=False)\n",
    "train = data.loc[train_indices]\n",
    "test = data.drop(train_indices)\n",
    "\n",
    "# Define categorical variables for future code\n",
    "categorical_features = ['occ2', 'ind2']\n",
    "continuous_features = ['sex', 'exp1', 'shs', 'hsg', 'scl', 'clg', 'mw', 'so', 'we', 'exp2', 'exp3', 'exp4']"
   ]
  },
  {
   "cell_type": "code",
   "execution_count": 34,
   "metadata": {},
   "outputs": [
    {
     "name": "stdout",
     "output_type": "stream",
     "text": [
      "Number of regressors in the basic model: 12\n",
      "                            OLS Regression Results                            \n",
      "==============================================================================\n",
      "Dep. Variable:                  lwage   R-squared:                       0.226\n",
      "Model:                            OLS   Adj. R-squared:                  0.224\n",
      "Method:                 Least Squares   F-statistic:                     109.2\n",
      "Date:                Sat, 13 Apr 2024   Prob (F-statistic):          2.86e-219\n",
      "Time:                        22:24:34   Log-Likelihood:                -2991.7\n",
      "No. Observations:                4120   AIC:                             6007.\n",
      "Df Residuals:                    4108   BIC:                             6083.\n",
      "Df Model:                          11                                         \n",
      "Covariance Type:            nonrobust                                         \n",
      "==============================================================================\n",
      "                 coef    std err          t      P>|t|      [0.025      0.975]\n",
      "------------------------------------------------------------------------------\n",
      "Intercept      3.6594      0.039     94.333      0.000       3.583       3.735\n",
      "sex           -0.0987      0.016     -6.028      0.000      -0.131      -0.067\n",
      "exp1           0.0087      0.001     11.446      0.000       0.007       0.010\n",
      "shs           -0.7151      0.056    -12.865      0.000      -0.824      -0.606\n",
      "hsg           -0.5582      0.029    -19.033      0.000      -0.616      -0.501\n",
      "scl           -0.4299      0.027    -15.779      0.000      -0.483      -0.377\n",
      "clg           -0.1897      0.026     -7.394      0.000      -0.240      -0.139\n",
      "mw            -0.0272      0.023     -1.205      0.228      -0.071       0.017\n",
      "so            -0.0219      0.022     -1.006      0.315      -0.065       0.021\n",
      "we             0.0075      0.024      0.320      0.749      -0.039       0.054\n",
      "occ2          -0.0192      0.001    -14.866      0.000      -0.022      -0.017\n",
      "ind2          -0.0146      0.001     -9.832      0.000      -0.017      -0.012\n",
      "==============================================================================\n",
      "Omnibus:                      297.639   Durbin-Watson:                   2.012\n",
      "Prob(Omnibus):                  0.000   Jarque-Bera (JB):              975.392\n",
      "Skew:                           0.335   Prob(JB):                    1.57e-212\n",
      "Kurtosis:                       5.288   Cond. No.                         191.\n",
      "==============================================================================\n",
      "\n",
      "Notes:\n",
      "[1] Standard Errors assume that the covariance matrix of the errors is correctly specified.\n"
     ]
    }
   ],
   "source": [
    "# Basic model using OLS\n",
    "formula_basic = 'lwage ~ sex + exp1 + shs + hsg+ scl + clg + mw + so + we + occ2+ ind2'\n",
    "model_basic = smf.ols(formula_basic, data=train).fit()\n",
    "print(\"Number of regressors in the basic model:\", len(model_basic.params))\n",
    "print(model_basic.summary())"
   ]
  },
  {
   "cell_type": "code",
   "execution_count": 35,
   "metadata": {},
   "outputs": [
    {
     "name": "stdout",
     "output_type": "stream",
     "text": [
      "Number of regressors in the flexible model: 51\n"
     ]
    }
   ],
   "source": [
    "# Flexible model using OLS\n",
    "formula_flex = 'lwage ~ sex + shs+hsg+scl+clg+occ2+ind2+mw+so+we + (exp1+exp2+exp3+exp4)*(shs+hsg+scl+clg+occ2+ind2+mw+so+we)'\n",
    "model_flex = smf.ols(formula_flex, data=train).fit()\n",
    "print(\"Number of regressors in the flexible model:\", len(model_flex.params))"
   ]
  },
  {
   "cell_type": "code",
   "execution_count": 23,
   "metadata": {},
   "outputs": [],
   "source": [
    "# Flexible model using Lasso, in-sample fit\n",
    "y_train = train['lwage']\n",
    "X_train = pd.get_dummies(train[features], drop_first=True)\n",
    "lasso_cv = LassoCV(alphas=alphas, cv=5).fit(X_train, y_train)"
   ]
  },
  {
   "cell_type": "code",
   "execution_count": 24,
   "metadata": {},
   "outputs": [],
   "source": [
    "# Results storage\n",
    "results = pd.DataFrame({\n",
    "    'alpha': lasso_cv.alphas_,\n",
    "    'mse': np.mean(lasso_cv.mse_path_, axis=1),\n",
    "    'lambda_min': lasso_cv.alpha_,\n",
    "    'nzero': np.sum(lasso_cv.coef_ != 0)\n",
    "})"
   ]
  },
  {
   "cell_type": "code",
   "execution_count": 25,
   "metadata": {},
   "outputs": [
    {
     "name": "stdout",
     "output_type": "stream",
     "text": [
      "   alpha       mse  lambda_min  nzero\n",
      "4    0.1  0.282819         0.1      4\n",
      "3    0.2  0.285540         0.1      4\n",
      "2    0.3  0.290279         0.1      4\n",
      "1    0.4  0.292828         0.1      4\n",
      "0    0.5  0.294752         0.1      4\n"
     ]
    }
   ],
   "source": [
    "# Display results\n",
    "results_sorted = results.sort_values(by='mse')\n",
    "print(results_sorted)"
   ]
  },
  {
   "cell_type": "code",
   "execution_count": 26,
   "metadata": {},
   "outputs": [
    {
     "name": "stderr",
     "output_type": "stream",
     "text": [
      "C:\\Users\\Josue\\anaconda3\\Lib\\site-packages\\seaborn\\_oldcore.py:1119: FutureWarning: use_inf_as_na option is deprecated and will be removed in a future version. Convert inf values to NaN before operating instead.\n",
      "  with pd.option_context('mode.use_inf_as_na', True):\n",
      "C:\\Users\\Josue\\anaconda3\\Lib\\site-packages\\seaborn\\_oldcore.py:1119: FutureWarning: use_inf_as_na option is deprecated and will be removed in a future version. Convert inf values to NaN before operating instead.\n",
      "  with pd.option_context('mode.use_inf_as_na', True):\n"
     ]
    },
    {
     "data": {
      "image/png": "[encoded data removed]",
      "text/plain": [
       "<Figure size 640x480 with 1 Axes>"
      ]
     },
     "metadata": {},
     "output_type": "display_data"
    }
   ],
   "source": [
    "# Plotting the results\n",
    "sns.lineplot(data=results_sorted, x='alpha', y='mse')\n",
    "plt.title('Cross-validated MSE for each Alpha')\n",
    "plt.show()"
   ]
  },
  {
   "cell_type": "markdown",
   "metadata": {},
   "source": [
    "### Data Splitting: Out-of-sample performance\n",
    "\n",
    "Now that we have seen in-sample fit, we evaluate our models on the out-of-sample performance:\n",
    "\n",
    "1. Use the testing sample for evaluation. Predict the **wage** of every observation in the testing sample based on the estimated parameters in the training sample.\n",
    "2. Calculate the Mean Squared Prediction Error (**MSE<sub>test</sub>**) based on the testing sample for both prediction models.\n",
    "\n"
   ]
  },
  {
   "cell_type": "code",
   "execution_count": 27,
   "metadata": {},
   "outputs": [],
   "source": [
    "# Out-of-sample performance\n",
    "y_test = test['lwage']\n",
    "X_test = pd.get_dummies(test[features], drop_first=True)"
   ]
  },
  {
   "cell_type": "code",
   "execution_count": 28,
   "metadata": {},
   "outputs": [],
   "source": [
    "# Basic model\n",
    "y_hat_test_basic = model_basic.predict(sm.add_constant(X_test))\n",
    "mse_test_basic = mean_squared_error(y_test, y_hat_test_basic)\n",
    "r2_test_basic = 1 - mse_test_basic / np.var(y_test)\n"
   ]
  },
  {
   "cell_type": "code",
   "execution_count": 29,
   "metadata": {},
   "outputs": [],
   "source": [
    "# Flexible model\n",
    "y_hat_test_flex = model_flex.predict(sm.add_constant(X_test))\n",
    "mse_test_flex = mean_squared_error(y_test, y_hat_test_flex)\n",
    "r2_test_flex = 1 - mse_test_flex / np.var(y_test)"
   ]
  },
  {
   "cell_type": "code",
   "execution_count": 30,
   "metadata": {},
   "outputs": [],
   "source": [
    "# Lasso model\n",
    "y_hat_test_lasso = lasso_cv.predict(X_test)\n",
    "mse_test_lasso = mean_squared_error(y_test, y_hat_test_lasso)\n",
    "r2_test_lasso = 1 - mse_test_lasso / np.var(y_test)"
   ]
  },
  {
   "cell_type": "code",
   "execution_count": 31,
   "metadata": {
    "scrolled": true
   },
   "outputs": [
    {
     "name": "stdout",
     "output_type": "stream",
     "text": [
      "Test MSE for the basic model: 0.24905335727751943 Test R2 for the basic model: 0.25199179595198007\n",
      "Test MSE for the flexible model: 0.25385394449047566 Test R2 for the flexible model: 0.2375736862794492\n",
      "Test MSE for the lasso on flexible model: 0.288337620863549 Test R2 for the lasso flexible model: 0.13400522563005712\n"
     ]
    }
   ],
   "source": [
    "# Print MSE and R^2\n",
    "print(\"Test MSE for the basic model:\", mse_test_basic, \"Test R2 for the basic model:\", r2_test_basic)\n",
    "print(\"Test MSE for the flexible model:\", mse_test_flex, \"Test R2 for the flexible model:\", r2_test_flex)\n",
    "print(\"Test MSE for the lasso on flexible model:\", mse_test_lasso, \"Test R2 for the lasso flexible model:\", r2_test_lasso)"
   ]
  },
  {
   "cell_type": "markdown",
   "metadata": {
    "jp-MarkdownHeadingCollapsed": true
   },
   "source": [
    "# **1.Frisch-Waugh-Lovell (FWL) Theorem Proof**\n",
    "\n",
    "Given a linear regression model, we aim to demonstrate the FWL theorem using the following elements:\n",
    "\n",
    "- **$y$**: dependent variable vector ($n \\times 1$)\n",
    "- **$D$**: matrix of independent variables of interest ($n \\times k_1$)\n",
    "- **$\\beta_1$**: coefficient vector for $D$ ($k_1 \\times 1$)\n",
    "- **$W$**: matrix of control variables ($n \\times k_2$)\n",
    "- **$\\beta_2$**: coefficient vector for $W$ ($k_2 \\times 1$)\n",
    "- **$u$**: error term vector ($n \\times 1$)\n",
    "\n",
    "The model is represented as:\n",
    "\n",
    "$$ y = D\\beta_1 + W\\beta_2 + u$$\n",
    "\n",
    "---\n",
    "\n",
    "## **Objective**\n",
    "\n",
    "To prove that $\\Psi = \\beta_1$ can be accurately estimated through the regression $e_y = e_D \\Psi + \\varepsilon$, employing the FWL theorem.\n",
    "\n",
    "---\n",
    "\n",
    "## **Proof**\n",
    "\n",
    "### **Step 1: Control for Variables in $W$**\n",
    "\n",
    "First, we calculate the residuals after controlling for $W$:\n",
    "\n",
    "- **Regress $D$ on $W$:** Aim to determine the component of $D$ that is orthogonal to $W$. This is achieved by calculating the residuals $e_D$, using the projection matrix:\n",
    "  \n",
    "  $$M_W = I - W(W'W)^{-1}W'$$\n",
    "  \n",
    "  Thus, the residuals for $D$ are:\n",
    "  \n",
    "  $$e_D = M_W D$$ \n",
    "\n",
    "- **Regress $y$ on $W$:** Similarly, find the component of $y$ not explained by $W$:\n",
    "  \n",
    "  $$e_y = M_W y$$\n",
    "\n",
    "### **Step 2: Estimate $\\Psi$**\n",
    "\n",
    "With the residuals obtained, we proceed to estimate $\\Psi$:\n",
    "\n",
    "- **Regress $e_y$ on $e_D$ by OLS:** \n",
    "\n",
    "  $$ e_y = e_D \\Psi + z $$\n",
    "  \n",
    "  Solving for $\\Psi$, we get:\n",
    "  \n",
    "  $$ \\hat{\\Psi} = (e_D'e_D)^{-1}e_D'e_y $$\n",
    "  \n",
    "  Substituting the expressions for residuals into $\\hat{\\Psi}$ yields:\n",
    "  \n",
    "  $$ \\hat{\\Psi} = (D'M_W'M_W'D)^{-1}D'M_W'M_Wy $$\n",
    "  \n",
    "  Which simplifies to:\n",
    "  \n",
    "  $$ \\hat{\\Psi} = (D'M_WD)^{-1}D'M_Wy $$\n",
    "\n",
    "And this proof that $\\Psi = \\beta_1$.\n",
    "\n",
    "\n",
    "\n",
    "\n",
    "\n",
    "\n",
    "\n",
    "# **2.Conditional Expectation Function Minimizes Expected Squared Error Proof**\n",
    "\n",
    "## **Problem Statement**\n",
    "\n",
    "Given a random variable $Y$ and a conditioning variable $X$, we consider a relationship of the form:\n",
    "$$ Y = m(X) + \\epsilon $$\n",
    "where:\n",
    "- $m(X) = E[Y | X]$ is the Conditional Expectation Function (CEF) of $Y$ given $X$.\n",
    "- $\\epsilon$ is the error term, representing the deviation of $Y$ from its conditional mean.\n",
    "\n",
    "## **Objective**\n",
    "\n",
    "Our goal is to prove that the function that minimizes the expected squared error:\n",
    "$$ m(X) = \\text{arg}\\min_{g(X)} E[(Y - g(X))^2] $$\n",
    "\n",
    "is indeed:\n",
    "$$ E[(Y - g(X))^2] = E[\\epsilon^2] $$\n",
    "\n",
    "## **Proof**\n",
    "\n",
    "### **Step 1: Expanding the Expected Squared Error**\n",
    "\n",
    "We start by expanding the expected squared difference as follows:\n",
    "$$ E[(Y - g(X))^2] = E[(Y - E[Y|X] + E[Y|X] - g(X))^2] $$\n",
    "\n",
    "By applying the expansion for the square of a sum $(a + b)^2 = a^2 + b^2 + 2ab$, where $a = Y - E[Y|X]$ and $b = E[Y|X] - g(X)$, we obtain:\n",
    "$$ E[(Y - g(X))^2] = E[(Y - E[Y|X])^2] + E[(E[Y|X] - g(X))^2] + 2E[(Y - E[Y|X])(E[Y|X] - g(X))] $$\n",
    "\n",
    "### **Step 2: Simplifying Using the Law of Iterated Expectations**\n",
    "\n",
    "Applying the Law of Iterated Expectations to the mixed term:\n",
    "$$ 2E[(Y - E[Y|X])(E[Y|X] - g(X))] = 0 $$\n",
    "\n",
    "This follows because the expectation of $Y - E[Y|X]$ is zero by definition of the error term $\\epsilon$ (i.e., $Y - E[Y|X] = \\epsilon$ and $E[\\epsilon] = 0$), and thus the cross-term disappears.\n",
    "\n",
    "### **Step 3: Final Reduction**\n",
    "\n",
    "After removing the cross-term, we are left with:\n",
    "$$ E[(Y - g(X))^2] = E[(Y - E[Y|X])^2] + E[(E[Y|X] - g(X))^2] $$\n",
    "\n",
    "Since the second term $E[(E[Y|X] - g(X))^2]$ is always non-negative, it follows that:\n",
    "$$ E[(Y - g(X))^2] \\geq E[(Y - E[Y|X])^2] $$\n",
    "\n",
    "### **Conclusion**\n",
    "\n",
    "The expected squared error is minimized when $g(X) = E[Y|X]$, demonstrating that the Conditional Expectation Function (CEF) $m(X)$ minimizes the expected squared error:\n",
    "$$ m(X) = \\text{arg}\\min_{g(X)} E[(Y - g(X))^2] $$\n",
    "This conclusively proves that the CEF is the function that minimizes the expected squared error between the predicted values and the actual values of $Y$.\n"
   ]
  },
  {
   "cell_type": "code",
   "execution_count": null,
   "metadata": {},
   "outputs": [],
   "source": []
  }
 ],
 "metadata": {
  "kernelspec": {
   "display_name": "Python 3 (ipykernel)",
   "language": "python",
   "name": "python3"
  },
  "language_info": {
   "codemirror_mode": {
    "name": "ipython",
    "version": 3
   },
   "file_extension": ".py",
   "mimetype": "text/x-python",
   "name": "python",
   "nbconvert_exporter": "python",
   "pygments_lexer": "ipython3",
   "version": "3.11.7"
  },
  "papermill": {
   "default_parameters": {},
   "duration": 53.035585,
   "end_time": "2021-02-21T17:18:37.837719",
   "environment_variables": {},
   "exception": null,
   "input_path": "__notebook__.ipynb",
   "output_path": "__notebook__.ipynb",
   "parameters": {},
   "start_time": "2021-02-21T17:17:44.802134",
   "version": "2.2.2"
  }
 },
 "nbformat": 4,
 "nbformat_minor": 4
}
