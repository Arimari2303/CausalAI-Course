{
 "cells": [
  {
   "cell_type": "markdown",
   "metadata": {},
   "source": [
    "# Workgroup - group 3"
   ]
  },
  {
   "cell_type": "markdown",
   "metadata": {},
   "source": [
    "## **Math Demonstrations**"
   ]
  },
  {
   "cell_type": "markdown",
   "metadata": {},
   "source": [
    "### 1. Prove the Frisch-Waugh-Lovell theorem"
   ]
  },
  {
   "cell_type": "markdown",
   "metadata": {},
   "source": [
    "Given the model:\n",
    "\\begin{align*}\n",
    "y &= D \\beta_1 + W \\beta_2 + \\mu\n",
    "\\end{align*}\n",
    "where $y$ is an $n \\times 1$ vector, $D$ is an $n \\times k_1$ matrix, $\\beta_1$ is a $k_1 \\times 1$ vector, $W$ is an $n \\times k_2$ matrix, $\\beta_2$ is a $k_2 \\times 1$ vector, and $\\mu$ is an $n \\times 1$ vector of error terms.\n",
    "\n",
    "We can construct the following equation:\n",
    "\n",
    "\\begin{align*}\n",
    "\\epsilon_y &= \\epsilon_D \\phi + \\xi\n",
    "\\end{align*}\n",
    "\n",
    "Running $y$ on $W$, we get:\n",
    "\n",
    "\\begin{align*}\n",
    "y &= W\\hat{\\alpha}_1 + \\epsilon_y \\iff \\epsilon_y &= y - W\\hat{\\alpha}_1\n",
    "\\end{align*}\n",
    "\n",
    "Similarly, running $D$ on $W$ gives us:\n",
    "\n",
    "\\begin{align*}\n",
    "D &= W\\hat{\\alpha}_2 + \\epsilon_D \\iff \\epsilon_D &= D - W\\hat{\\alpha}_2\n",
    "\\end{align*}\n",
    "\n",
    "Running $\\epsilon_y$ on $\\epsilon_D$:\n",
    "\\begin{align*}\n",
    "y - W \\hat{\\alpha}_1 &= (D - W \\hat{\\alpha}_2) \\phi + \\xi \\\\\n",
    "y &= W \\hat{\\alpha}_1 + (D - W \\hat{\\alpha}_2) \\phi + \\xi \\\\\n",
    "y &= W \\hat{\\alpha}_1 + D \\phi - W \\hat{\\alpha}_2 \\phi + \\xi \\\\\n",
    "y &= D \\phi + W (\\hat{\\alpha}_1 - \\hat{\\alpha}_2 \\phi) + \\xi\n",
    "\\end{align*}\n",
    "\n",
    "Comparing the original model with this, we can see that:\n",
    "\\begin{align*}\n",
    "    \\beta_1 &= \\phi \\\\\n",
    "    \\beta_2 &= \\hat{\\alpha}_1 - \\hat{\\alpha}_2 \\phi \\\\\n",
    "    \\mu &= \\xi\n",
    "\\end{align*}"
   ]
  },
  {
   "cell_type": "markdown",
   "metadata": {},
   "source": [
    "### 2. Show that the Conditional Expectation Function minimizes expected squared error"
   ]
  },
  {
   "cell_type": "markdown",
   "metadata": {},
   "source": [
    "Given the model:\n",
    "\\begin{align*}\n",
    "Y &= m(X) + e\n",
    "\\end{align*}\n",
    "where $m(X)$ represents the conditional expectation of $Y$ on $X$. Let's define an arbitrary model:\n",
    "\\begin{align*}\n",
    "Y &= g(X) + w\n",
    "\\end{align*}\n",
    "where $g(X)$ represents any function of $X$.\n",
    "\n",
    "Working with the expected squared error from the arbitrary model:\n",
    "\\begin{align*}\n",
    "E[(Y-g(X))^2] &= E[(Y-m(X) + m(X)-g(X))^2] \\\\\n",
    "&= E[(Y-m(X))^2 + 2(Y-m(X))(m(X)-g(X)) + (m(X)-g(X))^2] \\\\\n",
    "&= E[e^2] + 2E[(Y-m(X))(m(X)-g(X))] + E[(m(X)-g(X))^2]\n",
    "\\end{align*}\n",
    "Using the law of iterated expectations:\n",
    "\\begin{align*}\n",
    "E[(Y-g(X))^2] &= E[e^2] + 2E[E[(Y-m(X))(m(X)-g(X)) | X]] + E[(m(X)-g(X))^2]\n",
    "\\end{align*}\n",
    "Since $m(X)$ and $g(X)$ are functions of $X$, the term $(m(X)-g(X))$ can be thought of as constant when conditioning on $X$. Thus:\n",
    "\\begin{align*}\n",
    "E[(Y-g(X))^2] &= E[e^2] + 2E[E[Y-m(X) | X](m(X)-g(X))] + E[(m(X)-g(X))^2]\n",
    "\\end{align*}\n",
    "It is important to note that $E[Y-m(X) | X] = 0$ by definition of $m(X)$, so we get:\n",
    "\\begin{align*}\n",
    "E[(Y-g(X))^2] &= E[e^2] + E[(m(X)-g(X))^2]\n",
    "\\end{align*}\n",
    "Because the second term in the equation is always non-negative, it is clear that the function is minimized when $g(X)$ equals $m(X)$. In which case:\n",
    "\\begin{align*}\n",
    "E[(Y-g(X))^2] &= E[e^2]\n",
    "\\end{align*}"
   ]
  },
  {
   "cell_type": "markdown",
   "metadata": {},
   "source": [
    "* Python code replication of: \" https://www.kaggle.com/janniskueck/pm1-notebook-inference \"\n",
    "* Created by: Anzony Quispe & Alexander Quispe"
   ]
  },
  {
   "cell_type": "markdown",
   "metadata": {
    "papermill": {
     "duration": 0.020568,
     "end_time": "2021-02-21T17:17:47.770707",
     "exception": false,
     "start_time": "2021-02-21T17:17:47.750139",
     "status": "completed"
    },
    "tags": []
   },
   "source": [
    "This notebook contains an example for teaching."
   ]
  },
  {
   "cell_type": "markdown",
   "metadata": {
    "papermill": {
     "duration": 0.018579,
     "end_time": "2021-02-21T17:17:47.809138",
     "exception": false,
     "start_time": "2021-02-21T17:17:47.790559",
     "status": "completed"
    },
    "tags": []
   },
   "source": [
    "### An inferential problem: The Gender Wage Gap"
   ]
  },
  {
   "cell_type": "markdown",
   "metadata": {
    "papermill": {
     "duration": 0.019386,
     "end_time": "2021-02-21T17:17:47.847419",
     "exception": false,
     "start_time": "2021-02-21T17:17:47.828033",
     "status": "completed"
    },
    "tags": []
   },
   "source": [
    "In the previous lab, we already analyzed data from the March Supplement of the U.S. Current Population Survey (2015) and answered the question how to use job-relevant characteristics, such as education and experience, to best predict wages. Now, we focus on the following inference question:\n",
    "\n",
    "What is the difference in predicted wages between men and women with the same job-relevant characteristics?\n",
    "\n",
    "Thus, we analyze if there is a difference in the payment of men and women (*gender wage gap*). The gender wage gap may partly reflect *discrimination* against women in the labor market or may partly reflect a *selection effect*, namely that women are relatively more likely to take on occupations that pay somewhat less (for example, school teaching)."
   ]
  },
  {
   "cell_type": "markdown",
   "metadata": {
    "papermill": {
     "duration": 0.018623,
     "end_time": "2021-02-21T17:17:47.884840",
     "exception": false,
     "start_time": "2021-02-21T17:17:47.866217",
     "status": "completed"
    },
    "tags": []
   },
   "source": [
    "To investigate the gender wage gap, we consider the following log-linear regression model\n",
    "\n",
    "\\begin{align}\n",
    "\\log(Y) &= \\beta'X + \\epsilon\\\\\n",
    "&= \\beta_1 D  + \\beta_2' W + \\epsilon,\n",
    "\\end{align}\n",
    "\n",
    "where $D$ is the indicator of being female ($1$ if female and $0$ otherwise) and the\n",
    "$W$'s are controls explaining variation in wages. Considering transformed wages by the logarithm, we are analyzing the relative difference in the payment of men and women."
   ]
  },
  {
   "cell_type": "markdown",
   "metadata": {
    "papermill": {
     "duration": 0.018169,
     "end_time": "2021-02-21T17:17:47.921363",
     "exception": false,
     "start_time": "2021-02-21T17:17:47.903194",
     "status": "completed"
    },
    "tags": []
   },
   "source": [
    "## **Replication 1 - Code**"
   ]
  },
  {
   "cell_type": "markdown",
   "metadata": {
    "papermill": {
     "duration": 0.018446,
     "end_time": "2021-02-21T17:17:47.958377",
     "exception": false,
     "start_time": "2021-02-21T17:17:47.939931",
     "status": "completed"
    },
    "tags": []
   },
   "source": [
    "We consider the same subsample of the U.S. Current Population Survey (2015) as in the previous lab. Let us load the data set."
   ]
  },
  {
   "cell_type": "code",
   "execution_count": 1,
   "metadata": {
    "hide_input": true,
    "scrolled": true
   },
   "outputs": [],
   "source": [
    "import pandas as pd\n",
    "import numpy as np\n",
    "import pyreadr as rr # package to use data form R format\n",
    "import math"
   ]
  },
  {
   "cell_type": "code",
   "execution_count": 2,
   "metadata": {},
   "outputs": [],
   "source": [
    "#!pip install pyreadr==0.4.2"
   ]
  },
  {
   "cell_type": "code",
   "execution_count": 39,
   "metadata": {},
   "outputs": [
    {
     "data": {
      "text/plain": [
       "(5150, 21)"
      ]
     },
     "execution_count": 39,
     "metadata": {},
     "output_type": "execute_result"
    }
   ],
   "source": [
    "#rdata_read = pyreadr.read_r(\"../../data/wage2015_subsample_inference.Rdata\")\n",
    "\n",
    "data  = pd.read_csv(r'../../../data/wage2015_subsample_inference.csv')\n",
    "\n",
    "# Extracting the data frame from rdata_read\n",
    "#data = rdata_read[ 'data' ]\n",
    "data['occ']=pd.Categorical(data.occ)\n",
    "data['occ2']=pd.Categorical(data.occ2)\n",
    "data['ind']=pd.Categorical(data.ind)\n",
    "data['ind2']=pd.Categorical(data.ind2)\n",
    "\n",
    "\n",
    "data.shape"
   ]
  },
  {
   "cell_type": "code",
   "execution_count": 3,
   "metadata": {},
   "outputs": [
    {
     "data": {
      "text/plain": [
       "(5150, 20)"
      ]
     },
     "execution_count": 3,
     "metadata": {},
     "output_type": "execute_result"
    }
   ],
   "source": [
    "rdata_read = rr.read_r(r\"../../../data/wage2015_subsample_inference.Rdata\")\n",
    "\n",
    "\n",
    "# Extracting the data frame from rdata_read\n",
    "data = rdata_read[ 'data' ]\n",
    "\n",
    "\n",
    "data.shape"
   ]
  },
  {
   "cell_type": "code",
   "execution_count": 4,
   "metadata": {},
   "outputs": [
    {
     "name": "stdout",
     "output_type": "stream",
     "text": [
      "<class 'pandas.core.frame.DataFrame'>\n",
      "Index: 5150 entries, 10 to 32643\n",
      "Data columns (total 20 columns):\n",
      " #   Column  Non-Null Count  Dtype   \n",
      "---  ------  --------------  -----   \n",
      " 0   wage    5150 non-null   float64 \n",
      " 1   lwage   5150 non-null   float64 \n",
      " 2   sex     5150 non-null   float64 \n",
      " 3   shs     5150 non-null   float64 \n",
      " 4   hsg     5150 non-null   float64 \n",
      " 5   scl     5150 non-null   float64 \n",
      " 6   clg     5150 non-null   float64 \n",
      " 7   ad      5150 non-null   float64 \n",
      " 8   mw      5150 non-null   float64 \n",
      " 9   so      5150 non-null   float64 \n",
      " 10  we      5150 non-null   float64 \n",
      " 11  ne      5150 non-null   float64 \n",
      " 12  exp1    5150 non-null   float64 \n",
      " 13  exp2    5150 non-null   float64 \n",
      " 14  exp3    5150 non-null   float64 \n",
      " 15  exp4    5150 non-null   float64 \n",
      " 16  occ     5150 non-null   category\n",
      " 17  occ2    5150 non-null   category\n",
      " 18  ind     5150 non-null   category\n",
      " 19  ind2    5150 non-null   category\n",
      "dtypes: category(4), float64(16)\n",
      "memory usage: 736.3+ KB\n"
     ]
    }
   ],
   "source": [
    "data.info()"
   ]
  },
  {
   "cell_type": "markdown",
   "metadata": {},
   "source": [
    "***Variable description***\n",
    "\n",
    "- occ : occupational classification\n",
    "- ind : industry classification\n",
    "- lwage : log hourly wage\n",
    "- sex : gender (1 female) (0 male)\n",
    "- shs : some high school\n",
    "- hsg : High school graduated\n",
    "- scl : Some College\n",
    "- clg: College Graduate\n",
    "- ad: Advanced Degree\n",
    "- ne: Northeast\n",
    "- mw: Midwest\n",
    "- so: South\n",
    "- we: West\n",
    "- exp1: experience"
   ]
  },
  {
   "cell_type": "code",
   "execution_count": 5,
   "metadata": {},
   "outputs": [
    {
     "name": "stdout",
     "output_type": "stream",
     "text": [
      "<class 'pandas.core.frame.DataFrame'>\n",
      "Index: 5150 entries, 10 to 32643\n",
      "Data columns (total 20 columns):\n",
      " #   Column  Non-Null Count  Dtype   \n",
      "---  ------  --------------  -----   \n",
      " 0   wage    5150 non-null   float64 \n",
      " 1   lwage   5150 non-null   float64 \n",
      " 2   sex     5150 non-null   float64 \n",
      " 3   shs     5150 non-null   float64 \n",
      " 4   hsg     5150 non-null   float64 \n",
      " 5   scl     5150 non-null   float64 \n",
      " 6   clg     5150 non-null   float64 \n",
      " 7   ad      5150 non-null   float64 \n",
      " 8   mw      5150 non-null   float64 \n",
      " 9   so      5150 non-null   float64 \n",
      " 10  we      5150 non-null   float64 \n",
      " 11  ne      5150 non-null   float64 \n",
      " 12  exp1    5150 non-null   float64 \n",
      " 13  exp2    5150 non-null   float64 \n",
      " 14  exp3    5150 non-null   float64 \n",
      " 15  exp4    5150 non-null   float64 \n",
      " 16  occ     5150 non-null   category\n",
      " 17  occ2    5150 non-null   category\n",
      " 18  ind     5150 non-null   category\n",
      " 19  ind2    5150 non-null   category\n",
      "dtypes: category(4), float64(16)\n",
      "memory usage: 736.3+ KB\n"
     ]
    }
   ],
   "source": [
    "data.info()"
   ]
  },
  {
   "cell_type": "code",
   "execution_count": 6,
   "metadata": {},
   "outputs": [
    {
     "data": {
      "text/html": [
       "<div>\n",
       "<style scoped>\n",
       "    .dataframe tbody tr th:only-of-type {\n",
       "        vertical-align: middle;\n",
       "    }\n",
       "\n",
       "    .dataframe tbody tr th {\n",
       "        vertical-align: top;\n",
       "    }\n",
       "\n",
       "    .dataframe thead th {\n",
       "        text-align: right;\n",
       "    }\n",
       "</style>\n",
       "<table border=\"1\" class=\"dataframe\">\n",
       "  <thead>\n",
       "    <tr style=\"text-align: right;\">\n",
       "      <th></th>\n",
       "      <th>occ</th>\n",
       "      <th>occ2</th>\n",
       "      <th>ind</th>\n",
       "      <th>ind2</th>\n",
       "    </tr>\n",
       "  </thead>\n",
       "  <tbody>\n",
       "    <tr>\n",
       "      <th>count</th>\n",
       "      <td>5150</td>\n",
       "      <td>5150</td>\n",
       "      <td>5150</td>\n",
       "      <td>5150</td>\n",
       "    </tr>\n",
       "    <tr>\n",
       "      <th>unique</th>\n",
       "      <td>351</td>\n",
       "      <td>22</td>\n",
       "      <td>230</td>\n",
       "      <td>21</td>\n",
       "    </tr>\n",
       "    <tr>\n",
       "      <th>top</th>\n",
       "      <td>4700</td>\n",
       "      <td>17</td>\n",
       "      <td>770</td>\n",
       "      <td>18</td>\n",
       "    </tr>\n",
       "    <tr>\n",
       "      <th>freq</th>\n",
       "      <td>174</td>\n",
       "      <td>670</td>\n",
       "      <td>297</td>\n",
       "      <td>664</td>\n",
       "    </tr>\n",
       "  </tbody>\n",
       "</table>\n",
       "</div>"
      ],
      "text/plain": [
       "         occ  occ2   ind  ind2\n",
       "count   5150  5150  5150  5150\n",
       "unique   351    22   230    21\n",
       "top     4700    17   770    18\n",
       "freq     174   670   297   664"
      ]
     },
     "execution_count": 6,
     "metadata": {},
     "output_type": "execute_result"
    }
   ],
   "source": [
    "data[['occ','occ2','ind','ind2']].describe()"
   ]
  },
  {
   "cell_type": "code",
   "execution_count": 7,
   "metadata": {},
   "outputs": [
    {
     "name": "stdout",
     "output_type": "stream",
     "text": [
      "<class 'pandas.core.frame.DataFrame'>\n",
      "Index: 5150 entries, 10 to 32643\n",
      "Data columns (total 20 columns):\n",
      " #   Column  Non-Null Count  Dtype   \n",
      "---  ------  --------------  -----   \n",
      " 0   wage    5150 non-null   float64 \n",
      " 1   lwage   5150 non-null   float64 \n",
      " 2   sex     5150 non-null   float64 \n",
      " 3   shs     5150 non-null   float64 \n",
      " 4   hsg     5150 non-null   float64 \n",
      " 5   scl     5150 non-null   float64 \n",
      " 6   clg     5150 non-null   float64 \n",
      " 7   ad      5150 non-null   float64 \n",
      " 8   mw      5150 non-null   float64 \n",
      " 9   so      5150 non-null   float64 \n",
      " 10  we      5150 non-null   float64 \n",
      " 11  ne      5150 non-null   float64 \n",
      " 12  exp1    5150 non-null   float64 \n",
      " 13  exp2    5150 non-null   float64 \n",
      " 14  exp3    5150 non-null   float64 \n",
      " 15  exp4    5150 non-null   float64 \n",
      " 16  occ     5150 non-null   category\n",
      " 17  occ2    5150 non-null   category\n",
      " 18  ind     5150 non-null   category\n",
      " 19  ind2    5150 non-null   category\n",
      "dtypes: category(4), float64(16)\n",
      "memory usage: 736.3+ KB\n"
     ]
    }
   ],
   "source": [
    "data.info()"
   ]
  },
  {
   "cell_type": "markdown",
   "metadata": {
    "papermill": {
     "duration": 0.020145,
     "end_time": "2021-02-21T17:17:48.235598",
     "exception": false,
     "start_time": "2021-02-21T17:17:48.215453",
     "status": "completed"
    },
    "tags": []
   },
   "source": [
    "To start our (causal) analysis, we compare the sample means given gender:"
   ]
  },
  {
   "cell_type": "code",
   "execution_count": 8,
   "metadata": {},
   "outputs": [
    {
     "data": {
      "text/html": [
       "<div>\n",
       "<style scoped>\n",
       "    .dataframe tbody tr th:only-of-type {\n",
       "        vertical-align: middle;\n",
       "    }\n",
       "\n",
       "    .dataframe tbody tr th {\n",
       "        vertical-align: top;\n",
       "    }\n",
       "\n",
       "    .dataframe thead th {\n",
       "        text-align: right;\n",
       "    }\n",
       "</style>\n",
       "<table border=\"1\" class=\"dataframe\">\n",
       "  <thead>\n",
       "    <tr style=\"text-align: right;\">\n",
       "      <th></th>\n",
       "      <th>All</th>\n",
       "      <th>Men</th>\n",
       "      <th>Women</th>\n",
       "    </tr>\n",
       "  </thead>\n",
       "  <tbody>\n",
       "    <tr>\n",
       "      <th>Log Wage</th>\n",
       "      <td>2.970787</td>\n",
       "      <td>2.987830</td>\n",
       "      <td>2.949485</td>\n",
       "    </tr>\n",
       "    <tr>\n",
       "      <th>Sex</th>\n",
       "      <td>0.444466</td>\n",
       "      <td>0.000000</td>\n",
       "      <td>1.000000</td>\n",
       "    </tr>\n",
       "    <tr>\n",
       "      <th>Some High School</th>\n",
       "      <td>0.023301</td>\n",
       "      <td>0.031807</td>\n",
       "      <td>0.012669</td>\n",
       "    </tr>\n",
       "    <tr>\n",
       "      <th>High School Graduate</th>\n",
       "      <td>0.243883</td>\n",
       "      <td>0.294303</td>\n",
       "      <td>0.180865</td>\n",
       "    </tr>\n",
       "    <tr>\n",
       "      <th>Some College</th>\n",
       "      <td>0.278058</td>\n",
       "      <td>0.273331</td>\n",
       "      <td>0.283967</td>\n",
       "    </tr>\n",
       "    <tr>\n",
       "      <th>Gollage Graduate</th>\n",
       "      <td>0.317670</td>\n",
       "      <td>0.293953</td>\n",
       "      <td>0.347313</td>\n",
       "    </tr>\n",
       "    <tr>\n",
       "      <th>Advanced Degree</th>\n",
       "      <td>0.137087</td>\n",
       "      <td>0.106606</td>\n",
       "      <td>0.175186</td>\n",
       "    </tr>\n",
       "    <tr>\n",
       "      <th>Northeast</th>\n",
       "      <td>0.227767</td>\n",
       "      <td>0.221950</td>\n",
       "      <td>0.235037</td>\n",
       "    </tr>\n",
       "    <tr>\n",
       "      <th>Midwest</th>\n",
       "      <td>0.259612</td>\n",
       "      <td>0.259000</td>\n",
       "      <td>0.260376</td>\n",
       "    </tr>\n",
       "    <tr>\n",
       "      <th>South</th>\n",
       "      <td>0.296505</td>\n",
       "      <td>0.298148</td>\n",
       "      <td>0.294452</td>\n",
       "    </tr>\n",
       "    <tr>\n",
       "      <th>West</th>\n",
       "      <td>0.216117</td>\n",
       "      <td>0.220902</td>\n",
       "      <td>0.210135</td>\n",
       "    </tr>\n",
       "    <tr>\n",
       "      <th>Experience</th>\n",
       "      <td>13.760583</td>\n",
       "      <td>13.783992</td>\n",
       "      <td>13.731324</td>\n",
       "    </tr>\n",
       "  </tbody>\n",
       "</table>\n",
       "</div>"
      ],
      "text/plain": [
       "                            All        Men      Women\n",
       "Log Wage               2.970787   2.987830   2.949485\n",
       "Sex                    0.444466   0.000000   1.000000\n",
       "Some High School       0.023301   0.031807   0.012669\n",
       "High School Graduate   0.243883   0.294303   0.180865\n",
       "Some College           0.278058   0.273331   0.283967\n",
       "Gollage Graduate       0.317670   0.293953   0.347313\n",
       "Advanced Degree        0.137087   0.106606   0.175186\n",
       "Northeast              0.227767   0.221950   0.235037\n",
       "Midwest                0.259612   0.259000   0.260376\n",
       "South                  0.296505   0.298148   0.294452\n",
       "West                   0.216117   0.220902   0.210135\n",
       "Experience            13.760583  13.783992  13.731324"
      ]
     },
     "execution_count": 8,
     "metadata": {},
     "output_type": "execute_result"
    }
   ],
   "source": [
    "Z = data[ [\"lwage\",\"sex\",\"shs\",\"hsg\",\"scl\",\"clg\",\"ad\",\"ne\",\"mw\",\"so\",\"we\",\"exp1\"] ]\n",
    "\n",
    "data_female = data[data[ 'sex' ] == 1 ]\n",
    "Z_female = data_female[ [\"lwage\",\"sex\",\"shs\",\"hsg\",\"scl\",\"clg\",\"ad\",\"ne\",\"mw\",\"so\",\"we\",\"exp1\"] ]\n",
    "\n",
    "data_male = data[ data[ 'sex' ] == 0 ]\n",
    "Z_male = data_male[ [ \"lwage\",\"sex\",\"shs\",\"hsg\",\"scl\",\"clg\",\"ad\",\"ne\",\"mw\",\"so\",\"we\",\"exp1\" ] ]\n",
    "\n",
    "\n",
    "table = np.zeros( (12, 3) )\n",
    "table[:, 0] = Z.mean().values\n",
    "table[:, 1] = Z_male.mean().values\n",
    "table[:, 2] = Z_female.mean().values\n",
    "table_pandas = pd.DataFrame( table, columns = [ 'All', 'Men', 'Women']) # from table to dataframe\n",
    "table_pandas.index = [\"Log Wage\",\"Sex\",\"Some High School\",\"High School Graduate\",\"Some College\",\"Gollage Graduate\",\"Advanced Degree\", \"Northeast\",\"Midwest\",\"South\",\"West\",\"Experience\"]\n",
    "table_html = table_pandas.to_html() # html format\n",
    "\n",
    "table_pandas"
   ]
  },
  {
   "cell_type": "code",
   "execution_count": 9,
   "metadata": {
    "scrolled": true
   },
   "outputs": [
    {
     "data": {
      "text/html": [
       "<div>\n",
       "<style scoped>\n",
       "    .dataframe tbody tr th:only-of-type {\n",
       "        vertical-align: middle;\n",
       "    }\n",
       "\n",
       "    .dataframe tbody tr th {\n",
       "        vertical-align: top;\n",
       "    }\n",
       "\n",
       "    .dataframe thead th {\n",
       "        text-align: right;\n",
       "    }\n",
       "</style>\n",
       "<table border=\"1\" class=\"dataframe\">\n",
       "  <thead>\n",
       "    <tr style=\"text-align: right;\">\n",
       "      <th></th>\n",
       "      <th>All</th>\n",
       "      <th>Men</th>\n",
       "      <th>Women</th>\n",
       "    </tr>\n",
       "  </thead>\n",
       "  <tbody>\n",
       "    <tr>\n",
       "      <th>Log Wage</th>\n",
       "      <td>2.970787</td>\n",
       "      <td>2.987830</td>\n",
       "      <td>2.949485</td>\n",
       "    </tr>\n",
       "    <tr>\n",
       "      <th>Sex</th>\n",
       "      <td>0.444466</td>\n",
       "      <td>0.000000</td>\n",
       "      <td>1.000000</td>\n",
       "    </tr>\n",
       "    <tr>\n",
       "      <th>Some High School</th>\n",
       "      <td>0.023301</td>\n",
       "      <td>0.031807</td>\n",
       "      <td>0.012669</td>\n",
       "    </tr>\n",
       "    <tr>\n",
       "      <th>High School Graduate</th>\n",
       "      <td>0.243883</td>\n",
       "      <td>0.294303</td>\n",
       "      <td>0.180865</td>\n",
       "    </tr>\n",
       "    <tr>\n",
       "      <th>Some College</th>\n",
       "      <td>0.278058</td>\n",
       "      <td>0.273331</td>\n",
       "      <td>0.283967</td>\n",
       "    </tr>\n",
       "    <tr>\n",
       "      <th>Gollage Graduate</th>\n",
       "      <td>0.317670</td>\n",
       "      <td>0.293953</td>\n",
       "      <td>0.347313</td>\n",
       "    </tr>\n",
       "    <tr>\n",
       "      <th>Advanced Degree</th>\n",
       "      <td>0.137087</td>\n",
       "      <td>0.106606</td>\n",
       "      <td>0.175186</td>\n",
       "    </tr>\n",
       "    <tr>\n",
       "      <th>Northeast</th>\n",
       "      <td>0.227767</td>\n",
       "      <td>0.221950</td>\n",
       "      <td>0.235037</td>\n",
       "    </tr>\n",
       "    <tr>\n",
       "      <th>Midwest</th>\n",
       "      <td>0.259612</td>\n",
       "      <td>0.259000</td>\n",
       "      <td>0.260376</td>\n",
       "    </tr>\n",
       "    <tr>\n",
       "      <th>South</th>\n",
       "      <td>0.296505</td>\n",
       "      <td>0.298148</td>\n",
       "      <td>0.294452</td>\n",
       "    </tr>\n",
       "    <tr>\n",
       "      <th>West</th>\n",
       "      <td>0.216117</td>\n",
       "      <td>0.220902</td>\n",
       "      <td>0.210135</td>\n",
       "    </tr>\n",
       "    <tr>\n",
       "      <th>Experience</th>\n",
       "      <td>13.760583</td>\n",
       "      <td>13.783992</td>\n",
       "      <td>13.731324</td>\n",
       "    </tr>\n",
       "  </tbody>\n",
       "</table>\n",
       "</div>"
      ],
      "text/plain": [
       "                            All        Men      Women\n",
       "Log Wage               2.970787   2.987830   2.949485\n",
       "Sex                    0.444466   0.000000   1.000000\n",
       "Some High School       0.023301   0.031807   0.012669\n",
       "High School Graduate   0.243883   0.294303   0.180865\n",
       "Some College           0.278058   0.273331   0.283967\n",
       "Gollage Graduate       0.317670   0.293953   0.347313\n",
       "Advanced Degree        0.137087   0.106606   0.175186\n",
       "Northeast              0.227767   0.221950   0.235037\n",
       "Midwest                0.259612   0.259000   0.260376\n",
       "South                  0.296505   0.298148   0.294452\n",
       "West                   0.216117   0.220902   0.210135\n",
       "Experience            13.760583  13.783992  13.731324"
      ]
     },
     "execution_count": 9,
     "metadata": {},
     "output_type": "execute_result"
    }
   ],
   "source": [
    "Z = data[ [\"lwage\",\"sex\",\"shs\",\"hsg\",\"scl\",\"clg\",\"ad\",\"ne\",\"mw\",\"so\",\"we\",\"exp1\"] ]\n",
    "\n",
    "data_female = data[data[ 'sex' ] == 1 ]\n",
    "Z_female = data_female[ [\"lwage\",\"sex\",\"shs\",\"hsg\",\"scl\",\"clg\",\"ad\",\"ne\",\"mw\",\"so\",\"we\",\"exp1\"] ]\n",
    "\n",
    "data_male = data[ data[ 'sex' ] == 0 ]\n",
    "Z_male = data_male[ [ \"lwage\",\"sex\",\"shs\",\"hsg\",\"scl\",\"clg\",\"ad\",\"ne\",\"mw\",\"so\",\"we\",\"exp1\" ] ]\n",
    "\n",
    "\n",
    "table = np.zeros( (12, 3) )\n",
    "table[:, 0] = Z.mean().values\n",
    "table[:, 1] = Z_male.mean().values\n",
    "table[:, 2] = Z_female.mean().values\n",
    "table_pandas = pd.DataFrame( table, columns = [ 'All', 'Men', 'Women'])\n",
    "table_pandas.index = [\"Log Wage\",\"Sex\",\"Some High School\",\"High School Graduate\",\"Some College\",\"Gollage Graduate\",\"Advanced Degree\", \"Northeast\",\"Midwest\",\"South\",\"West\",\"Experience\"]\n",
    "table_html = table_pandas.to_html() # html format\n",
    "\n",
    "table_pandas"
   ]
  },
  {
   "cell_type": "code",
   "execution_count": 10,
   "metadata": {},
   "outputs": [
    {
     "name": "stdout",
     "output_type": "stream",
     "text": [
      "<table border=\"1\" class=\"dataframe\">\n",
      "  <thead>\n",
      "    <tr style=\"text-align: right;\">\n",
      "      <th></th>\n",
      "      <th>All</th>\n",
      "      <th>Men</th>\n",
      "      <th>Women</th>\n",
      "    </tr>\n",
      "  </thead>\n",
      "  <tbody>\n",
      "    <tr>\n",
      "      <th>Log Wage</th>\n",
      "      <td>2.970787</td>\n",
      "      <td>2.987830</td>\n",
      "      <td>2.949485</td>\n",
      "    </tr>\n",
      "    <tr>\n",
      "      <th>Sex</th>\n",
      "      <td>0.444466</td>\n",
      "      <td>0.000000</td>\n",
      "      <td>1.000000</td>\n",
      "    </tr>\n",
      "    <tr>\n",
      "      <th>Some High School</th>\n",
      "      <td>0.023301</td>\n",
      "      <td>0.031807</td>\n",
      "      <td>0.012669</td>\n",
      "    </tr>\n",
      "    <tr>\n",
      "      <th>High School Graduate</th>\n",
      "      <td>0.243883</td>\n",
      "      <td>0.294303</td>\n",
      "      <td>0.180865</td>\n",
      "    </tr>\n",
      "    <tr>\n",
      "      <th>Some College</th>\n",
      "      <td>0.278058</td>\n",
      "      <td>0.273331</td>\n",
      "      <td>0.283967</td>\n",
      "    </tr>\n",
      "    <tr>\n",
      "      <th>Gollage Graduate</th>\n",
      "      <td>0.317670</td>\n",
      "      <td>0.293953</td>\n",
      "      <td>0.347313</td>\n",
      "    </tr>\n",
      "    <tr>\n",
      "      <th>Advanced Degree</th>\n",
      "      <td>0.137087</td>\n",
      "      <td>0.106606</td>\n",
      "      <td>0.175186</td>\n",
      "    </tr>\n",
      "    <tr>\n",
      "      <th>Northeast</th>\n",
      "      <td>0.227767</td>\n",
      "      <td>0.221950</td>\n",
      "      <td>0.235037</td>\n",
      "    </tr>\n",
      "    <tr>\n",
      "      <th>Midwest</th>\n",
      "      <td>0.259612</td>\n",
      "      <td>0.259000</td>\n",
      "      <td>0.260376</td>\n",
      "    </tr>\n",
      "    <tr>\n",
      "      <th>South</th>\n",
      "      <td>0.296505</td>\n",
      "      <td>0.298148</td>\n",
      "      <td>0.294452</td>\n",
      "    </tr>\n",
      "    <tr>\n",
      "      <th>West</th>\n",
      "      <td>0.216117</td>\n",
      "      <td>0.220902</td>\n",
      "      <td>0.210135</td>\n",
      "    </tr>\n",
      "    <tr>\n",
      "      <th>Experience</th>\n",
      "      <td>13.760583</td>\n",
      "      <td>13.783992</td>\n",
      "      <td>13.731324</td>\n",
      "    </tr>\n",
      "  </tbody>\n",
      "</table>\n"
     ]
    }
   ],
   "source": [
    "print( table_html )"
   ]
  },
  {
   "cell_type": "markdown",
   "metadata": {
    "papermill": {
     "duration": 0.020634,
     "end_time": "2021-02-21T17:17:48.532828",
     "exception": false,
     "start_time": "2021-02-21T17:17:48.512194",
     "status": "completed"
    },
    "tags": []
   },
   "source": [
    "In particular, the table above shows that the difference in average *logwage* between men and women is equal to $0,038$"
   ]
  },
  {
   "cell_type": "code",
   "execution_count": 11,
   "metadata": {
    "scrolled": true
   },
   "outputs": [
    {
     "data": {
      "text/plain": [
       "-0.03834473367441493"
      ]
     },
     "execution_count": 11,
     "metadata": {},
     "output_type": "execute_result"
    }
   ],
   "source": [
    "data_female['lwage'].mean()- data_male['lwage'].mean()"
   ]
  },
  {
   "cell_type": "markdown",
   "metadata": {
    "papermill": {
     "duration": 0.022161,
     "end_time": "2021-02-21T17:17:48.635417",
     "exception": false,
     "start_time": "2021-02-21T17:17:48.613256",
     "status": "completed"
    },
    "tags": []
   },
   "source": [
    "Thus, the unconditional gender wage gap is about $3,8$\\% for the group of never married workers (women get paid less on average in our sample). We also observe that never married working women are relatively more educated than working men and have lower working experience."
   ]
  },
  {
   "cell_type": "markdown",
   "metadata": {
    "papermill": {
     "duration": 0.02073,
     "end_time": "2021-02-21T17:17:48.677447",
     "exception": false,
     "start_time": "2021-02-21T17:17:48.656717",
     "status": "completed"
    },
    "tags": []
   },
   "source": [
    "This unconditional (predictive) effect of gender equals the coefficient $\\beta$ in the univariate ols regression of $Y$ on $D$:\n",
    "\n",
    "\\begin{align}\n",
    "\\log(Y) &=\\beta D + \\epsilon.\n",
    "\\end{align}"
   ]
  },
  {
   "cell_type": "markdown",
   "metadata": {
    "papermill": {
     "duration": 0.020929,
     "end_time": "2021-02-21T17:17:48.718630",
     "exception": false,
     "start_time": "2021-02-21T17:17:48.697701",
     "status": "completed"
    },
    "tags": []
   },
   "source": [
    "We verify this by running an ols regression in R."
   ]
  },
  {
   "cell_type": "code",
   "execution_count": 12,
   "metadata": {},
   "outputs": [
    {
     "name": "stdout",
     "output_type": "stream",
     "text": [
      "Requirement already satisfied: statsmodels in c:\\users\\roberto carlos\\anaconda3\\envs\\working\\lib\\site-packages (0.13.2)\n",
      "Requirement already satisfied: pandas>=0.25 in c:\\users\\roberto carlos\\anaconda3\\envs\\working\\lib\\site-packages (from statsmodels) (1.3.5)\n",
      "Requirement already satisfied: patsy>=0.5.2 in c:\\users\\roberto carlos\\anaconda3\\envs\\working\\lib\\site-packages (from statsmodels) (0.5.2)\n",
      "Requirement already satisfied: scipy>=1.3 in c:\\users\\roberto carlos\\anaconda3\\envs\\working\\lib\\site-packages (from statsmodels) (1.7.3)\n",
      "Requirement already satisfied: packaging>=21.3 in c:\\users\\roberto carlos\\anaconda3\\envs\\working\\lib\\site-packages (from statsmodels) (21.3)\n",
      "Requirement already satisfied: numpy>=1.17 in c:\\users\\roberto carlos\\anaconda3\\envs\\working\\lib\\site-packages (from statsmodels) (1.22.0)\n",
      "Requirement already satisfied: pyparsing!=3.0.5,>=2.0.2 in c:\\users\\roberto carlos\\anaconda3\\envs\\working\\lib\\site-packages (from packaging>=21.3->statsmodels) (3.0.4)\n",
      "Requirement already satisfied: pytz>=2017.3 in c:\\users\\roberto carlos\\anaconda3\\envs\\working\\lib\\site-packages (from pandas>=0.25->statsmodels) (2021.3)\n",
      "Requirement already satisfied: python-dateutil>=2.7.3 in c:\\users\\roberto carlos\\anaconda3\\envs\\working\\lib\\site-packages (from pandas>=0.25->statsmodels) (2.8.2)\n",
      "Requirement already satisfied: six in c:\\users\\roberto carlos\\anaconda3\\envs\\working\\lib\\site-packages (from patsy>=0.5.2->statsmodels) (1.16.0)\n",
      "Note: you may need to restart the kernel to use updated packages.\n"
     ]
    }
   ],
   "source": [
    "pip install statsmodels"
   ]
  },
  {
   "cell_type": "code",
   "execution_count": 13,
   "metadata": {
    "hide_input": true
   },
   "outputs": [],
   "source": [
    "import statsmodels.api as sm\n",
    "import statsmodels.formula.api as smf"
   ]
  },
  {
   "cell_type": "code",
   "execution_count": 14,
   "metadata": {
    "scrolled": true
   },
   "outputs": [
    {
     "name": "stdout",
     "output_type": "stream",
     "text": [
      "The estimated gender coefficient is -0.03834473367441481 and the corresponding standard error is 0.015987825519430385\n",
      "The estimated gender coefficient is -0.03834473367441481 and the corresponding robust standard error is 0.01590193507909572 \n",
      "\n"
     ]
    }
   ],
   "source": [
    "nocontrol_model = smf.ols( formula = 'lwage ~ sex', data = data )\n",
    "nocontrol_est = nocontrol_model.fit().summary2().tables[1]['Coef.']['sex']\n",
    "nocontrol_est\n",
    "nocontrol_se2 = nocontrol_model.fit().summary2().tables[1]['Std.Err.']['sex']\n",
    "\n",
    "\n",
    "# robust standar erros\n",
    "HCV_coefs = nocontrol_model.fit().cov_HC0\n",
    "nocontrol_se = np.power( HCV_coefs.diagonal() , 0.5)[1]\n",
    "nocontrol_se\n",
    "\n",
    "# print unconditional effect of gender and the corresponding standard error\n",
    "\n",
    "print( f'The estimated gender coefficient is {nocontrol_est} and the corresponding standard error is {nocontrol_se2}' )\n",
    "print( f'The estimated gender coefficient is {nocontrol_est} and the corresponding robust standard error is {nocontrol_se}','\\n' )"
   ]
  },
  {
   "cell_type": "markdown",
   "metadata": {
    "papermill": {
     "duration": 0.02196,
     "end_time": "2021-02-21T17:17:48.991015",
     "exception": false,
     "start_time": "2021-02-21T17:17:48.969055",
     "status": "completed"
    },
    "tags": []
   },
   "source": [
    "Note that the standard error is computed with the *R* package *sandwich* to be robust to heteroskedasticity. \n"
   ]
  },
  {
   "cell_type": "markdown",
   "metadata": {
    "papermill": {
     "duration": 0.021605,
     "end_time": "2021-02-21T17:17:49.034485",
     "exception": false,
     "start_time": "2021-02-21T17:17:49.012880",
     "status": "completed"
    },
    "tags": []
   },
   "source": [
    "Next, we run an ols regression of $Y$ on $(D,W)$ to control for the effect of covariates summarized in $W$:\n",
    "\n",
    "\\begin{align}\n",
    "\\log(Y) &=\\beta_1 D  + \\beta_2' W + \\epsilon.\n",
    "\\end{align}\n",
    "\n",
    "Here, we are considering the flexible model from the previous lab. Hence, $W$ controls for experience, education, region, and occupation and industry indicators plus transformations and two-way interactions."
   ]
  },
  {
   "cell_type": "markdown",
   "metadata": {
    "papermill": {
     "duration": 0.021109,
     "end_time": "2021-02-21T17:17:49.076809",
     "exception": false,
     "start_time": "2021-02-21T17:17:49.055700",
     "status": "completed"
    },
    "tags": []
   },
   "source": [
    "Let us run the ols regression with controls."
   ]
  },
  {
   "cell_type": "markdown",
   "metadata": {},
   "source": [
    "### Ols regression with controls"
   ]
  },
  {
   "cell_type": "code",
   "execution_count": 87,
   "metadata": {},
   "outputs": [
    {
     "name": "stdout",
     "output_type": "stream",
     "text": [
      "               Coef.  Std.Err.          t         P>|t|    [0.025    0.975]\n",
      "Intercept   3.279677  0.284196  11.540202  2.037819e-30  2.722526  3.836828\n",
      "occ2[T.10]  0.020954  0.156498   0.133896  8.934903e-01 -0.285852  0.327761\n",
      "occ2[T.11] -0.642418  0.309090  -2.078417  3.772286e-02 -1.248372 -0.036463\n",
      "occ2[T.12] -0.067477  0.252049  -0.267716  7.889294e-01 -0.561605  0.426651\n",
      "occ2[T.13] -0.232978  0.231538  -1.006220  3.143593e-01 -0.686896  0.220940\n",
      "...              ...       ...        ...           ...       ...       ...\n",
      "exp4:scl    0.021076  0.024529   0.859230  3.902557e-01 -0.027012  0.069164\n",
      "exp4:clg    0.007869  0.022753   0.345868  7.294565e-01 -0.036736  0.052475\n",
      "exp4:mw     0.006244  0.015870   0.393446  6.940073e-01 -0.024868  0.037356\n",
      "exp4:so     0.000314  0.013628   0.023075  9.815913e-01 -0.026402  0.027031\n",
      "exp4:we     0.001768  0.015960   0.110804  9.117763e-01 -0.029521  0.033058\n",
      "\n",
      "[246 rows x 6 columns]\n",
      "Coefficient for OLS with controls -0.06955320329685015 and the corresponding robust standard error is 0.015000474421753179\n"
     ]
    },
    {
     "data": {
      "text/html": [
       "<div>\n",
       "<style scoped>\n",
       "    .dataframe tbody tr th:only-of-type {\n",
       "        vertical-align: middle;\n",
       "    }\n",
       "\n",
       "    .dataframe tbody tr th {\n",
       "        vertical-align: top;\n",
       "    }\n",
       "\n",
       "    .dataframe thead th {\n",
       "        text-align: right;\n",
       "    }\n",
       "</style>\n",
       "<table border=\"1\" class=\"dataframe\">\n",
       "  <thead>\n",
       "    <tr style=\"text-align: right;\">\n",
       "      <th></th>\n",
       "      <th>0</th>\n",
       "      <th>1</th>\n",
       "    </tr>\n",
       "  </thead>\n",
       "  <tbody>\n",
       "    <tr>\n",
       "      <th>sex</th>\n",
       "      <td>-0.099387</td>\n",
       "      <td>-0.039719</td>\n",
       "    </tr>\n",
       "  </tbody>\n",
       "</table>\n",
       "</div>"
      ],
      "text/plain": [
       "            0         1\n",
       "sex -0.099387 -0.039719"
      ]
     },
     "execution_count": 87,
     "metadata": {},
     "output_type": "execute_result"
    }
   ],
   "source": [
    "flex = 'lwage ~ sex + (exp1+exp2+exp3+exp4)*(shs+hsg+scl+clg+occ2+ind2+mw+so+we)'\n",
    "\n",
    "# The smf api replicates R script when it transform data\n",
    "control_model = smf.ols( formula = flex, data = data )\n",
    "control_est = control_model.fit().summary2().tables[1]['Coef.']['sex']\n",
    "\n",
    "print(control_model.fit().summary2().tables[1])\n",
    "\n",
    "HCV_coefs = control_model.fit().cov_HC0\n",
    "control_se = np.power( HCV_coefs.diagonal() , 0.5)[42]  # error standard for sex's coefficients \n",
    "\n",
    "control_se\n",
    "\n",
    "\n",
    "print( f\"Coefficient for OLS with controls {control_est} and the corresponding robust standard error is {control_se}\" )\n",
    "\n",
    "# confidence interval\n",
    "control_model.fit().conf_int( alpha=0.05 ).loc[['sex']]\n"
   ]
  },
  {
   "cell_type": "code",
   "execution_count": 39,
   "metadata": {},
   "outputs": [
    {
     "data": {
      "text/plain": [
       "<statsmodels.regression.linear_model.OLS at 0x2451301e340>"
      ]
     },
     "execution_count": 39,
     "metadata": {},
     "output_type": "execute_result"
    }
   ],
   "source": [
    "control_model "
   ]
  },
  {
   "cell_type": "markdown",
   "metadata": {
    "papermill": {
     "duration": 0.040523,
     "end_time": "2021-02-21T17:17:49.873210",
     "exception": false,
     "start_time": "2021-02-21T17:17:49.832687",
     "status": "completed"
    },
    "tags": []
   },
   "source": [
    "The estimated regression coefficient $\\beta_1\\approx-0.0696$ measures how our linear prediction of wage changes if we set the gender variable $D$ from 0 to 1, holding the controls $W$ fixed.\n",
    "We can call this the *predictive effect* (PE), as it measures the impact of a variable on the prediction we make. Overall, we see that the unconditional wage gap of size $4$\\% for women increases to about $7$\\% after controlling for worker characteristics.  \n"
   ]
  },
  {
   "cell_type": "markdown",
   "metadata": {
    "papermill": {
     "duration": 0.023222,
     "end_time": "2021-02-21T17:17:49.931749",
     "exception": false,
     "start_time": "2021-02-21T17:17:49.908527",
     "status": "completed"
    },
    "tags": []
   },
   "source": [
    "Next, we are using the Frisch-Waugh-Lovell theorem from the lecture partialling-out the linear effect of the controls via ols."
   ]
  },
  {
   "cell_type": "markdown",
   "metadata": {},
   "source": [
    "### Partialling-Out using ols"
   ]
  },
  {
   "cell_type": "code",
   "execution_count": 73,
   "metadata": {},
   "outputs": [
    {
     "data": {
      "text/html": [
       "<div>\n",
       "<style scoped>\n",
       "    .dataframe tbody tr th:only-of-type {\n",
       "        vertical-align: middle;\n",
       "    }\n",
       "\n",
       "    .dataframe tbody tr th {\n",
       "        vertical-align: top;\n",
       "    }\n",
       "\n",
       "    .dataframe thead th {\n",
       "        text-align: right;\n",
       "    }\n",
       "</style>\n",
       "<table border=\"1\" class=\"dataframe\">\n",
       "  <thead>\n",
       "    <tr style=\"text-align: right;\">\n",
       "      <th></th>\n",
       "      <th>t_Y</th>\n",
       "      <th>t_D</th>\n",
       "    </tr>\n",
       "  </thead>\n",
       "  <tbody>\n",
       "    <tr>\n",
       "      <th>0</th>\n",
       "      <td>-0.567731</td>\n",
       "      <td>0.105742</td>\n",
       "    </tr>\n",
       "    <tr>\n",
       "      <th>1</th>\n",
       "      <td>0.404602</td>\n",
       "      <td>-0.569249</td>\n",
       "    </tr>\n",
       "    <tr>\n",
       "      <th>2</th>\n",
       "      <td>-0.481643</td>\n",
       "      <td>-0.045516</td>\n",
       "    </tr>\n",
       "    <tr>\n",
       "      <th>3</th>\n",
       "      <td>-1.074180</td>\n",
       "      <td>0.400720</td>\n",
       "    </tr>\n",
       "    <tr>\n",
       "      <th>4</th>\n",
       "      <td>0.097208</td>\n",
       "      <td>0.312384</td>\n",
       "    </tr>\n",
       "    <tr>\n",
       "      <th>...</th>\n",
       "      <td>...</td>\n",
       "      <td>...</td>\n",
       "    </tr>\n",
       "    <tr>\n",
       "      <th>5145</th>\n",
       "      <td>-0.262079</td>\n",
       "      <td>-0.409648</td>\n",
       "    </tr>\n",
       "    <tr>\n",
       "      <th>5146</th>\n",
       "      <td>0.582018</td>\n",
       "      <td>0.547954</td>\n",
       "    </tr>\n",
       "    <tr>\n",
       "      <th>5147</th>\n",
       "      <td>-0.001855</td>\n",
       "      <td>0.035117</td>\n",
       "    </tr>\n",
       "    <tr>\n",
       "      <th>5148</th>\n",
       "      <td>0.387129</td>\n",
       "      <td>-0.309997</td>\n",
       "    </tr>\n",
       "    <tr>\n",
       "      <th>5149</th>\n",
       "      <td>-0.772313</td>\n",
       "      <td>-0.471559</td>\n",
       "    </tr>\n",
       "  </tbody>\n",
       "</table>\n",
       "<p>5150 rows × 2 columns</p>\n",
       "</div>"
      ],
      "text/plain": [
       "           t_Y       t_D\n",
       "0    -0.567731  0.105742\n",
       "1     0.404602 -0.569249\n",
       "2    -0.481643 -0.045516\n",
       "3    -1.074180  0.400720\n",
       "4     0.097208  0.312384\n",
       "...        ...       ...\n",
       "5145 -0.262079 -0.409648\n",
       "5146  0.582018  0.547954\n",
       "5147 -0.001855  0.035117\n",
       "5148  0.387129 -0.309997\n",
       "5149 -0.772313 -0.471559\n",
       "\n",
       "[5150 rows x 2 columns]"
      ]
     },
     "execution_count": 73,
     "metadata": {},
     "output_type": "execute_result"
    }
   ],
   "source": [
    "#np.vstack(( t_Y.values , t_D.values )).T\n",
    "\n",
    "data_res = pd.DataFrame( np.vstack(( t_Y.values , t_D.values )).T , columns = [ 't_Y', 't_D' ] )\n",
    "data_res"
   ]
  },
  {
   "cell_type": "code",
   "execution_count": 65,
   "metadata": {},
   "outputs": [
    {
     "name": "stdout",
     "output_type": "stream",
     "text": [
      "Coefficient for D via partialling-out -0.0695532032968462 and the corresponding robust standard error is 0.015000474421753372\n"
     ]
    },
    {
     "data": {
      "text/html": [
       "<div>\n",
       "<style scoped>\n",
       "    .dataframe tbody tr th:only-of-type {\n",
       "        vertical-align: middle;\n",
       "    }\n",
       "\n",
       "    .dataframe tbody tr th {\n",
       "        vertical-align: top;\n",
       "    }\n",
       "\n",
       "    .dataframe thead th {\n",
       "        text-align: right;\n",
       "    }\n",
       "</style>\n",
       "<table border=\"1\" class=\"dataframe\">\n",
       "  <thead>\n",
       "    <tr style=\"text-align: right;\">\n",
       "      <th></th>\n",
       "      <th>0</th>\n",
       "      <th>1</th>\n",
       "    </tr>\n",
       "  </thead>\n",
       "  <tbody>\n",
       "    <tr>\n",
       "      <th>t_D</th>\n",
       "      <td>-0.098671</td>\n",
       "      <td>-0.040435</td>\n",
       "    </tr>\n",
       "  </tbody>\n",
       "</table>\n",
       "</div>"
      ],
      "text/plain": [
       "            0         1\n",
       "t_D -0.098671 -0.040435"
      ]
     },
     "execution_count": 65,
     "metadata": {},
     "output_type": "execute_result"
    }
   ],
   "source": [
    "# models\n",
    "# model for Y\n",
    "flex_y = 'lwage ~  (exp1+exp2+exp3+exp4)*(shs+hsg+scl+clg+occ2+ind2+mw+so+we)'\n",
    "# model for D\n",
    "flex_d = 'sex ~ (exp1+exp2+exp3+exp4)*(shs+hsg+scl+clg+occ2+ind2+mw+so+we)' \n",
    "\n",
    "# partialling-out the linear effect of W from Y\n",
    "t_Y = smf.ols( formula = flex_y , data = data ).fit().resid\n",
    "\n",
    "# partialling-out the linear effect of W from D\n",
    "t_D = smf.ols( formula = flex_d , data = data ).fit().resid\n",
    "\n",
    "\n",
    "data_res = pd.DataFrame( np.vstack(( t_Y.values , t_D.values )).T , columns = [ 't_Y', 't_D' ] )\n",
    "\n",
    "\n",
    "# regression of Y on D after partialling-out the effect of W\n",
    "partial_fit =  smf.ols( formula = 't_Y ~ t_D' , data = data_res ).fit()\n",
    "partial_est = partial_fit.summary2().tables[1]['Coef.']['t_D']\n",
    "\n",
    "\n",
    "# standard error\n",
    "HCV_coefs = partial_fit.cov_HC0\n",
    "partial_se = np.power( HCV_coefs.diagonal() , 0.5)[1]\n",
    "\n",
    "print( f\"Coefficient for D via partialling-out {partial_est} and the corresponding robust standard error is {partial_se}\" )\n",
    "\n",
    "# confidence interval\n",
    "partial_fit.conf_int( alpha=0.05 ).loc[['t_D']]\n"
   ]
  },
  {
   "cell_type": "markdown",
   "metadata": {
    "papermill": {
     "duration": 0.023907,
     "end_time": "2021-02-21T17:17:50.458203",
     "exception": false,
     "start_time": "2021-02-21T17:17:50.434296",
     "status": "completed"
    },
    "tags": []
   },
   "source": [
    "Again, the estimated coefficient measures the linear predictive effect (PE) of $D$ on $Y$ after taking out the linear effect of $W$ on both of these variables. This coefficient equals the estimated coefficient from the ols regression with controls."
   ]
  },
  {
   "cell_type": "markdown",
   "metadata": {
    "papermill": {
     "duration": 0.024507,
     "end_time": "2021-02-21T17:17:50.507023",
     "exception": false,
     "start_time": "2021-02-21T17:17:50.482516",
     "status": "completed"
    },
    "tags": []
   },
   "source": [
    "We know that the partialling-out approach works well when the dimension of $W$ is low\n",
    "in relation to the sample size $n$. When the dimension of $W$ is relatively high, we need to use variable selection\n",
    "or penalization for regularization purposes. \n"
   ]
  },
  {
   "cell_type": "markdown",
   "metadata": {},
   "source": [
    "## **Cross-Validation in Lasso Regression - Manual Implementation Task**"
   ]
  },
  {
   "cell_type": "code",
   "execution_count": 18,
   "metadata": {},
   "outputs": [],
   "source": [
    "# Libraries\n",
    "import numpy as np\n",
    "import pyreadr as rr\n",
    "import matplotlib.pyplot as plt\n",
    "import statsmodels.formula.api as smf\n",
    "\n",
    "from scipy.stats import pearsonr\n",
    "from sklearn.metrics import mean_absolute_error, mean_squared_error\n",
    "from sklearn.preprocessing import StandardScaler\n",
    "from sklearn.model_selection import KFold, train_test_split"
   ]
  },
  {
   "cell_type": "markdown",
   "metadata": {},
   "source": [
    "**1. Data Preparation**\n",
    "\n",
    "Load the March Supplement of the U.S. Current Population Survey, year 2015. (wage2015_subsample_inference.Rdata)"
   ]
  },
  {
   "cell_type": "code",
   "execution_count": 6,
   "metadata": {},
   "outputs": [],
   "source": [
    "rdata_read = rr.read_r(\"../../data/wage2015_subsample_inference.Rdata\")\n",
    "data = rdata_read['data']"
   ]
  },
  {
   "cell_type": "code",
   "execution_count": 7,
   "metadata": {},
   "outputs": [
    {
     "name": "stdout",
     "output_type": "stream",
     "text": [
      "<class 'pandas.core.frame.DataFrame'>\n",
      "Index: 5150 entries, 10 to 32643\n",
      "Data columns (total 20 columns):\n",
      " #   Column  Non-Null Count  Dtype   \n",
      "---  ------  --------------  -----   \n",
      " 0   wage    5150 non-null   float64 \n",
      " 1   lwage   5150 non-null   float64 \n",
      " 2   sex     5150 non-null   float64 \n",
      " 3   shs     5150 non-null   float64 \n",
      " 4   hsg     5150 non-null   float64 \n",
      " 5   scl     5150 non-null   float64 \n",
      " 6   clg     5150 non-null   float64 \n",
      " 7   ad      5150 non-null   float64 \n",
      " 8   mw      5150 non-null   float64 \n",
      " 9   so      5150 non-null   float64 \n",
      " 10  we      5150 non-null   float64 \n",
      " 11  ne      5150 non-null   float64 \n",
      " 12  exp1    5150 non-null   float64 \n",
      " 13  exp2    5150 non-null   float64 \n",
      " 14  exp3    5150 non-null   float64 \n",
      " 15  exp4    5150 non-null   float64 \n",
      " 16  occ     5150 non-null   category\n",
      " 17  occ2    5150 non-null   category\n",
      " 18  ind     5150 non-null   category\n",
      " 19  ind2    5150 non-null   category\n",
      "dtypes: category(4), float64(16)\n",
      "memory usage: 736.3+ KB\n"
     ]
    }
   ],
   "source": [
    "data.info()"
   ]
  },
  {
   "cell_type": "code",
   "execution_count": 8,
   "metadata": {},
   "outputs": [],
   "source": [
    "# We choose the parameters from flexible model (includes interactions)\n",
    "flex = 'lwage ~ sex + shs+hsg+scl+clg+occ2+ind2+mw+so+we + (exp1+exp2+exp3+exp4)*(shs+hsg+scl+clg+occ2+ind2+mw+so+we)'\n",
    "flex_results_0 = smf.ols(flex, data=data)"
   ]
  },
  {
   "cell_type": "code",
   "execution_count": 9,
   "metadata": {},
   "outputs": [],
   "source": [
    "# Get exogenous variables from flexible model\n",
    "X = flex_results_0.exog\n",
    "\n",
    "# Set endogenous variable\n",
    "y = data[\"lwage\"]"
   ]
  },
  {
   "cell_type": "code",
   "execution_count": 10,
   "metadata": {},
   "outputs": [],
   "source": [
    "# Separate the data into train and test\n",
    "X_train, X_test, y_train, y_test = train_test_split(X, y, test_size=0.2, random_state=24)"
   ]
  },
  {
   "cell_type": "code",
   "execution_count": 11,
   "metadata": {},
   "outputs": [],
   "source": [
    "# Se estandariza la data\n",
    "scale = StandardScaler()\n",
    "X_train = scale.fit_transform(X_train)\n",
    "X_test = scale.transform(X_test)"
   ]
  },
  {
   "cell_type": "markdown",
   "metadata": {},
   "source": [
    "**2. Define a Range of Alpha (Lambda in our equation) Values**\n",
    "\n",
    "We create a list or array of alpha values to iterate over. These will be the different regularization parameters we test. We started testing from 0.1 to 0.5 and found that the MSE in cross-validation was reducing when the alpha value was incrementing. Therefore, we tried with higher values."
   ]
  },
  {
   "cell_type": "code",
   "execution_count": 12,
   "metadata": {},
   "outputs": [],
   "source": [
    "alphas = [(45 + i * 5) for i in range(5)]"
   ]
  },
  {
   "cell_type": "markdown",
   "metadata": {},
   "source": [
    "**3. Partition the Dataset for k-Fold Cross-Validation**\n",
    "\n",
    "We divide the dataset into 5 subsets (or folds). Since we are working with a regression task (predicting the log of wage), we use the K-Fold cross-validator from sklearn. We ensure the data is shuffled by adding 'shuffle=True' and set a random state for a reproducible output.\n",
    "\n",
    "Source: https://scikit-learn.org/stable/modules/generated/sklearn.model_selection.KFold.html"
   ]
  },
  {
   "cell_type": "code",
   "execution_count": 13,
   "metadata": {},
   "outputs": [],
   "source": [
    "kf = KFold(n_splits=5, shuffle=True, random_state=24)"
   ]
  },
  {
   "cell_type": "markdown",
   "metadata": {},
   "source": [
    "**4. Lasso Regression Implementation**\n",
    "\n",
    "Implement a function to fit a Lasso Regression model given a training dataset and an alpha value. The function should return the model's coefficients and intercept."
   ]
  },
  {
   "cell_type": "code",
   "execution_count": 14,
   "metadata": {},
   "outputs": [],
   "source": [
    "def lasso_regression(X_train, y_train, alpha, iterations=100, learning_rate=0.01):\n",
    "    \"\"\"\n",
    "    Fits a Lasso Regression model\n",
    "\n",
    "    Args:\n",
    "        X_train: Training features\n",
    "        y_train: Target values\n",
    "        alpha: Regularization parameter (L1 penalty)\n",
    "        iterations: Number of iterations for gradient descent (default: 100)\n",
    "        learning_rate: Learning rate for gradient descent (default: 0.01)\n",
    "\n",
    "    Returns:\n",
    "        W: Model coefficients (weights)\n",
    "        b: Model intercept (bias)\n",
    "    \"\"\"\n",
    "    m, n = X_train.shape\n",
    "    W = np.zeros(n)\n",
    "    b = 0\n",
    "\n",
    "    for _ in range(iterations):\n",
    "        Y_pred = X_train.dot(W) + b\n",
    "        dW = np.zeros(n)\n",
    "        for j in range(n):\n",
    "            if W[j] > 0:\n",
    "                dW[j] = (-2 * X_train[:, j].dot(y_train - Y_pred) + alpha) / m\n",
    "            else:\n",
    "                dW[j] = (-2 * X_train[:, j].dot(y_train - Y_pred) - alpha) / m\n",
    "        db = -2 * np.sum(y_train - Y_pred) / m\n",
    "        W -= learning_rate * dW\n",
    "        b -= learning_rate * db\n",
    "\n",
    "    return W, b"
   ]
  },
  {
   "cell_type": "markdown",
   "metadata": {},
   "source": [
    "**5. Cross-Validation Loop and 6. Selection of Optimal Alpha**\n",
    "\n",
    "We immplement a for loop to fit the lasso regression. Also, we find the best value of alpha that reduces the average MSE for each fold."
   ]
  },
  {
   "cell_type": "code",
   "execution_count": 15,
   "metadata": {},
   "outputs": [
    {
     "name": "stdout",
     "output_type": "stream",
     "text": [
      "Alpha=45.0, Average MSE: 0.41942\n",
      "Alpha=50.0, Average MSE: 0.41920\n",
      "Alpha=55.0, Average MSE: 0.41912\n",
      "Alpha=60.0, Average MSE: 0.41906\n",
      "Alpha=65.0, Average MSE: 0.41907\n",
      "Best Alpha: 60.0, Minimum Average MSE: 0.41906\n"
     ]
    },
    {
     "data": {
      "image/png": "[encoded data removed]",
      "text/plain": [
       "<Figure size 800x600 with 1 Axes>"
      ]
     },
     "metadata": {},
     "output_type": "display_data"
    }
   ],
   "source": [
    "avg_mse_values = []\n",
    "best_alpha = None\n",
    "min_avg_mse = float('inf')\n",
    "\n",
    "for alpha in alphas:\n",
    "    mse_list = []  # Initialize an empty list to keep track of the MSE for each fold.\n",
    "    for train_index, val_index in kf.split(X_train):\n",
    "        X_train_fold, X_val_fold = X_train[train_index], X_train[val_index]\n",
    "        y_train_fold, y_val_fold = y_train[train_index], y_train[val_index]\n",
    "\n",
    "        # Train Lasso regression model with the current alpha\n",
    "        W, b = lasso_regression(X_train_fold, y_train_fold, alpha)\n",
    "        y_pred_val = X_val_fold.dot(W) + b\n",
    "\n",
    "        # Calculate MSE for this fold\n",
    "        mse_fold = np.mean((y_val_fold - y_pred_val) ** 2)\n",
    "        mse_list.append(mse_fold)\n",
    "\n",
    "    # Calculate average MSE across all folds\n",
    "    avg_mse = np.mean(mse_list)\n",
    "    avg_mse_values.append(avg_mse)\n",
    "    print(f\"Alpha={alpha:.1f}, Average MSE: {avg_mse:.5f}\")\n",
    "\n",
    "    # Update the best alpha and minimum average MSE\n",
    "    if avg_mse < min_avg_mse:\n",
    "        min_avg_mse = avg_mse\n",
    "        best_alpha = alpha\n",
    "\n",
    "print(f\"Best Alpha: {best_alpha:.1f}, Minimum Average MSE: {min_avg_mse:.5f}\")\n",
    "\n",
    "# Plotting the cross-validated MSE for each alpha value\n",
    "plt.figure(figsize=(8, 6))\n",
    "plt.plot(alphas, avg_mse_values, marker='o', linestyle='-')\n",
    "plt.title('Cross-Validated MSE for Different Alpha Values')\n",
    "plt.xlabel('Alpha')\n",
    "plt.ylabel('Average MSE')\n",
    "plt.xticks(alphas)\n",
    "plt.grid(True)\n",
    "plt.show()"
   ]
  },
  {
   "cell_type": "markdown",
   "metadata": {},
   "source": [
    "**7. Model Training and Evaluation**"
   ]
  },
  {
   "cell_type": "code",
   "execution_count": 16,
   "metadata": {},
   "outputs": [],
   "source": [
    "W, b = lasso_regression(X_train, y_train, best_alpha)\n",
    "y_pred = X_test.dot(W) + b"
   ]
  },
  {
   "cell_type": "code",
   "execution_count": 20,
   "metadata": {},
   "outputs": [
    {
     "name": "stdout",
     "output_type": "stream",
     "text": [
      "Correlación: 0.5041\n",
      "MAE: 0.4756\n",
      "MSE: 0.3569\n"
     ]
    }
   ],
   "source": [
    "lasso_corr = pearsonr(y_test, y_pred)[0]\n",
    "lasso_mae = mean_absolute_error(y_test, y_pred)\n",
    "lasso_mse = mean_squared_error(y_test, y_pred)\n",
    "\n",
    "print(f\"Correlación: {lasso_corr:.4f}\")\n",
    "print(f\"MAE: {lasso_mae:.4f}\")\n",
    "print(f\"MSE: {lasso_mse:.4f}\")"
   ]
  },
  {
   "cell_type": "markdown",
   "metadata": {},
   "source": [
    "**8. Report Results**\n",
    "\n",
    "We began by selecting the parameters for a flexible model, one that includes interactions. After selecting the parameters, we found that the alpha value that produced the lowest mean squared error (MSE) in cross-validation was 60. We then trained the model using all the available training data with the best alpha value. Using the fitted betas, we predicted the lwage using the test X vector. The resulting MSE in the test data was 0.3569, which was lower than in the training data (which was 0.41906). This indicates that the model is not overfitting and that we have found a good correlation score (R square) of 50%."
   ]
  },
  {
   "cell_type": "markdown",
   "metadata": {},
   "source": [
    "# Replication code"
   ]
  },
  {
   "cell_type": "code",
   "execution_count": null,
   "metadata": {},
   "outputs": [],
   "source": [
    "WAGE"
   ]
  },
  {
   "cell_type": "code",
   "execution_count": null,
   "metadata": {},
   "outputs": [],
   "source": [
    "import numpy as np\n",
    "import matplotlib.pyplot as plt\n",
    "\n",
    "\n",
    "wage_sorted = np.sort(data['wage'])\n",
    "cumulative_sum = np.cumsum(wage_sorted)\n",
    "deciles = np.percentile(cumulative_sum, np.arange(0, 101, 10))\n",
    "population_fraction = np.arange(0, 1.1, 0.1)\n",
    "\n",
    "salary_fraction = np.percentile(deciles / np.sum(data['wage']), np.arange(0, 101, 10))\n",
    "\n",
    "\n",
    "plt.plot(population_fraction, salary_fraction, linewidth=2, color='blue')\n",
    "plt.plot([0, 1], [0, 1], linestyle='--', linewidth=1, color='red')  \n",
    "\n",
    "\n",
    "plt.title(\"Lorenz Curve for Higher Education Salaries\")\n",
    "plt.xlabel(\"Cumulative fraction of the population\")\n",
    "plt.ylabel(\"Cumulative fraction of salaries\")\n",
    "\n",
    "\n",
    "plt.show()\n"
   ]
  },
  {
   "cell_type": "code",
   "execution_count": null,
   "metadata": {},
   "outputs": [],
   "source": [
    "LWAGE"
   ]
  },
  {
   "cell_type": "code",
   "execution_count": null,
   "metadata": {},
   "outputs": [],
   "source": [
    "import matplotlib.pyplot as plt\n",
    "import seaborn as sns\n",
    "\n",
    "sns.set(style=\"whitegrid\")\n",
    "\n",
    "plt.figure(figsize=(8, 6))\n",
    "sns.histplot(data['lwage'], bins=30, kde=False, color='lightblue', edgecolor='black', stat='density')\n",
    "plt.title('Histogram of Salaries with Density Function')\n",
    "plt.xlabel('Lwage')\n",
    "plt.ylabel('Density')\n",
    "\n",
    "sns.kdeplot(data['lwage'], color='red', linewidth=1)\n",
    "\n",
    "plt.show()\n"
   ]
  },
  {
   "cell_type": "code",
   "execution_count": null,
   "metadata": {},
   "outputs": [],
   "source": [
    "SEX"
   ]
  },
  {
   "cell_type": "code",
   "execution_count": null,
   "metadata": {},
   "outputs": [],
   "source": [
    "import matplotlib.pyplot as plt\n",
    "\n",
    "# Calcular las proporciones de sexos\n",
    "proportions = data['sex'].value_counts(normalize=True) * 100\n",
    "\n",
    "# Crear un data frame para el gráfico\n",
    "plot_data = pd.DataFrame({'sex': ['Male', 'Female'], 'proportion': proportions})\n",
    "\n",
    "# Obtener el número total de observaciones\n",
    "total_observations = len(data)\n",
    "\n",
    "# Graficar las proporciones de sexos\n",
    "plt.figure(figsize=(8, 6))\n",
    "bars = plt.bar(plot_data['sex'], plot_data['proportion'], color=['blue', 'orange'])\n",
    "plt.title('Proportion of Male and Female Individuals with Higher Education')\n",
    "plt.xlabel('Sex')\n",
    "plt.ylabel('Percentage')\n",
    "\n",
    "# Agregar etiquetas de porcentaje en las barras\n",
    "for i, bar in enumerate(bars):\n",
    "    height = bar.get_height()\n",
    "    plt.text(bar.get_x() + bar.get_width() / 2, height, f'{height:.1f}%', ha='center', va='bottom', fontsize=10)\n",
    "\n",
    "# Agregar el número total de observaciones\n",
    "plt.text(1.5, max(plot_data['proportion']) * 0.9, f'Total observations: {total_observations}', ha='center', va='bottom', fontsize=10)\n",
    "\n",
    "legend_labels = ['Male', 'Female']\n",
    "\n",
    "# Use the custom labels for the legend\n",
    "plt.legend(labels=legend_labels, loc='upper right')\n",
    "plt.show()\n"
   ]
  },
  {
   "cell_type": "code",
   "execution_count": null,
   "metadata": {},
   "outputs": [],
   "source": [
    "Dummies college"
   ]
  },
  {
   "cell_type": "code",
   "execution_count": null,
   "metadata": {},
   "outputs": [],
   "source": [
    "import pandas as pd\n",
    "import matplotlib.pyplot as plt\n",
    "\n",
    "data['Education_Status'] = data.apply(lambda row: 'Some College' if row['scl'] == 1\n",
    "                                      else ('College Graduate' if row['clg'] == 1\n",
    "                                            else 'Advanced Degree'), axis=1)\n",
    "\n",
    "\n",
    "edu_freq = data['Education_Status'].value_counts().reset_index()\n",
    "edu_freq.columns = ['Education_Status', 'Frequency']\n",
    "\n",
    "total_obs = edu_freq['Frequency'].sum()\n",
    "edu_freq['Percentage'] = edu_freq['Frequency'] / total_obs * 100\n",
    "\n",
    "plt.figure(figsize=(8, 8))\n",
    "plt.pie(edu_freq['Frequency'], labels=edu_freq['Education_Status'], autopct='%1.1f%%', startangle=90)\n",
    "plt.title('Education Status Distribution')\n",
    "plt.legend(edu_freq['Education_Status'], loc='upper right', bbox_to_anchor=(1, 0, 0.5, 1))\n",
    "plt.text(1, -1.2, f'Total observations: {total_obs}', horizontalalignment='center', verticalalignment='center')\n",
    "plt.show()\n"
   ]
  },
  {
   "cell_type": "code",
   "execution_count": null,
   "metadata": {},
   "outputs": [],
   "source": [
    "Experience Higher Education"
   ]
  },
  {
   "cell_type": "code",
   "execution_count": null,
   "metadata": {},
   "outputs": [],
   "source": [
    "import pandas as pd\n",
    "import seaborn as sns\n",
    "import matplotlib.pyplot as plt\n",
    "\n",
    "\n",
    "plt.figure(figsize=(8, 6))\n",
    "sns.boxplot(y='exp1', data=data)\n",
    "plt.title('Distribution of Experience in Individuals with Higher Education')\n",
    "plt.ylabel('Experience (exp1)')\n",
    "plt.show()\n"
   ]
  },
  {
   "cell_type": "code",
   "execution_count": null,
   "metadata": {},
   "outputs": [],
   "source": [
    "COEFFICIENTS FOR DIFFERENT MODELS"
   ]
  },
  {
   "cell_type": "code",
   "execution_count": null,
   "metadata": {},
   "outputs": [],
   "source": [
    "import statsmodels.api as sm\n",
    "from matplotlib import pyplot as plt\n",
    "import numpy as np\n",
    "\n",
    "# Ajustar los modelos\n",
    "flex_y = 'lwage ~ (exp1+exp2+exp3+exp4)*(scl+clg+ad+occ2+ind2+mw+so+we)'  # model for Y\n",
    "flex_d = 'sex ~ (exp1+exp2+exp3+exp4)*(scl+clg+ad+occ2+ind2+mw+so+we)'  # model for D\n",
    "\n",
    "# partialling-out the linear effect of W from Y\n",
    "t_Y = sm.OLS.from_formula(flex_y, data=data).fit().resid\n",
    "# partialling-out the linear effect of W from D\n",
    "t_D = sm.OLS.from_formula(flex_d, data=data).fit().resid\n",
    "\n",
    "# Ajustar los modelos\n",
    "basic_fit = sm.OLS.from_formula('lwage ~ sex + exp1 + scl + clg +ad+ mw + so + we + occ2+ ind2', data=data).fit()\n",
    "control_fit = sm.OLS.from_formula('lwage ~ sex + (exp1+exp2+exp3+exp4)*(scl+clg+ad+occ2+ind2+mw+so+we)', data=data).fit()\n",
    "partial_fit = sm.OLS(t_Y, t_D).fit()\n",
    "\n",
    "coefs = {'Basic': basic_fit.params['sex'],\n",
    "         'Controls': control_fit.params['sex'],\n",
    "         'Partialling out': partial_fit.params[0]}\n",
    "\n",
    "ses = {'No Controls': basic_fit.bse['sex'],\n",
    "       'Controls': control_fit.bse['sex'],\n",
    "       'Partialling out': partial_fit.bse[0]}\n",
    "\n",
    "plt.errorbar(coefs.keys(), coefs.values(), yerr=1.96 * np.array(list(ses.values())), fmt='o', capsize=5)\n",
    "plt.axhline(y=0, color='gray', linestyle='--')\n",
    "plt.ylabel('Coefficient')\n",
    "plt.title('Effect of sex on lwage')\n",
    "plt.show()"
   ]
  },
  {
   "cell_type": "code",
   "execution_count": null,
   "metadata": {},
   "outputs": [],
   "source": [
    "#The coefficient associated with the gender variable, which indicates the prediction of being female on salary, is initially \n",
    "# negative. This suggests that, on average, women have lower salaries than men. However, after adding these controls, \n",
    "# such as work experience or educational level, the negative coefficient associated with the gender variable becomes \n",
    "# less negative.\n",
    "# \n",
    "# This change in the gender coefficient could be explained by the fact that the control variables are capturing\n",
    "# some of the variability in salaries that was previously incorrectly attributed to gender. This suggests \n",
    "# that additional factors, beyond gender, are influencing salaries, and the impact of gender on salaries \n",
    "# is less pronounced once these other variables are taken into account.Besides, both FWL and including control \n",
    "# variables in the regression model yield coefficient estimates for the variable of interest that reflect its net\n",
    "# impact on the dependent variable, once the effects of other explanatory variables have been taken into account.\n"
   ]
  },
  {
   "cell_type": "markdown",
   "metadata": {},
   "source": [
    "# Women and male graph (quartic)"
   ]
  },
  {
   "cell_type": "code",
   "execution_count": null,
   "metadata": {},
   "outputs": [],
   "source": [
    "import numpy as np\n",
    "import matplotlib.pyplot as plt\n",
    "import statsmodels.api as sm\n",
    "\n",
    "# Generar valores de exp4 para predecir las medias de lwage con más puntos\n",
    "exp4_seq = np.linspace(data['exp4'].min(), data['exp4'].max(), 500)\n",
    "\n",
    "# Ajustar el modelo para mujeres\n",
    "loess_model_women = sm.nonparametric.lowess(data[data['sex'] == 1]['lwage'], data[data['sex'] == 1]['exp4'], frac=0.9)\n",
    "\n",
    "# Predecir las medias de lwage utilizando el modelo loess para mujeres\n",
    "lwage_mean_pred_women = np.interp(exp4_seq, loess_model_women[:, 0], loess_model_women[:, 1])\n",
    "\n",
    "# Calcular la media de lwage para cada valor único de exp4 solo para mujeres\n",
    "mean_lwage_women = data[data['sex'] == 1].groupby('exp4')['lwage'].mean()\n",
    "\n",
    "# Graficar la relación para mujeres\n",
    "plt.plot(exp4_seq, lwage_mean_pred_women, color='red', label='Loess Smoothing')\n",
    "plt.plot(mean_lwage_women.index, mean_lwage_women.values, color='blue', label='Mean lwage (Women only)')\n",
    "plt.xlabel('exp4')\n",
    "plt.ylabel('Mean lwage')\n",
    "plt.title('Mean lwage vs exp4 with Loess Smoothing and Mean lwage vs exp4 (Women only)')\n",
    "plt.legend()\n",
    "plt.xlim(0, 40)\n",
    "plt.ylim(2.6, 3.4)\n",
    "plt.show()\n",
    "\n",
    "# Ajustar el modelo para hombres\n",
    "loess_model_men = sm.nonparametric.lowess(data[data['sex'] == 0]['lwage'], data[data['sex'] == 0]['exp4'], frac=0.9)\n",
    "\n",
    "# Predecir las medias de lwage utilizando el modelo loess para hombres\n",
    "lwage_mean_pred_men = np.interp(exp4_seq, loess_model_men[:, 0], loess_model_men[:, 1])\n",
    "\n",
    "# Calcular la media de lwage para cada valor único de exp4 solo para hombres\n",
    "mean_lwage_men = data[data['sex'] == 0].groupby('exp4')['lwage'].mean()\n",
    "\n",
    "# Graficar la relación para hombres\n",
    "plt.plot(exp4_seq, lwage_mean_pred_men, color='red', label='Loess Smoothing')\n",
    "plt.plot(mean_lwage_men.index, mean_lwage_men.values, color='blue', label='Mean lwage (Men only)')\n",
    "plt.xlabel('exp4')\n",
    "plt.ylabel('Mean lwage')\n",
    "plt.title('Mean lwage vs exp4 with Loess Smoothing and Mean lwage vs exp4 (Men only)')\n",
    "plt.legend()\n",
    "plt.xlim(0, 40)\n",
    "plt.ylim(2.6, 3.4)\n",
    "plt.show()\n"
   ]
  }
 ],
 "metadata": {
  "hide_input": false,
  "kernelspec": {
   "display_name": "Python 3 (ipykernel)",
   "language": "python",
   "name": "python3"
  },
  "language_info": {
   "codemirror_mode": {
    "name": "ipython",
    "version": 3
   },
   "file_extension": ".py",
   "mimetype": "text/x-python",
   "name": "python",
   "nbconvert_exporter": "python",
   "pygments_lexer": "ipython3",
   "version": "3.11.4"
  }
 },
 "nbformat": 4,
 "nbformat_minor": 4
}
