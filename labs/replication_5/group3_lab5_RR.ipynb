{
  "cells": [
    {
      "cell_type": "markdown",
      "metadata": {
        "id": "XR4odCbEMB4L"
      },
      "source": [
        "# Workgroup 5\n",
        "\n",
        "Authors: Valerie Dube, Erzo Garay, Juan Marcos Guerrero y Matias Villalba"
      ]
    },
    {
      "cell_type": "code",
      "execution_count": null,
      "metadata": {
        "colab": {
          "base_uri": "https://localhost:8080/"
        },
        "id": "8TUwQKuAME7t",
        "outputId": "66857b87-f213-4cef-bdb2-992b7be27072",
        "vscode": {
          "languageId": "r"
        }
      },
      "outputs": [
        {
          "name": "stderr",
          "output_type": "stream",
          "text": [
            "Installing package into ‘/usr/local/lib/R/site-library’\n",
            "(as ‘lib’ is unspecified)\n",
            "\n",
            "Installing package into ‘/usr/local/lib/R/site-library’\n",
            "(as ‘lib’ is unspecified)\n",
            "\n",
            "Installing package into ‘/usr/local/lib/R/site-library’\n",
            "(as ‘lib’ is unspecified)\n",
            "\n",
            "Installing package into ‘/usr/local/lib/R/site-library’\n",
            "(as ‘lib’ is unspecified)\n",
            "\n",
            "Installing package into ‘/usr/local/lib/R/site-library’\n",
            "(as ‘lib’ is unspecified)\n",
            "\n",
            "Installing package into ‘/usr/local/lib/R/site-library’\n",
            "(as ‘lib’ is unspecified)\n",
            "\n",
            "Installing package into ‘/usr/local/lib/R/site-library’\n",
            "(as ‘lib’ is unspecified)\n",
            "\n",
            "Installing package into ‘/usr/local/lib/R/site-library’\n",
            "(as ‘lib’ is unspecified)\n",
            "\n",
            "Installing package into ‘/usr/local/lib/R/site-library’\n",
            "(as ‘lib’ is unspecified)\n",
            "\n",
            "Installing package into ‘/usr/local/lib/R/site-library’\n",
            "(as ‘lib’ is unspecified)\n",
            "\n",
            "Installing package into ‘/usr/local/lib/R/site-library’\n",
            "(as ‘lib’ is unspecified)\n",
            "\n",
            "Installing package into ‘/usr/local/lib/R/site-library’\n",
            "(as ‘lib’ is unspecified)\n",
            "\n",
            "Installing package into ‘/usr/local/lib/R/site-library’\n",
            "(as ‘lib’ is unspecified)\n",
            "\n",
            "Installing package into ‘/usr/local/lib/R/site-library’\n",
            "(as ‘lib’ is unspecified)\n",
            "\n",
            "Installing package into ‘/usr/local/lib/R/site-library’\n",
            "(as ‘lib’ is unspecified)\n",
            "\n",
            "Warning message:\n",
            "“package ‘Rtools’ is not available for this version of R\n",
            "\n",
            "A version of this package for your version of R might be available elsewhere,\n",
            "see the ideas at\n",
            "https://cran.r-project.org/doc/manuals/r-patched/R-admin.html#Installing-packages”\n",
            "Installing package into ‘/usr/local/lib/R/site-library’\n",
            "(as ‘lib’ is unspecified)\n",
            "\n",
            "Installing package into ‘/usr/local/lib/R/site-library’\n",
            "(as ‘lib’ is unspecified)\n",
            "\n",
            "Installing package into ‘/usr/local/lib/R/site-library’\n",
            "(as ‘lib’ is unspecified)\n",
            "\n"
          ]
        }
      ],
      "source": [
        "install.packages(\"hdm\")\n",
        "install.packages(\"xtable\")\n",
        "install.packages(\"randomForest\")\n",
        "install.packages(\"glmnet\")\n",
        "install.packages(\"sandwich\")\n",
        "install.packages(\"xtable\")\n",
        "install.packages(\"hdm\")\n",
        "install.packages(\"glmnet\")\n",
        "install.packages(\"randomForest\")\n",
        "install.packages(\"rpart\")\n",
        "install.packages(\"nnet\")\n",
        "install.packages(\"gbm\")\n",
        "install.packages(\"rpart.plot\")\n",
        "install.packages(\"keras\")\n",
        "install.packages(\"Rtools\")\n",
        "install.packages(\"ggplot2\")\n",
        "install.packages(\"WeightIt\")\n",
        "install.packages(\"cobalt\")"
      ]
    },
    {
      "cell_type": "code",
      "execution_count": null,
      "metadata": {
        "id": "dzNQdVPzMo2x",
        "vscode": {
          "languageId": "r"
        }
      },
      "outputs": [],
      "source": [
        "library(hdm)\n",
        "library(xtable)\n",
        "library(randomForest)\n",
        "library(glmnet)\n",
        "library(sandwich)\n",
        "library(rpart)\n",
        "library(nnet)\n",
        "library(gbm)\n",
        "library(rpart.plot)\n",
        "library(keras)\n",
        "library(xtable)\n",
        "library(glmnet)\n",
        "library(randomForest)\n",
        "library(ggplot2)\n",
        "library(WeightIt)\n",
        "library(cobalt)"
      ]
    },
    {
      "cell_type": "markdown",
      "metadata": {
        "id": "4WKv2mn_OEvc"
      },
      "source": [
        "## Replication and Data analysis"
      ]
    },
    {
      "cell_type": "code",
      "execution_count": null,
      "metadata": {
        "id": "lsYDBMtMOGBu",
        "vscode": {
          "languageId": "r"
        }
      },
      "outputs": [],
      "source": [
        "set.seed(1)\n",
        "rm(list = ls())"
      ]
    },
    {
      "cell_type": "markdown",
      "metadata": {
        "id": "Wz2ihGxLOQgO"
      },
      "source": [
        "### 1. Descriptives"
      ]
    },
    {
      "cell_type": "markdown",
      "metadata": {
        "id": "_UE7GOpTOTTK"
      },
      "source": [
        "#### 1.1. Descriptive table"
      ]
    },
    {
      "cell_type": "code",
      "execution_count": null,
      "metadata": {
        "colab": {
          "base_uri": "https://localhost:8080/",
          "height": 306
        },
        "id": "Vx2gwyniOUBw",
        "outputId": "e2894d88-a036-4a6a-f891-a7a7903e96f0",
        "vscode": {
          "languageId": "r"
        }
      },
      "outputs": [
        {
          "data": {
            "text/html": [
              "<table class=\"dataframe\">\n",
              "<caption>A data.frame: 6 × 15</caption>\n",
              "<thead>\n",
              "\t<tr><th></th><th scope=col>y</th><th scope=col>w</th><th scope=col>gender_female</th><th scope=col>gender_male</th><th scope=col>gender_transgender</th><th scope=col>ethnicgrp_asian</th><th scope=col>ethnicgrp_black</th><th scope=col>ethnicgrp_mixed_multiple</th><th scope=col>ethnicgrp_other</th><th scope=col>ethnicgrp_white</th><th scope=col>partners1</th><th scope=col>postlaunch</th><th scope=col>msm</th><th scope=col>age</th><th scope=col>imd_decile</th></tr>\n",
              "\t<tr><th></th><th scope=col>&lt;int&gt;</th><th scope=col>&lt;int&gt;</th><th scope=col>&lt;int&gt;</th><th scope=col>&lt;int&gt;</th><th scope=col>&lt;int&gt;</th><th scope=col>&lt;int&gt;</th><th scope=col>&lt;int&gt;</th><th scope=col>&lt;int&gt;</th><th scope=col>&lt;int&gt;</th><th scope=col>&lt;int&gt;</th><th scope=col>&lt;int&gt;</th><th scope=col>&lt;int&gt;</th><th scope=col>&lt;int&gt;</th><th scope=col>&lt;int&gt;</th><th scope=col>&lt;int&gt;</th></tr>\n",
              "</thead>\n",
              "<tbody>\n",
              "\t<tr><th scope=row>1</th><td>1</td><td>1</td><td>0</td><td>1</td><td>0</td><td>0</td><td>0</td><td>1</td><td>0</td><td>0</td><td>0</td><td>1</td><td>0</td><td>27</td><td>5</td></tr>\n",
              "\t<tr><th scope=row>2</th><td>0</td><td>0</td><td>0</td><td>1</td><td>0</td><td>0</td><td>0</td><td>0</td><td>0</td><td>1</td><td>0</td><td>0</td><td>0</td><td>19</td><td>6</td></tr>\n",
              "\t<tr><th scope=row>3</th><td>0</td><td>1</td><td>0</td><td>1</td><td>0</td><td>0</td><td>1</td><td>0</td><td>0</td><td>0</td><td>0</td><td>1</td><td>0</td><td>26</td><td>4</td></tr>\n",
              "\t<tr><th scope=row>4</th><td>0</td><td>0</td><td>1</td><td>0</td><td>0</td><td>0</td><td>0</td><td>0</td><td>0</td><td>1</td><td>1</td><td>0</td><td>0</td><td>20</td><td>2</td></tr>\n",
              "\t<tr><th scope=row>5</th><td>1</td><td>1</td><td>1</td><td>0</td><td>0</td><td>1</td><td>0</td><td>0</td><td>0</td><td>0</td><td>0</td><td>1</td><td>0</td><td>24</td><td>3</td></tr>\n",
              "\t<tr><th scope=row>6</th><td>1</td><td>1</td><td>0</td><td>1</td><td>0</td><td>0</td><td>0</td><td>0</td><td>0</td><td>1</td><td>0</td><td>1</td><td>0</td><td>24</td><td>2</td></tr>\n",
              "</tbody>\n",
              "</table>\n"
            ],
            "text/latex": [
              "A data.frame: 6 × 15\n",
              "\\begin{tabular}{r|lllllllllllllll}\n",
              "  & y & w & gender\\_female & gender\\_male & gender\\_transgender & ethnicgrp\\_asian & ethnicgrp\\_black & ethnicgrp\\_mixed\\_multiple & ethnicgrp\\_other & ethnicgrp\\_white & partners1 & postlaunch & msm & age & imd\\_decile\\\\\n",
              "  & <int> & <int> & <int> & <int> & <int> & <int> & <int> & <int> & <int> & <int> & <int> & <int> & <int> & <int> & <int>\\\\\n",
              "\\hline\n",
              "\t1 & 1 & 1 & 0 & 1 & 0 & 0 & 0 & 1 & 0 & 0 & 0 & 1 & 0 & 27 & 5\\\\\n",
              "\t2 & 0 & 0 & 0 & 1 & 0 & 0 & 0 & 0 & 0 & 1 & 0 & 0 & 0 & 19 & 6\\\\\n",
              "\t3 & 0 & 1 & 0 & 1 & 0 & 0 & 1 & 0 & 0 & 0 & 0 & 1 & 0 & 26 & 4\\\\\n",
              "\t4 & 0 & 0 & 1 & 0 & 0 & 0 & 0 & 0 & 0 & 1 & 1 & 0 & 0 & 20 & 2\\\\\n",
              "\t5 & 1 & 1 & 1 & 0 & 0 & 1 & 0 & 0 & 0 & 0 & 0 & 1 & 0 & 24 & 3\\\\\n",
              "\t6 & 1 & 1 & 0 & 1 & 0 & 0 & 0 & 0 & 0 & 1 & 0 & 1 & 0 & 24 & 2\\\\\n",
              "\\end{tabular}\n"
            ],
            "text/markdown": [
              "\n",
              "A data.frame: 6 × 15\n",
              "\n",
              "| <!--/--> | y &lt;int&gt; | w &lt;int&gt; | gender_female &lt;int&gt; | gender_male &lt;int&gt; | gender_transgender &lt;int&gt; | ethnicgrp_asian &lt;int&gt; | ethnicgrp_black &lt;int&gt; | ethnicgrp_mixed_multiple &lt;int&gt; | ethnicgrp_other &lt;int&gt; | ethnicgrp_white &lt;int&gt; | partners1 &lt;int&gt; | postlaunch &lt;int&gt; | msm &lt;int&gt; | age &lt;int&gt; | imd_decile &lt;int&gt; |\n",
              "|---|---|---|---|---|---|---|---|---|---|---|---|---|---|---|---|\n",
              "| 1 | 1 | 1 | 0 | 1 | 0 | 0 | 0 | 1 | 0 | 0 | 0 | 1 | 0 | 27 | 5 |\n",
              "| 2 | 0 | 0 | 0 | 1 | 0 | 0 | 0 | 0 | 0 | 1 | 0 | 0 | 0 | 19 | 6 |\n",
              "| 3 | 0 | 1 | 0 | 1 | 0 | 0 | 1 | 0 | 0 | 0 | 0 | 1 | 0 | 26 | 4 |\n",
              "| 4 | 0 | 0 | 1 | 0 | 0 | 0 | 0 | 0 | 0 | 1 | 1 | 0 | 0 | 20 | 2 |\n",
              "| 5 | 1 | 1 | 1 | 0 | 0 | 1 | 0 | 0 | 0 | 0 | 0 | 1 | 0 | 24 | 3 |\n",
              "| 6 | 1 | 1 | 0 | 1 | 0 | 0 | 0 | 0 | 0 | 1 | 0 | 1 | 0 | 24 | 2 |\n",
              "\n"
            ],
            "text/plain": [
              "  y w gender_female gender_male gender_transgender ethnicgrp_asian\n",
              "1 1 1 0             1           0                  0              \n",
              "2 0 0 0             1           0                  0              \n",
              "3 0 1 0             1           0                  0              \n",
              "4 0 0 1             0           0                  0              \n",
              "5 1 1 1             0           0                  1              \n",
              "6 1 1 0             1           0                  0              \n",
              "  ethnicgrp_black ethnicgrp_mixed_multiple ethnicgrp_other ethnicgrp_white\n",
              "1 0               1                        0               0              \n",
              "2 0               0                        0               1              \n",
              "3 1               0                        0               0              \n",
              "4 0               0                        0               1              \n",
              "5 0               0                        0               0              \n",
              "6 0               0                        0               1              \n",
              "  partners1 postlaunch msm age imd_decile\n",
              "1 0         1          0   27  5         \n",
              "2 0         0          0   19  6         \n",
              "3 0         1          0   26  4         \n",
              "4 1         0          0   20  2         \n",
              "5 0         1          0   24  3         \n",
              "6 0         1          0   24  2         "
            ]
          },
          "metadata": {},
          "output_type": "display_data"
        }
      ],
      "source": [
        "# Import data and see first observations\n",
        "#data = read.csv(\"../../data/processed_esti.csv\")\n",
        "data <- read.csv('/content/processed_esti.csv')\n",
        "head(data)"
      ]
    },
    {
      "cell_type": "code",
      "execution_count": null,
      "metadata": {
        "colab": {
          "base_uri": "https://localhost:8080/"
        },
        "id": "oCz1ZmApOfNv",
        "outputId": "330c3593-8b32-43ad-bba4-5247b2236faa",
        "vscode": {
          "languageId": "r"
        }
      },
      "outputs": [
        {
          "name": "stdout",
          "output_type": "stream",
          "text": [
            "'data.frame':\t1739 obs. of  15 variables:\n",
            " $ y                       : int  1 0 0 0 1 1 1 0 0 1 ...\n",
            " $ w                       : int  1 0 1 0 1 1 1 0 1 1 ...\n",
            " $ gender_female           : int  0 0 0 1 1 0 1 0 0 1 ...\n",
            " $ gender_male             : int  1 1 1 0 0 1 0 1 1 0 ...\n",
            " $ gender_transgender      : int  0 0 0 0 0 0 0 0 0 0 ...\n",
            " $ ethnicgrp_asian         : int  0 0 0 0 1 0 0 0 0 0 ...\n",
            " $ ethnicgrp_black         : int  0 0 1 0 0 0 0 1 0 1 ...\n",
            " $ ethnicgrp_mixed_multiple: int  1 0 0 0 0 0 0 0 0 0 ...\n",
            " $ ethnicgrp_other         : int  0 0 0 0 0 0 0 0 0 0 ...\n",
            " $ ethnicgrp_white         : int  0 1 0 1 0 1 1 0 1 0 ...\n",
            " $ partners1               : int  0 0 0 1 0 0 0 0 1 0 ...\n",
            " $ postlaunch              : int  1 0 1 0 1 1 0 1 0 0 ...\n",
            " $ msm                     : int  0 0 0 0 0 0 0 0 0 0 ...\n",
            " $ age                     : int  27 19 26 20 24 24 24 21 27 21 ...\n",
            " $ imd_decile              : int  5 6 4 2 3 2 4 2 2 6 ...\n"
          ]
        }
      ],
      "source": [
        "str(data)"
      ]
    },
    {
      "cell_type": "code",
      "execution_count": null,
      "metadata": {
        "colab": {
          "base_uri": "https://localhost:8080/",
          "height": 1000
        },
        "id": "U4mfx5tXOiHJ",
        "outputId": "f1ebcf78-de59-4448-fa28-a12362022b04",
        "vscode": {
          "languageId": "r"
        }
      },
      "outputs": [
        {
          "data": {
            "text/plain": [
              "data$w: 0\n",
              "       w     gender_female     gender_male     gender_transgender\n",
              " Min.   :0   Min.   :0.0000   Min.   :0.0000   Min.   :0.000000  \n",
              " 1st Qu.:0   1st Qu.:0.0000   1st Qu.:0.0000   1st Qu.:0.000000  \n",
              " Median :0   Median :1.0000   Median :0.0000   Median :0.000000  \n",
              " Mean   :0   Mean   :0.5807   Mean   :0.4181   Mean   :0.001223  \n",
              " 3rd Qu.:0   3rd Qu.:1.0000   3rd Qu.:1.0000   3rd Qu.:0.000000  \n",
              " Max.   :0   Max.   :1.0000   Max.   :1.0000   Max.   :1.000000  \n",
              " ethnicgrp_asian   ethnicgrp_black   ethnicgrp_mixed_multiple ethnicgrp_other  \n",
              " Min.   :0.00000   Min.   :0.00000   Min.   :0.00000          Min.   :0.00000  \n",
              " 1st Qu.:0.00000   1st Qu.:0.00000   1st Qu.:0.00000          1st Qu.:0.00000  \n",
              " Median :0.00000   Median :0.00000   Median :0.00000          Median :0.00000  \n",
              " Mean   :0.05501   Mean   :0.09291   Mean   :0.09291          Mean   :0.01711  \n",
              " 3rd Qu.:0.00000   3rd Qu.:0.00000   3rd Qu.:0.00000          3rd Qu.:0.00000  \n",
              " Max.   :1.00000   Max.   :1.00000   Max.   :1.00000          Max.   :1.00000  \n",
              " ethnicgrp_white    partners1        postlaunch          msm        \n",
              " Min.   :0.0000   Min.   :0.0000   Min.   :0.0000   Min.   :0.0000  \n",
              " 1st Qu.:0.0000   1st Qu.:0.0000   1st Qu.:0.0000   1st Qu.:0.0000  \n",
              " Median :1.0000   Median :0.0000   Median :0.0000   Median :0.0000  \n",
              " Mean   :0.7421   Mean   :0.2922   Mean   :0.4731   Mean   :0.1381  \n",
              " 3rd Qu.:1.0000   3rd Qu.:1.0000   3rd Qu.:1.0000   3rd Qu.:0.0000  \n",
              " Max.   :1.0000   Max.   :1.0000   Max.   :1.0000   Max.   :1.0000  \n",
              "      age          imd_decile   \n",
              " Min.   :16.00   Min.   :1.000  \n",
              " 1st Qu.:20.00   1st Qu.:2.000  \n",
              " Median :23.00   Median :3.000  \n",
              " Mean   :23.05   Mean   :3.484  \n",
              " 3rd Qu.:26.00   3rd Qu.:4.000  \n",
              " Max.   :30.00   Max.   :9.000  \n",
              "------------------------------------------------------------ \n",
              "data$w: 1\n",
              "       w     gender_female     gender_male     gender_transgender\n",
              " Min.   :1   Min.   :0.0000   Min.   :0.0000   Min.   :0.000000  \n",
              " 1st Qu.:1   1st Qu.:0.0000   1st Qu.:0.0000   1st Qu.:0.000000  \n",
              " Median :1   Median :1.0000   Median :0.0000   Median :0.000000  \n",
              " Mean   :1   Mean   :0.5874   Mean   :0.4093   Mean   :0.003257  \n",
              " 3rd Qu.:1   3rd Qu.:1.0000   3rd Qu.:1.0000   3rd Qu.:0.000000  \n",
              " Max.   :1   Max.   :1.0000   Max.   :1.0000   Max.   :1.000000  \n",
              " ethnicgrp_asian   ethnicgrp_black   ethnicgrp_mixed_multiple\n",
              " Min.   :0.00000   Min.   :0.00000   Min.   :0.00000         \n",
              " 1st Qu.:0.00000   1st Qu.:0.00000   1st Qu.:0.00000         \n",
              " Median :0.00000   Median :0.00000   Median :0.00000         \n",
              " Mean   :0.07166   Mean   :0.08035   Mean   :0.08469         \n",
              " 3rd Qu.:0.00000   3rd Qu.:0.00000   3rd Qu.:0.00000         \n",
              " Max.   :1.00000   Max.   :1.00000   Max.   :1.00000         \n",
              " ethnicgrp_other    ethnicgrp_white    partners1        postlaunch    \n",
              " Min.   :0.000000   Min.   :0.0000   Min.   :0.0000   Min.   :0.0000  \n",
              " 1st Qu.:0.000000   1st Qu.:1.0000   1st Qu.:0.0000   1st Qu.:0.0000  \n",
              " Median :0.000000   Median :1.0000   Median :0.0000   Median :1.0000  \n",
              " Mean   :0.009772   Mean   :0.7535   Mean   :0.3008   Mean   :0.5559  \n",
              " 3rd Qu.:0.000000   3rd Qu.:1.0000   3rd Qu.:1.0000   3rd Qu.:1.0000  \n",
              " Max.   :1.000000   Max.   :1.0000   Max.   :1.0000   Max.   :1.0000  \n",
              "      msm              age          imd_decile  \n",
              " Min.   :0.0000   Min.   :16.00   Min.   :1.00  \n",
              " 1st Qu.:0.0000   1st Qu.:20.00   1st Qu.:2.00  \n",
              " Median :0.0000   Median :23.00   Median :3.00  \n",
              " Mean   :0.1238   Mean   :23.16   Mean   :3.46  \n",
              " 3rd Qu.:0.0000   3rd Qu.:26.00   3rd Qu.:4.00  \n",
              " Max.   :1.0000   Max.   :30.00   Max.   :9.00  "
            ]
          },
          "metadata": {},
          "output_type": "display_data"
        }
      ],
      "source": [
        "by(data[, !names(data) %in% 'y'], data$w, summary)"
      ]
    },
    {
      "cell_type": "markdown",
      "metadata": {
        "id": "SdHiAE6_O0Np"
      },
      "source": [
        "#### 1.2. Descriptive graphs "
      ]
    },
    {
      "cell_type": "code",
      "execution_count": null,
      "metadata": {
        "colab": {
          "base_uri": "https://localhost:8080/",
          "height": 243
        },
        "id": "lE5orZUjOj8E",
        "outputId": "795aa4ce-3e1d-4736-92e5-24c1c6f39421",
        "vscode": {
          "languageId": "r"
        }
      },
      "outputs": [
        {
          "data": {
            "text/plain": [
              "\u001b[4mBalance Measures\u001b[24m\n",
              "                    Type Diff.Adj\n",
              "prop.score      Distance  -0.0025\n",
              "age              Contin.  -0.0009\n",
              "gender_male       Binary   0.0004\n",
              "ethnicgrp_white   Binary  -0.0001\n",
              "partners1         Binary  -0.0010\n",
              "imd_decile       Contin.   0.0021\n",
              "\n",
              "\u001b[4mEffective sample sizes\u001b[24m\n",
              "           Control Treated\n",
              "Unadjusted  818.       921\n",
              "Adjusted    815.66     921"
            ]
          },
          "metadata": {},
          "output_type": "display_data"
        }
      ],
      "source": [
        "#Generating propensity score weights for the ATT\n",
        "w.out <- WeightIt::weightit(w ~ age + gender_male + ethnicgrp_white + partners1 + imd_decile,\n",
        "                            data = data,\n",
        "                            method = \"glm\",\n",
        "                            estimand = \"ATT\")\n",
        "\n",
        "bal.tab(w.out)"
      ]
    },
    {
      "cell_type": "code",
      "execution_count": null,
      "metadata": {
        "colab": {
          "base_uri": "https://localhost:8080/",
          "height": 437
        },
        "id": "4U_tcLnuO58Y",
        "outputId": "11c86c69-f685-4752-9e71-cd38ab1b248c",
        "vscode": {
          "languageId": "r"
        }
      },
      "outputs": [
        {
          "data": {
            "image/png": "[encoded data removed]",
            "text/plain": [
              "plot without title"
            ]
          },
          "metadata": {
            "image/png": {
              "height": 420,
              "width": 420
            }
          },
          "output_type": "display_data"
        }
      ],
      "source": [
        "bal.plot(w.out, var.name = \"gender_male\")"
      ]
    },
    {
      "cell_type": "code",
      "execution_count": null,
      "metadata": {
        "colab": {
          "base_uri": "https://localhost:8080/",
          "height": 437
        },
        "id": "kX3bW-p8O_pN",
        "outputId": "17fc5711-4a73-4ac8-b0d0-4fb2cc4a8be0",
        "vscode": {
          "languageId": "r"
        }
      },
      "outputs": [
        {
          "data": {
            "image/png": "[encoded data removed]",
            "text/plain": [
              "plot without title"
            ]
          },
          "metadata": {
            "image/png": {
              "height": 420,
              "width": 420
            }
          },
          "output_type": "display_data"
        }
      ],
      "source": [
        "bal.plot(w.out, var.name = \"gender_male\")"
      ]
    },
    {
      "cell_type": "code",
      "execution_count": null,
      "metadata": {
        "colab": {
          "base_uri": "https://localhost:8080/",
          "height": 857
        },
        "id": "ScGn2mm4PBbT",
        "outputId": "d53d3cef-12e1-4924-a53f-cdfc3325512c",
        "vscode": {
          "languageId": "r"
        }
      },
      "outputs": [
        {
          "data": {
            "image/png": "[encoded data removed]",
            "text/plain": [
              "plot without title"
            ]
          },
          "metadata": {
            "image/png": {
              "height": 420,
              "width": 420
            }
          },
          "output_type": "display_data"
        },
        {
          "data": {
            "image/png": "[encoded data removed]",
            "text/plain": [
              "plot without title"
            ]
          },
          "metadata": {
            "image/png": {
              "height": 420,
              "width": 420
            }
          },
          "output_type": "display_data"
        }
      ],
      "source": [
        "bal.plot(w.out, var.name = \"age\")\n",
        "bal.plot(w.out, var.name = \"imd_decile\")"
      ]
    },
    {
      "cell_type": "markdown",
      "metadata": {
        "id": "NPMEa7FxPETj"
      },
      "source": [
        "We can see a higher percentage of participants aged between 23 and 27 in the treatment group. Also, there is a higher perceptange of participants aged between 21 and 22 and 27 and 29 in the control group.\n",
        "In the case of the IMD decile, an index that measures poverty in the UK, we can see the same proportion of participants in each group."
      ]
    },
    {
      "cell_type": "markdown",
      "metadata": {
        "id": "eJZTu7WIPI8C"
      },
      "source": [
        "### 2. Linear Regression analysis"
      ]
    },
    {
      "cell_type": "markdown",
      "metadata": {
        "id": "SL0DBEERPJgM"
      },
      "source": [
        "#### 2.1. Regression 1: $y = \\beta_0 + \\beta_1 T + \\epsilon$   (Vale)"
      ]
    },
    {
      "cell_type": "code",
      "execution_count": null,
      "metadata": {
        "colab": {
          "base_uri": "https://localhost:8080/",
          "height": 138
        },
        "id": "eSQzRh7gPGSW",
        "outputId": "42a51e2f-f39a-4cf3-f037-fcf286dbf638",
        "vscode": {
          "languageId": "r"
        }
      },
      "outputs": [
        {
          "data": {
            "text/plain": [
              "\n",
              "Call:\n",
              "lm(formula = y ~ w, data = data)\n",
              "\n",
              "Coefficients:\n",
              "(Intercept)            w  \n",
              "     0.2115       0.2652  \n"
            ]
          },
          "metadata": {},
          "output_type": "display_data"
        }
      ],
      "source": [
        "lm(formula = y ~ w, data = data)"
      ]
    },
    {
      "cell_type": "markdown",
      "metadata": {
        "id": "Ax6BZqLwPUPZ"
      },
      "source": [
        "#### 2.2. Regression 2: $y = \\beta_0 + \\beta_1 T + \\beta_2 X + \\epsilon$  (vale)"
      ]
    },
    {
      "cell_type": "code",
      "execution_count": null,
      "metadata": {
        "colab": {
          "base_uri": "https://localhost:8080/",
          "height": 277
        },
        "id": "N6PTqIynPVDv",
        "outputId": "d44adde7-8d84-47ba-f001-4e5cbbcc0595",
        "vscode": {
          "languageId": "r"
        }
      },
      "outputs": [
        {
          "data": {
            "text/plain": [
              "\n",
              "Call:\n",
              "lm(formula = y ~ w + age + gender_female + ethnicgrp_white + \n",
              "    ethnicgrp_black + ethnicgrp_mixed_multiple + partners1 + \n",
              "    postlaunch + imd_decile, data = data)\n",
              "\n",
              "Coefficients:\n",
              "             (Intercept)                         w                       age  \n",
              "               -0.163972                  0.255827                  0.012437  \n",
              "           gender_female           ethnicgrp_white           ethnicgrp_black  \n",
              "                0.092892                  0.049888                 -0.039745  \n",
              "ethnicgrp_mixed_multiple                 partners1                postlaunch  \n",
              "               -0.035726                 -0.059088                  0.077025  \n",
              "              imd_decile  \n",
              "               -0.004108  \n"
            ]
          },
          "metadata": {},
          "output_type": "display_data"
        }
      ],
      "source": [
        "lm(formula = y ~ w + age + gender_female + ethnicgrp_white + ethnicgrp_black + ethnicgrp_mixed_multiple + partners1 + postlaunch + imd_decile, data = data)"
      ]
    },
    {
      "cell_type": "markdown",
      "metadata": {
        "id": "JOTgwbwWPg8l"
      },
      "source": [
        "#### 2.3.\n",
        "\n"
      ]
    },
    {
      "cell_type": "markdown",
      "metadata": {
        "id": "PI01mB7UPj0u"
      },
      "source": [
        "#### 2.4."
      ]
    },
    {
      "cell_type": "markdown",
      "metadata": {
        "id": "ARBRfd3sQFfa"
      },
      "source": [
        "### 3. Non-Linear Methods DML"
      ]
    },
    {
      "cell_type": "code",
      "execution_count": null,
      "metadata": {
        "id": "oAfstMkJQIGe",
        "vscode": {
          "languageId": "r"
        }
      },
      "outputs": [],
      "source": [
        "rm(list=ls())\n",
        "DML <- as.data.frame(read.table('/content/processed_esti.csv', header=T ,sep=\",\"))\n",
        "#DML <- as.data.frame(read.table(\"C:/Users/Erzo/Documents/GitHub/CausalAI-Course/data/processed_esti.csv\", header=T ,sep=\",\"))\n",
        "\n",
        "set.seed(1234)\n",
        "training <- sample(nrow(DML), nrow(DML)*(3/4), replace=FALSE)\n",
        "data_train <- DML[training,]\n",
        "data_test <- DML[-training,]\n",
        "Y_test <- data_test$y\n",
        "\n",
        "y = as.matrix(data_train[,1])         # outcome: growth rate\n",
        "d = as.matrix(data_train[,2])         # treatment: initial wealth\n",
        "x = as.matrix(data_train[,-c(1,2)]) # controls: country characteristics"
      ]
    },
    {
      "cell_type": "markdown",
      "metadata": {
        "id": "i-npa835QKw6"
      },
      "source": [
        "### DML function for Regression tree"
      ]
    },
    {
      "cell_type": "code",
      "execution_count": null,
      "metadata": {
        "id": "0nQsAe_wQM1F",
        "vscode": {
          "languageId": "r"
        }
      },
      "outputs": [],
      "source": [
        "DML2.for.PLM.tree <- function(data_train, dreg, yreg, nfold=10) {\n",
        "  nobs <- nrow(data_train) #number of observations\n",
        "  foldid <- rep.int(1:nfold,times = ceiling(nobs/nfold))[sample.int(nobs)] #define folds indices\n",
        "  I <- split(1:nobs, foldid)  #split observation indices into folds\n",
        "  ytil <- dtil <- rep(NA, nobs)\n",
        "  cat(\"fold: \")\n",
        "  for(b in 1:length(I)){\n",
        "    datitanow=data_train[-I[[b]],-c(2)]\n",
        "    datitanoy=data_train[-I[[b]],-c(1)]\n",
        "    datitanowpredict=data_train[I[[b]],-c(2)]\n",
        "    datitanoypredict=data_train[I[[b]],-c(1)]\n",
        "\n",
        "    dfit <- dreg(datitanoy) #take a fold out\n",
        "    yfit <- yreg(datitanow) # take a foldt out\n",
        "    dhat <- predict(dfit, datitanoypredict ) #predict the left-out fold\n",
        "    yhat <- predict(yfit, datitanowpredict ) #predict the left-out fold\n",
        "    dtil[I[[b]]] <- (d[I[[b]]] - dhat) #record residual for the left-out fold\n",
        "    ytil[I[[b]]] <- (y[I[[b]]] - yhat) #record residial for the left-out fold\n",
        "    cat(b,\" \")\n",
        "  }\n",
        "  rfit <- lm(ytil ~ dtil)    #estimate the main parameter by regressing one residual on the other\n",
        "  coef.est <- coef(rfit)[2]  #extract coefficient\n",
        "  se <- sqrt(vcovHC(rfit)[2,2]) #record robust standard error\n",
        "  cat(sprintf(\"\\ncoef (se) = %g (%g)\\n\", coef.est , se))  #printing output\n",
        "  return( list(coef.est =coef.est , se=se, dtil=dtil, ytil=ytil) ) #save output and residuals\n",
        "}"
      ]
    },
    {
      "cell_type": "markdown",
      "metadata": {
        "id": "SmeUKBzVQlr-"
      },
      "source": [
        "### DML function for Boosting Trees"
      ]
    },
    {
      "cell_type": "code",
      "execution_count": null,
      "metadata": {
        "id": "iPP8VB2HQmJo",
        "vscode": {
          "languageId": "r"
        }
      },
      "outputs": [],
      "source": [
        "DML2.for.PLM.boosttree <- function(data_train, dreg, yreg, nfold=10) {\n",
        "  nobs <- nrow(data_train) #number of observations\n",
        "  foldid <- rep.int(1:nfold,times = ceiling(nobs/nfold))[sample.int(nobs)] #define folds indices\n",
        "  I <- split(1:nobs, foldid)  #split observation indices into folds\n",
        "  ytil <- dtil <- rep(NA, nobs)\n",
        "  cat(\"fold: \")\n",
        "  for(b in 1:length(I)){\n",
        "    datitanow=data_train[-I[[b]],-c(2)]\n",
        "    datitanoy=data_train[-I[[b]],-c(1)]\n",
        "    datitanowpredict=data_train[I[[b]],-c(2)]\n",
        "    datitanoypredict=data_train[I[[b]],-c(1)]\n",
        "\n",
        "    dfit <- dreg(datitanoy) #take a fold out\n",
        "    best.boostt  <- gbm.perf(dfit, plot.it = FALSE) # cross-validation to determine when to stop\n",
        "    yfit <- yreg(datitanow) # take a foldt out\n",
        "    best.boosty  <- gbm.perf(yfit, plot.it = FALSE) # cross-validation to determine when to stop\n",
        "    dhat <- predict(dfit, datitanoypredict, n.trees=best.boostt)\n",
        "    yhat <- predict(yfit, datitanowpredict, n.trees=best.boosty) #predict the left-out fold\n",
        "    dtil[I[[b]]] <- (d[I[[b]]] - dhat) #record residual for the left-out fold\n",
        "    ytil[I[[b]]] <- (y[I[[b]]] - yhat) #record residial for the left-out fold\n",
        "    cat(b,\" \")\n",
        "  }\n",
        "  rfit <- lm(ytil ~ dtil)    #estimate the main parameter by regressing one residual on the other\n",
        "  coef.est <- coef(rfit)[2]  #extract coefficient\n",
        "  se <- sqrt(vcovHC(rfit)[2,2]) #record robust standard error\n",
        "  cat(sprintf(\"\\ncoef (se) = %g (%g)\\n\", coef.est , se))  #printing output\n",
        "  return( list(coef.est =coef.est , se=se, dtil=dtil, ytil=ytil) ) #save output and residuals\n",
        "}"
      ]
    },
    {
      "cell_type": "markdown",
      "metadata": {
        "id": "kWykzRHGQnv8"
      },
      "source": [
        "### DML function for Lasso and Random Forest"
      ]
    },
    {
      "cell_type": "code",
      "execution_count": null,
      "metadata": {
        "id": "zCWo9TNRQp-d",
        "vscode": {
          "languageId": "r"
        }
      },
      "outputs": [],
      "source": [
        "DML2.for.PLM <- function(x, d, y, dreg, yreg, nfold=10) {\n",
        "  nobs <- nrow(x) #number of observations\n",
        "  foldid <- rep.int(1:nfold,times = ceiling(nobs/nfold))[sample.int(nobs)] #define folds indices\n",
        "  I <- split(1:nobs, foldid)  #split observation indices into folds\n",
        "  ytil <- dtil <- rep(NA, nobs)\n",
        "  cat(\"fold: \")\n",
        "  for(b in 1:length(I)){\n",
        "    dfit <- dreg(x[-I[[b]],], d[-I[[b]]]) #take a fold out\n",
        "    yfit <- yreg(x[-I[[b]],], y[-I[[b]]]) # take a foldt out\n",
        "    dhat <- predict(dfit, x[I[[b]],], type=\"response\") #predict the left-out fold\n",
        "    yhat <- predict(yfit, x[I[[b]],], type=\"response\") #predict the left-out fold\n",
        "    dtil[I[[b]]] <- (d[I[[b]]] - dhat) #record residual for the left-out fold\n",
        "    ytil[I[[b]]] <- (y[I[[b]]] - yhat) #record residial for the left-out fold\n",
        "    cat(b,\" \")\n",
        "  }\n",
        "  rfit <- lm(ytil ~ dtil)    #estimate the main parameter by regressing one residual on the other\n",
        "  coef.est <- coef(rfit)[2]  #extract coefficient\n",
        "  se <- sqrt(vcovHC(rfit)[2,2]) #record robust standard error\n",
        "  cat(sprintf(\"\\ncoef (se) = %g (%g)\\n\", coef.est , se))  #printing output\n",
        "  return( list(coef.est =coef.est , se=se, dtil=dtil, ytil=ytil) ) #save output and residuals\n",
        "}"
      ]
    },
    {
      "cell_type": "markdown",
      "metadata": {
        "id": "EJCj1E4LaQXO"
      },
      "source": [
        "#### 3.1. Lasso"
      ]
    },
    {
      "cell_type": "code",
      "execution_count": null,
      "metadata": {
        "colab": {
          "base_uri": "https://localhost:8080/",
          "height": 261
        },
        "id": "tDchrbDuP5LZ",
        "outputId": "1148432e-d383-49c6-e3cf-94fba7105d00",
        "vscode": {
          "languageId": "r"
        }
      },
      "outputs": [
        {
          "name": "stdout",
          "output_type": "stream",
          "text": [
            "\n",
            "DML with Lasso \n",
            "fold: 1  2  3  4  5  6  7  8  9  10  \n",
            "coef (se) = 0.251305 (0.0251121)\n"
          ]
        },
        {
          "data": {
            "text/html": [
              "<table class=\"dataframe\">\n",
              "<caption>A matrix: 4 × 1 of type dbl</caption>\n",
              "<thead>\n",
              "\t<tr><th></th><th scope=col>Lasso</th></tr>\n",
              "</thead>\n",
              "<tbody>\n",
              "\t<tr><th scope=row>Estimate</th><td>0.25130463</td></tr>\n",
              "\t<tr><th scope=row>Standard Error</th><td>0.02511208</td></tr>\n",
              "\t<tr><th scope=row>RMSE D</th><td>0.49838689</td></tr>\n",
              "\t<tr><th scope=row>RMSE Y</th><td>0.47164198</td></tr>\n",
              "</tbody>\n",
              "</table>\n"
            ],
            "text/latex": [
              "A matrix: 4 × 1 of type dbl\n",
              "\\begin{tabular}{r|l}\n",
              "  & Lasso\\\\\n",
              "\\hline\n",
              "\tEstimate & 0.25130463\\\\\n",
              "\tStandard Error & 0.02511208\\\\\n",
              "\tRMSE D & 0.49838689\\\\\n",
              "\tRMSE Y & 0.47164198\\\\\n",
              "\\end{tabular}\n"
            ],
            "text/markdown": [
              "\n",
              "A matrix: 4 × 1 of type dbl\n",
              "\n",
              "| <!--/--> | Lasso |\n",
              "|---|---|\n",
              "| Estimate | 0.25130463 |\n",
              "| Standard Error | 0.02511208 |\n",
              "| RMSE D | 0.49838689 |\n",
              "| RMSE Y | 0.47164198 |\n",
              "\n"
            ],
            "text/plain": [
              "               Lasso     \n",
              "Estimate       0.25130463\n",
              "Standard Error 0.02511208\n",
              "RMSE D         0.49838689\n",
              "RMSE Y         0.47164198"
            ]
          },
          "metadata": {},
          "output_type": "display_data"
        }
      ],
      "source": [
        "cat(sprintf(\"\\nDML with Lasso \\n\"))\n",
        "dreg_lasso <- function(x,d){ rlasso(x,d, post=FALSE) } #ML method= lasso from hdm\n",
        "yreg_lasso <- function(x,y){ rlasso(x,y, post=FALSE) } #ML method = lasso from hdm\n",
        "DML2.lasso = DML2.for.PLM(x, d, y, dreg_lasso, yreg_lasso, nfold=10)\n",
        "\n",
        "coef_lasso<-as.numeric(DML2.lasso$coef.est)\n",
        "se_lasso<-as.numeric(DML2.lasso$se)\n",
        "prRes_lassoD<- c(mean((DML2.lasso$dtil)^2));\n",
        "prRes_lassoY<- c(mean((DML2.lasso$ytil)^2));\n",
        "prRes_lasso<- rbind(coef_lasso,se_lasso,sqrt(prRes_lassoD), sqrt(prRes_lassoY));\n",
        "rownames(prRes_lasso)<- c(\"Estimate\",\"Standard Error\",\"RMSE D\", \"RMSE Y\");\n",
        "colnames(prRes_lasso)<- c(\"Lasso\")\n",
        "prRes_lasso"
      ]
    },
    {
      "cell_type": "markdown",
      "metadata": {
        "id": "ou57rmOMaSp9"
      },
      "source": [
        "The message treatment providing information about Internet-accessed sexually transmitted\n",
        "infection testing predicts an increase in the probability that a person will get tested\n",
        "by 25.13 percentage points compared to receiving information about nearby clinics offering\n",
        "in-person testing.\n",
        "By providing both groups with information about testing, we mitigate the potential reminder\n",
        "effect, as both groups are equally prompted to consider testing. This approach allows us to\n",
        "isolate the impact of the type of information \"Internet-accessed testing\" versus \"in-person clinic\n",
        "testing\" on the likelihood of getting tested. Through randomized assignment, we establish causality\n",
        "rather than mere correlation, confirming that the intervention's effect is driven by the unique\n",
        "advantages of Internet-accessed testing, such as increased privacy, reduced embarrassment, and\n",
        "convenience"
      ]
    },
    {
      "cell_type": "markdown",
      "metadata": {
        "id": "td0nO4e2aY-y"
      },
      "source": [
        "#### 3.2. Regression Trees"
      ]
    },
    {
      "cell_type": "code",
      "execution_count": null,
      "metadata": {
        "colab": {
          "base_uri": "https://localhost:8080/",
          "height": 227
        },
        "id": "vUg0qPsuaac0",
        "outputId": "a8a35657-f553-4c87-9ba3-28945966b315",
        "vscode": {
          "languageId": "r"
        }
      },
      "outputs": [
        {
          "name": "stdout",
          "output_type": "stream",
          "text": [
            "fold: 1  2  3  4  5  6  7  8  9  10  \n",
            "coef (se) = 0.230801 (0.0238868)\n"
          ]
        },
        {
          "data": {
            "text/html": [
              "<table class=\"dataframe\">\n",
              "<caption>A matrix: 4 × 1 of type dbl</caption>\n",
              "<thead>\n",
              "\t<tr><th></th><th scope=col>Regression Tree</th></tr>\n",
              "</thead>\n",
              "<tbody>\n",
              "\t<tr><th scope=row>Estimate</th><td>0.2308014</td></tr>\n",
              "\t<tr><th scope=row>Standard Error</th><td>0.0238868</td></tr>\n",
              "\t<tr><th scope=row>RMSE D</th><td>0.5348227</td></tr>\n",
              "\t<tr><th scope=row>RMSE Y</th><td>0.4918633</td></tr>\n",
              "</tbody>\n",
              "</table>\n"
            ],
            "text/latex": [
              "A matrix: 4 × 1 of type dbl\n",
              "\\begin{tabular}{r|l}\n",
              "  & Regression Tree\\\\\n",
              "\\hline\n",
              "\tEstimate & 0.2308014\\\\\n",
              "\tStandard Error & 0.0238868\\\\\n",
              "\tRMSE D & 0.5348227\\\\\n",
              "\tRMSE Y & 0.4918633\\\\\n",
              "\\end{tabular}\n"
            ],
            "text/markdown": [
              "\n",
              "A matrix: 4 × 1 of type dbl\n",
              "\n",
              "| <!--/--> | Regression Tree |\n",
              "|---|---|\n",
              "| Estimate | 0.2308014 |\n",
              "| Standard Error | 0.0238868 |\n",
              "| RMSE D | 0.5348227 |\n",
              "| RMSE Y | 0.4918633 |\n",
              "\n"
            ],
            "text/plain": [
              "               Regression Tree\n",
              "Estimate       0.2308014      \n",
              "Standard Error 0.0238868      \n",
              "RMSE D         0.5348227      \n",
              "RMSE Y         0.4918633      "
            ]
          },
          "metadata": {},
          "output_type": "display_data"
        }
      ],
      "source": [
        "# Tree\n",
        "X_basic <-  \"gender_transgender + ethnicgrp_asian + ethnicgrp_black + ethnicgrp_mixed_multiple+ ethnicgrp_other + ethnicgrp_white + partners1 + postlaunch + msm + age+ imd_decile\"\n",
        "y_form_tree <- as.formula(paste(\"y\", \"~\", X_basic))\n",
        "t_form_tree <- as.formula(paste(\"w\", \"~\", X_basic))\n",
        "yreg_tree <- function(dataa){rpart(y_form_tree, dataa, minbucket=5, cp = 0.001)}\n",
        "treg_tree <- function(dataa){rpart(t_form_tree, dataa, minbucket=5, cp = 0.001)}\n",
        "DML2.tree = DML2.for.PLM.tree(data_train, treg_tree, yreg_tree, nfold=10)\n",
        "\n",
        "coef_tree<-as.numeric(DML2.tree$coef.est)\n",
        "se_tree<-as.numeric(DML2.tree$se)\n",
        "prRes_treeD<- c(mean((DML2.tree$dtil)^2));\n",
        "prRes_treeY<- c(mean((DML2.tree$ytil)^2));\n",
        "prRes_tree<- rbind(coef_tree,se_tree,sqrt(prRes_treeD), sqrt(prRes_treeY));\n",
        "rownames(prRes_tree)<- c(\"Estimate\",\"Standard Error\",\"RMSE D\", \"RMSE Y\");\n",
        "colnames(prRes_tree)<- c(\"Regression Tree\")\n",
        "prRes_tree"
      ]
    },
    {
      "cell_type": "markdown",
      "metadata": {
        "id": "vU9JomKhaczp"
      },
      "source": [
        "The message treatment providing information about Internet-accessed sexually transmitted\n",
        "infection testing predicts an increase in the probability that a person will get tested\n",
        "by 23.08 percentage points compared to receiving information about nearby clinics offering\n",
        "in-person testing.\n",
        "By providing both groups with information about testing, we mitigate the potential reminder\n",
        "effect, as both groups are equally prompted to consider testing. This approach allows us to\n",
        "isolate the impact of the type of information \"Internet-accessed testing\" versus \"in-person clinic\n",
        "testing\" on the likelihood of getting tested. Through randomized assignment, we establish causality\n",
        "rather than mere correlation, confirming that the intervention's effect is driven by the unique\n",
        "advantages of Internet-accessed testing, such as increased privacy, reduced embarrassment, and\n",
        "convenience"
      ]
    },
    {
      "cell_type": "markdown",
      "metadata": {
        "id": "SKzwVAQ2aej7"
      },
      "source": [
        "#### 3.3. Boosting Trees"
      ]
    },
    {
      "cell_type": "code",
      "execution_count": null,
      "metadata": {
        "colab": {
          "base_uri": "https://localhost:8080/",
          "height": 941
        },
        "id": "FXmLvuopaOxe",
        "outputId": "dfc04ee7-16c3-45c8-9f23-99c346ae2e3c",
        "vscode": {
          "languageId": "r"
        }
      },
      "outputs": [
        {
          "name": "stdout",
          "output_type": "stream",
          "text": [
            "fold: "
          ]
        },
        {
          "name": "stderr",
          "output_type": "stream",
          "text": [
            "OOB generally underestimates the optimal number of iterations although predictive performance is reasonably competitive. Using cv_folds>1 when calling gbm usually results in improved predictive performance.\n",
            "\n",
            "OOB generally underestimates the optimal number of iterations although predictive performance is reasonably competitive. Using cv_folds>1 when calling gbm usually results in improved predictive performance.\n",
            "\n"
          ]
        },
        {
          "name": "stdout",
          "output_type": "stream",
          "text": [
            "1  "
          ]
        },
        {
          "name": "stderr",
          "output_type": "stream",
          "text": [
            "OOB generally underestimates the optimal number of iterations although predictive performance is reasonably competitive. Using cv_folds>1 when calling gbm usually results in improved predictive performance.\n",
            "\n",
            "OOB generally underestimates the optimal number of iterations although predictive performance is reasonably competitive. Using cv_folds>1 when calling gbm usually results in improved predictive performance.\n",
            "\n"
          ]
        },
        {
          "name": "stdout",
          "output_type": "stream",
          "text": [
            "2  "
          ]
        },
        {
          "name": "stderr",
          "output_type": "stream",
          "text": [
            "OOB generally underestimates the optimal number of iterations although predictive performance is reasonably competitive. Using cv_folds>1 when calling gbm usually results in improved predictive performance.\n",
            "\n",
            "OOB generally underestimates the optimal number of iterations although predictive performance is reasonably competitive. Using cv_folds>1 when calling gbm usually results in improved predictive performance.\n",
            "\n"
          ]
        },
        {
          "name": "stdout",
          "output_type": "stream",
          "text": [
            "3  "
          ]
        },
        {
          "name": "stderr",
          "output_type": "stream",
          "text": [
            "OOB generally underestimates the optimal number of iterations although predictive performance is reasonably competitive. Using cv_folds>1 when calling gbm usually results in improved predictive performance.\n",
            "\n",
            "OOB generally underestimates the optimal number of iterations although predictive performance is reasonably competitive. Using cv_folds>1 when calling gbm usually results in improved predictive performance.\n",
            "\n"
          ]
        },
        {
          "name": "stdout",
          "output_type": "stream",
          "text": [
            "4  "
          ]
        },
        {
          "name": "stderr",
          "output_type": "stream",
          "text": [
            "OOB generally underestimates the optimal number of iterations although predictive performance is reasonably competitive. Using cv_folds>1 when calling gbm usually results in improved predictive performance.\n",
            "\n",
            "OOB generally underestimates the optimal number of iterations although predictive performance is reasonably competitive. Using cv_folds>1 when calling gbm usually results in improved predictive performance.\n",
            "\n"
          ]
        },
        {
          "name": "stdout",
          "output_type": "stream",
          "text": [
            "5  "
          ]
        },
        {
          "name": "stderr",
          "output_type": "stream",
          "text": [
            "OOB generally underestimates the optimal number of iterations although predictive performance is reasonably competitive. Using cv_folds>1 when calling gbm usually results in improved predictive performance.\n",
            "\n",
            "OOB generally underestimates the optimal number of iterations although predictive performance is reasonably competitive. Using cv_folds>1 when calling gbm usually results in improved predictive performance.\n",
            "\n"
          ]
        },
        {
          "name": "stdout",
          "output_type": "stream",
          "text": [
            "6  "
          ]
        },
        {
          "name": "stderr",
          "output_type": "stream",
          "text": [
            "OOB generally underestimates the optimal number of iterations although predictive performance is reasonably competitive. Using cv_folds>1 when calling gbm usually results in improved predictive performance.\n",
            "\n",
            "OOB generally underestimates the optimal number of iterations although predictive performance is reasonably competitive. Using cv_folds>1 when calling gbm usually results in improved predictive performance.\n",
            "\n"
          ]
        },
        {
          "name": "stdout",
          "output_type": "stream",
          "text": [
            "7  "
          ]
        },
        {
          "name": "stderr",
          "output_type": "stream",
          "text": [
            "OOB generally underestimates the optimal number of iterations although predictive performance is reasonably competitive. Using cv_folds>1 when calling gbm usually results in improved predictive performance.\n",
            "\n",
            "OOB generally underestimates the optimal number of iterations although predictive performance is reasonably competitive. Using cv_folds>1 when calling gbm usually results in improved predictive performance.\n",
            "\n"
          ]
        },
        {
          "name": "stdout",
          "output_type": "stream",
          "text": [
            "8  "
          ]
        },
        {
          "name": "stderr",
          "output_type": "stream",
          "text": [
            "OOB generally underestimates the optimal number of iterations although predictive performance is reasonably competitive. Using cv_folds>1 when calling gbm usually results in improved predictive performance.\n",
            "\n",
            "OOB generally underestimates the optimal number of iterations although predictive performance is reasonably competitive. Using cv_folds>1 when calling gbm usually results in improved predictive performance.\n",
            "\n"
          ]
        },
        {
          "name": "stdout",
          "output_type": "stream",
          "text": [
            "9  "
          ]
        },
        {
          "name": "stderr",
          "output_type": "stream",
          "text": [
            "OOB generally underestimates the optimal number of iterations although predictive performance is reasonably competitive. Using cv_folds>1 when calling gbm usually results in improved predictive performance.\n",
            "\n",
            "OOB generally underestimates the optimal number of iterations although predictive performance is reasonably competitive. Using cv_folds>1 when calling gbm usually results in improved predictive performance.\n",
            "\n"
          ]
        },
        {
          "name": "stdout",
          "output_type": "stream",
          "text": [
            "10  \n",
            "coef (se) = 0.252844 (0.0250923)\n"
          ]
        },
        {
          "data": {
            "text/html": [
              "<table class=\"dataframe\">\n",
              "<caption>A matrix: 4 × 1 of type dbl</caption>\n",
              "<thead>\n",
              "\t<tr><th></th><th scope=col>Regression Tree</th></tr>\n",
              "</thead>\n",
              "<tbody>\n",
              "\t<tr><th scope=row>Estimate</th><td>0.25284448</td></tr>\n",
              "\t<tr><th scope=row>Standard Error</th><td>0.02509228</td></tr>\n",
              "\t<tr><th scope=row>RMSE D</th><td>0.49837344</td></tr>\n",
              "\t<tr><th scope=row>RMSE Y</th><td>0.47241960</td></tr>\n",
              "</tbody>\n",
              "</table>\n"
            ],
            "text/latex": [
              "A matrix: 4 × 1 of type dbl\n",
              "\\begin{tabular}{r|l}\n",
              "  & Regression Tree\\\\\n",
              "\\hline\n",
              "\tEstimate & 0.25284448\\\\\n",
              "\tStandard Error & 0.02509228\\\\\n",
              "\tRMSE D & 0.49837344\\\\\n",
              "\tRMSE Y & 0.47241960\\\\\n",
              "\\end{tabular}\n"
            ],
            "text/markdown": [
              "\n",
              "A matrix: 4 × 1 of type dbl\n",
              "\n",
              "| <!--/--> | Regression Tree |\n",
              "|---|---|\n",
              "| Estimate | 0.25284448 |\n",
              "| Standard Error | 0.02509228 |\n",
              "| RMSE D | 0.49837344 |\n",
              "| RMSE Y | 0.47241960 |\n",
              "\n"
            ],
            "text/plain": [
              "               Regression Tree\n",
              "Estimate       0.25284448     \n",
              "Standard Error 0.02509228     \n",
              "RMSE D         0.49837344     \n",
              "RMSE Y         0.47241960     "
            ]
          },
          "metadata": {},
          "output_type": "display_data"
        }
      ],
      "source": [
        "yreg_treeboost<- function(dataa){gbm(y_form_tree, data=dataa, distribution= \"gaussian\", bag.fraction = .5, interaction.depth=2, n.trees=1000, shrinkage=.01)}\n",
        "treg_treeboost<- function(dataa){gbm(t_form_tree, data=dataa, distribution= \"gaussian\", bag.fraction = .5, interaction.depth=2, n.trees=1000, shrinkage=.01)}\n",
        "DML2.boosttree = DML2.for.PLM.boosttree(data_train, treg_treeboost, yreg_treeboost, nfold=10)\n",
        "\n",
        "coef_boosttree<-as.numeric(DML2.boosttree$coef.est)\n",
        "se_boosttree<-as.numeric(DML2.boosttree$se)\n",
        "prRes_boosttreeD<- c(mean((DML2.boosttree$dtil)^2));\n",
        "prRes_boosttreeY<- c(mean((DML2.boosttree$ytil)^2));\n",
        "prRes_boosttree<- rbind(coef_boosttree,se_boosttree,sqrt(prRes_boosttreeD), sqrt(prRes_boosttreeY));\n",
        "rownames(prRes_boosttree)<- c(\"Estimate\",\"Standard Error\",\"RMSE D\", \"RMSE Y\");\n",
        "colnames(prRes_boosttree)<- c(\"Regression Tree\")\n",
        "prRes_boosttree"
      ]
    },
    {
      "cell_type": "markdown",
      "metadata": {
        "id": "p7OAS_Y1ahZA"
      },
      "source": [
        "The message treatment providing information about Internet-accessed sexually transmitted\n",
        "infection testing predicts an increase in the probability that a person will get tested\n",
        "by 25.28 percentage points compared to receiving information about nearby clinics offering\n",
        "in-person testing.\n",
        "By providing both groups with information about testing, we mitigate the potential reminder\n",
        "effect, as both groups are equally prompted to consider testing. This approach allows us to\n",
        "isolate the impact of the type of information \"Internet-accessed testing\" versus \"in-person clinic\n",
        "testing\" on the likelihood of getting tested. Through randomized assignment, we establish causality\n",
        "rather than mere correlation, confirming that the intervention's effect is driven by the unique\n",
        "advantages of Internet-accessed testing, such as increased privacy, reduced embarrassment, and\n",
        "convenience"
      ]
    },
    {
      "cell_type": "markdown",
      "metadata": {
        "id": "aSrQwzuAai1K"
      },
      "source": [
        "#### 3.4. Random Forest"
      ]
    },
    {
      "cell_type": "code",
      "execution_count": null,
      "metadata": {
        "colab": {
          "base_uri": "https://localhost:8080/",
          "height": 955
        },
        "id": "X2fh75yOm2he",
        "outputId": "5e2bd132-9e01-48ec-dec4-d7b200cd5ad0",
        "vscode": {
          "languageId": "r"
        }
      },
      "outputs": [
        {
          "name": "stdout",
          "output_type": "stream",
          "text": [
            "\n",
            "DML with Random Forest \n",
            "fold: "
          ]
        },
        {
          "name": "stderr",
          "output_type": "stream",
          "text": [
            "Warning message in randomForest.default(x, d):\n",
            "“The response has five or fewer unique values.  Are you sure you want to do regression?”\n",
            "Warning message in randomForest.default(x, y):\n",
            "“The response has five or fewer unique values.  Are you sure you want to do regression?”\n"
          ]
        },
        {
          "name": "stdout",
          "output_type": "stream",
          "text": [
            "1  "
          ]
        },
        {
          "name": "stderr",
          "output_type": "stream",
          "text": [
            "Warning message in randomForest.default(x, d):\n",
            "“The response has five or fewer unique values.  Are you sure you want to do regression?”\n",
            "Warning message in randomForest.default(x, y):\n",
            "“The response has five or fewer unique values.  Are you sure you want to do regression?”\n"
          ]
        },
        {
          "name": "stdout",
          "output_type": "stream",
          "text": [
            "2  "
          ]
        },
        {
          "name": "stderr",
          "output_type": "stream",
          "text": [
            "Warning message in randomForest.default(x, d):\n",
            "“The response has five or fewer unique values.  Are you sure you want to do regression?”\n",
            "Warning message in randomForest.default(x, y):\n",
            "“The response has five or fewer unique values.  Are you sure you want to do regression?”\n"
          ]
        },
        {
          "name": "stdout",
          "output_type": "stream",
          "text": [
            "3  "
          ]
        },
        {
          "name": "stderr",
          "output_type": "stream",
          "text": [
            "Warning message in randomForest.default(x, d):\n",
            "“The response has five or fewer unique values.  Are you sure you want to do regression?”\n",
            "Warning message in randomForest.default(x, y):\n",
            "“The response has five or fewer unique values.  Are you sure you want to do regression?”\n"
          ]
        },
        {
          "name": "stdout",
          "output_type": "stream",
          "text": [
            "4  "
          ]
        },
        {
          "name": "stderr",
          "output_type": "stream",
          "text": [
            "Warning message in randomForest.default(x, d):\n",
            "“The response has five or fewer unique values.  Are you sure you want to do regression?”\n",
            "Warning message in randomForest.default(x, y):\n",
            "“The response has five or fewer unique values.  Are you sure you want to do regression?”\n"
          ]
        },
        {
          "name": "stdout",
          "output_type": "stream",
          "text": [
            "5  "
          ]
        },
        {
          "name": "stderr",
          "output_type": "stream",
          "text": [
            "Warning message in randomForest.default(x, d):\n",
            "“The response has five or fewer unique values.  Are you sure you want to do regression?”\n",
            "Warning message in randomForest.default(x, y):\n",
            "“The response has five or fewer unique values.  Are you sure you want to do regression?”\n"
          ]
        },
        {
          "name": "stdout",
          "output_type": "stream",
          "text": [
            "6  "
          ]
        },
        {
          "name": "stderr",
          "output_type": "stream",
          "text": [
            "Warning message in randomForest.default(x, d):\n",
            "“The response has five or fewer unique values.  Are you sure you want to do regression?”\n",
            "Warning message in randomForest.default(x, y):\n",
            "“The response has five or fewer unique values.  Are you sure you want to do regression?”\n"
          ]
        },
        {
          "name": "stdout",
          "output_type": "stream",
          "text": [
            "7  "
          ]
        },
        {
          "name": "stderr",
          "output_type": "stream",
          "text": [
            "Warning message in randomForest.default(x, d):\n",
            "“The response has five or fewer unique values.  Are you sure you want to do regression?”\n",
            "Warning message in randomForest.default(x, y):\n",
            "“The response has five or fewer unique values.  Are you sure you want to do regression?”\n"
          ]
        },
        {
          "name": "stdout",
          "output_type": "stream",
          "text": [
            "8  "
          ]
        },
        {
          "name": "stderr",
          "output_type": "stream",
          "text": [
            "Warning message in randomForest.default(x, d):\n",
            "“The response has five or fewer unique values.  Are you sure you want to do regression?”\n",
            "Warning message in randomForest.default(x, y):\n",
            "“The response has five or fewer unique values.  Are you sure you want to do regression?”\n"
          ]
        },
        {
          "name": "stdout",
          "output_type": "stream",
          "text": [
            "9  "
          ]
        },
        {
          "name": "stderr",
          "output_type": "stream",
          "text": [
            "Warning message in randomForest.default(x, d):\n",
            "“The response has five or fewer unique values.  Are you sure you want to do regression?”\n",
            "Warning message in randomForest.default(x, y):\n",
            "“The response has five or fewer unique values.  Are you sure you want to do regression?”\n"
          ]
        },
        {
          "name": "stdout",
          "output_type": "stream",
          "text": [
            "10  \n",
            "coef (se) = 0.23865 (0.024669)\n"
          ]
        },
        {
          "data": {
            "text/html": [
              "<table class=\"dataframe\">\n",
              "<caption>A matrix: 4 × 1 of type dbl</caption>\n",
              "<thead>\n",
              "\t<tr><th></th><th scope=col>Random Forest</th></tr>\n",
              "</thead>\n",
              "<tbody>\n",
              "\t<tr><th scope=row>Estimate</th><td>0.23864993</td></tr>\n",
              "\t<tr><th scope=row>Standard Error</th><td>0.02466897</td></tr>\n",
              "\t<tr><th scope=row>RMSE D</th><td>0.50546486</td></tr>\n",
              "\t<tr><th scope=row>RMSE Y</th><td>0.46976308</td></tr>\n",
              "</tbody>\n",
              "</table>\n"
            ],
            "text/latex": [
              "A matrix: 4 × 1 of type dbl\n",
              "\\begin{tabular}{r|l}\n",
              "  & Random Forest\\\\\n",
              "\\hline\n",
              "\tEstimate & 0.23864993\\\\\n",
              "\tStandard Error & 0.02466897\\\\\n",
              "\tRMSE D & 0.50546486\\\\\n",
              "\tRMSE Y & 0.46976308\\\\\n",
              "\\end{tabular}\n"
            ],
            "text/markdown": [
              "\n",
              "A matrix: 4 × 1 of type dbl\n",
              "\n",
              "| <!--/--> | Random Forest |\n",
              "|---|---|\n",
              "| Estimate | 0.23864993 |\n",
              "| Standard Error | 0.02466897 |\n",
              "| RMSE D | 0.50546486 |\n",
              "| RMSE Y | 0.46976308 |\n",
              "\n"
            ],
            "text/plain": [
              "               Random Forest\n",
              "Estimate       0.23864993   \n",
              "Standard Error 0.02466897   \n",
              "RMSE D         0.50546486   \n",
              "RMSE Y         0.46976308   "
            ]
          },
          "metadata": {},
          "output_type": "display_data"
        }
      ],
      "source": [
        "cat(sprintf(\"\\nDML with Random Forest \\n\"))\n",
        "dreg <- function(x,d){ randomForest(x, d) } #ML method=Forest\n",
        "yreg <- function(x,y){ randomForest(x, y) } #ML method=Forest\n",
        "DML2.RF = DML2.for.PLM(x, d, y, dreg, yreg, nfold=10)\n",
        "\n",
        "coef_RF<-as.numeric(DML2.RF$coef.est)\n",
        "se_RF<-as.numeric(DML2.RF$se)\n",
        "prRes_RFD<- c(mean((DML2.RF$dtil)^2));\n",
        "prRes_RFY<- c(mean((DML2.RF$ytil)^2));\n",
        "prRes_RF<- rbind(coef_RF,se_RF,sqrt(prRes_RFD), sqrt(prRes_RFY));\n",
        "rownames(prRes_RF)<- c(\"Estimate\",\"Standard Error\",\"RMSE D\", \"RMSE Y\");\n",
        "colnames(prRes_RF)<- c(\"Random Forest\")\n",
        "prRes_RF"
      ]
    },
    {
      "cell_type": "markdown",
      "metadata": {
        "id": "qXQR0Fdnal91"
      },
      "source": [
        "The message treatment providing information about Internet-accessed sexually transmitted\n",
        "infection testing predicts an increase in the probability that a person will get tested\n",
        "by 24.14 percentage points compared to receiving information about nearby clinics offering\n",
        "in-person testing.\n",
        "By providing both groups with information about testing, we mitigate the potential reminder\n",
        "effect, as both groups are equally prompted to consider testing. This approach allows us to\n",
        "isolate the impact of the type of information \"Internet-accessed testing\" versus \"in-person clinic\n",
        "testing\" on the likelihood of getting tested. Through randomized assignment, we establish causality\n",
        "rather than mere correlation, confirming that the intervention's effect is driven by the unique\n",
        "advantages of Internet-accessed testing, such as increased privacy, reduced embarrassment, and\n",
        "convenience"
      ]
    },
    {
      "cell_type": "markdown",
      "metadata": {
        "id": "ULk24syiannY"
      },
      "source": [
        "#### 3.5. Table and Coefficient plot"
      ]
    },
    {
      "cell_type": "markdown",
      "metadata": {
        "id": "nM0oQsO5anpQ"
      },
      "source": [
        "##### Table"
      ]
    },
    {
      "cell_type": "markdown",
      "metadata": {
        "id": "b64ZKJVzaz5g"
      },
      "source": [
        "##### Coefficient Plot"
      ]
    },
    {
      "cell_type": "code",
      "execution_count": null,
      "metadata": {
        "colab": {
          "base_uri": "https://localhost:8080/",
          "height": 192
        },
        "id": "VAjyX70MnNUz",
        "outputId": "faf9d515-53cd-4523-d370-8618339fa4fb",
        "vscode": {
          "languageId": "r"
        }
      },
      "outputs": [
        {
          "data": {
            "text/html": [
              "<table class=\"dataframe\">\n",
              "<caption>A matrix: 4 × 4 of type dbl</caption>\n",
              "<thead>\n",
              "\t<tr><th></th><th scope=col>Estimate</th><th scope=col>Standard Error</th><th scope=col>RMSE Y</th><th scope=col>RMSE D</th></tr>\n",
              "</thead>\n",
              "<tbody>\n",
              "\t<tr><th scope=row>Lasso</th><td>0.2513046</td><td>0.02511208</td><td>0.4716420</td><td>0.4983869</td></tr>\n",
              "\t<tr><th scope=row>Reg Tree</th><td>0.2308014</td><td>0.02388680</td><td>0.4918633</td><td>0.5348227</td></tr>\n",
              "\t<tr><th scope=row>Boost Tree</th><td>0.2528445</td><td>0.02509228</td><td>0.4724196</td><td>0.4983734</td></tr>\n",
              "\t<tr><th scope=row>Random Forest</th><td>0.2386499</td><td>0.02466897</td><td>0.4697631</td><td>0.5054649</td></tr>\n",
              "</tbody>\n",
              "</table>\n"
            ],
            "text/latex": [
              "A matrix: 4 × 4 of type dbl\n",
              "\\begin{tabular}{r|llll}\n",
              "  & Estimate & Standard Error & RMSE Y & RMSE D\\\\\n",
              "\\hline\n",
              "\tLasso & 0.2513046 & 0.02511208 & 0.4716420 & 0.4983869\\\\\n",
              "\tReg Tree & 0.2308014 & 0.02388680 & 0.4918633 & 0.5348227\\\\\n",
              "\tBoost Tree & 0.2528445 & 0.02509228 & 0.4724196 & 0.4983734\\\\\n",
              "\tRandom Forest & 0.2386499 & 0.02466897 & 0.4697631 & 0.5054649\\\\\n",
              "\\end{tabular}\n"
            ],
            "text/markdown": [
              "\n",
              "A matrix: 4 × 4 of type dbl\n",
              "\n",
              "| <!--/--> | Estimate | Standard Error | RMSE Y | RMSE D |\n",
              "|---|---|---|---|---|\n",
              "| Lasso | 0.2513046 | 0.02511208 | 0.4716420 | 0.4983869 |\n",
              "| Reg Tree | 0.2308014 | 0.02388680 | 0.4918633 | 0.5348227 |\n",
              "| Boost Tree | 0.2528445 | 0.02509228 | 0.4724196 | 0.4983734 |\n",
              "| Random Forest | 0.2386499 | 0.02466897 | 0.4697631 | 0.5054649 |\n",
              "\n"
            ],
            "text/plain": [
              "              Estimate  Standard Error RMSE Y    RMSE D   \n",
              "Lasso         0.2513046 0.02511208     0.4716420 0.4983869\n",
              "Reg Tree      0.2308014 0.02388680     0.4918633 0.5348227\n",
              "Boost Tree    0.2528445 0.02509228     0.4724196 0.4983734\n",
              "Random Forest 0.2386499 0.02466897     0.4697631 0.5054649"
            ]
          },
          "metadata": {},
          "output_type": "display_data"
        }
      ],
      "source": [
        "prRes.D<- c( mean((DML2.lasso$dtil)^2), mean((DML2.tree$dtil)^2), mean((DML2.boosttree$dtil)^2), mean((DML2.RF$dtil)^2));\n",
        "prRes.Y<- c(mean((DML2.lasso$ytil)^2), mean((DML2.tree$ytil)^2),mean((DML2.boosttree$ytil)^2),mean((DML2.RF$ytil)^2));\n",
        "prRes<- rbind(sqrt(prRes.D), sqrt(prRes.Y));\n",
        "rownames(prRes)<- c(\"RMSE D\", \"RMSE Y\");\n",
        "colnames(prRes)<- c(\"Lasso\", \"Reg Tree\", \"Boost Tree\", \"Random Forest\")\n",
        "\n",
        "table <- matrix(0,4,4)\n",
        "# Point Estimate\n",
        "table[1,1] <- as.numeric(DML2.lasso$coef.est)\n",
        "table[2,1] <- as.numeric(DML2.tree$coef.est)\n",
        "table[3,1] <- as.numeric(DML2.boosttree$coef.est)\n",
        "table[4,1]   <- as.numeric(DML2.RF$coef.est)\n",
        "# SE\n",
        "table[1,2] <- as.numeric(DML2.lasso$se)\n",
        "table[2,2] <- as.numeric(DML2.tree$se)\n",
        "table[3,2] <- as.numeric(DML2.boosttree$se)\n",
        "table[4,2]   <- as.numeric(DML2.RF$se)\n",
        "# RMSE Y\n",
        "table[1,3] <- as.numeric(prRes[2,1])\n",
        "table[2,3] <- as.numeric(prRes[2,2])\n",
        "table[3,3] <- as.numeric(prRes[2,3])\n",
        "table[4,3]   <- as.numeric(prRes[2,4])\n",
        "# RMSE D\n",
        "table[1,4] <- as.numeric(prRes[1,1])\n",
        "table[2,4] <- as.numeric(prRes[1,2])\n",
        "table[3,4] <- as.numeric(prRes[1,3])\n",
        "table[4,4]   <- as.numeric(prRes[1,4])\n",
        "# print results\n",
        "colnames(table) <- c(\"Estimate\",\"Standard Error\", \"RMSE Y\", \"RMSE D\")\n",
        "rownames(table) <- c(\"Lasso\", \"Reg Tree\", \"Boost Tree\", \"Random Forest\")\n",
        "table"
      ]
    },
    {
      "cell_type": "code",
      "execution_count": null,
      "metadata": {
        "colab": {
          "base_uri": "https://localhost:8080/",
          "height": 437
        },
        "id": "g8l0mts-a2jy",
        "outputId": "f0514437-f3a6-4423-964e-9067538744e4",
        "vscode": {
          "languageId": "r"
        }
      },
      "outputs": [
        {
          "data": {
            "image/png": "[encoded data removed]",
            "text/plain": [
              "plot without title"
            ]
          },
          "metadata": {
            "image/png": {
              "height": 420,
              "width": 420
            }
          },
          "output_type": "display_data"
        }
      ],
      "source": [
        "table_ci<-as.data.frame(table)\n",
        "table_ci$CI_Lower_1 <- table_ci$Estimate - 2.576 * table_ci$'Standard Error'\n",
        "table_ci$CI_Upper_1 <- table_ci$Estimate + 2.576 * table_ci$'Standard Error'\n",
        "table_ci$CI_Lower_5 <- table_ci$Estimate - 1.96 * table_ci$'Standard Error'\n",
        "table_ci$CI_Upper_5 <- table_ci$Estimate + 1.96 * table_ci$'Standard Error'\n",
        "table_ci$CI_Lower_10 <- table_ci$Estimate - 1.645 * table_ci$'Standard Error'\n",
        "table_ci$CI_Upper_10 <- table_ci$Estimate + 1.645 * table_ci$'Standard Error'\n",
        "\n",
        "ggplot(table_ci, aes(x = rownames(table_ci), y = Estimate)) +\n",
        "  geom_point(size = 4) +\n",
        "  geom_errorbar(aes(ymin = CI_Lower_5, ymax = CI_Upper_5), width = 0.2, color = \"blue\", alpha = 0.7) +\n",
        "  geom_errorbar(aes(ymin = CI_Lower_10, ymax = CI_Upper_10), width = 0.1, color = \"red\", alpha = 0.7) +\n",
        "  geom_errorbar(aes(ymin = CI_Lower_1, ymax = CI_Upper_1), width = 0.05, color = \"green\", alpha = 0.7) +\n",
        "  labs(title = \"Estimated Coefficients with Confidence Intervals\",\n",
        "       y = \"Estimate\",\n",
        "       x = \"Method\") +\n",
        "  theme_minimal() +\n",
        "  theme(axis.text.x = element_text(angle = 45, hjust = 1))"
      ]
    },
    {
      "cell_type": "markdown",
      "metadata": {
        "id": "DFKiMAQsa19i"
      },
      "source": [
        "#### 3.6. Model"
      ]
    },
    {
      "cell_type": "markdown",
      "metadata": {
        "id": "o0QYaqRXanrG"
      },
      "source": [
        "To choose the best model, we must compare the RMSEs of the outcome variable Y. In this case, the model with the lowest RMSE for Y\n",
        "is generated by Lasso (0.4716420), whereas the lowest for the treatment is generated by Boosting Trees (0.4983734). Therefore, DML\n",
        "could be employed with Y cleaned using Lasso and the treatment using Boosting Trees."
      ]
    }
  ],
  "metadata": {
    "colab": {
      "provenance": []
    },
    "kernelspec": {
      "display_name": "R",
      "name": "ir"
    },
    "language_info": {
      "name": "R"
    }
  },
  "nbformat": 4,
  "nbformat_minor": 0
}
