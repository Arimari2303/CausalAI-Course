{
 "cells": [
  {
   "cell_type": "markdown",
   "metadata": {},
   "source": [
    "# Workgroup 5\n",
    "\n",
    "Authors: Valerie Dube, Erzo Garay, Juan Marcos Guerrero y Matias Villalba"
   ]
  },
  {
   "cell_type": "markdown",
   "metadata": {},
   "source": [
    "## Replication and Data analysis"
   ]
  },
  {
   "cell_type": "code",
   "execution_count": 32,
   "metadata": {},
   "outputs": [],
   "source": [
    "# Libraries\n",
    "import pandas as pd\n",
    "import seaborn as sns\n",
    "import matplotlib.pyplot as plt\n",
    "import hdmpy\n",
    "from sklearn.base import BaseEstimator\n",
    "from sklearn.pipeline import make_pipeline\n",
    "from sklearn.preprocessing import StandardScaler\n",
    "import sys\n",
    "\n",
    "import statsmodels.formula.api as smf"
   ]
  },
  {
   "cell_type": "markdown",
   "metadata": {},
   "source": [
    "### 1. Descriptives"
   ]
  },
  {
   "cell_type": "markdown",
   "metadata": {},
   "source": [
    "#### 1.1. Descriptive table (vale)"
   ]
  },
  {
   "cell_type": "code",
   "execution_count": 2,
   "metadata": {},
   "outputs": [
    {
     "data": {
      "text/html": [
       "<div>\n",
       "<style scoped>\n",
       "    .dataframe tbody tr th:only-of-type {\n",
       "        vertical-align: middle;\n",
       "    }\n",
       "\n",
       "    .dataframe tbody tr th {\n",
       "        vertical-align: top;\n",
       "    }\n",
       "\n",
       "    .dataframe thead th {\n",
       "        text-align: right;\n",
       "    }\n",
       "</style>\n",
       "<table border=\"1\" class=\"dataframe\">\n",
       "  <thead>\n",
       "    <tr style=\"text-align: right;\">\n",
       "      <th></th>\n",
       "      <th>y</th>\n",
       "      <th>w</th>\n",
       "      <th>gender_female</th>\n",
       "      <th>gender_male</th>\n",
       "      <th>gender_transgender</th>\n",
       "      <th>ethnicgrp_asian</th>\n",
       "      <th>ethnicgrp_black</th>\n",
       "      <th>ethnicgrp_mixed_multiple</th>\n",
       "      <th>ethnicgrp_other</th>\n",
       "      <th>ethnicgrp_white</th>\n",
       "      <th>partners1</th>\n",
       "      <th>postlaunch</th>\n",
       "      <th>msm</th>\n",
       "      <th>age</th>\n",
       "      <th>imd_decile</th>\n",
       "    </tr>\n",
       "  </thead>\n",
       "  <tbody>\n",
       "    <tr>\n",
       "      <th>0</th>\n",
       "      <td>1</td>\n",
       "      <td>1</td>\n",
       "      <td>0</td>\n",
       "      <td>1</td>\n",
       "      <td>0</td>\n",
       "      <td>0</td>\n",
       "      <td>0</td>\n",
       "      <td>1</td>\n",
       "      <td>0</td>\n",
       "      <td>0</td>\n",
       "      <td>0</td>\n",
       "      <td>1</td>\n",
       "      <td>0</td>\n",
       "      <td>27</td>\n",
       "      <td>5</td>\n",
       "    </tr>\n",
       "    <tr>\n",
       "      <th>1</th>\n",
       "      <td>0</td>\n",
       "      <td>0</td>\n",
       "      <td>0</td>\n",
       "      <td>1</td>\n",
       "      <td>0</td>\n",
       "      <td>0</td>\n",
       "      <td>0</td>\n",
       "      <td>0</td>\n",
       "      <td>0</td>\n",
       "      <td>1</td>\n",
       "      <td>0</td>\n",
       "      <td>0</td>\n",
       "      <td>0</td>\n",
       "      <td>19</td>\n",
       "      <td>6</td>\n",
       "    </tr>\n",
       "    <tr>\n",
       "      <th>2</th>\n",
       "      <td>0</td>\n",
       "      <td>1</td>\n",
       "      <td>0</td>\n",
       "      <td>1</td>\n",
       "      <td>0</td>\n",
       "      <td>0</td>\n",
       "      <td>1</td>\n",
       "      <td>0</td>\n",
       "      <td>0</td>\n",
       "      <td>0</td>\n",
       "      <td>0</td>\n",
       "      <td>1</td>\n",
       "      <td>0</td>\n",
       "      <td>26</td>\n",
       "      <td>4</td>\n",
       "    </tr>\n",
       "    <tr>\n",
       "      <th>3</th>\n",
       "      <td>0</td>\n",
       "      <td>0</td>\n",
       "      <td>1</td>\n",
       "      <td>0</td>\n",
       "      <td>0</td>\n",
       "      <td>0</td>\n",
       "      <td>0</td>\n",
       "      <td>0</td>\n",
       "      <td>0</td>\n",
       "      <td>1</td>\n",
       "      <td>1</td>\n",
       "      <td>0</td>\n",
       "      <td>0</td>\n",
       "      <td>20</td>\n",
       "      <td>2</td>\n",
       "    </tr>\n",
       "    <tr>\n",
       "      <th>4</th>\n",
       "      <td>1</td>\n",
       "      <td>1</td>\n",
       "      <td>1</td>\n",
       "      <td>0</td>\n",
       "      <td>0</td>\n",
       "      <td>1</td>\n",
       "      <td>0</td>\n",
       "      <td>0</td>\n",
       "      <td>0</td>\n",
       "      <td>0</td>\n",
       "      <td>0</td>\n",
       "      <td>1</td>\n",
       "      <td>0</td>\n",
       "      <td>24</td>\n",
       "      <td>3</td>\n",
       "    </tr>\n",
       "  </tbody>\n",
       "</table>\n",
       "</div>"
      ],
      "text/plain": [
       "   y  w  gender_female  gender_male  gender_transgender  ethnicgrp_asian  \\\n",
       "0  1  1              0            1                   0                0   \n",
       "1  0  0              0            1                   0                0   \n",
       "2  0  1              0            1                   0                0   \n",
       "3  0  0              1            0                   0                0   \n",
       "4  1  1              1            0                   0                1   \n",
       "\n",
       "   ethnicgrp_black  ethnicgrp_mixed_multiple  ethnicgrp_other  \\\n",
       "0                0                         1                0   \n",
       "1                0                         0                0   \n",
       "2                1                         0                0   \n",
       "3                0                         0                0   \n",
       "4                0                         0                0   \n",
       "\n",
       "   ethnicgrp_white  partners1  postlaunch  msm  age  imd_decile  \n",
       "0                0          0           1    0   27           5  \n",
       "1                1          0           0    0   19           6  \n",
       "2                0          0           1    0   26           4  \n",
       "3                1          1           0    0   20           2  \n",
       "4                0          0           1    0   24           3  "
      ]
     },
     "execution_count": 2,
     "metadata": {},
     "output_type": "execute_result"
    }
   ],
   "source": [
    "# Import data and see first observations\n",
    "df = pd.read_csv(\"../../data/processed_esti.csv\")\n",
    "df.head()"
   ]
  },
  {
   "cell_type": "code",
   "execution_count": 3,
   "metadata": {},
   "outputs": [
    {
     "name": "stdout",
     "output_type": "stream",
     "text": [
      "<class 'pandas.core.frame.DataFrame'>\n",
      "RangeIndex: 1739 entries, 0 to 1738\n",
      "Data columns (total 15 columns):\n",
      " #   Column                    Non-Null Count  Dtype\n",
      "---  ------                    --------------  -----\n",
      " 0   y                         1739 non-null   int64\n",
      " 1   w                         1739 non-null   int64\n",
      " 2   gender_female             1739 non-null   int64\n",
      " 3   gender_male               1739 non-null   int64\n",
      " 4   gender_transgender        1739 non-null   int64\n",
      " 5   ethnicgrp_asian           1739 non-null   int64\n",
      " 6   ethnicgrp_black           1739 non-null   int64\n",
      " 7   ethnicgrp_mixed_multiple  1739 non-null   int64\n",
      " 8   ethnicgrp_other           1739 non-null   int64\n",
      " 9   ethnicgrp_white           1739 non-null   int64\n",
      " 10  partners1                 1739 non-null   int64\n",
      " 11  postlaunch                1739 non-null   int64\n",
      " 12  msm                       1739 non-null   int64\n",
      " 13  age                       1739 non-null   int64\n",
      " 14  imd_decile                1739 non-null   int64\n",
      "dtypes: int64(15)\n",
      "memory usage: 203.9 KB\n"
     ]
    }
   ],
   "source": [
    "df.info()"
   ]
  },
  {
   "cell_type": "code",
   "execution_count": 4,
   "metadata": {},
   "outputs": [],
   "source": [
    "control = df[df['w'] == 0].drop('y', axis=1)\n",
    "treatment = df[df['w'] == 1].drop('y', axis=1)"
   ]
  },
  {
   "cell_type": "code",
   "execution_count": 5,
   "metadata": {},
   "outputs": [],
   "source": [
    "def get_descriptive_stats(group, column):\n",
    "    if column == 'age':\n",
    "        count = group[column].count()\n",
    "    else:\n",
    "        count = (group[column] == 1).sum()\n",
    "    mean = group[column].mean()\n",
    "    std = group[column].std()\n",
    "    return count, mean, std\n",
    "\n",
    "variables = df.columns.drop(['w', 'y'])\n",
    "control_stats = {var: get_descriptive_stats(control, var) for var in variables}\n",
    "treatment_stats = {var: get_descriptive_stats(treatment, var) for var in variables}\n",
    "\n",
    "control_df = pd.DataFrame(control_stats, index=['count', 'mean', 'std']).T\n",
    "treatment_df = pd.DataFrame(treatment_stats, index=['count', 'mean', 'std']).T\n",
    "\n",
    "control_df.columns = pd.MultiIndex.from_product([['Control'], control_df.columns])\n",
    "treatment_df.columns = pd.MultiIndex.from_product([['Treatment'], treatment_df.columns])\n",
    "\n",
    "combined_df = pd.concat([control_df, treatment_df], axis=1)"
   ]
  },
  {
   "cell_type": "code",
   "execution_count": 6,
   "metadata": {},
   "outputs": [
    {
     "name": "stdout",
     "output_type": "stream",
     "text": [
      "Table 1: Descriptive Statistics and Balance\n",
      "\n",
      "                         Control              Treatment             \n",
      "                           count   mean   std     count   mean   std\n",
      "gender_female              475.0   0.58  0.49     541.0   0.59  0.49\n",
      "gender_male                342.0   0.42  0.49     377.0   0.41  0.49\n",
      "gender_transgender           1.0   0.00  0.03       3.0   0.00  0.06\n",
      "ethnicgrp_asian             45.0   0.06  0.23      66.0   0.07  0.26\n",
      "ethnicgrp_black             76.0   0.09  0.29      74.0   0.08  0.27\n",
      "ethnicgrp_mixed_multiple    76.0   0.09  0.29      78.0   0.08  0.28\n",
      "ethnicgrp_other             14.0   0.02  0.13       9.0   0.01  0.10\n",
      "ethnicgrp_white            607.0   0.74  0.44     694.0   0.75  0.43\n",
      "partners1                  239.0   0.29  0.46     277.0   0.30  0.46\n",
      "postlaunch                 387.0   0.47  0.50     512.0   0.56  0.50\n",
      "msm                        113.0   0.14  0.35     114.0   0.12  0.33\n",
      "age                        818.0  23.05  3.59     921.0  23.16  3.54\n",
      "imd_decile                  37.0   3.48  1.49      36.0   3.46  1.47\n"
     ]
    }
   ],
   "source": [
    "formatted_table = combined_df[['Control', 'Treatment']].round(2)\n",
    "\n",
    "print(\"Table 1: Descriptive Statistics and Balance\\n\")\n",
    "print(formatted_table)"
   ]
  },
  {
   "cell_type": "markdown",
   "metadata": {},
   "source": [
    "The observations for each variable are generally balanced between the control and treatment groups. Additionally, most participants are white, with an average age of approximately 23. The mean IMD decile scores are around 3.5, indicating that participants in both groups tend to come from more deprived areas."
   ]
  },
  {
   "cell_type": "markdown",
   "metadata": {},
   "source": [
    "#### 1.2. Descriptive graphs (vale)"
   ]
  },
  {
   "cell_type": "code",
   "execution_count": 7,
   "metadata": {},
   "outputs": [
    {
     "data": {
      "image/png": "[encoded data removed]",
      "text/plain": [
       "<Figure size 640x480 with 1 Axes>"
      ]
     },
     "metadata": {},
     "output_type": "display_data"
    }
   ],
   "source": [
    "ax = sns.barplot(\n",
    "    data=df.groupby('w')['gender_male'].value_counts(normalize=True).to_frame().set_axis(['prop'], axis=1),\n",
    "    x=\"gender_male\",\n",
    "    y=\"prop\",\n",
    "    hue=\"w\",\n",
    "    )\n",
    "\n",
    "ax.yaxis.set_major_formatter(\"{x:.0%}\")\n",
    "ax.set_xlabel(\"Gender (male=1, female or transgender=0)\")\n",
    "ax.legend(title='Treatment=1')\n",
    "\n",
    "plt.show()"
   ]
  },
  {
   "cell_type": "markdown",
   "metadata": {},
   "source": [
    "As we saw in section 1.1., there is a similar percentage of males and females participants in each treatment group in the sample. "
   ]
  },
  {
   "cell_type": "code",
   "execution_count": 8,
   "metadata": {},
   "outputs": [
    {
     "data": {
      "image/png": "[encoded data removed]",
      "text/plain": [
       "<Figure size 640x480 with 1 Axes>"
      ]
     },
     "metadata": {},
     "output_type": "display_data"
    }
   ],
   "source": [
    "ax = sns.barplot(\n",
    "    data=df.groupby('w')['partners1'].value_counts(normalize=True).to_frame().set_axis(['prop'], axis=1),\n",
    "    x=\"partners1\",\n",
    "    y=\"prop\",\n",
    "    hue=\"w\",\n",
    "    )\n",
    "\n",
    "ax.yaxis.set_major_formatter(\"{x:.0%}\")\n",
    "ax.set_xlabel(\"Number of partners (one partner=1)\")\n",
    "ax.legend(title='Treatment=1')\n",
    "\n",
    "plt.show()"
   ]
  },
  {
   "cell_type": "markdown",
   "metadata": {},
   "source": [
    "In a similar manner, we note an equal percentage of participants with 2 or more sexual partners as well as those with 1 sexual partner in the last 12 months from the beginning of the study, per treatment or control group."
   ]
  },
  {
   "cell_type": "code",
   "execution_count": 9,
   "metadata": {},
   "outputs": [
    {
     "data": {
      "image/png": "[encoded data removed]",
      "text/plain": [
       "<Figure size 640x480 with 1 Axes>"
      ]
     },
     "metadata": {},
     "output_type": "display_data"
    }
   ],
   "source": [
    "ax = sns.histplot(data=df, x=\"age\", hue=\"w\", element=\"poly\", stat=\"percent\", common_norm=False)\n",
    "\n",
    "new_labels = ['Control', 'Treatment']  # Replace with your desired labels\n",
    "for t, l in zip(ax.get_legend().texts, new_labels):\n",
    "    t.set_text(l)\n",
    "\n",
    "plt.show()"
   ]
  },
  {
   "cell_type": "markdown",
   "metadata": {},
   "source": [
    "We can see a higher percentage of participants aged between 23 and 27 in the treatment group. Also, there is a higher perceptange of participants aged between 21 and 22 and 27 and 29 in the control group."
   ]
  },
  {
   "cell_type": "code",
   "execution_count": 10,
   "metadata": {},
   "outputs": [
    {
     "data": {
      "image/png": "[encoded data removed]",
      "text/plain": [
       "<Figure size 640x480 with 1 Axes>"
      ]
     },
     "metadata": {},
     "output_type": "display_data"
    }
   ],
   "source": [
    "ax = sns.histplot(data=df, x=\"imd_decile\", hue=\"w\", element=\"poly\", discrete=True, stat=\"percent\", common_norm=False)\n",
    "\n",
    "new_labels = ['Control', 'Treatment']  # Replace with your desired labels\n",
    "for t, l in zip(ax.get_legend().texts, new_labels):\n",
    "    t.set_text(l)\n",
    "\n",
    "plt.show()"
   ]
  },
  {
   "cell_type": "markdown",
   "metadata": {},
   "source": [
    "In the case of the IMD decile, an index that measures poverty in the UK, we can see the same proportion of participants in each group."
   ]
  },
  {
   "cell_type": "markdown",
   "metadata": {},
   "source": [
    "### 2. Linear Regression analysis"
   ]
  },
  {
   "cell_type": "markdown",
   "metadata": {},
   "source": [
    "#### 2.1. Regression 1: $y = \\beta_0 + \\beta_1 T + \\epsilon$   (Vale)"
   ]
  },
  {
   "cell_type": "code",
   "execution_count": 11,
   "metadata": {},
   "outputs": [
    {
     "name": "stdout",
     "output_type": "stream",
     "text": [
      "                            OLS Regression Results                            \n",
      "==============================================================================\n",
      "Dep. Variable:                      y   R-squared:                       0.077\n",
      "Model:                            OLS   Adj. R-squared:                  0.076\n",
      "Method:                 Least Squares   F-statistic:                     144.5\n",
      "Date:                Sun, 16 Jun 2024   Prob (F-statistic):           4.96e-32\n",
      "Time:                        13:50:16   Log-Likelihood:                -1112.9\n",
      "No. Observations:                1739   AIC:                             2230.\n",
      "Df Residuals:                    1737   BIC:                             2241.\n",
      "Df Model:                           1                                         \n",
      "Covariance Type:            nonrobust                                         \n",
      "==============================================================================\n",
      "                 coef    std err          t      P>|t|      [0.025      0.975]\n",
      "------------------------------------------------------------------------------\n",
      "Intercept      0.2115      0.016     13.174      0.000       0.180       0.243\n",
      "w              0.2652      0.022     12.021      0.000       0.222       0.308\n",
      "==============================================================================\n",
      "Omnibus:                    38241.926   Durbin-Watson:                   1.995\n",
      "Prob(Omnibus):                  0.000   Jarque-Bera (JB):              217.327\n",
      "Skew:                           0.532   Prob(JB):                     6.43e-48\n",
      "Kurtosis:                       1.634   Cond. No.                         2.69\n",
      "==============================================================================\n",
      "\n",
      "Notes:\n",
      "[1] Standard Errors assume that the covariance matrix of the errors is correctly specified.\n"
     ]
    }
   ],
   "source": [
    "model_1 = \"y ~ w\"\n",
    "est_1 = smf.ols(formula=model_1 , data=df).fit()\n",
    "\n",
    "print(est_1.summary())"
   ]
  },
  {
   "cell_type": "markdown",
   "metadata": {},
   "source": []
  },
  {
   "cell_type": "markdown",
   "metadata": {},
   "source": [
    "#### 2.2. Regression 2: $y = \\beta_0 + \\beta_1 T + \\beta_2 X + \\epsilon$  (vale)"
   ]
  },
  {
   "cell_type": "code",
   "execution_count": 12,
   "metadata": {},
   "outputs": [
    {
     "name": "stdout",
     "output_type": "stream",
     "text": [
      "                            OLS Regression Results                            \n",
      "==============================================================================\n",
      "Dep. Variable:                      y   R-squared:                       0.113\n",
      "Model:                            OLS   Adj. R-squared:                  0.108\n",
      "Method:                 Least Squares   F-statistic:                     24.39\n",
      "Date:                Sun, 16 Jun 2024   Prob (F-statistic):           1.11e-39\n",
      "Time:                        13:50:19   Log-Likelihood:                -1078.4\n",
      "No. Observations:                1739   AIC:                             2177.\n",
      "Df Residuals:                    1729   BIC:                             2231.\n",
      "Df Model:                           9                                         \n",
      "Covariance Type:            nonrobust                                         \n",
      "============================================================================================\n",
      "                               coef    std err          t      P>|t|      [0.025      0.975]\n",
      "--------------------------------------------------------------------------------------------\n",
      "Intercept                   -0.1640      0.088     -1.863      0.063      -0.337       0.009\n",
      "w                            0.2558      0.022     11.750      0.000       0.213       0.299\n",
      "age                          0.0124      0.003      3.926      0.000       0.006       0.019\n",
      "gender_female                0.0929      0.022      4.164      0.000       0.049       0.137\n",
      "ethnicgrp_white              0.0499      0.041      1.212      0.226      -0.031       0.131\n",
      "ethnicgrp_black             -0.0397      0.054     -0.735      0.463      -0.146       0.066\n",
      "ethnicgrp_mixed_multiple    -0.0357      0.053     -0.669      0.504      -0.140       0.069\n",
      "partners1                   -0.0591      0.024     -2.435      0.015      -0.107      -0.011\n",
      "postlaunch                   0.0770      0.023      3.415      0.001       0.033       0.121\n",
      "imd_decile                  -0.0041      0.007     -0.554      0.580      -0.019       0.010\n",
      "==============================================================================\n",
      "Omnibus:                     1892.115   Durbin-Watson:                   2.001\n",
      "Prob(Omnibus):                  0.000   Jarque-Bera (JB):              189.123\n",
      "Skew:                           0.523   Prob(JB):                     8.56e-42\n",
      "Kurtosis:                       1.769   Cond. No.                         215.\n",
      "==============================================================================\n",
      "\n",
      "Notes:\n",
      "[1] Standard Errors assume that the covariance matrix of the errors is correctly specified.\n"
     ]
    }
   ],
   "source": [
    "model_2 = \"y ~ w + age + gender_female + ethnicgrp_white + ethnicgrp_black + ethnicgrp_mixed_multiple + partners1 + postlaunch + imd_decile\"\n",
    "est_2 = smf.ols(formula=model_2 , data=df).fit()\n",
    "\n",
    "print(est_2.summary())"
   ]
  },
  {
   "cell_type": "markdown",
   "metadata": {},
   "source": [
    "#### 2.3. Regression 3: $y = \\beta_0 + \\beta_1 T + \\beta_2 X + \\epsilon$ (Double Lasso)"
   ]
  },
  {
   "cell_type": "code",
   "execution_count": 16,
   "metadata": {},
   "outputs": [
    {
     "name": "stdout",
     "output_type": "stream",
     "text": [
      "Summary for the final model with dependent variable 'y':\n",
      "                            OLS Regression Results                            \n",
      "==============================================================================\n",
      "Dep. Variable:                      y   R-squared:                       0.104\n",
      "Model:                            OLS   Adj. R-squared:                  0.101\n",
      "Method:                 Least Squares   F-statistic:                     33.45\n",
      "Date:                Sun, 16 Jun 2024   Prob (F-statistic):           2.39e-38\n",
      "Time:                        13:55:23   Log-Likelihood:                -1087.0\n",
      "No. Observations:                1739   AIC:                             2188.\n",
      "Df Residuals:                    1732   BIC:                             2226.\n",
      "Df Model:                           6                                         \n",
      "Covariance Type:            nonrobust                                         \n",
      "===================================================================================\n",
      "                      coef    std err          t      P>|t|      [0.025      0.975]\n",
      "-----------------------------------------------------------------------------------\n",
      "const              -0.1545      0.081     -1.905      0.057      -0.314       0.005\n",
      "age                 0.0154      0.003      4.999      0.000       0.009       0.021\n",
      "ethnicgrp_black    -0.0663      0.039     -1.691      0.091      -0.143       0.011\n",
      "gender_female       0.0902      0.022      4.039      0.000       0.046       0.134\n",
      "imd_decile         -0.0044      0.007     -0.596      0.551      -0.019       0.010\n",
      "partners1          -0.0704      0.024     -2.908      0.004      -0.118      -0.023\n",
      "w                   0.2625      0.022     12.055      0.000       0.220       0.305\n",
      "==============================================================================\n",
      "Omnibus:                     2945.876   Durbin-Watson:                   1.985\n",
      "Prob(Omnibus):                  0.000   Jarque-Bera (JB):              196.442\n",
      "Skew:                           0.524   Prob(JB):                     2.20e-43\n",
      "Kurtosis:                       1.730   Cond. No.                         178.\n",
      "==============================================================================\n",
      "\n",
      "Notes:\n",
      "[1] Standard Errors assume that the covariance matrix of the errors is correctly specified.\n"
     ]
    }
   ],
   "source": [
    "import numpy as np\n",
    "import pandas as pd\n",
    "from sklearn.linear_model import LassoCV, Lasso\n",
    "import statsmodels.api as sm\n",
    "\n",
    "# Assuming df is already defined\n",
    "X = df[[\"gender_female\", \"ethnicgrp_black\", \"gender_transgender\", \"msm\", \"partners1\", \"age\", \"imd_decile\"]]\n",
    "w = df['w']\n",
    "y = df['y']\n",
    "\n",
    "# Fit LassoCV model to find the optimal alpha (lambda)\n",
    "cv_model3a = LassoCV(alphas=None, cv=10, max_iter=10000).fit(X, w)\n",
    "cv_model3b = LassoCV(alphas=None, cv=10, max_iter=10000).fit(X, y)\n",
    "\n",
    "# Fit Lasso model with the optimal alpha\n",
    "model3a = Lasso(alpha=cv_model3a.alpha_).fit(X, w)\n",
    "model3b = Lasso(alpha=cv_model3b.alpha_).fit(X, y)\n",
    "\n",
    "# Identify non-zero coefficients from Lasso models\n",
    "significant_vars3a = X.columns[model3a.coef_ != 0]\n",
    "significant_vars3b = X.columns[model3b.coef_ != 0]\n",
    "\n",
    "# Combine the significant variables from both models\n",
    "significant_vars = pd.Index(np.unique(significant_vars3a.append(significant_vars3b)))\n",
    "\n",
    "# Extract the significant variables for regression\n",
    "X_significant = X[significant_vars]\n",
    "\n",
    "# Add 'w' to the significant variables\n",
    "X_significant_with_w = X_significant.copy()\n",
    "X_significant_with_w['w'] = w\n",
    "\n",
    "# Add constant term for intercept in the new significant variable set\n",
    "X_significant_with_w = sm.add_constant(X_significant_with_w)\n",
    "\n",
    "# Fit linear regression model on significant variables plus 'w' against 'y'\n",
    "model3 = sm.OLS(y, X_significant_with_w).fit()\n",
    "\n",
    "# Print summary of the model\n",
    "print(\"Summary for the final model with dependent variable 'y':\")\n",
    "print(model3.summary())\n"
   ]
  },
  {
   "cell_type": "markdown",
   "metadata": {},
   "source": [
    "#### 2.4. Coefficient Comparison"
   ]
  },
  {
   "cell_type": "code",
   "execution_count": 20,
   "metadata": {},
   "outputs": [
    {
     "name": "stderr",
     "output_type": "stream",
     "text": [
      "C:\\Users\\Matias Villalba\\AppData\\Local\\Temp\\ipykernel_5732\\1361728474.py:25: UserWarning: marker is redundantly defined by the 'marker' keyword argument and the fmt string \"o\" (-> marker='o'). The keyword argument will take precedence.\n",
      "  ax.errorbar(model_labels, coefficients, yerr=errors, fmt='o', capsize=5, capthick=2, marker='s', markersize=7, linestyle='None')\n"
     ]
    },
    {
     "data": {
      "image/png": "[encoded data removed]",
      "text/plain": [
       "<Figure size 640x480 with 1 Axes>"
      ]
     },
     "metadata": {},
     "output_type": "display_data"
    }
   ],
   "source": [
    "import matplotlib.pyplot as plt\n",
    "\n",
    "# Assuming model1, model2, model3 are your fitted statsmodels regression models\n",
    "# Extract the coefficients for resW\n",
    "b1 = est_1.params['w']\n",
    "b2 = est_2.params['w']\n",
    "b3 = model3.params['w']\n",
    "\n",
    "# Extract the standard errors for resW\n",
    "se1 = est_1.bse['w']\n",
    "se2 = est_2.bse['w']\n",
    "se3 = model3.bse['w']\n",
    "\n",
    "# Labels for the models\n",
    "model_labels = ['OLS', 'OLS w. controls', 'Double Lasso']\n",
    "\n",
    "# Coefficients and standard errors\n",
    "coefficients = [b1, b2, b3]\n",
    "errors = [se1, se2, se3]\n",
    "\n",
    "# Create the figure and axis\n",
    "fig, ax = plt.subplots()\n",
    "\n",
    "# Plot the coefficients with error bars\n",
    "ax.errorbar(model_labels, coefficients, yerr=errors, fmt='o', capsize=5, capthick=2, marker='s', markersize=7, linestyle='None')\n",
    "\n",
    "# Add title and labels\n",
    "ax.set_title('Comparison of Coefficients from Different Models')\n",
    "ax.set_xlabel('Model')\n",
    "ax.set_ylabel('Coefficient')\n",
    "\n",
    "# Add grid for better readability\n",
    "ax.grid(True)\n",
    "\n",
    "# Show the plot\n",
    "plt.show()"
   ]
  },
  {
   "cell_type": "markdown",
   "metadata": {},
   "source": [
    "### 3. Non-Linear Methods DML"
   ]
  },
  {
   "cell_type": "code",
   "execution_count": 21,
   "metadata": {},
   "outputs": [],
   "source": [
    "def dml(X, D, y, modely, modeld, *, nfolds, classifier=False, time = None, clu = None, cluster = True):\n",
    "    cv = KFold(n_splits=nfolds, shuffle=True, random_state=123) # shuffled k-folds\n",
    "    yhat = cross_val_predict(modely, X, y, cv=cv, n_jobs=-1) # out-of-fold predictions for y\n",
    "    # out-of-fold predictions for D\n",
    "    # use predict or predict_proba dependent on classifier or regressor for D\n",
    "    if classifier:\n",
    "        Dhat = cross_val_predict(modeld, X, D, cv=cv, method='predict_proba', n_jobs=-1)[:, 1]\n",
    "    else:\n",
    "        Dhat = cross_val_predict(modeld, X, D, cv=cv, n_jobs=-1)\n",
    "    # calculate outcome and treatment residuals\n",
    "    resy = y - yhat\n",
    "    resD = D - Dhat\n",
    "\n",
    "    if cluster:\n",
    "      # final stage ols clustered\n",
    "      dml_data = pd.concat([clu, pd.Series(time), pd.Series(resy, name = 'resy'), pd.Series(resD, name = 'resD')], axis=1)\n",
    "\n",
    "    else:\n",
    "      # final stage ols nonclustered\n",
    "      dml_data = pd.concat([pd.Series(resy, name = 'resy'), pd.Series(resD, name = 'resD')], axis=1)\n",
    "\n",
    "    if cluster:\n",
    "      # clustered standard errors\n",
    "      ols_mod = smf.ols(formula = 'resy ~ 1 + resD', data = dml_data).fit(cov_type='cluster', cov_kwds={\"groups\": dml_data['CountyCode']})\n",
    "\n",
    "    else:\n",
    "      # regular ols\n",
    "      ols_mod = smf.ols(formula = 'resy ~ 1 + resD', data = dml_data).fit()\n",
    "\n",
    "    point = ols_mod.params[1]\n",
    "    stderr = ols_mod.bse[1]\n",
    "    epsilon = ols_mod.resid\n",
    "\n",
    "    return point, stderr, yhat, Dhat, resy, resD, epsilon\n"
   ]
  },
  {
   "cell_type": "code",
   "execution_count": 22,
   "metadata": {},
   "outputs": [],
   "source": [
    "def summary(point, stderr, yhat, Dhat, resy, resD, epsilon, X, D, y, *, name):\n",
    "    '''\n",
    "    Convenience summary function that takes the results of the DML function\n",
    "    and summarizes several estimation quantities and performance metrics.\n",
    "    '''\n",
    "    return pd.DataFrame({'estimate': point, # point estimate\n",
    "                         'stderr': stderr, # standard error\n",
    "                         'lower': point - 1.96*stderr, # lower end of 95% confidence interval\n",
    "                         'upper': point + 1.96*stderr, # upper end of 95% confidence interval\n",
    "                         'rmse y': np.sqrt(np.mean(resy**2)), # RMSE of model that predicts outcome y\n",
    "                         'rmse D': np.sqrt(np.mean(resD**2)) # RMSE of model that predicts treatment D\n",
    "                         }, index=[name])"
   ]
  },
  {
   "cell_type": "code",
   "execution_count": 37,
   "metadata": {},
   "outputs": [],
   "source": [
    "df['intercept'] = 1\n",
    "y = df[\"y\"]\n",
    "d = df[\"w\"]\n",
    "x = df[df.columns[~df.columns.isin(['y','w'])]]"
   ]
  },
  {
   "cell_type": "markdown",
   "metadata": {},
   "source": [
    "#### 3.1. DML with RLasso"
   ]
  },
  {
   "cell_type": "code",
   "execution_count": 39,
   "metadata": {},
   "outputs": [],
   "source": [
    "class RLasso(BaseEstimator):\n",
    "\n",
    "    def __init__(self, *, post=True):\n",
    "        self.post = post\n",
    "\n",
    "    def fit(self, X, y):\n",
    "        self.rlasso_ = hdmpy.rlasso(X, y, post=self.post)\n",
    "        return self\n",
    "\n",
    "    def predict(self, X):\n",
    "        return np.array(X) @ np.array(self.rlasso_.est['beta']).flatten() + np.array(self.rlasso_.est['intercept'])\n",
    "\n",
    "lasso_model = lambda: RLasso(post=False)"
   ]
  },
  {
   "cell_type": "code",
   "execution_count": 40,
   "metadata": {},
   "outputs": [],
   "source": [
    "from sklearn.model_selection import KFold, cross_val_predict"
   ]
  },
  {
   "cell_type": "code",
   "execution_count": 41,
   "metadata": {},
   "outputs": [
    {
     "name": "stdout",
     "output_type": "stream",
     "text": [
      "       estimate    stderr     lower     upper    rmse y    rmse D\n",
      "Lasso  0.259067  0.021722  0.216492  0.301642  0.471041  0.500225\n"
     ]
    },
    {
     "name": "stderr",
     "output_type": "stream",
     "text": [
      "C:\\Users\\Matias Villalba\\AppData\\Local\\Temp\\ipykernel_5732\\2498640246.py:30: FutureWarning: Series.__getitem__ treating keys as positions is deprecated. In a future version, integer keys will always be treated as labels (consistent with DataFrame behavior). To access a value by position, use `ser.iloc[pos]`\n",
      "  point = ols_mod.params[1]\n",
      "C:\\Users\\Matias Villalba\\AppData\\Local\\Temp\\ipykernel_5732\\2498640246.py:31: FutureWarning: Series.__getitem__ treating keys as positions is deprecated. In a future version, integer keys will always be treated as labels (consistent with DataFrame behavior). To access a value by position, use `ser.iloc[pos]`\n",
      "  stderr = ols_mod.bse[1]\n"
     ]
    }
   ],
   "source": [
    "# DML with RLasso:\n",
    "modely = make_pipeline(StandardScaler(), RLasso(post=False))\n",
    "modeld = make_pipeline(StandardScaler(), RLasso(post=False))\n",
    "result_RLasso = dml(x,d,y, modely, modeld, nfolds=10, classifier=False, cluster = False)\n",
    "table_RLasso = summary(*result_RLasso, x,d,y, name = 'Lasso')\n",
    "print(table_RLasso)"
   ]
  },
  {
   "cell_type": "markdown",
   "metadata": {},
   "source": [
    "#### 3.2. DML with Regression Trees"
   ]
  },
  {
   "cell_type": "code",
   "execution_count": 43,
   "metadata": {},
   "outputs": [],
   "source": [
    "from sklearn.tree import DecisionTreeRegressor\n",
    "import statsmodels.api as sm"
   ]
  },
  {
   "cell_type": "code",
   "execution_count": 44,
   "metadata": {},
   "outputs": [
    {
     "name": "stdout",
     "output_type": "stream",
     "text": [
      "    estimate    stderr     lower     upper    rmse y    rmse D\n",
      "RT  0.249831  0.021872  0.206961  0.292701  0.472259  0.499638\n"
     ]
    },
    {
     "name": "stderr",
     "output_type": "stream",
     "text": [
      "C:\\Users\\Matias Villalba\\AppData\\Local\\Temp\\ipykernel_5732\\2498640246.py:30: FutureWarning: Series.__getitem__ treating keys as positions is deprecated. In a future version, integer keys will always be treated as labels (consistent with DataFrame behavior). To access a value by position, use `ser.iloc[pos]`\n",
      "  point = ols_mod.params[1]\n",
      "C:\\Users\\Matias Villalba\\AppData\\Local\\Temp\\ipykernel_5732\\2498640246.py:31: FutureWarning: Series.__getitem__ treating keys as positions is deprecated. In a future version, integer keys will always be treated as labels (consistent with DataFrame behavior). To access a value by position, use `ser.iloc[pos]`\n",
      "  stderr = ols_mod.bse[1]\n"
     ]
    }
   ],
   "source": [
    "modely = make_pipeline(StandardScaler(), DecisionTreeRegressor(ccp_alpha=0.001, min_samples_leaf=5, random_state=123))\n",
    "modeld = make_pipeline(StandardScaler(), DecisionTreeRegressor(ccp_alpha=0.001, min_samples_leaf=5, random_state=123))\n",
    "result_RT = dml(x,d,y, modely, modeld, nfolds=10, classifier=False, cluster = False)\n",
    "table_RT= summary(*result_RT, x,d,y, name = 'RT')\n",
    "print(table_RT)"
   ]
  },
  {
   "cell_type": "markdown",
   "metadata": {},
   "source": [
    "#### 3.3. DML Boosting Trees"
   ]
  },
  {
   "cell_type": "code",
   "execution_count": 46,
   "metadata": {},
   "outputs": [],
   "source": [
    "from sklearn.ensemble import GradientBoostingRegressor"
   ]
  },
  {
   "cell_type": "code",
   "execution_count": 47,
   "metadata": {},
   "outputs": [
    {
     "name": "stdout",
     "output_type": "stream",
     "text": [
      "     estimate    stderr     lower     upper    rmse y    rmse D\n",
      "GBT  0.246373  0.021669  0.203902  0.288843  0.475893  0.508383\n"
     ]
    },
    {
     "name": "stderr",
     "output_type": "stream",
     "text": [
      "C:\\Users\\Matias Villalba\\AppData\\Local\\Temp\\ipykernel_5732\\2498640246.py:30: FutureWarning: Series.__getitem__ treating keys as positions is deprecated. In a future version, integer keys will always be treated as labels (consistent with DataFrame behavior). To access a value by position, use `ser.iloc[pos]`\n",
      "  point = ols_mod.params[1]\n",
      "C:\\Users\\Matias Villalba\\AppData\\Local\\Temp\\ipykernel_5732\\2498640246.py:31: FutureWarning: Series.__getitem__ treating keys as positions is deprecated. In a future version, integer keys will always be treated as labels (consistent with DataFrame behavior). To access a value by position, use `ser.iloc[pos]`\n",
      "  stderr = ols_mod.bse[1]\n"
     ]
    }
   ],
   "source": [
    "modely = make_pipeline(StandardScaler(), GradientBoostingRegressor(n_estimators=100, max_depth=3, random_state=123))\n",
    "modeld = make_pipeline(StandardScaler(), GradientBoostingRegressor(n_estimators=100, max_depth=3, random_state=123))\n",
    "result_GBT = dml(x,d,y, modely, modeld, nfolds=10, classifier=False, cluster = False)\n",
    "table_GBT = summary(*result_GBT, x,d,y, name = 'GBT')\n",
    "print(table_GBT)"
   ]
  },
  {
   "cell_type": "markdown",
   "metadata": {},
   "source": [
    "#### 3.4. DML with Regression Forest"
   ]
  },
  {
   "cell_type": "code",
   "execution_count": 49,
   "metadata": {},
   "outputs": [],
   "source": [
    "from sklearn.ensemble import RandomForestRegressor"
   ]
  },
  {
   "cell_type": "code",
   "execution_count": 50,
   "metadata": {},
   "outputs": [
    {
     "name": "stdout",
     "output_type": "stream",
     "text": [
      "    estimate    stderr     lower     upper    rmse y    rmse D\n",
      "RF  0.241558  0.021379  0.199655  0.283461  0.472297  0.511585\n"
     ]
    },
    {
     "name": "stderr",
     "output_type": "stream",
     "text": [
      "C:\\Users\\Matias Villalba\\AppData\\Local\\Temp\\ipykernel_5732\\2498640246.py:30: FutureWarning: Series.__getitem__ treating keys as positions is deprecated. In a future version, integer keys will always be treated as labels (consistent with DataFrame behavior). To access a value by position, use `ser.iloc[pos]`\n",
      "  point = ols_mod.params[1]\n",
      "C:\\Users\\Matias Villalba\\AppData\\Local\\Temp\\ipykernel_5732\\2498640246.py:31: FutureWarning: Series.__getitem__ treating keys as positions is deprecated. In a future version, integer keys will always be treated as labels (consistent with DataFrame behavior). To access a value by position, use `ser.iloc[pos]`\n",
      "  stderr = ols_mod.bse[1]\n"
     ]
    }
   ],
   "source": [
    "modely = make_pipeline(StandardScaler(), RandomForestRegressor(n_estimators=100, min_samples_leaf=5, random_state=123))\n",
    "modeld = make_pipeline(StandardScaler(), RandomForestRegressor(n_estimators=100, min_samples_leaf=5, random_state=123))\n",
    "result_RF = dml(x,d,y, modely, modeld, nfolds=10, classifier=False, cluster = False)\n",
    "table_RF = summary(*result_RF, x,d,y, name = 'RF')\n",
    "print(table_RF)"
   ]
  },
  {
   "cell_type": "markdown",
   "metadata": {},
   "source": [
    "#### 3.6."
   ]
  },
  {
   "cell_type": "code",
   "execution_count": null,
   "metadata": {},
   "outputs": [],
   "source": []
  }
 ],
 "metadata": {
  "kernelspec": {
   "display_name": "personal",
   "language": "python",
   "name": "python3"
  },
  "language_info": {
   "codemirror_mode": {
    "name": "ipython",
    "version": 3
   },
   "file_extension": ".py",
   "mimetype": "text/x-python",
   "name": "python",
   "nbconvert_exporter": "python",
   "pygments_lexer": "ipython3",
   "version": "3.12.2"
  }
 },
 "nbformat": 4,
 "nbformat_minor": 2
}
