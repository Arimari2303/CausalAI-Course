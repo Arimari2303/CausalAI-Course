{
  "nbformat": 4,
  "nbformat_minor": 0,
  "metadata": {
    "colab": {
      "provenance": [],
      "authorship_tag": "ABX9TyMlqmW6UpBA6mhRPk7zTvq5",
      "include_colab_link": true
    },
    "kernelspec": {
      "name": "ir",
      "display_name": "R"
    },
    "language_info": {
      "name": "R"
    }
  },
  "cells": [
    {
      "cell_type": "markdown",
      "metadata": {
        "id": "view-in-github",
        "colab_type": "text"
      },
      "source": [
        "<a href=\"https://colab.research.google.com/github/alexanderquispe/CausalAI-Course/blob/group3_lab5_erzo/group3_lab5_r.ipynb\" target=\"_parent\"><img src=\"https://colab.research.google.com/assets/colab-badge.svg\" alt=\"Open In Colab\"/></a>"
      ]
    },
    {
      "cell_type": "markdown",
      "source": [
        "# Workgroup 5\n",
        "\n",
        "Authors: Valerie Dube, Erzo Garay, Juan Marcos Guerrero y Matias Villalba"
      ],
      "metadata": {
        "id": "XR4odCbEMB4L"
      }
    },
    {
      "cell_type": "code",
      "source": [
        "install.packages(\"hdm\")\n",
        "install.packages(\"xtable\")\n",
        "install.packages(\"randomForest\")\n",
        "install.packages(\"glmnet\")\n",
        "install.packages(\"sandwich\")\n",
        "install.packages(\"xtable\")\n",
        "install.packages(\"hdm\")\n",
        "install.packages(\"glmnet\")\n",
        "install.packages(\"randomForest\")\n",
        "install.packages(\"rpart\")\n",
        "install.packages(\"nnet\")\n",
        "install.packages(\"gbm\")\n",
        "install.packages(\"rpart.plot\")\n",
        "install.packages(\"keras\")\n",
        "install.packages(\"Rtools\")\n",
        "install.packages(\"ggplot2\")\n",
        "install.packages(\"WeightIt\")\n",
        "install.packages(\"cobalt\")"
      ],
      "metadata": {
        "colab": {
          "base_uri": "https://localhost:8080/"
        },
        "id": "8TUwQKuAME7t",
        "outputId": "4b2bec07-da88-46fd-dd73-13924e367035"
      },
      "execution_count": null,
      "outputs": [
        {
          "output_type": "stream",
          "name": "stderr",
          "text": [
            "Installing package into ‘/usr/local/lib/R/site-library’\n",
            "(as ‘lib’ is unspecified)\n",
            "\n",
            "also installing the dependencies ‘iterators’, ‘foreach’, ‘shape’, ‘Rcpp’, ‘RcppEigen’, ‘glmnet’, ‘checkmate’, ‘Formula’\n",
            "\n",
            "\n",
            "Installing package into ‘/usr/local/lib/R/site-library’\n",
            "(as ‘lib’ is unspecified)\n",
            "\n",
            "Installing package into ‘/usr/local/lib/R/site-library’\n",
            "(as ‘lib’ is unspecified)\n",
            "\n",
            "Installing package into ‘/usr/local/lib/R/site-library’\n",
            "(as ‘lib’ is unspecified)\n",
            "\n",
            "Installing package into ‘/usr/local/lib/R/site-library’\n",
            "(as ‘lib’ is unspecified)\n",
            "\n",
            "also installing the dependency ‘zoo’\n",
            "\n",
            "\n",
            "Installing package into ‘/usr/local/lib/R/site-library’\n",
            "(as ‘lib’ is unspecified)\n",
            "\n",
            "Installing package into ‘/usr/local/lib/R/site-library’\n",
            "(as ‘lib’ is unspecified)\n",
            "\n",
            "Installing package into ‘/usr/local/lib/R/site-library’\n",
            "(as ‘lib’ is unspecified)\n",
            "\n",
            "Installing package into ‘/usr/local/lib/R/site-library’\n",
            "(as ‘lib’ is unspecified)\n",
            "\n",
            "Installing package into ‘/usr/local/lib/R/site-library’\n",
            "(as ‘lib’ is unspecified)\n",
            "\n",
            "Installing package into ‘/usr/local/lib/R/site-library’\n",
            "(as ‘lib’ is unspecified)\n",
            "\n",
            "Installing package into ‘/usr/local/lib/R/site-library’\n",
            "(as ‘lib’ is unspecified)\n",
            "\n",
            "Installing package into ‘/usr/local/lib/R/site-library’\n",
            "(as ‘lib’ is unspecified)\n",
            "\n",
            "Installing package into ‘/usr/local/lib/R/site-library’\n",
            "(as ‘lib’ is unspecified)\n",
            "\n",
            "also installing the dependencies ‘RcppTOML’, ‘here’, ‘png’, ‘config’, ‘tfautograph’, ‘reticulate’, ‘tensorflow’, ‘tfruns’, ‘zeallot’\n",
            "\n",
            "\n",
            "Installing package into ‘/usr/local/lib/R/site-library’\n",
            "(as ‘lib’ is unspecified)\n",
            "\n",
            "Warning message:\n",
            "“package ‘Rtools’ is not available for this version of R\n",
            "\n",
            "A version of this package for your version of R might be available elsewhere,\n",
            "see the ideas at\n",
            "https://cran.r-project.org/doc/manuals/r-patched/R-admin.html#Installing-packages”\n",
            "Installing package into ‘/usr/local/lib/R/site-library’\n",
            "(as ‘lib’ is unspecified)\n",
            "\n",
            "Installing package into ‘/usr/local/lib/R/site-library’\n",
            "(as ‘lib’ is unspecified)\n",
            "\n",
            "also installing the dependencies ‘gridExtra’, ‘cobalt’, ‘chk’\n",
            "\n",
            "\n",
            "Installing package into ‘/usr/local/lib/R/site-library’\n",
            "(as ‘lib’ is unspecified)\n",
            "\n"
          ]
        }
      ]
    },
    {
      "cell_type": "code",
      "source": [
        "library(hdm)\n",
        "library(xtable)\n",
        "library(randomForest)\n",
        "library(glmnet)\n",
        "library(sandwich)\n",
        "library(rpart)\n",
        "library(nnet)\n",
        "library(gbm)\n",
        "library(rpart.plot)\n",
        "library(keras)\n",
        "library(xtable)\n",
        "library(glmnet)\n",
        "library(randomForest)\n",
        "library(ggplot2)\n",
        "library(WeightIt)\n",
        "library(cobalt)"
      ],
      "metadata": {
        "id": "dzNQdVPzMo2x",
        "colab": {
          "base_uri": "https://localhost:8080/"
        },
        "outputId": "ad0c236f-932d-4215-e45a-aeedf6378871"
      },
      "execution_count": null,
      "outputs": [
        {
          "output_type": "stream",
          "name": "stderr",
          "text": [
            "randomForest 4.7-1.1\n",
            "\n",
            "Type rfNews() to see new features/changes/bug fixes.\n",
            "\n",
            "Loading required package: Matrix\n",
            "\n",
            "Loaded glmnet 4.1-8\n",
            "\n",
            "Loaded gbm 2.1.9\n",
            "\n",
            "This version of gbm is no longer under development. Consider transitioning to gbm3, https://github.com/gbm-developers/gbm3\n",
            "\n",
            "\n",
            "Attaching package: ‘ggplot2’\n",
            "\n",
            "\n",
            "The following object is masked from ‘package:randomForest’:\n",
            "\n",
            "    margin\n",
            "\n",
            "\n",
            " cobalt (Version 4.5.5, Build Date: 2024-04-02)\n",
            "\n"
          ]
        }
      ]
    },
    {
      "cell_type": "markdown",
      "source": [
        "## Replication and Data analysis"
      ],
      "metadata": {
        "id": "4WKv2mn_OEvc"
      }
    },
    {
      "cell_type": "code",
      "source": [
        "set.seed(1)\n",
        "rm(list = ls())"
      ],
      "metadata": {
        "id": "lsYDBMtMOGBu"
      },
      "execution_count": null,
      "outputs": []
    },
    {
      "cell_type": "markdown",
      "source": [
        "### 1. Descriptives"
      ],
      "metadata": {
        "id": "Wz2ihGxLOQgO"
      }
    },
    {
      "cell_type": "markdown",
      "source": [
        "#### 1.1. Descriptive table (vale)"
      ],
      "metadata": {
        "id": "_UE7GOpTOTTK"
      }
    },
    {
      "cell_type": "code",
      "source": [
        "# Import data and see first observations\n",
        "data = read.csv(\"../../data/processed_esti.csv\")\n",
        "head(data)"
      ],
      "metadata": {
        "id": "Vx2gwyniOUBw"
      },
      "execution_count": null,
      "outputs": []
    },
    {
      "cell_type": "code",
      "source": [
        "str(data)"
      ],
      "metadata": {
        "id": "oCz1ZmApOfNv"
      },
      "execution_count": null,
      "outputs": []
    },
    {
      "cell_type": "code",
      "source": [
        "by(data[, !names(data) %in% 'y'], data$w, summary)"
      ],
      "metadata": {
        "id": "U4mfx5tXOiHJ"
      },
      "execution_count": null,
      "outputs": []
    },
    {
      "cell_type": "markdown",
      "source": [
        "#### 1.2. Descriptive graphs (vale)"
      ],
      "metadata": {
        "id": "SdHiAE6_O0Np"
      }
    },
    {
      "cell_type": "code",
      "source": [
        "#Generating propensity score weights for the ATT\n",
        "w.out <- WeightIt::weightit(w ~ age + gender_male + ethnicgrp_white + partners1 + imd_decile,\n",
        "                            data = data,\n",
        "                            method = \"glm\",\n",
        "                            estimand = \"ATT\")\n",
        "\n",
        "bal.tab(w.out)"
      ],
      "metadata": {
        "id": "lE5orZUjOj8E"
      },
      "execution_count": null,
      "outputs": []
    },
    {
      "cell_type": "code",
      "source": [
        "bal.plot(w.out, var.name = \"gender_male\")"
      ],
      "metadata": {
        "id": "4U_tcLnuO58Y"
      },
      "execution_count": null,
      "outputs": []
    },
    {
      "cell_type": "code",
      "source": [
        "bal.plot(w.out, var.name = \"gender_male\")"
      ],
      "metadata": {
        "id": "kX3bW-p8O_pN"
      },
      "execution_count": null,
      "outputs": []
    },
    {
      "cell_type": "code",
      "source": [
        "bal.plot(w.out, var.name = \"age\")\n",
        "bal.plot(w.out, var.name = \"imd_decile\")"
      ],
      "metadata": {
        "id": "ScGn2mm4PBbT"
      },
      "execution_count": null,
      "outputs": []
    },
    {
      "cell_type": "markdown",
      "source": [
        "We can see a higher percentage of participants aged between 23 and 27 in the treatment group. Also, there is a higher perceptange of participants aged between 21 and 22 and 27 and 29 in the control group.\n",
        "In the case of the IMD decile, an index that measures poverty in the UK, we can see the same proportion of participants in each group."
      ],
      "metadata": {
        "id": "NPMEa7FxPETj"
      }
    },
    {
      "cell_type": "markdown",
      "source": [
        "### 2. Linear Regression analysis"
      ],
      "metadata": {
        "id": "eJZTu7WIPI8C"
      }
    },
    {
      "cell_type": "markdown",
      "source": [
        "#### 2.1. Regression 1: $y = \\beta_0 + \\beta_1 T + \\epsilon$   (Vale)"
      ],
      "metadata": {
        "id": "SL0DBEERPJgM"
      }
    },
    {
      "cell_type": "code",
      "source": [
        "lm(formula = y ~ w, data = data)"
      ],
      "metadata": {
        "id": "eSQzRh7gPGSW"
      },
      "execution_count": null,
      "outputs": []
    },
    {
      "cell_type": "markdown",
      "source": [
        "#### 2.2. Regression 2: $y = \\beta_0 + \\beta_1 T + \\beta_2 X + \\epsilon$  (vale)"
      ],
      "metadata": {
        "id": "Ax6BZqLwPUPZ"
      }
    },
    {
      "cell_type": "code",
      "source": [
        "lm(formula = y ~ w + age + gender_female + ethnicgrp_white + ethnicgrp_black + ethnicgrp_mixed_multiple + partners1 + postlaunch + imd_decile, data = data)"
      ],
      "metadata": {
        "id": "N6PTqIynPVDv"
      },
      "execution_count": null,
      "outputs": []
    },
    {
      "cell_type": "markdown",
      "source": [
        "#### 2.3.\n",
        "\n"
      ],
      "metadata": {
        "id": "JOTgwbwWPg8l"
      }
    },
    {
      "cell_type": "markdown",
      "source": [
        "#### 2.4."
      ],
      "metadata": {
        "id": "PI01mB7UPj0u"
      }
    },
    {
      "cell_type": "markdown",
      "source": [
        "### 3. Non-Linear Methods DML"
      ],
      "metadata": {
        "id": "ARBRfd3sQFfa"
      }
    },
    {
      "cell_type": "code",
      "source": [
        "rm(list=ls())\n",
        "DML <- as.data.frame(read.table(\"../../../data/processed_esti.csv\", header=T ,sep=\",\"))\n",
        "#DML <- as.data.frame(read.table(\"C:/Users/Erzo/Documents/GitHub/CausalAI-Course/data/processed_esti.csv\", header=T ,sep=\",\"))\n",
        "\n",
        "set.seed(1234)\n",
        "training <- sample(nrow(DML), nrow(DML)*(3/4), replace=FALSE)\n",
        "data_train <- DML[training,]\n",
        "data_test <- DML[-training,]\n",
        "Y_test <- data_test$y\n",
        "\n",
        "y = as.matrix(data_train[,1])         # outcome: growth rate\n",
        "d = as.matrix(data_train[,2])         # treatment: initial wealth\n",
        "x = as.matrix(data_train[,-c(1,2)]) # controls: country characteristics"
      ],
      "metadata": {
        "id": "oAfstMkJQIGe"
      },
      "execution_count": null,
      "outputs": []
    },
    {
      "cell_type": "markdown",
      "source": [
        "### DML function for Regression tree"
      ],
      "metadata": {
        "id": "i-npa835QKw6"
      }
    },
    {
      "cell_type": "code",
      "source": [
        "DML2.for.PLM.tree <- function(data_train, dreg, yreg, nfold=10) {\n",
        "  nobs <- nrow(data_train) #number of observations\n",
        "  foldid <- rep.int(1:nfold,times = ceiling(nobs/nfold))[sample.int(nobs)] #define folds indices\n",
        "  I <- split(1:nobs, foldid)  #split observation indices into folds\n",
        "  ytil <- dtil <- rep(NA, nobs)\n",
        "  cat(\"fold: \")\n",
        "  for(b in 1:length(I)){\n",
        "    datitanow=data_train[-I[[b]],-c(2)]\n",
        "    datitanoy=data_train[-I[[b]],-c(1)]\n",
        "    datitanowpredict=data_train[I[[b]],-c(2)]\n",
        "    datitanoypredict=data_train[I[[b]],-c(1)]\n",
        "\n",
        "    dfit <- dreg(datitanoy) #take a fold out\n",
        "    yfit <- yreg(datitanow) # take a foldt out\n",
        "    dhat <- predict(dfit, datitanoypredict ) #predict the left-out fold\n",
        "    yhat <- predict(yfit, datitanowpredict ) #predict the left-out fold\n",
        "    dtil[I[[b]]] <- (d[I[[b]]] - dhat) #record residual for the left-out fold\n",
        "    ytil[I[[b]]] <- (y[I[[b]]] - yhat) #record residial for the left-out fold\n",
        "    cat(b,\" \")\n",
        "  }\n",
        "  rfit <- lm(ytil ~ dtil)    #estimate the main parameter by regressing one residual on the other\n",
        "  coef.est <- coef(rfit)[2]  #extract coefficient\n",
        "  se <- sqrt(vcovHC(rfit)[2,2]) #record robust standard error\n",
        "  cat(sprintf(\"\\ncoef (se) = %g (%g)\\n\", coef.est , se))  #printing output\n",
        "  return( list(coef.est =coef.est , se=se, dtil=dtil, ytil=ytil) ) #save output and residuals\n",
        "}"
      ],
      "metadata": {
        "id": "0nQsAe_wQM1F"
      },
      "execution_count": null,
      "outputs": []
    },
    {
      "cell_type": "markdown",
      "source": [
        "### DML function for Boosting Trees"
      ],
      "metadata": {
        "id": "SmeUKBzVQlr-"
      }
    },
    {
      "cell_type": "code",
      "source": [
        "DML2.for.PLM.boosttree <- function(data_train, dreg, yreg, nfold=10) {\n",
        "  nobs <- nrow(data_train) #number of observations\n",
        "  foldid <- rep.int(1:nfold,times = ceiling(nobs/nfold))[sample.int(nobs)] #define folds indices\n",
        "  I <- split(1:nobs, foldid)  #split observation indices into folds\n",
        "  ytil <- dtil <- rep(NA, nobs)\n",
        "  cat(\"fold: \")\n",
        "  for(b in 1:length(I)){\n",
        "    datitanow=data_train[-I[[b]],-c(2)]\n",
        "    datitanoy=data_train[-I[[b]],-c(1)]\n",
        "    datitanowpredict=data_train[I[[b]],-c(2)]\n",
        "    datitanoypredict=data_train[I[[b]],-c(1)]\n",
        "\n",
        "    dfit <- dreg(datitanoy) #take a fold out\n",
        "    best.boostt  <- gbm.perf(dfit, plot.it = FALSE) # cross-validation to determine when to stop\n",
        "    yfit <- yreg(datitanow) # take a foldt out\n",
        "    best.boosty  <- gbm.perf(yfit, plot.it = FALSE) # cross-validation to determine when to stop\n",
        "    dhat <- predict(dfit, datitanoypredict, n.trees=best.boostt)\n",
        "    yhat <- predict(yfit, datitanowpredict, n.trees=best.boosty) #predict the left-out fold\n",
        "    dtil[I[[b]]] <- (d[I[[b]]] - dhat) #record residual for the left-out fold\n",
        "    ytil[I[[b]]] <- (y[I[[b]]] - yhat) #record residial for the left-out fold\n",
        "    cat(b,\" \")\n",
        "  }\n",
        "  rfit <- lm(ytil ~ dtil)    #estimate the main parameter by regressing one residual on the other\n",
        "  coef.est <- coef(rfit)[2]  #extract coefficient\n",
        "  se <- sqrt(vcovHC(rfit)[2,2]) #record robust standard error\n",
        "  cat(sprintf(\"\\ncoef (se) = %g (%g)\\n\", coef.est , se))  #printing output\n",
        "  return( list(coef.est =coef.est , se=se, dtil=dtil, ytil=ytil) ) #save output and residuals\n",
        "}"
      ],
      "metadata": {
        "id": "iPP8VB2HQmJo"
      },
      "execution_count": null,
      "outputs": []
    },
    {
      "cell_type": "markdown",
      "source": [
        "### DML function for Lasso and Random Forest"
      ],
      "metadata": {
        "id": "kWykzRHGQnv8"
      }
    },
    {
      "cell_type": "code",
      "source": [
        "DML2.for.PLM <- function(x, d, y, dreg, yreg, nfold=10) {\n",
        "  nobs <- nrow(x) #number of observations\n",
        "  foldid <- rep.int(1:nfold,times = ceiling(nobs/nfold))[sample.int(nobs)] #define folds indices\n",
        "  I <- split(1:nobs, foldid)  #split observation indices into folds\n",
        "  ytil <- dtil <- rep(NA, nobs)\n",
        "  cat(\"fold: \")\n",
        "  for(b in 1:length(I)){\n",
        "    dfit <- dreg(x[-I[[b]],], d[-I[[b]]]) #take a fold out\n",
        "    yfit <- yreg(x[-I[[b]],], y[-I[[b]]]) # take a foldt out\n",
        "    dhat <- predict(dfit, x[I[[b]],], type=\"response\") #predict the left-out fold\n",
        "    yhat <- predict(yfit, x[I[[b]],], type=\"response\") #predict the left-out fold\n",
        "    dtil[I[[b]]] <- (d[I[[b]]] - dhat) #record residual for the left-out fold\n",
        "    ytil[I[[b]]] <- (y[I[[b]]] - yhat) #record residial for the left-out fold\n",
        "    cat(b,\" \")\n",
        "  }\n",
        "  rfit <- lm(ytil ~ dtil)    #estimate the main parameter by regressing one residual on the other\n",
        "  coef.est <- coef(rfit)[2]  #extract coefficient\n",
        "  se <- sqrt(vcovHC(rfit)[2,2]) #record robust standard error\n",
        "  cat(sprintf(\"\\ncoef (se) = %g (%g)\\n\", coef.est , se))  #printing output\n",
        "  return( list(coef.est =coef.est , se=se, dtil=dtil, ytil=ytil) ) #save output and residuals\n",
        "}"
      ],
      "metadata": {
        "id": "zCWo9TNRQp-d"
      },
      "execution_count": null,
      "outputs": []
    },
    {
      "cell_type": "code",
      "source": [],
      "metadata": {
        "id": "tDchrbDuP5LZ"
      },
      "execution_count": null,
      "outputs": []
    }
  ]
}