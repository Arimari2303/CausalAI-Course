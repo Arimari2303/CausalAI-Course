{
 "cells": [
  {
   "cell_type": "code",
   "execution_count": 145,
   "id": "8777442f-e1f8-4c49-9adf-f8b568246bce",
   "metadata": {},
   "outputs": [
    {
     "name": "stderr",
     "output_type": "stream",
     "text": [
      "\u001b[1mRows: \u001b[22m\u001b[34m1739\u001b[39m \u001b[1mColumns: \u001b[22m\u001b[34m15\u001b[39m\n",
      "\u001b[36m──\u001b[39m \u001b[1mColumn specification\u001b[22m \u001b[36m────────────────────────────────────────────────────────\u001b[39m\n",
      "\u001b[1mDelimiter:\u001b[22m \",\"\n",
      "\u001b[32mdbl\u001b[39m (15): y, w, gender_female, gender_male, gender_transgender, ethnicgrp_as...\n",
      "\n",
      "\u001b[36mℹ\u001b[39m Use `spec()` to retrieve the full column specification for this data.\n",
      "\u001b[36mℹ\u001b[39m Specify the column types or set `show_col_types = FALSE` to quiet this message.\n"
     ]
    }
   ],
   "source": [
    "datos <- read_csv(\"C:/Users/vn.hoyosm/Documents/processed_esti.csv\") \n"
   ]
  },
  {
   "cell_type": "code",
   "execution_count": 146,
   "id": "b356d673-e7a4-4fe7-b846-a922c9e4fc98",
   "metadata": {},
   "outputs": [
    {
     "data": {
      "text/html": [
       "<table class=\"dataframe\">\n",
       "<caption>A tibble: 6 × 15</caption>\n",
       "<thead>\n",
       "\t<tr><th scope=col>y</th><th scope=col>w</th><th scope=col>gender_female</th><th scope=col>gender_male</th><th scope=col>gender_transgender</th><th scope=col>ethnicgrp_asian</th><th scope=col>ethnicgrp_black</th><th scope=col>ethnicgrp_mixed_multiple</th><th scope=col>ethnicgrp_other</th><th scope=col>ethnicgrp_white</th><th scope=col>partners1</th><th scope=col>postlaunch</th><th scope=col>msm</th><th scope=col>age</th><th scope=col>imd_decile</th></tr>\n",
       "\t<tr><th scope=col>&lt;dbl&gt;</th><th scope=col>&lt;dbl&gt;</th><th scope=col>&lt;dbl&gt;</th><th scope=col>&lt;dbl&gt;</th><th scope=col>&lt;dbl&gt;</th><th scope=col>&lt;dbl&gt;</th><th scope=col>&lt;dbl&gt;</th><th scope=col>&lt;dbl&gt;</th><th scope=col>&lt;dbl&gt;</th><th scope=col>&lt;dbl&gt;</th><th scope=col>&lt;dbl&gt;</th><th scope=col>&lt;dbl&gt;</th><th scope=col>&lt;dbl&gt;</th><th scope=col>&lt;dbl&gt;</th><th scope=col>&lt;dbl&gt;</th></tr>\n",
       "</thead>\n",
       "<tbody>\n",
       "\t<tr><td>1</td><td>1</td><td>0</td><td>1</td><td>0</td><td>0</td><td>0</td><td>1</td><td>0</td><td>0</td><td>0</td><td>1</td><td>0</td><td>27</td><td>5</td></tr>\n",
       "\t<tr><td>0</td><td>0</td><td>0</td><td>1</td><td>0</td><td>0</td><td>0</td><td>0</td><td>0</td><td>1</td><td>0</td><td>0</td><td>0</td><td>19</td><td>6</td></tr>\n",
       "\t<tr><td>0</td><td>1</td><td>0</td><td>1</td><td>0</td><td>0</td><td>1</td><td>0</td><td>0</td><td>0</td><td>0</td><td>1</td><td>0</td><td>26</td><td>4</td></tr>\n",
       "\t<tr><td>0</td><td>0</td><td>1</td><td>0</td><td>0</td><td>0</td><td>0</td><td>0</td><td>0</td><td>1</td><td>1</td><td>0</td><td>0</td><td>20</td><td>2</td></tr>\n",
       "\t<tr><td>1</td><td>1</td><td>1</td><td>0</td><td>0</td><td>1</td><td>0</td><td>0</td><td>0</td><td>0</td><td>0</td><td>1</td><td>0</td><td>24</td><td>3</td></tr>\n",
       "\t<tr><td>1</td><td>1</td><td>0</td><td>1</td><td>0</td><td>0</td><td>0</td><td>0</td><td>0</td><td>1</td><td>0</td><td>1</td><td>0</td><td>24</td><td>2</td></tr>\n",
       "</tbody>\n",
       "</table>\n"
      ],
      "text/latex": [
       "A tibble: 6 × 15\n",
       "\\begin{tabular}{lllllllllllllll}\n",
       " y & w & gender\\_female & gender\\_male & gender\\_transgender & ethnicgrp\\_asian & ethnicgrp\\_black & ethnicgrp\\_mixed\\_multiple & ethnicgrp\\_other & ethnicgrp\\_white & partners1 & postlaunch & msm & age & imd\\_decile\\\\\n",
       " <dbl> & <dbl> & <dbl> & <dbl> & <dbl> & <dbl> & <dbl> & <dbl> & <dbl> & <dbl> & <dbl> & <dbl> & <dbl> & <dbl> & <dbl>\\\\\n",
       "\\hline\n",
       "\t 1 & 1 & 0 & 1 & 0 & 0 & 0 & 1 & 0 & 0 & 0 & 1 & 0 & 27 & 5\\\\\n",
       "\t 0 & 0 & 0 & 1 & 0 & 0 & 0 & 0 & 0 & 1 & 0 & 0 & 0 & 19 & 6\\\\\n",
       "\t 0 & 1 & 0 & 1 & 0 & 0 & 1 & 0 & 0 & 0 & 0 & 1 & 0 & 26 & 4\\\\\n",
       "\t 0 & 0 & 1 & 0 & 0 & 0 & 0 & 0 & 0 & 1 & 1 & 0 & 0 & 20 & 2\\\\\n",
       "\t 1 & 1 & 1 & 0 & 0 & 1 & 0 & 0 & 0 & 0 & 0 & 1 & 0 & 24 & 3\\\\\n",
       "\t 1 & 1 & 0 & 1 & 0 & 0 & 0 & 0 & 0 & 1 & 0 & 1 & 0 & 24 & 2\\\\\n",
       "\\end{tabular}\n"
      ],
      "text/markdown": [
       "\n",
       "A tibble: 6 × 15\n",
       "\n",
       "| y &lt;dbl&gt; | w &lt;dbl&gt; | gender_female &lt;dbl&gt; | gender_male &lt;dbl&gt; | gender_transgender &lt;dbl&gt; | ethnicgrp_asian &lt;dbl&gt; | ethnicgrp_black &lt;dbl&gt; | ethnicgrp_mixed_multiple &lt;dbl&gt; | ethnicgrp_other &lt;dbl&gt; | ethnicgrp_white &lt;dbl&gt; | partners1 &lt;dbl&gt; | postlaunch &lt;dbl&gt; | msm &lt;dbl&gt; | age &lt;dbl&gt; | imd_decile &lt;dbl&gt; |\n",
       "|---|---|---|---|---|---|---|---|---|---|---|---|---|---|---|\n",
       "| 1 | 1 | 0 | 1 | 0 | 0 | 0 | 1 | 0 | 0 | 0 | 1 | 0 | 27 | 5 |\n",
       "| 0 | 0 | 0 | 1 | 0 | 0 | 0 | 0 | 0 | 1 | 0 | 0 | 0 | 19 | 6 |\n",
       "| 0 | 1 | 0 | 1 | 0 | 0 | 1 | 0 | 0 | 0 | 0 | 1 | 0 | 26 | 4 |\n",
       "| 0 | 0 | 1 | 0 | 0 | 0 | 0 | 0 | 0 | 1 | 1 | 0 | 0 | 20 | 2 |\n",
       "| 1 | 1 | 1 | 0 | 0 | 1 | 0 | 0 | 0 | 0 | 0 | 1 | 0 | 24 | 3 |\n",
       "| 1 | 1 | 0 | 1 | 0 | 0 | 0 | 0 | 0 | 1 | 0 | 1 | 0 | 24 | 2 |\n",
       "\n"
      ],
      "text/plain": [
       "  y w gender_female gender_male gender_transgender ethnicgrp_asian\n",
       "1 1 1 0             1           0                  0              \n",
       "2 0 0 0             1           0                  0              \n",
       "3 0 1 0             1           0                  0              \n",
       "4 0 0 1             0           0                  0              \n",
       "5 1 1 1             0           0                  1              \n",
       "6 1 1 0             1           0                  0              \n",
       "  ethnicgrp_black ethnicgrp_mixed_multiple ethnicgrp_other ethnicgrp_white\n",
       "1 0               1                        0               0              \n",
       "2 0               0                        0               1              \n",
       "3 1               0                        0               0              \n",
       "4 0               0                        0               1              \n",
       "5 0               0                        0               0              \n",
       "6 0               0                        0               1              \n",
       "  partners1 postlaunch msm age imd_decile\n",
       "1 0         1          0   27  5         \n",
       "2 0         0          0   19  6         \n",
       "3 0         1          0   26  4         \n",
       "4 1         0          0   20  2         \n",
       "5 0         1          0   24  3         \n",
       "6 0         1          0   24  2         "
      ]
     },
     "metadata": {},
     "output_type": "display_data"
    }
   ],
   "source": [
    "head(datos)"
   ]
  },
  {
   "cell_type": "code",
   "execution_count": 84,
   "id": "98fafb07-3cd1-43c6-9cbd-ea6e298c3239",
   "metadata": {},
   "outputs": [],
   "source": [
    "library(dplyr)\n",
    "library(broom)\n",
    "library(kableExtra)"
   ]
  },
  {
   "cell_type": "code",
   "execution_count": 140,
   "id": "d90f91fa-09bc-4fcc-9b29-11fc0e52e8b6",
   "metadata": {},
   "outputs": [
    {
     "name": "stdout",
     "output_type": "stream",
     "text": [
      "[1] \"Table 1: Descriptive Statistics and Balance\"\n",
      "\u001b[90m# A tibble: 12 × 6\u001b[39m\n",
      "   variable         Control_mean Control_sd Treatment_mean Treatment_sd     Diff\n",
      "   \u001b[3m\u001b[90m<fct>\u001b[39m\u001b[23m                   \u001b[3m\u001b[90m<dbl>\u001b[39m\u001b[23m      \u001b[3m\u001b[90m<dbl>\u001b[39m\u001b[23m          \u001b[3m\u001b[90m<dbl>\u001b[39m\u001b[23m        \u001b[3m\u001b[90m<dbl>\u001b[39m\u001b[23m    \u001b[3m\u001b[90m<dbl>\u001b[39m\u001b[23m\n",
      "\u001b[90m 1\u001b[39m age                  23.0         3.59         23.2           3.54    0.111  \n",
      "\u001b[90m 2\u001b[39m gender_female         0.581       0.494         0.587         0.493   0.006\u001b[4m7\u001b[24m\u001b[4m2\u001b[24m\n",
      "\u001b[90m 3\u001b[39m gender_male           0.418       0.494         0.409         0.492  -\u001b[31m0\u001b[39m\u001b[31m.\u001b[39m\u001b[31m00\u001b[39m\u001b[31m8\u001b[4m7\u001b[24m\u001b[4m6\u001b[24m\u001b[39m\n",
      "\u001b[90m 4\u001b[39m gender_transgen…      0.001\u001b[4m2\u001b[24m\u001b[4m2\u001b[24m     0.035\u001b[4m0\u001b[24m        0.003\u001b[4m2\u001b[24m\u001b[4m6\u001b[24m       0.057\u001b[4m0\u001b[24m  0.002\u001b[4m0\u001b[24m\u001b[4m3\u001b[24m\n",
      "\u001b[90m 5\u001b[39m ethnicgrp_asian       0.055\u001b[4m0\u001b[24m      0.228         0.071\u001b[4m7\u001b[24m        0.258   0.016\u001b[4m6\u001b[24m \n",
      "\u001b[90m 6\u001b[39m ethnicgrp_black       0.092\u001b[4m9\u001b[24m      0.290         0.080\u001b[4m3\u001b[24m        0.272  -\u001b[31m0\u001b[39m\u001b[31m.\u001b[39m\u001b[31m0\u001b[39m\u001b[31m12\u001b[4m6\u001b[24m\u001b[39m \n",
      "\u001b[90m 7\u001b[39m ethnicgrp_mixed…      0.092\u001b[4m9\u001b[24m      0.290         0.084\u001b[4m7\u001b[24m        0.279  -\u001b[31m0\u001b[39m\u001b[31m.\u001b[39m\u001b[31m00\u001b[39m\u001b[31m8\u001b[4m2\u001b[24m\u001b[4m2\u001b[24m\u001b[39m\n",
      "\u001b[90m 8\u001b[39m ethnicgrp_other       0.017\u001b[4m1\u001b[24m      0.130         0.009\u001b[4m7\u001b[24m\u001b[4m7\u001b[24m       0.098\u001b[4m4\u001b[24m -\u001b[31m0\u001b[39m\u001b[31m.\u001b[39m\u001b[31m00\u001b[39m\u001b[31m7\u001b[4m3\u001b[24m\u001b[4m4\u001b[24m\u001b[39m\n",
      "\u001b[90m 9\u001b[39m ethnicgrp_white       0.742       0.438         0.754         0.431   0.011\u001b[4m5\u001b[24m \n",
      "\u001b[90m10\u001b[39m partners1             0.292       0.455         0.301         0.459   0.008\u001b[4m5\u001b[24m\u001b[4m8\u001b[24m\n",
      "\u001b[90m11\u001b[39m msm                   0.138       0.345         0.124         0.330  -\u001b[31m0\u001b[39m\u001b[31m.\u001b[39m\u001b[31m0\u001b[39m\u001b[31m14\u001b[4m4\u001b[24m\u001b[39m \n",
      "\u001b[90m12\u001b[39m imd_decile            3.48        1.49          3.46          1.47   -\u001b[31m0\u001b[39m\u001b[31m.\u001b[39m\u001b[31m0\u001b[39m\u001b[31m23\u001b[4m7\u001b[24m\u001b[39m \n"
     ]
    }
   ],
   "source": [
    "# Definir las variables de interés\n",
    "variables <- c(\"age\", \"gender_female\", \"gender_male\", \"gender_transgender\",\n",
    "               \"ethnicgrp_asian\", \"ethnicgrp_black\", \"ethnicgrp_mixed_multiple\",\n",
    "               \"ethnicgrp_other\", \"ethnicgrp_white\", \"partners1\", \"msm\", \"imd_decile\")\n",
    "\n",
    "# Lista para almacenar las estadísticas descriptivas\n",
    "stats_list <- list()\n",
    "\n",
    "# Calcular estadísticas descriptivas para cada variable\n",
    "for (var in variables) {\n",
    "  stats <- datos %>%\n",
    "    group_by(w) %>%\n",
    "    summarise(\n",
    "      n = n(),\n",
    "      mean = mean(.data[[var]], na.rm = TRUE),\n",
    "      sd = sd(.data[[var]], na.rm = TRUE)\n",
    "    ) %>%\n",
    "    mutate(variable = var)\n",
    "  \n",
    "  stats_list[[var]] <- stats\n",
    "}\n",
    "\n",
    "# Convertir la lista de estadísticas a un data frame\n",
    "stats_df <- bind_rows(stats_list)\n",
    "\n",
    "# Reorganizar stats_df para tener una variable por fila y por w en columnas\n",
    "reshaped_stats <- stats_df %>%\n",
    "  pivot_wider(\n",
    "    id_cols = variable,\n",
    "    names_from = w,\n",
    "    values_from = c(mean, sd)\n",
    "  ) %>%\n",
    "  mutate(\n",
    "    variable = factor(variable, levels = variables)\n",
    "  ) %>%\n",
    "  arrange(variable)\n",
    "\n",
    "# Calcular las diferencias y organizar la tabla final\n",
    "tabla_final <- reshaped_stats %>%\n",
    "  mutate(\n",
    "    Control_mean = mean_0,\n",
    "    Treatment_mean = mean_1,\n",
    "    Control_sd = sd_0,\n",
    "    Treatment_sd = sd_1,\n",
    "    Diff = mean_1 - mean_0\n",
    "  ) %>%\n",
    "  select(variable, Control_mean, Control_sd, Treatment_mean, Treatment_sd, Diff)\n",
    "\n",
    "# Imprimir la tabla final\n",
    "print(\"Table 1: Descriptive Statistics and Balance\")\n",
    "print(tabla_final)\n"
   ]
  },
  {
   "cell_type": "code",
   "execution_count": 164,
   "id": "0850fbde-3fde-4cff-b8fe-a932343c8364",
   "metadata": {},
   "outputs": [
    {
     "data": {
      "image/png": "[encoded data removed]",
      "text/plain": [
       "plot without title"
      ]
     },
     "metadata": {
      "image/png": {
       "height": 420,
       "width": 420
      }
     },
     "output_type": "display_data"
    },
    {
     "data": {
      "image/png": "[encoded data removed]",
      "text/plain": [
       "plot without title"
      ]
     },
     "metadata": {
      "image/png": {
       "height": 420,
       "width": 420
      }
     },
     "output_type": "display_data"
    },
    {
     "data": {
      "image/png": "[encoded data removed]",
      "text/plain": [
       "plot without title"
      ]
     },
     "metadata": {
      "image/png": {
       "height": 420,
       "width": 420
      }
     },
     "output_type": "display_data"
    }
   ],
   "source": [
    "library(ggplot2)\n",
    "\n",
    "# Variables categóricas de interés\n",
    "categorical_vars <- c(\"gender_female\", \"ethnicgrp_asian\", \"ethnicgrp_black\")\n",
    "colores <- c(\"steelblue\", \"gray\") \n",
    "\n",
    "# Función para crear gráfico de barras\n",
    "create_bar_plot <- function(data, var) {\n",
    "  ggplot(data, aes(x = factor(get(var)), fill = factor(w))) +\n",
    "      geom_bar(position = \"dodge\", stat = \"count\") +\n",
    "      scale_fill_manual(values = colores) + \n",
    "      theme_light() +\n",
    "    labs(x = var, y = \"Count\", fill = \"Group\") +\n",
    "    ggtitle(paste(\"Distribution of\", var)) +\n",
    "    theme_minimal()\n",
    "}\n",
    "\n",
    "# Crear y mostrar gráficos de barras para cada variable categórica\n",
    "for (var in categorical_vars) {\n",
    "  plot <- create_bar_plot(datos, var)\n",
    "  print(plot)\n",
    "}\n"
   ]
  },
  {
   "cell_type": "code",
   "execution_count": 176,
   "id": "cb597310-d376-4794-8932-0fabc74b72ab",
   "metadata": {},
   "outputs": [
    {
     "data": {
      "image/png": "[encoded data removed]",
      "text/plain": [
       "plot without title"
      ]
     },
     "metadata": {
      "image/png": {
       "height": 420,
       "width": 420
      }
     },
     "output_type": "display_data"
    }
   ],
   "source": [
    "# Crear el histograma de la variable 'age' por grupo (w)\n",
    "ggplot(datos, aes(x = age, fill = factor(w))) +\n",
    "  geom_histogram(position = \"dodge\", binwidth = 1, color = \"black\", alpha = 0.7) +\n",
    "  scale_fill_manual(values = c(\"steelblue\", \"gray\"), \n",
    "                    name = \"Group\",\n",
    "                    labels = c(\"Control\", \"Treatment\")) +\n",
    "  labs(title = \"Histogram of Age by Group\",\n",
    "       x = \"Age\",\n",
    "       y = \"Frequency\") +\n",
    "  theme_minimal()\n"
   ]
  },
  {
   "cell_type": "code",
   "execution_count": 220,
   "id": "771f6300-a7a0-4f7c-9724-0297290aaac7",
   "metadata": {},
   "outputs": [
    {
     "data": {
      "text/plain": [
       "\n",
       "Call:\n",
       "lm(formula = y ~ w, data = datos)\n",
       "\n",
       "Residuals:\n",
       "    Min      1Q  Median      3Q     Max \n",
       "-0.4767 -0.4767 -0.2115  0.5233  0.7885 \n",
       "\n",
       "Coefficients:\n",
       "            Estimate Std. Error t value Pr(>|t|)    \n",
       "(Intercept)  0.21149    0.01605   13.17   <2e-16 ***\n",
       "w            0.26516    0.02206   12.02   <2e-16 ***\n",
       "---\n",
       "Signif. codes:  0 '***' 0.001 '**' 0.01 '*' 0.05 '.' 0.1 ' ' 1\n",
       "\n",
       "Residual standard error: 0.4591 on 1737 degrees of freedom\n",
       "Multiple R-squared:  0.0768,\tAdjusted R-squared:  0.07627 \n",
       "F-statistic: 144.5 on 1 and 1737 DF,  p-value: < 2.2e-16\n"
      ]
     },
     "metadata": {},
     "output_type": "display_data"
    }
   ],
   "source": [
    "# Realizar la regresión lineal\n",
    "model <- lm(y ~ w, data = datos)\n",
    "nocontrol.est <- summary(model)$coef[\"w\",1]\n",
    "CI1upper <-confint(model)[2,2]\n",
    "CI1low <-confint(model)[2,1]\n",
    "\n",
    "summary(model)"
   ]
  },
  {
   "cell_type": "markdown",
   "id": "ef9e284a-154e-4b4d-9f10-dba5f275205e",
   "metadata": {},
   "source": [
    "Interpretation: There is a significant (p<0.05) and positive effect of the treatment on the outcome. The probability that Y is equal to 1 increases by 26.52 percentage points when w=1, compared to w=0. However, there is omitted variable bias because only outocme was regressed with treatment"
   ]
  },
  {
   "cell_type": "code",
   "execution_count": 223,
   "id": "01744e5b-4f3a-4906-ae71-a0e5a7875bc9",
   "metadata": {},
   "outputs": [
    {
     "data": {
      "text/plain": [
       "\n",
       "Call:\n",
       "lm(formula = formula, data = datos)\n",
       "\n",
       "Residuals:\n",
       "    Min      1Q  Median      3Q     Max \n",
       "-0.6280 -0.3638 -0.1853  0.4874  0.9203 \n",
       "\n",
       "Coefficients:\n",
       "                    Estimate Std. Error t value Pr(>|t|)    \n",
       "(Intercept)        -0.216998   0.075399  -2.878 0.004051 ** \n",
       "w                   0.261294   0.021816  11.977  < 2e-16 ***\n",
       "age                 0.016486   0.003092   5.333  1.1e-07 ***\n",
       "gender_female       0.089087   0.024942   3.572 0.000364 ***\n",
       "ethnicgrp_black    -0.066363   0.038931  -1.705 0.088441 .  \n",
       "gender_transgender  0.424825   0.227945   1.864 0.062530 .  \n",
       "msm                 0.017699   0.036669   0.483 0.629402    \n",
       "---\n",
       "Signif. codes:  0 '***' 0.001 '**' 0.01 '*' 0.05 '.' 0.1 ' ' 1\n",
       "\n",
       "Residual standard error: 0.4537 on 1732 degrees of freedom\n",
       "Multiple R-squared:  0.1012,\tAdjusted R-squared:  0.09807 \n",
       "F-statistic:  32.5 on 6 and 1732 DF,  p-value: < 2.2e-16\n"
      ]
     },
     "metadata": {},
     "output_type": "display_data"
    }
   ],
   "source": [
    "formula <- y ~ w + age + gender_female  + ethnicgrp_black + gender_transgender + msm\n",
    "model <- lm(formula, data = datos)\n",
    "control.est <- summary(model)$coef[2,1]\n",
    "CI2upper <-confint(model)[2,2]\n",
    "CI2low <-confint(model)[2,1]\n",
    "summary(model)"
   ]
  },
  {
   "cell_type": "markdown",
   "id": "38c01e74-776b-41e3-a751-80b181a8dd03",
   "metadata": {},
   "source": [
    "Interpretation: There is a significant (p<0.01) and positive effect of the treatment on the outcome. The probability that Y is equal to 1 increases by 26.13 percentage points when w=1, compared to w=0. Likewise, the other variables that were significant are age and female with a significance level of 0.01."
   ]
  },
  {
   "cell_type": "markdown",
   "id": "715bfe2a-8723-4702-8e6c-a248ccadb3a2",
   "metadata": {},
   "source": [
    "Use the Double Lasso Method to estimate Y ~ T + X. Please show a clear table output and interpret the results.\r\n"
   ]
  },
  {
   "cell_type": "code",
   "execution_count": 235,
   "id": "850ba8fc-7656-42ff-9daa-01fb0787e44c",
   "metadata": {},
   "outputs": [
    {
     "data": {
      "text/plain": [
       "\n",
       "Call:\n",
       "lm(formula = model_formula, data = datos)\n",
       "\n",
       "Residuals:\n",
       "    Min      1Q  Median      3Q     Max \n",
       "-0.4767 -0.4767 -0.2115  0.5233  0.7885 \n",
       "\n",
       "Coefficients:\n",
       "            Estimate Std. Error t value Pr(>|t|)    \n",
       "(Intercept)  0.21149    0.01605   13.17   <2e-16 ***\n",
       "w            0.26516    0.02206   12.02   <2e-16 ***\n",
       "---\n",
       "Signif. codes:  0 '***' 0.001 '**' 0.01 '*' 0.05 '.' 0.1 ' ' 1\n",
       "\n",
       "Residual standard error: 0.4591 on 1737 degrees of freedom\n",
       "Multiple R-squared:  0.0768,\tAdjusted R-squared:  0.07627 \n",
       "F-statistic: 144.5 on 1 and 1737 DF,  p-value: < 2.2e-16\n"
      ]
     },
     "metadata": {},
     "output_type": "display_data"
    }
   ],
   "source": [
    "# Cargar las librerías necesarias\n",
    "library(glmnet)\n",
    "\n",
    "# Definir las variables\n",
    "T <- datos$w\n",
    "Y <- datos$y\n",
    "X <- model.matrix(formula, data = datos)[,-1]\n",
    "\n",
    "# Ajustar el modelo Lasso con validación cruzada\n",
    "cv.lasso <- cv.glmnet(as.matrix(X), T, alpha = 1)\n",
    "\n",
    "# Obtener los coeficientes del modelo Lasso\n",
    "lasso_coefs <- coef(cv.lasso, s = \"lambda.min\")\n",
    "\n",
    "# Seleccionar las covariables no nulas\n",
    "selected_covariates <- rownames(lasso_coefs)[lasso_coefs[, 1] != 0]\n",
    "selected_covariates <- selected_covariates[selected_covariates != \"(Intercept)\"]\n",
    "\n",
    "# Comprobar si hay covariables seleccionadas\n",
    "if (length(selected_covariates) > 0) {\n",
    "  # Crear la fórmula del modelo\n",
    "  model_formula <- as.formula(paste(\"y ~\", paste(selected_covariates, collapse = \" + \")))\n",
    "} else {\n",
    "  # Si no hay covariables seleccionadas, usar solo el intercepto\n",
    "  model_formula <- as.formula(\"y ~ 1\")\n",
    "}\n",
    "\n",
    "# Ajustar el modelo lineal\n",
    "modelo1 <- lm(model_formula, data = datos)\n",
    "lasso.est <- summary(modelo1)$coef[2,1]\n",
    "CI3upper <-confint(modelo1)[2,2]\n",
    "CI3low <-confint(modelo1)[2,1]\n",
    "\n",
    "# Mostrar el resumen del modelo\n",
    "summary(modelo1)\n"
   ]
  },
  {
   "cell_type": "code",
   "execution_count": 236,
   "id": "6ba3e2bd-d187-4677-91ef-95e93bef6518",
   "metadata": {},
   "outputs": [
    {
     "data": {
      "image/png": "[encoded data removed]",
      "text/plain": [
       "plot without title"
      ]
     },
     "metadata": {
      "image/png": {
       "height": 420,
       "width": 420
      }
     },
     "output_type": "display_data"
    }
   ],
   "source": [
    "CIdf <- data.frame(x = c('No Control','With Control','Lasso'),\n",
    "                         y = c(nocontrol.est,control.est, lasso.est),\n",
    "                         lower = c(CI1low,CI2low,CI3low),\n",
    "                         upper = c(CI1upper,CI2upper, CI3upper))\n",
    "ggplot(CIdf, aes(x, y)) +\n",
    "  geom_point(color = \"darkred\") +  # Puntos rojos\n",
    "  geom_errorbar(aes(ymin = lower, ymax = upper), color = \"navyblue\") +  # Borde de los intervalos de error azules\n",
    "  ggtitle(\"Figure 2: Coef\") +\n",
    "  theme_light()"
   ]
  },
  {
   "cell_type": "code",
   "execution_count": null,
   "id": "21920cc6-61ea-4e10-9ce4-612759f4b9ec",
   "metadata": {},
   "outputs": [],
   "source": []
  }
 ],
 "metadata": {
  "kernelspec": {
   "display_name": "R",
   "language": "R",
   "name": "ir"
  },
  "language_info": {
   "codemirror_mode": "r",
   "file_extension": ".r",
   "mimetype": "text/x-r-source",
   "name": "R",
   "pygments_lexer": "r",
   "version": "4.3.3"
  }
 },
 "nbformat": 4,
 "nbformat_minor": 5
}
