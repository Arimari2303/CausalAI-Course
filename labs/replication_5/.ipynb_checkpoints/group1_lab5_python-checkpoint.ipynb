{
 "cells": [
  {
   "cell_type": "code",
   "execution_count": 20,
   "id": "dfb90610-f1a2-4050-83a3-2e4b790d04e4",
   "metadata": {},
   "outputs": [
    {
     "name": "stdout",
     "output_type": "stream",
     "text": [
      "Requirement already satisfied: multiprocess in c:\\users\\josue\\anaconda3\\lib\\site-packages (0.70.16)\n",
      "Requirement already satisfied: dill>=0.3.8 in c:\\users\\josue\\anaconda3\\lib\\site-packages (from multiprocess) (0.3.8)\n",
      "Requirement already satisfied: pyreadr in c:\\users\\josue\\anaconda3\\lib\\site-packages (0.5.0)\n",
      "Requirement already satisfied: pandas>=1.2.0 in c:\\users\\josue\\anaconda3\\lib\\site-packages (from pyreadr) (2.1.4)\n",
      "Requirement already satisfied: numpy<2,>=1.23.2 in c:\\users\\josue\\anaconda3\\lib\\site-packages (from pandas>=1.2.0->pyreadr) (1.26.4)\n",
      "Requirement already satisfied: python-dateutil>=2.8.2 in c:\\users\\josue\\anaconda3\\lib\\site-packages (from pandas>=1.2.0->pyreadr) (2.8.2)\n",
      "Requirement already satisfied: pytz>=2020.1 in c:\\users\\josue\\anaconda3\\lib\\site-packages (from pandas>=1.2.0->pyreadr) (2023.3.post1)\n",
      "Requirement already satisfied: tzdata>=2022.1 in c:\\users\\josue\\anaconda3\\lib\\site-packages (from pandas>=1.2.0->pyreadr) (2023.3)\n",
      "Requirement already satisfied: six>=1.5 in c:\\users\\josue\\anaconda3\\lib\\site-packages (from python-dateutil>=2.8.2->pandas>=1.2.0->pyreadr) (1.16.0)\n"
     ]
    },
    {
     "name": "stderr",
     "output_type": "stream",
     "text": [
      "Cloning into 'hdmpy'...\n"
     ]
    }
   ],
   "source": [
    "!pip install multiprocess\n",
    "!pip install pyreadr\n",
    "!git clone https://github.com/maxhuppertz/hdmpy.git"
   ]
  },
  {
   "cell_type": "code",
   "execution_count": 22,
   "id": "1a21bfc2-5cdd-4b3f-8a96-4d672d65e2bc",
   "metadata": {},
   "outputs": [],
   "source": [
    "import sys\n",
    "sys.path.insert(1, \"./hdmpy\")\n",
    "import hdmpy"
   ]
  },
  {
   "cell_type": "code",
   "execution_count": 11,
   "id": "1d931998-cf0c-47d1-a386-eda22630d431",
   "metadata": {},
   "outputs": [],
   "source": [
    "# Import relevant packages\n",
    "import pandas as pd\n",
    "import numpy as np\n",
    "import matplotlib.pyplot as plt\n",
    "from sklearn.model_selection import train_test_split\n",
    "from sklearn.model_selection import cross_val_score, cross_val_predict, KFold\n",
    "from sklearn.pipeline import make_pipeline\n",
    "from sklearn.linear_model import LassoCV, RidgeCV, ElasticNetCV, LinearRegression, Ridge, Lasso, LogisticRegressionCV\n",
    "from sklearn.preprocessing import StandardScaler\n",
    "from sklearn.ensemble import RandomForestRegressor, RandomForestClassifier\n",
    "import patsy\n",
    "import warnings\n",
    "from sklearn.base import BaseEstimator, clone\n",
    "import statsmodels.api as sm\n",
    "import statsmodels.formula.api as smf\n",
    "from sklearn.base import BaseEstimator, clone\n",
    "from sklearn.tree import DecisionTreeRegressor\n",
    "from sklearn.ensemble import RandomForestRegressor\n",
    "from sklearn.ensemble import GradientBoostingRegressor\n",
    "from sklearn.tree import DecisionTreeRegressor\n",
    "warnings.simplefilter('ignore')\n",
    "\n",
    "np.random.seed(123)"
   ]
  },
  {
   "cell_type": "markdown",
   "id": "cf726aee-6f05-472f-bd85-b48a2e861fc2",
   "metadata": {},
   "source": [
    "# 3.Non-Linear Methods DML"
   ]
  },
  {
   "cell_type": "code",
   "execution_count": 12,
   "id": "137ba3c1-2011-49ad-8799-86b22672decd",
   "metadata": {},
   "outputs": [],
   "source": [
    "data = pd.read_csv(\"https://github.com/gsbDBI/ExperimentData/raw/97a11199ba559f01c7b3803a1493ffa08631732e/eSTI/processed_data/processed_esti.csv\")\n",
    "data['intercept'] = 1"
   ]
  },
  {
   "cell_type": "code",
   "execution_count": 14,
   "id": "dc95e63a-2066-4af6-8106-d6fdd3159dfa",
   "metadata": {},
   "outputs": [
    {
     "name": "stdout",
     "output_type": "stream",
     "text": [
      "The length of y is:  1739\n",
      "The number of features in x is:  13\n"
     ]
    },
    {
     "data": {
      "text/plain": [
       "'gender_female+gender_male+gender_transgender+ethnicgrp_asian+ethnicgrp_black+ethnicgrp_mixed_multiple+ethnicgrp_other+ethnicgrp_white+partners1+postlaunch+msm+age+imd_decile+intercept'"
      ]
     },
     "execution_count": 14,
     "metadata": {},
     "output_type": "execute_result"
    }
   ],
   "source": [
    "# some summary statistics\n",
    "print(\"The length of y is: \", y.shape[0])\n",
    "print(\"The number of features in x is: \", x.shape[1])\n",
    "all_columns = \"+\".join(data.iloc[:,2:].columns)\n",
    "all_columns"
   ]
  },
  {
   "cell_type": "code",
   "execution_count": 15,
   "id": "33c3d3c1-a02b-4e46-8c13-7a3b80fbdcb4",
   "metadata": {},
   "outputs": [],
   "source": [
    "def dml(X, D, y, modely, modeld, *, nfolds, classifier=False, time = None, clu = None, cluster = True):\n",
    "\n",
    "    cv = KFold(n_splits=nfolds, shuffle=True, random_state=123) # shuffled k-folds\n",
    "    yhat = cross_val_predict(modely, X, y, cv=cv, n_jobs=-1) # out-of-fold predictions for y\n",
    "    # out-of-fold predictions for D\n",
    "    # use predict or predict_proba dependent on classifier or regressor for D\n",
    "    if classifier:\n",
    "        Dhat = cross_val_predict(modeld, X, D, cv=cv, method='predict_proba', n_jobs=-1)[:, 1]\n",
    "    else:\n",
    "        Dhat = cross_val_predict(modeld, X, D, cv=cv, n_jobs=-1)\n",
    "    # calculate outcome and treatment residuals\n",
    "    resy = y - yhat\n",
    "    resD = D - Dhat\n",
    "\n",
    "    if cluster:\n",
    "      # final stage ols clustered\n",
    "      dml_data = pd.concat([clu, pd.Series(time), pd.Series(resy, name = 'resy'), pd.Series(resD, name = 'resD')], axis=1)\n",
    "\n",
    "    else:\n",
    "      # final stage ols nonclustered\n",
    "      dml_data = pd.concat([pd.Series(resy, name = 'resy'), pd.Series(resD, name = 'resD')], axis=1)\n",
    "\n",
    "    if cluster:\n",
    "      # clustered standard errors\n",
    "      ols_mod = smf.ols(formula = 'resy ~ 1 + resD', data = dml_data).fit(cov_type='cluster', cov_kwds={\"groups\": dml_data['CountyCode']})\n",
    "\n",
    "    else:\n",
    "      # regular ols\n",
    "      ols_mod = smf.ols(formula = 'resy ~ 1 + resD', data = dml_data).fit()\n",
    "\n",
    "    point = ols_mod.params[1]\n",
    "    stderr = ols_mod.bse[1]\n",
    "    epsilon = ols_mod.resid\n",
    "\n",
    "    return point, stderr, yhat, Dhat, resy, resD, epsilon"
   ]
  },
  {
   "cell_type": "code",
   "execution_count": 16,
   "id": "9b38f3d7-dae6-4ed8-b7ee-5653d550ad0a",
   "metadata": {},
   "outputs": [],
   "source": [
    "def summary(point, stderr, yhat, Dhat, resy, resD, epsilon, X, D, y, *, name):\n",
    "    '''\n",
    "    Convenience summary function that takes the results of the DML function\n",
    "    and summarizes several estimation quantities and performance metrics.\n",
    "    '''\n",
    "    return pd.DataFrame({'estimate': point, # point estimate\n",
    "                         'stderr': stderr, # standard error\n",
    "                         'lower': point - 1.96*stderr, # lower end of 95% confidence interval\n",
    "                         'upper': point + 1.96*stderr, # upper end of 95% confidence interval\n",
    "                         'rmse y': np.sqrt(np.mean(resy**2)), # RMSE of model that predicts outcome y\n",
    "                         'rmse D': np.sqrt(np.mean(resD**2)) # RMSE of model that predicts treatment D\n",
    "                         }, index=[name])"
   ]
  },
  {
   "cell_type": "code",
   "execution_count": 17,
   "id": "793b4672-4b54-4ff7-9197-0769842e220f",
   "metadata": {},
   "outputs": [],
   "source": [
    "y = data[\"y\"]\n",
    "d = data[\"w\"]\n",
    "x = data[data.columns[~data.columns.isin(['y','w'])]]"
   ]
  },
  {
   "cell_type": "markdown",
   "id": "c0a59182-ed84-41cc-9ac6-8020890ce3b5",
   "metadata": {},
   "source": [
    "# We now run through DML using as first stage models:\n",
    "\n",
    "- Robust Lasso\n",
    "- Regression Trees\n",
    "- Boosting Trees\n",
    "- Regression Forest"
   ]
  },
  {
   "cell_type": "code",
   "execution_count": 37,
   "id": "7e1ee528-63d5-4274-8223-2628dc8d4e9a",
   "metadata": {},
   "outputs": [
    {
     "name": "stdout",
     "output_type": "stream",
     "text": [
      "     estimate    stderr     lower    upper    rmse y   rmse D\n",
      "OLS  0.261983  0.021667  0.219516  0.30445  0.472325  0.50234\n"
     ]
    }
   ],
   "source": [
    "# DML with OLS:\n",
    "modely = make_pipeline(StandardScaler(), LinearRegression())\n",
    "modeld = make_pipeline(StandardScaler(), LinearRegression())\n",
    "result_OLS = dml(x,d,y, modely, modeld, nfolds=10, classifier=False, cluster = False)\n",
    "table_OLS = summary(*result_OLS, x,d,y, name = 'OLS')\n",
    "print(table_OLS)"
   ]
  },
  {
   "cell_type": "code",
   "execution_count": 18,
   "id": "9f9fb127-483f-4fb3-8de3-afef45cbfe36",
   "metadata": {},
   "outputs": [],
   "source": [
    "class RLasso(BaseEstimator):\n",
    "\n",
    "    def __init__(self, *, post=True):\n",
    "        self.post = post\n",
    "\n",
    "    def fit(self, X, y):\n",
    "        self.rlasso_ = hdmpy.rlasso(X, y, post=self.post)\n",
    "        return self\n",
    "\n",
    "    def predict(self, X):\n",
    "        return np.array(X) @ np.array(self.rlasso_.est['beta']).flatten() + np.array(self.rlasso_.est['intercept'])\n",
    "\n",
    "lasso_model = lambda: RLasso(post=False)"
   ]
  },
  {
   "cell_type": "markdown",
   "id": "c3cb9125-f841-4e12-afe1-67735219f701",
   "metadata": {},
   "source": [
    "## 3.1 DML with RLasso:"
   ]
  },
  {
   "cell_type": "code",
   "execution_count": 32,
   "id": "6b31bd6c-9282-4089-a210-63783cc55576",
   "metadata": {
    "scrolled": true
   },
   "outputs": [
    {
     "name": "stdout",
     "output_type": "stream",
     "text": [
      "       estimate    stderr     lower     upper    rmse y    rmse D\n",
      "Lasso  0.259067  0.021722  0.216492  0.301642  0.471041  0.500225\n"
     ]
    }
   ],
   "source": [
    "modely = make_pipeline(StandardScaler(), RLasso(post=False))\n",
    "modeld = make_pipeline(StandardScaler(), RLasso(post=False))\n",
    "result_RLasso = dml(x,d,y, modely, modeld, nfolds=10, classifier=False, cluster = False)\n",
    "table_RLasso = summary(*result_RLasso, x,d,y, name = 'Lasso')\n",
    "print(table_RLasso)"
   ]
  },
  {
   "cell_type": "markdown",
   "id": "d8a220b4-b40f-4603-8196-28018a0747d2",
   "metadata": {},
   "source": [
    "## 3.2 DML with Regresion Trees:"
   ]
  },
  {
   "cell_type": "code",
   "execution_count": 33,
   "id": "e4361049-389e-4a05-a519-9fd68f95f980",
   "metadata": {},
   "outputs": [
    {
     "name": "stdout",
     "output_type": "stream",
     "text": [
      "    estimate    stderr     lower     upper    rmse y    rmse D\n",
      "RT  0.249831  0.021872  0.206961  0.292701  0.472259  0.499638\n"
     ]
    }
   ],
   "source": [
    "\n",
    "modely = make_pipeline(StandardScaler(), DecisionTreeRegressor(ccp_alpha=0.001, min_samples_leaf=5, random_state=123))\n",
    "modeld = make_pipeline(StandardScaler(), DecisionTreeRegressor(ccp_alpha=0.001, min_samples_leaf=5, random_state=123))\n",
    "result_RT = dml(x,d,y, modely, modeld, nfolds=10, classifier=False, cluster = False)\n",
    "table_RT= summary(*result_RT, x,d,y, name = 'RT')\n",
    "print(table_RT)"
   ]
  },
  {
   "cell_type": "markdown",
   "id": "31ff9d58-e074-4105-850c-3a56e0c694b3",
   "metadata": {},
   "source": [
    "## 3.3 DML with Boosting Trees:"
   ]
  },
  {
   "cell_type": "code",
   "execution_count": 34,
   "id": "459b4f1f-7a4a-43af-8e0b-3c5ef9456b9d",
   "metadata": {},
   "outputs": [
    {
     "name": "stdout",
     "output_type": "stream",
     "text": [
      "     estimate    stderr     lower     upper    rmse y    rmse D\n",
      "GBT  0.246373  0.021669  0.203902  0.288843  0.475893  0.508383\n"
     ]
    }
   ],
   "source": [
    "modely = make_pipeline(StandardScaler(), GradientBoostingRegressor(n_estimators=100, max_depth=3, random_state=123))\n",
    "modeld = make_pipeline(StandardScaler(), GradientBoostingRegressor(n_estimators=100, max_depth=3, random_state=123))\n",
    "result_GBT = dml(x,d,y, modely, modeld, nfolds=10, classifier=False, cluster = False)\n",
    "table_GBT = summary(*result_GBT, x,d,y, name = 'GBT')\n",
    "print(table_GBT)"
   ]
  },
  {
   "cell_type": "markdown",
   "id": "b05d5dc9-7bb2-409f-98b3-fe5419f7a20c",
   "metadata": {},
   "source": [
    "## 3.4 DML with Regression Forest:"
   ]
  },
  {
   "cell_type": "code",
   "execution_count": 35,
   "id": "e2364564-fa23-439a-a4b1-4c9cbdc16906",
   "metadata": {},
   "outputs": [
    {
     "name": "stdout",
     "output_type": "stream",
     "text": [
      "    estimate    stderr     lower     upper    rmse y    rmse D\n",
      "RF  0.241558  0.021379  0.199655  0.283461  0.472297  0.511585\n"
     ]
    }
   ],
   "source": [
    "modely = make_pipeline(StandardScaler(), RandomForestRegressor(n_estimators=100, min_samples_leaf=5, random_state=123))\n",
    "modeld = make_pipeline(StandardScaler(), RandomForestRegressor(n_estimators=100, min_samples_leaf=5, random_state=123))\n",
    "result_RF = dml(x,d,y, modely, modeld, nfolds=10, classifier=False, cluster = False)\n",
    "table_RF = summary(*result_RF, x,d,y, name = 'RF')\n",
    "print(table_RF)"
   ]
  },
  {
   "cell_type": "markdown",
   "id": "6915e4bf-2e01-426d-aa06-67c27646836c",
   "metadata": {},
   "source": [
    "## 3.5 Table and plot with all the results:"
   ]
  },
  {
   "cell_type": "code",
   "execution_count": 38,
   "id": "bd172f39-5184-400f-a10e-6817b5aba531",
   "metadata": {},
   "outputs": [],
   "source": [
    "table = pd.concat([ table_OLS, table_RLasso, table_RT, table_GBT, table_RF], axis=0)"
   ]
  },
  {
   "cell_type": "code",
   "execution_count": 39,
   "id": "8c1c6c20-3501-4aae-a31f-f74789835297",
   "metadata": {},
   "outputs": [
    {
     "name": "stdout",
     "output_type": "stream",
     "text": [
      "       estimate    stderr     lower     upper    rmse y    rmse D\n",
      "OLS    0.261983  0.021667  0.219516  0.304450  0.472325  0.502340\n",
      "Lasso  0.259067  0.021722  0.216492  0.301642  0.471041  0.500225\n",
      "RT     0.249831  0.021872  0.206961  0.292701  0.472259  0.499638\n",
      "GBT    0.246373  0.021669  0.203902  0.288843  0.475893  0.508383\n",
      "RF     0.241558  0.021379  0.199655  0.283461  0.472297  0.511585\n"
     ]
    }
   ],
   "source": [
    "print(table)"
   ]
  },
  {
   "cell_type": "code",
   "execution_count": 43,
   "id": "171b74f8-4dc6-4a32-9198-6645ce45f8a6",
   "metadata": {},
   "outputs": [
    {
     "data": {
      "image/png": "[encoded data removed]",
      "text/plain": [
       "<Figure size 1000x600 with 1 Axes>"
      ]
     },
     "metadata": {},
     "output_type": "display_data"
    }
   ],
   "source": [
    "plt.figure(figsize=(10, 6))\n",
    "plt.errorbar(table.index, table['estimate'], \n",
    "             yerr=[table['estimate'] - table['lower'], table['upper'] - table['estimate']], \n",
    "             fmt='o', capsize=5)\n",
    "plt.xlabel('Model')\n",
    "plt.ylabel('Estimate of T')\n",
    "plt.title('Estimates of T with 95% Confidence Intervals')\n",
    "plt.grid(True)\n",
    "plt.show()"
   ]
  },
  {
   "cell_type": "markdown",
   "id": "55d5572b-edb0-4809-9275-833ee2a0a911",
   "metadata": {},
   "source": [
    "## 3.6 What is the method we will choose?"
   ]
  },
  {
   "cell_type": "markdown",
   "id": "ca7c6a84-a181-4b81-b7be-bc9db426f19d",
   "metadata": {},
   "source": [
    "It seems that the best method for predicting D is the regression tree, and the best method for predicting Y is the robust Lasso because they have the smallest RMSE. Using both models, the result shows that the treated group used some type of STI test 25% more compared to the control group."
   ]
  },
  {
   "cell_type": "code",
   "execution_count": 45,
   "id": "db5610fb-9824-4582-8393-5e869d8b4aa9",
   "metadata": {},
   "outputs": [
    {
     "name": "stdout",
     "output_type": "stream",
     "text": [
      "             estimate    stderr     lower     upper    rmse y    rmse D\n",
      "Best method  0.255387  0.021775  0.212709  0.298066  0.471041  0.499638\n"
     ]
    }
   ],
   "source": [
    "modely = make_pipeline(StandardScaler(), RLasso(post=False))\n",
    "modeld = make_pipeline(StandardScaler(), DecisionTreeRegressor(ccp_alpha=0.001, min_samples_leaf=5, random_state=123))\n",
    "result_bestmethod = dml(x,d,y, modely, modeld, nfolds=10, classifier=False, cluster = False)\n",
    "table_bestmethod = summary(*result_bestmethod, x,d,y, name = 'Best method')\n",
    "print(table_bestmethod)"
   ]
  },
  {
   "cell_type": "code",
   "execution_count": null,
   "id": "32e82e18-d437-44ef-8f2b-5b62f8acd1d8",
   "metadata": {},
   "outputs": [],
   "source": []
  }
 ],
 "metadata": {
  "kernelspec": {
   "display_name": "Python 3 (ipykernel)",
   "language": "python",
   "name": "python3"
  },
  "language_info": {
   "codemirror_mode": {
    "name": "ipython",
    "version": 3
   },
   "file_extension": ".py",
   "mimetype": "text/x-python",
   "name": "python",
   "nbconvert_exporter": "python",
   "pygments_lexer": "ipython3",
   "version": "3.11.7"
  }
 },
 "nbformat": 4,
 "nbformat_minor": 5
}
