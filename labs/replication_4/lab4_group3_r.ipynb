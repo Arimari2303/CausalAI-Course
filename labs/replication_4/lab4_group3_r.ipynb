{
 "cells": [
  {
   "cell_type": "markdown",
   "metadata": {},
   "source": [
    "# Workgroup 4\n",
    "\n",
    "Authors: Valerie Dube, Erzo Garay, Juan Marcos Guerrero y Matias Villalba"
   ]
  },
  {
   "cell_type": "markdown",
   "metadata": {},
   "source": [
    "## Bootstraping"
   ]
  },
  {
   "cell_type": "code",
   "execution_count": null,
   "metadata": {
    "vscode": {
     "languageId": "r"
    }
   },
   "outputs": [],
   "source": []
  },
  {
   "cell_type": "markdown",
   "metadata": {},
   "source": [
    "## Causal Forest"
   ]
  },
  {
   "cell_type": "code",
   "execution_count": 1,
   "metadata": {
    "vscode": {
     "languageId": "r"
    }
   },
   "outputs": [],
   "source": [
    "set.seed(1)\n",
    "rm(list = ls())"
   ]
  },
  {
   "cell_type": "code",
   "execution_count": 11,
   "metadata": {
    "vscode": {
     "languageId": "r"
    }
   },
   "outputs": [
    {
     "name": "stderr",
     "output_type": "stream",
     "text": [
      "also installing the dependencies ‘zoo’, ‘DiceKriging’, ‘lmtest’, ‘Rcpp’, ‘sandwich’, ‘RcppEigen’\n",
      "\n",
      "\n",
      "Warning message in install.packages(\"grf\"):\n",
      "“installation of package ‘zoo’ had non-zero exit status”\n",
      "Warning message in install.packages(\"grf\"):\n",
      "“installation of package ‘DiceKriging’ had non-zero exit status”\n",
      "Warning message in install.packages(\"grf\"):\n",
      "“installation of package ‘Rcpp’ had non-zero exit status”\n",
      "Warning message in install.packages(\"grf\"):\n",
      "“installation of package ‘lmtest’ had non-zero exit status”\n",
      "Warning message in install.packages(\"grf\"):\n",
      "“installation of package ‘sandwich’ had non-zero exit status”\n",
      "Warning message in install.packages(\"grf\"):\n",
      "“installation of package ‘RcppEigen’ had non-zero exit status”\n",
      "Warning message in install.packages(\"grf\"):\n",
      "“installation of package ‘grf’ had non-zero exit status”\n",
      "Updating HTML index of packages in '.Library'\n",
      "\n",
      "Making 'packages.html' ...\n",
      " done\n",
      "\n",
      "also installing the dependencies ‘fastmap’, ‘fs’, ‘rappdirs’, ‘farver’, ‘munsell’, ‘stringi’, ‘backports’, ‘htmltools’, ‘cachem’, ‘memoise’, ‘mime’, ‘sass’, ‘isoband’, ‘scales’, ‘tibble’, ‘stringr’, ‘magrittr’, ‘checkmate’, ‘htmlwidgets’, ‘bslib’, ‘tinytex’, ‘xfun’, ‘yaml’, ‘highr’, ‘ggplot2’, ‘data.table’, ‘htmlTable’, ‘viridis’, ‘colorspace’, ‘rmarkdown’, ‘knitr’\n",
      "\n",
      "\n",
      "Warning message in install.packages(\"Hmisc\"):\n",
      "“installation of package ‘fastmap’ had non-zero exit status”\n",
      "Warning message in install.packages(\"Hmisc\"):\n",
      "“installation of package ‘fs’ had non-zero exit status”\n",
      "Warning message in install.packages(\"Hmisc\"):\n",
      "“installation of package ‘rappdirs’ had non-zero exit status”\n",
      "Warning message in install.packages(\"Hmisc\"):\n",
      "“installation of package ‘farver’ had non-zero exit status”\n",
      "Warning message in install.packages(\"Hmisc\"):\n",
      "“installation of package ‘stringi’ had non-zero exit status”\n",
      "Warning message in install.packages(\"Hmisc\"):\n",
      "“installation of package ‘backports’ had non-zero exit status”\n",
      "Warning message in install.packages(\"Hmisc\"):\n",
      "“installation of package ‘mime’ had non-zero exit status”\n",
      "Warning message in install.packages(\"Hmisc\"):\n",
      "“installation of package ‘isoband’ had non-zero exit status”\n",
      "Warning message in install.packages(\"Hmisc\"):\n",
      "“installation of package ‘magrittr’ had non-zero exit status”\n",
      "Warning message in install.packages(\"Hmisc\"):\n",
      "“installation of package ‘xfun’ had non-zero exit status”\n",
      "Warning message in install.packages(\"Hmisc\"):\n",
      "“installation of package ‘yaml’ had non-zero exit status”\n",
      "Warning message in install.packages(\"Hmisc\"):\n",
      "“installation of package ‘data.table’ had non-zero exit status”\n",
      "Warning message in install.packages(\"Hmisc\"):\n",
      "“installation of package ‘colorspace’ had non-zero exit status”\n",
      "Warning message in install.packages(\"Hmisc\"):\n",
      "“installation of package ‘munsell’ had non-zero exit status”\n",
      "Warning message in install.packages(\"Hmisc\"):\n",
      "“installation of package ‘htmltools’ had non-zero exit status”\n",
      "Warning message in install.packages(\"Hmisc\"):\n",
      "“installation of package ‘cachem’ had non-zero exit status”\n",
      "Warning message in install.packages(\"Hmisc\"):\n",
      "“installation of package ‘tibble’ had non-zero exit status”\n",
      "Warning message in install.packages(\"Hmisc\"):\n",
      "“installation of package ‘stringr’ had non-zero exit status”\n",
      "Warning message in install.packages(\"Hmisc\"):\n",
      "“installation of package ‘checkmate’ had non-zero exit status”\n",
      "Warning message in install.packages(\"Hmisc\"):\n",
      "“installation of package ‘tinytex’ had non-zero exit status”\n",
      "Warning message in install.packages(\"Hmisc\"):\n",
      "“installation of package ‘highr’ had non-zero exit status”\n",
      "Warning message in install.packages(\"Hmisc\"):\n",
      "“installation of package ‘memoise’ had non-zero exit status”\n",
      "Warning message in install.packages(\"Hmisc\"):\n",
      "“installation of package ‘sass’ had non-zero exit status”\n",
      "Warning message in install.packages(\"Hmisc\"):\n",
      "“installation of package ‘scales’ had non-zero exit status”\n",
      "Warning message in install.packages(\"Hmisc\"):\n",
      "“installation of package ‘knitr’ had non-zero exit status”\n",
      "Warning message in install.packages(\"Hmisc\"):\n",
      "“installation of package ‘bslib’ had non-zero exit status”\n",
      "Warning message in install.packages(\"Hmisc\"):\n",
      "“installation of package ‘ggplot2’ had non-zero exit status”\n",
      "Warning message in install.packages(\"Hmisc\"):\n",
      "“installation of package ‘viridis’ had non-zero exit status”\n",
      "Warning message in install.packages(\"Hmisc\"):\n",
      "“installation of package ‘rmarkdown’ had non-zero exit status”\n",
      "Warning message in install.packages(\"Hmisc\"):\n",
      "“installation of package ‘htmlwidgets’ had non-zero exit status”\n",
      "Warning message in install.packages(\"Hmisc\"):\n",
      "“installation of package ‘htmlTable’ had non-zero exit status”\n",
      "Warning message in install.packages(\"Hmisc\"):\n",
      "“installation of package ‘Hmisc’ had non-zero exit status”\n",
      "Updating HTML index of packages in '.Library'\n",
      "\n",
      "Making 'packages.html' ...\n",
      " done\n",
      "\n"
     ]
    }
   ],
   "source": [
    "# Installing packages\n",
    "install.packages(\"grf\")\n",
    "install.packages(\"Hmisc\")\n",
    "install.packages(\"evaluate\")"
   ]
  },
  {
   "cell_type": "code",
   "execution_count": 14,
   "metadata": {
    "vscode": {
     "languageId": "r"
    }
   },
   "outputs": [
    {
     "ename": "ERROR",
     "evalue": "Error in library(grf): there is no package called ‘grf’\n",
     "output_type": "error",
     "traceback": [
      "Error in library(grf): there is no package called ‘grf’\nTraceback:\n",
      "1. library(grf)"
     ]
    }
   ],
   "source": [
    "# Libraries\n",
    "library(grf)\n",
    "library(sandwich)\n",
    "library(lmtest)\n",
    "library(Hmisc)\n",
    "library(ggplot2)"
   ]
  },
  {
   "cell_type": "markdown",
   "metadata": {},
   "source": [
    "### 1. Preprocessing"
   ]
  },
  {
   "cell_type": "code",
   "execution_count": 15,
   "metadata": {
    "vscode": {
     "languageId": "r"
    }
   },
   "outputs": [],
   "source": [
    "# Import synthetic data from data folder\n",
    "data.all = read.csv(\"../../data/synthetic_data.csv\")\n",
    "\n",
    "data.all$schoolid = factor(data.all$schoolid)"
   ]
  },
  {
   "cell_type": "code",
   "execution_count": 19,
   "metadata": {
    "vscode": {
     "languageId": "r"
    }
   },
   "outputs": [],
   "source": [
    "DF = data.all[,-1]"
   ]
  },
  {
   "cell_type": "code",
   "execution_count": 20,
   "metadata": {
    "vscode": {
     "languageId": "r"
    }
   },
   "outputs": [],
   "source": [
    "school.id = as.numeric(data.all$schoolid)\n",
    "\n",
    "school.mat = model.matrix(~ schoolid + 0, data = data.all)\n",
    "school.size = colSums(school.mat)"
   ]
  },
  {
   "cell_type": "code",
   "execution_count": 8,
   "metadata": {
    "vscode": {
     "languageId": "r"
    }
   },
   "outputs": [
    {
     "data": {
      "text/plain": [
       "\n",
       "Call:\n",
       "glm(formula = Z ~ ., family = binomial, data = data.all[, -3])\n",
       "\n",
       "Deviance Residuals: \n",
       "    Min       1Q   Median       3Q      Max  \n",
       "-1.2079  -0.9088  -0.8297   1.4176   1.9556  \n",
       "\n",
       "Coefficients: (6 not defined because of singularities)\n",
       "              Estimate Std. Error z value Pr(>|z|)    \n",
       "(Intercept) -0.9524636  0.2845173  -3.348 0.000815 ***\n",
       "schoolid2    0.0697302  0.2766287   0.252 0.800986    \n",
       "schoolid3    0.0382080  0.2911323   0.131 0.895586    \n",
       "schoolid4    0.1761334  0.2784711   0.633 0.527059    \n",
       "schoolid5   -0.0033389  0.2950180  -0.011 0.990970    \n",
       "schoolid6    0.0583548  0.3067481   0.190 0.849124    \n",
       "schoolid7   -0.1313759  0.3188190  -0.412 0.680288    \n",
       "schoolid8    0.1233661  0.3023736   0.408 0.683279    \n",
       "schoolid9   -0.1955428  0.3073344  -0.636 0.524611    \n",
       "schoolid10  -0.1892794  0.2968750  -0.638 0.523752    \n",
       "schoolid11  -0.2224060  0.5461005  -0.407 0.683816    \n",
       "schoolid12  -0.3312420  0.5414374  -0.612 0.540682    \n",
       "schoolid13  -0.0408540  0.3989507  -0.102 0.918436    \n",
       "schoolid14  -0.8681934  0.6033674  -1.439 0.150175    \n",
       "schoolid15  -0.1059135  0.3263162  -0.325 0.745504    \n",
       "schoolid16  -0.1063268  0.2885387  -0.369 0.712500    \n",
       "schoolid17   0.0854323  0.3119435   0.274 0.784184    \n",
       "schoolid18  -0.1924441  0.2997822  -0.642 0.520908    \n",
       "schoolid19  -0.0265326  0.3229712  -0.082 0.934526    \n",
       "schoolid20  -0.2179554  0.3041336  -0.717 0.473594    \n",
       "schoolid21  -0.2147440  0.2982822  -0.720 0.471565    \n",
       "schoolid22  -0.5115966  0.4410779  -1.160 0.246098    \n",
       "schoolid23   0.0039231  0.3475373   0.011 0.990994    \n",
       "schoolid24  -0.0848314  0.3259572  -0.260 0.794668    \n",
       "schoolid25   0.0521087  0.2754586   0.189 0.849959    \n",
       "schoolid26   0.0241212  0.2876511   0.084 0.933171    \n",
       "schoolid27  -0.2300630  0.3104796  -0.741 0.458698    \n",
       "schoolid28  -0.3519010  0.2924774  -1.203 0.228909    \n",
       "schoolid29  -0.2198764  0.3293288  -0.668 0.504357    \n",
       "schoolid30  -0.3146292  0.3257994  -0.966 0.334187    \n",
       "schoolid31   0.1398555  0.6137901   0.228 0.819759    \n",
       "schoolid32   0.1555524  0.3916156   0.397 0.691215    \n",
       "schoolid33  -0.0991693  0.3939370  -0.252 0.801243    \n",
       "schoolid34  -0.0073688  0.2980808  -0.025 0.980278    \n",
       "schoolid35  -0.3528987  0.3997273  -0.883 0.377318    \n",
       "schoolid36  -0.3751465  0.3988972  -0.940 0.346982    \n",
       "schoolid37  -0.0343169  0.3219646  -0.107 0.915117    \n",
       "schoolid38  -0.1346432  0.3851869  -0.350 0.726674    \n",
       "schoolid39  -0.4339936  0.3612869  -1.201 0.229657    \n",
       "schoolid40  -0.3993958  0.3834495  -1.042 0.297604    \n",
       "schoolid41  -0.1490784  0.3542105  -0.421 0.673846    \n",
       "schoolid42  -0.1545715  0.3551857  -0.435 0.663428    \n",
       "schoolid43  -0.5679567  0.4277455  -1.328 0.184247    \n",
       "schoolid44  -0.1425896  0.3774795  -0.378 0.705623    \n",
       "schoolid45  -0.1337888  0.3232493  -0.414 0.678957    \n",
       "schoolid46  -0.2573249  0.3129119  -0.822 0.410874    \n",
       "schoolid47   0.0027726  0.2770108   0.010 0.992014    \n",
       "schoolid48  -0.3406079  0.3470361  -0.981 0.326358    \n",
       "schoolid49  -0.3236117  0.3434541  -0.942 0.346077    \n",
       "schoolid50  -0.1185119  0.4086074  -0.290 0.771787    \n",
       "schoolid51   0.4087898  0.4506822   0.907 0.364382    \n",
       "schoolid52  -0.3144014  0.4118342  -0.763 0.445214    \n",
       "schoolid53  -0.2733677  0.4511280  -0.606 0.544538    \n",
       "schoolid54  -0.0889588  0.3872532  -0.230 0.818311    \n",
       "schoolid55  -0.1558106  0.4155020  -0.375 0.707665    \n",
       "schoolid56   0.1050353  0.3149235   0.334 0.738737    \n",
       "schoolid57  -0.0314901  0.2901719  -0.109 0.913581    \n",
       "schoolid58  -0.0383183  0.2730077  -0.140 0.888379    \n",
       "schoolid59  -0.0529637  0.2934895  -0.180 0.856790    \n",
       "schoolid60  -0.1624792  0.3972885  -0.409 0.682561    \n",
       "schoolid61  -0.0289549  0.3201953  -0.090 0.927946    \n",
       "schoolid62   0.0993158  0.2669678   0.372 0.709882    \n",
       "schoolid63   0.1684702  0.3282167   0.513 0.607749    \n",
       "schoolid64  -0.0693060  0.2770896  -0.250 0.802493    \n",
       "schoolid65  -0.0004197  0.4072922  -0.001 0.999178    \n",
       "schoolid66  -0.2130911  0.2984091  -0.714 0.475171    \n",
       "schoolid67   0.0358440  0.2921158   0.123 0.902341    \n",
       "schoolid68  -0.0871303  0.3290814  -0.265 0.791188    \n",
       "schoolid69  -0.2550387  0.2908992  -0.877 0.380636    \n",
       "schoolid70  -0.0268947  0.4032160  -0.067 0.946820    \n",
       "schoolid71   0.0037464  0.4268290   0.009 0.992997    \n",
       "schoolid72  -0.1304085  0.2881512  -0.453 0.650859    \n",
       "schoolid73  -0.2160697  0.2840030  -0.761 0.446776    \n",
       "schoolid74  -0.0935320  0.2842612  -0.329 0.742129    \n",
       "schoolid75  -0.1056241  0.3024204  -0.349 0.726892    \n",
       "schoolid76  -0.1052261  0.2939262  -0.358 0.720342    \n",
       "S3           0.1036077  0.0197345   5.250 1.52e-07 ***\n",
       "C1          -0.0015919  0.0053900  -0.295 0.767728    \n",
       "C2          -0.1038596  0.0424020  -2.449 0.014309 *  \n",
       "C3          -0.1319218  0.0461833  -2.856 0.004284 ** \n",
       "XC                  NA         NA      NA       NA    \n",
       "X1                  NA         NA      NA       NA    \n",
       "X2                  NA         NA      NA       NA    \n",
       "X3                  NA         NA      NA       NA    \n",
       "X4                  NA         NA      NA       NA    \n",
       "X5                  NA         NA      NA       NA    \n",
       "---\n",
       "Signif. codes:  0 ‘***’ 0.001 ‘**’ 0.01 ‘*’ 0.05 ‘.’ 0.1 ‘ ’ 1\n",
       "\n",
       "(Dispersion parameter for binomial family taken to be 1)\n",
       "\n",
       "    Null deviance: 13115  on 10390  degrees of freedom\n",
       "Residual deviance: 13009  on 10311  degrees of freedom\n",
       "AIC: 13169\n",
       "\n",
       "Number of Fisher Scoring iterations: 4\n"
      ]
     },
     "metadata": {},
     "output_type": "display_data"
    }
   ],
   "source": [
    "# It appears that school ID does not affect pscore. So ignore it\n",
    "# in modeling, and just treat it as source of per-cluster error.\n",
    "w.lm = glm(Z ~ ., data = data.all[,-3], family = binomial)\n",
    "summary(w.lm)\n",
    "\n",
    "W = DF$Z\n",
    "Y = DF$Y\n",
    "X.raw = DF[,-(1:2)]\n",
    "\n",
    "C1.exp = model.matrix(~ factor(X.raw$C1) + 0)\n",
    "XC.exp = model.matrix(~ factor(X.raw$XC) + 0)\n",
    "\n",
    "X = cbind(X.raw[,-which(names(X.raw) %in% c(\"C1\", \"XC\"))], C1.exp, XC.exp)"
   ]
  },
  {
   "cell_type": "markdown",
   "metadata": {},
   "source": [
    "### 2. Causal Forest estimation and results"
   ]
  },
  {
   "cell_type": "markdown",
   "metadata": {},
   "source": [
    "#### 2.1. Causal Forest"
   ]
  },
  {
   "cell_type": "code",
   "execution_count": 9,
   "metadata": {
    "vscode": {
     "languageId": "r"
    }
   },
   "outputs": [
    {
     "ename": "ERROR",
     "evalue": "Error in regression_forest(X, Y, clusters = school.id, equalize.cluster.weights = TRUE): could not find function \"regression_forest\"\n",
     "output_type": "error",
     "traceback": [
      "Error in regression_forest(X, Y, clusters = school.id, equalize.cluster.weights = TRUE): could not find function \"regression_forest\"\nTraceback:\n"
     ]
    }
   ],
   "source": [
    "#\n",
    "# Grow a forest. Add extra trees for the causal forest.\n",
    "#\n",
    "\n",
    "Y.forest = regression_forest(X, Y, clusters = school.id, equalize.cluster.weights = TRUE)\n",
    "Y.hat = predict(Y.forest)$predictions\n",
    "W.forest = regression_forest(X, W, clusters = school.id, equalize.cluster.weights = TRUE)\n",
    "W.hat = predict(W.forest)$predictions\n",
    "\n",
    "cf.raw = causal_forest(X, Y, W,\n",
    "                       Y.hat = Y.hat, W.hat = W.hat,\n",
    "                       clusters = school.id,\n",
    "                       equalize.cluster.weights = TRUE)\n",
    "varimp = variable_importance(cf.raw)\n",
    "selected.idx = which(varimp > mean(varimp))\n",
    "\n",
    "cf = causal_forest(X[,selected.idx], Y, W,\n",
    "                   Y.hat = Y.hat, W.hat = W.hat,\n",
    "                   clusters = school.id,\n",
    "                   equalize.cluster.weights = TRUE,\n",
    "                   tune.parameters = \"all\")\n",
    "\n",
    "tau.hat = predict(cf)$predictions"
   ]
  }
 ],
 "metadata": {
  "kernelspec": {
   "display_name": "R",
   "language": "R",
   "name": "ir"
  },
  "language_info": {
   "codemirror_mode": "r",
   "file_extension": ".r",
   "mimetype": "text/x-r-source",
   "name": "R",
   "pygments_lexer": "r",
   "version": "4.1.2"
  }
 },
 "nbformat": 4,
 "nbformat_minor": 2
}
