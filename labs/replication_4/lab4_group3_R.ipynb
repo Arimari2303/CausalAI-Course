{
 "cells": [
  {
   "cell_type": "markdown",
   "metadata": {},
   "source": [
    "# Workgroup 4\n",
    "\n",
    "Authors: Valerie Dube, Erzo Garay, Juan Marcos Guerrero y Matias Villalba"
   ]
  },
  {
   "cell_type": "markdown",
   "metadata": {},
   "source": [
    "## Bootstraping"
   ]
  },
  {
   "cell_type": "code",
   "execution_count": null,
   "metadata": {
    "vscode": {
     "languageId": "r"
    }
   },
   "outputs": [],
   "source": []
  },
  {
   "cell_type": "markdown",
   "metadata": {},
   "source": [
    "## Causal Forest"
   ]
  },
  {
   "cell_type": "code",
   "execution_count": 1,
   "metadata": {
    "vscode": {
     "languageId": "r"
    }
   },
   "outputs": [
    {
     "ename": "ERROR",
     "evalue": "Error in library(tidyverse): there is no package called 'tidyverse'\n",
     "output_type": "error",
     "traceback": [
      "Error in library(tidyverse): there is no package called 'tidyverse'\nTraceback:\n",
      "1. library(tidyverse)"
     ]
    }
   ],
   "source": [
    "# Libraries\n",
    "library(grf)\n",
    "library(sandwich)\n",
    "library(lmtest)\n",
    "library(Hmisc)\n",
    "library(ggplot2)"
   ]
  },
  {
   "cell_type": "markdown",
   "metadata": {},
   "source": [
    "### 1. Preprocessing"
   ]
  },
  {
   "cell_type": "code",
   "execution_count": 102,
   "metadata": {
    "vscode": {
     "languageId": "r"
    }
   },
   "outputs": [],
   "source": [
    "# Import synthetic data from data folder\n",
    "df <- read_csv(\"../../data/synthetic_data.csv\")\n"
   ]
  },
  {
   "cell_type": "code",
   "execution_count": 103,
   "metadata": {
    "vscode": {
     "languageId": "r"
    }
   },
   "outputs": [
    {
     "data": {
      "text/html": [
       "<div>\n",
       "<style scoped>\n",
       "    .dataframe tbody tr th:only-of-type {\n",
       "        vertical-align: middle;\n",
       "    }\n",
       "\n",
       "    .dataframe tbody tr th {\n",
       "        vertical-align: top;\n",
       "    }\n",
       "\n",
       "    .dataframe thead th {\n",
       "        text-align: right;\n",
       "    }\n",
       "</style>\n",
       "<table border=\"1\" class=\"dataframe\">\n",
       "  <thead>\n",
       "    <tr style=\"text-align: right;\">\n",
       "      <th></th>\n",
       "      <th>schoolid</th>\n",
       "      <th>Z</th>\n",
       "      <th>Y</th>\n",
       "      <th>S3</th>\n",
       "      <th>C1</th>\n",
       "      <th>C2</th>\n",
       "      <th>C3</th>\n",
       "      <th>XC</th>\n",
       "      <th>X1</th>\n",
       "      <th>X2</th>\n",
       "      <th>X3</th>\n",
       "      <th>X4</th>\n",
       "      <th>X5</th>\n",
       "    </tr>\n",
       "  </thead>\n",
       "  <tbody>\n",
       "    <tr>\n",
       "      <th>0</th>\n",
       "      <td>76</td>\n",
       "      <td>1</td>\n",
       "      <td>0.081602</td>\n",
       "      <td>6</td>\n",
       "      <td>4</td>\n",
       "      <td>2</td>\n",
       "      <td>1</td>\n",
       "      <td>4</td>\n",
       "      <td>0.334544</td>\n",
       "      <td>0.648586</td>\n",
       "      <td>-1.310927</td>\n",
       "      <td>0.224077</td>\n",
       "      <td>-0.426757</td>\n",
       "    </tr>\n",
       "    <tr>\n",
       "      <th>1</th>\n",
       "      <td>76</td>\n",
       "      <td>1</td>\n",
       "      <td>-0.385869</td>\n",
       "      <td>4</td>\n",
       "      <td>12</td>\n",
       "      <td>2</td>\n",
       "      <td>1</td>\n",
       "      <td>4</td>\n",
       "      <td>0.334544</td>\n",
       "      <td>0.648586</td>\n",
       "      <td>-1.310927</td>\n",
       "      <td>0.224077</td>\n",
       "      <td>-0.426757</td>\n",
       "    </tr>\n",
       "    <tr>\n",
       "      <th>2</th>\n",
       "      <td>76</td>\n",
       "      <td>1</td>\n",
       "      <td>0.398184</td>\n",
       "      <td>6</td>\n",
       "      <td>4</td>\n",
       "      <td>2</td>\n",
       "      <td>0</td>\n",
       "      <td>4</td>\n",
       "      <td>0.334544</td>\n",
       "      <td>0.648586</td>\n",
       "      <td>-1.310927</td>\n",
       "      <td>0.224077</td>\n",
       "      <td>-0.426757</td>\n",
       "    </tr>\n",
       "    <tr>\n",
       "      <th>3</th>\n",
       "      <td>76</td>\n",
       "      <td>1</td>\n",
       "      <td>-0.175037</td>\n",
       "      <td>6</td>\n",
       "      <td>4</td>\n",
       "      <td>2</td>\n",
       "      <td>0</td>\n",
       "      <td>4</td>\n",
       "      <td>0.334544</td>\n",
       "      <td>0.648586</td>\n",
       "      <td>-1.310927</td>\n",
       "      <td>0.224077</td>\n",
       "      <td>-0.426757</td>\n",
       "    </tr>\n",
       "    <tr>\n",
       "      <th>4</th>\n",
       "      <td>76</td>\n",
       "      <td>1</td>\n",
       "      <td>0.884583</td>\n",
       "      <td>6</td>\n",
       "      <td>4</td>\n",
       "      <td>1</td>\n",
       "      <td>0</td>\n",
       "      <td>4</td>\n",
       "      <td>0.334544</td>\n",
       "      <td>0.648586</td>\n",
       "      <td>-1.310927</td>\n",
       "      <td>0.224077</td>\n",
       "      <td>-0.426757</td>\n",
       "    </tr>\n",
       "  </tbody>\n",
       "</table>\n",
       "</div>"
      ],
      "text/plain": [
       "   schoolid  Z         Y  S3  C1  C2  C3  XC        X1        X2        X3  \\\n",
       "0        76  1  0.081602   6   4   2   1   4  0.334544  0.648586 -1.310927   \n",
       "1        76  1 -0.385869   4  12   2   1   4  0.334544  0.648586 -1.310927   \n",
       "2        76  1  0.398184   6   4   2   0   4  0.334544  0.648586 -1.310927   \n",
       "3        76  1 -0.175037   6   4   2   0   4  0.334544  0.648586 -1.310927   \n",
       "4        76  1  0.884583   6   4   1   0   4  0.334544  0.648586 -1.310927   \n",
       "\n",
       "         X4        X5  \n",
       "0  0.224077 -0.426757  \n",
       "1  0.224077 -0.426757  \n",
       "2  0.224077 -0.426757  \n",
       "3  0.224077 -0.426757  \n",
       "4  0.224077 -0.426757  "
      ]
     },
     "execution_count": 103,
     "metadata": {},
     "output_type": "execute_result"
    }
   ],
   "source": [
    "df.head()"
   ]
  },
  {
   "cell_type": "code",
   "execution_count": 104,
   "metadata": {
    "vscode": {
     "languageId": "r"
    }
   },
   "outputs": [
    {
     "name": "stdout",
     "output_type": "stream",
     "text": [
      "<class 'pandas.core.frame.DataFrame'>\n",
      "RangeIndex: 10391 entries, 0 to 10390\n",
      "Data columns (total 13 columns):\n",
      " #   Column    Non-Null Count  Dtype  \n",
      "---  ------    --------------  -----  \n",
      " 0   schoolid  10391 non-null  int64  \n",
      " 1   Z         10391 non-null  int64  \n",
      " 2   Y         10391 non-null  float64\n",
      " 3   S3        10391 non-null  int64  \n",
      " 4   C1        10391 non-null  int64  \n",
      " 5   C2        10391 non-null  int64  \n",
      " 6   C3        10391 non-null  int64  \n",
      " 7   XC        10391 non-null  int64  \n",
      " 8   X1        10391 non-null  float64\n",
      " 9   X2        10391 non-null  float64\n",
      " 10  X3        10391 non-null  float64\n",
      " 11  X4        10391 non-null  float64\n",
      " 12  X5        10391 non-null  float64\n",
      "dtypes: float64(6), int64(7)\n",
      "memory usage: 1.0 MB\n"
     ]
    }
   ],
   "source": [
    "head(df)"
   ]
  },
  {
   "cell_type": "code",
   "execution_count": 105,
   "metadata": {
    "vscode": {
     "languageId": "r"
    }
   },
   "outputs": [],
   "source": [
    "# Save school clusters in variable\n",
    "df$school_id <- as.factor(df$schoolid)"
   ]
  },
  {
   "cell_type": "code",
   "execution_count": 106,
   "metadata": {
    "vscode": {
     "languageId": "r"
    }
   },
   "outputs": [
    {
     "name": "stdout",
     "output_type": "stream",
     "text": [
      "                 Generalized Linear Model Regression Results                  \n",
      "==============================================================================\n",
      "Dep. Variable:                      Z   No. Observations:                10391\n",
      "Model:                            GLM   Df Residuals:                    10379\n",
      "Model Family:                Binomial   Df Model:                           11\n",
      "Link Function:                  Logit   Scale:                          1.0000\n",
      "Method:                          IRLS   Log-Likelihood:                -6519.5\n",
      "Date:                Tue, 04 Jun 2024   Deviance:                       13039.\n",
      "Time:                        19:06:52   Pearson chi2:                 1.04e+04\n",
      "No. Iterations:                     4   Pseudo R-squ. (CS):           0.007280\n",
      "Covariance Type:            nonrobust                                         \n",
      "==============================================================================\n",
      "                 coef    std err          z      P>|z|      [0.025      0.975]\n",
      "------------------------------------------------------------------------------\n",
      "Intercept     -1.0758      0.146     -7.348      0.000      -1.363      -0.789\n",
      "schoolid      -0.0005      0.001     -0.574      0.566      -0.002       0.001\n",
      "S3             0.1022      0.020      5.233      0.000       0.064       0.141\n",
      "C1            -0.0023      0.005     -0.431      0.666      -0.013       0.008\n",
      "C2            -0.0974      0.042     -2.313      0.021      -0.180      -0.015\n",
      "C3            -0.1378      0.045     -3.050      0.002      -0.226      -0.049\n",
      "XC             0.0277      0.018      1.568      0.117      -0.007       0.062\n",
      "X1            -0.0881      0.028     -3.103      0.002      -0.144      -0.032\n",
      "X2            -0.0004      0.033     -0.011      0.991      -0.066       0.065\n",
      "X3             0.0337      0.029      1.179      0.239      -0.022       0.090\n",
      "X4            -0.0201      0.027     -0.738      0.460      -0.074       0.033\n",
      "X5             0.0082      0.027      0.303      0.762      -0.045       0.062\n",
      "==============================================================================\n"
     ]
    }
   ],
   "source": [
    "# Fit treatment (w) OLS\n",
    "formula <- as.formula(paste(\"Z ~ \", paste(setdiff(names(df), c(\"Z\", \"Y\")), collapse = \" + \")))\n",
    "w_lm <- glm(formula, data = df, family = binomial())\n",
    "\n",
    "# Print summary of the GLM model\n",
    "summary(w_lm)"
   ]
  },
  {
   "cell_type": "markdown",
   "metadata": {},
   "source": [
    "In the previous OLS, we can observe that only the ctudent’s self-reported expectations for success (S3), student gender (C2), student first-generation status (C3), and school-level mean of students’ fixed mindsets (X1) variables are significat"
   ]
  },
  {
   "cell_type": "code",
   "execution_count": 107,
   "metadata": {
    "vscode": {
     "languageId": "r"
    }
   },
   "outputs": [],
   "source": [
    "# Define W, Y, and X_raw\n",
    "W <- df$Z\n",
    "Y <- df$Y\n",
    "X_raw <- df %>% select(-schoolid, -Z, -Y)  # Drop school ID, Z (treatment), and Y (outcome)\n"
   ]
  },
  {
   "cell_type": "code",
   "execution_count": 108,
   "metadata": {
    "vscode": {
     "languageId": "r"
    }
   },
   "outputs": [],
   "source": [
    "# Create model matrices for categorical variables\n",
    "C1_exp <- model.matrix(~ C1 - 1, data = X_raw)\n",
    "XC_exp <- model.matrix(~ XC - 1, data = X_raw)"
   ]
  },
  {
   "cell_type": "code",
   "execution_count": 109,
   "metadata": {
    "vscode": {
     "languageId": "r"
    }
   },
   "outputs": [],
   "source": [
    "# Combine these matrices with the rest of the data\n",
    "X <- X_raw %>% select(-C1, -XC) %>% bind_cols(as.data.frame(C1_exp), as.data.frame(XC_exp))"
   ]
  },
  {
   "cell_type": "markdown",
   "metadata": {},
   "source": [
    "### 2. Estimation"
   ]
  },
  {
   "cell_type": "markdown",
   "metadata": {},
   "source": [
    "#### 2.1. Cluster-Robust Random Forests"
   ]
  },
  {
   "cell_type": "markdown",
   "metadata": {},
   "source": [
    "In this section, we grow a forest. We add extra trees for the causal forest.\n",
    "\n",
    "First, we train a regression forest that can be used to estimate the conditional mean function mu(x) = E[Y | X = x]"
   ]
  },
  {
   "cell_type": "code",
   "execution_count": 110,
   "metadata": {
    "vscode": {
     "languageId": "r"
    }
   },
   "outputs": [],
   "source": [
    "Y_forest <- regression_forest(X, Y, clusters = df$school_id, num.trees = 1000)\n",
    "\n",
    "Y_hat <- predict(Y_forest)$predictions\n",
    "\n",
    "W_forest <- regression_forest(X, W, clusters = df$school_id, num.trees = 1000)\n",
    "\n",
    "\n",
    "W_hat <- predict(W_forest)$predictions"
   ]
  },
  {
   "cell_type": "markdown",
   "metadata": {},
   "source": [
    "#### 2.2. Causal Forests for Observational Studies"
   ]
  },
  {
   "cell_type": "code",
   "execution_count": 2,
   "metadata": {
    "vscode": {
     "languageId": "r"
    }
   },
   "outputs": [
    {
     "ename": "ERROR",
     "evalue": "Error in causal_forest(X, Y, W, Y_hat = Y_hat, W_hat = W_hat, clusters = school_id, : could not find function \"causal_forest\"\n",
     "output_type": "error",
     "traceback": [
      "Error in causal_forest(X, Y, W, Y_hat = Y_hat, W_hat = W_hat, clusters = school_id, : could not find function \"causal_forest\"\nTraceback:\n"
     ]
    }
   ],
   "source": [
    "# Train the causal forest\n",
    "cf_raw <- causal_forest(X, Y, W, Y_hat = Y_hat, W_hat = W_hat, clusters = school_id, equalize.cluster.weights = TRUE)\n",
    "\n",
    "# Variable importance and feature selection\n",
    "varimp <- variable_importance(cf_raw)\n",
    "selected_idx <- which(varimp > mean(varimp))\n",
    "\n",
    "\n",
    "# Retrain the causal forest with selected features\n",
    "cf <- causal_forest(X[,selected_idx], Y, W, Y_hat = Y_hat, W_hat = W_hat, clusters = school_id, equalize.cluster.weights = TRUE, tune.parameters = \"all\")\n",
    "tau_hat <- predict(cf)$predictions"
   ]
  },
  {
   "cell_type": "code",
   "execution_count": null,
   "metadata": {
    "vscode": {
     "languageId": "r"
    }
   },
   "outputs": [],
   "source": [
    "    "
   ]
  },
  {
   "cell_type": "markdown",
   "metadata": {},
   "source": [
    "**Q1: How the tree was built?**\n",
    "\n",
    "Answer: ..."
   ]
  },
  {
   "cell_type": "markdown",
   "metadata": {},
   "source": [
    "**Q2: Estimate the ATE**\n",
    "\n",
    "Answer: ..."
   ]
  },
  {
   "cell_type": "code",
   "execution_count": null,
   "metadata": {
    "vscode": {
     "languageId": "r"
    }
   },
   "outputs": [],
   "source": [
    "ATE <- average_treatment_effect(cf)\n",
    "paste(\"95% CI for the ATE:\", round(ATE[1], 3), \"+/-\", round(qnorm(0.975) * ATE[2], 3))"
   ]
  },
  {
   "cell_type": "markdown",
   "metadata": {},
   "source": [
    "**Q3: Run best linear predictor analysis**\n",
    "\n",
    "Answer: ..."
   ]
  },
  {
   "cell_type": "code",
   "execution_count": null,
   "metadata": {
    "vscode": {
     "languageId": "r"
    }
   },
   "outputs": [],
   "source": [
    "test_calibration(cf)"
   ]
  },
  {
   "cell_type": "markdown",
   "metadata": {},
   "source": [
    "**Q4\n",
    ": Look at school-wise heterogeneity**\n",
    "\n",
    "Answer: ..."
   ]
  },
  {
   "cell_type": "code",
   "execution_count": null,
   "metadata": {
    "vscode": {
     "languageId": "r"
    }
   },
   "outputs": [],
   "source": [
    "# Calculate the doubly robust (DR) score for each school\n",
    "dr_score <- tau_hat + W / cf$W_hat * (Y - cf$Y_hat - (1 - cf$W_hat) * tau_hat) -\n",
    "  (1 - W) / (1 - cf$W_hat) * (Y - cf$Y_hat + cf$W_hat * tau_hat)\n",
    "school_score <- t(school.mat) %*% dr_score / school.size\n",
    "# Plot histogram of school treatment effect estimates\n",
    "pdf(\"school_hist.pdf\")\n",
    "par(mar = c(5, 4, 4, 2) + 0.5, cex.lab = 1.5, cex.axis = 1.5, cex.main = 1.5, cex.sub = 1.5)\n",
    "hist(school_score, xlab = \"School Treatment Effect Estimate\", main = \"\")\n",
    "dev.off()"
   ]
  },
  {
   "cell_type": "markdown",
   "metadata": {},
   "source": [
    "**Q5: Analysis Ignoring Clusters**\n",
    "\n",
    "Answer: ..."
   ]
  },
  {
   "cell_type": "code",
   "execution_count": null,
   "metadata": {
    "vscode": {
     "languageId": "r"
    }
   },
   "outputs": [],
   "source": [
    "# Train causal forest ignoring clusters\n",
    "cf_noclust <- causal_forest(X[,selected_idx], Y, W, Y_hat = Y_hat, W_hat = W_hat, tune.parameters = \"all\")\n",
    "\n",
    "# Estimate ATE ignoring clusters\n",
    "ATE_noclust <- average_treatment_effect(cf_noclust)\n",
    "paste(\"95% CI for the ATE:\", round(ATE_noclust[1], 3), \"+/-\", round(qnorm(0.975) * ATE_noclust[2], 3))\n",
    "\n",
    "# Calibration test ignoring clusters\n",
    "test_calibration(cf_noclust)\n",
    "\n",
    "# Predict tau_hat ignoring clusters\n",
    "tau_hat_noclust <- predict(cf_noclust)$predictions\n",
    "\n",
    "# Plot school ID versus tau_hat ignoring clusters\n",
    "pdf(\"tau_hat_noclust_vs_school.pdf\")\n",
    "plot(school_id, tau_hat_noclust, xlab = \"School ID\", ylab = \"Estimated CATE (Ignoring Clusters)\")\n",
    "dev.off()\n",
    "\n"
   ]
  },
  {
   "cell_type": "code",
   "execution_count": null,
   "metadata": {
    "vscode": {
     "languageId": "r"
    }
   },
   "outputs": [],
   "source": [
    "# Cross-validation to assess the model without clusters\n",
    "nfold <- 5\n",
    "school_levels <- unique(school_id)\n",
    "cluster_folds <- sample.int(nfold, length(school_levels), replace = TRUE)\n",
    "\n",
    "tau_hat_crossfold <- rep(NA, length(Y))\n",
    "for (foldid in 1:nfold) {\n",
    "  infold <- school_id %in% school_levels[cluster_folds == foldid]\n",
    "  cf_fold <- causal_forest(X[!infold, selected_idx], Y[!infold], W[!infold], Y_hat = Y_hat[!infold], W_hat = W_hat[!infold], tune.parameters = \"all\")\n",
    "  pred_fold <- predict(cf_fold, X[infold, selected_idx])$predictions\n",
    "  tau_hat_crossfold[infold] <- pred_fold\n",
    "}\n",
    "\n",
    "cf_noclust_cpy <- cf_noclust\n",
    "cf_noclust_cpy$predictions <- tau_hat_crossfold\n",
    "cf_noclust_cpy$clusters <- school_id\n",
    "test_calibration(cf_noclust_cpy)\n",
    "\n",
    "# Calculate R-loss\n",
    "Rloss <- mean(((Y - Y_hat) - tau_hat * (W - W_hat))^2)\n",
    "Rloss_noclust <- mean(((Y - Y_hat) - tau_hat_noclust * (W - W_hat))^2)\n",
    "Rloss_crossfold <- mean(((Y - Y_hat) - tau_hat_crossfold * (W - W_hat))^2)\n",
    "\n",
    "c(Rloss_noclust - Rloss, Rloss_crossfold - Rloss)\n",
    "\n",
    "# ANOVA to compare DR scores across schools\n",
    "summary(aov(dr_score ~ factor(school_id)))\n"
   ]
  },
  {
   "cell_type": "markdown",
   "metadata": {},
   "source": [
    "**Q6: Analysis without fitting the propensity scores**\n",
    "\n",
    "Answer: ..."
   ]
  },
  {
   "cell_type": "code",
   "execution_count": null,
   "metadata": {
    "vscode": {
     "languageId": "r"
    }
   },
   "outputs": [],
   "source": [
    "# Train causal forest without fitting the propensity score\n",
    "cf_noprop <- causal_forest(X[,selected.idx], Y, W, Y_hat = Y_hat, W_hat = mean(W), tune.parameters = \"all\", equalize.cluster.weights = TRUE, clusters = school_id)\n",
    "tau_hat_noprop <- predict(cf_noprop)$predictions\n",
    "\n",
    "# Estimate ATE without fitting the propensity score\n",
    "ATE_noprop <- average_treatment_effect(cf_noprop)\n",
    "paste(\"95% CI for the ATE:\", round(ATE_noprop[1], 3), \"+/-\", round(qnorm(0.975) * ATE_noprop[2], 3))\n",
    "\n",
    "# Plot estimated CATE without fitting the propensity score\n",
    "pdf(\"tauhat_noprop.pdf\")\n",
    "par(mar = c(5, 4, 4, 2) + 0.5, cex.lab = 1.5, cex.axis = 1.5, cex.main = 1.5, cex.sub = 1.5)\n",
    "plot(tau_hat, tau_hat_noprop, xlim = range(tau_hat, tau_hat_noprop), ylim = range(tau_hat, tau_hat_noprop), xlab = \"Orthogonalized causal forest estimates\", ylab = \"Non-orthogonalized causal forest\")\n",
    "abline(0, 1, lwd = 2, lty = 2, col = 4)\n",
    "dev.off()"
   ]
  },
  {
   "cell_type": "markdown",
   "metadata": {},
   "source": [
    "**Q7: The code plot six plots in the Make some plots section, so explain what you find there**\n",
    "\n",
    "Answer: ..."
   ]
  },
  {
   "cell_type": "markdown",
   "metadata": {},
   "source": []
  },
  {
   "cell_type": "markdown",
   "metadata": {},
   "source": [
    "**Q8: Visualize school-level covariates by treatment heterogeneity**\n",
    "\n",
    "Answer: ..."
   ]
  },
  {
   "cell_type": "code",
   "execution_count": null,
   "metadata": {
    "vscode": {
     "languageId": "r"
    }
   },
   "outputs": [],
   "source": [
    "# Standardize school-level covariates\n",
    "school_X_std <- scale(school.X)\n",
    "\n",
    "# Create terciles based on the predicted school treatment effects\n",
    "school_tercile <- cut(school.pred, breaks = c(-Inf, quantile(school.pred, c(1/3, 2/3)), Inf))\n",
    "school_tercile_mat <- model.matrix(~ school_tercile + 0)\n",
    "\n",
    "# Calculate means for each school-level covariate within each tercile\n",
    "school_means <- diag(1 / colSums(school_tercile_mat)) %*% t(school_tercile_mat) %*% as.matrix(school_X_std)\n",
    "\n",
    "# Generate heatmap colors\n",
    "MM <- max(abs(school_means))\n",
    "HC <- heat.colors(21)\n",
    "school_col <- apply(school_means, 1:2, function(aa) HC[1 + round(20 * (0.5 + aa / MM))])\n",
    "\n",
    "# Create a data frame for plotting\n",
    "DF_plot <- data.frame(\n",
    "  tercile = rep(factor(1:3, labels = c(\"low\", \"mid\", \"high\")), ncol(school_X_std)),\n",
    "  mean = as.numeric(school_means),\n",
    "  feature = factor(rep(colnames(school_X_std), each = 3))\n",
    ")\n",
    "\n",
    "# Plot the heatmap using ggplot2\n",
    "ggplot(data = DF_plot, aes(x = feature, y = tercile, fill = mean)) +\n",
    "  geom_tile() +\n",
    "  scale_fill_gradient(low = \"white\", high = \"steelblue\") +\n",
    "  theme(\n",
    "    axis.text = element_text(size = 12),\n",
    "    axis.title = element_text(size = 14),\n",
    "    legend.title = element_text(size = 14),\n",
    "    legend.text = element_text(size = 12),\n",
    "    panel.background = element_blank()\n",
    "  )\n",
    "\n",
    "# Save the plot\n",
    "ggsave(\"tercile_plot.pdf\", width = 8, height = 4.5, dpi = 120)\n"
   ]
  },
  {
   "cell_type": "markdown",
   "metadata": {},
   "source": [
    "**Q9: CATE by school**\n",
    "\n",
    "Answer: ..."
   ]
  },
  {
   "cell_type": "code",
   "execution_count": null,
   "metadata": {
    "vscode": {
     "languageId": "r"
    }
   },
   "outputs": [],
   "source": [
    "# Load necessary libraries\n",
    "library(grf)\n",
    "library(sandwich)\n",
    "library(lmtest)\n",
    "library(Hmisc)\n",
    "library(ggplot2)\n",
    "\n",
    "# Set seed for reproducibility\n",
    "set.seed(1)\n",
    "\n",
    "# Load the synthetic data\n",
    "data_all <- read.csv(\"synthetic_data.csv\")\n",
    "data_all$schoolid <- factor(data_all$schoolid)\n",
    "\n",
    "# Preprocess data\n",
    "DF <- data_all[,-1]\n",
    "school_id <- as.numeric(data_all$schoolid)\n",
    "W <- DF$Z\n",
    "Y <- DF$Y\n",
    "X_raw <- DF[,-(1:2)]\n",
    "C1_exp <- model.matrix(~ factor(X_raw$C1) + 0)\n",
    "XC_exp <- model.matrix(~ factor(X_raw$XC) + 0)\n",
    "X <- cbind(X_raw[,-which(names(X_raw) %in% c(\"C1\", \"XC\"))], C1_exp, XC_exp)\n",
    "\n",
    "# Train regression forests for Y and W\n",
    "Y_forest <- regression_forest(X, Y, clusters = school_id, equalize.cluster.weights = TRUE)\n",
    "Y_hat <- predict(Y_forest)$predictions\n",
    "W_forest <- regression_forest(X, W, clusters = school_id, equalize.cluster.weights = TRUE)\n",
    "W_hat <- predict(W_forest)$predictions\n",
    "\n",
    "# Train causal forest with clustering\n",
    "cf <- causal_forest(X, Y, W, Y_hat = Y_hat, W_hat = W_hat, clusters = school_id, equalize.cluster.weights = TRUE)\n",
    "tau_hat <- predict(cf)$predictions\n",
    "\n",
    "# Analysis ignoring clusters\n",
    "cf_noclust <- causal_forest(X[,selected.idx], Y, W, Y_hat = Y_hat, W_hat = W_hat, tune.parameters = \"all\")\n",
    "tau_hat_noclust <- predict(cf_noclust)$predictions\n",
    "\n",
    "# Reorder schools based on predicted treatment effects\n",
    "ord <- order(order(school.pred))\n",
    "school.sort <- ord[school.id]\n",
    "\n",
    "# Plot boxplot of CATE by school\n",
    "pdf(\"school_boxplot.pdf\")\n",
    "par(mar = c(5, 4, 4, 2) + 0.5, cex.lab = 1.5, cex.axis = 1.5, cex.main = 1.5, cex.sub = 1.5)\n",
    "boxplot(tau_hat_noclust ~ school.sort, xaxt = \"n\", xlab = \"school\", ylab = \"estimated CATE\")\n",
    "points(1:76, sort(school.pred), col = 4, pch = 16)\n",
    "legend(\"topleft\", c(\"school mean CATE\", \"CATE w/o clustering\"), pch = c(16, 1), col = c(4, 1), cex = 1.5)\n",
    "dev.off()\n"
   ]
  }
 ],
 "metadata": {
  "kernelspec": {
   "display_name": "R",
   "language": "R",
   "name": "ir"
  },
  "language_info": {
   "codemirror_mode": "r",
   "file_extension": ".r",
   "mimetype": "text/x-r-source",
   "name": "R",
   "pygments_lexer": "r",
   "version": "3.6.1"
  }
 },
 "nbformat": 4,
 "nbformat_minor": 2
}
