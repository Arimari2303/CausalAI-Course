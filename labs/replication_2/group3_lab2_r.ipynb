{
 "cells": [
  {
   "cell_type": "markdown",
   "metadata": {},
   "source": [
    "Workgroup 2\n",
    "\n",
    "# Potential Outcomes and RCTs\n",
    "\n",
    "#### Group 3: Dube, V., Garay, E. Guerrero, J., Villalba, M."
   ]
  },
  {
   "cell_type": "markdown",
   "metadata": {},
   "source": [
    "## Multicolinearity"
   ]
  },
  {
   "cell_type": "markdown",
   "metadata": {},
   "source": [
    "What is Multicollinearity?"
   ]
  },
  {
   "cell_type": "code",
   "execution_count": null,
   "metadata": {
    "vscode": {
     "languageId": "r"
    }
   },
   "outputs": [],
   "source": [
    "# Example"
   ]
  },
  {
   "cell_type": "markdown",
   "metadata": {},
   "source": [
    "## Analyzing RCT data with precision adjustment"
   ]
  },
  {
   "cell_type": "code",
   "execution_count": null,
   "metadata": {
    "vscode": {
     "languageId": "r"
    }
   },
   "outputs": [],
   "source": []
  },
  {
   "cell_type": "markdown",
   "metadata": {},
   "source": [
    "## A crash course in good and bad controls (val)"
   ]
  },
  {
   "cell_type": "code",
   "execution_count": 2,
   "metadata": {
    "vscode": {
     "languageId": "r"
    }
   },
   "outputs": [
    {
     "name": "stderr",
     "output_type": "stream",
     "text": [
      "also installing the dependencies ‘BiocManager’, ‘remotes’\n",
      "\n",
      "Updating HTML index of packages in '.Library'\n",
      "Making 'packages.html' ... done\n"
     ]
    }
   ],
   "source": [
    "install.packages(\"librarian\", quiet = T)"
   ]
  },
  {
   "cell_type": "code",
   "execution_count": 3,
   "metadata": {
    "vscode": {
     "languageId": "r"
    }
   },
   "outputs": [
    {
     "name": "stderr",
     "output_type": "stream",
     "text": [
      "also installing the dependencies ‘colorspace’, ‘fastmap’, ‘curl’, ‘farver’, ‘labeling’, ‘munsell’, ‘RColorBrewer’, ‘viridisLite’, ‘tweenr’, ‘polyclip’, ‘systemfonts’, ‘RcppEigen’, ‘gridExtra’, ‘RcppArmadillo’, ‘cachem’, ‘V8’, ‘cli’, ‘generics’, ‘glue’, ‘lifecycle’, ‘R6’, ‘tidyselect’, ‘vctrs’, ‘gtable’, ‘isoband’, ‘scales’, ‘withr’, ‘ggforce’, ‘viridis’, ‘graphlayouts’, ‘memoise’, ‘cpp11’, ‘pkgconfig’, ‘fansi’, ‘utf8’, ‘stringi’, ‘tidyr’, ‘dagitty’, ‘dplyr’, ‘forcats’, ‘ggplot2’, ‘ggraph’, ‘ggrepel’, ‘igraph’, ‘magrittr’, ‘pillar’, ‘purrr’, ‘rlang’, ‘stringr’, ‘tibble’, ‘tidygraph’\n",
      "\n",
      "Warning message in install.packages(\"ggdag\"):\n",
      "“installation of package ‘colorspace’ had non-zero exit status”Warning message in install.packages(\"ggdag\"):\n",
      "“installation of package ‘fastmap’ had non-zero exit status”Warning message in install.packages(\"ggdag\"):\n",
      "“installation of package ‘curl’ had non-zero exit status”Warning message in install.packages(\"ggdag\"):\n",
      "“installation of package ‘farver’ had non-zero exit status”Warning message in install.packages(\"ggdag\"):\n",
      "“installation of package ‘polyclip’ had non-zero exit status”Warning message in install.packages(\"ggdag\"):\n",
      "“installation of package ‘RcppEigen’ had non-zero exit status”Warning message in install.packages(\"ggdag\"):\n",
      "“installation of package ‘RcppArmadillo’ had non-zero exit status”Warning message in install.packages(\"ggdag\"):\n",
      "“installation of package ‘cli’ had non-zero exit status”Warning message in install.packages(\"ggdag\"):\n",
      "“installation of package ‘glue’ had non-zero exit status”Warning message in install.packages(\"ggdag\"):\n",
      "“installation of package ‘isoband’ had non-zero exit status”Warning message in install.packages(\"ggdag\"):\n",
      "“installation of package ‘fansi’ had non-zero exit status”Warning message in install.packages(\"ggdag\"):\n",
      "“installation of package ‘utf8’ had non-zero exit status”Warning message in install.packages(\"ggdag\"):\n",
      "“installation of package ‘stringi’ had non-zero exit status”Warning message in install.packages(\"ggdag\"):\n",
      "“installation of package ‘magrittr’ had non-zero exit status”Warning message in install.packages(\"ggdag\"):\n",
      "“installation of package ‘rlang’ had non-zero exit status”Warning message in install.packages(\"ggdag\"):\n",
      "“installation of package ‘munsell’ had non-zero exit status”Warning message in install.packages(\"ggdag\"):\n",
      "“installation of package ‘systemfonts’ had non-zero exit status”Warning message in install.packages(\"ggdag\"):\n",
      "“installation of package ‘cachem’ had non-zero exit status”Warning message in install.packages(\"ggdag\"):\n",
      "“installation of package ‘V8’ had non-zero exit status”Warning message in install.packages(\"ggdag\"):\n",
      "“installation of package ‘lifecycle’ had non-zero exit status”Warning message in install.packages(\"ggdag\"):\n",
      "“installation of package ‘vctrs’ had non-zero exit status”Warning message in install.packages(\"ggdag\"):\n",
      "“installation of package ‘gtable’ had non-zero exit status”Warning message in install.packages(\"ggdag\"):\n",
      "“installation of package ‘scales’ had non-zero exit status”Warning message in install.packages(\"ggdag\"):\n",
      "“installation of package ‘memoise’ had non-zero exit status”Warning message in install.packages(\"ggdag\"):\n",
      "“installation of package ‘dagitty’ had non-zero exit status”Warning message in install.packages(\"ggdag\"):\n",
      "“installation of package ‘tweenr’ had non-zero exit status”Warning message in install.packages(\"ggdag\"):\n",
      "“installation of package ‘gridExtra’ had non-zero exit status”Warning message in install.packages(\"ggdag\"):\n",
      "“installation of package ‘tidyselect’ had non-zero exit status”Warning message in install.packages(\"ggdag\"):\n",
      "“installation of package ‘igraph’ had non-zero exit status”Warning message in install.packages(\"ggdag\"):\n",
      "“installation of package ‘pillar’ had non-zero exit status”Warning message in install.packages(\"ggdag\"):\n",
      "“installation of package ‘purrr’ had non-zero exit status”Warning message in install.packages(\"ggdag\"):\n",
      "“installation of package ‘stringr’ had non-zero exit status”Warning message in install.packages(\"ggdag\"):\n",
      "“installation of package ‘graphlayouts’ had non-zero exit status”Warning message in install.packages(\"ggdag\"):\n",
      "“installation of package ‘tibble’ had non-zero exit status”Warning message in install.packages(\"ggdag\"):\n",
      "“installation of package ‘dplyr’ had non-zero exit status”Warning message in install.packages(\"ggdag\"):\n",
      "“installation of package ‘forcats’ had non-zero exit status”Warning message in install.packages(\"ggdag\"):\n",
      "“installation of package ‘ggplot2’ had non-zero exit status”Warning message in install.packages(\"ggdag\"):\n",
      "“installation of package ‘ggforce’ had non-zero exit status”Warning message in install.packages(\"ggdag\"):\n",
      "“installation of package ‘viridis’ had non-zero exit status”Warning message in install.packages(\"ggdag\"):\n",
      "“installation of package ‘tidyr’ had non-zero exit status”Warning message in install.packages(\"ggdag\"):\n",
      "“installation of package ‘ggrepel’ had non-zero exit status”Warning message in install.packages(\"ggdag\"):\n",
      "“installation of package ‘tidygraph’ had non-zero exit status”Warning message in install.packages(\"ggdag\"):\n",
      "“installation of package ‘ggraph’ had non-zero exit status”Warning message in install.packages(\"ggdag\"):\n",
      "“installation of package ‘ggdag’ had non-zero exit status”Updating HTML index of packages in '.Library'\n",
      "Making 'packages.html' ... done\n"
     ]
    }
   ],
   "source": [
    "install.packages(\"ggdag\")"
   ]
  },
  {
   "cell_type": "code",
   "execution_count": 4,
   "metadata": {
    "vscode": {
     "languageId": "r"
    }
   },
   "outputs": [
    {
     "name": "stderr",
     "output_type": "stream",
     "text": [
      "\n",
      "  These packages will be installed:\n",
      "\n",
      "  'dagitty', 'tibble', 'stargazer', 'ggplot2', 'ggdag'\n",
      "\n",
      "  It may take some time.\n",
      "also installing the dependencies ‘fastmap’, ‘colorspace’, ‘tweenr’, ‘polyclip’, ‘systemfonts’, ‘RcppEigen’, ‘gridExtra’, ‘RcppArmadillo’, ‘cachem’, ‘curl’, ‘utf8’, ‘farver’, ‘munsell’, ‘tidyselect’, ‘ggforce’, ‘viridis’, ‘graphlayouts’, ‘memoise’, ‘stringi’, ‘tidyr’, ‘V8’, ‘fansi’, ‘lifecycle’, ‘magrittr’, ‘pillar’, ‘rlang’, ‘vctrs’, ‘cli’, ‘glue’, ‘gtable’, ‘isoband’, ‘scales’, ‘dplyr’, ‘forcats’, ‘ggraph’, ‘ggrepel’, ‘igraph’, ‘purrr’, ‘stringr’, ‘tidygraph’\n",
      "\n",
      "Updating HTML index of packages in '.Library'\n",
      "Making 'packages.html' ... done\n",
      "Warning message in stock(..., lib = lib, update_all = update_all, quiet = quiet, :\n",
      "“\n",
      "  These packages failed to install:\n",
      "\n",
      "  'dagitty', 'tibble', 'ggplot2', 'ggdag'\n",
      "\n",
      "  Check the spelling and capitalisation of the names.\n",
      "\n",
      "  Are they Bioconductor packages? If so, please install Bioconductor\n",
      "  (BiocManager and BiocBase).\n",
      "\n",
      "  Are they from GitHub? If so, please supply both the GitHub\n",
      "  username and package name, e.g. DesiQuintans/librarian”Warning message in librarian::shelf(dagitty, tibble, stargazer, ggplot2, ggdag, :\n",
      "“\n",
      "  These packages are not installed, so they were not attached:\n",
      "\n",
      "  'dagitty', 'tibble', 'ggplot2', 'ggdag'\n",
      "\n",
      "  Did they fail to install? Are they spelled correctly?”"
     ]
    },
    {
     "ename": "ERROR",
     "evalue": "Error in theme_set(theme_void()): could not find function \"theme_set\"\n",
     "output_type": "error",
     "traceback": [
      "Error in theme_set(theme_void()): could not find function \"theme_set\"\nTraceback:\n"
     ]
    }
   ],
   "source": [
    "# install.packages(\"librarian\", quiet = T)\n",
    "# install.packages(\"ggdag\")\n",
    "librarian::shelf(\n",
    "    dagitty, tibble, stargazer, ggplot2, ggdag,\n",
    "    quiet = T\n",
    ")\n",
    "theme_set(theme_void())"
   ]
  },
  {
   "cell_type": "code",
   "execution_count": null,
   "metadata": {
    "vscode": {
     "languageId": "r"
    }
   },
   "outputs": [
    {
     "ename": "ERROR",
     "evalue": "Error in library(dagitty): there is no package called ‘dagitty’\n",
     "output_type": "error",
     "traceback": [
      "Error in library(dagitty): there is no package called ‘dagitty’\nTraceback:\n",
      "1. library(dagitty)"
     ]
    }
   ],
   "source": [
    "# Load packages\n",
    "library(dagitty)\n",
    "library(ggdag)"
   ]
  },
  {
   "cell_type": "markdown",
   "metadata": {},
   "source": [
    "#### Model 1: Good control"
   ]
  },
  {
   "cell_type": "code",
   "execution_count": 1,
   "metadata": {
    "vscode": {
     "languageId": "r"
    }
   },
   "outputs": [],
   "source": [
    "# cleans workspace\n",
    "rm(list = ls())"
   ]
  },
  {
   "cell_type": "code",
   "execution_count": 2,
   "metadata": {
    "vscode": {
     "languageId": "r"
    }
   },
   "outputs": [
    {
     "ename": "ERROR",
     "evalue": "Error in dagitty(\"dag{x->y; z->x; z->y}\"): could not find function \"dagitty\"\n",
     "output_type": "error",
     "traceback": [
      "Error in dagitty(\"dag{x->y; z->x; z->y}\"): could not find function \"dagitty\"\nTraceback:\n"
     ]
    }
   ],
   "source": [
    "# cleans workspace\n",
    "rm(list = ls())\n",
    "\n",
    "# DAG\n",
    "\n",
    "## specify edges\n",
    "model <- dagitty(\"dag{x->y; z->x; z->y}\")\n",
    "\n",
    "## coordinates for plotting\n",
    "coordinates(model) <-  list(\n",
    "  x = c(x=1, y=3, z=2),\n",
    "  y = c(x=1, y=1, z=2))\n",
    "\n",
    "## ggplot\n",
    "ggdag(model) + theme_dag()"
   ]
  },
  {
   "cell_type": "code",
   "execution_count": 2,
   "metadata": {
    "vscode": {
     "languageId": "r"
    }
   },
   "outputs": [],
   "source": [
    "# simulate data (linear model)\n",
    "n <- 1e4\n",
    "z <- rnorm(n)\n",
    "x <- z + rnorm(n)\n",
    "y <- x + z + rnorm(n)"
   ]
  },
  {
   "cell_type": "code",
   "execution_count": 3,
   "metadata": {
    "vscode": {
     "languageId": "r"
    }
   },
   "outputs": [
    {
     "data": {
      "text/plain": [
       "\n",
       "Call:\n",
       "lm(formula = y ~ x)\n",
       "\n",
       "Coefficients:\n",
       "(Intercept)            x  \n",
       "  -0.007701     1.500345  \n"
      ]
     },
     "metadata": {},
     "output_type": "display_data"
    }
   ],
   "source": [
    "# unadjusted estimate is confounded\n",
    "lm(y ~ x)"
   ]
  },
  {
   "cell_type": "code",
   "execution_count": 4,
   "metadata": {
    "vscode": {
     "languageId": "r"
    }
   },
   "outputs": [
    {
     "data": {
      "text/plain": [
       "\n",
       "Call:\n",
       "lm(formula = y ~ x + z)\n",
       "\n",
       "Coefficients:\n",
       "(Intercept)            x            z  \n",
       "   -0.01016      1.00972      0.99364  \n"
      ]
     },
     "metadata": {},
     "output_type": "display_data"
    }
   ],
   "source": [
    "# adjusting for Z recovers the causal effect\n",
    "lm(y ~ x + z)"
   ]
  }
 ],
 "metadata": {
  "kernelspec": {
   "display_name": "R",
   "language": "R",
   "name": "ir"
  },
  "language_info": {
   "codemirror_mode": "r",
   "file_extension": ".r",
   "mimetype": "text/x-r-source",
   "name": "R",
   "pygments_lexer": "r",
   "version": "3.6.0"
  }
 },
 "nbformat": 4,
 "nbformat_minor": 4
}
