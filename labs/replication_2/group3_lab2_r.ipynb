{
 "cells": [
  {
   "cell_type": "markdown",
   "metadata": {},
   "source": [
    "Workgroup 2\n",
    "\n",
    "# Potential Outcomes and RCTs\n",
    "\n",
    "#### Group 3: Dube, V., Garay, E. Guerrero, J., Villalba, M."
   ]
  },
  {
   "cell_type": "markdown",
   "metadata": {},
   "source": [
    "## Multicolinearity"
   ]
  },
  {
   "cell_type": "markdown",
   "metadata": {},
   "source": [
    "What is Multicollinearity?"
   ]
  },
  {
   "cell_type": "code",
   "execution_count": null,
   "metadata": {
    "vscode": {
     "languageId": "r"
    }
   },
   "outputs": [],
   "source": [
    "# Example"
   ]
  },
  {
   "cell_type": "markdown",
   "metadata": {},
   "source": [
    "## Analyzing RCT data with precision adjustment"
   ]
  },
  {
   "cell_type": "code",
   "execution_count": null,
   "metadata": {
    "vscode": {
     "languageId": "r"
    }
   },
   "outputs": [],
   "source": []
  },
  {
   "cell_type": "markdown",
   "metadata": {},
   "source": [
    "## A crash course in good and bad controls (val)"
   ]
  },
  {
   "cell_type": "markdown",
   "metadata": {},
   "source": [
    "In this section, we will explore different scenarios where we need to decide whether the inclusion of a control variable, denoted by _Z_, will help (or not) to improve the estimation of the **average treatment effect** (ATE) of treatment _X_ on outcome _Y_. The effect of observed variables will be represented by a continuous line, while that of unobserved variables will be represented by and discontinuous line."
   ]
  },
  {
   "cell_type": "code",
   "execution_count": null,
   "metadata": {
    "vscode": {
     "languageId": "r"
    }
   },
   "outputs": [
    {
     "ename": "",
     "evalue": "",
     "output_type": "error",
     "traceback": [
      "\u001b[1;31mFailed to start the Kernel. \n",
      "\u001b[1;31mError in loadNamespace(j <- i[[1L]], c(lib.loc, .libPaths()), versionCheck = vI[[j]]) : \n",
      "\u001b[1;31m  there is no package called ‘htmltools’\n",
      "\u001b[1;31mCalls: :: ... loadNamespace -> withRestarts -> withOneRestart -> doWithOneRestart\n",
      "\u001b[1;31mExecution halted. \n",
      "\u001b[1;31mView Jupyter <a href='command:jupyter.viewOutput'>log</a> for further details."
     ]
    }
   ],
   "source": [
    "install.packages(\"librarian\", quiet = T)"
   ]
  },
  {
   "cell_type": "code",
   "execution_count": null,
   "metadata": {
    "vscode": {
     "languageId": "r"
    }
   },
   "outputs": [
    {
     "ename": "",
     "evalue": "",
     "output_type": "error",
     "traceback": [
      "\u001b[1;31mFailed to start the Kernel. \n",
      "\u001b[1;31mError in loadNamespace(j <- i[[1L]], c(lib.loc, .libPaths()), versionCheck = vI[[j]]) : \n",
      "\u001b[1;31m  there is no package called ‘htmltools’\n",
      "\u001b[1;31mCalls: :: ... loadNamespace -> withRestarts -> withOneRestart -> doWithOneRestart\n",
      "\u001b[1;31mExecution halted. \n",
      "\u001b[1;31mView Jupyter <a href='command:jupyter.viewOutput'>log</a> for further details."
     ]
    }
   ],
   "source": [
    "install.packages(\"tidyverse\")"
   ]
  },
  {
   "cell_type": "code",
   "execution_count": null,
   "metadata": {
    "vscode": {
     "languageId": "r"
    }
   },
   "outputs": [
    {
     "ename": "",
     "evalue": "",
     "output_type": "error",
     "traceback": [
      "\u001b[1;31mFailed to start the Kernel. \n",
      "\u001b[1;31mError in loadNamespace(j <- i[[1L]], c(lib.loc, .libPaths()), versionCheck = vI[[j]]) : \n",
      "\u001b[1;31m  there is no package called ‘htmltools’\n",
      "\u001b[1;31mCalls: :: ... loadNamespace -> withRestarts -> withOneRestart -> doWithOneRestart\n",
      "\u001b[1;31mExecution halted. \n",
      "\u001b[1;31mView Jupyter <a href='command:jupyter.viewOutput'>log</a> for further details."
     ]
    }
   ],
   "source": [
    "install.packages(\"ggdag\")"
   ]
  },
  {
   "cell_type": "code",
   "execution_count": null,
   "metadata": {
    "vscode": {
     "languageId": "r"
    }
   },
   "outputs": [
    {
     "ename": "",
     "evalue": "",
     "output_type": "error",
     "traceback": [
      "\u001b[1;31mFailed to start the Kernel. \n",
      "\u001b[1;31mError in loadNamespace(j <- i[[1L]], c(lib.loc, .libPaths()), versionCheck = vI[[j]]) : \n",
      "\u001b[1;31m  there is no package called ‘htmltools’\n",
      "\u001b[1;31mCalls: :: ... loadNamespace -> withRestarts -> withOneRestart -> doWithOneRestart\n",
      "\u001b[1;31mExecution halted. \n",
      "\u001b[1;31mView Jupyter <a href='command:jupyter.viewOutput'>log</a> for further details."
     ]
    }
   ],
   "source": [
    "# install.packages(\"librarian\", quiet = T)\n",
    "# install.packages(\"ggdag\")\n",
    "librarian::shelf(\n",
    "    dagitty, tibble, stargazer, ggplot2, ggdag,\n",
    "    quiet = T\n",
    ")\n",
    "theme_set(theme_void())"
   ]
  },
  {
   "cell_type": "code",
   "execution_count": 9,
   "metadata": {
    "vscode": {
     "languageId": "r"
    }
   },
   "outputs": [
    {
     "ename": "ERROR",
     "evalue": "Error in library(dagitty): there is no package called ‘dagitty’\n",
     "output_type": "error",
     "traceback": [
      "Error in library(dagitty): there is no package called ‘dagitty’\nTraceback:\n",
      "1. library(dagitty)"
     ]
    }
   ],
   "source": [
    "# Load packages\n",
    "library(dagitty)\n",
    "library(ggdag)\n",
    "library(tibble)"
   ]
  },
  {
   "cell_type": "code",
   "execution_count": 3,
   "metadata": {
    "vscode": {
     "languageId": "r"
    }
   },
   "outputs": [],
   "source": [
    "# cleans workspace\n",
    "rm(list = ls()) "
   ]
  },
  {
   "cell_type": "markdown",
   "metadata": {},
   "source": [
    "#### Good control (Blocking back-door paths)"
   ]
  },
  {
   "cell_type": "markdown",
   "metadata": {},
   "source": [
    "**Model 1** \n",
    "\n",
    "We will assume that _X_ measures whether or not the student attends the extra tutoring session, that affects the student's grade (_Y_). Then, we have another observable variable, as hours of the student sleep (_Z_), that impacts _X_ and _Y_. Theory says that when controlling by _Z_, we block the back-door path from _X_ to _Y_. Thus, we see that in the second regression, the coefficient of _X_ is closer to the real one (2.9898 ≈ 3)."
   ]
  },
  {
   "cell_type": "code",
   "execution_count": null,
   "metadata": {
    "vscode": {
     "languageId": "r"
    }
   },
   "outputs": [
    {
     "ename": "",
     "evalue": "",
     "output_type": "error",
     "traceback": [
      "\u001b[1;31mFailed to start the Kernel. \n",
      "\u001b[1;31mError in loadNamespace(j <- i[[1L]], c(lib.loc, .libPaths()), versionCheck = vI[[j]]) : \n",
      "\u001b[1;31m  there is no package called ‘htmltools’\n",
      "\u001b[1;31mCalls: :: ... loadNamespace -> withRestarts -> withOneRestart -> doWithOneRestart\n",
      "\u001b[1;31mExecution halted. \n",
      "\u001b[1;31mView Jupyter <a href='command:jupyter.viewOutput'>log</a> for further details."
     ]
    }
   ],
   "source": [
    "# cleans workspace\n",
    "rm(list = ls())\n",
    "\n",
    "# DAG\n",
    "\n",
    "## specify edges\n",
    "model <- dagitty(\"dag{x->y; z->x; z->y}\")\n",
    "\n",
    "## coordinates for plotting\n",
    "coordinates(model) <-  list(\n",
    "  x = c(x=1, y=3, z=2),\n",
    "  y = c(x=1, y=1, z=2))\n",
    "\n",
    "## ggplot\n",
    "ggdag(model) + theme_dag()"
   ]
  },
  {
   "cell_type": "code",
   "execution_count": 7,
   "metadata": {
    "vscode": {
     "languageId": "r"
    }
   },
   "outputs": [],
   "source": [
    "# Generate data\n",
    "set.seed(24)\n",
    "n <- 1000\n",
    "Z <- rnorm(n)\n",
    "X <- 5 * Z + rnorm(n)\n",
    "Y <- 3 * X + 1.5 * Z + rnorm(n)"
   ]
  },
  {
   "cell_type": "code",
   "execution_count": 8,
   "metadata": {
    "vscode": {
     "languageId": "r"
    }
   },
   "outputs": [
    {
     "ename": "ERROR",
     "evalue": "Error in tibble(X = X, Y = Y, Z = Z): could not find function \"tibble\"\n",
     "output_type": "error",
     "traceback": [
      "Error in tibble(X = X, Y = Y, Z = Z): could not find function \"tibble\"\nTraceback:\n"
     ]
    }
   ],
   "source": [
    "d <- tibble(X=X, Y=Y, Z=Z)\n",
    "\n",
    "# Regressions and summary results\n",
    "lm_1 <- lm(Y ~ X, d)\n",
    "lm_2 <- lm(Y ~ X + Z, d)\n",
    "stargazer(lm_1, lm_2, \n",
    "          type = \"text\", \n",
    "          column.labels = c(\"NoControl\", \"UsingControl\")\n",
    ")"
   ]
  },
  {
   "cell_type": "markdown",
   "metadata": {},
   "source": [
    "**Model 2** \n",
    "\n",
    "We will assume that _X_ stands for the police salaries that affect the crime rate (_Y_). Then, we have another observable variable, as the policemen's supply (_Z_), that impacts _X_ but not _Y_. And, additionally, we know that there is an unobservable variable (_U_), as the preference for maintaining civil order, that affects _Z_ and _Y_. The theory says that when controlling by _Z_, we block (some) of the unobservable variable’s back-door path from _X_ to _Y_. Thus, we see that in the second regression, the coefficient of _X_ is equal to the real one (0.5)."
   ]
  },
  {
   "cell_type": "code",
   "execution_count": null,
   "metadata": {
    "vscode": {
     "languageId": "r"
    }
   },
   "outputs": [],
   "source": [
    "g <- dagitty(\"dag {\n",
    "    X <- Z <- U -> Y\n",
    "    X -> Y\n",
    "    }\")\n",
    "coordinates(g) <- list(\n",
    "    x = c(X=1, Z=2, U=3, Y=4),\n",
    "    y = c(X=2, Z=1, U=0, Y=2))\n",
    "\n",
    "ggdag(g)"
   ]
  },
  {
   "cell_type": "code",
   "execution_count": null,
   "metadata": {
    "vscode": {
     "languageId": "r"
    }
   },
   "outputs": [],
   "source": [
    "set.seed(24)\n",
    "n <- 1000   \n",
    "U <- rnorm(n)\n",
    "Z <- 7 * U + rnorm(n)\n",
    "X <- 2 * Z + rnorm(n)\n",
    "Y <- 0.5 * X + 0.2 * U + rnorm(n)\n",
    "\n",
    "# Create a dataframe\n",
    "d <- tibble(X=X, Y=Y, Z=Z, U=U)"
   ]
  },
  {
   "cell_type": "markdown",
   "metadata": {},
   "source": [
    "#### Bad Control (M-bias)"
   ]
  },
  {
   "cell_type": "markdown",
   "metadata": {},
   "source": [
    "**Model 7** \n",
    "\n",
    "Let us suppose that _X_ stands for a job training program aimed at reducing unemployment. Then, there is a first unobserved confounder, which could be the planning effort and good design of the job program (_U1_) that impacts directly on the participation in job training programs (_X_) and the proximity of job programs (that would be the bad control _Z_). Furthermore, we have another unobserved confounder (_U2_), as the soft skills of the unemployed, that affects the employment status of individuals (_Y_) and the likelihood of beeing in a job training program that is closer (_Z_). That is why including _Z_ in the second regression makes _X_ coefficient value further to the real one."
   ]
  },
  {
   "cell_type": "code",
   "execution_count": null,
   "metadata": {
    "vscode": {
     "languageId": "r"
    }
   },
   "outputs": [],
   "source": [
    "g <- dagitty(\"dag {\n",
    "    X <- U1 -> Z <- U2 -> Y\n",
    "    X -> Y\n",
    "    }\")\n",
    "coordinates(g) <- list(\n",
    "    x = c(X=1, U1=1, Z=2, U2=3, Y=3),\n",
    "    y = c(X=1, U1=0, Z=0, U2=0, Y=1))\n",
    "\n",
    "ggdag(g)"
   ]
  },
  {
   "cell_type": "code",
   "execution_count": null,
   "metadata": {
    "vscode": {
     "languageId": "r"
    }
   },
   "outputs": [],
   "source": [
    "set.seed(1)\n",
    "n <- 1000  \n",
    "U1 <- rnorm(n)\n",
    "U2 <- rnorm(n)\n",
    "Z <- 0.3 * U1 + 0.9 * U2 + rnorm(n)\n",
    "X <- 4 * U1 + rnorm(n)\n",
    "Y <- 3 * X + U2 + rnorm(n)\n",
    "\n",
    "# Create a dataframe\n",
    "d <- tibble(X=X, Y=Y, Z=Z, U1=U1, U2=U2)"
   ]
  },
  {
   "cell_type": "code",
   "execution_count": null,
   "metadata": {
    "vscode": {
     "languageId": "r"
    }
   },
   "outputs": [],
   "source": [
    "lm_1 <- lm(Y ~ X, d)\n",
    "lm_2 <- lm(Y ~ X + Z, d)\n",
    "stargazer(lm_1, lm_2, \n",
    "          type = \"text\", \n",
    "          column.labels = c(\"NoControl\", \"UsingControl\")\n",
    "          )"
   ]
  },
  {
   "cell_type": "markdown",
   "metadata": {},
   "source": [
    "#### Neutral Control (possibly good for precision)"
   ]
  },
  {
   "cell_type": "markdown",
   "metadata": {},
   "source": [
    "**Model 8** \n",
    "\n",
    "In this scenario, we will assume that _X_ represents the implementation of a new government policy to provide subsidies and guidance for small companies. There is another variable, _Z_, that stands for the % inflation rate. And both _X_ and _Z_ affect _Y_, which represents the GDP growth rate of the country. Then, even if _Z_ does not impact _X_, its inclusion improves the precision of the ATE estimator (8.5643 is closer to 8.6)."
   ]
  },
  {
   "cell_type": "code",
   "execution_count": null,
   "metadata": {
    "vscode": {
     "languageId": "r"
    }
   },
   "outputs": [],
   "source": [
    "g <- dagitty(\"dag {X -> Y <-Z}\")\n",
    "coordinates(g) <- list(\n",
    "    x = c(X=1, Y=2, Z=3),\n",
    "    y = c(X=1, Y=1, Z=0))\n",
    "\n",
    "ggdag(g)"
   ]
  },
  {
   "cell_type": "code",
   "execution_count": null,
   "metadata": {
    "vscode": {
     "languageId": "r"
    }
   },
   "outputs": [],
   "source": [
    "set.seed(24)\n",
    "n <- 1000  \n",
    "Z <- rnorm(n)\n",
    "X <- rnorm(n)\n",
    "Y <- 8.6 * X + 5 * Z + rnorm(n)\n",
    "\n",
    "# Create a dataframe\n",
    "d <- tibble(X=X, Y=Y, Z=Z)"
   ]
  },
  {
   "cell_type": "code",
   "execution_count": null,
   "metadata": {
    "vscode": {
     "languageId": "r"
    }
   },
   "outputs": [],
   "source": [
    "lm_1 <- lm(Y ~ X, d)\n",
    "lm_2 <- lm(Y ~ X + Z, d)\n",
    "stargazer(lm_1, lm_2, \n",
    "          type = \"text\", \n",
    "          column.labels = c(\"NoControl\", \"UsingControl\")\n",
    "          )"
   ]
  },
  {
   "cell_type": "markdown",
   "metadata": {},
   "source": [
    "#### Bad Controls (Bias amplification)"
   ]
  },
  {
   "cell_type": "markdown",
   "metadata": {},
   "source": [
    "**Model 10** \n",
    "\n",
    "Let us assume that _X_ measures the implementation of a housing program for young adults buying their first house, which impacts the average housing prices (_Y_). There is another observable variable, _Z_, that measures the expenditure of the program and affects only _X_. Also, there is an unobservable variable (_U_) that represents the preference of young adults to move from their parent's house and impacts only _X_ and _Y_. Therefore, the inclusion of _Z_ will \"amplify the bias\" of _U_ on _X_, so the ATE estimator will be worse. We can see that in the second regression, the estimator (0.8241) is much farther from the real value (0.8)."
   ]
  },
  {
   "cell_type": "code",
   "execution_count": null,
   "metadata": {
    "vscode": {
     "languageId": "r"
    }
   },
   "outputs": [],
   "source": [
    "g <- dagitty(\"dag {\n",
    "    Z -> X <- U -> Y\n",
    "    X -> Y\n",
    "    }\")\n",
    "coordinates(g) <- list(\n",
    "    x = c(Z=0.5, X=1, U=1.5, Y=2),\n",
    "    y = c(Z=0, X=1, U=0.5, Y=1))\n",
    "\n",
    "ggdag(g)"
   ]
  },
  {
   "cell_type": "code",
   "execution_count": null,
   "metadata": {
    "vscode": {
     "languageId": "r"
    }
   },
   "outputs": [],
   "source": [
    "set.seed(24)\n",
    "n <- 1000  \n",
    "Z <- rnorm(n)\n",
    "U <- rnorm(n)\n",
    "X <- 3 * Z + 6 * U + rnorm(n)\n",
    "Y <- 0.8 * X + 0.2 * U + rnorm(n)\n",
    "\n",
    "# Create a dataframe\n",
    "d <- tibble(X=X, Y=Y, Z=Z, U=U)"
   ]
  },
  {
   "cell_type": "code",
   "execution_count": null,
   "metadata": {
    "vscode": {
     "languageId": "r"
    }
   },
   "outputs": [
    {
     "ename": "ERROR",
     "evalue": "Error in tibble(X = X, Y = Y, Z = Z): could not find function \"tibble\"\n",
     "output_type": "error",
     "traceback": [
      "Error in tibble(X = X, Y = Y, Z = Z): could not find function \"tibble\"\n",
      "Traceback:\n"
     ]
    }
   ],
   "source": [
    "d <- tibble(X=X, Y=Y, Z=Z)\n",
    "\n",
    "# Regressions and summary results\n",
    "lm_1 <- lm(Y ~ X, d)\n",
    "lm_2 <- lm(Y ~ X + Z, d)\n",
    "stargazer(lm_1, lm_2, \n",
    "          type = \"text\", \n",
    "          column.labels = c(\"NoControl\", \"UsingControl\")\n",
    ")"
   ]
  }
 ],
 "metadata": {
  "kernelspec": {
   "display_name": "R",
   "language": "R",
   "name": "ir"
  },
  "language_info": {
   "codemirror_mode": "r",
   "file_extension": ".r",
   "mimetype": "text/x-r-source",
   "name": "R",
   "pygments_lexer": "r",
   "version": "3.6.0"
  }
 },
 "nbformat": 4,
 "nbformat_minor": 4
}
