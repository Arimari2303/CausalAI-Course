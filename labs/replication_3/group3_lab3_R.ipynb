{
 "cells": [
  {
   "cell_type": "markdown",
   "id": "b7e2b77e",
   "metadata": {},
   "source": [
    "# Workgroup 3\n",
    "\n",
    "**Group 3**: Valerie Dube, Erzo Garay, Juan Marcos Guerrero y Matías Villalba,"
   ]
  },
  {
   "cell_type": "markdown",
   "id": "aee44890",
   "metadata": {},
   "source": [
    "## 1. Neyman Orthogonality Proof"
   ]
  },
  {
   "cell_type": "markdown",
   "id": "2dffd298",
   "metadata": {},
   "source": [
    "$Y_{nx1}=\\alpha D_{nx1}+W_{nxp}\\beta_{px1}+\\epsilon_{nx1}\\\\\n",
    "\\widetilde{Y}_{nx1}=Y_{nx1}-W_{nxp}X_{{{Yw}_{px1}}}\\\\\n",
    "\\widetilde{D}_{nx1}=D_{nx1}-W_{nxp}X_{{{Dw}_{px1}}}\\\\\n",
    "W=Matrix\\ composed\\ by\\ one\\ variable\\ in\\ each\\ column\\\\\n",
    "X=Vector\\ of\\ coefficients\\\\\n",
    "n=N° observations\\\\\n",
    "p=N° confounders \\\\\\ \n",
    "\\\\\\\n",
    "\\\\\\\n",
    "M(a,\\eta)=E[(\\widetilde{Y}_{nx1}(\\eta_{1})-a\\widetilde{D}(\\eta_{2})_{nx1})'(\\widetilde{D}(\\eta_{2})_{nx1})]=0\\\\\n",
    "\\frac{\\partial a}{\\partial \\eta}=-[\\frac{\\partial M}{\\partial a}(\\alpha,\\eta_{0})]^{-1}[\\frac{\\partial M}{\\partial \\eta}(\\alpha,\\eta_{0})]\\\\\n",
    "\\frac{\\partial M}{\\partial \\eta}(\\alpha,\\eta_{0})=\\frac{\\partial M}{\\partial \\eta_{1}}(\\alpha,X_{Yw},X_{Dw})+\\frac{\\partial M}{\\partial \\eta_{2}}(\\alpha,X_{Yw},X_{Dw})\\\\\n",
    "S_{1}=\\frac{\\partial M}{\\partial \\eta_{1}}(\\alpha,X_{Yw},X_{Dw})  ,  S_{2}=\\frac{\\partial M}{\\partial \\eta_{2}}(\\alpha,X_{Yw},X_{Dw})$\n"
   ]
  },
  {
   "cell_type": "markdown",
   "id": "0c16c6a6",
   "metadata": {},
   "source": [
    "# Demonstration 1:             "
   ]
  },
  {
   "cell_type": "markdown",
   "id": "e048d15a",
   "metadata": {},
   "source": [
    "$Given\\ the\\ general\\ formula\\,\\ before\\ using\\  (\\alpha,X_{Yw},X_{Dw}): \\widetilde{Y}_{nx1}=Y_{nx1}-W_{nxp}\\eta_{{{1}_{px1}}}  ,\\ \\widetilde{D}_{nx1}=D_{nx1}-W_{nxp}\\eta_{{{2}_{px1}}}: \\\\\\\n",
    "\\\\\\\n",
    "S_{1}=\\frac{\\partial M}{\\partial \\eta_{1}}|_{(\\alpha,W_{Yw},W_{Dw})}\\\\\\\n",
    "\\\\\\\n",
    "=\\frac{\\partial E[(\\widetilde{Y}_{nx1}(\\eta_{1})-a\\widetilde{D}(\\eta_{2})_{nx1})'(\\widetilde{D}(\\eta_{2})_{nx1})}{\\partial \\eta_{1}}|_{(\\alpha,W_{Yw},W_{Dw})}=\\frac{\\partial E[Y_{nx1}-W_{nxp}\\eta_{{{1}_{px1}}}-aD_{nx1}+aW_{nxp}\\eta_{{{2}_{px1}}})'(D_{nx1}-W_{nxp}\\eta_{{{2}_{px1}}})}{\\partial \\eta_{1}}|_{(\\alpha,W_{Yw},W_{Dw})}\\\\\\\n",
    "\\\\\\\n",
    "Substituting\\ (\\alpha,W_{Yw},W_{Dw})\\ in\\ (a,\\eta_{1},\\eta_{2})\\\\\\\n",
    "\\\\\\\n",
    "=\\frac{\\partial E[(\\widetilde{Y}_{nx1}(\\eta_{1})-a\\widetilde{D}(\\eta_{2})_{nx1})'(\\widetilde{D}(\\eta_{2})_{nx1})]}{\\partial \\eta_{1}}|_{(\\alpha,W_{Yw},W_{Dw})}=E[(W_{nxp})'(D_{nx1}-W_{n*p}\\eta_{{2}_{px1}})]|_{(\\alpha,W_{Yw},W_{Dw})}\\\\\n",
    "=E[(W_{nxp})'(D_{nx1}-W_{n*p}X_{{{Dw}_{px1}}})]\\\\\n",
    "=E[W'_{pxn}D_{nx1}-W'_{pxn}W_{nxp}(W'_{pxn}W_{nxp})^{-1}(W'_{pxn}D_{nx1})]\\\\\n",
    "=E[W'_{pxn}D_{nx1}-I_{pxp}(W'_{pxn}D_{nx1})]=E[W'_{pxn}D_{nx1}-W'_{pxn}D_{nx1}]=E[0]\\\\\n",
    "S_{1}=0$"
   ]
  },
  {
   "cell_type": "markdown",
   "id": "f5d77bfc",
   "metadata": {},
   "source": [
    "# Demonstration 2: "
   ]
  },
  {
   "cell_type": "markdown",
   "id": "e327f1e0",
   "metadata": {},
   "source": [
    "$Given\\ the\\ general\\ formula\\,\\ before\\ using\\  (\\alpha,X_{Yw},X_{Dw}): \\widetilde{Y}_{nx1}=y_{nx1}-W_{nxp}\\eta_{{{1}_{px1}}}  ,\\ \\widetilde{D}_{nx1}=D_{nx1}-W_{nxp}\\eta_{{{2}_{px1}}}\\\\\\\n",
    "\\\\\\\n",
    "S_{2}=\\frac{\\partial M}{\\partial \\eta_{2}}|_{(\\alpha,W_{Yw},W_{Dw})}=0\\\\\\\n",
    "\\\\\n",
    "=\\frac{\\partial E[(\\widetilde{Y}_{nx1}(\\eta_{1})-a\\widetilde{D}(\\eta_{2})_{nx1})'(\\widetilde{D}(\\eta_{2})_{nx1})}{\\partial \\eta_{2}}|_{(\\alpha,W_{Yw},W_{Dw})}=\\frac{\\partial E[Y_{nx1}-W_{nxp}\\eta_{{{1}_{px1}}}-aD_{nx1}+aW_{nxp}\\eta_{{{2}_{px1}}})'(D_{nx1}-W_{nxp}\\eta_{{{2}_{px1}}})}{\\partial \\eta_{2}}|_{(\\alpha,W_{Yw},W_{Dw})}\\\\\n",
    "=\\frac{\\partial E[-Y_{1xn}'W_{nxp}\\eta_{{2}_{px1}}+\\eta'_{{1}_{1xn}}W'_{pxn}W_{pxn}\\eta_{{2}_{px1}}+aD'_{1xn}W_{nxp}\\eta_{{2}_{px1}}+a\\eta'_{{2}_{1xp}}W'_{pxn}D_{nx1}-a\\eta'_{{2}_{1xp}}W'_{pxn}W_{nxp}\\eta_{{2}_{px1}}]}{\\partial \\eta_{2}}|_{(\\alpha,W_{Yw},W_{Dw})}\\\\\n",
    "=E[-W'_{pxn}Y_{nx1}+W'_{pxn}W_{nxp}\\eta_{{1}_{px1}}+aW'_{pxn}D_{nx1}+aW'_{pxn}D_{nx1}-aW'_{pxn}W_{nxp}\\eta_{{2}_{px1}}-aW'_{pxn}W_{nxp}\\eta_{{2}_{px1}}]|_{(\\alpha,W_{Yw},W_{Dw})}\\\\\\\n",
    "\\\\\\\n",
    "Substituting\\ (\\alpha,W_{Yw},W_{Dw})\\ in\\ (a,\\eta_{1},\\eta_{2})\\\\\\\n",
    "\\\\\n",
    "=E[-W'_{pxn}Y_{nx1}+W'_{pxn}W_{nxp}X_{{{yw}_{px1}}}+\\alpha W'_{pxn}D_{nx1}+\\alpha W'_{pxn}D_{nx1}-\\alpha W'_{pxn}W_{nxp}X_{{{Dw}_{px1}}}-\\alpha W'_{pxn}W_{nxp}X_{{{Dw}_{px1}}}]\\\\\n",
    "=E[-W'_{pxn}Y_{nx1}+W'_{pxn}W_{nxp}(W'_{pxn}W_{nxp})^{-1}(W'_{pxn}Y_{nx1})+\\alpha W'_{pxn}D_{nx1}+\\alpha W'_{pxn}D_{nx1}-\\alpha W'_{pxn}W_{nxp}(W'_{pxn}W_{nxp})^{-1}(W'_{pxn}D_{nx1})-\\alpha W'_{pxn}W_{nxp}(W'_{pxn}W_{nxp})^{-1}(W'_{pxn}D_{nx1})]\\\\\n",
    "=E[-W'_{pxn}Y_{nx1}+-W'_{pxn}Y_{nx1}+\\alpha W'_{pxn}D_{nx1}+\\alpha W'_{pxn}D_{nx1}-\\alpha W'_{pxn}D_{nx1}-\\alpha W'_{pxn}D_{nx1}]=E[0]=0\\\\\n",
    "S_{2}=0$\n"
   ]
  },
  {
   "cell_type": "markdown",
   "id": "190f099b",
   "metadata": {},
   "source": [
    "## 2. Code Section"
   ]
  },
  {
   "cell_type": "markdown",
   "id": "496fef26",
   "metadata": {},
   "source": [
    "### 2.1. Orthogonal Learning"
   ]
  },
  {
   "cell_type": "code",
   "execution_count": 2,
   "id": "b3efd41e",
   "metadata": {
    "vscode": {
     "languageId": "r"
    }
   },
   "outputs": [
    {
     "name": "stderr",
     "output_type": "stream",
     "text": [
      "Loading required package: Matrix\n",
      "\n",
      "Loaded glmnet 4.1-8\n",
      "\n"
     ]
    }
   ],
   "source": [
    "# Install and load necessary packages\n",
    "#install.packages(c(\"glmnet\", \"parallel\", \"ggplot2\", \"gridExtra\", \"hdm\", \"cowplot\"))\n",
    "library(hdm)\n",
    "library(glmnet)\n",
    "library(parallel)\n",
    "library(ggplot2)\n",
    "library(gridExtra)\n",
    "library(cowplot)"
   ]
  },
  {
   "cell_type": "markdown",
   "id": "a8e26f2a",
   "metadata": {},
   "source": [
    "### Simulation Design"
   ]
  },
  {
   "cell_type": "markdown",
   "id": "f4b0cb6c",
   "metadata": {},
   "source": [
    "We are going to simulate 3 different trials to show the properties we talked about orthogonal learning.\n",
    "\n",
    "For that we first define a function that runs a single observation of our simulation."
   ]
  },
  {
   "cell_type": "code",
   "execution_count": 3,
   "id": "7142d68d",
   "metadata": {
    "vscode": {
     "languageId": "r"
    }
   },
   "outputs": [],
   "source": [
    "simulate_once <- function(seed) {\n",
    "  set.seed(seed)\n",
    "  n <- 100\n",
    "  p <- 100\n",
    "  beta <- 1 / (1:p)^2\n",
    "  gamma <- 1 / (1:p)^2\n",
    "  \n",
    "  mean <- 0\n",
    "  sd <- 1\n",
    "  X <- matrix(rnorm(n * p, mean, sd), n, p)\n",
    "  \n",
    "  D <- (X %*% gamma) + rnorm(n, mean, sd) / 4\n",
    "  Y <- 10 * D + (X %*% beta) + rnorm(n, mean, sd)\n",
    "  \n",
    "  # Single selection method\n",
    "  r_lasso <- rlasso(Y ~ D + X, post = TRUE)\n",
    "  coef_matrix <- r_lasso$coefficients[-c(1, 2)]\n",
    "  SX_IDs <- which(coef_matrix != 0)\n",
    "  \n",
    "  # In case all X coefficients are zero\n",
    "  if (length(SX_IDs) == 0) {\n",
    "    naive_model <- lm(Y ~ D)\n",
    "    naive_coef <- coef(summary(naive_model))[2, 1]\n",
    "  } else {\n",
    "    X_D <- cbind(D, X[, SX_IDs])\n",
    "    naive_model <- lm(Y ~ X_D)\n",
    "    naive_coef <- coef(summary(naive_model))[2, 1]\n",
    "  }\n",
    "  \n",
    "  # Regress residuals\n",
    "  resY <- residuals(rlasso(Y ~ X, post = FALSE))\n",
    "  resD <- residuals(rlasso(D ~ X, post = FALSE))\n",
    "  orthogonal_model <- lm(resY ~ resD)\n",
    "  orthogonal_coef <- coef(summary(orthogonal_model))[2, 1]\n",
    "  \n",
    "  return(c(naive_coef, orthogonal_coef))\n",
    "}"
   ]
  },
  {
   "cell_type": "markdown",
   "id": "fe489f13",
   "metadata": {},
   "source": [
    "Then we define a function that runs the simulation on its enterity, using parallel computing and the function we previously defined."
   ]
  },
  {
   "cell_type": "code",
   "execution_count": 4,
   "id": "55684605",
   "metadata": {
    "vscode": {
     "languageId": "r"
    }
   },
   "outputs": [],
   "source": [
    "run_simulation <- function(B) {\n",
    "  cl <- makeCluster(detectCores())  # Create a cluster using all available cores\n",
    "  on.exit({\n",
    "    stopCluster(cl)\n",
    "  }, add = TRUE)  # Ensure the cluster is stopped when the function exits, even if there's an error\n",
    "  \n",
    "  clusterExport(cl, list(\"simulate_once\", \"rlasso\", \"coef\", \"residuals\", \"summary\", \"set.seed\", \"matrix\", \"rnorm\", \"cbind\", \"lm\", \"which\"))  # Export necessary objects and functions to the cluster\n",
    "  \n",
    "  results <- tryCatch({\n",
    "    parLapply(cl, 1:B, simulate_once)  # Run the simulation in parallel\n",
    "  }, error = function(e) {\n",
    "    message(\"Error during parallel execution: \", e)\n",
    "    stopCluster(cl)\n",
    "    stop(e)\n",
    "  })\n",
    "  \n",
    "  Naive <- sapply(results, function(x) x[1])\n",
    "  Orthogonal <- sapply(results, function(x) x[2])\n",
    "  \n",
    "  return(list(Naive = Naive, Orthogonal = Orthogonal))\n",
    "}"
   ]
  },
  {
   "cell_type": "code",
   "execution_count": 4,
   "id": "56517261",
   "metadata": {
    "vscode": {
     "languageId": "r"
    }
   },
   "outputs": [],
   "source": [
    "Orto_breaks <- seq(8, 12, by = 0.2)\n",
    "Naive_breaks <- seq(8, 12, by = 0.2)"
   ]
  },
  {
   "cell_type": "markdown",
   "id": "a3311bf5",
   "metadata": {},
   "source": [
    "Next we run the simulations with 100, 1000, and 10000 iterations and plot the histograms for the Naive and Orthogonal estimations"
   ]
  },
  {
   "cell_type": "code",
   "execution_count": 5,
   "id": "f789b5ca",
   "metadata": {
    "vscode": {
     "languageId": "r"
    }
   },
   "outputs": [
    {
     "name": "stdout",
     "output_type": "stream",
     "text": [
      "[1] \"Time taken for 100 iteration simulation: 4.99 seconds\"\n"
     ]
    },
    {
     "data": {
      "image/png": "[encoded data removed]",
      "text/plain": [
       "plot without title"
      ]
     },
     "metadata": {
      "image/png": {
       "height": 420,
       "width": 420
      }
     },
     "output_type": "display_data"
    },
    {
     "name": "stdout",
     "output_type": "stream",
     "text": [
      "[1] \"Time taken for 1000 iteration simulation: 27.39 seconds\"\n"
     ]
    },
    {
     "data": {
      "image/png": "[encoded data removed]",
      "text/plain": [
       "plot without title"
      ]
     },
     "metadata": {
      "image/png": {
       "height": 420,
       "width": 420
      }
     },
     "output_type": "display_data"
    },
    {
     "name": "stdout",
     "output_type": "stream",
     "text": [
      "[1] \"Time taken for 10000 iteration simulation: 348.75 seconds\"\n"
     ]
    },
    {
     "data": {
      "image/png": "[encoded data removed]",
      "text/plain": [
       "plot without title"
      ]
     },
     "metadata": {
      "image/png": {
       "height": 420,
       "width": 420
      }
     },
     "output_type": "display_data"
    }
   ],
   "source": [
    "options(warn=-1)\n",
    "Bs <- c(100, 1000, 10000)\n",
    "\n",
    "custom_theme <- theme_classic() +\n",
    "  theme(\n",
    "    panel.background = element_blank(),\n",
    "    panel.border = element_rect(color = \"black\", fill = NA, linewidth = 1),\n",
    "    panel.grid.major = element_blank(),\n",
    "    panel.grid.minor = element_blank(),\n",
    "    plot.background = element_blank()\n",
    "  )\n",
    "\n",
    "for (B in Bs) {\n",
    "  start_time <- Sys.time()\n",
    "  results <- run_simulation(B)\n",
    "  Naive <- results$Naive\n",
    "  Orthogonal <- results$Orthogonal\n",
    "  end_time <- Sys.time()\n",
    "  elapsed_time <- as.numeric(difftime(end_time, start_time, units = \"secs\"))\n",
    "  \n",
    "  df1 <- data.frame(Orthogonal = Orthogonal)\n",
    "  df2 <- data.frame(Naive = Naive)\n",
    "\n",
    "  vlines_df <- data.frame(x = c(mean(df1$Orthogonal), 10),\n",
    "                        label = c(\"Estimated Treatment Effect\", \"True Effect\"))\n",
    "  \n",
    "  p1 <- ggplot(df1, aes(x = Orthogonal)) +\n",
    "    geom_histogram(aes(y = after_stat(density)),  breaks = Orto_breaks, fill = \"lightblue\", color = \"NA\") +\n",
    "    geom_density(color = \"darkblue\", linewidth=1) +\n",
    "    geom_vline(data = vlines_df, aes(xintercept = x, color = label, linetype = label), linewidth = 1) +\n",
    "    scale_x_continuous(limits = c(8, 12)) +\n",
    "    ggtitle(\"Orthogonal estimation\") +\n",
    "    xlab(\"Estimated Treatment Effect\")+\n",
    "    scale_color_manual(values = c(\"Estimated Treatment Effect\" = \"blue\", \"True Effect\" = \"red\")) +\n",
    "    scale_linetype_manual(values = c(\"Estimated Treatment Effect\" = \"dashed\", \"True Effect\" = \"dashed\")) +\n",
    "    custom_theme+\n",
    "    labs(color = \"Legend\", linetype = \"Legend\")+\n",
    "    theme(legend.direction = \"horizontal\")\n",
    "  \n",
    "  \n",
    "  p2 <- ggplot(df2, aes(x = Naive)) +\n",
    "    geom_histogram(aes(y = after_stat(density)),  breaks = Naive_breaks, fill = \"lightblue\", color = \"NA\") +\n",
    "    geom_density(color = \"darkblue\", linewidth=1) +\n",
    "    geom_vline(aes(xintercept = mean(Naive)), color = \"blue\", linetype = \"dashed\", linewidth=1) +\n",
    "    geom_vline(xintercept = 10, color = \"red\", linetype = \"dashed\", linewidth=1) +\n",
    "    scale_x_continuous(limits = c(8, 12)) +\n",
    "    ggtitle(\"Naive estimation\") +\n",
    "    xlab(\"Estimated Treatment Effect\")+\n",
    "    custom_theme\n",
    "  \n",
    "    # Extract the legend\n",
    "  legend <- suppressWarnings(get_legend(p1))\n",
    "  \n",
    "  # Remove the legends from the individual plots\n",
    "  p1 <- p1 + theme(legend.position = \"none\")\n",
    "  p2 <- p2 + theme(legend.position = \"none\")\n",
    "\n",
    "# Arrange the plots and the legend\n",
    "\n",
    "  combined_plot <- plot_grid(p1, p2, ncol = 2, align = \"v\")\n",
    "  combined_plot_with_legend <- plot_grid(combined_plot, legend, ncol = 1, rel_heights = c(1, 0.07))\n",
    "  \n",
    "  \n",
    "  grid.arrange(combined_plot_with_legend, ncol = 1, top = paste(\"Simulation with\", B, \"iterations\"))\n",
    "  print(paste(\"Time taken for\", B, \"iteration simulation:\", round(elapsed_time, 2), \"seconds\"))\n",
    "}"
   ]
  },
  {
   "cell_type": "markdown",
   "id": "713e9125",
   "metadata": {},
   "source": [
    "We can se that the orthogonal estimation yields on average a coeficient more centered on the true effect than the naive estimation. This method of estimation that utilizes the residuals of lasso regresion and helps reduce bias more efficiently than the naive estimation method. This is because it leverages the properties explained on the begining of this notebook rather than just controlling for a relevant set of covariates which may induce endogeneity."
   ]
  },
  {
   "cell_type": "markdown",
   "id": "1a3bc57e",
   "metadata": {},
   "source": [
    "We have used parallel computing because it is supposed to allow us to achieve better processing times. It can significantly lower the running time of computations due to its ability to distribute the workload across multiple processing units.\n",
    "\n",
    "As an example, we can see how long it would have taken to run the simulation with 1000 iteration if we had not utilized parallel computing."
   ]
  },
  {
   "cell_type": "markdown",
   "id": "efe830cf",
   "metadata": {},
   "source": [
    "Without parallel computing"
   ]
  },
  {
   "cell_type": "code",
   "execution_count": 5,
   "id": "3e491a6b",
   "metadata": {
    "vscode": {
     "languageId": "r"
    }
   },
   "outputs": [],
   "source": [
    "run_simulation <- function(B) {\n",
    "  Naive <- numeric(B)\n",
    "  Orthogonal <- numeric(B)\n",
    "  \n",
    "  for (i in 1:B) {\n",
    "    results <- simulate_once(i)\n",
    "    Naive[i] <- results[1]\n",
    "    Orthogonal[i] <- results[2]\n",
    "  }\n",
    "  \n",
    "  return(list(Naive = Naive, Orthogonal = Orthogonal))\n",
    "}"
   ]
  },
  {
   "cell_type": "code",
   "execution_count": 6,
   "id": "ee2c5da2",
   "metadata": {
    "vscode": {
     "languageId": "r"
    }
   },
   "outputs": [
    {
     "name": "stdout",
     "output_type": "stream",
     "text": [
      "[1] \"Time taken for 1000 iteration simulation: 129.2 seconds\"\n"
     ]
    }
   ],
   "source": [
    "start_time <- Sys.time()\n",
    "results <- run_simulation(1000)\n",
    "Naive <- results$Naive\n",
    "Orthogonal <- results$Orthogonal\n",
    "end_time <- Sys.time()\n",
    "elapsed_time <- as.numeric(difftime(end_time, start_time, units = \"secs\"))\n",
    "print(paste(\"Time taken for 1000 iteration simulation:\", round(elapsed_time, 2), \"seconds\"))"
   ]
  },
  {
   "cell_type": "markdown",
   "id": "f64d395c",
   "metadata": {},
   "source": [
    "We can see that if we where to not use parallel computing, the processing time would be higher. It took 129 seconds to achieve what we achieved in 27."
   ]
  },
  {
   "cell_type": "markdown",
   "id": "07630de4",
   "metadata": {},
   "source": [
    "### 2.2. Double Lasso - Using School data"
   ]
  },
  {
   "cell_type": "markdown",
   "id": "5aca6787",
   "metadata": {},
   "source": []
  }
 ],
 "metadata": {
  "kernelspec": {
   "display_name": "R",
   "language": "R",
   "name": "ir"
  },
  "language_info": {
   "codemirror_mode": "r",
   "file_extension": ".r",
   "mimetype": "text/x-r-source",
   "name": "R",
   "pygments_lexer": "r",
   "version": "4.3.3"
  }
 },
 "nbformat": 4,
 "nbformat_minor": 5
}
