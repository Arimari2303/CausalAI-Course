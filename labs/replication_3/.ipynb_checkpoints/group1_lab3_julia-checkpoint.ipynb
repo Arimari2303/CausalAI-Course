{
 "cells": [
  {
   "cell_type": "markdown",
   "id": "3ef7d780-4726-4f07-8f02-3ff43219b133",
   "metadata": {},
   "source": [
    "**Double Lasso - Using School data**"
   ]
  },
  {
   "cell_type": "code",
   "execution_count": null,
   "id": "20a4ad94-a6b3-483b-9409-da62de8b1284",
   "metadata": {},
   "outputs": [],
   "source": [
    "import Pkg\n",
    "Pkg.add(\"DataFrames\")\n",
    "Pkg.add(\"CausalInference\")\n"
   ]
  },
  {
   "cell_type": "code",
   "execution_count": null,
   "id": "f52669b5-32c1-454f-9348-8fef00404359",
   "metadata": {},
   "outputs": [],
   "source": []
  },
  {
   "cell_type": "code",
   "execution_count": null,
   "id": "596adc5a-f5cb-41b8-9ea1-d4c6dc8a1eaf",
   "metadata": {},
   "outputs": [],
   "source": []
  },
  {
   "cell_type": "code",
   "execution_count": null,
   "id": "9544bc13-3668-4a95-82f4-06c2f2b25277",
   "metadata": {},
   "outputs": [],
   "source": []
  }
 ],
 "metadata": {
  "kernelspec": {
   "display_name": "Julia 1.11.0-alpha2",
   "language": "julia",
   "name": "julia-1.11"
  },
  "language_info": {
   "file_extension": ".jl",
   "mimetype": "application/julia",
   "name": "julia",
   "version": "1.11.0"
  }
 },
 "nbformat": 4,
 "nbformat_minor": 5
}
