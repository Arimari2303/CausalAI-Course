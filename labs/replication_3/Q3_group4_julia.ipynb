{
 "cells": [
  {
   "cell_type": "code",
   "execution_count": 1,
   "id": "ed7508d2-ce18-48b9-9e47-140a673f803f",
   "metadata": {},
   "outputs": [
    {
     "name": "stderr",
     "output_type": "stream",
     "text": [
      "\u001b[32m\u001b[1m   Resolving\u001b[22m\u001b[39m package versions...\n",
      "\u001b[32m\u001b[1m  No Changes\u001b[22m\u001b[39m to `C:\\Users\\ALBERTO TRELLES\\.julia\\environments\\v1.10\\Project.toml`\n",
      "\u001b[32m\u001b[1m  No Changes\u001b[22m\u001b[39m to `C:\\Users\\ALBERTO TRELLES\\.julia\\environments\\v1.10\\Manifest.toml`\n",
      "\u001b[32m\u001b[1m   Resolving\u001b[22m\u001b[39m package versions...\n",
      "\u001b[32m\u001b[1m  No Changes\u001b[22m\u001b[39m to `C:\\Users\\ALBERTO TRELLES\\.julia\\environments\\v1.10\\Project.toml`\n",
      "\u001b[32m\u001b[1m  No Changes\u001b[22m\u001b[39m to `C:\\Users\\ALBERTO TRELLES\\.julia\\environments\\v1.10\\Manifest.toml`\n"
     ]
    }
   ],
   "source": [
    "import Pkg\n",
    "Pkg.add(\"CSV\")\n",
    "Pkg.add(\"DataFrames\")\n",
    "\n",
    "using CSV\n",
    "using DataFrames"
   ]
  },
  {
   "cell_type": "code",
   "execution_count": 2,
   "id": "6fb07c54-a2b7-4486-ae31-54705da7923d",
   "metadata": {},
   "outputs": [
    {
     "name": "stdout",
     "output_type": "stream",
     "text": [
      "[\"outcome.test.score\", \"treatment\", \"school\", \"is.female\", \"mother.attended.secondary.school\", \"father.attened.secondary.school\", \"failed.at.least.one.school.year\", \"family.receives.cash.transfer\", \"has.computer.with.internet.at.home\", \"is.unemployed\", \"has.some.form.of.income\", \"saves.money.for.future.purchases\", \"intention.to.save.index\", \"makes.list.of.expenses.every.month\", \"negotiates.prices.or.payment.methods\", \"financial.autonomy.index\"]\u001b[1m1×7 DataFrame\u001b[0m\n",
      "\u001b[1m Row \u001b[0m│\u001b[1m variable \u001b[0m\u001b[1m mean      \u001b[0m\u001b[1m min      \u001b[0m\u001b[1m median    \u001b[0m\u001b[1m max      \u001b[0m\u001b[1m nmissing \u001b[0m\u001b[1m eltype   \u001b[0m\n",
      "     │\u001b[90m Symbol   \u001b[0m\u001b[90m Float64   \u001b[0m\u001b[90m Int64    \u001b[0m\u001b[90m Float64   \u001b[0m\u001b[90m Int64    \u001b[0m\u001b[90m Int64    \u001b[0m\u001b[90m DataType \u001b[0m\n",
      "─────┼────────────────────────────────────────────────────────────────────────\n",
      "   1 │ x1        3.25411e7  17000386  3.30936e7  53068181         0  Int64\u001b[1m1×7 DataFrame\u001b[0m\n",
      "\u001b[1m Row \u001b[0m│\u001b[1m variable \u001b[0m\u001b[1m mean    \u001b[0m\u001b[1m min     \u001b[0m\u001b[1m median  \u001b[0m\u001b[1m max     \u001b[0m\u001b[1m nmissing \u001b[0m\u001b[1m eltype   \u001b[0m\n",
      "     │\u001b[90m Symbol   \u001b[0m\u001b[90m Nothing \u001b[0m\u001b[90m String3 \u001b[0m\u001b[90m Nothing \u001b[0m\u001b[90m String3 \u001b[0m\u001b[90m Int64    \u001b[0m\u001b[90m DataType \u001b[0m\n",
      "─────┼──────────────────────────────────────────────────────────────────\n",
      "   1 │ x2       \u001b[90m         \u001b[0m 0       \u001b[90m         \u001b[0m NA              0  String3\u001b[1m1×7 DataFrame\u001b[0m\n",
      "\u001b[1m Row \u001b[0m│\u001b[1m variable \u001b[0m\u001b[1m mean    \u001b[0m\u001b[1m min     \u001b[0m\u001b[1m median  \u001b[0m\u001b[1m max     \u001b[0m\u001b[1m nmissing \u001b[0m\u001b[1m eltype   \u001b[0m\n",
      "     │\u001b[90m Symbol   \u001b[0m\u001b[90m Nothing \u001b[0m\u001b[90m String3 \u001b[0m\u001b[90m Nothing \u001b[0m\u001b[90m String3 \u001b[0m\u001b[90m Int64    \u001b[0m\u001b[90m DataType \u001b[0m\n",
      "─────┼──────────────────────────────────────────────────────────────────\n",
      "   1 │ x3       \u001b[90m         \u001b[0m 0       \u001b[90m         \u001b[0m NA              0  String3\u001b[1m1×7 DataFrame\u001b[0m\n",
      "\u001b[1m Row \u001b[0m│\u001b[1m variable \u001b[0m\u001b[1m mean    \u001b[0m\u001b[1m min     \u001b[0m\u001b[1m median  \u001b[0m\u001b[1m max     \u001b[0m\u001b[1m nmissing \u001b[0m\u001b[1m eltype   \u001b[0m\n",
      "     │\u001b[90m Symbol   \u001b[0m\u001b[90m Nothing \u001b[0m\u001b[90m String3 \u001b[0m\u001b[90m Nothing \u001b[0m\u001b[90m String3 \u001b[0m\u001b[90m Int64    \u001b[0m\u001b[90m DataType \u001b[0m\n",
      "─────┼──────────────────────────────────────────────────────────────────\n",
      "   1 │ x4       \u001b[90m         \u001b[0m 0       \u001b[90m         \u001b[0m NA              0  String3\u001b[1m1×7 DataFrame\u001b[0m\n",
      "\u001b[1m Row \u001b[0m│\u001b[1m variable \u001b[0m\u001b[1m mean    \u001b[0m\u001b[1m min     \u001b[0m\u001b[1m median  \u001b[0m\u001b[1m max     \u001b[0m\u001b[1m nmissing \u001b[0m\u001b[1m eltype   \u001b[0m\n",
      "     │\u001b[90m Symbol   \u001b[0m\u001b[90m Nothing \u001b[0m\u001b[90m String3 \u001b[0m\u001b[90m Nothing \u001b[0m\u001b[90m String3 \u001b[0m\u001b[90m Int64    \u001b[0m\u001b[90m DataType \u001b[0m\n",
      "─────┼──────────────────────────────────────────────────────────────────\n",
      "   1 │ x5       \u001b[90m         \u001b[0m 0       \u001b[90m         \u001b[0m NA              0  String3\u001b[1m1×7 DataFrame\u001b[0m\n",
      "\u001b[1m Row \u001b[0m│\u001b[1m variable \u001b[0m\u001b[1m mean    \u001b[0m\u001b[1m min     \u001b[0m\u001b[1m median  \u001b[0m\u001b[1m max     \u001b[0m\u001b[1m nmissing \u001b[0m\u001b[1m eltype   \u001b[0m\n",
      "     │\u001b[90m Symbol   \u001b[0m\u001b[90m Nothing \u001b[0m\u001b[90m String3 \u001b[0m\u001b[90m Nothing \u001b[0m\u001b[90m String3 \u001b[0m\u001b[90m Int64    \u001b[0m\u001b[90m DataType \u001b[0m\n",
      "─────┼──────────────────────────────────────────────────────────────────\n",
      "   1 │ x6       \u001b[90m         \u001b[0m 0       \u001b[90m         \u001b[0m NA              0  String3\u001b[1m1×7 DataFrame\u001b[0m\n",
      "\u001b[1m Row \u001b[0m│\u001b[1m variable \u001b[0m\u001b[1m mean    \u001b[0m\u001b[1m min     \u001b[0m\u001b[1m median  \u001b[0m\u001b[1m max     \u001b[0m\u001b[1m nmissing \u001b[0m\u001b[1m eltype   \u001b[0m\n",
      "     │\u001b[90m Symbol   \u001b[0m\u001b[90m Nothing \u001b[0m\u001b[90m String3 \u001b[0m\u001b[90m Nothing \u001b[0m\u001b[90m String3 \u001b[0m\u001b[90m Int64    \u001b[0m\u001b[90m DataType \u001b[0m\n",
      "─────┼──────────────────────────────────────────────────────────────────\n",
      "   1 │ x7       \u001b[90m         \u001b[0m 0       \u001b[90m         \u001b[0m NA              0  String3\u001b[1m1×7 DataFrame\u001b[0m\n",
      "\u001b[1m Row \u001b[0m│\u001b[1m variable \u001b[0m\u001b[1m mean    \u001b[0m\u001b[1m min     \u001b[0m\u001b[1m median  \u001b[0m\u001b[1m max     \u001b[0m\u001b[1m nmissing \u001b[0m\u001b[1m eltype   \u001b[0m\n",
      "     │\u001b[90m Symbol   \u001b[0m\u001b[90m Nothing \u001b[0m\u001b[90m String3 \u001b[0m\u001b[90m Nothing \u001b[0m\u001b[90m String3 \u001b[0m\u001b[90m Int64    \u001b[0m\u001b[90m DataType \u001b[0m\n",
      "─────┼──────────────────────────────────────────────────────────────────\n",
      "   1 │ x8       \u001b[90m         \u001b[0m 0       \u001b[90m         \u001b[0m NA              0  String3\u001b[1m1×7 DataFrame\u001b[0m\n",
      "\u001b[1m Row \u001b[0m│\u001b[1m variable \u001b[0m\u001b[1m mean    \u001b[0m\u001b[1m min     \u001b[0m\u001b[1m median  \u001b[0m\u001b[1m max     \u001b[0m\u001b[1m nmissing \u001b[0m\u001b[1m eltype   \u001b[0m\n",
      "     │\u001b[90m Symbol   \u001b[0m\u001b[90m Nothing \u001b[0m\u001b[90m String3 \u001b[0m\u001b[90m Nothing \u001b[0m\u001b[90m String3 \u001b[0m\u001b[90m Int64    \u001b[0m\u001b[90m DataType \u001b[0m\n",
      "─────┼──────────────────────────────────────────────────────────────────\n",
      "   1 │ x9       \u001b[90m         \u001b[0m 0       \u001b[90m         \u001b[0m NA              0  String3\u001b[1m1×7 DataFrame\u001b[0m\n",
      "\u001b[1m Row \u001b[0m│\u001b[1m variable \u001b[0m\u001b[1m mean    \u001b[0m\u001b[1m min     \u001b[0m\u001b[1m median  \u001b[0m\u001b[1m max     \u001b[0m\u001b[1m nmissing \u001b[0m\u001b[1m eltype   \u001b[0m\n",
      "     │\u001b[90m Symbol   \u001b[0m\u001b[90m Nothing \u001b[0m\u001b[90m String3 \u001b[0m\u001b[90m Nothing \u001b[0m\u001b[90m String3 \u001b[0m\u001b[90m Int64    \u001b[0m\u001b[90m DataType \u001b[0m\n",
      "─────┼──────────────────────────────────────────────────────────────────\n",
      "   1 │ x10      \u001b[90m         \u001b[0m 0       \u001b[90m         \u001b[0m NA              0  String3\u001b[1m1×7 DataFrame\u001b[0m\n",
      "\u001b[1m Row \u001b[0m│\u001b[1m variable \u001b[0m\u001b[1m mean    \u001b[0m\u001b[1m min     \u001b[0m\u001b[1m median  \u001b[0m\u001b[1m max     \u001b[0m\u001b[1m nmissing \u001b[0m\u001b[1m eltype   \u001b[0m\n",
      "     │\u001b[90m Symbol   \u001b[0m\u001b[90m Nothing \u001b[0m\u001b[90m String3 \u001b[0m\u001b[90m Nothing \u001b[0m\u001b[90m String3 \u001b[0m\u001b[90m Int64    \u001b[0m\u001b[90m DataType \u001b[0m\n",
      "─────┼──────────────────────────────────────────────────────────────────\n",
      "   1 │ x11      \u001b[90m         \u001b[0m -1      \u001b[90m         \u001b[0m NA              0  String3\u001b[1m1×7 DataFrame\u001b[0m\n",
      "\u001b[1m Row \u001b[0m│\u001b[1m variable \u001b[0m\u001b[1m mean    \u001b[0m\u001b[1m min     \u001b[0m\u001b[1m median  \u001b[0m\u001b[1m max     \u001b[0m\u001b[1m nmissing \u001b[0m\u001b[1m eltype   \u001b[0m\n",
      "     │\u001b[90m Symbol   \u001b[0m\u001b[90m Nothing \u001b[0m\u001b[90m String3 \u001b[0m\u001b[90m Nothing \u001b[0m\u001b[90m String3 \u001b[0m\u001b[90m Int64    \u001b[0m\u001b[90m DataType \u001b[0m\n",
      "─────┼──────────────────────────────────────────────────────────────────\n",
      "   1 │ x12      \u001b[90m         \u001b[0m 0       \u001b[90m         \u001b[0m NA              0  String3\u001b[1m1×7 DataFrame\u001b[0m\n",
      "\u001b[1m Row \u001b[0m│\u001b[1m variable \u001b[0m\u001b[1m mean    \u001b[0m\u001b[1m min     \u001b[0m\u001b[1m median  \u001b[0m\u001b[1m max     \u001b[0m\u001b[1m nmissing \u001b[0m\u001b[1m eltype   \u001b[0m\n",
      "     │\u001b[90m Symbol   \u001b[0m\u001b[90m Nothing \u001b[0m\u001b[90m String3 \u001b[0m\u001b[90m Nothing \u001b[0m\u001b[90m String3 \u001b[0m\u001b[90m Int64    \u001b[0m\u001b[90m DataType \u001b[0m\n",
      "─────┼──────────────────────────────────────────────────────────────────\n",
      "   1 │ x13      \u001b[90m         \u001b[0m 0       \u001b[90m         \u001b[0m NA              0  String3\u001b[1m1×7 DataFrame\u001b[0m\n",
      "\u001b[1m Row \u001b[0m│\u001b[1m variable \u001b[0m\u001b[1m mean    \u001b[0m\u001b[1m min     \u001b[0m\u001b[1m median  \u001b[0m\u001b[1m max     \u001b[0m\u001b[1m nmissing \u001b[0m\u001b[1m eltype   \u001b[0m\n",
      "     │\u001b[90m Symbol   \u001b[0m\u001b[90m Nothing \u001b[0m\u001b[90m String3 \u001b[0m\u001b[90m Nothing \u001b[0m\u001b[90m String3 \u001b[0m\u001b[90m Int64    \u001b[0m\u001b[90m DataType \u001b[0m\n",
      "─────┼──────────────────────────────────────────────────────────────────\n",
      "   1 │ x14      \u001b[90m         \u001b[0m -1      \u001b[90m         \u001b[0m NA              0  String3"
     ]
    },
    {
     "data": {
      "text/plain": [
       "14771-element Vector{Float64}:\n",
       " 52.0\n",
       " 27.0\n",
       " 56.0\n",
       " 27.0\n",
       " 31.0\n",
       " 77.0\n",
       " 43.0\n",
       " 31.0\n",
       " 50.0\n",
       " 14.0\n",
       " 56.0\n",
       " 46.0\n",
       " 37.0\n",
       "  ⋮\n",
       " 77.0\n",
       " 41.0\n",
       " 60.0\n",
       " 52.0\n",
       " 54.0\n",
       " 62.0\n",
       " 27.0\n",
       " 43.0\n",
       " 35.0\n",
       " 24.0\n",
       " 46.0\n",
       " -9.0"
      ]
     },
     "execution_count": 2,
     "metadata": {},
     "output_type": "execute_result"
    }
   ],
   "source": [
    "df = CSV.read(\"C:/Users/ALBERTO TRELLES/Documents/Alberto/Ciclos/Ciclo 9/ML & causal inference/workgroup3/bruhn2016.csv\", DataFrame)\n",
    "\n",
    "#---Data Management---#\n",
    "print(names(df))\n",
    "colnames_df = [:Y, :D]\n",
    "for i in 1:(size(df)[2]-2)\n",
    "    push!(colnames_df, Symbol(\"x$i\"))\n",
    "end\n",
    "df = DataFrame(df, colnames_df)\n",
    "\n",
    "#Describing de dataset\n",
    "for i in 1:(size(df, 2)-2)\n",
    "    var = Symbol(\"x$i\")\n",
    "    print(describe(select(df, var)))\n",
    "end\n",
    "\n",
    "#x11 and x14 are index variables (treat them as floats)\n",
    "df[!, :x11] = ifelse.(df[!, :x11] .== \"NA\", missing, df[!, :x11]); df[!, :x14] = ifelse.(df[!, :x14] .== \"NA\", missing, df[!, :x14])\n",
    "df = dropmissing!(df, :x11); df = dropmissing!(df, :x14)\n",
    "df.x11 = parse.(Float64, df.x11); df.x14 = parse.(Float64, df.x14)"
   ]
  },
  {
   "cell_type": "code",
   "execution_count": null,
   "id": "52557c8f-61a5-41d6-beab-a49b46afadea",
   "metadata": {},
   "outputs": [],
   "source": [
    "#### (1) OLS"
   ]
  },
  {
   "cell_type": "code",
   "execution_count": 3,
   "id": "b8d50c6a-b06b-4cd3-b261-46473dc1702c",
   "metadata": {},
   "outputs": [
    {
     "data": {
      "text/plain": [
       "2-element Vector{Float64}:\n",
       " 3.8586916323135654\n",
       " 4.7384281689082925"
      ]
     },
     "execution_count": 3,
     "metadata": {},
     "output_type": "execute_result"
    }
   ],
   "source": [
    "using GLM\n",
    "varnames = names(df)[4:end]  \n",
    "formula_str = \"D + \" * join(varnames, \" + \")\n",
    "expression = @eval(@formula(Y ~ $(Meta.parse(formula_str))))\n",
    "\n",
    "model1 = lm(expression, df)   #GLM controls for missing values \n",
    "beta_D1 = coef(model1)[2]\n",
    "ci_D1 = confint(model1)[2, :]"
   ]
  },
  {
   "cell_type": "code",
   "execution_count": null,
   "id": "619e41b5-0543-42be-a309-55af6939dc5e",
   "metadata": {},
   "outputs": [],
   "source": [
    "#### (2) Lasso CV"
   ]
  },
  {
   "cell_type": "code",
   "execution_count": 10,
   "id": "f6aa1291-c521-4b40-8563-54097f7a0c7a",
   "metadata": {},
   "outputs": [
    {
     "name": "stderr",
     "output_type": "stream",
     "text": [
      "\u001b[32m\u001b[1m   Resolving\u001b[22m\u001b[39m package versions...\n",
      "\u001b[32m\u001b[1m  No Changes\u001b[22m\u001b[39m to `C:\\Users\\ALBERTO TRELLES\\.julia\\environments\\v1.10\\Project.toml`\n",
      "\u001b[32m\u001b[1m  No Changes\u001b[22m\u001b[39m to `C:\\Users\\ALBERTO TRELLES\\.julia\\environments\\v1.10\\Manifest.toml`\n"
     ]
    }
   ],
   "source": [
    "import Pkg; Pkg.add(\"MLBase\")\n",
    "using MLBase\n",
    "using Lasso"
   ]
  },
  {
   "cell_type": "code",
   "execution_count": 11,
   "id": "0f552bda-b468-4455-b4a2-affdb170236d",
   "metadata": {},
   "outputs": [
    {
     "data": {
      "text/plain": [
       "StatsModels.TableRegressionModel{LassoModel{LinearModel{GLM.LmResp{Vector{Float64}}, GLM.DensePredChol{Float64, LinearAlgebra.CholeskyPivoted{Float64, Matrix{Float64}, Vector{Int64}}}}, MinCVmse}, Matrix{Float64}}\n",
       "\n",
       "Y ~ D + x2 + x3 + x4 + x5 + x6 + x7 + x8 + x9 + x10 + x11 + x12 + x13 + x14\n",
       "\n",
       "Coefficients:\n",
       "LassoModel using MinCVmse(Kfold([1, 3, 2], 2, 1.5)) segment of the regularization path.\n",
       "\n",
       "Coefficients:\n",
       "────────────────\n",
       "        Estimate\n",
       "────────────────\n",
       "x1   49.9231\n",
       "x2    4.27712\n",
       "x3    2.62721\n",
       "x4    0.82067\n",
       "x5    0.829121\n",
       "x6    0.0\n",
       "x7    0.752131\n",
       "x8    0.191272\n",
       "x9   -5.78587\n",
       "x10  -2.87813\n",
       "x11  -1.42919\n",
       "x12  -1.57182\n",
       "x13  -0.0628857\n",
       "x14   0.734974\n",
       "x15  -2.27063\n",
       "x16   0.206875\n",
       "x17   2.02448\n",
       "x18  -1.60878\n",
       "x19  -0.00957156\n",
       "x20  -2.91207\n",
       "x21   0.169914\n",
       "x22  -1.53004\n",
       "x23  -2.61506\n",
       "x24   0.408426\n",
       "x25  -3.81675\n",
       "x26  -0.032634\n",
       "────────────────\n"
      ]
     },
     "execution_count": 11,
     "metadata": {},
     "output_type": "execute_result"
    }
   ],
   "source": [
    "model2 = fit(LassoModel, expression, df; select=MinCVmse(Kfold(3, 2)))"
   ]
  },
  {
   "cell_type": "code",
   "execution_count": 12,
   "id": "b61be585-5f62-4474-8763-188bf132c026",
   "metadata": {},
   "outputs": [
    {
     "data": {
      "text/plain": [
       "2-element Vector{Float64}:\n",
       " 3.8372333050259337\n",
       " 4.716999591216132"
      ]
     },
     "execution_count": 12,
     "metadata": {},
     "output_type": "execute_result"
    }
   ],
   "source": [
    "beta_D2 = coef(model2)[2]\n",
    "ci_D2 = confint(model2)[2, :]"
   ]
  },
  {
   "cell_type": "markdown",
   "id": "27b58c82-42e8-4a46-b164-f3f095771bde",
   "metadata": {},
   "source": [
    "#### (3) Lasso - Theoretical Lambda"
   ]
  },
  {
   "cell_type": "code",
   "execution_count": 13,
   "id": "8b9b60b6-e891-48e1-927d-bda69a8d44cd",
   "metadata": {},
   "outputs": [
    {
     "name": "stderr",
     "output_type": "stream",
     "text": [
      "\u001b[32m\u001b[1m   Resolving\u001b[22m\u001b[39m package versions...\n",
      "\u001b[32m\u001b[1m  No Changes\u001b[22m\u001b[39m to `C:\\Users\\ALBERTO TRELLES\\.julia\\environments\\v1.10\\Project.toml`\n",
      "\u001b[32m\u001b[1m  No Changes\u001b[22m\u001b[39m to `C:\\Users\\ALBERTO TRELLES\\.julia\\environments\\v1.10\\Manifest.toml`\n"
     ]
    }
   ],
   "source": [
    "import Pkg; Pkg.add(\"HDMjl\")\n",
    "using HDMjl"
   ]
  },
  {
   "cell_type": "code",
   "execution_count": 16,
   "id": "0df6645a-4fd3-41cc-8033-ba22c4db4706",
   "metadata": {},
   "outputs": [
    {
     "ename": "LoadError",
     "evalue": "MethodError: no method matching +(::Float64, ::String3)\n\n\u001b[0mClosest candidates are:\n\u001b[0m  +(::Any, ::Any, \u001b[91m::Any\u001b[39m, \u001b[91m::Any...\u001b[39m)\n\u001b[0m\u001b[90m   @\u001b[39m \u001b[90mBase\u001b[39m \u001b[90m\u001b[4moperators.jl:587\u001b[24m\u001b[39m\n\u001b[0m  +(::Real, \u001b[91m::Complex{Bool}\u001b[39m)\n\u001b[0m\u001b[90m   @\u001b[39m \u001b[90mBase\u001b[39m \u001b[90m\u001b[4mcomplex.jl:319\u001b[24m\u001b[39m\n\u001b[0m  +(::Number, \u001b[91m::DualNumbers.Dual\u001b[39m)\n\u001b[0m\u001b[90m   @\u001b[39m \u001b[32mDualNumbers\u001b[39m \u001b[90mC:\\Users\\ALBERTO TRELLES\\.julia\\packages\\DualNumbers\\5knFX\\src\\\u001b[39m\u001b[90m\u001b[4mdual.jl:234\u001b[24m\u001b[39m\n\u001b[0m  ...\n",
     "output_type": "error",
     "traceback": [
      "MethodError: no method matching +(::Float64, ::String3)\n\n\u001b[0mClosest candidates are:\n\u001b[0m  +(::Any, ::Any, \u001b[91m::Any\u001b[39m, \u001b[91m::Any...\u001b[39m)\n\u001b[0m\u001b[90m   @\u001b[39m \u001b[90mBase\u001b[39m \u001b[90m\u001b[4moperators.jl:587\u001b[24m\u001b[39m\n\u001b[0m  +(::Real, \u001b[91m::Complex{Bool}\u001b[39m)\n\u001b[0m\u001b[90m   @\u001b[39m \u001b[90mBase\u001b[39m \u001b[90m\u001b[4mcomplex.jl:319\u001b[24m\u001b[39m\n\u001b[0m  +(::Number, \u001b[91m::DualNumbers.Dual\u001b[39m)\n\u001b[0m\u001b[90m   @\u001b[39m \u001b[32mDualNumbers\u001b[39m \u001b[90mC:\\Users\\ALBERTO TRELLES\\.julia\\packages\\DualNumbers\\5knFX\\src\\\u001b[39m\u001b[90m\u001b[4mdual.jl:234\u001b[24m\u001b[39m\n\u001b[0m  ...\n",
      "",
      "Stacktrace:",
      "  [1] add_sum(x::Float64, y::String3)",
      "    @ Base .\\reduce.jl:24",
      "  [2] macro expansion",
      "    @ .\\reduce.jl:265 [inlined]",
      "  [3] macro expansion",
      "    @ .\\simdloop.jl:77 [inlined]",
      "  [4] mapreduce_impl(f::Statistics.var\"#4#6\"{typeof(identity), Float64}, op::typeof(Base.add_sum), A::Matrix{Any}, ifirst::Int64, ilast::Int64, blksize::Int64)",
      "    @ Base .\\reduce.jl:263",
      "  [5] mapreduce_impl(f::Statistics.var\"#4#6\"{typeof(identity), Float64}, op::typeof(Base.add_sum), A::Matrix{Any}, ifirst::Int64, ilast::Int64, blksize::Int64)",
      "    @ Base .\\reduce.jl:271",
      "  [6] mapreduce_impl(f::Statistics.var\"#4#6\"{typeof(identity), Float64}, op::typeof(Base.add_sum), A::Matrix{Any}, ifirst::Int64, ilast::Int64, blksize::Int64)",
      "    @ Base .\\reduce.jl:272",
      "  [7] mapreduce_impl(f::Statistics.var\"#4#6\"{typeof(identity), Float64}, op::typeof(Base.add_sum), A::Matrix{Any}, ifirst::Int64, ilast::Int64, blksize::Int64) (repeats 3 times)",
      "    @ Base .\\reduce.jl:271",
      "  [8] mapreduce_impl(f::Statistics.var\"#4#6\"{typeof(identity), Float64}, op::typeof(Base.add_sum), A::Matrix{Any}, ifirst::Int64, ilast::Int64, blksize::Int64)",
      "    @ Base .\\reduce.jl:272",
      "  [9] mapreduce_impl(f::Statistics.var\"#4#6\"{typeof(identity), Float64}, op::typeof(Base.add_sum), A::Matrix{Any}, ifirst::Int64, ilast::Int64, blksize::Int64) (repeats 2 times)",
      "    @ Base .\\reduce.jl:271",
      " [10] mapreduce_impl",
      "    @ .\\reduce.jl:277 [inlined]",
      " [11] _mapreduce(f::Statistics.var\"#4#6\"{typeof(identity), Float64}, op::typeof(Base.add_sum), ::IndexLinear, A::Matrix{Any})",
      "    @ Base .\\reduce.jl:447",
      " [12] _mapreduce_dim",
      "    @ .\\reducedim.jl:365 [inlined]",
      " [13] mapreduce",
      "    @ .\\reducedim.jl:357 [inlined]",
      " [14] _sum",
      "    @ .\\reducedim.jl:1015 [inlined]",
      " [15] sum",
      "    @ .\\reducedim.jl:1011 [inlined]",
      " [16] _reducedim_init(f::Statistics.var\"#4#6\"{typeof(identity), Float64}, op::typeof(Base.add_sum), fv::typeof(zero), fop::typeof(sum), A::Matrix{Any}, region::Int64)",
      "    @ Base .\\reducedim.jl:120",
      " [17] reducedim_init(f::Function, op::typeof(Base.add_sum), A::Matrix{Any}, region::Int64)",
      "    @ Base .\\reducedim.jl:108",
      " [18] _mapreduce_dim(f::Function, op::Function, ::Base._InitialValue, A::Matrix{Any}, dims::Int64)",
      "    @ Base .\\reducedim.jl:371",
      " [19] mapreduce",
      "    @ .\\reducedim.jl:357 [inlined]",
      " [20] _sum",
      "    @ .\\reducedim.jl:1039 [inlined]",
      " [21] sum",
      "    @ .\\reducedim.jl:1011 [inlined]",
      " [22] _mean(f::typeof(identity), A::Matrix{Any}, dims::Int64)",
      "    @ Statistics C:\\Users\\ALBERTO TRELLES\\AppData\\Local\\Programs\\Julia-1.10.2\\share\\julia\\stdlib\\v1.10\\Statistics\\src\\Statistics.jl:187",
      " [23] #mean#2",
      "    @ C:\\Users\\ALBERTO TRELLES\\AppData\\Local\\Programs\\Julia-1.10.2\\share\\julia\\stdlib\\v1.10\\Statistics\\src\\Statistics.jl:174 [inlined]",
      " [24] rlasso(x::DataFrame, y::Vector{Float64}; post::Bool, intercept::Bool, model::Bool, homoskedastic::Bool, X_dependent_lambda::Bool, lambda_start::Nothing, c::Float64, maxIter::Int64, tol::Float64, n::Int64, gamma::Float64, threshold::Nothing)",
      "    @ HDMjl C:\\Users\\ALBERTO TRELLES\\.julia\\packages\\HDMjl\\aG9BB\\src\\rlasso.jl:46",
      " [25] top-level scope",
      "    @ In[16]:4"
     ]
    }
   ],
   "source": [
    "X = df[:, 2:end]\n",
    "Y = df[:, 1]\n",
    "\n",
    "model3 = rlasso(X, Y, post = false)"
   ]
  },
  {
   "cell_type": "code",
   "execution_count": null,
   "id": "ab29b722-8b4e-4466-948e-a36f01d4f296",
   "metadata": {},
   "outputs": [],
   "source": []
  },
  {
   "cell_type": "code",
   "execution_count": null,
   "id": "6554548b-73d8-403f-9c00-f687191dd35a",
   "metadata": {},
   "outputs": [],
   "source": []
  }
 ],
 "metadata": {
  "kernelspec": {
   "display_name": "Julia 1.10.2",
   "language": "julia",
   "name": "julia-1.10"
  },
  "language_info": {
   "file_extension": ".jl",
   "mimetype": "application/julia",
   "name": "julia",
   "version": "1.10.2"
  }
 },
 "nbformat": 4,
 "nbformat_minor": 5
}
