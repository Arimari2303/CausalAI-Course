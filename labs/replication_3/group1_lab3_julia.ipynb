{
 "cells": [
  {
   "cell_type": "markdown",
   "id": "3ef7d780-4726-4f07-8f02-3ff43219b133",
   "metadata": {},
   "source": [
    "**Double Lasso - Using School data**"
   ]
  },
  {
   "cell_type": "code",
   "execution_count": 100,
   "id": "20a4ad94-a6b3-483b-9409-da62de8b1284",
   "metadata": {},
   "outputs": [
    {
     "name": "stderr",
     "output_type": "stream",
     "text": [
      "\u001b[32m\u001b[1m   Resolving\u001b[22m\u001b[39m package versions...\n",
      "\u001b[32m\u001b[1m  No Changes\u001b[22m\u001b[39m to `C:\\Users\\Alvaro\\.julia\\environments\\v1.11\\Project.toml`\n",
      "\u001b[32m\u001b[1m  No Changes\u001b[22m\u001b[39m to `C:\\Users\\Alvaro\\.julia\\environments\\v1.11\\Manifest.toml`\n",
      "\u001b[32m\u001b[1m   Resolving\u001b[22m\u001b[39m package versions...\n",
      "\u001b[32m\u001b[1m  No Changes\u001b[22m\u001b[39m to `C:\\Users\\Alvaro\\.julia\\environments\\v1.11\\Project.toml`\n",
      "\u001b[32m\u001b[1m  No Changes\u001b[22m\u001b[39m to `C:\\Users\\Alvaro\\.julia\\environments\\v1.11\\Manifest.toml`\n",
      "\u001b[32m\u001b[1m   Resolving\u001b[22m\u001b[39m package versions...\n",
      "\u001b[32m\u001b[1m  No Changes\u001b[22m\u001b[39m to `C:\\Users\\Alvaro\\.julia\\environments\\v1.11\\Project.toml`\n",
      "\u001b[32m\u001b[1m  No Changes\u001b[22m\u001b[39m to `C:\\Users\\Alvaro\\.julia\\environments\\v1.11\\Manifest.toml`\n",
      "\u001b[32m\u001b[1m   Resolving\u001b[22m\u001b[39m package versions...\n",
      "\u001b[32m\u001b[1m  No Changes\u001b[22m\u001b[39m to `C:\\Users\\Alvaro\\.julia\\environments\\v1.11\\Project.toml`\n",
      "\u001b[32m\u001b[1m  No Changes\u001b[22m\u001b[39m to `C:\\Users\\Alvaro\\.julia\\environments\\v1.11\\Manifest.toml`\n",
      "\u001b[32m\u001b[1m   Resolving\u001b[22m\u001b[39m package versions...\n",
      "\u001b[32m\u001b[1m  No Changes\u001b[22m\u001b[39m to `C:\\Users\\Alvaro\\.julia\\environments\\v1.11\\Project.toml`\n",
      "\u001b[32m\u001b[1m  No Changes\u001b[22m\u001b[39m to `C:\\Users\\Alvaro\\.julia\\environments\\v1.11\\Manifest.toml`\n",
      "\u001b[32m\u001b[1m   Resolving\u001b[22m\u001b[39m package versions...\n",
      "\u001b[32m\u001b[1m  No Changes\u001b[22m\u001b[39m to `C:\\Users\\Alvaro\\.julia\\environments\\v1.11\\Project.toml`\n",
      "\u001b[32m\u001b[1m  No Changes\u001b[22m\u001b[39m to `C:\\Users\\Alvaro\\.julia\\environments\\v1.11\\Manifest.toml`\n",
      "\u001b[32m\u001b[1m   Resolving\u001b[22m\u001b[39m package versions...\n",
      "\u001b[32m\u001b[1m  No Changes\u001b[22m\u001b[39m to `C:\\Users\\Alvaro\\.julia\\environments\\v1.11\\Project.toml`\n",
      "\u001b[32m\u001b[1m  No Changes\u001b[22m\u001b[39m to `C:\\Users\\Alvaro\\.julia\\environments\\v1.11\\Manifest.toml`\n",
      "\u001b[32m\u001b[1m   Resolving\u001b[22m\u001b[39m package versions...\n",
      "\u001b[32m\u001b[1m  No Changes\u001b[22m\u001b[39m to `C:\\Users\\Alvaro\\.julia\\environments\\v1.11\\Project.toml`\n",
      "\u001b[32m\u001b[1m  No Changes\u001b[22m\u001b[39m to `C:\\Users\\Alvaro\\.julia\\environments\\v1.11\\Manifest.toml`\n",
      "\u001b[32m\u001b[1m   Resolving\u001b[22m\u001b[39m package versions...\n",
      "\u001b[32m\u001b[1m  No Changes\u001b[22m\u001b[39m to `C:\\Users\\Alvaro\\.julia\\environments\\v1.11\\Project.toml`\n",
      "\u001b[32m\u001b[1m  No Changes\u001b[22m\u001b[39m to `C:\\Users\\Alvaro\\.julia\\environments\\v1.11\\Manifest.toml`\n",
      "\u001b[32m\u001b[1m   Resolving\u001b[22m\u001b[39m package versions...\n",
      "\u001b[32m\u001b[1m    Updating\u001b[22m\u001b[39m `C:\\Users\\Alvaro\\.julia\\environments\\v1.11\\Project.toml`\n",
      "  \u001b[90m[31c24e10] \u001b[39m\u001b[92m+ Distributions v0.25.108\u001b[39m\n",
      "\u001b[32m\u001b[1m  No Changes\u001b[22m\u001b[39m to `C:\\Users\\Alvaro\\.julia\\environments\\v1.11\\Manifest.toml`\n"
     ]
    }
   ],
   "source": [
    "import Pkg\n",
    "Pkg.add(\"DataFrames\")\n",
    "Pkg.add(\"CausalInference\")\n",
    "Pkg.add(\"CSV\")\n",
    "Pkg.add(\"Plots\")\n",
    "Pkg.add(\"Lasso\")\n",
    "Pkg.add(\"HDMjl\")\n",
    "Pkg.add(\"DataStructures\")\n",
    "Pkg.add(\"NamedArrays\")\n",
    "Pkg.add(\"PrettyTables\")\n",
    "Pkg.add(\"Distributions\")\n",
    "using RData, LinearAlgebra, GLM, DataFrames, Statistics, Random, Distributions, DataStructures, NamedArrays, PrettyTables, CSV, Plots, Dates, HDMjl\n"
   ]
  },
  {
   "cell_type": "markdown",
   "id": "f9d7c4d4-c54d-482b-9845-a47cac38d64f",
   "metadata": {},
   "source": []
  },
  {
   "cell_type": "code",
   "execution_count": 88,
   "id": "596adc5a-f5cb-41b8-9ea1-d4c6dc8a1eaf",
   "metadata": {},
   "outputs": [
    {
     "data": {
      "text/html": [
       "<div><div style = \"float: left;\"><span>10×16 DataFrame</span></div><div style = \"clear: both;\"></div></div><div class = \"data-frame\" style = \"overflow-x: scroll;\"><table class = \"data-frame\" style = \"margin-bottom: 6px;\"><thead><tr class = \"header\"><th class = \"rowNumber\" style = \"font-weight: bold; text-align: right;\">Row</th><th style = \"text-align: left;\">outcome.test.score</th><th style = \"text-align: left;\">treatment</th><th style = \"text-align: left;\">school</th><th style = \"text-align: left;\">is.female</th><th style = \"text-align: left;\">mother.attended.secondary.school</th><th style = \"text-align: left;\">father.attened.secondary.school</th><th style = \"text-align: left;\">failed.at.least.one.school.year</th><th style = \"text-align: left;\">family.receives.cash.transfer</th><th style = \"text-align: left;\">has.computer.with.internet.at.home</th><th style = \"text-align: left;\">is.unemployed</th><th style = \"text-align: left;\">has.some.form.of.income</th><th style = \"text-align: left;\">saves.money.for.future.purchases</th><th style = \"text-align: left;\">intention.to.save.index</th><th style = \"text-align: left;\">makes.list.of.expenses.every.month</th><th style = \"text-align: left;\">negotiates.prices.or.payment.methods</th><th style = \"text-align: left;\">fincial.autonomy.index</th></tr><tr class = \"subheader headerLastRow\"><th class = \"rowNumber\" style = \"font-weight: bold; text-align: right;\"></th><th title = \"Float64\" style = \"text-align: left;\">Float64</th><th title = \"Int64\" style = \"text-align: left;\">Int64</th><th title = \"Int64\" style = \"text-align: left;\">Int64</th><th title = \"Union{Missing, Int64}\" style = \"text-align: left;\">Int64?</th><th title = \"Union{Missing, Int64}\" style = \"text-align: left;\">Int64?</th><th title = \"Union{Missing, Int64}\" style = \"text-align: left;\">Int64?</th><th title = \"Union{Missing, Int64}\" style = \"text-align: left;\">Int64?</th><th title = \"Union{Missing, Int64}\" style = \"text-align: left;\">Int64?</th><th title = \"Union{Missing, Int64}\" style = \"text-align: left;\">Int64?</th><th title = \"Union{Missing, Int64}\" style = \"text-align: left;\">Int64?</th><th title = \"Union{Missing, Int64}\" style = \"text-align: left;\">Int64?</th><th title = \"Union{Missing, Int64}\" style = \"text-align: left;\">Int64?</th><th title = \"Union{Missing, Int64}\" style = \"text-align: left;\">Int64?</th><th title = \"Union{Missing, Int64}\" style = \"text-align: left;\">Int64?</th><th title = \"Union{Missing, Int64}\" style = \"text-align: left;\">Int64?</th><th title = \"Union{Missing, Int64}\" style = \"text-align: left;\">Int64?</th></tr></thead><tbody><tr><td class = \"rowNumber\" style = \"font-weight: bold; text-align: right;\">1</td><td style = \"text-align: right;\">47.3674</td><td style = \"text-align: right;\">0</td><td style = \"text-align: right;\">17018390</td><td style = \"font-style: italic; text-align: right;\">missing</td><td style = \"font-style: italic; text-align: right;\">missing</td><td style = \"font-style: italic; text-align: right;\">missing</td><td style = \"font-style: italic; text-align: right;\">missing</td><td style = \"font-style: italic; text-align: right;\">missing</td><td style = \"font-style: italic; text-align: right;\">missing</td><td style = \"text-align: right;\">1</td><td style = \"text-align: right;\">1</td><td style = \"text-align: right;\">0</td><td style = \"text-align: right;\">29</td><td style = \"text-align: right;\">0</td><td style = \"text-align: right;\">1</td><td style = \"text-align: right;\">52</td></tr><tr><td class = \"rowNumber\" style = \"font-weight: bold; text-align: right;\">2</td><td style = \"text-align: right;\">58.1768</td><td style = \"text-align: right;\">1</td><td style = \"text-align: right;\">33002614</td><td style = \"font-style: italic; text-align: right;\">missing</td><td style = \"font-style: italic; text-align: right;\">missing</td><td style = \"font-style: italic; text-align: right;\">missing</td><td style = \"font-style: italic; text-align: right;\">missing</td><td style = \"font-style: italic; text-align: right;\">missing</td><td style = \"font-style: italic; text-align: right;\">missing</td><td style = \"text-align: right;\">0</td><td style = \"text-align: right;\">0</td><td style = \"text-align: right;\">0</td><td style = \"text-align: right;\">41</td><td style = \"text-align: right;\">0</td><td style = \"text-align: right;\">0</td><td style = \"text-align: right;\">27</td></tr><tr><td class = \"rowNumber\" style = \"font-weight: bold; text-align: right;\">3</td><td style = \"text-align: right;\">56.6717</td><td style = \"text-align: right;\">1</td><td style = \"text-align: right;\">35002914</td><td style = \"text-align: right;\">1</td><td style = \"text-align: right;\">1</td><td style = \"text-align: right;\">1</td><td style = \"text-align: right;\">0</td><td style = \"text-align: right;\">0</td><td style = \"text-align: right;\">0</td><td style = \"text-align: right;\">1</td><td style = \"text-align: right;\">0</td><td style = \"text-align: right;\">0</td><td style = \"text-align: right;\">48</td><td style = \"text-align: right;\">0</td><td style = \"text-align: right;\">1</td><td style = \"text-align: right;\">56</td></tr><tr><td class = \"rowNumber\" style = \"font-weight: bold; text-align: right;\">4</td><td style = \"text-align: right;\">29.0794</td><td style = \"text-align: right;\">0</td><td style = \"text-align: right;\">35908915</td><td style = \"text-align: right;\">1</td><td style = \"text-align: right;\">0</td><td style = \"text-align: right;\">0</td><td style = \"text-align: right;\">0</td><td style = \"text-align: right;\">0</td><td style = \"text-align: right;\">0</td><td style = \"text-align: right;\">0</td><td style = \"text-align: right;\">0</td><td style = \"text-align: right;\">0</td><td style = \"text-align: right;\">42</td><td style = \"text-align: right;\">0</td><td style = \"text-align: right;\">0</td><td style = \"text-align: right;\">27</td></tr><tr><td class = \"rowNumber\" style = \"font-weight: bold; text-align: right;\">5</td><td style = \"text-align: right;\">49.5635</td><td style = \"text-align: right;\">1</td><td style = \"text-align: right;\">33047324</td><td style = \"text-align: right;\">1</td><td style = \"text-align: right;\">0</td><td style = \"text-align: right;\">0</td><td style = \"text-align: right;\">0</td><td style = \"text-align: right;\">0</td><td style = \"text-align: right;\">1</td><td style = \"text-align: right;\">0</td><td style = \"text-align: right;\">1</td><td style = \"text-align: right;\">0</td><td style = \"text-align: right;\">50</td><td style = \"text-align: right;\">0</td><td style = \"text-align: right;\">1</td><td style = \"text-align: right;\">31</td></tr><tr><td class = \"rowNumber\" style = \"font-weight: bold; text-align: right;\">6</td><td style = \"text-align: right;\">43.0994</td><td style = \"text-align: right;\">0</td><td style = \"text-align: right;\">53012542</td><td style = \"text-align: right;\">1</td><td style = \"text-align: right;\">0</td><td style = \"text-align: right;\">0</td><td style = \"text-align: right;\">0</td><td style = \"text-align: right;\">1</td><td style = \"text-align: right;\">1</td><td style = \"text-align: right;\">0</td><td style = \"text-align: right;\">1</td><td style = \"text-align: right;\">0</td><td style = \"text-align: right;\">93</td><td style = \"text-align: right;\">0</td><td style = \"text-align: right;\">1</td><td style = \"text-align: right;\">77</td></tr><tr><td class = \"rowNumber\" style = \"font-weight: bold; text-align: right;\">7</td><td style = \"text-align: right;\">71.3296</td><td style = \"text-align: right;\">0</td><td style = \"text-align: right;\">53006984</td><td style = \"text-align: right;\">1</td><td style = \"text-align: right;\">1</td><td style = \"text-align: right;\">0</td><td style = \"text-align: right;\">0</td><td style = \"text-align: right;\">0</td><td style = \"text-align: right;\">1</td><td style = \"text-align: right;\">1</td><td style = \"text-align: right;\">1</td><td style = \"text-align: right;\">0</td><td style = \"text-align: right;\">52</td><td style = \"text-align: right;\">0</td><td style = \"text-align: right;\">1</td><td style = \"text-align: right;\">43</td></tr><tr><td class = \"rowNumber\" style = \"font-weight: bold; text-align: right;\">8</td><td style = \"text-align: right;\">80.0634</td><td style = \"text-align: right;\">0</td><td style = \"text-align: right;\">33049475</td><td style = \"text-align: right;\">1</td><td style = \"text-align: right;\">1</td><td style = \"text-align: right;\">1</td><td style = \"text-align: right;\">0</td><td style = \"text-align: right;\">0</td><td style = \"text-align: right;\">0</td><td style = \"text-align: right;\">0</td><td style = \"text-align: right;\">1</td><td style = \"text-align: right;\">0</td><td style = \"text-align: right;\">50</td><td style = \"text-align: right;\">0</td><td style = \"text-align: right;\">0</td><td style = \"text-align: right;\">31</td></tr><tr><td class = \"rowNumber\" style = \"font-weight: bold; text-align: right;\">9</td><td style = \"text-align: right;\">88.7516</td><td style = \"text-align: right;\">1</td><td style = \"text-align: right;\">35925639</td><td style = \"text-align: right;\">1</td><td style = \"text-align: right;\">1</td><td style = \"text-align: right;\">0</td><td style = \"text-align: right;\">0</td><td style = \"text-align: right;\">0</td><td style = \"text-align: right;\">0</td><td style = \"text-align: right;\">0</td><td style = \"text-align: right;\">0</td><td style = \"text-align: right;\">0</td><td style = \"text-align: right;\">59</td><td style = \"text-align: right;\">0</td><td style = \"text-align: right;\">1</td><td style = \"text-align: right;\">50</td></tr><tr><td class = \"rowNumber\" style = \"font-weight: bold; text-align: right;\">10</td><td style = \"text-align: right;\">61.4361</td><td style = \"text-align: right;\">1</td><td style = \"text-align: right;\">35008758</td><td style = \"text-align: right;\">1</td><td style = \"text-align: right;\">0</td><td style = \"text-align: right;\">0</td><td style = \"text-align: right;\">0</td><td style = \"text-align: right;\">0</td><td style = \"text-align: right;\">1</td><td style = \"text-align: right;\">1</td><td style = \"text-align: right;\">1</td><td style = \"text-align: right;\">0</td><td style = \"text-align: right;\">44</td><td style = \"text-align: right;\">0</td><td style = \"text-align: right;\">1</td><td style = \"text-align: right;\">14</td></tr></tbody></table></div>"
      ],
      "text/latex": [
       "\\begin{tabular}{r|cccccc}\n",
       "\t& outcome.test.score & treatment & school & is.female & mother.attended.secondary.school & \\\\\n",
       "\t\\hline\n",
       "\t& Float64 & Int64 & Int64 & Int64? & Int64? & \\\\\n",
       "\t\\hline\n",
       "\t1 & 47.3674 & 0 & 17018390 & \\emph{missing} & \\emph{missing} & $\\dots$ \\\\\n",
       "\t2 & 58.1768 & 1 & 33002614 & \\emph{missing} & \\emph{missing} & $\\dots$ \\\\\n",
       "\t3 & 56.6717 & 1 & 35002914 & 1 & 1 & $\\dots$ \\\\\n",
       "\t4 & 29.0794 & 0 & 35908915 & 1 & 0 & $\\dots$ \\\\\n",
       "\t5 & 49.5635 & 1 & 33047324 & 1 & 0 & $\\dots$ \\\\\n",
       "\t6 & 43.0994 & 0 & 53012542 & 1 & 0 & $\\dots$ \\\\\n",
       "\t7 & 71.3296 & 0 & 53006984 & 1 & 1 & $\\dots$ \\\\\n",
       "\t8 & 80.0634 & 0 & 33049475 & 1 & 1 & $\\dots$ \\\\\n",
       "\t9 & 88.7516 & 1 & 35925639 & 1 & 1 & $\\dots$ \\\\\n",
       "\t10 & 61.4361 & 1 & 35008758 & 1 & 0 & $\\dots$ \\\\\n",
       "\\end{tabular}\n"
      ],
      "text/plain": [
       "\u001b[1m10×16 DataFrame\u001b[0m\n",
       "\u001b[1m Row \u001b[0m│\u001b[1m outcome.test.score \u001b[0m\u001b[1m treatment \u001b[0m\u001b[1m school   \u001b[0m\u001b[1m is.female \u001b[0m\u001b[1m mother.attended.sec\u001b[0m ⋯\n",
       "     │\u001b[90m Float64            \u001b[0m\u001b[90m Int64     \u001b[0m\u001b[90m Int64    \u001b[0m\u001b[90m Int64?    \u001b[0m\u001b[90m Int64?             \u001b[0m ⋯\n",
       "─────┼──────────────────────────────────────────────────────────────────────────\n",
       "   1 │            47.3674          0  17018390 \u001b[90m   missing \u001b[0m\u001b[90m                    \u001b[0m ⋯\n",
       "   2 │            58.1768          1  33002614 \u001b[90m   missing \u001b[0m\u001b[90m                    \u001b[0m\n",
       "   3 │            56.6717          1  35002914          1\n",
       "   4 │            29.0794          0  35908915          1\n",
       "   5 │            49.5635          1  33047324          1                      ⋯\n",
       "   6 │            43.0994          0  53012542          1\n",
       "   7 │            71.3296          0  53006984          1\n",
       "   8 │            80.0634          0  33049475          1\n",
       "   9 │            88.7516          1  35925639          1                      ⋯\n",
       "  10 │            61.4361          1  35008758          1\n",
       "\u001b[36m                                                              12 columns omitted\u001b[0m"
      ]
     },
     "execution_count": 88,
     "metadata": {},
     "output_type": "execute_result"
    }
   ],
   "source": [
    "#Reading CSV file\n",
    "data = CSV.read(\"data/bruhn2016.csv\", DataFrame)\n",
    "first(data,10)"
   ]
  },
  {
   "cell_type": "code",
   "execution_count": 89,
   "id": "3c28e12a-0786-4916-aaaf-f331c28191e0",
   "metadata": {},
   "outputs": [
    {
     "data": {
      "text/html": [
       "<div><div style = \"float: left;\"><span>10×9 DataFrame</span></div><div style = \"clear: both;\"></div></div><div class = \"data-frame\" style = \"overflow-x: scroll;\"><table class = \"data-frame\" style = \"margin-bottom: 6px;\"><thead><tr class = \"header\"><th class = \"rowNumber\" style = \"font-weight: bold; text-align: right;\">Row</th><th style = \"text-align: left;\">outcome</th><th style = \"text-align: left;\">treatment</th><th style = \"text-align: left;\">school</th><th style = \"text-align: left;\">female</th><th style = \"text-align: left;\">mother_secondary</th><th style = \"text-align: left;\">father_secondary</th><th style = \"text-align: left;\">failed_one_year</th><th style = \"text-align: left;\">cash_transfer</th><th style = \"text-align: left;\">computer</th></tr><tr class = \"subheader headerLastRow\"><th class = \"rowNumber\" style = \"font-weight: bold; text-align: right;\"></th><th title = \"Float64\" style = \"text-align: left;\">Float64</th><th title = \"Int64\" style = \"text-align: left;\">Int64</th><th title = \"Int64\" style = \"text-align: left;\">Int64</th><th title = \"Union{Missing, Int64}\" style = \"text-align: left;\">Int64?</th><th title = \"Union{Missing, Int64}\" style = \"text-align: left;\">Int64?</th><th title = \"Union{Missing, Int64}\" style = \"text-align: left;\">Int64?</th><th title = \"Union{Missing, Int64}\" style = \"text-align: left;\">Int64?</th><th title = \"Union{Missing, Int64}\" style = \"text-align: left;\">Int64?</th><th title = \"Union{Missing, Int64}\" style = \"text-align: left;\">Int64?</th></tr></thead><tbody><tr><td class = \"rowNumber\" style = \"font-weight: bold; text-align: right;\">1</td><td style = \"text-align: right;\">47.3674</td><td style = \"text-align: right;\">0</td><td style = \"text-align: right;\">1</td><td style = \"font-style: italic; text-align: right;\">missing</td><td style = \"font-style: italic; text-align: right;\">missing</td><td style = \"font-style: italic; text-align: right;\">missing</td><td style = \"font-style: italic; text-align: right;\">missing</td><td style = \"font-style: italic; text-align: right;\">missing</td><td style = \"font-style: italic; text-align: right;\">missing</td></tr><tr><td class = \"rowNumber\" style = \"font-weight: bold; text-align: right;\">2</td><td style = \"text-align: right;\">58.1768</td><td style = \"text-align: right;\">1</td><td style = \"text-align: right;\">2</td><td style = \"font-style: italic; text-align: right;\">missing</td><td style = \"font-style: italic; text-align: right;\">missing</td><td style = \"font-style: italic; text-align: right;\">missing</td><td style = \"font-style: italic; text-align: right;\">missing</td><td style = \"font-style: italic; text-align: right;\">missing</td><td style = \"font-style: italic; text-align: right;\">missing</td></tr><tr><td class = \"rowNumber\" style = \"font-weight: bold; text-align: right;\">3</td><td style = \"text-align: right;\">56.6717</td><td style = \"text-align: right;\">1</td><td style = \"text-align: right;\">3</td><td style = \"text-align: right;\">1</td><td style = \"text-align: right;\">1</td><td style = \"text-align: right;\">1</td><td style = \"text-align: right;\">0</td><td style = \"text-align: right;\">0</td><td style = \"text-align: right;\">0</td></tr><tr><td class = \"rowNumber\" style = \"font-weight: bold; text-align: right;\">4</td><td style = \"text-align: right;\">29.0794</td><td style = \"text-align: right;\">0</td><td style = \"text-align: right;\">4</td><td style = \"text-align: right;\">1</td><td style = \"text-align: right;\">0</td><td style = \"text-align: right;\">0</td><td style = \"text-align: right;\">0</td><td style = \"text-align: right;\">0</td><td style = \"text-align: right;\">0</td></tr><tr><td class = \"rowNumber\" style = \"font-weight: bold; text-align: right;\">5</td><td style = \"text-align: right;\">49.5635</td><td style = \"text-align: right;\">1</td><td style = \"text-align: right;\">5</td><td style = \"text-align: right;\">1</td><td style = \"text-align: right;\">0</td><td style = \"text-align: right;\">0</td><td style = \"text-align: right;\">0</td><td style = \"text-align: right;\">0</td><td style = \"text-align: right;\">1</td></tr><tr><td class = \"rowNumber\" style = \"font-weight: bold; text-align: right;\">6</td><td style = \"text-align: right;\">43.0994</td><td style = \"text-align: right;\">0</td><td style = \"text-align: right;\">6</td><td style = \"text-align: right;\">1</td><td style = \"text-align: right;\">0</td><td style = \"text-align: right;\">0</td><td style = \"text-align: right;\">0</td><td style = \"text-align: right;\">1</td><td style = \"text-align: right;\">1</td></tr><tr><td class = \"rowNumber\" style = \"font-weight: bold; text-align: right;\">7</td><td style = \"text-align: right;\">71.3296</td><td style = \"text-align: right;\">0</td><td style = \"text-align: right;\">7</td><td style = \"text-align: right;\">1</td><td style = \"text-align: right;\">1</td><td style = \"text-align: right;\">0</td><td style = \"text-align: right;\">0</td><td style = \"text-align: right;\">0</td><td style = \"text-align: right;\">1</td></tr><tr><td class = \"rowNumber\" style = \"font-weight: bold; text-align: right;\">8</td><td style = \"text-align: right;\">80.0634</td><td style = \"text-align: right;\">0</td><td style = \"text-align: right;\">8</td><td style = \"text-align: right;\">1</td><td style = \"text-align: right;\">1</td><td style = \"text-align: right;\">1</td><td style = \"text-align: right;\">0</td><td style = \"text-align: right;\">0</td><td style = \"text-align: right;\">0</td></tr><tr><td class = \"rowNumber\" style = \"font-weight: bold; text-align: right;\">9</td><td style = \"text-align: right;\">88.7516</td><td style = \"text-align: right;\">1</td><td style = \"text-align: right;\">9</td><td style = \"text-align: right;\">1</td><td style = \"text-align: right;\">1</td><td style = \"text-align: right;\">0</td><td style = \"text-align: right;\">0</td><td style = \"text-align: right;\">0</td><td style = \"text-align: right;\">0</td></tr><tr><td class = \"rowNumber\" style = \"font-weight: bold; text-align: right;\">10</td><td style = \"text-align: right;\">61.4361</td><td style = \"text-align: right;\">1</td><td style = \"text-align: right;\">10</td><td style = \"text-align: right;\">1</td><td style = \"text-align: right;\">0</td><td style = \"text-align: right;\">0</td><td style = \"text-align: right;\">0</td><td style = \"text-align: right;\">0</td><td style = \"text-align: right;\">1</td></tr></tbody></table></div>"
      ],
      "text/latex": [
       "\\begin{tabular}{r|cccccccc}\n",
       "\t& outcome & treatment & school & female & mother\\_secondary & father\\_secondary & failed\\_one\\_year & \\\\\n",
       "\t\\hline\n",
       "\t& Float64 & Int64 & Int64 & Int64? & Int64? & Int64? & Int64? & \\\\\n",
       "\t\\hline\n",
       "\t1 & 47.3674 & 0 & 1 & \\emph{missing} & \\emph{missing} & \\emph{missing} & \\emph{missing} & $\\dots$ \\\\\n",
       "\t2 & 58.1768 & 1 & 2 & \\emph{missing} & \\emph{missing} & \\emph{missing} & \\emph{missing} & $\\dots$ \\\\\n",
       "\t3 & 56.6717 & 1 & 3 & 1 & 1 & 1 & 0 & $\\dots$ \\\\\n",
       "\t4 & 29.0794 & 0 & 4 & 1 & 0 & 0 & 0 & $\\dots$ \\\\\n",
       "\t5 & 49.5635 & 1 & 5 & 1 & 0 & 0 & 0 & $\\dots$ \\\\\n",
       "\t6 & 43.0994 & 0 & 6 & 1 & 0 & 0 & 0 & $\\dots$ \\\\\n",
       "\t7 & 71.3296 & 0 & 7 & 1 & 1 & 0 & 0 & $\\dots$ \\\\\n",
       "\t8 & 80.0634 & 0 & 8 & 1 & 1 & 1 & 0 & $\\dots$ \\\\\n",
       "\t9 & 88.7516 & 1 & 9 & 1 & 1 & 0 & 0 & $\\dots$ \\\\\n",
       "\t10 & 61.4361 & 1 & 10 & 1 & 0 & 0 & 0 & $\\dots$ \\\\\n",
       "\\end{tabular}\n"
      ],
      "text/plain": [
       "\u001b[1m10×9 DataFrame\u001b[0m\n",
       "\u001b[1m Row \u001b[0m│\u001b[1m outcome \u001b[0m\u001b[1m treatment \u001b[0m\u001b[1m school \u001b[0m\u001b[1m female  \u001b[0m\u001b[1m mother_secondary \u001b[0m\u001b[1m father_secondary\u001b[0m ⋯\n",
       "     │\u001b[90m Float64 \u001b[0m\u001b[90m Int64     \u001b[0m\u001b[90m Int64  \u001b[0m\u001b[90m Int64?  \u001b[0m\u001b[90m Int64?           \u001b[0m\u001b[90m Int64?          \u001b[0m ⋯\n",
       "─────┼──────────────────────────────────────────────────────────────────────────\n",
       "   1 │ 47.3674          0       1 \u001b[90m missing \u001b[0m\u001b[90m          missing \u001b[0m\u001b[90m          missing\u001b[0m ⋯\n",
       "   2 │ 58.1768          1       2 \u001b[90m missing \u001b[0m\u001b[90m          missing \u001b[0m\u001b[90m          missing\u001b[0m\n",
       "   3 │ 56.6717          1       3        1                 1                 1\n",
       "   4 │ 29.0794          0       4        1                 0                 0\n",
       "   5 │ 49.5635          1       5        1                 0                 0 ⋯\n",
       "   6 │ 43.0994          0       6        1                 0                 0\n",
       "   7 │ 71.3296          0       7        1                 1                 0\n",
       "   8 │ 80.0634          0       8        1                 1                 1\n",
       "   9 │ 88.7516          1       9        1                 1                 0 ⋯\n",
       "  10 │ 61.4361          1      10        1                 0                 0\n",
       "\u001b[36m                                                               3 columns omitted\u001b[0m"
      ]
     },
     "execution_count": 89,
     "metadata": {},
     "output_type": "execute_result"
    }
   ],
   "source": [
    "#Los nombres de las variables hacen clash con las originales de CSV, asi que las cambiamos\n",
    "outcome = data[!,\"outcome.test.score\"]\n",
    "outcome = DataFrame([outcome],[:outcome])\n",
    "treatment = data[!,\"treatment\"]\n",
    "treatment = DataFrame([treatment],[:treatment])\n",
    "#Codigo Para Convetir los valores de escuela en ID unica\n",
    "school = data[!,\"school\"]\n",
    "c = unique(school)\n",
    "cd = eachrow(c)\n",
    "d = size(school)[1]\n",
    "for i in c\n",
    "    row_in_c = findall(x -> x == i, c)[1]\n",
    "    school[school.==i] .= row_in_c\n",
    "end\n",
    "school = DataFrame([school],[:school])\n",
    "female = data[!,\"is.female\"]\n",
    "female = DataFrame([female],[:female])\n",
    "mother_secondary = data[!,\"mother.attended.secondary.school\"]\n",
    "mother_secondary = DataFrame([mother_secondary],[:mother_secondary])\n",
    "father_secondary = data[!,\"father.attened.secondary.school\"]\n",
    "father_secondary = DataFrame([father_secondary],[:father_secondary])\n",
    "failed_one_year = data[!,\"failed.at.least.one.school.year\"]\n",
    "failed_one_year = DataFrame([failed_one_year],[:failed_one_year])\n",
    "cash_transfer = data[!,\"family.receives.cash.transfer\"]\n",
    "cash_transfer = DataFrame([cash_transfer],[:cash_transfer])\n",
    "computer = data[!,\"has.computer.with.internet.at.home\"]\n",
    "computer = DataFrame([computer],[:computer])\n",
    "financial_index = data[!,\"fincial.autonomy.index\"]\n",
    "financial_index = DataFrame([financial_index],[:financial_index])\n",
    "data = [outcome treatment school female mother_secondary father_secondary failed_one_year cash_transfer computer]\n",
    "first(data,15)"
   ]
  },
  {
   "cell_type": "code",
   "execution_count": null,
   "id": "94d79f28-36dd-49de-9d03-bd10e92aa60f",
   "metadata": {},
   "outputs": [],
   "source": []
  },
  {
   "cell_type": "code",
   "execution_count": 90,
   "id": "126384e5-eafd-475e-9339-5ed2bac09f30",
   "metadata": {},
   "outputs": [
    {
     "data": {
      "text/html": [
       "<div><div style = \"float: left;\"><span>20×9 DataFrame</span></div><div style = \"clear: both;\"></div></div><div class = \"data-frame\" style = \"overflow-x: scroll;\"><table class = \"data-frame\" style = \"margin-bottom: 6px;\"><thead><tr class = \"header\"><th class = \"rowNumber\" style = \"font-weight: bold; text-align: right;\">Row</th><th style = \"text-align: left;\">outcome</th><th style = \"text-align: left;\">treatment</th><th style = \"text-align: left;\">school</th><th style = \"text-align: left;\">female</th><th style = \"text-align: left;\">mother_secondary</th><th style = \"text-align: left;\">father_secondary</th><th style = \"text-align: left;\">failed_one_year</th><th style = \"text-align: left;\">cash_transfer</th><th style = \"text-align: left;\">computer</th></tr><tr class = \"subheader headerLastRow\"><th class = \"rowNumber\" style = \"font-weight: bold; text-align: right;\"></th><th title = \"Float64\" style = \"text-align: left;\">Float64</th><th title = \"Int64\" style = \"text-align: left;\">Int64</th><th title = \"Int64\" style = \"text-align: left;\">Int64</th><th title = \"Int64\" style = \"text-align: left;\">Int64</th><th title = \"Union{Missing, Int64}\" style = \"text-align: left;\">Int64?</th><th title = \"Union{Missing, Int64}\" style = \"text-align: left;\">Int64?</th><th title = \"Union{Missing, Int64}\" style = \"text-align: left;\">Int64?</th><th title = \"Union{Missing, Int64}\" style = \"text-align: left;\">Int64?</th><th title = \"Union{Missing, Int64}\" style = \"text-align: left;\">Int64?</th></tr></thead><tbody><tr><td class = \"rowNumber\" style = \"font-weight: bold; text-align: right;\">1</td><td style = \"text-align: right;\">56.6717</td><td style = \"text-align: right;\">1</td><td style = \"text-align: right;\">3</td><td style = \"text-align: right;\">1</td><td style = \"text-align: right;\">1</td><td style = \"text-align: right;\">1</td><td style = \"text-align: right;\">0</td><td style = \"text-align: right;\">0</td><td style = \"text-align: right;\">0</td></tr><tr><td class = \"rowNumber\" style = \"font-weight: bold; text-align: right;\">2</td><td style = \"text-align: right;\">29.0794</td><td style = \"text-align: right;\">0</td><td style = \"text-align: right;\">4</td><td style = \"text-align: right;\">1</td><td style = \"text-align: right;\">0</td><td style = \"text-align: right;\">0</td><td style = \"text-align: right;\">0</td><td style = \"text-align: right;\">0</td><td style = \"text-align: right;\">0</td></tr><tr><td class = \"rowNumber\" style = \"font-weight: bold; text-align: right;\">3</td><td style = \"text-align: right;\">49.5635</td><td style = \"text-align: right;\">1</td><td style = \"text-align: right;\">5</td><td style = \"text-align: right;\">1</td><td style = \"text-align: right;\">0</td><td style = \"text-align: right;\">0</td><td style = \"text-align: right;\">0</td><td style = \"text-align: right;\">0</td><td style = \"text-align: right;\">1</td></tr><tr><td class = \"rowNumber\" style = \"font-weight: bold; text-align: right;\">4</td><td style = \"text-align: right;\">43.0994</td><td style = \"text-align: right;\">0</td><td style = \"text-align: right;\">6</td><td style = \"text-align: right;\">1</td><td style = \"text-align: right;\">0</td><td style = \"text-align: right;\">0</td><td style = \"text-align: right;\">0</td><td style = \"text-align: right;\">1</td><td style = \"text-align: right;\">1</td></tr><tr><td class = \"rowNumber\" style = \"font-weight: bold; text-align: right;\">5</td><td style = \"text-align: right;\">71.3296</td><td style = \"text-align: right;\">0</td><td style = \"text-align: right;\">7</td><td style = \"text-align: right;\">1</td><td style = \"text-align: right;\">1</td><td style = \"text-align: right;\">0</td><td style = \"text-align: right;\">0</td><td style = \"text-align: right;\">0</td><td style = \"text-align: right;\">1</td></tr><tr><td class = \"rowNumber\" style = \"font-weight: bold; text-align: right;\">6</td><td style = \"text-align: right;\">80.0634</td><td style = \"text-align: right;\">0</td><td style = \"text-align: right;\">8</td><td style = \"text-align: right;\">1</td><td style = \"text-align: right;\">1</td><td style = \"text-align: right;\">1</td><td style = \"text-align: right;\">0</td><td style = \"text-align: right;\">0</td><td style = \"text-align: right;\">0</td></tr><tr><td class = \"rowNumber\" style = \"font-weight: bold; text-align: right;\">7</td><td style = \"text-align: right;\">88.7516</td><td style = \"text-align: right;\">1</td><td style = \"text-align: right;\">9</td><td style = \"text-align: right;\">1</td><td style = \"text-align: right;\">1</td><td style = \"text-align: right;\">0</td><td style = \"text-align: right;\">0</td><td style = \"text-align: right;\">0</td><td style = \"text-align: right;\">0</td></tr><tr><td class = \"rowNumber\" style = \"font-weight: bold; text-align: right;\">8</td><td style = \"text-align: right;\">61.4361</td><td style = \"text-align: right;\">1</td><td style = \"text-align: right;\">10</td><td style = \"text-align: right;\">1</td><td style = \"text-align: right;\">0</td><td style = \"text-align: right;\">0</td><td style = \"text-align: right;\">0</td><td style = \"text-align: right;\">0</td><td style = \"text-align: right;\">1</td></tr><tr><td class = \"rowNumber\" style = \"font-weight: bold; text-align: right;\">9</td><td style = \"text-align: right;\">63.8114</td><td style = \"text-align: right;\">1</td><td style = \"text-align: right;\">11</td><td style = \"text-align: right;\">1</td><td style = \"text-align: right;\">0</td><td style = \"text-align: right;\">0</td><td style = \"text-align: right;\">0</td><td style = \"text-align: right;\">0</td><td style = \"text-align: right;\">1</td></tr><tr><td class = \"rowNumber\" style = \"font-weight: bold; text-align: right;\">10</td><td style = \"text-align: right;\">66.0135</td><td style = \"text-align: right;\">0</td><td style = \"text-align: right;\">12</td><td style = \"text-align: right;\">1</td><td style = \"text-align: right;\">0</td><td style = \"text-align: right;\">0</td><td style = \"text-align: right;\">0</td><td style = \"text-align: right;\">0</td><td style = \"text-align: right;\">1</td></tr><tr><td class = \"rowNumber\" style = \"font-weight: bold; text-align: right;\">11</td><td style = \"text-align: right;\">64.2641</td><td style = \"text-align: right;\">1</td><td style = \"text-align: right;\">14</td><td style = \"text-align: right;\">1</td><td style = \"text-align: right;\">0</td><td style = \"text-align: right;\">0</td><td style = \"text-align: right;\">1</td><td style = \"text-align: right;\">0</td><td style = \"text-align: right;\">0</td></tr><tr><td class = \"rowNumber\" style = \"font-weight: bold; text-align: right;\">12</td><td style = \"text-align: right;\">66.0881</td><td style = \"text-align: right;\">1</td><td style = \"text-align: right;\">15</td><td style = \"text-align: right;\">1</td><td style = \"text-align: right;\">0</td><td style = \"text-align: right;\">1</td><td style = \"text-align: right;\">0</td><td style = \"text-align: right;\">0</td><td style = \"text-align: right;\">0</td></tr><tr><td class = \"rowNumber\" style = \"font-weight: bold; text-align: right;\">13</td><td style = \"text-align: right;\">37.5406</td><td style = \"text-align: right;\">0</td><td style = \"text-align: right;\">16</td><td style = \"text-align: right;\">1</td><td style = \"text-align: right;\">0</td><td style = \"text-align: right;\">1</td><td style = \"text-align: right;\">0</td><td style = \"text-align: right;\">1</td><td style = \"text-align: right;\">1</td></tr><tr><td class = \"rowNumber\" style = \"font-weight: bold; text-align: right;\">14</td><td style = \"text-align: right;\">59.1921</td><td style = \"text-align: right;\">0</td><td style = \"text-align: right;\">17</td><td style = \"text-align: right;\">1</td><td style = \"text-align: right;\">0</td><td style = \"text-align: right;\">0</td><td style = \"text-align: right;\">0</td><td style = \"text-align: right;\">0</td><td style = \"text-align: right;\">0</td></tr><tr><td class = \"rowNumber\" style = \"font-weight: bold; text-align: right;\">15</td><td style = \"text-align: right;\">34.7024</td><td style = \"text-align: right;\">0</td><td style = \"text-align: right;\">18</td><td style = \"text-align: right;\">1</td><td style = \"text-align: right;\">0</td><td style = \"text-align: right;\">1</td><td style = \"text-align: right;\">0</td><td style = \"text-align: right;\">1</td><td style = \"text-align: right;\">1</td></tr><tr><td class = \"rowNumber\" style = \"font-weight: bold; text-align: right;\">16</td><td style = \"text-align: right;\">54.4889</td><td style = \"text-align: right;\">1</td><td style = \"text-align: right;\">20</td><td style = \"text-align: right;\">1</td><td style = \"text-align: right;\">0</td><td style = \"text-align: right;\">0</td><td style = \"text-align: right;\">1</td><td style = \"text-align: right;\">1</td><td style = \"text-align: right;\">0</td></tr><tr><td class = \"rowNumber\" style = \"font-weight: bold; text-align: right;\">17</td><td style = \"text-align: right;\">51.4183</td><td style = \"text-align: right;\">1</td><td style = \"text-align: right;\">21</td><td style = \"text-align: right;\">1</td><td style = \"text-align: right;\">1</td><td style = \"text-align: right;\">1</td><td style = \"text-align: right;\">1</td><td style = \"text-align: right;\">1</td><td style = \"text-align: right;\">0</td></tr><tr><td class = \"rowNumber\" style = \"font-weight: bold; text-align: right;\">18</td><td style = \"text-align: right;\">59.4325</td><td style = \"text-align: right;\">1</td><td style = \"text-align: right;\">22</td><td style = \"text-align: right;\">1</td><td style = \"text-align: right;\">0</td><td style = \"text-align: right;\">0</td><td style = \"text-align: right;\">1</td><td style = \"text-align: right;\">0</td><td style = \"text-align: right;\">1</td></tr><tr><td class = \"rowNumber\" style = \"font-weight: bold; text-align: right;\">19</td><td style = \"text-align: right;\">70.1714</td><td style = \"text-align: right;\">1</td><td style = \"text-align: right;\">23</td><td style = \"text-align: right;\">1</td><td style = \"text-align: right;\">1</td><td style = \"text-align: right;\">0</td><td style = \"text-align: right;\">0</td><td style = \"text-align: right;\">1</td><td style = \"text-align: right;\">1</td></tr><tr><td class = \"rowNumber\" style = \"font-weight: bold; text-align: right;\">20</td><td style = \"text-align: right;\">61.6955</td><td style = \"text-align: right;\">1</td><td style = \"text-align: right;\">24</td><td style = \"text-align: right;\">1</td><td style = \"text-align: right;\">0</td><td style = \"text-align: right;\">0</td><td style = \"text-align: right;\">0</td><td style = \"text-align: right;\">1</td><td style = \"text-align: right;\">0</td></tr></tbody></table></div>"
      ],
      "text/latex": [
       "\\begin{tabular}{r|cccccccc}\n",
       "\t& outcome & treatment & school & female & mother\\_secondary & father\\_secondary & failed\\_one\\_year & \\\\\n",
       "\t\\hline\n",
       "\t& Float64 & Int64 & Int64 & Int64 & Int64? & Int64? & Int64? & \\\\\n",
       "\t\\hline\n",
       "\t1 & 56.6717 & 1 & 3 & 1 & 1 & 1 & 0 & $\\dots$ \\\\\n",
       "\t2 & 29.0794 & 0 & 4 & 1 & 0 & 0 & 0 & $\\dots$ \\\\\n",
       "\t3 & 49.5635 & 1 & 5 & 1 & 0 & 0 & 0 & $\\dots$ \\\\\n",
       "\t4 & 43.0994 & 0 & 6 & 1 & 0 & 0 & 0 & $\\dots$ \\\\\n",
       "\t5 & 71.3296 & 0 & 7 & 1 & 1 & 0 & 0 & $\\dots$ \\\\\n",
       "\t6 & 80.0634 & 0 & 8 & 1 & 1 & 1 & 0 & $\\dots$ \\\\\n",
       "\t7 & 88.7516 & 1 & 9 & 1 & 1 & 0 & 0 & $\\dots$ \\\\\n",
       "\t8 & 61.4361 & 1 & 10 & 1 & 0 & 0 & 0 & $\\dots$ \\\\\n",
       "\t9 & 63.8114 & 1 & 11 & 1 & 0 & 0 & 0 & $\\dots$ \\\\\n",
       "\t10 & 66.0135 & 0 & 12 & 1 & 0 & 0 & 0 & $\\dots$ \\\\\n",
       "\t11 & 64.2641 & 1 & 14 & 1 & 0 & 0 & 1 & $\\dots$ \\\\\n",
       "\t12 & 66.0881 & 1 & 15 & 1 & 0 & 1 & 0 & $\\dots$ \\\\\n",
       "\t13 & 37.5406 & 0 & 16 & 1 & 0 & 1 & 0 & $\\dots$ \\\\\n",
       "\t14 & 59.1921 & 0 & 17 & 1 & 0 & 0 & 0 & $\\dots$ \\\\\n",
       "\t15 & 34.7024 & 0 & 18 & 1 & 0 & 1 & 0 & $\\dots$ \\\\\n",
       "\t16 & 54.4889 & 1 & 20 & 1 & 0 & 0 & 1 & $\\dots$ \\\\\n",
       "\t17 & 51.4183 & 1 & 21 & 1 & 1 & 1 & 1 & $\\dots$ \\\\\n",
       "\t18 & 59.4325 & 1 & 22 & 1 & 0 & 0 & 1 & $\\dots$ \\\\\n",
       "\t19 & 70.1714 & 1 & 23 & 1 & 1 & 0 & 0 & $\\dots$ \\\\\n",
       "\t20 & 61.6955 & 1 & 24 & 1 & 0 & 0 & 0 & $\\dots$ \\\\\n",
       "\\end{tabular}\n"
      ],
      "text/plain": [
       "\u001b[1m20×9 DataFrame\u001b[0m\n",
       "\u001b[1m Row \u001b[0m│\u001b[1m outcome \u001b[0m\u001b[1m treatment \u001b[0m\u001b[1m school \u001b[0m\u001b[1m female \u001b[0m\u001b[1m mother_secondary \u001b[0m\u001b[1m father_secondary \u001b[0m\u001b[1m\u001b[0m ⋯\n",
       "     │\u001b[90m Float64 \u001b[0m\u001b[90m Int64     \u001b[0m\u001b[90m Int64  \u001b[0m\u001b[90m Int64  \u001b[0m\u001b[90m Int64?           \u001b[0m\u001b[90m Int64?           \u001b[0m\u001b[90m\u001b[0m ⋯\n",
       "─────┼──────────────────────────────────────────────────────────────────────────\n",
       "   1 │ 56.6717          1       3       1                 1                 1  ⋯\n",
       "   2 │ 29.0794          0       4       1                 0                 0\n",
       "   3 │ 49.5635          1       5       1                 0                 0\n",
       "   4 │ 43.0994          0       6       1                 0                 0\n",
       "   5 │ 71.3296          0       7       1                 1                 0  ⋯\n",
       "   6 │ 80.0634          0       8       1                 1                 1\n",
       "   7 │ 88.7516          1       9       1                 1                 0\n",
       "   8 │ 61.4361          1      10       1                 0                 0\n",
       "   9 │ 63.8114          1      11       1                 0                 0  ⋯\n",
       "  10 │ 66.0135          0      12       1                 0                 0\n",
       "  11 │ 64.2641          1      14       1                 0                 0\n",
       "  12 │ 66.0881          1      15       1                 0                 1\n",
       "  13 │ 37.5406          0      16       1                 0                 1  ⋯\n",
       "  14 │ 59.1921          0      17       1                 0                 0\n",
       "  15 │ 34.7024          0      18       1                 0                 1\n",
       "  16 │ 54.4889          1      20       1                 0                 0\n",
       "  17 │ 51.4183          1      21       1                 1                 1  ⋯\n",
       "  18 │ 59.4325          1      22       1                 0                 0\n",
       "  19 │ 70.1714          1      23       1                 1                 0\n",
       "  20 │ 61.6955          1      24       1                 0                 0\n",
       "\u001b[36m                                                               3 columns omitted\u001b[0m"
      ]
     },
     "execution_count": 90,
     "metadata": {},
     "output_type": "execute_result"
    }
   ],
   "source": [
    "data = dropmissing(data, :female)\n",
    "first(data,10)"
   ]
  },
  {
   "cell_type": "markdown",
   "id": "57af17f6-e8d3-4b05-b945-99e8ebc8e7b3",
   "metadata": {},
   "source": [
    "# **OLS**"
   ]
  },
  {
   "cell_type": "code",
   "execution_count": 94,
   "id": "c5e92bce-4d50-4cf2-a5e3-4267f3af05a2",
   "metadata": {},
   "outputs": [
    {
     "data": {
      "text/plain": [
       "StatsModels.TableRegressionModel{LinearModel{GLM.LmResp{Vector{Float64}}, GLM.DensePredChol{Float64, LinearAlgebra.CholeskyPivoted{Float64, Matrix{Float64}, Vector{Int64}}}}, Matrix{Float64}}\n",
       "\n",
       "outcome ~ 1 + treatment + school + female + mother_secondary + father_secondary + failed_one_year + cash_transfer + computer\n",
       "\n",
       "Coefficients:\n",
       "──────────────────────────────────────────────────────────────────────────────────────\n",
       "                        Coef.   Std. Error       t  Pr(>|t|)    Lower 95%    Upper 95%\n",
       "──────────────────────────────────────────────────────────────────────────────────────\n",
       "(Intercept)       58.5095      0.368371     158.83    <1e-99  57.7875      59.2316\n",
       "treatment          4.51228     0.230809      19.55    <1e-83   4.05987      4.96469\n",
       "school            -0.00414664  0.000500685   -8.28    <1e-15  -0.00512805  -0.00316524\n",
       "female             3.02781     0.234285      12.92    <1e-37   2.56859      3.48704\n",
       "mother_secondary   1.01695     0.268085       3.79    0.0001   0.491468     1.54243\n",
       "father_secondary   0.847064    0.271242       3.12    0.0018   0.315397     1.37873\n",
       "failed_one_year   -6.73214     0.258739     -26.02    <1e-99  -7.2393      -6.22498\n",
       "cash_transfer     -1.689       0.256201      -6.59    <1e-10  -2.19118     -1.18681\n",
       "computer          -0.486698    0.250067      -1.95    0.0516  -0.97686      0.00346401\n",
       "──────────────────────────────────────────────────────────────────────────────────────"
      ]
     },
     "execution_count": 94,
     "metadata": {},
     "output_type": "execute_result"
    }
   ],
   "source": [
    "#Modelo OLS\n",
    "\n",
    "basic  = @formula(outcome ~ (treatment + school + female + mother_secondary + father_secondary + failed_one_year + cash_transfer + computer))\n",
    "basic_results  = lm(basic, data)"
   ]
  },
  {
   "cell_type": "markdown",
   "id": "8337e98a-da90-4191-8ef4-0f1220bc6302",
   "metadata": {},
   "source": [
    "# **Double Lasso**"
   ]
  },
  {
   "cell_type": "code",
   "execution_count": 96,
   "id": "1e961506-4f3c-4d41-abac-98848477a25c",
   "metadata": {},
   "outputs": [
    {
     "data": {
      "text/plain": [
       "StatsModels.TableRegressionModel{LinearModel{GLM.LmResp{Vector{Float64}}, GLM.DensePredChol{Float64, LinearAlgebra.CholeskyPivoted{Float64, Matrix{Float64}, Vector{Int64}}}}, Matrix{Float64}}\n",
       "\n",
       "r_Y ~ 1 + r_D\n",
       "\n",
       "Coefficients:\n",
       "───────────────────────────────────────────────────────────────────────────\n",
       "                   Coef.  Std. Error      t  Pr(>|t|)  Lower 95%  Upper 95%\n",
       "───────────────────────────────────────────────────────────────────────────\n",
       "(Intercept)  9.67487e-16    0.115231   0.00    1.0000  -0.225868   0.225868\n",
       "r_D          4.51234        0.230753  19.55    <1e-83   4.06003    4.96464\n",
       "───────────────────────────────────────────────────────────────────────────"
      ]
     },
     "execution_count": 96,
     "metadata": {},
     "output_type": "execute_result"
    }
   ],
   "source": [
    "# Seat values for Lasso\n",
    "\n",
    "lasso_model = fit(LassoModel, term(:outcome) ~  sum(term.(names(data[!, Not([\"outcome\",\"treatment\"])]))), data; α = 0.8)\n",
    "r_Y = residuals(lasso_model)\n",
    "r_Y = DataFrame([r_Y], [:r_Y])\n",
    "\n",
    "# Part. out d\n",
    "\n",
    "lasso_model = fit(LassoModel, term(:treatment) ~  sum(term.(names(data[!, Not([\"outcome\", \"treatment\"])]))), data;  α = 0.8)\n",
    "r_D = residuals(lasso_model)\n",
    "r_D = DataFrame([r_D], [:r_D])\n",
    "\n",
    "# ols \n",
    "data_aux = [r_Y r_D]\n",
    "fm_1 = @formula(r_Y ~ r_D)\n",
    "partial_lasso_fit = lm(fm_1, data_aux)"
   ]
  },
  {
   "cell_type": "code",
   "execution_count": 104,
   "id": "ceef0f3c-10dd-487b-b173-ea5e822a2e71",
   "metadata": {},
   "outputs": [
    {
     "name": "stdout",
     "output_type": "stream",
     "text": [
      "Coefficient for D via partialling-out using lasso is: 4.512336363218052\n"
     ]
    }
   ],
   "source": [
    "# output: estimated regression coefficient corresponding to the target regressor\n",
    "est_lasso = coef(partial_lasso_fit)[2]\n",
    "# Regress residuales\n",
    "partial_lasso_fit = lm(fm_1, data_aux)\n",
    "partial_lasso_est = coef(partial_lasso_fit)[2]\n",
    "\n",
    "println(\"Coefficient for D via partialling-out using lasso is: \", partial_lasso_est )"
   ]
  },
  {
   "cell_type": "code",
   "execution_count": null,
   "id": "deef5017-e417-433b-a6c5-1ac03d7300e9",
   "metadata": {},
   "outputs": [],
   "source": []
  }
 ],
 "metadata": {
  "kernelspec": {
   "display_name": "Julia 1.11.0-alpha2",
   "language": "julia",
   "name": "julia-1.11"
  },
  "language_info": {
   "file_extension": ".jl",
   "mimetype": "application/julia",
   "name": "julia",
   "version": "1.11.0"
  }
 },
 "nbformat": 4,
 "nbformat_minor": 5
}
