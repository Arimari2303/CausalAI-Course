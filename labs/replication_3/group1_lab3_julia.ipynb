{
 "cells": [
  {
   "cell_type": "markdown",
   "id": "3ef7d780-4726-4f07-8f02-3ff43219b133",
   "metadata": {},
   "source": [
    "**Double Lasso - Using School data**"
   ]
  },
  {
   "cell_type": "code",
   "execution_count": 1,
   "id": "20a4ad94-a6b3-483b-9409-da62de8b1284",
   "metadata": {},
   "outputs": [
    {
     "name": "stderr",
     "output_type": "stream",
     "text": [
      "\u001b[32m\u001b[1m    Updating\u001b[22m\u001b[39m registry at `C:\\Users\\Alvaro\\.julia\\registries\\General.toml`\n",
      "\u001b[32m\u001b[1m   Resolving\u001b[22m\u001b[39m package versions...\n",
      "\u001b[32m\u001b[1m  No Changes\u001b[22m\u001b[39m to `C:\\Users\\Alvaro\\.julia\\environments\\v1.11\\Project.toml`\n",
      "\u001b[32m\u001b[1m  No Changes\u001b[22m\u001b[39m to `C:\\Users\\Alvaro\\.julia\\environments\\v1.11\\Manifest.toml`\n",
      "\u001b[32m\u001b[1m   Resolving\u001b[22m\u001b[39m package versions...\n",
      "\u001b[32m\u001b[1m  No Changes\u001b[22m\u001b[39m to `C:\\Users\\Alvaro\\.julia\\environments\\v1.11\\Project.toml`\n",
      "\u001b[32m\u001b[1m  No Changes\u001b[22m\u001b[39m to `C:\\Users\\Alvaro\\.julia\\environments\\v1.11\\Manifest.toml`\n",
      "\u001b[32m\u001b[1m   Resolving\u001b[22m\u001b[39m package versions...\n",
      "\u001b[32m\u001b[1m  No Changes\u001b[22m\u001b[39m to `C:\\Users\\Alvaro\\.julia\\environments\\v1.11\\Project.toml`\n",
      "\u001b[32m\u001b[1m  No Changes\u001b[22m\u001b[39m to `C:\\Users\\Alvaro\\.julia\\environments\\v1.11\\Manifest.toml`\n",
      "\u001b[32m\u001b[1m   Resolving\u001b[22m\u001b[39m package versions...\n",
      "\u001b[32m\u001b[1m  No Changes\u001b[22m\u001b[39m to `C:\\Users\\Alvaro\\.julia\\environments\\v1.11\\Project.toml`\n",
      "\u001b[32m\u001b[1m  No Changes\u001b[22m\u001b[39m to `C:\\Users\\Alvaro\\.julia\\environments\\v1.11\\Manifest.toml`\n"
     ]
    }
   ],
   "source": [
    "import Pkg\n",
    "Pkg.add(\"DataFrames\")\n",
    "Pkg.add(\"CausalInference\")\n",
    "Pkg.add(\"CSV\")\n",
    "Pkg.add(\"Plots\")\n",
    "using CSV\n",
    "using DataFrames\n",
    "using Dates\n",
    "using Plots"
   ]
  },
  {
   "cell_type": "markdown",
   "id": "f9d7c4d4-c54d-482b-9845-a47cac38d64f",
   "metadata": {},
   "source": []
  },
  {
   "cell_type": "code",
   "execution_count": 5,
   "id": "596adc5a-f5cb-41b8-9ea1-d4c6dc8a1eaf",
   "metadata": {},
   "outputs": [
    {
     "data": {
      "text/html": [
       "<div><div style = \"float: left;\"><span>10×16 DataFrame</span></div><div style = \"clear: both;\"></div></div><div class = \"data-frame\" style = \"overflow-x: scroll;\"><table class = \"data-frame\" style = \"margin-bottom: 6px;\"><thead><tr class = \"header\"><th class = \"rowNumber\" style = \"font-weight: bold; text-align: right;\">Row</th><th style = \"text-align: left;\">outcome.test.score</th><th style = \"text-align: left;\">treatment</th><th style = \"text-align: left;\">school</th><th style = \"text-align: left;\">is.female</th><th style = \"text-align: left;\">mother.attended.secondary.school</th><th style = \"text-align: left;\">father.attened.secondary.school</th><th style = \"text-align: left;\">failed.at.least.one.school.year</th><th style = \"text-align: left;\">family.receives.cash.transfer</th><th style = \"text-align: left;\">has.computer.with.internet.at.home</th><th style = \"text-align: left;\">is.unemployed</th><th style = \"text-align: left;\">has.some.form.of.income</th><th style = \"text-align: left;\">saves.money.for.future.purchases</th><th style = \"text-align: left;\">intention.to.save.index</th><th style = \"text-align: left;\">makes.list.of.expenses.every.month</th><th style = \"text-align: left;\">negotiates.prices.or.payment.methods</th><th style = \"text-align: left;\">financial.autonomy.index</th></tr><tr class = \"subheader headerLastRow\"><th class = \"rowNumber\" style = \"font-weight: bold; text-align: right;\"></th><th title = \"Float64\" style = \"text-align: left;\">Float64</th><th title = \"Int64\" style = \"text-align: left;\">Int64</th><th title = \"Int64\" style = \"text-align: left;\">Int64</th><th title = \"String3\" style = \"text-align: left;\">String3</th><th title = \"String3\" style = \"text-align: left;\">String3</th><th title = \"String3\" style = \"text-align: left;\">String3</th><th title = \"String3\" style = \"text-align: left;\">String3</th><th title = \"String3\" style = \"text-align: left;\">String3</th><th title = \"String3\" style = \"text-align: left;\">String3</th><th title = \"String3\" style = \"text-align: left;\">String3</th><th title = \"String3\" style = \"text-align: left;\">String3</th><th title = \"String3\" style = \"text-align: left;\">String3</th><th title = \"String3\" style = \"text-align: left;\">String3</th><th title = \"String3\" style = \"text-align: left;\">String3</th><th title = \"String3\" style = \"text-align: left;\">String3</th><th title = \"String3\" style = \"text-align: left;\">String3</th></tr></thead><tbody><tr><td class = \"rowNumber\" style = \"font-weight: bold; text-align: right;\">1</td><td style = \"text-align: right;\">47.3674</td><td style = \"text-align: right;\">0</td><td style = \"text-align: right;\">17018390</td><td style = \"text-align: left;\">NA</td><td style = \"text-align: left;\">NA</td><td style = \"text-align: left;\">NA</td><td style = \"text-align: left;\">NA</td><td style = \"text-align: left;\">NA</td><td style = \"text-align: left;\">NA</td><td style = \"text-align: left;\">1</td><td style = \"text-align: left;\">1</td><td style = \"text-align: left;\">0</td><td style = \"text-align: left;\">29</td><td style = \"text-align: left;\">0</td><td style = \"text-align: left;\">1</td><td style = \"text-align: left;\">52</td></tr><tr><td class = \"rowNumber\" style = \"font-weight: bold; text-align: right;\">2</td><td style = \"text-align: right;\">58.1768</td><td style = \"text-align: right;\">1</td><td style = \"text-align: right;\">33002614</td><td style = \"text-align: left;\">NA</td><td style = \"text-align: left;\">NA</td><td style = \"text-align: left;\">NA</td><td style = \"text-align: left;\">NA</td><td style = \"text-align: left;\">NA</td><td style = \"text-align: left;\">NA</td><td style = \"text-align: left;\">0</td><td style = \"text-align: left;\">0</td><td style = \"text-align: left;\">0</td><td style = \"text-align: left;\">41</td><td style = \"text-align: left;\">0</td><td style = \"text-align: left;\">0</td><td style = \"text-align: left;\">27</td></tr><tr><td class = \"rowNumber\" style = \"font-weight: bold; text-align: right;\">3</td><td style = \"text-align: right;\">56.6717</td><td style = \"text-align: right;\">1</td><td style = \"text-align: right;\">35002914</td><td style = \"text-align: left;\">1</td><td style = \"text-align: left;\">1</td><td style = \"text-align: left;\">1</td><td style = \"text-align: left;\">0</td><td style = \"text-align: left;\">0</td><td style = \"text-align: left;\">0</td><td style = \"text-align: left;\">1</td><td style = \"text-align: left;\">0</td><td style = \"text-align: left;\">0</td><td style = \"text-align: left;\">48</td><td style = \"text-align: left;\">0</td><td style = \"text-align: left;\">1</td><td style = \"text-align: left;\">56</td></tr><tr><td class = \"rowNumber\" style = \"font-weight: bold; text-align: right;\">4</td><td style = \"text-align: right;\">29.0794</td><td style = \"text-align: right;\">0</td><td style = \"text-align: right;\">35908915</td><td style = \"text-align: left;\">1</td><td style = \"text-align: left;\">0</td><td style = \"text-align: left;\">0</td><td style = \"text-align: left;\">0</td><td style = \"text-align: left;\">0</td><td style = \"text-align: left;\">0</td><td style = \"text-align: left;\">0</td><td style = \"text-align: left;\">0</td><td style = \"text-align: left;\">0</td><td style = \"text-align: left;\">42</td><td style = \"text-align: left;\">0</td><td style = \"text-align: left;\">0</td><td style = \"text-align: left;\">27</td></tr><tr><td class = \"rowNumber\" style = \"font-weight: bold; text-align: right;\">5</td><td style = \"text-align: right;\">49.5635</td><td style = \"text-align: right;\">1</td><td style = \"text-align: right;\">33047324</td><td style = \"text-align: left;\">1</td><td style = \"text-align: left;\">0</td><td style = \"text-align: left;\">0</td><td style = \"text-align: left;\">0</td><td style = \"text-align: left;\">0</td><td style = \"text-align: left;\">1</td><td style = \"text-align: left;\">0</td><td style = \"text-align: left;\">1</td><td style = \"text-align: left;\">0</td><td style = \"text-align: left;\">50</td><td style = \"text-align: left;\">0</td><td style = \"text-align: left;\">1</td><td style = \"text-align: left;\">31</td></tr><tr><td class = \"rowNumber\" style = \"font-weight: bold; text-align: right;\">6</td><td style = \"text-align: right;\">43.0994</td><td style = \"text-align: right;\">0</td><td style = \"text-align: right;\">53012542</td><td style = \"text-align: left;\">1</td><td style = \"text-align: left;\">0</td><td style = \"text-align: left;\">0</td><td style = \"text-align: left;\">0</td><td style = \"text-align: left;\">1</td><td style = \"text-align: left;\">1</td><td style = \"text-align: left;\">0</td><td style = \"text-align: left;\">1</td><td style = \"text-align: left;\">0</td><td style = \"text-align: left;\">93</td><td style = \"text-align: left;\">0</td><td style = \"text-align: left;\">1</td><td style = \"text-align: left;\">77</td></tr><tr><td class = \"rowNumber\" style = \"font-weight: bold; text-align: right;\">7</td><td style = \"text-align: right;\">71.3296</td><td style = \"text-align: right;\">0</td><td style = \"text-align: right;\">53006984</td><td style = \"text-align: left;\">1</td><td style = \"text-align: left;\">1</td><td style = \"text-align: left;\">0</td><td style = \"text-align: left;\">0</td><td style = \"text-align: left;\">0</td><td style = \"text-align: left;\">1</td><td style = \"text-align: left;\">1</td><td style = \"text-align: left;\">1</td><td style = \"text-align: left;\">0</td><td style = \"text-align: left;\">52</td><td style = \"text-align: left;\">0</td><td style = \"text-align: left;\">1</td><td style = \"text-align: left;\">43</td></tr><tr><td class = \"rowNumber\" style = \"font-weight: bold; text-align: right;\">8</td><td style = \"text-align: right;\">80.0634</td><td style = \"text-align: right;\">0</td><td style = \"text-align: right;\">33049475</td><td style = \"text-align: left;\">1</td><td style = \"text-align: left;\">1</td><td style = \"text-align: left;\">1</td><td style = \"text-align: left;\">0</td><td style = \"text-align: left;\">0</td><td style = \"text-align: left;\">0</td><td style = \"text-align: left;\">0</td><td style = \"text-align: left;\">1</td><td style = \"text-align: left;\">0</td><td style = \"text-align: left;\">50</td><td style = \"text-align: left;\">0</td><td style = \"text-align: left;\">0</td><td style = \"text-align: left;\">31</td></tr><tr><td class = \"rowNumber\" style = \"font-weight: bold; text-align: right;\">9</td><td style = \"text-align: right;\">88.7516</td><td style = \"text-align: right;\">1</td><td style = \"text-align: right;\">35925639</td><td style = \"text-align: left;\">1</td><td style = \"text-align: left;\">1</td><td style = \"text-align: left;\">0</td><td style = \"text-align: left;\">0</td><td style = \"text-align: left;\">0</td><td style = \"text-align: left;\">0</td><td style = \"text-align: left;\">0</td><td style = \"text-align: left;\">0</td><td style = \"text-align: left;\">0</td><td style = \"text-align: left;\">59</td><td style = \"text-align: left;\">0</td><td style = \"text-align: left;\">1</td><td style = \"text-align: left;\">50</td></tr><tr><td class = \"rowNumber\" style = \"font-weight: bold; text-align: right;\">10</td><td style = \"text-align: right;\">61.4361</td><td style = \"text-align: right;\">1</td><td style = \"text-align: right;\">35008758</td><td style = \"text-align: left;\">1</td><td style = \"text-align: left;\">0</td><td style = \"text-align: left;\">0</td><td style = \"text-align: left;\">0</td><td style = \"text-align: left;\">0</td><td style = \"text-align: left;\">1</td><td style = \"text-align: left;\">1</td><td style = \"text-align: left;\">1</td><td style = \"text-align: left;\">0</td><td style = \"text-align: left;\">44</td><td style = \"text-align: left;\">0</td><td style = \"text-align: left;\">1</td><td style = \"text-align: left;\">14</td></tr></tbody></table></div>"
      ],
      "text/latex": [
       "\\begin{tabular}{r|cccccc}\n",
       "\t& outcome.test.score & treatment & school & is.female & mother.attended.secondary.school & \\\\\n",
       "\t\\hline\n",
       "\t& Float64 & Int64 & Int64 & String3 & String3 & \\\\\n",
       "\t\\hline\n",
       "\t1 & 47.3674 & 0 & 17018390 & NA & NA & $\\dots$ \\\\\n",
       "\t2 & 58.1768 & 1 & 33002614 & NA & NA & $\\dots$ \\\\\n",
       "\t3 & 56.6717 & 1 & 35002914 & 1 & 1 & $\\dots$ \\\\\n",
       "\t4 & 29.0794 & 0 & 35908915 & 1 & 0 & $\\dots$ \\\\\n",
       "\t5 & 49.5635 & 1 & 33047324 & 1 & 0 & $\\dots$ \\\\\n",
       "\t6 & 43.0994 & 0 & 53012542 & 1 & 0 & $\\dots$ \\\\\n",
       "\t7 & 71.3296 & 0 & 53006984 & 1 & 1 & $\\dots$ \\\\\n",
       "\t8 & 80.0634 & 0 & 33049475 & 1 & 1 & $\\dots$ \\\\\n",
       "\t9 & 88.7516 & 1 & 35925639 & 1 & 1 & $\\dots$ \\\\\n",
       "\t10 & 61.4361 & 1 & 35008758 & 1 & 0 & $\\dots$ \\\\\n",
       "\\end{tabular}\n"
      ],
      "text/plain": [
       "\u001b[1m10×16 DataFrame\u001b[0m\n",
       "\u001b[1m Row \u001b[0m│\u001b[1m outcome.test.score \u001b[0m\u001b[1m treatment \u001b[0m\u001b[1m school   \u001b[0m\u001b[1m is.female \u001b[0m\u001b[1m mother.attended.sec\u001b[0m ⋯\n",
       "     │\u001b[90m Float64            \u001b[0m\u001b[90m Int64     \u001b[0m\u001b[90m Int64    \u001b[0m\u001b[90m String3   \u001b[0m\u001b[90m String3            \u001b[0m ⋯\n",
       "─────┼──────────────────────────────────────────────────────────────────────────\n",
       "   1 │            47.3674          0  17018390  NA         NA                  ⋯\n",
       "   2 │            58.1768          1  33002614  NA         NA\n",
       "   3 │            56.6717          1  35002914  1          1\n",
       "   4 │            29.0794          0  35908915  1          0\n",
       "   5 │            49.5635          1  33047324  1          0                   ⋯\n",
       "   6 │            43.0994          0  53012542  1          0\n",
       "   7 │            71.3296          0  53006984  1          1\n",
       "   8 │            80.0634          0  33049475  1          1\n",
       "   9 │            88.7516          1  35925639  1          1                   ⋯\n",
       "  10 │            61.4361          1  35008758  1          0\n",
       "\u001b[36m                                                              12 columns omitted\u001b[0m"
      ]
     },
     "execution_count": 5,
     "metadata": {},
     "output_type": "execute_result"
    }
   ],
   "source": [
    "#Reading CSV file\n",
    "data = CSV.File(\"data/bruhn2016.csv\") |> DataFrame\n",
    "first(data,10)"
   ]
  },
  {
   "cell_type": "code",
   "execution_count": null,
   "id": "9544bc13-3668-4a95-82f4-06c2f2b25277",
   "metadata": {},
   "outputs": [],
   "source": []
  }
 ],
 "metadata": {
  "kernelspec": {
   "display_name": "Julia 1.11.0-alpha2",
   "language": "julia",
   "name": "julia-1.11"
  },
  "language_info": {
   "file_extension": ".jl",
   "mimetype": "application/julia",
   "name": "julia",
   "version": "1.11.0"
  }
 },
 "nbformat": 4,
 "nbformat_minor": 5
}
