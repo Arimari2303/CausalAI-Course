{
 "cells": [
  {
   "cell_type": "markdown",
   "metadata": {},
   "source": [
    "The paper “Double/Debiased Machine Learning for Treatment and Structural Parameters” by Cherunozhukov et al (2014) presents the problem of how very highly complex nuisance parameters affect the traditional methods used to estimate a low dimensional parameter of interest. In this situation, traditional assumptions that would generally limit the complexity of the parameter space break down and machine learning methods generally overfit the nuisance parameter or are biased, which consequently causes an even bigger bias in estimators of the parameter of interest and make the estimation inconsistent. Therefore, this paper’s proposal is a two-step method that can create valid confidence statements."
   ]
  },
  {
   "cell_type": "markdown",
   "metadata": {},
   "source": [
    "For starters, for this method to work, the principle of Neyman orthogonality must be applied for unbiasedness and the scores that interact with the model shall be transformed if they do not satisfy the condition for orthogonality. Though this step may create some additional nuisance parameters in addition to the already existing ones, which would mean a decrease in the score efficiency, additional robustness will be gained as stronger conditions are needed to estimate this additional nuisance parameters. With a concentrating-out approach and conditional moment settings, the score will satisfy the principle even if it’s only efficient if the variance of the variable and coefficient is a constant."
   ]
  },
  {
   "cell_type": "markdown",
   "metadata": {},
   "source": [
    "The second step is using cross-fitting to split the data. This part of the process is particularly important because it allows remainder terms to vanish in probability, which prevents some errors to be related to other and yields good results even under very weak conditions. It requires the model to be mildly smooth and Neyman orthogonal or near-orthogonal, as well as defining a shrinking neighbourhood for the nuisance parameters but may impose a crude rate requirement."
   ]
  },
  {
   "cell_type": "markdown",
   "metadata": {},
   "source": [
    "Some recommendation to expand on this particular question would be to study the sensitivity results of sample splitting so that features for a specific set of estimates could be incorporated into it, thus making it less dependent on a specific sample-splitting method."
   ]
  }
 ],
 "metadata": {
  "language_info": {
   "name": "python"
  }
 },
 "nbformat": 4,
 "nbformat_minor": 2
}
