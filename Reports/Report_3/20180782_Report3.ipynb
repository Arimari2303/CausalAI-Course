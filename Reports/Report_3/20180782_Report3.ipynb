{
 "cells": [
  {
   "cell_type": "markdown",
   "metadata": {},
   "source": [
    "The article written by Wager and Athey (2018) focuses on the area of study of the effects of drugs used for treatment and its heterogeneity. They explain that there are heavy restrictions and protocols on how regular empirical experiments are conducted because the possibility that researchers may manipulate the data (such as including only the results of the subgroups with the most extreme effects and thus artificially highlighting heterogeneity) is unacceptable. Furthermore, the empirical analysis of the two potential outcomes cannot be witnessed in real life as a real-life event only allows for one of them to happen. It is as such that, Wager and Athey, have dedicated their work to develop a tool for nonparametric heterogenous treatment effect estimation that is capable of producing valid asymptotic confidence intervals in order to visualize the true underlying treatment effect."
   ]
  },
  {
   "cell_type": "markdown",
   "metadata": {},
   "source": [
    "Classical models attempting the same feat include nearest-neighbour matching, kernel methods and series estimations all have a decent level of success in estimation with a small number of covariates but that level drops significantly as the number of covariates increases. Wager and Athey decided on a different approach. In 2001, Breiman developed the concept of “random forests”, which are a combination of multiple tree predictors, each with its own random vector assigned and sampled independently, and the output of all of those trees are meant to help reach one single conclusion. While related to the other mentioned methods, the random forests have a unique feature: they are capable of determining the weight of the nearby observations based on the data itself. Using Breiwan’s models as their base, Wager and Athey developed a nonparametric “causal forest”, a first of its kind asymptotic normality theory that can uphold statistical inference since the conditions for it make the predictions be both asymptotically unbiased and Gaussian."
   ]
  },
  {
   "cell_type": "markdown",
   "metadata": {},
   "source": [
    "One of its major strengths is that the bias of the whole forest is the same as the bias from a single tree because each and every one of the trees is a regular random-split tree and just as the leaves of a tree seem smaller as the tree itself grows, a single tree will seem small as the number of trees in the forest increases. Secondly, as the predictors have been proved to be incremental (it’s possible to determine that the coefficient of the variable is non-zero even if we can only see the result) and asymptotically normal, the result is an asymptotically Guassianian and therefore suffices to check Lyapunov-style conditions for the central limit theorem. Wager and Athey, however, recognize that a rather strong condition is needed for their method to work and they have deemed it to be “honesty”. This condition means that for each training sample, either only the response associated to that specific training sample must be used to estimate the treatment effect within the “leaf” of the tree or that response variable must be used to decide where the “branch” will split, but never both those processes at the same time."
   ]
  },
  {
   "cell_type": "markdown",
   "metadata": {},
   "source": [
    "The results of the experiment conduct with the experiment show that the causal forest does promise an accurate estimation of heterogeneous treatment effects. However, the next steps to take in order to further enhance this model are the usage of more powerful splitting rules to reduce the bias, as was shown it became an increasing problem as the ambient dimension increased in the sample quantiles. These splitting rules should, ideally, also be able to automatically choose if the data should be split using the double-sample forests or propensity forests as the researchers had to make the choice manually based on what procedure seemed more appropriate, which is also another form of bias. Additionally, as this model is similar to nearest-neighbor nonparametric estimators, it also suffers from bias at the boundaries and as such, a systematic approach to trim the boundaries and improve the coverage of the confidence intervals and is needed. Nevertheless, the conclusion that this estimation method Wager and Athey have developed is outstanding is undeniable. An asymptotic normality theory from which statistical conclusions can be drawn means that the heterogeneous treatment results that previously could only be based on what was included in the report can now be validated through the objective analysis of data."
   ]
  },
  {
   "cell_type": "markdown",
   "metadata": {},
   "source": [
    "Sophie Lizárraga Nagahama\n",
    "\n",
    "20180782"
   ]
  }
 ],
 "metadata": {
  "language_info": {
   "name": "python"
  }
 },
 "nbformat": 4,
 "nbformat_minor": 2
}
