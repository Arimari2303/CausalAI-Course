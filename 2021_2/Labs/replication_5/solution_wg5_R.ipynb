{
 "cells": [
  {
   "cell_type": "markdown",
   "id": "01340fc9",
   "metadata": {},
   "source": [
    "# Workgroup 5: The Bootstrap\n",
    "\n",
    "In this lab, we analyze the Pennsylvania re-employment bonus experiment, which was previously studied in \"Sequential testing of duration data: the case of the Pennsylvania ‘reemployment bonus’ experiment\" (Bilias, 2000), among others. These experiments were conducted in the 1980s by the U.S. Department of Labor to test the incentive effects of alternative compensation schemes for unemployment insurance (UI). In these experiments, UI claimants were randomly assigned either to a control group or one of five treatment groups. Actually, there are six treatment groups in the experiments. Here we focus on treatment group 4, but feel free to explore other treatment groups. In the control group the current rules of the UI applied. Individuals in the treatment groups were offered a cash bonus if they found a job within some pre-specified period of time (qualification period), provided that the job was retained for a specified duration. The treatments differed in the level of the bonus, the length of the qualification period, and whether the bonus was declining over time in the qualification period; see http://qed.econ.queensu.ca/jae/2000-v15.6/bilias/readme.b.txt for further details on data."
   ]
  },
  {
   "cell_type": "code",
   "execution_count": 1,
   "id": "62d17def",
   "metadata": {
    "scrolled": true
   },
   "outputs": [
    {
     "name": "stderr",
     "output_type": "stream",
     "text": [
      "Warning message:\n",
      "\"package 'ISLR2' was built under R version 4.1.2\"\n"
     ]
    }
   ],
   "source": [
    "library(ISLR2)\n",
    "set.seed(2)\n",
    "library(boot)"
   ]
  },
  {
   "cell_type": "code",
   "execution_count": 2,
   "id": "aa13d321",
   "metadata": {
    "scrolled": false
   },
   "outputs": [],
   "source": [
    "# loading data\n",
    "Penn <- as.data.frame(read.table(\"../data/penn_jae.dat\", header=T ))\n",
    "n    <- dim(Penn)[1]\n",
    "p_1  <- dim(Penn)[2]"
   ]
  },
  {
   "cell_type": "code",
   "execution_count": 3,
   "id": "bf278094",
   "metadata": {
    "scrolled": true
   },
   "outputs": [],
   "source": [
    "# subsetting data\n",
    "Penn <- subset(Penn, tg== 4| tg==0)\n",
    "#attach(Penn)"
   ]
  },
  {
   "cell_type": "code",
   "execution_count": 4,
   "id": "341e0aa0",
   "metadata": {},
   "outputs": [
    {
     "data": {
      "text/html": [
       "<table class=\"dataframe\">\n",
       "<caption>A data.frame: 6 × 24</caption>\n",
       "<thead>\n",
       "\t<tr><th></th><th scope=col>abdt</th><th scope=col>tg</th><th scope=col>inuidur1</th><th scope=col>inuidur2</th><th scope=col>female</th><th scope=col>black</th><th scope=col>hispanic</th><th scope=col>othrace</th><th scope=col>dep</th><th scope=col>q1</th><th scope=col>...</th><th scope=col>q6</th><th scope=col>recall</th><th scope=col>agelt35</th><th scope=col>agegt54</th><th scope=col>durable</th><th scope=col>nondurable</th><th scope=col>lusd</th><th scope=col>husd</th><th scope=col>muld</th><th scope=col>T4</th></tr>\n",
       "\t<tr><th></th><th scope=col>&lt;int&gt;</th><th scope=col>&lt;int&gt;</th><th scope=col>&lt;int&gt;</th><th scope=col>&lt;int&gt;</th><th scope=col>&lt;int&gt;</th><th scope=col>&lt;int&gt;</th><th scope=col>&lt;int&gt;</th><th scope=col>&lt;int&gt;</th><th scope=col>&lt;int&gt;</th><th scope=col>&lt;int&gt;</th><th scope=col>...</th><th scope=col>&lt;int&gt;</th><th scope=col>&lt;int&gt;</th><th scope=col>&lt;int&gt;</th><th scope=col>&lt;int&gt;</th><th scope=col>&lt;int&gt;</th><th scope=col>&lt;int&gt;</th><th scope=col>&lt;int&gt;</th><th scope=col>&lt;int&gt;</th><th scope=col>&lt;int&gt;</th><th scope=col>&lt;dbl&gt;</th></tr>\n",
       "</thead>\n",
       "<tbody>\n",
       "\t<tr><th scope=row>1</th><td>10824</td><td>0</td><td>18</td><td>18</td><td>0</td><td>0</td><td>0</td><td>0</td><td>2</td><td>0</td><td>...</td><td>0</td><td>0</td><td>0</td><td>0</td><td>0</td><td>0</td><td>0</td><td>1</td><td>0</td><td>0</td></tr>\n",
       "\t<tr><th scope=row>4</th><td>10824</td><td>0</td><td> 1</td><td> 1</td><td>0</td><td>0</td><td>0</td><td>0</td><td>0</td><td>0</td><td>...</td><td>0</td><td>0</td><td>0</td><td>0</td><td>0</td><td>0</td><td>1</td><td>0</td><td>0</td><td>0</td></tr>\n",
       "\t<tr><th scope=row>5</th><td>10747</td><td>0</td><td>27</td><td>27</td><td>0</td><td>0</td><td>0</td><td>0</td><td>0</td><td>0</td><td>...</td><td>0</td><td>0</td><td>0</td><td>0</td><td>0</td><td>0</td><td>1</td><td>0</td><td>0</td><td>0</td></tr>\n",
       "\t<tr><th scope=row>12</th><td>10607</td><td>4</td><td> 9</td><td> 9</td><td>0</td><td>0</td><td>0</td><td>0</td><td>0</td><td>0</td><td>...</td><td>0</td><td>0</td><td>1</td><td>0</td><td>0</td><td>0</td><td>0</td><td>0</td><td>1</td><td>1</td></tr>\n",
       "\t<tr><th scope=row>13</th><td>10831</td><td>0</td><td>27</td><td>27</td><td>0</td><td>0</td><td>0</td><td>0</td><td>1</td><td>0</td><td>...</td><td>0</td><td>0</td><td>0</td><td>1</td><td>1</td><td>0</td><td>1</td><td>0</td><td>0</td><td>0</td></tr>\n",
       "\t<tr><th scope=row>14</th><td>10845</td><td>0</td><td>27</td><td>27</td><td>1</td><td>0</td><td>0</td><td>0</td><td>0</td><td>0</td><td>...</td><td>0</td><td>0</td><td>0</td><td>1</td><td>0</td><td>0</td><td>1</td><td>0</td><td>0</td><td>0</td></tr>\n",
       "</tbody>\n",
       "</table>\n"
      ],
      "text/latex": [
       "A data.frame: 6 × 24\n",
       "\\begin{tabular}{r|lllllllllllllllllllll}\n",
       "  & abdt & tg & inuidur1 & inuidur2 & female & black & hispanic & othrace & dep & q1 & ... & q6 & recall & agelt35 & agegt54 & durable & nondurable & lusd & husd & muld & T4\\\\\n",
       "  & <int> & <int> & <int> & <int> & <int> & <int> & <int> & <int> & <int> & <int> & ... & <int> & <int> & <int> & <int> & <int> & <int> & <int> & <int> & <int> & <dbl>\\\\\n",
       "\\hline\n",
       "\t1 & 10824 & 0 & 18 & 18 & 0 & 0 & 0 & 0 & 2 & 0 & ... & 0 & 0 & 0 & 0 & 0 & 0 & 0 & 1 & 0 & 0\\\\\n",
       "\t4 & 10824 & 0 &  1 &  1 & 0 & 0 & 0 & 0 & 0 & 0 & ... & 0 & 0 & 0 & 0 & 0 & 0 & 1 & 0 & 0 & 0\\\\\n",
       "\t5 & 10747 & 0 & 27 & 27 & 0 & 0 & 0 & 0 & 0 & 0 & ... & 0 & 0 & 0 & 0 & 0 & 0 & 1 & 0 & 0 & 0\\\\\n",
       "\t12 & 10607 & 4 &  9 &  9 & 0 & 0 & 0 & 0 & 0 & 0 & ... & 0 & 0 & 1 & 0 & 0 & 0 & 0 & 0 & 1 & 1\\\\\n",
       "\t13 & 10831 & 0 & 27 & 27 & 0 & 0 & 0 & 0 & 1 & 0 & ... & 0 & 0 & 0 & 1 & 1 & 0 & 1 & 0 & 0 & 0\\\\\n",
       "\t14 & 10845 & 0 & 27 & 27 & 1 & 0 & 0 & 0 & 0 & 0 & ... & 0 & 0 & 0 & 1 & 0 & 0 & 1 & 0 & 0 & 0\\\\\n",
       "\\end{tabular}\n"
      ],
      "text/markdown": [
       "\n",
       "A data.frame: 6 × 24\n",
       "\n",
       "| <!--/--> | abdt &lt;int&gt; | tg &lt;int&gt; | inuidur1 &lt;int&gt; | inuidur2 &lt;int&gt; | female &lt;int&gt; | black &lt;int&gt; | hispanic &lt;int&gt; | othrace &lt;int&gt; | dep &lt;int&gt; | q1 &lt;int&gt; | ... ... | q6 &lt;int&gt; | recall &lt;int&gt; | agelt35 &lt;int&gt; | agegt54 &lt;int&gt; | durable &lt;int&gt; | nondurable &lt;int&gt; | lusd &lt;int&gt; | husd &lt;int&gt; | muld &lt;int&gt; | T4 &lt;dbl&gt; |\n",
       "|---|---|---|---|---|---|---|---|---|---|---|---|---|---|---|---|---|---|---|---|---|---|\n",
       "| 1 | 10824 | 0 | 18 | 18 | 0 | 0 | 0 | 0 | 2 | 0 | ... | 0 | 0 | 0 | 0 | 0 | 0 | 0 | 1 | 0 | 0 |\n",
       "| 4 | 10824 | 0 |  1 |  1 | 0 | 0 | 0 | 0 | 0 | 0 | ... | 0 | 0 | 0 | 0 | 0 | 0 | 1 | 0 | 0 | 0 |\n",
       "| 5 | 10747 | 0 | 27 | 27 | 0 | 0 | 0 | 0 | 0 | 0 | ... | 0 | 0 | 0 | 0 | 0 | 0 | 1 | 0 | 0 | 0 |\n",
       "| 12 | 10607 | 4 |  9 |  9 | 0 | 0 | 0 | 0 | 0 | 0 | ... | 0 | 0 | 1 | 0 | 0 | 0 | 0 | 0 | 1 | 1 |\n",
       "| 13 | 10831 | 0 | 27 | 27 | 0 | 0 | 0 | 0 | 1 | 0 | ... | 0 | 0 | 0 | 1 | 1 | 0 | 1 | 0 | 0 | 0 |\n",
       "| 14 | 10845 | 0 | 27 | 27 | 1 | 0 | 0 | 0 | 0 | 0 | ... | 0 | 0 | 0 | 1 | 0 | 0 | 1 | 0 | 0 | 0 |\n",
       "\n"
      ],
      "text/plain": [
       "   abdt  tg inuidur1 inuidur2 female black hispanic othrace dep q1 ... q6\n",
       "1  10824 0  18       18       0      0     0        0       2   0  ... 0 \n",
       "4  10824 0   1        1       0      0     0        0       0   0  ... 0 \n",
       "5  10747 0  27       27       0      0     0        0       0   0  ... 0 \n",
       "12 10607 4   9        9       0      0     0        0       0   0  ... 0 \n",
       "13 10831 0  27       27       0      0     0        0       1   0  ... 0 \n",
       "14 10845 0  27       27       1      0     0        0       0   0  ... 0 \n",
       "   recall agelt35 agegt54 durable nondurable lusd husd muld T4\n",
       "1  0      0       0       0       0          0    1    0    0 \n",
       "4  0      0       0       0       0          1    0    0    0 \n",
       "5  0      0       0       0       0          1    0    0    0 \n",
       "12 0      1       0       0       0          0    0    1    1 \n",
       "13 0      0       1       1       0          1    0    0    0 \n",
       "14 0      0       1       0       0          1    0    0    0 "
      ]
     },
     "metadata": {},
     "output_type": "display_data"
    }
   ],
   "source": [
    "# Convert T4 to dummy\n",
    "T4   <- Penn$tg==4\n",
    "T4   <- as.numeric(T4)\n",
    "Penn <- cbind(Penn, T4)\n",
    "head(Penn)"
   ]
  },
  {
   "cell_type": "code",
   "execution_count": 5,
   "id": "9bd8c222",
   "metadata": {},
   "outputs": [],
   "source": [
    "# a function to create bootstrap estimates for the intercept and slope terms by randomly sampling from among the observations\n",
    "# with replacement\n",
    "boot.fn <- function(data, index)\n",
    "  coef(lm(log(inuidur1)~T4+(female+black+othrace+factor(dep)+q2+q3+q4+q5+q6+agelt35+agegt54+durable+lusd+husd), \n",
    "          data = data, subset = index))"
   ]
  },
  {
   "cell_type": "code",
   "execution_count": 6,
   "id": "84dcda4b",
   "metadata": {},
   "outputs": [
    {
     "data": {
      "text/plain": [
       "\n",
       "ORDINARY NONPARAMETRIC BOOTSTRAP\n",
       "\n",
       "\n",
       "Call:\n",
       "boot(data = Penn, statistic = boot.fn, R = 1000)\n",
       "\n",
       "\n",
       "Bootstrap Statistics :\n",
       "         original        bias    std. error\n",
       "t1*   2.178462326  2.543807e-03  0.15825444\n",
       "t2*  -0.071692484 -4.240281e-04  0.03580750\n",
       "t3*   0.126368328 -8.729728e-04  0.03505499\n",
       "t4*  -0.293767980 -2.534832e-03  0.05914147\n",
       "t5*  -0.472445058  1.517142e-04  0.24895461\n",
       "t6*   0.029866899  1.232161e-03  0.05457686\n",
       "t7*   0.096186517 -3.844052e-03  0.04535747\n",
       "t8*   0.073678072 -4.863035e-04  0.15716849\n",
       "t9*  -0.038506537 -1.786909e-03  0.15640351\n",
       "t10* -0.054949195 -6.738897e-04  0.15755969\n",
       "t11* -0.144177912 -2.130279e-03  0.15501026\n",
       "t12*  0.003361318  1.764173e-03  0.16854890\n",
       "t13* -0.162772168 -1.392324e-03  0.03745889\n",
       "t14*  0.229666708 -3.682948e-03  0.05622531\n",
       "t15*  0.126557359 -1.616278e-03  0.04838833\n",
       "t16* -0.175352572  1.669278e-03  0.04086332\n",
       "t17* -0.105224727  6.151331e-05  0.04454744"
      ]
     },
     "metadata": {},
     "output_type": "display_data"
    }
   ],
   "source": [
    "# saving results\n",
    "results <- boot(Penn, boot.fn, 1000)\n",
    "results"
   ]
  },
  {
   "cell_type": "code",
   "execution_count": 7,
   "id": "2e0def95",
   "metadata": {
    "scrolled": false
   },
   "outputs": [
    {
     "name": "stdout",
     "output_type": "stream",
     "text": [
      "% latex table generated in R 4.1.1 by xtable 1.8-4 package\n",
      "% Wed Dec 08 08:55:02 2021\n",
      "\\begin{table}[ht]\n",
      "\\centering\n",
      "\\begin{tabular}{rrrrr}\n",
      "  \\hline\n",
      " & Coef\\_normal\\_reg & S.E\\_normal\\_reg & Coef\\_boot & S.E\\_boot \\\\ \n",
      "  \\hline\n",
      "T4 & -0.072 & 0.035 & -0.072 & 0.000 \\\\ \n",
      "  Female & 0.126 & 0.035 & 0.126 & 0.000 \\\\ \n",
      "  Black & -0.294 & 0.053 & -0.294 & 0.000 \\\\ \n",
      "   \\hline\n",
      "\\end{tabular}\n",
      "\\end{table}\n"
     ]
    },
    {
     "data": {
      "text/html": [
       "<table class=\"dataframe\">\n",
       "<caption>A xtable: 3 × 4</caption>\n",
       "<thead>\n",
       "\t<tr><th></th><th scope=col>Coef_normal_reg</th><th scope=col>S.E_normal_reg</th><th scope=col>Coef_boot</th><th scope=col>S.E_boot</th></tr>\n",
       "\t<tr><th></th><th scope=col>&lt;dbl&gt;</th><th scope=col>&lt;dbl&gt;</th><th scope=col>&lt;dbl&gt;</th><th scope=col>&lt;dbl&gt;</th></tr>\n",
       "</thead>\n",
       "<tbody>\n",
       "\t<tr><th scope=row>T4</th><td>-0.07169248</td><td>0.03546326</td><td>-0.07169248</td><td>0</td></tr>\n",
       "\t<tr><th scope=row>Female</th><td> 0.12636833</td><td>0.03482493</td><td> 0.12636833</td><td>0</td></tr>\n",
       "\t<tr><th scope=row>Black</th><td>-0.29376798</td><td>0.05297556</td><td>-0.29376798</td><td>0</td></tr>\n",
       "</tbody>\n",
       "</table>\n"
      ],
      "text/latex": [
       "A xtable: 3 × 4\n",
       "\\begin{tabular}{r|llll}\n",
       "  & Coef\\_normal\\_reg & S.E\\_normal\\_reg & Coef\\_boot & S.E\\_boot\\\\\n",
       "  & <dbl> & <dbl> & <dbl> & <dbl>\\\\\n",
       "\\hline\n",
       "\tT4 & -0.07169248 & 0.03546326 & -0.07169248 & 0\\\\\n",
       "\tFemale &  0.12636833 & 0.03482493 &  0.12636833 & 0\\\\\n",
       "\tBlack & -0.29376798 & 0.05297556 & -0.29376798 & 0\\\\\n",
       "\\end{tabular}\n"
      ],
      "text/markdown": [
       "\n",
       "A xtable: 3 × 4\n",
       "\n",
       "| <!--/--> | Coef_normal_reg &lt;dbl&gt; | S.E_normal_reg &lt;dbl&gt; | Coef_boot &lt;dbl&gt; | S.E_boot &lt;dbl&gt; |\n",
       "|---|---|---|---|---|\n",
       "| T4 | -0.07169248 | 0.03546326 | -0.07169248 | 0 |\n",
       "| Female |  0.12636833 | 0.03482493 |  0.12636833 | 0 |\n",
       "| Black | -0.29376798 | 0.05297556 | -0.29376798 | 0 |\n",
       "\n"
      ],
      "text/plain": [
       "       Coef_normal_reg S.E_normal_reg Coef_boot   S.E_boot\n",
       "T4     -0.07169248     0.03546326     -0.07169248 0       \n",
       "Female  0.12636833     0.03482493      0.12636833 0       \n",
       "Black  -0.29376798     0.05297556     -0.29376798 0       "
      ]
     },
     "metadata": {},
     "output_type": "display_data"
    }
   ],
   "source": [
    "# saving the model\n",
    "m   <- log(inuidur1)~T4+(female+black+othrace+factor(dep)+q2+q3+q4+q5+q6+agelt35+agegt54+durable+lusd+husd)\n",
    "reg <- summary(lm(m, data = Penn))$coef\n",
    "\n",
    "library(xtable)\n",
    "table <- matrix(0, 3, 4)\n",
    "table[1,1]   <- reg[2]\n",
    "table[2,1]   <- reg[3]\n",
    "table[3,1]   <- reg[4]\n",
    "\n",
    "\n",
    "table[1,2]   <- reg[2,2]\n",
    "table[2,2]   <- reg[3,2]\n",
    "table[3,2]   <- reg[4,2]\n",
    "\n",
    "\n",
    "table[1,3]   <- results$t0[2]\n",
    "table[2,3]   <- results$t0[3]\n",
    "table[3,3]   <- results$t0[4]\n",
    "\n",
    "colnames(table) <- c(\"Coef_normal_reg\", \"S.E_normal_reg\",\"Coef_boot\",\"S.E_boot\")\n",
    "rownames(table) <- c(\"T4\",\"Female\", \"Black\")\n",
    "\n",
    "tab <- xtable(table, digits = 3)\n",
    "print(tab,type=\"latex\") # set type=\"latex\" for printing table in LaTeX\n",
    "tab"
   ]
  },
  {
   "cell_type": "markdown",
   "id": "1d37495e",
   "metadata": {},
   "source": [
    "## Part 2: \n",
    "- HTE of female*T4\n",
    "- Causal Trees\n",
    "\n",
    "First run an OLS regression to find the HTE of female*T4, remember that log(inuidur1) is the endogenous variable. Also use the HC2 correction."
   ]
  },
  {
   "cell_type": "code",
   "execution_count": 8,
   "id": "fa5f60c2",
   "metadata": {},
   "outputs": [
    {
     "name": "stderr",
     "output_type": "stream",
     "text": [
      "Loading required package: zoo\n",
      "\n",
      "\n",
      "Attaching package: 'zoo'\n",
      "\n",
      "\n",
      "The following objects are masked from 'package:base':\n",
      "\n",
      "    as.Date, as.Date.numeric\n",
      "\n",
      "\n"
     ]
    },
    {
     "data": {
      "text/plain": [
       "\n",
       "Call:\n",
       "lm(formula = mhte, data = Penn)\n",
       "\n",
       "Residuals:\n",
       "    Min      1Q  Median      3Q     Max \n",
       "-2.6050 -0.9967  0.3132  1.0408  2.1014 \n",
       "\n",
       "Coefficients:\n",
       "              Estimate Std. Error t value Pr(>|t|)    \n",
       "(Intercept)   2.186613   0.159153  13.739  < 2e-16 ***\n",
       "female        0.096560   0.042753   2.259 0.023954 *  \n",
       "T4           -0.106729   0.045906  -2.325 0.020115 *  \n",
       "black        -0.294966   0.052983  -5.567 2.72e-08 ***\n",
       "othrace      -0.468157   0.198421  -2.359 0.018341 *  \n",
       "factor(dep)1  0.028541   0.054149   0.527 0.598160    \n",
       "factor(dep)2  0.095594   0.046863   2.040 0.041414 *  \n",
       "q2            0.079211   0.156887   0.505 0.613654    \n",
       "q3           -0.033300   0.156531  -0.213 0.831540    \n",
       "q4           -0.049572   0.156617  -0.317 0.751625    \n",
       "q5           -0.138087   0.155964  -0.885 0.375992    \n",
       "q6            0.005999   0.166463   0.036 0.971254    \n",
       "agelt35      -0.164546   0.036993  -4.448 8.85e-06 ***\n",
       "agegt54       0.228579   0.059176   3.863 0.000114 ***\n",
       "durable       0.126556   0.048144   2.629 0.008597 ** \n",
       "lusd         -0.175312   0.040981  -4.278 1.92e-05 ***\n",
       "husd         -0.104968   0.044907  -2.337 0.019454 *  \n",
       "female:T4     0.086916   0.072320   1.202 0.229487    \n",
       "---\n",
       "Signif. codes:  0 '***' 0.001 '**' 0.01 '*' 0.05 '.' 0.1 ' ' 1\n",
       "\n",
       "Residual standard error: 1.199 on 5081 degrees of freedom\n",
       "Multiple R-squared:  0.02942,\tAdjusted R-squared:  0.02617 \n",
       "F-statistic: 9.059 on 17 and 5081 DF,  p-value: < 2.2e-16\n"
      ]
     },
     "metadata": {},
     "output_type": "display_data"
    }
   ],
   "source": [
    "library(lmtest)\n",
    "library(sandwich)\n",
    "\n",
    "mhte <- log(inuidur1)~(female+T4 + T4*female + black+othrace+factor(dep)+q2+q3+q4+q5+q6+agelt35+agegt54+durable+lusd+husd)\n",
    "m2 <- lm(mhte, data = Penn)\n",
    "summary(m2)"
   ]
  },
  {
   "cell_type": "code",
   "execution_count": 9,
   "id": "141a3390",
   "metadata": {
    "scrolled": true
   },
   "outputs": [
    {
     "data": {
      "text/html": [
       "<style>\n",
       ".dl-inline {width: auto; margin:0; padding: 0}\n",
       ".dl-inline>dt, .dl-inline>dd {float: none; width: auto; display: inline-block}\n",
       ".dl-inline>dt::after {content: \":\\0020\"; padding-right: .5ex}\n",
       ".dl-inline>dt:not(:first-of-type) {padding-left: .5ex}\n",
       "</style><dl class=dl-inline><dt>2.5 %</dt><dd>-0.0548623928920511</dd><dt>97.5 %</dt><dd>0.228695121259511</dd></dl>\n"
      ],
      "text/latex": [
       "\\begin{description*}\n",
       "\\item[2.5 \\textbackslash{}\\%] -0.0548623928920511\n",
       "\\item[97.5 \\textbackslash{}\\%] 0.228695121259511\n",
       "\\end{description*}\n"
      ],
      "text/markdown": [
       "2.5 %\n",
       ":   -0.054862392892051197.5 %\n",
       ":   0.228695121259511\n",
       "\n"
      ],
      "text/plain": [
       "      2.5 %      97.5 % \n",
       "-0.05486239  0.22869512 "
      ]
     },
     "metadata": {},
     "output_type": "display_data"
    }
   ],
   "source": [
    "HCV.coefs <- vcovHC(m2, type = 'HC2')\n",
    "m2.se <- sqrt(diag(HCV.coefs))[18] # Estimated std errors\n",
    "confint(m2)[18,]"
   ]
  },
  {
   "cell_type": "markdown",
   "id": "2f297a75",
   "metadata": {},
   "source": [
    "We can see that the effect of the treatment is positive for women (0.086) in comparison to men but not significant, even when adjusting the standard errors."
   ]
  },
  {
   "cell_type": "markdown",
   "id": "8ff7f2dc",
   "metadata": {},
   "source": [
    "### Replicate the causal tree estimation. \n",
    "Use the next specification or formula:\n",
    "\n",
    "log(inuidur1) ~ T4+ female+black+othrace+factor(dep)+q2+q3+q4+q5+q6+agelt35+agegt54+durable+lusd+husd)"
   ]
  },
  {
   "cell_type": "code",
   "execution_count": 10,
   "id": "c65f00e2",
   "metadata": {},
   "outputs": [
    {
     "name": "stderr",
     "output_type": "stream",
     "text": [
      "Loading required package: rpart\n",
      "\n",
      "Loading required package: rpart.plot\n",
      "\n",
      "Loading required package: data.table\n",
      "\n",
      "Loading required package: Matrix\n",
      "\n",
      "Loaded glmnet 4.1-2\n",
      "\n",
      "\n",
      "Attaching package: 'MASS'\n",
      "\n",
      "\n",
      "The following object is masked from 'package:ISLR2':\n",
      "\n",
      "    Boston\n",
      "\n",
      "\n"
     ]
    }
   ],
   "source": [
    "library(causalTree)\n",
    "library(grf)\n",
    "library(rpart)\n",
    "library(glmnet)\n",
    "library(splines)\n",
    "library(MASS)\n",
    "library(ggplot2)"
   ]
  },
  {
   "cell_type": "code",
   "execution_count": 11,
   "id": "59924a7f",
   "metadata": {},
   "outputs": [],
   "source": [
    "# Treatment: T4 indicates the treatment group(bonus amount-qualification period) of each claimant.\n",
    "treatment  <- \"T4\"\n",
    "#Outcome: induidur1 indicates a mesuare of (in weeks) of the first spell of unemployment\n",
    "outcome    <- \"log(inuidur1)\"\n",
    "# Additional covariates\n",
    "covariates <- c(\"female\",\"black\",\"othrace\",\"factor(dep)\",\"q2\",\"q3\",\"q4\",\"q5\",\"q6\",\"agelt35\",\"agegt54\",\"durable\",\"lusd\",\"husd\")"
   ]
  },
  {
   "cell_type": "markdown",
   "id": "dc6ce06c",
   "metadata": {},
   "source": [
    "### Replicate the causal tree estimation:\n",
    "Use the next specification or formula\n",
    "\n",
    "log(inuidur1)~T4+ (female+black+othrace+factor(dep)+q2+q3+q4+q5+q6+agelt35+agegt54+durable+lusd+husd)"
   ]
  },
  {
   "cell_type": "markdown",
   "id": "9160f411",
   "metadata": {},
   "source": [
    "### Short questions and answers\n",
    "1. Why we need to partitionate the data in three sets?\n",
    "\n",
    "According to Athey et al. (2016), we need to partitionate the data because we want to use the \"honest\" approach. It means that we want to estimate the causal effects in the leaves of a tree of an sample different from the one used to built and cross-validate the tree. The idea, then, is to divide the sample into three subsets (not necessarily of equal size). The splitting subset is used to fit a decision tree whose objective is modified to maximize heterogeneity in treatment effect estimates across leaves. The estimation in each subset is then used to produce a valid estimate of the treatment effect at each leaf of the fitted tree.\n",
    "\n",
    "\n",
    "2. Why do we need to use the honest.causalTree function?\n",
    "\n",
    "The honest approach is used in order to dodge the problem of adaptative estimation (Athey & Imbens, 2015). That is, that individual with extreme values of $Y_i$ are concentrated on a leaf such that the sample means in the training group are higher than the means of the effect of the treatment in other independent samples. However, this comes with the cost of less power due to less observations in the test subset.\n",
    "\n",
    "3. Explain in detail the creation of the tree and how do you choose the optimal pruned tree\n",
    "\n",
    "- First, we divide the data into three subsets: one to determinate the optimal leaves, one to estimate the effect of each one of them and one to test to validate its optimality. \n",
    "- With subset, we fit the forest. It means, we create a number of trees, according to a formula, using bagging: using cross-validation to try different subspaces of the covariates in order to find the optimal number of leaves. We limited the number of leaves by certain smooth criteria, but we haven't prunned yet. \n",
    "- For each set of covariates, we have cross-validated the observations the number of optimal leaves in order to find the optimal number of trees for each subset. In other words, we have divided the sample into folds and estimated the RSE in the training sample. After it, we select the optimal complexity parameter to prune the tree and with it, the optimal number of leaves."
   ]
  },
  {
   "cell_type": "code",
   "execution_count": 12,
   "id": "49541146",
   "metadata": {},
   "outputs": [
    {
     "data": {
      "text/html": [
       "'log(inuidur1)~T4+(female+black+othrace+factor(dep)+q2+q3+q4+q5+q6+agelt35+agegt54+durable+lusd+husd)'"
      ],
      "text/latex": [
       "'log(inuidur1)\\textasciitilde{}T4+(female+black+othrace+factor(dep)+q2+q3+q4+q5+q6+agelt35+agegt54+durable+lusd+husd)'"
      ],
      "text/markdown": [
       "'log(inuidur1)~T4+(female+black+othrace+factor(dep)+q2+q3+q4+q5+q6+agelt35+agegt54+durable+lusd+husd)'"
      ],
      "text/plain": [
       "[1] \"log(inuidur1)~T4+(female+black+othrace+factor(dep)+q2+q3+q4+q5+q6+agelt35+agegt54+durable+lusd+husd)\""
      ]
     },
     "metadata": {},
     "output_type": "display_data"
    }
   ],
   "source": [
    "# defining the formula\n",
    "# fmla <- paste(outcome, \"~\", treatment, \"+\" , paste(covariates, collapse = \" + \"))\n",
    "# fmla\n",
    "fmla<-paste(\"log(inuidur1)~T4+(female+black+othrace+factor(dep)+q2+q3+q4+q5+q6+agelt35+agegt54+durable+lusd+husd)\")\n",
    "fmla"
   ]
  },
  {
   "cell_type": "code",
   "execution_count": 13,
   "id": "237e5108",
   "metadata": {},
   "outputs": [],
   "source": [
    "# Dividing data into three subsets\n",
    "indices <- split(seq(nrow(Penn)), sort(seq(nrow(Penn)) %% 3))\n",
    "names(indices) <- c('split', 'est', 'test')"
   ]
  },
  {
   "cell_type": "code",
   "execution_count": 14,
   "id": "6ad0b728",
   "metadata": {},
   "outputs": [
    {
     "name": "stdout",
     "output_type": "stream",
     "text": [
      "[1] 2\n",
      "[1] \"CT\"\n"
     ]
    }
   ],
   "source": [
    "# Fitting the forest\n",
    "ct.unpruned <- honest.causalTree(\n",
    "  formula          = fmla,            # Define the model\n",
    "  data             = Penn[indices$split, ],\n",
    "  treatment        = Penn[indices$split, treatment],\n",
    "  est_data         = Penn[indices$est, ],\n",
    "  est_treatment    = Penn[indices$est, treatment],\n",
    "  minsize          = 1,                 # Min. number of treatment and control cases in each leaf\n",
    "  HonestSampleSize = length(indices$est), #  Num obs used in estimation after splitting\n",
    "  \n",
    "  # We recommend not changing the parameters below\n",
    "  split.Rule=\"CT\",            # Define the splitting option\n",
    "  cv.option=\"TOT\",            # Cross validation options\n",
    "  cp=0,                       # Complexity parameter\n",
    "  split.Honest=TRUE,          # Use honesty when splitting\n",
    "  cv.Honest=TRUE              # Use honesty when performing cross-validation\n",
    ")"
   ]
  },
  {
   "cell_type": "code",
   "execution_count": 15,
   "id": "5228bbbc",
   "metadata": {},
   "outputs": [],
   "source": [
    "# Table of cross-validated values by tuning parameter.\n",
    "ct.cptable <- as.data.frame(ct.unpruned$cptable)\n",
    "\n",
    "# Obtain optimal complexity parameter to prune tree.\n",
    "cp.selected <- which.min(ct.cptable$xerror)\n",
    "cp.optimal <- ct.cptable[cp.selected, \"CP\"]\n",
    "\n",
    "# Prune the tree at optimal complexity parameter.\n",
    "ct.pruned <- prune(tree=ct.unpruned, cp=cp.optimal)\n",
    "\n",
    "# Predict point estimates (on estimation sample)\n",
    "tau.hat.est <- predict(ct.pruned, newdata=Penn[indices$est,])\n",
    "\n",
    "# Create a factor column 'leaf' indicating leaf assignment in the estimation set\n",
    "num.leaves <- length(unique(tau.hat.est))\n",
    "leaf <- factor(tau.hat.est, levels=sort(unique(tau.hat.est)), labels = seq(num.leaves))"
   ]
  },
  {
   "cell_type": "markdown",
   "id": "20aa24f1",
   "metadata": {},
   "source": [
    "Plotting the three"
   ]
  },
  {
   "cell_type": "code",
   "execution_count": 16,
   "id": "e73cba94",
   "metadata": {
    "scrolled": true
   },
   "outputs": [
    {
     "data": {
      "image/png": "[encoded data removed]",
      "text/plain": [
       "plot without title"
      ]
     },
     "metadata": {
      "image/png": {
       "height": 420,
       "width": 420
      }
     },
     "output_type": "display_data"
    }
   ],
   "source": [
    "rpart.plot(\n",
    "  x=ct.pruned,        # Pruned tree\n",
    "  type=3,             # Draw separate split labels for the left and right directions\n",
    "  fallen=TRUE,        # Position the leaf nodes at the bottom of the graph\n",
    "  leaf.round=1,       # Rounding of the corners of the leaf node boxes\n",
    "  extra=100,          # Display the percentage of observations in the node\n",
    "  branch=.1,          # Shape of the branch lines\n",
    "  box.palette=\"RdBu\") # Palette for coloring the node"
   ]
  },
  {
   "cell_type": "markdown",
   "id": "e6616088",
   "metadata": {},
   "source": [
    "We found a problem when plotting the pruned tree. When running the same script in R, we got the right results."
   ]
  }
 ],
 "metadata": {
  "kernelspec": {
   "display_name": "R",
   "language": "R",
   "name": "ir"
  },
  "language_info": {
   "codemirror_mode": "r",
   "file_extension": ".r",
   "mimetype": "text/x-r-source",
   "name": "R",
   "pygments_lexer": "r",
   "version": "4.2.0"
  }
 },
 "nbformat": 4,
 "nbformat_minor": 5
}
