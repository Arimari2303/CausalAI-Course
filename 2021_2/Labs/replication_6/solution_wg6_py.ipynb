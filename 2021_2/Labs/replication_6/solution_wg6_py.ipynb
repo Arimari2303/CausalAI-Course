{
 "cells": [
  {
   "cell_type": "markdown",
   "id": "922085f3",
   "metadata": {},
   "source": [
    "# Solution Workgroup 6 - Python script\n",
    "\n",
    "## I. Debiased Machine Learning (DML) applied to the Convergence Hypothesis"
   ]
  },
  {
   "cell_type": "markdown",
   "id": "aa4df0f4",
   "metadata": {},
   "source": [
    "We will use the DML algorithm we have learned using The Testing Convergence Hypothesis Lab and the next variables for the main analysis:\n",
    "\n",
    "$y$ = outcome: growth rate\n",
    "\n",
    "$d$ = treatment: initial wealth\n",
    "\n",
    "$x$ = controls: country characteristics\n",
    "\n",
    "We will run the next regressions:\n",
    "\n",
    "- OLS without including the country characteristics.\n",
    "- OLS including the country characteristics.\n",
    "- DML using Lasso to predict y an d.\n",
    "- DML using Post-Lasso to predict y an d.\n",
    "- DML using Elastic Net to predict y an d.\n",
    "- DML using Ridge to predict y an d.\n",
    "- DML using Random Forest to predict y an d.  \n",
    "\n",
    "We will run the best method and show our results in a table."
   ]
  },
  {
   "cell_type": "code",
   "execution_count": 1,
   "id": "0c1d7b99",
   "metadata": {},
   "outputs": [],
   "source": [
    "from numpy import loadtxt\n",
    "from keras.models import Sequential\n",
    "from keras.layers import Dense"
   ]
  },
  {
   "cell_type": "code",
   "execution_count": 2,
   "id": "39f24049",
   "metadata": {},
   "outputs": [],
   "source": [
    "# Import relevant packages\n",
    "import pandas as pd\n",
    "import numpy as np\n",
    "import pyreadr\n",
    "from sklearn import preprocessing\n",
    "import patsy\n",
    "\n",
    "from numpy import loadtxt\n",
    "\n",
    "import math\n",
    "import hdmpy\n",
    "import numpy as np\n",
    "import random\n",
    "import statsmodels.api as sm\n",
    "import matplotlib.pyplot as plt\n",
    "import numpy as np\n",
    "from matplotlib import colors\n",
    "import warnings\n",
    "warnings.filterwarnings('ignore')"
   ]
  },
  {
   "cell_type": "code",
   "execution_count": 3,
   "id": "33e2fa97",
   "metadata": {},
   "outputs": [],
   "source": [
    "from sklearn.linear_model import LassoCV\n",
    "from sklearn.preprocessing import StandardScaler\n",
    "from sklearn.linear_model import RidgeCV, ElasticNetCV\n",
    "from sklearn.linear_model import LinearRegression\n",
    "from sklearn import linear_model\n",
    "import itertools\n",
    "from pandas.api.types import is_string_dtype\n",
    "from pandas.api.types import is_numeric_dtype\n",
    "from pandas.api.types import is_categorical_dtype\n",
    "from itertools import compress\n",
    "import statsmodels.api as sm\n",
    "import statsmodels.formula.api as smf\n",
    "from sklearn.feature_selection import SelectFromModel"
   ]
  },
  {
   "cell_type": "markdown",
   "id": "8f7f310f",
   "metadata": {},
   "source": [
    "Load the data"
   ]
  },
  {
   "cell_type": "code",
   "execution_count": 4,
   "id": "c2ca6c71",
   "metadata": {},
   "outputs": [],
   "source": [
    "# downloading the data that the author used\n",
    "growth_read = pyreadr.read_r('../data/GrowthData.RData')\n",
    "\n",
    "# extracting the data frame from rdata_read\n",
    "data = growth_read[ 'GrowthData' ]\n",
    "\n"
   ]
  },
  {
   "cell_type": "code",
   "execution_count": 5,
   "id": "02d7efb9",
   "metadata": {
    "scrolled": true
   },
   "outputs": [
    {
     "data": {
      "text/html": [
       "<div>\n",
       "<style scoped>\n",
       "    .dataframe tbody tr th:only-of-type {\n",
       "        vertical-align: middle;\n",
       "    }\n",
       "\n",
       "    .dataframe tbody tr th {\n",
       "        vertical-align: top;\n",
       "    }\n",
       "\n",
       "    .dataframe thead th {\n",
       "        text-align: right;\n",
       "    }\n",
       "</style>\n",
       "<table border=\"1\" class=\"dataframe\">\n",
       "  <thead>\n",
       "    <tr style=\"text-align: right;\">\n",
       "      <th></th>\n",
       "      <th>Outcome</th>\n",
       "      <th>intercept</th>\n",
       "      <th>gdpsh465</th>\n",
       "      <th>bmp1l</th>\n",
       "      <th>freeop</th>\n",
       "      <th>freetar</th>\n",
       "      <th>h65</th>\n",
       "      <th>hm65</th>\n",
       "      <th>hf65</th>\n",
       "      <th>p65</th>\n",
       "      <th>...</th>\n",
       "      <th>seccf65</th>\n",
       "      <th>syr65</th>\n",
       "      <th>syrm65</th>\n",
       "      <th>syrf65</th>\n",
       "      <th>teapri65</th>\n",
       "      <th>teasec65</th>\n",
       "      <th>ex1</th>\n",
       "      <th>im1</th>\n",
       "      <th>xr65</th>\n",
       "      <th>tot1</th>\n",
       "    </tr>\n",
       "  </thead>\n",
       "  <tbody>\n",
       "    <tr>\n",
       "      <th>0</th>\n",
       "      <td>-0.024336</td>\n",
       "      <td>1</td>\n",
       "      <td>6.591674</td>\n",
       "      <td>0.2837</td>\n",
       "      <td>0.153491</td>\n",
       "      <td>0.043888</td>\n",
       "      <td>0.007</td>\n",
       "      <td>0.013</td>\n",
       "      <td>0.001</td>\n",
       "      <td>0.29</td>\n",
       "      <td>...</td>\n",
       "      <td>0.04</td>\n",
       "      <td>0.033</td>\n",
       "      <td>0.057</td>\n",
       "      <td>0.010</td>\n",
       "      <td>47.6</td>\n",
       "      <td>17.3</td>\n",
       "      <td>0.0729</td>\n",
       "      <td>0.0667</td>\n",
       "      <td>0.348</td>\n",
       "      <td>-0.014727</td>\n",
       "    </tr>\n",
       "    <tr>\n",
       "      <th>1</th>\n",
       "      <td>0.100473</td>\n",
       "      <td>1</td>\n",
       "      <td>6.829794</td>\n",
       "      <td>0.6141</td>\n",
       "      <td>0.313509</td>\n",
       "      <td>0.061827</td>\n",
       "      <td>0.019</td>\n",
       "      <td>0.032</td>\n",
       "      <td>0.007</td>\n",
       "      <td>0.91</td>\n",
       "      <td>...</td>\n",
       "      <td>0.64</td>\n",
       "      <td>0.173</td>\n",
       "      <td>0.274</td>\n",
       "      <td>0.067</td>\n",
       "      <td>57.1</td>\n",
       "      <td>18.0</td>\n",
       "      <td>0.0940</td>\n",
       "      <td>0.1438</td>\n",
       "      <td>0.525</td>\n",
       "      <td>0.005750</td>\n",
       "    </tr>\n",
       "    <tr>\n",
       "      <th>2</th>\n",
       "      <td>0.067051</td>\n",
       "      <td>1</td>\n",
       "      <td>8.895082</td>\n",
       "      <td>0.0000</td>\n",
       "      <td>0.204244</td>\n",
       "      <td>0.009186</td>\n",
       "      <td>0.260</td>\n",
       "      <td>0.325</td>\n",
       "      <td>0.201</td>\n",
       "      <td>1.00</td>\n",
       "      <td>...</td>\n",
       "      <td>18.14</td>\n",
       "      <td>2.573</td>\n",
       "      <td>2.478</td>\n",
       "      <td>2.667</td>\n",
       "      <td>26.5</td>\n",
       "      <td>20.7</td>\n",
       "      <td>0.1741</td>\n",
       "      <td>0.1750</td>\n",
       "      <td>1.082</td>\n",
       "      <td>-0.010040</td>\n",
       "    </tr>\n",
       "    <tr>\n",
       "      <th>3</th>\n",
       "      <td>0.064089</td>\n",
       "      <td>1</td>\n",
       "      <td>7.565275</td>\n",
       "      <td>0.1997</td>\n",
       "      <td>0.248714</td>\n",
       "      <td>0.036270</td>\n",
       "      <td>0.061</td>\n",
       "      <td>0.070</td>\n",
       "      <td>0.051</td>\n",
       "      <td>1.00</td>\n",
       "      <td>...</td>\n",
       "      <td>2.63</td>\n",
       "      <td>0.438</td>\n",
       "      <td>0.453</td>\n",
       "      <td>0.424</td>\n",
       "      <td>27.8</td>\n",
       "      <td>22.7</td>\n",
       "      <td>0.1265</td>\n",
       "      <td>0.1496</td>\n",
       "      <td>6.625</td>\n",
       "      <td>-0.002195</td>\n",
       "    </tr>\n",
       "    <tr>\n",
       "      <th>4</th>\n",
       "      <td>0.027930</td>\n",
       "      <td>1</td>\n",
       "      <td>7.162397</td>\n",
       "      <td>0.1740</td>\n",
       "      <td>0.299252</td>\n",
       "      <td>0.037367</td>\n",
       "      <td>0.017</td>\n",
       "      <td>0.027</td>\n",
       "      <td>0.007</td>\n",
       "      <td>0.82</td>\n",
       "      <td>...</td>\n",
       "      <td>2.11</td>\n",
       "      <td>0.257</td>\n",
       "      <td>0.287</td>\n",
       "      <td>0.229</td>\n",
       "      <td>34.5</td>\n",
       "      <td>17.6</td>\n",
       "      <td>0.1211</td>\n",
       "      <td>0.1308</td>\n",
       "      <td>2.500</td>\n",
       "      <td>0.003283</td>\n",
       "    </tr>\n",
       "  </tbody>\n",
       "</table>\n",
       "<p>5 rows × 63 columns</p>\n",
       "</div>"
      ],
      "text/plain": [
       "    Outcome  intercept  gdpsh465   bmp1l    freeop   freetar    h65   hm65  \\\n",
       "0 -0.024336          1  6.591674  0.2837  0.153491  0.043888  0.007  0.013   \n",
       "1  0.100473          1  6.829794  0.6141  0.313509  0.061827  0.019  0.032   \n",
       "2  0.067051          1  8.895082  0.0000  0.204244  0.009186  0.260  0.325   \n",
       "3  0.064089          1  7.565275  0.1997  0.248714  0.036270  0.061  0.070   \n",
       "4  0.027930          1  7.162397  0.1740  0.299252  0.037367  0.017  0.027   \n",
       "\n",
       "    hf65   p65  ...  seccf65  syr65  syrm65  syrf65  teapri65  teasec65  \\\n",
       "0  0.001  0.29  ...     0.04  0.033   0.057   0.010      47.6      17.3   \n",
       "1  0.007  0.91  ...     0.64  0.173   0.274   0.067      57.1      18.0   \n",
       "2  0.201  1.00  ...    18.14  2.573   2.478   2.667      26.5      20.7   \n",
       "3  0.051  1.00  ...     2.63  0.438   0.453   0.424      27.8      22.7   \n",
       "4  0.007  0.82  ...     2.11  0.257   0.287   0.229      34.5      17.6   \n",
       "\n",
       "      ex1     im1   xr65      tot1  \n",
       "0  0.0729  0.0667  0.348 -0.014727  \n",
       "1  0.0940  0.1438  0.525  0.005750  \n",
       "2  0.1741  0.1750  1.082 -0.010040  \n",
       "3  0.1265  0.1496  6.625 -0.002195  \n",
       "4  0.1211  0.1308  2.500  0.003283  \n",
       "\n",
       "[5 rows x 63 columns]"
      ]
     },
     "execution_count": 5,
     "metadata": {},
     "output_type": "execute_result"
    }
   ],
   "source": [
    "data.head(5)"
   ]
  },
  {
   "cell_type": "code",
   "execution_count": 6,
   "id": "14e2c641",
   "metadata": {},
   "outputs": [],
   "source": [
    "# data cleaning\n",
    "y = data['Outcome']\n",
    "d = data['gdpsh465']\n",
    "x = data.drop(['Outcome','gdpsh465','intercept'], 1)"
   ]
  },
  {
   "cell_type": "markdown",
   "id": "6311ea6b",
   "metadata": {},
   "source": [
    "### 1. OLS without including the country characteristics.\n"
   ]
  },
  {
   "cell_type": "code",
   "execution_count": 7,
   "id": "08718814",
   "metadata": {},
   "outputs": [],
   "source": [
    "import statsmodels.api as sm\n",
    "import statsmodels.formula.api as smf\n",
    "import patsy"
   ]
  },
  {
   "cell_type": "markdown",
   "id": "c6e8f072",
   "metadata": {},
   "source": [
    "We make the model equation without control variables"
   ]
  },
  {
   "cell_type": "code",
   "execution_count": 8,
   "id": "f971e640",
   "metadata": {
    "scrolled": true
   },
   "outputs": [
    {
     "name": "stdout",
     "output_type": "stream",
     "text": [
      "[0.025   -0.010810\n",
      "0.975]    0.013444\n",
      "Name: d, dtype: float64\n"
     ]
    },
    {
     "data": {
      "text/plain": [
       "Coef.       0.001317\n",
       "Std.Err.    0.006102\n",
       "t           0.215777\n",
       "P>|t|       0.829661\n",
       "[0.025     -0.010810\n",
       "0.975]      0.013444\n",
       "Name: d, dtype: float64"
      ]
     },
     "execution_count": 8,
     "metadata": {},
     "output_type": "execute_result"
    }
   ],
   "source": [
    "model = \"y ~ d\"\n",
    "baseline_ols = smf.ols(model , data=data).fit()\n",
    "baseline_ols_table = baseline_ols.summary2().tables[1]\n",
    "print( baseline_ols_table.iloc[ 1 , 4:] )\n",
    "baseline_ols_table.iloc[1, :]"
   ]
  },
  {
   "cell_type": "code",
   "execution_count": 9,
   "id": "c5a4dc62",
   "metadata": {},
   "outputs": [
    {
     "data": {
      "text/plain": [
       "0.0013167126134460663"
      ]
     },
     "execution_count": 9,
     "metadata": {},
     "output_type": "execute_result"
    }
   ],
   "source": [
    "baseline_ols.summary2().tables[1]['Coef.']['d']"
   ]
  },
  {
   "cell_type": "code",
   "execution_count": 10,
   "id": "ece84780",
   "metadata": {},
   "outputs": [
    {
     "data": {
      "text/html": [
       "<div>\n",
       "<style scoped>\n",
       "    .dataframe tbody tr th:only-of-type {\n",
       "        vertical-align: middle;\n",
       "    }\n",
       "\n",
       "    .dataframe tbody tr th {\n",
       "        vertical-align: top;\n",
       "    }\n",
       "\n",
       "    .dataframe thead th {\n",
       "        text-align: right;\n",
       "    }\n",
       "</style>\n",
       "<table border=\"1\" class=\"dataframe\">\n",
       "  <thead>\n",
       "    <tr style=\"text-align: right;\">\n",
       "      <th></th>\n",
       "      <th>Coef.</th>\n",
       "      <th>Std.Err.</th>\n",
       "      <th>t</th>\n",
       "      <th>P&gt;|t|</th>\n",
       "      <th>[0.025</th>\n",
       "      <th>0.975]</th>\n",
       "    </tr>\n",
       "  </thead>\n",
       "  <tbody>\n",
       "    <tr>\n",
       "      <th>d</th>\n",
       "      <td>0.001317</td>\n",
       "      <td>0.006102</td>\n",
       "      <td>0.215777</td>\n",
       "      <td>0.829661</td>\n",
       "      <td>-0.01081</td>\n",
       "      <td>0.013444</td>\n",
       "    </tr>\n",
       "  </tbody>\n",
       "</table>\n",
       "</div>"
      ],
      "text/plain": [
       "      Coef.  Std.Err.         t     P>|t|   [0.025    0.975]\n",
       "d  0.001317  0.006102  0.215777  0.829661 -0.01081  0.013444"
      ]
     },
     "execution_count": 10,
     "metadata": {},
     "output_type": "execute_result"
    }
   ],
   "source": [
    "baseline_ols_table.loc[['d'],:]"
   ]
  },
  {
   "cell_type": "markdown",
   "id": "3cf7d4cc",
   "metadata": {},
   "source": [
    "An increase by 1% in the initial wealth cause an increase in the outcome by 0.001317."
   ]
  },
  {
   "cell_type": "markdown",
   "id": "977c16a9",
   "metadata": {},
   "source": [
    "### 2. OLS including the country characteristics."
   ]
  },
  {
   "cell_type": "markdown",
   "id": "a30d4a30",
   "metadata": {},
   "source": [
    "- We select only the country characteristics variables to include in the model equation\n",
    "- Also run the model including the country characteristics"
   ]
  },
  {
   "cell_type": "code",
   "execution_count": 11,
   "id": "673fe381",
   "metadata": {},
   "outputs": [],
   "source": [
    "control_formula = \"y~ d + x\""
   ]
  },
  {
   "cell_type": "code",
   "execution_count": 12,
   "id": "010101ec",
   "metadata": {},
   "outputs": [
    {
     "name": "stdout",
     "output_type": "stream",
     "text": [
      "[0.025   -0.070600\n",
      "0.975]    0.051844\n",
      "Name: d, dtype: float64\n"
     ]
    },
    {
     "data": {
      "text/plain": [
       "Coef.      -0.009378\n",
       "Std.Err.    0.029888\n",
       "t          -0.313774\n",
       "P>|t|       0.756019\n",
       "[0.025     -0.070600\n",
       "0.975]      0.051844\n",
       "Name: d, dtype: float64"
      ]
     },
     "execution_count": 12,
     "metadata": {},
     "output_type": "execute_result"
    }
   ],
   "source": [
    "control_ols = smf.ols( control_formula , data=data).fit()\n",
    "control_ols_table = control_ols.summary2().tables[1]\n",
    "print( control_ols_table.iloc[ 1 , 4:] )\n",
    "control_ols_table.iloc[1, :]"
   ]
  },
  {
   "cell_type": "code",
   "execution_count": 13,
   "id": "a8271c3c",
   "metadata": {
    "scrolled": true
   },
   "outputs": [
    {
     "data": {
      "text/html": [
       "<div>\n",
       "<style scoped>\n",
       "    .dataframe tbody tr th:only-of-type {\n",
       "        vertical-align: middle;\n",
       "    }\n",
       "\n",
       "    .dataframe tbody tr th {\n",
       "        vertical-align: top;\n",
       "    }\n",
       "\n",
       "    .dataframe thead th {\n",
       "        text-align: right;\n",
       "    }\n",
       "</style>\n",
       "<table border=\"1\" class=\"dataframe\">\n",
       "  <thead>\n",
       "    <tr style=\"text-align: right;\">\n",
       "      <th></th>\n",
       "      <th>Coef.</th>\n",
       "      <th>Std.Err.</th>\n",
       "      <th>t</th>\n",
       "      <th>P&gt;|t|</th>\n",
       "      <th>[0.025</th>\n",
       "      <th>0.975]</th>\n",
       "    </tr>\n",
       "  </thead>\n",
       "  <tbody>\n",
       "    <tr>\n",
       "      <th>d</th>\n",
       "      <td>-0.009378</td>\n",
       "      <td>0.029888</td>\n",
       "      <td>-0.313774</td>\n",
       "      <td>0.756019</td>\n",
       "      <td>-0.0706</td>\n",
       "      <td>0.051844</td>\n",
       "    </tr>\n",
       "  </tbody>\n",
       "</table>\n",
       "</div>"
      ],
      "text/plain": [
       "      Coef.  Std.Err.         t     P>|t|  [0.025    0.975]\n",
       "d -0.009378  0.029888 -0.313774  0.756019 -0.0706  0.051844"
      ]
     },
     "execution_count": 13,
     "metadata": {},
     "output_type": "execute_result"
    }
   ],
   "source": [
    "control_ols_table.loc[['d'],:]"
   ]
  },
  {
   "cell_type": "markdown",
   "id": "29c2ccef",
   "metadata": {},
   "source": [
    "This can interpret as if the initial wealth increase by 1%, then the outcome decrease by -0.0093."
   ]
  },
  {
   "cell_type": "markdown",
   "id": "2577979e",
   "metadata": {},
   "source": [
    "## 3. DML algorithm\n",
    "\n",
    "Here we perform inference of the predictive coefficient $\\beta$ in our partially linear statistical model, \n",
    "\n",
    "$$\n",
    "Y = D\\beta + g(Z) + \\epsilon, \\quad E (\\epsilon | D, Z) = 0,\n",
    "$$\n",
    "\n",
    "using the **double machine learning (DML)** approach. \n",
    "\n",
    "For $\\tilde Y = Y- E(Y|Z)$ and $\\tilde D= D- E(D|Z)$, we can write\n",
    "$$\n",
    "\\tilde Y = \\alpha \\tilde D + \\epsilon, \\quad E (\\epsilon |\\tilde D) =0.\n",
    "$$\n",
    "\n",
    "Using cross-fitting, we employ modern regression methods\n",
    "to build estimators $\\hat \\ell(Z)$ and $\\hat m(Z)$ of $\\ell(Z):=E(Y|Z)$ and $m(Z):=E(D|Z)$ to obtain the estimates of the residualized quantities:\n",
    "\n",
    "$$\n",
    "\\tilde Y_i = Y_i  - \\hat \\ell (Z_i),   \\quad \\tilde D_i = D_i - \\hat m(Z_i), \\quad \\text{ for each } i = 1,\\dots,n.\n",
    "$$\n",
    "\n",
    "Finally, using ordinary least squares of $\\tilde Y_i$ on $\\tilde D_i$, we obtain the \n",
    "estimate of $\\beta$."
   ]
  },
  {
   "cell_type": "markdown",
   "id": "389f949a",
   "metadata": {},
   "source": [
    "First, we create the base fuction to use in the **DML**."
   ]
  },
  {
   "cell_type": "code",
   "execution_count": 14,
   "id": "331c2683",
   "metadata": {},
   "outputs": [],
   "source": [
    "def DML2_for_PLM(x, d, y, dreg, yreg, nfold):\n",
    "    \n",
    "    # Num ob observations\n",
    "    nobs = x.shape[0]\n",
    "    \n",
    "    # Define folds indices \n",
    "    list_1 = [*range(0, nfold, 1)]*nobs\n",
    "    sample = np.random.choice(nobs,nobs, replace=False).tolist()\n",
    "    foldid = [list_1[index] for index in sample]\n",
    "\n",
    "    # Create split function(similar to R)\n",
    "    def split(x, f):\n",
    "        count = max(f) + 1\n",
    "        return tuple( list(itertools.compress(x, (el == i for el in f))) for i in range(count) ) \n",
    "\n",
    "    # Split observation indices into folds \n",
    "    list_2 = [*range(0, nobs, 1)]\n",
    "    I = split(list_2, foldid)\n",
    "    \n",
    "    # Create array to save errors \n",
    "    dtil = np.zeros( len(x) ).reshape( len(x) , 1 )\n",
    "    ytil = np.zeros( len(x) ).reshape( len(x) , 1 )\n",
    "    \n",
    "    # loop to save results\n",
    "    for b in range(0,len(I)):\n",
    "    \n",
    "        # Split data - index to keep are in mask as booleans\n",
    "        include_idx = set(I[b])  #Here should go I[b] Set is more efficient, but doesn't reorder your elements if that is desireable\n",
    "        mask = np.array([(i in include_idx) for i in range(len(x))])\n",
    "\n",
    "        # Lasso regression, excluding folds selected \n",
    "        dfit = dreg(x[~mask,], d[~mask,])\n",
    "        yfit = yreg(x[~mask,], y[~mask,])\n",
    "\n",
    "        # predict estimates using the \n",
    "        dhat = dfit.predict( x[mask,] )\n",
    "        yhat = yfit.predict( x[mask,] )\n",
    "\n",
    "        # save errors  \n",
    "        dtil[mask] =  d[mask,] - dhat.reshape( len(I[b]) , 1 )\n",
    "        ytil[mask] = y[mask,] - yhat.reshape( len(I[b]) , 1 )\n",
    "        print(b, \" \")\n",
    "    \n",
    "    # Create dataframe \n",
    "    data_2 = pd.DataFrame(np.concatenate( ( ytil, dtil), axis = 1), columns = ['ytil','dtil'])\n",
    "   \n",
    "    # OLS clustering at the County level\n",
    "    model = \"ytil ~ dtil\"\n",
    "    baseline_ols = smf.ols(model , data = data_2 ).fit()\n",
    "    coef_est = baseline_ols.summary2().tables[1]['Coef.']['dtil']\n",
    "    se = baseline_ols.summary2().tables[1]['Std.Err.']['dtil']\n",
    "    \n",
    "    Final_result = { 'coef_est' : coef_est , 'se' : se , 'dtil' : dtil , 'ytil' : ytil }\n",
    "\n",
    "    print(\"Coefficient is {}, SE is equal to {}\".format(coef_est, se))\n",
    "    \n",
    "    return Final_result"
   ]
  },
  {
   "cell_type": "markdown",
   "id": "15823d72",
   "metadata": {},
   "source": [
    "Now that we have the function, the next step is to use the differents machine learning method "
   ]
  },
  {
   "cell_type": "code",
   "execution_count": 15,
   "id": "04027b97",
   "metadata": {},
   "outputs": [],
   "source": [
    "# converting varianles into a matrix\n",
    "y = y.to_numpy().reshape( len(y) , 1 )\n",
    "d = d.to_numpy().reshape( len(y) , 1 )\n",
    "x = x.to_numpy()"
   ]
  },
  {
   "cell_type": "markdown",
   "id": "e98d95a4",
   "metadata": {},
   "source": [
    "## 3. DML using Lasso to predict $y$ an $d$"
   ]
  },
  {
   "cell_type": "markdown",
   "id": "c64c26f6",
   "metadata": {},
   "source": [
    "### 3.1 Lasso Using scikit-learn\n"
   ]
  },
  {
   "cell_type": "code",
   "execution_count": 16,
   "id": "6f83f32b",
   "metadata": {
    "scrolled": false
   },
   "outputs": [
    {
     "name": "stdout",
     "output_type": "stream",
     "text": [
      "0  \n",
      "1  \n",
      "2  \n",
      "3  \n",
      "4  \n",
      "5  \n",
      "6  \n",
      "7  \n",
      "8  \n",
      "9  \n",
      "Coefficient is 0.015428236453425687, SE is equal to 0.010473537645094125\n"
     ]
    }
   ],
   "source": [
    "def dreg(x,d):\n",
    "    alpha=0.00000001\n",
    "    result = linear_model.Lasso(alpha = alpha).fit(x, d)\n",
    "    return result\n",
    "\n",
    "def yreg(x,y):\n",
    "    alpha=0.00000001\n",
    "    result = linear_model.Lasso(alpha = alpha).fit(x, y)\n",
    "    return result\n",
    "\n",
    "DML2_lasso = DML2_for_PLM(x, d, y, dreg, yreg, 10)"
   ]
  },
  {
   "cell_type": "markdown",
   "id": "3ea67728",
   "metadata": {},
   "source": [
    "###  3.2 Lasso using hdmpy "
   ]
  },
  {
   "cell_type": "code",
   "execution_count": 17,
   "id": "a22306e5",
   "metadata": {},
   "outputs": [],
   "source": [
    "import hdmpy\n",
    "from statsmodels.tools import add_constant"
   ]
  },
  {
   "cell_type": "code",
   "execution_count": 18,
   "id": "f05040bb",
   "metadata": {},
   "outputs": [],
   "source": [
    "class rlasso_hdmy:\n",
    "    \n",
    "    def __init__(self, post ):\n",
    "        self.post = post\n",
    "       \n",
    "    def fit( self, X, Y ):\n",
    "        \n",
    "        self.X = X\n",
    "        self.Y = Y\n",
    "        \n",
    "        # Standarization of X and Y\n",
    "        self.rlasso_model = hdmpy.rlasso( X , Y , post = self.post )                \n",
    "        return self\n",
    "    \n",
    "    def predict( self , X_1 ):\n",
    "        self.X_1 = X_1\n",
    "        beta = self.rlasso_model.est['coefficients'].to_numpy()\n",
    "        \n",
    "        if beta.sum() == 0:\n",
    "            prediction = np.repeat( self.rlasso_model.est['intercept'] , self.X_1.shape[0] )\n",
    "        \n",
    "        else:\n",
    "            prediction = ( add_constant( self.X_1 , has_constant = 'add') @ beta ).flatten()\n",
    "                \n",
    "        return prediction"
   ]
  },
  {
   "cell_type": "code",
   "execution_count": 19,
   "id": "b309c50f",
   "metadata": {
    "scrolled": true
   },
   "outputs": [
    {
     "name": "stdout",
     "output_type": "stream",
     "text": [
      "0  \n",
      "1  \n",
      "2  \n",
      "3  \n",
      "4  \n",
      "5  \n",
      "6  \n",
      "7  \n",
      "8  \n",
      "9  \n",
      "Coefficient is -0.04032748554785723, SE is equal to 0.0144203550955758\n"
     ]
    }
   ],
   "source": [
    "# Post = false\n",
    "def dreg(x, d):\n",
    "    result = rlasso_hdmy( post = False ).fit( x , d )\n",
    "    return result\n",
    "\n",
    "def yreg(x,y):\n",
    "    result = rlasso_hdmy( post = False ).fit( x , y )\n",
    "    return result\n",
    "\n",
    "DML2_lasso_hdmpy = DML2_for_PLM(x, d, y, dreg, yreg, 10)"
   ]
  },
  {
   "cell_type": "markdown",
   "id": "c5212f2c",
   "metadata": {},
   "source": [
    "## 4. DML using Post-Lasso to predict $y$ an $d$"
   ]
  },
  {
   "cell_type": "markdown",
   "id": "e9611dff",
   "metadata": {},
   "source": [
    "### 4.1 Post - Lasso Using scikit-learn\n"
   ]
  },
  {
   "cell_type": "code",
   "execution_count": 20,
   "id": "0b2f225d",
   "metadata": {},
   "outputs": [],
   "source": [
    "class Lasso_post:\n",
    "    \n",
    "    def __init__(self, alpha ):\n",
    "        self.alpha = alpha\n",
    "\n",
    "        \n",
    "    def fit( self, X, Y ):\n",
    "        self.X = X\n",
    "        self.Y = Y\n",
    "        lasso = linear_model.Lasso( alpha = self.alpha ).fit( X , Y )\n",
    "        model = SelectFromModel( lasso , prefit = True )\n",
    "        X_new = model.transform( X )\n",
    "        # Gettin indices from columns which has variance for regression\n",
    "        index_X = model.get_support()\n",
    "        \n",
    "        self.index = index_X\n",
    "        new_x = X[ : ,  index_X ]\n",
    "        \n",
    "        lasso2 = linear_model.Lasso( alpha = self.alpha ).fit( new_x , Y )\n",
    "        self.model = lasso2\n",
    "        \n",
    "        return self\n",
    "    \n",
    "    def predict( self , X ):\n",
    "        \n",
    "        dropped_X = X[ : , self.index ]\n",
    "        \n",
    "        predictions = self.model.predict( dropped_X )\n",
    "        \n",
    "        return predictions"
   ]
  },
  {
   "cell_type": "code",
   "execution_count": 21,
   "id": "96aaae27",
   "metadata": {
    "scrolled": true
   },
   "outputs": [
    {
     "name": "stdout",
     "output_type": "stream",
     "text": [
      "0  \n",
      "1  \n",
      "2  \n",
      "3  \n",
      "4  \n",
      "5  \n",
      "6  \n",
      "7  \n",
      "8  \n",
      "9  \n",
      "Coefficient is 0.034208318739032864, SE is equal to 0.010565179461344037\n"
     ]
    }
   ],
   "source": [
    "def dreg(x,d):\n",
    "    alpha=0.00000001\n",
    "    result = Lasso_post( alpha = alpha ).fit( x , d )\n",
    "    return result\n",
    "\n",
    "def yreg( x , y ):\n",
    "    alpha = 0.00000001\n",
    "    result = Lasso_post( alpha = alpha ).fit( x , y )\n",
    "    return result\n",
    "\n",
    "DML2_lasso_post = DML2_for_PLM(x, d, y, dreg, yreg, 10)"
   ]
  },
  {
   "cell_type": "markdown",
   "id": "e0485dca",
   "metadata": {},
   "source": [
    "### 4.2 Post - Lasso using hdmpy"
   ]
  },
  {
   "cell_type": "code",
   "execution_count": 22,
   "id": "936e1343",
   "metadata": {},
   "outputs": [],
   "source": [
    "import hdmpy\n",
    "from statsmodels.tools import add_constant"
   ]
  },
  {
   "cell_type": "code",
   "execution_count": 23,
   "id": "6662c900",
   "metadata": {},
   "outputs": [],
   "source": [
    "class rlasso_hdmy:\n",
    "    \n",
    "    def __init__(self, post ):\n",
    "        self.post = post\n",
    "       \n",
    "    def fit( self, X, Y ):\n",
    "        \n",
    "        self.X = X\n",
    "        self.Y = Y\n",
    "        \n",
    "        # Standarization of X and Y\n",
    "        self.rlasso_model = hdmpy.rlasso( X , Y , post = self.post )                \n",
    "        return self\n",
    "    \n",
    "    def predict( self , X_1 ):\n",
    "        self.X_1 = X_1\n",
    "        beta = self.rlasso_model.est['coefficients'].to_numpy()\n",
    "        \n",
    "        if beta.sum() == 0:\n",
    "            prediction = np.repeat( self.rlasso_model.est['intercept'] , self.X_1.shape[0] )\n",
    "        \n",
    "        else:\n",
    "            prediction = ( add_constant( self.X_1 , has_constant = 'add') @ beta ).flatten()\n",
    "                \n",
    "        return prediction"
   ]
  },
  {
   "cell_type": "code",
   "execution_count": 24,
   "id": "5501731b",
   "metadata": {},
   "outputs": [
    {
     "name": "stdout",
     "output_type": "stream",
     "text": [
      "0  \n",
      "1  \n",
      "2  \n",
      "3  \n",
      "4  \n",
      "5  \n",
      "6  \n",
      "7  \n",
      "8  \n",
      "9  \n",
      "Coefficient is -0.03956162960966979, SE is equal to 0.0136955657056328\n"
     ]
    }
   ],
   "source": [
    "# Post = True\n",
    "def dreg(x, d):\n",
    "    result = rlasso_hdmy( post = True ).fit( x , d )\n",
    "    return result\n",
    "\n",
    "def yreg(x,y):\n",
    "    result = rlasso_hdmy( post = True ).fit( x , y )\n",
    "    return result\n",
    "\n",
    "DML2_lasso_post_hdmpy = DML2_for_PLM(x, d, y, dreg, yreg, 10)"
   ]
  },
  {
   "cell_type": "markdown",
   "id": "0243e97d",
   "metadata": {},
   "source": [
    "## 5. DML using Elastic Net"
   ]
  },
  {
   "cell_type": "code",
   "execution_count": 25,
   "id": "89c497ff",
   "metadata": {},
   "outputs": [],
   "source": [
    "class standard_skl_model:\n",
    "    \n",
    "    def __init__(self, model ):\n",
    "        self.model = model\n",
    "       \n",
    "    def fit( self, X, Y ):\n",
    "        \n",
    "        # Standarization of X and Y\n",
    "        self.scaler_X = StandardScaler()\n",
    "        self.scaler_X.fit( X )\n",
    "        std_X = self.scaler_X.transform( X )\n",
    "                \n",
    "        self.model.fit( std_X , Y )\n",
    "                \n",
    "        return self\n",
    "    \n",
    "    def predict( self , X ):\n",
    "        \n",
    "        self.scaler_X = StandardScaler()\n",
    "        self.scaler_X.fit( X )\n",
    "        std_X = self.scaler_X.transform( X )\n",
    "        \n",
    "        prediction = self.model.predict( std_X )\n",
    "        \n",
    "        return prediction"
   ]
  },
  {
   "cell_type": "code",
   "execution_count": 26,
   "id": "d156dccd",
   "metadata": {
    "scrolled": true
   },
   "outputs": [
    {
     "name": "stdout",
     "output_type": "stream",
     "text": [
      "0  \n",
      "1  \n",
      "2  \n",
      "3  \n",
      "4  \n",
      "5  \n",
      "6  \n",
      "7  \n",
      "8  \n",
      "9  \n",
      "Coefficient is 0.0014287915437003508, SE is equal to 0.010706472503853476\n"
     ]
    }
   ],
   "source": [
    "# DML with cross-validated Elastic Net:\n",
    "def dreg(x,d):\n",
    "    result = standard_skl_model( ElasticNetCV( cv = 10 , random_state = 0 , l1_ratio = 0.5, max_iter = 100000 ) ).fit( x, d )\n",
    "    return result\n",
    "\n",
    "def yreg(x,y):\n",
    "    result = standard_skl_model( ElasticNetCV( cv = 10 , random_state = 0 , l1_ratio = 0.5, max_iter = 100000 ) ).fit( x, y )\n",
    "    return result\n",
    "\n",
    "DML2_elnet = DML2_for_PLM(x, d, y, dreg, yreg, 10 )"
   ]
  },
  {
   "cell_type": "markdown",
   "id": "6ebb9a34",
   "metadata": {},
   "source": [
    "## 6. DML using Ridge to predict"
   ]
  },
  {
   "cell_type": "code",
   "execution_count": 27,
   "id": "5b85bd9f",
   "metadata": {},
   "outputs": [
    {
     "name": "stdout",
     "output_type": "stream",
     "text": [
      "0  \n",
      "1  \n",
      "2  \n",
      "3  \n",
      "4  \n",
      "5  \n",
      "6  \n",
      "7  \n",
      "8  \n",
      "9  \n",
      "Coefficient is -0.01689585663596966, SE is equal to 0.009329337211001655\n"
     ]
    }
   ],
   "source": [
    "# DML with cross-validated Ridge:\n",
    "def dreg(x,d):\n",
    "    result = standard_skl_model( ElasticNetCV( cv = 10 ,  random_state = 0 , l1_ratio = 0.0001 ) ).fit( x, d )\n",
    "    return result\n",
    "\n",
    "def yreg(x,y):\n",
    "    result = standard_skl_model( ElasticNetCV( cv = 10 , random_state = 0 , l1_ratio = 0.0001 ) ).fit( x, y )\n",
    "    return result\n",
    "\n",
    "DML2_ridge = DML2_for_PLM(x, d, y, dreg, yreg, 10)"
   ]
  },
  {
   "cell_type": "markdown",
   "id": "8f49b888",
   "metadata": {},
   "source": [
    "## 7. DML using Random Forest"
   ]
  },
  {
   "cell_type": "code",
   "execution_count": 28,
   "id": "51d32ad1",
   "metadata": {},
   "outputs": [],
   "source": [
    "from sklearn.tree import DecisionTreeRegressor\n",
    "from sklearn.ensemble import RandomForestRegressor\n",
    "from sklearn.ensemble import GradientBoostingRegressor"
   ]
  },
  {
   "cell_type": "code",
   "execution_count": 29,
   "id": "c2017918",
   "metadata": {
    "scrolled": true
   },
   "outputs": [
    {
     "name": "stdout",
     "output_type": "stream",
     "text": [
      "0  \n",
      "1  \n",
      "2  \n",
      "3  \n",
      "4  \n",
      "5  \n",
      "6  \n",
      "7  \n",
      "8  \n",
      "9  \n",
      "Coefficient is -0.04532271079660437, SE is equal to 0.012279553131739403\n"
     ]
    }
   ],
   "source": [
    "# DML with Random Forest:\n",
    "def dreg(x,d):\n",
    "    result = RandomForestRegressor( random_state = 0 , n_estimators = 500 , max_features = 60 , n_jobs = 4 , min_samples_leaf = 5 ).fit( x, d )\n",
    "    return result\n",
    "\n",
    "def yreg(x,y):\n",
    "    result = RandomForestRegressor( random_state = 0 , n_estimators = 500 , max_features = 60 , n_jobs = 4 , min_samples_leaf = 5 ).fit( x, y )\n",
    "    return result\n",
    "\n",
    "DML2_RF = DML2_for_PLM(x, d, y, dreg, yreg, 10)   # set to 2 due to computation time"
   ]
  },
  {
   "cell_type": "markdown",
   "id": "5f1afac3",
   "metadata": {},
   "source": [
    "Now we can join all the results for every method"
   ]
  },
  {
   "cell_type": "code",
   "execution_count": 30,
   "id": "51fa0df3",
   "metadata": {
    "scrolled": true
   },
   "outputs": [
    {
     "data": {
      "text/html": [
       "<div>\n",
       "<style scoped>\n",
       "    .dataframe tbody tr th:only-of-type {\n",
       "        vertical-align: middle;\n",
       "    }\n",
       "\n",
       "    .dataframe tbody tr th {\n",
       "        vertical-align: top;\n",
       "    }\n",
       "\n",
       "    .dataframe thead th {\n",
       "        text-align: right;\n",
       "    }\n",
       "</style>\n",
       "<table border=\"1\" class=\"dataframe\">\n",
       "  <thead>\n",
       "    <tr style=\"text-align: right;\">\n",
       "      <th></th>\n",
       "      <th>DML2_lasso</th>\n",
       "      <th>DML2_lasso_hdmy</th>\n",
       "      <th>DML2_lasso_post</th>\n",
       "      <th>DML2_lasso_post_hdmpy</th>\n",
       "      <th>DML2_ridge</th>\n",
       "      <th>DML2_elnet</th>\n",
       "      <th>DML2_RF</th>\n",
       "    </tr>\n",
       "  </thead>\n",
       "  <tbody>\n",
       "    <tr>\n",
       "      <th>RMSEY</th>\n",
       "      <td>0.002250</td>\n",
       "      <td>0.000063</td>\n",
       "      <td>0.002370</td>\n",
       "      <td>0.001528</td>\n",
       "      <td>4.548830e-18</td>\n",
       "      <td>3.569675e-17</td>\n",
       "      <td>0.000735</td>\n",
       "    </tr>\n",
       "    <tr>\n",
       "      <th>RMSED</th>\n",
       "      <td>0.005838</td>\n",
       "      <td>0.007499</td>\n",
       "      <td>0.002246</td>\n",
       "      <td>0.000624</td>\n",
       "      <td>3.355341e-16</td>\n",
       "      <td>7.697546e-16</td>\n",
       "      <td>0.025390</td>\n",
       "    </tr>\n",
       "  </tbody>\n",
       "</table>\n",
       "</div>"
      ],
      "text/plain": [
       "       DML2_lasso  DML2_lasso_hdmy  DML2_lasso_post  DML2_lasso_post_hdmpy  \\\n",
       "RMSEY    0.002250         0.000063         0.002370               0.001528   \n",
       "RMSED    0.005838         0.007499         0.002246               0.000624   \n",
       "\n",
       "         DML2_ridge    DML2_elnet   DML2_RF  \n",
       "RMSEY  4.548830e-18  3.569675e-17  0.000735  \n",
       "RMSED  3.355341e-16  7.697546e-16  0.025390  "
      ]
     },
     "execution_count": 30,
     "metadata": {},
     "output_type": "execute_result"
    }
   ],
   "source": [
    "mods = [DML2_lasso, DML2_lasso_hdmpy, DML2_lasso_post ,DML2_lasso_post_hdmpy, DML2_ridge, DML2_elnet, DML2_RF]\n",
    "mods_name = [\"DML2_lasso\", 'DML2_lasso_hdmy',\"DML2_lasso_post\",'DML2_lasso_post_hdmpy', 'DML2_ridge', 'DML2_elnet', 'DML2_RF']\n",
    "\n",
    "def mdl( model , model_name ):\n",
    "    \n",
    "    RMSEY = np.sqrt( np.mean( model[ 'ytil' ] ) ** 2 )\n",
    "    RMSED = np.sqrt( np.mean( model[ 'dtil' ] ) ** 2 ) \n",
    "    \n",
    "    result = pd.DataFrame( { model_name : [ RMSEY , RMSED ]} , index = [ 'RMSEY' , 'RMSED' ])\n",
    "    return result\n",
    "\n",
    "RES = [ mdl( model , name ) for model, name in zip( mods , mods_name ) ]\n",
    "    \n",
    "pr_Res = pd.concat( RES, axis = 1)\n",
    "\n",
    "pr_Res"
   ]
  },
  {
   "cell_type": "markdown",
   "id": "d7bc0689",
   "metadata": {},
   "source": [
    "## 8. Run the best method i.e. the best combination of methods to predict $y$ an $d$"
   ]
  },
  {
   "cell_type": "code",
   "execution_count": 31,
   "id": "bb776501",
   "metadata": {
    "scrolled": true
   },
   "outputs": [
    {
     "name": "stdout",
     "output_type": "stream",
     "text": [
      "0  \n",
      "1  \n",
      "2  \n",
      "3  \n",
      "4  \n",
      "5  \n",
      "6  \n",
      "7  \n",
      "8  \n",
      "9  \n",
      "Coefficient is 0.006406830446803534, SE is equal to 0.006843369328091645\n"
     ]
    }
   ],
   "source": [
    "def dreg(x,d):\n",
    "    result = standard_skl_model(  ElasticNetCV(cv = 10 , random_state = 0 , alphas = [0]) ).fit( x, d )\n",
    "    return result\n",
    "\n",
    "\n",
    "def yreg(x,y):\n",
    "    result = standard_skl_model( ElasticNetCV( cv = 10 ,  random_state = 0 , l1_ratio = 0.0001 ) ).fit( x, y )\n",
    "    return result\n",
    "\n",
    "DML2_best = DML2_for_PLM(x, d, y , dreg, yreg, 10)\n",
    "\n"
   ]
  },
  {
   "cell_type": "markdown",
   "id": "9f09e9e9",
   "metadata": {},
   "source": [
    "##  9. Show your results in a table"
   ]
  },
  {
   "cell_type": "code",
   "execution_count": 32,
   "id": "f44cd416",
   "metadata": {},
   "outputs": [],
   "source": [
    "table = np.zeros( ( 10 , 2 ))\n",
    "table[ 0 , 0] = baseline_ols.summary2().tables[1]['Coef.']['d']\n",
    "table[ 1 , 0] = control_ols.summary2().tables[1]['Coef.']['d']\n",
    "table[ 2 , 0] = DML2_lasso['coef_est']\n",
    "table[ 3 , 0] = DML2_lasso_hdmpy['coef_est']\n",
    "table[ 4 , 0] = DML2_lasso_post['coef_est']\n",
    "table[ 5 , 0] = DML2_lasso_post_hdmpy['coef_est']\n",
    "table[ 6 , 0] = DML2_ridge['coef_est']\n",
    "table[ 7 , 0] = DML2_elnet['coef_est']\n",
    "table[ 8 , 0] = DML2_RF['coef_est']\n",
    "table[ 9 , 0] = DML2_best['coef_est']\n",
    "table[ 0 , 1] = baseline_ols.summary2().tables[1]['Std.Err.']['d']\n",
    "table[ 1 , 1] = control_ols.summary2().tables[1]['Std.Err.']['d']\n",
    "table[ 2 , 1] = DML2_lasso['se']\n",
    "table[ 3 , 1] = DML2_lasso_hdmpy['se']\n",
    "table[ 4 , 1] = DML2_lasso_post['se']\n",
    "table[ 5 , 1] = DML2_lasso_post_hdmpy['se']\n",
    "table[ 6 , 1] = DML2_ridge['se']\n",
    "table[ 7 , 1] = DML2_elnet['se']\n",
    "table[ 8 , 1] = DML2_RF['se']\n",
    "table[ 9 , 1] = DML2_best['se']"
   ]
  },
  {
   "cell_type": "code",
   "execution_count": 33,
   "id": "830154b9",
   "metadata": {},
   "outputs": [
    {
     "data": {
      "text/html": [
       "<div>\n",
       "<style scoped>\n",
       "    .dataframe tbody tr th:only-of-type {\n",
       "        vertical-align: middle;\n",
       "    }\n",
       "\n",
       "    .dataframe tbody tr th {\n",
       "        vertical-align: top;\n",
       "    }\n",
       "\n",
       "    .dataframe thead th {\n",
       "        text-align: right;\n",
       "    }\n",
       "</style>\n",
       "<table border=\"1\" class=\"dataframe\">\n",
       "  <thead>\n",
       "    <tr style=\"text-align: right;\">\n",
       "      <th></th>\n",
       "      <th>Estimate</th>\n",
       "      <th>Standard Error</th>\n",
       "    </tr>\n",
       "  </thead>\n",
       "  <tbody>\n",
       "    <tr>\n",
       "      <th>Baseline OLS</th>\n",
       "      <td>0.001</td>\n",
       "      <td>0.006</td>\n",
       "    </tr>\n",
       "    <tr>\n",
       "      <th>OLS with controls</th>\n",
       "      <td>-0.009</td>\n",
       "      <td>0.030</td>\n",
       "    </tr>\n",
       "    <tr>\n",
       "      <th>Lasso</th>\n",
       "      <td>0.015</td>\n",
       "      <td>0.010</td>\n",
       "    </tr>\n",
       "    <tr>\n",
       "      <th>Lasso using hdmy</th>\n",
       "      <td>-0.040</td>\n",
       "      <td>0.014</td>\n",
       "    </tr>\n",
       "    <tr>\n",
       "      <th>Post-Lasso</th>\n",
       "      <td>0.034</td>\n",
       "      <td>0.011</td>\n",
       "    </tr>\n",
       "    <tr>\n",
       "      <th>Post-Lasso using hdmy</th>\n",
       "      <td>-0.040</td>\n",
       "      <td>0.014</td>\n",
       "    </tr>\n",
       "    <tr>\n",
       "      <th>CV Elnet</th>\n",
       "      <td>-0.017</td>\n",
       "      <td>0.009</td>\n",
       "    </tr>\n",
       "    <tr>\n",
       "      <th>CV Ridge</th>\n",
       "      <td>0.001</td>\n",
       "      <td>0.011</td>\n",
       "    </tr>\n",
       "    <tr>\n",
       "      <th>Random Forest</th>\n",
       "      <td>-0.045</td>\n",
       "      <td>0.012</td>\n",
       "    </tr>\n",
       "    <tr>\n",
       "      <th>Best</th>\n",
       "      <td>0.006</td>\n",
       "      <td>0.007</td>\n",
       "    </tr>\n",
       "  </tbody>\n",
       "</table>\n",
       "</div>"
      ],
      "text/plain": [
       "                       Estimate  Standard Error\n",
       "Baseline OLS              0.001           0.006\n",
       "OLS with controls        -0.009           0.030\n",
       "Lasso                     0.015           0.010\n",
       "Lasso using hdmy         -0.040           0.014\n",
       "Post-Lasso                0.034           0.011\n",
       "Post-Lasso using hdmy    -0.040           0.014\n",
       "CV Elnet                 -0.017           0.009\n",
       "CV Ridge                  0.001           0.011\n",
       "Random Forest            -0.045           0.012\n",
       "Best                      0.006           0.007"
      ]
     },
     "execution_count": 33,
     "metadata": {},
     "output_type": "execute_result"
    }
   ],
   "source": [
    "table = pd.DataFrame(table, index = [ \"Baseline OLS\", \"OLS with controls\", \"Lasso\", 'Lasso using hdmy', \\\n",
    "                                       \"Post-Lasso\",'Post-Lasso using hdmy',\"CV Elnet\", \"CV Ridge\", \\\n",
    "                                       \"Random Forest\", \"Best\" ] , \\\n",
    "                     columns = [\"Estimate\",\"Standard Error\"] )\n",
    "table.round( 3 )"
   ]
  }
 ],
 "metadata": {
  "kernelspec": {
   "display_name": "Python 3 (ipykernel)",
   "language": "python",
   "name": "python3"
  },
  "language_info": {
   "codemirror_mode": {
    "name": "ipython",
    "version": 3
   },
   "file_extension": ".py",
   "mimetype": "text/x-python",
   "name": "python",
   "nbconvert_exporter": "python",
   "pygments_lexer": "ipython3",
   "version": "3.9.7"
  }
 },
 "nbformat": 4,
 "nbformat_minor": 5
}
