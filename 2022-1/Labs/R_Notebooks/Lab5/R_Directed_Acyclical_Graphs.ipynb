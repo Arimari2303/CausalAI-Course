{
 "cells": [
  {
   "cell_type": "markdown",
   "id": "mounted-touch",
   "metadata": {},
   "source": [
    "\n",
    "## Welcome\n",
    "\n",
    "This is material for the **Directed Acyclical Graphs** chapter in Scott Cunningham's book, [Causal Inference: The Mixtape.](https://mixtape.scunning.com/)\n",
    "\n"
   ]
  },
  {
   "cell_type": "markdown",
   "id": "d2c54b74",
   "metadata": {},
   "source": [
    "### Packages needed\n",
    "\n",
    "The first thing you need to do is install a few packages to make sure everything runs:"
   ]
  },
  {
   "cell_type": "code",
   "execution_count": 14,
   "id": "d3d6798a",
   "metadata": {},
   "outputs": [],
   "source": [
    "#load_ext rpy2.ipython"
   ]
  },
  {
   "cell_type": "code",
   "execution_count": 17,
   "id": "soviet-messaging",
   "metadata": {
    "attributes": {
     "": "",
     "classes": [],
     "id": ""
    }
   },
   "outputs": [],
   "source": [
    "#%%R\n",
    "# install.packages(\"tidyverse\")\n",
    "# install.packages(\"cli\")\n",
    "# install.packages(\"haven\")\n",
    "# install.packages(\"estimatr\")\n",
    "# install.packages(\"stargazer\")"
   ]
  },
  {
   "cell_type": "markdown",
   "id": "destroyed-mortality",
   "metadata": {},
   "source": [
    "### Load"
   ]
  },
  {
   "cell_type": "code",
   "execution_count": 1,
   "id": "spectacular-giant",
   "metadata": {
    "attributes": {
     "classes": [],
     "id": "",
     "message": "FALSE",
     "warning": "FALSE,"
    }
   },
   "outputs": [
    {
     "name": "stderr",
     "output_type": "stream",
     "text": [
      "Registered S3 methods overwritten by 'ggplot2':\n",
      "  method         from \n",
      "  [.quosures     rlang\n",
      "  c.quosures     rlang\n",
      "  print.quosures rlang\n",
      "Registered S3 method overwritten by 'rvest':\n",
      "  method            from\n",
      "  read_xml.response xml2\n",
      "-- Attaching packages --------------------------------------- tidyverse 1.2.1 --\n",
      "v ggplot2 3.1.1       v purrr   0.3.2  \n",
      "v tibble  2.1.1       v dplyr   0.8.0.1\n",
      "v tidyr   0.8.3       v stringr 1.4.0  \n",
      "v readr   1.3.1       v forcats 0.4.0  \n",
      "-- Conflicts ------------------------------------------ tidyverse_conflicts() --\n",
      "x dplyr::filter() masks stats::filter()\n",
      "x dplyr::lag()    masks stats::lag()\n",
      "Warning message:\n",
      "\"package 'estimatr' was built under R version 3.6.3\"\n",
      "Please cite as: \n",
      "\n",
      " Hlavac, Marek (2022). stargazer: Well-Formatted Regression and Summary Statistics Tables.\n",
      " R package version 5.2.3. https://CRAN.R-project.org/package=stargazer \n",
      "\n",
      "Warning message:\n",
      "\"package 'cli' was built under R version 3.6.3\""
     ]
    }
   ],
   "source": [
    "#%%R\n",
    "\n",
    "library(haven)\n",
    "library(tidyverse)\n",
    "library(estimatr)\n",
    "library(stargazer)\n",
    "library(cli)\n",
    "\n",
    "# read_data function\n",
    "read_data <- function(df) {\n",
    "  full_path <- paste0(\"https://raw.github.com/scunning1975/mixtape/master/\", df)\n",
    "  return(haven::read_dta(full_path))\n",
    "}"
   ]
  },
  {
   "cell_type": "markdown",
   "id": "anonymous-difference",
   "metadata": {},
   "source": [
    "## Collider - Discrimination"
   ]
  },
  {
   "cell_type": "code",
   "execution_count": 2,
   "id": "7eb03413",
   "metadata": {
    "attributes": {
     "classes": [],
     "echo": "FALSE",
     "exercise": "TRUE,",
     "id": ""
    }
   },
   "outputs": [],
   "source": [
    "#%%R\n",
    "\n",
    "tb <- tibble(\n",
    "  female = ifelse(runif(10000)>=0.5,1,0),\n",
    "  ability = rnorm(10000),\n",
    "  discrimination = female,\n",
    "  occupation = 1 + 2*ability + 0*female - 2*discrimination + rnorm(10000),\n",
    "  wage = 1 - 1*discrimination + 1*occupation + 2*ability + rnorm(10000) \n",
    ")"
   ]
  },
  {
   "cell_type": "code",
   "execution_count": 3,
   "id": "281bc1ad",
   "metadata": {},
   "outputs": [
    {
     "data": {
      "text/html": [
       "<table>\n",
       "<thead><tr><th scope=col>female</th><th scope=col>ability</th><th scope=col>discrimination</th><th scope=col>occupation</th><th scope=col>wage</th></tr></thead>\n",
       "<tbody>\n",
       "\t<tr><td>0          </td><td> 1.73048197</td><td>0          </td><td> 5.8837342 </td><td>10.5538151 </td></tr>\n",
       "\t<tr><td>0          </td><td> 0.36883844</td><td>0          </td><td> 0.6000639 </td><td> 3.4719793 </td></tr>\n",
       "\t<tr><td>0          </td><td>-0.08501946</td><td>0          </td><td>-0.5355559 </td><td>-0.3338885 </td></tr>\n",
       "\t<tr><td>1          </td><td> 2.39117709</td><td>1          </td><td> 4.2129410 </td><td> 9.6553612 </td></tr>\n",
       "\t<tr><td>0          </td><td> 1.72347833</td><td>0          </td><td> 6.7763000 </td><td>11.2905961 </td></tr>\n",
       "\t<tr><td>1          </td><td> 0.57961258</td><td>1          </td><td>-1.5958720 </td><td>-0.7628434 </td></tr>\n",
       "\t<tr><td>1          </td><td>-0.96850229</td><td>1          </td><td>-3.2930698 </td><td>-4.7002412 </td></tr>\n",
       "\t<tr><td>0          </td><td>-1.78600559</td><td>0          </td><td>-4.2010266 </td><td>-6.6337978 </td></tr>\n",
       "\t<tr><td>1          </td><td>-0.70927419</td><td>1          </td><td>-0.9784104 </td><td>-2.6835755 </td></tr>\n",
       "\t<tr><td>1          </td><td>-0.24002622</td><td>1          </td><td> 1.4538798 </td><td>-0.7116285 </td></tr>\n",
       "\t<tr><td>0          </td><td>-1.13796603</td><td>0          </td><td>-0.1451708 </td><td>-1.1393008 </td></tr>\n",
       "\t<tr><td>1          </td><td>-0.35969009</td><td>1          </td><td>-1.2542589 </td><td>-2.3138164 </td></tr>\n",
       "\t<tr><td>1          </td><td> 0.84127585</td><td>1          </td><td> 1.5586815 </td><td> 2.8920947 </td></tr>\n",
       "\t<tr><td>1          </td><td> 1.32813574</td><td>1          </td><td> 0.8563640 </td><td> 3.7315153 </td></tr>\n",
       "\t<tr><td>1          </td><td>-0.10329408</td><td>1          </td><td>-1.5421838 </td><td>-0.5898349 </td></tr>\n",
       "\t<tr><td>0          </td><td>-1.72723197</td><td>0          </td><td>-2.3115344 </td><td>-4.1226418 </td></tr>\n",
       "\t<tr><td>1          </td><td>-0.29389656</td><td>1          </td><td>-1.2627788 </td><td>-0.6140510 </td></tr>\n",
       "\t<tr><td>1          </td><td>-0.98742143</td><td>1          </td><td>-2.0984008 </td><td>-3.3304253 </td></tr>\n",
       "\t<tr><td>1          </td><td>-1.08186768</td><td>1          </td><td>-3.5227948 </td><td>-6.0967054 </td></tr>\n",
       "\t<tr><td>0          </td><td> 1.78520540</td><td>0          </td><td> 6.6863196 </td><td>11.6069891 </td></tr>\n",
       "\t<tr><td>1          </td><td>-0.45867042</td><td>1          </td><td>-2.1360314 </td><td>-2.3936296 </td></tr>\n",
       "\t<tr><td>0          </td><td>-1.91419063</td><td>0          </td><td>-3.6155171 </td><td>-9.6669343 </td></tr>\n",
       "\t<tr><td>1          </td><td> 0.05327564</td><td>1          </td><td>-0.8115931 </td><td>-1.1943294 </td></tr>\n",
       "\t<tr><td>0          </td><td>-0.40983517</td><td>0          </td><td> 2.0188763 </td><td> 1.2341133 </td></tr>\n",
       "\t<tr><td>0          </td><td> 0.56578530</td><td>0          </td><td> 1.2149436 </td><td> 2.6090093 </td></tr>\n",
       "\t<tr><td>1          </td><td>-1.49335913</td><td>1          </td><td>-5.0681389 </td><td>-7.1343138 </td></tr>\n",
       "\t<tr><td>0          </td><td>-1.02387266</td><td>0          </td><td>-0.9267172 </td><td>-3.2381370 </td></tr>\n",
       "\t<tr><td>0          </td><td>-0.08279784</td><td>0          </td><td> 1.6586857 </td><td> 3.2706159 </td></tr>\n",
       "\t<tr><td>1          </td><td>-0.23043699</td><td>1          </td><td>-1.0866311 </td><td>-3.1369393 </td></tr>\n",
       "\t<tr><td>1          </td><td>-0.83067989</td><td>1          </td><td>-1.8549161 </td><td>-2.6686658 </td></tr>\n",
       "\t<tr><td>...</td><td>...</td><td>...</td><td>...</td><td>...</td></tr>\n",
       "\t<tr><td>0           </td><td>-1.582448411</td><td>0           </td><td>-3.08146109 </td><td>-5.24829457 </td></tr>\n",
       "\t<tr><td>0           </td><td> 1.250940885</td><td>0           </td><td> 4.24030274 </td><td> 7.58168294 </td></tr>\n",
       "\t<tr><td>1           </td><td> 0.617642809</td><td>1           </td><td>-0.01102662 </td><td> 1.41837893 </td></tr>\n",
       "\t<tr><td>1           </td><td>-0.029576653</td><td>1           </td><td>-0.82176054 </td><td> 0.77794394 </td></tr>\n",
       "\t<tr><td>0           </td><td> 0.009700015</td><td>0           </td><td> 1.31031751 </td><td> 2.01780360 </td></tr>\n",
       "\t<tr><td>0           </td><td> 1.239521384</td><td>0           </td><td> 3.40817507 </td><td> 7.77383151 </td></tr>\n",
       "\t<tr><td>1           </td><td> 1.365153102</td><td>1           </td><td> 2.34953998 </td><td> 4.10615098 </td></tr>\n",
       "\t<tr><td>1           </td><td> 0.382502567</td><td>1           </td><td>-0.17029792 </td><td> 0.89409467 </td></tr>\n",
       "\t<tr><td>1           </td><td>-1.278456289</td><td>1           </td><td>-4.00076157 </td><td>-5.22300028 </td></tr>\n",
       "\t<tr><td>0           </td><td>-0.662704472</td><td>0           </td><td> 0.35091527 </td><td> 0.17509236 </td></tr>\n",
       "\t<tr><td>0           </td><td>-0.963050160</td><td>0           </td><td>-3.05668036 </td><td>-4.83460096 </td></tr>\n",
       "\t<tr><td>1           </td><td> 0.078428165</td><td>1           </td><td>-0.19519948 </td><td>-0.05550845 </td></tr>\n",
       "\t<tr><td>1           </td><td> 0.697298908</td><td>1           </td><td>-0.70517453 </td><td>-0.21213397 </td></tr>\n",
       "\t<tr><td>1           </td><td>-0.155119927</td><td>1           </td><td>-1.59103645 </td><td>-1.17253030 </td></tr>\n",
       "\t<tr><td>0           </td><td> 0.309971164</td><td>0           </td><td> 0.58531235 </td><td> 2.22299209 </td></tr>\n",
       "\t<tr><td>1           </td><td> 1.086734377</td><td>1           </td><td> 2.77925998 </td><td> 4.70394698 </td></tr>\n",
       "\t<tr><td>0           </td><td> 1.858752954</td><td>0           </td><td> 3.93560334 </td><td> 7.81965427 </td></tr>\n",
       "\t<tr><td>1           </td><td> 2.113470856</td><td>1           </td><td> 3.41827265 </td><td> 9.71639737 </td></tr>\n",
       "\t<tr><td>1           </td><td> 0.378231126</td><td>1           </td><td>-1.56664135 </td><td> 0.47484225 </td></tr>\n",
       "\t<tr><td>0           </td><td> 0.717029447</td><td>0           </td><td> 1.36066896 </td><td> 5.39951698 </td></tr>\n",
       "\t<tr><td>0           </td><td>-0.928504395</td><td>0           </td><td>-1.73285678 </td><td>-2.11317760 </td></tr>\n",
       "\t<tr><td>0           </td><td>-2.244658671</td><td>0           </td><td>-3.10919044 </td><td>-5.30324337 </td></tr>\n",
       "\t<tr><td>1           </td><td> 0.364376081</td><td>1           </td><td>-1.51169663 </td><td>-1.57941886 </td></tr>\n",
       "\t<tr><td>1           </td><td> 1.140246145</td><td>1           </td><td> 1.01136107 </td><td> 3.73413897 </td></tr>\n",
       "\t<tr><td>1           </td><td>-0.651883669</td><td>1           </td><td>-3.72261754 </td><td>-6.56797240 </td></tr>\n",
       "\t<tr><td>0           </td><td> 0.851784576</td><td>0           </td><td> 0.61758082 </td><td> 1.94696204 </td></tr>\n",
       "\t<tr><td>0           </td><td>-0.020099174</td><td>0           </td><td> 2.74672798 </td><td> 5.73587180 </td></tr>\n",
       "\t<tr><td>0           </td><td> 0.663046163</td><td>0           </td><td> 4.23533343 </td><td> 6.46814566 </td></tr>\n",
       "\t<tr><td>1           </td><td> 1.324893060</td><td>1           </td><td> 1.23001017 </td><td> 3.03040056 </td></tr>\n",
       "\t<tr><td>1           </td><td> 0.352182878</td><td>1           </td><td>-0.61846774 </td><td> 1.12841908 </td></tr>\n",
       "</tbody>\n",
       "</table>\n"
      ],
      "text/latex": [
       "\\begin{tabular}{r|lllll}\n",
       " female & ability & discrimination & occupation & wage\\\\\n",
       "\\hline\n",
       "\t 0           &  1.73048197 & 0           &  5.8837342  & 10.5538151 \\\\\n",
       "\t 0           &  0.36883844 & 0           &  0.6000639  &  3.4719793 \\\\\n",
       "\t 0           & -0.08501946 & 0           & -0.5355559  & -0.3338885 \\\\\n",
       "\t 1           &  2.39117709 & 1           &  4.2129410  &  9.6553612 \\\\\n",
       "\t 0           &  1.72347833 & 0           &  6.7763000  & 11.2905961 \\\\\n",
       "\t 1           &  0.57961258 & 1           & -1.5958720  & -0.7628434 \\\\\n",
       "\t 1           & -0.96850229 & 1           & -3.2930698  & -4.7002412 \\\\\n",
       "\t 0           & -1.78600559 & 0           & -4.2010266  & -6.6337978 \\\\\n",
       "\t 1           & -0.70927419 & 1           & -0.9784104  & -2.6835755 \\\\\n",
       "\t 1           & -0.24002622 & 1           &  1.4538798  & -0.7116285 \\\\\n",
       "\t 0           & -1.13796603 & 0           & -0.1451708  & -1.1393008 \\\\\n",
       "\t 1           & -0.35969009 & 1           & -1.2542589  & -2.3138164 \\\\\n",
       "\t 1           &  0.84127585 & 1           &  1.5586815  &  2.8920947 \\\\\n",
       "\t 1           &  1.32813574 & 1           &  0.8563640  &  3.7315153 \\\\\n",
       "\t 1           & -0.10329408 & 1           & -1.5421838  & -0.5898349 \\\\\n",
       "\t 0           & -1.72723197 & 0           & -2.3115344  & -4.1226418 \\\\\n",
       "\t 1           & -0.29389656 & 1           & -1.2627788  & -0.6140510 \\\\\n",
       "\t 1           & -0.98742143 & 1           & -2.0984008  & -3.3304253 \\\\\n",
       "\t 1           & -1.08186768 & 1           & -3.5227948  & -6.0967054 \\\\\n",
       "\t 0           &  1.78520540 & 0           &  6.6863196  & 11.6069891 \\\\\n",
       "\t 1           & -0.45867042 & 1           & -2.1360314  & -2.3936296 \\\\\n",
       "\t 0           & -1.91419063 & 0           & -3.6155171  & -9.6669343 \\\\\n",
       "\t 1           &  0.05327564 & 1           & -0.8115931  & -1.1943294 \\\\\n",
       "\t 0           & -0.40983517 & 0           &  2.0188763  &  1.2341133 \\\\\n",
       "\t 0           &  0.56578530 & 0           &  1.2149436  &  2.6090093 \\\\\n",
       "\t 1           & -1.49335913 & 1           & -5.0681389  & -7.1343138 \\\\\n",
       "\t 0           & -1.02387266 & 0           & -0.9267172  & -3.2381370 \\\\\n",
       "\t 0           & -0.08279784 & 0           &  1.6586857  &  3.2706159 \\\\\n",
       "\t 1           & -0.23043699 & 1           & -1.0866311  & -3.1369393 \\\\\n",
       "\t 1           & -0.83067989 & 1           & -1.8549161  & -2.6686658 \\\\\n",
       "\t ... & ... & ... & ... & ...\\\\\n",
       "\t 0            & -1.582448411 & 0            & -3.08146109  & -5.24829457 \\\\\n",
       "\t 0            &  1.250940885 & 0            &  4.24030274  &  7.58168294 \\\\\n",
       "\t 1            &  0.617642809 & 1            & -0.01102662  &  1.41837893 \\\\\n",
       "\t 1            & -0.029576653 & 1            & -0.82176054  &  0.77794394 \\\\\n",
       "\t 0            &  0.009700015 & 0            &  1.31031751  &  2.01780360 \\\\\n",
       "\t 0            &  1.239521384 & 0            &  3.40817507  &  7.77383151 \\\\\n",
       "\t 1            &  1.365153102 & 1            &  2.34953998  &  4.10615098 \\\\\n",
       "\t 1            &  0.382502567 & 1            & -0.17029792  &  0.89409467 \\\\\n",
       "\t 1            & -1.278456289 & 1            & -4.00076157  & -5.22300028 \\\\\n",
       "\t 0            & -0.662704472 & 0            &  0.35091527  &  0.17509236 \\\\\n",
       "\t 0            & -0.963050160 & 0            & -3.05668036  & -4.83460096 \\\\\n",
       "\t 1            &  0.078428165 & 1            & -0.19519948  & -0.05550845 \\\\\n",
       "\t 1            &  0.697298908 & 1            & -0.70517453  & -0.21213397 \\\\\n",
       "\t 1            & -0.155119927 & 1            & -1.59103645  & -1.17253030 \\\\\n",
       "\t 0            &  0.309971164 & 0            &  0.58531235  &  2.22299209 \\\\\n",
       "\t 1            &  1.086734377 & 1            &  2.77925998  &  4.70394698 \\\\\n",
       "\t 0            &  1.858752954 & 0            &  3.93560334  &  7.81965427 \\\\\n",
       "\t 1            &  2.113470856 & 1            &  3.41827265  &  9.71639737 \\\\\n",
       "\t 1            &  0.378231126 & 1            & -1.56664135  &  0.47484225 \\\\\n",
       "\t 0            &  0.717029447 & 0            &  1.36066896  &  5.39951698 \\\\\n",
       "\t 0            & -0.928504395 & 0            & -1.73285678  & -2.11317760 \\\\\n",
       "\t 0            & -2.244658671 & 0            & -3.10919044  & -5.30324337 \\\\\n",
       "\t 1            &  0.364376081 & 1            & -1.51169663  & -1.57941886 \\\\\n",
       "\t 1            &  1.140246145 & 1            &  1.01136107  &  3.73413897 \\\\\n",
       "\t 1            & -0.651883669 & 1            & -3.72261754  & -6.56797240 \\\\\n",
       "\t 0            &  0.851784576 & 0            &  0.61758082  &  1.94696204 \\\\\n",
       "\t 0            & -0.020099174 & 0            &  2.74672798  &  5.73587180 \\\\\n",
       "\t 0            &  0.663046163 & 0            &  4.23533343  &  6.46814566 \\\\\n",
       "\t 1            &  1.324893060 & 1            &  1.23001017  &  3.03040056 \\\\\n",
       "\t 1            &  0.352182878 & 1            & -0.61846774  &  1.12841908 \\\\\n",
       "\\end{tabular}\n"
      ],
      "text/markdown": [
       "\n",
       "| female | ability | discrimination | occupation | wage |\n",
       "|---|---|---|---|---|\n",
       "| 0           |  1.73048197 | 0           |  5.8837342  | 10.5538151  |\n",
       "| 0           |  0.36883844 | 0           |  0.6000639  |  3.4719793  |\n",
       "| 0           | -0.08501946 | 0           | -0.5355559  | -0.3338885  |\n",
       "| 1           |  2.39117709 | 1           |  4.2129410  |  9.6553612  |\n",
       "| 0           |  1.72347833 | 0           |  6.7763000  | 11.2905961  |\n",
       "| 1           |  0.57961258 | 1           | -1.5958720  | -0.7628434  |\n",
       "| 1           | -0.96850229 | 1           | -3.2930698  | -4.7002412  |\n",
       "| 0           | -1.78600559 | 0           | -4.2010266  | -6.6337978  |\n",
       "| 1           | -0.70927419 | 1           | -0.9784104  | -2.6835755  |\n",
       "| 1           | -0.24002622 | 1           |  1.4538798  | -0.7116285  |\n",
       "| 0           | -1.13796603 | 0           | -0.1451708  | -1.1393008  |\n",
       "| 1           | -0.35969009 | 1           | -1.2542589  | -2.3138164  |\n",
       "| 1           |  0.84127585 | 1           |  1.5586815  |  2.8920947  |\n",
       "| 1           |  1.32813574 | 1           |  0.8563640  |  3.7315153  |\n",
       "| 1           | -0.10329408 | 1           | -1.5421838  | -0.5898349  |\n",
       "| 0           | -1.72723197 | 0           | -2.3115344  | -4.1226418  |\n",
       "| 1           | -0.29389656 | 1           | -1.2627788  | -0.6140510  |\n",
       "| 1           | -0.98742143 | 1           | -2.0984008  | -3.3304253  |\n",
       "| 1           | -1.08186768 | 1           | -3.5227948  | -6.0967054  |\n",
       "| 0           |  1.78520540 | 0           |  6.6863196  | 11.6069891  |\n",
       "| 1           | -0.45867042 | 1           | -2.1360314  | -2.3936296  |\n",
       "| 0           | -1.91419063 | 0           | -3.6155171  | -9.6669343  |\n",
       "| 1           |  0.05327564 | 1           | -0.8115931  | -1.1943294  |\n",
       "| 0           | -0.40983517 | 0           |  2.0188763  |  1.2341133  |\n",
       "| 0           |  0.56578530 | 0           |  1.2149436  |  2.6090093  |\n",
       "| 1           | -1.49335913 | 1           | -5.0681389  | -7.1343138  |\n",
       "| 0           | -1.02387266 | 0           | -0.9267172  | -3.2381370  |\n",
       "| 0           | -0.08279784 | 0           |  1.6586857  |  3.2706159  |\n",
       "| 1           | -0.23043699 | 1           | -1.0866311  | -3.1369393  |\n",
       "| 1           | -0.83067989 | 1           | -1.8549161  | -2.6686658  |\n",
       "| ... | ... | ... | ... | ... |\n",
       "| 0            | -1.582448411 | 0            | -3.08146109  | -5.24829457  |\n",
       "| 0            |  1.250940885 | 0            |  4.24030274  |  7.58168294  |\n",
       "| 1            |  0.617642809 | 1            | -0.01102662  |  1.41837893  |\n",
       "| 1            | -0.029576653 | 1            | -0.82176054  |  0.77794394  |\n",
       "| 0            |  0.009700015 | 0            |  1.31031751  |  2.01780360  |\n",
       "| 0            |  1.239521384 | 0            |  3.40817507  |  7.77383151  |\n",
       "| 1            |  1.365153102 | 1            |  2.34953998  |  4.10615098  |\n",
       "| 1            |  0.382502567 | 1            | -0.17029792  |  0.89409467  |\n",
       "| 1            | -1.278456289 | 1            | -4.00076157  | -5.22300028  |\n",
       "| 0            | -0.662704472 | 0            |  0.35091527  |  0.17509236  |\n",
       "| 0            | -0.963050160 | 0            | -3.05668036  | -4.83460096  |\n",
       "| 1            |  0.078428165 | 1            | -0.19519948  | -0.05550845  |\n",
       "| 1            |  0.697298908 | 1            | -0.70517453  | -0.21213397  |\n",
       "| 1            | -0.155119927 | 1            | -1.59103645  | -1.17253030  |\n",
       "| 0            |  0.309971164 | 0            |  0.58531235  |  2.22299209  |\n",
       "| 1            |  1.086734377 | 1            |  2.77925998  |  4.70394698  |\n",
       "| 0            |  1.858752954 | 0            |  3.93560334  |  7.81965427  |\n",
       "| 1            |  2.113470856 | 1            |  3.41827265  |  9.71639737  |\n",
       "| 1            |  0.378231126 | 1            | -1.56664135  |  0.47484225  |\n",
       "| 0            |  0.717029447 | 0            |  1.36066896  |  5.39951698  |\n",
       "| 0            | -0.928504395 | 0            | -1.73285678  | -2.11317760  |\n",
       "| 0            | -2.244658671 | 0            | -3.10919044  | -5.30324337  |\n",
       "| 1            |  0.364376081 | 1            | -1.51169663  | -1.57941886  |\n",
       "| 1            |  1.140246145 | 1            |  1.01136107  |  3.73413897  |\n",
       "| 1            | -0.651883669 | 1            | -3.72261754  | -6.56797240  |\n",
       "| 0            |  0.851784576 | 0            |  0.61758082  |  1.94696204  |\n",
       "| 0            | -0.020099174 | 0            |  2.74672798  |  5.73587180  |\n",
       "| 0            |  0.663046163 | 0            |  4.23533343  |  6.46814566  |\n",
       "| 1            |  1.324893060 | 1            |  1.23001017  |  3.03040056  |\n",
       "| 1            |  0.352182878 | 1            | -0.61846774  |  1.12841908  |\n",
       "\n"
      ],
      "text/plain": [
       "      female ability      discrimination occupation  wage       \n",
       "1     0       1.73048197  0               5.8837342  10.5538151 \n",
       "2     0       0.36883844  0               0.6000639   3.4719793 \n",
       "3     0      -0.08501946  0              -0.5355559  -0.3338885 \n",
       "4     1       2.39117709  1               4.2129410   9.6553612 \n",
       "5     0       1.72347833  0               6.7763000  11.2905961 \n",
       "6     1       0.57961258  1              -1.5958720  -0.7628434 \n",
       "7     1      -0.96850229  1              -3.2930698  -4.7002412 \n",
       "8     0      -1.78600559  0              -4.2010266  -6.6337978 \n",
       "9     1      -0.70927419  1              -0.9784104  -2.6835755 \n",
       "10    1      -0.24002622  1               1.4538798  -0.7116285 \n",
       "11    0      -1.13796603  0              -0.1451708  -1.1393008 \n",
       "12    1      -0.35969009  1              -1.2542589  -2.3138164 \n",
       "13    1       0.84127585  1               1.5586815   2.8920947 \n",
       "14    1       1.32813574  1               0.8563640   3.7315153 \n",
       "15    1      -0.10329408  1              -1.5421838  -0.5898349 \n",
       "16    0      -1.72723197  0              -2.3115344  -4.1226418 \n",
       "17    1      -0.29389656  1              -1.2627788  -0.6140510 \n",
       "18    1      -0.98742143  1              -2.0984008  -3.3304253 \n",
       "19    1      -1.08186768  1              -3.5227948  -6.0967054 \n",
       "20    0       1.78520540  0               6.6863196  11.6069891 \n",
       "21    1      -0.45867042  1              -2.1360314  -2.3936296 \n",
       "22    0      -1.91419063  0              -3.6155171  -9.6669343 \n",
       "23    1       0.05327564  1              -0.8115931  -1.1943294 \n",
       "24    0      -0.40983517  0               2.0188763   1.2341133 \n",
       "25    0       0.56578530  0               1.2149436   2.6090093 \n",
       "26    1      -1.49335913  1              -5.0681389  -7.1343138 \n",
       "27    0      -1.02387266  0              -0.9267172  -3.2381370 \n",
       "28    0      -0.08279784  0               1.6586857   3.2706159 \n",
       "29    1      -0.23043699  1              -1.0866311  -3.1369393 \n",
       "30    1      -0.83067989  1              -1.8549161  -2.6686658 \n",
       "...   ...    ...          ...            ...         ...        \n",
       "9971  0      -1.582448411 0              -3.08146109 -5.24829457\n",
       "9972  0       1.250940885 0               4.24030274  7.58168294\n",
       "9973  1       0.617642809 1              -0.01102662  1.41837893\n",
       "9974  1      -0.029576653 1              -0.82176054  0.77794394\n",
       "9975  0       0.009700015 0               1.31031751  2.01780360\n",
       "9976  0       1.239521384 0               3.40817507  7.77383151\n",
       "9977  1       1.365153102 1               2.34953998  4.10615098\n",
       "9978  1       0.382502567 1              -0.17029792  0.89409467\n",
       "9979  1      -1.278456289 1              -4.00076157 -5.22300028\n",
       "9980  0      -0.662704472 0               0.35091527  0.17509236\n",
       "9981  0      -0.963050160 0              -3.05668036 -4.83460096\n",
       "9982  1       0.078428165 1              -0.19519948 -0.05550845\n",
       "9983  1       0.697298908 1              -0.70517453 -0.21213397\n",
       "9984  1      -0.155119927 1              -1.59103645 -1.17253030\n",
       "9985  0       0.309971164 0               0.58531235  2.22299209\n",
       "9986  1       1.086734377 1               2.77925998  4.70394698\n",
       "9987  0       1.858752954 0               3.93560334  7.81965427\n",
       "9988  1       2.113470856 1               3.41827265  9.71639737\n",
       "9989  1       0.378231126 1              -1.56664135  0.47484225\n",
       "9990  0       0.717029447 0               1.36066896  5.39951698\n",
       "9991  0      -0.928504395 0              -1.73285678 -2.11317760\n",
       "9992  0      -2.244658671 0              -3.10919044 -5.30324337\n",
       "9993  1       0.364376081 1              -1.51169663 -1.57941886\n",
       "9994  1       1.140246145 1               1.01136107  3.73413897\n",
       "9995  1      -0.651883669 1              -3.72261754 -6.56797240\n",
       "9996  0       0.851784576 0               0.61758082  1.94696204\n",
       "9997  0      -0.020099174 0               2.74672798  5.73587180\n",
       "9998  0       0.663046163 0               4.23533343  6.46814566\n",
       "9999  1       1.324893060 1               1.23001017  3.03040056\n",
       "10000 1       0.352182878 1              -0.61846774  1.12841908"
      ]
     },
     "metadata": {},
     "output_type": "display_data"
    }
   ],
   "source": [
    "tb"
   ]
  },
  {
   "cell_type": "code",
   "execution_count": 4,
   "id": "found-macedonia",
   "metadata": {
    "attributes": {
     "classes": [],
     "echo": "FALSE",
     "exercise": "TRUE,",
     "id": ""
    }
   },
   "outputs": [
    {
     "name": "stdout",
     "output_type": "stream",
     "text": [
      "\n",
      "=========================================================================================================\n",
      "                                                     Dependent variable:                                 \n",
      "                    -------------------------------------------------------------------------------------\n",
      "                                                            wage                                         \n",
      "                       Biased Unconditional                Biased                Unbiased Conditional    \n",
      "                                (1)                         (2)                          (3)             \n",
      "---------------------------------------------------------------------------------------------------------\n",
      "female                       -3.005***                    0.630***                    -0.971***          \n",
      "                              (0.085)                     (0.029)                      (0.028)           \n",
      "                                                                                                         \n",
      "occupation                                                1.806***                     1.003***          \n",
      "                                                          (0.006)                      (0.010)           \n",
      "                                                                                                         \n",
      "ability                                                                                2.005***          \n",
      "                                                                                       (0.022)           \n",
      "                                                                                                         \n",
      "Constant                     2.026***                     0.198***                     0.991***          \n",
      "                              (0.061)                     (0.020)                      (0.017)           \n",
      "                                                                                                         \n",
      "---------------------------------------------------------------------------------------------------------\n",
      "Observations                  10,000                       10,000                       10,000           \n",
      "R2                             0.110                       0.912                        0.951            \n",
      "Adjusted R2                    0.110                       0.912                        0.951            \n",
      "Residual Std. Error      4.273 (df = 9998)           1.343 (df = 9997)            1.002 (df = 9996)      \n",
      "F Statistic         1,236.187*** (df = 1; 9998) 51,916.850*** (df = 2; 9997) 64,848.700*** (df = 3; 9996)\n",
      "=========================================================================================================\n",
      "Note:                                                                         *p<0.1; **p<0.05; ***p<0.01\n"
     ]
    }
   ],
   "source": [
    "lm_1 <- lm(wage ~ female, tb)\n",
    "lm_2 <- lm(wage ~ female + occupation, tb)\n",
    "lm_3 <- lm(wage ~ female + occupation + ability, tb)\n",
    "\n",
    "stargazer(lm_1,lm_2,lm_3, \n",
    "          type = \"text\", \n",
    "          column.labels = c(\"Biased Unconditional\", \"Biased\", \"Unbiased Conditional\")\n",
    "          )"
   ]
  },
  {
   "cell_type": "markdown",
   "id": "identical-gross",
   "metadata": {},
   "source": [
    "#### QUESTIONS\n",
    "- What is the true direct effect of discrimination on wages?  \n",
    "- Explain the channels by which discrimination impacts wages.  \n",
    "- What makes occupation a collider?\n",
    "- What controls are necessary to eliminate this collider bias?\n",
    "\n",
    "\n",
    "\n",
    "## Movie Star"
   ]
  },
  {
   "cell_type": "code",
   "execution_count": 5,
   "id": "1252aa93",
   "metadata": {
    "attributes": {
     "classes": [],
     "echo": "FALSE",
     "exercise": "TRUE,",
     "id": ""
    }
   },
   "outputs": [],
   "source": [
    "#%%R\n",
    "\n",
    "set.seed(3444)\n",
    "\n",
    "star_is_born <- tibble(\n",
    "  beauty = rnorm(2500),\n",
    "  talent = rnorm(2500),\n",
    "  score = beauty + talent,\n",
    "  c85 = quantile(score, .85),\n",
    "  star = ifelse(score>=c85,1,0)\n",
    ")"
   ]
  },
  {
   "cell_type": "code",
   "execution_count": 16,
   "id": "pharmaceutical-continent",
   "metadata": {
    "attributes": {
     "classes": [],
     "echo": "FALSE",
     "exercise": "TRUE,",
     "id": ""
    }
   },
   "outputs": [
    {
     "name": "stderr",
     "output_type": "stream",
     "text": [
      "\n",
      "\u001b[36m--\u001b[39m \u001b[1m\u001b[1mFull Sample\u001b[1m\u001b[22m \u001b[36m-----------------------------------------------------------------\u001b[39m\n"
     ]
    },
    {
     "data": {
      "text/plain": [
       "\n",
       "Call:\n",
       "lm(formula = beauty ~ talent, data = .)\n",
       "\n",
       "Coefficients:\n",
       "(Intercept)       talent  \n",
       "  -0.003073    -0.018809  \n"
      ]
     },
     "metadata": {},
     "output_type": "display_data"
    }
   ],
   "source": [
    "cli::cli_h1(\"Full Sample\")\n",
    "star_is_born %>% \n",
    "   lm(beauty ~ talent, .) %>% \n",
    "    ggplot(aes(x = talent, y = beauty)) +\n",
    "  geom_point(size = 0.5, shape=23) + xlim(-4, 4) + ylim(-4, 4)"
   ]
  },
  {
   "cell_type": "code",
   "execution_count": 17,
   "id": "f5e44adf",
   "metadata": {
    "scrolled": false
   },
   "outputs": [
    {
     "name": "stderr",
     "output_type": "stream",
     "text": [
      "\n",
      "\u001b[36m--\u001b[39m \u001b[1m\u001b[1mConditional on Being a Star\u001b[1m\u001b[22m \u001b[36m-------------------------------------------------\u001b[39m\n"
     ]
    },
    {
     "data": {
      "image/png": "[encoded data removed]",
      "text/plain": [
       "plot without title"
      ]
     },
     "metadata": {},
     "output_type": "display_data"
    }
   ],
   "source": [
    "#%%R\n",
    "\n",
    "cli::cli_h1(\"Conditional on Being a Star\")\n",
    "star_is_born %>% \n",
    "  filter(star == 1) %>% \n",
    "  lm(beauty ~ talent, .) %>% \n",
    "  ggplot(aes(x = talent, y = beauty)) +\n",
    "  geom_point(size = 0.5, shape=23) + xlim(-4, 4) + ylim(-4, 4)\n"
   ]
  },
  {
   "cell_type": "code",
   "execution_count": 13,
   "id": "b581fd8d",
   "metadata": {},
   "outputs": [
    {
     "name": "stderr",
     "output_type": "stream",
     "text": [
      "\n",
      "\u001b[36m--\u001b[39m \u001b[1m\u001b[1mConditional on Not Being a Star\u001b[1m\u001b[22m \u001b[36m---------------------------------------------\u001b[39m\n"
     ]
    },
    {
     "data": {
      "image/png": "[encoded data removed]",
      "text/plain": [
       "plot without title"
      ]
     },
     "metadata": {},
     "output_type": "display_data"
    }
   ],
   "source": [
    "#%%R\n",
    "\n",
    "cli::cli_h1(\"Conditional on Not Being a Star\")\n",
    "star_is_born %>% \n",
    "  filter(star == 0) %>%\n",
    "  lm(beauty ~ talent, .) %>% \n",
    "  ggplot(aes(x = talent, y = beauty)) +\n",
    "  geom_point(size = 0.5, shape=23) + xlim(-4, 4) + ylim(-4, 4)"
   ]
  },
  {
   "cell_type": "markdown",
   "id": "wanted-pittsburgh",
   "metadata": {},
   "source": [
    "#### QUESTIONS\n",
    "- What is the correlation between talent and beauty among stars?  Non-stars?\n",
    "- But what is the correlation between talent and beauty in the population?"
   ]
  }
 ],
 "metadata": {
  "kernelspec": {
   "display_name": "R",
   "language": "R",
   "name": "ir"
  },
  "language_info": {
   "codemirror_mode": "r",
   "file_extension": ".r",
   "mimetype": "text/x-r-source",
   "name": "R",
   "pygments_lexer": "r",
   "version": "4.2.0"
  }
 },
 "nbformat": 4,
 "nbformat_minor": 5
}
