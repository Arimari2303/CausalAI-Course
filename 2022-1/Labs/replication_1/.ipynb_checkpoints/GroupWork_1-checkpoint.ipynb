{
 "cells": [
  {
   "cell_type": "code",
   "execution_count": 1,
   "id": "43256169",
   "metadata": {},
   "outputs": [
    {
     "name": "stderr",
     "output_type": "stream",
     "text": [
      "\u001b[32m\u001b[1m    Updating\u001b[22m\u001b[39m registry at `C:\\Users\\Alvaro\\.julia\\registries\\General.toml`\n",
      "\u001b[32m\u001b[1m   Resolving\u001b[22m\u001b[39m package versions...\n",
      "\u001b[32m\u001b[1m  No Changes\u001b[22m\u001b[39m to `C:\\Users\\Alvaro\\.julia\\environments\\v1.7\\Project.toml`\n",
      "\u001b[32m\u001b[1m  No Changes\u001b[22m\u001b[39m to `C:\\Users\\Alvaro\\.julia\\environments\\v1.7\\Manifest.toml`\n",
      "\u001b[32m\u001b[1m   Resolving\u001b[22m\u001b[39m package versions...\n",
      "\u001b[32m\u001b[1m  No Changes\u001b[22m\u001b[39m to `C:\\Users\\Alvaro\\.julia\\environments\\v1.7\\Project.toml`\n",
      "\u001b[32m\u001b[1m  No Changes\u001b[22m\u001b[39m to `C:\\Users\\Alvaro\\.julia\\environments\\v1.7\\Manifest.toml`\n",
      "\u001b[32m\u001b[1m   Resolving\u001b[22m\u001b[39m package versions...\n",
      "\u001b[32m\u001b[1m  No Changes\u001b[22m\u001b[39m to `C:\\Users\\Alvaro\\.julia\\environments\\v1.7\\Project.toml`\n",
      "\u001b[32m\u001b[1m  No Changes\u001b[22m\u001b[39m to `C:\\Users\\Alvaro\\.julia\\environments\\v1.7\\Manifest.toml`\n",
      "\u001b[32m\u001b[1m   Resolving\u001b[22m\u001b[39m package versions...\n",
      "\u001b[32m\u001b[1m  No Changes\u001b[22m\u001b[39m to `C:\\Users\\Alvaro\\.julia\\environments\\v1.7\\Project.toml`\n",
      "\u001b[32m\u001b[1m  No Changes\u001b[22m\u001b[39m to `C:\\Users\\Alvaro\\.julia\\environments\\v1.7\\Manifest.toml`\n",
      "\u001b[32m\u001b[1m   Resolving\u001b[22m\u001b[39m package versions...\n",
      "\u001b[32m\u001b[1m  No Changes\u001b[22m\u001b[39m to `C:\\Users\\Alvaro\\.julia\\environments\\v1.7\\Project.toml`\n",
      "\u001b[32m\u001b[1m  No Changes\u001b[22m\u001b[39m to `C:\\Users\\Alvaro\\.julia\\environments\\v1.7\\Manifest.toml`\n",
      "\u001b[32m\u001b[1m   Resolving\u001b[22m\u001b[39m package versions...\n",
      "\u001b[32m\u001b[1m  No Changes\u001b[22m\u001b[39m to `C:\\Users\\Alvaro\\.julia\\environments\\v1.7\\Project.toml`\n",
      "\u001b[32m\u001b[1m  No Changes\u001b[22m\u001b[39m to `C:\\Users\\Alvaro\\.julia\\environments\\v1.7\\Manifest.toml`\n",
      "\u001b[32m\u001b[1m   Resolving\u001b[22m\u001b[39m package versions...\n",
      "\u001b[32m\u001b[1m  No Changes\u001b[22m\u001b[39m to `C:\\Users\\Alvaro\\.julia\\environments\\v1.7\\Project.toml`\n",
      "\u001b[32m\u001b[1m  No Changes\u001b[22m\u001b[39m to `C:\\Users\\Alvaro\\.julia\\environments\\v1.7\\Manifest.toml`\n",
      "\u001b[32m\u001b[1m   Resolving\u001b[22m\u001b[39m package versions...\n",
      "\u001b[32m\u001b[1m  No Changes\u001b[22m\u001b[39m to `C:\\Users\\Alvaro\\.julia\\environments\\v1.7\\Project.toml`\n",
      "\u001b[32m\u001b[1m  No Changes\u001b[22m\u001b[39m to `C:\\Users\\Alvaro\\.julia\\environments\\v1.7\\Manifest.toml`\n",
      "\u001b[32m\u001b[1m   Resolving\u001b[22m\u001b[39m package versions...\n",
      "\u001b[32m\u001b[1m  No Changes\u001b[22m\u001b[39m to `C:\\Users\\Alvaro\\.julia\\environments\\v1.7\\Project.toml`\n",
      "\u001b[32m\u001b[1m  No Changes\u001b[22m\u001b[39m to `C:\\Users\\Alvaro\\.julia\\environments\\v1.7\\Manifest.toml`\n",
      "\u001b[32m\u001b[1m   Resolving\u001b[22m\u001b[39m package versions...\n",
      "\u001b[32m\u001b[1m  No Changes\u001b[22m\u001b[39m to `C:\\Users\\Alvaro\\.julia\\environments\\v1.7\\Project.toml`\n",
      "\u001b[32m\u001b[1m  No Changes\u001b[22m\u001b[39m to `C:\\Users\\Alvaro\\.julia\\environments\\v1.7\\Manifest.toml`\n",
      "\u001b[32m\u001b[1m   Resolving\u001b[22m\u001b[39m package versions...\n",
      "\u001b[32m\u001b[1m  No Changes\u001b[22m\u001b[39m to `C:\\Users\\Alvaro\\.julia\\environments\\v1.7\\Project.toml`\n",
      "\u001b[32m\u001b[1m  No Changes\u001b[22m\u001b[39m to `C:\\Users\\Alvaro\\.julia\\environments\\v1.7\\Manifest.toml`\n",
      "\u001b[32m\u001b[1m   Resolving\u001b[22m\u001b[39m package versions...\n",
      "\u001b[32m\u001b[1m  No Changes\u001b[22m\u001b[39m to `C:\\Users\\Alvaro\\.julia\\environments\\v1.7\\Project.toml`\n",
      "\u001b[32m\u001b[1m  No Changes\u001b[22m\u001b[39m to `C:\\Users\\Alvaro\\.julia\\environments\\v1.7\\Manifest.toml`\n",
      "\u001b[32m\u001b[1m   Resolving\u001b[22m\u001b[39m package versions...\n",
      "\u001b[32m\u001b[1m  No Changes\u001b[22m\u001b[39m to `C:\\Users\\Alvaro\\.julia\\environments\\v1.7\\Project.toml`\n",
      "\u001b[32m\u001b[1m  No Changes\u001b[22m\u001b[39m to `C:\\Users\\Alvaro\\.julia\\environments\\v1.7\\Manifest.toml`\n"
     ]
    }
   ],
   "source": [
    "#Load Packages\n",
    "\n",
    "using Pkg\n",
    "\n",
    "\n",
    "Pkg.add(\"DataFrames\")\n",
    "Pkg.add(\"Dates\")\n",
    "Pkg.add(\"Plots\")\n",
    "Pkg.add(\"CategoricalArrays\")\n",
    "Pkg.add(\"RData\")\n",
    "Pkg.add(\"Lathe\")\n",
    "Pkg.add(\"GLM\") # package to run models \n",
    "Pkg.add(\"StatsPlots\")\n",
    "Pkg.add(\"MLBase\")\n",
    "Pkg.add(\"Tables\")\n",
    "Pkg.add(\"CovarianceMatrices\") # robust standar error\n",
    "Pkg.add(\"CSV\")\n",
    "Pkg.add(\"PyPlot\")\n",
    "\n",
    "using DataFrames\n",
    "using Dates\n",
    "using Plots\n",
    "using Statistics,RData  #upload data of R format \n",
    "using CategoricalArrays # categorical data\n",
    "using DataFrames\n",
    "using CSV\n",
    "using Tables\n",
    "using Lathe\n",
    "using GLM\n",
    "using CovarianceMatrices"
   ]
  },
  {
   "cell_type": "code",
   "execution_count": 2,
   "id": "5197454f",
   "metadata": {},
   "outputs": [
    {
     "name": "stdout",
     "output_type": "stream",
     "text": [
      "Number of Rows : 5150\n",
      "Number of Columns : 20\n"
     ]
    }
   ],
   "source": [
    "rdata_read = load(\"wage2015_subsample_inference.RData\")\n",
    "data = rdata_read[\"data\"]\n",
    "names(data)\n",
    "println(\"Number of Rows : \", size(data)[1],\"\\n\",\"Number of Columns : \", size(data)[2],) #rows and columns"
   ]
  },
  {
   "cell_type": "code",
   "execution_count": 3,
   "id": "5e39518c",
   "metadata": {},
   "outputs": [
    {
     "data": {
      "text/plain": [
       "20-element Vector{DataType}:\n",
       " Float64\n",
       " Float64\n",
       " Float64\n",
       " Float64\n",
       " Float64\n",
       " Float64\n",
       " Float64\n",
       " Float64\n",
       " Float64\n",
       " Float64\n",
       " Float64\n",
       " Float64\n",
       " Float64\n",
       " Float64\n",
       " Float64\n",
       " Float64\n",
       " CategoricalValue{String, UInt16}\n",
       " CategoricalValue{String, UInt8}\n",
       " CategoricalValue{String, UInt8}\n",
       " CategoricalValue{String, UInt8}"
      ]
     },
     "execution_count": 3,
     "metadata": {},
     "output_type": "execute_result"
    }
   ],
   "source": [
    "[eltype(col) for col = eachcol(data)] #Set data type for each column"
   ]
  },
  {
   "cell_type": "code",
   "execution_count": 4,
   "id": "41faa132",
   "metadata": {},
   "outputs": [
    {
     "data": {
      "text/html": [
       "<table class=\"data-frame\"><thead><tr><th></th><th>variable</th><th>mean</th><th>min</th><th>median</th><th>max</th><th>nmissing</th><th>eltype</th></tr><tr><th></th><th>Symbol</th><th>Union…</th><th>Any</th><th>Union…</th><th>Any</th><th>Int64</th><th>DataType</th></tr></thead><tbody><p>20 rows × 7 columns</p><tr><th>1</th><td>wage</td><td>23.4104</td><td>3.02198</td><td>19.2308</td><td>528.846</td><td>0</td><td>Float64</td></tr><tr><th>2</th><td>lwage</td><td>2.97079</td><td>1.10591</td><td>2.95651</td><td>6.2707</td><td>0</td><td>Float64</td></tr><tr><th>3</th><td>sex</td><td>0.444466</td><td>0.0</td><td>0.0</td><td>1.0</td><td>0</td><td>Float64</td></tr><tr><th>4</th><td>shs</td><td>0.023301</td><td>0.0</td><td>0.0</td><td>1.0</td><td>0</td><td>Float64</td></tr><tr><th>5</th><td>hsg</td><td>0.243883</td><td>0.0</td><td>0.0</td><td>1.0</td><td>0</td><td>Float64</td></tr><tr><th>6</th><td>scl</td><td>0.278058</td><td>0.0</td><td>0.0</td><td>1.0</td><td>0</td><td>Float64</td></tr><tr><th>7</th><td>clg</td><td>0.31767</td><td>0.0</td><td>0.0</td><td>1.0</td><td>0</td><td>Float64</td></tr><tr><th>8</th><td>ad</td><td>0.137087</td><td>0.0</td><td>0.0</td><td>1.0</td><td>0</td><td>Float64</td></tr><tr><th>9</th><td>mw</td><td>0.259612</td><td>0.0</td><td>0.0</td><td>1.0</td><td>0</td><td>Float64</td></tr><tr><th>10</th><td>so</td><td>0.296505</td><td>0.0</td><td>0.0</td><td>1.0</td><td>0</td><td>Float64</td></tr><tr><th>11</th><td>we</td><td>0.216117</td><td>0.0</td><td>0.0</td><td>1.0</td><td>0</td><td>Float64</td></tr><tr><th>12</th><td>ne</td><td>0.227767</td><td>0.0</td><td>0.0</td><td>1.0</td><td>0</td><td>Float64</td></tr><tr><th>13</th><td>exp1</td><td>13.7606</td><td>0.0</td><td>10.0</td><td>47.0</td><td>0</td><td>Float64</td></tr><tr><th>14</th><td>exp2</td><td>3.01893</td><td>0.0</td><td>1.0</td><td>22.09</td><td>0</td><td>Float64</td></tr><tr><th>15</th><td>exp3</td><td>8.23587</td><td>0.0</td><td>1.0</td><td>103.823</td><td>0</td><td>Float64</td></tr><tr><th>16</th><td>exp4</td><td>25.118</td><td>0.0</td><td>1.0</td><td>487.968</td><td>0</td><td>Float64</td></tr><tr><th>17</th><td>occ</td><td></td><td>10</td><td></td><td>1e+05</td><td>0</td><td>CategoricalValue{String, UInt16}</td></tr><tr><th>18</th><td>occ2</td><td></td><td>1</td><td></td><td>22</td><td>0</td><td>CategoricalValue{String, UInt8}</td></tr><tr><th>19</th><td>ind</td><td></td><td>370</td><td></td><td>1e+05</td><td>0</td><td>CategoricalValue{String, UInt8}</td></tr><tr><th>20</th><td>ind2</td><td></td><td>2</td><td></td><td>22</td><td>0</td><td>CategoricalValue{String, UInt8}</td></tr></tbody></table>"
      ],
      "text/latex": [
       "\\begin{tabular}{r|ccccccc}\n",
       "\t& variable & mean & min & median & max & nmissing & eltype\\\\\n",
       "\t\\hline\n",
       "\t& Symbol & Union… & Any & Union… & Any & Int64 & DataType\\\\\n",
       "\t\\hline\n",
       "\t1 & wage & 23.4104 & 3.02198 & 19.2308 & 528.846 & 0 & Float64 \\\\\n",
       "\t2 & lwage & 2.97079 & 1.10591 & 2.95651 & 6.2707 & 0 & Float64 \\\\\n",
       "\t3 & sex & 0.444466 & 0.0 & 0.0 & 1.0 & 0 & Float64 \\\\\n",
       "\t4 & shs & 0.023301 & 0.0 & 0.0 & 1.0 & 0 & Float64 \\\\\n",
       "\t5 & hsg & 0.243883 & 0.0 & 0.0 & 1.0 & 0 & Float64 \\\\\n",
       "\t6 & scl & 0.278058 & 0.0 & 0.0 & 1.0 & 0 & Float64 \\\\\n",
       "\t7 & clg & 0.31767 & 0.0 & 0.0 & 1.0 & 0 & Float64 \\\\\n",
       "\t8 & ad & 0.137087 & 0.0 & 0.0 & 1.0 & 0 & Float64 \\\\\n",
       "\t9 & mw & 0.259612 & 0.0 & 0.0 & 1.0 & 0 & Float64 \\\\\n",
       "\t10 & so & 0.296505 & 0.0 & 0.0 & 1.0 & 0 & Float64 \\\\\n",
       "\t11 & we & 0.216117 & 0.0 & 0.0 & 1.0 & 0 & Float64 \\\\\n",
       "\t12 & ne & 0.227767 & 0.0 & 0.0 & 1.0 & 0 & Float64 \\\\\n",
       "\t13 & exp1 & 13.7606 & 0.0 & 10.0 & 47.0 & 0 & Float64 \\\\\n",
       "\t14 & exp2 & 3.01893 & 0.0 & 1.0 & 22.09 & 0 & Float64 \\\\\n",
       "\t15 & exp3 & 8.23587 & 0.0 & 1.0 & 103.823 & 0 & Float64 \\\\\n",
       "\t16 & exp4 & 25.118 & 0.0 & 1.0 & 487.968 & 0 & Float64 \\\\\n",
       "\t17 & occ &  & 10 &  & 1e+05 & 0 & CategoricalValue\\{String, UInt16\\} \\\\\n",
       "\t18 & occ2 &  & 1 &  & 22 & 0 & CategoricalValue\\{String, UInt8\\} \\\\\n",
       "\t19 & ind &  & 370 &  & 1e+05 & 0 & CategoricalValue\\{String, UInt8\\} \\\\\n",
       "\t20 & ind2 &  & 2 &  & 22 & 0 & CategoricalValue\\{String, UInt8\\} \\\\\n",
       "\\end{tabular}\n"
      ],
      "text/plain": [
       "\u001b[1m20×7 DataFrame\u001b[0m\n",
       "\u001b[1m Row \u001b[0m│\u001b[1m variable \u001b[0m\u001b[1m mean     \u001b[0m\u001b[1m min     \u001b[0m\u001b[1m median  \u001b[0m\u001b[1m max     \u001b[0m\u001b[1m nmissing \u001b[0m\u001b[1m eltype        \u001b[0m ⋯\n",
       "\u001b[1m     \u001b[0m│\u001b[90m Symbol   \u001b[0m\u001b[90m Union…   \u001b[0m\u001b[90m Any     \u001b[0m\u001b[90m Union…  \u001b[0m\u001b[90m Any     \u001b[0m\u001b[90m Int64    \u001b[0m\u001b[90m DataType      \u001b[0m ⋯\n",
       "─────┼──────────────────────────────────────────────────────────────────────────\n",
       "   1 │ wage      23.4104   3.02198  19.2308  528.846         0  Float64        ⋯\n",
       "   2 │ lwage     2.97079   1.10591  2.95651  6.2707          0  Float64\n",
       "   3 │ sex       0.444466  0.0      0.0      1.0             0  Float64\n",
       "   4 │ shs       0.023301  0.0      0.0      1.0             0  Float64\n",
       "   5 │ hsg       0.243883  0.0      0.0      1.0             0  Float64        ⋯\n",
       "   6 │ scl       0.278058  0.0      0.0      1.0             0  Float64\n",
       "   7 │ clg       0.31767   0.0      0.0      1.0             0  Float64\n",
       "   8 │ ad        0.137087  0.0      0.0      1.0             0  Float64\n",
       "   9 │ mw        0.259612  0.0      0.0      1.0             0  Float64        ⋯\n",
       "  10 │ so        0.296505  0.0      0.0      1.0             0  Float64\n",
       "  11 │ we        0.216117  0.0      0.0      1.0             0  Float64\n",
       "  12 │ ne        0.227767  0.0      0.0      1.0             0  Float64\n",
       "  13 │ exp1      13.7606   0.0      10.0     47.0            0  Float64        ⋯\n",
       "  14 │ exp2      3.01893   0.0      1.0      22.09           0  Float64\n",
       "  15 │ exp3      8.23587   0.0      1.0      103.823         0  Float64\n",
       "  16 │ exp4      25.118    0.0      1.0      487.968         0  Float64\n",
       "  17 │ occ      \u001b[90m          \u001b[0m 10      \u001b[90m         \u001b[0m 1e+05           0  CategoricalVal ⋯\n",
       "  18 │ occ2     \u001b[90m          \u001b[0m 1       \u001b[90m         \u001b[0m 22              0  CategoricalVal\n",
       "  19 │ ind      \u001b[90m          \u001b[0m 370     \u001b[90m         \u001b[0m 1e+05           0  CategoricalVal\n",
       "  20 │ ind2     \u001b[90m          \u001b[0m 2       \u001b[90m         \u001b[0m 22              0  CategoricalVal\n",
       "\u001b[36m                                                                1 column omitted\u001b[0m"
      ]
     },
     "execution_count": 4,
     "metadata": {},
     "output_type": "execute_result"
    }
   ],
   "source": [
    "describe(data)"
   ]
  },
  {
   "cell_type": "code",
   "execution_count": 5,
   "id": "19b6df04",
   "metadata": {},
   "outputs": [
    {
     "data": {
      "text/html": [
       "<table class=\"data-frame\"><thead><tr><th></th><th>variables</th><th>All</th><th>Men</th><th>Female</th></tr><tr><th></th><th>String</th><th>Float64</th><th>Float64</th><th>Float64</th></tr></thead><tbody><p>12 rows × 4 columns</p><tr><th>1</th><td>lwage</td><td>2.97079</td><td>2.98783</td><td>2.94948</td></tr><tr><th>2</th><td>sex</td><td>0.444466</td><td>0.0</td><td>1.0</td></tr><tr><th>3</th><td>shs</td><td>0.023301</td><td>0.0318071</td><td>0.0126693</td></tr><tr><th>4</th><td>hsg</td><td>0.243883</td><td>0.294303</td><td>0.180865</td></tr><tr><th>5</th><td>scl</td><td>0.278058</td><td>0.273331</td><td>0.283967</td></tr><tr><th>6</th><td>clg</td><td>0.31767</td><td>0.293953</td><td>0.347313</td></tr><tr><th>7</th><td>ad</td><td>0.137087</td><td>0.106606</td><td>0.175186</td></tr><tr><th>8</th><td>ne</td><td>0.227767</td><td>0.22195</td><td>0.235037</td></tr><tr><th>9</th><td>mw</td><td>0.259612</td><td>0.259</td><td>0.260376</td></tr><tr><th>10</th><td>so</td><td>0.296505</td><td>0.298148</td><td>0.294452</td></tr><tr><th>11</th><td>we</td><td>0.216117</td><td>0.220902</td><td>0.210135</td></tr><tr><th>12</th><td>exp1</td><td>13.7606</td><td>13.784</td><td>13.7313</td></tr></tbody></table>"
      ],
      "text/latex": [
       "\\begin{tabular}{r|cccc}\n",
       "\t& variables & All & Men & Female\\\\\n",
       "\t\\hline\n",
       "\t& String & Float64 & Float64 & Float64\\\\\n",
       "\t\\hline\n",
       "\t1 & lwage & 2.97079 & 2.98783 & 2.94948 \\\\\n",
       "\t2 & sex & 0.444466 & 0.0 & 1.0 \\\\\n",
       "\t3 & shs & 0.023301 & 0.0318071 & 0.0126693 \\\\\n",
       "\t4 & hsg & 0.243883 & 0.294303 & 0.180865 \\\\\n",
       "\t5 & scl & 0.278058 & 0.273331 & 0.283967 \\\\\n",
       "\t6 & clg & 0.31767 & 0.293953 & 0.347313 \\\\\n",
       "\t7 & ad & 0.137087 & 0.106606 & 0.175186 \\\\\n",
       "\t8 & ne & 0.227767 & 0.22195 & 0.235037 \\\\\n",
       "\t9 & mw & 0.259612 & 0.259 & 0.260376 \\\\\n",
       "\t10 & so & 0.296505 & 0.298148 & 0.294452 \\\\\n",
       "\t11 & we & 0.216117 & 0.220902 & 0.210135 \\\\\n",
       "\t12 & exp1 & 13.7606 & 13.784 & 13.7313 \\\\\n",
       "\\end{tabular}\n"
      ],
      "text/plain": [
       "\u001b[1m12×4 DataFrame\u001b[0m\n",
       "\u001b[1m Row \u001b[0m│\u001b[1m variables \u001b[0m\u001b[1m All       \u001b[0m\u001b[1m Men        \u001b[0m\u001b[1m Female     \u001b[0m\n",
       "\u001b[1m     \u001b[0m│\u001b[90m String    \u001b[0m\u001b[90m Float64   \u001b[0m\u001b[90m Float64    \u001b[0m\u001b[90m Float64    \u001b[0m\n",
       "─────┼──────────────────────────────────────────────\n",
       "   1 │ lwage       2.97079    2.98783     2.94948\n",
       "   2 │ sex         0.444466   0.0         1.0\n",
       "   3 │ shs         0.023301   0.0318071   0.0126693\n",
       "   4 │ hsg         0.243883   0.294303    0.180865\n",
       "   5 │ scl         0.278058   0.273331    0.283967\n",
       "   6 │ clg         0.31767    0.293953    0.347313\n",
       "   7 │ ad          0.137087   0.106606    0.175186\n",
       "   8 │ ne          0.227767   0.22195     0.235037\n",
       "   9 │ mw          0.259612   0.259       0.260376\n",
       "  10 │ so          0.296505   0.298148    0.294452\n",
       "  11 │ we          0.216117   0.220902    0.210135\n",
       "  12 │ exp1       13.7606    13.784      13.7313"
      ]
     },
     "execution_count": 5,
     "metadata": {},
     "output_type": "execute_result"
    }
   ],
   "source": [
    "#Focus on the subset of college-educated workers (scl, clg variables). \n",
    "#Descriptive data table of variables by sex\n",
    "Z = select(data, [\"lwage\",\"sex\",\"shs\",\"hsg\",\"scl\",\"clg\",\"ad\",\"ne\",\"mw\",\"so\",\"we\",\"exp1\"])\n",
    "\n",
    "data_female = filter(row -> row.sex == 1, data)\n",
    "Z_female = select(data_female,[\"lwage\",\"sex\",\"shs\",\"hsg\",\"scl\",\"clg\",\"ad\",\"ne\",\"mw\",\"so\",\"we\",\"exp1\"] )\n",
    "\n",
    "data_male = filter(row -> row.sex == 0, data)\n",
    "Z_male = select(data_male,[\"lwage\",\"sex\",\"shs\",\"hsg\",\"scl\",\"clg\",\"ad\",\"ne\",\"mw\",\"so\",\"we\",\"exp1\"] )\n",
    "\n",
    "means = DataFrame( variables = names(Z), All = describe(Z, :mean)[!,2], Men = describe(Z_male,:mean)[!,2], Female = describe(Z_female,:mean)[!,2])"
   ]
  },
  {
   "cell_type": "code",
   "execution_count": 6,
   "id": "35a69615",
   "metadata": {},
   "outputs": [
    {
     "data": {
      "text/html": [
       "<table class=\"data-frame\"><thead><tr><th></th><th>wage</th><th>lwage</th><th>sex</th><th>shs</th><th>hsg</th><th>scl</th><th>clg</th><th>ad</th><th>mw</th></tr><tr><th></th><th>Float64</th><th>Float64</th><th>Float64</th><th>Float64</th><th>Float64</th><th>Float64</th><th>Float64</th><th>Float64</th><th>Float64</th></tr></thead><tbody><p>3,068 rows × 20 columns (omitted printing of 11 columns)</p><tr><th>1</th><td>9.61538</td><td>2.26336</td><td>1.0</td><td>0.0</td><td>0.0</td><td>0.0</td><td>1.0</td><td>0.0</td><td>0.0</td></tr><tr><th>2</th><td>48.0769</td><td>3.8728</td><td>0.0</td><td>0.0</td><td>0.0</td><td>0.0</td><td>1.0</td><td>0.0</td><td>0.0</td></tr><tr><th>3</th><td>28.8462</td><td>3.36198</td><td>1.0</td><td>0.0</td><td>0.0</td><td>0.0</td><td>1.0</td><td>0.0</td><td>0.0</td></tr><tr><th>4</th><td>11.7308</td><td>2.46222</td><td>1.0</td><td>0.0</td><td>0.0</td><td>0.0</td><td>1.0</td><td>0.0</td><td>0.0</td></tr><tr><th>5</th><td>19.2308</td><td>2.95651</td><td>1.0</td><td>0.0</td><td>0.0</td><td>0.0</td><td>1.0</td><td>0.0</td><td>0.0</td></tr><tr><th>6</th><td>12.0192</td><td>2.48651</td><td>1.0</td><td>0.0</td><td>0.0</td><td>1.0</td><td>0.0</td><td>0.0</td><td>0.0</td></tr><tr><th>7</th><td>13.4615</td><td>2.59984</td><td>1.0</td><td>0.0</td><td>0.0</td><td>1.0</td><td>0.0</td><td>0.0</td><td>0.0</td></tr><tr><th>8</th><td>16.3462</td><td>2.79399</td><td>1.0</td><td>0.0</td><td>0.0</td><td>0.0</td><td>1.0</td><td>0.0</td><td>0.0</td></tr><tr><th>9</th><td>8.65385</td><td>2.158</td><td>0.0</td><td>0.0</td><td>0.0</td><td>1.0</td><td>0.0</td><td>0.0</td><td>0.0</td></tr><tr><th>10</th><td>10.6838</td><td>2.36872</td><td>1.0</td><td>0.0</td><td>0.0</td><td>1.0</td><td>0.0</td><td>0.0</td><td>0.0</td></tr><tr><th>11</th><td>11.5385</td><td>2.44569</td><td>1.0</td><td>0.0</td><td>0.0</td><td>1.0</td><td>0.0</td><td>0.0</td><td>0.0</td></tr><tr><th>12</th><td>19.2308</td><td>2.95651</td><td>0.0</td><td>0.0</td><td>0.0</td><td>0.0</td><td>1.0</td><td>0.0</td><td>0.0</td></tr><tr><th>13</th><td>16.3043</td><td>2.79143</td><td>1.0</td><td>0.0</td><td>0.0</td><td>1.0</td><td>0.0</td><td>0.0</td><td>0.0</td></tr><tr><th>14</th><td>12.0</td><td>2.48491</td><td>0.0</td><td>0.0</td><td>0.0</td><td>1.0</td><td>0.0</td><td>0.0</td><td>0.0</td></tr><tr><th>15</th><td>16.8269</td><td>2.82298</td><td>0.0</td><td>0.0</td><td>0.0</td><td>0.0</td><td>1.0</td><td>0.0</td><td>0.0</td></tr><tr><th>16</th><td>19.6703</td><td>2.97911</td><td>0.0</td><td>0.0</td><td>0.0</td><td>0.0</td><td>1.0</td><td>0.0</td><td>0.0</td></tr><tr><th>17</th><td>13.9423</td><td>2.63493</td><td>1.0</td><td>0.0</td><td>0.0</td><td>1.0</td><td>0.0</td><td>0.0</td><td>0.0</td></tr><tr><th>18</th><td>10.0962</td><td>2.31215</td><td>1.0</td><td>0.0</td><td>0.0</td><td>1.0</td><td>0.0</td><td>0.0</td><td>0.0</td></tr><tr><th>19</th><td>24.0385</td><td>3.17966</td><td>1.0</td><td>0.0</td><td>0.0</td><td>0.0</td><td>1.0</td><td>0.0</td><td>0.0</td></tr><tr><th>20</th><td>41.2088</td><td>3.71865</td><td>1.0</td><td>0.0</td><td>0.0</td><td>0.0</td><td>1.0</td><td>0.0</td><td>0.0</td></tr><tr><th>21</th><td>21.6346</td><td>3.07429</td><td>1.0</td><td>0.0</td><td>0.0</td><td>1.0</td><td>0.0</td><td>0.0</td><td>0.0</td></tr><tr><th>22</th><td>12.0192</td><td>2.48651</td><td>1.0</td><td>0.0</td><td>0.0</td><td>1.0</td><td>0.0</td><td>0.0</td><td>0.0</td></tr><tr><th>23</th><td>7.21154</td><td>1.97568</td><td>1.0</td><td>0.0</td><td>0.0</td><td>1.0</td><td>0.0</td><td>0.0</td><td>0.0</td></tr><tr><th>24</th><td>11.7788</td><td>2.46631</td><td>1.0</td><td>0.0</td><td>0.0</td><td>0.0</td><td>1.0</td><td>0.0</td><td>0.0</td></tr><tr><th>25</th><td>12.9371</td><td>2.5601</td><td>0.0</td><td>0.0</td><td>0.0</td><td>1.0</td><td>0.0</td><td>0.0</td><td>0.0</td></tr><tr><th>26</th><td>13.0769</td><td>2.57085</td><td>1.0</td><td>0.0</td><td>0.0</td><td>0.0</td><td>1.0</td><td>0.0</td><td>0.0</td></tr><tr><th>27</th><td>21.6346</td><td>3.07429</td><td>1.0</td><td>0.0</td><td>0.0</td><td>0.0</td><td>1.0</td><td>0.0</td><td>0.0</td></tr><tr><th>28</th><td>8.50592</td><td>2.14076</td><td>0.0</td><td>0.0</td><td>0.0</td><td>1.0</td><td>0.0</td><td>0.0</td><td>0.0</td></tr><tr><th>29</th><td>33.9893</td><td>3.52604</td><td>0.0</td><td>0.0</td><td>0.0</td><td>0.0</td><td>1.0</td><td>0.0</td><td>0.0</td></tr><tr><th>30</th><td>15.7212</td><td>2.75501</td><td>1.0</td><td>0.0</td><td>0.0</td><td>0.0</td><td>1.0</td><td>0.0</td><td>0.0</td></tr><tr><th>&vellip;</th><td>&vellip;</td><td>&vellip;</td><td>&vellip;</td><td>&vellip;</td><td>&vellip;</td><td>&vellip;</td><td>&vellip;</td><td>&vellip;</td><td>&vellip;</td></tr></tbody></table>"
      ],
      "text/latex": [
       "\\begin{tabular}{r|cccccccccc}\n",
       "\t& wage & lwage & sex & shs & hsg & scl & clg & ad & mw & \\\\\n",
       "\t\\hline\n",
       "\t& Float64 & Float64 & Float64 & Float64 & Float64 & Float64 & Float64 & Float64 & Float64 & \\\\\n",
       "\t\\hline\n",
       "\t1 & 9.61538 & 2.26336 & 1.0 & 0.0 & 0.0 & 0.0 & 1.0 & 0.0 & 0.0 & $\\dots$ \\\\\n",
       "\t2 & 48.0769 & 3.8728 & 0.0 & 0.0 & 0.0 & 0.0 & 1.0 & 0.0 & 0.0 & $\\dots$ \\\\\n",
       "\t3 & 28.8462 & 3.36198 & 1.0 & 0.0 & 0.0 & 0.0 & 1.0 & 0.0 & 0.0 & $\\dots$ \\\\\n",
       "\t4 & 11.7308 & 2.46222 & 1.0 & 0.0 & 0.0 & 0.0 & 1.0 & 0.0 & 0.0 & $\\dots$ \\\\\n",
       "\t5 & 19.2308 & 2.95651 & 1.0 & 0.0 & 0.0 & 0.0 & 1.0 & 0.0 & 0.0 & $\\dots$ \\\\\n",
       "\t6 & 12.0192 & 2.48651 & 1.0 & 0.0 & 0.0 & 1.0 & 0.0 & 0.0 & 0.0 & $\\dots$ \\\\\n",
       "\t7 & 13.4615 & 2.59984 & 1.0 & 0.0 & 0.0 & 1.0 & 0.0 & 0.0 & 0.0 & $\\dots$ \\\\\n",
       "\t8 & 16.3462 & 2.79399 & 1.0 & 0.0 & 0.0 & 0.0 & 1.0 & 0.0 & 0.0 & $\\dots$ \\\\\n",
       "\t9 & 8.65385 & 2.158 & 0.0 & 0.0 & 0.0 & 1.0 & 0.0 & 0.0 & 0.0 & $\\dots$ \\\\\n",
       "\t10 & 10.6838 & 2.36872 & 1.0 & 0.0 & 0.0 & 1.0 & 0.0 & 0.0 & 0.0 & $\\dots$ \\\\\n",
       "\t11 & 11.5385 & 2.44569 & 1.0 & 0.0 & 0.0 & 1.0 & 0.0 & 0.0 & 0.0 & $\\dots$ \\\\\n",
       "\t12 & 19.2308 & 2.95651 & 0.0 & 0.0 & 0.0 & 0.0 & 1.0 & 0.0 & 0.0 & $\\dots$ \\\\\n",
       "\t13 & 16.3043 & 2.79143 & 1.0 & 0.0 & 0.0 & 1.0 & 0.0 & 0.0 & 0.0 & $\\dots$ \\\\\n",
       "\t14 & 12.0 & 2.48491 & 0.0 & 0.0 & 0.0 & 1.0 & 0.0 & 0.0 & 0.0 & $\\dots$ \\\\\n",
       "\t15 & 16.8269 & 2.82298 & 0.0 & 0.0 & 0.0 & 0.0 & 1.0 & 0.0 & 0.0 & $\\dots$ \\\\\n",
       "\t16 & 19.6703 & 2.97911 & 0.0 & 0.0 & 0.0 & 0.0 & 1.0 & 0.0 & 0.0 & $\\dots$ \\\\\n",
       "\t17 & 13.9423 & 2.63493 & 1.0 & 0.0 & 0.0 & 1.0 & 0.0 & 0.0 & 0.0 & $\\dots$ \\\\\n",
       "\t18 & 10.0962 & 2.31215 & 1.0 & 0.0 & 0.0 & 1.0 & 0.0 & 0.0 & 0.0 & $\\dots$ \\\\\n",
       "\t19 & 24.0385 & 3.17966 & 1.0 & 0.0 & 0.0 & 0.0 & 1.0 & 0.0 & 0.0 & $\\dots$ \\\\\n",
       "\t20 & 41.2088 & 3.71865 & 1.0 & 0.0 & 0.0 & 0.0 & 1.0 & 0.0 & 0.0 & $\\dots$ \\\\\n",
       "\t21 & 21.6346 & 3.07429 & 1.0 & 0.0 & 0.0 & 1.0 & 0.0 & 0.0 & 0.0 & $\\dots$ \\\\\n",
       "\t22 & 12.0192 & 2.48651 & 1.0 & 0.0 & 0.0 & 1.0 & 0.0 & 0.0 & 0.0 & $\\dots$ \\\\\n",
       "\t23 & 7.21154 & 1.97568 & 1.0 & 0.0 & 0.0 & 1.0 & 0.0 & 0.0 & 0.0 & $\\dots$ \\\\\n",
       "\t24 & 11.7788 & 2.46631 & 1.0 & 0.0 & 0.0 & 0.0 & 1.0 & 0.0 & 0.0 & $\\dots$ \\\\\n",
       "\t25 & 12.9371 & 2.5601 & 0.0 & 0.0 & 0.0 & 1.0 & 0.0 & 0.0 & 0.0 & $\\dots$ \\\\\n",
       "\t26 & 13.0769 & 2.57085 & 1.0 & 0.0 & 0.0 & 0.0 & 1.0 & 0.0 & 0.0 & $\\dots$ \\\\\n",
       "\t27 & 21.6346 & 3.07429 & 1.0 & 0.0 & 0.0 & 0.0 & 1.0 & 0.0 & 0.0 & $\\dots$ \\\\\n",
       "\t28 & 8.50592 & 2.14076 & 0.0 & 0.0 & 0.0 & 1.0 & 0.0 & 0.0 & 0.0 & $\\dots$ \\\\\n",
       "\t29 & 33.9893 & 3.52604 & 0.0 & 0.0 & 0.0 & 0.0 & 1.0 & 0.0 & 0.0 & $\\dots$ \\\\\n",
       "\t30 & 15.7212 & 2.75501 & 1.0 & 0.0 & 0.0 & 0.0 & 1.0 & 0.0 & 0.0 & $\\dots$ \\\\\n",
       "\t$\\dots$ & $\\dots$ & $\\dots$ & $\\dots$ & $\\dots$ & $\\dots$ & $\\dots$ & $\\dots$ & $\\dots$ & $\\dots$ &  \\\\\n",
       "\\end{tabular}\n"
      ],
      "text/plain": [
       "\u001b[1m3068×20 DataFrame\u001b[0m\n",
       "\u001b[1m  Row \u001b[0m│\u001b[1m wage     \u001b[0m\u001b[1m lwage   \u001b[0m\u001b[1m sex     \u001b[0m\u001b[1m shs     \u001b[0m\u001b[1m hsg     \u001b[0m\u001b[1m scl     \u001b[0m\u001b[1m clg     \u001b[0m\u001b[1m ad    \u001b[0m ⋯\n",
       "\u001b[1m      \u001b[0m│\u001b[90m Float64  \u001b[0m\u001b[90m Float64 \u001b[0m\u001b[90m Float64 \u001b[0m\u001b[90m Float64 \u001b[0m\u001b[90m Float64 \u001b[0m\u001b[90m Float64 \u001b[0m\u001b[90m Float64 \u001b[0m\u001b[90m Float6\u001b[0m ⋯\n",
       "──────┼─────────────────────────────────────────────────────────────────────────\n",
       "    1 │  9.61538  2.26336      1.0      0.0      0.0      0.0      1.0      0. ⋯\n",
       "    2 │ 48.0769   3.8728       0.0      0.0      0.0      0.0      1.0      0.\n",
       "    3 │ 28.8462   3.36198      1.0      0.0      0.0      0.0      1.0      0.\n",
       "    4 │ 11.7308   2.46222      1.0      0.0      0.0      0.0      1.0      0.\n",
       "    5 │ 19.2308   2.95651      1.0      0.0      0.0      0.0      1.0      0. ⋯\n",
       "    6 │ 12.0192   2.48651      1.0      0.0      0.0      1.0      0.0      0.\n",
       "    7 │ 13.4615   2.59984      1.0      0.0      0.0      1.0      0.0      0.\n",
       "    8 │ 16.3462   2.79399      1.0      0.0      0.0      0.0      1.0      0.\n",
       "    9 │  8.65385  2.158        0.0      0.0      0.0      1.0      0.0      0. ⋯\n",
       "   10 │ 10.6838   2.36872      1.0      0.0      0.0      1.0      0.0      0.\n",
       "   11 │ 11.5385   2.44569      1.0      0.0      0.0      1.0      0.0      0.\n",
       "  ⋮   │    ⋮         ⋮        ⋮        ⋮        ⋮        ⋮        ⋮        ⋮   ⋱\n",
       " 3059 │ 38.4615   3.64966      0.0      0.0      0.0      0.0      1.0      0.\n",
       " 3060 │ 48.0769   3.8728       1.0      0.0      0.0      0.0      1.0      0. ⋯\n",
       " 3061 │ 12.0192   2.48651      0.0      0.0      0.0      1.0      0.0      0.\n",
       " 3062 │ 26.4423   3.27497      1.0      0.0      0.0      0.0      1.0      0.\n",
       " 3063 │ 21.1538   3.05182      0.0      0.0      0.0      0.0      1.0      0.\n",
       " 3064 │ 45.5466   3.81874      1.0      0.0      0.0      0.0      1.0      0. ⋯\n",
       " 3065 │ 24.0385   3.17966      1.0      0.0      0.0      0.0      1.0      0.\n",
       " 3066 │ 13.8462   2.62801      0.0      0.0      0.0      0.0      1.0      0.\n",
       " 3067 │ 14.7692   2.69255      0.0      0.0      0.0      0.0      1.0      0.\n",
       " 3068 │ 23.0769   3.13883      1.0      0.0      0.0      1.0      0.0      0. ⋯\n",
       "\u001b[36m                                                13 columns and 3047 rows omitted\u001b[0m"
      ]
     },
     "execution_count": 6,
     "metadata": {},
     "output_type": "execute_result"
    }
   ],
   "source": [
    "data_scl_clg = filter(row -> (row.scl == 1 || row.clg == 1), data)"
   ]
  },
  {
   "cell_type": "code",
   "execution_count": 7,
   "id": "9639dc55",
   "metadata": {},
   "outputs": [],
   "source": [
    "#NO CONTROL MODEL"
   ]
  },
  {
   "cell_type": "code",
   "execution_count": 8,
   "id": "0d0c9bd9",
   "metadata": {},
   "outputs": [
    {
     "name": "stdout",
     "output_type": "stream",
     "text": [
      "The estimated gender coefficient is -0.08150855508735176 and the corresponding robust standard error is 0.019586032782704106\n"
     ]
    }
   ],
   "source": [
    "nocontrol_model = lm(@formula(lwage ~ sex), data_scl_clg)\n",
    "nocontrol_est = GLM.coef(nocontrol_model)[2]\n",
    "nocontrol_se = GLM.coeftable(nocontrol_model).cols[2][2]\n",
    "nocontrol_se1 = stderror(HC1(), nocontrol_model)[2] #Test de white que indica robustes\n",
    "println(\"The estimated gender coefficient is \", nocontrol_est ,\" and the corresponding robust standard error is \" ,nocontrol_se1)"
   ]
  },
  {
   "cell_type": "code",
   "execution_count": 9,
   "id": "e6f85c16",
   "metadata": {},
   "outputs": [
    {
     "data": {
      "text/plain": [
       "StatsModels.TableRegressionModel{LinearModel{GLM.LmResp{Vector{Float64}}, GLM.DensePredChol{Float64, LinearAlgebra.CholeskyPivoted{Float64, Matrix{Float64}}}}, Matrix{Float64}}\n",
       "\n",
       "lwage ~ 1 + sex + exp1 + exp2 + exp3 + exp4 + shs + hsg + scl + clg + occ2 + ind2 + mw + so + we + exp1 & shs + exp1 & hsg + exp1 & scl + exp1 & clg + exp1 & occ2 + exp1 & ind2 + exp1 & mw + exp1 & so + exp1 & we + exp2 & shs + exp2 & hsg + exp2 & scl + exp2 & clg + exp2 & occ2 + exp2 & ind2 + exp2 & mw + exp2 & so + exp2 & we + exp3 & shs + exp3 & hsg + exp3 & scl + exp3 & clg + exp3 & occ2 + exp3 & ind2 + exp3 & mw + exp3 & so + exp3 & we + exp4 & shs + exp4 & hsg + exp4 & scl + exp4 & clg + exp4 & occ2 + exp4 & ind2 + exp4 & mw + exp4 & so + exp4 & we\n",
       "\n",
       "Coefficients:\n",
       "────────────────────────────────────────────────────────────────────────────────────────\n",
       "                        Coef.   Std. Error       t  Pr(>|t|)    Lower 95%      Upper 95%\n",
       "────────────────────────────────────────────────────────────────────────────────────────\n",
       "(Intercept)       3.68562        0.50603      7.28    <1e-12    2.6934       4.67785\n",
       "sex              -0.0530623      0.0193532   -2.74    0.0061   -0.0910101   -0.0151146\n",
       "exp1             -0.196242       0.199667    -0.98    0.3258   -0.587749     0.195265\n",
       "exp2              4.08889        2.34883      1.74    0.0818   -0.5167       8.69449\n",
       "exp3             -2.20644        1.00682     -2.19    0.0285   -4.18061     -0.232263\n",
       "exp4              0.337873       0.137044     2.47    0.0137    0.0691559    0.606589\n",
       "shs               0.0          NaN          NaN       NaN     NaN          NaN\n",
       "hsg               0.0          NaN          NaN       NaN     NaN          NaN\n",
       "scl              -0.249867       0.123785    -2.02    0.0436   -0.492585    -0.00714961\n",
       "clg               0.0          NaN          NaN       NaN     NaN          NaN\n",
       "occ2: 2           0.215199       0.158221     1.36    0.1739   -0.0950401    0.525439\n",
       "occ2: 3           0.0487642      0.20953      0.23    0.8160   -0.362082     0.45961\n",
       "occ2: 4           0.0281449      0.230008     0.12    0.9026   -0.422856     0.479146\n",
       "occ2: 5          -0.271181       0.394417    -0.69    0.4918   -1.04455      0.502192\n",
       "occ2: 6          -0.200053       0.270561    -0.74    0.4597   -0.73057      0.330464\n",
       "occ2: 7          -0.120337       0.418802    -0.29    0.7739   -0.941524     0.700849\n",
       "occ2: 8          -0.17194        0.272149    -0.63    0.5276   -0.70557      0.36169\n",
       "occ2: 9          -0.396363       0.205036    -1.93    0.0533   -0.798398     0.00567204\n",
       "occ2: 10          0.0919819      0.24322      0.38    0.7053   -0.384925     0.568888\n",
       "occ2: 11         -0.499418       0.436858    -1.14    0.2531   -1.35601      0.357175\n",
       "occ2: 12          0.190101       0.341142     0.56    0.5774   -0.47881      0.859012\n",
       "occ2: 13         -0.194529       0.271881    -0.72    0.4744   -0.727633     0.338575\n",
       "occ2: 14          0.301003       0.380838     0.79    0.4294   -0.445745     1.04775\n",
       "occ2: 15         -0.336993       0.335663    -1.00    0.3155   -0.995162     0.321175\n",
       "occ2: 16         -0.0407369      0.171246    -0.24    0.8120   -0.376517     0.295043\n",
       "occ2: 17         -0.455219       0.158601    -2.87    0.0041   -0.766204    -0.144233\n",
       "occ2: 18         -0.0395327      1.85392     -0.02    0.9830   -3.6747       3.59564\n",
       "occ2: 19          0.00204876     0.41918      0.00    0.9961   -0.819879     0.823976\n",
       "occ2: 20         -0.422328       0.260728    -1.62    0.1054   -0.933563     0.088908\n",
       "occ2: 21         -0.901289       0.286969    -3.14    0.0017   -1.46398     -0.338599\n",
       "occ2: 22         -0.0168748      0.48646     -0.03    0.9723   -0.970725     0.936976\n",
       "ind2: 3          -0.937476       0.763058    -1.23    0.2193   -2.43368      0.558728\n",
       "ind2: 4           0.0473118      0.559326     0.08    0.9326   -1.04941      1.14404\n",
       "ind2: 5          -0.377069       0.523205    -0.72    0.4712   -1.40297      0.648832\n",
       "ind2: 6          -0.554252       0.519025    -1.07    0.2857   -1.57196      0.463453\n",
       "ind2: 7          -0.281253       0.57149     -0.49    0.6227   -1.40183      0.839325\n",
       "ind2: 8          -0.650424       0.587472    -1.11    0.2683   -1.80234      0.50149\n",
       "ind2: 9          -0.804538       0.50948     -1.58    0.1144   -1.80353      0.194451\n",
       "ind2: 10         -0.450655       0.567556    -0.79    0.4272   -1.56352      0.66221\n",
       "ind2: 11         -0.663466       0.525945    -1.26    0.2072   -1.69474      0.367806\n",
       "ind2: 12         -0.613801       0.503295    -1.22    0.2227   -1.60066      0.373059\n",
       "ind2: 13         -0.896448       0.58172     -1.54    0.1234   -2.03708      0.244188\n",
       "ind2: 14         -0.390137       0.497751    -0.78    0.4332   -1.36613      0.585853\n",
       "ind2: 15         -0.4653         0.68822     -0.68    0.4990   -1.81476      0.884162\n",
       "ind2: 16         -0.508008       0.528197    -0.96    0.3362   -1.5437       0.52768\n",
       "ind2: 17         -0.868663       0.529479    -1.64    0.1010   -1.90686      0.169538\n",
       "ind2: 18         -0.639695       0.515559    -1.24    0.2148   -1.6506       0.371213\n",
       "ind2: 19         -0.741521       0.555243    -1.34    0.1818   -1.83024      0.347199\n",
       "ind2: 20         -0.814279       0.527588    -1.54    0.1228   -1.84877      0.220216\n",
       "ind2: 21         -0.499764       0.534811    -0.93    0.3501   -1.54842      0.548893\n",
       "ind2: 22         -0.378629       0.540546    -0.70    0.4837   -1.43853      0.681275\n",
       "mw                0.195846       0.106872     1.83    0.0670   -0.0137088    0.405402\n",
       "so               -0.034619       0.104267    -0.33    0.7399   -0.239066     0.169828\n",
       "we                0.126194       0.118424     1.07    0.2867   -0.106013     0.3584\n",
       "exp1 & shs        0.0          NaN          NaN       NaN     NaN          NaN\n",
       "exp1 & hsg        0.0          NaN          NaN       NaN     NaN          NaN\n",
       "exp1 & scl        0.0          NaN          NaN       NaN     NaN          NaN\n",
       "exp1 & clg        0.0121646      0.0407919    0.30    0.7656   -0.0678202    0.0921493\n",
       "exp1 & occ2: 2   -0.0631144      0.0630037   -1.00    0.3165   -0.186652     0.0604232\n",
       "exp1 & occ2: 3    0.0326274      0.0794502    0.41    0.6813   -0.123159     0.188413\n",
       "exp1 & occ2: 4    0.0107059      0.0949665    0.11    0.9102   -0.175504     0.196916\n",
       "exp1 & occ2: 5   -0.0274672      0.200185    -0.14    0.8909   -0.41999      0.365055\n",
       "exp1 & occ2: 6   -0.0527366      0.111982    -0.47    0.6377   -0.272311     0.166838\n",
       "exp1 & occ2: 7   -0.10871        0.160069    -0.68    0.4971   -0.422575     0.205154\n",
       "exp1 & occ2: 8   -0.0371404      0.103584    -0.36    0.7200   -0.240248     0.165968\n",
       "exp1 & occ2: 9    0.102103       0.0830679    1.23    0.2191   -0.060777     0.264982\n",
       "exp1 & occ2: 10   0.0022818      0.0933261    0.02    0.9805   -0.180712     0.185276\n",
       "exp1 & occ2: 11   0.0369873      0.157199     0.24    0.8140   -0.271248     0.345223\n",
       "exp1 & occ2: 12  -0.106244       0.122261    -0.87    0.3849   -0.345973     0.133486\n",
       "exp1 & occ2: 13   0.0483902      0.0983858    0.49    0.6229   -0.144525     0.241305\n",
       "exp1 & occ2: 14  -0.120913       0.139777    -0.87    0.3871   -0.394987     0.153161\n",
       "exp1 & occ2: 15   0.0107765      0.123013     0.09    0.9302   -0.230428     0.251981\n",
       "exp1 & occ2: 16  -0.0377813      0.0639815   -0.59    0.5549   -0.163236     0.0876737\n",
       "exp1 & occ2: 17   0.0473737      0.0588764    0.80    0.4211   -0.0680712    0.162819\n",
       "exp1 & occ2: 18  -0.127882       0.758396    -0.17    0.8661   -1.61494      1.35918\n",
       "exp1 & occ2: 19  -0.0605324      0.143703    -0.42    0.6736   -0.342305     0.22124\n",
       "exp1 & occ2: 20   0.0931849      0.0910362    1.02    0.3061   -0.0853188    0.271689\n",
       "exp1 & occ2: 21   0.323162       0.101082     3.20    0.0014    0.124961     0.521364\n",
       "exp1 & occ2: 22  -0.156074       0.158181    -0.99    0.3239   -0.466236     0.154088\n",
       "exp1 & ind2: 3    0.432023       0.305846     1.41    0.1579   -0.16768      1.03173\n",
       "exp1 & ind2: 4    0.0409994      0.208025     0.20    0.8438   -0.366897     0.448896\n",
       "exp1 & ind2: 5    0.184174       0.204724     0.90    0.3684   -0.217249     0.585597\n",
       "exp1 & ind2: 6    0.225528       0.201121     1.12    0.2622   -0.16883      0.619886\n",
       "exp1 & ind2: 7    0.107313       0.223336     0.48    0.6309   -0.330604     0.54523\n",
       "exp1 & ind2: 8    0.254592       0.245891     1.04    0.3006   -0.227551     0.736735\n",
       "exp1 & ind2: 9    0.209225       0.196892     1.06    0.2880   -0.17684      0.595291\n",
       "exp1 & ind2: 10   0.180706       0.217164     0.83    0.4054   -0.245109     0.60652\n",
       "exp1 & ind2: 11   0.257934       0.204245     1.26    0.2067   -0.14255      0.658418\n",
       "exp1 & ind2: 12   0.317078       0.196714     1.61    0.1071   -0.0686397    0.702796\n",
       "exp1 & ind2: 13   0.380093       0.21774      1.75    0.0810   -0.0468527    0.807038\n",
       "exp1 & ind2: 14   0.140831       0.194648     0.72    0.4694   -0.240836     0.522497\n",
       "exp1 & ind2: 15   0.102648       0.33075      0.31    0.7563   -0.545887     0.751182\n",
       "exp1 & ind2: 16   0.142722       0.20641      0.69    0.4893   -0.262007     0.547451\n",
       "exp1 & ind2: 17   0.297795       0.204097     1.46    0.1447   -0.102398     0.697987\n",
       "exp1 & ind2: 18   0.196256       0.199771     0.98    0.3260   -0.195454     0.587967\n",
       "exp1 & ind2: 19   0.171157       0.21312      0.80    0.4220   -0.246729     0.589043\n",
       "exp1 & ind2: 20   0.174694       0.203165     0.86    0.3899   -0.223672     0.57306\n",
       "exp1 & ind2: 21   0.210018       0.205756     1.02    0.3075   -0.193429     0.613464\n",
       "exp1 & ind2: 22   0.189399       0.205389     0.92    0.3565   -0.213329     0.592126\n",
       "exp1 & mw        -0.0619563      0.0418241   -1.48    0.1386   -0.143965     0.0200524\n",
       "exp1 & so         0.00578199     0.0396763    0.15    0.8841   -0.0720152    0.0835792\n",
       "exp1 & we        -0.047864       0.0437059   -1.10    0.2735   -0.133563     0.0378344\n",
       "exp2 & shs        0.0          NaN          NaN       NaN     NaN          NaN\n",
       "exp2 & hsg        0.0          NaN          NaN       NaN     NaN          NaN\n",
       "exp2 & scl        0.221609       0.413306     0.54    0.5919   -0.588802     1.03202\n",
       "exp2 & clg        0.0          NaN          NaN       NaN     NaN          NaN\n",
       "exp2 & occ2: 2    0.298934       0.703815     0.42    0.6711   -1.08111      1.67897\n",
       "exp2 & occ2: 3   -0.721194       0.885531    -0.81    0.4155   -2.45754      1.01516\n",
       "exp2 & occ2: 4   -0.269927       1.09591     -0.25    0.8055   -2.41879      1.87894\n",
       "exp2 & occ2: 5    1.45323        3.0067       0.48    0.6289   -4.44231      7.34877\n",
       "exp2 & occ2: 6    0.383494       1.37205      0.28    0.7799   -2.30681      3.0738\n",
       "exp2 & occ2: 7    1.1812         1.87848      0.63    0.5295   -2.50213      4.86453\n",
       "exp2 & occ2: 8   -0.0274218      1.1533      -0.02    0.9810   -2.28881      2.23397\n",
       "exp2 & occ2: 9   -1.06214        0.947042    -1.12    0.2622   -2.9191       0.794821\n",
       "exp2 & occ2: 10  -0.32648        1.04322     -0.31    0.7543   -2.37202      1.71906\n",
       "exp2 & occ2: 11  -0.340565       1.70155     -0.20    0.8414   -3.67696      2.99583\n",
       "exp2 & occ2: 12   0.604116       1.34143      0.45    0.6525   -2.02617      3.2344\n",
       "exp2 & occ2: 13  -0.901101       1.04544     -0.86    0.3888   -2.951        1.1488\n",
       "exp2 & occ2: 14   0.117636       1.50825      0.08    0.9378   -2.83974      3.07501\n",
       "exp2 & occ2: 15  -0.549803       1.32919     -0.41    0.6792   -3.15608      2.05648\n",
       "exp2 & occ2: 16   0.0849304      0.697972     0.12    0.9032   -1.28365      1.45351\n",
       "exp2 & occ2: 17  -0.749365       0.643532    -1.16    0.2443   -2.0112       0.512474\n",
       "exp2 & occ2: 18   0.0          NaN          NaN       NaN     NaN          NaN\n",
       "exp2 & occ2: 19   0.549889       1.49066      0.37    0.7122   -2.373        3.47278\n",
       "exp2 & occ2: 20  -1.01588        0.942513    -1.08    0.2812   -2.86396      0.832199\n",
       "exp2 & occ2: 21  -3.93717        1.0693      -3.68    0.0002   -6.03385     -1.8405\n",
       "exp2 & occ2: 22   1.51797        1.53422      0.99    0.3225   -1.49032      4.52626\n",
       "exp2 & ind2: 3   -6.47962        3.79908     -1.71    0.0882  -13.9289       0.96963\n",
       "exp2 & ind2: 4   -2.68721        2.44417     -1.10    0.2717   -7.47974      2.10531\n",
       "exp2 & ind2: 5   -4.14684        2.44457     -1.70    0.0899   -8.94016      0.646479\n",
       "exp2 & ind2: 6   -4.214          2.39915     -1.76    0.0791   -8.91825      0.490252\n",
       "exp2 & ind2: 7   -2.73319        2.69609     -1.01    0.3108   -8.01969      2.55331\n",
       "exp2 & ind2: 8   -3.66565        3.07023     -1.19    0.2326   -9.68576      2.35447\n",
       "exp2 & ind2: 9   -3.89965        2.35827     -1.65    0.0983   -8.52375      0.724457\n",
       "exp2 & ind2: 10  -3.70352        2.53821     -1.46    0.1446   -8.68043      1.2734\n",
       "exp2 & ind2: 11  -4.52165        2.4415      -1.85    0.0641   -9.30894      0.265634\n",
       "exp2 & ind2: 12  -5.10834        2.36795     -2.16    0.0311   -9.75142     -0.465262\n",
       "exp2 & ind2: 13  -5.66915        2.53201     -2.24    0.0252  -10.6339      -0.704379\n",
       "exp2 & ind2: 14  -3.13139        2.347       -1.33    0.1822   -7.73338      1.4706\n",
       "exp2 & ind2: 15  -2.64145        3.74458     -0.71    0.4806   -9.98382      4.70091\n",
       "exp2 & ind2: 16  -3.02671        2.46642     -1.23    0.2199   -7.86287      1.80945\n",
       "exp2 & ind2: 17  -4.78229        2.43208     -1.97    0.0494   -9.55111     -0.0134696\n",
       "exp2 & ind2: 18  -3.87823        2.39221     -1.62    0.1051   -8.56888      0.812415\n",
       "exp2 & ind2: 19  -3.35863        2.5048      -1.34    0.1801   -8.27003      1.55278\n",
       "exp2 & ind2: 20  -3.62711        2.41731     -1.50    0.1336   -8.36698      1.11276\n",
       "exp2 & ind2: 21  -4.02173        2.44344     -1.65    0.0999   -8.81284      0.769371\n",
       "exp2 & ind2: 22  -3.76844        2.4234      -1.56    0.1201   -8.52024      0.98335\n",
       "exp2 & mw         0.483824       0.46917      1.03    0.3025   -0.436125     1.40377\n",
       "exp2 & so        -0.0426958      0.432977    -0.10    0.9215   -0.891677     0.806285\n",
       "exp2 & we         0.57748        0.468255     1.23    0.2176   -0.340675     1.49564\n",
       "exp3 & shs        0.0          NaN          NaN       NaN     NaN          NaN\n",
       "exp3 & hsg        0.0          NaN          NaN       NaN     NaN          NaN\n",
       "exp3 & scl       -0.100286       0.158313    -0.63    0.5265   -0.410706     0.210133\n",
       "exp3 & clg        0.0          NaN          NaN       NaN     NaN          NaN\n",
       "exp3 & occ2: 2    0.000528734    0.284925     0.00    0.9985   -0.558152     0.55921\n",
       "exp3 & occ2: 3    0.347965       0.360248     0.97    0.3342   -0.358409     1.05434\n",
       "exp3 & occ2: 4    0.132704       0.449024     0.30    0.7676   -0.747743     1.01315\n",
       "exp3 & occ2: 5   -1.26755        1.62392     -0.78    0.4351   -4.45172      1.91663\n",
       "exp3 & occ2: 6   -0.0861625      0.610206    -0.14    0.8877   -1.28266      1.11033\n",
       "exp3 & occ2: 7   -0.539154       0.798438    -0.68    0.4996   -2.10473      1.02642\n",
       "exp3 & occ2: 8    0.125024       0.464084     0.27    0.7876   -0.784952     1.035\n",
       "exp3 & occ2: 9    0.395609       0.389418     1.02    0.3098   -0.367962     1.15918\n",
       "exp3 & occ2: 10   0.235622       0.427004     0.55    0.5811   -0.601648     1.07289\n",
       "exp3 & occ2: 11   0.0850896      0.693882     0.12    0.9024   -1.27547      1.44565\n",
       "exp3 & occ2: 12   0.0109101      0.543395     0.02    0.9840   -1.05458      1.0764\n",
       "exp3 & occ2: 13   0.409981       0.406316     1.01    0.3131   -0.386724     1.20668\n",
       "exp3 & occ2: 14   0.232801       0.57376      0.41    0.6850   -0.892228     1.35783\n",
       "exp3 & occ2: 15   0.369137       0.535242     0.69    0.4905   -0.680365     1.41864\n",
       "exp3 & occ2: 16   0.0915397      0.279863     0.33    0.7436   -0.457216     0.640295\n",
       "exp3 & occ2: 17   0.368435       0.258412     1.43    0.1540   -0.138259     0.87513\n",
       "exp3 & occ2: 18   0.469295       4.9731       0.09    0.9248   -9.28196     10.2205\n",
       "exp3 & occ2: 19  -0.203761       0.576815    -0.35    0.7239   -1.33478      0.927258\n",
       "exp3 & occ2: 20   0.382401       0.364204     1.05    0.2938   -0.33173      1.09653\n",
       "exp3 & occ2: 21   1.60413        0.418235     3.84    0.0001    0.784055     2.42421\n",
       "exp3 & occ2: 22  -0.509974       0.563559    -0.90    0.3656   -1.615        0.595054\n",
       "exp3 & ind2: 3    3.2239         1.75617      1.84    0.0665   -0.219603     6.6674\n",
       "exp3 & ind2: 4    1.73498        1.03658      1.67    0.0943   -0.297537     3.7675\n",
       "exp3 & ind2: 5    2.24212        1.04324      2.15    0.0317    0.196528     4.28771\n",
       "exp3 & ind2: 6    2.21469        1.0242       2.16    0.0307    0.206445     4.22294\n",
       "exp3 & ind2: 7    1.56755        1.16908      1.34    0.1801   -0.724776     3.85988\n",
       "exp3 & ind2: 8    1.53999        1.39409      1.10    0.2694   -1.19355      4.27352\n",
       "exp3 & ind2: 9    2.03998        1.01131      2.02    0.0438    0.0570024    4.02296\n",
       "exp3 & ind2: 10   1.98163        1.07096      1.85    0.0644   -0.118309     4.08156\n",
       "exp3 & ind2: 11   2.328          1.04479      2.23    0.0259    0.279371     4.37663\n",
       "exp3 & ind2: 12   2.49869        1.0171       2.46    0.0141    0.504353     4.49302\n",
       "exp3 & ind2: 13   2.678          1.06603      2.51    0.0121    0.587734     4.76828\n",
       "exp3 & ind2: 14   1.75264        1.0095       1.74    0.0826   -0.226791     3.73208\n",
       "exp3 & ind2: 15   1.57845        1.48158      1.07    0.2868   -1.32662      4.48353\n",
       "exp3 & ind2: 16   1.69465        1.05163      1.61    0.1072   -0.367392     3.7567\n",
       "exp3 & ind2: 17   2.35268        1.03803      2.27    0.0235    0.317305     4.38805\n",
       "exp3 & ind2: 18   2.07169        1.02671      2.02    0.0437    0.0585058    4.08487\n",
       "exp3 & ind2: 19   1.82679        1.06047      1.72    0.0851   -0.252582     3.90616\n",
       "exp3 & ind2: 20   1.9672         1.03073      1.91    0.0564   -0.0538545    3.98825\n",
       "exp3 & ind2: 21   2.09208        1.0421       2.01    0.0448    0.0487211    4.13543\n",
       "exp3 & ind2: 22   2.0075         1.03047      1.95    0.0515   -0.0130478    4.02805\n",
       "exp3 & mw        -0.145399       0.192287    -0.76    0.4496   -0.522435     0.231637\n",
       "exp3 & so         0.0184796      0.172789     0.11    0.9148   -0.320326     0.357285\n",
       "exp3 & we        -0.230864       0.184398    -1.25    0.2107   -0.592431     0.130704\n",
       "exp4 & shs        0.0          NaN          NaN       NaN     NaN          NaN\n",
       "exp4 & hsg        0.0          NaN          NaN       NaN     NaN          NaN\n",
       "exp4 & scl        0.0134666      0.020134     0.67    0.5036   -0.0260121    0.0529453\n",
       "exp4 & clg        0.0          NaN          NaN       NaN     NaN          NaN\n",
       "exp4 & occ2: 2   -0.01339        0.0376888   -0.36    0.7224   -0.0872903    0.0605102\n",
       "exp4 & occ2: 3   -0.0486518      0.0476989   -1.02    0.3078   -0.14218      0.0448762\n",
       "exp4 & occ2: 4   -0.0223191      0.0593293   -0.38    0.7068   -0.138652     0.0940137\n",
       "exp4 & occ2: 5    0.284596       0.282463     1.01    0.3138   -0.269258     0.83845\n",
       "exp4 & occ2: 6    0.00353358     0.0875725    0.04    0.9678   -0.168179     0.175246\n",
       "exp4 & occ2: 7    0.078903       0.10856      0.73    0.4674   -0.133962     0.291768\n",
       "exp4 & occ2: 8   -0.0258852      0.0605593   -0.43    0.6691   -0.14463      0.0928594\n",
       "exp4 & occ2: 9   -0.0479087      0.0519869   -0.92    0.3568   -0.149845     0.0540273\n",
       "exp4 & occ2: 10  -0.041137       0.0572458   -0.72    0.4724   -0.153385     0.0711105\n",
       "exp4 & occ2: 11  -0.00448968     0.0932319   -0.05    0.9616   -0.187299     0.17832\n",
       "exp4 & occ2: 12  -0.0327767      0.0723612   -0.45    0.6506   -0.174663     0.109109\n",
       "exp4 & occ2: 13  -0.0574088      0.0515849   -1.11    0.2658   -0.158556     0.0437388\n",
       "exp4 & occ2: 14  -0.0524263      0.0705276   -0.74    0.4573   -0.190717     0.0858643\n",
       "exp4 & occ2: 15  -0.061999       0.0708724   -0.87    0.3818   -0.200966     0.0769676\n",
       "exp4 & occ2: 16  -0.0264713      0.0367893   -0.72    0.4719   -0.0986078    0.0456652\n",
       "exp4 & occ2: 17  -0.0553914      0.0339714   -1.63    0.1031   -0.122003     0.0112197\n",
       "exp4 & occ2: 18  -0.100399       1.25655     -0.08    0.9363   -2.56423      2.36344\n",
       "exp4 & occ2: 19   0.0241359      0.073076     0.33    0.7412   -0.119152     0.167423\n",
       "exp4 & occ2: 20  -0.047196       0.0464443   -1.02    0.3096   -0.138264     0.043872\n",
       "exp4 & occ2: 21  -0.209206       0.0539166   -3.88    0.0001   -0.314926    -0.103487\n",
       "exp4 & occ2: 22   0.0540559      0.0691569    0.78    0.4345   -0.081547     0.189659\n",
       "exp4 & ind2: 3   -0.497087       0.268229    -1.85    0.0640   -1.02303      0.0288568\n",
       "exp4 & ind2: 4   -0.28473        0.139861    -2.04    0.0419   -0.558971    -0.01049\n",
       "exp4 & ind2: 5   -0.340268       0.141583    -2.40    0.0163   -0.617883    -0.0626532\n",
       "exp4 & ind2: 6   -0.333877       0.138934    -2.40    0.0163   -0.606298    -0.0614558\n",
       "exp4 & ind2: 7   -0.244401       0.16153     -1.51    0.1304   -0.561128     0.0723268\n",
       "exp4 & ind2: 8   -0.189436       0.204316    -0.93    0.3539   -0.590058     0.211186\n",
       "exp4 & ind2: 9   -0.307094       0.137703    -2.23    0.0258   -0.577103    -0.0370855\n",
       "exp4 & ind2: 10  -0.30068        0.144426    -2.08    0.0374   -0.58387     -0.0174892\n",
       "exp4 & ind2: 11  -0.349913       0.142175    -2.46    0.0139   -0.62869     -0.071136\n",
       "exp4 & ind2: 12  -0.36409        0.138613    -2.63    0.0087   -0.635883    -0.092297\n",
       "exp4 & ind2: 13  -0.383627       0.143429    -2.67    0.0075   -0.664863    -0.102391\n",
       "exp4 & ind2: 14  -0.272508       0.137698    -1.98    0.0479   -0.542507    -0.00250978\n",
       "exp4 & ind2: 15  -0.254922       0.189141    -1.35    0.1778   -0.62579      0.115946\n",
       "exp4 & ind2: 16  -0.266239       0.142553    -1.87    0.0619   -0.545757     0.0132784\n",
       "exp4 & ind2: 17  -0.343454       0.140849    -2.44    0.0148   -0.619631    -0.067277\n",
       "exp4 & ind2: 18  -0.316878       0.140182    -2.26    0.0239   -0.591747    -0.0420096\n",
       "exp4 & ind2: 19  -0.281509       0.143351    -1.96    0.0497   -0.562591    -0.000425791\n",
       "exp4 & ind2: 20  -0.303821       0.139795    -2.17    0.0298   -0.57793     -0.0297118\n",
       "exp4 & ind2: 21  -0.314271       0.141422    -2.22    0.0263   -0.591571    -0.0369712\n",
       "exp4 & ind2: 22  -0.30614        0.139605    -2.19    0.0284   -0.579878    -0.0324026\n",
       "exp4 & mw         0.0142872      0.0258136    0.55    0.5800   -0.036328     0.0649025\n",
       "exp4 & so        -0.00375907     0.0225465   -0.17    0.8676   -0.0479683    0.0404501\n",
       "exp4 & we         0.0282864      0.0238123    1.19    0.2350   -0.0184048    0.0749777\n",
       "────────────────────────────────────────────────────────────────────────────────────────"
      ]
     },
     "execution_count": 9,
     "metadata": {},
     "output_type": "execute_result"
    }
   ],
   "source": [
    "# data_scl_clg\n",
    "#Control Model\n",
    "flex = @formula(lwage ~ sex + (exp1+exp2+exp3+exp4) * (shs+hsg+scl+clg+occ2+ind2+mw+so+we))#regresion del modelo con sus explicativas\n",
    "control_model = lm(flex , data_scl_clg) #interacciones entre variables"
   ]
  },
  {
   "cell_type": "code",
   "execution_count": 10,
   "id": "09b13df4",
   "metadata": {},
   "outputs": [
    {
     "data": {
      "text/plain": [
       "-0.05306234034443254"
      ]
     },
     "execution_count": 10,
     "metadata": {},
     "output_type": "execute_result"
    }
   ],
   "source": [
    "control_est = GLM.coef(control_model)[2]"
   ]
  },
  {
   "cell_type": "code",
   "execution_count": 11,
   "id": "02d55498",
   "metadata": {},
   "outputs": [
    {
     "data": {
      "text/plain": [
       "0.019353192558238336"
      ]
     },
     "execution_count": 11,
     "metadata": {},
     "output_type": "execute_result"
    }
   ],
   "source": [
    "control_se = GLM.coeftable(control_model).cols[2][2]"
   ]
  },
  {
   "cell_type": "code",
   "execution_count": 12,
   "id": "312b4acf",
   "metadata": {},
   "outputs": [
    {
     "data": {
      "text/plain": [
       "NaN"
      ]
     },
     "execution_count": 12,
     "metadata": {},
     "output_type": "execute_result"
    }
   ],
   "source": [
    "control_se1 = stderror( HC0(), control_model)[2]"
   ]
  },
  {
   "cell_type": "code",
   "execution_count": 13,
   "id": "2fb0eb84",
   "metadata": {},
   "outputs": [
    {
     "name": "stdout",
     "output_type": "stream",
     "text": [
      "Coefficient for OLS with controls -0.05306234034443254 robust standard error:NaN\n"
     ]
    }
   ],
   "source": [
    "println(\"Coefficient for OLS with controls \" , control_est, \" robust standard error:\", control_se1)\n",
    "#REVISAR NOMBRE DE VARIABLES"
   ]
  },
  {
   "cell_type": "code",
   "execution_count": 14,
   "id": "a70fee0a",
   "metadata": {},
   "outputs": [
    {
     "data": {
      "text/plain": [
       "2-element Vector{Float64}:\n",
       " -0.09465138770302528\n",
       " -0.01986639571961412"
      ]
     },
     "execution_count": 14,
     "metadata": {},
     "output_type": "execute_result"
    }
   ],
   "source": [
    "#Partialing-out\n",
    "flex_y = @formula(lwage ~ (exp1+exp2+exp3+exp4) * (shs+hsg+occ2+ind2+mw+so+we))\n",
    "flex_d = @formula(sex ~ (exp1+exp2+exp3+exp4) * (shs+hsg+occ2+ind2+mw+so+we))\n",
    "\n",
    "# partialling-out the linear effect of W from Y\n",
    "t_Y = residuals(lm(flex_y, data_scl_clg))\n",
    "\n",
    "# partialling-out the linear effect of W from D\n",
    "t_D = residuals(lm(flex_d, data_scl_clg))\n",
    "\n",
    "#set residuals as DataFram\n",
    "data_res = DataFrame(t_Y = t_Y, t_D = t_D )\n",
    "# regression of Y on D after partialling-out the effect of W\n",
    "\n",
    "partial_fit = lm(@formula(t_Y ~ t_D), data_res) #Partialling out model (regress of errors)\n",
    "\n",
    "partial_est = GLM.coef(partial_fit)[2]  #[1] seria el intercepto del coef y [2] el intersepto de sexo\n",
    "\n",
    "# standard error \n",
    "partial_se = GLM.coeftable(partial_fit).cols[2][2] #se bellow why [2]\n",
    "# standard error robust white test\n",
    "partial_se1 = stderror( HC0(), partial_fit)[2]\n",
    "\n",
    "#condifence interval\n",
    "GLM.confint(partial_fit)[2,:]"
   ]
  },
  {
   "cell_type": "code",
   "execution_count": 15,
   "id": "5306c47b",
   "metadata": {},
   "outputs": [
    {
     "name": "stdout",
     "output_type": "stream",
     "text": [
      "Coefficient for D via partiallig-out -0.0572588917113197 robust standard error:0.018816972586990735\n"
     ]
    }
   ],
   "source": [
    "println(\"Coefficient for D via partiallig-out \", partial_est, \" robust standard error:\", partial_se1 )"
   ]
  },
  {
   "cell_type": "code",
   "execution_count": 16,
   "id": "db12df01",
   "metadata": {},
   "outputs": [
    {
     "data": {
      "text/html": [
       "<table class=\"data-frame\"><thead><tr><th></th><th>modelos</th><th>Estimate</th><th>StdError</th></tr><tr><th></th><th>String</th><th>Float64</th><th>Float64</th></tr></thead><tbody><p>3 rows × 3 columns</p><tr><th>1</th><td>Without controls</td><td>-0.0815086</td><td>0.019586</td></tr><tr><th>2</th><td>full reg</td><td>-0.0530623</td><td>NaN</td></tr><tr><th>3</th><td>partial reg</td><td>-0.0572589</td><td>0.018817</td></tr></tbody></table>"
      ],
      "text/latex": [
       "\\begin{tabular}{r|ccc}\n",
       "\t& modelos & Estimate & StdError\\\\\n",
       "\t\\hline\n",
       "\t& String & Float64 & Float64\\\\\n",
       "\t\\hline\n",
       "\t1 & Without controls & -0.0815086 & 0.019586 \\\\\n",
       "\t2 & full reg & -0.0530623 & NaN \\\\\n",
       "\t3 & partial reg & -0.0572589 & 0.018817 \\\\\n",
       "\\end{tabular}\n"
      ],
      "text/plain": [
       "\u001b[1m3×3 DataFrame\u001b[0m\n",
       "\u001b[1m Row \u001b[0m│\u001b[1m modelos          \u001b[0m\u001b[1m Estimate   \u001b[0m\u001b[1m StdError   \u001b[0m\n",
       "\u001b[1m     \u001b[0m│\u001b[90m String           \u001b[0m\u001b[90m Float64    \u001b[0m\u001b[90m Float64    \u001b[0m\n",
       "─────┼──────────────────────────────────────────\n",
       "   1 │ Without controls  -0.0815086    0.019586\n",
       "   2 │ full reg          -0.0530623  NaN\n",
       "   3 │ partial reg       -0.0572589    0.018817"
      ]
     },
     "execution_count": 16,
     "metadata": {},
     "output_type": "execute_result"
    }
   ],
   "source": [
    "DataFrame(modelos = [ \"Without controls\", \"full reg\", \"partial reg\" ], \n",
    "Estimate = [nocontrol_est,control_est, partial_est], \n",
    "StdError = [nocontrol_se1,control_se1, partial_se1])"
   ]
  },
  {
   "cell_type": "code",
   "execution_count": 17,
   "id": "de74ccdf",
   "metadata": {},
   "outputs": [
    {
     "data": {
      "text/plain": [
       "Plots.PyPlotBackend()"
      ]
     },
     "execution_count": 17,
     "metadata": {},
     "output_type": "execute_result"
    }
   ],
   "source": [
    "pyplot()"
   ]
  },
  {
   "cell_type": "code",
   "execution_count": 18,
   "id": "56ec60e6",
   "metadata": {},
   "outputs": [],
   "source": [
    "using Plots"
   ]
  },
  {
   "cell_type": "code",
   "execution_count": 19,
   "id": "57121f68",
   "metadata": {},
   "outputs": [
    {
     "data": {
      "image/png": "[encoded data removed]"
     },
     "execution_count": 19,
     "metadata": {},
     "output_type": "execute_result"
    }
   ],
   "source": [
    "using StatsPlots # Required for the DataFrame user recipe\n",
    "# Now let's create the DataFrame\n",
    "using DataFrames\n",
    "df = DataFrame(data_scl_clg)\n",
    "@df df scatter(:exp1, :lwage, title = \"My DataFrame Scatter Plot!\") \n"
   ]
  },
  {
   "cell_type": "code",
   "execution_count": 20,
   "id": "21dbbf62",
   "metadata": {},
   "outputs": [
    {
     "data": {
      "image/png": "[encoded data removed]"
     },
     "execution_count": 20,
     "metadata": {},
     "output_type": "execute_result"
    }
   ],
   "source": [
    "density(df.lwage , title = \"Density Plot - Log Wage\", ylabel = \"Frequency\", xlabel = \"Log Wage\", legend = false)"
   ]
  },
  {
   "cell_type": "code",
   "execution_count": 21,
   "id": "1a61a22f",
   "metadata": {},
   "outputs": [],
   "source": [
    "#plots necesarios\n",
    "\n",
    "# sccater del salario con la experiencia por sexo\n",
    "# barras o torta de cuantos hombres y mujeres\n",
    "#Plot Interval confidence of sex's coefficient for different model (basic, control and partiallling out)"
   ]
  },
  {
   "cell_type": "code",
   "execution_count": 22,
   "id": "356e35d4",
   "metadata": {},
   "outputs": [
    {
     "data": {
      "text/plain": [
       "Axis(PGFPlotsX.Options(OrderedCollections.OrderedDict{Any, Any}(\"xmajorgrids\" => nothing, \"ytick\" => [-1, -2, -3], \"yticklabels\" => [\"Fuel consumption (l/100km)\", \"Length (m)\", \"Turn circle (m)\"]), true), Any[Plot(false, false, PGFPlotsX.Options(OrderedCollections.OrderedDict{Any, Any}(\"thin\" => nothing, \"color\" => \"blue\"), true), Table(PGFPlotsX.Options(OrderedCollections.OrderedDict{Any, Any}(), false), TableData([5.0 -1.0; 7.0 -1.0], nothing, Int64[], true)), Any[]), Plot(false, false, PGFPlotsX.Options(OrderedCollections.OrderedDict{Any, Any}(\"very_thick\" => nothing, \"color\" => \"blue\"), true), Table(PGFPlotsX.Options(OrderedCollections.OrderedDict{Any, Any}(), false), TableData([5.5 -1.0; 6.5 -1.0], nothing, Int64[], true)), Any[]), Plot(false, false, PGFPlotsX.Options(OrderedCollections.OrderedDict{Any, Any}(\"black\" => nothing, \"only_marks\" => nothing, \"color\" => \"blue\"), true), Table(PGFPlotsX.Options(OrderedCollections.OrderedDict{Any, Any}(), false), TableData([6.0 -1.0], nothing, Int64[], true)), Any[]), Plot(false, false, PGFPlotsX.Options(OrderedCollections.OrderedDict{Any, Any}(\"thin\" => nothing, \"color\" => \"blue\"), true), Table(PGFPlotsX.Options(OrderedCollections.OrderedDict{Any, Any}(), false), TableData([4.2 -2.0; 5.0 -2.0], nothing, Int64[], true)), Any[]), Plot(false, false, PGFPlotsX.Options(OrderedCollections.OrderedDict{Any, Any}(\"very_thick\" => nothing, \"color\" => \"blue\"), true), Table(PGFPlotsX.Options(OrderedCollections.OrderedDict{Any, Any}(), false), TableData([4.4 -2.0; 4.8 -2.0], nothing, Int64[], true)), Any[]), Plot(false, false, PGFPlotsX.Options(OrderedCollections.OrderedDict{Any, Any}(\"black\" => nothing, \"only_marks\" => nothing, \"color\" => \"blue\"), true), Table(PGFPlotsX.Options(OrderedCollections.OrderedDict{Any, Any}(), false), TableData([4.6 -2.0], nothing, Int64[], true)), Any[]), Plot(false, false, PGFPlotsX.Options(OrderedCollections.OrderedDict{Any, Any}(\"thin\" => nothing, \"color\" => \"blue\"), true), Table(PGFPlotsX.Options(OrderedCollections.OrderedDict{Any, Any}(), false), TableData([7.0 -3.0; 12.0 -3.0], nothing, Int64[], true)), Any[]), Plot(false, false, PGFPlotsX.Options(OrderedCollections.OrderedDict{Any, Any}(\"very_thick\" => nothing, \"color\" => \"blue\"), true), Table(PGFPlotsX.Options(OrderedCollections.OrderedDict{Any, Any}(), false), TableData([8.25 -3.0; 10.75 -3.0], nothing, Int64[], true)), Any[]), Plot(false, false, PGFPlotsX.Options(OrderedCollections.OrderedDict{Any, Any}(\"black\" => nothing, \"only_marks\" => nothing, \"color\" => \"blue\"), true), Table(PGFPlotsX.Options(OrderedCollections.OrderedDict{Any, Any}(), false), TableData([9.5 -3.0], nothing, Int64[], true)), Any[])])"
      ]
     },
     "execution_count": 22,
     "metadata": {},
     "output_type": "execute_result"
    }
   ],
   "source": [
    "using PGFPlotsX\n",
    "\n",
    "function horiz_q5(x5, y; color = \"black\")\n",
    "    plots = @pgf [Plot({ thin, color = color }, Table(x5[[1,5]], [y, y])),\n",
    "                  Plot({ very_thick, color = color }, Table(x5[[2,4]], [y, y])),\n",
    "                  Plot({ black, only_marks, color = color }, Table(x5[3:3], [y]))]\n",
    "end\n",
    "\n",
    "function horiz_q5_plots(name_q5_pairs; color = \"blue\")\n",
    "    @pgf axis = Axis({ xmajorgrids, ytick = .-collect(axes(name_q5_pairs, 1)),\n",
    "                       yticklabels = first.(name_q5_pairs) })\n",
    "    for (i, (name, q5)) in enumerate(name_q5_pairs)\n",
    "        append!(axis, horiz_q5(q5, -i; color = color))\n",
    "    end\n",
    "    axis\n",
    "end\n",
    "\n",
    "horiz_q5_plots([\"Fuel consumption (l/100km)\" => range(5, 7; length = 5),\n",
    "                \"Length (m)\" => range(4.2, 5; length = 5),\n",
    "                \"Turn circle (m)\" => range(7, 12; length = 5)])"
   ]
  },
  {
   "cell_type": "code",
   "execution_count": 23,
   "id": "4d7fcbfb",
   "metadata": {},
   "outputs": [],
   "source": [
    "#Grafico final"
   ]
  }
 ],
 "metadata": {
  "kernelspec": {
   "display_name": "Julia 1.6.5",
   "language": "julia",
   "name": "julia-1.6"
  },
  "language_info": {
   "file_extension": ".jl",
   "mimetype": "application/julia",
   "name": "julia",
   "version": "1.7.2"
  }
 },
 "nbformat": 4,
 "nbformat_minor": 5
}
