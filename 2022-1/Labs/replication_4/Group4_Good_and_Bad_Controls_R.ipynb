{
 "cells": [
  {
   "cell_type": "markdown",
   "id": "cda80692",
   "metadata": {},
   "source": [
    "### Group 4"
   ]
  },
  {
   "cell_type": "code",
   "execution_count": null,
   "id": "1f7d7fcf",
   "metadata": {},
   "outputs": [],
   "source": [
    "# Install space\n",
    "\n",
    "#install.packages(\"dagitty\")\n",
    "#install.packages(\"ggdag\")"
   ]
  },
  {
   "cell_type": "code",
   "execution_count": 3,
   "id": "170eedeb",
   "metadata": {},
   "outputs": [
    {
     "name": "stderr",
     "output_type": "stream",
     "text": [
      "Warning message:\n",
      "\"package 'dagitty' was built under R version 3.6.3\"\n",
      "Attaching package: 'ggdag'\n",
      "\n",
      "The following object is masked from 'package:stats':\n",
      "\n",
      "    filter\n",
      "\n"
     ]
    }
   ],
   "source": [
    "# Libraries\n",
    "\n",
    "library(dagitty)\n",
    "library(ggdag)\n"
   ]
  },
  {
   "cell_type": "markdown",
   "id": "bac9c6e8",
   "metadata": {},
   "source": [
    "## Bad Control (M-bias) MODEL 7"
   ]
  },
  {
   "cell_type": "code",
   "execution_count": 17,
   "id": "cda06ffa",
   "metadata": {},
   "outputs": [
    {
     "data": {
      "image/png": "[encoded data removed]",
      "text/plain": [
       "plot without title"
      ]
     },
     "metadata": {},
     "output_type": "display_data"
    }
   ],
   "source": [
    "## specify edges\n",
    "model <- dagitty(\"dag{x->y; u1->x; u1->z; u2->z; u2->y}\")\n",
    "\n",
    "# set u as latent\n",
    "latents(model) <- c(\"u1\", \"u2\")\n",
    "\n",
    "## coordinates for plotting\n",
    "coordinates(model) <-  list(\n",
    "  x = c(x=1, u1=1, z=2, u2=3, y=3),\n",
    "  y = c(x=1, u1=2, z=2, u2=2, y=1))\n",
    "\n",
    "## ggplot\n",
    "ggdag(model) + theme_dag() "
   ]
  },
  {
   "cell_type": "markdown",
   "id": "48b294f5",
   "metadata": {},
   "source": [
    "* Its important to say that Z seems be a pre-treatment variable, but its correlated with both X and Y, so it is not a confounder: Z is a bad control. "
   ]
  },
  {
   "cell_type": "markdown",
   "id": "fcce37a8",
   "metadata": {},
   "source": [
    "### Numerical simulation"
   ]
  },
  {
   "cell_type": "code",
   "execution_count": 53,
   "id": "0eef93d4",
   "metadata": {},
   "outputs": [],
   "source": [
    "# Set Seed\n",
    "# to make the results replicable (generating random numbers)\n",
    "set.seed(5)\n",
    "n = 100\n",
    "u1 = rnorm(n)\n",
    "u2 = rnorm(n)\n",
    "z = 0.5*u1 + 0.5*u2 + rnorm(n)\n",
    "x = 2*u1 + rnorm(n)\n",
    "y = 3*x + 2*u2 + rnorm(n)"
   ]
  },
  {
   "cell_type": "code",
   "execution_count": 54,
   "id": "9bd9dd42",
   "metadata": {},
   "outputs": [
    {
     "data": {
      "text/html": [
       "<table>\n",
       "<thead><tr><th scope=col>u1</th><th scope=col>u2</th><th scope=col>z</th><th scope=col>x</th><th scope=col>y</th></tr></thead>\n",
       "<tbody>\n",
       "\t<tr><td>-0.84085548  </td><td>-1.99538697  </td><td>-1.53179940  </td><td>-0.47156487  </td><td> -5.875594986</td></tr>\n",
       "\t<tr><td> 1.38435934  </td><td> 1.13531128  </td><td> 0.96473449  </td><td> 2.95737585  </td><td> 11.612072502</td></tr>\n",
       "\t<tr><td>-1.25549186  </td><td> 0.67579457  </td><td> 0.69931982  </td><td>-0.54848505  </td><td> -1.769206159</td></tr>\n",
       "\t<tr><td> 0.07014277  </td><td> 0.20848326  </td><td>-0.63581879  </td><td> 0.27899747  </td><td>  0.338004228</td></tr>\n",
       "\t<tr><td> 1.71144087  </td><td>-0.05784564  </td><td> 1.10269588  </td><td> 1.84425439  </td><td>  5.875046946</td></tr>\n",
       "\t<tr><td>-0.60290798  </td><td> 0.89381141  </td><td> 0.55623336  </td><td>-2.00283723  </td><td> -4.933391334</td></tr>\n",
       "\t<tr><td>-0.47216639  </td><td>-0.22886538  </td><td> 0.26066728  </td><td> 0.28002111  </td><td>  0.003894246</td></tr>\n",
       "\t<tr><td>-0.63537131  </td><td>-1.96565265  </td><td>-0.36394126  </td><td>-1.63607619  </td><td> -6.832672921</td></tr>\n",
       "\t<tr><td>-0.28577363  </td><td>-0.75351045  </td><td>-0.88718374  </td><td>-0.73413755  </td><td> -4.259601895</td></tr>\n",
       "\t<tr><td> 0.13810822  </td><td> 1.28015162  </td><td> 1.44950668  </td><td> 0.83669563  </td><td>  3.089603970</td></tr>\n",
       "\t<tr><td> 1.22763034  </td><td>-0.95290496  </td><td> 1.35589575  </td><td> 1.59453506  </td><td>  3.912393387</td></tr>\n",
       "\t<tr><td>-0.80177945  </td><td> 1.62237939  </td><td> 1.03943440  </td><td>-0.36492442  </td><td>  1.305145817</td></tr>\n",
       "\t<tr><td>-1.08039260  </td><td> 2.60014202  </td><td> 1.28762102  </td><td>-1.39334945  </td><td>  0.003286571</td></tr>\n",
       "\t<tr><td>-0.15753436  </td><td> 0.13964851  </td><td>-0.48119823  </td><td>-1.40247782  </td><td> -3.253380615</td></tr>\n",
       "\t<tr><td>-1.07176004  </td><td>-1.35071967  </td><td>-0.38752470  </td><td>-2.07601631  </td><td> -8.962715044</td></tr>\n",
       "\t<tr><td>-0.13898614  </td><td> 0.79893102  </td><td>-0.09781581  </td><td> 1.32716828  </td><td>  7.824858296</td></tr>\n",
       "\t<tr><td>-0.59731309  </td><td>-1.55499584  </td><td>-1.21879839  </td><td> 0.03760324  </td><td> -3.451328902</td></tr>\n",
       "\t<tr><td>-2.18396676  </td><td> 0.46372006  </td><td> 0.55865970  </td><td>-4.74704731  </td><td>-13.118827248</td></tr>\n",
       "\t<tr><td> 0.24081726  </td><td> 0.05242956  </td><td> 0.63375731  </td><td>-0.86823207  </td><td> -2.468339013</td></tr>\n",
       "\t<tr><td>-0.25935541  </td><td>-0.20203180  </td><td> 0.37274785  </td><td>-0.15379271  </td><td> -2.654772732</td></tr>\n",
       "\t<tr><td> 0.90051195  </td><td> 1.17085642  </td><td> 1.24651706  </td><td> 1.43742897  </td><td>  6.583508827</td></tr>\n",
       "\t<tr><td> 0.94186939  </td><td> 0.88484486  </td><td> 0.88005792  </td><td> 3.25839211  </td><td> 13.349007803</td></tr>\n",
       "\t<tr><td> 1.46796190  </td><td>-1.31788860  </td><td> 2.10023364  </td><td> 3.22781954  </td><td>  7.492318549</td></tr>\n",
       "\t<tr><td> 0.70676109  </td><td>-1.64325094  </td><td>-0.83903167  </td><td> 2.12411389  </td><td>  1.894899697</td></tr>\n",
       "\t<tr><td> 0.81900893  </td><td> 1.05925039  </td><td>-0.63910479  </td><td> 0.70025694  </td><td>  4.467500700</td></tr>\n",
       "\t<tr><td>-0.29348185  </td><td> 0.29008358  </td><td>-0.12327109  </td><td>-1.70102682  </td><td> -4.641891472</td></tr>\n",
       "\t<tr><td> 1.41858907  </td><td>-0.40003350  </td><td>-1.28739903  </td><td> 3.47155010  </td><td> 10.301572283</td></tr>\n",
       "\t<tr><td> 1.49877383  </td><td> 1.24309578  </td><td> 0.89534326  </td><td> 2.76635475  </td><td>  9.377478023</td></tr>\n",
       "\t<tr><td>-0.65708209  </td><td>-1.36641052  </td><td>-1.89584863  </td><td>-2.68235839  </td><td>-10.204574173</td></tr>\n",
       "\t<tr><td>-0.85279544  </td><td>-1.44141330  </td><td>-4.64516335  </td><td>-2.46049833  </td><td> -9.626620052</td></tr>\n",
       "\t<tr><td>...</td><td>...</td><td>...</td><td>...</td><td>...</td></tr>\n",
       "\t<tr><td>-0.20409732</td><td>-1.44014752</td><td>-1.17786321</td><td>-0.31829984</td><td>-2.4748286 </td></tr>\n",
       "\t<tr><td>-0.22561419</td><td> 0.14376888</td><td>-1.02633697</td><td> 0.55368169</td><td> 1.6820592 </td></tr>\n",
       "\t<tr><td> 0.34702845</td><td>-1.23458665</td><td>-1.17494974</td><td>-1.17888477</td><td>-9.0407734 </td></tr>\n",
       "\t<tr><td> 0.03236784</td><td>-1.75250121</td><td> 0.60525740</td><td> 0.58952022</td><td>-1.9752617 </td></tr>\n",
       "\t<tr><td> 0.41353129</td><td>-0.03549629</td><td> 2.04763282</td><td> 0.31243524</td><td> 0.5941264 </td></tr>\n",
       "\t<tr><td>-0.15534848</td><td> 0.33203491</td><td> 0.09184024</td><td> 0.90023562</td><td> 4.5551735 </td></tr>\n",
       "\t<tr><td> 0.97348539</td><td> 1.57228826</td><td>-0.07088842</td><td> 1.43417541</td><td> 7.4982988 </td></tr>\n",
       "\t<tr><td> 0.12109014</td><td>-1.06947057</td><td>-0.32289618</td><td> 1.33280594</td><td> 2.1905247 </td></tr>\n",
       "\t<tr><td> 0.18917369</td><td> 0.91628652</td><td> 0.84273923</td><td> 0.87019228</td><td> 4.9747690 </td></tr>\n",
       "\t<tr><td>-0.56288507</td><td>-0.59499290</td><td>-0.70141731</td><td>-1.36839911</td><td>-4.6811517 </td></tr>\n",
       "\t<tr><td> 0.49841617</td><td> 2.18164668</td><td> 1.46518581</td><td> 3.11287958</td><td>13.7786480 </td></tr>\n",
       "\t<tr><td>-1.74230249</td><td>-0.68377329</td><td>-1.98547200</td><td>-2.29596541</td><td>-8.5163221 </td></tr>\n",
       "\t<tr><td> 0.97552910</td><td> 0.75005921</td><td>-0.15017197</td><td> 2.84631939</td><td> 9.1172062 </td></tr>\n",
       "\t<tr><td>-0.02408287</td><td> 0.97438263</td><td> 1.44206948</td><td> 0.82037489</td><td> 4.5274961 </td></tr>\n",
       "\t<tr><td> 0.67568448</td><td>-1.26447348</td><td>-0.71772180</td><td> 3.00754692</td><td> 4.3552836 </td></tr>\n",
       "\t<tr><td>-0.71030961</td><td>-0.27742142</td><td>-1.32546497</td><td> 0.02501678</td><td>-0.7992121 </td></tr>\n",
       "\t<tr><td> 2.38723265</td><td>-0.18939869</td><td> 2.49887424</td><td> 5.51906572</td><td>15.4377054 </td></tr>\n",
       "\t<tr><td>-0.47343201</td><td>-0.38402495</td><td>-0.41171452</td><td>-1.63705424</td><td>-6.6050040 </td></tr>\n",
       "\t<tr><td>-0.07577256</td><td> 0.74058802</td><td> 2.17990469</td><td>-0.94295687</td><td>-0.5897608 </td></tr>\n",
       "\t<tr><td>-0.52184006</td><td>-1.16833839</td><td>-1.53142861</td><td>-1.30576130</td><td>-5.8944004 </td></tr>\n",
       "\t<tr><td> 0.92604713</td><td> 0.66753870</td><td> 0.57806888</td><td> 1.44417716</td><td> 4.8383732 </td></tr>\n",
       "\t<tr><td>-1.06241117</td><td> 0.36623695</td><td> 0.33450580</td><td>-1.92351129</td><td>-5.4838121 </td></tr>\n",
       "\t<tr><td> 0.55703387</td><td>-0.51494299</td><td> 0.54517546</td><td> 0.38212025</td><td>-0.5544373 </td></tr>\n",
       "\t<tr><td> 0.90073058</td><td> 0.45056824</td><td> 0.75619939</td><td> 2.53059689</td><td> 7.6920102 </td></tr>\n",
       "\t<tr><td> 0.98994568</td><td>-0.18772038</td><td> 0.45489819</td><td> 2.30653997</td><td> 8.1551259 </td></tr>\n",
       "\t<tr><td> 0.38360809</td><td> 1.33906937</td><td> 0.12407974</td><td>-1.94066171</td><td>-3.1253281 </td></tr>\n",
       "\t<tr><td>-0.34658381</td><td> 0.81621918</td><td> 1.20125575</td><td>-1.28530654</td><td>-3.3068806 </td></tr>\n",
       "\t<tr><td>-0.54018925</td><td> 0.08220176</td><td> 0.75531311</td><td>-0.57583480</td><td>-0.2736511 </td></tr>\n",
       "\t<tr><td>-0.18255559</td><td>-0.65086272</td><td>-0.22941822</td><td>-1.88780827</td><td>-7.1090630 </td></tr>\n",
       "\t<tr><td>-0.05929965</td><td> 0.72640902</td><td> 0.60654044</td><td>-0.47747450</td><td>-2.2676143 </td></tr>\n",
       "</tbody>\n",
       "</table>\n"
      ],
      "text/latex": [
       "\\begin{tabular}{r|lllll}\n",
       " u1 & u2 & z & x & y\\\\\n",
       "\\hline\n",
       "\t -0.84085548   & -1.99538697   & -1.53179940   & -0.47156487   &  -5.875594986\\\\\n",
       "\t  1.38435934   &  1.13531128   &  0.96473449   &  2.95737585   &  11.612072502\\\\\n",
       "\t -1.25549186   &  0.67579457   &  0.69931982   & -0.54848505   &  -1.769206159\\\\\n",
       "\t  0.07014277   &  0.20848326   & -0.63581879   &  0.27899747   &   0.338004228\\\\\n",
       "\t  1.71144087   & -0.05784564   &  1.10269588   &  1.84425439   &   5.875046946\\\\\n",
       "\t -0.60290798   &  0.89381141   &  0.55623336   & -2.00283723   &  -4.933391334\\\\\n",
       "\t -0.47216639   & -0.22886538   &  0.26066728   &  0.28002111   &   0.003894246\\\\\n",
       "\t -0.63537131   & -1.96565265   & -0.36394126   & -1.63607619   &  -6.832672921\\\\\n",
       "\t -0.28577363   & -0.75351045   & -0.88718374   & -0.73413755   &  -4.259601895\\\\\n",
       "\t  0.13810822   &  1.28015162   &  1.44950668   &  0.83669563   &   3.089603970\\\\\n",
       "\t  1.22763034   & -0.95290496   &  1.35589575   &  1.59453506   &   3.912393387\\\\\n",
       "\t -0.80177945   &  1.62237939   &  1.03943440   & -0.36492442   &   1.305145817\\\\\n",
       "\t -1.08039260   &  2.60014202   &  1.28762102   & -1.39334945   &   0.003286571\\\\\n",
       "\t -0.15753436   &  0.13964851   & -0.48119823   & -1.40247782   &  -3.253380615\\\\\n",
       "\t -1.07176004   & -1.35071967   & -0.38752470   & -2.07601631   &  -8.962715044\\\\\n",
       "\t -0.13898614   &  0.79893102   & -0.09781581   &  1.32716828   &   7.824858296\\\\\n",
       "\t -0.59731309   & -1.55499584   & -1.21879839   &  0.03760324   &  -3.451328902\\\\\n",
       "\t -2.18396676   &  0.46372006   &  0.55865970   & -4.74704731   & -13.118827248\\\\\n",
       "\t  0.24081726   &  0.05242956   &  0.63375731   & -0.86823207   &  -2.468339013\\\\\n",
       "\t -0.25935541   & -0.20203180   &  0.37274785   & -0.15379271   &  -2.654772732\\\\\n",
       "\t  0.90051195   &  1.17085642   &  1.24651706   &  1.43742897   &   6.583508827\\\\\n",
       "\t  0.94186939   &  0.88484486   &  0.88005792   &  3.25839211   &  13.349007803\\\\\n",
       "\t  1.46796190   & -1.31788860   &  2.10023364   &  3.22781954   &   7.492318549\\\\\n",
       "\t  0.70676109   & -1.64325094   & -0.83903167   &  2.12411389   &   1.894899697\\\\\n",
       "\t  0.81900893   &  1.05925039   & -0.63910479   &  0.70025694   &   4.467500700\\\\\n",
       "\t -0.29348185   &  0.29008358   & -0.12327109   & -1.70102682   &  -4.641891472\\\\\n",
       "\t  1.41858907   & -0.40003350   & -1.28739903   &  3.47155010   &  10.301572283\\\\\n",
       "\t  1.49877383   &  1.24309578   &  0.89534326   &  2.76635475   &   9.377478023\\\\\n",
       "\t -0.65708209   & -1.36641052   & -1.89584863   & -2.68235839   & -10.204574173\\\\\n",
       "\t -0.85279544   & -1.44141330   & -4.64516335   & -2.46049833   &  -9.626620052\\\\\n",
       "\t ... & ... & ... & ... & ...\\\\\n",
       "\t -0.20409732 & -1.44014752 & -1.17786321 & -0.31829984 & -2.4748286 \\\\\n",
       "\t -0.22561419 &  0.14376888 & -1.02633697 &  0.55368169 &  1.6820592 \\\\\n",
       "\t  0.34702845 & -1.23458665 & -1.17494974 & -1.17888477 & -9.0407734 \\\\\n",
       "\t  0.03236784 & -1.75250121 &  0.60525740 &  0.58952022 & -1.9752617 \\\\\n",
       "\t  0.41353129 & -0.03549629 &  2.04763282 &  0.31243524 &  0.5941264 \\\\\n",
       "\t -0.15534848 &  0.33203491 &  0.09184024 &  0.90023562 &  4.5551735 \\\\\n",
       "\t  0.97348539 &  1.57228826 & -0.07088842 &  1.43417541 &  7.4982988 \\\\\n",
       "\t  0.12109014 & -1.06947057 & -0.32289618 &  1.33280594 &  2.1905247 \\\\\n",
       "\t  0.18917369 &  0.91628652 &  0.84273923 &  0.87019228 &  4.9747690 \\\\\n",
       "\t -0.56288507 & -0.59499290 & -0.70141731 & -1.36839911 & -4.6811517 \\\\\n",
       "\t  0.49841617 &  2.18164668 &  1.46518581 &  3.11287958 & 13.7786480 \\\\\n",
       "\t -1.74230249 & -0.68377329 & -1.98547200 & -2.29596541 & -8.5163221 \\\\\n",
       "\t  0.97552910 &  0.75005921 & -0.15017197 &  2.84631939 &  9.1172062 \\\\\n",
       "\t -0.02408287 &  0.97438263 &  1.44206948 &  0.82037489 &  4.5274961 \\\\\n",
       "\t  0.67568448 & -1.26447348 & -0.71772180 &  3.00754692 &  4.3552836 \\\\\n",
       "\t -0.71030961 & -0.27742142 & -1.32546497 &  0.02501678 & -0.7992121 \\\\\n",
       "\t  2.38723265 & -0.18939869 &  2.49887424 &  5.51906572 & 15.4377054 \\\\\n",
       "\t -0.47343201 & -0.38402495 & -0.41171452 & -1.63705424 & -6.6050040 \\\\\n",
       "\t -0.07577256 &  0.74058802 &  2.17990469 & -0.94295687 & -0.5897608 \\\\\n",
       "\t -0.52184006 & -1.16833839 & -1.53142861 & -1.30576130 & -5.8944004 \\\\\n",
       "\t  0.92604713 &  0.66753870 &  0.57806888 &  1.44417716 &  4.8383732 \\\\\n",
       "\t -1.06241117 &  0.36623695 &  0.33450580 & -1.92351129 & -5.4838121 \\\\\n",
       "\t  0.55703387 & -0.51494299 &  0.54517546 &  0.38212025 & -0.5544373 \\\\\n",
       "\t  0.90073058 &  0.45056824 &  0.75619939 &  2.53059689 &  7.6920102 \\\\\n",
       "\t  0.98994568 & -0.18772038 &  0.45489819 &  2.30653997 &  8.1551259 \\\\\n",
       "\t  0.38360809 &  1.33906937 &  0.12407974 & -1.94066171 & -3.1253281 \\\\\n",
       "\t -0.34658381 &  0.81621918 &  1.20125575 & -1.28530654 & -3.3068806 \\\\\n",
       "\t -0.54018925 &  0.08220176 &  0.75531311 & -0.57583480 & -0.2736511 \\\\\n",
       "\t -0.18255559 & -0.65086272 & -0.22941822 & -1.88780827 & -7.1090630 \\\\\n",
       "\t -0.05929965 &  0.72640902 &  0.60654044 & -0.47747450 & -2.2676143 \\\\\n",
       "\\end{tabular}\n"
      ],
      "text/markdown": [
       "\n",
       "| u1 | u2 | z | x | y |\n",
       "|---|---|---|---|---|\n",
       "| -0.84085548   | -1.99538697   | -1.53179940   | -0.47156487   |  -5.875594986 |\n",
       "|  1.38435934   |  1.13531128   |  0.96473449   |  2.95737585   |  11.612072502 |\n",
       "| -1.25549186   |  0.67579457   |  0.69931982   | -0.54848505   |  -1.769206159 |\n",
       "|  0.07014277   |  0.20848326   | -0.63581879   |  0.27899747   |   0.338004228 |\n",
       "|  1.71144087   | -0.05784564   |  1.10269588   |  1.84425439   |   5.875046946 |\n",
       "| -0.60290798   |  0.89381141   |  0.55623336   | -2.00283723   |  -4.933391334 |\n",
       "| -0.47216639   | -0.22886538   |  0.26066728   |  0.28002111   |   0.003894246 |\n",
       "| -0.63537131   | -1.96565265   | -0.36394126   | -1.63607619   |  -6.832672921 |\n",
       "| -0.28577363   | -0.75351045   | -0.88718374   | -0.73413755   |  -4.259601895 |\n",
       "|  0.13810822   |  1.28015162   |  1.44950668   |  0.83669563   |   3.089603970 |\n",
       "|  1.22763034   | -0.95290496   |  1.35589575   |  1.59453506   |   3.912393387 |\n",
       "| -0.80177945   |  1.62237939   |  1.03943440   | -0.36492442   |   1.305145817 |\n",
       "| -1.08039260   |  2.60014202   |  1.28762102   | -1.39334945   |   0.003286571 |\n",
       "| -0.15753436   |  0.13964851   | -0.48119823   | -1.40247782   |  -3.253380615 |\n",
       "| -1.07176004   | -1.35071967   | -0.38752470   | -2.07601631   |  -8.962715044 |\n",
       "| -0.13898614   |  0.79893102   | -0.09781581   |  1.32716828   |   7.824858296 |\n",
       "| -0.59731309   | -1.55499584   | -1.21879839   |  0.03760324   |  -3.451328902 |\n",
       "| -2.18396676   |  0.46372006   |  0.55865970   | -4.74704731   | -13.118827248 |\n",
       "|  0.24081726   |  0.05242956   |  0.63375731   | -0.86823207   |  -2.468339013 |\n",
       "| -0.25935541   | -0.20203180   |  0.37274785   | -0.15379271   |  -2.654772732 |\n",
       "|  0.90051195   |  1.17085642   |  1.24651706   |  1.43742897   |   6.583508827 |\n",
       "|  0.94186939   |  0.88484486   |  0.88005792   |  3.25839211   |  13.349007803 |\n",
       "|  1.46796190   | -1.31788860   |  2.10023364   |  3.22781954   |   7.492318549 |\n",
       "|  0.70676109   | -1.64325094   | -0.83903167   |  2.12411389   |   1.894899697 |\n",
       "|  0.81900893   |  1.05925039   | -0.63910479   |  0.70025694   |   4.467500700 |\n",
       "| -0.29348185   |  0.29008358   | -0.12327109   | -1.70102682   |  -4.641891472 |\n",
       "|  1.41858907   | -0.40003350   | -1.28739903   |  3.47155010   |  10.301572283 |\n",
       "|  1.49877383   |  1.24309578   |  0.89534326   |  2.76635475   |   9.377478023 |\n",
       "| -0.65708209   | -1.36641052   | -1.89584863   | -2.68235839   | -10.204574173 |\n",
       "| -0.85279544   | -1.44141330   | -4.64516335   | -2.46049833   |  -9.626620052 |\n",
       "| ... | ... | ... | ... | ... |\n",
       "| -0.20409732 | -1.44014752 | -1.17786321 | -0.31829984 | -2.4748286  |\n",
       "| -0.22561419 |  0.14376888 | -1.02633697 |  0.55368169 |  1.6820592  |\n",
       "|  0.34702845 | -1.23458665 | -1.17494974 | -1.17888477 | -9.0407734  |\n",
       "|  0.03236784 | -1.75250121 |  0.60525740 |  0.58952022 | -1.9752617  |\n",
       "|  0.41353129 | -0.03549629 |  2.04763282 |  0.31243524 |  0.5941264  |\n",
       "| -0.15534848 |  0.33203491 |  0.09184024 |  0.90023562 |  4.5551735  |\n",
       "|  0.97348539 |  1.57228826 | -0.07088842 |  1.43417541 |  7.4982988  |\n",
       "|  0.12109014 | -1.06947057 | -0.32289618 |  1.33280594 |  2.1905247  |\n",
       "|  0.18917369 |  0.91628652 |  0.84273923 |  0.87019228 |  4.9747690  |\n",
       "| -0.56288507 | -0.59499290 | -0.70141731 | -1.36839911 | -4.6811517  |\n",
       "|  0.49841617 |  2.18164668 |  1.46518581 |  3.11287958 | 13.7786480  |\n",
       "| -1.74230249 | -0.68377329 | -1.98547200 | -2.29596541 | -8.5163221  |\n",
       "|  0.97552910 |  0.75005921 | -0.15017197 |  2.84631939 |  9.1172062  |\n",
       "| -0.02408287 |  0.97438263 |  1.44206948 |  0.82037489 |  4.5274961  |\n",
       "|  0.67568448 | -1.26447348 | -0.71772180 |  3.00754692 |  4.3552836  |\n",
       "| -0.71030961 | -0.27742142 | -1.32546497 |  0.02501678 | -0.7992121  |\n",
       "|  2.38723265 | -0.18939869 |  2.49887424 |  5.51906572 | 15.4377054  |\n",
       "| -0.47343201 | -0.38402495 | -0.41171452 | -1.63705424 | -6.6050040  |\n",
       "| -0.07577256 |  0.74058802 |  2.17990469 | -0.94295687 | -0.5897608  |\n",
       "| -0.52184006 | -1.16833839 | -1.53142861 | -1.30576130 | -5.8944004  |\n",
       "|  0.92604713 |  0.66753870 |  0.57806888 |  1.44417716 |  4.8383732  |\n",
       "| -1.06241117 |  0.36623695 |  0.33450580 | -1.92351129 | -5.4838121  |\n",
       "|  0.55703387 | -0.51494299 |  0.54517546 |  0.38212025 | -0.5544373  |\n",
       "|  0.90073058 |  0.45056824 |  0.75619939 |  2.53059689 |  7.6920102  |\n",
       "|  0.98994568 | -0.18772038 |  0.45489819 |  2.30653997 |  8.1551259  |\n",
       "|  0.38360809 |  1.33906937 |  0.12407974 | -1.94066171 | -3.1253281  |\n",
       "| -0.34658381 |  0.81621918 |  1.20125575 | -1.28530654 | -3.3068806  |\n",
       "| -0.54018925 |  0.08220176 |  0.75531311 | -0.57583480 | -0.2736511  |\n",
       "| -0.18255559 | -0.65086272 | -0.22941822 | -1.88780827 | -7.1090630  |\n",
       "| -0.05929965 |  0.72640902 |  0.60654044 | -0.47747450 | -2.2676143  |\n",
       "\n"
      ],
      "text/plain": [
       "    u1          u2          z           x           y            \n",
       "1   -0.84085548 -1.99538697 -1.53179940 -0.47156487  -5.875594986\n",
       "2    1.38435934  1.13531128  0.96473449  2.95737585  11.612072502\n",
       "3   -1.25549186  0.67579457  0.69931982 -0.54848505  -1.769206159\n",
       "4    0.07014277  0.20848326 -0.63581879  0.27899747   0.338004228\n",
       "5    1.71144087 -0.05784564  1.10269588  1.84425439   5.875046946\n",
       "6   -0.60290798  0.89381141  0.55623336 -2.00283723  -4.933391334\n",
       "7   -0.47216639 -0.22886538  0.26066728  0.28002111   0.003894246\n",
       "8   -0.63537131 -1.96565265 -0.36394126 -1.63607619  -6.832672921\n",
       "9   -0.28577363 -0.75351045 -0.88718374 -0.73413755  -4.259601895\n",
       "10   0.13810822  1.28015162  1.44950668  0.83669563   3.089603970\n",
       "11   1.22763034 -0.95290496  1.35589575  1.59453506   3.912393387\n",
       "12  -0.80177945  1.62237939  1.03943440 -0.36492442   1.305145817\n",
       "13  -1.08039260  2.60014202  1.28762102 -1.39334945   0.003286571\n",
       "14  -0.15753436  0.13964851 -0.48119823 -1.40247782  -3.253380615\n",
       "15  -1.07176004 -1.35071967 -0.38752470 -2.07601631  -8.962715044\n",
       "16  -0.13898614  0.79893102 -0.09781581  1.32716828   7.824858296\n",
       "17  -0.59731309 -1.55499584 -1.21879839  0.03760324  -3.451328902\n",
       "18  -2.18396676  0.46372006  0.55865970 -4.74704731 -13.118827248\n",
       "19   0.24081726  0.05242956  0.63375731 -0.86823207  -2.468339013\n",
       "20  -0.25935541 -0.20203180  0.37274785 -0.15379271  -2.654772732\n",
       "21   0.90051195  1.17085642  1.24651706  1.43742897   6.583508827\n",
       "22   0.94186939  0.88484486  0.88005792  3.25839211  13.349007803\n",
       "23   1.46796190 -1.31788860  2.10023364  3.22781954   7.492318549\n",
       "24   0.70676109 -1.64325094 -0.83903167  2.12411389   1.894899697\n",
       "25   0.81900893  1.05925039 -0.63910479  0.70025694   4.467500700\n",
       "26  -0.29348185  0.29008358 -0.12327109 -1.70102682  -4.641891472\n",
       "27   1.41858907 -0.40003350 -1.28739903  3.47155010  10.301572283\n",
       "28   1.49877383  1.24309578  0.89534326  2.76635475   9.377478023\n",
       "29  -0.65708209 -1.36641052 -1.89584863 -2.68235839 -10.204574173\n",
       "30  -0.85279544 -1.44141330 -4.64516335 -2.46049833  -9.626620052\n",
       "... ...         ...         ...         ...         ...          \n",
       "71  -0.20409732 -1.44014752 -1.17786321 -0.31829984 -2.4748286   \n",
       "72  -0.22561419  0.14376888 -1.02633697  0.55368169  1.6820592   \n",
       "73   0.34702845 -1.23458665 -1.17494974 -1.17888477 -9.0407734   \n",
       "74   0.03236784 -1.75250121  0.60525740  0.58952022 -1.9752617   \n",
       "75   0.41353129 -0.03549629  2.04763282  0.31243524  0.5941264   \n",
       "76  -0.15534848  0.33203491  0.09184024  0.90023562  4.5551735   \n",
       "77   0.97348539  1.57228826 -0.07088842  1.43417541  7.4982988   \n",
       "78   0.12109014 -1.06947057 -0.32289618  1.33280594  2.1905247   \n",
       "79   0.18917369  0.91628652  0.84273923  0.87019228  4.9747690   \n",
       "80  -0.56288507 -0.59499290 -0.70141731 -1.36839911 -4.6811517   \n",
       "81   0.49841617  2.18164668  1.46518581  3.11287958 13.7786480   \n",
       "82  -1.74230249 -0.68377329 -1.98547200 -2.29596541 -8.5163221   \n",
       "83   0.97552910  0.75005921 -0.15017197  2.84631939  9.1172062   \n",
       "84  -0.02408287  0.97438263  1.44206948  0.82037489  4.5274961   \n",
       "85   0.67568448 -1.26447348 -0.71772180  3.00754692  4.3552836   \n",
       "86  -0.71030961 -0.27742142 -1.32546497  0.02501678 -0.7992121   \n",
       "87   2.38723265 -0.18939869  2.49887424  5.51906572 15.4377054   \n",
       "88  -0.47343201 -0.38402495 -0.41171452 -1.63705424 -6.6050040   \n",
       "89  -0.07577256  0.74058802  2.17990469 -0.94295687 -0.5897608   \n",
       "90  -0.52184006 -1.16833839 -1.53142861 -1.30576130 -5.8944004   \n",
       "91   0.92604713  0.66753870  0.57806888  1.44417716  4.8383732   \n",
       "92  -1.06241117  0.36623695  0.33450580 -1.92351129 -5.4838121   \n",
       "93   0.55703387 -0.51494299  0.54517546  0.38212025 -0.5544373   \n",
       "94   0.90073058  0.45056824  0.75619939  2.53059689  7.6920102   \n",
       "95   0.98994568 -0.18772038  0.45489819  2.30653997  8.1551259   \n",
       "96   0.38360809  1.33906937  0.12407974 -1.94066171 -3.1253281   \n",
       "97  -0.34658381  0.81621918  1.20125575 -1.28530654 -3.3068806   \n",
       "98  -0.54018925  0.08220176  0.75531311 -0.57583480 -0.2736511   \n",
       "99  -0.18255559 -0.65086272 -0.22941822 -1.88780827 -7.1090630   \n",
       "100 -0.05929965  0.72640902  0.60654044 -0.47747450 -2.2676143   "
      ]
     },
     "metadata": {},
     "output_type": "display_data"
    }
   ],
   "source": [
    "# Creating a dataframe\n",
    "A <- matrix(c(u1, u2, z , x, y),  nrow=100, ncol = 5, byrow=FALSE)\n",
    "data = as.data.frame(A)\n",
    "colnames(data) <- c('u1','u2','z','x','y')\n",
    "data"
   ]
  },
  {
   "cell_type": "code",
   "execution_count": 55,
   "id": "713b9846",
   "metadata": {},
   "outputs": [
    {
     "data": {
      "text/plain": [
       "\n",
       "Call:\n",
       "lm(formula = y ~ x)\n",
       "\n",
       "Coefficients:\n",
       "(Intercept)            x  \n",
       "  -0.006916     3.074213  \n"
      ]
     },
     "metadata": {},
     "output_type": "display_data"
    }
   ],
   "source": [
    "# Unadjusted estimate is *not* confounded!\n",
    "\n",
    "lm(y ~ x)"
   ]
  },
  {
   "cell_type": "code",
   "execution_count": 56,
   "id": "a3fab0e2",
   "metadata": {},
   "outputs": [
    {
     "data": {
      "text/plain": [
       "\n",
       "Call:\n",
       "lm(formula = y ~ x + z)\n",
       "\n",
       "Coefficients:\n",
       "(Intercept)            x            z  \n",
       "   -0.02079      2.83113      0.90813  \n"
      ]
     },
     "metadata": {},
     "output_type": "display_data"
    }
   ],
   "source": [
    "# Adjusting for Z induces bias!\n",
    "\n",
    "lm(y ~ x + z)"
   ]
  },
  {
   "cell_type": "markdown",
   "id": "174a9e8c",
   "metadata": {},
   "source": [
    "* In the first regression, it can be seen that the coefficient of $x$ is smaller compared to the second regression model; this can be explained because by defining, through the regression equation, that there is a direct relationship between $y$ and $x$, its coefficient will be higher than defining that $y$ also depends on another variable more like $z$; that is, the causal weight of the variable x is lower if another variable is added that is also correlated with $y$ and $x$."
   ]
  },
  {
   "cell_type": "code",
   "execution_count": null,
   "id": "aa73e632",
   "metadata": {},
   "outputs": [],
   "source": []
  }
 ],
 "metadata": {
  "kernelspec": {
   "display_name": "R",
   "language": "R",
   "name": "ir"
  },
  "language_info": {
   "codemirror_mode": "r",
   "file_extension": ".r",
   "mimetype": "text/x-r-source",
   "name": "R",
   "pygments_lexer": "r",
   "version": "3.6.1"
  }
 },
 "nbformat": 4,
 "nbformat_minor": 5
}
