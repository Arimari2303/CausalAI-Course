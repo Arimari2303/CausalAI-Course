{
 "cells": [
  {
   "cell_type": "markdown",
   "metadata": {},
   "source": [
    "* Python code replication of:\n",
    "\" https://www.kaggle.com/janniskueck/pm2-notebook-jannis \"\n",
    "* Created by: Alexander Quispe and Anzony Quispe "
   ]
  },
  {
   "cell_type": "markdown",
   "metadata": {},
   "source": [
    "This notebook contains an example for teaching."
   ]
  },
  {
   "cell_type": "markdown",
   "metadata": {},
   "source": [
    "# Testing the Convergence Hypothesis"
   ]
  },
  {
   "cell_type": "markdown",
   "metadata": {},
   "source": [
    "## Introduction"
   ]
  },
  {
   "cell_type": "markdown",
   "metadata": {},
   "source": [
    "We provide an additional empirical example of partialling-out with Lasso to estimate the regression coefficient $\\beta_1$ in the high-dimensional linear regression model:\n",
    "  $$\n",
    "  Y = \\beta_1 D +  \\beta_2'W + \\epsilon.\n",
    "  $$\n",
    "  \n",
    "Specifically, we are interested in how the rates  at which economies of different countries grow ($Y$) are related to the initial wealth levels in each country ($D$) controlling for country's institutional, educational, and other similar characteristics ($W$).\n",
    "  \n",
    "The relationship is captured by $\\beta_1$, the *speed of convergence/divergence*, which measures the speed at which poor countries catch up $(\\beta_1< 0)$ or fall behind $(\\beta_1> 0)$ rich countries, after controlling for $W$. Our inference question here is: do poor countries grow faster than rich countries, controlling for educational and other characteristics? In other words, is the speed of convergence negative: $ \\beta_1 <0?$ This is the Convergence Hypothesis predicted by the Solow Growth Model. This is a structural economic model. Under some strong assumptions, that we won't state here, the predictive exercise we are doing here can be given causal interpretation.\n"
   ]
  },
  {
   "cell_type": "markdown",
   "metadata": {},
   "source": [
    "The outcome $Y$ is the realized annual growth rate of a country's wealth  (Gross Domestic Product per capita). The target regressor ($D$) is the initial level of the country's wealth. The target parameter $\\beta_1$ is the speed of convergence, which measures the speed at which poor countries catch up with rich countries. The controls ($W$) include measures of education levels, quality of institutions, trade openness, and political stability in the country."
   ]
  },
  {
   "cell_type": "markdown",
   "metadata": {},
   "source": [
    "## Data analysis\n"
   ]
  },
  {
   "cell_type": "markdown",
   "metadata": {},
   "source": [
    "We consider the data set GrowthData which is included in the package *hdm*. First, let us load the data set to get familiar with the data."
   ]
  },
  {
   "cell_type": "code",
   "execution_count": 1,
   "metadata": {},
   "outputs": [],
   "source": [
    "import hdmpy\n",
    "import pandas as pd\n",
    "import numpy as np\n",
    "import pyreadr\n",
    "import math\n",
    "import matplotlib.pyplot as plt\n",
    "import random"
   ]
  },
  {
   "cell_type": "code",
   "execution_count": 2,
   "metadata": {},
   "outputs": [
    {
     "data": {
      "text/plain": [
       "['Outcome',\n",
       " 'intercept',\n",
       " 'gdpsh465',\n",
       " 'bmp1l',\n",
       " 'freeop',\n",
       " 'freetar',\n",
       " 'h65',\n",
       " 'hm65',\n",
       " 'hf65',\n",
       " 'p65',\n",
       " 'pm65',\n",
       " 'pf65',\n",
       " 's65',\n",
       " 'sm65',\n",
       " 'sf65',\n",
       " 'fert65',\n",
       " 'mort65',\n",
       " 'lifee065',\n",
       " 'gpop1',\n",
       " 'fert1',\n",
       " 'mort1',\n",
       " 'invsh41',\n",
       " 'geetot1',\n",
       " 'geerec1',\n",
       " 'gde1',\n",
       " 'govwb1',\n",
       " 'govsh41',\n",
       " 'gvxdxe41',\n",
       " 'high65',\n",
       " 'highm65',\n",
       " 'highf65',\n",
       " 'highc65',\n",
       " 'highcm65',\n",
       " 'highcf65',\n",
       " 'human65',\n",
       " 'humanm65',\n",
       " 'humanf65',\n",
       " 'hyr65',\n",
       " 'hyrm65',\n",
       " 'hyrf65',\n",
       " 'no65',\n",
       " 'nom65',\n",
       " 'nof65',\n",
       " 'pinstab1',\n",
       " 'pop65',\n",
       " 'worker65',\n",
       " 'pop1565',\n",
       " 'pop6565',\n",
       " 'sec65',\n",
       " 'secm65',\n",
       " 'secf65',\n",
       " 'secc65',\n",
       " 'seccm65',\n",
       " 'seccf65',\n",
       " 'syr65',\n",
       " 'syrm65',\n",
       " 'syrf65',\n",
       " 'teapri65',\n",
       " 'teasec65',\n",
       " 'ex1',\n",
       " 'im1',\n",
       " 'xr65',\n",
       " 'tot1']"
      ]
     },
     "execution_count": 2,
     "metadata": {},
     "output_type": "execute_result"
    }
   ],
   "source": [
    "# I downloaded the data that the author used\n",
    "growth_read = pyreadr.read_r(\"C:/Users/edfra/OneDrive/Documentos/GitHub/ECO224/Labs/data/GrowthData.RData\")\n",
    "\n",
    "# Extracting the data frame from rdata_read\n",
    "growth = growth_read[ 'GrowthData' ]\n",
    "list(growth)"
   ]
  },
  {
   "cell_type": "markdown",
   "metadata": {},
   "source": [
    "We determine the dimension of our data set."
   ]
  },
  {
   "cell_type": "code",
   "execution_count": 3,
   "metadata": {},
   "outputs": [
    {
     "data": {
      "text/plain": [
       "(90, 63)"
      ]
     },
     "execution_count": 3,
     "metadata": {},
     "output_type": "execute_result"
    }
   ],
   "source": [
    "growth.shape"
   ]
  },
  {
   "cell_type": "markdown",
   "metadata": {
    "papermill": {
     "duration": 0.025013,
     "end_time": "2021-01-20T08:46:45.109042",
     "exception": false,
     "start_time": "2021-01-20T08:46:45.084029",
     "status": "completed"
    },
    "tags": []
   },
   "source": [
    "The sample contains $90$ countries and $63$ controls. Thus $p \\approx 60$, $n=90$ and $p/n$ is not small. We expect the least squares method to provide a poor estimate of $\\beta_1$.  We expect the method based on partialling-out with Lasso to provide a high quality estimate of $\\beta_1$."
   ]
  },
  {
   "cell_type": "markdown",
   "metadata": {
    "papermill": {
     "duration": 0.024124,
     "end_time": "2021-01-20T08:46:45.157510",
     "exception": false,
     "start_time": "2021-01-20T08:46:45.133386",
     "status": "completed"
    },
    "tags": []
   },
   "source": [
    "To check this hypothesis, we analyze the relation between the output variable $Y$ and the other country's characteristics by running a linear regression in the first step."
   ]
  },
  {
   "cell_type": "code",
   "execution_count": 4,
   "metadata": {},
   "outputs": [],
   "source": [
    "import statsmodels.api as sm\n",
    "import statsmodels.formula.api as smf"
   ]
  },
  {
   "cell_type": "code",
   "execution_count": 5,
   "metadata": {},
   "outputs": [],
   "source": [
    "# We create the main variables\n",
    "y = growth['Outcome']\n",
    "X = growth.drop('Outcome', 1)"
   ]
  },
  {
   "cell_type": "code",
   "execution_count": 6,
   "metadata": {},
   "outputs": [
    {
     "name": "stdout",
     "output_type": "stream",
     "text": [
      "                            OLS Regression Results                            \n",
      "==============================================================================\n",
      "Dep. Variable:                Outcome   R-squared:                       0.887\n",
      "Model:                            OLS   Adj. R-squared:                  0.641\n",
      "Method:                 Least Squares   F-statistic:                     3.607\n",
      "Date:                Fri, 08 Oct 2021   Prob (F-statistic):           0.000200\n",
      "Time:                        13:13:40   Log-Likelihood:                 238.24\n",
      "No. Observations:                  90   AIC:                            -352.5\n",
      "Df Residuals:                      28   BIC:                            -197.5\n",
      "Df Model:                          61                                         \n",
      "Covariance Type:            nonrobust                                         \n",
      "==============================================================================\n",
      "                 coef    std err          t      P>|t|      [0.025      0.975]\n",
      "------------------------------------------------------------------------------\n",
      "intercept      0.2472      0.785      0.315      0.755      -1.360       1.854\n",
      "gdpsh465      -0.0094      0.030     -0.314      0.756      -0.071       0.052\n",
      "bmp1l         -0.0689      0.033     -2.117      0.043      -0.135      -0.002\n",
      "freeop         0.0801      0.208      0.385      0.703      -0.346       0.506\n",
      "freetar       -0.4890      0.418     -1.169      0.252      -1.346       0.368\n",
      "h65           -2.3621      0.857     -2.755      0.010      -4.118      -0.606\n",
      "hm65           0.7071      0.523      1.352      0.187      -0.364       1.779\n",
      "hf65           1.6934      0.503      3.365      0.002       0.663       2.724\n",
      "p65            0.2655      0.164      1.616      0.117      -0.071       0.602\n",
      "pm65           0.1370      0.151      0.906      0.373      -0.173       0.447\n",
      "pf65          -0.3313      0.165     -2.006      0.055      -0.670       0.007\n",
      "s65            0.0391      0.186      0.211      0.835      -0.341       0.419\n",
      "sm65          -0.0307      0.117     -0.263      0.795      -0.270       0.209\n",
      "sf65          -0.1799      0.118     -1.523      0.139      -0.422       0.062\n",
      "fert65         0.0069      0.027      0.254      0.801      -0.049       0.062\n",
      "mort65        -0.2335      0.817     -0.286      0.777      -1.908       1.441\n",
      "lifee065      -0.0149      0.193     -0.077      0.939      -0.411       0.381\n",
      "gpop1          0.9702      1.812      0.535      0.597      -2.742       4.682\n",
      "fert1          0.0088      0.035      0.252      0.803      -0.063       0.081\n",
      "mort1          0.0666      0.685      0.097      0.923      -1.336       1.469\n",
      "invsh41        0.0745      0.108      0.687      0.498      -0.148       0.297\n",
      "geetot1       -0.7151      1.680     -0.426      0.674      -4.157       2.726\n",
      "geerec1        0.6300      2.447      0.257      0.799      -4.383       5.643\n",
      "gde1          -0.4436      1.671     -0.265      0.793      -3.867       2.980\n",
      "govwb1         0.3375      0.438      0.770      0.447      -0.560       1.235\n",
      "govsh41        0.4632      1.925      0.241      0.812      -3.481       4.407\n",
      "gvxdxe41      -0.7934      2.059     -0.385      0.703      -5.012       3.425\n",
      "high65        -0.7525      0.906     -0.831      0.413      -2.608       1.103\n",
      "highm65       -0.3903      0.681     -0.573      0.571      -1.786       1.005\n",
      "highf65       -0.4177      0.561     -0.744      0.463      -1.568       0.732\n",
      "highc65       -2.2158      1.481     -1.496      0.146      -5.249       0.818\n",
      "highcm65       0.2797      0.658      0.425      0.674      -1.069       1.628\n",
      "highcf65       0.3921      0.766      0.512      0.613      -1.177       1.961\n",
      "human65        2.3373      3.307      0.707      0.486      -4.437       9.112\n",
      "humanm65      -1.2092      1.619     -0.747      0.461      -4.525       2.106\n",
      "humanf65      -1.1039      1.685     -0.655      0.518      -4.555       2.347\n",
      "hyr65         54.9139     23.887      2.299      0.029       5.983     103.845\n",
      "hyrm65        12.9350     23.171      0.558      0.581     -34.529      60.400\n",
      "hyrf65         9.0926     17.670      0.515      0.611     -27.102      45.287\n",
      "no65           0.0372      0.132      0.282      0.780      -0.233       0.308\n",
      "nom65         -0.0212      0.065     -0.326      0.747      -0.154       0.112\n",
      "nof65         -0.0169      0.067     -0.252      0.803      -0.154       0.120\n",
      "pinstab1      -0.0500      0.031     -1.616      0.117      -0.113       0.013\n",
      "pop65       1.032e-07   1.32e-07      0.783      0.440   -1.67e-07    3.73e-07\n",
      "worker65       0.0341      0.156      0.218      0.829      -0.286       0.354\n",
      "pop1565       -0.4655      0.471     -0.988      0.332      -1.431       0.500\n",
      "pop6565       -1.3575      0.635     -2.138      0.041      -2.658      -0.057\n",
      "sec65         -0.0109      0.308     -0.035      0.972      -0.641       0.619\n",
      "secm65         0.0033      0.151      0.022      0.983      -0.306       0.313\n",
      "secf65        -0.0023      0.158     -0.015      0.988      -0.326       0.321\n",
      "secc65        -0.4915      0.729     -0.674      0.506      -1.985       1.002\n",
      "seccm65        0.2596      0.356      0.730      0.471      -0.469       0.988\n",
      "seccf65        0.2207      0.373      0.591      0.559      -0.544       0.985\n",
      "syr65         -0.7556      7.977     -0.095      0.925     -17.095      15.584\n",
      "syrm65         0.3109      3.897      0.080      0.937      -7.671       8.293\n",
      "syrf65         0.7593      4.111      0.185      0.855      -7.661       9.180\n",
      "teapri65    3.955e-05      0.001      0.051      0.959      -0.002       0.002\n",
      "teasec65       0.0002      0.001      0.213      0.833      -0.002       0.003\n",
      "ex1           -0.5804      0.242     -2.400      0.023      -1.076      -0.085\n",
      "im1            0.5914      0.250      2.363      0.025       0.079       1.104\n",
      "xr65          -0.0001   5.42e-05     -1.916      0.066      -0.000    7.18e-06\n",
      "tot1          -0.1279      0.113     -1.136      0.266      -0.359       0.103\n",
      "==============================================================================\n",
      "Omnibus:                        0.439   Durbin-Watson:                   1.982\n",
      "Prob(Omnibus):                  0.803   Jarque-Bera (JB):                0.417\n",
      "Skew:                           0.158   Prob(JB):                        0.812\n",
      "Kurtosis:                       2.896   Cond. No.                     7.52e+08\n",
      "==============================================================================\n",
      "\n",
      "Notes:\n",
      "[1] Standard Errors assume that the covariance matrix of the errors is correctly specified.\n",
      "[2] The condition number is large, 7.52e+08. This might indicate that there are\n",
      "strong multicollinearity or other numerical problems.\n"
     ]
    }
   ],
   "source": [
    "# OLS regression\n",
    "reg_ols  = sm.OLS(y, X).fit()\n",
    "print(reg_ols.summary())"
   ]
  },
  {
   "cell_type": "code",
   "execution_count": 7,
   "metadata": {},
   "outputs": [],
   "source": [
    "# output: estimated regression coefficient corresponding to the target regressor\n",
    "est_ols = reg_ols.summary2().tables[1]['Coef.']['gdpsh465']\n",
    "\n",
    "# output: std. error\n",
    "std_ols = reg_ols.summary2().tables[1]['Std.Err.']['gdpsh465']\n",
    "\n",
    "# output: 95% confidence interval\n",
    "lower_ci = reg_ols.summary2().tables[1]['[0.025']['gdpsh465']\n",
    "upper_ci = reg_ols.summary2().tables[1]['0.975]']['gdpsh465']"
   ]
  },
  {
   "cell_type": "markdown",
   "metadata": {},
   "source": [
    "## Summarize OLS results"
   ]
  },
  {
   "cell_type": "code",
   "execution_count": 8,
   "metadata": {},
   "outputs": [
    {
     "data": {
      "text/plain": [
       "'<table border=\"1\" class=\"dataframe\">\\n  <thead>\\n    <tr style=\"text-align: right;\">\\n      <th></th>\\n      <th>Estimator</th>\\n      <th>Std. Error</th>\\n      <th>lower bound CI</th>\\n      <th>upper bound CI</th>\\n    </tr>\\n  </thead>\\n  <tbody>\\n    <tr>\\n      <th>OLS</th>\\n      <td>-0.009378</td>\\n      <td>0.029888</td>\\n      <td>-0.0706</td>\\n      <td>0.051844</td>\\n    </tr>\\n  </tbody>\\n</table>'"
      ]
     },
     "execution_count": 8,
     "metadata": {},
     "output_type": "execute_result"
    }
   ],
   "source": [
    "table_1 = np.zeros( (1, 4) )\n",
    "\n",
    "table_1[0,0] = est_ols  \n",
    "table_1[0,1] = std_ols   \n",
    "table_1[0,2] = lower_ci\n",
    "table_1[0,3] = upper_ci    \n",
    "\n",
    "\n",
    "table_1_pandas = pd.DataFrame( table_1, columns = [ \"Estimator\",\"Std. Error\", \"lower bound CI\", \"upper bound CI\"  ])\n",
    "table_1_pandas.index = [ \"OLS\" ]\n",
    "table_1_html = table_1_pandas.to_html()\n",
    "table_1_html"
   ]
  },
  {
   "cell_type": "markdown",
   "metadata": {},
   "source": [
    "<!-- html table generated in R 3.6.3 by xtable 1.8-4 package -->\n",
    "<!-- Tue Jan 19 10:23:32 2021 -->\n",
    "<table border=1>\n",
    "<tr> <th>  </th> <th> estimator </th> <th> standard error </th> <th> lower bound CI </th> <th> upper bound CI </th>  </tr>\n",
    "  <tr> <td align=\"right\"> OLS </td> <td align=\"right\"> -0.009 </td> <td align=\"right\"> 0.030 </td> <td align=\"right\"> -0.071 </td> <td align=\"right\"> 0.052 </td> </tr>\n",
    "   </table>"
   ]
  },
  {
   "cell_type": "markdown",
   "metadata": {},
   "source": [
    "Least squares provides a rather noisy estimate (high standard error) of the\n",
    "speed of convergence, and does not allow us to answer the question\n",
    "about the convergence hypothesis since the confidence interval includes zero."
   ]
  },
  {
   "cell_type": "code",
   "execution_count": 9,
   "metadata": {},
   "outputs": [],
   "source": [
    "# Create main variables\n",
    "Y = growth['Outcome']\n",
    "W = growth.drop(['Outcome','intercept', 'gdpsh465'], 1 )\n",
    "D = growth['gdpsh465']"
   ]
  },
  {
   "cell_type": "code",
   "execution_count": 10,
   "metadata": {},
   "outputs": [
    {
     "data": {
      "text/plain": [
       "(90, 60)"
      ]
     },
     "execution_count": 10,
     "metadata": {},
     "output_type": "execute_result"
    }
   ],
   "source": [
    "W.shape"
   ]
  },
  {
   "cell_type": "code",
   "execution_count": 11,
   "metadata": {},
   "outputs": [
    {
     "data": {
      "text/plain": [
       "(90,)"
      ]
     },
     "execution_count": 11,
     "metadata": {},
     "output_type": "execute_result"
    }
   ],
   "source": [
    "Y.shape"
   ]
  },
  {
   "cell_type": "code",
   "execution_count": 12,
   "metadata": {},
   "outputs": [
    {
     "data": {
      "text/plain": [
       "(90,)"
      ]
     },
     "execution_count": 12,
     "metadata": {},
     "output_type": "execute_result"
    }
   ],
   "source": [
    "D.shape"
   ]
  },
  {
   "cell_type": "markdown",
   "metadata": {},
   "source": [
    "## Double LASSO using cross Validation (Using Sklearn)"
   ]
  },
  {
   "cell_type": "markdown",
   "metadata": {},
   "source": [
    "Now, we are going to use sample splitting approach:"
   ]
  },
  {
   "cell_type": "code",
   "execution_count": 13,
   "metadata": {},
   "outputs": [
    {
     "data": {
      "text/plain": [
       "(63, 60)"
      ]
     },
     "execution_count": 13,
     "metadata": {},
     "output_type": "execute_result"
    }
   ],
   "source": [
    "from sklearn.model_selection import train_test_split\n",
    "D_train, D_test, Y_train, Y_test, W_train, W_test = train_test_split(D, Y, W, test_size = 0.30)\n",
    "W_train.shape"
   ]
  },
  {
   "cell_type": "code",
   "execution_count": 14,
   "metadata": {},
   "outputs": [
    {
     "data": {
      "text/plain": [
       "(63,)"
      ]
     },
     "execution_count": 14,
     "metadata": {},
     "output_type": "execute_result"
    }
   ],
   "source": [
    "D_train.shape"
   ]
  },
  {
   "cell_type": "code",
   "execution_count": 15,
   "metadata": {},
   "outputs": [
    {
     "data": {
      "text/plain": [
       "(63,)"
      ]
     },
     "execution_count": 15,
     "metadata": {},
     "output_type": "execute_result"
    }
   ],
   "source": [
    "Y_train.shape"
   ]
  },
  {
   "cell_type": "code",
   "execution_count": 16,
   "metadata": {},
   "outputs": [],
   "source": [
    "#rom sklearn import model_selection\n",
    "#from sklearn.model_selection import cross_val_score\n",
    "\n",
    "#kfold = model_selection.KFold(n_splits=10)\n",
    "#lr = LogisticRegression()\n",
    "#scoring = 'accuracy'\n",
    "#results = model_selection.cross_val_score(lr, X_train, y_train, cv=kfold, scoring=scoring)\n",
    "#print(\"10-fold cross validation average accuracy: %.3f\" % (results.mean()))\n",
    "#results"
   ]
  },
  {
   "cell_type": "markdown",
   "metadata": {},
   "source": [
    "#### First of all, let's use the $ \\alpha $ = 0.00077 because it is the value that get answers pretty similar in comparison with R"
   ]
  },
  {
   "cell_type": "code",
   "execution_count": 17,
   "metadata": {},
   "outputs": [
    {
     "name": "stderr",
     "output_type": "stream",
     "text": [
      "C:\\Users\\edfra\\anaconda3\\lib\\site-packages\\sklearn\\linear_model\\_coordinate_descent.py:530: ConvergenceWarning: Objective did not converge. You might want to increase the number of iterations. Duality gap: 0.020233881385821207, tolerance: 1.7378308849653384e-05\n",
      "  model = cd_fast.enet_coordinate_descent(\n",
      "C:\\Users\\edfra\\anaconda3\\lib\\site-packages\\sklearn\\linear_model\\_coordinate_descent.py:530: ConvergenceWarning: Objective did not converge. You might want to increase the number of iterations. Duality gap: 1.831628631674787, tolerance: 0.005197957054585986\n",
      "  model = cd_fast.enet_coordinate_descent(\n"
     ]
    }
   ],
   "source": [
    "from sklearn import linear_model\n",
    "\n",
    "# Seat values for Lasso\n",
    "lasso_model = linear_model.Lasso( alpha = 0.00077 )\n",
    "r_Y = Y_train - lasso_model.fit(W_train,Y_train).predict(W_train)\n",
    "r_Y = r_Y.rename('r_Y')\n",
    "\n",
    "# Part. out d\n",
    "r_D = D_train - lasso_model.fit(W_train,D_train).predict(W_train)\n",
    "r_D = r_D.rename('r_D')\n",
    "\n",
    "# ols \n",
    "partial_lasso_fit = sm.OLS(r_Y, r_D).fit()\n",
    "\n",
    "est_lasso = partial_lasso_fit.summary2().tables[1]['Coef.']['r_D']\n",
    "std_lasso = partial_lasso_fit.summary2().tables[1]['Std.Err.']['r_D']\n",
    "lower_ci_lasso = partial_lasso_fit.summary2().tables[1]['[0.025']['r_D']\n",
    "upper_ci_lasso = partial_lasso_fit.summary2().tables[1]['0.975]']['r_D']"
   ]
  },
  {
   "cell_type": "code",
   "execution_count": 18,
   "metadata": {},
   "outputs": [],
   "source": [
    "# from sklearn import linear_model\n",
    "\n",
    "# # Seat values for Lasso\n",
    "# lasso_model = linear_model.Lasso( alpha = 0.00077 )\n",
    "# r_Y = Y - lasso_model.fit( W, Y ).predict( W )\n",
    "# r_Y = r_Y.rename('r_Y')\n",
    "\n",
    "# # Part. out d\n",
    "# r_D = D - lasso_model.fit( W, D ).predict( W )\n",
    "# r_D = r_D.rename('r_D')\n",
    "\n",
    "# # Regress residuales\n",
    "# partial_lasso_fit = sm.OLS(r_Y, r_D).fit()\n",
    "\n",
    "# # output: estimated regression coefficient corresponding to the target regressor\n",
    "# est_lasso = partial_lasso_fit.summary2().tables[1]['Coef.']['r_D']\n",
    "\n",
    "# # output: std. error\n",
    "# std_lasso = partial_lasso_fit.summary2().tables[1]['Std.Err.']['r_D']\n",
    "\n",
    "# # output: 95% confidence interval\n",
    "# lower_ci_lasso = partial_lasso_fit.summary2().tables[1]['[0.025']['r_D']\n",
    "# upper_ci_lasso = partial_lasso_fit.summary2().tables[1]['0.975]']['r_D']"
   ]
  },
  {
   "cell_type": "code",
   "execution_count": 19,
   "metadata": {},
   "outputs": [
    {
     "name": "stdout",
     "output_type": "stream",
     "text": [
      "Coefficient for D via sample splitting using lasso -0.03554293383696565\n"
     ]
    }
   ],
   "source": [
    "# Regress residuales\n",
    "partial_lasso_fit = sm.OLS(r_Y, r_D).fit()\n",
    "partial_lasso_est = partial_lasso_fit.summary2().tables[1]['Coef.']['r_D']\n",
    "\n",
    "print( f\"Coefficient for D via sample splitting using lasso {partial_lasso_est}\" )"
   ]
  },
  {
   "cell_type": "code",
   "execution_count": 20,
   "metadata": {},
   "outputs": [],
   "source": [
    "# output: estimated regression coefficient corresponding to the target regressor\n",
    "est_lasso_train = partial_lasso_fit.summary2().tables[1]['Coef.']['r_D']\n",
    "\n",
    "# output: std. error\n",
    "std_lasso_train = partial_lasso_fit.summary2().tables[1]['Std.Err.']['r_D']\n",
    "\n",
    "# output: 95% confidence interval\n",
    "lower_ci_lasso_train = partial_lasso_fit.summary2().tables[1]['[0.025']['r_D']\n",
    "upper_ci_lasso_train = partial_lasso_fit.summary2().tables[1]['0.975]']['r_D']"
   ]
  },
  {
   "cell_type": "code",
   "execution_count": 21,
   "metadata": {},
   "outputs": [],
   "source": [
    "r_Y = pd.DataFrame(r_Y)\n",
    "r_D = pd.DataFrame(r_D)"
   ]
  },
  {
   "cell_type": "code",
   "execution_count": 22,
   "metadata": {},
   "outputs": [],
   "source": [
    "from sklearn.linear_model import LinearRegression\n",
    "model = LinearRegression()\n",
    "mymodel = model.fit(r_Y, r_D)"
   ]
  },
  {
   "cell_type": "code",
   "execution_count": 23,
   "metadata": {},
   "outputs": [
    {
     "name": "stderr",
     "output_type": "stream",
     "text": [
      "C:\\Users\\edfra\\anaconda3\\lib\\site-packages\\sklearn\\utils\\validation.py:70: FutureWarning: Pass groups=1     0.100473\n",
      "82    0.052759\n",
      "8     0.033551\n",
      "41    0.016775\n",
      "7     0.020978\n",
      "        ...   \n",
      "29    0.076233\n",
      "71    0.065491\n",
      "65    0.066598\n",
      "3     0.064089\n",
      "54   -0.015680\n",
      "Name: Outcome, Length: 63, dtype: float64 as keyword args. From version 1.0 (renaming of 0.25) passing these as positional arguments will result in an error\n",
      "  warnings.warn(f\"Pass {args_msg} as keyword args. From version \"\n"
     ]
    },
    {
     "data": {
      "text/plain": [
       "array([-0.2431131 ,  0.34573183, -1.4292078 , -0.41308104, -1.0991819 ])"
      ]
     },
     "execution_count": 23,
     "metadata": {},
     "output_type": "execute_result"
    }
   ],
   "source": [
    "# K - fold CV\n",
    "# Importing cross_val score function\n",
    "\n",
    "from sklearn.model_selection import cross_val_score\n",
    "\n",
    "# 5-fold CV\n",
    "scores = cross_val_score(mymodel, W_train, D_train ,Y_train)\n",
    "scores"
   ]
  },
  {
   "cell_type": "code",
   "execution_count": 24,
   "metadata": {},
   "outputs": [
    {
     "name": "stderr",
     "output_type": "stream",
     "text": [
      "C:\\Users\\edfra\\anaconda3\\lib\\site-packages\\sklearn\\linear_model\\_coordinate_descent.py:530: ConvergenceWarning: Objective did not converge. You might want to increase the number of iterations. Duality gap: 2.9993757186923264e-05, tolerance: 6.050252656825445e-06\n",
      "  model = cd_fast.enet_coordinate_descent(\n",
      "C:\\Users\\edfra\\anaconda3\\lib\\site-packages\\sklearn\\linear_model\\_coordinate_descent.py:530: ConvergenceWarning: Objective did not converge. You might want to increase the number of iterations. Duality gap: 0.34891651606769614, tolerance: 0.0019497693778818168\n",
      "  model = cd_fast.enet_coordinate_descent(\n"
     ]
    }
   ],
   "source": [
    "from sklearn import linear_model\n",
    "\n",
    "# Seat values for Lasso\n",
    "lasso_model = linear_model.Lasso( alpha = 0.00077 )\n",
    "r_Y = Y_test - lasso_model.fit(W_test,Y_test ).predict(W_test)\n",
    "r_Y = r_Y.rename('r_Y')\n",
    "\n",
    "# Part. out d\n",
    "r_D = D_test - lasso_model.fit(W_test,D_test).predict(W_test)\n",
    "r_D = r_D.rename('r_D')\n",
    "\n",
    "# ols \n",
    "partial_lasso_fit = sm.OLS(r_Y, r_D).fit()\n",
    "\n",
    "est_lasso = partial_lasso_fit.summary2().tables[1]['Coef.']['r_D']\n",
    "std_lasso = partial_lasso_fit.summary2().tables[1]['Std.Err.']['r_D']\n",
    "lower_ci_lasso = partial_lasso_fit.summary2().tables[1]['[0.025']['r_D']\n",
    "upper_ci_lasso = partial_lasso_fit.summary2().tables[1]['0.975]']['r_D']"
   ]
  },
  {
   "cell_type": "code",
   "execution_count": 25,
   "metadata": {},
   "outputs": [],
   "source": [
    "r_Y = pd.DataFrame(r_Y)\n",
    "r_D = pd.DataFrame(r_D)"
   ]
  },
  {
   "cell_type": "code",
   "execution_count": 26,
   "metadata": {},
   "outputs": [],
   "source": [
    "from sklearn.linear_model import LinearRegression\n",
    "model = LinearRegression()\n",
    "mymodel = model.fit(r_Y, r_D)"
   ]
  },
  {
   "cell_type": "code",
   "execution_count": 27,
   "metadata": {},
   "outputs": [
    {
     "name": "stderr",
     "output_type": "stream",
     "text": [
      "C:\\Users\\edfra\\anaconda3\\lib\\site-packages\\sklearn\\utils\\validation.py:70: FutureWarning: Pass groups=80    0.038095\n",
      "23    0.109699\n",
      "43    0.066629\n",
      "32    0.116990\n",
      "89    0.040642\n",
      "86    0.034096\n",
      "4     0.027930\n",
      "69    0.094618\n",
      "21    0.133982\n",
      "17    0.029738\n",
      "13    0.078293\n",
      "45   -0.003020\n",
      "5     0.046407\n",
      "14    0.112912\n",
      "68    0.054751\n",
      "16    0.036391\n",
      "72    0.021247\n",
      "60   -0.034045\n",
      "25    0.062250\n",
      "18   -0.056644\n",
      "37    0.094851\n",
      "36    0.065838\n",
      "24    0.015990\n",
      "57    0.014256\n",
      "2     0.067051\n",
      "40    0.039024\n",
      "48   -0.048712\n",
      "Name: Outcome, dtype: float64 as keyword args. From version 1.0 (renaming of 0.25) passing these as positional arguments will result in an error\n",
      "  warnings.warn(f\"Pass {args_msg} as keyword args. From version \"\n"
     ]
    },
    {
     "data": {
      "text/plain": [
       "array([ -0.64482456, -64.5561906 ,  -2.40662103,  -3.57287847,\n",
       "        -3.42781672])"
      ]
     },
     "execution_count": 27,
     "metadata": {},
     "output_type": "execute_result"
    }
   ],
   "source": [
    "# K - fold CV\n",
    "# Importing cross_val score function\n",
    "\n",
    "from sklearn.model_selection import cross_val_score\n",
    "\n",
    "# 5-fold CV\n",
    "pred = cross_val_score(mymodel, W_test, D_test,Y_test)\n",
    "pred"
   ]
  },
  {
   "cell_type": "code",
   "execution_count": 28,
   "metadata": {},
   "outputs": [
    {
     "name": "stdout",
     "output_type": "stream",
     "text": [
      "Coefficient for D via sample splitting using lasso -0.0912734927128476\n"
     ]
    }
   ],
   "source": [
    "# Regress residuales\n",
    "partial_lasso_fit = sm.OLS(r_Y, r_D).fit()\n",
    "partial_lasso_est = partial_lasso_fit.summary2().tables[1]['Coef.']['r_D']\n",
    "\n",
    "print( f\"Coefficient for D via sample splitting using lasso {partial_lasso_est}\" )"
   ]
  },
  {
   "cell_type": "code",
   "execution_count": 29,
   "metadata": {},
   "outputs": [],
   "source": [
    "# output: estimated regression coefficient corresponding to the target regressor\n",
    "est_lasso_test = partial_lasso_fit.summary2().tables[1]['Coef.']['r_D']\n",
    "\n",
    "# output: std. error\n",
    "std_lasso_test = partial_lasso_fit.summary2().tables[1]['Std.Err.']['r_D']\n",
    "\n",
    "# output: 95% confidence interval\n",
    "lower_ci_lasso_test = partial_lasso_fit.summary2().tables[1]['[0.025']['r_D']\n",
    "upper_ci_lasso_test = partial_lasso_fit.summary2().tables[1]['0.975]']['r_D']"
   ]
  },
  {
   "cell_type": "markdown",
   "metadata": {},
   "source": [
    "#### Secondly, let's use the $ \\alpha $ = 0.1  in order to know how $\\beta$ changes in comparison when we use $ \\alpha $ = 0.00077"
   ]
  },
  {
   "cell_type": "code",
   "execution_count": 30,
   "metadata": {},
   "outputs": [],
   "source": [
    "from sklearn import linear_model\n",
    "\n",
    "# Seat values for Lasso\n",
    "lasso_model = linear_model.Lasso( alpha = 0.1 )\n",
    "r_Y = Y_train - lasso_model.fit(W_train,Y_train).predict(W_train)\n",
    "r_Y = r_Y.rename('r_Y')\n",
    "\n",
    "# Part. out d\n",
    "r_D = D_train - lasso_model.fit(W_train,D_train).predict(W_train)\n",
    "r_D = r_D.rename('r_D')\n",
    "\n",
    "# ols \n",
    "partial_lasso_fit = sm.OLS(r_Y, r_D).fit()\n",
    "\n",
    "est_lasso = partial_lasso_fit.summary2().tables[1]['Coef.']['r_D']\n",
    "std_lasso = partial_lasso_fit.summary2().tables[1]['Std.Err.']['r_D']\n",
    "lower_ci_lasso = partial_lasso_fit.summary2().tables[1]['[0.025']['r_D']\n",
    "upper_ci_lasso = partial_lasso_fit.summary2().tables[1]['0.975]']['r_D']"
   ]
  },
  {
   "cell_type": "code",
   "execution_count": 31,
   "metadata": {},
   "outputs": [
    {
     "name": "stdout",
     "output_type": "stream",
     "text": [
      "Coefficient for D via sample splitting using lasso 0.013689315929058702\n"
     ]
    }
   ],
   "source": [
    "# Regress residuales\n",
    "partial_lasso_fit = sm.OLS(r_Y, r_D).fit()\n",
    "partial_lasso_est = partial_lasso_fit.summary2().tables[1]['Coef.']['r_D']\n",
    "\n",
    "print( f\"Coefficient for D via sample splitting using lasso {partial_lasso_est}\" )"
   ]
  },
  {
   "cell_type": "code",
   "execution_count": 32,
   "metadata": {},
   "outputs": [],
   "source": [
    "# output: estimated regression coefficient corresponding to the target regressor\n",
    "est_lasso_train_1 = partial_lasso_fit.summary2().tables[1]['Coef.']['r_D']\n",
    "\n",
    "# output: std. error\n",
    "std_lasso_train_1 = partial_lasso_fit.summary2().tables[1]['Std.Err.']['r_D']\n",
    "\n",
    "# output: 95% confidence interval\n",
    "lower_ci_lasso_train_1 = partial_lasso_fit.summary2().tables[1]['[0.025']['r_D']\n",
    "upper_ci_lasso_train_1 = partial_lasso_fit.summary2().tables[1]['0.975]']['r_D']"
   ]
  },
  {
   "cell_type": "code",
   "execution_count": 33,
   "metadata": {},
   "outputs": [],
   "source": [
    "r_Y = pd.DataFrame(r_Y)\n",
    "r_D = pd.DataFrame(r_D)"
   ]
  },
  {
   "cell_type": "code",
   "execution_count": 34,
   "metadata": {},
   "outputs": [],
   "source": [
    "from sklearn.linear_model import LinearRegression\n",
    "model = LinearRegression()\n",
    "mymodel = model.fit(r_Y, r_D)"
   ]
  },
  {
   "cell_type": "code",
   "execution_count": 35,
   "metadata": {},
   "outputs": [
    {
     "name": "stderr",
     "output_type": "stream",
     "text": [
      "C:\\Users\\edfra\\anaconda3\\lib\\site-packages\\sklearn\\utils\\validation.py:70: FutureWarning: Pass groups=1     0.100473\n",
      "82    0.052759\n",
      "8     0.033551\n",
      "41    0.016775\n",
      "7     0.020978\n",
      "        ...   \n",
      "29    0.076233\n",
      "71    0.065491\n",
      "65    0.066598\n",
      "3     0.064089\n",
      "54   -0.015680\n",
      "Name: Outcome, Length: 63, dtype: float64 as keyword args. From version 1.0 (renaming of 0.25) passing these as positional arguments will result in an error\n",
      "  warnings.warn(f\"Pass {args_msg} as keyword args. From version \"\n"
     ]
    },
    {
     "data": {
      "text/plain": [
       "array([-0.2431131 ,  0.34573183, -1.4292078 , -0.41308104, -1.0991819 ])"
      ]
     },
     "execution_count": 35,
     "metadata": {},
     "output_type": "execute_result"
    }
   ],
   "source": [
    "# K - fold CV\n",
    "# Importing cross_val score function\n",
    "\n",
    "from sklearn.model_selection import cross_val_score\n",
    "\n",
    "# 5-fold CV\n",
    "scores = cross_val_score(mymodel, W_train, D_train ,Y_train)\n",
    "scores"
   ]
  },
  {
   "cell_type": "code",
   "execution_count": 36,
   "metadata": {},
   "outputs": [],
   "source": [
    "from sklearn import linear_model\n",
    "\n",
    "# Seat values for Lasso\n",
    "lasso_model = linear_model.Lasso( alpha = 0.1 )\n",
    "r_Y = Y_test - lasso_model.fit(W_test,Y_test ).predict(W_test)\n",
    "r_Y = r_Y.rename('r_Y')\n",
    "\n",
    "# Part. out d\n",
    "r_D = D_test - lasso_model.fit(W_test,D_test).predict(W_test)\n",
    "r_D = r_D.rename('r_D')\n",
    "\n",
    "# ols \n",
    "partial_lasso_fit = sm.OLS(r_Y, r_D).fit()\n",
    "\n",
    "est_lasso = partial_lasso_fit.summary2().tables[1]['Coef.']['r_D']\n",
    "std_lasso = partial_lasso_fit.summary2().tables[1]['Std.Err.']['r_D']\n",
    "lower_ci_lasso = partial_lasso_fit.summary2().tables[1]['[0.025']['r_D']\n",
    "upper_ci_lasso = partial_lasso_fit.summary2().tables[1]['0.975]']['r_D']"
   ]
  },
  {
   "cell_type": "code",
   "execution_count": 37,
   "metadata": {},
   "outputs": [],
   "source": [
    "r_Y = pd.DataFrame(r_Y)\n",
    "r_D = pd.DataFrame(r_D)"
   ]
  },
  {
   "cell_type": "code",
   "execution_count": 38,
   "metadata": {},
   "outputs": [],
   "source": [
    "from sklearn.linear_model import LinearRegression\n",
    "model = LinearRegression()\n",
    "mymodel = model.fit(r_Y, r_D)"
   ]
  },
  {
   "cell_type": "code",
   "execution_count": 39,
   "metadata": {},
   "outputs": [
    {
     "name": "stderr",
     "output_type": "stream",
     "text": [
      "C:\\Users\\edfra\\anaconda3\\lib\\site-packages\\sklearn\\utils\\validation.py:70: FutureWarning: Pass groups=80    0.038095\n",
      "23    0.109699\n",
      "43    0.066629\n",
      "32    0.116990\n",
      "89    0.040642\n",
      "86    0.034096\n",
      "4     0.027930\n",
      "69    0.094618\n",
      "21    0.133982\n",
      "17    0.029738\n",
      "13    0.078293\n",
      "45   -0.003020\n",
      "5     0.046407\n",
      "14    0.112912\n",
      "68    0.054751\n",
      "16    0.036391\n",
      "72    0.021247\n",
      "60   -0.034045\n",
      "25    0.062250\n",
      "18   -0.056644\n",
      "37    0.094851\n",
      "36    0.065838\n",
      "24    0.015990\n",
      "57    0.014256\n",
      "2     0.067051\n",
      "40    0.039024\n",
      "48   -0.048712\n",
      "Name: Outcome, dtype: float64 as keyword args. From version 1.0 (renaming of 0.25) passing these as positional arguments will result in an error\n",
      "  warnings.warn(f\"Pass {args_msg} as keyword args. From version \"\n"
     ]
    },
    {
     "data": {
      "text/plain": [
       "array([ -0.64482456, -64.5561906 ,  -2.40662103,  -3.57287847,\n",
       "        -3.42781672])"
      ]
     },
     "execution_count": 39,
     "metadata": {},
     "output_type": "execute_result"
    }
   ],
   "source": [
    "# K - fold CV\n",
    "# Importing cross_val score function\n",
    "\n",
    "from sklearn.model_selection import cross_val_score\n",
    "\n",
    "# 5-fold CV\n",
    "pred = cross_val_score(mymodel, W_test, D_test,Y_test)\n",
    "pred"
   ]
  },
  {
   "cell_type": "code",
   "execution_count": 40,
   "metadata": {},
   "outputs": [
    {
     "name": "stdout",
     "output_type": "stream",
     "text": [
      "Coefficient for D via sample splitting using lasso -0.04095076538232917\n"
     ]
    }
   ],
   "source": [
    "# Regress residuales\n",
    "partial_lasso_fit = sm.OLS(r_Y, r_D).fit()\n",
    "partial_lasso_est = partial_lasso_fit.summary2().tables[1]['Coef.']['r_D']\n",
    "\n",
    "print( f\"Coefficient for D via sample splitting using lasso {partial_lasso_est}\" )"
   ]
  },
  {
   "cell_type": "code",
   "execution_count": 41,
   "metadata": {},
   "outputs": [],
   "source": [
    "# output: estimated regression coefficient corresponding to the target regressor\n",
    "est_lasso_test_1 = partial_lasso_fit.summary2().tables[1]['Coef.']['r_D']\n",
    "\n",
    "# output: std. error\n",
    "std_lasso_test_1 = partial_lasso_fit.summary2().tables[1]['Std.Err.']['r_D']\n",
    "\n",
    "# output: 95% confidence interval\n",
    "lower_ci_lasso_test_1 = partial_lasso_fit.summary2().tables[1]['[0.025']['r_D']\n",
    "upper_ci_lasso_test_1 = partial_lasso_fit.summary2().tables[1]['0.975]']['r_D']"
   ]
  },
  {
   "cell_type": "markdown",
   "metadata": {},
   "source": [
    "#### Thridly, let's use the $ \\alpha $ = 0.8 in order to know how $\\beta$ changes in comparison when we use $ \\alpha $ =0.00077 and the other $ \\alpha $ = 0.1"
   ]
  },
  {
   "cell_type": "code",
   "execution_count": 42,
   "metadata": {},
   "outputs": [
    {
     "name": "stderr",
     "output_type": "stream",
     "text": [
      "C:\\Users\\edfra\\anaconda3\\lib\\site-packages\\sklearn\\linear_model\\_coordinate_descent.py:530: ConvergenceWarning: Objective did not converge. You might want to increase the number of iterations. Duality gap: 0.020233881385821207, tolerance: 1.7378308849653384e-05\n",
      "  model = cd_fast.enet_coordinate_descent(\n",
      "C:\\Users\\edfra\\anaconda3\\lib\\site-packages\\sklearn\\linear_model\\_coordinate_descent.py:530: ConvergenceWarning: Objective did not converge. You might want to increase the number of iterations. Duality gap: 1.831628631674787, tolerance: 0.005197957054585986\n",
      "  model = cd_fast.enet_coordinate_descent(\n"
     ]
    }
   ],
   "source": [
    "from sklearn import linear_model\n",
    "\n",
    "# Seat values for Lasso\n",
    "lasso_model = linear_model.Lasso( alpha = 0.00077 )\n",
    "r_Y = Y_train - lasso_model.fit(W_train,Y_train).predict(W_train)\n",
    "r_Y = r_Y.rename('r_Y')\n",
    "\n",
    "# Part. out d\n",
    "r_D = D_train - lasso_model.fit(W_train,D_train).predict(W_train)\n",
    "r_D = r_D.rename('r_D')\n",
    "\n",
    "# ols \n",
    "partial_lasso_fit = sm.OLS(r_Y, r_D).fit()\n",
    "\n",
    "est_lasso = partial_lasso_fit.summary2().tables[1]['Coef.']['r_D']\n",
    "std_lasso = partial_lasso_fit.summary2().tables[1]['Std.Err.']['r_D']\n",
    "lower_ci_lasso = partial_lasso_fit.summary2().tables[1]['[0.025']['r_D']\n",
    "upper_ci_lasso = partial_lasso_fit.summary2().tables[1]['0.975]']['r_D']"
   ]
  },
  {
   "cell_type": "code",
   "execution_count": 43,
   "metadata": {},
   "outputs": [
    {
     "name": "stdout",
     "output_type": "stream",
     "text": [
      "Coefficient for D via sample splitting using lasso -0.03554293383696565\n"
     ]
    }
   ],
   "source": [
    "# Regress residuales\n",
    "partial_lasso_fit = sm.OLS(r_Y, r_D).fit()\n",
    "partial_lasso_est = partial_lasso_fit.summary2().tables[1]['Coef.']['r_D']\n",
    "\n",
    "print( f\"Coefficient for D via sample splitting using lasso {partial_lasso_est}\" )"
   ]
  },
  {
   "cell_type": "code",
   "execution_count": 44,
   "metadata": {},
   "outputs": [],
   "source": [
    "# output: estimated regression coefficient corresponding to the target regressor\n",
    "est_lasso_train_2 = partial_lasso_fit.summary2().tables[1]['Coef.']['r_D']\n",
    "\n",
    "# output: std. error\n",
    "std_lasso_train_2 = partial_lasso_fit.summary2().tables[1]['Std.Err.']['r_D']\n",
    "\n",
    "# output: 95% confidence interval\n",
    "lower_ci_lasso_train_2 = partial_lasso_fit.summary2().tables[1]['[0.025']['r_D']\n",
    "upper_ci_lasso_train_2 = partial_lasso_fit.summary2().tables[1]['0.975]']['r_D']"
   ]
  },
  {
   "cell_type": "code",
   "execution_count": 45,
   "metadata": {},
   "outputs": [],
   "source": [
    "r_Y = pd.DataFrame(r_Y)\n",
    "r_D = pd.DataFrame(r_D)"
   ]
  },
  {
   "cell_type": "code",
   "execution_count": 46,
   "metadata": {},
   "outputs": [],
   "source": [
    "from sklearn.linear_model import LinearRegression\n",
    "model = LinearRegression()\n",
    "mymodel = model.fit(r_Y, r_D)"
   ]
  },
  {
   "cell_type": "code",
   "execution_count": 47,
   "metadata": {},
   "outputs": [
    {
     "name": "stderr",
     "output_type": "stream",
     "text": [
      "C:\\Users\\edfra\\anaconda3\\lib\\site-packages\\sklearn\\utils\\validation.py:70: FutureWarning: Pass groups=80    0.038095\n",
      "23    0.109699\n",
      "43    0.066629\n",
      "32    0.116990\n",
      "89    0.040642\n",
      "86    0.034096\n",
      "4     0.027930\n",
      "69    0.094618\n",
      "21    0.133982\n",
      "17    0.029738\n",
      "13    0.078293\n",
      "45   -0.003020\n",
      "5     0.046407\n",
      "14    0.112912\n",
      "68    0.054751\n",
      "16    0.036391\n",
      "72    0.021247\n",
      "60   -0.034045\n",
      "25    0.062250\n",
      "18   -0.056644\n",
      "37    0.094851\n",
      "36    0.065838\n",
      "24    0.015990\n",
      "57    0.014256\n",
      "2     0.067051\n",
      "40    0.039024\n",
      "48   -0.048712\n",
      "Name: Outcome, dtype: float64 as keyword args. From version 1.0 (renaming of 0.25) passing these as positional arguments will result in an error\n",
      "  warnings.warn(f\"Pass {args_msg} as keyword args. From version \"\n"
     ]
    },
    {
     "data": {
      "text/plain": [
       "array([ -0.64482456, -64.5561906 ,  -2.40662103,  -3.57287847,\n",
       "        -3.42781672])"
      ]
     },
     "execution_count": 47,
     "metadata": {},
     "output_type": "execute_result"
    }
   ],
   "source": [
    "# K - fold CV\n",
    "# Importing cross_val score function\n",
    "\n",
    "from sklearn.model_selection import cross_val_score\n",
    "\n",
    "# 5-fold CV\n",
    "pred = cross_val_score(mymodel, W_test, D_test,Y_test)\n",
    "pred"
   ]
  },
  {
   "cell_type": "code",
   "execution_count": 48,
   "metadata": {},
   "outputs": [
    {
     "name": "stdout",
     "output_type": "stream",
     "text": [
      "Coefficient for D via sample splitting using lasso -0.03554293383696565\n"
     ]
    }
   ],
   "source": [
    "# Regress residuales\n",
    "partial_lasso_fit = sm.OLS(r_Y, r_D).fit()\n",
    "partial_lasso_est = partial_lasso_fit.summary2().tables[1]['Coef.']['r_D']\n",
    "\n",
    "print( f\"Coefficient for D via sample splitting using lasso {partial_lasso_est}\" )"
   ]
  },
  {
   "cell_type": "code",
   "execution_count": 49,
   "metadata": {},
   "outputs": [],
   "source": [
    "# output: estimated regression coefficient corresponding to the target regressor\n",
    "est_lasso_test_2 = partial_lasso_fit.summary2().tables[1]['Coef.']['r_D']\n",
    "\n",
    "# output: std. error\n",
    "std_lasso_test_2 = partial_lasso_fit.summary2().tables[1]['Std.Err.']['r_D']\n",
    "\n",
    "# output: 95% confidence interval\n",
    "lower_ci_lasso_test_2 = partial_lasso_fit.summary2().tables[1]['[0.025']['r_D']\n",
    "upper_ci_lasso_test_2 = partial_lasso_fit.summary2().tables[1]['0.975]']['r_D']"
   ]
  },
  {
   "cell_type": "markdown",
   "metadata": {},
   "source": [
    "## Summary LASSO results\n"
   ]
  },
  {
   "cell_type": "markdown",
   "metadata": {},
   "source": [
    "Finally, let us have a look at the results."
   ]
  },
  {
   "cell_type": "code",
   "execution_count": 50,
   "metadata": {},
   "outputs": [
    {
     "data": {
      "text/html": [
       "<div>\n",
       "<style scoped>\n",
       "    .dataframe tbody tr th:only-of-type {\n",
       "        vertical-align: middle;\n",
       "    }\n",
       "\n",
       "    .dataframe tbody tr th {\n",
       "        vertical-align: top;\n",
       "    }\n",
       "\n",
       "    .dataframe thead th {\n",
       "        text-align: right;\n",
       "    }\n",
       "</style>\n",
       "<table border=\"1\" class=\"dataframe\">\n",
       "  <thead>\n",
       "    <tr style=\"text-align: right;\">\n",
       "      <th></th>\n",
       "      <th>Estimator</th>\n",
       "      <th>Std. Error</th>\n",
       "      <th>lower bound CI</th>\n",
       "      <th>upper bound CI</th>\n",
       "    </tr>\n",
       "  </thead>\n",
       "  <tbody>\n",
       "    <tr>\n",
       "      <th>LASSO TRAIN (alpha=0.00077)</th>\n",
       "      <td>-0.035543</td>\n",
       "      <td>0.022953</td>\n",
       "      <td>-0.081426</td>\n",
       "      <td>0.01034</td>\n",
       "    </tr>\n",
       "  </tbody>\n",
       "</table>\n",
       "</div>"
      ],
      "text/plain": [
       "                             Estimator  Std. Error  lower bound CI  \\\n",
       "LASSO TRAIN (alpha=0.00077)  -0.035543    0.022953       -0.081426   \n",
       "\n",
       "                             upper bound CI  \n",
       "LASSO TRAIN (alpha=0.00077)         0.01034  "
      ]
     },
     "execution_count": 50,
     "metadata": {},
     "output_type": "execute_result"
    }
   ],
   "source": [
    "table_2 = np.zeros( (1, 4) )\n",
    "\n",
    "table_2[0,0] = est_lasso_train\n",
    "table_2[0,1] = std_lasso_train\n",
    "table_2[0,2] = lower_ci_lasso_train\n",
    "table_2[0,3] = upper_ci_lasso_train\n",
    "\n",
    "\n",
    "table_2_pandas = pd.DataFrame( table_2, columns = [ \"Estimator\",\"Std. Error\", \"lower bound CI\", \"upper bound CI\"  ])\n",
    "table_2_pandas.index = [ \"LASSO TRAIN (alpha=0.00077)\" ]\n",
    "table_2_pandas"
   ]
  },
  {
   "cell_type": "code",
   "execution_count": 51,
   "metadata": {},
   "outputs": [
    {
     "data": {
      "text/html": [
       "<div>\n",
       "<style scoped>\n",
       "    .dataframe tbody tr th:only-of-type {\n",
       "        vertical-align: middle;\n",
       "    }\n",
       "\n",
       "    .dataframe tbody tr th {\n",
       "        vertical-align: top;\n",
       "    }\n",
       "\n",
       "    .dataframe thead th {\n",
       "        text-align: right;\n",
       "    }\n",
       "</style>\n",
       "<table border=\"1\" class=\"dataframe\">\n",
       "  <thead>\n",
       "    <tr style=\"text-align: right;\">\n",
       "      <th></th>\n",
       "      <th>Estimator</th>\n",
       "      <th>Std. Error</th>\n",
       "      <th>lower bound CI</th>\n",
       "      <th>upper bound CI</th>\n",
       "    </tr>\n",
       "  </thead>\n",
       "  <tbody>\n",
       "    <tr>\n",
       "      <th>OLS</th>\n",
       "      <td>-0.009378</td>\n",
       "      <td>0.029888</td>\n",
       "      <td>-0.070600</td>\n",
       "      <td>0.051844</td>\n",
       "    </tr>\n",
       "    <tr>\n",
       "      <th>LASSO TRAIN (alpha=0.00077)</th>\n",
       "      <td>-0.035543</td>\n",
       "      <td>0.022953</td>\n",
       "      <td>-0.081426</td>\n",
       "      <td>0.010340</td>\n",
       "    </tr>\n",
       "  </tbody>\n",
       "</table>\n",
       "</div>"
      ],
      "text/plain": [
       "                             Estimator  Std. Error  lower bound CI  \\\n",
       "OLS                          -0.009378    0.029888       -0.070600   \n",
       "LASSO TRAIN (alpha=0.00077)  -0.035543    0.022953       -0.081426   \n",
       "\n",
       "                             upper bound CI  \n",
       "OLS                                0.051844  \n",
       "LASSO TRAIN (alpha=0.00077)        0.010340  "
      ]
     },
     "execution_count": 51,
     "metadata": {},
     "output_type": "execute_result"
    }
   ],
   "source": [
    "table_3 = table_1_pandas.append(table_2_pandas)\n",
    "table_3"
   ]
  },
  {
   "cell_type": "code",
   "execution_count": 52,
   "metadata": {},
   "outputs": [
    {
     "data": {
      "text/html": [
       "<div>\n",
       "<style scoped>\n",
       "    .dataframe tbody tr th:only-of-type {\n",
       "        vertical-align: middle;\n",
       "    }\n",
       "\n",
       "    .dataframe tbody tr th {\n",
       "        vertical-align: top;\n",
       "    }\n",
       "\n",
       "    .dataframe thead th {\n",
       "        text-align: right;\n",
       "    }\n",
       "</style>\n",
       "<table border=\"1\" class=\"dataframe\">\n",
       "  <thead>\n",
       "    <tr style=\"text-align: right;\">\n",
       "      <th></th>\n",
       "      <th>Estimator</th>\n",
       "      <th>Std. Error</th>\n",
       "      <th>lower bound CI</th>\n",
       "      <th>upper bound CI</th>\n",
       "    </tr>\n",
       "  </thead>\n",
       "  <tbody>\n",
       "    <tr>\n",
       "      <th>LASSO TEST (alpha= 0.00077)</th>\n",
       "      <td>-0.091273</td>\n",
       "      <td>0.040154</td>\n",
       "      <td>-0.173811</td>\n",
       "      <td>-0.008736</td>\n",
       "    </tr>\n",
       "  </tbody>\n",
       "</table>\n",
       "</div>"
      ],
      "text/plain": [
       "                             Estimator  Std. Error  lower bound CI  \\\n",
       "LASSO TEST (alpha= 0.00077)  -0.091273    0.040154       -0.173811   \n",
       "\n",
       "                             upper bound CI  \n",
       "LASSO TEST (alpha= 0.00077)       -0.008736  "
      ]
     },
     "execution_count": 52,
     "metadata": {},
     "output_type": "execute_result"
    }
   ],
   "source": [
    "table_4 = table_2 = np.zeros( (1, 4) )\n",
    "\n",
    "table_4[0,0] = est_lasso_test\n",
    "table_4[0,1] = std_lasso_test\n",
    "table_4[0,2] = lower_ci_lasso_test\n",
    "table_4[0,3] = upper_ci_lasso_test\n",
    "\n",
    "table_4_pandas = pd.DataFrame( table_4, columns = [ \"Estimator\",\"Std. Error\", \"lower bound CI\", \"upper bound CI\"  ])\n",
    "table_4_pandas.index = [ \"LASSO TEST (alpha= 0.00077)\" ]\n",
    "table_4_pandas"
   ]
  },
  {
   "cell_type": "code",
   "execution_count": 53,
   "metadata": {},
   "outputs": [
    {
     "data": {
      "text/html": [
       "<div>\n",
       "<style scoped>\n",
       "    .dataframe tbody tr th:only-of-type {\n",
       "        vertical-align: middle;\n",
       "    }\n",
       "\n",
       "    .dataframe tbody tr th {\n",
       "        vertical-align: top;\n",
       "    }\n",
       "\n",
       "    .dataframe thead th {\n",
       "        text-align: right;\n",
       "    }\n",
       "</style>\n",
       "<table border=\"1\" class=\"dataframe\">\n",
       "  <thead>\n",
       "    <tr style=\"text-align: right;\">\n",
       "      <th></th>\n",
       "      <th>Estimator</th>\n",
       "      <th>Std. Error</th>\n",
       "      <th>lower bound CI</th>\n",
       "      <th>upper bound CI</th>\n",
       "    </tr>\n",
       "  </thead>\n",
       "  <tbody>\n",
       "    <tr>\n",
       "      <th>OLS</th>\n",
       "      <td>-0.009378</td>\n",
       "      <td>0.029888</td>\n",
       "      <td>-0.070600</td>\n",
       "      <td>0.051844</td>\n",
       "    </tr>\n",
       "    <tr>\n",
       "      <th>LASSO TRAIN (alpha=0.00077)</th>\n",
       "      <td>-0.035543</td>\n",
       "      <td>0.022953</td>\n",
       "      <td>-0.081426</td>\n",
       "      <td>0.010340</td>\n",
       "    </tr>\n",
       "    <tr>\n",
       "      <th>LASSO TEST (alpha= 0.00077)</th>\n",
       "      <td>-0.091273</td>\n",
       "      <td>0.040154</td>\n",
       "      <td>-0.173811</td>\n",
       "      <td>-0.008736</td>\n",
       "    </tr>\n",
       "  </tbody>\n",
       "</table>\n",
       "</div>"
      ],
      "text/plain": [
       "                             Estimator  Std. Error  lower bound CI  \\\n",
       "OLS                          -0.009378    0.029888       -0.070600   \n",
       "LASSO TRAIN (alpha=0.00077)  -0.035543    0.022953       -0.081426   \n",
       "LASSO TEST (alpha= 0.00077)  -0.091273    0.040154       -0.173811   \n",
       "\n",
       "                             upper bound CI  \n",
       "OLS                                0.051844  \n",
       "LASSO TRAIN (alpha=0.00077)        0.010340  \n",
       "LASSO TEST (alpha= 0.00077)       -0.008736  "
      ]
     },
     "execution_count": 53,
     "metadata": {},
     "output_type": "execute_result"
    }
   ],
   "source": [
    "table_5 = table_3.append(table_4_pandas)\n",
    "table_5"
   ]
  },
  {
   "cell_type": "code",
   "execution_count": 54,
   "metadata": {},
   "outputs": [
    {
     "data": {
      "text/html": [
       "<div>\n",
       "<style scoped>\n",
       "    .dataframe tbody tr th:only-of-type {\n",
       "        vertical-align: middle;\n",
       "    }\n",
       "\n",
       "    .dataframe tbody tr th {\n",
       "        vertical-align: top;\n",
       "    }\n",
       "\n",
       "    .dataframe thead th {\n",
       "        text-align: right;\n",
       "    }\n",
       "</style>\n",
       "<table border=\"1\" class=\"dataframe\">\n",
       "  <thead>\n",
       "    <tr style=\"text-align: right;\">\n",
       "      <th></th>\n",
       "      <th>Estimator</th>\n",
       "      <th>Std. Error</th>\n",
       "      <th>lower bound CI</th>\n",
       "      <th>upper bound CI</th>\n",
       "    </tr>\n",
       "  </thead>\n",
       "  <tbody>\n",
       "    <tr>\n",
       "      <th>LASSO TRAIN ( alpha =0.1)</th>\n",
       "      <td>-0.091273</td>\n",
       "      <td>0.040154</td>\n",
       "      <td>-0.173811</td>\n",
       "      <td>-0.008736</td>\n",
       "    </tr>\n",
       "  </tbody>\n",
       "</table>\n",
       "</div>"
      ],
      "text/plain": [
       "                           Estimator  Std. Error  lower bound CI  \\\n",
       "LASSO TRAIN ( alpha =0.1)  -0.091273    0.040154       -0.173811   \n",
       "\n",
       "                           upper bound CI  \n",
       "LASSO TRAIN ( alpha =0.1)       -0.008736  "
      ]
     },
     "execution_count": 54,
     "metadata": {},
     "output_type": "execute_result"
    }
   ],
   "source": [
    "table_6 = np.zeros( (1, 4) )\n",
    "\n",
    "table_6[0,0] = est_lasso_train_1\n",
    "table_6[0,1] = std_lasso_train_1\n",
    "table_6[0,2] = lower_ci_lasso_train_1\n",
    "table_6[0,3] = upper_ci_lasso_train_1\n",
    "\n",
    "\n",
    "table_6_pandas = pd.DataFrame( table_2, columns = [ \"Estimator\",\"Std. Error\", \"lower bound CI\", \"upper bound CI\"  ])\n",
    "table_6_pandas.index = [ \"LASSO TRAIN ( alpha =0.1)\" ]\n",
    "table_6_pandas"
   ]
  },
  {
   "cell_type": "code",
   "execution_count": 55,
   "metadata": {},
   "outputs": [
    {
     "data": {
      "text/html": [
       "<div>\n",
       "<style scoped>\n",
       "    .dataframe tbody tr th:only-of-type {\n",
       "        vertical-align: middle;\n",
       "    }\n",
       "\n",
       "    .dataframe tbody tr th {\n",
       "        vertical-align: top;\n",
       "    }\n",
       "\n",
       "    .dataframe thead th {\n",
       "        text-align: right;\n",
       "    }\n",
       "</style>\n",
       "<table border=\"1\" class=\"dataframe\">\n",
       "  <thead>\n",
       "    <tr style=\"text-align: right;\">\n",
       "      <th></th>\n",
       "      <th>Estimator</th>\n",
       "      <th>Std. Error</th>\n",
       "      <th>lower bound CI</th>\n",
       "      <th>upper bound CI</th>\n",
       "    </tr>\n",
       "  </thead>\n",
       "  <tbody>\n",
       "    <tr>\n",
       "      <th>OLS</th>\n",
       "      <td>-0.009378</td>\n",
       "      <td>0.029888</td>\n",
       "      <td>-0.070600</td>\n",
       "      <td>0.051844</td>\n",
       "    </tr>\n",
       "    <tr>\n",
       "      <th>LASSO TRAIN (alpha=0.00077)</th>\n",
       "      <td>-0.035543</td>\n",
       "      <td>0.022953</td>\n",
       "      <td>-0.081426</td>\n",
       "      <td>0.010340</td>\n",
       "    </tr>\n",
       "    <tr>\n",
       "      <th>LASSO TEST (alpha= 0.00077)</th>\n",
       "      <td>-0.091273</td>\n",
       "      <td>0.040154</td>\n",
       "      <td>-0.173811</td>\n",
       "      <td>-0.008736</td>\n",
       "    </tr>\n",
       "    <tr>\n",
       "      <th>LASSO TRAIN ( alpha =0.1)</th>\n",
       "      <td>-0.091273</td>\n",
       "      <td>0.040154</td>\n",
       "      <td>-0.173811</td>\n",
       "      <td>-0.008736</td>\n",
       "    </tr>\n",
       "  </tbody>\n",
       "</table>\n",
       "</div>"
      ],
      "text/plain": [
       "                             Estimator  Std. Error  lower bound CI  \\\n",
       "OLS                          -0.009378    0.029888       -0.070600   \n",
       "LASSO TRAIN (alpha=0.00077)  -0.035543    0.022953       -0.081426   \n",
       "LASSO TEST (alpha= 0.00077)  -0.091273    0.040154       -0.173811   \n",
       "LASSO TRAIN ( alpha =0.1)    -0.091273    0.040154       -0.173811   \n",
       "\n",
       "                             upper bound CI  \n",
       "OLS                                0.051844  \n",
       "LASSO TRAIN (alpha=0.00077)        0.010340  \n",
       "LASSO TEST (alpha= 0.00077)       -0.008736  \n",
       "LASSO TRAIN ( alpha =0.1)         -0.008736  "
      ]
     },
     "execution_count": 55,
     "metadata": {},
     "output_type": "execute_result"
    }
   ],
   "source": [
    "table_7 = table_5.append(table_6_pandas)\n",
    "table_7"
   ]
  },
  {
   "cell_type": "code",
   "execution_count": 56,
   "metadata": {},
   "outputs": [
    {
     "data": {
      "text/html": [
       "<div>\n",
       "<style scoped>\n",
       "    .dataframe tbody tr th:only-of-type {\n",
       "        vertical-align: middle;\n",
       "    }\n",
       "\n",
       "    .dataframe tbody tr th {\n",
       "        vertical-align: top;\n",
       "    }\n",
       "\n",
       "    .dataframe thead th {\n",
       "        text-align: right;\n",
       "    }\n",
       "</style>\n",
       "<table border=\"1\" class=\"dataframe\">\n",
       "  <thead>\n",
       "    <tr style=\"text-align: right;\">\n",
       "      <th></th>\n",
       "      <th>Estimator</th>\n",
       "      <th>Std. Error</th>\n",
       "      <th>lower bound CI</th>\n",
       "      <th>upper bound CI</th>\n",
       "    </tr>\n",
       "  </thead>\n",
       "  <tbody>\n",
       "    <tr>\n",
       "      <th>LASSO TEST ( alpha= 0.1 )</th>\n",
       "      <td>-0.091273</td>\n",
       "      <td>0.040154</td>\n",
       "      <td>-0.173811</td>\n",
       "      <td>-0.008736</td>\n",
       "    </tr>\n",
       "  </tbody>\n",
       "</table>\n",
       "</div>"
      ],
      "text/plain": [
       "                           Estimator  Std. Error  lower bound CI  \\\n",
       "LASSO TEST ( alpha= 0.1 )  -0.091273    0.040154       -0.173811   \n",
       "\n",
       "                           upper bound CI  \n",
       "LASSO TEST ( alpha= 0.1 )       -0.008736  "
      ]
     },
     "execution_count": 56,
     "metadata": {},
     "output_type": "execute_result"
    }
   ],
   "source": [
    "table_8 = table_2 = np.zeros( (1, 4) )\n",
    "\n",
    "table_8[0,0] = est_lasso_test_1\n",
    "table_8[0,1] = std_lasso_test_1\n",
    "table_8[0,2] = lower_ci_lasso_test_1\n",
    "table_8[0,3] = upper_ci_lasso_test_1\n",
    "\n",
    "table_8_pandas = pd.DataFrame( table_4, columns = [ \"Estimator\",\"Std. Error\", \"lower bound CI\", \"upper bound CI\"  ])\n",
    "table_8_pandas.index = [ \"LASSO TEST ( alpha= 0.1 )\" ]\n",
    "table_8_pandas"
   ]
  },
  {
   "cell_type": "code",
   "execution_count": 57,
   "metadata": {},
   "outputs": [
    {
     "data": {
      "text/html": [
       "<div>\n",
       "<style scoped>\n",
       "    .dataframe tbody tr th:only-of-type {\n",
       "        vertical-align: middle;\n",
       "    }\n",
       "\n",
       "    .dataframe tbody tr th {\n",
       "        vertical-align: top;\n",
       "    }\n",
       "\n",
       "    .dataframe thead th {\n",
       "        text-align: right;\n",
       "    }\n",
       "</style>\n",
       "<table border=\"1\" class=\"dataframe\">\n",
       "  <thead>\n",
       "    <tr style=\"text-align: right;\">\n",
       "      <th></th>\n",
       "      <th>Estimator</th>\n",
       "      <th>Std. Error</th>\n",
       "      <th>lower bound CI</th>\n",
       "      <th>upper bound CI</th>\n",
       "    </tr>\n",
       "  </thead>\n",
       "  <tbody>\n",
       "    <tr>\n",
       "      <th>OLS</th>\n",
       "      <td>-0.009378</td>\n",
       "      <td>0.029888</td>\n",
       "      <td>-0.070600</td>\n",
       "      <td>0.051844</td>\n",
       "    </tr>\n",
       "    <tr>\n",
       "      <th>LASSO TRAIN (alpha=0.00077)</th>\n",
       "      <td>-0.035543</td>\n",
       "      <td>0.022953</td>\n",
       "      <td>-0.081426</td>\n",
       "      <td>0.010340</td>\n",
       "    </tr>\n",
       "    <tr>\n",
       "      <th>LASSO TEST (alpha= 0.00077)</th>\n",
       "      <td>-0.091273</td>\n",
       "      <td>0.040154</td>\n",
       "      <td>-0.173811</td>\n",
       "      <td>-0.008736</td>\n",
       "    </tr>\n",
       "    <tr>\n",
       "      <th>LASSO TRAIN ( alpha =0.1)</th>\n",
       "      <td>-0.091273</td>\n",
       "      <td>0.040154</td>\n",
       "      <td>-0.173811</td>\n",
       "      <td>-0.008736</td>\n",
       "    </tr>\n",
       "    <tr>\n",
       "      <th>LASSO TEST ( alpha= 0.1 )</th>\n",
       "      <td>-0.091273</td>\n",
       "      <td>0.040154</td>\n",
       "      <td>-0.173811</td>\n",
       "      <td>-0.008736</td>\n",
       "    </tr>\n",
       "  </tbody>\n",
       "</table>\n",
       "</div>"
      ],
      "text/plain": [
       "                             Estimator  Std. Error  lower bound CI  \\\n",
       "OLS                          -0.009378    0.029888       -0.070600   \n",
       "LASSO TRAIN (alpha=0.00077)  -0.035543    0.022953       -0.081426   \n",
       "LASSO TEST (alpha= 0.00077)  -0.091273    0.040154       -0.173811   \n",
       "LASSO TRAIN ( alpha =0.1)    -0.091273    0.040154       -0.173811   \n",
       "LASSO TEST ( alpha= 0.1 )    -0.091273    0.040154       -0.173811   \n",
       "\n",
       "                             upper bound CI  \n",
       "OLS                                0.051844  \n",
       "LASSO TRAIN (alpha=0.00077)        0.010340  \n",
       "LASSO TEST (alpha= 0.00077)       -0.008736  \n",
       "LASSO TRAIN ( alpha =0.1)         -0.008736  \n",
       "LASSO TEST ( alpha= 0.1 )         -0.008736  "
      ]
     },
     "execution_count": 57,
     "metadata": {},
     "output_type": "execute_result"
    }
   ],
   "source": [
    "table_9 = table_7.append(table_8_pandas)\n",
    "table_9"
   ]
  },
  {
   "cell_type": "code",
   "execution_count": 58,
   "metadata": {},
   "outputs": [
    {
     "data": {
      "text/html": [
       "<div>\n",
       "<style scoped>\n",
       "    .dataframe tbody tr th:only-of-type {\n",
       "        vertical-align: middle;\n",
       "    }\n",
       "\n",
       "    .dataframe tbody tr th {\n",
       "        vertical-align: top;\n",
       "    }\n",
       "\n",
       "    .dataframe thead th {\n",
       "        text-align: right;\n",
       "    }\n",
       "</style>\n",
       "<table border=\"1\" class=\"dataframe\">\n",
       "  <thead>\n",
       "    <tr style=\"text-align: right;\">\n",
       "      <th></th>\n",
       "      <th>Estimator</th>\n",
       "      <th>Std. Error</th>\n",
       "      <th>lower bound CI</th>\n",
       "      <th>upper bound CI</th>\n",
       "    </tr>\n",
       "  </thead>\n",
       "  <tbody>\n",
       "    <tr>\n",
       "      <th>LASSO TRAIN (alpha=0.8)</th>\n",
       "      <td>-0.040951</td>\n",
       "      <td>0.019292</td>\n",
       "      <td>-0.080605</td>\n",
       "      <td>-0.001296</td>\n",
       "    </tr>\n",
       "  </tbody>\n",
       "</table>\n",
       "</div>"
      ],
      "text/plain": [
       "                         Estimator  Std. Error  lower bound CI  upper bound CI\n",
       "LASSO TRAIN (alpha=0.8)  -0.040951    0.019292       -0.080605       -0.001296"
      ]
     },
     "execution_count": 58,
     "metadata": {},
     "output_type": "execute_result"
    }
   ],
   "source": [
    "table_10 = np.zeros( (1, 4) )\n",
    "\n",
    "table_10[0,0] = est_lasso_train_2\n",
    "table_10[0,1] = std_lasso_train_2\n",
    "table_10[0,2] = lower_ci_lasso_train_2\n",
    "table_10[0,3] = upper_ci_lasso_train_2\n",
    "\n",
    "\n",
    "table_10_pandas = pd.DataFrame( table_2, columns = [ \"Estimator\",\"Std. Error\", \"lower bound CI\", \"upper bound CI\"  ])\n",
    "table_10_pandas.index = [ \"LASSO TRAIN (alpha=0.8)\" ]\n",
    "table_10_pandas"
   ]
  },
  {
   "cell_type": "code",
   "execution_count": 59,
   "metadata": {},
   "outputs": [
    {
     "data": {
      "text/html": [
       "<div>\n",
       "<style scoped>\n",
       "    .dataframe tbody tr th:only-of-type {\n",
       "        vertical-align: middle;\n",
       "    }\n",
       "\n",
       "    .dataframe tbody tr th {\n",
       "        vertical-align: top;\n",
       "    }\n",
       "\n",
       "    .dataframe thead th {\n",
       "        text-align: right;\n",
       "    }\n",
       "</style>\n",
       "<table border=\"1\" class=\"dataframe\">\n",
       "  <thead>\n",
       "    <tr style=\"text-align: right;\">\n",
       "      <th></th>\n",
       "      <th>Estimator</th>\n",
       "      <th>Std. Error</th>\n",
       "      <th>lower bound CI</th>\n",
       "      <th>upper bound CI</th>\n",
       "    </tr>\n",
       "  </thead>\n",
       "  <tbody>\n",
       "    <tr>\n",
       "      <th>OLS</th>\n",
       "      <td>-0.009378</td>\n",
       "      <td>0.029888</td>\n",
       "      <td>-0.070600</td>\n",
       "      <td>0.051844</td>\n",
       "    </tr>\n",
       "    <tr>\n",
       "      <th>LASSO TRAIN (alpha=0.00077)</th>\n",
       "      <td>-0.035543</td>\n",
       "      <td>0.022953</td>\n",
       "      <td>-0.081426</td>\n",
       "      <td>0.010340</td>\n",
       "    </tr>\n",
       "    <tr>\n",
       "      <th>LASSO TEST (alpha= 0.00077)</th>\n",
       "      <td>-0.091273</td>\n",
       "      <td>0.040154</td>\n",
       "      <td>-0.173811</td>\n",
       "      <td>-0.008736</td>\n",
       "    </tr>\n",
       "    <tr>\n",
       "      <th>LASSO TRAIN ( alpha =0.1)</th>\n",
       "      <td>-0.091273</td>\n",
       "      <td>0.040154</td>\n",
       "      <td>-0.173811</td>\n",
       "      <td>-0.008736</td>\n",
       "    </tr>\n",
       "    <tr>\n",
       "      <th>LASSO TEST ( alpha= 0.1 )</th>\n",
       "      <td>-0.091273</td>\n",
       "      <td>0.040154</td>\n",
       "      <td>-0.173811</td>\n",
       "      <td>-0.008736</td>\n",
       "    </tr>\n",
       "    <tr>\n",
       "      <th>LASSO TRAIN (alpha=0.8)</th>\n",
       "      <td>-0.040951</td>\n",
       "      <td>0.019292</td>\n",
       "      <td>-0.080605</td>\n",
       "      <td>-0.001296</td>\n",
       "    </tr>\n",
       "  </tbody>\n",
       "</table>\n",
       "</div>"
      ],
      "text/plain": [
       "                             Estimator  Std. Error  lower bound CI  \\\n",
       "OLS                          -0.009378    0.029888       -0.070600   \n",
       "LASSO TRAIN (alpha=0.00077)  -0.035543    0.022953       -0.081426   \n",
       "LASSO TEST (alpha= 0.00077)  -0.091273    0.040154       -0.173811   \n",
       "LASSO TRAIN ( alpha =0.1)    -0.091273    0.040154       -0.173811   \n",
       "LASSO TEST ( alpha= 0.1 )    -0.091273    0.040154       -0.173811   \n",
       "LASSO TRAIN (alpha=0.8)      -0.040951    0.019292       -0.080605   \n",
       "\n",
       "                             upper bound CI  \n",
       "OLS                                0.051844  \n",
       "LASSO TRAIN (alpha=0.00077)        0.010340  \n",
       "LASSO TEST (alpha= 0.00077)       -0.008736  \n",
       "LASSO TRAIN ( alpha =0.1)         -0.008736  \n",
       "LASSO TEST ( alpha= 0.1 )         -0.008736  \n",
       "LASSO TRAIN (alpha=0.8)           -0.001296  "
      ]
     },
     "execution_count": 59,
     "metadata": {},
     "output_type": "execute_result"
    }
   ],
   "source": [
    "table_11 = table_9.append(table_10_pandas)\n",
    "table_11"
   ]
  },
  {
   "cell_type": "code",
   "execution_count": 60,
   "metadata": {},
   "outputs": [
    {
     "data": {
      "text/html": [
       "<div>\n",
       "<style scoped>\n",
       "    .dataframe tbody tr th:only-of-type {\n",
       "        vertical-align: middle;\n",
       "    }\n",
       "\n",
       "    .dataframe tbody tr th {\n",
       "        vertical-align: top;\n",
       "    }\n",
       "\n",
       "    .dataframe thead th {\n",
       "        text-align: right;\n",
       "    }\n",
       "</style>\n",
       "<table border=\"1\" class=\"dataframe\">\n",
       "  <thead>\n",
       "    <tr style=\"text-align: right;\">\n",
       "      <th></th>\n",
       "      <th>Estimator</th>\n",
       "      <th>Std. Error</th>\n",
       "      <th>lower bound CI</th>\n",
       "      <th>upper bound CI</th>\n",
       "    </tr>\n",
       "  </thead>\n",
       "  <tbody>\n",
       "    <tr>\n",
       "      <th>LASSO TEST (alpha=0.8)</th>\n",
       "      <td>-0.040951</td>\n",
       "      <td>0.019292</td>\n",
       "      <td>-0.080605</td>\n",
       "      <td>-0.001296</td>\n",
       "    </tr>\n",
       "  </tbody>\n",
       "</table>\n",
       "</div>"
      ],
      "text/plain": [
       "                        Estimator  Std. Error  lower bound CI  upper bound CI\n",
       "LASSO TEST (alpha=0.8)  -0.040951    0.019292       -0.080605       -0.001296"
      ]
     },
     "execution_count": 60,
     "metadata": {},
     "output_type": "execute_result"
    }
   ],
   "source": [
    "table_12 = np.zeros( (1, 4) )\n",
    "\n",
    "table_12[0,0] = est_lasso_test_2\n",
    "table_12[0,1] = std_lasso_test_2\n",
    "table_12[0,2] = lower_ci_lasso_test_2\n",
    "table_12[0,3] = upper_ci_lasso_test_2\n",
    "\n",
    "\n",
    "table_12_pandas = pd.DataFrame( table_2, columns = [ \"Estimator\",\"Std. Error\", \"lower bound CI\", \"upper bound CI\"  ])\n",
    "table_12_pandas.index = [ \"LASSO TEST (alpha=0.8)\" ]\n",
    "table_12_pandas"
   ]
  },
  {
   "cell_type": "code",
   "execution_count": 61,
   "metadata": {},
   "outputs": [
    {
     "data": {
      "text/html": [
       "<div>\n",
       "<style scoped>\n",
       "    .dataframe tbody tr th:only-of-type {\n",
       "        vertical-align: middle;\n",
       "    }\n",
       "\n",
       "    .dataframe tbody tr th {\n",
       "        vertical-align: top;\n",
       "    }\n",
       "\n",
       "    .dataframe thead th {\n",
       "        text-align: right;\n",
       "    }\n",
       "</style>\n",
       "<table border=\"1\" class=\"dataframe\">\n",
       "  <thead>\n",
       "    <tr style=\"text-align: right;\">\n",
       "      <th></th>\n",
       "      <th>Estimator</th>\n",
       "      <th>Std. Error</th>\n",
       "      <th>lower bound CI</th>\n",
       "      <th>upper bound CI</th>\n",
       "    </tr>\n",
       "  </thead>\n",
       "  <tbody>\n",
       "    <tr>\n",
       "      <th>OLS</th>\n",
       "      <td>-0.009378</td>\n",
       "      <td>0.029888</td>\n",
       "      <td>-0.070600</td>\n",
       "      <td>0.051844</td>\n",
       "    </tr>\n",
       "    <tr>\n",
       "      <th>LASSO TRAIN (alpha=0.00077)</th>\n",
       "      <td>-0.035543</td>\n",
       "      <td>0.022953</td>\n",
       "      <td>-0.081426</td>\n",
       "      <td>0.010340</td>\n",
       "    </tr>\n",
       "    <tr>\n",
       "      <th>LASSO TEST (alpha= 0.00077)</th>\n",
       "      <td>-0.091273</td>\n",
       "      <td>0.040154</td>\n",
       "      <td>-0.173811</td>\n",
       "      <td>-0.008736</td>\n",
       "    </tr>\n",
       "    <tr>\n",
       "      <th>LASSO TRAIN ( alpha =0.1)</th>\n",
       "      <td>-0.091273</td>\n",
       "      <td>0.040154</td>\n",
       "      <td>-0.173811</td>\n",
       "      <td>-0.008736</td>\n",
       "    </tr>\n",
       "    <tr>\n",
       "      <th>LASSO TEST ( alpha= 0.1 )</th>\n",
       "      <td>-0.091273</td>\n",
       "      <td>0.040154</td>\n",
       "      <td>-0.173811</td>\n",
       "      <td>-0.008736</td>\n",
       "    </tr>\n",
       "    <tr>\n",
       "      <th>LASSO TRAIN (alpha=0.8)</th>\n",
       "      <td>-0.040951</td>\n",
       "      <td>0.019292</td>\n",
       "      <td>-0.080605</td>\n",
       "      <td>-0.001296</td>\n",
       "    </tr>\n",
       "    <tr>\n",
       "      <th>LASSO TEST (alpha=0.8)</th>\n",
       "      <td>-0.040951</td>\n",
       "      <td>0.019292</td>\n",
       "      <td>-0.080605</td>\n",
       "      <td>-0.001296</td>\n",
       "    </tr>\n",
       "  </tbody>\n",
       "</table>\n",
       "</div>"
      ],
      "text/plain": [
       "                             Estimator  Std. Error  lower bound CI  \\\n",
       "OLS                          -0.009378    0.029888       -0.070600   \n",
       "LASSO TRAIN (alpha=0.00077)  -0.035543    0.022953       -0.081426   \n",
       "LASSO TEST (alpha= 0.00077)  -0.091273    0.040154       -0.173811   \n",
       "LASSO TRAIN ( alpha =0.1)    -0.091273    0.040154       -0.173811   \n",
       "LASSO TEST ( alpha= 0.1 )    -0.091273    0.040154       -0.173811   \n",
       "LASSO TRAIN (alpha=0.8)      -0.040951    0.019292       -0.080605   \n",
       "LASSO TEST (alpha=0.8)       -0.040951    0.019292       -0.080605   \n",
       "\n",
       "                             upper bound CI  \n",
       "OLS                                0.051844  \n",
       "LASSO TRAIN (alpha=0.00077)        0.010340  \n",
       "LASSO TEST (alpha= 0.00077)       -0.008736  \n",
       "LASSO TRAIN ( alpha =0.1)         -0.008736  \n",
       "LASSO TEST ( alpha= 0.1 )         -0.008736  \n",
       "LASSO TRAIN (alpha=0.8)           -0.001296  \n",
       "LASSO TEST (alpha=0.8)            -0.001296  "
      ]
     },
     "execution_count": 61,
     "metadata": {},
     "output_type": "execute_result"
    }
   ],
   "source": [
    "table_13 = table_11.append(table_12_pandas)\n",
    "table_13"
   ]
  },
  {
   "cell_type": "code",
   "execution_count": 62,
   "metadata": {},
   "outputs": [
    {
     "name": "stdout",
     "output_type": "stream",
     "text": [
      "<table border=\"1\" class=\"dataframe\">\n",
      "  <thead>\n",
      "    <tr style=\"text-align: right;\">\n",
      "      <th></th>\n",
      "      <th>Estimator</th>\n",
      "      <th>Std. Error</th>\n",
      "      <th>lower bound CI</th>\n",
      "      <th>upper bound CI</th>\n",
      "    </tr>\n",
      "  </thead>\n",
      "  <tbody>\n",
      "    <tr>\n",
      "      <th>OLS</th>\n",
      "      <td>-0.009378</td>\n",
      "      <td>0.029888</td>\n",
      "      <td>-0.070600</td>\n",
      "      <td>0.051844</td>\n",
      "    </tr>\n",
      "    <tr>\n",
      "      <th>LASSO TRAIN (alpha=0.00077)</th>\n",
      "      <td>-0.035543</td>\n",
      "      <td>0.022953</td>\n",
      "      <td>-0.081426</td>\n",
      "      <td>0.010340</td>\n",
      "    </tr>\n",
      "    <tr>\n",
      "      <th>LASSO TEST (alpha= 0.00077)</th>\n",
      "      <td>-0.091273</td>\n",
      "      <td>0.040154</td>\n",
      "      <td>-0.173811</td>\n",
      "      <td>-0.008736</td>\n",
      "    </tr>\n",
      "    <tr>\n",
      "      <th>LASSO TRAIN ( alpha =0.1)</th>\n",
      "      <td>-0.091273</td>\n",
      "      <td>0.040154</td>\n",
      "      <td>-0.173811</td>\n",
      "      <td>-0.008736</td>\n",
      "    </tr>\n",
      "    <tr>\n",
      "      <th>LASSO TEST ( alpha= 0.1 )</th>\n",
      "      <td>-0.091273</td>\n",
      "      <td>0.040154</td>\n",
      "      <td>-0.173811</td>\n",
      "      <td>-0.008736</td>\n",
      "    </tr>\n",
      "    <tr>\n",
      "      <th>LASSO TRAIN (alpha=0.8)</th>\n",
      "      <td>-0.040951</td>\n",
      "      <td>0.019292</td>\n",
      "      <td>-0.080605</td>\n",
      "      <td>-0.001296</td>\n",
      "    </tr>\n",
      "    <tr>\n",
      "      <th>LASSO TEST (alpha=0.8)</th>\n",
      "      <td>-0.040951</td>\n",
      "      <td>0.019292</td>\n",
      "      <td>-0.080605</td>\n",
      "      <td>-0.001296</td>\n",
      "    </tr>\n",
      "  </tbody>\n",
      "</table>\n"
     ]
    }
   ],
   "source": [
    "table_13_html = table_13.to_html()\n",
    "print(table_13_html)"
   ]
  },
  {
   "cell_type": "markdown",
   "metadata": {},
   "source": [
    "The least square method provides a rather noisy estimate of the speed of convergence. We can not answer the question if poor countries grow faster than rich countries. The least square method does not work when the ratio $p/n$ is large.\n",
    "\n",
    "First of all, these are the $\\beta$'s for Lasso when $\\alpha$ = 0.00077.\n",
    "\n",
    "On the one hand, for  sample splitting via Lasso provides a more precise estimate. \n",
    "The Lasso (Train sample) based point estimate is $-5\\%$ and the $95\\%$ confidence interval for the (annual) rate of convergence $[-8.14\\%,1.03\\%]$ only includes negative numbers. This empirical evidence does NOT support the convergence hypothesis.\n",
    "\n",
    "On the other hand, The Lasso (Test sample) based point estimate is $-5\\%$ and the $95\\%$ confidence interval for the (annual) rate of convergence $[-17.38\\%,-0.87\\%]$ only includes negative numbers. This empirical evidence does support the convergence hypothesis.\n",
    "\n",
    "Secondly, these are the $\\beta$'s for Lasso when $\\alpha$ = 0.1.\n",
    "\n",
    "On the one hand, for  sample splitting via Lasso provides a more precise estimate. \n",
    "The Lasso (Train sample) based point estimate is $-5\\%$ and the $95\\%$ confidence interval for the (annual) rate of convergence $[-17.38\\%,-0.87\\%]$ only includes negative numbers. This empirical evidence does support the convergence hypothesis.\n",
    "\n",
    "On the other hand, The Lasso (Test sample) based point estimate is $-5\\%$ and the $95\\%$ confidence interval for the (annual) rate of convergence $[-17.38\\%,-0.87\\%]$ only includes negative numbers. This empirical evidence does support the convergence hypothesis.\n",
    "\n",
    "First of all, these are the $\\beta$'s for Lasso when $\\alpha$ = 0.8\n",
    "\n",
    "On the one hand, for  sample splitting via Lasso provides a more precise estimate. \n",
    "The Lasso (Train sample) based point estimate is $-5\\%$ and the $95\\%$ confidence interval for the (annual) rate of convergence $[-8.06\\%,-0.12\\%]$ only includes negative numbers. This empirical evidence does support the convergence hypothesis.\n",
    "\n",
    "On the other hand, The Lasso (Test sample) based point estimate is $-5\\%$ and the $95\\%$ confidence interval for the (annual) rate of convergence $[-8.06\\%,-0.12\\%]$ only includes negative numbers. This empirical evidence does support the convergence hypothesis."
   ]
  },
  {
   "cell_type": "markdown",
   "metadata": {},
   "source": [
    "<table border=\"1\" class=\"dataframe\">\n",
    "  <thead>\n",
    "    <tr style=\"text-align: right;\">\n",
    "      <th></th>\n",
    "      <th>Estimator</th>\n",
    "      <th>Std. Error</th>\n",
    "      <th>lower bound CI</th>\n",
    "      <th>upper bound CI</th>\n",
    "    </tr>\n",
    "  </thead>\n",
    "  <tbody>\n",
    "    <tr>\n",
    "      <th>OLS</th>\n",
    "      <td>-0.009378</td>\n",
    "      <td>0.029888</td>\n",
    "      <td>-0.070600</td>\n",
    "      <td>0.051844</td>\n",
    "    </tr>\n",
    "    <tr>\n",
    "      <th>LASSO TRAIN (alpha=0.00077)</th>\n",
    "      <td>-0.035543</td>\n",
    "      <td>0.022953</td>\n",
    "      <td>-0.081426</td>\n",
    "      <td>0.010340</td>\n",
    "    </tr>\n",
    "    <tr>\n",
    "      <th>LASSO TEST (alpha= 0.00077)</th>\n",
    "      <td>-0.091273</td>\n",
    "      <td>0.040154</td>\n",
    "      <td>-0.173811</td>\n",
    "      <td>-0.008736</td>\n",
    "    </tr>\n",
    "    <tr>\n",
    "      <th>LASSO TRAIN ( alpha =0.1)</th>\n",
    "      <td>-0.091273</td>\n",
    "      <td>0.040154</td>\n",
    "      <td>-0.173811</td>\n",
    "      <td>-0.008736</td>\n",
    "    </tr>\n",
    "    <tr>\n",
    "      <th>LASSO TEST ( alpha= 0.1 )</th>\n",
    "      <td>-0.091273</td>\n",
    "      <td>0.040154</td>\n",
    "      <td>-0.173811</td>\n",
    "      <td>-0.008736</td>\n",
    "    </tr>\n",
    "    <tr>\n",
    "      <th>LASSO TRAIN (alpha=0.8)</th>\n",
    "      <td>-0.040951</td>\n",
    "      <td>0.019292</td>\n",
    "      <td>-0.080605</td>\n",
    "      <td>-0.001296</td>\n",
    "    </tr>\n",
    "    <tr>\n",
    "      <th>LASSO TEST (alpha=0.8)</th>\n",
    "      <td>-0.040951</td>\n",
    "      <td>0.019292</td>\n",
    "      <td>-0.080605</td>\n",
    "      <td>-0.001296</td>\n",
    "    </tr>\n",
    "  </tbody>\n",
    "</table>"
   ]
  },
  {
   "cell_type": "markdown",
   "metadata": {},
   "source": [
    "## Double LASSO using theoretical Lambda (HDM package)"
   ]
  },
  {
   "cell_type": "code",
   "execution_count": 78,
   "metadata": {},
   "outputs": [],
   "source": [
    "res_Y = hdmpy.rlasso( W, Y, post=True ).est['residuals']\n",
    "res_D = hdmpy.rlasso( W, D, post=True ).est['residuals']\n",
    "\n",
    "r_Y = pd.DataFrame(res_Y, columns=['r_Y'])\n",
    "r_D = pd.DataFrame(res_D, columns=['r_D'])"
   ]
  },
  {
   "cell_type": "code",
   "execution_count": 79,
   "metadata": {},
   "outputs": [
    {
     "name": "stdout",
     "output_type": "stream",
     "text": [
      "                                 OLS Regression Results                                \n",
      "=======================================================================================\n",
      "Dep. Variable:                    r_Y   R-squared (uncentered):                   0.127\n",
      "Model:                            OLS   Adj. R-squared (uncentered):              0.117\n",
      "Method:                 Least Squares   F-statistic:                              12.92\n",
      "Date:                Fri, 08 Oct 2021   Prob (F-statistic):                    0.000533\n",
      "Time:                        13:27:52   Log-Likelihood:                          152.68\n",
      "No. Observations:                  90   AIC:                                     -303.4\n",
      "Df Residuals:                      89   BIC:                                     -300.9\n",
      "Df Model:                           1                                                  \n",
      "Covariance Type:            nonrobust                                                  \n",
      "==============================================================================\n",
      "                 coef    std err          t      P>|t|      [0.025      0.975]\n",
      "------------------------------------------------------------------------------\n",
      "r_D           -0.0498      0.014     -3.594      0.001      -0.077      -0.022\n",
      "==============================================================================\n",
      "Omnibus:                        4.622   Durbin-Watson:                   1.510\n",
      "Prob(Omnibus):                  0.099   Jarque-Bera (JB):                5.807\n",
      "Skew:                           0.120   Prob(JB):                       0.0548\n",
      "Kurtosis:                       4.221   Cond. No.                         1.00\n",
      "==============================================================================\n",
      "\n",
      "Notes:\n",
      "[1] R² is computed without centering (uncentered) since the model does not contain a constant.\n",
      "[2] Standard Errors assume that the covariance matrix of the errors is correctly specified.\n"
     ]
    }
   ],
   "source": [
    "# OLS regression\n",
    "reg_ols  = sm.OLS(r_Y, r_D).fit()\n",
    "print(reg_ols.summary())"
   ]
  },
  {
   "cell_type": "code",
   "execution_count": 80,
   "metadata": {},
   "outputs": [],
   "source": [
    "# output: estimated regression coefficient corresponding to the target regressor\n",
    "est_lasso_HDM = reg_ols.summary2().tables[1]['Coef.']['r_D']\n",
    "\n",
    "# output: std. error\n",
    "std_lasso_HDM = reg_ols.summary2().tables[1]['Std.Err.']['r_D']\n",
    "\n",
    "# output: 95% confidence interval\n",
    "lower_ci_lasso_HDM = reg_ols.summary2().tables[1]['[0.025']['r_D']\n",
    "upper_ci_lasso_HDM = reg_ols.summary2().tables[1]['0.975]']['r_D']"
   ]
  },
  {
   "cell_type": "code",
   "execution_count": 81,
   "metadata": {},
   "outputs": [
    {
     "data": {
      "text/html": [
       "<div>\n",
       "<style scoped>\n",
       "    .dataframe tbody tr th:only-of-type {\n",
       "        vertical-align: middle;\n",
       "    }\n",
       "\n",
       "    .dataframe tbody tr th {\n",
       "        vertical-align: top;\n",
       "    }\n",
       "\n",
       "    .dataframe thead th {\n",
       "        text-align: right;\n",
       "    }\n",
       "</style>\n",
       "<table border=\"1\" class=\"dataframe\">\n",
       "  <thead>\n",
       "    <tr style=\"text-align: right;\">\n",
       "      <th></th>\n",
       "      <th>Estimator</th>\n",
       "      <th>Std. Error</th>\n",
       "      <th>lower bound CI</th>\n",
       "      <th>upper bound CI</th>\n",
       "    </tr>\n",
       "  </thead>\n",
       "  <tbody>\n",
       "    <tr>\n",
       "      <th>LASSO_HDM</th>\n",
       "      <td>-0.049811</td>\n",
       "      <td>0.013858</td>\n",
       "      <td>-0.077347</td>\n",
       "      <td>-0.022276</td>\n",
       "    </tr>\n",
       "  </tbody>\n",
       "</table>\n",
       "</div>"
      ],
      "text/plain": [
       "           Estimator  Std. Error  lower bound CI  upper bound CI\n",
       "LASSO_HDM  -0.049811    0.013858       -0.077347       -0.022276"
      ]
     },
     "execution_count": 81,
     "metadata": {},
     "output_type": "execute_result"
    }
   ],
   "source": [
    "table_3 = np.zeros( (1, 4) )\n",
    "\n",
    "table_3[0,0] = est_lasso_HDM\n",
    "table_3[0,1] = std_lasso_HDM\n",
    "table_3[0,2] = lower_ci_lasso_HDM \n",
    "table_3[0,3] = upper_ci_lasso_HDM\n",
    "\n",
    "\n",
    "table_3_pandas = pd.DataFrame( table_3, columns = [ \"Estimator\",\"Std. Error\", \"lower bound CI\", \"upper bound CI\"  ]) \n",
    "table_3_pandas.index = [ \"LASSO_HDM\" ]\n",
    "table_3_pandas"
   ]
  },
  {
   "cell_type": "markdown",
   "metadata": {},
   "source": [
    "Using HDM package via lasso provides estimation with $-5\\%$ and the $95\\%$ confidence interval for the (annual) rate of convergence $[-7.73\\%,-2.22\\%]$ only includes negative numbers. This empirical evidence does support the convergence hypothesis."
   ]
  },
  {
   "cell_type": "markdown",
   "metadata": {},
   "source": [
    "## Double LASSO using method = \"partialling out\""
   ]
  },
  {
   "cell_type": "code",
   "execution_count": 82,
   "metadata": {},
   "outputs": [
    {
     "data": {
      "text/plain": [
       "{'alpha': -0.04981144483733834,\n",
       " 'se': array([0.01539133]),\n",
       " 't': array([-3.23633167]),\n",
       " 'pval': array([0.00121077]),\n",
       " 'coefficients': -0.04981144483733834,\n",
       " 'coefficient': -0.04981144483733834,\n",
       " 'coefficients_reg':                     0\n",
       " (Intercept)  0.058101\n",
       " x0          -0.075565\n",
       " x1           0.000000\n",
       " x2           0.000000\n",
       " x3           0.000000\n",
       " ...               ...\n",
       " x55          0.000000\n",
       " x56          0.000000\n",
       " x57          0.000000\n",
       " x58          0.000000\n",
       " x59          0.000000\n",
       " \n",
       " [61 rows x 1 columns],\n",
       " 'selection_index': array([[ True],\n",
       "        [False],\n",
       "        [ True],\n",
       "        [False],\n",
       "        [ True],\n",
       "        [False],\n",
       "        [False],\n",
       "        [False],\n",
       "        [False],\n",
       "        [False],\n",
       "        [False],\n",
       "        [ True],\n",
       "        [False],\n",
       "        [False],\n",
       "        [ True],\n",
       "        [False],\n",
       "        [False],\n",
       "        [False],\n",
       "        [False],\n",
       "        [False],\n",
       "        [False],\n",
       "        [False],\n",
       "        [False],\n",
       "        [False],\n",
       "        [False],\n",
       "        [False],\n",
       "        [False],\n",
       "        [False],\n",
       "        [False],\n",
       "        [False],\n",
       "        [False],\n",
       "        [False],\n",
       "        [False],\n",
       "        [ True],\n",
       "        [False],\n",
       "        [False],\n",
       "        [False],\n",
       "        [False],\n",
       "        [False],\n",
       "        [False],\n",
       "        [False],\n",
       "        [False],\n",
       "        [False],\n",
       "        [False],\n",
       "        [ True],\n",
       "        [False],\n",
       "        [False],\n",
       "        [False],\n",
       "        [False],\n",
       "        [False],\n",
       "        [False],\n",
       "        [False],\n",
       "        [False],\n",
       "        [False],\n",
       "        [False],\n",
       "        [False],\n",
       "        [False],\n",
       "        [False],\n",
       "        [False],\n",
       "        [False]]),\n",
       " 'residuals': {'epsilon': array([[-3.49848290e-02],\n",
       "         [ 9.52657707e-02],\n",
       "         [ 1.25530270e-02],\n",
       "         [ 1.45051157e-02],\n",
       "         [-1.21212956e-02],\n",
       "         [ 6.10442897e-03],\n",
       "         [ 2.38808615e-02],\n",
       "         [ 2.35925129e-02],\n",
       "         [-2.51882039e-02],\n",
       "         [-3.28317379e-03],\n",
       "         [ 3.26116159e-02],\n",
       "         [ 7.84400354e-02],\n",
       "         [-2.39374185e-02],\n",
       "         [ 3.69879313e-02],\n",
       "         [ 6.49582648e-02],\n",
       "         [-1.98036065e-02],\n",
       "         [ 1.49731491e-02],\n",
       "         [-2.35299549e-02],\n",
       "         [-3.60085919e-02],\n",
       "         [ 3.51316929e-03],\n",
       "         [ 1.61620376e-02],\n",
       "         [ 6.07508356e-02],\n",
       "         [ 1.15639372e-01],\n",
       "         [ 4.34356056e-02],\n",
       "         [ 5.66148392e-03],\n",
       "         [ 2.69169427e-05],\n",
       "         [ 7.00477269e-02],\n",
       "         [ 1.76262552e-02],\n",
       "         [ 3.34778871e-02],\n",
       "         [ 2.07315008e-02],\n",
       "         [ 3.30063634e-02],\n",
       "         [ 8.17543261e-03],\n",
       "         [ 2.73186289e-02],\n",
       "         [-1.67216885e-02],\n",
       "         [ 1.06653033e-02],\n",
       "         [ 1.55816825e-02],\n",
       "         [ 1.59537137e-02],\n",
       "         [ 3.11297929e-02],\n",
       "         [ 2.30954424e-03],\n",
       "         [-8.12063106e-03],\n",
       "         [-8.71695816e-03],\n",
       "         [ 5.98383821e-04],\n",
       "         [-7.34579243e-03],\n",
       "         [ 1.82278148e-02],\n",
       "         [-1.16687675e-01],\n",
       "         [-6.37801362e-02],\n",
       "         [-1.12363965e-02],\n",
       "         [-3.06850578e-02],\n",
       "         [-6.03443804e-02],\n",
       "         [-3.47115122e-02],\n",
       "         [ 5.24599190e-02],\n",
       "         [-3.68484872e-02],\n",
       "         [ 1.13668751e-03],\n",
       "         [-4.48824215e-02],\n",
       "         [-6.64123390e-02],\n",
       "         [-6.81015576e-02],\n",
       "         [-7.44072496e-02],\n",
       "         [-2.98153308e-02],\n",
       "         [-8.19576069e-03],\n",
       "         [-3.66941527e-02],\n",
       "         [-6.98023480e-02],\n",
       "         [-5.31157210e-02],\n",
       "         [ 2.87182891e-02],\n",
       "         [-1.93314850e-02],\n",
       "         [ 5.00891034e-03],\n",
       "         [ 4.85815925e-03],\n",
       "         [-1.24003980e-02],\n",
       "         [-1.34087606e-01],\n",
       "         [ 4.70689433e-02],\n",
       "         [ 3.83224267e-02],\n",
       "         [ 6.37296176e-03],\n",
       "         [ 4.03832896e-03],\n",
       "         [-3.39895257e-02],\n",
       "         [ 7.51715850e-02],\n",
       "         [ 3.80763871e-02],\n",
       "         [ 3.14365455e-02],\n",
       "         [-6.36548178e-02],\n",
       "         [ 1.37748516e-01],\n",
       "         [ 6.28427939e-02],\n",
       "         [-3.41575056e-03],\n",
       "         [-3.78134362e-03],\n",
       "         [-1.48340027e-02],\n",
       "         [-2.14625294e-02],\n",
       "         [-3.48767519e-02],\n",
       "         [-3.17420299e-02],\n",
       "         [-2.11805603e-02],\n",
       "         [-2.79231134e-02],\n",
       "         [-1.18551528e-02],\n",
       "         [-1.40056746e-02],\n",
       "         [-1.31492060e-02]]),\n",
       "  'v': array([[ 0.52224775],\n",
       "         [ 0.13027854],\n",
       "         [ 0.07232197],\n",
       "         [-0.13196876],\n",
       "         [ 0.09840476],\n",
       "         [ 0.35730564],\n",
       "         [ 0.29409786],\n",
       "         [ 0.79778407],\n",
       "         [-0.01281871],\n",
       "         [ 0.08948357],\n",
       "         [ 0.24792072],\n",
       "         [-0.15386794],\n",
       "         [ 0.51916609],\n",
       "         [ 0.08095357],\n",
       "         [-0.07419893],\n",
       "         [-0.4272166 ],\n",
       "         [ 0.7020042 ],\n",
       "         [ 0.06546644],\n",
       "         [ 1.1780591 ],\n",
       "         [ 0.2131817 ],\n",
       "         [-0.42767423],\n",
       "         [-0.30375461],\n",
       "         [-0.70061133],\n",
       "         [-0.1908735 ],\n",
       "         [ 0.23665682],\n",
       "         [-0.52678542],\n",
       "         [ 0.21266098],\n",
       "         [-0.36917503],\n",
       "         [ 0.1646763 ],\n",
       "         [ 0.0521761 ],\n",
       "         [ 0.14220512],\n",
       "         [ 0.26772109],\n",
       "         [-0.64441088],\n",
       "         [-0.53145383],\n",
       "         [-0.10316275],\n",
       "         [-0.00779027],\n",
       "         [ 0.16496099],\n",
       "         [-0.11283308],\n",
       "         [ 0.15468537],\n",
       "         [ 0.05620812],\n",
       "         [ 0.20798022],\n",
       "         [ 0.20738542],\n",
       "         [-0.18652253],\n",
       "         [-0.73279207],\n",
       "         [-0.4562576 ],\n",
       "         [-0.5075765 ],\n",
       "         [-0.34768807],\n",
       "         [-0.43713094],\n",
       "         [ 0.11552148],\n",
       "         [-0.93281805],\n",
       "         [ 0.18193425],\n",
       "         [-0.02894488],\n",
       "         [ 0.170249  ],\n",
       "         [-0.18685441],\n",
       "         [-0.09797129],\n",
       "         [ 0.16775064],\n",
       "         [-0.15108181],\n",
       "         [ 0.28165299],\n",
       "         [ 0.49664435],\n",
       "         [-0.25627972],\n",
       "         [-0.03672719],\n",
       "         [ 0.30348206],\n",
       "         [ 0.1539853 ],\n",
       "         [-0.06556942],\n",
       "         [ 0.13924958],\n",
       "         [-0.20928515],\n",
       "         [ 0.40570607],\n",
       "         [ 0.50044004],\n",
       "         [-0.13422303],\n",
       "         [ 0.03624017],\n",
       "         [-0.16286397],\n",
       "         [-0.06729083],\n",
       "         [-0.02076426],\n",
       "         [-0.32382142],\n",
       "         [-0.02041192],\n",
       "         [ 0.04473323],\n",
       "         [-0.43936259],\n",
       "         [ 0.1996553 ],\n",
       "         [ 0.39777497],\n",
       "         [-0.21166601],\n",
       "         [ 0.32571938],\n",
       "         [ 0.18176374],\n",
       "         [-0.37870359],\n",
       "         [-0.30497948],\n",
       "         [-0.11113707],\n",
       "         [ 0.11492087],\n",
       "         [-0.08623875],\n",
       "         [-0.01314347],\n",
       "         [ 0.08676469],\n",
       "         [ 0.08652982]])},\n",
       " 'samplesize': 90}"
      ]
     },
     "execution_count": 82,
     "metadata": {},
     "output_type": "execute_result"
    }
   ],
   "source": [
    "lasso_direct = hdmpy.rlassoEffect(x=W, y=Y, d=D, method=\"partialling out\")\n",
    "lasso_direct"
   ]
  },
  {
   "cell_type": "code",
   "execution_count": 83,
   "metadata": {},
   "outputs": [],
   "source": [
    "est_lasso_part_out = lasso_direct[\"coefficients\"]\n",
    "std_lasso_part_out = lasso_direct[\"se\"]\n",
    "lower_ci_lasso_part_out = est_lasso - 1.96*std_lasso\n",
    "upper_ci_lasso_part_out = est_lasso + 1.96*std_lasso"
   ]
  },
  {
   "cell_type": "code",
   "execution_count": 84,
   "metadata": {},
   "outputs": [
    {
     "data": {
      "text/html": [
       "<div>\n",
       "<style scoped>\n",
       "    .dataframe tbody tr th:only-of-type {\n",
       "        vertical-align: middle;\n",
       "    }\n",
       "\n",
       "    .dataframe tbody tr th {\n",
       "        vertical-align: top;\n",
       "    }\n",
       "\n",
       "    .dataframe thead th {\n",
       "        text-align: right;\n",
       "    }\n",
       "</style>\n",
       "<table border=\"1\" class=\"dataframe\">\n",
       "  <thead>\n",
       "    <tr style=\"text-align: right;\">\n",
       "      <th></th>\n",
       "      <th>Estimator</th>\n",
       "      <th>Std. Error</th>\n",
       "      <th>lower bound CI</th>\n",
       "      <th>upper bound CI</th>\n",
       "    </tr>\n",
       "  </thead>\n",
       "  <tbody>\n",
       "    <tr>\n",
       "      <th>LASSO_partialling_out</th>\n",
       "      <td>-0.049811</td>\n",
       "      <td>0.015391</td>\n",
       "      <td>-0.080532</td>\n",
       "      <td>0.009446</td>\n",
       "    </tr>\n",
       "  </tbody>\n",
       "</table>\n",
       "</div>"
      ],
      "text/plain": [
       "                       Estimator  Std. Error  lower bound CI  upper bound CI\n",
       "LASSO_partialling_out  -0.049811    0.015391       -0.080532        0.009446"
      ]
     },
     "execution_count": 84,
     "metadata": {},
     "output_type": "execute_result"
    }
   ],
   "source": [
    "table_4 = np.zeros( (1, 4) )\n",
    "\n",
    "table_4[0,0] = est_lasso_part_out\n",
    "table_4[0,1] = std_lasso_part_out\n",
    "table_4[0,2] = lower_ci_lasso_part_out\n",
    "table_4[0,3] = upper_ci_lasso_part_out\n",
    "\n",
    "\n",
    "table_4_pandas = pd.DataFrame( table_4, columns = [ \"Estimator\",\"Std. Error\", \"lower bound CI\", \"upper bound CI\"  ]) \n",
    "table_4_pandas.index = [ \"LASSO_partialling_out\" ]\n",
    "table_4_pandas"
   ]
  },
  {
   "cell_type": "markdown",
   "metadata": {},
   "source": [
    "The partialling-out approach via lasso does not allow us to answer the question about the convergence hypothesis since the confidence interval includes zero."
   ]
  },
  {
   "cell_type": "code",
   "execution_count": 85,
   "metadata": {},
   "outputs": [
    {
     "data": {
      "text/html": [
       "<div>\n",
       "<style scoped>\n",
       "    .dataframe tbody tr th:only-of-type {\n",
       "        vertical-align: middle;\n",
       "    }\n",
       "\n",
       "    .dataframe tbody tr th {\n",
       "        vertical-align: top;\n",
       "    }\n",
       "\n",
       "    .dataframe thead th {\n",
       "        text-align: right;\n",
       "    }\n",
       "</style>\n",
       "<table border=\"1\" class=\"dataframe\">\n",
       "  <thead>\n",
       "    <tr style=\"text-align: right;\">\n",
       "      <th></th>\n",
       "      <th>Estimator</th>\n",
       "      <th>Std. Error</th>\n",
       "      <th>lower bound CI</th>\n",
       "      <th>upper bound CI</th>\n",
       "    </tr>\n",
       "  </thead>\n",
       "  <tbody>\n",
       "    <tr>\n",
       "      <th>OLS</th>\n",
       "      <td>-0.009378</td>\n",
       "      <td>0.029888</td>\n",
       "      <td>-0.070600</td>\n",
       "      <td>0.051844</td>\n",
       "    </tr>\n",
       "    <tr>\n",
       "      <th>LASSO TRAIN (alpha=0.00077)</th>\n",
       "      <td>-0.035543</td>\n",
       "      <td>0.022953</td>\n",
       "      <td>-0.081426</td>\n",
       "      <td>0.010340</td>\n",
       "    </tr>\n",
       "    <tr>\n",
       "      <th>LASSO TEST (alpha= 0.00077)</th>\n",
       "      <td>-0.091273</td>\n",
       "      <td>0.040154</td>\n",
       "      <td>-0.173811</td>\n",
       "      <td>-0.008736</td>\n",
       "    </tr>\n",
       "    <tr>\n",
       "      <th>LASSO TRAIN ( alpha =0.1)</th>\n",
       "      <td>-0.091273</td>\n",
       "      <td>0.040154</td>\n",
       "      <td>-0.173811</td>\n",
       "      <td>-0.008736</td>\n",
       "    </tr>\n",
       "    <tr>\n",
       "      <th>LASSO TEST ( alpha= 0.1 )</th>\n",
       "      <td>-0.091273</td>\n",
       "      <td>0.040154</td>\n",
       "      <td>-0.173811</td>\n",
       "      <td>-0.008736</td>\n",
       "    </tr>\n",
       "    <tr>\n",
       "      <th>LASSO TRAIN (alpha=0.8)</th>\n",
       "      <td>-0.040951</td>\n",
       "      <td>0.019292</td>\n",
       "      <td>-0.080605</td>\n",
       "      <td>-0.001296</td>\n",
       "    </tr>\n",
       "    <tr>\n",
       "      <th>LASSO TEST (alpha=0.8)</th>\n",
       "      <td>-0.040951</td>\n",
       "      <td>0.019292</td>\n",
       "      <td>-0.080605</td>\n",
       "      <td>-0.001296</td>\n",
       "    </tr>\n",
       "    <tr>\n",
       "      <th>LASSO_HDM</th>\n",
       "      <td>-0.049811</td>\n",
       "      <td>0.013858</td>\n",
       "      <td>-0.077347</td>\n",
       "      <td>-0.022276</td>\n",
       "    </tr>\n",
       "  </tbody>\n",
       "</table>\n",
       "</div>"
      ],
      "text/plain": [
       "                             Estimator  Std. Error  lower bound CI  \\\n",
       "OLS                          -0.009378    0.029888       -0.070600   \n",
       "LASSO TRAIN (alpha=0.00077)  -0.035543    0.022953       -0.081426   \n",
       "LASSO TEST (alpha= 0.00077)  -0.091273    0.040154       -0.173811   \n",
       "LASSO TRAIN ( alpha =0.1)    -0.091273    0.040154       -0.173811   \n",
       "LASSO TEST ( alpha= 0.1 )    -0.091273    0.040154       -0.173811   \n",
       "LASSO TRAIN (alpha=0.8)      -0.040951    0.019292       -0.080605   \n",
       "LASSO TEST (alpha=0.8)       -0.040951    0.019292       -0.080605   \n",
       "LASSO_HDM                    -0.049811    0.013858       -0.077347   \n",
       "\n",
       "                             upper bound CI  \n",
       "OLS                                0.051844  \n",
       "LASSO TRAIN (alpha=0.00077)        0.010340  \n",
       "LASSO TEST (alpha= 0.00077)       -0.008736  \n",
       "LASSO TRAIN ( alpha =0.1)         -0.008736  \n",
       "LASSO TEST ( alpha= 0.1 )         -0.008736  \n",
       "LASSO TRAIN (alpha=0.8)           -0.001296  \n",
       "LASSO TEST (alpha=0.8)            -0.001296  \n",
       "LASSO_HDM                         -0.022276  "
      ]
     },
     "execution_count": 85,
     "metadata": {},
     "output_type": "execute_result"
    }
   ],
   "source": [
    "table_14 = table_13.append(table_3_pandas)\n",
    "table_14"
   ]
  },
  {
   "cell_type": "code",
   "execution_count": 86,
   "metadata": {},
   "outputs": [
    {
     "data": {
      "text/html": [
       "<div>\n",
       "<style scoped>\n",
       "    .dataframe tbody tr th:only-of-type {\n",
       "        vertical-align: middle;\n",
       "    }\n",
       "\n",
       "    .dataframe tbody tr th {\n",
       "        vertical-align: top;\n",
       "    }\n",
       "\n",
       "    .dataframe thead th {\n",
       "        text-align: right;\n",
       "    }\n",
       "</style>\n",
       "<table border=\"1\" class=\"dataframe\">\n",
       "  <thead>\n",
       "    <tr style=\"text-align: right;\">\n",
       "      <th></th>\n",
       "      <th>Estimator</th>\n",
       "      <th>Std. Error</th>\n",
       "      <th>lower bound CI</th>\n",
       "      <th>upper bound CI</th>\n",
       "    </tr>\n",
       "  </thead>\n",
       "  <tbody>\n",
       "    <tr>\n",
       "      <th>OLS</th>\n",
       "      <td>-0.009378</td>\n",
       "      <td>0.029888</td>\n",
       "      <td>-0.070600</td>\n",
       "      <td>0.051844</td>\n",
       "    </tr>\n",
       "    <tr>\n",
       "      <th>LASSO TRAIN (alpha=0.00077)</th>\n",
       "      <td>-0.035543</td>\n",
       "      <td>0.022953</td>\n",
       "      <td>-0.081426</td>\n",
       "      <td>0.010340</td>\n",
       "    </tr>\n",
       "    <tr>\n",
       "      <th>LASSO TEST (alpha= 0.00077)</th>\n",
       "      <td>-0.091273</td>\n",
       "      <td>0.040154</td>\n",
       "      <td>-0.173811</td>\n",
       "      <td>-0.008736</td>\n",
       "    </tr>\n",
       "    <tr>\n",
       "      <th>LASSO TRAIN ( alpha =0.1)</th>\n",
       "      <td>-0.091273</td>\n",
       "      <td>0.040154</td>\n",
       "      <td>-0.173811</td>\n",
       "      <td>-0.008736</td>\n",
       "    </tr>\n",
       "    <tr>\n",
       "      <th>LASSO TEST ( alpha= 0.1 )</th>\n",
       "      <td>-0.091273</td>\n",
       "      <td>0.040154</td>\n",
       "      <td>-0.173811</td>\n",
       "      <td>-0.008736</td>\n",
       "    </tr>\n",
       "    <tr>\n",
       "      <th>LASSO TRAIN (alpha=0.8)</th>\n",
       "      <td>-0.040951</td>\n",
       "      <td>0.019292</td>\n",
       "      <td>-0.080605</td>\n",
       "      <td>-0.001296</td>\n",
       "    </tr>\n",
       "    <tr>\n",
       "      <th>LASSO TEST (alpha=0.8)</th>\n",
       "      <td>-0.040951</td>\n",
       "      <td>0.019292</td>\n",
       "      <td>-0.080605</td>\n",
       "      <td>-0.001296</td>\n",
       "    </tr>\n",
       "    <tr>\n",
       "      <th>LASSO_HDM</th>\n",
       "      <td>-0.049811</td>\n",
       "      <td>0.013858</td>\n",
       "      <td>-0.077347</td>\n",
       "      <td>-0.022276</td>\n",
       "    </tr>\n",
       "    <tr>\n",
       "      <th>LASSO_partialling_out</th>\n",
       "      <td>-0.049811</td>\n",
       "      <td>0.015391</td>\n",
       "      <td>-0.080532</td>\n",
       "      <td>0.009446</td>\n",
       "    </tr>\n",
       "  </tbody>\n",
       "</table>\n",
       "</div>"
      ],
      "text/plain": [
       "                             Estimator  Std. Error  lower bound CI  \\\n",
       "OLS                          -0.009378    0.029888       -0.070600   \n",
       "LASSO TRAIN (alpha=0.00077)  -0.035543    0.022953       -0.081426   \n",
       "LASSO TEST (alpha= 0.00077)  -0.091273    0.040154       -0.173811   \n",
       "LASSO TRAIN ( alpha =0.1)    -0.091273    0.040154       -0.173811   \n",
       "LASSO TEST ( alpha= 0.1 )    -0.091273    0.040154       -0.173811   \n",
       "LASSO TRAIN (alpha=0.8)      -0.040951    0.019292       -0.080605   \n",
       "LASSO TEST (alpha=0.8)       -0.040951    0.019292       -0.080605   \n",
       "LASSO_HDM                    -0.049811    0.013858       -0.077347   \n",
       "LASSO_partialling_out        -0.049811    0.015391       -0.080532   \n",
       "\n",
       "                             upper bound CI  \n",
       "OLS                                0.051844  \n",
       "LASSO TRAIN (alpha=0.00077)        0.010340  \n",
       "LASSO TEST (alpha= 0.00077)       -0.008736  \n",
       "LASSO TRAIN ( alpha =0.1)         -0.008736  \n",
       "LASSO TEST ( alpha= 0.1 )         -0.008736  \n",
       "LASSO TRAIN (alpha=0.8)           -0.001296  \n",
       "LASSO TEST (alpha=0.8)            -0.001296  \n",
       "LASSO_HDM                         -0.022276  \n",
       "LASSO_partialling_out              0.009446  "
      ]
     },
     "execution_count": 86,
     "metadata": {},
     "output_type": "execute_result"
    }
   ],
   "source": [
    "table_15 = table_14.append(table_4_pandas)\n",
    "table_15"
   ]
  },
  {
   "cell_type": "code",
   "execution_count": 87,
   "metadata": {},
   "outputs": [
    {
     "data": {
      "text/html": [
       "<div>\n",
       "<style scoped>\n",
       "    .dataframe tbody tr th:only-of-type {\n",
       "        vertical-align: middle;\n",
       "    }\n",
       "\n",
       "    .dataframe tbody tr th {\n",
       "        vertical-align: top;\n",
       "    }\n",
       "\n",
       "    .dataframe thead th {\n",
       "        text-align: right;\n",
       "    }\n",
       "</style>\n",
       "<table border=\"1\" class=\"dataframe\">\n",
       "  <thead>\n",
       "    <tr style=\"text-align: right;\">\n",
       "      <th></th>\n",
       "      <th>Estimator</th>\n",
       "      <th>Std. Error</th>\n",
       "      <th>lower bound CI</th>\n",
       "      <th>upper bound CI</th>\n",
       "    </tr>\n",
       "  </thead>\n",
       "  <tbody>\n",
       "    <tr>\n",
       "      <th>OLS</th>\n",
       "      <td>-0.009378</td>\n",
       "      <td>0.029888</td>\n",
       "      <td>-0.070600</td>\n",
       "      <td>0.051844</td>\n",
       "    </tr>\n",
       "    <tr>\n",
       "      <th>LASSO TRAIN (alpha=0.00077)</th>\n",
       "      <td>-0.035543</td>\n",
       "      <td>0.022953</td>\n",
       "      <td>-0.081426</td>\n",
       "      <td>0.010340</td>\n",
       "    </tr>\n",
       "    <tr>\n",
       "      <th>LASSO TEST (alpha= 0.00077)</th>\n",
       "      <td>-0.091273</td>\n",
       "      <td>0.040154</td>\n",
       "      <td>-0.173811</td>\n",
       "      <td>-0.008736</td>\n",
       "    </tr>\n",
       "    <tr>\n",
       "      <th>LASSO TRAIN ( alpha =0.1)</th>\n",
       "      <td>-0.091273</td>\n",
       "      <td>0.040154</td>\n",
       "      <td>-0.173811</td>\n",
       "      <td>-0.008736</td>\n",
       "    </tr>\n",
       "    <tr>\n",
       "      <th>LASSO TEST ( alpha= 0.1 )</th>\n",
       "      <td>-0.091273</td>\n",
       "      <td>0.040154</td>\n",
       "      <td>-0.173811</td>\n",
       "      <td>-0.008736</td>\n",
       "    </tr>\n",
       "    <tr>\n",
       "      <th>LASSO TRAIN (alpha=0.8)</th>\n",
       "      <td>-0.040951</td>\n",
       "      <td>0.019292</td>\n",
       "      <td>-0.080605</td>\n",
       "      <td>-0.001296</td>\n",
       "    </tr>\n",
       "    <tr>\n",
       "      <th>LASSO TEST (alpha=0.8)</th>\n",
       "      <td>-0.040951</td>\n",
       "      <td>0.019292</td>\n",
       "      <td>-0.080605</td>\n",
       "      <td>-0.001296</td>\n",
       "    </tr>\n",
       "    <tr>\n",
       "      <th>LASSO_HDM</th>\n",
       "      <td>-0.049811</td>\n",
       "      <td>0.013858</td>\n",
       "      <td>-0.077347</td>\n",
       "      <td>-0.022276</td>\n",
       "    </tr>\n",
       "    <tr>\n",
       "      <th>LASSO_partialling_out</th>\n",
       "      <td>-0.049811</td>\n",
       "      <td>0.015391</td>\n",
       "      <td>-0.080532</td>\n",
       "      <td>0.009446</td>\n",
       "    </tr>\n",
       "  </tbody>\n",
       "</table>\n",
       "</div>"
      ],
      "text/plain": [
       "                             Estimator  Std. Error  lower bound CI  \\\n",
       "OLS                          -0.009378    0.029888       -0.070600   \n",
       "LASSO TRAIN (alpha=0.00077)  -0.035543    0.022953       -0.081426   \n",
       "LASSO TEST (alpha= 0.00077)  -0.091273    0.040154       -0.173811   \n",
       "LASSO TRAIN ( alpha =0.1)    -0.091273    0.040154       -0.173811   \n",
       "LASSO TEST ( alpha= 0.1 )    -0.091273    0.040154       -0.173811   \n",
       "LASSO TRAIN (alpha=0.8)      -0.040951    0.019292       -0.080605   \n",
       "LASSO TEST (alpha=0.8)       -0.040951    0.019292       -0.080605   \n",
       "LASSO_HDM                    -0.049811    0.013858       -0.077347   \n",
       "LASSO_partialling_out        -0.049811    0.015391       -0.080532   \n",
       "\n",
       "                             upper bound CI  \n",
       "OLS                                0.051844  \n",
       "LASSO TRAIN (alpha=0.00077)        0.010340  \n",
       "LASSO TEST (alpha= 0.00077)       -0.008736  \n",
       "LASSO TRAIN ( alpha =0.1)         -0.008736  \n",
       "LASSO TEST ( alpha= 0.1 )         -0.008736  \n",
       "LASSO TRAIN (alpha=0.8)           -0.001296  \n",
       "LASSO TEST (alpha=0.8)            -0.001296  \n",
       "LASSO_HDM                         -0.022276  \n",
       "LASSO_partialling_out              0.009446  "
      ]
     },
     "execution_count": 87,
     "metadata": {},
     "output_type": "execute_result"
    }
   ],
   "source": [
    "coef_df = pd.DataFrame(table_15) \n",
    "coef_df"
   ]
  },
  {
   "cell_type": "code",
   "execution_count": 88,
   "metadata": {},
   "outputs": [
    {
     "data": {
      "text/plain": [
       "['OLS',\n",
       " 'LASSO TRAIN (alpha=0.00077)',\n",
       " 'LASSO TEST (alpha= 0.00077)',\n",
       " 'LASSO TRAIN ( alpha =0.1)',\n",
       " 'LASSO TEST ( alpha= 0.1 )',\n",
       " 'LASSO TRAIN (alpha=0.8)',\n",
       " 'LASSO TEST (alpha=0.8)',\n",
       " 'LASSO_HDM',\n",
       " 'LASSO_partialling_out']"
      ]
     },
     "execution_count": 88,
     "metadata": {},
     "output_type": "execute_result"
    }
   ],
   "source": [
    "variables = list(coef_df.index.values)\n",
    "variables"
   ]
  },
  {
   "cell_type": "code",
   "execution_count": 89,
   "metadata": {},
   "outputs": [
    {
     "data": {
      "text/html": [
       "<div>\n",
       "<style scoped>\n",
       "    .dataframe tbody tr th:only-of-type {\n",
       "        vertical-align: middle;\n",
       "    }\n",
       "\n",
       "    .dataframe tbody tr th {\n",
       "        vertical-align: top;\n",
       "    }\n",
       "\n",
       "    .dataframe thead th {\n",
       "        text-align: right;\n",
       "    }\n",
       "</style>\n",
       "<table border=\"1\" class=\"dataframe\">\n",
       "  <thead>\n",
       "    <tr style=\"text-align: right;\">\n",
       "      <th></th>\n",
       "      <th>Estimator</th>\n",
       "      <th>Std. Error</th>\n",
       "      <th>lower bound CI</th>\n",
       "      <th>upper bound CI</th>\n",
       "      <th>variables</th>\n",
       "    </tr>\n",
       "  </thead>\n",
       "  <tbody>\n",
       "    <tr>\n",
       "      <th>OLS</th>\n",
       "      <td>-0.009378</td>\n",
       "      <td>0.029888</td>\n",
       "      <td>-0.070600</td>\n",
       "      <td>0.051844</td>\n",
       "      <td>OLS</td>\n",
       "    </tr>\n",
       "    <tr>\n",
       "      <th>LASSO TRAIN (alpha=0.00077)</th>\n",
       "      <td>-0.035543</td>\n",
       "      <td>0.022953</td>\n",
       "      <td>-0.081426</td>\n",
       "      <td>0.010340</td>\n",
       "      <td>LASSO TRAIN (alpha=0.00077)</td>\n",
       "    </tr>\n",
       "    <tr>\n",
       "      <th>LASSO TEST (alpha= 0.00077)</th>\n",
       "      <td>-0.091273</td>\n",
       "      <td>0.040154</td>\n",
       "      <td>-0.173811</td>\n",
       "      <td>-0.008736</td>\n",
       "      <td>LASSO TEST (alpha= 0.00077)</td>\n",
       "    </tr>\n",
       "    <tr>\n",
       "      <th>LASSO TRAIN ( alpha =0.1)</th>\n",
       "      <td>-0.091273</td>\n",
       "      <td>0.040154</td>\n",
       "      <td>-0.173811</td>\n",
       "      <td>-0.008736</td>\n",
       "      <td>LASSO TRAIN ( alpha =0.1)</td>\n",
       "    </tr>\n",
       "    <tr>\n",
       "      <th>LASSO TEST ( alpha= 0.1 )</th>\n",
       "      <td>-0.091273</td>\n",
       "      <td>0.040154</td>\n",
       "      <td>-0.173811</td>\n",
       "      <td>-0.008736</td>\n",
       "      <td>LASSO TEST ( alpha= 0.1 )</td>\n",
       "    </tr>\n",
       "    <tr>\n",
       "      <th>LASSO TRAIN (alpha=0.8)</th>\n",
       "      <td>-0.040951</td>\n",
       "      <td>0.019292</td>\n",
       "      <td>-0.080605</td>\n",
       "      <td>-0.001296</td>\n",
       "      <td>LASSO TRAIN (alpha=0.8)</td>\n",
       "    </tr>\n",
       "    <tr>\n",
       "      <th>LASSO TEST (alpha=0.8)</th>\n",
       "      <td>-0.040951</td>\n",
       "      <td>0.019292</td>\n",
       "      <td>-0.080605</td>\n",
       "      <td>-0.001296</td>\n",
       "      <td>LASSO TEST (alpha=0.8)</td>\n",
       "    </tr>\n",
       "    <tr>\n",
       "      <th>LASSO_HDM</th>\n",
       "      <td>-0.049811</td>\n",
       "      <td>0.013858</td>\n",
       "      <td>-0.077347</td>\n",
       "      <td>-0.022276</td>\n",
       "      <td>LASSO_HDM</td>\n",
       "    </tr>\n",
       "    <tr>\n",
       "      <th>LASSO_partialling_out</th>\n",
       "      <td>-0.049811</td>\n",
       "      <td>0.015391</td>\n",
       "      <td>-0.080532</td>\n",
       "      <td>0.009446</td>\n",
       "      <td>LASSO_partialling_out</td>\n",
       "    </tr>\n",
       "  </tbody>\n",
       "</table>\n",
       "</div>"
      ],
      "text/plain": [
       "                             Estimator  Std. Error  lower bound CI  \\\n",
       "OLS                          -0.009378    0.029888       -0.070600   \n",
       "LASSO TRAIN (alpha=0.00077)  -0.035543    0.022953       -0.081426   \n",
       "LASSO TEST (alpha= 0.00077)  -0.091273    0.040154       -0.173811   \n",
       "LASSO TRAIN ( alpha =0.1)    -0.091273    0.040154       -0.173811   \n",
       "LASSO TEST ( alpha= 0.1 )    -0.091273    0.040154       -0.173811   \n",
       "LASSO TRAIN (alpha=0.8)      -0.040951    0.019292       -0.080605   \n",
       "LASSO TEST (alpha=0.8)       -0.040951    0.019292       -0.080605   \n",
       "LASSO_HDM                    -0.049811    0.013858       -0.077347   \n",
       "LASSO_partialling_out        -0.049811    0.015391       -0.080532   \n",
       "\n",
       "                             upper bound CI                    variables  \n",
       "OLS                                0.051844                          OLS  \n",
       "LASSO TRAIN (alpha=0.00077)        0.010340  LASSO TRAIN (alpha=0.00077)  \n",
       "LASSO TEST (alpha= 0.00077)       -0.008736  LASSO TEST (alpha= 0.00077)  \n",
       "LASSO TRAIN ( alpha =0.1)         -0.008736    LASSO TRAIN ( alpha =0.1)  \n",
       "LASSO TEST ( alpha= 0.1 )         -0.008736    LASSO TEST ( alpha= 0.1 )  \n",
       "LASSO TRAIN (alpha=0.8)           -0.001296      LASSO TRAIN (alpha=0.8)  \n",
       "LASSO TEST (alpha=0.8)            -0.001296       LASSO TEST (alpha=0.8)  \n",
       "LASSO_HDM                         -0.022276                    LASSO_HDM  \n",
       "LASSO_partialling_out              0.009446        LASSO_partialling_out  "
      ]
     },
     "execution_count": 89,
     "metadata": {},
     "output_type": "execute_result"
    }
   ],
   "source": [
    "coef_df['variables'] = variables\n",
    "coef_df"
   ]
  },
  {
   "cell_type": "code",
   "execution_count": 90,
   "metadata": {},
   "outputs": [],
   "source": [
    "errors = coef_df['Estimator'] - coef_df['lower bound CI']"
   ]
  },
  {
   "cell_type": "code",
   "execution_count": 91,
   "metadata": {},
   "outputs": [],
   "source": [
    "coef_df['errors'] = errors"
   ]
  },
  {
   "cell_type": "code",
   "execution_count": 1,
   "metadata": {},
   "outputs": [
    {
     "ename": "NameError",
     "evalue": "name 'plt' is not defined",
     "output_type": "error",
     "traceback": [
      "\u001b[1;31m---------------------------------------------------------------------------\u001b[0m",
      "\u001b[1;31mNameError\u001b[0m                                 Traceback (most recent call last)",
      "Input \u001b[1;32mIn [1]\u001b[0m, in \u001b[0;36m<cell line: 2>\u001b[1;34m()\u001b[0m\n\u001b[0;32m      1\u001b[0m \u001b[38;5;66;03m# Define figure, axes, and plot\u001b[39;00m\n\u001b[1;32m----> 2\u001b[0m fig, ax \u001b[38;5;241m=\u001b[39m \u001b[43mplt\u001b[49m\u001b[38;5;241m.\u001b[39msubplots(figsize\u001b[38;5;241m=\u001b[39m(\u001b[38;5;241m15\u001b[39m, \u001b[38;5;241m10\u001b[39m))\n\u001b[0;32m      4\u001b[0m \u001b[38;5;66;03m# Error bars for 95% confidence interval\u001b[39;00m\n\u001b[0;32m      5\u001b[0m \u001b[38;5;66;03m# Can increase capsize to add whiskers\u001b[39;00m\n\u001b[0;32m      6\u001b[0m coef_df\u001b[38;5;241m.\u001b[39mplot(x\u001b[38;5;241m=\u001b[39m\u001b[38;5;124m'\u001b[39m\u001b[38;5;124mvariables\u001b[39m\u001b[38;5;124m'\u001b[39m, y\u001b[38;5;241m=\u001b[39m\u001b[38;5;124m'\u001b[39m\u001b[38;5;124mEstimator\u001b[39m\u001b[38;5;124m'\u001b[39m, kind\u001b[38;5;241m=\u001b[39m\u001b[38;5;124m'\u001b[39m\u001b[38;5;124mbar\u001b[39m\u001b[38;5;124m'\u001b[39m,\n\u001b[0;32m      7\u001b[0m             ax\u001b[38;5;241m=\u001b[39max, color\u001b[38;5;241m=\u001b[39m\u001b[38;5;124m'\u001b[39m\u001b[38;5;124mnone\u001b[39m\u001b[38;5;124m'\u001b[39m, fontsize\u001b[38;5;241m=\u001b[39m\u001b[38;5;241m22\u001b[39m, \n\u001b[0;32m      8\u001b[0m             ecolor\u001b[38;5;241m=\u001b[39m\u001b[38;5;124m'\u001b[39m\u001b[38;5;124msteelblue\u001b[39m\u001b[38;5;124m'\u001b[39m,capsize\u001b[38;5;241m=\u001b[39m\u001b[38;5;241m0\u001b[39m,\n\u001b[0;32m      9\u001b[0m             yerr\u001b[38;5;241m=\u001b[39m\u001b[38;5;124m'\u001b[39m\u001b[38;5;124merrors\u001b[39m\u001b[38;5;124m'\u001b[39m, legend\u001b[38;5;241m=\u001b[39m\u001b[38;5;28;01mFalse\u001b[39;00m)\n",
      "\u001b[1;31mNameError\u001b[0m: name 'plt' is not defined"
     ]
    }
   ],
   "source": [
    "# Define figure, axes, and plot\n",
    "fig, ax = plt.subplots(figsize=(15, 10))\n",
    "    \n",
    "# Error bars for 95% confidence interval\n",
    "# Can increase capsize to add whiskers\n",
    "coef_df.plot(x='variables', y='Estimator', kind='bar',\n",
    "            ax=ax, color='none', fontsize=22, \n",
    "            ecolor='steelblue',capsize=0,\n",
    "            yerr='errors', legend=False)\n",
    "    \n",
    "# Set title & labels\n",
    "plt.title('Confindece interval at 5% confidence level',fontsize=30)\n",
    "ax.set_ylabel('Coefficients',fontsize=22)\n",
    "ax.set_xlabel('',fontsize=22)\n",
    "    \n",
    "# Coefficients\n",
    "ax.scatter(x=pd.np.arange(coef_df.shape[0]), \n",
    "         marker='o', s=80, \n",
    "         y=coef_df['Estimator'], color='steelblue')\n",
    "    \n",
    "# Line to define zero on the y-axis\n",
    "ax.axhline(y=0, linestyle='--', color='red', linewidth=1)\n",
    "plt.show()"
   ]
  },
  {
   "cell_type": "markdown",
   "metadata": {},
   "source": [
    "#### This graph shows the comparison of the coefficients in the different model approaches: OLS, Lasso (with $\\alpha$ = 0.00077), Lasso (with $\\alpha$ = 0.1), Lasso (with $\\alpha$ = 0.8), Lasso with the HDM package and the Lasso by the \"partialling out\" method. These are the following inferences:\n",
    "\n",
    "\n",
    "- First of all, Ordinal Least squares provides a rather noisy estimate (high standard error) of the speed of convergence, and does not allow us to answer the question about the convergence hypothesis since the confidence interval includes zero.\n",
    "\n",
    "- Secondly, on the one hand, for  sample splitting via Lasso provides a more precise estimate. \n",
    "\n",
    "- The Lasso (Train sample) based point estimate is $-5\\%$ and the $95\\%$ confidence interval for the (annual) rate of convergence $[-8.14\\%,1.03\\%]$ only includes negative numbers. This empirical evidence does NOT support the convergence hypothesis.\n",
    "\n",
    "- On the other hand, The Lasso (Test sample) based point estimate is $-5\\%$ and the $95\\%$ confidence interval for the (annual) rate of convergence $[-17.38\\%,-0.87\\%]$ only includes negative numbers. This empirical evidence does support the convergence hypothesis.\n",
    "\n",
    "- Thirdly, these are the $\\beta$'s for Lasso when $\\alpha$ = 0.1. On the one hand, for  sample splitting via Lasso provides a more precise estimate. \n",
    "\n",
    "- The Lasso (Train sample) based point estimate is $-5\\%$ and the $95\\%$ confidence interval for the (annual) rate of convergence $[-17.38\\%,-0.87\\%]$ only includes negative numbers. This empirical evidence does support the convergence hypothesis.\n",
    "\n",
    "- On the other hand, The Lasso (Test sample) based point estimate is $-5\\%$ and the $95\\%$ confidence interval for the (annual) rate of convergence $[-17.38\\%,-0.87\\%]$ only includes negative numbers. This empirical evidence does support the convergence hypothesis.\n",
    "\n",
    "- Fourthly, these are the $\\beta$'s for Lasso when $\\alpha$ = 0.8\n",
    "\n",
    "- One the one hand, The Lasso (Train sample) based point estimate is $-5\\%$ and the $95\\%$ confidence interval for the (annual) rate of convergence $[-8.06\\%,-0.12\\%]$ only includes negative numbers. This empirical evidence does support the convergence hypothesis.\n",
    "\n",
    "- On the other hand, The Lasso (Test sample) based point estimate is $-5\\%$ and the $95\\%$ confidence interval for the (annual) rate of convergence $[-8.06\\%,-0.12\\%]$ only includes negative numbers. This empirical evidence does support the convergence hypothesis.\n",
    "\n",
    "- Fifthly, The Lasso via HDM package based point estimate is $-5\\%$ and the $95\\%$ confidence interval for the (annual) rate of convergence $[-7.73\\%,-2.22\\%]$ only includes negative numbers. This empirical evidence does support the convergence hypothesis.\n",
    "\n",
    "- Sixthly, The Lasso via partialling out method based point estimate is $-5\\%$ and the $95\\%$ confidence interval for the (annual) rate of convergence $[-8.05\\%,-0.94\\%]$ only includes negative numbers. This empirical evidence does support the convergence hypothesis.\n",
    "\n",
    "In conclusion, only lasso in almost all the methods used give us significant results (only not in the train sample with $\\alpha$=0.00077). In other words, according to this empirical research we can say that poor countries grow faster than rich countries."
   ]
  }
 ],
 "metadata": {
  "hide_input": false,
  "kernelspec": {
   "display_name": "Python 3 (ipykernel)",
   "language": "python",
   "name": "python3"
  },
  "language_info": {
   "codemirror_mode": {
    "name": "ipython",
    "version": 3
   },
   "file_extension": ".py",
   "mimetype": "text/x-python",
   "name": "python",
   "nbconvert_exporter": "python",
   "pygments_lexer": "ipython3",
   "version": "3.9.7"
  }
 },
 "nbformat": 4,
 "nbformat_minor": 4
}
