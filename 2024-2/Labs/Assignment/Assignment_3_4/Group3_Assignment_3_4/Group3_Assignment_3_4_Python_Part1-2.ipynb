{
 "cells": [
  {
   "cell_type": "code",
   "execution_count": 111,
   "metadata": {},
   "outputs": [],
   "source": [
    "import pandas as pd\n",
    "import numpy as np\n",
    "from scipy.stats import norm\n",
    "from sklearn.linear_model import LinearRegression\n",
    "import patsy\n",
    "import warnings\n",
    "warnings.simplefilter('ignore')\n",
    "np.random.seed(1234)\n",
    "import networkx as nx\n",
    "import matplotlib.pyplot as plt\n",
    "from sklearn.model_selection import train_test_split, KFold, cross_validate\n",
    "import seaborn as sns\n",
    "import matplotlib.pyplot as plt\n",
    "import statsmodels.api as sm\n",
    "from sklearn.metrics import mean_squared_error\n",
    "from sklearn.tree import DecisionTreeClassifier, DecisionTreeRegressor, plot_tree\n"
   ]
  },
  {
   "cell_type": "code",
   "execution_count": 112,
   "metadata": {},
   "outputs": [],
   "source": [
    "link= \"https://raw.githubusercontent.com/d2cml-ai/CausalAI-Course/main/data/wage2015_subsample_inference.csv\"\n",
    "\n",
    "data =pd.read_csv(link)"
   ]
  },
  {
   "cell_type": "markdown",
   "metadata": {},
   "source": [
    "## 1. "
   ]
  },
  {
   "cell_type": "markdown",
   "metadata": {},
   "source": [
    "### a."
   ]
  },
  {
   "cell_type": "code",
   "execution_count": 113,
   "metadata": {},
   "outputs": [],
   "source": [
    "X = data.drop(['wage', 'lwage'], axis=1)\n",
    "y = data[['lwage']]"
   ]
  },
  {
   "cell_type": "code",
   "execution_count": 114,
   "metadata": {},
   "outputs": [
    {
     "data": {
      "text/plain": [
       "Index(['rownames', 'sex', 'shs', 'hsg', 'scl', 'clg', 'ad', 'mw', 'so', 'we',\n",
       "       'ne', 'exp1', 'exp2', 'exp3', 'exp4', 'occ', 'occ2', 'ind', 'ind2'],\n",
       "      dtype='object')"
      ]
     },
     "execution_count": 114,
     "metadata": {},
     "output_type": "execute_result"
    }
   ],
   "source": [
    "y = np.log(data['wage']).values\n",
    "Z = data.drop(['wage', 'lwage'], axis=1)\n",
    "Z.columns"
   ]
  },
  {
   "cell_type": "code",
   "execution_count": 115,
   "metadata": {},
   "outputs": [],
   "source": [
    "Zcontrols = patsy.dmatrix('0 + (sex+C(occ2)+C(ind2)+mw+so+we+exp1+exp2+exp3+exp4)**2',\n",
    "                          Z, return_type='dataframe')\n",
    "\n",
    "Zcontrols = Zcontrols - Zcontrols.mean(axis=0)"
   ]
  },
  {
   "cell_type": "code",
   "execution_count": 116,
   "metadata": {},
   "outputs": [
    {
     "data": {
      "text/html": [
       "<div>\n",
       "<style scoped>\n",
       "    .dataframe tbody tr th:only-of-type {\n",
       "        vertical-align: middle;\n",
       "    }\n",
       "\n",
       "    .dataframe tbody tr th {\n",
       "        vertical-align: top;\n",
       "    }\n",
       "\n",
       "    .dataframe thead th {\n",
       "        text-align: right;\n",
       "    }\n",
       "</style>\n",
       "<table border=\"1\" class=\"dataframe\">\n",
       "  <thead>\n",
       "    <tr style=\"text-align: right;\">\n",
       "      <th></th>\n",
       "      <th>C(occ2)[1]</th>\n",
       "      <th>C(occ2)[2]</th>\n",
       "      <th>C(occ2)[3]</th>\n",
       "      <th>C(occ2)[4]</th>\n",
       "      <th>C(occ2)[5]</th>\n",
       "      <th>C(occ2)[6]</th>\n",
       "      <th>C(occ2)[7]</th>\n",
       "      <th>C(occ2)[8]</th>\n",
       "      <th>C(occ2)[9]</th>\n",
       "      <th>C(occ2)[10]</th>\n",
       "      <th>...</th>\n",
       "      <th>we:exp1</th>\n",
       "      <th>we:exp2</th>\n",
       "      <th>we:exp3</th>\n",
       "      <th>we:exp4</th>\n",
       "      <th>exp1:exp2</th>\n",
       "      <th>exp1:exp3</th>\n",
       "      <th>exp1:exp4</th>\n",
       "      <th>exp2:exp3</th>\n",
       "      <th>exp2:exp4</th>\n",
       "      <th>exp3:exp4</th>\n",
       "    </tr>\n",
       "  </thead>\n",
       "  <tbody>\n",
       "    <tr>\n",
       "      <th>0</th>\n",
       "      <td>-0.117087</td>\n",
       "      <td>-0.064272</td>\n",
       "      <td>-0.043495</td>\n",
       "      <td>-0.020583</td>\n",
       "      <td>-0.014175</td>\n",
       "      <td>-0.023301</td>\n",
       "      <td>-0.017864</td>\n",
       "      <td>-0.052621</td>\n",
       "      <td>-0.027573</td>\n",
       "      <td>-0.058447</td>\n",
       "      <td>...</td>\n",
       "      <td>-2.979903</td>\n",
       "      <td>-0.64397</td>\n",
       "      <td>-1.736658</td>\n",
       "      <td>-5.25601</td>\n",
       "      <td>-78.928671</td>\n",
       "      <td>-248.779377</td>\n",
       "      <td>-815.793173</td>\n",
       "      <td>-81.579317</td>\n",
       "      <td>-277.601112</td>\n",
       "      <td>-973.333862</td>\n",
       "    </tr>\n",
       "    <tr>\n",
       "      <th>1</th>\n",
       "      <td>-0.117087</td>\n",
       "      <td>-0.064272</td>\n",
       "      <td>-0.043495</td>\n",
       "      <td>-0.020583</td>\n",
       "      <td>-0.014175</td>\n",
       "      <td>-0.023301</td>\n",
       "      <td>-0.017864</td>\n",
       "      <td>-0.052621</td>\n",
       "      <td>-0.027573</td>\n",
       "      <td>0.941553</td>\n",
       "      <td>...</td>\n",
       "      <td>-2.979903</td>\n",
       "      <td>-0.64397</td>\n",
       "      <td>-1.736658</td>\n",
       "      <td>-5.25601</td>\n",
       "      <td>215.551329</td>\n",
       "      <td>672.340623</td>\n",
       "      <td>2045.441227</td>\n",
       "      <td>204.544123</td>\n",
       "      <td>609.784920</td>\n",
       "      <td>1777.845195</td>\n",
       "    </tr>\n",
       "    <tr>\n",
       "      <th>2</th>\n",
       "      <td>-0.117087</td>\n",
       "      <td>-0.064272</td>\n",
       "      <td>-0.043495</td>\n",
       "      <td>-0.020583</td>\n",
       "      <td>-0.014175</td>\n",
       "      <td>-0.023301</td>\n",
       "      <td>-0.017864</td>\n",
       "      <td>-0.052621</td>\n",
       "      <td>-0.027573</td>\n",
       "      <td>-0.058447</td>\n",
       "      <td>...</td>\n",
       "      <td>-2.979903</td>\n",
       "      <td>-0.64397</td>\n",
       "      <td>-1.736658</td>\n",
       "      <td>-5.25601</td>\n",
       "      <td>-24.038671</td>\n",
       "      <td>-146.204377</td>\n",
       "      <td>-628.517073</td>\n",
       "      <td>-62.851707</td>\n",
       "      <td>-243.706537</td>\n",
       "      <td>-912.194213</td>\n",
       "    </tr>\n",
       "    <tr>\n",
       "      <th>3</th>\n",
       "      <td>0.882913</td>\n",
       "      <td>-0.064272</td>\n",
       "      <td>-0.043495</td>\n",
       "      <td>-0.020583</td>\n",
       "      <td>-0.014175</td>\n",
       "      <td>-0.023301</td>\n",
       "      <td>-0.017864</td>\n",
       "      <td>-0.052621</td>\n",
       "      <td>-0.027573</td>\n",
       "      <td>-0.058447</td>\n",
       "      <td>...</td>\n",
       "      <td>-2.979903</td>\n",
       "      <td>-0.64397</td>\n",
       "      <td>-1.736658</td>\n",
       "      <td>-5.25601</td>\n",
       "      <td>73.891329</td>\n",
       "      <td>139.444623</td>\n",
       "      <td>159.088627</td>\n",
       "      <td>15.908863</td>\n",
       "      <td>-33.578136</td>\n",
       "      <td>-363.064653</td>\n",
       "    </tr>\n",
       "    <tr>\n",
       "      <th>4</th>\n",
       "      <td>-0.117087</td>\n",
       "      <td>-0.064272</td>\n",
       "      <td>-0.043495</td>\n",
       "      <td>-0.020583</td>\n",
       "      <td>-0.014175</td>\n",
       "      <td>0.976699</td>\n",
       "      <td>-0.017864</td>\n",
       "      <td>-0.052621</td>\n",
       "      <td>-0.027573</td>\n",
       "      <td>-0.058447</td>\n",
       "      <td>...</td>\n",
       "      <td>-2.979903</td>\n",
       "      <td>-0.64397</td>\n",
       "      <td>-1.736658</td>\n",
       "      <td>-5.25601</td>\n",
       "      <td>24.121329</td>\n",
       "      <td>-16.924377</td>\n",
       "      <td>-302.110673</td>\n",
       "      <td>-30.211067</td>\n",
       "      <td>-164.338857</td>\n",
       "      <td>-723.980427</td>\n",
       "    </tr>\n",
       "    <tr>\n",
       "      <th>...</th>\n",
       "      <td>...</td>\n",
       "      <td>...</td>\n",
       "      <td>...</td>\n",
       "      <td>...</td>\n",
       "      <td>...</td>\n",
       "      <td>...</td>\n",
       "      <td>...</td>\n",
       "      <td>...</td>\n",
       "      <td>...</td>\n",
       "      <td>...</td>\n",
       "      <td>...</td>\n",
       "      <td>...</td>\n",
       "      <td>...</td>\n",
       "      <td>...</td>\n",
       "      <td>...</td>\n",
       "      <td>...</td>\n",
       "      <td>...</td>\n",
       "      <td>...</td>\n",
       "      <td>...</td>\n",
       "      <td>...</td>\n",
       "      <td>...</td>\n",
       "    </tr>\n",
       "    <tr>\n",
       "      <th>5145</th>\n",
       "      <td>-0.117087</td>\n",
       "      <td>-0.064272</td>\n",
       "      <td>-0.043495</td>\n",
       "      <td>-0.020583</td>\n",
       "      <td>-0.014175</td>\n",
       "      <td>-0.023301</td>\n",
       "      <td>-0.017864</td>\n",
       "      <td>-0.052621</td>\n",
       "      <td>-0.027573</td>\n",
       "      <td>-0.058447</td>\n",
       "      <td>...</td>\n",
       "      <td>6.020097</td>\n",
       "      <td>0.16603</td>\n",
       "      <td>-1.007658</td>\n",
       "      <td>-4.59991</td>\n",
       "      <td>-75.068671</td>\n",
       "      <td>-244.619377</td>\n",
       "      <td>-811.568973</td>\n",
       "      <td>-81.156897</td>\n",
       "      <td>-277.187320</td>\n",
       "      <td>-972.937919</td>\n",
       "    </tr>\n",
       "    <tr>\n",
       "      <th>5146</th>\n",
       "      <td>-0.117087</td>\n",
       "      <td>-0.064272</td>\n",
       "      <td>-0.043495</td>\n",
       "      <td>-0.020583</td>\n",
       "      <td>-0.014175</td>\n",
       "      <td>-0.023301</td>\n",
       "      <td>-0.017864</td>\n",
       "      <td>-0.052621</td>\n",
       "      <td>-0.027573</td>\n",
       "      <td>-0.058447</td>\n",
       "      <td>...</td>\n",
       "      <td>9.020097</td>\n",
       "      <td>0.79603</td>\n",
       "      <td>-0.008658</td>\n",
       "      <td>-3.18241</td>\n",
       "      <td>-65.078671</td>\n",
       "      <td>-230.444377</td>\n",
       "      <td>-792.590673</td>\n",
       "      <td>-79.259067</td>\n",
       "      <td>-274.732777</td>\n",
       "      <td>-969.833035</td>\n",
       "    </tr>\n",
       "    <tr>\n",
       "      <th>5147</th>\n",
       "      <td>-0.117087</td>\n",
       "      <td>-0.064272</td>\n",
       "      <td>-0.043495</td>\n",
       "      <td>0.979417</td>\n",
       "      <td>-0.014175</td>\n",
       "      <td>-0.023301</td>\n",
       "      <td>-0.017864</td>\n",
       "      <td>-0.052621</td>\n",
       "      <td>-0.027573</td>\n",
       "      <td>-0.058447</td>\n",
       "      <td>...</td>\n",
       "      <td>8.020097</td>\n",
       "      <td>0.56603</td>\n",
       "      <td>-0.405658</td>\n",
       "      <td>-3.79191</td>\n",
       "      <td>-69.048671</td>\n",
       "      <td>-236.539377</td>\n",
       "      <td>-801.368773</td>\n",
       "      <td>-80.136877</td>\n",
       "      <td>-275.947200</td>\n",
       "      <td>-971.467499</td>\n",
       "    </tr>\n",
       "    <tr>\n",
       "      <th>5148</th>\n",
       "      <td>-0.117087</td>\n",
       "      <td>-0.064272</td>\n",
       "      <td>-0.043495</td>\n",
       "      <td>-0.020583</td>\n",
       "      <td>-0.014175</td>\n",
       "      <td>-0.023301</td>\n",
       "      <td>-0.017864</td>\n",
       "      <td>-0.052621</td>\n",
       "      <td>0.972427</td>\n",
       "      <td>-0.058447</td>\n",
       "      <td>...</td>\n",
       "      <td>7.020097</td>\n",
       "      <td>0.35603</td>\n",
       "      <td>-0.736658</td>\n",
       "      <td>-4.25601</td>\n",
       "      <td>-72.358671</td>\n",
       "      <td>-241.180377</td>\n",
       "      <td>-807.473873</td>\n",
       "      <td>-80.747387</td>\n",
       "      <td>-276.718761</td>\n",
       "      <td>-972.416216</td>\n",
       "    </tr>\n",
       "    <tr>\n",
       "      <th>5149</th>\n",
       "      <td>-0.117087</td>\n",
       "      <td>-0.064272</td>\n",
       "      <td>-0.043495</td>\n",
       "      <td>-0.020583</td>\n",
       "      <td>0.985825</td>\n",
       "      <td>-0.023301</td>\n",
       "      <td>-0.017864</td>\n",
       "      <td>-0.052621</td>\n",
       "      <td>-0.027573</td>\n",
       "      <td>-0.058447</td>\n",
       "      <td>...</td>\n",
       "      <td>11.020097</td>\n",
       "      <td>1.31603</td>\n",
       "      <td>1.007342</td>\n",
       "      <td>-1.41441</td>\n",
       "      <td>-54.918671</td>\n",
       "      <td>-212.764377</td>\n",
       "      <td>-763.691473</td>\n",
       "      <td>-76.369147</td>\n",
       "      <td>-270.189225</td>\n",
       "      <td>-962.874866</td>\n",
       "    </tr>\n",
       "  </tbody>\n",
       "</table>\n",
       "<p>5150 rows × 826 columns</p>\n",
       "</div>"
      ],
      "text/plain": [
       "      C(occ2)[1]  C(occ2)[2]  C(occ2)[3]  C(occ2)[4]  C(occ2)[5]  C(occ2)[6]  \\\n",
       "0      -0.117087   -0.064272   -0.043495   -0.020583   -0.014175   -0.023301   \n",
       "1      -0.117087   -0.064272   -0.043495   -0.020583   -0.014175   -0.023301   \n",
       "2      -0.117087   -0.064272   -0.043495   -0.020583   -0.014175   -0.023301   \n",
       "3       0.882913   -0.064272   -0.043495   -0.020583   -0.014175   -0.023301   \n",
       "4      -0.117087   -0.064272   -0.043495   -0.020583   -0.014175    0.976699   \n",
       "...          ...         ...         ...         ...         ...         ...   \n",
       "5145   -0.117087   -0.064272   -0.043495   -0.020583   -0.014175   -0.023301   \n",
       "5146   -0.117087   -0.064272   -0.043495   -0.020583   -0.014175   -0.023301   \n",
       "5147   -0.117087   -0.064272   -0.043495    0.979417   -0.014175   -0.023301   \n",
       "5148   -0.117087   -0.064272   -0.043495   -0.020583   -0.014175   -0.023301   \n",
       "5149   -0.117087   -0.064272   -0.043495   -0.020583    0.985825   -0.023301   \n",
       "\n",
       "      C(occ2)[7]  C(occ2)[8]  C(occ2)[9]  C(occ2)[10]  ...    we:exp1  \\\n",
       "0      -0.017864   -0.052621   -0.027573    -0.058447  ...  -2.979903   \n",
       "1      -0.017864   -0.052621   -0.027573     0.941553  ...  -2.979903   \n",
       "2      -0.017864   -0.052621   -0.027573    -0.058447  ...  -2.979903   \n",
       "3      -0.017864   -0.052621   -0.027573    -0.058447  ...  -2.979903   \n",
       "4      -0.017864   -0.052621   -0.027573    -0.058447  ...  -2.979903   \n",
       "...          ...         ...         ...          ...  ...        ...   \n",
       "5145   -0.017864   -0.052621   -0.027573    -0.058447  ...   6.020097   \n",
       "5146   -0.017864   -0.052621   -0.027573    -0.058447  ...   9.020097   \n",
       "5147   -0.017864   -0.052621   -0.027573    -0.058447  ...   8.020097   \n",
       "5148   -0.017864   -0.052621    0.972427    -0.058447  ...   7.020097   \n",
       "5149   -0.017864   -0.052621   -0.027573    -0.058447  ...  11.020097   \n",
       "\n",
       "      we:exp2   we:exp3  we:exp4   exp1:exp2   exp1:exp3    exp1:exp4  \\\n",
       "0    -0.64397 -1.736658 -5.25601  -78.928671 -248.779377  -815.793173   \n",
       "1    -0.64397 -1.736658 -5.25601  215.551329  672.340623  2045.441227   \n",
       "2    -0.64397 -1.736658 -5.25601  -24.038671 -146.204377  -628.517073   \n",
       "3    -0.64397 -1.736658 -5.25601   73.891329  139.444623   159.088627   \n",
       "4    -0.64397 -1.736658 -5.25601   24.121329  -16.924377  -302.110673   \n",
       "...       ...       ...      ...         ...         ...          ...   \n",
       "5145  0.16603 -1.007658 -4.59991  -75.068671 -244.619377  -811.568973   \n",
       "5146  0.79603 -0.008658 -3.18241  -65.078671 -230.444377  -792.590673   \n",
       "5147  0.56603 -0.405658 -3.79191  -69.048671 -236.539377  -801.368773   \n",
       "5148  0.35603 -0.736658 -4.25601  -72.358671 -241.180377  -807.473873   \n",
       "5149  1.31603  1.007342 -1.41441  -54.918671 -212.764377  -763.691473   \n",
       "\n",
       "       exp2:exp3   exp2:exp4    exp3:exp4  \n",
       "0     -81.579317 -277.601112  -973.333862  \n",
       "1     204.544123  609.784920  1777.845195  \n",
       "2     -62.851707 -243.706537  -912.194213  \n",
       "3      15.908863  -33.578136  -363.064653  \n",
       "4     -30.211067 -164.338857  -723.980427  \n",
       "...          ...         ...          ...  \n",
       "5145  -81.156897 -277.187320  -972.937919  \n",
       "5146  -79.259067 -274.732777  -969.833035  \n",
       "5147  -80.136877 -275.947200  -971.467499  \n",
       "5148  -80.747387 -276.718761  -972.416216  \n",
       "5149  -76.369147 -270.189225  -962.874866  \n",
       "\n",
       "[5150 rows x 826 columns]"
      ]
     },
     "execution_count": 116,
     "metadata": {},
     "output_type": "execute_result"
    }
   ],
   "source": [
    "Zcontrols"
   ]
  },
  {
   "cell_type": "code",
   "execution_count": 117,
   "metadata": {},
   "outputs": [],
   "source": [
    "Zhet = patsy.dmatrix('0 + (sex+mw+so+we)',\n",
    "                     Z, return_type='dataframe')\n",
    "Zhet = Zhet - Zhet.mean(axis=0)"
   ]
  },
  {
   "cell_type": "code",
   "execution_count": 118,
   "metadata": {},
   "outputs": [],
   "source": [
    "Zhet['clg'] = Z['clg']\n",
    "Zinteractions = patsy.dmatrix('0 + clg + clg * (sex+mw+so+we)',\n",
    "                              Zhet, return_type='dataframe')\n",
    "interaction_cols = [c for c in Zinteractions.columns if c.startswith('clg')]"
   ]
  },
  {
   "cell_type": "code",
   "execution_count": 119,
   "metadata": {},
   "outputs": [
    {
     "data": {
      "text/plain": [
       "(5150, 835)"
      ]
     },
     "execution_count": 119,
     "metadata": {},
     "output_type": "execute_result"
    }
   ],
   "source": [
    "X = pd.concat([Zinteractions, Zcontrols], axis=1)\n",
    "X.shape"
   ]
  },
  {
   "cell_type": "code",
   "execution_count": 120,
   "metadata": {},
   "outputs": [
    {
     "name": "stderr",
     "output_type": "stream",
     "text": [
      "fatal: destination path 'hdmpy' already exists and is not an empty directory.\n"
     ]
    }
   ],
   "source": [
    "! git clone https://github.com/maxhuppertz/hdmpy.git"
   ]
  },
  {
   "cell_type": "code",
   "execution_count": 121,
   "metadata": {},
   "outputs": [],
   "source": [
    "import sys\n",
    "sys.path.insert(1, \"./hdmpy\")"
   ]
  },
  {
   "cell_type": "markdown",
   "metadata": {},
   "source": [
    "### b."
   ]
  },
  {
   "cell_type": "code",
   "execution_count": 122,
   "metadata": {},
   "outputs": [],
   "source": [
    "import hdmpy\n",
    "from sklearn.base import BaseEstimator\n",
    "\n",
    "\n",
    "class RLasso(BaseEstimator):\n",
    "\n",
    "    def __init__(self, *, post=True):\n",
    "        self.post = post\n",
    "\n",
    "    def fit(self, X, y):\n",
    "        self.rlasso_ = hdmpy.rlasso(X, y, post=self.post)\n",
    "        return self\n",
    "\n",
    "    def predict(self, X):\n",
    "        return np.array(X) @ np.array(self.rlasso_.est['beta']).flatten() + np.array(self.rlasso_.est['intercept'])\n",
    "\n",
    "\n",
    "def lasso_model():\n",
    "    return RLasso(post=False)"
   ]
  },
  {
   "cell_type": "code",
   "execution_count": 123,
   "metadata": {},
   "outputs": [
    {
     "name": "stdout",
     "output_type": "stream",
     "text": [
      "Double Lasso for target variable clg\n",
      "Double Lasso for target variable clg:sex\n",
      "Double Lasso for target variable clg:mw\n",
      "Double Lasso for target variable clg:so\n",
      "Double Lasso for target variable clg:we\n"
     ]
    },
    {
     "data": {
      "text/html": [
       "<div>\n",
       "<style scoped>\n",
       "    .dataframe tbody tr th:only-of-type {\n",
       "        vertical-align: middle;\n",
       "    }\n",
       "\n",
       "    .dataframe tbody tr th {\n",
       "        vertical-align: top;\n",
       "    }\n",
       "\n",
       "    .dataframe thead th {\n",
       "        text-align: right;\n",
       "    }\n",
       "</style>\n",
       "<table border=\"1\" class=\"dataframe\">\n",
       "  <thead>\n",
       "    <tr style=\"text-align: right;\">\n",
       "      <th></th>\n",
       "      <th>Estimate</th>\n",
       "      <th>Std. Error</th>\n",
       "      <th>p-value</th>\n",
       "      <th>ci_lower</th>\n",
       "      <th>ci_upper</th>\n",
       "    </tr>\n",
       "  </thead>\n",
       "  <tbody>\n",
       "    <tr>\n",
       "      <th>clg</th>\n",
       "      <td>0.143604</td>\n",
       "      <td>0.016108</td>\n",
       "      <td>4.878729e-19</td>\n",
       "      <td>0.112032</td>\n",
       "      <td>0.175176</td>\n",
       "    </tr>\n",
       "    <tr>\n",
       "      <th>clg:sex</th>\n",
       "      <td>-0.003092</td>\n",
       "      <td>0.030546</td>\n",
       "      <td>9.193622e-01</td>\n",
       "      <td>-0.062963</td>\n",
       "      <td>0.056778</td>\n",
       "    </tr>\n",
       "    <tr>\n",
       "      <th>clg:mw</th>\n",
       "      <td>0.042197</td>\n",
       "      <td>0.043585</td>\n",
       "      <td>3.329644e-01</td>\n",
       "      <td>-0.043229</td>\n",
       "      <td>0.127623</td>\n",
       "    </tr>\n",
       "    <tr>\n",
       "      <th>clg:so</th>\n",
       "      <td>-0.004830</td>\n",
       "      <td>0.040447</td>\n",
       "      <td>9.049469e-01</td>\n",
       "      <td>-0.084106</td>\n",
       "      <td>0.074446</td>\n",
       "    </tr>\n",
       "    <tr>\n",
       "      <th>clg:we</th>\n",
       "      <td>-0.067521</td>\n",
       "      <td>0.042548</td>\n",
       "      <td>1.125227e-01</td>\n",
       "      <td>-0.150914</td>\n",
       "      <td>0.015872</td>\n",
       "    </tr>\n",
       "  </tbody>\n",
       "</table>\n",
       "</div>"
      ],
      "text/plain": [
       "         Estimate  Std. Error       p-value  ci_lower  ci_upper\n",
       "clg      0.143604    0.016108  4.878729e-19  0.112032  0.175176\n",
       "clg:sex -0.003092    0.030546  9.193622e-01 -0.062963  0.056778\n",
       "clg:mw   0.042197    0.043585  3.329644e-01 -0.043229  0.127623\n",
       "clg:so  -0.004830    0.040447  9.049469e-01 -0.084106  0.074446\n",
       "clg:we  -0.067521    0.042548  1.125227e-01 -0.150914  0.015872"
      ]
     },
     "execution_count": 123,
     "metadata": {},
     "output_type": "execute_result"
    }
   ],
   "source": [
    "alpha = {}\n",
    "res_y, res_D, epsilon = {}, {}, {}\n",
    "for c in interaction_cols:\n",
    "    print(f\"Double Lasso for target variable {c}\")\n",
    "    D = X[c].values\n",
    "    W = X.drop([c], axis=1)\n",
    "    res_y[c] = y - lasso_model().fit(W, y).predict(W)\n",
    "    res_D[c] = D - lasso_model().fit(W, D).predict(W)\n",
    "    final = LinearRegression(fit_intercept=False).fit(res_D[c].reshape(-1, 1), res_y[c])\n",
    "    epsilon[c] = res_y[c] - final.predict(res_D[c].reshape(-1, 1))\n",
    "    alpha[c] = [final.coef_[0]]\n",
    "\n",
    "V = np.zeros((len(interaction_cols), len(interaction_cols)))\n",
    "for it, c in enumerate(interaction_cols):\n",
    "    Jc = np.mean(res_D[c]**2)\n",
    "    for itp, cp in enumerate(interaction_cols):\n",
    "        Jcp = np.mean(res_D[cp]**2)\n",
    "        Sigma = np.mean(res_D[c] * epsilon[c] * epsilon[cp] * res_D[cp])\n",
    "        V[it, itp] = Sigma / (Jc * Jcp)\n",
    "\n",
    "n = X.shape[0]\n",
    "for it, c in enumerate(interaction_cols):\n",
    "    alpha[c] += [np.sqrt(V[it, it] / n)]\n",
    "\n",
    "df = pd.DataFrame.from_dict(alpha, orient='index', columns=['point', 'stderr'])\n",
    "\n",
    "summary = pd.DataFrame()\n",
    "summary['Estimate'] = df['point']\n",
    "summary['Std. Error'] = df['stderr']\n",
    "summary['p-value'] = norm.sf(np.abs(df['point'] / df['stderr']), loc=0, scale=1) * 2\n",
    "summary['ci_lower'] = df['point'] - 1.96 * df['stderr']\n",
    "summary['ci_upper'] = df['point'] + 1.96 * df['stderr']\n",
    "summary"
   ]
  },
  {
   "cell_type": "markdown",
   "metadata": {},
   "source": [
    "### c."
   ]
  },
  {
   "cell_type": "code",
   "execution_count": 124,
   "metadata": {},
   "outputs": [
    {
     "data": {
      "text/html": [
       "<div>\n",
       "<style scoped>\n",
       "    .dataframe tbody tr th:only-of-type {\n",
       "        vertical-align: middle;\n",
       "    }\n",
       "\n",
       "    .dataframe tbody tr th {\n",
       "        vertical-align: top;\n",
       "    }\n",
       "\n",
       "    .dataframe thead th {\n",
       "        text-align: right;\n",
       "    }\n",
       "</style>\n",
       "<table border=\"1\" class=\"dataframe\">\n",
       "  <thead>\n",
       "    <tr style=\"text-align: right;\">\n",
       "      <th></th>\n",
       "      <th>Estimate</th>\n",
       "      <th>CI lower</th>\n",
       "      <th>CI upper</th>\n",
       "    </tr>\n",
       "  </thead>\n",
       "  <tbody>\n",
       "    <tr>\n",
       "      <th>clg</th>\n",
       "      <td>0.143604</td>\n",
       "      <td>0.102425</td>\n",
       "      <td>0.184783</td>\n",
       "    </tr>\n",
       "    <tr>\n",
       "      <th>clg:sex</th>\n",
       "      <td>-0.003092</td>\n",
       "      <td>-0.081181</td>\n",
       "      <td>0.074996</td>\n",
       "    </tr>\n",
       "    <tr>\n",
       "      <th>clg:mw</th>\n",
       "      <td>0.042197</td>\n",
       "      <td>-0.069224</td>\n",
       "      <td>0.153618</td>\n",
       "    </tr>\n",
       "    <tr>\n",
       "      <th>clg:so</th>\n",
       "      <td>-0.004830</td>\n",
       "      <td>-0.108230</td>\n",
       "      <td>0.098570</td>\n",
       "    </tr>\n",
       "    <tr>\n",
       "      <th>clg:we</th>\n",
       "      <td>-0.067521</td>\n",
       "      <td>-0.176290</td>\n",
       "      <td>0.041248</td>\n",
       "    </tr>\n",
       "  </tbody>\n",
       "</table>\n",
       "</div>"
      ],
      "text/plain": [
       "         Estimate  CI lower  CI upper\n",
       "clg      0.143604  0.102425  0.184783\n",
       "clg:sex -0.003092 -0.081181  0.074996\n",
       "clg:mw   0.042197 -0.069224  0.153618\n",
       "clg:so  -0.004830 -0.108230  0.098570\n",
       "clg:we  -0.067521 -0.176290  0.041248"
      ]
     },
     "execution_count": 124,
     "metadata": {},
     "output_type": "execute_result"
    }
   ],
   "source": [
    "Drootinv = np.diagflat(1 / np.sqrt(np.diag(V)))\n",
    "scaledCov = Drootinv @ V @ Drootinv\n",
    "np.random.seed(123)\n",
    "U = np.random.multivariate_normal(np.zeros(scaledCov.shape[0]), scaledCov, size=10000)\n",
    "z = np.max(np.abs(U), axis=1)\n",
    "c = np.percentile(z, 95)\n",
    "\n",
    "summary = pd.DataFrame()\n",
    "summary['Estimate'] = df['point']\n",
    "summary['CI lower'] = df['point'] - c * df['stderr']\n",
    "summary['CI upper'] = df['point'] + c * df['stderr']\n",
    "summary"
   ]
  },
  {
   "cell_type": "markdown",
   "metadata": {},
   "source": [
    "### d. "
   ]
  },
  {
   "cell_type": "markdown",
   "metadata": {},
   "source": [
    "Aunque obtener un título universitario tiene un impacto positivo en los ingresos, las interacciones analizadas no muestran efectos significativos. Esto sugiere que no hay diferencias relevantes en cómo el sexo o la ubicación geográfica influyen en los beneficios económicos de tener un título."
   ]
  },
  {
   "cell_type": "markdown",
   "metadata": {},
   "source": [
    "## 2. DAG"
   ]
  },
  {
   "cell_type": "markdown",
   "metadata": {},
   "source": [
    "### a."
   ]
  },
  {
   "cell_type": "code",
   "execution_count": 125,
   "metadata": {},
   "outputs": [
    {
     "data": {
      "image/png": "[encoded data removed]",
      "text/plain": [
       "<Figure size 1000x800 with 1 Axes>"
      ]
     },
     "metadata": {},
     "output_type": "display_data"
    }
   ],
   "source": [
    "import networkx as nx\n",
    "import matplotlib.pyplot as plt\n",
    "\n",
    "graph = nx.DiGraph()\n",
    "\n",
    "graph.add_edges_from([\n",
    "    (\"Individual smoking behavior\", \"Forced respiratory volume\"), \n",
    "    (\"Age\", \"Forced respiratory volume\"), \n",
    "    (\"Age\", \"Individual smoking behavior\"), \n",
    "    (\"Sex\", \"Individual smoking behavior\"), \n",
    "    (\"Sex\", \"Forced respiratory volume\"), \n",
    "    (\"Height\", \"Forced respiratory volume\"), \n",
    "])\n",
    "\n",
    "plt.figure(figsize=(10, 8))\n",
    "\n",
    "pos = nx.spring_layout(graph, seed=42)  \n",
    "\n",
    "nx.draw(graph, pos, with_labels=True, node_size=3500, node_color=\"skyblue\", font_size=12, \n",
    "        font_weight=\"bold\", edge_color=\"black\", width=2, arrowsize=15, alpha=0.7, font_color=\"black\")\n",
    "\n",
    "for label, (x, y) in pos.items():\n",
    "    plt.text(x, y, label, color='black', ha='center', va='center', fontsize=12, fontweight='bold')\n",
    "\n",
    "plt.title(\"Directed Acyclic Graph (DAG)\", fontsize=16, fontweight='bold')\n",
    "\n",
    "plt.tight_layout()\n",
    "plt.show()\n"
   ]
  },
  {
   "cell_type": "markdown",
   "metadata": {},
   "source": [
    "confounders: \n",
    "\"Age\" afecta tanto a \"Individual smoking behavior\" como a \"Forced respiratory volume\".\n",
    "\"Sex\" afecta tanto a \"Individual smoking behavior\" como a \"Forced respiratory volume\".\n",
    "\n",
    "colliders:\n",
    "\"Forced respiratory volume\" es afectado por  \"Individual smoking behavior\", \"Age\", \"Sex\", y \"Height\".\n",
    "controles"
   ]
  },
  {
   "cell_type": "markdown",
   "metadata": {},
   "source": [
    "### b."
   ]
  },
  {
   "cell_type": "code",
   "execution_count": 126,
   "metadata": {},
   "outputs": [
    {
     "data": {
      "image/png": "[encoded data removed]",
      "text/plain": [
       "<Figure size 1000x800 with 1 Axes>"
      ]
     },
     "metadata": {},
     "output_type": "display_data"
    }
   ],
   "source": [
    "import networkx as nx\n",
    "import matplotlib.pyplot as plt\n",
    "\n",
    "graph = nx.DiGraph()\n",
    "\n",
    "graph.add_edges_from([\n",
    "    (\"Breast fed\", \"Number of infections\"), \n",
    "    (\"Marital status\", \"Family income\"),      \n",
    "    (\"Family income\", \"Breast fed\"),        \n",
    "    (\"Family income\", \"Childcare outside home\"),  \n",
    "    (\"Education\", \"Family income\"),           \n",
    "    (\"Number of children\", \"Breast fed\"),  \n",
    "    (\"Childcare outside home\", \"Number of infections\")  \n",
    "])\n",
    "\n",
    "plt.figure(figsize=(10, 8))\n",
    "\n",
    "pos = nx.spring_layout(graph, seed=42) \n",
    "\n",
    "nx.draw(graph, pos, with_labels=True, node_size=3500, node_color=\"skyblue\", font_size=12, \n",
    "        font_weight=\"bold\", edge_color=\"black\", width=2, arrowsize=15, alpha=0.7, font_color=\"black\")\n",
    "\n",
    "for label, (x, y) in pos.items():\n",
    "    plt.text(x, y, label, color='black', ha='center', va='center', fontsize=12, fontweight='bold')\n",
    "\n",
    "plt.title(\"Directed Acyclic Graph (DAG)\", fontsize=16, fontweight='bold')\n",
    "\n",
    "# Display the plot\n",
    "plt.tight_layout()\n",
    "plt.show()\n"
   ]
  },
  {
   "cell_type": "markdown",
   "metadata": {},
   "source": [
    "\n",
    "Confounders\n",
    "\"Family income\" afecta tanto a \"Breast fed\" como a \"Childcare outside home\".  \n",
    "\n",
    "Colliders:\n",
    "\"Family income\" es afectado por \"Marital status\" y \"Education\".  \n",
    "\"Number of infections\" es afectado por flechas de \"Breast fed\" y \"Childcare outside home\"."
   ]
  },
  {
   "cell_type": "markdown",
   "metadata": {},
   "source": [
    "## 3."
   ]
  },
  {
   "cell_type": "markdown",
   "metadata": {},
   "source": [
    "### 3.1."
   ]
  },
  {
   "cell_type": "code",
   "execution_count": 127,
   "metadata": {},
   "outputs": [],
   "source": [
    "file= \"https://raw.githubusercontent.com/selva86/datasets/master/Hitters.csv\""
   ]
  },
  {
   "cell_type": "code",
   "execution_count": 128,
   "metadata": {},
   "outputs": [],
   "source": [
    "data = pd.read_csv(file)"
   ]
  },
  {
   "cell_type": "code",
   "execution_count": 129,
   "metadata": {},
   "outputs": [],
   "source": [
    "data= data.dropna()"
   ]
  },
  {
   "cell_type": "code",
   "execution_count": 130,
   "metadata": {},
   "outputs": [
    {
     "name": "stdout",
     "output_type": "stream",
     "text": [
      "   C(League)[A]  C(League)[N]  C(Division)[T.W]  C(NewLeague)[T.N]  AtBat  \\\n",
      "1           0.0           1.0               1.0                1.0  315.0   \n",
      "2           1.0           0.0               1.0                0.0  479.0   \n",
      "3           0.0           1.0               0.0                1.0  496.0   \n",
      "4           0.0           1.0               0.0                1.0  321.0   \n",
      "5           1.0           0.0               1.0                0.0  594.0   \n",
      "\n",
      "    Hits  HmRun  Runs   RBI  Walks  ...  CAtBat   CHits  CHmRun  CRuns   CRBI  \\\n",
      "1   81.0    7.0  24.0  38.0   39.0  ...  3449.0   835.0    69.0  321.0  414.0   \n",
      "2  130.0   18.0  66.0  72.0   76.0  ...  1624.0   457.0    63.0  224.0  266.0   \n",
      "3  141.0   20.0  65.0  78.0   37.0  ...  5628.0  1575.0   225.0  828.0  838.0   \n",
      "4   87.0   10.0  39.0  42.0   30.0  ...   396.0   101.0    12.0   48.0   46.0   \n",
      "5  169.0    4.0  74.0  51.0   35.0  ...  4408.0  1133.0    19.0  501.0  336.0   \n",
      "\n",
      "   CWalks  PutOuts  Assists  Errors  Salary  \n",
      "1   375.0    632.0     43.0    10.0   475.0  \n",
      "2   263.0    880.0     82.0    14.0   480.0  \n",
      "3   354.0    200.0     11.0     3.0   500.0  \n",
      "4    33.0    805.0     40.0     4.0    91.5  \n",
      "5   194.0    282.0    421.0    25.0   750.0  \n",
      "\n",
      "[5 rows x 21 columns]\n"
     ]
    }
   ],
   "source": [
    "data_trabajada = patsy.dmatrix('0+ AtBat + Hits + HmRun + Runs + RBI + Walks + Years + CAtBat + CHits + CHmRun + CRuns + CRBI + CWalks + C(League) + C(Division) + PutOuts + Assists + Errors + Salary + C(NewLeague)',\n",
    "    data,\n",
    "    return_type='dataframe'\n",
    ")\n",
    "\n",
    "print(data_trabajada.head())\n"
   ]
  },
  {
   "cell_type": "code",
   "execution_count": 131,
   "metadata": {},
   "outputs": [],
   "source": [
    "data_trabajada=data_trabajada.drop(\"C(League)[A]\", axis=1)"
   ]
  },
  {
   "cell_type": "markdown",
   "metadata": {},
   "source": [
    "### 3.2."
   ]
  },
  {
   "cell_type": "code",
   "execution_count": 132,
   "metadata": {},
   "outputs": [],
   "source": [
    "train, test  = train_test_split(data_trabajada ,train_size = .9, shuffle = True)\n"
   ]
  },
  {
   "cell_type": "code",
   "execution_count": 133,
   "metadata": {},
   "outputs": [],
   "source": [
    "x_train = train.drop(\"Salary\", axis=1)\n",
    "y_train = train[\"Salary\"]"
   ]
  },
  {
   "cell_type": "code",
   "execution_count": 134,
   "metadata": {},
   "outputs": [],
   "source": [
    "x_test = test.drop(\"Salary\", axis=1)\n",
    "y_test = test[\"Salary\"]"
   ]
  },
  {
   "cell_type": "markdown",
   "metadata": {},
   "source": [
    "### 3.3."
   ]
  },
  {
   "cell_type": "markdown",
   "metadata": {},
   "source": [
    "#### 3.3.1"
   ]
  },
  {
   "cell_type": "code",
   "execution_count": 135,
   "metadata": {},
   "outputs": [
    {
     "name": "stdout",
     "output_type": "stream",
     "text": [
      "Error Cuadrático Medio (MSE): 94746.9145959579\n"
     ]
    }
   ],
   "source": [
    "\n",
    "model_hat = LinearRegression().fit(x_train.values, y_train.values)\n",
    "\n",
    "beta_hat = np.hstack((model_hat.intercept_, model_hat.coef_))\n",
    "\n",
    "y_pred = model_hat.predict(x_train.values)\n",
    "\n",
    "mse = mean_squared_error(y_train.values, y_pred)\n",
    "\n",
    "print(f\"Error Cuadrático Medio (MSE): {mse}\")\n"
   ]
  },
  {
   "cell_type": "code",
   "execution_count": 136,
   "metadata": {},
   "outputs": [
    {
     "name": "stdout",
     "output_type": "stream",
     "text": [
      "                            OLS Regression Results                            \n",
      "==============================================================================\n",
      "Dep. Variable:                 Salary   R-squared:                       0.534\n",
      "Model:                            OLS   Adj. R-squared:                  0.493\n",
      "Method:                 Least Squares   F-statistic:                     13.01\n",
      "Date:                Mon, 18 Nov 2024   Prob (F-statistic):           1.97e-26\n",
      "Time:                        16:56:46   Log-Likelihood:                -1687.0\n",
      "No. Observations:                 236   AIC:                             3414.\n",
      "Df Residuals:                     216   BIC:                             3483.\n",
      "Df Model:                          19                                         \n",
      "Covariance Type:            nonrobust                                         \n",
      "=====================================================================================\n",
      "                        coef    std err          t      P>|t|      [0.025      0.975]\n",
      "-------------------------------------------------------------------------------------\n",
      "const               210.0562     97.961      2.144      0.033      16.975     403.137\n",
      "C(League)[N]         56.7837     88.715      0.640      0.523    -118.074     231.642\n",
      "C(Division)[T.W]   -124.4566     44.215     -2.815      0.005    -211.605     -37.308\n",
      "C(NewLeague)[T.N]   -16.8122     89.489     -0.188      0.851    -193.196     159.572\n",
      "AtBat                -2.1881      0.674     -3.245      0.001      -3.517      -0.859\n",
      "Hits                  6.9818      2.556      2.731      0.007       1.943      12.021\n",
      "HmRun                 3.3119      6.897      0.480      0.632     -10.281      16.905\n",
      "Runs                 -0.9658      3.206     -0.301      0.764      -7.286       5.354\n",
      "RBI                  -0.0982      2.852     -0.034      0.973      -5.719       5.523\n",
      "Walks                 5.7979      1.937      2.993      0.003       1.980       9.616\n",
      "Years                -4.6994     13.488     -0.348      0.728     -31.285      21.886\n",
      "CAtBat               -0.1419      0.143     -0.991      0.323      -0.424       0.140\n",
      "CHits                -0.0748      0.751     -0.100      0.921      -1.554       1.405\n",
      "CHmRun               -1.1548      1.803     -0.641      0.522      -4.708       2.398\n",
      "CRuns                 1.5890      0.844      1.882      0.061      -0.075       3.253\n",
      "CRBI                  1.1488      0.771      1.491      0.138      -0.370       2.668\n",
      "CWalks               -0.8791      0.354     -2.485      0.014      -1.576      -0.182\n",
      "PutOuts               0.2935      0.082      3.597      0.000       0.133       0.454\n",
      "Assists               0.4029      0.231      1.744      0.083      -0.052       0.858\n",
      "Errors               -3.4298      4.570     -0.751      0.454     -12.437       5.577\n",
      "==============================================================================\n",
      "Omnibus:                       75.444   Durbin-Watson:                   1.964\n",
      "Prob(Omnibus):                  0.000   Jarque-Bera (JB):              331.484\n",
      "Skew:                           1.214   Prob(JB):                     1.05e-72\n",
      "Kurtosis:                       8.274   Cond. No.                     2.23e+04\n",
      "==============================================================================\n",
      "\n",
      "Notes:\n",
      "[1] Standard Errors assume that the covariance matrix of the errors is correctly specified.\n",
      "[2] The condition number is large, 2.23e+04. This might indicate that there are\n",
      "strong multicollinearity or other numerical problems.\n"
     ]
    }
   ],
   "source": [
    "\n",
    "x_train_with_intercept = sm.add_constant(x_train)\n",
    "\n",
    "model = sm.OLS(y_train, x_train_with_intercept).fit()\n",
    "\n",
    "print(model.summary())"
   ]
  },
  {
   "cell_type": "markdown",
   "metadata": {},
   "source": [
    "#### 3.3.2. y 3.3.3."
   ]
  },
  {
   "cell_type": "code",
   "execution_count": 137,
   "metadata": {},
   "outputs": [
    {
     "name": "stdout",
     "output_type": "stream",
     "text": [
      "b0 simple bootstrap (Intercepto)\n",
      "-40.25996201338273 to 504.5452130138729\n",
      "--------------------\n",
      "b1, b2, ..., bn simple bootstrap (Coeficientes)\n",
      "b1: -89.55120109883455 to 223.0427994062013\n",
      "b2: -203.30537754894894 to -36.09369632926491\n",
      "b3: -187.41085890945067 to 145.82377784643649\n",
      "b4: -3.7272176854746375 to -0.4194762962631943\n",
      "b5: 0.06103515399776353 to 12.65997329891485\n",
      "b6: -11.971788760857594 to 17.544595875137997\n",
      "b7: -7.474281688594271 to 5.822963893116561\n",
      "b8: -6.033985089014813 to 6.854880503756222\n",
      "b9: 1.3376561081742055 to 9.365901867066357\n",
      "b10: -31.973410940645017 to 18.841438304763283\n",
      "b11: -0.5718893906036556 to 0.2348147832049565\n",
      "b12: -1.8625366637953693 to 2.2617307955561183\n",
      "b13: -5.16220884718793 to 3.7808127128172933\n",
      "b14: -0.39857485668909065 to 3.40395234348495\n",
      "b15: -1.0072583498526846 to 2.740084016286335\n",
      "b16: -1.6347399128687832 to 0.08688864989187413\n",
      "b17: 0.09563637998808808 to 0.49901318128148126\n",
      "b18: -0.13204170747375987 to 1.023763632307196\n",
      "b19: -12.701212395962468 to 4.833616798414754\n"
     ]
    }
   ],
   "source": [
    "\n",
    "\n",
    "M = 10_000\n",
    "\n",
    "n_features = x_train.shape[1]\n",
    "\n",
    "\n",
    "beta_hat_boost = np.zeros((M, n_features + 1))  \n",
    "\n",
    "for i in range(M):\n",
    "    Z = np.hstack((x_train.values, y_train.values.reshape(-1, 1)))\n",
    "\n",
    "    random_index = np.random.choice(Z.shape[0], Z.shape[0], replace=True)\n",
    "\n",
    "    Z_boost = Z[random_index]\n",
    "\n",
    "    model_boost = LinearRegression().fit(Z_boost[:, :-1], Z_boost[:, -1])\n",
    "\n",
    "    beta_hat_boost[i, :] = np.hstack((model_boost.intercept_, model_boost.coef_))\n",
    "\n",
    "lower_bound_b0_boost = np.percentile(beta_hat_boost[:, 0], 2.5)\n",
    "upper_bound_b0_boost = np.percentile(beta_hat_boost[:, 0], 97.5)\n",
    "\n",
    "lower_bound_b_boost = np.percentile(beta_hat_boost[:, 1:], 2.5, axis=0)\n",
    "upper_bound_b_boost = np.percentile(beta_hat_boost[:, 1:], 97.5, axis=0)\n",
    "\n",
    "print('b0 simple bootstrap (Intercepto)')\n",
    "print(f\"{lower_bound_b0_boost} to {upper_bound_b0_boost}\")\n",
    "print('--------------------')\n",
    "print('b1, b2, ..., bn simple bootstrap (Coeficientes)')\n",
    "for j in range(n_features):\n",
    "    print(f\"b{j+1}: {lower_bound_b_boost[j]} to {upper_bound_b_boost[j]}\")\n"
   ]
  },
  {
   "cell_type": "code",
   "execution_count": 138,
   "metadata": {},
   "outputs": [
    {
     "name": "stdout",
     "output_type": "stream",
     "text": [
      "Resultados por beta:\n",
      "Beta 0: Intervalo de confianza empirico [-84.4327, 460.3724]\n",
      "Beta 1: Intervalo de confianza empirico [-109.4753, 203.1187]\n",
      "Beta 2: Intervalo de confianza empirico [-212.8196, -45.6079]\n",
      "Beta 3: Intervalo de confianza empirico [-179.4482, 153.7864]\n",
      "Beta 4: Intervalo de confianza empirico [-3.9566, -0.6489]\n",
      "Beta 5: Intervalo de confianza empirico [1.3036, 13.9025]\n",
      "Beta 6: Intervalo de confianza empirico [-10.9207, 18.5957]\n",
      "Beta 7: Intervalo de confianza empirico [-7.7545, 5.5428]\n",
      "Beta 8: Intervalo de confianza empirico [-7.0512, 5.8377]\n",
      "Beta 9: Intervalo de confianza empirico [2.2299, 10.2582]\n",
      "Beta 10: Intervalo de confianza empirico [-28.2403, 22.5746]\n",
      "Beta 11: Intervalo de confianza empirico [-0.5186, 0.2881]\n",
      "Beta 12: Intervalo de confianza empirico [-2.4113, 1.7130]\n",
      "Beta 13: Intervalo de confianza empirico [-6.0904, 2.8526]\n",
      "Beta 14: Intervalo de confianza empirico [-0.2259, 3.5766]\n",
      "Beta 15: Intervalo de confianza empirico [-0.4424, 3.3049]\n",
      "Beta 16: Intervalo de confianza empirico [-1.8451, -0.1235]\n",
      "Beta 17: Intervalo de confianza empirico [0.0879, 0.4913]\n",
      "Beta 18: Intervalo de confianza empirico [-0.2179, 0.9379]\n",
      "Beta 19: Intervalo de confianza empirico [-11.6932, 5.8416]\n"
     ]
    }
   ],
   "source": [
    "n = beta_hat.shape[0]\n",
    "\n",
    "lower_bounds_hall = np.zeros(n)\n",
    "upper_bounds_hall = np.zeros(n)\n",
    "\n",
    "for i in range(n):\n",
    "    delta_b = beta_hat_boost[:, i] - beta_hat[i]  \n",
    "    lower_bounds_hall[i] = beta_hat[i] - np.percentile(delta_b, 97.5)  \n",
    "    upper_bounds_hall[i] = beta_hat[i] - np.percentile(delta_b, 2.5)  \n",
    "\n",
    "print(\"Resultados por beta:\")\n",
    "for i in range(n):\n",
    "    print(f\"Beta {i}: Intervalo de confianza empirico [{lower_bounds_hall[i]:.4f}, {upper_bounds_hall[i]:.4f}]\")\n"
   ]
  },
  {
   "cell_type": "markdown",
   "metadata": {},
   "source": [
    "#### 3.3.4."
   ]
  },
  {
   "cell_type": "code",
   "execution_count": 139,
   "metadata": {},
   "outputs": [
    {
     "name": "stdout",
     "output_type": "stream",
     "text": [
      "Promedio de MSE entre muestras bootstrap: 84599.94722718994\n"
     ]
    }
   ],
   "source": [
    "x_test_with_intercept = np.hstack((np.ones((x_test.shape[0], 1)), x_test.values))\n",
    "\n",
    "y_pred_boost = np.zeros((M, x_test.shape[0]))\n",
    "\n",
    "for i in range(M):\n",
    "    y_pred_boost[i, :] = np.dot(x_test_with_intercept, beta_hat_boost[i, :])\n",
    "\n",
    "mse_boost = np.mean((y_pred_boost - y_test.values.reshape(1, -1)) ** 2, axis=1)\n",
    "\n",
    "avg_mse_boost = np.mean(mse_boost)\n",
    "\n",
    "print(f\"Promedio de MSE entre muestras bootstrap: {avg_mse_boost}\")"
   ]
  },
  {
   "cell_type": "markdown",
   "metadata": {},
   "source": [
    "### 3.4."
   ]
  },
  {
   "cell_type": "markdown",
   "metadata": {},
   "source": [
    "### 3.4.1"
   ]
  },
  {
   "cell_type": "code",
   "execution_count": 140,
   "metadata": {},
   "outputs": [],
   "source": [
    "alphas = np.exp(np.linspace(-2, 10, 100))\n",
    "folds = KFold(3, shuffle = True, random_state = 123)\n",
    "rmses = np.zeros(alphas.shape)\n",
    "\n",
    "for i, alpha in enumerate(alphas):\n",
    "        tree = DecisionTreeRegressor(ccp_alpha = alpha, random_state = 123)\n",
    "        results = cross_validate(tree, x_train, y_train, cv = folds, scoring = \"neg_root_mean_squared_error\")\n",
    "        rmses[i] = (- results[\"test_score\"]).mean()"
   ]
  },
  {
   "cell_type": "code",
   "execution_count": 141,
   "metadata": {},
   "outputs": [
    {
     "data": {
      "image/png": "[encoded data removed]",
      "text/plain": [
       "<Figure size 640x480 with 1 Axes>"
      ]
     },
     "metadata": {},
     "output_type": "display_data"
    }
   ],
   "source": [
    "_, ax = plt.subplots()\n",
    "ax.plot(np.log(alphas), rmses)\n",
    "ax.set_xlabel(\"$\\\\log\\\\alpha$\")\n",
    "ax.set_ylabel(\"RMSE\")\n",
    "plt.show()"
   ]
  },
  {
   "cell_type": "code",
   "execution_count": 142,
   "metadata": {},
   "outputs": [
    {
     "data": {
      "text/plain": [
       "3575.3493899890987"
      ]
     },
     "execution_count": 142,
     "metadata": {},
     "output_type": "execute_result"
    }
   ],
   "source": [
    "optimal_alpha = alphas[np.argmin(rmses)]\n",
    "optimal_alpha"
   ]
  },
  {
   "cell_type": "markdown",
   "metadata": {},
   "source": [
    "### 3.4.2."
   ]
  },
  {
   "cell_type": "code",
   "execution_count": 143,
   "metadata": {},
   "outputs": [
    {
     "name": "stdout",
     "output_type": "stream",
     "text": [
      "Promedio de MSE de regression tree: 307.71829723120067\n"
     ]
    }
   ],
   "source": [
    "tree_model_prune = DecisionTreeRegressor(ccp_alpha = optimal_alpha, random_state = 123)\n",
    "tree_model_prune.fit(x_train, y_train)\n",
    "pruned_predictions = tree_model_prune.predict(x_test)\n",
    "mse=np.sqrt(((y_test - pruned_predictions) ** 2).mean())\n",
    "print(f\"Promedio de MSE de regression tree: {mse}\")\n"
   ]
  },
  {
   "cell_type": "markdown",
   "metadata": {},
   "source": [
    "### 3.5."
   ]
  },
  {
   "cell_type": "markdown",
   "metadata": {},
   "source": [
    "Entre los dos modelos el que tiene un mejor perfomance es el modelo de regression trees ya que presenta un MSE menor al de bootstrapping cuando se prueba la capacidad predictiva con la data de testeo"
   ]
  }
 ],
 "metadata": {
  "kernelspec": {
   "display_name": "Python 3",
   "language": "python",
   "name": "python3"
  },
  "language_info": {
   "codemirror_mode": {
    "name": "ipython",
    "version": 3
   },
   "file_extension": ".py",
   "mimetype": "text/x-python",
   "name": "python",
   "nbconvert_exporter": "python",
   "pygments_lexer": "ipython3",
   "version": "3.9.13"
  }
 },
 "nbformat": 4,
 "nbformat_minor": 2
}
