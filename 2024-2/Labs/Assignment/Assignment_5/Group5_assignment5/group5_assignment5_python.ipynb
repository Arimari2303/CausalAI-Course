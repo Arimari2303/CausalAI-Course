{
 "cells": [
  {
   "cell_type": "code",
   "execution_count": 4,
   "metadata": {},
   "outputs": [],
   "source": [
    "\n",
    "import pandas as pd\n",
    "from econml.dml import CausalForestDML\n",
    "from sklearn.tree import DecisionTreeRegressor\n",
    "from sklearn.ensemble import RandomForestRegressor\n",
    "from sklearn.preprocessing import StandardScaler\n",
    "from sklearn.model_selection import train_test_split\n",
    "import matplotlib.pyplot as plt\n",
    "\n"
   ]
  },
  {
   "cell_type": "code",
   "execution_count": null,
   "metadata": {},
   "outputs": [
    {
     "name": "stdout",
     "output_type": "stream",
     "text": [
      "Collecting econmlNote: you may need to restart the kernel to use updated packages.\n",
      "\n",
      "  Downloading econml-0.15.1-cp39-cp39-win_amd64.whl (2.0 MB)\n",
      "     ---------------------------------------- 2.0/2.0 MB 455.8 kB/s eta 0:00:00\n",
      "Collecting shap<0.44.0,>=0.38.1\n",
      "  Downloading shap-0.43.0-cp39-cp39-win_amd64.whl (447 kB)\n",
      "     ------------------------------------ 447.3/447.3 KB 508.8 kB/s eta 0:00:00\n",
      "Requirement already satisfied: pandas>1.0 in c:\\python\\python39\\lib\\site-packages (from econml) (2.1.3)\n",
      "Requirement already satisfied: packaging in c:\\users\\personal\\appdata\\roaming\\python\\python39\\site-packages (from econml) (23.2)\n",
      "Requirement already satisfied: numpy<2 in c:\\python\\python39\\lib\\site-packages (from econml) (1.26.2)\n",
      "Requirement already satisfied: statsmodels>=0.10 in c:\\python\\python39\\lib\\site-packages (from econml) (0.14.0)\n",
      "Requirement already satisfied: joblib>=0.13.0 in c:\\python\\python39\\lib\\site-packages (from econml) (1.4.2)\n",
      "Requirement already satisfied: scikit-learn<1.6,>=1.0 in c:\\python\\python39\\lib\\site-packages (from econml) (1.5.1)\n",
      "Requirement already satisfied: scipy>1.4.0 in c:\\python\\python39\\lib\\site-packages (from econml) (1.11.4)\n",
      "Collecting lightgbm\n",
      "  Downloading lightgbm-4.5.0-py3-none-win_amd64.whl (1.4 MB)\n",
      "     ---------------------------------------- 1.4/1.4 MB 624.3 kB/s eta 0:00:00\n",
      "Collecting sparse\n",
      "  Downloading sparse-0.15.4-py2.py3-none-any.whl (237 kB)\n",
      "     ------------------------------------ 237.3/237.3 KB 242.3 kB/s eta 0:00:00\n",
      "Requirement already satisfied: python-dateutil>=2.8.2 in c:\\users\\personal\\appdata\\roaming\\python\\python39\\site-packages (from pandas>1.0->econml) (2.8.2)\n",
      "Requirement already satisfied: tzdata>=2022.1 in c:\\python\\python39\\lib\\site-packages (from pandas>1.0->econml) (2023.3)\n",
      "Requirement already satisfied: pytz>=2020.1 in c:\\python\\python39\\lib\\site-packages (from pandas>1.0->econml) (2023.3.post1)\n",
      "Requirement already satisfied: threadpoolctl>=3.1.0 in c:\\python\\python39\\lib\\site-packages (from scikit-learn<1.6,>=1.0->econml) (3.5.0)\n",
      "Collecting numba\n",
      "  Downloading numba-0.60.0-cp39-cp39-win_amd64.whl (2.7 MB)\n",
      "     ---------------------------------------- 2.7/2.7 MB 800.5 kB/s eta 0:00:00\n",
      "Collecting slicer==0.0.7\n",
      "  Downloading slicer-0.0.7-py3-none-any.whl (14 kB)\n",
      "Collecting cloudpickle\n",
      "  Downloading cloudpickle-3.1.0-py3-none-any.whl (22 kB)\n",
      "Collecting tqdm>=4.27.0\n",
      "  Downloading tqdm-4.67.1-py3-none-any.whl (78 kB)\n",
      "     ---------------------------------------- 78.5/78.5 KB 1.1 MB/s eta 0:00:00\n",
      "Requirement already satisfied: patsy>=0.5.2 in c:\\python\\python39\\lib\\site-packages (from statsmodels>=0.10->econml) (0.5.4)\n",
      "Collecting llvmlite<0.44,>=0.43.0dev0\n",
      "  Downloading llvmlite-0.43.0-cp39-cp39-win_amd64.whl (28.1 MB)\n",
      "     -------------------------------------- 28.1/28.1 MB 930.4 kB/s eta 0:00:00\n",
      "Requirement already satisfied: six in c:\\users\\personal\\appdata\\roaming\\python\\python39\\site-packages (from patsy>=0.5.2->statsmodels>=0.10->econml) (1.16.0)\n",
      "Requirement already satisfied: colorama in c:\\users\\personal\\appdata\\roaming\\python\\python39\\site-packages (from tqdm>=4.27.0->shap<0.44.0,>=0.38.1->econml) (0.4.6)\n",
      "Installing collected packages: tqdm, slicer, llvmlite, cloudpickle, numba, lightgbm, sparse, shap, econml\n",
      "Successfully installed cloudpickle-3.1.0 econml-0.15.1 lightgbm-4.5.0 llvmlite-0.43.0 numba-0.60.0 shap-0.43.0 slicer-0.0.7 sparse-0.15.4 tqdm-4.67.1\n"
     ]
    },
    {
     "name": "stderr",
     "output_type": "stream",
     "text": [
      "WARNING: You are using pip version 22.0.4; however, version 24.3.1 is available.\n",
      "You should consider upgrading via the 'c:\\Python\\Python39\\python.exe -m pip install --upgrade pip' command.\n"
     ]
    }
   ],
   "source": [
    "pip install econml\n",
    "\n",
    "\n"
   ]
  },
  {
   "cell_type": "markdown",
   "metadata": {},
   "source": [
    "Heterogeneous treatment effects using causal trees and forests"
   ]
  },
  {
   "cell_type": "code",
   "execution_count": 5,
   "metadata": {},
   "outputs": [
    {
     "name": "stdout",
     "output_type": "stream",
     "text": [
      "Dataset Loaded:\n",
      "   treat  age  educ  black  hisp  marr  nodegree  re74  re75          re78\n",
      "0      1   37    11      1     0     1         1   0.0   0.0   9930.045898\n",
      "1      1   22     9      0     1     0         1   0.0   0.0   3595.894043\n",
      "2      1   30    12      1     0     0         0   0.0   0.0  24909.449219\n",
      "3      1   27    11      1     0     0         1   0.0   0.0   7506.145996\n",
      "4      1   33     8      1     0     0         1   0.0   0.0    289.789886\n"
     ]
    }
   ],
   "source": [
    "# Load the dataset\n",
    "url = \"https://raw.githubusercontent.com/d2cml-ai/CausalAI-Course/main/Labs/Assignment/Assignment_5/data/experimental/experimental_control.csv\"\n",
    "data = pd.read_csv(url)\n",
    "\n",
    "# Display first few rows of the dataset\n",
    "print(\"Dataset Loaded:\")\n",
    "print(data.head())"
   ]
  },
  {
   "cell_type": "code",
   "execution_count": 6,
   "metadata": {},
   "outputs": [
    {
     "name": "stdout",
     "output_type": "stream",
     "text": [
      "Average Treatment Effect (ATE): 1794.3423818501024\n"
     ]
    }
   ],
   "source": [
    "# Step 2: Calculate the Average Treatment Effect (ATE)\n",
    "outcome = \"re78\"\n",
    "treatment = \"treat\"\n",
    "control_group = data[data[treatment] == 0]\n",
    "treatment_group = data[data[treatment] == 1]\n",
    "\n",
    "# Calculate the ATE\n",
    "ate = treatment_group[outcome].mean() - control_group[outcome].mean()\n",
    "print(f\"Average Treatment Effect (ATE): {ate}\")"
   ]
  },
  {
   "cell_type": "code",
   "execution_count": 9,
   "metadata": {},
   "outputs": [
    {
     "name": "stdout",
     "output_type": "stream",
     "text": [
      "Requirement already satisfied: econml in c:\\python\\python39\\lib\\site-packages (0.15.1)\n",
      "Requirement already satisfied: sparse in c:\\python\\python39\\lib\\site-packages (from econml) (0.15.4)\n",
      "Requirement already satisfied: scikit-learn<1.6,>=1.0 in c:\\python\\python39\\lib\\site-packages (from econml) (1.5.1)\n",
      "Requirement already satisfied: joblib>=0.13.0 in c:\\python\\python39\\lib\\site-packages (from econml) (1.4.2)\n",
      "Requirement already satisfied: shap<0.44.0,>=0.38.1 in c:\\python\\python39\\lib\\site-packages (from econml) (0.43.0)\n",
      "Requirement already satisfied: lightgbm in c:\\python\\python39\\lib\\site-packages (from econml) (4.5.0)\n",
      "Requirement already satisfied: numpy<2 in c:\\python\\python39\\lib\\site-packages (from econml) (1.26.2)\n",
      "Requirement already satisfied: statsmodels>=0.10 in c:\\python\\python39\\lib\\site-packages (from econml) (0.14.0)\n",
      "Requirement already satisfied: scipy>1.4.0 in c:\\python\\python39\\lib\\site-packages (from econml) (1.11.4)\n",
      "Requirement already satisfied: pandas>1.0 in c:\\python\\python39\\lib\\site-packages (from econml) (2.1.3)\n",
      "Requirement already satisfied: packaging in c:\\users\\personal\\appdata\\roaming\\python\\python39\\site-packages (from econml) (23.2)\n",
      "Requirement already satisfied: python-dateutil>=2.8.2 in c:\\users\\personal\\appdata\\roaming\\python\\python39\\site-packages (from pandas>1.0->econml) (2.8.2)\n",
      "Requirement already satisfied: pytz>=2020.1 in c:\\python\\python39\\lib\\site-packages (from pandas>1.0->econml) (2023.3.post1)\n",
      "Requirement already satisfied: tzdata>=2022.1 in c:\\python\\python39\\lib\\site-packages (from pandas>1.0->econml) (2023.3)\n",
      "Requirement already satisfied: threadpoolctl>=3.1.0 in c:\\python\\python39\\lib\\site-packages (from scikit-learn<1.6,>=1.0->econml) (3.5.0)\n",
      "Requirement already satisfied: tqdm>=4.27.0 in c:\\python\\python39\\lib\\site-packages (from shap<0.44.0,>=0.38.1->econml) (4.67.1)\n",
      "Requirement already satisfied: cloudpickle in c:\\python\\python39\\lib\\site-packages (from shap<0.44.0,>=0.38.1->econml) (3.1.0)\n",
      "Requirement already satisfied: slicer==0.0.7 in c:\\python\\python39\\lib\\site-packages (from shap<0.44.0,>=0.38.1->econml) (0.0.7)\n",
      "Requirement already satisfied: numba in c:\\python\\python39\\lib\\site-packages (from shap<0.44.0,>=0.38.1->econml) (0.60.0)\n",
      "Requirement already satisfied: patsy>=0.5.2 in c:\\python\\python39\\lib\\site-packages (from statsmodels>=0.10->econml) (0.5.4)\n",
      "Requirement already satisfied: llvmlite<0.44,>=0.43.0dev0 in c:\\python\\python39\\lib\\site-packages (from numba->shap<0.44.0,>=0.38.1->econml) (0.43.0)\n",
      "Requirement already satisfied: six in c:\\users\\personal\\appdata\\roaming\\python\\python39\\site-packages (from patsy>=0.5.2->statsmodels>=0.10->econml) (1.16.0)\n",
      "Requirement already satisfied: colorama in c:\\users\\personal\\appdata\\roaming\\python\\python39\\site-packages (from tqdm>=4.27.0->shap<0.44.0,>=0.38.1->econml) (0.4.6)\n",
      "Note: you may need to restart the kernel to use updated packages.\n"
     ]
    },
    {
     "name": "stderr",
     "output_type": "stream",
     "text": [
      "WARNING: You are using pip version 22.0.4; however, version 24.3.1 is available.\n",
      "You should consider upgrading via the 'c:\\Python\\Python39\\python.exe -m pip install --upgrade pip' command.\n"
     ]
    }
   ],
   "source": [
    "pip install --upgrade econml\n"
   ]
  },
  {
   "cell_type": "code",
   "execution_count": 10,
   "metadata": {},
   "outputs": [],
   "source": [
    "from econml.dml import CausalForestDML\n",
    "from sklearn.ensemble import RandomForestRegressor\n",
    "from sklearn.model_selection import train_test_split"
   ]
  },
  {
   "cell_type": "code",
   "execution_count": 14,
   "metadata": {},
   "outputs": [],
   "source": [
    "# Step 3: Heterogeneous Effects with Causal Trees\n",
    "# Prepare X, y, and treatment data\n",
    "X = data.drop(columns=[outcome, treatment])\n",
    "y = data[outcome]\n",
    "d = data[treatment]\n",
    "\n",
    "# Dividir los datos en conjuntos de entrenamiento y prueba\n",
    "X_train, X_test, y_train, y_test, d_train, d_test = train_test_split(X, y, d, test_size=0.3, random_state=42)\n"
   ]
  },
  {
   "cell_type": "code",
   "execution_count": 15,
   "metadata": {},
   "outputs": [
    {
     "name": "stderr",
     "output_type": "stream",
     "text": [
      "First stage model has discrete target but model is not a classifier!\n",
      "First stage model has discrete target but model is not a classifier!\n"
     ]
    },
    {
     "data": {
      "image/png": "[encoded data removed]",
      "text/plain": [
       "<Figure size 640x480 with 1 Axes>"
      ]
     },
     "metadata": {},
     "output_type": "display_data"
    },
    {
     "name": "stdout",
     "output_type": "stream",
     "text": [
      "Estimated Treatment Effects: [ 7073.53815374   668.18807563  1428.54274488   462.61113491\n",
      "  4734.21795738  2149.00918724  4940.05717455   217.58901629\n",
      "   589.13875546  2009.09540809  2149.00918724  2281.69455897\n",
      "  1357.59512011 -1027.61505569   652.85056912  4395.15072697\n",
      "  1750.40782494  1796.79022668   771.93700011  -612.64444257\n",
      "  2156.36842289  6772.69331689  5486.83490238   875.22903979\n",
      "  5501.74293082  4654.3492519    -99.09658862  3860.45870685\n",
      "  -282.21835393 -1194.05658557   491.37164262   579.73208573\n",
      "  2704.88051652  2149.00918724   670.34169605  1189.62995794\n",
      "  3727.13320437  1439.28233561  5263.53279912   509.12428527\n",
      "   584.38616536  2014.64867365   919.07215287   943.24655744\n",
      "  4957.45073245  -477.04204215  2643.56140019   880.36254386\n",
      "  2002.86660386  1026.69531466   591.9765018    689.41762759\n",
      " -1574.24865494   -20.77030244  1309.34380232  1141.93934125\n",
      "  2377.38566376    15.54630921  2343.52628694  2840.30435026\n",
      "  4297.70594014  5569.47304625   303.08119454  2607.23467733\n",
      " -1027.61505569   357.20490013  4240.55942884 -1027.61505569\n",
      "  5356.4857506   1162.719915    5224.65644142   460.58517474\n",
      "  4981.67007967  3275.89178701    60.69181484   691.84724402\n",
      "  1347.84714382  3302.66874859 -1485.0121139   -627.76134089\n",
      "   905.12350954  3090.73090929    60.69181484   326.11389199\n",
      "   522.23116899   471.8971929   1534.91484572  2427.19072635\n",
      "  2364.24402403  2009.09540809 -1027.61505569  5790.75754605\n",
      "  1382.66419577   509.12428527  1959.89941724  4268.21542019\n",
      "  2002.86660386  1856.43260549  1589.84586968  2002.86660386\n",
      "  2002.86660386    15.54630921  -257.98194732  4801.57284884\n",
      "    60.69181484  3283.10999661  1630.23990661  2343.58240782\n",
      " -1141.53791478  1761.35641579  2327.22591932  1128.12846642\n",
      "  6417.44320018  2643.56140019  7536.83163117  2469.55374048\n",
      "   362.21324047  1249.55999002  5790.75754605  3093.23976833\n",
      "  2643.56140019    60.69181484  3292.03064304   154.64243072\n",
      "  5790.75754605  -292.517237    4297.70594014  1649.17008968\n",
      "    46.38902305   625.10035039  4759.2190061   1649.17008968\n",
      "  5356.4857506   5275.09248689]\n"
     ]
    }
   ],
   "source": [
    "# Modelo de CausalForestDML\n",
    "model = CausalForestDML(model_y=RandomForestRegressor(),\n",
    "                        model_t=RandomForestRegressor(),\n",
    "                        discrete_treatment=True,\n",
    "                        random_state=0)\n",
    "\n",
    "# Entrenar el modelo\n",
    "model.fit(y_train, d_train, X=X_train)\n",
    "\n",
    "# Estimar los efectos del tratamiento en el conjunto de prueba\n",
    "effects = model.effect(X_test)\n",
    "# Visualizar los efectos del tratamiento para una variable específica\n",
    "variable_to_plot = \"age\"  # Ejemplo: 'age' como variable para ver cómo cambia el efecto\n",
    "plt.scatter(X_test[variable_to_plot], effects)\n",
    "plt.xlabel(variable_to_plot)\n",
    "plt.ylabel(\"Estimated Treatment Effect\")\n",
    "plt.title(f\"Heterogeneous Treatment Effects by {variable_to_plot}\")\n",
    "plt.show()\n",
    "\n",
    "# Mostrar los efectos de tratamiento estimados\n",
    "print(\"Estimated Treatment Effects:\", effects)"
   ]
  },
  {
   "cell_type": "code",
   "execution_count": 17,
   "metadata": {},
   "outputs": [
    {
     "name": "stderr",
     "output_type": "stream",
     "text": [
      "First stage model has discrete target but model is not a classifier!\n",
      "First stage model has discrete target but model is not a classifier!\n"
     ]
    },
    {
     "name": "stdout",
     "output_type": "stream",
     "text": [
      "Causal Forest Feature Importances:\n",
      "[0.26359213 0.14545558 0.02055945 0.0099746  0.04885722 0.02729061\n",
      " 0.21228727 0.27198314]\n"
     ]
    }
   ],
   "source": [
    "\n",
    "# Step 4: Heterogeneous Effects with Causal Forests\n",
    "# Train causal forest\n",
    "forest = CausalForestDML(model_y=RandomForestRegressor(),\n",
    "                         model_t=RandomForestRegressor(),\n",
    "                         discrete_treatment=True,\n",
    "                         random_state=0)\n",
    "forest.fit(y, d, X=X, W=None)\n",
    "\n",
    "# Feature importance\n",
    "feature_importances = forest.feature_importances()\n",
    "print(\"Causal Forest Feature Importances:\")\n",
    "print(feature_importances)\n",
    "\n"
   ]
  },
  {
   "cell_type": "code",
   "execution_count": 18,
   "metadata": {},
   "outputs": [
    {
     "data": {
      "image/png": "[encoded data removed]",
      "text/plain": [
       "<Figure size 640x480 with 1 Axes>"
      ]
     },
     "metadata": {},
     "output_type": "display_data"
    }
   ],
   "source": [
    "# Step 5: Plot Heterogeneous Effects\n",
    "# Select a variable to analyze treatment effect\n",
    "variable_to_plot = \"age\"  # Example variable\n",
    "effects = forest.effect(X)\n",
    "\n",
    "# Plot the treatment effect vs selected variable\n",
    "plt.scatter(X[variable_to_plot], effects)\n",
    "plt.xlabel(variable_to_plot)\n",
    "plt.ylabel(\"Estimated Treatment Effect\")\n",
    "plt.title(f\"Heterogeneous Effects by {variable_to_plot}\")\n",
    "plt.show()\n"
   ]
  },
  {
   "cell_type": "markdown",
   "metadata": {},
   "source": [
    "Double/Debiased machine learning in observational data"
   ]
  },
  {
   "cell_type": "code",
   "execution_count": 19,
   "metadata": {},
   "outputs": [],
   "source": [
    "import pandas as pd\n",
    "import numpy as np\n",
    "from sklearn.model_selection import train_test_split\n",
    "from sklearn.ensemble import RandomForestRegressor\n",
    "from sklearn.linear_model import LinearRegression\n",
    "from sklearn.metrics import mean_squared_error\n",
    "import matplotlib.pyplot as plt\n",
    "from econml.dml import LinearDML"
   ]
  },
  {
   "cell_type": "code",
   "execution_count": 20,
   "metadata": {},
   "outputs": [
    {
     "name": "stdout",
     "output_type": "stream",
     "text": [
      "   treat  age  educ  black  hisp  marr  nodegree       re74       re75  \\\n",
      "0      0   45    11      0     0     1         1  21.516670  25.243551   \n",
      "1      0   21    14      0     0     0         0   3.175971   5.852565   \n",
      "2      0   38    12      0     0     1         0  23.039020  25.130760   \n",
      "3      0   48     6      0     0     1         1  24.994369  25.243551   \n",
      "4      0   18     8      0     0     1         1   1.669295  10.727610   \n",
      "\n",
      "        re78  agesq  agecube  educsq  u74  u75  interaction1      re74sq  \\\n",
      "0  25.564670   2025    91125     121    0    0    236.683369  462.967085   \n",
      "1  13.496080    441     9261     196    0    0     44.463593   10.086791   \n",
      "2  25.564670   1444    54872     144    0    0    276.468234  530.796421   \n",
      "3  25.564670   2304   110592      36    0    0    149.966215  624.718489   \n",
      "4   9.860869    324     5832      64    0    0     13.354360    2.786546   \n",
      "\n",
      "       re75sq  \n",
      "0  637.236856  \n",
      "1   34.252516  \n",
      "2  631.555086  \n",
      "3  637.236856  \n",
      "4  115.081624  \n"
     ]
    }
   ],
   "source": [
    "# 2.1. Cargar los Datos\n",
    "url = \"https://raw.githubusercontent.com/d2cml-ai/CausalAI-Course/main/Labs/Assignment/Assignment_5/data/observational/biased_control.csv\"\n",
    "data = pd.read_csv(url)\n",
    "\n",
    "# Mostrar las primeras filas del conjunto de datos para ver la estructura\n",
    "print(data.head())"
   ]
  },
  {
   "cell_type": "code",
   "execution_count": 21,
   "metadata": {},
   "outputs": [],
   "source": [
    "# Asumimos que las columnas relevantes son las siguientes:\n",
    "outcome = \"re78\"  # Variable de resultado\n",
    "treatment = \"treat\"  # Tratamiento\n",
    "X = data.drop(columns=[outcome, treatment])  # Variables predictoras\n",
    "y = data[outcome]  # Variable de resultado\n",
    "d = data[treatment]  # Tratamiento\n",
    "\n",
    "# Dividir en grupos de tratamiento y control\n",
    "treatment_group = data[data[treatment] == 1]\n",
    "control_group = data[data[treatment] == 0]"
   ]
  },
  {
   "cell_type": "code",
   "execution_count": 29,
   "metadata": {},
   "outputs": [
    {
     "name": "stdout",
     "output_type": "stream",
     "text": [
      "age      0\n",
      "educ     0\n",
      "black    0\n",
      "dtype: int64\n"
     ]
    }
   ],
   "source": [
    "# 2.2. Comparación de Grupos - Estadísticas Descriptivas\n",
    "# Seleccionamos tres variables para comparar\n",
    "# Ajusta las variables a comparar con las columnas disponibles\n",
    "variables_to_compare = [\"age\", \"educ\", \"black\"]  # Usa las columnas correctas disponibles\n",
    "\n",
    "# Verificar si hay valores nulos en las columnas seleccionadas\n",
    "print(data[variables_to_compare].isnull().sum())\n",
    "\n"
   ]
  },
  {
   "cell_type": "code",
   "execution_count": 30,
   "metadata": {},
   "outputs": [],
   "source": [
    "# Si hay valores nulos, eliminarlos o manejarlos\n",
    "data_clean = data.dropna(subset=variables_to_compare)"
   ]
  },
  {
   "cell_type": "code",
   "execution_count": 31,
   "metadata": {},
   "outputs": [
    {
     "name": "stdout",
     "output_type": "stream",
     "text": [
      "\n",
      "Estadísticas del grupo de tratamiento:\n",
      "              age        educ       black\n",
      "count  185.000000  185.000000  185.000000\n",
      "mean    25.816216   10.345946    0.843243\n",
      "std      7.155019    2.010650    0.364558\n",
      "min     17.000000    4.000000    0.000000\n",
      "25%     20.000000    9.000000    1.000000\n",
      "50%     25.000000   11.000000    1.000000\n",
      "75%     29.000000   12.000000    1.000000\n",
      "max     48.000000   16.000000    1.000000\n"
     ]
    }
   ],
   "source": [
    "# Comparar las estadísticas descriptivas para el grupo de tratamiento\n",
    "treatment_group = data_clean[data_clean['treat'] == 1]\n",
    "control_group = data_clean[data_clean['treat'] == 0]\n",
    "\n",
    "# Estadísticas descriptivas para el grupo de tratamiento\n",
    "print(\"\\nEstadísticas del grupo de tratamiento:\")\n",
    "print(treatment_group[variables_to_compare].describe())"
   ]
  },
  {
   "cell_type": "code",
   "execution_count": 32,
   "metadata": {},
   "outputs": [
    {
     "name": "stdout",
     "output_type": "stream",
     "text": [
      "\n",
      "Estadísticas del grupo de control:\n",
      "                age          educ         black\n",
      "count  15992.000000  15992.000000  15992.000000\n",
      "mean      33.225238     12.027514      0.073537\n",
      "std       11.045216      2.870846      0.261024\n",
      "min       16.000000      0.000000      0.000000\n",
      "25%       24.000000     11.000000      0.000000\n",
      "50%       31.000000     12.000000      0.000000\n",
      "75%       42.000000     13.000000      0.000000\n",
      "max       55.000000     18.000000      1.000000\n"
     ]
    }
   ],
   "source": [
    "\n",
    "# Estadísticas descriptivas para el grupo de control\n",
    "print(\"\\nEstadísticas del grupo de control:\")\n",
    "print(control_group[variables_to_compare].describe())\n",
    "\n"
   ]
  },
  {
   "cell_type": "code",
   "execution_count": 33,
   "metadata": {},
   "outputs": [
    {
     "name": "stdout",
     "output_type": "stream",
     "text": [
      "\n",
      "Diferencia de medias para age:\n",
      "Grupo de tratamiento: 25.816216216216215\n",
      "Grupo de control: 33.2252376188094\n",
      "Diferencia de medias (SMD): -7.409021402593186\n",
      "\n",
      "Diferencia de medias para educ:\n",
      "Grupo de tratamiento: 10.345945945945946\n",
      "Grupo de control: 12.02751375687844\n",
      "Diferencia de medias (SMD): -1.6815678109324939\n",
      "\n",
      "Diferencia de medias para black:\n",
      "Grupo de tratamiento: 0.8432432432432433\n",
      "Grupo de control: 0.0735367683841921\n",
      "Diferencia de medias (SMD): 0.7697064748590512\n"
     ]
    }
   ],
   "source": [
    "# 2.3. Calcular la SMD (Simple Difference of Means)\n",
    "# Calculamos la diferencia de medias para cada variable seleccionada\n",
    "for var in variables_to_compare:\n",
    "    mean_treat = treatment_group[var].mean()\n",
    "    mean_control = control_group[var].mean()\n",
    "    print(f\"\\nDiferencia de medias para {var}:\")\n",
    "    print(f\"Grupo de tratamiento: {mean_treat}\")\n",
    "    print(f\"Grupo de control: {mean_control}\")\n",
    "    print(f\"Diferencia de medias (SMD): {mean_treat - mean_control}\")"
   ]
  },
  {
   "cell_type": "code",
   "execution_count": 34,
   "metadata": {},
   "outputs": [
    {
     "name": "stderr",
     "output_type": "stream",
     "text": [
      "First stage model has discrete target but model is not a classifier!\n"
     ]
    },
    {
     "name": "stdout",
     "output_type": "stream",
     "text": [
      "\n",
      "Efectos estimados del tratamiento:\n",
      "[-1.50715891 -5.11568933  4.53912892 ... -6.68813604 -3.49610047\n",
      "  2.16825899]\n"
     ]
    },
    {
     "name": "stderr",
     "output_type": "stream",
     "text": [
      "First stage model has discrete target but model is not a classifier!\n"
     ]
    }
   ],
   "source": [
    "# 2.4. Uso de DML para estimación del ATE\n",
    "# Dividir los datos en conjuntos de entrenamiento y prueba\n",
    "X_train, X_test, y_train, y_test, d_train, d_test = train_test_split(X, y, d, test_size=0.3, random_state=42)\n",
    "\n",
    "# Ajustar el modelo de DML utilizando LinearDML de econml\n",
    "model = LinearDML(model_y=RandomForestRegressor(),\n",
    "                  model_t=RandomForestRegressor(),\n",
    "                  discrete_treatment=True,\n",
    "                  random_state=0)\n",
    "\n",
    "# Ajustar el modelo con los datos de entrenamiento\n",
    "model.fit(y_train, d_train, X=X_train)\n",
    "\n",
    "# Estimar los efectos del tratamiento sobre el conjunto de prueba\n",
    "effects = model.effect(X_test)\n",
    "\n",
    "# Mostrar los efectos estimados del tratamiento\n",
    "print(\"\\nEfectos estimados del tratamiento:\")\n",
    "print(effects)\n"
   ]
  },
  {
   "cell_type": "code",
   "execution_count": 38,
   "metadata": {},
   "outputs": [
    {
     "name": "stdout",
     "output_type": "stream",
     "text": [
      "Los modelos base no están configurados correctamente en LinearDML.\n",
      "\n",
      "Efectos estimados del tratamiento:\n",
      "[-1.50715891 -5.11568933  4.53912892 ... -6.68813604 -3.49610047\n",
      "  2.16825899]\n"
     ]
    }
   ],
   "source": [
    "# Verificar si los modelos base están configurados y disponibles\n",
    "if hasattr(model, 'model_y_') and hasattr(model, 'model_t_'):\n",
    "    # Obtener predicciones del modelo de Y (resultado)\n",
    "    y_pred = model.model_y_.predict(X_test)\n",
    "    \n",
    "    # Obtener predicciones del modelo de T (tratamiento)\n",
    "    d_pred = model.model_t_.predict(X_test)\n",
    "    \n",
    "    # Calcular el MSE (Mean Squared Error)\n",
    "    mse_y = mean_squared_error(y_test, y_pred)\n",
    "    mse_d = mean_squared_error(d_test, d_pred)\n",
    "    \n",
    "    # Mostrar los resultados\n",
    "    print(f\"MSE para la predicción de Y: {mse_y}\")\n",
    "    print(f\"MSE para la predicción de D: {mse_d}\")\n",
    "else:\n",
    "    print(\"Los modelos base no están configurados correctamente en LinearDML.\")\n",
    "\n",
    "# Calcular los efectos causales estimados\n",
    "try:\n",
    "    effects = model.effect(X_test)\n",
    "    print(\"\\nEfectos estimados del tratamiento:\")\n",
    "    print(effects)\n",
    "except Exception as e:\n",
    "    print(f\"Error al calcular los efectos causales: {e}\")\n"
   ]
  }
 ],
 "metadata": {
  "kernelspec": {
   "display_name": "Python 3",
   "language": "python",
   "name": "python3"
  },
  "language_info": {
   "codemirror_mode": {
    "name": "ipython",
    "version": 3
   },
   "file_extension": ".py",
   "mimetype": "text/x-python",
   "name": "python",
   "nbconvert_exporter": "python",
   "pygments_lexer": "ipython3",
   "version": "3.9.13"
  }
 },
 "nbformat": 4,
 "nbformat_minor": 2
}
