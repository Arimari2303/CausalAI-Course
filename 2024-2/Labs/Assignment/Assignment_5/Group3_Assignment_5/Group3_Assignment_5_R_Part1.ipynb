{
 "cells": [
  {
   "cell_type": "code",
   "execution_count": 16,
   "metadata": {
    "vscode": {
     "languageId": "r"
    }
   },
   "outputs": [
    {
     "name": "stderr",
     "output_type": "stream",
     "text": [
      "Warning message:\n",
      "\"package 'grf' is in use and will not be installed\"\n"
     ]
    }
   ],
   "source": [
    "install.packages(\"grf\")"
   ]
  },
  {
   "cell_type": "code",
   "execution_count": 17,
   "metadata": {
    "vscode": {
     "languageId": "r"
    }
   },
   "outputs": [],
   "source": [
    "library(fastDummies)\n",
    "library(grf)\n",
    "library(ggplot2)\n",
    "library(forcats)"
   ]
  },
  {
   "cell_type": "markdown",
   "metadata": {},
   "source": [
    "## 1. Load Data"
   ]
  },
  {
   "cell_type": "code",
   "execution_count": 18,
   "metadata": {
    "vscode": {
     "languageId": "r"
    }
   },
   "outputs": [
    {
     "data": {
      "text/html": [
       "<table class=\"dataframe\">\n",
       "<caption>A data.frame: 6 × 10</caption>\n",
       "<thead>\n",
       "\t<tr><th></th><th scope=col>treat</th><th scope=col>age</th><th scope=col>educ</th><th scope=col>black</th><th scope=col>hisp</th><th scope=col>marr</th><th scope=col>nodegree</th><th scope=col>re74</th><th scope=col>re75</th><th scope=col>re78</th></tr>\n",
       "\t<tr><th></th><th scope=col>&lt;int&gt;</th><th scope=col>&lt;int&gt;</th><th scope=col>&lt;int&gt;</th><th scope=col>&lt;int&gt;</th><th scope=col>&lt;int&gt;</th><th scope=col>&lt;int&gt;</th><th scope=col>&lt;int&gt;</th><th scope=col>&lt;dbl&gt;</th><th scope=col>&lt;dbl&gt;</th><th scope=col>&lt;dbl&gt;</th></tr>\n",
       "</thead>\n",
       "<tbody>\n",
       "\t<tr><th scope=row>1</th><td>1</td><td>37</td><td>11</td><td>1</td><td>0</td><td>1</td><td>1</td><td>0</td><td>0</td><td> 9930.0459</td></tr>\n",
       "\t<tr><th scope=row>2</th><td>1</td><td>22</td><td> 9</td><td>0</td><td>1</td><td>0</td><td>1</td><td>0</td><td>0</td><td> 3595.8940</td></tr>\n",
       "\t<tr><th scope=row>3</th><td>1</td><td>30</td><td>12</td><td>1</td><td>0</td><td>0</td><td>0</td><td>0</td><td>0</td><td>24909.4492</td></tr>\n",
       "\t<tr><th scope=row>4</th><td>1</td><td>27</td><td>11</td><td>1</td><td>0</td><td>0</td><td>1</td><td>0</td><td>0</td><td> 7506.1460</td></tr>\n",
       "\t<tr><th scope=row>5</th><td>1</td><td>33</td><td> 8</td><td>1</td><td>0</td><td>0</td><td>1</td><td>0</td><td>0</td><td>  289.7899</td></tr>\n",
       "\t<tr><th scope=row>6</th><td>1</td><td>22</td><td> 9</td><td>1</td><td>0</td><td>0</td><td>1</td><td>0</td><td>0</td><td> 4056.4939</td></tr>\n",
       "</tbody>\n",
       "</table>\n"
      ],
      "text/latex": [
       "A data.frame: 6 × 10\n",
       "\\begin{tabular}{r|llllllllll}\n",
       "  & treat & age & educ & black & hisp & marr & nodegree & re74 & re75 & re78\\\\\n",
       "  & <int> & <int> & <int> & <int> & <int> & <int> & <int> & <dbl> & <dbl> & <dbl>\\\\\n",
       "\\hline\n",
       "\t1 & 1 & 37 & 11 & 1 & 0 & 1 & 1 & 0 & 0 &  9930.0459\\\\\n",
       "\t2 & 1 & 22 &  9 & 0 & 1 & 0 & 1 & 0 & 0 &  3595.8940\\\\\n",
       "\t3 & 1 & 30 & 12 & 1 & 0 & 0 & 0 & 0 & 0 & 24909.4492\\\\\n",
       "\t4 & 1 & 27 & 11 & 1 & 0 & 0 & 1 & 0 & 0 &  7506.1460\\\\\n",
       "\t5 & 1 & 33 &  8 & 1 & 0 & 0 & 1 & 0 & 0 &   289.7899\\\\\n",
       "\t6 & 1 & 22 &  9 & 1 & 0 & 0 & 1 & 0 & 0 &  4056.4939\\\\\n",
       "\\end{tabular}\n"
      ],
      "text/markdown": [
       "\n",
       "A data.frame: 6 × 10\n",
       "\n",
       "| <!--/--> | treat &lt;int&gt; | age &lt;int&gt; | educ &lt;int&gt; | black &lt;int&gt; | hisp &lt;int&gt; | marr &lt;int&gt; | nodegree &lt;int&gt; | re74 &lt;dbl&gt; | re75 &lt;dbl&gt; | re78 &lt;dbl&gt; |\n",
       "|---|---|---|---|---|---|---|---|---|---|---|\n",
       "| 1 | 1 | 37 | 11 | 1 | 0 | 1 | 1 | 0 | 0 |  9930.0459 |\n",
       "| 2 | 1 | 22 |  9 | 0 | 1 | 0 | 1 | 0 | 0 |  3595.8940 |\n",
       "| 3 | 1 | 30 | 12 | 1 | 0 | 0 | 0 | 0 | 0 | 24909.4492 |\n",
       "| 4 | 1 | 27 | 11 | 1 | 0 | 0 | 1 | 0 | 0 |  7506.1460 |\n",
       "| 5 | 1 | 33 |  8 | 1 | 0 | 0 | 1 | 0 | 0 |   289.7899 |\n",
       "| 6 | 1 | 22 |  9 | 1 | 0 | 0 | 1 | 0 | 0 |  4056.4939 |\n",
       "\n"
      ],
      "text/plain": [
       "  treat age educ black hisp marr nodegree re74 re75 re78      \n",
       "1 1     37  11   1     0    1    1        0    0     9930.0459\n",
       "2 1     22   9   0     1    0    1        0    0     3595.8940\n",
       "3 1     30  12   1     0    0    0        0    0    24909.4492\n",
       "4 1     27  11   1     0    0    1        0    0     7506.1460\n",
       "5 1     33   8   1     0    0    1        0    0      289.7899\n",
       "6 1     22   9   1     0    0    1        0    0     4056.4939"
      ]
     },
     "metadata": {},
     "output_type": "display_data"
    }
   ],
   "source": [
    "url <- \"https://raw.githubusercontent.com/d2cml-ai/CausalAI-Course/refs/heads/main/Labs/Assignment/Assignment_5/data/experimental/experimental_control.csv\"\n",
    "data <- read.csv(url)\n",
    "\n",
    "head(data)\n"
   ]
  },
  {
   "cell_type": "code",
   "execution_count": 19,
   "metadata": {
    "vscode": {
     "languageId": "r"
    }
   },
   "outputs": [],
   "source": [
    "data <- na.omit(data)\n",
    "\n"
   ]
  },
  {
   "cell_type": "code",
   "execution_count": 20,
   "metadata": {
    "vscode": {
     "languageId": "r"
    }
   },
   "outputs": [
    {
     "data": {
      "text/html": [
       "<style>\n",
       ".list-inline {list-style: none; margin:0; padding: 0}\n",
       ".list-inline>li {display: inline-block}\n",
       ".list-inline>li:not(:last-child)::after {content: \"\\00b7\"; padding: 0 .5ex}\n",
       "</style>\n",
       "<ol class=list-inline><li>'treat'</li><li>'age'</li><li>'educ'</li><li>'black'</li><li>'hisp'</li><li>'marr'</li><li>'nodegree'</li><li>'re74'</li><li>'re75'</li><li>'re78'</li></ol>\n"
      ],
      "text/latex": [
       "\\begin{enumerate*}\n",
       "\\item 'treat'\n",
       "\\item 'age'\n",
       "\\item 'educ'\n",
       "\\item 'black'\n",
       "\\item 'hisp'\n",
       "\\item 'marr'\n",
       "\\item 'nodegree'\n",
       "\\item 're74'\n",
       "\\item 're75'\n",
       "\\item 're78'\n",
       "\\end{enumerate*}\n"
      ],
      "text/markdown": [
       "1. 'treat'\n",
       "2. 'age'\n",
       "3. 'educ'\n",
       "4. 'black'\n",
       "5. 'hisp'\n",
       "6. 'marr'\n",
       "7. 'nodegree'\n",
       "8. 're74'\n",
       "9. 're75'\n",
       "10. 're78'\n",
       "\n",
       "\n"
      ],
      "text/plain": [
       " [1] \"treat\"    \"age\"      \"educ\"     \"black\"    \"hisp\"     \"marr\"    \n",
       " [7] \"nodegree\" \"re74\"     \"re75\"     \"re78\"    "
      ]
     },
     "metadata": {},
     "output_type": "display_data"
    }
   ],
   "source": [
    "colnames(data)\n"
   ]
  },
  {
   "cell_type": "code",
   "execution_count": 21,
   "metadata": {
    "vscode": {
     "languageId": "r"
    }
   },
   "outputs": [
    {
     "data": {
      "text/plain": [
       "     treat             age             educ          black       \n",
       " Min.   :0.0000   Min.   :17.00   Min.   : 3.0   Min.   :0.0000  \n",
       " 1st Qu.:0.0000   1st Qu.:20.00   1st Qu.: 9.0   1st Qu.:1.0000  \n",
       " Median :0.0000   Median :24.00   Median :10.0   Median :1.0000  \n",
       " Mean   :0.4157   Mean   :25.37   Mean   :10.2   Mean   :0.8337  \n",
       " 3rd Qu.:1.0000   3rd Qu.:28.00   3rd Qu.:11.0   3rd Qu.:1.0000  \n",
       " Max.   :1.0000   Max.   :55.00   Max.   :16.0   Max.   :1.0000  \n",
       "      hisp              marr           nodegree          re74        \n",
       " Min.   :0.00000   Min.   :0.0000   Min.   :0.000   Min.   :    0.0  \n",
       " 1st Qu.:0.00000   1st Qu.:0.0000   1st Qu.:1.000   1st Qu.:    0.0  \n",
       " Median :0.00000   Median :0.0000   Median :1.000   Median :    0.0  \n",
       " Mean   :0.08764   Mean   :0.1685   Mean   :0.782   Mean   : 2102.3  \n",
       " 3rd Qu.:0.00000   3rd Qu.:0.0000   3rd Qu.:1.000   3rd Qu.:  824.4  \n",
       " Max.   :1.00000   Max.   :1.0000   Max.   :1.000   Max.   :39570.7  \n",
       "      re75            re78      \n",
       " Min.   :    0   Min.   :    0  \n",
       " 1st Qu.:    0   1st Qu.:    0  \n",
       " Median :    0   Median : 3702  \n",
       " Mean   : 1377   Mean   : 5301  \n",
       " 3rd Qu.: 1221   3rd Qu.: 8125  \n",
       " Max.   :25142   Max.   :60308  "
      ]
     },
     "metadata": {},
     "output_type": "display_data"
    }
   ],
   "source": [
    "summary(data)\n"
   ]
  },
  {
   "cell_type": "markdown",
   "metadata": {},
   "source": [
    "## 2. ATE"
   ]
  },
  {
   "cell_type": "code",
   "execution_count": 22,
   "metadata": {
    "vscode": {
     "languageId": "r"
    }
   },
   "outputs": [
    {
     "data": {
      "text/html": [
       "1794.3423818501"
      ],
      "text/latex": [
       "1794.3423818501"
      ],
      "text/markdown": [
       "1794.3423818501"
      ],
      "text/plain": [
       "[1] 1794.342"
      ]
     },
     "metadata": {},
     "output_type": "display_data"
    }
   ],
   "source": [
    "treated <- mean(data$re78[data$treat == 1])\n",
    "untreated <- mean(data$re78[data$treat == 0])\n",
    "\n",
    "ATE <- treated - untreated\n",
    "\n",
    "ATE\n"
   ]
  },
  {
   "cell_type": "markdown",
   "metadata": {},
   "source": [
    "The treated people has on average 1794 dollars more of income than the untreated group"
   ]
  },
  {
   "cell_type": "markdown",
   "metadata": {},
   "source": [
    "## 3. Casual trees"
   ]
  },
  {
   "cell_type": "code",
   "execution_count": 23,
   "metadata": {
    "vscode": {
     "languageId": "r"
    }
   },
   "outputs": [],
   "source": [
    "X <- data[, c('age', 'educ', 'black', 'hisp', 'marr', 'nodegree')]\n",
    "\n",
    "Y <- data[, 're78']\n",
    "\n",
    "W <- data[, 'treat']\n"
   ]
  },
  {
   "cell_type": "code",
   "execution_count": 24,
   "metadata": {
    "vscode": {
     "languageId": "r"
    }
   },
   "outputs": [],
   "source": [
    "tree <- causal_forest(X, Y, W, num.trees = 1,\n",
    "                      mtry = ncol(X))"
   ]
  },
  {
   "cell_type": "code",
   "execution_count": 25,
   "metadata": {
    "vscode": {
     "languageId": "r"
    }
   },
   "outputs": [
    {
     "data": {
      "text/plain": [
       "GRF tree object \n",
       "Number of training samples: 222 \n",
       "Variable splits: \n",
       "(1) split_variable: age  split_value: 30 \n",
       "  (2) split_variable: marr  split_value: 0 \n",
       "    (4) split_variable: age  split_value: 18 \n",
       "      (6) * num_samples: 21  avg_Y: 5026.72 avg_W: 0.33 \n",
       "      (7) split_variable: nodegree  split_value: 0 \n",
       "        (8) * num_samples: 18  avg_Y: 7168.19 avg_W: 0.56 \n",
       "        (9) split_variable: educ  split_value: 9 \n",
       "          (10) * num_samples: 13  avg_Y: 4137.71 avg_W: 0.38 \n",
       "          (11) split_variable: educ  split_value: 10 \n",
       "            (12) * num_samples: 13  avg_Y: 2919.52 avg_W: 0.38 \n",
       "            (13) * num_samples: 15  avg_Y: 3816.38 avg_W: 0.27 \n",
       "    (5) * num_samples: 11  avg_Y: 2351.58 avg_W: 0.27 \n",
       "  (3) * num_samples: 20  avg_Y: 6214 avg_W: 0.5 "
      ]
     },
     "metadata": {},
     "output_type": "display_data"
    }
   ],
   "source": [
    "get_tree(tree, 1)"
   ]
  },
  {
   "cell_type": "markdown",
   "metadata": {},
   "source": [
    "As we can see the splits are made using the age and education. This is an indicator that this are probably the most important variables. The number of leaves are six with signals a potencial heterogenous effect."
   ]
  },
  {
   "cell_type": "markdown",
   "metadata": {},
   "source": [
    "## 4. Tree"
   ]
  },
  {
   "cell_type": "code",
   "execution_count": 26,
   "metadata": {
    "vscode": {
     "languageId": "r"
    }
   },
   "outputs": [
    {
     "data": {
      "text/plain": [
       "GRF tree object \n",
       "Number of training samples: 222 \n",
       "Variable splits: \n",
       "(1) split_variable: age  split_value: 25 \n",
       "  (2) split_variable: marr  split_value: 0 \n",
       "    (4) split_variable: educ  split_value: 10 \n",
       "      (8) split_variable: age  split_value: 20 \n",
       "        (10) * num_samples: 19  avg_Y: 4403.98 avg_W: 0.42 \n",
       "        (11) * num_samples: 16  avg_Y: 3355.49 avg_W: 0.25 \n",
       "      (9) * num_samples: 22  avg_Y: 3770.62 avg_W: 0.27 \n",
       "    (5) * num_samples: 8  avg_Y: 5686.87 avg_W: 0.62 \n",
       "  (3) split_variable: educ  split_value: 10 \n",
       "    (6) * num_samples: 20  avg_Y: 4304.75 avg_W: 0.4 \n",
       "    (7) * num_samples: 26  avg_Y: 8977.56 avg_W: 0.54 "
      ]
     },
     "metadata": {},
     "output_type": "display_data"
    }
   ],
   "source": [
    "cf_smalltrees <- causal_forest(X, Y, W,mtry = ncol(X))\n",
    "tree <- get_tree(cf_smalltrees, 1)\n",
    "tree"
   ]
  },
  {
   "cell_type": "code",
   "execution_count": 27,
   "metadata": {
    "vscode": {
     "languageId": "r"
    }
   },
   "outputs": [
    {
     "data": {
      "text/html": [
       "<table class=\"dataframe\">\n",
       "<caption>A data.frame: 6 × 2</caption>\n",
       "<thead>\n",
       "\t<tr><th scope=col>variable</th><th scope=col>importance</th></tr>\n",
       "\t<tr><th scope=col>&lt;chr&gt;</th><th scope=col>&lt;dbl&gt;</th></tr>\n",
       "</thead>\n",
       "<tbody>\n",
       "\t<tr><td>age     </td><td>0.506148864</td></tr>\n",
       "\t<tr><td>educ    </td><td>0.252048894</td></tr>\n",
       "\t<tr><td>marr    </td><td>0.123139572</td></tr>\n",
       "\t<tr><td>nodegree</td><td>0.069938353</td></tr>\n",
       "\t<tr><td>black   </td><td>0.046317242</td></tr>\n",
       "\t<tr><td>hisp    </td><td>0.002407074</td></tr>\n",
       "</tbody>\n",
       "</table>\n"
      ],
      "text/latex": [
       "A data.frame: 6 × 2\n",
       "\\begin{tabular}{ll}\n",
       " variable & importance\\\\\n",
       " <chr> & <dbl>\\\\\n",
       "\\hline\n",
       "\t age      & 0.506148864\\\\\n",
       "\t educ     & 0.252048894\\\\\n",
       "\t marr     & 0.123139572\\\\\n",
       "\t nodegree & 0.069938353\\\\\n",
       "\t black    & 0.046317242\\\\\n",
       "\t hisp     & 0.002407074\\\\\n",
       "\\end{tabular}\n"
      ],
      "text/markdown": [
       "\n",
       "A data.frame: 6 × 2\n",
       "\n",
       "| variable &lt;chr&gt; | importance &lt;dbl&gt; |\n",
       "|---|---|\n",
       "| age      | 0.506148864 |\n",
       "| educ     | 0.252048894 |\n",
       "| marr     | 0.123139572 |\n",
       "| nodegree | 0.069938353 |\n",
       "| black    | 0.046317242 |\n",
       "| hisp     | 0.002407074 |\n",
       "\n"
      ],
      "text/plain": [
       "  variable importance \n",
       "1 age      0.506148864\n",
       "2 educ     0.252048894\n",
       "3 marr     0.123139572\n",
       "4 nodegree 0.069938353\n",
       "5 black    0.046317242\n",
       "6 hisp     0.002407074"
      ]
     },
     "metadata": {},
     "output_type": "display_data"
    }
   ],
   "source": [
    "varimp <- variable_importance(cf_smalltrees)\n",
    "ranked.vars <- order(varimp, decreasing = TRUE)\n",
    "importances <- data.frame(variable = colnames(X)[ranked.vars], importance = varimp[ranked.vars])\n",
    "importances"
   ]
  },
  {
   "cell_type": "code",
   "execution_count": 28,
   "metadata": {
    "vscode": {
     "languageId": "r"
    }
   },
   "outputs": [
    {
     "data": {
      "image/png": "[encoded data removed]",
      "text/plain": [
       "plot without title"
      ]
     },
     "metadata": {
      "image/png": {
       "height": 420,
       "width": 420
      }
     },
     "output_type": "display_data"
    }
   ],
   "source": [
    "figure <- ggplot(importances,\n",
    "                 aes(fct_rev(fct_reorder(variable, importance)), importance))\n",
    "figure + geom_col() +\n",
    "  scale_x_discrete(guide = guide_axis(angle = 45)) +\n",
    "  labs(x = \"Variable\", y = \"Importance\")"
   ]
  },
  {
   "cell_type": "markdown",
   "metadata": {},
   "source": [
    "As we can see the most important variable are the ones related to education and age"
   ]
  },
  {
   "cell_type": "markdown",
   "metadata": {},
   "source": [
    "## 5. Plot heterogenous effect"
   ]
  },
  {
   "cell_type": "code",
   "execution_count": 29,
   "metadata": {
    "vscode": {
     "languageId": "r"
    }
   },
   "outputs": [
    {
     "data": {
      "image/png": "[encoded data removed]",
      "text/plain": [
       "Plot with title \"Predicted Effects by Age Bins\""
      ]
     },
     "metadata": {
      "image/png": {
       "height": 420,
       "width": 420
      }
     },
     "output_type": "display_data"
    }
   ],
   "source": [
    "# Crear grupos de edad (bins) con mayor claridad\n",
    "data$age_bins <- floor(data$age * 2) / 2\n",
    "\n",
    "\n",
    "data$predicted_effects <- predict(cf_smalltrees, X)$predictions\n",
    "\n",
    "predicted_effects_bins <- aggregate(predicted_effects ~ age_bins, data = data, mean)\n",
    "\n",
    "plot(as.numeric(predicted_effects_bins$age_bins), predicted_effects_bins$predicted_effects, \n",
    "     type = \"l\", col = \"red\", xlab = \"Age Bins\", ylab = \"Predicted Effects\", \n",
    "     main = \"Predicted Effects by Age Bins\")\n",
    "\n",
    "lines(as.numeric(predicted_effects_bins$age_bins), predicted_effects_bins$predicted_effects, col = \"blue\", lwd = 2)\n",
    "\n",
    "# Agregar una leyenda\n",
    "legend(\"topright\", legend = c(\"Predicted Effects\"), col = \"blue\", lty = 1, lwd = 2)\n"
   ]
  },
  {
   "cell_type": "markdown",
   "metadata": {},
   "source": [
    "It has heterogeous effects by age ,especially ,in the first"
   ]
  },
  {
   "cell_type": "code",
   "execution_count": 30,
   "metadata": {
    "vscode": {
     "languageId": "r"
    }
   },
   "outputs": [
    {
     "data": {
      "image/png": "[encoded data removed]",
      "text/plain": [
       "Plot with title \"Predicted Effects by Education Bins\""
      ]
     },
     "metadata": {
      "image/png": {
       "height": 420,
       "width": 420
      }
     },
     "output_type": "display_data"
    }
   ],
   "source": [
    "data$educ_bins <- floor(data$educ * 2) / 2\n",
    "\n",
    "data$predicted_effects <- predict(cf_smalltrees, X)$predictions\n",
    "\n",
    "predicted_effects_bins <- aggregate(predicted_effects ~ educ_bins, data = data, mean)\n",
    "\n",
    "bin_labels <- as.numeric(gsub(\"\\\\D\", \"\", predicted_effects_bins$educ_bins))\n",
    "\n",
    "plot(bin_labels, predicted_effects_bins$predicted_effects, \n",
    "     type = \"l\", col = \"red\", xlab = \"Education Bins\", ylab = \"Predicted Effects\", \n",
    "     main = \"Predicted Effects by Education Bins\")\n",
    "\n",
    "lines(bin_labels, predicted_effects_bins$predicted_effects, col = \"blue\", lwd = 2)\n",
    "\n",
    "legend(\"topright\", legend = c(\"Predicted Effects\"), col = \"blue\", lty = 1, lwd = 2)\n"
   ]
  },
  {
   "cell_type": "markdown",
   "metadata": {},
   "source": [
    "The treatment effect is heterogenous by years of education"
   ]
  }
 ],
 "metadata": {
  "kernelspec": {
   "display_name": "R",
   "language": "R",
   "name": "ir"
  },
  "language_info": {
   "codemirror_mode": "r",
   "file_extension": ".r",
   "mimetype": "text/x-r-source",
   "name": "R",
   "pygments_lexer": "r",
   "version": "4.3.1"
  }
 },
 "nbformat": 4,
 "nbformat_minor": 2
}
