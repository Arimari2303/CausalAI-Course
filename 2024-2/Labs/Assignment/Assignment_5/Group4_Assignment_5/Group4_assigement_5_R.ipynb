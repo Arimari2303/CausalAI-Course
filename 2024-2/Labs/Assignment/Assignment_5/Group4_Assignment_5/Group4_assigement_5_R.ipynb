{
 "cells": [
  {
   "cell_type": "code",
   "execution_count": null,
   "metadata": {
    "vscode": {
     "languageId": "r"
    }
   },
   "outputs": [],
   "source": [
    "# Parte 1: Efectos de tratamientos heterogéneos utilizando árboles y bosques causales\n",
    "\n"
   ]
  },
  {
   "cell_type": "code",
   "execution_count": 1,
   "metadata": {
    "vscode": {
     "languageId": "r"
    }
   },
   "outputs": [
    {
     "data": {
      "text/html": [
       "<table class=\"dataframe\">\n",
       "<caption>A data.frame: 6 × 10</caption>\n",
       "<thead>\n",
       "\t<tr><th></th><th scope=col>treat</th><th scope=col>age</th><th scope=col>educ</th><th scope=col>black</th><th scope=col>hisp</th><th scope=col>marr</th><th scope=col>nodegree</th><th scope=col>re74</th><th scope=col>re75</th><th scope=col>re78</th></tr>\n",
       "\t<tr><th></th><th scope=col>&lt;int&gt;</th><th scope=col>&lt;int&gt;</th><th scope=col>&lt;int&gt;</th><th scope=col>&lt;int&gt;</th><th scope=col>&lt;int&gt;</th><th scope=col>&lt;int&gt;</th><th scope=col>&lt;int&gt;</th><th scope=col>&lt;dbl&gt;</th><th scope=col>&lt;dbl&gt;</th><th scope=col>&lt;dbl&gt;</th></tr>\n",
       "</thead>\n",
       "<tbody>\n",
       "\t<tr><th scope=row>1</th><td>1</td><td>37</td><td>11</td><td>1</td><td>0</td><td>1</td><td>1</td><td>0</td><td>0</td><td> 9930.0459</td></tr>\n",
       "\t<tr><th scope=row>2</th><td>1</td><td>22</td><td> 9</td><td>0</td><td>1</td><td>0</td><td>1</td><td>0</td><td>0</td><td> 3595.8940</td></tr>\n",
       "\t<tr><th scope=row>3</th><td>1</td><td>30</td><td>12</td><td>1</td><td>0</td><td>0</td><td>0</td><td>0</td><td>0</td><td>24909.4492</td></tr>\n",
       "\t<tr><th scope=row>4</th><td>1</td><td>27</td><td>11</td><td>1</td><td>0</td><td>0</td><td>1</td><td>0</td><td>0</td><td> 7506.1460</td></tr>\n",
       "\t<tr><th scope=row>5</th><td>1</td><td>33</td><td> 8</td><td>1</td><td>0</td><td>0</td><td>1</td><td>0</td><td>0</td><td>  289.7899</td></tr>\n",
       "\t<tr><th scope=row>6</th><td>1</td><td>22</td><td> 9</td><td>1</td><td>0</td><td>0</td><td>1</td><td>0</td><td>0</td><td> 4056.4939</td></tr>\n",
       "</tbody>\n",
       "</table>\n"
      ],
      "text/latex": [
       "A data.frame: 6 × 10\n",
       "\\begin{tabular}{r|llllllllll}\n",
       "  & treat & age & educ & black & hisp & marr & nodegree & re74 & re75 & re78\\\\\n",
       "  & <int> & <int> & <int> & <int> & <int> & <int> & <int> & <dbl> & <dbl> & <dbl>\\\\\n",
       "\\hline\n",
       "\t1 & 1 & 37 & 11 & 1 & 0 & 1 & 1 & 0 & 0 &  9930.0459\\\\\n",
       "\t2 & 1 & 22 &  9 & 0 & 1 & 0 & 1 & 0 & 0 &  3595.8940\\\\\n",
       "\t3 & 1 & 30 & 12 & 1 & 0 & 0 & 0 & 0 & 0 & 24909.4492\\\\\n",
       "\t4 & 1 & 27 & 11 & 1 & 0 & 0 & 1 & 0 & 0 &  7506.1460\\\\\n",
       "\t5 & 1 & 33 &  8 & 1 & 0 & 0 & 1 & 0 & 0 &   289.7899\\\\\n",
       "\t6 & 1 & 22 &  9 & 1 & 0 & 0 & 1 & 0 & 0 &  4056.4939\\\\\n",
       "\\end{tabular}\n"
      ],
      "text/markdown": [
       "\n",
       "A data.frame: 6 × 10\n",
       "\n",
       "| <!--/--> | treat &lt;int&gt; | age &lt;int&gt; | educ &lt;int&gt; | black &lt;int&gt; | hisp &lt;int&gt; | marr &lt;int&gt; | nodegree &lt;int&gt; | re74 &lt;dbl&gt; | re75 &lt;dbl&gt; | re78 &lt;dbl&gt; |\n",
       "|---|---|---|---|---|---|---|---|---|---|---|\n",
       "| 1 | 1 | 37 | 11 | 1 | 0 | 1 | 1 | 0 | 0 |  9930.0459 |\n",
       "| 2 | 1 | 22 |  9 | 0 | 1 | 0 | 1 | 0 | 0 |  3595.8940 |\n",
       "| 3 | 1 | 30 | 12 | 1 | 0 | 0 | 0 | 0 | 0 | 24909.4492 |\n",
       "| 4 | 1 | 27 | 11 | 1 | 0 | 0 | 1 | 0 | 0 |  7506.1460 |\n",
       "| 5 | 1 | 33 |  8 | 1 | 0 | 0 | 1 | 0 | 0 |   289.7899 |\n",
       "| 6 | 1 | 22 |  9 | 1 | 0 | 0 | 1 | 0 | 0 |  4056.4939 |\n",
       "\n"
      ],
      "text/plain": [
       "  treat age educ black hisp marr nodegree re74 re75 re78      \n",
       "1 1     37  11   1     0    1    1        0    0     9930.0459\n",
       "2 1     22   9   0     1    0    1        0    0     3595.8940\n",
       "3 1     30  12   1     0    0    0        0    0    24909.4492\n",
       "4 1     27  11   1     0    0    1        0    0     7506.1460\n",
       "5 1     33   8   1     0    0    1        0    0      289.7899\n",
       "6 1     22   9   1     0    0    1        0    0     4056.4939"
      ]
     },
     "metadata": {},
     "output_type": "display_data"
    }
   ],
   "source": [
    "# En primer lugar, cargamos la data experimental  para calcular efectos heterogéneos a través de árboles y bosques causales.\n",
    "df <- read.csv(\"C:/Users/USER/Desktop/github/CausalAI-Course/Labs/Assignment/Assignment_5/data/experimental/experimental_control.csv\")\n",
    "head(df)"
   ]
  },
  {
   "cell_type": "code",
   "execution_count": 2,
   "metadata": {
    "vscode": {
     "languageId": "r"
    }
   },
   "outputs": [
    {
     "data": {
      "text/html": [
       "<table class=\"dataframe\">\n",
       "<caption>A matrix: 2 × 4 of type dbl</caption>\n",
       "<thead>\n",
       "\t<tr><th></th><th scope=col>Estimate</th><th scope=col>Std. Error</th><th scope=col>t value</th><th scope=col>Pr(&gt;|t|)</th></tr>\n",
       "</thead>\n",
       "<tbody>\n",
       "\t<tr><th scope=row>(Intercept)</th><td>4554.801</td><td>408.0459</td><td>11.162474</td><td>1.154114e-25</td></tr>\n",
       "\t<tr><th scope=row>treat</th><td>1794.342</td><td>632.8534</td><td> 2.835321</td><td>4.787530e-03</td></tr>\n",
       "</tbody>\n",
       "</table>\n"
      ],
      "text/latex": [
       "A matrix: 2 × 4 of type dbl\n",
       "\\begin{tabular}{r|llll}\n",
       "  & Estimate & Std. Error & t value & Pr(>\\textbar{}t\\textbar{})\\\\\n",
       "\\hline\n",
       "\t(Intercept) & 4554.801 & 408.0459 & 11.162474 & 1.154114e-25\\\\\n",
       "\ttreat & 1794.342 & 632.8534 &  2.835321 & 4.787530e-03\\\\\n",
       "\\end{tabular}\n"
      ],
      "text/markdown": [
       "\n",
       "A matrix: 2 × 4 of type dbl\n",
       "\n",
       "| <!--/--> | Estimate | Std. Error | t value | Pr(&gt;|t|) |\n",
       "|---|---|---|---|---|\n",
       "| (Intercept) | 4554.801 | 408.0459 | 11.162474 | 1.154114e-25 |\n",
       "| treat | 1794.342 | 632.8534 |  2.835321 | 4.787530e-03 |\n",
       "\n"
      ],
      "text/plain": [
       "            Estimate Std. Error t value   Pr(>|t|)    \n",
       "(Intercept) 4554.801 408.0459   11.162474 1.154114e-25\n",
       "treat       1794.342 632.8534    2.835321 4.787530e-03"
      ]
     },
     "metadata": {},
     "output_type": "display_data"
    }
   ],
   "source": [
    "# En segundo lugar hallamos el ATE, para ello usamos la variable re78 y la diferencia entre las medias del grupo de tratamiento y el grupo de control\n",
    "model <- lm(re78 ~ treat, data = df)\n",
    "summary(model)$coefficients\n",
    "\n"
   ]
  },
  {
   "cell_type": "code",
   "execution_count": null,
   "metadata": {
    "vscode": {
     "languageId": "r"
    }
   },
   "outputs": [],
   "source": [
    "#interpretacion"
   ]
  },
  {
   "cell_type": "code",
   "execution_count": 3,
   "metadata": {
    "vscode": {
     "languageId": "r"
    }
   },
   "outputs": [
    {
     "data": {
      "text/html": [
       "<style>\n",
       ".list-inline {list-style: none; margin:0; padding: 0}\n",
       ".list-inline>li {display: inline-block}\n",
       ".list-inline>li:not(:last-child)::after {content: \"\\00b7\"; padding: 0 .5ex}\n",
       "</style>\n",
       "<ol class=list-inline><li>'age'</li><li>'educ'</li><li>'black'</li><li>'hisp'</li><li>'marr'</li><li>'nodegree'</li><li>'re74'</li><li>'re75'</li></ol>\n"
      ],
      "text/latex": [
       "\\begin{enumerate*}\n",
       "\\item 'age'\n",
       "\\item 'educ'\n",
       "\\item 'black'\n",
       "\\item 'hisp'\n",
       "\\item 'marr'\n",
       "\\item 'nodegree'\n",
       "\\item 're74'\n",
       "\\item 're75'\n",
       "\\end{enumerate*}\n"
      ],
      "text/markdown": [
       "1. 'age'\n",
       "2. 'educ'\n",
       "3. 'black'\n",
       "4. 'hisp'\n",
       "5. 'marr'\n",
       "6. 'nodegree'\n",
       "7. 're74'\n",
       "8. 're75'\n",
       "\n",
       "\n"
      ],
      "text/plain": [
       "[1] \"age\"      \"educ\"     \"black\"    \"hisp\"     \"marr\"     \"nodegree\" \"re74\"    \n",
       "[8] \"re75\"    "
      ]
     },
     "metadata": {},
     "output_type": "display_data"
    }
   ],
   "source": [
    "#En tercer lugar , construimos nuestra variable auxiliar y ajustamos un regresor de árbol de decisión.\n",
    "X <- setdiff(names(df), c(\"treat\", \"re78\"))\n",
    "X"
   ]
  },
  {
   "cell_type": "code",
   "execution_count": 5,
   "metadata": {
    "vscode": {
     "languageId": "r"
    }
   },
   "outputs": [
    {
     "name": "stderr",
     "output_type": "stream",
     "text": [
      "Installing package into 'C:/Users/USER/AppData/Local/R/win-library/4.4'\n",
      "(as 'lib' is unspecified)\n",
      "\n"
     ]
    },
    {
     "name": "stdout",
     "output_type": "stream",
     "text": [
      "package 'ggplot2' successfully unpacked and MD5 sums checked\n",
      "\n",
      "The downloaded binary packages are in\n",
      "\tC:\\Users\\USER\\AppData\\Local\\Temp\\RtmpcX5dQT\\downloaded_packages\n"
     ]
    },
    {
     "name": "stderr",
     "output_type": "stream",
     "text": [
      "Warning message:\n",
      "\"package 'ggplot2' was built under R version 4.4.2\"\n",
      "Warning message:\n",
      "\"\u001b[1m\u001b[22mRemoved 4 rows containing missing values or values outside the scale range\n",
      "(`geom_bar()`).\"\n"
     ]
    },
    {
     "data": {
      "image/png": "[encoded data removed]",
      "text/plain": [
       "plot without title"
      ]
     },
     "metadata": {
      "image/png": {
       "height": 420,
       "width": 420
      }
     },
     "output_type": "display_data"
    }
   ],
   "source": [
    "logistic_model <- glm(treat ~ ., data = df[, c(X, 'treat')], family = binomial)\n",
    "df$pscore <- predict(logistic_model, df[X], type = \"response\")\n",
    "install.packages(\"ggplot2\") \n",
    "library(ggplot2)\n",
    "ggplot(df, aes(x = pscore, fill = as.factor(treat))) +\n",
    "  geom_histogram(binwidth = 0.05, position = \"identity\", alpha = 0.7) +\n",
    "  labs(\n",
    "    title = \"Predicted Propensity Scores\",\n",
    "    x = \"Propensity Score\",\n",
    "    fill = \"Treat\"\n",
    "  ) +\n",
    "  xlim(0, 1)\n",
    "\n",
    "     "
   ]
  },
  {
   "cell_type": "code",
   "execution_count": 7,
   "metadata": {
    "vscode": {
     "languageId": "r"
    }
   },
   "outputs": [
    {
     "data": {
      "text/html": [
       "-9477.05746496176"
      ],
      "text/latex": [
       "-9477.05746496176"
      ],
      "text/markdown": [
       "-9477.05746496176"
      ],
      "text/plain": [
       "[1] -9477.057"
      ]
     },
     "metadata": {},
     "output_type": "display_data"
    },
    {
     "data": {
      "text/html": [
       "<table class=\"dataframe\">\n",
       "<caption>A data.frame: 6 × 12</caption>\n",
       "<thead>\n",
       "\t<tr><th></th><th scope=col>treat</th><th scope=col>age</th><th scope=col>educ</th><th scope=col>black</th><th scope=col>hisp</th><th scope=col>marr</th><th scope=col>nodegree</th><th scope=col>re74</th><th scope=col>re75</th><th scope=col>re78</th><th scope=col>pscore</th><th scope=col>y_star</th></tr>\n",
       "\t<tr><th></th><th scope=col>&lt;int&gt;</th><th scope=col>&lt;int&gt;</th><th scope=col>&lt;int&gt;</th><th scope=col>&lt;int&gt;</th><th scope=col>&lt;int&gt;</th><th scope=col>&lt;int&gt;</th><th scope=col>&lt;int&gt;</th><th scope=col>&lt;dbl&gt;</th><th scope=col>&lt;dbl&gt;</th><th scope=col>&lt;dbl&gt;</th><th scope=col>&lt;dbl&gt;</th><th scope=col>&lt;dbl&gt;</th></tr>\n",
       "</thead>\n",
       "<tbody>\n",
       "\t<tr><th scope=row>1</th><td>1</td><td>37</td><td>11</td><td>1</td><td>0</td><td>1</td><td>1</td><td>0</td><td>0</td><td> 9930.0459</td><td>0.4021026</td><td>-50716.601</td></tr>\n",
       "\t<tr><th scope=row>2</th><td>1</td><td>22</td><td> 9</td><td>0</td><td>1</td><td>0</td><td>1</td><td>0</td><td>0</td><td> 3595.8940</td><td>0.2466787</td><td> -7097.497</td></tr>\n",
       "\t<tr><th scope=row>3</th><td>1</td><td>30</td><td>12</td><td>1</td><td>0</td><td>0</td><td>0</td><td>0</td><td>0</td><td>24909.4492</td><td>0.5594795</td><td>209395.395</td></tr>\n",
       "\t<tr><th scope=row>4</th><td>1</td><td>27</td><td>11</td><td>1</td><td>0</td><td>0</td><td>1</td><td>0</td><td>0</td><td> 7506.1460</td><td>0.3526728</td><td>-25474.413</td></tr>\n",
       "\t<tr><th scope=row>5</th><td>1</td><td>33</td><td> 8</td><td>1</td><td>0</td><td>0</td><td>1</td><td>0</td><td>0</td><td>  289.7899</td><td>0.4096518</td><td> -1603.739</td></tr>\n",
       "\t<tr><th scope=row>6</th><td>1</td><td>22</td><td> 9</td><td>1</td><td>0</td><td>0</td><td>1</td><td>0</td><td>0</td><td> 4056.4939</td><td>0.3802885</td><td>-16942.797</td></tr>\n",
       "</tbody>\n",
       "</table>\n"
      ],
      "text/latex": [
       "A data.frame: 6 × 12\n",
       "\\begin{tabular}{r|llllllllllll}\n",
       "  & treat & age & educ & black & hisp & marr & nodegree & re74 & re75 & re78 & pscore & y\\_star\\\\\n",
       "  & <int> & <int> & <int> & <int> & <int> & <int> & <int> & <dbl> & <dbl> & <dbl> & <dbl> & <dbl>\\\\\n",
       "\\hline\n",
       "\t1 & 1 & 37 & 11 & 1 & 0 & 1 & 1 & 0 & 0 &  9930.0459 & 0.4021026 & -50716.601\\\\\n",
       "\t2 & 1 & 22 &  9 & 0 & 1 & 0 & 1 & 0 & 0 &  3595.8940 & 0.2466787 &  -7097.497\\\\\n",
       "\t3 & 1 & 30 & 12 & 1 & 0 & 0 & 0 & 0 & 0 & 24909.4492 & 0.5594795 & 209395.395\\\\\n",
       "\t4 & 1 & 27 & 11 & 1 & 0 & 0 & 1 & 0 & 0 &  7506.1460 & 0.3526728 & -25474.413\\\\\n",
       "\t5 & 1 & 33 &  8 & 1 & 0 & 0 & 1 & 0 & 0 &   289.7899 & 0.4096518 &  -1603.739\\\\\n",
       "\t6 & 1 & 22 &  9 & 1 & 0 & 0 & 1 & 0 & 0 &  4056.4939 & 0.3802885 & -16942.797\\\\\n",
       "\\end{tabular}\n"
      ],
      "text/markdown": [
       "\n",
       "A data.frame: 6 × 12\n",
       "\n",
       "| <!--/--> | treat &lt;int&gt; | age &lt;int&gt; | educ &lt;int&gt; | black &lt;int&gt; | hisp &lt;int&gt; | marr &lt;int&gt; | nodegree &lt;int&gt; | re74 &lt;dbl&gt; | re75 &lt;dbl&gt; | re78 &lt;dbl&gt; | pscore &lt;dbl&gt; | y_star &lt;dbl&gt; |\n",
       "|---|---|---|---|---|---|---|---|---|---|---|---|---|\n",
       "| 1 | 1 | 37 | 11 | 1 | 0 | 1 | 1 | 0 | 0 |  9930.0459 | 0.4021026 | -50716.601 |\n",
       "| 2 | 1 | 22 |  9 | 0 | 1 | 0 | 1 | 0 | 0 |  3595.8940 | 0.2466787 |  -7097.497 |\n",
       "| 3 | 1 | 30 | 12 | 1 | 0 | 0 | 0 | 0 | 0 | 24909.4492 | 0.5594795 | 209395.395 |\n",
       "| 4 | 1 | 27 | 11 | 1 | 0 | 0 | 1 | 0 | 0 |  7506.1460 | 0.3526728 | -25474.413 |\n",
       "| 5 | 1 | 33 |  8 | 1 | 0 | 0 | 1 | 0 | 0 |   289.7899 | 0.4096518 |  -1603.739 |\n",
       "| 6 | 1 | 22 |  9 | 1 | 0 | 0 | 1 | 0 | 0 |  4056.4939 | 0.3802885 | -16942.797 |\n",
       "\n"
      ],
      "text/plain": [
       "  treat age educ black hisp marr nodegree re74 re75 re78       pscore   \n",
       "1 1     37  11   1     0    1    1        0    0     9930.0459 0.4021026\n",
       "2 1     22   9   0     1    0    1        0    0     3595.8940 0.2466787\n",
       "3 1     30  12   1     0    0    0        0    0    24909.4492 0.5594795\n",
       "4 1     27  11   1     0    0    1        0    0     7506.1460 0.3526728\n",
       "5 1     33   8   1     0    0    1        0    0      289.7899 0.4096518\n",
       "6 1     22   9   1     0    0    1        0    0     4056.4939 0.3802885\n",
       "  y_star    \n",
       "1 -50716.601\n",
       "2  -7097.497\n",
       "3 209395.395\n",
       "4 -25474.413\n",
       "5  -1603.739\n",
       "6 -16942.797"
      ]
     },
     "metadata": {},
     "output_type": "display_data"
    }
   ],
   "source": [
    "\n",
    "df$y_star <- df$re78 / (df$pscore - (1 - df$pscore))\n",
    "\n",
    "# Ahora calculas la media de la nueva columna 'y_star'\n",
    "mean(df$y_star, na.rm = TRUE)\n",
    "\n",
    "\n",
    "head(df)\n"
   ]
  },
  {
   "cell_type": "code",
   "execution_count": 8,
   "metadata": {
    "vscode": {
     "languageId": "r"
    }
   },
   "outputs": [],
   "source": [
    "X <- df[,X] \n",
    "Y <- df[,\"re78\"]\n",
    "D <- df[,\"treat\"]"
   ]
  },
  {
   "cell_type": "code",
   "execution_count": 9,
   "metadata": {
    "vscode": {
     "languageId": "r"
    }
   },
   "outputs": [
    {
     "name": "stderr",
     "output_type": "stream",
     "text": [
      "Warning message:\n",
      "\"package 'grf' was built under R version 4.4.2\"\n"
     ]
    },
    {
     "data": {
      "text/plain": [
       "GRF tree object \n",
       "Number of training samples: 222 \n",
       "Variable splits: \n",
       "(1) split_variable: age  split_value: 21 \n",
       "  (2) split_variable: age  split_value: 19 \n",
       "    (4) * num_samples: 32  avg_Y: 5355.09 avg_W: 0.47 \n",
       "    (5) * num_samples: 6  avg_Y: 8410.87 avg_W: 0.5 \n",
       "  (3) split_variable: educ  split_value: 10 \n",
       "    (6) split_variable: educ  split_value: 8 \n",
       "      (8) * num_samples: 6  avg_Y: 1661.42 avg_W: 0.5 \n",
       "      (9) split_variable: age  split_value: 25 \n",
       "        (12) * num_samples: 10  avg_Y: 1007.36 avg_W: 0.4 \n",
       "        (13) * num_samples: 11  avg_Y: 10582.23 avg_W: 0.36 \n",
       "    (7) split_variable: marr  split_value: 0 \n",
       "      (10) split_variable: age  split_value: 29 \n",
       "        (14) * num_samples: 24  avg_Y: 5346.7 avg_W: 0.46 \n",
       "        (15) * num_samples: 12  avg_Y: 3778.65 avg_W: 0.25 \n",
       "      (11) * num_samples: 10  avg_Y: 3625.02 avg_W: 0.5 "
      ]
     },
     "metadata": {},
     "output_type": "display_data"
    }
   ],
   "source": [
    "library(grf)\n",
    "tree <- causal_forest(X, Y, D, num.trees = 1, mtry = ncol(X))\n",
    "get_tree(tree, 1)"
   ]
  },
  {
   "cell_type": "code",
   "execution_count": 10,
   "metadata": {
    "vscode": {
     "languageId": "r"
    }
   },
   "outputs": [],
   "source": [
    "#Las personas jóvenes (menores de 21 años) tienden a tener un promedio de Y más alto si tienen más de 19 años. Por otro lado, las personas menores de 19 años tienden a tener un promedio de Y más bajo.\n",
    "#Para personas mayores de 21 años, la variable educ (años de educación) se convierte en un factor importante.\n",
    "#La educación parece estar relacionada con un mayor ingreso o puntuación de Y, aunque la relación no es siempre consistente. Por ejemplo, en el grupo con menos de 8 años de educación, los ingresos promedio son bajos.\n",
    "#Las personas casadas (marr = 1) tienden a tener un promedio de Y algo más bajo que las solteras (marr = 0), especialmente en los grupos con mayor educación.\n",
    "#el árbol de decisión ha encontrado que la edad y la educación son factores importantes para predecir el valor de Y, y el estado civil (marr) tiene un impacto adicional en los grupos más educados. Las personas más jóvenes y educadas tienden a tener mayores valores en Y, mientras que las personas casadas o con menos educación tienden a tener valores más bajos."
   ]
  },
  {
   "cell_type": "code",
   "execution_count": 11,
   "metadata": {
    "vscode": {
     "languageId": "r"
    }
   },
   "outputs": [
    {
     "data": {
      "text/plain": [
       "GRF tree object \n",
       "Number of training samples: 222 \n",
       "Variable splits: \n",
       "(1) split_variable: age  split_value: 20 \n",
       "  (2) * num_samples: 25  avg_Y: 4783.72 avg_W: 0.2 \n",
       "  (3) split_variable: re75  split_value: 863.479 \n",
       "    (4) split_variable: nodegree  split_value: 0 \n",
       "      (6) * num_samples: 18  avg_Y: 8052.32 avg_W: 0.56 \n",
       "      (7) split_variable: age  split_value: 27 \n",
       "        (8) * num_samples: 28  avg_Y: 3711.31 avg_W: 0.25 \n",
       "        (9) * num_samples: 16  avg_Y: 3201.24 avg_W: 0.31 \n",
       "    (5) * num_samples: 24  avg_Y: 6810.06 avg_W: 0.46 "
      ]
     },
     "metadata": {},
     "output_type": "display_data"
    }
   ],
   "source": [
    "#En cuarto lugar, vamos a ajustar un regresor de bosque aleatorio, para explicar los efectos heterogeneos\n",
    "cf <- causal_forest(X, Y, D)\n",
    "tree <- get_tree(cf, 1)\n",
    "tree"
   ]
  },
  {
   "cell_type": "code",
   "execution_count": 12,
   "metadata": {
    "vscode": {
     "languageId": "r"
    }
   },
   "outputs": [
    {
     "data": {
      "text/html": [
       "<table class=\"dataframe\">\n",
       "<caption>A data.frame: 8 × 2</caption>\n",
       "<thead>\n",
       "\t<tr><th scope=col>variable</th><th scope=col>importance</th></tr>\n",
       "\t<tr><th scope=col>&lt;chr&gt;</th><th scope=col>&lt;dbl&gt;</th></tr>\n",
       "</thead>\n",
       "<tbody>\n",
       "\t<tr><td>age     </td><td>0.309894023</td></tr>\n",
       "\t<tr><td>re74    </td><td>0.209354546</td></tr>\n",
       "\t<tr><td>educ    </td><td>0.173191332</td></tr>\n",
       "\t<tr><td>re75    </td><td>0.160908223</td></tr>\n",
       "\t<tr><td>marr    </td><td>0.065641863</td></tr>\n",
       "\t<tr><td>nodegree</td><td>0.054979589</td></tr>\n",
       "\t<tr><td>black   </td><td>0.024976238</td></tr>\n",
       "\t<tr><td>hisp    </td><td>0.001054186</td></tr>\n",
       "</tbody>\n",
       "</table>\n"
      ],
      "text/latex": [
       "A data.frame: 8 × 2\n",
       "\\begin{tabular}{ll}\n",
       " variable & importance\\\\\n",
       " <chr> & <dbl>\\\\\n",
       "\\hline\n",
       "\t age      & 0.309894023\\\\\n",
       "\t re74     & 0.209354546\\\\\n",
       "\t educ     & 0.173191332\\\\\n",
       "\t re75     & 0.160908223\\\\\n",
       "\t marr     & 0.065641863\\\\\n",
       "\t nodegree & 0.054979589\\\\\n",
       "\t black    & 0.024976238\\\\\n",
       "\t hisp     & 0.001054186\\\\\n",
       "\\end{tabular}\n"
      ],
      "text/markdown": [
       "\n",
       "A data.frame: 8 × 2\n",
       "\n",
       "| variable &lt;chr&gt; | importance &lt;dbl&gt; |\n",
       "|---|---|\n",
       "| age      | 0.309894023 |\n",
       "| re74     | 0.209354546 |\n",
       "| educ     | 0.173191332 |\n",
       "| re75     | 0.160908223 |\n",
       "| marr     | 0.065641863 |\n",
       "| nodegree | 0.054979589 |\n",
       "| black    | 0.024976238 |\n",
       "| hisp     | 0.001054186 |\n",
       "\n"
      ],
      "text/plain": [
       "  variable importance \n",
       "1 age      0.309894023\n",
       "2 re74     0.209354546\n",
       "3 educ     0.173191332\n",
       "4 re75     0.160908223\n",
       "5 marr     0.065641863\n",
       "6 nodegree 0.054979589\n",
       "7 black    0.024976238\n",
       "8 hisp     0.001054186"
      ]
     },
     "metadata": {},
     "output_type": "display_data"
    }
   ],
   "source": [
    "varimp <- variable_importance(cf)\n",
    "ranked.vars <- order(varimp, decreasing = TRUE)\n",
    "importances <- data.frame(variable = colnames(X)[ranked.vars], importance = varimp[ranked.vars])\n",
    "importances"
   ]
  },
  {
   "cell_type": "code",
   "execution_count": 13,
   "metadata": {
    "vscode": {
     "languageId": "r"
    }
   },
   "outputs": [],
   "source": [
    "#Por ultimo,  Graficar cómo cambia el efecto del tratamiento previsto en función de una variable de su elección.\n",
    "\n",
    "\n",
    "#Aislamos efectos predichos por variable\n",
    "df$predicted_effects <- predict(cf, X)$predictions\n",
    "  \n",
    "# Modificamos variable age en intervalos de 5\n",
    "df$age_bins <- floor(df$age / 5) * 5\n",
    "# Modificamos variable re74 en intervalos de 500 porque es continua\n",
    "df$age_bins[df$age_bins < 15] <- 15  # Reemplazamos por el valor mínimo de la variable\n",
    "predicted_effects_age <- aggregate(predicted_effects ~ age_bins, data = df, mean)\n",
    "\n",
    "df$re74_bins <- floor(df$re74 / 500) * 500  \n",
    "\n",
    "# Modificamos variable re75 en intervalos de 500 porque es continua\n",
    "predicted_effects_re74 <- aggregate(predicted_effects ~ re74_bins, data = df, mean)\n",
    "\n",
    "predicted_effects_educ <- aggregate(predicted_effects ~ educ, data = df, mean)\n",
    "\n",
    "df$re75_bins <- floor(df$re75 / 500) * 500  \n",
    "predicted_effects_re75 <- aggregate(predicted_effects ~ re75_bins, data = df, mean)"
   ]
  },
  {
   "cell_type": "code",
   "execution_count": 14,
   "metadata": {
    "vscode": {
     "languageId": "r"
    }
   },
   "outputs": [
    {
     "data": {
      "image/png": "[encoded data removed]",
      "text/plain": [
       "Plot with title \"Predicted Effects by re75\""
      ]
     },
     "metadata": {
      "image/png": {
       "height": 420,
       "width": 420
      }
     },
     "output_type": "display_data"
    }
   ],
   "source": [
    "par(mfrow = c(2, 2))\n",
    "\n",
    "# Predicted effects by age\n",
    "plot(predicted_effects_age$age, predicted_effects_age$predicted_effects, type = \"l\", col = \"orange\",\n",
    "     xlab = \"Age in years\", ylab = \"Predicted Effects\", main = \"Predicted Effects by age\")\n",
    "\n",
    "# Predicted effects by re74\n",
    "plot(predicted_effects_re74$re74, predicted_effects_re74$predicted_effects, type = \"l\", col = \"gray\",\n",
    "     xlab = \"Real earnings 1974 (in thousands of dollars)\", ylab = \"Predicted Effects\", main = \"Predicted Effects by re74\")\n",
    "\n",
    "# Predicted effects by educ\n",
    "plot(predicted_effects_educ$educ, predicted_effects_educ$predicted_effects, type = \"l\", col = \"pink\",\n",
    "     xlab = \"Years of education\", ylab = \"Predicted Effects\", main = \"Predicted Effects by educ\")\n",
    "\n",
    "# Predicted effects by re75\n",
    "plot(predicted_effects_re75$re75, predicted_effects_re75$predicted_effects, type = \"l\", col = \"green\",\n",
    "     xlab = \"Real earnings 1975 (in thousands of dollars)\", ylab = \"Predicted Effects\", main = \"Predicted Effects by re75\")"
   ]
  },
  {
   "cell_type": "code",
   "execution_count": null,
   "metadata": {
    "vscode": {
     "languageId": "r"
    }
   },
   "outputs": [
    {
     "ename": "",
     "evalue": "",
     "output_type": "error",
     "traceback": [
      "\u001b[1;31mFailed to start the Kernel. \n",
      "\u001b[1;31mUnable to start Kernel 'R' due to a timeout waiting for the ports to get used. \n",
      "\u001b[1;31mView Jupyter <a href='command:jupyter.viewOutput'>log</a> for further details."
     ]
    }
   ],
   "source": [
    "##PARTE 2: machine learning \n",
    "# cargar datos de NSW observacionales\n",
    "# Cargar datos de NSW observacionales\n",
    "url_obs_data <- \"https://raw.githubusercontent.com/vincentarelbundock/Rdatasets/master/csv/DAAG/nsw74psid2.csv\"\n",
    "obs_data <- read.csv(url_obs_data)\n",
    "\n",
    "# Visualizar los datos\n",
    "head(obs_data)\n",
    "*2.2 Comparación de grupos\n",
    "# Resumen de estadísticas para tratamiento y control\n",
    "obs_data %>% group_by(treat) %>% \n",
    "  summarise(\n",
    "    mean_educ = mean(educ),\n",
    "    mean_age = mean(age),\n",
    "    mean_re75 = mean(re75)\n",
    "  )\n",
    "*2.3 Calcular el SMD\n",
    "# Calcular el SMD (Simple Mean Difference)\n",
    "treatment_group_obs <- obs_data %>% filter(treat == 1)\n",
    "control_group_obs <- obs_data %>% filter(treat == 0)\n",
    "\n",
    "SMD <- mean(treatment_group_obs$re78) - mean(control_group_obs$re78)\n",
    "print(paste(\"El SMD es:\", round(SMD, 2)))\n",
    "*2.4 Usar el método DML\n",
    "# Cargar librería para DML\n",
    "library(DoubleML)\n",
    "\n",
    "# Preparar datos para DML\n",
    "dml_data <- DoubleMLData$new(data = obs_data, y_col = \"re78\", d_cols = \"treat\")\n",
    "\n",
    "# Ajustar el modelo\n",
    "set.seed(123)\n",
    "learner <- lrn(\"regr.ranger\")  # Random forest como predictor\n",
    "dml_model <- DoubleMLPLR$new(data = dml_data, ml_g = learner, ml_m = learner)\n",
    "\n",
    "# Entrenar el modelo\n",
    "dml_model$fit()\n",
    "\n",
    "# Estimar el ATE y el MSE\n",
    "ATE_dml <- dml_model$coef\n",
    "MSE <- dml_model$model_fit_stats\n",
    "print(paste(\"ATE usando DML:\", round(ATE_dml, 2)))\n",
    "print(MSE)"
   ]
  },
  {
   "cell_type": "code",
   "execution_count": null,
   "metadata": {
    "vscode": {
     "languageId": "r"
    }
   },
   "outputs": [],
   "source": []
  }
 ],
 "metadata": {
  "kernelspec": {
   "display_name": "R",
   "language": "R",
   "name": "ir"
  },
  "language_info": {
   "codemirror_mode": "r",
   "file_extension": ".r",
   "mimetype": "text/x-r-source",
   "name": "R",
   "pygments_lexer": "r",
   "version": "4.4.1"
  }
 },
 "nbformat": 4,
 "nbformat_minor": 2
}
