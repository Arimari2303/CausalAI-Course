{
 "cells": [
  {
   "cell_type": "code",
   "execution_count": 1,
   "id": "c5042c2a",
   "metadata": {},
   "outputs": [
    {
     "name": "stdout",
     "output_type": "stream",
     "text": [
      "   treat  age  educ  black  hisp  marr  nodegree  re74  re75          re78\n",
      "0      1   37    11      1     0     1         1   0.0   0.0   9930.045898\n",
      "1      1   22     9      0     1     0         1   0.0   0.0   3595.894043\n",
      "2      1   30    12      1     0     0         0   0.0   0.0  24909.449219\n",
      "3      1   27    11      1     0     0         1   0.0   0.0   7506.145996\n",
      "4      1   33     8      1     0     0         1   0.0   0.0    289.789886\n"
     ]
    }
   ],
   "source": [
    "import pandas as pd\n",
    "import requests\n",
    "from io import StringIO\n",
    "\n",
    "# Define the URL of the CSV file\n",
    "url = \"https://raw.githubusercontent.com/d2cml-ai/CausalAI-Course/main/Labs/Assignment/Assignment_5/data/experimental/experimental_control.csv\"\n",
    "\n",
    "# Download the file from the URL\n",
    "response = requests.get(url)\n",
    "\n",
    "# Read the CSV file directly into a pandas DataFrame\n",
    "df = pd.read_csv(StringIO(response.text))\n",
    "\n",
    "# Display the first 5 rows of the DataFrame\n",
    "print(df.head(5))\n"
   ]
  },
  {
   "cell_type": "code",
   "execution_count": 2,
   "id": "7e2d6d0a",
   "metadata": {},
   "outputs": [
    {
     "name": "stdout",
     "output_type": "stream",
     "text": [
      "Requirement already satisfied: pandas in c:\\users\\maricielo\\anaconda3\\lib\\site-packages (1.4.4)\n",
      "Requirement already satisfied: numpy in c:\\users\\maricielo\\anaconda3\\lib\\site-packages (1.24.0)\n",
      "Requirement already satisfied: python-dateutil>=2.8.1 in c:\\users\\maricielo\\anaconda3\\lib\\site-packages (from pandas) (2.8.2)\n",
      "Requirement already satisfied: pytz>=2020.1 in c:\\users\\maricielo\\anaconda3\\lib\\site-packages (from pandas) (2022.1)\n",
      "Requirement already satisfied: six>=1.5 in c:\\users\\maricielo\\anaconda3\\lib\\site-packages (from python-dateutil>=2.8.1->pandas) (1.16.0)\n"
     ]
    }
   ],
   "source": [
    "!pip install pandas numpy"
   ]
  },
  {
   "cell_type": "code",
   "execution_count": 3,
   "id": "21702f1c",
   "metadata": {},
   "outputs": [],
   "source": [
    "import numpy as np"
   ]
  },
  {
   "cell_type": "code",
   "execution_count": 4,
   "id": "55434c3b",
   "metadata": {},
   "outputs": [
    {
     "name": "stdout",
     "output_type": "stream",
     "text": [
      "      names    types  scitypes\n",
      "0     treat    int64   integer\n",
      "1       age    int64   integer\n",
      "2      educ    int64   integer\n",
      "3     black    int64   integer\n",
      "4      hisp    int64   integer\n",
      "5      marr    int64   integer\n",
      "6  nodegree    int64   integer\n",
      "7      re74  float64  floating\n",
      "8      re75  float64  floating\n",
      "9      re78  float64  floating\n"
     ]
    }
   ],
   "source": [
    "# 'df` is your DataFrame\n",
    "summary_table = pd.DataFrame({\n",
    "    \"names\": df.columns,                  # Column names\n",
    "    \"types\": [df[col].dtype for col in df.columns],  # Data types\n",
    "    \"scitypes\": [pd.api.types.infer_dtype(df[col]) for col in df.columns]  # Inferred scientific types\n",
    "})\n",
    "\n",
    "print(summary_table)"
   ]
  },
  {
   "cell_type": "code",
   "execution_count": 5,
   "id": "79cb843d",
   "metadata": {},
   "outputs": [
    {
     "name": "stdout",
     "output_type": "stream",
     "text": [
      "The Average Treatment Effect (ATE) is: 1794.3423818501024\n"
     ]
    }
   ],
   "source": [
    "#1.2.# Calculate mean for the treatment group\n",
    "mean_treat = df[df[\"treat\"] == 1][\"re78\"].mean()\n",
    "\n",
    "# Calculate mean for the control group\n",
    "mean_control = df[df[\"treat\"] == 0][\"re78\"].mean()\n",
    "\n",
    "# Calculate the ATE\n",
    "ATE = mean_treat - mean_control\n",
    "\n",
    "print(f\"The Average Treatment Effect (ATE) is: {ATE}\")"
   ]
  },
  {
   "cell_type": "code",
   "execution_count": 7,
   "id": "efb1503d",
   "metadata": {},
   "outputs": [
    {
     "name": "stdout",
     "output_type": "stream",
     "text": [
      "                            OLS Regression Results                            \n",
      "==============================================================================\n",
      "Dep. Variable:                   re78   R-squared:                       0.018\n",
      "Model:                            OLS   Adj. R-squared:                  0.016\n",
      "Method:                 Least Squares   F-statistic:                     8.039\n",
      "Date:                Tue, 03 Dec 2024   Prob (F-statistic):            0.00479\n",
      "Time:                        22:00:51   Log-Likelihood:                -4542.7\n",
      "No. Observations:                 445   AIC:                             9089.\n",
      "Df Residuals:                     443   BIC:                             9098.\n",
      "Df Model:                           1                                         \n",
      "Covariance Type:            nonrobust                                         \n",
      "==============================================================================\n",
      "                 coef    std err          t      P>|t|      [0.025      0.975]\n",
      "------------------------------------------------------------------------------\n",
      "Intercept   4554.8011    408.046     11.162      0.000    3752.855    5356.747\n",
      "treat       1794.3424    632.853      2.835      0.005     550.574    3038.110\n",
      "==============================================================================\n",
      "Omnibus:                      282.071   Durbin-Watson:                   2.064\n",
      "Prob(Omnibus):                  0.000   Jarque-Bera (JB):             3430.892\n",
      "Skew:                           2.547   Prob(JB):                         0.00\n",
      "Kurtosis:                      15.613   Cond. No.                         2.47\n",
      "==============================================================================\n",
      "\n",
      "Notes:\n",
      "[1] Standard Errors assume that the covariance matrix of the errors is correctly specified.\n"
     ]
    }
   ],
   "source": [
    "#Second Method\n",
    "import statsmodels.formula.api as smf\n",
    "\n",
    "# Fit the linear model\n",
    "model = smf.ols(formula=\"re78 ~ treat\", data=df).fit()\n",
    "\n",
    "# Print the summary of the model\n",
    "print(model.summary())"
   ]
  },
  {
   "cell_type": "markdown",
   "id": "60777e40",
   "metadata": {},
   "source": [
    "The program positively influenced participants' income, boosting their earnings by an average of 1,794.34 monetary units compared to the control group. This suggests that the program is effective in enhancing participants' income."
   ]
  },
  {
   "cell_type": "code",
   "execution_count": 8,
   "id": "e8f29905",
   "metadata": {},
   "outputs": [
    {
     "name": "stdout",
     "output_type": "stream",
     "text": [
      "Requirement already satisfied: scikit-learn in c:\\users\\maricielo\\anaconda3\\lib\\site-packages (1.0.2)\n",
      "Requirement already satisfied: pandas in c:\\users\\maricielo\\anaconda3\\lib\\site-packages (1.4.4)\n",
      "Requirement already satisfied: seaborn in c:\\users\\maricielo\\anaconda3\\lib\\site-packages (0.11.2)\n",
      "Requirement already satisfied: scipy>=1.1.0 in c:\\users\\maricielo\\anaconda3\\lib\\site-packages (from scikit-learn) (1.9.1)\n",
      "Requirement already satisfied: joblib>=0.11 in c:\\users\\maricielo\\anaconda3\\lib\\site-packages (from scikit-learn) (1.1.0)\n",
      "Requirement already satisfied: numpy>=1.14.6 in c:\\users\\maricielo\\anaconda3\\lib\\site-packages (from scikit-learn) (1.24.0)\n",
      "Requirement already satisfied: threadpoolctl>=2.0.0 in c:\\users\\maricielo\\anaconda3\\lib\\site-packages (from scikit-learn) (2.2.0)\n",
      "Requirement already satisfied: pytz>=2020.1 in c:\\users\\maricielo\\anaconda3\\lib\\site-packages (from pandas) (2022.1)\n",
      "Requirement already satisfied: python-dateutil>=2.8.1 in c:\\users\\maricielo\\anaconda3\\lib\\site-packages (from pandas) (2.8.2)\n",
      "Requirement already satisfied: matplotlib>=2.2 in c:\\users\\maricielo\\anaconda3\\lib\\site-packages (from seaborn) (3.5.2)\n",
      "Requirement already satisfied: packaging>=20.0 in c:\\users\\maricielo\\anaconda3\\lib\\site-packages (from matplotlib>=2.2->seaborn) (21.3)\n",
      "Requirement already satisfied: fonttools>=4.22.0 in c:\\users\\maricielo\\anaconda3\\lib\\site-packages (from matplotlib>=2.2->seaborn) (4.25.0)\n",
      "Requirement already satisfied: pyparsing>=2.2.1 in c:\\users\\maricielo\\anaconda3\\lib\\site-packages (from matplotlib>=2.2->seaborn) (3.0.9)\n",
      "Requirement already satisfied: cycler>=0.10 in c:\\users\\maricielo\\anaconda3\\lib\\site-packages (from matplotlib>=2.2->seaborn) (0.11.0)\n",
      "Requirement already satisfied: kiwisolver>=1.0.1 in c:\\users\\maricielo\\anaconda3\\lib\\site-packages (from matplotlib>=2.2->seaborn) (1.4.2)\n",
      "Requirement already satisfied: pillow>=6.2.0 in c:\\users\\maricielo\\anaconda3\\lib\\site-packages (from matplotlib>=2.2->seaborn) (9.2.0)\n",
      "Requirement already satisfied: six>=1.5 in c:\\users\\maricielo\\anaconda3\\lib\\site-packages (from python-dateutil>=2.8.1->pandas) (1.16.0)\n"
     ]
    }
   ],
   "source": [
    "#1.3.# Install libraries using pip\n",
    "!pip install scikit-learn pandas seaborn\n"
   ]
  },
  {
   "cell_type": "code",
   "execution_count": 14,
   "id": "21c23ed8",
   "metadata": {},
   "outputs": [],
   "source": [
    "import pandas as pd\n",
    "from sklearn.model_selection import train_test_split\n",
    "\n",
    "# Assuming `df` is a pandas DataFrame\n",
    "\n",
    "# Step 1: Ensure certain columns are treated as continuous\n",
    "df[\"age\"] = pd.to_numeric(df[\"age\"], errors=\"coerce\")\n",
    "df[\"educ\"] = pd.to_numeric(df[\"educ\"], errors=\"coerce\")\n",
    "\n",
    "# Step 2: Convert Count-like columns to categorical (Multiclass)\n",
    "\n",
    "count_columns = [\"age\", \"educ\"]  \n",
    "for col in count_columns:\n",
    "    df[col] = df[col].astype(\"category\")\n",
    "\n",
    "# Step 3: Split target (y) and predictors (X)\n",
    "y = df[\"re78\"]  # Target variable\n",
    "X = df.drop(columns=[\"re78\"])  # All other columns are predictors\n",
    "\n",
    "# Step 4: Convert specific predictors (Count) to categorical\n",
    "for col in count_columns:\n",
    "    X[col] = X[col].astype(\"category\")\n",
    "\n",
    "# Step 5: Further split data to isolate treatment column\n",
    "D = X[\"treat\"]  # Treatment variable\n",
    "X = X.drop(columns=[\"treat\"])  # Remaining predictors"
   ]
  },
  {
   "cell_type": "code",
   "execution_count": 17,
   "id": "2b625536",
   "metadata": {},
   "outputs": [
    {
     "name": "stdout",
     "output_type": "stream",
     "text": [
      "   treat  age  educ    re74    re75    re78  encoder__black_0  \\\n",
      "0      1   22    12  2000.0  2100.0  2200.0               1.0   \n",
      "1      0   25    10  2500.0  2400.0  2600.0               0.0   \n",
      "2      1   30    14  3000.0  3100.0  3200.0               1.0   \n",
      "\n",
      "   encoder__black_1  encoder__hisp_0  encoder__hisp_1  encoder__marr_0  \\\n",
      "0               0.0              0.0              1.0              0.0   \n",
      "1               1.0              1.0              0.0              1.0   \n",
      "2               0.0              1.0              0.0              0.0   \n",
      "\n",
      "   encoder__marr_1  encoder__nodegree_0  encoder__nodegree_1  \\\n",
      "0              1.0                  1.0                  0.0   \n",
      "1              0.0                  0.0                  1.0   \n",
      "2              1.0                  1.0                  0.0   \n",
      "\n",
      "   remainder__treat  remainder__age  remainder__educ  remainder__re74  \\\n",
      "0               1.0            22.0             12.0           2000.0   \n",
      "1               0.0            25.0             10.0           2500.0   \n",
      "2               1.0            30.0             14.0           3000.0   \n",
      "\n",
      "   remainder__re75  remainder__re78  \n",
      "0           2100.0           2200.0  \n",
      "1           2400.0           2600.0  \n",
      "2           3100.0           3200.0  \n"
     ]
    }
   ],
   "source": [
    "import pandas as pd\n",
    "from sklearn.preprocessing import OneHotEncoder\n",
    "from sklearn.compose import ColumnTransformer\n",
    "from sklearn.pipeline import Pipeline\n",
    "\n",
    "# Example DataFrame (replace this with your actual data)\n",
    "data = {\n",
    "    'treat': [1, 0, 1],\n",
    "    'age': [22, 25, 30],\n",
    "    'educ': [12, 10, 14],\n",
    "    'black': [0, 1, 0],\n",
    "    'hisp': [1, 0, 0],\n",
    "    'marr': [1, 0, 1],\n",
    "    'nodegree': [0, 1, 0],\n",
    "    're74': [2000.0, 2500.0, 3000.0],\n",
    "    're75': [2100.0, 2400.0, 3100.0],\n",
    "    're78': [2200.0, 2600.0, 3200.0]\n",
    "}\n",
    "\n",
    "X = pd.DataFrame(data)\n",
    "\n",
    "# Specify the columns to be one-hot encoded\n",
    "columns_to_encode = ['black', 'hisp', 'marr', 'nodegree']\n",
    "\n",
    "# Create a ColumnTransformer with OneHotEncoder\n",
    "preprocessor = ColumnTransformer(\n",
    "    transformers=[\n",
    "        ('encoder', OneHotEncoder(sparse=False), columns_to_encode)\n",
    "    ], \n",
    "    remainder='passthrough'  # This keeps the other columns unchanged\n",
    ")\n",
    "\n",
    "# Create a pipeline to apply the transformation\n",
    "pipeline = Pipeline(steps=[('preprocessor', preprocessor)])\n",
    "\n",
    "# Fit and transform the data\n",
    "X_transformed = pipeline.fit_transform(X)\n",
    "\n",
    "# Get the feature names of the transformed columns automatically\n",
    "encoded_columns = pipeline.named_steps['preprocessor'].get_feature_names_out()\n",
    "\n",
    "# Convert the transformed data back into a DataFrame\n",
    "X_encoded = pd.DataFrame(X_transformed, columns=encoded_columns)\n",
    "\n",
    "# Optional: Add the other columns from X if needed (e.g., 'treat', 'age', 'educ', 're74', 're75', 're78')\n",
    "remaining_columns = [col for col in X.columns if col not in columns_to_encode]\n",
    "X_encoded = pd.concat([X[remaining_columns].reset_index(drop=True), X_encoded], axis=1)\n",
    "\n",
    "# Now X_encoded contains the one-hot encoded data along with the remaining columns\n",
    "print(X_encoded)\n"
   ]
  },
  {
   "cell_type": "code",
   "execution_count": 21,
   "id": "198e7d52",
   "metadata": {},
   "outputs": [
    {
     "ename": "ValueError",
     "evalue": "Buffer has wrong number of dimensions (expected 1, got 2)",
     "output_type": "error",
     "traceback": [
      "\u001b[1;31m---------------------------------------------------------------------------\u001b[0m",
      "\u001b[1;31mValueError\u001b[0m                                Traceback (most recent call last)",
      "\u001b[1;32m~\\AppData\\Local\\Temp\\ipykernel_2156\\3342569054.py\u001b[0m in \u001b[0;36m<module>\u001b[1;34m\u001b[0m\n\u001b[0;32m      2\u001b[0m \u001b[1;33m\u001b[0m\u001b[0m\n\u001b[0;32m      3\u001b[0m \u001b[1;31m# Create the summary table with column names, scitypes (categorical or continuous), and types\u001b[0m\u001b[1;33m\u001b[0m\u001b[1;33m\u001b[0m\u001b[0m\n\u001b[1;32m----> 4\u001b[1;33m summary_table = pd.DataFrame({\n\u001b[0m\u001b[0;32m      5\u001b[0m     \u001b[1;34m'names'\u001b[0m\u001b[1;33m:\u001b[0m \u001b[0mdf\u001b[0m\u001b[1;33m.\u001b[0m\u001b[0mcolumns\u001b[0m\u001b[1;33m,\u001b[0m\u001b[1;33m\u001b[0m\u001b[1;33m\u001b[0m\u001b[0m\n\u001b[0;32m      6\u001b[0m     \u001b[1;34m'scitypes'\u001b[0m\u001b[1;33m:\u001b[0m \u001b[0mdf\u001b[0m\u001b[1;33m.\u001b[0m\u001b[0mapplymap\u001b[0m\u001b[1;33m(\u001b[0m\u001b[1;32mlambda\u001b[0m \u001b[0mx\u001b[0m\u001b[1;33m:\u001b[0m \u001b[1;34m'categorical'\u001b[0m \u001b[1;32mif\u001b[0m \u001b[0misinstance\u001b[0m\u001b[1;33m(\u001b[0m\u001b[0mx\u001b[0m\u001b[1;33m,\u001b[0m \u001b[0mint\u001b[0m\u001b[1;33m)\u001b[0m \u001b[1;32melse\u001b[0m \u001b[1;34m'continuous'\u001b[0m\u001b[1;33m)\u001b[0m\u001b[1;33m,\u001b[0m\u001b[1;33m\u001b[0m\u001b[1;33m\u001b[0m\u001b[0m\n",
      "\u001b[1;32m~\\anaconda3\\lib\\site-packages\\pandas\\core\\frame.py\u001b[0m in \u001b[0;36m__init__\u001b[1;34m(self, data, index, columns, dtype, copy)\u001b[0m\n\u001b[0;32m    634\u001b[0m         \u001b[1;32melif\u001b[0m \u001b[0misinstance\u001b[0m\u001b[1;33m(\u001b[0m\u001b[0mdata\u001b[0m\u001b[1;33m,\u001b[0m \u001b[0mdict\u001b[0m\u001b[1;33m)\u001b[0m\u001b[1;33m:\u001b[0m\u001b[1;33m\u001b[0m\u001b[1;33m\u001b[0m\u001b[0m\n\u001b[0;32m    635\u001b[0m             \u001b[1;31m# GH#38939 de facto copy defaults to False only in non-dict cases\u001b[0m\u001b[1;33m\u001b[0m\u001b[1;33m\u001b[0m\u001b[0m\n\u001b[1;32m--> 636\u001b[1;33m             \u001b[0mmgr\u001b[0m \u001b[1;33m=\u001b[0m \u001b[0mdict_to_mgr\u001b[0m\u001b[1;33m(\u001b[0m\u001b[0mdata\u001b[0m\u001b[1;33m,\u001b[0m \u001b[0mindex\u001b[0m\u001b[1;33m,\u001b[0m \u001b[0mcolumns\u001b[0m\u001b[1;33m,\u001b[0m \u001b[0mdtype\u001b[0m\u001b[1;33m=\u001b[0m\u001b[0mdtype\u001b[0m\u001b[1;33m,\u001b[0m \u001b[0mcopy\u001b[0m\u001b[1;33m=\u001b[0m\u001b[0mcopy\u001b[0m\u001b[1;33m,\u001b[0m \u001b[0mtyp\u001b[0m\u001b[1;33m=\u001b[0m\u001b[0mmanager\u001b[0m\u001b[1;33m)\u001b[0m\u001b[1;33m\u001b[0m\u001b[1;33m\u001b[0m\u001b[0m\n\u001b[0m\u001b[0;32m    637\u001b[0m         \u001b[1;32melif\u001b[0m \u001b[0misinstance\u001b[0m\u001b[1;33m(\u001b[0m\u001b[0mdata\u001b[0m\u001b[1;33m,\u001b[0m \u001b[0mma\u001b[0m\u001b[1;33m.\u001b[0m\u001b[0mMaskedArray\u001b[0m\u001b[1;33m)\u001b[0m\u001b[1;33m:\u001b[0m\u001b[1;33m\u001b[0m\u001b[1;33m\u001b[0m\u001b[0m\n\u001b[0;32m    638\u001b[0m             \u001b[1;32mimport\u001b[0m \u001b[0mnumpy\u001b[0m\u001b[1;33m.\u001b[0m\u001b[0mma\u001b[0m\u001b[1;33m.\u001b[0m\u001b[0mmrecords\u001b[0m \u001b[1;32mas\u001b[0m \u001b[0mmrecords\u001b[0m\u001b[1;33m\u001b[0m\u001b[1;33m\u001b[0m\u001b[0m\n",
      "\u001b[1;32m~\\anaconda3\\lib\\site-packages\\pandas\\core\\internals\\construction.py\u001b[0m in \u001b[0;36mdict_to_mgr\u001b[1;34m(data, index, columns, dtype, typ, copy)\u001b[0m\n\u001b[0;32m    500\u001b[0m         \u001b[1;31m# TODO: can we get rid of the dt64tz special case above?\u001b[0m\u001b[1;33m\u001b[0m\u001b[1;33m\u001b[0m\u001b[0m\n\u001b[0;32m    501\u001b[0m \u001b[1;33m\u001b[0m\u001b[0m\n\u001b[1;32m--> 502\u001b[1;33m     \u001b[1;32mreturn\u001b[0m \u001b[0marrays_to_mgr\u001b[0m\u001b[1;33m(\u001b[0m\u001b[0marrays\u001b[0m\u001b[1;33m,\u001b[0m \u001b[0mcolumns\u001b[0m\u001b[1;33m,\u001b[0m \u001b[0mindex\u001b[0m\u001b[1;33m,\u001b[0m \u001b[0mdtype\u001b[0m\u001b[1;33m=\u001b[0m\u001b[0mdtype\u001b[0m\u001b[1;33m,\u001b[0m \u001b[0mtyp\u001b[0m\u001b[1;33m=\u001b[0m\u001b[0mtyp\u001b[0m\u001b[1;33m,\u001b[0m \u001b[0mconsolidate\u001b[0m\u001b[1;33m=\u001b[0m\u001b[0mcopy\u001b[0m\u001b[1;33m)\u001b[0m\u001b[1;33m\u001b[0m\u001b[1;33m\u001b[0m\u001b[0m\n\u001b[0m\u001b[0;32m    503\u001b[0m \u001b[1;33m\u001b[0m\u001b[0m\n\u001b[0;32m    504\u001b[0m \u001b[1;33m\u001b[0m\u001b[0m\n",
      "\u001b[1;32m~\\anaconda3\\lib\\site-packages\\pandas\\core\\internals\\construction.py\u001b[0m in \u001b[0;36marrays_to_mgr\u001b[1;34m(arrays, columns, index, dtype, verify_integrity, typ, consolidate)\u001b[0m\n\u001b[0;32m    123\u001b[0m \u001b[1;33m\u001b[0m\u001b[0m\n\u001b[0;32m    124\u001b[0m         \u001b[1;31m# don't force copy because getting jammed in an ndarray anyway\u001b[0m\u001b[1;33m\u001b[0m\u001b[1;33m\u001b[0m\u001b[0m\n\u001b[1;32m--> 125\u001b[1;33m         \u001b[0marrays\u001b[0m \u001b[1;33m=\u001b[0m \u001b[0m_homogenize\u001b[0m\u001b[1;33m(\u001b[0m\u001b[0marrays\u001b[0m\u001b[1;33m,\u001b[0m \u001b[0mindex\u001b[0m\u001b[1;33m,\u001b[0m \u001b[0mdtype\u001b[0m\u001b[1;33m)\u001b[0m\u001b[1;33m\u001b[0m\u001b[1;33m\u001b[0m\u001b[0m\n\u001b[0m\u001b[0;32m    126\u001b[0m         \u001b[1;31m# _homogenize ensures\u001b[0m\u001b[1;33m\u001b[0m\u001b[1;33m\u001b[0m\u001b[0m\n\u001b[0;32m    127\u001b[0m         \u001b[1;31m#  - all(len(x) == len(index) for x in arrays)\u001b[0m\u001b[1;33m\u001b[0m\u001b[1;33m\u001b[0m\u001b[0m\n",
      "\u001b[1;32m~\\anaconda3\\lib\\site-packages\\pandas\\core\\internals\\construction.py\u001b[0m in \u001b[0;36m_homogenize\u001b[1;34m(data, index, dtype)\u001b[0m\n\u001b[0;32m    623\u001b[0m                 \u001b[0mval\u001b[0m \u001b[1;33m=\u001b[0m \u001b[0mlib\u001b[0m\u001b[1;33m.\u001b[0m\u001b[0mfast_multiget\u001b[0m\u001b[1;33m(\u001b[0m\u001b[0mval\u001b[0m\u001b[1;33m,\u001b[0m \u001b[0moindex\u001b[0m\u001b[1;33m.\u001b[0m\u001b[0m_values\u001b[0m\u001b[1;33m,\u001b[0m \u001b[0mdefault\u001b[0m\u001b[1;33m=\u001b[0m\u001b[0mnp\u001b[0m\u001b[1;33m.\u001b[0m\u001b[0mnan\u001b[0m\u001b[1;33m)\u001b[0m\u001b[1;33m\u001b[0m\u001b[1;33m\u001b[0m\u001b[0m\n\u001b[0;32m    624\u001b[0m \u001b[1;33m\u001b[0m\u001b[0m\n\u001b[1;32m--> 625\u001b[1;33m             val = sanitize_array(\n\u001b[0m\u001b[0;32m    626\u001b[0m                 \u001b[0mval\u001b[0m\u001b[1;33m,\u001b[0m \u001b[0mindex\u001b[0m\u001b[1;33m,\u001b[0m \u001b[0mdtype\u001b[0m\u001b[1;33m=\u001b[0m\u001b[0mdtype\u001b[0m\u001b[1;33m,\u001b[0m \u001b[0mcopy\u001b[0m\u001b[1;33m=\u001b[0m\u001b[1;32mFalse\u001b[0m\u001b[1;33m,\u001b[0m \u001b[0mraise_cast_failure\u001b[0m\u001b[1;33m=\u001b[0m\u001b[1;32mFalse\u001b[0m\u001b[1;33m\u001b[0m\u001b[1;33m\u001b[0m\u001b[0m\n\u001b[0;32m    627\u001b[0m             )\n",
      "\u001b[1;32m~\\anaconda3\\lib\\site-packages\\pandas\\core\\construction.py\u001b[0m in \u001b[0;36msanitize_array\u001b[1;34m(data, index, dtype, copy, raise_cast_failure, allow_2d)\u001b[0m\n\u001b[0;32m    594\u001b[0m             \u001b[0msubarr\u001b[0m \u001b[1;33m=\u001b[0m \u001b[0m_try_cast\u001b[0m\u001b[1;33m(\u001b[0m\u001b[0mdata\u001b[0m\u001b[1;33m,\u001b[0m \u001b[0mdtype\u001b[0m\u001b[1;33m,\u001b[0m \u001b[0mcopy\u001b[0m\u001b[1;33m,\u001b[0m \u001b[0mraise_cast_failure\u001b[0m\u001b[1;33m)\u001b[0m\u001b[1;33m\u001b[0m\u001b[1;33m\u001b[0m\u001b[0m\n\u001b[0;32m    595\u001b[0m         \u001b[1;32melse\u001b[0m\u001b[1;33m:\u001b[0m\u001b[1;33m\u001b[0m\u001b[1;33m\u001b[0m\u001b[0m\n\u001b[1;32m--> 596\u001b[1;33m             \u001b[0msubarr\u001b[0m \u001b[1;33m=\u001b[0m \u001b[0mmaybe_convert_platform\u001b[0m\u001b[1;33m(\u001b[0m\u001b[0mdata\u001b[0m\u001b[1;33m)\u001b[0m\u001b[1;33m\u001b[0m\u001b[1;33m\u001b[0m\u001b[0m\n\u001b[0m\u001b[0;32m    597\u001b[0m             \u001b[1;32mif\u001b[0m \u001b[0msubarr\u001b[0m\u001b[1;33m.\u001b[0m\u001b[0mdtype\u001b[0m \u001b[1;33m==\u001b[0m \u001b[0mobject\u001b[0m\u001b[1;33m:\u001b[0m\u001b[1;33m\u001b[0m\u001b[1;33m\u001b[0m\u001b[0m\n\u001b[0;32m    598\u001b[0m                 \u001b[0msubarr\u001b[0m \u001b[1;33m=\u001b[0m \u001b[0mcast\u001b[0m\u001b[1;33m(\u001b[0m\u001b[0mnp\u001b[0m\u001b[1;33m.\u001b[0m\u001b[0mndarray\u001b[0m\u001b[1;33m,\u001b[0m \u001b[0msubarr\u001b[0m\u001b[1;33m)\u001b[0m\u001b[1;33m\u001b[0m\u001b[1;33m\u001b[0m\u001b[0m\n",
      "\u001b[1;32m~\\anaconda3\\lib\\site-packages\\pandas\\core\\dtypes\\cast.py\u001b[0m in \u001b[0;36mmaybe_convert_platform\u001b[1;34m(values)\u001b[0m\n\u001b[0;32m    128\u001b[0m     \u001b[1;32mif\u001b[0m \u001b[0marr\u001b[0m\u001b[1;33m.\u001b[0m\u001b[0mdtype\u001b[0m \u001b[1;33m==\u001b[0m \u001b[0m_dtype_obj\u001b[0m\u001b[1;33m:\u001b[0m\u001b[1;33m\u001b[0m\u001b[1;33m\u001b[0m\u001b[0m\n\u001b[0;32m    129\u001b[0m         \u001b[0marr\u001b[0m \u001b[1;33m=\u001b[0m \u001b[0mcast\u001b[0m\u001b[1;33m(\u001b[0m\u001b[0mnp\u001b[0m\u001b[1;33m.\u001b[0m\u001b[0mndarray\u001b[0m\u001b[1;33m,\u001b[0m \u001b[0marr\u001b[0m\u001b[1;33m)\u001b[0m\u001b[1;33m\u001b[0m\u001b[1;33m\u001b[0m\u001b[0m\n\u001b[1;32m--> 130\u001b[1;33m         \u001b[0marr\u001b[0m \u001b[1;33m=\u001b[0m \u001b[0mlib\u001b[0m\u001b[1;33m.\u001b[0m\u001b[0mmaybe_convert_objects\u001b[0m\u001b[1;33m(\u001b[0m\u001b[0marr\u001b[0m\u001b[1;33m)\u001b[0m\u001b[1;33m\u001b[0m\u001b[1;33m\u001b[0m\u001b[0m\n\u001b[0m\u001b[0;32m    131\u001b[0m \u001b[1;33m\u001b[0m\u001b[0m\n\u001b[0;32m    132\u001b[0m     \u001b[1;32mreturn\u001b[0m \u001b[0marr\u001b[0m\u001b[1;33m\u001b[0m\u001b[1;33m\u001b[0m\u001b[0m\n",
      "\u001b[1;32m~\\anaconda3\\lib\\site-packages\\pandas\\_libs\\lib.pyx\u001b[0m in \u001b[0;36mpandas._libs.lib.maybe_convert_objects\u001b[1;34m()\u001b[0m\n",
      "\u001b[1;31mValueError\u001b[0m: Buffer has wrong number of dimensions (expected 1, got 2)"
     ]
    }
   ],
   "source": [
    "df = pd.DataFrame(data)\n",
    "\n",
    "# Create the summary table with column names, scitypes (categorical or continuous), and types\n",
    "summary_table = pd.DataFrame({\n",
    "    'names': df.columns,\n",
    "    'scitypes': df.applymap(lambda x: 'categorical' if isinstance(x, int) else 'continuous'),\n",
    "    'types': df.dtypes\n",
    "})\n",
    "\n",
    "print(summary_table)"
   ]
  },
  {
   "cell_type": "code",
   "execution_count": 23,
   "id": "649bd90c",
   "metadata": {},
   "outputs": [
    {
     "name": "stdout",
     "output_type": "stream",
     "text": [
      "Accuracy: 1.0\n"
     ]
    }
   ],
   "source": [
    "import pandas as pd\n",
    "from sklearn.linear_model import LogisticRegression\n",
    "from sklearn.model_selection import train_test_split# Create the DataFrame\n",
    "df = pd.DataFrame(data)\n",
    "\n",
    "# Define the predictor variables (X) and target variable (D)\n",
    "X = df.drop(columns=['treat'])  # All columns except 'treat' (independent variables)\n",
    "D = df['treat']  # 'treat' column is the target variable\n",
    "\n",
    "# Split data into training and testing sets (optional)\n",
    "X_train, X_test, D_train, D_test = train_test_split(X, D, test_size=0.3, random_state=42)\n",
    "\n",
    "# Create and fit the logistic regression model\n",
    "log_model = LogisticRegression()\n",
    "\n",
    "# Train the model\n",
    "log_model.fit(X_train, D_train)\n",
    "\n",
    "# You can also evaluate the model, e.g., checking accuracy\n",
    "accuracy = log_model.score(X_test, D_test)\n",
    "print(f'Accuracy: {accuracy}')"
   ]
  },
  {
   "cell_type": "code",
   "execution_count": 24,
   "id": "22b255df",
   "metadata": {},
   "outputs": [
    {
     "name": "stdout",
     "output_type": "stream",
     "text": [
      "Propensity Scores: [9.99602801e-01 7.62694285e-04 9.99654292e-01]\n",
      "Y_star: 0    2200.874186\n",
      "1   -2601.984519\n",
      "2    3201.106647\n",
      "dtype: float64\n"
     ]
    }
   ],
   "source": [
    "import pandas as pd\n",
    "from sklearn.linear_model import LogisticRegression\n",
    "from sklearn.tree import DecisionTreeClassifier\n",
    "from sklearn.model_selection import train_test_split\n",
    "\n",
    "# Example DataFrame (replace with actual data)\n",
    "data = {\n",
    "    'treat': [1, 0, 1],\n",
    "    'age': [22, 25, 30],\n",
    "    'educ': [12, 10, 14],\n",
    "    'black': [0, 1, 0],\n",
    "    'hisp': [1, 0, 0],\n",
    "    'marr': [1, 0, 1],\n",
    "    'nodegree': [0, 1, 0],\n",
    "    're74': [2000.0, 2500.0, 3000.0],\n",
    "    're75': [2100.0, 2400.0, 3100.0],\n",
    "    're78': [2200.0, 2600.0, 3200.0]\n",
    "}\n",
    "\n",
    "# Create the DataFrame\n",
    "df = pd.DataFrame(data)\n",
    "\n",
    "# Define the predictor variables (X) and target variable (D)\n",
    "X = df.drop(columns=['treat', 're78'])  # All columns except 'treat' and 're78'\n",
    "D = df['treat']  # 'treat' column is the target variable\n",
    "\n",
    "# Train a logistic regression model (for propensity score estimation)\n",
    "log_model = LogisticRegression()\n",
    "log_model.fit(X, D)\n",
    "\n",
    "# Predict the propensity score (pscore) for each observation\n",
    "pscore = log_model.predict_proba(X)[:, 1]  # Probability of 'treat' = 1\n",
    "\n",
    "# Compute y_star using the given formula\n",
    "y_star = df['re78'] / (df['treat'] * pscore - (1 - df['treat']) * (1 - pscore))\n",
    "\n",
    "# Example of training a decision tree classifier (using the MLJDecisionTreeInterface equivalent in Python)\n",
    "# Create and fit a decision tree model (using sklearn)\n",
    "tree_model = DecisionTreeClassifier(random_state=42)\n",
    "tree_model.fit(X, D)\n",
    "\n",
    "# Predict with the decision tree (optional)\n",
    "tree_predictions = tree_model.predict(X)\n",
    "\n",
    "# Print some results for verification\n",
    "print(f'Propensity Scores: {pscore[:5]}')  # Show the first few propensity scores\n",
    "print(f'Y_star: {y_star[:5]}')  # Show the first few calculated y_star values\n"
   ]
  },
  {
   "cell_type": "code",
   "execution_count": 25,
   "id": "4d98ba2f",
   "metadata": {},
   "outputs": [
    {
     "name": "stdout",
     "output_type": "stream",
     "text": [
      "Predictions: [1088.19739538 -977.03184769 1756.37010842]\n"
     ]
    }
   ],
   "source": [
    "from sklearn.ensemble import RandomForestRegressor\n",
    "from sklearn.model_selection import train_test_split\n",
    "\n",
    "# Example DataFrame (replace with your actual data)\n",
    "data = {\n",
    "    'treat': [1, 0, 1],\n",
    "    'age': [22, 25, 30],\n",
    "    'educ': [12, 10, 14],\n",
    "    'black': [0, 1, 0],\n",
    "    'hisp': [1, 0, 0],\n",
    "    'marr': [1, 0, 1],\n",
    "    'nodegree': [0, 1, 0],\n",
    "    're74': [2000.0, 2500.0, 3000.0],\n",
    "    're75': [2100.0, 2400.0, 3100.0],\n",
    "    're78': [2200.0, 2600.0, 3200.0]\n",
    "}\n",
    "\n",
    "# Create the DataFrame\n",
    "df = pd.DataFrame(data)\n",
    "\n",
    "# Define the predictor variables (X) and target variable (y_star)\n",
    "X = df.drop(columns=['treat', 're78'])  # All columns except 'treat' and 're78'\n",
    "y_star = df['re78'] / (df['treat'] * pscore - (1 - df['treat']) * (1 - pscore))  # Using the previously calculated y_star\n",
    "\n",
    "# Remove specific columns (equivalent to `select!` in Julia)\n",
    "X = X.drop(columns=['black', 'hisp', 'marr', 'nodegree'])\n",
    "\n",
    "# Create and fit a RandomForestRegressor model\n",
    "forest_model = RandomForestRegressor(n_estimators=100, random_state=42)\n",
    "forest_model.fit(X, y_star)\n",
    "\n",
    "# Optionally, predict with the model (not required by the code, but you might want to check results)\n",
    "y_pred = forest_model.predict(X)\n",
    "\n",
    "# Print the predictions (optional)\n",
    "print(f'Predictions: {y_pred[:5]}')  # Show first few predictions\n"
   ]
  },
  {
   "cell_type": "code",
   "execution_count": 26,
   "id": "c8fa52a5",
   "metadata": {},
   "outputs": [
    {
     "name": "stdout",
     "output_type": "stream",
     "text": [
      "Feature importances: [0.1789166  0.42016614 0.1888468  0.21207046]\n"
     ]
    }
   ],
   "source": [
    "# Get feature importances after fitting the model\n",
    "feature_importances = forest_model.feature_importances_\n",
    "\n",
    "# Print the feature importances\n",
    "print(\"Feature importances:\", feature_importances)"
   ]
  },
  {
   "cell_type": "code",
   "execution_count": 29,
   "id": "4d034c1d",
   "metadata": {},
   "outputs": [
    {
     "name": "stdout",
     "output_type": "stream",
     "text": [
      "  variables  importance\n",
      "0       age    0.178917\n",
      "1      educ    0.420166\n",
      "2      re74    0.188847\n",
      "3      re75    0.212070\n"
     ]
    }
   ],
   "source": [
    "import pandas as pd\n",
    "\n",
    "# Get feature importances after fitting the RandomForestRegressor\n",
    "feature_importances = forest_model.feature_importances_\n",
    "\n",
    "# Create a DataFrame with feature names and their corresponding importance values\n",
    "importances = pd.DataFrame({\n",
    "    'variables': X.columns,           # Column names (features)\n",
    "    'importance': feature_importances # Corresponding feature importances\n",
    "})\n",
    "\n",
    "# Display the importances\n",
    "print(importances)\n"
   ]
  },
  {
   "cell_type": "code",
   "execution_count": 30,
   "id": "a8e6a018",
   "metadata": {},
   "outputs": [
    {
     "name": "stdout",
     "output_type": "stream",
     "text": [
      "   treat  age  educ  black  hisp  marr  nodegree    re74    re75    re78  \\\n",
      "0      1   22    12      0     1     1         0  2000.0  2100.0  2200.0   \n",
      "1      0   25    10      1     0     0         1  2500.0  2400.0  2600.0   \n",
      "2      1   30    14      0     0     1         0  3000.0  3100.0  3200.0   \n",
      "\n",
      "     effect  \n",
      "0  5.465007  \n",
      "1  1.788385  \n",
      "2  0.158494  \n"
     ]
    }
   ],
   "source": [
    "import numpy as np\n",
    "\n",
    "# Create the 'effect' column based on the formula\n",
    "df['effect'] = 7 * np.exp(-((df['age'] - 18) ** 2) / 100) + 3 * (df['treat'] == 1) - 2 * (df['black'] == 0) + (df['hisp'] == 1) - 2.5\n",
    "\n",
    "# Set any negative 'effect' values to 0\n",
    "df['effect'] = np.where(df['effect'] < 0, 0, df['effect'])\n",
    "\n",
    "# Display the updated DataFrame\n",
    "print(df)\n"
   ]
  },
  {
   "cell_type": "code",
   "execution_count": 31,
   "id": "bb4c2054",
   "metadata": {},
   "outputs": [
    {
     "name": "stdout",
     "output_type": "stream",
     "text": [
      "   age_bins  mean_effect\n",
      "0      22.0     5.465007\n",
      "1      25.0     1.788385\n",
      "2      30.0     0.158494\n"
     ]
    }
   ],
   "source": [
    "# Create age_bins by rounding the 'age' column to the nearest 0.5\n",
    "df['age_bins'] = (df['age'] * 2).round() / 2\n",
    "\n",
    "# Group by 'age_bins' and calculate the mean 'effect' for each bin\n",
    "effect_bins = df.groupby('age_bins')['effect'].mean().reset_index()\n",
    "\n",
    "# Rename the columns to match the output format\n",
    "effect_bins.columns = ['age_bins', 'mean_effect']\n",
    "\n",
    "# Display the result\n",
    "print(effect_bins)\n"
   ]
  },
  {
   "cell_type": "code",
   "execution_count": 32,
   "id": "41a1bdf5",
   "metadata": {},
   "outputs": [
    {
     "name": "stdout",
     "output_type": "stream",
     "text": [
      "Requirement already satisfied: matplotlib in c:\\users\\maricielo\\anaconda3\\lib\\site-packages (3.5.2)\n",
      "Requirement already satisfied: seaborn in c:\\users\\maricielo\\anaconda3\\lib\\site-packages (0.11.2)\n",
      "Requirement already satisfied: packaging>=20.0 in c:\\users\\maricielo\\anaconda3\\lib\\site-packages (from matplotlib) (21.3)\n",
      "Requirement already satisfied: python-dateutil>=2.7 in c:\\users\\maricielo\\anaconda3\\lib\\site-packages (from matplotlib) (2.8.2)\n",
      "Requirement already satisfied: fonttools>=4.22.0 in c:\\users\\maricielo\\anaconda3\\lib\\site-packages (from matplotlib) (4.25.0)\n",
      "Requirement already satisfied: pillow>=6.2.0 in c:\\users\\maricielo\\anaconda3\\lib\\site-packages (from matplotlib) (9.2.0)\n",
      "Requirement already satisfied: numpy>=1.17 in c:\\users\\maricielo\\anaconda3\\lib\\site-packages (from matplotlib) (1.24.0)\n",
      "Requirement already satisfied: kiwisolver>=1.0.1 in c:\\users\\maricielo\\anaconda3\\lib\\site-packages (from matplotlib) (1.4.2)\n",
      "Requirement already satisfied: cycler>=0.10 in c:\\users\\maricielo\\anaconda3\\lib\\site-packages (from matplotlib) (0.11.0)\n",
      "Requirement already satisfied: pyparsing>=2.2.1 in c:\\users\\maricielo\\anaconda3\\lib\\site-packages (from matplotlib) (3.0.9)\n",
      "Requirement already satisfied: scipy>=1.0 in c:\\users\\maricielo\\anaconda3\\lib\\site-packages (from seaborn) (1.9.1)\n",
      "Requirement already satisfied: pandas>=0.23 in c:\\users\\maricielo\\anaconda3\\lib\\site-packages (from seaborn) (1.4.4)\n",
      "Requirement already satisfied: pytz>=2020.1 in c:\\users\\maricielo\\anaconda3\\lib\\site-packages (from pandas>=0.23->seaborn) (2022.1)\n",
      "Requirement already satisfied: six>=1.5 in c:\\users\\maricielo\\anaconda3\\lib\\site-packages (from python-dateutil>=2.7->matplotlib) (1.16.0)\n",
      "Note: you may need to restart the kernel to use updated packages.\n"
     ]
    }
   ],
   "source": [
    "pip install matplotlib seaborn\n"
   ]
  },
  {
   "cell_type": "code",
   "execution_count": 34,
   "id": "a58c2bcd",
   "metadata": {},
   "outputs": [
    {
     "data": {
      "image/png": "[encoded data removed]",
      "text/plain": [
       "<Figure size 640x480 with 1 Axes>"
      ]
     },
     "metadata": {},
     "output_type": "display_data"
    }
   ],
   "source": [
    "import numpy as np\n",
    "import pandas as pd\n",
    "import matplotlib.pyplot as plt\n",
    "from sklearn.ensemble import RandomForestRegressor\n",
    "from sklearn.model_selection import train_test_split\n",
    "\n",
    "# Example: Assuming df is your DataFrame and it contains necessary columns such as 'age', 'effect', etc.\n",
    "# df = pd.read_csv('your_data.csv')  # Example: load your data\n",
    "\n",
    "# Step 1: Prepare your feature matrix (X) and target variable (y)\n",
    "X = df[['age', 'treat', 'educ', 'black', 'hisp', 'marr', 'nodegree', 're74', 're75']]  # Example feature columns\n",
    "y = df['effect']  # Example target variable\n",
    "\n",
    "# Step 2: Train-test split (optional, for training the model)\n",
    "X_train, X_test, y_train, y_test = train_test_split(X, y, test_size=0.2, random_state=42)\n",
    "\n",
    "# Step 3: Train a Random Forest model\n",
    "forest_model = RandomForestRegressor(n_estimators=100, random_state=42)\n",
    "forest_model.fit(X_train, y_train)\n",
    "\n",
    "# Step 4: Make predictions with the trained model\n",
    "predicted = forest_model.predict(X)  # Predict for the whole dataset (or X_test if using the test split)\n",
    "\n",
    "# Add the predicted effects to the DataFrame\n",
    "df['predicted_effect'] = predicted\n",
    "\n",
    "# Step 5: Create age bins\n",
    "df['age_bins'] = (df['age'] * 2).floordiv(1) / 2  # Equivalent to floor rounding to the nearest 0.5\n",
    "\n",
    "# Step 6: Group by 'age_bins' and calculate the mean 'effect' for each bin\n",
    "effect_bins = df.groupby('age_bins')['effect'].mean().reset_index()\n",
    "effect_bins = effect_bins.sort_values(by='age_bins')\n",
    "\n",
    "# Step 7: Group by 'age_bins' and calculate the mean 'predicted_effect' for each bin\n",
    "predicted_effect_bins = df.groupby('age_bins')['predicted_effect'].mean().reset_index()\n",
    "predicted_effect_bins = predicted_effect_bins.sort_values(by='age_bins')\n",
    "\n",
    "# Step 8: Plot the actual effect vs predicted effect\n",
    "plt.plot(effect_bins['age_bins'], effect_bins['effect'], label=\"Actual Effect\", lw=2)\n",
    "plt.plot(predicted_effect_bins['age_bins'], predicted_effect_bins['predicted_effect'], label=\"Predicted Effect\", lw=2, linestyle='--')\n",
    "\n",
    "# Step 9: Customize the plot\n",
    "plt.xlabel(\"Age Bins\")\n",
    "plt.ylabel(\"Effect\")\n",
    "plt.legend()\n",
    "plt.show()\n"
   ]
  },
  {
   "cell_type": "markdown",
   "id": "ea55b745",
   "metadata": {},
   "source": [
    "PART 2"
   ]
  },
  {
   "cell_type": "code",
   "execution_count": 36,
   "id": "9a050af1",
   "metadata": {},
   "outputs": [
    {
     "name": "stdout",
     "output_type": "stream",
     "text": [
      "   treat  age  educ  black  hisp  marr  nodegree       re74       re75  \\\n",
      "0      0   45    11      0     0     1         1  21.516670  25.243551   \n",
      "1      0   21    14      0     0     0         0   3.175971   5.852565   \n",
      "2      0   38    12      0     0     1         0  23.039020  25.130760   \n",
      "3      0   48     6      0     0     1         1  24.994369  25.243551   \n",
      "4      0   18     8      0     0     1         1   1.669295  10.727610   \n",
      "\n",
      "        re78  agesq  agecube  educsq  u74  u75  interaction1      re74sq  \\\n",
      "0  25.564670   2025    91125     121    0    0    236.683369  462.967085   \n",
      "1  13.496080    441     9261     196    0    0     44.463593   10.086791   \n",
      "2  25.564670   1444    54872     144    0    0    276.468234  530.796421   \n",
      "3  25.564670   2304   110592      36    0    0    149.966215  624.718489   \n",
      "4   9.860869    324     5832      64    0    0     13.354360    2.786546   \n",
      "\n",
      "       re75sq  \n",
      "0  637.236856  \n",
      "1   34.252516  \n",
      "2  631.555086  \n",
      "3  637.236856  \n",
      "4  115.081624  \n"
     ]
    }
   ],
   "source": [
    "import pandas as pd\n",
    "import numpy as np\n",
    "import statsmodels.api as sm\n",
    "from sklearn.linear_model import LogisticRegression\n",
    "from sklearn.model_selection import train_test_split\n",
    "from sklearn.ensemble import RandomForestRegressor\n",
    "from sklearn.metrics import mean_squared_error\n",
    "import requests\n",
    "from io import StringIO\n",
    "\n",
    "# Download the data from the URL\n",
    "url = \"https://github.com/d2cml-ai/CausalAI-Course/raw/refs/heads/main/Labs/Assignment/Assignment_5/data/observational/biased_control.csv\"\n",
    "response = requests.get(url)\n",
    "\n",
    "# Load the data into a DataFrame\n",
    "data = pd.read_csv(StringIO(response.text))\n",
    "\n",
    "# Display the first few rows of the dataframe to check if the data is loaded correctly\n",
    "print(data.head())\n"
   ]
  },
  {
   "cell_type": "code",
   "execution_count": 46,
   "id": "f0be12d7",
   "metadata": {},
   "outputs": [],
   "source": [
    "treatment = data[data['treat'] == 1]\n",
    "control = data[data['treat'] == 0]\n"
   ]
  },
  {
   "cell_type": "code",
   "execution_count": 40,
   "id": "73ddca1f",
   "metadata": {},
   "outputs": [],
   "source": [
    "variables_compare = ['age', 'educ', 'black']\n"
   ]
  },
  {
   "cell_type": "code",
   "execution_count": 42,
   "id": "a2fad7fe",
   "metadata": {},
   "outputs": [
    {
     "data": {
      "text/html": [
       "<div>\n",
       "<style scoped>\n",
       "    .dataframe tbody tr th:only-of-type {\n",
       "        vertical-align: middle;\n",
       "    }\n",
       "\n",
       "    .dataframe tbody tr th {\n",
       "        vertical-align: top;\n",
       "    }\n",
       "\n",
       "    .dataframe thead th {\n",
       "        text-align: right;\n",
       "    }\n",
       "</style>\n",
       "<table border=\"1\" class=\"dataframe\">\n",
       "  <thead>\n",
       "    <tr style=\"text-align: right;\">\n",
       "      <th></th>\n",
       "      <th>age</th>\n",
       "      <th>educ</th>\n",
       "      <th>black</th>\n",
       "    </tr>\n",
       "  </thead>\n",
       "  <tbody>\n",
       "    <tr>\n",
       "      <th>count</th>\n",
       "      <td>185.000000</td>\n",
       "      <td>185.000000</td>\n",
       "      <td>185.000000</td>\n",
       "    </tr>\n",
       "    <tr>\n",
       "      <th>mean</th>\n",
       "      <td>25.816216</td>\n",
       "      <td>10.345946</td>\n",
       "      <td>0.843243</td>\n",
       "    </tr>\n",
       "    <tr>\n",
       "      <th>std</th>\n",
       "      <td>7.155019</td>\n",
       "      <td>2.010650</td>\n",
       "      <td>0.364558</td>\n",
       "    </tr>\n",
       "    <tr>\n",
       "      <th>min</th>\n",
       "      <td>17.000000</td>\n",
       "      <td>4.000000</td>\n",
       "      <td>0.000000</td>\n",
       "    </tr>\n",
       "    <tr>\n",
       "      <th>25%</th>\n",
       "      <td>20.000000</td>\n",
       "      <td>9.000000</td>\n",
       "      <td>1.000000</td>\n",
       "    </tr>\n",
       "    <tr>\n",
       "      <th>50%</th>\n",
       "      <td>25.000000</td>\n",
       "      <td>11.000000</td>\n",
       "      <td>1.000000</td>\n",
       "    </tr>\n",
       "    <tr>\n",
       "      <th>75%</th>\n",
       "      <td>29.000000</td>\n",
       "      <td>12.000000</td>\n",
       "      <td>1.000000</td>\n",
       "    </tr>\n",
       "    <tr>\n",
       "      <th>max</th>\n",
       "      <td>48.000000</td>\n",
       "      <td>16.000000</td>\n",
       "      <td>1.000000</td>\n",
       "    </tr>\n",
       "  </tbody>\n",
       "</table>\n",
       "</div>"
      ],
      "text/plain": [
       "              age        educ       black\n",
       "count  185.000000  185.000000  185.000000\n",
       "mean    25.816216   10.345946    0.843243\n",
       "std      7.155019    2.010650    0.364558\n",
       "min     17.000000    4.000000    0.000000\n",
       "25%     20.000000    9.000000    1.000000\n",
       "50%     25.000000   11.000000    1.000000\n",
       "75%     29.000000   12.000000    1.000000\n",
       "max     48.000000   16.000000    1.000000"
      ]
     },
     "execution_count": 42,
     "metadata": {},
     "output_type": "execute_result"
    }
   ],
   "source": [
    "treatment[variables_compare].describe()\n"
   ]
  },
  {
   "cell_type": "code",
   "execution_count": 47,
   "id": "d3b00afe",
   "metadata": {},
   "outputs": [
    {
     "data": {
      "text/html": [
       "<div>\n",
       "<style scoped>\n",
       "    .dataframe tbody tr th:only-of-type {\n",
       "        vertical-align: middle;\n",
       "    }\n",
       "\n",
       "    .dataframe tbody tr th {\n",
       "        vertical-align: top;\n",
       "    }\n",
       "\n",
       "    .dataframe thead th {\n",
       "        text-align: right;\n",
       "    }\n",
       "</style>\n",
       "<table border=\"1\" class=\"dataframe\">\n",
       "  <thead>\n",
       "    <tr style=\"text-align: right;\">\n",
       "      <th></th>\n",
       "      <th>age</th>\n",
       "      <th>educ</th>\n",
       "      <th>black</th>\n",
       "    </tr>\n",
       "  </thead>\n",
       "  <tbody>\n",
       "    <tr>\n",
       "      <th>count</th>\n",
       "      <td>15992.000000</td>\n",
       "      <td>15992.000000</td>\n",
       "      <td>15992.000000</td>\n",
       "    </tr>\n",
       "    <tr>\n",
       "      <th>mean</th>\n",
       "      <td>33.225238</td>\n",
       "      <td>12.027514</td>\n",
       "      <td>0.073537</td>\n",
       "    </tr>\n",
       "    <tr>\n",
       "      <th>std</th>\n",
       "      <td>11.045216</td>\n",
       "      <td>2.870846</td>\n",
       "      <td>0.261024</td>\n",
       "    </tr>\n",
       "    <tr>\n",
       "      <th>min</th>\n",
       "      <td>16.000000</td>\n",
       "      <td>0.000000</td>\n",
       "      <td>0.000000</td>\n",
       "    </tr>\n",
       "    <tr>\n",
       "      <th>25%</th>\n",
       "      <td>24.000000</td>\n",
       "      <td>11.000000</td>\n",
       "      <td>0.000000</td>\n",
       "    </tr>\n",
       "    <tr>\n",
       "      <th>50%</th>\n",
       "      <td>31.000000</td>\n",
       "      <td>12.000000</td>\n",
       "      <td>0.000000</td>\n",
       "    </tr>\n",
       "    <tr>\n",
       "      <th>75%</th>\n",
       "      <td>42.000000</td>\n",
       "      <td>13.000000</td>\n",
       "      <td>0.000000</td>\n",
       "    </tr>\n",
       "    <tr>\n",
       "      <th>max</th>\n",
       "      <td>55.000000</td>\n",
       "      <td>18.000000</td>\n",
       "      <td>1.000000</td>\n",
       "    </tr>\n",
       "  </tbody>\n",
       "</table>\n",
       "</div>"
      ],
      "text/plain": [
       "                age          educ         black\n",
       "count  15992.000000  15992.000000  15992.000000\n",
       "mean      33.225238     12.027514      0.073537\n",
       "std       11.045216      2.870846      0.261024\n",
       "min       16.000000      0.000000      0.000000\n",
       "25%       24.000000     11.000000      0.000000\n",
       "50%       31.000000     12.000000      0.000000\n",
       "75%       42.000000     13.000000      0.000000\n",
       "max       55.000000     18.000000      1.000000"
      ]
     },
     "execution_count": 47,
     "metadata": {},
     "output_type": "execute_result"
    }
   ],
   "source": [
    "control[variables_compare].describe()"
   ]
  },
  {
   "cell_type": "code",
   "execution_count": 48,
   "id": "41dfa48f",
   "metadata": {},
   "outputs": [
    {
     "name": "stdout",
     "output_type": "stream",
     "text": [
      "                            OLS Regression Results                            \n",
      "==============================================================================\n",
      "Dep. Variable:                   re78   R-squared:                       0.009\n",
      "Model:                            OLS   Adj. R-squared:                  0.009\n",
      "Method:                 Least Squares   F-statistic:                     142.4\n",
      "Date:                Tue, 03 Dec 2024   Prob (F-statistic):           1.07e-32\n",
      "Time:                        22:42:03   Log-Likelihood:                -59590.\n",
      "No. Observations:               16177   AIC:                         1.192e+05\n",
      "Df Residuals:                   16175   BIC:                         1.192e+05\n",
      "Df Model:                           1                                         \n",
      "Covariance Type:            nonrobust                                         \n",
      "==============================================================================\n",
      "                 coef    std err          t      P>|t|      [0.025      0.975]\n",
      "------------------------------------------------------------------------------\n",
      "Intercept     14.8467      0.076    194.984      0.000      14.697      14.996\n",
      "treat         -8.4975      0.712    -11.934      0.000      -9.893      -7.102\n",
      "==============================================================================\n",
      "Omnibus:                   455631.627   Durbin-Watson:                   1.868\n",
      "Prob(Omnibus):                  0.000   Jarque-Bera (JB):             1453.764\n",
      "Skew:                          -0.309   Prob(JB):                         0.00\n",
      "Kurtosis:                       1.668   Cond. No.                         9.41\n",
      "==============================================================================\n",
      "\n",
      "Notes:\n",
      "[1] Standard Errors assume that the covariance matrix of the errors is correctly specified.\n"
     ]
    }
   ],
   "source": [
    "import statsmodels.formula.api as smf\n",
    "\n",
    "# Define the model and fit it\n",
    "model = smf.ols(formula='re78 ~ treat', data=data).fit()\n",
    "\n",
    "# Print the summary of the model\n",
    "print(model.summary())\n"
   ]
  },
  {
   "cell_type": "code",
   "execution_count": 49,
   "id": "38518ee2",
   "metadata": {},
   "outputs": [],
   "source": [
    "# Extracting the 're74' column from the DataFrame\n",
    "y = data['re74']\n"
   ]
  },
  {
   "cell_type": "code",
   "execution_count": 50,
   "id": "c93989b2",
   "metadata": {},
   "outputs": [],
   "source": [
    "# Extract the 'treat' column\n",
    "d = data['treat']\n",
    "\n",
    "# Extract all columns from the second column onward\n",
    "x = data.iloc[:, 1:]\n"
   ]
  },
  {
   "cell_type": "code",
   "execution_count": 51,
   "id": "29b0219d",
   "metadata": {},
   "outputs": [],
   "source": [
    "# Convert all columns with integer (Count) type to float (Continuous)\n",
    "x = x.applymap(lambda val: float(val) if isinstance(val, int) else val)\n"
   ]
  },
  {
   "cell_type": "code",
   "execution_count": 52,
   "id": "d89ed567",
   "metadata": {},
   "outputs": [
    {
     "name": "stdout",
     "output_type": "stream",
     "text": [
      "\n",
      "Length of y is: 16177\n",
      "\n",
      "Number of features in x is: 17\n",
      "\n",
      "Naive OLS that uses all features w/o cross-fitting\n",
      "\n",
      "     Feature       Coef.   Std.Err.          t   P>|t| Conf.Int. Low  \\\n",
      "0  Intercept   4.395e-14   3.87e-14      1.136   0.256     -3.19e-14   \n",
      "1      treat  -7.035e-14   5.71e-14     -1.231   0.218     -1.82e-13   \n",
      "2      black   2.581e-14   2.19e-14      1.177   0.239     -1.72e-14   \n",
      "3       hisp  -2.667e-14   2.24e-14     -1.190   0.234     -7.06e-14   \n",
      "4       marr   -5.42e-15   1.53e-14     -0.354   0.723     -3.54e-14   \n",
      "\n",
      "  Conf.Int. High  \n",
      "0        1.2e-13  \n",
      "1       4.16e-14  \n",
      "2       6.88e-14  \n",
      "3       1.73e-14  \n",
      "4       2.46e-14  \n"
     ]
    }
   ],
   "source": [
    "import pandas as pd\n",
    "import statsmodels.api as sm\n",
    "import statsmodels.formula.api as smf\n",
    "\n",
    "# Print the size of y and x\n",
    "print(\"\\nLength of y is:\", y.shape[0])\n",
    "print(\"\\nNumber of features in x is:\", x.shape[1])\n",
    "\n",
    "# Naive OLS\n",
    "print(\"\\nNaive OLS that uses all features w/o cross-fitting\\n\")\n",
    "\n",
    "# Construct the formula for OLS\n",
    "feature_names = x.columns[2:]  # Adjust the column range to match your data\n",
    "formula = \"re78 ~ treat + \" + \" + \".join(feature_names)\n",
    "\n",
    "# Fit the OLS model\n",
    "model = smf.ols(formula=formula, data=data)\n",
    "results = model.fit()\n",
    "\n",
    "# Print the coefficient table\n",
    "coefs = pd.DataFrame(results.summary().tables[1].data[1:], columns=[\"Feature\", \"Coef.\", \"Std.Err.\", \"t\", \"P>|t|\", \"Conf.Int. Low\", \"Conf.Int. High\"])\n",
    "print(coefs.head())  # Adjust or refine for your needs\n"
   ]
  },
  {
   "cell_type": "code",
   "execution_count": 54,
   "id": "1361b885",
   "metadata": {},
   "outputs": [],
   "source": [
    "import numpy as np\n",
    "import pandas as pd\n",
    "from sklearn.model_selection import KFold\n",
    "from sklearn.linear_model import LinearRegression\n",
    "import statsmodels.api as sm\n",
    "\n",
    "def training_sample_append(cv_splits, test_index):\n",
    "    \"\"\"\n",
    "    Append training indices and return training and test folds.\n",
    "    \"\"\"\n",
    "    training_indices = np.concatenate([cv_splits[i] for i in range(len(cv_splits)) if i != test_index])\n",
    "    return training_indices, cv_splits[test_index]\n",
    "\n",
    "def dml(x, d, y, dreg, yreg, nfold):\n",
    "    \"\"\"\n",
    "    Double Machine Learning (DML) implementation.\n",
    "    \"\"\"\n",
    "    n = len(y)\n",
    "    kf = KFold(n_splits=nfold, shuffle=True, random_state=1234)\n",
    "    cv_splits = list(kf.split(x))\n",
    "    \n",
    "    y_hat = np.zeros(n)\n",
    "    d_hat = np.zeros(n)\n",
    "    \n",
    "    for fold in range(nfold):\n",
    "        training_indices, test_indices = training_sample_append(cv_splits, fold)\n",
    "        \n",
    "        # Fit models for y and d\n",
    "        yreg.fit(x[training_indices], y[training_indices])\n",
    "        dreg.fit(x[training_indices], d[training_indices])\n",
    "        \n",
    "        # Predict y_hat and d_hat\n",
    "        y_hat[test_indices] = yreg.predict(x[test_indices])\n",
    "        d_hat[test_indices] = dreg.predict(x[test_indices])\n",
    "    \n",
    "    # Residuals\n",
    "    resy = y - y_hat\n",
    "    resd = d - d_hat\n",
    "    \n",
    "    # OLS on residuals\n",
    "    resd = resd.reshape(-1, 1)  # Reshape for regression\n",
    "    ols_model = sm.OLS(resy, resd)\n",
    "    results = ols_model.fit()\n",
    "    \n",
    "    coef_est = results.params[0]\n",
    "    se = results.bse[0]\n",
    "    print(f\"coef (se) = {coef_est} ({se})\")\n",
    "    \n",
    "    return coef_est, se, resy, resd\n",
    "\n",
    "def summarize(point, stderr, resy, resd, name):\n",
    "    \"\"\"\n",
    "    Summarize the results into a DataFrame.\n",
    "    \"\"\"\n",
    "    return pd.DataFrame({\n",
    "        \"model\": [name],\n",
    "        \"estimate\": [point],\n",
    "        \"stderr\": [stderr],\n",
    "        \"rmse_y\": [np.sqrt(np.mean(resy ** 2))],\n",
    "        \"rmse_d\": [np.sqrt(np.mean(resd ** 2))]\n",
    "    })\n",
    "\n",
    "# Example usage:\n",
    "# dml(x, d, y, dreg=LinearRegression(), yreg=LinearRegression(), nfold=5)\n"
   ]
  },
  {
   "cell_type": "code",
   "execution_count": 56,
   "id": "7ce7e841",
   "metadata": {},
   "outputs": [],
   "source": [
    "def dml(x, d, y, dreg, yreg, nfold):\n",
    "    \"\"\"\n",
    "    Double Machine Learning (DML) implementation.\n",
    "    \"\"\"\n",
    "    n = len(y)\n",
    "    kf = KFold(n_splits=nfold, shuffle=True, random_state=1234)\n",
    "    y_hat = np.zeros(n)\n",
    "    d_hat = np.zeros(n)\n",
    "    \n",
    "    for train_index, test_index in kf.split(x):\n",
    "        # Ajustar los modelos a las particiones de entrenamiento\n",
    "        dreg.fit(x.iloc[train_index], d.iloc[train_index])\n",
    "        yreg.fit(x.iloc[train_index], y.iloc[train_index])\n",
    "        \n",
    "        # Predecir sobre la partición de test\n",
    "        d_hat[test_index] = dreg.predict(x.iloc[test_index])\n",
    "        y_hat[test_index] = yreg.predict(x.iloc[test_index])\n",
    "    \n",
    "    # Calcular residuos\n",
    "    resy = y - y_hat\n",
    "    resd = d - d_hat\n",
    "\n",
    "    # Regresión OLS de residuos\n",
    "    resd = resd.reshape(-1, 1)\n",
    "    ols_model = sm.OLS(resy, resd)\n",
    "    results = ols_model.fit()\n",
    "    \n",
    "    coef_est = results.params[0]\n",
    "    se = results.bse[0]\n",
    "    print(f\"coef (se) = {coef_est} ({se})\")\n",
    "    return coef_est, se, resy, resd\n"
   ]
  },
  {
   "cell_type": "code",
   "execution_count": 58,
   "id": "ad3c18bc",
   "metadata": {},
   "outputs": [
    {
     "name": "stdout",
     "output_type": "stream",
     "text": [
      "Collecting prettytable\n",
      "  Downloading prettytable-3.12.0-py3-none-any.whl (31 kB)\n",
      "Requirement already satisfied: wcwidth in c:\\users\\maricielo\\anaconda3\\lib\\site-packages (from prettytable) (0.2.5)\n",
      "Installing collected packages: prettytable\n",
      "Successfully installed prettytable-3.12.0\n",
      "Note: you may need to restart the kernel to use updated packages.\n"
     ]
    }
   ],
   "source": [
    "pip install prettytable\n"
   ]
  },
  {
   "cell_type": "code",
   "execution_count": 60,
   "id": "30b93df6",
   "metadata": {},
   "outputs": [
    {
     "name": "stdout",
     "output_type": "stream",
     "text": [
      "     model  estimate  stderr  rmse_y  rmse_d\n",
      "       OLS      0.45    0.12    2.35    3.12\n",
      "   LassoCV      0.50    0.11    2.30    3.15\n",
      "        RF      0.47    0.10    2.40    3.10\n",
      "RF/LassoCV      0.52    0.09    2.20    3.00\n"
     ]
    }
   ],
   "source": [
    "import pandas as pd\n",
    "\n",
    "# Example DataFrames (you can replace these with your actual data)\n",
    "table_ols = pd.DataFrame({\n",
    "    'model': ['OLS'], \n",
    "    'estimate': [0.45], \n",
    "    'stderr': [0.12],\n",
    "    'rmse_y': [2.35], \n",
    "    'rmse_d': [3.12]\n",
    "})\n",
    "\n",
    "table_lasso = pd.DataFrame({\n",
    "    'model': ['LassoCV'], \n",
    "    'estimate': [0.50], \n",
    "    'stderr': [0.11],\n",
    "    'rmse_y': [2.30], \n",
    "    'rmse_d': [3.15]\n",
    "})\n",
    "\n",
    "table_rf = pd.DataFrame({\n",
    "    'model': ['RF'], \n",
    "    'estimate': [0.47], \n",
    "    'stderr': [0.10],\n",
    "    'rmse_y': [2.40], \n",
    "    'rmse_d': [3.10]\n",
    "})\n",
    "\n",
    "table_mix = pd.DataFrame({\n",
    "    'model': ['RF/LassoCV'], \n",
    "    'estimate': [0.52], \n",
    "    'stderr': [0.09],\n",
    "    'rmse_y': [2.20], \n",
    "    'rmse_d': [3.00]\n",
    "})\n",
    "\n",
    "# Combine all the DataFrames into one by concatenating them vertically\n",
    "combined_table = pd.concat([table_ols, table_lasso, table_rf, table_mix], ignore_index=True)\n",
    "\n",
    "# Print the combined table in a formatted way using pandas to_string() method\n",
    "print(combined_table.to_string(index=False))"
   ]
  },
  {
   "cell_type": "code",
   "execution_count": null,
   "id": "066fb488",
   "metadata": {},
   "outputs": [],
   "source": []
  }
 ],
 "metadata": {
  "kernelspec": {
   "display_name": "Python 3 (ipykernel)",
   "language": "python",
   "name": "python3"
  },
  "language_info": {
   "codemirror_mode": {
    "name": "ipython",
    "version": 3
   },
   "file_extension": ".py",
   "mimetype": "text/x-python",
   "name": "python",
   "nbconvert_exporter": "python",
   "pygments_lexer": "ipython3",
   "version": "3.9.13"
  }
 },
 "nbformat": 4,
 "nbformat_minor": 5
}
