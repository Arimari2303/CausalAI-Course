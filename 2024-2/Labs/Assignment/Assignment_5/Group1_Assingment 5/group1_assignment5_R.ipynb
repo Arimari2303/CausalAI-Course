{
 "cells": [
  {
   "cell_type": "markdown",
   "metadata": {},
   "source": [
    "# Part 1: Heterogeneous treatment effects using causal trees and forests\n",
    "For this part, we will be using experimental data for computing heterogeneous effects through causal trees and forests. For all exercises, the predictors $X$ are all variables that are not the outcome $Y$ or the treatment $D$."
   ]
  },
  {
   "cell_type": "markdown",
   "metadata": {},
   "source": [
    "### 1.1. Load the data (1 points). \n",
    "### This is data for and experiment regarding the National Supported Work Demonstration (NSW) job-training program. You can find the data here, and read a description of the data here. For further details of the experiment and the program, you can use this link"
   ]
  },
  {
   "cell_type": "code",
   "execution_count": 73,
   "metadata": {
    "vscode": {
     "languageId": "r"
    }
   },
   "outputs": [
    {
     "data": {
      "text/html": [
       "<table class=\"dataframe\">\n",
       "<caption>A data.frame: 6 x 10</caption>\n",
       "<thead>\n",
       "\t<tr><th></th><th scope=col>treat</th><th scope=col>age</th><th scope=col>educ</th><th scope=col>black</th><th scope=col>hisp</th><th scope=col>marr</th><th scope=col>nodegree</th><th scope=col>re74</th><th scope=col>re75</th><th scope=col>re78</th></tr>\n",
       "\t<tr><th></th><th scope=col>&lt;int&gt;</th><th scope=col>&lt;int&gt;</th><th scope=col>&lt;int&gt;</th><th scope=col>&lt;int&gt;</th><th scope=col>&lt;int&gt;</th><th scope=col>&lt;int&gt;</th><th scope=col>&lt;int&gt;</th><th scope=col>&lt;dbl&gt;</th><th scope=col>&lt;dbl&gt;</th><th scope=col>&lt;dbl&gt;</th></tr>\n",
       "</thead>\n",
       "<tbody>\n",
       "\t<tr><th scope=row>1</th><td>1</td><td>37</td><td>11</td><td>1</td><td>0</td><td>1</td><td>1</td><td>0</td><td>0</td><td> 9930.0459</td></tr>\n",
       "\t<tr><th scope=row>2</th><td>1</td><td>22</td><td> 9</td><td>0</td><td>1</td><td>0</td><td>1</td><td>0</td><td>0</td><td> 3595.8940</td></tr>\n",
       "\t<tr><th scope=row>3</th><td>1</td><td>30</td><td>12</td><td>1</td><td>0</td><td>0</td><td>0</td><td>0</td><td>0</td><td>24909.4492</td></tr>\n",
       "\t<tr><th scope=row>4</th><td>1</td><td>27</td><td>11</td><td>1</td><td>0</td><td>0</td><td>1</td><td>0</td><td>0</td><td> 7506.1460</td></tr>\n",
       "\t<tr><th scope=row>5</th><td>1</td><td>33</td><td> 8</td><td>1</td><td>0</td><td>0</td><td>1</td><td>0</td><td>0</td><td>  289.7899</td></tr>\n",
       "\t<tr><th scope=row>6</th><td>1</td><td>22</td><td> 9</td><td>1</td><td>0</td><td>0</td><td>1</td><td>0</td><td>0</td><td> 4056.4939</td></tr>\n",
       "</tbody>\n",
       "</table>\n"
      ],
      "text/latex": [
       "A data.frame: 6 x 10\n",
       "\\begin{tabular}{r|llllllllll}\n",
       "  & treat & age & educ & black & hisp & marr & nodegree & re74 & re75 & re78\\\\\n",
       "  & <int> & <int> & <int> & <int> & <int> & <int> & <int> & <dbl> & <dbl> & <dbl>\\\\\n",
       "\\hline\n",
       "\t1 & 1 & 37 & 11 & 1 & 0 & 1 & 1 & 0 & 0 &  9930.0459\\\\\n",
       "\t2 & 1 & 22 &  9 & 0 & 1 & 0 & 1 & 0 & 0 &  3595.8940\\\\\n",
       "\t3 & 1 & 30 & 12 & 1 & 0 & 0 & 0 & 0 & 0 & 24909.4492\\\\\n",
       "\t4 & 1 & 27 & 11 & 1 & 0 & 0 & 1 & 0 & 0 &  7506.1460\\\\\n",
       "\t5 & 1 & 33 &  8 & 1 & 0 & 0 & 1 & 0 & 0 &   289.7899\\\\\n",
       "\t6 & 1 & 22 &  9 & 1 & 0 & 0 & 1 & 0 & 0 &  4056.4939\\\\\n",
       "\\end{tabular}\n"
      ],
      "text/markdown": [
       "\n",
       "A data.frame: 6 x 10\n",
       "\n",
       "| <!--/--> | treat &lt;int&gt; | age &lt;int&gt; | educ &lt;int&gt; | black &lt;int&gt; | hisp &lt;int&gt; | marr &lt;int&gt; | nodegree &lt;int&gt; | re74 &lt;dbl&gt; | re75 &lt;dbl&gt; | re78 &lt;dbl&gt; |\n",
       "|---|---|---|---|---|---|---|---|---|---|---|\n",
       "| 1 | 1 | 37 | 11 | 1 | 0 | 1 | 1 | 0 | 0 |  9930.0459 |\n",
       "| 2 | 1 | 22 |  9 | 0 | 1 | 0 | 1 | 0 | 0 |  3595.8940 |\n",
       "| 3 | 1 | 30 | 12 | 1 | 0 | 0 | 0 | 0 | 0 | 24909.4492 |\n",
       "| 4 | 1 | 27 | 11 | 1 | 0 | 0 | 1 | 0 | 0 |  7506.1460 |\n",
       "| 5 | 1 | 33 |  8 | 1 | 0 | 0 | 1 | 0 | 0 |   289.7899 |\n",
       "| 6 | 1 | 22 |  9 | 1 | 0 | 0 | 1 | 0 | 0 |  4056.4939 |\n",
       "\n"
      ],
      "text/plain": [
       "  treat age educ black hisp marr nodegree re74 re75 re78      \n",
       "1 1     37  11   1     0    1    1        0    0     9930.0459\n",
       "2 1     22   9   0     1    0    1        0    0     3595.8940\n",
       "3 1     30  12   1     0    0    0        0    0    24909.4492\n",
       "4 1     27  11   1     0    0    1        0    0     7506.1460\n",
       "5 1     33   8   1     0    0    1        0    0      289.7899\n",
       "6 1     22   9   1     0    0    1        0    0     4056.4939"
      ]
     },
     "metadata": {},
     "output_type": "display_data"
    }
   ],
   "source": [
    "df <- read.csv(\"/Users/gabriel/Documents/GitHub/CausalAI-Course/Labs/Assignment/Assignment_5/data/experimental/experimental_control.csv\")\n",
    "head(df)"
   ]
  },
  {
   "cell_type": "markdown",
   "metadata": {},
   "source": [
    "### 1.2. Find the ATE (1.5 points). \n",
    "### With `re78` as the outcome variable of interest, find the Average Treatment Effect of participation in the program. Specifically, you should find it by calculating the difference between the means of the treatment group and the control group (the Simple Difference of Means or SDM). What can you say about the program?"
   ]
  },
  {
   "cell_type": "code",
   "execution_count": 74,
   "metadata": {
    "vscode": {
     "languageId": "r"
    }
   },
   "outputs": [
    {
     "data": {
      "text/html": [
       "<table class=\"dataframe\">\n",
       "<caption>A matrix: 2 x 4 of type dbl</caption>\n",
       "<thead>\n",
       "\t<tr><th></th><th scope=col>Estimate</th><th scope=col>Std. Error</th><th scope=col>t value</th><th scope=col>Pr(&gt;|t|)</th></tr>\n",
       "</thead>\n",
       "<tbody>\n",
       "\t<tr><th scope=row>(Intercept)</th><td>4554.801</td><td>408.0459</td><td>11.162474</td><td>1.154114e-25</td></tr>\n",
       "\t<tr><th scope=row>treat</th><td>1794.342</td><td>632.8534</td><td> 2.835321</td><td>4.787530e-03</td></tr>\n",
       "</tbody>\n",
       "</table>\n"
      ],
      "text/latex": [
       "A matrix: 2 x 4 of type dbl\n",
       "\\begin{tabular}{r|llll}\n",
       "  & Estimate & Std. Error & t value & Pr(>\\textbar{}t\\textbar{})\\\\\n",
       "\\hline\n",
       "\t(Intercept) & 4554.801 & 408.0459 & 11.162474 & 1.154114e-25\\\\\n",
       "\ttreat & 1794.342 & 632.8534 &  2.835321 & 4.787530e-03\\\\\n",
       "\\end{tabular}\n"
      ],
      "text/markdown": [
       "\n",
       "A matrix: 2 x 4 of type dbl\n",
       "\n",
       "| <!--/--> | Estimate | Std. Error | t value | Pr(&gt;|t|) |\n",
       "|---|---|---|---|---|\n",
       "| (Intercept) | 4554.801 | 408.0459 | 11.162474 | 1.154114e-25 |\n",
       "| treat | 1794.342 | 632.8534 |  2.835321 | 4.787530e-03 |\n",
       "\n"
      ],
      "text/plain": [
       "            Estimate Std. Error t value   Pr(>|t|)    \n",
       "(Intercept) 4554.801 408.0459   11.162474 1.154114e-25\n",
       "treat       1794.342 632.8534    2.835321 4.787530e-03"
      ]
     },
     "metadata": {},
     "output_type": "display_data"
    }
   ],
   "source": [
    "# Hallamos el ATE\n",
    "model <- lm(re78 ~ treat, data = df)\n",
    "\n",
    "summary(model)$coefficients"
   ]
  },
  {
   "cell_type": "markdown",
   "metadata": {},
   "source": [
    "##### We can say that when an individual is supported by the work program he can obtain, on average, a real income of 1,794 thousand dollars for the year 1975, considering only the aggregate effect of the program."
   ]
  },
  {
   "cell_type": "markdown",
   "metadata": {},
   "source": [
    "### 1.3. Heterogeneous effects with causal trees (3 points). \n",
    "### Use causal trees like we saw in class. For Python, you should use the `econml` package; for R, use the `grf` package; and for Julia, you will need to create the auxiliary variable $Y$∗ and fit a decision tree regressor. Report the splits the tree finds and interpret them."
   ]
  },
  {
   "cell_type": "code",
   "execution_count": 75,
   "metadata": {
    "vscode": {
     "languageId": "r"
    }
   },
   "outputs": [
    {
     "data": {
      "text/html": [
       "<style>\n",
       ".list-inline {list-style: none; margin:0; padding: 0}\n",
       ".list-inline>li {display: inline-block}\n",
       ".list-inline>li:not(:last-child)::after {content: \"\\00b7\"; padding: 0 .5ex}\n",
       "</style>\n",
       "<ol class=list-inline><li>'age'</li><li>'educ'</li><li>'black'</li><li>'hisp'</li><li>'marr'</li><li>'nodegree'</li><li>'re74'</li><li>'re75'</li></ol>\n"
      ],
      "text/latex": [
       "\\begin{enumerate*}\n",
       "\\item 'age'\n",
       "\\item 'educ'\n",
       "\\item 'black'\n",
       "\\item 'hisp'\n",
       "\\item 'marr'\n",
       "\\item 'nodegree'\n",
       "\\item 're74'\n",
       "\\item 're75'\n",
       "\\end{enumerate*}\n"
      ],
      "text/markdown": [
       "1. 'age'\n",
       "2. 'educ'\n",
       "3. 'black'\n",
       "4. 'hisp'\n",
       "5. 'marr'\n",
       "6. 'nodegree'\n",
       "7. 're74'\n",
       "8. 're75'\n",
       "\n",
       "\n"
      ],
      "text/plain": [
       "[1] \"age\"      \"educ\"     \"black\"    \"hisp\"     \"marr\"     \"nodegree\" \"re74\"    \n",
       "[8] \"re75\"    "
      ]
     },
     "metadata": {},
     "output_type": "display_data"
    }
   ],
   "source": [
    "X <- setdiff(names(df), c(\"treat\", \"re78\"))\n",
    "X"
   ]
  },
  {
   "cell_type": "code",
   "execution_count": 77,
   "metadata": {
    "vscode": {
     "languageId": "r"
    }
   },
   "outputs": [],
   "source": [
    "# Fit the logistic regression model to predict propensity scores\n",
    "#logistic_model <- glm(treat ~ ., data = df[,c(X,'treat')], family = binomial)\n",
    "#df$pscore <- predict(logistic_model, df[X], type = \"response\")\n",
    "#head(df)\n",
    "\n",
    "#library(ggplot2)\n",
    "#ggplot(df, aes(x = pscore, fill = as.factor(treat))) +\n",
    "  #geom_histogram(binwidth = 0.05, position = \"identity\", alpha = 0.7) +\n",
    "  #labs(\n",
    "  #  title = \"Predicted Propensity Scores\",\n",
    "   # x = \"Propensity Score\",\n",
    "    #fill = \"Treat\"\n",
    "  #) \n",
    "  #xlim(0, 1)"
   ]
  },
  {
   "cell_type": "code",
   "execution_count": 78,
   "metadata": {
    "vscode": {
     "languageId": "r"
    }
   },
   "outputs": [],
   "source": [
    "# df$y_star <- df$re78 / (df$treat * df$pscore - (1 - df$treat) * (1 - df$pscore))\n",
    "# mean(df$y_star, na.rm = TRUE)\n",
    "# head(df)"
   ]
  },
  {
   "cell_type": "code",
   "execution_count": 79,
   "metadata": {
    "vscode": {
     "languageId": "r"
    }
   },
   "outputs": [],
   "source": [
    "# Correr una vez esta parte\n",
    "X <- df[,X] \n",
    "Y <- df[,\"re78\"]\n",
    "D <- df[,\"treat\"]"
   ]
  },
  {
   "cell_type": "code",
   "execution_count": 80,
   "metadata": {
    "vscode": {
     "languageId": "r"
    }
   },
   "outputs": [
    {
     "data": {
      "text/plain": [
       "GRF tree object \n",
       "Number of training samples: 222 \n",
       "Variable splits: \n",
       "(1) split_variable: educ  split_value: 11 \n",
       "  (2) split_variable: re74  split_value: 0 \n",
       "    (4) split_variable: age  split_value: 29 \n",
       "      (8) split_variable: age  split_value: 25 \n",
       "        (12) * num_samples: 45  avg_Y: 4700.42 avg_W: 0.31 \n",
       "        (13) * num_samples: 9  avg_Y: 4443.71 avg_W: 0.67 \n",
       "      (9) * num_samples: 16  avg_Y: 3873.08 avg_W: 0.31 \n",
       "    (5) split_variable: age  split_value: 19 \n",
       "      (10) * num_samples: 5  avg_Y: 6389.66 avg_W: 0.4 \n",
       "      (11) * num_samples: 16  avg_Y: 5505.66 avg_W: 0.31 \n",
       "  (3) split_variable: age  split_value: 28 \n",
       "    (6) * num_samples: 15  avg_Y: 6738.83 avg_W: 0.73 \n",
       "    (7) * num_samples: 5  avg_Y: 2652.09 avg_W: 0.6 "
      ]
     },
     "metadata": {},
     "output_type": "display_data"
    }
   ],
   "source": [
    "library(grf)\n",
    "tree <- causal_forest(X, Y, D, num.trees = 1,\n",
    "                      mtry = ncol(X))\n",
    "\n",
    "get_tree(tree, 1)"
   ]
  },
  {
   "cell_type": "markdown",
   "metadata": {},
   "source": [
    "#### The tree is divided into 6 divisions based on years of education, earnings in 1974 and age. We see that the NSW work program is designed primarily for people with many years of education and over the age of 25, and that it also depends mainly on the results obtained in 1974. If there are no earnings in that year the following occurs: the probability of young individuals being treated is relatively lower than older individuals, but they still have a high treatment effect.\n",
    "\n",
    "#### After 11 years of education, age remains relevant, showing that highly educated individuals under 28 have a higher CATE than those over 28 with the same level of education, but still the probability of being treated is high as it depends mainly on years of education.\n",
    "\n",
    "#### In summary, the work program seeks to help mainly highly educated individuals around the age of 28. In the case of those with less than 11 years of education, the program seeks out adult individuals over 25 years of age. It has also been shown that even though young individuals with little education are poorly treated, they have high CATE effects. This may be due to the fact that when they are young they have a greater opportunity to improve and to take care of themselves."
   ]
  },
  {
   "cell_type": "markdown",
   "metadata": {},
   "source": [
    "### 1.4. Heterogeneous effects with causal forests (3 points). \n",
    "### Use causal forests like we saw in class. For Python, you should use the `econml` package; for R, use the `grf` package; and for Julia, you will need to use the auxiliary variable $Y$ ∗ computed in the previous exercise and fit a random forest regressor. Report the importance of the prediction variables."
   ]
  },
  {
   "cell_type": "code",
   "execution_count": 99,
   "metadata": {
    "vscode": {
     "languageId": "r"
    }
   },
   "outputs": [
    {
     "data": {
      "text/plain": [
       "GRF tree object \n",
       "Number of training samples: 222 \n",
       "Variable splits: \n",
       "(1) split_variable: age  split_value: 27 \n",
       "  (2) split_variable: age  split_value: 21 \n",
       "    (4) split_variable: educ  split_value: 9 \n",
       "      (8) * num_samples: 12  avg_Y: 3790.33 avg_W: 0.33 \n",
       "      (9) * num_samples: 23  avg_Y: 4885.86 avg_W: 0.3 \n",
       "    (5) split_variable: re74  split_value: 0 \n",
       "      (10) * num_samples: 38  avg_Y: 5016.15 avg_W: 0.45 \n",
       "      (11) * num_samples: 11  avg_Y: 8401.51 avg_W: 0.55 \n",
       "  (3) split_variable: educ  split_value: 10 \n",
       "    (6) * num_samples: 12  avg_Y: 4722.07 avg_W: 0.5 \n",
       "    (7) * num_samples: 15  avg_Y: 7095.87 avg_W: 0.4 "
      ]
     },
     "metadata": {},
     "output_type": "display_data"
    }
   ],
   "source": [
    "cf <- causal_forest(X, Y, D)\n",
    "tree <- get_tree(cf, 1)\n",
    "tree"
   ]
  },
  {
   "cell_type": "code",
   "execution_count": 100,
   "metadata": {
    "vscode": {
     "languageId": "r"
    }
   },
   "outputs": [
    {
     "data": {
      "text/html": [
       "<table class=\"dataframe\">\n",
       "<caption>A data.frame: 8 x 2</caption>\n",
       "<thead>\n",
       "\t<tr><th scope=col>variable</th><th scope=col>importance</th></tr>\n",
       "\t<tr><th scope=col>&lt;chr&gt;</th><th scope=col>&lt;dbl&gt;</th></tr>\n",
       "</thead>\n",
       "<tbody>\n",
       "\t<tr><td>age     </td><td>0.325931919</td></tr>\n",
       "\t<tr><td>re74    </td><td>0.202075376</td></tr>\n",
       "\t<tr><td>re75    </td><td>0.171999999</td></tr>\n",
       "\t<tr><td>educ    </td><td>0.166698123</td></tr>\n",
       "\t<tr><td>marr    </td><td>0.055658389</td></tr>\n",
       "\t<tr><td>nodegree</td><td>0.053428128</td></tr>\n",
       "\t<tr><td>black   </td><td>0.022635709</td></tr>\n",
       "\t<tr><td>hisp    </td><td>0.001572356</td></tr>\n",
       "</tbody>\n",
       "</table>\n"
      ],
      "text/latex": [
       "A data.frame: 8 x 2\n",
       "\\begin{tabular}{ll}\n",
       " variable & importance\\\\\n",
       " <chr> & <dbl>\\\\\n",
       "\\hline\n",
       "\t age      & 0.325931919\\\\\n",
       "\t re74     & 0.202075376\\\\\n",
       "\t re75     & 0.171999999\\\\\n",
       "\t educ     & 0.166698123\\\\\n",
       "\t marr     & 0.055658389\\\\\n",
       "\t nodegree & 0.053428128\\\\\n",
       "\t black    & 0.022635709\\\\\n",
       "\t hisp     & 0.001572356\\\\\n",
       "\\end{tabular}\n"
      ],
      "text/markdown": [
       "\n",
       "A data.frame: 8 x 2\n",
       "\n",
       "| variable &lt;chr&gt; | importance &lt;dbl&gt; |\n",
       "|---|---|\n",
       "| age      | 0.325931919 |\n",
       "| re74     | 0.202075376 |\n",
       "| re75     | 0.171999999 |\n",
       "| educ     | 0.166698123 |\n",
       "| marr     | 0.055658389 |\n",
       "| nodegree | 0.053428128 |\n",
       "| black    | 0.022635709 |\n",
       "| hisp     | 0.001572356 |\n",
       "\n"
      ],
      "text/plain": [
       "  variable importance \n",
       "1 age      0.325931919\n",
       "2 re74     0.202075376\n",
       "3 re75     0.171999999\n",
       "4 educ     0.166698123\n",
       "5 marr     0.055658389\n",
       "6 nodegree 0.053428128\n",
       "7 black    0.022635709\n",
       "8 hisp     0.001572356"
      ]
     },
     "metadata": {},
     "output_type": "display_data"
    }
   ],
   "source": [
    "varimp <- variable_importance(cf)\n",
    "ranked.vars <- order(varimp, decreasing = TRUE)\n",
    "importances <- data.frame(variable = colnames(X)[ranked.vars], importance = varimp[ranked.vars])\n",
    "importances"
   ]
  },
  {
   "cell_type": "markdown",
   "metadata": {},
   "source": [
    "### 1.5. Plot heterogeneous effects (1.5 points). \n",
    "### Plot how the predicted treatment effect changes depending on a variable of your choice. (You can see the last example in PD11 for clarification of what you should do in this exercise)"
   ]
  },
  {
   "cell_type": "code",
   "execution_count": 101,
   "metadata": {
    "vscode": {
     "languageId": "r"
    }
   },
   "outputs": [],
   "source": [
    "df$predicted_effects <- predict(cf, X)$predictions\n",
    "\n",
    "# Aislamos efectos predichos por variable\n",
    "df$age_bins <- floor(df$age / 5) * 5 # modificamos variable \n",
    "df$age_bins[df$age_bins == 15] <- 17 # reemplazamos por el valor minimo de la variable\n",
    "predicted_effects_age <- aggregate(predicted_effects ~ age, data = df, mean)\n",
    "\n",
    "df$re74_bins <- floor(df$re74 / 500) * 500 # modificamos variable re75 en intervalos de 500 porque es continua \n",
    "predicted_effects_re74 <- aggregate(predicted_effects ~ re74_bins, data = df, mean)\n",
    "\n",
    "predicted_effects_educ <- aggregate(predicted_effects ~ educ, data = df, mean)\n",
    "\n",
    "df$re75_bins <- floor(df$re75 / 500) * 500 # modificamos variable re75 en intervalos de 500 porque es continua \n",
    "predicted_effects_re75 <- aggregate(predicted_effects ~ re75_bins, data = df, mean)"
   ]
  },
  {
   "cell_type": "code",
   "execution_count": 104,
   "metadata": {
    "vscode": {
     "languageId": "r"
    }
   },
   "outputs": [
    {
     "data": {
      "image/png": "[encoded data removed]",
      "text/plain": [
       "Plot with title \"Predicted Effects by re75\""
      ]
     },
     "metadata": {
      "image/png": {
       "height": 420,
       "width": 420
      }
     },
     "output_type": "display_data"
    }
   ],
   "source": [
    "par(mfrow = c(2, 2))\n",
    "\n",
    "# Predicted effects by age\n",
    "plot(predicted_effects_age$age, predicted_effects_age$predicted_effects, type = \"l\", col = \"blue\",\n",
    "     xlab = \"Age in years\", ylab = \"Predicted Effects\", main = \"Predicted Effects by age\")\n",
    "\n",
    "# Predicted effects by re74\n",
    "plot(predicted_effects_re74$re74, predicted_effects_re74$predicted_effects, type = \"l\", col = \"green\",\n",
    "     xlab = \"Real earnings 1974 (in thousands of dollars)\", ylab = \"Predicted Effects\", main = \"Predicted Effects by re74\")\n",
    "\n",
    "# Predicted effects by educ\n",
    "plot(predicted_effects_educ$educ, predicted_effects_educ$predicted_effects, type = \"l\", col = \"red\",\n",
    "     xlab = \"Years of education\", ylab = \"Predicted Effects\", main = \"Predicted Effects by educ\")\n",
    "\n",
    "# Predicted effects by re75\n",
    "plot(predicted_effects_re75$re75, predicted_effects_re75$predicted_effects, type = \"l\", col = \"purple\",\n",
    "     xlab = \"Real earnings 1975 (in thousands of dollars)\", ylab = \"Predicted Effects\", main = \"Predicted Effects by re75\")\n"
   ]
  },
  {
   "cell_type": "markdown",
   "metadata": {},
   "source": [
    "# Part 2: Double/Debiased machine learning in observational data\n",
    "#### In this part, we will be using observational data for computing the average treatment effect of the same program as in Part 1. This data is constructed by taking the treatment group from the same dataset as in Part 1, but constructing the control group from a different dataset; that is, the entirety of the control is comprised of observations from the Current Population Survey. Therefor, we may not have comparable treatment and control groups. To tackle this issue, we can use Double/Debiased machine learning."
   ]
  },
  {
   "cell_type": "code",
   "execution_count": 18,
   "metadata": {
    "vscode": {
     "languageId": "r"
    }
   },
   "outputs": [
    {
     "name": "stderr",
     "output_type": "stream",
     "text": [
      "randomForest 4.7-1.2\n",
      "\n",
      "Type rfNews() to see new features/changes/bug fixes.\n",
      "\n",
      "\n",
      "Attaching package: 'randomForest'\n",
      "\n",
      "\n",
      "The following object is masked from 'package:dplyr':\n",
      "\n",
      "    combine\n",
      "\n",
      "\n",
      "Loading required package: Matrix\n",
      "\n",
      "Loaded glmnet 4.1-8\n",
      "\n"
     ]
    }
   ],
   "source": [
    "library(xtable)\n",
    "library(randomForest)\n",
    "library(hdm)\n",
    "library(glmnet)\n",
    "library(sandwich)\n",
    "\n",
    "set.seed(1)"
   ]
  },
  {
   "cell_type": "markdown",
   "metadata": {},
   "source": [
    "### 2.1. Load the data (1 points). \n",
    "### You can find the data here, and read a description of the data here. For further details on how this data was created, you can use this link."
   ]
  },
  {
   "cell_type": "code",
   "execution_count": 19,
   "metadata": {
    "vscode": {
     "languageId": "r"
    }
   },
   "outputs": [
    {
     "data": {
      "text/html": [
       "<table class=\"dataframe\">\n",
       "<caption>A data.frame: 6 x 18</caption>\n",
       "<thead>\n",
       "\t<tr><th></th><th scope=col>treat</th><th scope=col>age</th><th scope=col>educ</th><th scope=col>black</th><th scope=col>hisp</th><th scope=col>marr</th><th scope=col>nodegree</th><th scope=col>re74</th><th scope=col>re75</th><th scope=col>re78</th><th scope=col>agesq</th><th scope=col>agecube</th><th scope=col>educsq</th><th scope=col>u74</th><th scope=col>u75</th><th scope=col>interaction1</th><th scope=col>re74sq</th><th scope=col>re75sq</th></tr>\n",
       "\t<tr><th></th><th scope=col>&lt;int&gt;</th><th scope=col>&lt;int&gt;</th><th scope=col>&lt;int&gt;</th><th scope=col>&lt;int&gt;</th><th scope=col>&lt;int&gt;</th><th scope=col>&lt;int&gt;</th><th scope=col>&lt;int&gt;</th><th scope=col>&lt;dbl&gt;</th><th scope=col>&lt;dbl&gt;</th><th scope=col>&lt;dbl&gt;</th><th scope=col>&lt;int&gt;</th><th scope=col>&lt;int&gt;</th><th scope=col>&lt;int&gt;</th><th scope=col>&lt;int&gt;</th><th scope=col>&lt;int&gt;</th><th scope=col>&lt;dbl&gt;</th><th scope=col>&lt;dbl&gt;</th><th scope=col>&lt;dbl&gt;</th></tr>\n",
       "</thead>\n",
       "<tbody>\n",
       "\t<tr><th scope=row>1</th><td>0</td><td>45</td><td>11</td><td>0</td><td>0</td><td>1</td><td>1</td><td>21.516670</td><td>25.243551</td><td>25.564670</td><td>2025</td><td> 91125</td><td>121</td><td>0</td><td>0</td><td>236.68337</td><td>462.967085</td><td>637.23686</td></tr>\n",
       "\t<tr><th scope=row>2</th><td>0</td><td>21</td><td>14</td><td>0</td><td>0</td><td>0</td><td>0</td><td> 3.175971</td><td> 5.852565</td><td>13.496080</td><td> 441</td><td>  9261</td><td>196</td><td>0</td><td>0</td><td> 44.46359</td><td> 10.086791</td><td> 34.25252</td></tr>\n",
       "\t<tr><th scope=row>3</th><td>0</td><td>38</td><td>12</td><td>0</td><td>0</td><td>1</td><td>0</td><td>23.039020</td><td>25.130760</td><td>25.564670</td><td>1444</td><td> 54872</td><td>144</td><td>0</td><td>0</td><td>276.46823</td><td>530.796421</td><td>631.55509</td></tr>\n",
       "\t<tr><th scope=row>4</th><td>0</td><td>48</td><td> 6</td><td>0</td><td>0</td><td>1</td><td>1</td><td>24.994369</td><td>25.243551</td><td>25.564670</td><td>2304</td><td>110592</td><td> 36</td><td>0</td><td>0</td><td>149.96621</td><td>624.718489</td><td>637.23686</td></tr>\n",
       "\t<tr><th scope=row>5</th><td>0</td><td>18</td><td> 8</td><td>0</td><td>0</td><td>1</td><td>1</td><td> 1.669295</td><td>10.727610</td><td> 9.860869</td><td> 324</td><td>  5832</td><td> 64</td><td>0</td><td>0</td><td> 13.35436</td><td>  2.786546</td><td>115.08162</td></tr>\n",
       "\t<tr><th scope=row>6</th><td>0</td><td>22</td><td>11</td><td>0</td><td>0</td><td>1</td><td>1</td><td>16.365760</td><td>18.449270</td><td>25.564670</td><td> 484</td><td> 10648</td><td>121</td><td>0</td><td>0</td><td>180.02336</td><td>267.838093</td><td>340.37555</td></tr>\n",
       "</tbody>\n",
       "</table>\n"
      ],
      "text/latex": [
       "A data.frame: 6 x 18\n",
       "\\begin{tabular}{r|llllllllllllllllll}\n",
       "  & treat & age & educ & black & hisp & marr & nodegree & re74 & re75 & re78 & agesq & agecube & educsq & u74 & u75 & interaction1 & re74sq & re75sq\\\\\n",
       "  & <int> & <int> & <int> & <int> & <int> & <int> & <int> & <dbl> & <dbl> & <dbl> & <int> & <int> & <int> & <int> & <int> & <dbl> & <dbl> & <dbl>\\\\\n",
       "\\hline\n",
       "\t1 & 0 & 45 & 11 & 0 & 0 & 1 & 1 & 21.516670 & 25.243551 & 25.564670 & 2025 &  91125 & 121 & 0 & 0 & 236.68337 & 462.967085 & 637.23686\\\\\n",
       "\t2 & 0 & 21 & 14 & 0 & 0 & 0 & 0 &  3.175971 &  5.852565 & 13.496080 &  441 &   9261 & 196 & 0 & 0 &  44.46359 &  10.086791 &  34.25252\\\\\n",
       "\t3 & 0 & 38 & 12 & 0 & 0 & 1 & 0 & 23.039020 & 25.130760 & 25.564670 & 1444 &  54872 & 144 & 0 & 0 & 276.46823 & 530.796421 & 631.55509\\\\\n",
       "\t4 & 0 & 48 &  6 & 0 & 0 & 1 & 1 & 24.994369 & 25.243551 & 25.564670 & 2304 & 110592 &  36 & 0 & 0 & 149.96621 & 624.718489 & 637.23686\\\\\n",
       "\t5 & 0 & 18 &  8 & 0 & 0 & 1 & 1 &  1.669295 & 10.727610 &  9.860869 &  324 &   5832 &  64 & 0 & 0 &  13.35436 &   2.786546 & 115.08162\\\\\n",
       "\t6 & 0 & 22 & 11 & 0 & 0 & 1 & 1 & 16.365760 & 18.449270 & 25.564670 &  484 &  10648 & 121 & 0 & 0 & 180.02336 & 267.838093 & 340.37555\\\\\n",
       "\\end{tabular}\n"
      ],
      "text/markdown": [
       "\n",
       "A data.frame: 6 x 18\n",
       "\n",
       "| <!--/--> | treat &lt;int&gt; | age &lt;int&gt; | educ &lt;int&gt; | black &lt;int&gt; | hisp &lt;int&gt; | marr &lt;int&gt; | nodegree &lt;int&gt; | re74 &lt;dbl&gt; | re75 &lt;dbl&gt; | re78 &lt;dbl&gt; | agesq &lt;int&gt; | agecube &lt;int&gt; | educsq &lt;int&gt; | u74 &lt;int&gt; | u75 &lt;int&gt; | interaction1 &lt;dbl&gt; | re74sq &lt;dbl&gt; | re75sq &lt;dbl&gt; |\n",
       "|---|---|---|---|---|---|---|---|---|---|---|---|---|---|---|---|---|---|---|\n",
       "| 1 | 0 | 45 | 11 | 0 | 0 | 1 | 1 | 21.516670 | 25.243551 | 25.564670 | 2025 |  91125 | 121 | 0 | 0 | 236.68337 | 462.967085 | 637.23686 |\n",
       "| 2 | 0 | 21 | 14 | 0 | 0 | 0 | 0 |  3.175971 |  5.852565 | 13.496080 |  441 |   9261 | 196 | 0 | 0 |  44.46359 |  10.086791 |  34.25252 |\n",
       "| 3 | 0 | 38 | 12 | 0 | 0 | 1 | 0 | 23.039020 | 25.130760 | 25.564670 | 1444 |  54872 | 144 | 0 | 0 | 276.46823 | 530.796421 | 631.55509 |\n",
       "| 4 | 0 | 48 |  6 | 0 | 0 | 1 | 1 | 24.994369 | 25.243551 | 25.564670 | 2304 | 110592 |  36 | 0 | 0 | 149.96621 | 624.718489 | 637.23686 |\n",
       "| 5 | 0 | 18 |  8 | 0 | 0 | 1 | 1 |  1.669295 | 10.727610 |  9.860869 |  324 |   5832 |  64 | 0 | 0 |  13.35436 |   2.786546 | 115.08162 |\n",
       "| 6 | 0 | 22 | 11 | 0 | 0 | 1 | 1 | 16.365760 | 18.449270 | 25.564670 |  484 |  10648 | 121 | 0 | 0 | 180.02336 | 267.838093 | 340.37555 |\n",
       "\n"
      ],
      "text/plain": [
       "  treat age educ black hisp marr nodegree re74      re75      re78      agesq\n",
       "1 0     45  11   0     0    1    1        21.516670 25.243551 25.564670 2025 \n",
       "2 0     21  14   0     0    0    0         3.175971  5.852565 13.496080  441 \n",
       "3 0     38  12   0     0    1    0        23.039020 25.130760 25.564670 1444 \n",
       "4 0     48   6   0     0    1    1        24.994369 25.243551 25.564670 2304 \n",
       "5 0     18   8   0     0    1    1         1.669295 10.727610  9.860869  324 \n",
       "6 0     22  11   0     0    1    1        16.365760 18.449270 25.564670  484 \n",
       "  agecube educsq u74 u75 interaction1 re74sq     re75sq   \n",
       "1  91125  121    0   0   236.68337    462.967085 637.23686\n",
       "2   9261  196    0   0    44.46359     10.086791  34.25252\n",
       "3  54872  144    0   0   276.46823    530.796421 631.55509\n",
       "4 110592   36    0   0   149.96621    624.718489 637.23686\n",
       "5   5832   64    0   0    13.35436      2.786546 115.08162\n",
       "6  10648  121    0   0   180.02336    267.838093 340.37555"
      ]
     },
     "metadata": {},
     "output_type": "display_data"
    }
   ],
   "source": [
    "df2 <- read.csv(\"/Users/gabriel/Documents/GitHub/CausalAI-Course/Labs/Assignment/Assignment_5/data/observational/biased_control.csv\")\n",
    "head(df2)"
   ]
  },
  {
   "cell_type": "markdown",
   "metadata": {},
   "source": [
    "### 2.2. Group comparisons (1.5 points). \n",
    "### For the treatment and control group separately, report summary statistics of three variables of your choice. Can you spot any big differences between the treatment and control groups?"
   ]
  },
  {
   "cell_type": "code",
   "execution_count": 20,
   "metadata": {
    "vscode": {
     "languageId": "r"
    }
   },
   "outputs": [
    {
     "name": "stdout",
     "output_type": "stream",
     "text": [
      "\u001b[90m# A tibble: 2 x 8\u001b[39m\n",
      "  treat mean_agesq sd_agesq mean_educsq sd_educsq mean_u75 sd_u75     n\n",
      "  \u001b[3m\u001b[90m<int>\u001b[39m\u001b[23m      \u001b[3m\u001b[90m<dbl>\u001b[39m\u001b[23m    \u001b[3m\u001b[90m<dbl>\u001b[39m\u001b[23m       \u001b[3m\u001b[90m<dbl>\u001b[39m\u001b[23m     \u001b[3m\u001b[90m<dbl>\u001b[39m\u001b[23m    \u001b[3m\u001b[90m<dbl>\u001b[39m\u001b[23m  \u001b[3m\u001b[90m<dbl>\u001b[39m\u001b[23m \u001b[3m\u001b[90m<int>\u001b[39m\u001b[23m\n",
      "\u001b[90m1\u001b[39m     0      \u001b[4m1\u001b[24m226.     785.        153.      67.2    0.109  0.312 \u001b[4m1\u001b[24m\u001b[4m5\u001b[24m992\n",
      "\u001b[90m2\u001b[39m     1       717.     431.        111.      39.3    0.6    0.491   185\n"
     ]
    }
   ],
   "source": [
    "library(dplyr)\n",
    "\n",
    "# Calcular estadísticas descriptivas para agesq, eduqsq y u75 según treat\n",
    "descriptive_stats <- df2 %>%\n",
    "  group_by(treat) %>%\n",
    "  summarise(\n",
    "    mean_agesq = mean(agesq, na.rm = TRUE),\n",
    "    sd_agesq = sd(agesq, na.rm = TRUE),\n",
    "    mean_educsq = mean(educsq, na.rm = TRUE),\n",
    "    sd_educsq = sd(educsq, na.rm = TRUE),\n",
    "    mean_u75 = mean(u75, na.rm = TRUE),\n",
    "    sd_u75 = sd(u75, na.rm = TRUE),\n",
    "    n = n()\n",
    "  )\n",
    "\n",
    "print(descriptive_stats)"
   ]
  },
  {
   "cell_type": "markdown",
   "metadata": {},
   "source": [
    "#### There are a large number of observations in the control group compared to the treatment group. We find that the age and years of education of the control group are on average much higher than those of the treatment group, which contains younger and less educated individuals. We also see that the probability of individuals in the treatment group being unemployed in 1975 is much higher than that of the control individuals."
   ]
  },
  {
   "cell_type": "markdown",
   "metadata": {},
   "source": [
    "### 2.3. Compute the SMD (1.5 points). \n",
    "### Find the simple difference of means, which we can use as a naive estimate of the ATE. How does the result in this case compare to the result in point 1.2.?"
   ]
  },
  {
   "cell_type": "code",
   "execution_count": 21,
   "metadata": {
    "vscode": {
     "languageId": "r"
    }
   },
   "outputs": [
    {
     "data": {
      "text/html": [
       "<table class=\"dataframe\">\n",
       "<caption>A data.frame: 6 x 18</caption>\n",
       "<thead>\n",
       "\t<tr><th></th><th scope=col>treat</th><th scope=col>age</th><th scope=col>educ</th><th scope=col>black</th><th scope=col>hisp</th><th scope=col>marr</th><th scope=col>nodegree</th><th scope=col>re74</th><th scope=col>re75</th><th scope=col>re78</th><th scope=col>agesq</th><th scope=col>agecube</th><th scope=col>educsq</th><th scope=col>u74</th><th scope=col>u75</th><th scope=col>interaction1</th><th scope=col>re74sq</th><th scope=col>re75sq</th></tr>\n",
       "\t<tr><th></th><th scope=col>&lt;int&gt;</th><th scope=col>&lt;dbl&gt;</th><th scope=col>&lt;dbl&gt;</th><th scope=col>&lt;int&gt;</th><th scope=col>&lt;int&gt;</th><th scope=col>&lt;int&gt;</th><th scope=col>&lt;int&gt;</th><th scope=col>&lt;dbl&gt;</th><th scope=col>&lt;dbl&gt;</th><th scope=col>&lt;dbl&gt;</th><th scope=col>&lt;dbl&gt;</th><th scope=col>&lt;dbl&gt;</th><th scope=col>&lt;dbl&gt;</th><th scope=col>&lt;int&gt;</th><th scope=col>&lt;int&gt;</th><th scope=col>&lt;dbl&gt;</th><th scope=col>&lt;dbl&gt;</th><th scope=col>&lt;dbl&gt;</th></tr>\n",
       "</thead>\n",
       "<tbody>\n",
       "\t<tr><th scope=row>1</th><td>0</td><td> 1.0745693</td><td>-0.351562668</td><td>0</td><td>0</td><td>1</td><td>1</td><td> 0.7943524</td><td> 1.2596453</td><td> 1.1183117</td><td> 1.0273777</td><td> 0.9356892</td><td>-0.4685902</td><td>0</td><td>0</td><td> 0.51881523</td><td> 0.68278935</td><td> 1.4889161</td></tr>\n",
       "\t<tr><th scope=row>2</th><td>0</td><td>-1.1000317</td><td> 0.694460741</td><td>0</td><td>0</td><td>0</td><td>0</td><td>-1.1135307</td><td>-0.8224502</td><td>-0.1296042</td><td>-0.9944220</td><td>-0.8821942</td><td> 0.6498058</td><td>0</td><td>0</td><td>-0.96452424</td><td>-1.05545310</td><td>-0.9512266</td></tr>\n",
       "\t<tr><th scope=row>3</th><td>0</td><td> 0.4403106</td><td>-0.002888198</td><td>0</td><td>0</td><td>1</td><td>0</td><td> 0.9527141</td><td> 1.2475344</td><td> 1.1183117</td><td> 0.2857959</td><td> 0.1306500</td><td>-0.1256154</td><td>0</td><td>0</td><td> 0.82583079</td><td> 0.94313151</td><td> 1.4659233</td></tr>\n",
       "\t<tr><th scope=row>4</th><td>0</td><td> 1.3463944</td><td>-2.094935016</td><td>0</td><td>0</td><td>1</td><td>1</td><td> 1.1561185</td><td> 1.2596453</td><td> 1.1183117</td><td> 1.3834901</td><td> 1.3679762</td><td>-1.7361056</td><td>0</td><td>0</td><td>-0.15037178</td><td> 1.30362264</td><td> 1.4889161</td></tr>\n",
       "\t<tr><th scope=row>5</th><td>0</td><td>-1.3718568</td><td>-1.397586076</td><td>0</td><td>0</td><td>1</td><td>1</td><td>-1.2702620</td><td>-0.2989951</td><td>-0.5054922</td><td>-1.1437594</td><td>-0.9583391</td><td>-1.3185711</td><td>0</td><td>0</td><td>-1.20459087</td><td>-1.08347286</td><td>-0.6241293</td></tr>\n",
       "\t<tr><th scope=row>6</th><td>0</td><td>-1.0094233</td><td>-0.351562668</td><td>0</td><td>0</td><td>1</td><td>1</td><td> 0.2585312</td><td> 0.5301134</td><td> 1.1183117</td><td>-0.9395373</td><td>-0.8513943</td><td>-0.4685902</td><td>0</td><td>0</td><td> 0.08157597</td><td>-0.06615359</td><td> 0.2875848</td></tr>\n",
       "</tbody>\n",
       "</table>\n"
      ],
      "text/latex": [
       "A data.frame: 6 x 18\n",
       "\\begin{tabular}{r|llllllllllllllllll}\n",
       "  & treat & age & educ & black & hisp & marr & nodegree & re74 & re75 & re78 & agesq & agecube & educsq & u74 & u75 & interaction1 & re74sq & re75sq\\\\\n",
       "  & <int> & <dbl> & <dbl> & <int> & <int> & <int> & <int> & <dbl> & <dbl> & <dbl> & <dbl> & <dbl> & <dbl> & <int> & <int> & <dbl> & <dbl> & <dbl>\\\\\n",
       "\\hline\n",
       "\t1 & 0 &  1.0745693 & -0.351562668 & 0 & 0 & 1 & 1 &  0.7943524 &  1.2596453 &  1.1183117 &  1.0273777 &  0.9356892 & -0.4685902 & 0 & 0 &  0.51881523 &  0.68278935 &  1.4889161\\\\\n",
       "\t2 & 0 & -1.1000317 &  0.694460741 & 0 & 0 & 0 & 0 & -1.1135307 & -0.8224502 & -0.1296042 & -0.9944220 & -0.8821942 &  0.6498058 & 0 & 0 & -0.96452424 & -1.05545310 & -0.9512266\\\\\n",
       "\t3 & 0 &  0.4403106 & -0.002888198 & 0 & 0 & 1 & 0 &  0.9527141 &  1.2475344 &  1.1183117 &  0.2857959 &  0.1306500 & -0.1256154 & 0 & 0 &  0.82583079 &  0.94313151 &  1.4659233\\\\\n",
       "\t4 & 0 &  1.3463944 & -2.094935016 & 0 & 0 & 1 & 1 &  1.1561185 &  1.2596453 &  1.1183117 &  1.3834901 &  1.3679762 & -1.7361056 & 0 & 0 & -0.15037178 &  1.30362264 &  1.4889161\\\\\n",
       "\t5 & 0 & -1.3718568 & -1.397586076 & 0 & 0 & 1 & 1 & -1.2702620 & -0.2989951 & -0.5054922 & -1.1437594 & -0.9583391 & -1.3185711 & 0 & 0 & -1.20459087 & -1.08347286 & -0.6241293\\\\\n",
       "\t6 & 0 & -1.0094233 & -0.351562668 & 0 & 0 & 1 & 1 &  0.2585312 &  0.5301134 &  1.1183117 & -0.9395373 & -0.8513943 & -0.4685902 & 0 & 0 &  0.08157597 & -0.06615359 &  0.2875848\\\\\n",
       "\\end{tabular}\n"
      ],
      "text/markdown": [
       "\n",
       "A data.frame: 6 x 18\n",
       "\n",
       "| <!--/--> | treat &lt;int&gt; | age &lt;dbl&gt; | educ &lt;dbl&gt; | black &lt;int&gt; | hisp &lt;int&gt; | marr &lt;int&gt; | nodegree &lt;int&gt; | re74 &lt;dbl&gt; | re75 &lt;dbl&gt; | re78 &lt;dbl&gt; | agesq &lt;dbl&gt; | agecube &lt;dbl&gt; | educsq &lt;dbl&gt; | u74 &lt;int&gt; | u75 &lt;int&gt; | interaction1 &lt;dbl&gt; | re74sq &lt;dbl&gt; | re75sq &lt;dbl&gt; |\n",
       "|---|---|---|---|---|---|---|---|---|---|---|---|---|---|---|---|---|---|---|\n",
       "| 1 | 0 |  1.0745693 | -0.351562668 | 0 | 0 | 1 | 1 |  0.7943524 |  1.2596453 |  1.1183117 |  1.0273777 |  0.9356892 | -0.4685902 | 0 | 0 |  0.51881523 |  0.68278935 |  1.4889161 |\n",
       "| 2 | 0 | -1.1000317 |  0.694460741 | 0 | 0 | 0 | 0 | -1.1135307 | -0.8224502 | -0.1296042 | -0.9944220 | -0.8821942 |  0.6498058 | 0 | 0 | -0.96452424 | -1.05545310 | -0.9512266 |\n",
       "| 3 | 0 |  0.4403106 | -0.002888198 | 0 | 0 | 1 | 0 |  0.9527141 |  1.2475344 |  1.1183117 |  0.2857959 |  0.1306500 | -0.1256154 | 0 | 0 |  0.82583079 |  0.94313151 |  1.4659233 |\n",
       "| 4 | 0 |  1.3463944 | -2.094935016 | 0 | 0 | 1 | 1 |  1.1561185 |  1.2596453 |  1.1183117 |  1.3834901 |  1.3679762 | -1.7361056 | 0 | 0 | -0.15037178 |  1.30362264 |  1.4889161 |\n",
       "| 5 | 0 | -1.3718568 | -1.397586076 | 0 | 0 | 1 | 1 | -1.2702620 | -0.2989951 | -0.5054922 | -1.1437594 | -0.9583391 | -1.3185711 | 0 | 0 | -1.20459087 | -1.08347286 | -0.6241293 |\n",
       "| 6 | 0 | -1.0094233 | -0.351562668 | 0 | 0 | 1 | 1 |  0.2585312 |  0.5301134 |  1.1183117 | -0.9395373 | -0.8513943 | -0.4685902 | 0 | 0 |  0.08157597 | -0.06615359 |  0.2875848 |\n",
       "\n"
      ],
      "text/plain": [
       "  treat age        educ         black hisp marr nodegree re74       re75      \n",
       "1 0      1.0745693 -0.351562668 0     0    1    1         0.7943524  1.2596453\n",
       "2 0     -1.1000317  0.694460741 0     0    0    0        -1.1135307 -0.8224502\n",
       "3 0      0.4403106 -0.002888198 0     0    1    0         0.9527141  1.2475344\n",
       "4 0      1.3463944 -2.094935016 0     0    1    1         1.1561185  1.2596453\n",
       "5 0     -1.3718568 -1.397586076 0     0    1    1        -1.2702620 -0.2989951\n",
       "6 0     -1.0094233 -0.351562668 0     0    1    1         0.2585312  0.5301134\n",
       "  re78       agesq      agecube    educsq     u74 u75 interaction1 re74sq     \n",
       "1  1.1183117  1.0273777  0.9356892 -0.4685902 0   0    0.51881523   0.68278935\n",
       "2 -0.1296042 -0.9944220 -0.8821942  0.6498058 0   0   -0.96452424  -1.05545310\n",
       "3  1.1183117  0.2857959  0.1306500 -0.1256154 0   0    0.82583079   0.94313151\n",
       "4  1.1183117  1.3834901  1.3679762 -1.7361056 0   0   -0.15037178   1.30362264\n",
       "5 -0.5054922 -1.1437594 -0.9583391 -1.3185711 0   0   -1.20459087  -1.08347286\n",
       "6  1.1183117 -0.9395373 -0.8513943 -0.4685902 0   0    0.08157597  -0.06615359\n",
       "  re75sq    \n",
       "1  1.4889161\n",
       "2 -0.9512266\n",
       "3  1.4659233\n",
       "4  1.4889161\n",
       "5 -0.6241293\n",
       "6  0.2875848"
      ]
     },
     "metadata": {},
     "output_type": "display_data"
    }
   ],
   "source": [
    "# Columnas numéricas a normalizar\n",
    "numeric_columns <- c('age', 'educ', 're74', 're75', 're78', 'agesq', 'agecube', 'educsq', 'interaction1', 're74sq', 're75sq')\n",
    "\n",
    "x_numeric <- df2[, numeric_columns]\n",
    "x_numeric <- scale(x_numeric)\n",
    "df2[, numeric_columns] <- as.data.frame(x_numeric)\n",
    "\n",
    "head(df2)"
   ]
  },
  {
   "cell_type": "code",
   "execution_count": 23,
   "metadata": {
    "vscode": {
     "languageId": "r"
    }
   },
   "outputs": [
    {
     "name": "stdout",
     "output_type": "stream",
     "text": [
      "Mean re78 for the treated group: -0.87\n",
      "Mean re78 for the control group: 0.01\n",
      "Average Treatment Effect (ATE): -0.88\n"
     ]
    }
   ],
   "source": [
    "# Media de re78 para el grupo tratado\n",
    "mean_treated <- mean(df2[df2$treat == 1, \"re78\"], na.rm = TRUE)\n",
    "\n",
    "# Media de re78 para el grupo de control\n",
    "mean_control <- mean(df2[df2$treat == 0, \"re78\"], na.rm = TRUE)\n",
    "\n",
    "# Efecto promedio del tratamiento (ATE)\n",
    "ate <- mean_treated - mean_control\n",
    "\n",
    "# Impresión de resultados\n",
    "cat(sprintf(\"Mean re78 for the treated group: %.2f\\n\", mean_treated))\n",
    "cat(sprintf(\"Mean re78 for the control group: %.2f\\n\", mean_control))\n",
    "cat(sprintf(\"Average Treatment Effect (ATE): %.2f\\n\", ate))"
   ]
  },
  {
   "cell_type": "markdown",
   "metadata": {},
   "source": [
    "##### The results are vastly different because this dataset comes from an observational sample that comes from other different datasets, which makes it impossible to compare both groups of data. We will estimate a double/biased machine learning to find the unobservable effects of the treatment group on the control group to perform causal inference of the work program."
   ]
  },
  {
   "cell_type": "markdown",
   "metadata": {},
   "source": [
    "### 2.4. Using DML (6 points). \n",
    "### Use the DML procedure as we saw in the Lab, in order to find a better estimate of the ATE. You may use the `doubleML` packages for Python and R, but this package does not exist for Julia, so you will have to build your own procedure like we saw in class. You will be rewarded extra points for using more than one method for predictions. At the end, report the treatment effect you found, as well as the MSE for $D$ and $Y$ achieved by the method(s) you used."
   ]
  },
  {
   "cell_type": "code",
   "execution_count": 24,
   "metadata": {
    "vscode": {
     "languageId": "r"
    }
   },
   "outputs": [],
   "source": [
    "DML2.for.PLM <- function(x, d, y, dreg, yreg, nfold=2) {\n",
    "  nobs <- nrow(x) #number of observations\n",
    "  foldid <- rep.int(1:nfold,times = ceiling(nobs/nfold))[sample.int(nobs)] #define folds indices\n",
    "  I <- split(1:nobs, foldid)  #split observation indices into folds\n",
    "  ytil <- dtil <- rep(NA, nobs)\n",
    "  cat(\"fold: \")\n",
    "  for(b in 1:length(I)){\n",
    "    dfit <- dreg(x[-I[[b]],], d[-I[[b]]]) #take a fold out\n",
    "    yfit <- yreg(x[-I[[b]],], y[-I[[b]]]) # take a foldt out\n",
    "    dhat <- predict(dfit, x[I[[b]],], type=\"response\") #predict the left-out fold\n",
    "    yhat <- predict(yfit, x[I[[b]],], type=\"response\") #predict the left-out fold\n",
    "    dtil[I[[b]]] <- (d[I[[b]]] - dhat) #record residual for the left-out fold\n",
    "    ytil[I[[b]]] <- (y[I[[b]]] - yhat) #record residial for the left-out fold\n",
    "    cat(b,\" \")\n",
    "        }\n",
    "  rfit <- lm(ytil ~ dtil)    #estimate the main parameter by regressing one residual on the other\n",
    "  coef.est <- coef(rfit)[2]  #extract coefficient\n",
    "  se <- sqrt(vcovHC(rfit)[2,2]) #record robust standard error\n",
    "  cat(sprintf(\"\\ncoef (se) = %g (%g)\\n\", coef.est , se))  #printing output\n",
    "  return( list(coef.est =coef.est , se=se, dtil=dtil, ytil=ytil) ) #save output and residuals\n",
    "}"
   ]
  },
  {
   "cell_type": "code",
   "execution_count": 25,
   "metadata": {
    "vscode": {
     "languageId": "r"
    }
   },
   "outputs": [
    {
     "name": "stdout",
     "output_type": "stream",
     "text": [
      "\n",
      "DML with OLS w/o feature selection \n",
      "fold: 1  2  3  4  5  6  7  8  9  10  \n",
      "coef (se) = 0.155821 (0.0650114)\n",
      "\n",
      "DML with Lasso \n",
      "fold: 1  2  3  4  5  6  7  8  9  10  \n",
      "coef (se) = 0.111327 (0.0653628)\n",
      "\n",
      "DML with Random Forest \n",
      "fold: 1  2  3  4  5  6  7  8  9  10  \n",
      "coef (se) = 0.0901041 (0.0691623)\n"
     ]
    }
   ],
   "source": [
    "#DML with OLS\n",
    "cat(sprintf(\"\\nDML with OLS w/o feature selection \\n\"))\n",
    "dreg <- function(x,d){ glmnet(x, d, lambda = 0) } #ML method= OLS using glmnet; using lm gives bugs\n",
    "yreg <- function(x,y){ glmnet(x, y, lambda = 0) } #ML method = OLS\n",
    "DML2.OLS = DML2.for.PLM(x, d, y, dreg, yreg, nfold=10)\n",
    "\n",
    "\n",
    "#DML with Lasso:\n",
    "cat(sprintf(\"\\nDML with Lasso \\n\"))\n",
    "dreg <- function(x,d){ rlasso(x,d, post=FALSE) } #ML method= lasso from hdm\n",
    "yreg <- function(x,y){ rlasso(x,y, post=FALSE) } #ML method = lasso from hdm\n",
    "DML2.lasso = DML2.for.PLM(x, d, y, dreg, yreg, nfold=10)\n",
    "\n",
    "\n",
    "# DML with Random Forest\n",
    "cat(sprintf(\"\\nDML with Random Forest \\n\"))\n",
    "dreg <- function(x, d) { randomForest(x, d) } #ML method=Forest\n",
    "yreg <- function(x, y) { randomForest(x, y) } #ML method=Forest\n",
    "DML2.RF = suppressWarnings(DML2.for.PLM(x, d, y, dreg, yreg, nfold=10))"
   ]
  },
  {
   "cell_type": "code",
   "execution_count": 40,
   "metadata": {
    "vscode": {
     "languageId": "r"
    }
   },
   "outputs": [
    {
     "name": "stdout",
     "output_type": "stream",
     "text": [
      "\n",
      "  There is a binary version available but the source version is later:\n",
      "     binary  source needs_compilation\n",
      "FNN 1.1.3.2 1.1.4.1              TRUE\n",
      "\n"
     ]
    },
    {
     "name": "stderr",
     "output_type": "stream",
     "text": [
      "installing the source package 'FNN'\n",
      "\n",
      "\n"
     ]
    }
   ],
   "source": [
    "# install.packages(\"gbm\")\n",
    "# install.packages(\"e1071\")\n",
    "# install.packages(\"nnet\")\n",
    "# install.packages(\"class\")\n",
    "# install.packages(\"FNN\")"
   ]
  },
  {
   "cell_type": "code",
   "execution_count": 32,
   "metadata": {
    "vscode": {
     "languageId": "r"
    }
   },
   "outputs": [
    {
     "name": "stdout",
     "output_type": "stream",
     "text": [
      "\n",
      "DML with Elastic Net \n",
      "fold: 1  2  3  4  5  6  7  8  9  10  \n",
      "coef (se) = 0.0608905 (0.0646023)\n",
      "\n",
      "DML with Support Vector Machine (SVM) \n",
      "fold: 1  2  3  4  5  6  7  8  9  10  \n",
      "coef (se) = 0.243217 (0.0769364)\n",
      "\n",
      "DML with Gradient Boosting Machines (GBM) \n",
      "fold: "
     ]
    },
    {
     "name": "stderr",
     "output_type": "stream",
     "text": [
      "Using 100 trees...\n",
      "\n",
      "\n",
      "Using 100 trees...\n",
      "\n",
      "\n"
     ]
    },
    {
     "name": "stdout",
     "output_type": "stream",
     "text": [
      "1  "
     ]
    },
    {
     "name": "stderr",
     "output_type": "stream",
     "text": [
      "Using 100 trees...\n",
      "\n",
      "\n",
      "Using 100 trees...\n",
      "\n",
      "\n"
     ]
    },
    {
     "name": "stdout",
     "output_type": "stream",
     "text": [
      "2  "
     ]
    },
    {
     "name": "stderr",
     "output_type": "stream",
     "text": [
      "Using 100 trees...\n",
      "\n",
      "\n",
      "Using 100 trees...\n",
      "\n",
      "\n"
     ]
    },
    {
     "name": "stdout",
     "output_type": "stream",
     "text": [
      "3  "
     ]
    },
    {
     "name": "stderr",
     "output_type": "stream",
     "text": [
      "Using 100 trees...\n",
      "\n",
      "\n",
      "Using 100 trees...\n",
      "\n",
      "\n"
     ]
    },
    {
     "name": "stdout",
     "output_type": "stream",
     "text": [
      "4  "
     ]
    },
    {
     "name": "stderr",
     "output_type": "stream",
     "text": [
      "Using 100 trees...\n",
      "\n",
      "\n",
      "Using 100 trees...\n",
      "\n",
      "\n"
     ]
    },
    {
     "name": "stdout",
     "output_type": "stream",
     "text": [
      "5  "
     ]
    },
    {
     "name": "stderr",
     "output_type": "stream",
     "text": [
      "Using 100 trees...\n",
      "\n",
      "\n",
      "Using 100 trees...\n",
      "\n",
      "\n"
     ]
    },
    {
     "name": "stdout",
     "output_type": "stream",
     "text": [
      "6  "
     ]
    },
    {
     "name": "stderr",
     "output_type": "stream",
     "text": [
      "Using 100 trees...\n",
      "\n",
      "\n",
      "Using 100 trees...\n",
      "\n",
      "\n"
     ]
    },
    {
     "name": "stdout",
     "output_type": "stream",
     "text": [
      "7  "
     ]
    },
    {
     "name": "stderr",
     "output_type": "stream",
     "text": [
      "Using 100 trees...\n",
      "\n",
      "\n",
      "Using 100 trees...\n",
      "\n",
      "\n"
     ]
    },
    {
     "name": "stdout",
     "output_type": "stream",
     "text": [
      "8  "
     ]
    },
    {
     "name": "stderr",
     "output_type": "stream",
     "text": [
      "Using 100 trees...\n",
      "\n",
      "\n",
      "Using 100 trees...\n",
      "\n",
      "\n"
     ]
    },
    {
     "name": "stdout",
     "output_type": "stream",
     "text": [
      "9  "
     ]
    },
    {
     "name": "stderr",
     "output_type": "stream",
     "text": [
      "Using 100 trees...\n",
      "\n",
      "\n",
      "Using 100 trees...\n",
      "\n",
      "\n"
     ]
    },
    {
     "name": "stdout",
     "output_type": "stream",
     "text": [
      "10  \n",
      "coef (se) = 0.0806376 (0.0715272)\n"
     ]
    }
   ],
   "source": [
    "# DML with Elastic Net\n",
    "cat(sprintf(\"\\nDML with Elastic Net \\n\"))\n",
    "dreg <- function(x, d) { glmnet(x, d, alpha = 0.1, lambda = 0.1) }\n",
    "yreg <- function(x, y) { glmnet(x, y, alpha = 0.1, lambda = 0.1) }\n",
    "DML2.EN = suppressWarnings(DML2.for.PLM(x, d, y, dreg, yreg, nfold=10))\n",
    "\n",
    "# DML with Support Vector Machine\n",
    "library(e1071)\n",
    "cat(sprintf(\"\\nDML with Support Vector Machine (SVM) \\n\"))\n",
    "dreg <- function(x, d) { svm(x, d, type = \"eps-regression\", kernel = \"radial\") }\n",
    "yreg <- function(x, y) { svm(x, y, type = \"eps-regression\", kernel = \"radial\") }\n",
    "DML2.SVM = suppressWarnings(DML2.for.PLM(x, d, y, dreg, yreg, nfold=10))\n",
    "\n",
    "# DML with with Gradient Boosting Machines\n",
    "library(gbm)\n",
    "cat(sprintf(\"\\nDML with Gradient Boosting Machines (GBM) \\n\"))\n",
    "x <- as.data.frame(x)\n",
    "dreg <- function(x, d) {gbm(d ~ ., data = cbind(d, x), distribution = \"bernoulli\", n.trees = 100) }  # Usando 100 árboles\n",
    "yreg <- function(x, y) {gbm(y ~ ., data = cbind(y, x), distribution = \"gaussian\", n.trees = 100) }\n",
    "DML2.GBM = suppressWarnings(DML2.for.PLM(x, d, y, dreg, yreg, nfold = 10))\n",
    "\n",
    "x <- as.matrix(df2[, !(names(df2) %in% c(\"re78\", \"treat\"))])"
   ]
  },
  {
   "cell_type": "code",
   "execution_count": 39,
   "metadata": {
    "vscode": {
     "languageId": "r"
    }
   },
   "outputs": [
    {
     "name": "stdout",
     "output_type": "stream",
     "text": [
      "\n",
      "DML with Random Forest for D and OLS for Y \n"
     ]
    },
    {
     "name": "stdout",
     "output_type": "stream",
     "text": [
      "fold: 1  2  3  4  5  6  7  8  9  10  \n",
      "coef (se) = 0.0853145 (0.0670835)\n"
     ]
    }
   ],
   "source": [
    "#DML MIX: D with RF and Y with OLS\n",
    "cat(sprintf(\"\\nDML with Random Forest for D and OLS for Y \\n\"))\n",
    "dreg <- function(x, d) { randomForest(x, d) } #ML method=Forest\n",
    "yreg <- function(x,y){ glmnet(x, y, lambda = 0) } \n",
    "DML2.mix = suppressWarnings(DML2.for.PLM(x, d, y, dreg, yreg, nfold=10))"
   ]
  },
  {
   "cell_type": "code",
   "execution_count": 40,
   "metadata": {
    "vscode": {
     "languageId": "r"
    }
   },
   "outputs": [],
   "source": [
    "# Calcular RMSE para cada modelo en D y Y\n",
    "prRes.D <- c(\n",
    "  mean((DML2.OLS$dtil)^2),\n",
    "  mean((DML2.lasso$dtil)^2),\n",
    "  mean((DML2.RF$dtil)^2),\n",
    "  mean((DML2.EN$dtil)^2),\n",
    "  mean((DML2.SVM$dtil)^2),\n",
    "  mean((DML2.GBM$dtil)^2),\n",
    "  mean((DML2.mix$dtil)^2)\n",
    ")\n",
    "\n",
    "prRes.Y <- c(\n",
    "  mean((DML2.OLS$ytil)^2),\n",
    "  mean((DML2.lasso$ytil)^2),\n",
    "  mean((DML2.RF$ytil)^2),\n",
    "  mean((DML2.EN$ytil)^2),\n",
    "  mean((DML2.SVM$ytil)^2),\n",
    "  mean((DML2.GBM$ytil)^2),\n",
    "  mean((DML2.mix$ytil)^2)\n",
    ")\n",
    "\n",
    "prRes <- rbind(sqrt(prRes.D), sqrt(prRes.Y))\n",
    "rownames(prRes) <- c(\"RMSE D\", \"RMSE Y\")\n",
    "colnames(prRes) <- c(\"OLS\", \"Lasso\", \"RF\", \"EN\", \"SVM\", \"GBM\", \"Mix\")"
   ]
  },
  {
   "cell_type": "code",
   "execution_count": 41,
   "metadata": {
    "vscode": {
     "languageId": "r"
    }
   },
   "outputs": [
    {
     "data": {
      "text/html": [
       "<table class=\"dataframe\">\n",
       "<caption>A matrix: 7 x 4 of type dbl</caption>\n",
       "<thead>\n",
       "\t<tr><th></th><th scope=col>Estimate</th><th scope=col>Standard Error</th><th scope=col>RMSE Y</th><th scope=col>RMSE D</th></tr>\n",
       "</thead>\n",
       "<tbody>\n",
       "\t<tr><th scope=row>OLS</th><td>0.15582094</td><td>0.06501138</td><td>0.7226647</td><td>0.09868213</td></tr>\n",
       "\t<tr><th scope=row>Lasso</th><td>0.11132707</td><td>0.06536284</td><td>0.7236831</td><td>0.09964065</td></tr>\n",
       "\t<tr><th scope=row>RF</th><td>0.09010407</td><td>0.06916233</td><td>0.7483188</td><td>0.08453241</td></tr>\n",
       "\t<tr><th scope=row>EN</th><td>0.06089046</td><td>0.06460233</td><td>0.7263474</td><td>0.10255043</td></tr>\n",
       "\t<tr><th scope=row>SVM</th><td>0.24321682</td><td>0.07693643</td><td>0.7428458</td><td>0.09135950</td></tr>\n",
       "\t<tr><th scope=row>GBM</th><td>0.08063759</td><td>0.07152724</td><td>0.7250149</td><td>0.08540363</td></tr>\n",
       "\t<tr><th scope=row>Mix</th><td>0.08531453</td><td>0.06708354</td><td>0.7224432</td><td>0.08403024</td></tr>\n",
       "</tbody>\n",
       "</table>\n"
      ],
      "text/latex": [
       "A matrix: 7 x 4 of type dbl\n",
       "\\begin{tabular}{r|llll}\n",
       "  & Estimate & Standard Error & RMSE Y & RMSE D\\\\\n",
       "\\hline\n",
       "\tOLS & 0.15582094 & 0.06501138 & 0.7226647 & 0.09868213\\\\\n",
       "\tLasso & 0.11132707 & 0.06536284 & 0.7236831 & 0.09964065\\\\\n",
       "\tRF & 0.09010407 & 0.06916233 & 0.7483188 & 0.08453241\\\\\n",
       "\tEN & 0.06089046 & 0.06460233 & 0.7263474 & 0.10255043\\\\\n",
       "\tSVM & 0.24321682 & 0.07693643 & 0.7428458 & 0.09135950\\\\\n",
       "\tGBM & 0.08063759 & 0.07152724 & 0.7250149 & 0.08540363\\\\\n",
       "\tMix & 0.08531453 & 0.06708354 & 0.7224432 & 0.08403024\\\\\n",
       "\\end{tabular}\n"
      ],
      "text/markdown": [
       "\n",
       "A matrix: 7 x 4 of type dbl\n",
       "\n",
       "| <!--/--> | Estimate | Standard Error | RMSE Y | RMSE D |\n",
       "|---|---|---|---|---|\n",
       "| OLS | 0.15582094 | 0.06501138 | 0.7226647 | 0.09868213 |\n",
       "| Lasso | 0.11132707 | 0.06536284 | 0.7236831 | 0.09964065 |\n",
       "| RF | 0.09010407 | 0.06916233 | 0.7483188 | 0.08453241 |\n",
       "| EN | 0.06089046 | 0.06460233 | 0.7263474 | 0.10255043 |\n",
       "| SVM | 0.24321682 | 0.07693643 | 0.7428458 | 0.09135950 |\n",
       "| GBM | 0.08063759 | 0.07152724 | 0.7250149 | 0.08540363 |\n",
       "| Mix | 0.08531453 | 0.06708354 | 0.7224432 | 0.08403024 |\n",
       "\n"
      ],
      "text/plain": [
       "      Estimate   Standard Error RMSE Y    RMSE D    \n",
       "OLS   0.15582094 0.06501138     0.7226647 0.09868213\n",
       "Lasso 0.11132707 0.06536284     0.7236831 0.09964065\n",
       "RF    0.09010407 0.06916233     0.7483188 0.08453241\n",
       "EN    0.06089046 0.06460233     0.7263474 0.10255043\n",
       "SVM   0.24321682 0.07693643     0.7428458 0.09135950\n",
       "GBM   0.08063759 0.07152724     0.7250149 0.08540363\n",
       "Mix   0.08531453 0.06708354     0.7224432 0.08403024"
      ]
     },
     "metadata": {},
     "output_type": "display_data"
    }
   ],
   "source": [
    "# Crear la tabla de resultados\n",
    "table <- matrix(0, 7, 4)\n",
    "\n",
    "# Point Estimate\n",
    "table[1, 1] <- as.numeric(DML2.OLS$coef.est)\n",
    "table[2, 1] <- as.numeric(DML2.lasso$coef.est)\n",
    "table[3, 1] <- as.numeric(DML2.RF$coef.est)\n",
    "table[4, 1] <- as.numeric(DML2.EN$coef.est)\n",
    "table[5, 1] <- as.numeric(DML2.SVM$coef.est)\n",
    "table[6, 1] <- as.numeric(DML2.GBM$coef.est)\n",
    "table[7, 1] <- as.numeric(DML2.mix$coef.est)\n",
    "\n",
    "# SE\n",
    "table[1, 2] <- as.numeric(DML2.OLS$se)\n",
    "table[2, 2] <- as.numeric(DML2.lasso$se)\n",
    "table[3, 2] <- as.numeric(DML2.RF$se)\n",
    "table[4, 2] <- as.numeric(DML2.EN$se)\n",
    "table[5, 2] <- as.numeric(DML2.SVM$se)\n",
    "table[6, 2] <- as.numeric(DML2.GBM$se)\n",
    "table[7, 2] <- as.numeric(DML2.mix$se)\n",
    "\n",
    "# RMSE Y\n",
    "table[1, 3] <- as.numeric(prRes[2, 1])\n",
    "table[2, 3] <- as.numeric(prRes[2, 2])\n",
    "table[3, 3] <- as.numeric(prRes[2, 3])\n",
    "table[4, 3] <- as.numeric(prRes[2, 4])\n",
    "table[5, 3] <- as.numeric(prRes[2, 5])\n",
    "table[6, 3] <- as.numeric(prRes[2, 6])\n",
    "table[7, 3] <- as.numeric(prRes[2, 7])\n",
    "\n",
    "# RMSE D\n",
    "table[1, 4] <- as.numeric(prRes[1, 1])\n",
    "table[2, 4] <- as.numeric(prRes[1, 2])\n",
    "table[3, 4] <- as.numeric(prRes[1, 3])\n",
    "table[4, 4] <- as.numeric(prRes[1, 4])\n",
    "table[5, 4] <- as.numeric(prRes[1, 5])\n",
    "table[6, 4] <- as.numeric(prRes[1, 6])\n",
    "table[7, 4] <- as.numeric(prRes[1, 7])\n",
    "\n",
    "# Imprimir los resultados\n",
    "colnames(table) <- c(\"Estimate\", \"Standard Error\", \"RMSE Y\", \"RMSE D\")\n",
    "rownames(table) <- c(\"OLS\", \"Lasso\", \"RF\", \"EN\", \"SVM\", \"GBM\", \"Mix\")\n",
    "table"
   ]
  },
  {
   "cell_type": "markdown",
   "metadata": {},
   "source": [
    "##### We observe that all models have a very similar fit, both for the variable Y, the outcome, and for the variable D, the treatment. Likewise, the best model that performs best for the variable Y is the OLS, and the best model that best predicts the variable D is the RF. Finally, we combine both models in a mixed model and obtain an estimate of the causal effect of 0.0853.\n",
    "\n",
    "##### The causal effect of the best mixed predictive model produces a positive coefficient, unlike that shown by the simple difference in means model, evidencing the benefits of using double machine learning."
   ]
  }
 ],
 "metadata": {
  "kernelspec": {
   "display_name": "R",
   "language": "R",
   "name": "ir"
  },
  "language_info": {
   "codemirror_mode": "r",
   "file_extension": ".r",
   "mimetype": "text/x-r-source",
   "name": "R",
   "pygments_lexer": "r",
   "version": "4.2.3"
  }
 },
 "nbformat": 4,
 "nbformat_minor": 2
}
