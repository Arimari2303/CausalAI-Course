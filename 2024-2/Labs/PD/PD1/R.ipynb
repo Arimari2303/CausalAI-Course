{
 "cells": [
  {
   "cell_type": "markdown",
   "metadata": {},
   "source": [
    "# R Basics\n",
    "\n",
    "R can be though of as a specific domain language, although it can be used for general functionality. It is written in C and Fortran. It supports a variety of programming paradigms, of which we will focus on procedural and functional\n",
    "\n",
    "## Base classes\n",
    "\n",
    "In R, types and classes are not synonimous. We will be working with classes. The most commonly used built-in data classes in R are\n",
    "\n",
    "### **`numeric`**\n",
    "\n",
    "Numeric data in R functions similar to `float` in Python, except it includes sequences."
   ]
  },
  {
   "cell_type": "code",
   "execution_count": 1,
   "metadata": {
    "vscode": {
     "languageId": "r"
    }
   },
   "outputs": [
    {
     "data": {
      "text/html": [
       "'numeric'"
      ],
      "text/latex": [
       "'numeric'"
      ],
      "text/markdown": [
       "'numeric'"
      ],
      "text/plain": [
       "[1] \"numeric\""
      ]
     },
     "metadata": {},
     "output_type": "display_data"
    }
   ],
   "source": [
    "class(4)"
   ]
  },
  {
   "cell_type": "code",
   "execution_count": 2,
   "metadata": {
    "vscode": {
     "languageId": "r"
    }
   },
   "outputs": [
    {
     "data": {
      "text/html": [
       "'numeric'"
      ],
      "text/latex": [
       "'numeric'"
      ],
      "text/markdown": [
       "'numeric'"
      ],
      "text/plain": [
       "[1] \"numeric\""
      ]
     },
     "metadata": {},
     "output_type": "display_data"
    }
   ],
   "source": [
    "class(c(1, 2, 3, 4))"
   ]
  },
  {
   "cell_type": "markdown",
   "metadata": {},
   "source": [
    "### **`integer`**\n",
    "\n",
    "Analogous to `int` in Python, except it also includes sequences. Integers in R need to be specifically defined as integers through numeric objects and the `as.integer()` function\n"
   ]
  },
  {
   "cell_type": "code",
   "execution_count": 3,
   "metadata": {
    "vscode": {
     "languageId": "r"
    }
   },
   "outputs": [
    {
     "data": {
      "text/html": [
       "'integer'"
      ],
      "text/latex": [
       "'integer'"
      ],
      "text/markdown": [
       "'integer'"
      ],
      "text/plain": [
       "[1] \"integer\""
      ]
     },
     "metadata": {},
     "output_type": "display_data"
    }
   ],
   "source": [
    "class(as.integer(4))"
   ]
  },
  {
   "cell_type": "markdown",
   "metadata": {},
   "source": [
    "The `as.integer()` function rounds floating point numbers down"
   ]
  },
  {
   "cell_type": "code",
   "execution_count": 4,
   "metadata": {
    "vscode": {
     "languageId": "r"
    }
   },
   "outputs": [
    {
     "name": "stdout",
     "output_type": "stream",
     "text": [
      "[1] 4\n"
     ]
    },
    {
     "data": {
      "text/html": [
       "'integer'"
      ],
      "text/latex": [
       "'integer'"
      ],
      "text/markdown": [
       "'integer'"
      ],
      "text/plain": [
       "[1] \"integer\""
      ]
     },
     "metadata": {},
     "output_type": "display_data"
    }
   ],
   "source": [
    "print(as.integer(4.5))\n",
    "class(as.integer(4.5))"
   ]
  },
  {
   "cell_type": "code",
   "execution_count": 5,
   "metadata": {
    "vscode": {
     "languageId": "r"
    }
   },
   "outputs": [
    {
     "name": "stdout",
     "output_type": "stream",
     "text": [
      "[1] 3 4 1\n"
     ]
    }
   ],
   "source": [
    "print(as.integer(c(3.6, 4, 1.2)))"
   ]
  },
  {
   "cell_type": "markdown",
   "metadata": {},
   "source": [
    "### **`character`**\n",
    "\n",
    "Also known as strings. Collections of strings are also considered under the `character` class. Unlike in Python, they are not considered collections, and they cannot be iterated over with a `for` loop"
   ]
  },
  {
   "cell_type": "code",
   "execution_count": 6,
   "metadata": {
    "vscode": {
     "languageId": "r"
    }
   },
   "outputs": [
    {
     "data": {
      "text/html": [
       "'character'"
      ],
      "text/latex": [
       "'character'"
      ],
      "text/markdown": [
       "'character'"
      ],
      "text/plain": [
       "[1] \"character\""
      ]
     },
     "metadata": {},
     "output_type": "display_data"
    }
   ],
   "source": [
    "class(\"The quick brown fox\")"
   ]
  },
  {
   "cell_type": "code",
   "execution_count": 7,
   "metadata": {
    "vscode": {
     "languageId": "r"
    }
   },
   "outputs": [
    {
     "data": {
      "text/html": [
       "'character'"
      ],
      "text/latex": [
       "'character'"
      ],
      "text/markdown": [
       "'character'"
      ],
      "text/plain": [
       "[1] \"character\""
      ]
     },
     "metadata": {},
     "output_type": "display_data"
    }
   ],
   "source": [
    "class(c(\"The quick brown fox\", \"Jumped over\", \"The lazy dog\"))"
   ]
  },
  {
   "cell_type": "markdown",
   "metadata": {},
   "source": [
    "If any element of a collection is a string, the whole collection is considered to be of `character` type, regardless of all other elements"
   ]
  },
  {
   "cell_type": "code",
   "execution_count": 8,
   "metadata": {
    "vscode": {
     "languageId": "r"
    }
   },
   "outputs": [
    {
     "data": {
      "text/html": [
       "'character'"
      ],
      "text/latex": [
       "'character'"
      ],
      "text/markdown": [
       "'character'"
      ],
      "text/plain": [
       "[1] \"character\""
      ]
     },
     "metadata": {},
     "output_type": "display_data"
    }
   ],
   "source": [
    "class(c(1, 2, \"Javier\", 3, 4, 5, 6))"
   ]
  },
  {
   "cell_type": "markdown",
   "metadata": {},
   "source": [
    "### **`factor`**\n",
    "\n",
    "Factors encode different the specific levels of a qualitative variable. For example, a variable for a person's race. The levels are not ordered"
   ]
  },
  {
   "cell_type": "code",
   "execution_count": 9,
   "metadata": {
    "vscode": {
     "languageId": "r"
    }
   },
   "outputs": [
    {
     "data": {
      "text/html": [
       "<style>\n",
       ".list-inline {list-style: none; margin:0; padding: 0}\n",
       ".list-inline>li {display: inline-block}\n",
       ".list-inline>li:not(:last-child)::after {content: \"\\00b7\"; padding: 0 .5ex}\n",
       "</style>\n",
       "<ol class=list-inline><li>black</li><li>white</li><li>hispanic</li></ol>\n",
       "\n",
       "<details>\n",
       "\t<summary style=display:list-item;cursor:pointer>\n",
       "\t\t<strong>Levels</strong>:\n",
       "\t</summary>\n",
       "\t<style>\n",
       "\t.list-inline {list-style: none; margin:0; padding: 0}\n",
       "\t.list-inline>li {display: inline-block}\n",
       "\t.list-inline>li:not(:last-child)::after {content: \"\\00b7\"; padding: 0 .5ex}\n",
       "\t</style>\n",
       "\t<ol class=list-inline><li>'black'</li><li>'hispanic'</li><li>'white'</li></ol>\n",
       "</details>"
      ],
      "text/latex": [
       "\\begin{enumerate*}\n",
       "\\item black\n",
       "\\item white\n",
       "\\item hispanic\n",
       "\\end{enumerate*}\n",
       "\n",
       "\\emph{Levels}: \\begin{enumerate*}\n",
       "\\item 'black'\n",
       "\\item 'hispanic'\n",
       "\\item 'white'\n",
       "\\end{enumerate*}\n"
      ],
      "text/markdown": [
       "1. black\n",
       "2. white\n",
       "3. hispanic\n",
       "\n",
       "\n",
       "\n",
       "**Levels**: 1. 'black'\n",
       "2. 'hispanic'\n",
       "3. 'white'\n",
       "\n",
       "\n"
      ],
      "text/plain": [
       "[1] black    white    hispanic\n",
       "Levels: black hispanic white"
      ]
     },
     "metadata": {},
     "output_type": "display_data"
    }
   ],
   "source": [
    "factor(c(\"black\", \"white\", \"hispanic\"))"
   ]
  },
  {
   "cell_type": "code",
   "execution_count": 10,
   "metadata": {
    "vscode": {
     "languageId": "r"
    }
   },
   "outputs": [
    {
     "data": {
      "text/html": [
       "<style>\n",
       ".list-inline {list-style: none; margin:0; padding: 0}\n",
       ".list-inline>li {display: inline-block}\n",
       ".list-inline>li:not(:last-child)::after {content: \"\\00b7\"; padding: 0 .5ex}\n",
       "</style>\n",
       "<ol class=list-inline><li>'black'</li><li>'hispanic'</li><li>'white'</li></ol>\n"
      ],
      "text/latex": [
       "\\begin{enumerate*}\n",
       "\\item 'black'\n",
       "\\item 'hispanic'\n",
       "\\item 'white'\n",
       "\\end{enumerate*}\n"
      ],
      "text/markdown": [
       "1. 'black'\n",
       "2. 'hispanic'\n",
       "3. 'white'\n",
       "\n",
       "\n"
      ],
      "text/plain": [
       "[1] \"black\"    \"hispanic\" \"white\"   "
      ]
     },
     "metadata": {},
     "output_type": "display_data"
    }
   ],
   "source": [
    "levels(factor(c(\"black\", \"white\", \"hispanic\")))"
   ]
  },
  {
   "cell_type": "markdown",
   "metadata": {},
   "source": [
    "A factor variable can be built from a character variable"
   ]
  },
  {
   "cell_type": "code",
   "execution_count": 11,
   "metadata": {
    "vscode": {
     "languageId": "r"
    }
   },
   "outputs": [
    {
     "data": {
      "text/html": [
       "'character'"
      ],
      "text/latex": [
       "'character'"
      ],
      "text/markdown": [
       "'character'"
      ],
      "text/plain": [
       "[1] \"character\""
      ]
     },
     "metadata": {},
     "output_type": "display_data"
    }
   ],
   "source": [
    "education <- c(\"BSc\", \"High School\", \"BSc\", \"MBA\", \"PhD\", \"BA\", \"High School\")\n",
    "class(education)"
   ]
  },
  {
   "cell_type": "code",
   "execution_count": 12,
   "metadata": {
    "vscode": {
     "languageId": "r"
    }
   },
   "outputs": [
    {
     "data": {
      "text/html": [
       "<style>\n",
       ".list-inline {list-style: none; margin:0; padding: 0}\n",
       ".list-inline>li {display: inline-block}\n",
       ".list-inline>li:not(:last-child)::after {content: \"\\00b7\"; padding: 0 .5ex}\n",
       "</style>\n",
       "<ol class=list-inline><li>BSc</li><li>High School</li><li>BSc</li><li>MBA</li><li>PhD</li><li>BA</li><li>High School</li></ol>\n",
       "\n",
       "<details>\n",
       "\t<summary style=display:list-item;cursor:pointer>\n",
       "\t\t<strong>Levels</strong>:\n",
       "\t</summary>\n",
       "\t<style>\n",
       "\t.list-inline {list-style: none; margin:0; padding: 0}\n",
       "\t.list-inline>li {display: inline-block}\n",
       "\t.list-inline>li:not(:last-child)::after {content: \"\\00b7\"; padding: 0 .5ex}\n",
       "\t</style>\n",
       "\t<ol class=list-inline><li>'BA'</li><li>'BSc'</li><li>'High School'</li><li>'MBA'</li><li>'PhD'</li></ol>\n",
       "</details>"
      ],
      "text/latex": [
       "\\begin{enumerate*}\n",
       "\\item BSc\n",
       "\\item High School\n",
       "\\item BSc\n",
       "\\item MBA\n",
       "\\item PhD\n",
       "\\item BA\n",
       "\\item High School\n",
       "\\end{enumerate*}\n",
       "\n",
       "\\emph{Levels}: \\begin{enumerate*}\n",
       "\\item 'BA'\n",
       "\\item 'BSc'\n",
       "\\item 'High School'\n",
       "\\item 'MBA'\n",
       "\\item 'PhD'\n",
       "\\end{enumerate*}\n"
      ],
      "text/markdown": [
       "1. BSc\n",
       "2. High School\n",
       "3. BSc\n",
       "4. MBA\n",
       "5. PhD\n",
       "6. BA\n",
       "7. High School\n",
       "\n",
       "\n",
       "\n",
       "**Levels**: 1. 'BA'\n",
       "2. 'BSc'\n",
       "3. 'High School'\n",
       "4. 'MBA'\n",
       "5. 'PhD'\n",
       "\n",
       "\n"
      ],
      "text/plain": [
       "[1] BSc         High School BSc         MBA         PhD         BA         \n",
       "[7] High School\n",
       "Levels: BA BSc High School MBA PhD"
      ]
     },
     "metadata": {},
     "output_type": "display_data"
    }
   ],
   "source": [
    "as.factor(education)"
   ]
  },
  {
   "cell_type": "markdown",
   "metadata": {},
   "source": [
    "### **`logical`**\n",
    "\n",
    "Like `bool` in Python."
   ]
  },
  {
   "cell_type": "code",
   "execution_count": 13,
   "metadata": {
    "vscode": {
     "languageId": "r"
    }
   },
   "outputs": [
    {
     "data": {
      "text/html": [
       "TRUE"
      ],
      "text/latex": [
       "TRUE"
      ],
      "text/markdown": [
       "TRUE"
      ],
      "text/plain": [
       "[1] TRUE"
      ]
     },
     "metadata": {},
     "output_type": "display_data"
    }
   ],
   "source": [
    "value1 <- 4\n",
    "value2 <- 5\n",
    "\n",
    "comparison <- value1 < value2\n",
    "comparison"
   ]
  },
  {
   "cell_type": "code",
   "execution_count": 14,
   "metadata": {
    "vscode": {
     "languageId": "r"
    }
   },
   "outputs": [
    {
     "data": {
      "text/html": [
       "'logical'"
      ],
      "text/latex": [
       "'logical'"
      ],
      "text/markdown": [
       "'logical'"
      ],
      "text/plain": [
       "[1] \"logical\""
      ]
     },
     "metadata": {},
     "output_type": "display_data"
    }
   ],
   "source": [
    "class(comparison)"
   ]
  },
  {
   "cell_type": "markdown",
   "metadata": {},
   "source": [
    "Logical variables can be converted to numerical as in Python"
   ]
  },
  {
   "cell_type": "code",
   "execution_count": 15,
   "metadata": {
    "vscode": {
     "languageId": "r"
    }
   },
   "outputs": [
    {
     "data": {
      "text/html": [
       "1"
      ],
      "text/latex": [
       "1"
      ],
      "text/markdown": [
       "1"
      ],
      "text/plain": [
       "[1] 1"
      ]
     },
     "metadata": {},
     "output_type": "display_data"
    }
   ],
   "source": [
    "as.numeric(comparison)"
   ]
  },
  {
   "cell_type": "markdown",
   "metadata": {},
   "source": [
    "Numerical variables can be converted to logical. Variables equal to 0 are considered `FALSE`, and all other values are considered `TRUE`"
   ]
  },
  {
   "cell_type": "code",
   "execution_count": 16,
   "metadata": {
    "vscode": {
     "languageId": "r"
    }
   },
   "outputs": [
    {
     "name": "stdout",
     "output_type": "stream",
     "text": [
      "[1] TRUE\n",
      "[1] TRUE\n",
      "[1] FALSE\n"
     ]
    }
   ],
   "source": [
    "print(as.logical(3))\n",
    "print(as.logical(-15.3))\n",
    "print(as.logical(0))"
   ]
  },
  {
   "cell_type": "markdown",
   "metadata": {},
   "source": [
    "### **`list`**\n",
    "\n",
    "Lists are more similar to Python dictioaries, in that they map key-value pairs"
   ]
  },
  {
   "cell_type": "code",
   "execution_count": 17,
   "metadata": {
    "vscode": {
     "languageId": "r"
    }
   },
   "outputs": [
    {
     "data": {
      "text/html": [
       "<dl>\n",
       "\t<dt>$a</dt>\n",
       "\t\t<dd>1</dd>\n",
       "\t<dt>$b</dt>\n",
       "\t\t<dd>2</dd>\n",
       "\t<dt>$c</dt>\n",
       "\t\t<dd><style>\n",
       ".list-inline {list-style: none; margin:0; padding: 0}\n",
       ".list-inline>li {display: inline-block}\n",
       ".list-inline>li:not(:last-child)::after {content: \"\\00b7\"; padding: 0 .5ex}\n",
       "</style>\n",
       "<ol class=list-inline><li>1</li><li>2</li><li>3</li></ol>\n",
       "</dd>\n",
       "</dl>\n"
      ],
      "text/latex": [
       "\\begin{description}\n",
       "\\item[\\$a] 1\n",
       "\\item[\\$b] 2\n",
       "\\item[\\$c] \\begin{enumerate*}\n",
       "\\item 1\n",
       "\\item 2\n",
       "\\item 3\n",
       "\\end{enumerate*}\n",
       "\n",
       "\\end{description}\n"
      ],
      "text/markdown": [
       "$a\n",
       ":   1\n",
       "$b\n",
       ":   2\n",
       "$c\n",
       ":   1. 1\n",
       "2. 2\n",
       "3. 3\n",
       "\n",
       "\n",
       "\n",
       "\n",
       "\n"
      ],
      "text/plain": [
       "$a\n",
       "[1] 1\n",
       "\n",
       "$b\n",
       "[1] 2\n",
       "\n",
       "$c\n",
       "[1] 1 2 3\n"
      ]
     },
     "metadata": {},
     "output_type": "display_data"
    }
   ],
   "source": [
    "list_example <- list(a = 1, b = 2, c = c(1, 2, 3))\n",
    "list_example"
   ]
  },
  {
   "cell_type": "code",
   "execution_count": 18,
   "metadata": {
    "vscode": {
     "languageId": "r"
    }
   },
   "outputs": [
    {
     "data": {
      "text/html": [
       "<style>\n",
       ".list-inline {list-style: none; margin:0; padding: 0}\n",
       ".list-inline>li {display: inline-block}\n",
       ".list-inline>li:not(:last-child)::after {content: \"\\00b7\"; padding: 0 .5ex}\n",
       "</style>\n",
       "<ol class=list-inline><li>1</li><li>2</li><li>3</li></ol>\n"
      ],
      "text/latex": [
       "\\begin{enumerate*}\n",
       "\\item 1\n",
       "\\item 2\n",
       "\\item 3\n",
       "\\end{enumerate*}\n"
      ],
      "text/markdown": [
       "1. 1\n",
       "2. 2\n",
       "3. 3\n",
       "\n",
       "\n"
      ],
      "text/plain": [
       "[1] 1 2 3"
      ]
     },
     "metadata": {},
     "output_type": "display_data"
    }
   ],
   "source": [
    "list_example$c"
   ]
  },
  {
   "cell_type": "code",
   "execution_count": 19,
   "metadata": {
    "vscode": {
     "languageId": "r"
    }
   },
   "outputs": [
    {
     "data": {
      "text/html": [
       "'function'"
      ],
      "text/latex": [
       "'function'"
      ],
      "text/markdown": [
       "'function'"
      ],
      "text/plain": [
       "[1] \"function\""
      ]
     },
     "metadata": {},
     "output_type": "display_data"
    }
   ],
   "source": [
    "class(list)"
   ]
  },
  {
   "cell_type": "markdown",
   "metadata": {},
   "source": [
    "## Control Flow\n",
    "\n",
    "### **`while`**"
   ]
  },
  {
   "cell_type": "code",
   "execution_count": 20,
   "metadata": {
    "vscode": {
     "languageId": "r"
    }
   },
   "outputs": [
    {
     "name": "stdout",
     "output_type": "stream",
     "text": [
      "[1] \"The quick brown fox jumped over the lazy do\"\n",
      "[1] \"The quick brown fox jumped over the lazy d\"\n",
      "[1] \"The quick brown fox jumped over the lazy \"\n",
      "[1] \"The quick brown fox jumped over the lazy\"\n",
      "[1] \"The quick brown fox jumped over the laz\"\n",
      "[1] \"The quick brown fox jumped over the la\"\n",
      "[1] \"The quick brown fox jumped over the l\"\n",
      "[1] \"The quick brown fox jumped over the \"\n",
      "[1] \"The quick brown fox jumped over the\"\n",
      "[1] \"The quick brown fox jumped over th\"\n",
      "[1] \"The quick brown fox jumped over t\"\n",
      "[1] \"The quick brown fox jumped over \"\n",
      "[1] \"The quick brown fox jumped over\"\n",
      "[1] \"The quick brown fox jumped ove\"\n",
      "[1] \"The quick brown fox jumped ov\"\n",
      "[1] \"The quick brown fox jumped o\"\n",
      "[1] \"The quick brown fox jumped \"\n",
      "[1] \"The quick brown fox jumped\"\n",
      "[1] \"The quick brown fox jumpe\"\n",
      "[1] \"The quick brown fox jump\"\n",
      "[1] \"The quick brown fox jum\"\n",
      "[1] \"The quick brown fox ju\"\n",
      "[1] \"The quick brown fox j\"\n",
      "[1] \"The quick brown fox \"\n",
      "[1] \"The quick brown fox\"\n",
      "[1] \"The quick brown fo\"\n",
      "[1] \"The quick brown f\"\n",
      "[1] \"The quick brown \"\n",
      "[1] \"The quick brown\"\n",
      "[1] \"The quick brow\"\n",
      "[1] \"The quick bro\"\n",
      "[1] \"The quick br\"\n",
      "[1] \"The quick b\"\n",
      "[1] \"The quick \"\n",
      "[1] \"The quick\"\n",
      "[1] \"The quic\"\n",
      "[1] \"The qui\"\n",
      "[1] \"The qu\"\n",
      "[1] \"The q\"\n",
      "[1] \"The \"\n",
      "[1] \"The\"\n",
      "[1] \"Th\"\n",
      "[1] \"T\"\n",
      "[1] \"\"\n"
     ]
    },
    {
     "name": "stdout",
     "output_type": "stream",
     "text": [
      "[1] \"Finished\"\n"
     ]
    }
   ],
   "source": [
    "string_example <- \"The quick brown fox jumped over the lazy dog\"\n",
    "\n",
    "while (string_example != \"\") {\n",
    "  string_example <- paste(head(\n",
    "    strsplit(string_example, \"\")[[1]], -1\n",
    "  ), collapse = \"\")\n",
    "  print(string_example)\n",
    "}\n",
    "print(\"Finished\")"
   ]
  },
  {
   "cell_type": "markdown",
   "metadata": {},
   "source": [
    "### **`for`**"
   ]
  },
  {
   "cell_type": "code",
   "execution_count": 21,
   "metadata": {
    "vscode": {
     "languageId": "r"
    }
   },
   "outputs": [
    {
     "name": "stdout",
     "output_type": "stream",
     "text": [
      "[1] 1\n",
      "[1] 4\n",
      "[1] 9\n",
      "[1] 16\n",
      "[1] 25\n",
      "[1] \"Finished\"\n"
     ]
    }
   ],
   "source": [
    "for (number in c(1, 2, 3, 4, 5)) {\n",
    "  print(number ^ 2)\n",
    "}\n",
    "print(\"Finished\")"
   ]
  },
  {
   "cell_type": "markdown",
   "metadata": {},
   "source": [
    "### **`if`, `else if` and `else`**"
   ]
  },
  {
   "cell_type": "code",
   "execution_count": 22,
   "metadata": {
    "vscode": {
     "languageId": "r"
    }
   },
   "outputs": [
    {
     "name": "stdout",
     "output_type": "stream",
     "text": [
      "[1] \"Positive\"\n"
     ]
    }
   ],
   "source": [
    "number <- 1\n",
    "\n",
    "if (number > 0) {\n",
    "  print(\"Positive\")\n",
    "} else if (number < 0) {\n",
    "  print(\"Negative\")\n",
    "} else {\n",
    "  print(\"Zero\")\n",
    "}"
   ]
  },
  {
   "cell_type": "markdown",
   "metadata": {},
   "source": [
    "## Functions\n",
    "\n",
    "Functions in R are assigned similar to how variable values are assigned, with the `<-` symbol. The `function()` function defines the argument list"
   ]
  },
  {
   "cell_type": "code",
   "execution_count": 23,
   "metadata": {
    "vscode": {
     "languageId": "r"
    }
   },
   "outputs": [],
   "source": [
    "reverse_string <- function(string) {\n",
    "  reversed_string <- \"\"\n",
    "\n",
    "  for (character in strsplit(string, \"\")[[1]]) {\n",
    "    reversed_string <- paste(c(character, reversed_string), collapse = \"\")\n",
    "  }\n",
    "  return(reversed_string)\n",
    "}"
   ]
  },
  {
   "cell_type": "code",
   "execution_count": 24,
   "metadata": {
    "vscode": {
     "languageId": "r"
    }
   },
   "outputs": [
    {
     "name": "stdout",
     "output_type": "stream",
     "text": [
      "[1] \"orecauga noc ,síraP ne ériroM\"\n"
     ]
    }
   ],
   "source": [
    "print(reverse_string(\"Moriré en París, con aguacero\"))"
   ]
  },
  {
   "cell_type": "markdown",
   "metadata": {},
   "source": [
    "## Classes\n",
    "\n",
    "There are three class systems in R: S3, S4, and ReferenceClass.\n",
    "\n",
    "### **`S3`**\n",
    "\n",
    "S3 classes are the oldest kind of class in R, and the most commonly used ones. They are not formally defined. Instead, an object is assigned an S3 class. The object's class becomes one of its attributes"
   ]
  },
  {
   "cell_type": "code",
   "execution_count": 25,
   "metadata": {
    "vscode": {
     "languageId": "r"
    }
   },
   "outputs": [
    {
     "data": {
      "text/plain": [
       "$title\n",
       "[1] \"Harms of AI\"\n",
       "\n",
       "$author\n",
       "[1] \"Acemoglu, D\"\n",
       "\n",
       "$year\n",
       "[1] 2021\n",
       "\n",
       "attr(,\"class\")\n",
       "[1] \"Paper_info\""
      ]
     },
     "metadata": {},
     "output_type": "display_data"
    }
   ],
   "source": [
    "paper1 <- list(title = \"Harms of AI\", author = \"Acemoglu, D\", year = 2021)\n",
    "\n",
    "class(paper1) <- \"Paper_info\"\n",
    "\n",
    "paper1"
   ]
  },
  {
   "cell_type": "code",
   "execution_count": 26,
   "metadata": {
    "vscode": {
     "languageId": "r"
    }
   },
   "outputs": [
    {
     "data": {
      "text/html": [
       "'Paper_info'"
      ],
      "text/latex": [
       "'Paper\\_info'"
      ],
      "text/markdown": [
       "'Paper_info'"
      ],
      "text/plain": [
       "[1] \"Paper_info\""
      ]
     },
     "metadata": {},
     "output_type": "display_data"
    }
   ],
   "source": [
    "class(paper1)"
   ]
  },
  {
   "cell_type": "markdown",
   "metadata": {},
   "source": [
    "### **`S4`**\n",
    "\n",
    "S4 classes extend the S3 class system. Here, we can formally define a structure of the attributes that the class's instances will have. To create an instance, we use the `new()` constructor function, whose first argument specifies the class of the instance it will be creating.\n",
    "\n",
    "We must first formally define the class with the `setClass()` function. The `slots` argument takes a list of attributes we want our class to have, and each of their classes"
   ]
  },
  {
   "cell_type": "code",
   "execution_count": 27,
   "metadata": {
    "vscode": {
     "languageId": "r"
    }
   },
   "outputs": [],
   "source": [
    "setClass(\n",
    "  \"Paper_info\",\n",
    "  slots = list(title = \"character\", author = \"character\", year = \"numeric\")\n",
    ")"
   ]
  },
  {
   "cell_type": "code",
   "execution_count": 28,
   "metadata": {
    "vscode": {
     "languageId": "r"
    }
   },
   "outputs": [],
   "source": [
    "paper1 <- new(\n",
    "  \"Paper_info\",\n",
    "  title = \"Harms of AI\",\n",
    "  author = \"Acemoglu, D.\",\n",
    "  year = 2021\n",
    ")"
   ]
  },
  {
   "cell_type": "markdown",
   "metadata": {},
   "source": [
    "We can access our class instance's attributes with the `attr()` function"
   ]
  },
  {
   "cell_type": "code",
   "execution_count": 29,
   "metadata": {
    "vscode": {
     "languageId": "r"
    }
   },
   "outputs": [
    {
     "data": {
      "text/html": [
       "'Acemoglu, D.'"
      ],
      "text/latex": [
       "'Acemoglu, D.'"
      ],
      "text/markdown": [
       "'Acemoglu, D.'"
      ],
      "text/plain": [
       "[1] \"Acemoglu, D.\""
      ]
     },
     "metadata": {},
     "output_type": "display_data"
    }
   ],
   "source": [
    "attr(paper1, \"author\")"
   ]
  },
  {
   "cell_type": "markdown",
   "metadata": {},
   "source": [
    "### **`ReferenceClass`**\n",
    "\n",
    "Reference classes are a later addition and are more similar to classes in Python. They are defined with the `setRefClass()` function."
   ]
  },
  {
   "cell_type": "code",
   "execution_count": 30,
   "metadata": {
    "vscode": {
     "languageId": "r"
    }
   },
   "outputs": [],
   "source": [
    "paper_info <- setRefClass(\n",
    "  \"paper_info\",\n",
    "  fields = list(title = \"character\", author = \"character\", year = \"numeric\")\n",
    ")\n"
   ]
  },
  {
   "cell_type": "code",
   "execution_count": 31,
   "metadata": {
    "vscode": {
     "languageId": "r"
    }
   },
   "outputs": [
    {
     "data": {
      "text/plain": [
       "Reference class object of class \"paper_info\"\n",
       "Field \"title\":\n",
       "[1] \"Harms of AI\"\n",
       "Field \"author\":\n",
       "[1] \"Acemoglu, D.\"\n",
       "Field \"year\":\n",
       "[1] 2021"
      ]
     },
     "metadata": {},
     "output_type": "display_data"
    }
   ],
   "source": [
    "paper1 <- paper_info(\n",
    "  title = \"Harms of AI\",\n",
    "  author = \"Acemoglu, D.\",\n",
    "  year = 2021\n",
    ")\n",
    "paper1"
   ]
  }
 ],
 "metadata": {
  "kernelspec": {
   "display_name": "R",
   "language": "R",
   "name": "ir"
  },
  "language_info": {
   "codemirror_mode": "r",
   "file_extension": ".r",
   "mimetype": "text/x-r-source",
   "name": "R",
   "pygments_lexer": "r",
   "version": "4.4.1"
  }
 },
 "nbformat": 4,
 "nbformat_minor": 2
}
