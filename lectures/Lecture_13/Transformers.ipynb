{
 "cells": [
  {
   "cell_type": "code",
   "execution_count": 3,
   "id": "049c7ad6",
   "metadata": {},
   "outputs": [],
   "source": [
    "from transformers import BertTokenizer, BertModel\n",
    "import torch\n",
    "\n",
    "# Load pre-trained BERT tokenizer and model\n",
    "tokenizer = BertTokenizer.from_pretrained('bert-base-uncased')\n",
    "model = BertModel.from_pretrained('bert-base-uncased')\n",
    "\n",
    "# Sample sentence\n",
    "sentence = \"\"\"HIGH QUALITY LEATHER: Handcrafted in Colombia by \n",
    "artisans with over 30 years of experience, this incredible \n",
    "messenger bag is not just stylish but also built to last. \n",
    "Crafted with meticulous hand-stitched detailing and 100% TOP\n",
    "GRAIN LEATHER , making it exceptionally durable and wear-resistant.\n",
    "The soft and smooth touch of the leather, gives this mens bag a vintage\n",
    "and distinctive appeal. Elevate your style with a bag that stands out for\n",
    "its quality and character \"\"\"\n",
    "\n",
    "# Tokenize the input sentence and convert to tensor\n",
    "inputs = tokenizer(sentence, return_tensors='pt')"
   ]
  },
  {
   "cell_type": "code",
   "execution_count": 6,
   "id": "8ee5c88e",
   "metadata": {},
   "outputs": [
    {
     "data": {
      "text/plain": [
       "tensor([[[-0.3646, -0.3940, -0.3263,  ..., -0.1328, -0.1954, -0.5227],\n",
       "         [-0.4322, -0.0739,  0.2203,  ...,  0.2197,  0.8191, -0.7834],\n",
       "         [ 0.3293, -0.9458,  0.2547,  ...,  0.1336,  0.4721, -1.3204],\n",
       "         ...,\n",
       "         [ 0.0897,  0.2833,  0.3596,  ...,  0.2944,  0.0804,  0.1775],\n",
       "         [-0.7270, -0.7914, -0.0365,  ..., -0.2865, -0.1392, -0.6270],\n",
       "         [ 0.4501,  0.0028, -0.1779,  ..., -0.0076, -0.6884, -0.2995]]])"
      ]
     },
     "execution_count": 6,
     "metadata": {},
     "output_type": "execute_result"
    }
   ],
   "source": [
    "# Get BERT embeddings\n",
    "with torch.no_grad():\n",
    "    outputs = model(**inputs)\n",
    "\n",
    "# The last hidden states are the embeddings\n",
    "last_hidden_states = outputs.last_hidden_state\n",
    "last_hidden_states"
   ]
  },
  {
   "cell_type": "code",
   "execution_count": 10,
   "id": "bf90e21c",
   "metadata": {},
   "outputs": [
    {
     "name": "stdout",
     "output_type": "stream",
     "text": [
      "Shape of the embeddings: torch.Size([1, 98, 768])\n"
     ]
    }
   ],
   "source": [
    "# Print the shape of the embeddings\n",
    "print(f\"Shape of the embeddings: {last_hidden_states.shape}\")\n",
    "\n",
    "# # To get the embeddings for the [CLS] token\n",
    "# cls_embedding = last_hidden_states[0, 0, :]\n",
    "# print(f\"Shape of the [CLS] token embedding: {cls_embedding.shape}\")"
   ]
  },
  {
   "cell_type": "code",
   "execution_count": null,
   "id": "67d2c53f",
   "metadata": {},
   "outputs": [],
   "source": []
  }
 ],
 "metadata": {
  "kernelspec": {
   "display_name": "Python 3 (ipykernel)",
   "language": "python",
   "name": "python3"
  },
  "language_info": {
   "codemirror_mode": {
    "name": "ipython",
    "version": 3
   },
   "file_extension": ".py",
   "mimetype": "text/x-python",
   "name": "python",
   "nbconvert_exporter": "python",
   "pygments_lexer": "ipython3",
   "version": "3.8.12"
  }
 },
 "nbformat": 4,
 "nbformat_minor": 5
}
